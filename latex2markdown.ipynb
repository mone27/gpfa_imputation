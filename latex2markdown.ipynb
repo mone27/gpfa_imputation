{
 "cells": [
  {
   "cell_type": "code",
   "execution_count": null,
   "id": "784d3834-586c-4a9a-aaae-b61d8a880e53",
   "metadata": {},
   "outputs": [],
   "source": [
    "inp = r\"\"\"\\paragraph{Missing observations}\n",
    "\n",
    "\\subparagraph{}\n",
    "If all the observations at time $t$ are missing the correct step is skipped and the filtered state at time $t$ (equation \\ref{filter_predict}) is the same of the filtered state.\n",
    "\n",
    "\\subparagraph{}\n",
    "If only some observations are missing a variation of equation \\ref{filter_predict} can be used.\n",
    "\n",
    "$y^{ng}_t$ is a vector containing the observations that are not missing at time $t$. \n",
    "\n",
    "It can be expressed as a linear transformation of $y_t$\n",
    "\n",
    "$$ y^{ng}_t = My_t$$\n",
    "\n",
    "where $M$ is a mask matrix that is used to select the subset of $y_t$ that is observed. $M \\in \\mathbb{R}^{n_{ng} \\times n}$ and is made of columns which are made of all zeros but for an entry 1 at row corresponding to the non-missing observation.\n",
    "hence:\n",
    "\n",
    "$$ p(y^{ng}_t) = \\mathcal{N}(M\\mu_{y_t},  M\\Sigma_{y_t}M^T)$$\n",
    "\n",
    "from which you can derive\n",
    "\n",
    "\\begin{equation}\\label{filter_correct_obs_missing}\n",
    "    p(y^{ng}_t|x_t) = p(MHx_t + Mb, MRM^T) \n",
    "\\end{equation}\n",
    "\n",
    "Then the posterior $p(x_t|y_t^{ng})$ can be computed similarly of equation \\ref{filter_correct} as:\n",
    "\n",
    "\\begin{equation}\\label{filter_correct_missing}\n",
    " p(x_t|y^{ng}_t) = \\mathcal{N}(x_t; m_t, P_t)   \n",
    "\\end{equation}\n",
    "    \n",
    "where:\n",
    "\n",
    "\\begin{itemize}\n",
    "    \\item predicted obs mean: $z_t = MHm_t^- + Md$   \n",
    "    \\item predicted obs covariance: $S_t = MHP_t^-(MH)^T + MRM^T$\n",
    "    \\item Kalman gain $K_t = P_t^-(MH)^TS_t^{-1}$ \n",
    "    \\item corrected state mean: $m_t = m_t^- + K_t(y_t - z_t)$ \n",
    "    \\item corrected state covariance: $P_t = (I-K_tMH)P_t^-$ \n",
    "\\end{itemize}\"\"\""
   ]
  },
  {
   "cell_type": "code",
   "execution_count": null,
   "id": "10cef63e-6726-4e9e-8416-964bc2dcbd52",
   "metadata": {},
   "outputs": [
    {
     "name": "stdout",
     "output_type": "stream",
     "text": [
      "\\paragraph{Missing observations}\n",
      "\n",
      "\\subparagraph{}\n",
      "If all the observations at time $t$ are missing the correct step is skipped and the filtered state at time $t$ (equation \\ref{filter_predict}) is the same of the filtered state.\n",
      "\n",
      "\\subparagraph{}\n",
      "If only some observations are missing a variation of equation \\ref{filter_predict} can be used.\n",
      "\n",
      "$y^{ng}_t$ is a vector containing the observations that are not missing at time $t$. \n",
      "\n",
      "It can be expressed as a linear transformation of $y_t$\n",
      "\n",
      "$$ y^{ng}_t = My_t$$\n",
      "\n",
      "where $M$ is a mask matrix that is used to select the subset of $y_t$ that is observed. $M \\in \\mathbb{R}^{n_{ng} \\times n}$ and is made of columns which are made of all zeros but for an entry 1 at row corresponding to the non-missing observation.\n",
      "hence:\n",
      "\n",
      "$$ p(y^{ng}_t) = \\mathcal{N}(M\\mu_{y_t},  M\\Sigma_{y_t}M^T)$$\n",
      "\n",
      "from which you can derive\n",
      "\n",
      "\\begin{equation}\\label{filter_correct_obs_missing}\n",
      "    p(y^{ng}_t|x_t) = p(MHx_t + Mb, MRM^T) \n",
      "\\end{equation}\n",
      "\n",
      "Then the posterior $p(x_t|y_t^{ng})$ can be computed similarly of equation \\ref{filter_correct} as:\n",
      "\n",
      "\\begin{equation}\\label{filter_correct_missing}\n",
      " p(x_t|y^{ng}_t) = \\mathcal{N}(x_t; m_t, P_t)   \n",
      "\\end{equation}\n",
      "    \n",
      "where:\n",
      "\n",
      "\n",
      "\n",
      "*  predicted obs mean: $z_t = MHm_t^- + Md$\n",
      "*  predicted obs covariance: $S_t = MHP_t^-(MH)^T + MRM^T$\n",
      "*  Kalman gain $K_t = P_t^-(MH)^TS_t^{-1}$\n",
      "*  corrected state mean: $m_t = m_t^- + K_t(y_t - z_t)$\n",
      "*  corrected state covariance: $P_t = (I-K_tMH)P_t^-$\n"
     ]
    }
   ],
   "source": [
    "import latex2markdown\n",
    "\n",
    "latex_string = inp\n",
    "\n",
    "l2m = latex2markdown.LaTeX2Markdown(latex_string)\n",
    "\n",
    "markdown_string = l2m.to_markdown()\n",
    "\n",
    "print(markdown_string)"
   ]
  },
  {
   "cell_type": "code",
   "execution_count": null,
   "id": "cb2f9514-cbd7-4811-8b1a-908c45fd10c5",
   "metadata": {},
   "outputs": [],
   "source": []
  },
  {
   "cell_type": "code",
   "execution_count": null,
   "id": "b559fb48-f549-45d6-a7fd-7a44309becff",
   "metadata": {},
   "outputs": [],
   "source": []
  }
 ],
 "metadata": {
  "kernelspec": {
   "display_name": "Python 3 (ipykernel)",
   "language": "python",
   "name": "python3"
  },
  "widgets": {
   "application/vnd.jupyter.widget-state+json": {
    "state": {},
    "version_major": 2,
    "version_minor": 0
   }
  }
 },
 "nbformat": 4,
 "nbformat_minor": 5
}
