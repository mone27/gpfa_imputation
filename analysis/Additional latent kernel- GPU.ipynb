{
 "cells": [
  {
   "cell_type": "markdown",
   "id": "fac1f104-a2a4-4df5-adb0-245506f29df8",
   "metadata": {},
   "source": [
    "# Additional latent kernel"
   ]
  },
  {
   "cell_type": "code",
   "execution_count": null,
   "id": "55f57462-7a6e-4c7f-9f30-ada32ccca4c3",
   "metadata": {},
   "outputs": [],
   "source": [
    "%load_ext autoreload\n",
    "%autoreload 2"
   ]
  },
  {
   "cell_type": "code",
   "execution_count": null,
   "id": "4b43be32-6cc8-4a2c-85c9-c6e6a48d599b",
   "metadata": {},
   "outputs": [],
   "source": [
    "from meteo_imp.gpfa.imputation import *\n",
    "from meteo_imp.gpfa.data_preparation import *\n",
    "from meteo_imp.gpfa.results import *\n",
    "from meteo_imp.gpfa.gpfa import *\n",
    "from meteo_imp.gpfa.results import _display_as_row\n",
    "\n",
    "import torch\n",
    "import pandas as pd\n",
    "import numpy as np\n",
    "from pathlib import Path\n",
    "from pyprojroot import here\n",
    "import matplotlib.pyplot as plt\n",
    "\n",
    "from meteo_imp.utils import *\n",
    "from gpytorch.kernels import *\n",
    "import gpytorch\n",
    "\n",
    "cp = here() / \".cache\" / \"add_kernel_gpu.pickle\""
   ]
  },
  {
   "cell_type": "markdown",
   "id": "4698cedb-ee6d-4d18-b772-93f44f650460",
   "metadata": {},
   "source": [
    "## Setup"
   ]
  },
  {
   "cell_type": "markdown",
   "id": "4ba1c032-cc00-4956-8bb5-90c2f08065a4",
   "metadata": {},
   "source": [
    "### Load Data\n",
    "\n",
    "take the first 200 rows from the Hainich dataset"
   ]
  },
  {
   "cell_type": "code",
   "execution_count": null,
   "id": "89710054-aa89-49a3-add0-4e16e0ec1c00",
   "metadata": {},
   "outputs": [],
   "source": [
    "hai_path = Path(\"FLX_DE-Hai_FLUXNET2015_FULLSET_HH_2000-2012_1-4.csv\")\n",
    "hai_raw = pd.read_csv(here(\"data\") / hai_path, na_values=[\"-9999\", \"-9999.99\"], parse_dates=[0, 1], nrows=1000)"
   ]
  },
  {
   "cell_type": "code",
   "execution_count": null,
   "id": "d2662e9d-5dcc-4c53-8b2b-5424504d96c3",
   "metadata": {},
   "outputs": [
    {
     "data": {
      "text/html": [
       "<div>\n",
       "<style scoped>\n",
       "    .dataframe tbody tr th:only-of-type {\n",
       "        vertical-align: middle;\n",
       "    }\n",
       "\n",
       "    .dataframe tbody tr th {\n",
       "        vertical-align: top;\n",
       "    }\n",
       "\n",
       "    .dataframe thead th {\n",
       "        text-align: right;\n",
       "    }\n",
       "</style>\n",
       "<table border=\"1\" class=\"dataframe\">\n",
       "  <thead>\n",
       "    <tr style=\"text-align: right;\">\n",
       "      <th></th>\n",
       "      <th>TA</th>\n",
       "      <th>SW_IN</th>\n",
       "      <th>VPD</th>\n",
       "    </tr>\n",
       "    <tr>\n",
       "      <th>TIMESTAMP_END</th>\n",
       "      <th></th>\n",
       "      <th></th>\n",
       "      <th></th>\n",
       "    </tr>\n",
       "  </thead>\n",
       "  <tbody>\n",
       "    <tr>\n",
       "      <th>2000-01-01 00:30:00</th>\n",
       "      <td>-0.60</td>\n",
       "      <td>0.0</td>\n",
       "      <td>0.222</td>\n",
       "    </tr>\n",
       "    <tr>\n",
       "      <th>2000-01-01 01:00:00</th>\n",
       "      <td>-0.65</td>\n",
       "      <td>0.0</td>\n",
       "      <td>0.122</td>\n",
       "    </tr>\n",
       "    <tr>\n",
       "      <th>2000-01-01 01:30:00</th>\n",
       "      <td>-0.58</td>\n",
       "      <td>0.0</td>\n",
       "      <td>0.090</td>\n",
       "    </tr>\n",
       "    <tr>\n",
       "      <th>2000-01-01 02:00:00</th>\n",
       "      <td>-0.51</td>\n",
       "      <td>0.0</td>\n",
       "      <td>0.110</td>\n",
       "    </tr>\n",
       "    <tr>\n",
       "      <th>2000-01-01 02:30:00</th>\n",
       "      <td>-0.49</td>\n",
       "      <td>0.0</td>\n",
       "      <td>0.102</td>\n",
       "    </tr>\n",
       "    <tr>\n",
       "      <th>...</th>\n",
       "      <td>...</td>\n",
       "      <td>...</td>\n",
       "      <td>...</td>\n",
       "    </tr>\n",
       "    <tr>\n",
       "      <th>2000-01-21 18:00:00</th>\n",
       "      <td>-0.81</td>\n",
       "      <td>0.0</td>\n",
       "      <td>1.892</td>\n",
       "    </tr>\n",
       "    <tr>\n",
       "      <th>2000-01-21 18:30:00</th>\n",
       "      <td>-0.81</td>\n",
       "      <td>0.0</td>\n",
       "      <td>1.744</td>\n",
       "    </tr>\n",
       "    <tr>\n",
       "      <th>2000-01-21 19:00:00</th>\n",
       "      <td>-0.90</td>\n",
       "      <td>0.0</td>\n",
       "      <td>2.118</td>\n",
       "    </tr>\n",
       "    <tr>\n",
       "      <th>2000-01-21 19:30:00</th>\n",
       "      <td>-1.09</td>\n",
       "      <td>0.0</td>\n",
       "      <td>2.528</td>\n",
       "    </tr>\n",
       "    <tr>\n",
       "      <th>2000-01-21 20:00:00</th>\n",
       "      <td>-1.23</td>\n",
       "      <td>0.0</td>\n",
       "      <td>2.677</td>\n",
       "    </tr>\n",
       "  </tbody>\n",
       "</table>\n",
       "<p>1000 rows × 3 columns</p>\n",
       "</div>"
      ],
      "text/plain": [
       "                       TA  SW_IN    VPD\n",
       "TIMESTAMP_END                          \n",
       "2000-01-01 00:30:00 -0.60    0.0  0.222\n",
       "2000-01-01 01:00:00 -0.65    0.0  0.122\n",
       "2000-01-01 01:30:00 -0.58    0.0  0.090\n",
       "2000-01-01 02:00:00 -0.51    0.0  0.110\n",
       "2000-01-01 02:30:00 -0.49    0.0  0.102\n",
       "...                   ...    ...    ...\n",
       "2000-01-21 18:00:00 -0.81    0.0  1.892\n",
       "2000-01-21 18:30:00 -0.81    0.0  1.744\n",
       "2000-01-21 19:00:00 -0.90    0.0  2.118\n",
       "2000-01-21 19:30:00 -1.09    0.0  2.528\n",
       "2000-01-21 20:00:00 -1.23    0.0  2.677\n",
       "\n",
       "[1000 rows x 3 columns]"
      ]
     },
     "execution_count": null,
     "metadata": {},
     "output_type": "execute_result"
    }
   ],
   "source": [
    "meteo_vars = {\n",
    "    \"TA_F\": \"TA\",\n",
    "    \"SW_IN_F\": \"SW_IN\",\n",
    "    # \"LW_IN_F\": \"LW_IN\",\n",
    "    \"VPD_F\": \"VPD\",\n",
    "    #\"PA\": \"PA\"\n",
    "}\n",
    "\n",
    "units = {\n",
    "    'TA': '°C',\n",
    "    'SW_IN': 'W m-2',\n",
    "    'LW_IN': 'W m-2',\n",
    "    'VPD': 'hPa'\n",
    "}\n",
    "\n",
    "hai = (hai_raw\n",
    "       .rename(columns=meteo_vars)\n",
    "       .set_index(\"TIMESTAMP_END\")\n",
    "       .loc[:, meteo_vars.values()])\n",
    "hai"
   ]
  },
  {
   "cell_type": "markdown",
   "id": "3b0d32fe-e4fa-40a7-ace2-5c7aeaee855f",
   "metadata": {},
   "source": [
    "### Custom kernel"
   ]
  },
  {
   "cell_type": "code",
   "execution_count": null,
   "id": "6d7e49ad-c117-440f-bdbe-0431a2ee76eb",
   "metadata": {},
   "outputs": [],
   "source": [
    "def _get_lengthscale_info(kernel: RBFKernel, suffix=''):\n",
    "        ls = kernel.lengthscale.detach().item()\n",
    "        return pd.DataFrame({\n",
    "            'lengthscale'+suffix: [ls]\n",
    "        }) "
   ]
  },
  {
   "cell_type": "code",
   "execution_count": null,
   "id": "813c47c6-bc02-47ef-a044-6482f3bfd5a8",
   "metadata": {},
   "outputs": [],
   "source": [
    "def _get_outscale_info(kernel: ScaleKernel, suffix=''):\n",
    "        ls = kernel.outputscale.detach().item()\n",
    "        return pd.DataFrame({\n",
    "            'outscale'+suffix: [ls]\n",
    "        }) "
   ]
  },
  {
   "cell_type": "code",
   "execution_count": null,
   "id": "e86d5a61-ef70-42f9-b092-fe9e36bbe022",
   "metadata": {},
   "outputs": [],
   "source": [
    "class GPFAMultiRbf(GPFA):\n",
    "    latent_kernel = lambda x: AdditiveKernel(RBFKernel(), ScaleKernel(RBFKernel()))\n",
    "    \n",
    "    \n",
    "    def get_info(self: GPFA,\n",
    "             var_names = None # Optional variable names for better printing\n",
    "            ) -> dict[str, pd.DataFrame]:\n",
    "        \"Model info for a GPFA with a RBFKernel\"\n",
    "        out = {}\n",
    "\n",
    "        latent_names = [f\"z{i}\" for i in range(self.covar_module.latent_dims)]\n",
    "\n",
    "        out[\"Lambda\"] = pd.concat([\n",
    "            None if var_names is None else pd.Series(var_names),\n",
    "            pd.DataFrame(\n",
    "                self.covar_module.Lambda.detach().cpu().numpy(),\n",
    "                columns=latent_names)],\n",
    "            axis=1)\n",
    "\n",
    "        ls_all = []\n",
    "        l_kernels = self.covar_module.latent_kernels\n",
    "        for kernel in list(l_kernels):\n",
    "            ls_s = [_get_lengthscale_info(kernel.kernels[0], \"_k0\")]\n",
    "            ls_s.append(_get_lengthscale_info(kernel.kernels[1].base_kernel, \"_k1\")) # this is a scale kernel\n",
    "            ls_all.append(pd.concat(ls_s, axis=1)) # attach multiple columns\n",
    "\n",
    "        ls_all = pd.concat(ls_all)\n",
    "        ls_all.insert(0, 'latent', latent_names)\n",
    "        out[\"Lengthscale\"] = ls_all\n",
    "        \n",
    "        os_all = []\n",
    "        l_kernels = self.covar_module.latent_kernels\n",
    "        for kernel in list(l_kernels):\n",
    "            os_s = [pd.DataFrame({'outscale_k0': [1] })] # there is no scaling here\n",
    "            os_s.append(_get_outscale_info(kernel.kernels[1], \"_k1\"))\n",
    "            os_all.append(pd.concat(os_s, axis=1)) # attach multiple columns\n",
    "\n",
    "        os_all = pd.concat(os_all)\n",
    "        os_all.insert(0, 'latent', latent_names)\n",
    "        out[\"Outscale\"] = os_all\n",
    "\n",
    "        psi = self.covar_module.psi.detach().cpu().numpy()\n",
    "        out[\"Psi\"] = pd.DataFrame({\n",
    "            'variable': var_names,\n",
    "            'psi': psi \n",
    "        })\n",
    "\n",
    "        out[\"Likelihood\"] = pd.DataFrame({'noise': [self.likelihood.noise_covar.noise.item()]})\n",
    "\n",
    "        return out"
   ]
  },
  {
   "cell_type": "code",
   "execution_count": null,
   "id": "62691966-7b7a-4ca6-9987-58fbc2f5e6dc",
   "metadata": {},
   "outputs": [],
   "source": [
    "k = GPFAMultiRbf(torch.tensor([1,2,3]), torch.tensor([1,2,3]), gpytorch.likelihoods.GaussianLikelihood(), 2)"
   ]
  },
  {
   "cell_type": "code",
   "execution_count": null,
   "id": "23b9fe5e-d259-4d38-aa9f-2764f0c13026",
   "metadata": {},
   "outputs": [
    {
     "data": {
      "text/plain": [
       "GPFAMultiRbf(\n",
       "  (likelihood): GaussianLikelihood(\n",
       "    (noise_covar): HomoskedasticNoise(\n",
       "      (raw_noise_constraint): GreaterThan(1.000E-04)\n",
       "    )\n",
       "  )\n",
       "  (mean_module): GPFAZeroMean()\n",
       "  (covar_module): GPFAKernel(\n",
       "    (latent_kernels): ModuleList(\n",
       "      (0): AdditiveKernel(\n",
       "        (kernels): ModuleList(\n",
       "          (0): RBFKernel(\n",
       "            (raw_lengthscale_constraint): Positive()\n",
       "          )\n",
       "          (1): ScaleKernel(\n",
       "            (base_kernel): RBFKernel(\n",
       "              (raw_lengthscale_constraint): Positive()\n",
       "            )\n",
       "            (raw_outputscale_constraint): Positive()\n",
       "          )\n",
       "        )\n",
       "      )\n",
       "    )\n",
       "    (raw_psi_diag_constraint): Positive()\n",
       "  )\n",
       ")"
      ]
     },
     "execution_count": null,
     "metadata": {},
     "output_type": "execute_result"
    }
   ],
   "source": [
    "k"
   ]
  },
  {
   "cell_type": "code",
   "execution_count": null,
   "id": "7649058b-be9d-4516-94db-125bf5302e6f",
   "metadata": {},
   "outputs": [
    {
     "data": {
      "text/html": [
       "<p style='font-size: 1.5rem; font-decoration: bold'><p><div style=\"display: flex; column-gap: 20px; flex-wrap: wrap;\" class='table table-striped table-sm'> <div> <p style='font-size: 1.3rem;'>Lambda</p> <style type=\"text/css\">\n",
       "</style>\n",
       "<table id=\"T_d6bd4\">\n",
       "  <thead>\n",
       "    <tr>\n",
       "      <th id=\"T_d6bd4_level0_col0\" class=\"col_heading level0 col0\" >z0</th>\n",
       "    </tr>\n",
       "  </thead>\n",
       "  <tbody>\n",
       "    <tr>\n",
       "      <td id=\"T_d6bd4_row0_col0\" class=\"data row0 col0\" >0.1990</td>\n",
       "    </tr>\n",
       "    <tr>\n",
       "      <td id=\"T_d6bd4_row1_col0\" class=\"data row1 col0\" >0.8260</td>\n",
       "    </tr>\n",
       "  </tbody>\n",
       "</table>\n",
       " </div><div> <p style='font-size: 1.3rem;'>Lengthscale</p> <style type=\"text/css\">\n",
       "</style>\n",
       "<table id=\"T_2271e\">\n",
       "  <thead>\n",
       "    <tr>\n",
       "      <th id=\"T_2271e_level0_col0\" class=\"col_heading level0 col0\" >latent</th>\n",
       "      <th id=\"T_2271e_level0_col1\" class=\"col_heading level0 col1\" >lengthscale_k0</th>\n",
       "      <th id=\"T_2271e_level0_col2\" class=\"col_heading level0 col2\" >lengthscale_k1</th>\n",
       "    </tr>\n",
       "  </thead>\n",
       "  <tbody>\n",
       "    <tr>\n",
       "      <td id=\"T_2271e_row0_col0\" class=\"data row0 col0\" >z0</td>\n",
       "      <td id=\"T_2271e_row0_col1\" class=\"data row0 col1\" >0.6931</td>\n",
       "      <td id=\"T_2271e_row0_col2\" class=\"data row0 col2\" >0.6931</td>\n",
       "    </tr>\n",
       "  </tbody>\n",
       "</table>\n",
       " </div><div> <p style='font-size: 1.3rem;'>Outscale</p> <style type=\"text/css\">\n",
       "</style>\n",
       "<table id=\"T_cb1ed\">\n",
       "  <thead>\n",
       "    <tr>\n",
       "      <th id=\"T_cb1ed_level0_col0\" class=\"col_heading level0 col0\" >latent</th>\n",
       "      <th id=\"T_cb1ed_level0_col1\" class=\"col_heading level0 col1\" >outscale_k0</th>\n",
       "      <th id=\"T_cb1ed_level0_col2\" class=\"col_heading level0 col2\" >outscale_k1</th>\n",
       "    </tr>\n",
       "  </thead>\n",
       "  <tbody>\n",
       "    <tr>\n",
       "      <td id=\"T_cb1ed_row0_col0\" class=\"data row0 col0\" >z0</td>\n",
       "      <td id=\"T_cb1ed_row0_col1\" class=\"data row0 col1\" >1</td>\n",
       "      <td id=\"T_cb1ed_row0_col2\" class=\"data row0 col2\" >0.6931</td>\n",
       "    </tr>\n",
       "  </tbody>\n",
       "</table>\n",
       " </div><div> <p style='font-size: 1.3rem;'>Psi</p> <style type=\"text/css\">\n",
       "</style>\n",
       "<table id=\"T_15f11\">\n",
       "  <thead>\n",
       "    <tr>\n",
       "      <th id=\"T_15f11_level0_col0\" class=\"col_heading level0 col0\" >variable</th>\n",
       "      <th id=\"T_15f11_level0_col1\" class=\"col_heading level0 col1\" >psi</th>\n",
       "    </tr>\n",
       "  </thead>\n",
       "  <tbody>\n",
       "    <tr>\n",
       "      <td id=\"T_15f11_row0_col0\" class=\"data row0 col0\" >None</td>\n",
       "      <td id=\"T_15f11_row0_col1\" class=\"data row0 col1\" >0.6931</td>\n",
       "    </tr>\n",
       "    <tr>\n",
       "      <td id=\"T_15f11_row1_col0\" class=\"data row1 col0\" >None</td>\n",
       "      <td id=\"T_15f11_row1_col1\" class=\"data row1 col1\" >0.6931</td>\n",
       "    </tr>\n",
       "  </tbody>\n",
       "</table>\n",
       " </div><div> <p style='font-size: 1.3rem;'>Likelihood</p> <style type=\"text/css\">\n",
       "</style>\n",
       "<table id=\"T_6eb03\">\n",
       "  <thead>\n",
       "    <tr>\n",
       "      <th id=\"T_6eb03_level0_col0\" class=\"col_heading level0 col0\" >noise</th>\n",
       "    </tr>\n",
       "  </thead>\n",
       "  <tbody>\n",
       "    <tr>\n",
       "      <td id=\"T_6eb03_row0_col0\" class=\"data row0 col0\" >0.6932</td>\n",
       "    </tr>\n",
       "  </tbody>\n",
       "</table>\n",
       " </div></div>"
      ],
      "text/plain": [
       "<IPython.core.display.HTML object>"
      ]
     },
     "metadata": {},
     "output_type": "display_data"
    }
   ],
   "source": [
    "_display_as_row(k.get_info())"
   ]
  },
  {
   "cell_type": "code",
   "execution_count": null,
   "id": "d62c97b7-2d03-4046-84bc-3bca6144a20b",
   "metadata": {},
   "outputs": [],
   "source": [
    "reset_seed()\n",
    "data = GPFADataTest(hai[:150]).add_random_missing()"
   ]
  },
  {
   "cell_type": "markdown",
   "id": "d286fdd1-1755-4151-8fea-30b6b6af87e6",
   "metadata": {},
   "source": [
    "### Compute "
   ]
  },
  {
   "cell_type": "code",
   "execution_count": null,
   "id": "adc5a620-610c-4c18-a1f6-f4f8ef14bc44",
   "metadata": {},
   "outputs": [],
   "source": [
    "data = GPFADataTest(hai[:500]).add_random_missing()\n",
    "imp = GPFAImputationExplorer(data.data, latent_dims=2, model=GPFAMultiRbf, cuda=True)"
   ]
  },
  {
   "cell_type": "code",
   "execution_count": null,
   "id": "3a4d8092-c54b-45ad-9398-742b0f2b7d91",
   "metadata": {},
   "outputs": [
    {
     "data": {
      "application/vnd.jupyter.widget-view+json": {
       "model_id": "ed9a671e3f1746f5a59309425a43257c",
       "version_major": 2,
       "version_minor": 0
      },
      "text/plain": [
       "  0%|          | 0/1 [00:00<?, ?it/s]"
      ]
     },
     "metadata": {},
     "output_type": "display_data"
    },
    {
     "name": "stdout",
     "output_type": "stream",
     "text": [
      "CPU times: user 1min 1s, sys: 1.4 s, total: 1min 2s\n",
      "Wall time: 1min 3s\n"
     ]
    },
    {
     "data": {
      "text/plain": [
       "GPFA Imputation Explorer:\n",
       "    N obs: 500\n",
       "    N features 3 (TA, SW_IN, VPD)\n",
       "    N missing observations 457\n",
       "    N latent: 2"
      ]
     },
     "execution_count": null,
     "metadata": {},
     "output_type": "execute_result"
    }
   ],
   "source": [
    "%time imp.fit(1)"
   ]
  },
  {
   "cell_type": "code",
   "execution_count": null,
   "id": "b22e64e9-6b4d-46c2-939e-426b4633c481",
   "metadata": {},
   "outputs": [],
   "source": [
    "data = GPFADataTest(hai[:1000]).add_random_missing()\n",
    "imp = GPFAImputationExplorer(data.data, latent_dims=2, model=GPFAMultiRbf, cuda=True)"
   ]
  },
  {
   "cell_type": "code",
   "execution_count": null,
   "id": "11d7d33c-690a-48a7-833f-327912b99435",
   "metadata": {},
   "outputs": [
    {
     "data": {
      "application/vnd.jupyter.widget-view+json": {
       "model_id": "542bf831a3fa4aea9428523091382730",
       "version_major": 2,
       "version_minor": 0
      },
      "text/plain": [
       "  0%|          | 0/1 [00:00<?, ?it/s]"
      ]
     },
     "metadata": {},
     "output_type": "display_data"
    },
    {
     "name": "stdout",
     "output_type": "stream",
     "text": [
      "CPU times: user 5min 1s, sys: 4.26 s, total: 5min 5s\n",
      "Wall time: 5min 9s\n"
     ]
    },
    {
     "data": {
      "text/plain": [
       "GPFA Imputation Explorer:\n",
       "    N obs: 1000\n",
       "    N features 3 (TA, SW_IN, VPD)\n",
       "    N missing observations 865\n",
       "    N latent: 2"
      ]
     },
     "execution_count": null,
     "metadata": {},
     "output_type": "execute_result"
    }
   ],
   "source": [
    "%time imp.fit(1)"
   ]
  },
  {
   "cell_type": "code",
   "execution_count": null,
   "id": "4ce700a7-3dfd-43cf-b8bb-183072c52074",
   "metadata": {},
   "outputs": [],
   "source": [
    "@cache_disk(cp)\n",
    "def compute_large():\n",
    "    reset_seed()\n",
    "    data = GPFADataTest(hai[:500]).add_random_missing()\n",
    "    imp = GPFAImputationExplorer(data.data, latent_dims=2, model=GPFAMultiRbf, cuda=True)\n",
    "    return imp.fit(), data"
   ]
  },
  {
   "cell_type": "markdown",
   "id": "bf2c9747-a2af-4307-bf7b-c3ecb092c624",
   "metadata": {},
   "source": [
    "## Small"
   ]
  },
  {
   "cell_type": "code",
   "execution_count": null,
   "id": "6d04638f-1e35-429f-900e-dc1285793d1a",
   "metadata": {},
   "outputs": [],
   "source": [
    "imp = GPFAImputation(data.data, latent_dims=2, model=GPFAMultiRbf)"
   ]
  },
  {
   "cell_type": "code",
   "execution_count": null,
   "id": "7f95525d-afc0-469c-913c-7d1c9445b08d",
   "metadata": {},
   "outputs": [],
   "source": [
    "imp.fit()"
   ]
  },
  {
   "cell_type": "code",
   "execution_count": null,
   "id": "56114404-4381-476c-8031-64618ac8a285",
   "metadata": {},
   "outputs": [],
   "source": [
    "imp.to_result(data.data_compl_tidy).display_results(plot_args={'bind_interaction': False})"
   ]
  },
  {
   "cell_type": "code",
   "execution_count": null,
   "id": "dd8e08ae-27f9-4a71-905b-32bc2875aec3",
   "metadata": {},
   "outputs": [],
   "source": []
  }
 ],
 "metadata": {
  "kernelspec": {
   "display_name": "data_science",
   "language": "python",
   "name": "data_science"
  },
  "widgets": {
   "application/vnd.jupyter.widget-state+json": {
    "state": {
     "030ec68855e5448687ca1a6d4e8cbbac": {
      "model_module": "@jupyter-widgets/base",
      "model_module_version": "2.0.0",
      "model_name": "LayoutModel",
      "state": {}
     },
     "0375ff16fec441d98f2a48aa9a0e36a2": {
      "model_module": "@jupyter-widgets/base",
      "model_module_version": "2.0.0",
      "model_name": "LayoutModel",
      "state": {}
     },
     "0f6768b651d5408aa1c72a8020de83b4": {
      "model_module": "@jupyter-widgets/base",
      "model_module_version": "2.0.0",
      "model_name": "LayoutModel",
      "state": {}
     },
     "17a0d4c8142241d7a2e1e9faf1577409": {
      "model_module": "@jupyter-widgets/base",
      "model_module_version": "2.0.0",
      "model_name": "LayoutModel",
      "state": {}
     },
     "1aec249fa2604899a5212098cdc50156": {
      "model_module": "@jupyter-widgets/controls",
      "model_module_version": "2.0.0",
      "model_name": "ProgressStyleModel",
      "state": {
       "description_width": ""
      }
     },
     "34994f492396401591c80c59ecaa0ca6": {
      "model_module": "@jupyter-widgets/controls",
      "model_module_version": "2.0.0",
      "model_name": "HTMLStyleModel",
      "state": {
       "description_width": "",
       "font_size": null,
       "text_color": null
      }
     },
     "3d3701799e48483b9712d1817a590e4d": {
      "model_module": "@jupyter-widgets/controls",
      "model_module_version": "2.0.0",
      "model_name": "HTMLModel",
      "state": {
       "layout": "IPY_MODEL_5a31966e202b455d912f33c0f7044392",
       "style": "IPY_MODEL_c9cae054cad3462eba280b6e0a1cd608",
       "value": " 1/1 [05:05&lt;00:00, 305.64s/it]"
      }
     },
     "4a9e89c69462402c831c6211028009ca": {
      "model_module": "@jupyter-widgets/base",
      "model_module_version": "2.0.0",
      "model_name": "LayoutModel",
      "state": {}
     },
     "4e32f93b4e7542919689d08476719f1d": {
      "model_module": "@jupyter-widgets/base",
      "model_module_version": "2.0.0",
      "model_name": "LayoutModel",
      "state": {}
     },
     "542bf831a3fa4aea9428523091382730": {
      "model_module": "@jupyter-widgets/controls",
      "model_module_version": "2.0.0",
      "model_name": "HBoxModel",
      "state": {
       "children": [
        "IPY_MODEL_6a5be80f34654151afb0fe241d032745",
        "IPY_MODEL_9141632ad45f41be85ac4031d39fc04b",
        "IPY_MODEL_3d3701799e48483b9712d1817a590e4d"
       ],
       "layout": "IPY_MODEL_4e32f93b4e7542919689d08476719f1d"
      }
     },
     "55d3f022aacb47e0bfcbf9639c7f944e": {
      "model_module": "@jupyter-widgets/controls",
      "model_module_version": "2.0.0",
      "model_name": "HTMLStyleModel",
      "state": {
       "description_width": "",
       "font_size": null,
       "text_color": null
      }
     },
     "5a31966e202b455d912f33c0f7044392": {
      "model_module": "@jupyter-widgets/base",
      "model_module_version": "2.0.0",
      "model_name": "LayoutModel",
      "state": {}
     },
     "5ebbc45b8cf04a1d94df0a9c3d66639c": {
      "model_module": "@jupyter-widgets/controls",
      "model_module_version": "2.0.0",
      "model_name": "FloatProgressModel",
      "state": {
       "bar_style": "success",
       "layout": "IPY_MODEL_17a0d4c8142241d7a2e1e9faf1577409",
       "max": 1,
       "style": "IPY_MODEL_995d73400b0e41888443efd4ca2902d1",
       "value": 1
      }
     },
     "5f61b482bd7a4df3b176930215570f5d": {
      "model_module": "@jupyter-widgets/controls",
      "model_module_version": "2.0.0",
      "model_name": "HBoxModel",
      "state": {
       "children": [
        "IPY_MODEL_8931df9fbfd54b52b31bd5ddcb621524",
        "IPY_MODEL_896e2bd6a2a34628aab84deda7aa69a9",
        "IPY_MODEL_aa7d5d1db56a4dbea73c309f6d799bd9"
       ],
       "layout": "IPY_MODEL_9e69e8fc1c504a53a36b8b93d8869c53"
      }
     },
     "617c5d533e65418b8ecd5f2b6879018b": {
      "model_module": "@jupyter-widgets/base",
      "model_module_version": "2.0.0",
      "model_name": "LayoutModel",
      "state": {}
     },
     "6a5be80f34654151afb0fe241d032745": {
      "model_module": "@jupyter-widgets/controls",
      "model_module_version": "2.0.0",
      "model_name": "HTMLModel",
      "state": {
       "layout": "IPY_MODEL_4a9e89c69462402c831c6211028009ca",
       "style": "IPY_MODEL_6dd15b5afb0343eeba15c876282f6788",
       "value": "100%"
      }
     },
     "6dd15b5afb0343eeba15c876282f6788": {
      "model_module": "@jupyter-widgets/controls",
      "model_module_version": "2.0.0",
      "model_name": "HTMLStyleModel",
      "state": {
       "description_width": "",
       "font_size": null,
       "text_color": null
      }
     },
     "7b6275aa3d1f4a279f9cd5920d8005ac": {
      "model_module": "@jupyter-widgets/controls",
      "model_module_version": "2.0.0",
      "model_name": "HTMLStyleModel",
      "state": {
       "description_width": "",
       "font_size": null,
       "text_color": null
      }
     },
     "8931df9fbfd54b52b31bd5ddcb621524": {
      "model_module": "@jupyter-widgets/controls",
      "model_module_version": "2.0.0",
      "model_name": "HTMLModel",
      "state": {
       "layout": "IPY_MODEL_ed9e84ae3fb3499b80b493e4d559d7ba",
       "style": "IPY_MODEL_7b6275aa3d1f4a279f9cd5920d8005ac",
       "value": "  0%"
      }
     },
     "896e2bd6a2a34628aab84deda7aa69a9": {
      "model_module": "@jupyter-widgets/controls",
      "model_module_version": "2.0.0",
      "model_name": "FloatProgressModel",
      "state": {
       "bar_style": "danger",
       "layout": "IPY_MODEL_617c5d533e65418b8ecd5f2b6879018b",
       "style": "IPY_MODEL_1aec249fa2604899a5212098cdc50156"
      }
     },
     "8c21763e741340b29a9b49eff4e3c174": {
      "model_module": "@jupyter-widgets/base",
      "model_module_version": "2.0.0",
      "model_name": "LayoutModel",
      "state": {}
     },
     "9141632ad45f41be85ac4031d39fc04b": {
      "model_module": "@jupyter-widgets/controls",
      "model_module_version": "2.0.0",
      "model_name": "FloatProgressModel",
      "state": {
       "bar_style": "success",
       "layout": "IPY_MODEL_8c21763e741340b29a9b49eff4e3c174",
       "max": 1,
       "style": "IPY_MODEL_ad2092a5367e4183b03e2ba6c692c5e2",
       "value": 1
      }
     },
     "995d73400b0e41888443efd4ca2902d1": {
      "model_module": "@jupyter-widgets/controls",
      "model_module_version": "2.0.0",
      "model_name": "ProgressStyleModel",
      "state": {
       "description_width": ""
      }
     },
     "9e69e8fc1c504a53a36b8b93d8869c53": {
      "model_module": "@jupyter-widgets/base",
      "model_module_version": "2.0.0",
      "model_name": "LayoutModel",
      "state": {}
     },
     "a9e6f5570f2242a0b4370304b1968603": {
      "model_module": "@jupyter-widgets/controls",
      "model_module_version": "2.0.0",
      "model_name": "HTMLModel",
      "state": {
       "layout": "IPY_MODEL_0375ff16fec441d98f2a48aa9a0e36a2",
       "style": "IPY_MODEL_55d3f022aacb47e0bfcbf9639c7f944e",
       "value": " 1/1 [01:02&lt;00:00, 62.79s/it]"
      }
     },
     "aa7d5d1db56a4dbea73c309f6d799bd9": {
      "model_module": "@jupyter-widgets/controls",
      "model_module_version": "2.0.0",
      "model_name": "HTMLModel",
      "state": {
       "layout": "IPY_MODEL_0f6768b651d5408aa1c72a8020de83b4",
       "style": "IPY_MODEL_b09d2d3f864e4180a11a27ac306dd6a0",
       "value": " 0/100 [01:11&lt;?, ?it/s]"
      }
     },
     "ad2092a5367e4183b03e2ba6c692c5e2": {
      "model_module": "@jupyter-widgets/controls",
      "model_module_version": "2.0.0",
      "model_name": "ProgressStyleModel",
      "state": {
       "description_width": ""
      }
     },
     "b09d2d3f864e4180a11a27ac306dd6a0": {
      "model_module": "@jupyter-widgets/controls",
      "model_module_version": "2.0.0",
      "model_name": "HTMLStyleModel",
      "state": {
       "description_width": "",
       "font_size": null,
       "text_color": null
      }
     },
     "bed3b7eefcaf40d98a45fb941e67a5f9": {
      "model_module": "@jupyter-widgets/controls",
      "model_module_version": "2.0.0",
      "model_name": "HTMLModel",
      "state": {
       "layout": "IPY_MODEL_dd94c6a901954199b12ba936ff8c0cf3",
       "style": "IPY_MODEL_34994f492396401591c80c59ecaa0ca6",
       "value": "100%"
      }
     },
     "c9cae054cad3462eba280b6e0a1cd608": {
      "model_module": "@jupyter-widgets/controls",
      "model_module_version": "2.0.0",
      "model_name": "HTMLStyleModel",
      "state": {
       "description_width": "",
       "font_size": null,
       "text_color": null
      }
     },
     "dd94c6a901954199b12ba936ff8c0cf3": {
      "model_module": "@jupyter-widgets/base",
      "model_module_version": "2.0.0",
      "model_name": "LayoutModel",
      "state": {}
     },
     "ed9a671e3f1746f5a59309425a43257c": {
      "model_module": "@jupyter-widgets/controls",
      "model_module_version": "2.0.0",
      "model_name": "HBoxModel",
      "state": {
       "children": [
        "IPY_MODEL_bed3b7eefcaf40d98a45fb941e67a5f9",
        "IPY_MODEL_5ebbc45b8cf04a1d94df0a9c3d66639c",
        "IPY_MODEL_a9e6f5570f2242a0b4370304b1968603"
       ],
       "layout": "IPY_MODEL_030ec68855e5448687ca1a6d4e8cbbac"
      }
     },
     "ed9e84ae3fb3499b80b493e4d559d7ba": {
      "model_module": "@jupyter-widgets/base",
      "model_module_version": "2.0.0",
      "model_name": "LayoutModel",
      "state": {}
     }
    },
    "version_major": 2,
    "version_minor": 0
   }
  }
 },
 "nbformat": 4,
 "nbformat_minor": 5
}
