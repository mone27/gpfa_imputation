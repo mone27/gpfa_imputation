{
 "cells": [
  {
   "cell_type": "markdown",
   "id": "9159351c-98be-4d58-b42b-f9291827fdd1",
   "metadata": {},
   "source": [
    "# PCA"
   ]
  },
  {
   "cell_type": "markdown",
   "id": "080712b6-f34f-4a3b-b55b-9b695ab59cd4",
   "metadata": {},
   "source": [
    "exploration of PCA for init parameters"
   ]
  },
  {
   "cell_type": "code",
   "execution_count": null,
   "id": "50d20d44-861a-4e0d-95dc-8ff9b3b02333",
   "metadata": {},
   "outputs": [],
   "source": [
    "from sklearn.decomposition import PCA\n",
    "import numpy as np"
   ]
  },
  {
   "cell_type": "code",
   "execution_count": null,
   "id": "d9899c34-eb4b-45a6-9127-84ce2cc50bb0",
   "metadata": {},
   "outputs": [],
   "source": [
    "t0 = np.random.randn(5,1) * 10\n",
    "tt = np.hstack([t0, 2 * t0 + np.random.randn(5,1), 3 * t0 + np.random.randn(5,1)])"
   ]
  },
  {
   "cell_type": "code",
   "execution_count": null,
   "id": "de7a115a-1a8c-4e64-9150-08dd45df4cce",
   "metadata": {},
   "outputs": [],
   "source": [
    "tt = np.vstack([tt, -tt])"
   ]
  },
  {
   "cell_type": "code",
   "execution_count": null,
   "id": "8c121463-bdfb-45aa-9c79-b7ffe07dc4cc",
   "metadata": {},
   "outputs": [
    {
     "data": {
      "text/plain": [
       "array([-8.88178420e-17,  0.00000000e+00, -1.59872116e-15])"
      ]
     },
     "execution_count": null,
     "metadata": {},
     "output_type": "execute_result"
    }
   ],
   "source": [
    "tt.mean(0)"
   ]
  },
  {
   "cell_type": "code",
   "execution_count": null,
   "id": "c906f9dc-ebae-4ed2-8662-2d934b24ea58",
   "metadata": {},
   "outputs": [],
   "source": [
    "def pca(X):\n",
    "    # Data matrix X, assumes 0-centered\n",
    "    n, m = X.shape\n",
    "    assert np.allclose(X.mean(axis=0), np.zeros(m))\n",
    "    # Compute covariance matrix\n",
    "    C = np.dot(X.T, X) / (n-1)\n",
    "    # Eigen decomposition\n",
    "    eigen_vals, eigen_vecs = np.linalg.eig(C)\n",
    "    # Project X onto PC space\n",
    "    X_pca = np.dot(X, eigen_vecs)\n",
    "    return X_pca, eigen_vecs"
   ]
  },
  {
   "cell_type": "code",
   "execution_count": null,
   "id": "07f665e4-8a7d-4eb3-beda-7116d662d886",
   "metadata": {},
   "outputs": [
    {
     "data": {
      "text/plain": [
       "(array([[ 4.86387982e+00, -1.41975358e-02,  1.92176031e+00],\n",
       "        [ 3.60233996e+01,  2.33725703e-01, -4.02597844e-01],\n",
       "        [ 3.09057872e+01, -3.14141537e-01,  1.15917989e+00],\n",
       "        [ 1.60022488e+01,  3.52349936e-01,  3.35200954e-01],\n",
       "        [ 2.04880798e+01, -2.08908751e-01, -1.75875946e+00],\n",
       "        [-4.86387982e+00,  1.41975358e-02, -1.92176031e+00],\n",
       "        [-3.60233996e+01, -2.33725703e-01,  4.02597844e-01],\n",
       "        [-3.09057872e+01,  3.14141537e-01, -1.15917989e+00],\n",
       "        [-1.60022488e+01, -3.52349936e-01, -3.35200954e-01],\n",
       "        [-2.04880798e+01,  2.08908751e-01,  1.75875946e+00]]),\n",
       " array([[ 0.26875523,  0.96317815, -0.00764675],\n",
       "        [ 0.53111826, -0.15481125, -0.83303473],\n",
       "        [ 0.80354466, -0.21982111,  0.55316784]]))"
      ]
     },
     "execution_count": null,
     "metadata": {},
     "output_type": "execute_result"
    }
   ],
   "source": [
    "pca(tt)"
   ]
  },
  {
   "cell_type": "code",
   "execution_count": null,
   "id": "21803a58-beff-42c1-84c6-d8b2ea133b45",
   "metadata": {},
   "outputs": [],
   "source": [
    "sk_pc = PCA(2).fit(tt)"
   ]
  },
  {
   "cell_type": "code",
   "execution_count": null,
   "id": "95a9bb29-264d-45e0-9f84-f05be7abc9d0",
   "metadata": {},
   "outputs": [
    {
     "data": {
      "text/plain": [
       "array([[  4.86387982,   1.92176031],\n",
       "       [ 36.02339962,  -0.40259784],\n",
       "       [ 30.9057872 ,   1.15917989],\n",
       "       [ 16.00224879,   0.33520095],\n",
       "       [ 20.48807979,  -1.75875946],\n",
       "       [ -4.86387982,  -1.92176031],\n",
       "       [-36.02339962,   0.40259784],\n",
       "       [-30.9057872 ,  -1.15917989],\n",
       "       [-16.00224879,  -0.33520095],\n",
       "       [-20.48807979,   1.75875946]])"
      ]
     },
     "execution_count": null,
     "metadata": {},
     "output_type": "execute_result"
    }
   ],
   "source": [
    "tt @ sk_pc.components_.T"
   ]
  },
  {
   "cell_type": "code",
   "execution_count": null,
   "id": "da4306f7-73bf-4892-aa28-064e31d55d76",
   "metadata": {},
   "outputs": [
    {
     "data": {
      "text/plain": [
       "array([[  4.86387982,   1.92176031],\n",
       "       [ 36.02339962,  -0.40259784],\n",
       "       [ 30.9057872 ,   1.15917989],\n",
       "       [ 16.00224879,   0.33520095],\n",
       "       [ 20.48807979,  -1.75875946],\n",
       "       [ -4.86387982,  -1.92176031],\n",
       "       [-36.02339962,   0.40259784],\n",
       "       [-30.9057872 ,  -1.15917989],\n",
       "       [-16.00224879,  -0.33520095],\n",
       "       [-20.48807979,   1.75875946]])"
      ]
     },
     "execution_count": null,
     "metadata": {},
     "output_type": "execute_result"
    }
   ],
   "source": [
    "tr = sk_pc.transform(tt)\n",
    "tr"
   ]
  },
  {
   "cell_type": "code",
   "execution_count": null,
   "id": "56efba75-0861-4d7a-a323-e5cb1d62e2a5",
   "metadata": {},
   "outputs": [
    {
     "data": {
      "text/plain": [
       "array([[ 0.26875523, -0.00764675],\n",
       "       [ 0.53111826, -0.83303473],\n",
       "       [ 0.80354466,  0.55316784]])"
      ]
     },
     "execution_count": null,
     "metadata": {},
     "output_type": "execute_result"
    }
   ],
   "source": [
    "sk_pc.components_.T"
   ]
  },
  {
   "cell_type": "code",
   "execution_count": null,
   "id": "2c56fa12-5b74-4d11-9bfb-3f4b3dc6f808",
   "metadata": {},
   "outputs": [
    {
     "data": {
      "text/plain": [
       "array([[  4.86387982,   1.92176031],\n",
       "       [ 36.02339962,  -0.40259784],\n",
       "       [ 30.9057872 ,   1.15917989],\n",
       "       [ 16.00224879,   0.33520095],\n",
       "       [ 20.48807979,  -1.75875946],\n",
       "       [ -4.86387982,  -1.92176031],\n",
       "       [-36.02339962,   0.40259784],\n",
       "       [-30.9057872 ,  -1.15917989],\n",
       "       [-16.00224879,  -0.33520095],\n",
       "       [-20.48807979,   1.75875946]])"
      ]
     },
     "execution_count": null,
     "metadata": {},
     "output_type": "execute_result"
    }
   ],
   "source": [
    "(sk_pc.components_ @ tt.T).T"
   ]
  },
  {
   "cell_type": "code",
   "execution_count": null,
   "id": "c209cc9f-e1d3-45de-8f88-9ae1ba6e1f5f",
   "metadata": {},
   "outputs": [
    {
     "data": {
      "text/plain": [
       "array([[1.27882313, 0.98460024, 4.97452158]])"
      ]
     },
     "execution_count": null,
     "metadata": {},
     "output_type": "execute_result"
    }
   ],
   "source": [
    "tt[0, None]"
   ]
  },
  {
   "cell_type": "code",
   "execution_count": null,
   "id": "1af5a7d4-0744-4805-acaf-93150c5ef675",
   "metadata": {},
   "outputs": [
    {
     "data": {
      "text/plain": [
       "(2, 3)"
      ]
     },
     "execution_count": null,
     "metadata": {},
     "output_type": "execute_result"
    }
   ],
   "source": [
    "sk_pc.components_.shape"
   ]
  },
  {
   "cell_type": "code",
   "execution_count": null,
   "id": "aacef51c-18eb-43d1-aafb-559b731e1955",
   "metadata": {},
   "outputs": [
    {
     "data": {
      "text/plain": [
       "(3,)"
      ]
     },
     "execution_count": null,
     "metadata": {},
     "output_type": "execute_result"
    }
   ],
   "source": [
    "tt[0].shape"
   ]
  },
  {
   "cell_type": "code",
   "execution_count": null,
   "id": "91c1337c-d234-4304-b118-0bc5703380ce",
   "metadata": {},
   "outputs": [
    {
     "data": {
      "text/plain": [
       "array([4.86387982, 1.92176031])"
      ]
     },
     "execution_count": null,
     "metadata": {},
     "output_type": "execute_result"
    }
   ],
   "source": [
    "(sk_pc.components_ @ tt[0])"
   ]
  },
  {
   "cell_type": "code",
   "execution_count": null,
   "id": "5e694a38-1235-4a7d-bdf6-d256e43d3407",
   "metadata": {},
   "outputs": [
    {
     "data": {
      "text/plain": [
       "array([1.27882313, 0.98460024, 4.97452158])"
      ]
     },
     "execution_count": null,
     "metadata": {},
     "output_type": "execute_result"
    }
   ],
   "source": [
    "tt[0]"
   ]
  },
  {
   "cell_type": "code",
   "execution_count": null,
   "id": "50bb725d-a6e2-4e8e-87fb-95580ffff151",
   "metadata": {},
   "outputs": [
    {
     "data": {
      "text/plain": [
       "array([1.29249789, 0.9824023 , 4.97140066])"
      ]
     },
     "execution_count": null,
     "metadata": {},
     "output_type": "execute_result"
    }
   ],
   "source": [
    "sk_pc.components_.T @ tr[0]"
   ]
  },
  {
   "cell_type": "code",
   "execution_count": null,
   "id": "b5b7eb14-a128-47b8-8853-333aac979242",
   "metadata": {},
   "outputs": [
    {
     "data": {
      "text/plain": [
       "array([1.29249789, 0.9824023 , 4.97140066])"
      ]
     },
     "execution_count": null,
     "metadata": {},
     "output_type": "execute_result"
    }
   ],
   "source": [
    "sk_pc.inverse_transform(tr[0])"
   ]
  }
 ],
 "metadata": {
  "kernelspec": {
   "display_name": "data_science",
   "language": "python",
   "name": "data_science"
  },
  "widgets": {
   "application/vnd.jupyter.widget-state+json": {
    "state": {},
    "version_major": 2,
    "version_minor": 0
   }
  }
 },
 "nbformat": 4,
 "nbformat_minor": 5
}
