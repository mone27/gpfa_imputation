{
 "cells": [
  {
   "cell_type": "code",
   "execution_count": null,
   "id": "b79023f6-49b1-4ad1-a554-cc94fe7581bd",
   "metadata": {},
   "outputs": [],
   "source": [
    "import altair as alt\n",
    "import pandas as pd\n",
    "import numpy as np"
   ]
  },
  {
   "cell_type": "code",
   "execution_count": null,
   "id": "632e817e-4e74-486a-ac68-797298832aeb",
   "metadata": {},
   "outputs": [],
   "source": [
    "from ipywidgets import widgets, HBox, VBox\n",
    "from typing import Sequence"
   ]
  },
  {
   "cell_type": "code",
   "execution_count": null,
   "id": "4355001b-06e5-44f0-bcc4-9a8f53d20438",
   "metadata": {},
   "outputs": [],
   "source": [
    "class InteractiveSequence():\n",
    "    def __init__(self,s: Sequence):\n",
    "        self.s =s\n",
    "        self.i = 0\n",
    "        self.output = widgets.Output()\n",
    "        self.button_next = widgets.Button(description=\"Next\", icon=\"arrow-right\")\n",
    "        self.button_prev = widgets.Button(description=\"Previous\", icon=\"arrow-left\", disabled=True)\n",
    "        self.button_next.on_click(self.on_next)\n",
    "        self.button_prev.on_click(self.on_prev)\n",
    "        self.label = widgets.Label(f\"of {len(self.s)-1}\")\n",
    "        self.slider = widgets.IntSlider(0, 0, len(s)-1, 1)\n",
    "        self.slider.observe(self.on_slide, names=\"value\")\n",
    "    def update_view(self):\n",
    "        self.button_enable()\n",
    "        self.slider.value = self.i\n",
    "        with self.output:\n",
    "            display(self.s[self.i])\n",
    "        self.output.clear_output(wait=True)\n",
    "    def button_enable(self):\n",
    "        if self.i < len(self.s) - 1:  self.button_next.disabled = False\n",
    "        else: self.button_next.disabled = True\n",
    "        \n",
    "        if self.i == 0: self.button_prev.disabled = True\n",
    "        else: self.button_prev.disabled = False\n",
    "        \n",
    "    def on_next(self, b):\n",
    "        self.i +=1\n",
    "        self.update_view()\n",
    "    def on_prev(self, b):\n",
    "        self.i -=1\n",
    "        self.update_view()\n",
    "    def on_slide(self, change):\n",
    "        self.i = change['new']\n",
    "        self.update_view()\n",
    "        \n",
    "    def __call__(self):\n",
    "        self.update_view()\n",
    "        display(VBox([HBox([self.slider, self.label]), HBox([self.button_prev, self.button_next])]), self.output)"
   ]
  },
  {
   "cell_type": "code",
   "execution_count": null,
   "id": "52dfa749-6f25-4a80-901c-6c447bdd643b",
   "metadata": {},
   "outputs": [],
   "source": [
    "seq = [alt.Chart(pd.DataFrame({'x': np.arange(5000), 'y': np.random.randn(5000)})).mark_point().encode(x='x',y= 'y') for _ in range(200)]"
   ]
  },
  {
   "cell_type": "code",
   "execution_count": null,
   "id": "8923606b-267b-4d0a-9515-d5ff25728525",
   "metadata": {},
   "outputs": [
    {
     "data": {
      "application/vnd.jupyter.widget-view+json": {
       "model_id": "5a2b36b2823a4ec0b7666ab608fb1787",
       "version_major": 2,
       "version_minor": 0
      },
      "text/plain": [
       "VBox(children=(HBox(children=(IntSlider(value=0, max=199), Label(value='of 199'))), HBox(children=(Button(desc…"
      ]
     },
     "metadata": {},
     "output_type": "display_data"
    },
    {
     "data": {
      "application/vnd.jupyter.widget-view+json": {
       "model_id": "bc1ae6c8f2dd4fe1931d8313ed8f422b",
       "version_major": 2,
       "version_minor": 0
      },
      "text/plain": [
       "Output()"
      ]
     },
     "metadata": {},
     "output_type": "display_data"
    }
   ],
   "source": [
    "InteractiveSequence(seq)()"
   ]
  },
  {
   "cell_type": "code",
   "execution_count": null,
   "id": "93bcd5dd-50a3-49e2-adb5-80bdd44e7bcc",
   "metadata": {},
   "outputs": [],
   "source": []
  }
 ],
 "metadata": {
  "kernelspec": {
   "display_name": "data_science",
   "language": "python",
   "name": "data_science"
  },
  "widgets": {
   "application/vnd.jupyter.widget-state+json": {
    "state": {},
    "version_major": 2,
    "version_minor": 0
   }
  }
 },
 "nbformat": 4,
 "nbformat_minor": 5
}
