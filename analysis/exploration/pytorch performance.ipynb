{
 "cells": [
  {
   "cell_type": "markdown",
   "id": "d670646c-207e-4d4a-8a72-7edbce01e0f6",
   "metadata": {},
   "source": [
    "the idea is to bechmark the performance of a loop similar to a kalman filter one and see if there are possibilities to improve the performance "
   ]
  },
  {
   "cell_type": "markdown",
   "id": "ed43bdd2-3755-455e-a92c-c371589c35dd",
   "metadata": {},
   "source": [
    "torch jit is just useless ..."
   ]
  },
  {
   "cell_type": "code",
   "execution_count": null,
   "id": "cfa78fc7-8b8e-49c0-b34a-fbd9158ee435",
   "metadata": {},
   "outputs": [],
   "source": [
    "@torch.jit.script\n",
    "def loop_mult_jit(A, B):\n",
    "    n = 0\n",
    "    while n<1000:\n",
    "        A = A @ B @ A\n",
    "        n += 1"
   ]
  },
  {
   "cell_type": "code",
   "execution_count": null,
   "id": "8d3d34cd-d030-4420-bce2-af97295582aa",
   "metadata": {},
   "outputs": [],
   "source": [
    "def loop_mult(A, B):\n",
    "    n = 0\n",
    "    while n<1000:\n",
    "        A = A @ B @ A\n",
    "        n += 1"
   ]
  },
  {
   "cell_type": "code",
   "execution_count": null,
   "id": "7f2898d3-5409-4125-a753-320d44c45150",
   "metadata": {},
   "outputs": [
    {
     "name": "stdout",
     "output_type": "stream",
     "text": [
      "67.2 ms ± 2.13 ms per loop (mean ± std. dev. of 7 runs, 10 loops each)\n"
     ]
    }
   ],
   "source": [
    "%timeit loop_mult(A,A)"
   ]
  },
  {
   "cell_type": "code",
   "execution_count": null,
   "id": "285fff52-9a93-45b0-a4bf-b80096374238",
   "metadata": {},
   "outputs": [
    {
     "name": "stdout",
     "output_type": "stream",
     "text": [
      "64.8 ms ± 3.25 ms per loop (mean ± std. dev. of 7 runs, 10 loops each)\n"
     ]
    }
   ],
   "source": [
    "%timeit loop_mult_jit(A,A)"
   ]
  },
  {
   "cell_type": "markdown",
   "id": "66123802-481e-439f-9269-5aefa1da8d34",
   "metadata": {},
   "source": [
    "## pytorch loop"
   ]
  },
  {
   "cell_type": "code",
   "execution_count": null,
   "id": "3ec9cce7-2294-49b4-9bb3-103025f989e8",
   "metadata": {},
   "outputs": [],
   "source": [
    "import torch"
   ]
  },
  {
   "cell_type": "code",
   "execution_count": null,
   "id": "c2839f0e-ac8a-4b52-91de-59790c674f68",
   "metadata": {},
   "outputs": [],
   "source": [
    "out = torch.zeros(10_000, 20)\n",
    "obs = torch.ones(10_000, 20)\n"
   ]
  },
  {
   "cell_type": "code",
   "execution_count": null,
   "id": "369c6295-08be-4698-aa36-1f5ceb72c581",
   "metadata": {},
   "outputs": [],
   "source": [
    "def test_loop_torch(n=10_000):\n",
    "    out = torch.zeros(10_000, 20)\n",
    "    obs = torch.ones(10_000, 20)\n",
    "\n",
    "    m = torch.ones(1, 20)\n",
    "    for i in range(1, len(obs)):\n",
    "        out[i] = (out[i-1] + obs[i]) * .3\n",
    "    return out"
   ]
  },
  {
   "cell_type": "code",
   "execution_count": null,
   "id": "6016b50c-156c-46e7-94aa-d0e3d73a4783",
   "metadata": {},
   "outputs": [
    {
     "name": "stdout",
     "output_type": "stream",
     "text": [
      "14.9 ns ± 0.177 ns per loop (mean ± std. dev. of 7 runs, 100,000,000 loops each)\n"
     ]
    }
   ],
   "source": [
    "%timeit test_loop"
   ]
  },
  {
   "cell_type": "markdown",
   "id": "c5044610-b1ac-446f-af9d-e67e88601a1a",
   "metadata": {},
   "source": [
    "## torch jit"
   ]
  },
  {
   "cell_type": "code",
   "execution_count": null,
   "id": "0ef6e3b4-359b-40f3-84c1-cba5cd23f98c",
   "metadata": {},
   "outputs": [],
   "source": [
    "test_loop_jit = torch.jit.script(test_loop_torch)"
   ]
  },
  {
   "cell_type": "code",
   "execution_count": null,
   "id": "d3e4906a-4856-482a-9ad7-a20fcda24db7",
   "metadata": {},
   "outputs": [
    {
     "name": "stdout",
     "output_type": "stream",
     "text": [
      "14.9 ns ± 0.193 ns per loop (mean ± std. dev. of 7 runs, 100,000,000 loops each)\n"
     ]
    }
   ],
   "source": [
    "%timeit test_loop_jit"
   ]
  },
  {
   "cell_type": "code",
   "execution_count": null,
   "id": "41aa284e-3fea-409e-ac5f-a6d6d1766d40",
   "metadata": {},
   "outputs": [
    {
     "data": {
      "text/plain": [
       "tensor([[0.0000, 0.0000, 0.0000,  ..., 0.0000, 0.0000, 0.0000],\n",
       "        [0.3000, 0.3000, 0.3000,  ..., 0.3000, 0.3000, 0.3000],\n",
       "        [0.3900, 0.3900, 0.3900,  ..., 0.3900, 0.3900, 0.3900],\n",
       "        ...,\n",
       "        [0.4286, 0.4286, 0.4286,  ..., 0.4286, 0.4286, 0.4286],\n",
       "        [0.4286, 0.4286, 0.4286,  ..., 0.4286, 0.4286, 0.4286],\n",
       "        [0.4286, 0.4286, 0.4286,  ..., 0.4286, 0.4286, 0.4286]])"
      ]
     },
     "execution_count": null,
     "metadata": {},
     "output_type": "execute_result"
    }
   ],
   "source": [
    "test_loop_torch()"
   ]
  },
  {
   "cell_type": "markdown",
   "id": "14d02987-0094-4239-9ba3-be0920d0a8d1",
   "metadata": {},
   "source": [
    "## Numpy loop"
   ]
  },
  {
   "cell_type": "code",
   "execution_count": null,
   "id": "5358dfd9-f778-45a4-ada2-40663e2093a9",
   "metadata": {},
   "outputs": [],
   "source": [
    "import numpy as np"
   ]
  },
  {
   "cell_type": "code",
   "execution_count": null,
   "id": "10c8f6f5-3075-47e3-85dd-e712d69e2f0a",
   "metadata": {},
   "outputs": [],
   "source": [
    "def test_loop_np(n=10_000):\n",
    "    out = np.zeros((n, 20))\n",
    "    obs = torch.ones((n, 20))\n",
    "\n",
    "    for i in range(1, len(obs)):\n",
    "        out[i] = (out[i-1] + obs[i]) * .3\n",
    "    return out"
   ]
  },
  {
   "cell_type": "code",
   "execution_count": null,
   "id": "7a6bce06-38cd-4e65-935f-412d12a9eb1a",
   "metadata": {},
   "outputs": [
    {
     "name": "stdout",
     "output_type": "stream",
     "text": [
      "14.8 ns ± 0.0836 ns per loop (mean ± std. dev. of 7 runs, 100,000,000 loops each)\n"
     ]
    }
   ],
   "source": [
    "%timeit test_loop"
   ]
  },
  {
   "cell_type": "markdown",
   "id": "384d5339-fa3d-451a-b2f7-2b1b7a399b8d",
   "metadata": {},
   "source": [
    "## Jax"
   ]
  },
  {
   "cell_type": "code",
   "execution_count": null,
   "id": "77f66000-76e6-4135-a20c-b3cd63c754f7",
   "metadata": {},
   "outputs": [],
   "source": [
    "import jax.numpy as jnp\n",
    "from jax import grad, jit"
   ]
  },
  {
   "cell_type": "code",
   "execution_count": null,
   "id": "7fd79c4f-4479-4135-a003-0f62ff016d7c",
   "metadata": {},
   "outputs": [],
   "source": [
    "def test_loop_jax_1(n=10_000):\n",
    "    out = jnp.zeros((10_000, 20))\n",
    "    obs = jnp.ones((10_000, 20))\n",
    "\n",
    "    for i in range(1, len(obs)):\n",
    "        out.at[i, :].set((out[i-1] + obs[i]) * .3)\n",
    "    return out"
   ]
  },
  {
   "cell_type": "code",
   "execution_count": null,
   "id": "e5278732-1c08-40a2-a7cd-fd39ecf26e13",
   "metadata": {},
   "outputs": [
    {
     "name": "stdout",
     "output_type": "stream",
     "text": [
      "16.8 s ± 2.3 s per loop (mean ± std. dev. of 7 runs, 1 loop each)\n"
     ]
    }
   ],
   "source": [
    "%timeit test_loop_jax_1()"
   ]
  },
  {
   "cell_type": "code",
   "execution_count": null,
   "id": "bb14a9e7-654d-46b7-be19-4f4828c5d1ec",
   "metadata": {},
   "outputs": [],
   "source": [
    "def test_loop_jax_2(n=10_000):\n",
    "    out = np.zeros((10_000, 20))\n",
    "    obs = jnp.ones((10_000, 20))\n",
    "\n",
    "    m = jnp.ones((1, 20))\n",
    "    for i in range(1, len(obs)):\n",
    "        out[i, :] = (out[i-1] + obs[i]) * 1.01\n",
    "    return out"
   ]
  },
  {
   "cell_type": "code",
   "execution_count": null,
   "id": "ab02d184-e1f4-4ea3-a61b-3986c8b02006",
   "metadata": {},
   "outputs": [
    {
     "name": "stdout",
     "output_type": "stream",
     "text": [
      "4.36 s ± 235 ms per loop (mean ± std. dev. of 7 runs, 1 loop each)\n"
     ]
    }
   ],
   "source": [
    "%timeit test_loop_jax_2()"
   ]
  },
  {
   "cell_type": "code",
   "execution_count": null,
   "id": "f7c975ce-ff27-4acc-90cb-ba2f09e79bf3",
   "metadata": {},
   "outputs": [],
   "source": []
  },
  {
   "cell_type": "markdown",
   "id": "e88ba6c5-12cf-4841-be6b-1b29a5bca078",
   "metadata": {},
   "source": [
    "Julia comparison"
   ]
  },
  {
   "cell_type": "code",
   "execution_count": null,
   "id": "5de0a207-a829-4892-8145-754d49979343",
   "metadata": {},
   "outputs": [],
   "source": [
    "import torch"
   ]
  },
  {
   "cell_type": "code",
   "execution_count": null,
   "id": "ffa3ce75-a621-436d-b82c-b11a0733a091",
   "metadata": {},
   "outputs": [],
   "source": [
    "def loop_add(A, B, max=100):\n",
    "    for _ in range(int(max)):\n",
    "        A = A + B\n",
    "    return A"
   ]
  },
  {
   "cell_type": "code",
   "execution_count": null,
   "id": "b31ebbdc-15fe-429c-9a6d-e8cba5ebcc65",
   "metadata": {},
   "outputs": [
    {
     "name": "stdout",
     "output_type": "stream",
     "text": [
      "428 ms ± 22.1 ms per loop (mean ± std. dev. of 7 runs, 1 loop each)\n"
     ]
    }
   ],
   "source": [
    "%timeit loop_add(1,2, max=1e7)"
   ]
  },
  {
   "cell_type": "code",
   "execution_count": null,
   "id": "8695da2d-71e6-479a-a217-7ca2d42ca283",
   "metadata": {},
   "outputs": [
    {
     "name": "stdout",
     "output_type": "stream",
     "text": [
      "22.6 s ± 2.13 s per loop (mean ± std. dev. of 7 runs, 1 loop each)\n"
     ]
    }
   ],
   "source": [
    "%timeit loop_add(torch.tensor(1),torch.tensor(2), max=1e7)"
   ]
  },
  {
   "cell_type": "code",
   "execution_count": null,
   "id": "73632865-60cf-485f-8b20-574f77b9e9f1",
   "metadata": {},
   "outputs": [],
   "source": [
    "A = torch.rand(100,100, dtype=torch.float64)\n",
    "B = torch.rand(100,100, dtype=torch.float64)"
   ]
  },
  {
   "cell_type": "code",
   "execution_count": null,
   "id": "9447ad50-a197-45c1-869a-c7fd6b5452b5",
   "metadata": {},
   "outputs": [
    {
     "name": "stdout",
     "output_type": "stream",
     "text": [
      "686 ms ± 33.2 ms per loop (mean ± std. dev. of 7 runs, 1 loop each)\n"
     ]
    }
   ],
   "source": [
    "%timeit loop_add(A, B, max=1e5)"
   ]
  },
  {
   "cell_type": "code",
   "execution_count": null,
   "id": "c0c3c3af-508c-4e3f-aea9-8bcfe4f3f835",
   "metadata": {},
   "outputs": [],
   "source": []
  }
 ],
 "metadata": {
  "kernelspec": {
   "display_name": "data_science",
   "language": "python",
   "name": "data_science"
  },
  "widgets": {
   "application/vnd.jupyter.widget-state+json": {
    "state": {},
    "version_major": 2,
    "version_minor": 0
   }
  }
 },
 "nbformat": 4,
 "nbformat_minor": 5
}
