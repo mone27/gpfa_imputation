{
 "cells": [
  {
   "cell_type": "code",
   "execution_count": null,
   "id": "51de8acd-533e-4a59-9dae-973c0c14ee36",
   "metadata": {},
   "outputs": [],
   "source": [
    "import torch"
   ]
  },
  {
   "cell_type": "code",
   "execution_count": null,
   "id": "c340fd9e-3a08-43da-b150-4d828ba2dc31",
   "metadata": {},
   "outputs": [],
   "source": [
    "ran = torch.rand(5,5, dtype=torch.float64)\n",
    "d = ran @ ran.T + 1e-5"
   ]
  },
  {
   "cell_type": "code",
   "execution_count": null,
   "id": "ac1bf6a2-7bf5-4c13-ac85-a523692e3e9e",
   "metadata": {},
   "outputs": [
    {
     "data": {
      "text/plain": [
       "tensor([[2.1157, 1.6960, 1.3807, 2.0091, 1.2477],\n",
       "        [1.6960, 1.5403, 1.4525, 1.9626, 1.0250],\n",
       "        [1.3807, 1.4525, 1.6791, 2.0742, 1.0316],\n",
       "        [2.0091, 1.9626, 2.0742, 2.8813, 1.6865],\n",
       "        [1.2477, 1.0250, 1.0316, 1.6865, 1.5130]], dtype=torch.float64)"
      ]
     },
     "execution_count": null,
     "metadata": {},
     "output_type": "execute_result"
    }
   ],
   "source": [
    "d"
   ]
  },
  {
   "cell_type": "code",
   "execution_count": null,
   "id": "e7777791-40b5-4b02-8438-4841212efcfc",
   "metadata": {},
   "outputs": [],
   "source": [
    "a = torch.rand(5,5, dtype=torch.float64)"
   ]
  },
  {
   "cell_type": "code",
   "execution_count": null,
   "id": "0afd20c5-2695-4afc-88ea-973fe92dc0ad",
   "metadata": {},
   "outputs": [],
   "source": [
    "Q = torch.linalg.qr(a).Q"
   ]
  },
  {
   "cell_type": "code",
   "execution_count": null,
   "id": "d741bc62-407c-475e-ae17-9232c2333b39",
   "metadata": {},
   "outputs": [
    {
     "data": {
      "text/plain": [
       "tensor([[ 0.9317, -1.4794,  0.9637, -1.2813, -0.1782],\n",
       "        [-1.4794,  4.6029, -1.9401,  3.0748,  0.7384],\n",
       "        [ 0.9637, -1.9401,  1.2851, -1.4728, -0.4926],\n",
       "        [-1.2813,  3.0748, -1.4728,  2.2845,  0.3230],\n",
       "        [-0.1782,  0.7384, -0.4926,  0.3230,  0.6251]], dtype=torch.float64)"
      ]
     },
     "execution_count": null,
     "metadata": {},
     "output_type": "execute_result"
    }
   ],
   "source": [
    "Q @ d @ Q.T"
   ]
  },
  {
   "cell_type": "code",
   "execution_count": null,
   "id": "ef8ce989-f115-48be-b6b8-6f634402e1e0",
   "metadata": {},
   "outputs": [],
   "source": [
    "A = torch.rand(3,3)"
   ]
  },
  {
   "cell_type": "code",
   "execution_count": null,
   "id": "1e2b887e-ca6a-458c-8a38-4cc5a2f78891",
   "metadata": {},
   "outputs": [],
   "source": [
    "Q,R = torch.linalg.qr(A)"
   ]
  },
  {
   "cell_type": "code",
   "execution_count": null,
   "id": "1d6cf9b4-d03f-4439-b60c-7fdb9e5a6c06",
   "metadata": {},
   "outputs": [
    {
     "data": {
      "text/plain": [
       "(tensor([[-0.5216,  0.0729, -0.8501],\n",
       "         [-0.7627, -0.4865,  0.4262],\n",
       "         [-0.3825,  0.8706,  0.3093]]),\n",
       " tensor([[-1.1534, -0.7000, -0.7603],\n",
       "         [ 0.0000,  0.7366,  0.2398],\n",
       "         [ 0.0000,  0.0000, -0.3977]]))"
      ]
     },
     "execution_count": null,
     "metadata": {},
     "output_type": "execute_result"
    }
   ],
   "source": [
    "Q, R"
   ]
  },
  {
   "cell_type": "code",
   "execution_count": null,
   "id": "8ff0113f-7727-48cc-a272-46c663a0a1ca",
   "metadata": {},
   "outputs": [
    {
     "data": {
      "text/plain": [
       "tensor([[ 1.0000e+00,  0.0000e+00, -2.9802e-08],\n",
       "        [ 0.0000e+00,  1.0000e+00, -5.9605e-08],\n",
       "        [-2.9802e-08, -5.9605e-08,  1.0000e+00]])"
      ]
     },
     "execution_count": null,
     "metadata": {},
     "output_type": "execute_result"
    }
   ],
   "source": [
    "Q.T @ Q"
   ]
  },
  {
   "cell_type": "markdown",
   "id": "eab9d8eb-a258-46c8-a97b-a6fa298f9c89",
   "metadata": {},
   "source": [
    "Cho solve"
   ]
  },
  {
   "cell_type": "code",
   "execution_count": null,
   "id": "39ffe6ba-ce35-4f34-98ce-0fd2be8de030",
   "metadata": {},
   "outputs": [],
   "source": [
    "from meteo_imp.gaussian import to_posdef"
   ]
  },
  {
   "cell_type": "code",
   "execution_count": null,
   "id": "c9082956-1589-4bbd-a3da-6084081ae1a7",
   "metadata": {},
   "outputs": [],
   "source": [
    "A = to_posdef(torch.rand(3,3))\n",
    "B = torch.rand(3,3)"
   ]
  },
  {
   "cell_type": "code",
   "execution_count": null,
   "id": "6b0f5b55-f2b7-42de-baa7-7bf54f592013",
   "metadata": {},
   "outputs": [
    {
     "data": {
      "text/plain": [
       "tensor([[ 31.5294,   4.7335,  51.6443],\n",
       "        [  1.4137,   1.7132,   3.0639],\n",
       "        [-18.4855,  -3.2360, -31.1095]])"
      ]
     },
     "execution_count": null,
     "metadata": {},
     "output_type": "execute_result"
    }
   ],
   "source": [
    "x = torch.inverse(A) @ B\n",
    "x"
   ]
  },
  {
   "cell_type": "code",
   "execution_count": null,
   "id": "f172e276-bf2f-40c2-8ff0-c3e3b8c3a510",
   "metadata": {},
   "outputs": [],
   "source": [
    "C = torch.linalg.cholesky(A)"
   ]
  },
  {
   "cell_type": "code",
   "execution_count": null,
   "id": "f874c03e-bd1c-4e63-bb8b-a0b2e283ac59",
   "metadata": {},
   "outputs": [
    {
     "data": {
      "text/plain": [
       "tensor([[ 31.5293,   4.7335,  51.6443],\n",
       "        [  1.4136,   1.7132,   3.0639],\n",
       "        [-18.4855,  -3.2360, -31.1094]])"
      ]
     },
     "execution_count": null,
     "metadata": {},
     "output_type": "execute_result"
    }
   ],
   "source": [
    "torch.cholesky_solve(B, C)"
   ]
  },
  {
   "cell_type": "code",
   "execution_count": null,
   "id": "0d2888f2-c32b-4e35-a36b-ad097f536760",
   "metadata": {},
   "outputs": [],
   "source": [
    "torch.linalg.qr"
   ]
  },
  {
   "cell_type": "code",
   "execution_count": null,
   "id": "26e487dc-1c38-4265-b037-a0470ef9c394",
   "metadata": {},
   "outputs": [],
   "source": [
    "A = torch.randn(3, 3, requires_grad=True)"
   ]
  },
  {
   "cell_type": "code",
   "execution_count": null,
   "id": "b303c9ba-17d1-4e18-841e-ef0c18558067",
   "metadata": {},
   "outputs": [],
   "source": [
    "A = A @ A.mT"
   ]
  },
  {
   "cell_type": "code",
   "execution_count": null,
   "id": "330ddb0d-15ea-4008-9218-286260da1bf4",
   "metadata": {},
   "outputs": [],
   "source": [
    "LD, pivots = torch.linalg.ldl_factor(A)"
   ]
  },
  {
   "cell_type": "code",
   "execution_count": null,
   "id": "64835fe3-6c2c-424e-a0c8-f15dab0c253d",
   "metadata": {},
   "outputs": [
    {
     "ename": "RuntimeError",
     "evalue": "derivative for aten::linalg_ldl_factor_ex is not implemented",
     "output_type": "error",
     "traceback": [
      "\u001b[0;31m---------------------------------------------------------------------------\u001b[0m",
      "\u001b[0;31mRuntimeError\u001b[0m                              Traceback (most recent call last)",
      "Input \u001b[0;32mIn [9]\u001b[0m, in \u001b[0;36m<cell line: 1>\u001b[0;34m()\u001b[0m\n\u001b[0;32m----> 1\u001b[0m \u001b[43mLD\u001b[49m\u001b[38;5;241;43m.\u001b[39;49m\u001b[43msum\u001b[49m\u001b[43m(\u001b[49m\u001b[43m)\u001b[49m\u001b[38;5;241;43m.\u001b[39;49m\u001b[43mbackward\u001b[49m\u001b[43m(\u001b[49m\u001b[43m)\u001b[49m\n",
      "File \u001b[0;32m~/anaconda3/envs/data-science/lib/python3.10/site-packages/torch/_tensor.py:488\u001b[0m, in \u001b[0;36mTensor.backward\u001b[0;34m(self, gradient, retain_graph, create_graph, inputs)\u001b[0m\n\u001b[1;32m    478\u001b[0m \u001b[38;5;28;01mif\u001b[39;00m has_torch_function_unary(\u001b[38;5;28mself\u001b[39m):\n\u001b[1;32m    479\u001b[0m     \u001b[38;5;28;01mreturn\u001b[39;00m handle_torch_function(\n\u001b[1;32m    480\u001b[0m         Tensor\u001b[38;5;241m.\u001b[39mbackward,\n\u001b[1;32m    481\u001b[0m         (\u001b[38;5;28mself\u001b[39m,),\n\u001b[0;32m   (...)\u001b[0m\n\u001b[1;32m    486\u001b[0m         inputs\u001b[38;5;241m=\u001b[39minputs,\n\u001b[1;32m    487\u001b[0m     )\n\u001b[0;32m--> 488\u001b[0m \u001b[43mtorch\u001b[49m\u001b[38;5;241;43m.\u001b[39;49m\u001b[43mautograd\u001b[49m\u001b[38;5;241;43m.\u001b[39;49m\u001b[43mbackward\u001b[49m\u001b[43m(\u001b[49m\n\u001b[1;32m    489\u001b[0m \u001b[43m    \u001b[49m\u001b[38;5;28;43mself\u001b[39;49m\u001b[43m,\u001b[49m\u001b[43m \u001b[49m\u001b[43mgradient\u001b[49m\u001b[43m,\u001b[49m\u001b[43m \u001b[49m\u001b[43mretain_graph\u001b[49m\u001b[43m,\u001b[49m\u001b[43m \u001b[49m\u001b[43mcreate_graph\u001b[49m\u001b[43m,\u001b[49m\u001b[43m \u001b[49m\u001b[43minputs\u001b[49m\u001b[38;5;241;43m=\u001b[39;49m\u001b[43minputs\u001b[49m\n\u001b[1;32m    490\u001b[0m \u001b[43m\u001b[49m\u001b[43m)\u001b[49m\n",
      "File \u001b[0;32m~/anaconda3/envs/data-science/lib/python3.10/site-packages/torch/autograd/__init__.py:197\u001b[0m, in \u001b[0;36mbackward\u001b[0;34m(tensors, grad_tensors, retain_graph, create_graph, grad_variables, inputs)\u001b[0m\n\u001b[1;32m    192\u001b[0m     retain_graph \u001b[38;5;241m=\u001b[39m create_graph\n\u001b[1;32m    194\u001b[0m \u001b[38;5;66;03m# The reason we repeat same the comment below is that\u001b[39;00m\n\u001b[1;32m    195\u001b[0m \u001b[38;5;66;03m# some Python versions print out the first line of a multi-line function\u001b[39;00m\n\u001b[1;32m    196\u001b[0m \u001b[38;5;66;03m# calls in the traceback and some print out the last line\u001b[39;00m\n\u001b[0;32m--> 197\u001b[0m \u001b[43mVariable\u001b[49m\u001b[38;5;241;43m.\u001b[39;49m\u001b[43m_execution_engine\u001b[49m\u001b[38;5;241;43m.\u001b[39;49m\u001b[43mrun_backward\u001b[49m\u001b[43m(\u001b[49m\u001b[43m  \u001b[49m\u001b[38;5;66;43;03m# Calls into the C++ engine to run the backward pass\u001b[39;49;00m\n\u001b[1;32m    198\u001b[0m \u001b[43m    \u001b[49m\u001b[43mtensors\u001b[49m\u001b[43m,\u001b[49m\u001b[43m \u001b[49m\u001b[43mgrad_tensors_\u001b[49m\u001b[43m,\u001b[49m\u001b[43m \u001b[49m\u001b[43mretain_graph\u001b[49m\u001b[43m,\u001b[49m\u001b[43m \u001b[49m\u001b[43mcreate_graph\u001b[49m\u001b[43m,\u001b[49m\u001b[43m \u001b[49m\u001b[43minputs\u001b[49m\u001b[43m,\u001b[49m\n\u001b[1;32m    199\u001b[0m \u001b[43m    \u001b[49m\u001b[43mallow_unreachable\u001b[49m\u001b[38;5;241;43m=\u001b[39;49m\u001b[38;5;28;43;01mTrue\u001b[39;49;00m\u001b[43m,\u001b[49m\u001b[43m \u001b[49m\u001b[43maccumulate_grad\u001b[49m\u001b[38;5;241;43m=\u001b[39;49m\u001b[38;5;28;43;01mTrue\u001b[39;49;00m\u001b[43m)\u001b[49m\n",
      "\u001b[0;31mRuntimeError\u001b[0m: derivative for aten::linalg_ldl_factor_ex is not implemented"
     ]
    }
   ],
   "source": [
    "LD.sum().backward()"
   ]
  }
 ],
 "metadata": {
  "kernelspec": {
   "display_name": "data_science",
   "language": "python",
   "name": "data_science"
  },
  "widgets": {
   "application/vnd.jupyter.widget-state+json": {
    "state": {},
    "version_major": 2,
    "version_minor": 0
   }
  }
 },
 "nbformat": 4,
 "nbformat_minor": 5
}
