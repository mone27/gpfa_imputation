{
 "cells": [
  {
   "cell_type": "code",
   "execution_count": null,
   "id": "92687949-8fa6-4e40-81f3-f9d8455f9f34",
   "metadata": {},
   "outputs": [],
   "source": [
    "import altair"
   ]
  },
  {
   "cell_type": "code",
   "execution_count": null,
   "id": "31f67aec-efd5-45f2-adb6-312f46036117",
   "metadata": {},
   "outputs": [],
   "source": [
    "import altair as alt\n",
    "import vegafusion as vf\n",
    "import pandas as pd\n",
    "from itertools import product\n",
    "from itertools import zip_longest\n",
    "from fastcore.basics import listify"
   ]
  },
  {
   "cell_type": "code",
   "execution_count": null,
   "id": "547e73a0-8cad-464f-8cd2-e15b30acc78b",
   "metadata": {},
   "outputs": [
    {
     "data": {
      "text/plain": [
       "vegafusion.enable(mimetype='html', row_limit=10000, embed_options=None)"
      ]
     },
     "execution_count": null,
     "metadata": {},
     "output_type": "execute_result"
    }
   ],
   "source": [
    "vf.enable()"
   ]
  },
  {
   "cell_type": "code",
   "execution_count": null,
   "id": "d84044cd-115c-4ea7-94c7-45b983b9af41",
   "metadata": {},
   "outputs": [
    {
     "data": {
      "text/plain": [
       "'1.0.3'"
      ]
     },
     "execution_count": null,
     "metadata": {},
     "output_type": "execute_result"
    }
   ],
   "source": [
    "vf.__version__"
   ]
  },
  {
   "cell_type": "code",
   "execution_count": null,
   "id": "32cb4361-5e80-4427-9d0d-944264511ed1",
   "metadata": {},
   "outputs": [
    {
     "data": {
      "text/plain": [
       "'4.2.2'"
      ]
     },
     "execution_count": null,
     "metadata": {},
     "output_type": "execute_result"
    }
   ],
   "source": [
    "alt.__version__"
   ]
  },
  {
   "cell_type": "code",
   "execution_count": null,
   "id": "14028885-e798-45b0-a4da-b0a1e0ab4e4d",
   "metadata": {},
   "outputs": [
    {
     "data": {
      "text/plain": [
       "'/home/simone/anaconda3/envs/vegafusion/lib/python3.11/site-packages/altair/__init__.py'"
      ]
     },
     "execution_count": null,
     "metadata": {},
     "output_type": "execute_result"
    }
   ],
   "source": [
    "alt.__file__"
   ]
  },
  {
   "cell_type": "code",
   "execution_count": null,
   "id": "fbb6d455-4f0e-49a9-8af9-9871e1af03ba",
   "metadata": {},
   "outputs": [
    {
     "data": {
      "text/plain": [
       "'/home/simone/anaconda3/envs/vegafusion/lib/python3.11/site-packages/vegafusion/__init__.py'"
      ]
     },
     "execution_count": null,
     "metadata": {},
     "output_type": "execute_result"
    }
   ],
   "source": [
    "vf.__file__"
   ]
  },
  {
   "cell_type": "code",
   "execution_count": null,
   "id": "433cdc4a-a4fd-4bd6-bbba-b177115aabe4",
   "metadata": {},
   "outputs": [],
   "source": [
    "test_data = pd.DataFrame(list(product(['0','1'], ['a', 'b'])), columns = ['row', 'col'])\n",
    "test_data['text'] = test_data.row + test_data.col"
   ]
  },
  {
   "cell_type": "code",
   "execution_count": null,
   "id": "7576ad3d-cca1-4048-8be4-63758197e0ca",
   "metadata": {},
   "outputs": [],
   "source": [
    "def test_plot(data, *args): return alt.Chart(data).mark_text().encode(text='text')"
   ]
  },
  {
   "cell_type": "code",
   "execution_count": null,
   "id": "f59031e2-cde3-4f75-9246-34f4acd753b3",
   "metadata": {},
   "outputs": [
    {
     "data": {
      "text/html": [
       "\n",
       "<div id=\"altair-viz-{}\"></div>\n",
       "<script type=\"text/javascript\">\n",
       "  var VEGA_DEBUG = (typeof VEGA_DEBUG == \"undefined\") ? {} : VEGA_DEBUG;\n",
       "  (function(spec, embedOpt){\n",
       "    let outputDiv = document.currentScript.previousElementSibling;\n",
       "    if (outputDiv.id !== \"altair-viz-{}\") {\n",
       "      outputDiv = document.getElementById(\"altair-viz-{}\");\n",
       "    }\n",
       "    const paths = {\n",
       "      \"vega\": \"https://cdn.jsdelivr.net/npm//vega@5?noext\",\n",
       "      \"vega-lib\": \"https://cdn.jsdelivr.net/npm//vega-lib?noext\",\n",
       "      \"vega-lite\": \"https://cdn.jsdelivr.net/npm//vega-lite@v4.17.0?noext\",\n",
       "      \"vega-embed\": \"https://cdn.jsdelivr.net/npm//vega-embed@6?noext\",\n",
       "    };\n",
       "\n",
       "    function maybeLoadScript(lib, version) {\n",
       "      var key = `${lib.replace(\"-\", \"\")}_version`;\n",
       "      return (VEGA_DEBUG[key] == version) ?\n",
       "        Promise.resolve(paths[lib]) :\n",
       "        new Promise(function(resolve, reject) {\n",
       "          var s = document.createElement('script');\n",
       "          document.getElementsByTagName(\"head\")[0].appendChild(s);\n",
       "          s.async = true;\n",
       "          s.onload = () => {\n",
       "            VEGA_DEBUG[key] = version;\n",
       "            return resolve(paths[lib]);\n",
       "          };\n",
       "          s.onerror = () => reject(`Error loading script: ${paths[lib]}`);\n",
       "          s.src = paths[lib];\n",
       "        });\n",
       "    }\n",
       "\n",
       "    function showError(err) {\n",
       "      outputDiv.innerHTML = `<div class=\"error\" style=\"color:red;\">${err}</div>`;\n",
       "      throw err;\n",
       "    }\n",
       "\n",
       "    function displayChart(vegaEmbed) {\n",
       "      vegaEmbed(outputDiv, spec, embedOpt)\n",
       "        .catch(err => showError(`Javascript Error: ${err.message}<br>This usually means there's a typo in your chart specification. See the javascript console for the full traceback.`));\n",
       "    }\n",
       "\n",
       "    if(typeof define === \"function\" && define.amd) {\n",
       "      requirejs.config({paths});\n",
       "      require([\"vega-embed\"], displayChart, err => showError(`Error loading script: ${err.message}`));\n",
       "    } else {\n",
       "      maybeLoadScript(\"vega\", \"5\")\n",
       "        .then(() => maybeLoadScript(\"vega-lite\", \"v4.17.0\"))\n",
       "        .then(() => maybeLoadScript(\"vega-embed\", \"6\"))\n",
       "        .catch(showError)\n",
       "        .then(() => displayChart(vegaEmbed));\n",
       "    }\n",
       "  })({\"$schema\": \"https://vega.github.io/schema/vega/v5.json\", \"data\": [{\"name\": \"source_0\", \"values\": [{\"text\": \"0a\"}, {\"text\": \"0b\"}, {\"text\": \"1a\"}, {\"text\": \"1b\"}]}], \"marks\": [{\"type\": \"text\", \"name\": \"marks\", \"from\": {\"data\": \"source_0\"}, \"encode\": {\"update\": {\"fill\": {\"value\": \"black\"}, \"y\": {\"signal\": \"height\", \"mult\": 0.5}, \"text\": {\"signal\": \"isValid(datum[\\\"text\\\"]) ? datum[\\\"text\\\"] : \\\"\\\"+datum[\\\"text\\\"]\"}, \"align\": {\"value\": \"center\"}, \"baseline\": {\"value\": \"middle\"}, \"x\": {\"signal\": \"width\", \"mult\": 0.5}, \"description\": {\"signal\": \"\\\"text: \\\" + (isValid(datum[\\\"text\\\"]) ? datum[\\\"text\\\"] : \\\"\\\"+datum[\\\"text\\\"])\"}}}, \"style\": [\"text\"]}], \"width\": 20, \"padding\": 5, \"height\": 20, \"background\": \"white\", \"style\": \"cell\"}, {\"mode\": \"vega\"});\n",
       "</script>"
      ],
      "text/plain": [
       "alt.Chart(...)"
      ]
     },
     "execution_count": null,
     "metadata": {},
     "output_type": "execute_result"
    }
   ],
   "source": [
    "test_plot(test_data)"
   ]
  },
  {
   "cell_type": "code",
   "execution_count": null,
   "id": "44cdf93b-6f46-4a53-a5ca-f0a6639a9ddc",
   "metadata": {},
   "outputs": [
    {
     "data": {
      "text/plain": [
       "'4.2.2'"
      ]
     },
     "execution_count": null,
     "metadata": {},
     "output_type": "execute_result"
    }
   ],
   "source": [
    "altair.__version__"
   ]
  },
  {
   "cell_type": "code",
   "execution_count": null,
   "id": "8a245735-22a1-49a3-bdfb-8fd7626fc399",
   "metadata": {},
   "outputs": [],
   "source": [
    "#| export\n",
    "def facet_wrap(data: pd.DataFrame, # full dataset\n",
    "               plot_fn,# function that makes the plot, takes 2 arguments: data and y_label\n",
    "               col: str, # column to facet\n",
    "               y_labels: list[str]|None =None, # custom labels y axis \n",
    "               n_cols=3,\n",
    "               y_resolve='independent'\n",
    "              ):\n",
    "    col_vals = data[col].unique()\n",
    "    plot_list = [alt.hconcat() for _ in range(0, len(col_vals), n_cols)]\n",
    "    for i, col_v in enumerate(col_vals):\n",
    "        plot = plot_fn(data[data[col]==col_v].copy(),\n",
    "                       y_labels[i] if y_labels is not None else col_v\n",
    "                      ).properties(title=str(col_v))\n",
    "        plot_list[i // n_cols] |= plot\n",
    "    return alt.vconcat(*plot_list)#.resolve_scale(\n",
    "        #y=y_resolve\n",
    "    #)\n",
    "    "
   ]
  },
  {
   "cell_type": "code",
   "execution_count": null,
   "id": "628a9ef0-28ed-4a19-ada3-94dd55ff2f28",
   "metadata": {},
   "outputs": [],
   "source": [
    "#| export\n",
    "def facet_grid(data: pd.DataFrame, # full dataset\n",
    "               plot_fn,# function that makes the plot, takes 2 arguments: data and y_label\n",
    "               col: str, # column to facet,\n",
    "               row: str,\n",
    "               y_labels: list[str]|None = None, # custom labels y axis\n",
    "              ):\n",
    "    row_vals = data[row].unique()\n",
    "    n_cols = len(data[col].unique())\n",
    "    plots = []\n",
    "    for row_val, y_label in zip_longest(row_vals, listify(y_labels)):\n",
    "        plot = facet_wrap(data[data[row]==row_val].copy(), plot_fn, col, y_label, n_cols=n_cols).properties(title=row_val)\n",
    "        plots.append(plot)\n",
    "    return alt.vconcat(*plots)    "
   ]
  },
  {
   "cell_type": "code",
   "execution_count": null,
   "id": "4d2e97b4-32e8-4192-a0b9-c7292dde3974",
   "metadata": {},
   "outputs": [],
   "source": [
    "from itertools import product"
   ]
  },
  {
   "cell_type": "code",
   "execution_count": null,
   "id": "13aacb51-79f1-45b0-a60e-3fe47cbae20c",
   "metadata": {},
   "outputs": [],
   "source": [
    "test_data = pd.DataFrame(list(product(['0','1'], ['a', 'b'])), columns = ['row', 'col'])\n",
    "test_data['text'] = test_data.row + test_data.col"
   ]
  },
  {
   "cell_type": "code",
   "execution_count": null,
   "id": "6ef4fed1-e0ca-4cfe-ba4c-46a4689d0ac8",
   "metadata": {},
   "outputs": [],
   "source": [
    "def test_plot(data, *args): return alt.Chart(data).mark_text().encode(text='text')"
   ]
  },
  {
   "cell_type": "code",
   "execution_count": null,
   "id": "86e279b7-1ef2-4274-a13a-32e229de86c8",
   "metadata": {},
   "outputs": [
    {
     "data": {
      "text/html": [
       "\n",
       "<div id=\"altair-viz-{}\"></div>\n",
       "<script type=\"text/javascript\">\n",
       "  var VEGA_DEBUG = (typeof VEGA_DEBUG == \"undefined\") ? {} : VEGA_DEBUG;\n",
       "  (function(spec, embedOpt){\n",
       "    let outputDiv = document.currentScript.previousElementSibling;\n",
       "    if (outputDiv.id !== \"altair-viz-{}\") {\n",
       "      outputDiv = document.getElementById(\"altair-viz-{}\");\n",
       "    }\n",
       "    const paths = {\n",
       "      \"vega\": \"https://cdn.jsdelivr.net/npm//vega@5?noext\",\n",
       "      \"vega-lib\": \"https://cdn.jsdelivr.net/npm//vega-lib?noext\",\n",
       "      \"vega-lite\": \"https://cdn.jsdelivr.net/npm//vega-lite@v4.17.0?noext\",\n",
       "      \"vega-embed\": \"https://cdn.jsdelivr.net/npm//vega-embed@6?noext\",\n",
       "    };\n",
       "\n",
       "    function maybeLoadScript(lib, version) {\n",
       "      var key = `${lib.replace(\"-\", \"\")}_version`;\n",
       "      return (VEGA_DEBUG[key] == version) ?\n",
       "        Promise.resolve(paths[lib]) :\n",
       "        new Promise(function(resolve, reject) {\n",
       "          var s = document.createElement('script');\n",
       "          document.getElementsByTagName(\"head\")[0].appendChild(s);\n",
       "          s.async = true;\n",
       "          s.onload = () => {\n",
       "            VEGA_DEBUG[key] = version;\n",
       "            return resolve(paths[lib]);\n",
       "          };\n",
       "          s.onerror = () => reject(`Error loading script: ${paths[lib]}`);\n",
       "          s.src = paths[lib];\n",
       "        });\n",
       "    }\n",
       "\n",
       "    function showError(err) {\n",
       "      outputDiv.innerHTML = `<div class=\"error\" style=\"color:red;\">${err}</div>`;\n",
       "      throw err;\n",
       "    }\n",
       "\n",
       "    function displayChart(vegaEmbed) {\n",
       "      vegaEmbed(outputDiv, spec, embedOpt)\n",
       "        .catch(err => showError(`Javascript Error: ${err.message}<br>This usually means there's a typo in your chart specification. See the javascript console for the full traceback.`));\n",
       "    }\n",
       "\n",
       "    if(typeof define === \"function\" && define.amd) {\n",
       "      requirejs.config({paths});\n",
       "      require([\"vega-embed\"], displayChart, err => showError(`Error loading script: ${err.message}`));\n",
       "    } else {\n",
       "      maybeLoadScript(\"vega\", \"5\")\n",
       "        .then(() => maybeLoadScript(\"vega-lite\", \"v4.17.0\"))\n",
       "        .then(() => maybeLoadScript(\"vega-embed\", \"6\"))\n",
       "        .catch(showError)\n",
       "        .then(() => displayChart(vegaEmbed));\n",
       "    }\n",
       "  })({\"$schema\": \"https://vega.github.io/schema/vega/v5.json\", \"data\": [{\"name\": \"source_0\", \"values\": [{\"text\": \"0a\"}, {\"text\": \"0b\"}]}, {\"name\": \"source_1\", \"values\": [{\"text\": \"1a\"}, {\"text\": \"1b\"}]}], \"signals\": [{\"name\": \"childHeight\", \"value\": 20}, {\"name\": \"concat_0_childWidth\", \"value\": 20}], \"marks\": [{\"type\": \"group\", \"name\": \"concat_0_group\", \"marks\": [{\"type\": \"group\", \"name\": \"concat_0_concat_0_group\", \"encode\": {\"update\": {\"width\": {\"signal\": \"concat_0_childWidth\"}, \"height\": {\"signal\": \"childHeight\"}}}, \"marks\": [{\"type\": \"text\", \"name\": \"concat_0_concat_0_marks\", \"from\": {\"data\": \"source_0\"}, \"encode\": {\"update\": {\"text\": {\"signal\": \"isValid(datum[\\\"text\\\"]) ? datum[\\\"text\\\"] : \\\"\\\"+datum[\\\"text\\\"]\"}, \"fill\": {\"value\": \"black\"}, \"x\": {\"signal\": \"concat_0_childWidth\", \"mult\": 0.5}, \"align\": {\"value\": \"center\"}, \"description\": {\"signal\": \"\\\"text: \\\" + (isValid(datum[\\\"text\\\"]) ? datum[\\\"text\\\"] : \\\"\\\"+datum[\\\"text\\\"])\"}, \"y\": {\"signal\": \"childHeight\", \"mult\": 0.5}, \"baseline\": {\"value\": \"middle\"}}}, \"style\": [\"text\"]}], \"title\": {\"text\": \"0\", \"frame\": \"group\"}, \"style\": \"cell\"}, {\"type\": \"group\", \"name\": \"concat_0_concat_1_group\", \"encode\": {\"update\": {\"width\": {\"signal\": \"concat_0_childWidth\"}, \"height\": {\"signal\": \"childHeight\"}}}, \"marks\": [{\"type\": \"text\", \"name\": \"concat_0_concat_1_marks\", \"from\": {\"data\": \"source_1\"}, \"encode\": {\"update\": {\"x\": {\"signal\": \"concat_0_childWidth\", \"mult\": 0.5}, \"description\": {\"signal\": \"\\\"text: \\\" + (isValid(datum[\\\"text\\\"]) ? datum[\\\"text\\\"] : \\\"\\\"+datum[\\\"text\\\"])\"}, \"align\": {\"value\": \"center\"}, \"fill\": {\"value\": \"black\"}, \"baseline\": {\"value\": \"middle\"}, \"text\": {\"signal\": \"isValid(datum[\\\"text\\\"]) ? datum[\\\"text\\\"] : \\\"\\\"+datum[\\\"text\\\"]\"}, \"y\": {\"signal\": \"childHeight\", \"mult\": 0.5}}}, \"style\": [\"text\"]}], \"title\": {\"text\": \"1\", \"frame\": \"group\"}, \"style\": \"cell\"}], \"layout\": {\"padding\": 20, \"bounds\": \"full\", \"align\": \"each\"}}], \"padding\": 5, \"layout\": {\"padding\": 20, \"columns\": 1, \"bounds\": \"full\", \"align\": \"each\"}, \"background\": \"white\"}, {\"mode\": \"vega\"});\n",
       "</script>"
      ],
      "text/plain": [
       "alt.VConcatChart(...)"
      ]
     },
     "execution_count": null,
     "metadata": {},
     "output_type": "execute_result"
    }
   ],
   "source": [
    "facet_wrap(test_data, test_plot, col = 'row')"
   ]
  },
  {
   "cell_type": "code",
   "execution_count": null,
   "id": "d4d89287-ab8e-4f47-ba31-cad71418828c",
   "metadata": {},
   "outputs": [
    {
     "data": {
      "text/html": [
       "\n",
       "<div id=\"altair-viz-{}\"></div>\n",
       "<script type=\"text/javascript\">\n",
       "  var VEGA_DEBUG = (typeof VEGA_DEBUG == \"undefined\") ? {} : VEGA_DEBUG;\n",
       "  (function(spec, embedOpt){\n",
       "    let outputDiv = document.currentScript.previousElementSibling;\n",
       "    if (outputDiv.id !== \"altair-viz-{}\") {\n",
       "      outputDiv = document.getElementById(\"altair-viz-{}\");\n",
       "    }\n",
       "    const paths = {\n",
       "      \"vega\": \"https://cdn.jsdelivr.net/npm//vega@5?noext\",\n",
       "      \"vega-lib\": \"https://cdn.jsdelivr.net/npm//vega-lib?noext\",\n",
       "      \"vega-lite\": \"https://cdn.jsdelivr.net/npm//vega-lite@v4.17.0?noext\",\n",
       "      \"vega-embed\": \"https://cdn.jsdelivr.net/npm//vega-embed@6?noext\",\n",
       "    };\n",
       "\n",
       "    function maybeLoadScript(lib, version) {\n",
       "      var key = `${lib.replace(\"-\", \"\")}_version`;\n",
       "      return (VEGA_DEBUG[key] == version) ?\n",
       "        Promise.resolve(paths[lib]) :\n",
       "        new Promise(function(resolve, reject) {\n",
       "          var s = document.createElement('script');\n",
       "          document.getElementsByTagName(\"head\")[0].appendChild(s);\n",
       "          s.async = true;\n",
       "          s.onload = () => {\n",
       "            VEGA_DEBUG[key] = version;\n",
       "            return resolve(paths[lib]);\n",
       "          };\n",
       "          s.onerror = () => reject(`Error loading script: ${paths[lib]}`);\n",
       "          s.src = paths[lib];\n",
       "        });\n",
       "    }\n",
       "\n",
       "    function showError(err) {\n",
       "      outputDiv.innerHTML = `<div class=\"error\" style=\"color:red;\">${err}</div>`;\n",
       "      throw err;\n",
       "    }\n",
       "\n",
       "    function displayChart(vegaEmbed) {\n",
       "      vegaEmbed(outputDiv, spec, embedOpt)\n",
       "        .catch(err => showError(`Javascript Error: ${err.message}<br>This usually means there's a typo in your chart specification. See the javascript console for the full traceback.`));\n",
       "    }\n",
       "\n",
       "    if(typeof define === \"function\" && define.amd) {\n",
       "      requirejs.config({paths});\n",
       "      require([\"vega-embed\"], displayChart, err => showError(`Error loading script: ${err.message}`));\n",
       "    } else {\n",
       "      maybeLoadScript(\"vega\", \"5\")\n",
       "        .then(() => maybeLoadScript(\"vega-lite\", \"v4.17.0\"))\n",
       "        .then(() => maybeLoadScript(\"vega-embed\", \"6\"))\n",
       "        .catch(showError)\n",
       "        .then(() => displayChart(vegaEmbed));\n",
       "    }\n",
       "  })({\"$schema\": \"https://vega.github.io/schema/vega/v5.json\", \"data\": [{\"name\": \"source_0\", \"values\": [{\"text\": \"0a\"}]}, {\"name\": \"source_1\", \"values\": [{\"text\": \"0b\"}]}, {\"name\": \"source_2\", \"values\": [{\"text\": \"1a\"}]}, {\"name\": \"source_3\", \"values\": [{\"text\": \"1b\"}]}], \"signals\": [{\"name\": \"concat_0_childHeight\", \"value\": 20}, {\"name\": \"concat_0_concat_0_childWidth\", \"value\": 20}, {\"name\": \"concat_1_childHeight\", \"value\": 20}, {\"name\": \"concat_1_concat_0_childWidth\", \"value\": 20}], \"marks\": [{\"type\": \"group\", \"name\": \"concat_0_group\", \"marks\": [{\"type\": \"group\", \"name\": \"concat_0_concat_0_group\", \"marks\": [{\"type\": \"group\", \"name\": \"concat_0_concat_0_concat_0_group\", \"encode\": {\"update\": {\"height\": {\"signal\": \"concat_0_childHeight\"}, \"width\": {\"signal\": \"concat_0_concat_0_childWidth\"}}}, \"marks\": [{\"type\": \"text\", \"name\": \"concat_0_concat_0_concat_0_marks\", \"from\": {\"data\": \"source_0\"}, \"encode\": {\"update\": {\"fill\": {\"value\": \"black\"}, \"text\": {\"signal\": \"isValid(datum[\\\"text\\\"]) ? datum[\\\"text\\\"] : \\\"\\\"+datum[\\\"text\\\"]\"}, \"align\": {\"value\": \"center\"}, \"y\": {\"signal\": \"concat_0_childHeight\", \"mult\": 0.5}, \"baseline\": {\"value\": \"middle\"}, \"x\": {\"signal\": \"concat_0_concat_0_childWidth\", \"mult\": 0.5}, \"description\": {\"signal\": \"\\\"text: \\\" + (isValid(datum[\\\"text\\\"]) ? datum[\\\"text\\\"] : \\\"\\\"+datum[\\\"text\\\"])\"}}}, \"style\": [\"text\"]}], \"title\": {\"text\": \"a\", \"frame\": \"group\"}, \"style\": \"cell\"}, {\"type\": \"group\", \"name\": \"concat_0_concat_0_concat_1_group\", \"encode\": {\"update\": {\"height\": {\"signal\": \"concat_0_childHeight\"}, \"width\": {\"signal\": \"concat_0_concat_0_childWidth\"}}}, \"marks\": [{\"type\": \"text\", \"name\": \"concat_0_concat_0_concat_1_marks\", \"from\": {\"data\": \"source_1\"}, \"encode\": {\"update\": {\"baseline\": {\"value\": \"middle\"}, \"description\": {\"signal\": \"\\\"text: \\\" + (isValid(datum[\\\"text\\\"]) ? datum[\\\"text\\\"] : \\\"\\\"+datum[\\\"text\\\"])\"}, \"x\": {\"signal\": \"concat_0_concat_0_childWidth\", \"mult\": 0.5}, \"y\": {\"signal\": \"concat_0_childHeight\", \"mult\": 0.5}, \"text\": {\"signal\": \"isValid(datum[\\\"text\\\"]) ? datum[\\\"text\\\"] : \\\"\\\"+datum[\\\"text\\\"]\"}, \"fill\": {\"value\": \"black\"}, \"align\": {\"value\": \"center\"}}}, \"style\": [\"text\"]}], \"title\": {\"text\": \"b\", \"frame\": \"group\"}, \"style\": \"cell\"}], \"layout\": {\"padding\": 20, \"bounds\": \"full\", \"align\": \"each\"}}], \"title\": {\"text\": \"0\", \"anchor\": \"start\"}, \"layout\": {\"padding\": 20, \"columns\": 1, \"bounds\": \"full\", \"align\": \"each\"}}, {\"type\": \"group\", \"name\": \"concat_1_group\", \"marks\": [{\"type\": \"group\", \"name\": \"concat_1_concat_0_group\", \"marks\": [{\"type\": \"group\", \"name\": \"concat_1_concat_0_concat_0_group\", \"encode\": {\"update\": {\"width\": {\"signal\": \"concat_1_concat_0_childWidth\"}, \"height\": {\"signal\": \"concat_1_childHeight\"}}}, \"marks\": [{\"type\": \"text\", \"name\": \"concat_1_concat_0_concat_0_marks\", \"from\": {\"data\": \"source_2\"}, \"encode\": {\"update\": {\"fill\": {\"value\": \"black\"}, \"y\": {\"signal\": \"concat_1_childHeight\", \"mult\": 0.5}, \"text\": {\"signal\": \"isValid(datum[\\\"text\\\"]) ? datum[\\\"text\\\"] : \\\"\\\"+datum[\\\"text\\\"]\"}, \"baseline\": {\"value\": \"middle\"}, \"x\": {\"signal\": \"concat_1_concat_0_childWidth\", \"mult\": 0.5}, \"align\": {\"value\": \"center\"}, \"description\": {\"signal\": \"\\\"text: \\\" + (isValid(datum[\\\"text\\\"]) ? datum[\\\"text\\\"] : \\\"\\\"+datum[\\\"text\\\"])\"}}}, \"style\": [\"text\"]}], \"title\": {\"text\": \"a\", \"frame\": \"group\"}, \"style\": \"cell\"}, {\"type\": \"group\", \"name\": \"concat_1_concat_0_concat_1_group\", \"encode\": {\"update\": {\"width\": {\"signal\": \"concat_1_concat_0_childWidth\"}, \"height\": {\"signal\": \"concat_1_childHeight\"}}}, \"marks\": [{\"type\": \"text\", \"name\": \"concat_1_concat_0_concat_1_marks\", \"from\": {\"data\": \"source_3\"}, \"encode\": {\"update\": {\"y\": {\"signal\": \"concat_1_childHeight\", \"mult\": 0.5}, \"description\": {\"signal\": \"\\\"text: \\\" + (isValid(datum[\\\"text\\\"]) ? datum[\\\"text\\\"] : \\\"\\\"+datum[\\\"text\\\"])\"}, \"align\": {\"value\": \"center\"}, \"fill\": {\"value\": \"black\"}, \"baseline\": {\"value\": \"middle\"}, \"text\": {\"signal\": \"isValid(datum[\\\"text\\\"]) ? datum[\\\"text\\\"] : \\\"\\\"+datum[\\\"text\\\"]\"}, \"x\": {\"signal\": \"concat_1_concat_0_childWidth\", \"mult\": 0.5}}}, \"style\": [\"text\"]}], \"title\": {\"text\": \"b\", \"frame\": \"group\"}, \"style\": \"cell\"}], \"layout\": {\"padding\": 20, \"bounds\": \"full\", \"align\": \"each\"}}], \"title\": {\"text\": \"1\", \"anchor\": \"start\"}, \"layout\": {\"padding\": 20, \"columns\": 1, \"bounds\": \"full\", \"align\": \"each\"}}], \"background\": \"white\", \"padding\": 5, \"layout\": {\"padding\": 20, \"columns\": 1, \"bounds\": \"full\", \"align\": \"each\"}}, {\"mode\": \"vega\"});\n",
       "</script>"
      ],
      "text/plain": [
       "alt.VConcatChart(...)"
      ]
     },
     "execution_count": null,
     "metadata": {},
     "output_type": "execute_result"
    }
   ],
   "source": [
    "facet_grid(test_data, test_plot, col = 'col', row='row')"
   ]
  },
  {
   "cell_type": "code",
   "execution_count": null,
   "id": "a84d31f8-d3f4-4cfd-8f53-0bd9f2590d10",
   "metadata": {},
   "outputs": [],
   "source": []
  }
 ],
 "metadata": {
  "kernelspec": {
   "display_name": "Python (vegafusion)",
   "language": "python",
   "name": "vegafusion"
  }
 },
 "nbformat": 4,
 "nbformat_minor": 5
}
