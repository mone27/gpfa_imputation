{
 "cells": [
  {
   "cell_type": "markdown",
   "id": "085b301f-be5e-452b-8f1f-06ca6b208cee",
   "metadata": {},
   "source": [
    "# Multiple Latent"
   ]
  },
  {
   "cell_type": "markdown",
   "id": "f2e912e7-b728-4c0a-95fa-8ea6b8859578",
   "metadata": {},
   "source": [
    "Trying to use more than 1 latent variable"
   ]
  },
  {
   "cell_type": "code",
   "execution_count": null,
   "id": "03ada13f-4522-4fc1-a7ac-b023b40be150",
   "metadata": {},
   "outputs": [],
   "source": [
    "%load_ext autoreload\n",
    "%autoreload 2\n",
    "\n",
    "%matplotlib inline"
   ]
  },
  {
   "cell_type": "code",
   "execution_count": null,
   "id": "192bb640-520e-4c0f-b821-4bc70c06a1bb",
   "metadata": {},
   "outputs": [],
   "source": [
    "from gpfa_imputation.imputation import *\n",
    "from gpfa_imputation.data_preparation import *\n",
    "from gpfa_imputation.results import *\n",
    "\n",
    "import torch\n",
    "import pandas as pd\n",
    "import numpy as np\n",
    "from pathlib import Path\n",
    "from pyprojroot import here\n",
    "import matplotlib.pyplot as plt\n",
    "\n",
    "from gpfa_imputation.utils import cache_disk"
   ]
  },
  {
   "cell_type": "code",
   "execution_count": null,
   "id": "eab13fe5-808c-4535-bebc-0c1a6afa5b4d",
   "metadata": {},
   "outputs": [],
   "source": [
    "def reset_seed():\n",
    "    torch.manual_seed(27);\n",
    "    np.random.seed(27);"
   ]
  },
  {
   "cell_type": "code",
   "execution_count": null,
   "id": "f4c310a2-9cde-4c2b-ac40-e375ddff3c8b",
   "metadata": {},
   "outputs": [],
   "source": [
    "torch.manual_seed(27);\n",
    "np.random.seed(27);\n",
    "cache_path = here() / \".cache\""
   ]
  },
  {
   "cell_type": "markdown",
   "id": "67c5920a-4289-4c46-8218-f29719d4d772",
   "metadata": {},
   "source": [
    "## Load Data\n",
    "\n",
    "take the first 200 rows from the Hainich dataset"
   ]
  },
  {
   "cell_type": "code",
   "execution_count": null,
   "id": "b9cb7a13-db9a-4142-b567-954eb9689489",
   "metadata": {},
   "outputs": [],
   "source": [
    "hai_path = Path(\"FLX_DE-Hai_FLUXNET2015_FULLSET_HH_2000-2012_1-4.csv\")\n",
    "hai_raw = pd.read_csv(here(\"data\") / hai_path, na_values=[\"-9999\", \"-9999.99\"], parse_dates=[0, 1], nrows=200)"
   ]
  },
  {
   "cell_type": "code",
   "execution_count": null,
   "id": "c3b4a609-839a-4bd6-84a7-fa3758816797",
   "metadata": {},
   "outputs": [
    {
     "data": {
      "text/html": [
       "<div>\n",
       "<style scoped>\n",
       "    .dataframe tbody tr th:only-of-type {\n",
       "        vertical-align: middle;\n",
       "    }\n",
       "\n",
       "    .dataframe tbody tr th {\n",
       "        vertical-align: top;\n",
       "    }\n",
       "\n",
       "    .dataframe thead th {\n",
       "        text-align: right;\n",
       "    }\n",
       "</style>\n",
       "<table border=\"1\" class=\"dataframe\">\n",
       "  <thead>\n",
       "    <tr style=\"text-align: right;\">\n",
       "      <th></th>\n",
       "      <th>TA</th>\n",
       "      <th>SW_IN</th>\n",
       "      <th>LW_IN</th>\n",
       "      <th>VPD</th>\n",
       "    </tr>\n",
       "    <tr>\n",
       "      <th>TIMESTAMP_END</th>\n",
       "      <th></th>\n",
       "      <th></th>\n",
       "      <th></th>\n",
       "      <th></th>\n",
       "    </tr>\n",
       "  </thead>\n",
       "  <tbody>\n",
       "    <tr>\n",
       "      <th>2000-01-01 00:30:00</th>\n",
       "      <td>-0.60</td>\n",
       "      <td>0.0</td>\n",
       "      <td>302.475</td>\n",
       "      <td>0.222</td>\n",
       "    </tr>\n",
       "    <tr>\n",
       "      <th>2000-01-01 01:00:00</th>\n",
       "      <td>-0.65</td>\n",
       "      <td>0.0</td>\n",
       "      <td>302.475</td>\n",
       "      <td>0.122</td>\n",
       "    </tr>\n",
       "    <tr>\n",
       "      <th>2000-01-01 01:30:00</th>\n",
       "      <td>-0.58</td>\n",
       "      <td>0.0</td>\n",
       "      <td>301.677</td>\n",
       "      <td>0.090</td>\n",
       "    </tr>\n",
       "    <tr>\n",
       "      <th>2000-01-01 02:00:00</th>\n",
       "      <td>-0.51</td>\n",
       "      <td>0.0</td>\n",
       "      <td>301.677</td>\n",
       "      <td>0.110</td>\n",
       "    </tr>\n",
       "    <tr>\n",
       "      <th>2000-01-01 02:30:00</th>\n",
       "      <td>-0.49</td>\n",
       "      <td>0.0</td>\n",
       "      <td>301.677</td>\n",
       "      <td>0.102</td>\n",
       "    </tr>\n",
       "    <tr>\n",
       "      <th>...</th>\n",
       "      <td>...</td>\n",
       "      <td>...</td>\n",
       "      <td>...</td>\n",
       "      <td>...</td>\n",
       "    </tr>\n",
       "    <tr>\n",
       "      <th>2000-01-05 02:00:00</th>\n",
       "      <td>4.74</td>\n",
       "      <td>0.0</td>\n",
       "      <td>330.202</td>\n",
       "      <td>1.191</td>\n",
       "    </tr>\n",
       "    <tr>\n",
       "      <th>2000-01-05 02:30:00</th>\n",
       "      <td>4.75</td>\n",
       "      <td>0.0</td>\n",
       "      <td>330.202</td>\n",
       "      <td>1.057</td>\n",
       "    </tr>\n",
       "    <tr>\n",
       "      <th>2000-01-05 03:00:00</th>\n",
       "      <td>4.76</td>\n",
       "      <td>0.0</td>\n",
       "      <td>330.202</td>\n",
       "      <td>0.935</td>\n",
       "    </tr>\n",
       "    <tr>\n",
       "      <th>2000-01-05 03:30:00</th>\n",
       "      <td>4.62</td>\n",
       "      <td>0.0</td>\n",
       "      <td>330.202</td>\n",
       "      <td>1.162</td>\n",
       "    </tr>\n",
       "    <tr>\n",
       "      <th>2000-01-05 04:00:00</th>\n",
       "      <td>4.51</td>\n",
       "      <td>0.0</td>\n",
       "      <td>330.202</td>\n",
       "      <td>1.636</td>\n",
       "    </tr>\n",
       "  </tbody>\n",
       "</table>\n",
       "<p>200 rows × 4 columns</p>\n",
       "</div>"
      ],
      "text/plain": [
       "                       TA  SW_IN    LW_IN    VPD\n",
       "TIMESTAMP_END                                   \n",
       "2000-01-01 00:30:00 -0.60    0.0  302.475  0.222\n",
       "2000-01-01 01:00:00 -0.65    0.0  302.475  0.122\n",
       "2000-01-01 01:30:00 -0.58    0.0  301.677  0.090\n",
       "2000-01-01 02:00:00 -0.51    0.0  301.677  0.110\n",
       "2000-01-01 02:30:00 -0.49    0.0  301.677  0.102\n",
       "...                   ...    ...      ...    ...\n",
       "2000-01-05 02:00:00  4.74    0.0  330.202  1.191\n",
       "2000-01-05 02:30:00  4.75    0.0  330.202  1.057\n",
       "2000-01-05 03:00:00  4.76    0.0  330.202  0.935\n",
       "2000-01-05 03:30:00  4.62    0.0  330.202  1.162\n",
       "2000-01-05 04:00:00  4.51    0.0  330.202  1.636\n",
       "\n",
       "[200 rows x 4 columns]"
      ]
     },
     "execution_count": null,
     "metadata": {},
     "output_type": "execute_result"
    }
   ],
   "source": [
    "meteo_vars = {\n",
    "    \"TA_F\": \"TA\",\n",
    "    \"SW_IN_F\": \"SW_IN\",\n",
    "    \"LW_IN_F\": \"LW_IN\",\n",
    "    \"VPD_F\": \"VPD\",\n",
    "    #\"PA\": \"PA\"\n",
    "}\n",
    "\n",
    "units = {\n",
    "    'TA': '°C',\n",
    "    'SW_IN': 'W m-2',\n",
    "    'LW_IN': 'W m-2',\n",
    "    'VPD': 'hPa'\n",
    "}\n",
    "\n",
    "hai = (hai_raw\n",
    "       .rename(columns=meteo_vars)\n",
    "       .set_index(\"TIMESTAMP_END\")\n",
    "       .loc[:, meteo_vars.values()])\n",
    "hai"
   ]
  },
  {
   "cell_type": "markdown",
   "id": "5d7fdfdf-1303-488e-8289-28b0ce0f09d3",
   "metadata": {},
   "source": [
    "###  Computation\n",
    "\n",
    "makes here all the slow computations and cache them on disk"
   ]
  },
  {
   "cell_type": "code",
   "execution_count": null,
   "id": "d62c97b7-2d03-4046-84bc-3bca6144a20b",
   "metadata": {},
   "outputs": [],
   "source": [
    "reset_seed()\n",
    "data_r_gaps = GPFADataTest(hai[:150]).add_random_missing()\n",
    "data_c_gaps = GPFADataTest(hai[:150]).add_gap(15, meteo_vars.values())"
   ]
  },
  {
   "cell_type": "code",
   "execution_count": null,
   "id": "47888035-8cea-4b6d-a902-e68a2ed329bd",
   "metadata": {},
   "outputs": [],
   "source": [
    "cache_file_gaps = cache_path / \"hai_diff_latents.pickle\"\n",
    "# cache_file_gaps.unlink() # uncomment this line to reset the cache"
   ]
  },
  {
   "cell_type": "code",
   "execution_count": null,
   "id": "14483dc8-8920-490d-8eef-636b6e6fd2b9",
   "metadata": {},
   "outputs": [],
   "source": [
    "@cache_disk(cache_file_gaps)\n",
    "def compute_multiple_latent():\n",
    "    hai_r_gaps = [GPFAImputation(\n",
    "        data_r_gaps.data, latent_dims=i)\n",
    "                  .fit()\n",
    "                  .to_result(data_r_gaps.data_compl_tidy, units=units)\n",
    "                  for i in range(1,4)]\n",
    "    hai_c_gaps = [GPFAImputationExplorer(\n",
    "        data_c_gaps.data, latent_dims=i)\n",
    "                  .fit()\n",
    "                  .to_result(data_c_gaps.data_compl_tidy, units=units)\n",
    "                  for i in range(1,4)]\n",
    "    return hai_r_gaps, hai_c_gaps"
   ]
  },
  {
   "cell_type": "code",
   "execution_count": null,
   "id": "551e00dd-90dc-45db-8e3c-f3ab71c95de7",
   "metadata": {},
   "outputs": [
    {
     "data": {
      "application/vnd.jupyter.widget-view+json": {
       "model_id": "f12e1b607ef84db1afa1004261d24fad",
       "version_major": 2,
       "version_minor": 0
      },
      "text/plain": [
       "  0%|          | 0/100 [00:00<?, ?it/s]"
      ]
     },
     "metadata": {},
     "output_type": "display_data"
    },
    {
     "name": "stderr",
     "output_type": "stream",
     "text": [
      "/home/simone/anaconda3/envs/data-science/lib/python3.10/site-packages/gpytorch/lazy/triangular_lazy_tensor.py:136: UserWarning: torch.triangular_solve is deprecated in favor of torch.linalg.solve_triangularand will be removed in a future PyTorch release.\n",
      "torch.linalg.solve_triangular has its arguments reversed and does not return a copy of one of the inputs.\n",
      "X = torch.triangular_solve(B, A).solution\n",
      "should be replaced with\n",
      "X = torch.linalg.solve_triangular(A, B). (Triggered internally at  ../aten/src/ATen/native/BatchLinearAlgebra.cpp:2183.)\n",
      "  res = torch.triangular_solve(right_tensor, self.evaluate(), upper=self.upper).solution\n",
      "/home/simone/anaconda3/envs/data-science/lib/python3.10/site-packages/torch/autograd/__init__.py:173: UserWarning: operator() profile_node %840 : int[] = prim::profile_ivalue(%838)\n",
      " does not have profile information (Triggered internally at  ../torch/csrc/jit/codegen/cuda/graph_fuser.cpp:104.)\n",
      "  Variable._execution_engine.run_backward(  # Calls into the C++ engine to run the backward pass\n"
     ]
    },
    {
     "data": {
      "application/vnd.jupyter.widget-view+json": {
       "model_id": "cfe10740db4244c8bd5d8d69f878e0d1",
       "version_major": 2,
       "version_minor": 0
      },
      "text/plain": [
       "  0%|          | 0/100 [00:00<?, ?it/s]"
      ]
     },
     "metadata": {},
     "output_type": "display_data"
    },
    {
     "data": {
      "application/vnd.jupyter.widget-view+json": {
       "model_id": "9d442562a8664cb7a0008e188bd27fa8",
       "version_major": 2,
       "version_minor": 0
      },
      "text/plain": [
       "  0%|          | 0/100 [00:00<?, ?it/s]"
      ]
     },
     "metadata": {},
     "output_type": "display_data"
    },
    {
     "data": {
      "application/vnd.jupyter.widget-view+json": {
       "model_id": "8fee895838ea4e85b235d9bcdb5918b1",
       "version_major": 2,
       "version_minor": 0
      },
      "text/plain": [
       "  0%|          | 0/100 [00:00<?, ?it/s]"
      ]
     },
     "metadata": {},
     "output_type": "display_data"
    },
    {
     "data": {
      "application/vnd.jupyter.widget-view+json": {
       "model_id": "d5d543d54a20423c865036503b0c4e50",
       "version_major": 2,
       "version_minor": 0
      },
      "text/plain": [
       "  0%|          | 0/100 [00:00<?, ?it/s]"
      ]
     },
     "metadata": {},
     "output_type": "display_data"
    },
    {
     "data": {
      "application/vnd.jupyter.widget-view+json": {
       "model_id": "d56f2e2ef2d34140bc53bc6c4300992c",
       "version_major": 2,
       "version_minor": 0
      },
      "text/plain": [
       "  0%|          | 0/100 [00:00<?, ?it/s]"
      ]
     },
     "metadata": {},
     "output_type": "display_data"
    }
   ],
   "source": [
    "hai_r_gaps, hai_c_gaps = compute_multiple_latent()"
   ]
  },
  {
   "cell_type": "markdown",
   "id": "98d61e8c-fe7c-45d9-860b-cb1290a684c5",
   "metadata": {},
   "source": [
    "## Random Gaps"
   ]
  },
  {
   "cell_type": "code",
   "execution_count": null,
   "id": "ffaf184a-78a0-4a88-989f-ef3c8611cfb4",
   "metadata": {},
   "outputs": [],
   "source": [
    "hai_r_gaps"
   ]
  },
  {
   "cell_type": "code",
   "execution_count": null,
   "id": "306d6c54-a189-4566-aa12-683b0fc1fca9",
   "metadata": {},
   "outputs": [],
   "source": [
    "hai_r_gaps[0].display_results()"
   ]
  },
  {
   "cell_type": "code",
   "execution_count": null,
   "id": "133cf572-4a5a-44f2-8ba5-ce12ee24f985",
   "metadata": {},
   "outputs": [],
   "source": [
    "hai_r_gaps[0].plot_pred()"
   ]
  },
  {
   "cell_type": "code",
   "execution_count": null,
   "id": "9569365a-8010-4397-a0ed-f45b1e5cb7cd",
   "metadata": {},
   "outputs": [],
   "source": [
    "hai_r_gaps[1].display_results()"
   ]
  },
  {
   "cell_type": "code",
   "execution_count": null,
   "id": "9659322b-b78b-49c2-856d-fdb449bd3a4e",
   "metadata": {},
   "outputs": [],
   "source": [
    "hai_r_gaps[2].display_results()"
   ]
  },
  {
   "cell_type": "markdown",
   "id": "31c99dfc-b4cb-40be-bc74-d7857d5efbd2",
   "metadata": {},
   "source": [
    "## Continous gap"
   ]
  },
  {
   "cell_type": "code",
   "execution_count": null,
   "id": "7e10a4d7-6139-4f37-a328-b9dfbd3b68e0",
   "metadata": {},
   "outputs": [],
   "source": [
    "hai_c_gaps[0].display_results()"
   ]
  },
  {
   "cell_type": "code",
   "execution_count": null,
   "id": "b193111b-f86d-4659-a096-4268a66d91bd",
   "metadata": {},
   "outputs": [],
   "source": [
    "hai_c_gaps[1].display_results()"
   ]
  },
  {
   "cell_type": "code",
   "execution_count": null,
   "id": "585f6c0a-5a35-4e81-9897-89138ca6bc5a",
   "metadata": {},
   "outputs": [],
   "source": [
    "hai_c_gaps[2].display_results()"
   ]
  },
  {
   "cell_type": "code",
   "execution_count": null,
   "id": "ffa34eab-2b10-49d0-8a2d-bc20f4e5cd13",
   "metadata": {},
   "outputs": [],
   "source": []
  }
 ],
 "metadata": {
  "kernelspec": {
   "display_name": "data_science",
   "language": "python",
   "name": "data_science"
  },
  "widgets": {
   "application/vnd.jupyter.widget-state+json": {
    "state": {
     "023f05d0c9e141188fe6de3f21b38178": {
      "model_module": "@jupyter-widgets/controls",
      "model_module_version": "2.0.0",
      "model_name": "HTMLModel",
      "state": {
       "layout": "IPY_MODEL_8978a967260442dc857a9faed83efec4",
       "style": "IPY_MODEL_5231688cf18241d4bbbe668d49811444",
       "value": " 100/100 [06:08&lt;00:00,  3.58s/it]"
      }
     },
     "045111ccdf3c444498dc747f25c6c3cf": {
      "model_module": "@jupyter-widgets/controls",
      "model_module_version": "2.0.0",
      "model_name": "ProgressStyleModel",
      "state": {
       "description_width": ""
      }
     },
     "077dfc5569e54317871ea2f6cd18ad4a": {
      "model_module": "@jupyter-widgets/base",
      "model_module_version": "2.0.0",
      "model_name": "LayoutModel",
      "state": {}
     },
     "0c2d0f49821a4c88a9b64cd250925e74": {
      "model_module": "@jupyter-widgets/controls",
      "model_module_version": "2.0.0",
      "model_name": "HTMLModel",
      "state": {
       "layout": "IPY_MODEL_c8ce6f6e38f94750a72a24ef183d4d2f",
       "style": "IPY_MODEL_a2023b9842114d08a3d90f67ee0dcd83",
       "value": "100%"
      }
     },
     "0ceed717b5874577a8dca36675c793cf": {
      "model_module": "@jupyter-widgets/base",
      "model_module_version": "2.0.0",
      "model_name": "LayoutModel",
      "state": {}
     },
     "0db00a14844d459cba19ba1a71f4b99e": {
      "model_module": "@jupyter-widgets/base",
      "model_module_version": "2.0.0",
      "model_name": "LayoutModel",
      "state": {}
     },
     "15266e023d2f4288bfbc6e6e792292a3": {
      "model_module": "@jupyter-widgets/controls",
      "model_module_version": "2.0.0",
      "model_name": "HTMLStyleModel",
      "state": {
       "description_width": "",
       "font_size": null,
       "text_color": null
      }
     },
     "23bd2e3aa06a4ab0b97dd6b7e2a9f3de": {
      "model_module": "@jupyter-widgets/base",
      "model_module_version": "2.0.0",
      "model_name": "LayoutModel",
      "state": {}
     },
     "266ae1852ce248b99a6d3a2cee45bb71": {
      "model_module": "@jupyter-widgets/base",
      "model_module_version": "2.0.0",
      "model_name": "LayoutModel",
      "state": {}
     },
     "275216c86592477d97cbd4eb91893b43": {
      "model_module": "@jupyter-widgets/controls",
      "model_module_version": "2.0.0",
      "model_name": "HTMLStyleModel",
      "state": {
       "description_width": "",
       "font_size": null,
       "text_color": null
      }
     },
     "2bb6747328a347b0a1a1864e281065d2": {
      "model_module": "@jupyter-widgets/controls",
      "model_module_version": "2.0.0",
      "model_name": "FloatProgressModel",
      "state": {
       "bar_style": "success",
       "layout": "IPY_MODEL_ed81c68d65414223aa52f52e71a6448b",
       "style": "IPY_MODEL_ba42a13fe5b74f30ba4a803b23ac9c49",
       "value": 100
      }
     },
     "31788cd95590433095706fde8e20ee3d": {
      "model_module": "@jupyter-widgets/base",
      "model_module_version": "2.0.0",
      "model_name": "LayoutModel",
      "state": {}
     },
     "334bce5513804d84a3b340bcfde97ebe": {
      "model_module": "@jupyter-widgets/controls",
      "model_module_version": "2.0.0",
      "model_name": "HTMLModel",
      "state": {
       "layout": "IPY_MODEL_31788cd95590433095706fde8e20ee3d",
       "style": "IPY_MODEL_15266e023d2f4288bfbc6e6e792292a3",
       "value": "100%"
      }
     },
     "3775ad3d16104ec0a92dfa7f69edbf7a": {
      "model_module": "@jupyter-widgets/base",
      "model_module_version": "2.0.0",
      "model_name": "LayoutModel",
      "state": {}
     },
     "393f3a7d63114f71b3db10bc76d3c86d": {
      "model_module": "@jupyter-widgets/base",
      "model_module_version": "2.0.0",
      "model_name": "LayoutModel",
      "state": {}
     },
     "3cd7001488e44464ac82a6225df290e5": {
      "model_module": "@jupyter-widgets/controls",
      "model_module_version": "2.0.0",
      "model_name": "HTMLStyleModel",
      "state": {
       "description_width": "",
       "font_size": null,
       "text_color": null
      }
     },
     "3de0b65ad91c4e77b463386428ee5fbc": {
      "model_module": "@jupyter-widgets/controls",
      "model_module_version": "2.0.0",
      "model_name": "HTMLStyleModel",
      "state": {
       "description_width": "",
       "font_size": null,
       "text_color": null
      }
     },
     "4402487e640d464d8b6996f6e195ba4d": {
      "model_module": "@jupyter-widgets/controls",
      "model_module_version": "2.0.0",
      "model_name": "HTMLModel",
      "state": {
       "layout": "IPY_MODEL_e3fa9066d7014ec4b1812ca66c017639",
       "style": "IPY_MODEL_5eeb34a2e1494d858fc257f1897c1b65",
       "value": "100%"
      }
     },
     "5231688cf18241d4bbbe668d49811444": {
      "model_module": "@jupyter-widgets/controls",
      "model_module_version": "2.0.0",
      "model_name": "HTMLStyleModel",
      "state": {
       "description_width": "",
       "font_size": null,
       "text_color": null
      }
     },
     "52a7ceb25d1b4b1b837224fea30dcf59": {
      "model_module": "@jupyter-widgets/controls",
      "model_module_version": "2.0.0",
      "model_name": "HTMLStyleModel",
      "state": {
       "description_width": "",
       "font_size": null,
       "text_color": null
      }
     },
     "5eeb34a2e1494d858fc257f1897c1b65": {
      "model_module": "@jupyter-widgets/controls",
      "model_module_version": "2.0.0",
      "model_name": "HTMLStyleModel",
      "state": {
       "description_width": "",
       "font_size": null,
       "text_color": null
      }
     },
     "6731b97bcbb04d4b9027d5fc2a04c64c": {
      "model_module": "@jupyter-widgets/controls",
      "model_module_version": "2.0.0",
      "model_name": "HTMLModel",
      "state": {
       "layout": "IPY_MODEL_7ed4443835594af7b41cf862c9bf8692",
       "style": "IPY_MODEL_dde146851e3f4c918a0505fba9785533",
       "value": " 100/100 [02:54&lt;00:00,  1.97s/it]"
      }
     },
     "6b6e959fb87b470f8f8bf48139a4304f": {
      "model_module": "@jupyter-widgets/base",
      "model_module_version": "2.0.0",
      "model_name": "LayoutModel",
      "state": {}
     },
     "6d317862f0774f609ceed24137b61403": {
      "model_module": "@jupyter-widgets/controls",
      "model_module_version": "2.0.0",
      "model_name": "HTMLModel",
      "state": {
       "layout": "IPY_MODEL_a90c09c72be14bb497e9fd828fd37c79",
       "style": "IPY_MODEL_52a7ceb25d1b4b1b837224fea30dcf59",
       "value": "100%"
      }
     },
     "6e84eaaf94244c8fbf389afc8ed6a48e": {
      "model_module": "@jupyter-widgets/controls",
      "model_module_version": "2.0.0",
      "model_name": "FloatProgressModel",
      "state": {
       "bar_style": "success",
       "layout": "IPY_MODEL_7b8fe1c78635446f8d7a7d83fb4040ed",
       "style": "IPY_MODEL_cdf7cbe4fe774278a62d454274cdc7f9",
       "value": 100
      }
     },
     "79898887580d44f887861e99fc42c8b5": {
      "model_module": "@jupyter-widgets/controls",
      "model_module_version": "2.0.0",
      "model_name": "FloatProgressModel",
      "state": {
       "bar_style": "success",
       "layout": "IPY_MODEL_c0a420e185e94f83aaba0516f57b7aec",
       "style": "IPY_MODEL_efce09a9b1b64b9bad748c4d050d7a02",
       "value": 100
      }
     },
     "7b8fe1c78635446f8d7a7d83fb4040ed": {
      "model_module": "@jupyter-widgets/base",
      "model_module_version": "2.0.0",
      "model_name": "LayoutModel",
      "state": {}
     },
     "7ed4443835594af7b41cf862c9bf8692": {
      "model_module": "@jupyter-widgets/base",
      "model_module_version": "2.0.0",
      "model_name": "LayoutModel",
      "state": {}
     },
     "809d46daa63f45dcbdd5eff4552670b4": {
      "model_module": "@jupyter-widgets/base",
      "model_module_version": "2.0.0",
      "model_name": "LayoutModel",
      "state": {}
     },
     "8978a967260442dc857a9faed83efec4": {
      "model_module": "@jupyter-widgets/base",
      "model_module_version": "2.0.0",
      "model_name": "LayoutModel",
      "state": {}
     },
     "8f148a474e1d47e6aaf0b7a0c8e6bc6a": {
      "model_module": "@jupyter-widgets/controls",
      "model_module_version": "2.0.0",
      "model_name": "HTMLModel",
      "state": {
       "layout": "IPY_MODEL_0db00a14844d459cba19ba1a71f4b99e",
       "style": "IPY_MODEL_d2e90ce623e341519ae5113c36624903",
       "value": "100%"
      }
     },
     "8fee895838ea4e85b235d9bcdb5918b1": {
      "model_module": "@jupyter-widgets/controls",
      "model_module_version": "2.0.0",
      "model_name": "HBoxModel",
      "state": {
       "children": [
        "IPY_MODEL_6d317862f0774f609ceed24137b61403",
        "IPY_MODEL_b894321ef6fa4bbe97c8fd629eba8128",
        "IPY_MODEL_d01b44a019644ebaa808f686b1acc2e2"
       ],
       "layout": "IPY_MODEL_c75018b2e97141fe94cb21148aa3a307"
      }
     },
     "96573eabfe444af98e22dc9898ccd6cc": {
      "model_module": "@jupyter-widgets/controls",
      "model_module_version": "2.0.0",
      "model_name": "ProgressStyleModel",
      "state": {
       "description_width": ""
      }
     },
     "9b6113c5766f430a98ad352074c71113": {
      "model_module": "@jupyter-widgets/controls",
      "model_module_version": "2.0.0",
      "model_name": "HTMLModel",
      "state": {
       "layout": "IPY_MODEL_a1457ddcae684ee2bbc1f10c0856a857",
       "style": "IPY_MODEL_e884293522e64553a7d0178ef050c530",
       "value": "100%"
      }
     },
     "9d442562a8664cb7a0008e188bd27fa8": {
      "model_module": "@jupyter-widgets/controls",
      "model_module_version": "2.0.0",
      "model_name": "HBoxModel",
      "state": {
       "children": [
        "IPY_MODEL_8f148a474e1d47e6aaf0b7a0c8e6bc6a",
        "IPY_MODEL_2bb6747328a347b0a1a1864e281065d2",
        "IPY_MODEL_f9ed09ca5ae945ffba3053d37b7fe209"
       ],
       "layout": "IPY_MODEL_6b6e959fb87b470f8f8bf48139a4304f"
      }
     },
     "a1457ddcae684ee2bbc1f10c0856a857": {
      "model_module": "@jupyter-widgets/base",
      "model_module_version": "2.0.0",
      "model_name": "LayoutModel",
      "state": {}
     },
     "a2023b9842114d08a3d90f67ee0dcd83": {
      "model_module": "@jupyter-widgets/controls",
      "model_module_version": "2.0.0",
      "model_name": "HTMLStyleModel",
      "state": {
       "description_width": "",
       "font_size": null,
       "text_color": null
      }
     },
     "a400951aa4f7430b9f3a7d431f98d7ae": {
      "model_module": "@jupyter-widgets/controls",
      "model_module_version": "2.0.0",
      "model_name": "ProgressStyleModel",
      "state": {
       "description_width": ""
      }
     },
     "a90c09c72be14bb497e9fd828fd37c79": {
      "model_module": "@jupyter-widgets/base",
      "model_module_version": "2.0.0",
      "model_name": "LayoutModel",
      "state": {}
     },
     "af7f1fe0667c4b35a6c53bbaa5a91daa": {
      "model_module": "@jupyter-widgets/controls",
      "model_module_version": "2.0.0",
      "model_name": "FloatProgressModel",
      "state": {
       "bar_style": "success",
       "layout": "IPY_MODEL_ff865dd565374f378f23c98ea25fac1e",
       "style": "IPY_MODEL_96573eabfe444af98e22dc9898ccd6cc",
       "value": 100
      }
     },
     "b5b7bf4a597845c0b4b4961f37dbfb01": {
      "model_module": "@jupyter-widgets/base",
      "model_module_version": "2.0.0",
      "model_name": "LayoutModel",
      "state": {}
     },
     "b894321ef6fa4bbe97c8fd629eba8128": {
      "model_module": "@jupyter-widgets/controls",
      "model_module_version": "2.0.0",
      "model_name": "FloatProgressModel",
      "state": {
       "bar_style": "success",
       "layout": "IPY_MODEL_0ceed717b5874577a8dca36675c793cf",
       "style": "IPY_MODEL_045111ccdf3c444498dc747f25c6c3cf",
       "value": 100
      }
     },
     "ba42a13fe5b74f30ba4a803b23ac9c49": {
      "model_module": "@jupyter-widgets/controls",
      "model_module_version": "2.0.0",
      "model_name": "ProgressStyleModel",
      "state": {
       "description_width": ""
      }
     },
     "bb06659bd6d24922bbb5b380aa14bd46": {
      "model_module": "@jupyter-widgets/base",
      "model_module_version": "2.0.0",
      "model_name": "LayoutModel",
      "state": {}
     },
     "c0a420e185e94f83aaba0516f57b7aec": {
      "model_module": "@jupyter-widgets/base",
      "model_module_version": "2.0.0",
      "model_name": "LayoutModel",
      "state": {}
     },
     "c249caa671b34d38937dee8fd6093627": {
      "model_module": "@jupyter-widgets/base",
      "model_module_version": "2.0.0",
      "model_name": "LayoutModel",
      "state": {}
     },
     "c2662172b6724c6fbf945919432e4a16": {
      "model_module": "@jupyter-widgets/controls",
      "model_module_version": "2.0.0",
      "model_name": "HTMLModel",
      "state": {
       "layout": "IPY_MODEL_077dfc5569e54317871ea2f6cd18ad4a",
       "style": "IPY_MODEL_3de0b65ad91c4e77b463386428ee5fbc",
       "value": " 100/100 [02:40&lt;00:00,  1.70s/it]"
      }
     },
     "c75018b2e97141fe94cb21148aa3a307": {
      "model_module": "@jupyter-widgets/base",
      "model_module_version": "2.0.0",
      "model_name": "LayoutModel",
      "state": {}
     },
     "c8ce6f6e38f94750a72a24ef183d4d2f": {
      "model_module": "@jupyter-widgets/base",
      "model_module_version": "2.0.0",
      "model_name": "LayoutModel",
      "state": {}
     },
     "cdf7cbe4fe774278a62d454274cdc7f9": {
      "model_module": "@jupyter-widgets/controls",
      "model_module_version": "2.0.0",
      "model_name": "ProgressStyleModel",
      "state": {
       "description_width": ""
      }
     },
     "cfe10740db4244c8bd5d8d69f878e0d1": {
      "model_module": "@jupyter-widgets/controls",
      "model_module_version": "2.0.0",
      "model_name": "HBoxModel",
      "state": {
       "children": [
        "IPY_MODEL_334bce5513804d84a3b340bcfde97ebe",
        "IPY_MODEL_79898887580d44f887861e99fc42c8b5",
        "IPY_MODEL_6731b97bcbb04d4b9027d5fc2a04c64c"
       ],
       "layout": "IPY_MODEL_3775ad3d16104ec0a92dfa7f69edbf7a"
      }
     },
     "d01b44a019644ebaa808f686b1acc2e2": {
      "model_module": "@jupyter-widgets/controls",
      "model_module_version": "2.0.0",
      "model_name": "HTMLModel",
      "state": {
       "layout": "IPY_MODEL_c249caa671b34d38937dee8fd6093627",
       "style": "IPY_MODEL_febd0976fc494d3a882e41e4900b1661",
       "value": " 100/100 [09:14&lt;00:00,  4.18s/it]"
      }
     },
     "d2e90ce623e341519ae5113c36624903": {
      "model_module": "@jupyter-widgets/controls",
      "model_module_version": "2.0.0",
      "model_name": "HTMLStyleModel",
      "state": {
       "description_width": "",
       "font_size": null,
       "text_color": null
      }
     },
     "d56f2e2ef2d34140bc53bc6c4300992c": {
      "model_module": "@jupyter-widgets/controls",
      "model_module_version": "2.0.0",
      "model_name": "HBoxModel",
      "state": {
       "children": [
        "IPY_MODEL_9b6113c5766f430a98ad352074c71113",
        "IPY_MODEL_e84a008ac95f40128a0ba26761d27b73",
        "IPY_MODEL_023f05d0c9e141188fe6de3f21b38178"
       ],
       "layout": "IPY_MODEL_266ae1852ce248b99a6d3a2cee45bb71"
      }
     },
     "d5d543d54a20423c865036503b0c4e50": {
      "model_module": "@jupyter-widgets/controls",
      "model_module_version": "2.0.0",
      "model_name": "HBoxModel",
      "state": {
       "children": [
        "IPY_MODEL_4402487e640d464d8b6996f6e195ba4d",
        "IPY_MODEL_6e84eaaf94244c8fbf389afc8ed6a48e",
        "IPY_MODEL_f026c9ea399a4e5fa0c208a8d54ea8c1"
       ],
       "layout": "IPY_MODEL_23bd2e3aa06a4ab0b97dd6b7e2a9f3de"
      }
     },
     "dde146851e3f4c918a0505fba9785533": {
      "model_module": "@jupyter-widgets/controls",
      "model_module_version": "2.0.0",
      "model_name": "HTMLStyleModel",
      "state": {
       "description_width": "",
       "font_size": null,
       "text_color": null
      }
     },
     "e3fa9066d7014ec4b1812ca66c017639": {
      "model_module": "@jupyter-widgets/base",
      "model_module_version": "2.0.0",
      "model_name": "LayoutModel",
      "state": {}
     },
     "e84a008ac95f40128a0ba26761d27b73": {
      "model_module": "@jupyter-widgets/controls",
      "model_module_version": "2.0.0",
      "model_name": "FloatProgressModel",
      "state": {
       "bar_style": "success",
       "layout": "IPY_MODEL_393f3a7d63114f71b3db10bc76d3c86d",
       "style": "IPY_MODEL_a400951aa4f7430b9f3a7d431f98d7ae",
       "value": 100
      }
     },
     "e884293522e64553a7d0178ef050c530": {
      "model_module": "@jupyter-widgets/controls",
      "model_module_version": "2.0.0",
      "model_name": "HTMLStyleModel",
      "state": {
       "description_width": "",
       "font_size": null,
       "text_color": null
      }
     },
     "ed81c68d65414223aa52f52e71a6448b": {
      "model_module": "@jupyter-widgets/base",
      "model_module_version": "2.0.0",
      "model_name": "LayoutModel",
      "state": {}
     },
     "efce09a9b1b64b9bad748c4d050d7a02": {
      "model_module": "@jupyter-widgets/controls",
      "model_module_version": "2.0.0",
      "model_name": "ProgressStyleModel",
      "state": {
       "description_width": ""
      }
     },
     "f026c9ea399a4e5fa0c208a8d54ea8c1": {
      "model_module": "@jupyter-widgets/controls",
      "model_module_version": "2.0.0",
      "model_name": "HTMLModel",
      "state": {
       "layout": "IPY_MODEL_b5b7bf4a597845c0b4b4961f37dbfb01",
       "style": "IPY_MODEL_3cd7001488e44464ac82a6225df290e5",
       "value": " 100/100 [05:46&lt;00:00,  3.28s/it]"
      }
     },
     "f12e1b607ef84db1afa1004261d24fad": {
      "model_module": "@jupyter-widgets/controls",
      "model_module_version": "2.0.0",
      "model_name": "HBoxModel",
      "state": {
       "children": [
        "IPY_MODEL_0c2d0f49821a4c88a9b64cd250925e74",
        "IPY_MODEL_af7f1fe0667c4b35a6c53bbaa5a91daa",
        "IPY_MODEL_c2662172b6724c6fbf945919432e4a16"
       ],
       "layout": "IPY_MODEL_809d46daa63f45dcbdd5eff4552670b4"
      }
     },
     "f9ed09ca5ae945ffba3053d37b7fe209": {
      "model_module": "@jupyter-widgets/controls",
      "model_module_version": "2.0.0",
      "model_name": "HTMLModel",
      "state": {
       "layout": "IPY_MODEL_bb06659bd6d24922bbb5b380aa14bd46",
       "style": "IPY_MODEL_275216c86592477d97cbd4eb91893b43",
       "value": " 100/100 [02:56&lt;00:00,  1.74s/it]"
      }
     },
     "febd0976fc494d3a882e41e4900b1661": {
      "model_module": "@jupyter-widgets/controls",
      "model_module_version": "2.0.0",
      "model_name": "HTMLStyleModel",
      "state": {
       "description_width": "",
       "font_size": null,
       "text_color": null
      }
     },
     "ff865dd565374f378f23c98ea25fac1e": {
      "model_module": "@jupyter-widgets/base",
      "model_module_version": "2.0.0",
      "model_name": "LayoutModel",
      "state": {}
     }
    },
    "version_major": 2,
    "version_minor": 0
   }
  }
 },
 "nbformat": 4,
 "nbformat_minor": 5
}
