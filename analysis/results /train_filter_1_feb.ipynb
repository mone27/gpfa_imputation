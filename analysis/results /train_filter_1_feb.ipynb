{
 "cells": [
  {
   "cell_type": "markdown",
   "id": "a65de00f-47b8-4f8a-9f7d-4b310f62e133",
   "metadata": {},
   "source": [
    "# Training First Release Candidate for Model"
   ]
  },
  {
   "cell_type": "code",
   "execution_count": null,
   "id": "fa22293c-08d4-4733-a5d4-ff61ac0c06a0",
   "metadata": {},
   "outputs": [],
   "source": [
    "%load_ext autoreload\n",
    "%autoreload 2"
   ]
  },
  {
   "cell_type": "code",
   "execution_count": null,
   "id": "a9f7737e-12ae-4ef6-93ee-f55692f31aca",
   "metadata": {},
   "outputs": [],
   "source": [
    "from meteo_imp.kalman.fastai import *\n",
    "from meteo_imp.kalman.filter import *\n",
    "from meteo_imp.utils import *\n",
    "from meteo_imp.data import *\n",
    "from meteo_imp.gaussian import *\n",
    "\n",
    "from fastai.tabular.learner import *\n",
    "from fastai.learner import *\n",
    "from fastai.callback.all import *\n",
    "from fastcore.foundation import L\n",
    "\n",
    "from meteo_imp.kalman.fastai import show_results\n",
    "import pandas as pd\n",
    "import numpy as np\n",
    "import torch\n",
    "import random\n",
    "\n",
    "from sklearn.decomposition import PCA"
   ]
  },
  {
   "cell_type": "code",
   "execution_count": null,
   "id": "f515e01f-b05e-46d2-ac49-39d7f4ea1ae8",
   "metadata": {},
   "outputs": [],
   "source": [
    "reset_seed()"
   ]
  },
  {
   "cell_type": "code",
   "execution_count": null,
   "id": "55cd2189-c3b4-4bc8-8306-9c7a42062244",
   "metadata": {},
   "outputs": [],
   "source": [
    "haiB = pd.read_parquet(hai_big_path)\n",
    "hai_eraB = pd.read_parquet(hai_era_big_path)"
   ]
  },
  {
   "cell_type": "code",
   "execution_count": null,
   "id": "62aa4c42-a344-4ea9-9023-4279d9a5fa78",
   "metadata": {},
   "outputs": [
    {
     "data": {
      "text/plain": [
       "['TA', 'SW_IN', 'VPD', 'PA', 'P', 'WS', 'LW_IN']"
      ]
     },
     "execution_count": null,
     "metadata": {},
     "output_type": "execute_result"
    }
   ],
   "source": [
    "list(haiB.columns)"
   ]
  },
  {
   "cell_type": "code",
   "execution_count": null,
   "id": "f582c83d-362b-45cc-9e85-59e0fdab9873",
   "metadata": {},
   "outputs": [
    {
     "data": {
      "text/plain": [
       "7"
      ]
     },
     "execution_count": null,
     "metadata": {},
     "output_type": "execute_result"
    }
   ],
   "source": [
    "len(haiB.columns)"
   ]
  },
  {
   "cell_type": "markdown",
   "id": "253b4dde-e398-4015-b2e7-d4e162a84163",
   "metadata": {},
   "source": [
    "## Variable N var missing"
   ]
  },
  {
   "cell_type": "code",
   "execution_count": null,
   "id": "8b59a33b-391f-4bf6-9468-2b8244f7b555",
   "metadata": {},
   "outputs": [],
   "source": [
    "dlsB = imp_dataloader(haiB, hai_eraB, var_sel = gen_var_sel(list(haiB.columns)), block_len=100, gap_len=10, bs=20, control_lags=[1], n_rep=10).cpu()"
   ]
  },
  {
   "cell_type": "code",
   "execution_count": null,
   "id": "0491bd2e-f360-436d-9fea-7d269b28ae41",
   "metadata": {},
   "outputs": [],
   "source": [
    "modelB = KalmanFilterSR.init_local_slope_pca(len(haiB.columns),len(haiB.columns), df_pca = None, pred_only_gap=True, use_conditional=False)"
   ]
  },
  {
   "cell_type": "code",
   "execution_count": null,
   "id": "51e24231-dd93-4f22-901a-4f6f1989c925",
   "metadata": {},
   "outputs": [],
   "source": [
    "save_models = SaveModelsBatch(times_epoch=10) # save once per repetition"
   ]
  },
  {
   "cell_type": "code",
   "execution_count": null,
   "id": "258c3dec-6e52-42a1-a8f5-a4ca7a417f0f",
   "metadata": {},
   "outputs": [],
   "source": [
    "import random\n",
    "items = random.choices(dlsB.valid.items, k=4)"
   ]
  },
  {
   "cell_type": "code",
   "execution_count": null,
   "id": "285bd688-6df1-4756-85d4-de6797c65219",
   "metadata": {},
   "outputs": [],
   "source": [
    "learnB = Learner(dlsB, modelB, KalmanLoss(only_gap=True), cbs = [Float64Callback, save_models], metrics=rmse_gap)"
   ]
  },
  {
   "cell_type": "code",
   "execution_count": null,
   "id": "d4bdd65d-85da-478a-9351-392a05f582cd",
   "metadata": {},
   "outputs": [],
   "source": [
    "modelB.use_smooth = True"
   ]
  },
  {
   "cell_type": "code",
   "execution_count": null,
   "id": "60a7e550-d995-41ab-9045-940a38b81840",
   "metadata": {},
   "outputs": [
    {
     "data": {
      "text/html": [
       "\n",
       "<style>\n",
       "    /* Turns off some styling */\n",
       "    progress {\n",
       "        /* gets rid of default border in Firefox and Opera. */\n",
       "        border: none;\n",
       "        /* Needs to be in here for Safari polyfill so background images work as expected. */\n",
       "        background-size: auto;\n",
       "    }\n",
       "    progress:not([value]), progress:not([value])::-webkit-progress-bar {\n",
       "        background: repeating-linear-gradient(45deg, #7e7e7e, #7e7e7e 10px, #5c5c5c 10px, #5c5c5c 20px);\n",
       "    }\n",
       "    .progress-bar-interrupted, .progress-bar-interrupted::-webkit-progress-bar {\n",
       "        background: #F44336;\n",
       "    }\n",
       "</style>\n"
      ],
      "text/plain": [
       "<IPython.core.display.HTML object>"
      ]
     },
     "metadata": {},
     "output_type": "display_data"
    },
    {
     "data": {
      "text/html": [
       "<table border=\"1\" class=\"dataframe\">\n",
       "  <thead>\n",
       "    <tr style=\"text-align: left;\">\n",
       "      <th>epoch</th>\n",
       "      <th>train_loss</th>\n",
       "      <th>valid_loss</th>\n",
       "      <th>rmse_gap</th>\n",
       "      <th>time</th>\n",
       "    </tr>\n",
       "  </thead>\n",
       "  <tbody>\n",
       "    <tr>\n",
       "      <td>0</td>\n",
       "      <td>48.411676</td>\n",
       "      <td>51.481414</td>\n",
       "      <td>0.456462</td>\n",
       "      <td>19:13</td>\n",
       "    </tr>\n",
       "    <tr>\n",
       "      <td>1</td>\n",
       "      <td>46.855501</td>\n",
       "      <td>31.959075</td>\n",
       "      <td>0.377701</td>\n",
       "      <td>18:01</td>\n",
       "    </tr>\n",
       "    <tr>\n",
       "      <td>2</td>\n",
       "      <td>19.846492</td>\n",
       "      <td>18.266001</td>\n",
       "      <td>0.329986</td>\n",
       "      <td>17:54</td>\n",
       "    </tr>\n",
       "    <tr>\n",
       "      <td>3</td>\n",
       "      <td>13.052867</td>\n",
       "      <td>8.769645</td>\n",
       "      <td>0.299612</td>\n",
       "      <td>18:11</td>\n",
       "    </tr>\n",
       "    <tr>\n",
       "      <td>4</td>\n",
       "      <td>4.029165</td>\n",
       "      <td>0.413176</td>\n",
       "      <td>0.274873</td>\n",
       "      <td>18:08</td>\n",
       "    </tr>\n",
       "    <tr>\n",
       "      <td>5</td>\n",
       "      <td>-3.009690</td>\n",
       "      <td>-5.729639</td>\n",
       "      <td>0.256770</td>\n",
       "      <td>18:02</td>\n",
       "    </tr>\n",
       "    <tr>\n",
       "      <td>6</td>\n",
       "      <td>-10.692294</td>\n",
       "      <td>-10.487680</td>\n",
       "      <td>0.241552</td>\n",
       "      <td>18:22</td>\n",
       "    </tr>\n",
       "    <tr>\n",
       "      <td>7</td>\n",
       "      <td>-13.994195</td>\n",
       "      <td>-14.608254</td>\n",
       "      <td>0.226000</td>\n",
       "      <td>18:15</td>\n",
       "    </tr>\n",
       "    <tr>\n",
       "      <td>8</td>\n",
       "      <td>-17.025145</td>\n",
       "      <td>-18.185853</td>\n",
       "      <td>0.210300</td>\n",
       "      <td>18:18</td>\n",
       "    </tr>\n",
       "    <tr>\n",
       "      <td>9</td>\n",
       "      <td>-20.115838</td>\n",
       "      <td>-21.388595</td>\n",
       "      <td>0.193009</td>\n",
       "      <td>18:23</td>\n",
       "    </tr>\n",
       "    <tr>\n",
       "      <td>10</td>\n",
       "      <td>-24.238239</td>\n",
       "      <td>-24.360360</td>\n",
       "      <td>0.178673</td>\n",
       "      <td>18:21</td>\n",
       "    </tr>\n",
       "    <tr>\n",
       "      <td>11</td>\n",
       "      <td>-27.604545</td>\n",
       "      <td>-27.200829</td>\n",
       "      <td>0.164334</td>\n",
       "      <td>18:21</td>\n",
       "    </tr>\n",
       "    <tr>\n",
       "      <td>12</td>\n",
       "      <td>-27.298021</td>\n",
       "      <td>-30.013998</td>\n",
       "      <td>0.150448</td>\n",
       "      <td>18:25</td>\n",
       "    </tr>\n",
       "    <tr>\n",
       "      <td>13</td>\n",
       "      <td>-33.641011</td>\n",
       "      <td>-32.792619</td>\n",
       "      <td>0.139092</td>\n",
       "      <td>18:26</td>\n",
       "    </tr>\n",
       "    <tr>\n",
       "      <td>14</td>\n",
       "      <td>-35.133874</td>\n",
       "      <td>-35.787124</td>\n",
       "      <td>0.127259</td>\n",
       "      <td>18:22</td>\n",
       "    </tr>\n",
       "    <tr>\n",
       "      <td>15</td>\n",
       "      <td>-38.590686</td>\n",
       "      <td>-39.039824</td>\n",
       "      <td>0.116986</td>\n",
       "      <td>18:26</td>\n",
       "    </tr>\n",
       "    <tr>\n",
       "      <td>16</td>\n",
       "      <td>-42.927866</td>\n",
       "      <td>-42.494303</td>\n",
       "      <td>0.107059</td>\n",
       "      <td>18:26</td>\n",
       "    </tr>\n",
       "    <tr>\n",
       "      <td>17</td>\n",
       "      <td>-47.442677</td>\n",
       "      <td>-45.864786</td>\n",
       "      <td>0.098467</td>\n",
       "      <td>18:31</td>\n",
       "    </tr>\n",
       "    <tr>\n",
       "      <td>18</td>\n",
       "      <td>-48.348126</td>\n",
       "      <td>-49.057877</td>\n",
       "      <td>0.091152</td>\n",
       "      <td>18:32</td>\n",
       "    </tr>\n",
       "    <tr>\n",
       "      <td>19</td>\n",
       "      <td>-52.643376</td>\n",
       "      <td>-52.467531</td>\n",
       "      <td>0.083753</td>\n",
       "      <td>18:29</td>\n",
       "    </tr>\n",
       "  </tbody>\n",
       "</table>"
      ],
      "text/plain": [
       "<IPython.core.display.HTML object>"
      ]
     },
     "metadata": {},
     "output_type": "display_data"
    }
   ],
   "source": [
    "learnB.fit(20, 1e-4)"
   ]
  },
  {
   "cell_type": "code",
   "execution_count": null,
   "id": "d1e96615-32e6-4102-a249-7a8beb0d9705",
   "metadata": {},
   "outputs": [
    {
     "data": {
      "image/png": "[encoded data removed]",
      "text/plain": [
       "<Figure size 432x288 with 1 Axes>"
      ]
     },
     "metadata": {
      "needs_background": "light"
     },
     "output_type": "display_data"
    }
   ],
   "source": [
    "learnB.recorder.plot_loss()"
   ]
  },
  {
   "cell_type": "code",
   "execution_count": null,
   "id": "f38325b8-c86c-4808-9ad7-3d433df33b94",
   "metadata": {},
   "outputs": [],
   "source": [
    "torch.save(learnB.model, \"trained_2_feb_gap_partial_var_v2.pickle\")"
   ]
  },
  {
   "cell_type": "code",
   "execution_count": null,
   "id": "85f8d4be-4d5f-4779-9743-91f836526eba",
   "metadata": {},
   "outputs": [],
   "source": [
    "# learnB.export(\"trained_2_feb_gap_all_var_v1\")"
   ]
  },
  {
   "cell_type": "code",
   "execution_count": null,
   "id": "a4f87d71-2594-45ae-b0bd-a26794c7b4f4",
   "metadata": {},
   "outputs": [
    {
     "ename": "KeyError",
     "evalue": "\"None of [Index(['TA_ERA', 'SW_IN_ERA', 'VPD_ERA', 'PA_ERA', 'P_ERA', 'WS_ERA',\\n       'LW_IN_ERA'],\\n      dtype='object')] are in the [columns]\"",
     "output_type": "error",
     "traceback": [
      "\u001b[0;31m---------------------------------------------------------------------------\u001b[0m",
      "\u001b[0;31mKeyError\u001b[0m                                  Traceback (most recent call last)",
      "Input \u001b[0;32mIn [27]\u001b[0m, in \u001b[0;36m<cell line: 1>\u001b[0;34m()\u001b[0m\n\u001b[0;32m----> 1\u001b[0m \u001b[43mshow_results\u001b[49m\u001b[43m(\u001b[49m\u001b[43mlearnB\u001b[49m\u001b[43m,\u001b[49m\u001b[43m \u001b[49m\u001b[43mitems\u001b[49m\u001b[38;5;241;43m=\u001b[39;49m\u001b[43mitems\u001b[49m\u001b[43m,\u001b[49m\u001b[43m \u001b[49m\u001b[43mcontrol_map\u001b[49m\u001b[38;5;241;43m=\u001b[39;49m\u001b[43mcontrol_map\u001b[49m\u001b[43m)\u001b[49m\n",
      "File \u001b[0;32m~/Documents/uni/Thesis/GPFA_imputation/meteo_imp/kalman/fastai.py:890\u001b[0m, in \u001b[0;36mshow_results\u001b[0;34m(learn, n, items, dls, **kwargs)\u001b[0m\n\u001b[1;32m    888\u001b[0m \u001b[38;5;129m@delegates\u001b[39m(plot_results)\n\u001b[1;32m    889\u001b[0m \u001b[38;5;28;01mdef\u001b[39;00m \u001b[38;5;21mshow_results\u001b[39m(learn, n\u001b[38;5;241m=\u001b[39m\u001b[38;5;241m3\u001b[39m, items\u001b[38;5;241m=\u001b[39m\u001b[38;5;28;01mNone\u001b[39;00m, dls\u001b[38;5;241m=\u001b[39m\u001b[38;5;28;01mNone\u001b[39;00m, \u001b[38;5;241m*\u001b[39m\u001b[38;5;241m*\u001b[39mkwargs):\n\u001b[0;32m--> 890\u001b[0m     \u001b[38;5;28;01mreturn\u001b[39;00m \u001b[43mplot_results\u001b[49m\u001b[43m(\u001b[49m\u001b[38;5;241;43m*\u001b[39;49m\u001b[43mget_results\u001b[49m\u001b[43m(\u001b[49m\u001b[43mlearn\u001b[49m\u001b[43m,\u001b[49m\u001b[43mn\u001b[49m\u001b[43m,\u001b[49m\u001b[43mitems\u001b[49m\u001b[43m,\u001b[49m\u001b[43m \u001b[49m\u001b[43mdls\u001b[49m\u001b[43m)\u001b[49m\u001b[43m,\u001b[49m\u001b[43m \u001b[49m\u001b[38;5;241;43m*\u001b[39;49m\u001b[38;5;241;43m*\u001b[39;49m\u001b[43mkwargs\u001b[49m\u001b[43m)\u001b[49m\n",
      "File \u001b[0;32m~/Documents/uni/Thesis/GPFA_imputation/meteo_imp/kalman/fastai.py:877\u001b[0m, in \u001b[0;36mplot_results\u001b[0;34m(preds, targs, metrics, n_cols, **kwargs)\u001b[0m\n\u001b[1;32m    875\u001b[0m \u001b[38;5;28;01mdef\u001b[39;00m \u001b[38;5;21mplot_results\u001b[39m(preds, targs, metrics \u001b[38;5;241m=\u001b[39m \u001b[38;5;28;01mNone\u001b[39;00m, n_cols\u001b[38;5;241m=\u001b[39m\u001b[38;5;241m1\u001b[39m, \u001b[38;5;241m*\u001b[39m\u001b[38;5;241m*\u001b[39mkwargs):\n\u001b[1;32m    876\u001b[0m     metrics \u001b[38;5;241m=\u001b[39m ifnone(metrics, [\u001b[38;5;28;01mNone\u001b[39;00m \u001b[38;5;28;01mfor\u001b[39;00m _ \u001b[38;5;129;01min\u001b[39;00m \u001b[38;5;28mrange\u001b[39m(\u001b[38;5;28mlen\u001b[39m(preds))])\n\u001b[0;32m--> 877\u001b[0m     plots \u001b[38;5;241m=\u001b[39m [plot_result(targ, pred, metric, n_cols\u001b[38;5;241m=\u001b[39mn_cols, \u001b[38;5;241m*\u001b[39m\u001b[38;5;241m*\u001b[39mkwargs) \u001b[38;5;28;01mfor\u001b[39;00m targ, pred, metric \u001b[38;5;129;01min\u001b[39;00m \u001b[38;5;28mzip\u001b[39m(preds, targs, metrics)]\n\u001b[1;32m    878\u001b[0m     \u001b[38;5;28;01mreturn\u001b[39;00m alt\u001b[38;5;241m.\u001b[39mhconcat(\u001b[38;5;241m*\u001b[39mplots)\n",
      "File \u001b[0;32m~/Documents/uni/Thesis/GPFA_imputation/meteo_imp/kalman/fastai.py:877\u001b[0m, in \u001b[0;36m<listcomp>\u001b[0;34m(.0)\u001b[0m\n\u001b[1;32m    875\u001b[0m \u001b[38;5;28;01mdef\u001b[39;00m \u001b[38;5;21mplot_results\u001b[39m(preds, targs, metrics \u001b[38;5;241m=\u001b[39m \u001b[38;5;28;01mNone\u001b[39;00m, n_cols\u001b[38;5;241m=\u001b[39m\u001b[38;5;241m1\u001b[39m, \u001b[38;5;241m*\u001b[39m\u001b[38;5;241m*\u001b[39mkwargs):\n\u001b[1;32m    876\u001b[0m     metrics \u001b[38;5;241m=\u001b[39m ifnone(metrics, [\u001b[38;5;28;01mNone\u001b[39;00m \u001b[38;5;28;01mfor\u001b[39;00m _ \u001b[38;5;129;01min\u001b[39;00m \u001b[38;5;28mrange\u001b[39m(\u001b[38;5;28mlen\u001b[39m(preds))])\n\u001b[0;32m--> 877\u001b[0m     plots \u001b[38;5;241m=\u001b[39m [\u001b[43mplot_result\u001b[49m\u001b[43m(\u001b[49m\u001b[43mtarg\u001b[49m\u001b[43m,\u001b[49m\u001b[43m \u001b[49m\u001b[43mpred\u001b[49m\u001b[43m,\u001b[49m\u001b[43m \u001b[49m\u001b[43mmetric\u001b[49m\u001b[43m,\u001b[49m\u001b[43m \u001b[49m\u001b[43mn_cols\u001b[49m\u001b[38;5;241;43m=\u001b[39;49m\u001b[43mn_cols\u001b[49m\u001b[43m,\u001b[49m\u001b[43m \u001b[49m\u001b[38;5;241;43m*\u001b[39;49m\u001b[38;5;241;43m*\u001b[39;49m\u001b[43mkwargs\u001b[49m\u001b[43m)\u001b[49m \u001b[38;5;28;01mfor\u001b[39;00m targ, pred, metric \u001b[38;5;129;01min\u001b[39;00m \u001b[38;5;28mzip\u001b[39m(preds, targs, metrics)]\n\u001b[1;32m    878\u001b[0m     \u001b[38;5;28;01mreturn\u001b[39;00m alt\u001b[38;5;241m.\u001b[39mhconcat(\u001b[38;5;241m*\u001b[39mplots)\n",
      "File \u001b[0;32m~/Documents/uni/Thesis/GPFA_imputation/meteo_imp/kalman/fastai.py:866\u001b[0m, in \u001b[0;36mplot_result\u001b[0;34m(pred, targ, metrics, control_map, hide_no_gap, **kwargs)\u001b[0m\n\u001b[1;32m    864\u001b[0m \u001b[38;5;129m@delegates\u001b[39m(facet_variable)\n\u001b[1;32m    865\u001b[0m \u001b[38;5;28;01mdef\u001b[39;00m \u001b[38;5;21mplot_result\u001b[39m(pred, targ, metrics\u001b[38;5;241m=\u001b[39m\u001b[38;5;28;01mNone\u001b[39;00m, control_map\u001b[38;5;241m=\u001b[39m\u001b[38;5;28;01mNone\u001b[39;00m, hide_no_gap\u001b[38;5;241m=\u001b[39m\u001b[38;5;28;01mFalse\u001b[39;00m, \u001b[38;5;241m*\u001b[39m\u001b[38;5;241m*\u001b[39mkwargs):\n\u001b[0;32m--> 866\u001b[0m     df \u001b[38;5;241m=\u001b[39m pd\u001b[38;5;241m.\u001b[39mmerge(\u001b[43mtarg\u001b[49m\u001b[38;5;241;43m.\u001b[39;49m\u001b[43mtidy\u001b[49m\u001b[43m(\u001b[49m\u001b[43mcontrol_map\u001b[49m\u001b[43m)\u001b[49m, pred\u001b[38;5;241m.\u001b[39mtidy(), on\u001b[38;5;241m=\u001b[39m[\u001b[38;5;124m\"\u001b[39m\u001b[38;5;124mtime\u001b[39m\u001b[38;5;124m\"\u001b[39m, \u001b[38;5;124m\"\u001b[39m\u001b[38;5;124mvariable\u001b[39m\u001b[38;5;124m\"\u001b[39m])\n\u001b[1;32m    868\u001b[0m     title \u001b[38;5;241m=\u001b[39m  [format_metric(name, val) \u001b[38;5;28;01mfor\u001b[39;00m name, val \u001b[38;5;129;01min\u001b[39;00m metrics\u001b[38;5;241m.\u001b[39mitems()] \u001b[38;5;28;01mif\u001b[39;00m metrics \u001b[38;5;28;01melse\u001b[39;00m \u001b[38;5;124m\"\u001b[39m\u001b[38;5;124m\"\u001b[39m\n\u001b[1;32m    869\u001b[0m     \u001b[38;5;28;01mif\u001b[39;00m hide_no_gap:\n",
      "File \u001b[0;32m~/Documents/uni/Thesis/GPFA_imputation/meteo_imp/kalman/fastai.py:181\u001b[0m, in \u001b[0;36mtidy\u001b[0;34m(self, control_map)\u001b[0m\n\u001b[1;32m    178\u001b[0m mask \u001b[38;5;241m=\u001b[39m \u001b[38;5;28mself\u001b[39m\u001b[38;5;241m.\u001b[39mmask\u001b[38;5;241m.\u001b[39mreset_index()\u001b[38;5;241m.\u001b[39mmelt(\u001b[38;5;124m\"\u001b[39m\u001b[38;5;124mtime\u001b[39m\u001b[38;5;124m\"\u001b[39m, value_name\u001b[38;5;241m=\u001b[39m\u001b[38;5;124m\"\u001b[39m\u001b[38;5;124mis_present\u001b[39m\u001b[38;5;124m\"\u001b[39m)\n\u001b[1;32m    180\u001b[0m \u001b[38;5;28;01mif\u001b[39;00m control_map \u001b[38;5;129;01mis\u001b[39;00m \u001b[38;5;129;01mnot\u001b[39;00m \u001b[38;5;28;01mNone\u001b[39;00m:\n\u001b[0;32m--> 181\u001b[0m     control \u001b[38;5;241m=\u001b[39m (\u001b[38;5;28;43mself\u001b[39;49m\u001b[38;5;241;43m.\u001b[39;49m\u001b[43mcontrol\u001b[49m\u001b[43m[\u001b[49m\u001b[43mcontrol_map\u001b[49m\u001b[38;5;241;43m.\u001b[39;49m\u001b[43mkeys\u001b[49m\u001b[43m(\u001b[49m\u001b[43m)\u001b[49m\u001b[43m]\u001b[49m\u001b[38;5;241m.\u001b[39mrename(columns\u001b[38;5;241m=\u001b[39mcontrol_map)\n\u001b[1;32m    182\u001b[0m                 \u001b[38;5;241m.\u001b[39mreset_index()\u001b[38;5;241m.\u001b[39mmelt(\u001b[38;5;124m\"\u001b[39m\u001b[38;5;124mtime\u001b[39m\u001b[38;5;124m\"\u001b[39m, value_name\u001b[38;5;241m=\u001b[39m\u001b[38;5;124m\"\u001b[39m\u001b[38;5;124mcontrol\u001b[39m\u001b[38;5;124m\"\u001b[39m))\n\u001b[1;32m    183\u001b[0m     data \u001b[38;5;241m=\u001b[39m pd\u001b[38;5;241m.\u001b[39mmerge(data, control, on\u001b[38;5;241m=\u001b[39m[\u001b[38;5;124m\"\u001b[39m\u001b[38;5;124mtime\u001b[39m\u001b[38;5;124m\"\u001b[39m, \u001b[38;5;124m\"\u001b[39m\u001b[38;5;124mvariable\u001b[39m\u001b[38;5;124m\"\u001b[39m], how\u001b[38;5;241m=\u001b[39m\u001b[38;5;124m\"\u001b[39m\u001b[38;5;124mleft\u001b[39m\u001b[38;5;124m\"\u001b[39m)\n\u001b[1;32m    185\u001b[0m \u001b[38;5;28;01mreturn\u001b[39;00m pd\u001b[38;5;241m.\u001b[39mmerge(data, mask, on\u001b[38;5;241m=\u001b[39m[\u001b[38;5;124m\"\u001b[39m\u001b[38;5;124mtime\u001b[39m\u001b[38;5;124m\"\u001b[39m, \u001b[38;5;124m\"\u001b[39m\u001b[38;5;124mvariable\u001b[39m\u001b[38;5;124m\"\u001b[39m])\n",
      "File \u001b[0;32m~/.local/lib/python3.10/site-packages/pandas/core/frame.py:3811\u001b[0m, in \u001b[0;36mDataFrame.__getitem__\u001b[0;34m(self, key)\u001b[0m\n\u001b[1;32m   3809\u001b[0m     \u001b[38;5;28;01mif\u001b[39;00m is_iterator(key):\n\u001b[1;32m   3810\u001b[0m         key \u001b[38;5;241m=\u001b[39m \u001b[38;5;28mlist\u001b[39m(key)\n\u001b[0;32m-> 3811\u001b[0m     indexer \u001b[38;5;241m=\u001b[39m \u001b[38;5;28;43mself\u001b[39;49m\u001b[38;5;241;43m.\u001b[39;49m\u001b[43mcolumns\u001b[49m\u001b[38;5;241;43m.\u001b[39;49m\u001b[43m_get_indexer_strict\u001b[49m\u001b[43m(\u001b[49m\u001b[43mkey\u001b[49m\u001b[43m,\u001b[49m\u001b[43m \u001b[49m\u001b[38;5;124;43m\"\u001b[39;49m\u001b[38;5;124;43mcolumns\u001b[39;49m\u001b[38;5;124;43m\"\u001b[39;49m\u001b[43m)\u001b[49m[\u001b[38;5;241m1\u001b[39m]\n\u001b[1;32m   3813\u001b[0m \u001b[38;5;66;03m# take() does not accept boolean indexers\u001b[39;00m\n\u001b[1;32m   3814\u001b[0m \u001b[38;5;28;01mif\u001b[39;00m \u001b[38;5;28mgetattr\u001b[39m(indexer, \u001b[38;5;124m\"\u001b[39m\u001b[38;5;124mdtype\u001b[39m\u001b[38;5;124m\"\u001b[39m, \u001b[38;5;28;01mNone\u001b[39;00m) \u001b[38;5;241m==\u001b[39m \u001b[38;5;28mbool\u001b[39m:\n",
      "File \u001b[0;32m~/.local/lib/python3.10/site-packages/pandas/core/indexes/base.py:6108\u001b[0m, in \u001b[0;36mIndex._get_indexer_strict\u001b[0;34m(self, key, axis_name)\u001b[0m\n\u001b[1;32m   6105\u001b[0m \u001b[38;5;28;01melse\u001b[39;00m:\n\u001b[1;32m   6106\u001b[0m     keyarr, indexer, new_indexer \u001b[38;5;241m=\u001b[39m \u001b[38;5;28mself\u001b[39m\u001b[38;5;241m.\u001b[39m_reindex_non_unique(keyarr)\n\u001b[0;32m-> 6108\u001b[0m \u001b[38;5;28;43mself\u001b[39;49m\u001b[38;5;241;43m.\u001b[39;49m\u001b[43m_raise_if_missing\u001b[49m\u001b[43m(\u001b[49m\u001b[43mkeyarr\u001b[49m\u001b[43m,\u001b[49m\u001b[43m \u001b[49m\u001b[43mindexer\u001b[49m\u001b[43m,\u001b[49m\u001b[43m \u001b[49m\u001b[43maxis_name\u001b[49m\u001b[43m)\u001b[49m\n\u001b[1;32m   6110\u001b[0m keyarr \u001b[38;5;241m=\u001b[39m \u001b[38;5;28mself\u001b[39m\u001b[38;5;241m.\u001b[39mtake(indexer)\n\u001b[1;32m   6111\u001b[0m \u001b[38;5;28;01mif\u001b[39;00m \u001b[38;5;28misinstance\u001b[39m(key, Index):\n\u001b[1;32m   6112\u001b[0m     \u001b[38;5;66;03m# GH 42790 - Preserve name from an Index\u001b[39;00m\n",
      "File \u001b[0;32m~/.local/lib/python3.10/site-packages/pandas/core/indexes/base.py:6168\u001b[0m, in \u001b[0;36mIndex._raise_if_missing\u001b[0;34m(self, key, indexer, axis_name)\u001b[0m\n\u001b[1;32m   6166\u001b[0m     \u001b[38;5;28;01mif\u001b[39;00m use_interval_msg:\n\u001b[1;32m   6167\u001b[0m         key \u001b[38;5;241m=\u001b[39m \u001b[38;5;28mlist\u001b[39m(key)\n\u001b[0;32m-> 6168\u001b[0m     \u001b[38;5;28;01mraise\u001b[39;00m \u001b[38;5;167;01mKeyError\u001b[39;00m(\u001b[38;5;124mf\u001b[39m\u001b[38;5;124m\"\u001b[39m\u001b[38;5;124mNone of [\u001b[39m\u001b[38;5;132;01m{\u001b[39;00mkey\u001b[38;5;132;01m}\u001b[39;00m\u001b[38;5;124m] are in the [\u001b[39m\u001b[38;5;132;01m{\u001b[39;00maxis_name\u001b[38;5;132;01m}\u001b[39;00m\u001b[38;5;124m]\u001b[39m\u001b[38;5;124m\"\u001b[39m)\n\u001b[1;32m   6170\u001b[0m not_found \u001b[38;5;241m=\u001b[39m \u001b[38;5;28mlist\u001b[39m(ensure_index(key)[missing_mask\u001b[38;5;241m.\u001b[39mnonzero()[\u001b[38;5;241m0\u001b[39m]]\u001b[38;5;241m.\u001b[39munique())\n\u001b[1;32m   6171\u001b[0m \u001b[38;5;28;01mraise\u001b[39;00m \u001b[38;5;167;01mKeyError\u001b[39;00m(\u001b[38;5;124mf\u001b[39m\u001b[38;5;124m\"\u001b[39m\u001b[38;5;132;01m{\u001b[39;00mnot_found\u001b[38;5;132;01m}\u001b[39;00m\u001b[38;5;124m not in index\u001b[39m\u001b[38;5;124m\"\u001b[39m)\n",
      "\u001b[0;31mKeyError\u001b[0m: \"None of [Index(['TA_ERA', 'SW_IN_ERA', 'VPD_ERA', 'PA_ERA', 'P_ERA', 'WS_ERA',\\n       'LW_IN_ERA'],\\n      dtype='object')] are in the [columns]\""
     ]
    }
   ],
   "source": [
    "show_results(learnB, items=items, control_map=control_map)"
   ]
  },
  {
   "cell_type": "markdown",
   "id": "4d36e000-5b72-4cd2-a254-b5bdd1da9001",
   "metadata": {},
   "source": [
    "## All Gap"
   ]
  },
  {
   "cell_type": "code",
   "execution_count": null,
   "id": "b29f5b26-85be-4427-8fd3-557f53ec6568",
   "metadata": {},
   "outputs": [],
   "source": [
    "dls2 = imp_dataloader(haiB, hai_eraB, var_sel = list(haiB.columns), block_len=100, gap_len=10, bs=20, control_lags=[1], n_rep=10).cpu()"
   ]
  },
  {
   "cell_type": "code",
   "execution_count": null,
   "id": "e38056cb-6bec-44a4-a9b1-942227d29574",
   "metadata": {},
   "outputs": [],
   "source": [
    "model2 = KalmanFilterSR.init_local_slope_pca(len(haiB.columns),len(haiB.columns), df_pca = None, pred_only_gap=True, use_conditional=False)"
   ]
  },
  {
   "cell_type": "code",
   "execution_count": null,
   "id": "552da96b-d900-495e-9793-59f6daf96b12",
   "metadata": {},
   "outputs": [],
   "source": [
    "save_models2 = SaveModelsBatch(times_epoch=1) # save once per epoch"
   ]
  },
  {
   "cell_type": "code",
   "execution_count": null,
   "id": "99fa4e88-fc7a-4ddd-80b7-cf38c0d3f5e0",
   "metadata": {},
   "outputs": [],
   "source": [
    "items = random.choices(dls2.valid.items, k=4)"
   ]
  },
  {
   "cell_type": "code",
   "execution_count": null,
   "id": "00539f4f-989c-4497-88cb-0451fb8728ff",
   "metadata": {},
   "outputs": [],
   "source": [
    "learn2 = Learner(dls2, model2, KalmanLoss(only_gap=True), cbs = [Float64Callback, save_models2], metrics=rmse_gap)"
   ]
  },
  {
   "cell_type": "code",
   "execution_count": null,
   "id": "9d7671c3-51f7-4d6a-953d-945d85cb5895",
   "metadata": {},
   "outputs": [],
   "source": [
    "modelB.use_smooth = True"
   ]
  },
  {
   "cell_type": "code",
   "execution_count": null,
   "id": "67eda270-953a-4197-b57f-0ab181ea476c",
   "metadata": {},
   "outputs": [
    {
     "data": {
      "text/html": [
       "\n",
       "<style>\n",
       "    /* Turns off some styling */\n",
       "    progress {\n",
       "        /* gets rid of default border in Firefox and Opera. */\n",
       "        border: none;\n",
       "        /* Needs to be in here for Safari polyfill so background images work as expected. */\n",
       "        background-size: auto;\n",
       "    }\n",
       "    progress:not([value]), progress:not([value])::-webkit-progress-bar {\n",
       "        background: repeating-linear-gradient(45deg, #7e7e7e, #7e7e7e 10px, #5c5c5c 10px, #5c5c5c 20px);\n",
       "    }\n",
       "    .progress-bar-interrupted, .progress-bar-interrupted::-webkit-progress-bar {\n",
       "        background: #F44336;\n",
       "    }\n",
       "</style>\n"
      ],
      "text/plain": [
       "<IPython.core.display.HTML object>"
      ]
     },
     "metadata": {},
     "output_type": "display_data"
    },
    {
     "data": {
      "text/html": [
       "<table border=\"1\" class=\"dataframe\">\n",
       "  <thead>\n",
       "    <tr style=\"text-align: left;\">\n",
       "      <th>epoch</th>\n",
       "      <th>train_loss</th>\n",
       "      <th>valid_loss</th>\n",
       "      <th>rmse_gap</th>\n",
       "      <th>time</th>\n",
       "    </tr>\n",
       "  </thead>\n",
       "  <tbody>\n",
       "    <tr>\n",
       "      <td>0</td>\n",
       "      <td>70.276643</td>\n",
       "      <td>73.909640</td>\n",
       "      <td>0.505258</td>\n",
       "      <td>15:12</td>\n",
       "    </tr>\n",
       "    <tr>\n",
       "      <td>1</td>\n",
       "      <td>60.282756</td>\n",
       "      <td>39.872240</td>\n",
       "      <td>0.409351</td>\n",
       "      <td>14:24</td>\n",
       "    </tr>\n",
       "    <tr>\n",
       "      <td>2</td>\n",
       "      <td>37.709006</td>\n",
       "      <td>20.074781</td>\n",
       "      <td>0.365104</td>\n",
       "      <td>14:28</td>\n",
       "    </tr>\n",
       "    <tr>\n",
       "      <td>3</td>\n",
       "      <td>18.215215</td>\n",
       "      <td>3.965547</td>\n",
       "      <td>0.336784</td>\n",
       "      <td>15:22</td>\n",
       "    </tr>\n",
       "    <tr>\n",
       "      <td>4</td>\n",
       "      <td>-7.093520</td>\n",
       "      <td>-7.774671</td>\n",
       "      <td>0.314952</td>\n",
       "      <td>15:00</td>\n",
       "    </tr>\n",
       "    <tr>\n",
       "      <td>5</td>\n",
       "      <td>-13.857082</td>\n",
       "      <td>-18.661689</td>\n",
       "      <td>0.288021</td>\n",
       "      <td>16:51</td>\n",
       "    </tr>\n",
       "    <tr>\n",
       "      <td>6</td>\n",
       "      <td>-26.175319</td>\n",
       "      <td>-27.904121</td>\n",
       "      <td>0.260224</td>\n",
       "      <td>15:13</td>\n",
       "    </tr>\n",
       "    <tr>\n",
       "      <td>7</td>\n",
       "      <td>-35.333468</td>\n",
       "      <td>-35.853093</td>\n",
       "      <td>0.232222</td>\n",
       "      <td>16:54</td>\n",
       "    </tr>\n",
       "    <tr>\n",
       "      <td>8</td>\n",
       "      <td>-42.676382</td>\n",
       "      <td>-42.475996</td>\n",
       "      <td>0.207705</td>\n",
       "      <td>15:29</td>\n",
       "    </tr>\n",
       "    <tr>\n",
       "      <td>9</td>\n",
       "      <td>-48.136620</td>\n",
       "      <td>-47.801236</td>\n",
       "      <td>0.186707</td>\n",
       "      <td>14:06</td>\n",
       "    </tr>\n",
       "    <tr>\n",
       "      <td>10</td>\n",
       "      <td>-51.969137</td>\n",
       "      <td>-52.316793</td>\n",
       "      <td>0.169316</td>\n",
       "      <td>15:22</td>\n",
       "    </tr>\n",
       "    <tr>\n",
       "      <td>11</td>\n",
       "      <td>-55.169777</td>\n",
       "      <td>-57.112008</td>\n",
       "      <td>0.156095</td>\n",
       "      <td>14:35</td>\n",
       "    </tr>\n",
       "    <tr>\n",
       "      <td>12</td>\n",
       "      <td>-61.700051</td>\n",
       "      <td>-62.271088</td>\n",
       "      <td>0.145029</td>\n",
       "      <td>14:48</td>\n",
       "    </tr>\n",
       "    <tr>\n",
       "      <td>13</td>\n",
       "      <td>-68.514769</td>\n",
       "      <td>-68.412203</td>\n",
       "      <td>0.134834</td>\n",
       "      <td>14:23</td>\n",
       "    </tr>\n",
       "    <tr>\n",
       "      <td>14</td>\n",
       "      <td>-75.642397</td>\n",
       "      <td>-75.694909</td>\n",
       "      <td>0.125947</td>\n",
       "      <td>13:36</td>\n",
       "    </tr>\n",
       "    <tr>\n",
       "      <td>15</td>\n",
       "      <td>-81.923411</td>\n",
       "      <td>-82.959910</td>\n",
       "      <td>0.118444</td>\n",
       "      <td>13:35</td>\n",
       "    </tr>\n",
       "    <tr>\n",
       "      <td>16</td>\n",
       "      <td>-89.172770</td>\n",
       "      <td>-89.273208</td>\n",
       "      <td>0.111831</td>\n",
       "      <td>13:55</td>\n",
       "    </tr>\n",
       "    <tr>\n",
       "      <td>17</td>\n",
       "      <td>-95.112266</td>\n",
       "      <td>-95.319024</td>\n",
       "      <td>0.106561</td>\n",
       "      <td>14:32</td>\n",
       "    </tr>\n",
       "    <tr>\n",
       "      <td>18</td>\n",
       "      <td>-100.547447</td>\n",
       "      <td>-100.324007</td>\n",
       "      <td>0.102359</td>\n",
       "      <td>14:21</td>\n",
       "    </tr>\n",
       "    <tr>\n",
       "      <td>19</td>\n",
       "      <td>-104.093643</td>\n",
       "      <td>-104.786155</td>\n",
       "      <td>0.099261</td>\n",
       "      <td>14:02</td>\n",
       "    </tr>\n",
       "  </tbody>\n",
       "</table>"
      ],
      "text/plain": [
       "<IPython.core.display.HTML object>"
      ]
     },
     "metadata": {},
     "output_type": "display_data"
    }
   ],
   "source": [
    "learn2.fit(20, 1e-4)"
   ]
  },
  {
   "cell_type": "code",
   "execution_count": null,
   "id": "4299aeb8-d220-411a-b3a6-161630beac85",
   "metadata": {},
   "outputs": [],
   "source": [
    "learn2.recorder.plot_loss()"
   ]
  },
  {
   "cell_type": "code",
   "execution_count": null,
   "id": "55f2dbc9-ec55-4223-9748-dde5f258c3cd",
   "metadata": {},
   "outputs": [],
   "source": [
    "torch.save(learn2.model, \"trained_2_feb_gap_all_var_v1.pickle\")"
   ]
  },
  {
   "cell_type": "code",
   "execution_count": null,
   "id": "de5417c0-1785-4e07-9176-4163da1da357",
   "metadata": {},
   "outputs": [],
   "source": [
    "# learnB.export(\"trained_2_feb_gap_all_var_v1\")"
   ]
  },
  {
   "cell_type": "code",
   "execution_count": null,
   "id": "18bb0b26-d4d8-4b43-8ad0-c362a82ac17e",
   "metadata": {},
   "outputs": [],
   "source": [
    "show_results(learn2, items=items)"
   ]
  },
  {
   "cell_type": "markdown",
   "id": "7374de70-c6bd-4784-9216-21f093d9e206",
   "metadata": {},
   "source": [
    "### Fast training"
   ]
  },
  {
   "cell_type": "markdown",
   "id": "d275c526-faf4-487d-9b9d-b805863a0c22",
   "metadata": {},
   "source": [
    "try to double the learning rate and see if it still works"
   ]
  },
  {
   "cell_type": "code",
   "execution_count": null,
   "id": "66eae01e-f50c-4933-95af-0ed199412abc",
   "metadata": {},
   "outputs": [],
   "source": [
    "model2_f = KalmanFilterSR.init_local_slope_pca(len(haiB.columns),len(haiB.columns), df_pca = None, pred_only_gap=True, use_conditional=False)"
   ]
  },
  {
   "cell_type": "code",
   "execution_count": null,
   "id": "c97d5a28-cb3e-40fc-920a-47b8abdabc45",
   "metadata": {},
   "outputs": [],
   "source": [
    "save_models2_f = SaveModelsBatch(times_epoch=1) # save once per epoch"
   ]
  },
  {
   "cell_type": "code",
   "execution_count": null,
   "id": "ffd0163e-8869-405b-9d3b-359ded40dd32",
   "metadata": {},
   "outputs": [],
   "source": [
    "items2_f = random.choices(dls2.valid.items, k=4)"
   ]
  },
  {
   "cell_type": "code",
   "execution_count": null,
   "id": "15123d06-b1e6-4529-a6c1-2d8b563ebe00",
   "metadata": {},
   "outputs": [],
   "source": [
    "learn2_f = Learner(dls2, model2_f, KalmanLoss(only_gap=True), cbs = [Float64Callback, save_models2_f], metrics=rmse_gap)"
   ]
  },
  {
   "cell_type": "code",
   "execution_count": null,
   "id": "5469713d-8012-4962-9dd2-6695d1166861",
   "metadata": {},
   "outputs": [
    {
     "data": {
      "text/html": [
       "\n",
       "<style>\n",
       "    /* Turns off some styling */\n",
       "    progress {\n",
       "        /* gets rid of default border in Firefox and Opera. */\n",
       "        border: none;\n",
       "        /* Needs to be in here for Safari polyfill so background images work as expected. */\n",
       "        background-size: auto;\n",
       "    }\n",
       "    progress:not([value]), progress:not([value])::-webkit-progress-bar {\n",
       "        background: repeating-linear-gradient(45deg, #7e7e7e, #7e7e7e 10px, #5c5c5c 10px, #5c5c5c 20px);\n",
       "    }\n",
       "    .progress-bar-interrupted, .progress-bar-interrupted::-webkit-progress-bar {\n",
       "        background: #F44336;\n",
       "    }\n",
       "</style>\n"
      ],
      "text/plain": [
       "<IPython.core.display.HTML object>"
      ]
     },
     "metadata": {},
     "output_type": "display_data"
    },
    {
     "data": {
      "text/html": [
       "<table border=\"1\" class=\"dataframe\">\n",
       "  <thead>\n",
       "    <tr style=\"text-align: left;\">\n",
       "      <th>epoch</th>\n",
       "      <th>train_loss</th>\n",
       "      <th>valid_loss</th>\n",
       "      <th>rmse_gap</th>\n",
       "      <th>time</th>\n",
       "    </tr>\n",
       "  </thead>\n",
       "  <tbody>\n",
       "    <tr>\n",
       "      <td>0</td>\n",
       "      <td>-11.235242</td>\n",
       "      <td>-12.854656</td>\n",
       "      <td>0.297686</td>\n",
       "      <td>14:01</td>\n",
       "    </tr>\n",
       "    <tr>\n",
       "      <td>1</td>\n",
       "      <td>-14.011156</td>\n",
       "      <td>-15.982702</td>\n",
       "      <td>0.294317</td>\n",
       "      <td>14:31</td>\n",
       "    </tr>\n",
       "    <tr>\n",
       "      <td>2</td>\n",
       "      <td>-13.541236</td>\n",
       "      <td>-16.675112</td>\n",
       "      <td>0.295831</td>\n",
       "      <td>14:35</td>\n",
       "    </tr>\n",
       "  </tbody>\n",
       "</table>"
      ],
      "text/plain": [
       "<IPython.core.display.HTML object>"
      ]
     },
     "metadata": {},
     "output_type": "display_data"
    }
   ],
   "source": [
    "learn2_f.fit(3, 1e-2)"
   ]
  },
  {
   "cell_type": "code",
   "execution_count": null,
   "id": "308ffaa8-10b4-42ed-9dd3-9af40e3a79d8",
   "metadata": {},
   "outputs": [
    {
     "data": {
      "image/png": "[encoded data removed]",
      "text/plain": [
       "<Figure size 432x288 with 1 Axes>"
      ]
     },
     "metadata": {
      "needs_background": "light"
     },
     "output_type": "display_data"
    }
   ],
   "source": [
    "learn2_f.recorder.plot_loss()"
   ]
  },
  {
   "cell_type": "markdown",
   "id": "9b271600-3fac-4cb2-8051-a60d588806de",
   "metadata": {},
   "source": [
    "this learning rate is too high"
   ]
  },
  {
   "cell_type": "markdown",
   "id": "d57bff56-0b53-4a09-8868-f6bc02654d3a",
   "metadata": {},
   "source": [
    "## Conditional"
   ]
  },
  {
   "cell_type": "code",
   "execution_count": null,
   "id": "409ce082-46f0-49f7-9085-e2f843b7bebd",
   "metadata": {},
   "outputs": [],
   "source": [
    "dls3 = imp_dataloader(haiB, haiB, var_sel = gen_var_sel(list(haiB.columns)), block_len=100, gap_len=10, bs=20, control_lags=[1], n_rep=10).cpu()"
   ]
  },
  {
   "cell_type": "code",
   "execution_count": null,
   "id": "446c9fe1-6dcb-43db-9c4c-f15abc899866",
   "metadata": {},
   "outputs": [],
   "source": [
    "model3 = KalmanFilterSR.init_local_slope_pca(len(haiB.columns),len(haiB.columns), df_pca = None, pred_only_gap=True, use_conditional=True)"
   ]
  },
  {
   "cell_type": "code",
   "execution_count": null,
   "id": "58cd6a08-7e15-4bdf-b1be-1295262ae86a",
   "metadata": {},
   "outputs": [],
   "source": [
    "save_models3 = SaveModelsBatch(times_epoch=1) # save once per repetition"
   ]
  },
  {
   "cell_type": "code",
   "execution_count": null,
   "id": "d55f0f34-c21f-4074-941b-ed979f792d3d",
   "metadata": {},
   "outputs": [],
   "source": [
    "items = random.choices(dls3.valid.items, k=4)"
   ]
  },
  {
   "cell_type": "code",
   "execution_count": null,
   "id": "fd72bbc7-7d98-4214-9f64-4eeee60a378c",
   "metadata": {},
   "outputs": [],
   "source": [
    "learn3 = Learner(dls3, model3, KalmanLoss(only_gap=True), cbs = [Float64Callback, save_models2], metrics=rmse_gap)"
   ]
  },
  {
   "cell_type": "code",
   "execution_count": null,
   "id": "317ba653-f471-451d-8f3a-d99d3a58feff",
   "metadata": {},
   "outputs": [],
   "source": [
    "learn3.fit(20, 1e-4)"
   ]
  },
  {
   "cell_type": "code",
   "execution_count": null,
   "id": "ba154e77-3e6a-4580-8618-69f24e4c0310",
   "metadata": {},
   "outputs": [],
   "source": [
    "learn3.recorder.plot_loss()"
   ]
  },
  {
   "cell_type": "code",
   "execution_count": null,
   "id": "68660a81-4339-480c-951e-b0be44cfe065",
   "metadata": {},
   "outputs": [],
   "source": [
    "torch.save(learn3.model, \"trained_2_feb_gap_partial_var_cond_v1.pickle\")"
   ]
  },
  {
   "cell_type": "code",
   "execution_count": null,
   "id": "a41db878-e807-4074-bda0-178f05d1bcdb",
   "metadata": {},
   "outputs": [],
   "source": [
    "# learnB.export(\"trained_2_feb_gap_all_var_v1\")"
   ]
  },
  {
   "cell_type": "code",
   "execution_count": null,
   "id": "3ca60cd2-9b93-4283-ad25-c30ff5510923",
   "metadata": {},
   "outputs": [],
   "source": [
    "show_results(learn3, items=items)"
   ]
  },
  {
   "cell_type": "markdown",
   "id": "b0696a77-ae0b-4fca-b4d4-9943778f1fe6",
   "metadata": {},
   "source": [
    "## TA - gap 5"
   ]
  },
  {
   "cell_type": "code",
   "execution_count": null,
   "id": "e692de69-2262-4738-98a1-77d469a27c1e",
   "metadata": {},
   "outputs": [],
   "source": [
    "dls_TA = imp_dataloader(haiB, hai_eraB, var_sel = 'TA', block_len=50, gap_len=5, bs=20, control_lags=[1], n_rep=5).cpu()"
   ]
  },
  {
   "cell_type": "code",
   "execution_count": null,
   "id": "399ac379-072a-4fef-9ef0-6ea3a9b742b4",
   "metadata": {},
   "outputs": [],
   "source": [
    "model_TA = KalmanFilterSR.init_local_slope_pca(len(haiB.columns),len(haiB.columns), df_pca = haiB, pred_only_gap=True, use_conditional=True)"
   ]
  },
  {
   "cell_type": "code",
   "execution_count": null,
   "id": "ba0487c7-cee7-45e7-aaa2-98a9afe291a7",
   "metadata": {},
   "outputs": [],
   "source": [
    "save_models_TA = SaveModelsBatch(times_epoch=10) # save once per repetition"
   ]
  },
  {
   "cell_type": "code",
   "execution_count": null,
   "id": "f0e62331-d6ac-4cec-92df-cdabe3d246af",
   "metadata": {},
   "outputs": [],
   "source": [
    "items_TA = random.choices(dls_TA.valid.items, k=4)"
   ]
  },
  {
   "cell_type": "code",
   "execution_count": null,
   "id": "6ce18a78-b003-4772-a11e-8ef297a9cb4d",
   "metadata": {},
   "outputs": [],
   "source": [
    "learn_TA = Learner(dls_TA, model_TA, KalmanLoss(only_gap=True), cbs = [Float64Callback, save_models_TA], metrics=rmse_gap)"
   ]
  },
  {
   "cell_type": "code",
   "execution_count": null,
   "id": "ed0a3805-c6cc-49a0-a670-afe9e3c6169b",
   "metadata": {},
   "outputs": [],
   "source": [
    "learn_TA.model = torch.load(\"trained_3_feb_TA_gap_5_v3.pickle\")"
   ]
  },
  {
   "cell_type": "code",
   "execution_count": null,
   "id": "f03fe2f9-38a6-49b3-a154-7885f86037e1",
   "metadata": {},
   "outputs": [
    {
     "data": {
      "text/html": [
       "\n",
       "<style>\n",
       "    /* Turns off some styling */\n",
       "    progress {\n",
       "        /* gets rid of default border in Firefox and Opera. */\n",
       "        border: none;\n",
       "        /* Needs to be in here for Safari polyfill so background images work as expected. */\n",
       "        background-size: auto;\n",
       "    }\n",
       "    progress:not([value]), progress:not([value])::-webkit-progress-bar {\n",
       "        background: repeating-linear-gradient(45deg, #7e7e7e, #7e7e7e 10px, #5c5c5c 10px, #5c5c5c 20px);\n",
       "    }\n",
       "    .progress-bar-interrupted, .progress-bar-interrupted::-webkit-progress-bar {\n",
       "        background: #F44336;\n",
       "    }\n",
       "</style>\n"
      ],
      "text/plain": [
       "<IPython.core.display.HTML object>"
      ]
     },
     "metadata": {},
     "output_type": "display_data"
    },
    {
     "data": {
      "text/html": [
       "<table border=\"1\" class=\"dataframe\">\n",
       "  <thead>\n",
       "    <tr style=\"text-align: left;\">\n",
       "      <th>epoch</th>\n",
       "      <th>train_loss</th>\n",
       "      <th>valid_loss</th>\n",
       "      <th>rmse_gap</th>\n",
       "      <th>time</th>\n",
       "    </tr>\n",
       "  </thead>\n",
       "  <tbody>\n",
       "    <tr>\n",
       "      <td>0</td>\n",
       "      <td>-9.491266</td>\n",
       "      <td>-9.823570</td>\n",
       "      <td>0.022367</td>\n",
       "      <td>08:13</td>\n",
       "    </tr>\n",
       "  </tbody>\n",
       "</table>"
      ],
      "text/plain": [
       "<IPython.core.display.HTML object>"
      ]
     },
     "metadata": {},
     "output_type": "display_data"
    }
   ],
   "source": [
    "learn_TA.fit(1, 1e-3)"
   ]
  },
  {
   "cell_type": "code",
   "execution_count": null,
   "id": "fe408f86-f597-437b-982e-407d2a4962cd",
   "metadata": {},
   "outputs": [],
   "source": [
    "from tqdm.auto import tqdm"
   ]
  },
  {
   "cell_type": "code",
   "execution_count": null,
   "id": "ac0c6abb-84b9-4ec0-8fdf-7b89cbead8cd",
   "metadata": {},
   "outputs": [],
   "source": [
    "from functools import partial"
   ]
  },
  {
   "cell_type": "code",
   "execution_count": null,
   "id": "6922ce25-1a88-4a2f-80b0-5a93ea31fc0e",
   "metadata": {},
   "outputs": [
    {
     "data": {
      "application/vnd.jupyter.widget-view+json": {
       "model_id": "e9be94c4636d487ba5eb2b8dd39bd98c",
       "version_major": 2,
       "version_minor": 0
      },
      "text/plain": [
       "  0%|          | 0/228 [00:00<?, ?it/s]"
      ]
     },
     "metadata": {},
     "output_type": "display_data"
    }
   ],
   "source": [
    "errs = []\n",
    "for inp in tqdm(dls_TA.valid):\n",
    "    pred = learn_TA.model(inp[0])\n",
    "    rmse =  learn_TA.metrics[0](pred, inp[1])\n",
    "    errs.append(rmse)"
   ]
  },
  {
   "cell_type": "code",
   "execution_count": null,
   "id": "e3623a8e-7a87-4de7-a58c-3b6a1df39089",
   "metadata": {},
   "outputs": [
    {
     "data": {
      "text/plain": [
       "tensor(0.0252)"
      ]
     },
     "execution_count": null,
     "metadata": {},
     "output_type": "execute_result"
    }
   ],
   "source": [
    "torch.tensor(errs).mean()"
   ]
  },
  {
   "cell_type": "markdown",
   "id": "5e2d37fb-b4f1-4af5-ab62-cb841bee6b27",
   "metadata": {},
   "source": [
    "I like thiss error! and is totally consistent with the training one"
   ]
  },
  {
   "cell_type": "code",
   "execution_count": null,
   "id": "a99b2dae-bc90-4e96-ac61-28c60a9d0aff",
   "metadata": {},
   "outputs": [
    {
     "data": {
      "text/plain": [
       "[MeteoImpItem(i=4518, shift=15, var_sel=['TA'], gap_len=5),\n",
       " MeteoImpItem(i=3825, shift=5, var_sel=['TA'], gap_len=5),\n",
       " MeteoImpItem(i=3706, shift=-25, var_sel=['TA'], gap_len=5),\n",
       " MeteoImpItem(i=4397, shift=15, var_sel=['TA'], gap_len=5)]"
      ]
     },
     "execution_count": null,
     "metadata": {},
     "output_type": "execute_result"
    }
   ],
   "source": [
    "items_TA"
   ]
  },
  {
   "cell_type": "code",
   "execution_count": null,
   "id": "1fe83911-22de-47c6-b8f0-9f8ce862bd4e",
   "metadata": {},
   "outputs": [],
   "source": [
    "input = one_batch_with_items(dls_TA, items_TA)[0]\n",
    "preds_raw = learn_TA.model(input)"
   ]
  },
  {
   "cell_type": "code",
   "execution_count": null,
   "id": "e2580b0f-d283-4ec4-977f-bdab0e6e0c5c",
   "metadata": {},
   "outputs": [
    {
     "data": {
      "text/plain": [
       "0.03817931190133095"
      ]
     },
     "execution_count": null,
     "metadata": {},
     "output_type": "execute_result"
    }
   ],
   "source": [
    "learn_TA.metrics[0](preds_raw, input)"
   ]
  },
  {
   "cell_type": "markdown",
   "id": "cb1feb82-20f0-4df0-b2f7-7b83cf7fb140",
   "metadata": {},
   "source": [
    "this is good because is the same order of magnigute of the average during training"
   ]
  },
  {
   "cell_type": "markdown",
   "id": "43286feb-261f-4e17-9c15-e8a0b7e06f05",
   "metadata": {},
   "source": [
    "try to compute the normalize mean from the predictions, which should be the same of this one"
   ]
  },
  {
   "cell_type": "code",
   "execution_count": null,
   "id": "3c86302e-6d88-472d-af1e-348941afb20f",
   "metadata": {},
   "outputs": [],
   "source": [
    "def normalize(x, mean, std):\n",
    "    return (x - mean) / std "
   ]
  },
  {
   "cell_type": "code",
   "execution_count": null,
   "id": "80862cf4-8f56-4578-9e8a-8a3b3e6760fe",
   "metadata": {},
   "outputs": [],
   "source": [
    "def inv_normalize(x, mean, std):\n",
    "    return x * std + mean "
   ]
  },
  {
   "cell_type": "code",
   "execution_count": null,
   "id": "cb52c103-f2d1-4c27-8b63-aa477bd739a3",
   "metadata": {},
   "outputs": [],
   "source": [
    "norm_hai = partial(normalize, mean = get_stats(haiB)[0], std =  get_stats(haiB)[1])"
   ]
  },
  {
   "cell_type": "code",
   "execution_count": null,
   "id": "232c0cbe-2292-4dbb-8a2e-d73a53941802",
   "metadata": {},
   "outputs": [],
   "source": [
    "inv_norm_hai = partial(inv_normalize, mean = get_stats(haiB)[0], std =  get_stats(haiB)[1])"
   ]
  },
  {
   "cell_type": "code",
   "execution_count": null,
   "id": "0519fb4e-fb37-47d5-9c40-4482798d008a",
   "metadata": {},
   "outputs": [],
   "source": [
    "inv_norm_hai = lambda x: x  * get_stats(haiB)[1] + get_stats(haiB)[0]"
   ]
  },
  {
   "cell_type": "code",
   "execution_count": null,
   "id": "a727326a-0be1-495c-a61e-80dc51472a68",
   "metadata": {},
   "outputs": [],
   "source": [
    "preds, targs = predict_items(model_TA, dls_TA, items_TA)\n",
    "pred, targ = preds[0], targs[0]"
   ]
  },
  {
   "cell_type": "code",
   "execution_count": null,
   "id": "635ab480-49c3-49ae-af8f-df4da99d3358",
   "metadata": {},
   "outputs": [],
   "source": [
    "targ_n = norm_hai(targ.data)"
   ]
  },
  {
   "cell_type": "markdown",
   "id": "35ebca48-50b6-4153-94c5-71e3c69093e8",
   "metadata": {},
   "source": [
    "The normalization is correct"
   ]
  },
  {
   "cell_type": "code",
   "execution_count": null,
   "id": "6a4099db-4df7-4d54-8bb2-c9ceb24b68fd",
   "metadata": {},
   "outputs": [],
   "source": [
    "test_close(targ_n.to_numpy(), input[0][0].numpy())"
   ]
  },
  {
   "cell_type": "code",
   "execution_count": null,
   "id": "ead18f02-a48a-44c6-b840-ccfc41e56bd1",
   "metadata": {},
   "outputs": [
    {
     "data": {
      "text/plain": [
       "tensor([8.3339e+00, 1.2096e+02, 3.3807e+00, 9.5962e+01, 4.3427e-02, 3.1800e+00,\n",
       "        3.1150e+02], dtype=torch.float64)"
      ]
     },
     "execution_count": null,
     "metadata": {},
     "output_type": "execute_result"
    }
   ],
   "source": [
    "get_stats(haiB)[0]"
   ]
  },
  {
   "cell_type": "code",
   "execution_count": null,
   "id": "e9b10a31-bccd-4a08-8907-a8a852053c47",
   "metadata": {},
   "outputs": [],
   "source": [
    "test_close(targ.data.to_numpy(), inv_norm_hai(input[0][0]).numpy())"
   ]
  },
  {
   "cell_type": "code",
   "execution_count": null,
   "id": "2aad6e6d-888c-4f22-a56b-05208e9e89c1",
   "metadata": {},
   "outputs": [],
   "source": [
    "preds_r = maybe_buffer_pred(CovStdTransform()(preds_raw), input[1])"
   ]
  },
  {
   "cell_type": "code",
   "execution_count": null,
   "id": "79031e72-ca06-4023-9c30-0eefc93327ff",
   "metadata": {},
   "outputs": [],
   "source": [
    "from meteo_imp.kalman.fastai import InverseNormalize"
   ]
  },
  {
   "cell_type": "code",
   "execution_count": null,
   "id": "ad96a97d-aea8-4b35-9de2-f7c26f5aa3fe",
   "metadata": {},
   "outputs": [],
   "source": [
    "inv_norm = InverseNormalize(*get_stats(haiB))"
   ]
  },
  {
   "cell_type": "code",
   "execution_count": null,
   "id": "2c6facf4-5c6c-44f4-9085-deb93193cf8d",
   "metadata": {},
   "outputs": [
    {
     "data": {
      "text/plain": [
       "tensor([[    nan,     nan,     nan,     nan,     nan,     nan,     nan],\n",
       "        [-0.5869,     nan,     nan,     nan,     nan,     nan,     nan],\n",
       "        [-0.5357,     nan,     nan,     nan,     nan,     nan,     nan],\n",
       "        [-0.4994,     nan,     nan,     nan,     nan,     nan,     nan],\n",
       "        [-0.4664,     nan,     nan,     nan,     nan,     nan,     nan],\n",
       "        [-0.4624,     nan,     nan,     nan,     nan,     nan,     nan]],\n",
       "       dtype=torch.float64)"
      ]
     },
     "execution_count": null,
     "metadata": {},
     "output_type": "execute_result"
    }
   ],
   "source": [
    "preds_r[0][0][24:30]"
   ]
  },
  {
   "cell_type": "code",
   "execution_count": null,
   "id": "de01dc3e-67af-47ca-adb2-72029f18280e",
   "metadata": {},
   "outputs": [
    {
     "data": {
      "text/plain": [
       "tensor([[   nan,    nan,    nan,    nan,    nan,    nan,    nan],\n",
       "        [3.6831,    nan,    nan,    nan,    nan,    nan,    nan],\n",
       "        [4.0883,    nan,    nan,    nan,    nan,    nan,    nan],\n",
       "        [4.3760,    nan,    nan,    nan,    nan,    nan,    nan],\n",
       "        [4.6381,    nan,    nan,    nan,    nan,    nan,    nan],\n",
       "        [4.6697,    nan,    nan,    nan,    nan,    nan,    nan]],\n",
       "       dtype=torch.float64)"
      ]
     },
     "execution_count": null,
     "metadata": {},
     "output_type": "execute_result"
    }
   ],
   "source": [
    "inv_norm(preds_r)[0][0][24:30]"
   ]
  },
  {
   "cell_type": "code",
   "execution_count": null,
   "id": "c95d8259-e0a2-4f06-a084-47339050ea1b",
   "metadata": {},
   "outputs": [],
   "source": [
    "test_close(norm_hai(inv_norm_hai(preds_r[0][0][25:30]))[:,0], preds_r[0][0][25:30, 0])"
   ]
  },
  {
   "cell_type": "markdown",
   "id": "0fe38e72-4e11-4dd7-91d7-a898f2ee37f6",
   "metadata": {},
   "source": [
    "try compute metrics"
   ]
  },
  {
   "cell_type": "code",
   "execution_count": null,
   "id": "21849d3a-fdd8-4d88-9e1e-23d4ab6fcad4",
   "metadata": {},
   "outputs": [],
   "source": [
    "from fastcore.basics import *\n",
    "from sklearn.metrics import mean_squared_error"
   ]
  },
  {
   "cell_type": "code",
   "execution_count": null,
   "id": "5a464461-791b-4bdd-bb08-9e2810ac3da1",
   "metadata": {},
   "outputs": [],
   "source": [
    "#| export\n",
    "class MaskedMetric:\n",
    "    def __init__(self, metric): store_attr()\n",
    "    def __call__(self, item, pred):\n",
    "        row_sel, col_sel = ~item.mask.all(1), ~item.mask.all(0)\n",
    "        data, mask, pred = item.data.to_numpy(), item.mask.to_numpy(), pred.to_numpy()\n",
    "        assert not mask[:, col_sel][row_sel, :].any() # gap is a rectangle\n",
    "        return self.metric(data[:, col_sel][row_sel, :], pred[:, col_sel][row_sel, :])   "
   ]
  },
  {
   "cell_type": "code",
   "execution_count": null,
   "id": "659a0552-8c11-4699-95d2-3df749b1d75f",
   "metadata": {},
   "outputs": [],
   "source": [
    "def rmse(y_true, y_pred):\n",
    "    return np.sqrt(mean_squared_error(y_true, y_pred, multioutput='raw_values'))"
   ]
  },
  {
   "cell_type": "code",
   "execution_count": null,
   "id": "f00f54be-e71c-461e-8163-72bec2c559d3",
   "metadata": {},
   "outputs": [
    {
     "data": {
      "text/plain": [
       "array([0.4065746])"
      ]
     },
     "execution_count": null,
     "metadata": {},
     "output_type": "execute_result"
    }
   ],
   "source": [
    "MaskedMetric(rmse)(targ, pred.mean)"
   ]
  },
  {
   "cell_type": "markdown",
   "id": "aca592cb-9648-4883-81e2-0a069391e32b",
   "metadata": {},
   "source": [
    "the predictions and the target are quite similar!"
   ]
  },
  {
   "cell_type": "code",
   "execution_count": null,
   "id": "f34a2f90-17f6-43cc-b7e4-4ab2c4eb0081",
   "metadata": {},
   "outputs": [
    {
     "data": {
      "text/plain": [
       "(tensor([-0.5869, -0.5357, -0.4994, -0.4664, -0.4624], dtype=torch.float64),\n",
       " tensor([-0.5936, -0.4497, -0.4258, -0.4901, -0.4283], dtype=torch.float64))"
      ]
     },
     "execution_count": null,
     "metadata": {},
     "output_type": "execute_result"
    }
   ],
   "source": [
    "preds_r[0][0][25:30, 0], input[0][0][25:30, 0]"
   ]
  },
  {
   "cell_type": "code",
   "execution_count": null,
   "id": "5a72cbe6-7db7-4f00-8cee-4f3ef764935d",
   "metadata": {},
   "outputs": [
    {
     "data": {
      "text/plain": [
       "0.4065746042293408"
      ]
     },
     "execution_count": null,
     "metadata": {},
     "output_type": "execute_result"
    }
   ],
   "source": [
    "np.sqrt((pred.mean[~targ.mask][25:30]['TA'] - targ.data[~targ.mask][25:30]['TA']).pow(2).mean())"
   ]
  },
  {
   "cell_type": "markdown",
   "id": "1fb20b2d-f660-44d8-9495-1d9610c2daf6",
   "metadata": {},
   "source": [
    "so it seems this computation is correct"
   ]
  },
  {
   "cell_type": "code",
   "execution_count": null,
   "id": "3ea7d4f1-b8ce-42d7-abed-892bd2057121",
   "metadata": {},
   "outputs": [],
   "source": [
    "def normalize(x, mean, std): return (x - mean) / std "
   ]
  },
  {
   "cell_type": "code",
   "execution_count": null,
   "id": "585447ff-7e86-4726-8c16-a7838dd8bf71",
   "metadata": {},
   "outputs": [],
   "source": [
    "#| export\n",
    "class NormalizedMetric:\n",
    "    def __init__(self, metric: MaskedMetric, mean, std): store_attr()\n",
    "    def __call__(self, item, pred):\n",
    "        item.data = normalize(item.data, self.mean, self.std)\n",
    "        pred = normalize(pred, self.mean, self.std)\n",
    "        # return item, pred\n",
    "        return self.metric(item, pred)"
   ]
  },
  {
   "cell_type": "code",
   "execution_count": null,
   "id": "c01ea0b1-5dcc-41bc-af16-d45070a7aac8",
   "metadata": {},
   "outputs": [],
   "source": [
    "targ_n2, pred_n2 = NormalizedMetric(MaskedMetric(rmse), *get_stats(haiB))(targ, pred.mean)"
   ]
  },
  {
   "cell_type": "code",
   "execution_count": null,
   "id": "a0584b91-718c-4505-bc4c-14bc28bf4bda",
   "metadata": {},
   "outputs": [],
   "source": [
    "assert (targ_n - targ_n2.data).eq(0).all().all()"
   ]
  },
  {
   "cell_type": "code",
   "execution_count": null,
   "id": "5644c762-ec43-4934-a122-c4f2e093bc13",
   "metadata": {},
   "outputs": [
    {
     "data": {
      "text/plain": [
       "(tensor([-0.5869, -0.5357, -0.4994, -0.4664, -0.4624], dtype=torch.float64),\n",
       " array([-0.5762971 , -0.49850062, -0.43485875, -0.39235883, -0.39919187]))"
      ]
     },
     "execution_count": null,
     "metadata": {},
     "output_type": "execute_result"
    }
   ],
   "source": [
    "preds_r[0][0][25:30, 0], pred_n2[25:30]['TA'].to_numpy()"
   ]
  },
  {
   "cell_type": "markdown",
   "id": "4ef45c10-fb26-4bc3-9538-d0f330fb22a0",
   "metadata": {},
   "source": [
    "this is wrong!!! they should be same number but they aren't!!!"
   ]
  },
  {
   "cell_type": "code",
   "execution_count": null,
   "id": "995c18fb-5eed-491b-ad94-f206d2610c92",
   "metadata": {},
   "outputs": [
    {
     "data": {
      "text/plain": [
       "(tensor([-0.5869, -0.5357, -0.4994, -0.4664, -0.4624], dtype=torch.float64),\n",
       " tensor([-0.5869, -0.5357, -0.4994, -0.4664, -0.4624], dtype=torch.float64))"
      ]
     },
     "execution_count": null,
     "metadata": {},
     "output_type": "execute_result"
    }
   ],
   "source": [
    "norm_hai(inv_norm(preds_r)[0][0][25:30])[:, 0], preds_r[0][0][25:30, 0]"
   ]
  },
  {
   "cell_type": "code",
   "execution_count": null,
   "id": "3ffb208f-7a75-4205-8113-c141e3c5319d",
   "metadata": {},
   "outputs": [],
   "source": [
    "test_close(norm_hai(inv_norm(preds_r)[0][0][25:30])[:, 0], preds_r[0][0][25:30, 0])"
   ]
  },
  {
   "cell_type": "markdown",
   "id": "ad5ff465-7f34-40e0-8ba4-9b553f3b6f9e",
   "metadata": {},
   "source": [
    "so the inverse normalization is working!"
   ]
  },
  {
   "cell_type": "code",
   "execution_count": null,
   "id": "c0698a42-5b28-4fc6-a8fe-bba41516bece",
   "metadata": {},
   "outputs": [
    {
     "data": {
      "text/plain": [
       "array([3.76697843, 4.38348529, 4.88782236, 5.22461764, 5.1704685 ])"
      ]
     },
     "execution_count": null,
     "metadata": {},
     "output_type": "execute_result"
    }
   ],
   "source": [
    "pred.mean[25:30]['TA'].to_numpy()"
   ]
  },
  {
   "cell_type": "code",
   "execution_count": null,
   "id": "640b10d7-8cc2-43c1-87b3-a765b7fbc95d",
   "metadata": {},
   "outputs": [
    {
     "data": {
      "text/plain": [
       "tensor([[3.6831,    nan,    nan,    nan,    nan,    nan,    nan],\n",
       "        [4.0883,    nan,    nan,    nan,    nan,    nan,    nan],\n",
       "        [4.3760,    nan,    nan,    nan,    nan,    nan,    nan],\n",
       "        [4.6381,    nan,    nan,    nan,    nan,    nan,    nan],\n",
       "        [4.6697,    nan,    nan,    nan,    nan,    nan,    nan]],\n",
       "       dtype=torch.float64)"
      ]
     },
     "execution_count": null,
     "metadata": {},
     "output_type": "execute_result"
    }
   ],
   "source": [
    "inv_norm(preds_r)[0][0][25:30]"
   ]
  },
  {
   "cell_type": "code",
   "execution_count": null,
   "id": "da96e4c1-19fa-415d-a27f-2475dc436798",
   "metadata": {},
   "outputs": [],
   "source": [
    "test_close(inv_norm.mean_data, get_stats(haiB)[0])"
   ]
  },
  {
   "cell_type": "code",
   "execution_count": null,
   "id": "acdc1d0d-64b9-4e8f-8b7f-e79aa56e94db",
   "metadata": {},
   "outputs": [],
   "source": [
    "test_close(inv_norm.std_data, get_stats(haiB)[1])"
   ]
  },
  {
   "cell_type": "code",
   "execution_count": null,
   "id": "2121596a-a81a-4204-b550-657447f0cd01",
   "metadata": {},
   "outputs": [],
   "source": [
    "test_close(dls_TA.fs[-2].mean_data, get_stats(haiB)[0])"
   ]
  },
  {
   "cell_type": "code",
   "execution_count": null,
   "id": "d57b5ac0-959d-4217-96c0-14cbb3d17d3e",
   "metadata": {},
   "outputs": [],
   "source": [
    "test_close(dls_TA.fs[-2].std_data, get_stats(haiB)[1])"
   ]
  },
  {
   "cell_type": "markdown",
   "id": "32b0cfee-8bee-43e7-9272-9034f0e4b989",
   "metadata": {},
   "source": [
    "sooooooo it seems that they are doing the same thing, why is not working"
   ]
  },
  {
   "cell_type": "code",
   "execution_count": null,
   "id": "4dcf70ff-270b-46ad-a743-b39abf90ec62",
   "metadata": {},
   "outputs": [],
   "source": [
    "def predict_items(\n",
    "    model: KalmanFilterBase,\n",
    "    dls,\n",
    "    items: list[list],\n",
    "    # metric_fn: PredMetrics\n",
    "):\n",
    "    input, _ = one_batch_with_items(dls, items)\n",
    "    preds_0 = model(input)\n",
    "    preds_1 = CovStdTransform()(preds_0)\n",
    "    preds_2 = maybe_buffer_pred(preds_1, input[1])\n",
    "    preds_3 = InverseNormalize.from_dls(dls)(preds_2) # inverse normalize\n",
    "    targs = orig_target(dls, items)\n",
    "    preds_5 = preds2df(preds_3, targs)\n",
    "    \n",
    "    # metrics = metric_fn(preds_0, input)\n",
    "    \n",
    "    return preds_5, targs, #metrics"
   ]
  },
  {
   "cell_type": "code",
   "execution_count": null,
   "id": "81c40867-cc73-4a9c-8973-44d52c16820a",
   "metadata": {},
   "outputs": [],
   "source": [
    "preds_5, preds_2, targs__ = predict_items(model_TA, dls_TA, items=items_TA)"
   ]
  },
  {
   "cell_type": "code",
   "execution_count": null,
   "id": "4a1e2434-6880-46d4-98d2-53357b28d423",
   "metadata": {},
   "outputs": [
    {
     "data": {
      "text/html": [
       "<div>\n",
       "<style scoped>\n",
       "    .dataframe tbody tr th:only-of-type {\n",
       "        vertical-align: middle;\n",
       "    }\n",
       "\n",
       "    .dataframe tbody tr th {\n",
       "        vertical-align: top;\n",
       "    }\n",
       "\n",
       "    .dataframe thead th {\n",
       "        text-align: right;\n",
       "    }\n",
       "</style>\n",
       "<table border=\"1\" class=\"dataframe\">\n",
       "  <thead>\n",
       "    <tr style=\"text-align: right;\">\n",
       "      <th></th>\n",
       "      <th>TA</th>\n",
       "      <th>SW_IN</th>\n",
       "      <th>VPD</th>\n",
       "      <th>PA</th>\n",
       "      <th>P</th>\n",
       "      <th>WS</th>\n",
       "      <th>LW_IN</th>\n",
       "    </tr>\n",
       "    <tr>\n",
       "      <th>time</th>\n",
       "      <th></th>\n",
       "      <th></th>\n",
       "      <th></th>\n",
       "      <th></th>\n",
       "      <th></th>\n",
       "      <th></th>\n",
       "      <th></th>\n",
       "    </tr>\n",
       "  </thead>\n",
       "  <tbody>\n",
       "    <tr>\n",
       "      <th>2012-11-20 03:00:00</th>\n",
       "      <td>3.766978</td>\n",
       "      <td>NaN</td>\n",
       "      <td>NaN</td>\n",
       "      <td>NaN</td>\n",
       "      <td>NaN</td>\n",
       "      <td>NaN</td>\n",
       "      <td>NaN</td>\n",
       "    </tr>\n",
       "    <tr>\n",
       "      <th>2012-11-20 03:30:00</th>\n",
       "      <td>4.383485</td>\n",
       "      <td>NaN</td>\n",
       "      <td>NaN</td>\n",
       "      <td>NaN</td>\n",
       "      <td>NaN</td>\n",
       "      <td>NaN</td>\n",
       "      <td>NaN</td>\n",
       "    </tr>\n",
       "    <tr>\n",
       "      <th>2012-11-20 04:00:00</th>\n",
       "      <td>4.887822</td>\n",
       "      <td>NaN</td>\n",
       "      <td>NaN</td>\n",
       "      <td>NaN</td>\n",
       "      <td>NaN</td>\n",
       "      <td>NaN</td>\n",
       "      <td>NaN</td>\n",
       "    </tr>\n",
       "    <tr>\n",
       "      <th>2012-11-20 04:30:00</th>\n",
       "      <td>5.224618</td>\n",
       "      <td>NaN</td>\n",
       "      <td>NaN</td>\n",
       "      <td>NaN</td>\n",
       "      <td>NaN</td>\n",
       "      <td>NaN</td>\n",
       "      <td>NaN</td>\n",
       "    </tr>\n",
       "    <tr>\n",
       "      <th>2012-11-20 05:00:00</th>\n",
       "      <td>5.170468</td>\n",
       "      <td>NaN</td>\n",
       "      <td>NaN</td>\n",
       "      <td>NaN</td>\n",
       "      <td>NaN</td>\n",
       "      <td>NaN</td>\n",
       "      <td>NaN</td>\n",
       "    </tr>\n",
       "  </tbody>\n",
       "</table>\n",
       "</div>"
      ],
      "text/plain": [
       "                           TA  SW_IN  VPD  PA   P  WS  LW_IN\n",
       "time                                                        \n",
       "2012-11-20 03:00:00  3.766978    NaN  NaN NaN NaN NaN    NaN\n",
       "2012-11-20 03:30:00  4.383485    NaN  NaN NaN NaN NaN    NaN\n",
       "2012-11-20 04:00:00  4.887822    NaN  NaN NaN NaN NaN    NaN\n",
       "2012-11-20 04:30:00  5.224618    NaN  NaN NaN NaN NaN    NaN\n",
       "2012-11-20 05:00:00  5.170468    NaN  NaN NaN NaN NaN    NaN"
      ]
     },
     "execution_count": null,
     "metadata": {},
     "output_type": "execute_result"
    }
   ],
   "source": [
    "preds_5[0].mean[25:30]"
   ]
  },
  {
   "cell_type": "code",
   "execution_count": null,
   "id": "57f64248-0ca8-4384-8b41-4df77d0d7b7e",
   "metadata": {},
   "outputs": [
    {
     "data": {
      "text/html": [
       "<div style=\"display: flex; column-gap: 20px; flex-wrap: wrap;\" class='table table-striped table-sm'> <div><p style='font-size: 1.2rem;'>raw</p> <pre>tensor([-0.5763, -0.4985, -0.4349, -0.3924, -0.3992], dtype=torch.float64)\n",
       "</pre> </div><div><p style='font-size: 1.2rem;'>inv_norm</p> <pre>tensor([3.7670, 4.3835, 4.8878, 5.2246, 5.1705], dtype=torch.float64)\n",
       "</pre> </div><div><p style='font-size: 1.2rem;'>norm</p> <pre>tensor([-0.5763, -0.4985, -0.4349, -0.3924, -0.3992], dtype=torch.float64)\n",
       "</pre> </div></div>"
      ],
      "text/plain": [
       "<IPython.core.display.HTML object>"
      ]
     },
     "metadata": {},
     "output_type": "display_data"
    }
   ],
   "source": [
    "show_as_row(raw = preds_2[0][0][25:30][:,0], inv_norm = inv_norm_hai(preds_2[0][0][25:30])[:,0],\n",
    "            norm = norm_hai(inv_norm_hai(preds_2[0][0][25:30]))[:,0])"
   ]
  },
  {
   "cell_type": "code",
   "execution_count": null,
   "id": "26d44249-a210-4bf9-a4f9-0869ef964641",
   "metadata": {},
   "outputs": [
    {
     "data": {
      "text/plain": [
       "(tensor([-0.5763, -0.4985, -0.4349, -0.3924, -0.3992], dtype=torch.float64),\n",
       " array([-0.5935823 , -0.44972665, -0.42575071, -0.49010718, -0.42827449]))"
      ]
     },
     "execution_count": null,
     "metadata": {},
     "output_type": "execute_result"
    }
   ],
   "source": [
    "preds_2[0][0][25:30][:,0], norm_hai(targs__[0].data)[25:30].to_numpy()[:,0]"
   ]
  },
  {
   "cell_type": "code",
   "execution_count": null,
   "id": "6aa656c0-2692-494b-b17b-9df1f5ab8f27",
   "metadata": {},
   "outputs": [
    {
     "data": {
      "text/plain": [
       "array([0.05130531])"
      ]
     },
     "execution_count": null,
     "metadata": {},
     "output_type": "execute_result"
    }
   ],
   "source": [
    "rmse(preds_2[0][0][25:30][:,0], norm_hai(targs__[0].data)[25:30].to_numpy()[:,0])"
   ]
  },
  {
   "cell_type": "code",
   "execution_count": null,
   "id": "50850036-1a24-4d9b-8c85-74913bbc3438",
   "metadata": {},
   "outputs": [
    {
     "data": {
      "text/plain": [
       "array([0.65475637])"
      ]
     },
     "execution_count": null,
     "metadata": {},
     "output_type": "execute_result"
    }
   ],
   "source": [
    "NormalizedMetric(MaskedMetric(rmse), *get_stats(haiB))(targs__[0], pd.DataFrame(inv_norm_hai(preds_2[0][0])))"
   ]
  },
  {
   "cell_type": "markdown",
   "id": "2db09e71-8d5f-4353-aa8c-c4587ce8e4a3",
   "metadata": {},
   "source": [
    "#### Test"
   ]
  },
  {
   "cell_type": "markdown",
   "id": "07129c6c-03c8-46bc-9fcd-814630a43681",
   "metadata": {},
   "source": [
    "test that the normalized metrics are correct\n",
    "\n",
    "the steps are:\n",
    "1) get a raw prediction\n",
    "2) compute rmse on raw prediction\n",
    "3) get transformed prediction\n",
    "4) computed normalized rmse on transformed prediction\n",
    "5) compared raw rmse and normalized rmse"
   ]
  },
  {
   "cell_type": "code",
   "execution_count": null,
   "id": "fdbe0689-6726-4fb2-b537-4f226a63f800",
   "metadata": {},
   "outputs": [],
   "source": [
    "input = one_batch_with_items(dls_TA, [items_TA[0]])[0]\n",
    "preds_raw = learn_TA.model(input)\n",
    "rmse_raw = learn_TA.metrics[0](preds_raw, input)"
   ]
  },
  {
   "cell_type": "code",
   "execution_count": null,
   "id": "7cd3c930-eb53-488b-9ea5-f0d897d6ed09",
   "metadata": {},
   "outputs": [
    {
     "data": {
      "text/plain": [
       "0.05404151976108551"
      ]
     },
     "execution_count": null,
     "metadata": {},
     "output_type": "execute_result"
    }
   ],
   "source": [
    "rmse_raw"
   ]
  },
  {
   "cell_type": "code",
   "execution_count": null,
   "id": "7a59bec9-2044-4325-82b4-a926431d0609",
   "metadata": {},
   "outputs": [],
   "source": [
    "preds, targs = predict_items(learn_TA.model, dls_TA, [items_TA[0]]) "
   ]
  },
  {
   "cell_type": "code",
   "execution_count": null,
   "id": "637c3dce-9dc9-416e-813f-53babd413cd4",
   "metadata": {},
   "outputs": [],
   "source": [
    "rmse_norm = NormalizedMetric(MaskedMetric(rmse), *get_stats(haiB))( targs[0], preds[0].mean)"
   ]
  },
  {
   "cell_type": "code",
   "execution_count": null,
   "id": "ea328b2b-7ff7-4799-aa14-41e8dcbe9d26",
   "metadata": {},
   "outputs": [
    {
     "data": {
      "text/plain": [
       "array([0.05404152])"
      ]
     },
     "execution_count": null,
     "metadata": {},
     "output_type": "execute_result"
    }
   ],
   "source": [
    "rmse_norm"
   ]
  },
  {
   "cell_type": "code",
   "execution_count": null,
   "id": "91f82241-9875-4f6b-851b-98dd4e0d19a6",
   "metadata": {},
   "outputs": [],
   "source": [
    "test_close(rmse_norm, rmse_raw)"
   ]
  },
  {
   "cell_type": "code",
   "execution_count": null,
   "id": "4ba710fa-acd2-45af-8131-7c413f9aede1",
   "metadata": {},
   "outputs": [],
   "source": []
  },
  {
   "cell_type": "code",
   "execution_count": null,
   "id": "2b5ff370-4c56-42ea-9a7a-acecba76a0f7",
   "metadata": {},
   "outputs": [],
   "source": []
  },
  {
   "cell_type": "code",
   "execution_count": null,
   "id": "74ca9a5b-5ec7-49e2-a9da-0b83a0eac8ec",
   "metadata": {},
   "outputs": [],
   "source": []
  },
  {
   "cell_type": "code",
   "execution_count": null,
   "id": "cc0d0ab2-fa22-461f-b32a-1d021ceeff6d",
   "metadata": {},
   "outputs": [],
   "source": []
  },
  {
   "cell_type": "code",
   "execution_count": null,
   "id": "c8d8135e-691c-414f-bb3d-ad28985f726a",
   "metadata": {},
   "outputs": [],
   "source": [
    "rmse(preds_2[0][0][25:30]"
   ]
  },
  {
   "cell_type": "code",
   "execution_count": null,
   "id": "b1601463-eb43-4206-9d04-ec9e366aceae",
   "metadata": {},
   "outputs": [],
   "source": [
    "assert (targ_n - pred).eq(0).all().all()"
   ]
  },
  {
   "cell_type": "code",
   "execution_count": null,
   "id": "5fd9fc11-324c-409e-a03a-788f1bf33895",
   "metadata": {},
   "outputs": [
    {
     "data": {
      "text/plain": [
       "tensor(0.0540, dtype=torch.float64)"
      ]
     },
     "execution_count": null,
     "metadata": {},
     "output_type": "execute_result"
    }
   ],
   "source": [
    "(preds_r[0][0][25:30, 0] - input[0][0][25:30, 0]).pow(2).mean().sqrt()"
   ]
  },
  {
   "cell_type": "code",
   "execution_count": null,
   "id": "189fa83f-935a-4318-b45f-126be45833c8",
   "metadata": {},
   "outputs": [
    {
     "data": {
      "text/plain": [
       "tensor([[   nan,    nan,    nan,    nan,    nan,    nan,    nan],\n",
       "        [   nan,    nan,    nan,    nan,    nan,    nan,    nan],\n",
       "        [   nan,    nan,    nan,    nan,    nan,    nan,    nan],\n",
       "        [   nan,    nan,    nan,    nan,    nan,    nan,    nan],\n",
       "        [   nan,    nan,    nan,    nan,    nan,    nan,    nan],\n",
       "        [   nan,    nan,    nan,    nan,    nan,    nan,    nan],\n",
       "        [   nan,    nan,    nan,    nan,    nan,    nan,    nan],\n",
       "        [   nan,    nan,    nan,    nan,    nan,    nan,    nan],\n",
       "        [   nan,    nan,    nan,    nan,    nan,    nan,    nan],\n",
       "        [   nan,    nan,    nan,    nan,    nan,    nan,    nan],\n",
       "        [   nan,    nan,    nan,    nan,    nan,    nan,    nan],\n",
       "        [   nan,    nan,    nan,    nan,    nan,    nan,    nan],\n",
       "        [   nan,    nan,    nan,    nan,    nan,    nan,    nan],\n",
       "        [   nan,    nan,    nan,    nan,    nan,    nan,    nan],\n",
       "        [   nan,    nan,    nan,    nan,    nan,    nan,    nan],\n",
       "        [   nan,    nan,    nan,    nan,    nan,    nan,    nan],\n",
       "        [   nan,    nan,    nan,    nan,    nan,    nan,    nan],\n",
       "        [   nan,    nan,    nan,    nan,    nan,    nan,    nan],\n",
       "        [   nan,    nan,    nan,    nan,    nan,    nan,    nan],\n",
       "        [   nan,    nan,    nan,    nan,    nan,    nan,    nan],\n",
       "        [   nan,    nan,    nan,    nan,    nan,    nan,    nan],\n",
       "        [   nan,    nan,    nan,    nan,    nan,    nan,    nan],\n",
       "        [   nan,    nan,    nan,    nan,    nan,    nan,    nan],\n",
       "        [   nan,    nan,    nan,    nan,    nan,    nan,    nan],\n",
       "        [   nan,    nan,    nan,    nan,    nan,    nan,    nan],\n",
       "        [3.6831,    nan,    nan,    nan,    nan,    nan,    nan],\n",
       "        [4.0883,    nan,    nan,    nan,    nan,    nan,    nan],\n",
       "        [4.3760,    nan,    nan,    nan,    nan,    nan,    nan],\n",
       "        [4.6381,    nan,    nan,    nan,    nan,    nan,    nan],\n",
       "        [4.6697,    nan,    nan,    nan,    nan,    nan,    nan],\n",
       "        [   nan,    nan,    nan,    nan,    nan,    nan,    nan],\n",
       "        [   nan,    nan,    nan,    nan,    nan,    nan,    nan],\n",
       "        [   nan,    nan,    nan,    nan,    nan,    nan,    nan],\n",
       "        [   nan,    nan,    nan,    nan,    nan,    nan,    nan],\n",
       "        [   nan,    nan,    nan,    nan,    nan,    nan,    nan],\n",
       "        [   nan,    nan,    nan,    nan,    nan,    nan,    nan],\n",
       "        [   nan,    nan,    nan,    nan,    nan,    nan,    nan],\n",
       "        [   nan,    nan,    nan,    nan,    nan,    nan,    nan],\n",
       "        [   nan,    nan,    nan,    nan,    nan,    nan,    nan],\n",
       "        [   nan,    nan,    nan,    nan,    nan,    nan,    nan],\n",
       "        [   nan,    nan,    nan,    nan,    nan,    nan,    nan],\n",
       "        [   nan,    nan,    nan,    nan,    nan,    nan,    nan],\n",
       "        [   nan,    nan,    nan,    nan,    nan,    nan,    nan],\n",
       "        [   nan,    nan,    nan,    nan,    nan,    nan,    nan],\n",
       "        [   nan,    nan,    nan,    nan,    nan,    nan,    nan],\n",
       "        [   nan,    nan,    nan,    nan,    nan,    nan,    nan],\n",
       "        [   nan,    nan,    nan,    nan,    nan,    nan,    nan],\n",
       "        [   nan,    nan,    nan,    nan,    nan,    nan,    nan],\n",
       "        [   nan,    nan,    nan,    nan,    nan,    nan,    nan],\n",
       "        [   nan,    nan,    nan,    nan,    nan,    nan,    nan]],\n",
       "       dtype=torch.float64)"
      ]
     },
     "execution_count": null,
     "metadata": {},
     "output_type": "execute_result"
    }
   ],
   "source": [
    "inv_norm_hai(preds_r_m[0])"
   ]
  },
  {
   "cell_type": "code",
   "execution_count": null,
   "id": "f8a1c75c-0f95-4f4c-bb15-bed38a232ebe",
   "metadata": {},
   "outputs": [
    {
     "data": {
      "text/html": [
       "<p style='font-size: 1.5rem; font-decoration: bold'>Normals Df<p><div style=\"display: flex; column-gap: 20px; flex-wrap: wrap;\" class='table table-striped table-sm'> <div> <p style='font-size: 1.3rem;'>data</p> <style type=\"text/css\">\n",
       "</style>\n",
       "<table id=\"T_e4e1b\">\n",
       "  <thead>\n",
       "    <tr>\n",
       "      <th class=\"blank level0\" >&nbsp;</th>\n",
       "      <th id=\"T_e4e1b_level0_col0\" class=\"col_heading level0 col0\" >TA</th>\n",
       "      <th id=\"T_e4e1b_level0_col1\" class=\"col_heading level0 col1\" >SW_IN</th>\n",
       "      <th id=\"T_e4e1b_level0_col2\" class=\"col_heading level0 col2\" >VPD</th>\n",
       "      <th id=\"T_e4e1b_level0_col3\" class=\"col_heading level0 col3\" >PA</th>\n",
       "      <th id=\"T_e4e1b_level0_col4\" class=\"col_heading level0 col4\" >P</th>\n",
       "      <th id=\"T_e4e1b_level0_col5\" class=\"col_heading level0 col5\" >WS</th>\n",
       "      <th id=\"T_e4e1b_level0_col6\" class=\"col_heading level0 col6\" >LW_IN</th>\n",
       "    </tr>\n",
       "    <tr>\n",
       "      <th class=\"index_name level0\" >time</th>\n",
       "      <th class=\"blank col0\" >&nbsp;</th>\n",
       "      <th class=\"blank col1\" >&nbsp;</th>\n",
       "      <th class=\"blank col2\" >&nbsp;</th>\n",
       "      <th class=\"blank col3\" >&nbsp;</th>\n",
       "      <th class=\"blank col4\" >&nbsp;</th>\n",
       "      <th class=\"blank col5\" >&nbsp;</th>\n",
       "      <th class=\"blank col6\" >&nbsp;</th>\n",
       "    </tr>\n",
       "  </thead>\n",
       "  <tbody>\n",
       "    <tr>\n",
       "      <th id=\"T_e4e1b_level0_row0\" class=\"row_heading level0 row0\" >2012-11-19 14:30:00</th>\n",
       "      <td id=\"T_e4e1b_row0_col0\" class=\"data row0 col0\" >nan</td>\n",
       "      <td id=\"T_e4e1b_row0_col1\" class=\"data row0 col1\" >nan</td>\n",
       "      <td id=\"T_e4e1b_row0_col2\" class=\"data row0 col2\" >nan</td>\n",
       "      <td id=\"T_e4e1b_row0_col3\" class=\"data row0 col3\" >nan</td>\n",
       "      <td id=\"T_e4e1b_row0_col4\" class=\"data row0 col4\" >nan</td>\n",
       "      <td id=\"T_e4e1b_row0_col5\" class=\"data row0 col5\" >nan</td>\n",
       "      <td id=\"T_e4e1b_row0_col6\" class=\"data row0 col6\" >nan</td>\n",
       "    </tr>\n",
       "    <tr>\n",
       "      <th id=\"T_e4e1b_level0_row1\" class=\"row_heading level0 row1\" >2012-11-19 15:00:00</th>\n",
       "      <td id=\"T_e4e1b_row1_col0\" class=\"data row1 col0\" >nan</td>\n",
       "      <td id=\"T_e4e1b_row1_col1\" class=\"data row1 col1\" >nan</td>\n",
       "      <td id=\"T_e4e1b_row1_col2\" class=\"data row1 col2\" >nan</td>\n",
       "      <td id=\"T_e4e1b_row1_col3\" class=\"data row1 col3\" >nan</td>\n",
       "      <td id=\"T_e4e1b_row1_col4\" class=\"data row1 col4\" >nan</td>\n",
       "      <td id=\"T_e4e1b_row1_col5\" class=\"data row1 col5\" >nan</td>\n",
       "      <td id=\"T_e4e1b_row1_col6\" class=\"data row1 col6\" >nan</td>\n",
       "    </tr>\n",
       "    <tr>\n",
       "      <th id=\"T_e4e1b_level0_row2\" class=\"row_heading level0 row2\" >2012-11-19 15:30:00</th>\n",
       "      <td id=\"T_e4e1b_row2_col0\" class=\"data row2 col0\" >nan</td>\n",
       "      <td id=\"T_e4e1b_row2_col1\" class=\"data row2 col1\" >nan</td>\n",
       "      <td id=\"T_e4e1b_row2_col2\" class=\"data row2 col2\" >nan</td>\n",
       "      <td id=\"T_e4e1b_row2_col3\" class=\"data row2 col3\" >nan</td>\n",
       "      <td id=\"T_e4e1b_row2_col4\" class=\"data row2 col4\" >nan</td>\n",
       "      <td id=\"T_e4e1b_row2_col5\" class=\"data row2 col5\" >nan</td>\n",
       "      <td id=\"T_e4e1b_row2_col6\" class=\"data row2 col6\" >nan</td>\n",
       "    </tr>\n",
       "    <tr>\n",
       "      <th id=\"T_e4e1b_level0_row3\" class=\"row_heading level0 row3\" >2012-11-19 16:00:00</th>\n",
       "      <td id=\"T_e4e1b_row3_col0\" class=\"data row3 col0\" >nan</td>\n",
       "      <td id=\"T_e4e1b_row3_col1\" class=\"data row3 col1\" >nan</td>\n",
       "      <td id=\"T_e4e1b_row3_col2\" class=\"data row3 col2\" >nan</td>\n",
       "      <td id=\"T_e4e1b_row3_col3\" class=\"data row3 col3\" >nan</td>\n",
       "      <td id=\"T_e4e1b_row3_col4\" class=\"data row3 col4\" >nan</td>\n",
       "      <td id=\"T_e4e1b_row3_col5\" class=\"data row3 col5\" >nan</td>\n",
       "      <td id=\"T_e4e1b_row3_col6\" class=\"data row3 col6\" >nan</td>\n",
       "    </tr>\n",
       "    <tr>\n",
       "      <th id=\"T_e4e1b_level0_row4\" class=\"row_heading level0 row4\" >2012-11-19 16:30:00</th>\n",
       "      <td id=\"T_e4e1b_row4_col0\" class=\"data row4 col0\" >nan</td>\n",
       "      <td id=\"T_e4e1b_row4_col1\" class=\"data row4 col1\" >nan</td>\n",
       "      <td id=\"T_e4e1b_row4_col2\" class=\"data row4 col2\" >nan</td>\n",
       "      <td id=\"T_e4e1b_row4_col3\" class=\"data row4 col3\" >nan</td>\n",
       "      <td id=\"T_e4e1b_row4_col4\" class=\"data row4 col4\" >nan</td>\n",
       "      <td id=\"T_e4e1b_row4_col5\" class=\"data row4 col5\" >nan</td>\n",
       "      <td id=\"T_e4e1b_row4_col6\" class=\"data row4 col6\" >nan</td>\n",
       "    </tr>\n",
       "    <tr>\n",
       "      <th id=\"T_e4e1b_level0_row5\" class=\"row_heading level0 row5\" >2012-11-19 17:00:00</th>\n",
       "      <td id=\"T_e4e1b_row5_col0\" class=\"data row5 col0\" >nan</td>\n",
       "      <td id=\"T_e4e1b_row5_col1\" class=\"data row5 col1\" >nan</td>\n",
       "      <td id=\"T_e4e1b_row5_col2\" class=\"data row5 col2\" >nan</td>\n",
       "      <td id=\"T_e4e1b_row5_col3\" class=\"data row5 col3\" >nan</td>\n",
       "      <td id=\"T_e4e1b_row5_col4\" class=\"data row5 col4\" >nan</td>\n",
       "      <td id=\"T_e4e1b_row5_col5\" class=\"data row5 col5\" >nan</td>\n",
       "      <td id=\"T_e4e1b_row5_col6\" class=\"data row5 col6\" >nan</td>\n",
       "    </tr>\n",
       "    <tr>\n",
       "      <th id=\"T_e4e1b_level0_row6\" class=\"row_heading level0 row6\" >2012-11-19 17:30:00</th>\n",
       "      <td id=\"T_e4e1b_row6_col0\" class=\"data row6 col0\" >nan</td>\n",
       "      <td id=\"T_e4e1b_row6_col1\" class=\"data row6 col1\" >nan</td>\n",
       "      <td id=\"T_e4e1b_row6_col2\" class=\"data row6 col2\" >nan</td>\n",
       "      <td id=\"T_e4e1b_row6_col3\" class=\"data row6 col3\" >nan</td>\n",
       "      <td id=\"T_e4e1b_row6_col4\" class=\"data row6 col4\" >nan</td>\n",
       "      <td id=\"T_e4e1b_row6_col5\" class=\"data row6 col5\" >nan</td>\n",
       "      <td id=\"T_e4e1b_row6_col6\" class=\"data row6 col6\" >nan</td>\n",
       "    </tr>\n",
       "    <tr>\n",
       "      <th id=\"T_e4e1b_level0_row7\" class=\"row_heading level0 row7\" >2012-11-19 18:00:00</th>\n",
       "      <td id=\"T_e4e1b_row7_col0\" class=\"data row7 col0\" >nan</td>\n",
       "      <td id=\"T_e4e1b_row7_col1\" class=\"data row7 col1\" >nan</td>\n",
       "      <td id=\"T_e4e1b_row7_col2\" class=\"data row7 col2\" >nan</td>\n",
       "      <td id=\"T_e4e1b_row7_col3\" class=\"data row7 col3\" >nan</td>\n",
       "      <td id=\"T_e4e1b_row7_col4\" class=\"data row7 col4\" >nan</td>\n",
       "      <td id=\"T_e4e1b_row7_col5\" class=\"data row7 col5\" >nan</td>\n",
       "      <td id=\"T_e4e1b_row7_col6\" class=\"data row7 col6\" >nan</td>\n",
       "    </tr>\n",
       "    <tr>\n",
       "      <th id=\"T_e4e1b_level0_row8\" class=\"row_heading level0 row8\" >2012-11-19 18:30:00</th>\n",
       "      <td id=\"T_e4e1b_row8_col0\" class=\"data row8 col0\" >nan</td>\n",
       "      <td id=\"T_e4e1b_row8_col1\" class=\"data row8 col1\" >nan</td>\n",
       "      <td id=\"T_e4e1b_row8_col2\" class=\"data row8 col2\" >nan</td>\n",
       "      <td id=\"T_e4e1b_row8_col3\" class=\"data row8 col3\" >nan</td>\n",
       "      <td id=\"T_e4e1b_row8_col4\" class=\"data row8 col4\" >nan</td>\n",
       "      <td id=\"T_e4e1b_row8_col5\" class=\"data row8 col5\" >nan</td>\n",
       "      <td id=\"T_e4e1b_row8_col6\" class=\"data row8 col6\" >nan</td>\n",
       "    </tr>\n",
       "    <tr>\n",
       "      <th id=\"T_e4e1b_level0_row9\" class=\"row_heading level0 row9\" >2012-11-19 19:00:00</th>\n",
       "      <td id=\"T_e4e1b_row9_col0\" class=\"data row9 col0\" >nan</td>\n",
       "      <td id=\"T_e4e1b_row9_col1\" class=\"data row9 col1\" >nan</td>\n",
       "      <td id=\"T_e4e1b_row9_col2\" class=\"data row9 col2\" >nan</td>\n",
       "      <td id=\"T_e4e1b_row9_col3\" class=\"data row9 col3\" >nan</td>\n",
       "      <td id=\"T_e4e1b_row9_col4\" class=\"data row9 col4\" >nan</td>\n",
       "      <td id=\"T_e4e1b_row9_col5\" class=\"data row9 col5\" >nan</td>\n",
       "      <td id=\"T_e4e1b_row9_col6\" class=\"data row9 col6\" >nan</td>\n",
       "    </tr>\n",
       "    <tr>\n",
       "      <th id=\"T_e4e1b_level0_row10\" class=\"row_heading level0 row10\" >2012-11-19 19:30:00</th>\n",
       "      <td id=\"T_e4e1b_row10_col0\" class=\"data row10 col0\" >nan</td>\n",
       "      <td id=\"T_e4e1b_row10_col1\" class=\"data row10 col1\" >nan</td>\n",
       "      <td id=\"T_e4e1b_row10_col2\" class=\"data row10 col2\" >nan</td>\n",
       "      <td id=\"T_e4e1b_row10_col3\" class=\"data row10 col3\" >nan</td>\n",
       "      <td id=\"T_e4e1b_row10_col4\" class=\"data row10 col4\" >nan</td>\n",
       "      <td id=\"T_e4e1b_row10_col5\" class=\"data row10 col5\" >nan</td>\n",
       "      <td id=\"T_e4e1b_row10_col6\" class=\"data row10 col6\" >nan</td>\n",
       "    </tr>\n",
       "    <tr>\n",
       "      <th id=\"T_e4e1b_level0_row11\" class=\"row_heading level0 row11\" >2012-11-19 20:00:00</th>\n",
       "      <td id=\"T_e4e1b_row11_col0\" class=\"data row11 col0\" >nan</td>\n",
       "      <td id=\"T_e4e1b_row11_col1\" class=\"data row11 col1\" >nan</td>\n",
       "      <td id=\"T_e4e1b_row11_col2\" class=\"data row11 col2\" >nan</td>\n",
       "      <td id=\"T_e4e1b_row11_col3\" class=\"data row11 col3\" >nan</td>\n",
       "      <td id=\"T_e4e1b_row11_col4\" class=\"data row11 col4\" >nan</td>\n",
       "      <td id=\"T_e4e1b_row11_col5\" class=\"data row11 col5\" >nan</td>\n",
       "      <td id=\"T_e4e1b_row11_col6\" class=\"data row11 col6\" >nan</td>\n",
       "    </tr>\n",
       "    <tr>\n",
       "      <th id=\"T_e4e1b_level0_row12\" class=\"row_heading level0 row12\" >2012-11-19 20:30:00</th>\n",
       "      <td id=\"T_e4e1b_row12_col0\" class=\"data row12 col0\" >nan</td>\n",
       "      <td id=\"T_e4e1b_row12_col1\" class=\"data row12 col1\" >nan</td>\n",
       "      <td id=\"T_e4e1b_row12_col2\" class=\"data row12 col2\" >nan</td>\n",
       "      <td id=\"T_e4e1b_row12_col3\" class=\"data row12 col3\" >nan</td>\n",
       "      <td id=\"T_e4e1b_row12_col4\" class=\"data row12 col4\" >nan</td>\n",
       "      <td id=\"T_e4e1b_row12_col5\" class=\"data row12 col5\" >nan</td>\n",
       "      <td id=\"T_e4e1b_row12_col6\" class=\"data row12 col6\" >nan</td>\n",
       "    </tr>\n",
       "    <tr>\n",
       "      <th id=\"T_e4e1b_level0_row13\" class=\"row_heading level0 row13\" >2012-11-19 21:00:00</th>\n",
       "      <td id=\"T_e4e1b_row13_col0\" class=\"data row13 col0\" >nan</td>\n",
       "      <td id=\"T_e4e1b_row13_col1\" class=\"data row13 col1\" >nan</td>\n",
       "      <td id=\"T_e4e1b_row13_col2\" class=\"data row13 col2\" >nan</td>\n",
       "      <td id=\"T_e4e1b_row13_col3\" class=\"data row13 col3\" >nan</td>\n",
       "      <td id=\"T_e4e1b_row13_col4\" class=\"data row13 col4\" >nan</td>\n",
       "      <td id=\"T_e4e1b_row13_col5\" class=\"data row13 col5\" >nan</td>\n",
       "      <td id=\"T_e4e1b_row13_col6\" class=\"data row13 col6\" >nan</td>\n",
       "    </tr>\n",
       "    <tr>\n",
       "      <th id=\"T_e4e1b_level0_row14\" class=\"row_heading level0 row14\" >2012-11-19 21:30:00</th>\n",
       "      <td id=\"T_e4e1b_row14_col0\" class=\"data row14 col0\" >nan</td>\n",
       "      <td id=\"T_e4e1b_row14_col1\" class=\"data row14 col1\" >nan</td>\n",
       "      <td id=\"T_e4e1b_row14_col2\" class=\"data row14 col2\" >nan</td>\n",
       "      <td id=\"T_e4e1b_row14_col3\" class=\"data row14 col3\" >nan</td>\n",
       "      <td id=\"T_e4e1b_row14_col4\" class=\"data row14 col4\" >nan</td>\n",
       "      <td id=\"T_e4e1b_row14_col5\" class=\"data row14 col5\" >nan</td>\n",
       "      <td id=\"T_e4e1b_row14_col6\" class=\"data row14 col6\" >nan</td>\n",
       "    </tr>\n",
       "    <tr>\n",
       "      <th id=\"T_e4e1b_level0_row15\" class=\"row_heading level0 row15\" >2012-11-19 22:00:00</th>\n",
       "      <td id=\"T_e4e1b_row15_col0\" class=\"data row15 col0\" >nan</td>\n",
       "      <td id=\"T_e4e1b_row15_col1\" class=\"data row15 col1\" >nan</td>\n",
       "      <td id=\"T_e4e1b_row15_col2\" class=\"data row15 col2\" >nan</td>\n",
       "      <td id=\"T_e4e1b_row15_col3\" class=\"data row15 col3\" >nan</td>\n",
       "      <td id=\"T_e4e1b_row15_col4\" class=\"data row15 col4\" >nan</td>\n",
       "      <td id=\"T_e4e1b_row15_col5\" class=\"data row15 col5\" >nan</td>\n",
       "      <td id=\"T_e4e1b_row15_col6\" class=\"data row15 col6\" >nan</td>\n",
       "    </tr>\n",
       "    <tr>\n",
       "      <th id=\"T_e4e1b_level0_row16\" class=\"row_heading level0 row16\" >2012-11-19 22:30:00</th>\n",
       "      <td id=\"T_e4e1b_row16_col0\" class=\"data row16 col0\" >nan</td>\n",
       "      <td id=\"T_e4e1b_row16_col1\" class=\"data row16 col1\" >nan</td>\n",
       "      <td id=\"T_e4e1b_row16_col2\" class=\"data row16 col2\" >nan</td>\n",
       "      <td id=\"T_e4e1b_row16_col3\" class=\"data row16 col3\" >nan</td>\n",
       "      <td id=\"T_e4e1b_row16_col4\" class=\"data row16 col4\" >nan</td>\n",
       "      <td id=\"T_e4e1b_row16_col5\" class=\"data row16 col5\" >nan</td>\n",
       "      <td id=\"T_e4e1b_row16_col6\" class=\"data row16 col6\" >nan</td>\n",
       "    </tr>\n",
       "    <tr>\n",
       "      <th id=\"T_e4e1b_level0_row17\" class=\"row_heading level0 row17\" >2012-11-19 23:00:00</th>\n",
       "      <td id=\"T_e4e1b_row17_col0\" class=\"data row17 col0\" >nan</td>\n",
       "      <td id=\"T_e4e1b_row17_col1\" class=\"data row17 col1\" >nan</td>\n",
       "      <td id=\"T_e4e1b_row17_col2\" class=\"data row17 col2\" >nan</td>\n",
       "      <td id=\"T_e4e1b_row17_col3\" class=\"data row17 col3\" >nan</td>\n",
       "      <td id=\"T_e4e1b_row17_col4\" class=\"data row17 col4\" >nan</td>\n",
       "      <td id=\"T_e4e1b_row17_col5\" class=\"data row17 col5\" >nan</td>\n",
       "      <td id=\"T_e4e1b_row17_col6\" class=\"data row17 col6\" >nan</td>\n",
       "    </tr>\n",
       "    <tr>\n",
       "      <th id=\"T_e4e1b_level0_row18\" class=\"row_heading level0 row18\" >2012-11-19 23:30:00</th>\n",
       "      <td id=\"T_e4e1b_row18_col0\" class=\"data row18 col0\" >nan</td>\n",
       "      <td id=\"T_e4e1b_row18_col1\" class=\"data row18 col1\" >nan</td>\n",
       "      <td id=\"T_e4e1b_row18_col2\" class=\"data row18 col2\" >nan</td>\n",
       "      <td id=\"T_e4e1b_row18_col3\" class=\"data row18 col3\" >nan</td>\n",
       "      <td id=\"T_e4e1b_row18_col4\" class=\"data row18 col4\" >nan</td>\n",
       "      <td id=\"T_e4e1b_row18_col5\" class=\"data row18 col5\" >nan</td>\n",
       "      <td id=\"T_e4e1b_row18_col6\" class=\"data row18 col6\" >nan</td>\n",
       "    </tr>\n",
       "    <tr>\n",
       "      <th id=\"T_e4e1b_level0_row19\" class=\"row_heading level0 row19\" >2012-11-20 00:00:00</th>\n",
       "      <td id=\"T_e4e1b_row19_col0\" class=\"data row19 col0\" >nan</td>\n",
       "      <td id=\"T_e4e1b_row19_col1\" class=\"data row19 col1\" >nan</td>\n",
       "      <td id=\"T_e4e1b_row19_col2\" class=\"data row19 col2\" >nan</td>\n",
       "      <td id=\"T_e4e1b_row19_col3\" class=\"data row19 col3\" >nan</td>\n",
       "      <td id=\"T_e4e1b_row19_col4\" class=\"data row19 col4\" >nan</td>\n",
       "      <td id=\"T_e4e1b_row19_col5\" class=\"data row19 col5\" >nan</td>\n",
       "      <td id=\"T_e4e1b_row19_col6\" class=\"data row19 col6\" >nan</td>\n",
       "    </tr>\n",
       "    <tr>\n",
       "      <th id=\"T_e4e1b_level0_row20\" class=\"row_heading level0 row20\" >2012-11-20 00:30:00</th>\n",
       "      <td id=\"T_e4e1b_row20_col0\" class=\"data row20 col0\" >nan</td>\n",
       "      <td id=\"T_e4e1b_row20_col1\" class=\"data row20 col1\" >nan</td>\n",
       "      <td id=\"T_e4e1b_row20_col2\" class=\"data row20 col2\" >nan</td>\n",
       "      <td id=\"T_e4e1b_row20_col3\" class=\"data row20 col3\" >nan</td>\n",
       "      <td id=\"T_e4e1b_row20_col4\" class=\"data row20 col4\" >nan</td>\n",
       "      <td id=\"T_e4e1b_row20_col5\" class=\"data row20 col5\" >nan</td>\n",
       "      <td id=\"T_e4e1b_row20_col6\" class=\"data row20 col6\" >nan</td>\n",
       "    </tr>\n",
       "    <tr>\n",
       "      <th id=\"T_e4e1b_level0_row21\" class=\"row_heading level0 row21\" >2012-11-20 01:00:00</th>\n",
       "      <td id=\"T_e4e1b_row21_col0\" class=\"data row21 col0\" >nan</td>\n",
       "      <td id=\"T_e4e1b_row21_col1\" class=\"data row21 col1\" >nan</td>\n",
       "      <td id=\"T_e4e1b_row21_col2\" class=\"data row21 col2\" >nan</td>\n",
       "      <td id=\"T_e4e1b_row21_col3\" class=\"data row21 col3\" >nan</td>\n",
       "      <td id=\"T_e4e1b_row21_col4\" class=\"data row21 col4\" >nan</td>\n",
       "      <td id=\"T_e4e1b_row21_col5\" class=\"data row21 col5\" >nan</td>\n",
       "      <td id=\"T_e4e1b_row21_col6\" class=\"data row21 col6\" >nan</td>\n",
       "    </tr>\n",
       "    <tr>\n",
       "      <th id=\"T_e4e1b_level0_row22\" class=\"row_heading level0 row22\" >2012-11-20 01:30:00</th>\n",
       "      <td id=\"T_e4e1b_row22_col0\" class=\"data row22 col0\" >nan</td>\n",
       "      <td id=\"T_e4e1b_row22_col1\" class=\"data row22 col1\" >nan</td>\n",
       "      <td id=\"T_e4e1b_row22_col2\" class=\"data row22 col2\" >nan</td>\n",
       "      <td id=\"T_e4e1b_row22_col3\" class=\"data row22 col3\" >nan</td>\n",
       "      <td id=\"T_e4e1b_row22_col4\" class=\"data row22 col4\" >nan</td>\n",
       "      <td id=\"T_e4e1b_row22_col5\" class=\"data row22 col5\" >nan</td>\n",
       "      <td id=\"T_e4e1b_row22_col6\" class=\"data row22 col6\" >nan</td>\n",
       "    </tr>\n",
       "    <tr>\n",
       "      <th id=\"T_e4e1b_level0_row23\" class=\"row_heading level0 row23\" >2012-11-20 02:00:00</th>\n",
       "      <td id=\"T_e4e1b_row23_col0\" class=\"data row23 col0\" >nan</td>\n",
       "      <td id=\"T_e4e1b_row23_col1\" class=\"data row23 col1\" >nan</td>\n",
       "      <td id=\"T_e4e1b_row23_col2\" class=\"data row23 col2\" >nan</td>\n",
       "      <td id=\"T_e4e1b_row23_col3\" class=\"data row23 col3\" >nan</td>\n",
       "      <td id=\"T_e4e1b_row23_col4\" class=\"data row23 col4\" >nan</td>\n",
       "      <td id=\"T_e4e1b_row23_col5\" class=\"data row23 col5\" >nan</td>\n",
       "      <td id=\"T_e4e1b_row23_col6\" class=\"data row23 col6\" >nan</td>\n",
       "    </tr>\n",
       "    <tr>\n",
       "      <th id=\"T_e4e1b_level0_row24\" class=\"row_heading level0 row24\" >2012-11-20 02:30:00</th>\n",
       "      <td id=\"T_e4e1b_row24_col0\" class=\"data row24 col0\" >nan</td>\n",
       "      <td id=\"T_e4e1b_row24_col1\" class=\"data row24 col1\" >nan</td>\n",
       "      <td id=\"T_e4e1b_row24_col2\" class=\"data row24 col2\" >nan</td>\n",
       "      <td id=\"T_e4e1b_row24_col3\" class=\"data row24 col3\" >nan</td>\n",
       "      <td id=\"T_e4e1b_row24_col4\" class=\"data row24 col4\" >nan</td>\n",
       "      <td id=\"T_e4e1b_row24_col5\" class=\"data row24 col5\" >nan</td>\n",
       "      <td id=\"T_e4e1b_row24_col6\" class=\"data row24 col6\" >nan</td>\n",
       "    </tr>\n",
       "    <tr>\n",
       "      <th id=\"T_e4e1b_level0_row25\" class=\"row_heading level0 row25\" >2012-11-20 03:00:00</th>\n",
       "      <td id=\"T_e4e1b_row25_col0\" class=\"data row25 col0\" >3.7670</td>\n",
       "      <td id=\"T_e4e1b_row25_col1\" class=\"data row25 col1\" >nan</td>\n",
       "      <td id=\"T_e4e1b_row25_col2\" class=\"data row25 col2\" >nan</td>\n",
       "      <td id=\"T_e4e1b_row25_col3\" class=\"data row25 col3\" >nan</td>\n",
       "      <td id=\"T_e4e1b_row25_col4\" class=\"data row25 col4\" >nan</td>\n",
       "      <td id=\"T_e4e1b_row25_col5\" class=\"data row25 col5\" >nan</td>\n",
       "      <td id=\"T_e4e1b_row25_col6\" class=\"data row25 col6\" >nan</td>\n",
       "    </tr>\n",
       "    <tr>\n",
       "      <th id=\"T_e4e1b_level0_row26\" class=\"row_heading level0 row26\" >2012-11-20 03:30:00</th>\n",
       "      <td id=\"T_e4e1b_row26_col0\" class=\"data row26 col0\" >4.3835</td>\n",
       "      <td id=\"T_e4e1b_row26_col1\" class=\"data row26 col1\" >nan</td>\n",
       "      <td id=\"T_e4e1b_row26_col2\" class=\"data row26 col2\" >nan</td>\n",
       "      <td id=\"T_e4e1b_row26_col3\" class=\"data row26 col3\" >nan</td>\n",
       "      <td id=\"T_e4e1b_row26_col4\" class=\"data row26 col4\" >nan</td>\n",
       "      <td id=\"T_e4e1b_row26_col5\" class=\"data row26 col5\" >nan</td>\n",
       "      <td id=\"T_e4e1b_row26_col6\" class=\"data row26 col6\" >nan</td>\n",
       "    </tr>\n",
       "    <tr>\n",
       "      <th id=\"T_e4e1b_level0_row27\" class=\"row_heading level0 row27\" >2012-11-20 04:00:00</th>\n",
       "      <td id=\"T_e4e1b_row27_col0\" class=\"data row27 col0\" >4.8878</td>\n",
       "      <td id=\"T_e4e1b_row27_col1\" class=\"data row27 col1\" >nan</td>\n",
       "      <td id=\"T_e4e1b_row27_col2\" class=\"data row27 col2\" >nan</td>\n",
       "      <td id=\"T_e4e1b_row27_col3\" class=\"data row27 col3\" >nan</td>\n",
       "      <td id=\"T_e4e1b_row27_col4\" class=\"data row27 col4\" >nan</td>\n",
       "      <td id=\"T_e4e1b_row27_col5\" class=\"data row27 col5\" >nan</td>\n",
       "      <td id=\"T_e4e1b_row27_col6\" class=\"data row27 col6\" >nan</td>\n",
       "    </tr>\n",
       "    <tr>\n",
       "      <th id=\"T_e4e1b_level0_row28\" class=\"row_heading level0 row28\" >2012-11-20 04:30:00</th>\n",
       "      <td id=\"T_e4e1b_row28_col0\" class=\"data row28 col0\" >5.2246</td>\n",
       "      <td id=\"T_e4e1b_row28_col1\" class=\"data row28 col1\" >nan</td>\n",
       "      <td id=\"T_e4e1b_row28_col2\" class=\"data row28 col2\" >nan</td>\n",
       "      <td id=\"T_e4e1b_row28_col3\" class=\"data row28 col3\" >nan</td>\n",
       "      <td id=\"T_e4e1b_row28_col4\" class=\"data row28 col4\" >nan</td>\n",
       "      <td id=\"T_e4e1b_row28_col5\" class=\"data row28 col5\" >nan</td>\n",
       "      <td id=\"T_e4e1b_row28_col6\" class=\"data row28 col6\" >nan</td>\n",
       "    </tr>\n",
       "    <tr>\n",
       "      <th id=\"T_e4e1b_level0_row29\" class=\"row_heading level0 row29\" >2012-11-20 05:00:00</th>\n",
       "      <td id=\"T_e4e1b_row29_col0\" class=\"data row29 col0\" >5.1705</td>\n",
       "      <td id=\"T_e4e1b_row29_col1\" class=\"data row29 col1\" >nan</td>\n",
       "      <td id=\"T_e4e1b_row29_col2\" class=\"data row29 col2\" >nan</td>\n",
       "      <td id=\"T_e4e1b_row29_col3\" class=\"data row29 col3\" >nan</td>\n",
       "      <td id=\"T_e4e1b_row29_col4\" class=\"data row29 col4\" >nan</td>\n",
       "      <td id=\"T_e4e1b_row29_col5\" class=\"data row29 col5\" >nan</td>\n",
       "      <td id=\"T_e4e1b_row29_col6\" class=\"data row29 col6\" >nan</td>\n",
       "    </tr>\n",
       "    <tr>\n",
       "      <th id=\"T_e4e1b_level0_row30\" class=\"row_heading level0 row30\" >2012-11-20 05:30:00</th>\n",
       "      <td id=\"T_e4e1b_row30_col0\" class=\"data row30 col0\" >nan</td>\n",
       "      <td id=\"T_e4e1b_row30_col1\" class=\"data row30 col1\" >nan</td>\n",
       "      <td id=\"T_e4e1b_row30_col2\" class=\"data row30 col2\" >nan</td>\n",
       "      <td id=\"T_e4e1b_row30_col3\" class=\"data row30 col3\" >nan</td>\n",
       "      <td id=\"T_e4e1b_row30_col4\" class=\"data row30 col4\" >nan</td>\n",
       "      <td id=\"T_e4e1b_row30_col5\" class=\"data row30 col5\" >nan</td>\n",
       "      <td id=\"T_e4e1b_row30_col6\" class=\"data row30 col6\" >nan</td>\n",
       "    </tr>\n",
       "    <tr>\n",
       "      <th id=\"T_e4e1b_level0_row31\" class=\"row_heading level0 row31\" >2012-11-20 06:00:00</th>\n",
       "      <td id=\"T_e4e1b_row31_col0\" class=\"data row31 col0\" >nan</td>\n",
       "      <td id=\"T_e4e1b_row31_col1\" class=\"data row31 col1\" >nan</td>\n",
       "      <td id=\"T_e4e1b_row31_col2\" class=\"data row31 col2\" >nan</td>\n",
       "      <td id=\"T_e4e1b_row31_col3\" class=\"data row31 col3\" >nan</td>\n",
       "      <td id=\"T_e4e1b_row31_col4\" class=\"data row31 col4\" >nan</td>\n",
       "      <td id=\"T_e4e1b_row31_col5\" class=\"data row31 col5\" >nan</td>\n",
       "      <td id=\"T_e4e1b_row31_col6\" class=\"data row31 col6\" >nan</td>\n",
       "    </tr>\n",
       "    <tr>\n",
       "      <th id=\"T_e4e1b_level0_row32\" class=\"row_heading level0 row32\" >2012-11-20 06:30:00</th>\n",
       "      <td id=\"T_e4e1b_row32_col0\" class=\"data row32 col0\" >nan</td>\n",
       "      <td id=\"T_e4e1b_row32_col1\" class=\"data row32 col1\" >nan</td>\n",
       "      <td id=\"T_e4e1b_row32_col2\" class=\"data row32 col2\" >nan</td>\n",
       "      <td id=\"T_e4e1b_row32_col3\" class=\"data row32 col3\" >nan</td>\n",
       "      <td id=\"T_e4e1b_row32_col4\" class=\"data row32 col4\" >nan</td>\n",
       "      <td id=\"T_e4e1b_row32_col5\" class=\"data row32 col5\" >nan</td>\n",
       "      <td id=\"T_e4e1b_row32_col6\" class=\"data row32 col6\" >nan</td>\n",
       "    </tr>\n",
       "    <tr>\n",
       "      <th id=\"T_e4e1b_level0_row33\" class=\"row_heading level0 row33\" >2012-11-20 07:00:00</th>\n",
       "      <td id=\"T_e4e1b_row33_col0\" class=\"data row33 col0\" >nan</td>\n",
       "      <td id=\"T_e4e1b_row33_col1\" class=\"data row33 col1\" >nan</td>\n",
       "      <td id=\"T_e4e1b_row33_col2\" class=\"data row33 col2\" >nan</td>\n",
       "      <td id=\"T_e4e1b_row33_col3\" class=\"data row33 col3\" >nan</td>\n",
       "      <td id=\"T_e4e1b_row33_col4\" class=\"data row33 col4\" >nan</td>\n",
       "      <td id=\"T_e4e1b_row33_col5\" class=\"data row33 col5\" >nan</td>\n",
       "      <td id=\"T_e4e1b_row33_col6\" class=\"data row33 col6\" >nan</td>\n",
       "    </tr>\n",
       "    <tr>\n",
       "      <th id=\"T_e4e1b_level0_row34\" class=\"row_heading level0 row34\" >2012-11-20 07:30:00</th>\n",
       "      <td id=\"T_e4e1b_row34_col0\" class=\"data row34 col0\" >nan</td>\n",
       "      <td id=\"T_e4e1b_row34_col1\" class=\"data row34 col1\" >nan</td>\n",
       "      <td id=\"T_e4e1b_row34_col2\" class=\"data row34 col2\" >nan</td>\n",
       "      <td id=\"T_e4e1b_row34_col3\" class=\"data row34 col3\" >nan</td>\n",
       "      <td id=\"T_e4e1b_row34_col4\" class=\"data row34 col4\" >nan</td>\n",
       "      <td id=\"T_e4e1b_row34_col5\" class=\"data row34 col5\" >nan</td>\n",
       "      <td id=\"T_e4e1b_row34_col6\" class=\"data row34 col6\" >nan</td>\n",
       "    </tr>\n",
       "    <tr>\n",
       "      <th id=\"T_e4e1b_level0_row35\" class=\"row_heading level0 row35\" >2012-11-20 08:00:00</th>\n",
       "      <td id=\"T_e4e1b_row35_col0\" class=\"data row35 col0\" >nan</td>\n",
       "      <td id=\"T_e4e1b_row35_col1\" class=\"data row35 col1\" >nan</td>\n",
       "      <td id=\"T_e4e1b_row35_col2\" class=\"data row35 col2\" >nan</td>\n",
       "      <td id=\"T_e4e1b_row35_col3\" class=\"data row35 col3\" >nan</td>\n",
       "      <td id=\"T_e4e1b_row35_col4\" class=\"data row35 col4\" >nan</td>\n",
       "      <td id=\"T_e4e1b_row35_col5\" class=\"data row35 col5\" >nan</td>\n",
       "      <td id=\"T_e4e1b_row35_col6\" class=\"data row35 col6\" >nan</td>\n",
       "    </tr>\n",
       "    <tr>\n",
       "      <th id=\"T_e4e1b_level0_row36\" class=\"row_heading level0 row36\" >2012-11-20 08:30:00</th>\n",
       "      <td id=\"T_e4e1b_row36_col0\" class=\"data row36 col0\" >nan</td>\n",
       "      <td id=\"T_e4e1b_row36_col1\" class=\"data row36 col1\" >nan</td>\n",
       "      <td id=\"T_e4e1b_row36_col2\" class=\"data row36 col2\" >nan</td>\n",
       "      <td id=\"T_e4e1b_row36_col3\" class=\"data row36 col3\" >nan</td>\n",
       "      <td id=\"T_e4e1b_row36_col4\" class=\"data row36 col4\" >nan</td>\n",
       "      <td id=\"T_e4e1b_row36_col5\" class=\"data row36 col5\" >nan</td>\n",
       "      <td id=\"T_e4e1b_row36_col6\" class=\"data row36 col6\" >nan</td>\n",
       "    </tr>\n",
       "    <tr>\n",
       "      <th id=\"T_e4e1b_level0_row37\" class=\"row_heading level0 row37\" >2012-11-20 09:00:00</th>\n",
       "      <td id=\"T_e4e1b_row37_col0\" class=\"data row37 col0\" >nan</td>\n",
       "      <td id=\"T_e4e1b_row37_col1\" class=\"data row37 col1\" >nan</td>\n",
       "      <td id=\"T_e4e1b_row37_col2\" class=\"data row37 col2\" >nan</td>\n",
       "      <td id=\"T_e4e1b_row37_col3\" class=\"data row37 col3\" >nan</td>\n",
       "      <td id=\"T_e4e1b_row37_col4\" class=\"data row37 col4\" >nan</td>\n",
       "      <td id=\"T_e4e1b_row37_col5\" class=\"data row37 col5\" >nan</td>\n",
       "      <td id=\"T_e4e1b_row37_col6\" class=\"data row37 col6\" >nan</td>\n",
       "    </tr>\n",
       "    <tr>\n",
       "      <th id=\"T_e4e1b_level0_row38\" class=\"row_heading level0 row38\" >2012-11-20 09:30:00</th>\n",
       "      <td id=\"T_e4e1b_row38_col0\" class=\"data row38 col0\" >nan</td>\n",
       "      <td id=\"T_e4e1b_row38_col1\" class=\"data row38 col1\" >nan</td>\n",
       "      <td id=\"T_e4e1b_row38_col2\" class=\"data row38 col2\" >nan</td>\n",
       "      <td id=\"T_e4e1b_row38_col3\" class=\"data row38 col3\" >nan</td>\n",
       "      <td id=\"T_e4e1b_row38_col4\" class=\"data row38 col4\" >nan</td>\n",
       "      <td id=\"T_e4e1b_row38_col5\" class=\"data row38 col5\" >nan</td>\n",
       "      <td id=\"T_e4e1b_row38_col6\" class=\"data row38 col6\" >nan</td>\n",
       "    </tr>\n",
       "    <tr>\n",
       "      <th id=\"T_e4e1b_level0_row39\" class=\"row_heading level0 row39\" >2012-11-20 10:00:00</th>\n",
       "      <td id=\"T_e4e1b_row39_col0\" class=\"data row39 col0\" >nan</td>\n",
       "      <td id=\"T_e4e1b_row39_col1\" class=\"data row39 col1\" >nan</td>\n",
       "      <td id=\"T_e4e1b_row39_col2\" class=\"data row39 col2\" >nan</td>\n",
       "      <td id=\"T_e4e1b_row39_col3\" class=\"data row39 col3\" >nan</td>\n",
       "      <td id=\"T_e4e1b_row39_col4\" class=\"data row39 col4\" >nan</td>\n",
       "      <td id=\"T_e4e1b_row39_col5\" class=\"data row39 col5\" >nan</td>\n",
       "      <td id=\"T_e4e1b_row39_col6\" class=\"data row39 col6\" >nan</td>\n",
       "    </tr>\n",
       "    <tr>\n",
       "      <th id=\"T_e4e1b_level0_row40\" class=\"row_heading level0 row40\" >2012-11-20 10:30:00</th>\n",
       "      <td id=\"T_e4e1b_row40_col0\" class=\"data row40 col0\" >nan</td>\n",
       "      <td id=\"T_e4e1b_row40_col1\" class=\"data row40 col1\" >nan</td>\n",
       "      <td id=\"T_e4e1b_row40_col2\" class=\"data row40 col2\" >nan</td>\n",
       "      <td id=\"T_e4e1b_row40_col3\" class=\"data row40 col3\" >nan</td>\n",
       "      <td id=\"T_e4e1b_row40_col4\" class=\"data row40 col4\" >nan</td>\n",
       "      <td id=\"T_e4e1b_row40_col5\" class=\"data row40 col5\" >nan</td>\n",
       "      <td id=\"T_e4e1b_row40_col6\" class=\"data row40 col6\" >nan</td>\n",
       "    </tr>\n",
       "    <tr>\n",
       "      <th id=\"T_e4e1b_level0_row41\" class=\"row_heading level0 row41\" >2012-11-20 11:00:00</th>\n",
       "      <td id=\"T_e4e1b_row41_col0\" class=\"data row41 col0\" >nan</td>\n",
       "      <td id=\"T_e4e1b_row41_col1\" class=\"data row41 col1\" >nan</td>\n",
       "      <td id=\"T_e4e1b_row41_col2\" class=\"data row41 col2\" >nan</td>\n",
       "      <td id=\"T_e4e1b_row41_col3\" class=\"data row41 col3\" >nan</td>\n",
       "      <td id=\"T_e4e1b_row41_col4\" class=\"data row41 col4\" >nan</td>\n",
       "      <td id=\"T_e4e1b_row41_col5\" class=\"data row41 col5\" >nan</td>\n",
       "      <td id=\"T_e4e1b_row41_col6\" class=\"data row41 col6\" >nan</td>\n",
       "    </tr>\n",
       "    <tr>\n",
       "      <th id=\"T_e4e1b_level0_row42\" class=\"row_heading level0 row42\" >2012-11-20 11:30:00</th>\n",
       "      <td id=\"T_e4e1b_row42_col0\" class=\"data row42 col0\" >nan</td>\n",
       "      <td id=\"T_e4e1b_row42_col1\" class=\"data row42 col1\" >nan</td>\n",
       "      <td id=\"T_e4e1b_row42_col2\" class=\"data row42 col2\" >nan</td>\n",
       "      <td id=\"T_e4e1b_row42_col3\" class=\"data row42 col3\" >nan</td>\n",
       "      <td id=\"T_e4e1b_row42_col4\" class=\"data row42 col4\" >nan</td>\n",
       "      <td id=\"T_e4e1b_row42_col5\" class=\"data row42 col5\" >nan</td>\n",
       "      <td id=\"T_e4e1b_row42_col6\" class=\"data row42 col6\" >nan</td>\n",
       "    </tr>\n",
       "    <tr>\n",
       "      <th id=\"T_e4e1b_level0_row43\" class=\"row_heading level0 row43\" >2012-11-20 12:00:00</th>\n",
       "      <td id=\"T_e4e1b_row43_col0\" class=\"data row43 col0\" >nan</td>\n",
       "      <td id=\"T_e4e1b_row43_col1\" class=\"data row43 col1\" >nan</td>\n",
       "      <td id=\"T_e4e1b_row43_col2\" class=\"data row43 col2\" >nan</td>\n",
       "      <td id=\"T_e4e1b_row43_col3\" class=\"data row43 col3\" >nan</td>\n",
       "      <td id=\"T_e4e1b_row43_col4\" class=\"data row43 col4\" >nan</td>\n",
       "      <td id=\"T_e4e1b_row43_col5\" class=\"data row43 col5\" >nan</td>\n",
       "      <td id=\"T_e4e1b_row43_col6\" class=\"data row43 col6\" >nan</td>\n",
       "    </tr>\n",
       "    <tr>\n",
       "      <th id=\"T_e4e1b_level0_row44\" class=\"row_heading level0 row44\" >2012-11-20 12:30:00</th>\n",
       "      <td id=\"T_e4e1b_row44_col0\" class=\"data row44 col0\" >nan</td>\n",
       "      <td id=\"T_e4e1b_row44_col1\" class=\"data row44 col1\" >nan</td>\n",
       "      <td id=\"T_e4e1b_row44_col2\" class=\"data row44 col2\" >nan</td>\n",
       "      <td id=\"T_e4e1b_row44_col3\" class=\"data row44 col3\" >nan</td>\n",
       "      <td id=\"T_e4e1b_row44_col4\" class=\"data row44 col4\" >nan</td>\n",
       "      <td id=\"T_e4e1b_row44_col5\" class=\"data row44 col5\" >nan</td>\n",
       "      <td id=\"T_e4e1b_row44_col6\" class=\"data row44 col6\" >nan</td>\n",
       "    </tr>\n",
       "    <tr>\n",
       "      <th id=\"T_e4e1b_level0_row45\" class=\"row_heading level0 row45\" >2012-11-20 13:00:00</th>\n",
       "      <td id=\"T_e4e1b_row45_col0\" class=\"data row45 col0\" >nan</td>\n",
       "      <td id=\"T_e4e1b_row45_col1\" class=\"data row45 col1\" >nan</td>\n",
       "      <td id=\"T_e4e1b_row45_col2\" class=\"data row45 col2\" >nan</td>\n",
       "      <td id=\"T_e4e1b_row45_col3\" class=\"data row45 col3\" >nan</td>\n",
       "      <td id=\"T_e4e1b_row45_col4\" class=\"data row45 col4\" >nan</td>\n",
       "      <td id=\"T_e4e1b_row45_col5\" class=\"data row45 col5\" >nan</td>\n",
       "      <td id=\"T_e4e1b_row45_col6\" class=\"data row45 col6\" >nan</td>\n",
       "    </tr>\n",
       "    <tr>\n",
       "      <th id=\"T_e4e1b_level0_row46\" class=\"row_heading level0 row46\" >2012-11-20 13:30:00</th>\n",
       "      <td id=\"T_e4e1b_row46_col0\" class=\"data row46 col0\" >nan</td>\n",
       "      <td id=\"T_e4e1b_row46_col1\" class=\"data row46 col1\" >nan</td>\n",
       "      <td id=\"T_e4e1b_row46_col2\" class=\"data row46 col2\" >nan</td>\n",
       "      <td id=\"T_e4e1b_row46_col3\" class=\"data row46 col3\" >nan</td>\n",
       "      <td id=\"T_e4e1b_row46_col4\" class=\"data row46 col4\" >nan</td>\n",
       "      <td id=\"T_e4e1b_row46_col5\" class=\"data row46 col5\" >nan</td>\n",
       "      <td id=\"T_e4e1b_row46_col6\" class=\"data row46 col6\" >nan</td>\n",
       "    </tr>\n",
       "    <tr>\n",
       "      <th id=\"T_e4e1b_level0_row47\" class=\"row_heading level0 row47\" >2012-11-20 14:00:00</th>\n",
       "      <td id=\"T_e4e1b_row47_col0\" class=\"data row47 col0\" >nan</td>\n",
       "      <td id=\"T_e4e1b_row47_col1\" class=\"data row47 col1\" >nan</td>\n",
       "      <td id=\"T_e4e1b_row47_col2\" class=\"data row47 col2\" >nan</td>\n",
       "      <td id=\"T_e4e1b_row47_col3\" class=\"data row47 col3\" >nan</td>\n",
       "      <td id=\"T_e4e1b_row47_col4\" class=\"data row47 col4\" >nan</td>\n",
       "      <td id=\"T_e4e1b_row47_col5\" class=\"data row47 col5\" >nan</td>\n",
       "      <td id=\"T_e4e1b_row47_col6\" class=\"data row47 col6\" >nan</td>\n",
       "    </tr>\n",
       "    <tr>\n",
       "      <th id=\"T_e4e1b_level0_row48\" class=\"row_heading level0 row48\" >2012-11-20 14:30:00</th>\n",
       "      <td id=\"T_e4e1b_row48_col0\" class=\"data row48 col0\" >nan</td>\n",
       "      <td id=\"T_e4e1b_row48_col1\" class=\"data row48 col1\" >nan</td>\n",
       "      <td id=\"T_e4e1b_row48_col2\" class=\"data row48 col2\" >nan</td>\n",
       "      <td id=\"T_e4e1b_row48_col3\" class=\"data row48 col3\" >nan</td>\n",
       "      <td id=\"T_e4e1b_row48_col4\" class=\"data row48 col4\" >nan</td>\n",
       "      <td id=\"T_e4e1b_row48_col5\" class=\"data row48 col5\" >nan</td>\n",
       "      <td id=\"T_e4e1b_row48_col6\" class=\"data row48 col6\" >nan</td>\n",
       "    </tr>\n",
       "    <tr>\n",
       "      <th id=\"T_e4e1b_level0_row49\" class=\"row_heading level0 row49\" >2012-11-20 15:00:00</th>\n",
       "      <td id=\"T_e4e1b_row49_col0\" class=\"data row49 col0\" >nan</td>\n",
       "      <td id=\"T_e4e1b_row49_col1\" class=\"data row49 col1\" >nan</td>\n",
       "      <td id=\"T_e4e1b_row49_col2\" class=\"data row49 col2\" >nan</td>\n",
       "      <td id=\"T_e4e1b_row49_col3\" class=\"data row49 col3\" >nan</td>\n",
       "      <td id=\"T_e4e1b_row49_col4\" class=\"data row49 col4\" >nan</td>\n",
       "      <td id=\"T_e4e1b_row49_col5\" class=\"data row49 col5\" >nan</td>\n",
       "      <td id=\"T_e4e1b_row49_col6\" class=\"data row49 col6\" >nan</td>\n",
       "    </tr>\n",
       "  </tbody>\n",
       "</table>\n",
       " </div><div> <p style='font-size: 1.3rem;'>std</p> <style type=\"text/css\">\n",
       "</style>\n",
       "<table id=\"T_2d85d\">\n",
       "  <thead>\n",
       "    <tr>\n",
       "      <th class=\"blank level0\" >&nbsp;</th>\n",
       "      <th id=\"T_2d85d_level0_col0\" class=\"col_heading level0 col0\" >TA</th>\n",
       "      <th id=\"T_2d85d_level0_col1\" class=\"col_heading level0 col1\" >SW_IN</th>\n",
       "      <th id=\"T_2d85d_level0_col2\" class=\"col_heading level0 col2\" >VPD</th>\n",
       "      <th id=\"T_2d85d_level0_col3\" class=\"col_heading level0 col3\" >PA</th>\n",
       "      <th id=\"T_2d85d_level0_col4\" class=\"col_heading level0 col4\" >P</th>\n",
       "      <th id=\"T_2d85d_level0_col5\" class=\"col_heading level0 col5\" >WS</th>\n",
       "      <th id=\"T_2d85d_level0_col6\" class=\"col_heading level0 col6\" >LW_IN</th>\n",
       "    </tr>\n",
       "    <tr>\n",
       "      <th class=\"index_name level0\" >time</th>\n",
       "      <th class=\"blank col0\" >&nbsp;</th>\n",
       "      <th class=\"blank col1\" >&nbsp;</th>\n",
       "      <th class=\"blank col2\" >&nbsp;</th>\n",
       "      <th class=\"blank col3\" >&nbsp;</th>\n",
       "      <th class=\"blank col4\" >&nbsp;</th>\n",
       "      <th class=\"blank col5\" >&nbsp;</th>\n",
       "      <th class=\"blank col6\" >&nbsp;</th>\n",
       "    </tr>\n",
       "  </thead>\n",
       "  <tbody>\n",
       "    <tr>\n",
       "      <th id=\"T_2d85d_level0_row0\" class=\"row_heading level0 row0\" >2012-11-19 14:30:00</th>\n",
       "      <td id=\"T_2d85d_row0_col0\" class=\"data row0 col0\" >nan</td>\n",
       "      <td id=\"T_2d85d_row0_col1\" class=\"data row0 col1\" >nan</td>\n",
       "      <td id=\"T_2d85d_row0_col2\" class=\"data row0 col2\" >nan</td>\n",
       "      <td id=\"T_2d85d_row0_col3\" class=\"data row0 col3\" >nan</td>\n",
       "      <td id=\"T_2d85d_row0_col4\" class=\"data row0 col4\" >nan</td>\n",
       "      <td id=\"T_2d85d_row0_col5\" class=\"data row0 col5\" >nan</td>\n",
       "      <td id=\"T_2d85d_row0_col6\" class=\"data row0 col6\" >nan</td>\n",
       "    </tr>\n",
       "    <tr>\n",
       "      <th id=\"T_2d85d_level0_row1\" class=\"row_heading level0 row1\" >2012-11-19 15:00:00</th>\n",
       "      <td id=\"T_2d85d_row1_col0\" class=\"data row1 col0\" >nan</td>\n",
       "      <td id=\"T_2d85d_row1_col1\" class=\"data row1 col1\" >nan</td>\n",
       "      <td id=\"T_2d85d_row1_col2\" class=\"data row1 col2\" >nan</td>\n",
       "      <td id=\"T_2d85d_row1_col3\" class=\"data row1 col3\" >nan</td>\n",
       "      <td id=\"T_2d85d_row1_col4\" class=\"data row1 col4\" >nan</td>\n",
       "      <td id=\"T_2d85d_row1_col5\" class=\"data row1 col5\" >nan</td>\n",
       "      <td id=\"T_2d85d_row1_col6\" class=\"data row1 col6\" >nan</td>\n",
       "    </tr>\n",
       "    <tr>\n",
       "      <th id=\"T_2d85d_level0_row2\" class=\"row_heading level0 row2\" >2012-11-19 15:30:00</th>\n",
       "      <td id=\"T_2d85d_row2_col0\" class=\"data row2 col0\" >nan</td>\n",
       "      <td id=\"T_2d85d_row2_col1\" class=\"data row2 col1\" >nan</td>\n",
       "      <td id=\"T_2d85d_row2_col2\" class=\"data row2 col2\" >nan</td>\n",
       "      <td id=\"T_2d85d_row2_col3\" class=\"data row2 col3\" >nan</td>\n",
       "      <td id=\"T_2d85d_row2_col4\" class=\"data row2 col4\" >nan</td>\n",
       "      <td id=\"T_2d85d_row2_col5\" class=\"data row2 col5\" >nan</td>\n",
       "      <td id=\"T_2d85d_row2_col6\" class=\"data row2 col6\" >nan</td>\n",
       "    </tr>\n",
       "    <tr>\n",
       "      <th id=\"T_2d85d_level0_row3\" class=\"row_heading level0 row3\" >2012-11-19 16:00:00</th>\n",
       "      <td id=\"T_2d85d_row3_col0\" class=\"data row3 col0\" >nan</td>\n",
       "      <td id=\"T_2d85d_row3_col1\" class=\"data row3 col1\" >nan</td>\n",
       "      <td id=\"T_2d85d_row3_col2\" class=\"data row3 col2\" >nan</td>\n",
       "      <td id=\"T_2d85d_row3_col3\" class=\"data row3 col3\" >nan</td>\n",
       "      <td id=\"T_2d85d_row3_col4\" class=\"data row3 col4\" >nan</td>\n",
       "      <td id=\"T_2d85d_row3_col5\" class=\"data row3 col5\" >nan</td>\n",
       "      <td id=\"T_2d85d_row3_col6\" class=\"data row3 col6\" >nan</td>\n",
       "    </tr>\n",
       "    <tr>\n",
       "      <th id=\"T_2d85d_level0_row4\" class=\"row_heading level0 row4\" >2012-11-19 16:30:00</th>\n",
       "      <td id=\"T_2d85d_row4_col0\" class=\"data row4 col0\" >nan</td>\n",
       "      <td id=\"T_2d85d_row4_col1\" class=\"data row4 col1\" >nan</td>\n",
       "      <td id=\"T_2d85d_row4_col2\" class=\"data row4 col2\" >nan</td>\n",
       "      <td id=\"T_2d85d_row4_col3\" class=\"data row4 col3\" >nan</td>\n",
       "      <td id=\"T_2d85d_row4_col4\" class=\"data row4 col4\" >nan</td>\n",
       "      <td id=\"T_2d85d_row4_col5\" class=\"data row4 col5\" >nan</td>\n",
       "      <td id=\"T_2d85d_row4_col6\" class=\"data row4 col6\" >nan</td>\n",
       "    </tr>\n",
       "    <tr>\n",
       "      <th id=\"T_2d85d_level0_row5\" class=\"row_heading level0 row5\" >2012-11-19 17:00:00</th>\n",
       "      <td id=\"T_2d85d_row5_col0\" class=\"data row5 col0\" >nan</td>\n",
       "      <td id=\"T_2d85d_row5_col1\" class=\"data row5 col1\" >nan</td>\n",
       "      <td id=\"T_2d85d_row5_col2\" class=\"data row5 col2\" >nan</td>\n",
       "      <td id=\"T_2d85d_row5_col3\" class=\"data row5 col3\" >nan</td>\n",
       "      <td id=\"T_2d85d_row5_col4\" class=\"data row5 col4\" >nan</td>\n",
       "      <td id=\"T_2d85d_row5_col5\" class=\"data row5 col5\" >nan</td>\n",
       "      <td id=\"T_2d85d_row5_col6\" class=\"data row5 col6\" >nan</td>\n",
       "    </tr>\n",
       "    <tr>\n",
       "      <th id=\"T_2d85d_level0_row6\" class=\"row_heading level0 row6\" >2012-11-19 17:30:00</th>\n",
       "      <td id=\"T_2d85d_row6_col0\" class=\"data row6 col0\" >nan</td>\n",
       "      <td id=\"T_2d85d_row6_col1\" class=\"data row6 col1\" >nan</td>\n",
       "      <td id=\"T_2d85d_row6_col2\" class=\"data row6 col2\" >nan</td>\n",
       "      <td id=\"T_2d85d_row6_col3\" class=\"data row6 col3\" >nan</td>\n",
       "      <td id=\"T_2d85d_row6_col4\" class=\"data row6 col4\" >nan</td>\n",
       "      <td id=\"T_2d85d_row6_col5\" class=\"data row6 col5\" >nan</td>\n",
       "      <td id=\"T_2d85d_row6_col6\" class=\"data row6 col6\" >nan</td>\n",
       "    </tr>\n",
       "    <tr>\n",
       "      <th id=\"T_2d85d_level0_row7\" class=\"row_heading level0 row7\" >2012-11-19 18:00:00</th>\n",
       "      <td id=\"T_2d85d_row7_col0\" class=\"data row7 col0\" >nan</td>\n",
       "      <td id=\"T_2d85d_row7_col1\" class=\"data row7 col1\" >nan</td>\n",
       "      <td id=\"T_2d85d_row7_col2\" class=\"data row7 col2\" >nan</td>\n",
       "      <td id=\"T_2d85d_row7_col3\" class=\"data row7 col3\" >nan</td>\n",
       "      <td id=\"T_2d85d_row7_col4\" class=\"data row7 col4\" >nan</td>\n",
       "      <td id=\"T_2d85d_row7_col5\" class=\"data row7 col5\" >nan</td>\n",
       "      <td id=\"T_2d85d_row7_col6\" class=\"data row7 col6\" >nan</td>\n",
       "    </tr>\n",
       "    <tr>\n",
       "      <th id=\"T_2d85d_level0_row8\" class=\"row_heading level0 row8\" >2012-11-19 18:30:00</th>\n",
       "      <td id=\"T_2d85d_row8_col0\" class=\"data row8 col0\" >nan</td>\n",
       "      <td id=\"T_2d85d_row8_col1\" class=\"data row8 col1\" >nan</td>\n",
       "      <td id=\"T_2d85d_row8_col2\" class=\"data row8 col2\" >nan</td>\n",
       "      <td id=\"T_2d85d_row8_col3\" class=\"data row8 col3\" >nan</td>\n",
       "      <td id=\"T_2d85d_row8_col4\" class=\"data row8 col4\" >nan</td>\n",
       "      <td id=\"T_2d85d_row8_col5\" class=\"data row8 col5\" >nan</td>\n",
       "      <td id=\"T_2d85d_row8_col6\" class=\"data row8 col6\" >nan</td>\n",
       "    </tr>\n",
       "    <tr>\n",
       "      <th id=\"T_2d85d_level0_row9\" class=\"row_heading level0 row9\" >2012-11-19 19:00:00</th>\n",
       "      <td id=\"T_2d85d_row9_col0\" class=\"data row9 col0\" >nan</td>\n",
       "      <td id=\"T_2d85d_row9_col1\" class=\"data row9 col1\" >nan</td>\n",
       "      <td id=\"T_2d85d_row9_col2\" class=\"data row9 col2\" >nan</td>\n",
       "      <td id=\"T_2d85d_row9_col3\" class=\"data row9 col3\" >nan</td>\n",
       "      <td id=\"T_2d85d_row9_col4\" class=\"data row9 col4\" >nan</td>\n",
       "      <td id=\"T_2d85d_row9_col5\" class=\"data row9 col5\" >nan</td>\n",
       "      <td id=\"T_2d85d_row9_col6\" class=\"data row9 col6\" >nan</td>\n",
       "    </tr>\n",
       "    <tr>\n",
       "      <th id=\"T_2d85d_level0_row10\" class=\"row_heading level0 row10\" >2012-11-19 19:30:00</th>\n",
       "      <td id=\"T_2d85d_row10_col0\" class=\"data row10 col0\" >nan</td>\n",
       "      <td id=\"T_2d85d_row10_col1\" class=\"data row10 col1\" >nan</td>\n",
       "      <td id=\"T_2d85d_row10_col2\" class=\"data row10 col2\" >nan</td>\n",
       "      <td id=\"T_2d85d_row10_col3\" class=\"data row10 col3\" >nan</td>\n",
       "      <td id=\"T_2d85d_row10_col4\" class=\"data row10 col4\" >nan</td>\n",
       "      <td id=\"T_2d85d_row10_col5\" class=\"data row10 col5\" >nan</td>\n",
       "      <td id=\"T_2d85d_row10_col6\" class=\"data row10 col6\" >nan</td>\n",
       "    </tr>\n",
       "    <tr>\n",
       "      <th id=\"T_2d85d_level0_row11\" class=\"row_heading level0 row11\" >2012-11-19 20:00:00</th>\n",
       "      <td id=\"T_2d85d_row11_col0\" class=\"data row11 col0\" >nan</td>\n",
       "      <td id=\"T_2d85d_row11_col1\" class=\"data row11 col1\" >nan</td>\n",
       "      <td id=\"T_2d85d_row11_col2\" class=\"data row11 col2\" >nan</td>\n",
       "      <td id=\"T_2d85d_row11_col3\" class=\"data row11 col3\" >nan</td>\n",
       "      <td id=\"T_2d85d_row11_col4\" class=\"data row11 col4\" >nan</td>\n",
       "      <td id=\"T_2d85d_row11_col5\" class=\"data row11 col5\" >nan</td>\n",
       "      <td id=\"T_2d85d_row11_col6\" class=\"data row11 col6\" >nan</td>\n",
       "    </tr>\n",
       "    <tr>\n",
       "      <th id=\"T_2d85d_level0_row12\" class=\"row_heading level0 row12\" >2012-11-19 20:30:00</th>\n",
       "      <td id=\"T_2d85d_row12_col0\" class=\"data row12 col0\" >nan</td>\n",
       "      <td id=\"T_2d85d_row12_col1\" class=\"data row12 col1\" >nan</td>\n",
       "      <td id=\"T_2d85d_row12_col2\" class=\"data row12 col2\" >nan</td>\n",
       "      <td id=\"T_2d85d_row12_col3\" class=\"data row12 col3\" >nan</td>\n",
       "      <td id=\"T_2d85d_row12_col4\" class=\"data row12 col4\" >nan</td>\n",
       "      <td id=\"T_2d85d_row12_col5\" class=\"data row12 col5\" >nan</td>\n",
       "      <td id=\"T_2d85d_row12_col6\" class=\"data row12 col6\" >nan</td>\n",
       "    </tr>\n",
       "    <tr>\n",
       "      <th id=\"T_2d85d_level0_row13\" class=\"row_heading level0 row13\" >2012-11-19 21:00:00</th>\n",
       "      <td id=\"T_2d85d_row13_col0\" class=\"data row13 col0\" >nan</td>\n",
       "      <td id=\"T_2d85d_row13_col1\" class=\"data row13 col1\" >nan</td>\n",
       "      <td id=\"T_2d85d_row13_col2\" class=\"data row13 col2\" >nan</td>\n",
       "      <td id=\"T_2d85d_row13_col3\" class=\"data row13 col3\" >nan</td>\n",
       "      <td id=\"T_2d85d_row13_col4\" class=\"data row13 col4\" >nan</td>\n",
       "      <td id=\"T_2d85d_row13_col5\" class=\"data row13 col5\" >nan</td>\n",
       "      <td id=\"T_2d85d_row13_col6\" class=\"data row13 col6\" >nan</td>\n",
       "    </tr>\n",
       "    <tr>\n",
       "      <th id=\"T_2d85d_level0_row14\" class=\"row_heading level0 row14\" >2012-11-19 21:30:00</th>\n",
       "      <td id=\"T_2d85d_row14_col0\" class=\"data row14 col0\" >nan</td>\n",
       "      <td id=\"T_2d85d_row14_col1\" class=\"data row14 col1\" >nan</td>\n",
       "      <td id=\"T_2d85d_row14_col2\" class=\"data row14 col2\" >nan</td>\n",
       "      <td id=\"T_2d85d_row14_col3\" class=\"data row14 col3\" >nan</td>\n",
       "      <td id=\"T_2d85d_row14_col4\" class=\"data row14 col4\" >nan</td>\n",
       "      <td id=\"T_2d85d_row14_col5\" class=\"data row14 col5\" >nan</td>\n",
       "      <td id=\"T_2d85d_row14_col6\" class=\"data row14 col6\" >nan</td>\n",
       "    </tr>\n",
       "    <tr>\n",
       "      <th id=\"T_2d85d_level0_row15\" class=\"row_heading level0 row15\" >2012-11-19 22:00:00</th>\n",
       "      <td id=\"T_2d85d_row15_col0\" class=\"data row15 col0\" >nan</td>\n",
       "      <td id=\"T_2d85d_row15_col1\" class=\"data row15 col1\" >nan</td>\n",
       "      <td id=\"T_2d85d_row15_col2\" class=\"data row15 col2\" >nan</td>\n",
       "      <td id=\"T_2d85d_row15_col3\" class=\"data row15 col3\" >nan</td>\n",
       "      <td id=\"T_2d85d_row15_col4\" class=\"data row15 col4\" >nan</td>\n",
       "      <td id=\"T_2d85d_row15_col5\" class=\"data row15 col5\" >nan</td>\n",
       "      <td id=\"T_2d85d_row15_col6\" class=\"data row15 col6\" >nan</td>\n",
       "    </tr>\n",
       "    <tr>\n",
       "      <th id=\"T_2d85d_level0_row16\" class=\"row_heading level0 row16\" >2012-11-19 22:30:00</th>\n",
       "      <td id=\"T_2d85d_row16_col0\" class=\"data row16 col0\" >nan</td>\n",
       "      <td id=\"T_2d85d_row16_col1\" class=\"data row16 col1\" >nan</td>\n",
       "      <td id=\"T_2d85d_row16_col2\" class=\"data row16 col2\" >nan</td>\n",
       "      <td id=\"T_2d85d_row16_col3\" class=\"data row16 col3\" >nan</td>\n",
       "      <td id=\"T_2d85d_row16_col4\" class=\"data row16 col4\" >nan</td>\n",
       "      <td id=\"T_2d85d_row16_col5\" class=\"data row16 col5\" >nan</td>\n",
       "      <td id=\"T_2d85d_row16_col6\" class=\"data row16 col6\" >nan</td>\n",
       "    </tr>\n",
       "    <tr>\n",
       "      <th id=\"T_2d85d_level0_row17\" class=\"row_heading level0 row17\" >2012-11-19 23:00:00</th>\n",
       "      <td id=\"T_2d85d_row17_col0\" class=\"data row17 col0\" >nan</td>\n",
       "      <td id=\"T_2d85d_row17_col1\" class=\"data row17 col1\" >nan</td>\n",
       "      <td id=\"T_2d85d_row17_col2\" class=\"data row17 col2\" >nan</td>\n",
       "      <td id=\"T_2d85d_row17_col3\" class=\"data row17 col3\" >nan</td>\n",
       "      <td id=\"T_2d85d_row17_col4\" class=\"data row17 col4\" >nan</td>\n",
       "      <td id=\"T_2d85d_row17_col5\" class=\"data row17 col5\" >nan</td>\n",
       "      <td id=\"T_2d85d_row17_col6\" class=\"data row17 col6\" >nan</td>\n",
       "    </tr>\n",
       "    <tr>\n",
       "      <th id=\"T_2d85d_level0_row18\" class=\"row_heading level0 row18\" >2012-11-19 23:30:00</th>\n",
       "      <td id=\"T_2d85d_row18_col0\" class=\"data row18 col0\" >nan</td>\n",
       "      <td id=\"T_2d85d_row18_col1\" class=\"data row18 col1\" >nan</td>\n",
       "      <td id=\"T_2d85d_row18_col2\" class=\"data row18 col2\" >nan</td>\n",
       "      <td id=\"T_2d85d_row18_col3\" class=\"data row18 col3\" >nan</td>\n",
       "      <td id=\"T_2d85d_row18_col4\" class=\"data row18 col4\" >nan</td>\n",
       "      <td id=\"T_2d85d_row18_col5\" class=\"data row18 col5\" >nan</td>\n",
       "      <td id=\"T_2d85d_row18_col6\" class=\"data row18 col6\" >nan</td>\n",
       "    </tr>\n",
       "    <tr>\n",
       "      <th id=\"T_2d85d_level0_row19\" class=\"row_heading level0 row19\" >2012-11-20 00:00:00</th>\n",
       "      <td id=\"T_2d85d_row19_col0\" class=\"data row19 col0\" >nan</td>\n",
       "      <td id=\"T_2d85d_row19_col1\" class=\"data row19 col1\" >nan</td>\n",
       "      <td id=\"T_2d85d_row19_col2\" class=\"data row19 col2\" >nan</td>\n",
       "      <td id=\"T_2d85d_row19_col3\" class=\"data row19 col3\" >nan</td>\n",
       "      <td id=\"T_2d85d_row19_col4\" class=\"data row19 col4\" >nan</td>\n",
       "      <td id=\"T_2d85d_row19_col5\" class=\"data row19 col5\" >nan</td>\n",
       "      <td id=\"T_2d85d_row19_col6\" class=\"data row19 col6\" >nan</td>\n",
       "    </tr>\n",
       "    <tr>\n",
       "      <th id=\"T_2d85d_level0_row20\" class=\"row_heading level0 row20\" >2012-11-20 00:30:00</th>\n",
       "      <td id=\"T_2d85d_row20_col0\" class=\"data row20 col0\" >nan</td>\n",
       "      <td id=\"T_2d85d_row20_col1\" class=\"data row20 col1\" >nan</td>\n",
       "      <td id=\"T_2d85d_row20_col2\" class=\"data row20 col2\" >nan</td>\n",
       "      <td id=\"T_2d85d_row20_col3\" class=\"data row20 col3\" >nan</td>\n",
       "      <td id=\"T_2d85d_row20_col4\" class=\"data row20 col4\" >nan</td>\n",
       "      <td id=\"T_2d85d_row20_col5\" class=\"data row20 col5\" >nan</td>\n",
       "      <td id=\"T_2d85d_row20_col6\" class=\"data row20 col6\" >nan</td>\n",
       "    </tr>\n",
       "    <tr>\n",
       "      <th id=\"T_2d85d_level0_row21\" class=\"row_heading level0 row21\" >2012-11-20 01:00:00</th>\n",
       "      <td id=\"T_2d85d_row21_col0\" class=\"data row21 col0\" >nan</td>\n",
       "      <td id=\"T_2d85d_row21_col1\" class=\"data row21 col1\" >nan</td>\n",
       "      <td id=\"T_2d85d_row21_col2\" class=\"data row21 col2\" >nan</td>\n",
       "      <td id=\"T_2d85d_row21_col3\" class=\"data row21 col3\" >nan</td>\n",
       "      <td id=\"T_2d85d_row21_col4\" class=\"data row21 col4\" >nan</td>\n",
       "      <td id=\"T_2d85d_row21_col5\" class=\"data row21 col5\" >nan</td>\n",
       "      <td id=\"T_2d85d_row21_col6\" class=\"data row21 col6\" >nan</td>\n",
       "    </tr>\n",
       "    <tr>\n",
       "      <th id=\"T_2d85d_level0_row22\" class=\"row_heading level0 row22\" >2012-11-20 01:30:00</th>\n",
       "      <td id=\"T_2d85d_row22_col0\" class=\"data row22 col0\" >nan</td>\n",
       "      <td id=\"T_2d85d_row22_col1\" class=\"data row22 col1\" >nan</td>\n",
       "      <td id=\"T_2d85d_row22_col2\" class=\"data row22 col2\" >nan</td>\n",
       "      <td id=\"T_2d85d_row22_col3\" class=\"data row22 col3\" >nan</td>\n",
       "      <td id=\"T_2d85d_row22_col4\" class=\"data row22 col4\" >nan</td>\n",
       "      <td id=\"T_2d85d_row22_col5\" class=\"data row22 col5\" >nan</td>\n",
       "      <td id=\"T_2d85d_row22_col6\" class=\"data row22 col6\" >nan</td>\n",
       "    </tr>\n",
       "    <tr>\n",
       "      <th id=\"T_2d85d_level0_row23\" class=\"row_heading level0 row23\" >2012-11-20 02:00:00</th>\n",
       "      <td id=\"T_2d85d_row23_col0\" class=\"data row23 col0\" >nan</td>\n",
       "      <td id=\"T_2d85d_row23_col1\" class=\"data row23 col1\" >nan</td>\n",
       "      <td id=\"T_2d85d_row23_col2\" class=\"data row23 col2\" >nan</td>\n",
       "      <td id=\"T_2d85d_row23_col3\" class=\"data row23 col3\" >nan</td>\n",
       "      <td id=\"T_2d85d_row23_col4\" class=\"data row23 col4\" >nan</td>\n",
       "      <td id=\"T_2d85d_row23_col5\" class=\"data row23 col5\" >nan</td>\n",
       "      <td id=\"T_2d85d_row23_col6\" class=\"data row23 col6\" >nan</td>\n",
       "    </tr>\n",
       "    <tr>\n",
       "      <th id=\"T_2d85d_level0_row24\" class=\"row_heading level0 row24\" >2012-11-20 02:30:00</th>\n",
       "      <td id=\"T_2d85d_row24_col0\" class=\"data row24 col0\" >nan</td>\n",
       "      <td id=\"T_2d85d_row24_col1\" class=\"data row24 col1\" >nan</td>\n",
       "      <td id=\"T_2d85d_row24_col2\" class=\"data row24 col2\" >nan</td>\n",
       "      <td id=\"T_2d85d_row24_col3\" class=\"data row24 col3\" >nan</td>\n",
       "      <td id=\"T_2d85d_row24_col4\" class=\"data row24 col4\" >nan</td>\n",
       "      <td id=\"T_2d85d_row24_col5\" class=\"data row24 col5\" >nan</td>\n",
       "      <td id=\"T_2d85d_row24_col6\" class=\"data row24 col6\" >nan</td>\n",
       "    </tr>\n",
       "    <tr>\n",
       "      <th id=\"T_2d85d_level0_row25\" class=\"row_heading level0 row25\" >2012-11-20 03:00:00</th>\n",
       "      <td id=\"T_2d85d_row25_col0\" class=\"data row25 col0\" >3.3326</td>\n",
       "      <td id=\"T_2d85d_row25_col1\" class=\"data row25 col1\" >nan</td>\n",
       "      <td id=\"T_2d85d_row25_col2\" class=\"data row25 col2\" >nan</td>\n",
       "      <td id=\"T_2d85d_row25_col3\" class=\"data row25 col3\" >nan</td>\n",
       "      <td id=\"T_2d85d_row25_col4\" class=\"data row25 col4\" >nan</td>\n",
       "      <td id=\"T_2d85d_row25_col5\" class=\"data row25 col5\" >nan</td>\n",
       "      <td id=\"T_2d85d_row25_col6\" class=\"data row25 col6\" >nan</td>\n",
       "    </tr>\n",
       "    <tr>\n",
       "      <th id=\"T_2d85d_level0_row26\" class=\"row_heading level0 row26\" >2012-11-20 03:30:00</th>\n",
       "      <td id=\"T_2d85d_row26_col0\" class=\"data row26 col0\" >4.5990</td>\n",
       "      <td id=\"T_2d85d_row26_col1\" class=\"data row26 col1\" >nan</td>\n",
       "      <td id=\"T_2d85d_row26_col2\" class=\"data row26 col2\" >nan</td>\n",
       "      <td id=\"T_2d85d_row26_col3\" class=\"data row26 col3\" >nan</td>\n",
       "      <td id=\"T_2d85d_row26_col4\" class=\"data row26 col4\" >nan</td>\n",
       "      <td id=\"T_2d85d_row26_col5\" class=\"data row26 col5\" >nan</td>\n",
       "      <td id=\"T_2d85d_row26_col6\" class=\"data row26 col6\" >nan</td>\n",
       "    </tr>\n",
       "    <tr>\n",
       "      <th id=\"T_2d85d_level0_row27\" class=\"row_heading level0 row27\" >2012-11-20 04:00:00</th>\n",
       "      <td id=\"T_2d85d_row27_col0\" class=\"data row27 col0\" >5.0317</td>\n",
       "      <td id=\"T_2d85d_row27_col1\" class=\"data row27 col1\" >nan</td>\n",
       "      <td id=\"T_2d85d_row27_col2\" class=\"data row27 col2\" >nan</td>\n",
       "      <td id=\"T_2d85d_row27_col3\" class=\"data row27 col3\" >nan</td>\n",
       "      <td id=\"T_2d85d_row27_col4\" class=\"data row27 col4\" >nan</td>\n",
       "      <td id=\"T_2d85d_row27_col5\" class=\"data row27 col5\" >nan</td>\n",
       "      <td id=\"T_2d85d_row27_col6\" class=\"data row27 col6\" >nan</td>\n",
       "    </tr>\n",
       "    <tr>\n",
       "      <th id=\"T_2d85d_level0_row28\" class=\"row_heading level0 row28\" >2012-11-20 04:30:00</th>\n",
       "      <td id=\"T_2d85d_row28_col0\" class=\"data row28 col0\" >4.5990</td>\n",
       "      <td id=\"T_2d85d_row28_col1\" class=\"data row28 col1\" >nan</td>\n",
       "      <td id=\"T_2d85d_row28_col2\" class=\"data row28 col2\" >nan</td>\n",
       "      <td id=\"T_2d85d_row28_col3\" class=\"data row28 col3\" >nan</td>\n",
       "      <td id=\"T_2d85d_row28_col4\" class=\"data row28 col4\" >nan</td>\n",
       "      <td id=\"T_2d85d_row28_col5\" class=\"data row28 col5\" >nan</td>\n",
       "      <td id=\"T_2d85d_row28_col6\" class=\"data row28 col6\" >nan</td>\n",
       "    </tr>\n",
       "    <tr>\n",
       "      <th id=\"T_2d85d_level0_row29\" class=\"row_heading level0 row29\" >2012-11-20 05:00:00</th>\n",
       "      <td id=\"T_2d85d_row29_col0\" class=\"data row29 col0\" >3.3326</td>\n",
       "      <td id=\"T_2d85d_row29_col1\" class=\"data row29 col1\" >nan</td>\n",
       "      <td id=\"T_2d85d_row29_col2\" class=\"data row29 col2\" >nan</td>\n",
       "      <td id=\"T_2d85d_row29_col3\" class=\"data row29 col3\" >nan</td>\n",
       "      <td id=\"T_2d85d_row29_col4\" class=\"data row29 col4\" >nan</td>\n",
       "      <td id=\"T_2d85d_row29_col5\" class=\"data row29 col5\" >nan</td>\n",
       "      <td id=\"T_2d85d_row29_col6\" class=\"data row29 col6\" >nan</td>\n",
       "    </tr>\n",
       "    <tr>\n",
       "      <th id=\"T_2d85d_level0_row30\" class=\"row_heading level0 row30\" >2012-11-20 05:30:00</th>\n",
       "      <td id=\"T_2d85d_row30_col0\" class=\"data row30 col0\" >nan</td>\n",
       "      <td id=\"T_2d85d_row30_col1\" class=\"data row30 col1\" >nan</td>\n",
       "      <td id=\"T_2d85d_row30_col2\" class=\"data row30 col2\" >nan</td>\n",
       "      <td id=\"T_2d85d_row30_col3\" class=\"data row30 col3\" >nan</td>\n",
       "      <td id=\"T_2d85d_row30_col4\" class=\"data row30 col4\" >nan</td>\n",
       "      <td id=\"T_2d85d_row30_col5\" class=\"data row30 col5\" >nan</td>\n",
       "      <td id=\"T_2d85d_row30_col6\" class=\"data row30 col6\" >nan</td>\n",
       "    </tr>\n",
       "    <tr>\n",
       "      <th id=\"T_2d85d_level0_row31\" class=\"row_heading level0 row31\" >2012-11-20 06:00:00</th>\n",
       "      <td id=\"T_2d85d_row31_col0\" class=\"data row31 col0\" >nan</td>\n",
       "      <td id=\"T_2d85d_row31_col1\" class=\"data row31 col1\" >nan</td>\n",
       "      <td id=\"T_2d85d_row31_col2\" class=\"data row31 col2\" >nan</td>\n",
       "      <td id=\"T_2d85d_row31_col3\" class=\"data row31 col3\" >nan</td>\n",
       "      <td id=\"T_2d85d_row31_col4\" class=\"data row31 col4\" >nan</td>\n",
       "      <td id=\"T_2d85d_row31_col5\" class=\"data row31 col5\" >nan</td>\n",
       "      <td id=\"T_2d85d_row31_col6\" class=\"data row31 col6\" >nan</td>\n",
       "    </tr>\n",
       "    <tr>\n",
       "      <th id=\"T_2d85d_level0_row32\" class=\"row_heading level0 row32\" >2012-11-20 06:30:00</th>\n",
       "      <td id=\"T_2d85d_row32_col0\" class=\"data row32 col0\" >nan</td>\n",
       "      <td id=\"T_2d85d_row32_col1\" class=\"data row32 col1\" >nan</td>\n",
       "      <td id=\"T_2d85d_row32_col2\" class=\"data row32 col2\" >nan</td>\n",
       "      <td id=\"T_2d85d_row32_col3\" class=\"data row32 col3\" >nan</td>\n",
       "      <td id=\"T_2d85d_row32_col4\" class=\"data row32 col4\" >nan</td>\n",
       "      <td id=\"T_2d85d_row32_col5\" class=\"data row32 col5\" >nan</td>\n",
       "      <td id=\"T_2d85d_row32_col6\" class=\"data row32 col6\" >nan</td>\n",
       "    </tr>\n",
       "    <tr>\n",
       "      <th id=\"T_2d85d_level0_row33\" class=\"row_heading level0 row33\" >2012-11-20 07:00:00</th>\n",
       "      <td id=\"T_2d85d_row33_col0\" class=\"data row33 col0\" >nan</td>\n",
       "      <td id=\"T_2d85d_row33_col1\" class=\"data row33 col1\" >nan</td>\n",
       "      <td id=\"T_2d85d_row33_col2\" class=\"data row33 col2\" >nan</td>\n",
       "      <td id=\"T_2d85d_row33_col3\" class=\"data row33 col3\" >nan</td>\n",
       "      <td id=\"T_2d85d_row33_col4\" class=\"data row33 col4\" >nan</td>\n",
       "      <td id=\"T_2d85d_row33_col5\" class=\"data row33 col5\" >nan</td>\n",
       "      <td id=\"T_2d85d_row33_col6\" class=\"data row33 col6\" >nan</td>\n",
       "    </tr>\n",
       "    <tr>\n",
       "      <th id=\"T_2d85d_level0_row34\" class=\"row_heading level0 row34\" >2012-11-20 07:30:00</th>\n",
       "      <td id=\"T_2d85d_row34_col0\" class=\"data row34 col0\" >nan</td>\n",
       "      <td id=\"T_2d85d_row34_col1\" class=\"data row34 col1\" >nan</td>\n",
       "      <td id=\"T_2d85d_row34_col2\" class=\"data row34 col2\" >nan</td>\n",
       "      <td id=\"T_2d85d_row34_col3\" class=\"data row34 col3\" >nan</td>\n",
       "      <td id=\"T_2d85d_row34_col4\" class=\"data row34 col4\" >nan</td>\n",
       "      <td id=\"T_2d85d_row34_col5\" class=\"data row34 col5\" >nan</td>\n",
       "      <td id=\"T_2d85d_row34_col6\" class=\"data row34 col6\" >nan</td>\n",
       "    </tr>\n",
       "    <tr>\n",
       "      <th id=\"T_2d85d_level0_row35\" class=\"row_heading level0 row35\" >2012-11-20 08:00:00</th>\n",
       "      <td id=\"T_2d85d_row35_col0\" class=\"data row35 col0\" >nan</td>\n",
       "      <td id=\"T_2d85d_row35_col1\" class=\"data row35 col1\" >nan</td>\n",
       "      <td id=\"T_2d85d_row35_col2\" class=\"data row35 col2\" >nan</td>\n",
       "      <td id=\"T_2d85d_row35_col3\" class=\"data row35 col3\" >nan</td>\n",
       "      <td id=\"T_2d85d_row35_col4\" class=\"data row35 col4\" >nan</td>\n",
       "      <td id=\"T_2d85d_row35_col5\" class=\"data row35 col5\" >nan</td>\n",
       "      <td id=\"T_2d85d_row35_col6\" class=\"data row35 col6\" >nan</td>\n",
       "    </tr>\n",
       "    <tr>\n",
       "      <th id=\"T_2d85d_level0_row36\" class=\"row_heading level0 row36\" >2012-11-20 08:30:00</th>\n",
       "      <td id=\"T_2d85d_row36_col0\" class=\"data row36 col0\" >nan</td>\n",
       "      <td id=\"T_2d85d_row36_col1\" class=\"data row36 col1\" >nan</td>\n",
       "      <td id=\"T_2d85d_row36_col2\" class=\"data row36 col2\" >nan</td>\n",
       "      <td id=\"T_2d85d_row36_col3\" class=\"data row36 col3\" >nan</td>\n",
       "      <td id=\"T_2d85d_row36_col4\" class=\"data row36 col4\" >nan</td>\n",
       "      <td id=\"T_2d85d_row36_col5\" class=\"data row36 col5\" >nan</td>\n",
       "      <td id=\"T_2d85d_row36_col6\" class=\"data row36 col6\" >nan</td>\n",
       "    </tr>\n",
       "    <tr>\n",
       "      <th id=\"T_2d85d_level0_row37\" class=\"row_heading level0 row37\" >2012-11-20 09:00:00</th>\n",
       "      <td id=\"T_2d85d_row37_col0\" class=\"data row37 col0\" >nan</td>\n",
       "      <td id=\"T_2d85d_row37_col1\" class=\"data row37 col1\" >nan</td>\n",
       "      <td id=\"T_2d85d_row37_col2\" class=\"data row37 col2\" >nan</td>\n",
       "      <td id=\"T_2d85d_row37_col3\" class=\"data row37 col3\" >nan</td>\n",
       "      <td id=\"T_2d85d_row37_col4\" class=\"data row37 col4\" >nan</td>\n",
       "      <td id=\"T_2d85d_row37_col5\" class=\"data row37 col5\" >nan</td>\n",
       "      <td id=\"T_2d85d_row37_col6\" class=\"data row37 col6\" >nan</td>\n",
       "    </tr>\n",
       "    <tr>\n",
       "      <th id=\"T_2d85d_level0_row38\" class=\"row_heading level0 row38\" >2012-11-20 09:30:00</th>\n",
       "      <td id=\"T_2d85d_row38_col0\" class=\"data row38 col0\" >nan</td>\n",
       "      <td id=\"T_2d85d_row38_col1\" class=\"data row38 col1\" >nan</td>\n",
       "      <td id=\"T_2d85d_row38_col2\" class=\"data row38 col2\" >nan</td>\n",
       "      <td id=\"T_2d85d_row38_col3\" class=\"data row38 col3\" >nan</td>\n",
       "      <td id=\"T_2d85d_row38_col4\" class=\"data row38 col4\" >nan</td>\n",
       "      <td id=\"T_2d85d_row38_col5\" class=\"data row38 col5\" >nan</td>\n",
       "      <td id=\"T_2d85d_row38_col6\" class=\"data row38 col6\" >nan</td>\n",
       "    </tr>\n",
       "    <tr>\n",
       "      <th id=\"T_2d85d_level0_row39\" class=\"row_heading level0 row39\" >2012-11-20 10:00:00</th>\n",
       "      <td id=\"T_2d85d_row39_col0\" class=\"data row39 col0\" >nan</td>\n",
       "      <td id=\"T_2d85d_row39_col1\" class=\"data row39 col1\" >nan</td>\n",
       "      <td id=\"T_2d85d_row39_col2\" class=\"data row39 col2\" >nan</td>\n",
       "      <td id=\"T_2d85d_row39_col3\" class=\"data row39 col3\" >nan</td>\n",
       "      <td id=\"T_2d85d_row39_col4\" class=\"data row39 col4\" >nan</td>\n",
       "      <td id=\"T_2d85d_row39_col5\" class=\"data row39 col5\" >nan</td>\n",
       "      <td id=\"T_2d85d_row39_col6\" class=\"data row39 col6\" >nan</td>\n",
       "    </tr>\n",
       "    <tr>\n",
       "      <th id=\"T_2d85d_level0_row40\" class=\"row_heading level0 row40\" >2012-11-20 10:30:00</th>\n",
       "      <td id=\"T_2d85d_row40_col0\" class=\"data row40 col0\" >nan</td>\n",
       "      <td id=\"T_2d85d_row40_col1\" class=\"data row40 col1\" >nan</td>\n",
       "      <td id=\"T_2d85d_row40_col2\" class=\"data row40 col2\" >nan</td>\n",
       "      <td id=\"T_2d85d_row40_col3\" class=\"data row40 col3\" >nan</td>\n",
       "      <td id=\"T_2d85d_row40_col4\" class=\"data row40 col4\" >nan</td>\n",
       "      <td id=\"T_2d85d_row40_col5\" class=\"data row40 col5\" >nan</td>\n",
       "      <td id=\"T_2d85d_row40_col6\" class=\"data row40 col6\" >nan</td>\n",
       "    </tr>\n",
       "    <tr>\n",
       "      <th id=\"T_2d85d_level0_row41\" class=\"row_heading level0 row41\" >2012-11-20 11:00:00</th>\n",
       "      <td id=\"T_2d85d_row41_col0\" class=\"data row41 col0\" >nan</td>\n",
       "      <td id=\"T_2d85d_row41_col1\" class=\"data row41 col1\" >nan</td>\n",
       "      <td id=\"T_2d85d_row41_col2\" class=\"data row41 col2\" >nan</td>\n",
       "      <td id=\"T_2d85d_row41_col3\" class=\"data row41 col3\" >nan</td>\n",
       "      <td id=\"T_2d85d_row41_col4\" class=\"data row41 col4\" >nan</td>\n",
       "      <td id=\"T_2d85d_row41_col5\" class=\"data row41 col5\" >nan</td>\n",
       "      <td id=\"T_2d85d_row41_col6\" class=\"data row41 col6\" >nan</td>\n",
       "    </tr>\n",
       "    <tr>\n",
       "      <th id=\"T_2d85d_level0_row42\" class=\"row_heading level0 row42\" >2012-11-20 11:30:00</th>\n",
       "      <td id=\"T_2d85d_row42_col0\" class=\"data row42 col0\" >nan</td>\n",
       "      <td id=\"T_2d85d_row42_col1\" class=\"data row42 col1\" >nan</td>\n",
       "      <td id=\"T_2d85d_row42_col2\" class=\"data row42 col2\" >nan</td>\n",
       "      <td id=\"T_2d85d_row42_col3\" class=\"data row42 col3\" >nan</td>\n",
       "      <td id=\"T_2d85d_row42_col4\" class=\"data row42 col4\" >nan</td>\n",
       "      <td id=\"T_2d85d_row42_col5\" class=\"data row42 col5\" >nan</td>\n",
       "      <td id=\"T_2d85d_row42_col6\" class=\"data row42 col6\" >nan</td>\n",
       "    </tr>\n",
       "    <tr>\n",
       "      <th id=\"T_2d85d_level0_row43\" class=\"row_heading level0 row43\" >2012-11-20 12:00:00</th>\n",
       "      <td id=\"T_2d85d_row43_col0\" class=\"data row43 col0\" >nan</td>\n",
       "      <td id=\"T_2d85d_row43_col1\" class=\"data row43 col1\" >nan</td>\n",
       "      <td id=\"T_2d85d_row43_col2\" class=\"data row43 col2\" >nan</td>\n",
       "      <td id=\"T_2d85d_row43_col3\" class=\"data row43 col3\" >nan</td>\n",
       "      <td id=\"T_2d85d_row43_col4\" class=\"data row43 col4\" >nan</td>\n",
       "      <td id=\"T_2d85d_row43_col5\" class=\"data row43 col5\" >nan</td>\n",
       "      <td id=\"T_2d85d_row43_col6\" class=\"data row43 col6\" >nan</td>\n",
       "    </tr>\n",
       "    <tr>\n",
       "      <th id=\"T_2d85d_level0_row44\" class=\"row_heading level0 row44\" >2012-11-20 12:30:00</th>\n",
       "      <td id=\"T_2d85d_row44_col0\" class=\"data row44 col0\" >nan</td>\n",
       "      <td id=\"T_2d85d_row44_col1\" class=\"data row44 col1\" >nan</td>\n",
       "      <td id=\"T_2d85d_row44_col2\" class=\"data row44 col2\" >nan</td>\n",
       "      <td id=\"T_2d85d_row44_col3\" class=\"data row44 col3\" >nan</td>\n",
       "      <td id=\"T_2d85d_row44_col4\" class=\"data row44 col4\" >nan</td>\n",
       "      <td id=\"T_2d85d_row44_col5\" class=\"data row44 col5\" >nan</td>\n",
       "      <td id=\"T_2d85d_row44_col6\" class=\"data row44 col6\" >nan</td>\n",
       "    </tr>\n",
       "    <tr>\n",
       "      <th id=\"T_2d85d_level0_row45\" class=\"row_heading level0 row45\" >2012-11-20 13:00:00</th>\n",
       "      <td id=\"T_2d85d_row45_col0\" class=\"data row45 col0\" >nan</td>\n",
       "      <td id=\"T_2d85d_row45_col1\" class=\"data row45 col1\" >nan</td>\n",
       "      <td id=\"T_2d85d_row45_col2\" class=\"data row45 col2\" >nan</td>\n",
       "      <td id=\"T_2d85d_row45_col3\" class=\"data row45 col3\" >nan</td>\n",
       "      <td id=\"T_2d85d_row45_col4\" class=\"data row45 col4\" >nan</td>\n",
       "      <td id=\"T_2d85d_row45_col5\" class=\"data row45 col5\" >nan</td>\n",
       "      <td id=\"T_2d85d_row45_col6\" class=\"data row45 col6\" >nan</td>\n",
       "    </tr>\n",
       "    <tr>\n",
       "      <th id=\"T_2d85d_level0_row46\" class=\"row_heading level0 row46\" >2012-11-20 13:30:00</th>\n",
       "      <td id=\"T_2d85d_row46_col0\" class=\"data row46 col0\" >nan</td>\n",
       "      <td id=\"T_2d85d_row46_col1\" class=\"data row46 col1\" >nan</td>\n",
       "      <td id=\"T_2d85d_row46_col2\" class=\"data row46 col2\" >nan</td>\n",
       "      <td id=\"T_2d85d_row46_col3\" class=\"data row46 col3\" >nan</td>\n",
       "      <td id=\"T_2d85d_row46_col4\" class=\"data row46 col4\" >nan</td>\n",
       "      <td id=\"T_2d85d_row46_col5\" class=\"data row46 col5\" >nan</td>\n",
       "      <td id=\"T_2d85d_row46_col6\" class=\"data row46 col6\" >nan</td>\n",
       "    </tr>\n",
       "    <tr>\n",
       "      <th id=\"T_2d85d_level0_row47\" class=\"row_heading level0 row47\" >2012-11-20 14:00:00</th>\n",
       "      <td id=\"T_2d85d_row47_col0\" class=\"data row47 col0\" >nan</td>\n",
       "      <td id=\"T_2d85d_row47_col1\" class=\"data row47 col1\" >nan</td>\n",
       "      <td id=\"T_2d85d_row47_col2\" class=\"data row47 col2\" >nan</td>\n",
       "      <td id=\"T_2d85d_row47_col3\" class=\"data row47 col3\" >nan</td>\n",
       "      <td id=\"T_2d85d_row47_col4\" class=\"data row47 col4\" >nan</td>\n",
       "      <td id=\"T_2d85d_row47_col5\" class=\"data row47 col5\" >nan</td>\n",
       "      <td id=\"T_2d85d_row47_col6\" class=\"data row47 col6\" >nan</td>\n",
       "    </tr>\n",
       "    <tr>\n",
       "      <th id=\"T_2d85d_level0_row48\" class=\"row_heading level0 row48\" >2012-11-20 14:30:00</th>\n",
       "      <td id=\"T_2d85d_row48_col0\" class=\"data row48 col0\" >nan</td>\n",
       "      <td id=\"T_2d85d_row48_col1\" class=\"data row48 col1\" >nan</td>\n",
       "      <td id=\"T_2d85d_row48_col2\" class=\"data row48 col2\" >nan</td>\n",
       "      <td id=\"T_2d85d_row48_col3\" class=\"data row48 col3\" >nan</td>\n",
       "      <td id=\"T_2d85d_row48_col4\" class=\"data row48 col4\" >nan</td>\n",
       "      <td id=\"T_2d85d_row48_col5\" class=\"data row48 col5\" >nan</td>\n",
       "      <td id=\"T_2d85d_row48_col6\" class=\"data row48 col6\" >nan</td>\n",
       "    </tr>\n",
       "    <tr>\n",
       "      <th id=\"T_2d85d_level0_row49\" class=\"row_heading level0 row49\" >2012-11-20 15:00:00</th>\n",
       "      <td id=\"T_2d85d_row49_col0\" class=\"data row49 col0\" >nan</td>\n",
       "      <td id=\"T_2d85d_row49_col1\" class=\"data row49 col1\" >nan</td>\n",
       "      <td id=\"T_2d85d_row49_col2\" class=\"data row49 col2\" >nan</td>\n",
       "      <td id=\"T_2d85d_row49_col3\" class=\"data row49 col3\" >nan</td>\n",
       "      <td id=\"T_2d85d_row49_col4\" class=\"data row49 col4\" >nan</td>\n",
       "      <td id=\"T_2d85d_row49_col5\" class=\"data row49 col5\" >nan</td>\n",
       "      <td id=\"T_2d85d_row49_col6\" class=\"data row49 col6\" >nan</td>\n",
       "    </tr>\n",
       "  </tbody>\n",
       "</table>\n",
       " </div></div>"
      ],
      "text/plain": [
       "meteo_imp.kalman.fastai.NormalsDf(mean=                           TA  SW_IN  VPD  PA   P  WS  LW_IN\n",
       "time                                                        \n",
       "2012-11-19 14:30:00       NaN    NaN  NaN NaN NaN NaN    NaN\n",
       "2012-11-19 15:00:00       NaN    NaN  NaN NaN NaN NaN    NaN\n",
       "2012-11-19 15:30:00       NaN    NaN  NaN NaN NaN NaN    NaN\n",
       "2012-11-19 16:00:00       NaN    NaN  NaN NaN NaN NaN    NaN\n",
       "2012-11-19 16:30:00       NaN    NaN  NaN NaN NaN NaN    NaN\n",
       "2012-11-19 17:00:00       NaN    NaN  NaN NaN NaN NaN    NaN\n",
       "2012-11-19 17:30:00       NaN    NaN  NaN NaN NaN NaN    NaN\n",
       "2012-11-19 18:00:00       NaN    NaN  NaN NaN NaN NaN    NaN\n",
       "2012-11-19 18:30:00       NaN    NaN  NaN NaN NaN NaN    NaN\n",
       "2012-11-19 19:00:00       NaN    NaN  NaN NaN NaN NaN    NaN\n",
       "2012-11-19 19:30:00       NaN    NaN  NaN NaN NaN NaN    NaN\n",
       "2012-11-19 20:00:00       NaN    NaN  NaN NaN NaN NaN    NaN\n",
       "2012-11-19 20:30:00       NaN    NaN  NaN NaN NaN NaN    NaN\n",
       "2012-11-19 21:00:00       NaN    NaN  NaN NaN NaN NaN    NaN\n",
       "2012-11-19 21:30:00       NaN    NaN  NaN NaN NaN NaN    NaN\n",
       "2012-11-19 22:00:00       NaN    NaN  NaN NaN NaN NaN    NaN\n",
       "2012-11-19 22:30:00       NaN    NaN  NaN NaN NaN NaN    NaN\n",
       "2012-11-19 23:00:00       NaN    NaN  NaN NaN NaN NaN    NaN\n",
       "2012-11-19 23:30:00       NaN    NaN  NaN NaN NaN NaN    NaN\n",
       "2012-11-20 00:00:00       NaN    NaN  NaN NaN NaN NaN    NaN\n",
       "2012-11-20 00:30:00       NaN    NaN  NaN NaN NaN NaN    NaN\n",
       "2012-11-20 01:00:00       NaN    NaN  NaN NaN NaN NaN    NaN\n",
       "2012-11-20 01:30:00       NaN    NaN  NaN NaN NaN NaN    NaN\n",
       "2012-11-20 02:00:00       NaN    NaN  NaN NaN NaN NaN    NaN\n",
       "2012-11-20 02:30:00       NaN    NaN  NaN NaN NaN NaN    NaN\n",
       "2012-11-20 03:00:00  3.766978    NaN  NaN NaN NaN NaN    NaN\n",
       "2012-11-20 03:30:00  4.383485    NaN  NaN NaN NaN NaN    NaN\n",
       "2012-11-20 04:00:00  4.887822    NaN  NaN NaN NaN NaN    NaN\n",
       "2012-11-20 04:30:00  5.224618    NaN  NaN NaN NaN NaN    NaN\n",
       "2012-11-20 05:00:00  5.170468    NaN  NaN NaN NaN NaN    NaN\n",
       "2012-11-20 05:30:00       NaN    NaN  NaN NaN NaN NaN    NaN\n",
       "2012-11-20 06:00:00       NaN    NaN  NaN NaN NaN NaN    NaN\n",
       "2012-11-20 06:30:00       NaN    NaN  NaN NaN NaN NaN    NaN\n",
       "2012-11-20 07:00:00       NaN    NaN  NaN NaN NaN NaN    NaN\n",
       "2012-11-20 07:30:00       NaN    NaN  NaN NaN NaN NaN    NaN\n",
       "2012-11-20 08:00:00       NaN    NaN  NaN NaN NaN NaN    NaN\n",
       "2012-11-20 08:30:00       NaN    NaN  NaN NaN NaN NaN    NaN\n",
       "2012-11-20 09:00:00       NaN    NaN  NaN NaN NaN NaN    NaN\n",
       "2012-11-20 09:30:00       NaN    NaN  NaN NaN NaN NaN    NaN\n",
       "2012-11-20 10:00:00       NaN    NaN  NaN NaN NaN NaN    NaN\n",
       "2012-11-20 10:30:00       NaN    NaN  NaN NaN NaN NaN    NaN\n",
       "2012-11-20 11:00:00       NaN    NaN  NaN NaN NaN NaN    NaN\n",
       "2012-11-20 11:30:00       NaN    NaN  NaN NaN NaN NaN    NaN\n",
       "2012-11-20 12:00:00       NaN    NaN  NaN NaN NaN NaN    NaN\n",
       "2012-11-20 12:30:00       NaN    NaN  NaN NaN NaN NaN    NaN\n",
       "2012-11-20 13:00:00       NaN    NaN  NaN NaN NaN NaN    NaN\n",
       "2012-11-20 13:30:00       NaN    NaN  NaN NaN NaN NaN    NaN\n",
       "2012-11-20 14:00:00       NaN    NaN  NaN NaN NaN NaN    NaN\n",
       "2012-11-20 14:30:00       NaN    NaN  NaN NaN NaN NaN    NaN\n",
       "2012-11-20 15:00:00       NaN    NaN  NaN NaN NaN NaN    NaN, std=                           TA  SW_IN  VPD  PA   P  WS  LW_IN\n",
       "time                                                        \n",
       "2012-11-19 14:30:00       NaN    NaN  NaN NaN NaN NaN    NaN\n",
       "2012-11-19 15:00:00       NaN    NaN  NaN NaN NaN NaN    NaN\n",
       "2012-11-19 15:30:00       NaN    NaN  NaN NaN NaN NaN    NaN\n",
       "2012-11-19 16:00:00       NaN    NaN  NaN NaN NaN NaN    NaN\n",
       "2012-11-19 16:30:00       NaN    NaN  NaN NaN NaN NaN    NaN\n",
       "2012-11-19 17:00:00       NaN    NaN  NaN NaN NaN NaN    NaN\n",
       "2012-11-19 17:30:00       NaN    NaN  NaN NaN NaN NaN    NaN\n",
       "2012-11-19 18:00:00       NaN    NaN  NaN NaN NaN NaN    NaN\n",
       "2012-11-19 18:30:00       NaN    NaN  NaN NaN NaN NaN    NaN\n",
       "2012-11-19 19:00:00       NaN    NaN  NaN NaN NaN NaN    NaN\n",
       "2012-11-19 19:30:00       NaN    NaN  NaN NaN NaN NaN    NaN\n",
       "2012-11-19 20:00:00       NaN    NaN  NaN NaN NaN NaN    NaN\n",
       "2012-11-19 20:30:00       NaN    NaN  NaN NaN NaN NaN    NaN\n",
       "2012-11-19 21:00:00       NaN    NaN  NaN NaN NaN NaN    NaN\n",
       "2012-11-19 21:30:00       NaN    NaN  NaN NaN NaN NaN    NaN\n",
       "2012-11-19 22:00:00       NaN    NaN  NaN NaN NaN NaN    NaN\n",
       "2012-11-19 22:30:00       NaN    NaN  NaN NaN NaN NaN    NaN\n",
       "2012-11-19 23:00:00       NaN    NaN  NaN NaN NaN NaN    NaN\n",
       "2012-11-19 23:30:00       NaN    NaN  NaN NaN NaN NaN    NaN\n",
       "2012-11-20 00:00:00       NaN    NaN  NaN NaN NaN NaN    NaN\n",
       "2012-11-20 00:30:00       NaN    NaN  NaN NaN NaN NaN    NaN\n",
       "2012-11-20 01:00:00       NaN    NaN  NaN NaN NaN NaN    NaN\n",
       "2012-11-20 01:30:00       NaN    NaN  NaN NaN NaN NaN    NaN\n",
       "2012-11-20 02:00:00       NaN    NaN  NaN NaN NaN NaN    NaN\n",
       "2012-11-20 02:30:00       NaN    NaN  NaN NaN NaN NaN    NaN\n",
       "2012-11-20 03:00:00  3.332600    NaN  NaN NaN NaN NaN    NaN\n",
       "2012-11-20 03:30:00  4.598985    NaN  NaN NaN NaN NaN    NaN\n",
       "2012-11-20 04:00:00  5.031734    NaN  NaN NaN NaN NaN    NaN\n",
       "2012-11-20 04:30:00  4.598985    NaN  NaN NaN NaN NaN    NaN\n",
       "2012-11-20 05:00:00  3.332600    NaN  NaN NaN NaN NaN    NaN\n",
       "2012-11-20 05:30:00       NaN    NaN  NaN NaN NaN NaN    NaN\n",
       "2012-11-20 06:00:00       NaN    NaN  NaN NaN NaN NaN    NaN\n",
       "2012-11-20 06:30:00       NaN    NaN  NaN NaN NaN NaN    NaN\n",
       "2012-11-20 07:00:00       NaN    NaN  NaN NaN NaN NaN    NaN\n",
       "2012-11-20 07:30:00       NaN    NaN  NaN NaN NaN NaN    NaN\n",
       "2012-11-20 08:00:00       NaN    NaN  NaN NaN NaN NaN    NaN\n",
       "2012-11-20 08:30:00       NaN    NaN  NaN NaN NaN NaN    NaN\n",
       "2012-11-20 09:00:00       NaN    NaN  NaN NaN NaN NaN    NaN\n",
       "2012-11-20 09:30:00       NaN    NaN  NaN NaN NaN NaN    NaN\n",
       "2012-11-20 10:00:00       NaN    NaN  NaN NaN NaN NaN    NaN\n",
       "2012-11-20 10:30:00       NaN    NaN  NaN NaN NaN NaN    NaN\n",
       "2012-11-20 11:00:00       NaN    NaN  NaN NaN NaN NaN    NaN\n",
       "2012-11-20 11:30:00       NaN    NaN  NaN NaN NaN NaN    NaN\n",
       "2012-11-20 12:00:00       NaN    NaN  NaN NaN NaN NaN    NaN\n",
       "2012-11-20 12:30:00       NaN    NaN  NaN NaN NaN NaN    NaN\n",
       "2012-11-20 13:00:00       NaN    NaN  NaN NaN NaN NaN    NaN\n",
       "2012-11-20 13:30:00       NaN    NaN  NaN NaN NaN NaN    NaN\n",
       "2012-11-20 14:00:00       NaN    NaN  NaN NaN NaN NaN    NaN\n",
       "2012-11-20 14:30:00       NaN    NaN  NaN NaN NaN NaN    NaN\n",
       "2012-11-20 15:00:00       NaN    NaN  NaN NaN NaN NaN    NaN)"
      ]
     },
     "execution_count": null,
     "metadata": {},
     "output_type": "execute_result"
    }
   ],
   "source": [
    "pred"
   ]
  },
  {
   "cell_type": "code",
   "execution_count": null,
   "id": "9843e967-264d-42f2-99c0-cd522781cc41",
   "metadata": {},
   "outputs": [],
   "source": [
    "test_close(normalize(targs[0].data, "
   ]
  },
  {
   "cell_type": "code",
   "execution_count": null,
   "id": "b3d0639e-56de-407e-8415-f21651488eae",
   "metadata": {},
   "outputs": [],
   "source": [
    "p = preds[0][0]"
   ]
  },
  {
   "cell_type": "code",
   "execution_count": null,
   "id": "691f5552-fa04-4351-9dfc-19ea7e169797",
   "metadata": {},
   "outputs": [],
   "source": [
    "pk = p.mean[~input[1][0].numpy()]"
   ]
  },
  {
   "cell_type": "code",
   "execution_count": null,
   "id": "47890795-55b2-468d-a207-28ed7b0b674e",
   "metadata": {},
   "outputs": [],
   "source": [
    "tk = targ[0].data[~input[1][0].numpy()]"
   ]
  },
  {
   "cell_type": "code",
   "execution_count": null,
   "id": "68b8d0ff-80e9-4591-b4a6-126457bb1300",
   "metadata": {},
   "outputs": [],
   "source": [
    "pn = normalize(pk, *get_stats(haiB))"
   ]
  },
  {
   "cell_type": "code",
   "execution_count": null,
   "id": "a13afab2-2dab-4615-86a2-4487bde3fcce",
   "metadata": {},
   "outputs": [],
   "source": [
    "tn = normalize(tk, *get_stats(haiB))"
   ]
  },
  {
   "cell_type": "code",
   "execution_count": null,
   "id": "2c5402aa-72db-4c88-bb9f-348e411b3ee8",
   "metadata": {},
   "outputs": [
    {
     "data": {
      "text/plain": [
       "TA       0.406575\n",
       "SW_IN         NaN\n",
       "VPD           NaN\n",
       "PA            NaN\n",
       "P             NaN\n",
       "WS            NaN\n",
       "LW_IN         NaN\n",
       "dtype: float64"
      ]
     },
     "execution_count": null,
     "metadata": {},
     "output_type": "execute_result"
    }
   ],
   "source": [
    "np.sqrt((pk - tk).pow(2).mean())"
   ]
  },
  {
   "cell_type": "code",
   "execution_count": null,
   "id": "271537c6-e74e-4e33-9af4-7100d46422d9",
   "metadata": {},
   "outputs": [
    {
     "data": {
      "text/plain": [
       "TA       0.051305\n",
       "SW_IN         NaN\n",
       "VPD           NaN\n",
       "PA            NaN\n",
       "P             NaN\n",
       "WS            NaN\n",
       "LW_IN         NaN\n",
       "dtype: float64"
      ]
     },
     "execution_count": null,
     "metadata": {},
     "output_type": "execute_result"
    }
   ],
   "source": [
    "np.sqrt((pn - tn).pow(2).mean())"
   ]
  },
  {
   "cell_type": "code",
   "execution_count": null,
   "id": "43d0125d-6141-46ac-a59e-820c607ffd38",
   "metadata": {},
   "outputs": [
    {
     "data": {
      "text/plain": [
       "tensor([8.3339e+00, 1.2096e+02, 3.3807e+00, 9.5962e+01, 4.3427e-02, 3.1800e+00,\n",
       "        3.1150e+02], dtype=torch.float64)"
      ]
     },
     "execution_count": null,
     "metadata": {},
     "output_type": "execute_result"
    }
   ],
   "source": [
    "get_stats(haiB)[0]"
   ]
  },
  {
   "cell_type": "code",
   "execution_count": null,
   "id": "9c1f6429-7b1a-4393-b470-e8efc59c7ce3",
   "metadata": {},
   "outputs": [
    {
     "data": {
      "text/plain": [
       "tensor(8.3339, dtype=torch.float64)"
      ]
     },
     "execution_count": null,
     "metadata": {},
     "output_type": "execute_result"
    }
   ],
   "source": [
    "dls_TA.fs[4].mean_data[0]"
   ]
  },
  {
   "cell_type": "code",
   "execution_count": null,
   "id": "dad52498-03b4-4aac-a8d6-bf7dc6f1cab1",
   "metadata": {},
   "outputs": [],
   "source": [
    "#| export\n",
    "class ImpMetric(AvgMetric):\n",
    "    def __init__(self, metric, base_name, only_gap=False, flatten=False):\n",
    "        store_attr()\n",
    "    @property\n",
    "    def name(self): return  self.base_name + (\"_gap\" if self.only_gap else \"\")\n",
    "    def _metric_batch(self, pred, targ):\n",
    "        return self.metric(pred, targ)\n",
    "    def _metric_batch_gap(self, pred_list, targ, mask):\n",
    "        targ, mask = get_only_gap(mask, targ, mask)\n",
    "        assert len(pred_list) == len(targ)\n",
    "        pred = torch.vstack(pred_list) # convert to tensor\n",
    "        row_sel, col_sel = ~mask.all(1), ~mask.all(0)\n",
    "        assert not mask[:, col_sel][row_sel, :].any(), \"More than 1 gap uniform not supported\"\n",
    "        return self.metric(pred[:, col_sel[col_sel]][row_sel, :], targ[:, col_sel][row_sel, :])\n",
    "    def __call__(self, *args): return self.func(*args)\n",
    "    def func(self, pred: NormalsParams, targ: MeteoImpTensor):\n",
    "        mean, _ = pred\n",
    "        data, mask, _ = targ\n",
    "        metric_values = torch.empty(len(mean))\n",
    "        for i in range(metric_values.shape[0]):\n",
    "            metric_values[i] = (self._metric_batch_gap(mean[i], data[i], mask[i]) if self.only_gap\n",
    "            else self._metric_batch(mean[i], data[i]))\n",
    "        return metric_values.mean().item()\n",
    "    "
   ]
  },
  {
   "cell_type": "code",
   "execution_count": null,
   "id": "cf8a58dd-e40d-40c4-ae3d-f9fe9f15e9eb",
   "metadata": {},
   "outputs": [],
   "source": []
  },
  {
   "cell_type": "code",
   "execution_count": null,
   "id": "ab608a03-1786-452d-ab94-c7d994de99c8",
   "metadata": {},
   "outputs": [],
   "source": [
    "input, _ = one_batch_with_items(dls_TA, dls_TA.items)"
   ]
  },
  {
   "cell_type": "code",
   "execution_count": null,
   "id": "8023634c-d380-49da-85c8-8faeb7ebd88e",
   "metadata": {},
   "outputs": [],
   "source": [
    "preds = learn_TA.model(input)"
   ]
  },
  {
   "cell_type": "code",
   "execution_count": null,
   "id": "4e94bac7-b207-46cb-92bc-748244f6dd66",
   "metadata": {},
   "outputs": [
    {
     "data": {
      "text/plain": [
       "<meteo_imp.kalman.fastai.ImpMetric>"
      ]
     },
     "execution_count": null,
     "metadata": {},
     "output_type": "execute_result"
    }
   ],
   "source": [
    "learn_TA.metrics[0]"
   ]
  },
  {
   "cell_type": "code",
   "execution_count": null,
   "id": "071ffa74-a648-4c6f-81df-200dfd16cb57",
   "metadata": {},
   "outputs": [
    {
     "data": {
      "image/png": "[encoded data removed]",
      "text/plain": [
       "<Figure size 432x288 with 1 Axes>"
      ]
     },
     "metadata": {
      "needs_background": "light"
     },
     "output_type": "display_data"
    }
   ],
   "source": [
    "learn_TA.recorder.plot_loss()"
   ]
  },
  {
   "cell_type": "code",
   "execution_count": null,
   "id": "0bd84f70-ba3e-4598-8c74-722116c59691",
   "metadata": {},
   "outputs": [],
   "source": [
    "# torch.save(learn_TA.model, \"trained_3_feb_TA_gap_5_v3.pickle\")"
   ]
  },
  {
   "cell_type": "code",
   "execution_count": null,
   "id": "f8c737bb-fea6-4637-ac73-138a30b2a91a",
   "metadata": {},
   "outputs": [],
   "source": [
    "# learnB.export(\"trained_2_feb_gap_all_var_v1\")"
   ]
  },
  {
   "cell_type": "code",
   "execution_count": null,
   "id": "d7ffbebf-168a-4bfb-ad22-d48f7ea7bcc4",
   "metadata": {},
   "outputs": [],
   "source": []
  },
  {
   "cell_type": "code",
   "execution_count": null,
   "id": "a34950e1-1493-4df8-99a2-62a23ba89a17",
   "metadata": {},
   "outputs": [
    {
     "name": "stderr",
     "output_type": "stream",
     "text": [
      "/home/simone/anaconda3/envs/data-science/lib/python3.10/site-packages/fastai/callback/core.py:69: UserWarning: You are shadowing an attribute (__class__) that exists in the learner. Use `self.learn.__class__` to avoid this\n",
      "  warn(f\"You are shadowing an attribute ({name}) that exists in the learner. Use `self.learn.{name}` to avoid this\")\n"
     ]
    },
    {
     "data": {
      "application/vnd.jupyter.widget-view+json": {
       "model_id": "f5cf2872568b4fe1bae790aaec3e51ad",
       "version_major": 2,
       "version_minor": 0
      },
      "text/plain": [
       "  0%|          | 0/10 [00:00<?, ?it/s]"
      ]
     },
     "metadata": {},
     "output_type": "display_data"
    }
   ],
   "source": [
    "step_plots = save_models_TA.show_results(learn_TA, items= items_TA, hide_no_gap=True, control_map=control_map)"
   ]
  },
  {
   "cell_type": "code",
   "execution_count": null,
   "id": "ce563e07-1cce-47dc-a5ed-bc30d383f734",
   "metadata": {},
   "outputs": [
    {
     "data": {
      "text/plain": [
       "[MeteoImpItem(i=3877, shift=15, var_sel=['TA'], gap_len=5),\n",
       " MeteoImpItem(i=3922, shift=-25, var_sel=['TA'], gap_len=5),\n",
       " MeteoImpItem(i=4076, shift=5, var_sel=['TA'], gap_len=5),\n",
       " MeteoImpItem(i=4462, shift=15, var_sel=['TA'], gap_len=5)]"
      ]
     },
     "execution_count": null,
     "metadata": {},
     "output_type": "execute_result"
    }
   ],
   "source": [
    "items_TA"
   ]
  },
  {
   "cell_type": "code",
   "execution_count": null,
   "id": "614c9451-f60d-4954-89a3-31a8a08846df",
   "metadata": {},
   "outputs": [
    {
     "data": {
      "application/vnd.jupyter.widget-view+json": {
       "model_id": "87e7fccd7bef4e8db5fcdceb2fce09e1",
       "version_major": 2,
       "version_minor": 0
      },
      "text/plain": [
       "VBox(children=(HBox(children=(IntSlider(value=0, max=9), Label(value='of 9'))), HBox(children=(Button(descript…"
      ]
     },
     "metadata": {},
     "output_type": "display_data"
    },
    {
     "data": {
      "application/vnd.jupyter.widget-view+json": {
       "model_id": "5eef1d0026d54376abcbd2b365763450",
       "version_major": 2,
       "version_minor": 0
      },
      "text/plain": [
       "Output()"
      ]
     },
     "metadata": {},
     "output_type": "display_data"
    }
   ],
   "source": [
    "InteractiveSequence(step_plots)()"
   ]
  },
  {
   "cell_type": "code",
   "execution_count": null,
   "id": "338cc676-f054-4bf5-a935-5a0c9321cb9f",
   "metadata": {},
   "outputs": [],
   "source": [
    "items0 = [MeteoImpItem(i=3941, shift=5, var_sel=['TA'], gap_len=5),\n",
    " MeteoImpItem(i=3944, shift=-15, var_sel=['TA'], gap_len=5),\n",
    " MeteoImpItem(i=3869, shift=-25, var_sel=['TA'], gap_len=5),\n",
    " MeteoImpItem(i=4310, shift=-25, var_sel=['TA'], gap_len=5)]"
   ]
  },
  {
   "cell_type": "code",
   "execution_count": null,
   "id": "ac48c9f6-cf03-4682-ba7e-c13a81ecb19f",
   "metadata": {},
   "outputs": [],
   "source": [
    "items0[0] = items_TA[0]"
   ]
  },
  {
   "cell_type": "code",
   "execution_count": null,
   "id": "88fe3fe3-9e85-47ef-bf07-8f40158df7d9",
   "metadata": {},
   "outputs": [
    {
     "data": {
      "text/html": [
       "\n",
       "<div id=\"altair-viz-4d9c5140448a44c79f78b3ef33ff33e9\"></div>\n",
       "<script type=\"text/javascript\">\n",
       "  var VEGA_DEBUG = (typeof VEGA_DEBUG == \"undefined\") ? {} : VEGA_DEBUG;\n",
       "  (function(spec, embedOpt){\n",
       "    let outputDiv = document.currentScript.previousElementSibling;\n",
       "    if (outputDiv.id !== \"altair-viz-4d9c5140448a44c79f78b3ef33ff33e9\") {\n",
       "      outputDiv = document.getElementById(\"altair-viz-4d9c5140448a44c79f78b3ef33ff33e9\");\n",
       "    }\n",
       "    const paths = {\n",
       "      \"vega\": \"https://cdn.jsdelivr.net/npm//vega@5?noext\",\n",
       "      \"vega-lib\": \"https://cdn.jsdelivr.net/npm//vega-lib?noext\",\n",
       "      \"vega-lite\": \"https://cdn.jsdelivr.net/npm//vega-lite@5.2.0?noext\",\n",
       "      \"vega-embed\": \"https://cdn.jsdelivr.net/npm//vega-embed@6?noext\",\n",
       "    };\n",
       "\n",
       "    function maybeLoadScript(lib, version) {\n",
       "      var key = `${lib.replace(\"-\", \"\")}_version`;\n",
       "      return (VEGA_DEBUG[key] == version) ?\n",
       "        Promise.resolve(paths[lib]) :\n",
       "        new Promise(function(resolve, reject) {\n",
       "          var s = document.createElement('script');\n",
       "          document.getElementsByTagName(\"head\")[0].appendChild(s);\n",
       "          s.async = true;\n",
       "          s.onload = () => {\n",
       "            VEGA_DEBUG[key] = version;\n",
       "            return resolve(paths[lib]);\n",
       "          };\n",
       "          s.onerror = () => reject(`Error loading script: ${paths[lib]}`);\n",
       "          s.src = paths[lib];\n",
       "        });\n",
       "    }\n",
       "\n",
       "    function showError(err) {\n",
       "      outputDiv.innerHTML = `<div class=\"error\" style=\"color:red;\">${err}</div>`;\n",
       "      throw err;\n",
       "    }\n",
       "\n",
       "    function displayChart(vegaEmbed) {\n",
       "      vegaEmbed(outputDiv, spec, embedOpt)\n",
       "        .catch(err => showError(`Javascript Error: ${err.message}<br>This usually means there's a typo in your chart specification. See the javascript console for the full traceback.`));\n",
       "    }\n",
       "\n",
       "    if(typeof define === \"function\" && define.amd) {\n",
       "      requirejs.config({paths});\n",
       "      require([\"vega-embed\"], displayChart, err => showError(`Error loading script: ${err.message}`));\n",
       "    } else {\n",
       "      maybeLoadScript(\"vega\", \"5\")\n",
       "        .then(() => maybeLoadScript(\"vega-lite\", \"5.2.0\"))\n",
       "        .then(() => maybeLoadScript(\"vega-embed\", \"6\"))\n",
       "        .catch(showError)\n",
       "        .then(() => displayChart(vegaEmbed));\n",
       "    }\n",
       "  })({\"config\": {\"view\": {\"continuousWidth\": 400, \"continuousHeight\": 300}}, \"hconcat\": [{\"vconcat\": [{\"hconcat\": [{\"layer\": [{\"data\": {\"name\": \"data-b0ed8e96885658db607d2a614a26775d\"}, \"mark\": {\"type\": \"point\", \"color\": \"black\", \"fillOpacity\": 1, \"strokeWidth\": 1}, \"encoding\": {\"fill\": {\"field\": \"is_present\", \"legend\": {\"title\": [\"Observed data\"]}, \"scale\": {\"range\": [\"black\", \"#ffffff00\"]}, \"type\": \"nominal\"}, \"shape\": {\"field\": \"is_present\", \"type\": \"nominal\"}, \"x\": {\"axis\": {\"domain\": true, \"labels\": true, \"ticks\": true, \"title\": \"time\"}, \"field\": \"time\", \"type\": \"temporal\"}, \"y\": {\"field\": \"value\", \"scale\": {\"zero\": false}, \"title\": \"TA\", \"type\": \"quantitative\"}}}, {\"layer\": [{\"mark\": \"rule\", \"encoding\": {\"x\": {\"axis\": {\"domain\": false, \"labels\": false, \"ticks\": false, \"title\": null}, \"field\": \"gap_start\", \"type\": \"temporal\"}}}, {\"mark\": \"rule\", \"encoding\": {\"x\": {\"axis\": {\"domain\": false, \"labels\": false, \"ticks\": false, \"title\": null}, \"field\": \"gap_end\", \"type\": \"temporal\"}}}, {\"mark\": {\"type\": \"rect\", \"color\": \"black\", \"opacity\": 0.15}, \"encoding\": {\"x\": {\"axis\": {\"domain\": false, \"labels\": false, \"ticks\": false, \"title\": null}, \"field\": \"gap_start\", \"type\": \"temporal\"}, \"x2\": {\"field\": \"gap_end\"}}}], \"data\": {\"name\": \"data-af2d002b07a0c0af76c92875bc200939\"}}, {\"data\": {\"name\": \"data-b0ed8e96885658db607d2a614a26775d\"}, \"mark\": \"errorband\", \"encoding\": {\"color\": {\"field\": \"variable\", \"legend\": {\"title\": [\"Line: pred. mean\", \"area: +/- 2 std\"]}, \"scale\": {\"domain\": [\"TA\", \"SW_IN\", \"VPD\", \"PA\", \"P\", \"WS\", \"LW_IN\"], \"range\": [\"#1B9E77\", \"#D95F02\", \"#7570B3\", \"#E7298A\", \"#66A61E\", \"#E6AB02\", \"#A6761D\", \"#666666\"]}, \"type\": \"nominal\"}, \"x\": {\"field\": \"time\", \"type\": \"temporal\"}, \"y\": {\"field\": \"err_low\", \"scale\": {\"zero\": false}, \"title\": \"TA\", \"type\": \"quantitative\"}, \"y2\": {\"field\": \"err_high\"}}, \"name\": \"view_1\"}, {\"data\": {\"name\": \"data-b0ed8e96885658db607d2a614a26775d\"}, \"mark\": {\"type\": \"line\", \"color\": \"purple\", \"strokeDash\": [4, 6]}, \"encoding\": {\"x\": {\"field\": \"time\", \"type\": \"temporal\"}, \"y\": {\"field\": \"control\", \"scale\": {\"zero\": false}, \"title\": \"TA\", \"type\": \"quantitative\"}}}, {\"data\": {\"name\": \"data-b0ed8e96885658db607d2a614a26775d\"}, \"mark\": \"line\", \"encoding\": {\"color\": {\"field\": \"variable\", \"scale\": {\"domain\": [\"TA\", \"SW_IN\", \"VPD\", \"PA\", \"P\", \"WS\", \"LW_IN\"], \"range\": [\"#1B9E77\", \"#D95F02\", \"#7570B3\", \"#E7298A\", \"#66A61E\", \"#E6AB02\", \"#A6761D\", \"#666666\"]}, \"type\": \"nominal\"}, \"x\": {\"field\": \"time\", \"type\": \"temporal\"}, \"y\": {\"field\": \"mean\", \"scale\": {\"zero\": false}, \"title\": \"TA\", \"type\": \"quantitative\"}}}], \"height\": 150, \"title\": \"\", \"width\": 200}]}], \"title\": \"\"}, {\"vconcat\": [{\"hconcat\": [{\"layer\": [{\"data\": {\"name\": \"data-a626e0712dfde769a24f67c88674536f\"}, \"mark\": {\"type\": \"point\", \"color\": \"black\", \"fillOpacity\": 1, \"strokeWidth\": 1}, \"encoding\": {\"fill\": {\"field\": \"is_present\", \"legend\": {\"title\": [\"Observed data\"]}, \"scale\": {\"range\": [\"black\", \"#ffffff00\"]}, \"type\": \"nominal\"}, \"shape\": {\"field\": \"is_present\", \"type\": \"nominal\"}, \"x\": {\"axis\": {\"domain\": true, \"labels\": true, \"ticks\": true, \"title\": \"time\"}, \"field\": \"time\", \"type\": \"temporal\"}, \"y\": {\"field\": \"value\", \"scale\": {\"zero\": false}, \"title\": \"TA\", \"type\": \"quantitative\"}}}, {\"layer\": [{\"mark\": \"rule\", \"encoding\": {\"x\": {\"axis\": {\"domain\": false, \"labels\": false, \"ticks\": false, \"title\": null}, \"field\": \"gap_start\", \"type\": \"temporal\"}}}, {\"mark\": \"rule\", \"encoding\": {\"x\": {\"axis\": {\"domain\": false, \"labels\": false, \"ticks\": false, \"title\": null}, \"field\": \"gap_end\", \"type\": \"temporal\"}}}, {\"mark\": {\"type\": \"rect\", \"color\": \"black\", \"opacity\": 0.15}, \"encoding\": {\"x\": {\"axis\": {\"domain\": false, \"labels\": false, \"ticks\": false, \"title\": null}, \"field\": \"gap_start\", \"type\": \"temporal\"}, \"x2\": {\"field\": \"gap_end\"}}}], \"data\": {\"name\": \"data-b072fa5111993ebaaaf7cd009d897eba\"}}, {\"data\": {\"name\": \"data-a626e0712dfde769a24f67c88674536f\"}, \"mark\": \"errorband\", \"encoding\": {\"color\": {\"field\": \"variable\", \"legend\": {\"title\": [\"Line: pred. mean\", \"area: +/- 2 std\"]}, \"scale\": {\"domain\": [\"TA\", \"SW_IN\", \"VPD\", \"PA\", \"P\", \"WS\", \"LW_IN\"], \"range\": [\"#1B9E77\", \"#D95F02\", \"#7570B3\", \"#E7298A\", \"#66A61E\", \"#E6AB02\", \"#A6761D\", \"#666666\"]}, \"type\": \"nominal\"}, \"x\": {\"field\": \"time\", \"type\": \"temporal\"}, \"y\": {\"field\": \"err_low\", \"scale\": {\"zero\": false}, \"title\": \"TA\", \"type\": \"quantitative\"}, \"y2\": {\"field\": \"err_high\"}}, \"name\": \"view_2\"}, {\"data\": {\"name\": \"data-a626e0712dfde769a24f67c88674536f\"}, \"mark\": {\"type\": \"line\", \"color\": \"purple\", \"strokeDash\": [4, 6]}, \"encoding\": {\"x\": {\"field\": \"time\", \"type\": \"temporal\"}, \"y\": {\"field\": \"control\", \"scale\": {\"zero\": false}, \"title\": \"TA\", \"type\": \"quantitative\"}}}, {\"data\": {\"name\": \"data-a626e0712dfde769a24f67c88674536f\"}, \"mark\": \"line\", \"encoding\": {\"color\": {\"field\": \"variable\", \"scale\": {\"domain\": [\"TA\", \"SW_IN\", \"VPD\", \"PA\", \"P\", \"WS\", \"LW_IN\"], \"range\": [\"#1B9E77\", \"#D95F02\", \"#7570B3\", \"#E7298A\", \"#66A61E\", \"#E6AB02\", \"#A6761D\", \"#666666\"]}, \"type\": \"nominal\"}, \"x\": {\"field\": \"time\", \"type\": \"temporal\"}, \"y\": {\"field\": \"mean\", \"scale\": {\"zero\": false}, \"title\": \"TA\", \"type\": \"quantitative\"}}}], \"height\": 150, \"title\": \"\", \"width\": 200}]}], \"title\": \"\"}, {\"vconcat\": [{\"hconcat\": [{\"layer\": [{\"data\": {\"name\": \"data-24b178abfb710cccb0892c56d39e8025\"}, \"mark\": {\"type\": \"point\", \"color\": \"black\", \"fillOpacity\": 1, \"strokeWidth\": 1}, \"encoding\": {\"fill\": {\"field\": \"is_present\", \"legend\": {\"title\": [\"Observed data\"]}, \"scale\": {\"range\": [\"black\", \"#ffffff00\"]}, \"type\": \"nominal\"}, \"shape\": {\"field\": \"is_present\", \"type\": \"nominal\"}, \"x\": {\"axis\": {\"domain\": true, \"labels\": true, \"ticks\": true, \"title\": \"time\"}, \"field\": \"time\", \"type\": \"temporal\"}, \"y\": {\"field\": \"value\", \"scale\": {\"zero\": false}, \"title\": \"TA\", \"type\": \"quantitative\"}}}, {\"layer\": [{\"mark\": \"rule\", \"encoding\": {\"x\": {\"axis\": {\"domain\": false, \"labels\": false, \"ticks\": false, \"title\": null}, \"field\": \"gap_start\", \"type\": \"temporal\"}}}, {\"mark\": \"rule\", \"encoding\": {\"x\": {\"axis\": {\"domain\": false, \"labels\": false, \"ticks\": false, \"title\": null}, \"field\": \"gap_end\", \"type\": \"temporal\"}}}, {\"mark\": {\"type\": \"rect\", \"color\": \"black\", \"opacity\": 0.15}, \"encoding\": {\"x\": {\"axis\": {\"domain\": false, \"labels\": false, \"ticks\": false, \"title\": null}, \"field\": \"gap_start\", \"type\": \"temporal\"}, \"x2\": {\"field\": \"gap_end\"}}}], \"data\": {\"name\": \"data-fb9866511db326c01af1316717182638\"}}, {\"data\": {\"name\": \"data-24b178abfb710cccb0892c56d39e8025\"}, \"mark\": \"errorband\", \"encoding\": {\"color\": {\"field\": \"variable\", \"legend\": {\"title\": [\"Line: pred. mean\", \"area: +/- 2 std\"]}, \"scale\": {\"domain\": [\"TA\", \"SW_IN\", \"VPD\", \"PA\", \"P\", \"WS\", \"LW_IN\"], \"range\": [\"#1B9E77\", \"#D95F02\", \"#7570B3\", \"#E7298A\", \"#66A61E\", \"#E6AB02\", \"#A6761D\", \"#666666\"]}, \"type\": \"nominal\"}, \"x\": {\"field\": \"time\", \"type\": \"temporal\"}, \"y\": {\"field\": \"err_low\", \"scale\": {\"zero\": false}, \"title\": \"TA\", \"type\": \"quantitative\"}, \"y2\": {\"field\": \"err_high\"}}, \"name\": \"view_3\"}, {\"data\": {\"name\": \"data-24b178abfb710cccb0892c56d39e8025\"}, \"mark\": {\"type\": \"line\", \"color\": \"purple\", \"strokeDash\": [4, 6]}, \"encoding\": {\"x\": {\"field\": \"time\", \"type\": \"temporal\"}, \"y\": {\"field\": \"control\", \"scale\": {\"zero\": false}, \"title\": \"TA\", \"type\": \"quantitative\"}}}, {\"data\": {\"name\": \"data-24b178abfb710cccb0892c56d39e8025\"}, \"mark\": \"line\", \"encoding\": {\"color\": {\"field\": \"variable\", \"scale\": {\"domain\": [\"TA\", \"SW_IN\", \"VPD\", \"PA\", \"P\", \"WS\", \"LW_IN\"], \"range\": [\"#1B9E77\", \"#D95F02\", \"#7570B3\", \"#E7298A\", \"#66A61E\", \"#E6AB02\", \"#A6761D\", \"#666666\"]}, \"type\": \"nominal\"}, \"x\": {\"field\": \"time\", \"type\": \"temporal\"}, \"y\": {\"field\": \"mean\", \"scale\": {\"zero\": false}, \"title\": \"TA\", \"type\": \"quantitative\"}}}], \"height\": 150, \"title\": \"\", \"width\": 200}]}], \"title\": \"\"}, {\"vconcat\": [{\"hconcat\": [{\"layer\": [{\"data\": {\"name\": \"data-76e1677c2ba419d42d7ab08c9db85dd7\"}, \"mark\": {\"type\": \"point\", \"color\": \"black\", \"fillOpacity\": 1, \"strokeWidth\": 1}, \"encoding\": {\"fill\": {\"field\": \"is_present\", \"legend\": {\"title\": [\"Observed data\"]}, \"scale\": {\"range\": [\"black\", \"#ffffff00\"]}, \"type\": \"nominal\"}, \"shape\": {\"field\": \"is_present\", \"type\": \"nominal\"}, \"x\": {\"axis\": {\"domain\": true, \"labels\": true, \"ticks\": true, \"title\": \"time\"}, \"field\": \"time\", \"type\": \"temporal\"}, \"y\": {\"field\": \"value\", \"scale\": {\"zero\": false}, \"title\": \"TA\", \"type\": \"quantitative\"}}}, {\"layer\": [{\"mark\": \"rule\", \"encoding\": {\"x\": {\"axis\": {\"domain\": false, \"labels\": false, \"ticks\": false, \"title\": null}, \"field\": \"gap_start\", \"type\": \"temporal\"}}}, {\"mark\": \"rule\", \"encoding\": {\"x\": {\"axis\": {\"domain\": false, \"labels\": false, \"ticks\": false, \"title\": null}, \"field\": \"gap_end\", \"type\": \"temporal\"}}}, {\"mark\": {\"type\": \"rect\", \"color\": \"black\", \"opacity\": 0.15}, \"encoding\": {\"x\": {\"axis\": {\"domain\": false, \"labels\": false, \"ticks\": false, \"title\": null}, \"field\": \"gap_start\", \"type\": \"temporal\"}, \"x2\": {\"field\": \"gap_end\"}}}], \"data\": {\"name\": \"data-1238eb10b2ba4f693f63470d19a21504\"}}, {\"data\": {\"name\": \"data-76e1677c2ba419d42d7ab08c9db85dd7\"}, \"mark\": \"errorband\", \"encoding\": {\"color\": {\"field\": \"variable\", \"legend\": {\"title\": [\"Line: pred. mean\", \"area: +/- 2 std\"]}, \"scale\": {\"domain\": [\"TA\", \"SW_IN\", \"VPD\", \"PA\", \"P\", \"WS\", \"LW_IN\"], \"range\": [\"#1B9E77\", \"#D95F02\", \"#7570B3\", \"#E7298A\", \"#66A61E\", \"#E6AB02\", \"#A6761D\", \"#666666\"]}, \"type\": \"nominal\"}, \"x\": {\"field\": \"time\", \"type\": \"temporal\"}, \"y\": {\"field\": \"err_low\", \"scale\": {\"zero\": false}, \"title\": \"TA\", \"type\": \"quantitative\"}, \"y2\": {\"field\": \"err_high\"}}, \"name\": \"view_4\"}, {\"data\": {\"name\": \"data-76e1677c2ba419d42d7ab08c9db85dd7\"}, \"mark\": {\"type\": \"line\", \"color\": \"purple\", \"strokeDash\": [4, 6]}, \"encoding\": {\"x\": {\"field\": \"time\", \"type\": \"temporal\"}, \"y\": {\"field\": \"control\", \"scale\": {\"zero\": false}, \"title\": \"TA\", \"type\": \"quantitative\"}}}, {\"data\": {\"name\": \"data-76e1677c2ba419d42d7ab08c9db85dd7\"}, \"mark\": \"line\", \"encoding\": {\"color\": {\"field\": \"variable\", \"scale\": {\"domain\": [\"TA\", \"SW_IN\", \"VPD\", \"PA\", \"P\", \"WS\", \"LW_IN\"], \"range\": [\"#1B9E77\", \"#D95F02\", \"#7570B3\", \"#E7298A\", \"#66A61E\", \"#E6AB02\", \"#A6761D\", \"#666666\"]}, \"type\": \"nominal\"}, \"x\": {\"field\": \"time\", \"type\": \"temporal\"}, \"y\": {\"field\": \"mean\", \"scale\": {\"zero\": false}, \"title\": \"TA\", \"type\": \"quantitative\"}}}], \"height\": 150, \"title\": \"\", \"width\": 200}]}], \"title\": \"\"}], \"params\": [{\"name\": \"param_7\", \"select\": {\"type\": \"interval\", \"encodings\": [\"x\"]}, \"bind\": \"scales\", \"views\": [\"view_1\"]}, {\"name\": \"param_9\", \"select\": {\"type\": \"interval\", \"encodings\": [\"x\"]}, \"bind\": \"scales\", \"views\": [\"view_2\"]}, {\"name\": \"param_11\", \"select\": {\"type\": \"interval\", \"encodings\": [\"x\"]}, \"bind\": \"scales\", \"views\": [\"view_3\"]}, {\"name\": \"param_13\", \"select\": {\"type\": \"interval\", \"encodings\": [\"x\"]}, \"bind\": \"scales\", \"views\": [\"view_4\"]}], \"$schema\": \"https://vega.github.io/schema/vega-lite/v5.2.0.json\", \"datasets\": {\"data-b0ed8e96885658db607d2a614a26775d\": [{\"time\": \"2012-11-19T14:30:00\", \"variable\": \"TA\", \"value\": 5.82, \"control\": 6.281, \"is_present\": true, \"mean\": null, \"std\": null, \"err_low\": null, \"err_high\": null}, {\"time\": \"2012-11-19T15:00:00\", \"variable\": \"TA\", \"value\": 5.93, \"control\": 5.998, \"is_present\": true, \"mean\": null, \"std\": null, \"err_low\": null, \"err_high\": null}, {\"time\": \"2012-11-19T15:30:00\", \"variable\": \"TA\", \"value\": 6.1, \"control\": 5.716, \"is_present\": true, \"mean\": null, \"std\": null, \"err_low\": null, \"err_high\": null}, {\"time\": \"2012-11-19T16:00:00\", \"variable\": \"TA\", \"value\": 6.04, \"control\": 5.434, \"is_present\": true, \"mean\": null, \"std\": null, \"err_low\": null, \"err_high\": null}, {\"time\": \"2012-11-19T16:30:00\", \"variable\": \"TA\", \"value\": 5.85, \"control\": 5.152, \"is_present\": true, \"mean\": null, \"std\": null, \"err_low\": null, \"err_high\": null}, {\"time\": \"2012-11-19T17:00:00\", \"variable\": \"TA\", \"value\": 5.61, \"control\": 4.817, \"is_present\": true, \"mean\": null, \"std\": null, \"err_low\": null, \"err_high\": null}, {\"time\": \"2012-11-19T17:30:00\", \"variable\": \"TA\", \"value\": 5.46, \"control\": 4.482, \"is_present\": true, \"mean\": null, \"std\": null, \"err_low\": null, \"err_high\": null}, {\"time\": \"2012-11-19T18:00:00\", \"variable\": \"TA\", \"value\": 5.31, \"control\": 4.148, \"is_present\": true, \"mean\": null, \"std\": null, \"err_low\": null, \"err_high\": null}, {\"time\": \"2012-11-19T18:30:00\", \"variable\": \"TA\", \"value\": 5.36, \"control\": 3.813, \"is_present\": true, \"mean\": null, \"std\": null, \"err_low\": null, \"err_high\": null}, {\"time\": \"2012-11-19T19:00:00\", \"variable\": \"TA\", \"value\": 5.14, \"control\": 3.479, \"is_present\": true, \"mean\": null, \"std\": null, \"err_low\": null, \"err_high\": null}, {\"time\": \"2012-11-19T19:30:00\", \"variable\": \"TA\", \"value\": 4.87, \"control\": 3.144, \"is_present\": true, \"mean\": null, \"std\": null, \"err_low\": null, \"err_high\": null}, {\"time\": \"2012-11-19T20:00:00\", \"variable\": \"TA\", \"value\": 4.77, \"control\": 2.822, \"is_present\": true, \"mean\": null, \"std\": null, \"err_low\": null, \"err_high\": null}, {\"time\": \"2012-11-19T20:30:00\", \"variable\": \"TA\", \"value\": 4.65, \"control\": 2.5, \"is_present\": true, \"mean\": null, \"std\": null, \"err_low\": null, \"err_high\": null}, {\"time\": \"2012-11-19T21:00:00\", \"variable\": \"TA\", \"value\": 4.6, \"control\": 2.177, \"is_present\": true, \"mean\": null, \"std\": null, \"err_low\": null, \"err_high\": null}, {\"time\": \"2012-11-19T21:30:00\", \"variable\": \"TA\", \"value\": 4.38, \"control\": 1.855, \"is_present\": true, \"mean\": null, \"std\": null, \"err_low\": null, \"err_high\": null}, {\"time\": \"2012-11-19T22:00:00\", \"variable\": \"TA\", \"value\": 4.12, \"control\": 1.533, \"is_present\": true, \"mean\": null, \"std\": null, \"err_low\": null, \"err_high\": null}, {\"time\": \"2012-11-19T22:30:00\", \"variable\": \"TA\", \"value\": 3.85, \"control\": 1.211, \"is_present\": true, \"mean\": null, \"std\": null, \"err_low\": null, \"err_high\": null}, {\"time\": \"2012-11-19T23:00:00\", \"variable\": \"TA\", \"value\": 3.51, \"control\": 0.881, \"is_present\": true, \"mean\": null, \"std\": null, \"err_low\": null, \"err_high\": null}, {\"time\": \"2012-11-19T23:30:00\", \"variable\": \"TA\", \"value\": 3.22, \"control\": 0.55, \"is_present\": true, \"mean\": null, \"std\": null, \"err_low\": null, \"err_high\": null}, {\"time\": \"2012-11-20T00:00:00\", \"variable\": \"TA\", \"value\": 2.97, \"control\": 0.22, \"is_present\": true, \"mean\": null, \"std\": null, \"err_low\": null, \"err_high\": null}, {\"time\": \"2012-11-20T00:30:00\", \"variable\": \"TA\", \"value\": 2.74, \"control\": -0.11, \"is_present\": true, \"mean\": null, \"std\": null, \"err_low\": null, \"err_high\": null}, {\"time\": \"2012-11-20T01:00:00\", \"variable\": \"TA\", \"value\": 2.36, \"control\": -0.44, \"is_present\": true, \"mean\": null, \"std\": null, \"err_low\": null, \"err_high\": null}, {\"time\": \"2012-11-20T01:30:00\", \"variable\": \"TA\", \"value\": 2.07, \"control\": -0.771, \"is_present\": true, \"mean\": null, \"std\": null, \"err_low\": null, \"err_high\": null}, {\"time\": \"2012-11-20T02:00:00\", \"variable\": \"TA\", \"value\": 1.82, \"control\": -0.988, \"is_present\": true, \"mean\": null, \"std\": null, \"err_low\": null, \"err_high\": null}, {\"time\": \"2012-11-20T02:30:00\", \"variable\": \"TA\", \"value\": 3.14, \"control\": -1.206, \"is_present\": true, \"mean\": null, \"std\": null, \"err_low\": null, \"err_high\": null}, {\"time\": \"2012-11-20T03:00:00\", \"variable\": \"TA\", \"value\": 3.63, \"control\": -1.424, \"is_present\": false, \"mean\": 3.6831076772750544, \"std\": 0.3725883186075047, \"err_low\": 2.937931040060045, \"err_high\": 4.428284314490064}, {\"time\": \"2012-11-20T03:30:00\", \"variable\": \"TA\", \"value\": 4.77, \"control\": -1.641, \"is_present\": false, \"mean\": 4.08834360415299, \"std\": 0.38200375734544284, \"err_low\": 3.324336089462104, \"err_high\": 4.852351118843876}, {\"time\": \"2012-11-20T04:00:00\", \"variable\": \"TA\", \"value\": 4.96, \"control\": -1.859, \"is_present\": false, \"mean\": 4.375970282750387, \"std\": 0.3835074124298634, \"err_low\": 3.6089554578906604, \"err_high\": 5.142985107610114}, {\"time\": \"2012-11-20T04:30:00\", \"variable\": \"TA\", \"value\": 4.45, \"control\": -2.076, \"is_present\": false, \"mean\": 4.6381367044755795, \"std\": 0.3764929150678436, \"err_low\": 3.8851508743398924, \"err_high\": 5.391122534611267}, {\"time\": \"2012-11-20T05:00:00\", \"variable\": \"TA\", \"value\": 4.94, \"control\": -2.13, \"is_present\": false, \"mean\": 4.669699118395513, \"std\": 0.36465854900406147, \"err_low\": 3.9403820203873905, \"err_high\": 5.399016216403636}, {\"time\": \"2012-11-20T05:30:00\", \"variable\": \"TA\", \"value\": 4.82, \"control\": -2.184, \"is_present\": true, \"mean\": null, \"std\": null, \"err_low\": null, \"err_high\": null}, {\"time\": \"2012-11-20T06:00:00\", \"variable\": \"TA\", \"value\": 4.52, \"control\": -2.238, \"is_present\": true, \"mean\": null, \"std\": null, \"err_low\": null, \"err_high\": null}, {\"time\": \"2012-11-20T06:30:00\", \"variable\": \"TA\", \"value\": 2.42, \"control\": -2.292, \"is_present\": true, \"mean\": null, \"std\": null, \"err_low\": null, \"err_high\": null}, {\"time\": \"2012-11-20T07:00:00\", \"variable\": \"TA\", \"value\": 0.36, \"control\": -2.346, \"is_present\": true, \"mean\": null, \"std\": null, \"err_low\": null, \"err_high\": null}, {\"time\": \"2012-11-20T07:30:00\", \"variable\": \"TA\", \"value\": 0.09, \"control\": -2.4, \"is_present\": true, \"mean\": null, \"std\": null, \"err_low\": null, \"err_high\": null}, {\"time\": \"2012-11-20T08:00:00\", \"variable\": \"TA\", \"value\": 0.06, \"control\": -1.794, \"is_present\": true, \"mean\": null, \"std\": null, \"err_low\": null, \"err_high\": null}, {\"time\": \"2012-11-20T08:30:00\", \"variable\": \"TA\", \"value\": -0.06, \"control\": -1.187, \"is_present\": true, \"mean\": null, \"std\": null, \"err_low\": null, \"err_high\": null}, {\"time\": \"2012-11-20T09:00:00\", \"variable\": \"TA\", \"value\": 0.23, \"control\": -0.58, \"is_present\": true, \"mean\": null, \"std\": null, \"err_low\": null, \"err_high\": null}, {\"time\": \"2012-11-20T09:30:00\", \"variable\": \"TA\", \"value\": 0.92, \"control\": 0.027, \"is_present\": true, \"mean\": null, \"std\": null, \"err_low\": null, \"err_high\": null}, {\"time\": \"2012-11-20T10:00:00\", \"variable\": \"TA\", \"value\": 1.23, \"control\": 0.634, \"is_present\": true, \"mean\": null, \"std\": null, \"err_low\": null, \"err_high\": null}, {\"time\": \"2012-11-20T10:30:00\", \"variable\": \"TA\", \"value\": 1.59, \"control\": 1.241, \"is_present\": true, \"mean\": null, \"std\": null, \"err_low\": null, \"err_high\": null}, {\"time\": \"2012-11-20T11:00:00\", \"variable\": \"TA\", \"value\": 1.87, \"control\": 2.005, \"is_present\": true, \"mean\": null, \"std\": null, \"err_low\": null, \"err_high\": null}, {\"time\": \"2012-11-20T11:30:00\", \"variable\": \"TA\", \"value\": 2.13, \"control\": 2.769, \"is_present\": true, \"mean\": null, \"std\": null, \"err_low\": null, \"err_high\": null}, {\"time\": \"2012-11-20T12:00:00\", \"variable\": \"TA\", \"value\": 2.54, \"control\": 3.534, \"is_present\": true, \"mean\": null, \"std\": null, \"err_low\": null, \"err_high\": null}, {\"time\": \"2012-11-20T12:30:00\", \"variable\": \"TA\", \"value\": 2.86, \"control\": 4.298, \"is_present\": true, \"mean\": null, \"std\": null, \"err_low\": null, \"err_high\": null}, {\"time\": \"2012-11-20T13:00:00\", \"variable\": \"TA\", \"value\": 3.09, \"control\": 5.062, \"is_present\": true, \"mean\": null, \"std\": null, \"err_low\": null, \"err_high\": null}, {\"time\": \"2012-11-20T13:30:00\", \"variable\": \"TA\", \"value\": 3.3, \"control\": 5.827, \"is_present\": true, \"mean\": null, \"std\": null, \"err_low\": null, \"err_high\": null}, {\"time\": \"2012-11-20T14:00:00\", \"variable\": \"TA\", \"value\": 3.47, \"control\": 5.303, \"is_present\": true, \"mean\": null, \"std\": null, \"err_low\": null, \"err_high\": null}, {\"time\": \"2012-11-20T14:30:00\", \"variable\": \"TA\", \"value\": 3.63, \"control\": 4.779, \"is_present\": true, \"mean\": null, \"std\": null, \"err_low\": null, \"err_high\": null}, {\"time\": \"2012-11-20T15:00:00\", \"variable\": \"TA\", \"value\": 3.67, \"control\": 4.255, \"is_present\": true, \"mean\": null, \"std\": null, \"err_low\": null, \"err_high\": null}], \"data-af2d002b07a0c0af76c92875bc200939\": [{\"gap_start\": \"2012-11-20T03:00:00\", \"gap_end\": \"2012-11-20T05:00:00\"}], \"data-a626e0712dfde769a24f67c88674536f\": [{\"time\": \"2010-11-28T12:30:00\", \"variable\": \"TA\", \"value\": -5.67, \"control\": -2.197, \"is_present\": true, \"mean\": null, \"std\": null, \"err_low\": null, \"err_high\": null}, {\"time\": \"2010-11-28T13:00:00\", \"variable\": \"TA\", \"value\": -5.35, \"control\": -1.65, \"is_present\": true, \"mean\": null, \"std\": null, \"err_low\": null, \"err_high\": null}, {\"time\": \"2010-11-28T13:30:00\", \"variable\": \"TA\", \"value\": -5.21, \"control\": -1.103, \"is_present\": true, \"mean\": null, \"std\": null, \"err_low\": null, \"err_high\": null}, {\"time\": \"2010-11-28T14:00:00\", \"variable\": \"TA\", \"value\": -5.21, \"control\": -1.559, \"is_present\": true, \"mean\": null, \"std\": null, \"err_low\": null, \"err_high\": null}, {\"time\": \"2010-11-28T14:30:00\", \"variable\": \"TA\", \"value\": -5.2, \"control\": -2.015, \"is_present\": true, \"mean\": null, \"std\": null, \"err_low\": null, \"err_high\": null}, {\"time\": \"2010-11-28T15:00:00\", \"variable\": \"TA\", \"value\": -5.14, \"control\": -2.471, \"is_present\": true, \"mean\": null, \"std\": null, \"err_low\": null, \"err_high\": null}, {\"time\": \"2010-11-28T15:30:00\", \"variable\": \"TA\", \"value\": -5.09, \"control\": -2.928, \"is_present\": true, \"mean\": null, \"std\": null, \"err_low\": null, \"err_high\": null}, {\"time\": \"2010-11-28T16:00:00\", \"variable\": \"TA\", \"value\": -5.03, \"control\": -3.384, \"is_present\": true, \"mean\": null, \"std\": null, \"err_low\": null, \"err_high\": null}, {\"time\": \"2010-11-28T16:30:00\", \"variable\": \"TA\", \"value\": -5.14, \"control\": -3.84, \"is_present\": true, \"mean\": null, \"std\": null, \"err_low\": null, \"err_high\": null}, {\"time\": \"2010-11-28T17:00:00\", \"variable\": \"TA\", \"value\": -5.09, \"control\": -4.174, \"is_present\": true, \"mean\": null, \"std\": null, \"err_low\": null, \"err_high\": null}, {\"time\": \"2010-11-28T17:30:00\", \"variable\": \"TA\", \"value\": -5.07, \"control\": -4.508, \"is_present\": true, \"mean\": null, \"std\": null, \"err_low\": null, \"err_high\": null}, {\"time\": \"2010-11-28T18:00:00\", \"variable\": \"TA\", \"value\": -4.89, \"control\": -4.842, \"is_present\": true, \"mean\": null, \"std\": null, \"err_low\": null, \"err_high\": null}, {\"time\": \"2010-11-28T18:30:00\", \"variable\": \"TA\", \"value\": -4.75, \"control\": -5.176, \"is_present\": true, \"mean\": null, \"std\": null, \"err_low\": null, \"err_high\": null}, {\"time\": \"2010-11-28T19:00:00\", \"variable\": \"TA\", \"value\": -4.74, \"control\": -5.51, \"is_present\": true, \"mean\": null, \"std\": null, \"err_low\": null, \"err_high\": null}, {\"time\": \"2010-11-28T19:30:00\", \"variable\": \"TA\", \"value\": -4.75, \"control\": -5.844, \"is_present\": true, \"mean\": null, \"std\": null, \"err_low\": null, \"err_high\": null}, {\"time\": \"2010-11-28T20:00:00\", \"variable\": \"TA\", \"value\": -4.84, \"control\": -5.59, \"is_present\": true, \"mean\": null, \"std\": null, \"err_low\": null, \"err_high\": null}, {\"time\": \"2010-11-28T20:30:00\", \"variable\": \"TA\", \"value\": -4.91, \"control\": -5.337, \"is_present\": true, \"mean\": null, \"std\": null, \"err_low\": null, \"err_high\": null}, {\"time\": \"2010-11-28T21:00:00\", \"variable\": \"TA\", \"value\": -5.0, \"control\": -5.083, \"is_present\": true, \"mean\": null, \"std\": null, \"err_low\": null, \"err_high\": null}, {\"time\": \"2010-11-28T21:30:00\", \"variable\": \"TA\", \"value\": -5.12, \"control\": -4.83, \"is_present\": true, \"mean\": null, \"std\": null, \"err_low\": null, \"err_high\": null}, {\"time\": \"2010-11-28T22:00:00\", \"variable\": \"TA\", \"value\": -5.24, \"control\": -4.576, \"is_present\": true, \"mean\": null, \"std\": null, \"err_low\": null, \"err_high\": null}, {\"time\": \"2010-11-28T22:30:00\", \"variable\": \"TA\", \"value\": -5.35, \"control\": -4.323, \"is_present\": true, \"mean\": null, \"std\": null, \"err_low\": null, \"err_high\": null}, {\"time\": \"2010-11-28T23:00:00\", \"variable\": \"TA\", \"value\": -5.37, \"control\": -4.163, \"is_present\": true, \"mean\": null, \"std\": null, \"err_low\": null, \"err_high\": null}, {\"time\": \"2010-11-28T23:30:00\", \"variable\": \"TA\", \"value\": -5.35, \"control\": -4.004, \"is_present\": true, \"mean\": null, \"std\": null, \"err_low\": null, \"err_high\": null}, {\"time\": \"2010-11-29T00:00:00\", \"variable\": \"TA\", \"value\": -5.22, \"control\": -3.844, \"is_present\": true, \"mean\": null, \"std\": null, \"err_low\": null, \"err_high\": null}, {\"time\": \"2010-11-29T00:30:00\", \"variable\": \"TA\", \"value\": -5.03, \"control\": -3.685, \"is_present\": true, \"mean\": null, \"std\": null, \"err_low\": null, \"err_high\": null}, {\"time\": \"2010-11-29T01:00:00\", \"variable\": \"TA\", \"value\": -4.89, \"control\": -3.525, \"is_present\": false, \"mean\": -4.875611009371191, \"std\": 0.3725883186075047, \"err_low\": -5.620787646586201, \"err_high\": -4.130434372156182}, {\"time\": \"2010-11-29T01:30:00\", \"variable\": \"TA\", \"value\": -4.9, \"control\": -3.366, \"is_present\": false, \"mean\": -4.925037985607938, \"std\": 0.38200375734544284, \"err_low\": -5.689045500298824, \"err_high\": -4.161030470917052}, {\"time\": \"2010-11-29T02:00:00\", \"variable\": \"TA\", \"value\": -4.83, \"control\": -3.535, \"is_present\": false, \"mean\": -4.849837985598393, \"std\": 0.3835074124298634, \"err_low\": -5.61685281045812, \"err_high\": -4.082823160738666}, {\"time\": \"2010-11-29T02:30:00\", \"variable\": \"TA\", \"value\": -4.69, \"control\": -3.704, \"is_present\": false, \"mean\": -4.757338832005399, \"std\": 0.3764929150678436, \"err_low\": -5.510324662141086, \"err_high\": -4.0043530018697115}, {\"time\": \"2010-11-29T03:00:00\", \"variable\": \"TA\", \"value\": -4.62, \"control\": -3.873, \"is_present\": false, \"mean\": -4.610071818651555, \"std\": 0.36465854900406147, \"err_low\": -5.3393889166596775, \"err_high\": -3.880754720643432}, {\"time\": \"2010-11-29T03:30:00\", \"variable\": \"TA\", \"value\": -4.67, \"control\": -4.042, \"is_present\": true, \"mean\": null, \"std\": null, \"err_low\": null, \"err_high\": null}, {\"time\": \"2010-11-29T04:00:00\", \"variable\": \"TA\", \"value\": -4.68, \"control\": -4.211, \"is_present\": true, \"mean\": null, \"std\": null, \"err_low\": null, \"err_high\": null}, {\"time\": \"2010-11-29T04:30:00\", \"variable\": \"TA\", \"value\": -4.68, \"control\": -4.38, \"is_present\": true, \"mean\": null, \"std\": null, \"err_low\": null, \"err_high\": null}, {\"time\": \"2010-11-29T05:00:00\", \"variable\": \"TA\", \"value\": -4.7, \"control\": -4.267, \"is_present\": true, \"mean\": null, \"std\": null, \"err_low\": null, \"err_high\": null}, {\"time\": \"2010-11-29T05:30:00\", \"variable\": \"TA\", \"value\": -4.74, \"control\": -4.154, \"is_present\": true, \"mean\": null, \"std\": null, \"err_low\": null, \"err_high\": null}, {\"time\": \"2010-11-29T06:00:00\", \"variable\": \"TA\", \"value\": -4.83, \"control\": -4.041, \"is_present\": true, \"mean\": null, \"std\": null, \"err_low\": null, \"err_high\": null}, {\"time\": \"2010-11-29T06:30:00\", \"variable\": \"TA\", \"value\": -4.92, \"control\": -3.928, \"is_present\": true, \"mean\": null, \"std\": null, \"err_low\": null, \"err_high\": null}, {\"time\": \"2010-11-29T07:00:00\", \"variable\": \"TA\", \"value\": -4.91, \"control\": -3.815, \"is_present\": true, \"mean\": null, \"std\": null, \"err_low\": null, \"err_high\": null}, {\"time\": \"2010-11-29T07:30:00\", \"variable\": \"TA\", \"value\": -4.93, \"control\": -3.702, \"is_present\": true, \"mean\": null, \"std\": null, \"err_low\": null, \"err_high\": null}, {\"time\": \"2010-11-29T08:00:00\", \"variable\": \"TA\", \"value\": -4.92, \"control\": -3.64, \"is_present\": true, \"mean\": null, \"std\": null, \"err_low\": null, \"err_high\": null}, {\"time\": \"2010-11-29T08:30:00\", \"variable\": \"TA\", \"value\": -4.89, \"control\": -3.578, \"is_present\": true, \"mean\": null, \"std\": null, \"err_low\": null, \"err_high\": null}, {\"time\": \"2010-11-29T09:00:00\", \"variable\": \"TA\", \"value\": -4.85, \"control\": -3.516, \"is_present\": true, \"mean\": null, \"std\": null, \"err_low\": null, \"err_high\": null}, {\"time\": \"2010-11-29T09:30:00\", \"variable\": \"TA\", \"value\": -4.78, \"control\": -3.454, \"is_present\": true, \"mean\": null, \"std\": null, \"err_low\": null, \"err_high\": null}, {\"time\": \"2010-11-29T10:00:00\", \"variable\": \"TA\", \"value\": -4.66, \"control\": -3.392, \"is_present\": true, \"mean\": null, \"std\": null, \"err_low\": null, \"err_high\": null}, {\"time\": \"2010-11-29T10:30:00\", \"variable\": \"TA\", \"value\": -4.54, \"control\": -3.33, \"is_present\": true, \"mean\": null, \"std\": null, \"err_low\": null, \"err_high\": null}, {\"time\": \"2010-11-29T11:00:00\", \"variable\": \"TA\", \"value\": -4.45, \"control\": -3.307, \"is_present\": true, \"mean\": null, \"std\": null, \"err_low\": null, \"err_high\": null}, {\"time\": \"2010-11-29T11:30:00\", \"variable\": \"TA\", \"value\": -4.34, \"control\": -3.285, \"is_present\": true, \"mean\": null, \"std\": null, \"err_low\": null, \"err_high\": null}, {\"time\": \"2010-11-29T12:00:00\", \"variable\": \"TA\", \"value\": -4.25, \"control\": -3.262, \"is_present\": true, \"mean\": null, \"std\": null, \"err_low\": null, \"err_high\": null}, {\"time\": \"2010-11-29T12:30:00\", \"variable\": \"TA\", \"value\": -4.12, \"control\": -3.24, \"is_present\": true, \"mean\": null, \"std\": null, \"err_low\": null, \"err_high\": null}, {\"time\": \"2010-11-29T13:00:00\", \"variable\": \"TA\", \"value\": -4.01, \"control\": -3.217, \"is_present\": true, \"mean\": null, \"std\": null, \"err_low\": null, \"err_high\": null}], \"data-b072fa5111993ebaaaf7cd009d897eba\": [{\"gap_start\": \"2010-11-29T01:00:00\", \"gap_end\": \"2010-11-29T03:00:00\"}], \"data-24b178abfb710cccb0892c56d39e8025\": [{\"time\": \"2010-07-26T22:30:00\", \"variable\": \"TA\", \"value\": 13.55, \"control\": 14.531, \"is_present\": true, \"mean\": null, \"std\": null, \"err_low\": null, \"err_high\": null}, {\"time\": \"2010-07-26T23:00:00\", \"variable\": \"TA\", \"value\": 13.46, \"control\": 14.354, \"is_present\": true, \"mean\": null, \"std\": null, \"err_low\": null, \"err_high\": null}, {\"time\": \"2010-07-26T23:30:00\", \"variable\": \"TA\", \"value\": 13.41, \"control\": 14.177, \"is_present\": true, \"mean\": null, \"std\": null, \"err_low\": null, \"err_high\": null}, {\"time\": \"2010-07-27T00:00:00\", \"variable\": \"TA\", \"value\": 13.37, \"control\": 14.001, \"is_present\": true, \"mean\": null, \"std\": null, \"err_low\": null, \"err_high\": null}, {\"time\": \"2010-07-27T00:30:00\", \"variable\": \"TA\", \"value\": 13.25, \"control\": 13.824, \"is_present\": true, \"mean\": null, \"std\": null, \"err_low\": null, \"err_high\": null}, {\"time\": \"2010-07-27T01:00:00\", \"variable\": \"TA\", \"value\": 13.11, \"control\": 13.647, \"is_present\": true, \"mean\": null, \"std\": null, \"err_low\": null, \"err_high\": null}, {\"time\": \"2010-07-27T01:30:00\", \"variable\": \"TA\", \"value\": 12.99, \"control\": 13.47, \"is_present\": true, \"mean\": null, \"std\": null, \"err_low\": null, \"err_high\": null}, {\"time\": \"2010-07-27T02:00:00\", \"variable\": \"TA\", \"value\": 12.85, \"control\": 13.212, \"is_present\": true, \"mean\": null, \"std\": null, \"err_low\": null, \"err_high\": null}, {\"time\": \"2010-07-27T02:30:00\", \"variable\": \"TA\", \"value\": 12.75, \"control\": 12.953, \"is_present\": true, \"mean\": null, \"std\": null, \"err_low\": null, \"err_high\": null}, {\"time\": \"2010-07-27T03:00:00\", \"variable\": \"TA\", \"value\": 12.61, \"control\": 12.695, \"is_present\": true, \"mean\": null, \"std\": null, \"err_low\": null, \"err_high\": null}, {\"time\": \"2010-07-27T03:30:00\", \"variable\": \"TA\", \"value\": 12.5, \"control\": 12.436, \"is_present\": true, \"mean\": null, \"std\": null, \"err_low\": null, \"err_high\": null}, {\"time\": \"2010-07-27T04:00:00\", \"variable\": \"TA\", \"value\": 12.36, \"control\": 12.177, \"is_present\": true, \"mean\": null, \"std\": null, \"err_low\": null, \"err_high\": null}, {\"time\": \"2010-07-27T04:30:00\", \"variable\": \"TA\", \"value\": 12.23, \"control\": 11.919, \"is_present\": true, \"mean\": null, \"std\": null, \"err_low\": null, \"err_high\": null}, {\"time\": \"2010-07-27T05:00:00\", \"variable\": \"TA\", \"value\": 12.26, \"control\": 12.149, \"is_present\": true, \"mean\": null, \"std\": null, \"err_low\": null, \"err_high\": null}, {\"time\": \"2010-07-27T05:30:00\", \"variable\": \"TA\", \"value\": 12.4, \"control\": 12.379, \"is_present\": true, \"mean\": null, \"std\": null, \"err_low\": null, \"err_high\": null}, {\"time\": \"2010-07-27T06:00:00\", \"variable\": \"TA\", \"value\": 12.54, \"control\": 12.609, \"is_present\": true, \"mean\": null, \"std\": null, \"err_low\": null, \"err_high\": null}, {\"time\": \"2010-07-27T06:30:00\", \"variable\": \"TA\", \"value\": 13.2, \"control\": 12.839, \"is_present\": true, \"mean\": null, \"std\": null, \"err_low\": null, \"err_high\": null}, {\"time\": \"2010-07-27T07:00:00\", \"variable\": \"TA\", \"value\": 13.94, \"control\": 13.069, \"is_present\": true, \"mean\": null, \"std\": null, \"err_low\": null, \"err_high\": null}, {\"time\": \"2010-07-27T07:30:00\", \"variable\": \"TA\", \"value\": 14.19, \"control\": 13.299, \"is_present\": true, \"mean\": null, \"std\": null, \"err_low\": null, \"err_high\": null}, {\"time\": \"2010-07-27T08:00:00\", \"variable\": \"TA\", \"value\": 14.61, \"control\": 13.722, \"is_present\": true, \"mean\": null, \"std\": null, \"err_low\": null, \"err_high\": null}, {\"time\": \"2010-07-27T08:30:00\", \"variable\": \"TA\", \"value\": 14.86, \"control\": 14.144, \"is_present\": true, \"mean\": null, \"std\": null, \"err_low\": null, \"err_high\": null}, {\"time\": \"2010-07-27T09:00:00\", \"variable\": \"TA\", \"value\": 15.22, \"control\": 14.567, \"is_present\": true, \"mean\": null, \"std\": null, \"err_low\": null, \"err_high\": null}, {\"time\": \"2010-07-27T09:30:00\", \"variable\": \"TA\", \"value\": 14.78, \"control\": 14.99, \"is_present\": true, \"mean\": null, \"std\": null, \"err_low\": null, \"err_high\": null}, {\"time\": \"2010-07-27T10:00:00\", \"variable\": \"TA\", \"value\": 15.17, \"control\": 15.413, \"is_present\": true, \"mean\": null, \"std\": null, \"err_low\": null, \"err_high\": null}, {\"time\": \"2010-07-27T10:30:00\", \"variable\": \"TA\", \"value\": 15.22, \"control\": 15.836, \"is_present\": true, \"mean\": null, \"std\": null, \"err_low\": null, \"err_high\": null}, {\"time\": \"2010-07-27T11:00:00\", \"variable\": \"TA\", \"value\": 16.19, \"control\": 16.148, \"is_present\": false, \"mean\": 16.156639922665672, \"std\": 0.3725883186075047, \"err_low\": 15.411463285450663, \"err_high\": 16.901816559880682}, {\"time\": \"2010-07-27T11:30:00\", \"variable\": \"TA\", \"value\": 16.47, \"control\": 16.461, \"is_present\": false, \"mean\": 16.891110314342043, \"std\": 0.38200375734544284, \"err_low\": 16.12710279965116, \"err_high\": 17.65511782903293}, {\"time\": \"2010-07-27T12:00:00\", \"variable\": \"TA\", \"value\": 16.96, \"control\": 16.774, \"is_present\": false, \"mean\": 17.296613684249166, \"std\": 0.3835074124298634, \"err_low\": 16.529598859389438, \"err_high\": 18.063628509108895}, {\"time\": \"2010-07-27T12:30:00\", \"variable\": \"TA\", \"value\": 16.71, \"control\": 17.086, \"is_present\": false, \"mean\": 17.101355252434622, \"std\": 0.3764929150678436, \"err_low\": 16.348369422298934, \"err_high\": 17.85434108257031}, {\"time\": \"2010-07-27T13:00:00\", \"variable\": \"TA\", \"value\": 17.06, \"control\": 17.399, \"is_present\": false, \"mean\": 17.02950757038439, \"std\": 0.36465854900406147, \"err_low\": 16.300190472376265, \"err_high\": 17.758824668392514}, {\"time\": \"2010-07-27T13:30:00\", \"variable\": \"TA\", \"value\": 18.1, \"control\": 17.711, \"is_present\": true, \"mean\": null, \"std\": null, \"err_low\": null, \"err_high\": null}, {\"time\": \"2010-07-27T14:00:00\", \"variable\": \"TA\", \"value\": 18.5, \"control\": 17.991, \"is_present\": true, \"mean\": null, \"std\": null, \"err_low\": null, \"err_high\": null}, {\"time\": \"2010-07-27T14:30:00\", \"variable\": \"TA\", \"value\": 18.94, \"control\": 18.27, \"is_present\": true, \"mean\": null, \"std\": null, \"err_low\": null, \"err_high\": null}, {\"time\": \"2010-07-27T15:00:00\", \"variable\": \"TA\", \"value\": 19.58, \"control\": 18.549, \"is_present\": true, \"mean\": null, \"std\": null, \"err_low\": null, \"err_high\": null}, {\"time\": \"2010-07-27T15:30:00\", \"variable\": \"TA\", \"value\": 19.9, \"control\": 18.829, \"is_present\": true, \"mean\": null, \"std\": null, \"err_low\": null, \"err_high\": null}, {\"time\": \"2010-07-27T16:00:00\", \"variable\": \"TA\", \"value\": 20.17, \"control\": 19.108, \"is_present\": true, \"mean\": null, \"std\": null, \"err_low\": null, \"err_high\": null}, {\"time\": \"2010-07-27T16:30:00\", \"variable\": \"TA\", \"value\": 18.81, \"control\": 19.387, \"is_present\": true, \"mean\": null, \"std\": null, \"err_low\": null, \"err_high\": null}, {\"time\": \"2010-07-27T17:00:00\", \"variable\": \"TA\", \"value\": 16.67, \"control\": 19.246, \"is_present\": true, \"mean\": null, \"std\": null, \"err_low\": null, \"err_high\": null}, {\"time\": \"2010-07-27T17:30:00\", \"variable\": \"TA\", \"value\": 17.41, \"control\": 19.104, \"is_present\": true, \"mean\": null, \"std\": null, \"err_low\": null, \"err_high\": null}, {\"time\": \"2010-07-27T18:00:00\", \"variable\": \"TA\", \"value\": 18.0, \"control\": 18.963, \"is_present\": true, \"mean\": null, \"std\": null, \"err_low\": null, \"err_high\": null}, {\"time\": \"2010-07-27T18:30:00\", \"variable\": \"TA\", \"value\": 18.21, \"control\": 18.821, \"is_present\": true, \"mean\": null, \"std\": null, \"err_low\": null, \"err_high\": null}, {\"time\": \"2010-07-27T19:00:00\", \"variable\": \"TA\", \"value\": 18.06, \"control\": 18.679, \"is_present\": true, \"mean\": null, \"std\": null, \"err_low\": null, \"err_high\": null}, {\"time\": \"2010-07-27T19:30:00\", \"variable\": \"TA\", \"value\": 17.66, \"control\": 18.538, \"is_present\": true, \"mean\": null, \"std\": null, \"err_low\": null, \"err_high\": null}, {\"time\": \"2010-07-27T20:00:00\", \"variable\": \"TA\", \"value\": 17.13, \"control\": 17.987, \"is_present\": true, \"mean\": null, \"std\": null, \"err_low\": null, \"err_high\": null}, {\"time\": \"2010-07-27T20:30:00\", \"variable\": \"TA\", \"value\": 16.89, \"control\": 17.436, \"is_present\": true, \"mean\": null, \"std\": null, \"err_low\": null, \"err_high\": null}, {\"time\": \"2010-07-27T21:00:00\", \"variable\": \"TA\", \"value\": 16.58, \"control\": 16.885, \"is_present\": true, \"mean\": null, \"std\": null, \"err_low\": null, \"err_high\": null}, {\"time\": \"2010-07-27T21:30:00\", \"variable\": \"TA\", \"value\": 16.34, \"control\": 16.334, \"is_present\": true, \"mean\": null, \"std\": null, \"err_low\": null, \"err_high\": null}, {\"time\": \"2010-07-27T22:00:00\", \"variable\": \"TA\", \"value\": 16.06, \"control\": 15.784, \"is_present\": true, \"mean\": null, \"std\": null, \"err_low\": null, \"err_high\": null}, {\"time\": \"2010-07-27T22:30:00\", \"variable\": \"TA\", \"value\": 15.79, \"control\": 15.233, \"is_present\": true, \"mean\": null, \"std\": null, \"err_low\": null, \"err_high\": null}, {\"time\": \"2010-07-27T23:00:00\", \"variable\": \"TA\", \"value\": 15.63, \"control\": 14.986, \"is_present\": true, \"mean\": null, \"std\": null, \"err_low\": null, \"err_high\": null}], \"data-fb9866511db326c01af1316717182638\": [{\"gap_start\": \"2010-07-27T11:00:00\", \"gap_end\": \"2010-07-27T13:00:00\"}], \"data-76e1677c2ba419d42d7ab08c9db85dd7\": [{\"time\": \"2012-07-16T13:30:00\", \"variable\": \"TA\", \"value\": 14.79, \"control\": 15.111, \"is_present\": true, \"mean\": null, \"std\": null, \"err_low\": null, \"err_high\": null}, {\"time\": \"2012-07-16T14:00:00\", \"variable\": \"TA\", \"value\": 14.46, \"control\": 15.212, \"is_present\": true, \"mean\": null, \"std\": null, \"err_low\": null, \"err_high\": null}, {\"time\": \"2012-07-16T14:30:00\", \"variable\": \"TA\", \"value\": 14.89, \"control\": 15.313, \"is_present\": true, \"mean\": null, \"std\": null, \"err_low\": null, \"err_high\": null}, {\"time\": \"2012-07-16T15:00:00\", \"variable\": \"TA\", \"value\": 14.75, \"control\": 15.414, \"is_present\": true, \"mean\": null, \"std\": null, \"err_low\": null, \"err_high\": null}, {\"time\": \"2012-07-16T15:30:00\", \"variable\": \"TA\", \"value\": 14.6, \"control\": 15.515, \"is_present\": true, \"mean\": null, \"std\": null, \"err_low\": null, \"err_high\": null}, {\"time\": \"2012-07-16T16:00:00\", \"variable\": \"TA\", \"value\": 15.16, \"control\": 15.616, \"is_present\": true, \"mean\": null, \"std\": null, \"err_low\": null, \"err_high\": null}, {\"time\": \"2012-07-16T16:30:00\", \"variable\": \"TA\", \"value\": 14.99, \"control\": 15.717, \"is_present\": true, \"mean\": null, \"std\": null, \"err_low\": null, \"err_high\": null}, {\"time\": \"2012-07-16T17:00:00\", \"variable\": \"TA\", \"value\": 14.67, \"control\": 15.535, \"is_present\": true, \"mean\": null, \"std\": null, \"err_low\": null, \"err_high\": null}, {\"time\": \"2012-07-16T17:30:00\", \"variable\": \"TA\", \"value\": 14.55, \"control\": 15.353, \"is_present\": true, \"mean\": null, \"std\": null, \"err_low\": null, \"err_high\": null}, {\"time\": \"2012-07-16T18:00:00\", \"variable\": \"TA\", \"value\": 14.22, \"control\": 15.172, \"is_present\": true, \"mean\": null, \"std\": null, \"err_low\": null, \"err_high\": null}, {\"time\": \"2012-07-16T18:30:00\", \"variable\": \"TA\", \"value\": 13.92, \"control\": 14.99, \"is_present\": true, \"mean\": null, \"std\": null, \"err_low\": null, \"err_high\": null}, {\"time\": \"2012-07-16T19:00:00\", \"variable\": \"TA\", \"value\": 13.05, \"control\": 14.808, \"is_present\": true, \"mean\": null, \"std\": null, \"err_low\": null, \"err_high\": null}, {\"time\": \"2012-07-16T19:30:00\", \"variable\": \"TA\", \"value\": 12.32, \"control\": 14.626, \"is_present\": true, \"mean\": null, \"std\": null, \"err_low\": null, \"err_high\": null}, {\"time\": \"2012-07-16T20:00:00\", \"variable\": \"TA\", \"value\": 12.07, \"control\": 14.139, \"is_present\": true, \"mean\": null, \"std\": null, \"err_low\": null, \"err_high\": null}, {\"time\": \"2012-07-16T20:30:00\", \"variable\": \"TA\", \"value\": 12.0, \"control\": 13.653, \"is_present\": true, \"mean\": null, \"std\": null, \"err_low\": null, \"err_high\": null}, {\"time\": \"2012-07-16T21:00:00\", \"variable\": \"TA\", \"value\": 11.74, \"control\": 13.166, \"is_present\": true, \"mean\": null, \"std\": null, \"err_low\": null, \"err_high\": null}, {\"time\": \"2012-07-16T21:30:00\", \"variable\": \"TA\", \"value\": 11.42, \"control\": 12.679, \"is_present\": true, \"mean\": null, \"std\": null, \"err_low\": null, \"err_high\": null}, {\"time\": \"2012-07-16T22:00:00\", \"variable\": \"TA\", \"value\": 11.18, \"control\": 12.192, \"is_present\": true, \"mean\": null, \"std\": null, \"err_low\": null, \"err_high\": null}, {\"time\": \"2012-07-16T22:30:00\", \"variable\": \"TA\", \"value\": 11.1, \"control\": 11.706, \"is_present\": true, \"mean\": null, \"std\": null, \"err_low\": null, \"err_high\": null}, {\"time\": \"2012-07-16T23:00:00\", \"variable\": \"TA\", \"value\": 11.1, \"control\": 11.631, \"is_present\": true, \"mean\": null, \"std\": null, \"err_low\": null, \"err_high\": null}, {\"time\": \"2012-07-16T23:30:00\", \"variable\": \"TA\", \"value\": 11.06, \"control\": 11.556, \"is_present\": true, \"mean\": null, \"std\": null, \"err_low\": null, \"err_high\": null}, {\"time\": \"2012-07-17T00:00:00\", \"variable\": \"TA\", \"value\": 11.12, \"control\": 11.481, \"is_present\": true, \"mean\": null, \"std\": null, \"err_low\": null, \"err_high\": null}, {\"time\": \"2012-07-17T00:30:00\", \"variable\": \"TA\", \"value\": 11.25, \"control\": 11.405, \"is_present\": true, \"mean\": null, \"std\": null, \"err_low\": null, \"err_high\": null}, {\"time\": \"2012-07-17T01:00:00\", \"variable\": \"TA\", \"value\": 11.27, \"control\": 11.33, \"is_present\": true, \"mean\": null, \"std\": null, \"err_low\": null, \"err_high\": null}, {\"time\": \"2012-07-17T01:30:00\", \"variable\": \"TA\", \"value\": 11.24, \"control\": 11.255, \"is_present\": true, \"mean\": null, \"std\": null, \"err_low\": null, \"err_high\": null}, {\"time\": \"2012-07-17T02:00:00\", \"variable\": \"TA\", \"value\": 11.28, \"control\": 11.348, \"is_present\": false, \"mean\": 11.40354101806066, \"std\": 0.3725883186075047, \"err_low\": 10.65836438084565, \"err_high\": 12.148717655275668}, {\"time\": \"2012-07-17T02:30:00\", \"variable\": \"TA\", \"value\": 11.32, \"control\": 11.441, \"is_present\": false, \"mean\": 11.799255678954008, \"std\": 0.38200375734544284, \"err_low\": 11.035248164263123, \"err_high\": 12.563263193644893}, {\"time\": \"2012-07-17T03:00:00\", \"variable\": \"TA\", \"value\": 11.43, \"control\": 11.534, \"is_present\": false, \"mean\": 12.102841585323253, \"std\": 0.3835074124298634, \"err_low\": 11.335826760463526, \"err_high\": 12.86985641018298}, {\"time\": \"2012-07-17T03:30:00\", \"variable\": \"TA\", \"value\": 11.52, \"control\": 11.627, \"is_present\": false, \"mean\": 12.013096111918664, \"std\": 0.3764929150678436, \"err_low\": 11.260110281782977, \"err_high\": 12.76608194205435}, {\"time\": \"2012-07-17T04:00:00\", \"variable\": \"TA\", \"value\": 11.58, \"control\": 11.72, \"is_present\": false, \"mean\": 11.840252661990954, \"std\": 0.36465854900406147, \"err_low\": 11.110935563982832, \"err_high\": 12.569569759999077}, {\"time\": \"2012-07-17T04:30:00\", \"variable\": \"TA\", \"value\": 11.66, \"control\": 11.813, \"is_present\": true, \"mean\": null, \"std\": null, \"err_low\": null, \"err_high\": null}, {\"time\": \"2012-07-17T05:00:00\", \"variable\": \"TA\", \"value\": 11.78, \"control\": 11.873, \"is_present\": true, \"mean\": null, \"std\": null, \"err_low\": null, \"err_high\": null}, {\"time\": \"2012-07-17T05:30:00\", \"variable\": \"TA\", \"value\": 11.88, \"control\": 11.934, \"is_present\": true, \"mean\": null, \"std\": null, \"err_low\": null, \"err_high\": null}, {\"time\": \"2012-07-17T06:00:00\", \"variable\": \"TA\", \"value\": 11.89, \"control\": 11.994, \"is_present\": true, \"mean\": null, \"std\": null, \"err_low\": null, \"err_high\": null}, {\"time\": \"2012-07-17T06:30:00\", \"variable\": \"TA\", \"value\": 12.03, \"control\": 12.055, \"is_present\": true, \"mean\": null, \"std\": null, \"err_low\": null, \"err_high\": null}, {\"time\": \"2012-07-17T07:00:00\", \"variable\": \"TA\", \"value\": 12.23, \"control\": 12.115, \"is_present\": true, \"mean\": null, \"std\": null, \"err_low\": null, \"err_high\": null}, {\"time\": \"2012-07-17T07:30:00\", \"variable\": \"TA\", \"value\": 12.44, \"control\": 12.176, \"is_present\": true, \"mean\": null, \"std\": null, \"err_low\": null, \"err_high\": null}, {\"time\": \"2012-07-17T08:00:00\", \"variable\": \"TA\", \"value\": 12.67, \"control\": 12.347, \"is_present\": true, \"mean\": null, \"std\": null, \"err_low\": null, \"err_high\": null}, {\"time\": \"2012-07-17T08:30:00\", \"variable\": \"TA\", \"value\": 12.92, \"control\": 12.518, \"is_present\": true, \"mean\": null, \"std\": null, \"err_low\": null, \"err_high\": null}, {\"time\": \"2012-07-17T09:00:00\", \"variable\": \"TA\", \"value\": 13.09, \"control\": 12.688, \"is_present\": true, \"mean\": null, \"std\": null, \"err_low\": null, \"err_high\": null}, {\"time\": \"2012-07-17T09:30:00\", \"variable\": \"TA\", \"value\": 13.26, \"control\": 12.859, \"is_present\": true, \"mean\": null, \"std\": null, \"err_low\": null, \"err_high\": null}, {\"time\": \"2012-07-17T10:00:00\", \"variable\": \"TA\", \"value\": 13.75, \"control\": 13.03, \"is_present\": true, \"mean\": null, \"std\": null, \"err_low\": null, \"err_high\": null}, {\"time\": \"2012-07-17T10:30:00\", \"variable\": \"TA\", \"value\": 14.71, \"control\": 13.201, \"is_present\": true, \"mean\": null, \"std\": null, \"err_low\": null, \"err_high\": null}, {\"time\": \"2012-07-17T11:00:00\", \"variable\": \"TA\", \"value\": 15.5, \"control\": 13.473, \"is_present\": true, \"mean\": null, \"std\": null, \"err_low\": null, \"err_high\": null}, {\"time\": \"2012-07-17T11:30:00\", \"variable\": \"TA\", \"value\": 15.98, \"control\": 13.745, \"is_present\": true, \"mean\": null, \"std\": null, \"err_low\": null, \"err_high\": null}, {\"time\": \"2012-07-17T12:00:00\", \"variable\": \"TA\", \"value\": 16.17, \"control\": 14.016, \"is_present\": true, \"mean\": null, \"std\": null, \"err_low\": null, \"err_high\": null}, {\"time\": \"2012-07-17T12:30:00\", \"variable\": \"TA\", \"value\": 16.73, \"control\": 14.288, \"is_present\": true, \"mean\": null, \"std\": null, \"err_low\": null, \"err_high\": null}, {\"time\": \"2012-07-17T13:00:00\", \"variable\": \"TA\", \"value\": 16.43, \"control\": 14.56, \"is_present\": true, \"mean\": null, \"std\": null, \"err_low\": null, \"err_high\": null}, {\"time\": \"2012-07-17T13:30:00\", \"variable\": \"TA\", \"value\": 16.36, \"control\": 14.832, \"is_present\": true, \"mean\": null, \"std\": null, \"err_low\": null, \"err_high\": null}, {\"time\": \"2012-07-17T14:00:00\", \"variable\": \"TA\", \"value\": 16.77, \"control\": 15.061, \"is_present\": true, \"mean\": null, \"std\": null, \"err_low\": null, \"err_high\": null}], \"data-1238eb10b2ba4f693f63470d19a21504\": [{\"gap_start\": \"2012-07-17T02:00:00\", \"gap_end\": \"2012-07-17T04:00:00\"}]}}, {\"mode\": \"vega-lite\"});\n",
       "</script>"
      ],
      "text/plain": [
       "alt.HConcatChart(...)"
      ]
     },
     "execution_count": null,
     "metadata": {},
     "output_type": "execute_result"
    }
   ],
   "source": [
    "show_results(learn_TA, items=items_TA, hide_no_gap=True, control_map=control_map)"
   ]
  },
  {
   "cell_type": "code",
   "execution_count": null,
   "id": "737cc2a1-d0cb-4b54-b6b4-7fb106772f2a",
   "metadata": {},
   "outputs": [
    {
     "name": "stdout",
     "output_type": "stream",
     "text": [
      "[MeteoImpItem(i=3941, shift=5, var_sel=['TA'], gap_len=5), MeteoImpItem(i=3944, shift=-15, var_sel=['TA'], gap_len=5), MeteoImpItem(i=3869, shift=-25, var_sel=['TA'], gap_len=5), MeteoImpItem(i=4310, shift=-25, var_sel=['TA'], gap_len=5)]\n"
     ]
    },
    {
     "data": {
      "text/html": [
       "\n",
       "<div id=\"altair-viz-7ecff9f1bbfc4ddcaffc79ce755fdd15\"></div>\n",
       "<script type=\"text/javascript\">\n",
       "  var VEGA_DEBUG = (typeof VEGA_DEBUG == \"undefined\") ? {} : VEGA_DEBUG;\n",
       "  (function(spec, embedOpt){\n",
       "    let outputDiv = document.currentScript.previousElementSibling;\n",
       "    if (outputDiv.id !== \"altair-viz-7ecff9f1bbfc4ddcaffc79ce755fdd15\") {\n",
       "      outputDiv = document.getElementById(\"altair-viz-7ecff9f1bbfc4ddcaffc79ce755fdd15\");\n",
       "    }\n",
       "    const paths = {\n",
       "      \"vega\": \"https://cdn.jsdelivr.net/npm//vega@5?noext\",\n",
       "      \"vega-lib\": \"https://cdn.jsdelivr.net/npm//vega-lib?noext\",\n",
       "      \"vega-lite\": \"https://cdn.jsdelivr.net/npm//vega-lite@5.2.0?noext\",\n",
       "      \"vega-embed\": \"https://cdn.jsdelivr.net/npm//vega-embed@6?noext\",\n",
       "    };\n",
       "\n",
       "    function maybeLoadScript(lib, version) {\n",
       "      var key = `${lib.replace(\"-\", \"\")}_version`;\n",
       "      return (VEGA_DEBUG[key] == version) ?\n",
       "        Promise.resolve(paths[lib]) :\n",
       "        new Promise(function(resolve, reject) {\n",
       "          var s = document.createElement('script');\n",
       "          document.getElementsByTagName(\"head\")[0].appendChild(s);\n",
       "          s.async = true;\n",
       "          s.onload = () => {\n",
       "            VEGA_DEBUG[key] = version;\n",
       "            return resolve(paths[lib]);\n",
       "          };\n",
       "          s.onerror = () => reject(`Error loading script: ${paths[lib]}`);\n",
       "          s.src = paths[lib];\n",
       "        });\n",
       "    }\n",
       "\n",
       "    function showError(err) {\n",
       "      outputDiv.innerHTML = `<div class=\"error\" style=\"color:red;\">${err}</div>`;\n",
       "      throw err;\n",
       "    }\n",
       "\n",
       "    function displayChart(vegaEmbed) {\n",
       "      vegaEmbed(outputDiv, spec, embedOpt)\n",
       "        .catch(err => showError(`Javascript Error: ${err.message}<br>This usually means there's a typo in your chart specification. See the javascript console for the full traceback.`));\n",
       "    }\n",
       "\n",
       "    if(typeof define === \"function\" && define.amd) {\n",
       "      requirejs.config({paths});\n",
       "      require([\"vega-embed\"], displayChart, err => showError(`Error loading script: ${err.message}`));\n",
       "    } else {\n",
       "      maybeLoadScript(\"vega\", \"5\")\n",
       "        .then(() => maybeLoadScript(\"vega-lite\", \"5.2.0\"))\n",
       "        .then(() => maybeLoadScript(\"vega-embed\", \"6\"))\n",
       "        .catch(showError)\n",
       "        .then(() => displayChart(vegaEmbed));\n",
       "    }\n",
       "  })({\"config\": {\"view\": {\"continuousWidth\": 400, \"continuousHeight\": 300}}, \"hconcat\": [{\"vconcat\": [{\"hconcat\": [{\"layer\": [{\"data\": {\"name\": \"data-7e2386eac9e56d41b956df10f61bd5dc\"}, \"mark\": {\"type\": \"point\", \"color\": \"black\", \"fillOpacity\": 1, \"strokeWidth\": 1}, \"encoding\": {\"fill\": {\"field\": \"is_present\", \"legend\": {\"title\": [\"Observed data\"]}, \"scale\": {\"range\": [\"#ffffff00\", \"gray\"]}, \"type\": \"nominal\"}, \"shape\": {\"field\": \"is_present\", \"scale\": {\"range\": [\"square\", \"circle\"]}, \"type\": \"nominal\"}, \"x\": {\"axis\": {\"domain\": true, \"labels\": true, \"ticks\": true, \"title\": \"time\"}, \"field\": \"time\", \"type\": \"temporal\"}, \"y\": {\"field\": \"value\", \"scale\": {\"zero\": false}, \"title\": \"TA\", \"type\": \"quantitative\"}}}, {\"layer\": [{\"mark\": \"rule\", \"encoding\": {\"x\": {\"axis\": {\"domain\": false, \"labels\": false, \"ticks\": false, \"title\": null}, \"field\": \"gap_start\", \"type\": \"temporal\"}}}, {\"mark\": \"rule\", \"encoding\": {\"x\": {\"axis\": {\"domain\": false, \"labels\": false, \"ticks\": false, \"title\": null}, \"field\": \"gap_end\", \"type\": \"temporal\"}}}, {\"mark\": {\"type\": \"rect\", \"color\": \"black\", \"opacity\": 0.15}, \"encoding\": {\"x\": {\"axis\": {\"domain\": false, \"labels\": false, \"ticks\": false, \"title\": null}, \"field\": \"gap_start\", \"type\": \"temporal\"}, \"x2\": {\"field\": \"gap_end\"}}}], \"data\": {\"name\": \"data-fb7c3156e561a69acdf322b4d9e975f3\"}}, {\"data\": {\"name\": \"data-7e2386eac9e56d41b956df10f61bd5dc\"}, \"mark\": \"errorband\", \"encoding\": {\"color\": {\"field\": \"variable\", \"legend\": {\"title\": [\"Line: pred. mean\", \"area: +/- 2 std\"]}, \"scale\": {\"domain\": [\"TA\", \"SW_IN\", \"VPD\", \"PA\", \"P\", \"WS\", \"LW_IN\"], \"range\": [\"#1B9E77\", \"#D95F02\", \"#7570B3\", \"#E7298A\", \"#66A61E\", \"#E6AB02\", \"#A6761D\", \"#666666\"]}, \"type\": \"nominal\"}, \"x\": {\"field\": \"time\", \"type\": \"temporal\"}, \"y\": {\"field\": \"err_low\", \"scale\": {\"zero\": false}, \"title\": \"TA\", \"type\": \"quantitative\"}, \"y2\": {\"field\": \"err_high\"}}, \"name\": \"view_381\"}, {\"data\": {\"name\": \"data-7e2386eac9e56d41b956df10f61bd5dc\"}, \"mark\": {\"type\": \"line\", \"color\": \"purple\", \"strokeDash\": [4, 6]}, \"encoding\": {\"x\": {\"field\": \"time\", \"type\": \"temporal\"}, \"y\": {\"field\": \"control\", \"scale\": {\"zero\": false}, \"title\": \"TA\", \"type\": \"quantitative\"}}}, {\"data\": {\"name\": \"data-7e2386eac9e56d41b956df10f61bd5dc\"}, \"mark\": \"line\", \"encoding\": {\"color\": {\"field\": \"variable\", \"scale\": {\"domain\": [\"TA\", \"SW_IN\", \"VPD\", \"PA\", \"P\", \"WS\", \"LW_IN\"], \"range\": [\"#1B9E77\", \"#D95F02\", \"#7570B3\", \"#E7298A\", \"#66A61E\", \"#E6AB02\", \"#A6761D\", \"#666666\"]}, \"type\": \"nominal\"}, \"x\": {\"field\": \"time\", \"type\": \"temporal\"}, \"y\": {\"field\": \"mean\", \"scale\": {\"zero\": false}, \"title\": \"TA\", \"type\": \"quantitative\"}}}], \"height\": 150, \"title\": \"\", \"width\": 200}]}], \"title\": \"\"}, {\"vconcat\": [{\"hconcat\": [{\"layer\": [{\"data\": {\"name\": \"data-1bf94a11675692f8d9042b6696598d3a\"}, \"mark\": {\"type\": \"point\", \"color\": \"black\", \"fillOpacity\": 1, \"strokeWidth\": 1}, \"encoding\": {\"fill\": {\"field\": \"is_present\", \"legend\": {\"title\": [\"Observed data\"]}, \"scale\": {\"range\": [\"#ffffff00\", \"gray\"]}, \"type\": \"nominal\"}, \"shape\": {\"field\": \"is_present\", \"scale\": {\"range\": [\"square\", \"circle\"]}, \"type\": \"nominal\"}, \"x\": {\"axis\": {\"domain\": true, \"labels\": true, \"ticks\": true, \"title\": \"time\"}, \"field\": \"time\", \"type\": \"temporal\"}, \"y\": {\"field\": \"value\", \"scale\": {\"zero\": false}, \"title\": \"TA\", \"type\": \"quantitative\"}}}, {\"layer\": [{\"mark\": \"rule\", \"encoding\": {\"x\": {\"axis\": {\"domain\": false, \"labels\": false, \"ticks\": false, \"title\": null}, \"field\": \"gap_start\", \"type\": \"temporal\"}}}, {\"mark\": \"rule\", \"encoding\": {\"x\": {\"axis\": {\"domain\": false, \"labels\": false, \"ticks\": false, \"title\": null}, \"field\": \"gap_end\", \"type\": \"temporal\"}}}, {\"mark\": {\"type\": \"rect\", \"color\": \"black\", \"opacity\": 0.15}, \"encoding\": {\"x\": {\"axis\": {\"domain\": false, \"labels\": false, \"ticks\": false, \"title\": null}, \"field\": \"gap_start\", \"type\": \"temporal\"}, \"x2\": {\"field\": \"gap_end\"}}}], \"data\": {\"name\": \"data-74b3e9b08341866b675618a1897ea637\"}}, {\"data\": {\"name\": \"data-1bf94a11675692f8d9042b6696598d3a\"}, \"mark\": \"errorband\", \"encoding\": {\"color\": {\"field\": \"variable\", \"legend\": {\"title\": [\"Line: pred. mean\", \"area: +/- 2 std\"]}, \"scale\": {\"domain\": [\"TA\", \"SW_IN\", \"VPD\", \"PA\", \"P\", \"WS\", \"LW_IN\"], \"range\": [\"#1B9E77\", \"#D95F02\", \"#7570B3\", \"#E7298A\", \"#66A61E\", \"#E6AB02\", \"#A6761D\", \"#666666\"]}, \"type\": \"nominal\"}, \"x\": {\"field\": \"time\", \"type\": \"temporal\"}, \"y\": {\"field\": \"err_low\", \"scale\": {\"zero\": false}, \"title\": \"TA\", \"type\": \"quantitative\"}, \"y2\": {\"field\": \"err_high\"}}, \"name\": \"view_382\"}, {\"data\": {\"name\": \"data-1bf94a11675692f8d9042b6696598d3a\"}, \"mark\": {\"type\": \"line\", \"color\": \"purple\", \"strokeDash\": [4, 6]}, \"encoding\": {\"x\": {\"field\": \"time\", \"type\": \"temporal\"}, \"y\": {\"field\": \"control\", \"scale\": {\"zero\": false}, \"title\": \"TA\", \"type\": \"quantitative\"}}}, {\"data\": {\"name\": \"data-1bf94a11675692f8d9042b6696598d3a\"}, \"mark\": \"line\", \"encoding\": {\"color\": {\"field\": \"variable\", \"scale\": {\"domain\": [\"TA\", \"SW_IN\", \"VPD\", \"PA\", \"P\", \"WS\", \"LW_IN\"], \"range\": [\"#1B9E77\", \"#D95F02\", \"#7570B3\", \"#E7298A\", \"#66A61E\", \"#E6AB02\", \"#A6761D\", \"#666666\"]}, \"type\": \"nominal\"}, \"x\": {\"field\": \"time\", \"type\": \"temporal\"}, \"y\": {\"field\": \"mean\", \"scale\": {\"zero\": false}, \"title\": \"TA\", \"type\": \"quantitative\"}}}], \"height\": 150, \"title\": \"\", \"width\": 200}]}], \"title\": \"\"}, {\"vconcat\": [{\"hconcat\": [{\"layer\": [{\"data\": {\"name\": \"data-02e0d946235a6b33de8979f7297e9f38\"}, \"mark\": {\"type\": \"point\", \"color\": \"black\", \"fillOpacity\": 1, \"strokeWidth\": 1}, \"encoding\": {\"fill\": {\"field\": \"is_present\", \"legend\": {\"title\": [\"Observed data\"]}, \"scale\": {\"range\": [\"#ffffff00\", \"gray\"]}, \"type\": \"nominal\"}, \"shape\": {\"field\": \"is_present\", \"scale\": {\"range\": [\"square\", \"circle\"]}, \"type\": \"nominal\"}, \"x\": {\"axis\": {\"domain\": true, \"labels\": true, \"ticks\": true, \"title\": \"time\"}, \"field\": \"time\", \"type\": \"temporal\"}, \"y\": {\"field\": \"value\", \"scale\": {\"zero\": false}, \"title\": \"TA\", \"type\": \"quantitative\"}}}, {\"layer\": [{\"mark\": \"rule\", \"encoding\": {\"x\": {\"axis\": {\"domain\": false, \"labels\": false, \"ticks\": false, \"title\": null}, \"field\": \"gap_start\", \"type\": \"temporal\"}}}, {\"mark\": \"rule\", \"encoding\": {\"x\": {\"axis\": {\"domain\": false, \"labels\": false, \"ticks\": false, \"title\": null}, \"field\": \"gap_end\", \"type\": \"temporal\"}}}, {\"mark\": {\"type\": \"rect\", \"color\": \"black\", \"opacity\": 0.15}, \"encoding\": {\"x\": {\"axis\": {\"domain\": false, \"labels\": false, \"ticks\": false, \"title\": null}, \"field\": \"gap_start\", \"type\": \"temporal\"}, \"x2\": {\"field\": \"gap_end\"}}}], \"data\": {\"name\": \"data-71778cae0dd8b7a0acd9712f9c55b0ec\"}}, {\"data\": {\"name\": \"data-02e0d946235a6b33de8979f7297e9f38\"}, \"mark\": \"errorband\", \"encoding\": {\"color\": {\"field\": \"variable\", \"legend\": {\"title\": [\"Line: pred. mean\", \"area: +/- 2 std\"]}, \"scale\": {\"domain\": [\"TA\", \"SW_IN\", \"VPD\", \"PA\", \"P\", \"WS\", \"LW_IN\"], \"range\": [\"#1B9E77\", \"#D95F02\", \"#7570B3\", \"#E7298A\", \"#66A61E\", \"#E6AB02\", \"#A6761D\", \"#666666\"]}, \"type\": \"nominal\"}, \"x\": {\"field\": \"time\", \"type\": \"temporal\"}, \"y\": {\"field\": \"err_low\", \"scale\": {\"zero\": false}, \"title\": \"TA\", \"type\": \"quantitative\"}, \"y2\": {\"field\": \"err_high\"}}, \"name\": \"view_383\"}, {\"data\": {\"name\": \"data-02e0d946235a6b33de8979f7297e9f38\"}, \"mark\": {\"type\": \"line\", \"color\": \"purple\", \"strokeDash\": [4, 6]}, \"encoding\": {\"x\": {\"field\": \"time\", \"type\": \"temporal\"}, \"y\": {\"field\": \"control\", \"scale\": {\"zero\": false}, \"title\": \"TA\", \"type\": \"quantitative\"}}}, {\"data\": {\"name\": \"data-02e0d946235a6b33de8979f7297e9f38\"}, \"mark\": \"line\", \"encoding\": {\"color\": {\"field\": \"variable\", \"scale\": {\"domain\": [\"TA\", \"SW_IN\", \"VPD\", \"PA\", \"P\", \"WS\", \"LW_IN\"], \"range\": [\"#1B9E77\", \"#D95F02\", \"#7570B3\", \"#E7298A\", \"#66A61E\", \"#E6AB02\", \"#A6761D\", \"#666666\"]}, \"type\": \"nominal\"}, \"x\": {\"field\": \"time\", \"type\": \"temporal\"}, \"y\": {\"field\": \"mean\", \"scale\": {\"zero\": false}, \"title\": \"TA\", \"type\": \"quantitative\"}}}], \"height\": 150, \"title\": \"\", \"width\": 200}]}], \"title\": \"\"}, {\"vconcat\": [{\"hconcat\": [{\"layer\": [{\"data\": {\"name\": \"data-456510d8a0256eb30d36676c5136dd8e\"}, \"mark\": {\"type\": \"point\", \"color\": \"black\", \"fillOpacity\": 1, \"strokeWidth\": 1}, \"encoding\": {\"fill\": {\"field\": \"is_present\", \"legend\": {\"title\": [\"Observed data\"]}, \"scale\": {\"range\": [\"#ffffff00\", \"gray\"]}, \"type\": \"nominal\"}, \"shape\": {\"field\": \"is_present\", \"scale\": {\"range\": [\"square\", \"circle\"]}, \"type\": \"nominal\"}, \"x\": {\"axis\": {\"domain\": true, \"labels\": true, \"ticks\": true, \"title\": \"time\"}, \"field\": \"time\", \"type\": \"temporal\"}, \"y\": {\"field\": \"value\", \"scale\": {\"zero\": false}, \"title\": \"TA\", \"type\": \"quantitative\"}}}, {\"layer\": [{\"mark\": \"rule\", \"encoding\": {\"x\": {\"axis\": {\"domain\": false, \"labels\": false, \"ticks\": false, \"title\": null}, \"field\": \"gap_start\", \"type\": \"temporal\"}}}, {\"mark\": \"rule\", \"encoding\": {\"x\": {\"axis\": {\"domain\": false, \"labels\": false, \"ticks\": false, \"title\": null}, \"field\": \"gap_end\", \"type\": \"temporal\"}}}, {\"mark\": {\"type\": \"rect\", \"color\": \"black\", \"opacity\": 0.15}, \"encoding\": {\"x\": {\"axis\": {\"domain\": false, \"labels\": false, \"ticks\": false, \"title\": null}, \"field\": \"gap_start\", \"type\": \"temporal\"}, \"x2\": {\"field\": \"gap_end\"}}}], \"data\": {\"name\": \"data-437e92ae9b11124c5aa7b8b5f6bbce64\"}}, {\"data\": {\"name\": \"data-456510d8a0256eb30d36676c5136dd8e\"}, \"mark\": \"errorband\", \"encoding\": {\"color\": {\"field\": \"variable\", \"legend\": {\"title\": [\"Line: pred. mean\", \"area: +/- 2 std\"]}, \"scale\": {\"domain\": [\"TA\", \"SW_IN\", \"VPD\", \"PA\", \"P\", \"WS\", \"LW_IN\"], \"range\": [\"#1B9E77\", \"#D95F02\", \"#7570B3\", \"#E7298A\", \"#66A61E\", \"#E6AB02\", \"#A6761D\", \"#666666\"]}, \"type\": \"nominal\"}, \"x\": {\"field\": \"time\", \"type\": \"temporal\"}, \"y\": {\"field\": \"err_low\", \"scale\": {\"zero\": false}, \"title\": \"TA\", \"type\": \"quantitative\"}, \"y2\": {\"field\": \"err_high\"}}, \"name\": \"view_384\"}, {\"data\": {\"name\": \"data-456510d8a0256eb30d36676c5136dd8e\"}, \"mark\": {\"type\": \"line\", \"color\": \"purple\", \"strokeDash\": [4, 6]}, \"encoding\": {\"x\": {\"field\": \"time\", \"type\": \"temporal\"}, \"y\": {\"field\": \"control\", \"scale\": {\"zero\": false}, \"title\": \"TA\", \"type\": \"quantitative\"}}}, {\"data\": {\"name\": \"data-456510d8a0256eb30d36676c5136dd8e\"}, \"mark\": \"line\", \"encoding\": {\"color\": {\"field\": \"variable\", \"scale\": {\"domain\": [\"TA\", \"SW_IN\", \"VPD\", \"PA\", \"P\", \"WS\", \"LW_IN\"], \"range\": [\"#1B9E77\", \"#D95F02\", \"#7570B3\", \"#E7298A\", \"#66A61E\", \"#E6AB02\", \"#A6761D\", \"#666666\"]}, \"type\": \"nominal\"}, \"x\": {\"field\": \"time\", \"type\": \"temporal\"}, \"y\": {\"field\": \"mean\", \"scale\": {\"zero\": false}, \"title\": \"TA\", \"type\": \"quantitative\"}}}], \"height\": 150, \"title\": \"\", \"width\": 200}]}], \"title\": \"\"}], \"params\": [{\"name\": \"param_678\", \"select\": {\"type\": \"interval\", \"encodings\": [\"x\"]}, \"bind\": \"scales\", \"views\": [\"view_381\"]}, {\"name\": \"param_680\", \"select\": {\"type\": \"interval\", \"encodings\": [\"x\"]}, \"bind\": \"scales\", \"views\": [\"view_382\"]}, {\"name\": \"param_682\", \"select\": {\"type\": \"interval\", \"encodings\": [\"x\"]}, \"bind\": \"scales\", \"views\": [\"view_383\"]}, {\"name\": \"param_684\", \"select\": {\"type\": \"interval\", \"encodings\": [\"x\"]}, \"bind\": \"scales\", \"views\": [\"view_384\"]}], \"$schema\": \"https://vega.github.io/schema/vega-lite/v5.2.0.json\", \"datasets\": {\"data-7e2386eac9e56d41b956df10f61bd5dc\": [{\"time\": \"2011-03-29T08:30:00\", \"variable\": \"TA\", \"value\": 5.31, \"control\": 1.277, \"is_present\": true, \"mean\": null, \"std\": null, \"err_low\": null, \"err_high\": null}, {\"time\": \"2011-03-29T09:00:00\", \"variable\": \"TA\", \"value\": 5.37, \"control\": 2.646, \"is_present\": true, \"mean\": null, \"std\": null, \"err_low\": null, \"err_high\": null}, {\"time\": \"2011-03-29T09:30:00\", \"variable\": \"TA\", \"value\": 6.02, \"control\": 4.014, \"is_present\": true, \"mean\": null, \"std\": null, \"err_low\": null, \"err_high\": null}, {\"time\": \"2011-03-29T10:00:00\", \"variable\": \"TA\", \"value\": 6.49, \"control\": 5.382, \"is_present\": true, \"mean\": null, \"std\": null, \"err_low\": null, \"err_high\": null}, {\"time\": \"2011-03-29T10:30:00\", \"variable\": \"TA\", \"value\": 6.91, \"control\": 6.751, \"is_present\": true, \"mean\": null, \"std\": null, \"err_low\": null, \"err_high\": null}, {\"time\": \"2011-03-29T11:00:00\", \"variable\": \"TA\", \"value\": 7.97, \"control\": 7.422, \"is_present\": true, \"mean\": null, \"std\": null, \"err_low\": null, \"err_high\": null}, {\"time\": \"2011-03-29T11:30:00\", \"variable\": \"TA\", \"value\": 8.71, \"control\": 8.094, \"is_present\": true, \"mean\": null, \"std\": null, \"err_low\": null, \"err_high\": null}, {\"time\": \"2011-03-29T12:00:00\", \"variable\": \"TA\", \"value\": 9.21, \"control\": 8.766, \"is_present\": true, \"mean\": null, \"std\": null, \"err_low\": null, \"err_high\": null}, {\"time\": \"2011-03-29T12:30:00\", \"variable\": \"TA\", \"value\": 9.91, \"control\": 9.437, \"is_present\": true, \"mean\": null, \"std\": null, \"err_low\": null, \"err_high\": null}, {\"time\": \"2011-03-29T13:00:00\", \"variable\": \"TA\", \"value\": 10.37, \"control\": 10.109, \"is_present\": true, \"mean\": null, \"std\": null, \"err_low\": null, \"err_high\": null}, {\"time\": \"2011-03-29T13:30:00\", \"variable\": \"TA\", \"value\": 11.03, \"control\": 10.78, \"is_present\": true, \"mean\": null, \"std\": null, \"err_low\": null, \"err_high\": null}, {\"time\": \"2011-03-29T14:00:00\", \"variable\": \"TA\", \"value\": 11.66, \"control\": 10.998, \"is_present\": true, \"mean\": null, \"std\": null, \"err_low\": null, \"err_high\": null}, {\"time\": \"2011-03-29T14:30:00\", \"variable\": \"TA\", \"value\": 12.1, \"control\": 11.215, \"is_present\": true, \"mean\": null, \"std\": null, \"err_low\": null, \"err_high\": null}, {\"time\": \"2011-03-29T15:00:00\", \"variable\": \"TA\", \"value\": 12.58, \"control\": 11.433, \"is_present\": true, \"mean\": null, \"std\": null, \"err_low\": null, \"err_high\": null}, {\"time\": \"2011-03-29T15:30:00\", \"variable\": \"TA\", \"value\": 13.06, \"control\": 11.65, \"is_present\": true, \"mean\": null, \"std\": null, \"err_low\": null, \"err_high\": null}, {\"time\": \"2011-03-29T16:00:00\", \"variable\": \"TA\", \"value\": 13.48, \"control\": 11.868, \"is_present\": true, \"mean\": null, \"std\": null, \"err_low\": null, \"err_high\": null}, {\"time\": \"2011-03-29T16:30:00\", \"variable\": \"TA\", \"value\": 13.56, \"control\": 12.085, \"is_present\": true, \"mean\": null, \"std\": null, \"err_low\": null, \"err_high\": null}, {\"time\": \"2011-03-29T17:00:00\", \"variable\": \"TA\", \"value\": 13.52, \"control\": 11.517, \"is_present\": true, \"mean\": null, \"std\": null, \"err_low\": null, \"err_high\": null}, {\"time\": \"2011-03-29T17:30:00\", \"variable\": \"TA\", \"value\": 13.6, \"control\": 10.948, \"is_present\": true, \"mean\": null, \"std\": null, \"err_low\": null, \"err_high\": null}, {\"time\": \"2011-03-29T18:00:00\", \"variable\": \"TA\", \"value\": 13.34, \"control\": 10.38, \"is_present\": true, \"mean\": null, \"std\": null, \"err_low\": null, \"err_high\": null}, {\"time\": \"2011-03-29T18:30:00\", \"variable\": \"TA\", \"value\": 12.81, \"control\": 9.812, \"is_present\": true, \"mean\": null, \"std\": null, \"err_low\": null, \"err_high\": null}, {\"time\": \"2011-03-29T19:00:00\", \"variable\": \"TA\", \"value\": 12.11, \"control\": 9.243, \"is_present\": true, \"mean\": null, \"std\": null, \"err_low\": null, \"err_high\": null}, {\"time\": \"2011-03-29T19:30:00\", \"variable\": \"TA\", \"value\": 11.74, \"control\": 8.675, \"is_present\": true, \"mean\": null, \"std\": null, \"err_low\": null, \"err_high\": null}, {\"time\": \"2011-03-29T20:00:00\", \"variable\": \"TA\", \"value\": 11.49, \"control\": 7.985, \"is_present\": true, \"mean\": null, \"std\": null, \"err_low\": null, \"err_high\": null}, {\"time\": \"2011-03-29T20:30:00\", \"variable\": \"TA\", \"value\": 11.01, \"control\": 7.295, \"is_present\": true, \"mean\": null, \"std\": null, \"err_low\": null, \"err_high\": null}, {\"time\": \"2011-03-29T21:00:00\", \"variable\": \"TA\", \"value\": 10.68, \"control\": 6.605, \"is_present\": false, \"mean\": 10.783334234236161, \"std\": 0.3725883186075047, \"err_low\": 10.038157597021153, \"err_high\": 11.52851087145117}, {\"time\": \"2011-03-29T21:30:00\", \"variable\": \"TA\", \"value\": 10.87, \"control\": 5.915, \"is_present\": false, \"mean\": 10.689408182586398, \"std\": 0.38200375734544284, \"err_low\": 9.925400667895513, \"err_high\": 11.453415697277283}, {\"time\": \"2011-03-29T22:00:00\", \"variable\": \"TA\", \"value\": 10.57, \"control\": 5.225, \"is_present\": false, \"mean\": 10.422183120066302, \"std\": 0.3835074124298634, \"err_low\": 9.655168295206575, \"err_high\": 11.189197944926029}, {\"time\": \"2011-03-29T22:30:00\", \"variable\": \"TA\", \"value\": 10.19, \"control\": 4.535, \"is_present\": false, \"mean\": 10.16821761899571, \"std\": 0.3764929150678436, \"err_low\": 9.415231788860023, \"err_high\": 10.921203449131397}, {\"time\": \"2011-03-29T23:00:00\", \"variable\": \"TA\", \"value\": 10.08, \"control\": 3.936, \"is_present\": false, \"mean\": 10.09429365986931, \"std\": 0.36465854900406147, \"err_low\": 9.364976561861187, \"err_high\": 10.823610757877432}, {\"time\": \"2011-03-29T23:30:00\", \"variable\": \"TA\", \"value\": 9.92, \"control\": 3.336, \"is_present\": true, \"mean\": null, \"std\": null, \"err_low\": null, \"err_high\": null}, {\"time\": \"2011-03-30T00:00:00\", \"variable\": \"TA\", \"value\": 9.7, \"control\": 2.736, \"is_present\": true, \"mean\": null, \"std\": null, \"err_low\": null, \"err_high\": null}, {\"time\": \"2011-03-30T00:30:00\", \"variable\": \"TA\", \"value\": 9.72, \"control\": 2.136, \"is_present\": true, \"mean\": null, \"std\": null, \"err_low\": null, \"err_high\": null}, {\"time\": \"2011-03-30T01:00:00\", \"variable\": \"TA\", \"value\": 9.87, \"control\": 1.536, \"is_present\": true, \"mean\": null, \"std\": null, \"err_low\": null, \"err_high\": null}, {\"time\": \"2011-03-30T01:30:00\", \"variable\": \"TA\", \"value\": 9.64, \"control\": 0.936, \"is_present\": true, \"mean\": null, \"std\": null, \"err_low\": null, \"err_high\": null}, {\"time\": \"2011-03-30T02:00:00\", \"variable\": \"TA\", \"value\": 9.38, \"control\": 0.873, \"is_present\": true, \"mean\": null, \"std\": null, \"err_low\": null, \"err_high\": null}, {\"time\": \"2011-03-30T02:30:00\", \"variable\": \"TA\", \"value\": 9.18, \"control\": 0.811, \"is_present\": true, \"mean\": null, \"std\": null, \"err_low\": null, \"err_high\": null}, {\"time\": \"2011-03-30T03:00:00\", \"variable\": \"TA\", \"value\": 9.59, \"control\": 0.748, \"is_present\": true, \"mean\": null, \"std\": null, \"err_low\": null, \"err_high\": null}, {\"time\": \"2011-03-30T03:30:00\", \"variable\": \"TA\", \"value\": 9.71, \"control\": 0.686, \"is_present\": true, \"mean\": null, \"std\": null, \"err_low\": null, \"err_high\": null}, {\"time\": \"2011-03-30T04:00:00\", \"variable\": \"TA\", \"value\": 10.04, \"control\": 0.623, \"is_present\": true, \"mean\": null, \"std\": null, \"err_low\": null, \"err_high\": null}, {\"time\": \"2011-03-30T04:30:00\", \"variable\": \"TA\", \"value\": 9.9, \"control\": 0.561, \"is_present\": true, \"mean\": null, \"std\": null, \"err_low\": null, \"err_high\": null}, {\"time\": \"2011-03-30T05:00:00\", \"variable\": \"TA\", \"value\": 9.42, \"control\": 0.538, \"is_present\": true, \"mean\": null, \"std\": null, \"err_low\": null, \"err_high\": null}, {\"time\": \"2011-03-30T05:30:00\", \"variable\": \"TA\", \"value\": 9.54, \"control\": 0.515, \"is_present\": true, \"mean\": null, \"std\": null, \"err_low\": null, \"err_high\": null}, {\"time\": \"2011-03-30T06:00:00\", \"variable\": \"TA\", \"value\": 9.74, \"control\": 0.492, \"is_present\": true, \"mean\": null, \"std\": null, \"err_low\": null, \"err_high\": null}, {\"time\": \"2011-03-30T06:30:00\", \"variable\": \"TA\", \"value\": 9.34, \"control\": 0.469, \"is_present\": true, \"mean\": null, \"std\": null, \"err_low\": null, \"err_high\": null}, {\"time\": \"2011-03-30T07:00:00\", \"variable\": \"TA\", \"value\": 9.42, \"control\": 0.446, \"is_present\": true, \"mean\": null, \"std\": null, \"err_low\": null, \"err_high\": null}, {\"time\": \"2011-03-30T07:30:00\", \"variable\": \"TA\", \"value\": 9.3, \"control\": 0.423, \"is_present\": true, \"mean\": null, \"std\": null, \"err_low\": null, \"err_high\": null}, {\"time\": \"2011-03-30T08:00:00\", \"variable\": \"TA\", \"value\": 9.71, \"control\": 2.155, \"is_present\": true, \"mean\": null, \"std\": null, \"err_low\": null, \"err_high\": null}, {\"time\": \"2011-03-30T08:30:00\", \"variable\": \"TA\", \"value\": 9.96, \"control\": 3.886, \"is_present\": true, \"mean\": null, \"std\": null, \"err_low\": null, \"err_high\": null}, {\"time\": \"2011-03-30T09:00:00\", \"variable\": \"TA\", \"value\": 9.75, \"control\": 5.618, \"is_present\": true, \"mean\": null, \"std\": null, \"err_low\": null, \"err_high\": null}], \"data-fb7c3156e561a69acdf322b4d9e975f3\": [{\"gap_start\": \"2011-03-29T21:00:00\", \"gap_end\": \"2011-03-29T23:00:00\"}], \"data-1bf94a11675692f8d9042b6696598d3a\": [{\"time\": \"2011-04-01T01:30:00\", \"variable\": \"TA\", \"value\": 10.59, \"control\": 9.982, \"is_present\": true, \"mean\": null, \"std\": null, \"err_low\": null, \"err_high\": null}, {\"time\": \"2011-04-01T02:00:00\", \"variable\": \"TA\", \"value\": 10.58, \"control\": 9.983, \"is_present\": true, \"mean\": null, \"std\": null, \"err_low\": null, \"err_high\": null}, {\"time\": \"2011-04-01T02:30:00\", \"variable\": \"TA\", \"value\": 10.6, \"control\": 9.983, \"is_present\": true, \"mean\": null, \"std\": null, \"err_low\": null, \"err_high\": null}, {\"time\": \"2011-04-01T03:00:00\", \"variable\": \"TA\", \"value\": 10.69, \"control\": 9.984, \"is_present\": true, \"mean\": null, \"std\": null, \"err_low\": null, \"err_high\": null}, {\"time\": \"2011-04-01T03:30:00\", \"variable\": \"TA\", \"value\": 10.67, \"control\": 9.985, \"is_present\": true, \"mean\": null, \"std\": null, \"err_low\": null, \"err_high\": null}, {\"time\": \"2011-04-01T04:00:00\", \"variable\": \"TA\", \"value\": 10.57, \"control\": 9.986, \"is_present\": true, \"mean\": null, \"std\": null, \"err_low\": null, \"err_high\": null}, {\"time\": \"2011-04-01T04:30:00\", \"variable\": \"TA\", \"value\": 10.47, \"control\": 9.986, \"is_present\": true, \"mean\": null, \"std\": null, \"err_low\": null, \"err_high\": null}, {\"time\": \"2011-04-01T05:00:00\", \"variable\": \"TA\", \"value\": 10.35, \"control\": 9.922, \"is_present\": true, \"mean\": null, \"std\": null, \"err_low\": null, \"err_high\": null}, {\"time\": \"2011-04-01T05:30:00\", \"variable\": \"TA\", \"value\": 10.28, \"control\": 9.857, \"is_present\": true, \"mean\": null, \"std\": null, \"err_low\": null, \"err_high\": null}, {\"time\": \"2011-04-01T06:00:00\", \"variable\": \"TA\", \"value\": 10.27, \"control\": 9.792, \"is_present\": true, \"mean\": null, \"std\": null, \"err_low\": null, \"err_high\": null}, {\"time\": \"2011-04-01T06:30:00\", \"variable\": \"TA\", \"value\": 10.14, \"control\": 9.727, \"is_present\": true, \"mean\": null, \"std\": null, \"err_low\": null, \"err_high\": null}, {\"time\": \"2011-04-01T07:00:00\", \"variable\": \"TA\", \"value\": 10.22, \"control\": 9.662, \"is_present\": true, \"mean\": null, \"std\": null, \"err_low\": null, \"err_high\": null}, {\"time\": \"2011-04-01T07:30:00\", \"variable\": \"TA\", \"value\": 10.31, \"control\": 9.597, \"is_present\": true, \"mean\": null, \"std\": null, \"err_low\": null, \"err_high\": null}, {\"time\": \"2011-04-01T08:00:00\", \"variable\": \"TA\", \"value\": 10.6, \"control\": 9.712, \"is_present\": true, \"mean\": null, \"std\": null, \"err_low\": null, \"err_high\": null}, {\"time\": \"2011-04-01T08:30:00\", \"variable\": \"TA\", \"value\": 10.52, \"control\": 9.828, \"is_present\": true, \"mean\": null, \"std\": null, \"err_low\": null, \"err_high\": null}, {\"time\": \"2011-04-01T09:00:00\", \"variable\": \"TA\", \"value\": 10.91, \"control\": 9.943, \"is_present\": true, \"mean\": null, \"std\": null, \"err_low\": null, \"err_high\": null}, {\"time\": \"2011-04-01T09:30:00\", \"variable\": \"TA\", \"value\": 11.13, \"control\": 10.058, \"is_present\": true, \"mean\": null, \"std\": null, \"err_low\": null, \"err_high\": null}, {\"time\": \"2011-04-01T10:00:00\", \"variable\": \"TA\", \"value\": 11.37, \"control\": 10.173, \"is_present\": true, \"mean\": null, \"std\": null, \"err_low\": null, \"err_high\": null}, {\"time\": \"2011-04-01T10:30:00\", \"variable\": \"TA\", \"value\": 12.29, \"control\": 10.289, \"is_present\": true, \"mean\": null, \"std\": null, \"err_low\": null, \"err_high\": null}, {\"time\": \"2011-04-01T11:00:00\", \"variable\": \"TA\", \"value\": 12.65, \"control\": 10.649, \"is_present\": true, \"mean\": null, \"std\": null, \"err_low\": null, \"err_high\": null}, {\"time\": \"2011-04-01T11:30:00\", \"variable\": \"TA\", \"value\": 12.8, \"control\": 11.01, \"is_present\": true, \"mean\": null, \"std\": null, \"err_low\": null, \"err_high\": null}, {\"time\": \"2011-04-01T12:00:00\", \"variable\": \"TA\", \"value\": 13.01, \"control\": 11.371, \"is_present\": true, \"mean\": null, \"std\": null, \"err_low\": null, \"err_high\": null}, {\"time\": \"2011-04-01T12:30:00\", \"variable\": \"TA\", \"value\": 12.95, \"control\": 11.731, \"is_present\": true, \"mean\": null, \"std\": null, \"err_low\": null, \"err_high\": null}, {\"time\": \"2011-04-01T13:00:00\", \"variable\": \"TA\", \"value\": 12.83, \"control\": 12.092, \"is_present\": true, \"mean\": null, \"std\": null, \"err_low\": null, \"err_high\": null}, {\"time\": \"2011-04-01T13:30:00\", \"variable\": \"TA\", \"value\": 13.19, \"control\": 12.453, \"is_present\": true, \"mean\": null, \"std\": null, \"err_low\": null, \"err_high\": null}, {\"time\": \"2011-04-01T14:00:00\", \"variable\": \"TA\", \"value\": 13.81, \"control\": 12.84, \"is_present\": false, \"mean\": 13.856933922564533, \"std\": 0.3725883186075047, \"err_low\": 13.111757285349524, \"err_high\": 14.602110559779542}, {\"time\": \"2011-04-01T14:30:00\", \"variable\": \"TA\", \"value\": 14.7, \"control\": 13.227, \"is_present\": false, \"mean\": 14.584766083753125, \"std\": 0.38200375734544284, \"err_low\": 13.82075856906224, \"err_high\": 15.34877359844401}, {\"time\": \"2011-04-01T15:00:00\", \"variable\": \"TA\", \"value\": 14.83, \"control\": 13.615, \"is_present\": false, \"mean\": 14.82075800076153, \"std\": 0.3835074124298634, \"err_low\": 14.053743175901802, \"err_high\": 15.587772825621256}, {\"time\": \"2011-04-01T15:30:00\", \"variable\": \"TA\", \"value\": 14.76, \"control\": 14.002, \"is_present\": false, \"mean\": 14.858462631142856, \"std\": 0.3764929150678436, \"err_low\": 14.10547680100717, \"err_high\": 15.611448461278544}, {\"time\": \"2011-04-01T16:00:00\", \"variable\": \"TA\", \"value\": 14.88, \"control\": 14.389, \"is_present\": false, \"mean\": 14.93105835686265, \"std\": 0.36465854900406147, \"err_low\": 14.201741258854527, \"err_high\": 15.660375454870772}, {\"time\": \"2011-04-01T16:30:00\", \"variable\": \"TA\", \"value\": 14.26, \"control\": 14.777, \"is_present\": true, \"mean\": null, \"std\": null, \"err_low\": null, \"err_high\": null}, {\"time\": \"2011-04-01T17:00:00\", \"variable\": \"TA\", \"value\": 13.74, \"control\": 14.419, \"is_present\": true, \"mean\": null, \"std\": null, \"err_low\": null, \"err_high\": null}, {\"time\": \"2011-04-01T17:30:00\", \"variable\": \"TA\", \"value\": 13.46, \"control\": 14.06, \"is_present\": true, \"mean\": null, \"std\": null, \"err_low\": null, \"err_high\": null}, {\"time\": \"2011-04-01T18:00:00\", \"variable\": \"TA\", \"value\": 13.31, \"control\": 13.702, \"is_present\": true, \"mean\": null, \"std\": null, \"err_low\": null, \"err_high\": null}, {\"time\": \"2011-04-01T18:30:00\", \"variable\": \"TA\", \"value\": 13.13, \"control\": 13.344, \"is_present\": true, \"mean\": null, \"std\": null, \"err_low\": null, \"err_high\": null}, {\"time\": \"2011-04-01T19:00:00\", \"variable\": \"TA\", \"value\": 13.04, \"control\": 12.986, \"is_present\": true, \"mean\": null, \"std\": null, \"err_low\": null, \"err_high\": null}, {\"time\": \"2011-04-01T19:30:00\", \"variable\": \"TA\", \"value\": 12.97, \"control\": 12.628, \"is_present\": true, \"mean\": null, \"std\": null, \"err_low\": null, \"err_high\": null}, {\"time\": \"2011-04-01T20:00:00\", \"variable\": \"TA\", \"value\": 12.83, \"control\": 12.267, \"is_present\": true, \"mean\": null, \"std\": null, \"err_low\": null, \"err_high\": null}, {\"time\": \"2011-04-01T20:30:00\", \"variable\": \"TA\", \"value\": 12.7, \"control\": 11.907, \"is_present\": true, \"mean\": null, \"std\": null, \"err_low\": null, \"err_high\": null}, {\"time\": \"2011-04-01T21:00:00\", \"variable\": \"TA\", \"value\": 12.54, \"control\": 11.546, \"is_present\": true, \"mean\": null, \"std\": null, \"err_low\": null, \"err_high\": null}, {\"time\": \"2011-04-01T21:30:00\", \"variable\": \"TA\", \"value\": 12.28, \"control\": 11.185, \"is_present\": true, \"mean\": null, \"std\": null, \"err_low\": null, \"err_high\": null}, {\"time\": \"2011-04-01T22:00:00\", \"variable\": \"TA\", \"value\": 12.04, \"control\": 10.825, \"is_present\": true, \"mean\": null, \"std\": null, \"err_low\": null, \"err_high\": null}, {\"time\": \"2011-04-01T22:30:00\", \"variable\": \"TA\", \"value\": 11.89, \"control\": 10.464, \"is_present\": true, \"mean\": null, \"std\": null, \"err_low\": null, \"err_high\": null}, {\"time\": \"2011-04-01T23:00:00\", \"variable\": \"TA\", \"value\": 11.98, \"control\": 10.196, \"is_present\": true, \"mean\": null, \"std\": null, \"err_low\": null, \"err_high\": null}, {\"time\": \"2011-04-01T23:30:00\", \"variable\": \"TA\", \"value\": 11.95, \"control\": 9.928, \"is_present\": true, \"mean\": null, \"std\": null, \"err_low\": null, \"err_high\": null}, {\"time\": \"2011-04-02T00:00:00\", \"variable\": \"TA\", \"value\": 11.67, \"control\": 9.66, \"is_present\": true, \"mean\": null, \"std\": null, \"err_low\": null, \"err_high\": null}, {\"time\": \"2011-04-02T00:30:00\", \"variable\": \"TA\", \"value\": 11.4, \"control\": 9.392, \"is_present\": true, \"mean\": null, \"std\": null, \"err_low\": null, \"err_high\": null}, {\"time\": \"2011-04-02T01:00:00\", \"variable\": \"TA\", \"value\": 11.22, \"control\": 9.124, \"is_present\": true, \"mean\": null, \"std\": null, \"err_low\": null, \"err_high\": null}, {\"time\": \"2011-04-02T01:30:00\", \"variable\": \"TA\", \"value\": 11.1, \"control\": 8.856, \"is_present\": true, \"mean\": null, \"std\": null, \"err_low\": null, \"err_high\": null}, {\"time\": \"2011-04-02T02:00:00\", \"variable\": \"TA\", \"value\": 10.95, \"control\": 8.478, \"is_present\": true, \"mean\": null, \"std\": null, \"err_low\": null, \"err_high\": null}], \"data-74b3e9b08341866b675618a1897ea637\": [{\"gap_start\": \"2011-04-01T14:00:00\", \"gap_end\": \"2011-04-01T16:00:00\"}], \"data-02e0d946235a6b33de8979f7297e9f38\": [{\"time\": \"2011-01-12T17:30:00\", \"variable\": \"TA\", \"value\": 1.46, \"control\": 1.641, \"is_present\": true, \"mean\": null, \"std\": null, \"err_low\": null, \"err_high\": null}, {\"time\": \"2011-01-12T18:00:00\", \"variable\": \"TA\", \"value\": 1.47, \"control\": 1.679, \"is_present\": true, \"mean\": null, \"std\": null, \"err_low\": null, \"err_high\": null}, {\"time\": \"2011-01-12T18:30:00\", \"variable\": \"TA\", \"value\": 1.41, \"control\": 1.717, \"is_present\": true, \"mean\": null, \"std\": null, \"err_low\": null, \"err_high\": null}, {\"time\": \"2011-01-12T19:00:00\", \"variable\": \"TA\", \"value\": 1.53, \"control\": 1.755, \"is_present\": true, \"mean\": null, \"std\": null, \"err_low\": null, \"err_high\": null}, {\"time\": \"2011-01-12T19:30:00\", \"variable\": \"TA\", \"value\": 1.72, \"control\": 1.793, \"is_present\": true, \"mean\": null, \"std\": null, \"err_low\": null, \"err_high\": null}, {\"time\": \"2011-01-12T20:00:00\", \"variable\": \"TA\", \"value\": 1.95, \"control\": 1.975, \"is_present\": true, \"mean\": null, \"std\": null, \"err_low\": null, \"err_high\": null}, {\"time\": \"2011-01-12T20:30:00\", \"variable\": \"TA\", \"value\": 2.22, \"control\": 2.158, \"is_present\": true, \"mean\": null, \"std\": null, \"err_low\": null, \"err_high\": null}, {\"time\": \"2011-01-12T21:00:00\", \"variable\": \"TA\", \"value\": 2.49, \"control\": 2.34, \"is_present\": true, \"mean\": null, \"std\": null, \"err_low\": null, \"err_high\": null}, {\"time\": \"2011-01-12T21:30:00\", \"variable\": \"TA\", \"value\": 2.77, \"control\": 2.523, \"is_present\": true, \"mean\": null, \"std\": null, \"err_low\": null, \"err_high\": null}, {\"time\": \"2011-01-12T22:00:00\", \"variable\": \"TA\", \"value\": 2.93, \"control\": 2.705, \"is_present\": true, \"mean\": null, \"std\": null, \"err_low\": null, \"err_high\": null}, {\"time\": \"2011-01-12T22:30:00\", \"variable\": \"TA\", \"value\": 3.04, \"control\": 2.887, \"is_present\": true, \"mean\": null, \"std\": null, \"err_low\": null, \"err_high\": null}, {\"time\": \"2011-01-12T23:00:00\", \"variable\": \"TA\", \"value\": 3.28, \"control\": 3.154, \"is_present\": true, \"mean\": null, \"std\": null, \"err_low\": null, \"err_high\": null}, {\"time\": \"2011-01-12T23:30:00\", \"variable\": \"TA\", \"value\": 3.4, \"control\": 3.42, \"is_present\": true, \"mean\": null, \"std\": null, \"err_low\": null, \"err_high\": null}, {\"time\": \"2011-01-13T00:00:00\", \"variable\": \"TA\", \"value\": 3.57, \"control\": 3.686, \"is_present\": true, \"mean\": null, \"std\": null, \"err_low\": null, \"err_high\": null}, {\"time\": \"2011-01-13T00:30:00\", \"variable\": \"TA\", \"value\": 3.69, \"control\": 3.952, \"is_present\": true, \"mean\": null, \"std\": null, \"err_low\": null, \"err_high\": null}, {\"time\": \"2011-01-13T01:00:00\", \"variable\": \"TA\", \"value\": 3.83, \"control\": 4.218, \"is_present\": true, \"mean\": null, \"std\": null, \"err_low\": null, \"err_high\": null}, {\"time\": \"2011-01-13T01:30:00\", \"variable\": \"TA\", \"value\": 3.94, \"control\": 4.484, \"is_present\": true, \"mean\": null, \"std\": null, \"err_low\": null, \"err_high\": null}, {\"time\": \"2011-01-13T02:00:00\", \"variable\": \"TA\", \"value\": 4.12, \"control\": 4.656, \"is_present\": true, \"mean\": null, \"std\": null, \"err_low\": null, \"err_high\": null}, {\"time\": \"2011-01-13T02:30:00\", \"variable\": \"TA\", \"value\": 4.24, \"control\": 4.827, \"is_present\": true, \"mean\": null, \"std\": null, \"err_low\": null, \"err_high\": null}, {\"time\": \"2011-01-13T03:00:00\", \"variable\": \"TA\", \"value\": 4.39, \"control\": 4.998, \"is_present\": true, \"mean\": null, \"std\": null, \"err_low\": null, \"err_high\": null}, {\"time\": \"2011-01-13T03:30:00\", \"variable\": \"TA\", \"value\": 4.57, \"control\": 5.17, \"is_present\": true, \"mean\": null, \"std\": null, \"err_low\": null, \"err_high\": null}, {\"time\": \"2011-01-13T04:00:00\", \"variable\": \"TA\", \"value\": 4.72, \"control\": 5.341, \"is_present\": true, \"mean\": null, \"std\": null, \"err_low\": null, \"err_high\": null}, {\"time\": \"2011-01-13T04:30:00\", \"variable\": \"TA\", \"value\": 4.89, \"control\": 5.512, \"is_present\": true, \"mean\": null, \"std\": null, \"err_low\": null, \"err_high\": null}, {\"time\": \"2011-01-13T05:00:00\", \"variable\": \"TA\", \"value\": 5.09, \"control\": 5.579, \"is_present\": true, \"mean\": null, \"std\": null, \"err_low\": null, \"err_high\": null}, {\"time\": \"2011-01-13T05:30:00\", \"variable\": \"TA\", \"value\": 5.3, \"control\": 5.645, \"is_present\": true, \"mean\": null, \"std\": null, \"err_low\": null, \"err_high\": null}, {\"time\": \"2011-01-13T06:00:00\", \"variable\": \"TA\", \"value\": 5.44, \"control\": 5.712, \"is_present\": false, \"mean\": 5.519358130691012, \"std\": 0.3725883186075047, \"err_low\": 4.774181493476003, \"err_high\": 6.264534767906022}, {\"time\": \"2011-01-13T06:30:00\", \"variable\": \"TA\", \"value\": 5.61, \"control\": 5.778, \"is_present\": false, \"mean\": 5.609306260624886, \"std\": 0.38200375734544284, \"err_low\": 4.8452987459340005, \"err_high\": 6.373313775315772}, {\"time\": \"2011-01-13T07:00:00\", \"variable\": \"TA\", \"value\": 5.76, \"control\": 5.845, \"is_present\": false, \"mean\": 5.681399548895399, \"std\": 0.3835074124298634, \"err_low\": 4.914384724035672, \"err_high\": 6.448414373755126}, {\"time\": \"2011-01-13T07:30:00\", \"variable\": \"TA\", \"value\": 5.9, \"control\": 5.911, \"is_present\": false, \"mean\": 5.769640343961106, \"std\": 0.3764929150678436, \"err_low\": 5.016654513825419, \"err_high\": 6.522626174096793}, {\"time\": \"2011-01-13T08:00:00\", \"variable\": \"TA\", \"value\": 5.96, \"control\": 5.902, \"is_present\": false, \"mean\": 5.893714662079451, \"std\": 0.36465854900406147, \"err_low\": 5.1643975640713276, \"err_high\": 6.623031760087574}, {\"time\": \"2011-01-13T08:30:00\", \"variable\": \"TA\", \"value\": 6.05, \"control\": 5.893, \"is_present\": true, \"mean\": null, \"std\": null, \"err_low\": null, \"err_high\": null}, {\"time\": \"2011-01-13T09:00:00\", \"variable\": \"TA\", \"value\": 6.0, \"control\": 5.884, \"is_present\": true, \"mean\": null, \"std\": null, \"err_low\": null, \"err_high\": null}, {\"time\": \"2011-01-13T09:30:00\", \"variable\": \"TA\", \"value\": 6.13, \"control\": 5.876, \"is_present\": true, \"mean\": null, \"std\": null, \"err_low\": null, \"err_high\": null}, {\"time\": \"2011-01-13T10:00:00\", \"variable\": \"TA\", \"value\": 6.21, \"control\": 5.867, \"is_present\": true, \"mean\": null, \"std\": null, \"err_low\": null, \"err_high\": null}, {\"time\": \"2011-01-13T10:30:00\", \"variable\": \"TA\", \"value\": 6.38, \"control\": 5.858, \"is_present\": true, \"mean\": null, \"std\": null, \"err_low\": null, \"err_high\": null}, {\"time\": \"2011-01-13T11:00:00\", \"variable\": \"TA\", \"value\": 6.51, \"control\": 5.935, \"is_present\": true, \"mean\": null, \"std\": null, \"err_low\": null, \"err_high\": null}, {\"time\": \"2011-01-13T11:30:00\", \"variable\": \"TA\", \"value\": 6.59, \"control\": 6.012, \"is_present\": true, \"mean\": null, \"std\": null, \"err_low\": null, \"err_high\": null}, {\"time\": \"2011-01-13T12:00:00\", \"variable\": \"TA\", \"value\": 6.76, \"control\": 6.089, \"is_present\": true, \"mean\": null, \"std\": null, \"err_low\": null, \"err_high\": null}, {\"time\": \"2011-01-13T12:30:00\", \"variable\": \"TA\", \"value\": 6.9, \"control\": 6.167, \"is_present\": true, \"mean\": null, \"std\": null, \"err_low\": null, \"err_high\": null}, {\"time\": \"2011-01-13T13:00:00\", \"variable\": \"TA\", \"value\": 7.01, \"control\": 6.244, \"is_present\": true, \"mean\": null, \"std\": null, \"err_low\": null, \"err_high\": null}, {\"time\": \"2011-01-13T13:30:00\", \"variable\": \"TA\", \"value\": 7.12, \"control\": 6.321, \"is_present\": true, \"mean\": null, \"std\": null, \"err_low\": null, \"err_high\": null}, {\"time\": \"2011-01-13T14:00:00\", \"variable\": \"TA\", \"value\": 7.19, \"control\": 6.528, \"is_present\": true, \"mean\": null, \"std\": null, \"err_low\": null, \"err_high\": null}, {\"time\": \"2011-01-13T14:30:00\", \"variable\": \"TA\", \"value\": 7.32, \"control\": 6.735, \"is_present\": true, \"mean\": null, \"std\": null, \"err_low\": null, \"err_high\": null}, {\"time\": \"2011-01-13T15:00:00\", \"variable\": \"TA\", \"value\": 7.56, \"control\": 6.941, \"is_present\": true, \"mean\": null, \"std\": null, \"err_low\": null, \"err_high\": null}, {\"time\": \"2011-01-13T15:30:00\", \"variable\": \"TA\", \"value\": 7.89, \"control\": 7.148, \"is_present\": true, \"mean\": null, \"std\": null, \"err_low\": null, \"err_high\": null}, {\"time\": \"2011-01-13T16:00:00\", \"variable\": \"TA\", \"value\": 8.33, \"control\": 7.355, \"is_present\": true, \"mean\": null, \"std\": null, \"err_low\": null, \"err_high\": null}, {\"time\": \"2011-01-13T16:30:00\", \"variable\": \"TA\", \"value\": 8.55, \"control\": 7.562, \"is_present\": true, \"mean\": null, \"std\": null, \"err_low\": null, \"err_high\": null}, {\"time\": \"2011-01-13T17:00:00\", \"variable\": \"TA\", \"value\": 8.69, \"control\": 7.697, \"is_present\": true, \"mean\": null, \"std\": null, \"err_low\": null, \"err_high\": null}, {\"time\": \"2011-01-13T17:30:00\", \"variable\": \"TA\", \"value\": 8.86, \"control\": 7.832, \"is_present\": true, \"mean\": null, \"std\": null, \"err_low\": null, \"err_high\": null}, {\"time\": \"2011-01-13T18:00:00\", \"variable\": \"TA\", \"value\": 8.95, \"control\": 7.968, \"is_present\": true, \"mean\": null, \"std\": null, \"err_low\": null, \"err_high\": null}], \"data-71778cae0dd8b7a0acd9712f9c55b0ec\": [{\"gap_start\": \"2011-01-13T06:00:00\", \"gap_end\": \"2011-01-13T08:00:00\"}], \"data-456510d8a0256eb30d36676c5136dd8e\": [{\"time\": \"2012-04-16T02:30:00\", \"variable\": \"TA\", \"value\": 3.72, \"control\": 4.202, \"is_present\": true, \"mean\": null, \"std\": null, \"err_low\": null, \"err_high\": null}, {\"time\": \"2012-04-16T03:00:00\", \"variable\": \"TA\", \"value\": 3.47, \"control\": 3.847, \"is_present\": true, \"mean\": null, \"std\": null, \"err_low\": null, \"err_high\": null}, {\"time\": \"2012-04-16T03:30:00\", \"variable\": \"TA\", \"value\": 3.15, \"control\": 3.491, \"is_present\": true, \"mean\": null, \"std\": null, \"err_low\": null, \"err_high\": null}, {\"time\": \"2012-04-16T04:00:00\", \"variable\": \"TA\", \"value\": 2.8, \"control\": 3.136, \"is_present\": true, \"mean\": null, \"std\": null, \"err_low\": null, \"err_high\": null}, {\"time\": \"2012-04-16T04:30:00\", \"variable\": \"TA\", \"value\": 2.34, \"control\": 2.78, \"is_present\": true, \"mean\": null, \"std\": null, \"err_low\": null, \"err_high\": null}, {\"time\": \"2012-04-16T05:00:00\", \"variable\": \"TA\", \"value\": 2.05, \"control\": 2.659, \"is_present\": true, \"mean\": null, \"std\": null, \"err_low\": null, \"err_high\": null}, {\"time\": \"2012-04-16T05:30:00\", \"variable\": \"TA\", \"value\": 1.97, \"control\": 2.537, \"is_present\": true, \"mean\": null, \"std\": null, \"err_low\": null, \"err_high\": null}, {\"time\": \"2012-04-16T06:00:00\", \"variable\": \"TA\", \"value\": 1.78, \"control\": 2.415, \"is_present\": true, \"mean\": null, \"std\": null, \"err_low\": null, \"err_high\": null}, {\"time\": \"2012-04-16T06:30:00\", \"variable\": \"TA\", \"value\": 1.45, \"control\": 2.293, \"is_present\": true, \"mean\": null, \"std\": null, \"err_low\": null, \"err_high\": null}, {\"time\": \"2012-04-16T07:00:00\", \"variable\": \"TA\", \"value\": 1.16, \"control\": 2.172, \"is_present\": true, \"mean\": null, \"std\": null, \"err_low\": null, \"err_high\": null}, {\"time\": \"2012-04-16T07:30:00\", \"variable\": \"TA\", \"value\": 0.82, \"control\": 2.05, \"is_present\": true, \"mean\": null, \"std\": null, \"err_low\": null, \"err_high\": null}, {\"time\": \"2012-04-16T08:00:00\", \"variable\": \"TA\", \"value\": 0.75, \"control\": 2.548, \"is_present\": true, \"mean\": null, \"std\": null, \"err_low\": null, \"err_high\": null}, {\"time\": \"2012-04-16T08:30:00\", \"variable\": \"TA\", \"value\": 0.94, \"control\": 3.047, \"is_present\": true, \"mean\": null, \"std\": null, \"err_low\": null, \"err_high\": null}, {\"time\": \"2012-04-16T09:00:00\", \"variable\": \"TA\", \"value\": 1.18, \"control\": 3.545, \"is_present\": true, \"mean\": null, \"std\": null, \"err_low\": null, \"err_high\": null}, {\"time\": \"2012-04-16T09:30:00\", \"variable\": \"TA\", \"value\": 1.78, \"control\": 4.043, \"is_present\": true, \"mean\": null, \"std\": null, \"err_low\": null, \"err_high\": null}, {\"time\": \"2012-04-16T10:00:00\", \"variable\": \"TA\", \"value\": 2.63, \"control\": 4.542, \"is_present\": true, \"mean\": null, \"std\": null, \"err_low\": null, \"err_high\": null}, {\"time\": \"2012-04-16T10:30:00\", \"variable\": \"TA\", \"value\": 2.87, \"control\": 5.04, \"is_present\": true, \"mean\": null, \"std\": null, \"err_low\": null, \"err_high\": null}, {\"time\": \"2012-04-16T11:00:00\", \"variable\": \"TA\", \"value\": 3.04, \"control\": 5.447, \"is_present\": true, \"mean\": null, \"std\": null, \"err_low\": null, \"err_high\": null}, {\"time\": \"2012-04-16T11:30:00\", \"variable\": \"TA\", \"value\": 3.81, \"control\": 5.853, \"is_present\": true, \"mean\": null, \"std\": null, \"err_low\": null, \"err_high\": null}, {\"time\": \"2012-04-16T12:00:00\", \"variable\": \"TA\", \"value\": 4.44, \"control\": 6.26, \"is_present\": true, \"mean\": null, \"std\": null, \"err_low\": null, \"err_high\": null}, {\"time\": \"2012-04-16T12:30:00\", \"variable\": \"TA\", \"value\": 5.12, \"control\": 6.666, \"is_present\": true, \"mean\": null, \"std\": null, \"err_low\": null, \"err_high\": null}, {\"time\": \"2012-04-16T13:00:00\", \"variable\": \"TA\", \"value\": 5.0, \"control\": 7.073, \"is_present\": true, \"mean\": null, \"std\": null, \"err_low\": null, \"err_high\": null}, {\"time\": \"2012-04-16T13:30:00\", \"variable\": \"TA\", \"value\": 5.07, \"control\": 7.479, \"is_present\": true, \"mean\": null, \"std\": null, \"err_low\": null, \"err_high\": null}, {\"time\": \"2012-04-16T14:00:00\", \"variable\": \"TA\", \"value\": 5.15, \"control\": 7.41, \"is_present\": true, \"mean\": null, \"std\": null, \"err_low\": null, \"err_high\": null}, {\"time\": \"2012-04-16T14:30:00\", \"variable\": \"TA\", \"value\": 5.6, \"control\": 7.341, \"is_present\": true, \"mean\": null, \"std\": null, \"err_low\": null, \"err_high\": null}, {\"time\": \"2012-04-16T15:00:00\", \"variable\": \"TA\", \"value\": 5.56, \"control\": 7.271, \"is_present\": false, \"mean\": 5.552142446700087, \"std\": 0.3725883186075047, \"err_low\": 4.806965809485077, \"err_high\": 6.297319083915096}, {\"time\": \"2012-04-16T15:30:00\", \"variable\": \"TA\", \"value\": 5.31, \"control\": 7.202, \"is_present\": false, \"mean\": 5.181299368135553, \"std\": 0.38200375734544284, \"err_low\": 4.4172918534446675, \"err_high\": 5.945306882826439}, {\"time\": \"2012-04-16T16:00:00\", \"variable\": \"TA\", \"value\": 5.25, \"control\": 7.132, \"is_present\": false, \"mean\": 5.3431464020882995, \"std\": 0.3835074124298634, \"err_low\": 4.576131577228573, \"err_high\": 6.110161226948026}, {\"time\": \"2012-04-16T16:30:00\", \"variable\": \"TA\", \"value\": 5.85, \"control\": 7.063, \"is_present\": false, \"mean\": 5.83356481883558, \"std\": 0.3764929150678436, \"err_low\": 5.080578988699893, \"err_high\": 6.586550648971267}, {\"time\": \"2012-04-16T17:00:00\", \"variable\": \"TA\", \"value\": 5.48, \"control\": 6.678, \"is_present\": false, \"mean\": 5.129637586688952, \"std\": 0.36465854900406147, \"err_low\": 4.40032048868083, \"err_high\": 5.858954684697075}, {\"time\": \"2012-04-16T17:30:00\", \"variable\": \"TA\", \"value\": 5.22, \"control\": 6.293, \"is_present\": true, \"mean\": null, \"std\": null, \"err_low\": null, \"err_high\": null}, {\"time\": \"2012-04-16T18:00:00\", \"variable\": \"TA\", \"value\": 5.19, \"control\": 5.908, \"is_present\": true, \"mean\": null, \"std\": null, \"err_low\": null, \"err_high\": null}, {\"time\": \"2012-04-16T18:30:00\", \"variable\": \"TA\", \"value\": 5.08, \"control\": 5.523, \"is_present\": true, \"mean\": null, \"std\": null, \"err_low\": null, \"err_high\": null}, {\"time\": \"2012-04-16T19:00:00\", \"variable\": \"TA\", \"value\": 3.75, \"control\": 5.138, \"is_present\": true, \"mean\": null, \"std\": null, \"err_low\": null, \"err_high\": null}, {\"time\": \"2012-04-16T19:30:00\", \"variable\": \"TA\", \"value\": 3.15, \"control\": 4.753, \"is_present\": true, \"mean\": null, \"std\": null, \"err_low\": null, \"err_high\": null}, {\"time\": \"2012-04-16T20:00:00\", \"variable\": \"TA\", \"value\": 3.0, \"control\": 4.294, \"is_present\": true, \"mean\": null, \"std\": null, \"err_low\": null, \"err_high\": null}, {\"time\": \"2012-04-16T20:30:00\", \"variable\": \"TA\", \"value\": 2.74, \"control\": 3.834, \"is_present\": true, \"mean\": null, \"std\": null, \"err_low\": null, \"err_high\": null}, {\"time\": \"2012-04-16T21:00:00\", \"variable\": \"TA\", \"value\": 2.48, \"control\": 3.375, \"is_present\": true, \"mean\": null, \"std\": null, \"err_low\": null, \"err_high\": null}, {\"time\": \"2012-04-16T21:30:00\", \"variable\": \"TA\", \"value\": 2.24, \"control\": 2.915, \"is_present\": true, \"mean\": null, \"std\": null, \"err_low\": null, \"err_high\": null}, {\"time\": \"2012-04-16T22:00:00\", \"variable\": \"TA\", \"value\": 2.23, \"control\": 2.456, \"is_present\": true, \"mean\": null, \"std\": null, \"err_low\": null, \"err_high\": null}, {\"time\": \"2012-04-16T22:30:00\", \"variable\": \"TA\", \"value\": 2.27, \"control\": 1.996, \"is_present\": true, \"mean\": null, \"std\": null, \"err_low\": null, \"err_high\": null}, {\"time\": \"2012-04-16T23:00:00\", \"variable\": \"TA\", \"value\": 2.04, \"control\": 1.661, \"is_present\": true, \"mean\": null, \"std\": null, \"err_low\": null, \"err_high\": null}, {\"time\": \"2012-04-16T23:30:00\", \"variable\": \"TA\", \"value\": 1.68, \"control\": 1.325, \"is_present\": true, \"mean\": null, \"std\": null, \"err_low\": null, \"err_high\": null}, {\"time\": \"2012-04-17T00:00:00\", \"variable\": \"TA\", \"value\": 1.5, \"control\": 0.989, \"is_present\": true, \"mean\": null, \"std\": null, \"err_low\": null, \"err_high\": null}, {\"time\": \"2012-04-17T00:30:00\", \"variable\": \"TA\", \"value\": 1.47, \"control\": 0.653, \"is_present\": true, \"mean\": null, \"std\": null, \"err_low\": null, \"err_high\": null}, {\"time\": \"2012-04-17T01:00:00\", \"variable\": \"TA\", \"value\": 1.47, \"control\": 0.318, \"is_present\": true, \"mean\": null, \"std\": null, \"err_low\": null, \"err_high\": null}, {\"time\": \"2012-04-17T01:30:00\", \"variable\": \"TA\", \"value\": 1.27, \"control\": -0.018, \"is_present\": true, \"mean\": null, \"std\": null, \"err_low\": null, \"err_high\": null}, {\"time\": \"2012-04-17T02:00:00\", \"variable\": \"TA\", \"value\": 1.02, \"control\": -0.31, \"is_present\": true, \"mean\": null, \"std\": null, \"err_low\": null, \"err_high\": null}, {\"time\": \"2012-04-17T02:30:00\", \"variable\": \"TA\", \"value\": 0.98, \"control\": -0.602, \"is_present\": true, \"mean\": null, \"std\": null, \"err_low\": null, \"err_high\": null}, {\"time\": \"2012-04-17T03:00:00\", \"variable\": \"TA\", \"value\": 0.55, \"control\": -0.894, \"is_present\": true, \"mean\": null, \"std\": null, \"err_low\": null, \"err_high\": null}], \"data-437e92ae9b11124c5aa7b8b5f6bbce64\": [{\"gap_start\": \"2012-04-16T15:00:00\", \"gap_end\": \"2012-04-16T17:00:00\"}]}}, {\"mode\": \"vega-lite\"});\n",
       "</script>"
      ],
      "text/plain": [
       "alt.HConcatChart(...)"
      ]
     },
     "execution_count": null,
     "metadata": {},
     "output_type": "execute_result"
    }
   ],
   "source": [
    "show_results(learn_TA, items=items0, hide_no_gap=True, control_map=control_map)"
   ]
  },
  {
   "cell_type": "code",
   "execution_count": null,
   "id": "531ada1e-bdb1-4924-9a1b-739256c787cc",
   "metadata": {},
   "outputs": [
    {
     "data": {
      "text/plain": [
       "[MeteoImpItem(i=3941, shift=5, var_sel=['TA'], gap_len=5),\n",
       " MeteoImpItem(i=3944, shift=-15, var_sel=['TA'], gap_len=5),\n",
       " MeteoImpItem(i=3869, shift=-25, var_sel=['TA'], gap_len=5),\n",
       " MeteoImpItem(i=4310, shift=-25, var_sel=['TA'], gap_len=5)]"
      ]
     },
     "execution_count": null,
     "metadata": {},
     "output_type": "execute_result"
    }
   ],
   "source": [
    "items0"
   ]
  },
  {
   "cell_type": "code",
   "execution_count": null,
   "id": "ab92f6fb-ca74-4b50-b843-657cbbdda9a9",
   "metadata": {},
   "outputs": [],
   "source": [
    "cg = CustomGap(learn_TA, haiB, hai_eraB)"
   ]
  },
  {
   "cell_type": "code",
   "execution_count": null,
   "id": "16dc312f-d262-48a6-85aa-0998e98f62ae",
   "metadata": {},
   "outputs": [
    {
     "data": {
      "text/plain": [
       "(#5) [2787,1784,334,1234,209]"
      ]
     },
     "execution_count": null,
     "metadata": {},
     "output_type": "execute_result"
    }
   ],
   "source": [
    "L(random.choices(dls_TA.items, k=5)).attrgot('i')"
   ]
  },
  {
   "cell_type": "code",
   "execution_count": null,
   "id": "aa88188d-7f1f-443d-81a0-9fd890f87def",
   "metadata": {},
   "outputs": [
    {
     "data": {
      "application/vnd.jupyter.widget-view+json": {
       "model_id": "7aefe632bdd249c19a9fb0b89c50098a",
       "version_major": 2,
       "version_minor": 0
      },
      "text/plain": [
       "interactive(children=(IntSlider(value=10, description='gap_len', min=1), Text(value='10, 100', description='it…"
      ]
     },
     "metadata": {},
     "output_type": "display_data"
    },
    {
     "data": {
      "text/plain": [
       "<function ipywidgets.widgets.interaction._InteractFactory.__call__.<locals>.<lambda>(*args, **kwargs)>"
      ]
     },
     "execution_count": null,
     "metadata": {},
     "output_type": "execute_result"
    }
   ],
   "source": [
    "cg.interact_results()"
   ]
  },
  {
   "cell_type": "code",
   "execution_count": null,
   "id": "07bed0b4-1664-4130-a51c-f22b1040c15c",
   "metadata": {},
   "outputs": [],
   "source": [
    "show_results(learn_TA, hide_no_gap=True, control_map=control_map)"
   ]
  },
  {
   "cell_type": "code",
   "execution_count": null,
   "id": "3bba859e-07c9-4f74-8437-b9969d3d5663",
   "metadata": {},
   "outputs": [],
   "source": [
    "reset_seed()"
   ]
  },
  {
   "cell_type": "code",
   "execution_count": null,
   "id": "ece6b617-5710-4118-af11-fb86eafa5cce",
   "metadata": {},
   "outputs": [
    {
     "name": "stdout",
     "output_type": "stream",
     "text": [
      "[MeteoImpItem(i=3706, shift=-25, var_sel=['TA'], gap_len=5), MeteoImpItem(i=4397, shift=15, var_sel=['TA'], gap_len=5), MeteoImpItem(i=3950, shift=-25, var_sel=['TA'], gap_len=5)]\n"
     ]
    },
    {
     "data": {
      "text/html": [
       "\n",
       "<div id=\"altair-viz-5665ba10d1384d9193549051e1f62b91\"></div>\n",
       "<script type=\"text/javascript\">\n",
       "  var VEGA_DEBUG = (typeof VEGA_DEBUG == \"undefined\") ? {} : VEGA_DEBUG;\n",
       "  (function(spec, embedOpt){\n",
       "    let outputDiv = document.currentScript.previousElementSibling;\n",
       "    if (outputDiv.id !== \"altair-viz-5665ba10d1384d9193549051e1f62b91\") {\n",
       "      outputDiv = document.getElementById(\"altair-viz-5665ba10d1384d9193549051e1f62b91\");\n",
       "    }\n",
       "    const paths = {\n",
       "      \"vega\": \"https://cdn.jsdelivr.net/npm//vega@5?noext\",\n",
       "      \"vega-lib\": \"https://cdn.jsdelivr.net/npm//vega-lib?noext\",\n",
       "      \"vega-lite\": \"https://cdn.jsdelivr.net/npm//vega-lite@5.2.0?noext\",\n",
       "      \"vega-embed\": \"https://cdn.jsdelivr.net/npm//vega-embed@6?noext\",\n",
       "    };\n",
       "\n",
       "    function maybeLoadScript(lib, version) {\n",
       "      var key = `${lib.replace(\"-\", \"\")}_version`;\n",
       "      return (VEGA_DEBUG[key] == version) ?\n",
       "        Promise.resolve(paths[lib]) :\n",
       "        new Promise(function(resolve, reject) {\n",
       "          var s = document.createElement('script');\n",
       "          document.getElementsByTagName(\"head\")[0].appendChild(s);\n",
       "          s.async = true;\n",
       "          s.onload = () => {\n",
       "            VEGA_DEBUG[key] = version;\n",
       "            return resolve(paths[lib]);\n",
       "          };\n",
       "          s.onerror = () => reject(`Error loading script: ${paths[lib]}`);\n",
       "          s.src = paths[lib];\n",
       "        });\n",
       "    }\n",
       "\n",
       "    function showError(err) {\n",
       "      outputDiv.innerHTML = `<div class=\"error\" style=\"color:red;\">${err}</div>`;\n",
       "      throw err;\n",
       "    }\n",
       "\n",
       "    function displayChart(vegaEmbed) {\n",
       "      vegaEmbed(outputDiv, spec, embedOpt)\n",
       "        .catch(err => showError(`Javascript Error: ${err.message}<br>This usually means there's a typo in your chart specification. See the javascript console for the full traceback.`));\n",
       "    }\n",
       "\n",
       "    if(typeof define === \"function\" && define.amd) {\n",
       "      requirejs.config({paths});\n",
       "      require([\"vega-embed\"], displayChart, err => showError(`Error loading script: ${err.message}`));\n",
       "    } else {\n",
       "      maybeLoadScript(\"vega\", \"5\")\n",
       "        .then(() => maybeLoadScript(\"vega-lite\", \"5.2.0\"))\n",
       "        .then(() => maybeLoadScript(\"vega-embed\", \"6\"))\n",
       "        .catch(showError)\n",
       "        .then(() => displayChart(vegaEmbed));\n",
       "    }\n",
       "  })({\"config\": {\"view\": {\"continuousWidth\": 400, \"continuousHeight\": 300}}, \"hconcat\": [{\"vconcat\": [{\"hconcat\": [{\"layer\": [{\"data\": {\"name\": \"data-24b178abfb710cccb0892c56d39e8025\"}, \"mark\": {\"type\": \"point\", \"color\": \"black\", \"fillOpacity\": 1, \"strokeWidth\": 1}, \"encoding\": {\"fill\": {\"field\": \"is_present\", \"legend\": {\"title\": [\"Observed data\"]}, \"scale\": {\"range\": [\"#ffffff00\", \"gray\"]}, \"type\": \"nominal\"}, \"shape\": {\"field\": \"is_present\", \"scale\": {\"range\": [\"square\", \"circle\"]}, \"type\": \"nominal\"}, \"x\": {\"axis\": {\"domain\": true, \"labels\": true, \"ticks\": true, \"title\": \"time\"}, \"field\": \"time\", \"type\": \"temporal\"}, \"y\": {\"field\": \"value\", \"scale\": {\"zero\": false}, \"title\": \"TA\", \"type\": \"quantitative\"}}}, {\"layer\": [{\"mark\": \"rule\", \"encoding\": {\"x\": {\"axis\": {\"domain\": false, \"labels\": false, \"ticks\": false, \"title\": null}, \"field\": \"gap_start\", \"type\": \"temporal\"}}}, {\"mark\": \"rule\", \"encoding\": {\"x\": {\"axis\": {\"domain\": false, \"labels\": false, \"ticks\": false, \"title\": null}, \"field\": \"gap_end\", \"type\": \"temporal\"}}}, {\"mark\": {\"type\": \"rect\", \"color\": \"black\", \"opacity\": 0.15}, \"encoding\": {\"x\": {\"axis\": {\"domain\": false, \"labels\": false, \"ticks\": false, \"title\": null}, \"field\": \"gap_start\", \"type\": \"temporal\"}, \"x2\": {\"field\": \"gap_end\"}}}], \"data\": {\"name\": \"data-fb9866511db326c01af1316717182638\"}}, {\"data\": {\"name\": \"data-24b178abfb710cccb0892c56d39e8025\"}, \"mark\": \"errorband\", \"encoding\": {\"color\": {\"field\": \"variable\", \"legend\": {\"title\": [\"Line: pred. mean\", \"area: +/- 2 std\"]}, \"scale\": {\"domain\": [\"TA\", \"SW_IN\", \"VPD\", \"PA\", \"P\", \"WS\", \"LW_IN\"], \"range\": [\"#1B9E77\", \"#D95F02\", \"#7570B3\", \"#E7298A\", \"#66A61E\", \"#E6AB02\", \"#A6761D\", \"#666666\"]}, \"type\": \"nominal\"}, \"x\": {\"field\": \"time\", \"type\": \"temporal\"}, \"y\": {\"field\": \"err_low\", \"scale\": {\"zero\": false}, \"title\": \"TA\", \"type\": \"quantitative\"}, \"y2\": {\"field\": \"err_high\"}}, \"name\": \"view_370\"}, {\"data\": {\"name\": \"data-24b178abfb710cccb0892c56d39e8025\"}, \"mark\": {\"type\": \"line\", \"color\": \"purple\", \"strokeDash\": [4, 6]}, \"encoding\": {\"x\": {\"field\": \"time\", \"type\": \"temporal\"}, \"y\": {\"field\": \"control\", \"scale\": {\"zero\": false}, \"title\": \"TA\", \"type\": \"quantitative\"}}}, {\"data\": {\"name\": \"data-24b178abfb710cccb0892c56d39e8025\"}, \"mark\": \"line\", \"encoding\": {\"color\": {\"field\": \"variable\", \"scale\": {\"domain\": [\"TA\", \"SW_IN\", \"VPD\", \"PA\", \"P\", \"WS\", \"LW_IN\"], \"range\": [\"#1B9E77\", \"#D95F02\", \"#7570B3\", \"#E7298A\", \"#66A61E\", \"#E6AB02\", \"#A6761D\", \"#666666\"]}, \"type\": \"nominal\"}, \"x\": {\"field\": \"time\", \"type\": \"temporal\"}, \"y\": {\"field\": \"mean\", \"scale\": {\"zero\": false}, \"title\": \"TA\", \"type\": \"quantitative\"}}}], \"height\": 150, \"title\": \"\", \"width\": 200}]}], \"title\": \"\"}, {\"vconcat\": [{\"hconcat\": [{\"layer\": [{\"data\": {\"name\": \"data-76e1677c2ba419d42d7ab08c9db85dd7\"}, \"mark\": {\"type\": \"point\", \"color\": \"black\", \"fillOpacity\": 1, \"strokeWidth\": 1}, \"encoding\": {\"fill\": {\"field\": \"is_present\", \"legend\": {\"title\": [\"Observed data\"]}, \"scale\": {\"range\": [\"#ffffff00\", \"gray\"]}, \"type\": \"nominal\"}, \"shape\": {\"field\": \"is_present\", \"scale\": {\"range\": [\"square\", \"circle\"]}, \"type\": \"nominal\"}, \"x\": {\"axis\": {\"domain\": true, \"labels\": true, \"ticks\": true, \"title\": \"time\"}, \"field\": \"time\", \"type\": \"temporal\"}, \"y\": {\"field\": \"value\", \"scale\": {\"zero\": false}, \"title\": \"TA\", \"type\": \"quantitative\"}}}, {\"layer\": [{\"mark\": \"rule\", \"encoding\": {\"x\": {\"axis\": {\"domain\": false, \"labels\": false, \"ticks\": false, \"title\": null}, \"field\": \"gap_start\", \"type\": \"temporal\"}}}, {\"mark\": \"rule\", \"encoding\": {\"x\": {\"axis\": {\"domain\": false, \"labels\": false, \"ticks\": false, \"title\": null}, \"field\": \"gap_end\", \"type\": \"temporal\"}}}, {\"mark\": {\"type\": \"rect\", \"color\": \"black\", \"opacity\": 0.15}, \"encoding\": {\"x\": {\"axis\": {\"domain\": false, \"labels\": false, \"ticks\": false, \"title\": null}, \"field\": \"gap_start\", \"type\": \"temporal\"}, \"x2\": {\"field\": \"gap_end\"}}}], \"data\": {\"name\": \"data-1238eb10b2ba4f693f63470d19a21504\"}}, {\"data\": {\"name\": \"data-76e1677c2ba419d42d7ab08c9db85dd7\"}, \"mark\": \"errorband\", \"encoding\": {\"color\": {\"field\": \"variable\", \"legend\": {\"title\": [\"Line: pred. mean\", \"area: +/- 2 std\"]}, \"scale\": {\"domain\": [\"TA\", \"SW_IN\", \"VPD\", \"PA\", \"P\", \"WS\", \"LW_IN\"], \"range\": [\"#1B9E77\", \"#D95F02\", \"#7570B3\", \"#E7298A\", \"#66A61E\", \"#E6AB02\", \"#A6761D\", \"#666666\"]}, \"type\": \"nominal\"}, \"x\": {\"field\": \"time\", \"type\": \"temporal\"}, \"y\": {\"field\": \"err_low\", \"scale\": {\"zero\": false}, \"title\": \"TA\", \"type\": \"quantitative\"}, \"y2\": {\"field\": \"err_high\"}}, \"name\": \"view_371\"}, {\"data\": {\"name\": \"data-76e1677c2ba419d42d7ab08c9db85dd7\"}, \"mark\": {\"type\": \"line\", \"color\": \"purple\", \"strokeDash\": [4, 6]}, \"encoding\": {\"x\": {\"field\": \"time\", \"type\": \"temporal\"}, \"y\": {\"field\": \"control\", \"scale\": {\"zero\": false}, \"title\": \"TA\", \"type\": \"quantitative\"}}}, {\"data\": {\"name\": \"data-76e1677c2ba419d42d7ab08c9db85dd7\"}, \"mark\": \"line\", \"encoding\": {\"color\": {\"field\": \"variable\", \"scale\": {\"domain\": [\"TA\", \"SW_IN\", \"VPD\", \"PA\", \"P\", \"WS\", \"LW_IN\"], \"range\": [\"#1B9E77\", \"#D95F02\", \"#7570B3\", \"#E7298A\", \"#66A61E\", \"#E6AB02\", \"#A6761D\", \"#666666\"]}, \"type\": \"nominal\"}, \"x\": {\"field\": \"time\", \"type\": \"temporal\"}, \"y\": {\"field\": \"mean\", \"scale\": {\"zero\": false}, \"title\": \"TA\", \"type\": \"quantitative\"}}}], \"height\": 150, \"title\": \"\", \"width\": 200}]}], \"title\": \"\"}, {\"vconcat\": [{\"hconcat\": [{\"layer\": [{\"data\": {\"name\": \"data-0e17bdd3ad98885eb094b6234cf756a7\"}, \"mark\": {\"type\": \"point\", \"color\": \"black\", \"fillOpacity\": 1, \"strokeWidth\": 1}, \"encoding\": {\"fill\": {\"field\": \"is_present\", \"legend\": {\"title\": [\"Observed data\"]}, \"scale\": {\"range\": [\"#ffffff00\", \"gray\"]}, \"type\": \"nominal\"}, \"shape\": {\"field\": \"is_present\", \"scale\": {\"range\": [\"square\", \"circle\"]}, \"type\": \"nominal\"}, \"x\": {\"axis\": {\"domain\": true, \"labels\": true, \"ticks\": true, \"title\": \"time\"}, \"field\": \"time\", \"type\": \"temporal\"}, \"y\": {\"field\": \"value\", \"scale\": {\"zero\": false}, \"title\": \"TA\", \"type\": \"quantitative\"}}}, {\"layer\": [{\"mark\": \"rule\", \"encoding\": {\"x\": {\"axis\": {\"domain\": false, \"labels\": false, \"ticks\": false, \"title\": null}, \"field\": \"gap_start\", \"type\": \"temporal\"}}}, {\"mark\": \"rule\", \"encoding\": {\"x\": {\"axis\": {\"domain\": false, \"labels\": false, \"ticks\": false, \"title\": null}, \"field\": \"gap_end\", \"type\": \"temporal\"}}}, {\"mark\": {\"type\": \"rect\", \"color\": \"black\", \"opacity\": 0.15}, \"encoding\": {\"x\": {\"axis\": {\"domain\": false, \"labels\": false, \"ticks\": false, \"title\": null}, \"field\": \"gap_start\", \"type\": \"temporal\"}, \"x2\": {\"field\": \"gap_end\"}}}], \"data\": {\"name\": \"data-6528660eb8fd739a8c8d89311d17ca12\"}}, {\"data\": {\"name\": \"data-0e17bdd3ad98885eb094b6234cf756a7\"}, \"mark\": \"errorband\", \"encoding\": {\"color\": {\"field\": \"variable\", \"legend\": {\"title\": [\"Line: pred. mean\", \"area: +/- 2 std\"]}, \"scale\": {\"domain\": [\"TA\", \"SW_IN\", \"VPD\", \"PA\", \"P\", \"WS\", \"LW_IN\"], \"range\": [\"#1B9E77\", \"#D95F02\", \"#7570B3\", \"#E7298A\", \"#66A61E\", \"#E6AB02\", \"#A6761D\", \"#666666\"]}, \"type\": \"nominal\"}, \"x\": {\"field\": \"time\", \"type\": \"temporal\"}, \"y\": {\"field\": \"err_low\", \"scale\": {\"zero\": false}, \"title\": \"TA\", \"type\": \"quantitative\"}, \"y2\": {\"field\": \"err_high\"}}, \"name\": \"view_372\"}, {\"data\": {\"name\": \"data-0e17bdd3ad98885eb094b6234cf756a7\"}, \"mark\": {\"type\": \"line\", \"color\": \"purple\", \"strokeDash\": [4, 6]}, \"encoding\": {\"x\": {\"field\": \"time\", \"type\": \"temporal\"}, \"y\": {\"field\": \"control\", \"scale\": {\"zero\": false}, \"title\": \"TA\", \"type\": \"quantitative\"}}}, {\"data\": {\"name\": \"data-0e17bdd3ad98885eb094b6234cf756a7\"}, \"mark\": \"line\", \"encoding\": {\"color\": {\"field\": \"variable\", \"scale\": {\"domain\": [\"TA\", \"SW_IN\", \"VPD\", \"PA\", \"P\", \"WS\", \"LW_IN\"], \"range\": [\"#1B9E77\", \"#D95F02\", \"#7570B3\", \"#E7298A\", \"#66A61E\", \"#E6AB02\", \"#A6761D\", \"#666666\"]}, \"type\": \"nominal\"}, \"x\": {\"field\": \"time\", \"type\": \"temporal\"}, \"y\": {\"field\": \"mean\", \"scale\": {\"zero\": false}, \"title\": \"TA\", \"type\": \"quantitative\"}}}], \"height\": 150, \"title\": \"\", \"width\": 200}]}], \"title\": \"\"}], \"params\": [{\"name\": \"param_656\", \"select\": {\"type\": \"interval\", \"encodings\": [\"x\"]}, \"bind\": \"scales\", \"views\": [\"view_370\"]}, {\"name\": \"param_658\", \"select\": {\"type\": \"interval\", \"encodings\": [\"x\"]}, \"bind\": \"scales\", \"views\": [\"view_371\"]}, {\"name\": \"param_660\", \"select\": {\"type\": \"interval\", \"encodings\": [\"x\"]}, \"bind\": \"scales\", \"views\": [\"view_372\"]}], \"$schema\": \"https://vega.github.io/schema/vega-lite/v5.2.0.json\", \"datasets\": {\"data-24b178abfb710cccb0892c56d39e8025\": [{\"time\": \"2010-07-26T22:30:00\", \"variable\": \"TA\", \"value\": 13.55, \"control\": 14.531, \"is_present\": true, \"mean\": null, \"std\": null, \"err_low\": null, \"err_high\": null}, {\"time\": \"2010-07-26T23:00:00\", \"variable\": \"TA\", \"value\": 13.46, \"control\": 14.354, \"is_present\": true, \"mean\": null, \"std\": null, \"err_low\": null, \"err_high\": null}, {\"time\": \"2010-07-26T23:30:00\", \"variable\": \"TA\", \"value\": 13.41, \"control\": 14.177, \"is_present\": true, \"mean\": null, \"std\": null, \"err_low\": null, \"err_high\": null}, {\"time\": \"2010-07-27T00:00:00\", \"variable\": \"TA\", \"value\": 13.37, \"control\": 14.001, \"is_present\": true, \"mean\": null, \"std\": null, \"err_low\": null, \"err_high\": null}, {\"time\": \"2010-07-27T00:30:00\", \"variable\": \"TA\", \"value\": 13.25, \"control\": 13.824, \"is_present\": true, \"mean\": null, \"std\": null, \"err_low\": null, \"err_high\": null}, {\"time\": \"2010-07-27T01:00:00\", \"variable\": \"TA\", \"value\": 13.11, \"control\": 13.647, \"is_present\": true, \"mean\": null, \"std\": null, \"err_low\": null, \"err_high\": null}, {\"time\": \"2010-07-27T01:30:00\", \"variable\": \"TA\", \"value\": 12.99, \"control\": 13.47, \"is_present\": true, \"mean\": null, \"std\": null, \"err_low\": null, \"err_high\": null}, {\"time\": \"2010-07-27T02:00:00\", \"variable\": \"TA\", \"value\": 12.85, \"control\": 13.212, \"is_present\": true, \"mean\": null, \"std\": null, \"err_low\": null, \"err_high\": null}, {\"time\": \"2010-07-27T02:30:00\", \"variable\": \"TA\", \"value\": 12.75, \"control\": 12.953, \"is_present\": true, \"mean\": null, \"std\": null, \"err_low\": null, \"err_high\": null}, {\"time\": \"2010-07-27T03:00:00\", \"variable\": \"TA\", \"value\": 12.61, \"control\": 12.695, \"is_present\": true, \"mean\": null, \"std\": null, \"err_low\": null, \"err_high\": null}, {\"time\": \"2010-07-27T03:30:00\", \"variable\": \"TA\", \"value\": 12.5, \"control\": 12.436, \"is_present\": true, \"mean\": null, \"std\": null, \"err_low\": null, \"err_high\": null}, {\"time\": \"2010-07-27T04:00:00\", \"variable\": \"TA\", \"value\": 12.36, \"control\": 12.177, \"is_present\": true, \"mean\": null, \"std\": null, \"err_low\": null, \"err_high\": null}, {\"time\": \"2010-07-27T04:30:00\", \"variable\": \"TA\", \"value\": 12.23, \"control\": 11.919, \"is_present\": true, \"mean\": null, \"std\": null, \"err_low\": null, \"err_high\": null}, {\"time\": \"2010-07-27T05:00:00\", \"variable\": \"TA\", \"value\": 12.26, \"control\": 12.149, \"is_present\": true, \"mean\": null, \"std\": null, \"err_low\": null, \"err_high\": null}, {\"time\": \"2010-07-27T05:30:00\", \"variable\": \"TA\", \"value\": 12.4, \"control\": 12.379, \"is_present\": true, \"mean\": null, \"std\": null, \"err_low\": null, \"err_high\": null}, {\"time\": \"2010-07-27T06:00:00\", \"variable\": \"TA\", \"value\": 12.54, \"control\": 12.609, \"is_present\": true, \"mean\": null, \"std\": null, \"err_low\": null, \"err_high\": null}, {\"time\": \"2010-07-27T06:30:00\", \"variable\": \"TA\", \"value\": 13.2, \"control\": 12.839, \"is_present\": true, \"mean\": null, \"std\": null, \"err_low\": null, \"err_high\": null}, {\"time\": \"2010-07-27T07:00:00\", \"variable\": \"TA\", \"value\": 13.94, \"control\": 13.069, \"is_present\": true, \"mean\": null, \"std\": null, \"err_low\": null, \"err_high\": null}, {\"time\": \"2010-07-27T07:30:00\", \"variable\": \"TA\", \"value\": 14.19, \"control\": 13.299, \"is_present\": true, \"mean\": null, \"std\": null, \"err_low\": null, \"err_high\": null}, {\"time\": \"2010-07-27T08:00:00\", \"variable\": \"TA\", \"value\": 14.61, \"control\": 13.722, \"is_present\": true, \"mean\": null, \"std\": null, \"err_low\": null, \"err_high\": null}, {\"time\": \"2010-07-27T08:30:00\", \"variable\": \"TA\", \"value\": 14.86, \"control\": 14.144, \"is_present\": true, \"mean\": null, \"std\": null, \"err_low\": null, \"err_high\": null}, {\"time\": \"2010-07-27T09:00:00\", \"variable\": \"TA\", \"value\": 15.22, \"control\": 14.567, \"is_present\": true, \"mean\": null, \"std\": null, \"err_low\": null, \"err_high\": null}, {\"time\": \"2010-07-27T09:30:00\", \"variable\": \"TA\", \"value\": 14.78, \"control\": 14.99, \"is_present\": true, \"mean\": null, \"std\": null, \"err_low\": null, \"err_high\": null}, {\"time\": \"2010-07-27T10:00:00\", \"variable\": \"TA\", \"value\": 15.17, \"control\": 15.413, \"is_present\": true, \"mean\": null, \"std\": null, \"err_low\": null, \"err_high\": null}, {\"time\": \"2010-07-27T10:30:00\", \"variable\": \"TA\", \"value\": 15.22, \"control\": 15.836, \"is_present\": true, \"mean\": null, \"std\": null, \"err_low\": null, \"err_high\": null}, {\"time\": \"2010-07-27T11:00:00\", \"variable\": \"TA\", \"value\": 16.19, \"control\": 16.148, \"is_present\": false, \"mean\": 16.156639922665672, \"std\": 0.3725883186075047, \"err_low\": 15.411463285450663, \"err_high\": 16.901816559880682}, {\"time\": \"2010-07-27T11:30:00\", \"variable\": \"TA\", \"value\": 16.47, \"control\": 16.461, \"is_present\": false, \"mean\": 16.891110314342043, \"std\": 0.38200375734544284, \"err_low\": 16.12710279965116, \"err_high\": 17.65511782903293}, {\"time\": \"2010-07-27T12:00:00\", \"variable\": \"TA\", \"value\": 16.96, \"control\": 16.774, \"is_present\": false, \"mean\": 17.296613684249166, \"std\": 0.3835074124298634, \"err_low\": 16.529598859389438, \"err_high\": 18.063628509108895}, {\"time\": \"2010-07-27T12:30:00\", \"variable\": \"TA\", \"value\": 16.71, \"control\": 17.086, \"is_present\": false, \"mean\": 17.101355252434622, \"std\": 0.3764929150678436, \"err_low\": 16.348369422298934, \"err_high\": 17.85434108257031}, {\"time\": \"2010-07-27T13:00:00\", \"variable\": \"TA\", \"value\": 17.06, \"control\": 17.399, \"is_present\": false, \"mean\": 17.02950757038439, \"std\": 0.36465854900406147, \"err_low\": 16.300190472376265, \"err_high\": 17.758824668392514}, {\"time\": \"2010-07-27T13:30:00\", \"variable\": \"TA\", \"value\": 18.1, \"control\": 17.711, \"is_present\": true, \"mean\": null, \"std\": null, \"err_low\": null, \"err_high\": null}, {\"time\": \"2010-07-27T14:00:00\", \"variable\": \"TA\", \"value\": 18.5, \"control\": 17.991, \"is_present\": true, \"mean\": null, \"std\": null, \"err_low\": null, \"err_high\": null}, {\"time\": \"2010-07-27T14:30:00\", \"variable\": \"TA\", \"value\": 18.94, \"control\": 18.27, \"is_present\": true, \"mean\": null, \"std\": null, \"err_low\": null, \"err_high\": null}, {\"time\": \"2010-07-27T15:00:00\", \"variable\": \"TA\", \"value\": 19.58, \"control\": 18.549, \"is_present\": true, \"mean\": null, \"std\": null, \"err_low\": null, \"err_high\": null}, {\"time\": \"2010-07-27T15:30:00\", \"variable\": \"TA\", \"value\": 19.9, \"control\": 18.829, \"is_present\": true, \"mean\": null, \"std\": null, \"err_low\": null, \"err_high\": null}, {\"time\": \"2010-07-27T16:00:00\", \"variable\": \"TA\", \"value\": 20.17, \"control\": 19.108, \"is_present\": true, \"mean\": null, \"std\": null, \"err_low\": null, \"err_high\": null}, {\"time\": \"2010-07-27T16:30:00\", \"variable\": \"TA\", \"value\": 18.81, \"control\": 19.387, \"is_present\": true, \"mean\": null, \"std\": null, \"err_low\": null, \"err_high\": null}, {\"time\": \"2010-07-27T17:00:00\", \"variable\": \"TA\", \"value\": 16.67, \"control\": 19.246, \"is_present\": true, \"mean\": null, \"std\": null, \"err_low\": null, \"err_high\": null}, {\"time\": \"2010-07-27T17:30:00\", \"variable\": \"TA\", \"value\": 17.41, \"control\": 19.104, \"is_present\": true, \"mean\": null, \"std\": null, \"err_low\": null, \"err_high\": null}, {\"time\": \"2010-07-27T18:00:00\", \"variable\": \"TA\", \"value\": 18.0, \"control\": 18.963, \"is_present\": true, \"mean\": null, \"std\": null, \"err_low\": null, \"err_high\": null}, {\"time\": \"2010-07-27T18:30:00\", \"variable\": \"TA\", \"value\": 18.21, \"control\": 18.821, \"is_present\": true, \"mean\": null, \"std\": null, \"err_low\": null, \"err_high\": null}, {\"time\": \"2010-07-27T19:00:00\", \"variable\": \"TA\", \"value\": 18.06, \"control\": 18.679, \"is_present\": true, \"mean\": null, \"std\": null, \"err_low\": null, \"err_high\": null}, {\"time\": \"2010-07-27T19:30:00\", \"variable\": \"TA\", \"value\": 17.66, \"control\": 18.538, \"is_present\": true, \"mean\": null, \"std\": null, \"err_low\": null, \"err_high\": null}, {\"time\": \"2010-07-27T20:00:00\", \"variable\": \"TA\", \"value\": 17.13, \"control\": 17.987, \"is_present\": true, \"mean\": null, \"std\": null, \"err_low\": null, \"err_high\": null}, {\"time\": \"2010-07-27T20:30:00\", \"variable\": \"TA\", \"value\": 16.89, \"control\": 17.436, \"is_present\": true, \"mean\": null, \"std\": null, \"err_low\": null, \"err_high\": null}, {\"time\": \"2010-07-27T21:00:00\", \"variable\": \"TA\", \"value\": 16.58, \"control\": 16.885, \"is_present\": true, \"mean\": null, \"std\": null, \"err_low\": null, \"err_high\": null}, {\"time\": \"2010-07-27T21:30:00\", \"variable\": \"TA\", \"value\": 16.34, \"control\": 16.334, \"is_present\": true, \"mean\": null, \"std\": null, \"err_low\": null, \"err_high\": null}, {\"time\": \"2010-07-27T22:00:00\", \"variable\": \"TA\", \"value\": 16.06, \"control\": 15.784, \"is_present\": true, \"mean\": null, \"std\": null, \"err_low\": null, \"err_high\": null}, {\"time\": \"2010-07-27T22:30:00\", \"variable\": \"TA\", \"value\": 15.79, \"control\": 15.233, \"is_present\": true, \"mean\": null, \"std\": null, \"err_low\": null, \"err_high\": null}, {\"time\": \"2010-07-27T23:00:00\", \"variable\": \"TA\", \"value\": 15.63, \"control\": 14.986, \"is_present\": true, \"mean\": null, \"std\": null, \"err_low\": null, \"err_high\": null}], \"data-fb9866511db326c01af1316717182638\": [{\"gap_start\": \"2010-07-27T11:00:00\", \"gap_end\": \"2010-07-27T13:00:00\"}], \"data-76e1677c2ba419d42d7ab08c9db85dd7\": [{\"time\": \"2012-07-16T13:30:00\", \"variable\": \"TA\", \"value\": 14.79, \"control\": 15.111, \"is_present\": true, \"mean\": null, \"std\": null, \"err_low\": null, \"err_high\": null}, {\"time\": \"2012-07-16T14:00:00\", \"variable\": \"TA\", \"value\": 14.46, \"control\": 15.212, \"is_present\": true, \"mean\": null, \"std\": null, \"err_low\": null, \"err_high\": null}, {\"time\": \"2012-07-16T14:30:00\", \"variable\": \"TA\", \"value\": 14.89, \"control\": 15.313, \"is_present\": true, \"mean\": null, \"std\": null, \"err_low\": null, \"err_high\": null}, {\"time\": \"2012-07-16T15:00:00\", \"variable\": \"TA\", \"value\": 14.75, \"control\": 15.414, \"is_present\": true, \"mean\": null, \"std\": null, \"err_low\": null, \"err_high\": null}, {\"time\": \"2012-07-16T15:30:00\", \"variable\": \"TA\", \"value\": 14.6, \"control\": 15.515, \"is_present\": true, \"mean\": null, \"std\": null, \"err_low\": null, \"err_high\": null}, {\"time\": \"2012-07-16T16:00:00\", \"variable\": \"TA\", \"value\": 15.16, \"control\": 15.616, \"is_present\": true, \"mean\": null, \"std\": null, \"err_low\": null, \"err_high\": null}, {\"time\": \"2012-07-16T16:30:00\", \"variable\": \"TA\", \"value\": 14.99, \"control\": 15.717, \"is_present\": true, \"mean\": null, \"std\": null, \"err_low\": null, \"err_high\": null}, {\"time\": \"2012-07-16T17:00:00\", \"variable\": \"TA\", \"value\": 14.67, \"control\": 15.535, \"is_present\": true, \"mean\": null, \"std\": null, \"err_low\": null, \"err_high\": null}, {\"time\": \"2012-07-16T17:30:00\", \"variable\": \"TA\", \"value\": 14.55, \"control\": 15.353, \"is_present\": true, \"mean\": null, \"std\": null, \"err_low\": null, \"err_high\": null}, {\"time\": \"2012-07-16T18:00:00\", \"variable\": \"TA\", \"value\": 14.22, \"control\": 15.172, \"is_present\": true, \"mean\": null, \"std\": null, \"err_low\": null, \"err_high\": null}, {\"time\": \"2012-07-16T18:30:00\", \"variable\": \"TA\", \"value\": 13.92, \"control\": 14.99, \"is_present\": true, \"mean\": null, \"std\": null, \"err_low\": null, \"err_high\": null}, {\"time\": \"2012-07-16T19:00:00\", \"variable\": \"TA\", \"value\": 13.05, \"control\": 14.808, \"is_present\": true, \"mean\": null, \"std\": null, \"err_low\": null, \"err_high\": null}, {\"time\": \"2012-07-16T19:30:00\", \"variable\": \"TA\", \"value\": 12.32, \"control\": 14.626, \"is_present\": true, \"mean\": null, \"std\": null, \"err_low\": null, \"err_high\": null}, {\"time\": \"2012-07-16T20:00:00\", \"variable\": \"TA\", \"value\": 12.07, \"control\": 14.139, \"is_present\": true, \"mean\": null, \"std\": null, \"err_low\": null, \"err_high\": null}, {\"time\": \"2012-07-16T20:30:00\", \"variable\": \"TA\", \"value\": 12.0, \"control\": 13.653, \"is_present\": true, \"mean\": null, \"std\": null, \"err_low\": null, \"err_high\": null}, {\"time\": \"2012-07-16T21:00:00\", \"variable\": \"TA\", \"value\": 11.74, \"control\": 13.166, \"is_present\": true, \"mean\": null, \"std\": null, \"err_low\": null, \"err_high\": null}, {\"time\": \"2012-07-16T21:30:00\", \"variable\": \"TA\", \"value\": 11.42, \"control\": 12.679, \"is_present\": true, \"mean\": null, \"std\": null, \"err_low\": null, \"err_high\": null}, {\"time\": \"2012-07-16T22:00:00\", \"variable\": \"TA\", \"value\": 11.18, \"control\": 12.192, \"is_present\": true, \"mean\": null, \"std\": null, \"err_low\": null, \"err_high\": null}, {\"time\": \"2012-07-16T22:30:00\", \"variable\": \"TA\", \"value\": 11.1, \"control\": 11.706, \"is_present\": true, \"mean\": null, \"std\": null, \"err_low\": null, \"err_high\": null}, {\"time\": \"2012-07-16T23:00:00\", \"variable\": \"TA\", \"value\": 11.1, \"control\": 11.631, \"is_present\": true, \"mean\": null, \"std\": null, \"err_low\": null, \"err_high\": null}, {\"time\": \"2012-07-16T23:30:00\", \"variable\": \"TA\", \"value\": 11.06, \"control\": 11.556, \"is_present\": true, \"mean\": null, \"std\": null, \"err_low\": null, \"err_high\": null}, {\"time\": \"2012-07-17T00:00:00\", \"variable\": \"TA\", \"value\": 11.12, \"control\": 11.481, \"is_present\": true, \"mean\": null, \"std\": null, \"err_low\": null, \"err_high\": null}, {\"time\": \"2012-07-17T00:30:00\", \"variable\": \"TA\", \"value\": 11.25, \"control\": 11.405, \"is_present\": true, \"mean\": null, \"std\": null, \"err_low\": null, \"err_high\": null}, {\"time\": \"2012-07-17T01:00:00\", \"variable\": \"TA\", \"value\": 11.27, \"control\": 11.33, \"is_present\": true, \"mean\": null, \"std\": null, \"err_low\": null, \"err_high\": null}, {\"time\": \"2012-07-17T01:30:00\", \"variable\": \"TA\", \"value\": 11.24, \"control\": 11.255, \"is_present\": true, \"mean\": null, \"std\": null, \"err_low\": null, \"err_high\": null}, {\"time\": \"2012-07-17T02:00:00\", \"variable\": \"TA\", \"value\": 11.28, \"control\": 11.348, \"is_present\": false, \"mean\": 11.40354101806066, \"std\": 0.3725883186075047, \"err_low\": 10.65836438084565, \"err_high\": 12.148717655275668}, {\"time\": \"2012-07-17T02:30:00\", \"variable\": \"TA\", \"value\": 11.32, \"control\": 11.441, \"is_present\": false, \"mean\": 11.799255678954008, \"std\": 0.38200375734544284, \"err_low\": 11.035248164263123, \"err_high\": 12.563263193644893}, {\"time\": \"2012-07-17T03:00:00\", \"variable\": \"TA\", \"value\": 11.43, \"control\": 11.534, \"is_present\": false, \"mean\": 12.102841585323253, \"std\": 0.3835074124298634, \"err_low\": 11.335826760463526, \"err_high\": 12.86985641018298}, {\"time\": \"2012-07-17T03:30:00\", \"variable\": \"TA\", \"value\": 11.52, \"control\": 11.627, \"is_present\": false, \"mean\": 12.013096111918664, \"std\": 0.3764929150678436, \"err_low\": 11.260110281782977, \"err_high\": 12.76608194205435}, {\"time\": \"2012-07-17T04:00:00\", \"variable\": \"TA\", \"value\": 11.58, \"control\": 11.72, \"is_present\": false, \"mean\": 11.840252661990954, \"std\": 0.36465854900406147, \"err_low\": 11.110935563982832, \"err_high\": 12.569569759999077}, {\"time\": \"2012-07-17T04:30:00\", \"variable\": \"TA\", \"value\": 11.66, \"control\": 11.813, \"is_present\": true, \"mean\": null, \"std\": null, \"err_low\": null, \"err_high\": null}, {\"time\": \"2012-07-17T05:00:00\", \"variable\": \"TA\", \"value\": 11.78, \"control\": 11.873, \"is_present\": true, \"mean\": null, \"std\": null, \"err_low\": null, \"err_high\": null}, {\"time\": \"2012-07-17T05:30:00\", \"variable\": \"TA\", \"value\": 11.88, \"control\": 11.934, \"is_present\": true, \"mean\": null, \"std\": null, \"err_low\": null, \"err_high\": null}, {\"time\": \"2012-07-17T06:00:00\", \"variable\": \"TA\", \"value\": 11.89, \"control\": 11.994, \"is_present\": true, \"mean\": null, \"std\": null, \"err_low\": null, \"err_high\": null}, {\"time\": \"2012-07-17T06:30:00\", \"variable\": \"TA\", \"value\": 12.03, \"control\": 12.055, \"is_present\": true, \"mean\": null, \"std\": null, \"err_low\": null, \"err_high\": null}, {\"time\": \"2012-07-17T07:00:00\", \"variable\": \"TA\", \"value\": 12.23, \"control\": 12.115, \"is_present\": true, \"mean\": null, \"std\": null, \"err_low\": null, \"err_high\": null}, {\"time\": \"2012-07-17T07:30:00\", \"variable\": \"TA\", \"value\": 12.44, \"control\": 12.176, \"is_present\": true, \"mean\": null, \"std\": null, \"err_low\": null, \"err_high\": null}, {\"time\": \"2012-07-17T08:00:00\", \"variable\": \"TA\", \"value\": 12.67, \"control\": 12.347, \"is_present\": true, \"mean\": null, \"std\": null, \"err_low\": null, \"err_high\": null}, {\"time\": \"2012-07-17T08:30:00\", \"variable\": \"TA\", \"value\": 12.92, \"control\": 12.518, \"is_present\": true, \"mean\": null, \"std\": null, \"err_low\": null, \"err_high\": null}, {\"time\": \"2012-07-17T09:00:00\", \"variable\": \"TA\", \"value\": 13.09, \"control\": 12.688, \"is_present\": true, \"mean\": null, \"std\": null, \"err_low\": null, \"err_high\": null}, {\"time\": \"2012-07-17T09:30:00\", \"variable\": \"TA\", \"value\": 13.26, \"control\": 12.859, \"is_present\": true, \"mean\": null, \"std\": null, \"err_low\": null, \"err_high\": null}, {\"time\": \"2012-07-17T10:00:00\", \"variable\": \"TA\", \"value\": 13.75, \"control\": 13.03, \"is_present\": true, \"mean\": null, \"std\": null, \"err_low\": null, \"err_high\": null}, {\"time\": \"2012-07-17T10:30:00\", \"variable\": \"TA\", \"value\": 14.71, \"control\": 13.201, \"is_present\": true, \"mean\": null, \"std\": null, \"err_low\": null, \"err_high\": null}, {\"time\": \"2012-07-17T11:00:00\", \"variable\": \"TA\", \"value\": 15.5, \"control\": 13.473, \"is_present\": true, \"mean\": null, \"std\": null, \"err_low\": null, \"err_high\": null}, {\"time\": \"2012-07-17T11:30:00\", \"variable\": \"TA\", \"value\": 15.98, \"control\": 13.745, \"is_present\": true, \"mean\": null, \"std\": null, \"err_low\": null, \"err_high\": null}, {\"time\": \"2012-07-17T12:00:00\", \"variable\": \"TA\", \"value\": 16.17, \"control\": 14.016, \"is_present\": true, \"mean\": null, \"std\": null, \"err_low\": null, \"err_high\": null}, {\"time\": \"2012-07-17T12:30:00\", \"variable\": \"TA\", \"value\": 16.73, \"control\": 14.288, \"is_present\": true, \"mean\": null, \"std\": null, \"err_low\": null, \"err_high\": null}, {\"time\": \"2012-07-17T13:00:00\", \"variable\": \"TA\", \"value\": 16.43, \"control\": 14.56, \"is_present\": true, \"mean\": null, \"std\": null, \"err_low\": null, \"err_high\": null}, {\"time\": \"2012-07-17T13:30:00\", \"variable\": \"TA\", \"value\": 16.36, \"control\": 14.832, \"is_present\": true, \"mean\": null, \"std\": null, \"err_low\": null, \"err_high\": null}, {\"time\": \"2012-07-17T14:00:00\", \"variable\": \"TA\", \"value\": 16.77, \"control\": 15.061, \"is_present\": true, \"mean\": null, \"std\": null, \"err_low\": null, \"err_high\": null}], \"data-1238eb10b2ba4f693f63470d19a21504\": [{\"gap_start\": \"2012-07-17T02:00:00\", \"gap_end\": \"2012-07-17T04:00:00\"}], \"data-0e17bdd3ad98885eb094b6234cf756a7\": [{\"time\": \"2011-04-07T02:30:00\", \"variable\": \"TA\", \"value\": 13.0, \"control\": 11.481, \"is_present\": true, \"mean\": null, \"std\": null, \"err_low\": null, \"err_high\": null}, {\"time\": \"2011-04-07T03:00:00\", \"variable\": \"TA\", \"value\": 12.6, \"control\": 11.413, \"is_present\": true, \"mean\": null, \"std\": null, \"err_low\": null, \"err_high\": null}, {\"time\": \"2011-04-07T03:30:00\", \"variable\": \"TA\", \"value\": 12.47, \"control\": 11.345, \"is_present\": true, \"mean\": null, \"std\": null, \"err_low\": null, \"err_high\": null}, {\"time\": \"2011-04-07T04:00:00\", \"variable\": \"TA\", \"value\": 12.34, \"control\": 11.277, \"is_present\": true, \"mean\": null, \"std\": null, \"err_low\": null, \"err_high\": null}, {\"time\": \"2011-04-07T04:30:00\", \"variable\": \"TA\", \"value\": 12.17, \"control\": 11.209, \"is_present\": true, \"mean\": null, \"std\": null, \"err_low\": null, \"err_high\": null}, {\"time\": \"2011-04-07T05:00:00\", \"variable\": \"TA\", \"value\": 12.06, \"control\": 11.38, \"is_present\": true, \"mean\": null, \"std\": null, \"err_low\": null, \"err_high\": null}, {\"time\": \"2011-04-07T05:30:00\", \"variable\": \"TA\", \"value\": 11.98, \"control\": 11.552, \"is_present\": true, \"mean\": null, \"std\": null, \"err_low\": null, \"err_high\": null}, {\"time\": \"2011-04-07T06:00:00\", \"variable\": \"TA\", \"value\": 12.04, \"control\": 11.723, \"is_present\": true, \"mean\": null, \"std\": null, \"err_low\": null, \"err_high\": null}, {\"time\": \"2011-04-07T06:30:00\", \"variable\": \"TA\", \"value\": 12.21, \"control\": 11.894, \"is_present\": true, \"mean\": null, \"std\": null, \"err_low\": null, \"err_high\": null}, {\"time\": \"2011-04-07T07:00:00\", \"variable\": \"TA\", \"value\": 12.56, \"control\": 12.065, \"is_present\": true, \"mean\": null, \"std\": null, \"err_low\": null, \"err_high\": null}, {\"time\": \"2011-04-07T07:30:00\", \"variable\": \"TA\", \"value\": 12.92, \"control\": 12.236, \"is_present\": true, \"mean\": null, \"std\": null, \"err_low\": null, \"err_high\": null}, {\"time\": \"2011-04-07T08:00:00\", \"variable\": \"TA\", \"value\": 13.36, \"control\": 12.97, \"is_present\": true, \"mean\": null, \"std\": null, \"err_low\": null, \"err_high\": null}, {\"time\": \"2011-04-07T08:30:00\", \"variable\": \"TA\", \"value\": 14.0, \"control\": 13.704, \"is_present\": true, \"mean\": null, \"std\": null, \"err_low\": null, \"err_high\": null}, {\"time\": \"2011-04-07T09:00:00\", \"variable\": \"TA\", \"value\": 14.47, \"control\": 14.438, \"is_present\": true, \"mean\": null, \"std\": null, \"err_low\": null, \"err_high\": null}, {\"time\": \"2011-04-07T09:30:00\", \"variable\": \"TA\", \"value\": 15.31, \"control\": 15.172, \"is_present\": true, \"mean\": null, \"std\": null, \"err_low\": null, \"err_high\": null}, {\"time\": \"2011-04-07T10:00:00\", \"variable\": \"TA\", \"value\": 16.39, \"control\": 15.906, \"is_present\": true, \"mean\": null, \"std\": null, \"err_low\": null, \"err_high\": null}, {\"time\": \"2011-04-07T10:30:00\", \"variable\": \"TA\", \"value\": 16.79, \"control\": 16.64, \"is_present\": true, \"mean\": null, \"std\": null, \"err_low\": null, \"err_high\": null}, {\"time\": \"2011-04-07T11:00:00\", \"variable\": \"TA\", \"value\": 17.11, \"control\": 16.845, \"is_present\": true, \"mean\": null, \"std\": null, \"err_low\": null, \"err_high\": null}, {\"time\": \"2011-04-07T11:30:00\", \"variable\": \"TA\", \"value\": 17.26, \"control\": 17.05, \"is_present\": true, \"mean\": null, \"std\": null, \"err_low\": null, \"err_high\": null}, {\"time\": \"2011-04-07T12:00:00\", \"variable\": \"TA\", \"value\": 17.88, \"control\": 17.256, \"is_present\": true, \"mean\": null, \"std\": null, \"err_low\": null, \"err_high\": null}, {\"time\": \"2011-04-07T12:30:00\", \"variable\": \"TA\", \"value\": 18.41, \"control\": 17.461, \"is_present\": true, \"mean\": null, \"std\": null, \"err_low\": null, \"err_high\": null}, {\"time\": \"2011-04-07T13:00:00\", \"variable\": \"TA\", \"value\": 18.51, \"control\": 17.667, \"is_present\": true, \"mean\": null, \"std\": null, \"err_low\": null, \"err_high\": null}, {\"time\": \"2011-04-07T13:30:00\", \"variable\": \"TA\", \"value\": 18.54, \"control\": 17.872, \"is_present\": true, \"mean\": null, \"std\": null, \"err_low\": null, \"err_high\": null}, {\"time\": \"2011-04-07T14:00:00\", \"variable\": \"TA\", \"value\": 18.8, \"control\": 17.425, \"is_present\": true, \"mean\": null, \"std\": null, \"err_low\": null, \"err_high\": null}, {\"time\": \"2011-04-07T14:30:00\", \"variable\": \"TA\", \"value\": 19.12, \"control\": 16.978, \"is_present\": true, \"mean\": null, \"std\": null, \"err_low\": null, \"err_high\": null}, {\"time\": \"2011-04-07T15:00:00\", \"variable\": \"TA\", \"value\": 18.61, \"control\": 16.531, \"is_present\": false, \"mean\": 18.65920008071857, \"std\": 0.3725883186075047, \"err_low\": 17.91402344350356, \"err_high\": 19.40437671793358}, {\"time\": \"2011-04-07T15:30:00\", \"variable\": \"TA\", \"value\": 17.47, \"control\": 16.085, \"is_present\": false, \"mean\": 17.593858106888657, \"std\": 0.38200375734544284, \"err_low\": 16.829850592197772, \"err_high\": 18.357865621579542}, {\"time\": \"2011-04-07T16:00:00\", \"variable\": \"TA\", \"value\": 16.59, \"control\": 15.638, \"is_present\": false, \"mean\": 16.45699300512829, \"std\": 0.3835074124298634, \"err_low\": 15.689978180268563, \"err_high\": 17.224007829988018}, {\"time\": \"2011-04-07T16:30:00\", \"variable\": \"TA\", \"value\": 15.79, \"control\": 15.191, \"is_present\": false, \"mean\": 15.604035057475176, \"std\": 0.3764929150678436, \"err_low\": 14.85104922733949, \"err_high\": 16.357020887610865}, {\"time\": \"2011-04-07T17:00:00\", \"variable\": \"TA\", \"value\": 15.04, \"control\": 14.541, \"is_present\": false, \"mean\": 14.8847991394075, \"std\": 0.36465854900406147, \"err_low\": 14.155482041399377, \"err_high\": 15.614116237415622}, {\"time\": \"2011-04-07T17:30:00\", \"variable\": \"TA\", \"value\": 13.97, \"control\": 13.89, \"is_present\": true, \"mean\": null, \"std\": null, \"err_low\": null, \"err_high\": null}, {\"time\": \"2011-04-07T18:00:00\", \"variable\": \"TA\", \"value\": 13.12, \"control\": 13.24, \"is_present\": true, \"mean\": null, \"std\": null, \"err_low\": null, \"err_high\": null}, {\"time\": \"2011-04-07T18:30:00\", \"variable\": \"TA\", \"value\": 12.35, \"control\": 12.59, \"is_present\": true, \"mean\": null, \"std\": null, \"err_low\": null, \"err_high\": null}, {\"time\": \"2011-04-07T19:00:00\", \"variable\": \"TA\", \"value\": 11.37, \"control\": 11.94, \"is_present\": true, \"mean\": null, \"std\": null, \"err_low\": null, \"err_high\": null}, {\"time\": \"2011-04-07T19:30:00\", \"variable\": \"TA\", \"value\": 10.82, \"control\": 11.289, \"is_present\": true, \"mean\": null, \"std\": null, \"err_low\": null, \"err_high\": null}, {\"time\": \"2011-04-07T20:00:00\", \"variable\": \"TA\", \"value\": 10.42, \"control\": 10.84, \"is_present\": true, \"mean\": null, \"std\": null, \"err_low\": null, \"err_high\": null}, {\"time\": \"2011-04-07T20:30:00\", \"variable\": \"TA\", \"value\": 10.16, \"control\": 10.39, \"is_present\": true, \"mean\": null, \"std\": null, \"err_low\": null, \"err_high\": null}, {\"time\": \"2011-04-07T21:00:00\", \"variable\": \"TA\", \"value\": 9.83, \"control\": 9.94, \"is_present\": true, \"mean\": null, \"std\": null, \"err_low\": null, \"err_high\": null}, {\"time\": \"2011-04-07T21:30:00\", \"variable\": \"TA\", \"value\": 9.53, \"control\": 9.49, \"is_present\": true, \"mean\": null, \"std\": null, \"err_low\": null, \"err_high\": null}, {\"time\": \"2011-04-07T22:00:00\", \"variable\": \"TA\", \"value\": 9.28, \"control\": 9.04, \"is_present\": true, \"mean\": null, \"std\": null, \"err_low\": null, \"err_high\": null}, {\"time\": \"2011-04-07T22:30:00\", \"variable\": \"TA\", \"value\": 8.92, \"control\": 8.59, \"is_present\": true, \"mean\": null, \"std\": null, \"err_low\": null, \"err_high\": null}, {\"time\": \"2011-04-07T23:00:00\", \"variable\": \"TA\", \"value\": 8.39, \"control\": 8.24, \"is_present\": true, \"mean\": null, \"std\": null, \"err_low\": null, \"err_high\": null}, {\"time\": \"2011-04-07T23:30:00\", \"variable\": \"TA\", \"value\": 8.02, \"control\": 7.89, \"is_present\": true, \"mean\": null, \"std\": null, \"err_low\": null, \"err_high\": null}, {\"time\": \"2011-04-08T00:00:00\", \"variable\": \"TA\", \"value\": 7.74, \"control\": 7.539, \"is_present\": true, \"mean\": null, \"std\": null, \"err_low\": null, \"err_high\": null}, {\"time\": \"2011-04-08T00:30:00\", \"variable\": \"TA\", \"value\": 7.51, \"control\": 7.189, \"is_present\": true, \"mean\": null, \"std\": null, \"err_low\": null, \"err_high\": null}, {\"time\": \"2011-04-08T01:00:00\", \"variable\": \"TA\", \"value\": 7.14, \"control\": 6.839, \"is_present\": true, \"mean\": null, \"std\": null, \"err_low\": null, \"err_high\": null}, {\"time\": \"2011-04-08T01:30:00\", \"variable\": \"TA\", \"value\": 6.74, \"control\": 6.488, \"is_present\": true, \"mean\": null, \"std\": null, \"err_low\": null, \"err_high\": null}, {\"time\": \"2011-04-08T02:00:00\", \"variable\": \"TA\", \"value\": 6.5, \"control\": 6.223, \"is_present\": true, \"mean\": null, \"std\": null, \"err_low\": null, \"err_high\": null}, {\"time\": \"2011-04-08T02:30:00\", \"variable\": \"TA\", \"value\": 6.15, \"control\": 5.958, \"is_present\": true, \"mean\": null, \"std\": null, \"err_low\": null, \"err_high\": null}, {\"time\": \"2011-04-08T03:00:00\", \"variable\": \"TA\", \"value\": 5.66, \"control\": 5.692, \"is_present\": true, \"mean\": null, \"std\": null, \"err_low\": null, \"err_high\": null}], \"data-6528660eb8fd739a8c8d89311d17ca12\": [{\"gap_start\": \"2011-04-07T15:00:00\", \"gap_end\": \"2011-04-07T17:00:00\"}]}}, {\"mode\": \"vega-lite\"});\n",
       "</script>"
      ],
      "text/plain": [
       "alt.HConcatChart(...)"
      ]
     },
     "execution_count": null,
     "metadata": {},
     "output_type": "execute_result"
    }
   ],
   "source": [
    "show_results(learn_TA, hide_no_gap=True, control_map=control_map)"
   ]
  },
  {
   "cell_type": "code",
   "execution_count": null,
   "id": "3aa2b2fc-3938-4797-a3cd-36f9de7243c4",
   "metadata": {},
   "outputs": [],
   "source": [
    "preds_k, _ = predict_items(learn_TA.model, dls = dls_TA, items=items_TA)"
   ]
  },
  {
   "cell_type": "code",
   "execution_count": null,
   "id": "4cb44e72-40a8-4ef8-bda4-ed5158bef098",
   "metadata": {},
   "outputs": [],
   "source": [
    "preds_k = get_results(learn_TA, items=items_TA)"
   ]
  },
  {
   "cell_type": "code",
   "execution_count": null,
   "id": "356baf67-e701-4896-91fb-9389e832569b",
   "metadata": {},
   "outputs": [],
   "source": [
    "targ = orig_target(dls_TA, items_TA)"
   ]
  },
  {
   "cell_type": "code",
   "execution_count": null,
   "id": "76598d86-258d-4da1-a8f2-b3bf378412e5",
   "metadata": {},
   "outputs": [],
   "source": [
    "from fastcore.basics import *\n",
    "from sklearn.metrics import mean_squared_error"
   ]
  },
  {
   "cell_type": "code",
   "execution_count": null,
   "id": "fcfb69ba-3f86-45f5-9840-fea9202868a1",
   "metadata": {},
   "outputs": [],
   "source": [
    "#| export\n",
    "class MaskedMetric:\n",
    "    def __init__(self, metric): store_attr()\n",
    "    def __call__(self, item, pred):\n",
    "        row_sel, col_sel = ~item.mask.all(1), ~item.mask.all(0)\n",
    "        data, mask, pred = item.data.to_numpy(), item.mask.to_numpy(), pred.to_numpy()\n",
    "        assert not mask[:, col_sel][row_sel, :].any() # gap is a rectangle\n",
    "        return self.metric(data[:, col_sel][row_sel, :], pred[:, col_sel][row_sel, :])   "
   ]
  },
  {
   "cell_type": "code",
   "execution_count": null,
   "id": "efc8fb23-0547-4c69-8cd2-542f69b11935",
   "metadata": {},
   "outputs": [],
   "source": [
    "#| export\n",
    "class NormalizedMetric:\n",
    "    def __init__(self, metric, mean, std):\n",
    "        self.metric = metric\n",
    "        self.mean, self.std = mean.numpy(), std.numpy()\n",
    "    def __call__(self, item, pred):\n",
    "        row_sel, col_sel = ~item.mask.all(1), ~item.mask.all(0)\n",
    "        data, mask, pred = item.data.to_numpy(), item.mask.to_numpy(), pred.to_numpy()\n",
    "        n_data = (data - self.mean) / self.std\n",
    "        n_pred = (pred - self.mean) / self.std\n",
    "        assert not mask[:, col_sel][row_sel, :].any() # gap is a rectangle\n",
    "        return self.metric(n_data[:, col_sel][row_sel, :], n_pred[:, col_sel][row_sel, :])   "
   ]
  },
  {
   "cell_type": "code",
   "execution_count": null,
   "id": "0faed6e8-635a-490c-b698-192614b340a7",
   "metadata": {},
   "outputs": [],
   "source": [
    "def rmse(y_true, y_pred):\n",
    "    return np.sqrt(mean_squared_error(y_true, y_pred, multioutput='raw_values'))"
   ]
  },
  {
   "cell_type": "code",
   "execution_count": null,
   "id": "8748d414-9594-4de7-a74c-1eed5bdbdbfd",
   "metadata": {},
   "outputs": [],
   "source": [
    "#| export\n",
    "class NormalizedMetric:\n",
    "    def __init__(self, metric, mean, std):\n",
    "        self.metric = metric\n",
    "        self.mean, self.std = mean.numpy(), std.numpy()\n",
    "    def __call__(self, item, pred):\n",
    "        row_sel, col_sel = ~item.mask.all(1), ~item.mask.all(0)\n",
    "        data, mask, pred = item.data.to_numpy(), item.mask.to_numpy(), pred.to_numpy()\n",
    "        n_data = (data - self.mean) / self.std\n",
    "        n_pred = (pred - self.mean) / self.std\n",
    "        assert not mask[:, col_sel][row_sel, :].any() # gap is a rectangle\n",
    "        return self.metric(n_data[:, col_sel][row_sel, :], n_pred[:, col_sel][row_sel, :])   "
   ]
  },
  {
   "cell_type": "code",
   "execution_count": null,
   "id": "884c59c7-e66f-4da3-a8d0-d85191ea7286",
   "metadata": {},
   "outputs": [
    {
     "data": {
      "text/plain": [
       "array([0.428258])"
      ]
     },
     "execution_count": null,
     "metadata": {},
     "output_type": "execute_result"
    }
   ],
   "source": [
    "MaskedMetric(rmse)(targ[0], preds_k[0][0].mean)"
   ]
  },
  {
   "cell_type": "code",
   "execution_count": null,
   "id": "a0a9aa30-fff8-4d00-ba38-50208fedc1ed",
   "metadata": {},
   "outputs": [],
   "source": [
    "class ERAImputation:\n",
    "    name = \"ERA\"\n",
    "    def __call__(self, item):\n",
    "        pred = item.control.copy()\n",
    "        names = [col for col in pred.columns if not col.endswith(\"_lag_1\")]\n",
    "        pred = pred.filter(names)\n",
    "        return pred.rename(columns=lambda x: x.replace(\"_ERA\", \"\"))"
   ]
  },
  {
   "cell_type": "code",
   "execution_count": null,
   "id": "35ce2261-0c56-44cb-83a3-2c2fba1045f7",
   "metadata": {},
   "outputs": [
    {
     "data": {
      "text/plain": [
       "(                        TA    SW_IN    VPD      PA    P     WS    LW_IN\n",
       " time                                                                   \n",
       " 2012-11-19 14:30:00  6.281  102.451  1.039  96.220  0.0  1.635  314.377\n",
       " 2012-11-19 15:00:00  5.998   82.679  0.985  96.215  0.0  1.671  314.377\n",
       " 2012-11-19 15:30:00  5.716   59.594  0.931  96.210  0.0  1.707  314.377\n",
       " 2012-11-19 16:00:00  5.434   33.592  0.877  96.204  0.0  1.742  314.377\n",
       " 2012-11-19 16:30:00  5.152    1.620  0.823  96.199  0.0  1.778  304.538,\n",
       "                      TA_ERA  SW_IN_ERA  VPD_ERA  PA_ERA  P_ERA  WS_ERA  \\\n",
       " time                                                                     \n",
       " 2012-11-19 14:30:00   6.281    102.451    1.039  96.220    0.0   1.635   \n",
       " 2012-11-19 15:00:00   5.998     82.679    0.985  96.215    0.0   1.671   \n",
       " 2012-11-19 15:30:00   5.716     59.594    0.931  96.210    0.0   1.707   \n",
       " 2012-11-19 16:00:00   5.434     33.592    0.877  96.204    0.0   1.742   \n",
       " 2012-11-19 16:30:00   5.152      1.620    0.823  96.199    0.0   1.778   \n",
       " \n",
       "                      LW_IN_ERA  TA_ERA_lag_1  SW_IN_ERA_lag_1  VPD_ERA_lag_1  \\\n",
       " time                                                                           \n",
       " 2012-11-19 14:30:00    314.377         6.563          118.574          1.093   \n",
       " 2012-11-19 15:00:00    314.377         6.281          102.451          1.039   \n",
       " 2012-11-19 15:30:00    314.377         5.998           82.679          0.985   \n",
       " 2012-11-19 16:00:00    314.377         5.716           59.594          0.931   \n",
       " 2012-11-19 16:30:00    304.538         5.434           33.592          0.877   \n",
       " \n",
       "                      PA_ERA_lag_1  P_ERA_lag_1  WS_ERA_lag_1  LW_IN_ERA_lag_1  \n",
       " time                                                                           \n",
       " 2012-11-19 14:30:00        96.225          0.0         1.600          314.377  \n",
       " 2012-11-19 15:00:00        96.220          0.0         1.635          314.377  \n",
       " 2012-11-19 15:30:00        96.215          0.0         1.671          314.377  \n",
       " 2012-11-19 16:00:00        96.210          0.0         1.707          314.377  \n",
       " 2012-11-19 16:30:00        96.204          0.0         1.742          314.377  )"
      ]
     },
     "execution_count": null,
     "metadata": {},
     "output_type": "execute_result"
    }
   ],
   "source": [
    "pred_era = ERAImputation()(targ[0])\n",
    "pred_era.head(), targ[0].control.head()"
   ]
  },
  {
   "cell_type": "code",
   "execution_count": null,
   "id": "41fa6d64-9ecc-4667-b4af-1208d08b1dd6",
   "metadata": {},
   "outputs": [
    {
     "data": {
      "text/plain": [
       "array([0.24196611])"
      ]
     },
     "execution_count": null,
     "metadata": {},
     "output_type": "execute_result"
    }
   ],
   "source": [
    "MaskedMetric(rmse)(targ[0], pred_era)"
   ]
  },
  {
   "cell_type": "code",
   "execution_count": null,
   "id": "93fc8773-5a7f-42d9-a10d-b10e3542d1fb",
   "metadata": {},
   "outputs": [],
   "source": [
    "import polars as pl"
   ]
  },
  {
   "cell_type": "code",
   "execution_count": null,
   "id": "2767000d-a363-48ac-adb4-6a3f72ae12b8",
   "metadata": {},
   "outputs": [],
   "source": []
  },
  {
   "cell_type": "code",
   "execution_count": null,
   "id": "7ce79884-e9c5-40db-9271-dc3847d81c70",
   "metadata": {},
   "outputs": [],
   "source": [
    "learn_TA.model.use_conditional = False"
   ]
  },
  {
   "cell_type": "code",
   "execution_count": null,
   "id": "b421735d-6a11-42b0-a229-247a2a631e77",
   "metadata": {},
   "outputs": [],
   "source": [
    "def comp_error(n):\n",
    "    items_TA_ = random.choices(dls_TA.valid.items, k=n) if n is not None else dls_TA.valid.items\n",
    "    out = []\n",
    "    targs = orig_target(dls_TA, items_TA_)\n",
    "    norm_rmse = NormalizedMetric(rmse, *get_stats(haiB))\n",
    "    for item, targ in zip(items_TA, targs):\n",
    "        pred_era = ERAImputation()(targ)\n",
    "        preds_k, _ = predict_items(learn_TA.model, dls = dls_TA, items=[item])\n",
    "        pred_k = preds_k[0].mean\n",
    "        for name, pred in zip(['Kalman', 'ERA'], [pred_k, pred_era]):\n",
    "            out.append(\n",
    "            {'method': name,\n",
    "             'rmse': MaskedMetric(rmse)(targ, pred).item(),\n",
    "             'rmse_norm': norm_rmse(targ, pred).item(),\n",
    "             'item': tuple(item),\n",
    "             # 'rmse_norm': self.rmse_norm(item, pred).item(),\n",
    "             # 'var': var,\n",
    "             # 'gap_len': gap_len\n",
    "            }\n",
    "            )\n",
    "    out = pd.DataFrame(out)\n",
    "    return out.groupby('method').aggregate({'rmse': ['mean', 'std'], 'rmse_norm': ['mean', 'std']})"
   ]
  },
  {
   "cell_type": "code",
   "execution_count": null,
   "id": "cacb9340-1530-43dd-a594-040313f26535",
   "metadata": {},
   "outputs": [
    {
     "data": {
      "text/html": [
       "<div>\n",
       "<style scoped>\n",
       "    .dataframe tbody tr th:only-of-type {\n",
       "        vertical-align: middle;\n",
       "    }\n",
       "\n",
       "    .dataframe tbody tr th {\n",
       "        vertical-align: top;\n",
       "    }\n",
       "\n",
       "    .dataframe thead tr th {\n",
       "        text-align: left;\n",
       "    }\n",
       "\n",
       "    .dataframe thead tr:last-of-type th {\n",
       "        text-align: right;\n",
       "    }\n",
       "</style>\n",
       "<table border=\"1\" class=\"dataframe\">\n",
       "  <thead>\n",
       "    <tr>\n",
       "      <th></th>\n",
       "      <th colspan=\"2\" halign=\"left\">rmse</th>\n",
       "      <th colspan=\"2\" halign=\"left\">rmse_norm</th>\n",
       "    </tr>\n",
       "    <tr>\n",
       "      <th></th>\n",
       "      <th>mean</th>\n",
       "      <th>std</th>\n",
       "      <th>mean</th>\n",
       "      <th>std</th>\n",
       "    </tr>\n",
       "    <tr>\n",
       "      <th>method</th>\n",
       "      <th></th>\n",
       "      <th></th>\n",
       "      <th></th>\n",
       "      <th></th>\n",
       "    </tr>\n",
       "  </thead>\n",
       "  <tbody>\n",
       "    <tr>\n",
       "      <th>ERA</th>\n",
       "      <td>0.906682</td>\n",
       "      <td>0.888673</td>\n",
       "      <td>0.114414</td>\n",
       "      <td>0.112141</td>\n",
       "    </tr>\n",
       "    <tr>\n",
       "      <th>Kalman</th>\n",
       "      <td>8.204769</td>\n",
       "      <td>7.849606</td>\n",
       "      <td>1.035353</td>\n",
       "      <td>0.990535</td>\n",
       "    </tr>\n",
       "  </tbody>\n",
       "</table>\n",
       "</div>"
      ],
      "text/plain": [
       "            rmse           rmse_norm          \n",
       "            mean       std      mean       std\n",
       "method                                        \n",
       "ERA     0.906682  0.888673  0.114414  0.112141\n",
       "Kalman  8.204769  7.849606  1.035353  0.990535"
      ]
     },
     "execution_count": null,
     "metadata": {},
     "output_type": "execute_result"
    }
   ],
   "source": [
    "comp_error(5)"
   ]
  },
  {
   "cell_type": "code",
   "execution_count": null,
   "id": "821236a5-8320-478c-886a-7b5c827e7d7a",
   "metadata": {},
   "outputs": [
    {
     "data": {
      "text/html": [
       "<div>\n",
       "<style scoped>\n",
       "    .dataframe tbody tr th:only-of-type {\n",
       "        vertical-align: middle;\n",
       "    }\n",
       "\n",
       "    .dataframe tbody tr th {\n",
       "        vertical-align: top;\n",
       "    }\n",
       "\n",
       "    .dataframe thead tr th {\n",
       "        text-align: left;\n",
       "    }\n",
       "\n",
       "    .dataframe thead tr:last-of-type th {\n",
       "        text-align: right;\n",
       "    }\n",
       "</style>\n",
       "<table border=\"1\" class=\"dataframe\">\n",
       "  <thead>\n",
       "    <tr>\n",
       "      <th></th>\n",
       "      <th colspan=\"2\" halign=\"left\">rmse</th>\n",
       "      <th colspan=\"2\" halign=\"left\">rmse_norm</th>\n",
       "    </tr>\n",
       "    <tr>\n",
       "      <th></th>\n",
       "      <th>mean</th>\n",
       "      <th>std</th>\n",
       "      <th>mean</th>\n",
       "      <th>std</th>\n",
       "    </tr>\n",
       "    <tr>\n",
       "      <th>method</th>\n",
       "      <th></th>\n",
       "      <th></th>\n",
       "      <th></th>\n",
       "      <th></th>\n",
       "    </tr>\n",
       "  </thead>\n",
       "  <tbody>\n",
       "    <tr>\n",
       "      <th>ERA</th>\n",
       "      <td>2.724613</td>\n",
       "      <td>1.969271</td>\n",
       "      <td>0.343817</td>\n",
       "      <td>0.248501</td>\n",
       "    </tr>\n",
       "    <tr>\n",
       "      <th>Kalman</th>\n",
       "      <td>7.380443</td>\n",
       "      <td>5.254880</td>\n",
       "      <td>0.931332</td>\n",
       "      <td>0.663109</td>\n",
       "    </tr>\n",
       "  </tbody>\n",
       "</table>\n",
       "</div>"
      ],
      "text/plain": [
       "            rmse           rmse_norm          \n",
       "            mean       std      mean       std\n",
       "method                                        \n",
       "ERA     2.724613  1.969271  0.343817  0.248501\n",
       "Kalman  7.380443  5.254880  0.931332  0.663109"
      ]
     },
     "execution_count": null,
     "metadata": {},
     "output_type": "execute_result"
    }
   ],
   "source": [
    "comp_error(None)"
   ]
  },
  {
   "cell_type": "code",
   "execution_count": null,
   "id": "6f0da9b0-f99f-41c4-9e44-b4baa8624c9d",
   "metadata": {},
   "outputs": [
    {
     "data": {
      "text/html": [
       "<div>\n",
       "<style scoped>\n",
       "    .dataframe tbody tr th:only-of-type {\n",
       "        vertical-align: middle;\n",
       "    }\n",
       "\n",
       "    .dataframe tbody tr th {\n",
       "        vertical-align: top;\n",
       "    }\n",
       "\n",
       "    .dataframe thead tr th {\n",
       "        text-align: left;\n",
       "    }\n",
       "\n",
       "    .dataframe thead tr:last-of-type th {\n",
       "        text-align: right;\n",
       "    }\n",
       "</style>\n",
       "<table border=\"1\" class=\"dataframe\">\n",
       "  <thead>\n",
       "    <tr>\n",
       "      <th></th>\n",
       "      <th colspan=\"2\" halign=\"left\">rmse</th>\n",
       "    </tr>\n",
       "    <tr>\n",
       "      <th></th>\n",
       "      <th>mean</th>\n",
       "      <th>std</th>\n",
       "    </tr>\n",
       "    <tr>\n",
       "      <th>method</th>\n",
       "      <th></th>\n",
       "      <th></th>\n",
       "    </tr>\n",
       "  </thead>\n",
       "  <tbody>\n",
       "    <tr>\n",
       "      <th>ERA</th>\n",
       "      <td>1.773263</td>\n",
       "      <td>1.487354</td>\n",
       "    </tr>\n",
       "    <tr>\n",
       "      <th>Kalman</th>\n",
       "      <td>5.935207</td>\n",
       "      <td>4.806449</td>\n",
       "    </tr>\n",
       "  </tbody>\n",
       "</table>\n",
       "</div>"
      ],
      "text/plain": [
       "            rmse          \n",
       "            mean       std\n",
       "method                    \n",
       "ERA     1.773263  1.487354\n",
       "Kalman  5.935207  4.806449"
      ]
     },
     "execution_count": null,
     "metadata": {},
     "output_type": "execute_result"
    }
   ],
   "source": [
    "comp_error(1000)"
   ]
  },
  {
   "cell_type": "code",
   "execution_count": null,
   "id": "c632429e-f3f7-4b54-809e-8ffa3402642b",
   "metadata": {},
   "outputs": [
    {
     "data": {
      "text/html": [
       "<div>\n",
       "<style scoped>\n",
       "    .dataframe tbody tr th:only-of-type {\n",
       "        vertical-align: middle;\n",
       "    }\n",
       "\n",
       "    .dataframe tbody tr th {\n",
       "        vertical-align: top;\n",
       "    }\n",
       "\n",
       "    .dataframe thead tr th {\n",
       "        text-align: left;\n",
       "    }\n",
       "\n",
       "    .dataframe thead tr:last-of-type th {\n",
       "        text-align: right;\n",
       "    }\n",
       "</style>\n",
       "<table border=\"1\" class=\"dataframe\">\n",
       "  <thead>\n",
       "    <tr>\n",
       "      <th></th>\n",
       "      <th colspan=\"2\" halign=\"left\">rmse</th>\n",
       "    </tr>\n",
       "    <tr>\n",
       "      <th></th>\n",
       "      <th>mean</th>\n",
       "      <th>std</th>\n",
       "    </tr>\n",
       "    <tr>\n",
       "      <th>method</th>\n",
       "      <th></th>\n",
       "      <th></th>\n",
       "    </tr>\n",
       "  </thead>\n",
       "  <tbody>\n",
       "    <tr>\n",
       "      <th>ERA</th>\n",
       "      <td>1.034524</td>\n",
       "      <td>1.411873</td>\n",
       "    </tr>\n",
       "    <tr>\n",
       "      <th>Kalman</th>\n",
       "      <td>7.834899</td>\n",
       "      <td>3.228180</td>\n",
       "    </tr>\n",
       "  </tbody>\n",
       "</table>\n",
       "</div>"
      ],
      "text/plain": [
       "            rmse          \n",
       "            mean       std\n",
       "method                    \n",
       "ERA     1.034524  1.411873\n",
       "Kalman  7.834899  3.228180"
      ]
     },
     "execution_count": null,
     "metadata": {},
     "output_type": "execute_result"
    }
   ],
   "source": [
    "comp_error(10)"
   ]
  },
  {
   "cell_type": "code",
   "execution_count": null,
   "id": "e986d908-45a7-4e6b-b97b-280e2e1c7188",
   "metadata": {},
   "outputs": [
    {
     "data": {
      "text/html": [
       "\n",
       "<div id=\"altair-viz-f175c65f5b1146da9e3d2bc91c37bac7\"></div>\n",
       "<script type=\"text/javascript\">\n",
       "  var VEGA_DEBUG = (typeof VEGA_DEBUG == \"undefined\") ? {} : VEGA_DEBUG;\n",
       "  (function(spec, embedOpt){\n",
       "    let outputDiv = document.currentScript.previousElementSibling;\n",
       "    if (outputDiv.id !== \"altair-viz-f175c65f5b1146da9e3d2bc91c37bac7\") {\n",
       "      outputDiv = document.getElementById(\"altair-viz-f175c65f5b1146da9e3d2bc91c37bac7\");\n",
       "    }\n",
       "    const paths = {\n",
       "      \"vega\": \"https://cdn.jsdelivr.net/npm//vega@5?noext\",\n",
       "      \"vega-lib\": \"https://cdn.jsdelivr.net/npm//vega-lib?noext\",\n",
       "      \"vega-lite\": \"https://cdn.jsdelivr.net/npm//vega-lite@5.2.0?noext\",\n",
       "      \"vega-embed\": \"https://cdn.jsdelivr.net/npm//vega-embed@6?noext\",\n",
       "    };\n",
       "\n",
       "    function maybeLoadScript(lib, version) {\n",
       "      var key = `${lib.replace(\"-\", \"\")}_version`;\n",
       "      return (VEGA_DEBUG[key] == version) ?\n",
       "        Promise.resolve(paths[lib]) :\n",
       "        new Promise(function(resolve, reject) {\n",
       "          var s = document.createElement('script');\n",
       "          document.getElementsByTagName(\"head\")[0].appendChild(s);\n",
       "          s.async = true;\n",
       "          s.onload = () => {\n",
       "            VEGA_DEBUG[key] = version;\n",
       "            return resolve(paths[lib]);\n",
       "          };\n",
       "          s.onerror = () => reject(`Error loading script: ${paths[lib]}`);\n",
       "          s.src = paths[lib];\n",
       "        });\n",
       "    }\n",
       "\n",
       "    function showError(err) {\n",
       "      outputDiv.innerHTML = `<div class=\"error\" style=\"color:red;\">${err}</div>`;\n",
       "      throw err;\n",
       "    }\n",
       "\n",
       "    function displayChart(vegaEmbed) {\n",
       "      vegaEmbed(outputDiv, spec, embedOpt)\n",
       "        .catch(err => showError(`Javascript Error: ${err.message}<br>This usually means there's a typo in your chart specification. See the javascript console for the full traceback.`));\n",
       "    }\n",
       "\n",
       "    if(typeof define === \"function\" && define.amd) {\n",
       "      requirejs.config({paths});\n",
       "      require([\"vega-embed\"], displayChart, err => showError(`Error loading script: ${err.message}`));\n",
       "    } else {\n",
       "      maybeLoadScript(\"vega\", \"5\")\n",
       "        .then(() => maybeLoadScript(\"vega-lite\", \"5.2.0\"))\n",
       "        .then(() => maybeLoadScript(\"vega-embed\", \"6\"))\n",
       "        .catch(showError)\n",
       "        .then(() => displayChart(vegaEmbed));\n",
       "    }\n",
       "  })({\"config\": {\"view\": {\"continuousWidth\": 400, \"continuousHeight\": 300}}, \"hconcat\": [{\"vconcat\": [{\"hconcat\": [{\"layer\": [{\"data\": {\"name\": \"data-18495d1fbb3bf87e9e8ea087b89f60f6\"}, \"mark\": {\"type\": \"point\", \"color\": \"black\", \"fillOpacity\": 1, \"strokeWidth\": 1}, \"encoding\": {\"fill\": {\"field\": \"is_present\", \"legend\": {\"title\": [\"Observed data\"]}, \"scale\": {\"range\": [\"black\", \"#ffffff00\"]}, \"type\": \"nominal\"}, \"shape\": {\"field\": \"is_present\", \"type\": \"nominal\"}, \"x\": {\"axis\": {\"domain\": true, \"labels\": true, \"ticks\": true, \"title\": \"time\"}, \"field\": \"time\", \"type\": \"temporal\"}, \"y\": {\"field\": \"value\", \"scale\": {\"zero\": false}, \"title\": \"TA\", \"type\": \"quantitative\"}}}, {\"layer\": [{\"mark\": \"rule\", \"encoding\": {\"x\": {\"axis\": {\"domain\": false, \"labels\": false, \"ticks\": false, \"title\": null}, \"field\": \"gap_start\", \"type\": \"temporal\"}}}, {\"mark\": \"rule\", \"encoding\": {\"x\": {\"axis\": {\"domain\": false, \"labels\": false, \"ticks\": false, \"title\": null}, \"field\": \"gap_end\", \"type\": \"temporal\"}}}, {\"mark\": {\"type\": \"rect\", \"color\": \"black\", \"opacity\": 0.15}, \"encoding\": {\"x\": {\"axis\": {\"domain\": false, \"labels\": false, \"ticks\": false, \"title\": null}, \"field\": \"gap_start\", \"type\": \"temporal\"}, \"x2\": {\"field\": \"gap_end\"}}}], \"data\": {\"name\": \"data-017ba420949426da62233e79289fd60d\"}}, {\"data\": {\"name\": \"data-18495d1fbb3bf87e9e8ea087b89f60f6\"}, \"mark\": \"errorband\", \"encoding\": {\"color\": {\"field\": \"variable\", \"legend\": {\"title\": [\"Line: pred. mean\", \"area: +/- 2 std\"]}, \"scale\": {\"domain\": [\"TA\", \"SW_IN\", \"VPD\", \"PA\", \"P\", \"WS\", \"LW_IN\"], \"range\": [\"#1B9E77\", \"#D95F02\", \"#7570B3\", \"#E7298A\", \"#66A61E\", \"#E6AB02\", \"#A6761D\", \"#666666\"]}, \"type\": \"nominal\"}, \"x\": {\"field\": \"time\", \"type\": \"temporal\"}, \"y\": {\"field\": \"err_low\", \"scale\": {\"zero\": false}, \"title\": \"TA\", \"type\": \"quantitative\"}, \"y2\": {\"field\": \"err_high\"}}, \"name\": \"view_145\"}, {\"data\": {\"name\": \"data-18495d1fbb3bf87e9e8ea087b89f60f6\"}, \"mark\": {\"type\": \"line\", \"color\": \"purple\", \"strokeDash\": [4, 6]}, \"encoding\": {\"x\": {\"field\": \"time\", \"type\": \"temporal\"}, \"y\": {\"field\": \"control\", \"scale\": {\"zero\": false}, \"title\": \"TA\", \"type\": \"quantitative\"}}}, {\"data\": {\"name\": \"data-18495d1fbb3bf87e9e8ea087b89f60f6\"}, \"mark\": \"line\", \"encoding\": {\"color\": {\"field\": \"variable\", \"scale\": {\"domain\": [\"TA\", \"SW_IN\", \"VPD\", \"PA\", \"P\", \"WS\", \"LW_IN\"], \"range\": [\"#1B9E77\", \"#D95F02\", \"#7570B3\", \"#E7298A\", \"#66A61E\", \"#E6AB02\", \"#A6761D\", \"#666666\"]}, \"type\": \"nominal\"}, \"x\": {\"field\": \"time\", \"type\": \"temporal\"}, \"y\": {\"field\": \"mean\", \"scale\": {\"zero\": false}, \"title\": \"TA\", \"type\": \"quantitative\"}}}], \"height\": 150, \"title\": \"\", \"width\": 200}]}], \"title\": \"\"}, {\"vconcat\": [{\"hconcat\": [{\"layer\": [{\"data\": {\"name\": \"data-5134e208e1c83a8649b2a90486788206\"}, \"mark\": {\"type\": \"point\", \"color\": \"black\", \"fillOpacity\": 1, \"strokeWidth\": 1}, \"encoding\": {\"fill\": {\"field\": \"is_present\", \"legend\": {\"title\": [\"Observed data\"]}, \"scale\": {\"range\": [\"black\", \"#ffffff00\"]}, \"type\": \"nominal\"}, \"shape\": {\"field\": \"is_present\", \"type\": \"nominal\"}, \"x\": {\"axis\": {\"domain\": true, \"labels\": true, \"ticks\": true, \"title\": \"time\"}, \"field\": \"time\", \"type\": \"temporal\"}, \"y\": {\"field\": \"value\", \"scale\": {\"zero\": false}, \"title\": \"TA\", \"type\": \"quantitative\"}}}, {\"layer\": [{\"mark\": \"rule\", \"encoding\": {\"x\": {\"axis\": {\"domain\": false, \"labels\": false, \"ticks\": false, \"title\": null}, \"field\": \"gap_start\", \"type\": \"temporal\"}}}, {\"mark\": \"rule\", \"encoding\": {\"x\": {\"axis\": {\"domain\": false, \"labels\": false, \"ticks\": false, \"title\": null}, \"field\": \"gap_end\", \"type\": \"temporal\"}}}, {\"mark\": {\"type\": \"rect\", \"color\": \"black\", \"opacity\": 0.15}, \"encoding\": {\"x\": {\"axis\": {\"domain\": false, \"labels\": false, \"ticks\": false, \"title\": null}, \"field\": \"gap_start\", \"type\": \"temporal\"}, \"x2\": {\"field\": \"gap_end\"}}}], \"data\": {\"name\": \"data-441811c629626b1e1a0c29c9a303bb9f\"}}, {\"data\": {\"name\": \"data-5134e208e1c83a8649b2a90486788206\"}, \"mark\": \"errorband\", \"encoding\": {\"color\": {\"field\": \"variable\", \"legend\": {\"title\": [\"Line: pred. mean\", \"area: +/- 2 std\"]}, \"scale\": {\"domain\": [\"TA\", \"SW_IN\", \"VPD\", \"PA\", \"P\", \"WS\", \"LW_IN\"], \"range\": [\"#1B9E77\", \"#D95F02\", \"#7570B3\", \"#E7298A\", \"#66A61E\", \"#E6AB02\", \"#A6761D\", \"#666666\"]}, \"type\": \"nominal\"}, \"x\": {\"field\": \"time\", \"type\": \"temporal\"}, \"y\": {\"field\": \"err_low\", \"scale\": {\"zero\": false}, \"title\": \"TA\", \"type\": \"quantitative\"}, \"y2\": {\"field\": \"err_high\"}}, \"name\": \"view_146\"}, {\"data\": {\"name\": \"data-5134e208e1c83a8649b2a90486788206\"}, \"mark\": {\"type\": \"line\", \"color\": \"purple\", \"strokeDash\": [4, 6]}, \"encoding\": {\"x\": {\"field\": \"time\", \"type\": \"temporal\"}, \"y\": {\"field\": \"control\", \"scale\": {\"zero\": false}, \"title\": \"TA\", \"type\": \"quantitative\"}}}, {\"data\": {\"name\": \"data-5134e208e1c83a8649b2a90486788206\"}, \"mark\": \"line\", \"encoding\": {\"color\": {\"field\": \"variable\", \"scale\": {\"domain\": [\"TA\", \"SW_IN\", \"VPD\", \"PA\", \"P\", \"WS\", \"LW_IN\"], \"range\": [\"#1B9E77\", \"#D95F02\", \"#7570B3\", \"#E7298A\", \"#66A61E\", \"#E6AB02\", \"#A6761D\", \"#666666\"]}, \"type\": \"nominal\"}, \"x\": {\"field\": \"time\", \"type\": \"temporal\"}, \"y\": {\"field\": \"mean\", \"scale\": {\"zero\": false}, \"title\": \"TA\", \"type\": \"quantitative\"}}}], \"height\": 150, \"title\": \"\", \"width\": 200}]}], \"title\": \"\"}, {\"vconcat\": [{\"hconcat\": [{\"layer\": [{\"data\": {\"name\": \"data-366af10c20849d278008c55cc7b5dbd8\"}, \"mark\": {\"type\": \"point\", \"color\": \"black\", \"fillOpacity\": 1, \"strokeWidth\": 1}, \"encoding\": {\"fill\": {\"field\": \"is_present\", \"legend\": {\"title\": [\"Observed data\"]}, \"scale\": {\"range\": [\"black\", \"#ffffff00\"]}, \"type\": \"nominal\"}, \"shape\": {\"field\": \"is_present\", \"type\": \"nominal\"}, \"x\": {\"axis\": {\"domain\": true, \"labels\": true, \"ticks\": true, \"title\": \"time\"}, \"field\": \"time\", \"type\": \"temporal\"}, \"y\": {\"field\": \"value\", \"scale\": {\"zero\": false}, \"title\": \"TA\", \"type\": \"quantitative\"}}}, {\"layer\": [{\"mark\": \"rule\", \"encoding\": {\"x\": {\"axis\": {\"domain\": false, \"labels\": false, \"ticks\": false, \"title\": null}, \"field\": \"gap_start\", \"type\": \"temporal\"}}}, {\"mark\": \"rule\", \"encoding\": {\"x\": {\"axis\": {\"domain\": false, \"labels\": false, \"ticks\": false, \"title\": null}, \"field\": \"gap_end\", \"type\": \"temporal\"}}}, {\"mark\": {\"type\": \"rect\", \"color\": \"black\", \"opacity\": 0.15}, \"encoding\": {\"x\": {\"axis\": {\"domain\": false, \"labels\": false, \"ticks\": false, \"title\": null}, \"field\": \"gap_start\", \"type\": \"temporal\"}, \"x2\": {\"field\": \"gap_end\"}}}], \"data\": {\"name\": \"data-2e8b1ebc48f9e0e4a7944be4ac5f8f82\"}}, {\"data\": {\"name\": \"data-366af10c20849d278008c55cc7b5dbd8\"}, \"mark\": \"errorband\", \"encoding\": {\"color\": {\"field\": \"variable\", \"legend\": {\"title\": [\"Line: pred. mean\", \"area: +/- 2 std\"]}, \"scale\": {\"domain\": [\"TA\", \"SW_IN\", \"VPD\", \"PA\", \"P\", \"WS\", \"LW_IN\"], \"range\": [\"#1B9E77\", \"#D95F02\", \"#7570B3\", \"#E7298A\", \"#66A61E\", \"#E6AB02\", \"#A6761D\", \"#666666\"]}, \"type\": \"nominal\"}, \"x\": {\"field\": \"time\", \"type\": \"temporal\"}, \"y\": {\"field\": \"err_low\", \"scale\": {\"zero\": false}, \"title\": \"TA\", \"type\": \"quantitative\"}, \"y2\": {\"field\": \"err_high\"}}, \"name\": \"view_147\"}, {\"data\": {\"name\": \"data-366af10c20849d278008c55cc7b5dbd8\"}, \"mark\": {\"type\": \"line\", \"color\": \"purple\", \"strokeDash\": [4, 6]}, \"encoding\": {\"x\": {\"field\": \"time\", \"type\": \"temporal\"}, \"y\": {\"field\": \"control\", \"scale\": {\"zero\": false}, \"title\": \"TA\", \"type\": \"quantitative\"}}}, {\"data\": {\"name\": \"data-366af10c20849d278008c55cc7b5dbd8\"}, \"mark\": \"line\", \"encoding\": {\"color\": {\"field\": \"variable\", \"scale\": {\"domain\": [\"TA\", \"SW_IN\", \"VPD\", \"PA\", \"P\", \"WS\", \"LW_IN\"], \"range\": [\"#1B9E77\", \"#D95F02\", \"#7570B3\", \"#E7298A\", \"#66A61E\", \"#E6AB02\", \"#A6761D\", \"#666666\"]}, \"type\": \"nominal\"}, \"x\": {\"field\": \"time\", \"type\": \"temporal\"}, \"y\": {\"field\": \"mean\", \"scale\": {\"zero\": false}, \"title\": \"TA\", \"type\": \"quantitative\"}}}], \"height\": 150, \"title\": \"\", \"width\": 200}]}], \"title\": \"\"}, {\"vconcat\": [{\"hconcat\": [{\"layer\": [{\"data\": {\"name\": \"data-b3b53dea901ba806fc8a7893ac3cef30\"}, \"mark\": {\"type\": \"point\", \"color\": \"black\", \"fillOpacity\": 1, \"strokeWidth\": 1}, \"encoding\": {\"fill\": {\"field\": \"is_present\", \"legend\": {\"title\": [\"Observed data\"]}, \"scale\": {\"range\": [\"black\", \"#ffffff00\"]}, \"type\": \"nominal\"}, \"shape\": {\"field\": \"is_present\", \"type\": \"nominal\"}, \"x\": {\"axis\": {\"domain\": true, \"labels\": true, \"ticks\": true, \"title\": \"time\"}, \"field\": \"time\", \"type\": \"temporal\"}, \"y\": {\"field\": \"value\", \"scale\": {\"zero\": false}, \"title\": \"TA\", \"type\": \"quantitative\"}}}, {\"layer\": [{\"mark\": \"rule\", \"encoding\": {\"x\": {\"axis\": {\"domain\": false, \"labels\": false, \"ticks\": false, \"title\": null}, \"field\": \"gap_start\", \"type\": \"temporal\"}}}, {\"mark\": \"rule\", \"encoding\": {\"x\": {\"axis\": {\"domain\": false, \"labels\": false, \"ticks\": false, \"title\": null}, \"field\": \"gap_end\", \"type\": \"temporal\"}}}, {\"mark\": {\"type\": \"rect\", \"color\": \"black\", \"opacity\": 0.15}, \"encoding\": {\"x\": {\"axis\": {\"domain\": false, \"labels\": false, \"ticks\": false, \"title\": null}, \"field\": \"gap_start\", \"type\": \"temporal\"}, \"x2\": {\"field\": \"gap_end\"}}}], \"data\": {\"name\": \"data-ff987007985ea92905c12157449dec8a\"}}, {\"data\": {\"name\": \"data-b3b53dea901ba806fc8a7893ac3cef30\"}, \"mark\": \"errorband\", \"encoding\": {\"color\": {\"field\": \"variable\", \"legend\": {\"title\": [\"Line: pred. mean\", \"area: +/- 2 std\"]}, \"scale\": {\"domain\": [\"TA\", \"SW_IN\", \"VPD\", \"PA\", \"P\", \"WS\", \"LW_IN\"], \"range\": [\"#1B9E77\", \"#D95F02\", \"#7570B3\", \"#E7298A\", \"#66A61E\", \"#E6AB02\", \"#A6761D\", \"#666666\"]}, \"type\": \"nominal\"}, \"x\": {\"field\": \"time\", \"type\": \"temporal\"}, \"y\": {\"field\": \"err_low\", \"scale\": {\"zero\": false}, \"title\": \"TA\", \"type\": \"quantitative\"}, \"y2\": {\"field\": \"err_high\"}}, \"name\": \"view_148\"}, {\"data\": {\"name\": \"data-b3b53dea901ba806fc8a7893ac3cef30\"}, \"mark\": {\"type\": \"line\", \"color\": \"purple\", \"strokeDash\": [4, 6]}, \"encoding\": {\"x\": {\"field\": \"time\", \"type\": \"temporal\"}, \"y\": {\"field\": \"control\", \"scale\": {\"zero\": false}, \"title\": \"TA\", \"type\": \"quantitative\"}}}, {\"data\": {\"name\": \"data-b3b53dea901ba806fc8a7893ac3cef30\"}, \"mark\": \"line\", \"encoding\": {\"color\": {\"field\": \"variable\", \"scale\": {\"domain\": [\"TA\", \"SW_IN\", \"VPD\", \"PA\", \"P\", \"WS\", \"LW_IN\"], \"range\": [\"#1B9E77\", \"#D95F02\", \"#7570B3\", \"#E7298A\", \"#66A61E\", \"#E6AB02\", \"#A6761D\", \"#666666\"]}, \"type\": \"nominal\"}, \"x\": {\"field\": \"time\", \"type\": \"temporal\"}, \"y\": {\"field\": \"mean\", \"scale\": {\"zero\": false}, \"title\": \"TA\", \"type\": \"quantitative\"}}}], \"height\": 150, \"title\": \"\", \"width\": 200}]}], \"title\": \"\"}], \"params\": [{\"name\": \"param_307\", \"select\": {\"type\": \"interval\", \"encodings\": [\"x\"]}, \"bind\": \"scales\", \"views\": [\"view_145\"]}, {\"name\": \"param_309\", \"select\": {\"type\": \"interval\", \"encodings\": [\"x\"]}, \"bind\": \"scales\", \"views\": [\"view_146\"]}, {\"name\": \"param_311\", \"select\": {\"type\": \"interval\", \"encodings\": [\"x\"]}, \"bind\": \"scales\", \"views\": [\"view_147\"]}, {\"name\": \"param_313\", \"select\": {\"type\": \"interval\", \"encodings\": [\"x\"]}, \"bind\": \"scales\", \"views\": [\"view_148\"]}], \"$schema\": \"https://vega.github.io/schema/vega-lite/v5.2.0.json\", \"datasets\": {\"data-18495d1fbb3bf87e9e8ea087b89f60f6\": [{\"time\": \"2011-04-20T00:30:00\", \"variable\": \"TA\", \"value\": 11.22, \"control\": 8.143, \"is_present\": true, \"mean\": 11.047116855301624, \"std\": 0.36039391952809163, \"err_low\": 10.326329016245442, \"err_high\": 11.767904694357807}, {\"time\": \"2011-04-20T01:00:00\", \"variable\": \"TA\", \"value\": 11.47, \"control\": 7.751, \"is_present\": true, \"mean\": 11.125772300369142, \"std\": 0.3528718808361977, \"err_low\": 10.420028538696748, \"err_high\": 11.831516062041537}, {\"time\": \"2011-04-20T01:30:00\", \"variable\": \"TA\", \"value\": 11.07, \"control\": 7.359, \"is_present\": true, \"mean\": 10.837875446981354, \"std\": 0.3494148456309682, \"err_low\": 10.139045755719417, \"err_high\": 11.53670513824329}, {\"time\": \"2011-04-20T02:00:00\", \"variable\": \"TA\", \"value\": 11.31, \"control\": 7.151, \"is_present\": true, \"mean\": 10.952553464605485, \"std\": 0.3478681471024527, \"err_low\": 10.256817170400579, \"err_high\": 11.64828975881039}, {\"time\": \"2011-04-20T02:30:00\", \"variable\": \"TA\", \"value\": 11.11, \"control\": 6.943, \"is_present\": true, \"mean\": 10.818607386097536, \"std\": 0.34718089577627576, \"err_low\": 10.124245594544984, \"err_high\": 11.512969177650088}, {\"time\": \"2011-04-20T03:00:00\", \"variable\": \"TA\", \"value\": 11.05, \"control\": 6.735, \"is_present\": true, \"mean\": 10.69637165721754, \"std\": 0.3468735167653722, \"err_low\": 10.002624623686796, \"err_high\": 11.390118690748285}, {\"time\": \"2011-04-20T03:30:00\", \"variable\": \"TA\", \"value\": 10.87, \"control\": 6.527, \"is_present\": true, \"mean\": 10.562235854290043, \"std\": 0.34673511049178374, \"err_low\": 9.868765633306475, \"err_high\": 11.25570607527361}, {\"time\": \"2011-04-20T04:00:00\", \"variable\": \"TA\", \"value\": 10.35, \"control\": 6.319, \"is_present\": true, \"mean\": 10.134603031356221, \"std\": 0.3466725381060334, \"err_low\": 9.441257955144154, \"err_high\": 10.827948107568288}, {\"time\": \"2011-04-20T04:30:00\", \"variable\": \"TA\", \"value\": 9.79, \"control\": 6.111, \"is_present\": true, \"mean\": 9.859120769813062, \"std\": 0.34664424002348226, \"err_low\": 9.165832289766097, \"err_high\": 10.552409249860027}, {\"time\": \"2011-04-20T05:00:00\", \"variable\": \"TA\", \"value\": 10.18, \"control\": 6.24, \"is_present\": true, \"mean\": 10.182707142281554, \"std\": 0.3466314908963847, \"err_low\": 9.489444160488786, \"err_high\": 10.875970124074323}, {\"time\": \"2011-04-20T05:30:00\", \"variable\": \"TA\", \"value\": 10.97, \"control\": 6.369, \"is_present\": true, \"mean\": 10.981819828998203, \"std\": 0.34662579079806133, \"err_low\": 10.28856824740208, \"err_high\": 11.675071410594326}, {\"time\": \"2011-04-20T06:00:00\", \"variable\": \"TA\", \"value\": 11.12, \"control\": 6.499, \"is_present\": true, \"mean\": 10.988403574888405, \"std\": 0.3466232690583697, \"err_low\": 10.295157036771666, \"err_high\": 11.681650113005144}, {\"time\": \"2011-04-20T06:30:00\", \"variable\": \"TA\", \"value\": 10.73, \"control\": 6.628, \"is_present\": true, \"mean\": 10.737227591558632, \"std\": 0.3466221670360343, \"err_low\": 10.043983257486563, \"err_high\": 11.430471925630702}, {\"time\": \"2011-04-20T07:00:00\", \"variable\": \"TA\", \"value\": 11.67, \"control\": 6.757, \"is_present\": true, \"mean\": 11.534750552768584, \"std\": 0.34662169160053996, \"err_low\": 10.841507169567503, \"err_high\": 12.227993935969664}, {\"time\": \"2011-04-20T07:30:00\", \"variable\": \"TA\", \"value\": 12.38, \"control\": 6.886, \"is_present\": true, \"mean\": 12.306800145920636, \"std\": 0.3466214890592449, \"err_low\": 11.613557167802147, \"err_high\": 13.000043124039125}, {\"time\": \"2011-04-20T08:00:00\", \"variable\": \"TA\", \"value\": 13.0, \"control\": 8.365, \"is_present\": true, \"mean\": 12.80978775183167, \"std\": 0.3466214037982056, \"err_low\": 12.11654494423526, \"err_high\": 13.503030559428082}, {\"time\": \"2011-04-20T08:30:00\", \"variable\": \"TA\", \"value\": 14.37, \"control\": 9.845, \"is_present\": true, \"mean\": 13.749802096349544, \"std\": 0.3466213683602236, \"err_low\": 13.056559359629096, \"err_high\": 14.443044833069992}, {\"time\": \"2011-04-20T09:00:00\", \"variable\": \"TA\", \"value\": 15.18, \"control\": 11.324, \"is_present\": true, \"mean\": 14.60898365296343, \"std\": 0.3466213540266368, \"err_low\": 13.915740944910155, \"err_high\": 15.302226361016704}, {\"time\": \"2011-04-20T09:30:00\", \"variable\": \"TA\", \"value\": 15.82, \"control\": 12.803, \"is_present\": true, \"mean\": 14.962763007009688, \"std\": 0.3466213488388349, \"err_low\": 14.269520309332018, \"err_high\": 15.656005704687358}, {\"time\": \"2011-04-20T10:00:00\", \"variable\": \"TA\", \"value\": 15.24, \"control\": 14.283, \"is_present\": true, \"mean\": 14.744006098575504, \"std\": 0.3466213474145448, \"err_low\": 14.050763403746414, \"err_high\": 15.437248793404594}, {\"time\": \"2011-04-20T10:30:00\", \"variable\": \"TA\", \"value\": 15.85, \"control\": 15.762, \"is_present\": true, \"mean\": 15.273785933522973, \"std\": 0.34662134631281927, \"err_low\": 14.580543240897335, \"err_high\": 15.967028626148611}, {\"time\": \"2011-04-20T11:00:00\", \"variable\": \"TA\", \"value\": 16.57, \"control\": 16.283, \"is_present\": true, \"mean\": 15.977578047083142, \"std\": 0.3466213470261198, \"err_low\": 15.284335353030903, \"err_high\": 16.670820741135383}, {\"time\": \"2011-04-20T11:30:00\", \"variable\": \"TA\", \"value\": 17.1, \"control\": 16.804, \"is_present\": true, \"mean\": 16.72456956914701, \"std\": 0.34662192946619275, \"err_low\": 16.031325710214624, \"err_high\": 17.4178134280794}, {\"time\": \"2011-04-20T12:00:00\", \"variable\": \"TA\", \"value\": 17.13, \"control\": 17.325, \"is_present\": true, \"mean\": 16.97171047067757, \"std\": 0.346659955156127, \"err_low\": 16.278390560365317, \"err_high\": 17.665030380989826}, {\"time\": \"2011-04-20T12:30:00\", \"variable\": \"TA\", \"value\": 17.76, \"control\": 17.845, \"is_present\": true, \"mean\": 17.398242848461116, \"std\": 0.34722189647207113, \"err_low\": 16.703799055516974, \"err_high\": 18.09268664140526}, {\"time\": \"2011-04-20T13:00:00\", \"variable\": \"TA\", \"value\": 17.99, \"control\": 18.366, \"is_present\": false, \"mean\": 17.71662418686478, \"std\": 0.35109624722142957, \"err_low\": 17.014431692421923, \"err_high\": 18.41881668130764}, {\"time\": \"2011-04-20T13:30:00\", \"variable\": \"TA\", \"value\": 17.99, \"control\": 18.887, \"is_present\": false, \"mean\": 17.949750258097968, \"std\": 0.3545145230883957, \"err_low\": 17.240721211921176, \"err_high\": 18.65877930427476}, {\"time\": \"2011-04-20T14:00:00\", \"variable\": \"TA\", \"value\": 18.61, \"control\": 18.952, \"is_present\": false, \"mean\": 18.2210771361569, \"std\": 0.355984850323913, \"err_low\": 17.509107435509073, \"err_high\": 18.933046836804728}, {\"time\": \"2011-04-20T14:30:00\", \"variable\": \"TA\", \"value\": 19.13, \"control\": 19.017, \"is_present\": false, \"mean\": 18.69099373301828, \"std\": 0.35440241745239853, \"err_low\": 17.982188898113485, \"err_high\": 19.399798567923078}, {\"time\": \"2011-04-20T15:00:00\", \"variable\": \"TA\", \"value\": 18.93, \"control\": 19.082, \"is_present\": false, \"mean\": 18.745771657091574, \"std\": 0.35060155357154527, \"err_low\": 18.044568549948483, \"err_high\": 19.446974764234664}, {\"time\": \"2011-04-20T15:30:00\", \"variable\": \"TA\", \"value\": 18.69, \"control\": 19.146, \"is_present\": true, \"mean\": 18.206735480509476, \"std\": 0.34746145199926237, \"err_low\": 17.511812576510952, \"err_high\": 18.901658384508}, {\"time\": \"2011-04-20T16:00:00\", \"variable\": \"TA\", \"value\": 18.62, \"control\": 19.211, \"is_present\": true, \"mean\": 18.383049211004774, \"std\": 0.3471051557518057, \"err_low\": 17.688838899501164, \"err_high\": 19.077259522508385}, {\"time\": \"2011-04-20T16:30:00\", \"variable\": \"TA\", \"value\": 18.89, \"control\": 19.276, \"is_present\": true, \"mean\": 18.295347125842312, \"std\": 0.34684065091282373, \"err_low\": 17.601665824016663, \"err_high\": 18.98902842766796}, {\"time\": \"2011-04-20T17:00:00\", \"variable\": \"TA\", \"value\": 19.06, \"control\": 18.512, \"is_present\": true, \"mean\": 18.52964408401165, \"std\": 0.346719751368422, \"err_low\": 17.836204581274806, \"err_high\": 19.223083586748494}, {\"time\": \"2011-04-20T17:30:00\", \"variable\": \"TA\", \"value\": 18.88, \"control\": 17.748, \"is_present\": true, \"mean\": 18.452884201364746, \"std\": 0.3466670548466632, \"err_low\": 17.75955009167142, \"err_high\": 19.14621831105807}, {\"time\": \"2011-04-20T18:00:00\", \"variable\": \"TA\", \"value\": 18.72, \"control\": 16.984, \"is_present\": true, \"mean\": 18.20370667193489, \"std\": 0.34664319790827064, \"err_low\": 17.510420276118346, \"err_high\": 18.89699306775143}, {\"time\": \"2011-04-20T18:30:00\", \"variable\": \"TA\", \"value\": 18.33, \"control\": 16.22, \"is_present\": true, \"mean\": 17.732588332654654, \"std\": 0.34663196614090525, \"err_low\": 17.039324400372845, \"err_high\": 18.425852264936463}, {\"time\": \"2011-04-20T19:00:00\", \"variable\": \"TA\", \"value\": 17.8, \"control\": 15.457, \"is_present\": true, \"mean\": 17.28720414327863, \"std\": 0.34662652889430284, \"err_low\": 16.593951085490023, \"err_high\": 17.980457201067235}, {\"time\": \"2011-04-20T19:30:00\", \"variable\": \"TA\", \"value\": 17.06, \"control\": 14.693, \"is_present\": true, \"mean\": 16.7142373078028, \"std\": 0.3466238677566972, \"err_low\": 16.020989572289405, \"err_high\": 17.407485043316196}, {\"time\": \"2011-04-20T20:00:00\", \"variable\": \"TA\", \"value\": 16.7, \"control\": 13.992, \"is_present\": true, \"mean\": 16.64815276002026, \"std\": 0.346622582773516, \"err_low\": 15.954907594473228, \"err_high\": 17.341397925567293}, {\"time\": \"2011-04-20T20:30:00\", \"variable\": \"TA\", \"value\": 16.0, \"control\": 13.291, \"is_present\": true, \"mean\": 15.910124533357495, \"std\": 0.34662200543950566, \"err_low\": 15.216880522478483, \"err_high\": 16.603368544236506}, {\"time\": \"2011-04-20T21:00:00\", \"variable\": \"TA\", \"value\": 15.66, \"control\": 12.59, \"is_present\": true, \"mean\": 15.622387140340381, \"std\": 0.3466218325962981, \"err_low\": 14.929143475147784, \"err_high\": 16.315630805532976}, {\"time\": \"2011-04-20T21:30:00\", \"variable\": \"TA\", \"value\": 15.36, \"control\": 11.889, \"is_present\": true, \"mean\": 15.252650870196005, \"std\": 0.3466219790631824, \"err_low\": 14.55940691206964, \"err_high\": 15.94589482832237}, {\"time\": \"2011-04-20T22:00:00\", \"variable\": \"TA\", \"value\": 14.93, \"control\": 11.188, \"is_present\": true, \"mean\": 15.128209974911957, \"std\": 0.34662254290442124, \"err_low\": 14.434964889103115, \"err_high\": 15.8214550607208}, {\"time\": \"2011-04-20T22:30:00\", \"variable\": \"TA\", \"value\": 14.73, \"control\": 10.487, \"is_present\": true, \"mean\": 14.839535164103381, \"std\": 0.3466239255288014, \"err_low\": 14.146287313045779, \"err_high\": 15.532783015160984}, {\"time\": \"2011-04-20T23:00:00\", \"variable\": \"TA\", \"value\": 14.45, \"control\": 10.058, \"is_present\": true, \"mean\": 14.55154377562587, \"std\": 0.3466279568619066, \"err_low\": 13.858287861902056, \"err_high\": 15.244799689349684}, {\"time\": \"2011-04-20T23:30:00\", \"variable\": \"TA\", \"value\": 14.46, \"control\": 9.63, \"is_present\": true, \"mean\": 14.613115012105943, \"std\": 0.34664694771766336, \"err_low\": 13.919821116670617, \"err_high\": 15.30640890754127}, {\"time\": \"2011-04-21T00:00:00\", \"variable\": \"TA\", \"value\": 14.65, \"control\": 9.201, \"is_present\": true, \"mean\": 14.595641864284648, \"std\": 0.3467611670658608, \"err_low\": 13.902119530152927, \"err_high\": 15.289164198416369}, {\"time\": \"2011-04-21T00:30:00\", \"variable\": \"TA\", \"value\": 14.28, \"control\": 8.773, \"is_present\": true, \"mean\": 14.404499979756853, \"std\": 0.34819338251468446, \"err_low\": 13.708113214727485, \"err_high\": 15.100886744786221}, {\"time\": \"2011-04-21T01:00:00\", \"variable\": \"TA\", \"value\": 14.28, \"control\": 8.344, \"is_present\": true, \"mean\": 14.193132296816657, \"std\": 0.38549722500011324, \"err_low\": 13.42213784681643, \"err_high\": 14.964126746816884}], \"data-017ba420949426da62233e79289fd60d\": [{\"gap_start\": \"2011-04-20T13:00:00\", \"gap_end\": \"2011-04-20T15:00:00\"}], \"data-5134e208e1c83a8649b2a90486788206\": [{\"time\": \"2010-06-26T22:30:00\", \"variable\": \"TA\", \"value\": 15.89, \"control\": 15.295, \"is_present\": true, \"mean\": 15.885727035231909, \"std\": 0.36039391952809163, \"err_low\": 15.164939196175727, \"err_high\": 16.60651487428809}, {\"time\": \"2010-06-26T23:00:00\", \"variable\": \"TA\", \"value\": 15.67, \"control\": 14.904, \"is_present\": true, \"mean\": 15.711884811257601, \"std\": 0.3528718808361977, \"err_low\": 15.006141049585207, \"err_high\": 16.417628572929996}, {\"time\": \"2010-06-26T23:30:00\", \"variable\": \"TA\", \"value\": 15.3, \"control\": 14.513, \"is_present\": true, \"mean\": 15.395107245671056, \"std\": 0.3494148456309682, \"err_low\": 14.69627755440912, \"err_high\": 16.09393693693299}, {\"time\": \"2010-06-27T00:00:00\", \"variable\": \"TA\", \"value\": 15.19, \"control\": 14.122, \"is_present\": true, \"mean\": 15.362821811731301, \"std\": 0.3478681471024527, \"err_low\": 14.667085517526395, \"err_high\": 16.058558105936207}, {\"time\": \"2010-06-27T00:30:00\", \"variable\": \"TA\", \"value\": 15.07, \"control\": 13.732, \"is_present\": true, \"mean\": 15.312250024907943, \"std\": 0.34718089577627576, \"err_low\": 14.61788823335539, \"err_high\": 16.006611816460495}, {\"time\": \"2010-06-27T01:00:00\", \"variable\": \"TA\", \"value\": 15.12, \"control\": 13.341, \"is_present\": true, \"mean\": 15.395001066006383, \"std\": 0.3468735167653722, \"err_low\": 14.701254032475639, \"err_high\": 16.088748099537128}, {\"time\": \"2010-06-27T01:30:00\", \"variable\": \"TA\", \"value\": 15.11, \"control\": 12.95, \"is_present\": true, \"mean\": 15.363636160065768, \"std\": 0.34673511049178374, \"err_low\": 14.670165939082201, \"err_high\": 16.057106381049337}, {\"time\": \"2010-06-27T02:00:00\", \"variable\": \"TA\", \"value\": 15.0, \"control\": 12.616, \"is_present\": true, \"mean\": 15.23011190840072, \"std\": 0.3466725381060334, \"err_low\": 14.536766832188654, \"err_high\": 15.923456984612788}, {\"time\": \"2010-06-27T02:30:00\", \"variable\": \"TA\", \"value\": 14.87, \"control\": 12.283, \"is_present\": true, \"mean\": 15.15950378177003, \"std\": 0.34664424002348226, \"err_low\": 14.466215301723066, \"err_high\": 15.852792261816996}, {\"time\": \"2010-06-27T03:00:00\", \"variable\": \"TA\", \"value\": 14.89, \"control\": 11.949, \"is_present\": true, \"mean\": 15.071834622555112, \"std\": 0.3466314908963847, \"err_low\": 14.378571640762344, \"err_high\": 15.765097604347881}, {\"time\": \"2010-06-27T03:30:00\", \"variable\": \"TA\", \"value\": 14.12, \"control\": 11.615, \"is_present\": true, \"mean\": 14.323645319042253, \"std\": 0.34662579079806133, \"err_low\": 13.63039373744613, \"err_high\": 15.016896900638375}, {\"time\": \"2010-06-27T04:00:00\", \"variable\": \"TA\", \"value\": 13.92, \"control\": 11.281, \"is_present\": true, \"mean\": 14.176834374527592, \"std\": 0.3466232690583697, \"err_low\": 13.483587836410853, \"err_high\": 14.870080912644331}, {\"time\": \"2010-06-27T04:30:00\", \"variable\": \"TA\", \"value\": 13.87, \"control\": 10.948, \"is_present\": true, \"mean\": 14.215096937679888, \"std\": 0.3466221670360343, \"err_low\": 13.521852603607819, \"err_high\": 14.908341271751958}, {\"time\": \"2010-06-27T05:00:00\", \"variable\": \"TA\", \"value\": 13.94, \"control\": 11.504, \"is_present\": true, \"mean\": 14.236521930535579, \"std\": 0.34662169160053996, \"err_low\": 13.543278547334499, \"err_high\": 14.92976531373666}, {\"time\": \"2010-06-27T05:30:00\", \"variable\": \"TA\", \"value\": 13.92, \"control\": 12.06, \"is_present\": true, \"mean\": 14.085945380315465, \"std\": 0.3466214890592449, \"err_low\": 13.392702402196976, \"err_high\": 14.779188358433954}, {\"time\": \"2010-06-27T06:00:00\", \"variable\": \"TA\", \"value\": 13.86, \"control\": 12.617, \"is_present\": true, \"mean\": 14.128216814965452, \"std\": 0.3466214037982056, \"err_low\": 13.434974007369041, \"err_high\": 14.821459622561862}, {\"time\": \"2010-06-27T06:30:00\", \"variable\": \"TA\", \"value\": 14.04, \"control\": 13.173, \"is_present\": true, \"mean\": 14.334675059261404, \"std\": 0.3466213683602236, \"err_low\": 13.641432322540956, \"err_high\": 15.027917795981852}, {\"time\": \"2010-06-27T07:00:00\", \"variable\": \"TA\", \"value\": 14.7, \"control\": 13.73, \"is_present\": true, \"mean\": 14.97200371715289, \"std\": 0.3466213540266368, \"err_low\": 14.278761009099616, \"err_high\": 15.665246425206165}, {\"time\": \"2010-06-27T07:30:00\", \"variable\": \"TA\", \"value\": 15.04, \"control\": 14.286, \"is_present\": true, \"mean\": 15.239719730606382, \"std\": 0.3466213488388349, \"err_low\": 14.546477032928712, \"err_high\": 15.932962428284052}, {\"time\": \"2010-06-27T08:00:00\", \"variable\": \"TA\", \"value\": 15.69, \"control\": 15.22, \"is_present\": true, \"mean\": 15.757982944203826, \"std\": 0.3466213474145448, \"err_low\": 15.064740249374736, \"err_high\": 16.451225639032916}, {\"time\": \"2010-06-27T08:30:00\", \"variable\": \"TA\", \"value\": 16.29, \"control\": 16.153, \"is_present\": true, \"mean\": 16.31278875730851, \"std\": 0.34662134631281927, \"err_low\": 15.619546064682872, \"err_high\": 17.00603144993415}, {\"time\": \"2010-06-27T09:00:00\", \"variable\": \"TA\", \"value\": 16.67, \"control\": 17.087, \"is_present\": true, \"mean\": 16.739236127625894, \"std\": 0.3466213470261198, \"err_low\": 16.045993433573653, \"err_high\": 17.432478821678135}, {\"time\": \"2010-06-27T09:30:00\", \"variable\": \"TA\", \"value\": 17.4, \"control\": 18.021, \"is_present\": true, \"mean\": 17.396239272322838, \"std\": 0.34662192946619275, \"err_low\": 16.702995413390454, \"err_high\": 18.08948313125522}, {\"time\": \"2010-06-27T10:00:00\", \"variable\": \"TA\", \"value\": 18.16, \"control\": 18.954, \"is_present\": true, \"mean\": 18.20905796363381, \"std\": 0.346659955156127, \"err_low\": 17.515738053321556, \"err_high\": 18.902377873946065}, {\"time\": \"2010-06-27T10:30:00\", \"variable\": \"TA\", \"value\": 18.88, \"control\": 19.888, \"is_present\": true, \"mean\": 18.82440049583285, \"std\": 0.34722189647207113, \"err_low\": 18.12995670288871, \"err_high\": 19.518844288776993}, {\"time\": \"2010-06-27T11:00:00\", \"variable\": \"TA\", \"value\": 19.47, \"control\": 20.318, \"is_present\": false, \"mean\": 19.769997434961198, \"std\": 0.35109624722142957, \"err_low\": 19.06780494051834, \"err_high\": 20.472189929404056}, {\"time\": \"2010-06-27T11:30:00\", \"variable\": \"TA\", \"value\": 19.95, \"control\": 20.748, \"is_present\": false, \"mean\": 20.444515119720975, \"std\": 0.3545145230883957, \"err_low\": 19.735486073544184, \"err_high\": 21.153544165897767}, {\"time\": \"2010-06-27T12:00:00\", \"variable\": \"TA\", \"value\": 20.36, \"control\": 21.178, \"is_present\": false, \"mean\": 20.841612854617857, \"std\": 0.355984850323913, \"err_low\": 20.12964315397003, \"err_high\": 21.553582555265685}, {\"time\": \"2010-06-27T12:30:00\", \"variable\": \"TA\", \"value\": 20.76, \"control\": 21.608, \"is_present\": false, \"mean\": 20.845545602762872, \"std\": 0.35440241745239853, \"err_low\": 20.136740767858075, \"err_high\": 21.55435043766767}, {\"time\": \"2010-06-27T13:00:00\", \"variable\": \"TA\", \"value\": 20.98, \"control\": 22.038, \"is_present\": false, \"mean\": 20.926370102913314, \"std\": 0.35060155357154527, \"err_low\": 20.225166995770223, \"err_high\": 21.627573210056404}, {\"time\": \"2010-06-27T13:30:00\", \"variable\": \"TA\", \"value\": 21.21, \"control\": 22.468, \"is_present\": true, \"mean\": 21.07213703086643, \"std\": 0.34746145199926237, \"err_low\": 20.377214126867905, \"err_high\": 21.767059934864953}, {\"time\": \"2010-06-27T14:00:00\", \"variable\": \"TA\", \"value\": 21.59, \"control\": 22.611, \"is_present\": true, \"mean\": 21.531040825170233, \"std\": 0.3471051557518057, \"err_low\": 20.836830513666623, \"err_high\": 22.225251136673844}, {\"time\": \"2010-06-27T14:30:00\", \"variable\": \"TA\", \"value\": 21.9, \"control\": 22.754, \"is_present\": true, \"mean\": 21.664688760935334, \"std\": 0.34684065091282373, \"err_low\": 20.971007459109686, \"err_high\": 22.358370062760983}, {\"time\": \"2010-06-27T15:00:00\", \"variable\": \"TA\", \"value\": 21.99, \"control\": 22.897, \"is_present\": true, \"mean\": 21.72349194725671, \"std\": 0.346719751368422, \"err_low\": 21.030052444519868, \"err_high\": 22.416931449993555}, {\"time\": \"2010-06-27T15:30:00\", \"variable\": \"TA\", \"value\": 22.09, \"control\": 23.039, \"is_present\": true, \"mean\": 21.806727247587414, \"std\": 0.3466670548466632, \"err_low\": 21.11339313789409, \"err_high\": 22.50006135728074}, {\"time\": \"2010-06-27T16:00:00\", \"variable\": \"TA\", \"value\": 22.27, \"control\": 23.182, \"is_present\": true, \"mean\": 21.867259053177037, \"std\": 0.34664319790827064, \"err_low\": 21.173972657360494, \"err_high\": 22.56054544899358}, {\"time\": \"2010-06-27T16:30:00\", \"variable\": \"TA\", \"value\": 22.31, \"control\": 23.325, \"is_present\": true, \"mean\": 22.00143561144643, \"std\": 0.34663196614090525, \"err_low\": 21.30817167916462, \"err_high\": 22.694699543728238}, {\"time\": \"2010-06-27T17:00:00\", \"variable\": \"TA\", \"value\": 22.3, \"control\": 22.987, \"is_present\": true, \"mean\": 21.872948030457053, \"std\": 0.34662652889430284, \"err_low\": 21.179694972668447, \"err_high\": 22.56620108824566}, {\"time\": \"2010-06-27T17:30:00\", \"variable\": \"TA\", \"value\": 22.23, \"control\": 22.649, \"is_present\": true, \"mean\": 21.838141194731183, \"std\": 0.3466238677566972, \"err_low\": 21.144893459217787, \"err_high\": 22.531388930244578}, {\"time\": \"2010-06-27T18:00:00\", \"variable\": \"TA\", \"value\": 21.97, \"control\": 22.311, \"is_present\": true, \"mean\": 21.54513109426545, \"std\": 0.346622582773516, \"err_low\": 20.851885928718417, \"err_high\": 22.238376259812483}, {\"time\": \"2010-06-27T18:30:00\", \"variable\": \"TA\", \"value\": 21.56, \"control\": 21.973, \"is_present\": true, \"mean\": 21.3147080506262, \"std\": 0.34662200543950566, \"err_low\": 20.621464039747192, \"err_high\": 22.00795206150521}, {\"time\": \"2010-06-27T19:00:00\", \"variable\": \"TA\", \"value\": 21.23, \"control\": 21.635, \"is_present\": true, \"mean\": 20.90172742193971, \"std\": 0.3466218325962981, \"err_low\": 20.208483756747114, \"err_high\": 21.594971087132308}, {\"time\": \"2010-06-27T19:30:00\", \"variable\": \"TA\", \"value\": 20.73, \"control\": 21.297, \"is_present\": true, \"mean\": 20.35431201776762, \"std\": 0.3466219790631824, \"err_low\": 19.661068059641252, \"err_high\": 21.047555975893985}, {\"time\": \"2010-06-27T20:00:00\", \"variable\": \"TA\", \"value\": 20.08, \"control\": 20.581, \"is_present\": true, \"mean\": 19.870967432065306, \"std\": 0.34662254290442124, \"err_low\": 19.177722346256463, \"err_high\": 20.56421251787415}, {\"time\": \"2010-06-27T20:30:00\", \"variable\": \"TA\", \"value\": 19.29, \"control\": 19.864, \"is_present\": true, \"mean\": 19.235966742040063, \"std\": 0.3466239255288014, \"err_low\": 18.54271889098246, \"err_high\": 19.929214593097665}, {\"time\": \"2010-06-27T21:00:00\", \"variable\": \"TA\", \"value\": 18.91, \"control\": 19.148, \"is_present\": true, \"mean\": 18.978078485227748, \"std\": 0.3466279568619066, \"err_low\": 18.284822571503934, \"err_high\": 19.67133439895156}, {\"time\": \"2010-06-27T21:30:00\", \"variable\": \"TA\", \"value\": 18.59, \"control\": 18.432, \"is_present\": true, \"mean\": 18.756385145034606, \"std\": 0.34664694771766336, \"err_low\": 18.063091249599278, \"err_high\": 19.449679040469935}, {\"time\": \"2010-06-27T22:00:00\", \"variable\": \"TA\", \"value\": 18.4, \"control\": 17.715, \"is_present\": true, \"mean\": 18.648209963654736, \"std\": 0.3467611670658608, \"err_low\": 17.954687629523015, \"err_high\": 19.341732297786457}, {\"time\": \"2010-06-27T22:30:00\", \"variable\": \"TA\", \"value\": 18.24, \"control\": 16.999, \"is_present\": true, \"mean\": 18.483761636070124, \"std\": 0.34819338251468446, \"err_low\": 17.787374871040754, \"err_high\": 19.180148401099494}, {\"time\": \"2010-06-27T23:00:00\", \"variable\": \"TA\", \"value\": 17.91, \"control\": 16.602, \"is_present\": true, \"mean\": 18.33220471024631, \"std\": 0.38549722500011324, \"err_low\": 17.56121026024608, \"err_high\": 19.103199160246536}], \"data-441811c629626b1e1a0c29c9a303bb9f\": [{\"gap_start\": \"2010-06-27T11:00:00\", \"gap_end\": \"2010-06-27T13:00:00\"}], \"data-366af10c20849d278008c55cc7b5dbd8\": [{\"time\": \"2012-07-07T19:30:00\", \"variable\": \"TA\", \"value\": 20.87, \"control\": 19.41, \"is_present\": true, \"mean\": 20.059227790439436, \"std\": 0.36039391952809163, \"err_low\": 19.338439951383254, \"err_high\": 20.78001562949562}, {\"time\": \"2012-07-07T20:00:00\", \"variable\": \"TA\", \"value\": 20.43, \"control\": 18.776, \"is_present\": true, \"mean\": 19.87775684535194, \"std\": 0.3528718808361977, \"err_low\": 19.172013083679545, \"err_high\": 20.583500607024334}, {\"time\": \"2012-07-07T20:30:00\", \"variable\": \"TA\", \"value\": 19.04, \"control\": 18.141, \"is_present\": true, \"mean\": 18.35649788165111, \"std\": 0.3494148456309682, \"err_low\": 17.657668190389174, \"err_high\": 19.055327572913043}, {\"time\": \"2012-07-07T21:00:00\", \"variable\": \"TA\", \"value\": 17.84, \"control\": 17.507, \"is_present\": true, \"mean\": 17.561274835076638, \"std\": 0.3478681471024527, \"err_low\": 16.865538540871732, \"err_high\": 18.257011129281544}, {\"time\": \"2012-07-07T21:30:00\", \"variable\": \"TA\", \"value\": 17.99, \"control\": 16.872, \"is_present\": true, \"mean\": 17.884293256978665, \"std\": 0.34718089577627576, \"err_low\": 17.189931465426113, \"err_high\": 18.578655048531218}, {\"time\": \"2012-07-07T22:00:00\", \"variable\": \"TA\", \"value\": 18.65, \"control\": 16.237, \"is_present\": true, \"mean\": 18.559631862829118, \"std\": 0.3468735167653722, \"err_low\": 17.865884829298373, \"err_high\": 19.253378896359862}, {\"time\": \"2012-07-07T22:30:00\", \"variable\": \"TA\", \"value\": 18.61, \"control\": 15.603, \"is_present\": true, \"mean\": 18.342891910230186, \"std\": 0.34673511049178374, \"err_low\": 17.64942168924662, \"err_high\": 19.036362131213753}, {\"time\": \"2012-07-07T23:00:00\", \"variable\": \"TA\", \"value\": 18.18, \"control\": 15.309, \"is_present\": true, \"mean\": 17.82464512615467, \"std\": 0.3466725381060334, \"err_low\": 17.131300049942602, \"err_high\": 18.51799020236674}, {\"time\": \"2012-07-07T23:30:00\", \"variable\": \"TA\", \"value\": 17.82, \"control\": 15.015, \"is_present\": true, \"mean\": 17.38039154963526, \"std\": 0.34664424002348226, \"err_low\": 16.687103069588296, \"err_high\": 18.073680029682222}, {\"time\": \"2012-07-08T00:00:00\", \"variable\": \"TA\", \"value\": 17.37, \"control\": 14.721, \"is_present\": true, \"mean\": 17.183411354707445, \"std\": 0.3466314908963847, \"err_low\": 16.490148372914675, \"err_high\": 17.876674336500216}, {\"time\": \"2012-07-08T00:30:00\", \"variable\": \"TA\", \"value\": 17.55, \"control\": 14.427, \"is_present\": true, \"mean\": 17.548930726757426, \"std\": 0.34662579079806133, \"err_low\": 16.855679145161304, \"err_high\": 18.24218230835355}, {\"time\": \"2012-07-08T01:00:00\", \"variable\": \"TA\", \"value\": 17.55, \"control\": 14.133, \"is_present\": true, \"mean\": 17.594959777070237, \"std\": 0.3466232690583697, \"err_low\": 16.901713238953498, \"err_high\": 18.288206315186976}, {\"time\": \"2012-07-08T01:30:00\", \"variable\": \"TA\", \"value\": 17.55, \"control\": 13.839, \"is_present\": true, \"mean\": 17.432889753177065, \"std\": 0.3466221670360343, \"err_low\": 16.739645419104995, \"err_high\": 18.126134087249135}, {\"time\": \"2012-07-08T02:00:00\", \"variable\": \"TA\", \"value\": 17.05, \"control\": 13.863, \"is_present\": true, \"mean\": 16.706225043782965, \"std\": 0.34662169160053996, \"err_low\": 16.012981660581886, \"err_high\": 17.399468426984043}, {\"time\": \"2012-07-08T02:30:00\", \"variable\": \"TA\", \"value\": 17.07, \"control\": 13.886, \"is_present\": true, \"mean\": 16.943700223905655, \"std\": 0.3466214890592449, \"err_low\": 16.250457245787164, \"err_high\": 17.636943202024145}, {\"time\": \"2012-07-08T03:00:00\", \"variable\": \"TA\", \"value\": 17.03, \"control\": 13.909, \"is_present\": true, \"mean\": 16.8336260793905, \"std\": 0.3466214037982056, \"err_low\": 16.140383271794086, \"err_high\": 17.52686888698691}, {\"time\": \"2012-07-08T03:30:00\", \"variable\": \"TA\", \"value\": 16.68, \"control\": 13.932, \"is_present\": true, \"mean\": 16.50604152864321, \"std\": 0.3466213683602236, \"err_low\": 15.812798791922761, \"err_high\": 17.199284265363655}, {\"time\": \"2012-07-08T04:00:00\", \"variable\": \"TA\", \"value\": 16.31, \"control\": 13.955, \"is_present\": true, \"mean\": 16.199116647444324, \"std\": 0.3466213540266368, \"err_low\": 15.50587393939105, \"err_high\": 16.892359355497597}, {\"time\": \"2012-07-08T04:30:00\", \"variable\": \"TA\", \"value\": 15.89, \"control\": 13.979, \"is_present\": true, \"mean\": 15.95257755235393, \"std\": 0.3466213488388349, \"err_low\": 15.25933485467626, \"err_high\": 16.645820250031598}, {\"time\": \"2012-07-08T05:00:00\", \"variable\": \"TA\", \"value\": 15.44, \"control\": 14.503, \"is_present\": true, \"mean\": 15.613647275138927, \"std\": 0.3466213474145448, \"err_low\": 14.920404580309837, \"err_high\": 16.306889969968015}, {\"time\": \"2012-07-08T05:30:00\", \"variable\": \"TA\", \"value\": 15.62, \"control\": 15.027, \"is_present\": true, \"mean\": 15.450150428606621, \"std\": 0.34662134631281927, \"err_low\": 14.756907735980983, \"err_high\": 16.14339312123226}, {\"time\": \"2012-07-08T06:00:00\", \"variable\": \"TA\", \"value\": 16.62, \"control\": 15.552, \"is_present\": true, \"mean\": 16.339070008967738, \"std\": 0.3466213470261198, \"err_low\": 15.645827314915499, \"err_high\": 17.03231270301998}, {\"time\": \"2012-07-08T06:30:00\", \"variable\": \"TA\", \"value\": 16.49, \"control\": 16.076, \"is_present\": true, \"mean\": 16.04850312544523, \"std\": 0.34662192946619275, \"err_low\": 15.355259266512844, \"err_high\": 16.741746984377613}, {\"time\": \"2012-07-08T07:00:00\", \"variable\": \"TA\", \"value\": 17.04, \"control\": 16.6, \"is_present\": true, \"mean\": 16.594888492535198, \"std\": 0.346659955156127, \"err_low\": 15.901568582222943, \"err_high\": 17.288208402847452}, {\"time\": \"2012-07-08T07:30:00\", \"variable\": \"TA\", \"value\": 16.69, \"control\": 17.125, \"is_present\": true, \"mean\": 16.196502634041725, \"std\": 0.34722189647207113, \"err_low\": 15.502058841097583, \"err_high\": 16.890946426985867}, {\"time\": \"2012-07-08T08:00:00\", \"variable\": \"TA\", \"value\": 16.46, \"control\": 18.01, \"is_present\": false, \"mean\": 16.01777264296248, \"std\": 0.35109624722142957, \"err_low\": 15.315580148519622, \"err_high\": 16.71996513740534}, {\"time\": \"2012-07-08T08:30:00\", \"variable\": \"TA\", \"value\": 16.24, \"control\": 18.895, \"is_present\": false, \"mean\": 15.979594250425682, \"std\": 0.3545145230883957, \"err_low\": 15.270565204248891, \"err_high\": 16.688623296602472}, {\"time\": \"2012-07-08T09:00:00\", \"variable\": \"TA\", \"value\": 16.86, \"control\": 19.78, \"is_present\": false, \"mean\": 16.8213379282685, \"std\": 0.355984850323913, \"err_low\": 16.10936822762067, \"err_high\": 17.533307628916326}, {\"time\": \"2012-07-08T09:30:00\", \"variable\": \"TA\", \"value\": 17.33, \"control\": 20.665, \"is_present\": false, \"mean\": 16.72345467926784, \"std\": 0.35440241745239853, \"err_low\": 16.014649844363042, \"err_high\": 17.432259514172635}, {\"time\": \"2012-07-08T10:00:00\", \"variable\": \"TA\", \"value\": 17.57, \"control\": 21.55, \"is_present\": false, \"mean\": 16.81031648771211, \"std\": 0.35060155357154527, \"err_low\": 16.10911338056902, \"err_high\": 17.5115195948552}, {\"time\": \"2012-07-08T10:30:00\", \"variable\": \"TA\", \"value\": 17.54, \"control\": 22.435, \"is_present\": true, \"mean\": 17.028132621454695, \"std\": 0.34746145199926237, \"err_low\": 16.33320971745617, \"err_high\": 17.72305552545322}, {\"time\": \"2012-07-08T11:00:00\", \"variable\": \"TA\", \"value\": 16.81, \"control\": 22.59, \"is_present\": true, \"mean\": 16.810097321221335, \"std\": 0.3471051557518057, \"err_low\": 16.115887009717724, \"err_high\": 17.504307632724945}, {\"time\": \"2012-07-08T11:30:00\", \"variable\": \"TA\", \"value\": 16.08, \"control\": 22.746, \"is_present\": true, \"mean\": 16.055960443713452, \"std\": 0.34684065091282373, \"err_low\": 15.362279141887806, \"err_high\": 16.7496417455391}, {\"time\": \"2012-07-08T12:00:00\", \"variable\": \"TA\", \"value\": 15.66, \"control\": 22.901, \"is_present\": true, \"mean\": 15.707518224342968, \"std\": 0.346719751368422, \"err_low\": 15.014078721606124, \"err_high\": 16.400957727079813}, {\"time\": \"2012-07-08T12:30:00\", \"variable\": \"TA\", \"value\": 15.92, \"control\": 23.057, \"is_present\": true, \"mean\": 16.019179416314095, \"std\": 0.3466670548466632, \"err_low\": 15.325845306620769, \"err_high\": 16.71251352600742}, {\"time\": \"2012-07-08T13:00:00\", \"variable\": \"TA\", \"value\": 17.24, \"control\": 23.212, \"is_present\": true, \"mean\": 17.228289969986236, \"std\": 0.34664319790827064, \"err_low\": 16.535003574169693, \"err_high\": 17.92157636580278}, {\"time\": \"2012-07-08T13:30:00\", \"variable\": \"TA\", \"value\": 18.49, \"control\": 23.368, \"is_present\": true, \"mean\": 18.424442889306448, \"std\": 0.34663196614090525, \"err_low\": 17.73117895702464, \"err_high\": 19.117706821588257}, {\"time\": \"2012-07-08T14:00:00\", \"variable\": \"TA\", \"value\": 19.18, \"control\": 22.604, \"is_present\": true, \"mean\": 19.150436897216213, \"std\": 0.34662652889430284, \"err_low\": 18.457183839427607, \"err_high\": 19.84368995500482}, {\"time\": \"2012-07-08T14:30:00\", \"variable\": \"TA\", \"value\": 19.55, \"control\": 21.839, \"is_present\": true, \"mean\": 19.612657681031504, \"std\": 0.3466238677566972, \"err_low\": 18.919409945518108, \"err_high\": 20.3059054165449}, {\"time\": \"2012-07-08T15:00:00\", \"variable\": \"TA\", \"value\": 19.65, \"control\": 21.075, \"is_present\": true, \"mean\": 19.538940098004666, \"std\": 0.346622582773516, \"err_low\": 18.845694932457633, \"err_high\": 20.2321852635517}, {\"time\": \"2012-07-08T15:30:00\", \"variable\": \"TA\", \"value\": 19.89, \"control\": 20.311, \"is_present\": true, \"mean\": 19.606288685668922, \"std\": 0.34662200543950566, \"err_low\": 18.913044674789912, \"err_high\": 20.29953269654793}, {\"time\": \"2012-07-08T16:00:00\", \"variable\": \"TA\", \"value\": 20.42, \"control\": 19.546, \"is_present\": true, \"mean\": 19.962040074728407, \"std\": 0.3466218325962981, \"err_low\": 19.26879640953581, \"err_high\": 20.655283739921003}, {\"time\": \"2012-07-08T16:30:00\", \"variable\": \"TA\", \"value\": 20.01, \"control\": 18.782, \"is_present\": true, \"mean\": 19.66220257551283, \"std\": 0.3466219790631824, \"err_low\": 18.968958617386463, \"err_high\": 20.355446533639196}, {\"time\": \"2012-07-08T17:00:00\", \"variable\": \"TA\", \"value\": 19.95, \"control\": 18.848, \"is_present\": true, \"mean\": 19.55922538716095, \"std\": 0.34662254290442124, \"err_low\": 18.865980301352106, \"err_high\": 20.252470472969794}, {\"time\": \"2012-07-08T17:30:00\", \"variable\": \"TA\", \"value\": 19.56, \"control\": 18.914, \"is_present\": true, \"mean\": 18.932405891002638, \"std\": 0.3466239255288014, \"err_low\": 18.239158039945035, \"err_high\": 19.62565374206024}, {\"time\": \"2012-07-08T18:00:00\", \"variable\": \"TA\", \"value\": 19.29, \"control\": 18.981, \"is_present\": true, \"mean\": 18.755788011702418, \"std\": 0.3466279568619066, \"err_low\": 18.062532097978604, \"err_high\": 19.44904392542623}, {\"time\": \"2012-07-08T18:30:00\", \"variable\": \"TA\", \"value\": 19.55, \"control\": 19.047, \"is_present\": true, \"mean\": 19.052790993125008, \"std\": 0.34664694771766336, \"err_low\": 18.35949709768968, \"err_high\": 19.746084888560336}, {\"time\": \"2012-07-08T19:00:00\", \"variable\": \"TA\", \"value\": 19.59, \"control\": 19.113, \"is_present\": true, \"mean\": 18.842400684262927, \"std\": 0.3467611670658608, \"err_low\": 18.148878350131206, \"err_high\": 19.535923018394648}, {\"time\": \"2012-07-08T19:30:00\", \"variable\": \"TA\", \"value\": 19.19, \"control\": 19.179, \"is_present\": true, \"mean\": 18.834250299582703, \"std\": 0.34819338251468446, \"err_low\": 18.137863534553333, \"err_high\": 19.530637064612073}, {\"time\": \"2012-07-08T20:00:00\", \"variable\": \"TA\", \"value\": 18.9, \"control\": 18.778, \"is_present\": true, \"mean\": 18.6817815874787, \"std\": 0.38549722500011324, \"err_low\": 17.910787137478472, \"err_high\": 19.452776037478927}], \"data-2e8b1ebc48f9e0e4a7944be4ac5f8f82\": [{\"gap_start\": \"2012-07-08T08:00:00\", \"gap_end\": \"2012-07-08T10:00:00\"}], \"data-b3b53dea901ba806fc8a7893ac3cef30\": [{\"time\": \"2011-06-14T20:30:00\", \"variable\": \"TA\", \"value\": 17.8, \"control\": 15.575, \"is_present\": true, \"mean\": 17.79089371961889, \"std\": 0.36039391952809163, \"err_low\": 17.070105880562707, \"err_high\": 18.511681558675072}, {\"time\": \"2011-06-14T21:00:00\", \"variable\": \"TA\", \"value\": 16.96, \"control\": 15.057, \"is_present\": true, \"mean\": 16.99302572090405, \"std\": 0.3528718808361977, \"err_low\": 16.287281959231656, \"err_high\": 17.698769482576445}, {\"time\": \"2011-06-14T21:30:00\", \"variable\": \"TA\", \"value\": 16.6, \"control\": 14.539, \"is_present\": true, \"mean\": 16.63805194738399, \"std\": 0.3494148456309682, \"err_low\": 15.939222256122052, \"err_high\": 17.336881638645924}, {\"time\": \"2011-06-14T22:00:00\", \"variable\": \"TA\", \"value\": 16.67, \"control\": 14.021, \"is_present\": true, \"mean\": 16.61805129141841, \"std\": 0.3478681471024527, \"err_low\": 15.922314997213505, \"err_high\": 17.313787585623317}, {\"time\": \"2011-06-14T22:30:00\", \"variable\": \"TA\", \"value\": 16.76, \"control\": 13.503, \"is_present\": true, \"mean\": 16.57716066320024, \"std\": 0.34718089577627576, \"err_low\": 15.882798871647687, \"err_high\": 17.27152245475279}, {\"time\": \"2011-06-14T23:00:00\", \"variable\": \"TA\", \"value\": 16.85, \"control\": 13.172, \"is_present\": true, \"mean\": 16.756981013854194, \"std\": 0.3468735167653722, \"err_low\": 16.06323398032345, \"err_high\": 17.45072804738494}, {\"time\": \"2011-06-14T23:30:00\", \"variable\": \"TA\", \"value\": 16.74, \"control\": 12.842, \"is_present\": true, \"mean\": 16.59115620309915, \"std\": 0.34673511049178374, \"err_low\": 15.897685982115583, \"err_high\": 17.284626424082717}, {\"time\": \"2011-06-15T00:00:00\", \"variable\": \"TA\", \"value\": 16.66, \"control\": 12.511, \"is_present\": true, \"mean\": 16.372858576245918, \"std\": 0.3466725381060334, \"err_low\": 15.67951350003385, \"err_high\": 17.066203652457986}, {\"time\": \"2011-06-15T00:30:00\", \"variable\": \"TA\", \"value\": 16.58, \"control\": 12.181, \"is_present\": true, \"mean\": 16.278480850250663, \"std\": 0.34664424002348226, \"err_low\": 15.585192370203698, \"err_high\": 16.971769330297626}, {\"time\": \"2011-06-15T01:00:00\", \"variable\": \"TA\", \"value\": 16.18, \"control\": 11.85, \"is_present\": true, \"mean\": 16.140488441091275, \"std\": 0.3466314908963847, \"err_low\": 15.447225459298506, \"err_high\": 16.833751422884045}, {\"time\": \"2011-06-15T01:30:00\", \"variable\": \"TA\", \"value\": 15.61, \"control\": 11.519, \"is_present\": true, \"mean\": 15.519605216809392, \"std\": 0.34662579079806133, \"err_low\": 14.82635363521327, \"err_high\": 16.212856798405515}, {\"time\": \"2011-06-15T02:00:00\", \"variable\": \"TA\", \"value\": 15.56, \"control\": 11.678, \"is_present\": true, \"mean\": 15.697297583407261, \"std\": 0.3466232690583697, \"err_low\": 15.004051045290522, \"err_high\": 16.390544121524}, {\"time\": \"2011-06-15T02:30:00\", \"variable\": \"TA\", \"value\": 15.21, \"control\": 11.836, \"is_present\": true, \"mean\": 15.261171907574543, \"std\": 0.3466221670360343, \"err_low\": 14.567927573502473, \"err_high\": 15.954416241646612}, {\"time\": \"2011-06-15T03:00:00\", \"variable\": \"TA\", \"value\": 14.68, \"control\": 11.995, \"is_present\": true, \"mean\": 14.96929572718249, \"std\": 0.34662169160053996, \"err_low\": 14.276052343981409, \"err_high\": 15.66253911038357}, {\"time\": \"2011-06-15T03:30:00\", \"variable\": \"TA\", \"value\": 14.65, \"control\": 12.153, \"is_present\": true, \"mean\": 15.114831300011268, \"std\": 0.3466214890592449, \"err_low\": 14.421588321892779, \"err_high\": 15.808074278129757}, {\"time\": \"2011-06-15T04:00:00\", \"variable\": \"TA\", \"value\": 15.12, \"control\": 12.311, \"is_present\": true, \"mean\": 15.178740780052218, \"std\": 0.3466214037982056, \"err_low\": 14.485497972455807, \"err_high\": 15.871983587648629}, {\"time\": \"2011-06-15T04:30:00\", \"variable\": \"TA\", \"value\": 15.35, \"control\": 12.47, \"is_present\": true, \"mean\": 15.252810006704353, \"std\": 0.3466213683602236, \"err_low\": 14.559567269983905, \"err_high\": 15.9460527434248}, {\"time\": \"2011-06-15T05:00:00\", \"variable\": \"TA\", \"value\": 14.91, \"control\": 12.837, \"is_present\": true, \"mean\": 15.158208846697116, \"std\": 0.3466213540266368, \"err_low\": 14.464966138643842, \"err_high\": 15.85145155475039}, {\"time\": \"2011-06-15T05:30:00\", \"variable\": \"TA\", \"value\": 14.98, \"control\": 13.204, \"is_present\": true, \"mean\": 15.474453897438643, \"std\": 0.3466213488388349, \"err_low\": 14.781211199760973, \"err_high\": 16.16769659511631}, {\"time\": \"2011-06-15T06:00:00\", \"variable\": \"TA\", \"value\": 15.32, \"control\": 13.57, \"is_present\": true, \"mean\": 15.549499611917739, \"std\": 0.3466213474145448, \"err_low\": 14.856256917088649, \"err_high\": 16.242742306746827}, {\"time\": \"2011-06-15T06:30:00\", \"variable\": \"TA\", \"value\": 15.91, \"control\": 13.937, \"is_present\": true, \"mean\": 16.061103744997574, \"std\": 0.34662134631281927, \"err_low\": 15.367861052371936, \"err_high\": 16.754346437623212}, {\"time\": \"2011-06-15T07:00:00\", \"variable\": \"TA\", \"value\": 16.62, \"control\": 14.304, \"is_present\": true, \"mean\": 16.533315734085637, \"std\": 0.3466213470261198, \"err_low\": 15.840073040033397, \"err_high\": 17.226558428137878}, {\"time\": \"2011-06-15T07:30:00\", \"variable\": \"TA\", \"value\": 16.59, \"control\": 14.671, \"is_present\": true, \"mean\": 16.627376365917904, \"std\": 0.34662192946619275, \"err_low\": 15.934132506985518, \"err_high\": 17.320620224850288}, {\"time\": \"2011-06-15T08:00:00\", \"variable\": \"TA\", \"value\": 16.87, \"control\": 15.251, \"is_present\": true, \"mean\": 16.7673184676136, \"std\": 0.346659955156127, \"err_low\": 16.073998557301344, \"err_high\": 17.460638377925854}, {\"time\": \"2011-06-15T08:30:00\", \"variable\": \"TA\", \"value\": 17.38, \"control\": 15.83, \"is_present\": true, \"mean\": 17.333675259840053, \"std\": 0.34722189647207113, \"err_low\": 16.63923146689591, \"err_high\": 18.028119052784195}, {\"time\": \"2011-06-15T09:00:00\", \"variable\": \"TA\", \"value\": 17.5, \"control\": 16.41, \"is_present\": false, \"mean\": 18.12786671864457, \"std\": 0.35109624722142957, \"err_low\": 17.42567422420171, \"err_high\": 18.830059213087427}, {\"time\": \"2011-06-15T09:30:00\", \"variable\": \"TA\", \"value\": 17.77, \"control\": 16.989, \"is_present\": false, \"mean\": 17.96644121663394, \"std\": 0.3545145230883957, \"err_low\": 17.257412170457147, \"err_high\": 18.67547026281073}, {\"time\": \"2011-06-15T10:00:00\", \"variable\": \"TA\", \"value\": 18.32, \"control\": 17.568, \"is_present\": false, \"mean\": 18.143806762031275, \"std\": 0.355984850323913, \"err_low\": 17.431837061383447, \"err_high\": 18.855776462679103}, {\"time\": \"2011-06-15T10:30:00\", \"variable\": \"TA\", \"value\": 18.5, \"control\": 18.148, \"is_present\": false, \"mean\": 18.88578116572753, \"std\": 0.35440241745239853, \"err_low\": 18.176976330822733, \"err_high\": 19.594586000632326}, {\"time\": \"2011-06-15T11:00:00\", \"variable\": \"TA\", \"value\": 19.6, \"control\": 18.543, \"is_present\": false, \"mean\": 19.2001172892515, \"std\": 0.35060155357154527, \"err_low\": 18.49891418210841, \"err_high\": 19.901320396394592}, {\"time\": \"2011-06-15T11:30:00\", \"variable\": \"TA\", \"value\": 20.1, \"control\": 18.939, \"is_present\": true, \"mean\": 19.874182397141155, \"std\": 0.34746145199926237, \"err_low\": 19.17925949314263, \"err_high\": 20.56910530113968}, {\"time\": \"2011-06-15T12:00:00\", \"variable\": \"TA\", \"value\": 20.28, \"control\": 19.334, \"is_present\": true, \"mean\": 20.055856617398174, \"std\": 0.3471051557518057, \"err_low\": 19.361646305894563, \"err_high\": 20.750066928901784}, {\"time\": \"2011-06-15T12:30:00\", \"variable\": \"TA\", \"value\": 20.6, \"control\": 19.73, \"is_present\": true, \"mean\": 20.174584935785603, \"std\": 0.34684065091282373, \"err_low\": 19.480903633959954, \"err_high\": 20.86826623761125}, {\"time\": \"2011-06-15T13:00:00\", \"variable\": \"TA\", \"value\": 20.5, \"control\": 20.125, \"is_present\": true, \"mean\": 19.901362413342632, \"std\": 0.346719751368422, \"err_low\": 19.207922910605788, \"err_high\": 20.594801916079476}, {\"time\": \"2011-06-15T13:30:00\", \"variable\": \"TA\", \"value\": 20.74, \"control\": 20.521, \"is_present\": true, \"mean\": 19.94372819569387, \"std\": 0.3466670548466632, \"err_low\": 19.250394086000544, \"err_high\": 20.637062305387193}, {\"time\": \"2011-06-15T14:00:00\", \"variable\": \"TA\", \"value\": 21.3, \"control\": 20.578, \"is_present\": true, \"mean\": 20.500012874723353, \"std\": 0.34664319790827064, \"err_low\": 19.80672647890681, \"err_high\": 21.193299270539896}, {\"time\": \"2011-06-15T14:30:00\", \"variable\": \"TA\", \"value\": 21.76, \"control\": 20.634, \"is_present\": true, \"mean\": 20.852491270670892, \"std\": 0.34663196614090525, \"err_low\": 20.159227338389083, \"err_high\": 21.5457552029527}, {\"time\": \"2011-06-15T15:00:00\", \"variable\": \"TA\", \"value\": 21.37, \"control\": 20.691, \"is_present\": true, \"mean\": 20.72266588174847, \"std\": 0.34662652889430284, \"err_low\": 20.029412823959863, \"err_high\": 21.415918939537075}, {\"time\": \"2011-06-15T15:30:00\", \"variable\": \"TA\", \"value\": 21.28, \"control\": 20.747, \"is_present\": true, \"mean\": 20.481884535847307, \"std\": 0.3466238677566972, \"err_low\": 19.78863680033391, \"err_high\": 21.175132271360702}, {\"time\": \"2011-06-15T16:00:00\", \"variable\": \"TA\", \"value\": 21.45, \"control\": 20.804, \"is_present\": true, \"mean\": 20.501908977862115, \"std\": 0.346622582773516, \"err_low\": 19.808663812315082, \"err_high\": 21.195154143409148}, {\"time\": \"2011-06-15T16:30:00\", \"variable\": \"TA\", \"value\": 21.67, \"control\": 20.861, \"is_present\": true, \"mean\": 21.123109464909675, \"std\": 0.34662200543950566, \"err_low\": 20.429865454030665, \"err_high\": 21.816353475788684}, {\"time\": \"2011-06-15T17:00:00\", \"variable\": \"TA\", \"value\": 21.77, \"control\": 20.534, \"is_present\": true, \"mean\": 21.124151434181364, \"std\": 0.3466218325962981, \"err_low\": 20.430907768988767, \"err_high\": 21.81739509937396}, {\"time\": \"2011-06-15T17:30:00\", \"variable\": \"TA\", \"value\": 21.56, \"control\": 20.207, \"is_present\": true, \"mean\": 21.096605618555095, \"std\": 0.3466219790631824, \"err_low\": 20.40336166042873, \"err_high\": 21.789849576681462}, {\"time\": \"2011-06-15T18:00:00\", \"variable\": \"TA\", \"value\": 21.37, \"control\": 19.881, \"is_present\": true, \"mean\": 20.829783079975453, \"std\": 0.34662254290442124, \"err_low\": 20.13653799416661, \"err_high\": 21.523028165784297}, {\"time\": \"2011-06-15T18:30:00\", \"variable\": \"TA\", \"value\": 21.21, \"control\": 19.554, \"is_present\": true, \"mean\": 20.644842487811502, \"std\": 0.3466239255288014, \"err_low\": 19.9515946367539, \"err_high\": 21.338090338869105}, {\"time\": \"2011-06-15T19:00:00\", \"variable\": \"TA\", \"value\": 20.66, \"control\": 19.228, \"is_present\": true, \"mean\": 20.10064415866239, \"std\": 0.3466279568619066, \"err_low\": 19.407388244938577, \"err_high\": 20.793900072386204}, {\"time\": \"2011-06-15T19:30:00\", \"variable\": \"TA\", \"value\": 20.26, \"control\": 18.901, \"is_present\": true, \"mean\": 19.693932938561517, \"std\": 0.34664694771766336, \"err_low\": 19.00063904312619, \"err_high\": 20.387226833996845}, {\"time\": \"2011-06-15T20:00:00\", \"variable\": \"TA\", \"value\": 19.92, \"control\": 18.345, \"is_present\": true, \"mean\": 19.42456089423415, \"std\": 0.3467611670658608, \"err_low\": 18.73103856010243, \"err_high\": 20.118083228365872}, {\"time\": \"2011-06-15T20:30:00\", \"variable\": \"TA\", \"value\": 19.44, \"control\": 17.789, \"is_present\": true, \"mean\": 19.258277590967793, \"std\": 0.34819338251468446, \"err_low\": 18.561890825938423, \"err_high\": 19.954664355997163}, {\"time\": \"2011-06-15T21:00:00\", \"variable\": \"TA\", \"value\": 18.69, \"control\": 17.233, \"is_present\": true, \"mean\": 18.61954826756061, \"std\": 0.38549722500011324, \"err_low\": 17.848553817560383, \"err_high\": 19.390542717560837}], \"data-ff987007985ea92905c12157449dec8a\": [{\"gap_start\": \"2011-06-15T09:00:00\", \"gap_end\": \"2011-06-15T11:00:00\"}]}}, {\"mode\": \"vega-lite\"});\n",
       "</script>"
      ],
      "text/plain": [
       "alt.HConcatChart(...)"
      ]
     },
     "metadata": {},
     "output_type": "display_data"
    }
   ],
   "source": [
    "with only_gap_ctx(learn_TA, False):\n",
    "    display(show_results(learn_TA, items=items_TA, hide_no_gap=True, control_map=control_map))"
   ]
  },
  {
   "cell_type": "code",
   "execution_count": null,
   "id": "dc7877a8-d9b5-4db7-9546-7bf229255dff",
   "metadata": {},
   "outputs": [],
   "source": [
    "CustomGap(learn_TA, df = haiB, control = hai_eraB)"
   ]
  },
  {
   "cell_type": "code",
   "execution_count": null,
   "id": "fbe64fbf-f7f9-4dd4-89ac-bbd63cda02ec",
   "metadata": {},
   "outputs": [],
   "source": []
  },
  {
   "cell_type": "code",
   "execution_count": null,
   "id": "48192c01-3f16-4cb3-8ed2-555cd6ca8031",
   "metadata": {},
   "outputs": [],
   "source": []
  },
  {
   "cell_type": "code",
   "execution_count": null,
   "id": "973a51cf-299c-4e8d-b129-6150f812460e",
   "metadata": {},
   "outputs": [],
   "source": [
    "model2 = torch.load(\"trained_2_feb_gap_all_var_v1.pickle\")"
   ]
  },
  {
   "cell_type": "code",
   "execution_count": null,
   "id": "bcb2d7e5-7435-47f8-b2fd-5094826cd71e",
   "metadata": {},
   "outputs": [],
   "source": [
    "model2.use_conditional"
   ]
  },
  {
   "cell_type": "code",
   "execution_count": null,
   "id": "ef73b191-7762-4762-ab51-3e10b55d2770",
   "metadata": {},
   "outputs": [],
   "source": [
    "# model2 = KalmanFilterSR.init_local_slope_pca(len(haiB.columns),len(haiB.columns), df_pca = None, pred_only_gap=True, use_conditional=False)\n",
    "# model2.load_state_dict(model0_state)\n",
    "learn2 = Learner(dlsB, model2, KalmanLoss(only_gap=True), cbs = [Float64Callback], metrics=rmse_gap)"
   ]
  },
  {
   "cell_type": "code",
   "execution_count": null,
   "id": "817ffa99-fece-461b-94ed-30897520c30c",
   "metadata": {},
   "outputs": [],
   "source": [
    "learn2.fit(4, 1e-4)"
   ]
  },
  {
   "cell_type": "code",
   "execution_count": null,
   "id": "e066b486-a9ca-4c27-af93-c30f69acd959",
   "metadata": {},
   "outputs": [],
   "source": [
    "learnB.recorder.plot_loss()"
   ]
  },
  {
   "cell_type": "code",
   "execution_count": null,
   "id": "07ba090f-0aaa-4f94-b76b-4a674d0383ee",
   "metadata": {},
   "outputs": [],
   "source": [
    "show_results(learnB)"
   ]
  },
  {
   "cell_type": "code",
   "execution_count": null,
   "id": "9d56261b-dc70-48d1-b51a-599ffa779e9d",
   "metadata": {},
   "outputs": [],
   "source": [
    "from meteo_imp.data import control_map"
   ]
  },
  {
   "cell_type": "code",
   "execution_count": null,
   "id": "bfed8968-9e10-4b3d-b31a-8b23d9eb1fad",
   "metadata": {},
   "outputs": [],
   "source": [
    "with only_gap_ctx(learnB, False):\n",
    "    display(show_results(learnB, items = items, control_map = control_map))"
   ]
  },
  {
   "cell_type": "code",
   "execution_count": null,
   "id": "3ad48f7f-9977-4edc-93b9-53e30f4e47b6",
   "metadata": {},
   "outputs": [],
   "source": []
  }
 ],
 "metadata": {
  "kernelspec": {
   "display_name": "data_science",
   "language": "python",
   "name": "data_science"
  },
  "widgets": {
   "application/vnd.jupyter.widget-state+json": {
    "state": {},
    "version_major": 2,
    "version_minor": 0
   }
  }
 },
 "nbformat": 4,
 "nbformat_minor": 5
}
