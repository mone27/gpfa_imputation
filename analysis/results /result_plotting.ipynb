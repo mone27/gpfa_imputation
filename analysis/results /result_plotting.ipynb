{
 "cells": [
  {
   "cell_type": "markdown",
   "id": "90ee8fe3-54fc-4680-8bd7-56fe4b63c33c",
   "metadata": {},
   "source": [
    "# Plotting for results"
   ]
  },
  {
   "cell_type": "markdown",
   "id": "2a395e6e-e5e3-4943-8a01-5dea21e62d4e",
   "metadata": {},
   "source": [
    "This notebook produces all results plots.\n",
    "It generates some gap in the data, fill with a method (filter, MDS ...), compute metrics and then makes all relevant plots"
   ]
  },
  {
   "cell_type": "code",
   "execution_count": null,
   "id": "8f5d0618-2625-43ff-84f2-59b3e946bd99",
   "metadata": {},
   "outputs": [],
   "source": [
    "%load_ext autoreload\n",
    "%autoreload 2"
   ]
  },
  {
   "cell_type": "code",
   "execution_count": null,
   "id": "6df1a2f4-7ab3-4d5c-9504-c047e9fa88e9",
   "metadata": {},
   "outputs": [],
   "source": [
    "from fastcore.test import *\n",
    "from fastcore.basics import *\n",
    "from meteo_imp.utils import *\n",
    "from meteo_imp.gaussian import *\n",
    "from meteo_imp.data_preparation import MeteoDataTest\n",
    "from meteo_imp.kalman.filter import *\n",
    "from meteo_imp.kalman.filter import get_test_data\n",
    "from meteo_imp.data import *\n",
    "from meteo_imp.kalman.fastai import *\n",
    "from fastcore.transform import *\n",
    "from fastai.learner import *\n",
    "\n",
    "import pykalman\n",
    "from typing import *\n",
    "\n",
    "import numpy as np\n",
    "import pandas as pd\n",
    "import torch\n",
    "from torch import Tensor\n",
    "from torch.distributions import MultivariateNormal\n",
    "\n",
    "from timeit import timeit\n",
    "import polars as pl\n",
    "import altair as alt\n",
    "\n",
    "from tqdm.auto import tqdm"
   ]
  },
  {
   "cell_type": "code",
   "execution_count": null,
   "id": "1daee753-a9dc-4aa7-b72b-cdb83ab44ee5",
   "metadata": {},
   "outputs": [],
   "source": [
    "reset_seed()"
   ]
  },
  {
   "cell_type": "code",
   "execution_count": null,
   "id": "17ea6bc9-8ada-48a1-89fb-fcf0f5a1206e",
   "metadata": {},
   "outputs": [],
   "source": [
    "hai = pd.read_parquet(hai_path64)\n",
    "hai_era = pd.read_parquet(hai_era_path64)"
   ]
  },
  {
   "cell_type": "code",
   "execution_count": null,
   "id": "24eff147-96a4-48b9-8483-d933f4083194",
   "metadata": {},
   "outputs": [],
   "source": [
    "pipe, block_ids = imp_pipeline(hai, hai_era, ['TA'], gap_len=10, block_len=100, control_lags = [1], n_rep=1)\n",
    "pipe = Pipeline(pipe[:-3])"
   ]
  },
  {
   "cell_type": "code",
   "execution_count": null,
   "id": "7dc38474-0504-4726-83dc-8a7e97005884",
   "metadata": {},
   "outputs": [],
   "source": [
    "item = pipe([401,10])"
   ]
  },
  {
   "cell_type": "markdown",
   "id": "3d360f6c-2c1b-4ba8-9377-35dc67697ac2",
   "metadata": {},
   "source": [
    "## Kalman Filter\n",
    "\n",
    "take a `MeteoImp Df` and gap fill it using the given model"
   ]
  },
  {
   "cell_type": "code",
   "execution_count": null,
   "id": "72a2c88d-c749-4ff5-b0e9-bc7e29540e07",
   "metadata": {},
   "outputs": [],
   "source": [
    "model = torch.load(\"trained_30_jan_v1.pickle\")"
   ]
  },
  {
   "cell_type": "code",
   "execution_count": null,
   "id": "992d6391-1d56-411c-b025-e08da4643d4f",
   "metadata": {},
   "outputs": [],
   "source": [
    "dls = imp_dataloader(hai, hai_era, var_sel = ['TA', 'SW_IN', 'VPD'], block_len=300, gap_len=10, bs=20, control_lags=[1], n_rep=3).cpu()"
   ]
  },
  {
   "cell_type": "code",
   "execution_count": null,
   "id": "b7f1968b-3815-4326-bcc6-b5a28b8c0bd2",
   "metadata": {},
   "outputs": [],
   "source": [
    "learn = Learner(dls, model, KalmanLoss(only_gap=True), cbs = [Float64Callback], metrics=imp_metrics)"
   ]
  },
  {
   "cell_type": "code",
   "execution_count": null,
   "id": "5256c6b8-08ef-4f5b-aaff-7c1e1abb3c69",
   "metadata": {},
   "outputs": [
    {
     "data": {
      "text/plain": [
       "torch.float64"
      ]
     },
     "execution_count": null,
     "metadata": {},
     "output_type": "execute_result"
    }
   ],
   "source": [
    "model.H.dtype"
   ]
  },
  {
   "cell_type": "code",
   "execution_count": null,
   "id": "1f1a1382-ae4b-4bbc-92a0-62317a47c50d",
   "metadata": {},
   "outputs": [
    {
     "data": {
      "text/plain": [
       "TA       float64\n",
       "SW_IN    float64\n",
       "VPD      float64\n",
       "dtype: object"
      ]
     },
     "execution_count": null,
     "metadata": {},
     "output_type": "execute_result"
    }
   ],
   "source": [
    "hai.dtypes"
   ]
  },
  {
   "cell_type": "code",
   "execution_count": null,
   "id": "1bddb493-a3f1-4bc3-ab52-68afef867332",
   "metadata": {},
   "outputs": [],
   "source": [
    "pred, targ, losses, metrics = get_results(learn, items = [item])\n",
    "pred[0].mean[targ[0].mask] = targ[0].data[targ[0].mask]"
   ]
  },
  {
   "cell_type": "code",
   "execution_count": null,
   "id": "11097589-78ac-4af4-94fc-dc9a8e790c68",
   "metadata": {},
   "outputs": [],
   "source": [
    "class KalmanImputation:\n",
    "    def __init__(self, learn): store_attr()\n",
    "    def __call__(self, item):\n",
    "        pred, targ, losses, metrics = get_results(self.learn, items = [item])\n",
    "        pred[0].mean[targ[0].mask] = targ[0].data[targ[0].mask]\n",
    "        return pred[0].mean"
   ]
  },
  {
   "cell_type": "code",
   "execution_count": null,
   "id": "3ccb5bee-6f03-4bc5-9904-67b5425a16e4",
   "metadata": {},
   "outputs": [],
   "source": [
    "k_imp = KalmanImputation(learn)"
   ]
  },
  {
   "cell_type": "code",
   "execution_count": null,
   "id": "b21bc56e-22a4-4543-b1d8-2888774febca",
   "metadata": {},
   "outputs": [
    {
     "data": {
      "text/html": [
       "<p style='font-size: 1.5rem; font-decoration: bold'><p><div style=\"display: flex; column-gap: 20px; flex-wrap: wrap;\" class='table table-striped table-sm'> <div> <p style='font-size: 1.3rem;'>pred</p> <style type=\"text/css\">\n",
       "</style>\n",
       "<table id=\"T_b3960\">\n",
       "  <thead>\n",
       "    <tr>\n",
       "      <th class=\"blank level0\" >&nbsp;</th>\n",
       "      <th id=\"T_b3960_level0_col0\" class=\"col_heading level0 col0\" >TA</th>\n",
       "      <th id=\"T_b3960_level0_col1\" class=\"col_heading level0 col1\" >SW_IN</th>\n",
       "      <th id=\"T_b3960_level0_col2\" class=\"col_heading level0 col2\" >VPD</th>\n",
       "    </tr>\n",
       "    <tr>\n",
       "      <th class=\"index_name level0\" >time</th>\n",
       "      <th class=\"blank col0\" >&nbsp;</th>\n",
       "      <th class=\"blank col1\" >&nbsp;</th>\n",
       "      <th class=\"blank col2\" >&nbsp;</th>\n",
       "    </tr>\n",
       "  </thead>\n",
       "  <tbody>\n",
       "    <tr>\n",
       "      <th id=\"T_b3960_level0_row0\" class=\"row_heading level0 row0\" >2002-04-16 14:30:00</th>\n",
       "      <td id=\"T_b3960_row0_col0\" class=\"data row0 col0\" >5.8200</td>\n",
       "      <td id=\"T_b3960_row0_col1\" class=\"data row0 col1\" >240.8500</td>\n",
       "      <td id=\"T_b3960_row0_col2\" class=\"data row0 col2\" >1.9980</td>\n",
       "    </tr>\n",
       "    <tr>\n",
       "      <th id=\"T_b3960_level0_row1\" class=\"row_heading level0 row1\" >2002-04-16 15:00:00</th>\n",
       "      <td id=\"T_b3960_row1_col0\" class=\"data row1 col0\" >5.8800</td>\n",
       "      <td id=\"T_b3960_row1_col1\" class=\"data row1 col1\" >271.7700</td>\n",
       "      <td id=\"T_b3960_row1_col2\" class=\"data row1 col2\" >2.0970</td>\n",
       "    </tr>\n",
       "    <tr>\n",
       "      <th id=\"T_b3960_level0_row2\" class=\"row_heading level0 row2\" >2002-04-16 15:30:00</th>\n",
       "      <td id=\"T_b3960_row2_col0\" class=\"data row2 col0\" >5.9000</td>\n",
       "      <td id=\"T_b3960_row2_col1\" class=\"data row2 col1\" >188.3400</td>\n",
       "      <td id=\"T_b3960_row2_col2\" class=\"data row2 col2\" >2.0410</td>\n",
       "    </tr>\n",
       "    <tr>\n",
       "      <th id=\"T_b3960_level0_row3\" class=\"row_heading level0 row3\" >2002-04-16 16:00:00</th>\n",
       "      <td id=\"T_b3960_row3_col0\" class=\"data row3 col0\" >5.8200</td>\n",
       "      <td id=\"T_b3960_row3_col1\" class=\"data row3 col1\" >114.6600</td>\n",
       "      <td id=\"T_b3960_row3_col2\" class=\"data row3 col2\" >2.0300</td>\n",
       "    </tr>\n",
       "    <tr>\n",
       "      <th id=\"T_b3960_level0_row4\" class=\"row_heading level0 row4\" >2002-04-16 16:30:00</th>\n",
       "      <td id=\"T_b3960_row4_col0\" class=\"data row4 col0\" >6.0300</td>\n",
       "      <td id=\"T_b3960_row4_col1\" class=\"data row4 col1\" >153.7900</td>\n",
       "      <td id=\"T_b3960_row4_col2\" class=\"data row4 col2\" >2.1810</td>\n",
       "    </tr>\n",
       "    <tr>\n",
       "      <th id=\"T_b3960_level0_row5\" class=\"row_heading level0 row5\" >2002-04-16 17:00:00</th>\n",
       "      <td id=\"T_b3960_row5_col0\" class=\"data row5 col0\" >5.8231</td>\n",
       "      <td id=\"T_b3960_row5_col1\" class=\"data row5 col1\" >100.5100</td>\n",
       "      <td id=\"T_b3960_row5_col2\" class=\"data row5 col2\" >2.0130</td>\n",
       "    </tr>\n",
       "    <tr>\n",
       "      <th id=\"T_b3960_level0_row6\" class=\"row_heading level0 row6\" >2002-04-16 17:30:00</th>\n",
       "      <td id=\"T_b3960_row6_col0\" class=\"data row6 col0\" >5.6213</td>\n",
       "      <td id=\"T_b3960_row6_col1\" class=\"data row6 col1\" >89.0400</td>\n",
       "      <td id=\"T_b3960_row6_col2\" class=\"data row6 col2\" >1.9860</td>\n",
       "    </tr>\n",
       "    <tr>\n",
       "      <th id=\"T_b3960_level0_row7\" class=\"row_heading level0 row7\" >2002-04-16 18:00:00</th>\n",
       "      <td id=\"T_b3960_row7_col0\" class=\"data row7 col0\" >5.4872</td>\n",
       "      <td id=\"T_b3960_row7_col1\" class=\"data row7 col1\" >24.1600</td>\n",
       "      <td id=\"T_b3960_row7_col2\" class=\"data row7 col2\" >1.7470</td>\n",
       "    </tr>\n",
       "    <tr>\n",
       "      <th id=\"T_b3960_level0_row8\" class=\"row_heading level0 row8\" >2002-04-16 18:30:00</th>\n",
       "      <td id=\"T_b3960_row8_col0\" class=\"data row8 col0\" >5.3349</td>\n",
       "      <td id=\"T_b3960_row8_col1\" class=\"data row8 col1\" >22.1800</td>\n",
       "      <td id=\"T_b3960_row8_col2\" class=\"data row8 col2\" >1.4840</td>\n",
       "    </tr>\n",
       "    <tr>\n",
       "      <th id=\"T_b3960_level0_row9\" class=\"row_heading level0 row9\" >2002-04-16 19:00:00</th>\n",
       "      <td id=\"T_b3960_row9_col0\" class=\"data row9 col0\" >5.1300</td>\n",
       "      <td id=\"T_b3960_row9_col1\" class=\"data row9 col1\" >8.2900</td>\n",
       "      <td id=\"T_b3960_row9_col2\" class=\"data row9 col2\" >1.4400</td>\n",
       "    </tr>\n",
       "  </tbody>\n",
       "</table>\n",
       " </div><div> <p style='font-size: 1.3rem;'>data</p> <style type=\"text/css\">\n",
       "</style>\n",
       "<table id=\"T_78332\">\n",
       "  <thead>\n",
       "    <tr>\n",
       "      <th class=\"blank level0\" >&nbsp;</th>\n",
       "      <th id=\"T_78332_level0_col0\" class=\"col_heading level0 col0\" >TA</th>\n",
       "      <th id=\"T_78332_level0_col1\" class=\"col_heading level0 col1\" >SW_IN</th>\n",
       "      <th id=\"T_78332_level0_col2\" class=\"col_heading level0 col2\" >VPD</th>\n",
       "    </tr>\n",
       "    <tr>\n",
       "      <th class=\"index_name level0\" >time</th>\n",
       "      <th class=\"blank col0\" >&nbsp;</th>\n",
       "      <th class=\"blank col1\" >&nbsp;</th>\n",
       "      <th class=\"blank col2\" >&nbsp;</th>\n",
       "    </tr>\n",
       "  </thead>\n",
       "  <tbody>\n",
       "    <tr>\n",
       "      <th id=\"T_78332_level0_row0\" class=\"row_heading level0 row0\" >2002-04-16 14:30:00</th>\n",
       "      <td id=\"T_78332_row0_col0\" class=\"data row0 col0\" >5.8200</td>\n",
       "      <td id=\"T_78332_row0_col1\" class=\"data row0 col1\" >240.8500</td>\n",
       "      <td id=\"T_78332_row0_col2\" class=\"data row0 col2\" >1.9980</td>\n",
       "    </tr>\n",
       "    <tr>\n",
       "      <th id=\"T_78332_level0_row1\" class=\"row_heading level0 row1\" >2002-04-16 15:00:00</th>\n",
       "      <td id=\"T_78332_row1_col0\" class=\"data row1 col0\" >5.8800</td>\n",
       "      <td id=\"T_78332_row1_col1\" class=\"data row1 col1\" >271.7700</td>\n",
       "      <td id=\"T_78332_row1_col2\" class=\"data row1 col2\" >2.0970</td>\n",
       "    </tr>\n",
       "    <tr>\n",
       "      <th id=\"T_78332_level0_row2\" class=\"row_heading level0 row2\" >2002-04-16 15:30:00</th>\n",
       "      <td id=\"T_78332_row2_col0\" class=\"data row2 col0\" >5.9000</td>\n",
       "      <td id=\"T_78332_row2_col1\" class=\"data row2 col1\" >188.3400</td>\n",
       "      <td id=\"T_78332_row2_col2\" class=\"data row2 col2\" >2.0410</td>\n",
       "    </tr>\n",
       "    <tr>\n",
       "      <th id=\"T_78332_level0_row3\" class=\"row_heading level0 row3\" >2002-04-16 16:00:00</th>\n",
       "      <td id=\"T_78332_row3_col0\" class=\"data row3 col0\" >5.8200</td>\n",
       "      <td id=\"T_78332_row3_col1\" class=\"data row3 col1\" >114.6600</td>\n",
       "      <td id=\"T_78332_row3_col2\" class=\"data row3 col2\" >2.0300</td>\n",
       "    </tr>\n",
       "    <tr>\n",
       "      <th id=\"T_78332_level0_row4\" class=\"row_heading level0 row4\" >2002-04-16 16:30:00</th>\n",
       "      <td id=\"T_78332_row4_col0\" class=\"data row4 col0\" >6.0300</td>\n",
       "      <td id=\"T_78332_row4_col1\" class=\"data row4 col1\" >153.7900</td>\n",
       "      <td id=\"T_78332_row4_col2\" class=\"data row4 col2\" >2.1810</td>\n",
       "    </tr>\n",
       "    <tr>\n",
       "      <th id=\"T_78332_level0_row5\" class=\"row_heading level0 row5\" >2002-04-16 17:00:00</th>\n",
       "      <td id=\"T_78332_row5_col0\" class=\"data row5 col0\" >5.7700</td>\n",
       "      <td id=\"T_78332_row5_col1\" class=\"data row5 col1\" >100.5100</td>\n",
       "      <td id=\"T_78332_row5_col2\" class=\"data row5 col2\" >2.0130</td>\n",
       "    </tr>\n",
       "    <tr>\n",
       "      <th id=\"T_78332_level0_row6\" class=\"row_heading level0 row6\" >2002-04-16 17:30:00</th>\n",
       "      <td id=\"T_78332_row6_col0\" class=\"data row6 col0\" >5.8200</td>\n",
       "      <td id=\"T_78332_row6_col1\" class=\"data row6 col1\" >89.0400</td>\n",
       "      <td id=\"T_78332_row6_col2\" class=\"data row6 col2\" >1.9860</td>\n",
       "    </tr>\n",
       "    <tr>\n",
       "      <th id=\"T_78332_level0_row7\" class=\"row_heading level0 row7\" >2002-04-16 18:00:00</th>\n",
       "      <td id=\"T_78332_row7_col0\" class=\"data row7 col0\" >5.4500</td>\n",
       "      <td id=\"T_78332_row7_col1\" class=\"data row7 col1\" >24.1600</td>\n",
       "      <td id=\"T_78332_row7_col2\" class=\"data row7 col2\" >1.7470</td>\n",
       "    </tr>\n",
       "    <tr>\n",
       "      <th id=\"T_78332_level0_row8\" class=\"row_heading level0 row8\" >2002-04-16 18:30:00</th>\n",
       "      <td id=\"T_78332_row8_col0\" class=\"data row8 col0\" >5.0900</td>\n",
       "      <td id=\"T_78332_row8_col1\" class=\"data row8 col1\" >22.1800</td>\n",
       "      <td id=\"T_78332_row8_col2\" class=\"data row8 col2\" >1.4840</td>\n",
       "    </tr>\n",
       "    <tr>\n",
       "      <th id=\"T_78332_level0_row9\" class=\"row_heading level0 row9\" >2002-04-16 19:00:00</th>\n",
       "      <td id=\"T_78332_row9_col0\" class=\"data row9 col0\" >5.0000</td>\n",
       "      <td id=\"T_78332_row9_col1\" class=\"data row9 col1\" >8.2900</td>\n",
       "      <td id=\"T_78332_row9_col2\" class=\"data row9 col2\" >1.4400</td>\n",
       "    </tr>\n",
       "  </tbody>\n",
       "</table>\n",
       " </div><div> <p style='font-size: 1.3rem;'>mask</p> <style type=\"text/css\">\n",
       "</style>\n",
       "<table id=\"T_7c39e\">\n",
       "  <thead>\n",
       "    <tr>\n",
       "      <th class=\"blank level0\" >&nbsp;</th>\n",
       "      <th id=\"T_7c39e_level0_col0\" class=\"col_heading level0 col0\" >TA</th>\n",
       "      <th id=\"T_7c39e_level0_col1\" class=\"col_heading level0 col1\" >SW_IN</th>\n",
       "      <th id=\"T_7c39e_level0_col2\" class=\"col_heading level0 col2\" >VPD</th>\n",
       "    </tr>\n",
       "    <tr>\n",
       "      <th class=\"index_name level0\" >time</th>\n",
       "      <th class=\"blank col0\" >&nbsp;</th>\n",
       "      <th class=\"blank col1\" >&nbsp;</th>\n",
       "      <th class=\"blank col2\" >&nbsp;</th>\n",
       "    </tr>\n",
       "  </thead>\n",
       "  <tbody>\n",
       "    <tr>\n",
       "      <th id=\"T_7c39e_level0_row0\" class=\"row_heading level0 row0\" >2002-04-16 14:30:00</th>\n",
       "      <td id=\"T_7c39e_row0_col0\" class=\"data row0 col0\" >True</td>\n",
       "      <td id=\"T_7c39e_row0_col1\" class=\"data row0 col1\" >True</td>\n",
       "      <td id=\"T_7c39e_row0_col2\" class=\"data row0 col2\" >True</td>\n",
       "    </tr>\n",
       "    <tr>\n",
       "      <th id=\"T_7c39e_level0_row1\" class=\"row_heading level0 row1\" >2002-04-16 15:00:00</th>\n",
       "      <td id=\"T_7c39e_row1_col0\" class=\"data row1 col0\" >True</td>\n",
       "      <td id=\"T_7c39e_row1_col1\" class=\"data row1 col1\" >True</td>\n",
       "      <td id=\"T_7c39e_row1_col2\" class=\"data row1 col2\" >True</td>\n",
       "    </tr>\n",
       "    <tr>\n",
       "      <th id=\"T_7c39e_level0_row2\" class=\"row_heading level0 row2\" >2002-04-16 15:30:00</th>\n",
       "      <td id=\"T_7c39e_row2_col0\" class=\"data row2 col0\" >True</td>\n",
       "      <td id=\"T_7c39e_row2_col1\" class=\"data row2 col1\" >True</td>\n",
       "      <td id=\"T_7c39e_row2_col2\" class=\"data row2 col2\" >True</td>\n",
       "    </tr>\n",
       "    <tr>\n",
       "      <th id=\"T_7c39e_level0_row3\" class=\"row_heading level0 row3\" >2002-04-16 16:00:00</th>\n",
       "      <td id=\"T_7c39e_row3_col0\" class=\"data row3 col0\" >True</td>\n",
       "      <td id=\"T_7c39e_row3_col1\" class=\"data row3 col1\" >True</td>\n",
       "      <td id=\"T_7c39e_row3_col2\" class=\"data row3 col2\" >True</td>\n",
       "    </tr>\n",
       "    <tr>\n",
       "      <th id=\"T_7c39e_level0_row4\" class=\"row_heading level0 row4\" >2002-04-16 16:30:00</th>\n",
       "      <td id=\"T_7c39e_row4_col0\" class=\"data row4 col0\" >True</td>\n",
       "      <td id=\"T_7c39e_row4_col1\" class=\"data row4 col1\" >True</td>\n",
       "      <td id=\"T_7c39e_row4_col2\" class=\"data row4 col2\" >True</td>\n",
       "    </tr>\n",
       "    <tr>\n",
       "      <th id=\"T_7c39e_level0_row5\" class=\"row_heading level0 row5\" >2002-04-16 17:00:00</th>\n",
       "      <td id=\"T_7c39e_row5_col0\" class=\"data row5 col0\" >False</td>\n",
       "      <td id=\"T_7c39e_row5_col1\" class=\"data row5 col1\" >True</td>\n",
       "      <td id=\"T_7c39e_row5_col2\" class=\"data row5 col2\" >True</td>\n",
       "    </tr>\n",
       "    <tr>\n",
       "      <th id=\"T_7c39e_level0_row6\" class=\"row_heading level0 row6\" >2002-04-16 17:30:00</th>\n",
       "      <td id=\"T_7c39e_row6_col0\" class=\"data row6 col0\" >False</td>\n",
       "      <td id=\"T_7c39e_row6_col1\" class=\"data row6 col1\" >True</td>\n",
       "      <td id=\"T_7c39e_row6_col2\" class=\"data row6 col2\" >True</td>\n",
       "    </tr>\n",
       "    <tr>\n",
       "      <th id=\"T_7c39e_level0_row7\" class=\"row_heading level0 row7\" >2002-04-16 18:00:00</th>\n",
       "      <td id=\"T_7c39e_row7_col0\" class=\"data row7 col0\" >False</td>\n",
       "      <td id=\"T_7c39e_row7_col1\" class=\"data row7 col1\" >True</td>\n",
       "      <td id=\"T_7c39e_row7_col2\" class=\"data row7 col2\" >True</td>\n",
       "    </tr>\n",
       "    <tr>\n",
       "      <th id=\"T_7c39e_level0_row8\" class=\"row_heading level0 row8\" >2002-04-16 18:30:00</th>\n",
       "      <td id=\"T_7c39e_row8_col0\" class=\"data row8 col0\" >False</td>\n",
       "      <td id=\"T_7c39e_row8_col1\" class=\"data row8 col1\" >True</td>\n",
       "      <td id=\"T_7c39e_row8_col2\" class=\"data row8 col2\" >True</td>\n",
       "    </tr>\n",
       "    <tr>\n",
       "      <th id=\"T_7c39e_level0_row9\" class=\"row_heading level0 row9\" >2002-04-16 19:00:00</th>\n",
       "      <td id=\"T_7c39e_row9_col0\" class=\"data row9 col0\" >False</td>\n",
       "      <td id=\"T_7c39e_row9_col1\" class=\"data row9 col1\" >True</td>\n",
       "      <td id=\"T_7c39e_row9_col2\" class=\"data row9 col2\" >True</td>\n",
       "    </tr>\n",
       "  </tbody>\n",
       "</table>\n",
       " </div></div>"
      ],
      "text/plain": [
       "<IPython.core.display.HTML object>"
      ]
     },
     "metadata": {},
     "output_type": "display_data"
    }
   ],
   "source": [
    "display_as_row({'pred': k_imp(item)[45:55],'data': item.data[45:55], 'mask': item.mask[45:55]}, hide_idx=False)"
   ]
  },
  {
   "cell_type": "markdown",
   "id": "6258c424-9e5f-400e-b314-25a2ba9aa107",
   "metadata": {},
   "source": [
    "## MDS"
   ]
  },
  {
   "cell_type": "markdown",
   "id": "19e6ac05-98db-4682-9318-9dc2e035fda4",
   "metadata": {},
   "source": [
    "Need to call R from python"
   ]
  },
  {
   "cell_type": "code",
   "execution_count": null,
   "id": "a338de3c-1ace-42b6-a03c-e3818a627a24",
   "metadata": {},
   "outputs": [],
   "source": [
    "import rpy2"
   ]
  },
  {
   "cell_type": "code",
   "execution_count": null,
   "id": "999b6a09-af22-4dd6-9bc3-7200016caf6d",
   "metadata": {},
   "outputs": [
    {
     "data": {
      "text/plain": [
       "'3.5.7'"
      ]
     },
     "execution_count": null,
     "metadata": {},
     "output_type": "execute_result"
    }
   ],
   "source": [
    "rpy2.__version__"
   ]
  },
  {
   "cell_type": "code",
   "execution_count": null,
   "id": "6dea016a-04b0-4d44-9e37-e56babdd99d1",
   "metadata": {},
   "outputs": [],
   "source": [
    "import rpy2.rinterface"
   ]
  },
  {
   "cell_type": "code",
   "execution_count": null,
   "id": "a8e5180d-cfb9-4969-b9a2-51471bcf6328",
   "metadata": {},
   "outputs": [],
   "source": [
    "from rpy2.robjects.packages import importr"
   ]
  },
  {
   "cell_type": "code",
   "execution_count": null,
   "id": "05cc850f-d7f4-4246-a4bd-66b8d9a3157e",
   "metadata": {},
   "outputs": [],
   "source": [
    "import rpy2.robjects\n",
    "from rpy2.robjects import r\n",
    "import rpy2.robjects as ro\n",
    "from rpy2.robjects.packages import importr\n",
    "from rpy2.robjects import pandas2ri"
   ]
  },
  {
   "cell_type": "code",
   "execution_count": null,
   "id": "bafe1dcd-28f8-4b33-b1e6-bdf8275b03e2",
   "metadata": {},
   "outputs": [
    {
     "name": "stdout",
     "output_type": "stream",
     "text": [
      "[1] \"here::here(\\\"R/REddyProc_tools.R\\\")\"\n"
     ]
    },
    {
     "data": {
      "text/html": [
       "\n",
       "        <span>StrVector with 1 elements.</span>\n",
       "        <table>\n",
       "        <tbody>\n",
       "          <tr>\n",
       "          \n",
       "            <td>\n",
       "            'here::here(\"R/REddyProc_tools.R\")'\n",
       "            </td>\n",
       "          \n",
       "          </tr>\n",
       "        </tbody>\n",
       "        </table>\n",
       "        "
      ],
      "text/plain": [
       "<rpy2.robjects.vectors.StrVector object> [RTYPES.STRSXP]\n",
       "R classes: ('character',)\n",
       "['here::here(\"R/REddyProc_tools.R\")']"
      ]
     },
     "execution_count": null,
     "metadata": {},
     "output_type": "execute_result"
    }
   ],
   "source": [
    "r.print('here::here(\"R/REddyProc_tools.R\")')"
   ]
  },
  {
   "cell_type": "code",
   "execution_count": null,
   "id": "ee74c864-8d7c-498a-af63-176f8a684996",
   "metadata": {},
   "outputs": [],
   "source": [
    "from pyprojroot import here"
   ]
  },
  {
   "cell_type": "code",
   "execution_count": null,
   "id": "dd0c8fc3-1ac0-4f3d-9ec9-5149c0e3b697",
   "metadata": {},
   "outputs": [],
   "source": [
    "path_r = str(here(\"R/REddyProc_tools.R\"))"
   ]
  },
  {
   "cell_type": "code",
   "execution_count": null,
   "id": "ab5223c3-7518-46f9-bac0-933dfc5da94d",
   "metadata": {},
   "outputs": [],
   "source": [
    "r.source(path_r);"
   ]
  },
  {
   "cell_type": "code",
   "execution_count": null,
   "id": "cae61d0f-48fc-4734-bbe5-257a2e921911",
   "metadata": {},
   "outputs": [],
   "source": [
    "%load_ext rpy2.ipython"
   ]
  },
  {
   "cell_type": "code",
   "execution_count": null,
   "id": "a5a965ab-11cd-40aa-a642-2dbb297de9ee",
   "metadata": {},
   "outputs": [],
   "source": [
    "def importr_install(pkg):\n",
    "    try:\n",
    "        importr(pkg)\n",
    "    except:\n",
    "        utils = importr('utils')\n",
    "        utils.chooseCRANmirror(ind=1)\n",
    "        utils.install_packages(pkg)\n",
    "        importr(pkg) "
   ]
  },
  {
   "cell_type": "code",
   "execution_count": null,
   "id": "436ef8eb-012d-4f02-8010-d4230ea2b5aa",
   "metadata": {},
   "outputs": [],
   "source": [
    "def setupR():\n",
    "    importr_install('tidyverse')\n",
    "    importr_install('REddyProc')\n",
    "    importr('lubridate')\n",
    "    path_r = str(here(\"R/REddyProc_tools.R\"))\n",
    "    r.source(path_r) # R functions\n",
    "    r(\"\"\"toR_timestamp <- function(x){\n",
    "   x$TIMESTAMP_END = as_datetime(x$TIMESTAMP_END) \n",
    "    x\n",
    "     }\"\"\")"
   ]
  },
  {
   "cell_type": "code",
   "execution_count": null,
   "id": "9a36610a-f30a-4016-9124-e4cd50876c35",
   "metadata": {},
   "outputs": [],
   "source": [
    "def pd2R(x):\n",
    "    with ro.default_converter + pandas2ri.converter:\n",
    "        return ro.conversion.py2rpy(x) "
   ]
  },
  {
   "cell_type": "code",
   "execution_count": null,
   "id": "9f87c7f1-f6fb-49bb-9893-42bbc3562b23",
   "metadata": {},
   "outputs": [],
   "source": [
    "def R2pd(x):\n",
    "    with ro.default_converter + pandas2ri.converter:\n",
    "        return ro.conversion.rpy2py(x) "
   ]
  },
  {
   "cell_type": "code",
   "execution_count": null,
   "id": "33fc6be5-a066-4a77-bfe2-af4ae5531c87",
   "metadata": {},
   "outputs": [],
   "source": [
    "setupR()"
   ]
  },
  {
   "cell_type": "markdown",
   "id": "4eafb9a6-d37e-44a3-a90f-99f2f19a4f60",
   "metadata": {},
   "source": [
    "### Experiment"
   ]
  },
  {
   "cell_type": "markdown",
   "id": "4f8952c5-502a-4eac-b941-050ac5b908ad",
   "metadata": {},
   "source": [
    "The time series needs to be at least 90 days long, we we add 45 days before and after the gap"
   ]
  },
  {
   "cell_type": "markdown",
   "id": "947f8551-ab37-48df-9164-613309952d98",
   "metadata": {},
   "source": [
    "There is a problem with conversions of timestamps between R and Python, so convert to string in Python and then back to datetime in R"
   ]
  },
  {
   "cell_type": "code",
   "execution_count": null,
   "id": "450d85a4-acb2-4081-ad27-8374f5254186",
   "metadata": {},
   "outputs": [],
   "source": [
    "def item2REddy(item, var, df):\n",
    "    \" Add context around item for supporting REddyProc\"\n",
    "    start = np.argwhere(hai.index == item.data.index[0]).squeeze()\n",
    "    end = np.argwhere(hai.index == item.data.index[-1]).squeeze()\n",
    "    start = start - 45 * 24 * 2 # 90 days\n",
    "    end = end + 45 * 24 * 2\n",
    "    REddy_df = hai.iloc[start:end].assign(gap = (~item.mask[var]).astype(int)).fillna({'gap': 0})\n",
    "    return REddy_df.reset_index().astype({'time': str}).rename(columns={'time': 'TIMESTAMP_END'})"
   ]
  },
  {
   "cell_type": "code",
   "execution_count": null,
   "id": "5a06a9e4-c3f6-469c-8205-f256e013959f",
   "metadata": {},
   "outputs": [],
   "source": [
    "REddy_df = item2REddy(item, 'TA', hai)\n",
    "\n",
    "REddy_df_r = r.toR_timestamp(pd2R(REddy_df))\n",
    "\n",
    "filled = R2pd(r.fill_gaps_EProc(REddy_df_r, \"TA\"))"
   ]
  },
  {
   "cell_type": "code",
   "execution_count": null,
   "id": "ac8f61ba-d716-4aea-ae8c-305f2c0511bf",
   "metadata": {},
   "outputs": [
    {
     "data": {
      "text/html": [
       "<div>\n",
       "<style scoped>\n",
       "    .dataframe tbody tr th:only-of-type {\n",
       "        vertical-align: middle;\n",
       "    }\n",
       "\n",
       "    .dataframe tbody tr th {\n",
       "        vertical-align: top;\n",
       "    }\n",
       "\n",
       "    .dataframe thead th {\n",
       "        text-align: right;\n",
       "    }\n",
       "</style>\n",
       "<table border=\"1\" class=\"dataframe\">\n",
       "  <thead>\n",
       "    <tr style=\"text-align: right;\">\n",
       "      <th></th>\n",
       "      <th>TA_orig</th>\n",
       "      <th>TA_f</th>\n",
       "      <th>TA_fqc</th>\n",
       "      <th>TA_fall</th>\n",
       "      <th>TA_fall_qc</th>\n",
       "      <th>TA_fnum</th>\n",
       "      <th>TA_fsd</th>\n",
       "      <th>TA_fmeth</th>\n",
       "      <th>TA_fwin</th>\n",
       "    </tr>\n",
       "  </thead>\n",
       "  <tbody>\n",
       "    <tr>\n",
       "      <th>1</th>\n",
       "      <td>5.35</td>\n",
       "      <td>5.35</td>\n",
       "      <td>0.0</td>\n",
       "      <td>5.35</td>\n",
       "      <td>NaN</td>\n",
       "      <td>NaN</td>\n",
       "      <td>NaN</td>\n",
       "      <td>NaN</td>\n",
       "      <td>NaN</td>\n",
       "    </tr>\n",
       "    <tr>\n",
       "      <th>2</th>\n",
       "      <td>4.87</td>\n",
       "      <td>4.87</td>\n",
       "      <td>0.0</td>\n",
       "      <td>4.87</td>\n",
       "      <td>NaN</td>\n",
       "      <td>NaN</td>\n",
       "      <td>NaN</td>\n",
       "      <td>NaN</td>\n",
       "      <td>NaN</td>\n",
       "    </tr>\n",
       "    <tr>\n",
       "      <th>3</th>\n",
       "      <td>3.74</td>\n",
       "      <td>3.74</td>\n",
       "      <td>0.0</td>\n",
       "      <td>3.74</td>\n",
       "      <td>NaN</td>\n",
       "      <td>NaN</td>\n",
       "      <td>NaN</td>\n",
       "      <td>NaN</td>\n",
       "      <td>NaN</td>\n",
       "    </tr>\n",
       "    <tr>\n",
       "      <th>4</th>\n",
       "      <td>2.14</td>\n",
       "      <td>2.14</td>\n",
       "      <td>0.0</td>\n",
       "      <td>2.14</td>\n",
       "      <td>NaN</td>\n",
       "      <td>NaN</td>\n",
       "      <td>NaN</td>\n",
       "      <td>NaN</td>\n",
       "      <td>NaN</td>\n",
       "    </tr>\n",
       "    <tr>\n",
       "      <th>5</th>\n",
       "      <td>1.82</td>\n",
       "      <td>1.82</td>\n",
       "      <td>0.0</td>\n",
       "      <td>1.82</td>\n",
       "      <td>NaN</td>\n",
       "      <td>NaN</td>\n",
       "      <td>NaN</td>\n",
       "      <td>NaN</td>\n",
       "      <td>NaN</td>\n",
       "    </tr>\n",
       "    <tr>\n",
       "      <th>...</th>\n",
       "      <td>...</td>\n",
       "      <td>...</td>\n",
       "      <td>...</td>\n",
       "      <td>...</td>\n",
       "      <td>...</td>\n",
       "      <td>...</td>\n",
       "      <td>...</td>\n",
       "      <td>...</td>\n",
       "      <td>...</td>\n",
       "    </tr>\n",
       "    <tr>\n",
       "      <th>4415</th>\n",
       "      <td>14.89</td>\n",
       "      <td>14.89</td>\n",
       "      <td>0.0</td>\n",
       "      <td>14.89</td>\n",
       "      <td>NaN</td>\n",
       "      <td>NaN</td>\n",
       "      <td>NaN</td>\n",
       "      <td>NaN</td>\n",
       "      <td>NaN</td>\n",
       "    </tr>\n",
       "    <tr>\n",
       "      <th>4416</th>\n",
       "      <td>15.05</td>\n",
       "      <td>15.05</td>\n",
       "      <td>0.0</td>\n",
       "      <td>15.05</td>\n",
       "      <td>NaN</td>\n",
       "      <td>NaN</td>\n",
       "      <td>NaN</td>\n",
       "      <td>NaN</td>\n",
       "      <td>NaN</td>\n",
       "    </tr>\n",
       "    <tr>\n",
       "      <th>4417</th>\n",
       "      <td>15.06</td>\n",
       "      <td>15.06</td>\n",
       "      <td>0.0</td>\n",
       "      <td>15.06</td>\n",
       "      <td>NaN</td>\n",
       "      <td>NaN</td>\n",
       "      <td>NaN</td>\n",
       "      <td>NaN</td>\n",
       "      <td>NaN</td>\n",
       "    </tr>\n",
       "    <tr>\n",
       "      <th>4418</th>\n",
       "      <td>15.24</td>\n",
       "      <td>15.24</td>\n",
       "      <td>0.0</td>\n",
       "      <td>15.24</td>\n",
       "      <td>NaN</td>\n",
       "      <td>NaN</td>\n",
       "      <td>NaN</td>\n",
       "      <td>NaN</td>\n",
       "      <td>NaN</td>\n",
       "    </tr>\n",
       "    <tr>\n",
       "      <th>4419</th>\n",
       "      <td>15.53</td>\n",
       "      <td>15.53</td>\n",
       "      <td>0.0</td>\n",
       "      <td>15.53</td>\n",
       "      <td>NaN</td>\n",
       "      <td>NaN</td>\n",
       "      <td>NaN</td>\n",
       "      <td>NaN</td>\n",
       "      <td>NaN</td>\n",
       "    </tr>\n",
       "  </tbody>\n",
       "</table>\n",
       "<p>4419 rows × 9 columns</p>\n",
       "</div>"
      ],
      "text/plain": [
       "      TA_orig   TA_f  TA_fqc  TA_fall  TA_fall_qc  TA_fnum  TA_fsd  TA_fmeth  \\\n",
       "1        5.35   5.35     0.0     5.35         NaN      NaN     NaN       NaN   \n",
       "2        4.87   4.87     0.0     4.87         NaN      NaN     NaN       NaN   \n",
       "3        3.74   3.74     0.0     3.74         NaN      NaN     NaN       NaN   \n",
       "4        2.14   2.14     0.0     2.14         NaN      NaN     NaN       NaN   \n",
       "5        1.82   1.82     0.0     1.82         NaN      NaN     NaN       NaN   \n",
       "...       ...    ...     ...      ...         ...      ...     ...       ...   \n",
       "4415    14.89  14.89     0.0    14.89         NaN      NaN     NaN       NaN   \n",
       "4416    15.05  15.05     0.0    15.05         NaN      NaN     NaN       NaN   \n",
       "4417    15.06  15.06     0.0    15.06         NaN      NaN     NaN       NaN   \n",
       "4418    15.24  15.24     0.0    15.24         NaN      NaN     NaN       NaN   \n",
       "4419    15.53  15.53     0.0    15.53         NaN      NaN     NaN       NaN   \n",
       "\n",
       "      TA_fwin  \n",
       "1         NaN  \n",
       "2         NaN  \n",
       "3         NaN  \n",
       "4         NaN  \n",
       "5         NaN  \n",
       "...       ...  \n",
       "4415      NaN  \n",
       "4416      NaN  \n",
       "4417      NaN  \n",
       "4418      NaN  \n",
       "4419      NaN  \n",
       "\n",
       "[4419 rows x 9 columns]"
      ]
     },
     "execution_count": null,
     "metadata": {},
     "output_type": "execute_result"
    }
   ],
   "source": [
    "filled"
   ]
  },
  {
   "cell_type": "code",
   "execution_count": null,
   "id": "c5129429-7d63-42aa-ad89-d69e99a79bd9",
   "metadata": {},
   "outputs": [
    {
     "data": {
      "text/html": [
       "<div>\n",
       "<style scoped>\n",
       "    .dataframe tbody tr th:only-of-type {\n",
       "        vertical-align: middle;\n",
       "    }\n",
       "\n",
       "    .dataframe tbody tr th {\n",
       "        vertical-align: top;\n",
       "    }\n",
       "\n",
       "    .dataframe thead th {\n",
       "        text-align: right;\n",
       "    }\n",
       "</style>\n",
       "<table border=\"1\" class=\"dataframe\">\n",
       "  <thead>\n",
       "    <tr style=\"text-align: right;\">\n",
       "      <th></th>\n",
       "      <th>TA</th>\n",
       "      <th>SW_IN</th>\n",
       "      <th>VPD</th>\n",
       "      <th>gap</th>\n",
       "    </tr>\n",
       "    <tr>\n",
       "      <th>TIMESTAMP_END</th>\n",
       "      <th></th>\n",
       "      <th></th>\n",
       "      <th></th>\n",
       "      <th></th>\n",
       "    </tr>\n",
       "  </thead>\n",
       "  <tbody>\n",
       "    <tr>\n",
       "      <th>2002-03-01 16:00:00</th>\n",
       "      <td>5.35</td>\n",
       "      <td>102.16</td>\n",
       "      <td>3.755</td>\n",
       "      <td>0.0</td>\n",
       "    </tr>\n",
       "    <tr>\n",
       "      <th>2002-03-01 16:30:00</th>\n",
       "      <td>4.87</td>\n",
       "      <td>50.54</td>\n",
       "      <td>3.183</td>\n",
       "      <td>0.0</td>\n",
       "    </tr>\n",
       "    <tr>\n",
       "      <th>2002-03-01 17:00:00</th>\n",
       "      <td>3.74</td>\n",
       "      <td>25.75</td>\n",
       "      <td>1.957</td>\n",
       "      <td>0.0</td>\n",
       "    </tr>\n",
       "    <tr>\n",
       "      <th>2002-03-01 17:30:00</th>\n",
       "      <td>2.14</td>\n",
       "      <td>25.11</td>\n",
       "      <td>0.979</td>\n",
       "      <td>0.0</td>\n",
       "    </tr>\n",
       "    <tr>\n",
       "      <th>2002-03-01 18:00:00</th>\n",
       "      <td>1.82</td>\n",
       "      <td>5.03</td>\n",
       "      <td>1.066</td>\n",
       "      <td>0.0</td>\n",
       "    </tr>\n",
       "    <tr>\n",
       "      <th>...</th>\n",
       "      <td>...</td>\n",
       "      <td>...</td>\n",
       "      <td>...</td>\n",
       "      <td>...</td>\n",
       "    </tr>\n",
       "    <tr>\n",
       "      <th>2002-06-01 15:00:00</th>\n",
       "      <td>14.89</td>\n",
       "      <td>740.41</td>\n",
       "      <td>9.169</td>\n",
       "      <td>0.0</td>\n",
       "    </tr>\n",
       "    <tr>\n",
       "      <th>2002-06-01 15:30:00</th>\n",
       "      <td>15.05</td>\n",
       "      <td>679.92</td>\n",
       "      <td>10.075</td>\n",
       "      <td>0.0</td>\n",
       "    </tr>\n",
       "    <tr>\n",
       "      <th>2002-06-01 16:00:00</th>\n",
       "      <td>15.06</td>\n",
       "      <td>613.06</td>\n",
       "      <td>10.316</td>\n",
       "      <td>0.0</td>\n",
       "    </tr>\n",
       "    <tr>\n",
       "      <th>2002-06-01 16:30:00</th>\n",
       "      <td>15.24</td>\n",
       "      <td>538.94</td>\n",
       "      <td>9.594</td>\n",
       "      <td>0.0</td>\n",
       "    </tr>\n",
       "    <tr>\n",
       "      <th>2002-06-01 17:00:00</th>\n",
       "      <td>15.53</td>\n",
       "      <td>457.04</td>\n",
       "      <td>9.405</td>\n",
       "      <td>0.0</td>\n",
       "    </tr>\n",
       "  </tbody>\n",
       "</table>\n",
       "<p>4419 rows × 4 columns</p>\n",
       "</div>"
      ],
      "text/plain": [
       "                        TA   SW_IN     VPD  gap\n",
       "TIMESTAMP_END                                  \n",
       "2002-03-01 16:00:00   5.35  102.16   3.755  0.0\n",
       "2002-03-01 16:30:00   4.87   50.54   3.183  0.0\n",
       "2002-03-01 17:00:00   3.74   25.75   1.957  0.0\n",
       "2002-03-01 17:30:00   2.14   25.11   0.979  0.0\n",
       "2002-03-01 18:00:00   1.82    5.03   1.066  0.0\n",
       "...                    ...     ...     ...  ...\n",
       "2002-06-01 15:00:00  14.89  740.41   9.169  0.0\n",
       "2002-06-01 15:30:00  15.05  679.92  10.075  0.0\n",
       "2002-06-01 16:00:00  15.06  613.06  10.316  0.0\n",
       "2002-06-01 16:30:00  15.24  538.94   9.594  0.0\n",
       "2002-06-01 17:00:00  15.53  457.04   9.405  0.0\n",
       "\n",
       "[4419 rows x 4 columns]"
      ]
     },
     "execution_count": null,
     "metadata": {},
     "output_type": "execute_result"
    }
   ],
   "source": [
    "REddy_df.set_index(\"TIMESTAMP_END\") "
   ]
  },
  {
   "cell_type": "code",
   "execution_count": null,
   "id": "7322e20d-d0a1-4218-af07-0cc335453ed9",
   "metadata": {},
   "outputs": [],
   "source": [
    "filled = filled.set_index(pd.to_datetime(REddy_df.TIMESTAMP_END))\n",
    "\n",
    "filled_item = filled.loc[item.data.index]\n",
    "\n",
    "pred = item.data.copy()\n",
    "pred.loc[~item.mask[\"TA\"], \"TA\"] = filled_item[\"TA_f\"][~item.mask[\"TA\"]]"
   ]
  },
  {
   "cell_type": "code",
   "execution_count": null,
   "id": "e50f2cbb-41e1-4206-8f5c-9786a1d59a6e",
   "metadata": {},
   "outputs": [
    {
     "data": {
      "text/plain": [
       "(                           TA   SW_IN    VPD\n",
       " time                                        \n",
       " 2002-04-16 14:30:00  5.820000  240.85  1.998\n",
       " 2002-04-16 15:00:00  5.880000  271.77  2.097\n",
       " 2002-04-16 15:30:00  5.900000  188.34  2.041\n",
       " 2002-04-16 16:00:00  5.820000  114.66  2.030\n",
       " 2002-04-16 16:30:00  6.030000  153.79  2.181\n",
       " 2002-04-16 17:00:00  5.075889  100.51  2.013\n",
       " 2002-04-16 17:30:00  5.185888   89.04  1.986\n",
       " 2002-04-16 18:00:00  5.353310   24.16  1.747\n",
       " 2002-04-16 18:30:00  5.384187   22.18  1.484\n",
       " 2002-04-16 19:00:00  5.442061    8.29  1.440,\n",
       "                        TA   SW_IN    VPD\n",
       " time                                    \n",
       " 2002-04-16 14:30:00  5.82  240.85  1.998\n",
       " 2002-04-16 15:00:00  5.88  271.77  2.097\n",
       " 2002-04-16 15:30:00  5.90  188.34  2.041\n",
       " 2002-04-16 16:00:00  5.82  114.66  2.030\n",
       " 2002-04-16 16:30:00  6.03  153.79  2.181\n",
       " 2002-04-16 17:00:00  5.77  100.51  2.013\n",
       " 2002-04-16 17:30:00  5.82   89.04  1.986\n",
       " 2002-04-16 18:00:00  5.45   24.16  1.747\n",
       " 2002-04-16 18:30:00  5.09   22.18  1.484\n",
       " 2002-04-16 19:00:00  5.00    8.29  1.440)"
      ]
     },
     "execution_count": null,
     "metadata": {},
     "output_type": "execute_result"
    }
   ],
   "source": [
    "pred[45:55], item.data[45:55]"
   ]
  },
  {
   "cell_type": "code",
   "execution_count": null,
   "id": "86114479-ad45-4111-9a37-68ba7155b048",
   "metadata": {},
   "outputs": [],
   "source": [
    "def gap_fill_item(item, REddy_df, var, filled):\n",
    "    \n",
    "    filled = filled.set_index(pd.to_datetime(REddy_df.TIMESTAMP_END))\n",
    "    filled_item = filled.loc[item.data.index]\n",
    "\n",
    "    pred = item.data.copy()\n",
    "    pred.loc[~item.mask[var], var] = filled_item[f\"{var}_f\"][~item.mask[var]]\n",
    "    return pred"
   ]
  },
  {
   "cell_type": "code",
   "execution_count": null,
   "id": "2e2d2f7f-37be-4ace-bafc-451bb34d673f",
   "metadata": {},
   "outputs": [
    {
     "data": {
      "text/html": [
       "<div>\n",
       "<style scoped>\n",
       "    .dataframe tbody tr th:only-of-type {\n",
       "        vertical-align: middle;\n",
       "    }\n",
       "\n",
       "    .dataframe tbody tr th {\n",
       "        vertical-align: top;\n",
       "    }\n",
       "\n",
       "    .dataframe thead th {\n",
       "        text-align: right;\n",
       "    }\n",
       "</style>\n",
       "<table border=\"1\" class=\"dataframe\">\n",
       "  <thead>\n",
       "    <tr style=\"text-align: right;\">\n",
       "      <th></th>\n",
       "      <th>TA</th>\n",
       "      <th>SW_IN</th>\n",
       "      <th>VPD</th>\n",
       "    </tr>\n",
       "    <tr>\n",
       "      <th>time</th>\n",
       "      <th></th>\n",
       "      <th></th>\n",
       "      <th></th>\n",
       "    </tr>\n",
       "  </thead>\n",
       "  <tbody>\n",
       "    <tr>\n",
       "      <th>2002-04-15 16:00:00</th>\n",
       "      <td>5.05</td>\n",
       "      <td>147.99</td>\n",
       "      <td>0.663</td>\n",
       "    </tr>\n",
       "    <tr>\n",
       "      <th>2002-04-15 16:30:00</th>\n",
       "      <td>4.96</td>\n",
       "      <td>132.57</td>\n",
       "      <td>0.641</td>\n",
       "    </tr>\n",
       "    <tr>\n",
       "      <th>2002-04-15 17:00:00</th>\n",
       "      <td>4.89</td>\n",
       "      <td>72.85</td>\n",
       "      <td>0.623</td>\n",
       "    </tr>\n",
       "    <tr>\n",
       "      <th>2002-04-15 17:30:00</th>\n",
       "      <td>4.80</td>\n",
       "      <td>70.62</td>\n",
       "      <td>0.614</td>\n",
       "    </tr>\n",
       "    <tr>\n",
       "      <th>2002-04-15 18:00:00</th>\n",
       "      <td>4.70</td>\n",
       "      <td>25.56</td>\n",
       "      <td>0.564</td>\n",
       "    </tr>\n",
       "    <tr>\n",
       "      <th>...</th>\n",
       "      <td>...</td>\n",
       "      <td>...</td>\n",
       "      <td>...</td>\n",
       "    </tr>\n",
       "    <tr>\n",
       "      <th>2002-04-17 15:30:00</th>\n",
       "      <td>6.28</td>\n",
       "      <td>176.61</td>\n",
       "      <td>2.260</td>\n",
       "    </tr>\n",
       "    <tr>\n",
       "      <th>2002-04-17 16:00:00</th>\n",
       "      <td>6.19</td>\n",
       "      <td>162.65</td>\n",
       "      <td>2.069</td>\n",
       "    </tr>\n",
       "    <tr>\n",
       "      <th>2002-04-17 16:30:00</th>\n",
       "      <td>6.11</td>\n",
       "      <td>157.49</td>\n",
       "      <td>1.737</td>\n",
       "    </tr>\n",
       "    <tr>\n",
       "      <th>2002-04-17 17:00:00</th>\n",
       "      <td>6.50</td>\n",
       "      <td>143.02</td>\n",
       "      <td>2.024</td>\n",
       "    </tr>\n",
       "    <tr>\n",
       "      <th>2002-04-17 17:30:00</th>\n",
       "      <td>6.67</td>\n",
       "      <td>124.47</td>\n",
       "      <td>2.211</td>\n",
       "    </tr>\n",
       "  </tbody>\n",
       "</table>\n",
       "<p>100 rows × 3 columns</p>\n",
       "</div>"
      ],
      "text/plain": [
       "                       TA   SW_IN    VPD\n",
       "time                                    \n",
       "2002-04-15 16:00:00  5.05  147.99  0.663\n",
       "2002-04-15 16:30:00  4.96  132.57  0.641\n",
       "2002-04-15 17:00:00  4.89   72.85  0.623\n",
       "2002-04-15 17:30:00  4.80   70.62  0.614\n",
       "2002-04-15 18:00:00  4.70   25.56  0.564\n",
       "...                   ...     ...    ...\n",
       "2002-04-17 15:30:00  6.28  176.61  2.260\n",
       "2002-04-17 16:00:00  6.19  162.65  2.069\n",
       "2002-04-17 16:30:00  6.11  157.49  1.737\n",
       "2002-04-17 17:00:00  6.50  143.02  2.024\n",
       "2002-04-17 17:30:00  6.67  124.47  2.211\n",
       "\n",
       "[100 rows x 3 columns]"
      ]
     },
     "execution_count": null,
     "metadata": {},
     "output_type": "execute_result"
    }
   ],
   "source": [
    "gap_fill_item(item, REddy_df, \"TA\", filled)\n"
   ]
  },
  {
   "cell_type": "markdown",
   "id": "bfbb7946-a2d5-4321-a50d-2f3d51265c86",
   "metadata": {},
   "source": [
    "### MDSImputation"
   ]
  },
  {
   "cell_type": "code",
   "execution_count": null,
   "id": "9017ed4b-e5b6-443d-9f89-a88c24738f99",
   "metadata": {},
   "outputs": [],
   "source": [
    "class MDSImputation:\n",
    "    def __init__(self, var, df): store_attr()\n",
    "    def __call__(self, item):\n",
    "        REddy_df = item2REddy(item, self.var, self.df)\n",
    "        REddy_df_r = r.toR_timestamp(pd2R(REddy_df))\n",
    "        filled = R2pd(r.fill_gaps_EProc(REddy_df_r, self.var))\n",
    "        return gap_fill_item(item, REddy_df, self.var, filled)"
   ]
  },
  {
   "cell_type": "code",
   "execution_count": null,
   "id": "d1156cd5-a95b-4988-8eef-e5a09f4a045c",
   "metadata": {},
   "outputs": [],
   "source": [
    "mds_imp = MDSImputation('TA', hai)"
   ]
  },
  {
   "cell_type": "code",
   "execution_count": null,
   "id": "658f7bc6-fea3-46c0-8f05-7278855d9a49",
   "metadata": {},
   "outputs": [
    {
     "name": "stderr",
     "output_type": "stream",
     "text": [
      "R[write to console]: New sEddyProc class for site 'ID'\n",
      "\n",
      "R[write to console]: Initialized variable 'TA' with 10 real gaps for gap filling.\n",
      "\n",
      "R[write to console]: Limited MDS algorithm for gap filling of 'TA.gap_0' with LUT(SW_IN only) and MDC.\n",
      "\n",
      "R[write to console]: Look up table with window size of 7 days with SW_IN\n",
      "\n",
      "R[write to console]: 10\n",
      "\n",
      "R[write to console]: Finished gap filling of 'TA' in 0 seconds. Artificial gaps filled: 4419, real gaps filled: 10, unfilled (long) gaps: 0.\n",
      "\n"
     ]
    },
    {
     "data": {
      "text/html": [
       "<div>\n",
       "<style scoped>\n",
       "    .dataframe tbody tr th:only-of-type {\n",
       "        vertical-align: middle;\n",
       "    }\n",
       "\n",
       "    .dataframe tbody tr th {\n",
       "        vertical-align: top;\n",
       "    }\n",
       "\n",
       "    .dataframe thead th {\n",
       "        text-align: right;\n",
       "    }\n",
       "</style>\n",
       "<table border=\"1\" class=\"dataframe\">\n",
       "  <thead>\n",
       "    <tr style=\"text-align: right;\">\n",
       "      <th></th>\n",
       "      <th>TA</th>\n",
       "      <th>SW_IN</th>\n",
       "      <th>VPD</th>\n",
       "    </tr>\n",
       "    <tr>\n",
       "      <th>time</th>\n",
       "      <th></th>\n",
       "      <th></th>\n",
       "      <th></th>\n",
       "    </tr>\n",
       "  </thead>\n",
       "  <tbody>\n",
       "    <tr>\n",
       "      <th>2002-04-15 16:00:00</th>\n",
       "      <td>5.05</td>\n",
       "      <td>147.99</td>\n",
       "      <td>0.663</td>\n",
       "    </tr>\n",
       "    <tr>\n",
       "      <th>2002-04-15 16:30:00</th>\n",
       "      <td>4.96</td>\n",
       "      <td>132.57</td>\n",
       "      <td>0.641</td>\n",
       "    </tr>\n",
       "    <tr>\n",
       "      <th>2002-04-15 17:00:00</th>\n",
       "      <td>4.89</td>\n",
       "      <td>72.85</td>\n",
       "      <td>0.623</td>\n",
       "    </tr>\n",
       "    <tr>\n",
       "      <th>2002-04-15 17:30:00</th>\n",
       "      <td>4.80</td>\n",
       "      <td>70.62</td>\n",
       "      <td>0.614</td>\n",
       "    </tr>\n",
       "    <tr>\n",
       "      <th>2002-04-15 18:00:00</th>\n",
       "      <td>4.70</td>\n",
       "      <td>25.56</td>\n",
       "      <td>0.564</td>\n",
       "    </tr>\n",
       "    <tr>\n",
       "      <th>...</th>\n",
       "      <td>...</td>\n",
       "      <td>...</td>\n",
       "      <td>...</td>\n",
       "    </tr>\n",
       "    <tr>\n",
       "      <th>2002-04-17 15:30:00</th>\n",
       "      <td>6.28</td>\n",
       "      <td>176.61</td>\n",
       "      <td>2.260</td>\n",
       "    </tr>\n",
       "    <tr>\n",
       "      <th>2002-04-17 16:00:00</th>\n",
       "      <td>6.19</td>\n",
       "      <td>162.65</td>\n",
       "      <td>2.069</td>\n",
       "    </tr>\n",
       "    <tr>\n",
       "      <th>2002-04-17 16:30:00</th>\n",
       "      <td>6.11</td>\n",
       "      <td>157.49</td>\n",
       "      <td>1.737</td>\n",
       "    </tr>\n",
       "    <tr>\n",
       "      <th>2002-04-17 17:00:00</th>\n",
       "      <td>6.50</td>\n",
       "      <td>143.02</td>\n",
       "      <td>2.024</td>\n",
       "    </tr>\n",
       "    <tr>\n",
       "      <th>2002-04-17 17:30:00</th>\n",
       "      <td>6.67</td>\n",
       "      <td>124.47</td>\n",
       "      <td>2.211</td>\n",
       "    </tr>\n",
       "  </tbody>\n",
       "</table>\n",
       "<p>100 rows × 3 columns</p>\n",
       "</div>"
      ],
      "text/plain": [
       "                       TA   SW_IN    VPD\n",
       "time                                    \n",
       "2002-04-15 16:00:00  5.05  147.99  0.663\n",
       "2002-04-15 16:30:00  4.96  132.57  0.641\n",
       "2002-04-15 17:00:00  4.89   72.85  0.623\n",
       "2002-04-15 17:30:00  4.80   70.62  0.614\n",
       "2002-04-15 18:00:00  4.70   25.56  0.564\n",
       "...                   ...     ...    ...\n",
       "2002-04-17 15:30:00  6.28  176.61  2.260\n",
       "2002-04-17 16:00:00  6.19  162.65  2.069\n",
       "2002-04-17 16:30:00  6.11  157.49  1.737\n",
       "2002-04-17 17:00:00  6.50  143.02  2.024\n",
       "2002-04-17 17:30:00  6.67  124.47  2.211\n",
       "\n",
       "[100 rows x 3 columns]"
      ]
     },
     "execution_count": null,
     "metadata": {},
     "output_type": "execute_result"
    }
   ],
   "source": [
    "mds_imp(item)"
   ]
  },
  {
   "cell_type": "markdown",
   "id": "f1f2d1ed-7028-4188-94cd-91405ea0f31b",
   "metadata": {},
   "source": [
    "## ERA Imputation"
   ]
  },
  {
   "cell_type": "code",
   "execution_count": null,
   "id": "a0a9aa30-fff8-4d00-ba38-50208fedc1ed",
   "metadata": {},
   "outputs": [],
   "source": [
    "class ERAImputation:\n",
    "    def __call__(self, item):\n",
    "        pred = item.control.copy()\n",
    "        pred = pred.filter(regex=(\".*[^_][^\\d]$\"))\n",
    "        return pred.rename(columns=lambda x: x.replace(\"_ERA\", \"\"))"
   ]
  },
  {
   "cell_type": "code",
   "execution_count": null,
   "id": "9ee5f4b6-f360-43dc-94b1-343144a51ec3",
   "metadata": {},
   "outputs": [],
   "source": [
    "era_imp = ERAImputation()"
   ]
  },
  {
   "cell_type": "code",
   "execution_count": null,
   "id": "7d5f265a-8f2d-44c1-861b-5aa7d70185c1",
   "metadata": {},
   "outputs": [
    {
     "data": {
      "text/html": [
       "<div>\n",
       "<style scoped>\n",
       "    .dataframe tbody tr th:only-of-type {\n",
       "        vertical-align: middle;\n",
       "    }\n",
       "\n",
       "    .dataframe tbody tr th {\n",
       "        vertical-align: top;\n",
       "    }\n",
       "\n",
       "    .dataframe thead th {\n",
       "        text-align: right;\n",
       "    }\n",
       "</style>\n",
       "<table border=\"1\" class=\"dataframe\">\n",
       "  <thead>\n",
       "    <tr style=\"text-align: right;\">\n",
       "      <th></th>\n",
       "      <th>TA</th>\n",
       "      <th>SW_IN</th>\n",
       "      <th>VPD</th>\n",
       "    </tr>\n",
       "    <tr>\n",
       "      <th>time</th>\n",
       "      <th></th>\n",
       "      <th></th>\n",
       "      <th></th>\n",
       "    </tr>\n",
       "  </thead>\n",
       "  <tbody>\n",
       "    <tr>\n",
       "      <th>2002-04-15 16:00:00</th>\n",
       "      <td>6.901</td>\n",
       "      <td>142.510</td>\n",
       "      <td>2.768</td>\n",
       "    </tr>\n",
       "    <tr>\n",
       "      <th>2002-04-15 16:30:00</th>\n",
       "      <td>6.963</td>\n",
       "      <td>42.318</td>\n",
       "      <td>2.865</td>\n",
       "    </tr>\n",
       "    <tr>\n",
       "      <th>2002-04-15 17:00:00</th>\n",
       "      <td>6.759</td>\n",
       "      <td>35.518</td>\n",
       "      <td>2.646</td>\n",
       "    </tr>\n",
       "    <tr>\n",
       "      <th>2002-04-15 17:30:00</th>\n",
       "      <td>6.555</td>\n",
       "      <td>28.323</td>\n",
       "      <td>2.428</td>\n",
       "    </tr>\n",
       "    <tr>\n",
       "      <th>2002-04-15 18:00:00</th>\n",
       "      <td>6.351</td>\n",
       "      <td>20.856</td>\n",
       "      <td>2.209</td>\n",
       "    </tr>\n",
       "    <tr>\n",
       "      <th>...</th>\n",
       "      <td>...</td>\n",
       "      <td>...</td>\n",
       "      <td>...</td>\n",
       "    </tr>\n",
       "    <tr>\n",
       "      <th>2002-04-17 15:30:00</th>\n",
       "      <td>7.845</td>\n",
       "      <td>272.214</td>\n",
       "      <td>2.309</td>\n",
       "    </tr>\n",
       "    <tr>\n",
       "      <th>2002-04-17 16:00:00</th>\n",
       "      <td>8.030</td>\n",
       "      <td>244.161</td>\n",
       "      <td>2.489</td>\n",
       "    </tr>\n",
       "    <tr>\n",
       "      <th>2002-04-17 16:30:00</th>\n",
       "      <td>8.216</td>\n",
       "      <td>139.238</td>\n",
       "      <td>2.668</td>\n",
       "    </tr>\n",
       "    <tr>\n",
       "      <th>2002-04-17 17:00:00</th>\n",
       "      <td>7.935</td>\n",
       "      <td>117.262</td>\n",
       "      <td>2.515</td>\n",
       "    </tr>\n",
       "    <tr>\n",
       "      <th>2002-04-17 17:30:00</th>\n",
       "      <td>7.653</td>\n",
       "      <td>94.016</td>\n",
       "      <td>2.363</td>\n",
       "    </tr>\n",
       "  </tbody>\n",
       "</table>\n",
       "<p>100 rows × 3 columns</p>\n",
       "</div>"
      ],
      "text/plain": [
       "                        TA    SW_IN    VPD\n",
       "time                                      \n",
       "2002-04-15 16:00:00  6.901  142.510  2.768\n",
       "2002-04-15 16:30:00  6.963   42.318  2.865\n",
       "2002-04-15 17:00:00  6.759   35.518  2.646\n",
       "2002-04-15 17:30:00  6.555   28.323  2.428\n",
       "2002-04-15 18:00:00  6.351   20.856  2.209\n",
       "...                    ...      ...    ...\n",
       "2002-04-17 15:30:00  7.845  272.214  2.309\n",
       "2002-04-17 16:00:00  8.030  244.161  2.489\n",
       "2002-04-17 16:30:00  8.216  139.238  2.668\n",
       "2002-04-17 17:00:00  7.935  117.262  2.515\n",
       "2002-04-17 17:30:00  7.653   94.016  2.363\n",
       "\n",
       "[100 rows x 3 columns]"
      ]
     },
     "execution_count": null,
     "metadata": {},
     "output_type": "execute_result"
    }
   ],
   "source": [
    "era_imp(item)"
   ]
  },
  {
   "cell_type": "markdown",
   "id": "c770a0ad-ef66-4cb9-bd72-ff1f8670d84d",
   "metadata": {},
   "source": [
    "## Metric"
   ]
  },
  {
   "cell_type": "code",
   "execution_count": null,
   "id": "1afbc322-539a-483a-a6c6-f4e903a4ee98",
   "metadata": {},
   "outputs": [],
   "source": [
    "from sklearn.metrics import mean_squared_error"
   ]
  },
  {
   "cell_type": "code",
   "execution_count": null,
   "id": "dad52498-03b4-4aac-a8d6-bf7dc6f1cab1",
   "metadata": {},
   "outputs": [],
   "source": [
    "#| export\n",
    "class MaskedMetric:\n",
    "    def __init__(self, metric): store_attr()\n",
    "    def __call__(self, item, pred):\n",
    "        row_sel, col_sel = ~item.mask.all(1), ~item.mask.all(0)\n",
    "        data, mask, pred = item.data.to_numpy(), item.mask.to_numpy(), pred.to_numpy()\n",
    "        assert not mask[:, col_sel][row_sel, :].any() # gap is a rectangle\n",
    "        return self.metric(data[:, col_sel][row_sel, :], pred[:, col_sel][row_sel, :])   "
   ]
  },
  {
   "cell_type": "code",
   "execution_count": null,
   "id": "890f3655-aba8-4139-aa80-8e814c710301",
   "metadata": {},
   "outputs": [],
   "source": [
    "def rmse(y_true, y_pred):\n",
    "    return np.sqrt(mean_squared_error(y_true, y_pred, multioutput='raw_values'))"
   ]
  },
  {
   "cell_type": "code",
   "execution_count": null,
   "id": "499cda2e-447b-4edf-972a-6f256344943a",
   "metadata": {},
   "outputs": [
    {
     "data": {
      "text/plain": [
       "array([0.16843353])"
      ]
     },
     "execution_count": null,
     "metadata": {},
     "output_type": "execute_result"
    }
   ],
   "source": [
    "MaskedMetric(nrmse)(item, pred)"
   ]
  },
  {
   "cell_type": "markdown",
   "id": "3bca0e02-4044-41e0-b579-c728e9c4693e",
   "metadata": {},
   "source": [
    "## Filling Comparison"
   ]
  },
  {
   "cell_type": "markdown",
   "id": "19089690-7ae8-4ddb-924d-9b40224bf4ac",
   "metadata": {},
   "source": [
    "Take a variable to be filled, makes an artificial gap of given len, tries to fill with 3 methods and return metrics for each of them, repeat `n_rep` times"
   ]
  },
  {
   "cell_type": "code",
   "execution_count": null,
   "id": "038c8061-5005-4a02-94b9-992881f46fed",
   "metadata": {},
   "outputs": [],
   "source": [
    "import random"
   ]
  },
  {
   "cell_type": "code",
   "execution_count": null,
   "id": "10ce1b94-e823-4ac0-9190-78f35a1d30de",
   "metadata": {},
   "outputs": [
    {
     "data": {
      "text/plain": [
       "\u001b[0;31mSignature:\u001b[0m \u001b[0mrandom\u001b[0m\u001b[0;34m.\u001b[0m\u001b[0mchoices\u001b[0m\u001b[0;34m(\u001b[0m\u001b[0mpopulation\u001b[0m\u001b[0;34m,\u001b[0m \u001b[0mweights\u001b[0m\u001b[0;34m=\u001b[0m\u001b[0;32mNone\u001b[0m\u001b[0;34m,\u001b[0m \u001b[0;34m*\u001b[0m\u001b[0;34m,\u001b[0m \u001b[0mcum_weights\u001b[0m\u001b[0;34m=\u001b[0m\u001b[0;32mNone\u001b[0m\u001b[0;34m,\u001b[0m \u001b[0mk\u001b[0m\u001b[0;34m=\u001b[0m\u001b[0;36m1\u001b[0m\u001b[0;34m)\u001b[0m\u001b[0;34m\u001b[0m\u001b[0;34m\u001b[0m\u001b[0m\n",
       "\u001b[0;31mDocstring:\u001b[0m\n",
       "Return a k sized list of population elements chosen with replacement.\n",
       "\n",
       "If the relative weights or cumulative weights are not specified,\n",
       "the selections are made with equal probability.\n",
       "\u001b[0;31mFile:\u001b[0m      ~/anaconda3/envs/data-science/lib/python3.10/random.py\n",
       "\u001b[0;31mType:\u001b[0m      method\n"
      ]
     },
     "metadata": {},
     "output_type": "display_data"
    }
   ],
   "source": [
    "random.choices?"
   ]
  },
  {
   "cell_type": "code",
   "execution_count": null,
   "id": "47bd80c3-1cba-4296-8b3d-dbb2bb42c846",
   "metadata": {},
   "outputs": [],
   "source": [
    "def fill_comparison(df, gap_len, var, n_rep):\n",
    "    pipe, block_ids = imp_pipeline(hai, hai_era, [var], gap_len=gap_len, block_len=100, control_lags = [1], n_rep=1)\n",
    "    pipe = Pipeline(pipe[:-3]) \n",
    "    items = pipe(random.choices(block_ids, k=n_rep))\n",
    "    era_imp = ERAImputation()\n",
    "    for item in items:\n",
    "        "
   ]
  },
  {
   "cell_type": "code",
   "execution_count": null,
   "id": "0e9af851-b61d-4235-a35b-5281d985b95d",
   "metadata": {},
   "outputs": [],
   "source": [
    "start = start - 45 * 24 * 2\n",
    "end = end + 45 * 24 * 2"
   ]
  },
  {
   "cell_type": "code",
   "execution_count": null,
   "id": "40f5d4b4-9930-4f15-8714-49e22f35168b",
   "metadata": {},
   "outputs": [],
   "source": [
    "REddy_df = hai.iloc[start:end].assign(gap = (~item.mask['TA']).astype(int)).fillna({'gap': 0})"
   ]
  },
  {
   "cell_type": "code",
   "execution_count": null,
   "id": "ca50d944-723e-41ae-94fc-321e7cf96284",
   "metadata": {},
   "outputs": [
    {
     "data": {
      "text/html": [
       "<div>\n",
       "<style scoped>\n",
       "    .dataframe tbody tr th:only-of-type {\n",
       "        vertical-align: middle;\n",
       "    }\n",
       "\n",
       "    .dataframe tbody tr th {\n",
       "        vertical-align: top;\n",
       "    }\n",
       "\n",
       "    .dataframe thead th {\n",
       "        text-align: right;\n",
       "    }\n",
       "</style>\n",
       "<table border=\"1\" class=\"dataframe\">\n",
       "  <thead>\n",
       "    <tr style=\"text-align: right;\">\n",
       "      <th></th>\n",
       "      <th>TA</th>\n",
       "      <th>SW_IN</th>\n",
       "      <th>VPD</th>\n",
       "      <th>gap</th>\n",
       "    </tr>\n",
       "    <tr>\n",
       "      <th>time</th>\n",
       "      <th></th>\n",
       "      <th></th>\n",
       "      <th></th>\n",
       "      <th></th>\n",
       "    </tr>\n",
       "  </thead>\n",
       "  <tbody>\n",
       "    <tr>\n",
       "      <th>2002-04-16 14:30:00</th>\n",
       "      <td>5.82</td>\n",
       "      <td>240.85</td>\n",
       "      <td>1.998</td>\n",
       "      <td>0.0</td>\n",
       "    </tr>\n",
       "    <tr>\n",
       "      <th>2002-04-16 15:00:00</th>\n",
       "      <td>5.88</td>\n",
       "      <td>271.77</td>\n",
       "      <td>2.097</td>\n",
       "      <td>0.0</td>\n",
       "    </tr>\n",
       "    <tr>\n",
       "      <th>2002-04-16 15:30:00</th>\n",
       "      <td>5.90</td>\n",
       "      <td>188.34</td>\n",
       "      <td>2.041</td>\n",
       "      <td>0.0</td>\n",
       "    </tr>\n",
       "    <tr>\n",
       "      <th>2002-04-16 16:00:00</th>\n",
       "      <td>5.82</td>\n",
       "      <td>114.66</td>\n",
       "      <td>2.030</td>\n",
       "      <td>0.0</td>\n",
       "    </tr>\n",
       "    <tr>\n",
       "      <th>2002-04-16 16:30:00</th>\n",
       "      <td>6.03</td>\n",
       "      <td>153.79</td>\n",
       "      <td>2.181</td>\n",
       "      <td>0.0</td>\n",
       "    </tr>\n",
       "    <tr>\n",
       "      <th>2002-04-16 17:00:00</th>\n",
       "      <td>5.77</td>\n",
       "      <td>100.51</td>\n",
       "      <td>2.013</td>\n",
       "      <td>1.0</td>\n",
       "    </tr>\n",
       "    <tr>\n",
       "      <th>2002-04-16 17:30:00</th>\n",
       "      <td>5.82</td>\n",
       "      <td>89.04</td>\n",
       "      <td>1.986</td>\n",
       "      <td>1.0</td>\n",
       "    </tr>\n",
       "    <tr>\n",
       "      <th>2002-04-16 18:00:00</th>\n",
       "      <td>5.45</td>\n",
       "      <td>24.16</td>\n",
       "      <td>1.747</td>\n",
       "      <td>1.0</td>\n",
       "    </tr>\n",
       "    <tr>\n",
       "      <th>2002-04-16 18:30:00</th>\n",
       "      <td>5.09</td>\n",
       "      <td>22.18</td>\n",
       "      <td>1.484</td>\n",
       "      <td>1.0</td>\n",
       "    </tr>\n",
       "    <tr>\n",
       "      <th>2002-04-16 19:00:00</th>\n",
       "      <td>5.00</td>\n",
       "      <td>8.29</td>\n",
       "      <td>1.440</td>\n",
       "      <td>1.0</td>\n",
       "    </tr>\n",
       "  </tbody>\n",
       "</table>\n",
       "</div>"
      ],
      "text/plain": [
       "                       TA   SW_IN    VPD  gap\n",
       "time                                         \n",
       "2002-04-16 14:30:00  5.82  240.85  1.998  0.0\n",
       "2002-04-16 15:00:00  5.88  271.77  2.097  0.0\n",
       "2002-04-16 15:30:00  5.90  188.34  2.041  0.0\n",
       "2002-04-16 16:00:00  5.82  114.66  2.030  0.0\n",
       "2002-04-16 16:30:00  6.03  153.79  2.181  0.0\n",
       "2002-04-16 17:00:00  5.77  100.51  2.013  1.0\n",
       "2002-04-16 17:30:00  5.82   89.04  1.986  1.0\n",
       "2002-04-16 18:00:00  5.45   24.16  1.747  1.0\n",
       "2002-04-16 18:30:00  5.09   22.18  1.484  1.0\n",
       "2002-04-16 19:00:00  5.00    8.29  1.440  1.0"
      ]
     },
     "execution_count": null,
     "metadata": {},
     "output_type": "execute_result"
    }
   ],
   "source": [
    "REddy_df.loc[item.data.index][45:55]"
   ]
  },
  {
   "cell_type": "code",
   "execution_count": null,
   "id": "fd59867b-27ea-4e62-88cb-303e6cd6f106",
   "metadata": {},
   "outputs": [],
   "source": [
    "REddy_df = REddy_df.reset_index().astype({'time': str}).rename(columns={'time': 'TIMESTAMP_END'})"
   ]
  },
  {
   "cell_type": "code",
   "execution_count": null,
   "id": "89afb3ed-03e8-4c6c-8e9a-8bcf7f1bad14",
   "metadata": {},
   "outputs": [
    {
     "data": {
      "text/plain": [
       "TIMESTAMP_END     object\n",
       "TA               float64\n",
       "SW_IN            float64\n",
       "VPD              float64\n",
       "gap              float64\n",
       "dtype: object"
      ]
     },
     "execution_count": null,
     "metadata": {},
     "output_type": "execute_result"
    }
   ],
   "source": [
    "REddy_df.dtypes"
   ]
  },
  {
   "cell_type": "code",
   "execution_count": null,
   "id": "a42a4462-810e-4b9d-8f51-78393a6148e8",
   "metadata": {},
   "outputs": [
    {
     "data": {
      "text/plain": [
       "rpy2.robjects.packages.Package as a <module 'lubridate'>"
      ]
     },
     "execution_count": null,
     "metadata": {},
     "output_type": "execute_result"
    }
   ],
   "source": [
    "importr('lubridate')"
   ]
  },
  {
   "cell_type": "code",
   "execution_count": null,
   "id": "42ecd7b8-369e-41c9-9005-f6cc1f251b6c",
   "metadata": {},
   "outputs": [],
   "source": [
    "%%R\n",
    "toR_timestamp <- function(x){\n",
    "   x$TIMESTAMP_END = as_datetime(x$TIMESTAMP_END) \n",
    "    x\n",
    "}"
   ]
  },
  {
   "cell_type": "code",
   "execution_count": null,
   "id": "7261553b-5dca-4654-a404-1f8f87b3f375",
   "metadata": {},
   "outputs": [],
   "source": [
    "with ro.default_converter + pandas2ri.converter:\n",
    "      REddy_df_r = ro.conversion.py2rpy(REddy_df)"
   ]
  },
  {
   "cell_type": "code",
   "execution_count": null,
   "id": "a9a9844a-0498-44a8-8713-33543876241d",
   "metadata": {},
   "outputs": [],
   "source": [
    "with ro.default_converter + pandas2ri.converter:\n",
    "      pd_filled = ro.conversion.get_conversion().rpy2py(filled)"
   ]
  },
  {
   "cell_type": "code",
   "execution_count": null,
   "id": "0afd6836-8562-4682-9b86-83210e300272",
   "metadata": {},
   "outputs": [
    {
     "data": {
      "text/html": [
       "<div>\n",
       "<style scoped>\n",
       "    .dataframe tbody tr th:only-of-type {\n",
       "        vertical-align: middle;\n",
       "    }\n",
       "\n",
       "    .dataframe tbody tr th {\n",
       "        vertical-align: top;\n",
       "    }\n",
       "\n",
       "    .dataframe thead th {\n",
       "        text-align: right;\n",
       "    }\n",
       "</style>\n",
       "<table border=\"1\" class=\"dataframe\">\n",
       "  <thead>\n",
       "    <tr style=\"text-align: right;\">\n",
       "      <th></th>\n",
       "      <th>TIMESTAMP_END</th>\n",
       "      <th>TA</th>\n",
       "      <th>SW_IN</th>\n",
       "      <th>VPD</th>\n",
       "      <th>gap</th>\n",
       "    </tr>\n",
       "  </thead>\n",
       "  <tbody>\n",
       "    <tr>\n",
       "      <th>2210</th>\n",
       "      <td>2002-04-16 17:00:00</td>\n",
       "      <td>5.77</td>\n",
       "      <td>100.51</td>\n",
       "      <td>2.013</td>\n",
       "      <td>1.0</td>\n",
       "    </tr>\n",
       "    <tr>\n",
       "      <th>2211</th>\n",
       "      <td>2002-04-16 17:30:00</td>\n",
       "      <td>5.82</td>\n",
       "      <td>89.04</td>\n",
       "      <td>1.986</td>\n",
       "      <td>1.0</td>\n",
       "    </tr>\n",
       "    <tr>\n",
       "      <th>2212</th>\n",
       "      <td>2002-04-16 18:00:00</td>\n",
       "      <td>5.45</td>\n",
       "      <td>24.16</td>\n",
       "      <td>1.747</td>\n",
       "      <td>1.0</td>\n",
       "    </tr>\n",
       "    <tr>\n",
       "      <th>2213</th>\n",
       "      <td>2002-04-16 18:30:00</td>\n",
       "      <td>5.09</td>\n",
       "      <td>22.18</td>\n",
       "      <td>1.484</td>\n",
       "      <td>1.0</td>\n",
       "    </tr>\n",
       "    <tr>\n",
       "      <th>2214</th>\n",
       "      <td>2002-04-16 19:00:00</td>\n",
       "      <td>5.00</td>\n",
       "      <td>8.29</td>\n",
       "      <td>1.440</td>\n",
       "      <td>1.0</td>\n",
       "    </tr>\n",
       "    <tr>\n",
       "      <th>2215</th>\n",
       "      <td>2002-04-16 19:30:00</td>\n",
       "      <td>4.82</td>\n",
       "      <td>0.89</td>\n",
       "      <td>1.342</td>\n",
       "      <td>1.0</td>\n",
       "    </tr>\n",
       "    <tr>\n",
       "      <th>2216</th>\n",
       "      <td>2002-04-16 20:00:00</td>\n",
       "      <td>4.49</td>\n",
       "      <td>0.00</td>\n",
       "      <td>1.111</td>\n",
       "      <td>1.0</td>\n",
       "    </tr>\n",
       "    <tr>\n",
       "      <th>2217</th>\n",
       "      <td>2002-04-16 20:30:00</td>\n",
       "      <td>4.48</td>\n",
       "      <td>0.00</td>\n",
       "      <td>1.102</td>\n",
       "      <td>1.0</td>\n",
       "    </tr>\n",
       "    <tr>\n",
       "      <th>2218</th>\n",
       "      <td>2002-04-16 21:00:00</td>\n",
       "      <td>4.29</td>\n",
       "      <td>0.00</td>\n",
       "      <td>1.044</td>\n",
       "      <td>1.0</td>\n",
       "    </tr>\n",
       "    <tr>\n",
       "      <th>2219</th>\n",
       "      <td>2002-04-16 21:30:00</td>\n",
       "      <td>4.26</td>\n",
       "      <td>0.00</td>\n",
       "      <td>1.116</td>\n",
       "      <td>1.0</td>\n",
       "    </tr>\n",
       "  </tbody>\n",
       "</table>\n",
       "</div>"
      ],
      "text/plain": [
       "            TIMESTAMP_END    TA   SW_IN    VPD  gap\n",
       "2210  2002-04-16 17:00:00  5.77  100.51  2.013  1.0\n",
       "2211  2002-04-16 17:30:00  5.82   89.04  1.986  1.0\n",
       "2212  2002-04-16 18:00:00  5.45   24.16  1.747  1.0\n",
       "2213  2002-04-16 18:30:00  5.09   22.18  1.484  1.0\n",
       "2214  2002-04-16 19:00:00  5.00    8.29  1.440  1.0\n",
       "2215  2002-04-16 19:30:00  4.82    0.89  1.342  1.0\n",
       "2216  2002-04-16 20:00:00  4.49    0.00  1.111  1.0\n",
       "2217  2002-04-16 20:30:00  4.48    0.00  1.102  1.0\n",
       "2218  2002-04-16 21:00:00  4.29    0.00  1.044  1.0\n",
       "2219  2002-04-16 21:30:00  4.26    0.00  1.116  1.0"
      ]
     },
     "execution_count": null,
     "metadata": {},
     "output_type": "execute_result"
    }
   ],
   "source": [
    "REddy_df[REddy_df.gap !=0]"
   ]
  },
  {
   "cell_type": "code",
   "execution_count": null,
   "id": "fa9b0dd7-a58a-48e2-b02b-fc071b5dfa7d",
   "metadata": {},
   "outputs": [
    {
     "data": {
      "text/html": [
       "<div>\n",
       "<style scoped>\n",
       "    .dataframe tbody tr th:only-of-type {\n",
       "        vertical-align: middle;\n",
       "    }\n",
       "\n",
       "    .dataframe tbody tr th {\n",
       "        vertical-align: top;\n",
       "    }\n",
       "\n",
       "    .dataframe thead th {\n",
       "        text-align: right;\n",
       "    }\n",
       "</style>\n",
       "<table border=\"1\" class=\"dataframe\">\n",
       "  <thead>\n",
       "    <tr style=\"text-align: right;\">\n",
       "      <th></th>\n",
       "      <th>TA_orig</th>\n",
       "      <th>TA_f</th>\n",
       "      <th>TA_fqc</th>\n",
       "      <th>TA_fall</th>\n",
       "      <th>TA_fall_qc</th>\n",
       "      <th>TA_fnum</th>\n",
       "      <th>TA_fsd</th>\n",
       "      <th>TA_fmeth</th>\n",
       "      <th>TA_fwin</th>\n",
       "    </tr>\n",
       "  </thead>\n",
       "  <tbody>\n",
       "    <tr>\n",
       "      <th>2211</th>\n",
       "      <td>NaN</td>\n",
       "      <td>5.075889</td>\n",
       "      <td>1.0</td>\n",
       "      <td>5.075889</td>\n",
       "      <td>1.0</td>\n",
       "      <td>90.0</td>\n",
       "      <td>2.690751</td>\n",
       "      <td>2.0</td>\n",
       "      <td>14.0</td>\n",
       "    </tr>\n",
       "    <tr>\n",
       "      <th>2212</th>\n",
       "      <td>NaN</td>\n",
       "      <td>5.185888</td>\n",
       "      <td>1.0</td>\n",
       "      <td>5.185888</td>\n",
       "      <td>1.0</td>\n",
       "      <td>107.0</td>\n",
       "      <td>2.761757</td>\n",
       "      <td>2.0</td>\n",
       "      <td>14.0</td>\n",
       "    </tr>\n",
       "    <tr>\n",
       "      <th>2213</th>\n",
       "      <td>NaN</td>\n",
       "      <td>5.353310</td>\n",
       "      <td>1.0</td>\n",
       "      <td>5.353310</td>\n",
       "      <td>1.0</td>\n",
       "      <td>420.0</td>\n",
       "      <td>2.803028</td>\n",
       "      <td>2.0</td>\n",
       "      <td>14.0</td>\n",
       "    </tr>\n",
       "    <tr>\n",
       "      <th>2214</th>\n",
       "      <td>NaN</td>\n",
       "      <td>5.384187</td>\n",
       "      <td>1.0</td>\n",
       "      <td>5.384187</td>\n",
       "      <td>1.0</td>\n",
       "      <td>418.0</td>\n",
       "      <td>2.826861</td>\n",
       "      <td>2.0</td>\n",
       "      <td>14.0</td>\n",
       "    </tr>\n",
       "    <tr>\n",
       "      <th>2215</th>\n",
       "      <td>NaN</td>\n",
       "      <td>5.442061</td>\n",
       "      <td>1.0</td>\n",
       "      <td>5.442061</td>\n",
       "      <td>1.0</td>\n",
       "      <td>393.0</td>\n",
       "      <td>2.859437</td>\n",
       "      <td>2.0</td>\n",
       "      <td>14.0</td>\n",
       "    </tr>\n",
       "    <tr>\n",
       "      <th>2216</th>\n",
       "      <td>NaN</td>\n",
       "      <td>5.484188</td>\n",
       "      <td>1.0</td>\n",
       "      <td>5.484188</td>\n",
       "      <td>1.0</td>\n",
       "      <td>382.0</td>\n",
       "      <td>2.869645</td>\n",
       "      <td>2.0</td>\n",
       "      <td>14.0</td>\n",
       "    </tr>\n",
       "    <tr>\n",
       "      <th>2217</th>\n",
       "      <td>NaN</td>\n",
       "      <td>5.497816</td>\n",
       "      <td>1.0</td>\n",
       "      <td>5.497816</td>\n",
       "      <td>1.0</td>\n",
       "      <td>380.0</td>\n",
       "      <td>2.885646</td>\n",
       "      <td>2.0</td>\n",
       "      <td>14.0</td>\n",
       "    </tr>\n",
       "    <tr>\n",
       "      <th>2218</th>\n",
       "      <td>NaN</td>\n",
       "      <td>5.516737</td>\n",
       "      <td>1.0</td>\n",
       "      <td>5.516737</td>\n",
       "      <td>1.0</td>\n",
       "      <td>380.0</td>\n",
       "      <td>2.904111</td>\n",
       "      <td>2.0</td>\n",
       "      <td>14.0</td>\n",
       "    </tr>\n",
       "    <tr>\n",
       "      <th>2219</th>\n",
       "      <td>NaN</td>\n",
       "      <td>5.536526</td>\n",
       "      <td>1.0</td>\n",
       "      <td>5.536526</td>\n",
       "      <td>1.0</td>\n",
       "      <td>380.0</td>\n",
       "      <td>2.920621</td>\n",
       "      <td>2.0</td>\n",
       "      <td>14.0</td>\n",
       "    </tr>\n",
       "    <tr>\n",
       "      <th>2220</th>\n",
       "      <td>NaN</td>\n",
       "      <td>5.557000</td>\n",
       "      <td>1.0</td>\n",
       "      <td>5.557000</td>\n",
       "      <td>1.0</td>\n",
       "      <td>380.0</td>\n",
       "      <td>2.935087</td>\n",
       "      <td>2.0</td>\n",
       "      <td>14.0</td>\n",
       "    </tr>\n",
       "  </tbody>\n",
       "</table>\n",
       "</div>"
      ],
      "text/plain": [
       "      TA_orig      TA_f  TA_fqc   TA_fall  TA_fall_qc  TA_fnum    TA_fsd  \\\n",
       "2211      NaN  5.075889     1.0  5.075889         1.0     90.0  2.690751   \n",
       "2212      NaN  5.185888     1.0  5.185888         1.0    107.0  2.761757   \n",
       "2213      NaN  5.353310     1.0  5.353310         1.0    420.0  2.803028   \n",
       "2214      NaN  5.384187     1.0  5.384187         1.0    418.0  2.826861   \n",
       "2215      NaN  5.442061     1.0  5.442061         1.0    393.0  2.859437   \n",
       "2216      NaN  5.484188     1.0  5.484188         1.0    382.0  2.869645   \n",
       "2217      NaN  5.497816     1.0  5.497816         1.0    380.0  2.885646   \n",
       "2218      NaN  5.516737     1.0  5.516737         1.0    380.0  2.904111   \n",
       "2219      NaN  5.536526     1.0  5.536526         1.0    380.0  2.920621   \n",
       "2220      NaN  5.557000     1.0  5.557000         1.0    380.0  2.935087   \n",
       "\n",
       "      TA_fmeth  TA_fwin  \n",
       "2211       2.0     14.0  \n",
       "2212       2.0     14.0  \n",
       "2213       2.0     14.0  \n",
       "2214       2.0     14.0  \n",
       "2215       2.0     14.0  \n",
       "2216       2.0     14.0  \n",
       "2217       2.0     14.0  \n",
       "2218       2.0     14.0  \n",
       "2219       2.0     14.0  \n",
       "2220       2.0     14.0  "
      ]
     },
     "execution_count": null,
     "metadata": {},
     "output_type": "execute_result"
    }
   ],
   "source": [
    "pd_filled[pd_filled.TA_fqc!=0]"
   ]
  },
  {
   "cell_type": "code",
   "execution_count": null,
   "id": "7f259ac1-ff49-4e94-bd1d-297912db31e5",
   "metadata": {},
   "outputs": [
    {
     "name": "stderr",
     "output_type": "stream",
     "text": [
      "R[write to console]: Error in h(simpleError(msg, call)) : \n",
      "  error in evaluating the argument 'x' in selecting a method for function 'as_datetime': object 'REddy_df' not found\n",
      "\n"
     ]
    },
    {
     "ename": "RRuntimeError",
     "evalue": "Error in h(simpleError(msg, call)) : \n  error in evaluating the argument 'x' in selecting a method for function 'as_datetime': object 'REddy_df' not found\n",
     "output_type": "error",
     "traceback": [
      "\u001b[0;31m---------------------------------------------------------------------------\u001b[0m",
      "\u001b[0;31mRRuntimeError\u001b[0m                             Traceback (most recent call last)",
      "Input \u001b[0;32mIn [30]\u001b[0m, in \u001b[0;36m<cell line: 1>\u001b[0;34m()\u001b[0m\n\u001b[0;32m----> 1\u001b[0m \u001b[43mr\u001b[49m\u001b[43m(\u001b[49m\u001b[38;5;124;43m\"\u001b[39;49m\u001b[38;5;124;43mREddy_df$TIMESTAMP_END = as_datetime(REddy_df$TIMESTAMP_END)\u001b[39;49m\u001b[38;5;124;43m\"\u001b[39;49m\u001b[43m)\u001b[49m\n\u001b[1;32m      2\u001b[0m filled \u001b[38;5;241m=\u001b[39m r(\u001b[38;5;124m\"\u001b[39m\u001b[38;5;124mfill_gaps_EProc(REddy_df, \u001b[39m\u001b[38;5;124m'\u001b[39m\u001b[38;5;124mTA\u001b[39m\u001b[38;5;124m'\u001b[39m\u001b[38;5;124m)\u001b[39m\u001b[38;5;124m\"\u001b[39m)\n",
      "File \u001b[0;32m~/anaconda3/envs/data-science/lib/python3.10/site-packages/rpy2/robjects/__init__.py:459\u001b[0m, in \u001b[0;36mR.__call__\u001b[0;34m(self, string)\u001b[0m\n\u001b[1;32m    457\u001b[0m \u001b[38;5;28;01mdef\u001b[39;00m \u001b[38;5;21m__call__\u001b[39m(\u001b[38;5;28mself\u001b[39m, string):\n\u001b[1;32m    458\u001b[0m     p \u001b[38;5;241m=\u001b[39m rinterface\u001b[38;5;241m.\u001b[39mparse(string)\n\u001b[0;32m--> 459\u001b[0m     res \u001b[38;5;241m=\u001b[39m \u001b[38;5;28;43mself\u001b[39;49m\u001b[38;5;241;43m.\u001b[39;49m\u001b[43meval\u001b[49m\u001b[43m(\u001b[49m\u001b[43mp\u001b[49m\u001b[43m)\u001b[49m\n\u001b[1;32m    460\u001b[0m     \u001b[38;5;28;01mreturn\u001b[39;00m conversion\u001b[38;5;241m.\u001b[39mget_conversion()\u001b[38;5;241m.\u001b[39mrpy2py(res)\n",
      "File \u001b[0;32m~/anaconda3/envs/data-science/lib/python3.10/site-packages/rpy2/robjects/functions.py:204\u001b[0m, in \u001b[0;36mSignatureTranslatedFunction.__call__\u001b[0;34m(self, *args, **kwargs)\u001b[0m\n\u001b[1;32m    202\u001b[0m         v \u001b[38;5;241m=\u001b[39m kwargs\u001b[38;5;241m.\u001b[39mpop(k)\n\u001b[1;32m    203\u001b[0m         kwargs[r_k] \u001b[38;5;241m=\u001b[39m v\n\u001b[0;32m--> 204\u001b[0m \u001b[38;5;28;01mreturn\u001b[39;00m (\u001b[38;5;28;43msuper\u001b[39;49m\u001b[43m(\u001b[49m\u001b[43mSignatureTranslatedFunction\u001b[49m\u001b[43m,\u001b[49m\u001b[43m \u001b[49m\u001b[38;5;28;43mself\u001b[39;49m\u001b[43m)\u001b[49m\n\u001b[1;32m    205\u001b[0m \u001b[43m        \u001b[49m\u001b[38;5;241;43m.\u001b[39;49m\u001b[38;5;21;43m__call__\u001b[39;49m\u001b[43m(\u001b[49m\u001b[38;5;241;43m*\u001b[39;49m\u001b[43margs\u001b[49m\u001b[43m,\u001b[49m\u001b[43m \u001b[49m\u001b[38;5;241;43m*\u001b[39;49m\u001b[38;5;241;43m*\u001b[39;49m\u001b[43mkwargs\u001b[49m\u001b[43m)\u001b[49m)\n",
      "File \u001b[0;32m~/anaconda3/envs/data-science/lib/python3.10/site-packages/rpy2/robjects/functions.py:127\u001b[0m, in \u001b[0;36mFunction.__call__\u001b[0;34m(self, *args, **kwargs)\u001b[0m\n\u001b[1;32m    125\u001b[0m     \u001b[38;5;28;01melse\u001b[39;00m:\n\u001b[1;32m    126\u001b[0m         new_kwargs[k] \u001b[38;5;241m=\u001b[39m cv\u001b[38;5;241m.\u001b[39mpy2rpy(v)\n\u001b[0;32m--> 127\u001b[0m res \u001b[38;5;241m=\u001b[39m \u001b[38;5;28;43msuper\u001b[39;49m\u001b[43m(\u001b[49m\u001b[43mFunction\u001b[49m\u001b[43m,\u001b[49m\u001b[43m \u001b[49m\u001b[38;5;28;43mself\u001b[39;49m\u001b[43m)\u001b[49m\u001b[38;5;241;43m.\u001b[39;49m\u001b[38;5;21;43m__call__\u001b[39;49m\u001b[43m(\u001b[49m\u001b[38;5;241;43m*\u001b[39;49m\u001b[43mnew_args\u001b[49m\u001b[43m,\u001b[49m\u001b[43m \u001b[49m\u001b[38;5;241;43m*\u001b[39;49m\u001b[38;5;241;43m*\u001b[39;49m\u001b[43mnew_kwargs\u001b[49m\u001b[43m)\u001b[49m\n\u001b[1;32m    128\u001b[0m res \u001b[38;5;241m=\u001b[39m cv\u001b[38;5;241m.\u001b[39mrpy2py(res)\n\u001b[1;32m    129\u001b[0m \u001b[38;5;28;01mreturn\u001b[39;00m res\n",
      "File \u001b[0;32m~/anaconda3/envs/data-science/lib/python3.10/site-packages/rpy2/rinterface_lib/conversion.py:45\u001b[0m, in \u001b[0;36m_cdata_res_to_rinterface.<locals>._\u001b[0;34m(*args, **kwargs)\u001b[0m\n\u001b[1;32m     44\u001b[0m \u001b[38;5;28;01mdef\u001b[39;00m \u001b[38;5;21m_\u001b[39m(\u001b[38;5;241m*\u001b[39margs, \u001b[38;5;241m*\u001b[39m\u001b[38;5;241m*\u001b[39mkwargs):\n\u001b[0;32m---> 45\u001b[0m     cdata \u001b[38;5;241m=\u001b[39m \u001b[43mfunction\u001b[49m\u001b[43m(\u001b[49m\u001b[38;5;241;43m*\u001b[39;49m\u001b[43margs\u001b[49m\u001b[43m,\u001b[49m\u001b[43m \u001b[49m\u001b[38;5;241;43m*\u001b[39;49m\u001b[38;5;241;43m*\u001b[39;49m\u001b[43mkwargs\u001b[49m\u001b[43m)\u001b[49m\n\u001b[1;32m     46\u001b[0m     \u001b[38;5;66;03m# TODO: test cdata is of the expected CType\u001b[39;00m\n\u001b[1;32m     47\u001b[0m     \u001b[38;5;28;01mreturn\u001b[39;00m _cdata_to_rinterface(cdata)\n",
      "File \u001b[0;32m~/anaconda3/envs/data-science/lib/python3.10/site-packages/rpy2/rinterface.py:817\u001b[0m, in \u001b[0;36mSexpClosure.__call__\u001b[0;34m(self, *args, **kwargs)\u001b[0m\n\u001b[1;32m    810\u001b[0m     res \u001b[38;5;241m=\u001b[39m rmemory\u001b[38;5;241m.\u001b[39mprotect(\n\u001b[1;32m    811\u001b[0m         openrlib\u001b[38;5;241m.\u001b[39mrlib\u001b[38;5;241m.\u001b[39mR_tryEval(\n\u001b[1;32m    812\u001b[0m             call_r,\n\u001b[1;32m    813\u001b[0m             call_context\u001b[38;5;241m.\u001b[39m__sexp__\u001b[38;5;241m.\u001b[39m_cdata,\n\u001b[1;32m    814\u001b[0m             error_occured)\n\u001b[1;32m    815\u001b[0m     )\n\u001b[1;32m    816\u001b[0m     \u001b[38;5;28;01mif\u001b[39;00m error_occured[\u001b[38;5;241m0\u001b[39m]:\n\u001b[0;32m--> 817\u001b[0m         \u001b[38;5;28;01mraise\u001b[39;00m embedded\u001b[38;5;241m.\u001b[39mRRuntimeError(_rinterface\u001b[38;5;241m.\u001b[39m_geterrmessage())\n\u001b[1;32m    818\u001b[0m \u001b[38;5;28;01mreturn\u001b[39;00m res\n",
      "\u001b[0;31mRRuntimeError\u001b[0m: Error in h(simpleError(msg, call)) : \n  error in evaluating the argument 'x' in selecting a method for function 'as_datetime': object 'REddy_df' not found\n"
     ]
    }
   ],
   "source": [
    "r(\"REddy_df$TIMESTAMP_END = as_datetime(REddy_df$TIMESTAMP_END)\")\n",
    "filled = r(\"fill_gaps_EProc(REddy_df, 'TA')\")"
   ]
  },
  {
   "cell_type": "code",
   "execution_count": null,
   "id": "0585e51d-3715-430d-8802-1e587690ef65",
   "metadata": {},
   "outputs": [],
   "source": [
    "%%R -i REddy_df\n",
    "# print(slice(REddy_df, 1410:1420))\n",
    "REddy_df$TIMESTAMP_END = as_datetime(REddy_df$TIMESTAMP_END)\n",
    "class(REddy_df$TIMESTAMP_END)\n",
    "str(REddy_df)\n",
    "# REddy_df_r$TIMESTAMP_END[1412] - REddy_df_r$TIMESTAMP_END[1413]\n",
    "# ((REddy_df$TIMESTAMP_END - lag(REddy_df$TIMESTAMP_END)))[1410:1420]\n",
    "# which((REddy_df_r$TIMESTAMP_END - lag(REddy_df_r$TIMESTAMP_END)) != 30)\n",
    "fill = fill_gaps_EProc(REddy_df, \"TA\")\n"
   ]
  },
  {
   "cell_type": "code",
   "execution_count": null,
   "id": "f0136024-17e7-4e63-b83b-758085017b31",
   "metadata": {},
   "outputs": [],
   "source": [
    "REddy_df.iloc[1410:1420]"
   ]
  },
  {
   "cell_type": "code",
   "execution_count": null,
   "id": "b9c2765c-e0d8-4945-94d2-f21b67e9ca2e",
   "metadata": {},
   "outputs": [
    {
     "data": {
      "text/html": [
       "\n",
       "        <span>FloatVector with 227952 elements.</span>\n",
       "        <table>\n",
       "        <tbody>\n",
       "          <tr>\n",
       "          \n",
       "            <td>\n",
       "            -0.600000\n",
       "            </td>\n",
       "          \n",
       "            <td>\n",
       "            -0.650000\n",
       "            </td>\n",
       "          \n",
       "            <td>\n",
       "            -0.580000\n",
       "            </td>\n",
       "          \n",
       "            <td>\n",
       "            ...\n",
       "            </td>\n",
       "          \n",
       "            <td>\n",
       "            4.320000\n",
       "            </td>\n",
       "          \n",
       "            <td>\n",
       "            4.020000\n",
       "            </td>\n",
       "          \n",
       "            <td>\n",
       "            3.990000\n",
       "            </td>\n",
       "          \n",
       "          </tr>\n",
       "        </tbody>\n",
       "        </table>\n",
       "        "
      ],
      "text/plain": [
       "<rpy2.robjects.vectors.FloatVector object> [RTYPES.REALSXP]\n",
       "R classes: ('numeric',)\n",
       "[-0.600000, -0.650000, -0.580000, -0.510000, ..., 4.480000, 4.320000, 4.020000, 3.990000]"
      ]
     },
     "execution_count": null,
     "metadata": {},
     "output_type": "execute_result"
    }
   ],
   "source": [
    "REddy_df_r[1]"
   ]
  },
  {
   "cell_type": "code",
   "execution_count": null,
   "id": "39600724-ec66-4360-be67-6486b61db26d",
   "metadata": {},
   "outputs": [
    {
     "data": {
      "text/html": [
       "\n",
       "        <span>R/rpy2 DataFrame (227952 x 5)</span>\n",
       "        <table>\n",
       "          <thead>\n",
       "            <tr>\n",
       "              \n",
       "              <th>TIMESTAMP_END</th>\n",
       "              \n",
       "              <th>TA</th>\n",
       "              \n",
       "              <th>SW_IN</th>\n",
       "              \n",
       "              <th>VPD</th>\n",
       "              \n",
       "              <th>gap</th>\n",
       "              \n",
       "            </tr>\n",
       "          </thead>\n",
       "          <tbody>\n",
       "          \n",
       "          <tr>\n",
       "            \n",
       "            <td>\n",
       "              ...\n",
       "            </td>\n",
       "            \n",
       "            <td>\n",
       "              ...\n",
       "            </td>\n",
       "            \n",
       "            <td>\n",
       "              ...\n",
       "            </td>\n",
       "            \n",
       "            <td>\n",
       "              ...\n",
       "            </td>\n",
       "            \n",
       "            <td>\n",
       "              ...\n",
       "            </td>\n",
       "            \n",
       "          </tr>\n",
       "          \n",
       "          </tbody>\n",
       "        </table>\n",
       "    "
      ],
      "text/plain": [
       "<rpy2.robjects.vectors.DataFrame object> [RTYPES.VECSXP]\n",
       "R classes: ('data.frame',)\n",
       "[FloatSe..., FloatSe..., FloatSe..., FloatSe..., FloatSe...]\n",
       "  TIMESTAMP_END: <class 'rpy2.rinterface.FloatSexpVector'>\n",
       "  <rpy2.rinterface.FloatSexpVector object> [RTYPES.REALSXP]\n",
       "  TA: <class 'rpy2.rinterface.FloatSexpVector'>\n",
       "  <rpy2.rinterface.FloatSexpVector object> [RTYPES.REALSXP]\n",
       "  SW_IN: <class 'rpy2.rinterface.FloatSexpVector'>\n",
       "  <rpy2.rinterface.FloatSexpVector object> [RTYPES.REALSXP]\n",
       "  VPD: <class 'rpy2.rinterface.FloatSexpVector'>\n",
       "  <rpy2.rinterface.FloatSexpVector object> [RTYPES.REALSXP]\n",
       "  gap: <class 'rpy2.rinterface.FloatSexpVector'>\n",
       "  <rpy2.rinterface.FloatSexpVector object> [RTYPES.REALSXP]"
      ]
     },
     "execution_count": null,
     "metadata": {},
     "output_type": "execute_result"
    }
   ],
   "source": [
    "REddy_df_r"
   ]
  },
  {
   "cell_type": "code",
   "execution_count": null,
   "id": "2768dc42-0bbe-41d3-bbf3-d7a715d3712d",
   "metadata": {},
   "outputs": [
    {
     "name": "stdout",
     "output_type": "stream",
     "text": [
      "Error:\n",
      "! Problem while computing indices.\n",
      "Caused by error:\n",
      "! Invalid result of type <character>.\n",
      "ℹ Indices must be positive or negative integers.\n",
      "Run `rlang::last_error()` to see where the error occurred.\n"
     ]
    },
    {
     "ename": "RRuntimeError",
     "evalue": "Error in (function (.data, ..., .preserve = FALSE)  : \nCaused by error:\n! Invalid result of type <character>.\nℹ Indices must be positive or negative integers.\n",
     "output_type": "error",
     "traceback": [
      "\u001b[0;31m---------------------------------------------------------------------------\u001b[0m",
      "\u001b[0;31mRRuntimeError\u001b[0m                             Traceback (most recent call last)",
      "Input \u001b[0;32mIn [150]\u001b[0m, in \u001b[0;36m<cell line: 1>\u001b[0;34m()\u001b[0m\n\u001b[0;32m----> 1\u001b[0m \u001b[43mr\u001b[49m\u001b[38;5;241;43m.\u001b[39;49m\u001b[43mslice\u001b[49m\u001b[43m(\u001b[49m\u001b[43mREddy_df_r\u001b[49m\u001b[43m,\u001b[49m\u001b[43m \u001b[49m\u001b[38;5;124;43m\"\u001b[39;49m\u001b[38;5;124;43m4080:4085\u001b[39;49m\u001b[38;5;124;43m\"\u001b[39;49m\u001b[43m)\u001b[49m\n",
      "File \u001b[0;32m~/anaconda3/envs/data-science/lib/python3.10/site-packages/rpy2/robjects/functions.py:204\u001b[0m, in \u001b[0;36mSignatureTranslatedFunction.__call__\u001b[0;34m(self, *args, **kwargs)\u001b[0m\n\u001b[1;32m    202\u001b[0m         v \u001b[38;5;241m=\u001b[39m kwargs\u001b[38;5;241m.\u001b[39mpop(k)\n\u001b[1;32m    203\u001b[0m         kwargs[r_k] \u001b[38;5;241m=\u001b[39m v\n\u001b[0;32m--> 204\u001b[0m \u001b[38;5;28;01mreturn\u001b[39;00m (\u001b[38;5;28;43msuper\u001b[39;49m\u001b[43m(\u001b[49m\u001b[43mSignatureTranslatedFunction\u001b[49m\u001b[43m,\u001b[49m\u001b[43m \u001b[49m\u001b[38;5;28;43mself\u001b[39;49m\u001b[43m)\u001b[49m\n\u001b[1;32m    205\u001b[0m \u001b[43m        \u001b[49m\u001b[38;5;241;43m.\u001b[39;49m\u001b[38;5;21;43m__call__\u001b[39;49m\u001b[43m(\u001b[49m\u001b[38;5;241;43m*\u001b[39;49m\u001b[43margs\u001b[49m\u001b[43m,\u001b[49m\u001b[43m \u001b[49m\u001b[38;5;241;43m*\u001b[39;49m\u001b[38;5;241;43m*\u001b[39;49m\u001b[43mkwargs\u001b[49m\u001b[43m)\u001b[49m)\n",
      "File \u001b[0;32m~/anaconda3/envs/data-science/lib/python3.10/site-packages/rpy2/robjects/functions.py:127\u001b[0m, in \u001b[0;36mFunction.__call__\u001b[0;34m(self, *args, **kwargs)\u001b[0m\n\u001b[1;32m    125\u001b[0m     \u001b[38;5;28;01melse\u001b[39;00m:\n\u001b[1;32m    126\u001b[0m         new_kwargs[k] \u001b[38;5;241m=\u001b[39m cv\u001b[38;5;241m.\u001b[39mpy2rpy(v)\n\u001b[0;32m--> 127\u001b[0m res \u001b[38;5;241m=\u001b[39m \u001b[38;5;28;43msuper\u001b[39;49m\u001b[43m(\u001b[49m\u001b[43mFunction\u001b[49m\u001b[43m,\u001b[49m\u001b[43m \u001b[49m\u001b[38;5;28;43mself\u001b[39;49m\u001b[43m)\u001b[49m\u001b[38;5;241;43m.\u001b[39;49m\u001b[38;5;21;43m__call__\u001b[39;49m\u001b[43m(\u001b[49m\u001b[38;5;241;43m*\u001b[39;49m\u001b[43mnew_args\u001b[49m\u001b[43m,\u001b[49m\u001b[43m \u001b[49m\u001b[38;5;241;43m*\u001b[39;49m\u001b[38;5;241;43m*\u001b[39;49m\u001b[43mnew_kwargs\u001b[49m\u001b[43m)\u001b[49m\n\u001b[1;32m    128\u001b[0m res \u001b[38;5;241m=\u001b[39m cv\u001b[38;5;241m.\u001b[39mrpy2py(res)\n\u001b[1;32m    129\u001b[0m \u001b[38;5;28;01mreturn\u001b[39;00m res\n",
      "File \u001b[0;32m~/anaconda3/envs/data-science/lib/python3.10/site-packages/rpy2/rinterface_lib/conversion.py:45\u001b[0m, in \u001b[0;36m_cdata_res_to_rinterface.<locals>._\u001b[0;34m(*args, **kwargs)\u001b[0m\n\u001b[1;32m     44\u001b[0m \u001b[38;5;28;01mdef\u001b[39;00m \u001b[38;5;21m_\u001b[39m(\u001b[38;5;241m*\u001b[39margs, \u001b[38;5;241m*\u001b[39m\u001b[38;5;241m*\u001b[39mkwargs):\n\u001b[0;32m---> 45\u001b[0m     cdata \u001b[38;5;241m=\u001b[39m \u001b[43mfunction\u001b[49m\u001b[43m(\u001b[49m\u001b[38;5;241;43m*\u001b[39;49m\u001b[43margs\u001b[49m\u001b[43m,\u001b[49m\u001b[43m \u001b[49m\u001b[38;5;241;43m*\u001b[39;49m\u001b[38;5;241;43m*\u001b[39;49m\u001b[43mkwargs\u001b[49m\u001b[43m)\u001b[49m\n\u001b[1;32m     46\u001b[0m     \u001b[38;5;66;03m# TODO: test cdata is of the expected CType\u001b[39;00m\n\u001b[1;32m     47\u001b[0m     \u001b[38;5;28;01mreturn\u001b[39;00m _cdata_to_rinterface(cdata)\n",
      "File \u001b[0;32m~/anaconda3/envs/data-science/lib/python3.10/site-packages/rpy2/rinterface.py:817\u001b[0m, in \u001b[0;36mSexpClosure.__call__\u001b[0;34m(self, *args, **kwargs)\u001b[0m\n\u001b[1;32m    810\u001b[0m     res \u001b[38;5;241m=\u001b[39m rmemory\u001b[38;5;241m.\u001b[39mprotect(\n\u001b[1;32m    811\u001b[0m         openrlib\u001b[38;5;241m.\u001b[39mrlib\u001b[38;5;241m.\u001b[39mR_tryEval(\n\u001b[1;32m    812\u001b[0m             call_r,\n\u001b[1;32m    813\u001b[0m             call_context\u001b[38;5;241m.\u001b[39m__sexp__\u001b[38;5;241m.\u001b[39m_cdata,\n\u001b[1;32m    814\u001b[0m             error_occured)\n\u001b[1;32m    815\u001b[0m     )\n\u001b[1;32m    816\u001b[0m     \u001b[38;5;28;01mif\u001b[39;00m error_occured[\u001b[38;5;241m0\u001b[39m]:\n\u001b[0;32m--> 817\u001b[0m         \u001b[38;5;28;01mraise\u001b[39;00m embedded\u001b[38;5;241m.\u001b[39mRRuntimeError(_rinterface\u001b[38;5;241m.\u001b[39m_geterrmessage())\n\u001b[1;32m    818\u001b[0m \u001b[38;5;28;01mreturn\u001b[39;00m res\n",
      "\u001b[0;31mRRuntimeError\u001b[0m: Error in (function (.data, ..., .preserve = FALSE)  : \nCaused by error:\n! Invalid result of type <character>.\nℹ Indices must be positive or negative integers.\n"
     ]
    }
   ],
   "source": [
    "r.[(REddy_df_r, \"4080:4085\")"
   ]
  },
  {
   "cell_type": "code",
   "execution_count": null,
   "id": "5a044686-e08d-4a73-a18f-7faf9eba50e7",
   "metadata": {},
   "outputs": [
    {
     "name": "stderr",
     "output_type": "stream",
     "text": [
      "R[write to console]: Error in fCheckHHTimeSeries(Data[[ColPOSIXTime]], DTS = DTS, \"sEddyProc.initialize\") : \n",
      "  sEddyProc.initialize:::fCheckHHTimeSeries::: Time stamp is not equidistant (half-)hours in rows: 4083, 14501, 21555, 31973, 39363, 49445, 56835, 66917, 74307, 84725, 91779, 102197, 109251, 119669, 126723, 137141, 144531, 154613, 162003, 172085, 179475, 189893, 196947, 207365, 214419, 224837\n",
      "\n"
     ]
    },
    {
     "ename": "RRuntimeError",
     "evalue": "Error in fCheckHHTimeSeries(Data[[ColPOSIXTime]], DTS = DTS, \"sEddyProc.initialize\") : \n  sEddyProc.initialize:::fCheckHHTimeSeries::: Time stamp is not equidistant (half-)hours in rows: 4083, 14501, 21555, 31973, 39363, 49445, 56835, 66917, 74307, 84725, 91779, 102197, 109251, 119669, 126723, 137141, 144531, 154613, 162003, 172085, 179475, 189893, 196947, 207365, 214419, 224837\n",
     "output_type": "error",
     "traceback": [
      "\u001b[0;31m---------------------------------------------------------------------------\u001b[0m",
      "\u001b[0;31mRRuntimeError\u001b[0m                             Traceback (most recent call last)",
      "Input \u001b[0;32mIn [139]\u001b[0m, in \u001b[0;36m<cell line: 1>\u001b[0;34m()\u001b[0m\n\u001b[0;32m----> 1\u001b[0m \u001b[43mr\u001b[49m\u001b[38;5;241;43m.\u001b[39;49m\u001b[43mfill_gaps_EProc\u001b[49m\u001b[43m(\u001b[49m\u001b[43mREddy_df_r\u001b[49m\u001b[43m,\u001b[49m\u001b[43m \u001b[49m\u001b[38;5;124;43m\"\u001b[39;49m\u001b[38;5;124;43mTA\u001b[39;49m\u001b[38;5;124;43m\"\u001b[39;49m\u001b[43m)\u001b[49m\n",
      "File \u001b[0;32m~/anaconda3/envs/data-science/lib/python3.10/site-packages/rpy2/robjects/functions.py:204\u001b[0m, in \u001b[0;36mSignatureTranslatedFunction.__call__\u001b[0;34m(self, *args, **kwargs)\u001b[0m\n\u001b[1;32m    202\u001b[0m         v \u001b[38;5;241m=\u001b[39m kwargs\u001b[38;5;241m.\u001b[39mpop(k)\n\u001b[1;32m    203\u001b[0m         kwargs[r_k] \u001b[38;5;241m=\u001b[39m v\n\u001b[0;32m--> 204\u001b[0m \u001b[38;5;28;01mreturn\u001b[39;00m (\u001b[38;5;28;43msuper\u001b[39;49m\u001b[43m(\u001b[49m\u001b[43mSignatureTranslatedFunction\u001b[49m\u001b[43m,\u001b[49m\u001b[43m \u001b[49m\u001b[38;5;28;43mself\u001b[39;49m\u001b[43m)\u001b[49m\n\u001b[1;32m    205\u001b[0m \u001b[43m        \u001b[49m\u001b[38;5;241;43m.\u001b[39;49m\u001b[38;5;21;43m__call__\u001b[39;49m\u001b[43m(\u001b[49m\u001b[38;5;241;43m*\u001b[39;49m\u001b[43margs\u001b[49m\u001b[43m,\u001b[49m\u001b[43m \u001b[49m\u001b[38;5;241;43m*\u001b[39;49m\u001b[38;5;241;43m*\u001b[39;49m\u001b[43mkwargs\u001b[49m\u001b[43m)\u001b[49m)\n",
      "File \u001b[0;32m~/anaconda3/envs/data-science/lib/python3.10/site-packages/rpy2/robjects/functions.py:127\u001b[0m, in \u001b[0;36mFunction.__call__\u001b[0;34m(self, *args, **kwargs)\u001b[0m\n\u001b[1;32m    125\u001b[0m     \u001b[38;5;28;01melse\u001b[39;00m:\n\u001b[1;32m    126\u001b[0m         new_kwargs[k] \u001b[38;5;241m=\u001b[39m cv\u001b[38;5;241m.\u001b[39mpy2rpy(v)\n\u001b[0;32m--> 127\u001b[0m res \u001b[38;5;241m=\u001b[39m \u001b[38;5;28;43msuper\u001b[39;49m\u001b[43m(\u001b[49m\u001b[43mFunction\u001b[49m\u001b[43m,\u001b[49m\u001b[43m \u001b[49m\u001b[38;5;28;43mself\u001b[39;49m\u001b[43m)\u001b[49m\u001b[38;5;241;43m.\u001b[39;49m\u001b[38;5;21;43m__call__\u001b[39;49m\u001b[43m(\u001b[49m\u001b[38;5;241;43m*\u001b[39;49m\u001b[43mnew_args\u001b[49m\u001b[43m,\u001b[49m\u001b[43m \u001b[49m\u001b[38;5;241;43m*\u001b[39;49m\u001b[38;5;241;43m*\u001b[39;49m\u001b[43mnew_kwargs\u001b[49m\u001b[43m)\u001b[49m\n\u001b[1;32m    128\u001b[0m res \u001b[38;5;241m=\u001b[39m cv\u001b[38;5;241m.\u001b[39mrpy2py(res)\n\u001b[1;32m    129\u001b[0m \u001b[38;5;28;01mreturn\u001b[39;00m res\n",
      "File \u001b[0;32m~/anaconda3/envs/data-science/lib/python3.10/site-packages/rpy2/rinterface_lib/conversion.py:45\u001b[0m, in \u001b[0;36m_cdata_res_to_rinterface.<locals>._\u001b[0;34m(*args, **kwargs)\u001b[0m\n\u001b[1;32m     44\u001b[0m \u001b[38;5;28;01mdef\u001b[39;00m \u001b[38;5;21m_\u001b[39m(\u001b[38;5;241m*\u001b[39margs, \u001b[38;5;241m*\u001b[39m\u001b[38;5;241m*\u001b[39mkwargs):\n\u001b[0;32m---> 45\u001b[0m     cdata \u001b[38;5;241m=\u001b[39m \u001b[43mfunction\u001b[49m\u001b[43m(\u001b[49m\u001b[38;5;241;43m*\u001b[39;49m\u001b[43margs\u001b[49m\u001b[43m,\u001b[49m\u001b[43m \u001b[49m\u001b[38;5;241;43m*\u001b[39;49m\u001b[38;5;241;43m*\u001b[39;49m\u001b[43mkwargs\u001b[49m\u001b[43m)\u001b[49m\n\u001b[1;32m     46\u001b[0m     \u001b[38;5;66;03m# TODO: test cdata is of the expected CType\u001b[39;00m\n\u001b[1;32m     47\u001b[0m     \u001b[38;5;28;01mreturn\u001b[39;00m _cdata_to_rinterface(cdata)\n",
      "File \u001b[0;32m~/anaconda3/envs/data-science/lib/python3.10/site-packages/rpy2/rinterface.py:817\u001b[0m, in \u001b[0;36mSexpClosure.__call__\u001b[0;34m(self, *args, **kwargs)\u001b[0m\n\u001b[1;32m    810\u001b[0m     res \u001b[38;5;241m=\u001b[39m rmemory\u001b[38;5;241m.\u001b[39mprotect(\n\u001b[1;32m    811\u001b[0m         openrlib\u001b[38;5;241m.\u001b[39mrlib\u001b[38;5;241m.\u001b[39mR_tryEval(\n\u001b[1;32m    812\u001b[0m             call_r,\n\u001b[1;32m    813\u001b[0m             call_context\u001b[38;5;241m.\u001b[39m__sexp__\u001b[38;5;241m.\u001b[39m_cdata,\n\u001b[1;32m    814\u001b[0m             error_occured)\n\u001b[1;32m    815\u001b[0m     )\n\u001b[1;32m    816\u001b[0m     \u001b[38;5;28;01mif\u001b[39;00m error_occured[\u001b[38;5;241m0\u001b[39m]:\n\u001b[0;32m--> 817\u001b[0m         \u001b[38;5;28;01mraise\u001b[39;00m embedded\u001b[38;5;241m.\u001b[39mRRuntimeError(_rinterface\u001b[38;5;241m.\u001b[39m_geterrmessage())\n\u001b[1;32m    818\u001b[0m \u001b[38;5;28;01mreturn\u001b[39;00m res\n",
      "\u001b[0;31mRRuntimeError\u001b[0m: Error in fCheckHHTimeSeries(Data[[ColPOSIXTime]], DTS = DTS, \"sEddyProc.initialize\") : \n  sEddyProc.initialize:::fCheckHHTimeSeries::: Time stamp is not equidistant (half-)hours in rows: 4083, 14501, 21555, 31973, 39363, 49445, 56835, 66917, 74307, 84725, 91779, 102197, 109251, 119669, 126723, 137141, 144531, 154613, 162003, 172085, 179475, 189893, 196947, 207365, 214419, 224837\n"
     ]
    }
   ],
   "source": [
    "r.fill_gaps_EProc(REddy_df_r, \"TA\")"
   ]
  },
  {
   "cell_type": "code",
   "execution_count": null,
   "id": "96f80f5e-3d3c-437e-8cf3-5e7883a055bf",
   "metadata": {},
   "outputs": [
    {
     "data": {
      "text/html": [
       "<div>\n",
       "<style scoped>\n",
       "    .dataframe tbody tr th:only-of-type {\n",
       "        vertical-align: middle;\n",
       "    }\n",
       "\n",
       "    .dataframe tbody tr th {\n",
       "        vertical-align: top;\n",
       "    }\n",
       "\n",
       "    .dataframe thead th {\n",
       "        text-align: right;\n",
       "    }\n",
       "</style>\n",
       "<table border=\"1\" class=\"dataframe\">\n",
       "  <thead>\n",
       "    <tr style=\"text-align: right;\">\n",
       "      <th></th>\n",
       "      <th>TIMESTAMP_END</th>\n",
       "      <th>TA</th>\n",
       "      <th>SW_IN</th>\n",
       "      <th>VPD</th>\n",
       "      <th>gap</th>\n",
       "    </tr>\n",
       "  </thead>\n",
       "  <tbody>\n",
       "    <tr>\n",
       "      <th>45</th>\n",
       "      <td>2002-04-16 14:30:00</td>\n",
       "      <td>5.82</td>\n",
       "      <td>240.85</td>\n",
       "      <td>1.998</td>\n",
       "      <td>0</td>\n",
       "    </tr>\n",
       "    <tr>\n",
       "      <th>46</th>\n",
       "      <td>2002-04-16 15:00:00</td>\n",
       "      <td>5.88</td>\n",
       "      <td>271.77</td>\n",
       "      <td>2.097</td>\n",
       "      <td>0</td>\n",
       "    </tr>\n",
       "    <tr>\n",
       "      <th>47</th>\n",
       "      <td>2002-04-16 15:30:00</td>\n",
       "      <td>5.90</td>\n",
       "      <td>188.34</td>\n",
       "      <td>2.041</td>\n",
       "      <td>0</td>\n",
       "    </tr>\n",
       "    <tr>\n",
       "      <th>48</th>\n",
       "      <td>2002-04-16 16:00:00</td>\n",
       "      <td>5.82</td>\n",
       "      <td>114.66</td>\n",
       "      <td>2.030</td>\n",
       "      <td>0</td>\n",
       "    </tr>\n",
       "    <tr>\n",
       "      <th>49</th>\n",
       "      <td>2002-04-16 16:30:00</td>\n",
       "      <td>6.03</td>\n",
       "      <td>153.79</td>\n",
       "      <td>2.181</td>\n",
       "      <td>0</td>\n",
       "    </tr>\n",
       "    <tr>\n",
       "      <th>50</th>\n",
       "      <td>2002-04-16 17:00:00</td>\n",
       "      <td>5.77</td>\n",
       "      <td>100.51</td>\n",
       "      <td>2.013</td>\n",
       "      <td>1</td>\n",
       "    </tr>\n",
       "    <tr>\n",
       "      <th>51</th>\n",
       "      <td>2002-04-16 17:30:00</td>\n",
       "      <td>5.82</td>\n",
       "      <td>89.04</td>\n",
       "      <td>1.986</td>\n",
       "      <td>1</td>\n",
       "    </tr>\n",
       "    <tr>\n",
       "      <th>52</th>\n",
       "      <td>2002-04-16 18:00:00</td>\n",
       "      <td>5.45</td>\n",
       "      <td>24.16</td>\n",
       "      <td>1.747</td>\n",
       "      <td>1</td>\n",
       "    </tr>\n",
       "    <tr>\n",
       "      <th>53</th>\n",
       "      <td>2002-04-16 18:30:00</td>\n",
       "      <td>5.09</td>\n",
       "      <td>22.18</td>\n",
       "      <td>1.484</td>\n",
       "      <td>1</td>\n",
       "    </tr>\n",
       "    <tr>\n",
       "      <th>54</th>\n",
       "      <td>2002-04-16 19:00:00</td>\n",
       "      <td>5.00</td>\n",
       "      <td>8.29</td>\n",
       "      <td>1.440</td>\n",
       "      <td>1</td>\n",
       "    </tr>\n",
       "  </tbody>\n",
       "</table>\n",
       "</div>"
      ],
      "text/plain": [
       "         TIMESTAMP_END    TA   SW_IN    VPD  gap\n",
       "45 2002-04-16 14:30:00  5.82  240.85  1.998    0\n",
       "46 2002-04-16 15:00:00  5.88  271.77  2.097    0\n",
       "47 2002-04-16 15:30:00  5.90  188.34  2.041    0\n",
       "48 2002-04-16 16:00:00  5.82  114.66  2.030    0\n",
       "49 2002-04-16 16:30:00  6.03  153.79  2.181    0\n",
       "50 2002-04-16 17:00:00  5.77  100.51  2.013    1\n",
       "51 2002-04-16 17:30:00  5.82   89.04  1.986    1\n",
       "52 2002-04-16 18:00:00  5.45   24.16  1.747    1\n",
       "53 2002-04-16 18:30:00  5.09   22.18  1.484    1\n",
       "54 2002-04-16 19:00:00  5.00    8.29  1.440    1"
      ]
     },
     "execution_count": null,
     "metadata": {},
     "output_type": "execute_result"
    }
   ],
   "source": [
    "REddy_df[45:55]"
   ]
  },
  {
   "cell_type": "code",
   "execution_count": null,
   "id": "aaa5b01f-be20-49d5-8906-af7f7a884cd3",
   "metadata": {},
   "outputs": [
    {
     "data": {
      "text/html": [
       "\n",
       "        <span>POSIXct with 100 elements.</span>\n",
       "        <table>\n",
       "        <tbody>\n",
       "          <tr>\n",
       "          \n",
       "            <td>\n",
       "            2002-04-1...\n",
       "            </td>\n",
       "          \n",
       "            <td>\n",
       "            ...\n",
       "            </td>\n",
       "          \n",
       "            <td>\n",
       "            2002-04-1...\n",
       "            </td>\n",
       "          \n",
       "            <td>\n",
       "            2002-04-1...\n",
       "            </td>\n",
       "          \n",
       "            <td>\n",
       "            2002-04-1...\n",
       "            </td>\n",
       "          \n",
       "          </tr>\n",
       "        </tbody>\n",
       "        </table>\n",
       "        "
      ],
      "text/plain": [
       "<rpy2.robjects.vectors.POSIXct object> [RTYPES.REALSXP]\n",
       "R classes: ('POSIXct', 'POSIXt')\n",
       "[2002-04-1..., 2002-04-1..., ..., 2002-04-1..., 2002-04-1..., 2002-04-1..., 2002-04-1...]"
      ]
     },
     "execution_count": null,
     "metadata": {},
     "output_type": "execute_result"
    }
   ],
   "source": [
    "r_from_pd_df[0]"
   ]
  },
  {
   "cell_type": "code",
   "execution_count": null,
   "id": "19ced380-73aa-421c-924b-a995a649ba2d",
   "metadata": {},
   "outputs": [
    {
     "name": "stderr",
     "output_type": "stream",
     "text": [
      "R[write to console]: Error in data[as.logical(data$gap), remove_vars] <- NA : \n",
      "  argument \"data\" is missing, with no default\n",
      "\n"
     ]
    },
    {
     "ename": "RRuntimeError",
     "evalue": "Error in data[as.logical(data$gap), remove_vars] <- NA : \n  argument \"data\" is missing, with no default\n",
     "output_type": "error",
     "traceback": [
      "\u001b[0;31m---------------------------------------------------------------------------\u001b[0m",
      "\u001b[0;31mRRuntimeError\u001b[0m                             Traceback (most recent call last)",
      "Input \u001b[0;32mIn [17]\u001b[0m, in \u001b[0;36m<cell line: 1>\u001b[0;34m()\u001b[0m\n\u001b[0;32m----> 1\u001b[0m \u001b[43mr\u001b[49m\u001b[38;5;241;43m.\u001b[39;49m\u001b[43mremove_var_gap\u001b[49m\u001b[43m(\u001b[49m\u001b[43m)\u001b[49m\n",
      "File \u001b[0;32m~/anaconda3/envs/data-science/lib/python3.10/site-packages/rpy2/robjects/functions.py:204\u001b[0m, in \u001b[0;36mSignatureTranslatedFunction.__call__\u001b[0;34m(self, *args, **kwargs)\u001b[0m\n\u001b[1;32m    202\u001b[0m         v \u001b[38;5;241m=\u001b[39m kwargs\u001b[38;5;241m.\u001b[39mpop(k)\n\u001b[1;32m    203\u001b[0m         kwargs[r_k] \u001b[38;5;241m=\u001b[39m v\n\u001b[0;32m--> 204\u001b[0m \u001b[38;5;28;01mreturn\u001b[39;00m (\u001b[38;5;28;43msuper\u001b[39;49m\u001b[43m(\u001b[49m\u001b[43mSignatureTranslatedFunction\u001b[49m\u001b[43m,\u001b[49m\u001b[43m \u001b[49m\u001b[38;5;28;43mself\u001b[39;49m\u001b[43m)\u001b[49m\n\u001b[1;32m    205\u001b[0m \u001b[43m        \u001b[49m\u001b[38;5;241;43m.\u001b[39;49m\u001b[38;5;21;43m__call__\u001b[39;49m\u001b[43m(\u001b[49m\u001b[38;5;241;43m*\u001b[39;49m\u001b[43margs\u001b[49m\u001b[43m,\u001b[49m\u001b[43m \u001b[49m\u001b[38;5;241;43m*\u001b[39;49m\u001b[38;5;241;43m*\u001b[39;49m\u001b[43mkwargs\u001b[49m\u001b[43m)\u001b[49m)\n",
      "File \u001b[0;32m~/anaconda3/envs/data-science/lib/python3.10/site-packages/rpy2/robjects/functions.py:127\u001b[0m, in \u001b[0;36mFunction.__call__\u001b[0;34m(self, *args, **kwargs)\u001b[0m\n\u001b[1;32m    125\u001b[0m     \u001b[38;5;28;01melse\u001b[39;00m:\n\u001b[1;32m    126\u001b[0m         new_kwargs[k] \u001b[38;5;241m=\u001b[39m cv\u001b[38;5;241m.\u001b[39mpy2rpy(v)\n\u001b[0;32m--> 127\u001b[0m res \u001b[38;5;241m=\u001b[39m \u001b[38;5;28;43msuper\u001b[39;49m\u001b[43m(\u001b[49m\u001b[43mFunction\u001b[49m\u001b[43m,\u001b[49m\u001b[43m \u001b[49m\u001b[38;5;28;43mself\u001b[39;49m\u001b[43m)\u001b[49m\u001b[38;5;241;43m.\u001b[39;49m\u001b[38;5;21;43m__call__\u001b[39;49m\u001b[43m(\u001b[49m\u001b[38;5;241;43m*\u001b[39;49m\u001b[43mnew_args\u001b[49m\u001b[43m,\u001b[49m\u001b[43m \u001b[49m\u001b[38;5;241;43m*\u001b[39;49m\u001b[38;5;241;43m*\u001b[39;49m\u001b[43mnew_kwargs\u001b[49m\u001b[43m)\u001b[49m\n\u001b[1;32m    128\u001b[0m res \u001b[38;5;241m=\u001b[39m cv\u001b[38;5;241m.\u001b[39mrpy2py(res)\n\u001b[1;32m    129\u001b[0m \u001b[38;5;28;01mreturn\u001b[39;00m res\n",
      "File \u001b[0;32m~/anaconda3/envs/data-science/lib/python3.10/site-packages/rpy2/rinterface_lib/conversion.py:45\u001b[0m, in \u001b[0;36m_cdata_res_to_rinterface.<locals>._\u001b[0;34m(*args, **kwargs)\u001b[0m\n\u001b[1;32m     44\u001b[0m \u001b[38;5;28;01mdef\u001b[39;00m \u001b[38;5;21m_\u001b[39m(\u001b[38;5;241m*\u001b[39margs, \u001b[38;5;241m*\u001b[39m\u001b[38;5;241m*\u001b[39mkwargs):\n\u001b[0;32m---> 45\u001b[0m     cdata \u001b[38;5;241m=\u001b[39m \u001b[43mfunction\u001b[49m\u001b[43m(\u001b[49m\u001b[38;5;241;43m*\u001b[39;49m\u001b[43margs\u001b[49m\u001b[43m,\u001b[49m\u001b[43m \u001b[49m\u001b[38;5;241;43m*\u001b[39;49m\u001b[38;5;241;43m*\u001b[39;49m\u001b[43mkwargs\u001b[49m\u001b[43m)\u001b[49m\n\u001b[1;32m     46\u001b[0m     \u001b[38;5;66;03m# TODO: test cdata is of the expected CType\u001b[39;00m\n\u001b[1;32m     47\u001b[0m     \u001b[38;5;28;01mreturn\u001b[39;00m _cdata_to_rinterface(cdata)\n",
      "File \u001b[0;32m~/anaconda3/envs/data-science/lib/python3.10/site-packages/rpy2/rinterface.py:817\u001b[0m, in \u001b[0;36mSexpClosure.__call__\u001b[0;34m(self, *args, **kwargs)\u001b[0m\n\u001b[1;32m    810\u001b[0m     res \u001b[38;5;241m=\u001b[39m rmemory\u001b[38;5;241m.\u001b[39mprotect(\n\u001b[1;32m    811\u001b[0m         openrlib\u001b[38;5;241m.\u001b[39mrlib\u001b[38;5;241m.\u001b[39mR_tryEval(\n\u001b[1;32m    812\u001b[0m             call_r,\n\u001b[1;32m    813\u001b[0m             call_context\u001b[38;5;241m.\u001b[39m__sexp__\u001b[38;5;241m.\u001b[39m_cdata,\n\u001b[1;32m    814\u001b[0m             error_occured)\n\u001b[1;32m    815\u001b[0m     )\n\u001b[1;32m    816\u001b[0m     \u001b[38;5;28;01mif\u001b[39;00m error_occured[\u001b[38;5;241m0\u001b[39m]:\n\u001b[0;32m--> 817\u001b[0m         \u001b[38;5;28;01mraise\u001b[39;00m embedded\u001b[38;5;241m.\u001b[39mRRuntimeError(_rinterface\u001b[38;5;241m.\u001b[39m_geterrmessage())\n\u001b[1;32m    818\u001b[0m \u001b[38;5;28;01mreturn\u001b[39;00m res\n",
      "\u001b[0;31mRRuntimeError\u001b[0m: Error in data[as.logical(data$gap), remove_vars] <- NA : \n  argument \"data\" is missing, with no default\n"
     ]
    }
   ],
   "source": [
    "r.remove_var_gap()"
   ]
  },
  {
   "cell_type": "code",
   "execution_count": null,
   "id": "b484c611-a663-4606-9866-c3e63f848d73",
   "metadata": {},
   "outputs": [],
   "source": [
    "from functools import partial\n",
    "from rpy2.ipython import html\n",
    "html.html_rdataframe=partial(html.html_rdataframe, table_class=\"docutils\")"
   ]
  },
  {
   "cell_type": "markdown",
   "id": "1f35a713-f9dc-4103-83f9-cabadb2854ee",
   "metadata": {},
   "source": [
    "## Generate gaps in data"
   ]
  },
  {
   "cell_type": "code",
   "execution_count": null,
   "id": "0402b182-60f8-4c05-92f0-195edb036156",
   "metadata": {},
   "outputs": [],
   "source": []
  }
 ],
 "metadata": {
  "kernelspec": {
   "display_name": "data_science",
   "language": "python",
   "name": "data_science"
  },
  "widgets": {
   "application/vnd.jupyter.widget-state+json": {
    "state": {},
    "version_major": 2,
    "version_minor": 0
   }
  }
 },
 "nbformat": 4,
 "nbformat_minor": 5
}
