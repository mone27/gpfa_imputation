{
 "cells": [
  {
   "cell_type": "markdown",
   "id": "085b301f-be5e-452b-8f1f-06ca6b208cee",
   "metadata": {},
   "source": [
    "# Multiple Latent"
   ]
  },
  {
   "cell_type": "markdown",
   "id": "f2e912e7-b728-4c0a-95fa-8ea6b8859578",
   "metadata": {},
   "source": [
    "Trying to use more than 1 latent variable"
   ]
  },
  {
   "cell_type": "code",
   "execution_count": null,
   "id": "03ada13f-4522-4fc1-a7ac-b023b40be150",
   "metadata": {},
   "outputs": [],
   "source": [
    "%load_ext autoreload\n",
    "%autoreload 2\n",
    "\n",
    "%matplotlib inline"
   ]
  },
  {
   "cell_type": "code",
   "execution_count": null,
   "id": "192bb640-520e-4c0f-b821-4bc70c06a1bb",
   "metadata": {},
   "outputs": [],
   "source": [
    "from meteo_imp.gpfa.imputation import *\n",
    "from meteo_imp.data_preparation import *\n",
    "from meteo_imp.results import *\n",
    "\n",
    "import torch\n",
    "import pandas as pd\n",
    "import numpy as np\n",
    "from pathlib import Path\n",
    "from pyprojroot import here\n",
    "import matplotlib.pyplot as plt\n",
    "\n",
    "from meteo_imp.utils import cache_disk"
   ]
  },
  {
   "cell_type": "code",
   "execution_count": null,
   "id": "eab13fe5-808c-4535-bebc-0c1a6afa5b4d",
   "metadata": {},
   "outputs": [],
   "source": [
    "def reset_seed():\n",
    "    torch.manual_seed(27);\n",
    "    np.random.seed(27);"
   ]
  },
  {
   "cell_type": "code",
   "execution_count": null,
   "id": "f4c310a2-9cde-4c2b-ac40-e375ddff3c8b",
   "metadata": {},
   "outputs": [],
   "source": [
    "torch.manual_seed(27);\n",
    "np.random.seed(27);\n",
    "cache_path = here() / \".cache\""
   ]
  },
  {
   "cell_type": "markdown",
   "id": "67c5920a-4289-4c46-8218-f29719d4d772",
   "metadata": {},
   "source": [
    "## Load Data\n",
    "\n",
    "take the first 200 rows from the Hainich dataset"
   ]
  },
  {
   "cell_type": "code",
   "execution_count": null,
   "id": "b9cb7a13-db9a-4142-b567-954eb9689489",
   "metadata": {},
   "outputs": [],
   "source": [
    "hai_path = Path(\"FLX_DE-Hai_FLUXNET2015_FULLSET_HH_2000-2012_1-4.csv\")\n",
    "hai_raw = pd.read_csv(here(\"data\") / hai_path, na_values=[\"-9999\", \"-9999.99\"], parse_dates=[0, 1], nrows=200)"
   ]
  },
  {
   "cell_type": "code",
   "execution_count": null,
   "id": "c3b4a609-839a-4bd6-84a7-fa3758816797",
   "metadata": {},
   "outputs": [
    {
     "data": {
      "text/html": [
       "<div>\n",
       "<style scoped>\n",
       "    .dataframe tbody tr th:only-of-type {\n",
       "        vertical-align: middle;\n",
       "    }\n",
       "\n",
       "    .dataframe tbody tr th {\n",
       "        vertical-align: top;\n",
       "    }\n",
       "\n",
       "    .dataframe thead th {\n",
       "        text-align: right;\n",
       "    }\n",
       "</style>\n",
       "<table border=\"1\" class=\"dataframe\">\n",
       "  <thead>\n",
       "    <tr style=\"text-align: right;\">\n",
       "      <th></th>\n",
       "      <th>TA</th>\n",
       "      <th>SW_IN</th>\n",
       "      <th>LW_IN</th>\n",
       "      <th>VPD</th>\n",
       "    </tr>\n",
       "    <tr>\n",
       "      <th>TIMESTAMP_END</th>\n",
       "      <th></th>\n",
       "      <th></th>\n",
       "      <th></th>\n",
       "      <th></th>\n",
       "    </tr>\n",
       "  </thead>\n",
       "  <tbody>\n",
       "    <tr>\n",
       "      <th>2000-01-01 00:30:00</th>\n",
       "      <td>-0.60</td>\n",
       "      <td>0.0</td>\n",
       "      <td>302.475</td>\n",
       "      <td>0.222</td>\n",
       "    </tr>\n",
       "    <tr>\n",
       "      <th>2000-01-01 01:00:00</th>\n",
       "      <td>-0.65</td>\n",
       "      <td>0.0</td>\n",
       "      <td>302.475</td>\n",
       "      <td>0.122</td>\n",
       "    </tr>\n",
       "    <tr>\n",
       "      <th>2000-01-01 01:30:00</th>\n",
       "      <td>-0.58</td>\n",
       "      <td>0.0</td>\n",
       "      <td>301.677</td>\n",
       "      <td>0.090</td>\n",
       "    </tr>\n",
       "    <tr>\n",
       "      <th>2000-01-01 02:00:00</th>\n",
       "      <td>-0.51</td>\n",
       "      <td>0.0</td>\n",
       "      <td>301.677</td>\n",
       "      <td>0.110</td>\n",
       "    </tr>\n",
       "    <tr>\n",
       "      <th>2000-01-01 02:30:00</th>\n",
       "      <td>-0.49</td>\n",
       "      <td>0.0</td>\n",
       "      <td>301.677</td>\n",
       "      <td>0.102</td>\n",
       "    </tr>\n",
       "    <tr>\n",
       "      <th>...</th>\n",
       "      <td>...</td>\n",
       "      <td>...</td>\n",
       "      <td>...</td>\n",
       "      <td>...</td>\n",
       "    </tr>\n",
       "    <tr>\n",
       "      <th>2000-01-05 02:00:00</th>\n",
       "      <td>4.74</td>\n",
       "      <td>0.0</td>\n",
       "      <td>330.202</td>\n",
       "      <td>1.191</td>\n",
       "    </tr>\n",
       "    <tr>\n",
       "      <th>2000-01-05 02:30:00</th>\n",
       "      <td>4.75</td>\n",
       "      <td>0.0</td>\n",
       "      <td>330.202</td>\n",
       "      <td>1.057</td>\n",
       "    </tr>\n",
       "    <tr>\n",
       "      <th>2000-01-05 03:00:00</th>\n",
       "      <td>4.76</td>\n",
       "      <td>0.0</td>\n",
       "      <td>330.202</td>\n",
       "      <td>0.935</td>\n",
       "    </tr>\n",
       "    <tr>\n",
       "      <th>2000-01-05 03:30:00</th>\n",
       "      <td>4.62</td>\n",
       "      <td>0.0</td>\n",
       "      <td>330.202</td>\n",
       "      <td>1.162</td>\n",
       "    </tr>\n",
       "    <tr>\n",
       "      <th>2000-01-05 04:00:00</th>\n",
       "      <td>4.51</td>\n",
       "      <td>0.0</td>\n",
       "      <td>330.202</td>\n",
       "      <td>1.636</td>\n",
       "    </tr>\n",
       "  </tbody>\n",
       "</table>\n",
       "<p>200 rows × 4 columns</p>\n",
       "</div>"
      ],
      "text/plain": [
       "                       TA  SW_IN    LW_IN    VPD\n",
       "TIMESTAMP_END                                   \n",
       "2000-01-01 00:30:00 -0.60    0.0  302.475  0.222\n",
       "2000-01-01 01:00:00 -0.65    0.0  302.475  0.122\n",
       "2000-01-01 01:30:00 -0.58    0.0  301.677  0.090\n",
       "2000-01-01 02:00:00 -0.51    0.0  301.677  0.110\n",
       "2000-01-01 02:30:00 -0.49    0.0  301.677  0.102\n",
       "...                   ...    ...      ...    ...\n",
       "2000-01-05 02:00:00  4.74    0.0  330.202  1.191\n",
       "2000-01-05 02:30:00  4.75    0.0  330.202  1.057\n",
       "2000-01-05 03:00:00  4.76    0.0  330.202  0.935\n",
       "2000-01-05 03:30:00  4.62    0.0  330.202  1.162\n",
       "2000-01-05 04:00:00  4.51    0.0  330.202  1.636\n",
       "\n",
       "[200 rows x 4 columns]"
      ]
     },
     "execution_count": null,
     "metadata": {},
     "output_type": "execute_result"
    }
   ],
   "source": [
    "meteo_vars = {\n",
    "    \"TA_F\": \"TA\",\n",
    "    \"SW_IN_F\": \"SW_IN\",\n",
    "    \"LW_IN_F\": \"LW_IN\",\n",
    "    \"VPD_F\": \"VPD\",\n",
    "    #\"PA\": \"PA\"\n",
    "}\n",
    "\n",
    "units = {\n",
    "    'TA': '°C',\n",
    "    'SW_IN': 'W m-2',\n",
    "    'LW_IN': 'W m-2',\n",
    "    'VPD': 'hPa'\n",
    "}\n",
    "\n",
    "hai = (hai_raw\n",
    "       .rename(columns=meteo_vars)\n",
    "       .set_index(\"TIMESTAMP_END\")\n",
    "       .loc[:, meteo_vars.values()])\n",
    "hai"
   ]
  },
  {
   "cell_type": "markdown",
   "id": "5d7fdfdf-1303-488e-8289-28b0ce0f09d3",
   "metadata": {},
   "source": [
    "###  Computation\n",
    "\n",
    "makes here all the slow computations and cache them on disk"
   ]
  },
  {
   "cell_type": "code",
   "execution_count": null,
   "id": "d62c97b7-2d03-4046-84bc-3bca6144a20b",
   "metadata": {},
   "outputs": [],
   "source": [
    "reset_seed()\n",
    "data_r_gaps = GPFADataTest(hai[:150]).add_random_missing()\n",
    "data_c_gaps = GPFADataTest(hai[:150]).add_gap(15, meteo_vars.values())"
   ]
  },
  {
   "cell_type": "code",
   "execution_count": null,
   "id": "47888035-8cea-4b6d-a902-e68a2ed329bd",
   "metadata": {},
   "outputs": [],
   "source": [
    "cache_file_gaps = cache_path / \"hai_diff_latents.pickle\"\n",
    "# cache_file_gaps.unlink() # uncomment this line to reset the cache"
   ]
  },
  {
   "cell_type": "code",
   "execution_count": null,
   "id": "14483dc8-8920-490d-8eef-636b6e6fd2b9",
   "metadata": {},
   "outputs": [],
   "source": [
    "@cache_disk(cache_file_gaps)\n",
    "def compute_multiple_latent():\n",
    "    hai_r_gaps = [GPFAImputation(\n",
    "        data_r_gaps.data, latent_dims=i)\n",
    "                  .fit()\n",
    "                  .to_result(data_r_gaps.data_compl_tidy, units=units)\n",
    "                  for i in range(1,4)]\n",
    "    hai_c_gaps = [GPFAImputationExplorer(\n",
    "        data_c_gaps.data, latent_dims=i)\n",
    "                  .fit()\n",
    "                  .to_result(data_c_gaps.data_compl_tidy, units=units)\n",
    "                  for i in range(1,4)]\n",
    "    return hai_r_gaps, hai_c_gaps"
   ]
  },
  {
   "cell_type": "code",
   "execution_count": null,
   "id": "551e00dd-90dc-45db-8e3c-f3ab71c95de7",
   "metadata": {},
   "outputs": [],
   "source": [
    "hai_r_gaps, hai_c_gaps = compute_multiple_latent()"
   ]
  },
  {
   "cell_type": "markdown",
   "id": "98d61e8c-fe7c-45d9-860b-cb1290a684c5",
   "metadata": {},
   "source": [
    "## Random Gaps"
   ]
  },
  {
   "cell_type": "code",
   "execution_count": null,
   "id": "ffaf184a-78a0-4a88-989f-ef3c8611cfb4",
   "metadata": {},
   "outputs": [
    {
     "data": {
      "text/plain": [
       "[<gpfa_imputation.results.GPFAResult>,\n",
       " <gpfa_imputation.results.GPFAResult>,\n",
       " <gpfa_imputation.results.GPFAResult>]"
      ]
     },
     "execution_count": null,
     "metadata": {},
     "output_type": "execute_result"
    }
   ],
   "source": [
    "hai_r_gaps"
   ]
  },
  {
   "cell_type": "code",
   "execution_count": null,
   "id": "306d6c54-a189-4566-aa12-683b0fc1fca9",
   "metadata": {},
   "outputs": [
    {
     "name": "stderr",
     "output_type": "stream",
     "text": [
      "/home/simone/.local/lib/python3.10/site-packages/altair/utils/core.py:317: FutureWarning: iteritems is deprecated and will be removed in a future version. Use .items instead.\n",
      "  for col_name, dtype in df.dtypes.iteritems():\n"
     ]
    },
    {
     "data": {
      "text/html": [
       "\n",
       "<div id=\"altair-viz-be0b65392336497e82a137fae8a4f758\"></div>\n",
       "<script type=\"text/javascript\">\n",
       "  var VEGA_DEBUG = (typeof VEGA_DEBUG == \"undefined\") ? {} : VEGA_DEBUG;\n",
       "  (function(spec, embedOpt){\n",
       "    let outputDiv = document.currentScript.previousElementSibling;\n",
       "    if (outputDiv.id !== \"altair-viz-be0b65392336497e82a137fae8a4f758\") {\n",
       "      outputDiv = document.getElementById(\"altair-viz-be0b65392336497e82a137fae8a4f758\");\n",
       "    }\n",
       "    const paths = {\n",
       "      \"vega\": \"https://cdn.jsdelivr.net/npm//vega@5?noext\",\n",
       "      \"vega-lib\": \"https://cdn.jsdelivr.net/npm//vega-lib?noext\",\n",
       "      \"vega-lite\": \"https://cdn.jsdelivr.net/npm//vega-lite@4.17.0?noext\",\n",
       "      \"vega-embed\": \"https://cdn.jsdelivr.net/npm//vega-embed@6?noext\",\n",
       "    };\n",
       "\n",
       "    function maybeLoadScript(lib, version) {\n",
       "      var key = `${lib.replace(\"-\", \"\")}_version`;\n",
       "      return (VEGA_DEBUG[key] == version) ?\n",
       "        Promise.resolve(paths[lib]) :\n",
       "        new Promise(function(resolve, reject) {\n",
       "          var s = document.createElement('script');\n",
       "          document.getElementsByTagName(\"head\")[0].appendChild(s);\n",
       "          s.async = true;\n",
       "          s.onload = () => {\n",
       "            VEGA_DEBUG[key] = version;\n",
       "            return resolve(paths[lib]);\n",
       "          };\n",
       "          s.onerror = () => reject(`Error loading script: ${paths[lib]}`);\n",
       "          s.src = paths[lib];\n",
       "        });\n",
       "    }\n",
       "\n",
       "    function showError(err) {\n",
       "      outputDiv.innerHTML = `<div class=\"error\" style=\"color:red;\">${err}</div>`;\n",
       "      throw err;\n",
       "    }\n",
       "\n",
       "    function displayChart(vegaEmbed) {\n",
       "      vegaEmbed(outputDiv, spec, embedOpt)\n",
       "        .catch(err => showError(`Javascript Error: ${err.message}<br>This usually means there's a typo in your chart specification. See the javascript console for the full traceback.`));\n",
       "    }\n",
       "\n",
       "    if(typeof define === \"function\" && define.amd) {\n",
       "      requirejs.config({paths});\n",
       "      require([\"vega-embed\"], displayChart, err => showError(`Error loading script: ${err.message}`));\n",
       "    } else {\n",
       "      maybeLoadScript(\"vega\", \"5\")\n",
       "        .then(() => maybeLoadScript(\"vega-lite\", \"4.17.0\"))\n",
       "        .then(() => maybeLoadScript(\"vega-embed\", \"6\"))\n",
       "        .catch(showError)\n",
       "        .then(() => displayChart(vegaEmbed));\n",
       "    }\n",
       "  })({\"config\": {\"view\": {\"continuousWidth\": 400, \"continuousHeight\": 300}}, \"vconcat\": [{\"hconcat\": [{\"vconcat\": [{\"layer\": [{\"data\": {\"name\": \"data-4444305ed2dd5fb34d6ea715918f0433\"}, \"mark\": {\"type\": \"point\", \"color\": \"black\", \"fillOpacity\": 1, \"strokeWidth\": 1}, \"encoding\": {\"fill\": {\"field\": \"is_missing\", \"legend\": {\"title\": [\"Observed data\", \"(is missing)\"]}, \"scale\": {\"range\": [\"#ffffff00\", \"black\"]}, \"type\": \"nominal\"}, \"shape\": {\"field\": \"is_missing\", \"type\": \"nominal\"}, \"x\": {\"axis\": {\"domain\": false, \"labels\": false, \"ticks\": false, \"title\": null}, \"field\": \"time\", \"type\": \"quantitative\"}, \"y\": {\"field\": \"value\", \"scale\": {\"zero\": false}, \"title\": \"TA [\\u00b0C]\", \"type\": \"quantitative\"}}}, {\"layer\": [{\"mark\": \"errorband\", \"encoding\": {\"color\": {\"field\": \"variable\", \"legend\": {\"title\": [\"Line: pred. mean\", \"area: +/- 2 std\", \"(variable)\"]}, \"type\": \"nominal\"}, \"tooltip\": [{\"field\": \"std\", \"format\": \".4\", \"type\": \"quantitative\"}, {\"field\": \"mean\", \"format\": \".4\", \"type\": \"quantitative\"}], \"x\": {\"field\": \"time\", \"type\": \"quantitative\"}, \"y\": {\"field\": \"err_low\", \"scale\": {\"zero\": false}, \"title\": \"TA [\\u00b0C]\", \"type\": \"quantitative\"}, \"y2\": {\"field\": \"err_high\"}}, \"height\": 200, \"transform\": [{\"calculate\": \"datum.mean - 2 * datum.std\", \"as\": \"err_low\"}, {\"calculate\": \"datum.mean + 2 * datum.std\", \"as\": \"err_high\"}], \"width\": 350}, {\"mark\": \"line\", \"encoding\": {\"color\": {\"field\": \"variable\", \"type\": \"nominal\"}, \"x\": {\"field\": \"time\", \"type\": \"quantitative\"}, \"y\": {\"field\": \"mean\", \"scale\": {\"zero\": false}, \"title\": \"TA [\\u00b0C]\", \"type\": \"quantitative\"}}, \"selection\": {\"selector002\": {\"type\": \"interval\", \"bind\": \"scales\", \"encodings\": [\"x\"]}}, \"title\": \"TA\"}], \"data\": {\"name\": \"data-0ff5e9e07a53b4c2bc71a5182f6a1143\"}}]}, {\"data\": {\"name\": \"data-4444305ed2dd5fb34d6ea715918f0433\"}, \"mark\": {\"type\": \"tick\", \"color\": \"black\"}, \"encoding\": {\"color\": {\"condition\": {\"value\": \"black\", \"test\": \"datum.is_missing\"}, \"value\": \"white\"}, \"x\": {\"field\": \"time\", \"type\": \"quantitative\"}}, \"selection\": {\"selector002\": {\"type\": \"interval\", \"bind\": \"scales\", \"encodings\": [\"x\"]}}, \"width\": 350}], \"spacing\": -10}, {\"vconcat\": [{\"layer\": [{\"data\": {\"name\": \"data-208d0b466b3e77f592197092974c820e\"}, \"mark\": {\"type\": \"point\", \"color\": \"black\", \"fillOpacity\": 1, \"strokeWidth\": 1}, \"encoding\": {\"fill\": {\"field\": \"is_missing\", \"legend\": {\"title\": [\"Observed data\", \"(is missing)\"]}, \"scale\": {\"range\": [\"#ffffff00\", \"black\"]}, \"type\": \"nominal\"}, \"shape\": {\"field\": \"is_missing\", \"type\": \"nominal\"}, \"x\": {\"axis\": {\"domain\": false, \"labels\": false, \"ticks\": false, \"title\": null}, \"field\": \"time\", \"type\": \"quantitative\"}, \"y\": {\"field\": \"value\", \"scale\": {\"zero\": false}, \"title\": \"SW_IN [W m-2]\", \"type\": \"quantitative\"}}}, {\"layer\": [{\"mark\": \"errorband\", \"encoding\": {\"color\": {\"field\": \"variable\", \"legend\": {\"title\": [\"Line: pred. mean\", \"area: +/- 2 std\", \"(variable)\"]}, \"type\": \"nominal\"}, \"tooltip\": [{\"field\": \"std\", \"format\": \".4\", \"type\": \"quantitative\"}, {\"field\": \"mean\", \"format\": \".4\", \"type\": \"quantitative\"}], \"x\": {\"field\": \"time\", \"type\": \"quantitative\"}, \"y\": {\"field\": \"err_low\", \"scale\": {\"zero\": false}, \"title\": \"SW_IN [W m-2]\", \"type\": \"quantitative\"}, \"y2\": {\"field\": \"err_high\"}}, \"height\": 200, \"transform\": [{\"calculate\": \"datum.mean - 2 * datum.std\", \"as\": \"err_low\"}, {\"calculate\": \"datum.mean + 2 * datum.std\", \"as\": \"err_high\"}], \"width\": 350}, {\"mark\": \"line\", \"encoding\": {\"color\": {\"field\": \"variable\", \"type\": \"nominal\"}, \"x\": {\"field\": \"time\", \"type\": \"quantitative\"}, \"y\": {\"field\": \"mean\", \"scale\": {\"zero\": false}, \"title\": \"SW_IN [W m-2]\", \"type\": \"quantitative\"}}, \"selection\": {\"selector002\": {\"type\": \"interval\", \"bind\": \"scales\", \"encodings\": [\"x\"]}}, \"title\": \"SW_IN\"}], \"data\": {\"name\": \"data-d11b13dafb02034342380ba3a7565ebb\"}}]}, {\"data\": {\"name\": \"data-208d0b466b3e77f592197092974c820e\"}, \"mark\": {\"type\": \"tick\", \"color\": \"black\"}, \"encoding\": {\"color\": {\"condition\": {\"value\": \"black\", \"test\": \"datum.is_missing\"}, \"value\": \"white\"}, \"x\": {\"field\": \"time\", \"type\": \"quantitative\"}}, \"selection\": {\"selector002\": {\"type\": \"interval\", \"bind\": \"scales\", \"encodings\": [\"x\"]}}, \"width\": 350}], \"spacing\": -10}]}, {\"hconcat\": [{\"vconcat\": [{\"layer\": [{\"data\": {\"name\": \"data-f3902519fdae8ed84935978a4731e92a\"}, \"mark\": {\"type\": \"point\", \"color\": \"black\", \"fillOpacity\": 1, \"strokeWidth\": 1}, \"encoding\": {\"fill\": {\"field\": \"is_missing\", \"legend\": {\"title\": [\"Observed data\", \"(is missing)\"]}, \"scale\": {\"range\": [\"#ffffff00\", \"black\"]}, \"type\": \"nominal\"}, \"shape\": {\"field\": \"is_missing\", \"type\": \"nominal\"}, \"x\": {\"axis\": {\"domain\": false, \"labels\": false, \"ticks\": false, \"title\": null}, \"field\": \"time\", \"type\": \"quantitative\"}, \"y\": {\"field\": \"value\", \"scale\": {\"zero\": false}, \"title\": \"LW_IN [W m-2]\", \"type\": \"quantitative\"}}}, {\"layer\": [{\"mark\": \"errorband\", \"encoding\": {\"color\": {\"field\": \"variable\", \"legend\": {\"title\": [\"Line: pred. mean\", \"area: +/- 2 std\", \"(variable)\"]}, \"type\": \"nominal\"}, \"tooltip\": [{\"field\": \"std\", \"format\": \".4\", \"type\": \"quantitative\"}, {\"field\": \"mean\", \"format\": \".4\", \"type\": \"quantitative\"}], \"x\": {\"field\": \"time\", \"type\": \"quantitative\"}, \"y\": {\"field\": \"err_low\", \"scale\": {\"zero\": false}, \"title\": \"LW_IN [W m-2]\", \"type\": \"quantitative\"}, \"y2\": {\"field\": \"err_high\"}}, \"height\": 200, \"transform\": [{\"calculate\": \"datum.mean - 2 * datum.std\", \"as\": \"err_low\"}, {\"calculate\": \"datum.mean + 2 * datum.std\", \"as\": \"err_high\"}], \"width\": 350}, {\"mark\": \"line\", \"encoding\": {\"color\": {\"field\": \"variable\", \"type\": \"nominal\"}, \"x\": {\"field\": \"time\", \"type\": \"quantitative\"}, \"y\": {\"field\": \"mean\", \"scale\": {\"zero\": false}, \"title\": \"LW_IN [W m-2]\", \"type\": \"quantitative\"}}, \"selection\": {\"selector002\": {\"type\": \"interval\", \"bind\": \"scales\", \"encodings\": [\"x\"]}}, \"title\": \"LW_IN\"}], \"data\": {\"name\": \"data-3433f3f043abbf17e0f2584bdf71cb6b\"}}]}, {\"data\": {\"name\": \"data-f3902519fdae8ed84935978a4731e92a\"}, \"mark\": {\"type\": \"tick\", \"color\": \"black\"}, \"encoding\": {\"color\": {\"condition\": {\"value\": \"black\", \"test\": \"datum.is_missing\"}, \"value\": \"white\"}, \"x\": {\"field\": \"time\", \"type\": \"quantitative\"}}, \"selection\": {\"selector002\": {\"type\": \"interval\", \"bind\": \"scales\", \"encodings\": [\"x\"]}}, \"width\": 350}], \"spacing\": -10}, {\"vconcat\": [{\"layer\": [{\"data\": {\"name\": \"data-e2b44019a2b9c76e9e0ce01b3510c6cf\"}, \"mark\": {\"type\": \"point\", \"color\": \"black\", \"fillOpacity\": 1, \"strokeWidth\": 1}, \"encoding\": {\"fill\": {\"field\": \"is_missing\", \"legend\": {\"title\": [\"Observed data\", \"(is missing)\"]}, \"scale\": {\"range\": [\"#ffffff00\", \"black\"]}, \"type\": \"nominal\"}, \"shape\": {\"field\": \"is_missing\", \"type\": \"nominal\"}, \"x\": {\"axis\": {\"domain\": false, \"labels\": false, \"ticks\": false, \"title\": null}, \"field\": \"time\", \"type\": \"quantitative\"}, \"y\": {\"field\": \"value\", \"scale\": {\"zero\": false}, \"title\": \"VPD [hPa]\", \"type\": \"quantitative\"}}}, {\"layer\": [{\"mark\": \"errorband\", \"encoding\": {\"color\": {\"field\": \"variable\", \"legend\": {\"title\": [\"Line: pred. mean\", \"area: +/- 2 std\", \"(variable)\"]}, \"type\": \"nominal\"}, \"tooltip\": [{\"field\": \"std\", \"format\": \".4\", \"type\": \"quantitative\"}, {\"field\": \"mean\", \"format\": \".4\", \"type\": \"quantitative\"}], \"x\": {\"field\": \"time\", \"type\": \"quantitative\"}, \"y\": {\"field\": \"err_low\", \"scale\": {\"zero\": false}, \"title\": \"VPD [hPa]\", \"type\": \"quantitative\"}, \"y2\": {\"field\": \"err_high\"}}, \"height\": 200, \"transform\": [{\"calculate\": \"datum.mean - 2 * datum.std\", \"as\": \"err_low\"}, {\"calculate\": \"datum.mean + 2 * datum.std\", \"as\": \"err_high\"}], \"width\": 350}, {\"mark\": \"line\", \"encoding\": {\"color\": {\"field\": \"variable\", \"type\": \"nominal\"}, \"x\": {\"field\": \"time\", \"type\": \"quantitative\"}, \"y\": {\"field\": \"mean\", \"scale\": {\"zero\": false}, \"title\": \"VPD [hPa]\", \"type\": \"quantitative\"}}, \"selection\": {\"selector002\": {\"type\": \"interval\", \"bind\": \"scales\", \"encodings\": [\"x\"]}}, \"title\": \"VPD\"}], \"data\": {\"name\": \"data-b3c032496f9437a734eee94cbf1d6624\"}}]}, {\"data\": {\"name\": \"data-e2b44019a2b9c76e9e0ce01b3510c6cf\"}, \"mark\": {\"type\": \"tick\", \"color\": \"black\"}, \"encoding\": {\"color\": {\"condition\": {\"value\": \"black\", \"test\": \"datum.is_missing\"}, \"value\": \"white\"}, \"x\": {\"field\": \"time\", \"type\": \"quantitative\"}}, \"selection\": {\"selector002\": {\"type\": \"interval\", \"bind\": \"scales\", \"encodings\": [\"x\"]}}, \"width\": 350}], \"spacing\": -10}]}, {\"hconcat\": []}, {\"hconcat\": []}, {\"hconcat\": []}, {\"hconcat\": []}, {\"hconcat\": []}, {\"hconcat\": []}, {\"hconcat\": []}, {\"hconcat\": []}, {\"hconcat\": []}, {\"hconcat\": []}, {\"hconcat\": []}, {\"hconcat\": []}, {\"hconcat\": []}, {\"hconcat\": []}, {\"hconcat\": []}, {\"hconcat\": []}, {\"hconcat\": []}, {\"hconcat\": []}, {\"hconcat\": []}, {\"hconcat\": []}, {\"hconcat\": []}, {\"hconcat\": []}, {\"hconcat\": []}, {\"hconcat\": []}, {\"hconcat\": []}, {\"hconcat\": []}, {\"hconcat\": []}, {\"hconcat\": []}, {\"hconcat\": []}, {\"hconcat\": []}, {\"hconcat\": []}, {\"hconcat\": []}, {\"hconcat\": []}, {\"hconcat\": []}, {\"hconcat\": []}, {\"hconcat\": []}, {\"hconcat\": []}, {\"hconcat\": []}, {\"hconcat\": []}, {\"hconcat\": []}, {\"hconcat\": []}, {\"hconcat\": []}, {\"hconcat\": []}, {\"hconcat\": []}, {\"hconcat\": []}, {\"hconcat\": []}, {\"hconcat\": []}, {\"hconcat\": []}, {\"hconcat\": []}, {\"hconcat\": []}, {\"hconcat\": []}, {\"hconcat\": []}, {\"hconcat\": []}, {\"hconcat\": []}, {\"hconcat\": []}, {\"hconcat\": []}, {\"hconcat\": []}, {\"hconcat\": []}, {\"hconcat\": []}, {\"hconcat\": []}, {\"hconcat\": []}, {\"hconcat\": []}, {\"hconcat\": []}, {\"hconcat\": []}, {\"hconcat\": []}, {\"hconcat\": []}, {\"hconcat\": []}, {\"hconcat\": []}, {\"hconcat\": []}, {\"hconcat\": []}, {\"hconcat\": []}, {\"hconcat\": []}, {\"hconcat\": []}, {\"hconcat\": []}, {\"hconcat\": []}, {\"hconcat\": []}, {\"hconcat\": []}, {\"hconcat\": []}, {\"hconcat\": []}, {\"hconcat\": []}, {\"hconcat\": []}, {\"hconcat\": []}, {\"hconcat\": []}, {\"hconcat\": []}, {\"hconcat\": []}, {\"hconcat\": []}, {\"hconcat\": []}, {\"hconcat\": []}, {\"hconcat\": []}, {\"hconcat\": []}, {\"hconcat\": []}, {\"hconcat\": []}, {\"hconcat\": []}, {\"hconcat\": []}, {\"hconcat\": []}, {\"hconcat\": []}, {\"hconcat\": []}, {\"hconcat\": []}, {\"hconcat\": []}, {\"hconcat\": []}, {\"hconcat\": []}, {\"hconcat\": []}, {\"hconcat\": []}, {\"hconcat\": []}, {\"hconcat\": []}, {\"hconcat\": []}, {\"hconcat\": []}, {\"hconcat\": []}, {\"hconcat\": []}, {\"hconcat\": []}, {\"hconcat\": []}, {\"hconcat\": []}, {\"hconcat\": []}, {\"hconcat\": []}, {\"hconcat\": []}, {\"hconcat\": []}, {\"hconcat\": []}, {\"hconcat\": []}, {\"hconcat\": []}, {\"hconcat\": []}, {\"hconcat\": []}, {\"hconcat\": []}, {\"hconcat\": []}, {\"hconcat\": []}, {\"hconcat\": []}, {\"hconcat\": []}, {\"hconcat\": []}, {\"hconcat\": []}, {\"hconcat\": []}, {\"hconcat\": []}, {\"hconcat\": []}, {\"hconcat\": []}, {\"hconcat\": []}, {\"hconcat\": []}, {\"hconcat\": []}, {\"hconcat\": []}, {\"hconcat\": []}, {\"hconcat\": []}, {\"hconcat\": []}, {\"hconcat\": []}, {\"hconcat\": []}, {\"hconcat\": []}, {\"hconcat\": []}, {\"hconcat\": []}, {\"hconcat\": []}, {\"hconcat\": []}, {\"hconcat\": []}, {\"hconcat\": []}, {\"hconcat\": []}, {\"hconcat\": []}, {\"hconcat\": []}, {\"hconcat\": []}, {\"hconcat\": []}, {\"hconcat\": []}, {\"hconcat\": []}, {\"hconcat\": []}, {\"hconcat\": []}, {\"hconcat\": []}, {\"hconcat\": []}, {\"hconcat\": []}, {\"hconcat\": []}, {\"hconcat\": []}, {\"hconcat\": []}, {\"hconcat\": []}, {\"hconcat\": []}, {\"hconcat\": []}, {\"hconcat\": []}, {\"hconcat\": []}, {\"hconcat\": []}, {\"hconcat\": []}, {\"hconcat\": []}, {\"hconcat\": []}, {\"hconcat\": []}, {\"hconcat\": []}, {\"hconcat\": []}, {\"hconcat\": []}, {\"hconcat\": []}, {\"hconcat\": []}, {\"hconcat\": []}, {\"hconcat\": []}, {\"hconcat\": []}, {\"hconcat\": []}, {\"hconcat\": []}, {\"hconcat\": []}, {\"hconcat\": []}, {\"hconcat\": []}, {\"hconcat\": []}, {\"hconcat\": []}, {\"hconcat\": []}, {\"hconcat\": []}, {\"hconcat\": []}, {\"hconcat\": []}, {\"hconcat\": []}, {\"hconcat\": []}, {\"hconcat\": []}, {\"hconcat\": []}, {\"hconcat\": []}, {\"hconcat\": []}, {\"hconcat\": []}, {\"hconcat\": []}, {\"hconcat\": []}, {\"hconcat\": []}, {\"hconcat\": []}, {\"hconcat\": []}, {\"hconcat\": []}, {\"hconcat\": []}, {\"hconcat\": []}, {\"hconcat\": []}, {\"hconcat\": []}, {\"hconcat\": []}, {\"hconcat\": []}, {\"hconcat\": []}, {\"hconcat\": []}, {\"hconcat\": []}, {\"hconcat\": []}, {\"hconcat\": []}, {\"hconcat\": []}, {\"hconcat\": []}, {\"hconcat\": []}, {\"hconcat\": []}, {\"hconcat\": []}, {\"hconcat\": []}, {\"hconcat\": []}, {\"hconcat\": []}, {\"hconcat\": []}, {\"hconcat\": []}, {\"hconcat\": []}, {\"hconcat\": []}, {\"hconcat\": []}, {\"hconcat\": []}, {\"hconcat\": []}, {\"hconcat\": []}, {\"hconcat\": []}, {\"hconcat\": []}, {\"hconcat\": []}, {\"hconcat\": []}, {\"hconcat\": []}, {\"hconcat\": []}, {\"hconcat\": []}, {\"hconcat\": []}, {\"hconcat\": []}, {\"hconcat\": []}, {\"hconcat\": []}, {\"hconcat\": []}, {\"hconcat\": []}, {\"hconcat\": []}, {\"hconcat\": []}, {\"hconcat\": []}, {\"hconcat\": []}, {\"hconcat\": []}, {\"hconcat\": []}, {\"hconcat\": []}, {\"hconcat\": []}, {\"hconcat\": []}, {\"hconcat\": []}, {\"hconcat\": []}, {\"hconcat\": []}, {\"hconcat\": []}, {\"hconcat\": []}, {\"hconcat\": []}, {\"hconcat\": []}, {\"hconcat\": []}, {\"hconcat\": []}, {\"hconcat\": []}, {\"hconcat\": []}, {\"hconcat\": []}, {\"hconcat\": []}, {\"hconcat\": []}, {\"hconcat\": []}, {\"hconcat\": []}, {\"hconcat\": []}, {\"hconcat\": []}, {\"hconcat\": []}, {\"hconcat\": []}, {\"hconcat\": []}, {\"hconcat\": []}, {\"hconcat\": []}, {\"hconcat\": []}, {\"hconcat\": []}, {\"hconcat\": []}, {\"hconcat\": []}, {\"hconcat\": []}, {\"hconcat\": []}, {\"hconcat\": []}, {\"hconcat\": []}, {\"hconcat\": []}, {\"hconcat\": []}, {\"hconcat\": []}, {\"hconcat\": []}, {\"hconcat\": []}, {\"hconcat\": []}, {\"hconcat\": []}, {\"hconcat\": []}, {\"hconcat\": []}, {\"hconcat\": []}, {\"hconcat\": []}, {\"hconcat\": []}, {\"hconcat\": []}], \"$schema\": \"https://vega.github.io/schema/vega-lite/v4.17.0.json\", \"datasets\": {\"data-4444305ed2dd5fb34d6ea715918f0433\": [{\"time\": 0.0, \"variable\": \"TA\", \"value\": -0.6, \"is_missing\": false}, {\"time\": 1.0, \"variable\": \"TA\", \"value\": -0.65, \"is_missing\": true}, {\"time\": 2.0, \"variable\": \"TA\", \"value\": -0.58, \"is_missing\": false}, {\"time\": 3.0, \"variable\": \"TA\", \"value\": -0.51, \"is_missing\": true}, {\"time\": 4.0, \"variable\": \"TA\", \"value\": -0.49, \"is_missing\": false}, {\"time\": 5.0, \"variable\": \"TA\", \"value\": -0.4, \"is_missing\": false}, {\"time\": 6.0, \"variable\": \"TA\", \"value\": -0.36, \"is_missing\": false}, {\"time\": 7.0, \"variable\": \"TA\", \"value\": -0.35, \"is_missing\": false}, {\"time\": 8.0, \"variable\": \"TA\", \"value\": -0.28, \"is_missing\": true}, {\"time\": 9.0, \"variable\": \"TA\", \"value\": -0.27, \"is_missing\": false}, {\"time\": 10.0, \"variable\": \"TA\", \"value\": -0.23, \"is_missing\": false}, {\"time\": 11.0, \"variable\": \"TA\", \"value\": -0.23, \"is_missing\": false}, {\"time\": 12.0, \"variable\": \"TA\", \"value\": -0.22, \"is_missing\": false}, {\"time\": 13.0, \"variable\": \"TA\", \"value\": -0.24, \"is_missing\": false}, {\"time\": 14.0, \"variable\": \"TA\", \"value\": -0.23, \"is_missing\": false}, {\"time\": 15.0, \"variable\": \"TA\", \"value\": -0.22, \"is_missing\": false}, {\"time\": 16.0, \"variable\": \"TA\", \"value\": -0.19, \"is_missing\": false}, {\"time\": 17.0, \"variable\": \"TA\", \"value\": -0.14, \"is_missing\": false}, {\"time\": 18.0, \"variable\": \"TA\", \"value\": -0.03, \"is_missing\": false}, {\"time\": 19.0, \"variable\": \"TA\", \"value\": 0.04, \"is_missing\": false}, {\"time\": 20.0, \"variable\": \"TA\", \"value\": 0.1, \"is_missing\": true}, {\"time\": 21.0, \"variable\": \"TA\", \"value\": 0.18, \"is_missing\": false}, {\"time\": 22.0, \"variable\": \"TA\", \"value\": 0.21, \"is_missing\": false}, {\"time\": 23.0, \"variable\": \"TA\", \"value\": 0.23, \"is_missing\": true}, {\"time\": 24.0, \"variable\": \"TA\", \"value\": 0.33, \"is_missing\": false}, {\"time\": 25.0, \"variable\": \"TA\", \"value\": 0.41, \"is_missing\": false}, {\"time\": 26.0, \"variable\": \"TA\", \"value\": 0.44, \"is_missing\": false}, {\"time\": 27.0, \"variable\": \"TA\", \"value\": 0.48, \"is_missing\": false}, {\"time\": 28.0, \"variable\": \"TA\", \"value\": 0.49, \"is_missing\": false}, {\"time\": 29.0, \"variable\": \"TA\", \"value\": 0.51, \"is_missing\": false}, {\"time\": 30.0, \"variable\": \"TA\", \"value\": 0.52, \"is_missing\": false}, {\"time\": 31.0, \"variable\": \"TA\", \"value\": 0.57, \"is_missing\": false}, {\"time\": 32.0, \"variable\": \"TA\", \"value\": 0.73, \"is_missing\": false}, {\"time\": 33.0, \"variable\": \"TA\", \"value\": 0.77, \"is_missing\": false}, {\"time\": 34.0, \"variable\": \"TA\", \"value\": 0.84, \"is_missing\": true}, {\"time\": 35.0, \"variable\": \"TA\", \"value\": 0.99, \"is_missing\": true}, {\"time\": 36.0, \"variable\": \"TA\", \"value\": 1.35, \"is_missing\": false}, {\"time\": 37.0, \"variable\": \"TA\", \"value\": 1.86, \"is_missing\": false}, {\"time\": 38.0, \"variable\": \"TA\", \"value\": 2.01, \"is_missing\": false}, {\"time\": 39.0, \"variable\": \"TA\", \"value\": 2.07, \"is_missing\": false}, {\"time\": 40.0, \"variable\": \"TA\", \"value\": 2.0, \"is_missing\": false}, {\"time\": 41.0, \"variable\": \"TA\", \"value\": 2.19, \"is_missing\": false}, {\"time\": 42.0, \"variable\": \"TA\", \"value\": 2.26, \"is_missing\": true}, {\"time\": 43.0, \"variable\": \"TA\", \"value\": 2.53, \"is_missing\": true}, {\"time\": 44.0, \"variable\": \"TA\", \"value\": 2.59, \"is_missing\": false}, {\"time\": 45.0, \"variable\": \"TA\", \"value\": 2.6, \"is_missing\": false}, {\"time\": 46.0, \"variable\": \"TA\", \"value\": 2.53, \"is_missing\": false}, {\"time\": 47.0, \"variable\": \"TA\", \"value\": 2.3, \"is_missing\": false}, {\"time\": 48.0, \"variable\": \"TA\", \"value\": 2.08, \"is_missing\": true}, {\"time\": 49.0, \"variable\": \"TA\", \"value\": 1.93, \"is_missing\": false}, {\"time\": 50.0, \"variable\": \"TA\", \"value\": 1.84, \"is_missing\": false}, {\"time\": 51.0, \"variable\": \"TA\", \"value\": 1.85, \"is_missing\": false}, {\"time\": 52.0, \"variable\": \"TA\", \"value\": 1.59, \"is_missing\": false}, {\"time\": 53.0, \"variable\": \"TA\", \"value\": 1.43, \"is_missing\": false}, {\"time\": 54.0, \"variable\": \"TA\", \"value\": 1.33, \"is_missing\": false}, {\"time\": 55.0, \"variable\": \"TA\", \"value\": 1.23, \"is_missing\": true}, {\"time\": 56.0, \"variable\": \"TA\", \"value\": 1.04, \"is_missing\": true}, {\"time\": 57.0, \"variable\": \"TA\", \"value\": 0.94, \"is_missing\": true}, {\"time\": 58.0, \"variable\": \"TA\", \"value\": 0.81, \"is_missing\": false}, {\"time\": 59.0, \"variable\": \"TA\", \"value\": 0.79, \"is_missing\": false}, {\"time\": 60.0, \"variable\": \"TA\", \"value\": 0.68, \"is_missing\": false}, {\"time\": 61.0, \"variable\": \"TA\", \"value\": 0.65, \"is_missing\": false}, {\"time\": 62.0, \"variable\": \"TA\", \"value\": 0.58, \"is_missing\": false}, {\"time\": 63.0, \"variable\": \"TA\", \"value\": 0.49, \"is_missing\": false}, {\"time\": 64.0, \"variable\": \"TA\", \"value\": 0.57, \"is_missing\": false}, {\"time\": 65.0, \"variable\": \"TA\", \"value\": 0.25, \"is_missing\": false}, {\"time\": 66.0, \"variable\": \"TA\", \"value\": 0.35, \"is_missing\": false}, {\"time\": 67.0, \"variable\": \"TA\", \"value\": 0.27, \"is_missing\": false}, {\"time\": 68.0, \"variable\": \"TA\", \"value\": 0.35, \"is_missing\": false}, {\"time\": 69.0, \"variable\": \"TA\", \"value\": 0.57, \"is_missing\": true}, {\"time\": 70.0, \"variable\": \"TA\", \"value\": 0.63, \"is_missing\": true}, {\"time\": 71.0, \"variable\": \"TA\", \"value\": 0.73, \"is_missing\": false}, {\"time\": 72.0, \"variable\": \"TA\", \"value\": 0.78, \"is_missing\": true}, {\"time\": 73.0, \"variable\": \"TA\", \"value\": 1.05, \"is_missing\": false}, {\"time\": 74.0, \"variable\": \"TA\", \"value\": 1.19, \"is_missing\": true}, {\"time\": 75.0, \"variable\": \"TA\", \"value\": 1.41, \"is_missing\": false}, {\"time\": 76.0, \"variable\": \"TA\", \"value\": 1.54, \"is_missing\": true}, {\"time\": 77.0, \"variable\": \"TA\", \"value\": 1.08, \"is_missing\": false}, {\"time\": 78.0, \"variable\": \"TA\", \"value\": 0.62, \"is_missing\": true}, {\"time\": 79.0, \"variable\": \"TA\", \"value\": 0.57, \"is_missing\": false}, {\"time\": 80.0, \"variable\": \"TA\", \"value\": 0.53, \"is_missing\": false}, {\"time\": 81.0, \"variable\": \"TA\", \"value\": 0.57, \"is_missing\": false}, {\"time\": 82.0, \"variable\": \"TA\", \"value\": 0.51, \"is_missing\": false}, {\"time\": 83.0, \"variable\": \"TA\", \"value\": 0.39, \"is_missing\": false}, {\"time\": 84.0, \"variable\": \"TA\", \"value\": 0.35, \"is_missing\": false}, {\"time\": 85.0, \"variable\": \"TA\", \"value\": 0.4, \"is_missing\": false}, {\"time\": 86.0, \"variable\": \"TA\", \"value\": 0.66, \"is_missing\": false}, {\"time\": 87.0, \"variable\": \"TA\", \"value\": 0.76, \"is_missing\": true}, {\"time\": 88.0, \"variable\": \"TA\", \"value\": 0.81, \"is_missing\": false}, {\"time\": 89.0, \"variable\": \"TA\", \"value\": 0.94, \"is_missing\": false}, {\"time\": 90.0, \"variable\": \"TA\", \"value\": 0.97, \"is_missing\": true}, {\"time\": 91.0, \"variable\": \"TA\", \"value\": 0.85, \"is_missing\": false}, {\"time\": 92.0, \"variable\": \"TA\", \"value\": 0.77, \"is_missing\": false}, {\"time\": 93.0, \"variable\": \"TA\", \"value\": 0.63, \"is_missing\": false}, {\"time\": 94.0, \"variable\": \"TA\", \"value\": 0.52, \"is_missing\": true}, {\"time\": 95.0, \"variable\": \"TA\", \"value\": 0.48, \"is_missing\": false}, {\"time\": 96.0, \"variable\": \"TA\", \"value\": 0.41, \"is_missing\": true}, {\"time\": 97.0, \"variable\": \"TA\", \"value\": 0.29, \"is_missing\": false}, {\"time\": 98.0, \"variable\": \"TA\", \"value\": 0.31, \"is_missing\": false}, {\"time\": 99.0, \"variable\": \"TA\", \"value\": 0.42, \"is_missing\": true}, {\"time\": 100.0, \"variable\": \"TA\", \"value\": 0.51, \"is_missing\": false}, {\"time\": 101.0, \"variable\": \"TA\", \"value\": 0.57, \"is_missing\": false}, {\"time\": 102.0, \"variable\": \"TA\", \"value\": 0.65, \"is_missing\": true}, {\"time\": 103.0, \"variable\": \"TA\", \"value\": 0.81, \"is_missing\": false}, {\"time\": 104.0, \"variable\": \"TA\", \"value\": 0.95, \"is_missing\": true}, {\"time\": 105.0, \"variable\": \"TA\", \"value\": 1.09, \"is_missing\": false}, {\"time\": 106.0, \"variable\": \"TA\", \"value\": 1.18, \"is_missing\": false}, {\"time\": 107.0, \"variable\": \"TA\", \"value\": 1.35, \"is_missing\": false}, {\"time\": 108.0, \"variable\": \"TA\", \"value\": 1.42, \"is_missing\": false}, {\"time\": 109.0, \"variable\": \"TA\", \"value\": 1.42, \"is_missing\": true}, {\"time\": 110.0, \"variable\": \"TA\", \"value\": 1.57, \"is_missing\": false}, {\"time\": 111.0, \"variable\": \"TA\", \"value\": 1.67, \"is_missing\": true}, {\"time\": 112.0, \"variable\": \"TA\", \"value\": 1.8, \"is_missing\": false}, {\"time\": 113.0, \"variable\": \"TA\", \"value\": 1.86, \"is_missing\": false}, {\"time\": 114.0, \"variable\": \"TA\", \"value\": 1.91, \"is_missing\": false}, {\"time\": 115.0, \"variable\": \"TA\", \"value\": 1.95, \"is_missing\": false}, {\"time\": 116.0, \"variable\": \"TA\", \"value\": 1.99, \"is_missing\": false}, {\"time\": 117.0, \"variable\": \"TA\", \"value\": 2.1, \"is_missing\": false}, {\"time\": 118.0, \"variable\": \"TA\", \"value\": 2.32, \"is_missing\": true}, {\"time\": 119.0, \"variable\": \"TA\", \"value\": 2.53, \"is_missing\": true}, {\"time\": 120.0, \"variable\": \"TA\", \"value\": 2.48, \"is_missing\": false}, {\"time\": 121.0, \"variable\": \"TA\", \"value\": 2.39, \"is_missing\": true}, {\"time\": 122.0, \"variable\": \"TA\", \"value\": 2.52, \"is_missing\": true}, {\"time\": 123.0, \"variable\": \"TA\", \"value\": 2.68, \"is_missing\": false}, {\"time\": 124.0, \"variable\": \"TA\", \"value\": 2.7, \"is_missing\": false}, {\"time\": 125.0, \"variable\": \"TA\", \"value\": 2.7, \"is_missing\": false}, {\"time\": 126.0, \"variable\": \"TA\", \"value\": 2.61, \"is_missing\": true}, {\"time\": 127.0, \"variable\": \"TA\", \"value\": 2.45, \"is_missing\": false}, {\"time\": 128.0, \"variable\": \"TA\", \"value\": 2.36, \"is_missing\": true}, {\"time\": 129.0, \"variable\": \"TA\", \"value\": 2.33, \"is_missing\": false}, {\"time\": 130.0, \"variable\": \"TA\", \"value\": 2.22, \"is_missing\": true}, {\"time\": 131.0, \"variable\": \"TA\", \"value\": 2.07, \"is_missing\": true}, {\"time\": 132.0, \"variable\": \"TA\", \"value\": 1.96, \"is_missing\": true}, {\"time\": 133.0, \"variable\": \"TA\", \"value\": 2.01, \"is_missing\": true}, {\"time\": 134.0, \"variable\": \"TA\", \"value\": 2.01, \"is_missing\": true}, {\"time\": 135.0, \"variable\": \"TA\", \"value\": 2.06, \"is_missing\": false}, {\"time\": 136.0, \"variable\": \"TA\", \"value\": 2.14, \"is_missing\": false}, {\"time\": 137.0, \"variable\": \"TA\", \"value\": 2.11, \"is_missing\": false}, {\"time\": 138.0, \"variable\": \"TA\", \"value\": 2.1, \"is_missing\": false}, {\"time\": 139.0, \"variable\": \"TA\", \"value\": 2.07, \"is_missing\": false}, {\"time\": 140.0, \"variable\": \"TA\", \"value\": 2.09, \"is_missing\": false}, {\"time\": 141.0, \"variable\": \"TA\", \"value\": 2.11, \"is_missing\": false}, {\"time\": 142.0, \"variable\": \"TA\", \"value\": 2.1, \"is_missing\": false}, {\"time\": 143.0, \"variable\": \"TA\", \"value\": 2.1, \"is_missing\": true}, {\"time\": 144.0, \"variable\": \"TA\", \"value\": 2.01, \"is_missing\": false}, {\"time\": 145.0, \"variable\": \"TA\", \"value\": 2.05, \"is_missing\": true}, {\"time\": 146.0, \"variable\": \"TA\", \"value\": 2.13, \"is_missing\": false}, {\"time\": 147.0, \"variable\": \"TA\", \"value\": 2.1, \"is_missing\": false}, {\"time\": 148.0, \"variable\": \"TA\", \"value\": 2.19, \"is_missing\": false}, {\"time\": 149.0, \"variable\": \"TA\", \"value\": 2.27, \"is_missing\": false}], \"data-0ff5e9e07a53b4c2bc71a5182f6a1143\": [{\"time\": 0.0, \"variable\": \"TA\", \"mean\": -0.6, \"std\": null}, {\"time\": 2.0, \"variable\": \"TA\", \"mean\": -0.58, \"std\": null}, {\"time\": 4.0, \"variable\": \"TA\", \"mean\": -0.49, \"std\": null}, {\"time\": 5.0, \"variable\": \"TA\", \"mean\": -0.4, \"std\": null}, {\"time\": 6.0, \"variable\": \"TA\", \"mean\": -0.36, \"std\": null}, {\"time\": 7.0, \"variable\": \"TA\", \"mean\": -0.35, \"std\": null}, {\"time\": 9.0, \"variable\": \"TA\", \"mean\": -0.27, \"std\": null}, {\"time\": 10.0, \"variable\": \"TA\", \"mean\": -0.23, \"std\": null}, {\"time\": 11.0, \"variable\": \"TA\", \"mean\": -0.23, \"std\": null}, {\"time\": 12.0, \"variable\": \"TA\", \"mean\": -0.22, \"std\": null}, {\"time\": 13.0, \"variable\": \"TA\", \"mean\": -0.24, \"std\": null}, {\"time\": 14.0, \"variable\": \"TA\", \"mean\": -0.23, \"std\": null}, {\"time\": 15.0, \"variable\": \"TA\", \"mean\": -0.22, \"std\": null}, {\"time\": 16.0, \"variable\": \"TA\", \"mean\": -0.19, \"std\": null}, {\"time\": 18.0, \"variable\": \"TA\", \"mean\": -0.03, \"std\": null}, {\"time\": 21.0, \"variable\": \"TA\", \"mean\": 0.18, \"std\": null}, {\"time\": 25.0, \"variable\": \"TA\", \"mean\": 0.41, \"std\": null}, {\"time\": 26.0, \"variable\": \"TA\", \"mean\": 0.44, \"std\": null}, {\"time\": 27.0, \"variable\": \"TA\", \"mean\": 0.48, \"std\": null}, {\"time\": 28.0, \"variable\": \"TA\", \"mean\": 0.49, \"std\": null}, {\"time\": 29.0, \"variable\": \"TA\", \"mean\": 0.51, \"std\": null}, {\"time\": 31.0, \"variable\": \"TA\", \"mean\": 0.57, \"std\": null}, {\"time\": 32.0, \"variable\": \"TA\", \"mean\": 0.73, \"std\": null}, {\"time\": 33.0, \"variable\": \"TA\", \"mean\": 0.77, \"std\": null}, {\"time\": 36.0, \"variable\": \"TA\", \"mean\": 1.35, \"std\": null}, {\"time\": 37.0, \"variable\": \"TA\", \"mean\": 1.86, \"std\": null}, {\"time\": 38.0, \"variable\": \"TA\", \"mean\": 2.01, \"std\": null}, {\"time\": 39.0, \"variable\": \"TA\", \"mean\": 2.07, \"std\": null}, {\"time\": 40.0, \"variable\": \"TA\", \"mean\": 2.0, \"std\": null}, {\"time\": 45.0, \"variable\": \"TA\", \"mean\": 2.6, \"std\": null}, {\"time\": 47.0, \"variable\": \"TA\", \"mean\": 2.3, \"std\": null}, {\"time\": 49.0, \"variable\": \"TA\", \"mean\": 1.93, \"std\": null}, {\"time\": 50.0, \"variable\": \"TA\", \"mean\": 1.84, \"std\": null}, {\"time\": 51.0, \"variable\": \"TA\", \"mean\": 1.85, \"std\": null}, {\"time\": 53.0, \"variable\": \"TA\", \"mean\": 1.43, \"std\": null}, {\"time\": 54.0, \"variable\": \"TA\", \"mean\": 1.33, \"std\": null}, {\"time\": 58.0, \"variable\": \"TA\", \"mean\": 0.81, \"std\": null}, {\"time\": 60.0, \"variable\": \"TA\", \"mean\": 0.68, \"std\": null}, {\"time\": 61.0, \"variable\": \"TA\", \"mean\": 0.65, \"std\": null}, {\"time\": 63.0, \"variable\": \"TA\", \"mean\": 0.49, \"std\": null}, {\"time\": 66.0, \"variable\": \"TA\", \"mean\": 0.35, \"std\": null}, {\"time\": 67.0, \"variable\": \"TA\", \"mean\": 0.27, \"std\": null}, {\"time\": 71.0, \"variable\": \"TA\", \"mean\": 0.73, \"std\": null}, {\"time\": 73.0, \"variable\": \"TA\", \"mean\": 1.05, \"std\": null}, {\"time\": 75.0, \"variable\": \"TA\", \"mean\": 1.41, \"std\": null}, {\"time\": 77.0, \"variable\": \"TA\", \"mean\": 1.08, \"std\": null}, {\"time\": 79.0, \"variable\": \"TA\", \"mean\": 0.57, \"std\": null}, {\"time\": 80.0, \"variable\": \"TA\", \"mean\": 0.53, \"std\": null}, {\"time\": 81.0, \"variable\": \"TA\", \"mean\": 0.57, \"std\": null}, {\"time\": 82.0, \"variable\": \"TA\", \"mean\": 0.51, \"std\": null}, {\"time\": 83.0, \"variable\": \"TA\", \"mean\": 0.39, \"std\": null}, {\"time\": 84.0, \"variable\": \"TA\", \"mean\": 0.35, \"std\": null}, {\"time\": 86.0, \"variable\": \"TA\", \"mean\": 0.66, \"std\": null}, {\"time\": 89.0, \"variable\": \"TA\", \"mean\": 0.94, \"std\": null}, {\"time\": 91.0, \"variable\": \"TA\", \"mean\": 0.85, \"std\": null}, {\"time\": 92.0, \"variable\": \"TA\", \"mean\": 0.77, \"std\": null}, {\"time\": 93.0, \"variable\": \"TA\", \"mean\": 0.63, \"std\": null}, {\"time\": 95.0, \"variable\": \"TA\", \"mean\": 0.48, \"std\": null}, {\"time\": 97.0, \"variable\": \"TA\", \"mean\": 0.29, \"std\": null}, {\"time\": 98.0, \"variable\": \"TA\", \"mean\": 0.31, \"std\": null}, {\"time\": 100.0, \"variable\": \"TA\", \"mean\": 0.51, \"std\": null}, {\"time\": 101.0, \"variable\": \"TA\", \"mean\": 0.57, \"std\": null}, {\"time\": 103.0, \"variable\": \"TA\", \"mean\": 0.81, \"std\": null}, {\"time\": 106.0, \"variable\": \"TA\", \"mean\": 1.18, \"std\": null}, {\"time\": 107.0, \"variable\": \"TA\", \"mean\": 1.35, \"std\": null}, {\"time\": 108.0, \"variable\": \"TA\", \"mean\": 1.42, \"std\": null}, {\"time\": 110.0, \"variable\": \"TA\", \"mean\": 1.57, \"std\": null}, {\"time\": 113.0, \"variable\": \"TA\", \"mean\": 1.86, \"std\": null}, {\"time\": 115.0, \"variable\": \"TA\", \"mean\": 1.95, \"std\": null}, {\"time\": 116.0, \"variable\": \"TA\", \"mean\": 1.99, \"std\": null}, {\"time\": 117.0, \"variable\": \"TA\", \"mean\": 2.1, \"std\": null}, {\"time\": 123.0, \"variable\": \"TA\", \"mean\": 2.68, \"std\": null}, {\"time\": 124.0, \"variable\": \"TA\", \"mean\": 2.7, \"std\": null}, {\"time\": 125.0, \"variable\": \"TA\", \"mean\": 2.7, \"std\": null}, {\"time\": 129.0, \"variable\": \"TA\", \"mean\": 2.33, \"std\": null}, {\"time\": 135.0, \"variable\": \"TA\", \"mean\": 2.06, \"std\": null}, {\"time\": 137.0, \"variable\": \"TA\", \"mean\": 2.11, \"std\": null}, {\"time\": 138.0, \"variable\": \"TA\", \"mean\": 2.1, \"std\": null}, {\"time\": 139.0, \"variable\": \"TA\", \"mean\": 2.07, \"std\": null}, {\"time\": 140.0, \"variable\": \"TA\", \"mean\": 2.09, \"std\": null}, {\"time\": 141.0, \"variable\": \"TA\", \"mean\": 2.11, \"std\": null}, {\"time\": 142.0, \"variable\": \"TA\", \"mean\": 2.1, \"std\": null}, {\"time\": 144.0, \"variable\": \"TA\", \"mean\": 2.01, \"std\": null}, {\"time\": 146.0, \"variable\": \"TA\", \"mean\": 2.13, \"std\": null}, {\"time\": 147.0, \"variable\": \"TA\", \"mean\": 2.1, \"std\": null}, {\"time\": 1.0, \"variable\": \"TA\", \"mean\": 0.782915472984314, \"std\": 0.6167091131210327}, {\"time\": 3.0, \"variable\": \"TA\", \"mean\": 0.6477689743041992, \"std\": 0.6147946119308472}, {\"time\": 8.0, \"variable\": \"TA\", \"mean\": 0.7015149593353271, \"std\": 0.614786684513092}, {\"time\": 17.0, \"variable\": \"TA\", \"mean\": -0.13999998569488525, \"std\": 0.0}, {\"time\": 19.0, \"variable\": \"TA\", \"mean\": 0.040000081062316895, \"std\": 0.0}, {\"time\": 20.0, \"variable\": \"TA\", \"mean\": 0.3818093538284302, \"std\": 0.6146888136863708}, {\"time\": 22.0, \"variable\": \"TA\", \"mean\": 0.20999997854232788, \"std\": 0.0}, {\"time\": 23.0, \"variable\": \"TA\", \"mean\": 0.4120933413505554, \"std\": 0.6142572164535522}, {\"time\": 24.0, \"variable\": \"TA\", \"mean\": 0.33000004291534424, \"std\": 0.0}, {\"time\": 30.0, \"variable\": \"TA\", \"mean\": 0.5199999809265137, \"std\": 0.0}, {\"time\": 34.0, \"variable\": \"TA\", \"mean\": 0.40195250511169434, \"std\": 0.6156372427940369}, {\"time\": 35.0, \"variable\": \"TA\", \"mean\": 0.37711799144744873, \"std\": 0.6156290173530579}, {\"time\": 41.0, \"variable\": \"TA\", \"mean\": 2.190000057220459, \"std\": 0.0}, {\"time\": 42.0, \"variable\": \"TA\", \"mean\": 1.0446124076843262, \"std\": 0.6156628727912903}, {\"time\": 43.0, \"variable\": \"TA\", \"mean\": 1.2893187999725342, \"std\": 0.6156105399131775}, {\"time\": 44.0, \"variable\": \"TA\", \"mean\": 2.5899999141693115, \"std\": 0.0}, {\"time\": 46.0, \"variable\": \"TA\", \"mean\": 2.5299999713897705, \"std\": 0.0}, {\"time\": 48.0, \"variable\": \"TA\", \"mean\": 1.6513723134994507, \"std\": 0.6147358417510986}, {\"time\": 52.0, \"variable\": \"TA\", \"mean\": 1.590000033378601, \"std\": 0.0}, {\"time\": 55.0, \"variable\": \"TA\", \"mean\": 1.0896008014678955, \"std\": 0.6153011918067932}, {\"time\": 56.0, \"variable\": \"TA\", \"mean\": 1.023078441619873, \"std\": 0.6154391765594482}, {\"time\": 57.0, \"variable\": \"TA\", \"mean\": 0.9350661039352417, \"std\": 0.6152751445770264}, {\"time\": 59.0, \"variable\": \"TA\", \"mean\": 0.7900000214576721, \"std\": 0.0}, {\"time\": 62.0, \"variable\": \"TA\", \"mean\": 0.5799999833106995, \"std\": 0.0}, {\"time\": 64.0, \"variable\": \"TA\", \"mean\": 0.5699999928474426, \"std\": 0.0}, {\"time\": 65.0, \"variable\": \"TA\", \"mean\": 0.25, \"std\": 0.0}, {\"time\": 68.0, \"variable\": \"TA\", \"mean\": 0.3500000238418579, \"std\": 0.0}, {\"time\": 69.0, \"variable\": \"TA\", \"mean\": 1.184250831604004, \"std\": 0.6160865426063538}, {\"time\": 70.0, \"variable\": \"TA\", \"mean\": 1.3039345741271973, \"std\": 0.6165731549263}, {\"time\": 72.0, \"variable\": \"TA\", \"mean\": 1.4933279752731323, \"std\": 0.6164266467094421}, {\"time\": 74.0, \"variable\": \"TA\", \"mean\": 1.5155267715454102, \"std\": 0.6154471635818481}, {\"time\": 76.0, \"variable\": \"TA\", \"mean\": 1.288961410522461, \"std\": 0.614914059638977}, {\"time\": 78.0, \"variable\": \"TA\", \"mean\": 0.8932074904441833, \"std\": 0.6148204803466797}, {\"time\": 85.0, \"variable\": \"TA\", \"mean\": 0.3999999761581421, \"std\": 0.0}, {\"time\": 87.0, \"variable\": \"TA\", \"mean\": 0.9552851915359497, \"std\": 0.616858184337616}, {\"time\": 88.0, \"variable\": \"TA\", \"mean\": 0.8100000023841858, \"std\": 0.0}, {\"time\": 90.0, \"variable\": \"TA\", \"mean\": 0.8886759281158447, \"std\": 0.6157379150390625}, {\"time\": 94.0, \"variable\": \"TA\", \"mean\": 0.5019969940185547, \"std\": 0.6148056983947754}, {\"time\": 96.0, \"variable\": \"TA\", \"mean\": 0.4047703146934509, \"std\": 0.6146528720855713}, {\"time\": 99.0, \"variable\": \"TA\", \"mean\": 0.37518560886383057, \"std\": 0.6149316430091858}, {\"time\": 102.0, \"variable\": \"TA\", \"mean\": 0.3488242030143738, \"std\": 0.6159756779670715}, {\"time\": 104.0, \"variable\": \"TA\", \"mean\": 0.36781758069992065, \"std\": 0.6163573861122131}, {\"time\": 105.0, \"variable\": \"TA\", \"mean\": 1.090000033378601, \"std\": 0.0}, {\"time\": 109.0, \"variable\": \"TA\", \"mean\": 1.0367532968521118, \"std\": 0.6153104901313782}, {\"time\": 111.0, \"variable\": \"TA\", \"mean\": 1.501310110092163, \"std\": 0.615570068359375}, {\"time\": 112.0, \"variable\": \"TA\", \"mean\": 1.7999999523162842, \"std\": 0.0}, {\"time\": 114.0, \"variable\": \"TA\", \"mean\": 1.909999966621399, \"std\": 0.0}, {\"time\": 118.0, \"variable\": \"TA\", \"mean\": 2.638338088989258, \"std\": 0.6165285706520081}, {\"time\": 119.0, \"variable\": \"TA\", \"mean\": 2.704756736755371, \"std\": 0.6182417273521423}, {\"time\": 120.0, \"variable\": \"TA\", \"mean\": 2.4800000190734863, \"std\": 0.0}, {\"time\": 121.0, \"variable\": \"TA\", \"mean\": 2.7659993171691895, \"std\": 0.619327962398529}, {\"time\": 122.0, \"variable\": \"TA\", \"mean\": 2.761539936065674, \"std\": 0.6180552244186401}, {\"time\": 126.0, \"variable\": \"TA\", \"mean\": 2.5266175270080566, \"std\": 0.6168732643127441}, {\"time\": 127.0, \"variable\": \"TA\", \"mean\": 2.450000047683716, \"std\": 0.0}, {\"time\": 128.0, \"variable\": \"TA\", \"mean\": 2.297954797744751, \"std\": 0.6174735426902771}, {\"time\": 130.0, \"variable\": \"TA\", \"mean\": 2.0425243377685547, \"std\": 0.6171151995658875}, {\"time\": 131.0, \"variable\": \"TA\", \"mean\": 1.926670789718628, \"std\": 0.6173278093338013}, {\"time\": 132.0, \"variable\": \"TA\", \"mean\": 1.830230712890625, \"std\": 0.6175055503845215}, {\"time\": 133.0, \"variable\": \"TA\", \"mean\": 1.7580937147140503, \"std\": 0.6172794103622437}, {\"time\": 134.0, \"variable\": \"TA\", \"mean\": 1.7101106643676758, \"std\": 0.6166015267372131}, {\"time\": 136.0, \"variable\": \"TA\", \"mean\": 2.140000104904175, \"std\": 0.0}, {\"time\": 143.0, \"variable\": \"TA\", \"mean\": 1.7537615299224854, \"std\": 0.6146873235702515}, {\"time\": 145.0, \"variable\": \"TA\", \"mean\": 2.1547207832336426, \"std\": 0.6152865886688232}, {\"time\": 148.0, \"variable\": \"TA\", \"mean\": 2.190000057220459, \"std\": 0.0}, {\"time\": 149.0, \"variable\": \"TA\", \"mean\": 2.2699999809265137, \"std\": 0.0}], \"data-208d0b466b3e77f592197092974c820e\": [{\"time\": 0.0, \"variable\": \"SW_IN\", \"value\": 0.0, \"is_missing\": false}, {\"time\": 1.0, \"variable\": \"SW_IN\", \"value\": 0.0, \"is_missing\": true}, {\"time\": 2.0, \"variable\": \"SW_IN\", \"value\": 0.0, \"is_missing\": false}, {\"time\": 3.0, \"variable\": \"SW_IN\", \"value\": 0.0, \"is_missing\": false}, {\"time\": 4.0, \"variable\": \"SW_IN\", \"value\": 0.0, \"is_missing\": false}, {\"time\": 5.0, \"variable\": \"SW_IN\", \"value\": 0.0, \"is_missing\": false}, {\"time\": 6.0, \"variable\": \"SW_IN\", \"value\": 0.0, \"is_missing\": false}, {\"time\": 7.0, \"variable\": \"SW_IN\", \"value\": 0.0, \"is_missing\": false}, {\"time\": 8.0, \"variable\": \"SW_IN\", \"value\": 0.0, \"is_missing\": true}, {\"time\": 9.0, \"variable\": \"SW_IN\", \"value\": 0.0, \"is_missing\": false}, {\"time\": 10.0, \"variable\": \"SW_IN\", \"value\": 0.0, \"is_missing\": false}, {\"time\": 11.0, \"variable\": \"SW_IN\", \"value\": 0.0, \"is_missing\": false}, {\"time\": 12.0, \"variable\": \"SW_IN\", \"value\": 0.0, \"is_missing\": false}, {\"time\": 13.0, \"variable\": \"SW_IN\", \"value\": 0.0, \"is_missing\": false}, {\"time\": 14.0, \"variable\": \"SW_IN\", \"value\": 0.0, \"is_missing\": false}, {\"time\": 15.0, \"variable\": \"SW_IN\", \"value\": 0.0, \"is_missing\": false}, {\"time\": 16.0, \"variable\": \"SW_IN\", \"value\": 0.45, \"is_missing\": false}, {\"time\": 17.0, \"variable\": \"SW_IN\", \"value\": 3.7, \"is_missing\": false}, {\"time\": 18.0, \"variable\": \"SW_IN\", \"value\": 7.26, \"is_missing\": false}, {\"time\": 19.0, \"variable\": \"SW_IN\", \"value\": 12.24, \"is_missing\": true}, {\"time\": 20.0, \"variable\": \"SW_IN\", \"value\": 16.51, \"is_missing\": true}, {\"time\": 21.0, \"variable\": \"SW_IN\", \"value\": 24.73, \"is_missing\": false}, {\"time\": 22.0, \"variable\": \"SW_IN\", \"value\": 47.42, \"is_missing\": true}, {\"time\": 23.0, \"variable\": \"SW_IN\", \"value\": 22.05, \"is_missing\": false}, {\"time\": 24.0, \"variable\": \"SW_IN\", \"value\": 18.86, \"is_missing\": false}, {\"time\": 25.0, \"variable\": \"SW_IN\", \"value\": 21.1, \"is_missing\": false}, {\"time\": 26.0, \"variable\": \"SW_IN\", \"value\": 28.87, \"is_missing\": false}, {\"time\": 27.0, \"variable\": \"SW_IN\", \"value\": 24.22, \"is_missing\": false}, {\"time\": 28.0, \"variable\": \"SW_IN\", \"value\": 24.35, \"is_missing\": false}, {\"time\": 29.0, \"variable\": \"SW_IN\", \"value\": 15.68, \"is_missing\": false}, {\"time\": 30.0, \"variable\": \"SW_IN\", \"value\": 8.09, \"is_missing\": false}, {\"time\": 31.0, \"variable\": \"SW_IN\", \"value\": 6.37, \"is_missing\": false}, {\"time\": 32.0, \"variable\": \"SW_IN\", \"value\": 1.72, \"is_missing\": false}, {\"time\": 33.0, \"variable\": \"SW_IN\", \"value\": 0.06, \"is_missing\": false}, {\"time\": 34.0, \"variable\": \"SW_IN\", \"value\": 0.0, \"is_missing\": true}, {\"time\": 35.0, \"variable\": \"SW_IN\", \"value\": 0.0, \"is_missing\": true}, {\"time\": 36.0, \"variable\": \"SW_IN\", \"value\": 0.0, \"is_missing\": false}, {\"time\": 37.0, \"variable\": \"SW_IN\", \"value\": 0.0, \"is_missing\": false}, {\"time\": 38.0, \"variable\": \"SW_IN\", \"value\": 0.0, \"is_missing\": false}, {\"time\": 39.0, \"variable\": \"SW_IN\", \"value\": 0.0, \"is_missing\": false}, {\"time\": 40.0, \"variable\": \"SW_IN\", \"value\": 0.0, \"is_missing\": false}, {\"time\": 41.0, \"variable\": \"SW_IN\", \"value\": 0.0, \"is_missing\": true}, {\"time\": 42.0, \"variable\": \"SW_IN\", \"value\": 0.0, \"is_missing\": true}, {\"time\": 43.0, \"variable\": \"SW_IN\", \"value\": 0.0, \"is_missing\": true}, {\"time\": 44.0, \"variable\": \"SW_IN\", \"value\": 0.0, \"is_missing\": false}, {\"time\": 45.0, \"variable\": \"SW_IN\", \"value\": 0.0, \"is_missing\": false}, {\"time\": 46.0, \"variable\": \"SW_IN\", \"value\": 0.0, \"is_missing\": true}, {\"time\": 47.0, \"variable\": \"SW_IN\", \"value\": 0.0, \"is_missing\": false}, {\"time\": 48.0, \"variable\": \"SW_IN\", \"value\": 0.0, \"is_missing\": true}, {\"time\": 49.0, \"variable\": \"SW_IN\", \"value\": 0.0, \"is_missing\": false}, {\"time\": 50.0, \"variable\": \"SW_IN\", \"value\": 0.0, \"is_missing\": false}, {\"time\": 51.0, \"variable\": \"SW_IN\", \"value\": 0.0, \"is_missing\": false}, {\"time\": 52.0, \"variable\": \"SW_IN\", \"value\": 0.0, \"is_missing\": false}, {\"time\": 53.0, \"variable\": \"SW_IN\", \"value\": 0.0, \"is_missing\": false}, {\"time\": 54.0, \"variable\": \"SW_IN\", \"value\": 0.0, \"is_missing\": false}, {\"time\": 55.0, \"variable\": \"SW_IN\", \"value\": 0.0, \"is_missing\": true}, {\"time\": 56.0, \"variable\": \"SW_IN\", \"value\": 0.0, \"is_missing\": false}, {\"time\": 57.0, \"variable\": \"SW_IN\", \"value\": 0.0, \"is_missing\": true}, {\"time\": 58.0, \"variable\": \"SW_IN\", \"value\": 0.0, \"is_missing\": false}, {\"time\": 59.0, \"variable\": \"SW_IN\", \"value\": 0.0, \"is_missing\": false}, {\"time\": 60.0, \"variable\": \"SW_IN\", \"value\": 0.0, \"is_missing\": false}, {\"time\": 61.0, \"variable\": \"SW_IN\", \"value\": 0.0, \"is_missing\": false}, {\"time\": 62.0, \"variable\": \"SW_IN\", \"value\": 0.0, \"is_missing\": false}, {\"time\": 63.0, \"variable\": \"SW_IN\", \"value\": 0.0, \"is_missing\": false}, {\"time\": 64.0, \"variable\": \"SW_IN\", \"value\": 4.27, \"is_missing\": false}, {\"time\": 65.0, \"variable\": \"SW_IN\", \"value\": 23.9, \"is_missing\": true}, {\"time\": 66.0, \"variable\": \"SW_IN\", \"value\": 50.61, \"is_missing\": false}, {\"time\": 67.0, \"variable\": \"SW_IN\", \"value\": 61.76, \"is_missing\": false}, {\"time\": 68.0, \"variable\": \"SW_IN\", \"value\": 125.24, \"is_missing\": false}, {\"time\": 69.0, \"variable\": \"SW_IN\", \"value\": 138.43, \"is_missing\": true}, {\"time\": 70.0, \"variable\": \"SW_IN\", \"value\": 177.5, \"is_missing\": true}, {\"time\": 71.0, \"variable\": \"SW_IN\", \"value\": 148.06, \"is_missing\": false}, {\"time\": 72.0, \"variable\": \"SW_IN\", \"value\": 122.37, \"is_missing\": true}, {\"time\": 73.0, \"variable\": \"SW_IN\", \"value\": 130.21, \"is_missing\": false}, {\"time\": 74.0, \"variable\": \"SW_IN\", \"value\": 124.73, \"is_missing\": true}, {\"time\": 75.0, \"variable\": \"SW_IN\", \"value\": 110.65, \"is_missing\": false}, {\"time\": 76.0, \"variable\": \"SW_IN\", \"value\": 57.81, \"is_missing\": false}, {\"time\": 77.0, \"variable\": \"SW_IN\", \"value\": 31.87, \"is_missing\": false}, {\"time\": 78.0, \"variable\": \"SW_IN\", \"value\": 19.89, \"is_missing\": true}, {\"time\": 79.0, \"variable\": \"SW_IN\", \"value\": 8.8, \"is_missing\": false}, {\"time\": 80.0, \"variable\": \"SW_IN\", \"value\": 1.78, \"is_missing\": false}, {\"time\": 81.0, \"variable\": \"SW_IN\", \"value\": 0.06, \"is_missing\": false}, {\"time\": 82.0, \"variable\": \"SW_IN\", \"value\": 0.0, \"is_missing\": false}, {\"time\": 83.0, \"variable\": \"SW_IN\", \"value\": 0.0, \"is_missing\": false}, {\"time\": 84.0, \"variable\": \"SW_IN\", \"value\": 0.0, \"is_missing\": false}, {\"time\": 85.0, \"variable\": \"SW_IN\", \"value\": 0.0, \"is_missing\": false}, {\"time\": 86.0, \"variable\": \"SW_IN\", \"value\": 0.0, \"is_missing\": false}, {\"time\": 87.0, \"variable\": \"SW_IN\", \"value\": 0.0, \"is_missing\": true}, {\"time\": 88.0, \"variable\": \"SW_IN\", \"value\": 0.0, \"is_missing\": true}, {\"time\": 89.0, \"variable\": \"SW_IN\", \"value\": 0.0, \"is_missing\": false}, {\"time\": 90.0, \"variable\": \"SW_IN\", \"value\": 0.0, \"is_missing\": true}, {\"time\": 91.0, \"variable\": \"SW_IN\", \"value\": 0.0, \"is_missing\": false}, {\"time\": 92.0, \"variable\": \"SW_IN\", \"value\": 0.0, \"is_missing\": false}, {\"time\": 93.0, \"variable\": \"SW_IN\", \"value\": 0.0, \"is_missing\": false}, {\"time\": 94.0, \"variable\": \"SW_IN\", \"value\": 0.0, \"is_missing\": true}, {\"time\": 95.0, \"variable\": \"SW_IN\", \"value\": 0.0, \"is_missing\": false}, {\"time\": 96.0, \"variable\": \"SW_IN\", \"value\": 0.0, \"is_missing\": false}, {\"time\": 97.0, \"variable\": \"SW_IN\", \"value\": 0.0, \"is_missing\": false}, {\"time\": 98.0, \"variable\": \"SW_IN\", \"value\": 0.0, \"is_missing\": false}, {\"time\": 99.0, \"variable\": \"SW_IN\", \"value\": 0.0, \"is_missing\": true}, {\"time\": 100.0, \"variable\": \"SW_IN\", \"value\": 0.0, \"is_missing\": false}, {\"time\": 101.0, \"variable\": \"SW_IN\", \"value\": 0.0, \"is_missing\": false}, {\"time\": 102.0, \"variable\": \"SW_IN\", \"value\": 0.0, \"is_missing\": true}, {\"time\": 103.0, \"variable\": \"SW_IN\", \"value\": 0.0, \"is_missing\": false}, {\"time\": 104.0, \"variable\": \"SW_IN\", \"value\": 0.0, \"is_missing\": true}, {\"time\": 105.0, \"variable\": \"SW_IN\", \"value\": 0.0, \"is_missing\": false}, {\"time\": 106.0, \"variable\": \"SW_IN\", \"value\": 0.0, \"is_missing\": false}, {\"time\": 107.0, \"variable\": \"SW_IN\", \"value\": 0.0, \"is_missing\": false}, {\"time\": 108.0, \"variable\": \"SW_IN\", \"value\": 0.0, \"is_missing\": false}, {\"time\": 109.0, \"variable\": \"SW_IN\", \"value\": 0.0, \"is_missing\": true}, {\"time\": 110.0, \"variable\": \"SW_IN\", \"value\": 0.0, \"is_missing\": false}, {\"time\": 111.0, \"variable\": \"SW_IN\", \"value\": 0.0, \"is_missing\": true}, {\"time\": 112.0, \"variable\": \"SW_IN\", \"value\": 1.4, \"is_missing\": true}, {\"time\": 113.0, \"variable\": \"SW_IN\", \"value\": 9.81, \"is_missing\": false}, {\"time\": 114.0, \"variable\": \"SW_IN\", \"value\": 25.05, \"is_missing\": false}, {\"time\": 115.0, \"variable\": \"SW_IN\", \"value\": 36.84, \"is_missing\": false}, {\"time\": 116.0, \"variable\": \"SW_IN\", \"value\": 80.63, \"is_missing\": false}, {\"time\": 117.0, \"variable\": \"SW_IN\", \"value\": 78.58, \"is_missing\": false}, {\"time\": 118.0, \"variable\": \"SW_IN\", \"value\": 77.25, \"is_missing\": false}, {\"time\": 119.0, \"variable\": \"SW_IN\", \"value\": 93.31, \"is_missing\": true}, {\"time\": 120.0, \"variable\": \"SW_IN\", \"value\": 114.08, \"is_missing\": false}, {\"time\": 121.0, \"variable\": \"SW_IN\", \"value\": 117.33, \"is_missing\": true}, {\"time\": 122.0, \"variable\": \"SW_IN\", \"value\": 109.82, \"is_missing\": true}, {\"time\": 123.0, \"variable\": \"SW_IN\", \"value\": 97.51, \"is_missing\": false}, {\"time\": 124.0, \"variable\": \"SW_IN\", \"value\": 74.64, \"is_missing\": false}, {\"time\": 125.0, \"variable\": \"SW_IN\", \"value\": 40.66, \"is_missing\": false}, {\"time\": 126.0, \"variable\": \"SW_IN\", \"value\": 32.06, \"is_missing\": true}, {\"time\": 127.0, \"variable\": \"SW_IN\", \"value\": 16.12, \"is_missing\": false}, {\"time\": 128.0, \"variable\": \"SW_IN\", \"value\": 3.76, \"is_missing\": true}, {\"time\": 129.0, \"variable\": \"SW_IN\", \"value\": 0.57, \"is_missing\": false}, {\"time\": 130.0, \"variable\": \"SW_IN\", \"value\": 0.0, \"is_missing\": true}, {\"time\": 131.0, \"variable\": \"SW_IN\", \"value\": 0.0, \"is_missing\": true}, {\"time\": 132.0, \"variable\": \"SW_IN\", \"value\": 0.0, \"is_missing\": true}, {\"time\": 133.0, \"variable\": \"SW_IN\", \"value\": 0.0, \"is_missing\": true}, {\"time\": 134.0, \"variable\": \"SW_IN\", \"value\": 0.0, \"is_missing\": false}, {\"time\": 135.0, \"variable\": \"SW_IN\", \"value\": 0.0, \"is_missing\": false}, {\"time\": 136.0, \"variable\": \"SW_IN\", \"value\": 0.0, \"is_missing\": false}, {\"time\": 137.0, \"variable\": \"SW_IN\", \"value\": 0.0, \"is_missing\": false}, {\"time\": 138.0, \"variable\": \"SW_IN\", \"value\": 0.0, \"is_missing\": false}, {\"time\": 139.0, \"variable\": \"SW_IN\", \"value\": 0.0, \"is_missing\": false}, {\"time\": 140.0, \"variable\": \"SW_IN\", \"value\": 0.0, \"is_missing\": false}, {\"time\": 141.0, \"variable\": \"SW_IN\", \"value\": 0.0, \"is_missing\": false}, {\"time\": 142.0, \"variable\": \"SW_IN\", \"value\": 0.0, \"is_missing\": false}, {\"time\": 143.0, \"variable\": \"SW_IN\", \"value\": 0.0, \"is_missing\": false}, {\"time\": 144.0, \"variable\": \"SW_IN\", \"value\": 0.0, \"is_missing\": false}, {\"time\": 145.0, \"variable\": \"SW_IN\", \"value\": 0.0, \"is_missing\": true}, {\"time\": 146.0, \"variable\": \"SW_IN\", \"value\": 0.0, \"is_missing\": false}, {\"time\": 147.0, \"variable\": \"SW_IN\", \"value\": 0.0, \"is_missing\": false}, {\"time\": 148.0, \"variable\": \"SW_IN\", \"value\": 0.0, \"is_missing\": false}, {\"time\": 149.0, \"variable\": \"SW_IN\", \"value\": 0.0, \"is_missing\": false}], \"data-d11b13dafb02034342380ba3a7565ebb\": [{\"time\": 0.0, \"variable\": \"SW_IN\", \"mean\": 0.0, \"std\": null}, {\"time\": 2.0, \"variable\": \"SW_IN\", \"mean\": 0.0, \"std\": null}, {\"time\": 4.0, \"variable\": \"SW_IN\", \"mean\": 0.0, \"std\": null}, {\"time\": 5.0, \"variable\": \"SW_IN\", \"mean\": 0.0, \"std\": null}, {\"time\": 6.0, \"variable\": \"SW_IN\", \"mean\": 0.0, \"std\": null}, {\"time\": 7.0, \"variable\": \"SW_IN\", \"mean\": 0.0, \"std\": null}, {\"time\": 9.0, \"variable\": \"SW_IN\", \"mean\": 0.0, \"std\": null}, {\"time\": 10.0, \"variable\": \"SW_IN\", \"mean\": 0.0, \"std\": null}, {\"time\": 11.0, \"variable\": \"SW_IN\", \"mean\": 0.0, \"std\": null}, {\"time\": 12.0, \"variable\": \"SW_IN\", \"mean\": 0.0, \"std\": null}, {\"time\": 13.0, \"variable\": \"SW_IN\", \"mean\": 0.0, \"std\": null}, {\"time\": 14.0, \"variable\": \"SW_IN\", \"mean\": 0.0, \"std\": null}, {\"time\": 15.0, \"variable\": \"SW_IN\", \"mean\": 0.0, \"std\": null}, {\"time\": 16.0, \"variable\": \"SW_IN\", \"mean\": 0.45, \"std\": null}, {\"time\": 18.0, \"variable\": \"SW_IN\", \"mean\": 7.26, \"std\": null}, {\"time\": 21.0, \"variable\": \"SW_IN\", \"mean\": 24.73, \"std\": null}, {\"time\": 25.0, \"variable\": \"SW_IN\", \"mean\": 21.1, \"std\": null}, {\"time\": 26.0, \"variable\": \"SW_IN\", \"mean\": 28.87, \"std\": null}, {\"time\": 27.0, \"variable\": \"SW_IN\", \"mean\": 24.22, \"std\": null}, {\"time\": 28.0, \"variable\": \"SW_IN\", \"mean\": 24.35, \"std\": null}, {\"time\": 29.0, \"variable\": \"SW_IN\", \"mean\": 15.68, \"std\": null}, {\"time\": 31.0, \"variable\": \"SW_IN\", \"mean\": 6.37, \"std\": null}, {\"time\": 32.0, \"variable\": \"SW_IN\", \"mean\": 1.72, \"std\": null}, {\"time\": 33.0, \"variable\": \"SW_IN\", \"mean\": 0.06, \"std\": null}, {\"time\": 36.0, \"variable\": \"SW_IN\", \"mean\": 0.0, \"std\": null}, {\"time\": 37.0, \"variable\": \"SW_IN\", \"mean\": 0.0, \"std\": null}, {\"time\": 38.0, \"variable\": \"SW_IN\", \"mean\": 0.0, \"std\": null}, {\"time\": 39.0, \"variable\": \"SW_IN\", \"mean\": 0.0, \"std\": null}, {\"time\": 40.0, \"variable\": \"SW_IN\", \"mean\": 0.0, \"std\": null}, {\"time\": 45.0, \"variable\": \"SW_IN\", \"mean\": 0.0, \"std\": null}, {\"time\": 47.0, \"variable\": \"SW_IN\", \"mean\": 0.0, \"std\": null}, {\"time\": 49.0, \"variable\": \"SW_IN\", \"mean\": 0.0, \"std\": null}, {\"time\": 50.0, \"variable\": \"SW_IN\", \"mean\": 0.0, \"std\": null}, {\"time\": 51.0, \"variable\": \"SW_IN\", \"mean\": 0.0, \"std\": null}, {\"time\": 53.0, \"variable\": \"SW_IN\", \"mean\": 0.0, \"std\": null}, {\"time\": 54.0, \"variable\": \"SW_IN\", \"mean\": 0.0, \"std\": null}, {\"time\": 58.0, \"variable\": \"SW_IN\", \"mean\": 0.0, \"std\": null}, {\"time\": 60.0, \"variable\": \"SW_IN\", \"mean\": 0.0, \"std\": null}, {\"time\": 61.0, \"variable\": \"SW_IN\", \"mean\": 0.0, \"std\": null}, {\"time\": 63.0, \"variable\": \"SW_IN\", \"mean\": 0.0, \"std\": null}, {\"time\": 66.0, \"variable\": \"SW_IN\", \"mean\": 50.61, \"std\": null}, {\"time\": 67.0, \"variable\": \"SW_IN\", \"mean\": 61.76, \"std\": null}, {\"time\": 71.0, \"variable\": \"SW_IN\", \"mean\": 148.06, \"std\": null}, {\"time\": 73.0, \"variable\": \"SW_IN\", \"mean\": 130.21, \"std\": null}, {\"time\": 75.0, \"variable\": \"SW_IN\", \"mean\": 110.65, \"std\": null}, {\"time\": 77.0, \"variable\": \"SW_IN\", \"mean\": 31.87, \"std\": null}, {\"time\": 79.0, \"variable\": \"SW_IN\", \"mean\": 8.8, \"std\": null}, {\"time\": 80.0, \"variable\": \"SW_IN\", \"mean\": 1.78, \"std\": null}, {\"time\": 81.0, \"variable\": \"SW_IN\", \"mean\": 0.06, \"std\": null}, {\"time\": 82.0, \"variable\": \"SW_IN\", \"mean\": 0.0, \"std\": null}, {\"time\": 83.0, \"variable\": \"SW_IN\", \"mean\": 0.0, \"std\": null}, {\"time\": 84.0, \"variable\": \"SW_IN\", \"mean\": 0.0, \"std\": null}, {\"time\": 86.0, \"variable\": \"SW_IN\", \"mean\": 0.0, \"std\": null}, {\"time\": 89.0, \"variable\": \"SW_IN\", \"mean\": 0.0, \"std\": null}, {\"time\": 91.0, \"variable\": \"SW_IN\", \"mean\": 0.0, \"std\": null}, {\"time\": 92.0, \"variable\": \"SW_IN\", \"mean\": 0.0, \"std\": null}, {\"time\": 93.0, \"variable\": \"SW_IN\", \"mean\": 0.0, \"std\": null}, {\"time\": 95.0, \"variable\": \"SW_IN\", \"mean\": 0.0, \"std\": null}, {\"time\": 97.0, \"variable\": \"SW_IN\", \"mean\": 0.0, \"std\": null}, {\"time\": 98.0, \"variable\": \"SW_IN\", \"mean\": 0.0, \"std\": null}, {\"time\": 100.0, \"variable\": \"SW_IN\", \"mean\": 0.0, \"std\": null}, {\"time\": 101.0, \"variable\": \"SW_IN\", \"mean\": 0.0, \"std\": null}, {\"time\": 103.0, \"variable\": \"SW_IN\", \"mean\": 0.0, \"std\": null}, {\"time\": 106.0, \"variable\": \"SW_IN\", \"mean\": 0.0, \"std\": null}, {\"time\": 107.0, \"variable\": \"SW_IN\", \"mean\": 0.0, \"std\": null}, {\"time\": 108.0, \"variable\": \"SW_IN\", \"mean\": 0.0, \"std\": null}, {\"time\": 110.0, \"variable\": \"SW_IN\", \"mean\": 0.0, \"std\": null}, {\"time\": 113.0, \"variable\": \"SW_IN\", \"mean\": 9.81, \"std\": null}, {\"time\": 115.0, \"variable\": \"SW_IN\", \"mean\": 36.84, \"std\": null}, {\"time\": 116.0, \"variable\": \"SW_IN\", \"mean\": 80.63, \"std\": null}, {\"time\": 117.0, \"variable\": \"SW_IN\", \"mean\": 78.58, \"std\": null}, {\"time\": 123.0, \"variable\": \"SW_IN\", \"mean\": 97.51, \"std\": null}, {\"time\": 124.0, \"variable\": \"SW_IN\", \"mean\": 74.64, \"std\": null}, {\"time\": 125.0, \"variable\": \"SW_IN\", \"mean\": 40.66, \"std\": null}, {\"time\": 129.0, \"variable\": \"SW_IN\", \"mean\": 0.57, \"std\": null}, {\"time\": 135.0, \"variable\": \"SW_IN\", \"mean\": 0.0, \"std\": null}, {\"time\": 137.0, \"variable\": \"SW_IN\", \"mean\": 0.0, \"std\": null}, {\"time\": 138.0, \"variable\": \"SW_IN\", \"mean\": 0.0, \"std\": null}, {\"time\": 139.0, \"variable\": \"SW_IN\", \"mean\": 0.0, \"std\": null}, {\"time\": 140.0, \"variable\": \"SW_IN\", \"mean\": 0.0, \"std\": null}, {\"time\": 141.0, \"variable\": \"SW_IN\", \"mean\": 0.0, \"std\": null}, {\"time\": 142.0, \"variable\": \"SW_IN\", \"mean\": 0.0, \"std\": null}, {\"time\": 144.0, \"variable\": \"SW_IN\", \"mean\": 0.0, \"std\": null}, {\"time\": 146.0, \"variable\": \"SW_IN\", \"mean\": 0.0, \"std\": null}, {\"time\": 147.0, \"variable\": \"SW_IN\", \"mean\": 0.0, \"std\": null}, {\"time\": 1.0, \"variable\": \"SW_IN\", \"mean\": 9.44937801361084, \"std\": 27.781925201416016}, {\"time\": 3.0, \"variable\": \"SW_IN\", \"mean\": 0.0, \"std\": 0.0}, {\"time\": 8.0, \"variable\": \"SW_IN\", \"mean\": 8.02099323272705, \"std\": 27.768802642822266}, {\"time\": 17.0, \"variable\": \"SW_IN\", \"mean\": 3.6999998092651367, \"std\": 0.0}, {\"time\": 19.0, \"variable\": \"SW_IN\", \"mean\": 2.143265724182129, \"std\": 27.767547607421875}, {\"time\": 20.0, \"variable\": \"SW_IN\", \"mean\": 2.411166191101074, \"std\": 27.76813507080078}, {\"time\": 22.0, \"variable\": \"SW_IN\", \"mean\": 2.89174747467041, \"std\": 27.7664794921875}, {\"time\": 23.0, \"variable\": \"SW_IN\", \"mean\": 22.049999237060547, \"std\": 0.0}, {\"time\": 24.0, \"variable\": \"SW_IN\", \"mean\": 18.860000610351562, \"std\": 0.0}, {\"time\": 30.0, \"variable\": \"SW_IN\", \"mean\": 8.09000015258789, \"std\": 0.0}, {\"time\": 34.0, \"variable\": \"SW_IN\", \"mean\": 2.764589309692383, \"std\": 27.774606704711914}, {\"time\": 35.0, \"variable\": \"SW_IN\", \"mean\": 2.3288259506225586, \"std\": 27.774547576904297}, {\"time\": 41.0, \"variable\": \"SW_IN\", \"mean\": 9.821210861206055, \"std\": 27.772310256958008}, {\"time\": 42.0, \"variable\": \"SW_IN\", \"mean\": 14.041321754455566, \"std\": 27.7747802734375}, {\"time\": 43.0, \"variable\": \"SW_IN\", \"mean\": 18.335247039794922, \"std\": 27.7744197845459}, {\"time\": 44.0, \"variable\": \"SW_IN\", \"mean\": 0.0, \"std\": 0.0}, {\"time\": 46.0, \"variable\": \"SW_IN\", \"mean\": 26.019454956054688, \"std\": 27.767675399780273}, {\"time\": 48.0, \"variable\": \"SW_IN\", \"mean\": 24.688079833984375, \"std\": 27.768457412719727}, {\"time\": 52.0, \"variable\": \"SW_IN\", \"mean\": 0.0, \"std\": 0.0}, {\"time\": 55.0, \"variable\": \"SW_IN\", \"mean\": 14.830785751342773, \"std\": 27.772314071655273}, {\"time\": 56.0, \"variable\": \"SW_IN\", \"mean\": 0.0, \"std\": 0.0}, {\"time\": 57.0, \"variable\": \"SW_IN\", \"mean\": 12.119119644165039, \"std\": 27.772132873535156}, {\"time\": 59.0, \"variable\": \"SW_IN\", \"mean\": 0.0, \"std\": 0.0}, {\"time\": 62.0, \"variable\": \"SW_IN\", \"mean\": 0.0, \"std\": 0.0}, {\"time\": 64.0, \"variable\": \"SW_IN\", \"mean\": 4.2699995040893555, \"std\": 0.0}, {\"time\": 65.0, \"variable\": \"SW_IN\", \"mean\": 8.29157829284668, \"std\": 27.764341354370117}, {\"time\": 68.0, \"variable\": \"SW_IN\", \"mean\": 125.23999786376953, \"std\": 0.0}, {\"time\": 69.0, \"variable\": \"SW_IN\", \"mean\": 16.491586685180664, \"std\": 27.777671813964844}, {\"time\": 70.0, \"variable\": \"SW_IN\", \"mean\": 18.591684341430664, \"std\": 27.780996322631836}, {\"time\": 72.0, \"variable\": \"SW_IN\", \"mean\": 21.91490936279297, \"std\": 27.779991149902344}, {\"time\": 74.0, \"variable\": \"SW_IN\", \"mean\": 22.304426193237305, \"std\": 27.773303985595703}, {\"time\": 76.0, \"variable\": \"SW_IN\", \"mean\": 57.810001373291016, \"std\": 0.0}, {\"time\": 78.0, \"variable\": \"SW_IN\", \"mean\": 11.384631156921387, \"std\": 27.76903533935547}, {\"time\": 85.0, \"variable\": \"SW_IN\", \"mean\": 0.0, \"std\": 0.0}, {\"time\": 87.0, \"variable\": \"SW_IN\", \"mean\": 12.47391414642334, \"std\": 27.782941818237305}, {\"time\": 88.0, \"variable\": \"SW_IN\", \"mean\": 12.928879737854004, \"std\": 27.78281021118164}, {\"time\": 90.0, \"variable\": \"SW_IN\", \"mean\": 11.305131912231445, \"std\": 27.775291442871094}, {\"time\": 94.0, \"variable\": \"SW_IN\", \"mean\": 4.520088195800781, \"std\": 27.768932342529297}, {\"time\": 96.0, \"variable\": \"SW_IN\", \"mean\": 0.0, \"std\": 0.0}, {\"time\": 99.0, \"variable\": \"SW_IN\", \"mean\": 2.294940948486328, \"std\": 27.76978874206543}, {\"time\": 102.0, \"variable\": \"SW_IN\", \"mean\": 1.8323888778686523, \"std\": 27.776914596557617}, {\"time\": 104.0, \"variable\": \"SW_IN\", \"mean\": 2.1656532287597656, \"std\": 27.779521942138672}, {\"time\": 105.0, \"variable\": \"SW_IN\", \"mean\": 0.0, \"std\": 0.0}, {\"time\": 109.0, \"variable\": \"SW_IN\", \"mean\": 13.903420448303223, \"std\": 27.77237319946289}, {\"time\": 111.0, \"variable\": \"SW_IN\", \"mean\": 22.054973602294922, \"std\": 27.77414894104004}, {\"time\": 112.0, \"variable\": \"SW_IN\", \"mean\": 26.055011749267578, \"std\": 27.77358627319336}, {\"time\": 114.0, \"variable\": \"SW_IN\", \"mean\": 25.049999237060547, \"std\": 0.0}, {\"time\": 118.0, \"variable\": \"SW_IN\", \"mean\": 77.25, \"std\": 0.0}, {\"time\": 119.0, \"variable\": \"SW_IN\", \"mean\": 43.17180252075195, \"std\": 27.792409896850586}, {\"time\": 120.0, \"variable\": \"SW_IN\", \"mean\": 114.08000183105469, \"std\": 0.0}, {\"time\": 121.0, \"variable\": \"SW_IN\", \"mean\": 44.24640655517578, \"std\": 27.79986000061035}, {\"time\": 122.0, \"variable\": \"SW_IN\", \"mean\": 44.168216705322266, \"std\": 27.79113006591797}, {\"time\": 126.0, \"variable\": \"SW_IN\", \"mean\": 40.045982360839844, \"std\": 27.78304672241211}, {\"time\": 127.0, \"variable\": \"SW_IN\", \"mean\": 16.1200008392334, \"std\": 0.0}, {\"time\": 128.0, \"variable\": \"SW_IN\", \"mean\": 36.03367614746094, \"std\": 27.787153244018555}, {\"time\": 130.0, \"variable\": \"SW_IN\", \"mean\": 31.551651000976562, \"std\": 27.784704208374023}, {\"time\": 131.0, \"variable\": \"SW_IN\", \"mean\": 29.51877212524414, \"std\": 27.786157608032227}, {\"time\": 132.0, \"variable\": \"SW_IN\", \"mean\": 27.82655906677246, \"std\": 27.787372589111328}, {\"time\": 133.0, \"variable\": \"SW_IN\", \"mean\": 26.56075668334961, \"std\": 27.785823822021484}, {\"time\": 134.0, \"variable\": \"SW_IN\", \"mean\": 0.0, \"std\": 0.0}, {\"time\": 136.0, \"variable\": \"SW_IN\", \"mean\": 0.0, \"std\": 0.0}, {\"time\": 143.0, \"variable\": \"SW_IN\", \"mean\": 0.0, \"std\": 0.0}, {\"time\": 145.0, \"variable\": \"SW_IN\", \"mean\": 33.520362854003906, \"std\": 27.7722110748291}, {\"time\": 148.0, \"variable\": \"SW_IN\", \"mean\": 0.0, \"std\": 0.0}, {\"time\": 149.0, \"variable\": \"SW_IN\", \"mean\": 0.0, \"std\": 0.0}], \"data-f3902519fdae8ed84935978a4731e92a\": [{\"time\": 0.0, \"variable\": \"LW_IN\", \"value\": 302.475, \"is_missing\": false}, {\"time\": 1.0, \"variable\": \"LW_IN\", \"value\": 302.475, \"is_missing\": true}, {\"time\": 2.0, \"variable\": \"LW_IN\", \"value\": 301.677, \"is_missing\": false}, {\"time\": 3.0, \"variable\": \"LW_IN\", \"value\": 301.677, \"is_missing\": false}, {\"time\": 4.0, \"variable\": \"LW_IN\", \"value\": 301.677, \"is_missing\": false}, {\"time\": 5.0, \"variable\": \"LW_IN\", \"value\": 301.677, \"is_missing\": false}, {\"time\": 6.0, \"variable\": \"LW_IN\", \"value\": 301.677, \"is_missing\": false}, {\"time\": 7.0, \"variable\": \"LW_IN\", \"value\": 301.677, \"is_missing\": false}, {\"time\": 8.0, \"variable\": \"LW_IN\", \"value\": 308.046, \"is_missing\": true}, {\"time\": 9.0, \"variable\": \"LW_IN\", \"value\": 308.046, \"is_missing\": false}, {\"time\": 10.0, \"variable\": \"LW_IN\", \"value\": 308.046, \"is_missing\": false}, {\"time\": 11.0, \"variable\": \"LW_IN\", \"value\": 308.046, \"is_missing\": false}, {\"time\": 12.0, \"variable\": \"LW_IN\", \"value\": 308.046, \"is_missing\": false}, {\"time\": 13.0, \"variable\": \"LW_IN\", \"value\": 308.046, \"is_missing\": false}, {\"time\": 14.0, \"variable\": \"LW_IN\", \"value\": 316.925, \"is_missing\": false}, {\"time\": 15.0, \"variable\": \"LW_IN\", \"value\": 316.925, \"is_missing\": false}, {\"time\": 16.0, \"variable\": \"LW_IN\", \"value\": 316.925, \"is_missing\": false}, {\"time\": 17.0, \"variable\": \"LW_IN\", \"value\": 316.925, \"is_missing\": true}, {\"time\": 18.0, \"variable\": \"LW_IN\", \"value\": 316.925, \"is_missing\": false}, {\"time\": 19.0, \"variable\": \"LW_IN\", \"value\": 316.925, \"is_missing\": true}, {\"time\": 20.0, \"variable\": \"LW_IN\", \"value\": 321.15, \"is_missing\": true}, {\"time\": 21.0, \"variable\": \"LW_IN\", \"value\": 321.15, \"is_missing\": false}, {\"time\": 22.0, \"variable\": \"LW_IN\", \"value\": 321.15, \"is_missing\": false}, {\"time\": 23.0, \"variable\": \"LW_IN\", \"value\": 321.15, \"is_missing\": false}, {\"time\": 24.0, \"variable\": \"LW_IN\", \"value\": 321.15, \"is_missing\": true}, {\"time\": 25.0, \"variable\": \"LW_IN\", \"value\": 321.15, \"is_missing\": false}, {\"time\": 26.0, \"variable\": \"LW_IN\", \"value\": 323.062, \"is_missing\": false}, {\"time\": 27.0, \"variable\": \"LW_IN\", \"value\": 323.062, \"is_missing\": false}, {\"time\": 28.0, \"variable\": \"LW_IN\", \"value\": 323.062, \"is_missing\": false}, {\"time\": 29.0, \"variable\": \"LW_IN\", \"value\": 323.062, \"is_missing\": false}, {\"time\": 30.0, \"variable\": \"LW_IN\", \"value\": 323.062, \"is_missing\": false}, {\"time\": 31.0, \"variable\": \"LW_IN\", \"value\": 323.062, \"is_missing\": false}, {\"time\": 32.0, \"variable\": \"LW_IN\", \"value\": 328.053, \"is_missing\": false}, {\"time\": 33.0, \"variable\": \"LW_IN\", \"value\": 328.053, \"is_missing\": false}, {\"time\": 34.0, \"variable\": \"LW_IN\", \"value\": 328.053, \"is_missing\": true}, {\"time\": 35.0, \"variable\": \"LW_IN\", \"value\": 328.053, \"is_missing\": true}, {\"time\": 36.0, \"variable\": \"LW_IN\", \"value\": 328.053, \"is_missing\": false}, {\"time\": 37.0, \"variable\": \"LW_IN\", \"value\": 328.053, \"is_missing\": false}, {\"time\": 38.0, \"variable\": \"LW_IN\", \"value\": 329.365, \"is_missing\": false}, {\"time\": 39.0, \"variable\": \"LW_IN\", \"value\": 329.365, \"is_missing\": false}, {\"time\": 40.0, \"variable\": \"LW_IN\", \"value\": 329.365, \"is_missing\": false}, {\"time\": 41.0, \"variable\": \"LW_IN\", \"value\": 329.365, \"is_missing\": true}, {\"time\": 42.0, \"variable\": \"LW_IN\", \"value\": 329.365, \"is_missing\": true}, {\"time\": 43.0, \"variable\": \"LW_IN\", \"value\": 329.365, \"is_missing\": true}, {\"time\": 44.0, \"variable\": \"LW_IN\", \"value\": 297.593, \"is_missing\": true}, {\"time\": 45.0, \"variable\": \"LW_IN\", \"value\": 297.593, \"is_missing\": false}, {\"time\": 46.0, \"variable\": \"LW_IN\", \"value\": 297.593, \"is_missing\": true}, {\"time\": 47.0, \"variable\": \"LW_IN\", \"value\": 297.593, \"is_missing\": false}, {\"time\": 48.0, \"variable\": \"LW_IN\", \"value\": 297.593, \"is_missing\": true}, {\"time\": 49.0, \"variable\": \"LW_IN\", \"value\": 297.593, \"is_missing\": false}, {\"time\": 50.0, \"variable\": \"LW_IN\", \"value\": 277.157, \"is_missing\": false}, {\"time\": 51.0, \"variable\": \"LW_IN\", \"value\": 277.157, \"is_missing\": false}, {\"time\": 52.0, \"variable\": \"LW_IN\", \"value\": 277.157, \"is_missing\": true}, {\"time\": 53.0, \"variable\": \"LW_IN\", \"value\": 277.157, \"is_missing\": false}, {\"time\": 54.0, \"variable\": \"LW_IN\", \"value\": 277.157, \"is_missing\": false}, {\"time\": 55.0, \"variable\": \"LW_IN\", \"value\": 277.157, \"is_missing\": true}, {\"time\": 56.0, \"variable\": \"LW_IN\", \"value\": 266.713, \"is_missing\": false}, {\"time\": 57.0, \"variable\": \"LW_IN\", \"value\": 266.713, \"is_missing\": true}, {\"time\": 58.0, \"variable\": \"LW_IN\", \"value\": 266.713, \"is_missing\": false}, {\"time\": 59.0, \"variable\": \"LW_IN\", \"value\": 266.713, \"is_missing\": true}, {\"time\": 60.0, \"variable\": \"LW_IN\", \"value\": 266.713, \"is_missing\": false}, {\"time\": 61.0, \"variable\": \"LW_IN\", \"value\": 266.713, \"is_missing\": false}, {\"time\": 62.0, \"variable\": \"LW_IN\", \"value\": 259.213, \"is_missing\": true}, {\"time\": 63.0, \"variable\": \"LW_IN\", \"value\": 259.213, \"is_missing\": false}, {\"time\": 64.0, \"variable\": \"LW_IN\", \"value\": 259.213, \"is_missing\": true}, {\"time\": 65.0, \"variable\": \"LW_IN\", \"value\": 259.213, \"is_missing\": true}, {\"time\": 66.0, \"variable\": \"LW_IN\", \"value\": 259.213, \"is_missing\": false}, {\"time\": 67.0, \"variable\": \"LW_IN\", \"value\": 259.213, \"is_missing\": false}, {\"time\": 68.0, \"variable\": \"LW_IN\", \"value\": 265.357, \"is_missing\": true}, {\"time\": 69.0, \"variable\": \"LW_IN\", \"value\": 265.357, \"is_missing\": true}, {\"time\": 70.0, \"variable\": \"LW_IN\", \"value\": 265.357, \"is_missing\": true}, {\"time\": 71.0, \"variable\": \"LW_IN\", \"value\": 265.357, \"is_missing\": false}, {\"time\": 72.0, \"variable\": \"LW_IN\", \"value\": 265.357, \"is_missing\": true}, {\"time\": 73.0, \"variable\": \"LW_IN\", \"value\": 265.357, \"is_missing\": false}, {\"time\": 74.0, \"variable\": \"LW_IN\", \"value\": 279.492, \"is_missing\": true}, {\"time\": 75.0, \"variable\": \"LW_IN\", \"value\": 279.492, \"is_missing\": false}, {\"time\": 76.0, \"variable\": \"LW_IN\", \"value\": 279.492, \"is_missing\": false}, {\"time\": 77.0, \"variable\": \"LW_IN\", \"value\": 279.492, \"is_missing\": false}, {\"time\": 78.0, \"variable\": \"LW_IN\", \"value\": 279.492, \"is_missing\": true}, {\"time\": 79.0, \"variable\": \"LW_IN\", \"value\": 279.492, \"is_missing\": false}, {\"time\": 80.0, \"variable\": \"LW_IN\", \"value\": 284.641, \"is_missing\": false}, {\"time\": 81.0, \"variable\": \"LW_IN\", \"value\": 284.641, \"is_missing\": false}, {\"time\": 82.0, \"variable\": \"LW_IN\", \"value\": 284.641, \"is_missing\": false}, {\"time\": 83.0, \"variable\": \"LW_IN\", \"value\": 284.641, \"is_missing\": false}, {\"time\": 84.0, \"variable\": \"LW_IN\", \"value\": 284.641, \"is_missing\": false}, {\"time\": 85.0, \"variable\": \"LW_IN\", \"value\": 284.641, \"is_missing\": false}, {\"time\": 86.0, \"variable\": \"LW_IN\", \"value\": 290.004, \"is_missing\": false}, {\"time\": 87.0, \"variable\": \"LW_IN\", \"value\": 290.004, \"is_missing\": true}, {\"time\": 88.0, \"variable\": \"LW_IN\", \"value\": 290.004, \"is_missing\": false}, {\"time\": 89.0, \"variable\": \"LW_IN\", \"value\": 290.004, \"is_missing\": false}, {\"time\": 90.0, \"variable\": \"LW_IN\", \"value\": 290.004, \"is_missing\": true}, {\"time\": 91.0, \"variable\": \"LW_IN\", \"value\": 290.004, \"is_missing\": false}, {\"time\": 92.0, \"variable\": \"LW_IN\", \"value\": 300.274, \"is_missing\": false}, {\"time\": 93.0, \"variable\": \"LW_IN\", \"value\": 300.274, \"is_missing\": false}, {\"time\": 94.0, \"variable\": \"LW_IN\", \"value\": 300.274, \"is_missing\": true}, {\"time\": 95.0, \"variable\": \"LW_IN\", \"value\": 300.274, \"is_missing\": false}, {\"time\": 96.0, \"variable\": \"LW_IN\", \"value\": 300.274, \"is_missing\": false}, {\"time\": 97.0, \"variable\": \"LW_IN\", \"value\": 300.274, \"is_missing\": false}, {\"time\": 98.0, \"variable\": \"LW_IN\", \"value\": 304.148, \"is_missing\": false}, {\"time\": 99.0, \"variable\": \"LW_IN\", \"value\": 304.148, \"is_missing\": true}, {\"time\": 100.0, \"variable\": \"LW_IN\", \"value\": 304.148, \"is_missing\": false}, {\"time\": 101.0, \"variable\": \"LW_IN\", \"value\": 304.148, \"is_missing\": false}, {\"time\": 102.0, \"variable\": \"LW_IN\", \"value\": 304.148, \"is_missing\": true}, {\"time\": 103.0, \"variable\": \"LW_IN\", \"value\": 304.148, \"is_missing\": false}, {\"time\": 104.0, \"variable\": \"LW_IN\", \"value\": 304.382, \"is_missing\": true}, {\"time\": 105.0, \"variable\": \"LW_IN\", \"value\": 304.382, \"is_missing\": false}, {\"time\": 106.0, \"variable\": \"LW_IN\", \"value\": 304.382, \"is_missing\": false}, {\"time\": 107.0, \"variable\": \"LW_IN\", \"value\": 304.382, \"is_missing\": false}, {\"time\": 108.0, \"variable\": \"LW_IN\", \"value\": 304.382, \"is_missing\": false}, {\"time\": 109.0, \"variable\": \"LW_IN\", \"value\": 304.382, \"is_missing\": true}, {\"time\": 110.0, \"variable\": \"LW_IN\", \"value\": 298.069, \"is_missing\": false}, {\"time\": 111.0, \"variable\": \"LW_IN\", \"value\": 298.069, \"is_missing\": true}, {\"time\": 112.0, \"variable\": \"LW_IN\", \"value\": 298.069, \"is_missing\": true}, {\"time\": 113.0, \"variable\": \"LW_IN\", \"value\": 298.069, \"is_missing\": false}, {\"time\": 114.0, \"variable\": \"LW_IN\", \"value\": 298.069, \"is_missing\": false}, {\"time\": 115.0, \"variable\": \"LW_IN\", \"value\": 298.069, \"is_missing\": false}, {\"time\": 116.0, \"variable\": \"LW_IN\", \"value\": 297.189, \"is_missing\": false}, {\"time\": 117.0, \"variable\": \"LW_IN\", \"value\": 297.189, \"is_missing\": false}, {\"time\": 118.0, \"variable\": \"LW_IN\", \"value\": 297.189, \"is_missing\": false}, {\"time\": 119.0, \"variable\": \"LW_IN\", \"value\": 297.189, \"is_missing\": true}, {\"time\": 120.0, \"variable\": \"LW_IN\", \"value\": 297.189, \"is_missing\": false}, {\"time\": 121.0, \"variable\": \"LW_IN\", \"value\": 297.189, \"is_missing\": true}, {\"time\": 122.0, \"variable\": \"LW_IN\", \"value\": 291.71, \"is_missing\": true}, {\"time\": 123.0, \"variable\": \"LW_IN\", \"value\": 291.71, \"is_missing\": false}, {\"time\": 124.0, \"variable\": \"LW_IN\", \"value\": 291.71, \"is_missing\": false}, {\"time\": 125.0, \"variable\": \"LW_IN\", \"value\": 291.71, \"is_missing\": false}, {\"time\": 126.0, \"variable\": \"LW_IN\", \"value\": 291.71, \"is_missing\": true}, {\"time\": 127.0, \"variable\": \"LW_IN\", \"value\": 291.71, \"is_missing\": false}, {\"time\": 128.0, \"variable\": \"LW_IN\", \"value\": 310.192, \"is_missing\": true}, {\"time\": 129.0, \"variable\": \"LW_IN\", \"value\": 310.192, \"is_missing\": false}, {\"time\": 130.0, \"variable\": \"LW_IN\", \"value\": 310.192, \"is_missing\": false}, {\"time\": 131.0, \"variable\": \"LW_IN\", \"value\": 310.192, \"is_missing\": true}, {\"time\": 132.0, \"variable\": \"LW_IN\", \"value\": 310.192, \"is_missing\": true}, {\"time\": 133.0, \"variable\": \"LW_IN\", \"value\": 310.192, \"is_missing\": true}, {\"time\": 134.0, \"variable\": \"LW_IN\", \"value\": 317.262, \"is_missing\": false}, {\"time\": 135.0, \"variable\": \"LW_IN\", \"value\": 317.262, \"is_missing\": false}, {\"time\": 136.0, \"variable\": \"LW_IN\", \"value\": 317.262, \"is_missing\": false}, {\"time\": 137.0, \"variable\": \"LW_IN\", \"value\": 317.262, \"is_missing\": false}, {\"time\": 138.0, \"variable\": \"LW_IN\", \"value\": 317.262, \"is_missing\": false}, {\"time\": 139.0, \"variable\": \"LW_IN\", \"value\": 317.262, \"is_missing\": false}, {\"time\": 140.0, \"variable\": \"LW_IN\", \"value\": 310.161, \"is_missing\": false}, {\"time\": 141.0, \"variable\": \"LW_IN\", \"value\": 310.161, \"is_missing\": false}, {\"time\": 142.0, \"variable\": \"LW_IN\", \"value\": 310.161, \"is_missing\": false}, {\"time\": 143.0, \"variable\": \"LW_IN\", \"value\": 310.161, \"is_missing\": false}, {\"time\": 144.0, \"variable\": \"LW_IN\", \"value\": 310.161, \"is_missing\": false}, {\"time\": 145.0, \"variable\": \"LW_IN\", \"value\": 310.161, \"is_missing\": true}, {\"time\": 146.0, \"variable\": \"LW_IN\", \"value\": 304.731, \"is_missing\": false}, {\"time\": 147.0, \"variable\": \"LW_IN\", \"value\": 304.731, \"is_missing\": false}, {\"time\": 148.0, \"variable\": \"LW_IN\", \"value\": 304.731, \"is_missing\": true}, {\"time\": 149.0, \"variable\": \"LW_IN\", \"value\": 304.731, \"is_missing\": false}], \"data-3433f3f043abbf17e0f2584bdf71cb6b\": [{\"time\": 0.0, \"variable\": \"LW_IN\", \"mean\": 302.475, \"std\": null}, {\"time\": 2.0, \"variable\": \"LW_IN\", \"mean\": 301.677, \"std\": null}, {\"time\": 4.0, \"variable\": \"LW_IN\", \"mean\": 301.677, \"std\": null}, {\"time\": 5.0, \"variable\": \"LW_IN\", \"mean\": 301.677, \"std\": null}, {\"time\": 6.0, \"variable\": \"LW_IN\", \"mean\": 301.677, \"std\": null}, {\"time\": 7.0, \"variable\": \"LW_IN\", \"mean\": 301.677, \"std\": null}, {\"time\": 9.0, \"variable\": \"LW_IN\", \"mean\": 308.046, \"std\": null}, {\"time\": 10.0, \"variable\": \"LW_IN\", \"mean\": 308.046, \"std\": null}, {\"time\": 11.0, \"variable\": \"LW_IN\", \"mean\": 308.046, \"std\": null}, {\"time\": 12.0, \"variable\": \"LW_IN\", \"mean\": 308.046, \"std\": null}, {\"time\": 13.0, \"variable\": \"LW_IN\", \"mean\": 308.046, \"std\": null}, {\"time\": 14.0, \"variable\": \"LW_IN\", \"mean\": 316.925, \"std\": null}, {\"time\": 15.0, \"variable\": \"LW_IN\", \"mean\": 316.925, \"std\": null}, {\"time\": 16.0, \"variable\": \"LW_IN\", \"mean\": 316.925, \"std\": null}, {\"time\": 18.0, \"variable\": \"LW_IN\", \"mean\": 316.925, \"std\": null}, {\"time\": 21.0, \"variable\": \"LW_IN\", \"mean\": 321.15, \"std\": null}, {\"time\": 25.0, \"variable\": \"LW_IN\", \"mean\": 321.15, \"std\": null}, {\"time\": 26.0, \"variable\": \"LW_IN\", \"mean\": 323.062, \"std\": null}, {\"time\": 27.0, \"variable\": \"LW_IN\", \"mean\": 323.062, \"std\": null}, {\"time\": 28.0, \"variable\": \"LW_IN\", \"mean\": 323.062, \"std\": null}, {\"time\": 29.0, \"variable\": \"LW_IN\", \"mean\": 323.062, \"std\": null}, {\"time\": 31.0, \"variable\": \"LW_IN\", \"mean\": 323.062, \"std\": null}, {\"time\": 32.0, \"variable\": \"LW_IN\", \"mean\": 328.053, \"std\": null}, {\"time\": 33.0, \"variable\": \"LW_IN\", \"mean\": 328.053, \"std\": null}, {\"time\": 36.0, \"variable\": \"LW_IN\", \"mean\": 328.053, \"std\": null}, {\"time\": 37.0, \"variable\": \"LW_IN\", \"mean\": 328.053, \"std\": null}, {\"time\": 38.0, \"variable\": \"LW_IN\", \"mean\": 329.365, \"std\": null}, {\"time\": 39.0, \"variable\": \"LW_IN\", \"mean\": 329.365, \"std\": null}, {\"time\": 40.0, \"variable\": \"LW_IN\", \"mean\": 329.365, \"std\": null}, {\"time\": 45.0, \"variable\": \"LW_IN\", \"mean\": 297.593, \"std\": null}, {\"time\": 47.0, \"variable\": \"LW_IN\", \"mean\": 297.593, \"std\": null}, {\"time\": 49.0, \"variable\": \"LW_IN\", \"mean\": 297.593, \"std\": null}, {\"time\": 50.0, \"variable\": \"LW_IN\", \"mean\": 277.157, \"std\": null}, {\"time\": 51.0, \"variable\": \"LW_IN\", \"mean\": 277.157, \"std\": null}, {\"time\": 53.0, \"variable\": \"LW_IN\", \"mean\": 277.157, \"std\": null}, {\"time\": 54.0, \"variable\": \"LW_IN\", \"mean\": 277.157, \"std\": null}, {\"time\": 58.0, \"variable\": \"LW_IN\", \"mean\": 266.713, \"std\": null}, {\"time\": 60.0, \"variable\": \"LW_IN\", \"mean\": 266.713, \"std\": null}, {\"time\": 61.0, \"variable\": \"LW_IN\", \"mean\": 266.713, \"std\": null}, {\"time\": 63.0, \"variable\": \"LW_IN\", \"mean\": 259.213, \"std\": null}, {\"time\": 66.0, \"variable\": \"LW_IN\", \"mean\": 259.213, \"std\": null}, {\"time\": 67.0, \"variable\": \"LW_IN\", \"mean\": 259.213, \"std\": null}, {\"time\": 71.0, \"variable\": \"LW_IN\", \"mean\": 265.357, \"std\": null}, {\"time\": 73.0, \"variable\": \"LW_IN\", \"mean\": 265.357, \"std\": null}, {\"time\": 75.0, \"variable\": \"LW_IN\", \"mean\": 279.492, \"std\": null}, {\"time\": 77.0, \"variable\": \"LW_IN\", \"mean\": 279.492, \"std\": null}, {\"time\": 79.0, \"variable\": \"LW_IN\", \"mean\": 279.492, \"std\": null}, {\"time\": 80.0, \"variable\": \"LW_IN\", \"mean\": 284.641, \"std\": null}, {\"time\": 81.0, \"variable\": \"LW_IN\", \"mean\": 284.641, \"std\": null}, {\"time\": 82.0, \"variable\": \"LW_IN\", \"mean\": 284.641, \"std\": null}, {\"time\": 83.0, \"variable\": \"LW_IN\", \"mean\": 284.641, \"std\": null}, {\"time\": 84.0, \"variable\": \"LW_IN\", \"mean\": 284.641, \"std\": null}, {\"time\": 86.0, \"variable\": \"LW_IN\", \"mean\": 290.004, \"std\": null}, {\"time\": 89.0, \"variable\": \"LW_IN\", \"mean\": 290.004, \"std\": null}, {\"time\": 91.0, \"variable\": \"LW_IN\", \"mean\": 290.004, \"std\": null}, {\"time\": 92.0, \"variable\": \"LW_IN\", \"mean\": 300.274, \"std\": null}, {\"time\": 93.0, \"variable\": \"LW_IN\", \"mean\": 300.274, \"std\": null}, {\"time\": 95.0, \"variable\": \"LW_IN\", \"mean\": 300.274, \"std\": null}, {\"time\": 97.0, \"variable\": \"LW_IN\", \"mean\": 300.274, \"std\": null}, {\"time\": 98.0, \"variable\": \"LW_IN\", \"mean\": 304.148, \"std\": null}, {\"time\": 100.0, \"variable\": \"LW_IN\", \"mean\": 304.148, \"std\": null}, {\"time\": 101.0, \"variable\": \"LW_IN\", \"mean\": 304.148, \"std\": null}, {\"time\": 103.0, \"variable\": \"LW_IN\", \"mean\": 304.148, \"std\": null}, {\"time\": 106.0, \"variable\": \"LW_IN\", \"mean\": 304.382, \"std\": null}, {\"time\": 107.0, \"variable\": \"LW_IN\", \"mean\": 304.382, \"std\": null}, {\"time\": 108.0, \"variable\": \"LW_IN\", \"mean\": 304.382, \"std\": null}, {\"time\": 110.0, \"variable\": \"LW_IN\", \"mean\": 298.069, \"std\": null}, {\"time\": 113.0, \"variable\": \"LW_IN\", \"mean\": 298.069, \"std\": null}, {\"time\": 115.0, \"variable\": \"LW_IN\", \"mean\": 298.069, \"std\": null}, {\"time\": 116.0, \"variable\": \"LW_IN\", \"mean\": 297.189, \"std\": null}, {\"time\": 117.0, \"variable\": \"LW_IN\", \"mean\": 297.189, \"std\": null}, {\"time\": 123.0, \"variable\": \"LW_IN\", \"mean\": 291.71, \"std\": null}, {\"time\": 124.0, \"variable\": \"LW_IN\", \"mean\": 291.71, \"std\": null}, {\"time\": 125.0, \"variable\": \"LW_IN\", \"mean\": 291.71, \"std\": null}, {\"time\": 129.0, \"variable\": \"LW_IN\", \"mean\": 310.192, \"std\": null}, {\"time\": 135.0, \"variable\": \"LW_IN\", \"mean\": 317.262, \"std\": null}, {\"time\": 137.0, \"variable\": \"LW_IN\", \"mean\": 317.262, \"std\": null}, {\"time\": 138.0, \"variable\": \"LW_IN\", \"mean\": 317.262, \"std\": null}, {\"time\": 139.0, \"variable\": \"LW_IN\", \"mean\": 317.262, \"std\": null}, {\"time\": 140.0, \"variable\": \"LW_IN\", \"mean\": 310.161, \"std\": null}, {\"time\": 141.0, \"variable\": \"LW_IN\", \"mean\": 310.161, \"std\": null}, {\"time\": 142.0, \"variable\": \"LW_IN\", \"mean\": 310.161, \"std\": null}, {\"time\": 144.0, \"variable\": \"LW_IN\", \"mean\": 310.161, \"std\": null}, {\"time\": 146.0, \"variable\": \"LW_IN\", \"mean\": 304.731, \"std\": null}, {\"time\": 147.0, \"variable\": \"LW_IN\", \"mean\": 304.731, \"std\": null}, {\"time\": 1.0, \"variable\": \"LW_IN\", \"mean\": 301.4829406738281, \"std\": 18.016460418701172}, {\"time\": 3.0, \"variable\": \"LW_IN\", \"mean\": 301.677001953125, \"std\": 0.0}, {\"time\": 8.0, \"variable\": \"LW_IN\", \"mean\": 301.8636169433594, \"std\": 18.015024185180664}, {\"time\": 17.0, \"variable\": \"LW_IN\", \"mean\": 303.4399719238281, \"std\": 18.014598846435547}, {\"time\": 19.0, \"variable\": \"LW_IN\", \"mean\": 303.4300537109375, \"std\": 18.0148868560791}, {\"time\": 20.0, \"variable\": \"LW_IN\", \"mean\": 303.358642578125, \"std\": 18.014951705932617}, {\"time\": 22.0, \"variable\": \"LW_IN\", \"mean\": 321.1499938964844, \"std\": 0.0}, {\"time\": 23.0, \"variable\": \"LW_IN\", \"mean\": 321.1499938964844, \"std\": 0.0}, {\"time\": 24.0, \"variable\": \"LW_IN\", \"mean\": 303.24627685546875, \"std\": 18.0145320892334}, {\"time\": 30.0, \"variable\": \"LW_IN\", \"mean\": 323.06201171875, \"std\": 0.0}, {\"time\": 34.0, \"variable\": \"LW_IN\", \"mean\": 303.26446533203125, \"std\": 18.01565933227539}, {\"time\": 35.0, \"variable\": \"LW_IN\", \"mean\": 303.3805847167969, \"std\": 18.015653610229492}, {\"time\": 41.0, \"variable\": \"LW_IN\", \"mean\": 301.3838195800781, \"std\": 18.015409469604492}, {\"time\": 42.0, \"variable\": \"LW_IN\", \"mean\": 300.2591857910156, \"std\": 18.01567840576172}, {\"time\": 43.0, \"variable\": \"LW_IN\", \"mean\": 299.1148376464844, \"std\": 18.01563835144043}, {\"time\": 44.0, \"variable\": \"LW_IN\", \"mean\": 298.1174621582031, \"std\": 18.01535987854004}, {\"time\": 46.0, \"variable\": \"LW_IN\", \"mean\": 297.0669860839844, \"std\": 18.01490020751953}, {\"time\": 48.0, \"variable\": \"LW_IN\", \"mean\": 297.4217834472656, \"std\": 18.014986038208008}, {\"time\": 52.0, \"variable\": \"LW_IN\", \"mean\": 299.3316650390625, \"std\": 18.014619827270508}, {\"time\": 55.0, \"variable\": \"LW_IN\", \"mean\": 300.04876708984375, \"std\": 18.01540756225586}, {\"time\": 56.0, \"variable\": \"LW_IN\", \"mean\": 266.7130126953125, \"std\": 0.0}, {\"time\": 57.0, \"variable\": \"LW_IN\", \"mean\": 300.7714538574219, \"std\": 18.01538848876953}, {\"time\": 59.0, \"variable\": \"LW_IN\", \"mean\": 301.763427734375, \"std\": 18.01481056213379}, {\"time\": 62.0, \"variable\": \"LW_IN\", \"mean\": 302.5892028808594, \"std\": 18.01453399658203}, {\"time\": 64.0, \"variable\": \"LW_IN\", \"mean\": 302.20501708984375, \"std\": 18.0145320892334}, {\"time\": 65.0, \"variable\": \"LW_IN\", \"mean\": 301.79150390625, \"std\": 18.014535903930664}, {\"time\": 68.0, \"variable\": \"LW_IN\", \"mean\": 300.1812438964844, \"std\": 18.015472412109375}, {\"time\": 69.0, \"variable\": \"LW_IN\", \"mean\": 299.6061706542969, \"std\": 18.015995025634766}, {\"time\": 70.0, \"variable\": \"LW_IN\", \"mean\": 299.0464782714844, \"std\": 18.016359329223633}, {\"time\": 72.0, \"variable\": \"LW_IN\", \"mean\": 298.16082763671875, \"std\": 18.016250610351562}, {\"time\": 74.0, \"variable\": \"LW_IN\", \"mean\": 298.0570373535156, \"std\": 18.01551628112793}, {\"time\": 76.0, \"variable\": \"LW_IN\", \"mean\": 279.49200439453125, \"std\": 0.0}, {\"time\": 78.0, \"variable\": \"LW_IN\", \"mean\": 300.9671936035156, \"std\": 18.01504898071289}, {\"time\": 85.0, \"variable\": \"LW_IN\", \"mean\": 284.6409912109375, \"std\": 0.0}, {\"time\": 87.0, \"variable\": \"LW_IN\", \"mean\": 300.6768798828125, \"std\": 18.016572952270508}, {\"time\": 88.0, \"variable\": \"LW_IN\", \"mean\": 290.0039978027344, \"std\": 0.0}, {\"time\": 90.0, \"variable\": \"LW_IN\", \"mean\": 300.9883728027344, \"std\": 18.01573371887207}, {\"time\": 94.0, \"variable\": \"LW_IN\", \"mean\": 302.7966003417969, \"std\": 18.015039443969727}, {\"time\": 96.0, \"variable\": \"LW_IN\", \"mean\": 300.27398681640625, \"std\": 0.0}, {\"time\": 99.0, \"variable\": \"LW_IN\", \"mean\": 303.3896179199219, \"std\": 18.015132904052734}, {\"time\": 102.0, \"variable\": \"LW_IN\", \"mean\": 303.51287841796875, \"std\": 18.015911102294922}, {\"time\": 104.0, \"variable\": \"LW_IN\", \"mean\": 303.424072265625, \"std\": 18.016197204589844}, {\"time\": 105.0, \"variable\": \"LW_IN\", \"mean\": 304.3819885253906, \"std\": 0.0}, {\"time\": 109.0, \"variable\": \"LW_IN\", \"mean\": 300.2959289550781, \"std\": 18.015417098999023}, {\"time\": 111.0, \"variable\": \"LW_IN\", \"mean\": 298.1235046386719, \"std\": 18.015609741210938}, {\"time\": 112.0, \"variable\": \"LW_IN\", \"mean\": 297.0574951171875, \"std\": 18.015548706054688}, {\"time\": 114.0, \"variable\": \"LW_IN\", \"mean\": 298.0690002441406, \"std\": 0.0}, {\"time\": 118.0, \"variable\": \"LW_IN\", \"mean\": 297.1889953613281, \"std\": 0.0}, {\"time\": 119.0, \"variable\": \"LW_IN\", \"mean\": 292.4958190917969, \"std\": 18.017610549926758}, {\"time\": 120.0, \"variable\": \"LW_IN\", \"mean\": 297.1889953613281, \"std\": 0.0}, {\"time\": 121.0, \"variable\": \"LW_IN\", \"mean\": 292.2094421386719, \"std\": 18.0184268951416}, {\"time\": 122.0, \"variable\": \"LW_IN\", \"mean\": 292.23028564453125, \"std\": 18.01746940612793}, {\"time\": 126.0, \"variable\": \"LW_IN\", \"mean\": 293.328857421875, \"std\": 18.016584396362305}, {\"time\": 127.0, \"variable\": \"LW_IN\", \"mean\": 291.7099914550781, \"std\": 0.0}, {\"time\": 128.0, \"variable\": \"LW_IN\", \"mean\": 294.3981628417969, \"std\": 18.017032623291016}, {\"time\": 130.0, \"variable\": \"LW_IN\", \"mean\": 310.1919860839844, \"std\": 0.0}, {\"time\": 131.0, \"variable\": \"LW_IN\", \"mean\": 296.1343994140625, \"std\": 18.016923904418945}, {\"time\": 132.0, \"variable\": \"LW_IN\", \"mean\": 296.5853576660156, \"std\": 18.01705551147461}, {\"time\": 133.0, \"variable\": \"LW_IN\", \"mean\": 296.9226989746094, \"std\": 18.016889572143555}, {\"time\": 134.0, \"variable\": \"LW_IN\", \"mean\": 317.2619934082031, \"std\": 0.0}, {\"time\": 136.0, \"variable\": \"LW_IN\", \"mean\": 317.2619934082031, \"std\": 0.0}, {\"time\": 143.0, \"variable\": \"LW_IN\", \"mean\": 310.1610107421875, \"std\": 0.0}, {\"time\": 145.0, \"variable\": \"LW_IN\", \"mean\": 295.0679626464844, \"std\": 18.015398025512695}, {\"time\": 148.0, \"variable\": \"LW_IN\", \"mean\": 291.3939514160156, \"std\": 18.01770782470703}, {\"time\": 149.0, \"variable\": \"LW_IN\", \"mean\": 304.7309875488281, \"std\": 0.0}], \"data-e2b44019a2b9c76e9e0ce01b3510c6cf\": [{\"time\": 0.0, \"variable\": \"VPD\", \"value\": 0.222, \"is_missing\": false}, {\"time\": 1.0, \"variable\": \"VPD\", \"value\": 0.122, \"is_missing\": true}, {\"time\": 2.0, \"variable\": \"VPD\", \"value\": 0.09, \"is_missing\": false}, {\"time\": 3.0, \"variable\": \"VPD\", \"value\": 0.11, \"is_missing\": false}, {\"time\": 4.0, \"variable\": \"VPD\", \"value\": 0.102, \"is_missing\": false}, {\"time\": 5.0, \"variable\": \"VPD\", \"value\": 0.111, \"is_missing\": false}, {\"time\": 6.0, \"variable\": \"VPD\", \"value\": 0.109, \"is_missing\": false}, {\"time\": 7.0, \"variable\": \"VPD\", \"value\": 0.107, \"is_missing\": false}, {\"time\": 8.0, \"variable\": \"VPD\", \"value\": 0.122, \"is_missing\": true}, {\"time\": 9.0, \"variable\": \"VPD\", \"value\": 0.138, \"is_missing\": false}, {\"time\": 10.0, \"variable\": \"VPD\", \"value\": 0.138, \"is_missing\": false}, {\"time\": 11.0, \"variable\": \"VPD\", \"value\": 0.122, \"is_missing\": false}, {\"time\": 12.0, \"variable\": \"VPD\", \"value\": 0.098, \"is_missing\": false}, {\"time\": 13.0, \"variable\": \"VPD\", \"value\": 0.066, \"is_missing\": false}, {\"time\": 14.0, \"variable\": \"VPD\", \"value\": 0.044, \"is_missing\": false}, {\"time\": 15.0, \"variable\": \"VPD\", \"value\": 0.026, \"is_missing\": false}, {\"time\": 16.0, \"variable\": \"VPD\", \"value\": 0.016, \"is_missing\": false}, {\"time\": 17.0, \"variable\": \"VPD\", \"value\": 0.01, \"is_missing\": false}, {\"time\": 18.0, \"variable\": \"VPD\", \"value\": 0.006, \"is_missing\": false}, {\"time\": 19.0, \"variable\": \"VPD\", \"value\": 0.006, \"is_missing\": false}, {\"time\": 20.0, \"variable\": \"VPD\", \"value\": 0.006, \"is_missing\": true}, {\"time\": 21.0, \"variable\": \"VPD\", \"value\": 0.011, \"is_missing\": false}, {\"time\": 22.0, \"variable\": \"VPD\", \"value\": 0.019, \"is_missing\": false}, {\"time\": 23.0, \"variable\": \"VPD\", \"value\": 0.014, \"is_missing\": false}, {\"time\": 24.0, \"variable\": \"VPD\", \"value\": 0.008, \"is_missing\": false}, {\"time\": 25.0, \"variable\": \"VPD\", \"value\": 0.006, \"is_missing\": false}, {\"time\": 26.0, \"variable\": \"VPD\", \"value\": 0.0, \"is_missing\": false}, {\"time\": 27.0, \"variable\": \"VPD\", \"value\": 0.0, \"is_missing\": false}, {\"time\": 28.0, \"variable\": \"VPD\", \"value\": 0.0, \"is_missing\": false}, {\"time\": 29.0, \"variable\": \"VPD\", \"value\": 0.0, \"is_missing\": false}, {\"time\": 30.0, \"variable\": \"VPD\", \"value\": 0.0, \"is_missing\": true}, {\"time\": 31.0, \"variable\": \"VPD\", \"value\": 0.0, \"is_missing\": false}, {\"time\": 32.0, \"variable\": \"VPD\", \"value\": 0.0, \"is_missing\": false}, {\"time\": 33.0, \"variable\": \"VPD\", \"value\": 0.0, \"is_missing\": false}, {\"time\": 34.0, \"variable\": \"VPD\", \"value\": 0.0, \"is_missing\": true}, {\"time\": 35.0, \"variable\": \"VPD\", \"value\": 0.0, \"is_missing\": true}, {\"time\": 36.0, \"variable\": \"VPD\", \"value\": 0.0, \"is_missing\": false}, {\"time\": 37.0, \"variable\": \"VPD\", \"value\": 0.002, \"is_missing\": false}, {\"time\": 38.0, \"variable\": \"VPD\", \"value\": 0.009, \"is_missing\": false}, {\"time\": 39.0, \"variable\": \"VPD\", \"value\": 0.014, \"is_missing\": false}, {\"time\": 40.0, \"variable\": \"VPD\", \"value\": 0.014, \"is_missing\": false}, {\"time\": 41.0, \"variable\": \"VPD\", \"value\": 0.038, \"is_missing\": false}, {\"time\": 42.0, \"variable\": \"VPD\", \"value\": 0.079, \"is_missing\": true}, {\"time\": 43.0, \"variable\": \"VPD\", \"value\": 0.257, \"is_missing\": true}, {\"time\": 44.0, \"variable\": \"VPD\", \"value\": 0.388, \"is_missing\": false}, {\"time\": 45.0, \"variable\": \"VPD\", \"value\": 0.555, \"is_missing\": false}, {\"time\": 46.0, \"variable\": \"VPD\", \"value\": 0.452, \"is_missing\": false}, {\"time\": 47.0, \"variable\": \"VPD\", \"value\": 0.435, \"is_missing\": false}, {\"time\": 48.0, \"variable\": \"VPD\", \"value\": 0.248, \"is_missing\": true}, {\"time\": 49.0, \"variable\": \"VPD\", \"value\": 0.234, \"is_missing\": false}, {\"time\": 50.0, \"variable\": \"VPD\", \"value\": 0.377, \"is_missing\": false}, {\"time\": 51.0, \"variable\": \"VPD\", \"value\": 0.414, \"is_missing\": false}, {\"time\": 52.0, \"variable\": \"VPD\", \"value\": 0.356, \"is_missing\": false}, {\"time\": 53.0, \"variable\": \"VPD\", \"value\": 0.205, \"is_missing\": false}, {\"time\": 54.0, \"variable\": \"VPD\", \"value\": 0.188, \"is_missing\": false}, {\"time\": 55.0, \"variable\": \"VPD\", \"value\": 0.232, \"is_missing\": true}, {\"time\": 56.0, \"variable\": \"VPD\", \"value\": 0.27, \"is_missing\": false}, {\"time\": 57.0, \"variable\": \"VPD\", \"value\": 0.273, \"is_missing\": true}, {\"time\": 58.0, \"variable\": \"VPD\", \"value\": 0.225, \"is_missing\": false}, {\"time\": 59.0, \"variable\": \"VPD\", \"value\": 0.123, \"is_missing\": false}, {\"time\": 60.0, \"variable\": \"VPD\", \"value\": 0.053, \"is_missing\": false}, {\"time\": 61.0, \"variable\": \"VPD\", \"value\": 0.026, \"is_missing\": false}, {\"time\": 62.0, \"variable\": \"VPD\", \"value\": 0.013, \"is_missing\": false}, {\"time\": 63.0, \"variable\": \"VPD\", \"value\": 0.017, \"is_missing\": false}, {\"time\": 64.0, \"variable\": \"VPD\", \"value\": 0.18, \"is_missing\": false}, {\"time\": 65.0, \"variable\": \"VPD\", \"value\": 0.162, \"is_missing\": false}, {\"time\": 66.0, \"variable\": \"VPD\", \"value\": 0.177, \"is_missing\": false}, {\"time\": 67.0, \"variable\": \"VPD\", \"value\": 0.181, \"is_missing\": false}, {\"time\": 68.0, \"variable\": \"VPD\", \"value\": 0.188, \"is_missing\": false}, {\"time\": 69.0, \"variable\": \"VPD\", \"value\": 0.276, \"is_missing\": true}, {\"time\": 70.0, \"variable\": \"VPD\", \"value\": 0.309, \"is_missing\": true}, {\"time\": 71.0, \"variable\": \"VPD\", \"value\": 0.346, \"is_missing\": false}, {\"time\": 72.0, \"variable\": \"VPD\", \"value\": 0.297, \"is_missing\": true}, {\"time\": 73.0, \"variable\": \"VPD\", \"value\": 0.349, \"is_missing\": false}, {\"time\": 74.0, \"variable\": \"VPD\", \"value\": 0.362, \"is_missing\": true}, {\"time\": 75.0, \"variable\": \"VPD\", \"value\": 0.381, \"is_missing\": false}, {\"time\": 76.0, \"variable\": \"VPD\", \"value\": 0.369, \"is_missing\": false}, {\"time\": 77.0, \"variable\": \"VPD\", \"value\": 0.24, \"is_missing\": false}, {\"time\": 78.0, \"variable\": \"VPD\", \"value\": 0.111, \"is_missing\": true}, {\"time\": 79.0, \"variable\": \"VPD\", \"value\": 0.062, \"is_missing\": false}, {\"time\": 80.0, \"variable\": \"VPD\", \"value\": 0.044, \"is_missing\": false}, {\"time\": 81.0, \"variable\": \"VPD\", \"value\": 0.034, \"is_missing\": false}, {\"time\": 82.0, \"variable\": \"VPD\", \"value\": 0.032, \"is_missing\": false}, {\"time\": 83.0, \"variable\": \"VPD\", \"value\": 0.055, \"is_missing\": false}, {\"time\": 84.0, \"variable\": \"VPD\", \"value\": 0.125, \"is_missing\": false}, {\"time\": 85.0, \"variable\": \"VPD\", \"value\": 0.128, \"is_missing\": true}, {\"time\": 86.0, \"variable\": \"VPD\", \"value\": 0.201, \"is_missing\": false}, {\"time\": 87.0, \"variable\": \"VPD\", \"value\": 0.174, \"is_missing\": true}, {\"time\": 88.0, \"variable\": \"VPD\", \"value\": 0.154, \"is_missing\": true}, {\"time\": 89.0, \"variable\": \"VPD\", \"value\": 0.177, \"is_missing\": false}, {\"time\": 90.0, \"variable\": \"VPD\", \"value\": 0.192, \"is_missing\": true}, {\"time\": 91.0, \"variable\": \"VPD\", \"value\": 0.149, \"is_missing\": false}, {\"time\": 92.0, \"variable\": \"VPD\", \"value\": 0.112, \"is_missing\": false}, {\"time\": 93.0, \"variable\": \"VPD\", \"value\": 0.075, \"is_missing\": false}, {\"time\": 94.0, \"variable\": \"VPD\", \"value\": 0.038, \"is_missing\": true}, {\"time\": 95.0, \"variable\": \"VPD\", \"value\": 0.021, \"is_missing\": false}, {\"time\": 96.0, \"variable\": \"VPD\", \"value\": 0.013, \"is_missing\": false}, {\"time\": 97.0, \"variable\": \"VPD\", \"value\": 0.004, \"is_missing\": false}, {\"time\": 98.0, \"variable\": \"VPD\", \"value\": 0.0, \"is_missing\": false}, {\"time\": 99.0, \"variable\": \"VPD\", \"value\": 0.0, \"is_missing\": true}, {\"time\": 100.0, \"variable\": \"VPD\", \"value\": 0.0, \"is_missing\": false}, {\"time\": 101.0, \"variable\": \"VPD\", \"value\": 0.0, \"is_missing\": false}, {\"time\": 102.0, \"variable\": \"VPD\", \"value\": 0.0, \"is_missing\": true}, {\"time\": 103.0, \"variable\": \"VPD\", \"value\": 0.0, \"is_missing\": false}, {\"time\": 104.0, \"variable\": \"VPD\", \"value\": 0.0, \"is_missing\": true}, {\"time\": 105.0, \"variable\": \"VPD\", \"value\": 0.0, \"is_missing\": true}, {\"time\": 106.0, \"variable\": \"VPD\", \"value\": 0.009, \"is_missing\": false}, {\"time\": 107.0, \"variable\": \"VPD\", \"value\": 0.061, \"is_missing\": false}, {\"time\": 108.0, \"variable\": \"VPD\", \"value\": 0.174, \"is_missing\": false}, {\"time\": 109.0, \"variable\": \"VPD\", \"value\": 0.208, \"is_missing\": true}, {\"time\": 110.0, \"variable\": \"VPD\", \"value\": 0.294, \"is_missing\": false}, {\"time\": 111.0, \"variable\": \"VPD\", \"value\": 0.37, \"is_missing\": true}, {\"time\": 112.0, \"variable\": \"VPD\", \"value\": 0.478, \"is_missing\": false}, {\"time\": 113.0, \"variable\": \"VPD\", \"value\": 0.557, \"is_missing\": false}, {\"time\": 114.0, \"variable\": \"VPD\", \"value\": 0.617, \"is_missing\": true}, {\"time\": 115.0, \"variable\": \"VPD\", \"value\": 0.656, \"is_missing\": false}, {\"time\": 116.0, \"variable\": \"VPD\", \"value\": 0.654, \"is_missing\": false}, {\"time\": 117.0, \"variable\": \"VPD\", \"value\": 0.704, \"is_missing\": false}, {\"time\": 118.0, \"variable\": \"VPD\", \"value\": 0.838, \"is_missing\": false}, {\"time\": 119.0, \"variable\": \"VPD\", \"value\": 0.914, \"is_missing\": true}, {\"time\": 120.0, \"variable\": \"VPD\", \"value\": 0.818, \"is_missing\": true}, {\"time\": 121.0, \"variable\": \"VPD\", \"value\": 0.728, \"is_missing\": true}, {\"time\": 122.0, \"variable\": \"VPD\", \"value\": 0.749, \"is_missing\": true}, {\"time\": 123.0, \"variable\": \"VPD\", \"value\": 0.773, \"is_missing\": false}, {\"time\": 124.0, \"variable\": \"VPD\", \"value\": 0.787, \"is_missing\": false}, {\"time\": 125.0, \"variable\": \"VPD\", \"value\": 0.759, \"is_missing\": false}, {\"time\": 126.0, \"variable\": \"VPD\", \"value\": 0.723, \"is_missing\": true}, {\"time\": 127.0, \"variable\": \"VPD\", \"value\": 0.671, \"is_missing\": true}, {\"time\": 128.0, \"variable\": \"VPD\", \"value\": 0.657, \"is_missing\": true}, {\"time\": 129.0, \"variable\": \"VPD\", \"value\": 0.641, \"is_missing\": false}, {\"time\": 130.0, \"variable\": \"VPD\", \"value\": 0.559, \"is_missing\": false}, {\"time\": 131.0, \"variable\": \"VPD\", \"value\": 0.452, \"is_missing\": true}, {\"time\": 132.0, \"variable\": \"VPD\", \"value\": 0.389, \"is_missing\": true}, {\"time\": 133.0, \"variable\": \"VPD\", \"value\": 0.412, \"is_missing\": true}, {\"time\": 134.0, \"variable\": \"VPD\", \"value\": 0.429, \"is_missing\": false}, {\"time\": 135.0, \"variable\": \"VPD\", \"value\": 0.449, \"is_missing\": false}, {\"time\": 136.0, \"variable\": \"VPD\", \"value\": 0.471, \"is_missing\": true}, {\"time\": 137.0, \"variable\": \"VPD\", \"value\": 0.434, \"is_missing\": false}, {\"time\": 138.0, \"variable\": \"VPD\", \"value\": 0.432, \"is_missing\": false}, {\"time\": 139.0, \"variable\": \"VPD\", \"value\": 0.409, \"is_missing\": false}, {\"time\": 140.0, \"variable\": \"VPD\", \"value\": 0.417, \"is_missing\": false}, {\"time\": 141.0, \"variable\": \"VPD\", \"value\": 0.432, \"is_missing\": false}, {\"time\": 142.0, \"variable\": \"VPD\", \"value\": 0.441, \"is_missing\": false}, {\"time\": 143.0, \"variable\": \"VPD\", \"value\": 0.467, \"is_missing\": false}, {\"time\": 144.0, \"variable\": \"VPD\", \"value\": 0.459, \"is_missing\": false}, {\"time\": 145.0, \"variable\": \"VPD\", \"value\": 0.545, \"is_missing\": true}, {\"time\": 146.0, \"variable\": \"VPD\", \"value\": 0.7, \"is_missing\": false}, {\"time\": 147.0, \"variable\": \"VPD\", \"value\": 0.813, \"is_missing\": false}, {\"time\": 148.0, \"variable\": \"VPD\", \"value\": 0.952, \"is_missing\": false}, {\"time\": 149.0, \"variable\": \"VPD\", \"value\": 0.971, \"is_missing\": true}], \"data-b3c032496f9437a734eee94cbf1d6624\": [{\"time\": 0.0, \"variable\": \"VPD\", \"mean\": 0.222, \"std\": null}, {\"time\": 2.0, \"variable\": \"VPD\", \"mean\": 0.09, \"std\": null}, {\"time\": 4.0, \"variable\": \"VPD\", \"mean\": 0.102, \"std\": null}, {\"time\": 5.0, \"variable\": \"VPD\", \"mean\": 0.111, \"std\": null}, {\"time\": 6.0, \"variable\": \"VPD\", \"mean\": 0.109, \"std\": null}, {\"time\": 7.0, \"variable\": \"VPD\", \"mean\": 0.107, \"std\": null}, {\"time\": 9.0, \"variable\": \"VPD\", \"mean\": 0.138, \"std\": null}, {\"time\": 10.0, \"variable\": \"VPD\", \"mean\": 0.138, \"std\": null}, {\"time\": 11.0, \"variable\": \"VPD\", \"mean\": 0.122, \"std\": null}, {\"time\": 12.0, \"variable\": \"VPD\", \"mean\": 0.098, \"std\": null}, {\"time\": 13.0, \"variable\": \"VPD\", \"mean\": 0.066, \"std\": null}, {\"time\": 14.0, \"variable\": \"VPD\", \"mean\": 0.044, \"std\": null}, {\"time\": 15.0, \"variable\": \"VPD\", \"mean\": 0.026, \"std\": null}, {\"time\": 16.0, \"variable\": \"VPD\", \"mean\": 0.016, \"std\": null}, {\"time\": 18.0, \"variable\": \"VPD\", \"mean\": 0.006, \"std\": null}, {\"time\": 21.0, \"variable\": \"VPD\", \"mean\": 0.011, \"std\": null}, {\"time\": 25.0, \"variable\": \"VPD\", \"mean\": 0.006, \"std\": null}, {\"time\": 26.0, \"variable\": \"VPD\", \"mean\": 0.0, \"std\": null}, {\"time\": 27.0, \"variable\": \"VPD\", \"mean\": 0.0, \"std\": null}, {\"time\": 28.0, \"variable\": \"VPD\", \"mean\": 0.0, \"std\": null}, {\"time\": 29.0, \"variable\": \"VPD\", \"mean\": 0.0, \"std\": null}, {\"time\": 31.0, \"variable\": \"VPD\", \"mean\": 0.0, \"std\": null}, {\"time\": 32.0, \"variable\": \"VPD\", \"mean\": 0.0, \"std\": null}, {\"time\": 33.0, \"variable\": \"VPD\", \"mean\": 0.0, \"std\": null}, {\"time\": 36.0, \"variable\": \"VPD\", \"mean\": 0.0, \"std\": null}, {\"time\": 37.0, \"variable\": \"VPD\", \"mean\": 0.002, \"std\": null}, {\"time\": 38.0, \"variable\": \"VPD\", \"mean\": 0.009, \"std\": null}, {\"time\": 39.0, \"variable\": \"VPD\", \"mean\": 0.014, \"std\": null}, {\"time\": 40.0, \"variable\": \"VPD\", \"mean\": 0.014, \"std\": null}, {\"time\": 45.0, \"variable\": \"VPD\", \"mean\": 0.555, \"std\": null}, {\"time\": 47.0, \"variable\": \"VPD\", \"mean\": 0.435, \"std\": null}, {\"time\": 49.0, \"variable\": \"VPD\", \"mean\": 0.234, \"std\": null}, {\"time\": 50.0, \"variable\": \"VPD\", \"mean\": 0.377, \"std\": null}, {\"time\": 51.0, \"variable\": \"VPD\", \"mean\": 0.414, \"std\": null}, {\"time\": 53.0, \"variable\": \"VPD\", \"mean\": 0.205, \"std\": null}, {\"time\": 54.0, \"variable\": \"VPD\", \"mean\": 0.188, \"std\": null}, {\"time\": 58.0, \"variable\": \"VPD\", \"mean\": 0.225, \"std\": null}, {\"time\": 60.0, \"variable\": \"VPD\", \"mean\": 0.053, \"std\": null}, {\"time\": 61.0, \"variable\": \"VPD\", \"mean\": 0.026, \"std\": null}, {\"time\": 63.0, \"variable\": \"VPD\", \"mean\": 0.017, \"std\": null}, {\"time\": 66.0, \"variable\": \"VPD\", \"mean\": 0.177, \"std\": null}, {\"time\": 67.0, \"variable\": \"VPD\", \"mean\": 0.181, \"std\": null}, {\"time\": 71.0, \"variable\": \"VPD\", \"mean\": 0.346, \"std\": null}, {\"time\": 73.0, \"variable\": \"VPD\", \"mean\": 0.349, \"std\": null}, {\"time\": 75.0, \"variable\": \"VPD\", \"mean\": 0.381, \"std\": null}, {\"time\": 77.0, \"variable\": \"VPD\", \"mean\": 0.24, \"std\": null}, {\"time\": 79.0, \"variable\": \"VPD\", \"mean\": 0.062, \"std\": null}, {\"time\": 80.0, \"variable\": \"VPD\", \"mean\": 0.044, \"std\": null}, {\"time\": 81.0, \"variable\": \"VPD\", \"mean\": 0.034, \"std\": null}, {\"time\": 82.0, \"variable\": \"VPD\", \"mean\": 0.032, \"std\": null}, {\"time\": 83.0, \"variable\": \"VPD\", \"mean\": 0.055, \"std\": null}, {\"time\": 84.0, \"variable\": \"VPD\", \"mean\": 0.125, \"std\": null}, {\"time\": 86.0, \"variable\": \"VPD\", \"mean\": 0.201, \"std\": null}, {\"time\": 89.0, \"variable\": \"VPD\", \"mean\": 0.177, \"std\": null}, {\"time\": 91.0, \"variable\": \"VPD\", \"mean\": 0.149, \"std\": null}, {\"time\": 92.0, \"variable\": \"VPD\", \"mean\": 0.112, \"std\": null}, {\"time\": 93.0, \"variable\": \"VPD\", \"mean\": 0.075, \"std\": null}, {\"time\": 95.0, \"variable\": \"VPD\", \"mean\": 0.021, \"std\": null}, {\"time\": 97.0, \"variable\": \"VPD\", \"mean\": 0.004, \"std\": null}, {\"time\": 98.0, \"variable\": \"VPD\", \"mean\": 0.0, \"std\": null}, {\"time\": 100.0, \"variable\": \"VPD\", \"mean\": 0.0, \"std\": null}, {\"time\": 101.0, \"variable\": \"VPD\", \"mean\": 0.0, \"std\": null}, {\"time\": 103.0, \"variable\": \"VPD\", \"mean\": 0.0, \"std\": null}, {\"time\": 106.0, \"variable\": \"VPD\", \"mean\": 0.009, \"std\": null}, {\"time\": 107.0, \"variable\": \"VPD\", \"mean\": 0.061, \"std\": null}, {\"time\": 108.0, \"variable\": \"VPD\", \"mean\": 0.174, \"std\": null}, {\"time\": 110.0, \"variable\": \"VPD\", \"mean\": 0.294, \"std\": null}, {\"time\": 113.0, \"variable\": \"VPD\", \"mean\": 0.557, \"std\": null}, {\"time\": 115.0, \"variable\": \"VPD\", \"mean\": 0.656, \"std\": null}, {\"time\": 116.0, \"variable\": \"VPD\", \"mean\": 0.654, \"std\": null}, {\"time\": 117.0, \"variable\": \"VPD\", \"mean\": 0.704, \"std\": null}, {\"time\": 123.0, \"variable\": \"VPD\", \"mean\": 0.773, \"std\": null}, {\"time\": 124.0, \"variable\": \"VPD\", \"mean\": 0.787, \"std\": null}, {\"time\": 125.0, \"variable\": \"VPD\", \"mean\": 0.759, \"std\": null}, {\"time\": 129.0, \"variable\": \"VPD\", \"mean\": 0.641, \"std\": null}, {\"time\": 135.0, \"variable\": \"VPD\", \"mean\": 0.449, \"std\": null}, {\"time\": 137.0, \"variable\": \"VPD\", \"mean\": 0.434, \"std\": null}, {\"time\": 138.0, \"variable\": \"VPD\", \"mean\": 0.432, \"std\": null}, {\"time\": 139.0, \"variable\": \"VPD\", \"mean\": 0.409, \"std\": null}, {\"time\": 140.0, \"variable\": \"VPD\", \"mean\": 0.417, \"std\": null}, {\"time\": 141.0, \"variable\": \"VPD\", \"mean\": 0.432, \"std\": null}, {\"time\": 142.0, \"variable\": \"VPD\", \"mean\": 0.441, \"std\": null}, {\"time\": 144.0, \"variable\": \"VPD\", \"mean\": 0.459, \"std\": null}, {\"time\": 146.0, \"variable\": \"VPD\", \"mean\": 0.7, \"std\": null}, {\"time\": 147.0, \"variable\": \"VPD\", \"mean\": 0.813, \"std\": null}, {\"time\": 1.0, \"variable\": \"VPD\", \"mean\": 0.14056167006492615, \"std\": 0.050257593393325806}, {\"time\": 3.0, \"variable\": \"VPD\", \"mean\": 0.10999999940395355, \"std\": 0.0}, {\"time\": 8.0, \"variable\": \"VPD\", \"mean\": 0.11308781802654266, \"std\": 0.04749888926744461}, {\"time\": 17.0, \"variable\": \"VPD\", \"mean\": 0.01000000536441803, \"std\": 0.0}, {\"time\": 19.0, \"variable\": \"VPD\", \"mean\": 0.00599999725818634, \"std\": 0.0}, {\"time\": 20.0, \"variable\": \"VPD\", \"mean\": 0.0051839351654052734, \"std\": 0.0473543219268322}, {\"time\": 22.0, \"variable\": \"VPD\", \"mean\": 0.018999993801116943, \"std\": 0.0}, {\"time\": 23.0, \"variable\": \"VPD\", \"mean\": 0.013999998569488525, \"std\": 0.0}, {\"time\": 24.0, \"variable\": \"VPD\", \"mean\": 0.008000001311302185, \"std\": 0.0}, {\"time\": 30.0, \"variable\": \"VPD\", \"mean\": 0.003902748227119446, \"std\": 0.047355908900499344}, {\"time\": 34.0, \"variable\": \"VPD\", \"mean\": 0.01198229193687439, \"std\": 0.04873737320303917}, {\"time\": 35.0, \"variable\": \"VPD\", \"mean\": 0.0035998672246932983, \"std\": 0.04872511699795723}, {\"time\": 41.0, \"variable\": \"VPD\", \"mean\": 0.03800000250339508, \"std\": 0.0}, {\"time\": 42.0, \"variable\": \"VPD\", \"mean\": 0.22888508439064026, \"std\": 0.04877426475286484}, {\"time\": 43.0, \"variable\": \"VPD\", \"mean\": 0.31147927045822144, \"std\": 0.048698823899030685}, {\"time\": 44.0, \"variable\": \"VPD\", \"mean\": 0.3880000114440918, \"std\": 0.0}, {\"time\": 46.0, \"variable\": \"VPD\", \"mean\": 0.4519999623298645, \"std\": 0.0}, {\"time\": 48.0, \"variable\": \"VPD\", \"mean\": 0.43367382884025574, \"std\": 0.04742366820573807}, {\"time\": 52.0, \"variable\": \"VPD\", \"mean\": 0.35600000619888306, \"std\": 0.0}, {\"time\": 55.0, \"variable\": \"VPD\", \"mean\": 0.24407121539115906, \"std\": 0.048251911997795105}, {\"time\": 56.0, \"variable\": \"VPD\", \"mean\": 0.27000001072883606, \"std\": 0.0}, {\"time\": 57.0, \"variable\": \"VPD\", \"mean\": 0.19191290438175201, \"std\": 0.048213548958301544}, {\"time\": 59.0, \"variable\": \"VPD\", \"mean\": 0.12300000339746475, \"std\": 0.0}, {\"time\": 62.0, \"variable\": \"VPD\", \"mean\": 0.012999996542930603, \"std\": 0.0}, {\"time\": 64.0, \"variable\": \"VPD\", \"mean\": 0.18000000715255737, \"std\": 0.0}, {\"time\": 65.0, \"variable\": \"VPD\", \"mean\": 0.16200000047683716, \"std\": 0.0}, {\"time\": 68.0, \"variable\": \"VPD\", \"mean\": 0.18799999356269836, \"std\": 0.0}, {\"time\": 69.0, \"variable\": \"VPD\", \"mean\": 0.2760164439678192, \"std\": 0.049379900097846985}, {\"time\": 70.0, \"variable\": \"VPD\", \"mean\": 0.3164117932319641, \"std\": 0.05006701499223709}, {\"time\": 72.0, \"variable\": \"VPD\", \"mean\": 0.3803322911262512, \"std\": 0.04986102879047394}, {\"time\": 74.0, \"variable\": \"VPD\", \"mean\": 0.3878245949745178, \"std\": 0.04846290498971939}, {\"time\": 76.0, \"variable\": \"VPD\", \"mean\": 0.36899998784065247, \"std\": 0.0}, {\"time\": 78.0, \"variable\": \"VPD\", \"mean\": 0.17778530716896057, \"std\": 0.047548335045576096}, {\"time\": 85.0, \"variable\": \"VPD\", \"mean\": 0.13607832789421082, \"std\": 0.04886201024055481}, {\"time\": 87.0, \"variable\": \"VPD\", \"mean\": 0.19873784482479095, \"std\": 0.050465214997529984}, {\"time\": 88.0, \"variable\": \"VPD\", \"mean\": 0.20748893916606903, \"std\": 0.050438374280929565}, {\"time\": 90.0, \"variable\": \"VPD\", \"mean\": 0.1762566864490509, \"std\": 0.04888221248984337}, {\"time\": 94.0, \"variable\": \"VPD\", \"mean\": 0.04574847221374512, \"std\": 0.04752655699849129}, {\"time\": 96.0, \"variable\": \"VPD\", \"mean\": 0.012999996542930603, \"std\": 0.0}, {\"time\": 99.0, \"variable\": \"VPD\", \"mean\": 0.002948284149169922, \"std\": 0.04771185666322708}, {\"time\": 102.0, \"variable\": \"VPD\", \"mean\": -0.005948662757873535, \"std\": 0.04922192543745041}, {\"time\": 104.0, \"variable\": \"VPD\", \"mean\": 0.0004614889621734619, \"std\": 0.04976339265704155}, {\"time\": 105.0, \"variable\": \"VPD\", \"mean\": 0.0179661363363266, \"std\": 0.04929608106613159}, {\"time\": 109.0, \"variable\": \"VPD\", \"mean\": 0.22623378038406372, \"std\": 0.048264846205711365}, {\"time\": 111.0, \"variable\": \"VPD\", \"mean\": 0.3830265402793884, \"std\": 0.04864077642560005}, {\"time\": 112.0, \"variable\": \"VPD\", \"mean\": 0.4779999852180481, \"std\": 0.0}, {\"time\": 114.0, \"variable\": \"VPD\", \"mean\": 0.595130980014801, \"std\": 0.04788044095039368}, {\"time\": 118.0, \"variable\": \"VPD\", \"mean\": 0.8379999995231628, \"std\": 0.0}, {\"time\": 119.0, \"variable\": \"VPD\", \"mean\": 0.7892022132873535, \"std\": 0.05235855653882027}, {\"time\": 120.0, \"variable\": \"VPD\", \"mean\": 0.8035345673561096, \"std\": 0.05391594022512436}, {\"time\": 121.0, \"variable\": \"VPD\", \"mean\": 0.8098723292350769, \"std\": 0.05380105599761009}, {\"time\": 122.0, \"variable\": \"VPD\", \"mean\": 0.808367133140564, \"std\": 0.052106961607933044}, {\"time\": 126.0, \"variable\": \"VPD\", \"mean\": 0.7290781736373901, \"std\": 0.050486233085393906}, {\"time\": 127.0, \"variable\": \"VPD\", \"mean\": 0.6928110718727112, \"std\": 0.051310449838638306}, {\"time\": 128.0, \"variable\": \"VPD\", \"mean\": 0.6519027352333069, \"std\": 0.051315538585186005}, {\"time\": 130.0, \"variable\": \"VPD\", \"mean\": 0.5590000152587891, \"std\": 0.0}, {\"time\": 131.0, \"variable\": \"VPD\", \"mean\": 0.5265900492668152, \"std\": 0.05111570283770561}, {\"time\": 132.0, \"variable\": \"VPD\", \"mean\": 0.4940411448478699, \"std\": 0.05135926231741905}, {\"time\": 133.0, \"variable\": \"VPD\", \"mean\": 0.46969372034072876, \"std\": 0.05104884132742882}, {\"time\": 134.0, \"variable\": \"VPD\", \"mean\": 0.42899999022483826, \"std\": 0.0}, {\"time\": 136.0, \"variable\": \"VPD\", \"mean\": 0.43719401955604553, \"std\": 0.047940853983163834}, {\"time\": 143.0, \"variable\": \"VPD\", \"mean\": 0.46700000762939453, \"std\": 0.0}, {\"time\": 145.0, \"variable\": \"VPD\", \"mean\": 0.6035595536231995, \"std\": 0.04823052138090134}, {\"time\": 148.0, \"variable\": \"VPD\", \"mean\": 0.9520000219345093, \"std\": 0.0}, {\"time\": 149.0, \"variable\": \"VPD\", \"mean\": 0.9312857389450073, \"std\": 0.06362331658601761}]}}, {\"mode\": \"vega-lite\"});\n",
       "</script>"
      ],
      "text/plain": [
       "alt.VConcatChart(...)"
      ]
     },
     "metadata": {},
     "output_type": "display_data"
    },
    {
     "data": {
      "text/html": [
       "<p style='font-size: 1.5rem; font-decoration: bold'>Metrics<p><div style=\"display: flex; column-gap: 20px; flex-wrap: wrap;\" class='table table-striped table-sm'> <div> <p style='font-size: 1.3rem;'>r2</p> <style type=\"text/css\">\n",
       "</style>\n",
       "<table id=\"T_4f9d4\">\n",
       "  <thead>\n",
       "    <tr>\n",
       "      <th id=\"T_4f9d4_level0_col0\" class=\"col_heading level0 col0\" >variable</th>\n",
       "      <th id=\"T_4f9d4_level0_col1\" class=\"col_heading level0 col1\" >r2</th>\n",
       "    </tr>\n",
       "  </thead>\n",
       "  <tbody>\n",
       "    <tr>\n",
       "      <td id=\"T_4f9d4_row0_col0\" class=\"data row0 col0\" >TA</td>\n",
       "      <td id=\"T_4f9d4_row0_col1\" class=\"data row0 col1\" >0.6601</td>\n",
       "    </tr>\n",
       "    <tr>\n",
       "      <td id=\"T_4f9d4_row1_col0\" class=\"data row1 col0\" >SW_IN</td>\n",
       "      <td id=\"T_4f9d4_row1_col1\" class=\"data row1 col1\" >0.0865</td>\n",
       "    </tr>\n",
       "    <tr>\n",
       "      <td id=\"T_4f9d4_row2_col0\" class=\"data row2 col0\" >LW_IN</td>\n",
       "      <td id=\"T_4f9d4_row2_col1\" class=\"data row2 col1\" >-0.0341</td>\n",
       "    </tr>\n",
       "    <tr>\n",
       "      <td id=\"T_4f9d4_row3_col0\" class=\"data row3 col0\" >VPD</td>\n",
       "      <td id=\"T_4f9d4_row3_col1\" class=\"data row3 col1\" >0.9569</td>\n",
       "    </tr>\n",
       "  </tbody>\n",
       "</table>\n",
       " </div><div> <p style='font-size: 1.3rem;'>RMSE</p> <style type=\"text/css\">\n",
       "</style>\n",
       "<table id=\"T_5910c\">\n",
       "  <thead>\n",
       "    <tr>\n",
       "      <th id=\"T_5910c_level0_col0\" class=\"col_heading level0 col0\" >variable</th>\n",
       "      <th id=\"T_5910c_level0_col1\" class=\"col_heading level0 col1\" >rmse</th>\n",
       "      <th id=\"T_5910c_level0_col2\" class=\"col_heading level0 col2\" >units</th>\n",
       "    </tr>\n",
       "  </thead>\n",
       "  <tbody>\n",
       "    <tr>\n",
       "      <td id=\"T_5910c_row0_col0\" class=\"data row0 col0\" >TA</td>\n",
       "      <td id=\"T_5910c_row0_col1\" class=\"data row0 col1\" >0.5224</td>\n",
       "      <td id=\"T_5910c_row0_col2\" class=\"data row0 col2\" >°C</td>\n",
       "    </tr>\n",
       "    <tr>\n",
       "      <td id=\"T_5910c_row1_col0\" class=\"data row1 col0\" >SW_IN</td>\n",
       "      <td id=\"T_5910c_row1_col1\" class=\"data row1 col1\" >46.1695</td>\n",
       "      <td id=\"T_5910c_row1_col2\" class=\"data row1 col2\" >W m-2</td>\n",
       "    </tr>\n",
       "    <tr>\n",
       "      <td id=\"T_5910c_row2_col0\" class=\"data row2 col0\" >LW_IN</td>\n",
       "      <td id=\"T_5910c_row2_col1\" class=\"data row2 col1\" >21.2045</td>\n",
       "      <td id=\"T_5910c_row2_col2\" class=\"data row2 col2\" >W m-2</td>\n",
       "    </tr>\n",
       "    <tr>\n",
       "      <td id=\"T_5910c_row3_col0\" class=\"data row3 col0\" >VPD</td>\n",
       "      <td id=\"T_5910c_row3_col1\" class=\"data row3 col1\" >0.0578</td>\n",
       "      <td id=\"T_5910c_row3_col2\" class=\"data row3 col2\" >hPa</td>\n",
       "    </tr>\n",
       "  </tbody>\n",
       "</table>\n",
       " </div></div>"
      ],
      "text/plain": [
       "<IPython.core.display.HTML object>"
      ]
     },
     "metadata": {},
     "output_type": "display_data"
    },
    {
     "data": {
      "text/html": [
       "<p style='font-size: 1.5rem; font-decoration: bold'>Model Info<p><div style=\"display: flex; column-gap: 20px; flex-wrap: wrap;\" class='table table-striped table-sm'> <div> <p style='font-size: 1.3rem;'>Lambda</p> <style type=\"text/css\">\n",
       "</style>\n",
       "<table id=\"T_86ed4\">\n",
       "  <thead>\n",
       "    <tr>\n",
       "      <th id=\"T_86ed4_level0_col0\" class=\"col_heading level0 col0\" >0</th>\n",
       "      <th id=\"T_86ed4_level0_col1\" class=\"col_heading level0 col1\" >z0</th>\n",
       "    </tr>\n",
       "  </thead>\n",
       "  <tbody>\n",
       "    <tr>\n",
       "      <td id=\"T_86ed4_row0_col0\" class=\"data row0 col0\" >TA</td>\n",
       "      <td id=\"T_86ed4_row0_col1\" class=\"data row0 col1\" >0.8015</td>\n",
       "    </tr>\n",
       "    <tr>\n",
       "      <td id=\"T_86ed4_row1_col0\" class=\"data row1 col0\" >SW_IN</td>\n",
       "      <td id=\"T_86ed4_row1_col1\" class=\"data row1 col1\" >0.4251</td>\n",
       "    </tr>\n",
       "    <tr>\n",
       "      <td id=\"T_86ed4_row2_col0\" class=\"data row2 col0\" >LW_IN</td>\n",
       "      <td id=\"T_86ed4_row2_col1\" class=\"data row2 col1\" >-0.1879</td>\n",
       "    </tr>\n",
       "    <tr>\n",
       "      <td id=\"T_86ed4_row3_col0\" class=\"data row3 col0\" >VPD</td>\n",
       "      <td id=\"T_86ed4_row3_col1\" class=\"data row3 col1\" >1.0596</td>\n",
       "    </tr>\n",
       "  </tbody>\n",
       "</table>\n",
       " </div><div> <p style='font-size: 1.3rem;'>lengthscale</p> <style type=\"text/css\">\n",
       "</style>\n",
       "<table id=\"T_d4e27\">\n",
       "  <thead>\n",
       "    <tr>\n",
       "      <th id=\"T_d4e27_level0_col0\" class=\"col_heading level0 col0\" >latent</th>\n",
       "      <th id=\"T_d4e27_level0_col1\" class=\"col_heading level0 col1\" >lengthscale</th>\n",
       "    </tr>\n",
       "  </thead>\n",
       "  <tbody>\n",
       "    <tr>\n",
       "      <td id=\"T_d4e27_row0_col0\" class=\"data row0 col0\" >z0</td>\n",
       "      <td id=\"T_d4e27_row0_col1\" class=\"data row0 col1\" >5.6057</td>\n",
       "    </tr>\n",
       "  </tbody>\n",
       "</table>\n",
       " </div><div> <p style='font-size: 1.3rem;'>psi</p> <style type=\"text/css\">\n",
       "</style>\n",
       "<table id=\"T_21d48\">\n",
       "  <thead>\n",
       "    <tr>\n",
       "      <th id=\"T_21d48_level0_col0\" class=\"col_heading level0 col0\" >variable</th>\n",
       "      <th id=\"T_21d48_level0_col1\" class=\"col_heading level0 col1\" >psi</th>\n",
       "    </tr>\n",
       "  </thead>\n",
       "  <tbody>\n",
       "    <tr>\n",
       "      <td id=\"T_21d48_row0_col0\" class=\"data row0 col0\" >TA</td>\n",
       "      <td id=\"T_21d48_row0_col1\" class=\"data row0 col1\" >0.4174</td>\n",
       "    </tr>\n",
       "    <tr>\n",
       "      <td id=\"T_21d48_row1_col0\" class=\"data row1 col0\" >SW_IN</td>\n",
       "      <td id=\"T_21d48_row1_col1\" class=\"data row1 col1\" >0.8049</td>\n",
       "    </tr>\n",
       "    <tr>\n",
       "      <td id=\"T_21d48_row2_col0\" class=\"data row2 col0\" >LW_IN</td>\n",
       "      <td id=\"T_21d48_row2_col1\" class=\"data row2 col1\" >0.9361</td>\n",
       "    </tr>\n",
       "    <tr>\n",
       "      <td id=\"T_21d48_row3_col0\" class=\"data row3 col0\" >VPD</td>\n",
       "      <td id=\"T_21d48_row3_col1\" class=\"data row3 col1\" >0.0103</td>\n",
       "    </tr>\n",
       "  </tbody>\n",
       "</table>\n",
       " </div><div> <p style='font-size: 1.3rem;'>likelihood</p> <style type=\"text/css\">\n",
       "</style>\n",
       "<table id=\"T_491c6\">\n",
       "  <thead>\n",
       "    <tr>\n",
       "      <th id=\"T_491c6_level0_col0\" class=\"col_heading level0 col0\" >noise</th>\n",
       "    </tr>\n",
       "  </thead>\n",
       "  <tbody>\n",
       "    <tr>\n",
       "      <td id=\"T_491c6_row0_col0\" class=\"data row0 col0\" >0.0224</td>\n",
       "    </tr>\n",
       "  </tbody>\n",
       "</table>\n",
       " </div></div>"
      ],
      "text/plain": [
       "<IPython.core.display.HTML object>"
      ]
     },
     "metadata": {},
     "output_type": "display_data"
    }
   ],
   "source": [
    "hai_r_gaps[0].display_results()"
   ]
  },
  {
   "cell_type": "code",
   "execution_count": null,
   "id": "133cf572-4a5a-44f2-8ba5-ce12ee24f985",
   "metadata": {},
   "outputs": [],
   "source": [
    "ai_r_gaps[0].plot_pred()"
   ]
  },
  {
   "cell_type": "code",
   "execution_count": null,
   "id": "9569365a-8010-4397-a0ed-f45b1e5cb7cd",
   "metadata": {},
   "outputs": [],
   "source": [
    "hai_r_gaps[1].display_results()"
   ]
  },
  {
   "cell_type": "code",
   "execution_count": null,
   "id": "9659322b-b78b-49c2-856d-fdb449bd3a4e",
   "metadata": {},
   "outputs": [],
   "source": [
    "hai_r_gaps[2].display_results()"
   ]
  },
  {
   "cell_type": "markdown",
   "id": "31c99dfc-b4cb-40be-bc74-d7857d5efbd2",
   "metadata": {},
   "source": [
    "## Continous gap"
   ]
  },
  {
   "cell_type": "code",
   "execution_count": null,
   "id": "7e10a4d7-6139-4f37-a328-b9dfbd3b68e0",
   "metadata": {},
   "outputs": [],
   "source": [
    "hai_c_gaps[0].display_results()"
   ]
  },
  {
   "cell_type": "code",
   "execution_count": null,
   "id": "b193111b-f86d-4659-a096-4268a66d91bd",
   "metadata": {},
   "outputs": [],
   "source": [
    "hai_c_gaps[1].display_results()"
   ]
  },
  {
   "cell_type": "code",
   "execution_count": null,
   "id": "585f6c0a-5a35-4e81-9897-89138ca6bc5a",
   "metadata": {},
   "outputs": [],
   "source": [
    "hai_c_gaps[2].display_results()"
   ]
  }
 ],
 "metadata": {
  "kernelspec": {
   "display_name": "data_science",
   "language": "python",
   "name": "data_science"
  },
  "widgets": {
   "application/vnd.jupyter.widget-state+json": {
    "state": {},
    "version_major": 2,
    "version_minor": 0
   }
  }
 },
 "nbformat": 4,
 "nbformat_minor": 5
}
