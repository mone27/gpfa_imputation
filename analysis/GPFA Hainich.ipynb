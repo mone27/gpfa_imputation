{
 "cells": [
  {
   "cell_type": "markdown",
   "id": "1e2a5a6a-4659-4586-aa43-c79e3d8c4b5a",
   "metadata": {},
   "source": [
    "# Single latent"
   ]
  },
  {
   "cell_type": "markdown",
   "id": "fa23cc25-769d-4842-b087-4f3a20191cd9",
   "metadata": {},
   "source": [
    "First analysis of the Hainich data using GPFA for filling the gaps"
   ]
  },
  {
   "cell_type": "code",
   "execution_count": null,
   "id": "47e20d70-598e-4b79-8373-3750733739d2",
   "metadata": {},
   "outputs": [],
   "source": [
    "%load_ext autoreload\n",
    "%autoreload 2"
   ]
  },
  {
   "cell_type": "code",
   "execution_count": null,
   "id": "f59fb7aa-02f7-4250-b6ff-f9e421b2bbc7",
   "metadata": {},
   "outputs": [],
   "source": [
    "from meteo_imp.gpfa.imputation import *\n",
    "from meteo_imp.data_preparation import *\n",
    "\n",
    "import torch\n",
    "import pandas as pd\n",
    "import numpy as np\n",
    "from pathlib import Path\n",
    "from pyprojroot import here\n",
    "import matplotlib.pyplot as plt"
   ]
  },
  {
   "cell_type": "code",
   "execution_count": null,
   "id": "1071598e",
   "metadata": {},
   "outputs": [],
   "source": [
    "torch.manual_seed(27);\n",
    "np.random.seed(27);"
   ]
  },
  {
   "cell_type": "markdown",
   "id": "7b6c848c-ff46-4949-bbb5-f5522cb34b83",
   "metadata": {},
   "source": [
    "## Load Data\n",
    "\n",
    "take the first 200 rows from the Hainich dataset"
   ]
  },
  {
   "cell_type": "code",
   "execution_count": null,
   "id": "8ae7e173-38d1-4e1c-b3f9-1b6786fe9120",
   "metadata": {},
   "outputs": [],
   "source": [
    "hai_path = Path(\"FLX_DE-Hai_FLUXNET2015_FULLSET_HH_2000-2012_1-4.csv\")\n",
    "hai_raw = pd.read_csv(here(\"data\") / hai_path, na_values=[\"-9999\", \"-9999.99\"], parse_dates=[0, 1], nrows=200)"
   ]
  },
  {
   "cell_type": "code",
   "execution_count": null,
   "id": "d440bfbb-8e06-4d7b-918f-62914485bad5",
   "metadata": {},
   "outputs": [
    {
     "data": {
      "text/html": [
       "<div>\n",
       "<style scoped>\n",
       "    .dataframe tbody tr th:only-of-type {\n",
       "        vertical-align: middle;\n",
       "    }\n",
       "\n",
       "    .dataframe tbody tr th {\n",
       "        vertical-align: top;\n",
       "    }\n",
       "\n",
       "    .dataframe thead th {\n",
       "        text-align: right;\n",
       "    }\n",
       "</style>\n",
       "<table border=\"1\" class=\"dataframe\">\n",
       "  <thead>\n",
       "    <tr style=\"text-align: right;\">\n",
       "      <th></th>\n",
       "      <th>TA</th>\n",
       "      <th>SW_IN</th>\n",
       "      <th>LW_IN</th>\n",
       "      <th>VPD</th>\n",
       "    </tr>\n",
       "    <tr>\n",
       "      <th>TIMESTAMP_END</th>\n",
       "      <th></th>\n",
       "      <th></th>\n",
       "      <th></th>\n",
       "      <th></th>\n",
       "    </tr>\n",
       "  </thead>\n",
       "  <tbody>\n",
       "    <tr>\n",
       "      <th>2000-01-01 00:30:00</th>\n",
       "      <td>-0.60</td>\n",
       "      <td>0.0</td>\n",
       "      <td>302.475</td>\n",
       "      <td>0.222</td>\n",
       "    </tr>\n",
       "    <tr>\n",
       "      <th>2000-01-01 01:00:00</th>\n",
       "      <td>-0.65</td>\n",
       "      <td>0.0</td>\n",
       "      <td>302.475</td>\n",
       "      <td>0.122</td>\n",
       "    </tr>\n",
       "    <tr>\n",
       "      <th>2000-01-01 01:30:00</th>\n",
       "      <td>-0.58</td>\n",
       "      <td>0.0</td>\n",
       "      <td>301.677</td>\n",
       "      <td>0.090</td>\n",
       "    </tr>\n",
       "    <tr>\n",
       "      <th>2000-01-01 02:00:00</th>\n",
       "      <td>-0.51</td>\n",
       "      <td>0.0</td>\n",
       "      <td>301.677</td>\n",
       "      <td>0.110</td>\n",
       "    </tr>\n",
       "    <tr>\n",
       "      <th>2000-01-01 02:30:00</th>\n",
       "      <td>-0.49</td>\n",
       "      <td>0.0</td>\n",
       "      <td>301.677</td>\n",
       "      <td>0.102</td>\n",
       "    </tr>\n",
       "    <tr>\n",
       "      <th>...</th>\n",
       "      <td>...</td>\n",
       "      <td>...</td>\n",
       "      <td>...</td>\n",
       "      <td>...</td>\n",
       "    </tr>\n",
       "    <tr>\n",
       "      <th>2000-01-05 02:00:00</th>\n",
       "      <td>4.74</td>\n",
       "      <td>0.0</td>\n",
       "      <td>330.202</td>\n",
       "      <td>1.191</td>\n",
       "    </tr>\n",
       "    <tr>\n",
       "      <th>2000-01-05 02:30:00</th>\n",
       "      <td>4.75</td>\n",
       "      <td>0.0</td>\n",
       "      <td>330.202</td>\n",
       "      <td>1.057</td>\n",
       "    </tr>\n",
       "    <tr>\n",
       "      <th>2000-01-05 03:00:00</th>\n",
       "      <td>4.76</td>\n",
       "      <td>0.0</td>\n",
       "      <td>330.202</td>\n",
       "      <td>0.935</td>\n",
       "    </tr>\n",
       "    <tr>\n",
       "      <th>2000-01-05 03:30:00</th>\n",
       "      <td>4.62</td>\n",
       "      <td>0.0</td>\n",
       "      <td>330.202</td>\n",
       "      <td>1.162</td>\n",
       "    </tr>\n",
       "    <tr>\n",
       "      <th>2000-01-05 04:00:00</th>\n",
       "      <td>4.51</td>\n",
       "      <td>0.0</td>\n",
       "      <td>330.202</td>\n",
       "      <td>1.636</td>\n",
       "    </tr>\n",
       "  </tbody>\n",
       "</table>\n",
       "<p>200 rows × 4 columns</p>\n",
       "</div>"
      ],
      "text/plain": [
       "                       TA  SW_IN    LW_IN    VPD\n",
       "TIMESTAMP_END                                   \n",
       "2000-01-01 00:30:00 -0.60    0.0  302.475  0.222\n",
       "2000-01-01 01:00:00 -0.65    0.0  302.475  0.122\n",
       "2000-01-01 01:30:00 -0.58    0.0  301.677  0.090\n",
       "2000-01-01 02:00:00 -0.51    0.0  301.677  0.110\n",
       "2000-01-01 02:30:00 -0.49    0.0  301.677  0.102\n",
       "...                   ...    ...      ...    ...\n",
       "2000-01-05 02:00:00  4.74    0.0  330.202  1.191\n",
       "2000-01-05 02:30:00  4.75    0.0  330.202  1.057\n",
       "2000-01-05 03:00:00  4.76    0.0  330.202  0.935\n",
       "2000-01-05 03:30:00  4.62    0.0  330.202  1.162\n",
       "2000-01-05 04:00:00  4.51    0.0  330.202  1.636\n",
       "\n",
       "[200 rows x 4 columns]"
      ]
     },
     "execution_count": null,
     "metadata": {},
     "output_type": "execute_result"
    }
   ],
   "source": [
    "meteo_vars = {\n",
    "    \"TA_F\": \"TA\",\n",
    "    \"SW_IN_F\": \"SW_IN\",\n",
    "    \"LW_IN_F\": \"LW_IN\",\n",
    "    \"VPD_F\": \"VPD\",\n",
    "    #\"PA\": \"PA\"\n",
    "}\n",
    "\n",
    "units = {\n",
    "    'TA': '°C',\n",
    "    'SW_IN': 'W m-2',\n",
    "    'LW_IN': 'W m-2',\n",
    "    'VPD': 'hPa'\n",
    "}\n",
    "\n",
    "hai = (hai_raw\n",
    "       .rename(columns=meteo_vars)\n",
    "       .set_index(\"TIMESTAMP_END\")\n",
    "       .loc[:, meteo_vars.values()])\n",
    "hai"
   ]
  },
  {
   "cell_type": "markdown",
   "id": "f1ed173f-27ff-4640-86df-1681667d8af1",
   "metadata": {},
   "source": [
    "## Random Gaps"
   ]
  },
  {
   "cell_type": "code",
   "execution_count": null,
   "id": "bb9e3e4d-e7e3-49cc-a9cc-2014a372c8b1",
   "metadata": {},
   "outputs": [],
   "source": [
    "gpfa_data = GPFADataTest(hai).add_random_missing()"
   ]
  },
  {
   "cell_type": "code",
   "execution_count": null,
   "id": "b856c7bc-d016-4f72-bcc2-ff387c7b184c",
   "metadata": {},
   "outputs": [
    {
     "ename": "TypeError",
     "evalue": "rand(): argument 'size' must be tuple of ints, but found element of type DataFrame at pos 2",
     "output_type": "error",
     "traceback": [
      "\u001b[0;31m---------------------------------------------------------------------------\u001b[0m",
      "\u001b[0;31mTypeError\u001b[0m                                 Traceback (most recent call last)",
      "Input \u001b[0;32mIn [9]\u001b[0m, in \u001b[0;36m<cell line: 1>\u001b[0;34m()\u001b[0m\n\u001b[0;32m----> 1\u001b[0m gpfa_hai \u001b[38;5;241m=\u001b[39m \u001b[43mGPFAImputation\u001b[49m\u001b[43m(\u001b[49m\u001b[43mgpfa_data\u001b[49m\u001b[38;5;241;43m.\u001b[39;49m\u001b[43mdata\u001b[49m\u001b[43m,\u001b[49m\u001b[43m \u001b[49m\u001b[43mgpfa_data\u001b[49m\u001b[38;5;241;43m.\u001b[39;49m\u001b[43mtidy_df\u001b[49m\u001b[43m(\u001b[49m\u001b[43mcomplete\u001b[49m\u001b[38;5;241;43m=\u001b[39;49m\u001b[38;5;28;43;01mTrue\u001b[39;49;00m\u001b[43m,\u001b[49m\u001b[43m \u001b[49m\u001b[43mis_missing\u001b[49m\u001b[38;5;241;43m=\u001b[39;49m\u001b[38;5;28;43;01mTrue\u001b[39;49;00m\u001b[43m)\u001b[49m\u001b[43m)\u001b[49m\n",
      "File \u001b[0;32m~/Documents/uni/Thesis/GPFA_imputation/gpfa_imputation/imputation.py:52\u001b[0m, in \u001b[0;36mGPFAImputation.__init__\u001b[0;34m(self, data, latent_dims, cuda, units)\u001b[0m\n\u001b[1;32m     49\u001b[0m \u001b[38;5;28mself\u001b[39m\u001b[38;5;241m.\u001b[39mtrain_data \u001b[38;5;241m=\u001b[39m torch\u001b[38;5;241m.\u001b[39mtensor(\u001b[38;5;28mself\u001b[39m\u001b[38;5;241m.\u001b[39mdata[\u001b[38;5;28mself\u001b[39m\u001b[38;5;241m.\u001b[39mtrain_idx]\u001b[38;5;241m.\u001b[39mto_numpy()\u001b[38;5;241m.\u001b[39mastype(np\u001b[38;5;241m.\u001b[39mfloat32), device\u001b[38;5;241m=\u001b[39mdevice)\n\u001b[1;32m     50\u001b[0m \u001b[38;5;28mself\u001b[39m\u001b[38;5;241m.\u001b[39mtrain_T \u001b[38;5;241m=\u001b[39m \u001b[38;5;28mself\u001b[39m\u001b[38;5;241m.\u001b[39mT[\u001b[38;5;28mself\u001b[39m\u001b[38;5;241m.\u001b[39mtrain_idx]\n\u001b[0;32m---> 52\u001b[0m \u001b[38;5;28mself\u001b[39m\u001b[38;5;241m.\u001b[39mlearner \u001b[38;5;241m=\u001b[39m \u001b[43mGPFALearner\u001b[49m\u001b[43m(\u001b[49m\u001b[43mX\u001b[49m\u001b[43m \u001b[49m\u001b[38;5;241;43m=\u001b[39;49m\u001b[43m \u001b[49m\u001b[38;5;28;43mself\u001b[39;49m\u001b[38;5;241;43m.\u001b[39;49m\u001b[43mtrain_data\u001b[49m\u001b[43m,\u001b[49m\u001b[43m \u001b[49m\u001b[43mT\u001b[49m\u001b[43m \u001b[49m\u001b[38;5;241;43m=\u001b[39;49m\u001b[43m \u001b[49m\u001b[38;5;28;43mself\u001b[39;49m\u001b[38;5;241;43m.\u001b[39;49m\u001b[43mtrain_T\u001b[49m\u001b[43m,\u001b[49m\u001b[43m \u001b[49m\u001b[43mlatent_dims\u001b[49m\u001b[38;5;241;43m=\u001b[39;49m\u001b[43mlatent_dims\u001b[49m\u001b[43m)\u001b[49m\n\u001b[1;32m     55\u001b[0m \u001b[38;5;66;03m# Prediction data\u001b[39;00m\n\u001b[1;32m     56\u001b[0m \u001b[38;5;28mself\u001b[39m\u001b[38;5;241m.\u001b[39mpred_T \u001b[38;5;241m=\u001b[39m \u001b[38;5;28mself\u001b[39m\u001b[38;5;241m.\u001b[39mT[\u001b[38;5;241m~\u001b[39m\u001b[38;5;28mself\u001b[39m\u001b[38;5;241m.\u001b[39mtrain_idx]\n",
      "File \u001b[0;32m~/Documents/uni/Thesis/GPFA_imputation/gpfa_imputation/learner.py:40\u001b[0m, in \u001b[0;36mGPFALearner.__init__\u001b[0;34m(self, X, T, latent_dims)\u001b[0m\n\u001b[1;32m     38\u001b[0m \u001b[38;5;28mself\u001b[39m\u001b[38;5;241m.\u001b[39mlikelihood \u001b[38;5;241m=\u001b[39m gpytorch\u001b[38;5;241m.\u001b[39mlikelihoods\u001b[38;5;241m.\u001b[39mGaussianLikelihood()\n\u001b[1;32m     39\u001b[0m latent_kernel \u001b[38;5;241m=\u001b[39m gpytorch\u001b[38;5;241m.\u001b[39mkernels\u001b[38;5;241m.\u001b[39mRBFKernel\n\u001b[0;32m---> 40\u001b[0m \u001b[38;5;28mself\u001b[39m\u001b[38;5;241m.\u001b[39mmodel \u001b[38;5;241m=\u001b[39m \u001b[43mGPFA\u001b[49m\u001b[43m(\u001b[49m\u001b[38;5;28;43mself\u001b[39;49m\u001b[38;5;241;43m.\u001b[39;49m\u001b[43mT\u001b[49m\u001b[43m,\u001b[49m\u001b[43m \u001b[49m\u001b[38;5;28;43mself\u001b[39;49m\u001b[38;5;241;43m.\u001b[39;49m\u001b[43mX\u001b[49m\u001b[43m,\u001b[49m\u001b[43m \u001b[49m\u001b[38;5;28;43mself\u001b[39;49m\u001b[38;5;241;43m.\u001b[39;49m\u001b[43mlikelihood\u001b[49m\u001b[43m,\u001b[49m\u001b[43m \u001b[49m\u001b[38;5;28;43mself\u001b[39;49m\u001b[38;5;241;43m.\u001b[39;49m\u001b[43mn_features\u001b[49m\u001b[43m,\u001b[49m\u001b[43m \u001b[49m\u001b[43mlatent_kernel\u001b[49m\u001b[43m,\u001b[49m\u001b[43m \u001b[49m\u001b[43mlatent_dims\u001b[49m\u001b[38;5;241;43m=\u001b[39;49m\u001b[43mlatent_dims\u001b[49m\u001b[43m)\u001b[49m\n",
      "File \u001b[0;32m~/Documents/uni/Thesis/GPFA_imputation/gpfa_imputation/gpfa.py:111\u001b[0m, in \u001b[0;36mGPFA.__init__\u001b[0;34m(self, train_x, train_y, likelihood, n_features, latent_kernel, latent_dims)\u001b[0m\n\u001b[1;32m    109\u001b[0m \u001b[38;5;28msuper\u001b[39m(GPFA, \u001b[38;5;28mself\u001b[39m)\u001b[38;5;241m.\u001b[39m\u001b[38;5;21m__init__\u001b[39m(train_x, train_y, likelihood)\n\u001b[1;32m    110\u001b[0m \u001b[38;5;28mself\u001b[39m\u001b[38;5;241m.\u001b[39mmean_module \u001b[38;5;241m=\u001b[39m GPFAZeroMean(n_features, train_x\u001b[38;5;241m.\u001b[39mdevice) \u001b[38;5;66;03m# gets device from train_x\u001b[39;00m\n\u001b[0;32m--> 111\u001b[0m \u001b[38;5;28mself\u001b[39m\u001b[38;5;241m.\u001b[39mcovar_module \u001b[38;5;241m=\u001b[39m \u001b[43mGPFAKernel\u001b[49m\u001b[43m(\u001b[49m\u001b[43mn_features\u001b[49m\u001b[43m,\u001b[49m\u001b[43m \u001b[49m\u001b[43mlatent_kernel\u001b[49m\u001b[43m,\u001b[49m\u001b[43m \u001b[49m\u001b[43mlatent_dims\u001b[49m\u001b[43m \u001b[49m\u001b[38;5;241;43m=\u001b[39;49m\u001b[43m \u001b[49m\u001b[43mlatent_dims\u001b[49m\u001b[43m)\u001b[49m\n",
      "File \u001b[0;32m~/Documents/uni/Thesis/GPFA_imputation/gpfa_imputation/gpfa.py:32\u001b[0m, in \u001b[0;36mGPFAKernel.__init__\u001b[0;34m(self, n_features, latent_kernel, latent_dims, Lambda, psi, **kwargs)\u001b[0m\n\u001b[1;32m     27\u001b[0m \u001b[38;5;28mself\u001b[39m\u001b[38;5;241m.\u001b[39mlatent_dims \u001b[38;5;241m=\u001b[39m latent_dims\n\u001b[1;32m     29\u001b[0m \u001b[38;5;66;03m# see GPyTorch Kernels\u001b[39;00m\n\u001b[1;32m     30\u001b[0m \u001b[38;5;28mself\u001b[39m\u001b[38;5;241m.\u001b[39mregister_parameter(\n\u001b[1;32m     31\u001b[0m     name \u001b[38;5;241m=\u001b[39m \u001b[38;5;124m\"\u001b[39m\u001b[38;5;124mLambda\u001b[39m\u001b[38;5;124m\"\u001b[39m,\n\u001b[0;32m---> 32\u001b[0m     parameter \u001b[38;5;241m=\u001b[39m torch\u001b[38;5;241m.\u001b[39mnn\u001b[38;5;241m.\u001b[39mParameter(\u001b[43mtorch\u001b[49m\u001b[38;5;241;43m.\u001b[39;49m\u001b[43mrand\u001b[49m\u001b[43m(\u001b[49m\u001b[38;5;28;43mself\u001b[39;49m\u001b[38;5;241;43m.\u001b[39;49m\u001b[43mn_features\u001b[49m\u001b[43m,\u001b[49m\u001b[43m \u001b[49m\u001b[38;5;28;43mself\u001b[39;49m\u001b[38;5;241;43m.\u001b[39;49m\u001b[43mlatent_dims\u001b[49m\u001b[43m)\u001b[49m))\n\u001b[1;32m     34\u001b[0m \u001b[38;5;66;03m# each dim has it's own latent kernel\u001b[39;00m\n\u001b[1;32m     35\u001b[0m \u001b[38;5;28mself\u001b[39m\u001b[38;5;241m.\u001b[39mlatent_kernels \u001b[38;5;241m=\u001b[39m torch\u001b[38;5;241m.\u001b[39mnn\u001b[38;5;241m.\u001b[39mModuleList([latent_kernel() \u001b[38;5;28;01mfor\u001b[39;00m _ \u001b[38;5;129;01min\u001b[39;00m \u001b[38;5;28mrange\u001b[39m(\u001b[38;5;28mself\u001b[39m\u001b[38;5;241m.\u001b[39mlatent_dims)])\n",
      "\u001b[0;31mTypeError\u001b[0m: rand(): argument 'size' must be tuple of ints, but found element of type DataFrame at pos 2"
     ]
    }
   ],
   "source": [
    "gpfa_hai = GPFAImputation(gpfa_data.data, gpfa_data.tidy_df(complete=True, is_missing=True))"
   ]
  },
  {
   "cell_type": "code",
   "execution_count": null,
   "id": "b29cc23d-5067-4b11-9228-cf74d5f7d30b",
   "metadata": {},
   "outputs": [],
   "source": [
    "gpfa_hai"
   ]
  },
  {
   "cell_type": "code",
   "execution_count": null,
   "id": "20adcefe-b023-4a84-b584-4dbca433a2ef",
   "metadata": {},
   "outputs": [
    {
     "data": {
      "application/vnd.jupyter.widget-view+json": {
       "model_id": "9ac74a498ebf46df8054999f7810b7d8",
       "version_major": 2,
       "version_minor": 0
      },
      "text/plain": [
       "  0%|          | 0/100 [00:00<?, ?it/s]"
      ]
     },
     "metadata": {},
     "output_type": "display_data"
    },
    {
     "name": "stderr",
     "output_type": "stream",
     "text": [
      "/home/simone/anaconda3/envs/data-science/lib/python3.10/site-packages/gpytorch/lazy/triangular_lazy_tensor.py:136: UserWarning: torch.triangular_solve is deprecated in favor of torch.linalg.solve_triangularand will be removed in a future PyTorch release.\n",
      "torch.linalg.solve_triangular has its arguments reversed and does not return a copy of one of the inputs.\n",
      "X = torch.triangular_solve(B, A).solution\n",
      "should be replaced with\n",
      "X = torch.linalg.solve_triangular(A, B). (Triggered internally at  ../aten/src/ATen/native/BatchLinearAlgebra.cpp:2183.)\n",
      "  res = torch.triangular_solve(right_tensor, self.evaluate(), upper=self.upper).solution\n",
      "/home/simone/anaconda3/envs/data-science/lib/python3.10/site-packages/torch/autograd/__init__.py:173: UserWarning: operator() profile_node %840 : int[] = prim::profile_ivalue(%838)\n",
      " does not have profile information (Triggered internally at  ../torch/csrc/jit/codegen/cuda/graph_fuser.cpp:104.)\n",
      "  Variable._execution_engine.run_backward(  # Calls into the C++ engine to run the backward pass\n"
     ]
    },
    {
     "name": "stdout",
     "output_type": "stream",
     "text": [
      "CPU times: user 5min 57s, sys: 485 ms, total: 5min 57s\n",
      "Wall time: 5min 59s\n"
     ]
    }
   ],
   "source": [
    "%time imputed = gpfa_hai.impute()"
   ]
  },
  {
   "cell_type": "code",
   "execution_count": null,
   "id": "0d2843b6-ce31-4359-bb46-047060e4da6b",
   "metadata": {},
   "outputs": [
    {
     "data": {
      "text/html": [
       "<div>\n",
       "<style scoped>\n",
       "    .dataframe tbody tr th:only-of-type {\n",
       "        vertical-align: middle;\n",
       "    }\n",
       "\n",
       "    .dataframe tbody tr th {\n",
       "        vertical-align: top;\n",
       "    }\n",
       "\n",
       "    .dataframe thead th {\n",
       "        text-align: right;\n",
       "    }\n",
       "</style>\n",
       "<table border=\"1\" class=\"dataframe\">\n",
       "  <thead>\n",
       "    <tr style=\"text-align: right;\">\n",
       "      <th></th>\n",
       "      <th>time</th>\n",
       "      <th>variable</th>\n",
       "      <th>mean</th>\n",
       "      <th>std</th>\n",
       "    </tr>\n",
       "  </thead>\n",
       "  <tbody>\n",
       "    <tr>\n",
       "      <th>0</th>\n",
       "      <td>0.0</td>\n",
       "      <td>TA</td>\n",
       "      <td>-0.600000</td>\n",
       "      <td>NaN</td>\n",
       "    </tr>\n",
       "    <tr>\n",
       "      <th>1</th>\n",
       "      <td>2.0</td>\n",
       "      <td>TA</td>\n",
       "      <td>-0.580000</td>\n",
       "      <td>NaN</td>\n",
       "    </tr>\n",
       "    <tr>\n",
       "      <th>2</th>\n",
       "      <td>3.0</td>\n",
       "      <td>TA</td>\n",
       "      <td>-0.510000</td>\n",
       "      <td>NaN</td>\n",
       "    </tr>\n",
       "    <tr>\n",
       "      <th>3</th>\n",
       "      <td>4.0</td>\n",
       "      <td>TA</td>\n",
       "      <td>-0.490000</td>\n",
       "      <td>NaN</td>\n",
       "    </tr>\n",
       "    <tr>\n",
       "      <th>4</th>\n",
       "      <td>11.0</td>\n",
       "      <td>TA</td>\n",
       "      <td>-0.230000</td>\n",
       "      <td>NaN</td>\n",
       "    </tr>\n",
       "    <tr>\n",
       "      <th>...</th>\n",
       "      <td>...</td>\n",
       "      <td>...</td>\n",
       "      <td>...</td>\n",
       "      <td>...</td>\n",
       "    </tr>\n",
       "    <tr>\n",
       "      <th>403</th>\n",
       "      <td>189.0</td>\n",
       "      <td>VPD</td>\n",
       "      <td>0.826632</td>\n",
       "      <td>0.252326</td>\n",
       "    </tr>\n",
       "    <tr>\n",
       "      <th>404</th>\n",
       "      <td>190.0</td>\n",
       "      <td>VPD</td>\n",
       "      <td>0.827371</td>\n",
       "      <td>0.252322</td>\n",
       "    </tr>\n",
       "    <tr>\n",
       "      <th>405</th>\n",
       "      <td>192.0</td>\n",
       "      <td>VPD</td>\n",
       "      <td>1.213000</td>\n",
       "      <td>0.000000</td>\n",
       "    </tr>\n",
       "    <tr>\n",
       "      <th>406</th>\n",
       "      <td>193.0</td>\n",
       "      <td>VPD</td>\n",
       "      <td>0.826446</td>\n",
       "      <td>0.252319</td>\n",
       "    </tr>\n",
       "    <tr>\n",
       "      <th>407</th>\n",
       "      <td>197.0</td>\n",
       "      <td>VPD</td>\n",
       "      <td>0.820434</td>\n",
       "      <td>0.252332</td>\n",
       "    </tr>\n",
       "  </tbody>\n",
       "</table>\n",
       "<p>800 rows × 4 columns</p>\n",
       "</div>"
      ],
      "text/plain": [
       "      time variable      mean       std\n",
       "0      0.0       TA -0.600000       NaN\n",
       "1      2.0       TA -0.580000       NaN\n",
       "2      3.0       TA -0.510000       NaN\n",
       "3      4.0       TA -0.490000       NaN\n",
       "4     11.0       TA -0.230000       NaN\n",
       "..     ...      ...       ...       ...\n",
       "403  189.0      VPD  0.826632  0.252326\n",
       "404  190.0      VPD  0.827371  0.252322\n",
       "405  192.0      VPD  1.213000  0.000000\n",
       "406  193.0      VPD  0.826446  0.252319\n",
       "407  197.0      VPD  0.820434  0.252332\n",
       "\n",
       "[800 rows x 4 columns]"
      ]
     },
     "execution_count": null,
     "metadata": {},
     "output_type": "execute_result"
    }
   ],
   "source": [
    "imputed"
   ]
  },
  {
   "cell_type": "code",
   "execution_count": null,
   "id": "7770ddfc-be1c-4018-a9a6-1f285554e8f4",
   "metadata": {},
   "outputs": [
    {
     "name": "stderr",
     "output_type": "stream",
     "text": [
      "/home/simone/.local/lib/python3.10/site-packages/altair/utils/core.py:317: FutureWarning: iteritems is deprecated and will be removed in a future version. Use .items instead.\n",
      "  for col_name, dtype in df.dtypes.iteritems():\n"
     ]
    },
    {
     "data": {
      "text/html": [
       "\n",
       "<div id=\"altair-viz-749752a0290e4373be95d6b47812a3ee\"></div>\n",
       "<script type=\"text/javascript\">\n",
       "  var VEGA_DEBUG = (typeof VEGA_DEBUG == \"undefined\") ? {} : VEGA_DEBUG;\n",
       "  (function(spec, embedOpt){\n",
       "    let outputDiv = document.currentScript.previousElementSibling;\n",
       "    if (outputDiv.id !== \"altair-viz-749752a0290e4373be95d6b47812a3ee\") {\n",
       "      outputDiv = document.getElementById(\"altair-viz-749752a0290e4373be95d6b47812a3ee\");\n",
       "    }\n",
       "    const paths = {\n",
       "      \"vega\": \"https://cdn.jsdelivr.net/npm//vega@5?noext\",\n",
       "      \"vega-lib\": \"https://cdn.jsdelivr.net/npm//vega-lib?noext\",\n",
       "      \"vega-lite\": \"https://cdn.jsdelivr.net/npm//vega-lite@4.17.0?noext\",\n",
       "      \"vega-embed\": \"https://cdn.jsdelivr.net/npm//vega-embed@6?noext\",\n",
       "    };\n",
       "\n",
       "    function maybeLoadScript(lib, version) {\n",
       "      var key = `${lib.replace(\"-\", \"\")}_version`;\n",
       "      return (VEGA_DEBUG[key] == version) ?\n",
       "        Promise.resolve(paths[lib]) :\n",
       "        new Promise(function(resolve, reject) {\n",
       "          var s = document.createElement('script');\n",
       "          document.getElementsByTagName(\"head\")[0].appendChild(s);\n",
       "          s.async = true;\n",
       "          s.onload = () => {\n",
       "            VEGA_DEBUG[key] = version;\n",
       "            return resolve(paths[lib]);\n",
       "          };\n",
       "          s.onerror = () => reject(`Error loading script: ${paths[lib]}`);\n",
       "          s.src = paths[lib];\n",
       "        });\n",
       "    }\n",
       "\n",
       "    function showError(err) {\n",
       "      outputDiv.innerHTML = `<div class=\"error\" style=\"color:red;\">${err}</div>`;\n",
       "      throw err;\n",
       "    }\n",
       "\n",
       "    function displayChart(vegaEmbed) {\n",
       "      vegaEmbed(outputDiv, spec, embedOpt)\n",
       "        .catch(err => showError(`Javascript Error: ${err.message}<br>This usually means there's a typo in your chart specification. See the javascript console for the full traceback.`));\n",
       "    }\n",
       "\n",
       "    if(typeof define === \"function\" && define.amd) {\n",
       "      requirejs.config({paths});\n",
       "      require([\"vega-embed\"], displayChart, err => showError(`Error loading script: ${err.message}`));\n",
       "    } else {\n",
       "      maybeLoadScript(\"vega\", \"5\")\n",
       "        .then(() => maybeLoadScript(\"vega-lite\", \"4.17.0\"))\n",
       "        .then(() => maybeLoadScript(\"vega-embed\", \"6\"))\n",
       "        .catch(showError)\n",
       "        .then(() => displayChart(vegaEmbed));\n",
       "    }\n",
       "  })({\"config\": {\"view\": {\"continuousWidth\": 400, \"continuousHeight\": 300}}, \"vconcat\": [{\"hconcat\": [{\"layer\": [{\"data\": {\"name\": \"data-846d82b44bbd742bda1667e7e7e5a47e\"}, \"mark\": {\"type\": \"point\", \"color\": \"black\", \"fillOpacity\": 1, \"strokeWidth\": 1}, \"encoding\": {\"fill\": {\"field\": \"is_missing\", \"legend\": {\"title\": [\"Observed data\", \"(is missing)\"]}, \"scale\": {\"range\": [\"#ffffff00\", \"black\"]}, \"type\": \"nominal\"}, \"shape\": {\"field\": \"is_missing\", \"type\": \"nominal\"}, \"x\": {\"field\": \"time\", \"type\": \"quantitative\"}, \"y\": {\"field\": \"value\", \"scale\": {\"zero\": false}, \"title\": \"TA [\\u00b0C]\", \"type\": \"quantitative\"}}}, {\"layer\": [{\"mark\": \"errorband\", \"encoding\": {\"color\": {\"field\": \"variable\", \"legend\": {\"title\": [\"Line: pred. mean\", \"area: +/- 2 std\", \"(variable)\"]}, \"type\": \"nominal\"}, \"tooltip\": [{\"field\": \"std\", \"format\": \".4\", \"type\": \"quantitative\"}, {\"field\": \"mean\", \"format\": \".4\", \"type\": \"quantitative\"}], \"x\": {\"field\": \"time\", \"type\": \"quantitative\"}, \"y\": {\"field\": \"err_low\", \"scale\": {\"zero\": false}, \"title\": \"TA [\\u00b0C]\", \"type\": \"quantitative\"}, \"y2\": {\"field\": \"err_high\"}}, \"height\": 190, \"transform\": [{\"calculate\": \"datum.mean - 2 * datum.std\", \"as\": \"err_low\"}, {\"calculate\": \"datum.mean + 2 * datum.std\", \"as\": \"err_high\"}], \"width\": 380}, {\"mark\": \"line\", \"encoding\": {\"color\": {\"field\": \"variable\", \"type\": \"nominal\"}, \"x\": {\"field\": \"time\", \"type\": \"quantitative\"}, \"y\": {\"field\": \"mean\", \"scale\": {\"zero\": false}, \"title\": \"TA [\\u00b0C]\", \"type\": \"quantitative\"}}, \"selection\": {\"selector001\": {\"type\": \"interval\", \"bind\": \"scales\", \"encodings\": [\"x\"]}}, \"title\": \"TA\"}], \"data\": {\"name\": \"data-d5d237daec6bf01b05ad30612385ed2d\"}}]}, {\"layer\": [{\"data\": {\"name\": \"data-a7d5702c85911f3dd2a3058a7f03a75f\"}, \"mark\": {\"type\": \"point\", \"color\": \"black\", \"fillOpacity\": 1, \"strokeWidth\": 1}, \"encoding\": {\"fill\": {\"field\": \"is_missing\", \"legend\": {\"title\": [\"Observed data\", \"(is missing)\"]}, \"scale\": {\"range\": [\"#ffffff00\", \"black\"]}, \"type\": \"nominal\"}, \"shape\": {\"field\": \"is_missing\", \"type\": \"nominal\"}, \"x\": {\"field\": \"time\", \"type\": \"quantitative\"}, \"y\": {\"field\": \"value\", \"scale\": {\"zero\": false}, \"title\": \"SW_IN [W m-2]\", \"type\": \"quantitative\"}}}, {\"layer\": [{\"mark\": \"errorband\", \"encoding\": {\"color\": {\"field\": \"variable\", \"legend\": {\"title\": [\"Line: pred. mean\", \"area: +/- 2 std\", \"(variable)\"]}, \"type\": \"nominal\"}, \"tooltip\": [{\"field\": \"std\", \"format\": \".4\", \"type\": \"quantitative\"}, {\"field\": \"mean\", \"format\": \".4\", \"type\": \"quantitative\"}], \"x\": {\"field\": \"time\", \"type\": \"quantitative\"}, \"y\": {\"field\": \"err_low\", \"scale\": {\"zero\": false}, \"title\": \"SW_IN [W m-2]\", \"type\": \"quantitative\"}, \"y2\": {\"field\": \"err_high\"}}, \"height\": 190, \"transform\": [{\"calculate\": \"datum.mean - 2 * datum.std\", \"as\": \"err_low\"}, {\"calculate\": \"datum.mean + 2 * datum.std\", \"as\": \"err_high\"}], \"width\": 380}, {\"mark\": \"line\", \"encoding\": {\"color\": {\"field\": \"variable\", \"type\": \"nominal\"}, \"x\": {\"field\": \"time\", \"type\": \"quantitative\"}, \"y\": {\"field\": \"mean\", \"scale\": {\"zero\": false}, \"title\": \"SW_IN [W m-2]\", \"type\": \"quantitative\"}}, \"selection\": {\"selector001\": {\"type\": \"interval\", \"bind\": \"scales\", \"encodings\": [\"x\"]}}, \"title\": \"SW_IN\"}], \"data\": {\"name\": \"data-01767868e0fafd0a5a10c45864a5c566\"}}]}]}, {\"hconcat\": [{\"layer\": [{\"data\": {\"name\": \"data-7f7830a0c96b8c4fb62f33111a13b26b\"}, \"mark\": {\"type\": \"point\", \"color\": \"black\", \"fillOpacity\": 1, \"strokeWidth\": 1}, \"encoding\": {\"fill\": {\"field\": \"is_missing\", \"legend\": {\"title\": [\"Observed data\", \"(is missing)\"]}, \"scale\": {\"range\": [\"#ffffff00\", \"black\"]}, \"type\": \"nominal\"}, \"shape\": {\"field\": \"is_missing\", \"type\": \"nominal\"}, \"x\": {\"field\": \"time\", \"type\": \"quantitative\"}, \"y\": {\"field\": \"value\", \"scale\": {\"zero\": false}, \"title\": \"LW_IN [W m-2]\", \"type\": \"quantitative\"}}}, {\"layer\": [{\"mark\": \"errorband\", \"encoding\": {\"color\": {\"field\": \"variable\", \"legend\": {\"title\": [\"Line: pred. mean\", \"area: +/- 2 std\", \"(variable)\"]}, \"type\": \"nominal\"}, \"tooltip\": [{\"field\": \"std\", \"format\": \".4\", \"type\": \"quantitative\"}, {\"field\": \"mean\", \"format\": \".4\", \"type\": \"quantitative\"}], \"x\": {\"field\": \"time\", \"type\": \"quantitative\"}, \"y\": {\"field\": \"err_low\", \"scale\": {\"zero\": false}, \"title\": \"LW_IN [W m-2]\", \"type\": \"quantitative\"}, \"y2\": {\"field\": \"err_high\"}}, \"height\": 190, \"transform\": [{\"calculate\": \"datum.mean - 2 * datum.std\", \"as\": \"err_low\"}, {\"calculate\": \"datum.mean + 2 * datum.std\", \"as\": \"err_high\"}], \"width\": 380}, {\"mark\": \"line\", \"encoding\": {\"color\": {\"field\": \"variable\", \"type\": \"nominal\"}, \"x\": {\"field\": \"time\", \"type\": \"quantitative\"}, \"y\": {\"field\": \"mean\", \"scale\": {\"zero\": false}, \"title\": \"LW_IN [W m-2]\", \"type\": \"quantitative\"}}, \"selection\": {\"selector001\": {\"type\": \"interval\", \"bind\": \"scales\", \"encodings\": [\"x\"]}}, \"title\": \"LW_IN\"}], \"data\": {\"name\": \"data-e89dc56a40f894dc86f4d9ca67e5bf12\"}}]}, {\"layer\": [{\"data\": {\"name\": \"data-e9197ad81debd9547e657b5e2cc7e00c\"}, \"mark\": {\"type\": \"point\", \"color\": \"black\", \"fillOpacity\": 1, \"strokeWidth\": 1}, \"encoding\": {\"fill\": {\"field\": \"is_missing\", \"legend\": {\"title\": [\"Observed data\", \"(is missing)\"]}, \"scale\": {\"range\": [\"#ffffff00\", \"black\"]}, \"type\": \"nominal\"}, \"shape\": {\"field\": \"is_missing\", \"type\": \"nominal\"}, \"x\": {\"field\": \"time\", \"type\": \"quantitative\"}, \"y\": {\"field\": \"value\", \"scale\": {\"zero\": false}, \"title\": \"VPD [hPa]\", \"type\": \"quantitative\"}}}, {\"layer\": [{\"mark\": \"errorband\", \"encoding\": {\"color\": {\"field\": \"variable\", \"legend\": {\"title\": [\"Line: pred. mean\", \"area: +/- 2 std\", \"(variable)\"]}, \"type\": \"nominal\"}, \"tooltip\": [{\"field\": \"std\", \"format\": \".4\", \"type\": \"quantitative\"}, {\"field\": \"mean\", \"format\": \".4\", \"type\": \"quantitative\"}], \"x\": {\"field\": \"time\", \"type\": \"quantitative\"}, \"y\": {\"field\": \"err_low\", \"scale\": {\"zero\": false}, \"title\": \"VPD [hPa]\", \"type\": \"quantitative\"}, \"y2\": {\"field\": \"err_high\"}}, \"height\": 190, \"transform\": [{\"calculate\": \"datum.mean - 2 * datum.std\", \"as\": \"err_low\"}, {\"calculate\": \"datum.mean + 2 * datum.std\", \"as\": \"err_high\"}], \"width\": 380}, {\"mark\": \"line\", \"encoding\": {\"color\": {\"field\": \"variable\", \"type\": \"nominal\"}, \"x\": {\"field\": \"time\", \"type\": \"quantitative\"}, \"y\": {\"field\": \"mean\", \"scale\": {\"zero\": false}, \"title\": \"VPD [hPa]\", \"type\": \"quantitative\"}}, \"selection\": {\"selector001\": {\"type\": \"interval\", \"bind\": \"scales\", \"encodings\": [\"x\"]}}, \"title\": \"VPD\"}], \"data\": {\"name\": \"data-b7ece9e7f1778072c5f1b4abf9a1541c\"}}]}]}, {\"hconcat\": []}, {\"hconcat\": []}, {\"hconcat\": []}, {\"hconcat\": []}, {\"hconcat\": []}, {\"hconcat\": []}, {\"hconcat\": []}, {\"hconcat\": []}, {\"hconcat\": []}, {\"hconcat\": []}, {\"hconcat\": []}, {\"hconcat\": []}, {\"hconcat\": []}, {\"hconcat\": []}, {\"hconcat\": []}, {\"hconcat\": []}, {\"hconcat\": []}, {\"hconcat\": []}, {\"hconcat\": []}, {\"hconcat\": []}, {\"hconcat\": []}, {\"hconcat\": []}, {\"hconcat\": []}, {\"hconcat\": []}, {\"hconcat\": []}, {\"hconcat\": []}, {\"hconcat\": []}, {\"hconcat\": []}, {\"hconcat\": []}, {\"hconcat\": []}, {\"hconcat\": []}, {\"hconcat\": []}, {\"hconcat\": []}, {\"hconcat\": []}, {\"hconcat\": []}, {\"hconcat\": []}, {\"hconcat\": []}, {\"hconcat\": []}, {\"hconcat\": []}, {\"hconcat\": []}, {\"hconcat\": []}, {\"hconcat\": []}, {\"hconcat\": []}, {\"hconcat\": []}, {\"hconcat\": []}, {\"hconcat\": []}, {\"hconcat\": []}, {\"hconcat\": []}, {\"hconcat\": []}, {\"hconcat\": []}, {\"hconcat\": []}, {\"hconcat\": []}, {\"hconcat\": []}, {\"hconcat\": []}, {\"hconcat\": []}, {\"hconcat\": []}, {\"hconcat\": []}, {\"hconcat\": []}, {\"hconcat\": []}, {\"hconcat\": []}, {\"hconcat\": []}, {\"hconcat\": []}, {\"hconcat\": []}, {\"hconcat\": []}, {\"hconcat\": []}, {\"hconcat\": []}, {\"hconcat\": []}, {\"hconcat\": []}, {\"hconcat\": []}, {\"hconcat\": []}, {\"hconcat\": []}, {\"hconcat\": []}, {\"hconcat\": []}, {\"hconcat\": []}, {\"hconcat\": []}, {\"hconcat\": []}, {\"hconcat\": []}, {\"hconcat\": []}, {\"hconcat\": []}, {\"hconcat\": []}, {\"hconcat\": []}, {\"hconcat\": []}, {\"hconcat\": []}, {\"hconcat\": []}, {\"hconcat\": []}, {\"hconcat\": []}, {\"hconcat\": []}, {\"hconcat\": []}, {\"hconcat\": []}, {\"hconcat\": []}, {\"hconcat\": []}, {\"hconcat\": []}, {\"hconcat\": []}, {\"hconcat\": []}, {\"hconcat\": []}, {\"hconcat\": []}, {\"hconcat\": []}, {\"hconcat\": []}, {\"hconcat\": []}, {\"hconcat\": []}, {\"hconcat\": []}, {\"hconcat\": []}, {\"hconcat\": []}, {\"hconcat\": []}, {\"hconcat\": []}, {\"hconcat\": []}, {\"hconcat\": []}, {\"hconcat\": []}, {\"hconcat\": []}, {\"hconcat\": []}, {\"hconcat\": []}, {\"hconcat\": []}, {\"hconcat\": []}, {\"hconcat\": []}, {\"hconcat\": []}, {\"hconcat\": []}, {\"hconcat\": []}, {\"hconcat\": []}, {\"hconcat\": []}, {\"hconcat\": []}, {\"hconcat\": []}, {\"hconcat\": []}, {\"hconcat\": []}, {\"hconcat\": []}, {\"hconcat\": []}, {\"hconcat\": []}, {\"hconcat\": []}, {\"hconcat\": []}, {\"hconcat\": []}, {\"hconcat\": []}, {\"hconcat\": []}, {\"hconcat\": []}, {\"hconcat\": []}, {\"hconcat\": []}, {\"hconcat\": []}, {\"hconcat\": []}, {\"hconcat\": []}, {\"hconcat\": []}, {\"hconcat\": []}, {\"hconcat\": []}, {\"hconcat\": []}, {\"hconcat\": []}, {\"hconcat\": []}, {\"hconcat\": []}, {\"hconcat\": []}, {\"hconcat\": []}, {\"hconcat\": []}, {\"hconcat\": []}, {\"hconcat\": []}, {\"hconcat\": []}, {\"hconcat\": []}, {\"hconcat\": []}, {\"hconcat\": []}, {\"hconcat\": []}, {\"hconcat\": []}, {\"hconcat\": []}, {\"hconcat\": []}, {\"hconcat\": []}, {\"hconcat\": []}, {\"hconcat\": []}, {\"hconcat\": []}, {\"hconcat\": []}, {\"hconcat\": []}, {\"hconcat\": []}, {\"hconcat\": []}, {\"hconcat\": []}, {\"hconcat\": []}, {\"hconcat\": []}, {\"hconcat\": []}, {\"hconcat\": []}, {\"hconcat\": []}, {\"hconcat\": []}, {\"hconcat\": []}, {\"hconcat\": []}, {\"hconcat\": []}, {\"hconcat\": []}, {\"hconcat\": []}, {\"hconcat\": []}, {\"hconcat\": []}, {\"hconcat\": []}, {\"hconcat\": []}, {\"hconcat\": []}, {\"hconcat\": []}, {\"hconcat\": []}, {\"hconcat\": []}, {\"hconcat\": []}, {\"hconcat\": []}, {\"hconcat\": []}, {\"hconcat\": []}, {\"hconcat\": []}, {\"hconcat\": []}, {\"hconcat\": []}, {\"hconcat\": []}, {\"hconcat\": []}, {\"hconcat\": []}, {\"hconcat\": []}, {\"hconcat\": []}, {\"hconcat\": []}, {\"hconcat\": []}, {\"hconcat\": []}, {\"hconcat\": []}, {\"hconcat\": []}, {\"hconcat\": []}, {\"hconcat\": []}, {\"hconcat\": []}, {\"hconcat\": []}, {\"hconcat\": []}, {\"hconcat\": []}, {\"hconcat\": []}, {\"hconcat\": []}, {\"hconcat\": []}, {\"hconcat\": []}, {\"hconcat\": []}, {\"hconcat\": []}, {\"hconcat\": []}, {\"hconcat\": []}, {\"hconcat\": []}, {\"hconcat\": []}, {\"hconcat\": []}, {\"hconcat\": []}, {\"hconcat\": []}, {\"hconcat\": []}, {\"hconcat\": []}, {\"hconcat\": []}, {\"hconcat\": []}, {\"hconcat\": []}, {\"hconcat\": []}, {\"hconcat\": []}, {\"hconcat\": []}, {\"hconcat\": []}, {\"hconcat\": []}, {\"hconcat\": []}, {\"hconcat\": []}, {\"hconcat\": []}, {\"hconcat\": []}, {\"hconcat\": []}, {\"hconcat\": []}, {\"hconcat\": []}, {\"hconcat\": []}, {\"hconcat\": []}, {\"hconcat\": []}, {\"hconcat\": []}, {\"hconcat\": []}, {\"hconcat\": []}, {\"hconcat\": []}, {\"hconcat\": []}, {\"hconcat\": []}, {\"hconcat\": []}, {\"hconcat\": []}, {\"hconcat\": []}, {\"hconcat\": []}, {\"hconcat\": []}, {\"hconcat\": []}, {\"hconcat\": []}, {\"hconcat\": []}, {\"hconcat\": []}, {\"hconcat\": []}, {\"hconcat\": []}, {\"hconcat\": []}, {\"hconcat\": []}, {\"hconcat\": []}, {\"hconcat\": []}, {\"hconcat\": []}, {\"hconcat\": []}, {\"hconcat\": []}, {\"hconcat\": []}, {\"hconcat\": []}, {\"hconcat\": []}, {\"hconcat\": []}, {\"hconcat\": []}, {\"hconcat\": []}, {\"hconcat\": []}, {\"hconcat\": []}, {\"hconcat\": []}, {\"hconcat\": []}, {\"hconcat\": []}, {\"hconcat\": []}, {\"hconcat\": []}, {\"hconcat\": []}, {\"hconcat\": []}, {\"hconcat\": []}, {\"hconcat\": []}, {\"hconcat\": []}, {\"hconcat\": []}, {\"hconcat\": []}, {\"hconcat\": []}, {\"hconcat\": []}, {\"hconcat\": []}, {\"hconcat\": []}, {\"hconcat\": []}, {\"hconcat\": []}, {\"hconcat\": []}, {\"hconcat\": []}, {\"hconcat\": []}, {\"hconcat\": []}, {\"hconcat\": []}, {\"hconcat\": []}, {\"hconcat\": []}, {\"hconcat\": []}, {\"hconcat\": []}, {\"hconcat\": []}, {\"hconcat\": []}, {\"hconcat\": []}, {\"hconcat\": []}, {\"hconcat\": []}, {\"hconcat\": []}, {\"hconcat\": []}, {\"hconcat\": []}, {\"hconcat\": []}, {\"hconcat\": []}, {\"hconcat\": []}, {\"hconcat\": []}, {\"hconcat\": []}, {\"hconcat\": []}, {\"hconcat\": []}, {\"hconcat\": []}, {\"hconcat\": []}, {\"hconcat\": []}, {\"hconcat\": []}, {\"hconcat\": []}, {\"hconcat\": []}, {\"hconcat\": []}, {\"hconcat\": []}, {\"hconcat\": []}, {\"hconcat\": []}, {\"hconcat\": []}, {\"hconcat\": []}, {\"hconcat\": []}, {\"hconcat\": []}, {\"hconcat\": []}, {\"hconcat\": []}, {\"hconcat\": []}, {\"hconcat\": []}, {\"hconcat\": []}, {\"hconcat\": []}, {\"hconcat\": []}, {\"hconcat\": []}, {\"hconcat\": []}, {\"hconcat\": []}, {\"hconcat\": []}, {\"hconcat\": []}, {\"hconcat\": []}, {\"hconcat\": []}, {\"hconcat\": []}, {\"hconcat\": []}, {\"hconcat\": []}, {\"hconcat\": []}, {\"hconcat\": []}, {\"hconcat\": []}, {\"hconcat\": []}, {\"hconcat\": []}, {\"hconcat\": []}, {\"hconcat\": []}, {\"hconcat\": []}, {\"hconcat\": []}, {\"hconcat\": []}, {\"hconcat\": []}, {\"hconcat\": []}, {\"hconcat\": []}, {\"hconcat\": []}, {\"hconcat\": []}, {\"hconcat\": []}, {\"hconcat\": []}, {\"hconcat\": []}, {\"hconcat\": []}, {\"hconcat\": []}, {\"hconcat\": []}, {\"hconcat\": []}, {\"hconcat\": []}, {\"hconcat\": []}, {\"hconcat\": []}, {\"hconcat\": []}, {\"hconcat\": []}, {\"hconcat\": []}, {\"hconcat\": []}, {\"hconcat\": []}, {\"hconcat\": []}, {\"hconcat\": []}, {\"hconcat\": []}, {\"hconcat\": []}, {\"hconcat\": []}, {\"hconcat\": []}, {\"hconcat\": []}, {\"hconcat\": []}, {\"hconcat\": []}, {\"hconcat\": []}, {\"hconcat\": []}, {\"hconcat\": []}, {\"hconcat\": []}, {\"hconcat\": []}, {\"hconcat\": []}, {\"hconcat\": []}, {\"hconcat\": []}, {\"hconcat\": []}, {\"hconcat\": []}, {\"hconcat\": []}, {\"hconcat\": []}, {\"hconcat\": []}], \"$schema\": \"https://vega.github.io/schema/vega-lite/v4.17.0.json\", \"datasets\": {\"data-846d82b44bbd742bda1667e7e7e5a47e\": [{\"time\": 0.0, \"variable\": \"TA\", \"value\": -0.6, \"is_missing\": false}, {\"time\": 1.0, \"variable\": \"TA\", \"value\": -0.65, \"is_missing\": true}, {\"time\": 2.0, \"variable\": \"TA\", \"value\": -0.58, \"is_missing\": false}, {\"time\": 3.0, \"variable\": \"TA\", \"value\": -0.51, \"is_missing\": false}, {\"time\": 4.0, \"variable\": \"TA\", \"value\": -0.49, \"is_missing\": false}, {\"time\": 5.0, \"variable\": \"TA\", \"value\": -0.4, \"is_missing\": true}, {\"time\": 6.0, \"variable\": \"TA\", \"value\": -0.36, \"is_missing\": false}, {\"time\": 7.0, \"variable\": \"TA\", \"value\": -0.35, \"is_missing\": true}, {\"time\": 8.0, \"variable\": \"TA\", \"value\": -0.28, \"is_missing\": true}, {\"time\": 9.0, \"variable\": \"TA\", \"value\": -0.27, \"is_missing\": false}, {\"time\": 10.0, \"variable\": \"TA\", \"value\": -0.23, \"is_missing\": false}, {\"time\": 11.0, \"variable\": \"TA\", \"value\": -0.23, \"is_missing\": false}, {\"time\": 12.0, \"variable\": \"TA\", \"value\": -0.22, \"is_missing\": true}, {\"time\": 13.0, \"variable\": \"TA\", \"value\": -0.24, \"is_missing\": false}, {\"time\": 14.0, \"variable\": \"TA\", \"value\": -0.23, \"is_missing\": false}, {\"time\": 15.0, \"variable\": \"TA\", \"value\": -0.22, \"is_missing\": false}, {\"time\": 16.0, \"variable\": \"TA\", \"value\": -0.19, \"is_missing\": false}, {\"time\": 17.0, \"variable\": \"TA\", \"value\": -0.14, \"is_missing\": false}, {\"time\": 18.0, \"variable\": \"TA\", \"value\": -0.03, \"is_missing\": false}, {\"time\": 19.0, \"variable\": \"TA\", \"value\": 0.04, \"is_missing\": false}, {\"time\": 20.0, \"variable\": \"TA\", \"value\": 0.1, \"is_missing\": true}, {\"time\": 21.0, \"variable\": \"TA\", \"value\": 0.18, \"is_missing\": false}, {\"time\": 22.0, \"variable\": \"TA\", \"value\": 0.21, \"is_missing\": false}, {\"time\": 23.0, \"variable\": \"TA\", \"value\": 0.23, \"is_missing\": false}, {\"time\": 24.0, \"variable\": \"TA\", \"value\": 0.33, \"is_missing\": false}, {\"time\": 25.0, \"variable\": \"TA\", \"value\": 0.41, \"is_missing\": false}, {\"time\": 26.0, \"variable\": \"TA\", \"value\": 0.44, \"is_missing\": false}, {\"time\": 27.0, \"variable\": \"TA\", \"value\": 0.48, \"is_missing\": false}, {\"time\": 28.0, \"variable\": \"TA\", \"value\": 0.49, \"is_missing\": false}, {\"time\": 29.0, \"variable\": \"TA\", \"value\": 0.51, \"is_missing\": true}, {\"time\": 30.0, \"variable\": \"TA\", \"value\": 0.52, \"is_missing\": false}, {\"time\": 31.0, \"variable\": \"TA\", \"value\": 0.57, \"is_missing\": true}, {\"time\": 32.0, \"variable\": \"TA\", \"value\": 0.73, \"is_missing\": true}, {\"time\": 33.0, \"variable\": \"TA\", \"value\": 0.77, \"is_missing\": false}, {\"time\": 34.0, \"variable\": \"TA\", \"value\": 0.84, \"is_missing\": true}, {\"time\": 35.0, \"variable\": \"TA\", \"value\": 0.99, \"is_missing\": true}, {\"time\": 36.0, \"variable\": \"TA\", \"value\": 1.35, \"is_missing\": false}, {\"time\": 37.0, \"variable\": \"TA\", \"value\": 1.86, \"is_missing\": false}, {\"time\": 38.0, \"variable\": \"TA\", \"value\": 2.01, \"is_missing\": false}, {\"time\": 39.0, \"variable\": \"TA\", \"value\": 2.07, \"is_missing\": false}, {\"time\": 40.0, \"variable\": \"TA\", \"value\": 2.0, \"is_missing\": true}, {\"time\": 41.0, \"variable\": \"TA\", \"value\": 2.19, \"is_missing\": false}, {\"time\": 42.0, \"variable\": \"TA\", \"value\": 2.26, \"is_missing\": true}, {\"time\": 43.0, \"variable\": \"TA\", \"value\": 2.53, \"is_missing\": true}, {\"time\": 44.0, \"variable\": \"TA\", \"value\": 2.59, \"is_missing\": false}, {\"time\": 45.0, \"variable\": \"TA\", \"value\": 2.6, \"is_missing\": false}, {\"time\": 46.0, \"variable\": \"TA\", \"value\": 2.53, \"is_missing\": false}, {\"time\": 47.0, \"variable\": \"TA\", \"value\": 2.3, \"is_missing\": true}, {\"time\": 48.0, \"variable\": \"TA\", \"value\": 2.08, \"is_missing\": true}, {\"time\": 49.0, \"variable\": \"TA\", \"value\": 1.93, \"is_missing\": false}, {\"time\": 50.0, \"variable\": \"TA\", \"value\": 1.84, \"is_missing\": true}, {\"time\": 51.0, \"variable\": \"TA\", \"value\": 1.85, \"is_missing\": false}, {\"time\": 52.0, \"variable\": \"TA\", \"value\": 1.59, \"is_missing\": true}, {\"time\": 53.0, \"variable\": \"TA\", \"value\": 1.43, \"is_missing\": true}, {\"time\": 54.0, \"variable\": \"TA\", \"value\": 1.33, \"is_missing\": false}, {\"time\": 55.0, \"variable\": \"TA\", \"value\": 1.23, \"is_missing\": true}, {\"time\": 56.0, \"variable\": \"TA\", \"value\": 1.04, \"is_missing\": true}, {\"time\": 57.0, \"variable\": \"TA\", \"value\": 0.94, \"is_missing\": true}, {\"time\": 58.0, \"variable\": \"TA\", \"value\": 0.81, \"is_missing\": false}, {\"time\": 59.0, \"variable\": \"TA\", \"value\": 0.79, \"is_missing\": false}, {\"time\": 60.0, \"variable\": \"TA\", \"value\": 0.68, \"is_missing\": true}, {\"time\": 61.0, \"variable\": \"TA\", \"value\": 0.65, \"is_missing\": false}, {\"time\": 62.0, \"variable\": \"TA\", \"value\": 0.58, \"is_missing\": false}, {\"time\": 63.0, \"variable\": \"TA\", \"value\": 0.49, \"is_missing\": false}, {\"time\": 64.0, \"variable\": \"TA\", \"value\": 0.57, \"is_missing\": false}, {\"time\": 65.0, \"variable\": \"TA\", \"value\": 0.25, \"is_missing\": false}, {\"time\": 66.0, \"variable\": \"TA\", \"value\": 0.35, \"is_missing\": false}, {\"time\": 67.0, \"variable\": \"TA\", \"value\": 0.27, \"is_missing\": false}, {\"time\": 68.0, \"variable\": \"TA\", \"value\": 0.35, \"is_missing\": false}, {\"time\": 69.0, \"variable\": \"TA\", \"value\": 0.57, \"is_missing\": true}, {\"time\": 70.0, \"variable\": \"TA\", \"value\": 0.63, \"is_missing\": true}, {\"time\": 71.0, \"variable\": \"TA\", \"value\": 0.73, \"is_missing\": false}, {\"time\": 72.0, \"variable\": \"TA\", \"value\": 0.78, \"is_missing\": true}, {\"time\": 73.0, \"variable\": \"TA\", \"value\": 1.05, \"is_missing\": false}, {\"time\": 74.0, \"variable\": \"TA\", \"value\": 1.19, \"is_missing\": true}, {\"time\": 75.0, \"variable\": \"TA\", \"value\": 1.41, \"is_missing\": false}, {\"time\": 76.0, \"variable\": \"TA\", \"value\": 1.54, \"is_missing\": false}, {\"time\": 77.0, \"variable\": \"TA\", \"value\": 1.08, \"is_missing\": false}, {\"time\": 78.0, \"variable\": \"TA\", \"value\": 0.62, \"is_missing\": true}, {\"time\": 79.0, \"variable\": \"TA\", \"value\": 0.57, \"is_missing\": false}, {\"time\": 80.0, \"variable\": \"TA\", \"value\": 0.53, \"is_missing\": false}, {\"time\": 81.0, \"variable\": \"TA\", \"value\": 0.57, \"is_missing\": false}, {\"time\": 82.0, \"variable\": \"TA\", \"value\": 0.51, \"is_missing\": false}, {\"time\": 83.0, \"variable\": \"TA\", \"value\": 0.39, \"is_missing\": false}, {\"time\": 84.0, \"variable\": \"TA\", \"value\": 0.35, \"is_missing\": false}, {\"time\": 85.0, \"variable\": \"TA\", \"value\": 0.4, \"is_missing\": false}, {\"time\": 86.0, \"variable\": \"TA\", \"value\": 0.66, \"is_missing\": false}, {\"time\": 87.0, \"variable\": \"TA\", \"value\": 0.76, \"is_missing\": true}, {\"time\": 88.0, \"variable\": \"TA\", \"value\": 0.81, \"is_missing\": false}, {\"time\": 89.0, \"variable\": \"TA\", \"value\": 0.94, \"is_missing\": false}, {\"time\": 90.0, \"variable\": \"TA\", \"value\": 0.97, \"is_missing\": true}, {\"time\": 91.0, \"variable\": \"TA\", \"value\": 0.85, \"is_missing\": false}, {\"time\": 92.0, \"variable\": \"TA\", \"value\": 0.77, \"is_missing\": false}, {\"time\": 93.0, \"variable\": \"TA\", \"value\": 0.63, \"is_missing\": false}, {\"time\": 94.0, \"variable\": \"TA\", \"value\": 0.52, \"is_missing\": true}, {\"time\": 95.0, \"variable\": \"TA\", \"value\": 0.48, \"is_missing\": false}, {\"time\": 96.0, \"variable\": \"TA\", \"value\": 0.41, \"is_missing\": false}, {\"time\": 97.0, \"variable\": \"TA\", \"value\": 0.29, \"is_missing\": false}, {\"time\": 98.0, \"variable\": \"TA\", \"value\": 0.31, \"is_missing\": false}, {\"time\": 99.0, \"variable\": \"TA\", \"value\": 0.42, \"is_missing\": true}, {\"time\": 100.0, \"variable\": \"TA\", \"value\": 0.51, \"is_missing\": true}, {\"time\": 101.0, \"variable\": \"TA\", \"value\": 0.57, \"is_missing\": false}, {\"time\": 102.0, \"variable\": \"TA\", \"value\": 0.65, \"is_missing\": true}, {\"time\": 103.0, \"variable\": \"TA\", \"value\": 0.81, \"is_missing\": false}, {\"time\": 104.0, \"variable\": \"TA\", \"value\": 0.95, \"is_missing\": true}, {\"time\": 105.0, \"variable\": \"TA\", \"value\": 1.09, \"is_missing\": false}, {\"time\": 106.0, \"variable\": \"TA\", \"value\": 1.18, \"is_missing\": false}, {\"time\": 107.0, \"variable\": \"TA\", \"value\": 1.35, \"is_missing\": false}, {\"time\": 108.0, \"variable\": \"TA\", \"value\": 1.42, \"is_missing\": false}, {\"time\": 109.0, \"variable\": \"TA\", \"value\": 1.42, \"is_missing\": true}, {\"time\": 110.0, \"variable\": \"TA\", \"value\": 1.57, \"is_missing\": false}, {\"time\": 111.0, \"variable\": \"TA\", \"value\": 1.67, \"is_missing\": true}, {\"time\": 112.0, \"variable\": \"TA\", \"value\": 1.8, \"is_missing\": false}, {\"time\": 113.0, \"variable\": \"TA\", \"value\": 1.86, \"is_missing\": false}, {\"time\": 114.0, \"variable\": \"TA\", \"value\": 1.91, \"is_missing\": true}, {\"time\": 115.0, \"variable\": \"TA\", \"value\": 1.95, \"is_missing\": false}, {\"time\": 116.0, \"variable\": \"TA\", \"value\": 1.99, \"is_missing\": false}, {\"time\": 117.0, \"variable\": \"TA\", \"value\": 2.1, \"is_missing\": false}, {\"time\": 118.0, \"variable\": \"TA\", \"value\": 2.32, \"is_missing\": false}, {\"time\": 119.0, \"variable\": \"TA\", \"value\": 2.53, \"is_missing\": true}, {\"time\": 120.0, \"variable\": \"TA\", \"value\": 2.48, \"is_missing\": false}, {\"time\": 121.0, \"variable\": \"TA\", \"value\": 2.39, \"is_missing\": true}, {\"time\": 122.0, \"variable\": \"TA\", \"value\": 2.52, \"is_missing\": true}, {\"time\": 123.0, \"variable\": \"TA\", \"value\": 2.68, \"is_missing\": false}, {\"time\": 124.0, \"variable\": \"TA\", \"value\": 2.7, \"is_missing\": false}, {\"time\": 125.0, \"variable\": \"TA\", \"value\": 2.7, \"is_missing\": false}, {\"time\": 126.0, \"variable\": \"TA\", \"value\": 2.61, \"is_missing\": true}, {\"time\": 127.0, \"variable\": \"TA\", \"value\": 2.45, \"is_missing\": false}, {\"time\": 128.0, \"variable\": \"TA\", \"value\": 2.36, \"is_missing\": true}, {\"time\": 129.0, \"variable\": \"TA\", \"value\": 2.33, \"is_missing\": false}, {\"time\": 130.0, \"variable\": \"TA\", \"value\": 2.22, \"is_missing\": false}, {\"time\": 131.0, \"variable\": \"TA\", \"value\": 2.07, \"is_missing\": true}, {\"time\": 132.0, \"variable\": \"TA\", \"value\": 1.96, \"is_missing\": true}, {\"time\": 133.0, \"variable\": \"TA\", \"value\": 2.01, \"is_missing\": true}, {\"time\": 134.0, \"variable\": \"TA\", \"value\": 2.01, \"is_missing\": false}, {\"time\": 135.0, \"variable\": \"TA\", \"value\": 2.06, \"is_missing\": false}, {\"time\": 136.0, \"variable\": \"TA\", \"value\": 2.14, \"is_missing\": true}, {\"time\": 137.0, \"variable\": \"TA\", \"value\": 2.11, \"is_missing\": false}, {\"time\": 138.0, \"variable\": \"TA\", \"value\": 2.1, \"is_missing\": false}, {\"time\": 139.0, \"variable\": \"TA\", \"value\": 2.07, \"is_missing\": true}, {\"time\": 140.0, \"variable\": \"TA\", \"value\": 2.09, \"is_missing\": false}, {\"time\": 141.0, \"variable\": \"TA\", \"value\": 2.11, \"is_missing\": false}, {\"time\": 142.0, \"variable\": \"TA\", \"value\": 2.1, \"is_missing\": false}, {\"time\": 143.0, \"variable\": \"TA\", \"value\": 2.1, \"is_missing\": false}, {\"time\": 144.0, \"variable\": \"TA\", \"value\": 2.01, \"is_missing\": true}, {\"time\": 145.0, \"variable\": \"TA\", \"value\": 2.05, \"is_missing\": true}, {\"time\": 146.0, \"variable\": \"TA\", \"value\": 2.13, \"is_missing\": false}, {\"time\": 147.0, \"variable\": \"TA\", \"value\": 2.1, \"is_missing\": false}, {\"time\": 148.0, \"variable\": \"TA\", \"value\": 2.19, \"is_missing\": false}, {\"time\": 149.0, \"variable\": \"TA\", \"value\": 2.27, \"is_missing\": true}, {\"time\": 150.0, \"variable\": \"TA\", \"value\": 2.32, \"is_missing\": false}, {\"time\": 151.0, \"variable\": \"TA\", \"value\": 2.34, \"is_missing\": true}, {\"time\": 152.0, \"variable\": \"TA\", \"value\": 2.24, \"is_missing\": false}, {\"time\": 153.0, \"variable\": \"TA\", \"value\": 2.0, \"is_missing\": false}, {\"time\": 154.0, \"variable\": \"TA\", \"value\": 1.94, \"is_missing\": false}, {\"time\": 155.0, \"variable\": \"TA\", \"value\": 2.07, \"is_missing\": true}, {\"time\": 156.0, \"variable\": \"TA\", \"value\": 2.04, \"is_missing\": false}, {\"time\": 157.0, \"variable\": \"TA\", \"value\": 2.03, \"is_missing\": true}, {\"time\": 158.0, \"variable\": \"TA\", \"value\": 2.07, \"is_missing\": false}, {\"time\": 159.0, \"variable\": \"TA\", \"value\": 2.08, \"is_missing\": false}, {\"time\": 160.0, \"variable\": \"TA\", \"value\": 1.94, \"is_missing\": false}, {\"time\": 161.0, \"variable\": \"TA\", \"value\": 1.92, \"is_missing\": false}, {\"time\": 162.0, \"variable\": \"TA\", \"value\": 1.96, \"is_missing\": true}, {\"time\": 163.0, \"variable\": \"TA\", \"value\": 2.02, \"is_missing\": false}, {\"time\": 164.0, \"variable\": \"TA\", \"value\": 2.06, \"is_missing\": true}, {\"time\": 165.0, \"variable\": \"TA\", \"value\": 2.11, \"is_missing\": false}, {\"time\": 166.0, \"variable\": \"TA\", \"value\": 2.26, \"is_missing\": false}, {\"time\": 167.0, \"variable\": \"TA\", \"value\": 2.32, \"is_missing\": false}, {\"time\": 168.0, \"variable\": \"TA\", \"value\": 2.34, \"is_missing\": false}, {\"time\": 169.0, \"variable\": \"TA\", \"value\": 2.31, \"is_missing\": false}, {\"time\": 170.0, \"variable\": \"TA\", \"value\": 2.36, \"is_missing\": false}, {\"time\": 171.0, \"variable\": \"TA\", \"value\": 2.45, \"is_missing\": true}, {\"time\": 172.0, \"variable\": \"TA\", \"value\": 2.54, \"is_missing\": false}, {\"time\": 173.0, \"variable\": \"TA\", \"value\": 2.59, \"is_missing\": false}, {\"time\": 174.0, \"variable\": \"TA\", \"value\": 2.7, \"is_missing\": false}, {\"time\": 175.0, \"variable\": \"TA\", \"value\": 2.9, \"is_missing\": false}, {\"time\": 176.0, \"variable\": \"TA\", \"value\": 3.04, \"is_missing\": false}, {\"time\": 177.0, \"variable\": \"TA\", \"value\": 3.16, \"is_missing\": false}, {\"time\": 178.0, \"variable\": \"TA\", \"value\": 3.33, \"is_missing\": false}, {\"time\": 179.0, \"variable\": \"TA\", \"value\": 3.39, \"is_missing\": true}, {\"time\": 180.0, \"variable\": \"TA\", \"value\": 3.69, \"is_missing\": false}, {\"time\": 181.0, \"variable\": \"TA\", \"value\": 4.05, \"is_missing\": false}, {\"time\": 182.0, \"variable\": \"TA\", \"value\": 4.22, \"is_missing\": false}, {\"time\": 183.0, \"variable\": \"TA\", \"value\": 4.19, \"is_missing\": false}, {\"time\": 184.0, \"variable\": \"TA\", \"value\": 4.22, \"is_missing\": true}, {\"time\": 185.0, \"variable\": \"TA\", \"value\": 4.36, \"is_missing\": true}, {\"time\": 186.0, \"variable\": \"TA\", \"value\": 4.49, \"is_missing\": false}, {\"time\": 187.0, \"variable\": \"TA\", \"value\": 4.64, \"is_missing\": true}, {\"time\": 188.0, \"variable\": \"TA\", \"value\": 4.73, \"is_missing\": false}, {\"time\": 189.0, \"variable\": \"TA\", \"value\": 4.82, \"is_missing\": false}, {\"time\": 190.0, \"variable\": \"TA\", \"value\": 4.82, \"is_missing\": true}, {\"time\": 191.0, \"variable\": \"TA\", \"value\": 4.67, \"is_missing\": false}, {\"time\": 192.0, \"variable\": \"TA\", \"value\": 4.59, \"is_missing\": false}, {\"time\": 193.0, \"variable\": \"TA\", \"value\": 4.45, \"is_missing\": true}, {\"time\": 194.0, \"variable\": \"TA\", \"value\": 4.55, \"is_missing\": false}, {\"time\": 195.0, \"variable\": \"TA\", \"value\": 4.74, \"is_missing\": false}, {\"time\": 196.0, \"variable\": \"TA\", \"value\": 4.75, \"is_missing\": false}, {\"time\": 197.0, \"variable\": \"TA\", \"value\": 4.76, \"is_missing\": true}, {\"time\": 198.0, \"variable\": \"TA\", \"value\": 4.62, \"is_missing\": false}, {\"time\": 199.0, \"variable\": \"TA\", \"value\": 4.51, \"is_missing\": false}], \"data-d5d237daec6bf01b05ad30612385ed2d\": [{\"time\": 0.0, \"variable\": \"TA\", \"mean\": -0.6, \"std\": null}, {\"time\": 2.0, \"variable\": \"TA\", \"mean\": -0.58, \"std\": null}, {\"time\": 3.0, \"variable\": \"TA\", \"mean\": -0.51, \"std\": null}, {\"time\": 4.0, \"variable\": \"TA\", \"mean\": -0.49, \"std\": null}, {\"time\": 11.0, \"variable\": \"TA\", \"mean\": -0.23, \"std\": null}, {\"time\": 13.0, \"variable\": \"TA\", \"mean\": -0.24, \"std\": null}, {\"time\": 14.0, \"variable\": \"TA\", \"mean\": -0.23, \"std\": null}, {\"time\": 15.0, \"variable\": \"TA\", \"mean\": -0.22, \"std\": null}, {\"time\": 16.0, \"variable\": \"TA\", \"mean\": -0.19, \"std\": null}, {\"time\": 17.0, \"variable\": \"TA\", \"mean\": -0.14, \"std\": null}, {\"time\": 19.0, \"variable\": \"TA\", \"mean\": 0.04, \"std\": null}, {\"time\": 21.0, \"variable\": \"TA\", \"mean\": 0.18, \"std\": null}, {\"time\": 23.0, \"variable\": \"TA\", \"mean\": 0.23, \"std\": null}, {\"time\": 24.0, \"variable\": \"TA\", \"mean\": 0.33, \"std\": null}, {\"time\": 25.0, \"variable\": \"TA\", \"mean\": 0.41, \"std\": null}, {\"time\": 26.0, \"variable\": \"TA\", \"mean\": 0.44, \"std\": null}, {\"time\": 27.0, \"variable\": \"TA\", \"mean\": 0.48, \"std\": null}, {\"time\": 30.0, \"variable\": \"TA\", \"mean\": 0.52, \"std\": null}, {\"time\": 36.0, \"variable\": \"TA\", \"mean\": 1.35, \"std\": null}, {\"time\": 37.0, \"variable\": \"TA\", \"mean\": 1.86, \"std\": null}, {\"time\": 38.0, \"variable\": \"TA\", \"mean\": 2.01, \"std\": null}, {\"time\": 39.0, \"variable\": \"TA\", \"mean\": 2.07, \"std\": null}, {\"time\": 41.0, \"variable\": \"TA\", \"mean\": 2.19, \"std\": null}, {\"time\": 44.0, \"variable\": \"TA\", \"mean\": 2.59, \"std\": null}, {\"time\": 45.0, \"variable\": \"TA\", \"mean\": 2.6, \"std\": null}, {\"time\": 46.0, \"variable\": \"TA\", \"mean\": 2.53, \"std\": null}, {\"time\": 49.0, \"variable\": \"TA\", \"mean\": 1.93, \"std\": null}, {\"time\": 51.0, \"variable\": \"TA\", \"mean\": 1.85, \"std\": null}, {\"time\": 54.0, \"variable\": \"TA\", \"mean\": 1.33, \"std\": null}, {\"time\": 61.0, \"variable\": \"TA\", \"mean\": 0.65, \"std\": null}, {\"time\": 62.0, \"variable\": \"TA\", \"mean\": 0.58, \"std\": null}, {\"time\": 64.0, \"variable\": \"TA\", \"mean\": 0.57, \"std\": null}, {\"time\": 66.0, \"variable\": \"TA\", \"mean\": 0.35, \"std\": null}, {\"time\": 67.0, \"variable\": \"TA\", \"mean\": 0.27, \"std\": null}, {\"time\": 68.0, \"variable\": \"TA\", \"mean\": 0.35, \"std\": null}, {\"time\": 71.0, \"variable\": \"TA\", \"mean\": 0.73, \"std\": null}, {\"time\": 79.0, \"variable\": \"TA\", \"mean\": 0.57, \"std\": null}, {\"time\": 80.0, \"variable\": \"TA\", \"mean\": 0.53, \"std\": null}, {\"time\": 81.0, \"variable\": \"TA\", \"mean\": 0.57, \"std\": null}, {\"time\": 82.0, \"variable\": \"TA\", \"mean\": 0.51, \"std\": null}, {\"time\": 84.0, \"variable\": \"TA\", \"mean\": 0.35, \"std\": null}, {\"time\": 85.0, \"variable\": \"TA\", \"mean\": 0.4, \"std\": null}, {\"time\": 86.0, \"variable\": \"TA\", \"mean\": 0.66, \"std\": null}, {\"time\": 88.0, \"variable\": \"TA\", \"mean\": 0.81, \"std\": null}, {\"time\": 89.0, \"variable\": \"TA\", \"mean\": 0.94, \"std\": null}, {\"time\": 91.0, \"variable\": \"TA\", \"mean\": 0.85, \"std\": null}, {\"time\": 92.0, \"variable\": \"TA\", \"mean\": 0.77, \"std\": null}, {\"time\": 95.0, \"variable\": \"TA\", \"mean\": 0.48, \"std\": null}, {\"time\": 96.0, \"variable\": \"TA\", \"mean\": 0.41, \"std\": null}, {\"time\": 98.0, \"variable\": \"TA\", \"mean\": 0.31, \"std\": null}, {\"time\": 101.0, \"variable\": \"TA\", \"mean\": 0.57, \"std\": null}, {\"time\": 103.0, \"variable\": \"TA\", \"mean\": 0.81, \"std\": null}, {\"time\": 107.0, \"variable\": \"TA\", \"mean\": 1.35, \"std\": null}, {\"time\": 110.0, \"variable\": \"TA\", \"mean\": 1.57, \"std\": null}, {\"time\": 112.0, \"variable\": \"TA\", \"mean\": 1.8, \"std\": null}, {\"time\": 116.0, \"variable\": \"TA\", \"mean\": 1.99, \"std\": null}, {\"time\": 118.0, \"variable\": \"TA\", \"mean\": 2.32, \"std\": null}, {\"time\": 120.0, \"variable\": \"TA\", \"mean\": 2.48, \"std\": null}, {\"time\": 123.0, \"variable\": \"TA\", \"mean\": 2.68, \"std\": null}, {\"time\": 125.0, \"variable\": \"TA\", \"mean\": 2.7, \"std\": null}, {\"time\": 127.0, \"variable\": \"TA\", \"mean\": 2.45, \"std\": null}, {\"time\": 129.0, \"variable\": \"TA\", \"mean\": 2.33, \"std\": null}, {\"time\": 134.0, \"variable\": \"TA\", \"mean\": 2.01, \"std\": null}, {\"time\": 135.0, \"variable\": \"TA\", \"mean\": 2.06, \"std\": null}, {\"time\": 138.0, \"variable\": \"TA\", \"mean\": 2.1, \"std\": null}, {\"time\": 140.0, \"variable\": \"TA\", \"mean\": 2.09, \"std\": null}, {\"time\": 141.0, \"variable\": \"TA\", \"mean\": 2.11, \"std\": null}, {\"time\": 142.0, \"variable\": \"TA\", \"mean\": 2.1, \"std\": null}, {\"time\": 147.0, \"variable\": \"TA\", \"mean\": 2.1, \"std\": null}, {\"time\": 148.0, \"variable\": \"TA\", \"mean\": 2.19, \"std\": null}, {\"time\": 150.0, \"variable\": \"TA\", \"mean\": 2.32, \"std\": null}, {\"time\": 152.0, \"variable\": \"TA\", \"mean\": 2.24, \"std\": null}, {\"time\": 153.0, \"variable\": \"TA\", \"mean\": 2.0, \"std\": null}, {\"time\": 154.0, \"variable\": \"TA\", \"mean\": 1.94, \"std\": null}, {\"time\": 156.0, \"variable\": \"TA\", \"mean\": 2.04, \"std\": null}, {\"time\": 159.0, \"variable\": \"TA\", \"mean\": 2.08, \"std\": null}, {\"time\": 160.0, \"variable\": \"TA\", \"mean\": 1.94, \"std\": null}, {\"time\": 161.0, \"variable\": \"TA\", \"mean\": 1.92, \"std\": null}, {\"time\": 163.0, \"variable\": \"TA\", \"mean\": 2.02, \"std\": null}, {\"time\": 165.0, \"variable\": \"TA\", \"mean\": 2.11, \"std\": null}, {\"time\": 166.0, \"variable\": \"TA\", \"mean\": 2.26, \"std\": null}, {\"time\": 167.0, \"variable\": \"TA\", \"mean\": 2.32, \"std\": null}, {\"time\": 168.0, \"variable\": \"TA\", \"mean\": 2.34, \"std\": null}, {\"time\": 169.0, \"variable\": \"TA\", \"mean\": 2.31, \"std\": null}, {\"time\": 170.0, \"variable\": \"TA\", \"mean\": 2.36, \"std\": null}, {\"time\": 172.0, \"variable\": \"TA\", \"mean\": 2.54, \"std\": null}, {\"time\": 173.0, \"variable\": \"TA\", \"mean\": 2.59, \"std\": null}, {\"time\": 174.0, \"variable\": \"TA\", \"mean\": 2.7, \"std\": null}, {\"time\": 175.0, \"variable\": \"TA\", \"mean\": 2.9, \"std\": null}, {\"time\": 178.0, \"variable\": \"TA\", \"mean\": 3.33, \"std\": null}, {\"time\": 180.0, \"variable\": \"TA\", \"mean\": 3.69, \"std\": null}, {\"time\": 188.0, \"variable\": \"TA\", \"mean\": 4.73, \"std\": null}, {\"time\": 191.0, \"variable\": \"TA\", \"mean\": 4.67, \"std\": null}, {\"time\": 194.0, \"variable\": \"TA\", \"mean\": 4.55, \"std\": null}, {\"time\": 195.0, \"variable\": \"TA\", \"mean\": 4.74, \"std\": null}, {\"time\": 196.0, \"variable\": \"TA\", \"mean\": 4.75, \"std\": null}, {\"time\": 198.0, \"variable\": \"TA\", \"mean\": 4.62, \"std\": null}, {\"time\": 199.0, \"variable\": \"TA\", \"mean\": 4.51, \"std\": null}, {\"time\": 1.0, \"variable\": \"TA\", \"mean\": -0.5841699838638306, \"std\": 0.09688905626535416}, {\"time\": 5.0, \"variable\": \"TA\", \"mean\": -0.4147752523422241, \"std\": 0.0936935767531395}, {\"time\": 6.0, \"variable\": \"TA\", \"mean\": -0.36000001430511475, \"std\": 0.0}, {\"time\": 7.0, \"variable\": \"TA\", \"mean\": -0.3156435489654541, \"std\": 0.09387960284948349}, {\"time\": 8.0, \"variable\": \"TA\", \"mean\": -0.2795311212539673, \"std\": 0.09334728121757507}, {\"time\": 9.0, \"variable\": \"TA\", \"mean\": -0.26999998092651367, \"std\": 0.0}, {\"time\": 10.0, \"variable\": \"TA\", \"mean\": -0.23000001907348633, \"std\": 0.0}, {\"time\": 12.0, \"variable\": \"TA\", \"mean\": -0.23283755779266357, \"std\": 0.09013935923576355}, {\"time\": 18.0, \"variable\": \"TA\", \"mean\": -0.029999971389770508, \"std\": 0.0}, {\"time\": 20.0, \"variable\": \"TA\", \"mean\": 0.09023892879486084, \"std\": 0.08969449251890182}, {\"time\": 22.0, \"variable\": \"TA\", \"mean\": 0.2100001573562622, \"std\": 0.0}, {\"time\": 28.0, \"variable\": \"TA\", \"mean\": 0.49000000953674316, \"std\": 0.0}, {\"time\": 29.0, \"variable\": \"TA\", \"mean\": 0.4981398582458496, \"std\": 0.09249011427164078}, {\"time\": 31.0, \"variable\": \"TA\", \"mean\": 0.6324523091316223, \"std\": 0.09545125812292099}, {\"time\": 32.0, \"variable\": \"TA\", \"mean\": 0.7419348955154419, \"std\": 0.09616344422101974}, {\"time\": 33.0, \"variable\": \"TA\", \"mean\": 0.7699999809265137, \"std\": 0.0}, {\"time\": 34.0, \"variable\": \"TA\", \"mean\": 1.051453948020935, \"std\": 0.09515377879142761}, {\"time\": 35.0, \"variable\": \"TA\", \"mean\": 1.2445025444030762, \"std\": 0.0936129242181778}, {\"time\": 40.0, \"variable\": \"TA\", \"mean\": 2.2485456466674805, \"std\": 0.09225723892450333}, {\"time\": 42.0, \"variable\": \"TA\", \"mean\": 2.490116596221924, \"std\": 0.09334638714790344}, {\"time\": 43.0, \"variable\": \"TA\", \"mean\": 2.549283027648926, \"std\": 0.09314656257629395}, {\"time\": 47.0, \"variable\": \"TA\", \"mean\": 2.362015724182129, \"std\": 0.09331683814525604}, {\"time\": 48.0, \"variable\": \"TA\", \"mean\": 2.227715253829956, \"std\": 0.09415651112794876}, {\"time\": 50.0, \"variable\": \"TA\", \"mean\": 1.9057631492614746, \"std\": 0.09581393748521805}, {\"time\": 52.0, \"variable\": \"TA\", \"mean\": 1.5726183652877808, \"std\": 0.0972895547747612}, {\"time\": 53.0, \"variable\": \"TA\", \"mean\": 1.4216766357421875, \"std\": 0.09794791042804718}, {\"time\": 55.0, \"variable\": \"TA\", \"mean\": 1.171525239944458, \"std\": 0.09828745573759079}, {\"time\": 56.0, \"variable\": \"TA\", \"mean\": 1.0719162225723267, \"std\": 0.09752382338047028}, {\"time\": 57.0, \"variable\": \"TA\", \"mean\": 0.984045684337616, \"std\": 0.09616006910800934}, {\"time\": 58.0, \"variable\": \"TA\", \"mean\": 0.8100000023841858, \"std\": 0.0}, {\"time\": 59.0, \"variable\": \"TA\", \"mean\": 0.7900000214576721, \"std\": 0.0}, {\"time\": 60.0, \"variable\": \"TA\", \"mean\": 0.7334702610969543, \"std\": 0.09128078073263168}, {\"time\": 63.0, \"variable\": \"TA\", \"mean\": 0.49000000953674316, \"std\": 0.0}, {\"time\": 65.0, \"variable\": \"TA\", \"mean\": 0.25, \"std\": 0.0}, {\"time\": 69.0, \"variable\": \"TA\", \"mean\": 0.5291275978088379, \"std\": 0.09270936995744705}, {\"time\": 70.0, \"variable\": \"TA\", \"mean\": 0.6804684400558472, \"std\": 0.0935545489192009}, {\"time\": 72.0, \"variable\": \"TA\", \"mean\": 1.0055909156799316, \"std\": 0.09350631386041641}, {\"time\": 73.0, \"variable\": \"TA\", \"mean\": 1.0499999523162842, \"std\": 0.0}, {\"time\": 74.0, \"variable\": \"TA\", \"mean\": 1.2198846340179443, \"std\": 0.09186255931854248}, {\"time\": 75.0, \"variable\": \"TA\", \"mean\": 1.409999966621399, \"std\": 0.0}, {\"time\": 76.0, \"variable\": \"TA\", \"mean\": 1.5399999618530273, \"std\": 0.0}, {\"time\": 77.0, \"variable\": \"TA\", \"mean\": 1.0800000429153442, \"std\": 0.0}, {\"time\": 78.0, \"variable\": \"TA\", \"mean\": 0.9703729748725891, \"std\": 0.08996801823377609}, {\"time\": 83.0, \"variable\": \"TA\", \"mean\": 0.38999998569488525, \"std\": 0.0}, {\"time\": 87.0, \"variable\": \"TA\", \"mean\": 0.6762802004814148, \"std\": 0.09027547389268875}, {\"time\": 90.0, \"variable\": \"TA\", \"mean\": 0.866826593875885, \"std\": 0.09059704840183258}, {\"time\": 93.0, \"variable\": \"TA\", \"mean\": 0.6299999952316284, \"std\": 0.0}, {\"time\": 94.0, \"variable\": \"TA\", \"mean\": 0.5920475125312805, \"std\": 0.0899614691734314}, {\"time\": 97.0, \"variable\": \"TA\", \"mean\": 0.28999996185302734, \"std\": 0.0}, {\"time\": 99.0, \"variable\": \"TA\", \"mean\": 0.33755481243133545, \"std\": 0.09271589666604996}, {\"time\": 100.0, \"variable\": \"TA\", \"mean\": 0.40450048446655273, \"std\": 0.09354737401008606}, {\"time\": 102.0, \"variable\": \"TA\", \"mean\": 0.6389604806900024, \"std\": 0.09360285848379135}, {\"time\": 104.0, \"variable\": \"TA\", \"mean\": 0.9386919140815735, \"std\": 0.0917297899723053}, {\"time\": 105.0, \"variable\": \"TA\", \"mean\": 1.090000033378601, \"std\": 0.0}, {\"time\": 106.0, \"variable\": \"TA\", \"mean\": 1.1799999475479126, \"std\": 0.0}, {\"time\": 108.0, \"variable\": \"TA\", \"mean\": 1.4199999570846558, \"std\": 0.0}, {\"time\": 109.0, \"variable\": \"TA\", \"mean\": 1.5304913520812988, \"std\": 0.09110791981220245}, {\"time\": 111.0, \"variable\": \"TA\", \"mean\": 1.6677961349487305, \"std\": 0.09179992973804474}, {\"time\": 113.0, \"variable\": \"TA\", \"mean\": 1.8600000143051147, \"std\": 0.0}, {\"time\": 114.0, \"variable\": \"TA\", \"mean\": 1.8723641633987427, \"std\": 0.09054414927959442}, {\"time\": 115.0, \"variable\": \"TA\", \"mean\": 1.9500000476837158, \"std\": 0.0}, {\"time\": 117.0, \"variable\": \"TA\", \"mean\": 2.0999999046325684, \"std\": 0.0}, {\"time\": 119.0, \"variable\": \"TA\", \"mean\": 2.3915138244628906, \"std\": 0.09205823391675949}, {\"time\": 121.0, \"variable\": \"TA\", \"mean\": 2.5808262825012207, \"std\": 0.0930502712726593}, {\"time\": 122.0, \"variable\": \"TA\", \"mean\": 2.6424074172973633, \"std\": 0.09285277128219604}, {\"time\": 124.0, \"variable\": \"TA\", \"mean\": 2.700000047683716, \"std\": 0.0}, {\"time\": 126.0, \"variable\": \"TA\", \"mean\": 2.584890365600586, \"std\": 0.09133700281381607}, {\"time\": 128.0, \"variable\": \"TA\", \"mean\": 2.4171695709228516, \"std\": 0.09255218505859375}, {\"time\": 130.0, \"variable\": \"TA\", \"mean\": 2.2200000286102295, \"std\": 0.0}, {\"time\": 131.0, \"variable\": \"TA\", \"mean\": 2.167830228805542, \"std\": 0.09480780363082886}, {\"time\": 132.0, \"variable\": \"TA\", \"mean\": 2.1127562522888184, \"std\": 0.09486842900514603}, {\"time\": 133.0, \"variable\": \"TA\", \"mean\": 2.0763204097747803, \"std\": 0.09445690363645554}, {\"time\": 136.0, \"variable\": \"TA\", \"mean\": 2.0569169521331787, \"std\": 0.0919351801276207}, {\"time\": 137.0, \"variable\": \"TA\", \"mean\": 2.109999895095825, \"std\": 0.0}, {\"time\": 139.0, \"variable\": \"TA\", \"mean\": 2.089296817779541, \"std\": 0.09034723043441772}, {\"time\": 143.0, \"variable\": \"TA\", \"mean\": 2.0999999046325684, \"std\": 0.0}, {\"time\": 144.0, \"variable\": \"TA\", \"mean\": 2.131103038787842, \"std\": 0.0913277119398117}, {\"time\": 145.0, \"variable\": \"TA\", \"mean\": 2.1440951824188232, \"std\": 0.09151984751224518}, {\"time\": 146.0, \"variable\": \"TA\", \"mean\": 2.130000114440918, \"std\": 0.0}, {\"time\": 149.0, \"variable\": \"TA\", \"mean\": 2.1905813217163086, \"std\": 0.09122101217508316}, {\"time\": 151.0, \"variable\": \"TA\", \"mean\": 2.177128314971924, \"std\": 0.09099642932415009}, {\"time\": 155.0, \"variable\": \"TA\", \"mean\": 2.0563364028930664, \"std\": 0.09111611545085907}, {\"time\": 157.0, \"variable\": \"TA\", \"mean\": 1.9943289756774902, \"std\": 0.09076938778162003}, {\"time\": 158.0, \"variable\": \"TA\", \"mean\": 2.069999933242798, \"std\": 0.0}, {\"time\": 162.0, \"variable\": \"TA\", \"mean\": 2.026059865951538, \"std\": 0.09080088138580322}, {\"time\": 164.0, \"variable\": \"TA\", \"mean\": 2.108448028564453, \"std\": 0.090755894780159}, {\"time\": 171.0, \"variable\": \"TA\", \"mean\": 2.4516398906707764, \"std\": 0.08960802853107452}, {\"time\": 176.0, \"variable\": \"TA\", \"mean\": 3.0399999618530273, \"std\": 0.0}, {\"time\": 177.0, \"variable\": \"TA\", \"mean\": 3.1600000858306885, \"std\": 0.0}, {\"time\": 179.0, \"variable\": \"TA\", \"mean\": 3.55356502532959, \"std\": 0.08970895409584045}, {\"time\": 181.0, \"variable\": \"TA\", \"mean\": 4.050000190734863, \"std\": 0.0}, {\"time\": 182.0, \"variable\": \"TA\", \"mean\": 4.21999979019165, \"std\": 0.0}, {\"time\": 183.0, \"variable\": \"TA\", \"mean\": 4.190000057220459, \"std\": 0.0}, {\"time\": 184.0, \"variable\": \"TA\", \"mean\": 4.4037275314331055, \"std\": 0.09251036494970322}, {\"time\": 185.0, \"variable\": \"TA\", \"mean\": 4.508324146270752, \"std\": 0.09310007095336914}, {\"time\": 186.0, \"variable\": \"TA\", \"mean\": 4.489999771118164, \"std\": 0.0}, {\"time\": 187.0, \"variable\": \"TA\", \"mean\": 4.637829780578613, \"std\": 0.09294114261865616}, {\"time\": 189.0, \"variable\": \"TA\", \"mean\": 4.820000171661377, \"std\": 0.0}, {\"time\": 190.0, \"variable\": \"TA\", \"mean\": 4.687994003295898, \"std\": 0.09164648503065109}, {\"time\": 192.0, \"variable\": \"TA\", \"mean\": 4.590000152587891, \"std\": 0.0}, {\"time\": 193.0, \"variable\": \"TA\", \"mean\": 4.682736873626709, \"std\": 0.09142474085092545}, {\"time\": 197.0, \"variable\": \"TA\", \"mean\": 4.648443698883057, \"std\": 0.09255945682525635}], \"data-a7d5702c85911f3dd2a3058a7f03a75f\": [{\"time\": 0.0, \"variable\": \"SW_IN\", \"value\": 0.0, \"is_missing\": false}, {\"time\": 1.0, \"variable\": \"SW_IN\", \"value\": 0.0, \"is_missing\": true}, {\"time\": 2.0, \"variable\": \"SW_IN\", \"value\": 0.0, \"is_missing\": false}, {\"time\": 3.0, \"variable\": \"SW_IN\", \"value\": 0.0, \"is_missing\": false}, {\"time\": 4.0, \"variable\": \"SW_IN\", \"value\": 0.0, \"is_missing\": false}, {\"time\": 5.0, \"variable\": \"SW_IN\", \"value\": 0.0, \"is_missing\": false}, {\"time\": 6.0, \"variable\": \"SW_IN\", \"value\": 0.0, \"is_missing\": false}, {\"time\": 7.0, \"variable\": \"SW_IN\", \"value\": 0.0, \"is_missing\": false}, {\"time\": 8.0, \"variable\": \"SW_IN\", \"value\": 0.0, \"is_missing\": true}, {\"time\": 9.0, \"variable\": \"SW_IN\", \"value\": 0.0, \"is_missing\": false}, {\"time\": 10.0, \"variable\": \"SW_IN\", \"value\": 0.0, \"is_missing\": false}, {\"time\": 11.0, \"variable\": \"SW_IN\", \"value\": 0.0, \"is_missing\": false}, {\"time\": 12.0, \"variable\": \"SW_IN\", \"value\": 0.0, \"is_missing\": false}, {\"time\": 13.0, \"variable\": \"SW_IN\", \"value\": 0.0, \"is_missing\": false}, {\"time\": 14.0, \"variable\": \"SW_IN\", \"value\": 0.0, \"is_missing\": false}, {\"time\": 15.0, \"variable\": \"SW_IN\", \"value\": 0.0, \"is_missing\": false}, {\"time\": 16.0, \"variable\": \"SW_IN\", \"value\": 0.45, \"is_missing\": false}, {\"time\": 17.0, \"variable\": \"SW_IN\", \"value\": 3.7, \"is_missing\": false}, {\"time\": 18.0, \"variable\": \"SW_IN\", \"value\": 7.26, \"is_missing\": true}, {\"time\": 19.0, \"variable\": \"SW_IN\", \"value\": 12.24, \"is_missing\": false}, {\"time\": 20.0, \"variable\": \"SW_IN\", \"value\": 16.51, \"is_missing\": true}, {\"time\": 21.0, \"variable\": \"SW_IN\", \"value\": 24.73, \"is_missing\": false}, {\"time\": 22.0, \"variable\": \"SW_IN\", \"value\": 47.42, \"is_missing\": false}, {\"time\": 23.0, \"variable\": \"SW_IN\", \"value\": 22.05, \"is_missing\": false}, {\"time\": 24.0, \"variable\": \"SW_IN\", \"value\": 18.86, \"is_missing\": false}, {\"time\": 25.0, \"variable\": \"SW_IN\", \"value\": 21.1, \"is_missing\": false}, {\"time\": 26.0, \"variable\": \"SW_IN\", \"value\": 28.87, \"is_missing\": false}, {\"time\": 27.0, \"variable\": \"SW_IN\", \"value\": 24.22, \"is_missing\": false}, {\"time\": 28.0, \"variable\": \"SW_IN\", \"value\": 24.35, \"is_missing\": false}, {\"time\": 29.0, \"variable\": \"SW_IN\", \"value\": 15.68, \"is_missing\": false}, {\"time\": 30.0, \"variable\": \"SW_IN\", \"value\": 8.09, \"is_missing\": false}, {\"time\": 31.0, \"variable\": \"SW_IN\", \"value\": 6.37, \"is_missing\": false}, {\"time\": 32.0, \"variable\": \"SW_IN\", \"value\": 1.72, \"is_missing\": false}, {\"time\": 33.0, \"variable\": \"SW_IN\", \"value\": 0.06, \"is_missing\": false}, {\"time\": 34.0, \"variable\": \"SW_IN\", \"value\": 0.0, \"is_missing\": true}, {\"time\": 35.0, \"variable\": \"SW_IN\", \"value\": 0.0, \"is_missing\": true}, {\"time\": 36.0, \"variable\": \"SW_IN\", \"value\": 0.0, \"is_missing\": false}, {\"time\": 37.0, \"variable\": \"SW_IN\", \"value\": 0.0, \"is_missing\": false}, {\"time\": 38.0, \"variable\": \"SW_IN\", \"value\": 0.0, \"is_missing\": false}, {\"time\": 39.0, \"variable\": \"SW_IN\", \"value\": 0.0, \"is_missing\": false}, {\"time\": 40.0, \"variable\": \"SW_IN\", \"value\": 0.0, \"is_missing\": false}, {\"time\": 41.0, \"variable\": \"SW_IN\", \"value\": 0.0, \"is_missing\": false}, {\"time\": 42.0, \"variable\": \"SW_IN\", \"value\": 0.0, \"is_missing\": true}, {\"time\": 43.0, \"variable\": \"SW_IN\", \"value\": 0.0, \"is_missing\": true}, {\"time\": 44.0, \"variable\": \"SW_IN\", \"value\": 0.0, \"is_missing\": false}, {\"time\": 45.0, \"variable\": \"SW_IN\", \"value\": 0.0, \"is_missing\": false}, {\"time\": 46.0, \"variable\": \"SW_IN\", \"value\": 0.0, \"is_missing\": false}, {\"time\": 47.0, \"variable\": \"SW_IN\", \"value\": 0.0, \"is_missing\": false}, {\"time\": 48.0, \"variable\": \"SW_IN\", \"value\": 0.0, \"is_missing\": true}, {\"time\": 49.0, \"variable\": \"SW_IN\", \"value\": 0.0, \"is_missing\": false}, {\"time\": 50.0, \"variable\": \"SW_IN\", \"value\": 0.0, \"is_missing\": false}, {\"time\": 51.0, \"variable\": \"SW_IN\", \"value\": 0.0, \"is_missing\": false}, {\"time\": 52.0, \"variable\": \"SW_IN\", \"value\": 0.0, \"is_missing\": false}, {\"time\": 53.0, \"variable\": \"SW_IN\", \"value\": 0.0, \"is_missing\": false}, {\"time\": 54.0, \"variable\": \"SW_IN\", \"value\": 0.0, \"is_missing\": false}, {\"time\": 55.0, \"variable\": \"SW_IN\", \"value\": 0.0, \"is_missing\": true}, {\"time\": 56.0, \"variable\": \"SW_IN\", \"value\": 0.0, \"is_missing\": false}, {\"time\": 57.0, \"variable\": \"SW_IN\", \"value\": 0.0, \"is_missing\": true}, {\"time\": 58.0, \"variable\": \"SW_IN\", \"value\": 0.0, \"is_missing\": true}, {\"time\": 59.0, \"variable\": \"SW_IN\", \"value\": 0.0, \"is_missing\": false}, {\"time\": 60.0, \"variable\": \"SW_IN\", \"value\": 0.0, \"is_missing\": false}, {\"time\": 61.0, \"variable\": \"SW_IN\", \"value\": 0.0, \"is_missing\": false}, {\"time\": 62.0, \"variable\": \"SW_IN\", \"value\": 0.0, \"is_missing\": false}, {\"time\": 63.0, \"variable\": \"SW_IN\", \"value\": 0.0, \"is_missing\": false}, {\"time\": 64.0, \"variable\": \"SW_IN\", \"value\": 4.27, \"is_missing\": false}, {\"time\": 65.0, \"variable\": \"SW_IN\", \"value\": 23.9, \"is_missing\": false}, {\"time\": 66.0, \"variable\": \"SW_IN\", \"value\": 50.61, \"is_missing\": false}, {\"time\": 67.0, \"variable\": \"SW_IN\", \"value\": 61.76, \"is_missing\": false}, {\"time\": 68.0, \"variable\": \"SW_IN\", \"value\": 125.24, \"is_missing\": false}, {\"time\": 69.0, \"variable\": \"SW_IN\", \"value\": 138.43, \"is_missing\": true}, {\"time\": 70.0, \"variable\": \"SW_IN\", \"value\": 177.5, \"is_missing\": true}, {\"time\": 71.0, \"variable\": \"SW_IN\", \"value\": 148.06, \"is_missing\": false}, {\"time\": 72.0, \"variable\": \"SW_IN\", \"value\": 122.37, \"is_missing\": true}, {\"time\": 73.0, \"variable\": \"SW_IN\", \"value\": 130.21, \"is_missing\": true}, {\"time\": 74.0, \"variable\": \"SW_IN\", \"value\": 124.73, \"is_missing\": true}, {\"time\": 75.0, \"variable\": \"SW_IN\", \"value\": 110.65, \"is_missing\": false}, {\"time\": 76.0, \"variable\": \"SW_IN\", \"value\": 57.81, \"is_missing\": true}, {\"time\": 77.0, \"variable\": \"SW_IN\", \"value\": 31.87, \"is_missing\": false}, {\"time\": 78.0, \"variable\": \"SW_IN\", \"value\": 19.89, \"is_missing\": true}, {\"time\": 79.0, \"variable\": \"SW_IN\", \"value\": 8.8, \"is_missing\": false}, {\"time\": 80.0, \"variable\": \"SW_IN\", \"value\": 1.78, \"is_missing\": false}, {\"time\": 81.0, \"variable\": \"SW_IN\", \"value\": 0.06, \"is_missing\": false}, {\"time\": 82.0, \"variable\": \"SW_IN\", \"value\": 0.0, \"is_missing\": false}, {\"time\": 83.0, \"variable\": \"SW_IN\", \"value\": 0.0, \"is_missing\": false}, {\"time\": 84.0, \"variable\": \"SW_IN\", \"value\": 0.0, \"is_missing\": false}, {\"time\": 85.0, \"variable\": \"SW_IN\", \"value\": 0.0, \"is_missing\": false}, {\"time\": 86.0, \"variable\": \"SW_IN\", \"value\": 0.0, \"is_missing\": false}, {\"time\": 87.0, \"variable\": \"SW_IN\", \"value\": 0.0, \"is_missing\": true}, {\"time\": 88.0, \"variable\": \"SW_IN\", \"value\": 0.0, \"is_missing\": false}, {\"time\": 89.0, \"variable\": \"SW_IN\", \"value\": 0.0, \"is_missing\": false}, {\"time\": 90.0, \"variable\": \"SW_IN\", \"value\": 0.0, \"is_missing\": true}, {\"time\": 91.0, \"variable\": \"SW_IN\", \"value\": 0.0, \"is_missing\": false}, {\"time\": 92.0, \"variable\": \"SW_IN\", \"value\": 0.0, \"is_missing\": false}, {\"time\": 93.0, \"variable\": \"SW_IN\", \"value\": 0.0, \"is_missing\": true}, {\"time\": 94.0, \"variable\": \"SW_IN\", \"value\": 0.0, \"is_missing\": true}, {\"time\": 95.0, \"variable\": \"SW_IN\", \"value\": 0.0, \"is_missing\": false}, {\"time\": 96.0, \"variable\": \"SW_IN\", \"value\": 0.0, \"is_missing\": false}, {\"time\": 97.0, \"variable\": \"SW_IN\", \"value\": 0.0, \"is_missing\": true}, {\"time\": 98.0, \"variable\": \"SW_IN\", \"value\": 0.0, \"is_missing\": false}, {\"time\": 99.0, \"variable\": \"SW_IN\", \"value\": 0.0, \"is_missing\": true}, {\"time\": 100.0, \"variable\": \"SW_IN\", \"value\": 0.0, \"is_missing\": false}, {\"time\": 101.0, \"variable\": \"SW_IN\", \"value\": 0.0, \"is_missing\": false}, {\"time\": 102.0, \"variable\": \"SW_IN\", \"value\": 0.0, \"is_missing\": true}, {\"time\": 103.0, \"variable\": \"SW_IN\", \"value\": 0.0, \"is_missing\": false}, {\"time\": 104.0, \"variable\": \"SW_IN\", \"value\": 0.0, \"is_missing\": true}, {\"time\": 105.0, \"variable\": \"SW_IN\", \"value\": 0.0, \"is_missing\": false}, {\"time\": 106.0, \"variable\": \"SW_IN\", \"value\": 0.0, \"is_missing\": false}, {\"time\": 107.0, \"variable\": \"SW_IN\", \"value\": 0.0, \"is_missing\": false}, {\"time\": 108.0, \"variable\": \"SW_IN\", \"value\": 0.0, \"is_missing\": true}, {\"time\": 109.0, \"variable\": \"SW_IN\", \"value\": 0.0, \"is_missing\": true}, {\"time\": 110.0, \"variable\": \"SW_IN\", \"value\": 0.0, \"is_missing\": false}, {\"time\": 111.0, \"variable\": \"SW_IN\", \"value\": 0.0, \"is_missing\": true}, {\"time\": 112.0, \"variable\": \"SW_IN\", \"value\": 1.4, \"is_missing\": false}, {\"time\": 113.0, \"variable\": \"SW_IN\", \"value\": 9.81, \"is_missing\": false}, {\"time\": 114.0, \"variable\": \"SW_IN\", \"value\": 25.05, \"is_missing\": false}, {\"time\": 115.0, \"variable\": \"SW_IN\", \"value\": 36.84, \"is_missing\": true}, {\"time\": 116.0, \"variable\": \"SW_IN\", \"value\": 80.63, \"is_missing\": false}, {\"time\": 117.0, \"variable\": \"SW_IN\", \"value\": 78.58, \"is_missing\": false}, {\"time\": 118.0, \"variable\": \"SW_IN\", \"value\": 77.25, \"is_missing\": false}, {\"time\": 119.0, \"variable\": \"SW_IN\", \"value\": 93.31, \"is_missing\": true}, {\"time\": 120.0, \"variable\": \"SW_IN\", \"value\": 114.08, \"is_missing\": false}, {\"time\": 121.0, \"variable\": \"SW_IN\", \"value\": 117.33, \"is_missing\": true}, {\"time\": 122.0, \"variable\": \"SW_IN\", \"value\": 109.82, \"is_missing\": true}, {\"time\": 123.0, \"variable\": \"SW_IN\", \"value\": 97.51, \"is_missing\": false}, {\"time\": 124.0, \"variable\": \"SW_IN\", \"value\": 74.64, \"is_missing\": true}, {\"time\": 125.0, \"variable\": \"SW_IN\", \"value\": 40.66, \"is_missing\": false}, {\"time\": 126.0, \"variable\": \"SW_IN\", \"value\": 32.06, \"is_missing\": true}, {\"time\": 127.0, \"variable\": \"SW_IN\", \"value\": 16.12, \"is_missing\": false}, {\"time\": 128.0, \"variable\": \"SW_IN\", \"value\": 3.76, \"is_missing\": true}, {\"time\": 129.0, \"variable\": \"SW_IN\", \"value\": 0.57, \"is_missing\": false}, {\"time\": 130.0, \"variable\": \"SW_IN\", \"value\": 0.0, \"is_missing\": false}, {\"time\": 131.0, \"variable\": \"SW_IN\", \"value\": 0.0, \"is_missing\": true}, {\"time\": 132.0, \"variable\": \"SW_IN\", \"value\": 0.0, \"is_missing\": true}, {\"time\": 133.0, \"variable\": \"SW_IN\", \"value\": 0.0, \"is_missing\": true}, {\"time\": 134.0, \"variable\": \"SW_IN\", \"value\": 0.0, \"is_missing\": false}, {\"time\": 135.0, \"variable\": \"SW_IN\", \"value\": 0.0, \"is_missing\": false}, {\"time\": 136.0, \"variable\": \"SW_IN\", \"value\": 0.0, \"is_missing\": false}, {\"time\": 137.0, \"variable\": \"SW_IN\", \"value\": 0.0, \"is_missing\": true}, {\"time\": 138.0, \"variable\": \"SW_IN\", \"value\": 0.0, \"is_missing\": false}, {\"time\": 139.0, \"variable\": \"SW_IN\", \"value\": 0.0, \"is_missing\": false}, {\"time\": 140.0, \"variable\": \"SW_IN\", \"value\": 0.0, \"is_missing\": false}, {\"time\": 141.0, \"variable\": \"SW_IN\", \"value\": 0.0, \"is_missing\": false}, {\"time\": 142.0, \"variable\": \"SW_IN\", \"value\": 0.0, \"is_missing\": false}, {\"time\": 143.0, \"variable\": \"SW_IN\", \"value\": 0.0, \"is_missing\": true}, {\"time\": 144.0, \"variable\": \"SW_IN\", \"value\": 0.0, \"is_missing\": false}, {\"time\": 145.0, \"variable\": \"SW_IN\", \"value\": 0.0, \"is_missing\": true}, {\"time\": 146.0, \"variable\": \"SW_IN\", \"value\": 0.0, \"is_missing\": false}, {\"time\": 147.0, \"variable\": \"SW_IN\", \"value\": 0.0, \"is_missing\": false}, {\"time\": 148.0, \"variable\": \"SW_IN\", \"value\": 0.0, \"is_missing\": false}, {\"time\": 149.0, \"variable\": \"SW_IN\", \"value\": 0.0, \"is_missing\": false}, {\"time\": 150.0, \"variable\": \"SW_IN\", \"value\": 0.0, \"is_missing\": false}, {\"time\": 151.0, \"variable\": \"SW_IN\", \"value\": 0.0, \"is_missing\": false}, {\"time\": 152.0, \"variable\": \"SW_IN\", \"value\": 0.0, \"is_missing\": false}, {\"time\": 153.0, \"variable\": \"SW_IN\", \"value\": 0.0, \"is_missing\": false}, {\"time\": 154.0, \"variable\": \"SW_IN\", \"value\": 0.0, \"is_missing\": false}, {\"time\": 155.0, \"variable\": \"SW_IN\", \"value\": 0.0, \"is_missing\": true}, {\"time\": 156.0, \"variable\": \"SW_IN\", \"value\": 0.0, \"is_missing\": false}, {\"time\": 157.0, \"variable\": \"SW_IN\", \"value\": 0.0, \"is_missing\": true}, {\"time\": 158.0, \"variable\": \"SW_IN\", \"value\": 0.0, \"is_missing\": false}, {\"time\": 159.0, \"variable\": \"SW_IN\", \"value\": 0.0, \"is_missing\": false}, {\"time\": 160.0, \"variable\": \"SW_IN\", \"value\": 0.32, \"is_missing\": false}, {\"time\": 161.0, \"variable\": \"SW_IN\", \"value\": 2.74, \"is_missing\": false}, {\"time\": 162.0, \"variable\": \"SW_IN\", \"value\": 8.41, \"is_missing\": true}, {\"time\": 163.0, \"variable\": \"SW_IN\", \"value\": 14.53, \"is_missing\": false}, {\"time\": 164.0, \"variable\": \"SW_IN\", \"value\": 16.83, \"is_missing\": false}, {\"time\": 165.0, \"variable\": \"SW_IN\", \"value\": 21.41, \"is_missing\": false}, {\"time\": 166.0, \"variable\": \"SW_IN\", \"value\": 28.68, \"is_missing\": false}, {\"time\": 167.0, \"variable\": \"SW_IN\", \"value\": 26.77, \"is_missing\": false}, {\"time\": 168.0, \"variable\": \"SW_IN\", \"value\": 24.35, \"is_missing\": false}, {\"time\": 169.0, \"variable\": \"SW_IN\", \"value\": 16.95, \"is_missing\": false}, {\"time\": 170.0, \"variable\": \"SW_IN\", \"value\": 25.88, \"is_missing\": false}, {\"time\": 171.0, \"variable\": \"SW_IN\", \"value\": 32.31, \"is_missing\": false}, {\"time\": 172.0, \"variable\": \"SW_IN\", \"value\": 27.21, \"is_missing\": false}, {\"time\": 173.0, \"variable\": \"SW_IN\", \"value\": 12.37, \"is_missing\": false}, {\"time\": 174.0, \"variable\": \"SW_IN\", \"value\": 8.99, \"is_missing\": false}, {\"time\": 175.0, \"variable\": \"SW_IN\", \"value\": 4.21, \"is_missing\": false}, {\"time\": 176.0, \"variable\": \"SW_IN\", \"value\": 0.96, \"is_missing\": true}, {\"time\": 177.0, \"variable\": \"SW_IN\", \"value\": 0.0, \"is_missing\": true}, {\"time\": 178.0, \"variable\": \"SW_IN\", \"value\": 0.0, \"is_missing\": false}, {\"time\": 179.0, \"variable\": \"SW_IN\", \"value\": 0.0, \"is_missing\": false}, {\"time\": 180.0, \"variable\": \"SW_IN\", \"value\": 0.0, \"is_missing\": false}, {\"time\": 181.0, \"variable\": \"SW_IN\", \"value\": 0.0, \"is_missing\": true}, {\"time\": 182.0, \"variable\": \"SW_IN\", \"value\": 0.0, \"is_missing\": false}, {\"time\": 183.0, \"variable\": \"SW_IN\", \"value\": 0.0, \"is_missing\": true}, {\"time\": 184.0, \"variable\": \"SW_IN\", \"value\": 0.0, \"is_missing\": true}, {\"time\": 185.0, \"variable\": \"SW_IN\", \"value\": 0.0, \"is_missing\": true}, {\"time\": 186.0, \"variable\": \"SW_IN\", \"value\": 0.0, \"is_missing\": false}, {\"time\": 187.0, \"variable\": \"SW_IN\", \"value\": 0.0, \"is_missing\": false}, {\"time\": 188.0, \"variable\": \"SW_IN\", \"value\": 0.0, \"is_missing\": false}, {\"time\": 189.0, \"variable\": \"SW_IN\", \"value\": 0.0, \"is_missing\": false}, {\"time\": 190.0, \"variable\": \"SW_IN\", \"value\": 0.0, \"is_missing\": false}, {\"time\": 191.0, \"variable\": \"SW_IN\", \"value\": 0.0, \"is_missing\": false}, {\"time\": 192.0, \"variable\": \"SW_IN\", \"value\": 0.0, \"is_missing\": true}, {\"time\": 193.0, \"variable\": \"SW_IN\", \"value\": 0.0, \"is_missing\": false}, {\"time\": 194.0, \"variable\": \"SW_IN\", \"value\": 0.0, \"is_missing\": false}, {\"time\": 195.0, \"variable\": \"SW_IN\", \"value\": 0.0, \"is_missing\": false}, {\"time\": 196.0, \"variable\": \"SW_IN\", \"value\": 0.0, \"is_missing\": false}, {\"time\": 197.0, \"variable\": \"SW_IN\", \"value\": 0.0, \"is_missing\": true}, {\"time\": 198.0, \"variable\": \"SW_IN\", \"value\": 0.0, \"is_missing\": false}, {\"time\": 199.0, \"variable\": \"SW_IN\", \"value\": 0.0, \"is_missing\": false}], \"data-01767868e0fafd0a5a10c45864a5c566\": [{\"time\": 0.0, \"variable\": \"SW_IN\", \"mean\": 0.0, \"std\": null}, {\"time\": 2.0, \"variable\": \"SW_IN\", \"mean\": 0.0, \"std\": null}, {\"time\": 3.0, \"variable\": \"SW_IN\", \"mean\": 0.0, \"std\": null}, {\"time\": 4.0, \"variable\": \"SW_IN\", \"mean\": 0.0, \"std\": null}, {\"time\": 11.0, \"variable\": \"SW_IN\", \"mean\": 0.0, \"std\": null}, {\"time\": 13.0, \"variable\": \"SW_IN\", \"mean\": 0.0, \"std\": null}, {\"time\": 14.0, \"variable\": \"SW_IN\", \"mean\": 0.0, \"std\": null}, {\"time\": 15.0, \"variable\": \"SW_IN\", \"mean\": 0.0, \"std\": null}, {\"time\": 16.0, \"variable\": \"SW_IN\", \"mean\": 0.45, \"std\": null}, {\"time\": 17.0, \"variable\": \"SW_IN\", \"mean\": 3.7, \"std\": null}, {\"time\": 19.0, \"variable\": \"SW_IN\", \"mean\": 12.24, \"std\": null}, {\"time\": 21.0, \"variable\": \"SW_IN\", \"mean\": 24.73, \"std\": null}, {\"time\": 23.0, \"variable\": \"SW_IN\", \"mean\": 22.05, \"std\": null}, {\"time\": 24.0, \"variable\": \"SW_IN\", \"mean\": 18.86, \"std\": null}, {\"time\": 25.0, \"variable\": \"SW_IN\", \"mean\": 21.1, \"std\": null}, {\"time\": 26.0, \"variable\": \"SW_IN\", \"mean\": 28.87, \"std\": null}, {\"time\": 27.0, \"variable\": \"SW_IN\", \"mean\": 24.22, \"std\": null}, {\"time\": 30.0, \"variable\": \"SW_IN\", \"mean\": 8.09, \"std\": null}, {\"time\": 36.0, \"variable\": \"SW_IN\", \"mean\": 0.0, \"std\": null}, {\"time\": 37.0, \"variable\": \"SW_IN\", \"mean\": 0.0, \"std\": null}, {\"time\": 38.0, \"variable\": \"SW_IN\", \"mean\": 0.0, \"std\": null}, {\"time\": 39.0, \"variable\": \"SW_IN\", \"mean\": 0.0, \"std\": null}, {\"time\": 41.0, \"variable\": \"SW_IN\", \"mean\": 0.0, \"std\": null}, {\"time\": 44.0, \"variable\": \"SW_IN\", \"mean\": 0.0, \"std\": null}, {\"time\": 45.0, \"variable\": \"SW_IN\", \"mean\": 0.0, \"std\": null}, {\"time\": 46.0, \"variable\": \"SW_IN\", \"mean\": 0.0, \"std\": null}, {\"time\": 49.0, \"variable\": \"SW_IN\", \"mean\": 0.0, \"std\": null}, {\"time\": 51.0, \"variable\": \"SW_IN\", \"mean\": 0.0, \"std\": null}, {\"time\": 54.0, \"variable\": \"SW_IN\", \"mean\": 0.0, \"std\": null}, {\"time\": 61.0, \"variable\": \"SW_IN\", \"mean\": 0.0, \"std\": null}, {\"time\": 62.0, \"variable\": \"SW_IN\", \"mean\": 0.0, \"std\": null}, {\"time\": 64.0, \"variable\": \"SW_IN\", \"mean\": 4.27, \"std\": null}, {\"time\": 66.0, \"variable\": \"SW_IN\", \"mean\": 50.61, \"std\": null}, {\"time\": 67.0, \"variable\": \"SW_IN\", \"mean\": 61.76, \"std\": null}, {\"time\": 68.0, \"variable\": \"SW_IN\", \"mean\": 125.24, \"std\": null}, {\"time\": 71.0, \"variable\": \"SW_IN\", \"mean\": 148.06, \"std\": null}, {\"time\": 79.0, \"variable\": \"SW_IN\", \"mean\": 8.8, \"std\": null}, {\"time\": 80.0, \"variable\": \"SW_IN\", \"mean\": 1.78, \"std\": null}, {\"time\": 81.0, \"variable\": \"SW_IN\", \"mean\": 0.06, \"std\": null}, {\"time\": 82.0, \"variable\": \"SW_IN\", \"mean\": 0.0, \"std\": null}, {\"time\": 84.0, \"variable\": \"SW_IN\", \"mean\": 0.0, \"std\": null}, {\"time\": 85.0, \"variable\": \"SW_IN\", \"mean\": 0.0, \"std\": null}, {\"time\": 86.0, \"variable\": \"SW_IN\", \"mean\": 0.0, \"std\": null}, {\"time\": 88.0, \"variable\": \"SW_IN\", \"mean\": 0.0, \"std\": null}, {\"time\": 89.0, \"variable\": \"SW_IN\", \"mean\": 0.0, \"std\": null}, {\"time\": 91.0, \"variable\": \"SW_IN\", \"mean\": 0.0, \"std\": null}, {\"time\": 92.0, \"variable\": \"SW_IN\", \"mean\": 0.0, \"std\": null}, {\"time\": 95.0, \"variable\": \"SW_IN\", \"mean\": 0.0, \"std\": null}, {\"time\": 96.0, \"variable\": \"SW_IN\", \"mean\": 0.0, \"std\": null}, {\"time\": 98.0, \"variable\": \"SW_IN\", \"mean\": 0.0, \"std\": null}, {\"time\": 101.0, \"variable\": \"SW_IN\", \"mean\": 0.0, \"std\": null}, {\"time\": 103.0, \"variable\": \"SW_IN\", \"mean\": 0.0, \"std\": null}, {\"time\": 107.0, \"variable\": \"SW_IN\", \"mean\": 0.0, \"std\": null}, {\"time\": 110.0, \"variable\": \"SW_IN\", \"mean\": 0.0, \"std\": null}, {\"time\": 112.0, \"variable\": \"SW_IN\", \"mean\": 1.4, \"std\": null}, {\"time\": 116.0, \"variable\": \"SW_IN\", \"mean\": 80.63, \"std\": null}, {\"time\": 118.0, \"variable\": \"SW_IN\", \"mean\": 77.25, \"std\": null}, {\"time\": 120.0, \"variable\": \"SW_IN\", \"mean\": 114.08, \"std\": null}, {\"time\": 123.0, \"variable\": \"SW_IN\", \"mean\": 97.51, \"std\": null}, {\"time\": 125.0, \"variable\": \"SW_IN\", \"mean\": 40.66, \"std\": null}, {\"time\": 127.0, \"variable\": \"SW_IN\", \"mean\": 16.12, \"std\": null}, {\"time\": 129.0, \"variable\": \"SW_IN\", \"mean\": 0.57, \"std\": null}, {\"time\": 134.0, \"variable\": \"SW_IN\", \"mean\": 0.0, \"std\": null}, {\"time\": 135.0, \"variable\": \"SW_IN\", \"mean\": 0.0, \"std\": null}, {\"time\": 138.0, \"variable\": \"SW_IN\", \"mean\": 0.0, \"std\": null}, {\"time\": 140.0, \"variable\": \"SW_IN\", \"mean\": 0.0, \"std\": null}, {\"time\": 141.0, \"variable\": \"SW_IN\", \"mean\": 0.0, \"std\": null}, {\"time\": 142.0, \"variable\": \"SW_IN\", \"mean\": 0.0, \"std\": null}, {\"time\": 147.0, \"variable\": \"SW_IN\", \"mean\": 0.0, \"std\": null}, {\"time\": 148.0, \"variable\": \"SW_IN\", \"mean\": 0.0, \"std\": null}, {\"time\": 150.0, \"variable\": \"SW_IN\", \"mean\": 0.0, \"std\": null}, {\"time\": 152.0, \"variable\": \"SW_IN\", \"mean\": 0.0, \"std\": null}, {\"time\": 153.0, \"variable\": \"SW_IN\", \"mean\": 0.0, \"std\": null}, {\"time\": 154.0, \"variable\": \"SW_IN\", \"mean\": 0.0, \"std\": null}, {\"time\": 156.0, \"variable\": \"SW_IN\", \"mean\": 0.0, \"std\": null}, {\"time\": 159.0, \"variable\": \"SW_IN\", \"mean\": 0.0, \"std\": null}, {\"time\": 160.0, \"variable\": \"SW_IN\", \"mean\": 0.32, \"std\": null}, {\"time\": 161.0, \"variable\": \"SW_IN\", \"mean\": 2.74, \"std\": null}, {\"time\": 163.0, \"variable\": \"SW_IN\", \"mean\": 14.53, \"std\": null}, {\"time\": 165.0, \"variable\": \"SW_IN\", \"mean\": 21.41, \"std\": null}, {\"time\": 166.0, \"variable\": \"SW_IN\", \"mean\": 28.68, \"std\": null}, {\"time\": 167.0, \"variable\": \"SW_IN\", \"mean\": 26.77, \"std\": null}, {\"time\": 168.0, \"variable\": \"SW_IN\", \"mean\": 24.35, \"std\": null}, {\"time\": 169.0, \"variable\": \"SW_IN\", \"mean\": 16.95, \"std\": null}, {\"time\": 170.0, \"variable\": \"SW_IN\", \"mean\": 25.88, \"std\": null}, {\"time\": 172.0, \"variable\": \"SW_IN\", \"mean\": 27.21, \"std\": null}, {\"time\": 173.0, \"variable\": \"SW_IN\", \"mean\": 12.37, \"std\": null}, {\"time\": 174.0, \"variable\": \"SW_IN\", \"mean\": 8.99, \"std\": null}, {\"time\": 175.0, \"variable\": \"SW_IN\", \"mean\": 4.21, \"std\": null}, {\"time\": 178.0, \"variable\": \"SW_IN\", \"mean\": 0.0, \"std\": null}, {\"time\": 180.0, \"variable\": \"SW_IN\", \"mean\": 0.0, \"std\": null}, {\"time\": 188.0, \"variable\": \"SW_IN\", \"mean\": 0.0, \"std\": null}, {\"time\": 191.0, \"variable\": \"SW_IN\", \"mean\": 0.0, \"std\": null}, {\"time\": 194.0, \"variable\": \"SW_IN\", \"mean\": 0.0, \"std\": null}, {\"time\": 195.0, \"variable\": \"SW_IN\", \"mean\": 0.0, \"std\": null}, {\"time\": 196.0, \"variable\": \"SW_IN\", \"mean\": 0.0, \"std\": null}, {\"time\": 198.0, \"variable\": \"SW_IN\", \"mean\": 0.0, \"std\": null}, {\"time\": 199.0, \"variable\": \"SW_IN\", \"mean\": 0.0, \"std\": null}, {\"time\": 1.0, \"variable\": \"SW_IN\", \"mean\": 13.987774848937988, \"std\": 27.517093658447266}, {\"time\": 5.0, \"variable\": \"SW_IN\", \"mean\": 0.0, \"std\": 0.0}, {\"time\": 6.0, \"variable\": \"SW_IN\", \"mean\": 0.0, \"std\": 0.0}, {\"time\": 7.0, \"variable\": \"SW_IN\", \"mean\": 0.0, \"std\": 0.0}, {\"time\": 8.0, \"variable\": \"SW_IN\", \"mean\": 13.753969192504883, \"std\": 27.51708984375}, {\"time\": 9.0, \"variable\": \"SW_IN\", \"mean\": 0.0, \"std\": 0.0}, {\"time\": 10.0, \"variable\": \"SW_IN\", \"mean\": 0.0, \"std\": 0.0}, {\"time\": 12.0, \"variable\": \"SW_IN\", \"mean\": 0.0, \"std\": 0.0}, {\"time\": 18.0, \"variable\": \"SW_IN\", \"mean\": 13.584160804748535, \"std\": 27.517080307006836}, {\"time\": 20.0, \"variable\": \"SW_IN\", \"mean\": 13.470171928405762, \"std\": 27.517080307006836}, {\"time\": 22.0, \"variable\": \"SW_IN\", \"mean\": 47.41999816894531, \"std\": 0.0}, {\"time\": 28.0, \"variable\": \"SW_IN\", \"mean\": 24.350000381469727, \"std\": 0.0}, {\"time\": 29.0, \"variable\": \"SW_IN\", \"mean\": 15.680000305175781, \"std\": 0.0}, {\"time\": 31.0, \"variable\": \"SW_IN\", \"mean\": 6.369999885559082, \"std\": 0.0}, {\"time\": 32.0, \"variable\": \"SW_IN\", \"mean\": 1.7200002670288086, \"std\": 0.0}, {\"time\": 33.0, \"variable\": \"SW_IN\", \"mean\": 0.06000041961669922, \"std\": 0.0}, {\"time\": 34.0, \"variable\": \"SW_IN\", \"mean\": 12.732436180114746, \"std\": 27.517091751098633}, {\"time\": 35.0, \"variable\": \"SW_IN\", \"mean\": 12.584285736083984, \"std\": 27.517091751098633}, {\"time\": 40.0, \"variable\": \"SW_IN\", \"mean\": 0.0, \"std\": 0.0}, {\"time\": 42.0, \"variable\": \"SW_IN\", \"mean\": 11.62829875946045, \"std\": 27.51708984375}, {\"time\": 43.0, \"variable\": \"SW_IN\", \"mean\": 11.582891464233398, \"std\": 27.51708984375}, {\"time\": 47.0, \"variable\": \"SW_IN\", \"mean\": 0.0, \"std\": 0.0}, {\"time\": 48.0, \"variable\": \"SW_IN\", \"mean\": 11.829681396484375, \"std\": 27.517093658447266}, {\"time\": 50.0, \"variable\": \"SW_IN\", \"mean\": 0.0, \"std\": 0.0}, {\"time\": 52.0, \"variable\": \"SW_IN\", \"mean\": 0.0, \"std\": 0.0}, {\"time\": 53.0, \"variable\": \"SW_IN\", \"mean\": 0.0, \"std\": 0.0}, {\"time\": 55.0, \"variable\": \"SW_IN\", \"mean\": 12.640303611755371, \"std\": 27.517101287841797}, {\"time\": 56.0, \"variable\": \"SW_IN\", \"mean\": 0.0, \"std\": 0.0}, {\"time\": 57.0, \"variable\": \"SW_IN\", \"mean\": 12.784184455871582, \"std\": 27.517093658447266}, {\"time\": 58.0, \"variable\": \"SW_IN\", \"mean\": 12.847113609313965, \"std\": 27.517093658447266}, {\"time\": 59.0, \"variable\": \"SW_IN\", \"mean\": 0.0, \"std\": 0.0}, {\"time\": 60.0, \"variable\": \"SW_IN\", \"mean\": 0.0, \"std\": 0.0}, {\"time\": 63.0, \"variable\": \"SW_IN\", \"mean\": 0.0, \"std\": 0.0}, {\"time\": 65.0, \"variable\": \"SW_IN\", \"mean\": 23.899999618530273, \"std\": 0.0}, {\"time\": 69.0, \"variable\": \"SW_IN\", \"mean\": 13.133313179016113, \"std\": 27.517087936401367}, {\"time\": 70.0, \"variable\": \"SW_IN\", \"mean\": 13.017165184020996, \"std\": 27.517087936401367}, {\"time\": 72.0, \"variable\": \"SW_IN\", \"mean\": 12.767662048339844, \"std\": 27.517091751098633}, {\"time\": 73.0, \"variable\": \"SW_IN\", \"mean\": 12.6673002243042, \"std\": 27.517087936401367}, {\"time\": 74.0, \"variable\": \"SW_IN\", \"mean\": 12.603169441223145, \"std\": 27.5170841217041}, {\"time\": 75.0, \"variable\": \"SW_IN\", \"mean\": 110.6500015258789, \"std\": 0.0}, {\"time\": 76.0, \"variable\": \"SW_IN\", \"mean\": 12.614494323730469, \"std\": 27.51708221435547}, {\"time\": 77.0, \"variable\": \"SW_IN\", \"mean\": 31.8700008392334, \"std\": 0.0}, {\"time\": 78.0, \"variable\": \"SW_IN\", \"mean\": 12.794652938842773, \"std\": 27.51708221435547}, {\"time\": 83.0, \"variable\": \"SW_IN\", \"mean\": 0.0, \"std\": 0.0}, {\"time\": 87.0, \"variable\": \"SW_IN\", \"mean\": 13.020391464233398, \"std\": 27.51708221435547}, {\"time\": 90.0, \"variable\": \"SW_IN\", \"mean\": 12.874135971069336, \"std\": 27.51708221435547}, {\"time\": 93.0, \"variable\": \"SW_IN\", \"mean\": 13.002223014831543, \"std\": 27.51708221435547}, {\"time\": 94.0, \"variable\": \"SW_IN\", \"mean\": 13.085041046142578, \"std\": 27.51708221435547}, {\"time\": 97.0, \"variable\": \"SW_IN\", \"mean\": 13.283699989318848, \"std\": 27.5170841217041}, {\"time\": 99.0, \"variable\": \"SW_IN\", \"mean\": 13.280362129211426, \"std\": 27.517087936401367}, {\"time\": 100.0, \"variable\": \"SW_IN\", \"mean\": 0.0, \"std\": 0.0}, {\"time\": 102.0, \"variable\": \"SW_IN\", \"mean\": 13.049042701721191, \"std\": 27.517091751098633}, {\"time\": 104.0, \"variable\": \"SW_IN\", \"mean\": 12.818994522094727, \"std\": 27.517086029052734}, {\"time\": 105.0, \"variable\": \"SW_IN\", \"mean\": 0.0, \"std\": 0.0}, {\"time\": 106.0, \"variable\": \"SW_IN\", \"mean\": 0.0, \"std\": 0.0}, {\"time\": 108.0, \"variable\": \"SW_IN\", \"mean\": 12.430412292480469, \"std\": 27.51708221435547}, {\"time\": 109.0, \"variable\": \"SW_IN\", \"mean\": 12.364790916442871, \"std\": 27.51708221435547}, {\"time\": 111.0, \"variable\": \"SW_IN\", \"mean\": 12.259420394897461, \"std\": 27.5170841217041}, {\"time\": 113.0, \"variable\": \"SW_IN\", \"mean\": 9.8100004196167, \"std\": 0.0}, {\"time\": 114.0, \"variable\": \"SW_IN\", \"mean\": 25.049999237060547, \"std\": 0.0}, {\"time\": 115.0, \"variable\": \"SW_IN\", \"mean\": 12.036056518554688, \"std\": 27.51708221435547}, {\"time\": 117.0, \"variable\": \"SW_IN\", \"mean\": 78.58000183105469, \"std\": 0.0}, {\"time\": 119.0, \"variable\": \"SW_IN\", \"mean\": 11.703971862792969, \"std\": 27.517086029052734}, {\"time\": 121.0, \"variable\": \"SW_IN\", \"mean\": 11.558679580688477, \"std\": 27.51708984375}, {\"time\": 122.0, \"variable\": \"SW_IN\", \"mean\": 11.511411666870117, \"std\": 27.517087936401367}, {\"time\": 124.0, \"variable\": \"SW_IN\", \"mean\": 11.486989974975586, \"std\": 27.5170841217041}, {\"time\": 126.0, \"variable\": \"SW_IN\", \"mean\": 11.555561065673828, \"std\": 27.517087936401367}, {\"time\": 128.0, \"variable\": \"SW_IN\", \"mean\": 11.684283256530762, \"std\": 27.517087936401367}, {\"time\": 130.0, \"variable\": \"SW_IN\", \"mean\": 0.0, \"std\": 0.0}, {\"time\": 131.0, \"variable\": \"SW_IN\", \"mean\": 11.875650405883789, \"std\": 27.517093658447266}, {\"time\": 132.0, \"variable\": \"SW_IN\", \"mean\": 11.917914390563965, \"std\": 27.51708984375}, {\"time\": 133.0, \"variable\": \"SW_IN\", \"mean\": 11.945880889892578, \"std\": 27.51708984375}, {\"time\": 136.0, \"variable\": \"SW_IN\", \"mean\": 0.0, \"std\": 0.0}, {\"time\": 137.0, \"variable\": \"SW_IN\", \"mean\": 11.953056335449219, \"std\": 27.5170841217041}, {\"time\": 139.0, \"variable\": \"SW_IN\", \"mean\": 0.0, \"std\": 0.0}, {\"time\": 143.0, \"variable\": \"SW_IN\", \"mean\": 11.911855697631836, \"std\": 27.5170841217041}, {\"time\": 144.0, \"variable\": \"SW_IN\", \"mean\": 0.0, \"std\": 0.0}, {\"time\": 145.0, \"variable\": \"SW_IN\", \"mean\": 11.893860816955566, \"std\": 27.517086029052734}, {\"time\": 146.0, \"variable\": \"SW_IN\", \"mean\": 0.0, \"std\": 0.0}, {\"time\": 149.0, \"variable\": \"SW_IN\", \"mean\": 0.0, \"std\": 0.0}, {\"time\": 151.0, \"variable\": \"SW_IN\", \"mean\": 0.0, \"std\": 0.0}, {\"time\": 155.0, \"variable\": \"SW_IN\", \"mean\": 11.961224555969238, \"std\": 27.5170841217041}, {\"time\": 157.0, \"variable\": \"SW_IN\", \"mean\": 12.008819580078125, \"std\": 27.517080307006836}, {\"time\": 158.0, \"variable\": \"SW_IN\", \"mean\": 0.0, \"std\": 0.0}, {\"time\": 162.0, \"variable\": \"SW_IN\", \"mean\": 11.984460830688477, \"std\": 27.51708221435547}, {\"time\": 164.0, \"variable\": \"SW_IN\", \"mean\": 16.829999923706055, \"std\": 0.0}, {\"time\": 171.0, \"variable\": \"SW_IN\", \"mean\": 32.310001373291016, \"std\": 0.0}, {\"time\": 176.0, \"variable\": \"SW_IN\", \"mean\": 11.235252380371094, \"std\": 27.517080307006836}, {\"time\": 177.0, \"variable\": \"SW_IN\", \"mean\": 11.104134559631348, \"std\": 27.517080307006836}, {\"time\": 179.0, \"variable\": \"SW_IN\", \"mean\": 0.0, \"std\": 0.0}, {\"time\": 181.0, \"variable\": \"SW_IN\", \"mean\": 10.5157470703125, \"std\": 27.517086029052734}, {\"time\": 182.0, \"variable\": \"SW_IN\", \"mean\": 0.0, \"std\": 0.0}, {\"time\": 183.0, \"variable\": \"SW_IN\", \"mean\": 10.260580062866211, \"std\": 27.517087936401367}, {\"time\": 184.0, \"variable\": \"SW_IN\", \"mean\": 10.159611701965332, \"std\": 27.517087936401367}, {\"time\": 185.0, \"variable\": \"SW_IN\", \"mean\": 10.079355239868164, \"std\": 27.51708984375}, {\"time\": 186.0, \"variable\": \"SW_IN\", \"mean\": 0.0, \"std\": 0.0}, {\"time\": 187.0, \"variable\": \"SW_IN\", \"mean\": 0.0, \"std\": 0.0}, {\"time\": 189.0, \"variable\": \"SW_IN\", \"mean\": 0.0, \"std\": 0.0}, {\"time\": 190.0, \"variable\": \"SW_IN\", \"mean\": 0.0, \"std\": 0.0}, {\"time\": 192.0, \"variable\": \"SW_IN\", \"mean\": 9.944173812866211, \"std\": 27.5170841217041}, {\"time\": 193.0, \"variable\": \"SW_IN\", \"mean\": 0.0, \"std\": 0.0}, {\"time\": 197.0, \"variable\": \"SW_IN\", \"mean\": 9.971808433532715, \"std\": 27.51708984375}], \"data-7f7830a0c96b8c4fb62f33111a13b26b\": [{\"time\": 0.0, \"variable\": \"LW_IN\", \"value\": 302.475, \"is_missing\": false}, {\"time\": 1.0, \"variable\": \"LW_IN\", \"value\": 302.475, \"is_missing\": true}, {\"time\": 2.0, \"variable\": \"LW_IN\", \"value\": 301.677, \"is_missing\": false}, {\"time\": 3.0, \"variable\": \"LW_IN\", \"value\": 301.677, \"is_missing\": false}, {\"time\": 4.0, \"variable\": \"LW_IN\", \"value\": 301.677, \"is_missing\": false}, {\"time\": 5.0, \"variable\": \"LW_IN\", \"value\": 301.677, \"is_missing\": false}, {\"time\": 6.0, \"variable\": \"LW_IN\", \"value\": 301.677, \"is_missing\": false}, {\"time\": 7.0, \"variable\": \"LW_IN\", \"value\": 301.677, \"is_missing\": false}, {\"time\": 8.0, \"variable\": \"LW_IN\", \"value\": 308.046, \"is_missing\": true}, {\"time\": 9.0, \"variable\": \"LW_IN\", \"value\": 308.046, \"is_missing\": false}, {\"time\": 10.0, \"variable\": \"LW_IN\", \"value\": 308.046, \"is_missing\": true}, {\"time\": 11.0, \"variable\": \"LW_IN\", \"value\": 308.046, \"is_missing\": false}, {\"time\": 12.0, \"variable\": \"LW_IN\", \"value\": 308.046, \"is_missing\": false}, {\"time\": 13.0, \"variable\": \"LW_IN\", \"value\": 308.046, \"is_missing\": false}, {\"time\": 14.0, \"variable\": \"LW_IN\", \"value\": 316.925, \"is_missing\": false}, {\"time\": 15.0, \"variable\": \"LW_IN\", \"value\": 316.925, \"is_missing\": false}, {\"time\": 16.0, \"variable\": \"LW_IN\", \"value\": 316.925, \"is_missing\": false}, {\"time\": 17.0, \"variable\": \"LW_IN\", \"value\": 316.925, \"is_missing\": false}, {\"time\": 18.0, \"variable\": \"LW_IN\", \"value\": 316.925, \"is_missing\": false}, {\"time\": 19.0, \"variable\": \"LW_IN\", \"value\": 316.925, \"is_missing\": false}, {\"time\": 20.0, \"variable\": \"LW_IN\", \"value\": 321.15, \"is_missing\": true}, {\"time\": 21.0, \"variable\": \"LW_IN\", \"value\": 321.15, \"is_missing\": false}, {\"time\": 22.0, \"variable\": \"LW_IN\", \"value\": 321.15, \"is_missing\": false}, {\"time\": 23.0, \"variable\": \"LW_IN\", \"value\": 321.15, \"is_missing\": false}, {\"time\": 24.0, \"variable\": \"LW_IN\", \"value\": 321.15, \"is_missing\": false}, {\"time\": 25.0, \"variable\": \"LW_IN\", \"value\": 321.15, \"is_missing\": false}, {\"time\": 26.0, \"variable\": \"LW_IN\", \"value\": 323.062, \"is_missing\": false}, {\"time\": 27.0, \"variable\": \"LW_IN\", \"value\": 323.062, \"is_missing\": false}, {\"time\": 28.0, \"variable\": \"LW_IN\", \"value\": 323.062, \"is_missing\": false}, {\"time\": 29.0, \"variable\": \"LW_IN\", \"value\": 323.062, \"is_missing\": false}, {\"time\": 30.0, \"variable\": \"LW_IN\", \"value\": 323.062, \"is_missing\": false}, {\"time\": 31.0, \"variable\": \"LW_IN\", \"value\": 323.062, \"is_missing\": false}, {\"time\": 32.0, \"variable\": \"LW_IN\", \"value\": 328.053, \"is_missing\": false}, {\"time\": 33.0, \"variable\": \"LW_IN\", \"value\": 328.053, \"is_missing\": false}, {\"time\": 34.0, \"variable\": \"LW_IN\", \"value\": 328.053, \"is_missing\": true}, {\"time\": 35.0, \"variable\": \"LW_IN\", \"value\": 328.053, \"is_missing\": true}, {\"time\": 36.0, \"variable\": \"LW_IN\", \"value\": 328.053, \"is_missing\": false}, {\"time\": 37.0, \"variable\": \"LW_IN\", \"value\": 328.053, \"is_missing\": false}, {\"time\": 38.0, \"variable\": \"LW_IN\", \"value\": 329.365, \"is_missing\": false}, {\"time\": 39.0, \"variable\": \"LW_IN\", \"value\": 329.365, \"is_missing\": false}, {\"time\": 40.0, \"variable\": \"LW_IN\", \"value\": 329.365, \"is_missing\": false}, {\"time\": 41.0, \"variable\": \"LW_IN\", \"value\": 329.365, \"is_missing\": false}, {\"time\": 42.0, \"variable\": \"LW_IN\", \"value\": 329.365, \"is_missing\": true}, {\"time\": 43.0, \"variable\": \"LW_IN\", \"value\": 329.365, \"is_missing\": true}, {\"time\": 44.0, \"variable\": \"LW_IN\", \"value\": 297.593, \"is_missing\": false}, {\"time\": 45.0, \"variable\": \"LW_IN\", \"value\": 297.593, \"is_missing\": false}, {\"time\": 46.0, \"variable\": \"LW_IN\", \"value\": 297.593, \"is_missing\": false}, {\"time\": 47.0, \"variable\": \"LW_IN\", \"value\": 297.593, \"is_missing\": false}, {\"time\": 48.0, \"variable\": \"LW_IN\", \"value\": 297.593, \"is_missing\": true}, {\"time\": 49.0, \"variable\": \"LW_IN\", \"value\": 297.593, \"is_missing\": false}, {\"time\": 50.0, \"variable\": \"LW_IN\", \"value\": 277.157, \"is_missing\": false}, {\"time\": 51.0, \"variable\": \"LW_IN\", \"value\": 277.157, \"is_missing\": false}, {\"time\": 52.0, \"variable\": \"LW_IN\", \"value\": 277.157, \"is_missing\": false}, {\"time\": 53.0, \"variable\": \"LW_IN\", \"value\": 277.157, \"is_missing\": false}, {\"time\": 54.0, \"variable\": \"LW_IN\", \"value\": 277.157, \"is_missing\": false}, {\"time\": 55.0, \"variable\": \"LW_IN\", \"value\": 277.157, \"is_missing\": true}, {\"time\": 56.0, \"variable\": \"LW_IN\", \"value\": 266.713, \"is_missing\": false}, {\"time\": 57.0, \"variable\": \"LW_IN\", \"value\": 266.713, \"is_missing\": true}, {\"time\": 58.0, \"variable\": \"LW_IN\", \"value\": 266.713, \"is_missing\": false}, {\"time\": 59.0, \"variable\": \"LW_IN\", \"value\": 266.713, \"is_missing\": true}, {\"time\": 60.0, \"variable\": \"LW_IN\", \"value\": 266.713, \"is_missing\": false}, {\"time\": 61.0, \"variable\": \"LW_IN\", \"value\": 266.713, \"is_missing\": false}, {\"time\": 62.0, \"variable\": \"LW_IN\", \"value\": 259.213, \"is_missing\": false}, {\"time\": 63.0, \"variable\": \"LW_IN\", \"value\": 259.213, \"is_missing\": true}, {\"time\": 64.0, \"variable\": \"LW_IN\", \"value\": 259.213, \"is_missing\": false}, {\"time\": 65.0, \"variable\": \"LW_IN\", \"value\": 259.213, \"is_missing\": false}, {\"time\": 66.0, \"variable\": \"LW_IN\", \"value\": 259.213, \"is_missing\": false}, {\"time\": 67.0, \"variable\": \"LW_IN\", \"value\": 259.213, \"is_missing\": false}, {\"time\": 68.0, \"variable\": \"LW_IN\", \"value\": 265.357, \"is_missing\": false}, {\"time\": 69.0, \"variable\": \"LW_IN\", \"value\": 265.357, \"is_missing\": true}, {\"time\": 70.0, \"variable\": \"LW_IN\", \"value\": 265.357, \"is_missing\": true}, {\"time\": 71.0, \"variable\": \"LW_IN\", \"value\": 265.357, \"is_missing\": false}, {\"time\": 72.0, \"variable\": \"LW_IN\", \"value\": 265.357, \"is_missing\": true}, {\"time\": 73.0, \"variable\": \"LW_IN\", \"value\": 265.357, \"is_missing\": false}, {\"time\": 74.0, \"variable\": \"LW_IN\", \"value\": 279.492, \"is_missing\": true}, {\"time\": 75.0, \"variable\": \"LW_IN\", \"value\": 279.492, \"is_missing\": false}, {\"time\": 76.0, \"variable\": \"LW_IN\", \"value\": 279.492, \"is_missing\": false}, {\"time\": 77.0, \"variable\": \"LW_IN\", \"value\": 279.492, \"is_missing\": false}, {\"time\": 78.0, \"variable\": \"LW_IN\", \"value\": 279.492, \"is_missing\": true}, {\"time\": 79.0, \"variable\": \"LW_IN\", \"value\": 279.492, \"is_missing\": false}, {\"time\": 80.0, \"variable\": \"LW_IN\", \"value\": 284.641, \"is_missing\": false}, {\"time\": 81.0, \"variable\": \"LW_IN\", \"value\": 284.641, \"is_missing\": false}, {\"time\": 82.0, \"variable\": \"LW_IN\", \"value\": 284.641, \"is_missing\": false}, {\"time\": 83.0, \"variable\": \"LW_IN\", \"value\": 284.641, \"is_missing\": true}, {\"time\": 84.0, \"variable\": \"LW_IN\", \"value\": 284.641, \"is_missing\": false}, {\"time\": 85.0, \"variable\": \"LW_IN\", \"value\": 284.641, \"is_missing\": false}, {\"time\": 86.0, \"variable\": \"LW_IN\", \"value\": 290.004, \"is_missing\": false}, {\"time\": 87.0, \"variable\": \"LW_IN\", \"value\": 290.004, \"is_missing\": true}, {\"time\": 88.0, \"variable\": \"LW_IN\", \"value\": 290.004, \"is_missing\": false}, {\"time\": 89.0, \"variable\": \"LW_IN\", \"value\": 290.004, \"is_missing\": false}, {\"time\": 90.0, \"variable\": \"LW_IN\", \"value\": 290.004, \"is_missing\": true}, {\"time\": 91.0, \"variable\": \"LW_IN\", \"value\": 290.004, \"is_missing\": false}, {\"time\": 92.0, \"variable\": \"LW_IN\", \"value\": 300.274, \"is_missing\": false}, {\"time\": 93.0, \"variable\": \"LW_IN\", \"value\": 300.274, \"is_missing\": false}, {\"time\": 94.0, \"variable\": \"LW_IN\", \"value\": 300.274, \"is_missing\": true}, {\"time\": 95.0, \"variable\": \"LW_IN\", \"value\": 300.274, \"is_missing\": false}, {\"time\": 96.0, \"variable\": \"LW_IN\", \"value\": 300.274, \"is_missing\": false}, {\"time\": 97.0, \"variable\": \"LW_IN\", \"value\": 300.274, \"is_missing\": false}, {\"time\": 98.0, \"variable\": \"LW_IN\", \"value\": 304.148, \"is_missing\": false}, {\"time\": 99.0, \"variable\": \"LW_IN\", \"value\": 304.148, \"is_missing\": true}, {\"time\": 100.0, \"variable\": \"LW_IN\", \"value\": 304.148, \"is_missing\": false}, {\"time\": 101.0, \"variable\": \"LW_IN\", \"value\": 304.148, \"is_missing\": false}, {\"time\": 102.0, \"variable\": \"LW_IN\", \"value\": 304.148, \"is_missing\": true}, {\"time\": 103.0, \"variable\": \"LW_IN\", \"value\": 304.148, \"is_missing\": false}, {\"time\": 104.0, \"variable\": \"LW_IN\", \"value\": 304.382, \"is_missing\": true}, {\"time\": 105.0, \"variable\": \"LW_IN\", \"value\": 304.382, \"is_missing\": true}, {\"time\": 106.0, \"variable\": \"LW_IN\", \"value\": 304.382, \"is_missing\": false}, {\"time\": 107.0, \"variable\": \"LW_IN\", \"value\": 304.382, \"is_missing\": false}, {\"time\": 108.0, \"variable\": \"LW_IN\", \"value\": 304.382, \"is_missing\": false}, {\"time\": 109.0, \"variable\": \"LW_IN\", \"value\": 304.382, \"is_missing\": true}, {\"time\": 110.0, \"variable\": \"LW_IN\", \"value\": 298.069, \"is_missing\": false}, {\"time\": 111.0, \"variable\": \"LW_IN\", \"value\": 298.069, \"is_missing\": true}, {\"time\": 112.0, \"variable\": \"LW_IN\", \"value\": 298.069, \"is_missing\": false}, {\"time\": 113.0, \"variable\": \"LW_IN\", \"value\": 298.069, \"is_missing\": false}, {\"time\": 114.0, \"variable\": \"LW_IN\", \"value\": 298.069, \"is_missing\": false}, {\"time\": 115.0, \"variable\": \"LW_IN\", \"value\": 298.069, \"is_missing\": false}, {\"time\": 116.0, \"variable\": \"LW_IN\", \"value\": 297.189, \"is_missing\": false}, {\"time\": 117.0, \"variable\": \"LW_IN\", \"value\": 297.189, \"is_missing\": true}, {\"time\": 118.0, \"variable\": \"LW_IN\", \"value\": 297.189, \"is_missing\": false}, {\"time\": 119.0, \"variable\": \"LW_IN\", \"value\": 297.189, \"is_missing\": true}, {\"time\": 120.0, \"variable\": \"LW_IN\", \"value\": 297.189, \"is_missing\": false}, {\"time\": 121.0, \"variable\": \"LW_IN\", \"value\": 297.189, \"is_missing\": true}, {\"time\": 122.0, \"variable\": \"LW_IN\", \"value\": 291.71, \"is_missing\": true}, {\"time\": 123.0, \"variable\": \"LW_IN\", \"value\": 291.71, \"is_missing\": false}, {\"time\": 124.0, \"variable\": \"LW_IN\", \"value\": 291.71, \"is_missing\": false}, {\"time\": 125.0, \"variable\": \"LW_IN\", \"value\": 291.71, \"is_missing\": false}, {\"time\": 126.0, \"variable\": \"LW_IN\", \"value\": 291.71, \"is_missing\": true}, {\"time\": 127.0, \"variable\": \"LW_IN\", \"value\": 291.71, \"is_missing\": false}, {\"time\": 128.0, \"variable\": \"LW_IN\", \"value\": 310.192, \"is_missing\": true}, {\"time\": 129.0, \"variable\": \"LW_IN\", \"value\": 310.192, \"is_missing\": false}, {\"time\": 130.0, \"variable\": \"LW_IN\", \"value\": 310.192, \"is_missing\": true}, {\"time\": 131.0, \"variable\": \"LW_IN\", \"value\": 310.192, \"is_missing\": true}, {\"time\": 132.0, \"variable\": \"LW_IN\", \"value\": 310.192, \"is_missing\": true}, {\"time\": 133.0, \"variable\": \"LW_IN\", \"value\": 310.192, \"is_missing\": true}, {\"time\": 134.0, \"variable\": \"LW_IN\", \"value\": 317.262, \"is_missing\": false}, {\"time\": 135.0, \"variable\": \"LW_IN\", \"value\": 317.262, \"is_missing\": false}, {\"time\": 136.0, \"variable\": \"LW_IN\", \"value\": 317.262, \"is_missing\": false}, {\"time\": 137.0, \"variable\": \"LW_IN\", \"value\": 317.262, \"is_missing\": false}, {\"time\": 138.0, \"variable\": \"LW_IN\", \"value\": 317.262, \"is_missing\": false}, {\"time\": 139.0, \"variable\": \"LW_IN\", \"value\": 317.262, \"is_missing\": true}, {\"time\": 140.0, \"variable\": \"LW_IN\", \"value\": 310.161, \"is_missing\": false}, {\"time\": 141.0, \"variable\": \"LW_IN\", \"value\": 310.161, \"is_missing\": false}, {\"time\": 142.0, \"variable\": \"LW_IN\", \"value\": 310.161, \"is_missing\": false}, {\"time\": 143.0, \"variable\": \"LW_IN\", \"value\": 310.161, \"is_missing\": false}, {\"time\": 144.0, \"variable\": \"LW_IN\", \"value\": 310.161, \"is_missing\": false}, {\"time\": 145.0, \"variable\": \"LW_IN\", \"value\": 310.161, \"is_missing\": true}, {\"time\": 146.0, \"variable\": \"LW_IN\", \"value\": 304.731, \"is_missing\": true}, {\"time\": 147.0, \"variable\": \"LW_IN\", \"value\": 304.731, \"is_missing\": false}, {\"time\": 148.0, \"variable\": \"LW_IN\", \"value\": 304.731, \"is_missing\": false}, {\"time\": 149.0, \"variable\": \"LW_IN\", \"value\": 304.731, \"is_missing\": false}, {\"time\": 150.0, \"variable\": \"LW_IN\", \"value\": 304.731, \"is_missing\": false}, {\"time\": 151.0, \"variable\": \"LW_IN\", \"value\": 304.731, \"is_missing\": false}, {\"time\": 152.0, \"variable\": \"LW_IN\", \"value\": 315.005, \"is_missing\": false}, {\"time\": 153.0, \"variable\": \"LW_IN\", \"value\": 315.005, \"is_missing\": false}, {\"time\": 154.0, \"variable\": \"LW_IN\", \"value\": 315.005, \"is_missing\": false}, {\"time\": 155.0, \"variable\": \"LW_IN\", \"value\": 315.005, \"is_missing\": true}, {\"time\": 156.0, \"variable\": \"LW_IN\", \"value\": 315.005, \"is_missing\": false}, {\"time\": 157.0, \"variable\": \"LW_IN\", \"value\": 315.005, \"is_missing\": true}, {\"time\": 158.0, \"variable\": \"LW_IN\", \"value\": 324.325, \"is_missing\": false}, {\"time\": 159.0, \"variable\": \"LW_IN\", \"value\": 324.325, \"is_missing\": false}, {\"time\": 160.0, \"variable\": \"LW_IN\", \"value\": 324.325, \"is_missing\": false}, {\"time\": 161.0, \"variable\": \"LW_IN\", \"value\": 324.325, \"is_missing\": false}, {\"time\": 162.0, \"variable\": \"LW_IN\", \"value\": 324.325, \"is_missing\": true}, {\"time\": 163.0, \"variable\": \"LW_IN\", \"value\": 324.325, \"is_missing\": false}, {\"time\": 164.0, \"variable\": \"LW_IN\", \"value\": 330.105, \"is_missing\": false}, {\"time\": 165.0, \"variable\": \"LW_IN\", \"value\": 330.105, \"is_missing\": false}, {\"time\": 166.0, \"variable\": \"LW_IN\", \"value\": 330.105, \"is_missing\": false}, {\"time\": 167.0, \"variable\": \"LW_IN\", \"value\": 330.105, \"is_missing\": false}, {\"time\": 168.0, \"variable\": \"LW_IN\", \"value\": 330.105, \"is_missing\": false}, {\"time\": 169.0, \"variable\": \"LW_IN\", \"value\": 330.105, \"is_missing\": false}, {\"time\": 170.0, \"variable\": \"LW_IN\", \"value\": 331.046, \"is_missing\": false}, {\"time\": 171.0, \"variable\": \"LW_IN\", \"value\": 331.046, \"is_missing\": false}, {\"time\": 172.0, \"variable\": \"LW_IN\", \"value\": 331.046, \"is_missing\": false}, {\"time\": 173.0, \"variable\": \"LW_IN\", \"value\": 331.046, \"is_missing\": false}, {\"time\": 174.0, \"variable\": \"LW_IN\", \"value\": 331.046, \"is_missing\": false}, {\"time\": 175.0, \"variable\": \"LW_IN\", \"value\": 331.046, \"is_missing\": false}, {\"time\": 176.0, \"variable\": \"LW_IN\", \"value\": 331.747, \"is_missing\": false}, {\"time\": 177.0, \"variable\": \"LW_IN\", \"value\": 331.747, \"is_missing\": false}, {\"time\": 178.0, \"variable\": \"LW_IN\", \"value\": 331.747, \"is_missing\": false}, {\"time\": 179.0, \"variable\": \"LW_IN\", \"value\": 331.747, \"is_missing\": false}, {\"time\": 180.0, \"variable\": \"LW_IN\", \"value\": 331.747, \"is_missing\": false}, {\"time\": 181.0, \"variable\": \"LW_IN\", \"value\": 331.747, \"is_missing\": false}, {\"time\": 182.0, \"variable\": \"LW_IN\", \"value\": 337.189, \"is_missing\": true}, {\"time\": 183.0, \"variable\": \"LW_IN\", \"value\": 337.189, \"is_missing\": false}, {\"time\": 184.0, \"variable\": \"LW_IN\", \"value\": 337.189, \"is_missing\": true}, {\"time\": 185.0, \"variable\": \"LW_IN\", \"value\": 337.189, \"is_missing\": true}, {\"time\": 186.0, \"variable\": \"LW_IN\", \"value\": 337.189, \"is_missing\": true}, {\"time\": 187.0, \"variable\": \"LW_IN\", \"value\": 337.189, \"is_missing\": true}, {\"time\": 188.0, \"variable\": \"LW_IN\", \"value\": 338.127, \"is_missing\": false}, {\"time\": 189.0, \"variable\": \"LW_IN\", \"value\": 338.127, \"is_missing\": false}, {\"time\": 190.0, \"variable\": \"LW_IN\", \"value\": 338.127, \"is_missing\": false}, {\"time\": 191.0, \"variable\": \"LW_IN\", \"value\": 338.127, \"is_missing\": false}, {\"time\": 192.0, \"variable\": \"LW_IN\", \"value\": 338.127, \"is_missing\": false}, {\"time\": 193.0, \"variable\": \"LW_IN\", \"value\": 338.127, \"is_missing\": false}, {\"time\": 194.0, \"variable\": \"LW_IN\", \"value\": 330.202, \"is_missing\": false}, {\"time\": 195.0, \"variable\": \"LW_IN\", \"value\": 330.202, \"is_missing\": false}, {\"time\": 196.0, \"variable\": \"LW_IN\", \"value\": 330.202, \"is_missing\": false}, {\"time\": 197.0, \"variable\": \"LW_IN\", \"value\": 330.202, \"is_missing\": true}, {\"time\": 198.0, \"variable\": \"LW_IN\", \"value\": 330.202, \"is_missing\": false}, {\"time\": 199.0, \"variable\": \"LW_IN\", \"value\": 330.202, \"is_missing\": false}], \"data-e89dc56a40f894dc86f4d9ca67e5bf12\": [{\"time\": 0.0, \"variable\": \"LW_IN\", \"mean\": 302.475, \"std\": null}, {\"time\": 2.0, \"variable\": \"LW_IN\", \"mean\": 301.677, \"std\": null}, {\"time\": 3.0, \"variable\": \"LW_IN\", \"mean\": 301.677, \"std\": null}, {\"time\": 4.0, \"variable\": \"LW_IN\", \"mean\": 301.677, \"std\": null}, {\"time\": 11.0, \"variable\": \"LW_IN\", \"mean\": 308.046, \"std\": null}, {\"time\": 13.0, \"variable\": \"LW_IN\", \"mean\": 308.046, \"std\": null}, {\"time\": 14.0, \"variable\": \"LW_IN\", \"mean\": 316.925, \"std\": null}, {\"time\": 15.0, \"variable\": \"LW_IN\", \"mean\": 316.925, \"std\": null}, {\"time\": 16.0, \"variable\": \"LW_IN\", \"mean\": 316.925, \"std\": null}, {\"time\": 17.0, \"variable\": \"LW_IN\", \"mean\": 316.925, \"std\": null}, {\"time\": 19.0, \"variable\": \"LW_IN\", \"mean\": 316.925, \"std\": null}, {\"time\": 21.0, \"variable\": \"LW_IN\", \"mean\": 321.15, \"std\": null}, {\"time\": 23.0, \"variable\": \"LW_IN\", \"mean\": 321.15, \"std\": null}, {\"time\": 24.0, \"variable\": \"LW_IN\", \"mean\": 321.15, \"std\": null}, {\"time\": 25.0, \"variable\": \"LW_IN\", \"mean\": 321.15, \"std\": null}, {\"time\": 26.0, \"variable\": \"LW_IN\", \"mean\": 323.062, \"std\": null}, {\"time\": 27.0, \"variable\": \"LW_IN\", \"mean\": 323.062, \"std\": null}, {\"time\": 30.0, \"variable\": \"LW_IN\", \"mean\": 323.062, \"std\": null}, {\"time\": 36.0, \"variable\": \"LW_IN\", \"mean\": 328.053, \"std\": null}, {\"time\": 37.0, \"variable\": \"LW_IN\", \"mean\": 328.053, \"std\": null}, {\"time\": 38.0, \"variable\": \"LW_IN\", \"mean\": 329.365, \"std\": null}, {\"time\": 39.0, \"variable\": \"LW_IN\", \"mean\": 329.365, \"std\": null}, {\"time\": 41.0, \"variable\": \"LW_IN\", \"mean\": 329.365, \"std\": null}, {\"time\": 44.0, \"variable\": \"LW_IN\", \"mean\": 297.593, \"std\": null}, {\"time\": 45.0, \"variable\": \"LW_IN\", \"mean\": 297.593, \"std\": null}, {\"time\": 46.0, \"variable\": \"LW_IN\", \"mean\": 297.593, \"std\": null}, {\"time\": 49.0, \"variable\": \"LW_IN\", \"mean\": 297.593, \"std\": null}, {\"time\": 51.0, \"variable\": \"LW_IN\", \"mean\": 277.157, \"std\": null}, {\"time\": 54.0, \"variable\": \"LW_IN\", \"mean\": 277.157, \"std\": null}, {\"time\": 61.0, \"variable\": \"LW_IN\", \"mean\": 266.713, \"std\": null}, {\"time\": 62.0, \"variable\": \"LW_IN\", \"mean\": 259.213, \"std\": null}, {\"time\": 64.0, \"variable\": \"LW_IN\", \"mean\": 259.213, \"std\": null}, {\"time\": 66.0, \"variable\": \"LW_IN\", \"mean\": 259.213, \"std\": null}, {\"time\": 67.0, \"variable\": \"LW_IN\", \"mean\": 259.213, \"std\": null}, {\"time\": 68.0, \"variable\": \"LW_IN\", \"mean\": 265.357, \"std\": null}, {\"time\": 71.0, \"variable\": \"LW_IN\", \"mean\": 265.357, \"std\": null}, {\"time\": 79.0, \"variable\": \"LW_IN\", \"mean\": 279.492, \"std\": null}, {\"time\": 80.0, \"variable\": \"LW_IN\", \"mean\": 284.641, \"std\": null}, {\"time\": 81.0, \"variable\": \"LW_IN\", \"mean\": 284.641, \"std\": null}, {\"time\": 82.0, \"variable\": \"LW_IN\", \"mean\": 284.641, \"std\": null}, {\"time\": 84.0, \"variable\": \"LW_IN\", \"mean\": 284.641, \"std\": null}, {\"time\": 85.0, \"variable\": \"LW_IN\", \"mean\": 284.641, \"std\": null}, {\"time\": 86.0, \"variable\": \"LW_IN\", \"mean\": 290.004, \"std\": null}, {\"time\": 88.0, \"variable\": \"LW_IN\", \"mean\": 290.004, \"std\": null}, {\"time\": 89.0, \"variable\": \"LW_IN\", \"mean\": 290.004, \"std\": null}, {\"time\": 91.0, \"variable\": \"LW_IN\", \"mean\": 290.004, \"std\": null}, {\"time\": 92.0, \"variable\": \"LW_IN\", \"mean\": 300.274, \"std\": null}, {\"time\": 95.0, \"variable\": \"LW_IN\", \"mean\": 300.274, \"std\": null}, {\"time\": 96.0, \"variable\": \"LW_IN\", \"mean\": 300.274, \"std\": null}, {\"time\": 98.0, \"variable\": \"LW_IN\", \"mean\": 304.148, \"std\": null}, {\"time\": 101.0, \"variable\": \"LW_IN\", \"mean\": 304.148, \"std\": null}, {\"time\": 103.0, \"variable\": \"LW_IN\", \"mean\": 304.148, \"std\": null}, {\"time\": 107.0, \"variable\": \"LW_IN\", \"mean\": 304.382, \"std\": null}, {\"time\": 110.0, \"variable\": \"LW_IN\", \"mean\": 298.069, \"std\": null}, {\"time\": 112.0, \"variable\": \"LW_IN\", \"mean\": 298.069, \"std\": null}, {\"time\": 116.0, \"variable\": \"LW_IN\", \"mean\": 297.189, \"std\": null}, {\"time\": 118.0, \"variable\": \"LW_IN\", \"mean\": 297.189, \"std\": null}, {\"time\": 120.0, \"variable\": \"LW_IN\", \"mean\": 297.189, \"std\": null}, {\"time\": 123.0, \"variable\": \"LW_IN\", \"mean\": 291.71, \"std\": null}, {\"time\": 125.0, \"variable\": \"LW_IN\", \"mean\": 291.71, \"std\": null}, {\"time\": 127.0, \"variable\": \"LW_IN\", \"mean\": 291.71, \"std\": null}, {\"time\": 129.0, \"variable\": \"LW_IN\", \"mean\": 310.192, \"std\": null}, {\"time\": 134.0, \"variable\": \"LW_IN\", \"mean\": 317.262, \"std\": null}, {\"time\": 135.0, \"variable\": \"LW_IN\", \"mean\": 317.262, \"std\": null}, {\"time\": 138.0, \"variable\": \"LW_IN\", \"mean\": 317.262, \"std\": null}, {\"time\": 140.0, \"variable\": \"LW_IN\", \"mean\": 310.161, \"std\": null}, {\"time\": 141.0, \"variable\": \"LW_IN\", \"mean\": 310.161, \"std\": null}, {\"time\": 142.0, \"variable\": \"LW_IN\", \"mean\": 310.161, \"std\": null}, {\"time\": 147.0, \"variable\": \"LW_IN\", \"mean\": 304.731, \"std\": null}, {\"time\": 148.0, \"variable\": \"LW_IN\", \"mean\": 304.731, \"std\": null}, {\"time\": 150.0, \"variable\": \"LW_IN\", \"mean\": 304.731, \"std\": null}, {\"time\": 152.0, \"variable\": \"LW_IN\", \"mean\": 315.005, \"std\": null}, {\"time\": 153.0, \"variable\": \"LW_IN\", \"mean\": 315.005, \"std\": null}, {\"time\": 154.0, \"variable\": \"LW_IN\", \"mean\": 315.005, \"std\": null}, {\"time\": 156.0, \"variable\": \"LW_IN\", \"mean\": 315.005, \"std\": null}, {\"time\": 159.0, \"variable\": \"LW_IN\", \"mean\": 324.325, \"std\": null}, {\"time\": 160.0, \"variable\": \"LW_IN\", \"mean\": 324.325, \"std\": null}, {\"time\": 161.0, \"variable\": \"LW_IN\", \"mean\": 324.325, \"std\": null}, {\"time\": 163.0, \"variable\": \"LW_IN\", \"mean\": 324.325, \"std\": null}, {\"time\": 165.0, \"variable\": \"LW_IN\", \"mean\": 330.105, \"std\": null}, {\"time\": 166.0, \"variable\": \"LW_IN\", \"mean\": 330.105, \"std\": null}, {\"time\": 167.0, \"variable\": \"LW_IN\", \"mean\": 330.105, \"std\": null}, {\"time\": 168.0, \"variable\": \"LW_IN\", \"mean\": 330.105, \"std\": null}, {\"time\": 169.0, \"variable\": \"LW_IN\", \"mean\": 330.105, \"std\": null}, {\"time\": 170.0, \"variable\": \"LW_IN\", \"mean\": 331.046, \"std\": null}, {\"time\": 172.0, \"variable\": \"LW_IN\", \"mean\": 331.046, \"std\": null}, {\"time\": 173.0, \"variable\": \"LW_IN\", \"mean\": 331.046, \"std\": null}, {\"time\": 174.0, \"variable\": \"LW_IN\", \"mean\": 331.046, \"std\": null}, {\"time\": 175.0, \"variable\": \"LW_IN\", \"mean\": 331.046, \"std\": null}, {\"time\": 178.0, \"variable\": \"LW_IN\", \"mean\": 331.747, \"std\": null}, {\"time\": 180.0, \"variable\": \"LW_IN\", \"mean\": 331.747, \"std\": null}, {\"time\": 188.0, \"variable\": \"LW_IN\", \"mean\": 338.127, \"std\": null}, {\"time\": 191.0, \"variable\": \"LW_IN\", \"mean\": 338.127, \"std\": null}, {\"time\": 194.0, \"variable\": \"LW_IN\", \"mean\": 330.202, \"std\": null}, {\"time\": 195.0, \"variable\": \"LW_IN\", \"mean\": 330.202, \"std\": null}, {\"time\": 196.0, \"variable\": \"LW_IN\", \"mean\": 330.202, \"std\": null}, {\"time\": 198.0, \"variable\": \"LW_IN\", \"mean\": 330.202, \"std\": null}, {\"time\": 199.0, \"variable\": \"LW_IN\", \"mean\": 330.202, \"std\": null}, {\"time\": 1.0, \"variable\": \"LW_IN\", \"mean\": 292.00885009765625, \"std\": 17.700403213500977}, {\"time\": 5.0, \"variable\": \"LW_IN\", \"mean\": 301.677001953125, \"std\": 0.0}, {\"time\": 6.0, \"variable\": \"LW_IN\", \"mean\": 301.677001953125, \"std\": 0.0}, {\"time\": 7.0, \"variable\": \"LW_IN\", \"mean\": 301.677001953125, \"std\": 0.0}, {\"time\": 8.0, \"variable\": \"LW_IN\", \"mean\": 294.25982666015625, \"std\": 17.699363708496094}, {\"time\": 9.0, \"variable\": \"LW_IN\", \"mean\": 308.0459899902344, \"std\": 0.0}, {\"time\": 10.0, \"variable\": \"LW_IN\", \"mean\": 294.54510498046875, \"std\": 17.698884963989258}, {\"time\": 12.0, \"variable\": \"LW_IN\", \"mean\": 308.0459899902344, \"std\": 0.0}, {\"time\": 18.0, \"variable\": \"LW_IN\", \"mean\": 316.92498779296875, \"std\": 0.0}, {\"time\": 20.0, \"variable\": \"LW_IN\", \"mean\": 296.9920959472656, \"std\": 17.698333740234375}, {\"time\": 22.0, \"variable\": \"LW_IN\", \"mean\": 321.1499938964844, \"std\": 0.0}, {\"time\": 28.0, \"variable\": \"LW_IN\", \"mean\": 323.06201171875, \"std\": 0.0}, {\"time\": 29.0, \"variable\": \"LW_IN\", \"mean\": 323.06201171875, \"std\": 0.0}, {\"time\": 31.0, \"variable\": \"LW_IN\", \"mean\": 323.06201171875, \"std\": 0.0}, {\"time\": 32.0, \"variable\": \"LW_IN\", \"mean\": 328.0530090332031, \"std\": 0.0}, {\"time\": 33.0, \"variable\": \"LW_IN\", \"mean\": 328.0530090332031, \"std\": 0.0}, {\"time\": 34.0, \"variable\": \"LW_IN\", \"mean\": 304.09454345703125, \"std\": 17.699892044067383}, {\"time\": 35.0, \"variable\": \"LW_IN\", \"mean\": 305.52081298828125, \"std\": 17.699443817138672}, {\"time\": 40.0, \"variable\": \"LW_IN\", \"mean\": 329.364990234375, \"std\": 0.0}, {\"time\": 42.0, \"variable\": \"LW_IN\", \"mean\": 314.72467041015625, \"std\": 17.69936180114746}, {\"time\": 43.0, \"variable\": \"LW_IN\", \"mean\": 315.1617431640625, \"std\": 17.699304580688477}, {\"time\": 47.0, \"variable\": \"LW_IN\", \"mean\": 297.5929870605469, \"std\": 0.0}, {\"time\": 48.0, \"variable\": \"LW_IN\", \"mean\": 312.785888671875, \"std\": 17.699596405029297}, {\"time\": 50.0, \"variable\": \"LW_IN\", \"mean\": 277.1570129394531, \"std\": 0.0}, {\"time\": 52.0, \"variable\": \"LW_IN\", \"mean\": 277.1570129394531, \"std\": 0.0}, {\"time\": 53.0, \"variable\": \"LW_IN\", \"mean\": 277.1570129394531, \"std\": 0.0}, {\"time\": 55.0, \"variable\": \"LW_IN\", \"mean\": 304.9815673828125, \"std\": 17.70082664489746}, {\"time\": 56.0, \"variable\": \"LW_IN\", \"mean\": 266.7130126953125, \"std\": 0.0}, {\"time\": 57.0, \"variable\": \"LW_IN\", \"mean\": 303.5962829589844, \"std\": 17.70018768310547}, {\"time\": 58.0, \"variable\": \"LW_IN\", \"mean\": 266.7130126953125, \"std\": 0.0}, {\"time\": 59.0, \"variable\": \"LW_IN\", \"mean\": 302.3842468261719, \"std\": 17.699182510375977}, {\"time\": 60.0, \"variable\": \"LW_IN\", \"mean\": 266.7130126953125, \"std\": 0.0}, {\"time\": 63.0, \"variable\": \"LW_IN\", \"mean\": 299.6747131347656, \"std\": 17.698156356811523}, {\"time\": 65.0, \"variable\": \"LW_IN\", \"mean\": 259.2130126953125, \"std\": 0.0}, {\"time\": 69.0, \"variable\": \"LW_IN\", \"mean\": 300.23480224609375, \"std\": 17.699180603027344}, {\"time\": 70.0, \"variable\": \"LW_IN\", \"mean\": 301.3536071777344, \"std\": 17.699426651000977}, {\"time\": 72.0, \"variable\": \"LW_IN\", \"mean\": 303.7550354003906, \"std\": 17.69940948486328}, {\"time\": 73.0, \"variable\": \"LW_IN\", \"mean\": 265.35699462890625, \"std\": 0.0}, {\"time\": 74.0, \"variable\": \"LW_IN\", \"mean\": 305.33892822265625, \"std\": 17.69894027709961}, {\"time\": 75.0, \"variable\": \"LW_IN\", \"mean\": 279.49200439453125, \"std\": 0.0}, {\"time\": 76.0, \"variable\": \"LW_IN\", \"mean\": 279.49200439453125, \"std\": 0.0}, {\"time\": 77.0, \"variable\": \"LW_IN\", \"mean\": 279.49200439453125, \"std\": 0.0}, {\"time\": 78.0, \"variable\": \"LW_IN\", \"mean\": 303.4955139160156, \"std\": 17.698408126831055}, {\"time\": 83.0, \"variable\": \"LW_IN\", \"mean\": 299.2399597167969, \"std\": 17.69805145263672}, {\"time\": 87.0, \"variable\": \"LW_IN\", \"mean\": 301.32232666015625, \"std\": 17.6984920501709}, {\"time\": 90.0, \"variable\": \"LW_IN\", \"mean\": 302.7303161621094, \"std\": 17.69858169555664}, {\"time\": 93.0, \"variable\": \"LW_IN\", \"mean\": 300.27398681640625, \"std\": 0.0}, {\"time\": 94.0, \"variable\": \"LW_IN\", \"mean\": 300.6999206542969, \"std\": 17.698406219482422}, {\"time\": 97.0, \"variable\": \"LW_IN\", \"mean\": 300.27398681640625, \"std\": 0.0}, {\"time\": 99.0, \"variable\": \"LW_IN\", \"mean\": 298.8194274902344, \"std\": 17.699182510375977}, {\"time\": 100.0, \"variable\": \"LW_IN\", \"mean\": 304.14801025390625, \"std\": 0.0}, {\"time\": 102.0, \"variable\": \"LW_IN\", \"mean\": 301.0465087890625, \"std\": 17.699440002441406}, {\"time\": 104.0, \"variable\": \"LW_IN\", \"mean\": 303.26123046875, \"std\": 17.698904037475586}, {\"time\": 105.0, \"variable\": \"LW_IN\", \"mean\": 304.35552978515625, \"std\": 17.69863510131836}, {\"time\": 106.0, \"variable\": \"LW_IN\", \"mean\": 304.3819885253906, \"std\": 0.0}, {\"time\": 108.0, \"variable\": \"LW_IN\", \"mean\": 304.3819885253906, \"std\": 0.0}, {\"time\": 109.0, \"variable\": \"LW_IN\", \"mean\": 307.6341247558594, \"std\": 17.69873046875}, {\"time\": 111.0, \"variable\": \"LW_IN\", \"mean\": 308.64849853515625, \"std\": 17.69892120361328}, {\"time\": 113.0, \"variable\": \"LW_IN\", \"mean\": 298.0690002441406, \"std\": 0.0}, {\"time\": 114.0, \"variable\": \"LW_IN\", \"mean\": 298.0690002441406, \"std\": 0.0}, {\"time\": 115.0, \"variable\": \"LW_IN\", \"mean\": 298.0690002441406, \"std\": 0.0}, {\"time\": 117.0, \"variable\": \"LW_IN\", \"mean\": 312.3259582519531, \"std\": 17.698524475097656}, {\"time\": 119.0, \"variable\": \"LW_IN\", \"mean\": 313.99603271484375, \"std\": 17.69899559020996}, {\"time\": 121.0, \"variable\": \"LW_IN\", \"mean\": 315.3948974609375, \"std\": 17.699277877807617}, {\"time\": 122.0, \"variable\": \"LW_IN\", \"mean\": 315.8500061035156, \"std\": 17.6992244720459}, {\"time\": 124.0, \"variable\": \"LW_IN\", \"mean\": 291.7099914550781, \"std\": 0.0}, {\"time\": 126.0, \"variable\": \"LW_IN\", \"mean\": 315.4249267578125, \"std\": 17.698789596557617}, {\"time\": 128.0, \"variable\": \"LW_IN\", \"mean\": 314.1856689453125, \"std\": 17.699138641357422}, {\"time\": 130.0, \"variable\": \"LW_IN\", \"mean\": 312.8774108886719, \"std\": 17.699642181396484}, {\"time\": 131.0, \"variable\": \"LW_IN\", \"mean\": 312.3432922363281, \"std\": 17.699790954589844}, {\"time\": 132.0, \"variable\": \"LW_IN\", \"mean\": 311.93634033203125, \"std\": 17.699804306030273}, {\"time\": 133.0, \"variable\": \"LW_IN\", \"mean\": 311.6671447753906, \"std\": 17.69968605041504}, {\"time\": 136.0, \"variable\": \"LW_IN\", \"mean\": 317.2619934082031, \"std\": 0.0}, {\"time\": 137.0, \"variable\": \"LW_IN\", \"mean\": 317.2619934082031, \"std\": 0.0}, {\"time\": 139.0, \"variable\": \"LW_IN\", \"mean\": 311.7629699707031, \"std\": 17.698511123657227}, {\"time\": 143.0, \"variable\": \"LW_IN\", \"mean\": 310.1610107421875, \"std\": 0.0}, {\"time\": 144.0, \"variable\": \"LW_IN\", \"mean\": 310.1610107421875, \"std\": 0.0}, {\"time\": 145.0, \"variable\": \"LW_IN\", \"mean\": 312.16790771484375, \"std\": 17.69884490966797}, {\"time\": 146.0, \"variable\": \"LW_IN\", \"mean\": 312.2756652832031, \"std\": 17.698856353759766}, {\"time\": 149.0, \"variable\": \"LW_IN\", \"mean\": 304.7309875488281, \"std\": 0.0}, {\"time\": 151.0, \"variable\": \"LW_IN\", \"mean\": 304.7309875488281, \"std\": 0.0}, {\"time\": 155.0, \"variable\": \"LW_IN\", \"mean\": 311.51934814453125, \"std\": 17.69873046875}, {\"time\": 157.0, \"variable\": \"LW_IN\", \"mean\": 311.061279296875, \"std\": 17.69863510131836}, {\"time\": 158.0, \"variable\": \"LW_IN\", \"mean\": 324.32501220703125, \"std\": 0.0}, {\"time\": 162.0, \"variable\": \"LW_IN\", \"mean\": 311.295654296875, \"std\": 17.69864273071289}, {\"time\": 164.0, \"variable\": \"LW_IN\", \"mean\": 330.1050109863281, \"std\": 0.0}, {\"time\": 171.0, \"variable\": \"LW_IN\", \"mean\": 331.0459899902344, \"std\": 0.0}, {\"time\": 176.0, \"variable\": \"LW_IN\", \"mean\": 331.74700927734375, \"std\": 0.0}, {\"time\": 177.0, \"variable\": \"LW_IN\", \"mean\": 331.74700927734375, \"std\": 0.0}, {\"time\": 179.0, \"variable\": \"LW_IN\", \"mean\": 331.74700927734375, \"std\": 0.0}, {\"time\": 181.0, \"variable\": \"LW_IN\", \"mean\": 331.74700927734375, \"std\": 0.0}, {\"time\": 182.0, \"variable\": \"LW_IN\", \"mean\": 326.7369689941406, \"std\": 17.698644638061523}, {\"time\": 183.0, \"variable\": \"LW_IN\", \"mean\": 337.1889953613281, \"std\": 0.0}, {\"time\": 184.0, \"variable\": \"LW_IN\", \"mean\": 328.86431884765625, \"std\": 17.69912338256836}, {\"time\": 185.0, \"variable\": \"LW_IN\", \"mean\": 329.6370849609375, \"std\": 17.699295043945312}, {\"time\": 186.0, \"variable\": \"LW_IN\", \"mean\": 330.2082214355469, \"std\": 17.69932746887207}, {\"time\": 187.0, \"variable\": \"LW_IN\", \"mean\": 330.59417724609375, \"std\": 17.69924545288086}, {\"time\": 189.0, \"variable\": \"LW_IN\", \"mean\": 338.12701416015625, \"std\": 0.0}, {\"time\": 190.0, \"variable\": \"LW_IN\", \"mean\": 338.12701416015625, \"std\": 0.0}, {\"time\": 192.0, \"variable\": \"LW_IN\", \"mean\": 338.12701416015625, \"std\": 0.0}, {\"time\": 193.0, \"variable\": \"LW_IN\", \"mean\": 338.12701416015625, \"std\": 0.0}, {\"time\": 197.0, \"variable\": \"LW_IN\", \"mean\": 330.6724853515625, \"std\": 17.69913673400879}], \"data-e9197ad81debd9547e657b5e2cc7e00c\": [{\"time\": 0.0, \"variable\": \"VPD\", \"value\": 0.222, \"is_missing\": false}, {\"time\": 1.0, \"variable\": \"VPD\", \"value\": 0.122, \"is_missing\": true}, {\"time\": 2.0, \"variable\": \"VPD\", \"value\": 0.09, \"is_missing\": false}, {\"time\": 3.0, \"variable\": \"VPD\", \"value\": 0.11, \"is_missing\": false}, {\"time\": 4.0, \"variable\": \"VPD\", \"value\": 0.102, \"is_missing\": false}, {\"time\": 5.0, \"variable\": \"VPD\", \"value\": 0.111, \"is_missing\": false}, {\"time\": 6.0, \"variable\": \"VPD\", \"value\": 0.109, \"is_missing\": true}, {\"time\": 7.0, \"variable\": \"VPD\", \"value\": 0.107, \"is_missing\": false}, {\"time\": 8.0, \"variable\": \"VPD\", \"value\": 0.122, \"is_missing\": true}, {\"time\": 9.0, \"variable\": \"VPD\", \"value\": 0.138, \"is_missing\": true}, {\"time\": 10.0, \"variable\": \"VPD\", \"value\": 0.138, \"is_missing\": false}, {\"time\": 11.0, \"variable\": \"VPD\", \"value\": 0.122, \"is_missing\": false}, {\"time\": 12.0, \"variable\": \"VPD\", \"value\": 0.098, \"is_missing\": false}, {\"time\": 13.0, \"variable\": \"VPD\", \"value\": 0.066, \"is_missing\": false}, {\"time\": 14.0, \"variable\": \"VPD\", \"value\": 0.044, \"is_missing\": false}, {\"time\": 15.0, \"variable\": \"VPD\", \"value\": 0.026, \"is_missing\": false}, {\"time\": 16.0, \"variable\": \"VPD\", \"value\": 0.016, \"is_missing\": false}, {\"time\": 17.0, \"variable\": \"VPD\", \"value\": 0.01, \"is_missing\": false}, {\"time\": 18.0, \"variable\": \"VPD\", \"value\": 0.006, \"is_missing\": false}, {\"time\": 19.0, \"variable\": \"VPD\", \"value\": 0.006, \"is_missing\": false}, {\"time\": 20.0, \"variable\": \"VPD\", \"value\": 0.006, \"is_missing\": true}, {\"time\": 21.0, \"variable\": \"VPD\", \"value\": 0.011, \"is_missing\": false}, {\"time\": 22.0, \"variable\": \"VPD\", \"value\": 0.019, \"is_missing\": true}, {\"time\": 23.0, \"variable\": \"VPD\", \"value\": 0.014, \"is_missing\": false}, {\"time\": 24.0, \"variable\": \"VPD\", \"value\": 0.008, \"is_missing\": false}, {\"time\": 25.0, \"variable\": \"VPD\", \"value\": 0.006, \"is_missing\": false}, {\"time\": 26.0, \"variable\": \"VPD\", \"value\": 0.0, \"is_missing\": false}, {\"time\": 27.0, \"variable\": \"VPD\", \"value\": 0.0, \"is_missing\": false}, {\"time\": 28.0, \"variable\": \"VPD\", \"value\": 0.0, \"is_missing\": true}, {\"time\": 29.0, \"variable\": \"VPD\", \"value\": 0.0, \"is_missing\": false}, {\"time\": 30.0, \"variable\": \"VPD\", \"value\": 0.0, \"is_missing\": false}, {\"time\": 31.0, \"variable\": \"VPD\", \"value\": 0.0, \"is_missing\": false}, {\"time\": 32.0, \"variable\": \"VPD\", \"value\": 0.0, \"is_missing\": false}, {\"time\": 33.0, \"variable\": \"VPD\", \"value\": 0.0, \"is_missing\": true}, {\"time\": 34.0, \"variable\": \"VPD\", \"value\": 0.0, \"is_missing\": true}, {\"time\": 35.0, \"variable\": \"VPD\", \"value\": 0.0, \"is_missing\": true}, {\"time\": 36.0, \"variable\": \"VPD\", \"value\": 0.0, \"is_missing\": false}, {\"time\": 37.0, \"variable\": \"VPD\", \"value\": 0.002, \"is_missing\": false}, {\"time\": 38.0, \"variable\": \"VPD\", \"value\": 0.009, \"is_missing\": false}, {\"time\": 39.0, \"variable\": \"VPD\", \"value\": 0.014, \"is_missing\": false}, {\"time\": 40.0, \"variable\": \"VPD\", \"value\": 0.014, \"is_missing\": false}, {\"time\": 41.0, \"variable\": \"VPD\", \"value\": 0.038, \"is_missing\": false}, {\"time\": 42.0, \"variable\": \"VPD\", \"value\": 0.079, \"is_missing\": true}, {\"time\": 43.0, \"variable\": \"VPD\", \"value\": 0.257, \"is_missing\": true}, {\"time\": 44.0, \"variable\": \"VPD\", \"value\": 0.388, \"is_missing\": false}, {\"time\": 45.0, \"variable\": \"VPD\", \"value\": 0.555, \"is_missing\": false}, {\"time\": 46.0, \"variable\": \"VPD\", \"value\": 0.452, \"is_missing\": false}, {\"time\": 47.0, \"variable\": \"VPD\", \"value\": 0.435, \"is_missing\": false}, {\"time\": 48.0, \"variable\": \"VPD\", \"value\": 0.248, \"is_missing\": true}, {\"time\": 49.0, \"variable\": \"VPD\", \"value\": 0.234, \"is_missing\": false}, {\"time\": 50.0, \"variable\": \"VPD\", \"value\": 0.377, \"is_missing\": false}, {\"time\": 51.0, \"variable\": \"VPD\", \"value\": 0.414, \"is_missing\": false}, {\"time\": 52.0, \"variable\": \"VPD\", \"value\": 0.356, \"is_missing\": true}, {\"time\": 53.0, \"variable\": \"VPD\", \"value\": 0.205, \"is_missing\": false}, {\"time\": 54.0, \"variable\": \"VPD\", \"value\": 0.188, \"is_missing\": false}, {\"time\": 55.0, \"variable\": \"VPD\", \"value\": 0.232, \"is_missing\": true}, {\"time\": 56.0, \"variable\": \"VPD\", \"value\": 0.27, \"is_missing\": false}, {\"time\": 57.0, \"variable\": \"VPD\", \"value\": 0.273, \"is_missing\": true}, {\"time\": 58.0, \"variable\": \"VPD\", \"value\": 0.225, \"is_missing\": false}, {\"time\": 59.0, \"variable\": \"VPD\", \"value\": 0.123, \"is_missing\": false}, {\"time\": 60.0, \"variable\": \"VPD\", \"value\": 0.053, \"is_missing\": false}, {\"time\": 61.0, \"variable\": \"VPD\", \"value\": 0.026, \"is_missing\": false}, {\"time\": 62.0, \"variable\": \"VPD\", \"value\": 0.013, \"is_missing\": false}, {\"time\": 63.0, \"variable\": \"VPD\", \"value\": 0.017, \"is_missing\": false}, {\"time\": 64.0, \"variable\": \"VPD\", \"value\": 0.18, \"is_missing\": false}, {\"time\": 65.0, \"variable\": \"VPD\", \"value\": 0.162, \"is_missing\": true}, {\"time\": 66.0, \"variable\": \"VPD\", \"value\": 0.177, \"is_missing\": false}, {\"time\": 67.0, \"variable\": \"VPD\", \"value\": 0.181, \"is_missing\": false}, {\"time\": 68.0, \"variable\": \"VPD\", \"value\": 0.188, \"is_missing\": false}, {\"time\": 69.0, \"variable\": \"VPD\", \"value\": 0.276, \"is_missing\": true}, {\"time\": 70.0, \"variable\": \"VPD\", \"value\": 0.309, \"is_missing\": true}, {\"time\": 71.0, \"variable\": \"VPD\", \"value\": 0.346, \"is_missing\": false}, {\"time\": 72.0, \"variable\": \"VPD\", \"value\": 0.297, \"is_missing\": true}, {\"time\": 73.0, \"variable\": \"VPD\", \"value\": 0.349, \"is_missing\": false}, {\"time\": 74.0, \"variable\": \"VPD\", \"value\": 0.362, \"is_missing\": true}, {\"time\": 75.0, \"variable\": \"VPD\", \"value\": 0.381, \"is_missing\": true}, {\"time\": 76.0, \"variable\": \"VPD\", \"value\": 0.369, \"is_missing\": false}, {\"time\": 77.0, \"variable\": \"VPD\", \"value\": 0.24, \"is_missing\": true}, {\"time\": 78.0, \"variable\": \"VPD\", \"value\": 0.111, \"is_missing\": true}, {\"time\": 79.0, \"variable\": \"VPD\", \"value\": 0.062, \"is_missing\": false}, {\"time\": 80.0, \"variable\": \"VPD\", \"value\": 0.044, \"is_missing\": false}, {\"time\": 81.0, \"variable\": \"VPD\", \"value\": 0.034, \"is_missing\": false}, {\"time\": 82.0, \"variable\": \"VPD\", \"value\": 0.032, \"is_missing\": false}, {\"time\": 83.0, \"variable\": \"VPD\", \"value\": 0.055, \"is_missing\": false}, {\"time\": 84.0, \"variable\": \"VPD\", \"value\": 0.125, \"is_missing\": false}, {\"time\": 85.0, \"variable\": \"VPD\", \"value\": 0.128, \"is_missing\": false}, {\"time\": 86.0, \"variable\": \"VPD\", \"value\": 0.201, \"is_missing\": false}, {\"time\": 87.0, \"variable\": \"VPD\", \"value\": 0.174, \"is_missing\": true}, {\"time\": 88.0, \"variable\": \"VPD\", \"value\": 0.154, \"is_missing\": false}, {\"time\": 89.0, \"variable\": \"VPD\", \"value\": 0.177, \"is_missing\": false}, {\"time\": 90.0, \"variable\": \"VPD\", \"value\": 0.192, \"is_missing\": true}, {\"time\": 91.0, \"variable\": \"VPD\", \"value\": 0.149, \"is_missing\": false}, {\"time\": 92.0, \"variable\": \"VPD\", \"value\": 0.112, \"is_missing\": false}, {\"time\": 93.0, \"variable\": \"VPD\", \"value\": 0.075, \"is_missing\": false}, {\"time\": 94.0, \"variable\": \"VPD\", \"value\": 0.038, \"is_missing\": true}, {\"time\": 95.0, \"variable\": \"VPD\", \"value\": 0.021, \"is_missing\": false}, {\"time\": 96.0, \"variable\": \"VPD\", \"value\": 0.013, \"is_missing\": false}, {\"time\": 97.0, \"variable\": \"VPD\", \"value\": 0.004, \"is_missing\": false}, {\"time\": 98.0, \"variable\": \"VPD\", \"value\": 0.0, \"is_missing\": false}, {\"time\": 99.0, \"variable\": \"VPD\", \"value\": 0.0, \"is_missing\": true}, {\"time\": 100.0, \"variable\": \"VPD\", \"value\": 0.0, \"is_missing\": false}, {\"time\": 101.0, \"variable\": \"VPD\", \"value\": 0.0, \"is_missing\": false}, {\"time\": 102.0, \"variable\": \"VPD\", \"value\": 0.0, \"is_missing\": true}, {\"time\": 103.0, \"variable\": \"VPD\", \"value\": 0.0, \"is_missing\": false}, {\"time\": 104.0, \"variable\": \"VPD\", \"value\": 0.0, \"is_missing\": true}, {\"time\": 105.0, \"variable\": \"VPD\", \"value\": 0.0, \"is_missing\": false}, {\"time\": 106.0, \"variable\": \"VPD\", \"value\": 0.009, \"is_missing\": true}, {\"time\": 107.0, \"variable\": \"VPD\", \"value\": 0.061, \"is_missing\": false}, {\"time\": 108.0, \"variable\": \"VPD\", \"value\": 0.174, \"is_missing\": false}, {\"time\": 109.0, \"variable\": \"VPD\", \"value\": 0.208, \"is_missing\": true}, {\"time\": 110.0, \"variable\": \"VPD\", \"value\": 0.294, \"is_missing\": false}, {\"time\": 111.0, \"variable\": \"VPD\", \"value\": 0.37, \"is_missing\": true}, {\"time\": 112.0, \"variable\": \"VPD\", \"value\": 0.478, \"is_missing\": false}, {\"time\": 113.0, \"variable\": \"VPD\", \"value\": 0.557, \"is_missing\": true}, {\"time\": 114.0, \"variable\": \"VPD\", \"value\": 0.617, \"is_missing\": false}, {\"time\": 115.0, \"variable\": \"VPD\", \"value\": 0.656, \"is_missing\": false}, {\"time\": 116.0, \"variable\": \"VPD\", \"value\": 0.654, \"is_missing\": false}, {\"time\": 117.0, \"variable\": \"VPD\", \"value\": 0.704, \"is_missing\": true}, {\"time\": 118.0, \"variable\": \"VPD\", \"value\": 0.838, \"is_missing\": false}, {\"time\": 119.0, \"variable\": \"VPD\", \"value\": 0.914, \"is_missing\": true}, {\"time\": 120.0, \"variable\": \"VPD\", \"value\": 0.818, \"is_missing\": false}, {\"time\": 121.0, \"variable\": \"VPD\", \"value\": 0.728, \"is_missing\": true}, {\"time\": 122.0, \"variable\": \"VPD\", \"value\": 0.749, \"is_missing\": true}, {\"time\": 123.0, \"variable\": \"VPD\", \"value\": 0.773, \"is_missing\": false}, {\"time\": 124.0, \"variable\": \"VPD\", \"value\": 0.787, \"is_missing\": false}, {\"time\": 125.0, \"variable\": \"VPD\", \"value\": 0.759, \"is_missing\": false}, {\"time\": 126.0, \"variable\": \"VPD\", \"value\": 0.723, \"is_missing\": true}, {\"time\": 127.0, \"variable\": \"VPD\", \"value\": 0.671, \"is_missing\": false}, {\"time\": 128.0, \"variable\": \"VPD\", \"value\": 0.657, \"is_missing\": true}, {\"time\": 129.0, \"variable\": \"VPD\", \"value\": 0.641, \"is_missing\": false}, {\"time\": 130.0, \"variable\": \"VPD\", \"value\": 0.559, \"is_missing\": false}, {\"time\": 131.0, \"variable\": \"VPD\", \"value\": 0.452, \"is_missing\": true}, {\"time\": 132.0, \"variable\": \"VPD\", \"value\": 0.389, \"is_missing\": true}, {\"time\": 133.0, \"variable\": \"VPD\", \"value\": 0.412, \"is_missing\": true}, {\"time\": 134.0, \"variable\": \"VPD\", \"value\": 0.429, \"is_missing\": false}, {\"time\": 135.0, \"variable\": \"VPD\", \"value\": 0.449, \"is_missing\": false}, {\"time\": 136.0, \"variable\": \"VPD\", \"value\": 0.471, \"is_missing\": false}, {\"time\": 137.0, \"variable\": \"VPD\", \"value\": 0.434, \"is_missing\": false}, {\"time\": 138.0, \"variable\": \"VPD\", \"value\": 0.432, \"is_missing\": false}, {\"time\": 139.0, \"variable\": \"VPD\", \"value\": 0.409, \"is_missing\": false}, {\"time\": 140.0, \"variable\": \"VPD\", \"value\": 0.417, \"is_missing\": false}, {\"time\": 141.0, \"variable\": \"VPD\", \"value\": 0.432, \"is_missing\": false}, {\"time\": 142.0, \"variable\": \"VPD\", \"value\": 0.441, \"is_missing\": false}, {\"time\": 143.0, \"variable\": \"VPD\", \"value\": 0.467, \"is_missing\": false}, {\"time\": 144.0, \"variable\": \"VPD\", \"value\": 0.459, \"is_missing\": false}, {\"time\": 145.0, \"variable\": \"VPD\", \"value\": 0.545, \"is_missing\": true}, {\"time\": 146.0, \"variable\": \"VPD\", \"value\": 0.7, \"is_missing\": false}, {\"time\": 147.0, \"variable\": \"VPD\", \"value\": 0.813, \"is_missing\": false}, {\"time\": 148.0, \"variable\": \"VPD\", \"value\": 0.952, \"is_missing\": false}, {\"time\": 149.0, \"variable\": \"VPD\", \"value\": 0.971, \"is_missing\": false}, {\"time\": 150.0, \"variable\": \"VPD\", \"value\": 0.958, \"is_missing\": false}, {\"time\": 151.0, \"variable\": \"VPD\", \"value\": 0.938, \"is_missing\": false}, {\"time\": 152.0, \"variable\": \"VPD\", \"value\": 0.785, \"is_missing\": false}, {\"time\": 153.0, \"variable\": \"VPD\", \"value\": 0.529, \"is_missing\": false}, {\"time\": 154.0, \"variable\": \"VPD\", \"value\": 0.45, \"is_missing\": false}, {\"time\": 155.0, \"variable\": \"VPD\", \"value\": 0.499, \"is_missing\": true}, {\"time\": 156.0, \"variable\": \"VPD\", \"value\": 0.382, \"is_missing\": false}, {\"time\": 157.0, \"variable\": \"VPD\", \"value\": 0.313, \"is_missing\": false}, {\"time\": 158.0, \"variable\": \"VPD\", \"value\": 0.314, \"is_missing\": true}, {\"time\": 159.0, \"variable\": \"VPD\", \"value\": 0.268, \"is_missing\": false}, {\"time\": 160.0, \"variable\": \"VPD\", \"value\": 0.122, \"is_missing\": false}, {\"time\": 161.0, \"variable\": \"VPD\", \"value\": 0.072, \"is_missing\": false}, {\"time\": 162.0, \"variable\": \"VPD\", \"value\": 0.054, \"is_missing\": true}, {\"time\": 163.0, \"variable\": \"VPD\", \"value\": 0.045, \"is_missing\": false}, {\"time\": 164.0, \"variable\": \"VPD\", \"value\": 0.038, \"is_missing\": false}, {\"time\": 165.0, \"variable\": \"VPD\", \"value\": 0.036, \"is_missing\": false}, {\"time\": 166.0, \"variable\": \"VPD\", \"value\": 0.045, \"is_missing\": false}, {\"time\": 167.0, \"variable\": \"VPD\", \"value\": 0.087, \"is_missing\": false}, {\"time\": 168.0, \"variable\": \"VPD\", \"value\": 0.106, \"is_missing\": false}, {\"time\": 169.0, \"variable\": \"VPD\", \"value\": 0.089, \"is_missing\": false}, {\"time\": 170.0, \"variable\": \"VPD\", \"value\": 0.067, \"is_missing\": false}, {\"time\": 171.0, \"variable\": \"VPD\", \"value\": 0.061, \"is_missing\": false}, {\"time\": 172.0, \"variable\": \"VPD\", \"value\": 0.051, \"is_missing\": false}, {\"time\": 173.0, \"variable\": \"VPD\", \"value\": 0.046, \"is_missing\": false}, {\"time\": 174.0, \"variable\": \"VPD\", \"value\": 0.047, \"is_missing\": false}, {\"time\": 175.0, \"variable\": \"VPD\", \"value\": 0.07, \"is_missing\": false}, {\"time\": 176.0, \"variable\": \"VPD\", \"value\": 0.114, \"is_missing\": true}, {\"time\": 177.0, \"variable\": \"VPD\", \"value\": 0.138, \"is_missing\": false}, {\"time\": 178.0, \"variable\": \"VPD\", \"value\": 0.176, \"is_missing\": false}, {\"time\": 179.0, \"variable\": \"VPD\", \"value\": 0.143, \"is_missing\": false}, {\"time\": 180.0, \"variable\": \"VPD\", \"value\": 0.138, \"is_missing\": false}, {\"time\": 181.0, \"variable\": \"VPD\", \"value\": 0.269, \"is_missing\": false}, {\"time\": 182.0, \"variable\": \"VPD\", \"value\": 0.353, \"is_missing\": false}, {\"time\": 183.0, \"variable\": \"VPD\", \"value\": 0.299, \"is_missing\": false}, {\"time\": 184.0, \"variable\": \"VPD\", \"value\": 0.262, \"is_missing\": true}, {\"time\": 185.0, \"variable\": \"VPD\", \"value\": 0.286, \"is_missing\": true}, {\"time\": 186.0, \"variable\": \"VPD\", \"value\": 0.278, \"is_missing\": false}, {\"time\": 187.0, \"variable\": \"VPD\", \"value\": 0.34, \"is_missing\": true}, {\"time\": 188.0, \"variable\": \"VPD\", \"value\": 0.349, \"is_missing\": false}, {\"time\": 189.0, \"variable\": \"VPD\", \"value\": 0.416, \"is_missing\": true}, {\"time\": 190.0, \"variable\": \"VPD\", \"value\": 0.463, \"is_missing\": true}, {\"time\": 191.0, \"variable\": \"VPD\", \"value\": 0.844, \"is_missing\": false}, {\"time\": 192.0, \"variable\": \"VPD\", \"value\": 1.213, \"is_missing\": false}, {\"time\": 193.0, \"variable\": \"VPD\", \"value\": 1.131, \"is_missing\": true}, {\"time\": 194.0, \"variable\": \"VPD\", \"value\": 1.114, \"is_missing\": false}, {\"time\": 195.0, \"variable\": \"VPD\", \"value\": 1.191, \"is_missing\": false}, {\"time\": 196.0, \"variable\": \"VPD\", \"value\": 1.057, \"is_missing\": false}, {\"time\": 197.0, \"variable\": \"VPD\", \"value\": 0.935, \"is_missing\": true}, {\"time\": 198.0, \"variable\": \"VPD\", \"value\": 1.162, \"is_missing\": false}, {\"time\": 199.0, \"variable\": \"VPD\", \"value\": 1.636, \"is_missing\": false}], \"data-b7ece9e7f1778072c5f1b4abf9a1541c\": [{\"time\": 0.0, \"variable\": \"VPD\", \"mean\": 0.222, \"std\": null}, {\"time\": 2.0, \"variable\": \"VPD\", \"mean\": 0.09, \"std\": null}, {\"time\": 3.0, \"variable\": \"VPD\", \"mean\": 0.11, \"std\": null}, {\"time\": 4.0, \"variable\": \"VPD\", \"mean\": 0.102, \"std\": null}, {\"time\": 11.0, \"variable\": \"VPD\", \"mean\": 0.122, \"std\": null}, {\"time\": 13.0, \"variable\": \"VPD\", \"mean\": 0.066, \"std\": null}, {\"time\": 14.0, \"variable\": \"VPD\", \"mean\": 0.044, \"std\": null}, {\"time\": 15.0, \"variable\": \"VPD\", \"mean\": 0.026, \"std\": null}, {\"time\": 16.0, \"variable\": \"VPD\", \"mean\": 0.016, \"std\": null}, {\"time\": 17.0, \"variable\": \"VPD\", \"mean\": 0.01, \"std\": null}, {\"time\": 19.0, \"variable\": \"VPD\", \"mean\": 0.006, \"std\": null}, {\"time\": 21.0, \"variable\": \"VPD\", \"mean\": 0.011, \"std\": null}, {\"time\": 23.0, \"variable\": \"VPD\", \"mean\": 0.014, \"std\": null}, {\"time\": 24.0, \"variable\": \"VPD\", \"mean\": 0.008, \"std\": null}, {\"time\": 25.0, \"variable\": \"VPD\", \"mean\": 0.006, \"std\": null}, {\"time\": 26.0, \"variable\": \"VPD\", \"mean\": 0.0, \"std\": null}, {\"time\": 27.0, \"variable\": \"VPD\", \"mean\": 0.0, \"std\": null}, {\"time\": 30.0, \"variable\": \"VPD\", \"mean\": 0.0, \"std\": null}, {\"time\": 36.0, \"variable\": \"VPD\", \"mean\": 0.0, \"std\": null}, {\"time\": 37.0, \"variable\": \"VPD\", \"mean\": 0.002, \"std\": null}, {\"time\": 38.0, \"variable\": \"VPD\", \"mean\": 0.009, \"std\": null}, {\"time\": 39.0, \"variable\": \"VPD\", \"mean\": 0.014, \"std\": null}, {\"time\": 41.0, \"variable\": \"VPD\", \"mean\": 0.038, \"std\": null}, {\"time\": 44.0, \"variable\": \"VPD\", \"mean\": 0.388, \"std\": null}, {\"time\": 45.0, \"variable\": \"VPD\", \"mean\": 0.555, \"std\": null}, {\"time\": 46.0, \"variable\": \"VPD\", \"mean\": 0.452, \"std\": null}, {\"time\": 49.0, \"variable\": \"VPD\", \"mean\": 0.234, \"std\": null}, {\"time\": 51.0, \"variable\": \"VPD\", \"mean\": 0.414, \"std\": null}, {\"time\": 54.0, \"variable\": \"VPD\", \"mean\": 0.188, \"std\": null}, {\"time\": 61.0, \"variable\": \"VPD\", \"mean\": 0.026, \"std\": null}, {\"time\": 62.0, \"variable\": \"VPD\", \"mean\": 0.013, \"std\": null}, {\"time\": 64.0, \"variable\": \"VPD\", \"mean\": 0.18, \"std\": null}, {\"time\": 66.0, \"variable\": \"VPD\", \"mean\": 0.177, \"std\": null}, {\"time\": 67.0, \"variable\": \"VPD\", \"mean\": 0.181, \"std\": null}, {\"time\": 68.0, \"variable\": \"VPD\", \"mean\": 0.188, \"std\": null}, {\"time\": 71.0, \"variable\": \"VPD\", \"mean\": 0.346, \"std\": null}, {\"time\": 79.0, \"variable\": \"VPD\", \"mean\": 0.062, \"std\": null}, {\"time\": 80.0, \"variable\": \"VPD\", \"mean\": 0.044, \"std\": null}, {\"time\": 81.0, \"variable\": \"VPD\", \"mean\": 0.034, \"std\": null}, {\"time\": 82.0, \"variable\": \"VPD\", \"mean\": 0.032, \"std\": null}, {\"time\": 84.0, \"variable\": \"VPD\", \"mean\": 0.125, \"std\": null}, {\"time\": 85.0, \"variable\": \"VPD\", \"mean\": 0.128, \"std\": null}, {\"time\": 86.0, \"variable\": \"VPD\", \"mean\": 0.201, \"std\": null}, {\"time\": 88.0, \"variable\": \"VPD\", \"mean\": 0.154, \"std\": null}, {\"time\": 89.0, \"variable\": \"VPD\", \"mean\": 0.177, \"std\": null}, {\"time\": 91.0, \"variable\": \"VPD\", \"mean\": 0.149, \"std\": null}, {\"time\": 92.0, \"variable\": \"VPD\", \"mean\": 0.112, \"std\": null}, {\"time\": 95.0, \"variable\": \"VPD\", \"mean\": 0.021, \"std\": null}, {\"time\": 96.0, \"variable\": \"VPD\", \"mean\": 0.013, \"std\": null}, {\"time\": 98.0, \"variable\": \"VPD\", \"mean\": 0.0, \"std\": null}, {\"time\": 101.0, \"variable\": \"VPD\", \"mean\": 0.0, \"std\": null}, {\"time\": 103.0, \"variable\": \"VPD\", \"mean\": 0.0, \"std\": null}, {\"time\": 107.0, \"variable\": \"VPD\", \"mean\": 0.061, \"std\": null}, {\"time\": 110.0, \"variable\": \"VPD\", \"mean\": 0.294, \"std\": null}, {\"time\": 112.0, \"variable\": \"VPD\", \"mean\": 0.478, \"std\": null}, {\"time\": 116.0, \"variable\": \"VPD\", \"mean\": 0.654, \"std\": null}, {\"time\": 118.0, \"variable\": \"VPD\", \"mean\": 0.838, \"std\": null}, {\"time\": 120.0, \"variable\": \"VPD\", \"mean\": 0.818, \"std\": null}, {\"time\": 123.0, \"variable\": \"VPD\", \"mean\": 0.773, \"std\": null}, {\"time\": 125.0, \"variable\": \"VPD\", \"mean\": 0.759, \"std\": null}, {\"time\": 127.0, \"variable\": \"VPD\", \"mean\": 0.671, \"std\": null}, {\"time\": 129.0, \"variable\": \"VPD\", \"mean\": 0.641, \"std\": null}, {\"time\": 134.0, \"variable\": \"VPD\", \"mean\": 0.429, \"std\": null}, {\"time\": 135.0, \"variable\": \"VPD\", \"mean\": 0.449, \"std\": null}, {\"time\": 138.0, \"variable\": \"VPD\", \"mean\": 0.432, \"std\": null}, {\"time\": 140.0, \"variable\": \"VPD\", \"mean\": 0.417, \"std\": null}, {\"time\": 141.0, \"variable\": \"VPD\", \"mean\": 0.432, \"std\": null}, {\"time\": 142.0, \"variable\": \"VPD\", \"mean\": 0.441, \"std\": null}, {\"time\": 147.0, \"variable\": \"VPD\", \"mean\": 0.813, \"std\": null}, {\"time\": 148.0, \"variable\": \"VPD\", \"mean\": 0.952, \"std\": null}, {\"time\": 150.0, \"variable\": \"VPD\", \"mean\": 0.958, \"std\": null}, {\"time\": 152.0, \"variable\": \"VPD\", \"mean\": 0.785, \"std\": null}, {\"time\": 153.0, \"variable\": \"VPD\", \"mean\": 0.529, \"std\": null}, {\"time\": 154.0, \"variable\": \"VPD\", \"mean\": 0.45, \"std\": null}, {\"time\": 156.0, \"variable\": \"VPD\", \"mean\": 0.382, \"std\": null}, {\"time\": 159.0, \"variable\": \"VPD\", \"mean\": 0.268, \"std\": null}, {\"time\": 160.0, \"variable\": \"VPD\", \"mean\": 0.122, \"std\": null}, {\"time\": 161.0, \"variable\": \"VPD\", \"mean\": 0.072, \"std\": null}, {\"time\": 163.0, \"variable\": \"VPD\", \"mean\": 0.045, \"std\": null}, {\"time\": 165.0, \"variable\": \"VPD\", \"mean\": 0.036, \"std\": null}, {\"time\": 166.0, \"variable\": \"VPD\", \"mean\": 0.045, \"std\": null}, {\"time\": 167.0, \"variable\": \"VPD\", \"mean\": 0.087, \"std\": null}, {\"time\": 168.0, \"variable\": \"VPD\", \"mean\": 0.106, \"std\": null}, {\"time\": 169.0, \"variable\": \"VPD\", \"mean\": 0.089, \"std\": null}, {\"time\": 170.0, \"variable\": \"VPD\", \"mean\": 0.067, \"std\": null}, {\"time\": 172.0, \"variable\": \"VPD\", \"mean\": 0.051, \"std\": null}, {\"time\": 173.0, \"variable\": \"VPD\", \"mean\": 0.046, \"std\": null}, {\"time\": 174.0, \"variable\": \"VPD\", \"mean\": 0.047, \"std\": null}, {\"time\": 175.0, \"variable\": \"VPD\", \"mean\": 0.07, \"std\": null}, {\"time\": 178.0, \"variable\": \"VPD\", \"mean\": 0.176, \"std\": null}, {\"time\": 180.0, \"variable\": \"VPD\", \"mean\": 0.138, \"std\": null}, {\"time\": 188.0, \"variable\": \"VPD\", \"mean\": 0.349, \"std\": null}, {\"time\": 191.0, \"variable\": \"VPD\", \"mean\": 0.844, \"std\": null}, {\"time\": 194.0, \"variable\": \"VPD\", \"mean\": 1.114, \"std\": null}, {\"time\": 195.0, \"variable\": \"VPD\", \"mean\": 1.191, \"std\": null}, {\"time\": 196.0, \"variable\": \"VPD\", \"mean\": 1.057, \"std\": null}, {\"time\": 198.0, \"variable\": \"VPD\", \"mean\": 1.162, \"std\": null}, {\"time\": 199.0, \"variable\": \"VPD\", \"mean\": 1.636, \"std\": null}, {\"time\": 1.0, \"variable\": \"VPD\", \"mean\": -0.09719523787498474, \"std\": 0.2523818612098694}, {\"time\": 5.0, \"variable\": \"VPD\", \"mean\": 0.11100001633167267, \"std\": 0.0}, {\"time\": 6.0, \"variable\": \"VPD\", \"mean\": -0.05820474028587341, \"std\": 0.25234851241111755}, {\"time\": 7.0, \"variable\": \"VPD\", \"mean\": 0.10699999332427979, \"std\": 0.0}, {\"time\": 8.0, \"variable\": \"VPD\", \"mean\": -0.043771445751190186, \"std\": 0.2523408532142639}, {\"time\": 9.0, \"variable\": \"VPD\", \"mean\": -0.03945493698120117, \"std\": 0.25233194231987}, {\"time\": 10.0, \"variable\": \"VPD\", \"mean\": 0.1379999965429306, \"std\": 0.0}, {\"time\": 12.0, \"variable\": \"VPD\", \"mean\": 0.09800000488758087, \"std\": 0.0}, {\"time\": 18.0, \"variable\": \"VPD\", \"mean\": 0.006000012159347534, \"std\": 0.0}, {\"time\": 20.0, \"variable\": \"VPD\", \"mean\": 0.021074801683425903, \"std\": 0.25230011343955994}, {\"time\": 22.0, \"variable\": \"VPD\", \"mean\": 0.047135233879089355, \"std\": 0.2522967755794525}, {\"time\": 28.0, \"variable\": \"VPD\", \"mean\": 0.08628970384597778, \"std\": 0.25231418013572693}, {\"time\": 29.0, \"variable\": \"VPD\", \"mean\": 0.0, \"std\": 0.0}, {\"time\": 31.0, \"variable\": \"VPD\", \"mean\": 0.0, \"std\": 0.0}, {\"time\": 32.0, \"variable\": \"VPD\", \"mean\": 0.0, \"std\": 0.0}, {\"time\": 33.0, \"variable\": \"VPD\", \"mean\": 0.1600005328655243, \"std\": 0.25237271189689636}, {\"time\": 34.0, \"variable\": \"VPD\", \"mean\": 0.18964235484600067, \"std\": 0.25236159563064575}, {\"time\": 35.0, \"variable\": \"VPD\", \"mean\": 0.22349298000335693, \"std\": 0.2523438334465027}, {\"time\": 40.0, \"variable\": \"VPD\", \"mean\": 0.013999998569488525, \"std\": 0.0}, {\"time\": 42.0, \"variable\": \"VPD\", \"mean\": 0.4419330656528473, \"std\": 0.25234082341194153}, {\"time\": 43.0, \"variable\": \"VPD\", \"mean\": 0.45231038331985474, \"std\": 0.2523385286331177}, {\"time\": 47.0, \"variable\": \"VPD\", \"mean\": 0.4350000023841858, \"std\": 0.0}, {\"time\": 48.0, \"variable\": \"VPD\", \"mean\": 0.3959202468395233, \"std\": 0.2523500919342041}, {\"time\": 50.0, \"variable\": \"VPD\", \"mean\": 0.37700000405311584, \"std\": 0.0}, {\"time\": 52.0, \"variable\": \"VPD\", \"mean\": 0.2810337245464325, \"std\": 0.2523866295814514}, {\"time\": 53.0, \"variable\": \"VPD\", \"mean\": 0.20499999821186066, \"std\": 0.0}, {\"time\": 55.0, \"variable\": \"VPD\", \"mean\": 0.21069464087486267, \"std\": 0.2523985207080841}, {\"time\": 56.0, \"variable\": \"VPD\", \"mean\": 0.27000001072883606, \"std\": 0.0}, {\"time\": 57.0, \"variable\": \"VPD\", \"mean\": 0.17781740427017212, \"std\": 0.2523733079433441}, {\"time\": 58.0, \"variable\": \"VPD\", \"mean\": 0.22499999403953552, \"std\": 0.0}, {\"time\": 59.0, \"variable\": \"VPD\", \"mean\": 0.12299999594688416, \"std\": 0.0}, {\"time\": 60.0, \"variable\": \"VPD\", \"mean\": 0.05300000309944153, \"std\": 0.0}, {\"time\": 63.0, \"variable\": \"VPD\", \"mean\": 0.0169999897480011, \"std\": 0.0}, {\"time\": 65.0, \"variable\": \"VPD\", \"mean\": 0.06164541840553284, \"std\": 0.2522912323474884}, {\"time\": 69.0, \"variable\": \"VPD\", \"mean\": 0.09804320335388184, \"std\": 0.25233352184295654}, {\"time\": 70.0, \"variable\": \"VPD\", \"mean\": 0.1245821863412857, \"std\": 0.25234323740005493}, {\"time\": 72.0, \"variable\": \"VPD\", \"mean\": 0.18159693479537964, \"std\": 0.2523425817489624}, {\"time\": 73.0, \"variable\": \"VPD\", \"mean\": 0.3490000069141388, \"std\": 0.0}, {\"time\": 74.0, \"variable\": \"VPD\", \"mean\": 0.21917888522148132, \"std\": 0.25232407450675964}, {\"time\": 75.0, \"variable\": \"VPD\", \"mean\": 0.22342397272586823, \"std\": 0.25231534242630005}, {\"time\": 76.0, \"variable\": \"VPD\", \"mean\": 0.36899998784065247, \"std\": 0.0}, {\"time\": 77.0, \"variable\": \"VPD\", \"mean\": 0.19974413514137268, \"std\": 0.2523057162761688}, {\"time\": 78.0, \"variable\": \"VPD\", \"mean\": 0.1754235327243805, \"std\": 0.2523031532764435}, {\"time\": 83.0, \"variable\": \"VPD\", \"mean\": 0.05500000715255737, \"std\": 0.0}, {\"time\": 87.0, \"variable\": \"VPD\", \"mean\": 0.12384356558322906, \"std\": 0.25230640172958374}, {\"time\": 90.0, \"variable\": \"VPD\", \"mean\": 0.1572679579257965, \"std\": 0.25230997800827026}, {\"time\": 93.0, \"variable\": \"VPD\", \"mean\": 0.07500000298023224, \"std\": 0.0}, {\"time\": 94.0, \"variable\": \"VPD\", \"mean\": 0.10907365381717682, \"std\": 0.25230303406715393}, {\"time\": 97.0, \"variable\": \"VPD\", \"mean\": 0.0040000081062316895, \"std\": 0.0}, {\"time\": 99.0, \"variable\": \"VPD\", \"mean\": 0.06444531679153442, \"std\": 0.25233373045921326}, {\"time\": 100.0, \"variable\": \"VPD\", \"mean\": 0.0, \"std\": 0.0}, {\"time\": 102.0, \"variable\": \"VPD\", \"mean\": 0.11730098724365234, \"std\": 0.2523437440395355}, {\"time\": 104.0, \"variable\": \"VPD\", \"mean\": 0.16986572742462158, \"std\": 0.25232264399528503}, {\"time\": 105.0, \"variable\": \"VPD\", \"mean\": 0.0, \"std\": 0.0}, {\"time\": 106.0, \"variable\": \"VPD\", \"mean\": 0.21973136067390442, \"std\": 0.25230586528778076}, {\"time\": 108.0, \"variable\": \"VPD\", \"mean\": 0.17399999499320984, \"std\": 0.0}, {\"time\": 109.0, \"variable\": \"VPD\", \"mean\": 0.2736488878726959, \"std\": 0.2523157000541687}, {\"time\": 111.0, \"variable\": \"VPD\", \"mean\": 0.29772433638572693, \"std\": 0.2523233890533447}, {\"time\": 113.0, \"variable\": \"VPD\", \"mean\": 0.32043009996414185, \"std\": 0.2523161470890045}, {\"time\": 114.0, \"variable\": \"VPD\", \"mean\": 0.6169999837875366, \"std\": 0.0}, {\"time\": 115.0, \"variable\": \"VPD\", \"mean\": 0.656000018119812, \"std\": 0.0}, {\"time\": 117.0, \"variable\": \"VPD\", \"mean\": 0.3850048780441284, \"std\": 0.25230762362480164}, {\"time\": 119.0, \"variable\": \"VPD\", \"mean\": 0.4246406555175781, \"std\": 0.25232625007629395}, {\"time\": 121.0, \"variable\": \"VPD\", \"mean\": 0.4578399956226349, \"std\": 0.25233742594718933}, {\"time\": 122.0, \"variable\": \"VPD\", \"mean\": 0.46864110231399536, \"std\": 0.2523352801799774}, {\"time\": 124.0, \"variable\": \"VPD\", \"mean\": 0.7870000004768372, \"std\": 0.0}, {\"time\": 126.0, \"variable\": \"VPD\", \"mean\": 0.45855438709259033, \"std\": 0.25231823325157166}, {\"time\": 128.0, \"variable\": \"VPD\", \"mean\": 0.4291403889656067, \"std\": 0.2523319125175476}, {\"time\": 130.0, \"variable\": \"VPD\", \"mean\": 0.5590000152587891, \"std\": 0.0}, {\"time\": 131.0, \"variable\": \"VPD\", \"mean\": 0.3854149281978607, \"std\": 0.2523576021194458}, {\"time\": 132.0, \"variable\": \"VPD\", \"mean\": 0.3757573962211609, \"std\": 0.25235825777053833}, {\"time\": 133.0, \"variable\": \"VPD\", \"mean\": 0.36936843395233154, \"std\": 0.2523535192012787}, {\"time\": 136.0, \"variable\": \"VPD\", \"mean\": 0.47099998593330383, \"std\": 0.0}, {\"time\": 137.0, \"variable\": \"VPD\", \"mean\": 0.4339999854564667, \"std\": 0.0}, {\"time\": 139.0, \"variable\": \"VPD\", \"mean\": 0.4090000092983246, \"std\": 0.0}, {\"time\": 143.0, \"variable\": \"VPD\", \"mean\": 0.46700000762939453, \"std\": 0.0}, {\"time\": 144.0, \"variable\": \"VPD\", \"mean\": 0.45899999141693115, \"std\": 0.0}, {\"time\": 145.0, \"variable\": \"VPD\", \"mean\": 0.381254106760025, \"std\": 0.252320259809494}, {\"time\": 146.0, \"variable\": \"VPD\", \"mean\": 0.6999999284744263, \"std\": 0.0}, {\"time\": 149.0, \"variable\": \"VPD\", \"mean\": 0.9710000157356262, \"std\": 0.0}, {\"time\": 151.0, \"variable\": \"VPD\", \"mean\": 0.9380000233650208, \"std\": 0.0}, {\"time\": 155.0, \"variable\": \"VPD\", \"mean\": 0.36586207151412964, \"std\": 0.25231578946113586}, {\"time\": 157.0, \"variable\": \"VPD\", \"mean\": 0.31299999356269836, \"std\": 0.0}, {\"time\": 158.0, \"variable\": \"VPD\", \"mean\": 0.35177427530288696, \"std\": 0.2523082196712494}, {\"time\": 162.0, \"variable\": \"VPD\", \"mean\": 0.3605519235134125, \"std\": 0.25231224298477173}, {\"time\": 164.0, \"variable\": \"VPD\", \"mean\": 0.03800000250339508, \"std\": 0.0}, {\"time\": 171.0, \"variable\": \"VPD\", \"mean\": 0.06100001931190491, \"std\": 0.0}, {\"time\": 176.0, \"variable\": \"VPD\", \"mean\": 0.5317418575286865, \"std\": 0.25229257345199585}, {\"time\": 177.0, \"variable\": \"VPD\", \"mean\": 0.1379999965429306, \"std\": 0.0}, {\"time\": 179.0, \"variable\": \"VPD\", \"mean\": 0.14300000667572021, \"std\": 0.0}, {\"time\": 181.0, \"variable\": \"VPD\", \"mean\": 0.26899999380111694, \"std\": 0.0}, {\"time\": 182.0, \"variable\": \"VPD\", \"mean\": 0.3529999852180481, \"std\": 0.0}, {\"time\": 183.0, \"variable\": \"VPD\", \"mean\": 0.29899999499320984, \"std\": 0.0}, {\"time\": 184.0, \"variable\": \"VPD\", \"mean\": 0.7775222063064575, \"std\": 0.25233134627342224}, {\"time\": 185.0, \"variable\": \"VPD\", \"mean\": 0.795855700969696, \"std\": 0.2523380219936371}, {\"time\": 186.0, \"variable\": \"VPD\", \"mean\": 0.27799999713897705, \"std\": 0.0}, {\"time\": 187.0, \"variable\": \"VPD\", \"mean\": 0.8185731768608093, \"std\": 0.2523362934589386}, {\"time\": 189.0, \"variable\": \"VPD\", \"mean\": 0.8266318440437317, \"std\": 0.25232598185539246}, {\"time\": 190.0, \"variable\": \"VPD\", \"mean\": 0.8273710608482361, \"std\": 0.25232169032096863}, {\"time\": 192.0, \"variable\": \"VPD\", \"mean\": 1.2130000591278076, \"std\": 0.0}, {\"time\": 193.0, \"variable\": \"VPD\", \"mean\": 0.8264458179473877, \"std\": 0.2523191571235657}, {\"time\": 197.0, \"variable\": \"VPD\", \"mean\": 0.8204337358474731, \"std\": 0.2523319721221924}]}}, {\"mode\": \"vega-lite\"});\n",
       "</script>"
      ],
      "text/plain": [
       "alt.VConcatChart(...)"
      ]
     },
     "execution_count": null,
     "metadata": {},
     "output_type": "execute_result"
    }
   ],
   "source": [
    "hai_plot = gpfa_hai.plot_pred(units=units, properties =  {'height': 190 , 'width': 380})\n",
    "\n",
    "hai_plot.save(\"plots/plot_hai_winter_4_var_200_obs_random_gaps_row_20_value_10.vl.json\")\n",
    "hai_plot"
   ]
  },
  {
   "cell_type": "code",
   "execution_count": null,
   "id": "a9ee191f-ad57-4970-a5df-81d2096272b1",
   "metadata": {},
   "outputs": [],
   "source": [
    "#gpfa_hai.plot_pred(complete= gpfa_data.tidy_df(complete=True, is_missing=True) )"
   ]
  },
  {
   "cell_type": "code",
   "execution_count": null,
   "id": "a7ba7dc3-9b4a-4bde-9340-c42eb64abea5",
   "metadata": {},
   "outputs": [
    {
     "ename": "AttributeError",
     "evalue": "module 'sklearn' has no attribute 'metrics'",
     "output_type": "error",
     "traceback": [
      "\u001b[0;31m---------------------------------------------------------------------------\u001b[0m",
      "\u001b[0;31mAttributeError\u001b[0m                            Traceback (most recent call last)",
      "Input \u001b[0;32mIn [13]\u001b[0m, in \u001b[0;36m<cell line: 1>\u001b[0;34m()\u001b[0m\n\u001b[0;32m----> 1\u001b[0m \u001b[43mgpfa_hai\u001b[49m\u001b[38;5;241;43m.\u001b[39;49m\u001b[43mrmse\u001b[49m\u001b[43m(\u001b[49m\u001b[43m)\u001b[49m\n",
      "File \u001b[0;32m~/Documents/uni/Thesis/GPFA_imputation/gpfa_imputation/imputation.py:212\u001b[0m, in \u001b[0;36mrmse\u001b[0;34m(self)\u001b[0m\n\u001b[1;32m    209\u001b[0m \u001b[38;5;129m@patch\u001b[39m\n\u001b[1;32m    210\u001b[0m \u001b[38;5;28;01mdef\u001b[39;00m \u001b[38;5;21mrmse\u001b[39m(\u001b[38;5;28mself\u001b[39m: GPFAImputation):\n\u001b[0;32m--> 212\u001b[0m     \u001b[38;5;28;01mreturn\u001b[39;00m \u001b[38;5;28;43mself\u001b[39;49m\u001b[38;5;241;43m.\u001b[39;49m\u001b[43mcompute_metric\u001b[49m\u001b[43m(\u001b[49m\u001b[38;5;28;43;01mlambda\u001b[39;49;00m\u001b[43m \u001b[49m\u001b[43mx\u001b[49m\u001b[43m,\u001b[49m\u001b[43m \u001b[49m\u001b[43my\u001b[49m\u001b[43m:\u001b[49m\u001b[43m \u001b[49m\u001b[43mnp\u001b[49m\u001b[38;5;241;43m.\u001b[39;49m\u001b[43msqrt\u001b[49m\u001b[43m(\u001b[49m\u001b[43msklearn\u001b[49m\u001b[38;5;241;43m.\u001b[39;49m\u001b[43mmetrics\u001b[49m\u001b[38;5;241;43m.\u001b[39;49m\u001b[43mmean_squared_error\u001b[49m\u001b[43m(\u001b[49m\u001b[43mx\u001b[49m\u001b[43m,\u001b[49m\u001b[43my\u001b[49m\u001b[43m)\u001b[49m\u001b[43m)\u001b[49m\u001b[43m,\u001b[49m\u001b[43m \u001b[49m\u001b[38;5;124;43m\"\u001b[39;49m\u001b[38;5;124;43mrmse\u001b[39;49m\u001b[38;5;124;43m\"\u001b[39;49m\u001b[43m)\u001b[49m\n",
      "File \u001b[0;32m~/Documents/uni/Thesis/GPFA_imputation/gpfa_imputation/imputation.py:204\u001b[0m, in \u001b[0;36mcompute_metric\u001b[0;34m(self, metric, metric_name)\u001b[0m\n\u001b[1;32m    201\u001b[0m \u001b[38;5;28;01mfor\u001b[39;00m var \u001b[38;5;129;01min\u001b[39;00m df\u001b[38;5;241m.\u001b[39mvariable\u001b[38;5;241m.\u001b[39munique():\n\u001b[1;32m    202\u001b[0m     df_var \u001b[38;5;241m=\u001b[39m df[df\u001b[38;5;241m.\u001b[39mvariable \u001b[38;5;241m==\u001b[39m var]\n\u001b[1;32m    203\u001b[0m     \u001b[38;5;28mvars\u001b[39m\u001b[38;5;241m.\u001b[39mappend({\u001b[38;5;124m'\u001b[39m\u001b[38;5;124mvariable\u001b[39m\u001b[38;5;124m'\u001b[39m: var,\n\u001b[0;32m--> 204\u001b[0m                   metric_name: \u001b[43mmetric\u001b[49m\u001b[43m(\u001b[49m\u001b[43mdf_var\u001b[49m\u001b[43m[\u001b[49m\u001b[38;5;124;43m'\u001b[39;49m\u001b[38;5;124;43mvalue\u001b[39;49m\u001b[38;5;124;43m'\u001b[39;49m\u001b[43m]\u001b[49m\u001b[43m,\u001b[49m\u001b[43m \u001b[49m\u001b[43mdf_var\u001b[49m\u001b[43m[\u001b[49m\u001b[38;5;124;43m'\u001b[39;49m\u001b[38;5;124;43mmean\u001b[39;49m\u001b[38;5;124;43m'\u001b[39;49m\u001b[43m]\u001b[49m\u001b[43m)\u001b[49m})\n\u001b[1;32m    206\u001b[0m \u001b[38;5;28;01mreturn\u001b[39;00m pd\u001b[38;5;241m.\u001b[39mDataFrame(\u001b[38;5;28mvars\u001b[39m)\n",
      "File \u001b[0;32m~/Documents/uni/Thesis/GPFA_imputation/gpfa_imputation/imputation.py:212\u001b[0m, in \u001b[0;36mrmse.<locals>.<lambda>\u001b[0;34m(x, y)\u001b[0m\n\u001b[1;32m    209\u001b[0m \u001b[38;5;129m@patch\u001b[39m\n\u001b[1;32m    210\u001b[0m \u001b[38;5;28;01mdef\u001b[39;00m \u001b[38;5;21mrmse\u001b[39m(\u001b[38;5;28mself\u001b[39m: GPFAImputation):\n\u001b[0;32m--> 212\u001b[0m     \u001b[38;5;28;01mreturn\u001b[39;00m \u001b[38;5;28mself\u001b[39m\u001b[38;5;241m.\u001b[39mcompute_metric(\u001b[38;5;28;01mlambda\u001b[39;00m x, y: np\u001b[38;5;241m.\u001b[39msqrt(\u001b[43msklearn\u001b[49m\u001b[38;5;241;43m.\u001b[39;49m\u001b[43mmetrics\u001b[49m\u001b[38;5;241m.\u001b[39mmean_squared_error(x,y)), \u001b[38;5;124m\"\u001b[39m\u001b[38;5;124mrmse\u001b[39m\u001b[38;5;124m\"\u001b[39m)\n",
      "\u001b[0;31mAttributeError\u001b[0m: module 'sklearn' has no attribute 'metrics'"
     ]
    }
   ],
   "source": [
    "gpfa_hai.rmse()"
   ]
  },
  {
   "cell_type": "code",
   "execution_count": null,
   "id": "a726c0de-d7a1-4cfd-8517-1f8268cc7907",
   "metadata": {},
   "outputs": [],
   "source": [
    "gpfa_hai.r2()"
   ]
  },
  {
   "cell_type": "code",
   "execution_count": null,
   "id": "77341400-8047-4483-8056-f86bfe1b16e8",
   "metadata": {},
   "outputs": [],
   "source": [
    "losses = pd.DataFrame(gpfa_hai.learner.losses.cpu().numpy(), columns=['loss'])\n",
    "\n",
    "p = losses.plot()\n",
    "plt.savefig(here('analysis/plots/loss_plot_hai_winter_4_var_200_obs_random_gaps_row_20_value_10.png'))\n",
    "p"
   ]
  },
  {
   "cell_type": "markdown",
   "id": "4be486ea-c681-46d8-92af-05418e80d466",
   "metadata": {},
   "source": [
    "Lambda parameter, the latent variable is very similar to the "
   ]
  },
  {
   "cell_type": "code",
   "execution_count": null,
   "id": "e1d2dbbf-0a7d-4e98-adea-07adebb389d1",
   "metadata": {},
   "outputs": [
    {
     "ename": "NameError",
     "evalue": "name 'gpfa_hai' is not defined",
     "output_type": "error",
     "traceback": [
      "\u001b[0;31m---------------------------------------------------------------------------\u001b[0m",
      "\u001b[0;31mNameError\u001b[0m                                 Traceback (most recent call last)",
      "Input \u001b[0;32mIn [7]\u001b[0m, in \u001b[0;36m<cell line: 1>\u001b[0;34m()\u001b[0m\n\u001b[0;32m----> 1\u001b[0m \u001b[43mgpfa_hai\u001b[49m\u001b[38;5;241m.\u001b[39mdata\u001b[38;5;241m.\u001b[39mcorr()\n",
      "\u001b[0;31mNameError\u001b[0m: name 'gpfa_hai' is not defined"
     ]
    }
   ],
   "source": [
    "gpfa_hai.data.corr()"
   ]
  },
  {
   "cell_type": "code",
   "execution_count": null,
   "id": "92f9c31f-0cce-4c9f-948f-f8410d92666a",
   "metadata": {},
   "outputs": [],
   "source": [
    "gpfa_hai.learner.model.covar_module.Lambda.detach()"
   ]
  },
  {
   "cell_type": "markdown",
   "id": "28f0ed17-6032-4659-8919-e0550ec63d04",
   "metadata": {},
   "source": [
    "this is the value of the length scale of the RBF latent kernel"
   ]
  },
  {
   "cell_type": "code",
   "execution_count": null,
   "id": "b037e831-eaf7-461d-a3ae-1588390cc957",
   "metadata": {},
   "outputs": [],
   "source": [
    "gpfa_hai.learner.model.covar_module.latent_kernel.lengthscale.detach()"
   ]
  },
  {
   "cell_type": "code",
   "execution_count": null,
   "id": "02aace6c-9175-411c-bfdd-4845d79c4057",
   "metadata": {},
   "outputs": [],
   "source": [
    "gpfa_hai.learner.model.covar_module.psi.detach()"
   ]
  },
  {
   "cell_type": "markdown",
   "id": "f96e9662-8956-41f1-862f-7bce79f56318",
   "metadata": {},
   "source": [
    "### Summer"
   ]
  },
  {
   "cell_type": "markdown",
   "id": "ce845765-e7bb-4d66-b837-b24b44ef9bfb",
   "metadata": {},
   "source": [
    "The low correlation between `SW_IN` and `TA` is likely due to cloud cover, which is hard to predict with a dialy cycle. Hence we are looking at summer days and there is a much better correlation"
   ]
  },
  {
   "cell_type": "code",
   "execution_count": null,
   "id": "e9c7824e-93f5-45db-bf76-453c6c5ae210",
   "metadata": {},
   "outputs": [
    {
     "ename": "NameError",
     "evalue": "name 'pd' is not defined",
     "output_type": "error",
     "traceback": [
      "\u001b[0;31m---------------------------------------------------------------------------\u001b[0m",
      "\u001b[0;31mNameError\u001b[0m                                 Traceback (most recent call last)",
      "Input \u001b[0;32mIn [1]\u001b[0m, in \u001b[0;36m<cell line: 1>\u001b[0;34m()\u001b[0m\n\u001b[0;32m----> 1\u001b[0m hai_raw2 \u001b[38;5;241m=\u001b[39m \u001b[43mpd\u001b[49m\u001b[38;5;241m.\u001b[39mread_csv(here(\u001b[38;5;124m\"\u001b[39m\u001b[38;5;124mdata\u001b[39m\u001b[38;5;124m\"\u001b[39m) \u001b[38;5;241m/\u001b[39m hai_path, na_values\u001b[38;5;241m=\u001b[39m[\u001b[38;5;124m\"\u001b[39m\u001b[38;5;124m-9999\u001b[39m\u001b[38;5;124m\"\u001b[39m, \u001b[38;5;124m\"\u001b[39m\u001b[38;5;124m-9999.99\u001b[39m\u001b[38;5;124m\"\u001b[39m], parse_dates\u001b[38;5;241m=\u001b[39m[\u001b[38;5;241m0\u001b[39m, \u001b[38;5;241m1\u001b[39m], nrows\u001b[38;5;241m=\u001b[39m \u001b[38;5;241m7\u001b[39m \u001b[38;5;241m*\u001b[39m \u001b[38;5;241m30\u001b[39m \u001b[38;5;241m*\u001b[39m \u001b[38;5;241m24\u001b[39m \u001b[38;5;241m*\u001b[39m \u001b[38;5;241m2\u001b[39m)\n",
      "\u001b[0;31mNameError\u001b[0m: name 'pd' is not defined"
     ]
    }
   ],
   "source": [
    "hai_raw2 = pd.read_csv(here(\"data\") / hai_path, na_values=[\"-9999\", \"-9999.99\"], parse_dates=[0, 1], nrows= 7 * 30 * 24 * 2)"
   ]
  },
  {
   "cell_type": "code",
   "execution_count": null,
   "id": "288ca856-1da1-432d-9879-65316042a737",
   "metadata": {},
   "outputs": [],
   "source": [
    "meteo_vars = {\n",
    "    \"TA_F\": \"TA\",\n",
    "    \"SW_IN_F\": \"SW_IN\",\n",
    "    \"LW_IN_F\": \"LW_IN\",\n",
    "    \"VPD_F\": \"VPD\",\n",
    "    #\"PA\": \"PA\"\n",
    "}\n",
    "\n",
    "units = {\n",
    "    'TA': '°C',\n",
    "    'SW_IN': 'W m-2',\n",
    "    'LW_IN': 'W m-2',\n",
    "    'VPD': 'hPa'\n",
    "}\n",
    "\n",
    "hai2 = (hai_raw2\n",
    "       .rename(columns=meteo_vars)\n",
    "       .set_index(\"TIMESTAMP_END\")\n",
    "       .loc[:, meteo_vars.values()])\n",
    "hai2"
   ]
  },
  {
   "cell_type": "code",
   "execution_count": null,
   "id": "cbf92728-6205-41e3-856a-5e89ddcae33b",
   "metadata": {},
   "outputs": [],
   "source": [
    "hai2[-800:-500].SW_IN.plot()"
   ]
  },
  {
   "cell_type": "code",
   "execution_count": null,
   "id": "67edb0af-b1aa-4d12-8ce6-18d00fcefad3",
   "metadata": {},
   "outputs": [],
   "source": [
    "hai2[-800:-500].corr()"
   ]
  },
  {
   "cell_type": "code",
   "execution_count": null,
   "id": "cddf4f45-f76a-4619-b056-ef4a6dd7e9ec",
   "metadata": {},
   "outputs": [],
   "source": [
    "gpdata2 = GPFADataTest(hai2[-800:-500].copy()).add_random_missing()"
   ]
  },
  {
   "cell_type": "code",
   "execution_count": null,
   "id": "779630ac-0207-4c32-8115-4183b565802c",
   "metadata": {},
   "outputs": [],
   "source": [
    "gp_imp2 = GPFAImputation(gpdata2.data, gpdata2.tidy_df(complete=True, is_missing=True))"
   ]
  },
  {
   "cell_type": "code",
   "execution_count": null,
   "id": "15aae055-88cc-4283-acc3-bf78661a51d5",
   "metadata": {},
   "outputs": [],
   "source": [
    "%time data_imp2 = gp_imp2.impute()"
   ]
  },
  {
   "cell_type": "code",
   "execution_count": null,
   "id": "f8047525-b895-4959-9be4-7797d5e23315",
   "metadata": {},
   "outputs": [],
   "source": [
    "gp_imp2.plot_pred(units=units)"
   ]
  },
  {
   "cell_type": "code",
   "execution_count": null,
   "id": "d8d972fc-4777-44a1-b970-1e5219283fed",
   "metadata": {},
   "outputs": [],
   "source": [
    "data_imp2"
   ]
  },
  {
   "cell_type": "code",
   "execution_count": null,
   "id": "140dc35a-eb35-462d-b43b-c3c634d38cae",
   "metadata": {},
   "outputs": [],
   "source": [
    "gp_imp2.rmse()"
   ]
  },
  {
   "cell_type": "code",
   "execution_count": null,
   "id": "f65e8e96-ffb9-449f-a020-82d38c82b070",
   "metadata": {},
   "outputs": [],
   "source": [
    "gpdata2.data.corr()"
   ]
  },
  {
   "cell_type": "code",
   "execution_count": null,
   "id": "5b76de1d-9cea-443f-89b8-e0d34675b7ae",
   "metadata": {},
   "outputs": [],
   "source": [
    "gp_imp2.learner.model.covar_module.Lambda.detach()"
   ]
  },
  {
   "cell_type": "code",
   "execution_count": null,
   "id": "eb67cb12-e7d5-4126-b019-59a545e098f9",
   "metadata": {},
   "outputs": [],
   "source": [
    "gp_imp2.learner.model.covar_module.psi.detach()"
   ]
  },
  {
   "cell_type": "markdown",
   "id": "198efd68-af39-439b-b993-b4087c33c95b",
   "metadata": {},
   "source": [
    "this is the value of the length scale of the RBF latent kernel"
   ]
  },
  {
   "cell_type": "code",
   "execution_count": null,
   "id": "9e9cc743-df3c-4d6d-9de3-eaa1907949ca",
   "metadata": {},
   "outputs": [],
   "source": [
    "gp_imp2.learner.model.covar_module.latent_kernel.lengthscale.detach()"
   ]
  },
  {
   "cell_type": "markdown",
   "id": "a9ce7851-dfe4-4326-af8e-96dd76608fc2",
   "metadata": {},
   "source": [
    "#### Only TA and SW_IN"
   ]
  },
  {
   "cell_type": "code",
   "execution_count": null,
   "id": "b9000fd8-19c4-4f94-904d-082337b2340f",
   "metadata": {},
   "outputs": [],
   "source": [
    "gpdata3 = GPFADataTest(hai2[-800:-500].loc[:, [\"TA\", \"SW_IN\"]].copy()).add_random_missing()"
   ]
  },
  {
   "cell_type": "code",
   "execution_count": null,
   "id": "b8c47e82-2fc5-409e-ac4c-fb3db178c119",
   "metadata": {},
   "outputs": [],
   "source": [
    "gp_imp3 = GPFAImputation(gpdata3.data, gpdata3.tidy_df(complete=True, is_missing=True))"
   ]
  },
  {
   "cell_type": "code",
   "execution_count": null,
   "id": "542235c9-0607-4b2e-81c3-b6911c1c227a",
   "metadata": {},
   "outputs": [],
   "source": [
    "%time data_imp3 = gp_imp3.impute()"
   ]
  },
  {
   "cell_type": "code",
   "execution_count": null,
   "id": "0bfc05ac-5580-4c84-8909-a7d1ca29c505",
   "metadata": {},
   "outputs": [],
   "source": [
    "gp_imp3.plot_pred(units=units, bind_interaction=False)"
   ]
  },
  {
   "cell_type": "code",
   "execution_count": null,
   "id": "2d792e2a-a2a3-403d-b7c3-cb204dcdeb8d",
   "metadata": {},
   "outputs": [],
   "source": [
    "data_imp3"
   ]
  },
  {
   "cell_type": "code",
   "execution_count": null,
   "id": "3e9954af-8095-4fed-8d42-411ca26d6e63",
   "metadata": {},
   "outputs": [],
   "source": [
    "gpdata3.data.corr()"
   ]
  },
  {
   "cell_type": "code",
   "execution_count": null,
   "id": "1a1a28e0-a83c-400f-aedc-b76d68c0d790",
   "metadata": {},
   "outputs": [],
   "source": [
    "gp_imp3.learner.model.covar_module.Lambda.detach()"
   ]
  },
  {
   "cell_type": "markdown",
   "id": "58c83b46-5323-4282-a40e-68e3a7cd4d86",
   "metadata": {},
   "source": [
    "this is the value of the length scale of the RBF latent kernel"
   ]
  },
  {
   "cell_type": "code",
   "execution_count": null,
   "id": "73326a0d-bae6-467d-89de-601c9264bfca",
   "metadata": {},
   "outputs": [],
   "source": [
    "gp_imp3.learner.model.covar_module.latent_kernel.lengthscale.detach()"
   ]
  },
  {
   "cell_type": "code",
   "execution_count": null,
   "id": "6faaf88a-b267-4e76-a8f6-e7d60da05a8d",
   "metadata": {},
   "outputs": [],
   "source": [
    "gp_imp3.learner.model.covar_module.latent_kernel.lengthscale.detach()"
   ]
  },
  {
   "cell_type": "markdown",
   "id": "20f38f75-4249-4abc-9c21-e58d08467ceb",
   "metadata": {},
   "source": [
    "## Continous gaps"
   ]
  },
  {
   "cell_type": "markdown",
   "id": "2e9316db-e6c7-47a3-9419-e7389b4f73ef",
   "metadata": {},
   "source": [
    "Trying to see how the model works with a continous gap of 10% the length of the dataset for all variables"
   ]
  },
  {
   "cell_type": "code",
   "execution_count": null,
   "id": "4bdbe4e1-f8f9-4e1c-beb5-c49aee57b703",
   "metadata": {},
   "outputs": [],
   "source": [
    "gpd_gap = GPFADataTest(hai).add_gap(20, variables = ['TA', 'SW_IN', 'LW_IN', 'VPD'])"
   ]
  },
  {
   "cell_type": "code",
   "execution_count": null,
   "id": "8bbfed62-7968-4c41-b419-fdb2f2020287",
   "metadata": {},
   "outputs": [],
   "source": [
    "gp_gap = GPFAImputation(gpd_gap.data, gpd_gap.tidy_df(complete=True, is_missing=True))"
   ]
  },
  {
   "cell_type": "code",
   "execution_count": null,
   "id": "1472fe8b-2b84-43a5-9b6e-cb9792963731",
   "metadata": {},
   "outputs": [],
   "source": [
    "gp_gap"
   ]
  },
  {
   "cell_type": "code",
   "execution_count": null,
   "id": "b6b09ede-c784-42c8-ab90-64bdc4d1a1a4",
   "metadata": {},
   "outputs": [],
   "source": [
    "%time gp_gap.impute()"
   ]
  },
  {
   "cell_type": "code",
   "execution_count": null,
   "id": "837c7f2b-4d1a-4661-b537-8de0612c4dd2",
   "metadata": {},
   "outputs": [],
   "source": [
    "gap_plot= gp_gap.plot_pred(units=units, properties =  {'height': 190 , 'width': 380})\n",
    "\n",
    "gap_plot.save(here(\"analysis/plots\") /\" plot_hai_winter_4_var_200_obs_gap_20.vl.json\")\n",
    "gap_plot"
   ]
  },
  {
   "cell_type": "code",
   "execution_count": null,
   "id": "19d7bef0-d78e-46d2-a798-a59a4491f1cd",
   "metadata": {},
   "outputs": [],
   "source": [
    "print(gp_gap.rmse().to_markdown(index=False))"
   ]
  },
  {
   "cell_type": "code",
   "execution_count": null,
   "id": "d3008d75-e424-4713-8d49-1cf733ceb301",
   "metadata": {},
   "outputs": [],
   "source": [
    "print(pd.DataFrame(gp_gap.learner.model.covar_module.Lambda.detach().numpy()).to_markdown(index=False))"
   ]
  },
  {
   "cell_type": "code",
   "execution_count": null,
   "id": "600e0b39-1aeb-4653-8391-0c169cc23fe9",
   "metadata": {},
   "outputs": [],
   "source": [
    "psi = pd.DataFrame(gp_gap.learner.model.covar_module.psi.detach().numpy())\n",
    "psi.insert(0, \"variable\", meteo_vars.values())\n",
    "print(psi.to_markdown(index=False))"
   ]
  },
  {
   "cell_type": "code",
   "execution_count": null,
   "id": "b9256ccc-611f-4c5d-a4c8-91c9586ba6c6",
   "metadata": {},
   "outputs": [],
   "source": [
    "gp_gap.learner.model.covar_module.latent_kernel.lengthscale.detach()"
   ]
  },
  {
   "cell_type": "code",
   "execution_count": null,
   "id": "1d59fd4b-7a8a-4bf5-af64-65844b476fb7",
   "metadata": {},
   "outputs": [],
   "source": [
    "losses = pd.DataFrame(gp_gap.learner.losses.cpu().numpy(), columns=['loss'])\n",
    "\n",
    "p = losses.plot()\n",
    "plt.savefig(here('analysis/plots/') /'loss_plot_hai_winter_4_var_200_obs_gap_20.png')\n",
    "p"
   ]
  },
  {
   "cell_type": "code",
   "execution_count": null,
   "id": "1ef89c47-48ec-41a7-a494-3b153926e671",
   "metadata": {},
   "outputs": [],
   "source": []
  }
 ],
 "metadata": {
  "kernelspec": {
   "display_name": "data_science",
   "language": "python",
   "name": "data_science"
  },
  "widgets": {
   "application/vnd.jupyter.widget-state+json": {
    "state": {},
    "version_major": 2,
    "version_minor": 0
   }
  }
 },
 "nbformat": 4,
 "nbformat_minor": 5
}
