{
 "cells": [
  {
   "cell_type": "markdown",
   "id": "4e9fe309-c914-4dbd-827b-f16c9b37dff2",
   "metadata": {},
   "source": [
    "Notes:\n",
    "- Kernel Lengthscale: too short to handle big gaps\n",
    "- how to encode time?\n",
    "- normalization\n",
    "- parameters init\n",
    "\n",
    "next steps:\n",
    "\n",
    "- "
   ]
  },
  {
   "cell_type": "markdown",
   "id": "a3fd1a3b-3bb3-4b95-91e5-64892b3004b1",
   "metadata": {},
   "source": [
    "things to try:\n",
    "- more variables\n",
    "- more kernels\n",
    "- basic variable dist\n",
    "- log"
   ]
  },
  {
   "cell_type": "markdown",
   "id": "f26fd21e-e056-43a6-9222-85c4ef28807a",
   "metadata": {},
   "source": [
    "Things to consider:\n",
    "- different latent kernel for different latent variable?"
   ]
  },
  {
   "cell_type": "markdown",
   "id": "f1d8f4d1-7beb-431e-a39d-3a5cd4e75ac2",
   "metadata": {},
   "source": [
    "- TA\n",
    "- SW_IN\n",
    "- LW_IN\n",
    "- VPD\n",
    "- WS\n",
    "- WD\n",
    "- P\n",
    "- PA\n",
    "- SWC\n",
    "- PPFD\n",
    "- CO2 flux\n",
    "- H02 flux\n",
    "- LE"
   ]
  }
 ],
 "metadata": {
  "kernelspec": {
   "display_name": "data_science",
   "language": "python",
   "name": "data_science"
  },
  "widgets": {
   "application/vnd.jupyter.widget-state+json": {
    "state": {},
    "version_major": 2,
    "version_minor": 0
   }
  }
 },
 "nbformat": 4,
 "nbformat_minor": 5
}
