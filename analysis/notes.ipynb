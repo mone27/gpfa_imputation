{
 "cells": [
  {
   "cell_type": "markdown",
   "id": "eb011be7-6cd4-421c-8d01-8b576652fe0b",
   "metadata": {},
   "source": [
    "# Notes"
   ]
  },
  {
   "cell_type": "markdown",
   "id": "4e9fe309-c914-4dbd-827b-f16c9b37dff2",
   "metadata": {},
   "source": [
    "Notes:\n",
    "- Kernel Lengthscale: too short to handle big gaps\n",
    "- how to encode time?\n",
    "- normalization\n",
    "- parameters init\n",
    "\n",
    "next steps:\n",
    "\n",
    "- "
   ]
  },
  {
   "cell_type": "markdown",
   "id": "a3fd1a3b-3bb3-4b95-91e5-64892b3004b1",
   "metadata": {},
   "source": [
    "things to try:\n",
    "- more variables\n",
    "- more kernels\n",
    "- basic variable dist\n",
    "- log\n",
    "- deploy to website"
   ]
  },
  {
   "cell_type": "markdown",
   "id": "f26fd21e-e056-43a6-9222-85c4ef28807a",
   "metadata": {},
   "source": [
    "Things to consider:\n",
    "- different latent kernel for different latent variable?"
   ]
  },
  {
   "cell_type": "markdown",
   "id": "f1d8f4d1-7beb-431e-a39d-3a5cd4e75ac2",
   "metadata": {},
   "source": [
    "- TA\n",
    "- SW_IN\n",
    "- LW_IN\n",
    "- VPD\n",
    "- WS\n",
    "- WD\n",
    "- P\n",
    "- PA\n",
    "- SWC\n",
    "- PPFD\n",
    "- CO2 flux\n",
    "- H02 flux\n",
    "- LE"
   ]
  },
  {
   "cell_type": "markdown",
   "id": "41fa0ddf-9c5e-4de9-8d23-a7b2e91bee38",
   "metadata": {},
   "source": [
    "Code improvements:\n",
    "- move normalization out of the learner class\n",
    "- use something like fastai pipelines for data transformation ..."
   ]
  },
  {
   "cell_type": "code",
   "execution_count": null,
   "id": "3ee98b87-97c2-46f6-999d-cef603b9665b",
   "metadata": {},
   "outputs": [],
   "source": []
  }
 ],
 "metadata": {
  "kernelspec": {
   "display_name": "data_science",
   "language": "python",
   "name": "data_science"
  },
  "widgets": {
   "application/vnd.jupyter.widget-state+json": {
    "state": {},
    "version_major": 2,
    "version_minor": 0
   }
  }
 },
 "nbformat": 4,
 "nbformat_minor": 5
}
