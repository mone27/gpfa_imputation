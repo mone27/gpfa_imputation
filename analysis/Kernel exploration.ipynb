{
 "cells": [
  {
   "cell_type": "code",
   "execution_count": null,
   "id": "6e9d6c74-00f5-4615-95ea-b51d0e114eff",
   "metadata": {},
   "outputs": [],
   "source": [
    "from gpfa_imputation.gpfa import GPFAKernel\n",
    "import gpytorch\n",
    "import torch\n",
    "import matplotlib.pyplot as plt\n",
    "import altair as alt\n",
    "import pandas as pd"
   ]
  },
  {
   "cell_type": "code",
   "execution_count": null,
   "id": "6ed04410-685b-47f6-8789-a88748ab5429",
   "metadata": {},
   "outputs": [],
   "source": [
    "k = gpytorch.kernels.RBFKernel()"
   ]
  },
  {
   "cell_type": "code",
   "execution_count": null,
   "id": "4623171a-dcdb-4642-9c87-c493a9761b92",
   "metadata": {},
   "outputs": [],
   "source": [
    "k.lengthscale = 3"
   ]
  },
  {
   "cell_type": "code",
   "execution_count": null,
   "id": "83466f4f-09ed-4e65-8d69-6fa40176a4e9",
   "metadata": {},
   "outputs": [
    {
     "data": {
      "text/plain": [
       "tensor([[0.9460, 0.8007]], grad_fn=<RBFCovarianceBackward>)"
      ]
     },
     "execution_count": null,
     "metadata": {},
     "output_type": "execute_result"
    }
   ],
   "source": [
    "k(torch.tensor([1]), torch.tensor([2, 3])).evaluate()"
   ]
  },
  {
   "cell_type": "code",
   "execution_count": null,
   "id": "f25d722f-faef-4eaf-9cc7-6321efbdbadd",
   "metadata": {},
   "outputs": [],
   "source": [
    "def plot_kernel(kernel, t_range = torch.arange(-10, 10)):\n",
    "    y = kernel(torch.tensor([0]), t_range).evaluate().detach().numpy().squeeze()\n",
    "    return alt.Chart(pd.DataFrame({'x': t_range, 'y': y})).mark_line().encode(x='x', y ='y')\n",
    "    #plt.plot(t_range, y\n",
    "    # return y"
   ]
  },
  {
   "cell_type": "code",
   "execution_count": null,
   "id": "852f976a-fcb3-4968-ab4d-bfff5c751ff1",
   "metadata": {},
   "outputs": [
    {
     "name": "stderr",
     "output_type": "stream",
     "text": [
      "/home/simone/.local/lib/python3.10/site-packages/altair/utils/core.py:317: FutureWarning: iteritems is deprecated and will be removed in a future version. Use .items instead.\n",
      "  for col_name, dtype in df.dtypes.iteritems():\n"
     ]
    },
    {
     "data": {
      "text/html": [
       "\n",
       "<div id=\"altair-viz-7bafbfc88dd94977bb5fd2b8099026c1\"></div>\n",
       "<script type=\"text/javascript\">\n",
       "  var VEGA_DEBUG = (typeof VEGA_DEBUG == \"undefined\") ? {} : VEGA_DEBUG;\n",
       "  (function(spec, embedOpt){\n",
       "    let outputDiv = document.currentScript.previousElementSibling;\n",
       "    if (outputDiv.id !== \"altair-viz-7bafbfc88dd94977bb5fd2b8099026c1\") {\n",
       "      outputDiv = document.getElementById(\"altair-viz-7bafbfc88dd94977bb5fd2b8099026c1\");\n",
       "    }\n",
       "    const paths = {\n",
       "      \"vega\": \"https://cdn.jsdelivr.net/npm//vega@5?noext\",\n",
       "      \"vega-lib\": \"https://cdn.jsdelivr.net/npm//vega-lib?noext\",\n",
       "      \"vega-lite\": \"https://cdn.jsdelivr.net/npm//vega-lite@4.17.0?noext\",\n",
       "      \"vega-embed\": \"https://cdn.jsdelivr.net/npm//vega-embed@6?noext\",\n",
       "    };\n",
       "\n",
       "    function maybeLoadScript(lib, version) {\n",
       "      var key = `${lib.replace(\"-\", \"\")}_version`;\n",
       "      return (VEGA_DEBUG[key] == version) ?\n",
       "        Promise.resolve(paths[lib]) :\n",
       "        new Promise(function(resolve, reject) {\n",
       "          var s = document.createElement('script');\n",
       "          document.getElementsByTagName(\"head\")[0].appendChild(s);\n",
       "          s.async = true;\n",
       "          s.onload = () => {\n",
       "            VEGA_DEBUG[key] = version;\n",
       "            return resolve(paths[lib]);\n",
       "          };\n",
       "          s.onerror = () => reject(`Error loading script: ${paths[lib]}`);\n",
       "          s.src = paths[lib];\n",
       "        });\n",
       "    }\n",
       "\n",
       "    function showError(err) {\n",
       "      outputDiv.innerHTML = `<div class=\"error\" style=\"color:red;\">${err}</div>`;\n",
       "      throw err;\n",
       "    }\n",
       "\n",
       "    function displayChart(vegaEmbed) {\n",
       "      vegaEmbed(outputDiv, spec, embedOpt)\n",
       "        .catch(err => showError(`Javascript Error: ${err.message}<br>This usually means there's a typo in your chart specification. See the javascript console for the full traceback.`));\n",
       "    }\n",
       "\n",
       "    if(typeof define === \"function\" && define.amd) {\n",
       "      requirejs.config({paths});\n",
       "      require([\"vega-embed\"], displayChart, err => showError(`Error loading script: ${err.message}`));\n",
       "    } else {\n",
       "      maybeLoadScript(\"vega\", \"5\")\n",
       "        .then(() => maybeLoadScript(\"vega-lite\", \"4.17.0\"))\n",
       "        .then(() => maybeLoadScript(\"vega-embed\", \"6\"))\n",
       "        .catch(showError)\n",
       "        .then(() => displayChart(vegaEmbed));\n",
       "    }\n",
       "  })({\"config\": {\"view\": {\"continuousWidth\": 400, \"continuousHeight\": 300}}, \"data\": {\"name\": \"data-30947fcede15707f913d7835cfd2c152\"}, \"mark\": \"line\", \"encoding\": {\"x\": {\"field\": \"x\", \"type\": \"quantitative\"}, \"y\": {\"field\": \"y\", \"type\": \"quantitative\"}}, \"$schema\": \"https://vega.github.io/schema/vega-lite/v4.17.0.json\", \"datasets\": {\"data-30947fcede15707f913d7835cfd2c152\": [{\"x\": -10, \"y\": 0.003865920938551426}, {\"x\": -9, \"y\": 0.011108996346592903}, {\"x\": -8, \"y\": 0.02856549434363842}, {\"x\": -7, \"y\": 0.06572853773832321}, {\"x\": -6, \"y\": 0.1353352814912796}, {\"x\": -5, \"y\": 0.24935221672058105}, {\"x\": -4, \"y\": 0.4111122488975525}, {\"x\": -3, \"y\": 0.6065306663513184}, {\"x\": -2, \"y\": 0.8007373809814453}, {\"x\": -1, \"y\": 0.9459594488143921}, {\"x\": 0, \"y\": 1.0}, {\"x\": 1, \"y\": 0.9459594488143921}, {\"x\": 2, \"y\": 0.8007373809814453}, {\"x\": 3, \"y\": 0.6065306663513184}, {\"x\": 4, \"y\": 0.4111122488975525}, {\"x\": 5, \"y\": 0.24935221672058105}, {\"x\": 6, \"y\": 0.1353352814912796}, {\"x\": 7, \"y\": 0.06572853773832321}, {\"x\": 8, \"y\": 0.02856549434363842}, {\"x\": 9, \"y\": 0.011108996346592903}]}}, {\"mode\": \"vega-lite\"});\n",
       "</script>"
      ],
      "text/plain": [
       "alt.Chart(...)"
      ]
     },
     "execution_count": null,
     "metadata": {},
     "output_type": "execute_result"
    }
   ],
   "source": [
    "plot_kernel(k)"
   ]
  },
  {
   "cell_type": "code",
   "execution_count": null,
   "id": "82a2306e-4d19-44f5-82b9-b079777ed2f4",
   "metadata": {},
   "outputs": [],
   "source": []
  }
 ],
 "metadata": {
  "kernelspec": {
   "display_name": "data_science",
   "language": "python",
   "name": "data_science"
  },
  "widgets": {
   "application/vnd.jupyter.widget-state+json": {
    "state": {},
    "version_major": 2,
    "version_minor": 0
   }
  }
 },
 "nbformat": 4,
 "nbformat_minor": 5
}
