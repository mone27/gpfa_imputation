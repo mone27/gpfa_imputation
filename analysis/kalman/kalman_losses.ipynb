{
 "cells": [
  {
   "cell_type": "markdown",
   "id": "4702b722-43df-4dc9-bef7-1659774d5cb7",
   "metadata": {},
   "source": [
    "how to average the loss between batches? sum or average it?"
   ]
  },
  {
   "cell_type": "code",
   "execution_count": null,
   "id": "7f656acb-f98f-4e18-a320-59fb95a6affd",
   "metadata": {},
   "outputs": [],
   "source": []
  }
 ],
 "metadata": {
  "kernelspec": {
   "display_name": "data_science",
   "language": "python",
   "name": "data_science"
  },
  "widgets": {
   "application/vnd.jupyter.widget-state+json": {
    "state": {},
    "version_major": 2,
    "version_minor": 0
   }
  }
 },
 "nbformat": 4,
 "nbformat_minor": 5
}
