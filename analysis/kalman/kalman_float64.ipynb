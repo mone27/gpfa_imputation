{
 "cells": [
  {
   "cell_type": "code",
   "execution_count": null,
   "id": "457f09cb-c78e-4287-9c73-4faa8f210527",
   "metadata": {},
   "outputs": [],
   "source": [
    "%load_ext autoreload\n",
    "%autoreload 2"
   ]
  },
  {
   "cell_type": "code",
   "execution_count": null,
   "id": "0517fc67-1f6b-4a5b-bd57-6227e38f2fc3",
   "metadata": {},
   "outputs": [],
   "source": [
    "from meteo_imp.kalman.fastai import *\n",
    "from meteo_imp.kalman.filter import *\n",
    "from meteo_imp.utils import *\n",
    "from meteo_imp.data import *\n",
    "\n",
    "from fastai.tabular.learner import *\n",
    "from fastai.learner import *\n",
    "from fastai.callback.all import *\n",
    "import pandas as pd\n",
    "import torch\n",
    "import numpy as np"
   ]
  },
  {
   "cell_type": "code",
   "execution_count": null,
   "id": "d7f48bb9-58ab-4d1a-97d9-b242f6542148",
   "metadata": {},
   "outputs": [],
   "source": [
    "@cache_disk(\"full_hai\")\n",
    "def load_data():\n",
    "    return read_fluxnet_csv(hai_path, None, num_dtype=np.float64)\n",
    "\n",
    "hai = load_data()"
   ]
  },
  {
   "cell_type": "code",
   "execution_count": null,
   "id": "69191be7-ac68-4616-8e4b-460fb786769f",
   "metadata": {},
   "outputs": [],
   "source": [
    "model = KalmanFilter(**KalmanFilterTester(dtype=torch.float64).params)"
   ]
  },
  {
   "cell_type": "code",
   "execution_count": null,
   "id": "ccbbb80f-1e91-4483-b665-2a44c61b94ef",
   "metadata": {},
   "outputs": [],
   "source": [
    "dls = make_dataloader(hai, 200, 10, bs=10) "
   ]
  },
  {
   "cell_type": "code",
   "execution_count": null,
   "id": "25ee164f-b653-43ee-ba1d-2090c73167b6",
   "metadata": {},
   "outputs": [
    {
     "data": {
      "text/plain": [
       "91.1808"
      ]
     },
     "execution_count": null,
     "metadata": {},
     "output_type": "execute_result"
    }
   ],
   "source": [
    "len(hai) / 200 / 10 * .8"
   ]
  },
  {
   "cell_type": "code",
   "execution_count": null,
   "id": "693a8321-1ee8-41e8-8d42-4741d715e120",
   "metadata": {},
   "outputs": [
    {
     "data": {
      "text/plain": [
       "91"
      ]
     },
     "execution_count": null,
     "metadata": {},
     "output_type": "execute_result"
    }
   ],
   "source": [
    "len(dls.train)"
   ]
  },
  {
   "cell_type": "code",
   "execution_count": null,
   "id": "a23390a2-d5e0-4e81-ab36-3e5eecf98db6",
   "metadata": {},
   "outputs": [],
   "source": [
    "learn = Learner(dls, model, loss_func=imp_ll_loss, cbs=[ShowGraphCallback, Float64Callback])"
   ]
  },
  {
   "cell_type": "code",
   "execution_count": null,
   "id": "43d6fecb-fbb0-4514-8b98-69bf1e25b6a6",
   "metadata": {},
   "outputs": [],
   "source": [
    "posdef_log = pd.DataFrame()"
   ]
  },
  {
   "cell_type": "code",
   "execution_count": null,
   "id": "2fe2547f-823a-4fe3-bc21-4cbee84cd311",
   "metadata": {},
   "outputs": [
    {
     "data": {
      "text/plain": [
       "91"
      ]
     },
     "execution_count": null,
     "metadata": {},
     "output_type": "execute_result"
    }
   ],
   "source": [
    "len(dls.train)"
   ]
  },
  {
   "cell_type": "code",
   "execution_count": null,
   "id": "6a080931-c42f-4ebe-86e6-839872016a4f",
   "metadata": {},
   "outputs": [
    {
     "data": {
      "text/html": [
       "\n",
       "<style>\n",
       "    /* Turns off some styling */\n",
       "    progress {\n",
       "        /* gets rid of default border in Firefox and Opera. */\n",
       "        border: none;\n",
       "        /* Needs to be in here for Safari polyfill so background images work as expected. */\n",
       "        background-size: auto;\n",
       "    }\n",
       "    progress:not([value]), progress:not([value])::-webkit-progress-bar {\n",
       "        background: repeating-linear-gradient(45deg, #7e7e7e, #7e7e7e 10px, #5c5c5c 10px, #5c5c5c 20px);\n",
       "    }\n",
       "    .progress-bar-interrupted, .progress-bar-interrupted::-webkit-progress-bar {\n",
       "        background: #F44336;\n",
       "    }\n",
       "</style>\n"
      ],
      "text/plain": [
       "<IPython.core.display.HTML object>"
      ]
     },
     "metadata": {},
     "output_type": "display_data"
    },
    {
     "data": {
      "text/html": [
       "\n",
       "    <div>\n",
       "      <progress value='1' class='' max='5' style='width:300px; height:20px; vertical-align: middle;'></progress>\n",
       "      20.00% [1/5 03:15&lt;13:03]\n",
       "    </div>\n",
       "    \n",
       "<table border=\"1\" class=\"dataframe\">\n",
       "  <thead>\n",
       "    <tr style=\"text-align: left;\">\n",
       "      <th>epoch</th>\n",
       "      <th>train_loss</th>\n",
       "      <th>valid_loss</th>\n",
       "      <th>time</th>\n",
       "    </tr>\n",
       "  </thead>\n",
       "  <tbody>\n",
       "    <tr>\n",
       "      <td>0</td>\n",
       "      <td>271.520430</td>\n",
       "      <td>224.521947</td>\n",
       "      <td>03:15</td>\n",
       "    </tr>\n",
       "  </tbody>\n",
       "</table><p>\n",
       "\n",
       "    <div>\n",
       "      <progress value='19' class='' max='91' style='width:300px; height:20px; vertical-align: middle;'></progress>\n",
       "      20.88% [19/91 00:38&lt;02:24 254.0046]\n",
       "    </div>\n",
       "    "
      ],
      "text/plain": [
       "<IPython.core.display.HTML object>"
      ]
     },
     "metadata": {},
     "output_type": "display_data"
    },
    {
     "data": {
      "image/png": "[encoded data removed]",
      "text/plain": [
       "<Figure size 432x288 with 1 Axes>"
      ]
     },
     "metadata": {},
     "output_type": "display_data"
    }
   ],
   "source": [
    "learn.fit(5, 1e-3)"
   ]
  },
  {
   "cell_type": "code",
   "execution_count": null,
   "id": "7f20345a-e9d3-4412-af3c-9a52a541a6a4",
   "metadata": {},
   "outputs": [
    {
     "data": {
      "image/png": "[encoded data removed]",
      "text/plain": [
       "<Figure size 432x288 with 1 Axes>"
      ]
     },
     "metadata": {
      "needs_background": "light"
     },
     "output_type": "display_data"
    }
   ],
   "source": [
    "learn.recorder.plot_loss()"
   ]
  },
  {
   "cell_type": "code",
   "execution_count": null,
   "id": "3e747c58-39b6-4bbd-8867-f437ee425752",
   "metadata": {},
   "outputs": [],
   "source": [
    "# learn.fit(10, 1e-2)"
   ]
  },
  {
   "cell_type": "code",
   "execution_count": null,
   "id": "3732b923-dea9-4539-9ac2-88b8f391cb37",
   "metadata": {},
   "outputs": [],
   "source": [
    "# learn.recorder.plot_loss()"
   ]
  },
  {
   "cell_type": "code",
   "execution_count": null,
   "id": "39c1c942-0546-4bd7-ae9d-88c0aba190f5",
   "metadata": {},
   "outputs": [],
   "source": [
    "# torch.save(learn.model, \"trained_model_20_dec_f64.pickle\")"
   ]
  },
  {
   "cell_type": "code",
   "execution_count": null,
   "id": "fade0f62-d59d-4b9d-a581-d81b43f93c59",
   "metadata": {},
   "outputs": [],
   "source": [
    "trained_state = learn.model.state_dict()"
   ]
  },
  {
   "cell_type": "code",
   "execution_count": null,
   "id": "6b347860-1d5b-4dfd-be76-a9bed99fc964",
   "metadata": {},
   "outputs": [
    {
     "data": {
      "text/html": [
       "<p style='font-size: 1.5rem; font-decoration: bold'><p><div style=\"display: flex; column-gap: 20px; flex-wrap: wrap;\" class='table table-striped table-sm'> <div> <p style='font-size: 1.3rem;'>A</p> <style type=\"text/css\">\n",
       "</style>\n",
       "<table id=\"T_06f62\">\n",
       "  <thead>\n",
       "    <tr>\n",
       "      <th id=\"T_06f62_level0_col0\" class=\"col_heading level0 col0\" >latent</th>\n",
       "      <th id=\"T_06f62_level0_col1\" class=\"col_heading level0 col1\" >z_0</th>\n",
       "      <th id=\"T_06f62_level0_col2\" class=\"col_heading level0 col2\" >z_1</th>\n",
       "      <th id=\"T_06f62_level0_col3\" class=\"col_heading level0 col3\" >z_2</th>\n",
       "    </tr>\n",
       "  </thead>\n",
       "  <tbody>\n",
       "    <tr>\n",
       "      <td id=\"T_06f62_row0_col0\" class=\"data row0 col0\" >z_0</td>\n",
       "      <td id=\"T_06f62_row0_col1\" class=\"data row0 col1\" >0.8506</td>\n",
       "      <td id=\"T_06f62_row0_col2\" class=\"data row0 col2\" >-0.2218</td>\n",
       "      <td id=\"T_06f62_row0_col3\" class=\"data row0 col3\" >0.2386</td>\n",
       "    </tr>\n",
       "    <tr>\n",
       "      <td id=\"T_06f62_row1_col0\" class=\"data row1 col0\" >z_1</td>\n",
       "      <td id=\"T_06f62_row1_col1\" class=\"data row1 col1\" >-0.2831</td>\n",
       "      <td id=\"T_06f62_row1_col2\" class=\"data row1 col2\" >0.6903</td>\n",
       "      <td id=\"T_06f62_row1_col3\" class=\"data row1 col3\" >0.3596</td>\n",
       "    </tr>\n",
       "    <tr>\n",
       "      <td id=\"T_06f62_row2_col0\" class=\"data row2 col0\" >z_2</td>\n",
       "      <td id=\"T_06f62_row2_col1\" class=\"data row2 col1\" >0.5140</td>\n",
       "      <td id=\"T_06f62_row2_col2\" class=\"data row2 col2\" >0.5848</td>\n",
       "      <td id=\"T_06f62_row2_col3\" class=\"data row2 col3\" >0.1917</td>\n",
       "    </tr>\n",
       "  </tbody>\n",
       "</table>\n",
       " </div><div> <p style='font-size: 1.3rem;'>H</p> <style type=\"text/css\">\n",
       "</style>\n",
       "<table id=\"T_f1282\">\n",
       "  <thead>\n",
       "    <tr>\n",
       "      <th id=\"T_f1282_level0_col0\" class=\"col_heading level0 col0\" >z_0</th>\n",
       "      <th id=\"T_f1282_level0_col1\" class=\"col_heading level0 col1\" >z_1</th>\n",
       "      <th id=\"T_f1282_level0_col2\" class=\"col_heading level0 col2\" >z_2</th>\n",
       "    </tr>\n",
       "  </thead>\n",
       "  <tbody>\n",
       "    <tr>\n",
       "      <td id=\"T_f1282_row0_col0\" class=\"data row0 col0\" >0.3026</td>\n",
       "      <td id=\"T_f1282_row0_col1\" class=\"data row0 col1\" >0.2306</td>\n",
       "      <td id=\"T_f1282_row0_col2\" class=\"data row0 col2\" >0.1578</td>\n",
       "    </tr>\n",
       "    <tr>\n",
       "      <td id=\"T_f1282_row1_col0\" class=\"data row1 col0\" >-0.2170</td>\n",
       "      <td id=\"T_f1282_row1_col1\" class=\"data row1 col1\" >0.4882</td>\n",
       "      <td id=\"T_f1282_row1_col2\" class=\"data row1 col2\" >0.6614</td>\n",
       "    </tr>\n",
       "    <tr>\n",
       "      <td id=\"T_f1282_row2_col0\" class=\"data row2 col0\" >-0.0105</td>\n",
       "      <td id=\"T_f1282_row2_col1\" class=\"data row2 col1\" >0.2026</td>\n",
       "      <td id=\"T_f1282_row2_col2\" class=\"data row2 col2\" >0.2257</td>\n",
       "    </tr>\n",
       "  </tbody>\n",
       "</table>\n",
       " </div><div> <p style='font-size: 1.3rem;'>R</p> <style type=\"text/css\">\n",
       "</style>\n",
       "<table id=\"T_ce5ab\">\n",
       "  <thead>\n",
       "    <tr>\n",
       "      <th id=\"T_ce5ab_level0_col0\" class=\"col_heading level0 col0\" >0</th>\n",
       "      <th id=\"T_ce5ab_level0_col1\" class=\"col_heading level0 col1\" >1</th>\n",
       "      <th id=\"T_ce5ab_level0_col2\" class=\"col_heading level0 col2\" >2</th>\n",
       "    </tr>\n",
       "  </thead>\n",
       "  <tbody>\n",
       "    <tr>\n",
       "      <td id=\"T_ce5ab_row0_col0\" class=\"data row0 col0\" >0.4186</td>\n",
       "      <td id=\"T_ce5ab_row0_col1\" class=\"data row0 col1\" >0.1847</td>\n",
       "      <td id=\"T_ce5ab_row0_col2\" class=\"data row0 col2\" >0.6362</td>\n",
       "    </tr>\n",
       "    <tr>\n",
       "      <td id=\"T_ce5ab_row1_col0\" class=\"data row1 col0\" >0.1847</td>\n",
       "      <td id=\"T_ce5ab_row1_col1\" class=\"data row1 col1\" >0.1272</td>\n",
       "      <td id=\"T_ce5ab_row1_col2\" class=\"data row1 col2\" >0.2375</td>\n",
       "    </tr>\n",
       "    <tr>\n",
       "      <td id=\"T_ce5ab_row2_col0\" class=\"data row2 col0\" >0.6362</td>\n",
       "      <td id=\"T_ce5ab_row2_col1\" class=\"data row2 col1\" >0.2375</td>\n",
       "      <td id=\"T_ce5ab_row2_col2\" class=\"data row2 col2\" >1.0077</td>\n",
       "    </tr>\n",
       "  </tbody>\n",
       "</table>\n",
       " </div><div> <p style='font-size: 1.3rem;'>Q</p> <style type=\"text/css\">\n",
       "</style>\n",
       "<table id=\"T_67c05\">\n",
       "  <thead>\n",
       "    <tr>\n",
       "      <th id=\"T_67c05_level0_col0\" class=\"col_heading level0 col0\" >latent</th>\n",
       "      <th id=\"T_67c05_level0_col1\" class=\"col_heading level0 col1\" >z_0</th>\n",
       "      <th id=\"T_67c05_level0_col2\" class=\"col_heading level0 col2\" >z_1</th>\n",
       "      <th id=\"T_67c05_level0_col3\" class=\"col_heading level0 col3\" >z_2</th>\n",
       "    </tr>\n",
       "  </thead>\n",
       "  <tbody>\n",
       "    <tr>\n",
       "      <td id=\"T_67c05_row0_col0\" class=\"data row0 col0\" >z_0</td>\n",
       "      <td id=\"T_67c05_row0_col1\" class=\"data row0 col1\" >0.0460</td>\n",
       "      <td id=\"T_67c05_row0_col2\" class=\"data row0 col2\" >-0.0622</td>\n",
       "      <td id=\"T_67c05_row0_col3\" class=\"data row0 col3\" >0.0066</td>\n",
       "    </tr>\n",
       "    <tr>\n",
       "      <td id=\"T_67c05_row1_col0\" class=\"data row1 col0\" >z_1</td>\n",
       "      <td id=\"T_67c05_row1_col1\" class=\"data row1 col1\" >-0.0622</td>\n",
       "      <td id=\"T_67c05_row1_col2\" class=\"data row1 col2\" >0.1427</td>\n",
       "      <td id=\"T_67c05_row1_col3\" class=\"data row1 col3\" >0.0370</td>\n",
       "    </tr>\n",
       "    <tr>\n",
       "      <td id=\"T_67c05_row2_col0\" class=\"data row2 col0\" >z_2</td>\n",
       "      <td id=\"T_67c05_row2_col1\" class=\"data row2 col1\" >0.0066</td>\n",
       "      <td id=\"T_67c05_row2_col2\" class=\"data row2 col2\" >0.0370</td>\n",
       "      <td id=\"T_67c05_row2_col3\" class=\"data row2 col3\" >0.0396</td>\n",
       "    </tr>\n",
       "  </tbody>\n",
       "</table>\n",
       " </div></div>"
      ],
      "text/plain": [
       "<IPython.core.display.HTML object>"
      ]
     },
     "metadata": {},
     "output_type": "display_data"
    }
   ],
   "source": [
    "display_as_row(learn.model.get_info())"
   ]
  },
  {
   "cell_type": "markdown",
   "id": "b6bc687b-acc9-40f4-92b7-0d55c6b77d4b",
   "metadata": {},
   "source": [
    "## Results"
   ]
  },
  {
   "cell_type": "code",
   "execution_count": null,
   "id": "827c8670-2850-4178-928e-40e7ba56833c",
   "metadata": {},
   "outputs": [],
   "source": [
    "from meteo_imp.data_preparation import MeteoDataTest\n",
    "from meteo_imp.kalman.imputation import KalmanImputation"
   ]
  },
  {
   "cell_type": "code",
   "execution_count": null,
   "id": "856c20be-ee1a-4100-ae60-99d584b2360d",
   "metadata": {},
   "outputs": [],
   "source": [
    "def gap2res(var_sel, gap_len, gap_start, block_start=1000, block_end=1200):\n",
    "    data = MeteoDataTest(hai.iloc[block_start:block_end, :]).add_gap(gap_len, var_sel, gap_start)\n",
    "    imp = KalmanImputation(data.data)\n",
    "    imp.model.filter.load_state_dict(trained_state)\n",
    "    return imp.to_result(data.data_compl_tidy, var_names= data.data.columns, units=units, pred_all=True)"
   ]
  },
  {
   "cell_type": "code",
   "execution_count": null,
   "id": "4d3db4fd-a2f3-4c63-91bf-cddded0ef230",
   "metadata": {},
   "outputs": [],
   "source": [
    "data = MeteoDataTest(hai)"
   ]
  },
  {
   "cell_type": "code",
   "execution_count": null,
   "id": "d9301da1-4832-4023-b853-ae69b4bb32e3",
   "metadata": {},
   "outputs": [],
   "source": [
    "var_sel = data.data.columns"
   ]
  },
  {
   "cell_type": "code",
   "execution_count": null,
   "id": "9707b077-5d8b-46ab-ab1a-cb2386dbd3f1",
   "metadata": {},
   "outputs": [
    {
     "ename": "ValueError",
     "evalue": "Not positive semi definite tensor([[0.4186, 0.1847, 0.6362],\n        [0.1847, 0.1272, 0.2375],\n        [0.6362, 0.2375, 1.0077]])",
     "output_type": "error",
     "traceback": [
      "\u001b[0;31m---------------------------------------------------------------------------\u001b[0m",
      "\u001b[0;31mValueError\u001b[0m                                Traceback (most recent call last)",
      "File \u001b[0;32m<timed eval>:1\u001b[0m, in \u001b[0;36m<module>\u001b[0;34m\u001b[0m\n",
      "Input \u001b[0;32mIn [37]\u001b[0m, in \u001b[0;36mgap2res\u001b[0;34m(var_sel, gap_len, gap_start, block_start, block_end)\u001b[0m\n\u001b[1;32m      3\u001b[0m imp \u001b[38;5;241m=\u001b[39m KalmanImputation(data\u001b[38;5;241m.\u001b[39mdata)\n\u001b[1;32m      4\u001b[0m imp\u001b[38;5;241m.\u001b[39mmodel\u001b[38;5;241m.\u001b[39mfilter\u001b[38;5;241m.\u001b[39mload_state_dict(trained_state)\n\u001b[0;32m----> 5\u001b[0m \u001b[38;5;28;01mreturn\u001b[39;00m \u001b[43mimp\u001b[49m\u001b[38;5;241;43m.\u001b[39;49m\u001b[43mto_result\u001b[49m\u001b[43m(\u001b[49m\u001b[43mdata\u001b[49m\u001b[38;5;241;43m.\u001b[39;49m\u001b[43mdata_compl_tidy\u001b[49m\u001b[43m,\u001b[49m\u001b[43m \u001b[49m\u001b[43mvar_names\u001b[49m\u001b[38;5;241;43m=\u001b[39;49m\u001b[43m \u001b[49m\u001b[43mdata\u001b[49m\u001b[38;5;241;43m.\u001b[39;49m\u001b[43mdata\u001b[49m\u001b[38;5;241;43m.\u001b[39;49m\u001b[43mcolumns\u001b[49m\u001b[43m,\u001b[49m\u001b[43m \u001b[49m\u001b[43munits\u001b[49m\u001b[38;5;241;43m=\u001b[39;49m\u001b[43munits\u001b[49m\u001b[43m,\u001b[49m\u001b[43m \u001b[49m\u001b[43mpred_all\u001b[49m\u001b[38;5;241;43m=\u001b[39;49m\u001b[38;5;28;43;01mTrue\u001b[39;49;00m\u001b[43m)\u001b[49m\n",
      "File \u001b[0;32m~/Documents/uni/Thesis/GPFA_imputation/meteo_imp/kalman/imputation.py:74\u001b[0m, in \u001b[0;36mto_result\u001b[0;34m(self, data_compl, var_names, units, pred_all)\u001b[0m\n\u001b[1;32m     72\u001b[0m \u001b[38;5;129m@patch\u001b[39m\n\u001b[1;32m     73\u001b[0m \u001b[38;5;28;01mdef\u001b[39;00m \u001b[38;5;21mto_result\u001b[39m(\u001b[38;5;28mself\u001b[39m: KalmanImputation, data_compl, var_names\u001b[38;5;241m=\u001b[39m\u001b[38;5;28;01mNone\u001b[39;00m, units\u001b[38;5;241m=\u001b[39m\u001b[38;5;28;01mNone\u001b[39;00m, pred_all\u001b[38;5;241m=\u001b[39m\u001b[38;5;28;01mFalse\u001b[39;00m):\n\u001b[0;32m---> 74\u001b[0m     \u001b[38;5;28;01mreturn\u001b[39;00m ImputationResult(\u001b[38;5;28;43mself\u001b[39;49m\u001b[38;5;241;43m.\u001b[39;49m\u001b[43mimpute\u001b[49m\u001b[43m(\u001b[49m\u001b[43mpred_all\u001b[49m\u001b[43m)\u001b[49m, data_compl, \u001b[38;5;28mself\u001b[39m\u001b[38;5;241m.\u001b[39mmodel\u001b[38;5;241m.\u001b[39mfilter\u001b[38;5;241m.\u001b[39mget_info(var_names), units)\n",
      "File \u001b[0;32m~/Documents/uni/Thesis/GPFA_imputation/meteo_imp/kalman/imputation.py:54\u001b[0m, in \u001b[0;36mKalmanImputation.impute\u001b[0;34m(self, pred_all)\u001b[0m\n\u001b[1;32m     51\u001b[0m     time_mask \u001b[38;5;241m=\u001b[39m \u001b[38;5;28mself\u001b[39m\u001b[38;5;241m.\u001b[39mT[\u001b[38;5;241m~\u001b[39m\u001b[38;5;28mself\u001b[39m\u001b[38;5;241m.\u001b[39mtrain_idx]\n\u001b[1;32m     52\u001b[0m     data_mask \u001b[38;5;241m=\u001b[39m \u001b[38;5;241m~\u001b[39m\u001b[38;5;28mself\u001b[39m\u001b[38;5;241m.\u001b[39mtrain_idx\n\u001b[0;32m---> 54\u001b[0m pred \u001b[38;5;241m=\u001b[39m \u001b[38;5;28;43mself\u001b[39;49m\u001b[38;5;241;43m.\u001b[39;49m\u001b[43mmodel\u001b[49m\u001b[38;5;241;43m.\u001b[39;49m\u001b[43mpredict\u001b[49m\u001b[43m(\u001b[49m\u001b[43mtime_mask\u001b[49m\u001b[43m)\u001b[49m\n\u001b[1;32m     56\u001b[0m imp_mean \u001b[38;5;241m=\u001b[39m \u001b[38;5;28mself\u001b[39m\u001b[38;5;241m.\u001b[39mdata\u001b[38;5;241m.\u001b[39mcopy()\n\u001b[1;32m     57\u001b[0m mean \u001b[38;5;241m=\u001b[39m \u001b[38;5;28mself\u001b[39m\u001b[38;5;241m.\u001b[39mscaler\u001b[38;5;241m.\u001b[39minverse_transform(pred\u001b[38;5;241m.\u001b[39mmean)\n",
      "File \u001b[0;32m~/anaconda3/envs/data-science/lib/python3.10/site-packages/torch/autograd/grad_mode.py:27\u001b[0m, in \u001b[0;36m_DecoratorContextManager.__call__.<locals>.decorate_context\u001b[0;34m(*args, **kwargs)\u001b[0m\n\u001b[1;32m     24\u001b[0m \u001b[38;5;129m@functools\u001b[39m\u001b[38;5;241m.\u001b[39mwraps(func)\n\u001b[1;32m     25\u001b[0m \u001b[38;5;28;01mdef\u001b[39;00m \u001b[38;5;21mdecorate_context\u001b[39m(\u001b[38;5;241m*\u001b[39margs, \u001b[38;5;241m*\u001b[39m\u001b[38;5;241m*\u001b[39mkwargs):\n\u001b[1;32m     26\u001b[0m     \u001b[38;5;28;01mwith\u001b[39;00m \u001b[38;5;28mself\u001b[39m\u001b[38;5;241m.\u001b[39mclone():\n\u001b[0;32m---> 27\u001b[0m         \u001b[38;5;28;01mreturn\u001b[39;00m \u001b[43mfunc\u001b[49m\u001b[43m(\u001b[49m\u001b[38;5;241;43m*\u001b[39;49m\u001b[43margs\u001b[49m\u001b[43m,\u001b[49m\u001b[43m \u001b[49m\u001b[38;5;241;43m*\u001b[39;49m\u001b[38;5;241;43m*\u001b[39;49m\u001b[43mkwargs\u001b[49m\u001b[43m)\u001b[49m\n",
      "File \u001b[0;32m~/Documents/uni/Thesis/GPFA_imputation/meteo_imp/kalman/model.py:85\u001b[0m, in \u001b[0;36mKalmanModel.predict\u001b[0;34m(self, t)\u001b[0m\n\u001b[1;32m     83\u001b[0m \u001b[38;5;129m@torch\u001b[39m\u001b[38;5;241m.\u001b[39mno_grad()\n\u001b[1;32m     84\u001b[0m \u001b[38;5;28;01mdef\u001b[39;00m \u001b[38;5;21mpredict\u001b[39m(\u001b[38;5;28mself\u001b[39m, t):\n\u001b[0;32m---> 85\u001b[0m     \u001b[38;5;28;01mreturn\u001b[39;00m \u001b[38;5;28;43mself\u001b[39;49m\u001b[38;5;241;43m.\u001b[39;49m\u001b[43mfilter\u001b[49m\u001b[38;5;241;43m.\u001b[39;49m\u001b[43mpredict\u001b[49m\u001b[43m(\u001b[49m\u001b[38;5;28;43mself\u001b[39;49m\u001b[38;5;241;43m.\u001b[39;49m\u001b[43mdata\u001b[49m\u001b[43m,\u001b[49m\u001b[43m \u001b[49m\u001b[43mt\u001b[49m\u001b[43m)\u001b[49m\u001b[38;5;241m.\u001b[39mdetach()\n",
      "File \u001b[0;32m~/Documents/uni/Thesis/GPFA_imputation/meteo_imp/kalman/filter.py:749\u001b[0m, in \u001b[0;36mpredict\u001b[0;34m(self, obs, times, mask, smooth, check_args)\u001b[0m\n\u001b[1;32m    747\u001b[0m \u001b[38;5;129m@patch\u001b[39m\n\u001b[1;32m    748\u001b[0m \u001b[38;5;28;01mdef\u001b[39;00m \u001b[38;5;21mpredict\u001b[39m(\u001b[38;5;28mself\u001b[39m: KalmanFilter, obs, times, mask\u001b[38;5;241m=\u001b[39m\u001b[38;5;28;01mNone\u001b[39;00m, smooth\u001b[38;5;241m=\u001b[39m\u001b[38;5;28;01mTrue\u001b[39;00m, check_args\u001b[38;5;241m=\u001b[39m\u001b[38;5;28;01mNone\u001b[39;00m):\n\u001b[0;32m--> 749\u001b[0m     state \u001b[38;5;241m=\u001b[39m \u001b[38;5;28;43mself\u001b[39;49m\u001b[38;5;241;43m.\u001b[39;49m\u001b[43msmooth\u001b[49m\u001b[43m(\u001b[49m\u001b[43mobs\u001b[49m\u001b[43m,\u001b[49m\u001b[43m \u001b[49m\u001b[43mmask\u001b[49m\u001b[43m,\u001b[49m\u001b[43m \u001b[49m\u001b[43mcheck_args\u001b[49m\u001b[43m)\u001b[49m \u001b[38;5;28;01mif\u001b[39;00m smooth \u001b[38;5;28;01melse\u001b[39;00m \u001b[38;5;28mself\u001b[39m\u001b[38;5;241m.\u001b[39mfilter(obs, mask, check_args)\n\u001b[1;32m    750\u001b[0m     times \u001b[38;5;241m=\u001b[39m array1d(times)\n\u001b[1;32m    752\u001b[0m     n_timesteps \u001b[38;5;241m=\u001b[39m obs\u001b[38;5;241m.\u001b[39mshape[\u001b[38;5;241m0\u001b[39m]\n",
      "File \u001b[0;32m~/Documents/uni/Thesis/GPFA_imputation/meteo_imp/kalman/filter.py:723\u001b[0m, in \u001b[0;36msmooth\u001b[0;34m(self, obs, mask, check_args)\u001b[0m\n\u001b[1;32m    710\u001b[0m \u001b[38;5;129m@patch\u001b[39m\n\u001b[1;32m    711\u001b[0m \u001b[38;5;28;01mdef\u001b[39;00m \u001b[38;5;21msmooth\u001b[39m(\u001b[38;5;28mself\u001b[39m: KalmanFilter,\n\u001b[1;32m    712\u001b[0m            obs: Tensor, \u001b[38;5;66;03m# dataset\u001b[39;00m\n\u001b[0;32m   (...)\u001b[0m\n\u001b[1;32m    718\u001b[0m                 \u001b[38;5;66;03m# `smoothed_state_covs` : `[n_timesteps, n_dim_state]`\u001b[39;00m\n\u001b[1;32m    719\u001b[0m                     \u001b[38;5;66;03m# covs of hidden state distributions for times `[0...n_timesteps-1]`\u001b[39;00m\n\u001b[1;32m    721\u001b[0m     \u001b[38;5;124;03m\"\"\"Smoothing for prediction (no gradients)\"\"\"\u001b[39;00m\n\u001b[0;32m--> 723\u001b[0m     (pred_state_means, pred_state_covs, filt_state_means, filt_state_covs) \u001b[38;5;241m=\u001b[39m \u001b[38;5;28;43mself\u001b[39;49m\u001b[38;5;241;43m.\u001b[39;49m\u001b[43m_filter_all\u001b[49m\u001b[43m(\u001b[49m\u001b[43mobs\u001b[49m\u001b[43m,\u001b[49m\u001b[43m \u001b[49m\u001b[43mmask\u001b[49m\u001b[43m,\u001b[49m\u001b[43m \u001b[49m\u001b[43mcheck_args\u001b[49m\u001b[43m)\u001b[49m\n\u001b[1;32m    725\u001b[0m     \u001b[38;5;28;01mreturn\u001b[39;00m _smooth(\n\u001b[1;32m    726\u001b[0m             \u001b[38;5;28mself\u001b[39m\u001b[38;5;241m.\u001b[39mtransition_matrices,\n\u001b[1;32m    727\u001b[0m             ListNormal(filt_state_means, filt_state_covs),\n\u001b[1;32m    728\u001b[0m             ListNormal(pred_state_means, pred_state_covs),\n\u001b[1;32m    729\u001b[0m             check_args\n\u001b[1;32m    730\u001b[0m         )\n",
      "File \u001b[0;32m~/Documents/uni/Thesis/GPFA_imputation/meteo_imp/kalman/filter.py:635\u001b[0m, in \u001b[0;36m_filter_all\u001b[0;34m(self, obs, mask, check_args)\u001b[0m\n\u001b[1;32m    627\u001b[0m \u001b[38;5;129m@patch\u001b[39m\n\u001b[1;32m    628\u001b[0m \u001b[38;5;28;01mdef\u001b[39;00m \u001b[38;5;21m_filter_all\u001b[39m(\u001b[38;5;28mself\u001b[39m: KalmanFilter, obs, mask\u001b[38;5;241m=\u001b[39m\u001b[38;5;28;01mNone\u001b[39;00m, check_args\u001b[38;5;241m=\u001b[39m\u001b[38;5;28;01mNone\u001b[39;00m) \u001b[38;5;241m-\u001b[39m\u001b[38;5;241m>\u001b[39m Tuple:\n\u001b[1;32m    629\u001b[0m     obs, obs_mask \u001b[38;5;241m=\u001b[39m \u001b[38;5;28mself\u001b[39m\u001b[38;5;241m.\u001b[39m_parse_obs(obs, mask)\n\u001b[1;32m    631\u001b[0m     \u001b[38;5;28;01mreturn\u001b[39;00m _filter(\n\u001b[1;32m    632\u001b[0m             \u001b[38;5;28mself\u001b[39m\u001b[38;5;241m.\u001b[39mtransition_matrices,\n\u001b[1;32m    633\u001b[0m             \u001b[38;5;28mself\u001b[39m\u001b[38;5;241m.\u001b[39mobs_matrices,\n\u001b[1;32m    634\u001b[0m             \u001b[38;5;28mself\u001b[39m\u001b[38;5;241m.\u001b[39mtransition_cov,\n\u001b[0;32m--> 635\u001b[0m             \u001b[38;5;28;43mself\u001b[39;49m\u001b[38;5;241;43m.\u001b[39;49m\u001b[43mobs_cov\u001b[49m,\n\u001b[1;32m    636\u001b[0m             \u001b[38;5;28mself\u001b[39m\u001b[38;5;241m.\u001b[39mtransition_offsets,\n\u001b[1;32m    637\u001b[0m             \u001b[38;5;28mself\u001b[39m\u001b[38;5;241m.\u001b[39mobs_offsets,\n\u001b[1;32m    638\u001b[0m             \u001b[38;5;28mself\u001b[39m\u001b[38;5;241m.\u001b[39minitial_state_mean,\n\u001b[1;32m    639\u001b[0m             \u001b[38;5;28mself\u001b[39m\u001b[38;5;241m.\u001b[39minitial_state_cov,\n\u001b[1;32m    640\u001b[0m             obs,\n\u001b[1;32m    641\u001b[0m             obs_mask,\n\u001b[1;32m    642\u001b[0m             check_args\n\u001b[1;32m    643\u001b[0m         )\n",
      "File \u001b[0;32m~/Documents/uni/Thesis/GPFA_imputation/meteo_imp/kalman/filter.py:334\u001b[0m, in \u001b[0;36mKalmanFilter.obs_cov\u001b[0;34m(self)\u001b[0m\n\u001b[1;32m    332\u001b[0m \u001b[38;5;129m@property\u001b[39m\n\u001b[1;32m    333\u001b[0m \u001b[38;5;28;01mdef\u001b[39;00m \u001b[38;5;21mobs_cov\u001b[39m(\u001b[38;5;28mself\u001b[39m):\n\u001b[0;32m--> 334\u001b[0m     \u001b[38;5;28;01mreturn\u001b[39;00m \u001b[38;5;28;43mself\u001b[39;49m\u001b[38;5;241;43m.\u001b[39;49m\u001b[43m_get_constraint\u001b[49m\u001b[43m(\u001b[49m\u001b[38;5;124;43m'\u001b[39;49m\u001b[38;5;124;43mobs_cov\u001b[39;49m\u001b[38;5;124;43m'\u001b[39;49m\u001b[43m)\u001b[49m\n",
      "File \u001b[0;32m~/Documents/uni/Thesis/GPFA_imputation/meteo_imp/kalman/filter.py:313\u001b[0m, in \u001b[0;36mKalmanFilter._get_constraint\u001b[0;34m(self, param_name)\u001b[0m\n\u001b[1;32m    311\u001b[0m constraint \u001b[38;5;241m=\u001b[39m \u001b[38;5;28mgetattr\u001b[39m(\u001b[38;5;28mself\u001b[39m, param_name \u001b[38;5;241m+\u001b[39m \u001b[38;5;124m\"\u001b[39m\u001b[38;5;124m_constraint\u001b[39m\u001b[38;5;124m\"\u001b[39m)\n\u001b[1;32m    312\u001b[0m raw_value \u001b[38;5;241m=\u001b[39m \u001b[38;5;28mgetattr\u001b[39m(\u001b[38;5;28mself\u001b[39m, param_name \u001b[38;5;241m+\u001b[39m \u001b[38;5;124m\"\u001b[39m\u001b[38;5;124m_raw\u001b[39m\u001b[38;5;124m\"\u001b[39m)\n\u001b[0;32m--> 313\u001b[0m \u001b[38;5;28;01mreturn\u001b[39;00m \u001b[43mconstraint\u001b[49m\u001b[38;5;241;43m.\u001b[39;49m\u001b[43mtransform\u001b[49m\u001b[43m(\u001b[49m\u001b[43mraw_value\u001b[49m\u001b[43m)\u001b[49m\n",
      "File \u001b[0;32m~/Documents/uni/Thesis/GPFA_imputation/meteo_imp/kalman/filter.py:121\u001b[0m, in \u001b[0;36mPosDef.transform\u001b[0;34m(self, raw)\u001b[0m\n\u001b[1;32m    119\u001b[0m \u001b[38;5;124m\"\u001b[39m\u001b[38;5;124mtransform any square matrix into a positive definite one\u001b[39m\u001b[38;5;124m\"\u001b[39m\n\u001b[1;32m    120\u001b[0m semi_pos \u001b[38;5;241m=\u001b[39m raw \u001b[38;5;241m@\u001b[39m raw\u001b[38;5;241m.\u001b[39mT\n\u001b[0;32m--> 121\u001b[0m \u001b[43mcheck_is_pos_semidef\u001b[49m\u001b[43m(\u001b[49m\u001b[43msemi_pos\u001b[49m\u001b[43m)\u001b[49m\n\u001b[1;32m    122\u001b[0m \u001b[38;5;28;01mreturn\u001b[39;00m semi_pos \u001b[38;5;241m+\u001b[39m (\u001b[38;5;28mself\u001b[39m\u001b[38;5;241m.\u001b[39ma \u001b[38;5;241m*\u001b[39m torch\u001b[38;5;241m.\u001b[39meye(raw\u001b[38;5;241m.\u001b[39mshape[\u001b[38;5;241m0\u001b[39m]))\n",
      "File \u001b[0;32m~/Documents/uni/Thesis/GPFA_imputation/meteo_imp/kalman/filter.py:109\u001b[0m, in \u001b[0;36mcheck_is_pos_semidef\u001b[0;34m(cov)\u001b[0m\n\u001b[1;32m    107\u001b[0m \u001b[38;5;28;01mdef\u001b[39;00m \u001b[38;5;21mcheck_is_pos_semidef\u001b[39m(cov):\n\u001b[1;32m    108\u001b[0m     \u001b[38;5;28;01mif\u001b[39;00m \u001b[38;5;129;01mnot\u001b[39;00m is_pos_semidef(cov):\n\u001b[0;32m--> 109\u001b[0m         \u001b[38;5;28;01mraise\u001b[39;00m \u001b[38;5;167;01mValueError\u001b[39;00m(\u001b[38;5;124mf\u001b[39m\u001b[38;5;124m\"\u001b[39m\u001b[38;5;124mNot positive semi definite \u001b[39m\u001b[38;5;132;01m{\u001b[39;00mcov\u001b[38;5;132;01m}\u001b[39;00m\u001b[38;5;124m\"\u001b[39m)\n",
      "\u001b[0;31mValueError\u001b[0m: Not positive semi definite tensor([[0.4186, 0.1847, 0.6362],\n        [0.1847, 0.1272, 0.2375],\n        [0.6362, 0.2375, 1.0077]])"
     ]
    }
   ],
   "source": [
    "%time gap2res(var_sel, 10, 10)"
   ]
  },
  {
   "cell_type": "code",
   "execution_count": null,
   "id": "94154df9-59ba-49b9-b813-73a48d6351df",
   "metadata": {},
   "outputs": [],
   "source": [
    "gaps = [2, 5, 7, 10, 20, 30, 50, 100]\n",
    "gap_starts = [0, 30, 60, 90]"
   ]
  },
  {
   "cell_type": "code",
   "execution_count": null,
   "id": "24d0c344-1c13-4af9-b326-1953d7281c8a",
   "metadata": {},
   "outputs": [],
   "source": [
    "from ipywidgets import interact_manual, IntSlider"
   ]
  },
  {
   "cell_type": "code",
   "execution_count": null,
   "id": "51935ea2-ba33-4c96-82ae-5a2e251d84ea",
   "metadata": {},
   "outputs": [
    {
     "data": {
      "application/vnd.jupyter.widget-view+json": {
       "model_id": "ba4a9395b1bb4c15b0bd36427b4d3455",
       "version_major": 2,
       "version_minor": 0
      },
      "text/plain": [
       "interactive(children=(Checkbox(value=True, description='TA'), Checkbox(value=True, description='SW_IN'), Check…"
      ]
     },
     "metadata": {},
     "output_type": "display_data"
    }
   ],
   "source": [
    "#| include: false\n",
    "@interact_manual(TA=True,\n",
    "                 SW_IN=True,\n",
    "                 VPD=True,\n",
    "                 gap_len=IntSlider(10, 1,100),\n",
    "                 gap_start=IntSlider(30, 1,100),\n",
    "                 block_start = IntSlider(1000, 0, 20_000, 1000),\n",
    "                 block_len = IntSlider(200, 10, 1000, 10)\n",
    "        )\n",
    "def show_diff_gaps_res(TA, SW_IN, VPD, gap_len, gap_start, block_start, block_len):\n",
    "    var_sel = []\n",
    "    if TA: var_sel.append('TA')\n",
    "    if SW_IN: var_sel.append('SW_IN')\n",
    "    if VPD: var_sel.append('VPD')\n",
    "    var_sel = (*var_sel,)\n",
    "    gap2res(var_sel, gap_len, gap_start, block_start, block_start + block_len).display_results()\n",
    "    "
   ]
  },
  {
   "cell_type": "code",
   "execution_count": null,
   "id": "37c5e203-140a-45bf-b2a8-9935f29ed42b",
   "metadata": {},
   "outputs": [],
   "source": []
  }
 ],
 "metadata": {
  "kernelspec": {
   "display_name": "data_science",
   "language": "python",
   "name": "data_science"
  },
  "widgets": {
   "application/vnd.jupyter.widget-state+json": {
    "state": {
     "049ed6ff419d418ebd4ffebad26298e5": {
      "model_module": "@jupyter-widgets/controls",
      "model_module_version": "2.0.0",
      "model_name": "SliderStyleModel",
      "state": {
       "description_width": ""
      }
     },
     "0ae0cff6ff4a4df5bb4ac84da8eba166": {
      "model_module": "@jupyter-widgets/controls",
      "model_module_version": "2.0.0",
      "model_name": "SliderStyleModel",
      "state": {
       "description_width": ""
      }
     },
     "134853c0856849bfb2c371709840ce23": {
      "model_module": "@jupyter-widgets/base",
      "model_module_version": "2.0.0",
      "model_name": "LayoutModel",
      "state": {}
     },
     "24893627b47442b48f6afe39df38b94c": {
      "model_module": "@jupyter-widgets/controls",
      "model_module_version": "2.0.0",
      "model_name": "ButtonStyleModel",
      "state": {
       "font_family": null,
       "font_size": null,
       "font_style": null,
       "font_variant": null,
       "font_weight": null,
       "text_color": null,
       "text_decoration": null
      }
     },
     "262438a29a4841ab80f0a66782eb1aa1": {
      "model_module": "@jupyter-widgets/controls",
      "model_module_version": "2.0.0",
      "model_name": "IntSliderModel",
      "state": {
       "behavior": "drag-tap",
       "description": "block_start",
       "layout": "IPY_MODEL_dc76b915adfc442185cb028eb7fe3d5e",
       "max": 20000,
       "step": 1000,
       "style": "IPY_MODEL_ac46385b422245ddbbc2d1fcb724bd2b",
       "value": 1000
      }
     },
     "26505bfb620a4d128d1e770ef9ffb457": {
      "model_module": "@jupyter-widgets/controls",
      "model_module_version": "2.0.0",
      "model_name": "CheckboxStyleModel",
      "state": {
       "description_width": ""
      }
     },
     "3e2a4ea63bf14d609fe89a4a7e4f28f0": {
      "model_module": "@jupyter-widgets/base",
      "model_module_version": "2.0.0",
      "model_name": "LayoutModel",
      "state": {}
     },
     "461752c64ec548a7b00fc8c9afa62a64": {
      "model_module": "@jupyter-widgets/base",
      "model_module_version": "2.0.0",
      "model_name": "LayoutModel",
      "state": {}
     },
     "548244f03eb74b9ea1bbf7d014ace07b": {
      "model_module": "@jupyter-widgets/controls",
      "model_module_version": "2.0.0",
      "model_name": "IntSliderModel",
      "state": {
       "behavior": "drag-tap",
       "description": "block_len",
       "layout": "IPY_MODEL_60c17955956040d0a322fc3bb2fb8b47",
       "max": 1000,
       "min": 10,
       "step": 10,
       "style": "IPY_MODEL_6eb2489468c54100953aa4c399644774",
       "value": 200
      }
     },
     "5541852ce6f3420e82878f15fecb5fe7": {
      "model_module": "@jupyter-widgets/controls",
      "model_module_version": "2.0.0",
      "model_name": "CheckboxModel",
      "state": {
       "description": "VPD",
       "disabled": false,
       "layout": "IPY_MODEL_134853c0856849bfb2c371709840ce23",
       "style": "IPY_MODEL_8b1072494aed45e88a8bb202c1678d0e",
       "value": true
      }
     },
     "5d9667579cfe46a7975b24c57a343523": {
      "model_module": "@jupyter-widgets/output",
      "model_module_version": "1.0.0",
      "model_name": "OutputModel",
      "state": {
       "layout": "IPY_MODEL_3e2a4ea63bf14d609fe89a4a7e4f28f0",
       "outputs": [
        {
         "ename": "ValueError",
         "evalue": "Not positive semi definite tensor([[0.4186, 0.1847, 0.6362],\n        [0.1847, 0.1272, 0.2375],\n        [0.6362, 0.2375, 1.0077]])",
         "output_type": "error",
         "traceback": [
          "\u001b[0;31m---------------------------------------------------------------------------\u001b[0m",
          "\u001b[0;31mValueError\u001b[0m                                Traceback (most recent call last)",
          "File \u001b[0;32m~/.local/lib/python3.10/site-packages/ipywidgets/widgets/interaction.py:239\u001b[0m, in \u001b[0;36minteractive.update\u001b[0;34m(self, *args)\u001b[0m\n\u001b[1;32m    237\u001b[0m     value \u001b[38;5;241m=\u001b[39m widget\u001b[38;5;241m.\u001b[39mget_interact_value()\n\u001b[1;32m    238\u001b[0m     \u001b[38;5;28mself\u001b[39m\u001b[38;5;241m.\u001b[39mkwargs[widget\u001b[38;5;241m.\u001b[39m_kwarg] \u001b[38;5;241m=\u001b[39m value\n\u001b[0;32m--> 239\u001b[0m \u001b[38;5;28mself\u001b[39m\u001b[38;5;241m.\u001b[39mresult \u001b[38;5;241m=\u001b[39m \u001b[38;5;28;43mself\u001b[39;49m\u001b[38;5;241;43m.\u001b[39;49m\u001b[43mf\u001b[49m\u001b[43m(\u001b[49m\u001b[38;5;241;43m*\u001b[39;49m\u001b[38;5;241;43m*\u001b[39;49m\u001b[38;5;28;43mself\u001b[39;49m\u001b[38;5;241;43m.\u001b[39;49m\u001b[43mkwargs\u001b[49m\u001b[43m)\u001b[49m\n\u001b[1;32m    240\u001b[0m show_inline_matplotlib_plots()\n\u001b[1;32m    241\u001b[0m \u001b[38;5;28;01mif\u001b[39;00m \u001b[38;5;28mself\u001b[39m\u001b[38;5;241m.\u001b[39mauto_display \u001b[38;5;129;01mand\u001b[39;00m \u001b[38;5;28mself\u001b[39m\u001b[38;5;241m.\u001b[39mresult \u001b[38;5;129;01mis\u001b[39;00m \u001b[38;5;129;01mnot\u001b[39;00m \u001b[38;5;28;01mNone\u001b[39;00m:\n",
          "Input \u001b[0;32mIn [33]\u001b[0m, in \u001b[0;36mshow_diff_gaps_res\u001b[0;34m(TA, SW_IN, VPD, gap_len, gap_start, block_start, block_len)\u001b[0m\n\u001b[1;32m     14\u001b[0m \u001b[38;5;28;01mif\u001b[39;00m VPD: var_sel\u001b[38;5;241m.\u001b[39mappend(\u001b[38;5;124m'\u001b[39m\u001b[38;5;124mVPD\u001b[39m\u001b[38;5;124m'\u001b[39m)\n\u001b[1;32m     15\u001b[0m var_sel \u001b[38;5;241m=\u001b[39m (\u001b[38;5;241m*\u001b[39mvar_sel,)\n\u001b[0;32m---> 16\u001b[0m \u001b[43mgap2res\u001b[49m\u001b[43m(\u001b[49m\u001b[43mvar_sel\u001b[49m\u001b[43m,\u001b[49m\u001b[43m \u001b[49m\u001b[43mgap_len\u001b[49m\u001b[43m,\u001b[49m\u001b[43m \u001b[49m\u001b[43mgap_start\u001b[49m\u001b[43m,\u001b[49m\u001b[43m \u001b[49m\u001b[43mblock_start\u001b[49m\u001b[43m,\u001b[49m\u001b[43m \u001b[49m\u001b[43mblock_start\u001b[49m\u001b[43m \u001b[49m\u001b[38;5;241;43m+\u001b[39;49m\u001b[43m \u001b[49m\u001b[43mblock_len\u001b[49m\u001b[43m)\u001b[49m\u001b[38;5;241m.\u001b[39mdisplay_results()\n",
          "Input \u001b[0;32mIn [27]\u001b[0m, in \u001b[0;36mgap2res\u001b[0;34m(var_sel, gap_len, gap_start, block_start, block_end)\u001b[0m\n\u001b[1;32m      3\u001b[0m imp \u001b[38;5;241m=\u001b[39m KalmanImputation(data\u001b[38;5;241m.\u001b[39mdata)\n\u001b[1;32m      4\u001b[0m imp\u001b[38;5;241m.\u001b[39mmodel\u001b[38;5;241m.\u001b[39mfilter\u001b[38;5;241m.\u001b[39mload_state_dict(trained_state)\n\u001b[0;32m----> 5\u001b[0m \u001b[38;5;28;01mreturn\u001b[39;00m \u001b[43mimp\u001b[49m\u001b[38;5;241;43m.\u001b[39;49m\u001b[43mto_result\u001b[49m\u001b[43m(\u001b[49m\u001b[43mdata\u001b[49m\u001b[38;5;241;43m.\u001b[39;49m\u001b[43mdata_compl_tidy\u001b[49m\u001b[43m,\u001b[49m\u001b[43m \u001b[49m\u001b[43mvar_names\u001b[49m\u001b[38;5;241;43m=\u001b[39;49m\u001b[43m \u001b[49m\u001b[43mdata\u001b[49m\u001b[38;5;241;43m.\u001b[39;49m\u001b[43mdata\u001b[49m\u001b[38;5;241;43m.\u001b[39;49m\u001b[43mcolumns\u001b[49m\u001b[43m,\u001b[49m\u001b[43m \u001b[49m\u001b[43munits\u001b[49m\u001b[38;5;241;43m=\u001b[39;49m\u001b[43munits\u001b[49m\u001b[43m,\u001b[49m\u001b[43m \u001b[49m\u001b[43mpred_all\u001b[49m\u001b[38;5;241;43m=\u001b[39;49m\u001b[38;5;28;43;01mTrue\u001b[39;49;00m\u001b[43m)\u001b[49m\n",
          "File \u001b[0;32m~/Documents/uni/Thesis/GPFA_imputation/meteo_imp/kalman/imputation.py:74\u001b[0m, in \u001b[0;36mto_result\u001b[0;34m(self, data_compl, var_names, units, pred_all)\u001b[0m\n\u001b[1;32m     72\u001b[0m \u001b[38;5;129m@patch\u001b[39m\n\u001b[1;32m     73\u001b[0m \u001b[38;5;28;01mdef\u001b[39;00m \u001b[38;5;21mto_result\u001b[39m(\u001b[38;5;28mself\u001b[39m: KalmanImputation, data_compl, var_names\u001b[38;5;241m=\u001b[39m\u001b[38;5;28;01mNone\u001b[39;00m, units\u001b[38;5;241m=\u001b[39m\u001b[38;5;28;01mNone\u001b[39;00m, pred_all\u001b[38;5;241m=\u001b[39m\u001b[38;5;28;01mFalse\u001b[39;00m):\n\u001b[0;32m---> 74\u001b[0m     \u001b[38;5;28;01mreturn\u001b[39;00m ImputationResult(\u001b[38;5;28;43mself\u001b[39;49m\u001b[38;5;241;43m.\u001b[39;49m\u001b[43mimpute\u001b[49m\u001b[43m(\u001b[49m\u001b[43mpred_all\u001b[49m\u001b[43m)\u001b[49m, data_compl, \u001b[38;5;28mself\u001b[39m\u001b[38;5;241m.\u001b[39mmodel\u001b[38;5;241m.\u001b[39mfilter\u001b[38;5;241m.\u001b[39mget_info(var_names), units)\n",
          "File \u001b[0;32m~/Documents/uni/Thesis/GPFA_imputation/meteo_imp/kalman/imputation.py:54\u001b[0m, in \u001b[0;36mKalmanImputation.impute\u001b[0;34m(self, pred_all)\u001b[0m\n\u001b[1;32m     51\u001b[0m     time_mask \u001b[38;5;241m=\u001b[39m \u001b[38;5;28mself\u001b[39m\u001b[38;5;241m.\u001b[39mT[\u001b[38;5;241m~\u001b[39m\u001b[38;5;28mself\u001b[39m\u001b[38;5;241m.\u001b[39mtrain_idx]\n\u001b[1;32m     52\u001b[0m     data_mask \u001b[38;5;241m=\u001b[39m \u001b[38;5;241m~\u001b[39m\u001b[38;5;28mself\u001b[39m\u001b[38;5;241m.\u001b[39mtrain_idx\n\u001b[0;32m---> 54\u001b[0m pred \u001b[38;5;241m=\u001b[39m \u001b[38;5;28;43mself\u001b[39;49m\u001b[38;5;241;43m.\u001b[39;49m\u001b[43mmodel\u001b[49m\u001b[38;5;241;43m.\u001b[39;49m\u001b[43mpredict\u001b[49m\u001b[43m(\u001b[49m\u001b[43mtime_mask\u001b[49m\u001b[43m)\u001b[49m\n\u001b[1;32m     56\u001b[0m imp_mean \u001b[38;5;241m=\u001b[39m \u001b[38;5;28mself\u001b[39m\u001b[38;5;241m.\u001b[39mdata\u001b[38;5;241m.\u001b[39mcopy()\n\u001b[1;32m     57\u001b[0m mean \u001b[38;5;241m=\u001b[39m \u001b[38;5;28mself\u001b[39m\u001b[38;5;241m.\u001b[39mscaler\u001b[38;5;241m.\u001b[39minverse_transform(pred\u001b[38;5;241m.\u001b[39mmean)\n",
          "File \u001b[0;32m~/anaconda3/envs/data-science/lib/python3.10/site-packages/torch/autograd/grad_mode.py:27\u001b[0m, in \u001b[0;36m_DecoratorContextManager.__call__.<locals>.decorate_context\u001b[0;34m(*args, **kwargs)\u001b[0m\n\u001b[1;32m     24\u001b[0m \u001b[38;5;129m@functools\u001b[39m\u001b[38;5;241m.\u001b[39mwraps(func)\n\u001b[1;32m     25\u001b[0m \u001b[38;5;28;01mdef\u001b[39;00m \u001b[38;5;21mdecorate_context\u001b[39m(\u001b[38;5;241m*\u001b[39margs, \u001b[38;5;241m*\u001b[39m\u001b[38;5;241m*\u001b[39mkwargs):\n\u001b[1;32m     26\u001b[0m     \u001b[38;5;28;01mwith\u001b[39;00m \u001b[38;5;28mself\u001b[39m\u001b[38;5;241m.\u001b[39mclone():\n\u001b[0;32m---> 27\u001b[0m         \u001b[38;5;28;01mreturn\u001b[39;00m \u001b[43mfunc\u001b[49m\u001b[43m(\u001b[49m\u001b[38;5;241;43m*\u001b[39;49m\u001b[43margs\u001b[49m\u001b[43m,\u001b[49m\u001b[43m \u001b[49m\u001b[38;5;241;43m*\u001b[39;49m\u001b[38;5;241;43m*\u001b[39;49m\u001b[43mkwargs\u001b[49m\u001b[43m)\u001b[49m\n",
          "File \u001b[0;32m~/Documents/uni/Thesis/GPFA_imputation/meteo_imp/kalman/model.py:85\u001b[0m, in \u001b[0;36mKalmanModel.predict\u001b[0;34m(self, t)\u001b[0m\n\u001b[1;32m     83\u001b[0m \u001b[38;5;129m@torch\u001b[39m\u001b[38;5;241m.\u001b[39mno_grad()\n\u001b[1;32m     84\u001b[0m \u001b[38;5;28;01mdef\u001b[39;00m \u001b[38;5;21mpredict\u001b[39m(\u001b[38;5;28mself\u001b[39m, t):\n\u001b[0;32m---> 85\u001b[0m     \u001b[38;5;28;01mreturn\u001b[39;00m \u001b[38;5;28;43mself\u001b[39;49m\u001b[38;5;241;43m.\u001b[39;49m\u001b[43mfilter\u001b[49m\u001b[38;5;241;43m.\u001b[39;49m\u001b[43mpredict\u001b[49m\u001b[43m(\u001b[49m\u001b[38;5;28;43mself\u001b[39;49m\u001b[38;5;241;43m.\u001b[39;49m\u001b[43mdata\u001b[49m\u001b[43m,\u001b[49m\u001b[43m \u001b[49m\u001b[43mt\u001b[49m\u001b[43m)\u001b[49m\u001b[38;5;241m.\u001b[39mdetach()\n",
          "File \u001b[0;32m~/Documents/uni/Thesis/GPFA_imputation/meteo_imp/kalman/filter.py:749\u001b[0m, in \u001b[0;36mpredict\u001b[0;34m(self, obs, times, mask, smooth, check_args)\u001b[0m\n\u001b[1;32m    747\u001b[0m \u001b[38;5;129m@patch\u001b[39m\n\u001b[1;32m    748\u001b[0m \u001b[38;5;28;01mdef\u001b[39;00m \u001b[38;5;21mpredict\u001b[39m(\u001b[38;5;28mself\u001b[39m: KalmanFilter, obs, times, mask\u001b[38;5;241m=\u001b[39m\u001b[38;5;28;01mNone\u001b[39;00m, smooth\u001b[38;5;241m=\u001b[39m\u001b[38;5;28;01mTrue\u001b[39;00m, check_args\u001b[38;5;241m=\u001b[39m\u001b[38;5;28;01mNone\u001b[39;00m):\n\u001b[0;32m--> 749\u001b[0m     state \u001b[38;5;241m=\u001b[39m \u001b[38;5;28;43mself\u001b[39;49m\u001b[38;5;241;43m.\u001b[39;49m\u001b[43msmooth\u001b[49m\u001b[43m(\u001b[49m\u001b[43mobs\u001b[49m\u001b[43m,\u001b[49m\u001b[43m \u001b[49m\u001b[43mmask\u001b[49m\u001b[43m,\u001b[49m\u001b[43m \u001b[49m\u001b[43mcheck_args\u001b[49m\u001b[43m)\u001b[49m \u001b[38;5;28;01mif\u001b[39;00m smooth \u001b[38;5;28;01melse\u001b[39;00m \u001b[38;5;28mself\u001b[39m\u001b[38;5;241m.\u001b[39mfilter(obs, mask, check_args)\n\u001b[1;32m    750\u001b[0m     times \u001b[38;5;241m=\u001b[39m array1d(times)\n\u001b[1;32m    752\u001b[0m     n_timesteps \u001b[38;5;241m=\u001b[39m obs\u001b[38;5;241m.\u001b[39mshape[\u001b[38;5;241m0\u001b[39m]\n",
          "File \u001b[0;32m~/Documents/uni/Thesis/GPFA_imputation/meteo_imp/kalman/filter.py:723\u001b[0m, in \u001b[0;36msmooth\u001b[0;34m(self, obs, mask, check_args)\u001b[0m\n\u001b[1;32m    710\u001b[0m \u001b[38;5;129m@patch\u001b[39m\n\u001b[1;32m    711\u001b[0m \u001b[38;5;28;01mdef\u001b[39;00m \u001b[38;5;21msmooth\u001b[39m(\u001b[38;5;28mself\u001b[39m: KalmanFilter,\n\u001b[1;32m    712\u001b[0m            obs: Tensor, \u001b[38;5;66;03m# dataset\u001b[39;00m\n\u001b[0;32m   (...)\u001b[0m\n\u001b[1;32m    718\u001b[0m                 \u001b[38;5;66;03m# `smoothed_state_covs` : `[n_timesteps, n_dim_state]`\u001b[39;00m\n\u001b[1;32m    719\u001b[0m                     \u001b[38;5;66;03m# covs of hidden state distributions for times `[0...n_timesteps-1]`\u001b[39;00m\n\u001b[1;32m    721\u001b[0m     \u001b[38;5;124;03m\"\"\"Smoothing for prediction (no gradients)\"\"\"\u001b[39;00m\n\u001b[0;32m--> 723\u001b[0m     (pred_state_means, pred_state_covs, filt_state_means, filt_state_covs) \u001b[38;5;241m=\u001b[39m \u001b[38;5;28;43mself\u001b[39;49m\u001b[38;5;241;43m.\u001b[39;49m\u001b[43m_filter_all\u001b[49m\u001b[43m(\u001b[49m\u001b[43mobs\u001b[49m\u001b[43m,\u001b[49m\u001b[43m \u001b[49m\u001b[43mmask\u001b[49m\u001b[43m,\u001b[49m\u001b[43m \u001b[49m\u001b[43mcheck_args\u001b[49m\u001b[43m)\u001b[49m\n\u001b[1;32m    725\u001b[0m     \u001b[38;5;28;01mreturn\u001b[39;00m _smooth(\n\u001b[1;32m    726\u001b[0m             \u001b[38;5;28mself\u001b[39m\u001b[38;5;241m.\u001b[39mtransition_matrices,\n\u001b[1;32m    727\u001b[0m             ListNormal(filt_state_means, filt_state_covs),\n\u001b[1;32m    728\u001b[0m             ListNormal(pred_state_means, pred_state_covs),\n\u001b[1;32m    729\u001b[0m             check_args\n\u001b[1;32m    730\u001b[0m         )\n",
          "File \u001b[0;32m~/Documents/uni/Thesis/GPFA_imputation/meteo_imp/kalman/filter.py:635\u001b[0m, in \u001b[0;36m_filter_all\u001b[0;34m(self, obs, mask, check_args)\u001b[0m\n\u001b[1;32m    627\u001b[0m \u001b[38;5;129m@patch\u001b[39m\n\u001b[1;32m    628\u001b[0m \u001b[38;5;28;01mdef\u001b[39;00m \u001b[38;5;21m_filter_all\u001b[39m(\u001b[38;5;28mself\u001b[39m: KalmanFilter, obs, mask\u001b[38;5;241m=\u001b[39m\u001b[38;5;28;01mNone\u001b[39;00m, check_args\u001b[38;5;241m=\u001b[39m\u001b[38;5;28;01mNone\u001b[39;00m) \u001b[38;5;241m-\u001b[39m\u001b[38;5;241m>\u001b[39m Tuple:\n\u001b[1;32m    629\u001b[0m     obs, obs_mask \u001b[38;5;241m=\u001b[39m \u001b[38;5;28mself\u001b[39m\u001b[38;5;241m.\u001b[39m_parse_obs(obs, mask)\n\u001b[1;32m    631\u001b[0m     \u001b[38;5;28;01mreturn\u001b[39;00m _filter(\n\u001b[1;32m    632\u001b[0m             \u001b[38;5;28mself\u001b[39m\u001b[38;5;241m.\u001b[39mtransition_matrices,\n\u001b[1;32m    633\u001b[0m             \u001b[38;5;28mself\u001b[39m\u001b[38;5;241m.\u001b[39mobs_matrices,\n\u001b[1;32m    634\u001b[0m             \u001b[38;5;28mself\u001b[39m\u001b[38;5;241m.\u001b[39mtransition_cov,\n\u001b[0;32m--> 635\u001b[0m             \u001b[38;5;28;43mself\u001b[39;49m\u001b[38;5;241;43m.\u001b[39;49m\u001b[43mobs_cov\u001b[49m,\n\u001b[1;32m    636\u001b[0m             \u001b[38;5;28mself\u001b[39m\u001b[38;5;241m.\u001b[39mtransition_offsets,\n\u001b[1;32m    637\u001b[0m             \u001b[38;5;28mself\u001b[39m\u001b[38;5;241m.\u001b[39mobs_offsets,\n\u001b[1;32m    638\u001b[0m             \u001b[38;5;28mself\u001b[39m\u001b[38;5;241m.\u001b[39minitial_state_mean,\n\u001b[1;32m    639\u001b[0m             \u001b[38;5;28mself\u001b[39m\u001b[38;5;241m.\u001b[39minitial_state_cov,\n\u001b[1;32m    640\u001b[0m             obs,\n\u001b[1;32m    641\u001b[0m             obs_mask,\n\u001b[1;32m    642\u001b[0m             check_args\n\u001b[1;32m    643\u001b[0m         )\n",
          "File \u001b[0;32m~/Documents/uni/Thesis/GPFA_imputation/meteo_imp/kalman/filter.py:334\u001b[0m, in \u001b[0;36mKalmanFilter.obs_cov\u001b[0;34m(self)\u001b[0m\n\u001b[1;32m    332\u001b[0m \u001b[38;5;129m@property\u001b[39m\n\u001b[1;32m    333\u001b[0m \u001b[38;5;28;01mdef\u001b[39;00m \u001b[38;5;21mobs_cov\u001b[39m(\u001b[38;5;28mself\u001b[39m):\n\u001b[0;32m--> 334\u001b[0m     \u001b[38;5;28;01mreturn\u001b[39;00m \u001b[38;5;28;43mself\u001b[39;49m\u001b[38;5;241;43m.\u001b[39;49m\u001b[43m_get_constraint\u001b[49m\u001b[43m(\u001b[49m\u001b[38;5;124;43m'\u001b[39;49m\u001b[38;5;124;43mobs_cov\u001b[39;49m\u001b[38;5;124;43m'\u001b[39;49m\u001b[43m)\u001b[49m\n",
          "File \u001b[0;32m~/Documents/uni/Thesis/GPFA_imputation/meteo_imp/kalman/filter.py:313\u001b[0m, in \u001b[0;36mKalmanFilter._get_constraint\u001b[0;34m(self, param_name)\u001b[0m\n\u001b[1;32m    311\u001b[0m constraint \u001b[38;5;241m=\u001b[39m \u001b[38;5;28mgetattr\u001b[39m(\u001b[38;5;28mself\u001b[39m, param_name \u001b[38;5;241m+\u001b[39m \u001b[38;5;124m\"\u001b[39m\u001b[38;5;124m_constraint\u001b[39m\u001b[38;5;124m\"\u001b[39m)\n\u001b[1;32m    312\u001b[0m raw_value \u001b[38;5;241m=\u001b[39m \u001b[38;5;28mgetattr\u001b[39m(\u001b[38;5;28mself\u001b[39m, param_name \u001b[38;5;241m+\u001b[39m \u001b[38;5;124m\"\u001b[39m\u001b[38;5;124m_raw\u001b[39m\u001b[38;5;124m\"\u001b[39m)\n\u001b[0;32m--> 313\u001b[0m \u001b[38;5;28;01mreturn\u001b[39;00m \u001b[43mconstraint\u001b[49m\u001b[38;5;241;43m.\u001b[39;49m\u001b[43mtransform\u001b[49m\u001b[43m(\u001b[49m\u001b[43mraw_value\u001b[49m\u001b[43m)\u001b[49m\n",
          "File \u001b[0;32m~/Documents/uni/Thesis/GPFA_imputation/meteo_imp/kalman/filter.py:121\u001b[0m, in \u001b[0;36mPosDef.transform\u001b[0;34m(self, raw)\u001b[0m\n\u001b[1;32m    119\u001b[0m \u001b[38;5;124m\"\u001b[39m\u001b[38;5;124mtransform any square matrix into a positive definite one\u001b[39m\u001b[38;5;124m\"\u001b[39m\n\u001b[1;32m    120\u001b[0m semi_pos \u001b[38;5;241m=\u001b[39m raw \u001b[38;5;241m@\u001b[39m raw\u001b[38;5;241m.\u001b[39mT\n\u001b[0;32m--> 121\u001b[0m \u001b[43mcheck_is_pos_semidef\u001b[49m\u001b[43m(\u001b[49m\u001b[43msemi_pos\u001b[49m\u001b[43m)\u001b[49m\n\u001b[1;32m    122\u001b[0m \u001b[38;5;28;01mreturn\u001b[39;00m semi_pos \u001b[38;5;241m+\u001b[39m (\u001b[38;5;28mself\u001b[39m\u001b[38;5;241m.\u001b[39ma \u001b[38;5;241m*\u001b[39m torch\u001b[38;5;241m.\u001b[39meye(raw\u001b[38;5;241m.\u001b[39mshape[\u001b[38;5;241m0\u001b[39m]))\n",
          "File \u001b[0;32m~/Documents/uni/Thesis/GPFA_imputation/meteo_imp/kalman/filter.py:109\u001b[0m, in \u001b[0;36mcheck_is_pos_semidef\u001b[0;34m(cov)\u001b[0m\n\u001b[1;32m    107\u001b[0m \u001b[38;5;28;01mdef\u001b[39;00m \u001b[38;5;21mcheck_is_pos_semidef\u001b[39m(cov):\n\u001b[1;32m    108\u001b[0m     \u001b[38;5;28;01mif\u001b[39;00m \u001b[38;5;129;01mnot\u001b[39;00m is_pos_semidef(cov):\n\u001b[0;32m--> 109\u001b[0m         \u001b[38;5;28;01mraise\u001b[39;00m \u001b[38;5;167;01mValueError\u001b[39;00m(\u001b[38;5;124mf\u001b[39m\u001b[38;5;124m\"\u001b[39m\u001b[38;5;124mNot positive semi definite \u001b[39m\u001b[38;5;132;01m{\u001b[39;00mcov\u001b[38;5;132;01m}\u001b[39;00m\u001b[38;5;124m\"\u001b[39m)\n",
          "\u001b[0;31mValueError\u001b[0m: Not positive semi definite tensor([[0.4186, 0.1847, 0.6362],\n        [0.1847, 0.1272, 0.2375],\n        [0.6362, 0.2375, 1.0077]])"
         ]
        }
       ]
      }
     },
     "60c17955956040d0a322fc3bb2fb8b47": {
      "model_module": "@jupyter-widgets/base",
      "model_module_version": "2.0.0",
      "model_name": "LayoutModel",
      "state": {}
     },
     "673c32339e25478aab15dab6c583e237": {
      "model_module": "@jupyter-widgets/controls",
      "model_module_version": "2.0.0",
      "model_name": "IntSliderModel",
      "state": {
       "behavior": "drag-tap",
       "description": "gap_start",
       "layout": "IPY_MODEL_461752c64ec548a7b00fc8c9afa62a64",
       "min": 1,
       "style": "IPY_MODEL_0ae0cff6ff4a4df5bb4ac84da8eba166",
       "value": 30
      }
     },
     "69475fad477647feb56ab7a93c420fda": {
      "model_module": "@jupyter-widgets/controls",
      "model_module_version": "2.0.0",
      "model_name": "CheckboxModel",
      "state": {
       "description": "SW_IN",
       "disabled": false,
       "layout": "IPY_MODEL_f09473fce3af4e89a586c51e61139e90",
       "style": "IPY_MODEL_26505bfb620a4d128d1e770ef9ffb457",
       "value": true
      }
     },
     "6eb2489468c54100953aa4c399644774": {
      "model_module": "@jupyter-widgets/controls",
      "model_module_version": "2.0.0",
      "model_name": "SliderStyleModel",
      "state": {
       "description_width": ""
      }
     },
     "7ded237f9ce942698e9dca05d16f321b": {
      "model_module": "@jupyter-widgets/base",
      "model_module_version": "2.0.0",
      "model_name": "LayoutModel",
      "state": {}
     },
     "87e428212f1f49cb85486d325442681f": {
      "model_module": "@jupyter-widgets/base",
      "model_module_version": "2.0.0",
      "model_name": "LayoutModel",
      "state": {}
     },
     "8b1072494aed45e88a8bb202c1678d0e": {
      "model_module": "@jupyter-widgets/controls",
      "model_module_version": "2.0.0",
      "model_name": "CheckboxStyleModel",
      "state": {
       "description_width": ""
      }
     },
     "8d4148d5c6be4e5e92956b9122c3285d": {
      "model_module": "@jupyter-widgets/base",
      "model_module_version": "2.0.0",
      "model_name": "LayoutModel",
      "state": {}
     },
     "ac46385b422245ddbbc2d1fcb724bd2b": {
      "model_module": "@jupyter-widgets/controls",
      "model_module_version": "2.0.0",
      "model_name": "SliderStyleModel",
      "state": {
       "description_width": ""
      }
     },
     "ae625801f19547bba5f62237af4a945a": {
      "model_module": "@jupyter-widgets/controls",
      "model_module_version": "2.0.0",
      "model_name": "CheckboxModel",
      "state": {
       "description": "TA",
       "disabled": false,
       "layout": "IPY_MODEL_87e428212f1f49cb85486d325442681f",
       "style": "IPY_MODEL_dcbdc91e4c8c49f09eb1a6a530dda6b1",
       "value": true
      }
     },
     "ba4a9395b1bb4c15b0bd36427b4d3455": {
      "model_module": "@jupyter-widgets/controls",
      "model_module_version": "2.0.0",
      "model_name": "VBoxModel",
      "state": {
       "_dom_classes": [
        "widget-interact"
       ],
       "children": [
        "IPY_MODEL_ae625801f19547bba5f62237af4a945a",
        "IPY_MODEL_69475fad477647feb56ab7a93c420fda",
        "IPY_MODEL_5541852ce6f3420e82878f15fecb5fe7",
        "IPY_MODEL_ec28973227bf422eb41687bdc0121b0b",
        "IPY_MODEL_673c32339e25478aab15dab6c583e237",
        "IPY_MODEL_262438a29a4841ab80f0a66782eb1aa1",
        "IPY_MODEL_548244f03eb74b9ea1bbf7d014ace07b",
        "IPY_MODEL_bda19c8cce6640b083091e87c1f1833e",
        "IPY_MODEL_5d9667579cfe46a7975b24c57a343523"
       ],
       "layout": "IPY_MODEL_7ded237f9ce942698e9dca05d16f321b"
      }
     },
     "bda19c8cce6640b083091e87c1f1833e": {
      "model_module": "@jupyter-widgets/controls",
      "model_module_version": "2.0.0",
      "model_name": "ButtonModel",
      "state": {
       "description": "Run Interact",
       "layout": "IPY_MODEL_8d4148d5c6be4e5e92956b9122c3285d",
       "style": "IPY_MODEL_24893627b47442b48f6afe39df38b94c",
       "tooltip": null
      }
     },
     "cdac049b08824577a3e7de8327010396": {
      "model_module": "@jupyter-widgets/base",
      "model_module_version": "2.0.0",
      "model_name": "LayoutModel",
      "state": {}
     },
     "dc76b915adfc442185cb028eb7fe3d5e": {
      "model_module": "@jupyter-widgets/base",
      "model_module_version": "2.0.0",
      "model_name": "LayoutModel",
      "state": {}
     },
     "dcbdc91e4c8c49f09eb1a6a530dda6b1": {
      "model_module": "@jupyter-widgets/controls",
      "model_module_version": "2.0.0",
      "model_name": "CheckboxStyleModel",
      "state": {
       "description_width": ""
      }
     },
     "ec28973227bf422eb41687bdc0121b0b": {
      "model_module": "@jupyter-widgets/controls",
      "model_module_version": "2.0.0",
      "model_name": "IntSliderModel",
      "state": {
       "behavior": "drag-tap",
       "description": "gap_len",
       "layout": "IPY_MODEL_cdac049b08824577a3e7de8327010396",
       "min": 1,
       "style": "IPY_MODEL_049ed6ff419d418ebd4ffebad26298e5",
       "value": 10
      }
     },
     "f09473fce3af4e89a586c51e61139e90": {
      "model_module": "@jupyter-widgets/base",
      "model_module_version": "2.0.0",
      "model_name": "LayoutModel",
      "state": {}
     }
    },
    "version_major": 2,
    "version_minor": 0
   }
  }
 },
 "nbformat": 4,
 "nbformat_minor": 5
}
