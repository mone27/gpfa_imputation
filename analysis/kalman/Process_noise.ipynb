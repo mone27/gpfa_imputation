{
 "cells": [
  {
   "cell_type": "markdown",
   "id": "21f5b79b-acc5-4f52-83d9-3ea7cfae8669",
   "metadata": {},
   "source": [
    "# Process Noise estimation\n",
    "> for a local level model using data from Hainich"
   ]
  },
  {
   "cell_type": "code",
   "execution_count": null,
   "id": "3c4b451e-28c8-4eb9-99a9-14dcb6e8ac13",
   "metadata": {},
   "outputs": [],
   "source": [
    "from meteo_imp.data import hai"
   ]
  },
  {
   "cell_type": "code",
   "execution_count": null,
   "id": "13a74952-2508-4dfc-9b02-fda32a04e257",
   "metadata": {},
   "outputs": [
    {
     "data": {
      "text/plain": [
       "<AxesSubplot: >"
      ]
     },
     "execution_count": null,
     "metadata": {},
     "output_type": "execute_result"
    },
    {
     "data": {
      "image/png": "[encoded data removed]",
      "text/plain": [
       "<Figure size 432x288 with 1 Axes>"
      ]
     },
     "metadata": {
      "needs_background": "light"
     },
     "output_type": "display_data"
    }
   ],
   "source": [
    "ta_diff = (hai.TA - hai.TA.shift(-1))\n",
    "ta_diff.hist(bins=20)"
   ]
  },
  {
   "cell_type": "markdown",
   "id": "994f4ee8-6342-4245-98e3-5d0aaacef648",
   "metadata": {},
   "source": [
    "this is the difference between TA and the previous time step which is not too far from a normal distribution "
   ]
  },
  {
   "cell_type": "code",
   "execution_count": null,
   "id": "af311334-c4aa-4cc7-ab84-96d2ce41a7ec",
   "metadata": {},
   "outputs": [
    {
     "data": {
      "text/plain": [
       "0.12497036855024059"
      ]
     },
     "execution_count": null,
     "metadata": {},
     "output_type": "execute_result"
    }
   ],
   "source": [
    "ta_diff.std()"
   ]
  },
  {
   "cell_type": "markdown",
   "id": "4c73c846-27cd-417b-b222-0c53a28be091",
   "metadata": {},
   "source": [
    "so This should be the value of the `Q` in the kalman filter"
   ]
  }
 ],
 "metadata": {
  "kernelspec": {
   "display_name": "data_science",
   "language": "python",
   "name": "data_science"
  },
  "widgets": {
   "application/vnd.jupyter.widget-state+json": {
    "state": {},
    "version_major": 2,
    "version_minor": 0
   }
  }
 },
 "nbformat": 4,
 "nbformat_minor": 5
}
