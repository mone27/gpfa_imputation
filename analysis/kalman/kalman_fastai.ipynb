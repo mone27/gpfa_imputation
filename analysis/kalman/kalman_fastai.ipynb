{
 "cells": [
  {
   "cell_type": "code",
   "execution_count": null,
   "id": "457f09cb-c78e-4287-9c73-4faa8f210527",
   "metadata": {},
   "outputs": [
    {
     "name": "stdout",
     "output_type": "stream",
     "text": [
      "The autoreload extension is already loaded. To reload it, use:\n",
      "  %reload_ext autoreload\n"
     ]
    }
   ],
   "source": [
    "%load_ext autoreload\n",
    "%autoreload 2"
   ]
  },
  {
   "cell_type": "code",
   "execution_count": null,
   "id": "0517fc67-1f6b-4a5b-bd57-6227e38f2fc3",
   "metadata": {},
   "outputs": [],
   "source": [
    "from meteo_imp.kalman.fastai import *\n",
    "from meteo_imp.kalman.filter import *\n",
    "from meteo_imp.utils import *\n",
    "from meteo_imp.data import *\n",
    "\n",
    "from fastai.tabular.learner import *\n",
    "from fastai.learner import *\n",
    "from fastai.callback.all import *\n",
    "import pandas as pd"
   ]
  },
  {
   "cell_type": "code",
   "execution_count": null,
   "id": "d7f48bb9-58ab-4d1a-97d9-b242f6542148",
   "metadata": {},
   "outputs": [],
   "source": [
    "@cache_disk(\"full_hai\")\n",
    "def load_data():\n",
    "    return read_fluxnet_csv(hai_path, None)\n",
    "\n",
    "hai = load_data()"
   ]
  },
  {
   "cell_type": "code",
   "execution_count": null,
   "id": "ab610bb5-6afa-4a00-b2ff-f46309972ad7",
   "metadata": {},
   "outputs": [],
   "source": [
    "model = KalmanFilter(n_dim_state = hai.shape[1], n_dim_obs=hai.shape[1])"
   ]
  },
  {
   "cell_type": "raw",
   "id": "d235b128-a3b9-4956-9d67-0694eec7b921",
   "metadata": {},
   "source": [
    "There are issues with the observation covariance, so it is set to a fixed number which is not going to be trained"
   ]
  },
  {
   "cell_type": "code",
   "execution_count": null,
   "id": "d95613ac-5317-428c-9d27-872b9d13c58e",
   "metadata": {},
   "outputs": [],
   "source": [
    "model._set_constraint('obs_cov', model.obs_cov * 1e-1, train=False)"
   ]
  },
  {
   "cell_type": "code",
   "execution_count": null,
   "id": "532b634f-d6a6-4bbf-9ea9-abc10242e60f",
   "metadata": {},
   "outputs": [
    {
     "data": {
      "text/plain": [
       "tensor([[0.1000, 0.0000, 0.0000],\n",
       "        [0.0000, 0.1000, 0.0000],\n",
       "        [0.0000, 0.0000, 0.1000]])"
      ]
     },
     "execution_count": null,
     "metadata": {},
     "output_type": "execute_result"
    }
   ],
   "source": [
    "model.obs_cov"
   ]
  },
  {
   "cell_type": "code",
   "execution_count": null,
   "id": "ccbbb80f-1e91-4483-b665-2a44c61b94ef",
   "metadata": {},
   "outputs": [],
   "source": [
    "dls = make_dataloader(hai, 200, 10, bs=1) "
   ]
  },
  {
   "cell_type": "code",
   "execution_count": null,
   "id": "a23390a2-d5e0-4e81-ab36-3e5eecf98db6",
   "metadata": {},
   "outputs": [],
   "source": [
    "learn = Learner(dls, model, loss_func=imp_ll_loss, cbs=[ShowGraphCallback, Float64Callback])"
   ]
  },
  {
   "cell_type": "code",
   "execution_count": null,
   "id": "43d6fecb-fbb0-4514-8b98-69bf1e25b6a6",
   "metadata": {},
   "outputs": [
    {
     "ename": "NameError",
     "evalue": "name 'pd' is not defined",
     "output_type": "error",
     "traceback": [
      "\u001b[0;31m---------------------------------------------------------------------------\u001b[0m",
      "\u001b[0;31mNameError\u001b[0m                                 Traceback (most recent call last)",
      "Input \u001b[0;32mIn [40]\u001b[0m, in \u001b[0;36m<cell line: 1>\u001b[0;34m()\u001b[0m\n\u001b[0;32m----> 1\u001b[0m posdef_log \u001b[38;5;241m=\u001b[39m \u001b[43mpd\u001b[49m\u001b[38;5;241m.\u001b[39mDataFrame()\n",
      "\u001b[0;31mNameError\u001b[0m: name 'pd' is not defined"
     ]
    }
   ],
   "source": [
    "posdef_log = pd.DataFrame()"
   ]
  },
  {
   "cell_type": "code",
   "execution_count": null,
   "id": "6a080931-c42f-4ebe-86e6-839872016a4f",
   "metadata": {},
   "outputs": [
    {
     "data": {
      "text/html": [
       "\n",
       "<style>\n",
       "    /* Turns off some styling */\n",
       "    progress {\n",
       "        /* gets rid of default border in Firefox and Opera. */\n",
       "        border: none;\n",
       "        /* Needs to be in here for Safari polyfill so background images work as expected. */\n",
       "        background-size: auto;\n",
       "    }\n",
       "    progress:not([value]), progress:not([value])::-webkit-progress-bar {\n",
       "        background: repeating-linear-gradient(45deg, #7e7e7e, #7e7e7e 10px, #5c5c5c 10px, #5c5c5c 20px);\n",
       "    }\n",
       "    .progress-bar-interrupted, .progress-bar-interrupted::-webkit-progress-bar {\n",
       "        background: #F44336;\n",
       "    }\n",
       "</style>\n"
      ],
      "text/plain": [
       "<IPython.core.display.HTML object>"
      ]
     },
     "metadata": {},
     "output_type": "display_data"
    },
    {
     "data": {
      "text/html": [
       "<table border=\"1\" class=\"dataframe\">\n",
       "  <thead>\n",
       "    <tr style=\"text-align: left;\">\n",
       "      <th>epoch</th>\n",
       "      <th>train_loss</th>\n",
       "      <th>valid_loss</th>\n",
       "      <th>time</th>\n",
       "    </tr>\n",
       "  </thead>\n",
       "  <tbody>\n",
       "    <tr>\n",
       "      <td>0</td>\n",
       "      <td>-1.318466</td>\n",
       "      <td>-2.370626</td>\n",
       "      <td>03:48</td>\n",
       "    </tr>\n",
       "    <tr>\n",
       "      <td>1</td>\n",
       "      <td>-1.984189</td>\n",
       "      <td>-1.397870</td>\n",
       "      <td>03:46</td>\n",
       "    </tr>\n",
       "    <tr>\n",
       "      <td>2</td>\n",
       "      <td>-1.439932</td>\n",
       "      <td>-2.324654</td>\n",
       "      <td>03:46</td>\n",
       "    </tr>\n",
       "    <tr>\n",
       "      <td>3</td>\n",
       "      <td>-1.649974</td>\n",
       "      <td>-2.245165</td>\n",
       "      <td>03:40</td>\n",
       "    </tr>\n",
       "    <tr>\n",
       "      <td>4</td>\n",
       "      <td>-1.592689</td>\n",
       "      <td>-1.785154</td>\n",
       "      <td>03:49</td>\n",
       "    </tr>\n",
       "    <tr>\n",
       "      <td>5</td>\n",
       "      <td>-1.661606</td>\n",
       "      <td>-2.140471</td>\n",
       "      <td>03:47</td>\n",
       "    </tr>\n",
       "    <tr>\n",
       "      <td>6</td>\n",
       "      <td>-2.290826</td>\n",
       "      <td>-2.215880</td>\n",
       "      <td>03:57</td>\n",
       "    </tr>\n",
       "    <tr>\n",
       "      <td>7</td>\n",
       "      <td>-1.956434</td>\n",
       "      <td>-1.944403</td>\n",
       "      <td>04:10</td>\n",
       "    </tr>\n",
       "    <tr>\n",
       "      <td>8</td>\n",
       "      <td>-1.593633</td>\n",
       "      <td>-1.245093</td>\n",
       "      <td>03:52</td>\n",
       "    </tr>\n",
       "    <tr>\n",
       "      <td>9</td>\n",
       "      <td>-1.823518</td>\n",
       "      <td>-1.803867</td>\n",
       "      <td>03:51</td>\n",
       "    </tr>\n",
       "  </tbody>\n",
       "</table>"
      ],
      "text/plain": [
       "<IPython.core.display.HTML object>"
      ]
     },
     "metadata": {},
     "output_type": "display_data"
    }
   ],
   "source": [
    "learn.fit(10, 1e-2)"
   ]
  },
  {
   "cell_type": "code",
   "execution_count": null,
   "id": "7f20345a-e9d3-4412-af3c-9a52a541a6a4",
   "metadata": {},
   "outputs": [
    {
     "data": {
      "image/png": "[encoded data removed]",
      "text/plain": [
       "<Figure size 432x288 with 1 Axes>"
      ]
     },
     "metadata": {
      "needs_background": "light"
     },
     "output_type": "display_data"
    }
   ],
   "source": [
    "learn.recorder.plot_loss()"
   ]
  },
  {
   "cell_type": "code",
   "execution_count": null,
   "id": "3e747c58-39b6-4bbd-8867-f437ee425752",
   "metadata": {},
   "outputs": [],
   "source": [
    "# learn.fit(10, 1e-2)"
   ]
  },
  {
   "cell_type": "code",
   "execution_count": null,
   "id": "3732b923-dea9-4539-9ac2-88b8f391cb37",
   "metadata": {},
   "outputs": [],
   "source": [
    "# learn.recorder.plot_loss()"
   ]
  },
  {
   "cell_type": "code",
   "execution_count": null,
   "id": "fade0f62-d59d-4b9d-a581-d81b43f93c59",
   "metadata": {},
   "outputs": [],
   "source": [
    "trained_state = learn.model.state_dict()"
   ]
  },
  {
   "cell_type": "markdown",
   "id": "b6bc687b-acc9-40f4-92b7-0d55c6b77d4b",
   "metadata": {},
   "source": [
    "## Results"
   ]
  },
  {
   "cell_type": "code",
   "execution_count": null,
   "id": "827c8670-2850-4178-928e-40e7ba56833c",
   "metadata": {},
   "outputs": [],
   "source": [
    "from meteo_imp.data_preparation import MeteoDataTest\n",
    "from meteo_imp.kalman.imputation import KalmanImputation"
   ]
  },
  {
   "cell_type": "code",
   "execution_count": null,
   "id": "856c20be-ee1a-4100-ae60-99d584b2360d",
   "metadata": {},
   "outputs": [],
   "source": [
    "def gap2res(var_sel, gap_len, gap_start, block_start=1000, block_end=1200):\n",
    "    data = MeteoDataTest(hai.iloc[block_start:block_end, :]).add_gap(gap_len, var_sel, gap_start)\n",
    "    imp = KalmanImputation(data.data)\n",
    "    imp.model.filter.load_state_dict(trained_state)\n",
    "    return imp.to_result(data.data_compl_tidy, var_names= data.data.columns, units=units, pred_all=True)"
   ]
  },
  {
   "cell_type": "code",
   "execution_count": null,
   "id": "4d3db4fd-a2f3-4c63-91bf-cddded0ef230",
   "metadata": {},
   "outputs": [],
   "source": [
    "data = MeteoDataTest(hai)"
   ]
  },
  {
   "cell_type": "code",
   "execution_count": null,
   "id": "d9301da1-4832-4023-b853-ae69b4bb32e3",
   "metadata": {},
   "outputs": [],
   "source": [
    "var_sel = data.data.columns"
   ]
  },
  {
   "cell_type": "code",
   "execution_count": null,
   "id": "9707b077-5d8b-46ab-ab1a-cb2386dbd3f1",
   "metadata": {},
   "outputs": [
    {
     "name": "stdout",
     "output_type": "stream",
     "text": [
      "CPU times: user 556 ms, sys: 12.9 ms, total: 569 ms\n",
      "Wall time: 98.1 ms\n"
     ]
    },
    {
     "data": {
      "text/plain": [
       "Imputation Result:\n",
       "        N obs: 200"
      ]
     },
     "execution_count": null,
     "metadata": {},
     "output_type": "execute_result"
    }
   ],
   "source": [
    "%time gap2res(var_sel, 10, 10)"
   ]
  },
  {
   "cell_type": "code",
   "execution_count": null,
   "id": "94154df9-59ba-49b9-b813-73a48d6351df",
   "metadata": {},
   "outputs": [],
   "source": [
    "gaps = [2, 5, 7, 10, 20, 30, 50, 100]\n",
    "gap_starts = [0, 30, 60, 90]"
   ]
  },
  {
   "cell_type": "code",
   "execution_count": null,
   "id": "24d0c344-1c13-4af9-b326-1953d7281c8a",
   "metadata": {},
   "outputs": [],
   "source": [
    "from ipywidgets import interact_manual, IntSlider"
   ]
  },
  {
   "cell_type": "code",
   "execution_count": null,
   "id": "51935ea2-ba33-4c96-82ae-5a2e251d84ea",
   "metadata": {},
   "outputs": [
    {
     "data": {
      "application/vnd.jupyter.widget-view+json": {
       "model_id": "a248e436f1bc4befbdacfcaa39b4649d",
       "version_major": 2,
       "version_minor": 0
      },
      "text/plain": [
       "interactive(children=(Checkbox(value=True, description='TA'), Checkbox(value=True, description='SW_IN'), Check…"
      ]
     },
     "metadata": {},
     "output_type": "display_data"
    }
   ],
   "source": [
    "#| include: false\n",
    "@interact_manual(TA=True,\n",
    "                 SW_IN=True,\n",
    "                 VPD=True,\n",
    "                 gap_len=IntSlider(10, 1,100),\n",
    "                 gap_start=IntSlider(30, 1,100),\n",
    "                 block_start = IntSlider(1000, 0, 20_000, 1000),\n",
    "                 block_len = IntSlider(200, 10, 1000, 10)\n",
    "        )\n",
    "def show_diff_gaps_res(TA, SW_IN, VPD, gap_len, gap_start, block_start, block_len):\n",
    "    var_sel = []\n",
    "    if TA: var_sel.append('TA')\n",
    "    if SW_IN: var_sel.append('SW_IN')\n",
    "    if VPD: var_sel.append('VPD')\n",
    "    var_sel = (*var_sel,)\n",
    "    gap2res(var_sel, gap_len, gap_start, block_start, block_start + block_len).display_results()\n",
    "    "
   ]
  },
  {
   "cell_type": "code",
   "execution_count": null,
   "id": "37c5e203-140a-45bf-b2a8-9935f29ed42b",
   "metadata": {},
   "outputs": [],
   "source": []
  }
 ],
 "metadata": {
  "kernelspec": {
   "display_name": "data_science",
   "language": "python",
   "name": "data_science"
  },
  "widgets": {
   "application/vnd.jupyter.widget-state+json": {
    "state": {},
    "version_major": 2,
    "version_minor": 0
   }
  }
 },
 "nbformat": 4,
 "nbformat_minor": 5
}
