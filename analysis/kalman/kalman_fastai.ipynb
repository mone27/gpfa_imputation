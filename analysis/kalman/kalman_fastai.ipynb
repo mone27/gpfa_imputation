{
 "cells": [
  {
   "cell_type": "code",
   "execution_count": null,
   "id": "457f09cb-c78e-4287-9c73-4faa8f210527",
   "metadata": {},
   "outputs": [],
   "source": [
    "%load_ext autoreload\n",
    "%autoreload 2"
   ]
  },
  {
   "cell_type": "code",
   "execution_count": null,
   "id": "0517fc67-1f6b-4a5b-bd57-6227e38f2fc3",
   "metadata": {},
   "outputs": [],
   "source": [
    "from meteo_imp.kalman.fastai import *\n",
    "from meteo_imp.kalman.filter import *\n",
    "from meteo_imp.utils import *\n",
    "from meteo_imp.data import *\n",
    "\n",
    "from fastai.tabular.learner import *\n",
    "from fastai.learner import *\n",
    "from fastai.callback.all import *\n",
    "import pandas as pd\n",
    "import numpy as np\n",
    "import torch"
   ]
  },
  {
   "cell_type": "code",
   "execution_count": null,
   "id": "d7f48bb9-58ab-4d1a-97d9-b242f6542148",
   "metadata": {},
   "outputs": [],
   "source": [
    "@cache_disk(cache_dir / \"full_hai\")\n",
    "def load_data(dtype=np.float32):\n",
    "    return read_fluxnet_csv(hai_path, None, num_dtype=dtype)\n",
    "\n",
    "hai64 = load_data(np.float64)"
   ]
  },
  {
   "cell_type": "code",
   "execution_count": null,
   "id": "ab610bb5-6afa-4a00-b2ff-f46309972ad7",
   "metadata": {},
   "outputs": [],
   "source": [
    "model = KalmanFilter.init_random(n_dim_state = hai64.shape[1], n_dim_obs=hai64.shape[1], dtype=torch.float64).cuda()"
   ]
  },
  {
   "cell_type": "code",
   "execution_count": null,
   "id": "76855d31-cad0-45f2-8870-c2c2a5b95a92",
   "metadata": {},
   "outputs": [],
   "source": [
    "model.use_smooth = False"
   ]
  },
  {
   "cell_type": "code",
   "execution_count": null,
   "id": "ccbbb80f-1e91-4483-b665-2a44c61b94ef",
   "metadata": {},
   "outputs": [],
   "source": [
    "dls = make_dataloader(hai64[:5*20_000], block_len=200, gap_len=0, bs=100) # about 5 year of data "
   ]
  },
  {
   "cell_type": "code",
   "execution_count": null,
   "id": "c9454461-328f-4691-baae-53fe3e07d2a4",
   "metadata": {},
   "outputs": [
    {
     "data": {
      "text/plain": [
       "(torch.float64, device(type='cuda', index=0))"
      ]
     },
     "execution_count": null,
     "metadata": {},
     "output_type": "execute_result"
    }
   ],
   "source": [
    "dls.one_batch()[0][0].dtype, dls.one_batch()[0][0].device"
   ]
  },
  {
   "cell_type": "code",
   "execution_count": null,
   "id": "a23390a2-d5e0-4e81-ab36-3e5eecf98db6",
   "metadata": {},
   "outputs": [],
   "source": [
    "learn = Learner(dls, model, loss_func=KalmanLoss(only_gap=False), cbs=[Float64Callback])"
   ]
  },
  {
   "cell_type": "code",
   "execution_count": null,
   "id": "6a080931-c42f-4ebe-86e6-839872016a4f",
   "metadata": {},
   "outputs": [
    {
     "data": {
      "text/html": [
       "\n",
       "<style>\n",
       "    /* Turns off some styling */\n",
       "    progress {\n",
       "        /* gets rid of default border in Firefox and Opera. */\n",
       "        border: none;\n",
       "        /* Needs to be in here for Safari polyfill so background images work as expected. */\n",
       "        background-size: auto;\n",
       "    }\n",
       "    progress:not([value]), progress:not([value])::-webkit-progress-bar {\n",
       "        background: repeating-linear-gradient(45deg, #7e7e7e, #7e7e7e 10px, #5c5c5c 10px, #5c5c5c 20px);\n",
       "    }\n",
       "    .progress-bar-interrupted, .progress-bar-interrupted::-webkit-progress-bar {\n",
       "        background: #F44336;\n",
       "    }\n",
       "</style>\n"
      ],
      "text/plain": [
       "<IPython.core.display.HTML object>"
      ]
     },
     "metadata": {},
     "output_type": "display_data"
    },
    {
     "data": {
      "text/html": [
       "<table border=\"1\" class=\"dataframe\">\n",
       "  <thead>\n",
       "    <tr style=\"text-align: left;\">\n",
       "      <th>epoch</th>\n",
       "      <th>train_loss</th>\n",
       "      <th>valid_loss</th>\n",
       "      <th>time</th>\n",
       "    </tr>\n",
       "  </thead>\n",
       "  <tbody>\n",
       "    <tr>\n",
       "      <td>0</td>\n",
       "      <td>-225053.584652</td>\n",
       "      <td>-224369.655319</td>\n",
       "      <td>00:15</td>\n",
       "    </tr>\n",
       "    <tr>\n",
       "      <td>1</td>\n",
       "      <td>-226378.066569</td>\n",
       "      <td>-226848.424885</td>\n",
       "      <td>00:15</td>\n",
       "    </tr>\n",
       "    <tr>\n",
       "      <td>2</td>\n",
       "      <td>-227703.669727</td>\n",
       "      <td>-229206.169680</td>\n",
       "      <td>00:15</td>\n",
       "    </tr>\n",
       "    <tr>\n",
       "      <td>3</td>\n",
       "      <td>-229028.077627</td>\n",
       "      <td>-231511.072567</td>\n",
       "      <td>00:15</td>\n",
       "    </tr>\n",
       "    <tr>\n",
       "      <td>4</td>\n",
       "      <td>-230353.775751</td>\n",
       "      <td>-233714.150492</td>\n",
       "      <td>00:16</td>\n",
       "    </tr>\n",
       "    <tr>\n",
       "      <td>5</td>\n",
       "      <td>-231678.219841</td>\n",
       "      <td>-235869.030137</td>\n",
       "      <td>00:16</td>\n",
       "    </tr>\n",
       "    <tr>\n",
       "      <td>6</td>\n",
       "      <td>-233004.201092</td>\n",
       "      <td>-237945.050335</td>\n",
       "      <td>00:16</td>\n",
       "    </tr>\n",
       "    <tr>\n",
       "      <td>7</td>\n",
       "      <td>-234329.448052</td>\n",
       "      <td>-239972.437530</td>\n",
       "      <td>00:16</td>\n",
       "    </tr>\n",
       "    <tr>\n",
       "      <td>8</td>\n",
       "      <td>-235656.336272</td>\n",
       "      <td>-241947.550967</td>\n",
       "      <td>00:17</td>\n",
       "    </tr>\n",
       "    <tr>\n",
       "      <td>9</td>\n",
       "      <td>-236984.012229</td>\n",
       "      <td>-243874.865120</td>\n",
       "      <td>00:17</td>\n",
       "    </tr>\n",
       "    <tr>\n",
       "      <td>10</td>\n",
       "      <td>-238313.953407</td>\n",
       "      <td>-245774.621782</td>\n",
       "      <td>00:17</td>\n",
       "    </tr>\n",
       "    <tr>\n",
       "      <td>11</td>\n",
       "      <td>-239647.561635</td>\n",
       "      <td>-247642.809545</td>\n",
       "      <td>00:18</td>\n",
       "    </tr>\n",
       "    <tr>\n",
       "      <td>12</td>\n",
       "      <td>-240985.509090</td>\n",
       "      <td>-249481.019790</td>\n",
       "      <td>00:19</td>\n",
       "    </tr>\n",
       "    <tr>\n",
       "      <td>13</td>\n",
       "      <td>-242331.713858</td>\n",
       "      <td>-251374.601315</td>\n",
       "      <td>00:17</td>\n",
       "    </tr>\n",
       "    <tr>\n",
       "      <td>14</td>\n",
       "      <td>-243691.570767</td>\n",
       "      <td>-253283.236259</td>\n",
       "      <td>00:16</td>\n",
       "    </tr>\n",
       "    <tr>\n",
       "      <td>15</td>\n",
       "      <td>-245073.774846</td>\n",
       "      <td>-255283.177277</td>\n",
       "      <td>00:16</td>\n",
       "    </tr>\n",
       "    <tr>\n",
       "      <td>16</td>\n",
       "      <td>-246486.428359</td>\n",
       "      <td>-257439.039631</td>\n",
       "      <td>00:16</td>\n",
       "    </tr>\n",
       "    <tr>\n",
       "      <td>17</td>\n",
       "      <td>-247952.617246</td>\n",
       "      <td>-259862.888659</td>\n",
       "      <td>00:16</td>\n",
       "    </tr>\n",
       "    <tr>\n",
       "      <td>18</td>\n",
       "      <td>-249490.588213</td>\n",
       "      <td>-262671.889695</td>\n",
       "      <td>00:16</td>\n",
       "    </tr>\n",
       "    <tr>\n",
       "      <td>19</td>\n",
       "      <td>-251143.854251</td>\n",
       "      <td>-265901.565354</td>\n",
       "      <td>00:16</td>\n",
       "    </tr>\n",
       "  </tbody>\n",
       "</table>"
      ],
      "text/plain": [
       "<IPython.core.display.HTML object>"
      ]
     },
     "metadata": {},
     "output_type": "display_data"
    }
   ],
   "source": [
    "learn.fit(20, 3e-2)"
   ]
  },
  {
   "cell_type": "code",
   "execution_count": null,
   "id": "7f20345a-e9d3-4412-af3c-9a52a541a6a4",
   "metadata": {},
   "outputs": [
    {
     "data": {
      "image/png": "[encoded data removed]",
      "text/plain": [
       "<Figure size 432x288 with 1 Axes>"
      ]
     },
     "metadata": {
      "needs_background": "light"
     },
     "output_type": "display_data"
    }
   ],
   "source": [
    "learn.recorder.plot_loss()"
   ]
  },
  {
   "cell_type": "code",
   "execution_count": null,
   "id": "3e747c58-39b6-4bbd-8867-f437ee425752",
   "metadata": {},
   "outputs": [],
   "source": [
    "# learn.fit(10, 1e-2)"
   ]
  },
  {
   "cell_type": "code",
   "execution_count": null,
   "id": "3732b923-dea9-4539-9ac2-88b8f391cb37",
   "metadata": {},
   "outputs": [],
   "source": [
    "# learn.recorder.plot_loss()"
   ]
  },
  {
   "cell_type": "code",
   "execution_count": null,
   "id": "fade0f62-d59d-4b9d-a581-d81b43f93c59",
   "metadata": {},
   "outputs": [],
   "source": [
    "trained_state = learn.model.state_dict()"
   ]
  },
  {
   "cell_type": "code",
   "execution_count": null,
   "id": "689d0c5c-b92a-4054-9bc2-6625a7028560",
   "metadata": {},
   "outputs": [
    {
     "data": {
      "text/html": [
       "<p style='font-size: 1.5rem; font-decoration: bold'><p><div style=\"display: flex; column-gap: 20px; flex-wrap: wrap;\" class='table table-striped table-sm'> <div> <p style='font-size: 1.3rem;'>trans_matrix (A)</p> <style type=\"text/css\">\n",
       "</style>\n",
       "<table id=\"T_c474a\">\n",
       "  <thead>\n",
       "    <tr>\n",
       "      <th id=\"T_c474a_level0_col0\" class=\"col_heading level0 col0\" >latent</th>\n",
       "      <th id=\"T_c474a_level0_col1\" class=\"col_heading level0 col1\" >z_0</th>\n",
       "      <th id=\"T_c474a_level0_col2\" class=\"col_heading level0 col2\" >z_1</th>\n",
       "      <th id=\"T_c474a_level0_col3\" class=\"col_heading level0 col3\" >z_2</th>\n",
       "    </tr>\n",
       "  </thead>\n",
       "  <tbody>\n",
       "    <tr>\n",
       "      <td id=\"T_c474a_row0_col0\" class=\"data row0 col0\" >z_0</td>\n",
       "      <td id=\"T_c474a_row0_col1\" class=\"data row0 col1\" >5.5385</td>\n",
       "      <td id=\"T_c474a_row0_col2\" class=\"data row0 col2\" >-3.3482</td>\n",
       "      <td id=\"T_c474a_row0_col3\" class=\"data row0 col3\" >-4.1599</td>\n",
       "    </tr>\n",
       "    <tr>\n",
       "      <td id=\"T_c474a_row1_col0\" class=\"data row1 col0\" >z_1</td>\n",
       "      <td id=\"T_c474a_row1_col1\" class=\"data row1 col1\" >4.9782</td>\n",
       "      <td id=\"T_c474a_row1_col2\" class=\"data row1 col2\" >4.9041</td>\n",
       "      <td id=\"T_c474a_row1_col3\" class=\"data row1 col3\" >6.4252</td>\n",
       "    </tr>\n",
       "    <tr>\n",
       "      <td id=\"T_c474a_row2_col0\" class=\"data row2 col0\" >z_2</td>\n",
       "      <td id=\"T_c474a_row2_col1\" class=\"data row2 col1\" >6.0757</td>\n",
       "      <td id=\"T_c474a_row2_col2\" class=\"data row2 col2\" >4.1344</td>\n",
       "      <td id=\"T_c474a_row2_col3\" class=\"data row2 col3\" >5.5035</td>\n",
       "    </tr>\n",
       "  </tbody>\n",
       "</table>\n",
       " </div><div> <p style='font-size: 1.3rem;'>trans_cov (Q)</p> <style type=\"text/css\">\n",
       "</style>\n",
       "<table id=\"T_175f0\">\n",
       "  <thead>\n",
       "    <tr>\n",
       "      <th id=\"T_175f0_level0_col0\" class=\"col_heading level0 col0\" >latent</th>\n",
       "      <th id=\"T_175f0_level0_col1\" class=\"col_heading level0 col1\" >z_0</th>\n",
       "      <th id=\"T_175f0_level0_col2\" class=\"col_heading level0 col2\" >z_1</th>\n",
       "      <th id=\"T_175f0_level0_col3\" class=\"col_heading level0 col3\" >z_2</th>\n",
       "    </tr>\n",
       "  </thead>\n",
       "  <tbody>\n",
       "    <tr>\n",
       "      <td id=\"T_175f0_row0_col0\" class=\"data row0 col0\" >z_0</td>\n",
       "      <td id=\"T_175f0_row0_col1\" class=\"data row0 col1\" >38.7449</td>\n",
       "      <td id=\"T_175f0_row0_col2\" class=\"data row0 col2\" >-10.9932</td>\n",
       "      <td id=\"T_175f0_row0_col3\" class=\"data row0 col3\" >-34.6266</td>\n",
       "    </tr>\n",
       "    <tr>\n",
       "      <td id=\"T_175f0_row1_col0\" class=\"data row1 col0\" >z_1</td>\n",
       "      <td id=\"T_175f0_row1_col1\" class=\"data row1 col1\" >-10.9932</td>\n",
       "      <td id=\"T_175f0_row1_col2\" class=\"data row1 col2\" >39.4746</td>\n",
       "      <td id=\"T_175f0_row1_col3\" class=\"data row1 col3\" >22.8066</td>\n",
       "    </tr>\n",
       "    <tr>\n",
       "      <td id=\"T_175f0_row2_col0\" class=\"data row2 col0\" >z_2</td>\n",
       "      <td id=\"T_175f0_row2_col1\" class=\"data row2 col1\" >-34.6266</td>\n",
       "      <td id=\"T_175f0_row2_col2\" class=\"data row2 col2\" >22.8066</td>\n",
       "      <td id=\"T_175f0_row2_col3\" class=\"data row2 col3\" >35.6566</td>\n",
       "    </tr>\n",
       "  </tbody>\n",
       "</table>\n",
       " </div><div> <p style='font-size: 1.3rem;'>trans_off</p> <style type=\"text/css\">\n",
       "</style>\n",
       "<table id=\"T_c9a4b\">\n",
       "  <thead>\n",
       "    <tr>\n",
       "      <th id=\"T_c9a4b_level0_col0\" class=\"col_heading level0 col0\" >latent</th>\n",
       "      <th id=\"T_c9a4b_level0_col1\" class=\"col_heading level0 col1\" >offset</th>\n",
       "    </tr>\n",
       "  </thead>\n",
       "  <tbody>\n",
       "    <tr>\n",
       "      <td id=\"T_c9a4b_row0_col0\" class=\"data row0 col0\" >z_0</td>\n",
       "      <td id=\"T_c9a4b_row0_col1\" class=\"data row0 col1\" >0.8865</td>\n",
       "    </tr>\n",
       "    <tr>\n",
       "      <td id=\"T_c9a4b_row1_col0\" class=\"data row1 col0\" >z_1</td>\n",
       "      <td id=\"T_c9a4b_row1_col1\" class=\"data row1 col1\" >0.2750</td>\n",
       "    </tr>\n",
       "    <tr>\n",
       "      <td id=\"T_c9a4b_row2_col0\" class=\"data row2 col0\" >z_2</td>\n",
       "      <td id=\"T_c9a4b_row2_col1\" class=\"data row2 col1\" >0.0141</td>\n",
       "    </tr>\n",
       "  </tbody>\n",
       "</table>\n",
       " </div><div> <p style='font-size: 1.3rem;'>obs_matrix (H)</p> <style type=\"text/css\">\n",
       "</style>\n",
       "<table id=\"T_4471b\">\n",
       "  <thead>\n",
       "    <tr>\n",
       "      <th id=\"T_4471b_level0_col0\" class=\"col_heading level0 col0\" >variable</th>\n",
       "      <th id=\"T_4471b_level0_col1\" class=\"col_heading level0 col1\" >z_0</th>\n",
       "      <th id=\"T_4471b_level0_col2\" class=\"col_heading level0 col2\" >z_1</th>\n",
       "      <th id=\"T_4471b_level0_col3\" class=\"col_heading level0 col3\" >z_2</th>\n",
       "    </tr>\n",
       "  </thead>\n",
       "  <tbody>\n",
       "    <tr>\n",
       "      <td id=\"T_4471b_row0_col0\" class=\"data row0 col0\" >x_0</td>\n",
       "      <td id=\"T_4471b_row0_col1\" class=\"data row0 col1\" >0.0448</td>\n",
       "      <td id=\"T_4471b_row0_col2\" class=\"data row0 col2\" >4.8592</td>\n",
       "      <td id=\"T_4471b_row0_col3\" class=\"data row0 col3\" >3.4855</td>\n",
       "    </tr>\n",
       "    <tr>\n",
       "      <td id=\"T_4471b_row1_col0\" class=\"data row1 col0\" >x_1</td>\n",
       "      <td id=\"T_4471b_row1_col1\" class=\"data row1 col1\" >0.0821</td>\n",
       "      <td id=\"T_4471b_row1_col2\" class=\"data row1 col2\" >5.2823</td>\n",
       "      <td id=\"T_4471b_row1_col3\" class=\"data row1 col3\" >3.3851</td>\n",
       "    </tr>\n",
       "    <tr>\n",
       "      <td id=\"T_4471b_row2_col0\" class=\"data row2 col0\" >x_2</td>\n",
       "      <td id=\"T_4471b_row2_col1\" class=\"data row2 col1\" >0.0303</td>\n",
       "      <td id=\"T_4471b_row2_col2\" class=\"data row2 col2\" >4.3883</td>\n",
       "      <td id=\"T_4471b_row2_col3\" class=\"data row2 col3\" >3.1903</td>\n",
       "    </tr>\n",
       "  </tbody>\n",
       "</table>\n",
       " </div><div> <p style='font-size: 1.3rem;'>obs_cov (R)</p> <style type=\"text/css\">\n",
       "</style>\n",
       "<table id=\"T_2b7bf\">\n",
       "  <thead>\n",
       "    <tr>\n",
       "      <th id=\"T_2b7bf_level0_col0\" class=\"col_heading level0 col0\" >variable</th>\n",
       "      <th id=\"T_2b7bf_level0_col1\" class=\"col_heading level0 col1\" >x_0</th>\n",
       "      <th id=\"T_2b7bf_level0_col2\" class=\"col_heading level0 col2\" >x_1</th>\n",
       "      <th id=\"T_2b7bf_level0_col3\" class=\"col_heading level0 col3\" >x_2</th>\n",
       "    </tr>\n",
       "  </thead>\n",
       "  <tbody>\n",
       "    <tr>\n",
       "      <td id=\"T_2b7bf_row0_col0\" class=\"data row0 col0\" >x_0</td>\n",
       "      <td id=\"T_2b7bf_row0_col1\" class=\"data row0 col1\" >85.2943</td>\n",
       "      <td id=\"T_2b7bf_row0_col2\" class=\"data row0 col2\" >74.6632</td>\n",
       "      <td id=\"T_2b7bf_row0_col3\" class=\"data row0 col3\" >76.3583</td>\n",
       "    </tr>\n",
       "    <tr>\n",
       "      <td id=\"T_2b7bf_row1_col0\" class=\"data row1 col0\" >x_1</td>\n",
       "      <td id=\"T_2b7bf_row1_col1\" class=\"data row1 col1\" >74.6632</td>\n",
       "      <td id=\"T_2b7bf_row1_col2\" class=\"data row1 col2\" >67.6865</td>\n",
       "      <td id=\"T_2b7bf_row1_col3\" class=\"data row1 col3\" >69.7599</td>\n",
       "    </tr>\n",
       "    <tr>\n",
       "      <td id=\"T_2b7bf_row2_col0\" class=\"data row2 col0\" >x_2</td>\n",
       "      <td id=\"T_2b7bf_row2_col1\" class=\"data row2 col1\" >76.3583</td>\n",
       "      <td id=\"T_2b7bf_row2_col2\" class=\"data row2 col2\" >69.7599</td>\n",
       "      <td id=\"T_2b7bf_row2_col3\" class=\"data row2 col3\" >72.7296</td>\n",
       "    </tr>\n",
       "  </tbody>\n",
       "</table>\n",
       " </div><div> <p style='font-size: 1.3rem;'>obs_off</p> <style type=\"text/css\">\n",
       "</style>\n",
       "<table id=\"T_8de5f\">\n",
       "  <thead>\n",
       "    <tr>\n",
       "      <th id=\"T_8de5f_level0_col0\" class=\"col_heading level0 col0\" >variable</th>\n",
       "      <th id=\"T_8de5f_level0_col1\" class=\"col_heading level0 col1\" >offset</th>\n",
       "    </tr>\n",
       "  </thead>\n",
       "  <tbody>\n",
       "    <tr>\n",
       "      <td id=\"T_8de5f_row0_col0\" class=\"data row0 col0\" >x_0</td>\n",
       "      <td id=\"T_8de5f_row0_col1\" class=\"data row0 col1\" >0.7359</td>\n",
       "    </tr>\n",
       "    <tr>\n",
       "      <td id=\"T_8de5f_row1_col0\" class=\"data row1 col0\" >x_1</td>\n",
       "      <td id=\"T_8de5f_row1_col1\" class=\"data row1 col1\" >0.7437</td>\n",
       "    </tr>\n",
       "    <tr>\n",
       "      <td id=\"T_8de5f_row2_col0\" class=\"data row2 col0\" >x_2</td>\n",
       "      <td id=\"T_8de5f_row2_col1\" class=\"data row2 col1\" >0.6696</td>\n",
       "    </tr>\n",
       "  </tbody>\n",
       "</table>\n",
       " </div><div> <p style='font-size: 1.3rem;'>init_state_mean</p> <style type=\"text/css\">\n",
       "</style>\n",
       "<table id=\"T_eb23e\">\n",
       "  <thead>\n",
       "    <tr>\n",
       "      <th id=\"T_eb23e_level0_col0\" class=\"col_heading level0 col0\" >latent</th>\n",
       "      <th id=\"T_eb23e_level0_col1\" class=\"col_heading level0 col1\" >mean</th>\n",
       "    </tr>\n",
       "  </thead>\n",
       "  <tbody>\n",
       "    <tr>\n",
       "      <td id=\"T_eb23e_row0_col0\" class=\"data row0 col0\" >z_0</td>\n",
       "      <td id=\"T_eb23e_row0_col1\" class=\"data row0 col1\" >0.5519</td>\n",
       "    </tr>\n",
       "    <tr>\n",
       "      <td id=\"T_eb23e_row1_col0\" class=\"data row1 col0\" >z_1</td>\n",
       "      <td id=\"T_eb23e_row1_col1\" class=\"data row1 col1\" >0.5608</td>\n",
       "    </tr>\n",
       "    <tr>\n",
       "      <td id=\"T_eb23e_row2_col0\" class=\"data row2 col0\" >z_2</td>\n",
       "      <td id=\"T_eb23e_row2_col1\" class=\"data row2 col1\" >0.3713</td>\n",
       "    </tr>\n",
       "  </tbody>\n",
       "</table>\n",
       " </div><div> <p style='font-size: 1.3rem;'>init_state_cov</p> <style type=\"text/css\">\n",
       "</style>\n",
       "<table id=\"T_c8af1\">\n",
       "  <thead>\n",
       "    <tr>\n",
       "      <th id=\"T_c8af1_level0_col0\" class=\"col_heading level0 col0\" >latent</th>\n",
       "      <th id=\"T_c8af1_level0_col1\" class=\"col_heading level0 col1\" >z_0</th>\n",
       "      <th id=\"T_c8af1_level0_col2\" class=\"col_heading level0 col2\" >z_1</th>\n",
       "      <th id=\"T_c8af1_level0_col3\" class=\"col_heading level0 col3\" >z_2</th>\n",
       "    </tr>\n",
       "  </thead>\n",
       "  <tbody>\n",
       "    <tr>\n",
       "      <td id=\"T_c8af1_row0_col0\" class=\"data row0 col0\" >z_0</td>\n",
       "      <td id=\"T_c8af1_row0_col1\" class=\"data row0 col1\" >75.1762</td>\n",
       "      <td id=\"T_c8af1_row0_col2\" class=\"data row0 col2\" >15.6402</td>\n",
       "      <td id=\"T_c8af1_row0_col3\" class=\"data row0 col3\" >27.9046</td>\n",
       "    </tr>\n",
       "    <tr>\n",
       "      <td id=\"T_c8af1_row1_col0\" class=\"data row1 col0\" >z_1</td>\n",
       "      <td id=\"T_c8af1_row1_col1\" class=\"data row1 col1\" >15.6402</td>\n",
       "      <td id=\"T_c8af1_row1_col2\" class=\"data row1 col2\" >65.5686</td>\n",
       "      <td id=\"T_c8af1_row1_col3\" class=\"data row1 col3\" >62.6581</td>\n",
       "    </tr>\n",
       "    <tr>\n",
       "      <td id=\"T_c8af1_row2_col0\" class=\"data row2 col0\" >z_2</td>\n",
       "      <td id=\"T_c8af1_row2_col1\" class=\"data row2 col1\" >27.9046</td>\n",
       "      <td id=\"T_c8af1_row2_col2\" class=\"data row2 col2\" >62.6581</td>\n",
       "      <td id=\"T_c8af1_row2_col3\" class=\"data row2 col3\" >77.5453</td>\n",
       "    </tr>\n",
       "  </tbody>\n",
       "</table>\n",
       " </div></div>"
      ],
      "text/plain": [
       "<IPython.core.display.HTML object>"
      ]
     },
     "metadata": {},
     "output_type": "display_data"
    }
   ],
   "source": [
    "display_as_row(learn.model.get_info())"
   ]
  },
  {
   "cell_type": "code",
   "execution_count": null,
   "id": "8c1c0d57-d4ae-4559-9cc2-897560804107",
   "metadata": {},
   "outputs": [
    {
     "data": {
      "text/plain": [
       "NormalizeMasked -- {'mean': tensor([  8.4696, 122.5591,   3.3335], dtype=torch.float64), 'std': tensor([  7.8949, 204.6408,   4.4542], dtype=torch.float64)}:\n",
       "encodes: (MaskedTensor,object) -> encodes\n",
       "(object,object) -> encodes\n",
       "decodes: (NormalsParams,object) -> decodes"
      ]
     },
     "execution_count": null,
     "metadata": {},
     "output_type": "execute_result"
    }
   ],
   "source": [
    "dls.fs[0][-1]"
   ]
  },
  {
   "cell_type": "code",
   "execution_count": null,
   "id": "9ef40717-86e7-4651-8482-168ebcf2364c",
   "metadata": {},
   "outputs": [],
   "source": [
    "# torch.save(learn.model, \"trained_filter_29_dec_1.pickle\")"
   ]
  },
  {
   "cell_type": "markdown",
   "id": "b6bc687b-acc9-40f4-92b7-0d55c6b77d4b",
   "metadata": {},
   "source": [
    "## Results"
   ]
  },
  {
   "cell_type": "code",
   "execution_count": null,
   "id": "827c8670-2850-4178-928e-40e7ba56833c",
   "metadata": {},
   "outputs": [],
   "source": [
    "from meteo_imp.data_preparation import MeteoDataTest\n",
    "from meteo_imp.kalman.imputation import KalmanImputation"
   ]
  },
  {
   "cell_type": "code",
   "execution_count": null,
   "id": "856c20be-ee1a-4100-ae60-99d584b2360d",
   "metadata": {},
   "outputs": [],
   "source": [
    "def gap2res(var_sel, gap_len, gap_start, block_start=1000, block_end=1200):\n",
    "    data = MeteoDataTest(hai64.iloc[block_start:block_end, :]).add_gap(gap_len, var_sel, gap_start)\n",
    "    imp = KalmanImputation(data.data)\n",
    "    print(imp.scaler.x_mean, imp.scaler.x_std)\n",
    "    imp.model.filter = learn.model.cpu()\n",
    "    return imp.to_result(data.data_compl_tidy, var_names= data.data.columns, units=units, pred_all=True)"
   ]
  },
  {
   "cell_type": "code",
   "execution_count": null,
   "id": "4d3db4fd-a2f3-4c63-91bf-cddded0ef230",
   "metadata": {},
   "outputs": [],
   "source": [
    "data = MeteoDataTest(hai64)"
   ]
  },
  {
   "cell_type": "code",
   "execution_count": null,
   "id": "d9301da1-4832-4023-b853-ae69b4bb32e3",
   "metadata": {},
   "outputs": [],
   "source": [
    "var_sel = data.data.columns\n",
    "imp = KalmanImputation(data.data)"
   ]
  },
  {
   "cell_type": "code",
   "execution_count": null,
   "id": "07581e2e-26be-4327-82a1-a7ed7355fdca",
   "metadata": {},
   "outputs": [
    {
     "data": {
      "text/plain": [
       "tensor([  7.9246, 204.0026,   4.3684], dtype=torch.float64)"
      ]
     },
     "execution_count": null,
     "metadata": {},
     "output_type": "execute_result"
    }
   ],
   "source": [
    "imp.scaler.x_std"
   ]
  },
  {
   "cell_type": "code",
   "execution_count": null,
   "id": "88122fc2-c3cd-4de4-ba27-360416712d62",
   "metadata": {},
   "outputs": [
    {
     "data": {
      "text/plain": [
       "torch.float32"
      ]
     },
     "execution_count": null,
     "metadata": {},
     "output_type": "execute_result"
    }
   ],
   "source": [
    "imp.model.filter.trans_cov.dtype"
   ]
  },
  {
   "cell_type": "code",
   "execution_count": null,
   "id": "9707b077-5d8b-46ab-ab1a-cb2386dbd3f1",
   "metadata": {},
   "outputs": [
    {
     "name": "stdout",
     "output_type": "stream",
     "text": [
      "tensor([-5.9442, 37.5272,  0.3039], dtype=torch.float64) tensor([ 3.5376, 74.6820,  0.4623], dtype=torch.float64)\n"
     ]
    },
    {
     "ename": "IndexError",
     "evalue": "The shape of the mask [1] at index 0 does not match the shape of the indexed tensor [200, 3, 1] at index 0",
     "output_type": "error",
     "traceback": [
      "\u001b[0;31m---------------------------------------------------------------------------\u001b[0m",
      "\u001b[0;31mIndexError\u001b[0m                                Traceback (most recent call last)",
      "File \u001b[0;32m<timed eval>:1\u001b[0m, in \u001b[0;36m<module>\u001b[0;34m\u001b[0m\n",
      "Input \u001b[0;32mIn [87]\u001b[0m, in \u001b[0;36mgap2res\u001b[0;34m(var_sel, gap_len, gap_start, block_start, block_end)\u001b[0m\n\u001b[1;32m      4\u001b[0m \u001b[38;5;28mprint\u001b[39m(imp\u001b[38;5;241m.\u001b[39mscaler\u001b[38;5;241m.\u001b[39mx_mean, imp\u001b[38;5;241m.\u001b[39mscaler\u001b[38;5;241m.\u001b[39mx_std)\n\u001b[1;32m      5\u001b[0m imp\u001b[38;5;241m.\u001b[39mmodel\u001b[38;5;241m.\u001b[39mfilter \u001b[38;5;241m=\u001b[39m learn\u001b[38;5;241m.\u001b[39mmodel\u001b[38;5;241m.\u001b[39mcpu()\n\u001b[0;32m----> 6\u001b[0m \u001b[38;5;28;01mreturn\u001b[39;00m \u001b[43mimp\u001b[49m\u001b[38;5;241;43m.\u001b[39;49m\u001b[43mto_result\u001b[49m\u001b[43m(\u001b[49m\u001b[43mdata\u001b[49m\u001b[38;5;241;43m.\u001b[39;49m\u001b[43mdata_compl_tidy\u001b[49m\u001b[43m,\u001b[49m\u001b[43m \u001b[49m\u001b[43mvar_names\u001b[49m\u001b[38;5;241;43m=\u001b[39;49m\u001b[43m \u001b[49m\u001b[43mdata\u001b[49m\u001b[38;5;241;43m.\u001b[39;49m\u001b[43mdata\u001b[49m\u001b[38;5;241;43m.\u001b[39;49m\u001b[43mcolumns\u001b[49m\u001b[43m,\u001b[49m\u001b[43m \u001b[49m\u001b[43munits\u001b[49m\u001b[38;5;241;43m=\u001b[39;49m\u001b[43munits\u001b[49m\u001b[43m,\u001b[49m\u001b[43m \u001b[49m\u001b[43mpred_all\u001b[49m\u001b[38;5;241;43m=\u001b[39;49m\u001b[38;5;28;43;01mTrue\u001b[39;49;00m\u001b[43m)\u001b[49m\n",
      "File \u001b[0;32m~/Documents/uni/Thesis/GPFA_imputation/meteo_imp/kalman/imputation.py:74\u001b[0m, in \u001b[0;36mto_result\u001b[0;34m(self, data_compl, var_names, units, pred_all)\u001b[0m\n\u001b[1;32m     72\u001b[0m \u001b[38;5;129m@patch\u001b[39m\n\u001b[1;32m     73\u001b[0m \u001b[38;5;28;01mdef\u001b[39;00m \u001b[38;5;21mto_result\u001b[39m(\u001b[38;5;28mself\u001b[39m: KalmanImputation, data_compl, var_names\u001b[38;5;241m=\u001b[39m\u001b[38;5;28;01mNone\u001b[39;00m, units\u001b[38;5;241m=\u001b[39m\u001b[38;5;28;01mNone\u001b[39;00m, pred_all\u001b[38;5;241m=\u001b[39m\u001b[38;5;28;01mFalse\u001b[39;00m):\n\u001b[0;32m---> 74\u001b[0m     \u001b[38;5;28;01mreturn\u001b[39;00m ImputationResult(\u001b[38;5;28;43mself\u001b[39;49m\u001b[38;5;241;43m.\u001b[39;49m\u001b[43mimpute\u001b[49m\u001b[43m(\u001b[49m\u001b[43mpred_all\u001b[49m\u001b[43m)\u001b[49m, data_compl, \u001b[38;5;28mself\u001b[39m\u001b[38;5;241m.\u001b[39mmodel\u001b[38;5;241m.\u001b[39mfilter\u001b[38;5;241m.\u001b[39mget_info(var_names), units)\n",
      "File \u001b[0;32m~/Documents/uni/Thesis/GPFA_imputation/meteo_imp/kalman/imputation.py:54\u001b[0m, in \u001b[0;36mKalmanImputation.impute\u001b[0;34m(self, pred_all)\u001b[0m\n\u001b[1;32m     51\u001b[0m     time_mask \u001b[38;5;241m=\u001b[39m \u001b[38;5;28mself\u001b[39m\u001b[38;5;241m.\u001b[39mT[\u001b[38;5;241m~\u001b[39m\u001b[38;5;28mself\u001b[39m\u001b[38;5;241m.\u001b[39mtrain_idx]\n\u001b[1;32m     52\u001b[0m     data_mask \u001b[38;5;241m=\u001b[39m \u001b[38;5;241m~\u001b[39m\u001b[38;5;28mself\u001b[39m\u001b[38;5;241m.\u001b[39mtrain_idx\n\u001b[0;32m---> 54\u001b[0m pred \u001b[38;5;241m=\u001b[39m \u001b[38;5;28;43mself\u001b[39;49m\u001b[38;5;241;43m.\u001b[39;49m\u001b[43mmodel\u001b[49m\u001b[38;5;241;43m.\u001b[39;49m\u001b[43mpredict\u001b[49m\u001b[43m(\u001b[49m\u001b[43mtime_mask\u001b[49m\u001b[43m)\u001b[49m\n\u001b[1;32m     56\u001b[0m imp_mean \u001b[38;5;241m=\u001b[39m \u001b[38;5;28mself\u001b[39m\u001b[38;5;241m.\u001b[39mdata\u001b[38;5;241m.\u001b[39mcopy()\n\u001b[1;32m     57\u001b[0m mean \u001b[38;5;241m=\u001b[39m \u001b[38;5;28mself\u001b[39m\u001b[38;5;241m.\u001b[39mscaler\u001b[38;5;241m.\u001b[39minverse_transform(pred\u001b[38;5;241m.\u001b[39mmean)\n",
      "File \u001b[0;32m~/anaconda3/envs/data-science/lib/python3.10/site-packages/torch/autograd/grad_mode.py:27\u001b[0m, in \u001b[0;36m_DecoratorContextManager.__call__.<locals>.decorate_context\u001b[0;34m(*args, **kwargs)\u001b[0m\n\u001b[1;32m     24\u001b[0m \u001b[38;5;129m@functools\u001b[39m\u001b[38;5;241m.\u001b[39mwraps(func)\n\u001b[1;32m     25\u001b[0m \u001b[38;5;28;01mdef\u001b[39;00m \u001b[38;5;21mdecorate_context\u001b[39m(\u001b[38;5;241m*\u001b[39margs, \u001b[38;5;241m*\u001b[39m\u001b[38;5;241m*\u001b[39mkwargs):\n\u001b[1;32m     26\u001b[0m     \u001b[38;5;28;01mwith\u001b[39;00m \u001b[38;5;28mself\u001b[39m\u001b[38;5;241m.\u001b[39mclone():\n\u001b[0;32m---> 27\u001b[0m         \u001b[38;5;28;01mreturn\u001b[39;00m \u001b[43mfunc\u001b[49m\u001b[43m(\u001b[49m\u001b[38;5;241;43m*\u001b[39;49m\u001b[43margs\u001b[49m\u001b[43m,\u001b[49m\u001b[43m \u001b[49m\u001b[38;5;241;43m*\u001b[39;49m\u001b[38;5;241;43m*\u001b[39;49m\u001b[43mkwargs\u001b[49m\u001b[43m)\u001b[49m\n",
      "File \u001b[0;32m~/Documents/uni/Thesis/GPFA_imputation/meteo_imp/kalman/model.py:85\u001b[0m, in \u001b[0;36mKalmanModel.predict\u001b[0;34m(self, t)\u001b[0m\n\u001b[1;32m     83\u001b[0m \u001b[38;5;129m@torch\u001b[39m\u001b[38;5;241m.\u001b[39mno_grad()\n\u001b[1;32m     84\u001b[0m \u001b[38;5;28;01mdef\u001b[39;00m \u001b[38;5;21mpredict\u001b[39m(\u001b[38;5;28mself\u001b[39m, t):\n\u001b[0;32m---> 85\u001b[0m     \u001b[38;5;28;01mreturn\u001b[39;00m \u001b[38;5;28;43mself\u001b[39;49m\u001b[38;5;241;43m.\u001b[39;49m\u001b[43mfilter\u001b[49m\u001b[38;5;241;43m.\u001b[39;49m\u001b[43mpredict\u001b[49m\u001b[43m(\u001b[49m\u001b[38;5;28;43mself\u001b[39;49m\u001b[38;5;241;43m.\u001b[39;49m\u001b[43mdata\u001b[49m\u001b[43m,\u001b[49m\u001b[43m \u001b[49m\u001b[43mt\u001b[49m\u001b[43m)\u001b[49m\u001b[38;5;241m.\u001b[39mdetach()\n",
      "File \u001b[0;32m~/Documents/uni/Thesis/GPFA_imputation/meteo_imp/kalman/filter.py:329\u001b[0m, in \u001b[0;36mpredict\u001b[0;34m(self, obs, mask, smooth)\u001b[0m\n\u001b[1;32m    326\u001b[0m \u001b[38;5;129m@patch\u001b[39m\n\u001b[1;32m    327\u001b[0m \u001b[38;5;28;01mdef\u001b[39;00m \u001b[38;5;21mpredict\u001b[39m(\u001b[38;5;28mself\u001b[39m: KalmanFilter, obs, mask\u001b[38;5;241m=\u001b[39m\u001b[38;5;28;01mNone\u001b[39;00m, smooth\u001b[38;5;241m=\u001b[39m\u001b[38;5;28;01mTrue\u001b[39;00m):\n\u001b[1;32m    328\u001b[0m     \u001b[38;5;124;03m\"\"\"Predicted observations at all times \"\"\"\u001b[39;00m\n\u001b[0;32m--> 329\u001b[0m     state \u001b[38;5;241m=\u001b[39m \u001b[38;5;28;43mself\u001b[39;49m\u001b[38;5;241;43m.\u001b[39;49m\u001b[43msmooth\u001b[49m\u001b[43m(\u001b[49m\u001b[43mobs\u001b[49m\u001b[43m,\u001b[49m\u001b[43m \u001b[49m\u001b[43mmask\u001b[49m\u001b[43m)\u001b[49m \u001b[38;5;28;01mif\u001b[39;00m smooth \u001b[38;5;28;01melse\u001b[39;00m \u001b[38;5;28mself\u001b[39m\u001b[38;5;241m.\u001b[39mfilter(obs, mask)\n\u001b[1;32m    330\u001b[0m     obs, mask \u001b[38;5;241m=\u001b[39m \u001b[38;5;28mself\u001b[39m\u001b[38;5;241m.\u001b[39m_parse_obs(obs, mask)\n\u001b[1;32m    332\u001b[0m     pred_obs \u001b[38;5;241m=\u001b[39m \u001b[38;5;28mself\u001b[39m\u001b[38;5;241m.\u001b[39m_obs_from_state(state)\n",
      "File \u001b[0;32m~/Documents/uni/Thesis/GPFA_imputation/meteo_imp/kalman/filter.py:306\u001b[0m, in \u001b[0;36msmooth\u001b[0;34m(self, obs, mask)\u001b[0m\n\u001b[1;32m    298\u001b[0m \u001b[38;5;129m@patch\u001b[39m\n\u001b[1;32m    299\u001b[0m \u001b[38;5;28;01mdef\u001b[39;00m \u001b[38;5;21msmooth\u001b[39m(\u001b[38;5;28mself\u001b[39m: KalmanFilter,\n\u001b[1;32m    300\u001b[0m            obs: Tensor,\n\u001b[1;32m    301\u001b[0m            mask: Tensor \u001b[38;5;241m=\u001b[39m \u001b[38;5;28;01mNone\u001b[39;00m,\n\u001b[1;32m    302\u001b[0m           ) \u001b[38;5;241m-\u001b[39m\u001b[38;5;241m>\u001b[39m ListMNormal: \u001b[38;5;66;03m# `[n_timesteps, n_dim_state]` smoothed state\u001b[39;00m\n\u001b[1;32m    304\u001b[0m     \u001b[38;5;124;03m\"\"\"Kalman Filter Smoothing\"\"\"\u001b[39;00m\n\u001b[0;32m--> 306\u001b[0m     (pred_state_means, pred_state_covs, filt_state_means, filt_state_covs) \u001b[38;5;241m=\u001b[39m \u001b[38;5;28;43mself\u001b[39;49m\u001b[38;5;241;43m.\u001b[39;49m\u001b[43m_filter_all\u001b[49m\u001b[43m(\u001b[49m\u001b[43mobs\u001b[49m\u001b[43m,\u001b[49m\u001b[43m \u001b[49m\u001b[43mmask\u001b[49m\u001b[43m)\u001b[49m\n\u001b[1;32m    308\u001b[0m     smoothed_state \u001b[38;5;241m=\u001b[39m _smooth(\u001b[38;5;28mself\u001b[39m\u001b[38;5;241m.\u001b[39mtrans_matrix,\n\u001b[1;32m    309\u001b[0m                    ListMNormal(filt_state_means, filt_state_covs), ListMNormal(pred_state_means, pred_state_covs),\n\u001b[1;32m    310\u001b[0m                    \u001b[38;5;28mself\u001b[39m\u001b[38;5;241m.\u001b[39mcov_checker)\n\u001b[1;32m    311\u001b[0m     smoothed_state\u001b[38;5;241m.\u001b[39mmean\u001b[38;5;241m.\u001b[39msqueeze_(\u001b[38;5;241m-\u001b[39m\u001b[38;5;241m1\u001b[39m)\n",
      "File \u001b[0;32m~/Documents/uni/Thesis/GPFA_imputation/meteo_imp/kalman/filter.py:232\u001b[0m, in \u001b[0;36m_filter_all\u001b[0;34m(self, obs, mask)\u001b[0m\n\u001b[1;32m    230\u001b[0m \u001b[38;5;124;03m\"\"\" wrapper around `_filter`\"\"\"\u001b[39;00m\n\u001b[1;32m    231\u001b[0m obs, mask \u001b[38;5;241m=\u001b[39m \u001b[38;5;28mself\u001b[39m\u001b[38;5;241m.\u001b[39m_parse_obs(obs, mask)\n\u001b[0;32m--> 232\u001b[0m \u001b[38;5;28;01mreturn\u001b[39;00m \u001b[43m_filter\u001b[49m\u001b[43m(\u001b[49m\n\u001b[1;32m    233\u001b[0m \u001b[43m        \u001b[49m\u001b[38;5;28;43mself\u001b[39;49m\u001b[38;5;241;43m.\u001b[39;49m\u001b[43mtrans_matrix\u001b[49m\u001b[43m,\u001b[49m\u001b[43m \u001b[49m\u001b[38;5;28;43mself\u001b[39;49m\u001b[38;5;241;43m.\u001b[39;49m\u001b[43mobs_matrix\u001b[49m\u001b[43m,\u001b[49m\n\u001b[1;32m    234\u001b[0m \u001b[43m        \u001b[49m\u001b[38;5;28;43mself\u001b[39;49m\u001b[38;5;241;43m.\u001b[39;49m\u001b[43mtrans_cov\u001b[49m\u001b[43m,\u001b[49m\u001b[43m \u001b[49m\u001b[38;5;28;43mself\u001b[39;49m\u001b[38;5;241;43m.\u001b[39;49m\u001b[43mobs_cov\u001b[49m\u001b[43m,\u001b[49m\n\u001b[1;32m    235\u001b[0m \u001b[43m        \u001b[49m\u001b[38;5;28;43mself\u001b[39;49m\u001b[38;5;241;43m.\u001b[39;49m\u001b[43mtrans_off\u001b[49m\u001b[43m,\u001b[49m\u001b[43m \u001b[49m\u001b[38;5;28;43mself\u001b[39;49m\u001b[38;5;241;43m.\u001b[39;49m\u001b[43mobs_off\u001b[49m\u001b[43m,\u001b[49m\n\u001b[1;32m    236\u001b[0m \u001b[43m        \u001b[49m\u001b[38;5;28;43mself\u001b[39;49m\u001b[38;5;241;43m.\u001b[39;49m\u001b[43minit_state_mean\u001b[49m\u001b[43m,\u001b[49m\u001b[43m \u001b[49m\u001b[38;5;28;43mself\u001b[39;49m\u001b[38;5;241;43m.\u001b[39;49m\u001b[43minit_state_cov\u001b[49m\u001b[43m,\u001b[49m\n\u001b[1;32m    237\u001b[0m \u001b[43m        \u001b[49m\u001b[43mobs\u001b[49m\u001b[43m,\u001b[49m\u001b[43m \u001b[49m\u001b[43mmask\u001b[49m\u001b[43m,\u001b[49m\n\u001b[1;32m    238\u001b[0m \u001b[43m        \u001b[49m\u001b[38;5;28;43mself\u001b[39;49m\u001b[38;5;241;43m.\u001b[39;49m\u001b[43mcov_checker\u001b[49m\n\u001b[1;32m    239\u001b[0m \u001b[43m    \u001b[49m\u001b[43m)\u001b[49m\n",
      "File \u001b[0;32m~/Documents/uni/Thesis/GPFA_imputation/meteo_imp/kalman/filter.py:218\u001b[0m, in \u001b[0;36m_filter\u001b[0;34m(trans_matrix, obs_matrix, trans_cov, obs_cov, trans_off, obs_off, init_state_mean, init_state_cov, obs, mask, cov_checker)\u001b[0m\n\u001b[1;32m    213\u001b[0m     \u001b[38;5;28;01melse\u001b[39;00m:\n\u001b[1;32m    214\u001b[0m         pred_state_means[t], pred_state_covs[t] \u001b[38;5;241m=\u001b[39m _filter_predict(trans_matrix, trans_cov, trans_off,\n\u001b[1;32m    215\u001b[0m                                                                   filt_state_means[t \u001b[38;5;241m-\u001b[39m \u001b[38;5;241m1\u001b[39m], filt_state_covs[t \u001b[38;5;241m-\u001b[39m \u001b[38;5;241m1\u001b[39m],\n\u001b[1;32m    216\u001b[0m                                                                   cov_checker\u001b[38;5;241m.\u001b[39madd_args(t\u001b[38;5;241m=\u001b[39mt))\n\u001b[0;32m--> 218\u001b[0m     _, filt_state_means[t], filt_state_covs[t] \u001b[38;5;241m=\u001b[39m \u001b[43m_filter_correct\u001b[49m\u001b[43m(\u001b[49m\u001b[43mobs_matrix\u001b[49m\u001b[43m,\u001b[49m\u001b[43m \u001b[49m\u001b[43mobs_cov\u001b[49m\u001b[43m,\u001b[49m\u001b[43m \u001b[49m\u001b[43mobs_off\u001b[49m\u001b[43m,\u001b[49m\n\u001b[1;32m    219\u001b[0m \u001b[43m                                                                 \u001b[49m\u001b[43mpred_state_means\u001b[49m\u001b[43m[\u001b[49m\u001b[43mt\u001b[49m\u001b[43m]\u001b[49m\u001b[43m,\u001b[49m\u001b[43m \u001b[49m\u001b[43mpred_state_covs\u001b[49m\u001b[43m[\u001b[49m\u001b[43mt\u001b[49m\u001b[43m]\u001b[49m\u001b[43m,\u001b[49m\n\u001b[1;32m    220\u001b[0m \u001b[43m                                                                 \u001b[49m\u001b[43mobs\u001b[49m\u001b[43m[\u001b[49m\u001b[43m:\u001b[49m\u001b[43m,\u001b[49m\u001b[43mt\u001b[49m\u001b[43m,\u001b[49m\u001b[43m:\u001b[49m\u001b[43m]\u001b[49m\u001b[43m,\u001b[49m\u001b[43m \u001b[49m\u001b[43mmask\u001b[49m\u001b[43m[\u001b[49m\u001b[43m:\u001b[49m\u001b[43m,\u001b[49m\u001b[43mt\u001b[49m\u001b[43m,\u001b[49m\u001b[43m:\u001b[49m\u001b[43m]\u001b[49m\u001b[43m,\u001b[49m\n\u001b[1;32m    221\u001b[0m \u001b[43m                                                                 \u001b[49m\u001b[43mcov_checker\u001b[49m\u001b[38;5;241;43m.\u001b[39;49m\u001b[43madd_args\u001b[49m\u001b[43m(\u001b[49m\u001b[43mt\u001b[49m\u001b[38;5;241;43m=\u001b[39;49m\u001b[43mt\u001b[49m\u001b[43m)\u001b[49m\u001b[43m)\u001b[49m\n\u001b[1;32m    223\u001b[0m ret \u001b[38;5;241m=\u001b[39m \u001b[38;5;28mlist\u001b[39m(maps(torch\u001b[38;5;241m.\u001b[39mstack, _times2batch, (pred_state_means, pred_state_covs, filt_state_means, filt_state_covs,)))\n\u001b[1;32m    224\u001b[0m \u001b[38;5;28;01mreturn\u001b[39;00m ret\n",
      "File \u001b[0;32m~/Documents/uni/Thesis/GPFA_imputation/meteo_imp/kalman/filter.py:185\u001b[0m, in \u001b[0;36m_filter_correct\u001b[0;34m(obs_matrix, obs_cov, obs_off, pred_state_mean, pred_state_cov, obs, mask, cov_checker)\u001b[0m\n\u001b[1;32m    182\u001b[0m corr_state_cov \u001b[38;5;241m=\u001b[39m pred_state_cov \u001b[38;5;241m-\u001b[39m kalman_gain \u001b[38;5;241m@\u001b[39m obs_matrix \u001b[38;5;241m@\u001b[39m pred_state_cov\n\u001b[1;32m    184\u001b[0m mask \u001b[38;5;241m=\u001b[39m mask\u001b[38;5;241m.\u001b[39mall(\u001b[38;5;241m-\u001b[39m\u001b[38;5;241m1\u001b[39m) \u001b[38;5;66;03m# if any observation is missing need to discard the whole vector\u001b[39;00m\n\u001b[0;32m--> 185\u001b[0m corr_state_mean[\u001b[38;5;241m~\u001b[39mmask] \u001b[38;5;241m=\u001b[39m \u001b[43mpred_state_mean\u001b[49m\u001b[43m[\u001b[49m\u001b[38;5;241;43m~\u001b[39;49m\u001b[43mmask\u001b[49m\u001b[43m]\u001b[49m\n\u001b[1;32m    186\u001b[0m corr_state_cov[\u001b[38;5;241m~\u001b[39mmask] \u001b[38;5;241m=\u001b[39m pred_state_cov[\u001b[38;5;241m~\u001b[39mmask]\n\u001b[1;32m    188\u001b[0m cov_checker\u001b[38;5;241m.\u001b[39mcheck(pred_state_cov, caller\u001b[38;5;241m=\u001b[39m\u001b[38;5;124m'\u001b[39m\u001b[38;5;124mfilter_correct\u001b[39m\u001b[38;5;124m'\u001b[39m)\n",
      "\u001b[0;31mIndexError\u001b[0m: The shape of the mask [1] at index 0 does not match the shape of the indexed tensor [200, 3, 1] at index 0"
     ]
    }
   ],
   "source": [
    "%time gap2res(var_sel, 10, 10)"
   ]
  },
  {
   "cell_type": "code",
   "execution_count": null,
   "id": "94154df9-59ba-49b9-b813-73a48d6351df",
   "metadata": {},
   "outputs": [],
   "source": [
    "gaps = [2, 5, 7, 10, 20, 30, 50, 100]\n",
    "gap_starts = [0, 30, 60, 90]"
   ]
  },
  {
   "cell_type": "code",
   "execution_count": null,
   "id": "24d0c344-1c13-4af9-b326-1953d7281c8a",
   "metadata": {},
   "outputs": [],
   "source": [
    "from ipywidgets import interact_manual, IntSlider"
   ]
  },
  {
   "cell_type": "code",
   "execution_count": null,
   "id": "51935ea2-ba33-4c96-82ae-5a2e251d84ea",
   "metadata": {},
   "outputs": [
    {
     "data": {
      "application/vnd.jupyter.widget-view+json": {
       "model_id": "a248e436f1bc4befbdacfcaa39b4649d",
       "version_major": 2,
       "version_minor": 0
      },
      "text/plain": [
       "interactive(children=(Checkbox(value=True, description='TA'), Checkbox(value=True, description='SW_IN'), Check…"
      ]
     },
     "metadata": {},
     "output_type": "display_data"
    }
   ],
   "source": [
    "#| include: false\n",
    "@interact_manual(TA=True,\n",
    "                 SW_IN=True,\n",
    "                 VPD=True,\n",
    "                 gap_len=IntSlider(10, 1,100),\n",
    "                 gap_start=IntSlider(30, 1,100),\n",
    "                 block_start = IntSlider(1000, 0, 20_000, 1000),\n",
    "                 block_len = IntSlider(200, 10, 1000, 10)\n",
    "        )\n",
    "def show_diff_gaps_res(TA, SW_IN, VPD, gap_len, gap_start, block_start, block_len):\n",
    "    var_sel = []\n",
    "    if TA: var_sel.append('TA')\n",
    "    if SW_IN: var_sel.append('SW_IN')\n",
    "    if VPD: var_sel.append('VPD')\n",
    "    var_sel = (*var_sel,)\n",
    "    gap2res(var_sel, gap_len, gap_start, block_start, block_start + block_len).display_results()\n",
    "    "
   ]
  },
  {
   "cell_type": "code",
   "execution_count": null,
   "id": "37c5e203-140a-45bf-b2a8-9935f29ed42b",
   "metadata": {},
   "outputs": [],
   "source": []
  }
 ],
 "metadata": {
  "kernelspec": {
   "display_name": "data_science",
   "language": "python",
   "name": "data_science"
  },
  "widgets": {
   "application/vnd.jupyter.widget-state+json": {
    "state": {},
    "version_major": 2,
    "version_minor": 0
   }
  }
 },
 "nbformat": 4,
 "nbformat_minor": 5
}
