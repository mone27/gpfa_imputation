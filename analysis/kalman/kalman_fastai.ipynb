{
 "cells": [
  {
   "cell_type": "code",
   "execution_count": null,
   "id": "457f09cb-c78e-4287-9c73-4faa8f210527",
   "metadata": {},
   "outputs": [
    {
     "name": "stdout",
     "output_type": "stream",
     "text": [
      "The autoreload extension is already loaded. To reload it, use:\n",
      "  %reload_ext autoreload\n"
     ]
    }
   ],
   "source": [
    "%load_ext autoreload\n",
    "%autoreload 2"
   ]
  },
  {
   "cell_type": "code",
   "execution_count": null,
   "id": "0517fc67-1f6b-4a5b-bd57-6227e38f2fc3",
   "metadata": {},
   "outputs": [],
   "source": [
    "from meteo_imp.kalman.fastai import *\n",
    "from meteo_imp.kalman.filter import *\n",
    "from meteo_imp.utils import *\n",
    "from meteo_imp.data import *\n",
    "\n",
    "from fastai.tabular.learner import *\n",
    "from fastai.learner import *\n",
    "from fastai.callback.all import *\n",
    "import pandas as pd"
   ]
  },
  {
   "cell_type": "code",
   "execution_count": null,
   "id": "d7f48bb9-58ab-4d1a-97d9-b242f6542148",
   "metadata": {},
   "outputs": [],
   "source": [
    "@cache_disk(\"full_hai\")\n",
    "def load_data():\n",
    "    return read_fluxnet_csv(hai_path, None)\n",
    "\n",
    "hai = load_data()"
   ]
  },
  {
   "cell_type": "code",
   "execution_count": null,
   "id": "ab610bb5-6afa-4a00-b2ff-f46309972ad7",
   "metadata": {},
   "outputs": [],
   "source": [
    "model = KalmanFilter(n_dim_state = hai.shape[1], n_dim_obs=hai.shape[1])"
   ]
  },
  {
   "cell_type": "raw",
   "id": "d235b128-a3b9-4956-9d67-0694eec7b921",
   "metadata": {},
   "source": [
    "There are issues with the observation covariance, so it is set to a fixed number which is not going to be trained"
   ]
  },
  {
   "cell_type": "code",
   "execution_count": null,
   "id": "d95613ac-5317-428c-9d27-872b9d13c58e",
   "metadata": {},
   "outputs": [],
   "source": [
    "model._set_constraint('obs_cov', model.obs_cov * 1e-1, train=False)"
   ]
  },
  {
   "cell_type": "code",
   "execution_count": null,
   "id": "532b634f-d6a6-4bbf-9ea9-abc10242e60f",
   "metadata": {},
   "outputs": [
    {
     "data": {
      "text/plain": [
       "tensor([[0.1000, 0.0000, 0.0000],\n",
       "        [0.0000, 0.1000, 0.0000],\n",
       "        [0.0000, 0.0000, 0.1000]])"
      ]
     },
     "execution_count": null,
     "metadata": {},
     "output_type": "execute_result"
    }
   ],
   "source": [
    "model.obs_cov"
   ]
  },
  {
   "cell_type": "code",
   "execution_count": null,
   "id": "ccbbb80f-1e91-4483-b665-2a44c61b94ef",
   "metadata": {},
   "outputs": [],
   "source": [
    "dls = make_dataloader(hai, 200, 10, bs=1) "
   ]
  },
  {
   "cell_type": "code",
   "execution_count": null,
   "id": "a23390a2-d5e0-4e81-ab36-3e5eecf98db6",
   "metadata": {},
   "outputs": [],
   "source": [
    "learn = Learner(dls, model, loss_func=imp_ll_loss, cbs=[ShowGraphCallback, Float64Callback])"
   ]
  },
  {
   "cell_type": "code",
   "execution_count": null,
   "id": "43d6fecb-fbb0-4514-8b98-69bf1e25b6a6",
   "metadata": {},
   "outputs": [
    {
     "ename": "NameError",
     "evalue": "name 'pd' is not defined",
     "output_type": "error",
     "traceback": [
      "\u001b[0;31m---------------------------------------------------------------------------\u001b[0m",
      "\u001b[0;31mNameError\u001b[0m                                 Traceback (most recent call last)",
      "Input \u001b[0;32mIn [40]\u001b[0m, in \u001b[0;36m<cell line: 1>\u001b[0;34m()\u001b[0m\n\u001b[0;32m----> 1\u001b[0m posdef_log \u001b[38;5;241m=\u001b[39m \u001b[43mpd\u001b[49m\u001b[38;5;241m.\u001b[39mDataFrame()\n",
      "\u001b[0;31mNameError\u001b[0m: name 'pd' is not defined"
     ]
    }
   ],
   "source": [
    "posdef_log = pd.DataFrame()"
   ]
  },
  {
   "cell_type": "code",
   "execution_count": null,
   "id": "6a080931-c42f-4ebe-86e6-839872016a4f",
   "metadata": {},
   "outputs": [
    {
     "data": {
      "text/html": [
       "\n",
       "<style>\n",
       "    /* Turns off some styling */\n",
       "    progress {\n",
       "        /* gets rid of default border in Firefox and Opera. */\n",
       "        border: none;\n",
       "        /* Needs to be in here for Safari polyfill so background images work as expected. */\n",
       "        background-size: auto;\n",
       "    }\n",
       "    progress:not([value]), progress:not([value])::-webkit-progress-bar {\n",
       "        background: repeating-linear-gradient(45deg, #7e7e7e, #7e7e7e 10px, #5c5c5c 10px, #5c5c5c 20px);\n",
       "    }\n",
       "    .progress-bar-interrupted, .progress-bar-interrupted::-webkit-progress-bar {\n",
       "        background: #F44336;\n",
       "    }\n",
       "</style>\n"
      ],
      "text/plain": [
       "<IPython.core.display.HTML object>"
      ]
     },
     "metadata": {},
     "output_type": "display_data"
    },
    {
     "data": {
      "text/html": [
       "<table border=\"1\" class=\"dataframe\">\n",
       "  <thead>\n",
       "    <tr style=\"text-align: left;\">\n",
       "      <th>epoch</th>\n",
       "      <th>train_loss</th>\n",
       "      <th>valid_loss</th>\n",
       "      <th>time</th>\n",
       "    </tr>\n",
       "  </thead>\n",
       "  <tbody>\n",
       "    <tr>\n",
       "      <td>0</td>\n",
       "      <td>-1.318466</td>\n",
       "      <td>-2.370626</td>\n",
       "      <td>03:48</td>\n",
       "    </tr>\n",
       "    <tr>\n",
       "      <td>1</td>\n",
       "      <td>-1.984189</td>\n",
       "      <td>-1.397870</td>\n",
       "      <td>03:46</td>\n",
       "    </tr>\n",
       "    <tr>\n",
       "      <td>2</td>\n",
       "      <td>-1.439932</td>\n",
       "      <td>-2.324654</td>\n",
       "      <td>03:46</td>\n",
       "    </tr>\n",
       "    <tr>\n",
       "      <td>3</td>\n",
       "      <td>-1.649974</td>\n",
       "      <td>-2.245165</td>\n",
       "      <td>03:40</td>\n",
       "    </tr>\n",
       "    <tr>\n",
       "      <td>4</td>\n",
       "      <td>-1.592689</td>\n",
       "      <td>-1.785154</td>\n",
       "      <td>03:49</td>\n",
       "    </tr>\n",
       "    <tr>\n",
       "      <td>5</td>\n",
       "      <td>-1.661606</td>\n",
       "      <td>-2.140471</td>\n",
       "      <td>03:47</td>\n",
       "    </tr>\n",
       "    <tr>\n",
       "      <td>6</td>\n",
       "      <td>-2.290826</td>\n",
       "      <td>-2.215880</td>\n",
       "      <td>03:57</td>\n",
       "    </tr>\n",
       "    <tr>\n",
       "      <td>7</td>\n",
       "      <td>-1.956434</td>\n",
       "      <td>-1.944403</td>\n",
       "      <td>04:10</td>\n",
       "    </tr>\n",
       "    <tr>\n",
       "      <td>8</td>\n",
       "      <td>-1.593633</td>\n",
       "      <td>-1.245093</td>\n",
       "      <td>03:52</td>\n",
       "    </tr>\n",
       "    <tr>\n",
       "      <td>9</td>\n",
       "      <td>-1.823518</td>\n",
       "      <td>-1.803867</td>\n",
       "      <td>03:51</td>\n",
       "    </tr>\n",
       "  </tbody>\n",
       "</table>"
      ],
      "text/plain": [
       "<IPython.core.display.HTML object>"
      ]
     },
     "metadata": {},
     "output_type": "display_data"
    }
   ],
   "source": [
    "learn.fit(10, 1e-2)"
   ]
  },
  {
   "cell_type": "code",
   "execution_count": null,
   "id": "7f20345a-e9d3-4412-af3c-9a52a541a6a4",
   "metadata": {},
   "outputs": [
    {
     "data": {
      "image/png": "[encoded data removed]",
      "text/plain": [
       "<Figure size 432x288 with 1 Axes>"
      ]
     },
     "metadata": {
      "needs_background": "light"
     },
     "output_type": "display_data"
    }
   ],
   "source": [
    "learn.recorder.plot_loss()"
   ]
  },
  {
   "cell_type": "code",
   "execution_count": null,
   "id": "3e747c58-39b6-4bbd-8867-f437ee425752",
   "metadata": {},
   "outputs": [],
   "source": [
    "# learn.fit(10, 1e-2)"
   ]
  },
  {
   "cell_type": "code",
   "execution_count": null,
   "id": "3732b923-dea9-4539-9ac2-88b8f391cb37",
   "metadata": {},
   "outputs": [],
   "source": [
    "# learn.recorder.plot_loss()"
   ]
  },
  {
   "cell_type": "code",
   "execution_count": null,
   "id": "fade0f62-d59d-4b9d-a581-d81b43f93c59",
   "metadata": {},
   "outputs": [],
   "source": [
    "trained_state = learn.model.state_dict()"
   ]
  },
  {
   "cell_type": "markdown",
   "id": "b6bc687b-acc9-40f4-92b7-0d55c6b77d4b",
   "metadata": {},
   "source": [
    "## Results"
   ]
  },
  {
   "cell_type": "code",
   "execution_count": null,
   "id": "827c8670-2850-4178-928e-40e7ba56833c",
   "metadata": {},
   "outputs": [],
   "source": [
    "from meteo_imp.data_preparation import MeteoDataTest\n",
    "from meteo_imp.kalman.imputation import KalmanImputation"
   ]
  },
  {
   "cell_type": "code",
   "execution_count": null,
   "id": "856c20be-ee1a-4100-ae60-99d584b2360d",
   "metadata": {},
   "outputs": [],
   "source": [
    "def gap2res(var_sel, gap_len, gap_start, block_start=1000, block_end=1200):\n",
    "    data = MeteoDataTest(hai.iloc[block_start:block_end, :]).add_gap(gap_len, var_sel, gap_start)\n",
    "    imp = KalmanImputation(data.data)\n",
    "    imp.model.filter.load_state_dict(trained_state)\n",
    "    return imp.to_result(data.data_compl_tidy, var_names= data.data.columns, units=units, pred_all=True)"
   ]
  },
  {
   "cell_type": "code",
   "execution_count": null,
   "id": "4d3db4fd-a2f3-4c63-91bf-cddded0ef230",
   "metadata": {},
   "outputs": [],
   "source": [
    "data = MeteoDataTest(hai)"
   ]
  },
  {
   "cell_type": "code",
   "execution_count": null,
   "id": "d9301da1-4832-4023-b853-ae69b4bb32e3",
   "metadata": {},
   "outputs": [],
   "source": [
    "var_sel = data.data.columns"
   ]
  },
  {
   "cell_type": "code",
   "execution_count": null,
   "id": "9707b077-5d8b-46ab-ab1a-cb2386dbd3f1",
   "metadata": {},
   "outputs": [
    {
     "name": "stdout",
     "output_type": "stream",
     "text": [
      "CPU times: user 556 ms, sys: 12.9 ms, total: 569 ms\n",
      "Wall time: 98.1 ms\n"
     ]
    },
    {
     "data": {
      "text/plain": [
       "Imputation Result:\n",
       "        N obs: 200"
      ]
     },
     "execution_count": null,
     "metadata": {},
     "output_type": "execute_result"
    }
   ],
   "source": [
    "%time gap2res(var_sel, 10, 10)"
   ]
  },
  {
   "cell_type": "code",
   "execution_count": null,
   "id": "94154df9-59ba-49b9-b813-73a48d6351df",
   "metadata": {},
   "outputs": [],
   "source": [
    "gaps = [2, 5, 7, 10, 20, 30, 50, 100]\n",
    "gap_starts = [0, 30, 60, 90]"
   ]
  },
  {
   "cell_type": "code",
   "execution_count": null,
   "id": "24d0c344-1c13-4af9-b326-1953d7281c8a",
   "metadata": {},
   "outputs": [],
   "source": [
    "from ipywidgets import interact_manual, IntSlider"
   ]
  },
  {
   "cell_type": "code",
   "execution_count": null,
   "id": "51935ea2-ba33-4c96-82ae-5a2e251d84ea",
   "metadata": {},
   "outputs": [
    {
     "data": {
      "application/vnd.jupyter.widget-view+json": {
       "model_id": "a248e436f1bc4befbdacfcaa39b4649d",
       "version_major": 2,
       "version_minor": 0
      },
      "text/plain": [
       "interactive(children=(Checkbox(value=True, description='TA'), Checkbox(value=True, description='SW_IN'), Check…"
      ]
     },
     "metadata": {},
     "output_type": "display_data"
    }
   ],
   "source": [
    "#| include: false\n",
    "@interact_manual(TA=True,\n",
    "                 SW_IN=True,\n",
    "                 VPD=True,\n",
    "                 gap_len=IntSlider(10, 1,100),\n",
    "                 gap_start=IntSlider(30, 1,100),\n",
    "                 block_start = IntSlider(1000, 0, 20_000, 1000),\n",
    "                 block_len = IntSlider(200, 10, 1000, 10)\n",
    "        )\n",
    "def show_diff_gaps_res(TA, SW_IN, VPD, gap_len, gap_start, block_start, block_len):\n",
    "    var_sel = []\n",
    "    if TA: var_sel.append('TA')\n",
    "    if SW_IN: var_sel.append('SW_IN')\n",
    "    if VPD: var_sel.append('VPD')\n",
    "    var_sel = (*var_sel,)\n",
    "    gap2res(var_sel, gap_len, gap_start, block_start, block_start + block_len).display_results()\n",
    "    "
   ]
  },
  {
   "cell_type": "code",
   "execution_count": null,
   "id": "37c5e203-140a-45bf-b2a8-9935f29ed42b",
   "metadata": {},
   "outputs": [],
   "source": []
  }
 ],
 "metadata": {
  "kernelspec": {
   "display_name": "data_science",
   "language": "python",
   "name": "data_science"
  },
  "widgets": {
   "application/vnd.jupyter.widget-state+json": {
    "state": {
     "038ae5e54b5943f6875e44223588946f": {
      "model_module": "@jupyter-widgets/controls",
      "model_module_version": "2.0.0",
      "model_name": "IntSliderModel",
      "state": {
       "behavior": "drag-tap",
       "description": "gap_len",
       "layout": "IPY_MODEL_30fe9947bf3a4bd896fe93b29092727c",
       "min": 1,
       "style": "IPY_MODEL_d80a496b34fb4236ba4e1d90a58fe3c0",
       "value": 22
      }
     },
     "080646ba3aeb48bd945b04ee43bc7278": {
      "model_module": "@jupyter-widgets/controls",
      "model_module_version": "2.0.0",
      "model_name": "CheckboxStyleModel",
      "state": {
       "description_width": ""
      }
     },
     "0c90b66773174f54b91b2cda20d57768": {
      "model_module": "@jupyter-widgets/controls",
      "model_module_version": "2.0.0",
      "model_name": "CheckboxStyleModel",
      "state": {
       "description_width": ""
      }
     },
     "10afe4972dc740819d0d5ed29c6855eb": {
      "model_module": "@jupyter-widgets/controls",
      "model_module_version": "2.0.0",
      "model_name": "SliderStyleModel",
      "state": {
       "description_width": ""
      }
     },
     "1954acac80de462e9af07bd14dcd78bb": {
      "model_module": "@jupyter-widgets/controls",
      "model_module_version": "2.0.0",
      "model_name": "SliderStyleModel",
      "state": {
       "description_width": ""
      }
     },
     "1c92397cfda840bab1761d4f3f012b20": {
      "model_module": "@jupyter-widgets/output",
      "model_module_version": "1.0.0",
      "model_name": "OutputModel",
      "state": {
       "layout": "IPY_MODEL_7a7564e7793747d28c853eca7b7f712b",
       "outputs": [
        {
         "name": "stderr",
         "output_type": "stream",
         "text": "/home/simone/.local/lib/python3.10/site-packages/altair/utils/core.py:317: FutureWarning: iteritems is deprecated and will be removed in a future version. Use .items instead.\n  for col_name, dtype in df.dtypes.iteritems():\n"
        },
        {
         "data": {
          "text/html": "\n<div id=\"altair-viz-e226747a3a094fc8aefcc6053ad7a259\"></div>\n<script type=\"text/javascript\">\n  var VEGA_DEBUG = (typeof VEGA_DEBUG == \"undefined\") ? {} : VEGA_DEBUG;\n  (function(spec, embedOpt){\n    let outputDiv = document.currentScript.previousElementSibling;\n    if (outputDiv.id !== \"altair-viz-e226747a3a094fc8aefcc6053ad7a259\") {\n      outputDiv = document.getElementById(\"altair-viz-e226747a3a094fc8aefcc6053ad7a259\");\n    }\n    const paths = {\n      \"vega\": \"https://cdn.jsdelivr.net/npm//vega@5?noext\",\n      \"vega-lib\": \"https://cdn.jsdelivr.net/npm//vega-lib?noext\",\n      \"vega-lite\": \"https://cdn.jsdelivr.net/npm//vega-lite@4.17.0?noext\",\n      \"vega-embed\": \"https://cdn.jsdelivr.net/npm//vega-embed@6?noext\",\n    };\n\n    function maybeLoadScript(lib, version) {\n      var key = `${lib.replace(\"-\", \"\")}_version`;\n      return (VEGA_DEBUG[key] == version) ?\n        Promise.resolve(paths[lib]) :\n        new Promise(function(resolve, reject) {\n          var s = document.createElement('script');\n          document.getElementsByTagName(\"head\")[0].appendChild(s);\n          s.async = true;\n          s.onload = () => {\n            VEGA_DEBUG[key] = version;\n            return resolve(paths[lib]);\n          };\n          s.onerror = () => reject(`Error loading script: ${paths[lib]}`);\n          s.src = paths[lib];\n        });\n    }\n\n    function showError(err) {\n      outputDiv.innerHTML = `<div class=\"error\" style=\"color:red;\">${err}</div>`;\n      throw err;\n    }\n\n    function displayChart(vegaEmbed) {\n      vegaEmbed(outputDiv, spec, embedOpt)\n        .catch(err => showError(`Javascript Error: ${err.message}<br>This usually means there's a typo in your chart specification. See the javascript console for the full traceback.`));\n    }\n\n    if(typeof define === \"function\" && define.amd) {\n      requirejs.config({paths});\n      require([\"vega-embed\"], displayChart, err => showError(`Error loading script: ${err.message}`));\n    } else {\n      maybeLoadScript(\"vega\", \"5\")\n        .then(() => maybeLoadScript(\"vega-lite\", \"4.17.0\"))\n        .then(() => maybeLoadScript(\"vega-embed\", \"6\"))\n        .catch(showError)\n        .then(() => displayChart(vegaEmbed));\n    }\n  })({\"config\": {\"view\": {\"continuousWidth\": 400, \"continuousHeight\": 300}}, \"vconcat\": [{\"hconcat\": [{\"vconcat\": [{\"layer\": [{\"data\": {\"name\": \"data-26fdc8c53a8f8380daa1deb0dc85b564\"}, \"mark\": {\"type\": \"point\", \"color\": \"black\", \"fillOpacity\": 1, \"strokeWidth\": 1}, \"encoding\": {\"fill\": {\"field\": \"is_missing\", \"legend\": {\"title\": [\"Observed data\", \"(is missing)\"]}, \"scale\": {\"range\": [\"#ffffff00\", \"black\"]}, \"type\": \"nominal\"}, \"shape\": {\"field\": \"is_missing\", \"type\": \"nominal\"}, \"x\": {\"axis\": {\"domain\": false, \"labels\": false, \"ticks\": false, \"title\": null}, \"field\": \"time\", \"type\": \"quantitative\"}, \"y\": {\"field\": \"value\", \"scale\": {\"zero\": false}, \"title\": \"TA [\\u00b0C]\", \"type\": \"quantitative\"}}}, {\"layer\": [{\"mark\": \"errorband\", \"encoding\": {\"color\": {\"field\": \"variable\", \"legend\": {\"title\": [\"Line: pred. mean\", \"area: +/- 2 std\", \"(variable)\"]}, \"type\": \"nominal\"}, \"tooltip\": [{\"field\": \"std\", \"format\": \".4\", \"type\": \"quantitative\"}, {\"field\": \"mean\", \"format\": \".4\", \"type\": \"quantitative\"}], \"x\": {\"field\": \"time\", \"type\": \"quantitative\"}, \"y\": {\"field\": \"err_low\", \"scale\": {\"zero\": false}, \"title\": \"TA [\\u00b0C]\", \"type\": \"quantitative\"}, \"y2\": {\"field\": \"err_high\"}}, \"height\": 200, \"transform\": [{\"calculate\": \"datum.mean - 2 * datum.std\", \"as\": \"err_low\"}, {\"calculate\": \"datum.mean + 2 * datum.std\", \"as\": \"err_high\"}], \"width\": 350}, {\"mark\": \"line\", \"encoding\": {\"color\": {\"field\": \"variable\", \"type\": \"nominal\"}, \"x\": {\"field\": \"time\", \"type\": \"quantitative\"}, \"y\": {\"field\": \"mean\", \"scale\": {\"zero\": false}, \"title\": \"TA [\\u00b0C]\", \"type\": \"quantitative\"}}, \"selection\": {\"selector005\": {\"type\": \"interval\", \"bind\": \"scales\", \"encodings\": [\"x\"]}}, \"title\": \"TA\"}], \"data\": {\"name\": \"data-dc4555848591947f8964c5d09c28e178\"}}]}, {\"data\": {\"name\": \"data-26fdc8c53a8f8380daa1deb0dc85b564\"}, \"mark\": {\"type\": \"tick\", \"color\": \"black\"}, \"encoding\": {\"color\": {\"condition\": {\"value\": \"black\", \"test\": \"datum.is_missing\"}, \"value\": \"white\"}, \"x\": {\"field\": \"time\", \"type\": \"quantitative\"}}, \"selection\": {\"selector005\": {\"type\": \"interval\", \"bind\": \"scales\", \"encodings\": [\"x\"]}}, \"width\": 350}], \"spacing\": -10}, {\"vconcat\": [{\"layer\": [{\"data\": {\"name\": \"data-c33c31bda83593eb84e7faa4f6be4ee6\"}, \"mark\": {\"type\": \"point\", \"color\": \"black\", \"fillOpacity\": 1, \"strokeWidth\": 1}, \"encoding\": {\"fill\": {\"field\": \"is_missing\", \"legend\": {\"title\": [\"Observed data\", \"(is missing)\"]}, \"scale\": {\"range\": [\"#ffffff00\", \"black\"]}, \"type\": \"nominal\"}, \"shape\": {\"field\": \"is_missing\", \"type\": \"nominal\"}, \"x\": {\"axis\": {\"domain\": false, \"labels\": false, \"ticks\": false, \"title\": null}, \"field\": \"time\", \"type\": \"quantitative\"}, \"y\": {\"field\": \"value\", \"scale\": {\"zero\": false}, \"title\": \"SW_IN [W m-2]\", \"type\": \"quantitative\"}}}, {\"layer\": [{\"mark\": \"errorband\", \"encoding\": {\"color\": {\"field\": \"variable\", \"legend\": {\"title\": [\"Line: pred. mean\", \"area: +/- 2 std\", \"(variable)\"]}, \"type\": \"nominal\"}, \"tooltip\": [{\"field\": \"std\", \"format\": \".4\", \"type\": \"quantitative\"}, {\"field\": \"mean\", \"format\": \".4\", \"type\": \"quantitative\"}], \"x\": {\"field\": \"time\", \"type\": \"quantitative\"}, \"y\": {\"field\": \"err_low\", \"scale\": {\"zero\": false}, \"title\": \"SW_IN [W m-2]\", \"type\": \"quantitative\"}, \"y2\": {\"field\": \"err_high\"}}, \"height\": 200, \"transform\": [{\"calculate\": \"datum.mean - 2 * datum.std\", \"as\": \"err_low\"}, {\"calculate\": \"datum.mean + 2 * datum.std\", \"as\": \"err_high\"}], \"width\": 350}, {\"mark\": \"line\", \"encoding\": {\"color\": {\"field\": \"variable\", \"type\": \"nominal\"}, \"x\": {\"field\": \"time\", \"type\": \"quantitative\"}, \"y\": {\"field\": \"mean\", \"scale\": {\"zero\": false}, \"title\": \"SW_IN [W m-2]\", \"type\": \"quantitative\"}}, \"selection\": {\"selector005\": {\"type\": \"interval\", \"bind\": \"scales\", \"encodings\": [\"x\"]}}, \"title\": \"SW_IN\"}], \"data\": {\"name\": \"data-daabea7117dea11b73fa2b41b9e41345\"}}]}, {\"data\": {\"name\": \"data-c33c31bda83593eb84e7faa4f6be4ee6\"}, \"mark\": {\"type\": \"tick\", \"color\": \"black\"}, \"encoding\": {\"color\": {\"condition\": {\"value\": \"black\", \"test\": \"datum.is_missing\"}, \"value\": \"white\"}, \"x\": {\"field\": \"time\", \"type\": \"quantitative\"}}, \"selection\": {\"selector005\": {\"type\": \"interval\", \"bind\": \"scales\", \"encodings\": [\"x\"]}}, \"width\": 350}], \"spacing\": -10}]}, {\"hconcat\": [{\"vconcat\": [{\"layer\": [{\"data\": {\"name\": \"data-80b3e1ce05080f9aca82e924a1b56937\"}, \"mark\": {\"type\": \"point\", \"color\": \"black\", \"fillOpacity\": 1, \"strokeWidth\": 1}, \"encoding\": {\"fill\": {\"field\": \"is_missing\", \"legend\": {\"title\": [\"Observed data\", \"(is missing)\"]}, \"scale\": {\"range\": [\"#ffffff00\", \"black\"]}, \"type\": \"nominal\"}, \"shape\": {\"field\": \"is_missing\", \"type\": \"nominal\"}, \"x\": {\"axis\": {\"domain\": false, \"labels\": false, \"ticks\": false, \"title\": null}, \"field\": \"time\", \"type\": \"quantitative\"}, \"y\": {\"field\": \"value\", \"scale\": {\"zero\": false}, \"title\": \"VPD [hPa]\", \"type\": \"quantitative\"}}}, {\"layer\": [{\"mark\": \"errorband\", \"encoding\": {\"color\": {\"field\": \"variable\", \"legend\": {\"title\": [\"Line: pred. mean\", \"area: +/- 2 std\", \"(variable)\"]}, \"type\": \"nominal\"}, \"tooltip\": [{\"field\": \"std\", \"format\": \".4\", \"type\": \"quantitative\"}, {\"field\": \"mean\", \"format\": \".4\", \"type\": \"quantitative\"}], \"x\": {\"field\": \"time\", \"type\": \"quantitative\"}, \"y\": {\"field\": \"err_low\", \"scale\": {\"zero\": false}, \"title\": \"VPD [hPa]\", \"type\": \"quantitative\"}, \"y2\": {\"field\": \"err_high\"}}, \"height\": 200, \"transform\": [{\"calculate\": \"datum.mean - 2 * datum.std\", \"as\": \"err_low\"}, {\"calculate\": \"datum.mean + 2 * datum.std\", \"as\": \"err_high\"}], \"width\": 350}, {\"mark\": \"line\", \"encoding\": {\"color\": {\"field\": \"variable\", \"type\": \"nominal\"}, \"x\": {\"field\": \"time\", \"type\": \"quantitative\"}, \"y\": {\"field\": \"mean\", \"scale\": {\"zero\": false}, \"title\": \"VPD [hPa]\", \"type\": \"quantitative\"}}, \"selection\": {\"selector005\": {\"type\": \"interval\", \"bind\": \"scales\", \"encodings\": [\"x\"]}}, \"title\": \"VPD\"}], \"data\": {\"name\": \"data-dab037846c54d967bbf1f754300135a7\"}}]}, {\"data\": {\"name\": \"data-80b3e1ce05080f9aca82e924a1b56937\"}, \"mark\": {\"type\": \"tick\", \"color\": \"black\"}, \"encoding\": {\"color\": {\"condition\": {\"value\": \"black\", \"test\": \"datum.is_missing\"}, \"value\": \"white\"}, \"x\": {\"field\": \"time\", \"type\": \"quantitative\"}}, \"selection\": {\"selector005\": {\"type\": \"interval\", \"bind\": \"scales\", \"encodings\": [\"x\"]}}, \"width\": 350}], \"spacing\": -10}]}, {\"hconcat\": []}, {\"hconcat\": []}, {\"hconcat\": []}, {\"hconcat\": []}, {\"hconcat\": []}, {\"hconcat\": []}, {\"hconcat\": []}, {\"hconcat\": []}, {\"hconcat\": []}, {\"hconcat\": []}, {\"hconcat\": []}, {\"hconcat\": []}, {\"hconcat\": []}, {\"hconcat\": []}, {\"hconcat\": []}, {\"hconcat\": []}, {\"hconcat\": []}, {\"hconcat\": []}, {\"hconcat\": []}, {\"hconcat\": []}, {\"hconcat\": []}, {\"hconcat\": []}, {\"hconcat\": []}, {\"hconcat\": []}, {\"hconcat\": []}, {\"hconcat\": []}, {\"hconcat\": []}, {\"hconcat\": []}, {\"hconcat\": []}, {\"hconcat\": []}, {\"hconcat\": []}, {\"hconcat\": []}, {\"hconcat\": []}, {\"hconcat\": []}, {\"hconcat\": []}, {\"hconcat\": []}, {\"hconcat\": []}, {\"hconcat\": []}, {\"hconcat\": []}, {\"hconcat\": []}, {\"hconcat\": []}, {\"hconcat\": []}, {\"hconcat\": []}, {\"hconcat\": []}, {\"hconcat\": []}, {\"hconcat\": []}, {\"hconcat\": []}, {\"hconcat\": []}, {\"hconcat\": []}, {\"hconcat\": []}, {\"hconcat\": []}, {\"hconcat\": []}, {\"hconcat\": []}, {\"hconcat\": []}, {\"hconcat\": []}, {\"hconcat\": []}, {\"hconcat\": []}, {\"hconcat\": []}, {\"hconcat\": []}, {\"hconcat\": []}, {\"hconcat\": []}, {\"hconcat\": []}, {\"hconcat\": []}, {\"hconcat\": []}, {\"hconcat\": []}, {\"hconcat\": []}, {\"hconcat\": []}, {\"hconcat\": []}, {\"hconcat\": []}, {\"hconcat\": []}, {\"hconcat\": []}, {\"hconcat\": []}, {\"hconcat\": []}, {\"hconcat\": []}, {\"hconcat\": []}, {\"hconcat\": []}, {\"hconcat\": []}, {\"hconcat\": []}, {\"hconcat\": []}, {\"hconcat\": []}, {\"hconcat\": []}, {\"hconcat\": []}, {\"hconcat\": []}, {\"hconcat\": []}, {\"hconcat\": []}, {\"hconcat\": []}, {\"hconcat\": []}, {\"hconcat\": []}, {\"hconcat\": []}, {\"hconcat\": []}, {\"hconcat\": []}, {\"hconcat\": []}, {\"hconcat\": []}, {\"hconcat\": []}, {\"hconcat\": []}, {\"hconcat\": []}, {\"hconcat\": []}, {\"hconcat\": []}, {\"hconcat\": []}, {\"hconcat\": []}, {\"hconcat\": []}, {\"hconcat\": []}, {\"hconcat\": []}, {\"hconcat\": []}, {\"hconcat\": []}, {\"hconcat\": []}, {\"hconcat\": []}, {\"hconcat\": []}, {\"hconcat\": []}, {\"hconcat\": []}, {\"hconcat\": []}, {\"hconcat\": []}, {\"hconcat\": []}, {\"hconcat\": []}, {\"hconcat\": []}, {\"hconcat\": []}, {\"hconcat\": []}, {\"hconcat\": []}, {\"hconcat\": []}, {\"hconcat\": []}, {\"hconcat\": []}, {\"hconcat\": []}, {\"hconcat\": []}, {\"hconcat\": []}, {\"hconcat\": []}, {\"hconcat\": []}, {\"hconcat\": []}, {\"hconcat\": []}, {\"hconcat\": []}, {\"hconcat\": []}, {\"hconcat\": []}, {\"hconcat\": []}, {\"hconcat\": []}, {\"hconcat\": []}, {\"hconcat\": []}, {\"hconcat\": []}, {\"hconcat\": []}, {\"hconcat\": []}, {\"hconcat\": []}, {\"hconcat\": []}, {\"hconcat\": []}, {\"hconcat\": []}, {\"hconcat\": []}, {\"hconcat\": []}, {\"hconcat\": []}, {\"hconcat\": []}, {\"hconcat\": []}, {\"hconcat\": []}, {\"hconcat\": []}, {\"hconcat\": []}, {\"hconcat\": []}, {\"hconcat\": []}, {\"hconcat\": []}, {\"hconcat\": []}, {\"hconcat\": []}, {\"hconcat\": []}, {\"hconcat\": []}, {\"hconcat\": []}, {\"hconcat\": []}, {\"hconcat\": []}, {\"hconcat\": []}, {\"hconcat\": []}, {\"hconcat\": []}, {\"hconcat\": []}, {\"hconcat\": []}, {\"hconcat\": []}, {\"hconcat\": []}, {\"hconcat\": []}, {\"hconcat\": []}, {\"hconcat\": []}, {\"hconcat\": []}, {\"hconcat\": []}, {\"hconcat\": []}, {\"hconcat\": []}, {\"hconcat\": []}, {\"hconcat\": []}, {\"hconcat\": []}, {\"hconcat\": []}, {\"hconcat\": []}, {\"hconcat\": []}, {\"hconcat\": []}, {\"hconcat\": []}, {\"hconcat\": []}, {\"hconcat\": []}, {\"hconcat\": []}, {\"hconcat\": []}, {\"hconcat\": []}, {\"hconcat\": []}, {\"hconcat\": []}, {\"hconcat\": []}, {\"hconcat\": []}, {\"hconcat\": []}, {\"hconcat\": []}, {\"hconcat\": []}, {\"hconcat\": []}, {\"hconcat\": []}, {\"hconcat\": []}, {\"hconcat\": []}, {\"hconcat\": []}, {\"hconcat\": []}, {\"hconcat\": []}, {\"hconcat\": []}, {\"hconcat\": []}, {\"hconcat\": []}, {\"hconcat\": []}, {\"hconcat\": []}, {\"hconcat\": []}, {\"hconcat\": []}, {\"hconcat\": []}, {\"hconcat\": []}, {\"hconcat\": []}, {\"hconcat\": []}, {\"hconcat\": []}, {\"hconcat\": []}, {\"hconcat\": []}, {\"hconcat\": []}, {\"hconcat\": []}, {\"hconcat\": []}, {\"hconcat\": []}, {\"hconcat\": []}, {\"hconcat\": []}, {\"hconcat\": []}, {\"hconcat\": []}, {\"hconcat\": []}, {\"hconcat\": []}, {\"hconcat\": []}, {\"hconcat\": []}, {\"hconcat\": []}, {\"hconcat\": []}, {\"hconcat\": []}, {\"hconcat\": []}, {\"hconcat\": []}, {\"hconcat\": []}, {\"hconcat\": []}, {\"hconcat\": []}, {\"hconcat\": []}, {\"hconcat\": []}, {\"hconcat\": []}, {\"hconcat\": []}, {\"hconcat\": []}, {\"hconcat\": []}, {\"hconcat\": []}, {\"hconcat\": []}, {\"hconcat\": []}, {\"hconcat\": []}, {\"hconcat\": []}, {\"hconcat\": []}, {\"hconcat\": []}, {\"hconcat\": []}, {\"hconcat\": []}, {\"hconcat\": []}, {\"hconcat\": []}, {\"hconcat\": []}, {\"hconcat\": []}, {\"hconcat\": []}, {\"hconcat\": []}, {\"hconcat\": []}, {\"hconcat\": []}, {\"hconcat\": []}, {\"hconcat\": []}, {\"hconcat\": []}, {\"hconcat\": []}, {\"hconcat\": []}, {\"hconcat\": []}, {\"hconcat\": []}, {\"hconcat\": []}, {\"hconcat\": []}, {\"hconcat\": []}, {\"hconcat\": []}, {\"hconcat\": []}, {\"hconcat\": []}, {\"hconcat\": []}, {\"hconcat\": []}, {\"hconcat\": []}, {\"hconcat\": []}, {\"hconcat\": []}, {\"hconcat\": []}, {\"hconcat\": []}, {\"hconcat\": []}, {\"hconcat\": []}, {\"hconcat\": []}, {\"hconcat\": []}, {\"hconcat\": []}, {\"hconcat\": []}, {\"hconcat\": []}, {\"hconcat\": []}, {\"hconcat\": []}, {\"hconcat\": []}, {\"hconcat\": []}, {\"hconcat\": []}, {\"hconcat\": []}, {\"hconcat\": []}, {\"hconcat\": []}, {\"hconcat\": []}, {\"hconcat\": []}, {\"hconcat\": []}, {\"hconcat\": []}, {\"hconcat\": []}], \"$schema\": \"https://vega.github.io/schema/vega-lite/v4.17.0.json\", \"datasets\": {\"data-26fdc8c53a8f8380daa1deb0dc85b564\": [{\"time\": 0.0, \"variable\": \"TA\", \"value\": -1.3300000429153442, \"is_missing\": false}, {\"time\": 1.0, \"variable\": \"TA\", \"value\": -1.4500000476837158, \"is_missing\": false}, {\"time\": 2.0, \"variable\": \"TA\", \"value\": -1.4299999475479126, \"is_missing\": false}, {\"time\": 3.0, \"variable\": \"TA\", \"value\": -1.4700000286102295, \"is_missing\": false}, {\"time\": 4.0, \"variable\": \"TA\", \"value\": -1.4900000095367432, \"is_missing\": false}, {\"time\": 5.0, \"variable\": \"TA\", \"value\": -1.5199999809265137, \"is_missing\": false}, {\"time\": 6.0, \"variable\": \"TA\", \"value\": -1.600000023841858, \"is_missing\": false}, {\"time\": 7.0, \"variable\": \"TA\", \"value\": -1.5499999523162842, \"is_missing\": false}, {\"time\": 8.0, \"variable\": \"TA\", \"value\": -1.6699999570846558, \"is_missing\": false}, {\"time\": 9.0, \"variable\": \"TA\", \"value\": -1.690000057220459, \"is_missing\": false}, {\"time\": 10.0, \"variable\": \"TA\", \"value\": -1.7100000381469727, \"is_missing\": false}, {\"time\": 11.0, \"variable\": \"TA\", \"value\": -1.809999942779541, \"is_missing\": false}, {\"time\": 12.0, \"variable\": \"TA\", \"value\": -1.7899999618530273, \"is_missing\": false}, {\"time\": 13.0, \"variable\": \"TA\", \"value\": -1.7400000095367432, \"is_missing\": false}, {\"time\": 14.0, \"variable\": \"TA\", \"value\": -1.6399999856948853, \"is_missing\": false}, {\"time\": 15.0, \"variable\": \"TA\", \"value\": -1.6299999952316284, \"is_missing\": false}, {\"time\": 16.0, \"variable\": \"TA\", \"value\": -1.590000033378601, \"is_missing\": false}, {\"time\": 17.0, \"variable\": \"TA\", \"value\": -1.5099999904632568, \"is_missing\": false}, {\"time\": 18.0, \"variable\": \"TA\", \"value\": -1.4299999475479126, \"is_missing\": false}, {\"time\": 19.0, \"variable\": \"TA\", \"value\": -1.3300000429153442, \"is_missing\": false}, {\"time\": 20.0, \"variable\": \"TA\", \"value\": -1.2200000286102295, \"is_missing\": false}, {\"time\": 21.0, \"variable\": \"TA\", \"value\": -1.090000033378601, \"is_missing\": false}, {\"time\": 22.0, \"variable\": \"TA\", \"value\": -0.9800000190734863, \"is_missing\": false}, {\"time\": 23.0, \"variable\": \"TA\", \"value\": -0.8899999856948853, \"is_missing\": false}, {\"time\": 24.0, \"variable\": \"TA\", \"value\": -0.8500000238418579, \"is_missing\": false}, {\"time\": 25.0, \"variable\": \"TA\", \"value\": -0.8399999737739563, \"is_missing\": false}, {\"time\": 26.0, \"variable\": \"TA\", \"value\": -0.8100000023841858, \"is_missing\": false}, {\"time\": 27.0, \"variable\": \"TA\", \"value\": -0.800000011920929, \"is_missing\": false}, {\"time\": 28.0, \"variable\": \"TA\", \"value\": -0.800000011920929, \"is_missing\": false}, {\"time\": 29.0, \"variable\": \"TA\", \"value\": -0.7799999713897705, \"is_missing\": false}, {\"time\": 30.0, \"variable\": \"TA\", \"value\": -0.6800000071525574, \"is_missing\": false}, {\"time\": 31.0, \"variable\": \"TA\", \"value\": -0.6499999761581421, \"is_missing\": false}, {\"time\": 32.0, \"variable\": \"TA\", \"value\": -0.6700000166893005, \"is_missing\": false}, {\"time\": 33.0, \"variable\": \"TA\", \"value\": -0.6899999976158142, \"is_missing\": false}, {\"time\": 34.0, \"variable\": \"TA\", \"value\": -0.6700000166893005, \"is_missing\": false}, {\"time\": 35.0, \"variable\": \"TA\", \"value\": -0.6499999761581421, \"is_missing\": false}, {\"time\": 36.0, \"variable\": \"TA\", \"value\": -0.6299999952316284, \"is_missing\": false}, {\"time\": 37.0, \"variable\": \"TA\", \"value\": -0.6100000143051147, \"is_missing\": false}, {\"time\": 38.0, \"variable\": \"TA\", \"value\": -0.5799999833106995, \"is_missing\": false}, {\"time\": 39.0, \"variable\": \"TA\", \"value\": -0.5400000214576721, \"is_missing\": false}, {\"time\": 40.0, \"variable\": \"TA\", \"value\": -0.49000000953674316, \"is_missing\": false}, {\"time\": 41.0, \"variable\": \"TA\", \"value\": -0.46000000834465027, \"is_missing\": false}, {\"time\": 42.0, \"variable\": \"TA\", \"value\": -0.4699999988079071, \"is_missing\": false}, {\"time\": 43.0, \"variable\": \"TA\", \"value\": -0.49000000953674316, \"is_missing\": false}, {\"time\": 44.0, \"variable\": \"TA\", \"value\": -0.4399999976158142, \"is_missing\": false}, {\"time\": 45.0, \"variable\": \"TA\", \"value\": -0.4000000059604645, \"is_missing\": false}, {\"time\": 46.0, \"variable\": \"TA\", \"value\": -0.36000001430511475, \"is_missing\": false}, {\"time\": 47.0, \"variable\": \"TA\", \"value\": -0.4699999988079071, \"is_missing\": false}, {\"time\": 48.0, \"variable\": \"TA\", \"value\": -0.6399999856948853, \"is_missing\": false}, {\"time\": 49.0, \"variable\": \"TA\", \"value\": -0.7799999713897705, \"is_missing\": false}, {\"time\": 50.0, \"variable\": \"TA\", \"value\": -0.800000011920929, \"is_missing\": false}, {\"time\": 51.0, \"variable\": \"TA\", \"value\": -0.7699999809265137, \"is_missing\": false}, {\"time\": 52.0, \"variable\": \"TA\", \"value\": -0.7300000190734863, \"is_missing\": false}, {\"time\": 53.0, \"variable\": \"TA\", \"value\": -0.7200000286102295, \"is_missing\": false}, {\"time\": 54.0, \"variable\": \"TA\", \"value\": -0.7300000190734863, \"is_missing\": false}, {\"time\": 55.0, \"variable\": \"TA\", \"value\": -0.75, \"is_missing\": false}, {\"time\": 56.0, \"variable\": \"TA\", \"value\": -0.8299999833106995, \"is_missing\": true}, {\"time\": 57.0, \"variable\": \"TA\", \"value\": -0.8799999952316284, \"is_missing\": true}, {\"time\": 58.0, \"variable\": \"TA\", \"value\": -0.9200000166893005, \"is_missing\": true}, {\"time\": 59.0, \"variable\": \"TA\", \"value\": -0.9700000286102295, \"is_missing\": true}, {\"time\": 60.0, \"variable\": \"TA\", \"value\": -1.0, \"is_missing\": true}, {\"time\": 61.0, \"variable\": \"TA\", \"value\": -1.0, \"is_missing\": true}, {\"time\": 62.0, \"variable\": \"TA\", \"value\": -1.0099999904632568, \"is_missing\": true}, {\"time\": 63.0, \"variable\": \"TA\", \"value\": -1.0099999904632568, \"is_missing\": true}, {\"time\": 64.0, \"variable\": \"TA\", \"value\": -1.2799999713897705, \"is_missing\": true}, {\"time\": 65.0, \"variable\": \"TA\", \"value\": -1.8799999952316284, \"is_missing\": true}, {\"time\": 66.0, \"variable\": \"TA\", \"value\": -2.3399999141693115, \"is_missing\": true}, {\"time\": 67.0, \"variable\": \"TA\", \"value\": -2.740000009536743, \"is_missing\": true}, {\"time\": 68.0, \"variable\": \"TA\", \"value\": -3.309999942779541, \"is_missing\": true}, {\"time\": 69.0, \"variable\": \"TA\", \"value\": -3.5999999046325684, \"is_missing\": true}, {\"time\": 70.0, \"variable\": \"TA\", \"value\": -3.7899999618530273, \"is_missing\": true}, {\"time\": 71.0, \"variable\": \"TA\", \"value\": -4.179999828338623, \"is_missing\": true}, {\"time\": 72.0, \"variable\": \"TA\", \"value\": -4.570000171661377, \"is_missing\": true}, {\"time\": 73.0, \"variable\": \"TA\", \"value\": -4.75, \"is_missing\": true}, {\"time\": 74.0, \"variable\": \"TA\", \"value\": -4.929999828338623, \"is_missing\": true}, {\"time\": 75.0, \"variable\": \"TA\", \"value\": -5.119999885559082, \"is_missing\": true}, {\"time\": 76.0, \"variable\": \"TA\", \"value\": -5.449999809265137, \"is_missing\": true}, {\"time\": 77.0, \"variable\": \"TA\", \"value\": -5.840000152587891, \"is_missing\": true}, {\"time\": 78.0, \"variable\": \"TA\", \"value\": -5.929999828338623, \"is_missing\": false}, {\"time\": 79.0, \"variable\": \"TA\", \"value\": -6.079999923706055, \"is_missing\": false}, {\"time\": 80.0, \"variable\": \"TA\", \"value\": -6.349999904632568, \"is_missing\": false}, {\"time\": 81.0, \"variable\": \"TA\", \"value\": -6.789999961853027, \"is_missing\": false}, {\"time\": 82.0, \"variable\": \"TA\", \"value\": -7.059999942779541, \"is_missing\": false}, {\"time\": 83.0, \"variable\": \"TA\", \"value\": -7.260000228881836, \"is_missing\": false}, {\"time\": 84.0, \"variable\": \"TA\", \"value\": -7.159999847412109, \"is_missing\": false}, {\"time\": 85.0, \"variable\": \"TA\", \"value\": -7.320000171661377, \"is_missing\": false}, {\"time\": 86.0, \"variable\": \"TA\", \"value\": -7.539999961853027, \"is_missing\": false}, {\"time\": 87.0, \"variable\": \"TA\", \"value\": -7.570000171661377, \"is_missing\": false}, {\"time\": 88.0, \"variable\": \"TA\", \"value\": -7.510000228881836, \"is_missing\": false}, {\"time\": 89.0, \"variable\": \"TA\", \"value\": -7.820000171661377, \"is_missing\": false}, {\"time\": 90.0, \"variable\": \"TA\", \"value\": -8.039999961853027, \"is_missing\": false}, {\"time\": 91.0, \"variable\": \"TA\", \"value\": -8.40999984741211, \"is_missing\": false}, {\"time\": 92.0, \"variable\": \"TA\", \"value\": -8.640000343322754, \"is_missing\": false}, {\"time\": 93.0, \"variable\": \"TA\", \"value\": -8.9399995803833, \"is_missing\": false}, {\"time\": 94.0, \"variable\": \"TA\", \"value\": -9.0600004196167, \"is_missing\": false}, {\"time\": 95.0, \"variable\": \"TA\", \"value\": -9.210000038146973, \"is_missing\": false}, {\"time\": 96.0, \"variable\": \"TA\", \"value\": -9.319999694824219, \"is_missing\": false}, {\"time\": 97.0, \"variable\": \"TA\", \"value\": -9.4399995803833, \"is_missing\": false}, {\"time\": 98.0, \"variable\": \"TA\", \"value\": -9.569999694824219, \"is_missing\": false}, {\"time\": 99.0, \"variable\": \"TA\", \"value\": -9.600000381469727, \"is_missing\": false}, {\"time\": 100.0, \"variable\": \"TA\", \"value\": -9.649999618530273, \"is_missing\": false}, {\"time\": 101.0, \"variable\": \"TA\", \"value\": -9.699999809265137, \"is_missing\": false}, {\"time\": 102.0, \"variable\": \"TA\", \"value\": -9.619999885559082, \"is_missing\": false}, {\"time\": 103.0, \"variable\": \"TA\", \"value\": -9.569999694824219, \"is_missing\": false}, {\"time\": 104.0, \"variable\": \"TA\", \"value\": -9.569999694824219, \"is_missing\": false}, {\"time\": 105.0, \"variable\": \"TA\", \"value\": -9.640000343322754, \"is_missing\": false}, {\"time\": 106.0, \"variable\": \"TA\", \"value\": -9.720000267028809, \"is_missing\": false}, {\"time\": 107.0, \"variable\": \"TA\", \"value\": -9.779999732971191, \"is_missing\": false}, {\"time\": 108.0, \"variable\": \"TA\", \"value\": -9.65999984741211, \"is_missing\": false}, {\"time\": 109.0, \"variable\": \"TA\", \"value\": -9.489999771118164, \"is_missing\": false}, {\"time\": 110.0, \"variable\": \"TA\", \"value\": -9.5, \"is_missing\": false}, {\"time\": 111.0, \"variable\": \"TA\", \"value\": -9.699999809265137, \"is_missing\": false}, {\"time\": 112.0, \"variable\": \"TA\", \"value\": -9.84000015258789, \"is_missing\": false}, {\"time\": 113.0, \"variable\": \"TA\", \"value\": -9.670000076293945, \"is_missing\": false}, {\"time\": 114.0, \"variable\": \"TA\", \"value\": -9.4399995803833, \"is_missing\": false}, {\"time\": 115.0, \"variable\": \"TA\", \"value\": -9.449999809265137, \"is_missing\": false}, {\"time\": 116.0, \"variable\": \"TA\", \"value\": -9.260000228881836, \"is_missing\": false}, {\"time\": 117.0, \"variable\": \"TA\", \"value\": -9.25, \"is_missing\": false}, {\"time\": 118.0, \"variable\": \"TA\", \"value\": -9.239999771118164, \"is_missing\": false}, {\"time\": 119.0, \"variable\": \"TA\", \"value\": -9.199999809265137, \"is_missing\": false}, {\"time\": 120.0, \"variable\": \"TA\", \"value\": -9.229999542236328, \"is_missing\": false}, {\"time\": 121.0, \"variable\": \"TA\", \"value\": -9.539999961853027, \"is_missing\": false}, {\"time\": 122.0, \"variable\": \"TA\", \"value\": -9.670000076293945, \"is_missing\": false}, {\"time\": 123.0, \"variable\": \"TA\", \"value\": -9.170000076293945, \"is_missing\": false}, {\"time\": 124.0, \"variable\": \"TA\", \"value\": -8.739999771118164, \"is_missing\": false}, {\"time\": 125.0, \"variable\": \"TA\", \"value\": -9.15999984741211, \"is_missing\": false}, {\"time\": 126.0, \"variable\": \"TA\", \"value\": -9.300000190734863, \"is_missing\": false}, {\"time\": 127.0, \"variable\": \"TA\", \"value\": -8.720000267028809, \"is_missing\": false}, {\"time\": 128.0, \"variable\": \"TA\", \"value\": -8.380000114440918, \"is_missing\": false}, {\"time\": 129.0, \"variable\": \"TA\", \"value\": -8.279999732971191, \"is_missing\": false}, {\"time\": 130.0, \"variable\": \"TA\", \"value\": -8.1899995803833, \"is_missing\": false}, {\"time\": 131.0, \"variable\": \"TA\", \"value\": -7.809999942779541, \"is_missing\": false}, {\"time\": 132.0, \"variable\": \"TA\", \"value\": -7.210000038146973, \"is_missing\": false}, {\"time\": 133.0, \"variable\": \"TA\", \"value\": -7.190000057220459, \"is_missing\": false}, {\"time\": 134.0, \"variable\": \"TA\", \"value\": -7.159999847412109, \"is_missing\": false}, {\"time\": 135.0, \"variable\": \"TA\", \"value\": -7.239999771118164, \"is_missing\": false}, {\"time\": 136.0, \"variable\": \"TA\", \"value\": -7.190000057220459, \"is_missing\": false}, {\"time\": 137.0, \"variable\": \"TA\", \"value\": -7.369999885559082, \"is_missing\": false}, {\"time\": 138.0, \"variable\": \"TA\", \"value\": -7.840000152587891, \"is_missing\": false}, {\"time\": 139.0, \"variable\": \"TA\", \"value\": -8.050000190734863, \"is_missing\": false}, {\"time\": 140.0, \"variable\": \"TA\", \"value\": -7.949999809265137, \"is_missing\": false}, {\"time\": 141.0, \"variable\": \"TA\", \"value\": -7.980000019073486, \"is_missing\": false}, {\"time\": 142.0, \"variable\": \"TA\", \"value\": -8.0, \"is_missing\": false}, {\"time\": 143.0, \"variable\": \"TA\", \"value\": -8.029999732971191, \"is_missing\": false}, {\"time\": 144.0, \"variable\": \"TA\", \"value\": -7.849999904632568, \"is_missing\": false}, {\"time\": 145.0, \"variable\": \"TA\", \"value\": -7.840000152587891, \"is_missing\": false}, {\"time\": 146.0, \"variable\": \"TA\", \"value\": -7.909999847412109, \"is_missing\": false}, {\"time\": 147.0, \"variable\": \"TA\", \"value\": -7.869999885559082, \"is_missing\": false}, {\"time\": 148.0, \"variable\": \"TA\", \"value\": -7.820000171661377, \"is_missing\": false}, {\"time\": 149.0, \"variable\": \"TA\", \"value\": -8.109999656677246, \"is_missing\": false}, {\"time\": 150.0, \"variable\": \"TA\", \"value\": -8.520000457763672, \"is_missing\": false}, {\"time\": 151.0, \"variable\": \"TA\", \"value\": -8.739999771118164, \"is_missing\": false}, {\"time\": 152.0, \"variable\": \"TA\", \"value\": -8.869999885559082, \"is_missing\": false}, {\"time\": 153.0, \"variable\": \"TA\", \"value\": -8.9399995803833, \"is_missing\": false}, {\"time\": 154.0, \"variable\": \"TA\", \"value\": -8.890000343322754, \"is_missing\": false}, {\"time\": 155.0, \"variable\": \"TA\", \"value\": -8.960000038146973, \"is_missing\": false}, {\"time\": 156.0, \"variable\": \"TA\", \"value\": -8.859999656677246, \"is_missing\": false}, {\"time\": 157.0, \"variable\": \"TA\", \"value\": -8.680000305175781, \"is_missing\": false}, {\"time\": 158.0, \"variable\": \"TA\", \"value\": -9.100000381469727, \"is_missing\": false}, {\"time\": 159.0, \"variable\": \"TA\", \"value\": -9.149999618530273, \"is_missing\": false}, {\"time\": 160.0, \"variable\": \"TA\", \"value\": -9.210000038146973, \"is_missing\": false}, {\"time\": 161.0, \"variable\": \"TA\", \"value\": -9.210000038146973, \"is_missing\": false}, {\"time\": 162.0, \"variable\": \"TA\", \"value\": -9.069999694824219, \"is_missing\": false}, {\"time\": 163.0, \"variable\": \"TA\", \"value\": -9.619999885559082, \"is_missing\": false}, {\"time\": 164.0, \"variable\": \"TA\", \"value\": -9.720000267028809, \"is_missing\": false}, {\"time\": 165.0, \"variable\": \"TA\", \"value\": -9.640000343322754, \"is_missing\": false}, {\"time\": 166.0, \"variable\": \"TA\", \"value\": -9.680000305175781, \"is_missing\": false}, {\"time\": 167.0, \"variable\": \"TA\", \"value\": -10.010000228881836, \"is_missing\": false}, {\"time\": 168.0, \"variable\": \"TA\", \"value\": -10.130000114440918, \"is_missing\": false}, {\"time\": 169.0, \"variable\": \"TA\", \"value\": -10.1899995803833, \"is_missing\": false}, {\"time\": 170.0, \"variable\": \"TA\", \"value\": -10.109999656677246, \"is_missing\": false}, {\"time\": 171.0, \"variable\": \"TA\", \"value\": -9.550000190734863, \"is_missing\": false}, {\"time\": 172.0, \"variable\": \"TA\", \"value\": -9.039999961853027, \"is_missing\": false}, {\"time\": 173.0, \"variable\": \"TA\", \"value\": -8.800000190734863, \"is_missing\": false}, {\"time\": 174.0, \"variable\": \"TA\", \"value\": -8.479999542236328, \"is_missing\": false}, {\"time\": 175.0, \"variable\": \"TA\", \"value\": -8.09000015258789, \"is_missing\": false}, {\"time\": 176.0, \"variable\": \"TA\", \"value\": -7.630000114440918, \"is_missing\": false}, {\"time\": 177.0, \"variable\": \"TA\", \"value\": -7.480000019073486, \"is_missing\": false}, {\"time\": 178.0, \"variable\": \"TA\", \"value\": -7.239999771118164, \"is_missing\": false}, {\"time\": 179.0, \"variable\": \"TA\", \"value\": -6.78000020980835, \"is_missing\": false}, {\"time\": 180.0, \"variable\": \"TA\", \"value\": -6.610000133514404, \"is_missing\": false}, {\"time\": 181.0, \"variable\": \"TA\", \"value\": -6.389999866485596, \"is_missing\": false}, {\"time\": 182.0, \"variable\": \"TA\", \"value\": -6.349999904632568, \"is_missing\": false}, {\"time\": 183.0, \"variable\": \"TA\", \"value\": -6.239999771118164, \"is_missing\": false}, {\"time\": 184.0, \"variable\": \"TA\", \"value\": -6.320000171661377, \"is_missing\": false}, {\"time\": 185.0, \"variable\": \"TA\", \"value\": -6.610000133514404, \"is_missing\": false}, {\"time\": 186.0, \"variable\": \"TA\", \"value\": -6.989999771118164, \"is_missing\": false}, {\"time\": 187.0, \"variable\": \"TA\", \"value\": -7.21999979019165, \"is_missing\": false}, {\"time\": 188.0, \"variable\": \"TA\", \"value\": -7.360000133514404, \"is_missing\": false}, {\"time\": 189.0, \"variable\": \"TA\", \"value\": -7.369999885559082, \"is_missing\": false}, {\"time\": 190.0, \"variable\": \"TA\", \"value\": -7.429999828338623, \"is_missing\": false}, {\"time\": 191.0, \"variable\": \"TA\", \"value\": -7.710000038146973, \"is_missing\": false}, {\"time\": 192.0, \"variable\": \"TA\", \"value\": -7.829999923706055, \"is_missing\": false}, {\"time\": 193.0, \"variable\": \"TA\", \"value\": -8.029999732971191, \"is_missing\": false}, {\"time\": 194.0, \"variable\": \"TA\", \"value\": -8.1899995803833, \"is_missing\": false}, {\"time\": 195.0, \"variable\": \"TA\", \"value\": -8.319999694824219, \"is_missing\": false}, {\"time\": 196.0, \"variable\": \"TA\", \"value\": -8.5600004196167, \"is_missing\": false}, {\"time\": 197.0, \"variable\": \"TA\", \"value\": -8.529999732971191, \"is_missing\": false}, {\"time\": 198.0, \"variable\": \"TA\", \"value\": -8.470000267028809, \"is_missing\": false}, {\"time\": 199.0, \"variable\": \"TA\", \"value\": -8.569999694824219, \"is_missing\": false}], \"data-dc4555848591947f8964c5d09c28e178\": [{\"time\": 0, \"variable\": \"TA\", \"mean\": -0.8949160575866699, \"std\": 1.2277510166168213}, {\"time\": 1, \"variable\": \"TA\", \"mean\": -0.8690118789672852, \"std\": 1.2135142087936401}, {\"time\": 2, \"variable\": \"TA\", \"mean\": -0.8462224006652832, \"std\": 1.2043946981430054}, {\"time\": 3, \"variable\": \"TA\", \"mean\": -0.8133559226989746, \"std\": 1.1984124183654785}, {\"time\": 4, \"variable\": \"TA\", \"mean\": -0.7739596366882324, \"std\": 1.1944544315338135}, {\"time\": 5, \"variable\": \"TA\", \"mean\": -0.7836909294128418, \"std\": 1.1918245553970337}, {\"time\": 6, \"variable\": \"TA\", \"mean\": -0.8548274040222168, \"std\": 1.1900724172592163}, {\"time\": 7, \"variable\": \"TA\", \"mean\": -1.0080175399780273, \"std\": 1.1889028549194336}, {\"time\": 8, \"variable\": \"TA\", \"mean\": -1.1894135475158691, \"std\": 1.1881210803985596}, {\"time\": 9, \"variable\": \"TA\", \"mean\": -1.3507437705993652, \"std\": 1.1875979900360107}, {\"time\": 10, \"variable\": \"TA\", \"mean\": -1.5313520431518555, \"std\": 1.1872477531433105}, {\"time\": 11, \"variable\": \"TA\", \"mean\": -1.6790289878845215, \"std\": 1.1870131492614746}, {\"time\": 12, \"variable\": \"TA\", \"mean\": -1.7748055458068848, \"std\": 1.1868559122085571}, {\"time\": 13, \"variable\": \"TA\", \"mean\": -1.8298816680908203, \"std\": 1.1867505311965942}, {\"time\": 14, \"variable\": \"TA\", \"mean\": -1.8416938781738281, \"std\": 1.186679720878601}, {\"time\": 15, \"variable\": \"TA\", \"mean\": -1.8209753036499023, \"std\": 1.1866323947906494}, {\"time\": 16, \"variable\": \"TA\", \"mean\": -1.7773704528808594, \"std\": 1.1866005659103394}, {\"time\": 17, \"variable\": \"TA\", \"mean\": -1.7197661399841309, \"std\": 1.1865792274475098}, {\"time\": 18, \"variable\": \"TA\", \"mean\": -1.652414321899414, \"std\": 1.1865649223327637}, {\"time\": 19, \"variable\": \"TA\", \"mean\": -1.5768928527832031, \"std\": 1.18655526638031}, {\"time\": 20, \"variable\": \"TA\", \"mean\": -1.4931893348693848, \"std\": 1.1865488290786743}, {\"time\": 21, \"variable\": \"TA\", \"mean\": -1.4028692245483398, \"std\": 1.186544418334961}, {\"time\": 22, \"variable\": \"TA\", \"mean\": -1.3218708038330078, \"std\": 1.1865415573120117}, {\"time\": 23, \"variable\": \"TA\", \"mean\": -1.2592287063598633, \"std\": 1.186539649963379}, {\"time\": 24, \"variable\": \"TA\", \"mean\": -1.218493938446045, \"std\": 1.1865384578704834}, {\"time\": 25, \"variable\": \"TA\", \"mean\": -1.1868133544921875, \"std\": 1.1865376234054565}, {\"time\": 26, \"variable\": \"TA\", \"mean\": -1.1530046463012695, \"std\": 1.1865370273590088}, {\"time\": 27, \"variable\": \"TA\", \"mean\": -1.1150398254394531, \"std\": 1.1865367889404297}, {\"time\": 28, \"variable\": \"TA\", \"mean\": -1.0686674118041992, \"std\": 1.1865366697311401}, {\"time\": 29, \"variable\": \"TA\", \"mean\": -1.0305051803588867, \"std\": 1.1865367889404297}, {\"time\": 30, \"variable\": \"TA\", \"mean\": -1.0083718299865723, \"std\": 1.1865370273590088}, {\"time\": 31, \"variable\": \"TA\", \"mean\": -0.9844918251037598, \"std\": 1.186537504196167}, {\"time\": 32, \"variable\": \"TA\", \"mean\": -0.956261157989502, \"std\": 1.1865381002426147}, {\"time\": 33, \"variable\": \"TA\", \"mean\": -0.9264588356018066, \"std\": 1.1865394115447998}, {\"time\": 34, \"variable\": \"TA\", \"mean\": -0.9193577766418457, \"std\": 1.1865410804748535}, {\"time\": 35, \"variable\": \"TA\", \"mean\": -0.9332680702209473, \"std\": 1.1865438222885132}, {\"time\": 36, \"variable\": \"TA\", \"mean\": -0.9236283302307129, \"std\": 1.186547875404358}, {\"time\": 37, \"variable\": \"TA\", \"mean\": -0.912407398223877, \"std\": 1.186553716659546}, {\"time\": 38, \"variable\": \"TA\", \"mean\": -0.9019594192504883, \"std\": 1.1865626573562622}, {\"time\": 39, \"variable\": \"TA\", \"mean\": -0.8982491493225098, \"std\": 1.1865758895874023}, {\"time\": 40, \"variable\": \"TA\", \"mean\": -0.9072270393371582, \"std\": 1.1865954399108887}, {\"time\": 41, \"variable\": \"TA\", \"mean\": -0.9195079803466797, \"std\": 1.1866247653961182}, {\"time\": 42, \"variable\": \"TA\", \"mean\": -0.9300103187561035, \"std\": 1.1866685152053833}, {\"time\": 43, \"variable\": \"TA\", \"mean\": -0.9421629905700684, \"std\": 1.186733365058899}, {\"time\": 44, \"variable\": \"TA\", \"mean\": -0.9599614143371582, \"std\": 1.1868300437927246}, {\"time\": 45, \"variable\": \"TA\", \"mean\": -0.9880318641662598, \"std\": 1.186974048614502}, {\"time\": 46, \"variable\": \"TA\", \"mean\": -1.0299072265625, \"std\": 1.1871883869171143}, {\"time\": 47, \"variable\": \"TA\", \"mean\": -1.0888962745666504, \"std\": 1.1875076293945312}, {\"time\": 48, \"variable\": \"TA\", \"mean\": -1.163236141204834, \"std\": 1.1879831552505493}, {\"time\": 49, \"variable\": \"TA\", \"mean\": -1.248321533203125, \"std\": 1.1886924505233765}, {\"time\": 50, \"variable\": \"TA\", \"mean\": -1.3412981033325195, \"std\": 1.1897523403167725}, {\"time\": 51, \"variable\": \"TA\", \"mean\": -1.4454283714294434, \"std\": 1.1913416385650635}, {\"time\": 52, \"variable\": \"TA\", \"mean\": -1.567561149597168, \"std\": 1.1937388181686401}, {\"time\": 53, \"variable\": \"TA\", \"mean\": -1.7142930030822754, \"std\": 1.197392225265503}, {\"time\": 54, \"variable\": \"TA\", \"mean\": -1.8916378021240234, \"std\": 1.2030774354934692}, {\"time\": 55, \"variable\": \"TA\", \"mean\": -2.105048894882202, \"std\": 1.212446928024292}, {\"time\": 56, \"variable\": \"TA\", \"mean\": -2.357898235321045, \"std\": 1.2313178777694702}, {\"time\": 57, \"variable\": \"TA\", \"mean\": -2.602268695831299, \"std\": 1.2481000423431396}, {\"time\": 58, \"variable\": \"TA\", \"mean\": -2.838517904281616, \"std\": 1.2629247903823853}, {\"time\": 59, \"variable\": \"TA\", \"mean\": -3.0669922828674316, \"std\": 1.2758986949920654}, {\"time\": 60, \"variable\": \"TA\", \"mean\": -3.2880265712738037, \"std\": 1.287109136581421}, {\"time\": 61, \"variable\": \"TA\", \"mean\": -3.501945734024048, \"std\": 1.296626329421997}, {\"time\": 62, \"variable\": \"TA\", \"mean\": -3.7090647220611572, \"std\": 1.304506778717041}, {\"time\": 63, \"variable\": \"TA\", \"mean\": -3.9096901416778564, \"std\": 1.310794472694397}, {\"time\": 64, \"variable\": \"TA\", \"mean\": -4.104119777679443, \"std\": 1.3155229091644287}, {\"time\": 65, \"variable\": \"TA\", \"mean\": -4.292644500732422, \"std\": 1.3187158107757568}, {\"time\": 66, \"variable\": \"TA\", \"mean\": -4.475548267364502, \"std\": 1.3203877210617065}, {\"time\": 67, \"variable\": \"TA\", \"mean\": -4.653109550476074, \"std\": 1.320544958114624}, {\"time\": 68, \"variable\": \"TA\", \"mean\": -4.8256025314331055, \"std\": 1.3191851377487183}, {\"time\": 69, \"variable\": \"TA\", \"mean\": -4.993294715881348, \"std\": 1.316298007965088}, {\"time\": 70, \"variable\": \"TA\", \"mean\": -5.156452178955078, \"std\": 1.3118630647659302}, {\"time\": 71, \"variable\": \"TA\", \"mean\": -5.31533670425415, \"std\": 1.3058511018753052}, {\"time\": 72, \"variable\": \"TA\", \"mean\": -5.470205307006836, \"std\": 1.2982221841812134}, {\"time\": 73, \"variable\": \"TA\", \"mean\": -5.621319770812988, \"std\": 1.2889227867126465}, {\"time\": 74, \"variable\": \"TA\", \"mean\": -5.7689385414123535, \"std\": 1.2778860330581665}, {\"time\": 75, \"variable\": \"TA\", \"mean\": -5.91331148147583, \"std\": 1.2650290727615356}, {\"time\": 76, \"variable\": \"TA\", \"mean\": -6.0547003746032715, \"std\": 1.2502473592758179}, {\"time\": 77, \"variable\": \"TA\", \"mean\": -6.1933674812316895, \"std\": 1.2334116697311401}, {\"time\": 78, \"variable\": \"TA\", \"mean\": -6.329565048217773, \"std\": 1.2143669128417969}, {\"time\": 79, \"variable\": \"TA\", \"mean\": -6.4496870040893555, \"std\": 1.204480767250061}, {\"time\": 80, \"variable\": \"TA\", \"mean\": -6.520256996154785, \"std\": 1.198330044746399}, {\"time\": 81, \"variable\": \"TA\", \"mean\": -6.527817726135254, \"std\": 1.1943371295928955}, {\"time\": 82, \"variable\": \"TA\", \"mean\": -6.581992149353027, \"std\": 1.1917146444320679}, {\"time\": 83, \"variable\": \"TA\", \"mean\": -6.7596259117126465, \"std\": 1.189982533454895}, {\"time\": 84, \"variable\": \"TA\", \"mean\": -6.953589916229248, \"std\": 1.188834309577942}, {\"time\": 85, \"variable\": \"TA\", \"mean\": -7.194338798522949, \"std\": 1.1880708932876587}, {\"time\": 86, \"variable\": \"TA\", \"mean\": -7.432734489440918, \"std\": 1.187562108039856}, {\"time\": 87, \"variable\": \"TA\", \"mean\": -7.5986552238464355, \"std\": 1.1872225999832153}, {\"time\": 88, \"variable\": \"TA\", \"mean\": -7.790459632873535, \"std\": 1.1869956254959106}, {\"time\": 89, \"variable\": \"TA\", \"mean\": -7.976068496704102, \"std\": 1.1868438720703125}, {\"time\": 90, \"variable\": \"TA\", \"mean\": -8.130024909973145, \"std\": 1.1867421865463257}, {\"time\": 91, \"variable\": \"TA\", \"mean\": -8.273083686828613, \"std\": 1.1866741180419922}, {\"time\": 92, \"variable\": \"TA\", \"mean\": -8.40963363647461, \"std\": 1.1866284608840942}, {\"time\": 93, \"variable\": \"TA\", \"mean\": -8.542195320129395, \"std\": 1.1865979433059692}, {\"time\": 94, \"variable\": \"TA\", \"mean\": -8.664474487304688, \"std\": 1.1865774393081665}, {\"time\": 95, \"variable\": \"TA\", \"mean\": -8.777839660644531, \"std\": 1.1865636110305786}, {\"time\": 96, \"variable\": \"TA\", \"mean\": -8.881329536437988, \"std\": 1.1865544319152832}, {\"time\": 97, \"variable\": \"TA\", \"mean\": -8.974411010742188, \"std\": 1.1865482330322266}, {\"time\": 98, \"variable\": \"TA\", \"mean\": -9.05545711517334, \"std\": 1.1865440607070923}, {\"time\": 99, \"variable\": \"TA\", \"mean\": -9.122936248779297, \"std\": 1.1865413188934326}, {\"time\": 100, \"variable\": \"TA\", \"mean\": -9.178725242614746, \"std\": 1.1865394115447998}, {\"time\": 101, \"variable\": \"TA\", \"mean\": -9.22342300415039, \"std\": 1.1865381002426147}, {\"time\": 102, \"variable\": \"TA\", \"mean\": -9.255524635314941, \"std\": 1.186537265777588}, {\"time\": 103, \"variable\": \"TA\", \"mean\": -9.28050708770752, \"std\": 1.1865367889404297}, {\"time\": 104, \"variable\": \"TA\", \"mean\": -9.301885604858398, \"std\": 1.186536431312561}, {\"time\": 105, \"variable\": \"TA\", \"mean\": -9.320713996887207, \"std\": 1.1865360736846924}, {\"time\": 106, \"variable\": \"TA\", \"mean\": -9.334695816040039, \"std\": 1.1865360736846924}, {\"time\": 107, \"variable\": \"TA\", \"mean\": -9.340907096862793, \"std\": 1.1865358352661133}, {\"time\": 108, \"variable\": \"TA\", \"mean\": -9.33688735961914, \"std\": 1.1865358352661133}, {\"time\": 109, \"variable\": \"TA\", \"mean\": -9.327274322509766, \"std\": 1.1865357160568237}, {\"time\": 110, \"variable\": \"TA\", \"mean\": -9.319933891296387, \"std\": 1.1865357160568237}, {\"time\": 111, \"variable\": \"TA\", \"mean\": -9.31351089477539, \"std\": 1.1865357160568237}, {\"time\": 112, \"variable\": \"TA\", \"mean\": -9.300512313842773, \"std\": 1.1865357160568237}, {\"time\": 113, \"variable\": \"TA\", \"mean\": -9.27296257019043, \"std\": 1.1865357160568237}, {\"time\": 114, \"variable\": \"TA\", \"mean\": -9.237186431884766, \"std\": 1.1865357160568237}, {\"time\": 115, \"variable\": \"TA\", \"mean\": -9.202913284301758, \"std\": 1.1865357160568237}, {\"time\": 116, \"variable\": \"TA\", \"mean\": -9.16779613494873, \"std\": 1.1865357160568237}, {\"time\": 117, \"variable\": \"TA\", \"mean\": -9.138782501220703, \"std\": 1.1865357160568237}, {\"time\": 118, \"variable\": \"TA\", \"mean\": -9.115362167358398, \"std\": 1.1865357160568237}, {\"time\": 119, \"variable\": \"TA\", \"mean\": -9.09320068359375, \"std\": 1.1865357160568237}, {\"time\": 120, \"variable\": \"TA\", \"mean\": -9.060887336730957, \"std\": 1.1865357160568237}, {\"time\": 121, \"variable\": \"TA\", \"mean\": -8.998456954956055, \"std\": 1.1865357160568237}, {\"time\": 122, \"variable\": \"TA\", \"mean\": -8.882457733154297, \"std\": 1.1865357160568237}, {\"time\": 123, \"variable\": \"TA\", \"mean\": -8.69938850402832, \"std\": 1.1865357160568237}, {\"time\": 124, \"variable\": \"TA\", \"mean\": -8.502765655517578, \"std\": 1.1865357160568237}, {\"time\": 125, \"variable\": \"TA\", \"mean\": -8.521796226501465, \"std\": 1.1865357160568237}, {\"time\": 126, \"variable\": \"TA\", \"mean\": -8.451261520385742, \"std\": 1.1865357160568237}, {\"time\": 127, \"variable\": \"TA\", \"mean\": -8.329975128173828, \"std\": 1.1865357160568237}, {\"time\": 128, \"variable\": \"TA\", \"mean\": -8.231527328491211, \"std\": 1.1865357160568237}, {\"time\": 129, \"variable\": \"TA\", \"mean\": -8.105856895446777, \"std\": 1.1865357160568237}, {\"time\": 130, \"variable\": \"TA\", \"mean\": -7.956989288330078, \"std\": 1.1865357160568237}, {\"time\": 131, \"variable\": \"TA\", \"mean\": -7.788202285766602, \"std\": 1.1865357160568237}, {\"time\": 132, \"variable\": \"TA\", \"mean\": -7.744060516357422, \"std\": 1.1865357160568237}, {\"time\": 133, \"variable\": \"TA\", \"mean\": -7.740793704986572, \"std\": 1.1865357160568237}, {\"time\": 134, \"variable\": \"TA\", \"mean\": -7.776633262634277, \"std\": 1.1865357160568237}, {\"time\": 135, \"variable\": \"TA\", \"mean\": -7.810204982757568, \"std\": 1.1865357160568237}, {\"time\": 136, \"variable\": \"TA\", \"mean\": -7.847565650939941, \"std\": 1.1865357160568237}, {\"time\": 137, \"variable\": \"TA\", \"mean\": -7.877420425415039, \"std\": 1.1865357160568237}, {\"time\": 138, \"variable\": \"TA\", \"mean\": -7.899552822113037, \"std\": 1.1865357160568237}, {\"time\": 139, \"variable\": \"TA\", \"mean\": -7.9140472412109375, \"std\": 1.1865357160568237}, {\"time\": 140, \"variable\": \"TA\", \"mean\": -7.920854568481445, \"std\": 1.1865357160568237}, {\"time\": 141, \"variable\": \"TA\", \"mean\": -7.929137229919434, \"std\": 1.1865357160568237}, {\"time\": 142, \"variable\": \"TA\", \"mean\": -7.9409661293029785, \"std\": 1.1865357160568237}, {\"time\": 143, \"variable\": \"TA\", \"mean\": -7.955041885375977, \"std\": 1.1865357160568237}, {\"time\": 144, \"variable\": \"TA\", \"mean\": -7.970681667327881, \"std\": 1.1865357160568237}, {\"time\": 145, \"variable\": \"TA\", \"mean\": -7.9963836669921875, \"std\": 1.1865357160568237}, {\"time\": 146, \"variable\": \"TA\", \"mean\": -8.034561157226562, \"std\": 1.1865357160568237}, {\"time\": 147, \"variable\": \"TA\", \"mean\": -8.082817077636719, \"std\": 1.1865357160568237}, {\"time\": 148, \"variable\": \"TA\", \"mean\": -8.143707275390625, \"std\": 1.1865357160568237}, {\"time\": 149, \"variable\": \"TA\", \"mean\": -8.222943305969238, \"std\": 1.1865357160568237}, {\"time\": 150, \"variable\": \"TA\", \"mean\": -8.315781593322754, \"std\": 1.1865357160568237}, {\"time\": 151, \"variable\": \"TA\", \"mean\": -8.406438827514648, \"std\": 1.1865357160568237}, {\"time\": 152, \"variable\": \"TA\", \"mean\": -8.487939834594727, \"std\": 1.1865357160568237}, {\"time\": 153, \"variable\": \"TA\", \"mean\": -8.559518814086914, \"std\": 1.1865357160568237}, {\"time\": 154, \"variable\": \"TA\", \"mean\": -8.620027542114258, \"std\": 1.1865357160568237}, {\"time\": 155, \"variable\": \"TA\", \"mean\": -8.675210952758789, \"std\": 1.1865357160568237}, {\"time\": 156, \"variable\": \"TA\", \"mean\": -8.724796295166016, \"std\": 1.1865357160568237}, {\"time\": 157, \"variable\": \"TA\", \"mean\": -8.774222373962402, \"std\": 1.1865357160568237}, {\"time\": 158, \"variable\": \"TA\", \"mean\": -8.837371826171875, \"std\": 1.1865357160568237}, {\"time\": 159, \"variable\": \"TA\", \"mean\": -8.8980131149292, \"std\": 1.1865357160568237}, {\"time\": 160, \"variable\": \"TA\", \"mean\": -8.954846382141113, \"std\": 1.1865357160568237}, {\"time\": 161, \"variable\": \"TA\", \"mean\": -9.009561538696289, \"std\": 1.1865357160568237}, {\"time\": 162, \"variable\": \"TA\", \"mean\": -9.063701629638672, \"std\": 1.1865357160568237}, {\"time\": 163, \"variable\": \"TA\", \"mean\": -9.132231712341309, \"std\": 1.1865357160568237}, {\"time\": 164, \"variable\": \"TA\", \"mean\": -9.18781566619873, \"std\": 1.1865357160568237}, {\"time\": 165, \"variable\": \"TA\", \"mean\": -9.230718612670898, \"std\": 1.1865357160568237}, {\"time\": 166, \"variable\": \"TA\", \"mean\": -9.265945434570312, \"std\": 1.1865357160568237}, {\"time\": 167, \"variable\": \"TA\", \"mean\": -9.29051399230957, \"std\": 1.1865357160568237}, {\"time\": 168, \"variable\": \"TA\", \"mean\": -9.261978149414062, \"std\": 1.1865358352661133}, {\"time\": 169, \"variable\": \"TA\", \"mean\": -9.152349472045898, \"std\": 1.1865358352661133}, {\"time\": 170, \"variable\": \"TA\", \"mean\": -8.977262496948242, \"std\": 1.1865360736846924}, {\"time\": 171, \"variable\": \"TA\", \"mean\": -8.760462760925293, \"std\": 1.1865360736846924}, {\"time\": 172, \"variable\": \"TA\", \"mean\": -8.528005599975586, \"std\": 1.186536431312561}, {\"time\": 173, \"variable\": \"TA\", \"mean\": -8.298005104064941, \"std\": 1.1865367889404297}, {\"time\": 174, \"variable\": \"TA\", \"mean\": -8.069847106933594, \"std\": 1.186537265777588}, {\"time\": 175, \"variable\": \"TA\", \"mean\": -7.849181652069092, \"std\": 1.1865381002426147}, {\"time\": 176, \"variable\": \"TA\", \"mean\": -7.644707679748535, \"std\": 1.1865394115447998}, {\"time\": 177, \"variable\": \"TA\", \"mean\": -7.466054916381836, \"std\": 1.186541199684143}, {\"time\": 178, \"variable\": \"TA\", \"mean\": -7.307552337646484, \"std\": 1.1865440607070923}, {\"time\": 179, \"variable\": \"TA\", \"mean\": -7.1746673583984375, \"std\": 1.186548113822937}, {\"time\": 180, \"variable\": \"TA\", \"mean\": -7.084866523742676, \"std\": 1.186554193496704}, {\"time\": 181, \"variable\": \"TA\", \"mean\": -7.034920692443848, \"std\": 1.1865633726119995}, {\"time\": 182, \"variable\": \"TA\", \"mean\": -7.021065711975098, \"std\": 1.1865769624710083}, {\"time\": 183, \"variable\": \"TA\", \"mean\": -7.040719985961914, \"std\": 1.186597228050232}, {\"time\": 184, \"variable\": \"TA\", \"mean\": -7.1000261306762695, \"std\": 1.1866272687911987}, {\"time\": 185, \"variable\": \"TA\", \"mean\": -7.174345016479492, \"std\": 1.1866719722747803}, {\"time\": 186, \"variable\": \"TA\", \"mean\": -7.247399806976318, \"std\": 1.1867386102676392}, {\"time\": 187, \"variable\": \"TA\", \"mean\": -7.3045806884765625, \"std\": 1.1868374347686768}, {\"time\": 188, \"variable\": \"TA\", \"mean\": -7.357764720916748, \"std\": 1.1869845390319824}, {\"time\": 189, \"variable\": \"TA\", \"mean\": -7.403548240661621, \"std\": 1.187203049659729}, {\"time\": 190, \"variable\": \"TA\", \"mean\": -7.465593338012695, \"std\": 1.1875274181365967}, {\"time\": 191, \"variable\": \"TA\", \"mean\": -7.549291610717773, \"std\": 1.1880086660385132}, {\"time\": 192, \"variable\": \"TA\", \"mean\": -7.6289544105529785, \"std\": 1.188722014427185}, {\"time\": 193, \"variable\": \"TA\", \"mean\": -7.707103729248047, \"std\": 1.189779281616211}, {\"time\": 194, \"variable\": \"TA\", \"mean\": -7.775449752807617, \"std\": 1.1913467645645142}, {\"time\": 195, \"variable\": \"TA\", \"mean\": -7.8313703536987305, \"std\": 1.1936743259429932}, {\"time\": 196, \"variable\": \"TA\", \"mean\": -7.875709533691406, \"std\": 1.1971471309661865}, {\"time\": 197, \"variable\": \"TA\", \"mean\": -7.893682956695557, \"std\": 1.2023882865905762}, {\"time\": 198, \"variable\": \"TA\", \"mean\": -7.901206016540527, \"std\": 1.210517406463623}, {\"time\": 199, \"variable\": \"TA\", \"mean\": -7.9144744873046875, \"std\": 1.2240649461746216}], \"data-c33c31bda83593eb84e7faa4f6be4ee6\": [{\"time\": 0.0, \"variable\": \"SW_IN\", \"value\": 0.0, \"is_missing\": false}, {\"time\": 1.0, \"variable\": \"SW_IN\", \"value\": 0.0, \"is_missing\": false}, {\"time\": 2.0, \"variable\": \"SW_IN\", \"value\": 0.0, \"is_missing\": false}, {\"time\": 3.0, \"variable\": \"SW_IN\", \"value\": 0.0, \"is_missing\": false}, {\"time\": 4.0, \"variable\": \"SW_IN\", \"value\": 0.0, \"is_missing\": false}, {\"time\": 5.0, \"variable\": \"SW_IN\", \"value\": 0.0, \"is_missing\": false}, {\"time\": 6.0, \"variable\": \"SW_IN\", \"value\": 0.0, \"is_missing\": false}, {\"time\": 7.0, \"variable\": \"SW_IN\", \"value\": 0.0, \"is_missing\": false}, {\"time\": 8.0, \"variable\": \"SW_IN\", \"value\": 0.0, \"is_missing\": false}, {\"time\": 9.0, \"variable\": \"SW_IN\", \"value\": 0.0, \"is_missing\": false}, {\"time\": 10.0, \"variable\": \"SW_IN\", \"value\": 0.0, \"is_missing\": false}, {\"time\": 11.0, \"variable\": \"SW_IN\", \"value\": 0.0, \"is_missing\": false}, {\"time\": 12.0, \"variable\": \"SW_IN\", \"value\": 0.0, \"is_missing\": false}, {\"time\": 13.0, \"variable\": \"SW_IN\", \"value\": 0.3199999928474426, \"is_missing\": false}, {\"time\": 14.0, \"variable\": \"SW_IN\", \"value\": 0.5099999904632568, \"is_missing\": false}, {\"time\": 15.0, \"variable\": \"SW_IN\", \"value\": 0.44999998807907104, \"is_missing\": false}, {\"time\": 16.0, \"variable\": \"SW_IN\", \"value\": 0.3799999952316284, \"is_missing\": false}, {\"time\": 17.0, \"variable\": \"SW_IN\", \"value\": 0.12999999523162842, \"is_missing\": false}, {\"time\": 18.0, \"variable\": \"SW_IN\", \"value\": 0.0, \"is_missing\": false}, {\"time\": 19.0, \"variable\": \"SW_IN\", \"value\": 0.0, \"is_missing\": false}, {\"time\": 20.0, \"variable\": \"SW_IN\", \"value\": 0.0, \"is_missing\": false}, {\"time\": 21.0, \"variable\": \"SW_IN\", \"value\": 0.0, \"is_missing\": false}, {\"time\": 22.0, \"variable\": \"SW_IN\", \"value\": 0.0, \"is_missing\": false}, {\"time\": 23.0, \"variable\": \"SW_IN\", \"value\": 0.0, \"is_missing\": false}, {\"time\": 24.0, \"variable\": \"SW_IN\", \"value\": 0.5699999928474426, \"is_missing\": false}, {\"time\": 25.0, \"variable\": \"SW_IN\", \"value\": 3.569999933242798, \"is_missing\": false}, {\"time\": 26.0, \"variable\": \"SW_IN\", \"value\": 8.670000076293945, \"is_missing\": false}, {\"time\": 27.0, \"variable\": \"SW_IN\", \"value\": 13.829999923706055, \"is_missing\": false}, {\"time\": 28.0, \"variable\": \"SW_IN\", \"value\": 26.579999923706055, \"is_missing\": false}, {\"time\": 29.0, \"variable\": \"SW_IN\", \"value\": 35.04999923706055, \"is_missing\": false}, {\"time\": 30.0, \"variable\": \"SW_IN\", \"value\": 31.549999237060547, \"is_missing\": false}, {\"time\": 31.0, \"variable\": \"SW_IN\", \"value\": 33.209999084472656, \"is_missing\": false}, {\"time\": 32.0, \"variable\": \"SW_IN\", \"value\": 38.689998626708984, \"is_missing\": false}, {\"time\": 33.0, \"variable\": \"SW_IN\", \"value\": 49.13999938964844, \"is_missing\": false}, {\"time\": 34.0, \"variable\": \"SW_IN\", \"value\": 45.31999969482422, \"is_missing\": false}, {\"time\": 35.0, \"variable\": \"SW_IN\", \"value\": 24.920000076293945, \"is_missing\": false}, {\"time\": 36.0, \"variable\": \"SW_IN\", \"value\": 26.200000762939453, \"is_missing\": false}, {\"time\": 37.0, \"variable\": \"SW_IN\", \"value\": 23.969999313354492, \"is_missing\": false}, {\"time\": 38.0, \"variable\": \"SW_IN\", \"value\": 22.440000534057617, \"is_missing\": false}, {\"time\": 39.0, \"variable\": \"SW_IN\", \"value\": 19.18000030517578, \"is_missing\": false}, {\"time\": 40.0, \"variable\": \"SW_IN\", \"value\": 10.130000114440918, \"is_missing\": false}, {\"time\": 41.0, \"variable\": \"SW_IN\", \"value\": 2.4200000762939453, \"is_missing\": false}, {\"time\": 42.0, \"variable\": \"SW_IN\", \"value\": 0.05999999865889549, \"is_missing\": false}, {\"time\": 43.0, \"variable\": \"SW_IN\", \"value\": 0.0, \"is_missing\": false}, {\"time\": 44.0, \"variable\": \"SW_IN\", \"value\": 0.0, \"is_missing\": false}, {\"time\": 45.0, \"variable\": \"SW_IN\", \"value\": 0.0, \"is_missing\": false}, {\"time\": 46.0, \"variable\": \"SW_IN\", \"value\": 0.0, \"is_missing\": false}, {\"time\": 47.0, \"variable\": \"SW_IN\", \"value\": 0.0, \"is_missing\": false}, {\"time\": 48.0, \"variable\": \"SW_IN\", \"value\": 0.0, \"is_missing\": false}, {\"time\": 49.0, \"variable\": \"SW_IN\", \"value\": 0.0, \"is_missing\": false}, {\"time\": 50.0, \"variable\": \"SW_IN\", \"value\": 0.0, \"is_missing\": false}, {\"time\": 51.0, \"variable\": \"SW_IN\", \"value\": 0.0, \"is_missing\": false}, {\"time\": 52.0, \"variable\": \"SW_IN\", \"value\": 0.0, \"is_missing\": false}, {\"time\": 53.0, \"variable\": \"SW_IN\", \"value\": 0.0, \"is_missing\": false}, {\"time\": 54.0, \"variable\": \"SW_IN\", \"value\": 0.0, \"is_missing\": false}, {\"time\": 55.0, \"variable\": \"SW_IN\", \"value\": 0.0, \"is_missing\": false}, {\"time\": 56.0, \"variable\": \"SW_IN\", \"value\": 0.0, \"is_missing\": true}, {\"time\": 57.0, \"variable\": \"SW_IN\", \"value\": 0.0, \"is_missing\": true}, {\"time\": 58.0, \"variable\": \"SW_IN\", \"value\": 0.0, \"is_missing\": true}, {\"time\": 59.0, \"variable\": \"SW_IN\", \"value\": 0.0, \"is_missing\": true}, {\"time\": 60.0, \"variable\": \"SW_IN\", \"value\": 0.0, \"is_missing\": true}, {\"time\": 61.0, \"variable\": \"SW_IN\", \"value\": 0.0, \"is_missing\": true}, {\"time\": 62.0, \"variable\": \"SW_IN\", \"value\": 0.0, \"is_missing\": true}, {\"time\": 63.0, \"variable\": \"SW_IN\", \"value\": 0.0, \"is_missing\": true}, {\"time\": 64.0, \"variable\": \"SW_IN\", \"value\": 0.0, \"is_missing\": true}, {\"time\": 65.0, \"variable\": \"SW_IN\", \"value\": 0.0, \"is_missing\": true}, {\"time\": 66.0, \"variable\": \"SW_IN\", \"value\": 0.0, \"is_missing\": true}, {\"time\": 67.0, \"variable\": \"SW_IN\", \"value\": 0.0, \"is_missing\": true}, {\"time\": 68.0, \"variable\": \"SW_IN\", \"value\": 0.0, \"is_missing\": true}, {\"time\": 69.0, \"variable\": \"SW_IN\", \"value\": 0.0, \"is_missing\": true}, {\"time\": 70.0, \"variable\": \"SW_IN\", \"value\": 0.0, \"is_missing\": true}, {\"time\": 71.0, \"variable\": \"SW_IN\", \"value\": 0.05999999865889549, \"is_missing\": true}, {\"time\": 72.0, \"variable\": \"SW_IN\", \"value\": 2.549999952316284, \"is_missing\": true}, {\"time\": 73.0, \"variable\": \"SW_IN\", \"value\": 7.010000228881836, \"is_missing\": true}, {\"time\": 74.0, \"variable\": \"SW_IN\", \"value\": 20.329999923706055, \"is_missing\": true}, {\"time\": 75.0, \"variable\": \"SW_IN\", \"value\": 38.18000030517578, \"is_missing\": true}, {\"time\": 76.0, \"variable\": \"SW_IN\", \"value\": 13.770000457763672, \"is_missing\": true}, {\"time\": 77.0, \"variable\": \"SW_IN\", \"value\": 21.989999771118164, \"is_missing\": true}, {\"time\": 78.0, \"variable\": \"SW_IN\", \"value\": 32.88999938964844, \"is_missing\": false}, {\"time\": 79.0, \"variable\": \"SW_IN\", \"value\": 39.709999084472656, \"is_missing\": false}, {\"time\": 80.0, \"variable\": \"SW_IN\", \"value\": 75.52999877929688, \"is_missing\": false}, {\"time\": 81.0, \"variable\": \"SW_IN\", \"value\": 163.6699981689453, \"is_missing\": false}, {\"time\": 82.0, \"variable\": \"SW_IN\", \"value\": 224.7899932861328, \"is_missing\": false}, {\"time\": 83.0, \"variable\": \"SW_IN\", \"value\": 196.94000244140625, \"is_missing\": false}, {\"time\": 84.0, \"variable\": \"SW_IN\", \"value\": 181.5800018310547, \"is_missing\": false}, {\"time\": 85.0, \"variable\": \"SW_IN\", \"value\": 130.94500732421875, \"is_missing\": false}, {\"time\": 86.0, \"variable\": \"SW_IN\", \"value\": 73.80999755859375, \"is_missing\": false}, {\"time\": 87.0, \"variable\": \"SW_IN\", \"value\": 71.44999694824219, \"is_missing\": false}, {\"time\": 88.0, \"variable\": \"SW_IN\", \"value\": 31.8700008392334, \"is_missing\": false}, {\"time\": 89.0, \"variable\": \"SW_IN\", \"value\": 4.590000152587891, \"is_missing\": false}, {\"time\": 90.0, \"variable\": \"SW_IN\", \"value\": 0.0, \"is_missing\": false}, {\"time\": 91.0, \"variable\": \"SW_IN\", \"value\": 0.0, \"is_missing\": false}, {\"time\": 92.0, \"variable\": \"SW_IN\", \"value\": 0.0, \"is_missing\": false}, {\"time\": 93.0, \"variable\": \"SW_IN\", \"value\": 0.0, \"is_missing\": false}, {\"time\": 94.0, \"variable\": \"SW_IN\", \"value\": 0.0, \"is_missing\": false}, {\"time\": 95.0, \"variable\": \"SW_IN\", \"value\": 0.0, \"is_missing\": false}, {\"time\": 96.0, \"variable\": \"SW_IN\", \"value\": 0.0, \"is_missing\": false}, {\"time\": 97.0, \"variable\": \"SW_IN\", \"value\": 0.0, \"is_missing\": false}, {\"time\": 98.0, \"variable\": \"SW_IN\", \"value\": 0.0, \"is_missing\": false}, {\"time\": 99.0, \"variable\": \"SW_IN\", \"value\": 0.0, \"is_missing\": false}, {\"time\": 100.0, \"variable\": \"SW_IN\", \"value\": 0.0, \"is_missing\": false}, {\"time\": 101.0, \"variable\": \"SW_IN\", \"value\": 0.0, \"is_missing\": false}, {\"time\": 102.0, \"variable\": \"SW_IN\", \"value\": 0.0, \"is_missing\": false}, {\"time\": 103.0, \"variable\": \"SW_IN\", \"value\": 0.0, \"is_missing\": false}, {\"time\": 104.0, \"variable\": \"SW_IN\", \"value\": 0.0, \"is_missing\": false}, {\"time\": 105.0, \"variable\": \"SW_IN\", \"value\": 0.0, \"is_missing\": false}, {\"time\": 106.0, \"variable\": \"SW_IN\", \"value\": 0.0, \"is_missing\": false}, {\"time\": 107.0, \"variable\": \"SW_IN\", \"value\": 0.0, \"is_missing\": false}, {\"time\": 108.0, \"variable\": \"SW_IN\", \"value\": 0.0, \"is_missing\": false}, {\"time\": 109.0, \"variable\": \"SW_IN\", \"value\": 0.0, \"is_missing\": false}, {\"time\": 110.0, \"variable\": \"SW_IN\", \"value\": 0.0, \"is_missing\": false}, {\"time\": 111.0, \"variable\": \"SW_IN\", \"value\": 0.0, \"is_missing\": false}, {\"time\": 112.0, \"variable\": \"SW_IN\", \"value\": 0.0, \"is_missing\": false}, {\"time\": 113.0, \"variable\": \"SW_IN\", \"value\": 0.0, \"is_missing\": false}, {\"time\": 114.0, \"variable\": \"SW_IN\", \"value\": 0.0, \"is_missing\": false}, {\"time\": 115.0, \"variable\": \"SW_IN\", \"value\": 0.0, \"is_missing\": false}, {\"time\": 116.0, \"variable\": \"SW_IN\", \"value\": 0.0, \"is_missing\": false}, {\"time\": 117.0, \"variable\": \"SW_IN\", \"value\": 0.0, \"is_missing\": false}, {\"time\": 118.0, \"variable\": \"SW_IN\", \"value\": 0.0, \"is_missing\": false}, {\"time\": 119.0, \"variable\": \"SW_IN\", \"value\": 0.0, \"is_missing\": false}, {\"time\": 120.0, \"variable\": \"SW_IN\", \"value\": 5.289999961853027, \"is_missing\": false}, {\"time\": 121.0, \"variable\": \"SW_IN\", \"value\": 26.1299991607666, \"is_missing\": false}, {\"time\": 122.0, \"variable\": \"SW_IN\", \"value\": 63.540000915527344, \"is_missing\": false}, {\"time\": 123.0, \"variable\": \"SW_IN\", \"value\": 122.87999725341797, \"is_missing\": false}, {\"time\": 124.0, \"variable\": \"SW_IN\", \"value\": 219.05999755859375, \"is_missing\": false}, {\"time\": 125.0, \"variable\": \"SW_IN\", \"value\": 142.25999450683594, \"is_missing\": false}, {\"time\": 126.0, \"variable\": \"SW_IN\", \"value\": 160.74000549316406, \"is_missing\": false}, {\"time\": 127.0, \"variable\": \"SW_IN\", \"value\": 182.9199981689453, \"is_missing\": false}, {\"time\": 128.0, \"variable\": \"SW_IN\", \"value\": 168.7100067138672, \"is_missing\": false}, {\"time\": 129.0, \"variable\": \"SW_IN\", \"value\": 176.47999572753906, \"is_missing\": false}, {\"time\": 130.0, \"variable\": \"SW_IN\", \"value\": 188.89999389648438, \"is_missing\": false}, {\"time\": 131.0, \"variable\": \"SW_IN\", \"value\": 231.91000366210938, \"is_missing\": false}, {\"time\": 132.0, \"variable\": \"SW_IN\", \"value\": 178.00999450683594, \"is_missing\": false}, {\"time\": 133.0, \"variable\": \"SW_IN\", \"value\": 141.11000061035156, \"is_missing\": false}, {\"time\": 134.0, \"variable\": \"SW_IN\", \"value\": 87.51000213623047, \"is_missing\": false}, {\"time\": 135.0, \"variable\": \"SW_IN\", \"value\": 53.349998474121094, \"is_missing\": false}, {\"time\": 136.0, \"variable\": \"SW_IN\", \"value\": 20.399999618530273, \"is_missing\": false}, {\"time\": 137.0, \"variable\": \"SW_IN\", \"value\": 3.440000057220459, \"is_missing\": false}, {\"time\": 138.0, \"variable\": \"SW_IN\", \"value\": 0.0, \"is_missing\": false}, {\"time\": 139.0, \"variable\": \"SW_IN\", \"value\": 0.0, \"is_missing\": false}, {\"time\": 140.0, \"variable\": \"SW_IN\", \"value\": 0.0, \"is_missing\": false}, {\"time\": 141.0, \"variable\": \"SW_IN\", \"value\": 0.0, \"is_missing\": false}, {\"time\": 142.0, \"variable\": \"SW_IN\", \"value\": 0.0, \"is_missing\": false}, {\"time\": 143.0, \"variable\": \"SW_IN\", \"value\": 0.0, \"is_missing\": false}, {\"time\": 144.0, \"variable\": \"SW_IN\", \"value\": 0.0, \"is_missing\": false}, {\"time\": 145.0, \"variable\": \"SW_IN\", \"value\": 0.0, \"is_missing\": false}, {\"time\": 146.0, \"variable\": \"SW_IN\", \"value\": 0.0, \"is_missing\": false}, {\"time\": 147.0, \"variable\": \"SW_IN\", \"value\": 0.0, \"is_missing\": false}, {\"time\": 148.0, \"variable\": \"SW_IN\", \"value\": 0.0, \"is_missing\": false}, {\"time\": 149.0, \"variable\": \"SW_IN\", \"value\": 0.0, \"is_missing\": false}, {\"time\": 150.0, \"variable\": \"SW_IN\", \"value\": 0.0, \"is_missing\": false}, {\"time\": 151.0, \"variable\": \"SW_IN\", \"value\": 0.0, \"is_missing\": false}, {\"time\": 152.0, \"variable\": \"SW_IN\", \"value\": 0.0, \"is_missing\": false}, {\"time\": 153.0, \"variable\": \"SW_IN\", \"value\": 0.0, \"is_missing\": false}, {\"time\": 154.0, \"variable\": \"SW_IN\", \"value\": 0.0, \"is_missing\": false}, {\"time\": 155.0, \"variable\": \"SW_IN\", \"value\": 0.0, \"is_missing\": false}, {\"time\": 156.0, \"variable\": \"SW_IN\", \"value\": 0.0, \"is_missing\": false}, {\"time\": 157.0, \"variable\": \"SW_IN\", \"value\": 0.0, \"is_missing\": false}, {\"time\": 158.0, \"variable\": \"SW_IN\", \"value\": 0.0, \"is_missing\": false}, {\"time\": 159.0, \"variable\": \"SW_IN\", \"value\": 0.0, \"is_missing\": false}, {\"time\": 160.0, \"variable\": \"SW_IN\", \"value\": 0.0, \"is_missing\": false}, {\"time\": 161.0, \"variable\": \"SW_IN\", \"value\": 0.0, \"is_missing\": false}, {\"time\": 162.0, \"variable\": \"SW_IN\", \"value\": 0.0, \"is_missing\": false}, {\"time\": 163.0, \"variable\": \"SW_IN\", \"value\": 0.0, \"is_missing\": false}, {\"time\": 164.0, \"variable\": \"SW_IN\", \"value\": 0.0, \"is_missing\": false}, {\"time\": 165.0, \"variable\": \"SW_IN\", \"value\": 0.0, \"is_missing\": false}, {\"time\": 166.0, \"variable\": \"SW_IN\", \"value\": 0.0, \"is_missing\": false}, {\"time\": 167.0, \"variable\": \"SW_IN\", \"value\": 0.0, \"is_missing\": false}, {\"time\": 168.0, \"variable\": \"SW_IN\", \"value\": 13.350000381469727, \"is_missing\": false}, {\"time\": 169.0, \"variable\": \"SW_IN\", \"value\": 54.63999938964844, \"is_missing\": false}, {\"time\": 170.0, \"variable\": \"SW_IN\", \"value\": 109.75, \"is_missing\": false}, {\"time\": 171.0, \"variable\": \"SW_IN\", \"value\": 161.6300048828125, \"is_missing\": false}, {\"time\": 172.0, \"variable\": \"SW_IN\", \"value\": 208.82000732421875, \"is_missing\": false}, {\"time\": 173.0, \"variable\": \"SW_IN\", \"value\": 247.82000732421875, \"is_missing\": false}, {\"time\": 174.0, \"variable\": \"SW_IN\", \"value\": 277.2699890136719, \"is_missing\": false}, {\"time\": 175.0, \"variable\": \"SW_IN\", \"value\": 296.9800109863281, \"is_missing\": false}, {\"time\": 176.0, \"variable\": \"SW_IN\", \"value\": 305.1700134277344, \"is_missing\": false}, {\"time\": 177.0, \"variable\": \"SW_IN\", \"value\": 302.0899963378906, \"is_missing\": false}, {\"time\": 178.0, \"variable\": \"SW_IN\", \"value\": 287.8599853515625, \"is_missing\": false}, {\"time\": 179.0, \"variable\": \"SW_IN\", \"value\": 262.8800048828125, \"is_missing\": false}, {\"time\": 180.0, \"variable\": \"SW_IN\", \"value\": 226.86000061035156, \"is_missing\": false}, {\"time\": 181.0, \"variable\": \"SW_IN\", \"value\": 184.0500030517578, \"is_missing\": false}, {\"time\": 182.0, \"variable\": \"SW_IN\", \"value\": 136.4499969482422, \"is_missing\": false}, {\"time\": 183.0, \"variable\": \"SW_IN\", \"value\": 86.76000213623047, \"is_missing\": false}, {\"time\": 184.0, \"variable\": \"SW_IN\", \"value\": 37.959999084472656, \"is_missing\": false}, {\"time\": 185.0, \"variable\": \"SW_IN\", \"value\": 10.029999732971191, \"is_missing\": false}, {\"time\": 186.0, \"variable\": \"SW_IN\", \"value\": 0.0, \"is_missing\": false}, {\"time\": 187.0, \"variable\": \"SW_IN\", \"value\": 0.0, \"is_missing\": false}, {\"time\": 188.0, \"variable\": \"SW_IN\", \"value\": 0.0, \"is_missing\": false}, {\"time\": 189.0, \"variable\": \"SW_IN\", \"value\": 0.0, \"is_missing\": false}, {\"time\": 190.0, \"variable\": \"SW_IN\", \"value\": 0.0, \"is_missing\": false}, {\"time\": 191.0, \"variable\": \"SW_IN\", \"value\": 0.0, \"is_missing\": false}, {\"time\": 192.0, \"variable\": \"SW_IN\", \"value\": 0.0, \"is_missing\": false}, {\"time\": 193.0, \"variable\": \"SW_IN\", \"value\": 0.0, \"is_missing\": false}, {\"time\": 194.0, \"variable\": \"SW_IN\", \"value\": 0.0, \"is_missing\": false}, {\"time\": 195.0, \"variable\": \"SW_IN\", \"value\": 0.0, \"is_missing\": false}, {\"time\": 196.0, \"variable\": \"SW_IN\", \"value\": 0.0, \"is_missing\": false}, {\"time\": 197.0, \"variable\": \"SW_IN\", \"value\": 0.0, \"is_missing\": false}, {\"time\": 198.0, \"variable\": \"SW_IN\", \"value\": 0.0, \"is_missing\": false}, {\"time\": 199.0, \"variable\": \"SW_IN\", \"value\": 0.0, \"is_missing\": false}], \"data-daabea7117dea11b73fa2b41b9e41345\": [{\"time\": 0, \"variable\": \"SW_IN\", \"mean\": 13.875001907348633, \"std\": 30.18990135192871}, {\"time\": 1, \"variable\": \"SW_IN\", \"mean\": 6.55877685546875, \"std\": 29.574748992919922}, {\"time\": 2, \"variable\": \"SW_IN\", \"mean\": 3.078601837158203, \"std\": 29.488391876220703}, {\"time\": 3, \"variable\": \"SW_IN\", \"mean\": 2.593639373779297, \"std\": 29.469812393188477}, {\"time\": 4, \"variable\": \"SW_IN\", \"mean\": 4.361614227294922, \"std\": 29.46354866027832}, {\"time\": 5, \"variable\": \"SW_IN\", \"mean\": 4.467994689941406, \"std\": 29.460996627807617}, {\"time\": 6, \"variable\": \"SW_IN\", \"mean\": 2.99481201171875, \"std\": 29.459917068481445}, {\"time\": 7, \"variable\": \"SW_IN\", \"mean\": -1.7359619140625, \"std\": 29.45945930480957}, {\"time\": 8, \"variable\": \"SW_IN\", \"mean\": -5.8238677978515625, \"std\": 29.459266662597656}, {\"time\": 9, \"variable\": \"SW_IN\", \"mean\": -6.985675811767578, \"std\": 29.459184646606445}, {\"time\": 10, \"variable\": \"SW_IN\", \"mean\": -9.846778869628906, \"std\": 29.45915412902832}, {\"time\": 11, \"variable\": \"SW_IN\", \"mean\": -10.999153137207031, \"std\": 29.459138870239258}, {\"time\": 12, \"variable\": \"SW_IN\", \"mean\": -10.258934020996094, \"std\": 29.459135055541992}, {\"time\": 13, \"variable\": \"SW_IN\", \"mean\": -9.03997802734375, \"std\": 29.459131240844727}, {\"time\": 14, \"variable\": \"SW_IN\", \"mean\": -7.1880035400390625, \"std\": 29.459131240844727}, {\"time\": 15, \"variable\": \"SW_IN\", \"mean\": -5.264087677001953, \"std\": 29.459131240844727}, {\"time\": 16, \"variable\": \"SW_IN\", \"mean\": -3.653106689453125, \"std\": 29.459131240844727}, {\"time\": 17, \"variable\": \"SW_IN\", \"mean\": -2.604686737060547, \"std\": 29.459131240844727}, {\"time\": 18, \"variable\": \"SW_IN\", \"mean\": -1.9002685546875, \"std\": 29.459131240844727}, {\"time\": 19, \"variable\": \"SW_IN\", \"mean\": -1.3215293884277344, \"std\": 29.459131240844727}, {\"time\": 20, \"variable\": \"SW_IN\", \"mean\": -0.5908241271972656, \"std\": 29.459131240844727}, {\"time\": 21, \"variable\": \"SW_IN\", \"mean\": 0.5578117370605469, \"std\": 29.459131240844727}, {\"time\": 22, \"variable\": \"SW_IN\", \"mean\": 1.4108657836914062, \"std\": 29.459131240844727}, {\"time\": 23, \"variable\": \"SW_IN\", \"mean\": 1.9314308166503906, \"std\": 29.459131240844727}, {\"time\": 24, \"variable\": \"SW_IN\", \"mean\": 2.5118942260742188, \"std\": 29.459131240844727}, {\"time\": 25, \"variable\": \"SW_IN\", \"mean\": 4.716148376464844, \"std\": 29.459131240844727}, {\"time\": 26, \"variable\": \"SW_IN\", \"mean\": 9.079683303833008, \"std\": 29.459131240844727}, {\"time\": 27, \"variable\": \"SW_IN\", \"mean\": 15.160400390625, \"std\": 29.459131240844727}, {\"time\": 28, \"variable\": \"SW_IN\", \"mean\": 23.86461639404297, \"std\": 29.459131240844727}, {\"time\": 29, \"variable\": \"SW_IN\", \"mean\": 30.219772338867188, \"std\": 29.459131240844727}, {\"time\": 30, \"variable\": \"SW_IN\", \"mean\": 31.72468376159668, \"std\": 29.459131240844727}, {\"time\": 31, \"variable\": \"SW_IN\", \"mean\": 34.13087463378906, \"std\": 29.459131240844727}, {\"time\": 32, \"variable\": \"SW_IN\", \"mean\": 38.21235656738281, \"std\": 29.459131240844727}, {\"time\": 33, \"variable\": \"SW_IN\", \"mean\": 42.41105270385742, \"std\": 29.459131240844727}, {\"time\": 34, \"variable\": \"SW_IN\", \"mean\": 39.35467529296875, \"std\": 29.459131240844727}, {\"time\": 35, \"variable\": \"SW_IN\", \"mean\": 29.807960510253906, \"std\": 29.459131240844727}, {\"time\": 36, \"variable\": \"SW_IN\", \"mean\": 26.52247428894043, \"std\": 29.45913314819336}, {\"time\": 37, \"variable\": \"SW_IN\", \"mean\": 23.837045669555664, \"std\": 29.45913314819336}, {\"time\": 38, \"variable\": \"SW_IN\", \"mean\": 21.183368682861328, \"std\": 29.459135055541992}, {\"time\": 39, \"variable\": \"SW_IN\", \"mean\": 17.163715362548828, \"std\": 29.459135055541992}, {\"time\": 40, \"variable\": \"SW_IN\", \"mean\": 10.721357345581055, \"std\": 29.459138870239258}, {\"time\": 41, \"variable\": \"SW_IN\", \"mean\": 4.957828521728516, \"std\": 29.459142684936523}, {\"time\": 42, \"variable\": \"SW_IN\", \"mean\": 1.9679298400878906, \"std\": 29.459148406982422}, {\"time\": 43, \"variable\": \"SW_IN\", \"mean\": 0.9163398742675781, \"std\": 29.45915985107422}, {\"time\": 44, \"variable\": \"SW_IN\", \"mean\": 0.6144027709960938, \"std\": 29.45917320251465}, {\"time\": 45, \"variable\": \"SW_IN\", \"mean\": 0.5689544677734375, \"std\": 29.459197998046875}, {\"time\": 46, \"variable\": \"SW_IN\", \"mean\": 0.5878372192382812, \"std\": 29.459238052368164}, {\"time\": 47, \"variable\": \"SW_IN\", \"mean\": 0.5860252380371094, \"std\": 29.459300994873047}, {\"time\": 48, \"variable\": \"SW_IN\", \"mean\": 0.5441360473632812, \"std\": 29.459413528442383}, {\"time\": 49, \"variable\": \"SW_IN\", \"mean\": 0.5597457885742188, \"std\": 29.459630966186523}, {\"time\": 50, \"variable\": \"SW_IN\", \"mean\": 0.7207298278808594, \"std\": 29.46009063720703}, {\"time\": 51, \"variable\": \"SW_IN\", \"mean\": 1.0094795227050781, \"std\": 29.46126365661621}, {\"time\": 52, \"variable\": \"SW_IN\", \"mean\": 1.3388175964355469, \"std\": 29.46546745300293}, {\"time\": 53, \"variable\": \"SW_IN\", \"mean\": 1.7719268798828125, \"std\": 29.48810386657715}, {\"time\": 54, \"variable\": \"SW_IN\", \"mean\": 2.4796829223632812, \"std\": 29.649330139160156}, {\"time\": 55, \"variable\": \"SW_IN\", \"mean\": 3.916889190673828, \"std\": 30.92339515686035}, {\"time\": 56, \"variable\": \"SW_IN\", \"mean\": 7.360469818115234, \"std\": 40.1278076171875}, {\"time\": 57, \"variable\": \"SW_IN\", \"mean\": 10.655281066894531, \"std\": 46.88589096069336}, {\"time\": 58, \"variable\": \"SW_IN\", \"mean\": 13.808687210083008, \"std\": 52.164886474609375}, {\"time\": 59, \"variable\": \"SW_IN\", \"mean\": 16.826759338378906, \"std\": 56.390281677246094}, {\"time\": 60, \"variable\": \"SW_IN\", \"mean\": 19.714441299438477, \"std\": 59.79510498046875}, {\"time\": 61, \"variable\": \"SW_IN\", \"mean\": 22.475351333618164, \"std\": 62.52323532104492}, {\"time\": 62, \"variable\": \"SW_IN\", \"mean\": 25.11194610595703, \"std\": 64.67022705078125}, {\"time\": 63, \"variable\": \"SW_IN\", \"mean\": 27.62537384033203, \"std\": 66.30238342285156}, {\"time\": 64, \"variable\": \"SW_IN\", \"mean\": 30.01559066772461, \"std\": 67.4666519165039}, {\"time\": 65, \"variable\": \"SW_IN\", \"mean\": 32.28129196166992, \"std\": 68.19608306884766}, {\"time\": 66, \"variable\": \"SW_IN\", \"mean\": 34.420108795166016, \"std\": 68.51289367675781}, {\"time\": 67, \"variable\": \"SW_IN\", \"mean\": 36.42776107788086, \"std\": 68.42997741699219}, {\"time\": 68, \"variable\": \"SW_IN\", \"mean\": 38.2993049621582, \"std\": 67.95193481445312}, {\"time\": 69, \"variable\": \"SW_IN\", \"mean\": 40.028465270996094, \"std\": 67.0747299194336}, {\"time\": 70, \"variable\": \"SW_IN\", \"mean\": 41.607276916503906, \"std\": 65.78450775146484}, {\"time\": 71, \"variable\": \"SW_IN\", \"mean\": 43.02693176269531, \"std\": 64.05635070800781}, {\"time\": 72, \"variable\": \"SW_IN\", \"mean\": 44.276893615722656, \"std\": 61.84999084472656}, {\"time\": 73, \"variable\": \"SW_IN\", \"mean\": 45.34516906738281, \"std\": 59.104713439941406}, {\"time\": 74, \"variable\": \"SW_IN\", \"mean\": 46.21924591064453, \"std\": 55.72924041748047}, {\"time\": 75, \"variable\": \"SW_IN\", \"mean\": 46.884788513183594, \"std\": 51.581626892089844}, {\"time\": 76, \"variable\": \"SW_IN\", \"mean\": 47.325836181640625, \"std\": 46.428253173828125}, {\"time\": 77, \"variable\": \"SW_IN\", \"mean\": 47.52530288696289, \"std\": 39.840641021728516}, {\"time\": 78, \"variable\": \"SW_IN\", \"mean\": 47.4651985168457, \"std\": 30.85221290588379}, {\"time\": 79, \"variable\": \"SW_IN\", \"mean\": 60.49868392944336, \"std\": 29.647136688232422}, {\"time\": 80, \"variable\": \"SW_IN\", \"mean\": 94.7534408569336, \"std\": 29.494287490844727}, {\"time\": 81, \"variable\": \"SW_IN\", \"mean\": 149.76766967773438, \"std\": 29.46947479248047}, {\"time\": 82, \"variable\": \"SW_IN\", \"mean\": 188.04380798339844, \"std\": 29.463090896606445}, {\"time\": 83, \"variable\": \"SW_IN\", \"mean\": 183.85182189941406, \"std\": 29.46076774597168}, {\"time\": 84, \"variable\": \"SW_IN\", \"mean\": 165.63604736328125, \"std\": 29.459815979003906}, {\"time\": 85, \"variable\": \"SW_IN\", \"mean\": 128.97686767578125, \"std\": 29.45941925048828}, {\"time\": 86, \"variable\": \"SW_IN\", \"mean\": 89.55276489257812, \"std\": 29.45924949645996}, {\"time\": 87, \"variable\": \"SW_IN\", \"mean\": 67.77605438232422, \"std\": 29.45918083190918}, {\"time\": 88, \"variable\": \"SW_IN\", \"mean\": 39.51593780517578, \"std\": 29.459148406982422}, {\"time\": 89, \"variable\": \"SW_IN\", \"mean\": 17.41840934753418, \"std\": 29.459138870239258}, {\"time\": 90, \"variable\": \"SW_IN\", \"mean\": 7.622964859008789, \"std\": 29.45913314819336}, {\"time\": 91, \"variable\": \"SW_IN\", \"mean\": 3.9602737426757812, \"std\": 29.459131240844727}, {\"time\": 92, \"variable\": \"SW_IN\", \"mean\": 2.5672607421875, \"std\": 29.459131240844727}, {\"time\": 93, \"variable\": \"SW_IN\", \"mean\": 1.9035797119140625, \"std\": 29.459131240844727}, {\"time\": 94, \"variable\": \"SW_IN\", \"mean\": 1.6353759765625, \"std\": 29.459131240844727}, {\"time\": 95, \"variable\": \"SW_IN\", \"mean\": 1.4822196960449219, \"std\": 29.459131240844727}, {\"time\": 96, \"variable\": \"SW_IN\", \"mean\": 1.3598594665527344, \"std\": 29.459131240844727}, {\"time\": 97, \"variable\": \"SW_IN\", \"mean\": 1.2560577392578125, \"std\": 29.459131240844727}, {\"time\": 98, \"variable\": \"SW_IN\", \"mean\": 1.2051849365234375, \"std\": 29.459131240844727}, {\"time\": 99, \"variable\": \"SW_IN\", \"mean\": 1.1951522827148438, \"std\": 29.459131240844727}, {\"time\": 100, \"variable\": \"SW_IN\", \"mean\": 1.1816177368164062, \"std\": 29.459131240844727}, {\"time\": 101, \"variable\": \"SW_IN\", \"mean\": 1.1451072692871094, \"std\": 29.459131240844727}, {\"time\": 102, \"variable\": \"SW_IN\", \"mean\": 1.2223014831542969, \"std\": 29.459131240844727}, {\"time\": 103, \"variable\": \"SW_IN\", \"mean\": 1.2908172607421875, \"std\": 29.459131240844727}, {\"time\": 104, \"variable\": \"SW_IN\", \"mean\": 1.3038063049316406, \"std\": 29.459131240844727}, {\"time\": 105, \"variable\": \"SW_IN\", \"mean\": 1.2505722045898438, \"std\": 29.459131240844727}, {\"time\": 106, \"variable\": \"SW_IN\", \"mean\": 1.17816162109375, \"std\": 29.459131240844727}, {\"time\": 107, \"variable\": \"SW_IN\", \"mean\": 1.1357955932617188, \"std\": 29.45912742614746}, {\"time\": 108, \"variable\": \"SW_IN\", \"mean\": 1.1886215209960938, \"std\": 29.459131240844727}, {\"time\": 109, \"variable\": \"SW_IN\", \"mean\": 1.2949905395507812, \"std\": 29.459131240844727}, {\"time\": 110, \"variable\": \"SW_IN\", \"mean\": 1.2623100280761719, \"std\": 29.459131240844727}, {\"time\": 111, \"variable\": \"SW_IN\", \"mean\": 1.158782958984375, \"std\": 29.459131240844727}, {\"time\": 112, \"variable\": \"SW_IN\", \"mean\": 1.0212669372558594, \"std\": 29.459131240844727}, {\"time\": 113, \"variable\": \"SW_IN\", \"mean\": 1.1012763977050781, \"std\": 29.459131240844727}, {\"time\": 114, \"variable\": \"SW_IN\", \"mean\": 1.3019371032714844, \"std\": 29.459131240844727}, {\"time\": 115, \"variable\": \"SW_IN\", \"mean\": 1.4406013488769531, \"std\": 29.459131240844727}, {\"time\": 116, \"variable\": \"SW_IN\", \"mean\": 1.7597122192382812, \"std\": 29.459131240844727}, {\"time\": 117, \"variable\": \"SW_IN\", \"mean\": 2.34136962890625, \"std\": 29.459131240844727}, {\"time\": 118, \"variable\": \"SW_IN\", \"mean\": 3.682025909423828, \"std\": 29.459131240844727}, {\"time\": 119, \"variable\": \"SW_IN\", \"mean\": 7.28656005859375, \"std\": 29.45912742614746}, {\"time\": 120, \"variable\": \"SW_IN\", \"mean\": 17.19566535949707, \"std\": 29.45912742614746}, {\"time\": 121, \"variable\": \"SW_IN\", \"mean\": 38.83183288574219, \"std\": 29.45912742614746}, {\"time\": 122, \"variable\": \"SW_IN\", \"mean\": 74.08766174316406, \"std\": 29.45912742614746}, {\"time\": 123, \"variable\": \"SW_IN\", \"mean\": 121.94818115234375, \"std\": 29.45912742614746}, {\"time\": 124, \"variable\": \"SW_IN\", \"mean\": 169.27008056640625, \"std\": 29.45912742614746}, {\"time\": 125, \"variable\": \"SW_IN\", \"mean\": 156.8776397705078, \"std\": 29.45912742614746}, {\"time\": 126, \"variable\": \"SW_IN\", \"mean\": 162.91949462890625, \"std\": 29.45912742614746}, {\"time\": 127, \"variable\": \"SW_IN\", \"mean\": 173.344970703125, \"std\": 29.45912742614746}, {\"time\": 128, \"variable\": \"SW_IN\", \"mean\": 173.2528533935547, \"std\": 29.45912742614746}, {\"time\": 129, \"variable\": \"SW_IN\", \"mean\": 179.02487182617188, \"std\": 29.45912742614746}, {\"time\": 130, \"variable\": \"SW_IN\", \"mean\": 188.54046630859375, \"std\": 29.45912742614746}, {\"time\": 131, \"variable\": \"SW_IN\", \"mean\": 198.91270446777344, \"std\": 29.45912742614746}, {\"time\": 132, \"variable\": \"SW_IN\", \"mean\": 171.4862823486328, \"std\": 29.45912742614746}, {\"time\": 133, \"variable\": \"SW_IN\", \"mean\": 136.297607421875, \"std\": 29.45912742614746}, {\"time\": 134, \"variable\": \"SW_IN\", \"mean\": 94.75454711914062, \"std\": 29.45912742614746}, {\"time\": 135, \"variable\": \"SW_IN\", \"mean\": 60.251487731933594, \"std\": 29.45912742614746}, {\"time\": 136, \"variable\": \"SW_IN\", \"mean\": 31.7455997467041, \"std\": 29.45912742614746}, {\"time\": 137, \"variable\": \"SW_IN\", \"mean\": 14.0123291015625, \"std\": 29.45912742614746}, {\"time\": 138, \"variable\": \"SW_IN\", \"mean\": 6.023475646972656, \"std\": 29.45912742614746}, {\"time\": 139, \"variable\": \"SW_IN\", \"mean\": 2.955638885498047, \"std\": 29.45912742614746}, {\"time\": 140, \"variable\": \"SW_IN\", \"mean\": 1.9266929626464844, \"std\": 29.45912742614746}, {\"time\": 141, \"variable\": \"SW_IN\", \"mean\": 1.5853462219238281, \"std\": 29.45912742614746}, {\"time\": 142, \"variable\": \"SW_IN\", \"mean\": 1.4051551818847656, \"std\": 29.45912742614746}, {\"time\": 143, \"variable\": \"SW_IN\", \"mean\": 1.3729286193847656, \"std\": 29.45912742614746}, {\"time\": 144, \"variable\": \"SW_IN\", \"mean\": 1.4819831848144531, \"std\": 29.45912742614746}, {\"time\": 145, \"variable\": \"SW_IN\", \"mean\": 1.5735130310058594, \"std\": 29.45912742614746}, {\"time\": 146, \"variable\": \"SW_IN\", \"mean\": 1.5747184753417969, \"std\": 29.45912742614746}, {\"time\": 147, \"variable\": \"SW_IN\", \"mean\": 1.6186141967773438, \"std\": 29.45912742614746}, {\"time\": 148, \"variable\": \"SW_IN\", \"mean\": 1.734405517578125, \"std\": 29.45912742614746}, {\"time\": 149, \"variable\": \"SW_IN\", \"mean\": 1.7405319213867188, \"std\": 29.45912742614746}, {\"time\": 150, \"variable\": \"SW_IN\", \"mean\": 1.4306983947753906, \"std\": 29.45912742614746}, {\"time\": 151, \"variable\": \"SW_IN\", \"mean\": 1.1843109130859375, \"std\": 29.45912742614746}, {\"time\": 152, \"variable\": \"SW_IN\", \"mean\": 1.1149559020996094, \"std\": 29.45912742614746}, {\"time\": 153, \"variable\": \"SW_IN\", \"mean\": 1.0878715515136719, \"std\": 29.45912742614746}, {\"time\": 154, \"variable\": \"SW_IN\", \"mean\": 1.2041816711425781, \"std\": 29.45912742614746}, {\"time\": 155, \"variable\": \"SW_IN\", \"mean\": 1.3116874694824219, \"std\": 29.45912742614746}, {\"time\": 156, \"variable\": \"SW_IN\", \"mean\": 1.4689216613769531, \"std\": 29.45912742614746}, {\"time\": 157, \"variable\": \"SW_IN\", \"mean\": 1.72003173828125, \"std\": 29.45912742614746}, {\"time\": 158, \"variable\": \"SW_IN\", \"mean\": 1.5800895690917969, \"std\": 29.45912742614746}, {\"time\": 159, \"variable\": \"SW_IN\", \"mean\": 1.4786033630371094, \"std\": 29.45912742614746}, {\"time\": 160, \"variable\": \"SW_IN\", \"mean\": 1.5344429016113281, \"std\": 29.45912742614746}, {\"time\": 161, \"variable\": \"SW_IN\", \"mean\": 1.6231842041015625, \"std\": 29.45912742614746}, {\"time\": 162, \"variable\": \"SW_IN\", \"mean\": 1.8594207763671875, \"std\": 29.45912742614746}, {\"time\": 163, \"variable\": \"SW_IN\", \"mean\": 1.5746078491210938, \"std\": 29.45912742614746}, {\"time\": 164, \"variable\": \"SW_IN\", \"mean\": 1.8677482604980469, \"std\": 29.45912742614746}, {\"time\": 165, \"variable\": \"SW_IN\", \"mean\": 2.8466567993164062, \"std\": 29.459131240844727}, {\"time\": 166, \"variable\": \"SW_IN\", \"mean\": 5.236961364746094, \"std\": 29.45912742614746}, {\"time\": 167, \"variable\": \"SW_IN\", \"mean\": 11.27823257446289, \"std\": 29.45912742614746}, {\"time\": 168, \"variable\": \"SW_IN\", \"mean\": 29.023887634277344, \"std\": 29.45912742614746}, {\"time\": 169, \"variable\": \"SW_IN\", \"mean\": 64.25598907470703, \"std\": 29.45912742614746}, {\"time\": 170, \"variable\": \"SW_IN\", \"mean\": 110.36073303222656, \"std\": 29.45912742614746}, {\"time\": 171, \"variable\": \"SW_IN\", \"mean\": 157.8851776123047, \"std\": 29.45912742614746}, {\"time\": 172, \"variable\": \"SW_IN\", \"mean\": 201.94386291503906, \"std\": 29.45912742614746}, {\"time\": 173, \"variable\": \"SW_IN\", \"mean\": 239.08082580566406, \"std\": 29.459131240844727}, {\"time\": 174, \"variable\": \"SW_IN\", \"mean\": 267.754638671875, \"std\": 29.459131240844727}, {\"time\": 175, \"variable\": \"SW_IN\", \"mean\": 286.81854248046875, \"std\": 29.459131240844727}, {\"time\": 176, \"variable\": \"SW_IN\", \"mean\": 295.175048828125, \"std\": 29.459131240844727}, {\"time\": 177, \"variable\": \"SW_IN\", \"mean\": 292.524658203125, \"std\": 29.459131240844727}, {\"time\": 178, \"variable\": \"SW_IN\", \"mean\": 279.4036865234375, \"std\": 29.459131240844727}, {\"time\": 179, \"variable\": \"SW_IN\", \"mean\": 256.1141357421875, \"std\": 29.459131240844727}, {\"time\": 180, \"variable\": \"SW_IN\", \"mean\": 223.08065795898438, \"std\": 29.459131240844727}, {\"time\": 181, \"variable\": \"SW_IN\", \"mean\": 183.11817932128906, \"std\": 29.45913314819336}, {\"time\": 182, \"variable\": \"SW_IN\", \"mean\": 139.32167053222656, \"std\": 29.459135055541992}, {\"time\": 183, \"variable\": \"SW_IN\", \"mean\": 94.9559326171875, \"std\": 29.459136962890625}, {\"time\": 184, \"variable\": \"SW_IN\", \"mean\": 54.058631896972656, \"std\": 29.459142684936523}, {\"time\": 185, \"variable\": \"SW_IN\", \"mean\": 25.439729690551758, \"std\": 29.459148406982422}, {\"time\": 186, \"variable\": \"SW_IN\", \"mean\": 9.971040725708008, \"std\": 29.459157943725586}, {\"time\": 187, \"variable\": \"SW_IN\", \"mean\": 4.266628265380859, \"std\": 29.45917320251465}, {\"time\": 188, \"variable\": \"SW_IN\", \"mean\": 2.23858642578125, \"std\": 29.45919418334961}, {\"time\": 189, \"variable\": \"SW_IN\", \"mean\": 2.3095855712890625, \"std\": 29.459226608276367}, {\"time\": 190, \"variable\": \"SW_IN\", \"mean\": 2.1556015014648438, \"std\": 29.459278106689453}, {\"time\": 191, \"variable\": \"SW_IN\", \"mean\": 1.2599639892578125, \"std\": 29.45935821533203}, {\"time\": 192, \"variable\": \"SW_IN\", \"mean\": 1.0145721435546875, \"std\": 29.459497451782227}, {\"time\": 193, \"variable\": \"SW_IN\", \"mean\": 0.7672882080078125, \"std\": 29.459749221801758}, {\"time\": 194, \"variable\": \"SW_IN\", \"mean\": 0.71636962890625, \"std\": 29.46026039123535}, {\"time\": 195, \"variable\": \"SW_IN\", \"mean\": 0.7058143615722656, \"std\": 29.461557388305664}, {\"time\": 196, \"variable\": \"SW_IN\", \"mean\": 0.3529396057128906, \"std\": 29.466344833374023}, {\"time\": 197, \"variable\": \"SW_IN\", \"mean\": 0.22541427612304688, \"std\": 29.493249893188477}, {\"time\": 198, \"variable\": \"SW_IN\", \"mean\": -1.2688751220703125, \"std\": 29.68927574157715}, {\"time\": 199, \"variable\": \"SW_IN\", \"mean\": -6.548789978027344, \"std\": 31.241867065429688}], \"data-80b3e1ce05080f9aca82e924a1b56937\": [{\"time\": 0.0, \"variable\": \"VPD\", \"value\": 2.6579999923706055, \"is_missing\": false}, {\"time\": 1.0, \"variable\": \"VPD\", \"value\": 2.4549999237060547, \"is_missing\": false}, {\"time\": 2.0, \"variable\": \"VPD\", \"value\": 2.319000005722046, \"is_missing\": false}, {\"time\": 3.0, \"variable\": \"VPD\", \"value\": 2.26200008392334, \"is_missing\": false}, {\"time\": 4.0, \"variable\": \"VPD\", \"value\": 2.3480000495910645, \"is_missing\": false}, {\"time\": 5.0, \"variable\": \"VPD\", \"value\": 2.2639999389648438, \"is_missing\": false}, {\"time\": 6.0, \"variable\": \"VPD\", \"value\": 2.130000114440918, \"is_missing\": false}, {\"time\": 7.0, \"variable\": \"VPD\", \"value\": 1.690999984741211, \"is_missing\": false}, {\"time\": 8.0, \"variable\": \"VPD\", \"value\": 1.2690000534057617, \"is_missing\": false}, {\"time\": 9.0, \"variable\": \"VPD\", \"value\": 1.093999981880188, \"is_missing\": false}, {\"time\": 10.0, \"variable\": \"VPD\", \"value\": 0.671999990940094, \"is_missing\": false}, {\"time\": 11.0, \"variable\": \"VPD\", \"value\": 0.39399999380111694, \"is_missing\": false}, {\"time\": 12.0, \"variable\": \"VPD\", \"value\": 0.24500000476837158, \"is_missing\": false}, {\"time\": 13.0, \"variable\": \"VPD\", \"value\": 0.10400000214576721, \"is_missing\": false}, {\"time\": 14.0, \"variable\": \"VPD\", \"value\": 0.041999999433755875, \"is_missing\": false}, {\"time\": 15.0, \"variable\": \"VPD\", \"value\": 0.028999999165534973, \"is_missing\": false}, {\"time\": 16.0, \"variable\": \"VPD\", \"value\": 0.032999999821186066, \"is_missing\": false}, {\"time\": 17.0, \"variable\": \"VPD\", \"value\": 0.032999999821186066, \"is_missing\": false}, {\"time\": 18.0, \"variable\": \"VPD\", \"value\": 0.032999999821186066, \"is_missing\": false}, {\"time\": 19.0, \"variable\": \"VPD\", \"value\": 0.032999999821186066, \"is_missing\": false}, {\"time\": 20.0, \"variable\": \"VPD\", \"value\": 0.04600000008940697, \"is_missing\": false}, {\"time\": 21.0, \"variable\": \"VPD\", \"value\": 0.10300000011920929, \"is_missing\": false}, {\"time\": 22.0, \"variable\": \"VPD\", \"value\": 0.1379999965429306, \"is_missing\": false}, {\"time\": 23.0, \"variable\": \"VPD\", \"value\": 0.1469999998807907, \"is_missing\": false}, {\"time\": 24.0, \"variable\": \"VPD\", \"value\": 0.10300000011920929, \"is_missing\": false}, {\"time\": 25.0, \"variable\": \"VPD\", \"value\": 0.05299999937415123, \"is_missing\": false}, {\"time\": 26.0, \"variable\": \"VPD\", \"value\": 0.027000000700354576, \"is_missing\": false}, {\"time\": 27.0, \"variable\": \"VPD\", \"value\": 0.023000000044703484, \"is_missing\": false}, {\"time\": 28.0, \"variable\": \"VPD\", \"value\": 0.023000000044703484, \"is_missing\": false}, {\"time\": 29.0, \"variable\": \"VPD\", \"value\": 0.01899999938905239, \"is_missing\": false}, {\"time\": 30.0, \"variable\": \"VPD\", \"value\": 0.017000000923871994, \"is_missing\": false}, {\"time\": 31.0, \"variable\": \"VPD\", \"value\": 0.017000000923871994, \"is_missing\": false}, {\"time\": 32.0, \"variable\": \"VPD\", \"value\": 0.017000000923871994, \"is_missing\": false}, {\"time\": 33.0, \"variable\": \"VPD\", \"value\": 0.017000000923871994, \"is_missing\": false}, {\"time\": 34.0, \"variable\": \"VPD\", \"value\": 0.017000000923871994, \"is_missing\": false}, {\"time\": 35.0, \"variable\": \"VPD\", \"value\": 0.017000000923871994, \"is_missing\": false}, {\"time\": 36.0, \"variable\": \"VPD\", \"value\": 0.017999999225139618, \"is_missing\": false}, {\"time\": 37.0, \"variable\": \"VPD\", \"value\": 0.017999999225139618, \"is_missing\": false}, {\"time\": 38.0, \"variable\": \"VPD\", \"value\": 0.017999999225139618, \"is_missing\": false}, {\"time\": 39.0, \"variable\": \"VPD\", \"value\": 0.017999999225139618, \"is_missing\": false}, {\"time\": 40.0, \"variable\": \"VPD\", \"value\": 0.012000000104308128, \"is_missing\": false}, {\"time\": 41.0, \"variable\": \"VPD\", \"value\": 0.012000000104308128, \"is_missing\": false}, {\"time\": 42.0, \"variable\": \"VPD\", \"value\": 0.012000000104308128, \"is_missing\": false}, {\"time\": 43.0, \"variable\": \"VPD\", \"value\": 0.012000000104308128, \"is_missing\": false}, {\"time\": 44.0, \"variable\": \"VPD\", \"value\": 0.012000000104308128, \"is_missing\": false}, {\"time\": 45.0, \"variable\": \"VPD\", \"value\": 0.012000000104308128, \"is_missing\": false}, {\"time\": 46.0, \"variable\": \"VPD\", \"value\": 0.009999999776482582, \"is_missing\": false}, {\"time\": 47.0, \"variable\": \"VPD\", \"value\": 0.012000000104308128, \"is_missing\": false}, {\"time\": 48.0, \"variable\": \"VPD\", \"value\": 0.012000000104308128, \"is_missing\": false}, {\"time\": 49.0, \"variable\": \"VPD\", \"value\": 0.012000000104308128, \"is_missing\": false}, {\"time\": 50.0, \"variable\": \"VPD\", \"value\": 0.013000000268220901, \"is_missing\": false}, {\"time\": 51.0, \"variable\": \"VPD\", \"value\": 0.017000000923871994, \"is_missing\": false}, {\"time\": 52.0, \"variable\": \"VPD\", \"value\": 0.017000000923871994, \"is_missing\": false}, {\"time\": 53.0, \"variable\": \"VPD\", \"value\": 0.017000000923871994, \"is_missing\": false}, {\"time\": 54.0, \"variable\": \"VPD\", \"value\": 0.017000000923871994, \"is_missing\": false}, {\"time\": 55.0, \"variable\": \"VPD\", \"value\": 0.017000000923871994, \"is_missing\": false}, {\"time\": 56.0, \"variable\": \"VPD\", \"value\": 0.017000000923871994, \"is_missing\": true}, {\"time\": 57.0, \"variable\": \"VPD\", \"value\": 0.020999999716877937, \"is_missing\": true}, {\"time\": 58.0, \"variable\": \"VPD\", \"value\": 0.023000000044703484, \"is_missing\": true}, {\"time\": 59.0, \"variable\": \"VPD\", \"value\": 0.027000000700354576, \"is_missing\": true}, {\"time\": 60.0, \"variable\": \"VPD\", \"value\": 0.02800000086426735, \"is_missing\": true}, {\"time\": 61.0, \"variable\": \"VPD\", \"value\": 0.02800000086426735, \"is_missing\": true}, {\"time\": 62.0, \"variable\": \"VPD\", \"value\": 0.027000000700354576, \"is_missing\": true}, {\"time\": 63.0, \"variable\": \"VPD\", \"value\": 0.024000000208616257, \"is_missing\": true}, {\"time\": 64.0, \"variable\": \"VPD\", \"value\": 0.03200000151991844, \"is_missing\": true}, {\"time\": 65.0, \"variable\": \"VPD\", \"value\": 0.04600000008940697, \"is_missing\": true}, {\"time\": 66.0, \"variable\": \"VPD\", \"value\": 0.057999998331069946, \"is_missing\": true}, {\"time\": 67.0, \"variable\": \"VPD\", \"value\": 0.07500000298023224, \"is_missing\": true}, {\"time\": 68.0, \"variable\": \"VPD\", \"value\": 0.09600000083446503, \"is_missing\": true}, {\"time\": 69.0, \"variable\": \"VPD\", \"value\": 0.10000000149011612, \"is_missing\": true}, {\"time\": 70.0, \"variable\": \"VPD\", \"value\": 0.10499999672174454, \"is_missing\": true}, {\"time\": 71.0, \"variable\": \"VPD\", \"value\": 0.11500000208616257, \"is_missing\": true}, {\"time\": 72.0, \"variable\": \"VPD\", \"value\": 0.12200000137090683, \"is_missing\": true}, {\"time\": 73.0, \"variable\": \"VPD\", \"value\": 0.12600000202655792, \"is_missing\": true}, {\"time\": 74.0, \"variable\": \"VPD\", \"value\": 0.12999999523162842, \"is_missing\": true}, {\"time\": 75.0, \"variable\": \"VPD\", \"value\": 0.13699999451637268, \"is_missing\": true}, {\"time\": 76.0, \"variable\": \"VPD\", \"value\": 0.14499999582767487, \"is_missing\": true}, {\"time\": 77.0, \"variable\": \"VPD\", \"value\": 0.1469999998807907, \"is_missing\": true}, {\"time\": 78.0, \"variable\": \"VPD\", \"value\": 0.14900000393390656, \"is_missing\": false}, {\"time\": 79.0, \"variable\": \"VPD\", \"value\": 0.15199999511241913, \"is_missing\": false}, {\"time\": 80.0, \"variable\": \"VPD\", \"value\": 0.1599999964237213, \"is_missing\": false}, {\"time\": 81.0, \"variable\": \"VPD\", \"value\": 0.16899999976158142, \"is_missing\": false}, {\"time\": 82.0, \"variable\": \"VPD\", \"value\": 0.16899999976158142, \"is_missing\": false}, {\"time\": 83.0, \"variable\": \"VPD\", \"value\": 0.17599999904632568, \"is_missing\": false}, {\"time\": 84.0, \"variable\": \"VPD\", \"value\": 0.17399999499320984, \"is_missing\": false}, {\"time\": 85.0, \"variable\": \"VPD\", \"value\": 0.1770000010728836, \"is_missing\": false}, {\"time\": 86.0, \"variable\": \"VPD\", \"value\": 0.17900000512599945, \"is_missing\": false}, {\"time\": 87.0, \"variable\": \"VPD\", \"value\": 0.1809999942779541, \"is_missing\": false}, {\"time\": 88.0, \"variable\": \"VPD\", \"value\": 0.18299999833106995, \"is_missing\": false}, {\"time\": 89.0, \"variable\": \"VPD\", \"value\": 0.18400000035762787, \"is_missing\": false}, {\"time\": 90.0, \"variable\": \"VPD\", \"value\": 0.18400000035762787, \"is_missing\": false}, {\"time\": 91.0, \"variable\": \"VPD\", \"value\": 0.1850000023841858, \"is_missing\": false}, {\"time\": 92.0, \"variable\": \"VPD\", \"value\": 0.1899999976158142, \"is_missing\": false}, {\"time\": 93.0, \"variable\": \"VPD\", \"value\": 0.1899999976158142, \"is_missing\": false}, {\"time\": 94.0, \"variable\": \"VPD\", \"value\": 0.19099999964237213, \"is_missing\": false}, {\"time\": 95.0, \"variable\": \"VPD\", \"value\": 0.19200000166893005, \"is_missing\": false}, {\"time\": 96.0, \"variable\": \"VPD\", \"value\": 0.1899999976158142, \"is_missing\": false}, {\"time\": 97.0, \"variable\": \"VPD\", \"value\": 0.18799999356269836, \"is_missing\": false}, {\"time\": 98.0, \"variable\": \"VPD\", \"value\": 0.1899999976158142, \"is_missing\": false}, {\"time\": 99.0, \"variable\": \"VPD\", \"value\": 0.1899999976158142, \"is_missing\": false}, {\"time\": 100.0, \"variable\": \"VPD\", \"value\": 0.19099999964237213, \"is_missing\": false}, {\"time\": 101.0, \"variable\": \"VPD\", \"value\": 0.18799999356269836, \"is_missing\": false}, {\"time\": 102.0, \"variable\": \"VPD\", \"value\": 0.1889999955892563, \"is_missing\": false}, {\"time\": 103.0, \"variable\": \"VPD\", \"value\": 0.1899999976158142, \"is_missing\": false}, {\"time\": 104.0, \"variable\": \"VPD\", \"value\": 0.19099999964237213, \"is_missing\": false}, {\"time\": 105.0, \"variable\": \"VPD\", \"value\": 0.19200000166893005, \"is_missing\": false}, {\"time\": 106.0, \"variable\": \"VPD\", \"value\": 0.19300000369548798, \"is_missing\": false}, {\"time\": 107.0, \"variable\": \"VPD\", \"value\": 0.1940000057220459, \"is_missing\": false}, {\"time\": 108.0, \"variable\": \"VPD\", \"value\": 0.19200000166893005, \"is_missing\": false}, {\"time\": 109.0, \"variable\": \"VPD\", \"value\": 0.19300000369548798, \"is_missing\": false}, {\"time\": 110.0, \"variable\": \"VPD\", \"value\": 0.19200000166893005, \"is_missing\": false}, {\"time\": 111.0, \"variable\": \"VPD\", \"value\": 0.19900000095367432, \"is_missing\": false}, {\"time\": 112.0, \"variable\": \"VPD\", \"value\": 0.19699999690055847, \"is_missing\": false}, {\"time\": 113.0, \"variable\": \"VPD\", \"value\": 0.19499999284744263, \"is_missing\": false}, {\"time\": 114.0, \"variable\": \"VPD\", \"value\": 0.19599999487400055, \"is_missing\": false}, {\"time\": 115.0, \"variable\": \"VPD\", \"value\": 0.19599999487400055, \"is_missing\": false}, {\"time\": 116.0, \"variable\": \"VPD\", \"value\": 0.1940000057220459, \"is_missing\": false}, {\"time\": 117.0, \"variable\": \"VPD\", \"value\": 0.19699999690055847, \"is_missing\": false}, {\"time\": 118.0, \"variable\": \"VPD\", \"value\": 0.19599999487400055, \"is_missing\": false}, {\"time\": 119.0, \"variable\": \"VPD\", \"value\": 0.1979999989271164, \"is_missing\": false}, {\"time\": 120.0, \"variable\": \"VPD\", \"value\": 0.20399999618530273, \"is_missing\": false}, {\"time\": 121.0, \"variable\": \"VPD\", \"value\": 0.20800000429153442, \"is_missing\": false}, {\"time\": 122.0, \"variable\": \"VPD\", \"value\": 0.20200000703334808, \"is_missing\": false}, {\"time\": 123.0, \"variable\": \"VPD\", \"value\": 0.20200000703334808, \"is_missing\": false}, {\"time\": 124.0, \"variable\": \"VPD\", \"value\": 0.22300000488758087, \"is_missing\": false}, {\"time\": 125.0, \"variable\": \"VPD\", \"value\": 0.22200000286102295, \"is_missing\": false}, {\"time\": 126.0, \"variable\": \"VPD\", \"value\": 0.2029999941587448, \"is_missing\": false}, {\"time\": 127.0, \"variable\": \"VPD\", \"value\": 0.20000000298023224, \"is_missing\": false}, {\"time\": 128.0, \"variable\": \"VPD\", \"value\": 0.20499999821186066, \"is_missing\": false}, {\"time\": 129.0, \"variable\": \"VPD\", \"value\": 0.2070000022649765, \"is_missing\": false}, {\"time\": 130.0, \"variable\": \"VPD\", \"value\": 0.210999995470047, \"is_missing\": false}, {\"time\": 131.0, \"variable\": \"VPD\", \"value\": 0.19699999690055847, \"is_missing\": false}, {\"time\": 132.0, \"variable\": \"VPD\", \"value\": 0.20600000023841858, \"is_missing\": false}, {\"time\": 133.0, \"variable\": \"VPD\", \"value\": 0.20100000500679016, \"is_missing\": false}, {\"time\": 134.0, \"variable\": \"VPD\", \"value\": 0.20200000703334808, \"is_missing\": false}, {\"time\": 135.0, \"variable\": \"VPD\", \"value\": 0.20000000298023224, \"is_missing\": false}, {\"time\": 136.0, \"variable\": \"VPD\", \"value\": 0.19499999284744263, \"is_missing\": false}, {\"time\": 137.0, \"variable\": \"VPD\", \"value\": 0.19699999690055847, \"is_missing\": false}, {\"time\": 138.0, \"variable\": \"VPD\", \"value\": 0.20200000703334808, \"is_missing\": false}, {\"time\": 139.0, \"variable\": \"VPD\", \"value\": 0.19300000369548798, \"is_missing\": false}, {\"time\": 140.0, \"variable\": \"VPD\", \"value\": 0.19200000166893005, \"is_missing\": false}, {\"time\": 141.0, \"variable\": \"VPD\", \"value\": 0.1979999989271164, \"is_missing\": false}, {\"time\": 142.0, \"variable\": \"VPD\", \"value\": 0.19499999284744263, \"is_missing\": false}, {\"time\": 143.0, \"variable\": \"VPD\", \"value\": 0.19599999487400055, \"is_missing\": false}, {\"time\": 144.0, \"variable\": \"VPD\", \"value\": 0.1940000057220459, \"is_missing\": false}, {\"time\": 145.0, \"variable\": \"VPD\", \"value\": 0.19699999690055847, \"is_missing\": false}, {\"time\": 146.0, \"variable\": \"VPD\", \"value\": 0.19499999284744263, \"is_missing\": false}, {\"time\": 147.0, \"variable\": \"VPD\", \"value\": 0.1899999976158142, \"is_missing\": false}, {\"time\": 148.0, \"variable\": \"VPD\", \"value\": 0.19099999964237213, \"is_missing\": false}, {\"time\": 149.0, \"variable\": \"VPD\", \"value\": 0.20600000023841858, \"is_missing\": false}, {\"time\": 150.0, \"variable\": \"VPD\", \"value\": 0.20200000703334808, \"is_missing\": false}, {\"time\": 151.0, \"variable\": \"VPD\", \"value\": 0.19599999487400055, \"is_missing\": false}, {\"time\": 152.0, \"variable\": \"VPD\", \"value\": 0.1979999989271164, \"is_missing\": false}, {\"time\": 153.0, \"variable\": \"VPD\", \"value\": 0.1940000057220459, \"is_missing\": false}, {\"time\": 154.0, \"variable\": \"VPD\", \"value\": 0.19599999487400055, \"is_missing\": false}, {\"time\": 155.0, \"variable\": \"VPD\", \"value\": 0.20000000298023224, \"is_missing\": false}, {\"time\": 156.0, \"variable\": \"VPD\", \"value\": 0.1979999989271164, \"is_missing\": false}, {\"time\": 157.0, \"variable\": \"VPD\", \"value\": 0.20800000429153442, \"is_missing\": false}, {\"time\": 158.0, \"variable\": \"VPD\", \"value\": 0.21299999952316284, \"is_missing\": false}, {\"time\": 159.0, \"variable\": \"VPD\", \"value\": 0.2070000022649765, \"is_missing\": false}, {\"time\": 160.0, \"variable\": \"VPD\", \"value\": 0.21199999749660492, \"is_missing\": false}, {\"time\": 161.0, \"variable\": \"VPD\", \"value\": 0.20900000631809235, \"is_missing\": false}, {\"time\": 162.0, \"variable\": \"VPD\", \"value\": 0.22200000286102295, \"is_missing\": false}, {\"time\": 163.0, \"variable\": \"VPD\", \"value\": 0.20800000429153442, \"is_missing\": false}, {\"time\": 164.0, \"variable\": \"VPD\", \"value\": 0.21199999749660492, \"is_missing\": false}, {\"time\": 165.0, \"variable\": \"VPD\", \"value\": 0.21299999952316284, \"is_missing\": false}, {\"time\": 166.0, \"variable\": \"VPD\", \"value\": 0.22499999403953552, \"is_missing\": false}, {\"time\": 167.0, \"variable\": \"VPD\", \"value\": 0.21899999678134918, \"is_missing\": false}, {\"time\": 168.0, \"variable\": \"VPD\", \"value\": 0.22100000083446503, \"is_missing\": false}, {\"time\": 169.0, \"variable\": \"VPD\", \"value\": 0.23499999940395355, \"is_missing\": false}, {\"time\": 170.0, \"variable\": \"VPD\", \"value\": 0.23999999463558197, \"is_missing\": false}, {\"time\": 171.0, \"variable\": \"VPD\", \"value\": 0.2540000081062317, \"is_missing\": false}, {\"time\": 172.0, \"variable\": \"VPD\", \"value\": 0.2750000059604645, \"is_missing\": false}, {\"time\": 173.0, \"variable\": \"VPD\", \"value\": 0.3009999990463257, \"is_missing\": false}, {\"time\": 174.0, \"variable\": \"VPD\", \"value\": 0.34700000286102295, \"is_missing\": false}, {\"time\": 175.0, \"variable\": \"VPD\", \"value\": 0.3930000066757202, \"is_missing\": false}, {\"time\": 176.0, \"variable\": \"VPD\", \"value\": 0.43799999356269836, \"is_missing\": false}, {\"time\": 177.0, \"variable\": \"VPD\", \"value\": 0.4819999933242798, \"is_missing\": false}, {\"time\": 178.0, \"variable\": \"VPD\", \"value\": 0.5440000295639038, \"is_missing\": false}, {\"time\": 179.0, \"variable\": \"VPD\", \"value\": 0.6039999723434448, \"is_missing\": false}, {\"time\": 180.0, \"variable\": \"VPD\", \"value\": 0.6480000019073486, \"is_missing\": false}, {\"time\": 181.0, \"variable\": \"VPD\", \"value\": 0.6660000085830688, \"is_missing\": false}, {\"time\": 182.0, \"variable\": \"VPD\", \"value\": 0.7070000171661377, \"is_missing\": false}, {\"time\": 183.0, \"variable\": \"VPD\", \"value\": 0.7630000114440918, \"is_missing\": false}, {\"time\": 184.0, \"variable\": \"VPD\", \"value\": 0.777999997138977, \"is_missing\": false}, {\"time\": 185.0, \"variable\": \"VPD\", \"value\": 0.7350000143051147, \"is_missing\": false}, {\"time\": 186.0, \"variable\": \"VPD\", \"value\": 0.6539999842643738, \"is_missing\": false}, {\"time\": 187.0, \"variable\": \"VPD\", \"value\": 0.625, \"is_missing\": false}, {\"time\": 188.0, \"variable\": \"VPD\", \"value\": 0.593999981880188, \"is_missing\": false}, {\"time\": 189.0, \"variable\": \"VPD\", \"value\": 0.6439999938011169, \"is_missing\": false}, {\"time\": 190.0, \"variable\": \"VPD\", \"value\": 0.6470000147819519, \"is_missing\": false}, {\"time\": 191.0, \"variable\": \"VPD\", \"value\": 0.5839999914169312, \"is_missing\": false}, {\"time\": 192.0, \"variable\": \"VPD\", \"value\": 0.5799999833106995, \"is_missing\": false}, {\"time\": 193.0, \"variable\": \"VPD\", \"value\": 0.5619999766349792, \"is_missing\": false}, {\"time\": 194.0, \"variable\": \"VPD\", \"value\": 0.5600000023841858, \"is_missing\": false}, {\"time\": 195.0, \"variable\": \"VPD\", \"value\": 0.5680000185966492, \"is_missing\": false}, {\"time\": 196.0, \"variable\": \"VPD\", \"value\": 0.5509999990463257, \"is_missing\": false}, {\"time\": 197.0, \"variable\": \"VPD\", \"value\": 0.5849999785423279, \"is_missing\": false}, {\"time\": 198.0, \"variable\": \"VPD\", \"value\": 0.5989999771118164, \"is_missing\": false}, {\"time\": 199.0, \"variable\": \"VPD\", \"value\": 0.578000009059906, \"is_missing\": false}], \"data-dab037846c54d967bbf1f754300135a7\": [{\"time\": 0, \"variable\": \"VPD\", \"mean\": 2.3879172801971436, \"std\": 0.17447909712791443}, {\"time\": 1, \"variable\": \"VPD\", \"mean\": 2.334528684616089, \"std\": 0.1693878322839737}, {\"time\": 2, \"variable\": \"VPD\", \"mean\": 2.2656373977661133, \"std\": 0.16738533973693848}, {\"time\": 3, \"variable\": \"VPD\", \"mean\": 2.1938862800598145, \"std\": 0.16656897962093353}, {\"time\": 4, \"variable\": \"VPD\", \"mean\": 2.1158902645111084, \"std\": 0.16622832417488098}, {\"time\": 5, \"variable\": \"VPD\", \"mean\": 1.9937288761138916, \"std\": 0.16608284413814545}, {\"time\": 6, \"variable\": \"VPD\", \"mean\": 1.819293737411499, \"std\": 0.16601884365081787}, {\"time\": 7, \"variable\": \"VPD\", \"mean\": 1.5813565254211426, \"std\": 0.16598953306674957}, {\"time\": 8, \"variable\": \"VPD\", \"mean\": 1.3234877586364746, \"std\": 0.16597534716129303}, {\"time\": 9, \"variable\": \"VPD\", \"mean\": 1.080960750579834, \"std\": 0.16596804559230804}, {\"time\": 10, \"variable\": \"VPD\", \"mean\": 0.8330742120742798, \"std\": 0.1659640073776245}, {\"time\": 11, \"variable\": \"VPD\", \"mean\": 0.6178879141807556, \"std\": 0.1659616380929947}, {\"time\": 12, \"variable\": \"VPD\", \"mean\": 0.44787725806236267, \"std\": 0.16596020758152008}, {\"time\": 13, \"variable\": \"VPD\", \"mean\": 0.31633153557777405, \"std\": 0.16595926880836487}, {\"time\": 14, \"variable\": \"VPD\", \"mean\": 0.22472308576107025, \"std\": 0.16595865786075592}, {\"time\": 15, \"variable\": \"VPD\", \"mean\": 0.1657976359128952, \"std\": 0.1659582555294037}, {\"time\": 16, \"variable\": \"VPD\", \"mean\": 0.12980370223522186, \"std\": 0.1659580022096634}, {\"time\": 17, \"variable\": \"VPD\", \"mean\": 0.10828617215156555, \"std\": 0.16595780849456787}, {\"time\": 18, \"variable\": \"VPD\", \"mean\": 0.09700104594230652, \"std\": 0.16595768928527832}, {\"time\": 19, \"variable\": \"VPD\", \"mean\": 0.09384427964687347, \"std\": 0.16595759987831116}, {\"time\": 20, \"variable\": \"VPD\", \"mean\": 0.09842008352279663, \"std\": 0.16595755517482758}, {\"time\": 21, \"variable\": \"VPD\", \"mean\": 0.10933145880699158, \"std\": 0.1659575253725052}, {\"time\": 22, \"variable\": \"VPD\", \"mean\": 0.11627985537052155, \"std\": 0.165957510471344}, {\"time\": 23, \"variable\": \"VPD\", \"mean\": 0.11345183849334717, \"std\": 0.1659574806690216}, {\"time\": 24, \"variable\": \"VPD\", \"mean\": 0.09888327121734619, \"std\": 0.1659574657678604}, {\"time\": 25, \"variable\": \"VPD\", \"mean\": 0.08070802688598633, \"std\": 0.1659574657678604}, {\"time\": 26, \"variable\": \"VPD\", \"mean\": 0.0664294958114624, \"std\": 0.1659574657678604}, {\"time\": 27, \"variable\": \"VPD\", \"mean\": 0.05815282464027405, \"std\": 0.16595745086669922}, {\"time\": 28, \"variable\": \"VPD\", \"mean\": 0.056777775287628174, \"std\": 0.16595745086669922}, {\"time\": 29, \"variable\": \"VPD\", \"mean\": 0.05549594759941101, \"std\": 0.16595745086669922}, {\"time\": 30, \"variable\": \"VPD\", \"mean\": 0.050804316997528076, \"std\": 0.16595745086669922}, {\"time\": 31, \"variable\": \"VPD\", \"mean\": 0.0492095947265625, \"std\": 0.16595745086669922}, {\"time\": 32, \"variable\": \"VPD\", \"mean\": 0.05166962742805481, \"std\": 0.16595745086669922}, {\"time\": 33, \"variable\": \"VPD\", \"mean\": 0.056950151920318604, \"std\": 0.16595745086669922}, {\"time\": 34, \"variable\": \"VPD\", \"mean\": 0.05563247203826904, \"std\": 0.16595745086669922}, {\"time\": 35, \"variable\": \"VPD\", \"mean\": 0.04709208011627197, \"std\": 0.16595745086669922}, {\"time\": 36, \"variable\": \"VPD\", \"mean\": 0.046741783618927, \"std\": 0.1659574657678604}, {\"time\": 37, \"variable\": \"VPD\", \"mean\": 0.04728966951370239, \"std\": 0.1659574657678604}, {\"time\": 38, \"variable\": \"VPD\", \"mean\": 0.048116594552993774, \"std\": 0.1659574806690216}, {\"time\": 39, \"variable\": \"VPD\", \"mean\": 0.04730227589607239, \"std\": 0.165957510471344}, {\"time\": 40, \"variable\": \"VPD\", \"mean\": 0.04276135563850403, \"std\": 0.1659575253725052}, {\"time\": 41, \"variable\": \"VPD\", \"mean\": 0.0386105477809906, \"std\": 0.16595757007598877}, {\"time\": 42, \"variable\": \"VPD\", \"mean\": 0.037085920572280884, \"std\": 0.16595768928527832}, {\"time\": 43, \"variable\": \"VPD\", \"mean\": 0.03729161620140076, \"std\": 0.16595788300037384}, {\"time\": 44, \"variable\": \"VPD\", \"mean\": 0.03803476691246033, \"std\": 0.16595828533172607}, {\"time\": 45, \"variable\": \"VPD\", \"mean\": 0.038682252168655396, \"std\": 0.16595914959907532}, {\"time\": 46, \"variable\": \"VPD\", \"mean\": 0.038948386907577515, \"std\": 0.16596102714538574}, {\"time\": 47, \"variable\": \"VPD\", \"mean\": 0.038957029581069946, \"std\": 0.165965273976326}, {\"time\": 48, \"variable\": \"VPD\", \"mean\": 0.03866952657699585, \"std\": 0.16597504913806915}, {\"time\": 49, \"variable\": \"VPD\", \"mean\": 0.03873598575592041, \"std\": 0.16599790751934052}, {\"time\": 50, \"variable\": \"VPD\", \"mean\": 0.03968459367752075, \"std\": 0.1660517007112503}, {\"time\": 51, \"variable\": \"VPD\", \"mean\": 0.04132494330406189, \"std\": 0.1661788374185562}, {\"time\": 52, \"variable\": \"VPD\", \"mean\": 0.0426734983921051, \"std\": 0.16647973656654358}, {\"time\": 53, \"variable\": \"VPD\", \"mean\": 0.04361933469772339, \"std\": 0.16719254851341248}, {\"time\": 54, \"variable\": \"VPD\", \"mean\": 0.044229328632354736, \"std\": 0.16889776289463043}, {\"time\": 55, \"variable\": \"VPD\", \"mean\": 0.04497137665748596, \"std\": 0.17321500182151794}, {\"time\": 56, \"variable\": \"VPD\", \"mean\": 0.047583818435668945, \"std\": 0.18647103011608124}, {\"time\": 57, \"variable\": \"VPD\", \"mean\": 0.04996347427368164, \"std\": 0.1979156881570816}, {\"time\": 58, \"variable\": \"VPD\", \"mean\": 0.05214184522628784, \"std\": 0.2078256458044052}, {\"time\": 59, \"variable\": \"VPD\", \"mean\": 0.05414864420890808, \"std\": 0.21638737618923187}, {\"time\": 60, \"variable\": \"VPD\", \"mean\": 0.05601233243942261, \"std\": 0.22373054921627045}, {\"time\": 61, \"variable\": \"VPD\", \"mean\": 0.0577603280544281, \"std\": 0.22994686663150787}, {\"time\": 62, \"variable\": \"VPD\", \"mean\": 0.05941775441169739, \"std\": 0.23510147631168365}, {\"time\": 63, \"variable\": \"VPD\", \"mean\": 0.06100842356681824, \"std\": 0.23924002051353455}, {\"time\": 64, \"variable\": \"VPD\", \"mean\": 0.06255388259887695, \"std\": 0.24239332973957062}, {\"time\": 65, \"variable\": \"VPD\", \"mean\": 0.06407392024993896, \"std\": 0.24458026885986328}, {\"time\": 66, \"variable\": \"VPD\", \"mean\": 0.0655863881111145, \"std\": 0.24580970406532288}, {\"time\": 67, \"variable\": \"VPD\", \"mean\": 0.06710562109947205, \"std\": 0.24608129262924194}, {\"time\": 68, \"variable\": \"VPD\", \"mean\": 0.06864479184150696, \"std\": 0.2453862726688385}, {\"time\": 69, \"variable\": \"VPD\", \"mean\": 0.07021403312683105, \"std\": 0.24370677769184113}, {\"time\": 70, \"variable\": \"VPD\", \"mean\": 0.07182055711746216, \"std\": 0.24101518094539642}, {\"time\": 71, \"variable\": \"VPD\", \"mean\": 0.0734696090221405, \"std\": 0.23727242648601532}, {\"time\": 72, \"variable\": \"VPD\", \"mean\": 0.07516108453273773, \"std\": 0.23242489993572235}, {\"time\": 73, \"variable\": \"VPD\", \"mean\": 0.0768931657075882, \"std\": 0.22640082240104675}, {\"time\": 74, \"variable\": \"VPD\", \"mean\": 0.07866308093070984, \"std\": 0.21910472214221954}, {\"time\": 75, \"variable\": \"VPD\", \"mean\": 0.08046038448810577, \"std\": 0.2104053646326065}, {\"time\": 76, \"variable\": \"VPD\", \"mean\": 0.08227339386940002, \"std\": 0.20012199878692627}, {\"time\": 77, \"variable\": \"VPD\", \"mean\": 0.08408769965171814, \"std\": 0.18799734115600586}, {\"time\": 78, \"variable\": \"VPD\", \"mean\": 0.08588267862796783, \"std\": 0.17364531755447388}, {\"time\": 79, \"variable\": \"VPD\", \"mean\": 0.0928976982831955, \"std\": 0.16892051696777344}, {\"time\": 80, \"variable\": \"VPD\", \"mean\": 0.12057758867740631, \"std\": 0.1671566367149353}, {\"time\": 81, \"variable\": \"VPD\", \"mean\": 0.17727012932300568, \"std\": 0.16645732522010803}, {\"time\": 82, \"variable\": \"VPD\", \"mean\": 0.223957359790802, \"std\": 0.1661718487739563}, {\"time\": 83, \"variable\": \"VPD\", \"mean\": 0.230174720287323, \"std\": 0.16605286300182343}, {\"time\": 84, \"variable\": \"VPD\", \"mean\": 0.22883012890815735, \"std\": 0.166002094745636}, {\"time\": 85, \"variable\": \"VPD\", \"mean\": 0.20965534448623657, \"std\": 0.16597971320152283}, {\"time\": 86, \"variable\": \"VPD\", \"mean\": 0.18720297515392303, \"std\": 0.1659693866968155}, {\"time\": 87, \"variable\": \"VPD\", \"mean\": 0.18579824268817902, \"std\": 0.1659642904996872}, {\"time\": 88, \"variable\": \"VPD\", \"mean\": 0.17275424301624298, \"std\": 0.1659616082906723}, {\"time\": 89, \"variable\": \"VPD\", \"mean\": 0.16129107773303986, \"std\": 0.16596008837223053}, {\"time\": 90, \"variable\": \"VPD\", \"mean\": 0.15984515845775604, \"std\": 0.1659591645002365}, {\"time\": 91, \"variable\": \"VPD\", \"mean\": 0.16205909848213196, \"std\": 0.16595859825611115}, {\"time\": 92, \"variable\": \"VPD\", \"mean\": 0.16490231454372406, \"std\": 0.1659582108259201}, {\"time\": 93, \"variable\": \"VPD\", \"mean\": 0.16663947701454163, \"std\": 0.1659579575061798}, {\"time\": 94, \"variable\": \"VPD\", \"mean\": 0.16804294288158417, \"std\": 0.16595779359340668}, {\"time\": 95, \"variable\": \"VPD\", \"mean\": 0.16884614527225494, \"std\": 0.16595767438411713}, {\"time\": 96, \"variable\": \"VPD\", \"mean\": 0.1690557450056076, \"std\": 0.16595759987831116}, {\"time\": 97, \"variable\": \"VPD\", \"mean\": 0.16909967362880707, \"std\": 0.16595754027366638}, {\"time\": 98, \"variable\": \"VPD\", \"mean\": 0.16951854526996613, \"std\": 0.1659575253725052}, {\"time\": 99, \"variable\": \"VPD\", \"mean\": 0.17015281319618225, \"std\": 0.1659574955701828}, {\"time\": 100, \"variable\": \"VPD\", \"mean\": 0.1708422601222992, \"std\": 0.1659574806690216}, {\"time\": 101, \"variable\": \"VPD\", \"mean\": 0.1714085340499878, \"std\": 0.1659574657678604}, {\"time\": 102, \"variable\": \"VPD\", \"mean\": 0.17271113395690918, \"std\": 0.1659574657678604}, {\"time\": 103, \"variable\": \"VPD\", \"mean\": 0.17410118877887726, \"std\": 0.16595745086669922}, {\"time\": 104, \"variable\": \"VPD\", \"mean\": 0.17522452771663666, \"std\": 0.16595745086669922}, {\"time\": 105, \"variable\": \"VPD\", \"mean\": 0.175969198346138, \"std\": 0.16595745086669922}, {\"time\": 106, \"variable\": \"VPD\", \"mean\": 0.17654606699943542, \"std\": 0.16595745086669922}, {\"time\": 107, \"variable\": \"VPD\", \"mean\": 0.17718946933746338, \"std\": 0.16595745086669922}, {\"time\": 108, \"variable\": \"VPD\", \"mean\": 0.17810191214084625, \"std\": 0.16595743596553802}, {\"time\": 109, \"variable\": \"VPD\", \"mean\": 0.17924371361732483, \"std\": 0.16595743596553802}, {\"time\": 110, \"variable\": \"VPD\", \"mean\": 0.17964129149913788, \"std\": 0.16595745086669922}, {\"time\": 111, \"variable\": \"VPD\", \"mean\": 0.17972451448440552, \"std\": 0.16595745086669922}, {\"time\": 112, \"variable\": \"VPD\", \"mean\": 0.17904245853424072, \"std\": 0.16595745086669922}, {\"time\": 113, \"variable\": \"VPD\", \"mean\": 0.17880049347877502, \"std\": 0.16595745086669922}, {\"time\": 114, \"variable\": \"VPD\", \"mean\": 0.17851170897483826, \"std\": 0.16595743596553802}, {\"time\": 115, \"variable\": \"VPD\", \"mean\": 0.17675793170928955, \"std\": 0.16595743596553802}, {\"time\": 116, \"variable\": \"VPD\", \"mean\": 0.17369163036346436, \"std\": 0.16595743596553802}, {\"time\": 117, \"variable\": \"VPD\", \"mean\": 0.16854463517665863, \"std\": 0.16595745086669922}, {\"time\": 118, \"variable\": \"VPD\", \"mean\": 0.16055026650428772, \"std\": 0.16595743596553802}, {\"time\": 119, \"variable\": \"VPD\", \"mean\": 0.15069539844989777, \"std\": 0.16595743596553802}, {\"time\": 120, \"variable\": \"VPD\", \"mean\": 0.14282400906085968, \"std\": 0.16595743596553802}, {\"time\": 121, \"variable\": \"VPD\", \"mean\": 0.14349858462810516, \"std\": 0.16595743596553802}, {\"time\": 122, \"variable\": \"VPD\", \"mean\": 0.158585324883461, \"std\": 0.16595743596553802}, {\"time\": 123, \"variable\": \"VPD\", \"mean\": 0.19424788653850555, \"std\": 0.16595743596553802}, {\"time\": 124, \"variable\": \"VPD\", \"mean\": 0.23922127485275269, \"std\": 0.16595743596553802}, {\"time\": 125, \"variable\": \"VPD\", \"mean\": 0.21102678775787354, \"std\": 0.16595743596553802}, {\"time\": 126, \"variable\": \"VPD\", \"mean\": 0.2076798528432846, \"std\": 0.16595743596553802}, {\"time\": 127, \"variable\": \"VPD\", \"mean\": 0.21616870164871216, \"std\": 0.16595743596553802}, {\"time\": 128, \"variable\": \"VPD\", \"mean\": 0.2157241702079773, \"std\": 0.16595743596553802}, {\"time\": 129, \"variable\": \"VPD\", \"mean\": 0.22579848766326904, \"std\": 0.16595743596553802}, {\"time\": 130, \"variable\": \"VPD\", \"mean\": 0.2460882067680359, \"std\": 0.16595743596553802}, {\"time\": 131, \"variable\": \"VPD\", \"mean\": 0.2765261232852936, \"std\": 0.16595743596553802}, {\"time\": 132, \"variable\": \"VPD\", \"mean\": 0.2690073847770691, \"std\": 0.16595743596553802}, {\"time\": 133, \"variable\": \"VPD\", \"mean\": 0.2541409730911255, \"std\": 0.16595743596553802}, {\"time\": 134, \"variable\": \"VPD\", \"mean\": 0.23069623112678528, \"std\": 0.16595743596553802}, {\"time\": 135, \"variable\": \"VPD\", \"mean\": 0.21203240752220154, \"std\": 0.16595743596553802}, {\"time\": 136, \"variable\": \"VPD\", \"mean\": 0.19521068036556244, \"std\": 0.16595743596553802}, {\"time\": 137, \"variable\": \"VPD\", \"mean\": 0.18589602410793304, \"std\": 0.16595743596553802}, {\"time\": 138, \"variable\": \"VPD\", \"mean\": 0.1833897829055786, \"std\": 0.16595743596553802}, {\"time\": 139, \"variable\": \"VPD\", \"mean\": 0.18325205147266388, \"std\": 0.16595743596553802}, {\"time\": 140, \"variable\": \"VPD\", \"mean\": 0.1849358081817627, \"std\": 0.16595743596553802}, {\"time\": 141, \"variable\": \"VPD\", \"mean\": 0.18695996701717377, \"std\": 0.16595743596553802}, {\"time\": 142, \"variable\": \"VPD\", \"mean\": 0.18803739547729492, \"std\": 0.16595743596553802}, {\"time\": 143, \"variable\": \"VPD\", \"mean\": 0.189059317111969, \"std\": 0.16595743596553802}, {\"time\": 144, \"variable\": \"VPD\", \"mean\": 0.19014900922775269, \"std\": 0.16595743596553802}, {\"time\": 145, \"variable\": \"VPD\", \"mean\": 0.19090670347213745, \"std\": 0.16595743596553802}, {\"time\": 146, \"variable\": \"VPD\", \"mean\": 0.1907196044921875, \"std\": 0.16595743596553802}, {\"time\": 147, \"variable\": \"VPD\", \"mean\": 0.1903722733259201, \"std\": 0.16595743596553802}, {\"time\": 148, \"variable\": \"VPD\", \"mean\": 0.19057026505470276, \"std\": 0.16595743596553802}, {\"time\": 149, \"variable\": \"VPD\", \"mean\": 0.19057415425777435, \"std\": 0.16595743596553802}, {\"time\": 150, \"variable\": \"VPD\", \"mean\": 0.18817570805549622, \"std\": 0.16595743596553802}, {\"time\": 151, \"variable\": \"VPD\", \"mean\": 0.18567043542861938, \"std\": 0.16595743596553802}, {\"time\": 152, \"variable\": \"VPD\", \"mean\": 0.18451207876205444, \"std\": 0.16595743596553802}, {\"time\": 153, \"variable\": \"VPD\", \"mean\": 0.1841033548116684, \"std\": 0.16595743596553802}, {\"time\": 154, \"variable\": \"VPD\", \"mean\": 0.18527214229106903, \"std\": 0.16595743596553802}, {\"time\": 155, \"variable\": \"VPD\", \"mean\": 0.18715041875839233, \"std\": 0.16595743596553802}, {\"time\": 156, \"variable\": \"VPD\", \"mean\": 0.18946132063865662, \"std\": 0.16595743596553802}, {\"time\": 157, \"variable\": \"VPD\", \"mean\": 0.19248701632022858, \"std\": 0.16595743596553802}, {\"time\": 158, \"variable\": \"VPD\", \"mean\": 0.19321411848068237, \"std\": 0.16595743596553802}, {\"time\": 159, \"variable\": \"VPD\", \"mean\": 0.19298994541168213, \"std\": 0.16595745086669922}, {\"time\": 160, \"variable\": \"VPD\", \"mean\": 0.19310159981250763, \"std\": 0.16595745086669922}, {\"time\": 161, \"variable\": \"VPD\", \"mean\": 0.19244731962680817, \"std\": 0.16595743596553802}, {\"time\": 162, \"variable\": \"VPD\", \"mean\": 0.1914353221654892, \"std\": 0.16595743596553802}, {\"time\": 163, \"variable\": \"VPD\", \"mean\": 0.18552616238594055, \"std\": 0.16595743596553802}, {\"time\": 164, \"variable\": \"VPD\", \"mean\": 0.17996862530708313, \"std\": 0.16595743596553802}, {\"time\": 165, \"variable\": \"VPD\", \"mean\": 0.17324306070804596, \"std\": 0.16595743596553802}, {\"time\": 166, \"variable\": \"VPD\", \"mean\": 0.16436918079853058, \"std\": 0.16595743596553802}, {\"time\": 167, \"variable\": \"VPD\", \"mean\": 0.15266424417495728, \"std\": 0.16595745086669922}, {\"time\": 168, \"variable\": \"VPD\", \"mean\": 0.15059809386730194, \"std\": 0.16595743596553802}, {\"time\": 169, \"variable\": \"VPD\", \"mean\": 0.16842356324195862, \"std\": 0.16595743596553802}, {\"time\": 170, \"variable\": \"VPD\", \"mean\": 0.20108458399772644, \"std\": 0.16595743596553802}, {\"time\": 171, \"variable\": \"VPD\", \"mean\": 0.24243786931037903, \"std\": 0.16595743596553802}, {\"time\": 172, \"variable\": \"VPD\", \"mean\": 0.2891388237476349, \"std\": 0.16595745086669922}, {\"time\": 173, \"variable\": \"VPD\", \"mean\": 0.33903467655181885, \"std\": 0.16595743596553802}, {\"time\": 174, \"variable\": \"VPD\", \"mean\": 0.39297786355018616, \"std\": 0.16595743596553802}, {\"time\": 175, \"variable\": \"VPD\", \"mean\": 0.4486040771007538, \"std\": 0.16595743596553802}, {\"time\": 176, \"variable\": \"VPD\", \"mean\": 0.5034636855125427, \"std\": 0.16595745086669922}, {\"time\": 177, \"variable\": \"VPD\", \"mean\": 0.5558211207389832, \"std\": 0.16595745086669922}, {\"time\": 178, \"variable\": \"VPD\", \"mean\": 0.6061393618583679, \"std\": 0.16595745086669922}, {\"time\": 179, \"variable\": \"VPD\", \"mean\": 0.6502199769020081, \"std\": 0.16595745086669922}, {\"time\": 180, \"variable\": \"VPD\", \"mean\": 0.6822681427001953, \"std\": 0.1659574657678604}, {\"time\": 181, \"variable\": \"VPD\", \"mean\": 0.7020250558853149, \"std\": 0.1659574806690216}, {\"time\": 182, \"variable\": \"VPD\", \"mean\": 0.7125774621963501, \"std\": 0.1659574955701828}, {\"time\": 183, \"variable\": \"VPD\", \"mean\": 0.7121468782424927, \"std\": 0.1659575253725052}, {\"time\": 184, \"variable\": \"VPD\", \"mean\": 0.695114016532898, \"std\": 0.16595757007598877}, {\"time\": 185, \"variable\": \"VPD\", \"mean\": 0.6690921783447266, \"std\": 0.16595767438411713}, {\"time\": 186, \"variable\": \"VPD\", \"mean\": 0.6424258947372437, \"std\": 0.16595782339572906}, {\"time\": 187, \"variable\": \"VPD\", \"mean\": 0.6251621246337891, \"std\": 0.16595813632011414}, {\"time\": 188, \"variable\": \"VPD\", \"mean\": 0.6136033535003662, \"std\": 0.1659587323665619}, {\"time\": 189, \"variable\": \"VPD\", \"mean\": 0.6105167865753174, \"std\": 0.16595995426177979}, {\"time\": 190, \"variable\": \"VPD\", \"mean\": 0.6023086905479431, \"std\": 0.16596262156963348}, {\"time\": 191, \"variable\": \"VPD\", \"mean\": 0.5860389471054077, \"std\": 0.16596846282482147}, {\"time\": 192, \"variable\": \"VPD\", \"mean\": 0.5738071203231812, \"std\": 0.16598168015480042}, {\"time\": 193, \"variable\": \"VPD\", \"mean\": 0.5633611083030701, \"std\": 0.1660120040178299}, {\"time\": 194, \"variable\": \"VPD\", \"mean\": 0.5570345520973206, \"std\": 0.16608235239982605}, {\"time\": 195, \"variable\": \"VPD\", \"mean\": 0.5541573166847229, \"std\": 0.16624650359153748}, {\"time\": 196, \"variable\": \"VPD\", \"mean\": 0.5522928833961487, \"std\": 0.16663002967834473}, {\"time\": 197, \"variable\": \"VPD\", \"mean\": 0.5559768676757812, \"std\": 0.16752426326274872}, {\"time\": 198, \"variable\": \"VPD\", \"mean\": 0.5565726161003113, \"std\": 0.16961431503295898}, {\"time\": 199, \"variable\": \"VPD\", \"mean\": 0.5472209453582764, \"std\": 0.1747174859046936}]}}, {\"mode\": \"vega-lite\"});\n</script>",
          "text/plain": "alt.VConcatChart(...)"
         },
         "metadata": {},
         "output_type": "display_data"
        },
        {
         "data": {
          "text/html": "<p style='font-size: 1.5rem; font-decoration: bold'>Metrics<p><div style=\"display: flex; column-gap: 20px; flex-wrap: wrap;\" class='table table-striped table-sm'> <div> <p style='font-size: 1.3rem;'>r2</p> <style type=\"text/css\">\n</style>\n<table id=\"T_5641c\">\n  <thead>\n    <tr>\n      <th id=\"T_5641c_level0_col0\" class=\"col_heading level0 col0\" >variable</th>\n      <th id=\"T_5641c_level0_col1\" class=\"col_heading level0 col1\" >r2</th>\n    </tr>\n  </thead>\n  <tbody>\n    <tr>\n      <td id=\"T_5641c_row0_col0\" class=\"data row0 col0\" >TA</td>\n      <td id=\"T_5641c_row0_col1\" class=\"data row0 col1\" >0.9572</td>\n    </tr>\n    <tr>\n      <td id=\"T_5641c_row1_col0\" class=\"data row1 col0\" >SW_IN</td>\n      <td id=\"T_5641c_row1_col1\" class=\"data row1 col1\" >0.9707</td>\n    </tr>\n    <tr>\n      <td id=\"T_5641c_row2_col0\" class=\"data row2 col0\" >VPD</td>\n      <td id=\"T_5641c_row2_col1\" class=\"data row2 col1\" >0.9813</td>\n    </tr>\n  </tbody>\n</table>\n </div><div> <p style='font-size: 1.3rem;'>RMSE</p> <style type=\"text/css\">\n</style>\n<table id=\"T_aa0a3\">\n  <thead>\n    <tr>\n      <th id=\"T_aa0a3_level0_col0\" class=\"col_heading level0 col0\" >variable</th>\n      <th id=\"T_aa0a3_level0_col1\" class=\"col_heading level0 col1\" >rmse</th>\n      <th id=\"T_aa0a3_level0_col2\" class=\"col_heading level0 col2\" >units</th>\n    </tr>\n  </thead>\n  <tbody>\n    <tr>\n      <td id=\"T_aa0a3_row0_col0\" class=\"data row0 col0\" >TA</td>\n      <td id=\"T_aa0a3_row0_col1\" class=\"data row0 col1\" >0.7377</td>\n      <td id=\"T_aa0a3_row0_col2\" class=\"data row0 col2\" >°C</td>\n    </tr>\n    <tr>\n      <td id=\"T_aa0a3_row1_col0\" class=\"data row1 col0\" >SW_IN</td>\n      <td id=\"T_aa0a3_row1_col1\" class=\"data row1 col1\" >12.5072</td>\n      <td id=\"T_aa0a3_row1_col2\" class=\"data row1 col2\" >W m-2</td>\n    </tr>\n    <tr>\n      <td id=\"T_aa0a3_row2_col0\" class=\"data row2 col0\" >VPD</td>\n      <td id=\"T_aa0a3_row2_col1\" class=\"data row2 col1\" >0.0620</td>\n      <td id=\"T_aa0a3_row2_col2\" class=\"data row2 col2\" >hPa</td>\n    </tr>\n  </tbody>\n</table>\n </div><div> <p style='font-size: 1.3rem;'>r2 - Only GAP</p> <style type=\"text/css\">\n</style>\n<table id=\"T_1a148\">\n  <thead>\n    <tr>\n      <th id=\"T_1a148_level0_col0\" class=\"col_heading level0 col0\" >variable</th>\n      <th id=\"T_1a148_level0_col1\" class=\"col_heading level0 col1\" >r2</th>\n    </tr>\n  </thead>\n  <tbody>\n    <tr>\n      <td id=\"T_1a148_row0_col0\" class=\"data row0 col0\" >TA</td>\n      <td id=\"T_1a148_row0_col1\" class=\"data row0 col1\" >-0.0852</td>\n    </tr>\n    <tr>\n      <td id=\"T_1a148_row1_col0\" class=\"data row1 col0\" >SW_IN</td>\n      <td id=\"T_1a148_row1_col1\" class=\"data row1 col1\" >-8.3707</td>\n    </tr>\n    <tr>\n      <td id=\"T_1a148_row2_col0\" class=\"data row2 col0\" >VPD</td>\n      <td id=\"T_1a148_row2_col1\" class=\"data row2 col1\" >0.3533</td>\n    </tr>\n  </tbody>\n</table>\n </div><div> <p style='font-size: 1.3rem;'>RMSE - Only GAP</p> <style type=\"text/css\">\n</style>\n<table id=\"T_cac5f\">\n  <thead>\n    <tr>\n      <th id=\"T_cac5f_level0_col0\" class=\"col_heading level0 col0\" >variable</th>\n      <th id=\"T_cac5f_level0_col1\" class=\"col_heading level0 col1\" >rmse</th>\n      <th id=\"T_cac5f_level0_col2\" class=\"col_heading level0 col2\" >units</th>\n    </tr>\n  </thead>\n  <tbody>\n    <tr>\n      <td id=\"T_cac5f_row0_col0\" class=\"data row0 col0\" >TA</td>\n      <td id=\"T_cac5f_row0_col1\" class=\"data row0 col1\" >1.8262</td>\n      <td id=\"T_cac5f_row0_col2\" class=\"data row0 col2\" >°C</td>\n    </tr>\n    <tr>\n      <td id=\"T_cac5f_row1_col0\" class=\"data row1 col0\" >SW_IN</td>\n      <td id=\"T_cac5f_row1_col1\" class=\"data row1 col1\" >29.9735</td>\n      <td id=\"T_cac5f_row1_col2\" class=\"data row1 col2\" >W m-2</td>\n    </tr>\n    <tr>\n      <td id=\"T_cac5f_row2_col0\" class=\"data row2 col0\" >VPD</td>\n      <td id=\"T_cac5f_row2_col1\" class=\"data row2 col1\" >0.0379</td>\n      <td id=\"T_cac5f_row2_col2\" class=\"data row2 col2\" >hPa</td>\n    </tr>\n  </tbody>\n</table>\n </div></div>",
          "text/plain": "<IPython.core.display.HTML object>"
         },
         "metadata": {},
         "output_type": "display_data"
        },
        {
         "data": {
          "text/html": "<p style='font-size: 1.5rem; font-decoration: bold'>Model Info<p><div style=\"display: flex; column-gap: 20px; flex-wrap: wrap;\" class='table table-striped table-sm'> <div> <p style='font-size: 1.3rem;'>A</p> <style type=\"text/css\">\n</style>\n<table id=\"T_ab649\">\n  <thead>\n    <tr>\n      <th id=\"T_ab649_level0_col0\" class=\"col_heading level0 col0\" >latent</th>\n      <th id=\"T_ab649_level0_col1\" class=\"col_heading level0 col1\" >z_0</th>\n      <th id=\"T_ab649_level0_col2\" class=\"col_heading level0 col2\" >z_1</th>\n      <th id=\"T_ab649_level0_col3\" class=\"col_heading level0 col3\" >z_2</th>\n    </tr>\n  </thead>\n  <tbody>\n    <tr>\n      <td id=\"T_ab649_row0_col0\" class=\"data row0 col0\" >z_0</td>\n      <td id=\"T_ab649_row0_col1\" class=\"data row0 col1\" >1.0038</td>\n      <td id=\"T_ab649_row0_col2\" class=\"data row0 col2\" >-0.0424</td>\n      <td id=\"T_ab649_row0_col3\" class=\"data row0 col3\" >0.0071</td>\n    </tr>\n    <tr>\n      <td id=\"T_ab649_row1_col0\" class=\"data row1 col0\" >z_1</td>\n      <td id=\"T_ab649_row1_col1\" class=\"data row1 col1\" >0.0211</td>\n      <td id=\"T_ab649_row1_col2\" class=\"data row1 col2\" >0.9387</td>\n      <td id=\"T_ab649_row1_col3\" class=\"data row1 col3\" >0.0854</td>\n    </tr>\n    <tr>\n      <td id=\"T_ab649_row2_col0\" class=\"data row2 col0\" >z_2</td>\n      <td id=\"T_ab649_row2_col1\" class=\"data row2 col1\" >0.0138</td>\n      <td id=\"T_ab649_row2_col2\" class=\"data row2 col2\" >-0.0513</td>\n      <td id=\"T_ab649_row2_col3\" class=\"data row2 col3\" >1.0811</td>\n    </tr>\n  </tbody>\n</table>\n </div><div> <p style='font-size: 1.3rem;'>H</p> <style type=\"text/css\">\n</style>\n<table id=\"T_57d81\">\n  <thead>\n    <tr>\n      <th id=\"T_57d81_level0_col0\" class=\"col_heading level0 col0\" >variable</th>\n      <th id=\"T_57d81_level0_col1\" class=\"col_heading level0 col1\" >z_0</th>\n      <th id=\"T_57d81_level0_col2\" class=\"col_heading level0 col2\" >z_1</th>\n      <th id=\"T_57d81_level0_col3\" class=\"col_heading level0 col3\" >z_2</th>\n    </tr>\n  </thead>\n  <tbody>\n    <tr>\n      <td id=\"T_57d81_row0_col0\" class=\"data row0 col0\" >TA</td>\n      <td id=\"T_57d81_row0_col1\" class=\"data row0 col1\" >-0.1280</td>\n      <td id=\"T_57d81_row0_col2\" class=\"data row0 col2\" >-0.0657</td>\n      <td id=\"T_57d81_row0_col3\" class=\"data row0 col3\" >0.1417</td>\n    </tr>\n    <tr>\n      <td id=\"T_57d81_row1_col0\" class=\"data row1 col0\" >SW_IN</td>\n      <td id=\"T_57d81_row1_col1\" class=\"data row1 col1\" >-0.0761</td>\n      <td id=\"T_57d81_row1_col2\" class=\"data row1 col2\" >0.2771</td>\n      <td id=\"T_57d81_row1_col3\" class=\"data row1 col3\" >0.5230</td>\n    </tr>\n    <tr>\n      <td id=\"T_57d81_row2_col0\" class=\"data row2 col0\" >VPD</td>\n      <td id=\"T_57d81_row2_col1\" class=\"data row2 col1\" >-0.3186</td>\n      <td id=\"T_57d81_row2_col2\" class=\"data row2 col2\" >0.2921</td>\n      <td id=\"T_57d81_row2_col3\" class=\"data row2 col3\" >-0.0369</td>\n    </tr>\n  </tbody>\n</table>\n </div><div> <p style='font-size: 1.3rem;'>R</p> <style type=\"text/css\">\n</style>\n<table id=\"T_b2fcb\">\n  <thead>\n    <tr>\n      <th id=\"T_b2fcb_level0_col0\" class=\"col_heading level0 col0\" >variable</th>\n      <th id=\"T_b2fcb_level0_col1\" class=\"col_heading level0 col1\" >TA</th>\n      <th id=\"T_b2fcb_level0_col2\" class=\"col_heading level0 col2\" >SW_IN</th>\n      <th id=\"T_b2fcb_level0_col3\" class=\"col_heading level0 col3\" >VPD</th>\n    </tr>\n  </thead>\n  <tbody>\n    <tr>\n      <td id=\"T_b2fcb_row0_col0\" class=\"data row0 col0\" >TA</td>\n      <td id=\"T_b2fcb_row0_col1\" class=\"data row0 col1\" >0.1000</td>\n      <td id=\"T_b2fcb_row0_col2\" class=\"data row0 col2\" >0.0000</td>\n      <td id=\"T_b2fcb_row0_col3\" class=\"data row0 col3\" >0.0000</td>\n    </tr>\n    <tr>\n      <td id=\"T_b2fcb_row1_col0\" class=\"data row1 col0\" >SW_IN</td>\n      <td id=\"T_b2fcb_row1_col1\" class=\"data row1 col1\" >0.0000</td>\n      <td id=\"T_b2fcb_row1_col2\" class=\"data row1 col2\" >0.1000</td>\n      <td id=\"T_b2fcb_row1_col3\" class=\"data row1 col3\" >0.0000</td>\n    </tr>\n    <tr>\n      <td id=\"T_b2fcb_row2_col0\" class=\"data row2 col0\" >VPD</td>\n      <td id=\"T_b2fcb_row2_col1\" class=\"data row2 col1\" >0.0000</td>\n      <td id=\"T_b2fcb_row2_col2\" class=\"data row2 col2\" >0.0000</td>\n      <td id=\"T_b2fcb_row2_col3\" class=\"data row2 col3\" >0.1000</td>\n    </tr>\n  </tbody>\n</table>\n </div><div> <p style='font-size: 1.3rem;'>Q</p> <style type=\"text/css\">\n</style>\n<table id=\"T_31aa8\">\n  <thead>\n    <tr>\n      <th id=\"T_31aa8_level0_col0\" class=\"col_heading level0 col0\" >latent</th>\n      <th id=\"T_31aa8_level0_col1\" class=\"col_heading level0 col1\" >z_0</th>\n      <th id=\"T_31aa8_level0_col2\" class=\"col_heading level0 col2\" >z_1</th>\n      <th id=\"T_31aa8_level0_col3\" class=\"col_heading level0 col3\" >z_2</th>\n    </tr>\n  </thead>\n  <tbody>\n    <tr>\n      <td id=\"T_31aa8_row0_col0\" class=\"data row0 col0\" >z_0</td>\n      <td id=\"T_31aa8_row0_col1\" class=\"data row0 col1\" >0.1842</td>\n      <td id=\"T_31aa8_row0_col2\" class=\"data row0 col2\" >0.0611</td>\n      <td id=\"T_31aa8_row0_col3\" class=\"data row0 col3\" >0.0468</td>\n    </tr>\n    <tr>\n      <td id=\"T_31aa8_row1_col0\" class=\"data row1 col0\" >z_1</td>\n      <td id=\"T_31aa8_row1_col1\" class=\"data row1 col1\" >0.0611</td>\n      <td id=\"T_31aa8_row1_col2\" class=\"data row1 col2\" >0.2413</td>\n      <td id=\"T_31aa8_row1_col3\" class=\"data row1 col3\" >0.1610</td>\n    </tr>\n    <tr>\n      <td id=\"T_31aa8_row2_col0\" class=\"data row2 col0\" >z_2</td>\n      <td id=\"T_31aa8_row2_col1\" class=\"data row2 col1\" >0.0468</td>\n      <td id=\"T_31aa8_row2_col2\" class=\"data row2 col2\" >0.1610</td>\n      <td id=\"T_31aa8_row2_col3\" class=\"data row2 col3\" >0.2460</td>\n    </tr>\n  </tbody>\n</table>\n </div></div>",
          "text/plain": "<IPython.core.display.HTML object>"
         },
         "metadata": {},
         "output_type": "display_data"
        }
       ]
      }
     },
     "2d39f1b4ef4b4ae2895a0739e38bc818": {
      "model_module": "@jupyter-widgets/controls",
      "model_module_version": "2.0.0",
      "model_name": "ButtonModel",
      "state": {
       "description": "Run Interact",
       "layout": "IPY_MODEL_9642ba7850cc4c919c23a507f7807bf1",
       "style": "IPY_MODEL_5ec85b286cf848e995d917e781cb9276",
       "tooltip": null
      }
     },
     "30fe9947bf3a4bd896fe93b29092727c": {
      "model_module": "@jupyter-widgets/base",
      "model_module_version": "2.0.0",
      "model_name": "LayoutModel",
      "state": {}
     },
     "313cff49745a408c8df5864298f6ebe1": {
      "model_module": "@jupyter-widgets/base",
      "model_module_version": "2.0.0",
      "model_name": "LayoutModel",
      "state": {}
     },
     "34cb1b2d96a04d5a8f9b8925076b771a": {
      "model_module": "@jupyter-widgets/controls",
      "model_module_version": "2.0.0",
      "model_name": "SliderStyleModel",
      "state": {
       "description_width": ""
      }
     },
     "35e07e85cdee4b638d4801de7860b309": {
      "model_module": "@jupyter-widgets/base",
      "model_module_version": "2.0.0",
      "model_name": "LayoutModel",
      "state": {}
     },
     "3dad996e10dd442294036e953d7d8de9": {
      "model_module": "@jupyter-widgets/controls",
      "model_module_version": "2.0.0",
      "model_name": "CheckboxModel",
      "state": {
       "description": "TA",
       "disabled": false,
       "layout": "IPY_MODEL_a9c9f22bef0f4c82a68f3b08720336c0",
       "style": "IPY_MODEL_0c90b66773174f54b91b2cda20d57768",
       "value": true
      }
     },
     "4bb211e9f73a4d208e1953a8d348e18a": {
      "model_module": "@jupyter-widgets/base",
      "model_module_version": "2.0.0",
      "model_name": "LayoutModel",
      "state": {}
     },
     "4d0c2e8c2b0948308637cbba800287d7": {
      "model_module": "@jupyter-widgets/controls",
      "model_module_version": "2.0.0",
      "model_name": "CheckboxStyleModel",
      "state": {
       "description_width": ""
      }
     },
     "510ee8ae9c2a487caaa3cb48a8f5fe31": {
      "model_module": "@jupyter-widgets/controls",
      "model_module_version": "2.0.0",
      "model_name": "ButtonModel",
      "state": {
       "description": "Run Interact",
       "layout": "IPY_MODEL_dde97cbcea044e0992cb63cdb6c20394",
       "style": "IPY_MODEL_72df76c24d1f41129a9c2593ccb7b818",
       "tooltip": null
      }
     },
     "5233080edf2d454e9396dd07dc67b5fc": {
      "model_module": "@jupyter-widgets/controls",
      "model_module_version": "2.0.0",
      "model_name": "SliderStyleModel",
      "state": {
       "description_width": ""
      }
     },
     "5429bdd2fb9e471e9b27751732f91743": {
      "model_module": "@jupyter-widgets/controls",
      "model_module_version": "2.0.0",
      "model_name": "IntSliderModel",
      "state": {
       "behavior": "drag-tap",
       "description": "gap_len",
       "layout": "IPY_MODEL_f6cd92effc644a789dd01b6397caac2b",
       "min": 1,
       "style": "IPY_MODEL_10afe4972dc740819d0d5ed29c6855eb",
       "value": 10
      }
     },
     "5d8306bbdd9a4a6da96e4c12f0916127": {
      "model_module": "@jupyter-widgets/base",
      "model_module_version": "2.0.0",
      "model_name": "LayoutModel",
      "state": {}
     },
     "5dca63bfb20441819da64389cc54cf0c": {
      "model_module": "@jupyter-widgets/base",
      "model_module_version": "2.0.0",
      "model_name": "LayoutModel",
      "state": {}
     },
     "5ec85b286cf848e995d917e781cb9276": {
      "model_module": "@jupyter-widgets/controls",
      "model_module_version": "2.0.0",
      "model_name": "ButtonStyleModel",
      "state": {
       "font_family": null,
       "font_size": null,
       "font_style": null,
       "font_variant": null,
       "font_weight": null,
       "text_color": null,
       "text_decoration": null
      }
     },
     "60323edbae994fe98ff24e83d9438860": {
      "model_module": "@jupyter-widgets/controls",
      "model_module_version": "2.0.0",
      "model_name": "IntSliderModel",
      "state": {
       "behavior": "drag-tap",
       "description": "block_len",
       "layout": "IPY_MODEL_8e7617f603e3407795377c06b17ac39d",
       "max": 1000,
       "min": 10,
       "step": 10,
       "style": "IPY_MODEL_34cb1b2d96a04d5a8f9b8925076b771a",
       "value": 200
      }
     },
     "604db81d51574f9c85a96caa6750ab93": {
      "model_module": "@jupyter-widgets/controls",
      "model_module_version": "2.0.0",
      "model_name": "IntSliderModel",
      "state": {
       "behavior": "drag-tap",
       "description": "block_start",
       "layout": "IPY_MODEL_6e07b961de3e44f48084438dce7f0812",
       "max": 20000,
       "step": 1000,
       "style": "IPY_MODEL_815644192e99443aa53121085dfd1a45",
       "value": 1000
      }
     },
     "636883c3e3e541779751b3b889c15294": {
      "model_module": "@jupyter-widgets/controls",
      "model_module_version": "2.0.0",
      "model_name": "CheckboxStyleModel",
      "state": {
       "description_width": ""
      }
     },
     "68ae995dd83846689e4d4d215f8aff1c": {
      "model_module": "@jupyter-widgets/controls",
      "model_module_version": "2.0.0",
      "model_name": "SliderStyleModel",
      "state": {
       "description_width": ""
      }
     },
     "6e07b961de3e44f48084438dce7f0812": {
      "model_module": "@jupyter-widgets/base",
      "model_module_version": "2.0.0",
      "model_name": "LayoutModel",
      "state": {}
     },
     "71259f7b47e841cab0c0758770a99748": {
      "model_module": "@jupyter-widgets/controls",
      "model_module_version": "2.0.0",
      "model_name": "VBoxModel",
      "state": {
       "_dom_classes": [
        "widget-interact"
       ],
       "children": [
        "IPY_MODEL_3dad996e10dd442294036e953d7d8de9",
        "IPY_MODEL_f379a012e06e48b8971a6ee6cf604915",
        "IPY_MODEL_bd58f0dc0f8549da9f0b388fd878d83c",
        "IPY_MODEL_5429bdd2fb9e471e9b27751732f91743",
        "IPY_MODEL_e9871425940940e99b0053f39c03542f",
        "IPY_MODEL_a76579d209db40bfa719e04f6646c350",
        "IPY_MODEL_749471af67de41d88702af4dc69e7049",
        "IPY_MODEL_510ee8ae9c2a487caaa3cb48a8f5fe31",
        "IPY_MODEL_f0ce6f4913154454b2d4091166c4cab2"
       ],
       "layout": "IPY_MODEL_cd1397be247d4d798bc04f63e77e9e63"
      }
     },
     "72df76c24d1f41129a9c2593ccb7b818": {
      "model_module": "@jupyter-widgets/controls",
      "model_module_version": "2.0.0",
      "model_name": "ButtonStyleModel",
      "state": {
       "font_family": null,
       "font_size": null,
       "font_style": null,
       "font_variant": null,
       "font_weight": null,
       "text_color": null,
       "text_decoration": null
      }
     },
     "749471af67de41d88702af4dc69e7049": {
      "model_module": "@jupyter-widgets/controls",
      "model_module_version": "2.0.0",
      "model_name": "IntSliderModel",
      "state": {
       "behavior": "drag-tap",
       "description": "block_len",
       "layout": "IPY_MODEL_35e07e85cdee4b638d4801de7860b309",
       "max": 1000,
       "min": 10,
       "step": 10,
       "style": "IPY_MODEL_1954acac80de462e9af07bd14dcd78bb",
       "value": 200
      }
     },
     "7a7564e7793747d28c853eca7b7f712b": {
      "model_module": "@jupyter-widgets/base",
      "model_module_version": "2.0.0",
      "model_name": "LayoutModel",
      "state": {}
     },
     "815644192e99443aa53121085dfd1a45": {
      "model_module": "@jupyter-widgets/controls",
      "model_module_version": "2.0.0",
      "model_name": "SliderStyleModel",
      "state": {
       "description_width": ""
      }
     },
     "8e7617f603e3407795377c06b17ac39d": {
      "model_module": "@jupyter-widgets/base",
      "model_module_version": "2.0.0",
      "model_name": "LayoutModel",
      "state": {}
     },
     "903ba0e7b8b243cb8759f5e7f5ad9e12": {
      "model_module": "@jupyter-widgets/base",
      "model_module_version": "2.0.0",
      "model_name": "LayoutModel",
      "state": {}
     },
     "9642ba7850cc4c919c23a507f7807bf1": {
      "model_module": "@jupyter-widgets/base",
      "model_module_version": "2.0.0",
      "model_name": "LayoutModel",
      "state": {}
     },
     "9b93585b610d4ea996f387a41d55ca83": {
      "model_module": "@jupyter-widgets/base",
      "model_module_version": "2.0.0",
      "model_name": "LayoutModel",
      "state": {}
     },
     "9f2654813c2342919c650a1413f92da0": {
      "model_module": "@jupyter-widgets/base",
      "model_module_version": "2.0.0",
      "model_name": "LayoutModel",
      "state": {}
     },
     "a248e436f1bc4befbdacfcaa39b4649d": {
      "model_module": "@jupyter-widgets/controls",
      "model_module_version": "2.0.0",
      "model_name": "VBoxModel",
      "state": {
       "_dom_classes": [
        "widget-interact"
       ],
       "children": [
        "IPY_MODEL_d2ee9145ca9d498286a090b3871cdaf3",
        "IPY_MODEL_b0d1401f56ae4e72b10a73848f78e41b",
        "IPY_MODEL_c0626cd9eaf845a3b818d56ceb6a1dd6",
        "IPY_MODEL_038ae5e54b5943f6875e44223588946f",
        "IPY_MODEL_bfc60d4b9b78473ba2a5da461b9f62b6",
        "IPY_MODEL_604db81d51574f9c85a96caa6750ab93",
        "IPY_MODEL_60323edbae994fe98ff24e83d9438860",
        "IPY_MODEL_2d39f1b4ef4b4ae2895a0739e38bc818",
        "IPY_MODEL_1c92397cfda840bab1761d4f3f012b20"
       ],
       "layout": "IPY_MODEL_903ba0e7b8b243cb8759f5e7f5ad9e12"
      }
     },
     "a76579d209db40bfa719e04f6646c350": {
      "model_module": "@jupyter-widgets/controls",
      "model_module_version": "2.0.0",
      "model_name": "IntSliderModel",
      "state": {
       "behavior": "drag-tap",
       "description": "block_start",
       "layout": "IPY_MODEL_4bb211e9f73a4d208e1953a8d348e18a",
       "max": 20000,
       "step": 1000,
       "style": "IPY_MODEL_5233080edf2d454e9396dd07dc67b5fc",
       "value": 1000
      }
     },
     "a9c9f22bef0f4c82a68f3b08720336c0": {
      "model_module": "@jupyter-widgets/base",
      "model_module_version": "2.0.0",
      "model_name": "LayoutModel",
      "state": {}
     },
     "b0d1401f56ae4e72b10a73848f78e41b": {
      "model_module": "@jupyter-widgets/controls",
      "model_module_version": "2.0.0",
      "model_name": "CheckboxModel",
      "state": {
       "description": "SW_IN",
       "disabled": false,
       "layout": "IPY_MODEL_9f2654813c2342919c650a1413f92da0",
       "style": "IPY_MODEL_c95066bef72d4ae78e970e067bce628b",
       "value": true
      }
     },
     "b4a535c7879f4aafbdeea4e9d1c42189": {
      "model_module": "@jupyter-widgets/controls",
      "model_module_version": "2.0.0",
      "model_name": "SliderStyleModel",
      "state": {
       "description_width": ""
      }
     },
     "b4ace3344e7343f9a5f6a9818d04c14b": {
      "model_module": "@jupyter-widgets/controls",
      "model_module_version": "2.0.0",
      "model_name": "CheckboxStyleModel",
      "state": {
       "description_width": ""
      }
     },
     "b8cc5062c9ed49dea00f98c237d39e5c": {
      "model_module": "@jupyter-widgets/base",
      "model_module_version": "2.0.0",
      "model_name": "LayoutModel",
      "state": {}
     },
     "bd58f0dc0f8549da9f0b388fd878d83c": {
      "model_module": "@jupyter-widgets/controls",
      "model_module_version": "2.0.0",
      "model_name": "CheckboxModel",
      "state": {
       "description": "VPD",
       "disabled": false,
       "layout": "IPY_MODEL_5dca63bfb20441819da64389cc54cf0c",
       "style": "IPY_MODEL_b4ace3344e7343f9a5f6a9818d04c14b",
       "value": true
      }
     },
     "bfc60d4b9b78473ba2a5da461b9f62b6": {
      "model_module": "@jupyter-widgets/controls",
      "model_module_version": "2.0.0",
      "model_name": "IntSliderModel",
      "state": {
       "behavior": "drag-tap",
       "description": "gap_start",
       "layout": "IPY_MODEL_f358c205786b47af86571e1d70dd90fa",
       "min": 1,
       "style": "IPY_MODEL_b4a535c7879f4aafbdeea4e9d1c42189",
       "value": 56
      }
     },
     "c0626cd9eaf845a3b818d56ceb6a1dd6": {
      "model_module": "@jupyter-widgets/controls",
      "model_module_version": "2.0.0",
      "model_name": "CheckboxModel",
      "state": {
       "description": "VPD",
       "disabled": false,
       "layout": "IPY_MODEL_9b93585b610d4ea996f387a41d55ca83",
       "style": "IPY_MODEL_636883c3e3e541779751b3b889c15294",
       "value": true
      }
     },
     "c95066bef72d4ae78e970e067bce628b": {
      "model_module": "@jupyter-widgets/controls",
      "model_module_version": "2.0.0",
      "model_name": "CheckboxStyleModel",
      "state": {
       "description_width": ""
      }
     },
     "ca3a983399374a4687d2d1a010a7814a": {
      "model_module": "@jupyter-widgets/base",
      "model_module_version": "2.0.0",
      "model_name": "LayoutModel",
      "state": {}
     },
     "cd1397be247d4d798bc04f63e77e9e63": {
      "model_module": "@jupyter-widgets/base",
      "model_module_version": "2.0.0",
      "model_name": "LayoutModel",
      "state": {}
     },
     "d2ee9145ca9d498286a090b3871cdaf3": {
      "model_module": "@jupyter-widgets/controls",
      "model_module_version": "2.0.0",
      "model_name": "CheckboxModel",
      "state": {
       "description": "TA",
       "disabled": false,
       "layout": "IPY_MODEL_5d8306bbdd9a4a6da96e4c12f0916127",
       "style": "IPY_MODEL_4d0c2e8c2b0948308637cbba800287d7",
       "value": true
      }
     },
     "d80a496b34fb4236ba4e1d90a58fe3c0": {
      "model_module": "@jupyter-widgets/controls",
      "model_module_version": "2.0.0",
      "model_name": "SliderStyleModel",
      "state": {
       "description_width": ""
      }
     },
     "dde97cbcea044e0992cb63cdb6c20394": {
      "model_module": "@jupyter-widgets/base",
      "model_module_version": "2.0.0",
      "model_name": "LayoutModel",
      "state": {}
     },
     "e9871425940940e99b0053f39c03542f": {
      "model_module": "@jupyter-widgets/controls",
      "model_module_version": "2.0.0",
      "model_name": "IntSliderModel",
      "state": {
       "behavior": "drag-tap",
       "description": "gap_start",
       "layout": "IPY_MODEL_b8cc5062c9ed49dea00f98c237d39e5c",
       "min": 1,
       "style": "IPY_MODEL_68ae995dd83846689e4d4d215f8aff1c",
       "value": 30
      }
     },
     "f0ce6f4913154454b2d4091166c4cab2": {
      "model_module": "@jupyter-widgets/output",
      "model_module_version": "1.0.0",
      "model_name": "OutputModel",
      "state": {
       "layout": "IPY_MODEL_313cff49745a408c8df5864298f6ebe1"
      }
     },
     "f358c205786b47af86571e1d70dd90fa": {
      "model_module": "@jupyter-widgets/base",
      "model_module_version": "2.0.0",
      "model_name": "LayoutModel",
      "state": {}
     },
     "f379a012e06e48b8971a6ee6cf604915": {
      "model_module": "@jupyter-widgets/controls",
      "model_module_version": "2.0.0",
      "model_name": "CheckboxModel",
      "state": {
       "description": "SW_IN",
       "disabled": false,
       "layout": "IPY_MODEL_ca3a983399374a4687d2d1a010a7814a",
       "style": "IPY_MODEL_080646ba3aeb48bd945b04ee43bc7278",
       "value": true
      }
     },
     "f6cd92effc644a789dd01b6397caac2b": {
      "model_module": "@jupyter-widgets/base",
      "model_module_version": "2.0.0",
      "model_name": "LayoutModel",
      "state": {}
     }
    },
    "version_major": 2,
    "version_minor": 0
   }
  }
 },
 "nbformat": 4,
 "nbformat_minor": 5
}
