{
 "cells": [
  {
   "cell_type": "markdown",
   "id": "a66510b8-8bb0-4d94-829a-8084a78bc6ae",
   "metadata": {},
   "source": [
    "# Simple GP Hainich"
   ]
  },
  {
   "cell_type": "markdown",
   "id": "f4f477f5-e0e6-4703-88e9-cfedea0b1739",
   "metadata": {},
   "source": [
    "imputation using simple GP"
   ]
  },
  {
   "cell_type": "code",
   "execution_count": null,
   "id": "b15aae1b-11ad-4aff-a4cb-c305d6953429",
   "metadata": {},
   "outputs": [],
   "source": [
    "%load_ext autoreload\n",
    "%autoreload 2"
   ]
  },
  {
   "cell_type": "code",
   "execution_count": null,
   "id": "c238a326-d019-4f96-a4c9-4280b2e0f5b9",
   "metadata": {},
   "outputs": [],
   "source": [
    "from gpfa_imputation.imputation import *\n",
    "from gpfa_imputation.data_preparation import *\n",
    "from gpfa_imputation.simple_gp_imputation import *\n",
    "\n",
    "import torch\n",
    "import pandas as pd\n",
    "import numpy as np\n",
    "from pathlib import Path\n",
    "from pyprojroot import here\n",
    "import matplotlib.pyplot as plt\n",
    "\n",
    "from gpfa_imputation.utils import *"
   ]
  },
  {
   "cell_type": "code",
   "execution_count": null,
   "id": "25d86ef1-4011-446c-bb26-4bbf2da0d206",
   "metadata": {},
   "outputs": [],
   "source": [
    "cache_path = here() / \".cache\""
   ]
  },
  {
   "cell_type": "markdown",
   "id": "299822f2-4dbe-45c4-9b35-44a9c20815fe",
   "metadata": {},
   "source": [
    "## Load Data\n",
    "\n",
    "take the first 200 rows from the Hainich dataset"
   ]
  },
  {
   "cell_type": "code",
   "execution_count": null,
   "id": "65af3cbc-8711-4a31-9d40-b081ef707896",
   "metadata": {},
   "outputs": [],
   "source": [
    "hai_path = Path(\"FLX_DE-Hai_FLUXNET2015_FULLSET_HH_2000-2012_1-4.csv\")\n",
    "hai_raw = pd.read_csv(here(\"data\") / hai_path, na_values=[\"-9999\", \"-9999.99\"], parse_dates=[0, 1], nrows=200)"
   ]
  },
  {
   "cell_type": "code",
   "execution_count": null,
   "id": "a734d66b-7597-4dd4-8897-ef414fb5809e",
   "metadata": {},
   "outputs": [
    {
     "data": {
      "text/html": [
       "<div>\n",
       "<style scoped>\n",
       "    .dataframe tbody tr th:only-of-type {\n",
       "        vertical-align: middle;\n",
       "    }\n",
       "\n",
       "    .dataframe tbody tr th {\n",
       "        vertical-align: top;\n",
       "    }\n",
       "\n",
       "    .dataframe thead th {\n",
       "        text-align: right;\n",
       "    }\n",
       "</style>\n",
       "<table border=\"1\" class=\"dataframe\">\n",
       "  <thead>\n",
       "    <tr style=\"text-align: right;\">\n",
       "      <th></th>\n",
       "      <th>TA</th>\n",
       "      <th>SW_IN</th>\n",
       "      <th>LW_IN</th>\n",
       "      <th>VPD</th>\n",
       "    </tr>\n",
       "    <tr>\n",
       "      <th>TIMESTAMP_END</th>\n",
       "      <th></th>\n",
       "      <th></th>\n",
       "      <th></th>\n",
       "      <th></th>\n",
       "    </tr>\n",
       "  </thead>\n",
       "  <tbody>\n",
       "    <tr>\n",
       "      <th>2000-01-01 00:30:00</th>\n",
       "      <td>-0.60</td>\n",
       "      <td>0.0</td>\n",
       "      <td>302.475</td>\n",
       "      <td>0.222</td>\n",
       "    </tr>\n",
       "    <tr>\n",
       "      <th>2000-01-01 01:00:00</th>\n",
       "      <td>-0.65</td>\n",
       "      <td>0.0</td>\n",
       "      <td>302.475</td>\n",
       "      <td>0.122</td>\n",
       "    </tr>\n",
       "    <tr>\n",
       "      <th>2000-01-01 01:30:00</th>\n",
       "      <td>-0.58</td>\n",
       "      <td>0.0</td>\n",
       "      <td>301.677</td>\n",
       "      <td>0.090</td>\n",
       "    </tr>\n",
       "    <tr>\n",
       "      <th>2000-01-01 02:00:00</th>\n",
       "      <td>-0.51</td>\n",
       "      <td>0.0</td>\n",
       "      <td>301.677</td>\n",
       "      <td>0.110</td>\n",
       "    </tr>\n",
       "    <tr>\n",
       "      <th>2000-01-01 02:30:00</th>\n",
       "      <td>-0.49</td>\n",
       "      <td>0.0</td>\n",
       "      <td>301.677</td>\n",
       "      <td>0.102</td>\n",
       "    </tr>\n",
       "    <tr>\n",
       "      <th>...</th>\n",
       "      <td>...</td>\n",
       "      <td>...</td>\n",
       "      <td>...</td>\n",
       "      <td>...</td>\n",
       "    </tr>\n",
       "    <tr>\n",
       "      <th>2000-01-05 02:00:00</th>\n",
       "      <td>4.74</td>\n",
       "      <td>0.0</td>\n",
       "      <td>330.202</td>\n",
       "      <td>1.191</td>\n",
       "    </tr>\n",
       "    <tr>\n",
       "      <th>2000-01-05 02:30:00</th>\n",
       "      <td>4.75</td>\n",
       "      <td>0.0</td>\n",
       "      <td>330.202</td>\n",
       "      <td>1.057</td>\n",
       "    </tr>\n",
       "    <tr>\n",
       "      <th>2000-01-05 03:00:00</th>\n",
       "      <td>4.76</td>\n",
       "      <td>0.0</td>\n",
       "      <td>330.202</td>\n",
       "      <td>0.935</td>\n",
       "    </tr>\n",
       "    <tr>\n",
       "      <th>2000-01-05 03:30:00</th>\n",
       "      <td>4.62</td>\n",
       "      <td>0.0</td>\n",
       "      <td>330.202</td>\n",
       "      <td>1.162</td>\n",
       "    </tr>\n",
       "    <tr>\n",
       "      <th>2000-01-05 04:00:00</th>\n",
       "      <td>4.51</td>\n",
       "      <td>0.0</td>\n",
       "      <td>330.202</td>\n",
       "      <td>1.636</td>\n",
       "    </tr>\n",
       "  </tbody>\n",
       "</table>\n",
       "<p>200 rows × 4 columns</p>\n",
       "</div>"
      ],
      "text/plain": [
       "                       TA  SW_IN    LW_IN    VPD\n",
       "TIMESTAMP_END                                   \n",
       "2000-01-01 00:30:00 -0.60    0.0  302.475  0.222\n",
       "2000-01-01 01:00:00 -0.65    0.0  302.475  0.122\n",
       "2000-01-01 01:30:00 -0.58    0.0  301.677  0.090\n",
       "2000-01-01 02:00:00 -0.51    0.0  301.677  0.110\n",
       "2000-01-01 02:30:00 -0.49    0.0  301.677  0.102\n",
       "...                   ...    ...      ...    ...\n",
       "2000-01-05 02:00:00  4.74    0.0  330.202  1.191\n",
       "2000-01-05 02:30:00  4.75    0.0  330.202  1.057\n",
       "2000-01-05 03:00:00  4.76    0.0  330.202  0.935\n",
       "2000-01-05 03:30:00  4.62    0.0  330.202  1.162\n",
       "2000-01-05 04:00:00  4.51    0.0  330.202  1.636\n",
       "\n",
       "[200 rows x 4 columns]"
      ]
     },
     "execution_count": null,
     "metadata": {},
     "output_type": "execute_result"
    }
   ],
   "source": [
    "meteo_vars = {\n",
    "    \"TA_F\": \"TA\",\n",
    "    \"SW_IN_F\": \"SW_IN\",\n",
    "    \"LW_IN_F\": \"LW_IN\",\n",
    "    \"VPD_F\": \"VPD\",\n",
    "    #\"PA\": \"PA\"\n",
    "}\n",
    "\n",
    "units = {\n",
    "    'TA': '°C',\n",
    "    'SW_IN': 'W m-2',\n",
    "    'LW_IN': 'W m-2',\n",
    "    'VPD': 'hPa'\n",
    "}\n",
    "\n",
    "hai = (hai_raw\n",
    "       .rename(columns=meteo_vars)\n",
    "       .set_index(\"TIMESTAMP_END\")\n",
    "       .loc[:, meteo_vars.values()])\n",
    "hai"
   ]
  },
  {
   "cell_type": "markdown",
   "id": "e0359db4-fdc0-4e0d-9964-669498cf7ae7",
   "metadata": {},
   "source": [
    "## First Test"
   ]
  },
  {
   "cell_type": "code",
   "execution_count": null,
   "id": "d62c97b7-2d03-4046-84bc-3bca6144a20b",
   "metadata": {},
   "outputs": [],
   "source": [
    "reset_seed()\n",
    "data_r_gaps = GPFADataTest(hai[:150]).add_random_missing()\n",
    "data_c_gaps = GPFADataTest(hai[:150]).add_gap(15, meteo_vars.values())"
   ]
  },
  {
   "cell_type": "markdown",
   "id": "a9e3e3b8-65bc-4d27-b77a-ddbe653c9e26",
   "metadata": {},
   "source": [
    "### Random gaps"
   ]
  },
  {
   "cell_type": "code",
   "execution_count": null,
   "id": "dc15febe-31bd-4ef6-8403-992b6559e30e",
   "metadata": {},
   "outputs": [
    {
     "data": {
      "application/vnd.jupyter.widget-view+json": {
       "model_id": "f9fc248273974fc8a71ee5049c57ad6c",
       "version_major": 2,
       "version_minor": 0
      },
      "text/plain": [
       "  0%|          | 0/100 [00:00<?, ?it/s]"
      ]
     },
     "metadata": {},
     "output_type": "display_data"
    },
    {
     "name": "stderr",
     "output_type": "stream",
     "text": [
      "/home/simone/anaconda3/envs/data-science/lib/python3.10/site-packages/gpytorch/lazy/triangular_lazy_tensor.py:136: UserWarning: torch.triangular_solve is deprecated in favor of torch.linalg.solve_triangularand will be removed in a future PyTorch release.\n",
      "torch.linalg.solve_triangular has its arguments reversed and does not return a copy of one of the inputs.\n",
      "X = torch.triangular_solve(B, A).solution\n",
      "should be replaced with\n",
      "X = torch.linalg.solve_triangular(A, B). (Triggered internally at  ../aten/src/ATen/native/BatchLinearAlgebra.cpp:2183.)\n",
      "  res = torch.triangular_solve(right_tensor, self.evaluate(), upper=self.upper).solution\n"
     ]
    },
    {
     "data": {
      "application/vnd.jupyter.widget-view+json": {
       "model_id": "a207ed03009c4fa3920d843fe87b305b",
       "version_major": 2,
       "version_minor": 0
      },
      "text/plain": [
       "  0%|          | 0/100 [00:00<?, ?it/s]"
      ]
     },
     "metadata": {},
     "output_type": "display_data"
    },
    {
     "data": {
      "application/vnd.jupyter.widget-view+json": {
       "model_id": "3f4f774a35c5436090569f11f637ff97",
       "version_major": 2,
       "version_minor": 0
      },
      "text/plain": [
       "  0%|          | 0/100 [00:00<?, ?it/s]"
      ]
     },
     "metadata": {},
     "output_type": "display_data"
    },
    {
     "data": {
      "application/vnd.jupyter.widget-view+json": {
       "model_id": "db45e3f51c634eda9b4378a73f303435",
       "version_major": 2,
       "version_minor": 0
      },
      "text/plain": [
       "  0%|          | 0/100 [00:00<?, ?it/s]"
      ]
     },
     "metadata": {},
     "output_type": "display_data"
    }
   ],
   "source": [
    "res_r_gaps = SimpleGPImputationExplorer(data_r_gaps.data).fit().to_result(data_r_gaps.data_compl_tidy, units=units)"
   ]
  },
  {
   "cell_type": "code",
   "execution_count": null,
   "id": "40a07f31-c8cb-4d3f-95fe-b561c6939399",
   "metadata": {},
   "outputs": [
    {
     "name": "stderr",
     "output_type": "stream",
     "text": [
      "/home/simone/.local/lib/python3.10/site-packages/altair/utils/core.py:317: FutureWarning: iteritems is deprecated and will be removed in a future version. Use .items instead.\n",
      "  for col_name, dtype in df.dtypes.iteritems():\n"
     ]
    },
    {
     "data": {
      "text/html": [
       "\n",
       "<div id=\"altair-viz-187b9ded89f94df7b184442823e14d4e\"></div>\n",
       "<script type=\"text/javascript\">\n",
       "  var VEGA_DEBUG = (typeof VEGA_DEBUG == \"undefined\") ? {} : VEGA_DEBUG;\n",
       "  (function(spec, embedOpt){\n",
       "    let outputDiv = document.currentScript.previousElementSibling;\n",
       "    if (outputDiv.id !== \"altair-viz-187b9ded89f94df7b184442823e14d4e\") {\n",
       "      outputDiv = document.getElementById(\"altair-viz-187b9ded89f94df7b184442823e14d4e\");\n",
       "    }\n",
       "    const paths = {\n",
       "      \"vega\": \"https://cdn.jsdelivr.net/npm//vega@5?noext\",\n",
       "      \"vega-lib\": \"https://cdn.jsdelivr.net/npm//vega-lib?noext\",\n",
       "      \"vega-lite\": \"https://cdn.jsdelivr.net/npm//vega-lite@4.17.0?noext\",\n",
       "      \"vega-embed\": \"https://cdn.jsdelivr.net/npm//vega-embed@6?noext\",\n",
       "    };\n",
       "\n",
       "    function maybeLoadScript(lib, version) {\n",
       "      var key = `${lib.replace(\"-\", \"\")}_version`;\n",
       "      return (VEGA_DEBUG[key] == version) ?\n",
       "        Promise.resolve(paths[lib]) :\n",
       "        new Promise(function(resolve, reject) {\n",
       "          var s = document.createElement('script');\n",
       "          document.getElementsByTagName(\"head\")[0].appendChild(s);\n",
       "          s.async = true;\n",
       "          s.onload = () => {\n",
       "            VEGA_DEBUG[key] = version;\n",
       "            return resolve(paths[lib]);\n",
       "          };\n",
       "          s.onerror = () => reject(`Error loading script: ${paths[lib]}`);\n",
       "          s.src = paths[lib];\n",
       "        });\n",
       "    }\n",
       "\n",
       "    function showError(err) {\n",
       "      outputDiv.innerHTML = `<div class=\"error\" style=\"color:red;\">${err}</div>`;\n",
       "      throw err;\n",
       "    }\n",
       "\n",
       "    function displayChart(vegaEmbed) {\n",
       "      vegaEmbed(outputDiv, spec, embedOpt)\n",
       "        .catch(err => showError(`Javascript Error: ${err.message}<br>This usually means there's a typo in your chart specification. See the javascript console for the full traceback.`));\n",
       "    }\n",
       "\n",
       "    if(typeof define === \"function\" && define.amd) {\n",
       "      requirejs.config({paths});\n",
       "      require([\"vega-embed\"], displayChart, err => showError(`Error loading script: ${err.message}`));\n",
       "    } else {\n",
       "      maybeLoadScript(\"vega\", \"5\")\n",
       "        .then(() => maybeLoadScript(\"vega-lite\", \"4.17.0\"))\n",
       "        .then(() => maybeLoadScript(\"vega-embed\", \"6\"))\n",
       "        .catch(showError)\n",
       "        .then(() => displayChart(vegaEmbed));\n",
       "    }\n",
       "  })({\"config\": {\"view\": {\"continuousWidth\": 400, \"continuousHeight\": 300}}, \"vconcat\": [{\"hconcat\": [{\"layer\": [{\"data\": {\"name\": \"data-4444305ed2dd5fb34d6ea715918f0433\"}, \"mark\": {\"type\": \"point\", \"color\": \"black\", \"fillOpacity\": 1, \"strokeWidth\": 1}, \"encoding\": {\"fill\": {\"field\": \"is_missing\", \"legend\": {\"title\": [\"Observed data\", \"(is missing)\"]}, \"scale\": {\"range\": [\"#ffffff00\", \"black\"]}, \"type\": \"nominal\"}, \"shape\": {\"field\": \"is_missing\", \"type\": \"nominal\"}, \"x\": {\"field\": \"time\", \"type\": \"quantitative\"}, \"y\": {\"field\": \"value\", \"scale\": {\"zero\": false}, \"title\": \"TA [\\u00b0C]\", \"type\": \"quantitative\"}}}, {\"layer\": [{\"mark\": \"errorband\", \"encoding\": {\"color\": {\"field\": \"variable\", \"legend\": {\"title\": [\"Line: pred. mean\", \"area: +/- 2 std\", \"(variable)\"]}, \"type\": \"nominal\"}, \"tooltip\": [{\"field\": \"std\", \"format\": \".4\", \"type\": \"quantitative\"}, {\"field\": \"mean\", \"format\": \".4\", \"type\": \"quantitative\"}], \"x\": {\"field\": \"time\", \"type\": \"quantitative\"}, \"y\": {\"field\": \"err_low\", \"scale\": {\"zero\": false}, \"title\": \"TA [\\u00b0C]\", \"type\": \"quantitative\"}, \"y2\": {\"field\": \"err_high\"}}, \"height\": 150, \"transform\": [{\"calculate\": \"datum.mean - 2 * datum.std\", \"as\": \"err_low\"}, {\"calculate\": \"datum.mean + 2 * datum.std\", \"as\": \"err_high\"}], \"width\": 300}, {\"mark\": \"line\", \"encoding\": {\"color\": {\"field\": \"variable\", \"type\": \"nominal\"}, \"x\": {\"field\": \"time\", \"type\": \"quantitative\"}, \"y\": {\"field\": \"mean\", \"scale\": {\"zero\": false}, \"title\": \"TA [\\u00b0C]\", \"type\": \"quantitative\"}}, \"selection\": {\"selector001\": {\"type\": \"interval\", \"bind\": \"scales\"}}, \"title\": \"TA\"}], \"data\": {\"name\": \"data-b3a64dd73ccee3ac8161964131b6802f\"}}]}, {\"layer\": [{\"data\": {\"name\": \"data-208d0b466b3e77f592197092974c820e\"}, \"mark\": {\"type\": \"point\", \"color\": \"black\", \"fillOpacity\": 1, \"strokeWidth\": 1}, \"encoding\": {\"fill\": {\"field\": \"is_missing\", \"legend\": {\"title\": [\"Observed data\", \"(is missing)\"]}, \"scale\": {\"range\": [\"#ffffff00\", \"black\"]}, \"type\": \"nominal\"}, \"shape\": {\"field\": \"is_missing\", \"type\": \"nominal\"}, \"x\": {\"field\": \"time\", \"type\": \"quantitative\"}, \"y\": {\"field\": \"value\", \"scale\": {\"zero\": false}, \"title\": \"SW_IN [W m-2]\", \"type\": \"quantitative\"}}}, {\"layer\": [{\"mark\": \"errorband\", \"encoding\": {\"color\": {\"field\": \"variable\", \"legend\": {\"title\": [\"Line: pred. mean\", \"area: +/- 2 std\", \"(variable)\"]}, \"type\": \"nominal\"}, \"tooltip\": [{\"field\": \"std\", \"format\": \".4\", \"type\": \"quantitative\"}, {\"field\": \"mean\", \"format\": \".4\", \"type\": \"quantitative\"}], \"x\": {\"field\": \"time\", \"type\": \"quantitative\"}, \"y\": {\"field\": \"err_low\", \"scale\": {\"zero\": false}, \"title\": \"SW_IN [W m-2]\", \"type\": \"quantitative\"}, \"y2\": {\"field\": \"err_high\"}}, \"height\": 150, \"transform\": [{\"calculate\": \"datum.mean - 2 * datum.std\", \"as\": \"err_low\"}, {\"calculate\": \"datum.mean + 2 * datum.std\", \"as\": \"err_high\"}], \"width\": 300}, {\"mark\": \"line\", \"encoding\": {\"color\": {\"field\": \"variable\", \"type\": \"nominal\"}, \"x\": {\"field\": \"time\", \"type\": \"quantitative\"}, \"y\": {\"field\": \"mean\", \"scale\": {\"zero\": false}, \"title\": \"SW_IN [W m-2]\", \"type\": \"quantitative\"}}, \"selection\": {\"selector002\": {\"type\": \"interval\", \"bind\": \"scales\"}}, \"title\": \"SW_IN\"}], \"data\": {\"name\": \"data-a09eb0ee5d830976416c7132a9dbe952\"}}]}]}, {\"hconcat\": [{\"layer\": [{\"data\": {\"name\": \"data-f3902519fdae8ed84935978a4731e92a\"}, \"mark\": {\"type\": \"point\", \"color\": \"black\", \"fillOpacity\": 1, \"strokeWidth\": 1}, \"encoding\": {\"fill\": {\"field\": \"is_missing\", \"legend\": {\"title\": [\"Observed data\", \"(is missing)\"]}, \"scale\": {\"range\": [\"#ffffff00\", \"black\"]}, \"type\": \"nominal\"}, \"shape\": {\"field\": \"is_missing\", \"type\": \"nominal\"}, \"x\": {\"field\": \"time\", \"type\": \"quantitative\"}, \"y\": {\"field\": \"value\", \"scale\": {\"zero\": false}, \"title\": \"LW_IN [W m-2]\", \"type\": \"quantitative\"}}}, {\"layer\": [{\"mark\": \"errorband\", \"encoding\": {\"color\": {\"field\": \"variable\", \"legend\": {\"title\": [\"Line: pred. mean\", \"area: +/- 2 std\", \"(variable)\"]}, \"type\": \"nominal\"}, \"tooltip\": [{\"field\": \"std\", \"format\": \".4\", \"type\": \"quantitative\"}, {\"field\": \"mean\", \"format\": \".4\", \"type\": \"quantitative\"}], \"x\": {\"field\": \"time\", \"type\": \"quantitative\"}, \"y\": {\"field\": \"err_low\", \"scale\": {\"zero\": false}, \"title\": \"LW_IN [W m-2]\", \"type\": \"quantitative\"}, \"y2\": {\"field\": \"err_high\"}}, \"height\": 150, \"transform\": [{\"calculate\": \"datum.mean - 2 * datum.std\", \"as\": \"err_low\"}, {\"calculate\": \"datum.mean + 2 * datum.std\", \"as\": \"err_high\"}], \"width\": 300}, {\"mark\": \"line\", \"encoding\": {\"color\": {\"field\": \"variable\", \"type\": \"nominal\"}, \"x\": {\"field\": \"time\", \"type\": \"quantitative\"}, \"y\": {\"field\": \"mean\", \"scale\": {\"zero\": false}, \"title\": \"LW_IN [W m-2]\", \"type\": \"quantitative\"}}, \"selection\": {\"selector003\": {\"type\": \"interval\", \"bind\": \"scales\"}}, \"title\": \"LW_IN\"}], \"data\": {\"name\": \"data-a2f265952531d9c72035a440adec5a26\"}}]}, {\"layer\": [{\"data\": {\"name\": \"data-e2b44019a2b9c76e9e0ce01b3510c6cf\"}, \"mark\": {\"type\": \"point\", \"color\": \"black\", \"fillOpacity\": 1, \"strokeWidth\": 1}, \"encoding\": {\"fill\": {\"field\": \"is_missing\", \"legend\": {\"title\": [\"Observed data\", \"(is missing)\"]}, \"scale\": {\"range\": [\"#ffffff00\", \"black\"]}, \"type\": \"nominal\"}, \"shape\": {\"field\": \"is_missing\", \"type\": \"nominal\"}, \"x\": {\"field\": \"time\", \"type\": \"quantitative\"}, \"y\": {\"field\": \"value\", \"scale\": {\"zero\": false}, \"title\": \"VPD [hPa]\", \"type\": \"quantitative\"}}}, {\"layer\": [{\"mark\": \"errorband\", \"encoding\": {\"color\": {\"field\": \"variable\", \"legend\": {\"title\": [\"Line: pred. mean\", \"area: +/- 2 std\", \"(variable)\"]}, \"type\": \"nominal\"}, \"tooltip\": [{\"field\": \"std\", \"format\": \".4\", \"type\": \"quantitative\"}, {\"field\": \"mean\", \"format\": \".4\", \"type\": \"quantitative\"}], \"x\": {\"field\": \"time\", \"type\": \"quantitative\"}, \"y\": {\"field\": \"err_low\", \"scale\": {\"zero\": false}, \"title\": \"VPD [hPa]\", \"type\": \"quantitative\"}, \"y2\": {\"field\": \"err_high\"}}, \"height\": 150, \"transform\": [{\"calculate\": \"datum.mean - 2 * datum.std\", \"as\": \"err_low\"}, {\"calculate\": \"datum.mean + 2 * datum.std\", \"as\": \"err_high\"}], \"width\": 300}, {\"mark\": \"line\", \"encoding\": {\"color\": {\"field\": \"variable\", \"type\": \"nominal\"}, \"x\": {\"field\": \"time\", \"type\": \"quantitative\"}, \"y\": {\"field\": \"mean\", \"scale\": {\"zero\": false}, \"title\": \"VPD [hPa]\", \"type\": \"quantitative\"}}, \"selection\": {\"selector004\": {\"type\": \"interval\", \"bind\": \"scales\"}}, \"title\": \"VPD\"}], \"data\": {\"name\": \"data-9b9c2d658a2b0923d383f2bdbf4f4408\"}}]}]}, {\"hconcat\": []}, {\"hconcat\": []}, {\"hconcat\": []}, {\"hconcat\": []}, {\"hconcat\": []}, {\"hconcat\": []}, {\"hconcat\": []}, {\"hconcat\": []}, {\"hconcat\": []}, {\"hconcat\": []}, {\"hconcat\": []}, {\"hconcat\": []}, {\"hconcat\": []}, {\"hconcat\": []}, {\"hconcat\": []}, {\"hconcat\": []}, {\"hconcat\": []}, {\"hconcat\": []}, {\"hconcat\": []}, {\"hconcat\": []}, {\"hconcat\": []}, {\"hconcat\": []}, {\"hconcat\": []}, {\"hconcat\": []}, {\"hconcat\": []}, {\"hconcat\": []}, {\"hconcat\": []}, {\"hconcat\": []}, {\"hconcat\": []}, {\"hconcat\": []}, {\"hconcat\": []}, {\"hconcat\": []}, {\"hconcat\": []}, {\"hconcat\": []}, {\"hconcat\": []}, {\"hconcat\": []}, {\"hconcat\": []}, {\"hconcat\": []}, {\"hconcat\": []}, {\"hconcat\": []}, {\"hconcat\": []}, {\"hconcat\": []}, {\"hconcat\": []}, {\"hconcat\": []}, {\"hconcat\": []}, {\"hconcat\": []}, {\"hconcat\": []}, {\"hconcat\": []}, {\"hconcat\": []}, {\"hconcat\": []}, {\"hconcat\": []}, {\"hconcat\": []}, {\"hconcat\": []}, {\"hconcat\": []}, {\"hconcat\": []}, {\"hconcat\": []}, {\"hconcat\": []}, {\"hconcat\": []}, {\"hconcat\": []}, {\"hconcat\": []}, {\"hconcat\": []}, {\"hconcat\": []}, {\"hconcat\": []}, {\"hconcat\": []}, {\"hconcat\": []}, {\"hconcat\": []}, {\"hconcat\": []}, {\"hconcat\": []}, {\"hconcat\": []}, {\"hconcat\": []}, {\"hconcat\": []}, {\"hconcat\": []}, {\"hconcat\": []}, {\"hconcat\": []}, {\"hconcat\": []}, {\"hconcat\": []}, {\"hconcat\": []}, {\"hconcat\": []}, {\"hconcat\": []}, {\"hconcat\": []}, {\"hconcat\": []}, {\"hconcat\": []}, {\"hconcat\": []}, {\"hconcat\": []}, {\"hconcat\": []}, {\"hconcat\": []}, {\"hconcat\": []}, {\"hconcat\": []}, {\"hconcat\": []}, {\"hconcat\": []}, {\"hconcat\": []}, {\"hconcat\": []}, {\"hconcat\": []}, {\"hconcat\": []}, {\"hconcat\": []}, {\"hconcat\": []}, {\"hconcat\": []}, {\"hconcat\": []}, {\"hconcat\": []}, {\"hconcat\": []}, {\"hconcat\": []}, {\"hconcat\": []}, {\"hconcat\": []}, {\"hconcat\": []}, {\"hconcat\": []}, {\"hconcat\": []}, {\"hconcat\": []}, {\"hconcat\": []}, {\"hconcat\": []}, {\"hconcat\": []}, {\"hconcat\": []}, {\"hconcat\": []}, {\"hconcat\": []}, {\"hconcat\": []}, {\"hconcat\": []}, {\"hconcat\": []}, {\"hconcat\": []}, {\"hconcat\": []}, {\"hconcat\": []}, {\"hconcat\": []}, {\"hconcat\": []}, {\"hconcat\": []}, {\"hconcat\": []}, {\"hconcat\": []}, {\"hconcat\": []}, {\"hconcat\": []}, {\"hconcat\": []}, {\"hconcat\": []}, {\"hconcat\": []}, {\"hconcat\": []}, {\"hconcat\": []}, {\"hconcat\": []}, {\"hconcat\": []}, {\"hconcat\": []}, {\"hconcat\": []}, {\"hconcat\": []}, {\"hconcat\": []}, {\"hconcat\": []}, {\"hconcat\": []}, {\"hconcat\": []}, {\"hconcat\": []}, {\"hconcat\": []}, {\"hconcat\": []}, {\"hconcat\": []}, {\"hconcat\": []}, {\"hconcat\": []}, {\"hconcat\": []}, {\"hconcat\": []}, {\"hconcat\": []}, {\"hconcat\": []}, {\"hconcat\": []}, {\"hconcat\": []}, {\"hconcat\": []}, {\"hconcat\": []}, {\"hconcat\": []}, {\"hconcat\": []}, {\"hconcat\": []}, {\"hconcat\": []}, {\"hconcat\": []}, {\"hconcat\": []}, {\"hconcat\": []}, {\"hconcat\": []}, {\"hconcat\": []}, {\"hconcat\": []}, {\"hconcat\": []}, {\"hconcat\": []}, {\"hconcat\": []}, {\"hconcat\": []}, {\"hconcat\": []}, {\"hconcat\": []}, {\"hconcat\": []}, {\"hconcat\": []}, {\"hconcat\": []}, {\"hconcat\": []}, {\"hconcat\": []}, {\"hconcat\": []}, {\"hconcat\": []}, {\"hconcat\": []}, {\"hconcat\": []}, {\"hconcat\": []}, {\"hconcat\": []}, {\"hconcat\": []}, {\"hconcat\": []}, {\"hconcat\": []}, {\"hconcat\": []}, {\"hconcat\": []}, {\"hconcat\": []}, {\"hconcat\": []}, {\"hconcat\": []}, {\"hconcat\": []}, {\"hconcat\": []}, {\"hconcat\": []}, {\"hconcat\": []}, {\"hconcat\": []}, {\"hconcat\": []}, {\"hconcat\": []}, {\"hconcat\": []}, {\"hconcat\": []}, {\"hconcat\": []}, {\"hconcat\": []}, {\"hconcat\": []}, {\"hconcat\": []}, {\"hconcat\": []}, {\"hconcat\": []}, {\"hconcat\": []}, {\"hconcat\": []}, {\"hconcat\": []}, {\"hconcat\": []}, {\"hconcat\": []}, {\"hconcat\": []}, {\"hconcat\": []}, {\"hconcat\": []}, {\"hconcat\": []}, {\"hconcat\": []}, {\"hconcat\": []}, {\"hconcat\": []}, {\"hconcat\": []}, {\"hconcat\": []}, {\"hconcat\": []}, {\"hconcat\": []}, {\"hconcat\": []}, {\"hconcat\": []}, {\"hconcat\": []}, {\"hconcat\": []}, {\"hconcat\": []}, {\"hconcat\": []}, {\"hconcat\": []}, {\"hconcat\": []}, {\"hconcat\": []}, {\"hconcat\": []}, {\"hconcat\": []}, {\"hconcat\": []}, {\"hconcat\": []}, {\"hconcat\": []}, {\"hconcat\": []}, {\"hconcat\": []}, {\"hconcat\": []}, {\"hconcat\": []}, {\"hconcat\": []}, {\"hconcat\": []}, {\"hconcat\": []}, {\"hconcat\": []}, {\"hconcat\": []}, {\"hconcat\": []}, {\"hconcat\": []}, {\"hconcat\": []}, {\"hconcat\": []}, {\"hconcat\": []}, {\"hconcat\": []}, {\"hconcat\": []}, {\"hconcat\": []}, {\"hconcat\": []}, {\"hconcat\": []}, {\"hconcat\": []}, {\"hconcat\": []}, {\"hconcat\": []}, {\"hconcat\": []}, {\"hconcat\": []}, {\"hconcat\": []}, {\"hconcat\": []}, {\"hconcat\": []}, {\"hconcat\": []}, {\"hconcat\": []}, {\"hconcat\": []}, {\"hconcat\": []}, {\"hconcat\": []}, {\"hconcat\": []}, {\"hconcat\": []}, {\"hconcat\": []}, {\"hconcat\": []}, {\"hconcat\": []}, {\"hconcat\": []}, {\"hconcat\": []}, {\"hconcat\": []}, {\"hconcat\": []}, {\"hconcat\": []}, {\"hconcat\": []}, {\"hconcat\": []}, {\"hconcat\": []}, {\"hconcat\": []}, {\"hconcat\": []}, {\"hconcat\": []}, {\"hconcat\": []}, {\"hconcat\": []}, {\"hconcat\": []}, {\"hconcat\": []}, {\"hconcat\": []}, {\"hconcat\": []}, {\"hconcat\": []}, {\"hconcat\": []}, {\"hconcat\": []}, {\"hconcat\": []}, {\"hconcat\": []}, {\"hconcat\": []}, {\"hconcat\": []}, {\"hconcat\": []}, {\"hconcat\": []}, {\"hconcat\": []}], \"$schema\": \"https://vega.github.io/schema/vega-lite/v4.17.0.json\", \"datasets\": {\"data-4444305ed2dd5fb34d6ea715918f0433\": [{\"time\": 0.0, \"variable\": \"TA\", \"value\": -0.6, \"is_missing\": false}, {\"time\": 1.0, \"variable\": \"TA\", \"value\": -0.65, \"is_missing\": true}, {\"time\": 2.0, \"variable\": \"TA\", \"value\": -0.58, \"is_missing\": false}, {\"time\": 3.0, \"variable\": \"TA\", \"value\": -0.51, \"is_missing\": true}, {\"time\": 4.0, \"variable\": \"TA\", \"value\": -0.49, \"is_missing\": false}, {\"time\": 5.0, \"variable\": \"TA\", \"value\": -0.4, \"is_missing\": false}, {\"time\": 6.0, \"variable\": \"TA\", \"value\": -0.36, \"is_missing\": false}, {\"time\": 7.0, \"variable\": \"TA\", \"value\": -0.35, \"is_missing\": false}, {\"time\": 8.0, \"variable\": \"TA\", \"value\": -0.28, \"is_missing\": true}, {\"time\": 9.0, \"variable\": \"TA\", \"value\": -0.27, \"is_missing\": false}, {\"time\": 10.0, \"variable\": \"TA\", \"value\": -0.23, \"is_missing\": false}, {\"time\": 11.0, \"variable\": \"TA\", \"value\": -0.23, \"is_missing\": false}, {\"time\": 12.0, \"variable\": \"TA\", \"value\": -0.22, \"is_missing\": false}, {\"time\": 13.0, \"variable\": \"TA\", \"value\": -0.24, \"is_missing\": false}, {\"time\": 14.0, \"variable\": \"TA\", \"value\": -0.23, \"is_missing\": false}, {\"time\": 15.0, \"variable\": \"TA\", \"value\": -0.22, \"is_missing\": false}, {\"time\": 16.0, \"variable\": \"TA\", \"value\": -0.19, \"is_missing\": false}, {\"time\": 17.0, \"variable\": \"TA\", \"value\": -0.14, \"is_missing\": false}, {\"time\": 18.0, \"variable\": \"TA\", \"value\": -0.03, \"is_missing\": false}, {\"time\": 19.0, \"variable\": \"TA\", \"value\": 0.04, \"is_missing\": false}, {\"time\": 20.0, \"variable\": \"TA\", \"value\": 0.1, \"is_missing\": true}, {\"time\": 21.0, \"variable\": \"TA\", \"value\": 0.18, \"is_missing\": false}, {\"time\": 22.0, \"variable\": \"TA\", \"value\": 0.21, \"is_missing\": false}, {\"time\": 23.0, \"variable\": \"TA\", \"value\": 0.23, \"is_missing\": true}, {\"time\": 24.0, \"variable\": \"TA\", \"value\": 0.33, \"is_missing\": false}, {\"time\": 25.0, \"variable\": \"TA\", \"value\": 0.41, \"is_missing\": false}, {\"time\": 26.0, \"variable\": \"TA\", \"value\": 0.44, \"is_missing\": false}, {\"time\": 27.0, \"variable\": \"TA\", \"value\": 0.48, \"is_missing\": false}, {\"time\": 28.0, \"variable\": \"TA\", \"value\": 0.49, \"is_missing\": false}, {\"time\": 29.0, \"variable\": \"TA\", \"value\": 0.51, \"is_missing\": false}, {\"time\": 30.0, \"variable\": \"TA\", \"value\": 0.52, \"is_missing\": false}, {\"time\": 31.0, \"variable\": \"TA\", \"value\": 0.57, \"is_missing\": false}, {\"time\": 32.0, \"variable\": \"TA\", \"value\": 0.73, \"is_missing\": false}, {\"time\": 33.0, \"variable\": \"TA\", \"value\": 0.77, \"is_missing\": false}, {\"time\": 34.0, \"variable\": \"TA\", \"value\": 0.84, \"is_missing\": true}, {\"time\": 35.0, \"variable\": \"TA\", \"value\": 0.99, \"is_missing\": true}, {\"time\": 36.0, \"variable\": \"TA\", \"value\": 1.35, \"is_missing\": false}, {\"time\": 37.0, \"variable\": \"TA\", \"value\": 1.86, \"is_missing\": false}, {\"time\": 38.0, \"variable\": \"TA\", \"value\": 2.01, \"is_missing\": false}, {\"time\": 39.0, \"variable\": \"TA\", \"value\": 2.07, \"is_missing\": false}, {\"time\": 40.0, \"variable\": \"TA\", \"value\": 2.0, \"is_missing\": false}, {\"time\": 41.0, \"variable\": \"TA\", \"value\": 2.19, \"is_missing\": false}, {\"time\": 42.0, \"variable\": \"TA\", \"value\": 2.26, \"is_missing\": true}, {\"time\": 43.0, \"variable\": \"TA\", \"value\": 2.53, \"is_missing\": true}, {\"time\": 44.0, \"variable\": \"TA\", \"value\": 2.59, \"is_missing\": false}, {\"time\": 45.0, \"variable\": \"TA\", \"value\": 2.6, \"is_missing\": false}, {\"time\": 46.0, \"variable\": \"TA\", \"value\": 2.53, \"is_missing\": false}, {\"time\": 47.0, \"variable\": \"TA\", \"value\": 2.3, \"is_missing\": false}, {\"time\": 48.0, \"variable\": \"TA\", \"value\": 2.08, \"is_missing\": true}, {\"time\": 49.0, \"variable\": \"TA\", \"value\": 1.93, \"is_missing\": false}, {\"time\": 50.0, \"variable\": \"TA\", \"value\": 1.84, \"is_missing\": false}, {\"time\": 51.0, \"variable\": \"TA\", \"value\": 1.85, \"is_missing\": false}, {\"time\": 52.0, \"variable\": \"TA\", \"value\": 1.59, \"is_missing\": false}, {\"time\": 53.0, \"variable\": \"TA\", \"value\": 1.43, \"is_missing\": false}, {\"time\": 54.0, \"variable\": \"TA\", \"value\": 1.33, \"is_missing\": false}, {\"time\": 55.0, \"variable\": \"TA\", \"value\": 1.23, \"is_missing\": true}, {\"time\": 56.0, \"variable\": \"TA\", \"value\": 1.04, \"is_missing\": true}, {\"time\": 57.0, \"variable\": \"TA\", \"value\": 0.94, \"is_missing\": true}, {\"time\": 58.0, \"variable\": \"TA\", \"value\": 0.81, \"is_missing\": false}, {\"time\": 59.0, \"variable\": \"TA\", \"value\": 0.79, \"is_missing\": false}, {\"time\": 60.0, \"variable\": \"TA\", \"value\": 0.68, \"is_missing\": false}, {\"time\": 61.0, \"variable\": \"TA\", \"value\": 0.65, \"is_missing\": false}, {\"time\": 62.0, \"variable\": \"TA\", \"value\": 0.58, \"is_missing\": false}, {\"time\": 63.0, \"variable\": \"TA\", \"value\": 0.49, \"is_missing\": false}, {\"time\": 64.0, \"variable\": \"TA\", \"value\": 0.57, \"is_missing\": false}, {\"time\": 65.0, \"variable\": \"TA\", \"value\": 0.25, \"is_missing\": false}, {\"time\": 66.0, \"variable\": \"TA\", \"value\": 0.35, \"is_missing\": false}, {\"time\": 67.0, \"variable\": \"TA\", \"value\": 0.27, \"is_missing\": false}, {\"time\": 68.0, \"variable\": \"TA\", \"value\": 0.35, \"is_missing\": false}, {\"time\": 69.0, \"variable\": \"TA\", \"value\": 0.57, \"is_missing\": true}, {\"time\": 70.0, \"variable\": \"TA\", \"value\": 0.63, \"is_missing\": true}, {\"time\": 71.0, \"variable\": \"TA\", \"value\": 0.73, \"is_missing\": false}, {\"time\": 72.0, \"variable\": \"TA\", \"value\": 0.78, \"is_missing\": true}, {\"time\": 73.0, \"variable\": \"TA\", \"value\": 1.05, \"is_missing\": false}, {\"time\": 74.0, \"variable\": \"TA\", \"value\": 1.19, \"is_missing\": true}, {\"time\": 75.0, \"variable\": \"TA\", \"value\": 1.41, \"is_missing\": false}, {\"time\": 76.0, \"variable\": \"TA\", \"value\": 1.54, \"is_missing\": true}, {\"time\": 77.0, \"variable\": \"TA\", \"value\": 1.08, \"is_missing\": false}, {\"time\": 78.0, \"variable\": \"TA\", \"value\": 0.62, \"is_missing\": true}, {\"time\": 79.0, \"variable\": \"TA\", \"value\": 0.57, \"is_missing\": false}, {\"time\": 80.0, \"variable\": \"TA\", \"value\": 0.53, \"is_missing\": false}, {\"time\": 81.0, \"variable\": \"TA\", \"value\": 0.57, \"is_missing\": false}, {\"time\": 82.0, \"variable\": \"TA\", \"value\": 0.51, \"is_missing\": false}, {\"time\": 83.0, \"variable\": \"TA\", \"value\": 0.39, \"is_missing\": false}, {\"time\": 84.0, \"variable\": \"TA\", \"value\": 0.35, \"is_missing\": false}, {\"time\": 85.0, \"variable\": \"TA\", \"value\": 0.4, \"is_missing\": false}, {\"time\": 86.0, \"variable\": \"TA\", \"value\": 0.66, \"is_missing\": false}, {\"time\": 87.0, \"variable\": \"TA\", \"value\": 0.76, \"is_missing\": true}, {\"time\": 88.0, \"variable\": \"TA\", \"value\": 0.81, \"is_missing\": false}, {\"time\": 89.0, \"variable\": \"TA\", \"value\": 0.94, \"is_missing\": false}, {\"time\": 90.0, \"variable\": \"TA\", \"value\": 0.97, \"is_missing\": true}, {\"time\": 91.0, \"variable\": \"TA\", \"value\": 0.85, \"is_missing\": false}, {\"time\": 92.0, \"variable\": \"TA\", \"value\": 0.77, \"is_missing\": false}, {\"time\": 93.0, \"variable\": \"TA\", \"value\": 0.63, \"is_missing\": false}, {\"time\": 94.0, \"variable\": \"TA\", \"value\": 0.52, \"is_missing\": true}, {\"time\": 95.0, \"variable\": \"TA\", \"value\": 0.48, \"is_missing\": false}, {\"time\": 96.0, \"variable\": \"TA\", \"value\": 0.41, \"is_missing\": true}, {\"time\": 97.0, \"variable\": \"TA\", \"value\": 0.29, \"is_missing\": false}, {\"time\": 98.0, \"variable\": \"TA\", \"value\": 0.31, \"is_missing\": false}, {\"time\": 99.0, \"variable\": \"TA\", \"value\": 0.42, \"is_missing\": true}, {\"time\": 100.0, \"variable\": \"TA\", \"value\": 0.51, \"is_missing\": false}, {\"time\": 101.0, \"variable\": \"TA\", \"value\": 0.57, \"is_missing\": false}, {\"time\": 102.0, \"variable\": \"TA\", \"value\": 0.65, \"is_missing\": true}, {\"time\": 103.0, \"variable\": \"TA\", \"value\": 0.81, \"is_missing\": false}, {\"time\": 104.0, \"variable\": \"TA\", \"value\": 0.95, \"is_missing\": true}, {\"time\": 105.0, \"variable\": \"TA\", \"value\": 1.09, \"is_missing\": false}, {\"time\": 106.0, \"variable\": \"TA\", \"value\": 1.18, \"is_missing\": false}, {\"time\": 107.0, \"variable\": \"TA\", \"value\": 1.35, \"is_missing\": false}, {\"time\": 108.0, \"variable\": \"TA\", \"value\": 1.42, \"is_missing\": false}, {\"time\": 109.0, \"variable\": \"TA\", \"value\": 1.42, \"is_missing\": true}, {\"time\": 110.0, \"variable\": \"TA\", \"value\": 1.57, \"is_missing\": false}, {\"time\": 111.0, \"variable\": \"TA\", \"value\": 1.67, \"is_missing\": true}, {\"time\": 112.0, \"variable\": \"TA\", \"value\": 1.8, \"is_missing\": false}, {\"time\": 113.0, \"variable\": \"TA\", \"value\": 1.86, \"is_missing\": false}, {\"time\": 114.0, \"variable\": \"TA\", \"value\": 1.91, \"is_missing\": false}, {\"time\": 115.0, \"variable\": \"TA\", \"value\": 1.95, \"is_missing\": false}, {\"time\": 116.0, \"variable\": \"TA\", \"value\": 1.99, \"is_missing\": false}, {\"time\": 117.0, \"variable\": \"TA\", \"value\": 2.1, \"is_missing\": false}, {\"time\": 118.0, \"variable\": \"TA\", \"value\": 2.32, \"is_missing\": true}, {\"time\": 119.0, \"variable\": \"TA\", \"value\": 2.53, \"is_missing\": true}, {\"time\": 120.0, \"variable\": \"TA\", \"value\": 2.48, \"is_missing\": false}, {\"time\": 121.0, \"variable\": \"TA\", \"value\": 2.39, \"is_missing\": true}, {\"time\": 122.0, \"variable\": \"TA\", \"value\": 2.52, \"is_missing\": true}, {\"time\": 123.0, \"variable\": \"TA\", \"value\": 2.68, \"is_missing\": false}, {\"time\": 124.0, \"variable\": \"TA\", \"value\": 2.7, \"is_missing\": false}, {\"time\": 125.0, \"variable\": \"TA\", \"value\": 2.7, \"is_missing\": false}, {\"time\": 126.0, \"variable\": \"TA\", \"value\": 2.61, \"is_missing\": true}, {\"time\": 127.0, \"variable\": \"TA\", \"value\": 2.45, \"is_missing\": false}, {\"time\": 128.0, \"variable\": \"TA\", \"value\": 2.36, \"is_missing\": true}, {\"time\": 129.0, \"variable\": \"TA\", \"value\": 2.33, \"is_missing\": false}, {\"time\": 130.0, \"variable\": \"TA\", \"value\": 2.22, \"is_missing\": true}, {\"time\": 131.0, \"variable\": \"TA\", \"value\": 2.07, \"is_missing\": true}, {\"time\": 132.0, \"variable\": \"TA\", \"value\": 1.96, \"is_missing\": true}, {\"time\": 133.0, \"variable\": \"TA\", \"value\": 2.01, \"is_missing\": true}, {\"time\": 134.0, \"variable\": \"TA\", \"value\": 2.01, \"is_missing\": true}, {\"time\": 135.0, \"variable\": \"TA\", \"value\": 2.06, \"is_missing\": false}, {\"time\": 136.0, \"variable\": \"TA\", \"value\": 2.14, \"is_missing\": false}, {\"time\": 137.0, \"variable\": \"TA\", \"value\": 2.11, \"is_missing\": false}, {\"time\": 138.0, \"variable\": \"TA\", \"value\": 2.1, \"is_missing\": false}, {\"time\": 139.0, \"variable\": \"TA\", \"value\": 2.07, \"is_missing\": false}, {\"time\": 140.0, \"variable\": \"TA\", \"value\": 2.09, \"is_missing\": false}, {\"time\": 141.0, \"variable\": \"TA\", \"value\": 2.11, \"is_missing\": false}, {\"time\": 142.0, \"variable\": \"TA\", \"value\": 2.1, \"is_missing\": false}, {\"time\": 143.0, \"variable\": \"TA\", \"value\": 2.1, \"is_missing\": true}, {\"time\": 144.0, \"variable\": \"TA\", \"value\": 2.01, \"is_missing\": false}, {\"time\": 145.0, \"variable\": \"TA\", \"value\": 2.05, \"is_missing\": true}, {\"time\": 146.0, \"variable\": \"TA\", \"value\": 2.13, \"is_missing\": false}, {\"time\": 147.0, \"variable\": \"TA\", \"value\": 2.1, \"is_missing\": false}, {\"time\": 148.0, \"variable\": \"TA\", \"value\": 2.19, \"is_missing\": false}, {\"time\": 149.0, \"variable\": \"TA\", \"value\": 2.27, \"is_missing\": false}], \"data-b3a64dd73ccee3ac8161964131b6802f\": [{\"mean\": -0.588371753692627, \"time\": 0.0, \"std\": 0.09919918328523636, \"variable\": \"TA\"}, {\"mean\": -0.5932571887969971, \"time\": 1.0, \"std\": 0.0891566053032875, \"variable\": \"TA\"}, {\"mean\": -0.5735374689102173, \"time\": 2.0, \"std\": 0.08674540370702744, \"variable\": \"TA\"}, {\"mean\": -0.5346291065216064, \"time\": 3.0, \"std\": 0.08560080081224442, \"variable\": \"TA\"}, {\"mean\": -0.4830852746963501, \"time\": 4.0, \"std\": 0.0840098112821579, \"variable\": \"TA\"}, {\"mean\": -0.42610013484954834, \"time\": 5.0, \"std\": 0.08259976655244827, \"variable\": \"TA\"}, {\"mean\": -0.3703373670578003, \"time\": 6.0, \"std\": 0.08203668147325516, \"variable\": \"TA\"}, {\"mean\": -0.32135069370269775, \"time\": 7.0, \"std\": 0.08215213567018509, \"variable\": \"TA\"}, {\"mean\": -0.28296518325805664, \"time\": 8.0, \"std\": 0.08234287053346634, \"variable\": \"TA\"}, {\"mean\": -0.2567180395126343, \"time\": 9.0, \"std\": 0.08215892314910889, \"variable\": \"TA\"}, {\"mean\": -0.24203205108642578, \"time\": 10.0, \"std\": 0.08162913471460342, \"variable\": \"TA\"}, {\"mean\": -0.23621046543121338, \"time\": 11.0, \"std\": 0.08100896328687668, \"variable\": \"TA\"}, {\"mean\": -0.23503243923187256, \"time\": 12.0, \"std\": 0.08063991367816925, \"variable\": \"TA\"}, {\"mean\": -0.23327362537384033, \"time\": 13.0, \"std\": 0.08060847967863083, \"variable\": \"TA\"}, {\"mean\": -0.2254652976989746, \"time\": 14.0, \"std\": 0.08100051432847977, \"variable\": \"TA\"}, {\"mean\": -0.20672428607940674, \"time\": 15.0, \"std\": 0.08178514242172241, \"variable\": \"TA\"}, {\"mean\": -0.17345738410949707, \"time\": 16.0, \"std\": 0.08302514255046844, \"variable\": \"TA\"}, {\"mean\": -0.123954176902771, \"time\": 17.0, \"std\": 0.08470229059457779, \"variable\": \"TA\"}, {\"mean\": -0.05865144729614258, \"time\": 18.0, \"std\": 0.08665537089109421, \"variable\": \"TA\"}, {\"mean\": 0.019476652145385742, \"time\": 19.0, \"std\": 0.0887192040681839, \"variable\": \"TA\"}, {\"mean\": 0.10551661252975464, \"time\": 20.0, \"std\": 0.09058433026075363, \"variable\": \"TA\"}, {\"mean\": 0.1927970051765442, \"time\": 21.0, \"std\": 0.09174492955207825, \"variable\": \"TA\"}, {\"mean\": 0.27431315183639526, \"time\": 22.0, \"std\": 0.0917772427201271, \"variable\": \"TA\"}, {\"mean\": 0.34358149766921997, \"time\": 23.0, \"std\": 0.0904378890991211, \"variable\": \"TA\"}, {\"mean\": 0.3960905075073242, \"time\": 24.0, \"std\": 0.08794081956148148, \"variable\": \"TA\"}, {\"mean\": 0.4304159879684448, \"time\": 25.0, \"std\": 0.08508708328008652, \"variable\": \"TA\"}, {\"mean\": 0.44890469312667847, \"time\": 26.0, \"std\": 0.0827680304646492, \"variable\": \"TA\"}, {\"mean\": 0.4577130675315857, \"time\": 27.0, \"std\": 0.08161205798387527, \"variable\": \"TA\"}, {\"mean\": 0.4662479758262634, \"time\": 28.0, \"std\": 0.08151791244745255, \"variable\": \"TA\"}, {\"mean\": 0.48557692766189575, \"time\": 29.0, \"std\": 0.0819322019815445, \"variable\": \"TA\"}, {\"mean\": 0.5268239974975586, \"time\": 30.0, \"std\": 0.08235763758420944, \"variable\": \"TA\"}, {\"mean\": 0.5991483926773071, \"time\": 31.0, \"std\": 0.08270064741373062, \"variable\": \"TA\"}, {\"mean\": 0.7078116536140442, \"time\": 32.0, \"std\": 0.08321599662303925, \"variable\": \"TA\"}, {\"mean\": 0.8537311553955078, \"time\": 33.0, \"std\": 0.08398144692182541, \"variable\": \"TA\"}, {\"mean\": 1.032714605331421, \"time\": 34.0, \"std\": 0.08461787551641464, \"variable\": \"TA\"}, {\"mean\": 1.2365278005599976, \"time\": 35.0, \"std\": 0.08457563072443008, \"variable\": \"TA\"}, {\"mean\": 1.4540891647338867, \"time\": 36.0, \"std\": 0.08361005783081055, \"variable\": \"TA\"}, {\"mean\": 1.6728993654251099, \"time\": 37.0, \"std\": 0.08225172013044357, \"variable\": \"TA\"}, {\"mean\": 1.8812081813812256, \"time\": 38.0, \"std\": 0.08171416074037552, \"variable\": \"TA\"}, {\"mean\": 2.0685832500457764, \"time\": 39.0, \"std\": 0.08310171961784363, \"variable\": \"TA\"}, {\"mean\": 2.226871967315674, \"time\": 40.0, \"std\": 0.08643662929534912, \"variable\": \"TA\"}, {\"mean\": 2.3504881858825684, \"time\": 41.0, \"std\": 0.09050511568784714, \"variable\": \"TA\"}, {\"mean\": 2.4361400604248047, \"time\": 42.0, \"std\": 0.09367886930704117, \"variable\": \"TA\"}, {\"mean\": 2.482569694519043, \"time\": 43.0, \"std\": 0.09480907768011093, \"variable\": \"TA\"}, {\"mean\": 2.490139961242676, \"time\": 44.0, \"std\": 0.09371105581521988, \"variable\": \"TA\"}, {\"mean\": 2.4606587886810303, \"time\": 45.0, \"std\": 0.09110181778669357, \"variable\": \"TA\"}, {\"mean\": 2.397087335586548, \"time\": 46.0, \"std\": 0.08810176700353622, \"variable\": \"TA\"}, {\"mean\": 2.3036866188049316, \"time\": 47.0, \"std\": 0.08567389845848083, \"variable\": \"TA\"}, {\"mean\": 2.185453414916992, \"time\": 48.0, \"std\": 0.08415538817644119, \"variable\": \"TA\"}, {\"mean\": 2.0481698513031006, \"time\": 49.0, \"std\": 0.08332556486129761, \"variable\": \"TA\"}, {\"mean\": 1.8981223106384277, \"time\": 50.0, \"std\": 0.08285830914974213, \"variable\": \"TA\"}, {\"mean\": 1.7416409254074097, \"time\": 51.0, \"std\": 0.08274444937705994, \"variable\": \"TA\"}, {\"mean\": 1.5849034786224365, \"time\": 52.0, \"std\": 0.08328480273485184, \"variable\": \"TA\"}, {\"mean\": 1.433478832244873, \"time\": 53.0, \"std\": 0.0847492516040802, \"variable\": \"TA\"}, {\"mean\": 1.2920268774032593, \"time\": 54.0, \"std\": 0.08691030740737915, \"variable\": \"TA\"}, {\"mean\": 1.1637967824935913, \"time\": 55.0, \"std\": 0.08902233093976974, \"variable\": \"TA\"}, {\"mean\": 1.050215721130371, \"time\": 56.0, \"std\": 0.09018365293741226, \"variable\": \"TA\"}, {\"mean\": 0.9506967067718506, \"time\": 57.0, \"std\": 0.08984608948230743, \"variable\": \"TA\"}, {\"mean\": 0.8625949025154114, \"time\": 58.0, \"std\": 0.08819922804832458, \"variable\": \"TA\"}, {\"mean\": 0.7817625403404236, \"time\": 59.0, \"std\": 0.08613087981939316, \"variable\": \"TA\"}, {\"mean\": 0.7035712599754333, \"time\": 60.0, \"std\": 0.08474117517471313, \"variable\": \"TA\"}, {\"mean\": 0.624305009841919, \"time\": 61.0, \"std\": 0.08461937308311462, \"variable\": \"TA\"}, {\"mean\": 0.5427621603012085, \"time\": 62.0, \"std\": 0.0854564979672432, \"variable\": \"TA\"}, {\"mean\": 0.4615001082420349, \"time\": 63.0, \"std\": 0.08640584349632263, \"variable\": \"TA\"}, {\"mean\": 0.3873063325881958, \"time\": 64.0, \"std\": 0.08685576170682907, \"variable\": \"TA\"}, {\"mean\": 0.3305540680885315, \"time\": 65.0, \"std\": 0.08687122911214828, \"variable\": \"TA\"}, {\"mean\": 0.3033369779586792, \"time\": 66.0, \"std\": 0.08702337741851807, \"variable\": \"TA\"}, {\"mean\": 0.31665951013565063, \"time\": 67.0, \"std\": 0.08778218179941177, \"variable\": \"TA\"}, {\"mean\": 0.3772276043891907, \"time\": 68.0, \"std\": 0.08899983763694763, \"variable\": \"TA\"}, {\"mean\": 0.4847485423088074, \"time\": 69.0, \"std\": 0.08999433368444443, \"variable\": \"TA\"}, {\"mean\": 0.6303839683532715, \"time\": 70.0, \"std\": 0.09010548889636993, \"variable\": \"TA\"}, {\"mean\": 0.7970923185348511, \"time\": 71.0, \"std\": 0.08920007944107056, \"variable\": \"TA\"}, {\"mean\": 0.9618958234786987, \"time\": 72.0, \"std\": 0.087748683989048, \"variable\": \"TA\"}, {\"mean\": 1.0997904539108276, \"time\": 73.0, \"std\": 0.08646389096975327, \"variable\": \"TA\"}, {\"mean\": 1.188546061515808, \"time\": 74.0, \"std\": 0.08578120172023773, \"variable\": \"TA\"}, {\"mean\": 1.213205337524414, \"time\": 75.0, \"std\": 0.08559457957744598, \"variable\": \"TA\"}, {\"mean\": 1.1693392992019653, \"time\": 76.0, \"std\": 0.08544523268938065, \"variable\": \"TA\"}, {\"mean\": 1.0643705129623413, \"time\": 77.0, \"std\": 0.08492758125066757, \"variable\": \"TA\"}, {\"mean\": 0.9162885546684265, \"time\": 78.0, \"std\": 0.08396092802286148, \"variable\": \"TA\"}, {\"mean\": 0.7503400444984436, \"time\": 79.0, \"std\": 0.08276895433664322, \"variable\": \"TA\"}, {\"mean\": 0.5943044424057007, \"time\": 80.0, \"std\": 0.08169864863157272, \"variable\": \"TA\"}, {\"mean\": 0.47320687770843506, \"time\": 81.0, \"std\": 0.0810474306344986, \"variable\": \"TA\"}, {\"mean\": 0.4047906994819641, \"time\": 82.0, \"std\": 0.08101584017276764, \"variable\": \"TA\"}, {\"mean\": 0.3964959383010864, \"time\": 83.0, \"std\": 0.08170267939567566, \"variable\": \"TA\"}, {\"mean\": 0.4445726275444031, \"time\": 84.0, \"std\": 0.08306542038917542, \"variable\": \"TA\"}, {\"mean\": 0.535326361656189, \"time\": 85.0, \"std\": 0.08483323454856873, \"variable\": \"TA\"}, {\"mean\": 0.6481220722198486, \"time\": 86.0, \"std\": 0.08650081604719162, \"variable\": \"TA\"}, {\"mean\": 0.7596268057823181, \"time\": 87.0, \"std\": 0.08749445527791977, \"variable\": \"TA\"}, {\"mean\": 0.8480957746505737, \"time\": 88.0, \"std\": 0.0874394029378891, \"variable\": \"TA\"}, {\"mean\": 0.8972048759460449, \"time\": 89.0, \"std\": 0.08638237416744232, \"variable\": \"TA\"}, {\"mean\": 0.8986190557479858, \"time\": 90.0, \"std\": 0.08481261879205704, \"variable\": \"TA\"}, {\"mean\": 0.8528394103050232, \"time\": 91.0, \"std\": 0.083441361784935, \"variable\": \"TA\"}, {\"mean\": 0.7685741186141968, \"time\": 92.0, \"std\": 0.08280874788761139, \"variable\": \"TA\"}, {\"mean\": 0.6605941653251648, \"time\": 93.0, \"std\": 0.08298666775226593, \"variable\": \"TA\"}, {\"mean\": 0.5468205213546753, \"time\": 94.0, \"std\": 0.08359641581773758, \"variable\": \"TA\"}, {\"mean\": 0.44509679079055786, \"time\": 95.0, \"std\": 0.08413008600473404, \"variable\": \"TA\"}, {\"mean\": 0.37037771940231323, \"time\": 96.0, \"std\": 0.08424748480319977, \"variable\": \"TA\"}, {\"mean\": 0.3328040838241577, \"time\": 97.0, \"std\": 0.08393979072570801, \"variable\": \"TA\"}, {\"mean\": 0.33668673038482666, \"time\": 98.0, \"std\": 0.0834629163146019, \"variable\": \"TA\"}, {\"mean\": 0.38088780641555786, \"time\": 99.0, \"std\": 0.08319985866546631, \"variable\": \"TA\"}, {\"mean\": 0.4598360061645508, \"time\": 100.0, \"std\": 0.08346353471279144, \"variable\": \"TA\"}, {\"mean\": 0.5652735829353333, \"time\": 101.0, \"std\": 0.08429770171642303, \"variable\": \"TA\"}, {\"mean\": 0.6880420446395874, \"time\": 102.0, \"std\": 0.08540399372577667, \"variable\": \"TA\"}, {\"mean\": 0.8195019364356995, \"time\": 103.0, \"std\": 0.08624614030122757, \"variable\": \"TA\"}, {\"mean\": 0.9526239633560181, \"time\": 104.0, \"std\": 0.08635743707418442, \"variable\": \"TA\"}, {\"mean\": 1.0822757482528687, \"time\": 105.0, \"std\": 0.08560553193092346, \"variable\": \"TA\"}, {\"mean\": 1.2051234245300293, \"time\": 106.0, \"std\": 0.08440796285867691, \"variable\": \"TA\"}, {\"mean\": 1.319204330444336, \"time\": 107.0, \"std\": 0.083507239818573, \"variable\": \"TA\"}, {\"mean\": 1.423464298248291, \"time\": 108.0, \"std\": 0.08362884819507599, \"variable\": \"TA\"}, {\"mean\": 1.5174837112426758, \"time\": 109.0, \"std\": 0.0849618911743164, \"variable\": \"TA\"}, {\"mean\": 1.6014342308044434, \"time\": 110.0, \"std\": 0.0869569480419159, \"variable\": \"TA\"}, {\"mean\": 1.6762473583221436, \"time\": 111.0, \"std\": 0.08862917870283127, \"variable\": \"TA\"}, {\"mean\": 1.7439870834350586, \"time\": 112.0, \"std\": 0.08900126814842224, \"variable\": \"TA\"}, {\"mean\": 1.8079259395599365, \"time\": 113.0, \"std\": 0.0877232626080513, \"variable\": \"TA\"}, {\"mean\": 1.872320532798767, \"time\": 114.0, \"std\": 0.08540933579206467, \"variable\": \"TA\"}, {\"mean\": 1.9418787956237793, \"time\": 115.0, \"std\": 0.08366157114505768, \"variable\": \"TA\"}, {\"mean\": 2.020752429962158, \"time\": 116.0, \"std\": 0.08446408808231354, \"variable\": \"TA\"}, {\"mean\": 2.1113169193267822, \"time\": 117.0, \"std\": 0.08851158618927002, \"variable\": \"TA\"}, {\"mean\": 2.2133030891418457, \"time\": 118.0, \"std\": 0.09435813128948212, \"variable\": \"TA\"}, {\"mean\": 2.3230113983154297, \"time\": 119.0, \"std\": 0.09928779304027557, \"variable\": \"TA\"}, {\"mean\": 2.4335734844207764, \"time\": 120.0, \"std\": 0.10102410614490509, \"variable\": \"TA\"}, {\"mean\": 2.5356550216674805, \"time\": 121.0, \"std\": 0.09879188984632492, \"variable\": \"TA\"}, {\"mean\": 2.618943691253662, \"time\": 122.0, \"std\": 0.09365587681531906, \"variable\": \"TA\"}, {\"mean\": 2.6741201877593994, \"time\": 123.0, \"std\": 0.08822306990623474, \"variable\": \"TA\"}, {\"mean\": 2.6945600509643555, \"time\": 124.0, \"std\": 0.08530184626579285, \"variable\": \"TA\"}, {\"mean\": 2.6778621673583984, \"time\": 125.0, \"std\": 0.08599277585744858, \"variable\": \"TA\"}, {\"mean\": 2.6263999938964844, \"time\": 126.0, \"std\": 0.08913755416870117, \"variable\": \"TA\"}, {\"mean\": 2.5471885204315186, \"time\": 127.0, \"std\": 0.0929136723279953, \"variable\": \"TA\"}, {\"mean\": 2.450620174407959, \"time\": 128.0, \"std\": 0.0962430089712143, \"variable\": \"TA\"}, {\"mean\": 2.348745107650757, \"time\": 129.0, \"std\": 0.09915804117918015, \"variable\": \"TA\"}, {\"mean\": 2.253211259841919, \"time\": 130.0, \"std\": 0.10177738219499588, \"variable\": \"TA\"}, {\"mean\": 2.173391103744507, \"time\": 131.0, \"std\": 0.10373439639806747, \"variable\": \"TA\"}, {\"mean\": 2.1150193214416504, \"time\": 132.0, \"std\": 0.10403931885957718, \"variable\": \"TA\"}, {\"mean\": 2.0795464515686035, \"time\": 133.0, \"std\": 0.10197190940380096, \"variable\": \"TA\"}, {\"mean\": 2.0646917819976807, \"time\": 134.0, \"std\": 0.09767482429742813, \"variable\": \"TA\"}, {\"mean\": 2.065105438232422, \"time\": 135.0, \"std\": 0.09219902753829956, \"variable\": \"TA\"}, {\"mean\": 2.074117422103882, \"time\": 136.0, \"std\": 0.08712960034608841, \"variable\": \"TA\"}, {\"mean\": 2.085236072540283, \"time\": 137.0, \"std\": 0.08369246125221252, \"variable\": \"TA\"}, {\"mean\": 2.093492031097412, \"time\": 138.0, \"std\": 0.08198105543851852, \"variable\": \"TA\"}, {\"mean\": 2.0963540077209473, \"time\": 139.0, \"std\": 0.08141370117664337, \"variable\": \"TA\"}, {\"mean\": 2.0934815406799316, \"time\": 140.0, \"std\": 0.08148153871297836, \"variable\": \"TA\"}, {\"mean\": 2.087050437927246, \"time\": 141.0, \"std\": 0.08218544721603394, \"variable\": \"TA\"}, {\"mean\": 2.080009698867798, \"time\": 142.0, \"std\": 0.08375481516122818, \"variable\": \"TA\"}, {\"mean\": 2.07556414604187, \"time\": 143.0, \"std\": 0.08568187803030014, \"variable\": \"TA\"}, {\"mean\": 2.0756964683532715, \"time\": 144.0, \"std\": 0.08676642924547195, \"variable\": \"TA\"}, {\"mean\": 2.080878257751465, \"time\": 145.0, \"std\": 0.0862058773636818, \"variable\": \"TA\"}, {\"mean\": 2.0893211364746094, \"time\": 146.0, \"std\": 0.08626846969127655, \"variable\": \"TA\"}, {\"mean\": 2.097686767578125, \"time\": 147.0, \"std\": 0.09487935155630112, \"variable\": \"TA\"}, {\"mean\": 2.1013824939727783, \"time\": 148.0, \"std\": 0.12190910428762436, \"variable\": \"TA\"}, {\"mean\": 2.0956943035125732, \"time\": 149.0, \"std\": 0.169571653008461, \"variable\": \"TA\"}], \"data-208d0b466b3e77f592197092974c820e\": [{\"time\": 0.0, \"variable\": \"SW_IN\", \"value\": 0.0, \"is_missing\": false}, {\"time\": 1.0, \"variable\": \"SW_IN\", \"value\": 0.0, \"is_missing\": true}, {\"time\": 2.0, \"variable\": \"SW_IN\", \"value\": 0.0, \"is_missing\": false}, {\"time\": 3.0, \"variable\": \"SW_IN\", \"value\": 0.0, \"is_missing\": false}, {\"time\": 4.0, \"variable\": \"SW_IN\", \"value\": 0.0, \"is_missing\": false}, {\"time\": 5.0, \"variable\": \"SW_IN\", \"value\": 0.0, \"is_missing\": false}, {\"time\": 6.0, \"variable\": \"SW_IN\", \"value\": 0.0, \"is_missing\": false}, {\"time\": 7.0, \"variable\": \"SW_IN\", \"value\": 0.0, \"is_missing\": false}, {\"time\": 8.0, \"variable\": \"SW_IN\", \"value\": 0.0, \"is_missing\": true}, {\"time\": 9.0, \"variable\": \"SW_IN\", \"value\": 0.0, \"is_missing\": false}, {\"time\": 10.0, \"variable\": \"SW_IN\", \"value\": 0.0, \"is_missing\": false}, {\"time\": 11.0, \"variable\": \"SW_IN\", \"value\": 0.0, \"is_missing\": false}, {\"time\": 12.0, \"variable\": \"SW_IN\", \"value\": 0.0, \"is_missing\": false}, {\"time\": 13.0, \"variable\": \"SW_IN\", \"value\": 0.0, \"is_missing\": false}, {\"time\": 14.0, \"variable\": \"SW_IN\", \"value\": 0.0, \"is_missing\": false}, {\"time\": 15.0, \"variable\": \"SW_IN\", \"value\": 0.0, \"is_missing\": false}, {\"time\": 16.0, \"variable\": \"SW_IN\", \"value\": 0.45, \"is_missing\": false}, {\"time\": 17.0, \"variable\": \"SW_IN\", \"value\": 3.7, \"is_missing\": false}, {\"time\": 18.0, \"variable\": \"SW_IN\", \"value\": 7.26, \"is_missing\": false}, {\"time\": 19.0, \"variable\": \"SW_IN\", \"value\": 12.24, \"is_missing\": true}, {\"time\": 20.0, \"variable\": \"SW_IN\", \"value\": 16.51, \"is_missing\": true}, {\"time\": 21.0, \"variable\": \"SW_IN\", \"value\": 24.73, \"is_missing\": false}, {\"time\": 22.0, \"variable\": \"SW_IN\", \"value\": 47.42, \"is_missing\": true}, {\"time\": 23.0, \"variable\": \"SW_IN\", \"value\": 22.05, \"is_missing\": false}, {\"time\": 24.0, \"variable\": \"SW_IN\", \"value\": 18.86, \"is_missing\": false}, {\"time\": 25.0, \"variable\": \"SW_IN\", \"value\": 21.1, \"is_missing\": false}, {\"time\": 26.0, \"variable\": \"SW_IN\", \"value\": 28.87, \"is_missing\": false}, {\"time\": 27.0, \"variable\": \"SW_IN\", \"value\": 24.22, \"is_missing\": false}, {\"time\": 28.0, \"variable\": \"SW_IN\", \"value\": 24.35, \"is_missing\": false}, {\"time\": 29.0, \"variable\": \"SW_IN\", \"value\": 15.68, \"is_missing\": false}, {\"time\": 30.0, \"variable\": \"SW_IN\", \"value\": 8.09, \"is_missing\": false}, {\"time\": 31.0, \"variable\": \"SW_IN\", \"value\": 6.37, \"is_missing\": false}, {\"time\": 32.0, \"variable\": \"SW_IN\", \"value\": 1.72, \"is_missing\": false}, {\"time\": 33.0, \"variable\": \"SW_IN\", \"value\": 0.06, \"is_missing\": false}, {\"time\": 34.0, \"variable\": \"SW_IN\", \"value\": 0.0, \"is_missing\": true}, {\"time\": 35.0, \"variable\": \"SW_IN\", \"value\": 0.0, \"is_missing\": true}, {\"time\": 36.0, \"variable\": \"SW_IN\", \"value\": 0.0, \"is_missing\": false}, {\"time\": 37.0, \"variable\": \"SW_IN\", \"value\": 0.0, \"is_missing\": false}, {\"time\": 38.0, \"variable\": \"SW_IN\", \"value\": 0.0, \"is_missing\": false}, {\"time\": 39.0, \"variable\": \"SW_IN\", \"value\": 0.0, \"is_missing\": false}, {\"time\": 40.0, \"variable\": \"SW_IN\", \"value\": 0.0, \"is_missing\": false}, {\"time\": 41.0, \"variable\": \"SW_IN\", \"value\": 0.0, \"is_missing\": true}, {\"time\": 42.0, \"variable\": \"SW_IN\", \"value\": 0.0, \"is_missing\": true}, {\"time\": 43.0, \"variable\": \"SW_IN\", \"value\": 0.0, \"is_missing\": true}, {\"time\": 44.0, \"variable\": \"SW_IN\", \"value\": 0.0, \"is_missing\": false}, {\"time\": 45.0, \"variable\": \"SW_IN\", \"value\": 0.0, \"is_missing\": false}, {\"time\": 46.0, \"variable\": \"SW_IN\", \"value\": 0.0, \"is_missing\": true}, {\"time\": 47.0, \"variable\": \"SW_IN\", \"value\": 0.0, \"is_missing\": false}, {\"time\": 48.0, \"variable\": \"SW_IN\", \"value\": 0.0, \"is_missing\": true}, {\"time\": 49.0, \"variable\": \"SW_IN\", \"value\": 0.0, \"is_missing\": false}, {\"time\": 50.0, \"variable\": \"SW_IN\", \"value\": 0.0, \"is_missing\": false}, {\"time\": 51.0, \"variable\": \"SW_IN\", \"value\": 0.0, \"is_missing\": false}, {\"time\": 52.0, \"variable\": \"SW_IN\", \"value\": 0.0, \"is_missing\": false}, {\"time\": 53.0, \"variable\": \"SW_IN\", \"value\": 0.0, \"is_missing\": false}, {\"time\": 54.0, \"variable\": \"SW_IN\", \"value\": 0.0, \"is_missing\": false}, {\"time\": 55.0, \"variable\": \"SW_IN\", \"value\": 0.0, \"is_missing\": true}, {\"time\": 56.0, \"variable\": \"SW_IN\", \"value\": 0.0, \"is_missing\": false}, {\"time\": 57.0, \"variable\": \"SW_IN\", \"value\": 0.0, \"is_missing\": true}, {\"time\": 58.0, \"variable\": \"SW_IN\", \"value\": 0.0, \"is_missing\": false}, {\"time\": 59.0, \"variable\": \"SW_IN\", \"value\": 0.0, \"is_missing\": false}, {\"time\": 60.0, \"variable\": \"SW_IN\", \"value\": 0.0, \"is_missing\": false}, {\"time\": 61.0, \"variable\": \"SW_IN\", \"value\": 0.0, \"is_missing\": false}, {\"time\": 62.0, \"variable\": \"SW_IN\", \"value\": 0.0, \"is_missing\": false}, {\"time\": 63.0, \"variable\": \"SW_IN\", \"value\": 0.0, \"is_missing\": false}, {\"time\": 64.0, \"variable\": \"SW_IN\", \"value\": 4.27, \"is_missing\": false}, {\"time\": 65.0, \"variable\": \"SW_IN\", \"value\": 23.9, \"is_missing\": true}, {\"time\": 66.0, \"variable\": \"SW_IN\", \"value\": 50.61, \"is_missing\": false}, {\"time\": 67.0, \"variable\": \"SW_IN\", \"value\": 61.76, \"is_missing\": false}, {\"time\": 68.0, \"variable\": \"SW_IN\", \"value\": 125.24, \"is_missing\": false}, {\"time\": 69.0, \"variable\": \"SW_IN\", \"value\": 138.43, \"is_missing\": true}, {\"time\": 70.0, \"variable\": \"SW_IN\", \"value\": 177.5, \"is_missing\": true}, {\"time\": 71.0, \"variable\": \"SW_IN\", \"value\": 148.06, \"is_missing\": false}, {\"time\": 72.0, \"variable\": \"SW_IN\", \"value\": 122.37, \"is_missing\": true}, {\"time\": 73.0, \"variable\": \"SW_IN\", \"value\": 130.21, \"is_missing\": false}, {\"time\": 74.0, \"variable\": \"SW_IN\", \"value\": 124.73, \"is_missing\": true}, {\"time\": 75.0, \"variable\": \"SW_IN\", \"value\": 110.65, \"is_missing\": false}, {\"time\": 76.0, \"variable\": \"SW_IN\", \"value\": 57.81, \"is_missing\": false}, {\"time\": 77.0, \"variable\": \"SW_IN\", \"value\": 31.87, \"is_missing\": false}, {\"time\": 78.0, \"variable\": \"SW_IN\", \"value\": 19.89, \"is_missing\": true}, {\"time\": 79.0, \"variable\": \"SW_IN\", \"value\": 8.8, \"is_missing\": false}, {\"time\": 80.0, \"variable\": \"SW_IN\", \"value\": 1.78, \"is_missing\": false}, {\"time\": 81.0, \"variable\": \"SW_IN\", \"value\": 0.06, \"is_missing\": false}, {\"time\": 82.0, \"variable\": \"SW_IN\", \"value\": 0.0, \"is_missing\": false}, {\"time\": 83.0, \"variable\": \"SW_IN\", \"value\": 0.0, \"is_missing\": false}, {\"time\": 84.0, \"variable\": \"SW_IN\", \"value\": 0.0, \"is_missing\": false}, {\"time\": 85.0, \"variable\": \"SW_IN\", \"value\": 0.0, \"is_missing\": false}, {\"time\": 86.0, \"variable\": \"SW_IN\", \"value\": 0.0, \"is_missing\": false}, {\"time\": 87.0, \"variable\": \"SW_IN\", \"value\": 0.0, \"is_missing\": true}, {\"time\": 88.0, \"variable\": \"SW_IN\", \"value\": 0.0, \"is_missing\": true}, {\"time\": 89.0, \"variable\": \"SW_IN\", \"value\": 0.0, \"is_missing\": false}, {\"time\": 90.0, \"variable\": \"SW_IN\", \"value\": 0.0, \"is_missing\": true}, {\"time\": 91.0, \"variable\": \"SW_IN\", \"value\": 0.0, \"is_missing\": false}, {\"time\": 92.0, \"variable\": \"SW_IN\", \"value\": 0.0, \"is_missing\": false}, {\"time\": 93.0, \"variable\": \"SW_IN\", \"value\": 0.0, \"is_missing\": false}, {\"time\": 94.0, \"variable\": \"SW_IN\", \"value\": 0.0, \"is_missing\": true}, {\"time\": 95.0, \"variable\": \"SW_IN\", \"value\": 0.0, \"is_missing\": false}, {\"time\": 96.0, \"variable\": \"SW_IN\", \"value\": 0.0, \"is_missing\": false}, {\"time\": 97.0, \"variable\": \"SW_IN\", \"value\": 0.0, \"is_missing\": false}, {\"time\": 98.0, \"variable\": \"SW_IN\", \"value\": 0.0, \"is_missing\": false}, {\"time\": 99.0, \"variable\": \"SW_IN\", \"value\": 0.0, \"is_missing\": true}, {\"time\": 100.0, \"variable\": \"SW_IN\", \"value\": 0.0, \"is_missing\": false}, {\"time\": 101.0, \"variable\": \"SW_IN\", \"value\": 0.0, \"is_missing\": false}, {\"time\": 102.0, \"variable\": \"SW_IN\", \"value\": 0.0, \"is_missing\": true}, {\"time\": 103.0, \"variable\": \"SW_IN\", \"value\": 0.0, \"is_missing\": false}, {\"time\": 104.0, \"variable\": \"SW_IN\", \"value\": 0.0, \"is_missing\": true}, {\"time\": 105.0, \"variable\": \"SW_IN\", \"value\": 0.0, \"is_missing\": false}, {\"time\": 106.0, \"variable\": \"SW_IN\", \"value\": 0.0, \"is_missing\": false}, {\"time\": 107.0, \"variable\": \"SW_IN\", \"value\": 0.0, \"is_missing\": false}, {\"time\": 108.0, \"variable\": \"SW_IN\", \"value\": 0.0, \"is_missing\": false}, {\"time\": 109.0, \"variable\": \"SW_IN\", \"value\": 0.0, \"is_missing\": true}, {\"time\": 110.0, \"variable\": \"SW_IN\", \"value\": 0.0, \"is_missing\": false}, {\"time\": 111.0, \"variable\": \"SW_IN\", \"value\": 0.0, \"is_missing\": true}, {\"time\": 112.0, \"variable\": \"SW_IN\", \"value\": 1.4, \"is_missing\": true}, {\"time\": 113.0, \"variable\": \"SW_IN\", \"value\": 9.81, \"is_missing\": false}, {\"time\": 114.0, \"variable\": \"SW_IN\", \"value\": 25.05, \"is_missing\": false}, {\"time\": 115.0, \"variable\": \"SW_IN\", \"value\": 36.84, \"is_missing\": false}, {\"time\": 116.0, \"variable\": \"SW_IN\", \"value\": 80.63, \"is_missing\": false}, {\"time\": 117.0, \"variable\": \"SW_IN\", \"value\": 78.58, \"is_missing\": false}, {\"time\": 118.0, \"variable\": \"SW_IN\", \"value\": 77.25, \"is_missing\": false}, {\"time\": 119.0, \"variable\": \"SW_IN\", \"value\": 93.31, \"is_missing\": true}, {\"time\": 120.0, \"variable\": \"SW_IN\", \"value\": 114.08, \"is_missing\": false}, {\"time\": 121.0, \"variable\": \"SW_IN\", \"value\": 117.33, \"is_missing\": true}, {\"time\": 122.0, \"variable\": \"SW_IN\", \"value\": 109.82, \"is_missing\": true}, {\"time\": 123.0, \"variable\": \"SW_IN\", \"value\": 97.51, \"is_missing\": false}, {\"time\": 124.0, \"variable\": \"SW_IN\", \"value\": 74.64, \"is_missing\": false}, {\"time\": 125.0, \"variable\": \"SW_IN\", \"value\": 40.66, \"is_missing\": false}, {\"time\": 126.0, \"variable\": \"SW_IN\", \"value\": 32.06, \"is_missing\": true}, {\"time\": 127.0, \"variable\": \"SW_IN\", \"value\": 16.12, \"is_missing\": false}, {\"time\": 128.0, \"variable\": \"SW_IN\", \"value\": 3.76, \"is_missing\": true}, {\"time\": 129.0, \"variable\": \"SW_IN\", \"value\": 0.57, \"is_missing\": false}, {\"time\": 130.0, \"variable\": \"SW_IN\", \"value\": 0.0, \"is_missing\": true}, {\"time\": 131.0, \"variable\": \"SW_IN\", \"value\": 0.0, \"is_missing\": true}, {\"time\": 132.0, \"variable\": \"SW_IN\", \"value\": 0.0, \"is_missing\": true}, {\"time\": 133.0, \"variable\": \"SW_IN\", \"value\": 0.0, \"is_missing\": true}, {\"time\": 134.0, \"variable\": \"SW_IN\", \"value\": 0.0, \"is_missing\": false}, {\"time\": 135.0, \"variable\": \"SW_IN\", \"value\": 0.0, \"is_missing\": false}, {\"time\": 136.0, \"variable\": \"SW_IN\", \"value\": 0.0, \"is_missing\": false}, {\"time\": 137.0, \"variable\": \"SW_IN\", \"value\": 0.0, \"is_missing\": false}, {\"time\": 138.0, \"variable\": \"SW_IN\", \"value\": 0.0, \"is_missing\": false}, {\"time\": 139.0, \"variable\": \"SW_IN\", \"value\": 0.0, \"is_missing\": false}, {\"time\": 140.0, \"variable\": \"SW_IN\", \"value\": 0.0, \"is_missing\": false}, {\"time\": 141.0, \"variable\": \"SW_IN\", \"value\": 0.0, \"is_missing\": false}, {\"time\": 142.0, \"variable\": \"SW_IN\", \"value\": 0.0, \"is_missing\": false}, {\"time\": 143.0, \"variable\": \"SW_IN\", \"value\": 0.0, \"is_missing\": false}, {\"time\": 144.0, \"variable\": \"SW_IN\", \"value\": 0.0, \"is_missing\": false}, {\"time\": 145.0, \"variable\": \"SW_IN\", \"value\": 0.0, \"is_missing\": true}, {\"time\": 146.0, \"variable\": \"SW_IN\", \"value\": 0.0, \"is_missing\": false}, {\"time\": 147.0, \"variable\": \"SW_IN\", \"value\": 0.0, \"is_missing\": false}, {\"time\": 148.0, \"variable\": \"SW_IN\", \"value\": 0.0, \"is_missing\": false}, {\"time\": 149.0, \"variable\": \"SW_IN\", \"value\": 0.0, \"is_missing\": false}], \"data-a09eb0ee5d830976416c7132a9dbe952\": [{\"mean\": 0.32968616485595703, \"time\": 0.0, \"std\": 6.349535942077637, \"variable\": \"SW_IN\"}, {\"mean\": 0.07362174987792969, \"time\": 1.0, \"std\": 5.747069358825684, \"variable\": \"SW_IN\"}, {\"mean\": -0.049462318420410156, \"time\": 2.0, \"std\": 5.6769328117370605, \"variable\": \"SW_IN\"}, {\"mean\": -0.11032581329345703, \"time\": 3.0, \"std\": 5.590909957885742, \"variable\": \"SW_IN\"}, {\"mean\": -0.13990306854248047, \"time\": 4.0, \"std\": 5.428167343139648, \"variable\": \"SW_IN\"}, {\"mean\": -0.12607192993164062, \"time\": 5.0, \"std\": 5.306884765625, \"variable\": \"SW_IN\"}, {\"mean\": -0.041057586669921875, \"time\": 6.0, \"std\": 5.294862270355225, \"variable\": \"SW_IN\"}, {\"mean\": 0.12197399139404297, \"time\": 7.0, \"std\": 5.344511985778809, \"variable\": \"SW_IN\"}, {\"mean\": 0.3145017623901367, \"time\": 8.0, \"std\": 5.368947982788086, \"variable\": \"SW_IN\"}, {\"mean\": 0.43982505798339844, \"time\": 9.0, \"std\": 5.33548641204834, \"variable\": \"SW_IN\"}, {\"mean\": 0.3842487335205078, \"time\": 10.0, \"std\": 5.274712085723877, \"variable\": \"SW_IN\"}, {\"mean\": 0.09226036071777344, \"time\": 11.0, \"std\": 5.227179527282715, \"variable\": \"SW_IN\"}, {\"mean\": -0.36510658264160156, \"time\": 12.0, \"std\": 5.211196422576904, \"variable\": \"SW_IN\"}, {\"mean\": -0.7643222808837891, \"time\": 13.0, \"std\": 5.212899208068848, \"variable\": \"SW_IN\"}, {\"mean\": -0.751856803894043, \"time\": 14.0, \"std\": 5.22887659072876, \"variable\": \"SW_IN\"}, {\"mean\": 0.04540443420410156, \"time\": 15.0, \"std\": 5.280092716217041, \"variable\": \"SW_IN\"}, {\"mean\": 1.9012069702148438, \"time\": 16.0, \"std\": 5.388416767120361, \"variable\": \"SW_IN\"}, {\"mean\": 4.865579605102539, \"time\": 17.0, \"std\": 5.541235446929932, \"variable\": \"SW_IN\"}, {\"mean\": 8.731078147888184, \"time\": 18.0, \"std\": 5.700517654418945, \"variable\": \"SW_IN\"}, {\"mean\": 13.080238342285156, \"time\": 19.0, \"std\": 5.837900161743164, \"variable\": \"SW_IN\"}, {\"mean\": 17.400409698486328, \"time\": 20.0, \"std\": 5.963274955749512, \"variable\": \"SW_IN\"}, {\"mean\": 21.228073120117188, \"time\": 21.0, \"std\": 6.0848002433776855, \"variable\": \"SW_IN\"}, {\"mean\": 24.24280548095703, \"time\": 22.0, \"std\": 6.155118942260742, \"variable\": \"SW_IN\"}, {\"mean\": 26.28363609313965, \"time\": 23.0, \"std\": 6.1019673347473145, \"variable\": \"SW_IN\"}, {\"mean\": 27.305709838867188, \"time\": 24.0, \"std\": 5.891231060028076, \"variable\": \"SW_IN\"}, {\"mean\": 27.283920288085938, \"time\": 25.0, \"std\": 5.590731143951416, \"variable\": \"SW_IN\"}, {\"mean\": 26.182775497436523, \"time\": 26.0, \"std\": 5.339653491973877, \"variable\": \"SW_IN\"}, {\"mean\": 23.95825958251953, \"time\": 27.0, \"std\": 5.245377063751221, \"variable\": \"SW_IN\"}, {\"mean\": 20.647668838500977, \"time\": 28.0, \"std\": 5.2879862785339355, \"variable\": \"SW_IN\"}, {\"mean\": 16.445478439331055, \"time\": 29.0, \"std\": 5.3543620109558105, \"variable\": \"SW_IN\"}, {\"mean\": 11.756092071533203, \"time\": 30.0, \"std\": 5.368762016296387, \"variable\": \"SW_IN\"}, {\"mean\": 7.1363654136657715, \"time\": 31.0, \"std\": 5.352486610412598, \"variable\": \"SW_IN\"}, {\"mean\": 3.175243377685547, \"time\": 32.0, \"std\": 5.376267433166504, \"variable\": \"SW_IN\"}, {\"mean\": 0.3241128921508789, \"time\": 33.0, \"std\": 5.467709541320801, \"variable\": \"SW_IN\"}, {\"mean\": -1.2359838485717773, \"time\": 34.0, \"std\": 5.566661357879639, \"variable\": \"SW_IN\"}, {\"mean\": -1.6244516372680664, \"time\": 35.0, \"std\": 5.589431285858154, \"variable\": \"SW_IN\"}, {\"mean\": -1.2154169082641602, \"time\": 36.0, \"std\": 5.497330665588379, \"variable\": \"SW_IN\"}, {\"mean\": -0.47815608978271484, \"time\": 37.0, \"std\": 5.340266227722168, \"variable\": \"SW_IN\"}, {\"mean\": 0.17096424102783203, \"time\": 38.0, \"std\": 5.2457685470581055, \"variable\": \"SW_IN\"}, {\"mean\": 0.4844837188720703, \"time\": 39.0, \"std\": 5.357178688049316, \"variable\": \"SW_IN\"}, {\"mean\": 0.4242677688598633, \"time\": 40.0, \"std\": 5.711142539978027, \"variable\": \"SW_IN\"}, {\"mean\": 0.11668968200683594, \"time\": 41.0, \"std\": 6.168135166168213, \"variable\": \"SW_IN\"}, {\"mean\": -0.23742294311523438, \"time\": 42.0, \"std\": 6.503300189971924, \"variable\": \"SW_IN\"}, {\"mean\": -0.4613628387451172, \"time\": 43.0, \"std\": 6.563134670257568, \"variable\": \"SW_IN\"}, {\"mean\": -0.4684906005859375, \"time\": 44.0, \"std\": 6.352697372436523, \"variable\": \"SW_IN\"}, {\"mean\": -0.28186798095703125, \"time\": 45.0, \"std\": 6.017937183380127, \"variable\": \"SW_IN\"}, {\"mean\": -0.007389068603515625, \"time\": 46.0, \"std\": 5.733619689941406, \"variable\": \"SW_IN\"}, {\"mean\": 0.22069931030273438, \"time\": 47.0, \"std\": 5.569290637969971, \"variable\": \"SW_IN\"}, {\"mean\": 0.29862117767333984, \"time\": 48.0, \"std\": 5.480597496032715, \"variable\": \"SW_IN\"}, {\"mean\": 0.1962594985961914, \"time\": 49.0, \"std\": 5.415041446685791, \"variable\": \"SW_IN\"}, {\"mean\": -0.027975082397460938, \"time\": 50.0, \"std\": 5.3690924644470215, \"variable\": \"SW_IN\"}, {\"mean\": -0.24691104888916016, \"time\": 51.0, \"std\": 5.358234882354736, \"variable\": \"SW_IN\"}, {\"mean\": -0.3110036849975586, \"time\": 52.0, \"std\": 5.3932013511657715, \"variable\": \"SW_IN\"}, {\"mean\": -0.11318778991699219, \"time\": 53.0, \"std\": 5.496493339538574, \"variable\": \"SW_IN\"}, {\"mean\": 0.35146617889404297, \"time\": 54.0, \"std\": 5.684343338012695, \"variable\": \"SW_IN\"}, {\"mean\": 0.9528474807739258, \"time\": 55.0, \"std\": 5.91171932220459, \"variable\": \"SW_IN\"}, {\"mean\": 1.442941665649414, \"time\": 56.0, \"std\": 6.067877292633057, \"variable\": \"SW_IN\"}, {\"mean\": 1.5331001281738281, \"time\": 57.0, \"std\": 6.055744647979736, \"variable\": \"SW_IN\"}, {\"mean\": 1.0235071182250977, \"time\": 58.0, \"std\": 5.874175071716309, \"variable\": \"SW_IN\"}, {\"mean\": -0.046669960021972656, \"time\": 59.0, \"std\": 5.627830982208252, \"variable\": \"SW_IN\"}, {\"mean\": -1.2736139297485352, \"time\": 60.0, \"std\": 5.465476989746094, \"variable\": \"SW_IN\"}, {\"mean\": -1.839707374572754, \"time\": 61.0, \"std\": 5.473974704742432, \"variable\": \"SW_IN\"}, {\"mean\": -0.5794162750244141, \"time\": 62.0, \"std\": 5.610369682312012, \"variable\": \"SW_IN\"}, {\"mean\": 3.8284435272216797, \"time\": 63.0, \"std\": 5.744076728820801, \"variable\": \"SW_IN\"}, {\"mean\": 12.563324928283691, \"time\": 64.0, \"std\": 5.768454551696777, \"variable\": \"SW_IN\"}, {\"mean\": 26.317455291748047, \"time\": 65.0, \"std\": 5.689493179321289, \"variable\": \"SW_IN\"}, {\"mean\": 44.97818374633789, \"time\": 66.0, \"std\": 5.630668640136719, \"variable\": \"SW_IN\"}, {\"mean\": 67.42766571044922, \"time\": 67.0, \"std\": 5.715753555297852, \"variable\": \"SW_IN\"}, {\"mean\": 91.5352783203125, \"time\": 68.0, \"std\": 5.918864727020264, \"variable\": \"SW_IN\"}, {\"mean\": 114.38668060302734, \"time\": 69.0, \"std\": 6.081271648406982, \"variable\": \"SW_IN\"}, {\"mean\": 132.74334716796875, \"time\": 70.0, \"std\": 6.07567834854126, \"variable\": \"SW_IN\"}, {\"mean\": 143.66270446777344, \"time\": 71.0, \"std\": 5.9145989418029785, \"variable\": \"SW_IN\"}, {\"mean\": 145.14913940429688, \"time\": 72.0, \"std\": 5.721166133880615, \"variable\": \"SW_IN\"}, {\"mean\": 136.66738891601562, \"time\": 73.0, \"std\": 5.610695838928223, \"variable\": \"SW_IN\"}, {\"mean\": 119.35908508300781, \"time\": 74.0, \"std\": 5.597056865692139, \"variable\": \"SW_IN\"}, {\"mean\": 95.86817932128906, \"time\": 75.0, \"std\": 5.616633892059326, \"variable\": \"SW_IN\"}, {\"mean\": 69.78680419921875, \"time\": 76.0, \"std\": 5.6104583740234375, \"variable\": \"SW_IN\"}, {\"mean\": 44.85430908203125, \"time\": 77.0, \"std\": 5.559711933135986, \"variable\": \"SW_IN\"}, {\"mean\": 24.133899688720703, \"time\": 78.0, \"std\": 5.473437786102295, \"variable\": \"SW_IN\"}, {\"mean\": 9.405013084411621, \"time\": 79.0, \"std\": 5.372655391693115, \"variable\": \"SW_IN\"}, {\"mean\": 0.9392795562744141, \"time\": 80.0, \"std\": 5.284072399139404, \"variable\": \"SW_IN\"}, {\"mean\": -2.2949323654174805, \"time\": 81.0, \"std\": 5.231856822967529, \"variable\": \"SW_IN\"}, {\"mean\": -2.105466842651367, \"time\": 82.0, \"std\": 5.229046821594238, \"variable\": \"SW_IN\"}, {\"mean\": -0.43131160736083984, \"time\": 83.0, \"std\": 5.280292510986328, \"variable\": \"SW_IN\"}, {\"mean\": 1.2045660018920898, \"time\": 84.0, \"std\": 5.387109279632568, \"variable\": \"SW_IN\"}, {\"mean\": 1.985550880432129, \"time\": 85.0, \"std\": 5.539423942565918, \"variable\": \"SW_IN\"}, {\"mean\": 1.795644760131836, \"time\": 86.0, \"std\": 5.7000603675842285, \"variable\": \"SW_IN\"}, {\"mean\": 0.9902114868164062, \"time\": 87.0, \"std\": 5.809957981109619, \"variable\": \"SW_IN\"}, {\"mean\": 0.07940196990966797, \"time\": 88.0, \"std\": 5.817513942718506, \"variable\": \"SW_IN\"}, {\"mean\": -0.5382633209228516, \"time\": 89.0, \"std\": 5.712793350219727, \"variable\": \"SW_IN\"}, {\"mean\": -0.707423210144043, \"time\": 90.0, \"std\": 5.5433669090271, \"variable\": \"SW_IN\"}, {\"mean\": -0.503178596496582, \"time\": 91.0, \"std\": 5.396778583526611, \"variable\": \"SW_IN\"}, {\"mean\": -0.12600994110107422, \"time\": 92.0, \"std\": 5.345777988433838, \"variable\": \"SW_IN\"}, {\"mean\": 0.22264480590820312, \"time\": 93.0, \"std\": 5.392368316650391, \"variable\": \"SW_IN\"}, {\"mean\": 0.42222023010253906, \"time\": 94.0, \"std\": 5.470792293548584, \"variable\": \"SW_IN\"}, {\"mean\": 0.4503154754638672, \"time\": 95.0, \"std\": 5.511397361755371, \"variable\": \"SW_IN\"}, {\"mean\": 0.3496112823486328, \"time\": 96.0, \"std\": 5.496745586395264, \"variable\": \"SW_IN\"}, {\"mean\": 0.18023681640625, \"time\": 97.0, \"std\": 5.45664119720459, \"variable\": \"SW_IN\"}, {\"mean\": -0.009741783142089844, \"time\": 98.0, \"std\": 5.424804210662842, \"variable\": \"SW_IN\"}, {\"mean\": -0.18430042266845703, \"time\": 99.0, \"std\": 5.409968852996826, \"variable\": \"SW_IN\"}, {\"mean\": -0.30087757110595703, \"time\": 100.0, \"std\": 5.4160661697387695, \"variable\": \"SW_IN\"}, {\"mean\": -0.2997121810913086, \"time\": 101.0, \"std\": 5.4658122062683105, \"variable\": \"SW_IN\"}, {\"mean\": -0.12130069732666016, \"time\": 102.0, \"std\": 5.572556495666504, \"variable\": \"SW_IN\"}, {\"mean\": 0.24545669555664062, \"time\": 103.0, \"std\": 5.693576335906982, \"variable\": \"SW_IN\"}, {\"mean\": 0.7115583419799805, \"time\": 104.0, \"std\": 5.741739749908447, \"variable\": \"SW_IN\"}, {\"mean\": 1.071340560913086, \"time\": 105.0, \"std\": 5.664491653442383, \"variable\": \"SW_IN\"}, {\"mean\": 1.0536460876464844, \"time\": 106.0, \"std\": 5.503551959991455, \"variable\": \"SW_IN\"}, {\"mean\": 0.4524393081665039, \"time\": 107.0, \"std\": 5.383123397827148, \"variable\": \"SW_IN\"}, {\"mean\": -0.6941242218017578, \"time\": 108.0, \"std\": 5.405271530151367, \"variable\": \"SW_IN\"}, {\"mean\": -1.9628658294677734, \"time\": 109.0, \"std\": 5.556349277496338, \"variable\": \"SW_IN\"}, {\"mean\": -2.471925735473633, \"time\": 110.0, \"std\": 5.735206127166748, \"variable\": \"SW_IN\"}, {\"mean\": -1.0062332153320312, \"time\": 111.0, \"std\": 5.852484703063965, \"variable\": \"SW_IN\"}, {\"mean\": 3.7562599182128906, \"time\": 112.0, \"std\": 5.873466968536377, \"variable\": \"SW_IN\"}, {\"mean\": 12.84184741973877, \"time\": 113.0, \"std\": 5.79250955581665, \"variable\": \"SW_IN\"}, {\"mean\": 26.6236572265625, \"time\": 114.0, \"std\": 5.616940021514893, \"variable\": \"SW_IN\"}, {\"mean\": 44.565853118896484, \"time\": 115.0, \"std\": 5.422646522521973, \"variable\": \"SW_IN\"}, {\"mean\": 65.11101531982422, \"time\": 116.0, \"std\": 5.414703845977783, \"variable\": \"SW_IN\"}, {\"mean\": 85.89068603515625, \"time\": 117.0, \"std\": 5.813851833343506, \"variable\": \"SW_IN\"}, {\"mean\": 104.09566497802734, \"time\": 118.0, \"std\": 6.562593936920166, \"variable\": \"SW_IN\"}, {\"mean\": 117.00484466552734, \"time\": 119.0, \"std\": 7.299175262451172, \"variable\": \"SW_IN\"}, {\"mean\": 122.53507995605469, \"time\": 120.0, \"std\": 7.639172077178955, \"variable\": \"SW_IN\"}, {\"mean\": 119.74693298339844, \"time\": 121.0, \"std\": 7.386524677276611, \"variable\": \"SW_IN\"}, {\"mean\": 109.00566864013672, \"time\": 122.0, \"std\": 6.640377998352051, \"variable\": \"SW_IN\"}, {\"mean\": 91.98368072509766, \"time\": 123.0, \"std\": 5.816760540008545, \"variable\": \"SW_IN\"}, {\"mean\": 71.26197814941406, \"time\": 124.0, \"std\": 5.4548115730285645, \"variable\": \"SW_IN\"}, {\"mean\": 49.82549285888672, \"time\": 125.0, \"std\": 5.691179275512695, \"variable\": \"SW_IN\"}, {\"mean\": 30.400936126708984, \"time\": 126.0, \"std\": 6.104384899139404, \"variable\": \"SW_IN\"}, {\"mean\": 14.959772109985352, \"time\": 127.0, \"std\": 6.316412925720215, \"variable\": \"SW_IN\"}, {\"mean\": 4.410820007324219, \"time\": 128.0, \"std\": 6.335403919219971, \"variable\": \"SW_IN\"}, {\"mean\": -1.4126720428466797, \"time\": 129.0, \"std\": 6.448038578033447, \"variable\": \"SW_IN\"}, {\"mean\": -3.476691246032715, \"time\": 130.0, \"std\": 6.833310127258301, \"variable\": \"SW_IN\"}, {\"mean\": -3.1564207077026367, \"time\": 131.0, \"std\": 7.312142372131348, \"variable\": \"SW_IN\"}, {\"mean\": -1.8072986602783203, \"time\": 132.0, \"std\": 7.543452262878418, \"variable\": \"SW_IN\"}, {\"mean\": -0.44028663635253906, \"time\": 133.0, \"std\": 7.339595317840576, \"variable\": \"SW_IN\"}, {\"mean\": 0.40976905822753906, \"time\": 134.0, \"std\": 6.777113437652588, \"variable\": \"SW_IN\"}, {\"mean\": 0.6437234878540039, \"time\": 135.0, \"std\": 6.121985912322998, \"variable\": \"SW_IN\"}, {\"mean\": 0.4508209228515625, \"time\": 136.0, \"std\": 5.635788440704346, \"variable\": \"SW_IN\"}, {\"mean\": 0.11882305145263672, \"time\": 137.0, \"std\": 5.394218921661377, \"variable\": \"SW_IN\"}, {\"mean\": -0.12415885925292969, \"time\": 138.0, \"std\": 5.303779602050781, \"variable\": \"SW_IN\"}, {\"mean\": -0.18087482452392578, \"time\": 139.0, \"std\": 5.260317802429199, \"variable\": \"SW_IN\"}, {\"mean\": -0.08496570587158203, \"time\": 140.0, \"std\": 5.246762275695801, \"variable\": \"SW_IN\"}, {\"mean\": 0.05654335021972656, \"time\": 141.0, \"std\": 5.291247367858887, \"variable\": \"SW_IN\"}, {\"mean\": 0.1350574493408203, \"time\": 142.0, \"std\": 5.409968852996826, \"variable\": \"SW_IN\"}, {\"mean\": 0.10012245178222656, \"time\": 143.0, \"std\": 5.567986011505127, \"variable\": \"SW_IN\"}, {\"mean\": -0.01822185516357422, \"time\": 144.0, \"std\": 5.674314022064209, \"variable\": \"SW_IN\"}, {\"mean\": -0.1199951171875, \"time\": 145.0, \"std\": 5.624656677246094, \"variable\": \"SW_IN\"}, {\"mean\": -0.0693359375, \"time\": 146.0, \"std\": 5.543046951293945, \"variable\": \"SW_IN\"}, {\"mean\": 0.2623882293701172, \"time\": 147.0, \"std\": 6.077786445617676, \"variable\": \"SW_IN\"}, {\"mean\": 0.9613494873046875, \"time\": 148.0, \"std\": 8.087865829467773, \"variable\": \"SW_IN\"}, {\"mean\": 2.049044609069824, \"time\": 149.0, \"std\": 11.611284255981445, \"variable\": \"SW_IN\"}], \"data-f3902519fdae8ed84935978a4731e92a\": [{\"time\": 0.0, \"variable\": \"LW_IN\", \"value\": 302.475, \"is_missing\": false}, {\"time\": 1.0, \"variable\": \"LW_IN\", \"value\": 302.475, \"is_missing\": true}, {\"time\": 2.0, \"variable\": \"LW_IN\", \"value\": 301.677, \"is_missing\": false}, {\"time\": 3.0, \"variable\": \"LW_IN\", \"value\": 301.677, \"is_missing\": false}, {\"time\": 4.0, \"variable\": \"LW_IN\", \"value\": 301.677, \"is_missing\": false}, {\"time\": 5.0, \"variable\": \"LW_IN\", \"value\": 301.677, \"is_missing\": false}, {\"time\": 6.0, \"variable\": \"LW_IN\", \"value\": 301.677, \"is_missing\": false}, {\"time\": 7.0, \"variable\": \"LW_IN\", \"value\": 301.677, \"is_missing\": false}, {\"time\": 8.0, \"variable\": \"LW_IN\", \"value\": 308.046, \"is_missing\": true}, {\"time\": 9.0, \"variable\": \"LW_IN\", \"value\": 308.046, \"is_missing\": false}, {\"time\": 10.0, \"variable\": \"LW_IN\", \"value\": 308.046, \"is_missing\": false}, {\"time\": 11.0, \"variable\": \"LW_IN\", \"value\": 308.046, \"is_missing\": false}, {\"time\": 12.0, \"variable\": \"LW_IN\", \"value\": 308.046, \"is_missing\": false}, {\"time\": 13.0, \"variable\": \"LW_IN\", \"value\": 308.046, \"is_missing\": false}, {\"time\": 14.0, \"variable\": \"LW_IN\", \"value\": 316.925, \"is_missing\": false}, {\"time\": 15.0, \"variable\": \"LW_IN\", \"value\": 316.925, \"is_missing\": false}, {\"time\": 16.0, \"variable\": \"LW_IN\", \"value\": 316.925, \"is_missing\": false}, {\"time\": 17.0, \"variable\": \"LW_IN\", \"value\": 316.925, \"is_missing\": true}, {\"time\": 18.0, \"variable\": \"LW_IN\", \"value\": 316.925, \"is_missing\": false}, {\"time\": 19.0, \"variable\": \"LW_IN\", \"value\": 316.925, \"is_missing\": true}, {\"time\": 20.0, \"variable\": \"LW_IN\", \"value\": 321.15, \"is_missing\": true}, {\"time\": 21.0, \"variable\": \"LW_IN\", \"value\": 321.15, \"is_missing\": false}, {\"time\": 22.0, \"variable\": \"LW_IN\", \"value\": 321.15, \"is_missing\": false}, {\"time\": 23.0, \"variable\": \"LW_IN\", \"value\": 321.15, \"is_missing\": false}, {\"time\": 24.0, \"variable\": \"LW_IN\", \"value\": 321.15, \"is_missing\": true}, {\"time\": 25.0, \"variable\": \"LW_IN\", \"value\": 321.15, \"is_missing\": false}, {\"time\": 26.0, \"variable\": \"LW_IN\", \"value\": 323.062, \"is_missing\": false}, {\"time\": 27.0, \"variable\": \"LW_IN\", \"value\": 323.062, \"is_missing\": false}, {\"time\": 28.0, \"variable\": \"LW_IN\", \"value\": 323.062, \"is_missing\": false}, {\"time\": 29.0, \"variable\": \"LW_IN\", \"value\": 323.062, \"is_missing\": false}, {\"time\": 30.0, \"variable\": \"LW_IN\", \"value\": 323.062, \"is_missing\": false}, {\"time\": 31.0, \"variable\": \"LW_IN\", \"value\": 323.062, \"is_missing\": false}, {\"time\": 32.0, \"variable\": \"LW_IN\", \"value\": 328.053, \"is_missing\": false}, {\"time\": 33.0, \"variable\": \"LW_IN\", \"value\": 328.053, \"is_missing\": false}, {\"time\": 34.0, \"variable\": \"LW_IN\", \"value\": 328.053, \"is_missing\": true}, {\"time\": 35.0, \"variable\": \"LW_IN\", \"value\": 328.053, \"is_missing\": true}, {\"time\": 36.0, \"variable\": \"LW_IN\", \"value\": 328.053, \"is_missing\": false}, {\"time\": 37.0, \"variable\": \"LW_IN\", \"value\": 328.053, \"is_missing\": false}, {\"time\": 38.0, \"variable\": \"LW_IN\", \"value\": 329.365, \"is_missing\": false}, {\"time\": 39.0, \"variable\": \"LW_IN\", \"value\": 329.365, \"is_missing\": false}, {\"time\": 40.0, \"variable\": \"LW_IN\", \"value\": 329.365, \"is_missing\": false}, {\"time\": 41.0, \"variable\": \"LW_IN\", \"value\": 329.365, \"is_missing\": true}, {\"time\": 42.0, \"variable\": \"LW_IN\", \"value\": 329.365, \"is_missing\": true}, {\"time\": 43.0, \"variable\": \"LW_IN\", \"value\": 329.365, \"is_missing\": true}, {\"time\": 44.0, \"variable\": \"LW_IN\", \"value\": 297.593, \"is_missing\": true}, {\"time\": 45.0, \"variable\": \"LW_IN\", \"value\": 297.593, \"is_missing\": false}, {\"time\": 46.0, \"variable\": \"LW_IN\", \"value\": 297.593, \"is_missing\": true}, {\"time\": 47.0, \"variable\": \"LW_IN\", \"value\": 297.593, \"is_missing\": false}, {\"time\": 48.0, \"variable\": \"LW_IN\", \"value\": 297.593, \"is_missing\": true}, {\"time\": 49.0, \"variable\": \"LW_IN\", \"value\": 297.593, \"is_missing\": false}, {\"time\": 50.0, \"variable\": \"LW_IN\", \"value\": 277.157, \"is_missing\": false}, {\"time\": 51.0, \"variable\": \"LW_IN\", \"value\": 277.157, \"is_missing\": false}, {\"time\": 52.0, \"variable\": \"LW_IN\", \"value\": 277.157, \"is_missing\": true}, {\"time\": 53.0, \"variable\": \"LW_IN\", \"value\": 277.157, \"is_missing\": false}, {\"time\": 54.0, \"variable\": \"LW_IN\", \"value\": 277.157, \"is_missing\": false}, {\"time\": 55.0, \"variable\": \"LW_IN\", \"value\": 277.157, \"is_missing\": true}, {\"time\": 56.0, \"variable\": \"LW_IN\", \"value\": 266.713, \"is_missing\": false}, {\"time\": 57.0, \"variable\": \"LW_IN\", \"value\": 266.713, \"is_missing\": true}, {\"time\": 58.0, \"variable\": \"LW_IN\", \"value\": 266.713, \"is_missing\": false}, {\"time\": 59.0, \"variable\": \"LW_IN\", \"value\": 266.713, \"is_missing\": true}, {\"time\": 60.0, \"variable\": \"LW_IN\", \"value\": 266.713, \"is_missing\": false}, {\"time\": 61.0, \"variable\": \"LW_IN\", \"value\": 266.713, \"is_missing\": false}, {\"time\": 62.0, \"variable\": \"LW_IN\", \"value\": 259.213, \"is_missing\": true}, {\"time\": 63.0, \"variable\": \"LW_IN\", \"value\": 259.213, \"is_missing\": false}, {\"time\": 64.0, \"variable\": \"LW_IN\", \"value\": 259.213, \"is_missing\": true}, {\"time\": 65.0, \"variable\": \"LW_IN\", \"value\": 259.213, \"is_missing\": true}, {\"time\": 66.0, \"variable\": \"LW_IN\", \"value\": 259.213, \"is_missing\": false}, {\"time\": 67.0, \"variable\": \"LW_IN\", \"value\": 259.213, \"is_missing\": false}, {\"time\": 68.0, \"variable\": \"LW_IN\", \"value\": 265.357, \"is_missing\": true}, {\"time\": 69.0, \"variable\": \"LW_IN\", \"value\": 265.357, \"is_missing\": true}, {\"time\": 70.0, \"variable\": \"LW_IN\", \"value\": 265.357, \"is_missing\": true}, {\"time\": 71.0, \"variable\": \"LW_IN\", \"value\": 265.357, \"is_missing\": false}, {\"time\": 72.0, \"variable\": \"LW_IN\", \"value\": 265.357, \"is_missing\": true}, {\"time\": 73.0, \"variable\": \"LW_IN\", \"value\": 265.357, \"is_missing\": false}, {\"time\": 74.0, \"variable\": \"LW_IN\", \"value\": 279.492, \"is_missing\": true}, {\"time\": 75.0, \"variable\": \"LW_IN\", \"value\": 279.492, \"is_missing\": false}, {\"time\": 76.0, \"variable\": \"LW_IN\", \"value\": 279.492, \"is_missing\": false}, {\"time\": 77.0, \"variable\": \"LW_IN\", \"value\": 279.492, \"is_missing\": false}, {\"time\": 78.0, \"variable\": \"LW_IN\", \"value\": 279.492, \"is_missing\": true}, {\"time\": 79.0, \"variable\": \"LW_IN\", \"value\": 279.492, \"is_missing\": false}, {\"time\": 80.0, \"variable\": \"LW_IN\", \"value\": 284.641, \"is_missing\": false}, {\"time\": 81.0, \"variable\": \"LW_IN\", \"value\": 284.641, \"is_missing\": false}, {\"time\": 82.0, \"variable\": \"LW_IN\", \"value\": 284.641, \"is_missing\": false}, {\"time\": 83.0, \"variable\": \"LW_IN\", \"value\": 284.641, \"is_missing\": false}, {\"time\": 84.0, \"variable\": \"LW_IN\", \"value\": 284.641, \"is_missing\": false}, {\"time\": 85.0, \"variable\": \"LW_IN\", \"value\": 284.641, \"is_missing\": false}, {\"time\": 86.0, \"variable\": \"LW_IN\", \"value\": 290.004, \"is_missing\": false}, {\"time\": 87.0, \"variable\": \"LW_IN\", \"value\": 290.004, \"is_missing\": true}, {\"time\": 88.0, \"variable\": \"LW_IN\", \"value\": 290.004, \"is_missing\": false}, {\"time\": 89.0, \"variable\": \"LW_IN\", \"value\": 290.004, \"is_missing\": false}, {\"time\": 90.0, \"variable\": \"LW_IN\", \"value\": 290.004, \"is_missing\": true}, {\"time\": 91.0, \"variable\": \"LW_IN\", \"value\": 290.004, \"is_missing\": false}, {\"time\": 92.0, \"variable\": \"LW_IN\", \"value\": 300.274, \"is_missing\": false}, {\"time\": 93.0, \"variable\": \"LW_IN\", \"value\": 300.274, \"is_missing\": false}, {\"time\": 94.0, \"variable\": \"LW_IN\", \"value\": 300.274, \"is_missing\": true}, {\"time\": 95.0, \"variable\": \"LW_IN\", \"value\": 300.274, \"is_missing\": false}, {\"time\": 96.0, \"variable\": \"LW_IN\", \"value\": 300.274, \"is_missing\": false}, {\"time\": 97.0, \"variable\": \"LW_IN\", \"value\": 300.274, \"is_missing\": false}, {\"time\": 98.0, \"variable\": \"LW_IN\", \"value\": 304.148, \"is_missing\": false}, {\"time\": 99.0, \"variable\": \"LW_IN\", \"value\": 304.148, \"is_missing\": true}, {\"time\": 100.0, \"variable\": \"LW_IN\", \"value\": 304.148, \"is_missing\": false}, {\"time\": 101.0, \"variable\": \"LW_IN\", \"value\": 304.148, \"is_missing\": false}, {\"time\": 102.0, \"variable\": \"LW_IN\", \"value\": 304.148, \"is_missing\": true}, {\"time\": 103.0, \"variable\": \"LW_IN\", \"value\": 304.148, \"is_missing\": false}, {\"time\": 104.0, \"variable\": \"LW_IN\", \"value\": 304.382, \"is_missing\": true}, {\"time\": 105.0, \"variable\": \"LW_IN\", \"value\": 304.382, \"is_missing\": false}, {\"time\": 106.0, \"variable\": \"LW_IN\", \"value\": 304.382, \"is_missing\": false}, {\"time\": 107.0, \"variable\": \"LW_IN\", \"value\": 304.382, \"is_missing\": false}, {\"time\": 108.0, \"variable\": \"LW_IN\", \"value\": 304.382, \"is_missing\": false}, {\"time\": 109.0, \"variable\": \"LW_IN\", \"value\": 304.382, \"is_missing\": true}, {\"time\": 110.0, \"variable\": \"LW_IN\", \"value\": 298.069, \"is_missing\": false}, {\"time\": 111.0, \"variable\": \"LW_IN\", \"value\": 298.069, \"is_missing\": true}, {\"time\": 112.0, \"variable\": \"LW_IN\", \"value\": 298.069, \"is_missing\": true}, {\"time\": 113.0, \"variable\": \"LW_IN\", \"value\": 298.069, \"is_missing\": false}, {\"time\": 114.0, \"variable\": \"LW_IN\", \"value\": 298.069, \"is_missing\": false}, {\"time\": 115.0, \"variable\": \"LW_IN\", \"value\": 298.069, \"is_missing\": false}, {\"time\": 116.0, \"variable\": \"LW_IN\", \"value\": 297.189, \"is_missing\": false}, {\"time\": 117.0, \"variable\": \"LW_IN\", \"value\": 297.189, \"is_missing\": false}, {\"time\": 118.0, \"variable\": \"LW_IN\", \"value\": 297.189, \"is_missing\": false}, {\"time\": 119.0, \"variable\": \"LW_IN\", \"value\": 297.189, \"is_missing\": true}, {\"time\": 120.0, \"variable\": \"LW_IN\", \"value\": 297.189, \"is_missing\": false}, {\"time\": 121.0, \"variable\": \"LW_IN\", \"value\": 297.189, \"is_missing\": true}, {\"time\": 122.0, \"variable\": \"LW_IN\", \"value\": 291.71, \"is_missing\": true}, {\"time\": 123.0, \"variable\": \"LW_IN\", \"value\": 291.71, \"is_missing\": false}, {\"time\": 124.0, \"variable\": \"LW_IN\", \"value\": 291.71, \"is_missing\": false}, {\"time\": 125.0, \"variable\": \"LW_IN\", \"value\": 291.71, \"is_missing\": false}, {\"time\": 126.0, \"variable\": \"LW_IN\", \"value\": 291.71, \"is_missing\": true}, {\"time\": 127.0, \"variable\": \"LW_IN\", \"value\": 291.71, \"is_missing\": false}, {\"time\": 128.0, \"variable\": \"LW_IN\", \"value\": 310.192, \"is_missing\": true}, {\"time\": 129.0, \"variable\": \"LW_IN\", \"value\": 310.192, \"is_missing\": false}, {\"time\": 130.0, \"variable\": \"LW_IN\", \"value\": 310.192, \"is_missing\": false}, {\"time\": 131.0, \"variable\": \"LW_IN\", \"value\": 310.192, \"is_missing\": true}, {\"time\": 132.0, \"variable\": \"LW_IN\", \"value\": 310.192, \"is_missing\": true}, {\"time\": 133.0, \"variable\": \"LW_IN\", \"value\": 310.192, \"is_missing\": true}, {\"time\": 134.0, \"variable\": \"LW_IN\", \"value\": 317.262, \"is_missing\": false}, {\"time\": 135.0, \"variable\": \"LW_IN\", \"value\": 317.262, \"is_missing\": false}, {\"time\": 136.0, \"variable\": \"LW_IN\", \"value\": 317.262, \"is_missing\": false}, {\"time\": 137.0, \"variable\": \"LW_IN\", \"value\": 317.262, \"is_missing\": false}, {\"time\": 138.0, \"variable\": \"LW_IN\", \"value\": 317.262, \"is_missing\": false}, {\"time\": 139.0, \"variable\": \"LW_IN\", \"value\": 317.262, \"is_missing\": false}, {\"time\": 140.0, \"variable\": \"LW_IN\", \"value\": 310.161, \"is_missing\": false}, {\"time\": 141.0, \"variable\": \"LW_IN\", \"value\": 310.161, \"is_missing\": false}, {\"time\": 142.0, \"variable\": \"LW_IN\", \"value\": 310.161, \"is_missing\": false}, {\"time\": 143.0, \"variable\": \"LW_IN\", \"value\": 310.161, \"is_missing\": false}, {\"time\": 144.0, \"variable\": \"LW_IN\", \"value\": 310.161, \"is_missing\": false}, {\"time\": 145.0, \"variable\": \"LW_IN\", \"value\": 310.161, \"is_missing\": true}, {\"time\": 146.0, \"variable\": \"LW_IN\", \"value\": 304.731, \"is_missing\": false}, {\"time\": 147.0, \"variable\": \"LW_IN\", \"value\": 304.731, \"is_missing\": false}, {\"time\": 148.0, \"variable\": \"LW_IN\", \"value\": 304.731, \"is_missing\": true}, {\"time\": 149.0, \"variable\": \"LW_IN\", \"value\": 304.731, \"is_missing\": false}], \"data-a2f265952531d9c72035a440adec5a26\": [{\"mean\": 302.12530517578125, \"time\": 0.0, \"std\": 3.7160184383392334, \"variable\": \"LW_IN\"}, {\"mean\": 301.8106689453125, \"time\": 1.0, \"std\": 3.434091329574585, \"variable\": \"LW_IN\"}, {\"mean\": 301.5666198730469, \"time\": 2.0, \"std\": 3.294281482696533, \"variable\": \"LW_IN\"}, {\"mean\": 301.44921875, \"time\": 3.0, \"std\": 3.231955051422119, \"variable\": \"LW_IN\"}, {\"mean\": 301.51025390625, \"time\": 4.0, \"std\": 3.201852321624756, \"variable\": \"LW_IN\"}, {\"mean\": 301.7932434082031, \"time\": 5.0, \"std\": 3.1823644638061523, \"variable\": \"LW_IN\"}, {\"mean\": 302.3250732421875, \"time\": 6.0, \"std\": 3.167794704437256, \"variable\": \"LW_IN\"}, {\"mean\": 303.1187744140625, \"time\": 7.0, \"std\": 3.157738447189331, \"variable\": \"LW_IN\"}, {\"mean\": 304.16510009765625, \"time\": 8.0, \"std\": 3.1511542797088623, \"variable\": \"LW_IN\"}, {\"mean\": 305.4388427734375, \"time\": 9.0, \"std\": 3.1447713375091553, \"variable\": \"LW_IN\"}, {\"mean\": 306.8973388671875, \"time\": 10.0, \"std\": 3.136204957962036, \"variable\": \"LW_IN\"}, {\"mean\": 308.4877014160156, \"time\": 11.0, \"std\": 3.1259825229644775, \"variable\": \"LW_IN\"}, {\"mean\": 310.1488342285156, \"time\": 12.0, \"std\": 3.117753028869629, \"variable\": \"LW_IN\"}, {\"mean\": 311.8204650878906, \"time\": 13.0, \"std\": 3.1161346435546875, \"variable\": \"LW_IN\"}, {\"mean\": 313.4452819824219, \"time\": 14.0, \"std\": 3.1259891986846924, \"variable\": \"LW_IN\"}, {\"mean\": 314.9731140136719, \"time\": 15.0, \"std\": 3.150120258331299, \"variable\": \"LW_IN\"}, {\"mean\": 316.364990234375, \"time\": 16.0, \"std\": 3.188631057739258, \"variable\": \"LW_IN\"}, {\"mean\": 317.5953674316406, \"time\": 17.0, \"std\": 3.239253282546997, \"variable\": \"LW_IN\"}, {\"mean\": 318.6485290527344, \"time\": 18.0, \"std\": 3.2956559658050537, \"variable\": \"LW_IN\"}, {\"mean\": 319.5201416015625, \"time\": 19.0, \"std\": 3.349257707595825, \"variable\": \"LW_IN\"}, {\"mean\": 320.21514892578125, \"time\": 20.0, \"std\": 3.3893990516662598, \"variable\": \"LW_IN\"}, {\"mean\": 320.74676513671875, \"time\": 21.0, \"std\": 3.4071054458618164, \"variable\": \"LW_IN\"}, {\"mean\": 321.1383361816406, \"time\": 22.0, \"std\": 3.397056818008423, \"variable\": \"LW_IN\"}, {\"mean\": 321.41912841796875, \"time\": 23.0, \"std\": 3.360488176345825, \"variable\": \"LW_IN\"}, {\"mean\": 321.62921142578125, \"time\": 24.0, \"std\": 3.3057777881622314, \"variable\": \"LW_IN\"}, {\"mean\": 321.815185546875, \"time\": 25.0, \"std\": 3.245431661605835, \"variable\": \"LW_IN\"}, {\"mean\": 322.0302734375, \"time\": 26.0, \"std\": 3.1929337978363037, \"variable\": \"LW_IN\"}, {\"mean\": 322.3299560546875, \"time\": 27.0, \"std\": 3.1573805809020996, \"variable\": \"LW_IN\"}, {\"mean\": 322.7667236328125, \"time\": 28.0, \"std\": 3.1421077251434326, \"variable\": \"LW_IN\"}, {\"mean\": 323.379638671875, \"time\": 29.0, \"std\": 3.1447393894195557, \"variable\": \"LW_IN\"}, {\"mean\": 324.1867980957031, \"time\": 30.0, \"std\": 3.159472703933716, \"variable\": \"LW_IN\"}, {\"mean\": 325.1753845214844, \"time\": 31.0, \"std\": 3.180036783218384, \"variable\": \"LW_IN\"}, {\"mean\": 326.29644775390625, \"time\": 32.0, \"std\": 3.1996021270751953, \"variable\": \"LW_IN\"}, {\"mean\": 327.4606018066406, \"time\": 33.0, \"std\": 3.211808204650879, \"variable\": \"LW_IN\"}, {\"mean\": 328.544189453125, \"time\": 34.0, \"std\": 3.211854934692383, \"variable\": \"LW_IN\"}, {\"mean\": 329.3961486816406, \"time\": 35.0, \"std\": 3.1989212036132812, \"variable\": \"LW_IN\"}, {\"mean\": 329.85430908203125, \"time\": 36.0, \"std\": 3.179136037826538, \"variable\": \"LW_IN\"}, {\"mean\": 329.7628479003906, \"time\": 37.0, \"std\": 3.164930582046509, \"variable\": \"LW_IN\"}, {\"mean\": 328.9925231933594, \"time\": 38.0, \"std\": 3.1710410118103027, \"variable\": \"LW_IN\"}, {\"mean\": 327.457763671875, \"time\": 39.0, \"std\": 3.2066564559936523, \"variable\": \"LW_IN\"}, {\"mean\": 325.1286926269531, \"time\": 40.0, \"std\": 3.2685670852661133, \"variable\": \"LW_IN\"}, {\"mean\": 322.03839111328125, \"time\": 41.0, \"std\": 3.341399908065796, \"variable\": \"LW_IN\"}, {\"mean\": 318.27935791015625, \"time\": 42.0, \"std\": 3.4039390087127686, \"variable\": \"LW_IN\"}, {\"mean\": 313.9947814941406, \"time\": 43.0, \"std\": 3.438485622406006, \"variable\": \"LW_IN\"}, {\"mean\": 309.36260986328125, \"time\": 44.0, \"std\": 3.4368042945861816, \"variable\": \"LW_IN\"}, {\"mean\": 304.5763854980469, \"time\": 45.0, \"std\": 3.4022021293640137, \"variable\": \"LW_IN\"}, {\"mean\": 299.8269958496094, \"time\": 46.0, \"std\": 3.3465733528137207, \"variable\": \"LW_IN\"}, {\"mean\": 295.2823486328125, \"time\": 47.0, \"std\": 3.2853033542633057, \"variable\": \"LW_IN\"}, {\"mean\": 291.075927734375, \"time\": 48.0, \"std\": 3.2319769859313965, \"variable\": \"LW_IN\"}, {\"mean\": 287.29742431640625, \"time\": 49.0, \"std\": 3.19551682472229, \"variable\": \"LW_IN\"}, {\"mean\": 283.9902038574219, \"time\": 50.0, \"std\": 3.1799449920654297, \"variable\": \"LW_IN\"}, {\"mean\": 281.1539306640625, \"time\": 51.0, \"std\": 3.185887098312378, \"variable\": \"LW_IN\"}, {\"mean\": 278.74981689453125, \"time\": 52.0, \"std\": 3.210972547531128, \"variable\": \"LW_IN\"}, {\"mean\": 276.71197509765625, \"time\": 53.0, \"std\": 3.2494606971740723, \"variable\": \"LW_IN\"}, {\"mean\": 274.9552917480469, \"time\": 54.0, \"std\": 3.291797161102295, \"variable\": \"LW_IN\"}, {\"mean\": 273.3891906738281, \"time\": 55.0, \"std\": 3.326474666595459, \"variable\": \"LW_IN\"}, {\"mean\": 271.92657470703125, \"time\": 56.0, \"std\": 3.3437869548797607, \"variable\": \"LW_IN\"}, {\"mean\": 270.4936828613281, \"time\": 57.0, \"std\": 3.3397603034973145, \"variable\": \"LW_IN\"}, {\"mean\": 269.0381164550781, \"time\": 58.0, \"std\": 3.318134069442749, \"variable\": \"LW_IN\"}, {\"mean\": 267.5342102050781, \"time\": 59.0, \"std\": 3.288893938064575, \"variable\": \"LW_IN\"}, {\"mean\": 265.98651123046875, \"time\": 60.0, \"std\": 3.2638726234436035, \"variable\": \"LW_IN\"}, {\"mean\": 264.42950439453125, \"time\": 61.0, \"std\": 3.251521110534668, \"variable\": \"LW_IN\"}, {\"mean\": 262.9253845214844, \"time\": 62.0, \"std\": 3.2537879943847656, \"variable\": \"LW_IN\"}, {\"mean\": 261.5578308105469, \"time\": 63.0, \"std\": 3.2671194076538086, \"variable\": \"LW_IN\"}, {\"mean\": 260.4235534667969, \"time\": 64.0, \"std\": 3.2860002517700195, \"variable\": \"LW_IN\"}, {\"mean\": 259.6217041015625, \"time\": 65.0, \"std\": 3.306305408477783, \"variable\": \"LW_IN\"}, {\"mean\": 259.24212646484375, \"time\": 66.0, \"std\": 3.32611346244812, \"variable\": \"LW_IN\"}, {\"mean\": 259.3539123535156, \"time\": 67.0, \"std\": 3.3443360328674316, \"variable\": \"LW_IN\"}, {\"mean\": 259.9957275390625, \"time\": 68.0, \"std\": 3.358842611312866, \"variable\": \"LW_IN\"}, {\"mean\": 261.1689147949219, \"time\": 69.0, \"std\": 3.3662521839141846, \"variable\": \"LW_IN\"}, {\"mean\": 262.834716796875, \"time\": 70.0, \"std\": 3.3635241985321045, \"variable\": \"LW_IN\"}, {\"mean\": 264.91595458984375, \"time\": 71.0, \"std\": 3.350170373916626, \"variable\": \"LW_IN\"}, {\"mean\": 267.3035583496094, \"time\": 72.0, \"std\": 3.329087495803833, \"variable\": \"LW_IN\"}, {\"mean\": 269.8668212890625, \"time\": 73.0, \"std\": 3.305399179458618, \"variable\": \"LW_IN\"}, {\"mean\": 272.46673583984375, \"time\": 74.0, \"std\": 3.2836482524871826, \"variable\": \"LW_IN\"}, {\"mean\": 274.97021484375, \"time\": 75.0, \"std\": 3.265331268310547, \"variable\": \"LW_IN\"}, {\"mean\": 277.263916015625, \"time\": 76.0, \"std\": 3.2483272552490234, \"variable\": \"LW_IN\"}, {\"mean\": 279.2654113769531, \"time\": 77.0, \"std\": 3.2287700176239014, \"variable\": \"LW_IN\"}, {\"mean\": 280.9307861328125, \"time\": 78.0, \"std\": 3.204113721847534, \"variable\": \"LW_IN\"}, {\"mean\": 282.2571105957031, \"time\": 79.0, \"std\": 3.1756691932678223, \"variable\": \"LW_IN\"}, {\"mean\": 283.2802429199219, \"time\": 80.0, \"std\": 3.1490087509155273, \"variable\": \"LW_IN\"}, {\"mean\": 284.06768798828125, \"time\": 81.0, \"std\": 3.132336378097534, \"variable\": \"LW_IN\"}, {\"mean\": 284.708251953125, \"time\": 82.0, \"std\": 3.13287091255188, \"variable\": \"LW_IN\"}, {\"mean\": 285.2993469238281, \"time\": 83.0, \"std\": 3.153202533721924, \"variable\": \"LW_IN\"}, {\"mean\": 285.9341125488281, \"time\": 84.0, \"std\": 3.189298629760742, \"variable\": \"LW_IN\"}, {\"mean\": 286.6897888183594, \"time\": 85.0, \"std\": 3.231358766555786, \"variable\": \"LW_IN\"}, {\"mean\": 287.6191101074219, \"time\": 86.0, \"std\": 3.2672736644744873, \"variable\": \"LW_IN\"}, {\"mean\": 288.74517822265625, \"time\": 87.0, \"std\": 3.2869396209716797, \"variable\": \"LW_IN\"}, {\"mean\": 290.0611572265625, \"time\": 88.0, \"std\": 3.285813093185425, \"variable\": \"LW_IN\"}, {\"mean\": 291.5338134765625, \"time\": 89.0, \"std\": 3.2665388584136963, \"variable\": \"LW_IN\"}, {\"mean\": 293.1101989746094, \"time\": 90.0, \"std\": 3.2377893924713135, \"variable\": \"LW_IN\"}, {\"mean\": 294.72698974609375, \"time\": 91.0, \"std\": 3.2107746601104736, \"variable\": \"LW_IN\"}, {\"mean\": 296.31988525390625, \"time\": 92.0, \"std\": 3.194326639175415, \"variable\": \"LW_IN\"}, {\"mean\": 297.8316650390625, \"time\": 93.0, \"std\": 3.1911418437957764, \"variable\": \"LW_IN\"}, {\"mean\": 299.21881103515625, \"time\": 94.0, \"std\": 3.1972968578338623, \"variable\": \"LW_IN\"}, {\"mean\": 300.4530334472656, \"time\": 95.0, \"std\": 3.2053098678588867, \"variable\": \"LW_IN\"}, {\"mean\": 301.5220642089844, \"time\": 96.0, \"std\": 3.2088544368743896, \"variable\": \"LW_IN\"}, {\"mean\": 302.424560546875, \"time\": 97.0, \"std\": 3.206451892852783, \"variable\": \"LW_IN\"}, {\"mean\": 303.166259765625, \"time\": 98.0, \"std\": 3.201981544494629, \"variable\": \"LW_IN\"}, {\"mean\": 303.7538757324219, \"time\": 99.0, \"std\": 3.2019753456115723, \"variable\": \"LW_IN\"}, {\"mean\": 304.1920471191406, \"time\": 100.0, \"std\": 3.2111358642578125, \"variable\": \"LW_IN\"}, {\"mean\": 304.4808349609375, \"time\": 101.0, \"std\": 3.228616714477539, \"variable\": \"LW_IN\"}, {\"mean\": 304.6177978515625, \"time\": 102.0, \"std\": 3.2477869987487793, \"variable\": \"LW_IN\"}, {\"mean\": 304.6005859375, \"time\": 103.0, \"std\": 3.2596545219421387, \"variable\": \"LW_IN\"}, {\"mean\": 304.43182373046875, \"time\": 104.0, \"std\": 3.2581098079681396, \"variable\": \"LW_IN\"}, {\"mean\": 304.1221923828125, \"time\": 105.0, \"std\": 3.244213104248047, \"variable\": \"LW_IN\"}, {\"mean\": 303.6922302246094, \"time\": 106.0, \"std\": 3.2267415523529053, \"variable\": \"LW_IN\"}, {\"mean\": 303.1708679199219, \"time\": 107.0, \"std\": 3.218101978302002, \"variable\": \"LW_IN\"}, {\"mean\": 302.59063720703125, \"time\": 108.0, \"std\": 3.227060556411743, \"variable\": \"LW_IN\"}, {\"mean\": 301.9805908203125, \"time\": 109.0, \"std\": 3.2524795532226562, \"variable\": \"LW_IN\"}, {\"mean\": 301.3592529296875, \"time\": 110.0, \"std\": 3.2826833724975586, \"variable\": \"LW_IN\"}, {\"mean\": 300.7284240722656, \"time\": 111.0, \"std\": 3.301683187484741, \"variable\": \"LW_IN\"}, {\"mean\": 300.0715637207031, \"time\": 112.0, \"std\": 3.298553228378296, \"variable\": \"LW_IN\"}, {\"mean\": 299.35723876953125, \"time\": 113.0, \"std\": 3.274872064590454, \"variable\": \"LW_IN\"}, {\"mean\": 298.547119140625, \"time\": 114.0, \"std\": 3.2465877532958984, \"variable\": \"LW_IN\"}, {\"mean\": 297.60968017578125, \"time\": 115.0, \"std\": 3.2371909618377686, \"variable\": \"LW_IN\"}, {\"mean\": 296.533447265625, \"time\": 116.0, \"std\": 3.2650437355041504, \"variable\": \"LW_IN\"}, {\"mean\": 295.3409118652344, \"time\": 117.0, \"std\": 3.3301143646240234, \"variable\": \"LW_IN\"}, {\"mean\": 294.09588623046875, \"time\": 118.0, \"std\": 3.412114143371582, \"variable\": \"LW_IN\"}, {\"mean\": 292.904541015625, \"time\": 119.0, \"std\": 3.480137348175049, \"variable\": \"LW_IN\"}, {\"mean\": 291.90606689453125, \"time\": 120.0, \"std\": 3.508376121520996, \"variable\": \"LW_IN\"}, {\"mean\": 291.2575988769531, \"time\": 121.0, \"std\": 3.4867656230926514, \"variable\": \"LW_IN\"}, {\"mean\": 291.1109924316406, \"time\": 122.0, \"std\": 3.42565655708313, \"variable\": \"LW_IN\"}, {\"mean\": 291.5899658203125, \"time\": 123.0, \"std\": 3.3524577617645264, \"variable\": \"LW_IN\"}, {\"mean\": 292.76629638671875, \"time\": 124.0, \"std\": 3.301447868347168, \"variable\": \"LW_IN\"}, {\"mean\": 294.64453125, \"time\": 125.0, \"std\": 3.2995712757110596, \"variable\": \"LW_IN\"}, {\"mean\": 297.1573181152344, \"time\": 126.0, \"std\": 3.353760242462158, \"variable\": \"LW_IN\"}, {\"mean\": 300.16619873046875, \"time\": 127.0, \"std\": 3.4497382640838623, \"variable\": \"LW_IN\"}, {\"mean\": 303.4786682128906, \"time\": 128.0, \"std\": 3.5608439445495605, \"variable\": \"LW_IN\"}, {\"mean\": 306.869384765625, \"time\": 129.0, \"std\": 3.6598098278045654, \"variable\": \"LW_IN\"}, {\"mean\": 310.1056213378906, \"time\": 130.0, \"std\": 3.7253987789154053, \"variable\": \"LW_IN\"}, {\"mean\": 312.9752197265625, \"time\": 131.0, \"std\": 3.7457001209259033, \"variable\": \"LW_IN\"}, {\"mean\": 315.30926513671875, \"time\": 132.0, \"std\": 3.7180373668670654, \"variable\": \"LW_IN\"}, {\"mean\": 316.99493408203125, \"time\": 133.0, \"std\": 3.6473939418792725, \"variable\": \"LW_IN\"}, {\"mean\": 317.9857482910156, \"time\": 134.0, \"std\": 3.5459063053131104, \"variable\": \"LW_IN\"}, {\"mean\": 318.29937744140625, \"time\": 135.0, \"std\": 3.4297943115234375, \"variable\": \"LW_IN\"}, {\"mean\": 318.0050964355469, \"time\": 136.0, \"std\": 3.3173344135284424, \"variable\": \"LW_IN\"}, {\"mean\": 317.2124938964844, \"time\": 137.0, \"std\": 3.2250030040740967, \"variable\": \"LW_IN\"}, {\"mean\": 316.0522766113281, \"time\": 138.0, \"std\": 3.1637003421783447, \"variable\": \"LW_IN\"}, {\"mean\": 314.6585388183594, \"time\": 139.0, \"std\": 3.1382081508636475, \"variable\": \"LW_IN\"}, {\"mean\": 313.1530456542969, \"time\": 140.0, \"std\": 3.144803524017334, \"variable\": \"LW_IN\"}, {\"mean\": 311.64056396484375, \"time\": 141.0, \"std\": 3.1722209453582764, \"variable\": \"LW_IN\"}, {\"mean\": 310.1935119628906, \"time\": 142.0, \"std\": 3.20523738861084, \"variable\": \"LW_IN\"}, {\"mean\": 308.8583984375, \"time\": 143.0, \"std\": 3.229172945022583, \"variable\": \"LW_IN\"}, {\"mean\": 307.6570129394531, \"time\": 144.0, \"std\": 3.240043878555298, \"variable\": \"LW_IN\"}, {\"mean\": 306.5888977050781, \"time\": 145.0, \"std\": 3.258648633956909, \"variable\": \"LW_IN\"}, {\"mean\": 305.6425476074219, \"time\": 146.0, \"std\": 3.3408474922180176, \"variable\": \"LW_IN\"}, {\"mean\": 304.80023193359375, \"time\": 147.0, \"std\": 3.5708043575286865, \"variable\": \"LW_IN\"}, {\"mean\": 304.0420227050781, \"time\": 148.0, \"std\": 4.025622844696045, \"variable\": \"LW_IN\"}, {\"mean\": 303.3531188964844, \"time\": 149.0, \"std\": 4.728899955749512, \"variable\": \"LW_IN\"}], \"data-e2b44019a2b9c76e9e0ce01b3510c6cf\": [{\"time\": 0.0, \"variable\": \"VPD\", \"value\": 0.222, \"is_missing\": false}, {\"time\": 1.0, \"variable\": \"VPD\", \"value\": 0.122, \"is_missing\": true}, {\"time\": 2.0, \"variable\": \"VPD\", \"value\": 0.09, \"is_missing\": false}, {\"time\": 3.0, \"variable\": \"VPD\", \"value\": 0.11, \"is_missing\": false}, {\"time\": 4.0, \"variable\": \"VPD\", \"value\": 0.102, \"is_missing\": false}, {\"time\": 5.0, \"variable\": \"VPD\", \"value\": 0.111, \"is_missing\": false}, {\"time\": 6.0, \"variable\": \"VPD\", \"value\": 0.109, \"is_missing\": false}, {\"time\": 7.0, \"variable\": \"VPD\", \"value\": 0.107, \"is_missing\": false}, {\"time\": 8.0, \"variable\": \"VPD\", \"value\": 0.122, \"is_missing\": true}, {\"time\": 9.0, \"variable\": \"VPD\", \"value\": 0.138, \"is_missing\": false}, {\"time\": 10.0, \"variable\": \"VPD\", \"value\": 0.138, \"is_missing\": false}, {\"time\": 11.0, \"variable\": \"VPD\", \"value\": 0.122, \"is_missing\": false}, {\"time\": 12.0, \"variable\": \"VPD\", \"value\": 0.098, \"is_missing\": false}, {\"time\": 13.0, \"variable\": \"VPD\", \"value\": 0.066, \"is_missing\": false}, {\"time\": 14.0, \"variable\": \"VPD\", \"value\": 0.044, \"is_missing\": false}, {\"time\": 15.0, \"variable\": \"VPD\", \"value\": 0.026, \"is_missing\": false}, {\"time\": 16.0, \"variable\": \"VPD\", \"value\": 0.016, \"is_missing\": false}, {\"time\": 17.0, \"variable\": \"VPD\", \"value\": 0.01, \"is_missing\": false}, {\"time\": 18.0, \"variable\": \"VPD\", \"value\": 0.006, \"is_missing\": false}, {\"time\": 19.0, \"variable\": \"VPD\", \"value\": 0.006, \"is_missing\": false}, {\"time\": 20.0, \"variable\": \"VPD\", \"value\": 0.006, \"is_missing\": true}, {\"time\": 21.0, \"variable\": \"VPD\", \"value\": 0.011, \"is_missing\": false}, {\"time\": 22.0, \"variable\": \"VPD\", \"value\": 0.019, \"is_missing\": false}, {\"time\": 23.0, \"variable\": \"VPD\", \"value\": 0.014, \"is_missing\": false}, {\"time\": 24.0, \"variable\": \"VPD\", \"value\": 0.008, \"is_missing\": false}, {\"time\": 25.0, \"variable\": \"VPD\", \"value\": 0.006, \"is_missing\": false}, {\"time\": 26.0, \"variable\": \"VPD\", \"value\": 0.0, \"is_missing\": false}, {\"time\": 27.0, \"variable\": \"VPD\", \"value\": 0.0, \"is_missing\": false}, {\"time\": 28.0, \"variable\": \"VPD\", \"value\": 0.0, \"is_missing\": false}, {\"time\": 29.0, \"variable\": \"VPD\", \"value\": 0.0, \"is_missing\": false}, {\"time\": 30.0, \"variable\": \"VPD\", \"value\": 0.0, \"is_missing\": true}, {\"time\": 31.0, \"variable\": \"VPD\", \"value\": 0.0, \"is_missing\": false}, {\"time\": 32.0, \"variable\": \"VPD\", \"value\": 0.0, \"is_missing\": false}, {\"time\": 33.0, \"variable\": \"VPD\", \"value\": 0.0, \"is_missing\": false}, {\"time\": 34.0, \"variable\": \"VPD\", \"value\": 0.0, \"is_missing\": true}, {\"time\": 35.0, \"variable\": \"VPD\", \"value\": 0.0, \"is_missing\": true}, {\"time\": 36.0, \"variable\": \"VPD\", \"value\": 0.0, \"is_missing\": false}, {\"time\": 37.0, \"variable\": \"VPD\", \"value\": 0.002, \"is_missing\": false}, {\"time\": 38.0, \"variable\": \"VPD\", \"value\": 0.009, \"is_missing\": false}, {\"time\": 39.0, \"variable\": \"VPD\", \"value\": 0.014, \"is_missing\": false}, {\"time\": 40.0, \"variable\": \"VPD\", \"value\": 0.014, \"is_missing\": false}, {\"time\": 41.0, \"variable\": \"VPD\", \"value\": 0.038, \"is_missing\": false}, {\"time\": 42.0, \"variable\": \"VPD\", \"value\": 0.079, \"is_missing\": true}, {\"time\": 43.0, \"variable\": \"VPD\", \"value\": 0.257, \"is_missing\": true}, {\"time\": 44.0, \"variable\": \"VPD\", \"value\": 0.388, \"is_missing\": false}, {\"time\": 45.0, \"variable\": \"VPD\", \"value\": 0.555, \"is_missing\": false}, {\"time\": 46.0, \"variable\": \"VPD\", \"value\": 0.452, \"is_missing\": false}, {\"time\": 47.0, \"variable\": \"VPD\", \"value\": 0.435, \"is_missing\": false}, {\"time\": 48.0, \"variable\": \"VPD\", \"value\": 0.248, \"is_missing\": true}, {\"time\": 49.0, \"variable\": \"VPD\", \"value\": 0.234, \"is_missing\": false}, {\"time\": 50.0, \"variable\": \"VPD\", \"value\": 0.377, \"is_missing\": false}, {\"time\": 51.0, \"variable\": \"VPD\", \"value\": 0.414, \"is_missing\": false}, {\"time\": 52.0, \"variable\": \"VPD\", \"value\": 0.356, \"is_missing\": false}, {\"time\": 53.0, \"variable\": \"VPD\", \"value\": 0.205, \"is_missing\": false}, {\"time\": 54.0, \"variable\": \"VPD\", \"value\": 0.188, \"is_missing\": false}, {\"time\": 55.0, \"variable\": \"VPD\", \"value\": 0.232, \"is_missing\": true}, {\"time\": 56.0, \"variable\": \"VPD\", \"value\": 0.27, \"is_missing\": false}, {\"time\": 57.0, \"variable\": \"VPD\", \"value\": 0.273, \"is_missing\": true}, {\"time\": 58.0, \"variable\": \"VPD\", \"value\": 0.225, \"is_missing\": false}, {\"time\": 59.0, \"variable\": \"VPD\", \"value\": 0.123, \"is_missing\": false}, {\"time\": 60.0, \"variable\": \"VPD\", \"value\": 0.053, \"is_missing\": false}, {\"time\": 61.0, \"variable\": \"VPD\", \"value\": 0.026, \"is_missing\": false}, {\"time\": 62.0, \"variable\": \"VPD\", \"value\": 0.013, \"is_missing\": false}, {\"time\": 63.0, \"variable\": \"VPD\", \"value\": 0.017, \"is_missing\": false}, {\"time\": 64.0, \"variable\": \"VPD\", \"value\": 0.18, \"is_missing\": false}, {\"time\": 65.0, \"variable\": \"VPD\", \"value\": 0.162, \"is_missing\": false}, {\"time\": 66.0, \"variable\": \"VPD\", \"value\": 0.177, \"is_missing\": false}, {\"time\": 67.0, \"variable\": \"VPD\", \"value\": 0.181, \"is_missing\": false}, {\"time\": 68.0, \"variable\": \"VPD\", \"value\": 0.188, \"is_missing\": false}, {\"time\": 69.0, \"variable\": \"VPD\", \"value\": 0.276, \"is_missing\": true}, {\"time\": 70.0, \"variable\": \"VPD\", \"value\": 0.309, \"is_missing\": true}, {\"time\": 71.0, \"variable\": \"VPD\", \"value\": 0.346, \"is_missing\": false}, {\"time\": 72.0, \"variable\": \"VPD\", \"value\": 0.297, \"is_missing\": true}, {\"time\": 73.0, \"variable\": \"VPD\", \"value\": 0.349, \"is_missing\": false}, {\"time\": 74.0, \"variable\": \"VPD\", \"value\": 0.362, \"is_missing\": true}, {\"time\": 75.0, \"variable\": \"VPD\", \"value\": 0.381, \"is_missing\": false}, {\"time\": 76.0, \"variable\": \"VPD\", \"value\": 0.369, \"is_missing\": false}, {\"time\": 77.0, \"variable\": \"VPD\", \"value\": 0.24, \"is_missing\": false}, {\"time\": 78.0, \"variable\": \"VPD\", \"value\": 0.111, \"is_missing\": true}, {\"time\": 79.0, \"variable\": \"VPD\", \"value\": 0.062, \"is_missing\": false}, {\"time\": 80.0, \"variable\": \"VPD\", \"value\": 0.044, \"is_missing\": false}, {\"time\": 81.0, \"variable\": \"VPD\", \"value\": 0.034, \"is_missing\": false}, {\"time\": 82.0, \"variable\": \"VPD\", \"value\": 0.032, \"is_missing\": false}, {\"time\": 83.0, \"variable\": \"VPD\", \"value\": 0.055, \"is_missing\": false}, {\"time\": 84.0, \"variable\": \"VPD\", \"value\": 0.125, \"is_missing\": false}, {\"time\": 85.0, \"variable\": \"VPD\", \"value\": 0.128, \"is_missing\": true}, {\"time\": 86.0, \"variable\": \"VPD\", \"value\": 0.201, \"is_missing\": false}, {\"time\": 87.0, \"variable\": \"VPD\", \"value\": 0.174, \"is_missing\": true}, {\"time\": 88.0, \"variable\": \"VPD\", \"value\": 0.154, \"is_missing\": true}, {\"time\": 89.0, \"variable\": \"VPD\", \"value\": 0.177, \"is_missing\": false}, {\"time\": 90.0, \"variable\": \"VPD\", \"value\": 0.192, \"is_missing\": true}, {\"time\": 91.0, \"variable\": \"VPD\", \"value\": 0.149, \"is_missing\": false}, {\"time\": 92.0, \"variable\": \"VPD\", \"value\": 0.112, \"is_missing\": false}, {\"time\": 93.0, \"variable\": \"VPD\", \"value\": 0.075, \"is_missing\": false}, {\"time\": 94.0, \"variable\": \"VPD\", \"value\": 0.038, \"is_missing\": true}, {\"time\": 95.0, \"variable\": \"VPD\", \"value\": 0.021, \"is_missing\": false}, {\"time\": 96.0, \"variable\": \"VPD\", \"value\": 0.013, \"is_missing\": false}, {\"time\": 97.0, \"variable\": \"VPD\", \"value\": 0.004, \"is_missing\": false}, {\"time\": 98.0, \"variable\": \"VPD\", \"value\": 0.0, \"is_missing\": false}, {\"time\": 99.0, \"variable\": \"VPD\", \"value\": 0.0, \"is_missing\": true}, {\"time\": 100.0, \"variable\": \"VPD\", \"value\": 0.0, \"is_missing\": false}, {\"time\": 101.0, \"variable\": \"VPD\", \"value\": 0.0, \"is_missing\": false}, {\"time\": 102.0, \"variable\": \"VPD\", \"value\": 0.0, \"is_missing\": true}, {\"time\": 103.0, \"variable\": \"VPD\", \"value\": 0.0, \"is_missing\": false}, {\"time\": 104.0, \"variable\": \"VPD\", \"value\": 0.0, \"is_missing\": true}, {\"time\": 105.0, \"variable\": \"VPD\", \"value\": 0.0, \"is_missing\": true}, {\"time\": 106.0, \"variable\": \"VPD\", \"value\": 0.009, \"is_missing\": false}, {\"time\": 107.0, \"variable\": \"VPD\", \"value\": 0.061, \"is_missing\": false}, {\"time\": 108.0, \"variable\": \"VPD\", \"value\": 0.174, \"is_missing\": false}, {\"time\": 109.0, \"variable\": \"VPD\", \"value\": 0.208, \"is_missing\": true}, {\"time\": 110.0, \"variable\": \"VPD\", \"value\": 0.294, \"is_missing\": false}, {\"time\": 111.0, \"variable\": \"VPD\", \"value\": 0.37, \"is_missing\": true}, {\"time\": 112.0, \"variable\": \"VPD\", \"value\": 0.478, \"is_missing\": false}, {\"time\": 113.0, \"variable\": \"VPD\", \"value\": 0.557, \"is_missing\": false}, {\"time\": 114.0, \"variable\": \"VPD\", \"value\": 0.617, \"is_missing\": true}, {\"time\": 115.0, \"variable\": \"VPD\", \"value\": 0.656, \"is_missing\": false}, {\"time\": 116.0, \"variable\": \"VPD\", \"value\": 0.654, \"is_missing\": false}, {\"time\": 117.0, \"variable\": \"VPD\", \"value\": 0.704, \"is_missing\": false}, {\"time\": 118.0, \"variable\": \"VPD\", \"value\": 0.838, \"is_missing\": false}, {\"time\": 119.0, \"variable\": \"VPD\", \"value\": 0.914, \"is_missing\": true}, {\"time\": 120.0, \"variable\": \"VPD\", \"value\": 0.818, \"is_missing\": true}, {\"time\": 121.0, \"variable\": \"VPD\", \"value\": 0.728, \"is_missing\": true}, {\"time\": 122.0, \"variable\": \"VPD\", \"value\": 0.749, \"is_missing\": true}, {\"time\": 123.0, \"variable\": \"VPD\", \"value\": 0.773, \"is_missing\": false}, {\"time\": 124.0, \"variable\": \"VPD\", \"value\": 0.787, \"is_missing\": false}, {\"time\": 125.0, \"variable\": \"VPD\", \"value\": 0.759, \"is_missing\": false}, {\"time\": 126.0, \"variable\": \"VPD\", \"value\": 0.723, \"is_missing\": true}, {\"time\": 127.0, \"variable\": \"VPD\", \"value\": 0.671, \"is_missing\": true}, {\"time\": 128.0, \"variable\": \"VPD\", \"value\": 0.657, \"is_missing\": true}, {\"time\": 129.0, \"variable\": \"VPD\", \"value\": 0.641, \"is_missing\": false}, {\"time\": 130.0, \"variable\": \"VPD\", \"value\": 0.559, \"is_missing\": false}, {\"time\": 131.0, \"variable\": \"VPD\", \"value\": 0.452, \"is_missing\": true}, {\"time\": 132.0, \"variable\": \"VPD\", \"value\": 0.389, \"is_missing\": true}, {\"time\": 133.0, \"variable\": \"VPD\", \"value\": 0.412, \"is_missing\": true}, {\"time\": 134.0, \"variable\": \"VPD\", \"value\": 0.429, \"is_missing\": false}, {\"time\": 135.0, \"variable\": \"VPD\", \"value\": 0.449, \"is_missing\": false}, {\"time\": 136.0, \"variable\": \"VPD\", \"value\": 0.471, \"is_missing\": true}, {\"time\": 137.0, \"variable\": \"VPD\", \"value\": 0.434, \"is_missing\": false}, {\"time\": 138.0, \"variable\": \"VPD\", \"value\": 0.432, \"is_missing\": false}, {\"time\": 139.0, \"variable\": \"VPD\", \"value\": 0.409, \"is_missing\": false}, {\"time\": 140.0, \"variable\": \"VPD\", \"value\": 0.417, \"is_missing\": false}, {\"time\": 141.0, \"variable\": \"VPD\", \"value\": 0.432, \"is_missing\": false}, {\"time\": 142.0, \"variable\": \"VPD\", \"value\": 0.441, \"is_missing\": false}, {\"time\": 143.0, \"variable\": \"VPD\", \"value\": 0.467, \"is_missing\": false}, {\"time\": 144.0, \"variable\": \"VPD\", \"value\": 0.459, \"is_missing\": false}, {\"time\": 145.0, \"variable\": \"VPD\", \"value\": 0.545, \"is_missing\": true}, {\"time\": 146.0, \"variable\": \"VPD\", \"value\": 0.7, \"is_missing\": false}, {\"time\": 147.0, \"variable\": \"VPD\", \"value\": 0.813, \"is_missing\": false}, {\"time\": 148.0, \"variable\": \"VPD\", \"value\": 0.952, \"is_missing\": false}, {\"time\": 149.0, \"variable\": \"VPD\", \"value\": 0.971, \"is_missing\": true}], \"data-9b9c2d658a2b0923d383f2bdbf4f4408\": [{\"mean\": 0.21565045416355133, \"time\": 0.0, \"std\": 0.032406385987997055, \"variable\": \"VPD\"}, {\"mean\": 0.1463245451450348, \"time\": 1.0, \"std\": 0.03113057091832161, \"variable\": \"VPD\"}, {\"mean\": 0.1024245172739029, \"time\": 2.0, \"std\": 0.031168434768915176, \"variable\": \"VPD\"}, {\"mean\": 0.08933041244745255, \"time\": 3.0, \"std\": 0.029969098046422005, \"variable\": \"VPD\"}, {\"mean\": 0.09584729373455048, \"time\": 4.0, \"std\": 0.028694408014416695, \"variable\": \"VPD\"}, {\"mean\": 0.10573597252368927, \"time\": 5.0, \"std\": 0.02749817818403244, \"variable\": \"VPD\"}, {\"mean\": 0.1112588420510292, \"time\": 6.0, \"std\": 0.0274502020329237, \"variable\": \"VPD\"}, {\"mean\": 0.11548095941543579, \"time\": 7.0, \"std\": 0.028619011864066124, \"variable\": \"VPD\"}, {\"mean\": 0.12359637022018433, \"time\": 8.0, \"std\": 0.029326315969228745, \"variable\": \"VPD\"}, {\"mean\": 0.13345924019813538, \"time\": 9.0, \"std\": 0.028504153713583946, \"variable\": \"VPD\"}, {\"mean\": 0.13602791726589203, \"time\": 10.0, \"std\": 0.02741871029138565, \"variable\": \"VPD\"}, {\"mean\": 0.12395767867565155, \"time\": 11.0, \"std\": 0.027239926159381866, \"variable\": \"VPD\"}, {\"mean\": 0.0984906330704689, \"time\": 12.0, \"std\": 0.027297109365463257, \"variable\": \"VPD\"}, {\"mean\": 0.06843852996826172, \"time\": 13.0, \"std\": 0.027334298938512802, \"variable\": \"VPD\"}, {\"mean\": 0.04299043118953705, \"time\": 14.0, \"std\": 0.027269624173641205, \"variable\": \"VPD\"}, {\"mean\": 0.026095017790794373, \"time\": 15.0, \"std\": 0.02750256285071373, \"variable\": \"VPD\"}, {\"mean\": 0.016361624002456665, \"time\": 16.0, \"std\": 0.02868669293820858, \"variable\": \"VPD\"}, {\"mean\": 0.010674625635147095, \"time\": 17.0, \"std\": 0.02976563200354576, \"variable\": \"VPD\"}, {\"mean\": 0.007422745227813721, \"time\": 18.0, \"std\": 0.03164650499820709, \"variable\": \"VPD\"}, {\"mean\": 0.006718084216117859, \"time\": 19.0, \"std\": 0.034459590911865234, \"variable\": \"VPD\"}, {\"mean\": 0.008742600679397583, \"time\": 20.0, \"std\": 0.033851731568574905, \"variable\": \"VPD\"}, {\"mean\": 0.012257099151611328, \"time\": 21.0, \"std\": 0.03245406225323677, \"variable\": \"VPD\"}, {\"mean\": 0.014869928359985352, \"time\": 22.0, \"std\": 0.03815695643424988, \"variable\": \"VPD\"}, {\"mean\": 0.014565736055374146, \"time\": 23.0, \"std\": 0.04292357340455055, \"variable\": \"VPD\"}, {\"mean\": 0.011141180992126465, \"time\": 24.0, \"std\": 0.03861884027719498, \"variable\": \"VPD\"}, {\"mean\": 0.006258547306060791, \"time\": 25.0, \"std\": 0.030511721968650818, \"variable\": \"VPD\"}, {\"mean\": 0.0020782053470611572, \"time\": 26.0, \"std\": 0.027515413239598274, \"variable\": \"VPD\"}, {\"mean\": -0.00015176832675933838, \"time\": 27.0, \"std\": 0.027598073706030846, \"variable\": \"VPD\"}, {\"mean\": -0.00046455860137939453, \"time\": 28.0, \"std\": 0.027511630207300186, \"variable\": \"VPD\"}, {\"mean\": 0.0004318505525588989, \"time\": 29.0, \"std\": 0.02859995700418949, \"variable\": \"VPD\"}, {\"mean\": 0.00163935124874115, \"time\": 30.0, \"std\": 0.029672589153051376, \"variable\": \"VPD\"}, {\"mean\": 0.0020968616008758545, \"time\": 31.0, \"std\": 0.028773680329322815, \"variable\": \"VPD\"}, {\"mean\": 0.0008334815502166748, \"time\": 32.0, \"std\": 0.02755812369287014, \"variable\": \"VPD\"}, {\"mean\": -0.001852959394454956, \"time\": 33.0, \"std\": 0.029690954834222794, \"variable\": \"VPD\"}, {\"mean\": -0.0035994499921798706, \"time\": 34.0, \"std\": 0.0332760252058506, \"variable\": \"VPD\"}, {\"mean\": -0.0017192065715789795, \"time\": 35.0, \"std\": 0.033240314573049545, \"variable\": \"VPD\"}, {\"mean\": 0.003243550658226013, \"time\": 36.0, \"std\": 0.029704580083489418, \"variable\": \"VPD\"}, {\"mean\": 0.006471768021583557, \"time\": 37.0, \"std\": 0.027512531727552414, \"variable\": \"VPD\"}, {\"mean\": 0.004436701536178589, \"time\": 38.0, \"std\": 0.027824999764561653, \"variable\": \"VPD\"}, {\"mean\": 0.004203766584396362, \"time\": 39.0, \"std\": 0.02763228863477707, \"variable\": \"VPD\"}, {\"mean\": 0.026934579014778137, \"time\": 40.0, \"std\": 0.030889110639691353, \"variable\": \"VPD\"}, {\"mean\": 0.09767556190490723, \"time\": 41.0, \"std\": 0.042994171380996704, \"variable\": \"VPD\"}, {\"mean\": 0.22417862713336945, \"time\": 42.0, \"std\": 0.0542958527803421, \"variable\": \"VPD\"}, {\"mean\": 0.37992116808891296, \"time\": 43.0, \"std\": 0.054042477160692215, \"variable\": \"VPD\"}, {\"mean\": 0.5087037682533264, \"time\": 44.0, \"std\": 0.042758047580718994, \"variable\": \"VPD\"}, {\"mean\": 0.5555105209350586, \"time\": 45.0, \"std\": 0.03219569846987724, \"variable\": \"VPD\"}, {\"mean\": 0.5064705610275269, \"time\": 46.0, \"std\": 0.030465183779597282, \"variable\": \"VPD\"}, {\"mean\": 0.4051075577735901, \"time\": 47.0, \"std\": 0.030901620164513588, \"variable\": \"VPD\"}, {\"mean\": 0.3241974413394928, \"time\": 48.0, \"std\": 0.03012900985777378, \"variable\": \"VPD\"}, {\"mean\": 0.3099183738231659, \"time\": 49.0, \"std\": 0.028726279735565186, \"variable\": \"VPD\"}, {\"mean\": 0.3449400067329407, \"time\": 50.0, \"std\": 0.027640536427497864, \"variable\": \"VPD\"}, {\"mean\": 0.36778590083122253, \"time\": 51.0, \"std\": 0.02890975959599018, \"variable\": \"VPD\"}, {\"mean\": 0.33208486437797546, \"time\": 52.0, \"std\": 0.030272474512457848, \"variable\": \"VPD\"}, {\"mean\": 0.24917474389076233, \"time\": 53.0, \"std\": 0.028816532343626022, \"variable\": \"VPD\"}, {\"mean\": 0.17449826002120972, \"time\": 54.0, \"std\": 0.03041292540729046, \"variable\": \"VPD\"}, {\"mean\": 0.15413354337215424, \"time\": 55.0, \"std\": 0.038422055542469025, \"variable\": \"VPD\"}, {\"mean\": 0.18445877730846405, \"time\": 56.0, \"std\": 0.0426424965262413, \"variable\": \"VPD\"}, {\"mean\": 0.2195252627134323, \"time\": 57.0, \"std\": 0.03826403617858887, \"variable\": \"VPD\"}, {\"mean\": 0.2131320983171463, \"time\": 58.0, \"std\": 0.03200427070260048, \"variable\": \"VPD\"}, {\"mean\": 0.1550416499376297, \"time\": 59.0, \"std\": 0.02996441349387169, \"variable\": \"VPD\"}, {\"mean\": 0.07400798797607422, \"time\": 60.0, \"std\": 0.029008494690060616, \"variable\": \"VPD\"}, {\"mean\": 0.012268319725990295, \"time\": 61.0, \"std\": 0.028859319165349007, \"variable\": \"VPD\"}, {\"mean\": -0.003811568021774292, \"time\": 62.0, \"std\": 0.029967831447720528, \"variable\": \"VPD\"}, {\"mean\": 0.02385421097278595, \"time\": 63.0, \"std\": 0.03157104551792145, \"variable\": \"VPD\"}, {\"mean\": 0.07356032729148865, \"time\": 64.0, \"std\": 0.03448484092950821, \"variable\": \"VPD\"}, {\"mean\": 0.12269977480173111, \"time\": 65.0, \"std\": 0.03468910604715347, \"variable\": \"VPD\"}, {\"mean\": 0.16211725771427155, \"time\": 66.0, \"std\": 0.029991190880537033, \"variable\": \"VPD\"}, {\"mean\": 0.19663426280021667, \"time\": 67.0, \"std\": 0.030522439628839493, \"variable\": \"VPD\"}, {\"mean\": 0.23399507999420166, \"time\": 68.0, \"std\": 0.03964900225400925, \"variable\": \"VPD\"}, {\"mean\": 0.27408894896507263, \"time\": 69.0, \"std\": 0.04394029453396797, \"variable\": \"VPD\"}, {\"mean\": 0.30923283100128174, \"time\": 70.0, \"std\": 0.03891106694936752, \"variable\": \"VPD\"}, {\"mean\": 0.33390989899635315, \"time\": 71.0, \"std\": 0.03195132315158844, \"variable\": \"VPD\"}, {\"mean\": 0.35119181871414185, \"time\": 72.0, \"std\": 0.0303515437990427, \"variable\": \"VPD\"}, {\"mean\": 0.3667082190513611, \"time\": 73.0, \"std\": 0.0307058896869421, \"variable\": \"VPD\"}, {\"mean\": 0.3766944408416748, \"time\": 74.0, \"std\": 0.03038233146071434, \"variable\": \"VPD\"}, {\"mean\": 0.36569100618362427, \"time\": 75.0, \"std\": 0.030271653085947037, \"variable\": \"VPD\"}, {\"mean\": 0.31953495740890503, \"time\": 76.0, \"std\": 0.030268928036093712, \"variable\": \"VPD\"}, {\"mean\": 0.24114374816417694, \"time\": 77.0, \"std\": 0.030253369361162186, \"variable\": \"VPD\"}, {\"mean\": 0.15214496850967407, \"time\": 78.0, \"std\": 0.02985401265323162, \"variable\": \"VPD\"}, {\"mean\": 0.07850800454616547, \"time\": 79.0, \"std\": 0.0285688117146492, \"variable\": \"VPD\"}, {\"mean\": 0.03505145013332367, \"time\": 80.0, \"std\": 0.02745116502046585, \"variable\": \"VPD\"}, {\"mean\": 0.022651344537734985, \"time\": 81.0, \"std\": 0.027346504852175713, \"variable\": \"VPD\"}, {\"mean\": 0.03610019385814667, \"time\": 82.0, \"std\": 0.027320880442857742, \"variable\": \"VPD\"}, {\"mean\": 0.07009190320968628, \"time\": 83.0, \"std\": 0.027491329237818718, \"variable\": \"VPD\"}, {\"mean\": 0.1172318235039711, \"time\": 84.0, \"std\": 0.028612719848752022, \"variable\": \"VPD\"}, {\"mean\": 0.16460749506950378, \"time\": 85.0, \"std\": 0.02978493832051754, \"variable\": \"VPD\"}, {\"mean\": 0.19742867350578308, \"time\": 86.0, \"std\": 0.03134320303797722, \"variable\": \"VPD\"}, {\"mean\": 0.20799610018730164, \"time\": 87.0, \"std\": 0.033440470695495605, \"variable\": \"VPD\"}, {\"mean\": 0.20010697841644287, \"time\": 88.0, \"std\": 0.033415716141462326, \"variable\": \"VPD\"}, {\"mean\": 0.18355423212051392, \"time\": 89.0, \"std\": 0.03134910389780998, \"variable\": \"VPD\"}, {\"mean\": 0.1645405888557434, \"time\": 90.0, \"std\": 0.029912494122982025, \"variable\": \"VPD\"}, {\"mean\": 0.14202716946601868, \"time\": 91.0, \"std\": 0.028657427057623863, \"variable\": \"VPD\"}, {\"mean\": 0.1127978190779686, \"time\": 92.0, \"std\": 0.02765887789428234, \"variable\": \"VPD\"}, {\"mean\": 0.0783952921628952, \"time\": 93.0, \"std\": 0.028576212003827095, \"variable\": \"VPD\"}, {\"mean\": 0.045979082584381104, \"time\": 94.0, \"std\": 0.02994483895599842, \"variable\": \"VPD\"}, {\"mean\": 0.022604644298553467, \"time\": 95.0, \"std\": 0.030395865440368652, \"variable\": \"VPD\"}, {\"mean\": 0.009663432836532593, \"time\": 96.0, \"std\": 0.029824284836649895, \"variable\": \"VPD\"}, {\"mean\": 0.0033088475465774536, \"time\": 97.0, \"std\": 0.028654370456933975, \"variable\": \"VPD\"}, {\"mean\": -0.00032179057598114014, \"time\": 98.0, \"std\": 0.02878475748002529, \"variable\": \"VPD\"}, {\"mean\": -0.001500740647315979, \"time\": 99.0, \"std\": 0.02943033166229725, \"variable\": \"VPD\"}, {\"mean\": 0.0009299516677856445, \"time\": 100.0, \"std\": 0.02878774330019951, \"variable\": \"VPD\"}, {\"mean\": 0.004703611135482788, \"time\": 101.0, \"std\": 0.028729500249028206, \"variable\": \"VPD\"}, {\"mean\": 0.003617003560066223, \"time\": 102.0, \"std\": 0.029846765100955963, \"variable\": \"VPD\"}, {\"mean\": -0.005813732743263245, \"time\": 103.0, \"std\": 0.03142457455396652, \"variable\": \"VPD\"}, {\"mean\": -0.01694422960281372, \"time\": 104.0, \"std\": 0.03355694189667702, \"variable\": \"VPD\"}, {\"mean\": -0.01410713791847229, \"time\": 105.0, \"std\": 0.0333297923207283, \"variable\": \"VPD\"}, {\"mean\": 0.01619608700275421, \"time\": 106.0, \"std\": 0.029742538928985596, \"variable\": \"VPD\"}, {\"mean\": 0.07457378506660461, \"time\": 107.0, \"std\": 0.027629956603050232, \"variable\": \"VPD\"}, {\"mean\": 0.14934676885604858, \"time\": 108.0, \"std\": 0.028887296095490456, \"variable\": \"VPD\"}, {\"mean\": 0.22803039848804474, \"time\": 109.0, \"std\": 0.030004683881998062, \"variable\": \"VPD\"}, {\"mean\": 0.3069148659706116, \"time\": 110.0, \"std\": 0.0313708558678627, \"variable\": \"VPD\"}, {\"mean\": 0.38859492540359497, \"time\": 111.0, \"std\": 0.03357775881886482, \"variable\": \"VPD\"}, {\"mean\": 0.4723912477493286, \"time\": 112.0, \"std\": 0.03363172709941864, \"variable\": \"VPD\"}, {\"mean\": 0.5496435165405273, \"time\": 113.0, \"std\": 0.03146623075008392, \"variable\": \"VPD\"}, {\"mean\": 0.6097667217254639, \"time\": 114.0, \"std\": 0.030016351491212845, \"variable\": \"VPD\"}, {\"mean\": 0.6492403745651245, \"time\": 115.0, \"std\": 0.029212430119514465, \"variable\": \"VPD\"}, {\"mean\": 0.6731234192848206, \"time\": 116.0, \"std\": 0.02785365842282772, \"variable\": \"VPD\"}, {\"mean\": 0.6891545653343201, \"time\": 117.0, \"std\": 0.031253743916749954, \"variable\": \"VPD\"}, {\"mean\": 0.7023296356201172, \"time\": 118.0, \"std\": 0.04775447025895119, \"variable\": \"VPD\"}, {\"mean\": 0.7146080136299133, \"time\": 119.0, \"std\": 0.06848540157079697, \"variable\": \"VPD\"}, {\"mean\": 0.7278875112533569, \"time\": 120.0, \"std\": 0.07807379215955734, \"variable\": \"VPD\"}, {\"mean\": 0.7440983653068542, \"time\": 121.0, \"std\": 0.06913372874259949, \"variable\": \"VPD\"}, {\"mean\": 0.7618660926818848, \"time\": 122.0, \"std\": 0.04788479954004288, \"variable\": \"VPD\"}, {\"mean\": 0.7751373648643494, \"time\": 123.0, \"std\": 0.03132084757089615, \"variable\": \"VPD\"}, {\"mean\": 0.7765559554100037, \"time\": 124.0, \"std\": 0.02797963097691536, \"variable\": \"VPD\"}, {\"mean\": 0.7632496953010559, \"time\": 125.0, \"std\": 0.03107544407248497, \"variable\": \"VPD\"}, {\"mean\": 0.7385546565055847, \"time\": 126.0, \"std\": 0.04274452477693558, \"variable\": \"VPD\"}, {\"mean\": 0.7082912921905518, \"time\": 127.0, \"std\": 0.05163957178592682, \"variable\": \"VPD\"}, {\"mean\": 0.6750926375389099, \"time\": 128.0, \"std\": 0.04460645839571953, \"variable\": \"VPD\"}, {\"mean\": 0.6373199820518494, \"time\": 129.0, \"std\": 0.03274460509419441, \"variable\": \"VPD\"}, {\"mean\": 0.5930551290512085, \"time\": 130.0, \"std\": 0.054362133145332336, \"variable\": \"VPD\"}, {\"mean\": 0.545264482498169, \"time\": 131.0, \"std\": 0.08264274895191193, \"variable\": \"VPD\"}, {\"mean\": 0.5021504163742065, \"time\": 132.0, \"std\": 0.09087517857551575, \"variable\": \"VPD\"}, {\"mean\": 0.472037672996521, \"time\": 133.0, \"std\": 0.07561781257390976, \"variable\": \"VPD\"}, {\"mean\": 0.45670944452285767, \"time\": 134.0, \"std\": 0.049288950860500336, \"variable\": \"VPD\"}, {\"mean\": 0.44984710216522217, \"time\": 135.0, \"std\": 0.032342810183763504, \"variable\": \"VPD\"}, {\"mean\": 0.4426652491092682, \"time\": 136.0, \"std\": 0.030489681288599968, \"variable\": \"VPD\"}, {\"mean\": 0.431914746761322, \"time\": 137.0, \"std\": 0.029281390830874443, \"variable\": \"VPD\"}, {\"mean\": 0.4224191904067993, \"time\": 138.0, \"std\": 0.027489226311445236, \"variable\": \"VPD\"}, {\"mean\": 0.4203929305076599, \"time\": 139.0, \"std\": 0.02744472399353981, \"variable\": \"VPD\"}, {\"mean\": 0.4244818687438965, \"time\": 140.0, \"std\": 0.02740388736128807, \"variable\": \"VPD\"}, {\"mean\": 0.42677515745162964, \"time\": 141.0, \"std\": 0.027481412515044212, \"variable\": \"VPD\"}, {\"mean\": 0.425007700920105, \"time\": 142.0, \"std\": 0.02868623100221157, \"variable\": \"VPD\"}, {\"mean\": 0.43362706899642944, \"time\": 143.0, \"std\": 0.029919233173131943, \"variable\": \"VPD\"}, {\"mean\": 0.4777299761772156, \"time\": 144.0, \"std\": 0.030556460842490196, \"variable\": \"VPD\"}, {\"mean\": 0.5706552267074585, \"time\": 145.0, \"std\": 0.030953479930758476, \"variable\": \"VPD\"}, {\"mean\": 0.694561779499054, \"time\": 146.0, \"std\": 0.029402367770671844, \"variable\": \"VPD\"}, {\"mean\": 0.8045056462287903, \"time\": 147.0, \"std\": 0.03132649511098862, \"variable\": \"VPD\"}, {\"mean\": 0.8545852303504944, \"time\": 148.0, \"std\": 0.05527263507246971, \"variable\": \"VPD\"}, {\"mean\": 0.824487030506134, \"time\": 149.0, \"std\": 0.0962299332022667, \"variable\": \"VPD\"}]}}, {\"mode\": \"vega-lite\"});\n",
       "</script>"
      ],
      "text/plain": [
       "alt.VConcatChart(...)"
      ]
     },
     "metadata": {},
     "output_type": "display_data"
    },
    {
     "data": {
      "text/html": [
       "<div style=\"display: flex; gap: 20px;\"> <div> <p style='font-size: 1.3rem; font-decoration: bold'>r2<p> <style type=\"text/css\">\n",
       "</style>\n",
       "<table id=\"T_d78ef\">\n",
       "  <thead>\n",
       "    <tr>\n",
       "      <th id=\"T_d78ef_level0_col0\" class=\"col_heading level0 col0\" >variable</th>\n",
       "      <th id=\"T_d78ef_level0_col1\" class=\"col_heading level0 col1\" >r2</th>\n",
       "    </tr>\n",
       "  </thead>\n",
       "  <tbody>\n",
       "    <tr>\n",
       "      <td id=\"T_d78ef_row0_col0\" class=\"data row0 col0\" >TA</td>\n",
       "      <td id=\"T_d78ef_row0_col1\" class=\"data row0 col1\" >0.9821</td>\n",
       "    </tr>\n",
       "    <tr>\n",
       "      <td id=\"T_d78ef_row1_col0\" class=\"data row1 col0\" >SW_IN</td>\n",
       "      <td id=\"T_d78ef_row1_col1\" class=\"data row1 col1\" >0.9538</td>\n",
       "    </tr>\n",
       "    <tr>\n",
       "      <td id=\"T_d78ef_row2_col0\" class=\"data row2 col0\" >LW_IN</td>\n",
       "      <td id=\"T_d78ef_row2_col1\" class=\"data row2 col1\" >0.9484</td>\n",
       "    </tr>\n",
       "    <tr>\n",
       "      <td id=\"T_d78ef_row3_col0\" class=\"data row3 col0\" >VPD</td>\n",
       "      <td id=\"T_d78ef_row3_col1\" class=\"data row3 col1\" >0.9493</td>\n",
       "    </tr>\n",
       "  </tbody>\n",
       "</table>\n",
       " </div></div>"
      ],
      "text/plain": [
       "<IPython.core.display.HTML object>"
      ]
     },
     "metadata": {},
     "output_type": "display_data"
    }
   ],
   "source": [
    "res_r_gaps.display_results(plot_args = {'bind_interaction': False})"
   ]
  },
  {
   "cell_type": "markdown",
   "id": "195421bc-36e2-422d-96d1-05ba87164d15",
   "metadata": {},
   "source": [
    "### Continous Gaps"
   ]
  },
  {
   "cell_type": "code",
   "execution_count": null,
   "id": "add5ebfb-9965-4227-944f-a0be051eb59a",
   "metadata": {},
   "outputs": [
    {
     "data": {
      "application/vnd.jupyter.widget-view+json": {
       "model_id": "3cafa20382904374babc5a73bf1e4a98",
       "version_major": 2,
       "version_minor": 0
      },
      "text/plain": [
       "  0%|          | 0/100 [00:00<?, ?it/s]"
      ]
     },
     "metadata": {},
     "output_type": "display_data"
    },
    {
     "data": {
      "application/vnd.jupyter.widget-view+json": {
       "model_id": "2757fc74942b406f8485158790b7e1b5",
       "version_major": 2,
       "version_minor": 0
      },
      "text/plain": [
       "  0%|          | 0/100 [00:00<?, ?it/s]"
      ]
     },
     "metadata": {},
     "output_type": "display_data"
    },
    {
     "data": {
      "application/vnd.jupyter.widget-view+json": {
       "model_id": "a3549e283f35436aafc3fe48993db0ce",
       "version_major": 2,
       "version_minor": 0
      },
      "text/plain": [
       "  0%|          | 0/100 [00:00<?, ?it/s]"
      ]
     },
     "metadata": {},
     "output_type": "display_data"
    },
    {
     "data": {
      "application/vnd.jupyter.widget-view+json": {
       "model_id": "7c059d7987a24d859aacd4aa2c93b78b",
       "version_major": 2,
       "version_minor": 0
      },
      "text/plain": [
       "  0%|          | 0/100 [00:00<?, ?it/s]"
      ]
     },
     "metadata": {},
     "output_type": "display_data"
    }
   ],
   "source": [
    "res_c_gaps = SimpleGPImputationExplorer(data_c_gaps.data).fit().to_result(data_c_gaps.data_compl_tidy, units=units)"
   ]
  },
  {
   "cell_type": "code",
   "execution_count": null,
   "id": "e8846283-9d25-4f24-a0fd-b90e241fc24a",
   "metadata": {},
   "outputs": [
    {
     "name": "stderr",
     "output_type": "stream",
     "text": [
      "/home/simone/.local/lib/python3.10/site-packages/altair/utils/core.py:317: FutureWarning: iteritems is deprecated and will be removed in a future version. Use .items instead.\n",
      "  for col_name, dtype in df.dtypes.iteritems():\n"
     ]
    },
    {
     "data": {
      "text/html": [
       "\n",
       "<div id=\"altair-viz-b40f8120416946db8f1c36cbaffaf204\"></div>\n",
       "<script type=\"text/javascript\">\n",
       "  var VEGA_DEBUG = (typeof VEGA_DEBUG == \"undefined\") ? {} : VEGA_DEBUG;\n",
       "  (function(spec, embedOpt){\n",
       "    let outputDiv = document.currentScript.previousElementSibling;\n",
       "    if (outputDiv.id !== \"altair-viz-b40f8120416946db8f1c36cbaffaf204\") {\n",
       "      outputDiv = document.getElementById(\"altair-viz-b40f8120416946db8f1c36cbaffaf204\");\n",
       "    }\n",
       "    const paths = {\n",
       "      \"vega\": \"https://cdn.jsdelivr.net/npm//vega@5?noext\",\n",
       "      \"vega-lib\": \"https://cdn.jsdelivr.net/npm//vega-lib?noext\",\n",
       "      \"vega-lite\": \"https://cdn.jsdelivr.net/npm//vega-lite@4.17.0?noext\",\n",
       "      \"vega-embed\": \"https://cdn.jsdelivr.net/npm//vega-embed@6?noext\",\n",
       "    };\n",
       "\n",
       "    function maybeLoadScript(lib, version) {\n",
       "      var key = `${lib.replace(\"-\", \"\")}_version`;\n",
       "      return (VEGA_DEBUG[key] == version) ?\n",
       "        Promise.resolve(paths[lib]) :\n",
       "        new Promise(function(resolve, reject) {\n",
       "          var s = document.createElement('script');\n",
       "          document.getElementsByTagName(\"head\")[0].appendChild(s);\n",
       "          s.async = true;\n",
       "          s.onload = () => {\n",
       "            VEGA_DEBUG[key] = version;\n",
       "            return resolve(paths[lib]);\n",
       "          };\n",
       "          s.onerror = () => reject(`Error loading script: ${paths[lib]}`);\n",
       "          s.src = paths[lib];\n",
       "        });\n",
       "    }\n",
       "\n",
       "    function showError(err) {\n",
       "      outputDiv.innerHTML = `<div class=\"error\" style=\"color:red;\">${err}</div>`;\n",
       "      throw err;\n",
       "    }\n",
       "\n",
       "    function displayChart(vegaEmbed) {\n",
       "      vegaEmbed(outputDiv, spec, embedOpt)\n",
       "        .catch(err => showError(`Javascript Error: ${err.message}<br>This usually means there's a typo in your chart specification. See the javascript console for the full traceback.`));\n",
       "    }\n",
       "\n",
       "    if(typeof define === \"function\" && define.amd) {\n",
       "      requirejs.config({paths});\n",
       "      require([\"vega-embed\"], displayChart, err => showError(`Error loading script: ${err.message}`));\n",
       "    } else {\n",
       "      maybeLoadScript(\"vega\", \"5\")\n",
       "        .then(() => maybeLoadScript(\"vega-lite\", \"4.17.0\"))\n",
       "        .then(() => maybeLoadScript(\"vega-embed\", \"6\"))\n",
       "        .catch(showError)\n",
       "        .then(() => displayChart(vegaEmbed));\n",
       "    }\n",
       "  })({\"config\": {\"view\": {\"continuousWidth\": 400, \"continuousHeight\": 300}}, \"vconcat\": [{\"hconcat\": [{\"layer\": [{\"data\": {\"name\": \"data-ccfb08327239d6de46cde4b28680d3ec\"}, \"mark\": {\"type\": \"point\", \"color\": \"black\", \"fillOpacity\": 1, \"strokeWidth\": 1}, \"encoding\": {\"fill\": {\"field\": \"is_missing\", \"legend\": {\"title\": [\"Observed data\", \"(is missing)\"]}, \"scale\": {\"range\": [\"#ffffff00\", \"black\"]}, \"type\": \"nominal\"}, \"shape\": {\"field\": \"is_missing\", \"type\": \"nominal\"}, \"x\": {\"field\": \"time\", \"type\": \"quantitative\"}, \"y\": {\"field\": \"value\", \"scale\": {\"zero\": false}, \"title\": \"TA [\\u00b0C]\", \"type\": \"quantitative\"}}}, {\"layer\": [{\"mark\": \"errorband\", \"encoding\": {\"color\": {\"field\": \"variable\", \"legend\": {\"title\": [\"Line: pred. mean\", \"area: +/- 2 std\", \"(variable)\"]}, \"type\": \"nominal\"}, \"tooltip\": [{\"field\": \"std\", \"format\": \".4\", \"type\": \"quantitative\"}, {\"field\": \"mean\", \"format\": \".4\", \"type\": \"quantitative\"}], \"x\": {\"field\": \"time\", \"type\": \"quantitative\"}, \"y\": {\"field\": \"err_low\", \"scale\": {\"zero\": false}, \"title\": \"TA [\\u00b0C]\", \"type\": \"quantitative\"}, \"y2\": {\"field\": \"err_high\"}}, \"height\": 150, \"transform\": [{\"calculate\": \"datum.mean - 2 * datum.std\", \"as\": \"err_low\"}, {\"calculate\": \"datum.mean + 2 * datum.std\", \"as\": \"err_high\"}], \"width\": 300}, {\"mark\": \"line\", \"encoding\": {\"color\": {\"field\": \"variable\", \"type\": \"nominal\"}, \"x\": {\"field\": \"time\", \"type\": \"quantitative\"}, \"y\": {\"field\": \"mean\", \"scale\": {\"zero\": false}, \"title\": \"TA [\\u00b0C]\", \"type\": \"quantitative\"}}, \"selection\": {\"selector005\": {\"type\": \"interval\", \"bind\": \"scales\"}}, \"title\": \"TA\"}], \"data\": {\"name\": \"data-ea04c7dcbbafdf71418951a12d77978e\"}}]}, {\"layer\": [{\"data\": {\"name\": \"data-a49bcea6c99f85c72cdaa221c1f40441\"}, \"mark\": {\"type\": \"point\", \"color\": \"black\", \"fillOpacity\": 1, \"strokeWidth\": 1}, \"encoding\": {\"fill\": {\"field\": \"is_missing\", \"legend\": {\"title\": [\"Observed data\", \"(is missing)\"]}, \"scale\": {\"range\": [\"#ffffff00\", \"black\"]}, \"type\": \"nominal\"}, \"shape\": {\"field\": \"is_missing\", \"type\": \"nominal\"}, \"x\": {\"field\": \"time\", \"type\": \"quantitative\"}, \"y\": {\"field\": \"value\", \"scale\": {\"zero\": false}, \"title\": \"SW_IN [W m-2]\", \"type\": \"quantitative\"}}}, {\"layer\": [{\"mark\": \"errorband\", \"encoding\": {\"color\": {\"field\": \"variable\", \"legend\": {\"title\": [\"Line: pred. mean\", \"area: +/- 2 std\", \"(variable)\"]}, \"type\": \"nominal\"}, \"tooltip\": [{\"field\": \"std\", \"format\": \".4\", \"type\": \"quantitative\"}, {\"field\": \"mean\", \"format\": \".4\", \"type\": \"quantitative\"}], \"x\": {\"field\": \"time\", \"type\": \"quantitative\"}, \"y\": {\"field\": \"err_low\", \"scale\": {\"zero\": false}, \"title\": \"SW_IN [W m-2]\", \"type\": \"quantitative\"}, \"y2\": {\"field\": \"err_high\"}}, \"height\": 150, \"transform\": [{\"calculate\": \"datum.mean - 2 * datum.std\", \"as\": \"err_low\"}, {\"calculate\": \"datum.mean + 2 * datum.std\", \"as\": \"err_high\"}], \"width\": 300}, {\"mark\": \"line\", \"encoding\": {\"color\": {\"field\": \"variable\", \"type\": \"nominal\"}, \"x\": {\"field\": \"time\", \"type\": \"quantitative\"}, \"y\": {\"field\": \"mean\", \"scale\": {\"zero\": false}, \"title\": \"SW_IN [W m-2]\", \"type\": \"quantitative\"}}, \"selection\": {\"selector006\": {\"type\": \"interval\", \"bind\": \"scales\"}}, \"title\": \"SW_IN\"}], \"data\": {\"name\": \"data-f5ffeacf671d38b2b3cdaf7e34d3da0a\"}}]}]}, {\"hconcat\": [{\"layer\": [{\"data\": {\"name\": \"data-6de626b54b1ea97dda9a1c9e19819520\"}, \"mark\": {\"type\": \"point\", \"color\": \"black\", \"fillOpacity\": 1, \"strokeWidth\": 1}, \"encoding\": {\"fill\": {\"field\": \"is_missing\", \"legend\": {\"title\": [\"Observed data\", \"(is missing)\"]}, \"scale\": {\"range\": [\"#ffffff00\", \"black\"]}, \"type\": \"nominal\"}, \"shape\": {\"field\": \"is_missing\", \"type\": \"nominal\"}, \"x\": {\"field\": \"time\", \"type\": \"quantitative\"}, \"y\": {\"field\": \"value\", \"scale\": {\"zero\": false}, \"title\": \"LW_IN [W m-2]\", \"type\": \"quantitative\"}}}, {\"layer\": [{\"mark\": \"errorband\", \"encoding\": {\"color\": {\"field\": \"variable\", \"legend\": {\"title\": [\"Line: pred. mean\", \"area: +/- 2 std\", \"(variable)\"]}, \"type\": \"nominal\"}, \"tooltip\": [{\"field\": \"std\", \"format\": \".4\", \"type\": \"quantitative\"}, {\"field\": \"mean\", \"format\": \".4\", \"type\": \"quantitative\"}], \"x\": {\"field\": \"time\", \"type\": \"quantitative\"}, \"y\": {\"field\": \"err_low\", \"scale\": {\"zero\": false}, \"title\": \"LW_IN [W m-2]\", \"type\": \"quantitative\"}, \"y2\": {\"field\": \"err_high\"}}, \"height\": 150, \"transform\": [{\"calculate\": \"datum.mean - 2 * datum.std\", \"as\": \"err_low\"}, {\"calculate\": \"datum.mean + 2 * datum.std\", \"as\": \"err_high\"}], \"width\": 300}, {\"mark\": \"line\", \"encoding\": {\"color\": {\"field\": \"variable\", \"type\": \"nominal\"}, \"x\": {\"field\": \"time\", \"type\": \"quantitative\"}, \"y\": {\"field\": \"mean\", \"scale\": {\"zero\": false}, \"title\": \"LW_IN [W m-2]\", \"type\": \"quantitative\"}}, \"selection\": {\"selector007\": {\"type\": \"interval\", \"bind\": \"scales\"}}, \"title\": \"LW_IN\"}], \"data\": {\"name\": \"data-02ba5e6027cf36a50a6a241162d98f8d\"}}]}, {\"layer\": [{\"data\": {\"name\": \"data-b5c1abed881ac275f3dbf2017cad5046\"}, \"mark\": {\"type\": \"point\", \"color\": \"black\", \"fillOpacity\": 1, \"strokeWidth\": 1}, \"encoding\": {\"fill\": {\"field\": \"is_missing\", \"legend\": {\"title\": [\"Observed data\", \"(is missing)\"]}, \"scale\": {\"range\": [\"#ffffff00\", \"black\"]}, \"type\": \"nominal\"}, \"shape\": {\"field\": \"is_missing\", \"type\": \"nominal\"}, \"x\": {\"field\": \"time\", \"type\": \"quantitative\"}, \"y\": {\"field\": \"value\", \"scale\": {\"zero\": false}, \"title\": \"VPD [hPa]\", \"type\": \"quantitative\"}}}, {\"layer\": [{\"mark\": \"errorband\", \"encoding\": {\"color\": {\"field\": \"variable\", \"legend\": {\"title\": [\"Line: pred. mean\", \"area: +/- 2 std\", \"(variable)\"]}, \"type\": \"nominal\"}, \"tooltip\": [{\"field\": \"std\", \"format\": \".4\", \"type\": \"quantitative\"}, {\"field\": \"mean\", \"format\": \".4\", \"type\": \"quantitative\"}], \"x\": {\"field\": \"time\", \"type\": \"quantitative\"}, \"y\": {\"field\": \"err_low\", \"scale\": {\"zero\": false}, \"title\": \"VPD [hPa]\", \"type\": \"quantitative\"}, \"y2\": {\"field\": \"err_high\"}}, \"height\": 150, \"transform\": [{\"calculate\": \"datum.mean - 2 * datum.std\", \"as\": \"err_low\"}, {\"calculate\": \"datum.mean + 2 * datum.std\", \"as\": \"err_high\"}], \"width\": 300}, {\"mark\": \"line\", \"encoding\": {\"color\": {\"field\": \"variable\", \"type\": \"nominal\"}, \"x\": {\"field\": \"time\", \"type\": \"quantitative\"}, \"y\": {\"field\": \"mean\", \"scale\": {\"zero\": false}, \"title\": \"VPD [hPa]\", \"type\": \"quantitative\"}}, \"selection\": {\"selector008\": {\"type\": \"interval\", \"bind\": \"scales\"}}, \"title\": \"VPD\"}], \"data\": {\"name\": \"data-374e52320d9722cd31607a433f252d50\"}}]}]}, {\"hconcat\": []}, {\"hconcat\": []}, {\"hconcat\": []}, {\"hconcat\": []}, {\"hconcat\": []}, {\"hconcat\": []}, {\"hconcat\": []}, {\"hconcat\": []}, {\"hconcat\": []}, {\"hconcat\": []}, {\"hconcat\": []}, {\"hconcat\": []}, {\"hconcat\": []}, {\"hconcat\": []}, {\"hconcat\": []}, {\"hconcat\": []}, {\"hconcat\": []}, {\"hconcat\": []}, {\"hconcat\": []}, {\"hconcat\": []}, {\"hconcat\": []}, {\"hconcat\": []}, {\"hconcat\": []}, {\"hconcat\": []}, {\"hconcat\": []}, {\"hconcat\": []}, {\"hconcat\": []}, {\"hconcat\": []}, {\"hconcat\": []}, {\"hconcat\": []}, {\"hconcat\": []}, {\"hconcat\": []}, {\"hconcat\": []}, {\"hconcat\": []}, {\"hconcat\": []}, {\"hconcat\": []}, {\"hconcat\": []}, {\"hconcat\": []}, {\"hconcat\": []}, {\"hconcat\": []}, {\"hconcat\": []}, {\"hconcat\": []}, {\"hconcat\": []}, {\"hconcat\": []}, {\"hconcat\": []}, {\"hconcat\": []}, {\"hconcat\": []}, {\"hconcat\": []}, {\"hconcat\": []}, {\"hconcat\": []}, {\"hconcat\": []}, {\"hconcat\": []}, {\"hconcat\": []}, {\"hconcat\": []}, {\"hconcat\": []}, {\"hconcat\": []}, {\"hconcat\": []}, {\"hconcat\": []}, {\"hconcat\": []}, {\"hconcat\": []}, {\"hconcat\": []}, {\"hconcat\": []}, {\"hconcat\": []}, {\"hconcat\": []}, {\"hconcat\": []}, {\"hconcat\": []}, {\"hconcat\": []}, {\"hconcat\": []}, {\"hconcat\": []}, {\"hconcat\": []}, {\"hconcat\": []}, {\"hconcat\": []}, {\"hconcat\": []}, {\"hconcat\": []}, {\"hconcat\": []}, {\"hconcat\": []}, {\"hconcat\": []}, {\"hconcat\": []}, {\"hconcat\": []}, {\"hconcat\": []}, {\"hconcat\": []}, {\"hconcat\": []}, {\"hconcat\": []}, {\"hconcat\": []}, {\"hconcat\": []}, {\"hconcat\": []}, {\"hconcat\": []}, {\"hconcat\": []}, {\"hconcat\": []}, {\"hconcat\": []}, {\"hconcat\": []}, {\"hconcat\": []}, {\"hconcat\": []}, {\"hconcat\": []}, {\"hconcat\": []}, {\"hconcat\": []}, {\"hconcat\": []}, {\"hconcat\": []}, {\"hconcat\": []}, {\"hconcat\": []}, {\"hconcat\": []}, {\"hconcat\": []}, {\"hconcat\": []}, {\"hconcat\": []}, {\"hconcat\": []}, {\"hconcat\": []}, {\"hconcat\": []}, {\"hconcat\": []}, {\"hconcat\": []}, {\"hconcat\": []}, {\"hconcat\": []}, {\"hconcat\": []}, {\"hconcat\": []}, {\"hconcat\": []}, {\"hconcat\": []}, {\"hconcat\": []}, {\"hconcat\": []}, {\"hconcat\": []}, {\"hconcat\": []}, {\"hconcat\": []}, {\"hconcat\": []}, {\"hconcat\": []}, {\"hconcat\": []}, {\"hconcat\": []}, {\"hconcat\": []}, {\"hconcat\": []}, {\"hconcat\": []}, {\"hconcat\": []}, {\"hconcat\": []}, {\"hconcat\": []}, {\"hconcat\": []}, {\"hconcat\": []}, {\"hconcat\": []}, {\"hconcat\": []}, {\"hconcat\": []}, {\"hconcat\": []}, {\"hconcat\": []}, {\"hconcat\": []}, {\"hconcat\": []}, {\"hconcat\": []}, {\"hconcat\": []}, {\"hconcat\": []}, {\"hconcat\": []}, {\"hconcat\": []}, {\"hconcat\": []}, {\"hconcat\": []}, {\"hconcat\": []}, {\"hconcat\": []}, {\"hconcat\": []}, {\"hconcat\": []}, {\"hconcat\": []}, {\"hconcat\": []}, {\"hconcat\": []}, {\"hconcat\": []}, {\"hconcat\": []}, {\"hconcat\": []}, {\"hconcat\": []}, {\"hconcat\": []}, {\"hconcat\": []}, {\"hconcat\": []}, {\"hconcat\": []}, {\"hconcat\": []}, {\"hconcat\": []}, {\"hconcat\": []}, {\"hconcat\": []}, {\"hconcat\": []}, {\"hconcat\": []}, {\"hconcat\": []}, {\"hconcat\": []}, {\"hconcat\": []}, {\"hconcat\": []}, {\"hconcat\": []}, {\"hconcat\": []}, {\"hconcat\": []}, {\"hconcat\": []}, {\"hconcat\": []}, {\"hconcat\": []}, {\"hconcat\": []}, {\"hconcat\": []}, {\"hconcat\": []}, {\"hconcat\": []}, {\"hconcat\": []}, {\"hconcat\": []}, {\"hconcat\": []}, {\"hconcat\": []}, {\"hconcat\": []}, {\"hconcat\": []}, {\"hconcat\": []}, {\"hconcat\": []}, {\"hconcat\": []}, {\"hconcat\": []}, {\"hconcat\": []}, {\"hconcat\": []}, {\"hconcat\": []}, {\"hconcat\": []}, {\"hconcat\": []}, {\"hconcat\": []}, {\"hconcat\": []}, {\"hconcat\": []}, {\"hconcat\": []}, {\"hconcat\": []}, {\"hconcat\": []}, {\"hconcat\": []}, {\"hconcat\": []}, {\"hconcat\": []}, {\"hconcat\": []}, {\"hconcat\": []}, {\"hconcat\": []}, {\"hconcat\": []}, {\"hconcat\": []}, {\"hconcat\": []}, {\"hconcat\": []}, {\"hconcat\": []}, {\"hconcat\": []}, {\"hconcat\": []}, {\"hconcat\": []}, {\"hconcat\": []}, {\"hconcat\": []}, {\"hconcat\": []}, {\"hconcat\": []}, {\"hconcat\": []}, {\"hconcat\": []}, {\"hconcat\": []}, {\"hconcat\": []}, {\"hconcat\": []}, {\"hconcat\": []}, {\"hconcat\": []}, {\"hconcat\": []}, {\"hconcat\": []}, {\"hconcat\": []}, {\"hconcat\": []}, {\"hconcat\": []}, {\"hconcat\": []}, {\"hconcat\": []}, {\"hconcat\": []}, {\"hconcat\": []}, {\"hconcat\": []}, {\"hconcat\": []}, {\"hconcat\": []}, {\"hconcat\": []}, {\"hconcat\": []}, {\"hconcat\": []}, {\"hconcat\": []}, {\"hconcat\": []}, {\"hconcat\": []}, {\"hconcat\": []}, {\"hconcat\": []}, {\"hconcat\": []}, {\"hconcat\": []}, {\"hconcat\": []}, {\"hconcat\": []}, {\"hconcat\": []}, {\"hconcat\": []}, {\"hconcat\": []}, {\"hconcat\": []}, {\"hconcat\": []}, {\"hconcat\": []}, {\"hconcat\": []}, {\"hconcat\": []}, {\"hconcat\": []}, {\"hconcat\": []}, {\"hconcat\": []}, {\"hconcat\": []}, {\"hconcat\": []}, {\"hconcat\": []}, {\"hconcat\": []}, {\"hconcat\": []}, {\"hconcat\": []}, {\"hconcat\": []}, {\"hconcat\": []}, {\"hconcat\": []}, {\"hconcat\": []}, {\"hconcat\": []}, {\"hconcat\": []}, {\"hconcat\": []}, {\"hconcat\": []}, {\"hconcat\": []}, {\"hconcat\": []}, {\"hconcat\": []}, {\"hconcat\": []}, {\"hconcat\": []}, {\"hconcat\": []}, {\"hconcat\": []}, {\"hconcat\": []}, {\"hconcat\": []}, {\"hconcat\": []}, {\"hconcat\": []}, {\"hconcat\": []}, {\"hconcat\": []}, {\"hconcat\": []}, {\"hconcat\": []}, {\"hconcat\": []}, {\"hconcat\": []}, {\"hconcat\": []}, {\"hconcat\": []}, {\"hconcat\": []}, {\"hconcat\": []}, {\"hconcat\": []}], \"$schema\": \"https://vega.github.io/schema/vega-lite/v4.17.0.json\", \"datasets\": {\"data-ccfb08327239d6de46cde4b28680d3ec\": [{\"time\": 0.0, \"variable\": \"TA\", \"value\": -0.6, \"is_missing\": false}, {\"time\": 1.0, \"variable\": \"TA\", \"value\": -0.65, \"is_missing\": false}, {\"time\": 2.0, \"variable\": \"TA\", \"value\": -0.58, \"is_missing\": false}, {\"time\": 3.0, \"variable\": \"TA\", \"value\": -0.51, \"is_missing\": false}, {\"time\": 4.0, \"variable\": \"TA\", \"value\": -0.49, \"is_missing\": false}, {\"time\": 5.0, \"variable\": \"TA\", \"value\": -0.4, \"is_missing\": false}, {\"time\": 6.0, \"variable\": \"TA\", \"value\": -0.36, \"is_missing\": false}, {\"time\": 7.0, \"variable\": \"TA\", \"value\": -0.35, \"is_missing\": false}, {\"time\": 8.0, \"variable\": \"TA\", \"value\": -0.28, \"is_missing\": false}, {\"time\": 9.0, \"variable\": \"TA\", \"value\": -0.27, \"is_missing\": false}, {\"time\": 10.0, \"variable\": \"TA\", \"value\": -0.23, \"is_missing\": false}, {\"time\": 11.0, \"variable\": \"TA\", \"value\": -0.23, \"is_missing\": false}, {\"time\": 12.0, \"variable\": \"TA\", \"value\": -0.22, \"is_missing\": false}, {\"time\": 13.0, \"variable\": \"TA\", \"value\": -0.24, \"is_missing\": false}, {\"time\": 14.0, \"variable\": \"TA\", \"value\": -0.23, \"is_missing\": false}, {\"time\": 15.0, \"variable\": \"TA\", \"value\": -0.22, \"is_missing\": false}, {\"time\": 16.0, \"variable\": \"TA\", \"value\": -0.19, \"is_missing\": false}, {\"time\": 17.0, \"variable\": \"TA\", \"value\": -0.14, \"is_missing\": false}, {\"time\": 18.0, \"variable\": \"TA\", \"value\": -0.03, \"is_missing\": false}, {\"time\": 19.0, \"variable\": \"TA\", \"value\": 0.04, \"is_missing\": true}, {\"time\": 20.0, \"variable\": \"TA\", \"value\": 0.1, \"is_missing\": true}, {\"time\": 21.0, \"variable\": \"TA\", \"value\": 0.18, \"is_missing\": true}, {\"time\": 22.0, \"variable\": \"TA\", \"value\": 0.21, \"is_missing\": true}, {\"time\": 23.0, \"variable\": \"TA\", \"value\": 0.23, \"is_missing\": true}, {\"time\": 24.0, \"variable\": \"TA\", \"value\": 0.33, \"is_missing\": true}, {\"time\": 25.0, \"variable\": \"TA\", \"value\": 0.41, \"is_missing\": true}, {\"time\": 26.0, \"variable\": \"TA\", \"value\": 0.44, \"is_missing\": true}, {\"time\": 27.0, \"variable\": \"TA\", \"value\": 0.48, \"is_missing\": true}, {\"time\": 28.0, \"variable\": \"TA\", \"value\": 0.49, \"is_missing\": true}, {\"time\": 29.0, \"variable\": \"TA\", \"value\": 0.51, \"is_missing\": true}, {\"time\": 30.0, \"variable\": \"TA\", \"value\": 0.52, \"is_missing\": true}, {\"time\": 31.0, \"variable\": \"TA\", \"value\": 0.57, \"is_missing\": true}, {\"time\": 32.0, \"variable\": \"TA\", \"value\": 0.73, \"is_missing\": true}, {\"time\": 33.0, \"variable\": \"TA\", \"value\": 0.77, \"is_missing\": true}, {\"time\": 34.0, \"variable\": \"TA\", \"value\": 0.84, \"is_missing\": false}, {\"time\": 35.0, \"variable\": \"TA\", \"value\": 0.99, \"is_missing\": false}, {\"time\": 36.0, \"variable\": \"TA\", \"value\": 1.35, \"is_missing\": false}, {\"time\": 37.0, \"variable\": \"TA\", \"value\": 1.86, \"is_missing\": false}, {\"time\": 38.0, \"variable\": \"TA\", \"value\": 2.01, \"is_missing\": false}, {\"time\": 39.0, \"variable\": \"TA\", \"value\": 2.07, \"is_missing\": false}, {\"time\": 40.0, \"variable\": \"TA\", \"value\": 2.0, \"is_missing\": false}, {\"time\": 41.0, \"variable\": \"TA\", \"value\": 2.19, \"is_missing\": false}, {\"time\": 42.0, \"variable\": \"TA\", \"value\": 2.26, \"is_missing\": false}, {\"time\": 43.0, \"variable\": \"TA\", \"value\": 2.53, \"is_missing\": false}, {\"time\": 44.0, \"variable\": \"TA\", \"value\": 2.59, \"is_missing\": false}, {\"time\": 45.0, \"variable\": \"TA\", \"value\": 2.6, \"is_missing\": false}, {\"time\": 46.0, \"variable\": \"TA\", \"value\": 2.53, \"is_missing\": false}, {\"time\": 47.0, \"variable\": \"TA\", \"value\": 2.3, \"is_missing\": false}, {\"time\": 48.0, \"variable\": \"TA\", \"value\": 2.08, \"is_missing\": false}, {\"time\": 49.0, \"variable\": \"TA\", \"value\": 1.93, \"is_missing\": false}, {\"time\": 50.0, \"variable\": \"TA\", \"value\": 1.84, \"is_missing\": false}, {\"time\": 51.0, \"variable\": \"TA\", \"value\": 1.85, \"is_missing\": false}, {\"time\": 52.0, \"variable\": \"TA\", \"value\": 1.59, \"is_missing\": false}, {\"time\": 53.0, \"variable\": \"TA\", \"value\": 1.43, \"is_missing\": false}, {\"time\": 54.0, \"variable\": \"TA\", \"value\": 1.33, \"is_missing\": false}, {\"time\": 55.0, \"variable\": \"TA\", \"value\": 1.23, \"is_missing\": false}, {\"time\": 56.0, \"variable\": \"TA\", \"value\": 1.04, \"is_missing\": false}, {\"time\": 57.0, \"variable\": \"TA\", \"value\": 0.94, \"is_missing\": false}, {\"time\": 58.0, \"variable\": \"TA\", \"value\": 0.81, \"is_missing\": false}, {\"time\": 59.0, \"variable\": \"TA\", \"value\": 0.79, \"is_missing\": false}, {\"time\": 60.0, \"variable\": \"TA\", \"value\": 0.68, \"is_missing\": false}, {\"time\": 61.0, \"variable\": \"TA\", \"value\": 0.65, \"is_missing\": false}, {\"time\": 62.0, \"variable\": \"TA\", \"value\": 0.58, \"is_missing\": false}, {\"time\": 63.0, \"variable\": \"TA\", \"value\": 0.49, \"is_missing\": false}, {\"time\": 64.0, \"variable\": \"TA\", \"value\": 0.57, \"is_missing\": false}, {\"time\": 65.0, \"variable\": \"TA\", \"value\": 0.25, \"is_missing\": false}, {\"time\": 66.0, \"variable\": \"TA\", \"value\": 0.35, \"is_missing\": false}, {\"time\": 67.0, \"variable\": \"TA\", \"value\": 0.27, \"is_missing\": false}, {\"time\": 68.0, \"variable\": \"TA\", \"value\": 0.35, \"is_missing\": false}, {\"time\": 69.0, \"variable\": \"TA\", \"value\": 0.57, \"is_missing\": false}, {\"time\": 70.0, \"variable\": \"TA\", \"value\": 0.63, \"is_missing\": false}, {\"time\": 71.0, \"variable\": \"TA\", \"value\": 0.73, \"is_missing\": false}, {\"time\": 72.0, \"variable\": \"TA\", \"value\": 0.78, \"is_missing\": false}, {\"time\": 73.0, \"variable\": \"TA\", \"value\": 1.05, \"is_missing\": false}, {\"time\": 74.0, \"variable\": \"TA\", \"value\": 1.19, \"is_missing\": false}, {\"time\": 75.0, \"variable\": \"TA\", \"value\": 1.41, \"is_missing\": false}, {\"time\": 76.0, \"variable\": \"TA\", \"value\": 1.54, \"is_missing\": false}, {\"time\": 77.0, \"variable\": \"TA\", \"value\": 1.08, \"is_missing\": false}, {\"time\": 78.0, \"variable\": \"TA\", \"value\": 0.62, \"is_missing\": false}, {\"time\": 79.0, \"variable\": \"TA\", \"value\": 0.57, \"is_missing\": false}, {\"time\": 80.0, \"variable\": \"TA\", \"value\": 0.53, \"is_missing\": false}, {\"time\": 81.0, \"variable\": \"TA\", \"value\": 0.57, \"is_missing\": false}, {\"time\": 82.0, \"variable\": \"TA\", \"value\": 0.51, \"is_missing\": false}, {\"time\": 83.0, \"variable\": \"TA\", \"value\": 0.39, \"is_missing\": false}, {\"time\": 84.0, \"variable\": \"TA\", \"value\": 0.35, \"is_missing\": false}, {\"time\": 85.0, \"variable\": \"TA\", \"value\": 0.4, \"is_missing\": false}, {\"time\": 86.0, \"variable\": \"TA\", \"value\": 0.66, \"is_missing\": false}, {\"time\": 87.0, \"variable\": \"TA\", \"value\": 0.76, \"is_missing\": false}, {\"time\": 88.0, \"variable\": \"TA\", \"value\": 0.81, \"is_missing\": false}, {\"time\": 89.0, \"variable\": \"TA\", \"value\": 0.94, \"is_missing\": false}, {\"time\": 90.0, \"variable\": \"TA\", \"value\": 0.97, \"is_missing\": false}, {\"time\": 91.0, \"variable\": \"TA\", \"value\": 0.85, \"is_missing\": false}, {\"time\": 92.0, \"variable\": \"TA\", \"value\": 0.77, \"is_missing\": false}, {\"time\": 93.0, \"variable\": \"TA\", \"value\": 0.63, \"is_missing\": false}, {\"time\": 94.0, \"variable\": \"TA\", \"value\": 0.52, \"is_missing\": false}, {\"time\": 95.0, \"variable\": \"TA\", \"value\": 0.48, \"is_missing\": false}, {\"time\": 96.0, \"variable\": \"TA\", \"value\": 0.41, \"is_missing\": false}, {\"time\": 97.0, \"variable\": \"TA\", \"value\": 0.29, \"is_missing\": false}, {\"time\": 98.0, \"variable\": \"TA\", \"value\": 0.31, \"is_missing\": false}, {\"time\": 99.0, \"variable\": \"TA\", \"value\": 0.42, \"is_missing\": false}, {\"time\": 100.0, \"variable\": \"TA\", \"value\": 0.51, \"is_missing\": false}, {\"time\": 101.0, \"variable\": \"TA\", \"value\": 0.57, \"is_missing\": false}, {\"time\": 102.0, \"variable\": \"TA\", \"value\": 0.65, \"is_missing\": false}, {\"time\": 103.0, \"variable\": \"TA\", \"value\": 0.81, \"is_missing\": false}, {\"time\": 104.0, \"variable\": \"TA\", \"value\": 0.95, \"is_missing\": false}, {\"time\": 105.0, \"variable\": \"TA\", \"value\": 1.09, \"is_missing\": false}, {\"time\": 106.0, \"variable\": \"TA\", \"value\": 1.18, \"is_missing\": false}, {\"time\": 107.0, \"variable\": \"TA\", \"value\": 1.35, \"is_missing\": false}, {\"time\": 108.0, \"variable\": \"TA\", \"value\": 1.42, \"is_missing\": false}, {\"time\": 109.0, \"variable\": \"TA\", \"value\": 1.42, \"is_missing\": false}, {\"time\": 110.0, \"variable\": \"TA\", \"value\": 1.57, \"is_missing\": false}, {\"time\": 111.0, \"variable\": \"TA\", \"value\": 1.67, \"is_missing\": false}, {\"time\": 112.0, \"variable\": \"TA\", \"value\": 1.8, \"is_missing\": false}, {\"time\": 113.0, \"variable\": \"TA\", \"value\": 1.86, \"is_missing\": false}, {\"time\": 114.0, \"variable\": \"TA\", \"value\": 1.91, \"is_missing\": false}, {\"time\": 115.0, \"variable\": \"TA\", \"value\": 1.95, \"is_missing\": false}, {\"time\": 116.0, \"variable\": \"TA\", \"value\": 1.99, \"is_missing\": false}, {\"time\": 117.0, \"variable\": \"TA\", \"value\": 2.1, \"is_missing\": false}, {\"time\": 118.0, \"variable\": \"TA\", \"value\": 2.32, \"is_missing\": false}, {\"time\": 119.0, \"variable\": \"TA\", \"value\": 2.53, \"is_missing\": false}, {\"time\": 120.0, \"variable\": \"TA\", \"value\": 2.48, \"is_missing\": false}, {\"time\": 121.0, \"variable\": \"TA\", \"value\": 2.39, \"is_missing\": false}, {\"time\": 122.0, \"variable\": \"TA\", \"value\": 2.52, \"is_missing\": false}, {\"time\": 123.0, \"variable\": \"TA\", \"value\": 2.68, \"is_missing\": false}, {\"time\": 124.0, \"variable\": \"TA\", \"value\": 2.7, \"is_missing\": false}, {\"time\": 125.0, \"variable\": \"TA\", \"value\": 2.7, \"is_missing\": false}, {\"time\": 126.0, \"variable\": \"TA\", \"value\": 2.61, \"is_missing\": false}, {\"time\": 127.0, \"variable\": \"TA\", \"value\": 2.45, \"is_missing\": false}, {\"time\": 128.0, \"variable\": \"TA\", \"value\": 2.36, \"is_missing\": false}, {\"time\": 129.0, \"variable\": \"TA\", \"value\": 2.33, \"is_missing\": false}, {\"time\": 130.0, \"variable\": \"TA\", \"value\": 2.22, \"is_missing\": false}, {\"time\": 131.0, \"variable\": \"TA\", \"value\": 2.07, \"is_missing\": false}, {\"time\": 132.0, \"variable\": \"TA\", \"value\": 1.96, \"is_missing\": false}, {\"time\": 133.0, \"variable\": \"TA\", \"value\": 2.01, \"is_missing\": false}, {\"time\": 134.0, \"variable\": \"TA\", \"value\": 2.01, \"is_missing\": false}, {\"time\": 135.0, \"variable\": \"TA\", \"value\": 2.06, \"is_missing\": false}, {\"time\": 136.0, \"variable\": \"TA\", \"value\": 2.14, \"is_missing\": false}, {\"time\": 137.0, \"variable\": \"TA\", \"value\": 2.11, \"is_missing\": false}, {\"time\": 138.0, \"variable\": \"TA\", \"value\": 2.1, \"is_missing\": false}, {\"time\": 139.0, \"variable\": \"TA\", \"value\": 2.07, \"is_missing\": false}, {\"time\": 140.0, \"variable\": \"TA\", \"value\": 2.09, \"is_missing\": false}, {\"time\": 141.0, \"variable\": \"TA\", \"value\": 2.11, \"is_missing\": false}, {\"time\": 142.0, \"variable\": \"TA\", \"value\": 2.1, \"is_missing\": false}, {\"time\": 143.0, \"variable\": \"TA\", \"value\": 2.1, \"is_missing\": false}, {\"time\": 144.0, \"variable\": \"TA\", \"value\": 2.01, \"is_missing\": false}, {\"time\": 145.0, \"variable\": \"TA\", \"value\": 2.05, \"is_missing\": false}, {\"time\": 146.0, \"variable\": \"TA\", \"value\": 2.13, \"is_missing\": false}, {\"time\": 147.0, \"variable\": \"TA\", \"value\": 2.1, \"is_missing\": false}, {\"time\": 148.0, \"variable\": \"TA\", \"value\": 2.19, \"is_missing\": false}, {\"time\": 149.0, \"variable\": \"TA\", \"value\": 2.27, \"is_missing\": false}], \"data-ea04c7dcbbafdf71418951a12d77978e\": [{\"mean\": -0.5973811149597168, \"time\": 0.0, \"std\": 0.0678466334939003, \"variable\": \"TA\"}, {\"mean\": -0.6340725421905518, \"time\": 1.0, \"std\": 0.06034405902028084, \"variable\": \"TA\"}, {\"mean\": -0.5938818454742432, \"time\": 2.0, \"std\": 0.059606265276670456, \"variable\": \"TA\"}, {\"mean\": -0.5238977670669556, \"time\": 3.0, \"std\": 0.05886954814195633, \"variable\": \"TA\"}, {\"mean\": -0.45933985710144043, \"time\": 4.0, \"std\": 0.058894652873277664, \"variable\": \"TA\"}, {\"mean\": -0.4103884696960449, \"time\": 5.0, \"std\": 0.05874563753604889, \"variable\": \"TA\"}, {\"mean\": -0.3708082437515259, \"time\": 6.0, \"std\": 0.05863542482256889, \"variable\": \"TA\"}, {\"mean\": -0.33191728591918945, \"time\": 7.0, \"std\": 0.05860164389014244, \"variable\": \"TA\"}, {\"mean\": -0.2929978370666504, \"time\": 8.0, \"std\": 0.05855342000722885, \"variable\": \"TA\"}, {\"mean\": -0.2586590051651001, \"time\": 9.0, \"std\": 0.058537185192108154, \"variable\": \"TA\"}, {\"mean\": -0.2354140281677246, \"time\": 10.0, \"std\": 0.05853267386555672, \"variable\": \"TA\"}, {\"mean\": -0.22594988346099854, \"time\": 11.0, \"std\": 0.05867728590965271, \"variable\": \"TA\"}, {\"mean\": -0.22667646408081055, \"time\": 12.0, \"std\": 0.058724962174892426, \"variable\": \"TA\"}, {\"mean\": -0.2304476499557495, \"time\": 13.0, \"std\": 0.05871731787919998, \"variable\": \"TA\"}, {\"mean\": -0.23025250434875488, \"time\": 14.0, \"std\": 0.0589524582028389, \"variable\": \"TA\"}, {\"mean\": -0.22078943252563477, \"time\": 15.0, \"std\": 0.05893319472670555, \"variable\": \"TA\"}, {\"mean\": -0.1936509609222412, \"time\": 16.0, \"std\": 0.059853799641132355, \"variable\": \"TA\"}, {\"mean\": -0.1347658634185791, \"time\": 17.0, \"std\": 0.060488708317279816, \"variable\": \"TA\"}, {\"mean\": -0.027905583381652832, \"time\": 18.0, \"std\": 0.06778745353221893, \"variable\": \"TA\"}, {\"mean\": 0.13382434844970703, \"time\": 19.0, \"std\": 0.13646119832992554, \"variable\": \"TA\"}, {\"mean\": 0.3387472629547119, \"time\": 20.0, \"std\": 0.26910170912742615, \"variable\": \"TA\"}, {\"mean\": 0.5590127110481262, \"time\": 21.0, \"std\": 0.42415305972099304, \"variable\": \"TA\"}, {\"mean\": 0.7626063227653503, \"time\": 22.0, \"std\": 0.5615518689155579, \"variable\": \"TA\"}, {\"mean\": 0.9276828765869141, \"time\": 23.0, \"std\": 0.6579422950744629, \"variable\": \"TA\"}, {\"mean\": 1.0497974157333374, \"time\": 24.0, \"std\": 0.7116918563842773, \"variable\": \"TA\"}, {\"mean\": 1.1401798725128174, \"time\": 25.0, \"std\": 0.7350291013717651, \"variable\": \"TA\"}, {\"mean\": 1.2173619270324707, \"time\": 26.0, \"std\": 0.7410573959350586, \"variable\": \"TA\"}, {\"mean\": 1.2952967882156372, \"time\": 27.0, \"std\": 0.7350339889526367, \"variable\": \"TA\"}, {\"mean\": 1.3705675601959229, \"time\": 28.0, \"std\": 0.7117023468017578, \"variable\": \"TA\"}, {\"mean\": 1.4145057201385498, \"time\": 29.0, \"std\": 0.6579486131668091, \"variable\": \"TA\"}, {\"mean\": 1.3816053867340088, \"time\": 30.0, \"std\": 0.561573326587677, \"variable\": \"TA\"}, {\"mean\": 1.2419137954711914, \"time\": 31.0, \"std\": 0.42415136098861694, \"variable\": \"TA\"}, {\"mean\": 1.0247957706451416, \"time\": 32.0, \"std\": 0.26910102367401123, \"variable\": \"TA\"}, {\"mean\": 0.836490273475647, \"time\": 33.0, \"std\": 0.13638049364089966, \"variable\": \"TA\"}, {\"mean\": 0.8126989603042603, \"time\": 34.0, \"std\": 0.06776953488588333, \"variable\": \"TA\"}, {\"mean\": 1.0232059955596924, \"time\": 35.0, \"std\": 0.060374680906534195, \"variable\": \"TA\"}, {\"mean\": 1.4016715288162231, \"time\": 36.0, \"std\": 0.05974297598004341, \"variable\": \"TA\"}, {\"mean\": 1.779442310333252, \"time\": 37.0, \"std\": 0.058921996504068375, \"variable\": \"TA\"}, {\"mean\": 2.0086145401000977, \"time\": 38.0, \"std\": 0.05896543711423874, \"variable\": \"TA\"}, {\"mean\": 2.0700221061706543, \"time\": 39.0, \"std\": 0.05872540920972824, \"variable\": \"TA\"}, {\"mean\": 2.0687620639801025, \"time\": 40.0, \"std\": 0.05867188796401024, \"variable\": \"TA\"}, {\"mean\": 2.128570079803467, \"time\": 41.0, \"std\": 0.0586196631193161, \"variable\": \"TA\"}, {\"mean\": 2.288271427154541, \"time\": 42.0, \"std\": 0.05859443545341492, \"variable\": \"TA\"}, {\"mean\": 2.4864604473114014, \"time\": 43.0, \"std\": 0.058604348450899124, \"variable\": \"TA\"}, {\"mean\": 2.6210086345672607, \"time\": 44.0, \"std\": 0.058617860078811646, \"variable\": \"TA\"}, {\"mean\": 2.622706890106201, \"time\": 45.0, \"std\": 0.058590829372406006, \"variable\": \"TA\"}, {\"mean\": 2.491278886795044, \"time\": 46.0, \"std\": 0.058564692735672, \"variable\": \"TA\"}, {\"mean\": 2.2882418632507324, \"time\": 47.0, \"std\": 0.05855927988886833, \"variable\": \"TA\"}, {\"mean\": 2.094059467315674, \"time\": 48.0, \"std\": 0.05856063589453697, \"variable\": \"TA\"}, {\"mean\": 1.9552018642425537, \"time\": 49.0, \"std\": 0.058570101857185364, \"variable\": \"TA\"}, {\"mean\": 1.8591138124465942, \"time\": 50.0, \"std\": 0.058567848056554794, \"variable\": \"TA\"}, {\"mean\": 1.7595744132995605, \"time\": 51.0, \"std\": 0.058559730648994446, \"variable\": \"TA\"}, {\"mean\": 1.627370834350586, \"time\": 52.0, \"std\": 0.058575961738824844, \"variable\": \"TA\"}, {\"mean\": 1.4723130464553833, \"time\": 53.0, \"std\": 0.05857911705970764, \"variable\": \"TA\"}, {\"mean\": 1.320854663848877, \"time\": 54.0, \"std\": 0.058574605733156204, \"variable\": \"TA\"}, {\"mean\": 1.1849619150161743, \"time\": 55.0, \"std\": 0.05857100337743759, \"variable\": \"TA\"}, {\"mean\": 1.0598467588424683, \"time\": 56.0, \"std\": 0.05856513977050781, \"variable\": \"TA\"}, {\"mean\": 0.9424071311950684, \"time\": 57.0, \"std\": 0.05856288596987724, \"variable\": \"TA\"}, {\"mean\": 0.8387333750724792, \"time\": 58.0, \"std\": 0.05856739357113838, \"variable\": \"TA\"}, {\"mean\": 0.754828691482544, \"time\": 59.0, \"std\": 0.05856874957680702, \"variable\": \"TA\"}, {\"mean\": 0.6895235180854797, \"time\": 60.0, \"std\": 0.05856829509139061, \"variable\": \"TA\"}, {\"mean\": 0.6381143927574158, \"time\": 61.0, \"std\": 0.05857100337743759, \"variable\": \"TA\"}, {\"mean\": 0.5930684208869934, \"time\": 62.0, \"std\": 0.058572351932525635, \"variable\": \"TA\"}, {\"mean\": 0.538926899433136, \"time\": 63.0, \"std\": 0.058572351932525635, \"variable\": \"TA\"}, {\"mean\": 0.45872217416763306, \"time\": 64.0, \"std\": 0.05856829509139061, \"variable\": \"TA\"}, {\"mean\": 0.3582313656806946, \"time\": 65.0, \"std\": 0.058566492050886154, \"variable\": \"TA\"}, {\"mean\": 0.2818814516067505, \"time\": 66.0, \"std\": 0.058566946536302567, \"variable\": \"TA\"}, {\"mean\": 0.2869175672531128, \"time\": 67.0, \"std\": 0.05856739357113838, \"variable\": \"TA\"}, {\"mean\": 0.388169527053833, \"time\": 68.0, \"std\": 0.05856829509139061, \"variable\": \"TA\"}, {\"mean\": 0.5323644280433655, \"time\": 69.0, \"std\": 0.05856874957680702, \"variable\": \"TA\"}, {\"mean\": 0.6445666551589966, \"time\": 70.0, \"std\": 0.058566946536302567, \"variable\": \"TA\"}, {\"mean\": 0.7106646299362183, \"time\": 71.0, \"std\": 0.058567848056554794, \"variable\": \"TA\"}, {\"mean\": 0.8030562400817871, \"time\": 72.0, \"std\": 0.058567848056554794, \"variable\": \"TA\"}, {\"mean\": 0.9999856352806091, \"time\": 73.0, \"std\": 0.05856874957680702, \"variable\": \"TA\"}, {\"mean\": 1.2687543630599976, \"time\": 74.0, \"std\": 0.058567848056554794, \"variable\": \"TA\"}, {\"mean\": 1.4493547677993774, \"time\": 75.0, \"std\": 0.05856829509139061, \"variable\": \"TA\"}, {\"mean\": 1.3867316246032715, \"time\": 76.0, \"std\": 0.05856874957680702, \"variable\": \"TA\"}, {\"mean\": 1.090105414390564, \"time\": 77.0, \"std\": 0.058567848056554794, \"variable\": \"TA\"}, {\"mean\": 0.7430654764175415, \"time\": 78.0, \"std\": 0.05856874957680702, \"variable\": \"TA\"}, {\"mean\": 0.5390408635139465, \"time\": 79.0, \"std\": 0.05856874957680702, \"variable\": \"TA\"}, {\"mean\": 0.5123763084411621, \"time\": 80.0, \"std\": 0.05856829509139061, \"variable\": \"TA\"}, {\"mean\": 0.5419204235076904, \"time\": 81.0, \"std\": 0.058567848056554794, \"variable\": \"TA\"}, {\"mean\": 0.507203996181488, \"time\": 82.0, \"std\": 0.05856829509139061, \"variable\": \"TA\"}, {\"mean\": 0.41415464878082275, \"time\": 83.0, \"std\": 0.05856604129076004, \"variable\": \"TA\"}, {\"mean\": 0.3641583323478699, \"time\": 84.0, \"std\": 0.058566946536302567, \"variable\": \"TA\"}, {\"mean\": 0.4296591877937317, \"time\": 85.0, \"std\": 0.05857100337743759, \"variable\": \"TA\"}, {\"mean\": 0.5863685607910156, \"time\": 86.0, \"std\": 0.05857190489768982, \"variable\": \"TA\"}, {\"mean\": 0.7551043033599854, \"time\": 87.0, \"std\": 0.05856919661164284, \"variable\": \"TA\"}, {\"mean\": 0.876548171043396, \"time\": 88.0, \"std\": 0.058566492050886154, \"variable\": \"TA\"}, {\"mean\": 0.9336787462234497, \"time\": 89.0, \"std\": 0.058566946536302567, \"variable\": \"TA\"}, {\"mean\": 0.9281144142150879, \"time\": 90.0, \"std\": 0.05856919661164284, \"variable\": \"TA\"}, {\"mean\": 0.8650029897689819, \"time\": 91.0, \"std\": 0.05856919661164284, \"variable\": \"TA\"}, {\"mean\": 0.7613582015037537, \"time\": 92.0, \"std\": 0.05856108292937279, \"variable\": \"TA\"}, {\"mean\": 0.6465438604354858, \"time\": 93.0, \"std\": 0.05855702608823776, \"variable\": \"TA\"}, {\"mean\": 0.542665421962738, \"time\": 94.0, \"std\": 0.058561984449625015, \"variable\": \"TA\"}, {\"mean\": 0.4527297019958496, \"time\": 95.0, \"std\": 0.05856874957680702, \"variable\": \"TA\"}, {\"mean\": 0.3765903115272522, \"time\": 96.0, \"std\": 0.05857866257429123, \"variable\": \"TA\"}, {\"mean\": 0.3298981189727783, \"time\": 97.0, \"std\": 0.058573704212903976, \"variable\": \"TA\"}, {\"mean\": 0.33533942699432373, \"time\": 98.0, \"std\": 0.058558378368616104, \"variable\": \"TA\"}, {\"mean\": 0.3951565623283386, \"time\": 99.0, \"std\": 0.05856063589453697, \"variable\": \"TA\"}, {\"mean\": 0.48586970567703247, \"time\": 100.0, \"std\": 0.05858903005719185, \"variable\": \"TA\"}, {\"mean\": 0.5819486975669861, \"time\": 101.0, \"std\": 0.0585971400141716, \"variable\": \"TA\"}, {\"mean\": 0.6804154515266418, \"time\": 102.0, \"std\": 0.058591730892658234, \"variable\": \"TA\"}, {\"mean\": 0.7954180240631104, \"time\": 103.0, \"std\": 0.05857550725340843, \"variable\": \"TA\"}, {\"mean\": 0.9344803094863892, \"time\": 104.0, \"std\": 0.05857190489768982, \"variable\": \"TA\"}, {\"mean\": 1.0849207639694214, \"time\": 105.0, \"std\": 0.05858226865530014, \"variable\": \"TA\"}, {\"mean\": 1.2210909128189087, \"time\": 106.0, \"std\": 0.05857686325907707, \"variable\": \"TA\"}, {\"mean\": 1.323938012123108, \"time\": 107.0, \"std\": 0.058558378368616104, \"variable\": \"TA\"}, {\"mean\": 1.3957195281982422, \"time\": 108.0, \"std\": 0.05857100337743759, \"variable\": \"TA\"}, {\"mean\": 1.4611423015594482, \"time\": 109.0, \"std\": 0.05856063589453697, \"variable\": \"TA\"}, {\"mean\": 1.550241470336914, \"time\": 110.0, \"std\": 0.058546654880046844, \"variable\": \"TA\"}, {\"mean\": 1.6712751388549805, \"time\": 111.0, \"std\": 0.0585809201002121, \"variable\": \"TA\"}, {\"mean\": 1.7953212261199951, \"time\": 112.0, \"std\": 0.05858136713504791, \"variable\": \"TA\"}, {\"mean\": 1.8774261474609375, \"time\": 113.0, \"std\": 0.0586228147149086, \"variable\": \"TA\"}, {\"mean\": 1.9037559032440186, \"time\": 114.0, \"std\": 0.05860750377178192, \"variable\": \"TA\"}, {\"mean\": 1.9189014434814453, \"time\": 115.0, \"std\": 0.058608852326869965, \"variable\": \"TA\"}, {\"mean\": 1.9933066368103027, \"time\": 116.0, \"std\": 0.05862417072057724, \"variable\": \"TA\"}, {\"mean\": 2.150692939758301, \"time\": 117.0, \"std\": 0.0586165115237236, \"variable\": \"TA\"}, {\"mean\": 2.3319520950317383, \"time\": 118.0, \"std\": 0.058542147278785706, \"variable\": \"TA\"}, {\"mean\": 2.4469025135040283, \"time\": 119.0, \"std\": 0.05852590873837471, \"variable\": \"TA\"}, {\"mean\": 2.47103214263916, \"time\": 120.0, \"std\": 0.058574605733156204, \"variable\": \"TA\"}, {\"mean\": 2.468606948852539, \"time\": 121.0, \"std\": 0.058597590774297714, \"variable\": \"TA\"}, {\"mean\": 2.5204639434814453, \"time\": 122.0, \"std\": 0.058572351932525635, \"variable\": \"TA\"}, {\"mean\": 2.628263235092163, \"time\": 123.0, \"std\": 0.058529067784547806, \"variable\": \"TA\"}, {\"mean\": 2.7129764556884766, \"time\": 124.0, \"std\": 0.058514177799224854, \"variable\": \"TA\"}, {\"mean\": 2.700270891189575, \"time\": 125.0, \"std\": 0.05848303809762001, \"variable\": \"TA\"}, {\"mean\": 2.5971500873565674, \"time\": 126.0, \"std\": 0.05854124575853348, \"variable\": \"TA\"}, {\"mean\": 2.4720771312713623, \"time\": 127.0, \"std\": 0.058561984449625015, \"variable\": \"TA\"}, {\"mean\": 2.3757824897766113, \"time\": 128.0, \"std\": 0.05858903005719185, \"variable\": \"TA\"}, {\"mean\": 2.298454761505127, \"time\": 129.0, \"std\": 0.05855477228760719, \"variable\": \"TA\"}, {\"mean\": 2.203280448913574, \"time\": 130.0, \"std\": 0.05855792760848999, \"variable\": \"TA\"}, {\"mean\": 2.087033748626709, \"time\": 131.0, \"std\": 0.05851868912577629, \"variable\": \"TA\"}, {\"mean\": 1.9934788942337036, \"time\": 132.0, \"std\": 0.05858001857995987, \"variable\": \"TA\"}, {\"mean\": 1.9691696166992188, \"time\": 133.0, \"std\": 0.0586165115237236, \"variable\": \"TA\"}, {\"mean\": 2.0132570266723633, \"time\": 134.0, \"std\": 0.05857145041227341, \"variable\": \"TA\"}, {\"mean\": 2.0805091857910156, \"time\": 135.0, \"std\": 0.05863497406244278, \"variable\": \"TA\"}, {\"mean\": 2.1199533939361572, \"time\": 136.0, \"std\": 0.05856874957680702, \"variable\": \"TA\"}, {\"mean\": 2.1160097122192383, \"time\": 137.0, \"std\": 0.05853402987122536, \"variable\": \"TA\"}, {\"mean\": 2.0922610759735107, \"time\": 138.0, \"std\": 0.058549363166093826, \"variable\": \"TA\"}, {\"mean\": 2.0809874534606934, \"time\": 139.0, \"std\": 0.05855927988886833, \"variable\": \"TA\"}, {\"mean\": 2.0909037590026855, \"time\": 140.0, \"std\": 0.05858587473630905, \"variable\": \"TA\"}, {\"mean\": 2.1042964458465576, \"time\": 141.0, \"std\": 0.05860524997115135, \"variable\": \"TA\"}, {\"mean\": 2.0996367931365967, \"time\": 142.0, \"std\": 0.05862642079591751, \"variable\": \"TA\"}, {\"mean\": 2.0754034519195557, \"time\": 143.0, \"std\": 0.05863947793841362, \"variable\": \"TA\"}, {\"mean\": 2.0519182682037354, \"time\": 144.0, \"std\": 0.05871686711907387, \"variable\": \"TA\"}, {\"mean\": 2.0498859882354736, \"time\": 145.0, \"std\": 0.05906609818339348, \"variable\": \"TA\"}, {\"mean\": 2.0792129039764404, \"time\": 146.0, \"std\": 0.059035249054431915, \"variable\": \"TA\"}, {\"mean\": 2.1338446140289307, \"time\": 147.0, \"std\": 0.059897009283304214, \"variable\": \"TA\"}, {\"mean\": 2.200343608856201, \"time\": 148.0, \"std\": 0.060430627316236496, \"variable\": \"TA\"}, {\"mean\": 2.2533793449401855, \"time\": 149.0, \"std\": 0.06777460128068924, \"variable\": \"TA\"}], \"data-a49bcea6c99f85c72cdaa221c1f40441\": [{\"time\": 0.0, \"variable\": \"SW_IN\", \"value\": 0.0, \"is_missing\": false}, {\"time\": 1.0, \"variable\": \"SW_IN\", \"value\": 0.0, \"is_missing\": false}, {\"time\": 2.0, \"variable\": \"SW_IN\", \"value\": 0.0, \"is_missing\": false}, {\"time\": 3.0, \"variable\": \"SW_IN\", \"value\": 0.0, \"is_missing\": false}, {\"time\": 4.0, \"variable\": \"SW_IN\", \"value\": 0.0, \"is_missing\": false}, {\"time\": 5.0, \"variable\": \"SW_IN\", \"value\": 0.0, \"is_missing\": false}, {\"time\": 6.0, \"variable\": \"SW_IN\", \"value\": 0.0, \"is_missing\": false}, {\"time\": 7.0, \"variable\": \"SW_IN\", \"value\": 0.0, \"is_missing\": false}, {\"time\": 8.0, \"variable\": \"SW_IN\", \"value\": 0.0, \"is_missing\": false}, {\"time\": 9.0, \"variable\": \"SW_IN\", \"value\": 0.0, \"is_missing\": false}, {\"time\": 10.0, \"variable\": \"SW_IN\", \"value\": 0.0, \"is_missing\": false}, {\"time\": 11.0, \"variable\": \"SW_IN\", \"value\": 0.0, \"is_missing\": false}, {\"time\": 12.0, \"variable\": \"SW_IN\", \"value\": 0.0, \"is_missing\": false}, {\"time\": 13.0, \"variable\": \"SW_IN\", \"value\": 0.0, \"is_missing\": false}, {\"time\": 14.0, \"variable\": \"SW_IN\", \"value\": 0.0, \"is_missing\": false}, {\"time\": 15.0, \"variable\": \"SW_IN\", \"value\": 0.0, \"is_missing\": false}, {\"time\": 16.0, \"variable\": \"SW_IN\", \"value\": 0.45, \"is_missing\": false}, {\"time\": 17.0, \"variable\": \"SW_IN\", \"value\": 3.7, \"is_missing\": false}, {\"time\": 18.0, \"variable\": \"SW_IN\", \"value\": 7.26, \"is_missing\": false}, {\"time\": 19.0, \"variable\": \"SW_IN\", \"value\": 12.24, \"is_missing\": true}, {\"time\": 20.0, \"variable\": \"SW_IN\", \"value\": 16.51, \"is_missing\": true}, {\"time\": 21.0, \"variable\": \"SW_IN\", \"value\": 24.73, \"is_missing\": true}, {\"time\": 22.0, \"variable\": \"SW_IN\", \"value\": 47.42, \"is_missing\": true}, {\"time\": 23.0, \"variable\": \"SW_IN\", \"value\": 22.05, \"is_missing\": true}, {\"time\": 24.0, \"variable\": \"SW_IN\", \"value\": 18.86, \"is_missing\": true}, {\"time\": 25.0, \"variable\": \"SW_IN\", \"value\": 21.1, \"is_missing\": true}, {\"time\": 26.0, \"variable\": \"SW_IN\", \"value\": 28.87, \"is_missing\": true}, {\"time\": 27.0, \"variable\": \"SW_IN\", \"value\": 24.22, \"is_missing\": true}, {\"time\": 28.0, \"variable\": \"SW_IN\", \"value\": 24.35, \"is_missing\": true}, {\"time\": 29.0, \"variable\": \"SW_IN\", \"value\": 15.68, \"is_missing\": true}, {\"time\": 30.0, \"variable\": \"SW_IN\", \"value\": 8.09, \"is_missing\": true}, {\"time\": 31.0, \"variable\": \"SW_IN\", \"value\": 6.37, \"is_missing\": true}, {\"time\": 32.0, \"variable\": \"SW_IN\", \"value\": 1.72, \"is_missing\": true}, {\"time\": 33.0, \"variable\": \"SW_IN\", \"value\": 0.06, \"is_missing\": true}, {\"time\": 34.0, \"variable\": \"SW_IN\", \"value\": 0.0, \"is_missing\": false}, {\"time\": 35.0, \"variable\": \"SW_IN\", \"value\": 0.0, \"is_missing\": false}, {\"time\": 36.0, \"variable\": \"SW_IN\", \"value\": 0.0, \"is_missing\": false}, {\"time\": 37.0, \"variable\": \"SW_IN\", \"value\": 0.0, \"is_missing\": false}, {\"time\": 38.0, \"variable\": \"SW_IN\", \"value\": 0.0, \"is_missing\": false}, {\"time\": 39.0, \"variable\": \"SW_IN\", \"value\": 0.0, \"is_missing\": false}, {\"time\": 40.0, \"variable\": \"SW_IN\", \"value\": 0.0, \"is_missing\": false}, {\"time\": 41.0, \"variable\": \"SW_IN\", \"value\": 0.0, \"is_missing\": false}, {\"time\": 42.0, \"variable\": \"SW_IN\", \"value\": 0.0, \"is_missing\": false}, {\"time\": 43.0, \"variable\": \"SW_IN\", \"value\": 0.0, \"is_missing\": false}, {\"time\": 44.0, \"variable\": \"SW_IN\", \"value\": 0.0, \"is_missing\": false}, {\"time\": 45.0, \"variable\": \"SW_IN\", \"value\": 0.0, \"is_missing\": false}, {\"time\": 46.0, \"variable\": \"SW_IN\", \"value\": 0.0, \"is_missing\": false}, {\"time\": 47.0, \"variable\": \"SW_IN\", \"value\": 0.0, \"is_missing\": false}, {\"time\": 48.0, \"variable\": \"SW_IN\", \"value\": 0.0, \"is_missing\": false}, {\"time\": 49.0, \"variable\": \"SW_IN\", \"value\": 0.0, \"is_missing\": false}, {\"time\": 50.0, \"variable\": \"SW_IN\", \"value\": 0.0, \"is_missing\": false}, {\"time\": 51.0, \"variable\": \"SW_IN\", \"value\": 0.0, \"is_missing\": false}, {\"time\": 52.0, \"variable\": \"SW_IN\", \"value\": 0.0, \"is_missing\": false}, {\"time\": 53.0, \"variable\": \"SW_IN\", \"value\": 0.0, \"is_missing\": false}, {\"time\": 54.0, \"variable\": \"SW_IN\", \"value\": 0.0, \"is_missing\": false}, {\"time\": 55.0, \"variable\": \"SW_IN\", \"value\": 0.0, \"is_missing\": false}, {\"time\": 56.0, \"variable\": \"SW_IN\", \"value\": 0.0, \"is_missing\": false}, {\"time\": 57.0, \"variable\": \"SW_IN\", \"value\": 0.0, \"is_missing\": false}, {\"time\": 58.0, \"variable\": \"SW_IN\", \"value\": 0.0, \"is_missing\": false}, {\"time\": 59.0, \"variable\": \"SW_IN\", \"value\": 0.0, \"is_missing\": false}, {\"time\": 60.0, \"variable\": \"SW_IN\", \"value\": 0.0, \"is_missing\": false}, {\"time\": 61.0, \"variable\": \"SW_IN\", \"value\": 0.0, \"is_missing\": false}, {\"time\": 62.0, \"variable\": \"SW_IN\", \"value\": 0.0, \"is_missing\": false}, {\"time\": 63.0, \"variable\": \"SW_IN\", \"value\": 0.0, \"is_missing\": false}, {\"time\": 64.0, \"variable\": \"SW_IN\", \"value\": 4.27, \"is_missing\": false}, {\"time\": 65.0, \"variable\": \"SW_IN\", \"value\": 23.9, \"is_missing\": false}, {\"time\": 66.0, \"variable\": \"SW_IN\", \"value\": 50.61, \"is_missing\": false}, {\"time\": 67.0, \"variable\": \"SW_IN\", \"value\": 61.76, \"is_missing\": false}, {\"time\": 68.0, \"variable\": \"SW_IN\", \"value\": 125.24, \"is_missing\": false}, {\"time\": 69.0, \"variable\": \"SW_IN\", \"value\": 138.43, \"is_missing\": false}, {\"time\": 70.0, \"variable\": \"SW_IN\", \"value\": 177.5, \"is_missing\": false}, {\"time\": 71.0, \"variable\": \"SW_IN\", \"value\": 148.06, \"is_missing\": false}, {\"time\": 72.0, \"variable\": \"SW_IN\", \"value\": 122.37, \"is_missing\": false}, {\"time\": 73.0, \"variable\": \"SW_IN\", \"value\": 130.21, \"is_missing\": false}, {\"time\": 74.0, \"variable\": \"SW_IN\", \"value\": 124.73, \"is_missing\": false}, {\"time\": 75.0, \"variable\": \"SW_IN\", \"value\": 110.65, \"is_missing\": false}, {\"time\": 76.0, \"variable\": \"SW_IN\", \"value\": 57.81, \"is_missing\": false}, {\"time\": 77.0, \"variable\": \"SW_IN\", \"value\": 31.87, \"is_missing\": false}, {\"time\": 78.0, \"variable\": \"SW_IN\", \"value\": 19.89, \"is_missing\": false}, {\"time\": 79.0, \"variable\": \"SW_IN\", \"value\": 8.8, \"is_missing\": false}, {\"time\": 80.0, \"variable\": \"SW_IN\", \"value\": 1.78, \"is_missing\": false}, {\"time\": 81.0, \"variable\": \"SW_IN\", \"value\": 0.06, \"is_missing\": false}, {\"time\": 82.0, \"variable\": \"SW_IN\", \"value\": 0.0, \"is_missing\": false}, {\"time\": 83.0, \"variable\": \"SW_IN\", \"value\": 0.0, \"is_missing\": false}, {\"time\": 84.0, \"variable\": \"SW_IN\", \"value\": 0.0, \"is_missing\": false}, {\"time\": 85.0, \"variable\": \"SW_IN\", \"value\": 0.0, \"is_missing\": false}, {\"time\": 86.0, \"variable\": \"SW_IN\", \"value\": 0.0, \"is_missing\": false}, {\"time\": 87.0, \"variable\": \"SW_IN\", \"value\": 0.0, \"is_missing\": false}, {\"time\": 88.0, \"variable\": \"SW_IN\", \"value\": 0.0, \"is_missing\": false}, {\"time\": 89.0, \"variable\": \"SW_IN\", \"value\": 0.0, \"is_missing\": false}, {\"time\": 90.0, \"variable\": \"SW_IN\", \"value\": 0.0, \"is_missing\": false}, {\"time\": 91.0, \"variable\": \"SW_IN\", \"value\": 0.0, \"is_missing\": false}, {\"time\": 92.0, \"variable\": \"SW_IN\", \"value\": 0.0, \"is_missing\": false}, {\"time\": 93.0, \"variable\": \"SW_IN\", \"value\": 0.0, \"is_missing\": false}, {\"time\": 94.0, \"variable\": \"SW_IN\", \"value\": 0.0, \"is_missing\": false}, {\"time\": 95.0, \"variable\": \"SW_IN\", \"value\": 0.0, \"is_missing\": false}, {\"time\": 96.0, \"variable\": \"SW_IN\", \"value\": 0.0, \"is_missing\": false}, {\"time\": 97.0, \"variable\": \"SW_IN\", \"value\": 0.0, \"is_missing\": false}, {\"time\": 98.0, \"variable\": \"SW_IN\", \"value\": 0.0, \"is_missing\": false}, {\"time\": 99.0, \"variable\": \"SW_IN\", \"value\": 0.0, \"is_missing\": false}, {\"time\": 100.0, \"variable\": \"SW_IN\", \"value\": 0.0, \"is_missing\": false}, {\"time\": 101.0, \"variable\": \"SW_IN\", \"value\": 0.0, \"is_missing\": false}, {\"time\": 102.0, \"variable\": \"SW_IN\", \"value\": 0.0, \"is_missing\": false}, {\"time\": 103.0, \"variable\": \"SW_IN\", \"value\": 0.0, \"is_missing\": false}, {\"time\": 104.0, \"variable\": \"SW_IN\", \"value\": 0.0, \"is_missing\": false}, {\"time\": 105.0, \"variable\": \"SW_IN\", \"value\": 0.0, \"is_missing\": false}, {\"time\": 106.0, \"variable\": \"SW_IN\", \"value\": 0.0, \"is_missing\": false}, {\"time\": 107.0, \"variable\": \"SW_IN\", \"value\": 0.0, \"is_missing\": false}, {\"time\": 108.0, \"variable\": \"SW_IN\", \"value\": 0.0, \"is_missing\": false}, {\"time\": 109.0, \"variable\": \"SW_IN\", \"value\": 0.0, \"is_missing\": false}, {\"time\": 110.0, \"variable\": \"SW_IN\", \"value\": 0.0, \"is_missing\": false}, {\"time\": 111.0, \"variable\": \"SW_IN\", \"value\": 0.0, \"is_missing\": false}, {\"time\": 112.0, \"variable\": \"SW_IN\", \"value\": 1.4, \"is_missing\": false}, {\"time\": 113.0, \"variable\": \"SW_IN\", \"value\": 9.81, \"is_missing\": false}, {\"time\": 114.0, \"variable\": \"SW_IN\", \"value\": 25.05, \"is_missing\": false}, {\"time\": 115.0, \"variable\": \"SW_IN\", \"value\": 36.84, \"is_missing\": false}, {\"time\": 116.0, \"variable\": \"SW_IN\", \"value\": 80.63, \"is_missing\": false}, {\"time\": 117.0, \"variable\": \"SW_IN\", \"value\": 78.58, \"is_missing\": false}, {\"time\": 118.0, \"variable\": \"SW_IN\", \"value\": 77.25, \"is_missing\": false}, {\"time\": 119.0, \"variable\": \"SW_IN\", \"value\": 93.31, \"is_missing\": false}, {\"time\": 120.0, \"variable\": \"SW_IN\", \"value\": 114.08, \"is_missing\": false}, {\"time\": 121.0, \"variable\": \"SW_IN\", \"value\": 117.33, \"is_missing\": false}, {\"time\": 122.0, \"variable\": \"SW_IN\", \"value\": 109.82, \"is_missing\": false}, {\"time\": 123.0, \"variable\": \"SW_IN\", \"value\": 97.51, \"is_missing\": false}, {\"time\": 124.0, \"variable\": \"SW_IN\", \"value\": 74.64, \"is_missing\": false}, {\"time\": 125.0, \"variable\": \"SW_IN\", \"value\": 40.66, \"is_missing\": false}, {\"time\": 126.0, \"variable\": \"SW_IN\", \"value\": 32.06, \"is_missing\": false}, {\"time\": 127.0, \"variable\": \"SW_IN\", \"value\": 16.12, \"is_missing\": false}, {\"time\": 128.0, \"variable\": \"SW_IN\", \"value\": 3.76, \"is_missing\": false}, {\"time\": 129.0, \"variable\": \"SW_IN\", \"value\": 0.57, \"is_missing\": false}, {\"time\": 130.0, \"variable\": \"SW_IN\", \"value\": 0.0, \"is_missing\": false}, {\"time\": 131.0, \"variable\": \"SW_IN\", \"value\": 0.0, \"is_missing\": false}, {\"time\": 132.0, \"variable\": \"SW_IN\", \"value\": 0.0, \"is_missing\": false}, {\"time\": 133.0, \"variable\": \"SW_IN\", \"value\": 0.0, \"is_missing\": false}, {\"time\": 134.0, \"variable\": \"SW_IN\", \"value\": 0.0, \"is_missing\": false}, {\"time\": 135.0, \"variable\": \"SW_IN\", \"value\": 0.0, \"is_missing\": false}, {\"time\": 136.0, \"variable\": \"SW_IN\", \"value\": 0.0, \"is_missing\": false}, {\"time\": 137.0, \"variable\": \"SW_IN\", \"value\": 0.0, \"is_missing\": false}, {\"time\": 138.0, \"variable\": \"SW_IN\", \"value\": 0.0, \"is_missing\": false}, {\"time\": 139.0, \"variable\": \"SW_IN\", \"value\": 0.0, \"is_missing\": false}, {\"time\": 140.0, \"variable\": \"SW_IN\", \"value\": 0.0, \"is_missing\": false}, {\"time\": 141.0, \"variable\": \"SW_IN\", \"value\": 0.0, \"is_missing\": false}, {\"time\": 142.0, \"variable\": \"SW_IN\", \"value\": 0.0, \"is_missing\": false}, {\"time\": 143.0, \"variable\": \"SW_IN\", \"value\": 0.0, \"is_missing\": false}, {\"time\": 144.0, \"variable\": \"SW_IN\", \"value\": 0.0, \"is_missing\": false}, {\"time\": 145.0, \"variable\": \"SW_IN\", \"value\": 0.0, \"is_missing\": false}, {\"time\": 146.0, \"variable\": \"SW_IN\", \"value\": 0.0, \"is_missing\": false}, {\"time\": 147.0, \"variable\": \"SW_IN\", \"value\": 0.0, \"is_missing\": false}, {\"time\": 148.0, \"variable\": \"SW_IN\", \"value\": 0.0, \"is_missing\": false}, {\"time\": 149.0, \"variable\": \"SW_IN\", \"value\": 0.0, \"is_missing\": false}], \"data-f5ffeacf671d38b2b3cdaf7e34d3da0a\": [{\"mean\": 0.5177764892578125, \"time\": 0.0, \"std\": 7.79168176651001, \"variable\": \"SW_IN\"}, {\"mean\": 0.006778717041015625, \"time\": 1.0, \"std\": 6.965801239013672, \"variable\": \"SW_IN\"}, {\"mean\": -0.11828994750976562, \"time\": 2.0, \"std\": 6.897696018218994, \"variable\": \"SW_IN\"}, {\"mean\": -0.044834136962890625, \"time\": 3.0, \"std\": 6.885531902313232, \"variable\": \"SW_IN\"}, {\"mean\": 0.054264068603515625, \"time\": 4.0, \"std\": 6.842409610748291, \"variable\": \"SW_IN\"}, {\"mean\": 0.0874481201171875, \"time\": 5.0, \"std\": 6.825546741485596, \"variable\": \"SW_IN\"}, {\"mean\": 0.056056976318359375, \"time\": 6.0, \"std\": 6.825019359588623, \"variable\": \"SW_IN\"}, {\"mean\": 0.023534774780273438, \"time\": 7.0, \"std\": 6.821585178375244, \"variable\": \"SW_IN\"}, {\"mean\": 0.04783821105957031, \"time\": 8.0, \"std\": 6.816056251525879, \"variable\": \"SW_IN\"}, {\"mean\": 0.12691497802734375, \"time\": 9.0, \"std\": 6.815588474273682, \"variable\": \"SW_IN\"}, {\"mean\": 0.186553955078125, \"time\": 10.0, \"std\": 6.816023349761963, \"variable\": \"SW_IN\"}, {\"mean\": 0.13190269470214844, \"time\": 11.0, \"std\": 6.819787502288818, \"variable\": \"SW_IN\"}, {\"mean\": -0.06640434265136719, \"time\": 12.0, \"std\": 6.823796272277832, \"variable\": \"SW_IN\"}, {\"mean\": -0.2973957061767578, \"time\": 13.0, \"std\": 6.824304580688477, \"variable\": \"SW_IN\"}, {\"mean\": -0.3037300109863281, \"time\": 14.0, \"std\": 6.84178352355957, \"variable\": \"SW_IN\"}, {\"mean\": 0.23745155334472656, \"time\": 15.0, \"std\": 6.8852338790893555, \"variable\": \"SW_IN\"}, {\"mean\": 1.5783147811889648, \"time\": 16.0, \"std\": 6.897702693939209, \"variable\": \"SW_IN\"}, {\"mean\": 3.7672834396362305, \"time\": 17.0, \"std\": 6.965264797210693, \"variable\": \"SW_IN\"}, {\"mean\": 6.602071762084961, \"time\": 18.0, \"std\": 7.791529655456543, \"variable\": \"SW_IN\"}, {\"mean\": 9.682055473327637, \"time\": 19.0, \"std\": 10.339499473571777, \"variable\": \"SW_IN\"}, {\"mean\": 12.543678283691406, \"time\": 20.0, \"std\": 14.518865585327148, \"variable\": \"SW_IN\"}, {\"mean\": 14.80693531036377, \"time\": 21.0, \"std\": 19.407827377319336, \"variable\": \"SW_IN\"}, {\"mean\": 16.265722274780273, \"time\": 22.0, \"std\": 24.07844352722168, \"variable\": \"SW_IN\"}, {\"mean\": 16.899368286132812, \"time\": 23.0, \"std\": 27.893129348754883, \"variable\": \"SW_IN\"}, {\"mean\": 16.81228256225586, \"time\": 24.0, \"std\": 30.567310333251953, \"variable\": \"SW_IN\"}, {\"mean\": 16.150123596191406, \"time\": 25.0, \"std\": 32.09506607055664, \"variable\": \"SW_IN\"}, {\"mean\": 15.033807754516602, \"time\": 26.0, \"std\": 32.58465576171875, \"variable\": \"SW_IN\"}, {\"mean\": 13.536775588989258, \"time\": 27.0, \"std\": 32.095035552978516, \"variable\": \"SW_IN\"}, {\"mean\": 11.706127166748047, \"time\": 28.0, \"std\": 30.567337036132812, \"variable\": \"SW_IN\"}, {\"mean\": 9.605396270751953, \"time\": 29.0, \"std\": 27.89305305480957, \"variable\": \"SW_IN\"}, {\"mean\": 7.352002143859863, \"time\": 30.0, \"std\": 24.078214645385742, \"variable\": \"SW_IN\"}, {\"mean\": 5.125288963317871, \"time\": 31.0, \"std\": 19.40761375427246, \"variable\": \"SW_IN\"}, {\"mean\": 3.136566162109375, \"time\": 32.0, \"std\": 14.518539428710938, \"variable\": \"SW_IN\"}, {\"mean\": 1.571969985961914, \"time\": 33.0, \"std\": 10.340103149414062, \"variable\": \"SW_IN\"}, {\"mean\": 0.5327262878417969, \"time\": 34.0, \"std\": 7.79151725769043, \"variable\": \"SW_IN\"}, {\"mean\": 0.0032520294189453125, \"time\": 35.0, \"std\": 6.965113639831543, \"variable\": \"SW_IN\"}, {\"mean\": -0.13774681091308594, \"time\": 36.0, \"std\": 6.8973259925842285, \"variable\": \"SW_IN\"}, {\"mean\": -0.06680679321289062, \"time\": 37.0, \"std\": 6.884644508361816, \"variable\": \"SW_IN\"}, {\"mean\": 0.05154609680175781, \"time\": 38.0, \"std\": 6.841470241546631, \"variable\": \"SW_IN\"}, {\"mean\": 0.11596298217773438, \"time\": 39.0, \"std\": 6.824337959289551, \"variable\": \"SW_IN\"}, {\"mean\": 0.10507774353027344, \"time\": 40.0, \"std\": 6.824151039123535, \"variable\": \"SW_IN\"}, {\"mean\": 0.05613136291503906, \"time\": 41.0, \"std\": 6.819212436676025, \"variable\": \"SW_IN\"}, {\"mean\": 0.022430419921875, \"time\": 42.0, \"std\": 6.813835620880127, \"variable\": \"SW_IN\"}, {\"mean\": 0.03282928466796875, \"time\": 43.0, \"std\": 6.813146591186523, \"variable\": \"SW_IN\"}, {\"mean\": 0.07369232177734375, \"time\": 44.0, \"std\": 6.812745094299316, \"variable\": \"SW_IN\"}, {\"mean\": 0.10176277160644531, \"time\": 45.0, \"std\": 6.811574459075928, \"variable\": \"SW_IN\"}, {\"mean\": 0.07863426208496094, \"time\": 46.0, \"std\": 6.811145782470703, \"variable\": \"SW_IN\"}, {\"mean\": 0.006832122802734375, \"time\": 47.0, \"std\": 6.8109517097473145, \"variable\": \"SW_IN\"}, {\"mean\": -0.05980873107910156, \"time\": 48.0, \"std\": 6.810851097106934, \"variable\": \"SW_IN\"}, {\"mean\": -0.04752159118652344, \"time\": 49.0, \"std\": 6.81065034866333, \"variable\": \"SW_IN\"}, {\"mean\": 0.0757598876953125, \"time\": 50.0, \"std\": 6.810643672943115, \"variable\": \"SW_IN\"}, {\"mean\": 0.2487010955810547, \"time\": 51.0, \"std\": 6.8106303215026855, \"variable\": \"SW_IN\"}, {\"mean\": 0.32729148864746094, \"time\": 52.0, \"std\": 6.810643672943115, \"variable\": \"SW_IN\"}, {\"mean\": 0.1794910430908203, \"time\": 53.0, \"std\": 6.810603141784668, \"variable\": \"SW_IN\"}, {\"mean\": -0.17999839782714844, \"time\": 54.0, \"std\": 6.810677528381348, \"variable\": \"SW_IN\"}, {\"mean\": -0.5206584930419922, \"time\": 55.0, \"std\": 6.810610294342041, \"variable\": \"SW_IN\"}, {\"mean\": -0.4956073760986328, \"time\": 56.0, \"std\": 6.810589790344238, \"variable\": \"SW_IN\"}, {\"mean\": 0.08782196044921875, \"time\": 57.0, \"std\": 6.810583591461182, \"variable\": \"SW_IN\"}, {\"mean\": 0.9836997985839844, \"time\": 58.0, \"std\": 6.810664176940918, \"variable\": \"SW_IN\"}, {\"mean\": 1.4735918045043945, \"time\": 59.0, \"std\": 6.810664176940918, \"variable\": \"SW_IN\"}, {\"mean\": 0.7803363800048828, \"time\": 60.0, \"std\": 6.810683727264404, \"variable\": \"SW_IN\"}, {\"mean\": -1.1478595733642578, \"time\": 61.0, \"std\": 6.8106303215026855, \"variable\": \"SW_IN\"}, {\"mean\": -2.9082698822021484, \"time\": 62.0, \"std\": 6.810589790344238, \"variable\": \"SW_IN\"}, {\"mean\": -1.5572471618652344, \"time\": 63.0, \"std\": 6.810589790344238, \"variable\": \"SW_IN\"}, {\"mean\": 6.473113059997559, \"time\": 64.0, \"std\": 6.810603141784668, \"variable\": \"SW_IN\"}, {\"mean\": 23.67616844177246, \"time\": 65.0, \"std\": 6.810603141784668, \"variable\": \"SW_IN\"}, {\"mean\": 49.827552795410156, \"time\": 66.0, \"std\": 6.810583591461182, \"variable\": \"SW_IN\"}, {\"mean\": 81.40320587158203, \"time\": 67.0, \"std\": 6.810576438903809, \"variable\": \"SW_IN\"}, {\"mean\": 112.57502746582031, \"time\": 68.0, \"std\": 6.810603141784668, \"variable\": \"SW_IN\"}, {\"mean\": 137.35726928710938, \"time\": 69.0, \"std\": 6.810596942901611, \"variable\": \"SW_IN\"}, {\"mean\": 151.75338745117188, \"time\": 70.0, \"std\": 6.810610294342041, \"variable\": \"SW_IN\"}, {\"mean\": 154.7344207763672, \"time\": 71.0, \"std\": 6.810610294342041, \"variable\": \"SW_IN\"}, {\"mean\": 147.70816040039062, \"time\": 72.0, \"std\": 6.810596942901611, \"variable\": \"SW_IN\"}, {\"mean\": 133.11404418945312, \"time\": 73.0, \"std\": 6.810603141784668, \"variable\": \"SW_IN\"}, {\"mean\": 113.24829864501953, \"time\": 74.0, \"std\": 6.810603141784668, \"variable\": \"SW_IN\"}, {\"mean\": 90.00666809082031, \"time\": 75.0, \"std\": 6.810603141784668, \"variable\": \"SW_IN\"}, {\"mean\": 65.35819244384766, \"time\": 76.0, \"std\": 6.8106303215026855, \"variable\": \"SW_IN\"}, {\"mean\": 41.77442169189453, \"time\": 77.0, \"std\": 6.810596942901611, \"variable\": \"SW_IN\"}, {\"mean\": 21.973386764526367, \"time\": 78.0, \"std\": 6.810616970062256, \"variable\": \"SW_IN\"}, {\"mean\": 8.029881477355957, \"time\": 79.0, \"std\": 6.810610294342041, \"variable\": \"SW_IN\"}, {\"mean\": 0.49259376525878906, \"time\": 80.0, \"std\": 6.810610294342041, \"variable\": \"SW_IN\"}, {\"mean\": -1.8139152526855469, \"time\": 81.0, \"std\": 6.810616970062256, \"variable\": \"SW_IN\"}, {\"mean\": -1.137094497680664, \"time\": 82.0, \"std\": 6.810616970062256, \"variable\": \"SW_IN\"}, {\"mean\": 0.28215980529785156, \"time\": 83.0, \"std\": 6.810583591461182, \"variable\": \"SW_IN\"}, {\"mean\": 1.06512451171875, \"time\": 84.0, \"std\": 6.810623645782471, \"variable\": \"SW_IN\"}, {\"mean\": 0.9198131561279297, \"time\": 85.0, \"std\": 6.810596942901611, \"variable\": \"SW_IN\"}, {\"mean\": 0.2800636291503906, \"time\": 86.0, \"std\": 6.810596942901611, \"variable\": \"SW_IN\"}, {\"mean\": -0.27379608154296875, \"time\": 87.0, \"std\": 6.810657024383545, \"variable\": \"SW_IN\"}, {\"mean\": -0.43054962158203125, \"time\": 88.0, \"std\": 6.81065034866333, \"variable\": \"SW_IN\"}, {\"mean\": -0.23540115356445312, \"time\": 89.0, \"std\": 6.810657024383545, \"variable\": \"SW_IN\"}, {\"mean\": 0.07101058959960938, \"time\": 90.0, \"std\": 6.810704231262207, \"variable\": \"SW_IN\"}, {\"mean\": 0.2681560516357422, \"time\": 91.0, \"std\": 6.810670375823975, \"variable\": \"SW_IN\"}, {\"mean\": 0.2757129669189453, \"time\": 92.0, \"std\": 6.810603141784668, \"variable\": \"SW_IN\"}, {\"mean\": 0.14563941955566406, \"time\": 93.0, \"std\": 6.810610294342041, \"variable\": \"SW_IN\"}, {\"mean\": -0.014127731323242188, \"time\": 94.0, \"std\": 6.810549736022949, \"variable\": \"SW_IN\"}, {\"mean\": -0.11069679260253906, \"time\": 95.0, \"std\": 6.810570240020752, \"variable\": \"SW_IN\"}, {\"mean\": -0.09877777099609375, \"time\": 96.0, \"std\": 6.8105363845825195, \"variable\": \"SW_IN\"}, {\"mean\": 0.014728546142578125, \"time\": 97.0, \"std\": 6.810603141784668, \"variable\": \"SW_IN\"}, {\"mean\": 0.17308998107910156, \"time\": 98.0, \"std\": 6.810496807098389, \"variable\": \"SW_IN\"}, {\"mean\": 0.2802276611328125, \"time\": 99.0, \"std\": 6.810476303100586, \"variable\": \"SW_IN\"}, {\"mean\": 0.23846435546875, \"time\": 100.0, \"std\": 6.810596942901611, \"variable\": \"SW_IN\"}, {\"mean\": 0.019044876098632812, \"time\": 101.0, \"std\": 6.810757637023926, \"variable\": \"SW_IN\"}, {\"mean\": -0.2738475799560547, \"time\": 102.0, \"std\": 6.8106369972229, \"variable\": \"SW_IN\"}, {\"mean\": -0.4154834747314453, \"time\": 103.0, \"std\": 6.810476303100586, \"variable\": \"SW_IN\"}, {\"mean\": -0.1940174102783203, \"time\": 104.0, \"std\": 6.810603141784668, \"variable\": \"SW_IN\"}, {\"mean\": 0.3854503631591797, \"time\": 105.0, \"std\": 6.810704231262207, \"variable\": \"SW_IN\"}, {\"mean\": 0.9776382446289062, \"time\": 106.0, \"std\": 6.810704231262207, \"variable\": \"SW_IN\"}, {\"mean\": 1.0171070098876953, \"time\": 107.0, \"std\": 6.810389518737793, \"variable\": \"SW_IN\"}, {\"mean\": 0.11659431457519531, \"time\": 108.0, \"std\": 6.810589790344238, \"variable\": \"SW_IN\"}, {\"mean\": -1.4439926147460938, \"time\": 109.0, \"std\": 6.810576438903809, \"variable\": \"SW_IN\"}, {\"mean\": -2.4856414794921875, \"time\": 110.0, \"std\": 6.810683727264404, \"variable\": \"SW_IN\"}, {\"mean\": -1.2278079986572266, \"time\": 111.0, \"std\": 6.810744285583496, \"variable\": \"SW_IN\"}, {\"mean\": 3.9610204696655273, \"time\": 112.0, \"std\": 6.810791015625, \"variable\": \"SW_IN\"}, {\"mean\": 13.736169815063477, \"time\": 113.0, \"std\": 6.810750961303711, \"variable\": \"SW_IN\"}, {\"mean\": 27.416915893554688, \"time\": 114.0, \"std\": 6.81077766418457, \"variable\": \"SW_IN\"}, {\"mean\": 43.36564636230469, \"time\": 115.0, \"std\": 6.810462951660156, \"variable\": \"SW_IN\"}, {\"mean\": 59.81011199951172, \"time\": 116.0, \"std\": 6.810690879821777, \"variable\": \"SW_IN\"}, {\"mean\": 75.48298645019531, \"time\": 117.0, \"std\": 6.810322284698486, \"variable\": \"SW_IN\"}, {\"mean\": 89.67842864990234, \"time\": 118.0, \"std\": 6.810349464416504, \"variable\": \"SW_IN\"}, {\"mean\": 101.61396026611328, \"time\": 119.0, \"std\": 6.810268878936768, \"variable\": \"SW_IN\"}, {\"mean\": 109.81173706054688, \"time\": 120.0, \"std\": 6.810965061187744, \"variable\": \"SW_IN\"}, {\"mean\": 112.17816925048828, \"time\": 121.0, \"std\": 6.811139106750488, \"variable\": \"SW_IN\"}, {\"mean\": 106.82682037353516, \"time\": 122.0, \"std\": 6.811058521270752, \"variable\": \"SW_IN\"}, {\"mean\": 93.35558319091797, \"time\": 123.0, \"std\": 6.81080436706543, \"variable\": \"SW_IN\"}, {\"mean\": 73.56187438964844, \"time\": 124.0, \"std\": 6.810697078704834, \"variable\": \"SW_IN\"}, {\"mean\": 51.114776611328125, \"time\": 125.0, \"std\": 6.810783863067627, \"variable\": \"SW_IN\"}, {\"mean\": 30.274009704589844, \"time\": 126.0, \"std\": 6.811386585235596, \"variable\": \"SW_IN\"}, {\"mean\": 14.305679321289062, \"time\": 127.0, \"std\": 6.810817718505859, \"variable\": \"SW_IN\"}, {\"mean\": 4.4968671798706055, \"time\": 128.0, \"std\": 6.810958385467529, \"variable\": \"SW_IN\"}, {\"mean\": 0.11782264709472656, \"time\": 129.0, \"std\": 6.810783863067627, \"variable\": \"SW_IN\"}, {\"mean\": -0.7540493011474609, \"time\": 130.0, \"std\": 6.810884952545166, \"variable\": \"SW_IN\"}, {\"mean\": -0.1784954071044922, \"time\": 131.0, \"std\": 6.810884952545166, \"variable\": \"SW_IN\"}, {\"mean\": 0.4354896545410156, \"time\": 132.0, \"std\": 6.811098575592041, \"variable\": \"SW_IN\"}, {\"mean\": 0.5554027557373047, \"time\": 133.0, \"std\": 6.810664176940918, \"variable\": \"SW_IN\"}, {\"mean\": 0.2892189025878906, \"time\": 134.0, \"std\": 6.810858249664307, \"variable\": \"SW_IN\"}, {\"mean\": -0.03140068054199219, \"time\": 135.0, \"std\": 6.811045169830322, \"variable\": \"SW_IN\"}, {\"mean\": -0.17560768127441406, \"time\": 136.0, \"std\": 6.811446666717529, \"variable\": \"SW_IN\"}, {\"mean\": -0.12086677551269531, \"time\": 137.0, \"std\": 6.8109450340271, \"variable\": \"SW_IN\"}, {\"mean\": 0.016553878784179688, \"time\": 138.0, \"std\": 6.811313152313232, \"variable\": \"SW_IN\"}, {\"mean\": 0.11382102966308594, \"time\": 139.0, \"std\": 6.812852382659912, \"variable\": \"SW_IN\"}, {\"mean\": 0.12730026245117188, \"time\": 140.0, \"std\": 6.813253879547119, \"variable\": \"SW_IN\"}, {\"mean\": 0.09243011474609375, \"time\": 141.0, \"std\": 6.813835620880127, \"variable\": \"SW_IN\"}, {\"mean\": 0.06681251525878906, \"time\": 142.0, \"std\": 6.8201680183410645, \"variable\": \"SW_IN\"}, {\"mean\": 0.07098197937011719, \"time\": 143.0, \"std\": 6.823910236358643, \"variable\": \"SW_IN\"}, {\"mean\": 0.07515335083007812, \"time\": 144.0, \"std\": 6.824765205383301, \"variable\": \"SW_IN\"}, {\"mean\": 0.03311729431152344, \"time\": 145.0, \"std\": 6.841890335083008, \"variable\": \"SW_IN\"}, {\"mean\": -0.05746650695800781, \"time\": 146.0, \"std\": 6.885511875152588, \"variable\": \"SW_IN\"}, {\"mean\": -0.11629104614257812, \"time\": 147.0, \"std\": 6.898271560668945, \"variable\": \"SW_IN\"}, {\"mean\": 0.01534271240234375, \"time\": 148.0, \"std\": 6.9658403396606445, \"variable\": \"SW_IN\"}, {\"mean\": 0.5206947326660156, \"time\": 149.0, \"std\": 7.7920732498168945, \"variable\": \"SW_IN\"}], \"data-6de626b54b1ea97dda9a1c9e19819520\": [{\"time\": 0.0, \"variable\": \"LW_IN\", \"value\": 302.475, \"is_missing\": false}, {\"time\": 1.0, \"variable\": \"LW_IN\", \"value\": 302.475, \"is_missing\": false}, {\"time\": 2.0, \"variable\": \"LW_IN\", \"value\": 301.677, \"is_missing\": false}, {\"time\": 3.0, \"variable\": \"LW_IN\", \"value\": 301.677, \"is_missing\": false}, {\"time\": 4.0, \"variable\": \"LW_IN\", \"value\": 301.677, \"is_missing\": false}, {\"time\": 5.0, \"variable\": \"LW_IN\", \"value\": 301.677, \"is_missing\": false}, {\"time\": 6.0, \"variable\": \"LW_IN\", \"value\": 301.677, \"is_missing\": false}, {\"time\": 7.0, \"variable\": \"LW_IN\", \"value\": 301.677, \"is_missing\": false}, {\"time\": 8.0, \"variable\": \"LW_IN\", \"value\": 308.046, \"is_missing\": false}, {\"time\": 9.0, \"variable\": \"LW_IN\", \"value\": 308.046, \"is_missing\": false}, {\"time\": 10.0, \"variable\": \"LW_IN\", \"value\": 308.046, \"is_missing\": false}, {\"time\": 11.0, \"variable\": \"LW_IN\", \"value\": 308.046, \"is_missing\": false}, {\"time\": 12.0, \"variable\": \"LW_IN\", \"value\": 308.046, \"is_missing\": false}, {\"time\": 13.0, \"variable\": \"LW_IN\", \"value\": 308.046, \"is_missing\": false}, {\"time\": 14.0, \"variable\": \"LW_IN\", \"value\": 316.925, \"is_missing\": false}, {\"time\": 15.0, \"variable\": \"LW_IN\", \"value\": 316.925, \"is_missing\": false}, {\"time\": 16.0, \"variable\": \"LW_IN\", \"value\": 316.925, \"is_missing\": false}, {\"time\": 17.0, \"variable\": \"LW_IN\", \"value\": 316.925, \"is_missing\": false}, {\"time\": 18.0, \"variable\": \"LW_IN\", \"value\": 316.925, \"is_missing\": false}, {\"time\": 19.0, \"variable\": \"LW_IN\", \"value\": 316.925, \"is_missing\": true}, {\"time\": 20.0, \"variable\": \"LW_IN\", \"value\": 321.15, \"is_missing\": true}, {\"time\": 21.0, \"variable\": \"LW_IN\", \"value\": 321.15, \"is_missing\": true}, {\"time\": 22.0, \"variable\": \"LW_IN\", \"value\": 321.15, \"is_missing\": true}, {\"time\": 23.0, \"variable\": \"LW_IN\", \"value\": 321.15, \"is_missing\": true}, {\"time\": 24.0, \"variable\": \"LW_IN\", \"value\": 321.15, \"is_missing\": true}, {\"time\": 25.0, \"variable\": \"LW_IN\", \"value\": 321.15, \"is_missing\": true}, {\"time\": 26.0, \"variable\": \"LW_IN\", \"value\": 323.062, \"is_missing\": true}, {\"time\": 27.0, \"variable\": \"LW_IN\", \"value\": 323.062, \"is_missing\": true}, {\"time\": 28.0, \"variable\": \"LW_IN\", \"value\": 323.062, \"is_missing\": true}, {\"time\": 29.0, \"variable\": \"LW_IN\", \"value\": 323.062, \"is_missing\": true}, {\"time\": 30.0, \"variable\": \"LW_IN\", \"value\": 323.062, \"is_missing\": true}, {\"time\": 31.0, \"variable\": \"LW_IN\", \"value\": 323.062, \"is_missing\": true}, {\"time\": 32.0, \"variable\": \"LW_IN\", \"value\": 328.053, \"is_missing\": true}, {\"time\": 33.0, \"variable\": \"LW_IN\", \"value\": 328.053, \"is_missing\": true}, {\"time\": 34.0, \"variable\": \"LW_IN\", \"value\": 328.053, \"is_missing\": false}, {\"time\": 35.0, \"variable\": \"LW_IN\", \"value\": 328.053, \"is_missing\": false}, {\"time\": 36.0, \"variable\": \"LW_IN\", \"value\": 328.053, \"is_missing\": false}, {\"time\": 37.0, \"variable\": \"LW_IN\", \"value\": 328.053, \"is_missing\": false}, {\"time\": 38.0, \"variable\": \"LW_IN\", \"value\": 329.365, \"is_missing\": false}, {\"time\": 39.0, \"variable\": \"LW_IN\", \"value\": 329.365, \"is_missing\": false}, {\"time\": 40.0, \"variable\": \"LW_IN\", \"value\": 329.365, \"is_missing\": false}, {\"time\": 41.0, \"variable\": \"LW_IN\", \"value\": 329.365, \"is_missing\": false}, {\"time\": 42.0, \"variable\": \"LW_IN\", \"value\": 329.365, \"is_missing\": false}, {\"time\": 43.0, \"variable\": \"LW_IN\", \"value\": 329.365, \"is_missing\": false}, {\"time\": 44.0, \"variable\": \"LW_IN\", \"value\": 297.593, \"is_missing\": false}, {\"time\": 45.0, \"variable\": \"LW_IN\", \"value\": 297.593, \"is_missing\": false}, {\"time\": 46.0, \"variable\": \"LW_IN\", \"value\": 297.593, \"is_missing\": false}, {\"time\": 47.0, \"variable\": \"LW_IN\", \"value\": 297.593, \"is_missing\": false}, {\"time\": 48.0, \"variable\": \"LW_IN\", \"value\": 297.593, \"is_missing\": false}, {\"time\": 49.0, \"variable\": \"LW_IN\", \"value\": 297.593, \"is_missing\": false}, {\"time\": 50.0, \"variable\": \"LW_IN\", \"value\": 277.157, \"is_missing\": false}, {\"time\": 51.0, \"variable\": \"LW_IN\", \"value\": 277.157, \"is_missing\": false}, {\"time\": 52.0, \"variable\": \"LW_IN\", \"value\": 277.157, \"is_missing\": false}, {\"time\": 53.0, \"variable\": \"LW_IN\", \"value\": 277.157, \"is_missing\": false}, {\"time\": 54.0, \"variable\": \"LW_IN\", \"value\": 277.157, \"is_missing\": false}, {\"time\": 55.0, \"variable\": \"LW_IN\", \"value\": 277.157, \"is_missing\": false}, {\"time\": 56.0, \"variable\": \"LW_IN\", \"value\": 266.713, \"is_missing\": false}, {\"time\": 57.0, \"variable\": \"LW_IN\", \"value\": 266.713, \"is_missing\": false}, {\"time\": 58.0, \"variable\": \"LW_IN\", \"value\": 266.713, \"is_missing\": false}, {\"time\": 59.0, \"variable\": \"LW_IN\", \"value\": 266.713, \"is_missing\": false}, {\"time\": 60.0, \"variable\": \"LW_IN\", \"value\": 266.713, \"is_missing\": false}, {\"time\": 61.0, \"variable\": \"LW_IN\", \"value\": 266.713, \"is_missing\": false}, {\"time\": 62.0, \"variable\": \"LW_IN\", \"value\": 259.213, \"is_missing\": false}, {\"time\": 63.0, \"variable\": \"LW_IN\", \"value\": 259.213, \"is_missing\": false}, {\"time\": 64.0, \"variable\": \"LW_IN\", \"value\": 259.213, \"is_missing\": false}, {\"time\": 65.0, \"variable\": \"LW_IN\", \"value\": 259.213, \"is_missing\": false}, {\"time\": 66.0, \"variable\": \"LW_IN\", \"value\": 259.213, \"is_missing\": false}, {\"time\": 67.0, \"variable\": \"LW_IN\", \"value\": 259.213, \"is_missing\": false}, {\"time\": 68.0, \"variable\": \"LW_IN\", \"value\": 265.357, \"is_missing\": false}, {\"time\": 69.0, \"variable\": \"LW_IN\", \"value\": 265.357, \"is_missing\": false}, {\"time\": 70.0, \"variable\": \"LW_IN\", \"value\": 265.357, \"is_missing\": false}, {\"time\": 71.0, \"variable\": \"LW_IN\", \"value\": 265.357, \"is_missing\": false}, {\"time\": 72.0, \"variable\": \"LW_IN\", \"value\": 265.357, \"is_missing\": false}, {\"time\": 73.0, \"variable\": \"LW_IN\", \"value\": 265.357, \"is_missing\": false}, {\"time\": 74.0, \"variable\": \"LW_IN\", \"value\": 279.492, \"is_missing\": false}, {\"time\": 75.0, \"variable\": \"LW_IN\", \"value\": 279.492, \"is_missing\": false}, {\"time\": 76.0, \"variable\": \"LW_IN\", \"value\": 279.492, \"is_missing\": false}, {\"time\": 77.0, \"variable\": \"LW_IN\", \"value\": 279.492, \"is_missing\": false}, {\"time\": 78.0, \"variable\": \"LW_IN\", \"value\": 279.492, \"is_missing\": false}, {\"time\": 79.0, \"variable\": \"LW_IN\", \"value\": 279.492, \"is_missing\": false}, {\"time\": 80.0, \"variable\": \"LW_IN\", \"value\": 284.641, \"is_missing\": false}, {\"time\": 81.0, \"variable\": \"LW_IN\", \"value\": 284.641, \"is_missing\": false}, {\"time\": 82.0, \"variable\": \"LW_IN\", \"value\": 284.641, \"is_missing\": false}, {\"time\": 83.0, \"variable\": \"LW_IN\", \"value\": 284.641, \"is_missing\": false}, {\"time\": 84.0, \"variable\": \"LW_IN\", \"value\": 284.641, \"is_missing\": false}, {\"time\": 85.0, \"variable\": \"LW_IN\", \"value\": 284.641, \"is_missing\": false}, {\"time\": 86.0, \"variable\": \"LW_IN\", \"value\": 290.004, \"is_missing\": false}, {\"time\": 87.0, \"variable\": \"LW_IN\", \"value\": 290.004, \"is_missing\": false}, {\"time\": 88.0, \"variable\": \"LW_IN\", \"value\": 290.004, \"is_missing\": false}, {\"time\": 89.0, \"variable\": \"LW_IN\", \"value\": 290.004, \"is_missing\": false}, {\"time\": 90.0, \"variable\": \"LW_IN\", \"value\": 290.004, \"is_missing\": false}, {\"time\": 91.0, \"variable\": \"LW_IN\", \"value\": 290.004, \"is_missing\": false}, {\"time\": 92.0, \"variable\": \"LW_IN\", \"value\": 300.274, \"is_missing\": false}, {\"time\": 93.0, \"variable\": \"LW_IN\", \"value\": 300.274, \"is_missing\": false}, {\"time\": 94.0, \"variable\": \"LW_IN\", \"value\": 300.274, \"is_missing\": false}, {\"time\": 95.0, \"variable\": \"LW_IN\", \"value\": 300.274, \"is_missing\": false}, {\"time\": 96.0, \"variable\": \"LW_IN\", \"value\": 300.274, \"is_missing\": false}, {\"time\": 97.0, \"variable\": \"LW_IN\", \"value\": 300.274, \"is_missing\": false}, {\"time\": 98.0, \"variable\": \"LW_IN\", \"value\": 304.148, \"is_missing\": false}, {\"time\": 99.0, \"variable\": \"LW_IN\", \"value\": 304.148, \"is_missing\": false}, {\"time\": 100.0, \"variable\": \"LW_IN\", \"value\": 304.148, \"is_missing\": false}, {\"time\": 101.0, \"variable\": \"LW_IN\", \"value\": 304.148, \"is_missing\": false}, {\"time\": 102.0, \"variable\": \"LW_IN\", \"value\": 304.148, \"is_missing\": false}, {\"time\": 103.0, \"variable\": \"LW_IN\", \"value\": 304.148, \"is_missing\": false}, {\"time\": 104.0, \"variable\": \"LW_IN\", \"value\": 304.382, \"is_missing\": false}, {\"time\": 105.0, \"variable\": \"LW_IN\", \"value\": 304.382, \"is_missing\": false}, {\"time\": 106.0, \"variable\": \"LW_IN\", \"value\": 304.382, \"is_missing\": false}, {\"time\": 107.0, \"variable\": \"LW_IN\", \"value\": 304.382, \"is_missing\": false}, {\"time\": 108.0, \"variable\": \"LW_IN\", \"value\": 304.382, \"is_missing\": false}, {\"time\": 109.0, \"variable\": \"LW_IN\", \"value\": 304.382, \"is_missing\": false}, {\"time\": 110.0, \"variable\": \"LW_IN\", \"value\": 298.069, \"is_missing\": false}, {\"time\": 111.0, \"variable\": \"LW_IN\", \"value\": 298.069, \"is_missing\": false}, {\"time\": 112.0, \"variable\": \"LW_IN\", \"value\": 298.069, \"is_missing\": false}, {\"time\": 113.0, \"variable\": \"LW_IN\", \"value\": 298.069, \"is_missing\": false}, {\"time\": 114.0, \"variable\": \"LW_IN\", \"value\": 298.069, \"is_missing\": false}, {\"time\": 115.0, \"variable\": \"LW_IN\", \"value\": 298.069, \"is_missing\": false}, {\"time\": 116.0, \"variable\": \"LW_IN\", \"value\": 297.189, \"is_missing\": false}, {\"time\": 117.0, \"variable\": \"LW_IN\", \"value\": 297.189, \"is_missing\": false}, {\"time\": 118.0, \"variable\": \"LW_IN\", \"value\": 297.189, \"is_missing\": false}, {\"time\": 119.0, \"variable\": \"LW_IN\", \"value\": 297.189, \"is_missing\": false}, {\"time\": 120.0, \"variable\": \"LW_IN\", \"value\": 297.189, \"is_missing\": false}, {\"time\": 121.0, \"variable\": \"LW_IN\", \"value\": 297.189, \"is_missing\": false}, {\"time\": 122.0, \"variable\": \"LW_IN\", \"value\": 291.71, \"is_missing\": false}, {\"time\": 123.0, \"variable\": \"LW_IN\", \"value\": 291.71, \"is_missing\": false}, {\"time\": 124.0, \"variable\": \"LW_IN\", \"value\": 291.71, \"is_missing\": false}, {\"time\": 125.0, \"variable\": \"LW_IN\", \"value\": 291.71, \"is_missing\": false}, {\"time\": 126.0, \"variable\": \"LW_IN\", \"value\": 291.71, \"is_missing\": false}, {\"time\": 127.0, \"variable\": \"LW_IN\", \"value\": 291.71, \"is_missing\": false}, {\"time\": 128.0, \"variable\": \"LW_IN\", \"value\": 310.192, \"is_missing\": false}, {\"time\": 129.0, \"variable\": \"LW_IN\", \"value\": 310.192, \"is_missing\": false}, {\"time\": 130.0, \"variable\": \"LW_IN\", \"value\": 310.192, \"is_missing\": false}, {\"time\": 131.0, \"variable\": \"LW_IN\", \"value\": 310.192, \"is_missing\": false}, {\"time\": 132.0, \"variable\": \"LW_IN\", \"value\": 310.192, \"is_missing\": false}, {\"time\": 133.0, \"variable\": \"LW_IN\", \"value\": 310.192, \"is_missing\": false}, {\"time\": 134.0, \"variable\": \"LW_IN\", \"value\": 317.262, \"is_missing\": false}, {\"time\": 135.0, \"variable\": \"LW_IN\", \"value\": 317.262, \"is_missing\": false}, {\"time\": 136.0, \"variable\": \"LW_IN\", \"value\": 317.262, \"is_missing\": false}, {\"time\": 137.0, \"variable\": \"LW_IN\", \"value\": 317.262, \"is_missing\": false}, {\"time\": 138.0, \"variable\": \"LW_IN\", \"value\": 317.262, \"is_missing\": false}, {\"time\": 139.0, \"variable\": \"LW_IN\", \"value\": 317.262, \"is_missing\": false}, {\"time\": 140.0, \"variable\": \"LW_IN\", \"value\": 310.161, \"is_missing\": false}, {\"time\": 141.0, \"variable\": \"LW_IN\", \"value\": 310.161, \"is_missing\": false}, {\"time\": 142.0, \"variable\": \"LW_IN\", \"value\": 310.161, \"is_missing\": false}, {\"time\": 143.0, \"variable\": \"LW_IN\", \"value\": 310.161, \"is_missing\": false}, {\"time\": 144.0, \"variable\": \"LW_IN\", \"value\": 310.161, \"is_missing\": false}, {\"time\": 145.0, \"variable\": \"LW_IN\", \"value\": 310.161, \"is_missing\": false}, {\"time\": 146.0, \"variable\": \"LW_IN\", \"value\": 304.731, \"is_missing\": false}, {\"time\": 147.0, \"variable\": \"LW_IN\", \"value\": 304.731, \"is_missing\": false}, {\"time\": 148.0, \"variable\": \"LW_IN\", \"value\": 304.731, \"is_missing\": false}, {\"time\": 149.0, \"variable\": \"LW_IN\", \"value\": 304.731, \"is_missing\": false}], \"data-02ba5e6027cf36a50a6a241162d98f8d\": [{\"mean\": 302.293212890625, \"time\": 0.0, \"std\": 3.4036636352539062, \"variable\": \"LW_IN\"}, {\"mean\": 302.2955017089844, \"time\": 1.0, \"std\": 3.0426061153411865, \"variable\": \"LW_IN\"}, {\"mean\": 302.1496276855469, \"time\": 2.0, \"std\": 3.042137622833252, \"variable\": \"LW_IN\"}, {\"mean\": 301.78289794921875, \"time\": 3.0, \"std\": 3.012550115585327, \"variable\": \"LW_IN\"}, {\"mean\": 301.2591247558594, \"time\": 4.0, \"std\": 3.0069355964660645, \"variable\": \"LW_IN\"}, {\"mean\": 301.0484619140625, \"time\": 5.0, \"std\": 3.0068306922912598, \"variable\": \"LW_IN\"}, {\"mean\": 301.831787109375, \"time\": 6.0, \"std\": 3.003474712371826, \"variable\": \"LW_IN\"}, {\"mean\": 303.813232421875, \"time\": 7.0, \"std\": 3.002885580062866, \"variable\": \"LW_IN\"}, {\"mean\": 306.23236083984375, \"time\": 8.0, \"std\": 3.0024991035461426, \"variable\": \"LW_IN\"}, {\"mean\": 307.8289794921875, \"time\": 9.0, \"std\": 3.0017690658569336, \"variable\": \"LW_IN\"}, {\"mean\": 308.0469055175781, \"time\": 10.0, \"std\": 3.0024335384368896, \"variable\": \"LW_IN\"}, {\"mean\": 307.6932373046875, \"time\": 11.0, \"std\": 3.002941131591797, \"variable\": \"LW_IN\"}, {\"mean\": 308.280517578125, \"time\": 12.0, \"std\": 3.0029313564300537, \"variable\": \"LW_IN\"}, {\"mean\": 310.56939697265625, \"time\": 13.0, \"std\": 3.006366729736328, \"variable\": \"LW_IN\"}, {\"mean\": 313.8581848144531, \"time\": 14.0, \"std\": 3.0080435276031494, \"variable\": \"LW_IN\"}, {\"mean\": 316.6330261230469, \"time\": 15.0, \"std\": 3.014073371887207, \"variable\": \"LW_IN\"}, {\"mean\": 317.8406677246094, \"time\": 16.0, \"std\": 3.0428192615509033, \"variable\": \"LW_IN\"}, {\"mean\": 317.4342956542969, \"time\": 17.0, \"std\": 3.043210029602051, \"variable\": \"LW_IN\"}, {\"mean\": 315.9432373046875, \"time\": 18.0, \"std\": 3.404174566268921, \"variable\": \"LW_IN\"}, {\"mean\": 313.79132080078125, \"time\": 19.0, \"std\": 5.13793420791626, \"variable\": \"LW_IN\"}, {\"mean\": 311.128662109375, \"time\": 20.0, \"std\": 7.96030330657959, \"variable\": \"LW_IN\"}, {\"mean\": 308.105224609375, \"time\": 21.0, \"std\": 10.771410942077637, \"variable\": \"LW_IN\"}, {\"mean\": 305.067138671875, \"time\": 22.0, \"std\": 12.839850425720215, \"variable\": \"LW_IN\"}, {\"mean\": 302.4578857421875, \"time\": 23.0, \"std\": 14.009699821472168, \"variable\": \"LW_IN\"}, {\"mean\": 300.5855407714844, \"time\": 24.0, \"std\": 14.519246101379395, \"variable\": \"LW_IN\"}, {\"mean\": 299.54229736328125, \"time\": 25.0, \"std\": 14.68764877319336, \"variable\": \"LW_IN\"}, {\"mean\": 299.31072998046875, \"time\": 26.0, \"std\": 14.722296714782715, \"variable\": \"LW_IN\"}, {\"mean\": 299.93463134765625, \"time\": 27.0, \"std\": 14.687641143798828, \"variable\": \"LW_IN\"}, {\"mean\": 301.5965576171875, \"time\": 28.0, \"std\": 14.519207954406738, \"variable\": \"LW_IN\"}, {\"mean\": 304.5224304199219, \"time\": 29.0, \"std\": 14.009620666503906, \"variable\": \"LW_IN\"}, {\"mean\": 308.7460021972656, \"time\": 30.0, \"std\": 12.839560508728027, \"variable\": \"LW_IN\"}, {\"mean\": 313.88885498046875, \"time\": 31.0, \"std\": 10.771214485168457, \"variable\": \"LW_IN\"}, {\"mean\": 319.16705322265625, \"time\": 32.0, \"std\": 7.9601545333862305, \"variable\": \"LW_IN\"}, {\"mean\": 323.69476318359375, \"time\": 33.0, \"std\": 5.138054847717285, \"variable\": \"LW_IN\"}, {\"mean\": 326.8563537597656, \"time\": 34.0, \"std\": 3.4041833877563477, \"variable\": \"LW_IN\"}, {\"mean\": 328.4564514160156, \"time\": 35.0, \"std\": 3.0428903102874756, \"variable\": \"LW_IN\"}, {\"mean\": 328.6589050292969, \"time\": 36.0, \"std\": 3.0424928665161133, \"variable\": \"LW_IN\"}, {\"mean\": 328.0318298339844, \"time\": 37.0, \"std\": 3.013580799102783, \"variable\": \"LW_IN\"}, {\"mean\": 327.66864013671875, \"time\": 38.0, \"std\": 3.0075957775115967, \"variable\": \"LW_IN\"}, {\"mean\": 328.7095947265625, \"time\": 39.0, \"std\": 3.0062882900238037, \"variable\": \"LW_IN\"}, {\"mean\": 330.9743347167969, \"time\": 40.0, \"std\": 3.002777576446533, \"variable\": \"LW_IN\"}, {\"mean\": 331.986572265625, \"time\": 41.0, \"std\": 3.002328872680664, \"variable\": \"LW_IN\"}, {\"mean\": 328.2984619140625, \"time\": 42.0, \"std\": 3.0017690658569336, \"variable\": \"LW_IN\"}, {\"mean\": 318.8471374511719, \"time\": 43.0, \"std\": 3.001631498336792, \"variable\": \"LW_IN\"}, {\"mean\": 307.0255432128906, \"time\": 44.0, \"std\": 3.001556158065796, \"variable\": \"LW_IN\"}, {\"mean\": 298.5167236328125, \"time\": 45.0, \"std\": 3.001447916030884, \"variable\": \"LW_IN\"}, {\"mean\": 296.25634765625, \"time\": 46.0, \"std\": 3.0013792514801025, \"variable\": \"LW_IN\"}, {\"mean\": 297.66339111328125, \"time\": 47.0, \"std\": 3.0014054775238037, \"variable\": \"LW_IN\"}, {\"mean\": 297.2279968261719, \"time\": 48.0, \"std\": 3.001539707183838, \"variable\": \"LW_IN\"}, {\"mean\": 291.9022521972656, \"time\": 49.0, \"std\": 3.001572608947754, \"variable\": \"LW_IN\"}, {\"mean\": 283.7788391113281, \"time\": 50.0, \"std\": 3.001598834991455, \"variable\": \"LW_IN\"}, {\"mean\": 277.5871887207031, \"time\": 51.0, \"std\": 3.001441478729248, \"variable\": \"LW_IN\"}, {\"mean\": 275.9055480957031, \"time\": 52.0, \"std\": 3.0013694763183594, \"variable\": \"LW_IN\"}, {\"mean\": 277.04510498046875, \"time\": 53.0, \"std\": 3.0014023780822754, \"variable\": \"LW_IN\"}, {\"mean\": 277.2539978027344, \"time\": 54.0, \"std\": 3.0014219284057617, \"variable\": \"LW_IN\"}, {\"mean\": 274.5333251953125, \"time\": 55.0, \"std\": 3.001372814178467, \"variable\": \"LW_IN\"}, {\"mean\": 270.1793518066406, \"time\": 56.0, \"std\": 3.001415252685547, \"variable\": \"LW_IN\"}, {\"mean\": 266.95379638671875, \"time\": 57.0, \"std\": 3.001375913619995, \"variable\": \"LW_IN\"}, {\"mean\": 266.19989013671875, \"time\": 58.0, \"std\": 3.0013957023620605, \"variable\": \"LW_IN\"}, {\"mean\": 266.8146057128906, \"time\": 59.0, \"std\": 3.001425266265869, \"variable\": \"LW_IN\"}, {\"mean\": 266.71026611328125, \"time\": 60.0, \"std\": 3.0014548301696777, \"variable\": \"LW_IN\"}, {\"mean\": 264.8955993652344, \"time\": 61.0, \"std\": 3.001447916030884, \"variable\": \"LW_IN\"}, {\"mean\": 262.08258056640625, \"time\": 62.0, \"std\": 3.0014874935150146, \"variable\": \"LW_IN\"}, {\"mean\": 259.6351013183594, \"time\": 63.0, \"std\": 3.001464605331421, \"variable\": \"LW_IN\"}, {\"mean\": 258.3685302734375, \"time\": 64.0, \"std\": 3.0014286041259766, \"variable\": \"LW_IN\"}, {\"mean\": 258.392578125, \"time\": 65.0, \"std\": 3.0014185905456543, \"variable\": \"LW_IN\"}, {\"mean\": 259.60003662109375, \"time\": 66.0, \"std\": 3.0013957023620605, \"variable\": \"LW_IN\"}, {\"mean\": 261.7434387207031, \"time\": 67.0, \"std\": 3.0013957023620605, \"variable\": \"LW_IN\"}, {\"mean\": 264.043212890625, \"time\": 68.0, \"std\": 3.0014023780822754, \"variable\": \"LW_IN\"}, {\"mean\": 265.3350830078125, \"time\": 69.0, \"std\": 3.001415252685547, \"variable\": \"LW_IN\"}, {\"mean\": 265.1650390625, \"time\": 70.0, \"std\": 3.0014185905456543, \"variable\": \"LW_IN\"}, {\"mean\": 264.6858215332031, \"time\": 71.0, \"std\": 3.0014286041259766, \"variable\": \"LW_IN\"}, {\"mean\": 265.94354248046875, \"time\": 72.0, \"std\": 3.0014286041259766, \"variable\": \"LW_IN\"}, {\"mean\": 269.8874816894531, \"time\": 73.0, \"std\": 3.0014219284057617, \"variable\": \"LW_IN\"}, {\"mean\": 275.1653137207031, \"time\": 74.0, \"std\": 3.0014219284057617, \"variable\": \"LW_IN\"}, {\"mean\": 279.1794738769531, \"time\": 75.0, \"std\": 3.001425266265869, \"variable\": \"LW_IN\"}, {\"mean\": 280.4478454589844, \"time\": 76.0, \"std\": 3.0014185905456543, \"variable\": \"LW_IN\"}, {\"mean\": 279.84820556640625, \"time\": 77.0, \"std\": 3.0014219284057617, \"variable\": \"LW_IN\"}, {\"mean\": 279.5427551269531, \"time\": 78.0, \"std\": 3.0014219284057617, \"variable\": \"LW_IN\"}, {\"mean\": 280.8268737792969, \"time\": 79.0, \"std\": 3.0014219284057617, \"variable\": \"LW_IN\"}, {\"mean\": 283.0934143066406, \"time\": 80.0, \"std\": 3.001425266265869, \"variable\": \"LW_IN\"}, {\"mean\": 284.75262451171875, \"time\": 81.0, \"std\": 3.001425266265869, \"variable\": \"LW_IN\"}, {\"mean\": 284.96771240234375, \"time\": 82.0, \"std\": 3.0014286041259766, \"variable\": \"LW_IN\"}, {\"mean\": 284.4537658691406, \"time\": 83.0, \"std\": 3.001431703567505, \"variable\": \"LW_IN\"}, {\"mean\": 284.67352294921875, \"time\": 84.0, \"std\": 3.0014185905456543, \"variable\": \"LW_IN\"}, {\"mean\": 286.32147216796875, \"time\": 85.0, \"std\": 3.001425266265869, \"variable\": \"LW_IN\"}, {\"mean\": 288.6034851074219, \"time\": 86.0, \"std\": 3.0014286041259766, \"variable\": \"LW_IN\"}, {\"mean\": 290.03179931640625, \"time\": 87.0, \"std\": 3.001464605331421, \"variable\": \"LW_IN\"}, {\"mean\": 289.98663330078125, \"time\": 88.0, \"std\": 3.001425266265869, \"variable\": \"LW_IN\"}, {\"mean\": 289.48486328125, \"time\": 89.0, \"std\": 3.0014448165893555, \"variable\": \"LW_IN\"}, {\"mean\": 290.2925720214844, \"time\": 90.0, \"std\": 3.001431703567505, \"variable\": \"LW_IN\"}, {\"mean\": 293.1777648925781, \"time\": 91.0, \"std\": 3.001399040222168, \"variable\": \"LW_IN\"}, {\"mean\": 297.0629577636719, \"time\": 92.0, \"std\": 3.0013926029205322, \"variable\": \"LW_IN\"}, {\"mean\": 299.9864196777344, \"time\": 93.0, \"std\": 3.001399040222168, \"variable\": \"LW_IN\"}, {\"mean\": 300.9010925292969, \"time\": 94.0, \"std\": 3.0014219284057617, \"variable\": \"LW_IN\"}, {\"mean\": 300.492431640625, \"time\": 95.0, \"std\": 3.0013957023620605, \"variable\": \"LW_IN\"}, {\"mean\": 300.2977294921875, \"time\": 96.0, \"std\": 3.0014119148254395, \"variable\": \"LW_IN\"}, {\"mean\": 301.1882019042969, \"time\": 97.0, \"std\": 3.0014054775238037, \"variable\": \"LW_IN\"}, {\"mean\": 302.76593017578125, \"time\": 98.0, \"std\": 3.0014219284057617, \"variable\": \"LW_IN\"}, {\"mean\": 304.05560302734375, \"time\": 99.0, \"std\": 3.0014841556549072, \"variable\": \"LW_IN\"}, {\"mean\": 304.52325439453125, \"time\": 100.0, \"std\": 3.0013465881347656, \"variable\": \"LW_IN\"}, {\"mean\": 304.3758239746094, \"time\": 101.0, \"std\": 3.0012450218200684, \"variable\": \"LW_IN\"}, {\"mean\": 304.10076904296875, \"time\": 102.0, \"std\": 3.0013792514801025, \"variable\": \"LW_IN\"}, {\"mean\": 303.978759765625, \"time\": 103.0, \"std\": 3.0014774799346924, \"variable\": \"LW_IN\"}, {\"mean\": 304.0586853027344, \"time\": 104.0, \"std\": 3.0015101432800293, \"variable\": \"LW_IN\"}, {\"mean\": 304.34307861328125, \"time\": 105.0, \"std\": 3.00138258934021, \"variable\": \"LW_IN\"}, {\"mean\": 304.7401428222656, \"time\": 106.0, \"std\": 3.001274585723877, \"variable\": \"LW_IN\"}, {\"mean\": 304.8550720214844, \"time\": 107.0, \"std\": 3.001307249069214, \"variable\": \"LW_IN\"}, {\"mean\": 304.11334228515625, \"time\": 108.0, \"std\": 3.0014548301696777, \"variable\": \"LW_IN\"}, {\"mean\": 302.3157043457031, \"time\": 109.0, \"std\": 3.001680850982666, \"variable\": \"LW_IN\"}, {\"mean\": 300.0369873046875, \"time\": 110.0, \"std\": 3.001697063446045, \"variable\": \"LW_IN\"}, {\"mean\": 298.2899475097656, \"time\": 111.0, \"std\": 3.001474142074585, \"variable\": \"LW_IN\"}, {\"mean\": 297.6627197265625, \"time\": 112.0, \"std\": 3.0016512870788574, \"variable\": \"LW_IN\"}, {\"mean\": 297.85809326171875, \"time\": 113.0, \"std\": 3.0015594959259033, \"variable\": \"LW_IN\"}, {\"mean\": 298.0924377441406, \"time\": 114.0, \"std\": 3.001209020614624, \"variable\": \"LW_IN\"}, {\"mean\": 297.89263916015625, \"time\": 115.0, \"std\": 3.001094341278076, \"variable\": \"LW_IN\"}, {\"mean\": 297.4502258300781, \"time\": 116.0, \"std\": 3.0013530254364014, \"variable\": \"LW_IN\"}, {\"mean\": 297.22308349609375, \"time\": 117.0, \"std\": 3.001582384109497, \"variable\": \"LW_IN\"}, {\"mean\": 297.3175354003906, \"time\": 118.0, \"std\": 3.0014808177948, \"variable\": \"LW_IN\"}, {\"mean\": 297.3511047363281, \"time\": 119.0, \"std\": 3.0009829998016357, \"variable\": \"LW_IN\"}, {\"mean\": 296.8577880859375, \"time\": 120.0, \"std\": 3.000776529312134, \"variable\": \"LW_IN\"}, {\"mean\": 295.7080383300781, \"time\": 121.0, \"std\": 3.000878095626831, \"variable\": \"LW_IN\"}, {\"mean\": 294.0494384765625, \"time\": 122.0, \"std\": 3.0014612674713135, \"variable\": \"LW_IN\"}, {\"mean\": 292.0986633300781, \"time\": 123.0, \"std\": 3.0018117427825928, \"variable\": \"LW_IN\"}, {\"mean\": 290.35888671875, \"time\": 124.0, \"std\": 3.00174617767334, \"variable\": \"LW_IN\"}, {\"mean\": 289.9938049316406, \"time\": 125.0, \"std\": 3.001474142074585, \"variable\": \"LW_IN\"}, {\"mean\": 292.4131774902344, \"time\": 126.0, \"std\": 3.0014774799346924, \"variable\": \"LW_IN\"}, {\"mean\": 297.8657531738281, \"time\": 127.0, \"std\": 3.001641273498535, \"variable\": \"LW_IN\"}, {\"mean\": 304.5098876953125, \"time\": 128.0, \"std\": 3.0013630390167236, \"variable\": \"LW_IN\"}, {\"mean\": 309.4431457519531, \"time\": 129.0, \"std\": 3.0011565685272217, \"variable\": \"LW_IN\"}, {\"mean\": 311.1240234375, \"time\": 130.0, \"std\": 3.0016019344329834, \"variable\": \"LW_IN\"}, {\"mean\": 310.61444091796875, \"time\": 131.0, \"std\": 3.001490831375122, \"variable\": \"LW_IN\"}, {\"mean\": 310.34051513671875, \"time\": 132.0, \"std\": 3.0019493103027344, \"variable\": \"LW_IN\"}, {\"mean\": 311.7879638671875, \"time\": 133.0, \"std\": 3.001831293106079, \"variable\": \"LW_IN\"}, {\"mean\": 314.4884948730469, \"time\": 134.0, \"std\": 3.0016183853149414, \"variable\": \"LW_IN\"}, {\"mean\": 316.98626708984375, \"time\": 135.0, \"std\": 3.001251459121704, \"variable\": \"LW_IN\"}, {\"mean\": 318.2725524902344, \"time\": 136.0, \"std\": 3.0012385845184326, \"variable\": \"LW_IN\"}, {\"mean\": 318.1565246582031, \"time\": 137.0, \"std\": 3.00107479095459, \"variable\": \"LW_IN\"}, {\"mean\": 316.82525634765625, \"time\": 138.0, \"std\": 3.0012614727020264, \"variable\": \"LW_IN\"}, {\"mean\": 314.59197998046875, \"time\": 139.0, \"std\": 3.0013926029205322, \"variable\": \"LW_IN\"}, {\"mean\": 312.138916015625, \"time\": 140.0, \"std\": 3.000396490097046, \"variable\": \"LW_IN\"}, {\"mean\": 310.4087219238281, \"time\": 141.0, \"std\": 3.000147581100464, \"variable\": \"LW_IN\"}, {\"mean\": 309.9304504394531, \"time\": 142.0, \"std\": 3.00169038772583, \"variable\": \"LW_IN\"}, {\"mean\": 310.1643371582031, \"time\": 143.0, \"std\": 3.0034189224243164, \"variable\": \"LW_IN\"}, {\"mean\": 309.9449768066406, \"time\": 144.0, \"std\": 3.007200241088867, \"variable\": \"LW_IN\"}, {\"mean\": 308.567138671875, \"time\": 145.0, \"std\": 3.007805109024048, \"variable\": \"LW_IN\"}, {\"mean\": 306.4849548339844, \"time\": 146.0, \"std\": 3.0139918327331543, \"variable\": \"LW_IN\"}, {\"mean\": 304.8158874511719, \"time\": 147.0, \"std\": 3.041630268096924, \"variable\": \"LW_IN\"}, {\"mean\": 304.25604248046875, \"time\": 148.0, \"std\": 3.0419371128082275, \"variable\": \"LW_IN\"}, {\"mean\": 304.5450744628906, \"time\": 149.0, \"std\": 3.4039032459259033, \"variable\": \"LW_IN\"}], \"data-b5c1abed881ac275f3dbf2017cad5046\": [{\"time\": 0.0, \"variable\": \"VPD\", \"value\": 0.222, \"is_missing\": false}, {\"time\": 1.0, \"variable\": \"VPD\", \"value\": 0.122, \"is_missing\": false}, {\"time\": 2.0, \"variable\": \"VPD\", \"value\": 0.09, \"is_missing\": false}, {\"time\": 3.0, \"variable\": \"VPD\", \"value\": 0.11, \"is_missing\": false}, {\"time\": 4.0, \"variable\": \"VPD\", \"value\": 0.102, \"is_missing\": false}, {\"time\": 5.0, \"variable\": \"VPD\", \"value\": 0.111, \"is_missing\": false}, {\"time\": 6.0, \"variable\": \"VPD\", \"value\": 0.109, \"is_missing\": false}, {\"time\": 7.0, \"variable\": \"VPD\", \"value\": 0.107, \"is_missing\": false}, {\"time\": 8.0, \"variable\": \"VPD\", \"value\": 0.122, \"is_missing\": false}, {\"time\": 9.0, \"variable\": \"VPD\", \"value\": 0.138, \"is_missing\": false}, {\"time\": 10.0, \"variable\": \"VPD\", \"value\": 0.138, \"is_missing\": false}, {\"time\": 11.0, \"variable\": \"VPD\", \"value\": 0.122, \"is_missing\": false}, {\"time\": 12.0, \"variable\": \"VPD\", \"value\": 0.098, \"is_missing\": false}, {\"time\": 13.0, \"variable\": \"VPD\", \"value\": 0.066, \"is_missing\": false}, {\"time\": 14.0, \"variable\": \"VPD\", \"value\": 0.044, \"is_missing\": false}, {\"time\": 15.0, \"variable\": \"VPD\", \"value\": 0.026, \"is_missing\": false}, {\"time\": 16.0, \"variable\": \"VPD\", \"value\": 0.016, \"is_missing\": false}, {\"time\": 17.0, \"variable\": \"VPD\", \"value\": 0.01, \"is_missing\": false}, {\"time\": 18.0, \"variable\": \"VPD\", \"value\": 0.006, \"is_missing\": false}, {\"time\": 19.0, \"variable\": \"VPD\", \"value\": 0.006, \"is_missing\": true}, {\"time\": 20.0, \"variable\": \"VPD\", \"value\": 0.006, \"is_missing\": true}, {\"time\": 21.0, \"variable\": \"VPD\", \"value\": 0.011, \"is_missing\": true}, {\"time\": 22.0, \"variable\": \"VPD\", \"value\": 0.019, \"is_missing\": true}, {\"time\": 23.0, \"variable\": \"VPD\", \"value\": 0.014, \"is_missing\": true}, {\"time\": 24.0, \"variable\": \"VPD\", \"value\": 0.008, \"is_missing\": true}, {\"time\": 25.0, \"variable\": \"VPD\", \"value\": 0.006, \"is_missing\": true}, {\"time\": 26.0, \"variable\": \"VPD\", \"value\": 0.0, \"is_missing\": true}, {\"time\": 27.0, \"variable\": \"VPD\", \"value\": 0.0, \"is_missing\": true}, {\"time\": 28.0, \"variable\": \"VPD\", \"value\": 0.0, \"is_missing\": true}, {\"time\": 29.0, \"variable\": \"VPD\", \"value\": 0.0, \"is_missing\": true}, {\"time\": 30.0, \"variable\": \"VPD\", \"value\": 0.0, \"is_missing\": true}, {\"time\": 31.0, \"variable\": \"VPD\", \"value\": 0.0, \"is_missing\": true}, {\"time\": 32.0, \"variable\": \"VPD\", \"value\": 0.0, \"is_missing\": true}, {\"time\": 33.0, \"variable\": \"VPD\", \"value\": 0.0, \"is_missing\": true}, {\"time\": 34.0, \"variable\": \"VPD\", \"value\": 0.0, \"is_missing\": false}, {\"time\": 35.0, \"variable\": \"VPD\", \"value\": 0.0, \"is_missing\": false}, {\"time\": 36.0, \"variable\": \"VPD\", \"value\": 0.0, \"is_missing\": false}, {\"time\": 37.0, \"variable\": \"VPD\", \"value\": 0.002, \"is_missing\": false}, {\"time\": 38.0, \"variable\": \"VPD\", \"value\": 0.009, \"is_missing\": false}, {\"time\": 39.0, \"variable\": \"VPD\", \"value\": 0.014, \"is_missing\": false}, {\"time\": 40.0, \"variable\": \"VPD\", \"value\": 0.014, \"is_missing\": false}, {\"time\": 41.0, \"variable\": \"VPD\", \"value\": 0.038, \"is_missing\": false}, {\"time\": 42.0, \"variable\": \"VPD\", \"value\": 0.079, \"is_missing\": false}, {\"time\": 43.0, \"variable\": \"VPD\", \"value\": 0.257, \"is_missing\": false}, {\"time\": 44.0, \"variable\": \"VPD\", \"value\": 0.388, \"is_missing\": false}, {\"time\": 45.0, \"variable\": \"VPD\", \"value\": 0.555, \"is_missing\": false}, {\"time\": 46.0, \"variable\": \"VPD\", \"value\": 0.452, \"is_missing\": false}, {\"time\": 47.0, \"variable\": \"VPD\", \"value\": 0.435, \"is_missing\": false}, {\"time\": 48.0, \"variable\": \"VPD\", \"value\": 0.248, \"is_missing\": false}, {\"time\": 49.0, \"variable\": \"VPD\", \"value\": 0.234, \"is_missing\": false}, {\"time\": 50.0, \"variable\": \"VPD\", \"value\": 0.377, \"is_missing\": false}, {\"time\": 51.0, \"variable\": \"VPD\", \"value\": 0.414, \"is_missing\": false}, {\"time\": 52.0, \"variable\": \"VPD\", \"value\": 0.356, \"is_missing\": false}, {\"time\": 53.0, \"variable\": \"VPD\", \"value\": 0.205, \"is_missing\": false}, {\"time\": 54.0, \"variable\": \"VPD\", \"value\": 0.188, \"is_missing\": false}, {\"time\": 55.0, \"variable\": \"VPD\", \"value\": 0.232, \"is_missing\": false}, {\"time\": 56.0, \"variable\": \"VPD\", \"value\": 0.27, \"is_missing\": false}, {\"time\": 57.0, \"variable\": \"VPD\", \"value\": 0.273, \"is_missing\": false}, {\"time\": 58.0, \"variable\": \"VPD\", \"value\": 0.225, \"is_missing\": false}, {\"time\": 59.0, \"variable\": \"VPD\", \"value\": 0.123, \"is_missing\": false}, {\"time\": 60.0, \"variable\": \"VPD\", \"value\": 0.053, \"is_missing\": false}, {\"time\": 61.0, \"variable\": \"VPD\", \"value\": 0.026, \"is_missing\": false}, {\"time\": 62.0, \"variable\": \"VPD\", \"value\": 0.013, \"is_missing\": false}, {\"time\": 63.0, \"variable\": \"VPD\", \"value\": 0.017, \"is_missing\": false}, {\"time\": 64.0, \"variable\": \"VPD\", \"value\": 0.18, \"is_missing\": false}, {\"time\": 65.0, \"variable\": \"VPD\", \"value\": 0.162, \"is_missing\": false}, {\"time\": 66.0, \"variable\": \"VPD\", \"value\": 0.177, \"is_missing\": false}, {\"time\": 67.0, \"variable\": \"VPD\", \"value\": 0.181, \"is_missing\": false}, {\"time\": 68.0, \"variable\": \"VPD\", \"value\": 0.188, \"is_missing\": false}, {\"time\": 69.0, \"variable\": \"VPD\", \"value\": 0.276, \"is_missing\": false}, {\"time\": 70.0, \"variable\": \"VPD\", \"value\": 0.309, \"is_missing\": false}, {\"time\": 71.0, \"variable\": \"VPD\", \"value\": 0.346, \"is_missing\": false}, {\"time\": 72.0, \"variable\": \"VPD\", \"value\": 0.297, \"is_missing\": false}, {\"time\": 73.0, \"variable\": \"VPD\", \"value\": 0.349, \"is_missing\": false}, {\"time\": 74.0, \"variable\": \"VPD\", \"value\": 0.362, \"is_missing\": false}, {\"time\": 75.0, \"variable\": \"VPD\", \"value\": 0.381, \"is_missing\": false}, {\"time\": 76.0, \"variable\": \"VPD\", \"value\": 0.369, \"is_missing\": false}, {\"time\": 77.0, \"variable\": \"VPD\", \"value\": 0.24, \"is_missing\": false}, {\"time\": 78.0, \"variable\": \"VPD\", \"value\": 0.111, \"is_missing\": false}, {\"time\": 79.0, \"variable\": \"VPD\", \"value\": 0.062, \"is_missing\": false}, {\"time\": 80.0, \"variable\": \"VPD\", \"value\": 0.044, \"is_missing\": false}, {\"time\": 81.0, \"variable\": \"VPD\", \"value\": 0.034, \"is_missing\": false}, {\"time\": 82.0, \"variable\": \"VPD\", \"value\": 0.032, \"is_missing\": false}, {\"time\": 83.0, \"variable\": \"VPD\", \"value\": 0.055, \"is_missing\": false}, {\"time\": 84.0, \"variable\": \"VPD\", \"value\": 0.125, \"is_missing\": false}, {\"time\": 85.0, \"variable\": \"VPD\", \"value\": 0.128, \"is_missing\": false}, {\"time\": 86.0, \"variable\": \"VPD\", \"value\": 0.201, \"is_missing\": false}, {\"time\": 87.0, \"variable\": \"VPD\", \"value\": 0.174, \"is_missing\": false}, {\"time\": 88.0, \"variable\": \"VPD\", \"value\": 0.154, \"is_missing\": false}, {\"time\": 89.0, \"variable\": \"VPD\", \"value\": 0.177, \"is_missing\": false}, {\"time\": 90.0, \"variable\": \"VPD\", \"value\": 0.192, \"is_missing\": false}, {\"time\": 91.0, \"variable\": \"VPD\", \"value\": 0.149, \"is_missing\": false}, {\"time\": 92.0, \"variable\": \"VPD\", \"value\": 0.112, \"is_missing\": false}, {\"time\": 93.0, \"variable\": \"VPD\", \"value\": 0.075, \"is_missing\": false}, {\"time\": 94.0, \"variable\": \"VPD\", \"value\": 0.038, \"is_missing\": false}, {\"time\": 95.0, \"variable\": \"VPD\", \"value\": 0.021, \"is_missing\": false}, {\"time\": 96.0, \"variable\": \"VPD\", \"value\": 0.013, \"is_missing\": false}, {\"time\": 97.0, \"variable\": \"VPD\", \"value\": 0.004, \"is_missing\": false}, {\"time\": 98.0, \"variable\": \"VPD\", \"value\": 0.0, \"is_missing\": false}, {\"time\": 99.0, \"variable\": \"VPD\", \"value\": 0.0, \"is_missing\": false}, {\"time\": 100.0, \"variable\": \"VPD\", \"value\": 0.0, \"is_missing\": false}, {\"time\": 101.0, \"variable\": \"VPD\", \"value\": 0.0, \"is_missing\": false}, {\"time\": 102.0, \"variable\": \"VPD\", \"value\": 0.0, \"is_missing\": false}, {\"time\": 103.0, \"variable\": \"VPD\", \"value\": 0.0, \"is_missing\": false}, {\"time\": 104.0, \"variable\": \"VPD\", \"value\": 0.0, \"is_missing\": false}, {\"time\": 105.0, \"variable\": \"VPD\", \"value\": 0.0, \"is_missing\": false}, {\"time\": 106.0, \"variable\": \"VPD\", \"value\": 0.009, \"is_missing\": false}, {\"time\": 107.0, \"variable\": \"VPD\", \"value\": 0.061, \"is_missing\": false}, {\"time\": 108.0, \"variable\": \"VPD\", \"value\": 0.174, \"is_missing\": false}, {\"time\": 109.0, \"variable\": \"VPD\", \"value\": 0.208, \"is_missing\": false}, {\"time\": 110.0, \"variable\": \"VPD\", \"value\": 0.294, \"is_missing\": false}, {\"time\": 111.0, \"variable\": \"VPD\", \"value\": 0.37, \"is_missing\": false}, {\"time\": 112.0, \"variable\": \"VPD\", \"value\": 0.478, \"is_missing\": false}, {\"time\": 113.0, \"variable\": \"VPD\", \"value\": 0.557, \"is_missing\": false}, {\"time\": 114.0, \"variable\": \"VPD\", \"value\": 0.617, \"is_missing\": false}, {\"time\": 115.0, \"variable\": \"VPD\", \"value\": 0.656, \"is_missing\": false}, {\"time\": 116.0, \"variable\": \"VPD\", \"value\": 0.654, \"is_missing\": false}, {\"time\": 117.0, \"variable\": \"VPD\", \"value\": 0.704, \"is_missing\": false}, {\"time\": 118.0, \"variable\": \"VPD\", \"value\": 0.838, \"is_missing\": false}, {\"time\": 119.0, \"variable\": \"VPD\", \"value\": 0.914, \"is_missing\": false}, {\"time\": 120.0, \"variable\": \"VPD\", \"value\": 0.818, \"is_missing\": false}, {\"time\": 121.0, \"variable\": \"VPD\", \"value\": 0.728, \"is_missing\": false}, {\"time\": 122.0, \"variable\": \"VPD\", \"value\": 0.749, \"is_missing\": false}, {\"time\": 123.0, \"variable\": \"VPD\", \"value\": 0.773, \"is_missing\": false}, {\"time\": 124.0, \"variable\": \"VPD\", \"value\": 0.787, \"is_missing\": false}, {\"time\": 125.0, \"variable\": \"VPD\", \"value\": 0.759, \"is_missing\": false}, {\"time\": 126.0, \"variable\": \"VPD\", \"value\": 0.723, \"is_missing\": false}, {\"time\": 127.0, \"variable\": \"VPD\", \"value\": 0.671, \"is_missing\": false}, {\"time\": 128.0, \"variable\": \"VPD\", \"value\": 0.657, \"is_missing\": false}, {\"time\": 129.0, \"variable\": \"VPD\", \"value\": 0.641, \"is_missing\": false}, {\"time\": 130.0, \"variable\": \"VPD\", \"value\": 0.559, \"is_missing\": false}, {\"time\": 131.0, \"variable\": \"VPD\", \"value\": 0.452, \"is_missing\": false}, {\"time\": 132.0, \"variable\": \"VPD\", \"value\": 0.389, \"is_missing\": false}, {\"time\": 133.0, \"variable\": \"VPD\", \"value\": 0.412, \"is_missing\": false}, {\"time\": 134.0, \"variable\": \"VPD\", \"value\": 0.429, \"is_missing\": false}, {\"time\": 135.0, \"variable\": \"VPD\", \"value\": 0.449, \"is_missing\": false}, {\"time\": 136.0, \"variable\": \"VPD\", \"value\": 0.471, \"is_missing\": false}, {\"time\": 137.0, \"variable\": \"VPD\", \"value\": 0.434, \"is_missing\": false}, {\"time\": 138.0, \"variable\": \"VPD\", \"value\": 0.432, \"is_missing\": false}, {\"time\": 139.0, \"variable\": \"VPD\", \"value\": 0.409, \"is_missing\": false}, {\"time\": 140.0, \"variable\": \"VPD\", \"value\": 0.417, \"is_missing\": false}, {\"time\": 141.0, \"variable\": \"VPD\", \"value\": 0.432, \"is_missing\": false}, {\"time\": 142.0, \"variable\": \"VPD\", \"value\": 0.441, \"is_missing\": false}, {\"time\": 143.0, \"variable\": \"VPD\", \"value\": 0.467, \"is_missing\": false}, {\"time\": 144.0, \"variable\": \"VPD\", \"value\": 0.459, \"is_missing\": false}, {\"time\": 145.0, \"variable\": \"VPD\", \"value\": 0.545, \"is_missing\": false}, {\"time\": 146.0, \"variable\": \"VPD\", \"value\": 0.7, \"is_missing\": false}, {\"time\": 147.0, \"variable\": \"VPD\", \"value\": 0.813, \"is_missing\": false}, {\"time\": 148.0, \"variable\": \"VPD\", \"value\": 0.952, \"is_missing\": false}, {\"time\": 149.0, \"variable\": \"VPD\", \"value\": 0.971, \"is_missing\": false}], \"data-374e52320d9722cd31607a433f252d50\": [{\"mean\": 0.2140761762857437, \"time\": 0.0, \"std\": 0.028113601729273796, \"variable\": \"VPD\"}, {\"mean\": 0.13212710618972778, \"time\": 1.0, \"std\": 0.025432569906115532, \"variable\": \"VPD\"}, {\"mean\": 0.09500931203365326, \"time\": 2.0, \"std\": 0.02502947859466076, \"variable\": \"VPD\"}, {\"mean\": 0.09692183136940002, \"time\": 3.0, \"std\": 0.024813733994960785, \"variable\": \"VPD\"}, {\"mean\": 0.1091659665107727, \"time\": 4.0, \"std\": 0.02478817291557789, \"variable\": \"VPD\"}, {\"mean\": 0.11138790845870972, \"time\": 5.0, \"std\": 0.024763453751802444, \"variable\": \"VPD\"}, {\"mean\": 0.1070740818977356, \"time\": 6.0, \"std\": 0.024748913943767548, \"variable\": \"VPD\"}, {\"mean\": 0.10942308604717255, \"time\": 7.0, \"std\": 0.02472597546875477, \"variable\": \"VPD\"}, {\"mean\": 0.1223752349615097, \"time\": 8.0, \"std\": 0.024740057066082954, \"variable\": \"VPD\"}, {\"mean\": 0.13631859421730042, \"time\": 9.0, \"std\": 0.024706026539206505, \"variable\": \"VPD\"}, {\"mean\": 0.13846845924854279, \"time\": 10.0, \"std\": 0.02472265250980854, \"variable\": \"VPD\"}, {\"mean\": 0.12354812026023865, \"time\": 11.0, \"std\": 0.024741165339946747, \"variable\": \"VPD\"}, {\"mean\": 0.09647221863269806, \"time\": 12.0, \"std\": 0.024731988087296486, \"variable\": \"VPD\"}, {\"mean\": 0.06724700331687927, \"time\": 13.0, \"std\": 0.024716952815651894, \"variable\": \"VPD\"}, {\"mean\": 0.04383273422718048, \"time\": 14.0, \"std\": 0.024781620129942894, \"variable\": \"VPD\"}, {\"mean\": 0.027728021144866943, \"time\": 15.0, \"std\": 0.02484903484582901, \"variable\": \"VPD\"}, {\"mean\": 0.015840888023376465, \"time\": 16.0, \"std\": 0.02504112385213375, \"variable\": \"VPD\"}, {\"mean\": 0.007578432559967041, \"time\": 17.0, \"std\": 0.02541179023683071, \"variable\": \"VPD\"}, {\"mean\": 0.009645998477935791, \"time\": 18.0, \"std\": 0.02811659500002861, \"variable\": \"VPD\"}, {\"mean\": 0.031737521290779114, \"time\": 19.0, \"std\": 0.05762192979454994, \"variable\": \"VPD\"}, {\"mean\": 0.07633675634860992, \"time\": 20.0, \"std\": 0.1106782779097557, \"variable\": \"VPD\"}, {\"mean\": 0.13426251709461212, \"time\": 21.0, \"std\": 0.16338856518268585, \"variable\": \"VPD\"}, {\"mean\": 0.19036374986171722, \"time\": 22.0, \"std\": 0.19998688995838165, \"variable\": \"VPD\"}, {\"mean\": 0.23316320776939392, \"time\": 23.0, \"std\": 0.21831393241882324, \"variable\": \"VPD\"}, {\"mean\": 0.25949737429618835, \"time\": 24.0, \"std\": 0.22488707304000854, \"variable\": \"VPD\"}, {\"mean\": 0.27234506607055664, \"time\": 25.0, \"std\": 0.22655358910560608, \"variable\": \"VPD\"}, {\"mean\": 0.27586331963539124, \"time\": 26.0, \"std\": 0.22681468725204468, \"variable\": \"VPD\"}, {\"mean\": 0.27170148491859436, \"time\": 27.0, \"std\": 0.2265532910823822, \"variable\": \"VPD\"}, {\"mean\": 0.25781676173210144, \"time\": 28.0, \"std\": 0.22488529980182648, \"variable\": \"VPD\"}, {\"mean\": 0.22986309230327606, \"time\": 29.0, \"std\": 0.21830648183822632, \"variable\": \"VPD\"}, {\"mean\": 0.1851874589920044, \"time\": 30.0, \"std\": 0.1999683678150177, \"variable\": \"VPD\"}, {\"mean\": 0.12788155674934387, \"time\": 31.0, \"std\": 0.16335582733154297, \"variable\": \"VPD\"}, {\"mean\": 0.07024183869361877, \"time\": 32.0, \"std\": 0.11064142733812332, \"variable\": \"VPD\"}, {\"mean\": 0.02673080563545227, \"time\": 33.0, \"std\": 0.05760280787944794, \"variable\": \"VPD\"}, {\"mean\": 0.003998279571533203, \"time\": 34.0, \"std\": 0.028116244822740555, \"variable\": \"VPD\"}, {\"mean\": -0.0025280416011810303, \"time\": 35.0, \"std\": 0.02542394958436489, \"variable\": \"VPD\"}, {\"mean\": -0.0011611878871917725, \"time\": 36.0, \"std\": 0.02504573203623295, \"variable\": \"VPD\"}, {\"mean\": 0.0040318965911865234, \"time\": 37.0, \"std\": 0.0248431283980608, \"variable\": \"VPD\"}, {\"mean\": 0.0109483003616333, \"time\": 38.0, \"std\": 0.02478840947151184, \"variable\": \"VPD\"}, {\"mean\": 0.014229238033294678, \"time\": 39.0, \"std\": 0.024746304377913475, \"variable\": \"VPD\"}, {\"mean\": 0.013413190841674805, \"time\": 40.0, \"std\": 0.024733571335673332, \"variable\": \"VPD\"}, {\"mean\": 0.02920594811439514, \"time\": 41.0, \"std\": 0.024715133011341095, \"variable\": \"VPD\"}, {\"mean\": 0.09883075952529907, \"time\": 42.0, \"std\": 0.02472803182899952, \"variable\": \"VPD\"}, {\"mean\": 0.2393559366464615, \"time\": 43.0, \"std\": 0.024721624329686165, \"variable\": \"VPD\"}, {\"mean\": 0.4094071388244629, \"time\": 44.0, \"std\": 0.02471204474568367, \"variable\": \"VPD\"}, {\"mean\": 0.5194905400276184, \"time\": 45.0, \"std\": 0.024708718061447144, \"variable\": \"VPD\"}, {\"mean\": 0.5005626678466797, \"time\": 46.0, \"std\": 0.02470911480486393, \"variable\": \"VPD\"}, {\"mean\": 0.3784390091896057, \"time\": 47.0, \"std\": 0.024713389575481415, \"variable\": \"VPD\"}, {\"mean\": 0.26833558082580566, \"time\": 48.0, \"std\": 0.024714261293411255, \"variable\": \"VPD\"}, {\"mean\": 0.26823052763938904, \"time\": 49.0, \"std\": 0.0247114896774292, \"variable\": \"VPD\"}, {\"mean\": 0.3530803620815277, \"time\": 50.0, \"std\": 0.024712519720196724, \"variable\": \"VPD\"}, {\"mean\": 0.4030612111091614, \"time\": 51.0, \"std\": 0.024708956480026245, \"variable\": \"VPD\"}, {\"mean\": 0.34546229243278503, \"time\": 52.0, \"std\": 0.024706263095140457, \"variable\": \"VPD\"}, {\"mean\": 0.23653201758861542, \"time\": 53.0, \"std\": 0.02470935322344303, \"variable\": \"VPD\"}, {\"mean\": 0.1839216649532318, \"time\": 54.0, \"std\": 0.024712124839425087, \"variable\": \"VPD\"}, {\"mean\": 0.21821719408035278, \"time\": 55.0, \"std\": 0.024712756276130676, \"variable\": \"VPD\"}, {\"mean\": 0.2734835743904114, \"time\": 56.0, \"std\": 0.024713311344385147, \"variable\": \"VPD\"}, {\"mean\": 0.27654939889907837, \"time\": 57.0, \"std\": 0.024714341387152672, \"variable\": \"VPD\"}, {\"mean\": 0.21740935742855072, \"time\": 58.0, \"std\": 0.024714894592761993, \"variable\": \"VPD\"}, {\"mean\": 0.13269315659999847, \"time\": 59.0, \"std\": 0.02471267804503441, \"variable\": \"VPD\"}, {\"mean\": 0.05693291127681732, \"time\": 60.0, \"std\": 0.024711014702916145, \"variable\": \"VPD\"}, {\"mean\": 0.010091453790664673, \"time\": 61.0, \"std\": 0.024710936471819878, \"variable\": \"VPD\"}, {\"mean\": 0.009653836488723755, \"time\": 62.0, \"std\": 0.024710778146982193, \"variable\": \"VPD\"}, {\"mean\": 0.06060877442359924, \"time\": 63.0, \"std\": 0.0247114896774292, \"variable\": \"VPD\"}, {\"mean\": 0.13303831219673157, \"time\": 64.0, \"std\": 0.02471228316426277, \"variable\": \"VPD\"}, {\"mean\": 0.17819979786872864, \"time\": 65.0, \"std\": 0.024711567908525467, \"variable\": \"VPD\"}, {\"mean\": 0.17983394861221313, \"time\": 66.0, \"std\": 0.024711094796657562, \"variable\": \"VPD\"}, {\"mean\": 0.17352280020713806, \"time\": 67.0, \"std\": 0.024711649864912033, \"variable\": \"VPD\"}, {\"mean\": 0.20239922404289246, \"time\": 68.0, \"std\": 0.024711886420845985, \"variable\": \"VPD\"}, {\"mean\": 0.26424944400787354, \"time\": 69.0, \"std\": 0.024711649864912033, \"variable\": \"VPD\"}, {\"mean\": 0.31631922721862793, \"time\": 70.0, \"std\": 0.02471204474568367, \"variable\": \"VPD\"}, {\"mean\": 0.3290358781814575, \"time\": 71.0, \"std\": 0.02471236139535904, \"variable\": \"VPD\"}, {\"mean\": 0.3206373155117035, \"time\": 72.0, \"std\": 0.02471228316426277, \"variable\": \"VPD\"}, {\"mean\": 0.33142152428627014, \"time\": 73.0, \"std\": 0.02471204474568367, \"variable\": \"VPD\"}, {\"mean\": 0.36907249689102173, \"time\": 74.0, \"std\": 0.024711808189749718, \"variable\": \"VPD\"}, {\"mean\": 0.39089518785476685, \"time\": 75.0, \"std\": 0.024712124839425087, \"variable\": \"VPD\"}, {\"mean\": 0.3477824628353119, \"time\": 76.0, \"std\": 0.024712124839425087, \"variable\": \"VPD\"}, {\"mean\": 0.24171751737594604, \"time\": 77.0, \"std\": 0.02471204474568367, \"variable\": \"VPD\"}, {\"mean\": 0.127960205078125, \"time\": 78.0, \"std\": 0.024711886420845985, \"variable\": \"VPD\"}, {\"mean\": 0.05839270353317261, \"time\": 79.0, \"std\": 0.024711886420845985, \"variable\": \"VPD\"}, {\"mean\": 0.036255642771720886, \"time\": 80.0, \"std\": 0.02471204474568367, \"variable\": \"VPD\"}, {\"mean\": 0.033750370144844055, \"time\": 81.0, \"std\": 0.024711886420845985, \"variable\": \"VPD\"}, {\"mean\": 0.03802235424518585, \"time\": 82.0, \"std\": 0.024711567908525467, \"variable\": \"VPD\"}, {\"mean\": 0.06071116030216217, \"time\": 83.0, \"std\": 0.0247117280960083, \"variable\": \"VPD\"}, {\"mean\": 0.10682624578475952, \"time\": 84.0, \"std\": 0.024711966514587402, \"variable\": \"VPD\"}, {\"mean\": 0.15486815571784973, \"time\": 85.0, \"std\": 0.024711966514587402, \"variable\": \"VPD\"}, {\"mean\": 0.17785978317260742, \"time\": 86.0, \"std\": 0.02471228316426277, \"variable\": \"VPD\"}, {\"mean\": 0.17496144771575928, \"time\": 87.0, \"std\": 0.024712203070521355, \"variable\": \"VPD\"}, {\"mean\": 0.16932560503482819, \"time\": 88.0, \"std\": 0.024712519720196724, \"variable\": \"VPD\"}, {\"mean\": 0.1748034805059433, \"time\": 89.0, \"std\": 0.024712836369872093, \"variable\": \"VPD\"}, {\"mean\": 0.17780712246894836, \"time\": 90.0, \"std\": 0.024711808189749718, \"variable\": \"VPD\"}, {\"mean\": 0.15780965983867645, \"time\": 91.0, \"std\": 0.024710223078727722, \"variable\": \"VPD\"}, {\"mean\": 0.11543947458267212, \"time\": 92.0, \"std\": 0.0247096698731184, \"variable\": \"VPD\"}, {\"mean\": 0.07069338858127594, \"time\": 93.0, \"std\": 0.024710223078727722, \"variable\": \"VPD\"}, {\"mean\": 0.03954194486141205, \"time\": 94.0, \"std\": 0.024710698053240776, \"variable\": \"VPD\"}, {\"mean\": 0.0222109854221344, \"time\": 95.0, \"std\": 0.02471053972840309, \"variable\": \"VPD\"}, {\"mean\": 0.011805623769760132, \"time\": 96.0, \"std\": 0.024708956480026245, \"variable\": \"VPD\"}, {\"mean\": 0.004924952983856201, \"time\": 97.0, \"std\": 0.02470974810421467, \"variable\": \"VPD\"}, {\"mean\": 0.0014459192752838135, \"time\": 98.0, \"std\": 0.0247094314545393, \"variable\": \"VPD\"}, {\"mean\": 8.130073547363281e-05, \"time\": 99.0, \"std\": 0.02471386454999447, \"variable\": \"VPD\"}, {\"mean\": -0.000836104154586792, \"time\": 100.0, \"std\": 0.024715369567275047, \"variable\": \"VPD\"}, {\"mean\": -0.00033029913902282715, \"time\": 101.0, \"std\": 0.024709511548280716, \"variable\": \"VPD\"}, {\"mean\": 0.002328425645828247, \"time\": 102.0, \"std\": 0.024710936471819878, \"variable\": \"VPD\"}, {\"mean\": 0.00271683931350708, \"time\": 103.0, \"std\": 0.024715764448046684, \"variable\": \"VPD\"}, {\"mean\": -0.0030317604541778564, \"time\": 104.0, \"std\": 0.02471592277288437, \"variable\": \"VPD\"}, {\"mean\": -0.0054216086864471436, \"time\": 105.0, \"std\": 0.024718139320611954, \"variable\": \"VPD\"}, {\"mean\": 0.016501009464263916, \"time\": 106.0, \"std\": 0.024720514193177223, \"variable\": \"VPD\"}, {\"mean\": 0.07295370101928711, \"time\": 107.0, \"std\": 0.024720435962080956, \"variable\": \"VPD\"}, {\"mean\": 0.1495153158903122, \"time\": 108.0, \"std\": 0.02471821941435337, \"variable\": \"VPD\"}, {\"mean\": 0.22337044775485992, \"time\": 109.0, \"std\": 0.024715686216950417, \"variable\": \"VPD\"}, {\"mean\": 0.2915341258049011, \"time\": 110.0, \"std\": 0.0247137863188982, \"variable\": \"VPD\"}, {\"mean\": 0.371163547039032, \"time\": 111.0, \"std\": 0.024708401411771774, \"variable\": \"VPD\"}, {\"mean\": 0.4706711769104004, \"time\": 112.0, \"std\": 0.0247073732316494, \"variable\": \"VPD\"}, {\"mean\": 0.5661879777908325, \"time\": 113.0, \"std\": 0.024709589779376984, \"variable\": \"VPD\"}, {\"mean\": 0.6207907795906067, \"time\": 114.0, \"std\": 0.024710698053240776, \"variable\": \"VPD\"}, {\"mean\": 0.6337082386016846, \"time\": 115.0, \"std\": 0.024715133011341095, \"variable\": \"VPD\"}, {\"mean\": 0.6559251546859741, \"time\": 116.0, \"std\": 0.024719880893826485, \"variable\": \"VPD\"}, {\"mean\": 0.7325218915939331, \"time\": 117.0, \"std\": 0.024700086563825607, \"variable\": \"VPD\"}, {\"mean\": 0.8332862257957458, \"time\": 118.0, \"std\": 0.024692878127098083, \"variable\": \"VPD\"}, {\"mean\": 0.8762921094894409, \"time\": 119.0, \"std\": 0.024705393239855766, \"variable\": \"VPD\"}, {\"mean\": 0.8294165730476379, \"time\": 120.0, \"std\": 0.02470436319708824, \"variable\": \"VPD\"}, {\"mean\": 0.755153238773346, \"time\": 121.0, \"std\": 0.024713311344385147, \"variable\": \"VPD\"}, {\"mean\": 0.7329400777816772, \"time\": 122.0, \"std\": 0.024714261293411255, \"variable\": \"VPD\"}, {\"mean\": 0.7651896476745605, \"time\": 123.0, \"std\": 0.02470650151371956, \"variable\": \"VPD\"}, {\"mean\": 0.7892884016036987, \"time\": 124.0, \"std\": 0.024709034711122513, \"variable\": \"VPD\"}, {\"mean\": 0.7642868757247925, \"time\": 125.0, \"std\": 0.024715606123209, \"variable\": \"VPD\"}, {\"mean\": 0.7127687931060791, \"time\": 126.0, \"std\": 0.0247158445417881, \"variable\": \"VPD\"}, {\"mean\": 0.6778978109359741, \"time\": 127.0, \"std\": 0.02470436319708824, \"variable\": \"VPD\"}, {\"mean\": 0.6629323959350586, \"time\": 128.0, \"std\": 0.024703966453671455, \"variable\": \"VPD\"}, {\"mean\": 0.6297630667686462, \"time\": 129.0, \"std\": 0.024708956480026245, \"variable\": \"VPD\"}, {\"mean\": 0.5532557964324951, \"time\": 130.0, \"std\": 0.024691926315426826, \"variable\": \"VPD\"}, {\"mean\": 0.4593571722507477, \"time\": 131.0, \"std\": 0.024694222956895828, \"variable\": \"VPD\"}, {\"mean\": 0.39975160360336304, \"time\": 132.0, \"std\": 0.024686774238944054, \"variable\": \"VPD\"}, {\"mean\": 0.39760005474090576, \"time\": 133.0, \"std\": 0.024682415649294853, \"variable\": \"VPD\"}, {\"mean\": 0.4296385645866394, \"time\": 134.0, \"std\": 0.024698976427316666, \"variable\": \"VPD\"}, {\"mean\": 0.45704934000968933, \"time\": 135.0, \"std\": 0.02470879815518856, \"variable\": \"VPD\"}, {\"mean\": 0.4604019820690155, \"time\": 136.0, \"std\": 0.024714261293411255, \"variable\": \"VPD\"}, {\"mean\": 0.44422417879104614, \"time\": 137.0, \"std\": 0.024716874584555626, \"variable\": \"VPD\"}, {\"mean\": 0.4232311546802521, \"time\": 138.0, \"std\": 0.024683764204382896, \"variable\": \"VPD\"}, {\"mean\": 0.41210663318634033, \"time\": 139.0, \"std\": 0.02469152957201004, \"variable\": \"VPD\"}, {\"mean\": 0.417408287525177, \"time\": 140.0, \"std\": 0.0247199609875679, \"variable\": \"VPD\"}, {\"mean\": 0.43286001682281494, \"time\": 141.0, \"std\": 0.02475246973335743, \"variable\": \"VPD\"}, {\"mean\": 0.4441855251789093, \"time\": 142.0, \"std\": 0.024756738916039467, \"variable\": \"VPD\"}, {\"mean\": 0.45013800263404846, \"time\": 143.0, \"std\": 0.02475515753030777, \"variable\": \"VPD\"}, {\"mean\": 0.474680632352829, \"time\": 144.0, \"std\": 0.024746382609009743, \"variable\": \"VPD\"}, {\"mean\": 0.5494910478591919, \"time\": 145.0, \"std\": 0.024824297055602074, \"variable\": \"VPD\"}, {\"mean\": 0.6802231073379517, \"time\": 146.0, \"std\": 0.02487744390964508, \"variable\": \"VPD\"}, {\"mean\": 0.8306937217712402, \"time\": 147.0, \"std\": 0.025051748380064964, \"variable\": \"VPD\"}, {\"mean\": 0.9426717162132263, \"time\": 148.0, \"std\": 0.02541179023683071, \"variable\": \"VPD\"}, {\"mean\": 0.9683214426040649, \"time\": 149.0, \"std\": 0.028101766481995583, \"variable\": \"VPD\"}]}}, {\"mode\": \"vega-lite\"});\n",
       "</script>"
      ],
      "text/plain": [
       "alt.VConcatChart(...)"
      ]
     },
     "metadata": {},
     "output_type": "display_data"
    },
    {
     "data": {
      "text/html": [
       "<div style=\"display: flex; gap: 20px;\"> <div> <p style='font-size: 1.3rem; font-decoration: bold'>r2<p> <style type=\"text/css\">\n",
       "</style>\n",
       "<table id=\"T_867ab\">\n",
       "  <thead>\n",
       "    <tr>\n",
       "      <th id=\"T_867ab_level0_col0\" class=\"col_heading level0 col0\" >variable</th>\n",
       "      <th id=\"T_867ab_level0_col1\" class=\"col_heading level0 col1\" >r2</th>\n",
       "    </tr>\n",
       "  </thead>\n",
       "  <tbody>\n",
       "    <tr>\n",
       "      <td id=\"T_867ab_row0_col0\" class=\"data row0 col0\" >TA</td>\n",
       "      <td id=\"T_867ab_row0_col1\" class=\"data row0 col1\" >-8.4622</td>\n",
       "    </tr>\n",
       "    <tr>\n",
       "      <td id=\"T_867ab_row1_col0\" class=\"data row1 col0\" >SW_IN</td>\n",
       "      <td id=\"T_867ab_row1_col1\" class=\"data row1 col1\" >0.1705</td>\n",
       "    </tr>\n",
       "    <tr>\n",
       "      <td id=\"T_867ab_row2_col0\" class=\"data row2 col0\" >LW_IN</td>\n",
       "      <td id=\"T_867ab_row2_col1\" class=\"data row2 col1\" >-37.5523</td>\n",
       "    </tr>\n",
       "    <tr>\n",
       "      <td id=\"T_867ab_row3_col0\" class=\"data row3 col0\" >VPD</td>\n",
       "      <td id=\"T_867ab_row3_col1\" class=\"data row3 col1\" >-1065.0841</td>\n",
       "    </tr>\n",
       "  </tbody>\n",
       "</table>\n",
       " </div></div>"
      ],
      "text/plain": [
       "<IPython.core.display.HTML object>"
      ]
     },
     "metadata": {},
     "output_type": "display_data"
    }
   ],
   "source": [
    "res_c_gaps.display_results(plot_args = {'bind_interaction': False})"
   ]
  },
  {
   "cell_type": "markdown",
   "id": "9824deb4-bf2b-4de7-970b-b0daabe433bd",
   "metadata": {},
   "source": [
    "## Second Test\n",
    "\n",
    "try with a different random seed"
   ]
  },
  {
   "cell_type": "code",
   "execution_count": null,
   "id": "009c8668-e163-407b-a772-e0ca960f642e",
   "metadata": {},
   "outputs": [],
   "source": [
    "reset_seed(101)\n",
    "data_r_gaps = GPFADataTest(hai[:150]).add_random_missing()\n",
    "data_c_gaps = GPFADataTest(hai[:150]).add_gap(15, meteo_vars.values())"
   ]
  },
  {
   "cell_type": "markdown",
   "id": "6ede57ee-9370-4be4-9c2c-23c711e605b3",
   "metadata": {},
   "source": [
    "### Random gaps"
   ]
  },
  {
   "cell_type": "code",
   "execution_count": null,
   "id": "3a207146-2b34-420f-a1fd-e69d8a1756a6",
   "metadata": {},
   "outputs": [
    {
     "data": {
      "application/vnd.jupyter.widget-view+json": {
       "model_id": "9c46720b4c6d42069c4f79adab8a8aca",
       "version_major": 2,
       "version_minor": 0
      },
      "text/plain": [
       "  0%|          | 0/100 [00:00<?, ?it/s]"
      ]
     },
     "metadata": {},
     "output_type": "display_data"
    },
    {
     "data": {
      "application/vnd.jupyter.widget-view+json": {
       "model_id": "124503bedc564b4d82ea407d4cb3521d",
       "version_major": 2,
       "version_minor": 0
      },
      "text/plain": [
       "  0%|          | 0/100 [00:00<?, ?it/s]"
      ]
     },
     "metadata": {},
     "output_type": "display_data"
    },
    {
     "data": {
      "application/vnd.jupyter.widget-view+json": {
       "model_id": "aff056eddf7f41a3b99c767db141206c",
       "version_major": 2,
       "version_minor": 0
      },
      "text/plain": [
       "  0%|          | 0/100 [00:00<?, ?it/s]"
      ]
     },
     "metadata": {},
     "output_type": "display_data"
    },
    {
     "data": {
      "application/vnd.jupyter.widget-view+json": {
       "model_id": "f780fbef1887475298772f57b4aa0b34",
       "version_major": 2,
       "version_minor": 0
      },
      "text/plain": [
       "  0%|          | 0/100 [00:00<?, ?it/s]"
      ]
     },
     "metadata": {},
     "output_type": "display_data"
    }
   ],
   "source": [
    "res_r_gaps = SimpleGPImputationExplorer(data_r_gaps.data).fit().to_result(data_r_gaps.data_compl_tidy, units=units)"
   ]
  },
  {
   "cell_type": "code",
   "execution_count": null,
   "id": "581ebbc3-035e-453d-bc4f-be11cc1fa565",
   "metadata": {},
   "outputs": [
    {
     "name": "stderr",
     "output_type": "stream",
     "text": [
      "/home/simone/.local/lib/python3.10/site-packages/altair/utils/core.py:317: FutureWarning: iteritems is deprecated and will be removed in a future version. Use .items instead.\n",
      "  for col_name, dtype in df.dtypes.iteritems():\n"
     ]
    },
    {
     "data": {
      "text/html": [
       "\n",
       "<div id=\"altair-viz-f1fbf383d3c84a549e332325efdcbba8\"></div>\n",
       "<script type=\"text/javascript\">\n",
       "  var VEGA_DEBUG = (typeof VEGA_DEBUG == \"undefined\") ? {} : VEGA_DEBUG;\n",
       "  (function(spec, embedOpt){\n",
       "    let outputDiv = document.currentScript.previousElementSibling;\n",
       "    if (outputDiv.id !== \"altair-viz-f1fbf383d3c84a549e332325efdcbba8\") {\n",
       "      outputDiv = document.getElementById(\"altair-viz-f1fbf383d3c84a549e332325efdcbba8\");\n",
       "    }\n",
       "    const paths = {\n",
       "      \"vega\": \"https://cdn.jsdelivr.net/npm//vega@5?noext\",\n",
       "      \"vega-lib\": \"https://cdn.jsdelivr.net/npm//vega-lib?noext\",\n",
       "      \"vega-lite\": \"https://cdn.jsdelivr.net/npm//vega-lite@4.17.0?noext\",\n",
       "      \"vega-embed\": \"https://cdn.jsdelivr.net/npm//vega-embed@6?noext\",\n",
       "    };\n",
       "\n",
       "    function maybeLoadScript(lib, version) {\n",
       "      var key = `${lib.replace(\"-\", \"\")}_version`;\n",
       "      return (VEGA_DEBUG[key] == version) ?\n",
       "        Promise.resolve(paths[lib]) :\n",
       "        new Promise(function(resolve, reject) {\n",
       "          var s = document.createElement('script');\n",
       "          document.getElementsByTagName(\"head\")[0].appendChild(s);\n",
       "          s.async = true;\n",
       "          s.onload = () => {\n",
       "            VEGA_DEBUG[key] = version;\n",
       "            return resolve(paths[lib]);\n",
       "          };\n",
       "          s.onerror = () => reject(`Error loading script: ${paths[lib]}`);\n",
       "          s.src = paths[lib];\n",
       "        });\n",
       "    }\n",
       "\n",
       "    function showError(err) {\n",
       "      outputDiv.innerHTML = `<div class=\"error\" style=\"color:red;\">${err}</div>`;\n",
       "      throw err;\n",
       "    }\n",
       "\n",
       "    function displayChart(vegaEmbed) {\n",
       "      vegaEmbed(outputDiv, spec, embedOpt)\n",
       "        .catch(err => showError(`Javascript Error: ${err.message}<br>This usually means there's a typo in your chart specification. See the javascript console for the full traceback.`));\n",
       "    }\n",
       "\n",
       "    if(typeof define === \"function\" && define.amd) {\n",
       "      requirejs.config({paths});\n",
       "      require([\"vega-embed\"], displayChart, err => showError(`Error loading script: ${err.message}`));\n",
       "    } else {\n",
       "      maybeLoadScript(\"vega\", \"5\")\n",
       "        .then(() => maybeLoadScript(\"vega-lite\", \"4.17.0\"))\n",
       "        .then(() => maybeLoadScript(\"vega-embed\", \"6\"))\n",
       "        .catch(showError)\n",
       "        .then(() => displayChart(vegaEmbed));\n",
       "    }\n",
       "  })({\"config\": {\"view\": {\"continuousWidth\": 400, \"continuousHeight\": 300}}, \"vconcat\": [{\"hconcat\": [{\"layer\": [{\"data\": {\"name\": \"data-efc4b1b421b802feab2dff8a53bfa945\"}, \"mark\": {\"type\": \"point\", \"color\": \"black\", \"fillOpacity\": 1, \"strokeWidth\": 1}, \"encoding\": {\"fill\": {\"field\": \"is_missing\", \"legend\": {\"title\": [\"Observed data\", \"(is missing)\"]}, \"scale\": {\"range\": [\"#ffffff00\", \"black\"]}, \"type\": \"nominal\"}, \"shape\": {\"field\": \"is_missing\", \"type\": \"nominal\"}, \"x\": {\"field\": \"time\", \"type\": \"quantitative\"}, \"y\": {\"field\": \"value\", \"scale\": {\"zero\": false}, \"title\": \"TA [\\u00b0C]\", \"type\": \"quantitative\"}}}, {\"layer\": [{\"mark\": \"errorband\", \"encoding\": {\"color\": {\"field\": \"variable\", \"legend\": {\"title\": [\"Line: pred. mean\", \"area: +/- 2 std\", \"(variable)\"]}, \"type\": \"nominal\"}, \"tooltip\": [{\"field\": \"std\", \"format\": \".4\", \"type\": \"quantitative\"}, {\"field\": \"mean\", \"format\": \".4\", \"type\": \"quantitative\"}], \"x\": {\"field\": \"time\", \"type\": \"quantitative\"}, \"y\": {\"field\": \"err_low\", \"scale\": {\"zero\": false}, \"title\": \"TA [\\u00b0C]\", \"type\": \"quantitative\"}, \"y2\": {\"field\": \"err_high\"}}, \"height\": 150, \"transform\": [{\"calculate\": \"datum.mean - 2 * datum.std\", \"as\": \"err_low\"}, {\"calculate\": \"datum.mean + 2 * datum.std\", \"as\": \"err_high\"}], \"width\": 300}, {\"mark\": \"line\", \"encoding\": {\"color\": {\"field\": \"variable\", \"type\": \"nominal\"}, \"x\": {\"field\": \"time\", \"type\": \"quantitative\"}, \"y\": {\"field\": \"mean\", \"scale\": {\"zero\": false}, \"title\": \"TA [\\u00b0C]\", \"type\": \"quantitative\"}}, \"selection\": {\"selector021\": {\"type\": \"interval\", \"bind\": \"scales\"}}, \"title\": \"TA\"}], \"data\": {\"name\": \"data-5e27060441a2f486d9826e821bdd7335\"}}]}, {\"layer\": [{\"data\": {\"name\": \"data-6399bdb169b57f1c09a65317abb44b69\"}, \"mark\": {\"type\": \"point\", \"color\": \"black\", \"fillOpacity\": 1, \"strokeWidth\": 1}, \"encoding\": {\"fill\": {\"field\": \"is_missing\", \"legend\": {\"title\": [\"Observed data\", \"(is missing)\"]}, \"scale\": {\"range\": [\"#ffffff00\", \"black\"]}, \"type\": \"nominal\"}, \"shape\": {\"field\": \"is_missing\", \"type\": \"nominal\"}, \"x\": {\"field\": \"time\", \"type\": \"quantitative\"}, \"y\": {\"field\": \"value\", \"scale\": {\"zero\": false}, \"title\": \"SW_IN [W m-2]\", \"type\": \"quantitative\"}}}, {\"layer\": [{\"mark\": \"errorband\", \"encoding\": {\"color\": {\"field\": \"variable\", \"legend\": {\"title\": [\"Line: pred. mean\", \"area: +/- 2 std\", \"(variable)\"]}, \"type\": \"nominal\"}, \"tooltip\": [{\"field\": \"std\", \"format\": \".4\", \"type\": \"quantitative\"}, {\"field\": \"mean\", \"format\": \".4\", \"type\": \"quantitative\"}], \"x\": {\"field\": \"time\", \"type\": \"quantitative\"}, \"y\": {\"field\": \"err_low\", \"scale\": {\"zero\": false}, \"title\": \"SW_IN [W m-2]\", \"type\": \"quantitative\"}, \"y2\": {\"field\": \"err_high\"}}, \"height\": 150, \"transform\": [{\"calculate\": \"datum.mean - 2 * datum.std\", \"as\": \"err_low\"}, {\"calculate\": \"datum.mean + 2 * datum.std\", \"as\": \"err_high\"}], \"width\": 300}, {\"mark\": \"line\", \"encoding\": {\"color\": {\"field\": \"variable\", \"type\": \"nominal\"}, \"x\": {\"field\": \"time\", \"type\": \"quantitative\"}, \"y\": {\"field\": \"mean\", \"scale\": {\"zero\": false}, \"title\": \"SW_IN [W m-2]\", \"type\": \"quantitative\"}}, \"selection\": {\"selector022\": {\"type\": \"interval\", \"bind\": \"scales\"}}, \"title\": \"SW_IN\"}], \"data\": {\"name\": \"data-5f87f8adf1e6188c517904c61f22ba4f\"}}]}]}, {\"hconcat\": [{\"layer\": [{\"data\": {\"name\": \"data-f793a3deaf6d40b8a7896ae9018e72d8\"}, \"mark\": {\"type\": \"point\", \"color\": \"black\", \"fillOpacity\": 1, \"strokeWidth\": 1}, \"encoding\": {\"fill\": {\"field\": \"is_missing\", \"legend\": {\"title\": [\"Observed data\", \"(is missing)\"]}, \"scale\": {\"range\": [\"#ffffff00\", \"black\"]}, \"type\": \"nominal\"}, \"shape\": {\"field\": \"is_missing\", \"type\": \"nominal\"}, \"x\": {\"field\": \"time\", \"type\": \"quantitative\"}, \"y\": {\"field\": \"value\", \"scale\": {\"zero\": false}, \"title\": \"LW_IN [W m-2]\", \"type\": \"quantitative\"}}}, {\"layer\": [{\"mark\": \"errorband\", \"encoding\": {\"color\": {\"field\": \"variable\", \"legend\": {\"title\": [\"Line: pred. mean\", \"area: +/- 2 std\", \"(variable)\"]}, \"type\": \"nominal\"}, \"tooltip\": [{\"field\": \"std\", \"format\": \".4\", \"type\": \"quantitative\"}, {\"field\": \"mean\", \"format\": \".4\", \"type\": \"quantitative\"}], \"x\": {\"field\": \"time\", \"type\": \"quantitative\"}, \"y\": {\"field\": \"err_low\", \"scale\": {\"zero\": false}, \"title\": \"LW_IN [W m-2]\", \"type\": \"quantitative\"}, \"y2\": {\"field\": \"err_high\"}}, \"height\": 150, \"transform\": [{\"calculate\": \"datum.mean - 2 * datum.std\", \"as\": \"err_low\"}, {\"calculate\": \"datum.mean + 2 * datum.std\", \"as\": \"err_high\"}], \"width\": 300}, {\"mark\": \"line\", \"encoding\": {\"color\": {\"field\": \"variable\", \"type\": \"nominal\"}, \"x\": {\"field\": \"time\", \"type\": \"quantitative\"}, \"y\": {\"field\": \"mean\", \"scale\": {\"zero\": false}, \"title\": \"LW_IN [W m-2]\", \"type\": \"quantitative\"}}, \"selection\": {\"selector023\": {\"type\": \"interval\", \"bind\": \"scales\"}}, \"title\": \"LW_IN\"}], \"data\": {\"name\": \"data-69d5f0a4e316c8bee56ea405e5a7a5b3\"}}]}, {\"layer\": [{\"data\": {\"name\": \"data-bbb44771a2acaa0e7c87a7508c89dc4a\"}, \"mark\": {\"type\": \"point\", \"color\": \"black\", \"fillOpacity\": 1, \"strokeWidth\": 1}, \"encoding\": {\"fill\": {\"field\": \"is_missing\", \"legend\": {\"title\": [\"Observed data\", \"(is missing)\"]}, \"scale\": {\"range\": [\"#ffffff00\", \"black\"]}, \"type\": \"nominal\"}, \"shape\": {\"field\": \"is_missing\", \"type\": \"nominal\"}, \"x\": {\"field\": \"time\", \"type\": \"quantitative\"}, \"y\": {\"field\": \"value\", \"scale\": {\"zero\": false}, \"title\": \"VPD [hPa]\", \"type\": \"quantitative\"}}}, {\"layer\": [{\"mark\": \"errorband\", \"encoding\": {\"color\": {\"field\": \"variable\", \"legend\": {\"title\": [\"Line: pred. mean\", \"area: +/- 2 std\", \"(variable)\"]}, \"type\": \"nominal\"}, \"tooltip\": [{\"field\": \"std\", \"format\": \".4\", \"type\": \"quantitative\"}, {\"field\": \"mean\", \"format\": \".4\", \"type\": \"quantitative\"}], \"x\": {\"field\": \"time\", \"type\": \"quantitative\"}, \"y\": {\"field\": \"err_low\", \"scale\": {\"zero\": false}, \"title\": \"VPD [hPa]\", \"type\": \"quantitative\"}, \"y2\": {\"field\": \"err_high\"}}, \"height\": 150, \"transform\": [{\"calculate\": \"datum.mean - 2 * datum.std\", \"as\": \"err_low\"}, {\"calculate\": \"datum.mean + 2 * datum.std\", \"as\": \"err_high\"}], \"width\": 300}, {\"mark\": \"line\", \"encoding\": {\"color\": {\"field\": \"variable\", \"type\": \"nominal\"}, \"x\": {\"field\": \"time\", \"type\": \"quantitative\"}, \"y\": {\"field\": \"mean\", \"scale\": {\"zero\": false}, \"title\": \"VPD [hPa]\", \"type\": \"quantitative\"}}, \"selection\": {\"selector024\": {\"type\": \"interval\", \"bind\": \"scales\"}}, \"title\": \"VPD\"}], \"data\": {\"name\": \"data-a5e97a23725c132ab38e63a195e729dd\"}}]}]}, {\"hconcat\": []}, {\"hconcat\": []}, {\"hconcat\": []}, {\"hconcat\": []}, {\"hconcat\": []}, {\"hconcat\": []}, {\"hconcat\": []}, {\"hconcat\": []}, {\"hconcat\": []}, {\"hconcat\": []}, {\"hconcat\": []}, {\"hconcat\": []}, {\"hconcat\": []}, {\"hconcat\": []}, {\"hconcat\": []}, {\"hconcat\": []}, {\"hconcat\": []}, {\"hconcat\": []}, {\"hconcat\": []}, {\"hconcat\": []}, {\"hconcat\": []}, {\"hconcat\": []}, {\"hconcat\": []}, {\"hconcat\": []}, {\"hconcat\": []}, {\"hconcat\": []}, {\"hconcat\": []}, {\"hconcat\": []}, {\"hconcat\": []}, {\"hconcat\": []}, {\"hconcat\": []}, {\"hconcat\": []}, {\"hconcat\": []}, {\"hconcat\": []}, {\"hconcat\": []}, {\"hconcat\": []}, {\"hconcat\": []}, {\"hconcat\": []}, {\"hconcat\": []}, {\"hconcat\": []}, {\"hconcat\": []}, {\"hconcat\": []}, {\"hconcat\": []}, {\"hconcat\": []}, {\"hconcat\": []}, {\"hconcat\": []}, {\"hconcat\": []}, {\"hconcat\": []}, {\"hconcat\": []}, {\"hconcat\": []}, {\"hconcat\": []}, {\"hconcat\": []}, {\"hconcat\": []}, {\"hconcat\": []}, {\"hconcat\": []}, {\"hconcat\": []}, {\"hconcat\": []}, {\"hconcat\": []}, {\"hconcat\": []}, {\"hconcat\": []}, {\"hconcat\": []}, {\"hconcat\": []}, {\"hconcat\": []}, {\"hconcat\": []}, {\"hconcat\": []}, {\"hconcat\": []}, {\"hconcat\": []}, {\"hconcat\": []}, {\"hconcat\": []}, {\"hconcat\": []}, {\"hconcat\": []}, {\"hconcat\": []}, {\"hconcat\": []}, {\"hconcat\": []}, {\"hconcat\": []}, {\"hconcat\": []}, {\"hconcat\": []}, {\"hconcat\": []}, {\"hconcat\": []}, {\"hconcat\": []}, {\"hconcat\": []}, {\"hconcat\": []}, {\"hconcat\": []}, {\"hconcat\": []}, {\"hconcat\": []}, {\"hconcat\": []}, {\"hconcat\": []}, {\"hconcat\": []}, {\"hconcat\": []}, {\"hconcat\": []}, {\"hconcat\": []}, {\"hconcat\": []}, {\"hconcat\": []}, {\"hconcat\": []}, {\"hconcat\": []}, {\"hconcat\": []}, {\"hconcat\": []}, {\"hconcat\": []}, {\"hconcat\": []}, {\"hconcat\": []}, {\"hconcat\": []}, {\"hconcat\": []}, {\"hconcat\": []}, {\"hconcat\": []}, {\"hconcat\": []}, {\"hconcat\": []}, {\"hconcat\": []}, {\"hconcat\": []}, {\"hconcat\": []}, {\"hconcat\": []}, {\"hconcat\": []}, {\"hconcat\": []}, {\"hconcat\": []}, {\"hconcat\": []}, {\"hconcat\": []}, {\"hconcat\": []}, {\"hconcat\": []}, {\"hconcat\": []}, {\"hconcat\": []}, {\"hconcat\": []}, {\"hconcat\": []}, {\"hconcat\": []}, {\"hconcat\": []}, {\"hconcat\": []}, {\"hconcat\": []}, {\"hconcat\": []}, {\"hconcat\": []}, {\"hconcat\": []}, {\"hconcat\": []}, {\"hconcat\": []}, {\"hconcat\": []}, {\"hconcat\": []}, {\"hconcat\": []}, {\"hconcat\": []}, {\"hconcat\": []}, {\"hconcat\": []}, {\"hconcat\": []}, {\"hconcat\": []}, {\"hconcat\": []}, {\"hconcat\": []}, {\"hconcat\": []}, {\"hconcat\": []}, {\"hconcat\": []}, {\"hconcat\": []}, {\"hconcat\": []}, {\"hconcat\": []}, {\"hconcat\": []}, {\"hconcat\": []}, {\"hconcat\": []}, {\"hconcat\": []}, {\"hconcat\": []}, {\"hconcat\": []}, {\"hconcat\": []}, {\"hconcat\": []}, {\"hconcat\": []}, {\"hconcat\": []}, {\"hconcat\": []}, {\"hconcat\": []}, {\"hconcat\": []}, {\"hconcat\": []}, {\"hconcat\": []}, {\"hconcat\": []}, {\"hconcat\": []}, {\"hconcat\": []}, {\"hconcat\": []}, {\"hconcat\": []}, {\"hconcat\": []}, {\"hconcat\": []}, {\"hconcat\": []}, {\"hconcat\": []}, {\"hconcat\": []}, {\"hconcat\": []}, {\"hconcat\": []}, {\"hconcat\": []}, {\"hconcat\": []}, {\"hconcat\": []}, {\"hconcat\": []}, {\"hconcat\": []}, {\"hconcat\": []}, {\"hconcat\": []}, {\"hconcat\": []}, {\"hconcat\": []}, {\"hconcat\": []}, {\"hconcat\": []}, {\"hconcat\": []}, {\"hconcat\": []}, {\"hconcat\": []}, {\"hconcat\": []}, {\"hconcat\": []}, {\"hconcat\": []}, {\"hconcat\": []}, {\"hconcat\": []}, {\"hconcat\": []}, {\"hconcat\": []}, {\"hconcat\": []}, {\"hconcat\": []}, {\"hconcat\": []}, {\"hconcat\": []}, {\"hconcat\": []}, {\"hconcat\": []}, {\"hconcat\": []}, {\"hconcat\": []}, {\"hconcat\": []}, {\"hconcat\": []}, {\"hconcat\": []}, {\"hconcat\": []}, {\"hconcat\": []}, {\"hconcat\": []}, {\"hconcat\": []}, {\"hconcat\": []}, {\"hconcat\": []}, {\"hconcat\": []}, {\"hconcat\": []}, {\"hconcat\": []}, {\"hconcat\": []}, {\"hconcat\": []}, {\"hconcat\": []}, {\"hconcat\": []}, {\"hconcat\": []}, {\"hconcat\": []}, {\"hconcat\": []}, {\"hconcat\": []}, {\"hconcat\": []}, {\"hconcat\": []}, {\"hconcat\": []}, {\"hconcat\": []}, {\"hconcat\": []}, {\"hconcat\": []}, {\"hconcat\": []}, {\"hconcat\": []}, {\"hconcat\": []}, {\"hconcat\": []}, {\"hconcat\": []}, {\"hconcat\": []}, {\"hconcat\": []}, {\"hconcat\": []}, {\"hconcat\": []}, {\"hconcat\": []}, {\"hconcat\": []}, {\"hconcat\": []}, {\"hconcat\": []}, {\"hconcat\": []}, {\"hconcat\": []}, {\"hconcat\": []}, {\"hconcat\": []}, {\"hconcat\": []}, {\"hconcat\": []}, {\"hconcat\": []}, {\"hconcat\": []}, {\"hconcat\": []}, {\"hconcat\": []}, {\"hconcat\": []}, {\"hconcat\": []}, {\"hconcat\": []}, {\"hconcat\": []}, {\"hconcat\": []}, {\"hconcat\": []}, {\"hconcat\": []}, {\"hconcat\": []}, {\"hconcat\": []}, {\"hconcat\": []}, {\"hconcat\": []}, {\"hconcat\": []}, {\"hconcat\": []}, {\"hconcat\": []}, {\"hconcat\": []}, {\"hconcat\": []}, {\"hconcat\": []}, {\"hconcat\": []}, {\"hconcat\": []}, {\"hconcat\": []}, {\"hconcat\": []}, {\"hconcat\": []}, {\"hconcat\": []}, {\"hconcat\": []}, {\"hconcat\": []}, {\"hconcat\": []}, {\"hconcat\": []}, {\"hconcat\": []}, {\"hconcat\": []}, {\"hconcat\": []}, {\"hconcat\": []}, {\"hconcat\": []}, {\"hconcat\": []}, {\"hconcat\": []}, {\"hconcat\": []}, {\"hconcat\": []}, {\"hconcat\": []}, {\"hconcat\": []}, {\"hconcat\": []}, {\"hconcat\": []}, {\"hconcat\": []}, {\"hconcat\": []}, {\"hconcat\": []}, {\"hconcat\": []}, {\"hconcat\": []}, {\"hconcat\": []}, {\"hconcat\": []}], \"$schema\": \"https://vega.github.io/schema/vega-lite/v4.17.0.json\", \"datasets\": {\"data-efc4b1b421b802feab2dff8a53bfa945\": [{\"time\": 0.0, \"variable\": \"TA\", \"value\": -0.6, \"is_missing\": true}, {\"time\": 1.0, \"variable\": \"TA\", \"value\": -0.65, \"is_missing\": false}, {\"time\": 2.0, \"variable\": \"TA\", \"value\": -0.58, \"is_missing\": true}, {\"time\": 3.0, \"variable\": \"TA\", \"value\": -0.51, \"is_missing\": false}, {\"time\": 4.0, \"variable\": \"TA\", \"value\": -0.49, \"is_missing\": false}, {\"time\": 5.0, \"variable\": \"TA\", \"value\": -0.4, \"is_missing\": true}, {\"time\": 6.0, \"variable\": \"TA\", \"value\": -0.36, \"is_missing\": false}, {\"time\": 7.0, \"variable\": \"TA\", \"value\": -0.35, \"is_missing\": false}, {\"time\": 8.0, \"variable\": \"TA\", \"value\": -0.28, \"is_missing\": false}, {\"time\": 9.0, \"variable\": \"TA\", \"value\": -0.27, \"is_missing\": false}, {\"time\": 10.0, \"variable\": \"TA\", \"value\": -0.23, \"is_missing\": false}, {\"time\": 11.0, \"variable\": \"TA\", \"value\": -0.23, \"is_missing\": true}, {\"time\": 12.0, \"variable\": \"TA\", \"value\": -0.22, \"is_missing\": false}, {\"time\": 13.0, \"variable\": \"TA\", \"value\": -0.24, \"is_missing\": false}, {\"time\": 14.0, \"variable\": \"TA\", \"value\": -0.23, \"is_missing\": false}, {\"time\": 15.0, \"variable\": \"TA\", \"value\": -0.22, \"is_missing\": true}, {\"time\": 16.0, \"variable\": \"TA\", \"value\": -0.19, \"is_missing\": false}, {\"time\": 17.0, \"variable\": \"TA\", \"value\": -0.14, \"is_missing\": false}, {\"time\": 18.0, \"variable\": \"TA\", \"value\": -0.03, \"is_missing\": false}, {\"time\": 19.0, \"variable\": \"TA\", \"value\": 0.04, \"is_missing\": false}, {\"time\": 20.0, \"variable\": \"TA\", \"value\": 0.1, \"is_missing\": false}, {\"time\": 21.0, \"variable\": \"TA\", \"value\": 0.18, \"is_missing\": false}, {\"time\": 22.0, \"variable\": \"TA\", \"value\": 0.21, \"is_missing\": true}, {\"time\": 23.0, \"variable\": \"TA\", \"value\": 0.23, \"is_missing\": false}, {\"time\": 24.0, \"variable\": \"TA\", \"value\": 0.33, \"is_missing\": false}, {\"time\": 25.0, \"variable\": \"TA\", \"value\": 0.41, \"is_missing\": false}, {\"time\": 26.0, \"variable\": \"TA\", \"value\": 0.44, \"is_missing\": true}, {\"time\": 27.0, \"variable\": \"TA\", \"value\": 0.48, \"is_missing\": true}, {\"time\": 28.0, \"variable\": \"TA\", \"value\": 0.49, \"is_missing\": true}, {\"time\": 29.0, \"variable\": \"TA\", \"value\": 0.51, \"is_missing\": false}, {\"time\": 30.0, \"variable\": \"TA\", \"value\": 0.52, \"is_missing\": false}, {\"time\": 31.0, \"variable\": \"TA\", \"value\": 0.57, \"is_missing\": false}, {\"time\": 32.0, \"variable\": \"TA\", \"value\": 0.73, \"is_missing\": false}, {\"time\": 33.0, \"variable\": \"TA\", \"value\": 0.77, \"is_missing\": false}, {\"time\": 34.0, \"variable\": \"TA\", \"value\": 0.84, \"is_missing\": false}, {\"time\": 35.0, \"variable\": \"TA\", \"value\": 0.99, \"is_missing\": false}, {\"time\": 36.0, \"variable\": \"TA\", \"value\": 1.35, \"is_missing\": false}, {\"time\": 37.0, \"variable\": \"TA\", \"value\": 1.86, \"is_missing\": false}, {\"time\": 38.0, \"variable\": \"TA\", \"value\": 2.01, \"is_missing\": false}, {\"time\": 39.0, \"variable\": \"TA\", \"value\": 2.07, \"is_missing\": false}, {\"time\": 40.0, \"variable\": \"TA\", \"value\": 2.0, \"is_missing\": false}, {\"time\": 41.0, \"variable\": \"TA\", \"value\": 2.19, \"is_missing\": false}, {\"time\": 42.0, \"variable\": \"TA\", \"value\": 2.26, \"is_missing\": false}, {\"time\": 43.0, \"variable\": \"TA\", \"value\": 2.53, \"is_missing\": true}, {\"time\": 44.0, \"variable\": \"TA\", \"value\": 2.59, \"is_missing\": false}, {\"time\": 45.0, \"variable\": \"TA\", \"value\": 2.6, \"is_missing\": false}, {\"time\": 46.0, \"variable\": \"TA\", \"value\": 2.53, \"is_missing\": false}, {\"time\": 47.0, \"variable\": \"TA\", \"value\": 2.3, \"is_missing\": true}, {\"time\": 48.0, \"variable\": \"TA\", \"value\": 2.08, \"is_missing\": false}, {\"time\": 49.0, \"variable\": \"TA\", \"value\": 1.93, \"is_missing\": false}, {\"time\": 50.0, \"variable\": \"TA\", \"value\": 1.84, \"is_missing\": false}, {\"time\": 51.0, \"variable\": \"TA\", \"value\": 1.85, \"is_missing\": false}, {\"time\": 52.0, \"variable\": \"TA\", \"value\": 1.59, \"is_missing\": false}, {\"time\": 53.0, \"variable\": \"TA\", \"value\": 1.43, \"is_missing\": false}, {\"time\": 54.0, \"variable\": \"TA\", \"value\": 1.33, \"is_missing\": true}, {\"time\": 55.0, \"variable\": \"TA\", \"value\": 1.23, \"is_missing\": true}, {\"time\": 56.0, \"variable\": \"TA\", \"value\": 1.04, \"is_missing\": true}, {\"time\": 57.0, \"variable\": \"TA\", \"value\": 0.94, \"is_missing\": false}, {\"time\": 58.0, \"variable\": \"TA\", \"value\": 0.81, \"is_missing\": false}, {\"time\": 59.0, \"variable\": \"TA\", \"value\": 0.79, \"is_missing\": false}, {\"time\": 60.0, \"variable\": \"TA\", \"value\": 0.68, \"is_missing\": false}, {\"time\": 61.0, \"variable\": \"TA\", \"value\": 0.65, \"is_missing\": true}, {\"time\": 62.0, \"variable\": \"TA\", \"value\": 0.58, \"is_missing\": false}, {\"time\": 63.0, \"variable\": \"TA\", \"value\": 0.49, \"is_missing\": true}, {\"time\": 64.0, \"variable\": \"TA\", \"value\": 0.57, \"is_missing\": true}, {\"time\": 65.0, \"variable\": \"TA\", \"value\": 0.25, \"is_missing\": false}, {\"time\": 66.0, \"variable\": \"TA\", \"value\": 0.35, \"is_missing\": false}, {\"time\": 67.0, \"variable\": \"TA\", \"value\": 0.27, \"is_missing\": true}, {\"time\": 68.0, \"variable\": \"TA\", \"value\": 0.35, \"is_missing\": false}, {\"time\": 69.0, \"variable\": \"TA\", \"value\": 0.57, \"is_missing\": false}, {\"time\": 70.0, \"variable\": \"TA\", \"value\": 0.63, \"is_missing\": false}, {\"time\": 71.0, \"variable\": \"TA\", \"value\": 0.73, \"is_missing\": false}, {\"time\": 72.0, \"variable\": \"TA\", \"value\": 0.78, \"is_missing\": false}, {\"time\": 73.0, \"variable\": \"TA\", \"value\": 1.05, \"is_missing\": false}, {\"time\": 74.0, \"variable\": \"TA\", \"value\": 1.19, \"is_missing\": false}, {\"time\": 75.0, \"variable\": \"TA\", \"value\": 1.41, \"is_missing\": true}, {\"time\": 76.0, \"variable\": \"TA\", \"value\": 1.54, \"is_missing\": false}, {\"time\": 77.0, \"variable\": \"TA\", \"value\": 1.08, \"is_missing\": false}, {\"time\": 78.0, \"variable\": \"TA\", \"value\": 0.62, \"is_missing\": true}, {\"time\": 79.0, \"variable\": \"TA\", \"value\": 0.57, \"is_missing\": false}, {\"time\": 80.0, \"variable\": \"TA\", \"value\": 0.53, \"is_missing\": false}, {\"time\": 81.0, \"variable\": \"TA\", \"value\": 0.57, \"is_missing\": true}, {\"time\": 82.0, \"variable\": \"TA\", \"value\": 0.51, \"is_missing\": false}, {\"time\": 83.0, \"variable\": \"TA\", \"value\": 0.39, \"is_missing\": false}, {\"time\": 84.0, \"variable\": \"TA\", \"value\": 0.35, \"is_missing\": false}, {\"time\": 85.0, \"variable\": \"TA\", \"value\": 0.4, \"is_missing\": false}, {\"time\": 86.0, \"variable\": \"TA\", \"value\": 0.66, \"is_missing\": false}, {\"time\": 87.0, \"variable\": \"TA\", \"value\": 0.76, \"is_missing\": false}, {\"time\": 88.0, \"variable\": \"TA\", \"value\": 0.81, \"is_missing\": false}, {\"time\": 89.0, \"variable\": \"TA\", \"value\": 0.94, \"is_missing\": true}, {\"time\": 90.0, \"variable\": \"TA\", \"value\": 0.97, \"is_missing\": false}, {\"time\": 91.0, \"variable\": \"TA\", \"value\": 0.85, \"is_missing\": true}, {\"time\": 92.0, \"variable\": \"TA\", \"value\": 0.77, \"is_missing\": true}, {\"time\": 93.0, \"variable\": \"TA\", \"value\": 0.63, \"is_missing\": false}, {\"time\": 94.0, \"variable\": \"TA\", \"value\": 0.52, \"is_missing\": true}, {\"time\": 95.0, \"variable\": \"TA\", \"value\": 0.48, \"is_missing\": false}, {\"time\": 96.0, \"variable\": \"TA\", \"value\": 0.41, \"is_missing\": false}, {\"time\": 97.0, \"variable\": \"TA\", \"value\": 0.29, \"is_missing\": false}, {\"time\": 98.0, \"variable\": \"TA\", \"value\": 0.31, \"is_missing\": false}, {\"time\": 99.0, \"variable\": \"TA\", \"value\": 0.42, \"is_missing\": true}, {\"time\": 100.0, \"variable\": \"TA\", \"value\": 0.51, \"is_missing\": false}, {\"time\": 101.0, \"variable\": \"TA\", \"value\": 0.57, \"is_missing\": false}, {\"time\": 102.0, \"variable\": \"TA\", \"value\": 0.65, \"is_missing\": false}, {\"time\": 103.0, \"variable\": \"TA\", \"value\": 0.81, \"is_missing\": false}, {\"time\": 104.0, \"variable\": \"TA\", \"value\": 0.95, \"is_missing\": true}, {\"time\": 105.0, \"variable\": \"TA\", \"value\": 1.09, \"is_missing\": false}, {\"time\": 106.0, \"variable\": \"TA\", \"value\": 1.18, \"is_missing\": false}, {\"time\": 107.0, \"variable\": \"TA\", \"value\": 1.35, \"is_missing\": false}, {\"time\": 108.0, \"variable\": \"TA\", \"value\": 1.42, \"is_missing\": false}, {\"time\": 109.0, \"variable\": \"TA\", \"value\": 1.42, \"is_missing\": false}, {\"time\": 110.0, \"variable\": \"TA\", \"value\": 1.57, \"is_missing\": false}, {\"time\": 111.0, \"variable\": \"TA\", \"value\": 1.67, \"is_missing\": false}, {\"time\": 112.0, \"variable\": \"TA\", \"value\": 1.8, \"is_missing\": true}, {\"time\": 113.0, \"variable\": \"TA\", \"value\": 1.86, \"is_missing\": false}, {\"time\": 114.0, \"variable\": \"TA\", \"value\": 1.91, \"is_missing\": false}, {\"time\": 115.0, \"variable\": \"TA\", \"value\": 1.95, \"is_missing\": false}, {\"time\": 116.0, \"variable\": \"TA\", \"value\": 1.99, \"is_missing\": false}, {\"time\": 117.0, \"variable\": \"TA\", \"value\": 2.1, \"is_missing\": true}, {\"time\": 118.0, \"variable\": \"TA\", \"value\": 2.32, \"is_missing\": false}, {\"time\": 119.0, \"variable\": \"TA\", \"value\": 2.53, \"is_missing\": true}, {\"time\": 120.0, \"variable\": \"TA\", \"value\": 2.48, \"is_missing\": false}, {\"time\": 121.0, \"variable\": \"TA\", \"value\": 2.39, \"is_missing\": true}, {\"time\": 122.0, \"variable\": \"TA\", \"value\": 2.52, \"is_missing\": false}, {\"time\": 123.0, \"variable\": \"TA\", \"value\": 2.68, \"is_missing\": false}, {\"time\": 124.0, \"variable\": \"TA\", \"value\": 2.7, \"is_missing\": true}, {\"time\": 125.0, \"variable\": \"TA\", \"value\": 2.7, \"is_missing\": true}, {\"time\": 126.0, \"variable\": \"TA\", \"value\": 2.61, \"is_missing\": false}, {\"time\": 127.0, \"variable\": \"TA\", \"value\": 2.45, \"is_missing\": false}, {\"time\": 128.0, \"variable\": \"TA\", \"value\": 2.36, \"is_missing\": true}, {\"time\": 129.0, \"variable\": \"TA\", \"value\": 2.33, \"is_missing\": false}, {\"time\": 130.0, \"variable\": \"TA\", \"value\": 2.22, \"is_missing\": true}, {\"time\": 131.0, \"variable\": \"TA\", \"value\": 2.07, \"is_missing\": false}, {\"time\": 132.0, \"variable\": \"TA\", \"value\": 1.96, \"is_missing\": true}, {\"time\": 133.0, \"variable\": \"TA\", \"value\": 2.01, \"is_missing\": false}, {\"time\": 134.0, \"variable\": \"TA\", \"value\": 2.01, \"is_missing\": true}, {\"time\": 135.0, \"variable\": \"TA\", \"value\": 2.06, \"is_missing\": false}, {\"time\": 136.0, \"variable\": \"TA\", \"value\": 2.14, \"is_missing\": true}, {\"time\": 137.0, \"variable\": \"TA\", \"value\": 2.11, \"is_missing\": false}, {\"time\": 138.0, \"variable\": \"TA\", \"value\": 2.1, \"is_missing\": true}, {\"time\": 139.0, \"variable\": \"TA\", \"value\": 2.07, \"is_missing\": false}, {\"time\": 140.0, \"variable\": \"TA\", \"value\": 2.09, \"is_missing\": false}, {\"time\": 141.0, \"variable\": \"TA\", \"value\": 2.11, \"is_missing\": false}, {\"time\": 142.0, \"variable\": \"TA\", \"value\": 2.1, \"is_missing\": false}, {\"time\": 143.0, \"variable\": \"TA\", \"value\": 2.1, \"is_missing\": true}, {\"time\": 144.0, \"variable\": \"TA\", \"value\": 2.01, \"is_missing\": false}, {\"time\": 145.0, \"variable\": \"TA\", \"value\": 2.05, \"is_missing\": true}, {\"time\": 146.0, \"variable\": \"TA\", \"value\": 2.13, \"is_missing\": false}, {\"time\": 147.0, \"variable\": \"TA\", \"value\": 2.1, \"is_missing\": true}, {\"time\": 148.0, \"variable\": \"TA\", \"value\": 2.19, \"is_missing\": true}, {\"time\": 149.0, \"variable\": \"TA\", \"value\": 2.27, \"is_missing\": false}], \"data-5e27060441a2f486d9826e821bdd7335\": [{\"mean\": -0.6233862638473511, \"time\": 0.0, \"std\": 0.12525714933872223, \"variable\": \"TA\"}, {\"mean\": -0.6158626079559326, \"time\": 1.0, \"std\": 0.09960972517728806, \"variable\": \"TA\"}, {\"mean\": -0.5865234136581421, \"time\": 2.0, \"std\": 0.08859541267156601, \"variable\": \"TA\"}, {\"mean\": -0.5409873723983765, \"time\": 3.0, \"std\": 0.08576050400733948, \"variable\": \"TA\"}, {\"mean\": -0.4857863187789917, \"time\": 4.0, \"std\": 0.08546034246683121, \"variable\": \"TA\"}, {\"mean\": -0.42767608165740967, \"time\": 5.0, \"std\": 0.0852355808019638, \"variable\": \"TA\"}, {\"mean\": -0.37253642082214355, \"time\": 6.0, \"std\": 0.08473383635282516, \"variable\": \"TA\"}, {\"mean\": -0.3249666690826416, \"time\": 7.0, \"std\": 0.08423484861850739, \"variable\": \"TA\"}, {\"mean\": -0.2877333164215088, \"time\": 8.0, \"std\": 0.0839783325791359, \"variable\": \"TA\"}, {\"mean\": -0.26150989532470703, \"time\": 9.0, \"std\": 0.08424420654773712, \"variable\": \"TA\"}, {\"mean\": -0.24515974521636963, \"time\": 10.0, \"std\": 0.0851907953619957, \"variable\": \"TA\"}, {\"mean\": -0.23585307598114014, \"time\": 11.0, \"std\": 0.08680080622434616, \"variable\": \"TA\"}, {\"mean\": -0.22964978218078613, \"time\": 12.0, \"std\": 0.08853652328252792, \"variable\": \"TA\"}, {\"mean\": -0.22236526012420654, \"time\": 13.0, \"std\": 0.08960650861263275, \"variable\": \"TA\"}, {\"mean\": -0.2097640037536621, \"time\": 14.0, \"std\": 0.08938305824995041, \"variable\": \"TA\"}, {\"mean\": -0.1885230541229248, \"time\": 15.0, \"std\": 0.08779866993427277, \"variable\": \"TA\"}, {\"mean\": -0.15616023540496826, \"time\": 16.0, \"std\": 0.0854954645037651, \"variable\": \"TA\"}, {\"mean\": -0.11188244819641113, \"time\": 17.0, \"std\": 0.0836106389760971, \"variable\": \"TA\"}, {\"mean\": -0.05609166622161865, \"time\": 18.0, \"std\": 0.08286330848932266, \"variable\": \"TA\"}, {\"mean\": 0.009130120277404785, \"time\": 19.0, \"std\": 0.08321136981248856, \"variable\": \"TA\"}, {\"mean\": 0.08068907260894775, \"time\": 20.0, \"std\": 0.08394711464643478, \"variable\": \"TA\"}, {\"mean\": 0.15438926219940186, \"time\": 21.0, \"std\": 0.08427651226520538, \"variable\": \"TA\"}, {\"mean\": 0.22575348615646362, \"time\": 22.0, \"std\": 0.08409276604652405, \"variable\": \"TA\"}, {\"mean\": 0.2903725504875183, \"time\": 23.0, \"std\": 0.08388405293226242, \"variable\": \"TA\"}, {\"mean\": 0.344820499420166, \"time\": 24.0, \"std\": 0.08435888588428497, \"variable\": \"TA\"}, {\"mean\": 0.38718438148498535, \"time\": 25.0, \"std\": 0.08578155934810638, \"variable\": \"TA\"}, {\"mean\": 0.41792237758636475, \"time\": 26.0, \"std\": 0.08768964558839798, \"variable\": \"TA\"}, {\"mean\": 0.43979424238204956, \"time\": 27.0, \"std\": 0.08916162699460983, \"variable\": \"TA\"}, {\"mean\": 0.45838648080825806, \"time\": 28.0, \"std\": 0.08940725028514862, \"variable\": \"TA\"}, {\"mean\": 0.4812188148498535, \"time\": 29.0, \"std\": 0.0882132276892662, \"variable\": \"TA\"}, {\"mean\": 0.517021656036377, \"time\": 30.0, \"std\": 0.08602766692638397, \"variable\": \"TA\"}, {\"mean\": 0.5743315815925598, \"time\": 31.0, \"std\": 0.08373561501502991, \"variable\": \"TA\"}, {\"mean\": 0.6602365374565125, \"time\": 32.0, \"std\": 0.08224757015705109, \"variable\": \"TA\"}, {\"mean\": 0.778899073600769, \"time\": 33.0, \"std\": 0.08198515325784683, \"variable\": \"TA\"}, {\"mean\": 0.9309501647949219, \"time\": 34.0, \"std\": 0.08274133503437042, \"variable\": \"TA\"}, {\"mean\": 1.1128227710723877, \"time\": 35.0, \"std\": 0.08383126556873322, \"variable\": \"TA\"}, {\"mean\": 1.3172422647476196, \"time\": 36.0, \"std\": 0.08452911674976349, \"variable\": \"TA\"}, {\"mean\": 1.534040093421936, \"time\": 37.0, \"std\": 0.0844423845410347, \"variable\": \"TA\"}, {\"mean\": 1.7512116432189941, \"time\": 38.0, \"std\": 0.08364684134721756, \"variable\": \"TA\"}, {\"mean\": 1.9564733505249023, \"time\": 39.0, \"std\": 0.08262563496828079, \"variable\": \"TA\"}, {\"mean\": 2.1381733417510986, \"time\": 40.0, \"std\": 0.0819988027215004, \"variable\": \"TA\"}, {\"mean\": 2.2867560386657715, \"time\": 41.0, \"std\": 0.08215750753879547, \"variable\": \"TA\"}, {\"mean\": 2.395045757293701, \"time\": 42.0, \"std\": 0.08301668614149094, \"variable\": \"TA\"}, {\"mean\": 2.4587812423706055, \"time\": 43.0, \"std\": 0.08413178473711014, \"variable\": \"TA\"}, {\"mean\": 2.476668357849121, \"time\": 44.0, \"std\": 0.0849892646074295, \"variable\": \"TA\"}, {\"mean\": 2.450256824493408, \"time\": 45.0, \"std\": 0.08531136065721512, \"variable\": \"TA\"}, {\"mean\": 2.383603096008301, \"time\": 46.0, \"std\": 0.08507484197616577, \"variable\": \"TA\"}, {\"mean\": 2.282710075378418, \"time\": 47.0, \"std\": 0.084454745054245, \"variable\": \"TA\"}, {\"mean\": 2.1552553176879883, \"time\": 48.0, \"std\": 0.08370157331228256, \"variable\": \"TA\"}, {\"mean\": 2.0095794200897217, \"time\": 49.0, \"std\": 0.08309327065944672, \"variable\": \"TA\"}, {\"mean\": 1.854137897491455, \"time\": 50.0, \"std\": 0.08299737423658371, \"variable\": \"TA\"}, {\"mean\": 1.6968975067138672, \"time\": 51.0, \"std\": 0.08376841247081757, \"variable\": \"TA\"}, {\"mean\": 1.5444324016571045, \"time\": 52.0, \"std\": 0.0854668915271759, \"variable\": \"TA\"}, {\"mean\": 1.4015047550201416, \"time\": 53.0, \"std\": 0.087575264275074, \"variable\": \"TA\"}, {\"mean\": 1.2707836627960205, \"time\": 54.0, \"std\": 0.08911623805761337, \"variable\": \"TA\"}, {\"mean\": 1.152747631072998, \"time\": 55.0, \"std\": 0.08918672800064087, \"variable\": \"TA\"}, {\"mean\": 1.045976161956787, \"time\": 56.0, \"std\": 0.08771633356809616, \"variable\": \"TA\"}, {\"mean\": 0.9476760625839233, \"time\": 57.0, \"std\": 0.08589063584804535, \"variable\": \"TA\"}, {\"mean\": 0.8544496893882751, \"time\": 58.0, \"std\": 0.08586693555116653, \"variable\": \"TA\"}, {\"mean\": 0.7631697058677673, \"time\": 59.0, \"std\": 0.08931272476911545, \"variable\": \"TA\"}, {\"mean\": 0.6719787120819092, \"time\": 60.0, \"std\": 0.09578288346529007, \"variable\": \"TA\"}, {\"mean\": 0.5810433030128479, \"time\": 61.0, \"std\": 0.10289064794778824, \"variable\": \"TA\"}, {\"mean\": 0.4930896759033203, \"time\": 62.0, \"std\": 0.10791538655757904, \"variable\": \"TA\"}, {\"mean\": 0.4134320616722107, \"time\": 63.0, \"std\": 0.10916590690612793, \"variable\": \"TA\"}, {\"mean\": 0.3495020270347595, \"time\": 64.0, \"std\": 0.10645990818738937, \"variable\": \"TA\"}, {\"mean\": 0.30971115827560425, \"time\": 65.0, \"std\": 0.1009979397058487, \"variable\": \"TA\"}, {\"mean\": 0.30192267894744873, \"time\": 66.0, \"std\": 0.09477164596319199, \"variable\": \"TA\"}, {\"mean\": 0.3316129446029663, \"time\": 67.0, \"std\": 0.08963971585035324, \"variable\": \"TA\"}, {\"mean\": 0.40018659830093384, \"time\": 68.0, \"std\": 0.08648514747619629, \"variable\": \"TA\"}, {\"mean\": 0.5037603974342346, \"time\": 69.0, \"std\": 0.08511072397232056, \"variable\": \"TA\"}, {\"mean\": 0.6327940225601196, \"time\": 70.0, \"std\": 0.08493207395076752, \"variable\": \"TA\"}, {\"mean\": 0.7727495431900024, \"time\": 71.0, \"std\": 0.08561678975820541, \"variable\": \"TA\"}, {\"mean\": 0.905872642993927, \"time\": 72.0, \"std\": 0.0870685875415802, \"variable\": \"TA\"}, {\"mean\": 1.0137913227081299, \"time\": 73.0, \"std\": 0.08898796141147614, \"variable\": \"TA\"}, {\"mean\": 1.0805542469024658, \"time\": 74.0, \"std\": 0.0906868726015091, \"variable\": \"TA\"}, {\"mean\": 1.095550537109375, \"time\": 75.0, \"std\": 0.09137608110904694, \"variable\": \"TA\"}, {\"mean\": 1.0556652545928955, \"time\": 76.0, \"std\": 0.09066975861787796, \"variable\": \"TA\"}, {\"mean\": 0.9662877321243286, \"time\": 77.0, \"std\": 0.08884776383638382, \"variable\": \"TA\"}, {\"mean\": 0.8407680988311768, \"time\": 78.0, \"std\": 0.08673630654811859, \"variable\": \"TA\"}, {\"mean\": 0.6984713077545166, \"time\": 79.0, \"std\": 0.08519946038722992, \"variable\": \"TA\"}, {\"mean\": 0.561646580696106, \"time\": 80.0, \"std\": 0.08458959311246872, \"variable\": \"TA\"}, {\"mean\": 0.4516615867614746, \"time\": 81.0, \"std\": 0.08459260314702988, \"variable\": \"TA\"}, {\"mean\": 0.38537275791168213, \"time\": 82.0, \"std\": 0.08458838611841202, \"variable\": \"TA\"}, {\"mean\": 0.37215548753738403, \"time\": 83.0, \"std\": 0.08417108654975891, \"variable\": \"TA\"}, {\"mean\": 0.4123024344444275, \"time\": 84.0, \"std\": 0.0834275633096695, \"variable\": \"TA\"}, {\"mean\": 0.4970160722732544, \"time\": 85.0, \"std\": 0.08286576718091965, \"variable\": \"TA\"}, {\"mean\": 0.6099828481674194, \"time\": 86.0, \"std\": 0.0831260234117508, \"variable\": \"TA\"}, {\"mean\": 0.7303301692008972, \"time\": 87.0, \"std\": 0.08461936563253403, \"variable\": \"TA\"}, {\"mean\": 0.8362935781478882, \"time\": 88.0, \"std\": 0.08729825168848038, \"variable\": \"TA\"}, {\"mean\": 0.9090253710746765, \"time\": 89.0, \"std\": 0.09061839431524277, \"variable\": \"TA\"}, {\"mean\": 0.9357796907424927, \"time\": 90.0, \"std\": 0.09369166940450668, \"variable\": \"TA\"}, {\"mean\": 0.9119860529899597, \"time\": 91.0, \"std\": 0.09556802362203598, \"variable\": \"TA\"}, {\"mean\": 0.8417690992355347, \"time\": 92.0, \"std\": 0.09556403011083603, \"variable\": \"TA\"}, {\"mean\": 0.7369828224182129, \"time\": 93.0, \"std\": 0.0935552567243576, \"variable\": \"TA\"}, {\"mean\": 0.6149463653564453, \"time\": 94.0, \"std\": 0.09015253931283951, \"variable\": \"TA\"}, {\"mean\": 0.49531853199005127, \"time\": 95.0, \"std\": 0.08655337244272232, \"variable\": \"TA\"}, {\"mean\": 0.3968576192855835, \"time\": 96.0, \"std\": 0.08404465019702911, \"variable\": \"TA\"}, {\"mean\": 0.3344573378562927, \"time\": 97.0, \"std\": 0.08323583006858826, \"variable\": \"TA\"}, {\"mean\": 0.3171911835670471, \"time\": 98.0, \"std\": 0.08372710645198822, \"variable\": \"TA\"}, {\"mean\": 0.34744763374328613, \"time\": 99.0, \"std\": 0.08452881127595901, \"variable\": \"TA\"}, {\"mean\": 0.4213269352912903, \"time\": 100.0, \"std\": 0.08482896536588669, \"variable\": \"TA\"}, {\"mean\": 0.5300659537315369, \"time\": 101.0, \"std\": 0.08444841206073761, \"variable\": \"TA\"}, {\"mean\": 0.6620411276817322, \"time\": 102.0, \"std\": 0.0837070420384407, \"variable\": \"TA\"}, {\"mean\": 0.8049930334091187, \"time\": 103.0, \"std\": 0.08304886519908905, \"variable\": \"TA\"}, {\"mean\": 0.9480320811271667, \"time\": 104.0, \"std\": 0.08262502402067184, \"variable\": \"TA\"}, {\"mean\": 1.0829302072525024, \"time\": 105.0, \"std\": 0.08228499442338943, \"variable\": \"TA\"}, {\"mean\": 1.2049063444137573, \"time\": 106.0, \"std\": 0.08185719698667526, \"variable\": \"TA\"}, {\"mean\": 1.3124276399612427, \"time\": 107.0, \"std\": 0.08142715692520142, \"variable\": \"TA\"}, {\"mean\": 1.4067184925079346, \"time\": 108.0, \"std\": 0.08130238950252533, \"variable\": \"TA\"}, {\"mean\": 1.4907422065734863, \"time\": 109.0, \"std\": 0.08172935247421265, \"variable\": \"TA\"}, {\"mean\": 1.5682947635650635, \"time\": 110.0, \"std\": 0.08265857398509979, \"variable\": \"TA\"}, {\"mean\": 1.6431941986083984, \"time\": 111.0, \"std\": 0.08375171571969986, \"variable\": \"TA\"}, {\"mean\": 1.718795895576477, \"time\": 112.0, \"std\": 0.08478186279535294, \"variable\": \"TA\"}, {\"mean\": 1.7976093292236328, \"time\": 113.0, \"std\": 0.08583344519138336, \"variable\": \"TA\"}, {\"mean\": 1.881339192390442, \"time\": 114.0, \"std\": 0.08727843314409256, \"variable\": \"TA\"}, {\"mean\": 1.9707612991333008, \"time\": 115.0, \"std\": 0.08931557834148407, \"variable\": \"TA\"}, {\"mean\": 2.0658044815063477, \"time\": 116.0, \"std\": 0.09159327298402786, \"variable\": \"TA\"}, {\"mean\": 2.1652469635009766, \"time\": 117.0, \"std\": 0.09328155219554901, \"variable\": \"TA\"}, {\"mean\": 2.2666678428649902, \"time\": 118.0, \"std\": 0.09361045062541962, \"variable\": \"TA\"}, {\"mean\": 2.36627197265625, \"time\": 119.0, \"std\": 0.09232974052429199, \"variable\": \"TA\"}, {\"mean\": 2.4588661193847656, \"time\": 120.0, \"std\": 0.08994515985250473, \"variable\": \"TA\"}, {\"mean\": 2.5383810997009277, \"time\": 121.0, \"std\": 0.08750493079423904, \"variable\": \"TA\"}, {\"mean\": 2.598240375518799, \"time\": 122.0, \"std\": 0.08591432869434357, \"variable\": \"TA\"}, {\"mean\": 2.6327738761901855, \"time\": 123.0, \"std\": 0.08544694632291794, \"variable\": \"TA\"}, {\"mean\": 2.637786865234375, \"time\": 124.0, \"std\": 0.08563937991857529, \"variable\": \"TA\"}, {\"mean\": 2.6121227741241455, \"time\": 125.0, \"std\": 0.08584974706172943, \"variable\": \"TA\"}, {\"mean\": 2.5577235221862793, \"time\": 126.0, \"std\": 0.08571925014257431, \"variable\": \"TA\"}, {\"mean\": 2.4802074432373047, \"time\": 127.0, \"std\": 0.08540792763233185, \"variable\": \"TA\"}, {\"mean\": 2.3880276679992676, \"time\": 128.0, \"std\": 0.08523378521203995, \"variable\": \"TA\"}, {\"mean\": 2.2913365364074707, \"time\": 129.0, \"std\": 0.08538439124822617, \"variable\": \"TA\"}, {\"mean\": 2.2003979682922363, \"time\": 130.0, \"std\": 0.08574506640434265, \"variable\": \"TA\"}, {\"mean\": 2.1241486072540283, \"time\": 131.0, \"std\": 0.08606728911399841, \"variable\": \"TA\"}, {\"mean\": 2.0686228275299072, \"time\": 132.0, \"std\": 0.08619903028011322, \"variable\": \"TA\"}, {\"mean\": 2.0361099243164062, \"time\": 133.0, \"std\": 0.08619046956300735, \"variable\": \"TA\"}, {\"mean\": 2.02516770362854, \"time\": 134.0, \"std\": 0.08622854202985764, \"variable\": \"TA\"}, {\"mean\": 2.031132221221924, \"time\": 135.0, \"std\": 0.08620669692754745, \"variable\": \"TA\"}, {\"mean\": 2.047605037689209, \"time\": 136.0, \"std\": 0.08605576306581497, \"variable\": \"TA\"}, {\"mean\": 2.0674524307250977, \"time\": 137.0, \"std\": 0.0855177789926529, \"variable\": \"TA\"}, {\"mean\": 2.084886074066162, \"time\": 138.0, \"std\": 0.08452731370925903, \"variable\": \"TA\"}, {\"mean\": 2.096247911453247, \"time\": 139.0, \"std\": 0.08344707638025284, \"variable\": \"TA\"}, {\"mean\": 2.1006784439086914, \"time\": 140.0, \"std\": 0.08297836780548096, \"variable\": \"TA\"}, {\"mean\": 2.099818468093872, \"time\": 141.0, \"std\": 0.08382944017648697, \"variable\": \"TA\"}, {\"mean\": 2.097341299057007, \"time\": 142.0, \"std\": 0.08623798191547394, \"variable\": \"TA\"}, {\"mean\": 2.097693920135498, \"time\": 143.0, \"std\": 0.08975771814584732, \"variable\": \"TA\"}, {\"mean\": 2.1048824787139893, \"time\": 144.0, \"std\": 0.09335952997207642, \"variable\": \"TA\"}, {\"mean\": 2.121309757232666, \"time\": 145.0, \"std\": 0.09575658291578293, \"variable\": \"TA\"}, {\"mean\": 2.1471683979034424, \"time\": 146.0, \"std\": 0.09594398736953735, \"variable\": \"TA\"}, {\"mean\": 2.1801280975341797, \"time\": 147.0, \"std\": 0.09429177641868591, \"variable\": \"TA\"}, {\"mean\": 2.21577787399292, \"time\": 148.0, \"std\": 0.09394224733114243, \"variable\": \"TA\"}, {\"mean\": 2.248183012008667, \"time\": 149.0, \"std\": 0.10232555866241455, \"variable\": \"TA\"}], \"data-6399bdb169b57f1c09a65317abb44b69\": [{\"time\": 0.0, \"variable\": \"SW_IN\", \"value\": 0.0, \"is_missing\": true}, {\"time\": 1.0, \"variable\": \"SW_IN\", \"value\": 0.0, \"is_missing\": false}, {\"time\": 2.0, \"variable\": \"SW_IN\", \"value\": 0.0, \"is_missing\": true}, {\"time\": 3.0, \"variable\": \"SW_IN\", \"value\": 0.0, \"is_missing\": false}, {\"time\": 4.0, \"variable\": \"SW_IN\", \"value\": 0.0, \"is_missing\": false}, {\"time\": 5.0, \"variable\": \"SW_IN\", \"value\": 0.0, \"is_missing\": true}, {\"time\": 6.0, \"variable\": \"SW_IN\", \"value\": 0.0, \"is_missing\": false}, {\"time\": 7.0, \"variable\": \"SW_IN\", \"value\": 0.0, \"is_missing\": false}, {\"time\": 8.0, \"variable\": \"SW_IN\", \"value\": 0.0, \"is_missing\": false}, {\"time\": 9.0, \"variable\": \"SW_IN\", \"value\": 0.0, \"is_missing\": false}, {\"time\": 10.0, \"variable\": \"SW_IN\", \"value\": 0.0, \"is_missing\": false}, {\"time\": 11.0, \"variable\": \"SW_IN\", \"value\": 0.0, \"is_missing\": true}, {\"time\": 12.0, \"variable\": \"SW_IN\", \"value\": 0.0, \"is_missing\": false}, {\"time\": 13.0, \"variable\": \"SW_IN\", \"value\": 0.0, \"is_missing\": true}, {\"time\": 14.0, \"variable\": \"SW_IN\", \"value\": 0.0, \"is_missing\": false}, {\"time\": 15.0, \"variable\": \"SW_IN\", \"value\": 0.0, \"is_missing\": true}, {\"time\": 16.0, \"variable\": \"SW_IN\", \"value\": 0.45, \"is_missing\": false}, {\"time\": 17.0, \"variable\": \"SW_IN\", \"value\": 3.7, \"is_missing\": false}, {\"time\": 18.0, \"variable\": \"SW_IN\", \"value\": 7.26, \"is_missing\": false}, {\"time\": 19.0, \"variable\": \"SW_IN\", \"value\": 12.24, \"is_missing\": false}, {\"time\": 20.0, \"variable\": \"SW_IN\", \"value\": 16.51, \"is_missing\": false}, {\"time\": 21.0, \"variable\": \"SW_IN\", \"value\": 24.73, \"is_missing\": false}, {\"time\": 22.0, \"variable\": \"SW_IN\", \"value\": 47.42, \"is_missing\": true}, {\"time\": 23.0, \"variable\": \"SW_IN\", \"value\": 22.05, \"is_missing\": false}, {\"time\": 24.0, \"variable\": \"SW_IN\", \"value\": 18.86, \"is_missing\": false}, {\"time\": 25.0, \"variable\": \"SW_IN\", \"value\": 21.1, \"is_missing\": false}, {\"time\": 26.0, \"variable\": \"SW_IN\", \"value\": 28.87, \"is_missing\": true}, {\"time\": 27.0, \"variable\": \"SW_IN\", \"value\": 24.22, \"is_missing\": true}, {\"time\": 28.0, \"variable\": \"SW_IN\", \"value\": 24.35, \"is_missing\": true}, {\"time\": 29.0, \"variable\": \"SW_IN\", \"value\": 15.68, \"is_missing\": false}, {\"time\": 30.0, \"variable\": \"SW_IN\", \"value\": 8.09, \"is_missing\": false}, {\"time\": 31.0, \"variable\": \"SW_IN\", \"value\": 6.37, \"is_missing\": false}, {\"time\": 32.0, \"variable\": \"SW_IN\", \"value\": 1.72, \"is_missing\": false}, {\"time\": 33.0, \"variable\": \"SW_IN\", \"value\": 0.06, \"is_missing\": false}, {\"time\": 34.0, \"variable\": \"SW_IN\", \"value\": 0.0, \"is_missing\": false}, {\"time\": 35.0, \"variable\": \"SW_IN\", \"value\": 0.0, \"is_missing\": false}, {\"time\": 36.0, \"variable\": \"SW_IN\", \"value\": 0.0, \"is_missing\": false}, {\"time\": 37.0, \"variable\": \"SW_IN\", \"value\": 0.0, \"is_missing\": true}, {\"time\": 38.0, \"variable\": \"SW_IN\", \"value\": 0.0, \"is_missing\": false}, {\"time\": 39.0, \"variable\": \"SW_IN\", \"value\": 0.0, \"is_missing\": false}, {\"time\": 40.0, \"variable\": \"SW_IN\", \"value\": 0.0, \"is_missing\": false}, {\"time\": 41.0, \"variable\": \"SW_IN\", \"value\": 0.0, \"is_missing\": false}, {\"time\": 42.0, \"variable\": \"SW_IN\", \"value\": 0.0, \"is_missing\": false}, {\"time\": 43.0, \"variable\": \"SW_IN\", \"value\": 0.0, \"is_missing\": false}, {\"time\": 44.0, \"variable\": \"SW_IN\", \"value\": 0.0, \"is_missing\": false}, {\"time\": 45.0, \"variable\": \"SW_IN\", \"value\": 0.0, \"is_missing\": true}, {\"time\": 46.0, \"variable\": \"SW_IN\", \"value\": 0.0, \"is_missing\": false}, {\"time\": 47.0, \"variable\": \"SW_IN\", \"value\": 0.0, \"is_missing\": false}, {\"time\": 48.0, \"variable\": \"SW_IN\", \"value\": 0.0, \"is_missing\": false}, {\"time\": 49.0, \"variable\": \"SW_IN\", \"value\": 0.0, \"is_missing\": false}, {\"time\": 50.0, \"variable\": \"SW_IN\", \"value\": 0.0, \"is_missing\": false}, {\"time\": 51.0, \"variable\": \"SW_IN\", \"value\": 0.0, \"is_missing\": false}, {\"time\": 52.0, \"variable\": \"SW_IN\", \"value\": 0.0, \"is_missing\": false}, {\"time\": 53.0, \"variable\": \"SW_IN\", \"value\": 0.0, \"is_missing\": false}, {\"time\": 54.0, \"variable\": \"SW_IN\", \"value\": 0.0, \"is_missing\": true}, {\"time\": 55.0, \"variable\": \"SW_IN\", \"value\": 0.0, \"is_missing\": true}, {\"time\": 56.0, \"variable\": \"SW_IN\", \"value\": 0.0, \"is_missing\": true}, {\"time\": 57.0, \"variable\": \"SW_IN\", \"value\": 0.0, \"is_missing\": false}, {\"time\": 58.0, \"variable\": \"SW_IN\", \"value\": 0.0, \"is_missing\": false}, {\"time\": 59.0, \"variable\": \"SW_IN\", \"value\": 0.0, \"is_missing\": false}, {\"time\": 60.0, \"variable\": \"SW_IN\", \"value\": 0.0, \"is_missing\": false}, {\"time\": 61.0, \"variable\": \"SW_IN\", \"value\": 0.0, \"is_missing\": false}, {\"time\": 62.0, \"variable\": \"SW_IN\", \"value\": 0.0, \"is_missing\": true}, {\"time\": 63.0, \"variable\": \"SW_IN\", \"value\": 0.0, \"is_missing\": true}, {\"time\": 64.0, \"variable\": \"SW_IN\", \"value\": 4.27, \"is_missing\": true}, {\"time\": 65.0, \"variable\": \"SW_IN\", \"value\": 23.9, \"is_missing\": false}, {\"time\": 66.0, \"variable\": \"SW_IN\", \"value\": 50.61, \"is_missing\": false}, {\"time\": 67.0, \"variable\": \"SW_IN\", \"value\": 61.76, \"is_missing\": true}, {\"time\": 68.0, \"variable\": \"SW_IN\", \"value\": 125.24, \"is_missing\": false}, {\"time\": 69.0, \"variable\": \"SW_IN\", \"value\": 138.43, \"is_missing\": false}, {\"time\": 70.0, \"variable\": \"SW_IN\", \"value\": 177.5, \"is_missing\": false}, {\"time\": 71.0, \"variable\": \"SW_IN\", \"value\": 148.06, \"is_missing\": false}, {\"time\": 72.0, \"variable\": \"SW_IN\", \"value\": 122.37, \"is_missing\": false}, {\"time\": 73.0, \"variable\": \"SW_IN\", \"value\": 130.21, \"is_missing\": false}, {\"time\": 74.0, \"variable\": \"SW_IN\", \"value\": 124.73, \"is_missing\": true}, {\"time\": 75.0, \"variable\": \"SW_IN\", \"value\": 110.65, \"is_missing\": false}, {\"time\": 76.0, \"variable\": \"SW_IN\", \"value\": 57.81, \"is_missing\": false}, {\"time\": 77.0, \"variable\": \"SW_IN\", \"value\": 31.87, \"is_missing\": false}, {\"time\": 78.0, \"variable\": \"SW_IN\", \"value\": 19.89, \"is_missing\": true}, {\"time\": 79.0, \"variable\": \"SW_IN\", \"value\": 8.8, \"is_missing\": false}, {\"time\": 80.0, \"variable\": \"SW_IN\", \"value\": 1.78, \"is_missing\": false}, {\"time\": 81.0, \"variable\": \"SW_IN\", \"value\": 0.06, \"is_missing\": true}, {\"time\": 82.0, \"variable\": \"SW_IN\", \"value\": 0.0, \"is_missing\": false}, {\"time\": 83.0, \"variable\": \"SW_IN\", \"value\": 0.0, \"is_missing\": true}, {\"time\": 84.0, \"variable\": \"SW_IN\", \"value\": 0.0, \"is_missing\": false}, {\"time\": 85.0, \"variable\": \"SW_IN\", \"value\": 0.0, \"is_missing\": false}, {\"time\": 86.0, \"variable\": \"SW_IN\", \"value\": 0.0, \"is_missing\": false}, {\"time\": 87.0, \"variable\": \"SW_IN\", \"value\": 0.0, \"is_missing\": false}, {\"time\": 88.0, \"variable\": \"SW_IN\", \"value\": 0.0, \"is_missing\": true}, {\"time\": 89.0, \"variable\": \"SW_IN\", \"value\": 0.0, \"is_missing\": false}, {\"time\": 90.0, \"variable\": \"SW_IN\", \"value\": 0.0, \"is_missing\": false}, {\"time\": 91.0, \"variable\": \"SW_IN\", \"value\": 0.0, \"is_missing\": true}, {\"time\": 92.0, \"variable\": \"SW_IN\", \"value\": 0.0, \"is_missing\": true}, {\"time\": 93.0, \"variable\": \"SW_IN\", \"value\": 0.0, \"is_missing\": true}, {\"time\": 94.0, \"variable\": \"SW_IN\", \"value\": 0.0, \"is_missing\": true}, {\"time\": 95.0, \"variable\": \"SW_IN\", \"value\": 0.0, \"is_missing\": false}, {\"time\": 96.0, \"variable\": \"SW_IN\", \"value\": 0.0, \"is_missing\": false}, {\"time\": 97.0, \"variable\": \"SW_IN\", \"value\": 0.0, \"is_missing\": false}, {\"time\": 98.0, \"variable\": \"SW_IN\", \"value\": 0.0, \"is_missing\": false}, {\"time\": 99.0, \"variable\": \"SW_IN\", \"value\": 0.0, \"is_missing\": true}, {\"time\": 100.0, \"variable\": \"SW_IN\", \"value\": 0.0, \"is_missing\": false}, {\"time\": 101.0, \"variable\": \"SW_IN\", \"value\": 0.0, \"is_missing\": false}, {\"time\": 102.0, \"variable\": \"SW_IN\", \"value\": 0.0, \"is_missing\": false}, {\"time\": 103.0, \"variable\": \"SW_IN\", \"value\": 0.0, \"is_missing\": false}, {\"time\": 104.0, \"variable\": \"SW_IN\", \"value\": 0.0, \"is_missing\": true}, {\"time\": 105.0, \"variable\": \"SW_IN\", \"value\": 0.0, \"is_missing\": false}, {\"time\": 106.0, \"variable\": \"SW_IN\", \"value\": 0.0, \"is_missing\": false}, {\"time\": 107.0, \"variable\": \"SW_IN\", \"value\": 0.0, \"is_missing\": false}, {\"time\": 108.0, \"variable\": \"SW_IN\", \"value\": 0.0, \"is_missing\": false}, {\"time\": 109.0, \"variable\": \"SW_IN\", \"value\": 0.0, \"is_missing\": false}, {\"time\": 110.0, \"variable\": \"SW_IN\", \"value\": 0.0, \"is_missing\": false}, {\"time\": 111.0, \"variable\": \"SW_IN\", \"value\": 0.0, \"is_missing\": false}, {\"time\": 112.0, \"variable\": \"SW_IN\", \"value\": 1.4, \"is_missing\": true}, {\"time\": 113.0, \"variable\": \"SW_IN\", \"value\": 9.81, \"is_missing\": true}, {\"time\": 114.0, \"variable\": \"SW_IN\", \"value\": 25.05, \"is_missing\": false}, {\"time\": 115.0, \"variable\": \"SW_IN\", \"value\": 36.84, \"is_missing\": false}, {\"time\": 116.0, \"variable\": \"SW_IN\", \"value\": 80.63, \"is_missing\": true}, {\"time\": 117.0, \"variable\": \"SW_IN\", \"value\": 78.58, \"is_missing\": true}, {\"time\": 118.0, \"variable\": \"SW_IN\", \"value\": 77.25, \"is_missing\": false}, {\"time\": 119.0, \"variable\": \"SW_IN\", \"value\": 93.31, \"is_missing\": false}, {\"time\": 120.0, \"variable\": \"SW_IN\", \"value\": 114.08, \"is_missing\": false}, {\"time\": 121.0, \"variable\": \"SW_IN\", \"value\": 117.33, \"is_missing\": true}, {\"time\": 122.0, \"variable\": \"SW_IN\", \"value\": 109.82, \"is_missing\": false}, {\"time\": 123.0, \"variable\": \"SW_IN\", \"value\": 97.51, \"is_missing\": false}, {\"time\": 124.0, \"variable\": \"SW_IN\", \"value\": 74.64, \"is_missing\": true}, {\"time\": 125.0, \"variable\": \"SW_IN\", \"value\": 40.66, \"is_missing\": true}, {\"time\": 126.0, \"variable\": \"SW_IN\", \"value\": 32.06, \"is_missing\": false}, {\"time\": 127.0, \"variable\": \"SW_IN\", \"value\": 16.12, \"is_missing\": false}, {\"time\": 128.0, \"variable\": \"SW_IN\", \"value\": 3.76, \"is_missing\": true}, {\"time\": 129.0, \"variable\": \"SW_IN\", \"value\": 0.57, \"is_missing\": false}, {\"time\": 130.0, \"variable\": \"SW_IN\", \"value\": 0.0, \"is_missing\": true}, {\"time\": 131.0, \"variable\": \"SW_IN\", \"value\": 0.0, \"is_missing\": false}, {\"time\": 132.0, \"variable\": \"SW_IN\", \"value\": 0.0, \"is_missing\": true}, {\"time\": 133.0, \"variable\": \"SW_IN\", \"value\": 0.0, \"is_missing\": false}, {\"time\": 134.0, \"variable\": \"SW_IN\", \"value\": 0.0, \"is_missing\": true}, {\"time\": 135.0, \"variable\": \"SW_IN\", \"value\": 0.0, \"is_missing\": false}, {\"time\": 136.0, \"variable\": \"SW_IN\", \"value\": 0.0, \"is_missing\": true}, {\"time\": 137.0, \"variable\": \"SW_IN\", \"value\": 0.0, \"is_missing\": false}, {\"time\": 138.0, \"variable\": \"SW_IN\", \"value\": 0.0, \"is_missing\": false}, {\"time\": 139.0, \"variable\": \"SW_IN\", \"value\": 0.0, \"is_missing\": false}, {\"time\": 140.0, \"variable\": \"SW_IN\", \"value\": 0.0, \"is_missing\": false}, {\"time\": 141.0, \"variable\": \"SW_IN\", \"value\": 0.0, \"is_missing\": false}, {\"time\": 142.0, \"variable\": \"SW_IN\", \"value\": 0.0, \"is_missing\": false}, {\"time\": 143.0, \"variable\": \"SW_IN\", \"value\": 0.0, \"is_missing\": true}, {\"time\": 144.0, \"variable\": \"SW_IN\", \"value\": 0.0, \"is_missing\": false}, {\"time\": 145.0, \"variable\": \"SW_IN\", \"value\": 0.0, \"is_missing\": true}, {\"time\": 146.0, \"variable\": \"SW_IN\", \"value\": 0.0, \"is_missing\": false}, {\"time\": 147.0, \"variable\": \"SW_IN\", \"value\": 0.0, \"is_missing\": true}, {\"time\": 148.0, \"variable\": \"SW_IN\", \"value\": 0.0, \"is_missing\": true}, {\"time\": 149.0, \"variable\": \"SW_IN\", \"value\": 0.0, \"is_missing\": false}], \"data-5f87f8adf1e6188c517904c61f22ba4f\": [{\"mean\": 0.6243896484375, \"time\": 0.0, \"std\": 6.426797866821289, \"variable\": \"SW_IN\"}, {\"mean\": 0.12770652770996094, \"time\": 1.0, \"std\": 4.450052261352539, \"variable\": \"SW_IN\"}, {\"mean\": -0.02646636962890625, \"time\": 2.0, \"std\": 3.966559886932373, \"variable\": \"SW_IN\"}, {\"mean\": -0.009808540344238281, \"time\": 3.0, \"std\": 3.9126012325286865, \"variable\": \"SW_IN\"}, {\"mean\": 0.020092010498046875, \"time\": 4.0, \"std\": 3.8587911128997803, \"variable\": \"SW_IN\"}, {\"mean\": -0.015459060668945312, \"time\": 5.0, \"std\": 3.8233158588409424, \"variable\": \"SW_IN\"}, {\"mean\": -0.0900259017944336, \"time\": 6.0, \"std\": 3.8251802921295166, \"variable\": \"SW_IN\"}, {\"mean\": -0.11113548278808594, \"time\": 7.0, \"std\": 3.825688362121582, \"variable\": \"SW_IN\"}, {\"mean\": -0.0030221939086914062, \"time\": 8.0, \"std\": 3.8206663131713867, \"variable\": \"SW_IN\"}, {\"mean\": 0.20068931579589844, \"time\": 9.0, \"std\": 3.813450574874878, \"variable\": \"SW_IN\"}, {\"mean\": 0.3371562957763672, \"time\": 10.0, \"std\": 3.8224897384643555, \"variable\": \"SW_IN\"}, {\"mean\": 0.1830730438232422, \"time\": 11.0, \"std\": 3.929584264755249, \"variable\": \"SW_IN\"}, {\"mean\": -0.3858480453491211, \"time\": 12.0, \"std\": 4.1809916496276855, \"variable\": \"SW_IN\"}, {\"mean\": -1.2287445068359375, \"time\": 13.0, \"std\": 4.440174579620361, \"variable\": \"SW_IN\"}, {\"mean\": -1.8807449340820312, \"time\": 14.0, \"std\": 4.512385368347168, \"variable\": \"SW_IN\"}, {\"mean\": -1.6546211242675781, \"time\": 15.0, \"std\": 4.3063554763793945, \"variable\": \"SW_IN\"}, {\"mean\": 0.06678485870361328, \"time\": 16.0, \"std\": 3.9623301029205322, \"variable\": \"SW_IN\"}, {\"mean\": 3.521974563598633, \"time\": 17.0, \"std\": 3.7180416584014893, \"variable\": \"SW_IN\"}, {\"mean\": 8.339847564697266, \"time\": 18.0, \"std\": 3.687894344329834, \"variable\": \"SW_IN\"}, {\"mean\": 13.621075630187988, \"time\": 19.0, \"std\": 3.787701368331909, \"variable\": \"SW_IN\"}, {\"mean\": 18.251235961914062, \"time\": 20.0, \"std\": 3.893547534942627, \"variable\": \"SW_IN\"}, {\"mean\": 21.34545135498047, \"time\": 21.0, \"std\": 3.94176983833313, \"variable\": \"SW_IN\"}, {\"mean\": 22.614330291748047, \"time\": 22.0, \"std\": 3.891216516494751, \"variable\": \"SW_IN\"}, {\"mean\": 22.390052795410156, \"time\": 23.0, \"std\": 3.775876760482788, \"variable\": \"SW_IN\"}, {\"mean\": 21.401599884033203, \"time\": 24.0, \"std\": 3.746476173400879, \"variable\": \"SW_IN\"}, {\"mean\": 20.308935165405273, \"time\": 25.0, \"std\": 3.956723928451538, \"variable\": \"SW_IN\"}, {\"mean\": 19.368438720703125, \"time\": 26.0, \"std\": 4.299106597900391, \"variable\": \"SW_IN\"}, {\"mean\": 18.345285415649414, \"time\": 27.0, \"std\": 4.50742769241333, \"variable\": \"SW_IN\"}, {\"mean\": 16.72710418701172, \"time\": 28.0, \"std\": 4.4392619132995605, \"variable\": \"SW_IN\"}, {\"mean\": 14.137206077575684, \"time\": 29.0, \"std\": 4.180798053741455, \"variable\": \"SW_IN\"}, {\"mean\": 10.615426063537598, \"time\": 30.0, \"std\": 3.9240758419036865, \"variable\": \"SW_IN\"}, {\"mean\": 6.682358741760254, \"time\": 31.0, \"std\": 3.776455879211426, \"variable\": \"SW_IN\"}, {\"mean\": 3.1183881759643555, \"time\": 32.0, \"std\": 3.6944568157196045, \"variable\": \"SW_IN\"}, {\"mean\": 0.5815439224243164, \"time\": 33.0, \"std\": 3.6524012088775635, \"variable\": \"SW_IN\"}, {\"mean\": -0.6662397384643555, \"time\": 34.0, \"std\": 3.7049453258514404, \"variable\": \"SW_IN\"}, {\"mean\": -0.8271608352661133, \"time\": 35.0, \"std\": 3.8591270446777344, \"variable\": \"SW_IN\"}, {\"mean\": -0.4071369171142578, \"time\": 36.0, \"std\": 3.996145486831665, \"variable\": \"SW_IN\"}, {\"mean\": 0.0729379653930664, \"time\": 37.0, \"std\": 3.9947261810302734, \"variable\": \"SW_IN\"}, {\"mean\": 0.3005027770996094, \"time\": 38.0, \"std\": 3.8583083152770996, \"variable\": \"SW_IN\"}, {\"mean\": 0.24519824981689453, \"time\": 39.0, \"std\": 3.7041361331939697, \"variable\": \"SW_IN\"}, {\"mean\": 0.061713218688964844, \"time\": 40.0, \"std\": 3.644296169281006, \"variable\": \"SW_IN\"}, {\"mean\": -0.07384967803955078, \"time\": 41.0, \"std\": 3.6883339881896973, \"variable\": \"SW_IN\"}, {\"mean\": -0.08720970153808594, \"time\": 42.0, \"std\": 3.7762200832366943, \"variable\": \"SW_IN\"}, {\"mean\": -0.03031444549560547, \"time\": 43.0, \"std\": 3.858833074569702, \"variable\": \"SW_IN\"}, {\"mean\": -0.0015459060668945312, \"time\": 44.0, \"std\": 3.9201102256774902, \"variable\": \"SW_IN\"}, {\"mean\": -0.048377037048339844, \"time\": 45.0, \"std\": 3.9537131786346436, \"variable\": \"SW_IN\"}, {\"mean\": -0.12104129791259766, \"time\": 46.0, \"std\": 3.9387269020080566, \"variable\": \"SW_IN\"}, {\"mean\": -0.11663818359375, \"time\": 47.0, \"std\": 3.861686944961548, \"variable\": \"SW_IN\"}, {\"mean\": 0.022203445434570312, \"time\": 48.0, \"std\": 3.767134428024292, \"variable\": \"SW_IN\"}, {\"mean\": 0.22889328002929688, \"time\": 49.0, \"std\": 3.736711263656616, \"variable\": \"SW_IN\"}, {\"mean\": 0.33156585693359375, \"time\": 50.0, \"std\": 3.771024703979492, \"variable\": \"SW_IN\"}, {\"mean\": 0.1719799041748047, \"time\": 51.0, \"std\": 3.797569990158081, \"variable\": \"SW_IN\"}, {\"mean\": -0.23470115661621094, \"time\": 52.0, \"std\": 3.833050489425659, \"variable\": \"SW_IN\"}, {\"mean\": -0.6327152252197266, \"time\": 53.0, \"std\": 4.008936882019043, \"variable\": \"SW_IN\"}, {\"mean\": -0.6318893432617188, \"time\": 54.0, \"std\": 4.327261447906494, \"variable\": \"SW_IN\"}, {\"mean\": 0.007648468017578125, \"time\": 55.0, \"std\": 4.559286594390869, \"variable\": \"SW_IN\"}, {\"mean\": 1.0619888305664062, \"time\": 56.0, \"std\": 4.4733476638793945, \"variable\": \"SW_IN\"}, {\"mean\": 1.7171010971069336, \"time\": 57.0, \"std\": 4.075931549072266, \"variable\": \"SW_IN\"}, {\"mean\": 0.8076848983764648, \"time\": 58.0, \"std\": 3.764660596847534, \"variable\": \"SW_IN\"}, {\"mean\": -2.5615596771240234, \"time\": 59.0, \"std\": 4.211475372314453, \"variable\": \"SW_IN\"}, {\"mean\": -8.242586135864258, \"time\": 60.0, \"std\": 5.462863445281982, \"variable\": \"SW_IN\"}, {\"mean\": -14.500368118286133, \"time\": 61.0, \"std\": 6.831657886505127, \"variable\": \"SW_IN\"}, {\"mean\": -18.08509063720703, \"time\": 62.0, \"std\": 7.6605224609375, \"variable\": \"SW_IN\"}, {\"mean\": -15.067434310913086, \"time\": 63.0, \"std\": 7.600527286529541, \"variable\": \"SW_IN\"}, {\"mean\": -2.2440929412841797, \"time\": 64.0, \"std\": 6.699584484100342, \"variable\": \"SW_IN\"}, {\"mean\": 21.423221588134766, \"time\": 65.0, \"std\": 5.4025750160217285, \"variable\": \"SW_IN\"}, {\"mean\": 53.956581115722656, \"time\": 66.0, \"std\": 4.378996849060059, \"variable\": \"SW_IN\"}, {\"mean\": 90.54656982421875, \"time\": 67.0, \"std\": 4.0114827156066895, \"variable\": \"SW_IN\"}, {\"mean\": 124.77711486816406, \"time\": 68.0, \"std\": 3.999833345413208, \"variable\": \"SW_IN\"}, {\"mean\": 150.46365356445312, \"time\": 69.0, \"std\": 3.9589550495147705, \"variable\": \"SW_IN\"}, {\"mean\": 163.38873291015625, \"time\": 70.0, \"std\": 3.8563129901885986, \"variable\": \"SW_IN\"}, {\"mean\": 162.3017578125, \"time\": 71.0, \"std\": 3.8249895572662354, \"variable\": \"SW_IN\"}, {\"mean\": 148.89163208007812, \"time\": 72.0, \"std\": 3.948115587234497, \"variable\": \"SW_IN\"}, {\"mean\": 126.8864974975586, \"time\": 73.0, \"std\": 4.201807975769043, \"variable\": \"SW_IN\"}, {\"mean\": 100.75244140625, \"time\": 74.0, \"std\": 4.46450138092041, \"variable\": \"SW_IN\"}, {\"mean\": 74.52423095703125, \"time\": 75.0, \"std\": 4.5777459144592285, \"variable\": \"SW_IN\"}, {\"mean\": 51.10078048706055, \"time\": 76.0, \"std\": 4.462378025054932, \"variable\": \"SW_IN\"}, {\"mean\": 32.080535888671875, \"time\": 77.0, \"std\": 4.19066858291626, \"variable\": \"SW_IN\"}, {\"mean\": 17.955127716064453, \"time\": 78.0, \"std\": 3.9349818229675293, \"variable\": \"SW_IN\"}, {\"mean\": 8.449190139770508, \"time\": 79.0, \"std\": 3.8190760612487793, \"variable\": \"SW_IN\"}, {\"mean\": 2.827202796936035, \"time\": 80.0, \"std\": 3.8299636840820312, \"variable\": \"SW_IN\"}, {\"mean\": 0.12343502044677734, \"time\": 81.0, \"std\": 3.887112855911255, \"variable\": \"SW_IN\"}, {\"mean\": -0.6857700347900391, \"time\": 82.0, \"std\": 3.9233946800231934, \"variable\": \"SW_IN\"}, {\"mean\": -0.530034065246582, \"time\": 83.0, \"std\": 3.8922364711761475, \"variable\": \"SW_IN\"}, {\"mean\": -0.113983154296875, \"time\": 84.0, \"std\": 3.7860541343688965, \"variable\": \"SW_IN\"}, {\"mean\": 0.15890789031982422, \"time\": 85.0, \"std\": 3.685697317123413, \"variable\": \"SW_IN\"}, {\"mean\": 0.1780405044555664, \"time\": 86.0, \"std\": 3.7191309928894043, \"variable\": \"SW_IN\"}, {\"mean\": 0.0345306396484375, \"time\": 87.0, \"std\": 3.892174005508423, \"variable\": \"SW_IN\"}, {\"mean\": -0.11155891418457031, \"time\": 88.0, \"std\": 4.068411827087402, \"variable\": \"SW_IN\"}, {\"mean\": -0.14661502838134766, \"time\": 89.0, \"std\": 4.195749282836914, \"variable\": \"SW_IN\"}, {\"mean\": -0.057018280029296875, \"time\": 90.0, \"std\": 4.402557849884033, \"variable\": \"SW_IN\"}, {\"mean\": 0.08769607543945312, \"time\": 91.0, \"std\": 4.758523941040039, \"variable\": \"SW_IN\"}, {\"mean\": 0.19513893127441406, \"time\": 92.0, \"std\": 5.060250759124756, \"variable\": \"SW_IN\"}, {\"mean\": 0.21112918853759766, \"time\": 93.0, \"std\": 5.034795761108398, \"variable\": \"SW_IN\"}, {\"mean\": 0.14618873596191406, \"time\": 94.0, \"std\": 4.626996994018555, \"variable\": \"SW_IN\"}, {\"mean\": 0.05825233459472656, \"time\": 95.0, \"std\": 4.0683722496032715, \"variable\": \"SW_IN\"}, {\"mean\": 0.007843017578125, \"time\": 96.0, \"std\": 3.7148373126983643, \"variable\": \"SW_IN\"}, {\"mean\": 0.01675891876220703, \"time\": 97.0, \"std\": 3.720851421356201, \"variable\": \"SW_IN\"}, {\"mean\": 0.05675792694091797, \"time\": 98.0, \"std\": 3.911876678466797, \"variable\": \"SW_IN\"}, {\"mean\": 0.0747232437133789, \"time\": 99.0, \"std\": 4.043965816497803, \"variable\": \"SW_IN\"}, {\"mean\": 0.036932945251464844, \"time\": 100.0, \"std\": 4.005641937255859, \"variable\": \"SW_IN\"}, {\"mean\": -0.037972450256347656, \"time\": 101.0, \"std\": 3.8533287048339844, \"variable\": \"SW_IN\"}, {\"mean\": -0.08421611785888672, \"time\": 102.0, \"std\": 3.7408931255340576, \"variable\": \"SW_IN\"}, {\"mean\": -0.036225318908691406, \"time\": 103.0, \"std\": 3.7472543716430664, \"variable\": \"SW_IN\"}, {\"mean\": 0.11033153533935547, \"time\": 104.0, \"std\": 3.785005569458008, \"variable\": \"SW_IN\"}, {\"mean\": 0.2666797637939453, \"time\": 105.0, \"std\": 3.755202054977417, \"variable\": \"SW_IN\"}, {\"mean\": 0.28328418731689453, \"time\": 106.0, \"std\": 3.6848177909851074, \"variable\": \"SW_IN\"}, {\"mean\": 0.04774188995361328, \"time\": 107.0, \"std\": 3.6502044200897217, \"variable\": \"SW_IN\"}, {\"mean\": -0.3845653533935547, \"time\": 108.0, \"std\": 3.646162986755371, \"variable\": \"SW_IN\"}, {\"mean\": -0.6942520141601562, \"time\": 109.0, \"std\": 3.644162654876709, \"variable\": \"SW_IN\"}, {\"mean\": -0.2884979248046875, \"time\": 110.0, \"std\": 3.7096216678619385, \"variable\": \"SW_IN\"}, {\"mean\": 1.619206428527832, \"time\": 111.0, \"std\": 3.8968751430511475, \"variable\": \"SW_IN\"}, {\"mean\": 5.846029281616211, \"time\": 112.0, \"std\": 4.06904935836792, \"variable\": \"SW_IN\"}, {\"mean\": 13.077192306518555, \"time\": 113.0, \"std\": 4.046469211578369, \"variable\": \"SW_IN\"}, {\"mean\": 23.691776275634766, \"time\": 114.0, \"std\": 3.9210400581359863, \"variable\": \"SW_IN\"}, {\"mean\": 37.639976501464844, \"time\": 115.0, \"std\": 4.066300868988037, \"variable\": \"SW_IN\"}, {\"mean\": 54.31017303466797, \"time\": 116.0, \"std\": 4.589181423187256, \"variable\": \"SW_IN\"}, {\"mean\": 72.4400634765625, \"time\": 117.0, \"std\": 5.091071128845215, \"variable\": \"SW_IN\"}, {\"mean\": 90.10581970214844, \"time\": 118.0, \"std\": 5.189852237701416, \"variable\": \"SW_IN\"}, {\"mean\": 104.88829040527344, \"time\": 119.0, \"std\": 4.843400001525879, \"variable\": \"SW_IN\"}, {\"mean\": 114.26380920410156, \"time\": 120.0, \"std\": 4.313159942626953, \"variable\": \"SW_IN\"}, {\"mean\": 116.19771575927734, \"time\": 121.0, \"std\": 3.9326133728027344, \"variable\": \"SW_IN\"}, {\"mean\": 109.76873016357422, \"time\": 122.0, \"std\": 3.84731125831604, \"variable\": \"SW_IN\"}, {\"mean\": 95.6155776977539, \"time\": 123.0, \"std\": 3.9497768878936768, \"variable\": \"SW_IN\"}, {\"mean\": 75.93765258789062, \"time\": 124.0, \"std\": 4.044406414031982, \"variable\": \"SW_IN\"}, {\"mean\": 54.028167724609375, \"time\": 125.0, \"std\": 4.025191783905029, \"variable\": \"SW_IN\"}, {\"mean\": 33.397972106933594, \"time\": 126.0, \"std\": 3.9167609214782715, \"variable\": \"SW_IN\"}, {\"mean\": 16.84801483154297, \"time\": 127.0, \"std\": 3.8426125049591064, \"variable\": \"SW_IN\"}, {\"mean\": 5.7893266677856445, \"time\": 128.0, \"std\": 3.871952772140503, \"variable\": \"SW_IN\"}, {\"mean\": 0.0898141860961914, \"time\": 129.0, \"std\": 3.941071033477783, \"variable\": \"SW_IN\"}, {\"mean\": -1.5800857543945312, \"time\": 130.0, \"std\": 3.9695608615875244, \"variable\": \"SW_IN\"}, {\"mean\": -1.0416288375854492, \"time\": 131.0, \"std\": 3.9591596126556396, \"variable\": \"SW_IN\"}, {\"mean\": 0.06281185150146484, \"time\": 132.0, \"std\": 3.9497768878936768, \"variable\": \"SW_IN\"}, {\"mean\": 0.7562656402587891, \"time\": 133.0, \"std\": 3.9532418251037598, \"variable\": \"SW_IN\"}, {\"mean\": 0.7724037170410156, \"time\": 134.0, \"std\": 3.9567034244537354, \"variable\": \"SW_IN\"}, {\"mean\": 0.3492860794067383, \"time\": 135.0, \"std\": 3.9550857543945312, \"variable\": \"SW_IN\"}, {\"mean\": -0.12319469451904297, \"time\": 136.0, \"std\": 3.9491822719573975, \"variable\": \"SW_IN\"}, {\"mean\": -0.3650341033935547, \"time\": 137.0, \"std\": 3.9363608360290527, \"variable\": \"SW_IN\"}, {\"mean\": -0.32894420623779297, \"time\": 138.0, \"std\": 3.897935152053833, \"variable\": \"SW_IN\"}, {\"mean\": -0.13561534881591797, \"time\": 139.0, \"std\": 3.803708553314209, \"variable\": \"SW_IN\"}, {\"mean\": 0.05193042755126953, \"time\": 140.0, \"std\": 3.695530891418457, \"variable\": \"SW_IN\"}, {\"mean\": 0.1382894515991211, \"time\": 141.0, \"std\": 3.722353219985962, \"variable\": \"SW_IN\"}, {\"mean\": 0.1161346435546875, \"time\": 142.0, \"std\": 4.0027689933776855, \"variable\": \"SW_IN\"}, {\"mean\": 0.04089546203613281, \"time\": 143.0, \"std\": 4.37553596496582, \"variable\": \"SW_IN\"}, {\"mean\": -0.033623695373535156, \"time\": 144.0, \"std\": 4.5669026374816895, \"variable\": \"SW_IN\"}, {\"mean\": -0.08779048919677734, \"time\": 145.0, \"std\": 4.522051811218262, \"variable\": \"SW_IN\"}, {\"mean\": -0.12610912322998047, \"time\": 146.0, \"std\": 4.452145576477051, \"variable\": \"SW_IN\"}, {\"mean\": -0.14111042022705078, \"time\": 147.0, \"std\": 4.459236145019531, \"variable\": \"SW_IN\"}, {\"mean\": -0.08064460754394531, \"time\": 148.0, \"std\": 4.360550403594971, \"variable\": \"SW_IN\"}, {\"mean\": 0.1567068099975586, \"time\": 149.0, \"std\": 4.5179829597473145, \"variable\": \"SW_IN\"}], \"data-f793a3deaf6d40b8a7896ae9018e72d8\": [{\"time\": 0.0, \"variable\": \"LW_IN\", \"value\": 302.475, \"is_missing\": true}, {\"time\": 1.0, \"variable\": \"LW_IN\", \"value\": 302.475, \"is_missing\": false}, {\"time\": 2.0, \"variable\": \"LW_IN\", \"value\": 301.677, \"is_missing\": true}, {\"time\": 3.0, \"variable\": \"LW_IN\", \"value\": 301.677, \"is_missing\": false}, {\"time\": 4.0, \"variable\": \"LW_IN\", \"value\": 301.677, \"is_missing\": false}, {\"time\": 5.0, \"variable\": \"LW_IN\", \"value\": 301.677, \"is_missing\": true}, {\"time\": 6.0, \"variable\": \"LW_IN\", \"value\": 301.677, \"is_missing\": false}, {\"time\": 7.0, \"variable\": \"LW_IN\", \"value\": 301.677, \"is_missing\": false}, {\"time\": 8.0, \"variable\": \"LW_IN\", \"value\": 308.046, \"is_missing\": false}, {\"time\": 9.0, \"variable\": \"LW_IN\", \"value\": 308.046, \"is_missing\": false}, {\"time\": 10.0, \"variable\": \"LW_IN\", \"value\": 308.046, \"is_missing\": false}, {\"time\": 11.0, \"variable\": \"LW_IN\", \"value\": 308.046, \"is_missing\": true}, {\"time\": 12.0, \"variable\": \"LW_IN\", \"value\": 308.046, \"is_missing\": false}, {\"time\": 13.0, \"variable\": \"LW_IN\", \"value\": 308.046, \"is_missing\": false}, {\"time\": 14.0, \"variable\": \"LW_IN\", \"value\": 316.925, \"is_missing\": true}, {\"time\": 15.0, \"variable\": \"LW_IN\", \"value\": 316.925, \"is_missing\": true}, {\"time\": 16.0, \"variable\": \"LW_IN\", \"value\": 316.925, \"is_missing\": false}, {\"time\": 17.0, \"variable\": \"LW_IN\", \"value\": 316.925, \"is_missing\": false}, {\"time\": 18.0, \"variable\": \"LW_IN\", \"value\": 316.925, \"is_missing\": false}, {\"time\": 19.0, \"variable\": \"LW_IN\", \"value\": 316.925, \"is_missing\": false}, {\"time\": 20.0, \"variable\": \"LW_IN\", \"value\": 321.15, \"is_missing\": true}, {\"time\": 21.0, \"variable\": \"LW_IN\", \"value\": 321.15, \"is_missing\": false}, {\"time\": 22.0, \"variable\": \"LW_IN\", \"value\": 321.15, \"is_missing\": true}, {\"time\": 23.0, \"variable\": \"LW_IN\", \"value\": 321.15, \"is_missing\": false}, {\"time\": 24.0, \"variable\": \"LW_IN\", \"value\": 321.15, \"is_missing\": false}, {\"time\": 25.0, \"variable\": \"LW_IN\", \"value\": 321.15, \"is_missing\": false}, {\"time\": 26.0, \"variable\": \"LW_IN\", \"value\": 323.062, \"is_missing\": true}, {\"time\": 27.0, \"variable\": \"LW_IN\", \"value\": 323.062, \"is_missing\": true}, {\"time\": 28.0, \"variable\": \"LW_IN\", \"value\": 323.062, \"is_missing\": true}, {\"time\": 29.0, \"variable\": \"LW_IN\", \"value\": 323.062, \"is_missing\": false}, {\"time\": 30.0, \"variable\": \"LW_IN\", \"value\": 323.062, \"is_missing\": false}, {\"time\": 31.0, \"variable\": \"LW_IN\", \"value\": 323.062, \"is_missing\": false}, {\"time\": 32.0, \"variable\": \"LW_IN\", \"value\": 328.053, \"is_missing\": false}, {\"time\": 33.0, \"variable\": \"LW_IN\", \"value\": 328.053, \"is_missing\": false}, {\"time\": 34.0, \"variable\": \"LW_IN\", \"value\": 328.053, \"is_missing\": false}, {\"time\": 35.0, \"variable\": \"LW_IN\", \"value\": 328.053, \"is_missing\": false}, {\"time\": 36.0, \"variable\": \"LW_IN\", \"value\": 328.053, \"is_missing\": true}, {\"time\": 37.0, \"variable\": \"LW_IN\", \"value\": 328.053, \"is_missing\": true}, {\"time\": 38.0, \"variable\": \"LW_IN\", \"value\": 329.365, \"is_missing\": false}, {\"time\": 39.0, \"variable\": \"LW_IN\", \"value\": 329.365, \"is_missing\": false}, {\"time\": 40.0, \"variable\": \"LW_IN\", \"value\": 329.365, \"is_missing\": false}, {\"time\": 41.0, \"variable\": \"LW_IN\", \"value\": 329.365, \"is_missing\": false}, {\"time\": 42.0, \"variable\": \"LW_IN\", \"value\": 329.365, \"is_missing\": false}, {\"time\": 43.0, \"variable\": \"LW_IN\", \"value\": 329.365, \"is_missing\": true}, {\"time\": 44.0, \"variable\": \"LW_IN\", \"value\": 297.593, \"is_missing\": false}, {\"time\": 45.0, \"variable\": \"LW_IN\", \"value\": 297.593, \"is_missing\": false}, {\"time\": 46.0, \"variable\": \"LW_IN\", \"value\": 297.593, \"is_missing\": false}, {\"time\": 47.0, \"variable\": \"LW_IN\", \"value\": 297.593, \"is_missing\": false}, {\"time\": 48.0, \"variable\": \"LW_IN\", \"value\": 297.593, \"is_missing\": false}, {\"time\": 49.0, \"variable\": \"LW_IN\", \"value\": 297.593, \"is_missing\": false}, {\"time\": 50.0, \"variable\": \"LW_IN\", \"value\": 277.157, \"is_missing\": false}, {\"time\": 51.0, \"variable\": \"LW_IN\", \"value\": 277.157, \"is_missing\": true}, {\"time\": 52.0, \"variable\": \"LW_IN\", \"value\": 277.157, \"is_missing\": false}, {\"time\": 53.0, \"variable\": \"LW_IN\", \"value\": 277.157, \"is_missing\": false}, {\"time\": 54.0, \"variable\": \"LW_IN\", \"value\": 277.157, \"is_missing\": true}, {\"time\": 55.0, \"variable\": \"LW_IN\", \"value\": 277.157, \"is_missing\": true}, {\"time\": 56.0, \"variable\": \"LW_IN\", \"value\": 266.713, \"is_missing\": true}, {\"time\": 57.0, \"variable\": \"LW_IN\", \"value\": 266.713, \"is_missing\": false}, {\"time\": 58.0, \"variable\": \"LW_IN\", \"value\": 266.713, \"is_missing\": false}, {\"time\": 59.0, \"variable\": \"LW_IN\", \"value\": 266.713, \"is_missing\": false}, {\"time\": 60.0, \"variable\": \"LW_IN\", \"value\": 266.713, \"is_missing\": false}, {\"time\": 61.0, \"variable\": \"LW_IN\", \"value\": 266.713, \"is_missing\": false}, {\"time\": 62.0, \"variable\": \"LW_IN\", \"value\": 259.213, \"is_missing\": false}, {\"time\": 63.0, \"variable\": \"LW_IN\", \"value\": 259.213, \"is_missing\": true}, {\"time\": 64.0, \"variable\": \"LW_IN\", \"value\": 259.213, \"is_missing\": true}, {\"time\": 65.0, \"variable\": \"LW_IN\", \"value\": 259.213, \"is_missing\": false}, {\"time\": 66.0, \"variable\": \"LW_IN\", \"value\": 259.213, \"is_missing\": false}, {\"time\": 67.0, \"variable\": \"LW_IN\", \"value\": 259.213, \"is_missing\": true}, {\"time\": 68.0, \"variable\": \"LW_IN\", \"value\": 265.357, \"is_missing\": false}, {\"time\": 69.0, \"variable\": \"LW_IN\", \"value\": 265.357, \"is_missing\": false}, {\"time\": 70.0, \"variable\": \"LW_IN\", \"value\": 265.357, \"is_missing\": false}, {\"time\": 71.0, \"variable\": \"LW_IN\", \"value\": 265.357, \"is_missing\": false}, {\"time\": 72.0, \"variable\": \"LW_IN\", \"value\": 265.357, \"is_missing\": false}, {\"time\": 73.0, \"variable\": \"LW_IN\", \"value\": 265.357, \"is_missing\": false}, {\"time\": 74.0, \"variable\": \"LW_IN\", \"value\": 279.492, \"is_missing\": false}, {\"time\": 75.0, \"variable\": \"LW_IN\", \"value\": 279.492, \"is_missing\": false}, {\"time\": 76.0, \"variable\": \"LW_IN\", \"value\": 279.492, \"is_missing\": true}, {\"time\": 77.0, \"variable\": \"LW_IN\", \"value\": 279.492, \"is_missing\": false}, {\"time\": 78.0, \"variable\": \"LW_IN\", \"value\": 279.492, \"is_missing\": true}, {\"time\": 79.0, \"variable\": \"LW_IN\", \"value\": 279.492, \"is_missing\": false}, {\"time\": 80.0, \"variable\": \"LW_IN\", \"value\": 284.641, \"is_missing\": false}, {\"time\": 81.0, \"variable\": \"LW_IN\", \"value\": 284.641, \"is_missing\": true}, {\"time\": 82.0, \"variable\": \"LW_IN\", \"value\": 284.641, \"is_missing\": false}, {\"time\": 83.0, \"variable\": \"LW_IN\", \"value\": 284.641, \"is_missing\": true}, {\"time\": 84.0, \"variable\": \"LW_IN\", \"value\": 284.641, \"is_missing\": false}, {\"time\": 85.0, \"variable\": \"LW_IN\", \"value\": 284.641, \"is_missing\": false}, {\"time\": 86.0, \"variable\": \"LW_IN\", \"value\": 290.004, \"is_missing\": false}, {\"time\": 87.0, \"variable\": \"LW_IN\", \"value\": 290.004, \"is_missing\": false}, {\"time\": 88.0, \"variable\": \"LW_IN\", \"value\": 290.004, \"is_missing\": false}, {\"time\": 89.0, \"variable\": \"LW_IN\", \"value\": 290.004, \"is_missing\": true}, {\"time\": 90.0, \"variable\": \"LW_IN\", \"value\": 290.004, \"is_missing\": false}, {\"time\": 91.0, \"variable\": \"LW_IN\", \"value\": 290.004, \"is_missing\": true}, {\"time\": 92.0, \"variable\": \"LW_IN\", \"value\": 300.274, \"is_missing\": true}, {\"time\": 93.0, \"variable\": \"LW_IN\", \"value\": 300.274, \"is_missing\": false}, {\"time\": 94.0, \"variable\": \"LW_IN\", \"value\": 300.274, \"is_missing\": true}, {\"time\": 95.0, \"variable\": \"LW_IN\", \"value\": 300.274, \"is_missing\": false}, {\"time\": 96.0, \"variable\": \"LW_IN\", \"value\": 300.274, \"is_missing\": false}, {\"time\": 97.0, \"variable\": \"LW_IN\", \"value\": 300.274, \"is_missing\": false}, {\"time\": 98.0, \"variable\": \"LW_IN\", \"value\": 304.148, \"is_missing\": false}, {\"time\": 99.0, \"variable\": \"LW_IN\", \"value\": 304.148, \"is_missing\": true}, {\"time\": 100.0, \"variable\": \"LW_IN\", \"value\": 304.148, \"is_missing\": true}, {\"time\": 101.0, \"variable\": \"LW_IN\", \"value\": 304.148, \"is_missing\": false}, {\"time\": 102.0, \"variable\": \"LW_IN\", \"value\": 304.148, \"is_missing\": false}, {\"time\": 103.0, \"variable\": \"LW_IN\", \"value\": 304.148, \"is_missing\": false}, {\"time\": 104.0, \"variable\": \"LW_IN\", \"value\": 304.382, \"is_missing\": true}, {\"time\": 105.0, \"variable\": \"LW_IN\", \"value\": 304.382, \"is_missing\": false}, {\"time\": 106.0, \"variable\": \"LW_IN\", \"value\": 304.382, \"is_missing\": false}, {\"time\": 107.0, \"variable\": \"LW_IN\", \"value\": 304.382, \"is_missing\": false}, {\"time\": 108.0, \"variable\": \"LW_IN\", \"value\": 304.382, \"is_missing\": false}, {\"time\": 109.0, \"variable\": \"LW_IN\", \"value\": 304.382, \"is_missing\": false}, {\"time\": 110.0, \"variable\": \"LW_IN\", \"value\": 298.069, \"is_missing\": false}, {\"time\": 111.0, \"variable\": \"LW_IN\", \"value\": 298.069, \"is_missing\": false}, {\"time\": 112.0, \"variable\": \"LW_IN\", \"value\": 298.069, \"is_missing\": true}, {\"time\": 113.0, \"variable\": \"LW_IN\", \"value\": 298.069, \"is_missing\": false}, {\"time\": 114.0, \"variable\": \"LW_IN\", \"value\": 298.069, \"is_missing\": false}, {\"time\": 115.0, \"variable\": \"LW_IN\", \"value\": 298.069, \"is_missing\": false}, {\"time\": 116.0, \"variable\": \"LW_IN\", \"value\": 297.189, \"is_missing\": false}, {\"time\": 117.0, \"variable\": \"LW_IN\", \"value\": 297.189, \"is_missing\": true}, {\"time\": 118.0, \"variable\": \"LW_IN\", \"value\": 297.189, \"is_missing\": true}, {\"time\": 119.0, \"variable\": \"LW_IN\", \"value\": 297.189, \"is_missing\": false}, {\"time\": 120.0, \"variable\": \"LW_IN\", \"value\": 297.189, \"is_missing\": false}, {\"time\": 121.0, \"variable\": \"LW_IN\", \"value\": 297.189, \"is_missing\": true}, {\"time\": 122.0, \"variable\": \"LW_IN\", \"value\": 291.71, \"is_missing\": false}, {\"time\": 123.0, \"variable\": \"LW_IN\", \"value\": 291.71, \"is_missing\": false}, {\"time\": 124.0, \"variable\": \"LW_IN\", \"value\": 291.71, \"is_missing\": true}, {\"time\": 125.0, \"variable\": \"LW_IN\", \"value\": 291.71, \"is_missing\": true}, {\"time\": 126.0, \"variable\": \"LW_IN\", \"value\": 291.71, \"is_missing\": false}, {\"time\": 127.0, \"variable\": \"LW_IN\", \"value\": 291.71, \"is_missing\": false}, {\"time\": 128.0, \"variable\": \"LW_IN\", \"value\": 310.192, \"is_missing\": true}, {\"time\": 129.0, \"variable\": \"LW_IN\", \"value\": 310.192, \"is_missing\": false}, {\"time\": 130.0, \"variable\": \"LW_IN\", \"value\": 310.192, \"is_missing\": true}, {\"time\": 131.0, \"variable\": \"LW_IN\", \"value\": 310.192, \"is_missing\": false}, {\"time\": 132.0, \"variable\": \"LW_IN\", \"value\": 310.192, \"is_missing\": true}, {\"time\": 133.0, \"variable\": \"LW_IN\", \"value\": 310.192, \"is_missing\": false}, {\"time\": 134.0, \"variable\": \"LW_IN\", \"value\": 317.262, \"is_missing\": true}, {\"time\": 135.0, \"variable\": \"LW_IN\", \"value\": 317.262, \"is_missing\": false}, {\"time\": 136.0, \"variable\": \"LW_IN\", \"value\": 317.262, \"is_missing\": true}, {\"time\": 137.0, \"variable\": \"LW_IN\", \"value\": 317.262, \"is_missing\": false}, {\"time\": 138.0, \"variable\": \"LW_IN\", \"value\": 317.262, \"is_missing\": false}, {\"time\": 139.0, \"variable\": \"LW_IN\", \"value\": 317.262, \"is_missing\": false}, {\"time\": 140.0, \"variable\": \"LW_IN\", \"value\": 310.161, \"is_missing\": false}, {\"time\": 141.0, \"variable\": \"LW_IN\", \"value\": 310.161, \"is_missing\": false}, {\"time\": 142.0, \"variable\": \"LW_IN\", \"value\": 310.161, \"is_missing\": false}, {\"time\": 143.0, \"variable\": \"LW_IN\", \"value\": 310.161, \"is_missing\": true}, {\"time\": 144.0, \"variable\": \"LW_IN\", \"value\": 310.161, \"is_missing\": true}, {\"time\": 145.0, \"variable\": \"LW_IN\", \"value\": 310.161, \"is_missing\": true}, {\"time\": 146.0, \"variable\": \"LW_IN\", \"value\": 304.731, \"is_missing\": false}, {\"time\": 147.0, \"variable\": \"LW_IN\", \"value\": 304.731, \"is_missing\": false}, {\"time\": 148.0, \"variable\": \"LW_IN\", \"value\": 304.731, \"is_missing\": true}, {\"time\": 149.0, \"variable\": \"LW_IN\", \"value\": 304.731, \"is_missing\": false}], \"data-69d5f0a4e316c8bee56ea405e5a7a5b3\": [{\"mean\": 302.0421447753906, \"time\": 0.0, \"std\": 5.053440570831299, \"variable\": \"LW_IN\"}, {\"mean\": 301.7940368652344, \"time\": 1.0, \"std\": 4.497928142547607, \"variable\": \"LW_IN\"}, {\"mean\": 301.61492919921875, \"time\": 2.0, \"std\": 4.171125888824463, \"variable\": \"LW_IN\"}, {\"mean\": 301.5623474121094, \"time\": 3.0, \"std\": 4.022752285003662, \"variable\": \"LW_IN\"}, {\"mean\": 301.6873779296875, \"time\": 4.0, \"std\": 3.976024627685547, \"variable\": \"LW_IN\"}, {\"mean\": 302.0274353027344, \"time\": 5.0, \"std\": 3.966984510421753, \"variable\": \"LW_IN\"}, {\"mean\": 302.603271484375, \"time\": 6.0, \"std\": 3.9614949226379395, \"variable\": \"LW_IN\"}, {\"mean\": 303.4148254394531, \"time\": 7.0, \"std\": 3.952674388885498, \"variable\": \"LW_IN\"}, {\"mean\": 304.44281005859375, \"time\": 8.0, \"std\": 3.9496612548828125, \"variable\": \"LW_IN\"}, {\"mean\": 305.6520080566406, \"time\": 9.0, \"std\": 3.9644248485565186, \"variable\": \"LW_IN\"}, {\"mean\": 306.99609375, \"time\": 10.0, \"std\": 4.000277996063232, \"variable\": \"LW_IN\"}, {\"mean\": 308.423828125, \"time\": 11.0, \"std\": 4.048441410064697, \"variable\": \"LW_IN\"}, {\"mean\": 309.8863830566406, \"time\": 12.0, \"std\": 4.090954303741455, \"variable\": \"LW_IN\"}, {\"mean\": 311.3390808105469, \"time\": 13.0, \"std\": 4.10983943939209, \"variable\": \"LW_IN\"}, {\"mean\": 312.7466735839844, \"time\": 14.0, \"std\": 4.09562873840332, \"variable\": \"LW_IN\"}, {\"mean\": 314.0835876464844, \"time\": 15.0, \"std\": 4.052237510681152, \"variable\": \"LW_IN\"}, {\"mean\": 315.33135986328125, \"time\": 16.0, \"std\": 3.996088743209839, \"variable\": \"LW_IN\"}, {\"mean\": 316.4767761230469, \"time\": 17.0, \"std\": 3.947232246398926, \"variable\": \"LW_IN\"}, {\"mean\": 317.5107727050781, \"time\": 18.0, \"std\": 3.919536828994751, \"variable\": \"LW_IN\"}, {\"mean\": 318.4245300292969, \"time\": 19.0, \"std\": 3.914156198501587, \"variable\": \"LW_IN\"}, {\"mean\": 319.2091369628906, \"time\": 20.0, \"std\": 3.9219605922698975, \"variable\": \"LW_IN\"}, {\"mean\": 319.8584289550781, \"time\": 21.0, \"std\": 3.9321346282958984, \"variable\": \"LW_IN\"}, {\"mean\": 320.37078857421875, \"time\": 22.0, \"std\": 3.941321849822998, \"variable\": \"LW_IN\"}, {\"mean\": 320.75341796875, \"time\": 23.0, \"std\": 3.954854726791382, \"variable\": \"LW_IN\"}, {\"mean\": 321.0265808105469, \"time\": 24.0, \"std\": 3.9808807373046875, \"variable\": \"LW_IN\"}, {\"mean\": 321.22735595703125, \"time\": 25.0, \"std\": 4.0208821296691895, \"variable\": \"LW_IN\"}, {\"mean\": 321.40948486328125, \"time\": 26.0, \"std\": 4.065077781677246, \"variable\": \"LW_IN\"}, {\"mean\": 321.6418151855469, \"time\": 27.0, \"std\": 4.095671653747559, \"variable\": \"LW_IN\"}, {\"mean\": 321.9994812011719, \"time\": 28.0, \"std\": 4.096732139587402, \"variable\": \"LW_IN\"}, {\"mean\": 322.554443359375, \"time\": 29.0, \"std\": 4.062667369842529, \"variable\": \"LW_IN\"}, {\"mean\": 323.35980224609375, \"time\": 30.0, \"std\": 4.003395080566406, \"variable\": \"LW_IN\"}, {\"mean\": 324.4354553222656, \"time\": 31.0, \"std\": 3.939868688583374, \"variable\": \"LW_IN\"}, {\"mean\": 325.7541809082031, \"time\": 32.0, \"std\": 3.8947906494140625, \"variable\": \"LW_IN\"}, {\"mean\": 327.2335205078125, \"time\": 33.0, \"std\": 3.880990505218506, \"variable\": \"LW_IN\"}, {\"mean\": 328.7358703613281, \"time\": 34.0, \"std\": 3.8952715396881104, \"variable\": \"LW_IN\"}, {\"mean\": 330.0774230957031, \"time\": 35.0, \"std\": 3.9212329387664795, \"variable\": \"LW_IN\"}, {\"mean\": 331.04754638671875, \"time\": 36.0, \"std\": 3.9400131702423096, \"variable\": \"LW_IN\"}, {\"mean\": 331.4342346191406, \"time\": 37.0, \"std\": 3.9398586750030518, \"variable\": \"LW_IN\"}, {\"mean\": 331.05474853515625, \"time\": 38.0, \"std\": 3.9216806888580322, \"variable\": \"LW_IN\"}, {\"mean\": 329.7841796875, \"time\": 39.0, \"std\": 3.8967342376708984, \"variable\": \"LW_IN\"}, {\"mean\": 327.57452392578125, \"time\": 40.0, \"std\": 3.8802804946899414, \"variable\": \"LW_IN\"}, {\"mean\": 324.4644470214844, \"time\": 41.0, \"std\": 3.883013963699341, \"variable\": \"LW_IN\"}, {\"mean\": 320.57574462890625, \"time\": 42.0, \"std\": 3.9055628776550293, \"variable\": \"LW_IN\"}, {\"mean\": 316.09417724609375, \"time\": 43.0, \"std\": 3.9387309551239014, \"variable\": \"LW_IN\"}, {\"mean\": 311.243896484375, \"time\": 44.0, \"std\": 3.9687912464141846, \"variable\": \"LW_IN\"}, {\"mean\": 306.25592041015625, \"time\": 45.0, \"std\": 3.9840378761291504, \"variable\": \"LW_IN\"}, {\"mean\": 301.3374938964844, \"time\": 46.0, \"std\": 3.9794318675994873, \"variable\": \"LW_IN\"}, {\"mean\": 296.6528015136719, \"time\": 47.0, \"std\": 3.958317518234253, \"variable\": \"LW_IN\"}, {\"mean\": 292.30999755859375, \"time\": 48.0, \"std\": 3.931710720062256, \"variable\": \"LW_IN\"}, {\"mean\": 288.360107421875, \"time\": 49.0, \"std\": 3.9145095348358154, \"variable\": \"LW_IN\"}, {\"mean\": 284.80853271484375, \"time\": 50.0, \"std\": 3.9197471141815186, \"variable\": \"LW_IN\"}, {\"mean\": 281.628662109375, \"time\": 51.0, \"std\": 3.951669454574585, \"variable\": \"LW_IN\"}, {\"mean\": 278.7788391113281, \"time\": 52.0, \"std\": 4.001564979553223, \"variable\": \"LW_IN\"}, {\"mean\": 276.2174987792969, \"time\": 53.0, \"std\": 4.050381183624268, \"variable\": \"LW_IN\"}, {\"mean\": 273.9117736816406, \"time\": 54.0, \"std\": 4.077844142913818, \"variable\": \"LW_IN\"}, {\"mean\": 271.8414611816406, \"time\": 55.0, \"std\": 4.0744757652282715, \"variable\": \"LW_IN\"}, {\"mean\": 269.9975891113281, \"time\": 56.0, \"std\": 4.050248146057129, \"variable\": \"LW_IN\"}, {\"mean\": 268.3778076171875, \"time\": 57.0, \"std\": 4.034607410430908, \"variable\": \"LW_IN\"}, {\"mean\": 266.98040771484375, \"time\": 58.0, \"std\": 4.063688278198242, \"variable\": \"LW_IN\"}, {\"mean\": 265.800048828125, \"time\": 59.0, \"std\": 4.158082485198975, \"variable\": \"LW_IN\"}, {\"mean\": 264.8250732421875, \"time\": 60.0, \"std\": 4.306087970733643, \"variable\": \"LW_IN\"}, {\"mean\": 264.0385437011719, \"time\": 61.0, \"std\": 4.466980934143066, \"variable\": \"LW_IN\"}, {\"mean\": 263.42083740234375, \"time\": 62.0, \"std\": 4.591015815734863, \"variable\": \"LW_IN\"}, {\"mean\": 262.9547119140625, \"time\": 63.0, \"std\": 4.640740394592285, \"variable\": \"LW_IN\"}, {\"mean\": 262.6299743652344, \"time\": 64.0, \"std\": 4.603269577026367, \"variable\": \"LW_IN\"}, {\"mean\": 262.447509765625, \"time\": 65.0, \"std\": 4.491840839385986, \"variable\": \"LW_IN\"}, {\"mean\": 262.4211730957031, \"time\": 66.0, \"std\": 4.339275360107422, \"variable\": \"LW_IN\"}, {\"mean\": 262.5772399902344, \"time\": 67.0, \"std\": 4.185998916625977, \"variable\": \"LW_IN\"}, {\"mean\": 262.9505615234375, \"time\": 68.0, \"std\": 4.066675186157227, \"variable\": \"LW_IN\"}, {\"mean\": 263.578369140625, \"time\": 69.0, \"std\": 4.000508785247803, \"variable\": \"LW_IN\"}, {\"mean\": 264.4924011230469, \"time\": 70.0, \"std\": 3.988847255706787, \"variable\": \"LW_IN\"}, {\"mean\": 265.7101745605469, \"time\": 71.0, \"std\": 4.019506454467773, \"variable\": \"LW_IN\"}, {\"mean\": 267.2279357910156, \"time\": 72.0, \"std\": 4.073246002197266, \"variable\": \"LW_IN\"}, {\"mean\": 269.0157165527344, \"time\": 73.0, \"std\": 4.128998756408691, \"variable\": \"LW_IN\"}, {\"mean\": 271.0167236328125, \"time\": 74.0, \"std\": 4.168021202087402, \"variable\": \"LW_IN\"}, {\"mean\": 273.1510314941406, \"time\": 75.0, \"std\": 4.17795991897583, \"variable\": \"LW_IN\"}, {\"mean\": 275.3236999511719, \"time\": 76.0, \"std\": 4.156259059906006, \"variable\": \"LW_IN\"}, {\"mean\": 277.4360046386719, \"time\": 77.0, \"std\": 4.111082553863525, \"variable\": \"LW_IN\"}, {\"mean\": 279.3981018066406, \"time\": 78.0, \"std\": 4.057877540588379, \"variable\": \"LW_IN\"}, {\"mean\": 281.14080810546875, \"time\": 79.0, \"std\": 4.012192249298096, \"variable\": \"LW_IN\"}, {\"mean\": 282.6244812011719, \"time\": 80.0, \"std\": 3.98215913772583, \"variable\": \"LW_IN\"}, {\"mean\": 283.843505859375, \"time\": 81.0, \"std\": 3.9653525352478027, \"variable\": \"LW_IN\"}, {\"mean\": 284.8257141113281, \"time\": 82.0, \"std\": 3.952805995941162, \"variable\": \"LW_IN\"}, {\"mean\": 285.62646484375, \"time\": 83.0, \"std\": 3.9371495246887207, \"variable\": \"LW_IN\"}, {\"mean\": 286.3194580078125, \"time\": 84.0, \"std\": 3.9197046756744385, \"variable\": \"LW_IN\"}, {\"mean\": 286.9853515625, \"time\": 85.0, \"std\": 3.911865711212158, \"variable\": \"LW_IN\"}, {\"mean\": 287.69964599609375, \"time\": 86.0, \"std\": 3.9298293590545654, \"variable\": \"LW_IN\"}, {\"mean\": 288.5230712890625, \"time\": 87.0, \"std\": 3.9843997955322266, \"variable\": \"LW_IN\"}, {\"mean\": 289.4941711425781, \"time\": 88.0, \"std\": 4.072239398956299, \"variable\": \"LW_IN\"}, {\"mean\": 290.62615966796875, \"time\": 89.0, \"std\": 4.174197673797607, \"variable\": \"LW_IN\"}, {\"mean\": 291.90740966796875, \"time\": 90.0, \"std\": 4.261982440948486, \"variable\": \"LW_IN\"}, {\"mean\": 293.3055725097656, \"time\": 91.0, \"std\": 4.309173107147217, \"variable\": \"LW_IN\"}, {\"mean\": 294.7742614746094, \"time\": 92.0, \"std\": 4.301022529602051, \"variable\": \"LW_IN\"}, {\"mean\": 296.2606506347656, \"time\": 93.0, \"std\": 4.2400288581848145, \"variable\": \"LW_IN\"}, {\"mean\": 297.7132873535156, \"time\": 94.0, \"std\": 4.145508766174316, \"variable\": \"LW_IN\"}, {\"mean\": 299.08819580078125, \"time\": 95.0, \"std\": 4.0469584465026855, \"variable\": \"LW_IN\"}, {\"mean\": 300.3522644042969, \"time\": 96.0, \"std\": 3.9721035957336426, \"variable\": \"LW_IN\"}, {\"mean\": 301.4840087890625, \"time\": 97.0, \"std\": 3.9348647594451904, \"variable\": \"LW_IN\"}, {\"mean\": 302.4712219238281, \"time\": 98.0, \"std\": 3.9307451248168945, \"variable\": \"LW_IN\"}, {\"mean\": 303.30682373046875, \"time\": 99.0, \"std\": 3.942812204360962, \"variable\": \"LW_IN\"}, {\"mean\": 303.9842224121094, \"time\": 100.0, \"std\": 3.9531238079071045, \"variable\": \"LW_IN\"}, {\"mean\": 304.4935302734375, \"time\": 101.0, \"std\": 3.9515552520751953, \"variable\": \"LW_IN\"}, {\"mean\": 304.8209533691406, \"time\": 102.0, \"std\": 3.9372763633728027, \"variable\": \"LW_IN\"}, {\"mean\": 304.9501037597656, \"time\": 103.0, \"std\": 3.9154412746429443, \"variable\": \"LW_IN\"}, {\"mean\": 304.8677978515625, \"time\": 104.0, \"std\": 3.89190673828125, \"variable\": \"LW_IN\"}, {\"mean\": 304.5705871582031, \"time\": 105.0, \"std\": 3.8708696365356445, \"variable\": \"LW_IN\"}, {\"mean\": 304.0704040527344, \"time\": 106.0, \"std\": 3.854806661605835, \"variable\": \"LW_IN\"}, {\"mean\": 303.39959716796875, \"time\": 107.0, \"std\": 3.8463637828826904, \"variable\": \"LW_IN\"}, {\"mean\": 302.6090393066406, \"time\": 108.0, \"std\": 3.8482701778411865, \"variable\": \"LW_IN\"}, {\"mean\": 301.76300048828125, \"time\": 109.0, \"std\": 3.862431287765503, \"variable\": \"LW_IN\"}, {\"mean\": 300.9280700683594, \"time\": 110.0, \"std\": 3.8886547088623047, \"variable\": \"LW_IN\"}, {\"mean\": 300.1602478027344, \"time\": 111.0, \"std\": 3.9253225326538086, \"variable\": \"LW_IN\"}, {\"mean\": 299.49212646484375, \"time\": 112.0, \"std\": 3.971172571182251, \"variable\": \"LW_IN\"}, {\"mean\": 298.9250793457031, \"time\": 113.0, \"std\": 4.026127338409424, \"variable\": \"LW_IN\"}, {\"mean\": 298.4270324707031, \"time\": 114.0, \"std\": 4.089057445526123, \"variable\": \"LW_IN\"}, {\"mean\": 297.9407043457031, \"time\": 115.0, \"std\": 4.154561996459961, \"variable\": \"LW_IN\"}, {\"mean\": 297.3974304199219, \"time\": 116.0, \"std\": 4.2115092277526855, \"variable\": \"LW_IN\"}, {\"mean\": 296.73773193359375, \"time\": 117.0, \"std\": 4.245996952056885, \"variable\": \"LW_IN\"}, {\"mean\": 295.9316711425781, \"time\": 118.0, \"std\": 4.24741268157959, \"variable\": \"LW_IN\"}, {\"mean\": 294.9953918457031, \"time\": 119.0, \"std\": 4.2147955894470215, \"variable\": \"LW_IN\"}, {\"mean\": 293.9996337890625, \"time\": 120.0, \"std\": 4.158280372619629, \"variable\": \"LW_IN\"}, {\"mean\": 293.064697265625, \"time\": 121.0, \"std\": 4.095887184143066, \"variable\": \"LW_IN\"}, {\"mean\": 292.3479309082031, \"time\": 122.0, \"std\": 4.04492712020874, \"variable\": \"LW_IN\"}, {\"mean\": 292.0181579589844, \"time\": 123.0, \"std\": 4.014621257781982, \"variable\": \"LW_IN\"}, {\"mean\": 292.22662353515625, \"time\": 124.0, \"std\": 4.0034027099609375, \"variable\": \"LW_IN\"}, {\"mean\": 293.079833984375, \"time\": 125.0, \"std\": 4.002694606781006, \"variable\": \"LW_IN\"}, {\"mean\": 294.617431640625, \"time\": 126.0, \"std\": 4.004292011260986, \"variable\": \"LW_IN\"}, {\"mean\": 296.7997741699219, \"time\": 127.0, \"std\": 4.004448890686035, \"variable\": \"LW_IN\"}, {\"mean\": 299.51123046875, \"time\": 128.0, \"std\": 4.00410795211792, \"variable\": \"LW_IN\"}, {\"mean\": 302.5730285644531, \"time\": 129.0, \"std\": 4.005589485168457, \"variable\": \"LW_IN\"}, {\"mean\": 305.7644348144531, \"time\": 130.0, \"std\": 4.010395050048828, \"variable\": \"LW_IN\"}, {\"mean\": 308.8502502441406, \"time\": 131.0, \"std\": 4.017963886260986, \"variable\": \"LW_IN\"}, {\"mean\": 311.61376953125, \"time\": 132.0, \"std\": 4.0261077880859375, \"variable\": \"LW_IN\"}, {\"mean\": 313.8742370605469, \"time\": 133.0, \"std\": 4.032985687255859, \"variable\": \"LW_IN\"}, {\"mean\": 315.5065612792969, \"time\": 134.0, \"std\": 4.035902976989746, \"variable\": \"LW_IN\"}, {\"mean\": 316.45245361328125, \"time\": 135.0, \"std\": 4.031164169311523, \"variable\": \"LW_IN\"}, {\"mean\": 316.7139892578125, \"time\": 136.0, \"std\": 4.015324592590332, \"variable\": \"LW_IN\"}, {\"mean\": 316.3523864746094, \"time\": 137.0, \"std\": 3.9871551990509033, \"variable\": \"LW_IN\"}, {\"mean\": 315.4725341796875, \"time\": 138.0, \"std\": 3.952227830886841, \"variable\": \"LW_IN\"}, {\"mean\": 314.2073669433594, \"time\": 139.0, \"std\": 3.9236981868743896, \"variable\": \"LW_IN\"}, {\"mean\": 312.70220947265625, \"time\": 140.0, \"std\": 3.9203951358795166, \"variable\": \"LW_IN\"}, {\"mean\": 311.1007995605469, \"time\": 141.0, \"std\": 3.9561192989349365, \"variable\": \"LW_IN\"}, {\"mean\": 309.5304870605469, \"time\": 142.0, \"std\": 4.031127452850342, \"variable\": \"LW_IN\"}, {\"mean\": 308.0931091308594, \"time\": 143.0, \"std\": 4.12718391418457, \"variable\": \"LW_IN\"}, {\"mean\": 306.8608703613281, \"time\": 144.0, \"std\": 4.215328693389893, \"variable\": \"LW_IN\"}, {\"mean\": 305.871337890625, \"time\": 145.0, \"std\": 4.271206378936768, \"variable\": \"LW_IN\"}, {\"mean\": 305.13079833984375, \"time\": 146.0, \"std\": 4.291926383972168, \"variable\": \"LW_IN\"}, {\"mean\": 304.618408203125, \"time\": 147.0, \"std\": 4.311511993408203, \"variable\": \"LW_IN\"}, {\"mean\": 304.29339599609375, \"time\": 148.0, \"std\": 4.405774116516113, \"variable\": \"LW_IN\"}, {\"mean\": 304.1025695800781, \"time\": 149.0, \"std\": 4.672199726104736, \"variable\": \"LW_IN\"}], \"data-bbb44771a2acaa0e7c87a7508c89dc4a\": [{\"time\": 0.0, \"variable\": \"VPD\", \"value\": 0.222, \"is_missing\": true}, {\"time\": 1.0, \"variable\": \"VPD\", \"value\": 0.122, \"is_missing\": false}, {\"time\": 2.0, \"variable\": \"VPD\", \"value\": 0.09, \"is_missing\": true}, {\"time\": 3.0, \"variable\": \"VPD\", \"value\": 0.11, \"is_missing\": false}, {\"time\": 4.0, \"variable\": \"VPD\", \"value\": 0.102, \"is_missing\": false}, {\"time\": 5.0, \"variable\": \"VPD\", \"value\": 0.111, \"is_missing\": true}, {\"time\": 6.0, \"variable\": \"VPD\", \"value\": 0.109, \"is_missing\": false}, {\"time\": 7.0, \"variable\": \"VPD\", \"value\": 0.107, \"is_missing\": false}, {\"time\": 8.0, \"variable\": \"VPD\", \"value\": 0.122, \"is_missing\": true}, {\"time\": 9.0, \"variable\": \"VPD\", \"value\": 0.138, \"is_missing\": false}, {\"time\": 10.0, \"variable\": \"VPD\", \"value\": 0.138, \"is_missing\": false}, {\"time\": 11.0, \"variable\": \"VPD\", \"value\": 0.122, \"is_missing\": true}, {\"time\": 12.0, \"variable\": \"VPD\", \"value\": 0.098, \"is_missing\": false}, {\"time\": 13.0, \"variable\": \"VPD\", \"value\": 0.066, \"is_missing\": false}, {\"time\": 14.0, \"variable\": \"VPD\", \"value\": 0.044, \"is_missing\": false}, {\"time\": 15.0, \"variable\": \"VPD\", \"value\": 0.026, \"is_missing\": true}, {\"time\": 16.0, \"variable\": \"VPD\", \"value\": 0.016, \"is_missing\": false}, {\"time\": 17.0, \"variable\": \"VPD\", \"value\": 0.01, \"is_missing\": false}, {\"time\": 18.0, \"variable\": \"VPD\", \"value\": 0.006, \"is_missing\": false}, {\"time\": 19.0, \"variable\": \"VPD\", \"value\": 0.006, \"is_missing\": false}, {\"time\": 20.0, \"variable\": \"VPD\", \"value\": 0.006, \"is_missing\": false}, {\"time\": 21.0, \"variable\": \"VPD\", \"value\": 0.011, \"is_missing\": false}, {\"time\": 22.0, \"variable\": \"VPD\", \"value\": 0.019, \"is_missing\": true}, {\"time\": 23.0, \"variable\": \"VPD\", \"value\": 0.014, \"is_missing\": false}, {\"time\": 24.0, \"variable\": \"VPD\", \"value\": 0.008, \"is_missing\": false}, {\"time\": 25.0, \"variable\": \"VPD\", \"value\": 0.006, \"is_missing\": false}, {\"time\": 26.0, \"variable\": \"VPD\", \"value\": 0.0, \"is_missing\": true}, {\"time\": 27.0, \"variable\": \"VPD\", \"value\": 0.0, \"is_missing\": true}, {\"time\": 28.0, \"variable\": \"VPD\", \"value\": 0.0, \"is_missing\": true}, {\"time\": 29.0, \"variable\": \"VPD\", \"value\": 0.0, \"is_missing\": false}, {\"time\": 30.0, \"variable\": \"VPD\", \"value\": 0.0, \"is_missing\": true}, {\"time\": 31.0, \"variable\": \"VPD\", \"value\": 0.0, \"is_missing\": false}, {\"time\": 32.0, \"variable\": \"VPD\", \"value\": 0.0, \"is_missing\": false}, {\"time\": 33.0, \"variable\": \"VPD\", \"value\": 0.0, \"is_missing\": false}, {\"time\": 34.0, \"variable\": \"VPD\", \"value\": 0.0, \"is_missing\": false}, {\"time\": 35.0, \"variable\": \"VPD\", \"value\": 0.0, \"is_missing\": false}, {\"time\": 36.0, \"variable\": \"VPD\", \"value\": 0.0, \"is_missing\": false}, {\"time\": 37.0, \"variable\": \"VPD\", \"value\": 0.002, \"is_missing\": false}, {\"time\": 38.0, \"variable\": \"VPD\", \"value\": 0.009, \"is_missing\": false}, {\"time\": 39.0, \"variable\": \"VPD\", \"value\": 0.014, \"is_missing\": false}, {\"time\": 40.0, \"variable\": \"VPD\", \"value\": 0.014, \"is_missing\": false}, {\"time\": 41.0, \"variable\": \"VPD\", \"value\": 0.038, \"is_missing\": false}, {\"time\": 42.0, \"variable\": \"VPD\", \"value\": 0.079, \"is_missing\": false}, {\"time\": 43.0, \"variable\": \"VPD\", \"value\": 0.257, \"is_missing\": false}, {\"time\": 44.0, \"variable\": \"VPD\", \"value\": 0.388, \"is_missing\": false}, {\"time\": 45.0, \"variable\": \"VPD\", \"value\": 0.555, \"is_missing\": false}, {\"time\": 46.0, \"variable\": \"VPD\", \"value\": 0.452, \"is_missing\": false}, {\"time\": 47.0, \"variable\": \"VPD\", \"value\": 0.435, \"is_missing\": false}, {\"time\": 48.0, \"variable\": \"VPD\", \"value\": 0.248, \"is_missing\": false}, {\"time\": 49.0, \"variable\": \"VPD\", \"value\": 0.234, \"is_missing\": false}, {\"time\": 50.0, \"variable\": \"VPD\", \"value\": 0.377, \"is_missing\": false}, {\"time\": 51.0, \"variable\": \"VPD\", \"value\": 0.414, \"is_missing\": false}, {\"time\": 52.0, \"variable\": \"VPD\", \"value\": 0.356, \"is_missing\": false}, {\"time\": 53.0, \"variable\": \"VPD\", \"value\": 0.205, \"is_missing\": false}, {\"time\": 54.0, \"variable\": \"VPD\", \"value\": 0.188, \"is_missing\": true}, {\"time\": 55.0, \"variable\": \"VPD\", \"value\": 0.232, \"is_missing\": true}, {\"time\": 56.0, \"variable\": \"VPD\", \"value\": 0.27, \"is_missing\": true}, {\"time\": 57.0, \"variable\": \"VPD\", \"value\": 0.273, \"is_missing\": false}, {\"time\": 58.0, \"variable\": \"VPD\", \"value\": 0.225, \"is_missing\": false}, {\"time\": 59.0, \"variable\": \"VPD\", \"value\": 0.123, \"is_missing\": false}, {\"time\": 60.0, \"variable\": \"VPD\", \"value\": 0.053, \"is_missing\": true}, {\"time\": 61.0, \"variable\": \"VPD\", \"value\": 0.026, \"is_missing\": false}, {\"time\": 62.0, \"variable\": \"VPD\", \"value\": 0.013, \"is_missing\": true}, {\"time\": 63.0, \"variable\": \"VPD\", \"value\": 0.017, \"is_missing\": true}, {\"time\": 64.0, \"variable\": \"VPD\", \"value\": 0.18, \"is_missing\": true}, {\"time\": 65.0, \"variable\": \"VPD\", \"value\": 0.162, \"is_missing\": true}, {\"time\": 66.0, \"variable\": \"VPD\", \"value\": 0.177, \"is_missing\": false}, {\"time\": 67.0, \"variable\": \"VPD\", \"value\": 0.181, \"is_missing\": true}, {\"time\": 68.0, \"variable\": \"VPD\", \"value\": 0.188, \"is_missing\": false}, {\"time\": 69.0, \"variable\": \"VPD\", \"value\": 0.276, \"is_missing\": true}, {\"time\": 70.0, \"variable\": \"VPD\", \"value\": 0.309, \"is_missing\": false}, {\"time\": 71.0, \"variable\": \"VPD\", \"value\": 0.346, \"is_missing\": false}, {\"time\": 72.0, \"variable\": \"VPD\", \"value\": 0.297, \"is_missing\": true}, {\"time\": 73.0, \"variable\": \"VPD\", \"value\": 0.349, \"is_missing\": false}, {\"time\": 74.0, \"variable\": \"VPD\", \"value\": 0.362, \"is_missing\": false}, {\"time\": 75.0, \"variable\": \"VPD\", \"value\": 0.381, \"is_missing\": false}, {\"time\": 76.0, \"variable\": \"VPD\", \"value\": 0.369, \"is_missing\": false}, {\"time\": 77.0, \"variable\": \"VPD\", \"value\": 0.24, \"is_missing\": false}, {\"time\": 78.0, \"variable\": \"VPD\", \"value\": 0.111, \"is_missing\": true}, {\"time\": 79.0, \"variable\": \"VPD\", \"value\": 0.062, \"is_missing\": false}, {\"time\": 80.0, \"variable\": \"VPD\", \"value\": 0.044, \"is_missing\": false}, {\"time\": 81.0, \"variable\": \"VPD\", \"value\": 0.034, \"is_missing\": true}, {\"time\": 82.0, \"variable\": \"VPD\", \"value\": 0.032, \"is_missing\": false}, {\"time\": 83.0, \"variable\": \"VPD\", \"value\": 0.055, \"is_missing\": true}, {\"time\": 84.0, \"variable\": \"VPD\", \"value\": 0.125, \"is_missing\": false}, {\"time\": 85.0, \"variable\": \"VPD\", \"value\": 0.128, \"is_missing\": false}, {\"time\": 86.0, \"variable\": \"VPD\", \"value\": 0.201, \"is_missing\": false}, {\"time\": 87.0, \"variable\": \"VPD\", \"value\": 0.174, \"is_missing\": false}, {\"time\": 88.0, \"variable\": \"VPD\", \"value\": 0.154, \"is_missing\": false}, {\"time\": 89.0, \"variable\": \"VPD\", \"value\": 0.177, \"is_missing\": false}, {\"time\": 90.0, \"variable\": \"VPD\", \"value\": 0.192, \"is_missing\": false}, {\"time\": 91.0, \"variable\": \"VPD\", \"value\": 0.149, \"is_missing\": true}, {\"time\": 92.0, \"variable\": \"VPD\", \"value\": 0.112, \"is_missing\": true}, {\"time\": 93.0, \"variable\": \"VPD\", \"value\": 0.075, \"is_missing\": false}, {\"time\": 94.0, \"variable\": \"VPD\", \"value\": 0.038, \"is_missing\": true}, {\"time\": 95.0, \"variable\": \"VPD\", \"value\": 0.021, \"is_missing\": false}, {\"time\": 96.0, \"variable\": \"VPD\", \"value\": 0.013, \"is_missing\": false}, {\"time\": 97.0, \"variable\": \"VPD\", \"value\": 0.004, \"is_missing\": false}, {\"time\": 98.0, \"variable\": \"VPD\", \"value\": 0.0, \"is_missing\": false}, {\"time\": 99.0, \"variable\": \"VPD\", \"value\": 0.0, \"is_missing\": true}, {\"time\": 100.0, \"variable\": \"VPD\", \"value\": 0.0, \"is_missing\": false}, {\"time\": 101.0, \"variable\": \"VPD\", \"value\": 0.0, \"is_missing\": false}, {\"time\": 102.0, \"variable\": \"VPD\", \"value\": 0.0, \"is_missing\": false}, {\"time\": 103.0, \"variable\": \"VPD\", \"value\": 0.0, \"is_missing\": false}, {\"time\": 104.0, \"variable\": \"VPD\", \"value\": 0.0, \"is_missing\": true}, {\"time\": 105.0, \"variable\": \"VPD\", \"value\": 0.0, \"is_missing\": false}, {\"time\": 106.0, \"variable\": \"VPD\", \"value\": 0.009, \"is_missing\": false}, {\"time\": 107.0, \"variable\": \"VPD\", \"value\": 0.061, \"is_missing\": false}, {\"time\": 108.0, \"variable\": \"VPD\", \"value\": 0.174, \"is_missing\": false}, {\"time\": 109.0, \"variable\": \"VPD\", \"value\": 0.208, \"is_missing\": false}, {\"time\": 110.0, \"variable\": \"VPD\", \"value\": 0.294, \"is_missing\": false}, {\"time\": 111.0, \"variable\": \"VPD\", \"value\": 0.37, \"is_missing\": false}, {\"time\": 112.0, \"variable\": \"VPD\", \"value\": 0.478, \"is_missing\": true}, {\"time\": 113.0, \"variable\": \"VPD\", \"value\": 0.557, \"is_missing\": false}, {\"time\": 114.0, \"variable\": \"VPD\", \"value\": 0.617, \"is_missing\": false}, {\"time\": 115.0, \"variable\": \"VPD\", \"value\": 0.656, \"is_missing\": false}, {\"time\": 116.0, \"variable\": \"VPD\", \"value\": 0.654, \"is_missing\": false}, {\"time\": 117.0, \"variable\": \"VPD\", \"value\": 0.704, \"is_missing\": true}, {\"time\": 118.0, \"variable\": \"VPD\", \"value\": 0.838, \"is_missing\": false}, {\"time\": 119.0, \"variable\": \"VPD\", \"value\": 0.914, \"is_missing\": false}, {\"time\": 120.0, \"variable\": \"VPD\", \"value\": 0.818, \"is_missing\": false}, {\"time\": 121.0, \"variable\": \"VPD\", \"value\": 0.728, \"is_missing\": true}, {\"time\": 122.0, \"variable\": \"VPD\", \"value\": 0.749, \"is_missing\": false}, {\"time\": 123.0, \"variable\": \"VPD\", \"value\": 0.773, \"is_missing\": false}, {\"time\": 124.0, \"variable\": \"VPD\", \"value\": 0.787, \"is_missing\": true}, {\"time\": 125.0, \"variable\": \"VPD\", \"value\": 0.759, \"is_missing\": true}, {\"time\": 126.0, \"variable\": \"VPD\", \"value\": 0.723, \"is_missing\": false}, {\"time\": 127.0, \"variable\": \"VPD\", \"value\": 0.671, \"is_missing\": false}, {\"time\": 128.0, \"variable\": \"VPD\", \"value\": 0.657, \"is_missing\": true}, {\"time\": 129.0, \"variable\": \"VPD\", \"value\": 0.641, \"is_missing\": false}, {\"time\": 130.0, \"variable\": \"VPD\", \"value\": 0.559, \"is_missing\": true}, {\"time\": 131.0, \"variable\": \"VPD\", \"value\": 0.452, \"is_missing\": false}, {\"time\": 132.0, \"variable\": \"VPD\", \"value\": 0.389, \"is_missing\": true}, {\"time\": 133.0, \"variable\": \"VPD\", \"value\": 0.412, \"is_missing\": false}, {\"time\": 134.0, \"variable\": \"VPD\", \"value\": 0.429, \"is_missing\": true}, {\"time\": 135.0, \"variable\": \"VPD\", \"value\": 0.449, \"is_missing\": false}, {\"time\": 136.0, \"variable\": \"VPD\", \"value\": 0.471, \"is_missing\": true}, {\"time\": 137.0, \"variable\": \"VPD\", \"value\": 0.434, \"is_missing\": false}, {\"time\": 138.0, \"variable\": \"VPD\", \"value\": 0.432, \"is_missing\": false}, {\"time\": 139.0, \"variable\": \"VPD\", \"value\": 0.409, \"is_missing\": false}, {\"time\": 140.0, \"variable\": \"VPD\", \"value\": 0.417, \"is_missing\": false}, {\"time\": 141.0, \"variable\": \"VPD\", \"value\": 0.432, \"is_missing\": false}, {\"time\": 142.0, \"variable\": \"VPD\", \"value\": 0.441, \"is_missing\": false}, {\"time\": 143.0, \"variable\": \"VPD\", \"value\": 0.467, \"is_missing\": true}, {\"time\": 144.0, \"variable\": \"VPD\", \"value\": 0.459, \"is_missing\": false}, {\"time\": 145.0, \"variable\": \"VPD\", \"value\": 0.545, \"is_missing\": true}, {\"time\": 146.0, \"variable\": \"VPD\", \"value\": 0.7, \"is_missing\": false}, {\"time\": 147.0, \"variable\": \"VPD\", \"value\": 0.813, \"is_missing\": false}, {\"time\": 148.0, \"variable\": \"VPD\", \"value\": 0.952, \"is_missing\": true}, {\"time\": 149.0, \"variable\": \"VPD\", \"value\": 0.971, \"is_missing\": false}], \"data-a5e97a23725c132ab38e63a195e729dd\": [{\"mean\": 0.14044758677482605, \"time\": 0.0, \"std\": 0.06625325232744217, \"variable\": \"VPD\"}, {\"mean\": 0.12459861487150192, \"time\": 1.0, \"std\": 0.05463181063532829, \"variable\": \"VPD\"}, {\"mean\": 0.11253662407398224, \"time\": 2.0, \"std\": 0.04927525296807289, \"variable\": \"VPD\"}, {\"mean\": 0.10532374680042267, \"time\": 3.0, \"std\": 0.047739312052726746, \"variable\": \"VPD\"}, {\"mean\": 0.10339069366455078, \"time\": 4.0, \"std\": 0.047506459057331085, \"variable\": \"VPD\"}, {\"mean\": 0.10630343854427338, \"time\": 5.0, \"std\": 0.04741327092051506, \"variable\": \"VPD\"}, {\"mean\": 0.11269557476043701, \"time\": 6.0, \"std\": 0.04726024344563484, \"variable\": \"VPD\"}, {\"mean\": 0.12042894959449768, \"time\": 7.0, \"std\": 0.047096434980630875, \"variable\": \"VPD\"}, {\"mean\": 0.12694233655929565, \"time\": 8.0, \"std\": 0.046980731189250946, \"variable\": \"VPD\"}, {\"mean\": 0.12975960969924927, \"time\": 9.0, \"std\": 0.04704846814274788, \"variable\": \"VPD\"}, {\"mean\": 0.1269717812538147, \"time\": 10.0, \"std\": 0.04753934219479561, \"variable\": \"VPD\"}, {\"mean\": 0.11776473373174667, \"time\": 11.0, \"std\": 0.04857757315039635, \"variable\": \"VPD\"}, {\"mean\": 0.10256680846214294, \"time\": 12.0, \"std\": 0.049875784665346146, \"variable\": \"VPD\"}, {\"mean\": 0.08301828801631927, \"time\": 13.0, \"std\": 0.05081601440906525, \"variable\": \"VPD\"}, {\"mean\": 0.06161874532699585, \"time\": 14.0, \"std\": 0.05080621689558029, \"variable\": \"VPD\"}, {\"mean\": 0.04117301106452942, \"time\": 15.0, \"std\": 0.04972914606332779, \"variable\": \"VPD\"}, {\"mean\": 0.0241776704788208, \"time\": 16.0, \"std\": 0.04805572330951691, \"variable\": \"VPD\"}, {\"mean\": 0.012291491031646729, \"time\": 17.0, \"std\": 0.04665606468915939, \"variable\": \"VPD\"}, {\"mean\": 0.006023421883583069, \"time\": 18.0, \"std\": 0.04619967192411423, \"variable\": \"VPD\"}, {\"mean\": 0.004695385694503784, \"time\": 19.0, \"std\": 0.04662737622857094, \"variable\": \"VPD\"}, {\"mean\": 0.0066907405853271484, \"time\": 20.0, \"std\": 0.04727999120950699, \"variable\": \"VPD\"}, {\"mean\": 0.009932190179824829, \"time\": 21.0, \"std\": 0.04751213639974594, \"variable\": \"VPD\"}, {\"mean\": 0.012426838278770447, \"time\": 22.0, \"std\": 0.04720680043101311, \"variable\": \"VPD\"}, {\"mean\": 0.012788727879524231, \"time\": 23.0, \"std\": 0.04684688150882721, \"variable\": \"VPD\"}, {\"mean\": 0.01057460904121399, \"time\": 24.0, \"std\": 0.04709489271044731, \"variable\": \"VPD\"}, {\"mean\": 0.006358981132507324, \"time\": 25.0, \"std\": 0.04817293584346771, \"variable\": \"VPD\"}, {\"mean\": 0.0015130043029785156, \"time\": 26.0, \"std\": 0.0496223010122776, \"variable\": \"VPD\"}, {\"mean\": -0.0022769421339035034, \"time\": 27.0, \"std\": 0.05066957324743271, \"variable\": \"VPD\"}, {\"mean\": -0.0036177784204483032, \"time\": 28.0, \"std\": 0.050763458013534546, \"variable\": \"VPD\"}, {\"mean\": -0.0019893646240234375, \"time\": 29.0, \"std\": 0.049849916249513626, \"variable\": \"VPD\"}, {\"mean\": 0.0019177496433258057, \"time\": 30.0, \"std\": 0.048339176923036575, \"variable\": \"VPD\"}, {\"mean\": 0.006245478987693787, \"time\": 31.0, \"std\": 0.046845775097608566, \"variable\": \"VPD\"}, {\"mean\": 0.008506059646606445, \"time\": 32.0, \"std\": 0.04591204971075058, \"variable\": \"VPD\"}, {\"mean\": 0.006472930312156677, \"time\": 33.0, \"std\": 0.045767977833747864, \"variable\": \"VPD\"}, {\"mean\": -0.0007786452770233154, \"time\": 34.0, \"std\": 0.04628955200314522, \"variable\": \"VPD\"}, {\"mean\": -0.012024462223052979, \"time\": 35.0, \"std\": 0.04706073924899101, \"variable\": \"VPD\"}, {\"mean\": -0.023612290620803833, \"time\": 36.0, \"std\": 0.04758943244814873, \"variable\": \"VPD\"}, {\"mean\": -0.030020639300346375, \"time\": 37.0, \"std\": 0.04755759611725807, \"variable\": \"VPD\"}, {\"mean\": -0.02509695291519165, \"time\": 38.0, \"std\": 0.04698404297232628, \"variable\": \"VPD\"}, {\"mean\": -0.003901049494743347, \"time\": 39.0, \"std\": 0.046223241835832596, \"variable\": \"VPD\"}, {\"mean\": 0.03562076389789581, \"time\": 40.0, \"std\": 0.04576004669070244, \"variable\": \"VPD\"}, {\"mean\": 0.09150320291519165, \"time\": 41.0, \"std\": 0.04588139057159424, \"variable\": \"VPD\"}, {\"mean\": 0.15775033831596375, \"time\": 42.0, \"std\": 0.0465070866048336, \"variable\": \"VPD\"}, {\"mean\": 0.22560006380081177, \"time\": 43.0, \"std\": 0.04727977514266968, \"variable\": \"VPD\"}, {\"mean\": 0.28551337122917175, \"time\": 44.0, \"std\": 0.04783070087432861, \"variable\": \"VPD\"}, {\"mean\": 0.32971298694610596, \"time\": 45.0, \"std\": 0.0479695163667202, \"variable\": \"VPD\"}, {\"mean\": 0.35395514965057373, \"time\": 46.0, \"std\": 0.04772757366299629, \"variable\": \"VPD\"}, {\"mean\": 0.35850846767425537, \"time\": 47.0, \"std\": 0.047284889966249466, \"variable\": \"VPD\"}, {\"mean\": 0.34766635298728943, \"time\": 48.0, \"std\": 0.04683544114232063, \"variable\": \"VPD\"}, {\"mean\": 0.3281826376914978, \"time\": 49.0, \"std\": 0.04651593044400215, \"variable\": \"VPD\"}, {\"mean\": 0.3071162700653076, \"time\": 50.0, \"std\": 0.04644220694899559, \"variable\": \"VPD\"}, {\"mean\": 0.28978851437568665, \"time\": 51.0, \"std\": 0.04679599776864052, \"variable\": \"VPD\"}, {\"mean\": 0.27856844663619995, \"time\": 52.0, \"std\": 0.04774857684969902, \"variable\": \"VPD\"}, {\"mean\": 0.2726098299026489, \"time\": 53.0, \"std\": 0.04917234554886818, \"variable\": \"VPD\"}, {\"mean\": 0.2686982750892639, \"time\": 54.0, \"std\": 0.05046594515442848, \"variable\": \"VPD\"}, {\"mean\": 0.2626990079879761, \"time\": 55.0, \"std\": 0.05082227662205696, \"variable\": \"VPD\"}, {\"mean\": 0.25113531947135925, \"time\": 56.0, \"std\": 0.04985928162932396, \"variable\": \"VPD\"}, {\"mean\": 0.23231542110443115, \"time\": 57.0, \"std\": 0.0482458770275116, \"variable\": \"VPD\"}, {\"mean\": 0.20689043402671814, \"time\": 58.0, \"std\": 0.047766752541065216, \"variable\": \"VPD\"}, {\"mean\": 0.1775624006986618, \"time\": 59.0, \"std\": 0.05013536289334297, \"variable\": \"VPD\"}, {\"mean\": 0.14832085371017456, \"time\": 60.0, \"std\": 0.05514077842235565, \"variable\": \"VPD\"}, {\"mean\": 0.1234479546546936, \"time\": 61.0, \"std\": 0.06064971908926964, \"variable\": \"VPD\"}, {\"mean\": 0.10661771148443222, \"time\": 62.0, \"std\": 0.06431806087493896, \"variable\": \"VPD\"}, {\"mean\": 0.10031317174434662, \"time\": 63.0, \"std\": 0.06482570618391037, \"variable\": \"VPD\"}, {\"mean\": 0.10563790053129196, \"time\": 64.0, \"std\": 0.06222002953290939, \"variable\": \"VPD\"}, {\"mean\": 0.12240233272314072, \"time\": 65.0, \"std\": 0.05773260444402695, \"variable\": \"VPD\"}, {\"mean\": 0.1493397057056427, \"time\": 66.0, \"std\": 0.05317423865199089, \"variable\": \"VPD\"}, {\"mean\": 0.1843058317899704, \"time\": 67.0, \"std\": 0.049971915781497955, \"variable\": \"VPD\"}, {\"mean\": 0.22436721622943878, \"time\": 68.0, \"std\": 0.04839043319225311, \"variable\": \"VPD\"}, {\"mean\": 0.26582854986190796, \"time\": 69.0, \"std\": 0.04778072237968445, \"variable\": \"VPD\"}, {\"mean\": 0.304305762052536, \"time\": 70.0, \"std\": 0.04756952077150345, \"variable\": \"VPD\"}, {\"mean\": 0.3349906802177429, \"time\": 71.0, \"std\": 0.04777449741959572, \"variable\": \"VPD\"}, {\"mean\": 0.3531901240348816, \"time\": 72.0, \"std\": 0.04865872114896774, \"variable\": \"VPD\"}, {\"mean\": 0.3551158905029297, \"time\": 73.0, \"std\": 0.05010928586125374, \"variable\": \"VPD\"}, {\"mean\": 0.33877357840538025, \"time\": 74.0, \"std\": 0.05148874968290329, \"variable\": \"VPD\"}, {\"mean\": 0.3047017455101013, \"time\": 75.0, \"std\": 0.05206361413002014, \"variable\": \"VPD\"}, {\"mean\": 0.2563140392303467, \"time\": 76.0, \"std\": 0.05150667577981949, \"variable\": \"VPD\"}, {\"mean\": 0.19964079558849335, \"time\": 77.0, \"std\": 0.050097692757844925, \"variable\": \"VPD\"}, {\"mean\": 0.14245259761810303, \"time\": 78.0, \"std\": 0.048551369458436966, \"variable\": \"VPD\"}, {\"mean\": 0.09289689362049103, \"time\": 79.0, \"std\": 0.04756137728691101, \"variable\": \"VPD\"}, {\"mean\": 0.057944536209106445, \"time\": 80.0, \"std\": 0.047335103154182434, \"variable\": \"VPD\"}, {\"mean\": 0.04200948774814606, \"time\": 81.0, \"std\": 0.04751751944422722, \"variable\": \"VPD\"}, {\"mean\": 0.046079277992248535, \"time\": 82.0, \"std\": 0.04757235571742058, \"variable\": \"VPD\"}, {\"mean\": 0.06756235659122467, \"time\": 83.0, \"std\": 0.047228697687387466, \"variable\": \"VPD\"}, {\"mean\": 0.10087863355875015, \"time\": 84.0, \"std\": 0.04664435237646103, \"variable\": \"VPD\"}, {\"mean\": 0.13864564895629883, \"time\": 85.0, \"std\": 0.04625121131539345, \"variable\": \"VPD\"}, {\"mean\": 0.17316493391990662, \"time\": 86.0, \"std\": 0.04644659906625748, \"variable\": \"VPD\"}, {\"mean\": 0.19787608087062836, \"time\": 87.0, \"std\": 0.047379713505506516, \"variable\": \"VPD\"}, {\"mean\": 0.20848269760608673, \"time\": 88.0, \"std\": 0.04895980283617973, \"variable\": \"VPD\"}, {\"mean\": 0.2035399079322815, \"time\": 89.0, \"std\": 0.05094676837325096, \"variable\": \"VPD\"}, {\"mean\": 0.18444561958312988, \"time\": 90.0, \"std\": 0.052953142672777176, \"variable\": \"VPD\"}, {\"mean\": 0.15489055216312408, \"time\": 91.0, \"std\": 0.05442146211862564, \"variable\": \"VPD\"}, {\"mean\": 0.11991329491138458, \"time\": 92.0, \"std\": 0.054756101220846176, \"variable\": \"VPD\"}, {\"mean\": 0.08479267358779907, \"time\": 93.0, \"std\": 0.053633105009794235, \"variable\": \"VPD\"}, {\"mean\": 0.05399081110954285, \"time\": 94.0, \"std\": 0.05130811408162117, \"variable\": \"VPD\"}, {\"mean\": 0.030364319682121277, \"time\": 95.0, \"std\": 0.04867470636963844, \"variable\": \"VPD\"}, {\"mean\": 0.014787569642066956, \"time\": 96.0, \"std\": 0.04686201363801956, \"variable\": \"VPD\"}, {\"mean\": 0.006261497735977173, \"time\": 97.0, \"std\": 0.04645314812660217, \"variable\": \"VPD\"}, {\"mean\": 0.0024733692407608032, \"time\": 98.0, \"std\": 0.047045379877090454, \"variable\": \"VPD\"}, {\"mean\": 0.000662684440612793, \"time\": 99.0, \"std\": 0.04771772027015686, \"variable\": \"VPD\"}, {\"mean\": -0.001421228051185608, \"time\": 100.0, \"std\": 0.047836340963840485, \"variable\": \"VPD\"}, {\"mean\": -0.004699826240539551, \"time\": 101.0, \"std\": 0.047390807420015335, \"variable\": \"VPD\"}, {\"mean\": -0.008335903286933899, \"time\": 102.0, \"std\": 0.04678861051797867, \"variable\": \"VPD\"}, {\"mean\": -0.009778350591659546, \"time\": 103.0, \"std\": 0.04639885574579239, \"variable\": \"VPD\"}, {\"mean\": -0.0052947998046875, \"time\": 104.0, \"std\": 0.046261902898550034, \"variable\": \"VPD\"}, {\"mean\": 0.009163737297058105, \"time\": 105.0, \"std\": 0.04615205153822899, \"variable\": \"VPD\"}, {\"mean\": 0.03698734939098358, \"time\": 106.0, \"std\": 0.04588477686047554, \"variable\": \"VPD\"}, {\"mean\": 0.08005835115909576, \"time\": 107.0, \"std\": 0.0455251969397068, \"variable\": \"VPD\"}, {\"mean\": 0.1382921040058136, \"time\": 108.0, \"std\": 0.04535055160522461, \"variable\": \"VPD\"}, {\"mean\": 0.20956309139728546, \"time\": 109.0, \"std\": 0.04562148079276085, \"variable\": \"VPD\"}, {\"mean\": 0.29006290435791016, \"time\": 110.0, \"std\": 0.046313971281051636, \"variable\": \"VPD\"}, {\"mean\": 0.37495923042297363, \"time\": 111.0, \"std\": 0.047112658619880676, \"variable\": \"VPD\"}, {\"mean\": 0.45910850167274475, \"time\": 112.0, \"std\": 0.047702353447675705, \"variable\": \"VPD\"}, {\"mean\": 0.5377898216247559, \"time\": 113.0, \"std\": 0.04811842367053032, \"variable\": \"VPD\"}, {\"mean\": 0.6072506904602051, \"time\": 114.0, \"std\": 0.04877845570445061, \"variable\": \"VPD\"}, {\"mean\": 0.665032684803009, \"time\": 115.0, \"std\": 0.05008450895547867, \"variable\": \"VPD\"}, {\"mean\": 0.7101068496704102, \"time\": 116.0, \"std\": 0.051883988082408905, \"variable\": \"VPD\"}, {\"mean\": 0.7427972555160522, \"time\": 117.0, \"std\": 0.05341054126620293, \"variable\": \"VPD\"}, {\"mean\": 0.7645003795623779, \"time\": 118.0, \"std\": 0.053813450038433075, \"variable\": \"VPD\"}, {\"mean\": 0.7772762179374695, \"time\": 119.0, \"std\": 0.052797239273786545, \"variable\": \"VPD\"}, {\"mean\": 0.7833091616630554, \"time\": 120.0, \"std\": 0.05084098502993584, \"variable\": \"VPD\"}, {\"mean\": 0.7843563556671143, \"time\": 121.0, \"std\": 0.04894532263278961, \"variable\": \"VPD\"}, {\"mean\": 0.7812901139259338, \"time\": 122.0, \"std\": 0.04795769229531288, \"variable\": \"VPD\"}, {\"mean\": 0.7739234566688538, \"time\": 123.0, \"std\": 0.04792704060673714, \"variable\": \"VPD\"}, {\"mean\": 0.7610771059989929, \"time\": 124.0, \"std\": 0.048252757638692856, \"variable\": \"VPD\"}, {\"mean\": 0.741203248500824, \"time\": 125.0, \"std\": 0.04835190623998642, \"variable\": \"VPD\"}, {\"mean\": 0.7130754590034485, \"time\": 126.0, \"std\": 0.048097651451826096, \"variable\": \"VPD\"}, {\"mean\": 0.6765243411064148, \"time\": 127.0, \"std\": 0.04776826873421669, \"variable\": \"VPD\"}, {\"mean\": 0.6330626606941223, \"time\": 128.0, \"std\": 0.047679733484983444, \"variable\": \"VPD\"}, {\"mean\": 0.5857921838760376, \"time\": 129.0, \"std\": 0.047886189073324203, \"variable\": \"VPD\"}, {\"mean\": 0.5389975309371948, \"time\": 130.0, \"std\": 0.04818607121706009, \"variable\": \"VPD\"}, {\"mean\": 0.4971279501914978, \"time\": 131.0, \"std\": 0.04836820811033249, \"variable\": \"VPD\"}, {\"mean\": 0.4637450575828552, \"time\": 132.0, \"std\": 0.04837142303586006, \"variable\": \"VPD\"}, {\"mean\": 0.44050776958465576, \"time\": 133.0, \"std\": 0.04830031841993332, \"variable\": \"VPD\"}, {\"mean\": 0.42696118354797363, \"time\": 134.0, \"std\": 0.048280198127031326, \"variable\": \"VPD\"}, {\"mean\": 0.4207342267036438, \"time\": 135.0, \"std\": 0.048330157995224, \"variable\": \"VPD\"}, {\"mean\": 0.4185289740562439, \"time\": 136.0, \"std\": 0.04830747842788696, \"variable\": \"VPD\"}, {\"mean\": 0.4173851013183594, \"time\": 137.0, \"std\": 0.048019442707300186, \"variable\": \"VPD\"}, {\"mean\": 0.4158932566642761, \"time\": 138.0, \"std\": 0.04738693684339523, \"variable\": \"VPD\"}, {\"mean\": 0.41492944955825806, \"time\": 139.0, \"std\": 0.04662225767970085, \"variable\": \"VPD\"}, {\"mean\": 0.4176010489463806, \"time\": 140.0, \"std\": 0.04623379185795784, \"variable\": \"VPD\"}, {\"mean\": 0.42861923575401306, \"time\": 141.0, \"std\": 0.04672619700431824, \"variable\": \"VPD\"}, {\"mean\": 0.4528997540473938, \"time\": 142.0, \"std\": 0.04824867472052574, \"variable\": \"VPD\"}, {\"mean\": 0.4940507411956787, \"time\": 143.0, \"std\": 0.050361622124910355, \"variable\": \"VPD\"}, {\"mean\": 0.5530791282653809, \"time\": 144.0, \"std\": 0.05231240764260292, \"variable\": \"VPD\"}, {\"mean\": 0.6276404857635498, \"time\": 145.0, \"std\": 0.053390469402074814, \"variable\": \"VPD\"}, {\"mean\": 0.7120934128761292, \"time\": 146.0, \"std\": 0.05325247347354889, \"variable\": \"VPD\"}, {\"mean\": 0.7982564568519592, \"time\": 147.0, \"std\": 0.05231161415576935, \"variable\": \"VPD\"}, {\"mean\": 0.8767892122268677, \"time\": 148.0, \"std\": 0.05225195735692978, \"variable\": \"VPD\"}, {\"mean\": 0.938809335231781, \"time\": 149.0, \"std\": 0.05626422539353371, \"variable\": \"VPD\"}]}}, {\"mode\": \"vega-lite\"});\n",
       "</script>"
      ],
      "text/plain": [
       "alt.VConcatChart(...)"
      ]
     },
     "metadata": {},
     "output_type": "display_data"
    },
    {
     "data": {
      "text/html": [
       "<div style=\"display: flex; gap: 20px;\"> <div> <p style='font-size: 1.3rem; font-decoration: bold'>r2<p> <style type=\"text/css\">\n",
       "</style>\n",
       "<table id=\"T_7f507\">\n",
       "  <thead>\n",
       "    <tr>\n",
       "      <th id=\"T_7f507_level0_col0\" class=\"col_heading level0 col0\" >variable</th>\n",
       "      <th id=\"T_7f507_level0_col1\" class=\"col_heading level0 col1\" >r2</th>\n",
       "    </tr>\n",
       "  </thead>\n",
       "  <tbody>\n",
       "    <tr>\n",
       "      <td id=\"T_7f507_row0_col0\" class=\"data row0 col0\" >TA</td>\n",
       "      <td id=\"T_7f507_row0_col1\" class=\"data row0 col1\" >0.9908</td>\n",
       "    </tr>\n",
       "    <tr>\n",
       "      <td id=\"T_7f507_row1_col0\" class=\"data row1 col0\" >SW_IN</td>\n",
       "      <td id=\"T_7f507_row1_col1\" class=\"data row1 col1\" >0.9660</td>\n",
       "    </tr>\n",
       "    <tr>\n",
       "      <td id=\"T_7f507_row2_col0\" class=\"data row2 col0\" >LW_IN</td>\n",
       "      <td id=\"T_7f507_row2_col1\" class=\"data row2 col1\" >0.9693</td>\n",
       "    </tr>\n",
       "    <tr>\n",
       "      <td id=\"T_7f507_row3_col0\" class=\"data row3 col0\" >VPD</td>\n",
       "      <td id=\"T_7f507_row3_col1\" class=\"data row3 col1\" >0.9676</td>\n",
       "    </tr>\n",
       "  </tbody>\n",
       "</table>\n",
       " </div></div>"
      ],
      "text/plain": [
       "<IPython.core.display.HTML object>"
      ]
     },
     "metadata": {},
     "output_type": "display_data"
    }
   ],
   "source": [
    "res_r_gaps.display_results(plot_args = {'bind_interaction': False})"
   ]
  },
  {
   "cell_type": "markdown",
   "id": "40aa2970-8139-481d-b023-23de6887c245",
   "metadata": {},
   "source": [
    "### Continous Gaps"
   ]
  },
  {
   "cell_type": "code",
   "execution_count": null,
   "id": "38e67c9b-3d9d-498b-aac6-ff3b655aabe3",
   "metadata": {},
   "outputs": [
    {
     "data": {
      "application/vnd.jupyter.widget-view+json": {
       "model_id": "9df3420b0b8c462b8293008ae8154173",
       "version_major": 2,
       "version_minor": 0
      },
      "text/plain": [
       "  0%|          | 0/100 [00:00<?, ?it/s]"
      ]
     },
     "metadata": {},
     "output_type": "display_data"
    },
    {
     "data": {
      "application/vnd.jupyter.widget-view+json": {
       "model_id": "f9ef885ff0404dcdb51782054cf956ad",
       "version_major": 2,
       "version_minor": 0
      },
      "text/plain": [
       "  0%|          | 0/100 [00:00<?, ?it/s]"
      ]
     },
     "metadata": {},
     "output_type": "display_data"
    },
    {
     "data": {
      "application/vnd.jupyter.widget-view+json": {
       "model_id": "8aa2575296424861bc25a45dbfde405e",
       "version_major": 2,
       "version_minor": 0
      },
      "text/plain": [
       "  0%|          | 0/100 [00:00<?, ?it/s]"
      ]
     },
     "metadata": {},
     "output_type": "display_data"
    },
    {
     "data": {
      "application/vnd.jupyter.widget-view+json": {
       "model_id": "066d15097d3e471fa2f7faa21be90634",
       "version_major": 2,
       "version_minor": 0
      },
      "text/plain": [
       "  0%|          | 0/100 [00:00<?, ?it/s]"
      ]
     },
     "metadata": {},
     "output_type": "display_data"
    }
   ],
   "source": [
    "res_c_gaps = SimpleGPImputationExplorer(data_c_gaps.data).fit().to_result(data_c_gaps.data_compl_tidy, units=units)"
   ]
  },
  {
   "cell_type": "code",
   "execution_count": null,
   "id": "17c0caa6-1997-4289-ab36-d95d9cbb5963",
   "metadata": {},
   "outputs": [
    {
     "name": "stderr",
     "output_type": "stream",
     "text": [
      "/home/simone/.local/lib/python3.10/site-packages/altair/utils/core.py:317: FutureWarning: iteritems is deprecated and will be removed in a future version. Use .items instead.\n",
      "  for col_name, dtype in df.dtypes.iteritems():\n"
     ]
    },
    {
     "data": {
      "text/html": [
       "\n",
       "<div id=\"altair-viz-fc197f6639a640b289847bf25d6d183d\"></div>\n",
       "<script type=\"text/javascript\">\n",
       "  var VEGA_DEBUG = (typeof VEGA_DEBUG == \"undefined\") ? {} : VEGA_DEBUG;\n",
       "  (function(spec, embedOpt){\n",
       "    let outputDiv = document.currentScript.previousElementSibling;\n",
       "    if (outputDiv.id !== \"altair-viz-fc197f6639a640b289847bf25d6d183d\") {\n",
       "      outputDiv = document.getElementById(\"altair-viz-fc197f6639a640b289847bf25d6d183d\");\n",
       "    }\n",
       "    const paths = {\n",
       "      \"vega\": \"https://cdn.jsdelivr.net/npm//vega@5?noext\",\n",
       "      \"vega-lib\": \"https://cdn.jsdelivr.net/npm//vega-lib?noext\",\n",
       "      \"vega-lite\": \"https://cdn.jsdelivr.net/npm//vega-lite@4.17.0?noext\",\n",
       "      \"vega-embed\": \"https://cdn.jsdelivr.net/npm//vega-embed@6?noext\",\n",
       "    };\n",
       "\n",
       "    function maybeLoadScript(lib, version) {\n",
       "      var key = `${lib.replace(\"-\", \"\")}_version`;\n",
       "      return (VEGA_DEBUG[key] == version) ?\n",
       "        Promise.resolve(paths[lib]) :\n",
       "        new Promise(function(resolve, reject) {\n",
       "          var s = document.createElement('script');\n",
       "          document.getElementsByTagName(\"head\")[0].appendChild(s);\n",
       "          s.async = true;\n",
       "          s.onload = () => {\n",
       "            VEGA_DEBUG[key] = version;\n",
       "            return resolve(paths[lib]);\n",
       "          };\n",
       "          s.onerror = () => reject(`Error loading script: ${paths[lib]}`);\n",
       "          s.src = paths[lib];\n",
       "        });\n",
       "    }\n",
       "\n",
       "    function showError(err) {\n",
       "      outputDiv.innerHTML = `<div class=\"error\" style=\"color:red;\">${err}</div>`;\n",
       "      throw err;\n",
       "    }\n",
       "\n",
       "    function displayChart(vegaEmbed) {\n",
       "      vegaEmbed(outputDiv, spec, embedOpt)\n",
       "        .catch(err => showError(`Javascript Error: ${err.message}<br>This usually means there's a typo in your chart specification. See the javascript console for the full traceback.`));\n",
       "    }\n",
       "\n",
       "    if(typeof define === \"function\" && define.amd) {\n",
       "      requirejs.config({paths});\n",
       "      require([\"vega-embed\"], displayChart, err => showError(`Error loading script: ${err.message}`));\n",
       "    } else {\n",
       "      maybeLoadScript(\"vega\", \"5\")\n",
       "        .then(() => maybeLoadScript(\"vega-lite\", \"4.17.0\"))\n",
       "        .then(() => maybeLoadScript(\"vega-embed\", \"6\"))\n",
       "        .catch(showError)\n",
       "        .then(() => displayChart(vegaEmbed));\n",
       "    }\n",
       "  })({\"config\": {\"view\": {\"continuousWidth\": 400, \"continuousHeight\": 300}}, \"vconcat\": [{\"hconcat\": [{\"layer\": [{\"data\": {\"name\": \"data-62a25736dc2e4f2d0ba61ee69cb36dee\"}, \"mark\": {\"type\": \"point\", \"color\": \"black\", \"fillOpacity\": 1, \"strokeWidth\": 1}, \"encoding\": {\"fill\": {\"field\": \"is_missing\", \"legend\": {\"title\": [\"Observed data\", \"(is missing)\"]}, \"scale\": {\"range\": [\"#ffffff00\", \"black\"]}, \"type\": \"nominal\"}, \"shape\": {\"field\": \"is_missing\", \"type\": \"nominal\"}, \"x\": {\"field\": \"time\", \"type\": \"quantitative\"}, \"y\": {\"field\": \"value\", \"scale\": {\"zero\": false}, \"title\": \"TA [\\u00b0C]\", \"type\": \"quantitative\"}}}, {\"layer\": [{\"mark\": \"errorband\", \"encoding\": {\"color\": {\"field\": \"variable\", \"legend\": {\"title\": [\"Line: pred. mean\", \"area: +/- 2 std\", \"(variable)\"]}, \"type\": \"nominal\"}, \"tooltip\": [{\"field\": \"std\", \"format\": \".4\", \"type\": \"quantitative\"}, {\"field\": \"mean\", \"format\": \".4\", \"type\": \"quantitative\"}], \"x\": {\"field\": \"time\", \"type\": \"quantitative\"}, \"y\": {\"field\": \"err_low\", \"scale\": {\"zero\": false}, \"title\": \"TA [\\u00b0C]\", \"type\": \"quantitative\"}, \"y2\": {\"field\": \"err_high\"}}, \"transform\": [{\"calculate\": \"datum.mean - 2 * datum.std\", \"as\": \"err_low\"}, {\"calculate\": \"datum.mean + 2 * datum.std\", \"as\": \"err_high\"}]}, {\"mark\": \"line\", \"encoding\": {\"color\": {\"field\": \"variable\", \"type\": \"nominal\"}, \"x\": {\"field\": \"time\", \"type\": \"quantitative\"}, \"y\": {\"field\": \"mean\", \"scale\": {\"zero\": false}, \"title\": \"TA [\\u00b0C]\", \"type\": \"quantitative\"}}, \"selection\": {\"selector025\": {\"type\": \"interval\", \"bind\": \"scales\"}}, \"title\": \"TA\"}], \"data\": {\"name\": \"data-f4b87f8ba372dff6a2d685dd1e1034f5\"}}]}, {\"layer\": [{\"data\": {\"name\": \"data-d55e15a32ca36a4ad408c5f5e6e66843\"}, \"mark\": {\"type\": \"point\", \"color\": \"black\", \"fillOpacity\": 1, \"strokeWidth\": 1}, \"encoding\": {\"fill\": {\"field\": \"is_missing\", \"legend\": {\"title\": [\"Observed data\", \"(is missing)\"]}, \"scale\": {\"range\": [\"#ffffff00\", \"black\"]}, \"type\": \"nominal\"}, \"shape\": {\"field\": \"is_missing\", \"type\": \"nominal\"}, \"x\": {\"field\": \"time\", \"type\": \"quantitative\"}, \"y\": {\"field\": \"value\", \"scale\": {\"zero\": false}, \"title\": \"SW_IN [W m-2]\", \"type\": \"quantitative\"}}}, {\"layer\": [{\"mark\": \"errorband\", \"encoding\": {\"color\": {\"field\": \"variable\", \"legend\": {\"title\": [\"Line: pred. mean\", \"area: +/- 2 std\", \"(variable)\"]}, \"type\": \"nominal\"}, \"tooltip\": [{\"field\": \"std\", \"format\": \".4\", \"type\": \"quantitative\"}, {\"field\": \"mean\", \"format\": \".4\", \"type\": \"quantitative\"}], \"x\": {\"field\": \"time\", \"type\": \"quantitative\"}, \"y\": {\"field\": \"err_low\", \"scale\": {\"zero\": false}, \"title\": \"SW_IN [W m-2]\", \"type\": \"quantitative\"}, \"y2\": {\"field\": \"err_high\"}}, \"transform\": [{\"calculate\": \"datum.mean - 2 * datum.std\", \"as\": \"err_low\"}, {\"calculate\": \"datum.mean + 2 * datum.std\", \"as\": \"err_high\"}]}, {\"mark\": \"line\", \"encoding\": {\"color\": {\"field\": \"variable\", \"type\": \"nominal\"}, \"x\": {\"field\": \"time\", \"type\": \"quantitative\"}, \"y\": {\"field\": \"mean\", \"scale\": {\"zero\": false}, \"title\": \"SW_IN [W m-2]\", \"type\": \"quantitative\"}}, \"selection\": {\"selector026\": {\"type\": \"interval\", \"bind\": \"scales\"}}, \"title\": \"SW_IN\"}], \"data\": {\"name\": \"data-ea3a4dc398808186b334dba9805bd1a2\"}}]}]}, {\"hconcat\": [{\"layer\": [{\"data\": {\"name\": \"data-911f1d105e79b85e27359357dbc092e6\"}, \"mark\": {\"type\": \"point\", \"color\": \"black\", \"fillOpacity\": 1, \"strokeWidth\": 1}, \"encoding\": {\"fill\": {\"field\": \"is_missing\", \"legend\": {\"title\": [\"Observed data\", \"(is missing)\"]}, \"scale\": {\"range\": [\"#ffffff00\", \"black\"]}, \"type\": \"nominal\"}, \"shape\": {\"field\": \"is_missing\", \"type\": \"nominal\"}, \"x\": {\"field\": \"time\", \"type\": \"quantitative\"}, \"y\": {\"field\": \"value\", \"scale\": {\"zero\": false}, \"title\": \"LW_IN [W m-2]\", \"type\": \"quantitative\"}}}, {\"layer\": [{\"mark\": \"errorband\", \"encoding\": {\"color\": {\"field\": \"variable\", \"legend\": {\"title\": [\"Line: pred. mean\", \"area: +/- 2 std\", \"(variable)\"]}, \"type\": \"nominal\"}, \"tooltip\": [{\"field\": \"std\", \"format\": \".4\", \"type\": \"quantitative\"}, {\"field\": \"mean\", \"format\": \".4\", \"type\": \"quantitative\"}], \"x\": {\"field\": \"time\", \"type\": \"quantitative\"}, \"y\": {\"field\": \"err_low\", \"scale\": {\"zero\": false}, \"title\": \"LW_IN [W m-2]\", \"type\": \"quantitative\"}, \"y2\": {\"field\": \"err_high\"}}, \"transform\": [{\"calculate\": \"datum.mean - 2 * datum.std\", \"as\": \"err_low\"}, {\"calculate\": \"datum.mean + 2 * datum.std\", \"as\": \"err_high\"}]}, {\"mark\": \"line\", \"encoding\": {\"color\": {\"field\": \"variable\", \"type\": \"nominal\"}, \"x\": {\"field\": \"time\", \"type\": \"quantitative\"}, \"y\": {\"field\": \"mean\", \"scale\": {\"zero\": false}, \"title\": \"LW_IN [W m-2]\", \"type\": \"quantitative\"}}, \"selection\": {\"selector027\": {\"type\": \"interval\", \"bind\": \"scales\"}}, \"title\": \"LW_IN\"}], \"data\": {\"name\": \"data-1bb97ebd6c6f8e83db4ff48f6cb8daba\"}}]}, {\"layer\": [{\"data\": {\"name\": \"data-a590b7326482a7376911c80e881a2faa\"}, \"mark\": {\"type\": \"point\", \"color\": \"black\", \"fillOpacity\": 1, \"strokeWidth\": 1}, \"encoding\": {\"fill\": {\"field\": \"is_missing\", \"legend\": {\"title\": [\"Observed data\", \"(is missing)\"]}, \"scale\": {\"range\": [\"#ffffff00\", \"black\"]}, \"type\": \"nominal\"}, \"shape\": {\"field\": \"is_missing\", \"type\": \"nominal\"}, \"x\": {\"field\": \"time\", \"type\": \"quantitative\"}, \"y\": {\"field\": \"value\", \"scale\": {\"zero\": false}, \"title\": \"VPD [hPa]\", \"type\": \"quantitative\"}}}, {\"layer\": [{\"mark\": \"errorband\", \"encoding\": {\"color\": {\"field\": \"variable\", \"legend\": {\"title\": [\"Line: pred. mean\", \"area: +/- 2 std\", \"(variable)\"]}, \"type\": \"nominal\"}, \"tooltip\": [{\"field\": \"std\", \"format\": \".4\", \"type\": \"quantitative\"}, {\"field\": \"mean\", \"format\": \".4\", \"type\": \"quantitative\"}], \"x\": {\"field\": \"time\", \"type\": \"quantitative\"}, \"y\": {\"field\": \"err_low\", \"scale\": {\"zero\": false}, \"title\": \"VPD [hPa]\", \"type\": \"quantitative\"}, \"y2\": {\"field\": \"err_high\"}}, \"transform\": [{\"calculate\": \"datum.mean - 2 * datum.std\", \"as\": \"err_low\"}, {\"calculate\": \"datum.mean + 2 * datum.std\", \"as\": \"err_high\"}]}, {\"mark\": \"line\", \"encoding\": {\"color\": {\"field\": \"variable\", \"type\": \"nominal\"}, \"x\": {\"field\": \"time\", \"type\": \"quantitative\"}, \"y\": {\"field\": \"mean\", \"scale\": {\"zero\": false}, \"title\": \"VPD [hPa]\", \"type\": \"quantitative\"}}, \"selection\": {\"selector028\": {\"type\": \"interval\", \"bind\": \"scales\"}}, \"title\": \"VPD\"}], \"data\": {\"name\": \"data-25b03bdb261f5d902ebb652b2db4dbed\"}}]}]}, {\"hconcat\": []}, {\"hconcat\": []}, {\"hconcat\": []}, {\"hconcat\": []}, {\"hconcat\": []}, {\"hconcat\": []}, {\"hconcat\": []}, {\"hconcat\": []}, {\"hconcat\": []}, {\"hconcat\": []}, {\"hconcat\": []}, {\"hconcat\": []}, {\"hconcat\": []}, {\"hconcat\": []}, {\"hconcat\": []}, {\"hconcat\": []}, {\"hconcat\": []}, {\"hconcat\": []}, {\"hconcat\": []}, {\"hconcat\": []}, {\"hconcat\": []}, {\"hconcat\": []}, {\"hconcat\": []}, {\"hconcat\": []}, {\"hconcat\": []}, {\"hconcat\": []}, {\"hconcat\": []}, {\"hconcat\": []}, {\"hconcat\": []}, {\"hconcat\": []}, {\"hconcat\": []}, {\"hconcat\": []}, {\"hconcat\": []}, {\"hconcat\": []}, {\"hconcat\": []}, {\"hconcat\": []}, {\"hconcat\": []}, {\"hconcat\": []}, {\"hconcat\": []}, {\"hconcat\": []}, {\"hconcat\": []}, {\"hconcat\": []}, {\"hconcat\": []}, {\"hconcat\": []}, {\"hconcat\": []}, {\"hconcat\": []}, {\"hconcat\": []}, {\"hconcat\": []}, {\"hconcat\": []}, {\"hconcat\": []}, {\"hconcat\": []}, {\"hconcat\": []}, {\"hconcat\": []}, {\"hconcat\": []}, {\"hconcat\": []}, {\"hconcat\": []}, {\"hconcat\": []}, {\"hconcat\": []}, {\"hconcat\": []}, {\"hconcat\": []}, {\"hconcat\": []}, {\"hconcat\": []}, {\"hconcat\": []}, {\"hconcat\": []}, {\"hconcat\": []}, {\"hconcat\": []}, {\"hconcat\": []}, {\"hconcat\": []}, {\"hconcat\": []}, {\"hconcat\": []}, {\"hconcat\": []}, {\"hconcat\": []}, {\"hconcat\": []}, {\"hconcat\": []}, {\"hconcat\": []}, {\"hconcat\": []}, {\"hconcat\": []}, {\"hconcat\": []}, {\"hconcat\": []}, {\"hconcat\": []}, {\"hconcat\": []}, {\"hconcat\": []}, {\"hconcat\": []}, {\"hconcat\": []}, {\"hconcat\": []}, {\"hconcat\": []}, {\"hconcat\": []}, {\"hconcat\": []}, {\"hconcat\": []}, {\"hconcat\": []}, {\"hconcat\": []}, {\"hconcat\": []}, {\"hconcat\": []}, {\"hconcat\": []}, {\"hconcat\": []}, {\"hconcat\": []}, {\"hconcat\": []}, {\"hconcat\": []}, {\"hconcat\": []}, {\"hconcat\": []}, {\"hconcat\": []}, {\"hconcat\": []}, {\"hconcat\": []}, {\"hconcat\": []}, {\"hconcat\": []}, {\"hconcat\": []}, {\"hconcat\": []}, {\"hconcat\": []}, {\"hconcat\": []}, {\"hconcat\": []}, {\"hconcat\": []}, {\"hconcat\": []}, {\"hconcat\": []}, {\"hconcat\": []}, {\"hconcat\": []}, {\"hconcat\": []}, {\"hconcat\": []}, {\"hconcat\": []}, {\"hconcat\": []}, {\"hconcat\": []}, {\"hconcat\": []}, {\"hconcat\": []}, {\"hconcat\": []}, {\"hconcat\": []}, {\"hconcat\": []}, {\"hconcat\": []}, {\"hconcat\": []}, {\"hconcat\": []}, {\"hconcat\": []}, {\"hconcat\": []}, {\"hconcat\": []}, {\"hconcat\": []}, {\"hconcat\": []}, {\"hconcat\": []}, {\"hconcat\": []}, {\"hconcat\": []}, {\"hconcat\": []}, {\"hconcat\": []}, {\"hconcat\": []}, {\"hconcat\": []}, {\"hconcat\": []}, {\"hconcat\": []}, {\"hconcat\": []}, {\"hconcat\": []}, {\"hconcat\": []}, {\"hconcat\": []}, {\"hconcat\": []}, {\"hconcat\": []}, {\"hconcat\": []}, {\"hconcat\": []}, {\"hconcat\": []}, {\"hconcat\": []}, {\"hconcat\": []}, {\"hconcat\": []}, {\"hconcat\": []}, {\"hconcat\": []}, {\"hconcat\": []}, {\"hconcat\": []}, {\"hconcat\": []}, {\"hconcat\": []}, {\"hconcat\": []}, {\"hconcat\": []}, {\"hconcat\": []}, {\"hconcat\": []}, {\"hconcat\": []}, {\"hconcat\": []}, {\"hconcat\": []}, {\"hconcat\": []}, {\"hconcat\": []}, {\"hconcat\": []}, {\"hconcat\": []}, {\"hconcat\": []}, {\"hconcat\": []}, {\"hconcat\": []}, {\"hconcat\": []}, {\"hconcat\": []}, {\"hconcat\": []}, {\"hconcat\": []}, {\"hconcat\": []}, {\"hconcat\": []}, {\"hconcat\": []}, {\"hconcat\": []}, {\"hconcat\": []}, {\"hconcat\": []}, {\"hconcat\": []}, {\"hconcat\": []}, {\"hconcat\": []}, {\"hconcat\": []}, {\"hconcat\": []}, {\"hconcat\": []}, {\"hconcat\": []}, {\"hconcat\": []}, {\"hconcat\": []}, {\"hconcat\": []}, {\"hconcat\": []}, {\"hconcat\": []}, {\"hconcat\": []}, {\"hconcat\": []}, {\"hconcat\": []}, {\"hconcat\": []}, {\"hconcat\": []}, {\"hconcat\": []}, {\"hconcat\": []}, {\"hconcat\": []}, {\"hconcat\": []}, {\"hconcat\": []}, {\"hconcat\": []}, {\"hconcat\": []}, {\"hconcat\": []}, {\"hconcat\": []}, {\"hconcat\": []}, {\"hconcat\": []}, {\"hconcat\": []}, {\"hconcat\": []}, {\"hconcat\": []}, {\"hconcat\": []}, {\"hconcat\": []}, {\"hconcat\": []}, {\"hconcat\": []}, {\"hconcat\": []}, {\"hconcat\": []}, {\"hconcat\": []}, {\"hconcat\": []}, {\"hconcat\": []}, {\"hconcat\": []}, {\"hconcat\": []}, {\"hconcat\": []}, {\"hconcat\": []}, {\"hconcat\": []}, {\"hconcat\": []}, {\"hconcat\": []}, {\"hconcat\": []}, {\"hconcat\": []}, {\"hconcat\": []}, {\"hconcat\": []}, {\"hconcat\": []}, {\"hconcat\": []}, {\"hconcat\": []}, {\"hconcat\": []}, {\"hconcat\": []}, {\"hconcat\": []}, {\"hconcat\": []}, {\"hconcat\": []}, {\"hconcat\": []}, {\"hconcat\": []}, {\"hconcat\": []}, {\"hconcat\": []}, {\"hconcat\": []}, {\"hconcat\": []}, {\"hconcat\": []}, {\"hconcat\": []}, {\"hconcat\": []}, {\"hconcat\": []}, {\"hconcat\": []}, {\"hconcat\": []}, {\"hconcat\": []}, {\"hconcat\": []}, {\"hconcat\": []}, {\"hconcat\": []}, {\"hconcat\": []}, {\"hconcat\": []}, {\"hconcat\": []}, {\"hconcat\": []}, {\"hconcat\": []}, {\"hconcat\": []}, {\"hconcat\": []}, {\"hconcat\": []}, {\"hconcat\": []}, {\"hconcat\": []}, {\"hconcat\": []}, {\"hconcat\": []}, {\"hconcat\": []}, {\"hconcat\": []}, {\"hconcat\": []}, {\"hconcat\": []}, {\"hconcat\": []}, {\"hconcat\": []}, {\"hconcat\": []}, {\"hconcat\": []}, {\"hconcat\": []}, {\"hconcat\": []}, {\"hconcat\": []}, {\"hconcat\": []}, {\"hconcat\": []}, {\"hconcat\": []}, {\"hconcat\": []}, {\"hconcat\": []}, {\"hconcat\": []}, {\"hconcat\": []}, {\"hconcat\": []}, {\"hconcat\": []}, {\"hconcat\": []}, {\"hconcat\": []}, {\"hconcat\": []}, {\"hconcat\": []}, {\"hconcat\": []}, {\"hconcat\": []}, {\"hconcat\": []}], \"$schema\": \"https://vega.github.io/schema/vega-lite/v4.17.0.json\", \"datasets\": {\"data-62a25736dc2e4f2d0ba61ee69cb36dee\": [{\"time\": 0.0, \"variable\": \"TA\", \"value\": -0.6, \"is_missing\": false}, {\"time\": 1.0, \"variable\": \"TA\", \"value\": -0.65, \"is_missing\": false}, {\"time\": 2.0, \"variable\": \"TA\", \"value\": -0.58, \"is_missing\": false}, {\"time\": 3.0, \"variable\": \"TA\", \"value\": -0.51, \"is_missing\": false}, {\"time\": 4.0, \"variable\": \"TA\", \"value\": -0.49, \"is_missing\": false}, {\"time\": 5.0, \"variable\": \"TA\", \"value\": -0.4, \"is_missing\": false}, {\"time\": 6.0, \"variable\": \"TA\", \"value\": -0.36, \"is_missing\": false}, {\"time\": 7.0, \"variable\": \"TA\", \"value\": -0.35, \"is_missing\": false}, {\"time\": 8.0, \"variable\": \"TA\", \"value\": -0.28, \"is_missing\": false}, {\"time\": 9.0, \"variable\": \"TA\", \"value\": -0.27, \"is_missing\": false}, {\"time\": 10.0, \"variable\": \"TA\", \"value\": -0.23, \"is_missing\": false}, {\"time\": 11.0, \"variable\": \"TA\", \"value\": -0.23, \"is_missing\": false}, {\"time\": 12.0, \"variable\": \"TA\", \"value\": -0.22, \"is_missing\": false}, {\"time\": 13.0, \"variable\": \"TA\", \"value\": -0.24, \"is_missing\": false}, {\"time\": 14.0, \"variable\": \"TA\", \"value\": -0.23, \"is_missing\": false}, {\"time\": 15.0, \"variable\": \"TA\", \"value\": -0.22, \"is_missing\": false}, {\"time\": 16.0, \"variable\": \"TA\", \"value\": -0.19, \"is_missing\": false}, {\"time\": 17.0, \"variable\": \"TA\", \"value\": -0.14, \"is_missing\": false}, {\"time\": 18.0, \"variable\": \"TA\", \"value\": -0.03, \"is_missing\": false}, {\"time\": 19.0, \"variable\": \"TA\", \"value\": 0.04, \"is_missing\": false}, {\"time\": 20.0, \"variable\": \"TA\", \"value\": 0.1, \"is_missing\": false}, {\"time\": 21.0, \"variable\": \"TA\", \"value\": 0.18, \"is_missing\": false}, {\"time\": 22.0, \"variable\": \"TA\", \"value\": 0.21, \"is_missing\": false}, {\"time\": 23.0, \"variable\": \"TA\", \"value\": 0.23, \"is_missing\": false}, {\"time\": 24.0, \"variable\": \"TA\", \"value\": 0.33, \"is_missing\": false}, {\"time\": 25.0, \"variable\": \"TA\", \"value\": 0.41, \"is_missing\": false}, {\"time\": 26.0, \"variable\": \"TA\", \"value\": 0.44, \"is_missing\": false}, {\"time\": 27.0, \"variable\": \"TA\", \"value\": 0.48, \"is_missing\": false}, {\"time\": 28.0, \"variable\": \"TA\", \"value\": 0.49, \"is_missing\": false}, {\"time\": 29.0, \"variable\": \"TA\", \"value\": 0.51, \"is_missing\": false}, {\"time\": 30.0, \"variable\": \"TA\", \"value\": 0.52, \"is_missing\": false}, {\"time\": 31.0, \"variable\": \"TA\", \"value\": 0.57, \"is_missing\": false}, {\"time\": 32.0, \"variable\": \"TA\", \"value\": 0.73, \"is_missing\": false}, {\"time\": 33.0, \"variable\": \"TA\", \"value\": 0.77, \"is_missing\": false}, {\"time\": 34.0, \"variable\": \"TA\", \"value\": 0.84, \"is_missing\": false}, {\"time\": 35.0, \"variable\": \"TA\", \"value\": 0.99, \"is_missing\": false}, {\"time\": 36.0, \"variable\": \"TA\", \"value\": 1.35, \"is_missing\": false}, {\"time\": 37.0, \"variable\": \"TA\", \"value\": 1.86, \"is_missing\": false}, {\"time\": 38.0, \"variable\": \"TA\", \"value\": 2.01, \"is_missing\": false}, {\"time\": 39.0, \"variable\": \"TA\", \"value\": 2.07, \"is_missing\": false}, {\"time\": 40.0, \"variable\": \"TA\", \"value\": 2.0, \"is_missing\": false}, {\"time\": 41.0, \"variable\": \"TA\", \"value\": 2.19, \"is_missing\": false}, {\"time\": 42.0, \"variable\": \"TA\", \"value\": 2.26, \"is_missing\": false}, {\"time\": 43.0, \"variable\": \"TA\", \"value\": 2.53, \"is_missing\": false}, {\"time\": 44.0, \"variable\": \"TA\", \"value\": 2.59, \"is_missing\": false}, {\"time\": 45.0, \"variable\": \"TA\", \"value\": 2.6, \"is_missing\": false}, {\"time\": 46.0, \"variable\": \"TA\", \"value\": 2.53, \"is_missing\": false}, {\"time\": 47.0, \"variable\": \"TA\", \"value\": 2.3, \"is_missing\": false}, {\"time\": 48.0, \"variable\": \"TA\", \"value\": 2.08, \"is_missing\": false}, {\"time\": 49.0, \"variable\": \"TA\", \"value\": 1.93, \"is_missing\": false}, {\"time\": 50.0, \"variable\": \"TA\", \"value\": 1.84, \"is_missing\": false}, {\"time\": 51.0, \"variable\": \"TA\", \"value\": 1.85, \"is_missing\": false}, {\"time\": 52.0, \"variable\": \"TA\", \"value\": 1.59, \"is_missing\": false}, {\"time\": 53.0, \"variable\": \"TA\", \"value\": 1.43, \"is_missing\": false}, {\"time\": 54.0, \"variable\": \"TA\", \"value\": 1.33, \"is_missing\": false}, {\"time\": 55.0, \"variable\": \"TA\", \"value\": 1.23, \"is_missing\": false}, {\"time\": 56.0, \"variable\": \"TA\", \"value\": 1.04, \"is_missing\": false}, {\"time\": 57.0, \"variable\": \"TA\", \"value\": 0.94, \"is_missing\": false}, {\"time\": 58.0, \"variable\": \"TA\", \"value\": 0.81, \"is_missing\": false}, {\"time\": 59.0, \"variable\": \"TA\", \"value\": 0.79, \"is_missing\": false}, {\"time\": 60.0, \"variable\": \"TA\", \"value\": 0.68, \"is_missing\": false}, {\"time\": 61.0, \"variable\": \"TA\", \"value\": 0.65, \"is_missing\": false}, {\"time\": 62.0, \"variable\": \"TA\", \"value\": 0.58, \"is_missing\": false}, {\"time\": 63.0, \"variable\": \"TA\", \"value\": 0.49, \"is_missing\": false}, {\"time\": 64.0, \"variable\": \"TA\", \"value\": 0.57, \"is_missing\": false}, {\"time\": 65.0, \"variable\": \"TA\", \"value\": 0.25, \"is_missing\": false}, {\"time\": 66.0, \"variable\": \"TA\", \"value\": 0.35, \"is_missing\": false}, {\"time\": 67.0, \"variable\": \"TA\", \"value\": 0.27, \"is_missing\": false}, {\"time\": 68.0, \"variable\": \"TA\", \"value\": 0.35, \"is_missing\": false}, {\"time\": 69.0, \"variable\": \"TA\", \"value\": 0.57, \"is_missing\": false}, {\"time\": 70.0, \"variable\": \"TA\", \"value\": 0.63, \"is_missing\": false}, {\"time\": 71.0, \"variable\": \"TA\", \"value\": 0.73, \"is_missing\": false}, {\"time\": 72.0, \"variable\": \"TA\", \"value\": 0.78, \"is_missing\": false}, {\"time\": 73.0, \"variable\": \"TA\", \"value\": 1.05, \"is_missing\": false}, {\"time\": 74.0, \"variable\": \"TA\", \"value\": 1.19, \"is_missing\": false}, {\"time\": 75.0, \"variable\": \"TA\", \"value\": 1.41, \"is_missing\": false}, {\"time\": 76.0, \"variable\": \"TA\", \"value\": 1.54, \"is_missing\": false}, {\"time\": 77.0, \"variable\": \"TA\", \"value\": 1.08, \"is_missing\": false}, {\"time\": 78.0, \"variable\": \"TA\", \"value\": 0.62, \"is_missing\": false}, {\"time\": 79.0, \"variable\": \"TA\", \"value\": 0.57, \"is_missing\": false}, {\"time\": 80.0, \"variable\": \"TA\", \"value\": 0.53, \"is_missing\": false}, {\"time\": 81.0, \"variable\": \"TA\", \"value\": 0.57, \"is_missing\": false}, {\"time\": 82.0, \"variable\": \"TA\", \"value\": 0.51, \"is_missing\": false}, {\"time\": 83.0, \"variable\": \"TA\", \"value\": 0.39, \"is_missing\": false}, {\"time\": 84.0, \"variable\": \"TA\", \"value\": 0.35, \"is_missing\": false}, {\"time\": 85.0, \"variable\": \"TA\", \"value\": 0.4, \"is_missing\": false}, {\"time\": 86.0, \"variable\": \"TA\", \"value\": 0.66, \"is_missing\": false}, {\"time\": 87.0, \"variable\": \"TA\", \"value\": 0.76, \"is_missing\": false}, {\"time\": 88.0, \"variable\": \"TA\", \"value\": 0.81, \"is_missing\": false}, {\"time\": 89.0, \"variable\": \"TA\", \"value\": 0.94, \"is_missing\": false}, {\"time\": 90.0, \"variable\": \"TA\", \"value\": 0.97, \"is_missing\": false}, {\"time\": 91.0, \"variable\": \"TA\", \"value\": 0.85, \"is_missing\": false}, {\"time\": 92.0, \"variable\": \"TA\", \"value\": 0.77, \"is_missing\": false}, {\"time\": 93.0, \"variable\": \"TA\", \"value\": 0.63, \"is_missing\": false}, {\"time\": 94.0, \"variable\": \"TA\", \"value\": 0.52, \"is_missing\": false}, {\"time\": 95.0, \"variable\": \"TA\", \"value\": 0.48, \"is_missing\": true}, {\"time\": 96.0, \"variable\": \"TA\", \"value\": 0.41, \"is_missing\": true}, {\"time\": 97.0, \"variable\": \"TA\", \"value\": 0.29, \"is_missing\": true}, {\"time\": 98.0, \"variable\": \"TA\", \"value\": 0.31, \"is_missing\": true}, {\"time\": 99.0, \"variable\": \"TA\", \"value\": 0.42, \"is_missing\": true}, {\"time\": 100.0, \"variable\": \"TA\", \"value\": 0.51, \"is_missing\": true}, {\"time\": 101.0, \"variable\": \"TA\", \"value\": 0.57, \"is_missing\": true}, {\"time\": 102.0, \"variable\": \"TA\", \"value\": 0.65, \"is_missing\": true}, {\"time\": 103.0, \"variable\": \"TA\", \"value\": 0.81, \"is_missing\": true}, {\"time\": 104.0, \"variable\": \"TA\", \"value\": 0.95, \"is_missing\": true}, {\"time\": 105.0, \"variable\": \"TA\", \"value\": 1.09, \"is_missing\": true}, {\"time\": 106.0, \"variable\": \"TA\", \"value\": 1.18, \"is_missing\": true}, {\"time\": 107.0, \"variable\": \"TA\", \"value\": 1.35, \"is_missing\": true}, {\"time\": 108.0, \"variable\": \"TA\", \"value\": 1.42, \"is_missing\": true}, {\"time\": 109.0, \"variable\": \"TA\", \"value\": 1.42, \"is_missing\": true}, {\"time\": 110.0, \"variable\": \"TA\", \"value\": 1.57, \"is_missing\": false}, {\"time\": 111.0, \"variable\": \"TA\", \"value\": 1.67, \"is_missing\": false}, {\"time\": 112.0, \"variable\": \"TA\", \"value\": 1.8, \"is_missing\": false}, {\"time\": 113.0, \"variable\": \"TA\", \"value\": 1.86, \"is_missing\": false}, {\"time\": 114.0, \"variable\": \"TA\", \"value\": 1.91, \"is_missing\": false}, {\"time\": 115.0, \"variable\": \"TA\", \"value\": 1.95, \"is_missing\": false}, {\"time\": 116.0, \"variable\": \"TA\", \"value\": 1.99, \"is_missing\": false}, {\"time\": 117.0, \"variable\": \"TA\", \"value\": 2.1, \"is_missing\": false}, {\"time\": 118.0, \"variable\": \"TA\", \"value\": 2.32, \"is_missing\": false}, {\"time\": 119.0, \"variable\": \"TA\", \"value\": 2.53, \"is_missing\": false}, {\"time\": 120.0, \"variable\": \"TA\", \"value\": 2.48, \"is_missing\": false}, {\"time\": 121.0, \"variable\": \"TA\", \"value\": 2.39, \"is_missing\": false}, {\"time\": 122.0, \"variable\": \"TA\", \"value\": 2.52, \"is_missing\": false}, {\"time\": 123.0, \"variable\": \"TA\", \"value\": 2.68, \"is_missing\": false}, {\"time\": 124.0, \"variable\": \"TA\", \"value\": 2.7, \"is_missing\": false}, {\"time\": 125.0, \"variable\": \"TA\", \"value\": 2.7, \"is_missing\": false}, {\"time\": 126.0, \"variable\": \"TA\", \"value\": 2.61, \"is_missing\": false}, {\"time\": 127.0, \"variable\": \"TA\", \"value\": 2.45, \"is_missing\": false}, {\"time\": 128.0, \"variable\": \"TA\", \"value\": 2.36, \"is_missing\": false}, {\"time\": 129.0, \"variable\": \"TA\", \"value\": 2.33, \"is_missing\": false}, {\"time\": 130.0, \"variable\": \"TA\", \"value\": 2.22, \"is_missing\": false}, {\"time\": 131.0, \"variable\": \"TA\", \"value\": 2.07, \"is_missing\": false}, {\"time\": 132.0, \"variable\": \"TA\", \"value\": 1.96, \"is_missing\": false}, {\"time\": 133.0, \"variable\": \"TA\", \"value\": 2.01, \"is_missing\": false}, {\"time\": 134.0, \"variable\": \"TA\", \"value\": 2.01, \"is_missing\": false}, {\"time\": 135.0, \"variable\": \"TA\", \"value\": 2.06, \"is_missing\": false}, {\"time\": 136.0, \"variable\": \"TA\", \"value\": 2.14, \"is_missing\": false}, {\"time\": 137.0, \"variable\": \"TA\", \"value\": 2.11, \"is_missing\": false}, {\"time\": 138.0, \"variable\": \"TA\", \"value\": 2.1, \"is_missing\": false}, {\"time\": 139.0, \"variable\": \"TA\", \"value\": 2.07, \"is_missing\": false}, {\"time\": 140.0, \"variable\": \"TA\", \"value\": 2.09, \"is_missing\": false}, {\"time\": 141.0, \"variable\": \"TA\", \"value\": 2.11, \"is_missing\": false}, {\"time\": 142.0, \"variable\": \"TA\", \"value\": 2.1, \"is_missing\": false}, {\"time\": 143.0, \"variable\": \"TA\", \"value\": 2.1, \"is_missing\": false}, {\"time\": 144.0, \"variable\": \"TA\", \"value\": 2.01, \"is_missing\": false}, {\"time\": 145.0, \"variable\": \"TA\", \"value\": 2.05, \"is_missing\": false}, {\"time\": 146.0, \"variable\": \"TA\", \"value\": 2.13, \"is_missing\": false}, {\"time\": 147.0, \"variable\": \"TA\", \"value\": 2.1, \"is_missing\": false}, {\"time\": 148.0, \"variable\": \"TA\", \"value\": 2.19, \"is_missing\": false}, {\"time\": 149.0, \"variable\": \"TA\", \"value\": 2.27, \"is_missing\": false}], \"data-f4b87f8ba372dff6a2d685dd1e1034f5\": [{\"mean\": -0.5976383686065674, \"time\": 0.0, \"std\": 0.06580822169780731, \"variable\": \"TA\"}, {\"mean\": -0.6344869136810303, \"time\": 1.0, \"std\": 0.05872180312871933, \"variable\": \"TA\"}, {\"mean\": -0.5933564901351929, \"time\": 2.0, \"std\": 0.057782478630542755, \"variable\": \"TA\"}, {\"mean\": -0.5235245227813721, \"time\": 3.0, \"std\": 0.05702827870845795, \"variable\": \"TA\"}, {\"mean\": -0.45986664295196533, \"time\": 4.0, \"std\": 0.05725707486271858, \"variable\": \"TA\"}, {\"mean\": -0.4109189510345459, \"time\": 5.0, \"std\": 0.05700897425413132, \"variable\": \"TA\"}, {\"mean\": -0.3704460859298706, \"time\": 6.0, \"std\": 0.056989170610904694, \"variable\": \"TA\"}, {\"mean\": -0.3314979076385498, \"time\": 7.0, \"std\": 0.05700511112809181, \"variable\": \"TA\"}, {\"mean\": -0.2928107976913452, \"time\": 8.0, \"std\": 0.05692248418927193, \"variable\": \"TA\"}, {\"mean\": -0.25938689708709717, \"time\": 9.0, \"std\": 0.05682375654578209, \"variable\": \"TA\"}, {\"mean\": -0.2361593246459961, \"time\": 10.0, \"std\": 0.0568707212805748, \"variable\": \"TA\"}, {\"mean\": -0.22530436515808105, \"time\": 11.0, \"std\": 0.05690120533108711, \"variable\": \"TA\"}, {\"mean\": -0.22499215602874756, \"time\": 12.0, \"std\": 0.05692925304174423, \"variable\": \"TA\"}, {\"mean\": -0.23056411743164062, \"time\": 13.0, \"std\": 0.05693747103214264, \"variable\": \"TA\"}, {\"mean\": -0.23342454433441162, \"time\": 14.0, \"std\": 0.05680922418832779, \"variable\": \"TA\"}, {\"mean\": -0.22292828559875488, \"time\": 15.0, \"std\": 0.05680001899600029, \"variable\": \"TA\"}, {\"mean\": -0.18880796432495117, \"time\": 16.0, \"std\": 0.056857652962207794, \"variable\": \"TA\"}, {\"mean\": -0.1268007755279541, \"time\": 17.0, \"std\": 0.05689152702689171, \"variable\": \"TA\"}, {\"mean\": -0.0441819429397583, \"time\": 18.0, \"std\": 0.05685717239975929, \"variable\": \"TA\"}, {\"mean\": 0.04207050800323486, \"time\": 19.0, \"std\": 0.05681116506457329, \"variable\": \"TA\"}, {\"mean\": 0.11416780948638916, \"time\": 20.0, \"std\": 0.05684652179479599, \"variable\": \"TA\"}, {\"mean\": 0.16572242975234985, \"time\": 21.0, \"std\": 0.0568784661591053, \"variable\": \"TA\"}, {\"mean\": 0.20607894659042358, \"time\": 22.0, \"std\": 0.056909430772066116, \"variable\": \"TA\"}, {\"mean\": 0.2529805898666382, \"time\": 23.0, \"std\": 0.05683828517794609, \"variable\": \"TA\"}, {\"mean\": 0.31854939460754395, \"time\": 24.0, \"std\": 0.05678693205118179, \"variable\": \"TA\"}, {\"mean\": 0.3956962823867798, \"time\": 25.0, \"std\": 0.05679371953010559, \"variable\": \"TA\"}, {\"mean\": 0.45920759439468384, \"time\": 26.0, \"std\": 0.05683973804116249, \"variable\": \"TA\"}, {\"mean\": 0.48588860034942627, \"time\": 27.0, \"std\": 0.05683586746454239, \"variable\": \"TA\"}, {\"mean\": 0.4813794493675232, \"time\": 28.0, \"std\": 0.05681116506457329, \"variable\": \"TA\"}, {\"mean\": 0.48528003692626953, \"time\": 29.0, \"std\": 0.05681697651743889, \"variable\": \"TA\"}, {\"mean\": 0.5346497893333435, \"time\": 30.0, \"std\": 0.056852325797080994, \"variable\": \"TA\"}, {\"mean\": 0.6200194954872131, \"time\": 31.0, \"std\": 0.05689056217670441, \"variable\": \"TA\"}, {\"mean\": 0.6946240663528442, \"time\": 32.0, \"std\": 0.0568707212805748, \"variable\": \"TA\"}, {\"mean\": 0.7421864867210388, \"time\": 33.0, \"std\": 0.056904107332229614, \"variable\": \"TA\"}, {\"mean\": 0.8268798589706421, \"time\": 34.0, \"std\": 0.0568741112947464, \"variable\": \"TA\"}, {\"mean\": 1.0428556203842163, \"time\": 35.0, \"std\": 0.05684797093272209, \"variable\": \"TA\"}, {\"mean\": 1.397312879562378, \"time\": 36.0, \"std\": 0.05681746080517769, \"variable\": \"TA\"}, {\"mean\": 1.7691175937652588, \"time\": 37.0, \"std\": 0.05684264749288559, \"variable\": \"TA\"}, {\"mean\": 2.008239269256592, \"time\": 38.0, \"std\": 0.05684506520628929, \"variable\": \"TA\"}, {\"mean\": 2.0754926204681396, \"time\": 39.0, \"std\": 0.0568784661591053, \"variable\": \"TA\"}, {\"mean\": 2.070533514022827, \"time\": 40.0, \"std\": 0.0568736232817173, \"variable\": \"TA\"}, {\"mean\": 2.1261067390441895, \"time\": 41.0, \"std\": 0.056862976402044296, \"variable\": \"TA\"}, {\"mean\": 2.2867026329040527, \"time\": 42.0, \"std\": 0.05684893950819969, \"variable\": \"TA\"}, {\"mean\": 2.487213611602783, \"time\": 43.0, \"std\": 0.0568663664162159, \"variable\": \"TA\"}, {\"mean\": 2.6221351623535156, \"time\": 44.0, \"std\": 0.056887660175561905, \"variable\": \"TA\"}, {\"mean\": 2.6232800483703613, \"time\": 45.0, \"std\": 0.0568658821284771, \"variable\": \"TA\"}, {\"mean\": 2.4915924072265625, \"time\": 46.0, \"std\": 0.056852325797080994, \"variable\": \"TA\"}, {\"mean\": 2.2879271507263184, \"time\": 47.0, \"std\": 0.05684893950819969, \"variable\": \"TA\"}, {\"mean\": 2.0929152965545654, \"time\": 48.0, \"std\": 0.05684022232890129, \"variable\": \"TA\"}, {\"mean\": 1.954575777053833, \"time\": 49.0, \"std\": 0.05683877319097519, \"variable\": \"TA\"}, {\"mean\": 1.860131025314331, \"time\": 50.0, \"std\": 0.056852325797080994, \"variable\": \"TA\"}, {\"mean\": 1.7610890865325928, \"time\": 51.0, \"std\": 0.056858137249946594, \"variable\": \"TA\"}, {\"mean\": 1.6270809173583984, \"time\": 52.0, \"std\": 0.05685910955071449, \"variable\": \"TA\"}, {\"mean\": 1.4705930948257446, \"time\": 53.0, \"std\": 0.056862011551856995, \"variable\": \"TA\"}, {\"mean\": 1.320405125617981, \"time\": 54.0, \"std\": 0.056861039251089096, \"variable\": \"TA\"}, {\"mean\": 1.1863640546798706, \"time\": 55.0, \"std\": 0.05685475096106529, \"variable\": \"TA\"}, {\"mean\": 1.0608922243118286, \"time\": 56.0, \"std\": 0.05684845894575119, \"variable\": \"TA\"}, {\"mean\": 0.9414765238761902, \"time\": 57.0, \"std\": 0.05684942379593849, \"variable\": \"TA\"}, {\"mean\": 0.8373223543167114, \"time\": 58.0, \"std\": 0.056855715811252594, \"variable\": \"TA\"}, {\"mean\": 0.7550777196884155, \"time\": 59.0, \"std\": 0.056856200098991394, \"variable\": \"TA\"}, {\"mean\": 0.6910524964332581, \"time\": 60.0, \"std\": 0.05685910955071449, \"variable\": \"TA\"}, {\"mean\": 0.6385244727134705, \"time\": 61.0, \"std\": 0.056856200098991394, \"variable\": \"TA\"}, {\"mean\": 0.5916218757629395, \"time\": 62.0, \"std\": 0.05685281381011009, \"variable\": \"TA\"}, {\"mean\": 0.5375862717628479, \"time\": 63.0, \"std\": 0.05685475096106529, \"variable\": \"TA\"}, {\"mean\": 0.45939821004867554, \"time\": 64.0, \"std\": 0.05685910955071449, \"variable\": \"TA\"}, {\"mean\": 0.360201358795166, \"time\": 65.0, \"std\": 0.056858137249946594, \"variable\": \"TA\"}, {\"mean\": 0.28266358375549316, \"time\": 66.0, \"std\": 0.056858621537685394, \"variable\": \"TA\"}, {\"mean\": 0.28507256507873535, \"time\": 67.0, \"std\": 0.05685910955071449, \"variable\": \"TA\"}, {\"mean\": 0.3854379653930664, \"time\": 68.0, \"std\": 0.056858137249946594, \"variable\": \"TA\"}, {\"mean\": 0.5321507453918457, \"time\": 69.0, \"std\": 0.05685717239975929, \"variable\": \"TA\"}, {\"mean\": 0.6478030681610107, \"time\": 70.0, \"std\": 0.05685717239975929, \"variable\": \"TA\"}, {\"mean\": 0.7138035297393799, \"time\": 71.0, \"std\": 0.056857652962207794, \"variable\": \"TA\"}, {\"mean\": 0.8016762137413025, \"time\": 72.0, \"std\": 0.056857652962207794, \"variable\": \"TA\"}, {\"mean\": 0.9948495626449585, \"time\": 73.0, \"std\": 0.056856684386730194, \"variable\": \"TA\"}, {\"mean\": 1.266089916229248, \"time\": 74.0, \"std\": 0.056857652962207794, \"variable\": \"TA\"}, {\"mean\": 1.4532126188278198, \"time\": 75.0, \"std\": 0.056858137249946594, \"variable\": \"TA\"}, {\"mean\": 1.3928632736206055, \"time\": 76.0, \"std\": 0.056857652962207794, \"variable\": \"TA\"}, {\"mean\": 1.0906214714050293, \"time\": 77.0, \"std\": 0.05685717239975929, \"variable\": \"TA\"}, {\"mean\": 0.7369203567504883, \"time\": 78.0, \"std\": 0.056857652962207794, \"variable\": \"TA\"}, {\"mean\": 0.5339422821998596, \"time\": 79.0, \"std\": 0.056857652962207794, \"variable\": \"TA\"}, {\"mean\": 0.514849841594696, \"time\": 80.0, \"std\": 0.056856684386730194, \"variable\": \"TA\"}, {\"mean\": 0.5486245155334473, \"time\": 81.0, \"std\": 0.056859590113162994, \"variable\": \"TA\"}, {\"mean\": 0.5093517899513245, \"time\": 82.0, \"std\": 0.056860558688640594, \"variable\": \"TA\"}, {\"mean\": 0.4090455174446106, \"time\": 83.0, \"std\": 0.0568663664162159, \"variable\": \"TA\"}, {\"mean\": 0.3585883378982544, \"time\": 84.0, \"std\": 0.0568668507039547, \"variable\": \"TA\"}, {\"mean\": 0.4310656785964966, \"time\": 85.0, \"std\": 0.056880883872509, \"variable\": \"TA\"}, {\"mean\": 0.592986524105072, \"time\": 86.0, \"std\": 0.056883305311203, \"variable\": \"TA\"}, {\"mean\": 0.7578310966491699, \"time\": 87.0, \"std\": 0.056905075907707214, \"variable\": \"TA\"}, {\"mean\": 0.8706406354904175, \"time\": 88.0, \"std\": 0.05695970356464386, \"variable\": \"TA\"}, {\"mean\": 0.9263736009597778, \"time\": 89.0, \"std\": 0.05697081610560417, \"variable\": \"TA\"}, {\"mean\": 0.9310230016708374, \"time\": 90.0, \"std\": 0.05720320716500282, \"variable\": \"TA\"}, {\"mean\": 0.8775839805603027, \"time\": 91.0, \"std\": 0.05722101032733917, \"variable\": \"TA\"}, {\"mean\": 0.7657033205032349, \"time\": 92.0, \"std\": 0.058000706136226654, \"variable\": \"TA\"}, {\"mean\": 0.6283743381500244, \"time\": 93.0, \"std\": 0.05875741317868233, \"variable\": \"TA\"}, {\"mean\": 0.5236873626708984, \"time\": 94.0, \"std\": 0.06574880331754684, \"variable\": \"TA\"}, {\"mean\": 0.4986516237258911, \"time\": 95.0, \"std\": 0.13552506268024445, \"variable\": \"TA\"}, {\"mean\": 0.5614883899688721, \"time\": 96.0, \"std\": 0.2712390422821045, \"variable\": \"TA\"}, {\"mean\": 0.6835055351257324, \"time\": 97.0, \"std\": 0.4290785491466522, \"variable\": \"TA\"}, {\"mean\": 0.8221789598464966, \"time\": 98.0, \"std\": 0.5674079060554504, \"variable\": \"TA\"}, {\"mean\": 0.9439190030097961, \"time\": 99.0, \"std\": 0.6626788973808289, \"variable\": \"TA\"}, {\"mean\": 1.0339512825012207, \"time\": 100.0, \"std\": 0.7144628763198853, \"variable\": \"TA\"}, {\"mean\": 1.0940834283828735, \"time\": 101.0, \"std\": 0.7362291216850281, \"variable\": \"TA\"}, {\"mean\": 1.135329008102417, \"time\": 102.0, \"std\": 0.7416953444480896, \"variable\": \"TA\"}, {\"mean\": 1.1709305047988892, \"time\": 103.0, \"std\": 0.7362261414527893, \"variable\": \"TA\"}, {\"mean\": 1.2114115953445435, \"time\": 104.0, \"std\": 0.7144527435302734, \"variable\": \"TA\"}, {\"mean\": 1.261243224143982, \"time\": 105.0, \"std\": 0.6626567840576172, \"variable\": \"TA\"}, {\"mean\": 1.3176501989364624, \"time\": 106.0, \"std\": 0.5673691034317017, \"variable\": \"TA\"}, {\"mean\": 1.3737287521362305, \"time\": 107.0, \"std\": 0.4290185570716858, \"variable\": \"TA\"}, {\"mean\": 1.4265546798706055, \"time\": 108.0, \"std\": 0.27118170261383057, \"variable\": \"TA\"}, {\"mean\": 1.4848709106445312, \"time\": 109.0, \"std\": 0.1354856640100479, \"variable\": \"TA\"}, {\"mean\": 1.56569242477417, \"time\": 110.0, \"std\": 0.06573289632797241, \"variable\": \"TA\"}, {\"mean\": 1.6756136417388916, \"time\": 111.0, \"std\": 0.05876631289720535, \"variable\": \"TA\"}, {\"mean\": 1.7927415370941162, \"time\": 112.0, \"std\": 0.05804292485117912, \"variable\": \"TA\"}, {\"mean\": 1.8756418228149414, \"time\": 113.0, \"std\": 0.05724985897541046, \"variable\": \"TA\"}, {\"mean\": 1.9053335189819336, \"time\": 114.0, \"std\": 0.05721619725227356, \"variable\": \"TA\"}, {\"mean\": 1.9201560020446777, \"time\": 115.0, \"std\": 0.056972749531269073, \"variable\": \"TA\"}, {\"mean\": 1.9911439418792725, \"time\": 116.0, \"std\": 0.05692490190267563, \"variable\": \"TA\"}, {\"mean\": 2.1477949619293213, \"time\": 117.0, \"std\": 0.056888140738010406, \"variable\": \"TA\"}, {\"mean\": 2.332454204559326, \"time\": 118.0, \"std\": 0.05689685419201851, \"variable\": \"TA\"}, {\"mean\": 2.4505536556243896, \"time\": 119.0, \"std\": 0.056884270161390305, \"variable\": \"TA\"}, {\"mean\": 2.4722251892089844, \"time\": 120.0, \"std\": 0.05689152702689171, \"variable\": \"TA\"}, {\"mean\": 2.4654834270477295, \"time\": 121.0, \"std\": 0.05692248418927193, \"variable\": \"TA\"}, {\"mean\": 2.516902446746826, \"time\": 122.0, \"std\": 0.05690168961882591, \"variable\": \"TA\"}, {\"mean\": 2.628861427307129, \"time\": 123.0, \"std\": 0.05684652179479599, \"variable\": \"TA\"}, {\"mean\": 2.7165427207946777, \"time\": 124.0, \"std\": 0.0568668507039547, \"variable\": \"TA\"}, {\"mean\": 2.7018699645996094, \"time\": 125.0, \"std\": 0.05691281333565712, \"variable\": \"TA\"}, {\"mean\": 2.5947089195251465, \"time\": 126.0, \"std\": 0.05689588189125061, \"variable\": \"TA\"}, {\"mean\": 2.468836784362793, \"time\": 127.0, \"std\": 0.05680244415998459, \"variable\": \"TA\"}, {\"mean\": 2.3754312992095947, \"time\": 128.0, \"std\": 0.05689491704106331, \"variable\": \"TA\"}, {\"mean\": 2.3008828163146973, \"time\": 129.0, \"std\": 0.05693988874554634, \"variable\": \"TA\"}, {\"mean\": 2.204801082611084, \"time\": 130.0, \"std\": 0.05689926818013191, \"variable\": \"TA\"}, {\"mean\": 2.086052417755127, \"time\": 131.0, \"std\": 0.05689346417784691, \"variable\": \"TA\"}, {\"mean\": 1.9918184280395508, \"time\": 132.0, \"std\": 0.056903138756752014, \"variable\": \"TA\"}, {\"mean\": 1.9683773517608643, \"time\": 133.0, \"std\": 0.0568823367357254, \"variable\": \"TA\"}, {\"mean\": 2.0142111778259277, \"time\": 134.0, \"std\": 0.05684748664498329, \"variable\": \"TA\"}, {\"mean\": 2.0816643238067627, \"time\": 135.0, \"std\": 0.05683683604001999, \"variable\": \"TA\"}, {\"mean\": 2.1201319694519043, \"time\": 136.0, \"std\": 0.0568692721426487, \"variable\": \"TA\"}, {\"mean\": 2.115494966506958, \"time\": 137.0, \"std\": 0.05689539760351181, \"variable\": \"TA\"}, {\"mean\": 2.091508150100708, \"time\": 138.0, \"std\": 0.0568721741437912, \"variable\": \"TA\"}, {\"mean\": 2.0804038047790527, \"time\": 139.0, \"std\": 0.05692490190267563, \"variable\": \"TA\"}, {\"mean\": 2.0912299156188965, \"time\": 140.0, \"std\": 0.05690217390656471, \"variable\": \"TA\"}, {\"mean\": 2.1050963401794434, \"time\": 141.0, \"std\": 0.05687265843153, \"variable\": \"TA\"}, {\"mean\": 2.0997982025146484, \"time\": 142.0, \"std\": 0.05698627606034279, \"variable\": \"TA\"}, {\"mean\": 2.0750904083251953, \"time\": 143.0, \"std\": 0.05703841522336006, \"variable\": \"TA\"}, {\"mean\": 2.0512349605560303, \"time\": 144.0, \"std\": 0.056955836713314056, \"variable\": \"TA\"}, {\"mean\": 2.0503129959106445, \"time\": 145.0, \"std\": 0.057090986520051956, \"variable\": \"TA\"}, {\"mean\": 2.0799789428710938, \"time\": 146.0, \"std\": 0.05718636512756348, \"variable\": \"TA\"}, {\"mean\": 2.1334757804870605, \"time\": 147.0, \"std\": 0.05807705968618393, \"variable\": \"TA\"}, {\"mean\": 2.1994385719299316, \"time\": 148.0, \"std\": 0.05880049616098404, \"variable\": \"TA\"}, {\"mean\": 2.253669261932373, \"time\": 149.0, \"std\": 0.06576304137706757, \"variable\": \"TA\"}], \"data-d55e15a32ca36a4ad408c5f5e6e66843\": [{\"time\": 0.0, \"variable\": \"SW_IN\", \"value\": 0.0, \"is_missing\": false}, {\"time\": 1.0, \"variable\": \"SW_IN\", \"value\": 0.0, \"is_missing\": false}, {\"time\": 2.0, \"variable\": \"SW_IN\", \"value\": 0.0, \"is_missing\": false}, {\"time\": 3.0, \"variable\": \"SW_IN\", \"value\": 0.0, \"is_missing\": false}, {\"time\": 4.0, \"variable\": \"SW_IN\", \"value\": 0.0, \"is_missing\": false}, {\"time\": 5.0, \"variable\": \"SW_IN\", \"value\": 0.0, \"is_missing\": false}, {\"time\": 6.0, \"variable\": \"SW_IN\", \"value\": 0.0, \"is_missing\": false}, {\"time\": 7.0, \"variable\": \"SW_IN\", \"value\": 0.0, \"is_missing\": false}, {\"time\": 8.0, \"variable\": \"SW_IN\", \"value\": 0.0, \"is_missing\": false}, {\"time\": 9.0, \"variable\": \"SW_IN\", \"value\": 0.0, \"is_missing\": false}, {\"time\": 10.0, \"variable\": \"SW_IN\", \"value\": 0.0, \"is_missing\": false}, {\"time\": 11.0, \"variable\": \"SW_IN\", \"value\": 0.0, \"is_missing\": false}, {\"time\": 12.0, \"variable\": \"SW_IN\", \"value\": 0.0, \"is_missing\": false}, {\"time\": 13.0, \"variable\": \"SW_IN\", \"value\": 0.0, \"is_missing\": false}, {\"time\": 14.0, \"variable\": \"SW_IN\", \"value\": 0.0, \"is_missing\": false}, {\"time\": 15.0, \"variable\": \"SW_IN\", \"value\": 0.0, \"is_missing\": false}, {\"time\": 16.0, \"variable\": \"SW_IN\", \"value\": 0.45, \"is_missing\": false}, {\"time\": 17.0, \"variable\": \"SW_IN\", \"value\": 3.7, \"is_missing\": false}, {\"time\": 18.0, \"variable\": \"SW_IN\", \"value\": 7.26, \"is_missing\": false}, {\"time\": 19.0, \"variable\": \"SW_IN\", \"value\": 12.24, \"is_missing\": false}, {\"time\": 20.0, \"variable\": \"SW_IN\", \"value\": 16.51, \"is_missing\": false}, {\"time\": 21.0, \"variable\": \"SW_IN\", \"value\": 24.73, \"is_missing\": false}, {\"time\": 22.0, \"variable\": \"SW_IN\", \"value\": 47.42, \"is_missing\": false}, {\"time\": 23.0, \"variable\": \"SW_IN\", \"value\": 22.05, \"is_missing\": false}, {\"time\": 24.0, \"variable\": \"SW_IN\", \"value\": 18.86, \"is_missing\": false}, {\"time\": 25.0, \"variable\": \"SW_IN\", \"value\": 21.1, \"is_missing\": false}, {\"time\": 26.0, \"variable\": \"SW_IN\", \"value\": 28.87, \"is_missing\": false}, {\"time\": 27.0, \"variable\": \"SW_IN\", \"value\": 24.22, \"is_missing\": false}, {\"time\": 28.0, \"variable\": \"SW_IN\", \"value\": 24.35, \"is_missing\": false}, {\"time\": 29.0, \"variable\": \"SW_IN\", \"value\": 15.68, \"is_missing\": false}, {\"time\": 30.0, \"variable\": \"SW_IN\", \"value\": 8.09, \"is_missing\": false}, {\"time\": 31.0, \"variable\": \"SW_IN\", \"value\": 6.37, \"is_missing\": false}, {\"time\": 32.0, \"variable\": \"SW_IN\", \"value\": 1.72, \"is_missing\": false}, {\"time\": 33.0, \"variable\": \"SW_IN\", \"value\": 0.06, \"is_missing\": false}, {\"time\": 34.0, \"variable\": \"SW_IN\", \"value\": 0.0, \"is_missing\": false}, {\"time\": 35.0, \"variable\": \"SW_IN\", \"value\": 0.0, \"is_missing\": false}, {\"time\": 36.0, \"variable\": \"SW_IN\", \"value\": 0.0, \"is_missing\": false}, {\"time\": 37.0, \"variable\": \"SW_IN\", \"value\": 0.0, \"is_missing\": false}, {\"time\": 38.0, \"variable\": \"SW_IN\", \"value\": 0.0, \"is_missing\": false}, {\"time\": 39.0, \"variable\": \"SW_IN\", \"value\": 0.0, \"is_missing\": false}, {\"time\": 40.0, \"variable\": \"SW_IN\", \"value\": 0.0, \"is_missing\": false}, {\"time\": 41.0, \"variable\": \"SW_IN\", \"value\": 0.0, \"is_missing\": false}, {\"time\": 42.0, \"variable\": \"SW_IN\", \"value\": 0.0, \"is_missing\": false}, {\"time\": 43.0, \"variable\": \"SW_IN\", \"value\": 0.0, \"is_missing\": false}, {\"time\": 44.0, \"variable\": \"SW_IN\", \"value\": 0.0, \"is_missing\": false}, {\"time\": 45.0, \"variable\": \"SW_IN\", \"value\": 0.0, \"is_missing\": false}, {\"time\": 46.0, \"variable\": \"SW_IN\", \"value\": 0.0, \"is_missing\": false}, {\"time\": 47.0, \"variable\": \"SW_IN\", \"value\": 0.0, \"is_missing\": false}, {\"time\": 48.0, \"variable\": \"SW_IN\", \"value\": 0.0, \"is_missing\": false}, {\"time\": 49.0, \"variable\": \"SW_IN\", \"value\": 0.0, \"is_missing\": false}, {\"time\": 50.0, \"variable\": \"SW_IN\", \"value\": 0.0, \"is_missing\": false}, {\"time\": 51.0, \"variable\": \"SW_IN\", \"value\": 0.0, \"is_missing\": false}, {\"time\": 52.0, \"variable\": \"SW_IN\", \"value\": 0.0, \"is_missing\": false}, {\"time\": 53.0, \"variable\": \"SW_IN\", \"value\": 0.0, \"is_missing\": false}, {\"time\": 54.0, \"variable\": \"SW_IN\", \"value\": 0.0, \"is_missing\": false}, {\"time\": 55.0, \"variable\": \"SW_IN\", \"value\": 0.0, \"is_missing\": false}, {\"time\": 56.0, \"variable\": \"SW_IN\", \"value\": 0.0, \"is_missing\": false}, {\"time\": 57.0, \"variable\": \"SW_IN\", \"value\": 0.0, \"is_missing\": false}, {\"time\": 58.0, \"variable\": \"SW_IN\", \"value\": 0.0, \"is_missing\": false}, {\"time\": 59.0, \"variable\": \"SW_IN\", \"value\": 0.0, \"is_missing\": false}, {\"time\": 60.0, \"variable\": \"SW_IN\", \"value\": 0.0, \"is_missing\": false}, {\"time\": 61.0, \"variable\": \"SW_IN\", \"value\": 0.0, \"is_missing\": false}, {\"time\": 62.0, \"variable\": \"SW_IN\", \"value\": 0.0, \"is_missing\": false}, {\"time\": 63.0, \"variable\": \"SW_IN\", \"value\": 0.0, \"is_missing\": false}, {\"time\": 64.0, \"variable\": \"SW_IN\", \"value\": 4.27, \"is_missing\": false}, {\"time\": 65.0, \"variable\": \"SW_IN\", \"value\": 23.9, \"is_missing\": false}, {\"time\": 66.0, \"variable\": \"SW_IN\", \"value\": 50.61, \"is_missing\": false}, {\"time\": 67.0, \"variable\": \"SW_IN\", \"value\": 61.76, \"is_missing\": false}, {\"time\": 68.0, \"variable\": \"SW_IN\", \"value\": 125.24, \"is_missing\": false}, {\"time\": 69.0, \"variable\": \"SW_IN\", \"value\": 138.43, \"is_missing\": false}, {\"time\": 70.0, \"variable\": \"SW_IN\", \"value\": 177.5, \"is_missing\": false}, {\"time\": 71.0, \"variable\": \"SW_IN\", \"value\": 148.06, \"is_missing\": false}, {\"time\": 72.0, \"variable\": \"SW_IN\", \"value\": 122.37, \"is_missing\": false}, {\"time\": 73.0, \"variable\": \"SW_IN\", \"value\": 130.21, \"is_missing\": false}, {\"time\": 74.0, \"variable\": \"SW_IN\", \"value\": 124.73, \"is_missing\": false}, {\"time\": 75.0, \"variable\": \"SW_IN\", \"value\": 110.65, \"is_missing\": false}, {\"time\": 76.0, \"variable\": \"SW_IN\", \"value\": 57.81, \"is_missing\": false}, {\"time\": 77.0, \"variable\": \"SW_IN\", \"value\": 31.87, \"is_missing\": false}, {\"time\": 78.0, \"variable\": \"SW_IN\", \"value\": 19.89, \"is_missing\": false}, {\"time\": 79.0, \"variable\": \"SW_IN\", \"value\": 8.8, \"is_missing\": false}, {\"time\": 80.0, \"variable\": \"SW_IN\", \"value\": 1.78, \"is_missing\": false}, {\"time\": 81.0, \"variable\": \"SW_IN\", \"value\": 0.06, \"is_missing\": false}, {\"time\": 82.0, \"variable\": \"SW_IN\", \"value\": 0.0, \"is_missing\": false}, {\"time\": 83.0, \"variable\": \"SW_IN\", \"value\": 0.0, \"is_missing\": false}, {\"time\": 84.0, \"variable\": \"SW_IN\", \"value\": 0.0, \"is_missing\": false}, {\"time\": 85.0, \"variable\": \"SW_IN\", \"value\": 0.0, \"is_missing\": false}, {\"time\": 86.0, \"variable\": \"SW_IN\", \"value\": 0.0, \"is_missing\": false}, {\"time\": 87.0, \"variable\": \"SW_IN\", \"value\": 0.0, \"is_missing\": false}, {\"time\": 88.0, \"variable\": \"SW_IN\", \"value\": 0.0, \"is_missing\": false}, {\"time\": 89.0, \"variable\": \"SW_IN\", \"value\": 0.0, \"is_missing\": false}, {\"time\": 90.0, \"variable\": \"SW_IN\", \"value\": 0.0, \"is_missing\": false}, {\"time\": 91.0, \"variable\": \"SW_IN\", \"value\": 0.0, \"is_missing\": false}, {\"time\": 92.0, \"variable\": \"SW_IN\", \"value\": 0.0, \"is_missing\": false}, {\"time\": 93.0, \"variable\": \"SW_IN\", \"value\": 0.0, \"is_missing\": false}, {\"time\": 94.0, \"variable\": \"SW_IN\", \"value\": 0.0, \"is_missing\": false}, {\"time\": 95.0, \"variable\": \"SW_IN\", \"value\": 0.0, \"is_missing\": true}, {\"time\": 96.0, \"variable\": \"SW_IN\", \"value\": 0.0, \"is_missing\": true}, {\"time\": 97.0, \"variable\": \"SW_IN\", \"value\": 0.0, \"is_missing\": true}, {\"time\": 98.0, \"variable\": \"SW_IN\", \"value\": 0.0, \"is_missing\": true}, {\"time\": 99.0, \"variable\": \"SW_IN\", \"value\": 0.0, \"is_missing\": true}, {\"time\": 100.0, \"variable\": \"SW_IN\", \"value\": 0.0, \"is_missing\": true}, {\"time\": 101.0, \"variable\": \"SW_IN\", \"value\": 0.0, \"is_missing\": true}, {\"time\": 102.0, \"variable\": \"SW_IN\", \"value\": 0.0, \"is_missing\": true}, {\"time\": 103.0, \"variable\": \"SW_IN\", \"value\": 0.0, \"is_missing\": true}, {\"time\": 104.0, \"variable\": \"SW_IN\", \"value\": 0.0, \"is_missing\": true}, {\"time\": 105.0, \"variable\": \"SW_IN\", \"value\": 0.0, \"is_missing\": true}, {\"time\": 106.0, \"variable\": \"SW_IN\", \"value\": 0.0, \"is_missing\": true}, {\"time\": 107.0, \"variable\": \"SW_IN\", \"value\": 0.0, \"is_missing\": true}, {\"time\": 108.0, \"variable\": \"SW_IN\", \"value\": 0.0, \"is_missing\": true}, {\"time\": 109.0, \"variable\": \"SW_IN\", \"value\": 0.0, \"is_missing\": true}, {\"time\": 110.0, \"variable\": \"SW_IN\", \"value\": 0.0, \"is_missing\": false}, {\"time\": 111.0, \"variable\": \"SW_IN\", \"value\": 0.0, \"is_missing\": false}, {\"time\": 112.0, \"variable\": \"SW_IN\", \"value\": 1.4, \"is_missing\": false}, {\"time\": 113.0, \"variable\": \"SW_IN\", \"value\": 9.81, \"is_missing\": false}, {\"time\": 114.0, \"variable\": \"SW_IN\", \"value\": 25.05, \"is_missing\": false}, {\"time\": 115.0, \"variable\": \"SW_IN\", \"value\": 36.84, \"is_missing\": false}, {\"time\": 116.0, \"variable\": \"SW_IN\", \"value\": 80.63, \"is_missing\": false}, {\"time\": 117.0, \"variable\": \"SW_IN\", \"value\": 78.58, \"is_missing\": false}, {\"time\": 118.0, \"variable\": \"SW_IN\", \"value\": 77.25, \"is_missing\": false}, {\"time\": 119.0, \"variable\": \"SW_IN\", \"value\": 93.31, \"is_missing\": false}, {\"time\": 120.0, \"variable\": \"SW_IN\", \"value\": 114.08, \"is_missing\": false}, {\"time\": 121.0, \"variable\": \"SW_IN\", \"value\": 117.33, \"is_missing\": false}, {\"time\": 122.0, \"variable\": \"SW_IN\", \"value\": 109.82, \"is_missing\": false}, {\"time\": 123.0, \"variable\": \"SW_IN\", \"value\": 97.51, \"is_missing\": false}, {\"time\": 124.0, \"variable\": \"SW_IN\", \"value\": 74.64, \"is_missing\": false}, {\"time\": 125.0, \"variable\": \"SW_IN\", \"value\": 40.66, \"is_missing\": false}, {\"time\": 126.0, \"variable\": \"SW_IN\", \"value\": 32.06, \"is_missing\": false}, {\"time\": 127.0, \"variable\": \"SW_IN\", \"value\": 16.12, \"is_missing\": false}, {\"time\": 128.0, \"variable\": \"SW_IN\", \"value\": 3.76, \"is_missing\": false}, {\"time\": 129.0, \"variable\": \"SW_IN\", \"value\": 0.57, \"is_missing\": false}, {\"time\": 130.0, \"variable\": \"SW_IN\", \"value\": 0.0, \"is_missing\": false}, {\"time\": 131.0, \"variable\": \"SW_IN\", \"value\": 0.0, \"is_missing\": false}, {\"time\": 132.0, \"variable\": \"SW_IN\", \"value\": 0.0, \"is_missing\": false}, {\"time\": 133.0, \"variable\": \"SW_IN\", \"value\": 0.0, \"is_missing\": false}, {\"time\": 134.0, \"variable\": \"SW_IN\", \"value\": 0.0, \"is_missing\": false}, {\"time\": 135.0, \"variable\": \"SW_IN\", \"value\": 0.0, \"is_missing\": false}, {\"time\": 136.0, \"variable\": \"SW_IN\", \"value\": 0.0, \"is_missing\": false}, {\"time\": 137.0, \"variable\": \"SW_IN\", \"value\": 0.0, \"is_missing\": false}, {\"time\": 138.0, \"variable\": \"SW_IN\", \"value\": 0.0, \"is_missing\": false}, {\"time\": 139.0, \"variable\": \"SW_IN\", \"value\": 0.0, \"is_missing\": false}, {\"time\": 140.0, \"variable\": \"SW_IN\", \"value\": 0.0, \"is_missing\": false}, {\"time\": 141.0, \"variable\": \"SW_IN\", \"value\": 0.0, \"is_missing\": false}, {\"time\": 142.0, \"variable\": \"SW_IN\", \"value\": 0.0, \"is_missing\": false}, {\"time\": 143.0, \"variable\": \"SW_IN\", \"value\": 0.0, \"is_missing\": false}, {\"time\": 144.0, \"variable\": \"SW_IN\", \"value\": 0.0, \"is_missing\": false}, {\"time\": 145.0, \"variable\": \"SW_IN\", \"value\": 0.0, \"is_missing\": false}, {\"time\": 146.0, \"variable\": \"SW_IN\", \"value\": 0.0, \"is_missing\": false}, {\"time\": 147.0, \"variable\": \"SW_IN\", \"value\": 0.0, \"is_missing\": false}, {\"time\": 148.0, \"variable\": \"SW_IN\", \"value\": 0.0, \"is_missing\": false}, {\"time\": 149.0, \"variable\": \"SW_IN\", \"value\": 0.0, \"is_missing\": false}], \"data-ea3a4dc398808186b334dba9805bd1a2\": [{\"mean\": 0.6567630767822266, \"time\": 0.0, \"std\": 8.389580726623535, \"variable\": \"SW_IN\"}, {\"mean\": -0.0009860992431640625, \"time\": 1.0, \"std\": 7.520502090454102, \"variable\": \"SW_IN\"}, {\"mean\": -0.17953109741210938, \"time\": 2.0, \"std\": 7.4383544921875, \"variable\": \"SW_IN\"}, {\"mean\": -0.07085227966308594, \"time\": 3.0, \"std\": 7.428988456726074, \"variable\": \"SW_IN\"}, {\"mean\": 0.11214447021484375, \"time\": 4.0, \"std\": 7.386635780334473, \"variable\": \"SW_IN\"}, {\"mean\": 0.20735740661621094, \"time\": 5.0, \"std\": 7.366242408752441, \"variable\": \"SW_IN\"}, {\"mean\": 0.15147972106933594, \"time\": 6.0, \"std\": 7.366090297698975, \"variable\": \"SW_IN\"}, {\"mean\": -0.0026264190673828125, \"time\": 7.0, \"std\": 7.361316680908203, \"variable\": \"SW_IN\"}, {\"mean\": -0.12424468994140625, \"time\": 8.0, \"std\": 7.356296062469482, \"variable\": \"SW_IN\"}, {\"mean\": -0.08587074279785156, \"time\": 9.0, \"std\": 7.355698108673096, \"variable\": \"SW_IN\"}, {\"mean\": 0.1356220245361328, \"time\": 10.0, \"std\": 7.355686187744141, \"variable\": \"SW_IN\"}, {\"mean\": 0.40318870544433594, \"time\": 11.0, \"std\": 7.354404449462891, \"variable\": \"SW_IN\"}, {\"mean\": 0.469757080078125, \"time\": 12.0, \"std\": 7.353879451751709, \"variable\": \"SW_IN\"}, {\"mean\": 0.15727996826171875, \"time\": 13.0, \"std\": 7.353812217712402, \"variable\": \"SW_IN\"}, {\"mean\": -0.4101219177246094, \"time\": 14.0, \"std\": 7.353073596954346, \"variable\": \"SW_IN\"}, {\"mean\": -0.6722526550292969, \"time\": 15.0, \"std\": 7.353165149688721, \"variable\": \"SW_IN\"}, {\"mean\": 0.24190521240234375, \"time\": 16.0, \"std\": 7.353085994720459, \"variable\": \"SW_IN\"}, {\"mean\": 3.1091079711914062, \"time\": 17.0, \"std\": 7.352792739868164, \"variable\": \"SW_IN\"}, {\"mean\": 8.109055519104004, \"time\": 18.0, \"std\": 7.353537559509277, \"variable\": \"SW_IN\"}, {\"mean\": 14.515169143676758, \"time\": 19.0, \"std\": 7.353537559509277, \"variable\": \"SW_IN\"}, {\"mean\": 20.893281936645508, \"time\": 20.0, \"std\": 7.353549480438232, \"variable\": \"SW_IN\"}, {\"mean\": 25.72618293762207, \"time\": 21.0, \"std\": 7.353561878204346, \"variable\": \"SW_IN\"}, {\"mean\": 28.132204055786133, \"time\": 22.0, \"std\": 7.353335857391357, \"variable\": \"SW_IN\"}, {\"mean\": 28.2681884765625, \"time\": 23.0, \"std\": 7.353299140930176, \"variable\": \"SW_IN\"}, {\"mean\": 27.065826416015625, \"time\": 24.0, \"std\": 7.353549480438232, \"variable\": \"SW_IN\"}, {\"mean\": 25.557811737060547, \"time\": 25.0, \"std\": 7.353116035461426, \"variable\": \"SW_IN\"}, {\"mean\": 24.181358337402344, \"time\": 26.0, \"std\": 7.352798938751221, \"variable\": \"SW_IN\"}, {\"mean\": 22.6207275390625, \"time\": 27.0, \"std\": 7.352481365203857, \"variable\": \"SW_IN\"}, {\"mean\": 20.15448760986328, \"time\": 28.0, \"std\": 7.352407932281494, \"variable\": \"SW_IN\"}, {\"mean\": 16.359214782714844, \"time\": 29.0, \"std\": 7.353122234344482, \"variable\": \"SW_IN\"}, {\"mean\": 11.502164840698242, \"time\": 30.0, \"std\": 7.353165149688721, \"variable\": \"SW_IN\"}, {\"mean\": 6.507051467895508, \"time\": 31.0, \"std\": 7.352823257446289, \"variable\": \"SW_IN\"}, {\"mean\": 2.4523239135742188, \"time\": 32.0, \"std\": 7.352811336517334, \"variable\": \"SW_IN\"}, {\"mean\": 0.0123748779296875, \"time\": 33.0, \"std\": 7.3525848388671875, \"variable\": \"SW_IN\"}, {\"mean\": -0.8121013641357422, \"time\": 34.0, \"std\": 7.352627754211426, \"variable\": \"SW_IN\"}, {\"mean\": -0.5694580078125, \"time\": 35.0, \"std\": 7.352744102478027, \"variable\": \"SW_IN\"}, {\"mean\": 0.014766693115234375, \"time\": 36.0, \"std\": 7.352768421173096, \"variable\": \"SW_IN\"}, {\"mean\": 0.40988731384277344, \"time\": 37.0, \"std\": 7.352682590484619, \"variable\": \"SW_IN\"}, {\"mean\": 0.4417858123779297, \"time\": 38.0, \"std\": 7.352768421173096, \"variable\": \"SW_IN\"}, {\"mean\": 0.22673797607421875, \"time\": 39.0, \"std\": 7.352921009063721, \"variable\": \"SW_IN\"}, {\"mean\": -0.0140838623046875, \"time\": 40.0, \"std\": 7.353067398071289, \"variable\": \"SW_IN\"}, {\"mean\": -0.12286567687988281, \"time\": 41.0, \"std\": 7.353427886962891, \"variable\": \"SW_IN\"}, {\"mean\": -0.07344627380371094, \"time\": 42.0, \"std\": 7.353427886962891, \"variable\": \"SW_IN\"}, {\"mean\": 0.058361053466796875, \"time\": 43.0, \"std\": 7.353274822235107, \"variable\": \"SW_IN\"}, {\"mean\": 0.1678295135498047, \"time\": 44.0, \"std\": 7.353165149688721, \"variable\": \"SW_IN\"}, {\"mean\": 0.18581008911132812, \"time\": 45.0, \"std\": 7.353048801422119, \"variable\": \"SW_IN\"}, {\"mean\": 0.108245849609375, \"time\": 46.0, \"std\": 7.353091716766357, \"variable\": \"SW_IN\"}, {\"mean\": -0.008550643920898438, \"time\": 47.0, \"std\": 7.353067398071289, \"variable\": \"SW_IN\"}, {\"mean\": -0.07908439636230469, \"time\": 48.0, \"std\": 7.353170871734619, \"variable\": \"SW_IN\"}, {\"mean\": -0.03627586364746094, \"time\": 49.0, \"std\": 7.353170871734619, \"variable\": \"SW_IN\"}, {\"mean\": 0.11887359619140625, \"time\": 50.0, \"std\": 7.3531036376953125, \"variable\": \"SW_IN\"}, {\"mean\": 0.29387474060058594, \"time\": 51.0, \"std\": 7.353158950805664, \"variable\": \"SW_IN\"}, {\"mean\": 0.33950042724609375, \"time\": 52.0, \"std\": 7.353152751922607, \"variable\": \"SW_IN\"}, {\"mean\": 0.14929962158203125, \"time\": 53.0, \"std\": 7.353024482727051, \"variable\": \"SW_IN\"}, {\"mean\": -0.22330665588378906, \"time\": 54.0, \"std\": 7.353005886077881, \"variable\": \"SW_IN\"}, {\"mean\": -0.5261363983154297, \"time\": 55.0, \"std\": 7.353061199188232, \"variable\": \"SW_IN\"}, {\"mean\": -0.4292488098144531, \"time\": 56.0, \"std\": 7.353079319000244, \"variable\": \"SW_IN\"}, {\"mean\": 0.20875167846679688, \"time\": 57.0, \"std\": 7.353122234344482, \"variable\": \"SW_IN\"}, {\"mean\": 1.0897350311279297, \"time\": 58.0, \"std\": 7.353165149688721, \"variable\": \"SW_IN\"}, {\"mean\": 1.4844989776611328, \"time\": 59.0, \"std\": 7.353208065032959, \"variable\": \"SW_IN\"}, {\"mean\": 0.667633056640625, \"time\": 60.0, \"std\": 7.353158950805664, \"variable\": \"SW_IN\"}, {\"mean\": -1.323293685913086, \"time\": 61.0, \"std\": 7.353152751922607, \"variable\": \"SW_IN\"}, {\"mean\": -3.020000457763672, \"time\": 62.0, \"std\": 7.353165149688721, \"variable\": \"SW_IN\"}, {\"mean\": -1.4936637878417969, \"time\": 63.0, \"std\": 7.353134632110596, \"variable\": \"SW_IN\"}, {\"mean\": 6.721165657043457, \"time\": 64.0, \"std\": 7.353128910064697, \"variable\": \"SW_IN\"}, {\"mean\": 23.98927879333496, \"time\": 65.0, \"std\": 7.353110313415527, \"variable\": \"SW_IN\"}, {\"mean\": 50.02196502685547, \"time\": 66.0, \"std\": 7.353110313415527, \"variable\": \"SW_IN\"}, {\"mean\": 81.35160064697266, \"time\": 67.0, \"std\": 7.353110313415527, \"variable\": \"SW_IN\"}, {\"mean\": 112.29484558105469, \"time\": 68.0, \"std\": 7.353116035461426, \"variable\": \"SW_IN\"}, {\"mean\": 137.0027313232422, \"time\": 69.0, \"std\": 7.353122234344482, \"variable\": \"SW_IN\"}, {\"mean\": 151.50579833984375, \"time\": 70.0, \"std\": 7.3531036376953125, \"variable\": \"SW_IN\"}, {\"mean\": 154.67835998535156, \"time\": 71.0, \"std\": 7.353116035461426, \"variable\": \"SW_IN\"}, {\"mean\": 147.78282165527344, \"time\": 72.0, \"std\": 7.353122234344482, \"variable\": \"SW_IN\"}, {\"mean\": 133.17672729492188, \"time\": 73.0, \"std\": 7.353116035461426, \"variable\": \"SW_IN\"}, {\"mean\": 113.19451904296875, \"time\": 74.0, \"std\": 7.353134632110596, \"variable\": \"SW_IN\"}, {\"mean\": 89.84976196289062, \"time\": 75.0, \"std\": 7.353140830993652, \"variable\": \"SW_IN\"}, {\"mean\": 65.2093276977539, \"time\": 76.0, \"std\": 7.353158950805664, \"variable\": \"SW_IN\"}, {\"mean\": 41.746498107910156, \"time\": 77.0, \"std\": 7.353208065032959, \"variable\": \"SW_IN\"}, {\"mean\": 22.092777252197266, \"time\": 78.0, \"std\": 7.353189468383789, \"variable\": \"SW_IN\"}, {\"mean\": 8.221796989440918, \"time\": 79.0, \"std\": 7.353287220001221, \"variable\": \"SW_IN\"}, {\"mean\": 0.6423015594482422, \"time\": 80.0, \"std\": 7.353482723236084, \"variable\": \"SW_IN\"}, {\"mean\": -1.7788028717041016, \"time\": 81.0, \"std\": 7.353573799133301, \"variable\": \"SW_IN\"}, {\"mean\": -1.208230972290039, \"time\": 82.0, \"std\": 7.353635311126709, \"variable\": \"SW_IN\"}, {\"mean\": 0.1717395782470703, \"time\": 83.0, \"std\": 7.354379653930664, \"variable\": \"SW_IN\"}, {\"mean\": 0.9879779815673828, \"time\": 84.0, \"std\": 7.355374813079834, \"variable\": \"SW_IN\"}, {\"mean\": 0.9147720336914062, \"time\": 85.0, \"std\": 7.355417728424072, \"variable\": \"SW_IN\"}, {\"mean\": 0.3469810485839844, \"time\": 86.0, \"std\": 7.356857776641846, \"variable\": \"SW_IN\"}, {\"mean\": -0.158966064453125, \"time\": 87.0, \"std\": 7.362408638000488, \"variable\": \"SW_IN\"}, {\"mean\": -0.3057537078857422, \"time\": 88.0, \"std\": 7.366297245025635, \"variable\": \"SW_IN\"}, {\"mean\": -0.1547393798828125, \"time\": 89.0, \"std\": 7.366705417633057, \"variable\": \"SW_IN\"}, {\"mean\": 0.0428924560546875, \"time\": 90.0, \"std\": 7.386568546295166, \"variable\": \"SW_IN\"}, {\"mean\": 0.09570693969726562, \"time\": 91.0, \"std\": 7.429900169372559, \"variable\": \"SW_IN\"}, {\"mean\": 0.027463912963867188, \"time\": 92.0, \"std\": 7.439513206481934, \"variable\": \"SW_IN\"}, {\"mean\": 0.06911277770996094, \"time\": 93.0, \"std\": 7.521922588348389, \"variable\": \"SW_IN\"}, {\"mean\": 0.5283317565917969, \"time\": 94.0, \"std\": 8.390233039855957, \"variable\": \"SW_IN\"}, {\"mean\": 1.6329994201660156, \"time\": 95.0, \"std\": 10.96961784362793, \"variable\": \"SW_IN\"}, {\"mean\": 3.433513641357422, \"time\": 96.0, \"std\": 15.148083686828613, \"variable\": \"SW_IN\"}, {\"mean\": 5.799613952636719, \"time\": 97.0, \"std\": 20.005006790161133, \"variable\": \"SW_IN\"}, {\"mean\": 8.4930419921875, \"time\": 98.0, \"std\": 24.615480422973633, \"variable\": \"SW_IN\"}, {\"mean\": 11.26674747467041, \"time\": 99.0, \"std\": 28.356624603271484, \"variable\": \"SW_IN\"}, {\"mean\": 13.937166213989258, \"time\": 100.0, \"std\": 30.96257972717285, \"variable\": \"SW_IN\"}, {\"mean\": 16.395124435424805, \"time\": 101.0, \"std\": 32.44314193725586, \"variable\": \"SW_IN\"}, {\"mean\": 18.549484252929688, \"time\": 102.0, \"std\": 32.91604232788086, \"variable\": \"SW_IN\"}, {\"mean\": 20.230304718017578, \"time\": 103.0, \"std\": 32.443180084228516, \"variable\": \"SW_IN\"}, {\"mean\": 21.107126235961914, \"time\": 104.0, \"std\": 30.96272087097168, \"variable\": \"SW_IN\"}, {\"mean\": 20.696056365966797, \"time\": 105.0, \"std\": 28.35672950744629, \"variable\": \"SW_IN\"}, {\"mean\": 18.513887405395508, \"time\": 106.0, \"std\": 24.615690231323242, \"variable\": \"SW_IN\"}, {\"mean\": 14.378015518188477, \"time\": 107.0, \"std\": 20.00493621826172, \"variable\": \"SW_IN\"}, {\"mean\": 8.74636173248291, \"time\": 108.0, \"std\": 15.148148536682129, \"variable\": \"SW_IN\"}, {\"mean\": 2.904277801513672, \"time\": 109.0, \"std\": 10.9697847366333, \"variable\": \"SW_IN\"}, {\"mean\": -1.2011337280273438, \"time\": 110.0, \"std\": 8.390083312988281, \"variable\": \"SW_IN\"}, {\"mean\": -1.5292530059814453, \"time\": 111.0, \"std\": 7.521880626678467, \"variable\": \"SW_IN\"}, {\"mean\": 3.279949188232422, \"time\": 112.0, \"std\": 7.439627647399902, \"variable\": \"SW_IN\"}, {\"mean\": 13.317302703857422, \"time\": 113.0, \"std\": 7.429978847503662, \"variable\": \"SW_IN\"}, {\"mean\": 27.37562370300293, \"time\": 114.0, \"std\": 7.386483669281006, \"variable\": \"SW_IN\"}, {\"mean\": 43.52668762207031, \"time\": 115.0, \"std\": 7.366583347320557, \"variable\": \"SW_IN\"}, {\"mean\": 59.97431945800781, \"time\": 116.0, \"std\": 7.366181373596191, \"variable\": \"SW_IN\"}, {\"mean\": 75.57194519042969, \"time\": 117.0, \"std\": 7.362182140350342, \"variable\": \"SW_IN\"}, {\"mean\": 89.69482421875, \"time\": 118.0, \"std\": 7.356534481048584, \"variable\": \"SW_IN\"}, {\"mean\": 101.57321166992188, \"time\": 119.0, \"std\": 7.355277061462402, \"variable\": \"SW_IN\"}, {\"mean\": 109.71855163574219, \"time\": 120.0, \"std\": 7.355197906494141, \"variable\": \"SW_IN\"}, {\"mean\": 112.00836181640625, \"time\": 121.0, \"std\": 7.354202747344971, \"variable\": \"SW_IN\"}, {\"mean\": 106.61605834960938, \"time\": 122.0, \"std\": 7.353592395782471, \"variable\": \"SW_IN\"}, {\"mean\": 93.17762756347656, \"time\": 123.0, \"std\": 7.354245662689209, \"variable\": \"SW_IN\"}, {\"mean\": 73.48980712890625, \"time\": 124.0, \"std\": 7.354245662689209, \"variable\": \"SW_IN\"}, {\"mean\": 51.193145751953125, \"time\": 125.0, \"std\": 7.353116035461426, \"variable\": \"SW_IN\"}, {\"mean\": 30.442584991455078, \"time\": 126.0, \"std\": 7.353170871734619, \"variable\": \"SW_IN\"}, {\"mean\": 14.47140121459961, \"time\": 127.0, \"std\": 7.353170871734619, \"variable\": \"SW_IN\"}, {\"mean\": 4.57917594909668, \"time\": 128.0, \"std\": 7.353043079376221, \"variable\": \"SW_IN\"}, {\"mean\": 0.09494209289550781, \"time\": 129.0, \"std\": 7.3527069091796875, \"variable\": \"SW_IN\"}, {\"mean\": -0.8363533020019531, \"time\": 130.0, \"std\": 7.352560997009277, \"variable\": \"SW_IN\"}, {\"mean\": -0.25048065185546875, \"time\": 131.0, \"std\": 7.352530002593994, \"variable\": \"SW_IN\"}, {\"mean\": 0.4200420379638672, \"time\": 132.0, \"std\": 7.352749824523926, \"variable\": \"SW_IN\"}, {\"mean\": 0.5987777709960938, \"time\": 133.0, \"std\": 7.3529815673828125, \"variable\": \"SW_IN\"}, {\"mean\": 0.3593406677246094, \"time\": 134.0, \"std\": 7.353427886962891, \"variable\": \"SW_IN\"}, {\"mean\": 0.02663421630859375, \"time\": 135.0, \"std\": 7.353928089141846, \"variable\": \"SW_IN\"}, {\"mean\": -0.1512317657470703, \"time\": 136.0, \"std\": 7.353898048400879, \"variable\": \"SW_IN\"}, {\"mean\": -0.12709808349609375, \"time\": 137.0, \"std\": 7.353733062744141, \"variable\": \"SW_IN\"}, {\"mean\": -0.0006771087646484375, \"time\": 138.0, \"std\": 7.353073596954346, \"variable\": \"SW_IN\"}, {\"mean\": 0.10663795471191406, \"time\": 139.0, \"std\": 7.354684829711914, \"variable\": \"SW_IN\"}, {\"mean\": 0.14069366455078125, \"time\": 140.0, \"std\": 7.355490684509277, \"variable\": \"SW_IN\"}, {\"mean\": 0.12430763244628906, \"time\": 141.0, \"std\": 7.357339382171631, \"variable\": \"SW_IN\"}, {\"mean\": 0.10589790344238281, \"time\": 142.0, \"std\": 7.362061023712158, \"variable\": \"SW_IN\"}, {\"mean\": 0.10425567626953125, \"time\": 143.0, \"std\": 7.367406368255615, \"variable\": \"SW_IN\"}, {\"mean\": 0.09150505065917969, \"time\": 144.0, \"std\": 7.368094444274902, \"variable\": \"SW_IN\"}, {\"mean\": 0.027729034423828125, \"time\": 145.0, \"std\": 7.386587142944336, \"variable\": \"SW_IN\"}, {\"mean\": -0.07892799377441406, \"time\": 146.0, \"std\": 7.429743766784668, \"variable\": \"SW_IN\"}, {\"mean\": -0.13229942321777344, \"time\": 147.0, \"std\": 7.440960884094238, \"variable\": \"SW_IN\"}, {\"mean\": 0.04199790954589844, \"time\": 148.0, \"std\": 7.522984981536865, \"variable\": \"SW_IN\"}, {\"mean\": 0.6418190002441406, \"time\": 149.0, \"std\": 8.391121864318848, \"variable\": \"SW_IN\"}], \"data-911f1d105e79b85e27359357dbc092e6\": [{\"time\": 0.0, \"variable\": \"LW_IN\", \"value\": 302.475, \"is_missing\": false}, {\"time\": 1.0, \"variable\": \"LW_IN\", \"value\": 302.475, \"is_missing\": false}, {\"time\": 2.0, \"variable\": \"LW_IN\", \"value\": 301.677, \"is_missing\": false}, {\"time\": 3.0, \"variable\": \"LW_IN\", \"value\": 301.677, \"is_missing\": false}, {\"time\": 4.0, \"variable\": \"LW_IN\", \"value\": 301.677, \"is_missing\": false}, {\"time\": 5.0, \"variable\": \"LW_IN\", \"value\": 301.677, \"is_missing\": false}, {\"time\": 6.0, \"variable\": \"LW_IN\", \"value\": 301.677, \"is_missing\": false}, {\"time\": 7.0, \"variable\": \"LW_IN\", \"value\": 301.677, \"is_missing\": false}, {\"time\": 8.0, \"variable\": \"LW_IN\", \"value\": 308.046, \"is_missing\": false}, {\"time\": 9.0, \"variable\": \"LW_IN\", \"value\": 308.046, \"is_missing\": false}, {\"time\": 10.0, \"variable\": \"LW_IN\", \"value\": 308.046, \"is_missing\": false}, {\"time\": 11.0, \"variable\": \"LW_IN\", \"value\": 308.046, \"is_missing\": false}, {\"time\": 12.0, \"variable\": \"LW_IN\", \"value\": 308.046, \"is_missing\": false}, {\"time\": 13.0, \"variable\": \"LW_IN\", \"value\": 308.046, \"is_missing\": false}, {\"time\": 14.0, \"variable\": \"LW_IN\", \"value\": 316.925, \"is_missing\": false}, {\"time\": 15.0, \"variable\": \"LW_IN\", \"value\": 316.925, \"is_missing\": false}, {\"time\": 16.0, \"variable\": \"LW_IN\", \"value\": 316.925, \"is_missing\": false}, {\"time\": 17.0, \"variable\": \"LW_IN\", \"value\": 316.925, \"is_missing\": false}, {\"time\": 18.0, \"variable\": \"LW_IN\", \"value\": 316.925, \"is_missing\": false}, {\"time\": 19.0, \"variable\": \"LW_IN\", \"value\": 316.925, \"is_missing\": false}, {\"time\": 20.0, \"variable\": \"LW_IN\", \"value\": 321.15, \"is_missing\": false}, {\"time\": 21.0, \"variable\": \"LW_IN\", \"value\": 321.15, \"is_missing\": false}, {\"time\": 22.0, \"variable\": \"LW_IN\", \"value\": 321.15, \"is_missing\": false}, {\"time\": 23.0, \"variable\": \"LW_IN\", \"value\": 321.15, \"is_missing\": false}, {\"time\": 24.0, \"variable\": \"LW_IN\", \"value\": 321.15, \"is_missing\": false}, {\"time\": 25.0, \"variable\": \"LW_IN\", \"value\": 321.15, \"is_missing\": false}, {\"time\": 26.0, \"variable\": \"LW_IN\", \"value\": 323.062, \"is_missing\": false}, {\"time\": 27.0, \"variable\": \"LW_IN\", \"value\": 323.062, \"is_missing\": false}, {\"time\": 28.0, \"variable\": \"LW_IN\", \"value\": 323.062, \"is_missing\": false}, {\"time\": 29.0, \"variable\": \"LW_IN\", \"value\": 323.062, \"is_missing\": false}, {\"time\": 30.0, \"variable\": \"LW_IN\", \"value\": 323.062, \"is_missing\": false}, {\"time\": 31.0, \"variable\": \"LW_IN\", \"value\": 323.062, \"is_missing\": false}, {\"time\": 32.0, \"variable\": \"LW_IN\", \"value\": 328.053, \"is_missing\": false}, {\"time\": 33.0, \"variable\": \"LW_IN\", \"value\": 328.053, \"is_missing\": false}, {\"time\": 34.0, \"variable\": \"LW_IN\", \"value\": 328.053, \"is_missing\": false}, {\"time\": 35.0, \"variable\": \"LW_IN\", \"value\": 328.053, \"is_missing\": false}, {\"time\": 36.0, \"variable\": \"LW_IN\", \"value\": 328.053, \"is_missing\": false}, {\"time\": 37.0, \"variable\": \"LW_IN\", \"value\": 328.053, \"is_missing\": false}, {\"time\": 38.0, \"variable\": \"LW_IN\", \"value\": 329.365, \"is_missing\": false}, {\"time\": 39.0, \"variable\": \"LW_IN\", \"value\": 329.365, \"is_missing\": false}, {\"time\": 40.0, \"variable\": \"LW_IN\", \"value\": 329.365, \"is_missing\": false}, {\"time\": 41.0, \"variable\": \"LW_IN\", \"value\": 329.365, \"is_missing\": false}, {\"time\": 42.0, \"variable\": \"LW_IN\", \"value\": 329.365, \"is_missing\": false}, {\"time\": 43.0, \"variable\": \"LW_IN\", \"value\": 329.365, \"is_missing\": false}, {\"time\": 44.0, \"variable\": \"LW_IN\", \"value\": 297.593, \"is_missing\": false}, {\"time\": 45.0, \"variable\": \"LW_IN\", \"value\": 297.593, \"is_missing\": false}, {\"time\": 46.0, \"variable\": \"LW_IN\", \"value\": 297.593, \"is_missing\": false}, {\"time\": 47.0, \"variable\": \"LW_IN\", \"value\": 297.593, \"is_missing\": false}, {\"time\": 48.0, \"variable\": \"LW_IN\", \"value\": 297.593, \"is_missing\": false}, {\"time\": 49.0, \"variable\": \"LW_IN\", \"value\": 297.593, \"is_missing\": false}, {\"time\": 50.0, \"variable\": \"LW_IN\", \"value\": 277.157, \"is_missing\": false}, {\"time\": 51.0, \"variable\": \"LW_IN\", \"value\": 277.157, \"is_missing\": false}, {\"time\": 52.0, \"variable\": \"LW_IN\", \"value\": 277.157, \"is_missing\": false}, {\"time\": 53.0, \"variable\": \"LW_IN\", \"value\": 277.157, \"is_missing\": false}, {\"time\": 54.0, \"variable\": \"LW_IN\", \"value\": 277.157, \"is_missing\": false}, {\"time\": 55.0, \"variable\": \"LW_IN\", \"value\": 277.157, \"is_missing\": false}, {\"time\": 56.0, \"variable\": \"LW_IN\", \"value\": 266.713, \"is_missing\": false}, {\"time\": 57.0, \"variable\": \"LW_IN\", \"value\": 266.713, \"is_missing\": false}, {\"time\": 58.0, \"variable\": \"LW_IN\", \"value\": 266.713, \"is_missing\": false}, {\"time\": 59.0, \"variable\": \"LW_IN\", \"value\": 266.713, \"is_missing\": false}, {\"time\": 60.0, \"variable\": \"LW_IN\", \"value\": 266.713, \"is_missing\": false}, {\"time\": 61.0, \"variable\": \"LW_IN\", \"value\": 266.713, \"is_missing\": false}, {\"time\": 62.0, \"variable\": \"LW_IN\", \"value\": 259.213, \"is_missing\": false}, {\"time\": 63.0, \"variable\": \"LW_IN\", \"value\": 259.213, \"is_missing\": false}, {\"time\": 64.0, \"variable\": \"LW_IN\", \"value\": 259.213, \"is_missing\": false}, {\"time\": 65.0, \"variable\": \"LW_IN\", \"value\": 259.213, \"is_missing\": false}, {\"time\": 66.0, \"variable\": \"LW_IN\", \"value\": 259.213, \"is_missing\": false}, {\"time\": 67.0, \"variable\": \"LW_IN\", \"value\": 259.213, \"is_missing\": false}, {\"time\": 68.0, \"variable\": \"LW_IN\", \"value\": 265.357, \"is_missing\": false}, {\"time\": 69.0, \"variable\": \"LW_IN\", \"value\": 265.357, \"is_missing\": false}, {\"time\": 70.0, \"variable\": \"LW_IN\", \"value\": 265.357, \"is_missing\": false}, {\"time\": 71.0, \"variable\": \"LW_IN\", \"value\": 265.357, \"is_missing\": false}, {\"time\": 72.0, \"variable\": \"LW_IN\", \"value\": 265.357, \"is_missing\": false}, {\"time\": 73.0, \"variable\": \"LW_IN\", \"value\": 265.357, \"is_missing\": false}, {\"time\": 74.0, \"variable\": \"LW_IN\", \"value\": 279.492, \"is_missing\": false}, {\"time\": 75.0, \"variable\": \"LW_IN\", \"value\": 279.492, \"is_missing\": false}, {\"time\": 76.0, \"variable\": \"LW_IN\", \"value\": 279.492, \"is_missing\": false}, {\"time\": 77.0, \"variable\": \"LW_IN\", \"value\": 279.492, \"is_missing\": false}, {\"time\": 78.0, \"variable\": \"LW_IN\", \"value\": 279.492, \"is_missing\": false}, {\"time\": 79.0, \"variable\": \"LW_IN\", \"value\": 279.492, \"is_missing\": false}, {\"time\": 80.0, \"variable\": \"LW_IN\", \"value\": 284.641, \"is_missing\": false}, {\"time\": 81.0, \"variable\": \"LW_IN\", \"value\": 284.641, \"is_missing\": false}, {\"time\": 82.0, \"variable\": \"LW_IN\", \"value\": 284.641, \"is_missing\": false}, {\"time\": 83.0, \"variable\": \"LW_IN\", \"value\": 284.641, \"is_missing\": false}, {\"time\": 84.0, \"variable\": \"LW_IN\", \"value\": 284.641, \"is_missing\": false}, {\"time\": 85.0, \"variable\": \"LW_IN\", \"value\": 284.641, \"is_missing\": false}, {\"time\": 86.0, \"variable\": \"LW_IN\", \"value\": 290.004, \"is_missing\": false}, {\"time\": 87.0, \"variable\": \"LW_IN\", \"value\": 290.004, \"is_missing\": false}, {\"time\": 88.0, \"variable\": \"LW_IN\", \"value\": 290.004, \"is_missing\": false}, {\"time\": 89.0, \"variable\": \"LW_IN\", \"value\": 290.004, \"is_missing\": false}, {\"time\": 90.0, \"variable\": \"LW_IN\", \"value\": 290.004, \"is_missing\": false}, {\"time\": 91.0, \"variable\": \"LW_IN\", \"value\": 290.004, \"is_missing\": false}, {\"time\": 92.0, \"variable\": \"LW_IN\", \"value\": 300.274, \"is_missing\": false}, {\"time\": 93.0, \"variable\": \"LW_IN\", \"value\": 300.274, \"is_missing\": false}, {\"time\": 94.0, \"variable\": \"LW_IN\", \"value\": 300.274, \"is_missing\": false}, {\"time\": 95.0, \"variable\": \"LW_IN\", \"value\": 300.274, \"is_missing\": true}, {\"time\": 96.0, \"variable\": \"LW_IN\", \"value\": 300.274, \"is_missing\": true}, {\"time\": 97.0, \"variable\": \"LW_IN\", \"value\": 300.274, \"is_missing\": true}, {\"time\": 98.0, \"variable\": \"LW_IN\", \"value\": 304.148, \"is_missing\": true}, {\"time\": 99.0, \"variable\": \"LW_IN\", \"value\": 304.148, \"is_missing\": true}, {\"time\": 100.0, \"variable\": \"LW_IN\", \"value\": 304.148, \"is_missing\": true}, {\"time\": 101.0, \"variable\": \"LW_IN\", \"value\": 304.148, \"is_missing\": true}, {\"time\": 102.0, \"variable\": \"LW_IN\", \"value\": 304.148, \"is_missing\": true}, {\"time\": 103.0, \"variable\": \"LW_IN\", \"value\": 304.148, \"is_missing\": true}, {\"time\": 104.0, \"variable\": \"LW_IN\", \"value\": 304.382, \"is_missing\": true}, {\"time\": 105.0, \"variable\": \"LW_IN\", \"value\": 304.382, \"is_missing\": true}, {\"time\": 106.0, \"variable\": \"LW_IN\", \"value\": 304.382, \"is_missing\": true}, {\"time\": 107.0, \"variable\": \"LW_IN\", \"value\": 304.382, \"is_missing\": true}, {\"time\": 108.0, \"variable\": \"LW_IN\", \"value\": 304.382, \"is_missing\": true}, {\"time\": 109.0, \"variable\": \"LW_IN\", \"value\": 304.382, \"is_missing\": true}, {\"time\": 110.0, \"variable\": \"LW_IN\", \"value\": 298.069, \"is_missing\": false}, {\"time\": 111.0, \"variable\": \"LW_IN\", \"value\": 298.069, \"is_missing\": false}, {\"time\": 112.0, \"variable\": \"LW_IN\", \"value\": 298.069, \"is_missing\": false}, {\"time\": 113.0, \"variable\": \"LW_IN\", \"value\": 298.069, \"is_missing\": false}, {\"time\": 114.0, \"variable\": \"LW_IN\", \"value\": 298.069, \"is_missing\": false}, {\"time\": 115.0, \"variable\": \"LW_IN\", \"value\": 298.069, \"is_missing\": false}, {\"time\": 116.0, \"variable\": \"LW_IN\", \"value\": 297.189, \"is_missing\": false}, {\"time\": 117.0, \"variable\": \"LW_IN\", \"value\": 297.189, \"is_missing\": false}, {\"time\": 118.0, \"variable\": \"LW_IN\", \"value\": 297.189, \"is_missing\": false}, {\"time\": 119.0, \"variable\": \"LW_IN\", \"value\": 297.189, \"is_missing\": false}, {\"time\": 120.0, \"variable\": \"LW_IN\", \"value\": 297.189, \"is_missing\": false}, {\"time\": 121.0, \"variable\": \"LW_IN\", \"value\": 297.189, \"is_missing\": false}, {\"time\": 122.0, \"variable\": \"LW_IN\", \"value\": 291.71, \"is_missing\": false}, {\"time\": 123.0, \"variable\": \"LW_IN\", \"value\": 291.71, \"is_missing\": false}, {\"time\": 124.0, \"variable\": \"LW_IN\", \"value\": 291.71, \"is_missing\": false}, {\"time\": 125.0, \"variable\": \"LW_IN\", \"value\": 291.71, \"is_missing\": false}, {\"time\": 126.0, \"variable\": \"LW_IN\", \"value\": 291.71, \"is_missing\": false}, {\"time\": 127.0, \"variable\": \"LW_IN\", \"value\": 291.71, \"is_missing\": false}, {\"time\": 128.0, \"variable\": \"LW_IN\", \"value\": 310.192, \"is_missing\": false}, {\"time\": 129.0, \"variable\": \"LW_IN\", \"value\": 310.192, \"is_missing\": false}, {\"time\": 130.0, \"variable\": \"LW_IN\", \"value\": 310.192, \"is_missing\": false}, {\"time\": 131.0, \"variable\": \"LW_IN\", \"value\": 310.192, \"is_missing\": false}, {\"time\": 132.0, \"variable\": \"LW_IN\", \"value\": 310.192, \"is_missing\": false}, {\"time\": 133.0, \"variable\": \"LW_IN\", \"value\": 310.192, \"is_missing\": false}, {\"time\": 134.0, \"variable\": \"LW_IN\", \"value\": 317.262, \"is_missing\": false}, {\"time\": 135.0, \"variable\": \"LW_IN\", \"value\": 317.262, \"is_missing\": false}, {\"time\": 136.0, \"variable\": \"LW_IN\", \"value\": 317.262, \"is_missing\": false}, {\"time\": 137.0, \"variable\": \"LW_IN\", \"value\": 317.262, \"is_missing\": false}, {\"time\": 138.0, \"variable\": \"LW_IN\", \"value\": 317.262, \"is_missing\": false}, {\"time\": 139.0, \"variable\": \"LW_IN\", \"value\": 317.262, \"is_missing\": false}, {\"time\": 140.0, \"variable\": \"LW_IN\", \"value\": 310.161, \"is_missing\": false}, {\"time\": 141.0, \"variable\": \"LW_IN\", \"value\": 310.161, \"is_missing\": false}, {\"time\": 142.0, \"variable\": \"LW_IN\", \"value\": 310.161, \"is_missing\": false}, {\"time\": 143.0, \"variable\": \"LW_IN\", \"value\": 310.161, \"is_missing\": false}, {\"time\": 144.0, \"variable\": \"LW_IN\", \"value\": 310.161, \"is_missing\": false}, {\"time\": 145.0, \"variable\": \"LW_IN\", \"value\": 310.161, \"is_missing\": false}, {\"time\": 146.0, \"variable\": \"LW_IN\", \"value\": 304.731, \"is_missing\": false}, {\"time\": 147.0, \"variable\": \"LW_IN\", \"value\": 304.731, \"is_missing\": false}, {\"time\": 148.0, \"variable\": \"LW_IN\", \"value\": 304.731, \"is_missing\": false}, {\"time\": 149.0, \"variable\": \"LW_IN\", \"value\": 304.731, \"is_missing\": false}], \"data-1bb97ebd6c6f8e83db4ff48f6cb8daba\": [{\"mean\": 302.3276062011719, \"time\": 0.0, \"std\": 3.4113516807556152, \"variable\": \"LW_IN\"}, {\"mean\": 302.29449462890625, \"time\": 1.0, \"std\": 3.0448598861694336, \"variable\": \"LW_IN\"}, {\"mean\": 302.15423583984375, \"time\": 2.0, \"std\": 3.045497417449951, \"variable\": \"LW_IN\"}, {\"mean\": 301.7914123535156, \"time\": 3.0, \"std\": 3.0154964923858643, \"variable\": \"LW_IN\"}, {\"mean\": 301.25653076171875, \"time\": 4.0, \"std\": 3.0073184967041016, \"variable\": \"LW_IN\"}, {\"mean\": 301.0362548828125, \"time\": 5.0, \"std\": 3.0061562061309814, \"variable\": \"LW_IN\"}, {\"mean\": 301.82781982421875, \"time\": 6.0, \"std\": 3.0024237632751465, \"variable\": \"LW_IN\"}, {\"mean\": 303.8355712890625, \"time\": 7.0, \"std\": 3.0022709369659424, \"variable\": \"LW_IN\"}, {\"mean\": 306.2718200683594, \"time\": 8.0, \"std\": 3.0021729469299316, \"variable\": \"LW_IN\"}, {\"mean\": 307.85284423828125, \"time\": 9.0, \"std\": 3.001922130584717, \"variable\": \"LW_IN\"}, {\"mean\": 308.01605224609375, \"time\": 10.0, \"std\": 3.0015928745269775, \"variable\": \"LW_IN\"}, {\"mean\": 307.6190185546875, \"time\": 11.0, \"std\": 3.001777172088623, \"variable\": \"LW_IN\"}, {\"mean\": 308.2607727050781, \"time\": 12.0, \"std\": 3.0016908645629883, \"variable\": \"LW_IN\"}, {\"mean\": 310.71209716796875, \"time\": 13.0, \"std\": 3.0007734298706055, \"variable\": \"LW_IN\"}, {\"mean\": 314.073486328125, \"time\": 14.0, \"std\": 3.0007381439208984, \"variable\": \"LW_IN\"}, {\"mean\": 316.6217041015625, \"time\": 15.0, \"std\": 3.0016086101531982, \"variable\": \"LW_IN\"}, {\"mean\": 317.3829040527344, \"time\": 16.0, \"std\": 3.001765251159668, \"variable\": \"LW_IN\"}, {\"mean\": 316.9851379394531, \"time\": 17.0, \"std\": 3.001577138900757, \"variable\": \"LW_IN\"}, {\"mean\": 316.890380859375, \"time\": 18.0, \"std\": 3.0014595985412598, \"variable\": \"LW_IN\"}, {\"mean\": 317.9389343261719, \"time\": 19.0, \"std\": 3.0017967224121094, \"variable\": \"LW_IN\"}, {\"mean\": 319.68487548828125, \"time\": 20.0, \"std\": 3.001624345779419, \"variable\": \"LW_IN\"}, {\"mean\": 321.0352783203125, \"time\": 21.0, \"std\": 3.0009853839874268, \"variable\": \"LW_IN\"}, {\"mean\": 321.379638671875, \"time\": 22.0, \"std\": 3.0003538131713867, \"variable\": \"LW_IN\"}, {\"mean\": 321.09173583984375, \"time\": 23.0, \"std\": 3.0005459785461426, \"variable\": \"LW_IN\"}, {\"mean\": 321.01837158203125, \"time\": 24.0, \"std\": 3.001149892807007, \"variable\": \"LW_IN\"}, {\"mean\": 321.59246826171875, \"time\": 25.0, \"std\": 3.0017380714416504, \"variable\": \"LW_IN\"}, {\"mean\": 322.4652099609375, \"time\": 26.0, \"std\": 3.0021259784698486, \"variable\": \"LW_IN\"}, {\"mean\": 322.9688720703125, \"time\": 27.0, \"std\": 3.001847505569458, \"variable\": \"LW_IN\"}, {\"mean\": 322.88055419921875, \"time\": 28.0, \"std\": 3.0017495155334473, \"variable\": \"LW_IN\"}, {\"mean\": 322.70611572265625, \"time\": 29.0, \"std\": 3.001526355743408, \"variable\": \"LW_IN\"}, {\"mean\": 323.1848449707031, \"time\": 30.0, \"std\": 3.001585006713867, \"variable\": \"LW_IN\"}, {\"mean\": 324.5350646972656, \"time\": 31.0, \"std\": 3.0012519359588623, \"variable\": \"LW_IN\"}, {\"mean\": 326.2454528808594, \"time\": 32.0, \"std\": 3.0012009143829346, \"variable\": \"LW_IN\"}, {\"mean\": 327.6097412109375, \"time\": 33.0, \"std\": 3.0015182495117188, \"variable\": \"LW_IN\"}, {\"mean\": 328.32025146484375, \"time\": 34.0, \"std\": 3.0016047954559326, \"variable\": \"LW_IN\"}, {\"mean\": 328.48895263671875, \"time\": 35.0, \"std\": 3.001636028289795, \"variable\": \"LW_IN\"}, {\"mean\": 328.2629699707031, \"time\": 36.0, \"std\": 3.001694679260254, \"variable\": \"LW_IN\"}, {\"mean\": 327.8118591308594, \"time\": 37.0, \"std\": 3.0019259452819824, \"variable\": \"LW_IN\"}, {\"mean\": 327.7386779785156, \"time\": 38.0, \"std\": 3.0019612312316895, \"variable\": \"LW_IN\"}, {\"mean\": 328.8984069824219, \"time\": 39.0, \"std\": 3.0017614364624023, \"variable\": \"LW_IN\"}, {\"mean\": 331.0981750488281, \"time\": 40.0, \"std\": 3.001600503921509, \"variable\": \"LW_IN\"}, {\"mean\": 331.9794921875, \"time\": 41.0, \"std\": 3.001506805419922, \"variable\": \"LW_IN\"}, {\"mean\": 328.21783447265625, \"time\": 42.0, \"std\": 3.0014753341674805, \"variable\": \"LW_IN\"}, {\"mean\": 318.7958679199219, \"time\": 43.0, \"std\": 3.0014753341674805, \"variable\": \"LW_IN\"}, {\"mean\": 307.0721740722656, \"time\": 44.0, \"std\": 3.001514434814453, \"variable\": \"LW_IN\"}, {\"mean\": 298.60693359375, \"time\": 45.0, \"std\": 3.001612424850464, \"variable\": \"LW_IN\"}, {\"mean\": 296.29449462890625, \"time\": 46.0, \"std\": 3.001636028289795, \"variable\": \"LW_IN\"}, {\"mean\": 297.6153259277344, \"time\": 47.0, \"std\": 3.001577138900757, \"variable\": \"LW_IN\"}, {\"mean\": 297.1568298339844, \"time\": 48.0, \"std\": 3.001494884490967, \"variable\": \"LW_IN\"}, {\"mean\": 291.8894348144531, \"time\": 49.0, \"std\": 3.0014753341674805, \"variable\": \"LW_IN\"}, {\"mean\": 283.83355712890625, \"time\": 50.0, \"std\": 3.001432180404663, \"variable\": \"LW_IN\"}, {\"mean\": 277.63555908203125, \"time\": 51.0, \"std\": 3.001479148864746, \"variable\": \"LW_IN\"}, {\"mean\": 275.8940734863281, \"time\": 52.0, \"std\": 3.0014283657073975, \"variable\": \"LW_IN\"}, {\"mean\": 276.98486328125, \"time\": 53.0, \"std\": 3.0014634132385254, \"variable\": \"LW_IN\"}, {\"mean\": 277.205810546875, \"time\": 54.0, \"std\": 3.0015182495117188, \"variable\": \"LW_IN\"}, {\"mean\": 274.53704833984375, \"time\": 55.0, \"std\": 3.0015339851379395, \"variable\": \"LW_IN\"}, {\"mean\": 270.2158203125, \"time\": 56.0, \"std\": 3.0015182495117188, \"variable\": \"LW_IN\"}, {\"mean\": 266.9708557128906, \"time\": 57.0, \"std\": 3.001538038253784, \"variable\": \"LW_IN\"}, {\"mean\": 266.16973876953125, \"time\": 58.0, \"std\": 3.001596689224243, \"variable\": \"LW_IN\"}, {\"mean\": 266.7601013183594, \"time\": 59.0, \"std\": 3.001596689224243, \"variable\": \"LW_IN\"}, {\"mean\": 266.6796569824219, \"time\": 60.0, \"std\": 3.00154972076416, \"variable\": \"LW_IN\"}, {\"mean\": 264.90814208984375, \"time\": 61.0, \"std\": 3.0014986991882324, \"variable\": \"LW_IN\"}, {\"mean\": 262.10711669921875, \"time\": 62.0, \"std\": 3.00154972076416, \"variable\": \"LW_IN\"}, {\"mean\": 259.6241760253906, \"time\": 63.0, \"std\": 3.0015459060668945, \"variable\": \"LW_IN\"}, {\"mean\": 258.3160095214844, \"time\": 64.0, \"std\": 3.00154972076416, \"variable\": \"LW_IN\"}, {\"mean\": 258.34259033203125, \"time\": 65.0, \"std\": 3.0015459060668945, \"variable\": \"LW_IN\"}, {\"mean\": 259.5942687988281, \"time\": 66.0, \"std\": 3.001553535461426, \"variable\": \"LW_IN\"}, {\"mean\": 261.7686462402344, \"time\": 67.0, \"std\": 3.001553535461426, \"variable\": \"LW_IN\"}, {\"mean\": 264.0484619140625, \"time\": 68.0, \"std\": 3.00154972076416, \"variable\": \"LW_IN\"}, {\"mean\": 265.2965087890625, \"time\": 69.0, \"std\": 3.001553535461426, \"variable\": \"LW_IN\"}, {\"mean\": 265.11541748046875, \"time\": 70.0, \"std\": 3.0015575885772705, \"variable\": \"LW_IN\"}, {\"mean\": 264.67108154296875, \"time\": 71.0, \"std\": 3.0015575885772705, \"variable\": \"LW_IN\"}, {\"mean\": 265.9641418457031, \"time\": 72.0, \"std\": 3.0015616416931152, \"variable\": \"LW_IN\"}, {\"mean\": 269.9007873535156, \"time\": 73.0, \"std\": 3.001553535461426, \"variable\": \"LW_IN\"}, {\"mean\": 275.1428527832031, \"time\": 74.0, \"std\": 3.0015616416931152, \"variable\": \"LW_IN\"}, {\"mean\": 279.14154052734375, \"time\": 75.0, \"std\": 3.0015575885772705, \"variable\": \"LW_IN\"}, {\"mean\": 280.4333190917969, \"time\": 76.0, \"std\": 3.001553535461426, \"variable\": \"LW_IN\"}, {\"mean\": 279.8653259277344, \"time\": 77.0, \"std\": 3.001553535461426, \"variable\": \"LW_IN\"}, {\"mean\": 279.56365966796875, \"time\": 78.0, \"std\": 3.0015575885772705, \"variable\": \"LW_IN\"}, {\"mean\": 280.8243713378906, \"time\": 79.0, \"std\": 3.0015575885772705, \"variable\": \"LW_IN\"}, {\"mean\": 283.0691223144531, \"time\": 80.0, \"std\": 3.0015459060668945, \"variable\": \"LW_IN\"}, {\"mean\": 284.7292175292969, \"time\": 81.0, \"std\": 3.0015692710876465, \"variable\": \"LW_IN\"}, {\"mean\": 284.9642333984375, \"time\": 82.0, \"std\": 3.0015928745269775, \"variable\": \"LW_IN\"}, {\"mean\": 284.46954345703125, \"time\": 83.0, \"std\": 3.001647710800171, \"variable\": \"LW_IN\"}, {\"mean\": 284.68896484375, \"time\": 84.0, \"std\": 3.0017967224121094, \"variable\": \"LW_IN\"}, {\"mean\": 286.314697265625, \"time\": 85.0, \"std\": 3.001777172088623, \"variable\": \"LW_IN\"}, {\"mean\": 288.5761413574219, \"time\": 86.0, \"std\": 3.0021729469299316, \"variable\": \"LW_IN\"}, {\"mean\": 290.0180358886719, \"time\": 87.0, \"std\": 3.0027921199798584, \"variable\": \"LW_IN\"}, {\"mean\": 290.0158386230469, \"time\": 88.0, \"std\": 3.002976179122925, \"variable\": \"LW_IN\"}, {\"mean\": 289.52667236328125, \"time\": 89.0, \"std\": 3.0066728591918945, \"variable\": \"LW_IN\"}, {\"mean\": 290.2694396972656, \"time\": 90.0, \"std\": 3.0082337856292725, \"variable\": \"LW_IN\"}, {\"mean\": 293.0782775878906, \"time\": 91.0, \"std\": 3.0148329734802246, \"variable\": \"LW_IN\"}, {\"mean\": 297.02752685546875, \"time\": 92.0, \"std\": 3.045114755630493, \"variable\": \"LW_IN\"}, {\"mean\": 300.1640625, \"time\": 93.0, \"std\": 3.0450644493103027, \"variable\": \"LW_IN\"}, {\"mean\": 301.10076904296875, \"time\": 94.0, \"std\": 3.411320686340332, \"variable\": \"LW_IN\"}, {\"mean\": 299.9742431640625, \"time\": 95.0, \"std\": 5.1935906410217285, \"variable\": \"LW_IN\"}, {\"mean\": 298.0596618652344, \"time\": 96.0, \"std\": 8.127676010131836, \"variable\": \"LW_IN\"}, {\"mean\": 296.6580505371094, \"time\": 97.0, \"std\": 11.101723670959473, \"variable\": \"LW_IN\"}, {\"mean\": 296.3090515136719, \"time\": 98.0, \"std\": 13.344383239746094, \"variable\": \"LW_IN\"}, {\"mean\": 296.78936767578125, \"time\": 99.0, \"std\": 14.655333518981934, \"variable\": \"LW_IN\"}, {\"mean\": 297.5799560546875, \"time\": 100.0, \"std\": 15.250575065612793, \"variable\": \"LW_IN\"}, {\"mean\": 298.2808837890625, \"time\": 101.0, \"std\": 15.457345008850098, \"variable\": \"LW_IN\"}, {\"mean\": 298.7403869628906, \"time\": 102.0, \"std\": 15.501840591430664, \"variable\": \"LW_IN\"}, {\"mean\": 298.9778747558594, \"time\": 103.0, \"std\": 15.457347869873047, \"variable\": \"LW_IN\"}, {\"mean\": 299.065185546875, \"time\": 104.0, \"std\": 15.250578880310059, \"variable\": \"LW_IN\"}, {\"mean\": 299.0550231933594, \"time\": 105.0, \"std\": 14.655338287353516, \"variable\": \"LW_IN\"}, {\"mean\": 298.9639587402344, \"time\": 106.0, \"std\": 13.344374656677246, \"variable\": \"LW_IN\"}, {\"mean\": 298.7889099121094, \"time\": 107.0, \"std\": 11.101680755615234, \"variable\": \"LW_IN\"}, {\"mean\": 298.5398864746094, \"time\": 108.0, \"std\": 8.127710342407227, \"variable\": \"LW_IN\"}, {\"mean\": 298.2706604003906, \"time\": 109.0, \"std\": 5.193253040313721, \"variable\": \"LW_IN\"}, {\"mean\": 298.07635498046875, \"time\": 110.0, \"std\": 3.411237955093384, \"variable\": \"LW_IN\"}, {\"mean\": 298.03564453125, \"time\": 111.0, \"std\": 3.045172929763794, \"variable\": \"LW_IN\"}, {\"mean\": 298.1229248046875, \"time\": 112.0, \"std\": 3.045311689376831, \"variable\": \"LW_IN\"}, {\"mean\": 298.1846618652344, \"time\": 113.0, \"std\": 3.014805555343628, \"variable\": \"LW_IN\"}, {\"mean\": 298.050048828125, \"time\": 114.0, \"std\": 3.0081636905670166, \"variable\": \"LW_IN\"}, {\"mean\": 297.7134704589844, \"time\": 115.0, \"std\": 3.00661039352417, \"variable\": \"LW_IN\"}, {\"mean\": 297.3836975097656, \"time\": 116.0, \"std\": 3.002929449081421, \"variable\": \"LW_IN\"}, {\"mean\": 297.2862854003906, \"time\": 117.0, \"std\": 3.0026824474334717, \"variable\": \"LW_IN\"}, {\"mean\": 297.3843688964844, \"time\": 118.0, \"std\": 3.002263307571411, \"variable\": \"LW_IN\"}, {\"mean\": 297.3458557128906, \"time\": 119.0, \"std\": 3.0018279552459717, \"variable\": \"LW_IN\"}, {\"mean\": 296.8267822265625, \"time\": 120.0, \"std\": 3.0017850399017334, \"variable\": \"LW_IN\"}, {\"mean\": 295.71136474609375, \"time\": 121.0, \"std\": 3.001443862915039, \"variable\": \"LW_IN\"}, {\"mean\": 294.0791931152344, \"time\": 122.0, \"std\": 3.0013694763183594, \"variable\": \"LW_IN\"}, {\"mean\": 292.1031494140625, \"time\": 123.0, \"std\": 3.001859426498413, \"variable\": \"LW_IN\"}, {\"mean\": 290.3263854980469, \"time\": 124.0, \"std\": 3.001765251159668, \"variable\": \"LW_IN\"}, {\"mean\": 289.9731750488281, \"time\": 125.0, \"std\": 3.0013773441314697, \"variable\": \"LW_IN\"}, {\"mean\": 292.4379577636719, \"time\": 126.0, \"std\": 3.001087188720703, \"variable\": \"LW_IN\"}, {\"mean\": 297.9095764160156, \"time\": 127.0, \"std\": 3.0006558895111084, \"variable\": \"LW_IN\"}, {\"mean\": 304.5012512207031, \"time\": 128.0, \"std\": 3.0011656284332275, \"variable\": \"LW_IN\"}, {\"mean\": 309.41290283203125, \"time\": 129.0, \"std\": 3.001208543777466, \"variable\": \"LW_IN\"}, {\"mean\": 311.1263732910156, \"time\": 130.0, \"std\": 3.001302719116211, \"variable\": \"LW_IN\"}, {\"mean\": 310.65838623046875, \"time\": 131.0, \"std\": 3.0018317699432373, \"variable\": \"LW_IN\"}, {\"mean\": 310.3821105957031, \"time\": 132.0, \"std\": 3.001859426498413, \"variable\": \"LW_IN\"}, {\"mean\": 311.7857666015625, \"time\": 133.0, \"std\": 3.001918315887451, \"variable\": \"LW_IN\"}, {\"mean\": 314.4615478515625, \"time\": 134.0, \"std\": 3.0012753009796143, \"variable\": \"LW_IN\"}, {\"mean\": 316.98931884765625, \"time\": 135.0, \"std\": 3.001063585281372, \"variable\": \"LW_IN\"}, {\"mean\": 318.3179016113281, \"time\": 136.0, \"std\": 3.0012712478637695, \"variable\": \"LW_IN\"}, {\"mean\": 318.2012634277344, \"time\": 137.0, \"std\": 3.001624345779419, \"variable\": \"LW_IN\"}, {\"mean\": 316.8341369628906, \"time\": 138.0, \"std\": 3.0019259452819824, \"variable\": \"LW_IN\"}, {\"mean\": 314.5767517089844, \"time\": 139.0, \"std\": 3.0018906593322754, \"variable\": \"LW_IN\"}, {\"mean\": 312.13946533203125, \"time\": 140.0, \"std\": 3.002133846282959, \"variable\": \"LW_IN\"}, {\"mean\": 310.4390563964844, \"time\": 141.0, \"std\": 3.001538038253784, \"variable\": \"LW_IN\"}, {\"mean\": 309.9575500488281, \"time\": 142.0, \"std\": 3.002408027648926, \"variable\": \"LW_IN\"}, {\"mean\": 310.17144775390625, \"time\": 143.0, \"std\": 3.0028038024902344, \"variable\": \"LW_IN\"}, {\"mean\": 309.94122314453125, \"time\": 144.0, \"std\": 3.005737543106079, \"variable\": \"LW_IN\"}, {\"mean\": 308.5797424316406, \"time\": 145.0, \"std\": 3.007126808166504, \"variable\": \"LW_IN\"}, {\"mean\": 306.50665283203125, \"time\": 146.0, \"std\": 3.013946771621704, \"variable\": \"LW_IN\"}, {\"mean\": 304.8149108886719, \"time\": 147.0, \"std\": 3.044395923614502, \"variable\": \"LW_IN\"}, {\"mean\": 304.24591064453125, \"time\": 148.0, \"std\": 3.044167995452881, \"variable\": \"LW_IN\"}, {\"mean\": 304.5910339355469, \"time\": 149.0, \"std\": 3.410865545272827, \"variable\": \"LW_IN\"}], \"data-a590b7326482a7376911c80e881a2faa\": [{\"time\": 0.0, \"variable\": \"VPD\", \"value\": 0.222, \"is_missing\": false}, {\"time\": 1.0, \"variable\": \"VPD\", \"value\": 0.122, \"is_missing\": false}, {\"time\": 2.0, \"variable\": \"VPD\", \"value\": 0.09, \"is_missing\": false}, {\"time\": 3.0, \"variable\": \"VPD\", \"value\": 0.11, \"is_missing\": false}, {\"time\": 4.0, \"variable\": \"VPD\", \"value\": 0.102, \"is_missing\": false}, {\"time\": 5.0, \"variable\": \"VPD\", \"value\": 0.111, \"is_missing\": false}, {\"time\": 6.0, \"variable\": \"VPD\", \"value\": 0.109, \"is_missing\": false}, {\"time\": 7.0, \"variable\": \"VPD\", \"value\": 0.107, \"is_missing\": false}, {\"time\": 8.0, \"variable\": \"VPD\", \"value\": 0.122, \"is_missing\": false}, {\"time\": 9.0, \"variable\": \"VPD\", \"value\": 0.138, \"is_missing\": false}, {\"time\": 10.0, \"variable\": \"VPD\", \"value\": 0.138, \"is_missing\": false}, {\"time\": 11.0, \"variable\": \"VPD\", \"value\": 0.122, \"is_missing\": false}, {\"time\": 12.0, \"variable\": \"VPD\", \"value\": 0.098, \"is_missing\": false}, {\"time\": 13.0, \"variable\": \"VPD\", \"value\": 0.066, \"is_missing\": false}, {\"time\": 14.0, \"variable\": \"VPD\", \"value\": 0.044, \"is_missing\": false}, {\"time\": 15.0, \"variable\": \"VPD\", \"value\": 0.026, \"is_missing\": false}, {\"time\": 16.0, \"variable\": \"VPD\", \"value\": 0.016, \"is_missing\": false}, {\"time\": 17.0, \"variable\": \"VPD\", \"value\": 0.01, \"is_missing\": false}, {\"time\": 18.0, \"variable\": \"VPD\", \"value\": 0.006, \"is_missing\": false}, {\"time\": 19.0, \"variable\": \"VPD\", \"value\": 0.006, \"is_missing\": false}, {\"time\": 20.0, \"variable\": \"VPD\", \"value\": 0.006, \"is_missing\": false}, {\"time\": 21.0, \"variable\": \"VPD\", \"value\": 0.011, \"is_missing\": false}, {\"time\": 22.0, \"variable\": \"VPD\", \"value\": 0.019, \"is_missing\": false}, {\"time\": 23.0, \"variable\": \"VPD\", \"value\": 0.014, \"is_missing\": false}, {\"time\": 24.0, \"variable\": \"VPD\", \"value\": 0.008, \"is_missing\": false}, {\"time\": 25.0, \"variable\": \"VPD\", \"value\": 0.006, \"is_missing\": false}, {\"time\": 26.0, \"variable\": \"VPD\", \"value\": 0.0, \"is_missing\": false}, {\"time\": 27.0, \"variable\": \"VPD\", \"value\": 0.0, \"is_missing\": false}, {\"time\": 28.0, \"variable\": \"VPD\", \"value\": 0.0, \"is_missing\": false}, {\"time\": 29.0, \"variable\": \"VPD\", \"value\": 0.0, \"is_missing\": false}, {\"time\": 30.0, \"variable\": \"VPD\", \"value\": 0.0, \"is_missing\": false}, {\"time\": 31.0, \"variable\": \"VPD\", \"value\": 0.0, \"is_missing\": false}, {\"time\": 32.0, \"variable\": \"VPD\", \"value\": 0.0, \"is_missing\": false}, {\"time\": 33.0, \"variable\": \"VPD\", \"value\": 0.0, \"is_missing\": false}, {\"time\": 34.0, \"variable\": \"VPD\", \"value\": 0.0, \"is_missing\": false}, {\"time\": 35.0, \"variable\": \"VPD\", \"value\": 0.0, \"is_missing\": false}, {\"time\": 36.0, \"variable\": \"VPD\", \"value\": 0.0, \"is_missing\": false}, {\"time\": 37.0, \"variable\": \"VPD\", \"value\": 0.002, \"is_missing\": false}, {\"time\": 38.0, \"variable\": \"VPD\", \"value\": 0.009, \"is_missing\": false}, {\"time\": 39.0, \"variable\": \"VPD\", \"value\": 0.014, \"is_missing\": false}, {\"time\": 40.0, \"variable\": \"VPD\", \"value\": 0.014, \"is_missing\": false}, {\"time\": 41.0, \"variable\": \"VPD\", \"value\": 0.038, \"is_missing\": false}, {\"time\": 42.0, \"variable\": \"VPD\", \"value\": 0.079, \"is_missing\": false}, {\"time\": 43.0, \"variable\": \"VPD\", \"value\": 0.257, \"is_missing\": false}, {\"time\": 44.0, \"variable\": \"VPD\", \"value\": 0.388, \"is_missing\": false}, {\"time\": 45.0, \"variable\": \"VPD\", \"value\": 0.555, \"is_missing\": false}, {\"time\": 46.0, \"variable\": \"VPD\", \"value\": 0.452, \"is_missing\": false}, {\"time\": 47.0, \"variable\": \"VPD\", \"value\": 0.435, \"is_missing\": false}, {\"time\": 48.0, \"variable\": \"VPD\", \"value\": 0.248, \"is_missing\": false}, {\"time\": 49.0, \"variable\": \"VPD\", \"value\": 0.234, \"is_missing\": false}, {\"time\": 50.0, \"variable\": \"VPD\", \"value\": 0.377, \"is_missing\": false}, {\"time\": 51.0, \"variable\": \"VPD\", \"value\": 0.414, \"is_missing\": false}, {\"time\": 52.0, \"variable\": \"VPD\", \"value\": 0.356, \"is_missing\": false}, {\"time\": 53.0, \"variable\": \"VPD\", \"value\": 0.205, \"is_missing\": false}, {\"time\": 54.0, \"variable\": \"VPD\", \"value\": 0.188, \"is_missing\": false}, {\"time\": 55.0, \"variable\": \"VPD\", \"value\": 0.232, \"is_missing\": false}, {\"time\": 56.0, \"variable\": \"VPD\", \"value\": 0.27, \"is_missing\": false}, {\"time\": 57.0, \"variable\": \"VPD\", \"value\": 0.273, \"is_missing\": false}, {\"time\": 58.0, \"variable\": \"VPD\", \"value\": 0.225, \"is_missing\": false}, {\"time\": 59.0, \"variable\": \"VPD\", \"value\": 0.123, \"is_missing\": false}, {\"time\": 60.0, \"variable\": \"VPD\", \"value\": 0.053, \"is_missing\": false}, {\"time\": 61.0, \"variable\": \"VPD\", \"value\": 0.026, \"is_missing\": false}, {\"time\": 62.0, \"variable\": \"VPD\", \"value\": 0.013, \"is_missing\": false}, {\"time\": 63.0, \"variable\": \"VPD\", \"value\": 0.017, \"is_missing\": false}, {\"time\": 64.0, \"variable\": \"VPD\", \"value\": 0.18, \"is_missing\": false}, {\"time\": 65.0, \"variable\": \"VPD\", \"value\": 0.162, \"is_missing\": false}, {\"time\": 66.0, \"variable\": \"VPD\", \"value\": 0.177, \"is_missing\": false}, {\"time\": 67.0, \"variable\": \"VPD\", \"value\": 0.181, \"is_missing\": false}, {\"time\": 68.0, \"variable\": \"VPD\", \"value\": 0.188, \"is_missing\": false}, {\"time\": 69.0, \"variable\": \"VPD\", \"value\": 0.276, \"is_missing\": false}, {\"time\": 70.0, \"variable\": \"VPD\", \"value\": 0.309, \"is_missing\": false}, {\"time\": 71.0, \"variable\": \"VPD\", \"value\": 0.346, \"is_missing\": false}, {\"time\": 72.0, \"variable\": \"VPD\", \"value\": 0.297, \"is_missing\": false}, {\"time\": 73.0, \"variable\": \"VPD\", \"value\": 0.349, \"is_missing\": false}, {\"time\": 74.0, \"variable\": \"VPD\", \"value\": 0.362, \"is_missing\": false}, {\"time\": 75.0, \"variable\": \"VPD\", \"value\": 0.381, \"is_missing\": false}, {\"time\": 76.0, \"variable\": \"VPD\", \"value\": 0.369, \"is_missing\": false}, {\"time\": 77.0, \"variable\": \"VPD\", \"value\": 0.24, \"is_missing\": false}, {\"time\": 78.0, \"variable\": \"VPD\", \"value\": 0.111, \"is_missing\": false}, {\"time\": 79.0, \"variable\": \"VPD\", \"value\": 0.062, \"is_missing\": false}, {\"time\": 80.0, \"variable\": \"VPD\", \"value\": 0.044, \"is_missing\": false}, {\"time\": 81.0, \"variable\": \"VPD\", \"value\": 0.034, \"is_missing\": false}, {\"time\": 82.0, \"variable\": \"VPD\", \"value\": 0.032, \"is_missing\": false}, {\"time\": 83.0, \"variable\": \"VPD\", \"value\": 0.055, \"is_missing\": false}, {\"time\": 84.0, \"variable\": \"VPD\", \"value\": 0.125, \"is_missing\": false}, {\"time\": 85.0, \"variable\": \"VPD\", \"value\": 0.128, \"is_missing\": false}, {\"time\": 86.0, \"variable\": \"VPD\", \"value\": 0.201, \"is_missing\": false}, {\"time\": 87.0, \"variable\": \"VPD\", \"value\": 0.174, \"is_missing\": false}, {\"time\": 88.0, \"variable\": \"VPD\", \"value\": 0.154, \"is_missing\": false}, {\"time\": 89.0, \"variable\": \"VPD\", \"value\": 0.177, \"is_missing\": false}, {\"time\": 90.0, \"variable\": \"VPD\", \"value\": 0.192, \"is_missing\": false}, {\"time\": 91.0, \"variable\": \"VPD\", \"value\": 0.149, \"is_missing\": false}, {\"time\": 92.0, \"variable\": \"VPD\", \"value\": 0.112, \"is_missing\": false}, {\"time\": 93.0, \"variable\": \"VPD\", \"value\": 0.075, \"is_missing\": false}, {\"time\": 94.0, \"variable\": \"VPD\", \"value\": 0.038, \"is_missing\": false}, {\"time\": 95.0, \"variable\": \"VPD\", \"value\": 0.021, \"is_missing\": true}, {\"time\": 96.0, \"variable\": \"VPD\", \"value\": 0.013, \"is_missing\": true}, {\"time\": 97.0, \"variable\": \"VPD\", \"value\": 0.004, \"is_missing\": true}, {\"time\": 98.0, \"variable\": \"VPD\", \"value\": 0.0, \"is_missing\": true}, {\"time\": 99.0, \"variable\": \"VPD\", \"value\": 0.0, \"is_missing\": true}, {\"time\": 100.0, \"variable\": \"VPD\", \"value\": 0.0, \"is_missing\": true}, {\"time\": 101.0, \"variable\": \"VPD\", \"value\": 0.0, \"is_missing\": true}, {\"time\": 102.0, \"variable\": \"VPD\", \"value\": 0.0, \"is_missing\": true}, {\"time\": 103.0, \"variable\": \"VPD\", \"value\": 0.0, \"is_missing\": true}, {\"time\": 104.0, \"variable\": \"VPD\", \"value\": 0.0, \"is_missing\": true}, {\"time\": 105.0, \"variable\": \"VPD\", \"value\": 0.0, \"is_missing\": true}, {\"time\": 106.0, \"variable\": \"VPD\", \"value\": 0.009, \"is_missing\": true}, {\"time\": 107.0, \"variable\": \"VPD\", \"value\": 0.061, \"is_missing\": true}, {\"time\": 108.0, \"variable\": \"VPD\", \"value\": 0.174, \"is_missing\": true}, {\"time\": 109.0, \"variable\": \"VPD\", \"value\": 0.208, \"is_missing\": true}, {\"time\": 110.0, \"variable\": \"VPD\", \"value\": 0.294, \"is_missing\": false}, {\"time\": 111.0, \"variable\": \"VPD\", \"value\": 0.37, \"is_missing\": false}, {\"time\": 112.0, \"variable\": \"VPD\", \"value\": 0.478, \"is_missing\": false}, {\"time\": 113.0, \"variable\": \"VPD\", \"value\": 0.557, \"is_missing\": false}, {\"time\": 114.0, \"variable\": \"VPD\", \"value\": 0.617, \"is_missing\": false}, {\"time\": 115.0, \"variable\": \"VPD\", \"value\": 0.656, \"is_missing\": false}, {\"time\": 116.0, \"variable\": \"VPD\", \"value\": 0.654, \"is_missing\": false}, {\"time\": 117.0, \"variable\": \"VPD\", \"value\": 0.704, \"is_missing\": false}, {\"time\": 118.0, \"variable\": \"VPD\", \"value\": 0.838, \"is_missing\": false}, {\"time\": 119.0, \"variable\": \"VPD\", \"value\": 0.914, \"is_missing\": false}, {\"time\": 120.0, \"variable\": \"VPD\", \"value\": 0.818, \"is_missing\": false}, {\"time\": 121.0, \"variable\": \"VPD\", \"value\": 0.728, \"is_missing\": false}, {\"time\": 122.0, \"variable\": \"VPD\", \"value\": 0.749, \"is_missing\": false}, {\"time\": 123.0, \"variable\": \"VPD\", \"value\": 0.773, \"is_missing\": false}, {\"time\": 124.0, \"variable\": \"VPD\", \"value\": 0.787, \"is_missing\": false}, {\"time\": 125.0, \"variable\": \"VPD\", \"value\": 0.759, \"is_missing\": false}, {\"time\": 126.0, \"variable\": \"VPD\", \"value\": 0.723, \"is_missing\": false}, {\"time\": 127.0, \"variable\": \"VPD\", \"value\": 0.671, \"is_missing\": false}, {\"time\": 128.0, \"variable\": \"VPD\", \"value\": 0.657, \"is_missing\": false}, {\"time\": 129.0, \"variable\": \"VPD\", \"value\": 0.641, \"is_missing\": false}, {\"time\": 130.0, \"variable\": \"VPD\", \"value\": 0.559, \"is_missing\": false}, {\"time\": 131.0, \"variable\": \"VPD\", \"value\": 0.452, \"is_missing\": false}, {\"time\": 132.0, \"variable\": \"VPD\", \"value\": 0.389, \"is_missing\": false}, {\"time\": 133.0, \"variable\": \"VPD\", \"value\": 0.412, \"is_missing\": false}, {\"time\": 134.0, \"variable\": \"VPD\", \"value\": 0.429, \"is_missing\": false}, {\"time\": 135.0, \"variable\": \"VPD\", \"value\": 0.449, \"is_missing\": false}, {\"time\": 136.0, \"variable\": \"VPD\", \"value\": 0.471, \"is_missing\": false}, {\"time\": 137.0, \"variable\": \"VPD\", \"value\": 0.434, \"is_missing\": false}, {\"time\": 138.0, \"variable\": \"VPD\", \"value\": 0.432, \"is_missing\": false}, {\"time\": 139.0, \"variable\": \"VPD\", \"value\": 0.409, \"is_missing\": false}, {\"time\": 140.0, \"variable\": \"VPD\", \"value\": 0.417, \"is_missing\": false}, {\"time\": 141.0, \"variable\": \"VPD\", \"value\": 0.432, \"is_missing\": false}, {\"time\": 142.0, \"variable\": \"VPD\", \"value\": 0.441, \"is_missing\": false}, {\"time\": 143.0, \"variable\": \"VPD\", \"value\": 0.467, \"is_missing\": false}, {\"time\": 144.0, \"variable\": \"VPD\", \"value\": 0.459, \"is_missing\": false}, {\"time\": 145.0, \"variable\": \"VPD\", \"value\": 0.545, \"is_missing\": false}, {\"time\": 146.0, \"variable\": \"VPD\", \"value\": 0.7, \"is_missing\": false}, {\"time\": 147.0, \"variable\": \"VPD\", \"value\": 0.813, \"is_missing\": false}, {\"time\": 148.0, \"variable\": \"VPD\", \"value\": 0.952, \"is_missing\": false}, {\"time\": 149.0, \"variable\": \"VPD\", \"value\": 0.971, \"is_missing\": false}], \"data-25b03bdb261f5d902ebb652b2db4dbed\": [{\"mean\": 0.2141561061143875, \"time\": 0.0, \"std\": 0.027648866176605225, \"variable\": \"VPD\"}, {\"mean\": 0.131961852312088, \"time\": 1.0, \"std\": 0.024994270876049995, \"variable\": \"VPD\"}, {\"mean\": 0.09492017328739166, \"time\": 2.0, \"std\": 0.02458944171667099, \"variable\": \"VPD\"}, {\"mean\": 0.09703823924064636, \"time\": 3.0, \"std\": 0.024404706433415413, \"variable\": \"VPD\"}, {\"mean\": 0.109169602394104, \"time\": 4.0, \"std\": 0.024378422647714615, \"variable\": \"VPD\"}, {\"mean\": 0.1113470047712326, \"time\": 5.0, \"std\": 0.024317339062690735, \"variable\": \"VPD\"}, {\"mean\": 0.10692846775054932, \"time\": 6.0, \"std\": 0.02427595667541027, \"variable\": \"VPD\"}, {\"mean\": 0.1093456894159317, \"time\": 7.0, \"std\": 0.024246742948889732, \"variable\": \"VPD\"}, {\"mean\": 0.12245801091194153, \"time\": 8.0, \"std\": 0.024260206148028374, \"variable\": \"VPD\"}, {\"mean\": 0.13640128076076508, \"time\": 9.0, \"std\": 0.02427554689347744, \"variable\": \"VPD\"}, {\"mean\": 0.13827678561210632, \"time\": 10.0, \"std\": 0.024296289309859276, \"variable\": \"VPD\"}, {\"mean\": 0.12336038053035736, \"time\": 11.0, \"std\": 0.024296289309859276, \"variable\": \"VPD\"}, {\"mean\": 0.09674948453903198, \"time\": 12.0, \"std\": 0.024280959740281105, \"variable\": \"VPD\"}, {\"mean\": 0.06771281361579895, \"time\": 13.0, \"std\": 0.024308577179908752, \"variable\": \"VPD\"}, {\"mean\": 0.043410345911979675, \"time\": 14.0, \"std\": 0.024308085441589355, \"variable\": \"VPD\"}, {\"mean\": 0.02664300799369812, \"time\": 15.0, \"std\": 0.02430259808897972, \"variable\": \"VPD\"}, {\"mean\": 0.01648274064064026, \"time\": 16.0, \"std\": 0.02429596148431301, \"variable\": \"VPD\"}, {\"mean\": 0.010359853506088257, \"time\": 17.0, \"std\": 0.024272266775369644, \"variable\": \"VPD\"}, {\"mean\": 0.006453126668930054, \"time\": 18.0, \"std\": 0.02425774373114109, \"variable\": \"VPD\"}, {\"mean\": 0.00515022873878479, \"time\": 19.0, \"std\": 0.024274809285998344, \"variable\": \"VPD\"}, {\"mean\": 0.007612675428390503, \"time\": 20.0, \"std\": 0.02429579757153988, \"variable\": \"VPD\"}, {\"mean\": 0.012676209211349487, \"time\": 21.0, \"std\": 0.024295303970575333, \"variable\": \"VPD\"}, {\"mean\": 0.016313254833221436, \"time\": 22.0, \"std\": 0.024282844737172127, \"variable\": \"VPD\"}, {\"mean\": 0.015193909406661987, \"time\": 23.0, \"std\": 0.024287356063723564, \"variable\": \"VPD\"}, {\"mean\": 0.010061830282211304, \"time\": 24.0, \"std\": 0.024292191490530968, \"variable\": \"VPD\"}, {\"mean\": 0.004511713981628418, \"time\": 25.0, \"std\": 0.024277105927467346, \"variable\": \"VPD\"}, {\"mean\": 0.001199185848236084, \"time\": 26.0, \"std\": 0.02427677810192108, \"variable\": \"VPD\"}, {\"mean\": 0.00016567111015319824, \"time\": 27.0, \"std\": 0.024283912032842636, \"variable\": \"VPD\"}, {\"mean\": 0.00024965405464172363, \"time\": 28.0, \"std\": 0.024291370064020157, \"variable\": \"VPD\"}, {\"mean\": 0.0005048215389251709, \"time\": 29.0, \"std\": 0.024263817816972733, \"variable\": \"VPD\"}, {\"mean\": 0.00046747922897338867, \"time\": 30.0, \"std\": 0.02425626665353775, \"variable\": \"VPD\"}, {\"mean\": 0.0001366138458251953, \"time\": 31.0, \"std\": 0.02428620681166649, \"variable\": \"VPD\"}, {\"mean\": 9.059906005859375e-05, \"time\": 32.0, \"std\": 0.02429981343448162, \"variable\": \"VPD\"}, {\"mean\": 0.0006751716136932373, \"time\": 33.0, \"std\": 0.02429325506091118, \"variable\": \"VPD\"}, {\"mean\": 0.0009420514106750488, \"time\": 34.0, \"std\": 0.024286288768053055, \"variable\": \"VPD\"}, {\"mean\": -0.0001506209373474121, \"time\": 35.0, \"std\": 0.024286044761538506, \"variable\": \"VPD\"}, {\"mean\": -0.000734180212020874, \"time\": 36.0, \"std\": 0.02428596094250679, \"variable\": \"VPD\"}, {\"mean\": 0.0030723512172698975, \"time\": 37.0, \"std\": 0.02429325506091118, \"variable\": \"VPD\"}, {\"mean\": 0.010637044906616211, \"time\": 38.0, \"std\": 0.024295387789607048, \"variable\": \"VPD\"}, {\"mean\": 0.014642000198364258, \"time\": 39.0, \"std\": 0.024290552362799644, \"variable\": \"VPD\"}, {\"mean\": 0.013633280992507935, \"time\": 40.0, \"std\": 0.024282271042466164, \"variable\": \"VPD\"}, {\"mean\": 0.028988465666770935, \"time\": 41.0, \"std\": 0.02428555116057396, \"variable\": \"VPD\"}, {\"mean\": 0.09864328801631927, \"time\": 42.0, \"std\": 0.024288339540362358, \"variable\": \"VPD\"}, {\"mean\": 0.23935988545417786, \"time\": 43.0, \"std\": 0.024283502250909805, \"variable\": \"VPD\"}, {\"mean\": 0.40951302647590637, \"time\": 44.0, \"std\": 0.024284977465867996, \"variable\": \"VPD\"}, {\"mean\": 0.5195765495300293, \"time\": 45.0, \"std\": 0.024287192150950432, \"variable\": \"VPD\"}, {\"mean\": 0.5005828738212585, \"time\": 46.0, \"std\": 0.024284157902002335, \"variable\": \"VPD\"}, {\"mean\": 0.3783521056175232, \"time\": 47.0, \"std\": 0.02428407594561577, \"variable\": \"VPD\"}, {\"mean\": 0.26830899715423584, \"time\": 48.0, \"std\": 0.02428571507334709, \"variable\": \"VPD\"}, {\"mean\": 0.26818525791168213, \"time\": 49.0, \"std\": 0.02428981475532055, \"variable\": \"VPD\"}, {\"mean\": 0.3531603515148163, \"time\": 50.0, \"std\": 0.024286780506372452, \"variable\": \"VPD\"}, {\"mean\": 0.40317362546920776, \"time\": 51.0, \"std\": 0.024284977465867996, \"variable\": \"VPD\"}, {\"mean\": 0.3454800844192505, \"time\": 52.0, \"std\": 0.024287518113851547, \"variable\": \"VPD\"}, {\"mean\": 0.23643085360527039, \"time\": 53.0, \"std\": 0.024288667365908623, \"variable\": \"VPD\"}, {\"mean\": 0.18385206162929535, \"time\": 54.0, \"std\": 0.024289321154356003, \"variable\": \"VPD\"}, {\"mean\": 0.21823880076408386, \"time\": 55.0, \"std\": 0.024285469204187393, \"variable\": \"VPD\"}, {\"mean\": 0.2735694646835327, \"time\": 56.0, \"std\": 0.024286288768053055, \"variable\": \"VPD\"}, {\"mean\": 0.2765871584415436, \"time\": 57.0, \"std\": 0.024287192150950432, \"variable\": \"VPD\"}, {\"mean\": 0.21738356351852417, \"time\": 58.0, \"std\": 0.024287518113851547, \"variable\": \"VPD\"}, {\"mean\": 0.13266417384147644, \"time\": 59.0, \"std\": 0.024286534637212753, \"variable\": \"VPD\"}, {\"mean\": 0.056942567229270935, \"time\": 60.0, \"std\": 0.024285797029733658, \"variable\": \"VPD\"}, {\"mean\": 0.01009601354598999, \"time\": 61.0, \"std\": 0.02428620681166649, \"variable\": \"VPD\"}, {\"mean\": 0.00961977243423462, \"time\": 62.0, \"std\": 0.02428571507334709, \"variable\": \"VPD\"}, {\"mean\": 0.06057170033454895, \"time\": 63.0, \"std\": 0.02428555116057396, \"variable\": \"VPD\"}, {\"mean\": 0.13304458558559418, \"time\": 64.0, \"std\": 0.024286288768053055, \"variable\": \"VPD\"}, {\"mean\": 0.17823617160320282, \"time\": 65.0, \"std\": 0.024285633116960526, \"variable\": \"VPD\"}, {\"mean\": 0.17984800040721893, \"time\": 66.0, \"std\": 0.024285797029733658, \"variable\": \"VPD\"}, {\"mean\": 0.17348462343215942, \"time\": 67.0, \"std\": 0.02428571507334709, \"variable\": \"VPD\"}, {\"mean\": 0.2023584246635437, \"time\": 68.0, \"std\": 0.02428596094250679, \"variable\": \"VPD\"}, {\"mean\": 0.2642608880996704, \"time\": 69.0, \"std\": 0.02428596094250679, \"variable\": \"VPD\"}, {\"mean\": 0.31637170910835266, \"time\": 70.0, \"std\": 0.024286044761538506, \"variable\": \"VPD\"}, {\"mean\": 0.329064279794693, \"time\": 71.0, \"std\": 0.024285880848765373, \"variable\": \"VPD\"}, {\"mean\": 0.3206097483634949, \"time\": 72.0, \"std\": 0.02428596094250679, \"variable\": \"VPD\"}, {\"mean\": 0.3313811421394348, \"time\": 73.0, \"std\": 0.024286044761538506, \"variable\": \"VPD\"}, {\"mean\": 0.3690791130065918, \"time\": 74.0, \"std\": 0.02428596094250679, \"variable\": \"VPD\"}, {\"mean\": 0.39094600081443787, \"time\": 75.0, \"std\": 0.024286044761538506, \"variable\": \"VPD\"}, {\"mean\": 0.34782078862190247, \"time\": 76.0, \"std\": 0.024285880848765373, \"variable\": \"VPD\"}, {\"mean\": 0.24171027541160583, \"time\": 77.0, \"std\": 0.024285880848765373, \"variable\": \"VPD\"}, {\"mean\": 0.12792710959911346, \"time\": 78.0, \"std\": 0.02428596094250679, \"variable\": \"VPD\"}, {\"mean\": 0.05836336314678192, \"time\": 79.0, \"std\": 0.024286124855279922, \"variable\": \"VPD\"}, {\"mean\": 0.036242932081222534, \"time\": 80.0, \"std\": 0.024286288768053055, \"variable\": \"VPD\"}, {\"mean\": 0.033766403794288635, \"time\": 81.0, \"std\": 0.024286454543471336, \"variable\": \"VPD\"}, {\"mean\": 0.03806088864803314, \"time\": 82.0, \"std\": 0.024286454543471336, \"variable\": \"VPD\"}, {\"mean\": 0.06070706248283386, \"time\": 83.0, \"std\": 0.024286454543471336, \"variable\": \"VPD\"}, {\"mean\": 0.10672640800476074, \"time\": 84.0, \"std\": 0.024287356063723564, \"variable\": \"VPD\"}, {\"mean\": 0.15481573343276978, \"time\": 85.0, \"std\": 0.02428620681166649, \"variable\": \"VPD\"}, {\"mean\": 0.17802418768405914, \"time\": 86.0, \"std\": 0.02429153583943844, \"variable\": \"VPD\"}, {\"mean\": 0.17515918612480164, \"time\": 87.0, \"std\": 0.0242926012724638, \"variable\": \"VPD\"}, {\"mean\": 0.16907890141010284, \"time\": 88.0, \"std\": 0.024306446313858032, \"variable\": \"VPD\"}, {\"mean\": 0.17431455850601196, \"time\": 89.0, \"std\": 0.024311689659953117, \"variable\": \"VPD\"}, {\"mean\": 0.17812882363796234, \"time\": 90.0, \"std\": 0.02436469867825508, \"variable\": \"VPD\"}, {\"mean\": 0.15891388058662415, \"time\": 91.0, \"std\": 0.024408947676420212, \"variable\": \"VPD\"}, {\"mean\": 0.11501263082027435, \"time\": 92.0, \"std\": 0.024601422250270844, \"variable\": \"VPD\"}, {\"mean\": 0.06797517836093903, \"time\": 93.0, \"std\": 0.024989651516079903, \"variable\": \"VPD\"}, {\"mean\": 0.042871296405792236, \"time\": 94.0, \"std\": 0.02763676643371582, \"variable\": \"VPD\"}, {\"mean\": 0.05118989944458008, \"time\": 95.0, \"std\": 0.0568820983171463, \"variable\": \"VPD\"}, {\"mean\": 0.08855541050434113, \"time\": 96.0, \"std\": 0.10962072014808655, \"variable\": \"VPD\"}, {\"mean\": 0.14109143614768982, \"time\": 97.0, \"std\": 0.16218575835227966, \"variable\": \"VPD\"}, {\"mean\": 0.1932545006275177, \"time\": 98.0, \"std\": 0.1988343447446823, \"variable\": \"VPD\"}, {\"mean\": 0.23415811359882355, \"time\": 99.0, \"std\": 0.21727688610553741, \"variable\": \"VPD\"}, {\"mean\": 0.26030492782592773, \"time\": 100.0, \"std\": 0.22393397986888885, \"variable\": \"VPD\"}, {\"mean\": 0.2739620506763458, \"time\": 101.0, \"std\": 0.22563381493091583, \"variable\": \"VPD\"}, {\"mean\": 0.27934280037879944, \"time\": 102.0, \"std\": 0.2259020060300827, \"variable\": \"VPD\"}, {\"mean\": 0.2795729637145996, \"time\": 103.0, \"std\": 0.22563380002975464, \"variable\": \"VPD\"}, {\"mean\": 0.27574384212493896, \"time\": 104.0, \"std\": 0.22393402457237244, \"variable\": \"VPD\"}, {\"mean\": 0.2677798569202423, \"time\": 105.0, \"std\": 0.21727710962295532, \"variable\": \"VPD\"}, {\"mean\": 0.2564024031162262, \"time\": 106.0, \"std\": 0.19883669912815094, \"variable\": \"VPD\"}, {\"mean\": 0.24515028297901154, \"time\": 107.0, \"std\": 0.1621904820203781, \"variable\": \"VPD\"}, {\"mean\": 0.24115614593029022, \"time\": 108.0, \"std\": 0.10963352024555206, \"variable\": \"VPD\"}, {\"mean\": 0.25430595874786377, \"time\": 109.0, \"std\": 0.05689879134297371, \"variable\": \"VPD\"}, {\"mean\": 0.29526424407958984, \"time\": 110.0, \"std\": 0.027640080079436302, \"variable\": \"VPD\"}, {\"mean\": 0.37042853236198425, \"time\": 111.0, \"std\": 0.024999449029564857, \"variable\": \"VPD\"}, {\"mean\": 0.471261203289032, \"time\": 112.0, \"std\": 0.024610241875052452, \"variable\": \"VPD\"}, {\"mean\": 0.5665754079818726, \"time\": 113.0, \"std\": 0.024404624477028847, \"variable\": \"VPD\"}, {\"mean\": 0.620485782623291, \"time\": 114.0, \"std\": 0.024366578087210655, \"variable\": \"VPD\"}, {\"mean\": 0.633490800857544, \"time\": 115.0, \"std\": 0.024312099441885948, \"variable\": \"VPD\"}, {\"mean\": 0.6560406684875488, \"time\": 116.0, \"std\": 0.02431439235806465, \"variable\": \"VPD\"}, {\"mean\": 0.7325866222381592, \"time\": 117.0, \"std\": 0.024308085441589355, \"variable\": \"VPD\"}, {\"mean\": 0.8332659006118774, \"time\": 118.0, \"std\": 0.024301860481500626, \"variable\": \"VPD\"}, {\"mean\": 0.8762649297714233, \"time\": 119.0, \"std\": 0.02428874745965004, \"variable\": \"VPD\"}, {\"mean\": 0.8294954299926758, \"time\": 120.0, \"std\": 0.02428251877427101, \"variable\": \"VPD\"}, {\"mean\": 0.7552376985549927, \"time\": 121.0, \"std\": 0.024273252114653587, \"variable\": \"VPD\"}, {\"mean\": 0.7328547239303589, \"time\": 122.0, \"std\": 0.024279892444610596, \"variable\": \"VPD\"}, {\"mean\": 0.7651225924491882, \"time\": 123.0, \"std\": 0.02429169975221157, \"variable\": \"VPD\"}, {\"mean\": 0.7894301414489746, \"time\": 124.0, \"std\": 0.024274645373225212, \"variable\": \"VPD\"}, {\"mean\": 0.7643667459487915, \"time\": 125.0, \"std\": 0.024272020906209946, \"variable\": \"VPD\"}, {\"mean\": 0.7127581834793091, \"time\": 126.0, \"std\": 0.024288419634103775, \"variable\": \"VPD\"}, {\"mean\": 0.6778948307037354, \"time\": 127.0, \"std\": 0.024289650842547417, \"variable\": \"VPD\"}, {\"mean\": 0.6629525423049927, \"time\": 128.0, \"std\": 0.024281861260533333, \"variable\": \"VPD\"}, {\"mean\": 0.6298091411590576, \"time\": 129.0, \"std\": 0.024280713871121407, \"variable\": \"VPD\"}, {\"mean\": 0.5533406138420105, \"time\": 130.0, \"std\": 0.02429128997027874, \"variable\": \"VPD\"}, {\"mean\": 0.4593556523323059, \"time\": 131.0, \"std\": 0.024296041578054428, \"variable\": \"VPD\"}, {\"mean\": 0.39969608187675476, \"time\": 132.0, \"std\": 0.024284977465867996, \"variable\": \"VPD\"}, {\"mean\": 0.3975764513015747, \"time\": 133.0, \"std\": 0.02425060234963894, \"variable\": \"VPD\"}, {\"mean\": 0.4296594560146332, \"time\": 134.0, \"std\": 0.024255527183413506, \"variable\": \"VPD\"}, {\"mean\": 0.4570889472961426, \"time\": 135.0, \"std\": 0.024267425760626793, \"variable\": \"VPD\"}, {\"mean\": 0.46039173007011414, \"time\": 136.0, \"std\": 0.024280795827507973, \"variable\": \"VPD\"}, {\"mean\": 0.4441629648208618, \"time\": 137.0, \"std\": 0.02430177852511406, \"variable\": \"VPD\"}, {\"mean\": 0.42325955629348755, \"time\": 138.0, \"std\": 0.02431119792163372, \"variable\": \"VPD\"}, {\"mean\": 0.41199159622192383, \"time\": 139.0, \"std\": 0.02431676723062992, \"variable\": \"VPD\"}, {\"mean\": 0.417410671710968, \"time\": 140.0, \"std\": 0.024304073303937912, \"variable\": \"VPD\"}, {\"mean\": 0.432930588722229, \"time\": 141.0, \"std\": 0.024281861260533333, \"variable\": \"VPD\"}, {\"mean\": 0.4441811740398407, \"time\": 142.0, \"std\": 0.02427103742957115, \"variable\": \"VPD\"}, {\"mean\": 0.450066477060318, \"time\": 143.0, \"std\": 0.0242763664573431, \"variable\": \"VPD\"}, {\"mean\": 0.4746897220611572, \"time\": 144.0, \"std\": 0.024295387789607048, \"variable\": \"VPD\"}, {\"mean\": 0.5494912266731262, \"time\": 145.0, \"std\": 0.024388058111071587, \"variable\": \"VPD\"}, {\"mean\": 0.6801628470420837, \"time\": 146.0, \"std\": 0.024411233142018318, \"variable\": \"VPD\"}, {\"mean\": 0.8307785987854004, \"time\": 147.0, \"std\": 0.02458822727203369, \"variable\": \"VPD\"}, {\"mean\": 0.9424687623977661, \"time\": 148.0, \"std\": 0.02498232014477253, \"variable\": \"VPD\"}, {\"mean\": 0.9682505130767822, \"time\": 149.0, \"std\": 0.02763712778687477, \"variable\": \"VPD\"}]}}, {\"mode\": \"vega-lite\"});\n",
       "</script>"
      ],
      "text/plain": [
       "alt.VConcatChart(...)"
      ]
     },
     "metadata": {},
     "output_type": "display_data"
    },
    {
     "data": {
      "text/html": [
       "<div style=\"display: flex; gap: 20px;\"> <div> <p style='font-size: 1.3rem; font-decoration: bold'>r2<p> <style type=\"text/css\">\n",
       "</style>\n",
       "<table id=\"T_54ee0\">\n",
       "  <thead>\n",
       "    <tr>\n",
       "      <th id=\"T_54ee0_level0_col0\" class=\"col_heading level0 col0\" >variable</th>\n",
       "      <th id=\"T_54ee0_level0_col1\" class=\"col_heading level0 col1\" >r2</th>\n",
       "    </tr>\n",
       "  </thead>\n",
       "  <tbody>\n",
       "    <tr>\n",
       "      <td id=\"T_54ee0_row0_col0\" class=\"data row0 col0\" >TA</td>\n",
       "      <td id=\"T_54ee0_row0_col1\" class=\"data row0 col1\" >0.9849</td>\n",
       "    </tr>\n",
       "    <tr>\n",
       "      <td id=\"T_54ee0_row1_col0\" class=\"data row1 col0\" >SW_IN</td>\n",
       "      <td id=\"T_54ee0_row1_col1\" class=\"data row1 col1\" >0.9654</td>\n",
       "    </tr>\n",
       "    <tr>\n",
       "      <td id=\"T_54ee0_row2_col0\" class=\"data row2 col0\" >LW_IN</td>\n",
       "      <td id=\"T_54ee0_row2_col1\" class=\"data row2 col1\" >0.9809</td>\n",
       "    </tr>\n",
       "    <tr>\n",
       "      <td id=\"T_54ee0_row3_col0\" class=\"data row3 col0\" >VPD</td>\n",
       "      <td id=\"T_54ee0_row3_col1\" class=\"data row3 col1\" >0.9291</td>\n",
       "    </tr>\n",
       "  </tbody>\n",
       "</table>\n",
       " </div></div>"
      ],
      "text/plain": [
       "<IPython.core.display.HTML object>"
      ]
     },
     "metadata": {},
     "output_type": "display_data"
    }
   ],
   "source": [
    "res_c_gaps.display_results(plot_args = {'bind_interaction': False, 'properties': {}})"
   ]
  }
 ],
 "metadata": {
  "kernelspec": {
   "display_name": "data_science",
   "language": "python",
   "name": "data_science"
  },
  "widgets": {
   "application/vnd.jupyter.widget-state+json": {
    "state": {
     "00a810b359d64564ad73249262ac27f1": {
      "model_module": "@jupyter-widgets/base",
      "model_module_version": "2.0.0",
      "model_name": "LayoutModel",
      "state": {}
     },
     "00bd76cd6db648649d35f8f23b47f3fe": {
      "model_module": "@jupyter-widgets/controls",
      "model_module_version": "2.0.0",
      "model_name": "HTMLStyleModel",
      "state": {
       "description_width": "",
       "font_size": null,
       "text_color": null
      }
     },
     "0199a525b22c43a9b334a1a39c57cd71": {
      "model_module": "@jupyter-widgets/base",
      "model_module_version": "2.0.0",
      "model_name": "LayoutModel",
      "state": {}
     },
     "01dbba81727c4161a10c39a6efa68998": {
      "model_module": "@jupyter-widgets/controls",
      "model_module_version": "2.0.0",
      "model_name": "ProgressStyleModel",
      "state": {
       "description_width": ""
      }
     },
     "02bfeb1aa3d647fea035695c0547f3ef": {
      "model_module": "@jupyter-widgets/controls",
      "model_module_version": "2.0.0",
      "model_name": "FloatProgressModel",
      "state": {
       "bar_style": "success",
       "layout": "IPY_MODEL_744f879e3c84421e810464f5cc55e8d9",
       "style": "IPY_MODEL_48b39c982a3f4e7aa55edded85143ba1",
       "value": 100
      }
     },
     "0362c7af7ed6413eb82f8ef3a4988ad5": {
      "model_module": "@jupyter-widgets/base",
      "model_module_version": "2.0.0",
      "model_name": "LayoutModel",
      "state": {}
     },
     "037d6082ee074da896fdf4c07f0ef779": {
      "model_module": "@jupyter-widgets/controls",
      "model_module_version": "2.0.0",
      "model_name": "HTMLStyleModel",
      "state": {
       "description_width": "",
       "font_size": null,
       "text_color": null
      }
     },
     "03f428e81e874686a2891d39e8f1220d": {
      "model_module": "@jupyter-widgets/controls",
      "model_module_version": "2.0.0",
      "model_name": "ProgressStyleModel",
      "state": {
       "description_width": ""
      }
     },
     "064112256f5e487dae60e6f4e57ef422": {
      "model_module": "@jupyter-widgets/base",
      "model_module_version": "2.0.0",
      "model_name": "LayoutModel",
      "state": {}
     },
     "066d15097d3e471fa2f7faa21be90634": {
      "model_module": "@jupyter-widgets/controls",
      "model_module_version": "2.0.0",
      "model_name": "HBoxModel",
      "state": {
       "children": [
        "IPY_MODEL_2224acf272d74f8cbd5b212d5d457624",
        "IPY_MODEL_e519a5856a7f45e183461cbc1718265b",
        "IPY_MODEL_f6ce00fe3f8c40d2bcf3d6cc5a8bce53"
       ],
       "layout": "IPY_MODEL_c91cba8f70cc4492a0ad35c68ddcb9d9"
      }
     },
     "06902ceaf29641a6b625e2625fb014dc": {
      "model_module": "@jupyter-widgets/base",
      "model_module_version": "2.0.0",
      "model_name": "LayoutModel",
      "state": {}
     },
     "08df6fe25f0d473fbb5559ff8db61852": {
      "model_module": "@jupyter-widgets/base",
      "model_module_version": "2.0.0",
      "model_name": "LayoutModel",
      "state": {}
     },
     "098561a35a6d4e28887c8b9219bd1509": {
      "model_module": "@jupyter-widgets/controls",
      "model_module_version": "2.0.0",
      "model_name": "HTMLModel",
      "state": {
       "layout": "IPY_MODEL_adb228906592498d831bb773144543b8",
       "style": "IPY_MODEL_33589796b92145eb97b2734ad2a48bdc",
       "value": "100%"
      }
     },
     "0a7bb3d285b24a2684348a7e0c9a0180": {
      "model_module": "@jupyter-widgets/base",
      "model_module_version": "2.0.0",
      "model_name": "LayoutModel",
      "state": {}
     },
     "0a9fada69f0842448603fc9a7510ad48": {
      "model_module": "@jupyter-widgets/controls",
      "model_module_version": "2.0.0",
      "model_name": "HTMLStyleModel",
      "state": {
       "description_width": "",
       "font_size": null,
       "text_color": null
      }
     },
     "0b811a13b6db49bf8b12e01afa699f60": {
      "model_module": "@jupyter-widgets/controls",
      "model_module_version": "2.0.0",
      "model_name": "HTMLModel",
      "state": {
       "layout": "IPY_MODEL_e483e392604f4008b6988ab6a2782a94",
       "style": "IPY_MODEL_a5b35410ccd6440f8d74ef7afb3f5f8d",
       "value": "100%"
      }
     },
     "0d675f7c8d324447a751e1c8c017ca04": {
      "model_module": "@jupyter-widgets/controls",
      "model_module_version": "2.0.0",
      "model_name": "HTMLStyleModel",
      "state": {
       "description_width": "",
       "font_size": null,
       "text_color": null
      }
     },
     "0e7edc73a57747609e8613893f458f36": {
      "model_module": "@jupyter-widgets/base",
      "model_module_version": "2.0.0",
      "model_name": "LayoutModel",
      "state": {}
     },
     "0f199baaa68a462c98ef397b0ba69668": {
      "model_module": "@jupyter-widgets/controls",
      "model_module_version": "2.0.0",
      "model_name": "ProgressStyleModel",
      "state": {
       "description_width": ""
      }
     },
     "10d050d1a3004ed3b213c65c93ad580c": {
      "model_module": "@jupyter-widgets/controls",
      "model_module_version": "2.0.0",
      "model_name": "HTMLStyleModel",
      "state": {
       "description_width": "",
       "font_size": null,
       "text_color": null
      }
     },
     "124032f576e840d1959b1120ad9790b6": {
      "model_module": "@jupyter-widgets/controls",
      "model_module_version": "2.0.0",
      "model_name": "HTMLStyleModel",
      "state": {
       "description_width": "",
       "font_size": null,
       "text_color": null
      }
     },
     "124503bedc564b4d82ea407d4cb3521d": {
      "model_module": "@jupyter-widgets/controls",
      "model_module_version": "2.0.0",
      "model_name": "HBoxModel",
      "state": {
       "children": [
        "IPY_MODEL_e7a5537dce4a45a5b3979cc1b88317db",
        "IPY_MODEL_9d8d7ba68cee4550a31ebaed9d93b5aa",
        "IPY_MODEL_29dd0565f60948ac8d539588361d320b"
       ],
       "layout": "IPY_MODEL_ddadd6f102684d91826e317eb530354c"
      }
     },
     "14978189bdeb40e49f9d1634fdb91562": {
      "model_module": "@jupyter-widgets/controls",
      "model_module_version": "2.0.0",
      "model_name": "HTMLStyleModel",
      "state": {
       "description_width": "",
       "font_size": null,
       "text_color": null
      }
     },
     "16ada4ab14a14cf596a01097dcc63c79": {
      "model_module": "@jupyter-widgets/controls",
      "model_module_version": "2.0.0",
      "model_name": "HTMLModel",
      "state": {
       "layout": "IPY_MODEL_6127d30009f247d290c9e5d691de1a30",
       "style": "IPY_MODEL_faf6b53a2d744c029098a3b053fdbb3d",
       "value": " 100/100 [00:00&lt;00:00, 389.96it/s]"
      }
     },
     "19cb014da32848aca8f321e6be77406e": {
      "model_module": "@jupyter-widgets/base",
      "model_module_version": "2.0.0",
      "model_name": "LayoutModel",
      "state": {}
     },
     "1a8141393457403dba2ce110e98d984c": {
      "model_module": "@jupyter-widgets/controls",
      "model_module_version": "2.0.0",
      "model_name": "HTMLStyleModel",
      "state": {
       "description_width": "",
       "font_size": null,
       "text_color": null
      }
     },
     "1b95bd22cd5f4997ba5de574da20fabd": {
      "model_module": "@jupyter-widgets/controls",
      "model_module_version": "2.0.0",
      "model_name": "ProgressStyleModel",
      "state": {
       "description_width": ""
      }
     },
     "1c5cbb0d9806412eabce0cbd53d0c838": {
      "model_module": "@jupyter-widgets/controls",
      "model_module_version": "2.0.0",
      "model_name": "HTMLModel",
      "state": {
       "layout": "IPY_MODEL_93e45160ab7a437294adabf5622f3579",
       "style": "IPY_MODEL_0d675f7c8d324447a751e1c8c017ca04",
       "value": " 100/100 [00:00&lt;00:00, 261.07it/s]"
      }
     },
     "1d305722123842e5a5dfe0987beb0163": {
      "model_module": "@jupyter-widgets/controls",
      "model_module_version": "2.0.0",
      "model_name": "HTMLStyleModel",
      "state": {
       "description_width": "",
       "font_size": null,
       "text_color": null
      }
     },
     "20fff377f27542479c9bebcb3a5830c2": {
      "model_module": "@jupyter-widgets/controls",
      "model_module_version": "2.0.0",
      "model_name": "HTMLStyleModel",
      "state": {
       "description_width": "",
       "font_size": null,
       "text_color": null
      }
     },
     "2116b3927fed45109c613e38f3a244ce": {
      "model_module": "@jupyter-widgets/base",
      "model_module_version": "2.0.0",
      "model_name": "LayoutModel",
      "state": {}
     },
     "2224acf272d74f8cbd5b212d5d457624": {
      "model_module": "@jupyter-widgets/controls",
      "model_module_version": "2.0.0",
      "model_name": "HTMLModel",
      "state": {
       "layout": "IPY_MODEL_bc2899cdf1e145598fee30f0f8e01e53",
       "style": "IPY_MODEL_a258c06285cd4611be6d63d950d81fcf",
       "value": "100%"
      }
     },
     "22f044e3e2244dfda523b30e28d39394": {
      "model_module": "@jupyter-widgets/controls",
      "model_module_version": "2.0.0",
      "model_name": "HTMLStyleModel",
      "state": {
       "description_width": "",
       "font_size": null,
       "text_color": null
      }
     },
     "260b999a48a8434a9e65f8411634bd77": {
      "model_module": "@jupyter-widgets/base",
      "model_module_version": "2.0.0",
      "model_name": "LayoutModel",
      "state": {}
     },
     "2757fc74942b406f8485158790b7e1b5": {
      "model_module": "@jupyter-widgets/controls",
      "model_module_version": "2.0.0",
      "model_name": "HBoxModel",
      "state": {
       "children": [
        "IPY_MODEL_647825ed7b154fce9d40d3b7552199a1",
        "IPY_MODEL_02bfeb1aa3d647fea035695c0547f3ef",
        "IPY_MODEL_1c5cbb0d9806412eabce0cbd53d0c838"
       ],
       "layout": "IPY_MODEL_86ce50320bec42849f2a3417ce899601"
      }
     },
     "28229fcac52f4844b9e62123ce670a7b": {
      "model_module": "@jupyter-widgets/controls",
      "model_module_version": "2.0.0",
      "model_name": "HTMLModel",
      "state": {
       "layout": "IPY_MODEL_d34a2d434baf4376b034cb666f1660b0",
       "style": "IPY_MODEL_a5f6d91617df458db9d098b9fe314bdb",
       "value": "100%"
      }
     },
     "29324983b6c64b7fb48d4a566cc86e5a": {
      "model_module": "@jupyter-widgets/controls",
      "model_module_version": "2.0.0",
      "model_name": "HTMLStyleModel",
      "state": {
       "description_width": "",
       "font_size": null,
       "text_color": null
      }
     },
     "29dd0565f60948ac8d539588361d320b": {
      "model_module": "@jupyter-widgets/controls",
      "model_module_version": "2.0.0",
      "model_name": "HTMLModel",
      "state": {
       "layout": "IPY_MODEL_4cc4f66dba484ec99c47cc0f6fc93606",
       "style": "IPY_MODEL_00bd76cd6db648649d35f8f23b47f3fe",
       "value": " 100/100 [00:00&lt;00:00, 391.32it/s]"
      }
     },
     "2a0f44fa73e94b7b8f1093179e32e546": {
      "model_module": "@jupyter-widgets/controls",
      "model_module_version": "2.0.0",
      "model_name": "HTMLModel",
      "state": {
       "layout": "IPY_MODEL_e45e66207c41451482f556fa4ae70324",
       "style": "IPY_MODEL_6263f110223f485eaa7ca3b764988e27",
       "value": " 100/100 [00:00&lt;00:00, 215.49it/s]"
      }
     },
     "2d072532bdf04e50934fe1495cf9943e": {
      "model_module": "@jupyter-widgets/controls",
      "model_module_version": "2.0.0",
      "model_name": "HTMLModel",
      "state": {
       "layout": "IPY_MODEL_0e7edc73a57747609e8613893f458f36",
       "style": "IPY_MODEL_97be2575518b4cd4954f5a4c1eecf6fc",
       "value": " 100/100 [00:00&lt;00:00, 357.01it/s]"
      }
     },
     "2d260074e2984825812b2cc444c4351f": {
      "model_module": "@jupyter-widgets/base",
      "model_module_version": "2.0.0",
      "model_name": "LayoutModel",
      "state": {}
     },
     "2f6fe1c4fe8b44be91edd2faa61301d4": {
      "model_module": "@jupyter-widgets/base",
      "model_module_version": "2.0.0",
      "model_name": "LayoutModel",
      "state": {}
     },
     "2f88af82ebee4ebf8cfc6728415ce808": {
      "model_module": "@jupyter-widgets/controls",
      "model_module_version": "2.0.0",
      "model_name": "HTMLStyleModel",
      "state": {
       "description_width": "",
       "font_size": null,
       "text_color": null
      }
     },
     "2ff96228a2e64d72a1f50a7ccb785a4b": {
      "model_module": "@jupyter-widgets/controls",
      "model_module_version": "2.0.0",
      "model_name": "FloatProgressModel",
      "state": {
       "bar_style": "success",
       "layout": "IPY_MODEL_762e22d51529493a8c21d3b118917779",
       "style": "IPY_MODEL_53155d60c2004090baf4fad7b5fe0d6d",
       "value": 100
      }
     },
     "325c57f9398243d18f6356327de8b5be": {
      "model_module": "@jupyter-widgets/controls",
      "model_module_version": "2.0.0",
      "model_name": "HTMLModel",
      "state": {
       "layout": "IPY_MODEL_d95f7bbf96f347508b027eec8fb6f1b4",
       "style": "IPY_MODEL_a9fd102f9b3e4e3791ee93c937ed240f",
       "value": " 100/100 [00:00&lt;00:00, 282.83it/s]"
      }
     },
     "3303b50c82eb49c99c7f2fdedc434cd6": {
      "model_module": "@jupyter-widgets/controls",
      "model_module_version": "2.0.0",
      "model_name": "HTMLStyleModel",
      "state": {
       "description_width": "",
       "font_size": null,
       "text_color": null
      }
     },
     "33589796b92145eb97b2734ad2a48bdc": {
      "model_module": "@jupyter-widgets/controls",
      "model_module_version": "2.0.0",
      "model_name": "HTMLStyleModel",
      "state": {
       "description_width": "",
       "font_size": null,
       "text_color": null
      }
     },
     "3429b142bb8344f6b94d11e2de8dd2dd": {
      "model_module": "@jupyter-widgets/controls",
      "model_module_version": "2.0.0",
      "model_name": "ProgressStyleModel",
      "state": {
       "description_width": ""
      }
     },
     "34b602b3edf04b29b050af94b39c13c1": {
      "model_module": "@jupyter-widgets/base",
      "model_module_version": "2.0.0",
      "model_name": "LayoutModel",
      "state": {}
     },
     "34d4c8add2b44329882ce3e15f369e07": {
      "model_module": "@jupyter-widgets/base",
      "model_module_version": "2.0.0",
      "model_name": "LayoutModel",
      "state": {}
     },
     "35e8733d638648e1818134de17801113": {
      "model_module": "@jupyter-widgets/controls",
      "model_module_version": "2.0.0",
      "model_name": "ProgressStyleModel",
      "state": {
       "description_width": ""
      }
     },
     "36eac190f1e942babe03ce7c19244865": {
      "model_module": "@jupyter-widgets/controls",
      "model_module_version": "2.0.0",
      "model_name": "HTMLModel",
      "state": {
       "layout": "IPY_MODEL_d33abc137f464c19a0a90b58d9eadea3",
       "style": "IPY_MODEL_4457926a9dfa41c1b8dedf968bca36f9",
       "value": "100%"
      }
     },
     "38f5a7c1d02742ee991394aca67fd764": {
      "model_module": "@jupyter-widgets/base",
      "model_module_version": "2.0.0",
      "model_name": "LayoutModel",
      "state": {}
     },
     "3a7a77a5918a4ce8b7c194201e56acc2": {
      "model_module": "@jupyter-widgets/controls",
      "model_module_version": "2.0.0",
      "model_name": "HTMLModel",
      "state": {
       "layout": "IPY_MODEL_c13dabafd24b4f8c852b676a3c52f348",
       "style": "IPY_MODEL_e27f1e57166c47f58eb898e0cb479851",
       "value": " 100/100 [00:00&lt;00:00, 258.84it/s]"
      }
     },
     "3bbe668c34184c96b6bb1b3ebabb6e69": {
      "model_module": "@jupyter-widgets/controls",
      "model_module_version": "2.0.0",
      "model_name": "ProgressStyleModel",
      "state": {
       "description_width": ""
      }
     },
     "3c23186311de46c38648afeae2096f7c": {
      "model_module": "@jupyter-widgets/controls",
      "model_module_version": "2.0.0",
      "model_name": "HTMLStyleModel",
      "state": {
       "description_width": "",
       "font_size": null,
       "text_color": null
      }
     },
     "3cafa20382904374babc5a73bf1e4a98": {
      "model_module": "@jupyter-widgets/controls",
      "model_module_version": "2.0.0",
      "model_name": "HBoxModel",
      "state": {
       "children": [
        "IPY_MODEL_95273f26173b4a7fb14f6cfb1ccd7b31",
        "IPY_MODEL_9ce31d82ea0f476da77038d6ed6bc357",
        "IPY_MODEL_4f9df22e382f4bfd9f976448c9ed47d3"
       ],
       "layout": "IPY_MODEL_99797cef166c4cfe911834bafe7619f1"
      }
     },
     "3f40fc84e6f2455ebcc15f88a66a2ab3": {
      "model_module": "@jupyter-widgets/base",
      "model_module_version": "2.0.0",
      "model_name": "LayoutModel",
      "state": {}
     },
     "3f4f774a35c5436090569f11f637ff97": {
      "model_module": "@jupyter-widgets/controls",
      "model_module_version": "2.0.0",
      "model_name": "HBoxModel",
      "state": {
       "children": [
        "IPY_MODEL_b57bdf4379bd44e3af298a9583aa7b76",
        "IPY_MODEL_cc019ab1b75a46f3828e2fe5650eaea3",
        "IPY_MODEL_f056222948884b469312188680621214"
       ],
       "layout": "IPY_MODEL_6de785052d9d4caaae6a39a834066b52"
      }
     },
     "3ff0bd537d294f7abc76315d49247581": {
      "model_module": "@jupyter-widgets/base",
      "model_module_version": "2.0.0",
      "model_name": "LayoutModel",
      "state": {}
     },
     "41c87df41bfc4ec3970d6c49c656e4ef": {
      "model_module": "@jupyter-widgets/base",
      "model_module_version": "2.0.0",
      "model_name": "LayoutModel",
      "state": {}
     },
     "429317a020f444f5b3130c830154b8b7": {
      "model_module": "@jupyter-widgets/controls",
      "model_module_version": "2.0.0",
      "model_name": "HTMLStyleModel",
      "state": {
       "description_width": "",
       "font_size": null,
       "text_color": null
      }
     },
     "43bafa36acee45f0af5d50aad4af411e": {
      "model_module": "@jupyter-widgets/base",
      "model_module_version": "2.0.0",
      "model_name": "LayoutModel",
      "state": {}
     },
     "4457926a9dfa41c1b8dedf968bca36f9": {
      "model_module": "@jupyter-widgets/controls",
      "model_module_version": "2.0.0",
      "model_name": "HTMLStyleModel",
      "state": {
       "description_width": "",
       "font_size": null,
       "text_color": null
      }
     },
     "4620aabf77bd40a681d780f55f4c8c1e": {
      "model_module": "@jupyter-widgets/controls",
      "model_module_version": "2.0.0",
      "model_name": "ProgressStyleModel",
      "state": {
       "description_width": ""
      }
     },
     "4803924aa37b4bc3bbbffeaeb6519342": {
      "model_module": "@jupyter-widgets/base",
      "model_module_version": "2.0.0",
      "model_name": "LayoutModel",
      "state": {}
     },
     "48b39c982a3f4e7aa55edded85143ba1": {
      "model_module": "@jupyter-widgets/controls",
      "model_module_version": "2.0.0",
      "model_name": "ProgressStyleModel",
      "state": {
       "description_width": ""
      }
     },
     "4a3ceb2daec6415b8219d00f5f6fd309": {
      "model_module": "@jupyter-widgets/base",
      "model_module_version": "2.0.0",
      "model_name": "LayoutModel",
      "state": {}
     },
     "4b2d942cc2c04195b5b9df9bb4d6fe95": {
      "model_module": "@jupyter-widgets/controls",
      "model_module_version": "2.0.0",
      "model_name": "FloatProgressModel",
      "state": {
       "bar_style": "success",
       "layout": "IPY_MODEL_2116b3927fed45109c613e38f3a244ce",
       "style": "IPY_MODEL_4620aabf77bd40a681d780f55f4c8c1e",
       "value": 100
      }
     },
     "4cc4f66dba484ec99c47cc0f6fc93606": {
      "model_module": "@jupyter-widgets/base",
      "model_module_version": "2.0.0",
      "model_name": "LayoutModel",
      "state": {}
     },
     "4d2691181c7a4817950aa42ff8782690": {
      "model_module": "@jupyter-widgets/controls",
      "model_module_version": "2.0.0",
      "model_name": "ProgressStyleModel",
      "state": {
       "description_width": ""
      }
     },
     "4dde01e2669d4c1aa74d94c334dd50bf": {
      "model_module": "@jupyter-widgets/base",
      "model_module_version": "2.0.0",
      "model_name": "LayoutModel",
      "state": {}
     },
     "4e72be7014a149d296bbf5e4fd7e681e": {
      "model_module": "@jupyter-widgets/controls",
      "model_module_version": "2.0.0",
      "model_name": "FloatProgressModel",
      "state": {
       "bar_style": "success",
       "layout": "IPY_MODEL_b1b8b7d3854a46fe892ab84b20997096",
       "style": "IPY_MODEL_1b95bd22cd5f4997ba5de574da20fabd",
       "value": 100
      }
     },
     "4f5cccdba4794525bcff32420652e4b0": {
      "model_module": "@jupyter-widgets/controls",
      "model_module_version": "2.0.0",
      "model_name": "FloatProgressModel",
      "state": {
       "bar_style": "success",
       "layout": "IPY_MODEL_0a7bb3d285b24a2684348a7e0c9a0180",
       "style": "IPY_MODEL_b45d7021a2b34c09b295b7595e68e27e",
       "value": 100
      }
     },
     "4f9df22e382f4bfd9f976448c9ed47d3": {
      "model_module": "@jupyter-widgets/controls",
      "model_module_version": "2.0.0",
      "model_name": "HTMLModel",
      "state": {
       "layout": "IPY_MODEL_e2ee455f7803459ba663e224e7dcf1a8",
       "style": "IPY_MODEL_b7e1a7274940427ca6260fadc2366892",
       "value": " 100/100 [00:00&lt;00:00, 279.08it/s]"
      }
     },
     "4fa4a1153bd54b3fb04294bb085907ac": {
      "model_module": "@jupyter-widgets/controls",
      "model_module_version": "2.0.0",
      "model_name": "ProgressStyleModel",
      "state": {
       "description_width": ""
      }
     },
     "51478b31a15240e5839a0c1e05356508": {
      "model_module": "@jupyter-widgets/controls",
      "model_module_version": "2.0.0",
      "model_name": "HTMLModel",
      "state": {
       "layout": "IPY_MODEL_86e01862484d444f8bf1319a0771f8ae",
       "style": "IPY_MODEL_29324983b6c64b7fb48d4a566cc86e5a",
       "value": " 100/100 [00:00&lt;00:00, 365.49it/s]"
      }
     },
     "52a3a5d8264945169efbb159c663341e": {
      "model_module": "@jupyter-widgets/base",
      "model_module_version": "2.0.0",
      "model_name": "LayoutModel",
      "state": {}
     },
     "53155d60c2004090baf4fad7b5fe0d6d": {
      "model_module": "@jupyter-widgets/controls",
      "model_module_version": "2.0.0",
      "model_name": "ProgressStyleModel",
      "state": {
       "description_width": ""
      }
     },
     "5499b8cc907a429288e539bd365ca0a7": {
      "model_module": "@jupyter-widgets/controls",
      "model_module_version": "2.0.0",
      "model_name": "ProgressStyleModel",
      "state": {
       "description_width": ""
      }
     },
     "556ed309b0cb452db5f4acecacd0d4be": {
      "model_module": "@jupyter-widgets/base",
      "model_module_version": "2.0.0",
      "model_name": "LayoutModel",
      "state": {}
     },
     "56672a1291964743bc389bcfa4dcdaf2": {
      "model_module": "@jupyter-widgets/base",
      "model_module_version": "2.0.0",
      "model_name": "LayoutModel",
      "state": {}
     },
     "59f1d4fa39f14a85909935aab98a511a": {
      "model_module": "@jupyter-widgets/base",
      "model_module_version": "2.0.0",
      "model_name": "LayoutModel",
      "state": {}
     },
     "5c18e202ee6f4d69b4ccc6308f39143f": {
      "model_module": "@jupyter-widgets/controls",
      "model_module_version": "2.0.0",
      "model_name": "FloatProgressModel",
      "state": {
       "bar_style": "success",
       "layout": "IPY_MODEL_d9369a2930fa4a6bb19a309588943e28",
       "style": "IPY_MODEL_b34ea1ae112a4ef1b583772e66b09992",
       "value": 100
      }
     },
     "5e226fa96cfe46c4b8ac5b8eb8960e51": {
      "model_module": "@jupyter-widgets/controls",
      "model_module_version": "2.0.0",
      "model_name": "HTMLModel",
      "state": {
       "layout": "IPY_MODEL_2f6fe1c4fe8b44be91edd2faa61301d4",
       "style": "IPY_MODEL_8ca0591ef0bf4531ba1e9aae7a1203a4",
       "value": "100%"
      }
     },
     "5efa73d33fac4ad88cb3cf3b4855b33d": {
      "model_module": "@jupyter-widgets/controls",
      "model_module_version": "2.0.0",
      "model_name": "HTMLStyleModel",
      "state": {
       "description_width": "",
       "font_size": null,
       "text_color": null
      }
     },
     "5f61751a2ff848d0956c5d2c2258e2ef": {
      "model_module": "@jupyter-widgets/controls",
      "model_module_version": "2.0.0",
      "model_name": "FloatProgressModel",
      "state": {
       "bar_style": "success",
       "layout": "IPY_MODEL_064112256f5e487dae60e6f4e57ef422",
       "style": "IPY_MODEL_b65739e02f5c4a599ca24c9e90fea490",
       "value": 100
      }
     },
     "5f6864d9ccf045059403bc0de89e06ce": {
      "model_module": "@jupyter-widgets/controls",
      "model_module_version": "2.0.0",
      "model_name": "FloatProgressModel",
      "state": {
       "bar_style": "success",
       "layout": "IPY_MODEL_93bf72c9d1a1418a9c6afe4f36ab555b",
       "style": "IPY_MODEL_ce5b954dcc80442a83e83381545ffb18",
       "value": 100
      }
     },
     "6127d30009f247d290c9e5d691de1a30": {
      "model_module": "@jupyter-widgets/base",
      "model_module_version": "2.0.0",
      "model_name": "LayoutModel",
      "state": {}
     },
     "61d1db5538194067968629fe7e4df640": {
      "model_module": "@jupyter-widgets/controls",
      "model_module_version": "2.0.0",
      "model_name": "HBoxModel",
      "state": {
       "children": [
        "IPY_MODEL_82e786dec668483d859f7fe2c2782dbc",
        "IPY_MODEL_4b2d942cc2c04195b5b9df9bb4d6fe95",
        "IPY_MODEL_647bfed09132423caa5d4e6960827267"
       ],
       "layout": "IPY_MODEL_ccd3debe0d78478299343a4aea399197"
      }
     },
     "6263f110223f485eaa7ca3b764988e27": {
      "model_module": "@jupyter-widgets/controls",
      "model_module_version": "2.0.0",
      "model_name": "HTMLStyleModel",
      "state": {
       "description_width": "",
       "font_size": null,
       "text_color": null
      }
     },
     "647825ed7b154fce9d40d3b7552199a1": {
      "model_module": "@jupyter-widgets/controls",
      "model_module_version": "2.0.0",
      "model_name": "HTMLModel",
      "state": {
       "layout": "IPY_MODEL_b8abc6b431dd4903b8a5ac779de0507a",
       "style": "IPY_MODEL_20fff377f27542479c9bebcb3a5830c2",
       "value": "100%"
      }
     },
     "647bfed09132423caa5d4e6960827267": {
      "model_module": "@jupyter-widgets/controls",
      "model_module_version": "2.0.0",
      "model_name": "HTMLModel",
      "state": {
       "layout": "IPY_MODEL_dd327077000545cb846c4f62dff5335a",
       "style": "IPY_MODEL_14978189bdeb40e49f9d1634fdb91562",
       "value": " 100/100 [00:00&lt;00:00, 233.21it/s]"
      }
     },
     "683109d4f9df4867988da085261378c8": {
      "model_module": "@jupyter-widgets/controls",
      "model_module_version": "2.0.0",
      "model_name": "FloatProgressModel",
      "state": {
       "bar_style": "success",
       "layout": "IPY_MODEL_eabca401b82149cc8c66ba94871d1bac",
       "style": "IPY_MODEL_b1b7d544daa548a39564657813a8b806",
       "value": 100
      }
     },
     "696f93901902419e805dc889b620d35c": {
      "model_module": "@jupyter-widgets/base",
      "model_module_version": "2.0.0",
      "model_name": "LayoutModel",
      "state": {}
     },
     "6a69ad6d036141f3be04ae93187973ea": {
      "model_module": "@jupyter-widgets/base",
      "model_module_version": "2.0.0",
      "model_name": "LayoutModel",
      "state": {}
     },
     "6a8f6c09384448a8a0e35fe516431b03": {
      "model_module": "@jupyter-widgets/base",
      "model_module_version": "2.0.0",
      "model_name": "LayoutModel",
      "state": {}
     },
     "6b63e1ce706641bdb35a4a80d384d7b2": {
      "model_module": "@jupyter-widgets/base",
      "model_module_version": "2.0.0",
      "model_name": "LayoutModel",
      "state": {}
     },
     "6b714aa4d52a49688529e7574bb666fb": {
      "model_module": "@jupyter-widgets/controls",
      "model_module_version": "2.0.0",
      "model_name": "HTMLModel",
      "state": {
       "layout": "IPY_MODEL_cb1cbe51b2384a1c874ac46bda081196",
       "style": "IPY_MODEL_0a9fada69f0842448603fc9a7510ad48",
       "value": " 100/100 [00:00&lt;00:00, 344.70it/s]"
      }
     },
     "6b80513627644b1e913e5901e6aa61a5": {
      "model_module": "@jupyter-widgets/controls",
      "model_module_version": "2.0.0",
      "model_name": "ProgressStyleModel",
      "state": {
       "description_width": ""
      }
     },
     "6d904d95e09c4b29a388db7cdf303178": {
      "model_module": "@jupyter-widgets/base",
      "model_module_version": "2.0.0",
      "model_name": "LayoutModel",
      "state": {}
     },
     "6de785052d9d4caaae6a39a834066b52": {
      "model_module": "@jupyter-widgets/base",
      "model_module_version": "2.0.0",
      "model_name": "LayoutModel",
      "state": {}
     },
     "707cb597ffed412181a9aa8af36bb3d3": {
      "model_module": "@jupyter-widgets/controls",
      "model_module_version": "2.0.0",
      "model_name": "HTMLModel",
      "state": {
       "layout": "IPY_MODEL_6a8f6c09384448a8a0e35fe516431b03",
       "style": "IPY_MODEL_f207061218df457d9ced4d8a70b336fb",
       "value": "100%"
      }
     },
     "744f879e3c84421e810464f5cc55e8d9": {
      "model_module": "@jupyter-widgets/base",
      "model_module_version": "2.0.0",
      "model_name": "LayoutModel",
      "state": {}
     },
     "7481f783e970487b9c9f7ac70a8c9e57": {
      "model_module": "@jupyter-widgets/controls",
      "model_module_version": "2.0.0",
      "model_name": "ProgressStyleModel",
      "state": {
       "description_width": ""
      }
     },
     "762e22d51529493a8c21d3b118917779": {
      "model_module": "@jupyter-widgets/base",
      "model_module_version": "2.0.0",
      "model_name": "LayoutModel",
      "state": {}
     },
     "7678b55d2cd246c6b5ce4bc07b2d3572": {
      "model_module": "@jupyter-widgets/base",
      "model_module_version": "2.0.0",
      "model_name": "LayoutModel",
      "state": {}
     },
     "773f846eefff4284be702399a6c12a6b": {
      "model_module": "@jupyter-widgets/base",
      "model_module_version": "2.0.0",
      "model_name": "LayoutModel",
      "state": {}
     },
     "794da26e05064e99b97f2a1aa018181e": {
      "model_module": "@jupyter-widgets/controls",
      "model_module_version": "2.0.0",
      "model_name": "HTMLModel",
      "state": {
       "layout": "IPY_MODEL_2d260074e2984825812b2cc444c4351f",
       "style": "IPY_MODEL_a5ad053a2c63473c846ef50a7b7b28c9",
       "value": " 100/100 [00:00&lt;00:00, 293.14it/s]"
      }
     },
     "7a5045323d6e42fa836a243a613d00aa": {
      "model_module": "@jupyter-widgets/base",
      "model_module_version": "2.0.0",
      "model_name": "LayoutModel",
      "state": {}
     },
     "7b922050d8cc4e889c6ac7806b2655a7": {
      "model_module": "@jupyter-widgets/controls",
      "model_module_version": "2.0.0",
      "model_name": "HTMLModel",
      "state": {
       "layout": "IPY_MODEL_696f93901902419e805dc889b620d35c",
       "style": "IPY_MODEL_9d72b27441c34319a6102400b438a3f3",
       "value": "100%"
      }
     },
     "7c059d7987a24d859aacd4aa2c93b78b": {
      "model_module": "@jupyter-widgets/controls",
      "model_module_version": "2.0.0",
      "model_name": "HBoxModel",
      "state": {
       "children": [
        "IPY_MODEL_098561a35a6d4e28887c8b9219bd1509",
        "IPY_MODEL_af98b68f3ac34e28bfb6eb2a81dcd171",
        "IPY_MODEL_b77d31fea1284d50aeb1689c67916bdd"
       ],
       "layout": "IPY_MODEL_cf65d87aa2ce4a37a8145c42c5dfc35d"
      }
     },
     "7d6507f648bc4a63a9f97a75f882cb25": {
      "model_module": "@jupyter-widgets/controls",
      "model_module_version": "2.0.0",
      "model_name": "HBoxModel",
      "state": {
       "children": [
        "IPY_MODEL_28229fcac52f4844b9e62123ce670a7b",
        "IPY_MODEL_683109d4f9df4867988da085261378c8",
        "IPY_MODEL_df31136c26de4153b6b4faad51646d14"
       ],
       "layout": "IPY_MODEL_b03daeee7ca0434a8c198230b0fc9862"
      }
     },
     "82e786dec668483d859f7fe2c2782dbc": {
      "model_module": "@jupyter-widgets/controls",
      "model_module_version": "2.0.0",
      "model_name": "HTMLModel",
      "state": {
       "layout": "IPY_MODEL_daa24d83c85e4511958179fefe70a5da",
       "style": "IPY_MODEL_5efa73d33fac4ad88cb3cf3b4855b33d",
       "value": "100%"
      }
     },
     "82ff6a9255ed441fbf031dd9bb81b01c": {
      "model_module": "@jupyter-widgets/controls",
      "model_module_version": "2.0.0",
      "model_name": "HTMLModel",
      "state": {
       "layout": "IPY_MODEL_9ed409e9d3454087b452e51bf3f20221",
       "style": "IPY_MODEL_3c23186311de46c38648afeae2096f7c",
       "value": "100%"
      }
     },
     "8326a9a4f9dd42839f1fd13d571b84bd": {
      "model_module": "@jupyter-widgets/base",
      "model_module_version": "2.0.0",
      "model_name": "LayoutModel",
      "state": {}
     },
     "85a1f451bbdd47c7b211853ebddea1ca": {
      "model_module": "@jupyter-widgets/controls",
      "model_module_version": "2.0.0",
      "model_name": "HTMLModel",
      "state": {
       "layout": "IPY_MODEL_cd5a1edd92ee452da863a779aa219806",
       "style": "IPY_MODEL_2f88af82ebee4ebf8cfc6728415ce808",
       "value": "100%"
      }
     },
     "8659055808d845259fe4572ffd307b39": {
      "model_module": "@jupyter-widgets/base",
      "model_module_version": "2.0.0",
      "model_name": "LayoutModel",
      "state": {}
     },
     "86ce50320bec42849f2a3417ce899601": {
      "model_module": "@jupyter-widgets/base",
      "model_module_version": "2.0.0",
      "model_name": "LayoutModel",
      "state": {}
     },
     "86e01862484d444f8bf1319a0771f8ae": {
      "model_module": "@jupyter-widgets/base",
      "model_module_version": "2.0.0",
      "model_name": "LayoutModel",
      "state": {}
     },
     "873511722d654745987ca5dfaa8956ad": {
      "model_module": "@jupyter-widgets/controls",
      "model_module_version": "2.0.0",
      "model_name": "HTMLModel",
      "state": {
       "layout": "IPY_MODEL_3ff0bd537d294f7abc76315d49247581",
       "style": "IPY_MODEL_3303b50c82eb49c99c7f2fdedc434cd6",
       "value": " 100/100 [00:00&lt;00:00, 333.62it/s]"
      }
     },
     "893fdee787534640ad7d96ebc72c8840": {
      "model_module": "@jupyter-widgets/base",
      "model_module_version": "2.0.0",
      "model_name": "LayoutModel",
      "state": {}
     },
     "89e7aa5baf354ea5a1e85e7ca40a26db": {
      "model_module": "@jupyter-widgets/controls",
      "model_module_version": "2.0.0",
      "model_name": "HTMLModel",
      "state": {
       "layout": "IPY_MODEL_9c0057a0797f4bf2b99d038b83e6b609",
       "style": "IPY_MODEL_93b7d557cf6343caa3e5d07aa8ee2a81",
       "value": " 100/100 [00:00&lt;00:00, 211.56it/s]"
      }
     },
     "8aa2575296424861bc25a45dbfde405e": {
      "model_module": "@jupyter-widgets/controls",
      "model_module_version": "2.0.0",
      "model_name": "HBoxModel",
      "state": {
       "children": [
        "IPY_MODEL_d48564de6ef24402bfdb40c70d8b9faf",
        "IPY_MODEL_d1b23b06d4514094bf4754c14f7f8d95",
        "IPY_MODEL_b21e9457a98d45c9aae6403ecce4d905"
       ],
       "layout": "IPY_MODEL_556ed309b0cb452db5f4acecacd0d4be"
      }
     },
     "8ab65712cd8b48088e6a47db396531e6": {
      "model_module": "@jupyter-widgets/controls",
      "model_module_version": "2.0.0",
      "model_name": "HTMLModel",
      "state": {
       "layout": "IPY_MODEL_34d4c8add2b44329882ce3e15f369e07",
       "style": "IPY_MODEL_d257db5aa1b64540979adc2202a89e86",
       "value": "100%"
      }
     },
     "8ca0591ef0bf4531ba1e9aae7a1203a4": {
      "model_module": "@jupyter-widgets/controls",
      "model_module_version": "2.0.0",
      "model_name": "HTMLStyleModel",
      "state": {
       "description_width": "",
       "font_size": null,
       "text_color": null
      }
     },
     "8d33a672a7fb42ccbbe437a856ad4c57": {
      "model_module": "@jupyter-widgets/controls",
      "model_module_version": "2.0.0",
      "model_name": "ProgressStyleModel",
      "state": {
       "description_width": ""
      }
     },
     "8d98c6421a23479e80dc6a8da3158b36": {
      "model_module": "@jupyter-widgets/controls",
      "model_module_version": "2.0.0",
      "model_name": "FloatProgressModel",
      "state": {
       "bar_style": "success",
       "layout": "IPY_MODEL_260b999a48a8434a9e65f8411634bd77",
       "style": "IPY_MODEL_01dbba81727c4161a10c39a6efa68998",
       "value": 100
      }
     },
     "90fdfc2961b64cc08b8a6370b6a61513": {
      "model_module": "@jupyter-widgets/controls",
      "model_module_version": "2.0.0",
      "model_name": "HTMLModel",
      "state": {
       "layout": "IPY_MODEL_7678b55d2cd246c6b5ce4bc07b2d3572",
       "style": "IPY_MODEL_ce6e36de0d074478b9d791bbc40a544a",
       "value": " 100/100 [00:00&lt;00:00, 411.73it/s]"
      }
     },
     "923a969e89794fe6962518eab1f413ca": {
      "model_module": "@jupyter-widgets/base",
      "model_module_version": "2.0.0",
      "model_name": "LayoutModel",
      "state": {}
     },
     "937ae38af9034b8d9b5d8c7fca9b726a": {
      "model_module": "@jupyter-widgets/controls",
      "model_module_version": "2.0.0",
      "model_name": "HTMLStyleModel",
      "state": {
       "description_width": "",
       "font_size": null,
       "text_color": null
      }
     },
     "93b7d557cf6343caa3e5d07aa8ee2a81": {
      "model_module": "@jupyter-widgets/controls",
      "model_module_version": "2.0.0",
      "model_name": "HTMLStyleModel",
      "state": {
       "description_width": "",
       "font_size": null,
       "text_color": null
      }
     },
     "93bf72c9d1a1418a9c6afe4f36ab555b": {
      "model_module": "@jupyter-widgets/base",
      "model_module_version": "2.0.0",
      "model_name": "LayoutModel",
      "state": {}
     },
     "93e45160ab7a437294adabf5622f3579": {
      "model_module": "@jupyter-widgets/base",
      "model_module_version": "2.0.0",
      "model_name": "LayoutModel",
      "state": {}
     },
     "95273f26173b4a7fb14f6cfb1ccd7b31": {
      "model_module": "@jupyter-widgets/controls",
      "model_module_version": "2.0.0",
      "model_name": "HTMLModel",
      "state": {
       "layout": "IPY_MODEL_43bafa36acee45f0af5d50aad4af411e",
       "style": "IPY_MODEL_ce4670cdc1754c55a7e487f092c7447f",
       "value": "100%"
      }
     },
     "9552d6d4732545219c71985804e8b286": {
      "model_module": "@jupyter-widgets/base",
      "model_module_version": "2.0.0",
      "model_name": "LayoutModel",
      "state": {}
     },
     "95d3265a279946af8d7826e991475c3e": {
      "model_module": "@jupyter-widgets/base",
      "model_module_version": "2.0.0",
      "model_name": "LayoutModel",
      "state": {}
     },
     "975043e7ae0c48c4b56b2461316df785": {
      "model_module": "@jupyter-widgets/controls",
      "model_module_version": "2.0.0",
      "model_name": "FloatProgressModel",
      "state": {
       "bar_style": "success",
       "layout": "IPY_MODEL_d51b6ac7c7364198adf8ef700aa3c3ba",
       "style": "IPY_MODEL_3429b142bb8344f6b94d11e2de8dd2dd",
       "value": 100
      }
     },
     "97be2575518b4cd4954f5a4c1eecf6fc": {
      "model_module": "@jupyter-widgets/controls",
      "model_module_version": "2.0.0",
      "model_name": "HTMLStyleModel",
      "state": {
       "description_width": "",
       "font_size": null,
       "text_color": null
      }
     },
     "99797cef166c4cfe911834bafe7619f1": {
      "model_module": "@jupyter-widgets/base",
      "model_module_version": "2.0.0",
      "model_name": "LayoutModel",
      "state": {}
     },
     "99e5e0feb77d4a78a2a211b1158635d1": {
      "model_module": "@jupyter-widgets/controls",
      "model_module_version": "2.0.0",
      "model_name": "HTMLModel",
      "state": {
       "layout": "IPY_MODEL_d4bfc0bf9aa348df9139b99f8e3ece34",
       "style": "IPY_MODEL_e7715bb1200e4ed59595b4a0cd0017aa",
       "value": "100%"
      }
     },
     "9b999bc3c16b4883b6dbf5ac7acfd3cb": {
      "model_module": "@jupyter-widgets/controls",
      "model_module_version": "2.0.0",
      "model_name": "HTMLModel",
      "state": {
       "layout": "IPY_MODEL_ee50364c4b7d4f359cfa593f324b5bc0",
       "style": "IPY_MODEL_1a8141393457403dba2ce110e98d984c",
       "value": " 100/100 [00:00&lt;00:00, 352.30it/s]"
      }
     },
     "9c0057a0797f4bf2b99d038b83e6b609": {
      "model_module": "@jupyter-widgets/base",
      "model_module_version": "2.0.0",
      "model_name": "LayoutModel",
      "state": {}
     },
     "9c46720b4c6d42069c4f79adab8a8aca": {
      "model_module": "@jupyter-widgets/controls",
      "model_module_version": "2.0.0",
      "model_name": "HBoxModel",
      "state": {
       "children": [
        "IPY_MODEL_c811275f66034a4f8ce1a93a0ac060b1",
        "IPY_MODEL_c2100ec0d4a84cc0859cf4d2f0c6c7cb",
        "IPY_MODEL_2d072532bdf04e50934fe1495cf9943e"
       ],
       "layout": "IPY_MODEL_52a3a5d8264945169efbb159c663341e"
      }
     },
     "9ce31d82ea0f476da77038d6ed6bc357": {
      "model_module": "@jupyter-widgets/controls",
      "model_module_version": "2.0.0",
      "model_name": "FloatProgressModel",
      "state": {
       "bar_style": "success",
       "layout": "IPY_MODEL_c4e07f9976eb4210beab69a0112f067e",
       "style": "IPY_MODEL_03f428e81e874686a2891d39e8f1220d",
       "value": 100
      }
     },
     "9d72b27441c34319a6102400b438a3f3": {
      "model_module": "@jupyter-widgets/controls",
      "model_module_version": "2.0.0",
      "model_name": "HTMLStyleModel",
      "state": {
       "description_width": "",
       "font_size": null,
       "text_color": null
      }
     },
     "9d8d7ba68cee4550a31ebaed9d93b5aa": {
      "model_module": "@jupyter-widgets/controls",
      "model_module_version": "2.0.0",
      "model_name": "FloatProgressModel",
      "state": {
       "bar_style": "success",
       "layout": "IPY_MODEL_bc5b5d95f65f433f97e7b5aa49a5484a",
       "style": "IPY_MODEL_3bbe668c34184c96b6bb1b3ebabb6e69",
       "value": 100
      }
     },
     "9df3420b0b8c462b8293008ae8154173": {
      "model_module": "@jupyter-widgets/controls",
      "model_module_version": "2.0.0",
      "model_name": "HBoxModel",
      "state": {
       "children": [
        "IPY_MODEL_36eac190f1e942babe03ce7c19244865",
        "IPY_MODEL_4f5cccdba4794525bcff32420652e4b0",
        "IPY_MODEL_325c57f9398243d18f6356327de8b5be"
       ],
       "layout": "IPY_MODEL_db9b3d4b547d4ffe9e7260cafb24fbb8"
      }
     },
     "9e56aeb6e7134c9bb5da8c53b5d8162a": {
      "model_module": "@jupyter-widgets/base",
      "model_module_version": "2.0.0",
      "model_name": "LayoutModel",
      "state": {}
     },
     "9ed409e9d3454087b452e51bf3f20221": {
      "model_module": "@jupyter-widgets/base",
      "model_module_version": "2.0.0",
      "model_name": "LayoutModel",
      "state": {}
     },
     "a207ed03009c4fa3920d843fe87b305b": {
      "model_module": "@jupyter-widgets/controls",
      "model_module_version": "2.0.0",
      "model_name": "HBoxModel",
      "state": {
       "children": [
        "IPY_MODEL_8ab65712cd8b48088e6a47db396531e6",
        "IPY_MODEL_4e72be7014a149d296bbf5e4fd7e681e",
        "IPY_MODEL_9b999bc3c16b4883b6dbf5ac7acfd3cb"
       ],
       "layout": "IPY_MODEL_06902ceaf29641a6b625e2625fb014dc"
      }
     },
     "a258c06285cd4611be6d63d950d81fcf": {
      "model_module": "@jupyter-widgets/controls",
      "model_module_version": "2.0.0",
      "model_name": "HTMLStyleModel",
      "state": {
       "description_width": "",
       "font_size": null,
       "text_color": null
      }
     },
     "a3549e283f35436aafc3fe48993db0ce": {
      "model_module": "@jupyter-widgets/controls",
      "model_module_version": "2.0.0",
      "model_name": "HBoxModel",
      "state": {
       "children": [
        "IPY_MODEL_5e226fa96cfe46c4b8ac5b8eb8960e51",
        "IPY_MODEL_5f61751a2ff848d0956c5d2c2258e2ef",
        "IPY_MODEL_b2f41edfd6a94274a4b9c327f41cacfd"
       ],
       "layout": "IPY_MODEL_9e56aeb6e7134c9bb5da8c53b5d8162a"
      }
     },
     "a3ed70c4abf04d7aa38dc64d2aa9ddcc": {
      "model_module": "@jupyter-widgets/controls",
      "model_module_version": "2.0.0",
      "model_name": "FloatProgressModel",
      "state": {
       "bar_style": "success",
       "layout": "IPY_MODEL_56672a1291964743bc389bcfa4dcdaf2",
       "style": "IPY_MODEL_4d2691181c7a4817950aa42ff8782690",
       "value": 100
      }
     },
     "a5ad053a2c63473c846ef50a7b7b28c9": {
      "model_module": "@jupyter-widgets/controls",
      "model_module_version": "2.0.0",
      "model_name": "HTMLStyleModel",
      "state": {
       "description_width": "",
       "font_size": null,
       "text_color": null
      }
     },
     "a5b35410ccd6440f8d74ef7afb3f5f8d": {
      "model_module": "@jupyter-widgets/controls",
      "model_module_version": "2.0.0",
      "model_name": "HTMLStyleModel",
      "state": {
       "description_width": "",
       "font_size": null,
       "text_color": null
      }
     },
     "a5f6d91617df458db9d098b9fe314bdb": {
      "model_module": "@jupyter-widgets/controls",
      "model_module_version": "2.0.0",
      "model_name": "HTMLStyleModel",
      "state": {
       "description_width": "",
       "font_size": null,
       "text_color": null
      }
     },
     "a66fe65470ab4b9e9fc4d57bae362264": {
      "model_module": "@jupyter-widgets/base",
      "model_module_version": "2.0.0",
      "model_name": "LayoutModel",
      "state": {}
     },
     "a9fd102f9b3e4e3791ee93c937ed240f": {
      "model_module": "@jupyter-widgets/controls",
      "model_module_version": "2.0.0",
      "model_name": "HTMLStyleModel",
      "state": {
       "description_width": "",
       "font_size": null,
       "text_color": null
      }
     },
     "adb228906592498d831bb773144543b8": {
      "model_module": "@jupyter-widgets/base",
      "model_module_version": "2.0.0",
      "model_name": "LayoutModel",
      "state": {}
     },
     "adedbf6ed4c842a9a9d793b1ae588a25": {
      "model_module": "@jupyter-widgets/controls",
      "model_module_version": "2.0.0",
      "model_name": "HBoxModel",
      "state": {
       "children": [
        "IPY_MODEL_99e5e0feb77d4a78a2a211b1158635d1",
        "IPY_MODEL_975043e7ae0c48c4b56b2461316df785",
        "IPY_MODEL_16ada4ab14a14cf596a01097dcc63c79"
       ],
       "layout": "IPY_MODEL_00a810b359d64564ad73249262ac27f1"
      }
     },
     "ae899c130ff941aaa618dc8f0e09a9a3": {
      "model_module": "@jupyter-widgets/controls",
      "model_module_version": "2.0.0",
      "model_name": "HBoxModel",
      "state": {
       "children": [
        "IPY_MODEL_7b922050d8cc4e889c6ac7806b2655a7",
        "IPY_MODEL_e53c5615ca044fdf9ba8e44a485cf837",
        "IPY_MODEL_873511722d654745987ca5dfaa8956ad"
       ],
       "layout": "IPY_MODEL_4803924aa37b4bc3bbbffeaeb6519342"
      }
     },
     "af98b68f3ac34e28bfb6eb2a81dcd171": {
      "model_module": "@jupyter-widgets/controls",
      "model_module_version": "2.0.0",
      "model_name": "FloatProgressModel",
      "state": {
       "bar_style": "success",
       "layout": "IPY_MODEL_d0149fbb8f0a43d3bf0b7c9e930903ee",
       "style": "IPY_MODEL_0f199baaa68a462c98ef397b0ba69668",
       "value": 100
      }
     },
     "aff056eddf7f41a3b99c767db141206c": {
      "model_module": "@jupyter-widgets/controls",
      "model_module_version": "2.0.0",
      "model_name": "HBoxModel",
      "state": {
       "children": [
        "IPY_MODEL_cc0234fef24b4a5d999cf71bffca6c13",
        "IPY_MODEL_d89e7fc0831a4ba2ba2b7eeaeb61c638",
        "IPY_MODEL_fbb4f0f322d94d96b54ea0444f294dbb"
       ],
       "layout": "IPY_MODEL_de54e3fa18784fa19a56d0016f47bca0"
      }
     },
     "b03daeee7ca0434a8c198230b0fc9862": {
      "model_module": "@jupyter-widgets/base",
      "model_module_version": "2.0.0",
      "model_name": "LayoutModel",
      "state": {}
     },
     "b1b7d544daa548a39564657813a8b806": {
      "model_module": "@jupyter-widgets/controls",
      "model_module_version": "2.0.0",
      "model_name": "ProgressStyleModel",
      "state": {
       "description_width": ""
      }
     },
     "b1b8b7d3854a46fe892ab84b20997096": {
      "model_module": "@jupyter-widgets/base",
      "model_module_version": "2.0.0",
      "model_name": "LayoutModel",
      "state": {}
     },
     "b21e9457a98d45c9aae6403ecce4d905": {
      "model_module": "@jupyter-widgets/controls",
      "model_module_version": "2.0.0",
      "model_name": "HTMLModel",
      "state": {
       "layout": "IPY_MODEL_6b63e1ce706641bdb35a4a80d384d7b2",
       "style": "IPY_MODEL_d9f5867ce06c45299f0c6f6eb41534a7",
       "value": " 100/100 [00:00&lt;00:00, 274.88it/s]"
      }
     },
     "b262ec1828474e4ba610951b25d488fa": {
      "model_module": "@jupyter-widgets/controls",
      "model_module_version": "2.0.0",
      "model_name": "HTMLModel",
      "state": {
       "layout": "IPY_MODEL_8659055808d845259fe4572ffd307b39",
       "style": "IPY_MODEL_db92ecbf43ae4ac69d2324b054729fbd",
       "value": "100%"
      }
     },
     "b28d37bcc82b4ba6b804dd7aa5d6e1e1": {
      "model_module": "@jupyter-widgets/controls",
      "model_module_version": "2.0.0",
      "model_name": "HTMLModel",
      "state": {
       "layout": "IPY_MODEL_0199a525b22c43a9b334a1a39c57cd71",
       "style": "IPY_MODEL_1d305722123842e5a5dfe0987beb0163",
       "value": "100%"
      }
     },
     "b2f41edfd6a94274a4b9c327f41cacfd": {
      "model_module": "@jupyter-widgets/controls",
      "model_module_version": "2.0.0",
      "model_name": "HTMLModel",
      "state": {
       "layout": "IPY_MODEL_34b602b3edf04b29b050af94b39c13c1",
       "style": "IPY_MODEL_b5c94b843f044432a9e2d65ac1e7c272",
       "value": " 100/100 [00:00&lt;00:00, 283.47it/s]"
      }
     },
     "b305086273af4332b2ba1d49042be24b": {
      "model_module": "@jupyter-widgets/controls",
      "model_module_version": "2.0.0",
      "model_name": "HTMLModel",
      "state": {
       "layout": "IPY_MODEL_893fdee787534640ad7d96ebc72c8840",
       "style": "IPY_MODEL_e96aee44662c4a649110dc274ffa833f",
       "value": "100%"
      }
     },
     "b318e1ff02a34e1db1f47f5d1815a08b": {
      "model_module": "@jupyter-widgets/controls",
      "model_module_version": "2.0.0",
      "model_name": "ProgressStyleModel",
      "state": {
       "description_width": ""
      }
     },
     "b34ea1ae112a4ef1b583772e66b09992": {
      "model_module": "@jupyter-widgets/controls",
      "model_module_version": "2.0.0",
      "model_name": "ProgressStyleModel",
      "state": {
       "description_width": ""
      }
     },
     "b42a7caa8c5842f8a58760b0cb21e6d0": {
      "model_module": "@jupyter-widgets/controls",
      "model_module_version": "2.0.0",
      "model_name": "HTMLModel",
      "state": {
       "layout": "IPY_MODEL_19cb014da32848aca8f321e6be77406e",
       "style": "IPY_MODEL_e3b2225054ed425a9696723254a6d26e",
       "value": "100%"
      }
     },
     "b45d7021a2b34c09b295b7595e68e27e": {
      "model_module": "@jupyter-widgets/controls",
      "model_module_version": "2.0.0",
      "model_name": "ProgressStyleModel",
      "state": {
       "description_width": ""
      }
     },
     "b57bdf4379bd44e3af298a9583aa7b76": {
      "model_module": "@jupyter-widgets/controls",
      "model_module_version": "2.0.0",
      "model_name": "HTMLModel",
      "state": {
       "layout": "IPY_MODEL_9552d6d4732545219c71985804e8b286",
       "style": "IPY_MODEL_429317a020f444f5b3130c830154b8b7",
       "value": "100%"
      }
     },
     "b5c94b843f044432a9e2d65ac1e7c272": {
      "model_module": "@jupyter-widgets/controls",
      "model_module_version": "2.0.0",
      "model_name": "HTMLStyleModel",
      "state": {
       "description_width": "",
       "font_size": null,
       "text_color": null
      }
     },
     "b646651ed54747bd863e7f2ecd9acadc": {
      "model_module": "@jupyter-widgets/controls",
      "model_module_version": "2.0.0",
      "model_name": "ProgressStyleModel",
      "state": {
       "description_width": ""
      }
     },
     "b65739e02f5c4a599ca24c9e90fea490": {
      "model_module": "@jupyter-widgets/controls",
      "model_module_version": "2.0.0",
      "model_name": "ProgressStyleModel",
      "state": {
       "description_width": ""
      }
     },
     "b6be592a94414dfeaaef11d6c99914b2": {
      "model_module": "@jupyter-widgets/controls",
      "model_module_version": "2.0.0",
      "model_name": "ProgressStyleModel",
      "state": {
       "description_width": ""
      }
     },
     "b7560058096748f58075aa710605f83d": {
      "model_module": "@jupyter-widgets/controls",
      "model_module_version": "2.0.0",
      "model_name": "HBoxModel",
      "state": {
       "children": [
        "IPY_MODEL_b305086273af4332b2ba1d49042be24b",
        "IPY_MODEL_f78697a3c8df4ca7904646de24472b2e",
        "IPY_MODEL_794da26e05064e99b97f2a1aa018181e"
       ],
       "layout": "IPY_MODEL_6d904d95e09c4b29a388db7cdf303178"
      }
     },
     "b77d31fea1284d50aeb1689c67916bdd": {
      "model_module": "@jupyter-widgets/controls",
      "model_module_version": "2.0.0",
      "model_name": "HTMLModel",
      "state": {
       "layout": "IPY_MODEL_923a969e89794fe6962518eab1f413ca",
       "style": "IPY_MODEL_10d050d1a3004ed3b213c65c93ad580c",
       "value": " 100/100 [00:00&lt;00:00, 277.97it/s]"
      }
     },
     "b7e1a7274940427ca6260fadc2366892": {
      "model_module": "@jupyter-widgets/controls",
      "model_module_version": "2.0.0",
      "model_name": "HTMLStyleModel",
      "state": {
       "description_width": "",
       "font_size": null,
       "text_color": null
      }
     },
     "b8abc6b431dd4903b8a5ac779de0507a": {
      "model_module": "@jupyter-widgets/base",
      "model_module_version": "2.0.0",
      "model_name": "LayoutModel",
      "state": {}
     },
     "b94dee7dfa0b45218dbd03c46e64c8fb": {
      "model_module": "@jupyter-widgets/base",
      "model_module_version": "2.0.0",
      "model_name": "LayoutModel",
      "state": {}
     },
     "b98d01b72ccd4a368c2c31f56c27d659": {
      "model_module": "@jupyter-widgets/base",
      "model_module_version": "2.0.0",
      "model_name": "LayoutModel",
      "state": {}
     },
     "bc2899cdf1e145598fee30f0f8e01e53": {
      "model_module": "@jupyter-widgets/base",
      "model_module_version": "2.0.0",
      "model_name": "LayoutModel",
      "state": {}
     },
     "bc5b5d95f65f433f97e7b5aa49a5484a": {
      "model_module": "@jupyter-widgets/base",
      "model_module_version": "2.0.0",
      "model_name": "LayoutModel",
      "state": {}
     },
     "be6aad3f49674764acaebf16cd62487a": {
      "model_module": "@jupyter-widgets/base",
      "model_module_version": "2.0.0",
      "model_name": "LayoutModel",
      "state": {}
     },
     "c13dabafd24b4f8c852b676a3c52f348": {
      "model_module": "@jupyter-widgets/base",
      "model_module_version": "2.0.0",
      "model_name": "LayoutModel",
      "state": {}
     },
     "c2100ec0d4a84cc0859cf4d2f0c6c7cb": {
      "model_module": "@jupyter-widgets/controls",
      "model_module_version": "2.0.0",
      "model_name": "FloatProgressModel",
      "state": {
       "bar_style": "success",
       "layout": "IPY_MODEL_c447041446a14eb3adf21b877e1b59ab",
       "style": "IPY_MODEL_7481f783e970487b9c9f7ac70a8c9e57",
       "value": 100
      }
     },
     "c447041446a14eb3adf21b877e1b59ab": {
      "model_module": "@jupyter-widgets/base",
      "model_module_version": "2.0.0",
      "model_name": "LayoutModel",
      "state": {}
     },
     "c4e07f9976eb4210beab69a0112f067e": {
      "model_module": "@jupyter-widgets/base",
      "model_module_version": "2.0.0",
      "model_name": "LayoutModel",
      "state": {}
     },
     "c811275f66034a4f8ce1a93a0ac060b1": {
      "model_module": "@jupyter-widgets/controls",
      "model_module_version": "2.0.0",
      "model_name": "HTMLModel",
      "state": {
       "layout": "IPY_MODEL_b98d01b72ccd4a368c2c31f56c27d659",
       "style": "IPY_MODEL_22f044e3e2244dfda523b30e28d39394",
       "value": "100%"
      }
     },
     "c91cba8f70cc4492a0ad35c68ddcb9d9": {
      "model_module": "@jupyter-widgets/base",
      "model_module_version": "2.0.0",
      "model_name": "LayoutModel",
      "state": {}
     },
     "cb1cbe51b2384a1c874ac46bda081196": {
      "model_module": "@jupyter-widgets/base",
      "model_module_version": "2.0.0",
      "model_name": "LayoutModel",
      "state": {}
     },
     "cb380c866d8349d8b323c5d9f0bd0e1a": {
      "model_module": "@jupyter-widgets/controls",
      "model_module_version": "2.0.0",
      "model_name": "HBoxModel",
      "state": {
       "children": [
        "IPY_MODEL_b262ec1828474e4ba610951b25d488fa",
        "IPY_MODEL_f9325ba02dea484cb40528d8c48a0d50",
        "IPY_MODEL_89e7aa5baf354ea5a1e85e7ca40a26db"
       ],
       "layout": "IPY_MODEL_0362c7af7ed6413eb82f8ef3a4988ad5"
      }
     },
     "cc019ab1b75a46f3828e2fe5650eaea3": {
      "model_module": "@jupyter-widgets/controls",
      "model_module_version": "2.0.0",
      "model_name": "FloatProgressModel",
      "state": {
       "bar_style": "success",
       "layout": "IPY_MODEL_8326a9a4f9dd42839f1fd13d571b84bd",
       "style": "IPY_MODEL_5499b8cc907a429288e539bd365ca0a7",
       "value": 100
      }
     },
     "cc0234fef24b4a5d999cf71bffca6c13": {
      "model_module": "@jupyter-widgets/controls",
      "model_module_version": "2.0.0",
      "model_name": "HTMLModel",
      "state": {
       "layout": "IPY_MODEL_7a5045323d6e42fa836a243a613d00aa",
       "style": "IPY_MODEL_124032f576e840d1959b1120ad9790b6",
       "value": "100%"
      }
     },
     "cc3dff7ca7ec40b69fb3ea48f129b425": {
      "model_module": "@jupyter-widgets/controls",
      "model_module_version": "2.0.0",
      "model_name": "HTMLStyleModel",
      "state": {
       "description_width": "",
       "font_size": null,
       "text_color": null
      }
     },
     "ccd3debe0d78478299343a4aea399197": {
      "model_module": "@jupyter-widgets/base",
      "model_module_version": "2.0.0",
      "model_name": "LayoutModel",
      "state": {}
     },
     "ccd92ac5ac3e44bd8e1bf06ae9f0cb5e": {
      "model_module": "@jupyter-widgets/controls",
      "model_module_version": "2.0.0",
      "model_name": "HTMLStyleModel",
      "state": {
       "description_width": "",
       "font_size": null,
       "text_color": null
      }
     },
     "cd5a1edd92ee452da863a779aa219806": {
      "model_module": "@jupyter-widgets/base",
      "model_module_version": "2.0.0",
      "model_name": "LayoutModel",
      "state": {}
     },
     "cdc1c2060dbc4b21ac142e33bf21fc5e": {
      "model_module": "@jupyter-widgets/controls",
      "model_module_version": "2.0.0",
      "model_name": "HTMLStyleModel",
      "state": {
       "description_width": "",
       "font_size": null,
       "text_color": null
      }
     },
     "ce4670cdc1754c55a7e487f092c7447f": {
      "model_module": "@jupyter-widgets/controls",
      "model_module_version": "2.0.0",
      "model_name": "HTMLStyleModel",
      "state": {
       "description_width": "",
       "font_size": null,
       "text_color": null
      }
     },
     "ce5b954dcc80442a83e83381545ffb18": {
      "model_module": "@jupyter-widgets/controls",
      "model_module_version": "2.0.0",
      "model_name": "ProgressStyleModel",
      "state": {
       "description_width": ""
      }
     },
     "ce6e36de0d074478b9d791bbc40a544a": {
      "model_module": "@jupyter-widgets/controls",
      "model_module_version": "2.0.0",
      "model_name": "HTMLStyleModel",
      "state": {
       "description_width": "",
       "font_size": null,
       "text_color": null
      }
     },
     "cf65d87aa2ce4a37a8145c42c5dfc35d": {
      "model_module": "@jupyter-widgets/base",
      "model_module_version": "2.0.0",
      "model_name": "LayoutModel",
      "state": {}
     },
     "d0149fbb8f0a43d3bf0b7c9e930903ee": {
      "model_module": "@jupyter-widgets/base",
      "model_module_version": "2.0.0",
      "model_name": "LayoutModel",
      "state": {}
     },
     "d1b23b06d4514094bf4754c14f7f8d95": {
      "model_module": "@jupyter-widgets/controls",
      "model_module_version": "2.0.0",
      "model_name": "FloatProgressModel",
      "state": {
       "bar_style": "success",
       "layout": "IPY_MODEL_4dde01e2669d4c1aa74d94c334dd50bf",
       "style": "IPY_MODEL_35e8733d638648e1818134de17801113",
       "value": 100
      }
     },
     "d2114f590e5948c89b868652106557a2": {
      "model_module": "@jupyter-widgets/controls",
      "model_module_version": "2.0.0",
      "model_name": "HTMLStyleModel",
      "state": {
       "description_width": "",
       "font_size": null,
       "text_color": null
      }
     },
     "d2129d47e6ca4f339e5f010c112cedf4": {
      "model_module": "@jupyter-widgets/base",
      "model_module_version": "2.0.0",
      "model_name": "LayoutModel",
      "state": {}
     },
     "d257db5aa1b64540979adc2202a89e86": {
      "model_module": "@jupyter-widgets/controls",
      "model_module_version": "2.0.0",
      "model_name": "HTMLStyleModel",
      "state": {
       "description_width": "",
       "font_size": null,
       "text_color": null
      }
     },
     "d33abc137f464c19a0a90b58d9eadea3": {
      "model_module": "@jupyter-widgets/base",
      "model_module_version": "2.0.0",
      "model_name": "LayoutModel",
      "state": {}
     },
     "d34a2d434baf4376b034cb666f1660b0": {
      "model_module": "@jupyter-widgets/base",
      "model_module_version": "2.0.0",
      "model_name": "LayoutModel",
      "state": {}
     },
     "d36d249f5c4e4f27979c5e83e4b6d0b3": {
      "model_module": "@jupyter-widgets/base",
      "model_module_version": "2.0.0",
      "model_name": "LayoutModel",
      "state": {}
     },
     "d48564de6ef24402bfdb40c70d8b9faf": {
      "model_module": "@jupyter-widgets/controls",
      "model_module_version": "2.0.0",
      "model_name": "HTMLModel",
      "state": {
       "layout": "IPY_MODEL_4a3ceb2daec6415b8219d00f5f6fd309",
       "style": "IPY_MODEL_d2114f590e5948c89b868652106557a2",
       "value": "100%"
      }
     },
     "d4bfc0bf9aa348df9139b99f8e3ece34": {
      "model_module": "@jupyter-widgets/base",
      "model_module_version": "2.0.0",
      "model_name": "LayoutModel",
      "state": {}
     },
     "d50b6f1dc85049d29218e6099bb988a7": {
      "model_module": "@jupyter-widgets/base",
      "model_module_version": "2.0.0",
      "model_name": "LayoutModel",
      "state": {}
     },
     "d51b6ac7c7364198adf8ef700aa3c3ba": {
      "model_module": "@jupyter-widgets/base",
      "model_module_version": "2.0.0",
      "model_name": "LayoutModel",
      "state": {}
     },
     "d89e7fc0831a4ba2ba2b7eeaeb61c638": {
      "model_module": "@jupyter-widgets/controls",
      "model_module_version": "2.0.0",
      "model_name": "FloatProgressModel",
      "state": {
       "bar_style": "success",
       "layout": "IPY_MODEL_f7d5eebc2b4349d185d930e44b1c5216",
       "style": "IPY_MODEL_6b80513627644b1e913e5901e6aa61a5",
       "value": 100
      }
     },
     "d9369a2930fa4a6bb19a309588943e28": {
      "model_module": "@jupyter-widgets/base",
      "model_module_version": "2.0.0",
      "model_name": "LayoutModel",
      "state": {}
     },
     "d95f7bbf96f347508b027eec8fb6f1b4": {
      "model_module": "@jupyter-widgets/base",
      "model_module_version": "2.0.0",
      "model_name": "LayoutModel",
      "state": {}
     },
     "d9f5867ce06c45299f0c6f6eb41534a7": {
      "model_module": "@jupyter-widgets/controls",
      "model_module_version": "2.0.0",
      "model_name": "HTMLStyleModel",
      "state": {
       "description_width": "",
       "font_size": null,
       "text_color": null
      }
     },
     "daa24d83c85e4511958179fefe70a5da": {
      "model_module": "@jupyter-widgets/base",
      "model_module_version": "2.0.0",
      "model_name": "LayoutModel",
      "state": {}
     },
     "db45e3f51c634eda9b4378a73f303435": {
      "model_module": "@jupyter-widgets/controls",
      "model_module_version": "2.0.0",
      "model_name": "HBoxModel",
      "state": {
       "children": [
        "IPY_MODEL_b42a7caa8c5842f8a58760b0cb21e6d0",
        "IPY_MODEL_a3ed70c4abf04d7aa38dc64d2aa9ddcc",
        "IPY_MODEL_dcc284b5d19748b1ae3ef2f9e9b2f9d5"
       ],
       "layout": "IPY_MODEL_6a69ad6d036141f3be04ae93187973ea"
      }
     },
     "db92ecbf43ae4ac69d2324b054729fbd": {
      "model_module": "@jupyter-widgets/controls",
      "model_module_version": "2.0.0",
      "model_name": "HTMLStyleModel",
      "state": {
       "description_width": "",
       "font_size": null,
       "text_color": null
      }
     },
     "db9b3d4b547d4ffe9e7260cafb24fbb8": {
      "model_module": "@jupyter-widgets/base",
      "model_module_version": "2.0.0",
      "model_name": "LayoutModel",
      "state": {}
     },
     "dcc284b5d19748b1ae3ef2f9e9b2f9d5": {
      "model_module": "@jupyter-widgets/controls",
      "model_module_version": "2.0.0",
      "model_name": "HTMLModel",
      "state": {
       "layout": "IPY_MODEL_38f5a7c1d02742ee991394aca67fd764",
       "style": "IPY_MODEL_e4650c1591414812aceffed210771df0",
       "value": " 100/100 [00:00&lt;00:00, 396.05it/s]"
      }
     },
     "dcc33e67651647ec980a446a1ebf260b": {
      "model_module": "@jupyter-widgets/base",
      "model_module_version": "2.0.0",
      "model_name": "LayoutModel",
      "state": {}
     },
     "dd327077000545cb846c4f62dff5335a": {
      "model_module": "@jupyter-widgets/base",
      "model_module_version": "2.0.0",
      "model_name": "LayoutModel",
      "state": {}
     },
     "ddadd6f102684d91826e317eb530354c": {
      "model_module": "@jupyter-widgets/base",
      "model_module_version": "2.0.0",
      "model_name": "LayoutModel",
      "state": {}
     },
     "de54e3fa18784fa19a56d0016f47bca0": {
      "model_module": "@jupyter-widgets/base",
      "model_module_version": "2.0.0",
      "model_name": "LayoutModel",
      "state": {}
     },
     "df31136c26de4153b6b4faad51646d14": {
      "model_module": "@jupyter-widgets/controls",
      "model_module_version": "2.0.0",
      "model_name": "HTMLModel",
      "state": {
       "layout": "IPY_MODEL_3f40fc84e6f2455ebcc15f88a66a2ab3",
       "style": "IPY_MODEL_037d6082ee074da896fdf4c07f0ef779",
       "value": " 100/100 [00:00&lt;00:00, 389.33it/s]"
      }
     },
     "e27f1e57166c47f58eb898e0cb479851": {
      "model_module": "@jupyter-widgets/controls",
      "model_module_version": "2.0.0",
      "model_name": "HTMLStyleModel",
      "state": {
       "description_width": "",
       "font_size": null,
       "text_color": null
      }
     },
     "e2ee455f7803459ba663e224e7dcf1a8": {
      "model_module": "@jupyter-widgets/base",
      "model_module_version": "2.0.0",
      "model_name": "LayoutModel",
      "state": {}
     },
     "e3b2225054ed425a9696723254a6d26e": {
      "model_module": "@jupyter-widgets/controls",
      "model_module_version": "2.0.0",
      "model_name": "HTMLStyleModel",
      "state": {
       "description_width": "",
       "font_size": null,
       "text_color": null
      }
     },
     "e45e66207c41451482f556fa4ae70324": {
      "model_module": "@jupyter-widgets/base",
      "model_module_version": "2.0.0",
      "model_name": "LayoutModel",
      "state": {}
     },
     "e4650c1591414812aceffed210771df0": {
      "model_module": "@jupyter-widgets/controls",
      "model_module_version": "2.0.0",
      "model_name": "HTMLStyleModel",
      "state": {
       "description_width": "",
       "font_size": null,
       "text_color": null
      }
     },
     "e483e392604f4008b6988ab6a2782a94": {
      "model_module": "@jupyter-widgets/base",
      "model_module_version": "2.0.0",
      "model_name": "LayoutModel",
      "state": {}
     },
     "e4b26098004c4904853c186be2c8da95": {
      "model_module": "@jupyter-widgets/base",
      "model_module_version": "2.0.0",
      "model_name": "LayoutModel",
      "state": {}
     },
     "e519a5856a7f45e183461cbc1718265b": {
      "model_module": "@jupyter-widgets/controls",
      "model_module_version": "2.0.0",
      "model_name": "FloatProgressModel",
      "state": {
       "bar_style": "success",
       "layout": "IPY_MODEL_b94dee7dfa0b45218dbd03c46e64c8fb",
       "style": "IPY_MODEL_4fa4a1153bd54b3fb04294bb085907ac",
       "value": 100
      }
     },
     "e53c5615ca044fdf9ba8e44a485cf837": {
      "model_module": "@jupyter-widgets/controls",
      "model_module_version": "2.0.0",
      "model_name": "FloatProgressModel",
      "state": {
       "bar_style": "success",
       "layout": "IPY_MODEL_41c87df41bfc4ec3970d6c49c656e4ef",
       "style": "IPY_MODEL_b646651ed54747bd863e7f2ecd9acadc",
       "value": 100
      }
     },
     "e7715bb1200e4ed59595b4a0cd0017aa": {
      "model_module": "@jupyter-widgets/controls",
      "model_module_version": "2.0.0",
      "model_name": "HTMLStyleModel",
      "state": {
       "description_width": "",
       "font_size": null,
       "text_color": null
      }
     },
     "e7a5537dce4a45a5b3979cc1b88317db": {
      "model_module": "@jupyter-widgets/controls",
      "model_module_version": "2.0.0",
      "model_name": "HTMLModel",
      "state": {
       "layout": "IPY_MODEL_d2129d47e6ca4f339e5f010c112cedf4",
       "style": "IPY_MODEL_ccd92ac5ac3e44bd8e1bf06ae9f0cb5e",
       "value": "100%"
      }
     },
     "e7b7e2bc61ab4b4eb6dbb240707a4f18": {
      "model_module": "@jupyter-widgets/controls",
      "model_module_version": "2.0.0",
      "model_name": "HBoxModel",
      "state": {
       "children": [
        "IPY_MODEL_85a1f451bbdd47c7b211853ebddea1ca",
        "IPY_MODEL_2ff96228a2e64d72a1f50a7ccb785a4b",
        "IPY_MODEL_90fdfc2961b64cc08b8a6370b6a61513"
       ],
       "layout": "IPY_MODEL_08df6fe25f0d473fbb5559ff8db61852"
      }
     },
     "e8cdfb17460b4aba97036fa11b279900": {
      "model_module": "@jupyter-widgets/controls",
      "model_module_version": "2.0.0",
      "model_name": "HBoxModel",
      "state": {
       "children": [
        "IPY_MODEL_0b811a13b6db49bf8b12e01afa699f60",
        "IPY_MODEL_fe431be6d9aa459399177af5a18bfe4b",
        "IPY_MODEL_2a0f44fa73e94b7b8f1093179e32e546"
       ],
       "layout": "IPY_MODEL_dcc33e67651647ec980a446a1ebf260b"
      }
     },
     "e96aee44662c4a649110dc274ffa833f": {
      "model_module": "@jupyter-widgets/controls",
      "model_module_version": "2.0.0",
      "model_name": "HTMLStyleModel",
      "state": {
       "description_width": "",
       "font_size": null,
       "text_color": null
      }
     },
     "eabca401b82149cc8c66ba94871d1bac": {
      "model_module": "@jupyter-widgets/base",
      "model_module_version": "2.0.0",
      "model_name": "LayoutModel",
      "state": {}
     },
     "ec61c9ef320343e69921ce8fe9f19990": {
      "model_module": "@jupyter-widgets/base",
      "model_module_version": "2.0.0",
      "model_name": "LayoutModel",
      "state": {}
     },
     "ee50364c4b7d4f359cfa593f324b5bc0": {
      "model_module": "@jupyter-widgets/base",
      "model_module_version": "2.0.0",
      "model_name": "LayoutModel",
      "state": {}
     },
     "f056222948884b469312188680621214": {
      "model_module": "@jupyter-widgets/controls",
      "model_module_version": "2.0.0",
      "model_name": "HTMLModel",
      "state": {
       "layout": "IPY_MODEL_773f846eefff4284be702399a6c12a6b",
       "style": "IPY_MODEL_cdc1c2060dbc4b21ac142e33bf21fc5e",
       "value": " 100/100 [00:00&lt;00:00, 406.77it/s]"
      }
     },
     "f207061218df457d9ced4d8a70b336fb": {
      "model_module": "@jupyter-widgets/controls",
      "model_module_version": "2.0.0",
      "model_name": "HTMLStyleModel",
      "state": {
       "description_width": "",
       "font_size": null,
       "text_color": null
      }
     },
     "f6ce00fe3f8c40d2bcf3d6cc5a8bce53": {
      "model_module": "@jupyter-widgets/controls",
      "model_module_version": "2.0.0",
      "model_name": "HTMLModel",
      "state": {
       "layout": "IPY_MODEL_ec61c9ef320343e69921ce8fe9f19990",
       "style": "IPY_MODEL_cc3dff7ca7ec40b69fb3ea48f129b425",
       "value": " 100/100 [00:00&lt;00:00, 271.85it/s]"
      }
     },
     "f780fbef1887475298772f57b4aa0b34": {
      "model_module": "@jupyter-widgets/controls",
      "model_module_version": "2.0.0",
      "model_name": "HBoxModel",
      "state": {
       "children": [
        "IPY_MODEL_b28d37bcc82b4ba6b804dd7aa5d6e1e1",
        "IPY_MODEL_8d98c6421a23479e80dc6a8da3158b36",
        "IPY_MODEL_51478b31a15240e5839a0c1e05356508"
       ],
       "layout": "IPY_MODEL_e4b26098004c4904853c186be2c8da95"
      }
     },
     "f78697a3c8df4ca7904646de24472b2e": {
      "model_module": "@jupyter-widgets/controls",
      "model_module_version": "2.0.0",
      "model_name": "FloatProgressModel",
      "state": {
       "bar_style": "success",
       "layout": "IPY_MODEL_d36d249f5c4e4f27979c5e83e4b6d0b3",
       "style": "IPY_MODEL_b6be592a94414dfeaaef11d6c99914b2",
       "value": 100
      }
     },
     "f7d5eebc2b4349d185d930e44b1c5216": {
      "model_module": "@jupyter-widgets/base",
      "model_module_version": "2.0.0",
      "model_name": "LayoutModel",
      "state": {}
     },
     "f9325ba02dea484cb40528d8c48a0d50": {
      "model_module": "@jupyter-widgets/controls",
      "model_module_version": "2.0.0",
      "model_name": "FloatProgressModel",
      "state": {
       "bar_style": "success",
       "layout": "IPY_MODEL_d50b6f1dc85049d29218e6099bb988a7",
       "style": "IPY_MODEL_8d33a672a7fb42ccbbe437a856ad4c57",
       "value": 100
      }
     },
     "f9ef885ff0404dcdb51782054cf956ad": {
      "model_module": "@jupyter-widgets/controls",
      "model_module_version": "2.0.0",
      "model_name": "HBoxModel",
      "state": {
       "children": [
        "IPY_MODEL_82ff6a9255ed441fbf031dd9bb81b01c",
        "IPY_MODEL_5f6864d9ccf045059403bc0de89e06ce",
        "IPY_MODEL_3a7a77a5918a4ce8b7c194201e56acc2"
       ],
       "layout": "IPY_MODEL_be6aad3f49674764acaebf16cd62487a"
      }
     },
     "f9fc248273974fc8a71ee5049c57ad6c": {
      "model_module": "@jupyter-widgets/controls",
      "model_module_version": "2.0.0",
      "model_name": "HBoxModel",
      "state": {
       "children": [
        "IPY_MODEL_707cb597ffed412181a9aa8af36bb3d3",
        "IPY_MODEL_5c18e202ee6f4d69b4ccc6308f39143f",
        "IPY_MODEL_6b714aa4d52a49688529e7574bb666fb"
       ],
       "layout": "IPY_MODEL_59f1d4fa39f14a85909935aab98a511a"
      }
     },
     "faf6b53a2d744c029098a3b053fdbb3d": {
      "model_module": "@jupyter-widgets/controls",
      "model_module_version": "2.0.0",
      "model_name": "HTMLStyleModel",
      "state": {
       "description_width": "",
       "font_size": null,
       "text_color": null
      }
     },
     "fbb4f0f322d94d96b54ea0444f294dbb": {
      "model_module": "@jupyter-widgets/controls",
      "model_module_version": "2.0.0",
      "model_name": "HTMLModel",
      "state": {
       "layout": "IPY_MODEL_95d3265a279946af8d7826e991475c3e",
       "style": "IPY_MODEL_937ae38af9034b8d9b5d8c7fca9b726a",
       "value": " 100/100 [00:00&lt;00:00, 412.46it/s]"
      }
     },
     "fe431be6d9aa459399177af5a18bfe4b": {
      "model_module": "@jupyter-widgets/controls",
      "model_module_version": "2.0.0",
      "model_name": "FloatProgressModel",
      "state": {
       "bar_style": "success",
       "layout": "IPY_MODEL_a66fe65470ab4b9e9fc4d57bae362264",
       "style": "IPY_MODEL_b318e1ff02a34e1db1f47f5d1815a08b",
       "value": 100
      }
     }
    },
    "version_major": 2,
    "version_minor": 0
   }
  }
 },
 "nbformat": 4,
 "nbformat_minor": 5
}
