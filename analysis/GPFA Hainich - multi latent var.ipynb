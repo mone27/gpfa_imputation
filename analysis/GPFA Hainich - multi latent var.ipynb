{
 "cells": [
  {
   "cell_type": "markdown",
   "id": "f2e912e7-b728-4c0a-95fa-8ea6b8859578",
   "metadata": {
    "pycharm": {
     "name": "#%% md\n"
    }
   },
   "source": [
    "Trying to use more than 1 latent variable"
   ]
  },
  {
   "cell_type": "code",
   "execution_count": 1,
   "id": "03ada13f-4522-4fc1-a7ac-b023b40be150",
   "metadata": {
    "pycharm": {
     "name": "#%%\n"
    }
   },
   "outputs": [],
   "source": [
    "%load_ext autoreload\n",
    "%autoreload 2"
   ]
  },
  {
   "cell_type": "code",
   "execution_count": 113,
   "id": "192bb640-520e-4c0f-b821-4bc70c06a1bb",
   "metadata": {
    "pycharm": {
     "name": "#%%\n"
    }
   },
   "outputs": [],
   "source": [
    "from gpfa_imputation.imputation import *\n",
    "from gpfa_imputation.data_preparation import *\n",
    "\n",
    "import torch\n",
    "import pandas as pd\n",
    "import numpy as np\n",
    "from pathlib import Path\n",
    "from pyprojroot import here\n",
    "import matplotlib.pyplot as plt\n",
    "\n",
    "from IPython.display import HTML\n",
    "\n",
    "from ipywidgets import HBox, VBox, interact, widgets\n",
    "from ipywidgets.widgets import Output\n",
    "from fastcore.foundation import patch"
   ]
  },
  {
   "cell_type": "code",
   "execution_count": 3,
   "id": "f4c310a2-9cde-4c2b-ac40-e375ddff3c8b",
   "metadata": {
    "pycharm": {
     "name": "#%%\n"
    }
   },
   "outputs": [],
   "source": [
    "torch.manual_seed(27);\n",
    "np.random.seed(27);"
   ]
  },
  {
   "cell_type": "markdown",
   "id": "67c5920a-4289-4c46-8218-f29719d4d772",
   "metadata": {
    "pycharm": {
     "name": "#%% md\n"
    }
   },
   "source": [
    "## Load Data\n",
    "\n",
    "take the first 200 rows from the Hainich dataset"
   ]
  },
  {
   "cell_type": "code",
   "execution_count": 4,
   "id": "b9cb7a13-db9a-4142-b567-954eb9689489",
   "metadata": {
    "pycharm": {
     "name": "#%%\n"
    }
   },
   "outputs": [],
   "source": [
    "hai_path = Path(\"FLX_DE-Hai_FLUXNET2015_FULLSET_HH_2000-2012_1-4.csv\")\n",
    "hai_raw = pd.read_csv(here(\"data\") / hai_path, na_values=[\"-9999\", \"-9999.99\"], parse_dates=[0, 1], nrows=200)"
   ]
  },
  {
   "cell_type": "code",
   "execution_count": 5,
   "id": "c3b4a609-839a-4bd6-84a7-fa3758816797",
   "metadata": {
    "pycharm": {
     "name": "#%%\n"
    }
   },
   "outputs": [
    {
     "data": {
      "text/html": [
       "<div>\n",
       "<style scoped>\n",
       "    .dataframe tbody tr th:only-of-type {\n",
       "        vertical-align: middle;\n",
       "    }\n",
       "\n",
       "    .dataframe tbody tr th {\n",
       "        vertical-align: top;\n",
       "    }\n",
       "\n",
       "    .dataframe thead th {\n",
       "        text-align: right;\n",
       "    }\n",
       "</style>\n",
       "<table border=\"1\" class=\"dataframe\">\n",
       "  <thead>\n",
       "    <tr style=\"text-align: right;\">\n",
       "      <th></th>\n",
       "      <th>TA</th>\n",
       "      <th>SW_IN</th>\n",
       "      <th>LW_IN</th>\n",
       "      <th>VPD</th>\n",
       "    </tr>\n",
       "    <tr>\n",
       "      <th>TIMESTAMP_END</th>\n",
       "      <th></th>\n",
       "      <th></th>\n",
       "      <th></th>\n",
       "      <th></th>\n",
       "    </tr>\n",
       "  </thead>\n",
       "  <tbody>\n",
       "    <tr>\n",
       "      <th>2000-01-01 00:30:00</th>\n",
       "      <td>-0.60</td>\n",
       "      <td>0.0</td>\n",
       "      <td>302.475</td>\n",
       "      <td>0.222</td>\n",
       "    </tr>\n",
       "    <tr>\n",
       "      <th>2000-01-01 01:00:00</th>\n",
       "      <td>-0.65</td>\n",
       "      <td>0.0</td>\n",
       "      <td>302.475</td>\n",
       "      <td>0.122</td>\n",
       "    </tr>\n",
       "    <tr>\n",
       "      <th>2000-01-01 01:30:00</th>\n",
       "      <td>-0.58</td>\n",
       "      <td>0.0</td>\n",
       "      <td>301.677</td>\n",
       "      <td>0.090</td>\n",
       "    </tr>\n",
       "    <tr>\n",
       "      <th>2000-01-01 02:00:00</th>\n",
       "      <td>-0.51</td>\n",
       "      <td>0.0</td>\n",
       "      <td>301.677</td>\n",
       "      <td>0.110</td>\n",
       "    </tr>\n",
       "    <tr>\n",
       "      <th>2000-01-01 02:30:00</th>\n",
       "      <td>-0.49</td>\n",
       "      <td>0.0</td>\n",
       "      <td>301.677</td>\n",
       "      <td>0.102</td>\n",
       "    </tr>\n",
       "    <tr>\n",
       "      <th>...</th>\n",
       "      <td>...</td>\n",
       "      <td>...</td>\n",
       "      <td>...</td>\n",
       "      <td>...</td>\n",
       "    </tr>\n",
       "    <tr>\n",
       "      <th>2000-01-05 02:00:00</th>\n",
       "      <td>4.74</td>\n",
       "      <td>0.0</td>\n",
       "      <td>330.202</td>\n",
       "      <td>1.191</td>\n",
       "    </tr>\n",
       "    <tr>\n",
       "      <th>2000-01-05 02:30:00</th>\n",
       "      <td>4.75</td>\n",
       "      <td>0.0</td>\n",
       "      <td>330.202</td>\n",
       "      <td>1.057</td>\n",
       "    </tr>\n",
       "    <tr>\n",
       "      <th>2000-01-05 03:00:00</th>\n",
       "      <td>4.76</td>\n",
       "      <td>0.0</td>\n",
       "      <td>330.202</td>\n",
       "      <td>0.935</td>\n",
       "    </tr>\n",
       "    <tr>\n",
       "      <th>2000-01-05 03:30:00</th>\n",
       "      <td>4.62</td>\n",
       "      <td>0.0</td>\n",
       "      <td>330.202</td>\n",
       "      <td>1.162</td>\n",
       "    </tr>\n",
       "    <tr>\n",
       "      <th>2000-01-05 04:00:00</th>\n",
       "      <td>4.51</td>\n",
       "      <td>0.0</td>\n",
       "      <td>330.202</td>\n",
       "      <td>1.636</td>\n",
       "    </tr>\n",
       "  </tbody>\n",
       "</table>\n",
       "<p>200 rows × 4 columns</p>\n",
       "</div>"
      ],
      "text/plain": [
       "                       TA  SW_IN    LW_IN    VPD\n",
       "TIMESTAMP_END                                   \n",
       "2000-01-01 00:30:00 -0.60    0.0  302.475  0.222\n",
       "2000-01-01 01:00:00 -0.65    0.0  302.475  0.122\n",
       "2000-01-01 01:30:00 -0.58    0.0  301.677  0.090\n",
       "2000-01-01 02:00:00 -0.51    0.0  301.677  0.110\n",
       "2000-01-01 02:30:00 -0.49    0.0  301.677  0.102\n",
       "...                   ...    ...      ...    ...\n",
       "2000-01-05 02:00:00  4.74    0.0  330.202  1.191\n",
       "2000-01-05 02:30:00  4.75    0.0  330.202  1.057\n",
       "2000-01-05 03:00:00  4.76    0.0  330.202  0.935\n",
       "2000-01-05 03:30:00  4.62    0.0  330.202  1.162\n",
       "2000-01-05 04:00:00  4.51    0.0  330.202  1.636\n",
       "\n",
       "[200 rows x 4 columns]"
      ]
     },
     "execution_count": 5,
     "metadata": {},
     "output_type": "execute_result"
    }
   ],
   "source": [
    "meteo_vars = {\n",
    "    \"TA_F\": \"TA\",\n",
    "    \"SW_IN_F\": \"SW_IN\",\n",
    "    \"LW_IN_F\": \"LW_IN\",\n",
    "    \"VPD_F\": \"VPD\",\n",
    "    #\"PA\": \"PA\"\n",
    "}\n",
    "\n",
    "units = {\n",
    "    'TA': '°C',\n",
    "    'SW_IN': 'W m-2',\n",
    "    'LW_IN': 'W m-2',\n",
    "    'VPD': 'hPa'\n",
    "}\n",
    "\n",
    "hai = (hai_raw\n",
    "       .rename(columns=meteo_vars)\n",
    "       .set_index(\"TIMESTAMP_END\")\n",
    "       .loc[:, meteo_vars.values()])\n",
    "hai"
   ]
  },
  {
   "cell_type": "markdown",
   "id": "98d61e8c-fe7c-45d9-860b-cb1290a684c5",
   "metadata": {
    "pycharm": {
     "name": "#%% md\n"
    }
   },
   "source": [
    "## Random Gaps"
   ]
  },
  {
   "cell_type": "code",
   "execution_count": 6,
   "id": "46624dbe-0ecd-4b35-aadf-4e1c1f780e2d",
   "metadata": {
    "pycharm": {
     "name": "#%%\n"
    }
   },
   "outputs": [],
   "source": [
    "gpfa_data = GPFADataTest(hai[:100]).add_random_missing()"
   ]
  },
  {
   "cell_type": "code",
   "execution_count": 7,
   "id": "a9d3c9d4-8e65-4e97-ae50-a3c39ef86599",
   "metadata": {
    "pycharm": {
     "name": "#%%\n"
    }
   },
   "outputs": [],
   "source": [
    "gpfa_hai = GPFAImputation(gpfa_data.data, gpfa_data.tidy_df(complete=True, is_missing=True), latent_dims=2)"
   ]
  },
  {
   "cell_type": "code",
   "execution_count": 8,
   "id": "0a994546-2766-42c4-ab6c-77f42c4ad1dd",
   "metadata": {
    "pycharm": {
     "name": "#%%\n"
    }
   },
   "outputs": [
    {
     "data": {
      "text/plain": [
       "GPFA Imputation:\n",
       "    N obs: 100\n",
       "    N features 4 (TA, SW_IN, LW_IN, VPD)\n",
       "    N missing observations 102"
      ]
     },
     "execution_count": 8,
     "metadata": {},
     "output_type": "execute_result"
    }
   ],
   "source": [
    "gpfa_hai"
   ]
  },
  {
   "cell_type": "code",
   "execution_count": 9,
   "id": "91887565-e3af-44fc-a975-435c7f9d6a2d",
   "metadata": {
    "pycharm": {
     "name": "#%%\n"
    }
   },
   "outputs": [
    {
     "data": {
      "application/vnd.jupyter.widget-view+json": {
       "model_id": "77e18d0c939a4904b57d7afc135d14fd",
       "version_major": 2,
       "version_minor": 0
      },
      "text/plain": [
       "  0%|          | 0/100 [00:00<?, ?it/s]"
      ]
     },
     "metadata": {},
     "output_type": "display_data"
    },
    {
     "name": "stderr",
     "output_type": "stream",
     "text": [
      "/home/simone/anaconda3/envs/data-science/lib/python3.10/site-packages/gpytorch/lazy/triangular_lazy_tensor.py:136: UserWarning: torch.triangular_solve is deprecated in favor of torch.linalg.solve_triangularand will be removed in a future PyTorch release.\n",
      "torch.linalg.solve_triangular has its arguments reversed and does not return a copy of one of the inputs.\n",
      "X = torch.triangular_solve(B, A).solution\n",
      "should be replaced with\n",
      "X = torch.linalg.solve_triangular(A, B). (Triggered internally at  ../aten/src/ATen/native/BatchLinearAlgebra.cpp:2183.)\n",
      "  res = torch.triangular_solve(right_tensor, self.evaluate(), upper=self.upper).solution\n",
      "/home/simone/anaconda3/envs/data-science/lib/python3.10/site-packages/torch/autograd/__init__.py:173: UserWarning: operator() profile_node %840 : int[] = prim::profile_ivalue(%838)\n",
      " does not have profile information (Triggered internally at  ../torch/csrc/jit/codegen/cuda/graph_fuser.cpp:104.)\n",
      "  Variable._execution_engine.run_backward(  # Calls into the C++ engine to run the backward pass\n"
     ]
    },
    {
     "name": "stdout",
     "output_type": "stream",
     "text": [
      "CPU times: user 1min 58s, sys: 485 ms, total: 1min 59s\n",
      "Wall time: 1min 59s\n"
     ]
    }
   ],
   "source": [
    "%time imputed = gpfa_hai.impute()"
   ]
  },
  {
   "cell_type": "code",
   "execution_count": 10,
   "id": "ad2a27ca-5e15-465f-b10c-1620d009a05d",
   "metadata": {
    "pycharm": {
     "name": "#%%\n"
    }
   },
   "outputs": [
    {
     "data": {
      "text/html": [
       "<div>\n",
       "<style scoped>\n",
       "    .dataframe tbody tr th:only-of-type {\n",
       "        vertical-align: middle;\n",
       "    }\n",
       "\n",
       "    .dataframe tbody tr th {\n",
       "        vertical-align: top;\n",
       "    }\n",
       "\n",
       "    .dataframe thead th {\n",
       "        text-align: right;\n",
       "    }\n",
       "</style>\n",
       "<table border=\"1\" class=\"dataframe\">\n",
       "  <thead>\n",
       "    <tr style=\"text-align: right;\">\n",
       "      <th></th>\n",
       "      <th>time</th>\n",
       "      <th>variable</th>\n",
       "      <th>mean</th>\n",
       "      <th>std</th>\n",
       "    </tr>\n",
       "  </thead>\n",
       "  <tbody>\n",
       "    <tr>\n",
       "      <th>0</th>\n",
       "      <td>0.0</td>\n",
       "      <td>TA</td>\n",
       "      <td>-0.600000</td>\n",
       "      <td>NaN</td>\n",
       "    </tr>\n",
       "    <tr>\n",
       "      <th>1</th>\n",
       "      <td>2.0</td>\n",
       "      <td>TA</td>\n",
       "      <td>-0.580000</td>\n",
       "      <td>NaN</td>\n",
       "    </tr>\n",
       "    <tr>\n",
       "      <th>2</th>\n",
       "      <td>3.0</td>\n",
       "      <td>TA</td>\n",
       "      <td>-0.510000</td>\n",
       "      <td>NaN</td>\n",
       "    </tr>\n",
       "    <tr>\n",
       "      <th>3</th>\n",
       "      <td>4.0</td>\n",
       "      <td>TA</td>\n",
       "      <td>-0.490000</td>\n",
       "      <td>NaN</td>\n",
       "    </tr>\n",
       "    <tr>\n",
       "      <th>4</th>\n",
       "      <td>5.0</td>\n",
       "      <td>TA</td>\n",
       "      <td>-0.400000</td>\n",
       "      <td>NaN</td>\n",
       "    </tr>\n",
       "    <tr>\n",
       "      <th>...</th>\n",
       "      <td>...</td>\n",
       "      <td>...</td>\n",
       "      <td>...</td>\n",
       "      <td>...</td>\n",
       "    </tr>\n",
       "    <tr>\n",
       "      <th>167</th>\n",
       "      <td>88.0</td>\n",
       "      <td>VPD</td>\n",
       "      <td>0.154000</td>\n",
       "      <td>0.000000</td>\n",
       "    </tr>\n",
       "    <tr>\n",
       "      <th>168</th>\n",
       "      <td>90.0</td>\n",
       "      <td>VPD</td>\n",
       "      <td>0.156473</td>\n",
       "      <td>0.106622</td>\n",
       "    </tr>\n",
       "    <tr>\n",
       "      <th>169</th>\n",
       "      <td>94.0</td>\n",
       "      <td>VPD</td>\n",
       "      <td>0.108577</td>\n",
       "      <td>0.106607</td>\n",
       "    </tr>\n",
       "    <tr>\n",
       "      <th>170</th>\n",
       "      <td>98.0</td>\n",
       "      <td>VPD</td>\n",
       "      <td>0.000000</td>\n",
       "      <td>0.000000</td>\n",
       "    </tr>\n",
       "    <tr>\n",
       "      <th>171</th>\n",
       "      <td>99.0</td>\n",
       "      <td>VPD</td>\n",
       "      <td>0.080718</td>\n",
       "      <td>0.107333</td>\n",
       "    </tr>\n",
       "  </tbody>\n",
       "</table>\n",
       "<p>400 rows × 4 columns</p>\n",
       "</div>"
      ],
      "text/plain": [
       "     time variable      mean       std\n",
       "0     0.0       TA -0.600000       NaN\n",
       "1     2.0       TA -0.580000       NaN\n",
       "2     3.0       TA -0.510000       NaN\n",
       "3     4.0       TA -0.490000       NaN\n",
       "4     5.0       TA -0.400000       NaN\n",
       "..    ...      ...       ...       ...\n",
       "167  88.0      VPD  0.154000  0.000000\n",
       "168  90.0      VPD  0.156473  0.106622\n",
       "169  94.0      VPD  0.108577  0.106607\n",
       "170  98.0      VPD  0.000000  0.000000\n",
       "171  99.0      VPD  0.080718  0.107333\n",
       "\n",
       "[400 rows x 4 columns]"
      ]
     },
     "execution_count": 10,
     "metadata": {},
     "output_type": "execute_result"
    }
   ],
   "source": [
    "imputed"
   ]
  },
  {
   "cell_type": "code",
   "execution_count": 85,
   "id": "212b6e54-209c-4c7b-8496-0a7b26891fda",
   "metadata": {},
   "outputs": [],
   "source": [
    "class GPFAImputationResult:\n",
    "    \"Train GPFA Imputation and collect all result in one output\"\n",
    "    def __init__(self, data, latent_dims=1):\n",
    "        self.data = data\n",
    "        self.latent_dims = latent_dims\n",
    "        self.model = GPFAImputation(data.data, data.tidy_df(complete=True, is_missing=True), latent_dims=latent_dims)\n",
    "    def impute(self):\n",
    "        self.model.impute()\n",
    "        return self\n",
    "   "
   ]
  },
  {
   "cell_type": "code",
   "execution_count": 129,
   "id": "3372dd9e-cf25-4bca-ae65-1c39a8d32873",
   "metadata": {},
   "outputs": [
    {
     "data": {
      "application/vnd.jupyter.widget-view+json": {
       "model_id": "e95779cc7ace4ff187f59b5fee1531fe",
       "version_major": 2,
       "version_minor": 0
      },
      "text/plain": [
       "  0%|          | 0/100 [00:00<?, ?it/s]"
      ]
     },
     "metadata": {},
     "output_type": "display_data"
    }
   ],
   "source": [
    "result = GPFAImputationResult(GPFADataTest(hai[:30]).add_random_missing()).impute()"
   ]
  },
  {
   "cell_type": "code",
   "execution_count": 114,
   "id": "50c63030-c007-43aa-96f2-1728cbd5825e",
   "metadata": {},
   "outputs": [],
   "source": [
    "def _to_widget(x, title=\"\"):\n",
    "    out = Output()\n",
    "    with out:\n",
    "        display(HTML(f\"<h4>{title}</h4>\"))\n",
    "        display(x)\n",
    "    return out"
   ]
  },
  {
   "cell_type": "code",
   "execution_count": 138,
   "id": "449477b7-482c-49b7-96aa-4b03d10467a0",
   "metadata": {},
   "outputs": [],
   "source": [
    "def _style_df(df):\n",
    "    return df.style.hide(axis=\"index\")"
   ]
  },
  {
   "cell_type": "code",
   "execution_count": 149,
   "id": "ad45aa39-5ed8-4d27-b6be-23feaf3737f9",
   "metadata": {},
   "outputs": [],
   "source": [
    "@patch \n",
    "def display(self: GPFAImputationResult):\n",
    "    plot = self.model.plot_pred(units=units, properties =  {'height': 150 , 'width': 300})\n",
    "    \n",
    "    r2 = self.model.r2()\n",
    "    \n",
    "    variables = pd.DataFrame({'variable': self.data.data.columns})\n",
    "    latent_names = [f\"z{i}\" for i in range(self.latent_dims)]\n",
    "    \n",
    "    Lambda = pd.concat([\n",
    "        variables,\n",
    "        pd.DataFrame(\n",
    "            self.model.learner.model.covar_module.Lambda.detach().cpu().numpy(),\n",
    "            columns=latent_names)\n",
    "    ], axis=1)\n",
    "    \n",
    "    \n",
    "    lengthscale = pd.DataFrame({\n",
    "        'latent': latent_names,\n",
    "        'lengthscale': [self.model.learner.model.covar_module.latent_kernels[i].lengthscale.detach().item() for i in range(self.latent_dims)]\n",
    "    })\n",
    "    \n",
    "    loss = plt.plot(self.model.learner.losses)\n",
    "    \n",
    "    \n",
    "    metrics =  [_to_widget(_style_df(df), title=title) for df, title in zip([r2, Lambda, lengthscale], [\"r2\", \"Λ\", \"lengthscale\"])]\n",
    "    metrics.append(_to_widget(loss))\n",
    "    \n",
    "    bottom = HBox(metrics)\n",
    "    \n",
    "    return VBox([_to_widget(plot), bottom])\n",
    "        "
   ]
  },
  {
   "cell_type": "code",
   "execution_count": 140,
   "id": "84484ba8-a0b6-4101-8f5e-361426c42741",
   "metadata": {},
   "outputs": [
    {
     "data": {
      "application/vnd.jupyter.widget-view+json": {
       "model_id": "3fbf78686c2d447497e4f8adf7f6aca8",
       "version_major": 2,
       "version_minor": 0
      },
      "text/plain": [
       "VBox(children=(Output(), HBox(children=(Output(), Output(), Output()))))"
      ]
     },
     "execution_count": 140,
     "metadata": {},
     "output_type": "execute_result"
    }
   ],
   "source": [
    "result.display()"
   ]
  },
  {
   "cell_type": "code",
   "execution_count": 144,
   "id": "ebe723a3-2e04-44be-a96a-e5db12db3ae5",
   "metadata": {},
   "outputs": [],
   "source": [
    "data_hai = GPFADataTest(hai[:100]).add_random_missing()"
   ]
  },
  {
   "cell_type": "code",
   "execution_count": 145,
   "id": "34933824-acc8-4322-b6cd-b995e9969bf2",
   "metadata": {},
   "outputs": [
    {
     "data": {
      "application/vnd.jupyter.widget-view+json": {
       "model_id": "a7c9143eb69b4c0cb9ef50e7fb0a272e",
       "version_major": 2,
       "version_minor": 0
      },
      "text/plain": [
       "  0%|          | 0/100 [00:00<?, ?it/s]"
      ]
     },
     "metadata": {},
     "output_type": "display_data"
    },
    {
     "data": {
      "application/vnd.jupyter.widget-view+json": {
       "model_id": "ff63fef66b194571afc3226d753c573f",
       "version_major": 2,
       "version_minor": 0
      },
      "text/plain": [
       "VBox(children=(Output(), HBox(children=(Output(), Output(), Output()))))"
      ]
     },
     "execution_count": 145,
     "metadata": {},
     "output_type": "execute_result"
    }
   ],
   "source": [
    "GPFAImputationResult(data_hai, latent_dims=1).impute().display()"
   ]
  },
  {
   "cell_type": "code",
   "execution_count": 147,
   "id": "d1ff89c3-b3b7-45c5-ad29-808fccddbe5c",
   "metadata": {},
   "outputs": [
    {
     "data": {
      "application/vnd.jupyter.widget-view+json": {
       "model_id": "961f977448fc4212a5a7c64410ec08ab",
       "version_major": 2,
       "version_minor": 0
      },
      "text/plain": [
       "  0%|          | 0/100 [00:00<?, ?it/s]"
      ]
     },
     "metadata": {},
     "output_type": "display_data"
    },
    {
     "data": {
      "application/vnd.jupyter.widget-view+json": {
       "model_id": "95c2b11c723849daa552028b8c2d57e4",
       "version_major": 2,
       "version_minor": 0
      },
      "text/plain": [
       "VBox(children=(Output(), HBox(children=(Output(), Output(), Output()))))"
      ]
     },
     "execution_count": 147,
     "metadata": {},
     "output_type": "execute_result"
    }
   ],
   "source": [
    "GPFAImputationResult(data_hai, latent_dims=2).impute().display()"
   ]
  },
  {
   "cell_type": "code",
   "execution_count": 148,
   "id": "a5e8788a-96ad-4614-a810-986bc55f0c0f",
   "metadata": {},
   "outputs": [
    {
     "data": {
      "application/vnd.jupyter.widget-view+json": {
       "model_id": "75edb9f7b04f4df59fa0cd7f3be44269",
       "version_major": 2,
       "version_minor": 0
      },
      "text/plain": [
       "  0%|          | 0/100 [00:00<?, ?it/s]"
      ]
     },
     "metadata": {},
     "output_type": "display_data"
    },
    {
     "data": {
      "application/vnd.jupyter.widget-view+json": {
       "model_id": "82b97c61b6a94d4e8b4bb68ef579659c",
       "version_major": 2,
       "version_minor": 0
      },
      "text/plain": [
       "VBox(children=(Output(), HBox(children=(Output(), Output(), Output()))))"
      ]
     },
     "execution_count": 148,
     "metadata": {},
     "output_type": "execute_result"
    }
   ],
   "source": [
    "GPFAImputationResult(data_hai, latent_dims=3).impute().display()"
   ]
  },
  {
   "cell_type": "markdown",
   "id": "c6a4e113-c8aa-4980-98b2-57c83b834b1b",
   "metadata": {},
   "source": [
    "## Manual version"
   ]
  },
  {
   "cell_type": "code",
   "execution_count": null,
   "id": "a1470222-bf40-413e-86ac-6b697d45b535",
   "metadata": {
    "pycharm": {
     "name": "#%%\n"
    }
   },
   "outputs": [
    {
     "name": "stderr",
     "output_type": "stream",
     "text": [
      "/home/simone/.local/lib/python3.10/site-packages/altair/utils/core.py:317: FutureWarning: iteritems is deprecated and will be removed in a future version. Use .items instead.\n",
      "  for col_name, dtype in df.dtypes.iteritems():\n"
     ]
    },
    {
     "data": {
      "text/html": [
       "\n",
       "<div id=\"altair-viz-c62deb1b856b4e24996798812c1cd5be\"></div>\n",
       "<script type=\"text/javascript\">\n",
       "  var VEGA_DEBUG = (typeof VEGA_DEBUG == \"undefined\") ? {} : VEGA_DEBUG;\n",
       "  (function(spec, embedOpt){\n",
       "    let outputDiv = document.currentScript.previousElementSibling;\n",
       "    if (outputDiv.id !== \"altair-viz-c62deb1b856b4e24996798812c1cd5be\") {\n",
       "      outputDiv = document.getElementById(\"altair-viz-c62deb1b856b4e24996798812c1cd5be\");\n",
       "    }\n",
       "    const paths = {\n",
       "      \"vega\": \"https://cdn.jsdelivr.net/npm//vega@5?noext\",\n",
       "      \"vega-lib\": \"https://cdn.jsdelivr.net/npm//vega-lib?noext\",\n",
       "      \"vega-lite\": \"https://cdn.jsdelivr.net/npm//vega-lite@4.17.0?noext\",\n",
       "      \"vega-embed\": \"https://cdn.jsdelivr.net/npm//vega-embed@6?noext\",\n",
       "    };\n",
       "\n",
       "    function maybeLoadScript(lib, version) {\n",
       "      var key = `${lib.replace(\"-\", \"\")}_version`;\n",
       "      return (VEGA_DEBUG[key] == version) ?\n",
       "        Promise.resolve(paths[lib]) :\n",
       "        new Promise(function(resolve, reject) {\n",
       "          var s = document.createElement('script');\n",
       "          document.getElementsByTagName(\"head\")[0].appendChild(s);\n",
       "          s.async = true;\n",
       "          s.onload = () => {\n",
       "            VEGA_DEBUG[key] = version;\n",
       "            return resolve(paths[lib]);\n",
       "          };\n",
       "          s.onerror = () => reject(`Error loading script: ${paths[lib]}`);\n",
       "          s.src = paths[lib];\n",
       "        });\n",
       "    }\n",
       "\n",
       "    function showError(err) {\n",
       "      outputDiv.innerHTML = `<div class=\"error\" style=\"color:red;\">${err}</div>`;\n",
       "      throw err;\n",
       "    }\n",
       "\n",
       "    function displayChart(vegaEmbed) {\n",
       "      vegaEmbed(outputDiv, spec, embedOpt)\n",
       "        .catch(err => showError(`Javascript Error: ${err.message}<br>This usually means there's a typo in your chart specification. See the javascript console for the full traceback.`));\n",
       "    }\n",
       "\n",
       "    if(typeof define === \"function\" && define.amd) {\n",
       "      requirejs.config({paths});\n",
       "      require([\"vega-embed\"], displayChart, err => showError(`Error loading script: ${err.message}`));\n",
       "    } else {\n",
       "      maybeLoadScript(\"vega\", \"5\")\n",
       "        .then(() => maybeLoadScript(\"vega-lite\", \"4.17.0\"))\n",
       "        .then(() => maybeLoadScript(\"vega-embed\", \"6\"))\n",
       "        .catch(showError)\n",
       "        .then(() => displayChart(vegaEmbed));\n",
       "    }\n",
       "  })({\"config\": {\"view\": {\"continuousWidth\": 400, \"continuousHeight\": 300}}, \"vconcat\": [{\"hconcat\": [{\"layer\": [{\"data\": {\"name\": \"data-7ddb6c8acd69d0bebb81220e9917bc9d\"}, \"mark\": {\"type\": \"point\", \"color\": \"black\", \"fillOpacity\": 1, \"strokeWidth\": 1}, \"encoding\": {\"fill\": {\"field\": \"is_missing\", \"legend\": {\"title\": [\"Observed data\", \"(is missing)\"]}, \"scale\": {\"range\": [\"#ffffff00\", \"black\"]}, \"type\": \"nominal\"}, \"shape\": {\"field\": \"is_missing\", \"type\": \"nominal\"}, \"x\": {\"field\": \"time\", \"type\": \"quantitative\"}, \"y\": {\"field\": \"value\", \"scale\": {\"zero\": false}, \"title\": \"TA [\\u00b0C]\", \"type\": \"quantitative\"}}}, {\"layer\": [{\"mark\": \"errorband\", \"encoding\": {\"color\": {\"field\": \"variable\", \"legend\": {\"title\": [\"Line: pred. mean\", \"area: +/- 2 std\", \"(variable)\"]}, \"type\": \"nominal\"}, \"tooltip\": [{\"field\": \"std\", \"format\": \".4\", \"type\": \"quantitative\"}, {\"field\": \"mean\", \"format\": \".4\", \"type\": \"quantitative\"}], \"x\": {\"field\": \"time\", \"type\": \"quantitative\"}, \"y\": {\"field\": \"err_low\", \"scale\": {\"zero\": false}, \"title\": \"TA [\\u00b0C]\", \"type\": \"quantitative\"}, \"y2\": {\"field\": \"err_high\"}}, \"height\": 190, \"transform\": [{\"calculate\": \"datum.mean - 2 * datum.std\", \"as\": \"err_low\"}, {\"calculate\": \"datum.mean + 2 * datum.std\", \"as\": \"err_high\"}], \"width\": 380}, {\"mark\": \"line\", \"encoding\": {\"color\": {\"field\": \"variable\", \"type\": \"nominal\"}, \"x\": {\"field\": \"time\", \"type\": \"quantitative\"}, \"y\": {\"field\": \"mean\", \"scale\": {\"zero\": false}, \"title\": \"TA [\\u00b0C]\", \"type\": \"quantitative\"}}, \"selection\": {\"selector001\": {\"type\": \"interval\", \"bind\": \"scales\", \"encodings\": [\"x\"]}}, \"title\": \"TA\"}], \"data\": {\"name\": \"data-5b43a2b4093a61d96d6438f6bebdde5a\"}}]}, {\"layer\": [{\"data\": {\"name\": \"data-13d9a1913e7d5ca0e6daa2743d9035ec\"}, \"mark\": {\"type\": \"point\", \"color\": \"black\", \"fillOpacity\": 1, \"strokeWidth\": 1}, \"encoding\": {\"fill\": {\"field\": \"is_missing\", \"legend\": {\"title\": [\"Observed data\", \"(is missing)\"]}, \"scale\": {\"range\": [\"#ffffff00\", \"black\"]}, \"type\": \"nominal\"}, \"shape\": {\"field\": \"is_missing\", \"type\": \"nominal\"}, \"x\": {\"field\": \"time\", \"type\": \"quantitative\"}, \"y\": {\"field\": \"value\", \"scale\": {\"zero\": false}, \"title\": \"SW_IN [W m-2]\", \"type\": \"quantitative\"}}}, {\"layer\": [{\"mark\": \"errorband\", \"encoding\": {\"color\": {\"field\": \"variable\", \"legend\": {\"title\": [\"Line: pred. mean\", \"area: +/- 2 std\", \"(variable)\"]}, \"type\": \"nominal\"}, \"tooltip\": [{\"field\": \"std\", \"format\": \".4\", \"type\": \"quantitative\"}, {\"field\": \"mean\", \"format\": \".4\", \"type\": \"quantitative\"}], \"x\": {\"field\": \"time\", \"type\": \"quantitative\"}, \"y\": {\"field\": \"err_low\", \"scale\": {\"zero\": false}, \"title\": \"SW_IN [W m-2]\", \"type\": \"quantitative\"}, \"y2\": {\"field\": \"err_high\"}}, \"height\": 190, \"transform\": [{\"calculate\": \"datum.mean - 2 * datum.std\", \"as\": \"err_low\"}, {\"calculate\": \"datum.mean + 2 * datum.std\", \"as\": \"err_high\"}], \"width\": 380}, {\"mark\": \"line\", \"encoding\": {\"color\": {\"field\": \"variable\", \"type\": \"nominal\"}, \"x\": {\"field\": \"time\", \"type\": \"quantitative\"}, \"y\": {\"field\": \"mean\", \"scale\": {\"zero\": false}, \"title\": \"SW_IN [W m-2]\", \"type\": \"quantitative\"}}, \"selection\": {\"selector001\": {\"type\": \"interval\", \"bind\": \"scales\", \"encodings\": [\"x\"]}}, \"title\": \"SW_IN\"}], \"data\": {\"name\": \"data-0ae4d94bfbe0b3571c0a032dc430d8b4\"}}]}]}, {\"hconcat\": [{\"layer\": [{\"data\": {\"name\": \"data-0cfc44eb3d661ca894f25d35aa89f513\"}, \"mark\": {\"type\": \"point\", \"color\": \"black\", \"fillOpacity\": 1, \"strokeWidth\": 1}, \"encoding\": {\"fill\": {\"field\": \"is_missing\", \"legend\": {\"title\": [\"Observed data\", \"(is missing)\"]}, \"scale\": {\"range\": [\"#ffffff00\", \"black\"]}, \"type\": \"nominal\"}, \"shape\": {\"field\": \"is_missing\", \"type\": \"nominal\"}, \"x\": {\"field\": \"time\", \"type\": \"quantitative\"}, \"y\": {\"field\": \"value\", \"scale\": {\"zero\": false}, \"title\": \"LW_IN [W m-2]\", \"type\": \"quantitative\"}}}, {\"layer\": [{\"mark\": \"errorband\", \"encoding\": {\"color\": {\"field\": \"variable\", \"legend\": {\"title\": [\"Line: pred. mean\", \"area: +/- 2 std\", \"(variable)\"]}, \"type\": \"nominal\"}, \"tooltip\": [{\"field\": \"std\", \"format\": \".4\", \"type\": \"quantitative\"}, {\"field\": \"mean\", \"format\": \".4\", \"type\": \"quantitative\"}], \"x\": {\"field\": \"time\", \"type\": \"quantitative\"}, \"y\": {\"field\": \"err_low\", \"scale\": {\"zero\": false}, \"title\": \"LW_IN [W m-2]\", \"type\": \"quantitative\"}, \"y2\": {\"field\": \"err_high\"}}, \"height\": 190, \"transform\": [{\"calculate\": \"datum.mean - 2 * datum.std\", \"as\": \"err_low\"}, {\"calculate\": \"datum.mean + 2 * datum.std\", \"as\": \"err_high\"}], \"width\": 380}, {\"mark\": \"line\", \"encoding\": {\"color\": {\"field\": \"variable\", \"type\": \"nominal\"}, \"x\": {\"field\": \"time\", \"type\": \"quantitative\"}, \"y\": {\"field\": \"mean\", \"scale\": {\"zero\": false}, \"title\": \"LW_IN [W m-2]\", \"type\": \"quantitative\"}}, \"selection\": {\"selector001\": {\"type\": \"interval\", \"bind\": \"scales\", \"encodings\": [\"x\"]}}, \"title\": \"LW_IN\"}], \"data\": {\"name\": \"data-d11eae1355aedaed77dc4459a0767d97\"}}]}, {\"layer\": [{\"data\": {\"name\": \"data-633214945d49f06f7ae3fda4bafecde0\"}, \"mark\": {\"type\": \"point\", \"color\": \"black\", \"fillOpacity\": 1, \"strokeWidth\": 1}, \"encoding\": {\"fill\": {\"field\": \"is_missing\", \"legend\": {\"title\": [\"Observed data\", \"(is missing)\"]}, \"scale\": {\"range\": [\"#ffffff00\", \"black\"]}, \"type\": \"nominal\"}, \"shape\": {\"field\": \"is_missing\", \"type\": \"nominal\"}, \"x\": {\"field\": \"time\", \"type\": \"quantitative\"}, \"y\": {\"field\": \"value\", \"scale\": {\"zero\": false}, \"title\": \"VPD [hPa]\", \"type\": \"quantitative\"}}}, {\"layer\": [{\"mark\": \"errorband\", \"encoding\": {\"color\": {\"field\": \"variable\", \"legend\": {\"title\": [\"Line: pred. mean\", \"area: +/- 2 std\", \"(variable)\"]}, \"type\": \"nominal\"}, \"tooltip\": [{\"field\": \"std\", \"format\": \".4\", \"type\": \"quantitative\"}, {\"field\": \"mean\", \"format\": \".4\", \"type\": \"quantitative\"}], \"x\": {\"field\": \"time\", \"type\": \"quantitative\"}, \"y\": {\"field\": \"err_low\", \"scale\": {\"zero\": false}, \"title\": \"VPD [hPa]\", \"type\": \"quantitative\"}, \"y2\": {\"field\": \"err_high\"}}, \"height\": 190, \"transform\": [{\"calculate\": \"datum.mean - 2 * datum.std\", \"as\": \"err_low\"}, {\"calculate\": \"datum.mean + 2 * datum.std\", \"as\": \"err_high\"}], \"width\": 380}, {\"mark\": \"line\", \"encoding\": {\"color\": {\"field\": \"variable\", \"type\": \"nominal\"}, \"x\": {\"field\": \"time\", \"type\": \"quantitative\"}, \"y\": {\"field\": \"mean\", \"scale\": {\"zero\": false}, \"title\": \"VPD [hPa]\", \"type\": \"quantitative\"}}, \"selection\": {\"selector001\": {\"type\": \"interval\", \"bind\": \"scales\", \"encodings\": [\"x\"]}}, \"title\": \"VPD\"}], \"data\": {\"name\": \"data-2ba75caa391ef66da4ace74c1d6a53d8\"}}]}]}, {\"hconcat\": []}, {\"hconcat\": []}, {\"hconcat\": []}, {\"hconcat\": []}, {\"hconcat\": []}, {\"hconcat\": []}, {\"hconcat\": []}, {\"hconcat\": []}, {\"hconcat\": []}, {\"hconcat\": []}, {\"hconcat\": []}, {\"hconcat\": []}, {\"hconcat\": []}, {\"hconcat\": []}, {\"hconcat\": []}, {\"hconcat\": []}, {\"hconcat\": []}, {\"hconcat\": []}, {\"hconcat\": []}, {\"hconcat\": []}, {\"hconcat\": []}, {\"hconcat\": []}, {\"hconcat\": []}, {\"hconcat\": []}, {\"hconcat\": []}, {\"hconcat\": []}, {\"hconcat\": []}, {\"hconcat\": []}, {\"hconcat\": []}, {\"hconcat\": []}, {\"hconcat\": []}, {\"hconcat\": []}, {\"hconcat\": []}, {\"hconcat\": []}, {\"hconcat\": []}, {\"hconcat\": []}, {\"hconcat\": []}, {\"hconcat\": []}, {\"hconcat\": []}, {\"hconcat\": []}, {\"hconcat\": []}, {\"hconcat\": []}, {\"hconcat\": []}, {\"hconcat\": []}, {\"hconcat\": []}, {\"hconcat\": []}, {\"hconcat\": []}, {\"hconcat\": []}, {\"hconcat\": []}, {\"hconcat\": []}, {\"hconcat\": []}, {\"hconcat\": []}, {\"hconcat\": []}, {\"hconcat\": []}, {\"hconcat\": []}, {\"hconcat\": []}, {\"hconcat\": []}, {\"hconcat\": []}, {\"hconcat\": []}, {\"hconcat\": []}, {\"hconcat\": []}, {\"hconcat\": []}, {\"hconcat\": []}, {\"hconcat\": []}, {\"hconcat\": []}, {\"hconcat\": []}, {\"hconcat\": []}, {\"hconcat\": []}, {\"hconcat\": []}, {\"hconcat\": []}, {\"hconcat\": []}, {\"hconcat\": []}, {\"hconcat\": []}, {\"hconcat\": []}, {\"hconcat\": []}, {\"hconcat\": []}, {\"hconcat\": []}, {\"hconcat\": []}, {\"hconcat\": []}, {\"hconcat\": []}, {\"hconcat\": []}, {\"hconcat\": []}, {\"hconcat\": []}, {\"hconcat\": []}, {\"hconcat\": []}, {\"hconcat\": []}, {\"hconcat\": []}, {\"hconcat\": []}, {\"hconcat\": []}, {\"hconcat\": []}, {\"hconcat\": []}, {\"hconcat\": []}, {\"hconcat\": []}, {\"hconcat\": []}, {\"hconcat\": []}, {\"hconcat\": []}, {\"hconcat\": []}, {\"hconcat\": []}, {\"hconcat\": []}, {\"hconcat\": []}, {\"hconcat\": []}, {\"hconcat\": []}, {\"hconcat\": []}, {\"hconcat\": []}, {\"hconcat\": []}, {\"hconcat\": []}, {\"hconcat\": []}, {\"hconcat\": []}, {\"hconcat\": []}, {\"hconcat\": []}, {\"hconcat\": []}, {\"hconcat\": []}, {\"hconcat\": []}, {\"hconcat\": []}, {\"hconcat\": []}, {\"hconcat\": []}, {\"hconcat\": []}, {\"hconcat\": []}, {\"hconcat\": []}, {\"hconcat\": []}, {\"hconcat\": []}, {\"hconcat\": []}, {\"hconcat\": []}, {\"hconcat\": []}, {\"hconcat\": []}, {\"hconcat\": []}, {\"hconcat\": []}, {\"hconcat\": []}, {\"hconcat\": []}, {\"hconcat\": []}, {\"hconcat\": []}, {\"hconcat\": []}, {\"hconcat\": []}, {\"hconcat\": []}, {\"hconcat\": []}, {\"hconcat\": []}, {\"hconcat\": []}, {\"hconcat\": []}, {\"hconcat\": []}, {\"hconcat\": []}, {\"hconcat\": []}, {\"hconcat\": []}, {\"hconcat\": []}, {\"hconcat\": []}, {\"hconcat\": []}, {\"hconcat\": []}, {\"hconcat\": []}, {\"hconcat\": []}, {\"hconcat\": []}, {\"hconcat\": []}, {\"hconcat\": []}, {\"hconcat\": []}, {\"hconcat\": []}, {\"hconcat\": []}, {\"hconcat\": []}, {\"hconcat\": []}, {\"hconcat\": []}, {\"hconcat\": []}, {\"hconcat\": []}, {\"hconcat\": []}, {\"hconcat\": []}, {\"hconcat\": []}, {\"hconcat\": []}, {\"hconcat\": []}, {\"hconcat\": []}, {\"hconcat\": []}, {\"hconcat\": []}, {\"hconcat\": []}, {\"hconcat\": []}, {\"hconcat\": []}, {\"hconcat\": []}, {\"hconcat\": []}, {\"hconcat\": []}, {\"hconcat\": []}, {\"hconcat\": []}, {\"hconcat\": []}, {\"hconcat\": []}, {\"hconcat\": []}, {\"hconcat\": []}, {\"hconcat\": []}, {\"hconcat\": []}, {\"hconcat\": []}, {\"hconcat\": []}, {\"hconcat\": []}, {\"hconcat\": []}, {\"hconcat\": []}, {\"hconcat\": []}, {\"hconcat\": []}, {\"hconcat\": []}, {\"hconcat\": []}, {\"hconcat\": []}, {\"hconcat\": []}, {\"hconcat\": []}, {\"hconcat\": []}, {\"hconcat\": []}, {\"hconcat\": []}, {\"hconcat\": []}, {\"hconcat\": []}], \"$schema\": \"https://vega.github.io/schema/vega-lite/v4.17.0.json\", \"datasets\": {\"data-7ddb6c8acd69d0bebb81220e9917bc9d\": [{\"time\": 0.0, \"variable\": \"TA\", \"value\": -0.6, \"is_missing\": false}, {\"time\": 1.0, \"variable\": \"TA\", \"value\": -0.65, \"is_missing\": true}, {\"time\": 2.0, \"variable\": \"TA\", \"value\": -0.58, \"is_missing\": false}, {\"time\": 3.0, \"variable\": \"TA\", \"value\": -0.51, \"is_missing\": false}, {\"time\": 4.0, \"variable\": \"TA\", \"value\": -0.49, \"is_missing\": false}, {\"time\": 5.0, \"variable\": \"TA\", \"value\": -0.4, \"is_missing\": false}, {\"time\": 6.0, \"variable\": \"TA\", \"value\": -0.36, \"is_missing\": false}, {\"time\": 7.0, \"variable\": \"TA\", \"value\": -0.35, \"is_missing\": true}, {\"time\": 8.0, \"variable\": \"TA\", \"value\": -0.28, \"is_missing\": true}, {\"time\": 9.0, \"variable\": \"TA\", \"value\": -0.27, \"is_missing\": false}, {\"time\": 10.0, \"variable\": \"TA\", \"value\": -0.23, \"is_missing\": false}, {\"time\": 11.0, \"variable\": \"TA\", \"value\": -0.23, \"is_missing\": false}, {\"time\": 12.0, \"variable\": \"TA\", \"value\": -0.22, \"is_missing\": false}, {\"time\": 13.0, \"variable\": \"TA\", \"value\": -0.24, \"is_missing\": false}, {\"time\": 14.0, \"variable\": \"TA\", \"value\": -0.23, \"is_missing\": false}, {\"time\": 15.0, \"variable\": \"TA\", \"value\": -0.22, \"is_missing\": false}, {\"time\": 16.0, \"variable\": \"TA\", \"value\": -0.19, \"is_missing\": false}, {\"time\": 17.0, \"variable\": \"TA\", \"value\": -0.14, \"is_missing\": false}, {\"time\": 18.0, \"variable\": \"TA\", \"value\": -0.03, \"is_missing\": false}, {\"time\": 19.0, \"variable\": \"TA\", \"value\": 0.04, \"is_missing\": false}, {\"time\": 20.0, \"variable\": \"TA\", \"value\": 0.1, \"is_missing\": true}, {\"time\": 21.0, \"variable\": \"TA\", \"value\": 0.18, \"is_missing\": true}, {\"time\": 22.0, \"variable\": \"TA\", \"value\": 0.21, \"is_missing\": false}, {\"time\": 23.0, \"variable\": \"TA\", \"value\": 0.23, \"is_missing\": false}, {\"time\": 24.0, \"variable\": \"TA\", \"value\": 0.33, \"is_missing\": false}, {\"time\": 25.0, \"variable\": \"TA\", \"value\": 0.41, \"is_missing\": false}, {\"time\": 26.0, \"variable\": \"TA\", \"value\": 0.44, \"is_missing\": false}, {\"time\": 27.0, \"variable\": \"TA\", \"value\": 0.48, \"is_missing\": false}, {\"time\": 28.0, \"variable\": \"TA\", \"value\": 0.49, \"is_missing\": false}, {\"time\": 29.0, \"variable\": \"TA\", \"value\": 0.51, \"is_missing\": false}, {\"time\": 30.0, \"variable\": \"TA\", \"value\": 0.52, \"is_missing\": true}, {\"time\": 31.0, \"variable\": \"TA\", \"value\": 0.57, \"is_missing\": false}, {\"time\": 32.0, \"variable\": \"TA\", \"value\": 0.73, \"is_missing\": true}, {\"time\": 33.0, \"variable\": \"TA\", \"value\": 0.77, \"is_missing\": false}, {\"time\": 34.0, \"variable\": \"TA\", \"value\": 0.84, \"is_missing\": true}, {\"time\": 35.0, \"variable\": \"TA\", \"value\": 0.99, \"is_missing\": true}, {\"time\": 36.0, \"variable\": \"TA\", \"value\": 1.35, \"is_missing\": false}, {\"time\": 37.0, \"variable\": \"TA\", \"value\": 1.86, \"is_missing\": true}, {\"time\": 38.0, \"variable\": \"TA\", \"value\": 2.01, \"is_missing\": false}, {\"time\": 39.0, \"variable\": \"TA\", \"value\": 2.07, \"is_missing\": false}, {\"time\": 40.0, \"variable\": \"TA\", \"value\": 2.0, \"is_missing\": false}, {\"time\": 41.0, \"variable\": \"TA\", \"value\": 2.19, \"is_missing\": false}, {\"time\": 42.0, \"variable\": \"TA\", \"value\": 2.26, \"is_missing\": true}, {\"time\": 43.0, \"variable\": \"TA\", \"value\": 2.53, \"is_missing\": true}, {\"time\": 44.0, \"variable\": \"TA\", \"value\": 2.59, \"is_missing\": false}, {\"time\": 45.0, \"variable\": \"TA\", \"value\": 2.6, \"is_missing\": false}, {\"time\": 46.0, \"variable\": \"TA\", \"value\": 2.53, \"is_missing\": false}, {\"time\": 47.0, \"variable\": \"TA\", \"value\": 2.3, \"is_missing\": false}, {\"time\": 48.0, \"variable\": \"TA\", \"value\": 2.08, \"is_missing\": true}, {\"time\": 49.0, \"variable\": \"TA\", \"value\": 1.93, \"is_missing\": false}, {\"time\": 50.0, \"variable\": \"TA\", \"value\": 1.84, \"is_missing\": false}, {\"time\": 51.0, \"variable\": \"TA\", \"value\": 1.85, \"is_missing\": false}, {\"time\": 52.0, \"variable\": \"TA\", \"value\": 1.59, \"is_missing\": false}, {\"time\": 53.0, \"variable\": \"TA\", \"value\": 1.43, \"is_missing\": false}, {\"time\": 54.0, \"variable\": \"TA\", \"value\": 1.33, \"is_missing\": true}, {\"time\": 55.0, \"variable\": \"TA\", \"value\": 1.23, \"is_missing\": true}, {\"time\": 56.0, \"variable\": \"TA\", \"value\": 1.04, \"is_missing\": true}, {\"time\": 57.0, \"variable\": \"TA\", \"value\": 0.94, \"is_missing\": true}, {\"time\": 58.0, \"variable\": \"TA\", \"value\": 0.81, \"is_missing\": false}, {\"time\": 59.0, \"variable\": \"TA\", \"value\": 0.79, \"is_missing\": true}, {\"time\": 60.0, \"variable\": \"TA\", \"value\": 0.68, \"is_missing\": false}, {\"time\": 61.0, \"variable\": \"TA\", \"value\": 0.65, \"is_missing\": false}, {\"time\": 62.0, \"variable\": \"TA\", \"value\": 0.58, \"is_missing\": false}, {\"time\": 63.0, \"variable\": \"TA\", \"value\": 0.49, \"is_missing\": false}, {\"time\": 64.0, \"variable\": \"TA\", \"value\": 0.57, \"is_missing\": false}, {\"time\": 65.0, \"variable\": \"TA\", \"value\": 0.25, \"is_missing\": true}, {\"time\": 66.0, \"variable\": \"TA\", \"value\": 0.35, \"is_missing\": false}, {\"time\": 67.0, \"variable\": \"TA\", \"value\": 0.27, \"is_missing\": false}, {\"time\": 68.0, \"variable\": \"TA\", \"value\": 0.35, \"is_missing\": false}, {\"time\": 69.0, \"variable\": \"TA\", \"value\": 0.57, \"is_missing\": true}, {\"time\": 70.0, \"variable\": \"TA\", \"value\": 0.63, \"is_missing\": true}, {\"time\": 71.0, \"variable\": \"TA\", \"value\": 0.73, \"is_missing\": false}, {\"time\": 72.0, \"variable\": \"TA\", \"value\": 0.78, \"is_missing\": true}, {\"time\": 73.0, \"variable\": \"TA\", \"value\": 1.05, \"is_missing\": false}, {\"time\": 74.0, \"variable\": \"TA\", \"value\": 1.19, \"is_missing\": true}, {\"time\": 75.0, \"variable\": \"TA\", \"value\": 1.41, \"is_missing\": true}, {\"time\": 76.0, \"variable\": \"TA\", \"value\": 1.54, \"is_missing\": false}, {\"time\": 77.0, \"variable\": \"TA\", \"value\": 1.08, \"is_missing\": true}, {\"time\": 78.0, \"variable\": \"TA\", \"value\": 0.62, \"is_missing\": true}, {\"time\": 79.0, \"variable\": \"TA\", \"value\": 0.57, \"is_missing\": false}, {\"time\": 80.0, \"variable\": \"TA\", \"value\": 0.53, \"is_missing\": false}, {\"time\": 81.0, \"variable\": \"TA\", \"value\": 0.57, \"is_missing\": true}, {\"time\": 82.0, \"variable\": \"TA\", \"value\": 0.51, \"is_missing\": false}, {\"time\": 83.0, \"variable\": \"TA\", \"value\": 0.39, \"is_missing\": false}, {\"time\": 84.0, \"variable\": \"TA\", \"value\": 0.35, \"is_missing\": false}, {\"time\": 85.0, \"variable\": \"TA\", \"value\": 0.4, \"is_missing\": true}, {\"time\": 86.0, \"variable\": \"TA\", \"value\": 0.66, \"is_missing\": false}, {\"time\": 87.0, \"variable\": \"TA\", \"value\": 0.76, \"is_missing\": true}, {\"time\": 88.0, \"variable\": \"TA\", \"value\": 0.81, \"is_missing\": false}, {\"time\": 89.0, \"variable\": \"TA\", \"value\": 0.94, \"is_missing\": false}, {\"time\": 90.0, \"variable\": \"TA\", \"value\": 0.97, \"is_missing\": true}, {\"time\": 91.0, \"variable\": \"TA\", \"value\": 0.85, \"is_missing\": false}, {\"time\": 92.0, \"variable\": \"TA\", \"value\": 0.77, \"is_missing\": false}, {\"time\": 93.0, \"variable\": \"TA\", \"value\": 0.63, \"is_missing\": false}, {\"time\": 94.0, \"variable\": \"TA\", \"value\": 0.52, \"is_missing\": true}, {\"time\": 95.0, \"variable\": \"TA\", \"value\": 0.48, \"is_missing\": false}, {\"time\": 96.0, \"variable\": \"TA\", \"value\": 0.41, \"is_missing\": false}, {\"time\": 97.0, \"variable\": \"TA\", \"value\": 0.29, \"is_missing\": false}, {\"time\": 98.0, \"variable\": \"TA\", \"value\": 0.31, \"is_missing\": false}, {\"time\": 99.0, \"variable\": \"TA\", \"value\": 0.42, \"is_missing\": true}], \"data-5b43a2b4093a61d96d6438f6bebdde5a\": [{\"time\": 0.0, \"variable\": \"TA\", \"mean\": -0.6, \"std\": null}, {\"time\": 2.0, \"variable\": \"TA\", \"mean\": -0.58, \"std\": null}, {\"time\": 3.0, \"variable\": \"TA\", \"mean\": -0.51, \"std\": null}, {\"time\": 4.0, \"variable\": \"TA\", \"mean\": -0.49, \"std\": null}, {\"time\": 5.0, \"variable\": \"TA\", \"mean\": -0.4, \"std\": null}, {\"time\": 6.0, \"variable\": \"TA\", \"mean\": -0.36, \"std\": null}, {\"time\": 9.0, \"variable\": \"TA\", \"mean\": -0.27, \"std\": null}, {\"time\": 10.0, \"variable\": \"TA\", \"mean\": -0.23, \"std\": null}, {\"time\": 12.0, \"variable\": \"TA\", \"mean\": -0.22, \"std\": null}, {\"time\": 13.0, \"variable\": \"TA\", \"mean\": -0.24, \"std\": null}, {\"time\": 14.0, \"variable\": \"TA\", \"mean\": -0.23, \"std\": null}, {\"time\": 16.0, \"variable\": \"TA\", \"mean\": -0.19, \"std\": null}, {\"time\": 17.0, \"variable\": \"TA\", \"mean\": -0.14, \"std\": null}, {\"time\": 18.0, \"variable\": \"TA\", \"mean\": -0.03, \"std\": null}, {\"time\": 19.0, \"variable\": \"TA\", \"mean\": 0.04, \"std\": null}, {\"time\": 22.0, \"variable\": \"TA\", \"mean\": 0.21, \"std\": null}, {\"time\": 23.0, \"variable\": \"TA\", \"mean\": 0.23, \"std\": null}, {\"time\": 24.0, \"variable\": \"TA\", \"mean\": 0.33, \"std\": null}, {\"time\": 25.0, \"variable\": \"TA\", \"mean\": 0.41, \"std\": null}, {\"time\": 26.0, \"variable\": \"TA\", \"mean\": 0.44, \"std\": null}, {\"time\": 27.0, \"variable\": \"TA\", \"mean\": 0.48, \"std\": null}, {\"time\": 28.0, \"variable\": \"TA\", \"mean\": 0.49, \"std\": null}, {\"time\": 29.0, \"variable\": \"TA\", \"mean\": 0.51, \"std\": null}, {\"time\": 33.0, \"variable\": \"TA\", \"mean\": 0.77, \"std\": null}, {\"time\": 36.0, \"variable\": \"TA\", \"mean\": 1.35, \"std\": null}, {\"time\": 38.0, \"variable\": \"TA\", \"mean\": 2.01, \"std\": null}, {\"time\": 39.0, \"variable\": \"TA\", \"mean\": 2.07, \"std\": null}, {\"time\": 40.0, \"variable\": \"TA\", \"mean\": 2.0, \"std\": null}, {\"time\": 41.0, \"variable\": \"TA\", \"mean\": 2.19, \"std\": null}, {\"time\": 44.0, \"variable\": \"TA\", \"mean\": 2.59, \"std\": null}, {\"time\": 45.0, \"variable\": \"TA\", \"mean\": 2.6, \"std\": null}, {\"time\": 46.0, \"variable\": \"TA\", \"mean\": 2.53, \"std\": null}, {\"time\": 49.0, \"variable\": \"TA\", \"mean\": 1.93, \"std\": null}, {\"time\": 50.0, \"variable\": \"TA\", \"mean\": 1.84, \"std\": null}, {\"time\": 51.0, \"variable\": \"TA\", \"mean\": 1.85, \"std\": null}, {\"time\": 52.0, \"variable\": \"TA\", \"mean\": 1.59, \"std\": null}, {\"time\": 60.0, \"variable\": \"TA\", \"mean\": 0.68, \"std\": null}, {\"time\": 61.0, \"variable\": \"TA\", \"mean\": 0.65, \"std\": null}, {\"time\": 62.0, \"variable\": \"TA\", \"mean\": 0.58, \"std\": null}, {\"time\": 63.0, \"variable\": \"TA\", \"mean\": 0.49, \"std\": null}, {\"time\": 64.0, \"variable\": \"TA\", \"mean\": 0.57, \"std\": null}, {\"time\": 66.0, \"variable\": \"TA\", \"mean\": 0.35, \"std\": null}, {\"time\": 67.0, \"variable\": \"TA\", \"mean\": 0.27, \"std\": null}, {\"time\": 71.0, \"variable\": \"TA\", \"mean\": 0.73, \"std\": null}, {\"time\": 73.0, \"variable\": \"TA\", \"mean\": 1.05, \"std\": null}, {\"time\": 76.0, \"variable\": \"TA\", \"mean\": 1.54, \"std\": null}, {\"time\": 79.0, \"variable\": \"TA\", \"mean\": 0.57, \"std\": null}, {\"time\": 80.0, \"variable\": \"TA\", \"mean\": 0.53, \"std\": null}, {\"time\": 82.0, \"variable\": \"TA\", \"mean\": 0.51, \"std\": null}, {\"time\": 86.0, \"variable\": \"TA\", \"mean\": 0.66, \"std\": null}, {\"time\": 89.0, \"variable\": \"TA\", \"mean\": 0.94, \"std\": null}, {\"time\": 91.0, \"variable\": \"TA\", \"mean\": 0.85, \"std\": null}, {\"time\": 92.0, \"variable\": \"TA\", \"mean\": 0.77, \"std\": null}, {\"time\": 93.0, \"variable\": \"TA\", \"mean\": 0.63, \"std\": null}, {\"time\": 95.0, \"variable\": \"TA\", \"mean\": 0.48, \"std\": null}, {\"time\": 96.0, \"variable\": \"TA\", \"mean\": 0.41, \"std\": null}, {\"time\": 97.0, \"variable\": \"TA\", \"mean\": 0.29, \"std\": null}, {\"time\": 1.0, \"variable\": \"TA\", \"mean\": -0.5946496725082397, \"std\": 0.08959794044494629}, {\"time\": 7.0, \"variable\": \"TA\", \"mean\": -0.310651957988739, \"std\": 0.09070253372192383}, {\"time\": 8.0, \"variable\": \"TA\", \"mean\": -0.2754446864128113, \"std\": 0.09047571569681168}, {\"time\": 11.0, \"variable\": \"TA\", \"mean\": -0.23000001907348633, \"std\": 0.0}, {\"time\": 15.0, \"variable\": \"TA\", \"mean\": -0.21999996900558472, \"std\": 0.0}, {\"time\": 20.0, \"variable\": \"TA\", \"mean\": 0.09505301713943481, \"std\": 0.09026407450437546}, {\"time\": 21.0, \"variable\": \"TA\", \"mean\": 0.1554652452468872, \"std\": 0.09027198702096939}, {\"time\": 30.0, \"variable\": \"TA\", \"mean\": 0.5218348503112793, \"std\": 0.08758135885000229}, {\"time\": 31.0, \"variable\": \"TA\", \"mean\": 0.5699999928474426, \"std\": 0.0}, {\"time\": 32.0, \"variable\": \"TA\", \"mean\": 0.6269514560699463, \"std\": 0.09025464951992035}, {\"time\": 34.0, \"variable\": \"TA\", \"mean\": 0.9628274440765381, \"std\": 0.09424548596143723}, {\"time\": 35.0, \"variable\": \"TA\", \"mean\": 1.2035808563232422, \"std\": 0.09432799369096756}, {\"time\": 37.0, \"variable\": \"TA\", \"mean\": 1.6742703914642334, \"std\": 0.08887828886508942}, {\"time\": 42.0, \"variable\": \"TA\", \"mean\": 2.362741470336914, \"std\": 0.09099273383617401}, {\"time\": 43.0, \"variable\": \"TA\", \"mean\": 2.486705780029297, \"std\": 0.09101731330156326}, {\"time\": 47.0, \"variable\": \"TA\", \"mean\": 2.299999952316284, \"std\": 0.0}, {\"time\": 48.0, \"variable\": \"TA\", \"mean\": 2.1726632118225098, \"std\": 0.08605282008647919}, {\"time\": 53.0, \"variable\": \"TA\", \"mean\": 1.4299999475479126, \"std\": 0.0}, {\"time\": 54.0, \"variable\": \"TA\", \"mean\": 1.3393869400024414, \"std\": 0.1032206267118454}, {\"time\": 55.0, \"variable\": \"TA\", \"mean\": 1.1885249614715576, \"std\": 0.1128954142332077}, {\"time\": 56.0, \"variable\": \"TA\", \"mean\": 1.0408682823181152, \"std\": 0.11420127749443054}, {\"time\": 57.0, \"variable\": \"TA\", \"mean\": 0.9103684425354004, \"std\": 0.10689529031515121}, {\"time\": 58.0, \"variable\": \"TA\", \"mean\": 0.8100000023841858, \"std\": 0.0}, {\"time\": 59.0, \"variable\": \"TA\", \"mean\": 0.7277389168739319, \"std\": 0.08899091929197311}, {\"time\": 65.0, \"variable\": \"TA\", \"mean\": 0.4224695861339569, \"std\": 0.08611928671598434}, {\"time\": 68.0, \"variable\": \"TA\", \"mean\": 0.3499999940395355, \"std\": 0.0}, {\"time\": 69.0, \"variable\": \"TA\", \"mean\": 0.37105032801628113, \"std\": 0.09210439771413803}, {\"time\": 70.0, \"variable\": \"TA\", \"mean\": 0.49582603573799133, \"std\": 0.09387731552124023}, {\"time\": 72.0, \"variable\": \"TA\", \"mean\": 0.9294683933258057, \"std\": 0.09122162312269211}, {\"time\": 74.0, \"variable\": \"TA\", \"mean\": 1.3526015281677246, \"std\": 0.09465751051902771}, {\"time\": 75.0, \"variable\": \"TA\", \"mean\": 1.4299719333648682, \"std\": 0.09603846818208694}, {\"time\": 77.0, \"variable\": \"TA\", \"mean\": 1.2100939750671387, \"std\": 0.09462790936231613}, {\"time\": 78.0, \"variable\": \"TA\", \"mean\": 0.972995400428772, \"std\": 0.09190469980239868}, {\"time\": 81.0, \"variable\": \"TA\", \"mean\": 0.40536218881607056, \"std\": 0.08599993586540222}, {\"time\": 83.0, \"variable\": \"TA\", \"mean\": 0.38999998569488525, \"std\": 0.0}, {\"time\": 84.0, \"variable\": \"TA\", \"mean\": 0.3499999940395355, \"std\": 0.0}, {\"time\": 85.0, \"variable\": \"TA\", \"mean\": 0.5392221212387085, \"std\": 0.0876099169254303}, {\"time\": 87.0, \"variable\": \"TA\", \"mean\": 0.7490594387054443, \"std\": 0.08777337521314621}, {\"time\": 88.0, \"variable\": \"TA\", \"mean\": 0.8100000023841858, \"std\": 0.0}, {\"time\": 90.0, \"variable\": \"TA\", \"mean\": 0.896609902381897, \"std\": 0.08600720018148422}, {\"time\": 94.0, \"variable\": \"TA\", \"mean\": 0.5518884062767029, \"std\": 0.08633171766996384}, {\"time\": 98.0, \"variable\": \"TA\", \"mean\": 0.3100000023841858, \"std\": 0.0}, {\"time\": 99.0, \"variable\": \"TA\", \"mean\": 0.2908896803855896, \"std\": 0.1381641924381256}], \"data-13d9a1913e7d5ca0e6daa2743d9035ec\": [{\"time\": 0.0, \"variable\": \"SW_IN\", \"value\": 0.0, \"is_missing\": false}, {\"time\": 1.0, \"variable\": \"SW_IN\", \"value\": 0.0, \"is_missing\": true}, {\"time\": 2.0, \"variable\": \"SW_IN\", \"value\": 0.0, \"is_missing\": false}, {\"time\": 3.0, \"variable\": \"SW_IN\", \"value\": 0.0, \"is_missing\": false}, {\"time\": 4.0, \"variable\": \"SW_IN\", \"value\": 0.0, \"is_missing\": false}, {\"time\": 5.0, \"variable\": \"SW_IN\", \"value\": 0.0, \"is_missing\": false}, {\"time\": 6.0, \"variable\": \"SW_IN\", \"value\": 0.0, \"is_missing\": false}, {\"time\": 7.0, \"variable\": \"SW_IN\", \"value\": 0.0, \"is_missing\": false}, {\"time\": 8.0, \"variable\": \"SW_IN\", \"value\": 0.0, \"is_missing\": true}, {\"time\": 9.0, \"variable\": \"SW_IN\", \"value\": 0.0, \"is_missing\": false}, {\"time\": 10.0, \"variable\": \"SW_IN\", \"value\": 0.0, \"is_missing\": false}, {\"time\": 11.0, \"variable\": \"SW_IN\", \"value\": 0.0, \"is_missing\": true}, {\"time\": 12.0, \"variable\": \"SW_IN\", \"value\": 0.0, \"is_missing\": false}, {\"time\": 13.0, \"variable\": \"SW_IN\", \"value\": 0.0, \"is_missing\": false}, {\"time\": 14.0, \"variable\": \"SW_IN\", \"value\": 0.0, \"is_missing\": false}, {\"time\": 15.0, \"variable\": \"SW_IN\", \"value\": 0.0, \"is_missing\": false}, {\"time\": 16.0, \"variable\": \"SW_IN\", \"value\": 0.45, \"is_missing\": false}, {\"time\": 17.0, \"variable\": \"SW_IN\", \"value\": 3.7, \"is_missing\": false}, {\"time\": 18.0, \"variable\": \"SW_IN\", \"value\": 7.26, \"is_missing\": false}, {\"time\": 19.0, \"variable\": \"SW_IN\", \"value\": 12.24, \"is_missing\": false}, {\"time\": 20.0, \"variable\": \"SW_IN\", \"value\": 16.51, \"is_missing\": true}, {\"time\": 21.0, \"variable\": \"SW_IN\", \"value\": 24.73, \"is_missing\": true}, {\"time\": 22.0, \"variable\": \"SW_IN\", \"value\": 47.42, \"is_missing\": false}, {\"time\": 23.0, \"variable\": \"SW_IN\", \"value\": 22.05, \"is_missing\": false}, {\"time\": 24.0, \"variable\": \"SW_IN\", \"value\": 18.86, \"is_missing\": false}, {\"time\": 25.0, \"variable\": \"SW_IN\", \"value\": 21.1, \"is_missing\": false}, {\"time\": 26.0, \"variable\": \"SW_IN\", \"value\": 28.87, \"is_missing\": false}, {\"time\": 27.0, \"variable\": \"SW_IN\", \"value\": 24.22, \"is_missing\": false}, {\"time\": 28.0, \"variable\": \"SW_IN\", \"value\": 24.35, \"is_missing\": false}, {\"time\": 29.0, \"variable\": \"SW_IN\", \"value\": 15.68, \"is_missing\": false}, {\"time\": 30.0, \"variable\": \"SW_IN\", \"value\": 8.09, \"is_missing\": false}, {\"time\": 31.0, \"variable\": \"SW_IN\", \"value\": 6.37, \"is_missing\": false}, {\"time\": 32.0, \"variable\": \"SW_IN\", \"value\": 1.72, \"is_missing\": false}, {\"time\": 33.0, \"variable\": \"SW_IN\", \"value\": 0.06, \"is_missing\": false}, {\"time\": 34.0, \"variable\": \"SW_IN\", \"value\": 0.0, \"is_missing\": true}, {\"time\": 35.0, \"variable\": \"SW_IN\", \"value\": 0.0, \"is_missing\": true}, {\"time\": 36.0, \"variable\": \"SW_IN\", \"value\": 0.0, \"is_missing\": false}, {\"time\": 37.0, \"variable\": \"SW_IN\", \"value\": 0.0, \"is_missing\": false}, {\"time\": 38.0, \"variable\": \"SW_IN\", \"value\": 0.0, \"is_missing\": false}, {\"time\": 39.0, \"variable\": \"SW_IN\", \"value\": 0.0, \"is_missing\": false}, {\"time\": 40.0, \"variable\": \"SW_IN\", \"value\": 0.0, \"is_missing\": false}, {\"time\": 41.0, \"variable\": \"SW_IN\", \"value\": 0.0, \"is_missing\": false}, {\"time\": 42.0, \"variable\": \"SW_IN\", \"value\": 0.0, \"is_missing\": true}, {\"time\": 43.0, \"variable\": \"SW_IN\", \"value\": 0.0, \"is_missing\": true}, {\"time\": 44.0, \"variable\": \"SW_IN\", \"value\": 0.0, \"is_missing\": false}, {\"time\": 45.0, \"variable\": \"SW_IN\", \"value\": 0.0, \"is_missing\": false}, {\"time\": 46.0, \"variable\": \"SW_IN\", \"value\": 0.0, \"is_missing\": false}, {\"time\": 47.0, \"variable\": \"SW_IN\", \"value\": 0.0, \"is_missing\": false}, {\"time\": 48.0, \"variable\": \"SW_IN\", \"value\": 0.0, \"is_missing\": true}, {\"time\": 49.0, \"variable\": \"SW_IN\", \"value\": 0.0, \"is_missing\": false}, {\"time\": 50.0, \"variable\": \"SW_IN\", \"value\": 0.0, \"is_missing\": false}, {\"time\": 51.0, \"variable\": \"SW_IN\", \"value\": 0.0, \"is_missing\": false}, {\"time\": 52.0, \"variable\": \"SW_IN\", \"value\": 0.0, \"is_missing\": false}, {\"time\": 53.0, \"variable\": \"SW_IN\", \"value\": 0.0, \"is_missing\": false}, {\"time\": 54.0, \"variable\": \"SW_IN\", \"value\": 0.0, \"is_missing\": false}, {\"time\": 55.0, \"variable\": \"SW_IN\", \"value\": 0.0, \"is_missing\": true}, {\"time\": 56.0, \"variable\": \"SW_IN\", \"value\": 0.0, \"is_missing\": false}, {\"time\": 57.0, \"variable\": \"SW_IN\", \"value\": 0.0, \"is_missing\": true}, {\"time\": 58.0, \"variable\": \"SW_IN\", \"value\": 0.0, \"is_missing\": false}, {\"time\": 59.0, \"variable\": \"SW_IN\", \"value\": 0.0, \"is_missing\": false}, {\"time\": 60.0, \"variable\": \"SW_IN\", \"value\": 0.0, \"is_missing\": false}, {\"time\": 61.0, \"variable\": \"SW_IN\", \"value\": 0.0, \"is_missing\": false}, {\"time\": 62.0, \"variable\": \"SW_IN\", \"value\": 0.0, \"is_missing\": false}, {\"time\": 63.0, \"variable\": \"SW_IN\", \"value\": 0.0, \"is_missing\": false}, {\"time\": 64.0, \"variable\": \"SW_IN\", \"value\": 4.27, \"is_missing\": false}, {\"time\": 65.0, \"variable\": \"SW_IN\", \"value\": 23.9, \"is_missing\": false}, {\"time\": 66.0, \"variable\": \"SW_IN\", \"value\": 50.61, \"is_missing\": false}, {\"time\": 67.0, \"variable\": \"SW_IN\", \"value\": 61.76, \"is_missing\": false}, {\"time\": 68.0, \"variable\": \"SW_IN\", \"value\": 125.24, \"is_missing\": false}, {\"time\": 69.0, \"variable\": \"SW_IN\", \"value\": 138.43, \"is_missing\": true}, {\"time\": 70.0, \"variable\": \"SW_IN\", \"value\": 177.5, \"is_missing\": true}, {\"time\": 71.0, \"variable\": \"SW_IN\", \"value\": 148.06, \"is_missing\": false}, {\"time\": 72.0, \"variable\": \"SW_IN\", \"value\": 122.37, \"is_missing\": true}, {\"time\": 73.0, \"variable\": \"SW_IN\", \"value\": 130.21, \"is_missing\": false}, {\"time\": 74.0, \"variable\": \"SW_IN\", \"value\": 124.73, \"is_missing\": true}, {\"time\": 75.0, \"variable\": \"SW_IN\", \"value\": 110.65, \"is_missing\": false}, {\"time\": 76.0, \"variable\": \"SW_IN\", \"value\": 57.81, \"is_missing\": false}, {\"time\": 77.0, \"variable\": \"SW_IN\", \"value\": 31.87, \"is_missing\": false}, {\"time\": 78.0, \"variable\": \"SW_IN\", \"value\": 19.89, \"is_missing\": true}, {\"time\": 79.0, \"variable\": \"SW_IN\", \"value\": 8.8, \"is_missing\": false}, {\"time\": 80.0, \"variable\": \"SW_IN\", \"value\": 1.78, \"is_missing\": false}, {\"time\": 81.0, \"variable\": \"SW_IN\", \"value\": 0.06, \"is_missing\": false}, {\"time\": 82.0, \"variable\": \"SW_IN\", \"value\": 0.0, \"is_missing\": false}, {\"time\": 83.0, \"variable\": \"SW_IN\", \"value\": 0.0, \"is_missing\": true}, {\"time\": 84.0, \"variable\": \"SW_IN\", \"value\": 0.0, \"is_missing\": false}, {\"time\": 85.0, \"variable\": \"SW_IN\", \"value\": 0.0, \"is_missing\": false}, {\"time\": 86.0, \"variable\": \"SW_IN\", \"value\": 0.0, \"is_missing\": false}, {\"time\": 87.0, \"variable\": \"SW_IN\", \"value\": 0.0, \"is_missing\": true}, {\"time\": 88.0, \"variable\": \"SW_IN\", \"value\": 0.0, \"is_missing\": false}, {\"time\": 89.0, \"variable\": \"SW_IN\", \"value\": 0.0, \"is_missing\": false}, {\"time\": 90.0, \"variable\": \"SW_IN\", \"value\": 0.0, \"is_missing\": true}, {\"time\": 91.0, \"variable\": \"SW_IN\", \"value\": 0.0, \"is_missing\": false}, {\"time\": 92.0, \"variable\": \"SW_IN\", \"value\": 0.0, \"is_missing\": false}, {\"time\": 93.0, \"variable\": \"SW_IN\", \"value\": 0.0, \"is_missing\": false}, {\"time\": 94.0, \"variable\": \"SW_IN\", \"value\": 0.0, \"is_missing\": true}, {\"time\": 95.0, \"variable\": \"SW_IN\", \"value\": 0.0, \"is_missing\": false}, {\"time\": 96.0, \"variable\": \"SW_IN\", \"value\": 0.0, \"is_missing\": false}, {\"time\": 97.0, \"variable\": \"SW_IN\", \"value\": 0.0, \"is_missing\": false}, {\"time\": 98.0, \"variable\": \"SW_IN\", \"value\": 0.0, \"is_missing\": true}, {\"time\": 99.0, \"variable\": \"SW_IN\", \"value\": 0.0, \"is_missing\": true}], \"data-0ae4d94bfbe0b3571c0a032dc430d8b4\": [{\"time\": 0.0, \"variable\": \"SW_IN\", \"mean\": 0.0, \"std\": null}, {\"time\": 2.0, \"variable\": \"SW_IN\", \"mean\": 0.0, \"std\": null}, {\"time\": 3.0, \"variable\": \"SW_IN\", \"mean\": 0.0, \"std\": null}, {\"time\": 4.0, \"variable\": \"SW_IN\", \"mean\": 0.0, \"std\": null}, {\"time\": 5.0, \"variable\": \"SW_IN\", \"mean\": 0.0, \"std\": null}, {\"time\": 6.0, \"variable\": \"SW_IN\", \"mean\": 0.0, \"std\": null}, {\"time\": 9.0, \"variable\": \"SW_IN\", \"mean\": 0.0, \"std\": null}, {\"time\": 10.0, \"variable\": \"SW_IN\", \"mean\": 0.0, \"std\": null}, {\"time\": 12.0, \"variable\": \"SW_IN\", \"mean\": 0.0, \"std\": null}, {\"time\": 13.0, \"variable\": \"SW_IN\", \"mean\": 0.0, \"std\": null}, {\"time\": 14.0, \"variable\": \"SW_IN\", \"mean\": 0.0, \"std\": null}, {\"time\": 16.0, \"variable\": \"SW_IN\", \"mean\": 0.45, \"std\": null}, {\"time\": 17.0, \"variable\": \"SW_IN\", \"mean\": 3.7, \"std\": null}, {\"time\": 18.0, \"variable\": \"SW_IN\", \"mean\": 7.26, \"std\": null}, {\"time\": 19.0, \"variable\": \"SW_IN\", \"mean\": 12.24, \"std\": null}, {\"time\": 22.0, \"variable\": \"SW_IN\", \"mean\": 47.42, \"std\": null}, {\"time\": 23.0, \"variable\": \"SW_IN\", \"mean\": 22.05, \"std\": null}, {\"time\": 24.0, \"variable\": \"SW_IN\", \"mean\": 18.86, \"std\": null}, {\"time\": 25.0, \"variable\": \"SW_IN\", \"mean\": 21.1, \"std\": null}, {\"time\": 26.0, \"variable\": \"SW_IN\", \"mean\": 28.87, \"std\": null}, {\"time\": 27.0, \"variable\": \"SW_IN\", \"mean\": 24.22, \"std\": null}, {\"time\": 28.0, \"variable\": \"SW_IN\", \"mean\": 24.35, \"std\": null}, {\"time\": 29.0, \"variable\": \"SW_IN\", \"mean\": 15.68, \"std\": null}, {\"time\": 33.0, \"variable\": \"SW_IN\", \"mean\": 0.06, \"std\": null}, {\"time\": 36.0, \"variable\": \"SW_IN\", \"mean\": 0.0, \"std\": null}, {\"time\": 38.0, \"variable\": \"SW_IN\", \"mean\": 0.0, \"std\": null}, {\"time\": 39.0, \"variable\": \"SW_IN\", \"mean\": 0.0, \"std\": null}, {\"time\": 40.0, \"variable\": \"SW_IN\", \"mean\": 0.0, \"std\": null}, {\"time\": 41.0, \"variable\": \"SW_IN\", \"mean\": 0.0, \"std\": null}, {\"time\": 44.0, \"variable\": \"SW_IN\", \"mean\": 0.0, \"std\": null}, {\"time\": 45.0, \"variable\": \"SW_IN\", \"mean\": 0.0, \"std\": null}, {\"time\": 46.0, \"variable\": \"SW_IN\", \"mean\": 0.0, \"std\": null}, {\"time\": 49.0, \"variable\": \"SW_IN\", \"mean\": 0.0, \"std\": null}, {\"time\": 50.0, \"variable\": \"SW_IN\", \"mean\": 0.0, \"std\": null}, {\"time\": 51.0, \"variable\": \"SW_IN\", \"mean\": 0.0, \"std\": null}, {\"time\": 52.0, \"variable\": \"SW_IN\", \"mean\": 0.0, \"std\": null}, {\"time\": 60.0, \"variable\": \"SW_IN\", \"mean\": 0.0, \"std\": null}, {\"time\": 61.0, \"variable\": \"SW_IN\", \"mean\": 0.0, \"std\": null}, {\"time\": 62.0, \"variable\": \"SW_IN\", \"mean\": 0.0, \"std\": null}, {\"time\": 63.0, \"variable\": \"SW_IN\", \"mean\": 0.0, \"std\": null}, {\"time\": 64.0, \"variable\": \"SW_IN\", \"mean\": 4.27, \"std\": null}, {\"time\": 66.0, \"variable\": \"SW_IN\", \"mean\": 50.61, \"std\": null}, {\"time\": 67.0, \"variable\": \"SW_IN\", \"mean\": 61.76, \"std\": null}, {\"time\": 71.0, \"variable\": \"SW_IN\", \"mean\": 148.06, \"std\": null}, {\"time\": 73.0, \"variable\": \"SW_IN\", \"mean\": 130.21, \"std\": null}, {\"time\": 76.0, \"variable\": \"SW_IN\", \"mean\": 57.81, \"std\": null}, {\"time\": 79.0, \"variable\": \"SW_IN\", \"mean\": 8.8, \"std\": null}, {\"time\": 80.0, \"variable\": \"SW_IN\", \"mean\": 1.78, \"std\": null}, {\"time\": 82.0, \"variable\": \"SW_IN\", \"mean\": 0.0, \"std\": null}, {\"time\": 86.0, \"variable\": \"SW_IN\", \"mean\": 0.0, \"std\": null}, {\"time\": 89.0, \"variable\": \"SW_IN\", \"mean\": 0.0, \"std\": null}, {\"time\": 91.0, \"variable\": \"SW_IN\", \"mean\": 0.0, \"std\": null}, {\"time\": 92.0, \"variable\": \"SW_IN\", \"mean\": 0.0, \"std\": null}, {\"time\": 93.0, \"variable\": \"SW_IN\", \"mean\": 0.0, \"std\": null}, {\"time\": 95.0, \"variable\": \"SW_IN\", \"mean\": 0.0, \"std\": null}, {\"time\": 96.0, \"variable\": \"SW_IN\", \"mean\": 0.0, \"std\": null}, {\"time\": 97.0, \"variable\": \"SW_IN\", \"mean\": 0.0, \"std\": null}, {\"time\": 1.0, \"variable\": \"SW_IN\", \"mean\": 11.772954940795898, \"std\": 27.103673934936523}, {\"time\": 7.0, \"variable\": \"SW_IN\", \"mean\": 0.0, \"std\": 0.0}, {\"time\": 8.0, \"variable\": \"SW_IN\", \"mean\": 10.6289644241333, \"std\": 27.09720230102539}, {\"time\": 11.0, \"variable\": \"SW_IN\", \"mean\": 8.915459632873535, \"std\": 27.096698760986328}, {\"time\": 15.0, \"variable\": \"SW_IN\", \"mean\": 0.0, \"std\": 0.0}, {\"time\": 20.0, \"variable\": \"SW_IN\", \"mean\": 4.125975608825684, \"std\": 27.097015380859375}, {\"time\": 21.0, \"variable\": \"SW_IN\", \"mean\": 3.784916877746582, \"std\": 27.09684944152832}, {\"time\": 30.0, \"variable\": \"SW_IN\", \"mean\": 8.09000015258789, \"std\": 0.0}, {\"time\": 31.0, \"variable\": \"SW_IN\", \"mean\": 6.369999885559082, \"std\": 0.0}, {\"time\": 32.0, \"variable\": \"SW_IN\", \"mean\": 1.7200002670288086, \"std\": 0.0}, {\"time\": 34.0, \"variable\": \"SW_IN\", \"mean\": -0.35001373291015625, \"std\": 27.098350524902344}, {\"time\": 35.0, \"variable\": \"SW_IN\", \"mean\": -0.8080959320068359, \"std\": 27.09830665588379}, {\"time\": 37.0, \"variable\": \"SW_IN\", \"mean\": 0.0, \"std\": 0.0}, {\"time\": 42.0, \"variable\": \"SW_IN\", \"mean\": 3.673232078552246, \"std\": 27.098323822021484}, {\"time\": 43.0, \"variable\": \"SW_IN\", \"mean\": 5.712071418762207, \"std\": 27.098453521728516}, {\"time\": 47.0, \"variable\": \"SW_IN\", \"mean\": 0.0, \"std\": 0.0}, {\"time\": 48.0, \"variable\": \"SW_IN\", \"mean\": 15.313390731811523, \"std\": 27.097082138061523}, {\"time\": 53.0, \"variable\": \"SW_IN\", \"mean\": 0.0, \"std\": 0.0}, {\"time\": 54.0, \"variable\": \"SW_IN\", \"mean\": 0.0, \"std\": 0.0}, {\"time\": 55.0, \"variable\": \"SW_IN\", \"mean\": 22.772985458374023, \"std\": 27.097978591918945}, {\"time\": 56.0, \"variable\": \"SW_IN\", \"mean\": 0.0, \"std\": 0.0}, {\"time\": 57.0, \"variable\": \"SW_IN\", \"mean\": 24.011302947998047, \"std\": 27.098018646240234}, {\"time\": 58.0, \"variable\": \"SW_IN\", \"mean\": 0.0, \"std\": 0.0}, {\"time\": 59.0, \"variable\": \"SW_IN\", \"mean\": 0.0, \"std\": 0.0}, {\"time\": 65.0, \"variable\": \"SW_IN\", \"mean\": 23.899999618530273, \"std\": 0.0}, {\"time\": 68.0, \"variable\": \"SW_IN\", \"mean\": 125.23999786376953, \"std\": 0.0}, {\"time\": 69.0, \"variable\": \"SW_IN\", \"mean\": 27.64076805114746, \"std\": 27.10224723815918}, {\"time\": 70.0, \"variable\": \"SW_IN\", \"mean\": 26.900726318359375, \"std\": 27.10272979736328}, {\"time\": 72.0, \"variable\": \"SW_IN\", \"mean\": 25.165475845336914, \"std\": 27.1015682220459}, {\"time\": 74.0, \"variable\": \"SW_IN\", \"mean\": 23.246280670166016, \"std\": 27.099332809448242}, {\"time\": 75.0, \"variable\": \"SW_IN\", \"mean\": 110.6500015258789, \"std\": 0.0}, {\"time\": 77.0, \"variable\": \"SW_IN\", \"mean\": 31.8700008392334, \"std\": 0.0}, {\"time\": 78.0, \"variable\": \"SW_IN\", \"mean\": 19.31802749633789, \"std\": 27.097463607788086}, {\"time\": 81.0, \"variable\": \"SW_IN\", \"mean\": 0.06000041961669922, \"std\": 0.0}, {\"time\": 83.0, \"variable\": \"SW_IN\", \"mean\": 17.792861938476562, \"std\": 27.09750747680664}, {\"time\": 84.0, \"variable\": \"SW_IN\", \"mean\": 0.0, \"std\": 0.0}, {\"time\": 85.0, \"variable\": \"SW_IN\", \"mean\": 0.0, \"std\": 0.0}, {\"time\": 87.0, \"variable\": \"SW_IN\", \"mean\": 16.722820281982422, \"std\": 27.100509643554688}, {\"time\": 88.0, \"variable\": \"SW_IN\", \"mean\": 0.0, \"std\": 0.0}, {\"time\": 90.0, \"variable\": \"SW_IN\", \"mean\": 14.719022750854492, \"std\": 27.09961700439453}, {\"time\": 94.0, \"variable\": \"SW_IN\", \"mean\": 11.902131080627441, \"std\": 27.098346710205078}, {\"time\": 98.0, \"variable\": \"SW_IN\", \"mean\": 10.964997291564941, \"std\": 27.10762596130371}, {\"time\": 99.0, \"variable\": \"SW_IN\", \"mean\": 10.981712341308594, \"std\": 27.123533248901367}], \"data-0cfc44eb3d661ca894f25d35aa89f513\": [{\"time\": 0.0, \"variable\": \"LW_IN\", \"value\": 302.475, \"is_missing\": false}, {\"time\": 1.0, \"variable\": \"LW_IN\", \"value\": 302.475, \"is_missing\": true}, {\"time\": 2.0, \"variable\": \"LW_IN\", \"value\": 301.677, \"is_missing\": false}, {\"time\": 3.0, \"variable\": \"LW_IN\", \"value\": 301.677, \"is_missing\": false}, {\"time\": 4.0, \"variable\": \"LW_IN\", \"value\": 301.677, \"is_missing\": false}, {\"time\": 5.0, \"variable\": \"LW_IN\", \"value\": 301.677, \"is_missing\": false}, {\"time\": 6.0, \"variable\": \"LW_IN\", \"value\": 301.677, \"is_missing\": false}, {\"time\": 7.0, \"variable\": \"LW_IN\", \"value\": 301.677, \"is_missing\": false}, {\"time\": 8.0, \"variable\": \"LW_IN\", \"value\": 308.046, \"is_missing\": true}, {\"time\": 9.0, \"variable\": \"LW_IN\", \"value\": 308.046, \"is_missing\": false}, {\"time\": 10.0, \"variable\": \"LW_IN\", \"value\": 308.046, \"is_missing\": false}, {\"time\": 11.0, \"variable\": \"LW_IN\", \"value\": 308.046, \"is_missing\": false}, {\"time\": 12.0, \"variable\": \"LW_IN\", \"value\": 308.046, \"is_missing\": false}, {\"time\": 13.0, \"variable\": \"LW_IN\", \"value\": 308.046, \"is_missing\": false}, {\"time\": 14.0, \"variable\": \"LW_IN\", \"value\": 316.925, \"is_missing\": false}, {\"time\": 15.0, \"variable\": \"LW_IN\", \"value\": 316.925, \"is_missing\": true}, {\"time\": 16.0, \"variable\": \"LW_IN\", \"value\": 316.925, \"is_missing\": false}, {\"time\": 17.0, \"variable\": \"LW_IN\", \"value\": 316.925, \"is_missing\": false}, {\"time\": 18.0, \"variable\": \"LW_IN\", \"value\": 316.925, \"is_missing\": false}, {\"time\": 19.0, \"variable\": \"LW_IN\", \"value\": 316.925, \"is_missing\": false}, {\"time\": 20.0, \"variable\": \"LW_IN\", \"value\": 321.15, \"is_missing\": true}, {\"time\": 21.0, \"variable\": \"LW_IN\", \"value\": 321.15, \"is_missing\": false}, {\"time\": 22.0, \"variable\": \"LW_IN\", \"value\": 321.15, \"is_missing\": false}, {\"time\": 23.0, \"variable\": \"LW_IN\", \"value\": 321.15, \"is_missing\": false}, {\"time\": 24.0, \"variable\": \"LW_IN\", \"value\": 321.15, \"is_missing\": false}, {\"time\": 25.0, \"variable\": \"LW_IN\", \"value\": 321.15, \"is_missing\": false}, {\"time\": 26.0, \"variable\": \"LW_IN\", \"value\": 323.062, \"is_missing\": false}, {\"time\": 27.0, \"variable\": \"LW_IN\", \"value\": 323.062, \"is_missing\": false}, {\"time\": 28.0, \"variable\": \"LW_IN\", \"value\": 323.062, \"is_missing\": false}, {\"time\": 29.0, \"variable\": \"LW_IN\", \"value\": 323.062, \"is_missing\": false}, {\"time\": 30.0, \"variable\": \"LW_IN\", \"value\": 323.062, \"is_missing\": false}, {\"time\": 31.0, \"variable\": \"LW_IN\", \"value\": 323.062, \"is_missing\": false}, {\"time\": 32.0, \"variable\": \"LW_IN\", \"value\": 328.053, \"is_missing\": false}, {\"time\": 33.0, \"variable\": \"LW_IN\", \"value\": 328.053, \"is_missing\": false}, {\"time\": 34.0, \"variable\": \"LW_IN\", \"value\": 328.053, \"is_missing\": true}, {\"time\": 35.0, \"variable\": \"LW_IN\", \"value\": 328.053, \"is_missing\": true}, {\"time\": 36.0, \"variable\": \"LW_IN\", \"value\": 328.053, \"is_missing\": false}, {\"time\": 37.0, \"variable\": \"LW_IN\", \"value\": 328.053, \"is_missing\": false}, {\"time\": 38.0, \"variable\": \"LW_IN\", \"value\": 329.365, \"is_missing\": false}, {\"time\": 39.0, \"variable\": \"LW_IN\", \"value\": 329.365, \"is_missing\": false}, {\"time\": 40.0, \"variable\": \"LW_IN\", \"value\": 329.365, \"is_missing\": false}, {\"time\": 41.0, \"variable\": \"LW_IN\", \"value\": 329.365, \"is_missing\": false}, {\"time\": 42.0, \"variable\": \"LW_IN\", \"value\": 329.365, \"is_missing\": true}, {\"time\": 43.0, \"variable\": \"LW_IN\", \"value\": 329.365, \"is_missing\": true}, {\"time\": 44.0, \"variable\": \"LW_IN\", \"value\": 297.593, \"is_missing\": false}, {\"time\": 45.0, \"variable\": \"LW_IN\", \"value\": 297.593, \"is_missing\": false}, {\"time\": 46.0, \"variable\": \"LW_IN\", \"value\": 297.593, \"is_missing\": false}, {\"time\": 47.0, \"variable\": \"LW_IN\", \"value\": 297.593, \"is_missing\": false}, {\"time\": 48.0, \"variable\": \"LW_IN\", \"value\": 297.593, \"is_missing\": true}, {\"time\": 49.0, \"variable\": \"LW_IN\", \"value\": 297.593, \"is_missing\": false}, {\"time\": 50.0, \"variable\": \"LW_IN\", \"value\": 277.157, \"is_missing\": false}, {\"time\": 51.0, \"variable\": \"LW_IN\", \"value\": 277.157, \"is_missing\": false}, {\"time\": 52.0, \"variable\": \"LW_IN\", \"value\": 277.157, \"is_missing\": false}, {\"time\": 53.0, \"variable\": \"LW_IN\", \"value\": 277.157, \"is_missing\": false}, {\"time\": 54.0, \"variable\": \"LW_IN\", \"value\": 277.157, \"is_missing\": false}, {\"time\": 55.0, \"variable\": \"LW_IN\", \"value\": 277.157, \"is_missing\": true}, {\"time\": 56.0, \"variable\": \"LW_IN\", \"value\": 266.713, \"is_missing\": false}, {\"time\": 57.0, \"variable\": \"LW_IN\", \"value\": 266.713, \"is_missing\": true}, {\"time\": 58.0, \"variable\": \"LW_IN\", \"value\": 266.713, \"is_missing\": false}, {\"time\": 59.0, \"variable\": \"LW_IN\", \"value\": 266.713, \"is_missing\": false}, {\"time\": 60.0, \"variable\": \"LW_IN\", \"value\": 266.713, \"is_missing\": false}, {\"time\": 61.0, \"variable\": \"LW_IN\", \"value\": 266.713, \"is_missing\": false}, {\"time\": 62.0, \"variable\": \"LW_IN\", \"value\": 259.213, \"is_missing\": false}, {\"time\": 63.0, \"variable\": \"LW_IN\", \"value\": 259.213, \"is_missing\": false}, {\"time\": 64.0, \"variable\": \"LW_IN\", \"value\": 259.213, \"is_missing\": false}, {\"time\": 65.0, \"variable\": \"LW_IN\", \"value\": 259.213, \"is_missing\": false}, {\"time\": 66.0, \"variable\": \"LW_IN\", \"value\": 259.213, \"is_missing\": false}, {\"time\": 67.0, \"variable\": \"LW_IN\", \"value\": 259.213, \"is_missing\": false}, {\"time\": 68.0, \"variable\": \"LW_IN\", \"value\": 265.357, \"is_missing\": true}, {\"time\": 69.0, \"variable\": \"LW_IN\", \"value\": 265.357, \"is_missing\": true}, {\"time\": 70.0, \"variable\": \"LW_IN\", \"value\": 265.357, \"is_missing\": true}, {\"time\": 71.0, \"variable\": \"LW_IN\", \"value\": 265.357, \"is_missing\": false}, {\"time\": 72.0, \"variable\": \"LW_IN\", \"value\": 265.357, \"is_missing\": true}, {\"time\": 73.0, \"variable\": \"LW_IN\", \"value\": 265.357, \"is_missing\": false}, {\"time\": 74.0, \"variable\": \"LW_IN\", \"value\": 279.492, \"is_missing\": true}, {\"time\": 75.0, \"variable\": \"LW_IN\", \"value\": 279.492, \"is_missing\": false}, {\"time\": 76.0, \"variable\": \"LW_IN\", \"value\": 279.492, \"is_missing\": false}, {\"time\": 77.0, \"variable\": \"LW_IN\", \"value\": 279.492, \"is_missing\": false}, {\"time\": 78.0, \"variable\": \"LW_IN\", \"value\": 279.492, \"is_missing\": true}, {\"time\": 79.0, \"variable\": \"LW_IN\", \"value\": 279.492, \"is_missing\": false}, {\"time\": 80.0, \"variable\": \"LW_IN\", \"value\": 284.641, \"is_missing\": false}, {\"time\": 81.0, \"variable\": \"LW_IN\", \"value\": 284.641, \"is_missing\": false}, {\"time\": 82.0, \"variable\": \"LW_IN\", \"value\": 284.641, \"is_missing\": false}, {\"time\": 83.0, \"variable\": \"LW_IN\", \"value\": 284.641, \"is_missing\": false}, {\"time\": 84.0, \"variable\": \"LW_IN\", \"value\": 284.641, \"is_missing\": true}, {\"time\": 85.0, \"variable\": \"LW_IN\", \"value\": 284.641, \"is_missing\": false}, {\"time\": 86.0, \"variable\": \"LW_IN\", \"value\": 290.004, \"is_missing\": false}, {\"time\": 87.0, \"variable\": \"LW_IN\", \"value\": 290.004, \"is_missing\": true}, {\"time\": 88.0, \"variable\": \"LW_IN\", \"value\": 290.004, \"is_missing\": true}, {\"time\": 89.0, \"variable\": \"LW_IN\", \"value\": 290.004, \"is_missing\": false}, {\"time\": 90.0, \"variable\": \"LW_IN\", \"value\": 290.004, \"is_missing\": true}, {\"time\": 91.0, \"variable\": \"LW_IN\", \"value\": 290.004, \"is_missing\": false}, {\"time\": 92.0, \"variable\": \"LW_IN\", \"value\": 300.274, \"is_missing\": false}, {\"time\": 93.0, \"variable\": \"LW_IN\", \"value\": 300.274, \"is_missing\": false}, {\"time\": 94.0, \"variable\": \"LW_IN\", \"value\": 300.274, \"is_missing\": true}, {\"time\": 95.0, \"variable\": \"LW_IN\", \"value\": 300.274, \"is_missing\": false}, {\"time\": 96.0, \"variable\": \"LW_IN\", \"value\": 300.274, \"is_missing\": false}, {\"time\": 97.0, \"variable\": \"LW_IN\", \"value\": 300.274, \"is_missing\": false}, {\"time\": 98.0, \"variable\": \"LW_IN\", \"value\": 304.148, \"is_missing\": false}, {\"time\": 99.0, \"variable\": \"LW_IN\", \"value\": 304.148, \"is_missing\": true}], \"data-d11eae1355aedaed77dc4459a0767d97\": [{\"time\": 0.0, \"variable\": \"LW_IN\", \"mean\": 302.475, \"std\": null}, {\"time\": 2.0, \"variable\": \"LW_IN\", \"mean\": 301.677, \"std\": null}, {\"time\": 3.0, \"variable\": \"LW_IN\", \"mean\": 301.677, \"std\": null}, {\"time\": 4.0, \"variable\": \"LW_IN\", \"mean\": 301.677, \"std\": null}, {\"time\": 5.0, \"variable\": \"LW_IN\", \"mean\": 301.677, \"std\": null}, {\"time\": 6.0, \"variable\": \"LW_IN\", \"mean\": 301.677, \"std\": null}, {\"time\": 9.0, \"variable\": \"LW_IN\", \"mean\": 308.046, \"std\": null}, {\"time\": 10.0, \"variable\": \"LW_IN\", \"mean\": 308.046, \"std\": null}, {\"time\": 12.0, \"variable\": \"LW_IN\", \"mean\": 308.046, \"std\": null}, {\"time\": 13.0, \"variable\": \"LW_IN\", \"mean\": 308.046, \"std\": null}, {\"time\": 14.0, \"variable\": \"LW_IN\", \"mean\": 316.925, \"std\": null}, {\"time\": 16.0, \"variable\": \"LW_IN\", \"mean\": 316.925, \"std\": null}, {\"time\": 17.0, \"variable\": \"LW_IN\", \"mean\": 316.925, \"std\": null}, {\"time\": 18.0, \"variable\": \"LW_IN\", \"mean\": 316.925, \"std\": null}, {\"time\": 19.0, \"variable\": \"LW_IN\", \"mean\": 316.925, \"std\": null}, {\"time\": 22.0, \"variable\": \"LW_IN\", \"mean\": 321.15, \"std\": null}, {\"time\": 23.0, \"variable\": \"LW_IN\", \"mean\": 321.15, \"std\": null}, {\"time\": 24.0, \"variable\": \"LW_IN\", \"mean\": 321.15, \"std\": null}, {\"time\": 25.0, \"variable\": \"LW_IN\", \"mean\": 321.15, \"std\": null}, {\"time\": 26.0, \"variable\": \"LW_IN\", \"mean\": 323.062, \"std\": null}, {\"time\": 27.0, \"variable\": \"LW_IN\", \"mean\": 323.062, \"std\": null}, {\"time\": 28.0, \"variable\": \"LW_IN\", \"mean\": 323.062, \"std\": null}, {\"time\": 29.0, \"variable\": \"LW_IN\", \"mean\": 323.062, \"std\": null}, {\"time\": 33.0, \"variable\": \"LW_IN\", \"mean\": 328.053, \"std\": null}, {\"time\": 36.0, \"variable\": \"LW_IN\", \"mean\": 328.053, \"std\": null}, {\"time\": 38.0, \"variable\": \"LW_IN\", \"mean\": 329.365, \"std\": null}, {\"time\": 39.0, \"variable\": \"LW_IN\", \"mean\": 329.365, \"std\": null}, {\"time\": 40.0, \"variable\": \"LW_IN\", \"mean\": 329.365, \"std\": null}, {\"time\": 41.0, \"variable\": \"LW_IN\", \"mean\": 329.365, \"std\": null}, {\"time\": 44.0, \"variable\": \"LW_IN\", \"mean\": 297.593, \"std\": null}, {\"time\": 45.0, \"variable\": \"LW_IN\", \"mean\": 297.593, \"std\": null}, {\"time\": 46.0, \"variable\": \"LW_IN\", \"mean\": 297.593, \"std\": null}, {\"time\": 49.0, \"variable\": \"LW_IN\", \"mean\": 297.593, \"std\": null}, {\"time\": 50.0, \"variable\": \"LW_IN\", \"mean\": 277.157, \"std\": null}, {\"time\": 51.0, \"variable\": \"LW_IN\", \"mean\": 277.157, \"std\": null}, {\"time\": 52.0, \"variable\": \"LW_IN\", \"mean\": 277.157, \"std\": null}, {\"time\": 60.0, \"variable\": \"LW_IN\", \"mean\": 266.713, \"std\": null}, {\"time\": 61.0, \"variable\": \"LW_IN\", \"mean\": 266.713, \"std\": null}, {\"time\": 62.0, \"variable\": \"LW_IN\", \"mean\": 259.213, \"std\": null}, {\"time\": 63.0, \"variable\": \"LW_IN\", \"mean\": 259.213, \"std\": null}, {\"time\": 64.0, \"variable\": \"LW_IN\", \"mean\": 259.213, \"std\": null}, {\"time\": 66.0, \"variable\": \"LW_IN\", \"mean\": 259.213, \"std\": null}, {\"time\": 67.0, \"variable\": \"LW_IN\", \"mean\": 259.213, \"std\": null}, {\"time\": 71.0, \"variable\": \"LW_IN\", \"mean\": 265.357, \"std\": null}, {\"time\": 73.0, \"variable\": \"LW_IN\", \"mean\": 265.357, \"std\": null}, {\"time\": 76.0, \"variable\": \"LW_IN\", \"mean\": 279.492, \"std\": null}, {\"time\": 79.0, \"variable\": \"LW_IN\", \"mean\": 279.492, \"std\": null}, {\"time\": 80.0, \"variable\": \"LW_IN\", \"mean\": 284.641, \"std\": null}, {\"time\": 82.0, \"variable\": \"LW_IN\", \"mean\": 284.641, \"std\": null}, {\"time\": 86.0, \"variable\": \"LW_IN\", \"mean\": 290.004, \"std\": null}, {\"time\": 89.0, \"variable\": \"LW_IN\", \"mean\": 290.004, \"std\": null}, {\"time\": 91.0, \"variable\": \"LW_IN\", \"mean\": 290.004, \"std\": null}, {\"time\": 92.0, \"variable\": \"LW_IN\", \"mean\": 300.274, \"std\": null}, {\"time\": 93.0, \"variable\": \"LW_IN\", \"mean\": 300.274, \"std\": null}, {\"time\": 95.0, \"variable\": \"LW_IN\", \"mean\": 300.274, \"std\": null}, {\"time\": 96.0, \"variable\": \"LW_IN\", \"mean\": 300.274, \"std\": null}, {\"time\": 97.0, \"variable\": \"LW_IN\", \"mean\": 300.274, \"std\": null}, {\"time\": 1.0, \"variable\": \"LW_IN\", \"mean\": 301.6432800292969, \"std\": 3.9982244968414307}, {\"time\": 7.0, \"variable\": \"LW_IN\", \"mean\": 301.677001953125, \"std\": 0.0}, {\"time\": 8.0, \"variable\": \"LW_IN\", \"mean\": 304.0383605957031, \"std\": 3.7290565967559814}, {\"time\": 11.0, \"variable\": \"LW_IN\", \"mean\": 308.0459899902344, \"std\": 0.0}, {\"time\": 15.0, \"variable\": \"LW_IN\", \"mean\": 314.2969055175781, \"std\": 3.720689058303833}, {\"time\": 20.0, \"variable\": \"LW_IN\", \"mean\": 319.4474792480469, \"std\": 3.721003770828247}, {\"time\": 21.0, \"variable\": \"LW_IN\", \"mean\": 321.1499938964844, \"std\": 0.0}, {\"time\": 30.0, \"variable\": \"LW_IN\", \"mean\": 323.06201171875, \"std\": 0.0}, {\"time\": 31.0, \"variable\": \"LW_IN\", \"mean\": 323.06201171875, \"std\": 0.0}, {\"time\": 32.0, \"variable\": \"LW_IN\", \"mean\": 328.0530090332031, \"std\": 0.0}, {\"time\": 34.0, \"variable\": \"LW_IN\", \"mean\": 329.29217529296875, \"std\": 3.779068946838379}, {\"time\": 35.0, \"variable\": \"LW_IN\", \"mean\": 330.1109313964844, \"std\": 3.7771048545837402}, {\"time\": 37.0, \"variable\": \"LW_IN\", \"mean\": 328.0530090332031, \"std\": 0.0}, {\"time\": 42.0, \"variable\": \"LW_IN\", \"mean\": 317.7345886230469, \"std\": 3.778069019317627}, {\"time\": 43.0, \"variable\": \"LW_IN\", \"mean\": 312.6051330566406, \"std\": 3.7835097312927246}, {\"time\": 47.0, \"variable\": \"LW_IN\", \"mean\": 297.5929870605469, \"std\": 0.0}, {\"time\": 48.0, \"variable\": \"LW_IN\", \"mean\": 289.5649108886719, \"std\": 3.7236530780792236}, {\"time\": 53.0, \"variable\": \"LW_IN\", \"mean\": 277.1570129394531, \"std\": 0.0}, {\"time\": 54.0, \"variable\": \"LW_IN\", \"mean\": 277.1570129394531, \"std\": 0.0}, {\"time\": 55.0, \"variable\": \"LW_IN\", \"mean\": 272.5837707519531, \"std\": 3.765345573425293}, {\"time\": 56.0, \"variable\": \"LW_IN\", \"mean\": 266.7130126953125, \"std\": 0.0}, {\"time\": 57.0, \"variable\": \"LW_IN\", \"mean\": 269.9075012207031, \"std\": 3.7656819820404053}, {\"time\": 58.0, \"variable\": \"LW_IN\", \"mean\": 266.7130126953125, \"std\": 0.0}, {\"time\": 59.0, \"variable\": \"LW_IN\", \"mean\": 266.7130126953125, \"std\": 0.0}, {\"time\": 65.0, \"variable\": \"LW_IN\", \"mean\": 259.2130126953125, \"std\": 0.0}, {\"time\": 68.0, \"variable\": \"LW_IN\", \"mean\": 260.349365234375, \"std\": 3.8936855792999268}, {\"time\": 69.0, \"variable\": \"LW_IN\", \"mean\": 261.7204895019531, \"std\": 3.942749500274658}, {\"time\": 70.0, \"variable\": \"LW_IN\", \"mean\": 263.37139892578125, \"std\": 3.9626829624176025}, {\"time\": 72.0, \"variable\": \"LW_IN\", \"mean\": 267.067138671875, \"std\": 3.913187265396118}, {\"time\": 74.0, \"variable\": \"LW_IN\", \"mean\": 271.2248840332031, \"std\": 3.8197309970855713}, {\"time\": 75.0, \"variable\": \"LW_IN\", \"mean\": 279.49200439453125, \"std\": 0.0}, {\"time\": 77.0, \"variable\": \"LW_IN\", \"mean\": 279.49200439453125, \"std\": 0.0}, {\"time\": 78.0, \"variable\": \"LW_IN\", \"mean\": 281.2828369140625, \"std\": 3.7401044368743896}, {\"time\": 81.0, \"variable\": \"LW_IN\", \"mean\": 284.6409912109375, \"std\": 0.0}, {\"time\": 83.0, \"variable\": \"LW_IN\", \"mean\": 284.6409912109375, \"std\": 0.0}, {\"time\": 84.0, \"variable\": \"LW_IN\", \"mean\": 285.89556884765625, \"std\": 3.773001194000244}, {\"time\": 85.0, \"variable\": \"LW_IN\", \"mean\": 284.6409912109375, \"std\": 0.0}, {\"time\": 87.0, \"variable\": \"LW_IN\", \"mean\": 287.8942565917969, \"std\": 3.869102954864502}, {\"time\": 88.0, \"variable\": \"LW_IN\", \"mean\": 289.1845397949219, \"std\": 3.8717780113220215}, {\"time\": 90.0, \"variable\": \"LW_IN\", \"mean\": 292.60089111328125, \"std\": 3.8315482139587402}, {\"time\": 94.0, \"variable\": \"LW_IN\", \"mean\": 299.9034118652344, \"std\": 3.777559518814087}, {\"time\": 98.0, \"variable\": \"LW_IN\", \"mean\": 304.14801025390625, \"std\": 0.0}, {\"time\": 99.0, \"variable\": \"LW_IN\", \"mean\": 302.4738464355469, \"std\": 4.741166591644287}], \"data-633214945d49f06f7ae3fda4bafecde0\": [{\"time\": 0.0, \"variable\": \"VPD\", \"value\": 0.222, \"is_missing\": false}, {\"time\": 1.0, \"variable\": \"VPD\", \"value\": 0.122, \"is_missing\": true}, {\"time\": 2.0, \"variable\": \"VPD\", \"value\": 0.09, \"is_missing\": false}, {\"time\": 3.0, \"variable\": \"VPD\", \"value\": 0.11, \"is_missing\": false}, {\"time\": 4.0, \"variable\": \"VPD\", \"value\": 0.102, \"is_missing\": false}, {\"time\": 5.0, \"variable\": \"VPD\", \"value\": 0.111, \"is_missing\": false}, {\"time\": 6.0, \"variable\": \"VPD\", \"value\": 0.109, \"is_missing\": false}, {\"time\": 7.0, \"variable\": \"VPD\", \"value\": 0.107, \"is_missing\": false}, {\"time\": 8.0, \"variable\": \"VPD\", \"value\": 0.122, \"is_missing\": true}, {\"time\": 9.0, \"variable\": \"VPD\", \"value\": 0.138, \"is_missing\": false}, {\"time\": 10.0, \"variable\": \"VPD\", \"value\": 0.138, \"is_missing\": false}, {\"time\": 11.0, \"variable\": \"VPD\", \"value\": 0.122, \"is_missing\": false}, {\"time\": 12.0, \"variable\": \"VPD\", \"value\": 0.098, \"is_missing\": false}, {\"time\": 13.0, \"variable\": \"VPD\", \"value\": 0.066, \"is_missing\": false}, {\"time\": 14.0, \"variable\": \"VPD\", \"value\": 0.044, \"is_missing\": false}, {\"time\": 15.0, \"variable\": \"VPD\", \"value\": 0.026, \"is_missing\": false}, {\"time\": 16.0, \"variable\": \"VPD\", \"value\": 0.016, \"is_missing\": false}, {\"time\": 17.0, \"variable\": \"VPD\", \"value\": 0.01, \"is_missing\": false}, {\"time\": 18.0, \"variable\": \"VPD\", \"value\": 0.006, \"is_missing\": false}, {\"time\": 19.0, \"variable\": \"VPD\", \"value\": 0.006, \"is_missing\": false}, {\"time\": 20.0, \"variable\": \"VPD\", \"value\": 0.006, \"is_missing\": true}, {\"time\": 21.0, \"variable\": \"VPD\", \"value\": 0.011, \"is_missing\": false}, {\"time\": 22.0, \"variable\": \"VPD\", \"value\": 0.019, \"is_missing\": false}, {\"time\": 23.0, \"variable\": \"VPD\", \"value\": 0.014, \"is_missing\": false}, {\"time\": 24.0, \"variable\": \"VPD\", \"value\": 0.008, \"is_missing\": false}, {\"time\": 25.0, \"variable\": \"VPD\", \"value\": 0.006, \"is_missing\": false}, {\"time\": 26.0, \"variable\": \"VPD\", \"value\": 0.0, \"is_missing\": false}, {\"time\": 27.0, \"variable\": \"VPD\", \"value\": 0.0, \"is_missing\": false}, {\"time\": 28.0, \"variable\": \"VPD\", \"value\": 0.0, \"is_missing\": false}, {\"time\": 29.0, \"variable\": \"VPD\", \"value\": 0.0, \"is_missing\": false}, {\"time\": 30.0, \"variable\": \"VPD\", \"value\": 0.0, \"is_missing\": false}, {\"time\": 31.0, \"variable\": \"VPD\", \"value\": 0.0, \"is_missing\": true}, {\"time\": 32.0, \"variable\": \"VPD\", \"value\": 0.0, \"is_missing\": false}, {\"time\": 33.0, \"variable\": \"VPD\", \"value\": 0.0, \"is_missing\": false}, {\"time\": 34.0, \"variable\": \"VPD\", \"value\": 0.0, \"is_missing\": true}, {\"time\": 35.0, \"variable\": \"VPD\", \"value\": 0.0, \"is_missing\": true}, {\"time\": 36.0, \"variable\": \"VPD\", \"value\": 0.0, \"is_missing\": false}, {\"time\": 37.0, \"variable\": \"VPD\", \"value\": 0.002, \"is_missing\": false}, {\"time\": 38.0, \"variable\": \"VPD\", \"value\": 0.009, \"is_missing\": false}, {\"time\": 39.0, \"variable\": \"VPD\", \"value\": 0.014, \"is_missing\": false}, {\"time\": 40.0, \"variable\": \"VPD\", \"value\": 0.014, \"is_missing\": false}, {\"time\": 41.0, \"variable\": \"VPD\", \"value\": 0.038, \"is_missing\": false}, {\"time\": 42.0, \"variable\": \"VPD\", \"value\": 0.079, \"is_missing\": true}, {\"time\": 43.0, \"variable\": \"VPD\", \"value\": 0.257, \"is_missing\": true}, {\"time\": 44.0, \"variable\": \"VPD\", \"value\": 0.388, \"is_missing\": false}, {\"time\": 45.0, \"variable\": \"VPD\", \"value\": 0.555, \"is_missing\": false}, {\"time\": 46.0, \"variable\": \"VPD\", \"value\": 0.452, \"is_missing\": false}, {\"time\": 47.0, \"variable\": \"VPD\", \"value\": 0.435, \"is_missing\": true}, {\"time\": 48.0, \"variable\": \"VPD\", \"value\": 0.248, \"is_missing\": true}, {\"time\": 49.0, \"variable\": \"VPD\", \"value\": 0.234, \"is_missing\": false}, {\"time\": 50.0, \"variable\": \"VPD\", \"value\": 0.377, \"is_missing\": false}, {\"time\": 51.0, \"variable\": \"VPD\", \"value\": 0.414, \"is_missing\": false}, {\"time\": 52.0, \"variable\": \"VPD\", \"value\": 0.356, \"is_missing\": false}, {\"time\": 53.0, \"variable\": \"VPD\", \"value\": 0.205, \"is_missing\": true}, {\"time\": 54.0, \"variable\": \"VPD\", \"value\": 0.188, \"is_missing\": false}, {\"time\": 55.0, \"variable\": \"VPD\", \"value\": 0.232, \"is_missing\": true}, {\"time\": 56.0, \"variable\": \"VPD\", \"value\": 0.27, \"is_missing\": false}, {\"time\": 57.0, \"variable\": \"VPD\", \"value\": 0.273, \"is_missing\": true}, {\"time\": 58.0, \"variable\": \"VPD\", \"value\": 0.225, \"is_missing\": true}, {\"time\": 59.0, \"variable\": \"VPD\", \"value\": 0.123, \"is_missing\": false}, {\"time\": 60.0, \"variable\": \"VPD\", \"value\": 0.053, \"is_missing\": false}, {\"time\": 61.0, \"variable\": \"VPD\", \"value\": 0.026, \"is_missing\": false}, {\"time\": 62.0, \"variable\": \"VPD\", \"value\": 0.013, \"is_missing\": false}, {\"time\": 63.0, \"variable\": \"VPD\", \"value\": 0.017, \"is_missing\": false}, {\"time\": 64.0, \"variable\": \"VPD\", \"value\": 0.18, \"is_missing\": false}, {\"time\": 65.0, \"variable\": \"VPD\", \"value\": 0.162, \"is_missing\": false}, {\"time\": 66.0, \"variable\": \"VPD\", \"value\": 0.177, \"is_missing\": false}, {\"time\": 67.0, \"variable\": \"VPD\", \"value\": 0.181, \"is_missing\": false}, {\"time\": 68.0, \"variable\": \"VPD\", \"value\": 0.188, \"is_missing\": false}, {\"time\": 69.0, \"variable\": \"VPD\", \"value\": 0.276, \"is_missing\": true}, {\"time\": 70.0, \"variable\": \"VPD\", \"value\": 0.309, \"is_missing\": true}, {\"time\": 71.0, \"variable\": \"VPD\", \"value\": 0.346, \"is_missing\": false}, {\"time\": 72.0, \"variable\": \"VPD\", \"value\": 0.297, \"is_missing\": true}, {\"time\": 73.0, \"variable\": \"VPD\", \"value\": 0.349, \"is_missing\": false}, {\"time\": 74.0, \"variable\": \"VPD\", \"value\": 0.362, \"is_missing\": true}, {\"time\": 75.0, \"variable\": \"VPD\", \"value\": 0.381, \"is_missing\": false}, {\"time\": 76.0, \"variable\": \"VPD\", \"value\": 0.369, \"is_missing\": false}, {\"time\": 77.0, \"variable\": \"VPD\", \"value\": 0.24, \"is_missing\": true}, {\"time\": 78.0, \"variable\": \"VPD\", \"value\": 0.111, \"is_missing\": true}, {\"time\": 79.0, \"variable\": \"VPD\", \"value\": 0.062, \"is_missing\": false}, {\"time\": 80.0, \"variable\": \"VPD\", \"value\": 0.044, \"is_missing\": false}, {\"time\": 81.0, \"variable\": \"VPD\", \"value\": 0.034, \"is_missing\": false}, {\"time\": 82.0, \"variable\": \"VPD\", \"value\": 0.032, \"is_missing\": false}, {\"time\": 83.0, \"variable\": \"VPD\", \"value\": 0.055, \"is_missing\": false}, {\"time\": 84.0, \"variable\": \"VPD\", \"value\": 0.125, \"is_missing\": false}, {\"time\": 85.0, \"variable\": \"VPD\", \"value\": 0.128, \"is_missing\": false}, {\"time\": 86.0, \"variable\": \"VPD\", \"value\": 0.201, \"is_missing\": false}, {\"time\": 87.0, \"variable\": \"VPD\", \"value\": 0.174, \"is_missing\": true}, {\"time\": 88.0, \"variable\": \"VPD\", \"value\": 0.154, \"is_missing\": false}, {\"time\": 89.0, \"variable\": \"VPD\", \"value\": 0.177, \"is_missing\": false}, {\"time\": 90.0, \"variable\": \"VPD\", \"value\": 0.192, \"is_missing\": true}, {\"time\": 91.0, \"variable\": \"VPD\", \"value\": 0.149, \"is_missing\": false}, {\"time\": 92.0, \"variable\": \"VPD\", \"value\": 0.112, \"is_missing\": false}, {\"time\": 93.0, \"variable\": \"VPD\", \"value\": 0.075, \"is_missing\": false}, {\"time\": 94.0, \"variable\": \"VPD\", \"value\": 0.038, \"is_missing\": true}, {\"time\": 95.0, \"variable\": \"VPD\", \"value\": 0.021, \"is_missing\": false}, {\"time\": 96.0, \"variable\": \"VPD\", \"value\": 0.013, \"is_missing\": false}, {\"time\": 97.0, \"variable\": \"VPD\", \"value\": 0.004, \"is_missing\": false}, {\"time\": 98.0, \"variable\": \"VPD\", \"value\": 0.0, \"is_missing\": false}, {\"time\": 99.0, \"variable\": \"VPD\", \"value\": 0.0, \"is_missing\": true}], \"data-2ba75caa391ef66da4ace74c1d6a53d8\": [{\"time\": 0.0, \"variable\": \"VPD\", \"mean\": 0.222, \"std\": null}, {\"time\": 2.0, \"variable\": \"VPD\", \"mean\": 0.09, \"std\": null}, {\"time\": 3.0, \"variable\": \"VPD\", \"mean\": 0.11, \"std\": null}, {\"time\": 4.0, \"variable\": \"VPD\", \"mean\": 0.102, \"std\": null}, {\"time\": 5.0, \"variable\": \"VPD\", \"mean\": 0.111, \"std\": null}, {\"time\": 6.0, \"variable\": \"VPD\", \"mean\": 0.109, \"std\": null}, {\"time\": 9.0, \"variable\": \"VPD\", \"mean\": 0.138, \"std\": null}, {\"time\": 10.0, \"variable\": \"VPD\", \"mean\": 0.138, \"std\": null}, {\"time\": 12.0, \"variable\": \"VPD\", \"mean\": 0.098, \"std\": null}, {\"time\": 13.0, \"variable\": \"VPD\", \"mean\": 0.066, \"std\": null}, {\"time\": 14.0, \"variable\": \"VPD\", \"mean\": 0.044, \"std\": null}, {\"time\": 16.0, \"variable\": \"VPD\", \"mean\": 0.016, \"std\": null}, {\"time\": 17.0, \"variable\": \"VPD\", \"mean\": 0.01, \"std\": null}, {\"time\": 18.0, \"variable\": \"VPD\", \"mean\": 0.006, \"std\": null}, {\"time\": 19.0, \"variable\": \"VPD\", \"mean\": 0.006, \"std\": null}, {\"time\": 22.0, \"variable\": \"VPD\", \"mean\": 0.019, \"std\": null}, {\"time\": 23.0, \"variable\": \"VPD\", \"mean\": 0.014, \"std\": null}, {\"time\": 24.0, \"variable\": \"VPD\", \"mean\": 0.008, \"std\": null}, {\"time\": 25.0, \"variable\": \"VPD\", \"mean\": 0.006, \"std\": null}, {\"time\": 26.0, \"variable\": \"VPD\", \"mean\": 0.0, \"std\": null}, {\"time\": 27.0, \"variable\": \"VPD\", \"mean\": 0.0, \"std\": null}, {\"time\": 28.0, \"variable\": \"VPD\", \"mean\": 0.0, \"std\": null}, {\"time\": 29.0, \"variable\": \"VPD\", \"mean\": 0.0, \"std\": null}, {\"time\": 33.0, \"variable\": \"VPD\", \"mean\": 0.0, \"std\": null}, {\"time\": 36.0, \"variable\": \"VPD\", \"mean\": 0.0, \"std\": null}, {\"time\": 38.0, \"variable\": \"VPD\", \"mean\": 0.009, \"std\": null}, {\"time\": 39.0, \"variable\": \"VPD\", \"mean\": 0.014, \"std\": null}, {\"time\": 40.0, \"variable\": \"VPD\", \"mean\": 0.014, \"std\": null}, {\"time\": 41.0, \"variable\": \"VPD\", \"mean\": 0.038, \"std\": null}, {\"time\": 44.0, \"variable\": \"VPD\", \"mean\": 0.388, \"std\": null}, {\"time\": 45.0, \"variable\": \"VPD\", \"mean\": 0.555, \"std\": null}, {\"time\": 46.0, \"variable\": \"VPD\", \"mean\": 0.452, \"std\": null}, {\"time\": 49.0, \"variable\": \"VPD\", \"mean\": 0.234, \"std\": null}, {\"time\": 50.0, \"variable\": \"VPD\", \"mean\": 0.377, \"std\": null}, {\"time\": 51.0, \"variable\": \"VPD\", \"mean\": 0.414, \"std\": null}, {\"time\": 52.0, \"variable\": \"VPD\", \"mean\": 0.356, \"std\": null}, {\"time\": 60.0, \"variable\": \"VPD\", \"mean\": 0.053, \"std\": null}, {\"time\": 61.0, \"variable\": \"VPD\", \"mean\": 0.026, \"std\": null}, {\"time\": 62.0, \"variable\": \"VPD\", \"mean\": 0.013, \"std\": null}, {\"time\": 63.0, \"variable\": \"VPD\", \"mean\": 0.017, \"std\": null}, {\"time\": 64.0, \"variable\": \"VPD\", \"mean\": 0.18, \"std\": null}, {\"time\": 66.0, \"variable\": \"VPD\", \"mean\": 0.177, \"std\": null}, {\"time\": 67.0, \"variable\": \"VPD\", \"mean\": 0.181, \"std\": null}, {\"time\": 71.0, \"variable\": \"VPD\", \"mean\": 0.346, \"std\": null}, {\"time\": 73.0, \"variable\": \"VPD\", \"mean\": 0.349, \"std\": null}, {\"time\": 76.0, \"variable\": \"VPD\", \"mean\": 0.369, \"std\": null}, {\"time\": 79.0, \"variable\": \"VPD\", \"mean\": 0.062, \"std\": null}, {\"time\": 80.0, \"variable\": \"VPD\", \"mean\": 0.044, \"std\": null}, {\"time\": 82.0, \"variable\": \"VPD\", \"mean\": 0.032, \"std\": null}, {\"time\": 86.0, \"variable\": \"VPD\", \"mean\": 0.201, \"std\": null}, {\"time\": 89.0, \"variable\": \"VPD\", \"mean\": 0.177, \"std\": null}, {\"time\": 91.0, \"variable\": \"VPD\", \"mean\": 0.149, \"std\": null}, {\"time\": 92.0, \"variable\": \"VPD\", \"mean\": 0.112, \"std\": null}, {\"time\": 93.0, \"variable\": \"VPD\", \"mean\": 0.075, \"std\": null}, {\"time\": 95.0, \"variable\": \"VPD\", \"mean\": 0.021, \"std\": null}, {\"time\": 96.0, \"variable\": \"VPD\", \"mean\": 0.013, \"std\": null}, {\"time\": 97.0, \"variable\": \"VPD\", \"mean\": 0.004, \"std\": null}, {\"time\": 1.0, \"variable\": \"VPD\", \"mean\": 0.013328105211257935, \"std\": 0.10668587684631348}, {\"time\": 7.0, \"variable\": \"VPD\", \"mean\": 0.10700000077486038, \"std\": 0.0}, {\"time\": 8.0, \"variable\": \"VPD\", \"mean\": 0.03166627138853073, \"std\": 0.10661923885345459}, {\"time\": 11.0, \"variable\": \"VPD\", \"mean\": 0.12200000137090683, \"std\": 0.0}, {\"time\": 15.0, \"variable\": \"VPD\", \"mean\": 0.026000000536441803, \"std\": 0.0}, {\"time\": 20.0, \"variable\": \"VPD\", \"mean\": 0.017075389623641968, \"std\": 0.10661580413579941}, {\"time\": 21.0, \"variable\": \"VPD\", \"mean\": 0.010999999940395355, \"std\": 0.0}, {\"time\": 30.0, \"variable\": \"VPD\", \"mean\": 0.0, \"std\": 0.0}, {\"time\": 31.0, \"variable\": \"VPD\", \"mean\": 0.03649798780679703, \"std\": 0.10660001635551453}, {\"time\": 32.0, \"variable\": \"VPD\", \"mean\": 0.0, \"std\": 0.0}, {\"time\": 34.0, \"variable\": \"VPD\", \"mean\": 0.0574590340256691, \"std\": 0.10665903240442276}, {\"time\": 35.0, \"variable\": \"VPD\", \"mean\": 0.0740959644317627, \"std\": 0.10665958374738693}, {\"time\": 37.0, \"variable\": \"VPD\", \"mean\": 0.001999996602535248, \"std\": 0.0}, {\"time\": 42.0, \"variable\": \"VPD\", \"mean\": 0.2005545049905777, \"std\": 0.10664118826389313}, {\"time\": 43.0, \"variable\": \"VPD\", \"mean\": 0.2248895764350891, \"std\": 0.10664229840040207}, {\"time\": 47.0, \"variable\": \"VPD\", \"mean\": 0.26918378472328186, \"std\": 0.10658859461545944}, {\"time\": 48.0, \"variable\": \"VPD\", \"mean\": 0.2656054198741913, \"std\": 0.10659227520227432}, {\"time\": 53.0, \"variable\": \"VPD\", \"mean\": 0.2500169277191162, \"std\": 0.10661724209785461}, {\"time\": 54.0, \"variable\": \"VPD\", \"mean\": 0.18799999356269836, \"std\": 0.0}, {\"time\": 55.0, \"variable\": \"VPD\", \"mean\": 0.23632872104644775, \"std\": 0.10678637027740479}, {\"time\": 56.0, \"variable\": \"VPD\", \"mean\": 0.27000001072883606, \"std\": 0.0}, {\"time\": 57.0, \"variable\": \"VPD\", \"mean\": 0.22202244400978088, \"std\": 0.10673806816339493}, {\"time\": 58.0, \"variable\": \"VPD\", \"mean\": 0.2177295982837677, \"std\": 0.1066569983959198}, {\"time\": 59.0, \"variable\": \"VPD\", \"mean\": 0.12300000339746475, \"std\": 0.0}, {\"time\": 65.0, \"variable\": \"VPD\", \"mean\": 0.16200000047683716, \"std\": 0.0}, {\"time\": 68.0, \"variable\": \"VPD\", \"mean\": 0.18799999356269836, \"std\": 0.0}, {\"time\": 69.0, \"variable\": \"VPD\", \"mean\": 0.20280030369758606, \"std\": 0.106700100004673}, {\"time\": 70.0, \"variable\": \"VPD\", \"mean\": 0.20793819427490234, \"std\": 0.1067170649766922}, {\"time\": 72.0, \"variable\": \"VPD\", \"mean\": 0.2315954566001892, \"std\": 0.10667493939399719}, {\"time\": 74.0, \"variable\": \"VPD\", \"mean\": 0.25311246514320374, \"std\": 0.1066664382815361}, {\"time\": 75.0, \"variable\": \"VPD\", \"mean\": 0.38100001215934753, \"std\": 0.0}, {\"time\": 77.0, \"variable\": \"VPD\", \"mean\": 0.2202150821685791, \"std\": 0.1066475659608841}, {\"time\": 78.0, \"variable\": \"VPD\", \"mean\": 0.19464100897312164, \"std\": 0.10662861168384552}, {\"time\": 81.0, \"variable\": \"VPD\", \"mean\": 0.03400000184774399, \"std\": 0.0}, {\"time\": 83.0, \"variable\": \"VPD\", \"mean\": 0.054999999701976776, \"std\": 0.0}, {\"time\": 84.0, \"variable\": \"VPD\", \"mean\": 0.125, \"std\": 0.0}, {\"time\": 85.0, \"variable\": \"VPD\", \"mean\": 0.12800000607967377, \"std\": 0.0}, {\"time\": 87.0, \"variable\": \"VPD\", \"mean\": 0.15822188556194305, \"std\": 0.10664340853691101}, {\"time\": 88.0, \"variable\": \"VPD\", \"mean\": 0.15399999916553497, \"std\": 0.0}, {\"time\": 90.0, \"variable\": \"VPD\", \"mean\": 0.15647312998771667, \"std\": 0.1066216453909874}, {\"time\": 94.0, \"variable\": \"VPD\", \"mean\": 0.1085769534111023, \"std\": 0.10660707205533981}, {\"time\": 98.0, \"variable\": \"VPD\", \"mean\": 0.0, \"std\": 0.0}, {\"time\": 99.0, \"variable\": \"VPD\", \"mean\": 0.08071759343147278, \"std\": 0.10733303427696228}]}}, {\"mode\": \"vega-lite\"});\n",
       "</script>"
      ],
      "text/plain": [
       "alt.VConcatChart(...)"
      ]
     },
     "execution_count": 11,
     "metadata": {},
     "output_type": "execute_result"
    }
   ],
   "source": [
    "hai_plot = gpfa_hai.plot_pred(units=units, properties =  {'height': 190 , 'width': 380})\n",
    "\n",
    "hai_plot.save(\"plots/plot_hai_winter_random_gaps_2lat.vl.json\")\n",
    "hai_plot"
   ]
  },
  {
   "cell_type": "code",
   "execution_count": null,
   "id": "814f3e29-02a2-4f0d-8cce-6350517bcfe9",
   "metadata": {
    "pycharm": {
     "name": "#%%\n"
    }
   },
   "outputs": [
    {
     "data": {
      "text/html": [
       "<div>\n",
       "<style scoped>\n",
       "    .dataframe tbody tr th:only-of-type {\n",
       "        vertical-align: middle;\n",
       "    }\n",
       "\n",
       "    .dataframe tbody tr th {\n",
       "        vertical-align: top;\n",
       "    }\n",
       "\n",
       "    .dataframe thead th {\n",
       "        text-align: right;\n",
       "    }\n",
       "</style>\n",
       "<table border=\"1\" class=\"dataframe\">\n",
       "  <thead>\n",
       "    <tr style=\"text-align: right;\">\n",
       "      <th></th>\n",
       "      <th>variable</th>\n",
       "      <th>r2</th>\n",
       "    </tr>\n",
       "  </thead>\n",
       "  <tbody>\n",
       "    <tr>\n",
       "      <th>0</th>\n",
       "      <td>TA</td>\n",
       "      <td>0.992238</td>\n",
       "    </tr>\n",
       "    <tr>\n",
       "      <th>1</th>\n",
       "      <td>SW_IN</td>\n",
       "      <td>0.585821</td>\n",
       "    </tr>\n",
       "    <tr>\n",
       "      <th>2</th>\n",
       "      <td>LW_IN</td>\n",
       "      <td>0.986069</td>\n",
       "    </tr>\n",
       "    <tr>\n",
       "      <th>3</th>\n",
       "      <td>VPD</td>\n",
       "      <td>0.924735</td>\n",
       "    </tr>\n",
       "  </tbody>\n",
       "</table>\n",
       "</div>"
      ],
      "text/plain": [
       "  variable        r2\n",
       "0       TA  0.992238\n",
       "1    SW_IN  0.585821\n",
       "2    LW_IN  0.986069\n",
       "3      VPD  0.924735"
      ]
     },
     "execution_count": 14,
     "metadata": {},
     "output_type": "execute_result"
    }
   ],
   "source": [
    "gpfa_hai.r2()"
   ]
  },
  {
   "cell_type": "code",
   "execution_count": null,
   "id": "36695557-1192-4991-99e1-36d580add57e",
   "metadata": {
    "pycharm": {
     "name": "#%%\n"
    }
   },
   "outputs": [
    {
     "data": {
      "text/html": [
       "<div>\n",
       "<style scoped>\n",
       "    .dataframe tbody tr th:only-of-type {\n",
       "        vertical-align: middle;\n",
       "    }\n",
       "\n",
       "    .dataframe tbody tr th {\n",
       "        vertical-align: top;\n",
       "    }\n",
       "\n",
       "    .dataframe thead th {\n",
       "        text-align: right;\n",
       "    }\n",
       "</style>\n",
       "<table border=\"1\" class=\"dataframe\">\n",
       "  <thead>\n",
       "    <tr style=\"text-align: right;\">\n",
       "      <th></th>\n",
       "      <th>variable</th>\n",
       "      <th>rmse</th>\n",
       "    </tr>\n",
       "  </thead>\n",
       "  <tbody>\n",
       "    <tr>\n",
       "      <th>0</th>\n",
       "      <td>TA</td>\n",
       "      <td>0.069741</td>\n",
       "    </tr>\n",
       "    <tr>\n",
       "      <th>1</th>\n",
       "      <td>SW_IN</td>\n",
       "      <td>24.124145</td>\n",
       "    </tr>\n",
       "    <tr>\n",
       "      <th>2</th>\n",
       "      <td>LW_IN</td>\n",
       "      <td>2.602227</td>\n",
       "    </tr>\n",
       "    <tr>\n",
       "      <th>3</th>\n",
       "      <td>VPD</td>\n",
       "      <td>0.036142</td>\n",
       "    </tr>\n",
       "  </tbody>\n",
       "</table>\n",
       "</div>"
      ],
      "text/plain": [
       "  variable       rmse\n",
       "0       TA   0.069741\n",
       "1    SW_IN  24.124145\n",
       "2    LW_IN   2.602227\n",
       "3      VPD   0.036142"
      ]
     },
     "execution_count": 13,
     "metadata": {},
     "output_type": "execute_result"
    }
   ],
   "source": [
    "gpfa_hai.rmse()"
   ]
  },
  {
   "cell_type": "code",
   "execution_count": 15,
   "id": "4a3c97d0-a1e0-4c9b-9db1-323fdba16165",
   "metadata": {
    "pycharm": {
     "name": "#%%\n"
    }
   },
   "outputs": [
    {
     "data": {
      "text/plain": [
       "<AxesSubplot: >"
      ]
     },
     "execution_count": 15,
     "metadata": {},
     "output_type": "execute_result"
    },
    {
     "data": {
      "image/png": "[encoded data removed]",
      "text/plain": [
       "<Figure size 432x288 with 1 Axes>"
      ]
     },
     "metadata": {
      "needs_background": "light"
     },
     "output_type": "display_data"
    }
   ],
   "source": [
    "losses = pd.DataFrame(gpfa_hai.learner.losses.cpu().numpy(), columns=['loss'])\n",
    "\n",
    "p = losses.plot()\n",
    "plt.savefig(here('analysis/plots/loss_plot_hai_winter_4_var_200_obs_random_gaps_row_20_value_10.png'))\n",
    "p"
   ]
  },
  {
   "cell_type": "markdown",
   "id": "0fe875b2-2721-4699-85a7-72751d79948e",
   "metadata": {
    "pycharm": {
     "name": "#%% md\n"
    }
   },
   "source": [
    "Lambda parameter, the latent variable is very similar to the "
   ]
  },
  {
   "cell_type": "code",
   "execution_count": 17,
   "id": "63dcb7e6-7f1c-4acd-ae30-50b847cdf7ab",
   "metadata": {
    "pycharm": {
     "name": "#%%\n"
    }
   },
   "outputs": [
    {
     "data": {
      "text/plain": [
       "tensor([[ 0.1016,  0.7825],\n",
       "        [-0.2325,  0.0404],\n",
       "        [ 0.7419, -0.1678],\n",
       "        [-0.2780,  0.4491]], device='cuda:0')"
      ]
     },
     "execution_count": 17,
     "metadata": {},
     "output_type": "execute_result"
    }
   ],
   "source": [
    "gpfa_hai.learner.model.covar_module.Lambda.detach()"
   ]
  },
  {
   "cell_type": "markdown",
   "id": "10e9be2a-e60f-4bbb-933b-cd46bfc89f56",
   "metadata": {
    "pycharm": {
     "name": "#%% md\n"
    }
   },
   "source": [
    "this is the value of the length scale of the RBF latent kernel"
   ]
  },
  {
   "cell_type": "code",
   "execution_count": 18,
   "id": "8fadba30-81f5-4889-a062-3166b25fc0c3",
   "metadata": {
    "pycharm": {
     "name": "#%%\n"
    },
    "tags": []
   },
   "outputs": [
    {
     "data": {
      "text/plain": [
       "tensor([[7.2073]], device='cuda:0')"
      ]
     },
     "execution_count": 18,
     "metadata": {},
     "output_type": "execute_result"
    }
   ],
   "source": [
    "gpfa_hai.learner.model.covar_module.latent_kernels[0].lengthscale.detach()"
   ]
  },
  {
   "cell_type": "code",
   "execution_count": 19,
   "id": "ad0c98f0-fcb7-4c8e-b0f8-9c5e1f3a922c",
   "metadata": {
    "pycharm": {
     "name": "#%%\n"
    },
    "tags": []
   },
   "outputs": [
    {
     "data": {
      "text/plain": [
       "tensor([[4.3269]], device='cuda:0')"
      ]
     },
     "execution_count": 19,
     "metadata": {},
     "output_type": "execute_result"
    }
   ],
   "source": [
    "gpfa_hai.learner.model.covar_module.latent_kernels[1].lengthscale.detach()"
   ]
  },
  {
   "cell_type": "code",
   "execution_count": 20,
   "id": "577f2c23-38aa-4e1f-90b3-f94383ce798f",
   "metadata": {
    "pycharm": {
     "name": "#%%\n"
    },
    "tags": []
   },
   "outputs": [
    {
     "data": {
      "text/plain": [
       "tensor([0.0013, 0.8805, 0.0186, 0.5637], device='cuda:0')"
      ]
     },
     "execution_count": 20,
     "metadata": {},
     "output_type": "execute_result"
    }
   ],
   "source": [
    "gpfa_hai.learner.model.covar_module.psi.detach()"
   ]
  },
  {
   "cell_type": "code",
   "execution_count": null,
   "id": "aa216e0a-3371-4f67-afec-186ad66b1bd6",
   "metadata": {},
   "outputs": [],
   "source": []
  }
 ],
 "metadata": {
  "kernelspec": {
   "display_name": "data_science",
   "language": "python",
   "name": "data_science"
  },
  "language_info": {
   "codemirror_mode": {
    "name": "ipython",
    "version": 3
   },
   "file_extension": ".py",
   "mimetype": "text/x-python",
   "name": "python",
   "nbconvert_exporter": "python",
   "pygments_lexer": "ipython3",
   "version": "3.10.6"
  }
 },
 "nbformat": 4,
 "nbformat_minor": 5
}
