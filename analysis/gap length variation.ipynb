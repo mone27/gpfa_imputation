{
 "cells": [
  {
   "cell_type": "markdown",
   "id": "fd7bac9c-cfcf-4cef-9269-148fc197666d",
   "metadata": {},
   "source": [
    "# Gap Length Variation"
   ]
  },
  {
   "cell_type": "code",
   "execution_count": null,
   "id": "45f31fd4-7b8b-4ace-9bec-647cbd793c6c",
   "metadata": {},
   "outputs": [],
   "source": [
    "%load_ext autoreload\n",
    "%autoreload 2"
   ]
  },
  {
   "cell_type": "markdown",
   "id": "8852e189-a8bd-4674-a22e-53c4fc7451f0",
   "metadata": {},
   "source": [
    "## Setup"
   ]
  },
  {
   "cell_type": "code",
   "execution_count": null,
   "id": "01c12fbc-2617-4439-aeab-67cbf805ffad",
   "metadata": {},
   "outputs": [],
   "source": [
    "from gpfa_imputation.imputation import *\n",
    "from gpfa_imputation.data_preparation import *\n",
    "from gpfa_imputation.results import *\n",
    "from gpfa_imputation.results import _display_as_row \n",
    "\n",
    "import torch\n",
    "import pandas as pd\n",
    "import numpy as np\n",
    "from pathlib import Path\n",
    "from pyprojroot import here\n",
    "import matplotlib.pyplot as plt\n",
    "\n",
    "from gpfa_imputation.utils import cache_disk\n",
    "\n",
    "from itertools import combinations, repeat, zip_longest\n",
    "\n",
    "from ipywidgets import interact\n",
    "from tqdm.auto import tqdm\n",
    "\n",
    "from multiprocessing import Pool\n",
    "\n",
    "import pickle"
   ]
  },
  {
   "cell_type": "markdown",
   "id": "8f68f080-2641-4bc4-80ea-04588bdbc160",
   "metadata": {},
   "source": [
    "### Load Data\n",
    "\n",
    "take the first 200 rows from the Hainich dataset"
   ]
  },
  {
   "cell_type": "code",
   "execution_count": null,
   "id": "1fd34722-9117-4d1b-a0f0-2368dd244cd2",
   "metadata": {},
   "outputs": [],
   "source": [
    "hai_path = Path(\"FLX_DE-Hai_FLUXNET2015_FULLSET_HH_2000-2012_1-4.csv\")\n",
    "hai_raw = pd.read_csv(here(\"data\") / hai_path, na_values=[\"-9999\", \"-9999.99\"], parse_dates=[0, 1], nrows=200)"
   ]
  },
  {
   "cell_type": "code",
   "execution_count": null,
   "id": "1782fb96-3157-4089-a9a6-8118118bc748",
   "metadata": {},
   "outputs": [
    {
     "data": {
      "text/html": [
       "<div>\n",
       "<style scoped>\n",
       "    .dataframe tbody tr th:only-of-type {\n",
       "        vertical-align: middle;\n",
       "    }\n",
       "\n",
       "    .dataframe tbody tr th {\n",
       "        vertical-align: top;\n",
       "    }\n",
       "\n",
       "    .dataframe thead th {\n",
       "        text-align: right;\n",
       "    }\n",
       "</style>\n",
       "<table border=\"1\" class=\"dataframe\">\n",
       "  <thead>\n",
       "    <tr style=\"text-align: right;\">\n",
       "      <th></th>\n",
       "      <th>TA</th>\n",
       "      <th>SW_IN</th>\n",
       "      <th>VPD</th>\n",
       "    </tr>\n",
       "    <tr>\n",
       "      <th>TIMESTAMP_END</th>\n",
       "      <th></th>\n",
       "      <th></th>\n",
       "      <th></th>\n",
       "    </tr>\n",
       "  </thead>\n",
       "  <tbody>\n",
       "    <tr>\n",
       "      <th>2000-01-01 00:30:00</th>\n",
       "      <td>-0.60</td>\n",
       "      <td>0.0</td>\n",
       "      <td>0.222</td>\n",
       "    </tr>\n",
       "    <tr>\n",
       "      <th>2000-01-01 01:00:00</th>\n",
       "      <td>-0.65</td>\n",
       "      <td>0.0</td>\n",
       "      <td>0.122</td>\n",
       "    </tr>\n",
       "    <tr>\n",
       "      <th>2000-01-01 01:30:00</th>\n",
       "      <td>-0.58</td>\n",
       "      <td>0.0</td>\n",
       "      <td>0.090</td>\n",
       "    </tr>\n",
       "    <tr>\n",
       "      <th>2000-01-01 02:00:00</th>\n",
       "      <td>-0.51</td>\n",
       "      <td>0.0</td>\n",
       "      <td>0.110</td>\n",
       "    </tr>\n",
       "    <tr>\n",
       "      <th>2000-01-01 02:30:00</th>\n",
       "      <td>-0.49</td>\n",
       "      <td>0.0</td>\n",
       "      <td>0.102</td>\n",
       "    </tr>\n",
       "    <tr>\n",
       "      <th>...</th>\n",
       "      <td>...</td>\n",
       "      <td>...</td>\n",
       "      <td>...</td>\n",
       "    </tr>\n",
       "    <tr>\n",
       "      <th>2000-01-05 02:00:00</th>\n",
       "      <td>4.74</td>\n",
       "      <td>0.0</td>\n",
       "      <td>1.191</td>\n",
       "    </tr>\n",
       "    <tr>\n",
       "      <th>2000-01-05 02:30:00</th>\n",
       "      <td>4.75</td>\n",
       "      <td>0.0</td>\n",
       "      <td>1.057</td>\n",
       "    </tr>\n",
       "    <tr>\n",
       "      <th>2000-01-05 03:00:00</th>\n",
       "      <td>4.76</td>\n",
       "      <td>0.0</td>\n",
       "      <td>0.935</td>\n",
       "    </tr>\n",
       "    <tr>\n",
       "      <th>2000-01-05 03:30:00</th>\n",
       "      <td>4.62</td>\n",
       "      <td>0.0</td>\n",
       "      <td>1.162</td>\n",
       "    </tr>\n",
       "    <tr>\n",
       "      <th>2000-01-05 04:00:00</th>\n",
       "      <td>4.51</td>\n",
       "      <td>0.0</td>\n",
       "      <td>1.636</td>\n",
       "    </tr>\n",
       "  </tbody>\n",
       "</table>\n",
       "<p>200 rows × 3 columns</p>\n",
       "</div>"
      ],
      "text/plain": [
       "                       TA  SW_IN    VPD\n",
       "TIMESTAMP_END                          \n",
       "2000-01-01 00:30:00 -0.60    0.0  0.222\n",
       "2000-01-01 01:00:00 -0.65    0.0  0.122\n",
       "2000-01-01 01:30:00 -0.58    0.0  0.090\n",
       "2000-01-01 02:00:00 -0.51    0.0  0.110\n",
       "2000-01-01 02:30:00 -0.49    0.0  0.102\n",
       "...                   ...    ...    ...\n",
       "2000-01-05 02:00:00  4.74    0.0  1.191\n",
       "2000-01-05 02:30:00  4.75    0.0  1.057\n",
       "2000-01-05 03:00:00  4.76    0.0  0.935\n",
       "2000-01-05 03:30:00  4.62    0.0  1.162\n",
       "2000-01-05 04:00:00  4.51    0.0  1.636\n",
       "\n",
       "[200 rows x 3 columns]"
      ]
     },
     "execution_count": null,
     "metadata": {},
     "output_type": "execute_result"
    }
   ],
   "source": [
    "meteo_vars = {\n",
    "    \"TA_F\": \"TA\",\n",
    "    \"SW_IN_F\": \"SW_IN\",\n",
    "    #\"LW_IN_F\": \"LW_IN\",\n",
    "    \"VPD_F\": \"VPD\",\n",
    "    #\"PA\": \"PA\"\n",
    "}\n",
    "\n",
    "units = {\n",
    "    'TA': '°C',\n",
    "    'SW_IN': 'W m-2',\n",
    "    # 'LW_IN': 'W m-2',\n",
    "    'VPD': 'hPa'\n",
    "}\n",
    "\n",
    "hai = (hai_raw\n",
    "       .rename(columns=meteo_vars)\n",
    "       .set_index(\"TIMESTAMP_END\")\n",
    "       .loc[:, meteo_vars.values()])\n",
    "hai"
   ]
  },
  {
   "cell_type": "markdown",
   "id": "6276b1b5-548d-4f2d-8e2a-a191763bb75c",
   "metadata": {},
   "source": [
    "###  Functions\n",
    "\n",
    "makes here all the slow computations and cache them on disk"
   ]
  },
  {
   "cell_type": "code",
   "execution_count": null,
   "id": "d0e49bb3-f55a-4ede-b2f6-e045d716bf80",
   "metadata": {},
   "outputs": [],
   "source": [
    "n_obs = 200\n",
    "n_latent = 1\n",
    "total_iter = 100"
   ]
  },
  {
   "cell_type": "code",
   "execution_count": null,
   "id": "206117c2-8406-40ab-9111-405ba1b3d07e",
   "metadata": {},
   "outputs": [],
   "source": [
    "model_save_dir = here() / \"analysis/trained_models\"\n",
    "\n",
    "model_path = model_save_dir / f\"GPFA_l_{n_latent}_train_{total_iter}_1ker_{n_obs}_obs.pickle\""
   ]
  },
  {
   "cell_type": "code",
   "execution_count": null,
   "id": "da3c93ab-5a74-4cb1-a9da-992b1e0c165c",
   "metadata": {},
   "outputs": [],
   "source": [
    "data = GPFADataTest(hai[:n_obs])"
   ]
  },
  {
   "cell_type": "code",
   "execution_count": null,
   "id": "4c32573b-7239-4d8b-bad6-a2a92c1ab4c4",
   "metadata": {},
   "outputs": [],
   "source": [
    "# inspired from https://datagy.io/python-combinations-of-a-list/\n",
    "def all_comb(l):\n",
    "    list_combinations = []\n",
    "    for n in range(1, len(l) + 1):\n",
    "        list_combinations += list(combinations(l, n))\n",
    "    return list_combinations"
   ]
  },
  {
   "cell_type": "code",
   "execution_count": null,
   "id": "409b2423-3b86-42c8-83a7-fe436ae09029",
   "metadata": {},
   "outputs": [
    {
     "data": {
      "text/plain": [
       "[('TA',),\n",
       " ('SW_IN',),\n",
       " ('VPD',),\n",
       " ('TA', 'SW_IN'),\n",
       " ('TA', 'VPD'),\n",
       " ('SW_IN', 'VPD'),\n",
       " ('TA', 'SW_IN', 'VPD')]"
      ]
     },
     "execution_count": null,
     "metadata": {},
     "output_type": "execute_result"
    }
   ],
   "source": [
    "all_comb(meteo_vars.values())"
   ]
  },
  {
   "cell_type": "code",
   "execution_count": null,
   "id": "48eacfeb-5e1f-4a57-a808-2dfbd7e0ffda",
   "metadata": {},
   "outputs": [],
   "source": [
    "def to_result_pretrained(gap_len, n_latent, var_sel, gap_start=None):\n",
    "    data = GPFADataTest(hai[:n_obs]).add_gap(gap_len, var_sel, gap_start)\n",
    "    imp = GPFAImputationExplorer(data.data, latent_dims = n_latent)\n",
    "    model_path = model_save_dir / f\"GPFA_l_{n_latent}_train_{total_iter}_1ker_{n_obs}_obs.pickle\"\n",
    "    imp.learner.load(model_path)\n",
    "    return imp.to_result(data.data_compl_tidy, units=units)"
   ]
  },
  {
   "cell_type": "code",
   "execution_count": null,
   "id": "58776777-2c0f-4685-84a3-f84072278f8f",
   "metadata": {},
   "outputs": [],
   "source": [
    "# to_result_pretrained(10, 1, ['TA'])"
   ]
  },
  {
   "cell_type": "code",
   "execution_count": null,
   "id": "8655bb81-0866-4727-8374-e82ef2dde0ba",
   "metadata": {},
   "outputs": [],
   "source": [
    "#| hide\n",
    "# @cache_disk(here() / \".cache/diff_gaps\")\n",
    "# def diff_gaps(gap_start=30):\n",
    "#     return {n_lat:\n",
    "#             {var_sel:{ \n",
    "#                 gap_len: to_result_pretrained(GPFADataTest(hai[:n_obs]).add_gap(gap_len, ['TA'], gap_start), n_lat)\n",
    "#                 for gap_len in [2, 4, 5, 7, 10 , 15, 20, 30, 50, 100]\n",
    "#                 }\n",
    "#                 for var_sel in all_comb(meteo_vars.values())}\n",
    "#             for n_lat in range(1,4)}\n"
   ]
  },
  {
   "cell_type": "code",
   "execution_count": null,
   "id": "8aaa184d-0663-4e10-b1ee-ec9a07e134ea",
   "metadata": {},
   "outputs": [],
   "source": [
    "gaps = [2, 5, 7, 10, 20, 30, 50, 100]\n",
    "gap_starts = [0, 30, 60, 90]"
   ]
  },
  {
   "cell_type": "code",
   "execution_count": null,
   "id": "94abee14-c14e-465a-838e-8ab729db2d60",
   "metadata": {},
   "outputs": [],
   "source": [
    "path_base = here() / \".cache/diff_gap_partial\"\n",
    "# path_base.rmdir()"
   ]
  },
  {
   "cell_type": "code",
   "execution_count": null,
   "id": "e163dc22-b4ec-4904-bc77-86081829643f",
   "metadata": {},
   "outputs": [],
   "source": [
    "def process_var_sel(args, path_base=path_base):\n",
    "    var_sel, n_lat = args # limitations in python map...\n",
    "    f_name = path_base / f\"{'-'.join(var_sel)}__l_{n_lat}.pickle\"\n",
    "    if f_name.exists(): return\n",
    "    out = {}\n",
    "    for gap_len in gaps:\n",
    "        out[gap_len] = {}\n",
    "        for gap_start in gap_starts:\n",
    "            out[gap_len][gap_start] = to_result_pretrained(gap_len, n_latent=n_lat, var_sel = var_sel, gap_start=gap_start) \n",
    "    with open(f_name, \"wb\") as f:\n",
    "        pickle.dump(out, f)    "
   ]
  },
  {
   "cell_type": "code",
   "execution_count": null,
   "id": "9c59d78a-b784-4e79-867b-348b08eba698",
   "metadata": {},
   "outputs": [],
   "source": [
    "#| hide\n",
    "# # this is going to run on the process\n",
    "# # @cache_disk(here() / \".cache/diff_gaps/diff_gaps\")\n",
    "# def process_n_lat(n_lat):\n",
    "#     out = {}\n",
    "#     for var_sel in tqdm(all_comb(meteo_vars.values()), desc=f\"latent: {n_lat}\"):\n",
    "#         out[var_sel] = {}\n",
    "#         for gap_len in tqdm(gaps, desc=f\"sel: {var_sel}\"):\n",
    "#             out[var_sel][gap_len] = {}\n",
    "#             for gap_start in tqdm(gap_starts, desc=f\"gap len: {gap_len}\"):\n",
    "#                 out[var_sel][gap_len][gap_start] = to_result_pretrained(gap_len, n_latent=n_lat, var_sel = var_sel, gap_start=gap_start)\n",
    "#     return out"
   ]
  },
  {
   "cell_type": "code",
   "execution_count": null,
   "id": "eb2fa5b0-2bd2-4bd1-a808-37beafe77bd2",
   "metadata": {},
   "outputs": [],
   "source": [
    "# @cache_disk(here() / \".cache/diff_gaps/diff_gaps\")\n",
    "def compute_diff_gaps(gap_start=30):\n",
    "    for n_lat in tqdm(range(1,4)):\n",
    "        with Pool(processes=4) as pool:\n",
    "            list(pool.imap(process_var_sel, zip(all_comb(meteo_vars.values()), repeat(n_lat,))))"
   ]
  },
  {
   "cell_type": "markdown",
   "id": "8ee66f85-9e2d-477a-8c42-02f8c67ed683",
   "metadata": {},
   "source": [
    "### Compute\n",
    "\n",
    "this is memory intensive! (maybe there is a leak to fix somewhere ...)"
   ]
  },
  {
   "cell_type": "code",
   "execution_count": null,
   "id": "da6bb002-068f-4964-bd9b-12a46efefe25",
   "metadata": {},
   "outputs": [
    {
     "ename": "NameError",
     "evalue": "name 'compute_diff_gaps' is not defined",
     "output_type": "error",
     "traceback": [
      "\u001b[0;31m---------------------------------------------------------------------------\u001b[0m",
      "\u001b[0;31mNameError\u001b[0m                                 Traceback (most recent call last)",
      "Input \u001b[0;32mIn [33]\u001b[0m, in \u001b[0;36m<cell line: 1>\u001b[0;34m()\u001b[0m\n\u001b[0;32m----> 1\u001b[0m \u001b[43mcompute_diff_gaps\u001b[49m()\n",
      "\u001b[0;31mNameError\u001b[0m: name 'compute_diff_gaps' is not defined"
     ]
    }
   ],
   "source": [
    "# compute_diff_gaps()"
   ]
  },
  {
   "cell_type": "code",
   "execution_count": null,
   "id": "c57da6fb-ab0b-4ddc-9def-98a7490b5d6f",
   "metadata": {},
   "outputs": [],
   "source": [
    "#| hide\n",
    "# @cache_disk(here() / \".cache/diff_gaps/diff_gaps\")\n",
    "# def diff_gaps(gap_start=30):\n",
    "#     with Pool(processes=4) as pool:\n",
    "#         out = pool.map(res, range(1,4)\n",
    "#         for n_lat in tqdm(range(1,4)):\n",
    "#             out[n_lat] = {}\n",
    "#             for var_sel in tqdm(all_comb(meteo_vars.values()), desc=f\"latent: {n_lat}\"):\n",
    "#                 out[n_lat][var_sel] = {}\n",
    "#                 for gap_len in tqdm(gaps, desc=f\"sel: {var_sel}\"):\n",
    "#                     out[n_lat][var_sel][gap_len] = {}\n",
    "#                     for gap_start in tqdm(gap_starts, desc=f\"gap len: {gap_len}\"):\n",
    "#                         out[n_lat][var_sel][gap_len][gap_start] = to_result_pretrained(gap_len, n_latent=n_lat, var_sel = var_sel, gap_start=gap_start)\n",
    "#     return out\n"
   ]
  },
  {
   "cell_type": "code",
   "execution_count": null,
   "id": "06e76cea-e1b8-43f7-ac05-d3075011ced9",
   "metadata": {},
   "outputs": [],
   "source": [
    "#| hide\n",
    "# @cache_disk(here() / \".cache/diff_gaps\")\n",
    "# def diff_gaps(gap_start=30):\n",
    "#     with Pool(processes=4) as pool:\n",
    "#         out = {}  \n",
    "#         for n_lat in tqdm(range(1,4)):\n",
    "#             out[n_lat] = {}\n",
    "#             for var_sel in tqdm(all_comb(meteo_vars.values()), desc=f\"latent: {n_lat}\"):\n",
    "#                 out[n_lat][var_sel] = {}\n",
    "#                 for gap_len in tqdm(gaps, desc=f\"sel: {var_sel}\"):\n",
    "#                     out[n_lat][var_sel][gap_len] = {}\n",
    "#                     f = lambda gap_start: to_result_pretrained(gap_len, n_latent=n_lat, var_sel = var_sel, gap_start=gap_start)\n",
    "#                     results = pool.map(f, gap_starts)\n",
    "#                     for gap_start, res in zip(gap_starts, results):\n",
    "#                         out[n_lat][var_sel][gap_len][gap_start] = res\n",
    "#     return out\n"
   ]
  },
  {
   "cell_type": "code",
   "execution_count": null,
   "id": "318f9a6c-3c43-4a9d-9c03-4726760268b9",
   "metadata": {},
   "outputs": [],
   "source": [
    "#| hide\n",
    "# diff_gaps_res = diff_gaps()"
   ]
  },
  {
   "cell_type": "code",
   "execution_count": null,
   "id": "12921c67-d9d5-41c6-b3fd-9b2f5dc871da",
   "metadata": {},
   "outputs": [],
   "source": [
    "# loads computations from disk\n",
    "def load_diff_gaps():\n",
    "    out = {}\n",
    "    for n_lat in tqdm(range(1,4)):\n",
    "        out[n_lat] = {}\n",
    "        for var_sel in all_comb(meteo_vars.values()):\n",
    "            f_name = path_base / f\"{'-'.join(var_sel)}__l_{n_lat}.pickle\"\n",
    "            with open(f_name, \"rb\") as f:\n",
    "                out[n_lat][var_sel] = pickle.load(f)  \n",
    "    return out"
   ]
  },
  {
   "cell_type": "code",
   "execution_count": null,
   "id": "dc34b3d4-e048-4d48-81f1-56f4be706390",
   "metadata": {},
   "outputs": [
    {
     "data": {
      "application/vnd.jupyter.widget-view+json": {
       "model_id": "684c6acc99144d9e807d8c939e73f49a",
       "version_major": 2,
       "version_minor": 0
      },
      "text/plain": [
       "  0%|          | 0/3 [00:00<?, ?it/s]"
      ]
     },
     "metadata": {},
     "output_type": "display_data"
    }
   ],
   "source": [
    "diff_gaps_res = load_diff_gaps()"
   ]
  },
  {
   "cell_type": "markdown",
   "id": "099facc7-e738-4005-95e1-d1d0879837c7",
   "metadata": {},
   "source": [
    "## Results"
   ]
  },
  {
   "cell_type": "markdown",
   "id": "9b70c128-2e08-43eb-a5d7-9d60196ad9c9",
   "metadata": {},
   "source": [
    "What I am doing here:\n",
    "\n",
    "- take a dataset with 200 obs and 3 variables\n",
    "- [distribution and correlation between vars](var_distribution.ipynb)\n",
    "- fit the kernel parameters using gradient descend on whole dataset and save trained model [notebook](Train multiple latent.ipynb)\n",
    "- create a dataset with all combinations of gap_len, gap_start, n latents and variable missing\n",
    "- predict the model for all 200 Obs also when there are no gaps!\n",
    "- **Note: in case there is a gap in not all variable, the variable with the gap have the (correct) prediction conditioned on the other variables, but the variables with no gap have the base model prediction (which is often bad), which should not be considered**\n"
   ]
  },
  {
   "cell_type": "markdown",
   "id": "c1117006-6b22-4d49-a712-6ece339199c4",
   "metadata": {},
   "source": [
    "#### Explanation\n",
    "\n",
    "What we can see from this result:\n",
    "\n",
    "##### Latent\n",
    "\n",
    "- 1 latent the Lambda is almost 1 for `TA`, 0 for `SW_IN` and .4 for `VPD`. Hence is good for `TA`, horrible for `SW_IN and somehow okayish for `VPD`\n",
    "- 2 latent2: good for `TA` and `SW_IN`, still limited for `VPD`\n",
    "- 3 latents: quite good fit for all 3 models\n",
    "\n",
    "**comments**\n",
    "\n",
    "- correlation between `SW_IN` and the others variables is pretty low\n",
    "- therefore with 1-2 latents the model cannot model accurately more then 1 variable"
   ]
  },
  {
   "cell_type": "code",
   "execution_count": null,
   "id": "7059fb4a-ed1d-4ab9-9e49-ac2a19b44f59",
   "metadata": {},
   "outputs": [
    {
     "data": {
      "text/html": [
       "<div>\n",
       "<style scoped>\n",
       "    .dataframe tbody tr th:only-of-type {\n",
       "        vertical-align: middle;\n",
       "    }\n",
       "\n",
       "    .dataframe tbody tr th {\n",
       "        vertical-align: top;\n",
       "    }\n",
       "\n",
       "    .dataframe thead th {\n",
       "        text-align: right;\n",
       "    }\n",
       "</style>\n",
       "<table border=\"1\" class=\"dataframe\">\n",
       "  <thead>\n",
       "    <tr style=\"text-align: right;\">\n",
       "      <th></th>\n",
       "      <th>TA</th>\n",
       "      <th>SW_IN</th>\n",
       "      <th>VPD</th>\n",
       "    </tr>\n",
       "  </thead>\n",
       "  <tbody>\n",
       "    <tr>\n",
       "      <th>TA</th>\n",
       "      <td>1.000000</td>\n",
       "      <td>-0.062634</td>\n",
       "      <td>0.624249</td>\n",
       "    </tr>\n",
       "    <tr>\n",
       "      <th>SW_IN</th>\n",
       "      <td>-0.062634</td>\n",
       "      <td>1.000000</td>\n",
       "      <td>0.162890</td>\n",
       "    </tr>\n",
       "    <tr>\n",
       "      <th>VPD</th>\n",
       "      <td>0.624249</td>\n",
       "      <td>0.162890</td>\n",
       "      <td>1.000000</td>\n",
       "    </tr>\n",
       "  </tbody>\n",
       "</table>\n",
       "</div>"
      ],
      "text/plain": [
       "             TA     SW_IN       VPD\n",
       "TA     1.000000 -0.062634  0.624249\n",
       "SW_IN -0.062634  1.000000  0.162890\n",
       "VPD    0.624249  0.162890  1.000000"
      ]
     },
     "execution_count": null,
     "metadata": {},
     "output_type": "execute_result"
    }
   ],
   "source": [
    "#| echo: false\n",
    "hai.corr()"
   ]
  },
  {
   "cell_type": "markdown",
   "id": "a268442b-a7d8-4517-9e8c-051c30c22b34",
   "metadata": {},
   "source": [
    "##### Gap Len\n",
    "\n",
    "\n",
    "- when gaps are short <~10 the model works kind of well, but there are issues in some locations (eg: TA, len: 10 start: 60)\n",
    "\n",
    "**comments**\n",
    "\n",
    "the lengthscale of the kernel is quite small (3 latents):\n",
    "\n",
    "- 5.2 z0\n",
    "- 1.8 z1\n",
    "- 4.0 z2\n",
    "\n",
    "so for longer gaps (in only one var) the main driver for the predictions are observations from the other variables, otherwise the models predictions are contastant as there is no way to use more information (eg. gap_len: 50, gap_start: 30, gaps in all vars)\n",
    "\n",
    "**notes**\n",
    "- when SW_IN and VPD are close to 0 the gap filling is not that great also for shorter gaps (eg. `SW_IN`, len: 7, start: 30, n_lat: 3)\n",
    "\n",
    "\n",
    "##### Gaps multiple variables\n",
    "\n",
    "the interesting aspect is when there is a long gap, but in only 1-2 variables\n",
    "\n",
    "- for gaps only in `TA` with len up to 50 the models manages to follow the variations in the measurements, but with an error\n",
    "    - this is pretty similar if there are gaps also in `SW_IN`, but not if there are gaps in `VPD`\n",
    "    - with gap len over 100 it get way worse\n",
    "- - for gaps only in `VP` with len up to 50 the models overall manages to follow the variations in the measurements, but with a considerable error (measurements are still in error bar) and the models has a lot of variations which are not present in the data\n",
    "- the predictions for `SW_IN` are bad (underestimates a lot the values) during the day for long gaps "
   ]
  },
  {
   "cell_type": "markdown",
   "id": "e424d073-0ff3-40d7-a918-aad4b0771f7f",
   "metadata": {},
   "source": [
    "### Visualization"
   ]
  },
  {
   "cell_type": "code",
   "execution_count": null,
   "id": "63690c48-73f6-4c03-a15b-d3a2ef7a8886",
   "metadata": {},
   "outputs": [
    {
     "data": {
      "application/vnd.jupyter.widget-view+json": {
       "model_id": "1e89369b212d416f956f88732bc6dd07",
       "version_major": 2,
       "version_minor": 0
      },
      "text/plain": [
       "interactive(children=(Dropdown(description='n_lat', options=(1, 2, 3), value=1), Checkbox(value=True, descript…"
      ]
     },
     "metadata": {},
     "output_type": "display_data"
    }
   ],
   "source": [
    "#| include: false\n",
    "@interact(n_lat = range(1,4), TA=True, SW_IN=True, VPD=True, gap_len=gaps, gap_start=gap_starts)\n",
    "def show_diff_gaps_res(n_lat, TA, SW_IN, VPD, gap_len, gap_start):\n",
    "    var_sel = []\n",
    "    if TA: var_sel.append('TA')\n",
    "    if SW_IN: var_sel.append('SW_IN')\n",
    "    if VPD: var_sel.append('VPD')\n",
    "    var_sel = (*var_sel,)\n",
    "    diff_gaps_res[n_lat][var_sel][gap_len][gap_start].units = units\n",
    "    diff_gaps_res[n_lat][var_sel][gap_len][gap_start].display_results()\n",
    "    "
   ]
  },
  {
   "cell_type": "markdown",
   "id": "5c2a95b7-ee25-400c-8f66-c3748c21a786",
   "metadata": {},
   "source": [
    "## Next steps"
   ]
  },
  {
   "cell_type": "markdown",
   "id": "e7473f2a-daf6-469b-a6bf-b1996500832f",
   "metadata": {},
   "source": [
    "### Improvements GPFA\n",
    "\n",
    "- [more kernels](Additional latent kernel.ipynb) -> can have different timescales. However with 150 obs both kernels have the same timescale, should use more data but then there are computation issues (with 1500 it would take more then 20hours to do the training)\n",
    "- [log transform](Log transform - Multi latent - Imputation GPFA - Hainich.ipynb)\n",
    "- more variables\n",
    "\n",
    "#### Technical\n",
    "\n",
    "- model performance:\n",
    "at the moment it takes ~8 minutes to train with 200 obs and ~20 seconds for inference\n",
    "    - profile current model\n",
    "    - use SparseGP\n",
    "    - CUDA support\n",
    "- [parameters init](Init_parameters_effect.ipynb)\n",
    "- [learning rate and stability of parameters over training](Train multiple latent.ipynb)\n",
    "- variable transformation:\n",
    "    - all vars are now normalized (0 mean, 1 std)\n",
    "    - time is enconded as integer increasing at steps of 1. Maybe not a good idea?"
   ]
  },
  {
   "cell_type": "markdown",
   "id": "74ca6c37-8a11-4a3c-a8f2-78b9d2aa4114",
   "metadata": {},
   "source": [
    "### Next step\n",
    "\n",
    "- use ERA5-Land (world-wide dataset with complete meteo vars, but a coarse spatial-temporal scale)\n",
    "- compare performance with state of art models\n",
    "- model where relation between variables changes over time\n",
    "- understand gap distribution in real world:\n",
    "    - average gap len (tentative results are: a lot of short gaps(<10) and some pretty long gap (>10.0000)\n",
    "    - correlation between variable gaps\n",
    "    - site distributions of gaps?"
   ]
  },
  {
   "cell_type": "markdown",
   "id": "6b6f8497-868f-4c8b-aa1f-636c8a858bf6",
   "metadata": {},
   "source": [
    "## Other"
   ]
  },
  {
   "cell_type": "code",
   "execution_count": null,
   "id": "7d8a28a5-0498-4906-a7b4-be6fe564a2bb",
   "metadata": {},
   "outputs": [
    {
     "name": "stdout",
     "output_type": "stream",
     "text": [
      "CPU times: user 18 s, sys: 705 ms, total: 18.7 s\n",
      "Wall time: 18.2 s\n"
     ]
    }
   ],
   "source": [
    "%time r = to_result_pretrained(12, 3, ['SW_IN', 'TA'], gap_start=60)"
   ]
  },
  {
   "cell_type": "code",
   "execution_count": null,
   "id": "543ec741-731f-40ec-8e31-a1990da5b86a",
   "metadata": {},
   "outputs": [
    {
     "name": "stderr",
     "output_type": "stream",
     "text": [
      "/home/simone/.local/lib/python3.10/site-packages/altair/utils/core.py:317: FutureWarning: iteritems is deprecated and will be removed in a future version. Use .items instead.\n",
      "  for col_name, dtype in df.dtypes.iteritems():\n"
     ]
    },
    {
     "data": {
      "text/html": [
       "\n",
       "<div id=\"altair-viz-2d0a7ead0b5a48edbb943d1af23172e6\"></div>\n",
       "<script type=\"text/javascript\">\n",
       "  var VEGA_DEBUG = (typeof VEGA_DEBUG == \"undefined\") ? {} : VEGA_DEBUG;\n",
       "  (function(spec, embedOpt){\n",
       "    let outputDiv = document.currentScript.previousElementSibling;\n",
       "    if (outputDiv.id !== \"altair-viz-2d0a7ead0b5a48edbb943d1af23172e6\") {\n",
       "      outputDiv = document.getElementById(\"altair-viz-2d0a7ead0b5a48edbb943d1af23172e6\");\n",
       "    }\n",
       "    const paths = {\n",
       "      \"vega\": \"https://cdn.jsdelivr.net/npm//vega@5?noext\",\n",
       "      \"vega-lib\": \"https://cdn.jsdelivr.net/npm//vega-lib?noext\",\n",
       "      \"vega-lite\": \"https://cdn.jsdelivr.net/npm//vega-lite@4.17.0?noext\",\n",
       "      \"vega-embed\": \"https://cdn.jsdelivr.net/npm//vega-embed@6?noext\",\n",
       "    };\n",
       "\n",
       "    function maybeLoadScript(lib, version) {\n",
       "      var key = `${lib.replace(\"-\", \"\")}_version`;\n",
       "      return (VEGA_DEBUG[key] == version) ?\n",
       "        Promise.resolve(paths[lib]) :\n",
       "        new Promise(function(resolve, reject) {\n",
       "          var s = document.createElement('script');\n",
       "          document.getElementsByTagName(\"head\")[0].appendChild(s);\n",
       "          s.async = true;\n",
       "          s.onload = () => {\n",
       "            VEGA_DEBUG[key] = version;\n",
       "            return resolve(paths[lib]);\n",
       "          };\n",
       "          s.onerror = () => reject(`Error loading script: ${paths[lib]}`);\n",
       "          s.src = paths[lib];\n",
       "        });\n",
       "    }\n",
       "\n",
       "    function showError(err) {\n",
       "      outputDiv.innerHTML = `<div class=\"error\" style=\"color:red;\">${err}</div>`;\n",
       "      throw err;\n",
       "    }\n",
       "\n",
       "    function displayChart(vegaEmbed) {\n",
       "      vegaEmbed(outputDiv, spec, embedOpt)\n",
       "        .catch(err => showError(`Javascript Error: ${err.message}<br>This usually means there's a typo in your chart specification. See the javascript console for the full traceback.`));\n",
       "    }\n",
       "\n",
       "    if(typeof define === \"function\" && define.amd) {\n",
       "      requirejs.config({paths});\n",
       "      require([\"vega-embed\"], displayChart, err => showError(`Error loading script: ${err.message}`));\n",
       "    } else {\n",
       "      maybeLoadScript(\"vega\", \"5\")\n",
       "        .then(() => maybeLoadScript(\"vega-lite\", \"4.17.0\"))\n",
       "        .then(() => maybeLoadScript(\"vega-embed\", \"6\"))\n",
       "        .catch(showError)\n",
       "        .then(() => displayChart(vegaEmbed));\n",
       "    }\n",
       "  })({\"config\": {\"view\": {\"continuousWidth\": 400, \"continuousHeight\": 300}}, \"vconcat\": [{\"hconcat\": [{\"vconcat\": [{\"layer\": [{\"data\": {\"name\": \"data-5937a8ca3d5193f2887b907afdf24cb5\"}, \"mark\": {\"type\": \"point\", \"color\": \"black\", \"fillOpacity\": 1, \"strokeWidth\": 1}, \"encoding\": {\"fill\": {\"field\": \"is_missing\", \"legend\": {\"title\": [\"Observed data\", \"(is missing)\"]}, \"scale\": {\"range\": [\"#ffffff00\", \"black\"]}, \"type\": \"nominal\"}, \"shape\": {\"field\": \"is_missing\", \"type\": \"nominal\"}, \"x\": {\"axis\": {\"domain\": false, \"labels\": false, \"ticks\": false, \"title\": null}, \"field\": \"time\", \"type\": \"quantitative\"}, \"y\": {\"field\": \"value\", \"scale\": {\"zero\": false}, \"title\": \"TA [\\u00b0C]\", \"type\": \"quantitative\"}}}, {\"layer\": [{\"mark\": \"errorband\", \"encoding\": {\"color\": {\"field\": \"variable\", \"legend\": {\"title\": [\"Line: pred. mean\", \"area: +/- 2 std\", \"(variable)\"]}, \"type\": \"nominal\"}, \"tooltip\": [{\"field\": \"std\", \"format\": \".4\", \"type\": \"quantitative\"}, {\"field\": \"mean\", \"format\": \".4\", \"type\": \"quantitative\"}], \"x\": {\"field\": \"time\", \"type\": \"quantitative\"}, \"y\": {\"field\": \"err_low\", \"scale\": {\"zero\": false}, \"title\": \"TA [\\u00b0C]\", \"type\": \"quantitative\"}, \"y2\": {\"field\": \"err_high\"}}, \"height\": 200, \"transform\": [{\"calculate\": \"datum.mean - 2 * datum.std\", \"as\": \"err_low\"}, {\"calculate\": \"datum.mean + 2 * datum.std\", \"as\": \"err_high\"}], \"width\": 350}, {\"mark\": \"line\", \"encoding\": {\"color\": {\"field\": \"variable\", \"type\": \"nominal\"}, \"x\": {\"field\": \"time\", \"type\": \"quantitative\"}, \"y\": {\"field\": \"mean\", \"scale\": {\"zero\": false}, \"title\": \"TA [\\u00b0C]\", \"type\": \"quantitative\"}}, \"selection\": {\"selector031\": {\"type\": \"interval\", \"bind\": \"scales\", \"encodings\": [\"x\"]}}, \"title\": \"TA\"}], \"data\": {\"name\": \"data-22fb33a8c8ea17ecbcb35db90a3237c0\"}}]}, {\"data\": {\"name\": \"data-5937a8ca3d5193f2887b907afdf24cb5\"}, \"mark\": {\"type\": \"tick\", \"color\": \"black\"}, \"encoding\": {\"color\": {\"condition\": {\"value\": \"black\", \"test\": \"datum.is_missing\"}, \"value\": \"white\"}, \"x\": {\"field\": \"time\", \"type\": \"quantitative\"}}, \"selection\": {\"selector031\": {\"type\": \"interval\", \"bind\": \"scales\", \"encodings\": [\"x\"]}}, \"width\": 350}], \"spacing\": -10}, {\"vconcat\": [{\"layer\": [{\"data\": {\"name\": \"data-8c9d8c4ec47ece28bb66e04d90e665a2\"}, \"mark\": {\"type\": \"point\", \"color\": \"black\", \"fillOpacity\": 1, \"strokeWidth\": 1}, \"encoding\": {\"fill\": {\"field\": \"is_missing\", \"legend\": {\"title\": [\"Observed data\", \"(is missing)\"]}, \"scale\": {\"range\": [\"#ffffff00\", \"black\"]}, \"type\": \"nominal\"}, \"shape\": {\"field\": \"is_missing\", \"type\": \"nominal\"}, \"x\": {\"axis\": {\"domain\": false, \"labels\": false, \"ticks\": false, \"title\": null}, \"field\": \"time\", \"type\": \"quantitative\"}, \"y\": {\"field\": \"value\", \"scale\": {\"zero\": false}, \"title\": \"SW_IN [W m-2]\", \"type\": \"quantitative\"}}}, {\"layer\": [{\"mark\": \"errorband\", \"encoding\": {\"color\": {\"field\": \"variable\", \"legend\": {\"title\": [\"Line: pred. mean\", \"area: +/- 2 std\", \"(variable)\"]}, \"type\": \"nominal\"}, \"tooltip\": [{\"field\": \"std\", \"format\": \".4\", \"type\": \"quantitative\"}, {\"field\": \"mean\", \"format\": \".4\", \"type\": \"quantitative\"}], \"x\": {\"field\": \"time\", \"type\": \"quantitative\"}, \"y\": {\"field\": \"err_low\", \"scale\": {\"zero\": false}, \"title\": \"SW_IN [W m-2]\", \"type\": \"quantitative\"}, \"y2\": {\"field\": \"err_high\"}}, \"height\": 200, \"transform\": [{\"calculate\": \"datum.mean - 2 * datum.std\", \"as\": \"err_low\"}, {\"calculate\": \"datum.mean + 2 * datum.std\", \"as\": \"err_high\"}], \"width\": 350}, {\"mark\": \"line\", \"encoding\": {\"color\": {\"field\": \"variable\", \"type\": \"nominal\"}, \"x\": {\"field\": \"time\", \"type\": \"quantitative\"}, \"y\": {\"field\": \"mean\", \"scale\": {\"zero\": false}, \"title\": \"SW_IN [W m-2]\", \"type\": \"quantitative\"}}, \"selection\": {\"selector031\": {\"type\": \"interval\", \"bind\": \"scales\", \"encodings\": [\"x\"]}}, \"title\": \"SW_IN\"}], \"data\": {\"name\": \"data-73cd69cac257625a1f2606c2ff470fe9\"}}]}, {\"data\": {\"name\": \"data-8c9d8c4ec47ece28bb66e04d90e665a2\"}, \"mark\": {\"type\": \"tick\", \"color\": \"black\"}, \"encoding\": {\"color\": {\"condition\": {\"value\": \"black\", \"test\": \"datum.is_missing\"}, \"value\": \"white\"}, \"x\": {\"field\": \"time\", \"type\": \"quantitative\"}}, \"selection\": {\"selector031\": {\"type\": \"interval\", \"bind\": \"scales\", \"encodings\": [\"x\"]}}, \"width\": 350}], \"spacing\": -10}]}, {\"hconcat\": [{\"vconcat\": [{\"layer\": [{\"data\": {\"name\": \"data-180f7641eda4b27d4ded2fe930459cf1\"}, \"mark\": {\"type\": \"point\", \"color\": \"black\", \"fillOpacity\": 1, \"strokeWidth\": 1}, \"encoding\": {\"fill\": {\"field\": \"is_missing\", \"legend\": {\"title\": [\"Observed data\", \"(is missing)\"]}, \"scale\": {\"range\": [\"#ffffff00\", \"black\"]}, \"type\": \"nominal\"}, \"shape\": {\"field\": \"is_missing\", \"type\": \"nominal\"}, \"x\": {\"axis\": {\"domain\": false, \"labels\": false, \"ticks\": false, \"title\": null}, \"field\": \"time\", \"type\": \"quantitative\"}, \"y\": {\"field\": \"value\", \"scale\": {\"zero\": false}, \"title\": \"VPD [hPa]\", \"type\": \"quantitative\"}}}, {\"layer\": [{\"mark\": \"errorband\", \"encoding\": {\"color\": {\"field\": \"variable\", \"legend\": {\"title\": [\"Line: pred. mean\", \"area: +/- 2 std\", \"(variable)\"]}, \"type\": \"nominal\"}, \"tooltip\": [{\"field\": \"std\", \"format\": \".4\", \"type\": \"quantitative\"}, {\"field\": \"mean\", \"format\": \".4\", \"type\": \"quantitative\"}], \"x\": {\"field\": \"time\", \"type\": \"quantitative\"}, \"y\": {\"field\": \"err_low\", \"scale\": {\"zero\": false}, \"title\": \"VPD [hPa]\", \"type\": \"quantitative\"}, \"y2\": {\"field\": \"err_high\"}}, \"height\": 200, \"transform\": [{\"calculate\": \"datum.mean - 2 * datum.std\", \"as\": \"err_low\"}, {\"calculate\": \"datum.mean + 2 * datum.std\", \"as\": \"err_high\"}], \"width\": 350}, {\"mark\": \"line\", \"encoding\": {\"color\": {\"field\": \"variable\", \"type\": \"nominal\"}, \"x\": {\"field\": \"time\", \"type\": \"quantitative\"}, \"y\": {\"field\": \"mean\", \"scale\": {\"zero\": false}, \"title\": \"VPD [hPa]\", \"type\": \"quantitative\"}}, \"selection\": {\"selector031\": {\"type\": \"interval\", \"bind\": \"scales\", \"encodings\": [\"x\"]}}, \"title\": \"VPD\"}], \"data\": {\"name\": \"data-d34e4f2c95322ca63fb2885ecf526713\"}}]}, {\"data\": {\"name\": \"data-180f7641eda4b27d4ded2fe930459cf1\"}, \"mark\": {\"type\": \"tick\", \"color\": \"black\"}, \"encoding\": {\"color\": {\"condition\": {\"value\": \"black\", \"test\": \"datum.is_missing\"}, \"value\": \"white\"}, \"x\": {\"field\": \"time\", \"type\": \"quantitative\"}}, \"selection\": {\"selector031\": {\"type\": \"interval\", \"bind\": \"scales\", \"encodings\": [\"x\"]}}, \"width\": 350}], \"spacing\": -10}]}, {\"hconcat\": []}, {\"hconcat\": []}, {\"hconcat\": []}, {\"hconcat\": []}, {\"hconcat\": []}, {\"hconcat\": []}, {\"hconcat\": []}, {\"hconcat\": []}, {\"hconcat\": []}, {\"hconcat\": []}, {\"hconcat\": []}, {\"hconcat\": []}, {\"hconcat\": []}, {\"hconcat\": []}, {\"hconcat\": []}, {\"hconcat\": []}, {\"hconcat\": []}, {\"hconcat\": []}, {\"hconcat\": []}, {\"hconcat\": []}, {\"hconcat\": []}, {\"hconcat\": []}, {\"hconcat\": []}, {\"hconcat\": []}, {\"hconcat\": []}, {\"hconcat\": []}, {\"hconcat\": []}, {\"hconcat\": []}, {\"hconcat\": []}, {\"hconcat\": []}, {\"hconcat\": []}, {\"hconcat\": []}, {\"hconcat\": []}, {\"hconcat\": []}, {\"hconcat\": []}, {\"hconcat\": []}, {\"hconcat\": []}, {\"hconcat\": []}, {\"hconcat\": []}, {\"hconcat\": []}, {\"hconcat\": []}, {\"hconcat\": []}, {\"hconcat\": []}, {\"hconcat\": []}, {\"hconcat\": []}, {\"hconcat\": []}, {\"hconcat\": []}, {\"hconcat\": []}, {\"hconcat\": []}, {\"hconcat\": []}, {\"hconcat\": []}, {\"hconcat\": []}, {\"hconcat\": []}, {\"hconcat\": []}, {\"hconcat\": []}, {\"hconcat\": []}, {\"hconcat\": []}, {\"hconcat\": []}, {\"hconcat\": []}, {\"hconcat\": []}, {\"hconcat\": []}, {\"hconcat\": []}, {\"hconcat\": []}, {\"hconcat\": []}, {\"hconcat\": []}, {\"hconcat\": []}, {\"hconcat\": []}, {\"hconcat\": []}, {\"hconcat\": []}, {\"hconcat\": []}, {\"hconcat\": []}, {\"hconcat\": []}, {\"hconcat\": []}, {\"hconcat\": []}, {\"hconcat\": []}, {\"hconcat\": []}, {\"hconcat\": []}, {\"hconcat\": []}, {\"hconcat\": []}, {\"hconcat\": []}, {\"hconcat\": []}, {\"hconcat\": []}, {\"hconcat\": []}, {\"hconcat\": []}, {\"hconcat\": []}, {\"hconcat\": []}, {\"hconcat\": []}, {\"hconcat\": []}, {\"hconcat\": []}, {\"hconcat\": []}, {\"hconcat\": []}, {\"hconcat\": []}, {\"hconcat\": []}, {\"hconcat\": []}, {\"hconcat\": []}, {\"hconcat\": []}, {\"hconcat\": []}, {\"hconcat\": []}, {\"hconcat\": []}, {\"hconcat\": []}, {\"hconcat\": []}, {\"hconcat\": []}, {\"hconcat\": []}, {\"hconcat\": []}, {\"hconcat\": []}, {\"hconcat\": []}, {\"hconcat\": []}, {\"hconcat\": []}, {\"hconcat\": []}, {\"hconcat\": []}, {\"hconcat\": []}, {\"hconcat\": []}, {\"hconcat\": []}, {\"hconcat\": []}, {\"hconcat\": []}, {\"hconcat\": []}, {\"hconcat\": []}, {\"hconcat\": []}, {\"hconcat\": []}, {\"hconcat\": []}, {\"hconcat\": []}, {\"hconcat\": []}, {\"hconcat\": []}, {\"hconcat\": []}, {\"hconcat\": []}, {\"hconcat\": []}, {\"hconcat\": []}, {\"hconcat\": []}, {\"hconcat\": []}, {\"hconcat\": []}, {\"hconcat\": []}, {\"hconcat\": []}, {\"hconcat\": []}, {\"hconcat\": []}, {\"hconcat\": []}, {\"hconcat\": []}, {\"hconcat\": []}, {\"hconcat\": []}, {\"hconcat\": []}, {\"hconcat\": []}, {\"hconcat\": []}, {\"hconcat\": []}, {\"hconcat\": []}, {\"hconcat\": []}, {\"hconcat\": []}, {\"hconcat\": []}, {\"hconcat\": []}, {\"hconcat\": []}, {\"hconcat\": []}, {\"hconcat\": []}, {\"hconcat\": []}, {\"hconcat\": []}, {\"hconcat\": []}, {\"hconcat\": []}, {\"hconcat\": []}, {\"hconcat\": []}, {\"hconcat\": []}, {\"hconcat\": []}, {\"hconcat\": []}, {\"hconcat\": []}, {\"hconcat\": []}, {\"hconcat\": []}, {\"hconcat\": []}, {\"hconcat\": []}, {\"hconcat\": []}, {\"hconcat\": []}, {\"hconcat\": []}, {\"hconcat\": []}, {\"hconcat\": []}, {\"hconcat\": []}, {\"hconcat\": []}, {\"hconcat\": []}, {\"hconcat\": []}, {\"hconcat\": []}, {\"hconcat\": []}, {\"hconcat\": []}, {\"hconcat\": []}, {\"hconcat\": []}, {\"hconcat\": []}, {\"hconcat\": []}, {\"hconcat\": []}, {\"hconcat\": []}, {\"hconcat\": []}, {\"hconcat\": []}, {\"hconcat\": []}, {\"hconcat\": []}, {\"hconcat\": []}, {\"hconcat\": []}, {\"hconcat\": []}, {\"hconcat\": []}, {\"hconcat\": []}, {\"hconcat\": []}, {\"hconcat\": []}, {\"hconcat\": []}, {\"hconcat\": []}, {\"hconcat\": []}, {\"hconcat\": []}, {\"hconcat\": []}, {\"hconcat\": []}, {\"hconcat\": []}, {\"hconcat\": []}, {\"hconcat\": []}, {\"hconcat\": []}, {\"hconcat\": []}, {\"hconcat\": []}, {\"hconcat\": []}, {\"hconcat\": []}, {\"hconcat\": []}, {\"hconcat\": []}, {\"hconcat\": []}, {\"hconcat\": []}, {\"hconcat\": []}, {\"hconcat\": []}, {\"hconcat\": []}, {\"hconcat\": []}, {\"hconcat\": []}, {\"hconcat\": []}, {\"hconcat\": []}, {\"hconcat\": []}, {\"hconcat\": []}, {\"hconcat\": []}, {\"hconcat\": []}, {\"hconcat\": []}, {\"hconcat\": []}, {\"hconcat\": []}, {\"hconcat\": []}, {\"hconcat\": []}, {\"hconcat\": []}, {\"hconcat\": []}, {\"hconcat\": []}, {\"hconcat\": []}, {\"hconcat\": []}, {\"hconcat\": []}, {\"hconcat\": []}, {\"hconcat\": []}, {\"hconcat\": []}, {\"hconcat\": []}, {\"hconcat\": []}, {\"hconcat\": []}, {\"hconcat\": []}, {\"hconcat\": []}, {\"hconcat\": []}, {\"hconcat\": []}, {\"hconcat\": []}, {\"hconcat\": []}, {\"hconcat\": []}, {\"hconcat\": []}, {\"hconcat\": []}, {\"hconcat\": []}, {\"hconcat\": []}, {\"hconcat\": []}, {\"hconcat\": []}, {\"hconcat\": []}, {\"hconcat\": []}, {\"hconcat\": []}, {\"hconcat\": []}, {\"hconcat\": []}, {\"hconcat\": []}, {\"hconcat\": []}, {\"hconcat\": []}, {\"hconcat\": []}, {\"hconcat\": []}, {\"hconcat\": []}, {\"hconcat\": []}, {\"hconcat\": []}, {\"hconcat\": []}, {\"hconcat\": []}, {\"hconcat\": []}, {\"hconcat\": []}, {\"hconcat\": []}, {\"hconcat\": []}, {\"hconcat\": []}, {\"hconcat\": []}, {\"hconcat\": []}, {\"hconcat\": []}, {\"hconcat\": []}, {\"hconcat\": []}, {\"hconcat\": []}, {\"hconcat\": []}, {\"hconcat\": []}, {\"hconcat\": []}, {\"hconcat\": []}, {\"hconcat\": []}, {\"hconcat\": []}, {\"hconcat\": []}, {\"hconcat\": []}, {\"hconcat\": []}, {\"hconcat\": []}, {\"hconcat\": []}, {\"hconcat\": []}, {\"hconcat\": []}, {\"hconcat\": []}, {\"hconcat\": []}, {\"hconcat\": []}, {\"hconcat\": []}, {\"hconcat\": []}, {\"hconcat\": []}, {\"hconcat\": []}], \"$schema\": \"https://vega.github.io/schema/vega-lite/v4.17.0.json\", \"datasets\": {\"data-5937a8ca3d5193f2887b907afdf24cb5\": [{\"time\": 0.0, \"variable\": \"TA\", \"value\": -0.6, \"is_missing\": false}, {\"time\": 1.0, \"variable\": \"TA\", \"value\": -0.65, \"is_missing\": false}, {\"time\": 2.0, \"variable\": \"TA\", \"value\": -0.58, \"is_missing\": false}, {\"time\": 3.0, \"variable\": \"TA\", \"value\": -0.51, \"is_missing\": false}, {\"time\": 4.0, \"variable\": \"TA\", \"value\": -0.49, \"is_missing\": false}, {\"time\": 5.0, \"variable\": \"TA\", \"value\": -0.4, \"is_missing\": false}, {\"time\": 6.0, \"variable\": \"TA\", \"value\": -0.36, \"is_missing\": false}, {\"time\": 7.0, \"variable\": \"TA\", \"value\": -0.35, \"is_missing\": false}, {\"time\": 8.0, \"variable\": \"TA\", \"value\": -0.28, \"is_missing\": false}, {\"time\": 9.0, \"variable\": \"TA\", \"value\": -0.27, \"is_missing\": false}, {\"time\": 10.0, \"variable\": \"TA\", \"value\": -0.23, \"is_missing\": false}, {\"time\": 11.0, \"variable\": \"TA\", \"value\": -0.23, \"is_missing\": false}, {\"time\": 12.0, \"variable\": \"TA\", \"value\": -0.22, \"is_missing\": false}, {\"time\": 13.0, \"variable\": \"TA\", \"value\": -0.24, \"is_missing\": false}, {\"time\": 14.0, \"variable\": \"TA\", \"value\": -0.23, \"is_missing\": false}, {\"time\": 15.0, \"variable\": \"TA\", \"value\": -0.22, \"is_missing\": false}, {\"time\": 16.0, \"variable\": \"TA\", \"value\": -0.19, \"is_missing\": false}, {\"time\": 17.0, \"variable\": \"TA\", \"value\": -0.14, \"is_missing\": false}, {\"time\": 18.0, \"variable\": \"TA\", \"value\": -0.03, \"is_missing\": false}, {\"time\": 19.0, \"variable\": \"TA\", \"value\": 0.04, \"is_missing\": false}, {\"time\": 20.0, \"variable\": \"TA\", \"value\": 0.1, \"is_missing\": false}, {\"time\": 21.0, \"variable\": \"TA\", \"value\": 0.18, \"is_missing\": false}, {\"time\": 22.0, \"variable\": \"TA\", \"value\": 0.21, \"is_missing\": false}, {\"time\": 23.0, \"variable\": \"TA\", \"value\": 0.23, \"is_missing\": false}, {\"time\": 24.0, \"variable\": \"TA\", \"value\": 0.33, \"is_missing\": false}, {\"time\": 25.0, \"variable\": \"TA\", \"value\": 0.41, \"is_missing\": false}, {\"time\": 26.0, \"variable\": \"TA\", \"value\": 0.44, \"is_missing\": false}, {\"time\": 27.0, \"variable\": \"TA\", \"value\": 0.48, \"is_missing\": false}, {\"time\": 28.0, \"variable\": \"TA\", \"value\": 0.49, \"is_missing\": false}, {\"time\": 29.0, \"variable\": \"TA\", \"value\": 0.51, \"is_missing\": false}, {\"time\": 30.0, \"variable\": \"TA\", \"value\": 0.52, \"is_missing\": false}, {\"time\": 31.0, \"variable\": \"TA\", \"value\": 0.57, \"is_missing\": false}, {\"time\": 32.0, \"variable\": \"TA\", \"value\": 0.73, \"is_missing\": false}, {\"time\": 33.0, \"variable\": \"TA\", \"value\": 0.77, \"is_missing\": false}, {\"time\": 34.0, \"variable\": \"TA\", \"value\": 0.84, \"is_missing\": false}, {\"time\": 35.0, \"variable\": \"TA\", \"value\": 0.99, \"is_missing\": false}, {\"time\": 36.0, \"variable\": \"TA\", \"value\": 1.35, \"is_missing\": false}, {\"time\": 37.0, \"variable\": \"TA\", \"value\": 1.86, \"is_missing\": false}, {\"time\": 38.0, \"variable\": \"TA\", \"value\": 2.01, \"is_missing\": false}, {\"time\": 39.0, \"variable\": \"TA\", \"value\": 2.07, \"is_missing\": false}, {\"time\": 40.0, \"variable\": \"TA\", \"value\": 2.0, \"is_missing\": false}, {\"time\": 41.0, \"variable\": \"TA\", \"value\": 2.19, \"is_missing\": false}, {\"time\": 42.0, \"variable\": \"TA\", \"value\": 2.26, \"is_missing\": false}, {\"time\": 43.0, \"variable\": \"TA\", \"value\": 2.53, \"is_missing\": false}, {\"time\": 44.0, \"variable\": \"TA\", \"value\": 2.59, \"is_missing\": false}, {\"time\": 45.0, \"variable\": \"TA\", \"value\": 2.6, \"is_missing\": false}, {\"time\": 46.0, \"variable\": \"TA\", \"value\": 2.53, \"is_missing\": false}, {\"time\": 47.0, \"variable\": \"TA\", \"value\": 2.3, \"is_missing\": false}, {\"time\": 48.0, \"variable\": \"TA\", \"value\": 2.08, \"is_missing\": false}, {\"time\": 49.0, \"variable\": \"TA\", \"value\": 1.93, \"is_missing\": false}, {\"time\": 50.0, \"variable\": \"TA\", \"value\": 1.84, \"is_missing\": false}, {\"time\": 51.0, \"variable\": \"TA\", \"value\": 1.85, \"is_missing\": false}, {\"time\": 52.0, \"variable\": \"TA\", \"value\": 1.59, \"is_missing\": false}, {\"time\": 53.0, \"variable\": \"TA\", \"value\": 1.43, \"is_missing\": false}, {\"time\": 54.0, \"variable\": \"TA\", \"value\": 1.33, \"is_missing\": false}, {\"time\": 55.0, \"variable\": \"TA\", \"value\": 1.23, \"is_missing\": false}, {\"time\": 56.0, \"variable\": \"TA\", \"value\": 1.04, \"is_missing\": false}, {\"time\": 57.0, \"variable\": \"TA\", \"value\": 0.94, \"is_missing\": false}, {\"time\": 58.0, \"variable\": \"TA\", \"value\": 0.81, \"is_missing\": false}, {\"time\": 59.0, \"variable\": \"TA\", \"value\": 0.79, \"is_missing\": false}, {\"time\": 60.0, \"variable\": \"TA\", \"value\": 0.68, \"is_missing\": true}, {\"time\": 61.0, \"variable\": \"TA\", \"value\": 0.65, \"is_missing\": true}, {\"time\": 62.0, \"variable\": \"TA\", \"value\": 0.58, \"is_missing\": true}, {\"time\": 63.0, \"variable\": \"TA\", \"value\": 0.49, \"is_missing\": true}, {\"time\": 64.0, \"variable\": \"TA\", \"value\": 0.57, \"is_missing\": true}, {\"time\": 65.0, \"variable\": \"TA\", \"value\": 0.25, \"is_missing\": true}, {\"time\": 66.0, \"variable\": \"TA\", \"value\": 0.35, \"is_missing\": true}, {\"time\": 67.0, \"variable\": \"TA\", \"value\": 0.27, \"is_missing\": true}, {\"time\": 68.0, \"variable\": \"TA\", \"value\": 0.35, \"is_missing\": true}, {\"time\": 69.0, \"variable\": \"TA\", \"value\": 0.57, \"is_missing\": true}, {\"time\": 70.0, \"variable\": \"TA\", \"value\": 0.63, \"is_missing\": true}, {\"time\": 71.0, \"variable\": \"TA\", \"value\": 0.73, \"is_missing\": true}, {\"time\": 72.0, \"variable\": \"TA\", \"value\": 0.78, \"is_missing\": false}, {\"time\": 73.0, \"variable\": \"TA\", \"value\": 1.05, \"is_missing\": false}, {\"time\": 74.0, \"variable\": \"TA\", \"value\": 1.19, \"is_missing\": false}, {\"time\": 75.0, \"variable\": \"TA\", \"value\": 1.41, \"is_missing\": false}, {\"time\": 76.0, \"variable\": \"TA\", \"value\": 1.54, \"is_missing\": false}, {\"time\": 77.0, \"variable\": \"TA\", \"value\": 1.08, \"is_missing\": false}, {\"time\": 78.0, \"variable\": \"TA\", \"value\": 0.62, \"is_missing\": false}, {\"time\": 79.0, \"variable\": \"TA\", \"value\": 0.57, \"is_missing\": false}, {\"time\": 80.0, \"variable\": \"TA\", \"value\": 0.53, \"is_missing\": false}, {\"time\": 81.0, \"variable\": \"TA\", \"value\": 0.57, \"is_missing\": false}, {\"time\": 82.0, \"variable\": \"TA\", \"value\": 0.51, \"is_missing\": false}, {\"time\": 83.0, \"variable\": \"TA\", \"value\": 0.39, \"is_missing\": false}, {\"time\": 84.0, \"variable\": \"TA\", \"value\": 0.35, \"is_missing\": false}, {\"time\": 85.0, \"variable\": \"TA\", \"value\": 0.4, \"is_missing\": false}, {\"time\": 86.0, \"variable\": \"TA\", \"value\": 0.66, \"is_missing\": false}, {\"time\": 87.0, \"variable\": \"TA\", \"value\": 0.76, \"is_missing\": false}, {\"time\": 88.0, \"variable\": \"TA\", \"value\": 0.81, \"is_missing\": false}, {\"time\": 89.0, \"variable\": \"TA\", \"value\": 0.94, \"is_missing\": false}, {\"time\": 90.0, \"variable\": \"TA\", \"value\": 0.97, \"is_missing\": false}, {\"time\": 91.0, \"variable\": \"TA\", \"value\": 0.85, \"is_missing\": false}, {\"time\": 92.0, \"variable\": \"TA\", \"value\": 0.77, \"is_missing\": false}, {\"time\": 93.0, \"variable\": \"TA\", \"value\": 0.63, \"is_missing\": false}, {\"time\": 94.0, \"variable\": \"TA\", \"value\": 0.52, \"is_missing\": false}, {\"time\": 95.0, \"variable\": \"TA\", \"value\": 0.48, \"is_missing\": false}, {\"time\": 96.0, \"variable\": \"TA\", \"value\": 0.41, \"is_missing\": false}, {\"time\": 97.0, \"variable\": \"TA\", \"value\": 0.29, \"is_missing\": false}, {\"time\": 98.0, \"variable\": \"TA\", \"value\": 0.31, \"is_missing\": false}, {\"time\": 99.0, \"variable\": \"TA\", \"value\": 0.42, \"is_missing\": false}, {\"time\": 100.0, \"variable\": \"TA\", \"value\": 0.51, \"is_missing\": false}, {\"time\": 101.0, \"variable\": \"TA\", \"value\": 0.57, \"is_missing\": false}, {\"time\": 102.0, \"variable\": \"TA\", \"value\": 0.65, \"is_missing\": false}, {\"time\": 103.0, \"variable\": \"TA\", \"value\": 0.81, \"is_missing\": false}, {\"time\": 104.0, \"variable\": \"TA\", \"value\": 0.95, \"is_missing\": false}, {\"time\": 105.0, \"variable\": \"TA\", \"value\": 1.09, \"is_missing\": false}, {\"time\": 106.0, \"variable\": \"TA\", \"value\": 1.18, \"is_missing\": false}, {\"time\": 107.0, \"variable\": \"TA\", \"value\": 1.35, \"is_missing\": false}, {\"time\": 108.0, \"variable\": \"TA\", \"value\": 1.42, \"is_missing\": false}, {\"time\": 109.0, \"variable\": \"TA\", \"value\": 1.42, \"is_missing\": false}, {\"time\": 110.0, \"variable\": \"TA\", \"value\": 1.57, \"is_missing\": false}, {\"time\": 111.0, \"variable\": \"TA\", \"value\": 1.67, \"is_missing\": false}, {\"time\": 112.0, \"variable\": \"TA\", \"value\": 1.8, \"is_missing\": false}, {\"time\": 113.0, \"variable\": \"TA\", \"value\": 1.86, \"is_missing\": false}, {\"time\": 114.0, \"variable\": \"TA\", \"value\": 1.91, \"is_missing\": false}, {\"time\": 115.0, \"variable\": \"TA\", \"value\": 1.95, \"is_missing\": false}, {\"time\": 116.0, \"variable\": \"TA\", \"value\": 1.99, \"is_missing\": false}, {\"time\": 117.0, \"variable\": \"TA\", \"value\": 2.1, \"is_missing\": false}, {\"time\": 118.0, \"variable\": \"TA\", \"value\": 2.32, \"is_missing\": false}, {\"time\": 119.0, \"variable\": \"TA\", \"value\": 2.53, \"is_missing\": false}, {\"time\": 120.0, \"variable\": \"TA\", \"value\": 2.48, \"is_missing\": false}, {\"time\": 121.0, \"variable\": \"TA\", \"value\": 2.39, \"is_missing\": false}, {\"time\": 122.0, \"variable\": \"TA\", \"value\": 2.52, \"is_missing\": false}, {\"time\": 123.0, \"variable\": \"TA\", \"value\": 2.68, \"is_missing\": false}, {\"time\": 124.0, \"variable\": \"TA\", \"value\": 2.7, \"is_missing\": false}, {\"time\": 125.0, \"variable\": \"TA\", \"value\": 2.7, \"is_missing\": false}, {\"time\": 126.0, \"variable\": \"TA\", \"value\": 2.61, \"is_missing\": false}, {\"time\": 127.0, \"variable\": \"TA\", \"value\": 2.45, \"is_missing\": false}, {\"time\": 128.0, \"variable\": \"TA\", \"value\": 2.36, \"is_missing\": false}, {\"time\": 129.0, \"variable\": \"TA\", \"value\": 2.33, \"is_missing\": false}, {\"time\": 130.0, \"variable\": \"TA\", \"value\": 2.22, \"is_missing\": false}, {\"time\": 131.0, \"variable\": \"TA\", \"value\": 2.07, \"is_missing\": false}, {\"time\": 132.0, \"variable\": \"TA\", \"value\": 1.96, \"is_missing\": false}, {\"time\": 133.0, \"variable\": \"TA\", \"value\": 2.01, \"is_missing\": false}, {\"time\": 134.0, \"variable\": \"TA\", \"value\": 2.01, \"is_missing\": false}, {\"time\": 135.0, \"variable\": \"TA\", \"value\": 2.06, \"is_missing\": false}, {\"time\": 136.0, \"variable\": \"TA\", \"value\": 2.14, \"is_missing\": false}, {\"time\": 137.0, \"variable\": \"TA\", \"value\": 2.11, \"is_missing\": false}, {\"time\": 138.0, \"variable\": \"TA\", \"value\": 2.1, \"is_missing\": false}, {\"time\": 139.0, \"variable\": \"TA\", \"value\": 2.07, \"is_missing\": false}, {\"time\": 140.0, \"variable\": \"TA\", \"value\": 2.09, \"is_missing\": false}, {\"time\": 141.0, \"variable\": \"TA\", \"value\": 2.11, \"is_missing\": false}, {\"time\": 142.0, \"variable\": \"TA\", \"value\": 2.1, \"is_missing\": false}, {\"time\": 143.0, \"variable\": \"TA\", \"value\": 2.1, \"is_missing\": false}, {\"time\": 144.0, \"variable\": \"TA\", \"value\": 2.01, \"is_missing\": false}, {\"time\": 145.0, \"variable\": \"TA\", \"value\": 2.05, \"is_missing\": false}, {\"time\": 146.0, \"variable\": \"TA\", \"value\": 2.13, \"is_missing\": false}, {\"time\": 147.0, \"variable\": \"TA\", \"value\": 2.1, \"is_missing\": false}, {\"time\": 148.0, \"variable\": \"TA\", \"value\": 2.19, \"is_missing\": false}, {\"time\": 149.0, \"variable\": \"TA\", \"value\": 2.27, \"is_missing\": false}, {\"time\": 150.0, \"variable\": \"TA\", \"value\": 2.32, \"is_missing\": false}, {\"time\": 151.0, \"variable\": \"TA\", \"value\": 2.34, \"is_missing\": false}, {\"time\": 152.0, \"variable\": \"TA\", \"value\": 2.24, \"is_missing\": false}, {\"time\": 153.0, \"variable\": \"TA\", \"value\": 2.0, \"is_missing\": false}, {\"time\": 154.0, \"variable\": \"TA\", \"value\": 1.94, \"is_missing\": false}, {\"time\": 155.0, \"variable\": \"TA\", \"value\": 2.07, \"is_missing\": false}, {\"time\": 156.0, \"variable\": \"TA\", \"value\": 2.04, \"is_missing\": false}, {\"time\": 157.0, \"variable\": \"TA\", \"value\": 2.03, \"is_missing\": false}, {\"time\": 158.0, \"variable\": \"TA\", \"value\": 2.07, \"is_missing\": false}, {\"time\": 159.0, \"variable\": \"TA\", \"value\": 2.08, \"is_missing\": false}, {\"time\": 160.0, \"variable\": \"TA\", \"value\": 1.94, \"is_missing\": false}, {\"time\": 161.0, \"variable\": \"TA\", \"value\": 1.92, \"is_missing\": false}, {\"time\": 162.0, \"variable\": \"TA\", \"value\": 1.96, \"is_missing\": false}, {\"time\": 163.0, \"variable\": \"TA\", \"value\": 2.02, \"is_missing\": false}, {\"time\": 164.0, \"variable\": \"TA\", \"value\": 2.06, \"is_missing\": false}, {\"time\": 165.0, \"variable\": \"TA\", \"value\": 2.11, \"is_missing\": false}, {\"time\": 166.0, \"variable\": \"TA\", \"value\": 2.26, \"is_missing\": false}, {\"time\": 167.0, \"variable\": \"TA\", \"value\": 2.32, \"is_missing\": false}, {\"time\": 168.0, \"variable\": \"TA\", \"value\": 2.34, \"is_missing\": false}, {\"time\": 169.0, \"variable\": \"TA\", \"value\": 2.31, \"is_missing\": false}, {\"time\": 170.0, \"variable\": \"TA\", \"value\": 2.36, \"is_missing\": false}, {\"time\": 171.0, \"variable\": \"TA\", \"value\": 2.45, \"is_missing\": false}, {\"time\": 172.0, \"variable\": \"TA\", \"value\": 2.54, \"is_missing\": false}, {\"time\": 173.0, \"variable\": \"TA\", \"value\": 2.59, \"is_missing\": false}, {\"time\": 174.0, \"variable\": \"TA\", \"value\": 2.7, \"is_missing\": false}, {\"time\": 175.0, \"variable\": \"TA\", \"value\": 2.9, \"is_missing\": false}, {\"time\": 176.0, \"variable\": \"TA\", \"value\": 3.04, \"is_missing\": false}, {\"time\": 177.0, \"variable\": \"TA\", \"value\": 3.16, \"is_missing\": false}, {\"time\": 178.0, \"variable\": \"TA\", \"value\": 3.33, \"is_missing\": false}, {\"time\": 179.0, \"variable\": \"TA\", \"value\": 3.39, \"is_missing\": false}, {\"time\": 180.0, \"variable\": \"TA\", \"value\": 3.69, \"is_missing\": false}, {\"time\": 181.0, \"variable\": \"TA\", \"value\": 4.05, \"is_missing\": false}, {\"time\": 182.0, \"variable\": \"TA\", \"value\": 4.22, \"is_missing\": false}, {\"time\": 183.0, \"variable\": \"TA\", \"value\": 4.19, \"is_missing\": false}, {\"time\": 184.0, \"variable\": \"TA\", \"value\": 4.22, \"is_missing\": false}, {\"time\": 185.0, \"variable\": \"TA\", \"value\": 4.36, \"is_missing\": false}, {\"time\": 186.0, \"variable\": \"TA\", \"value\": 4.49, \"is_missing\": false}, {\"time\": 187.0, \"variable\": \"TA\", \"value\": 4.64, \"is_missing\": false}, {\"time\": 188.0, \"variable\": \"TA\", \"value\": 4.73, \"is_missing\": false}, {\"time\": 189.0, \"variable\": \"TA\", \"value\": 4.82, \"is_missing\": false}, {\"time\": 190.0, \"variable\": \"TA\", \"value\": 4.82, \"is_missing\": false}, {\"time\": 191.0, \"variable\": \"TA\", \"value\": 4.67, \"is_missing\": false}, {\"time\": 192.0, \"variable\": \"TA\", \"value\": 4.59, \"is_missing\": false}, {\"time\": 193.0, \"variable\": \"TA\", \"value\": 4.45, \"is_missing\": false}, {\"time\": 194.0, \"variable\": \"TA\", \"value\": 4.55, \"is_missing\": false}, {\"time\": 195.0, \"variable\": \"TA\", \"value\": 4.74, \"is_missing\": false}, {\"time\": 196.0, \"variable\": \"TA\", \"value\": 4.75, \"is_missing\": false}, {\"time\": 197.0, \"variable\": \"TA\", \"value\": 4.76, \"is_missing\": false}, {\"time\": 198.0, \"variable\": \"TA\", \"value\": 4.62, \"is_missing\": false}, {\"time\": 199.0, \"variable\": \"TA\", \"value\": 4.51, \"is_missing\": false}], \"data-22fb33a8c8ea17ecbcb35db90a3237c0\": [{\"time\": 0.0, \"variable\": \"TA\", \"mean\": -0.5872567892074585, \"std\": 0.08717580884695053}, {\"time\": 1.0, \"variable\": \"TA\", \"mean\": -0.6326345205307007, \"std\": 0.07647982239723206}, {\"time\": 2.0, \"variable\": \"TA\", \"mean\": -0.6041675806045532, \"std\": 0.07620489597320557}, {\"time\": 3.0, \"variable\": \"TA\", \"mean\": -0.5288571119308472, \"std\": 0.0754026472568512}, {\"time\": 4.0, \"variable\": \"TA\", \"mean\": -0.45802009105682373, \"std\": 0.07470495998859406}, {\"time\": 5.0, \"variable\": \"TA\", \"mean\": -0.4048556089401245, \"std\": 0.0746292769908905}, {\"time\": 6.0, \"variable\": \"TA\", \"mean\": -0.36502182483673096, \"std\": 0.07445745170116425}, {\"time\": 7.0, \"variable\": \"TA\", \"mean\": -0.33289873600006104, \"std\": 0.07429030537605286}, {\"time\": 8.0, \"variable\": \"TA\", \"mean\": -0.2981828451156616, \"std\": 0.07447190582752228}, {\"time\": 9.0, \"variable\": \"TA\", \"mean\": -0.26207101345062256, \"std\": 0.07443070411682129}, {\"time\": 10.0, \"variable\": \"TA\", \"mean\": -0.23544585704803467, \"std\": 0.0743207186460495}, {\"time\": 11.0, \"variable\": \"TA\", \"mean\": -0.22354769706726074, \"std\": 0.07425914704799652}, {\"time\": 12.0, \"variable\": \"TA\", \"mean\": -0.22427046298980713, \"std\": 0.07419461756944656}, {\"time\": 13.0, \"variable\": \"TA\", \"mean\": -0.2310163974761963, \"std\": 0.07424826920032501}, {\"time\": 14.0, \"variable\": \"TA\", \"mean\": -0.23331093788146973, \"std\": 0.07421999424695969}, {\"time\": 15.0, \"variable\": \"TA\", \"mean\": -0.22008919715881348, \"std\": 0.07421129941940308}, {\"time\": 16.0, \"variable\": \"TA\", \"mean\": -0.1849048137664795, \"std\": 0.07426131516695023}, {\"time\": 17.0, \"variable\": \"TA\", \"mean\": -0.1257929801940918, \"std\": 0.07439743727445602}, {\"time\": 18.0, \"variable\": \"TA\", \"mean\": -0.04955160617828369, \"std\": 0.07430333644151688}, {\"time\": 19.0, \"variable\": \"TA\", \"mean\": 0.030146121978759766, \"std\": 0.07426638901233673}, {\"time\": 20.0, \"variable\": \"TA\", \"mean\": 0.10523855686187744, \"std\": 0.07415834069252014}, {\"time\": 21.0, \"variable\": \"TA\", \"mean\": 0.1697787046432495, \"std\": 0.07422289997339249}, {\"time\": 22.0, \"variable\": \"TA\", \"mean\": 0.2240997552871704, \"std\": 0.07427653670310974}, {\"time\": 23.0, \"variable\": \"TA\", \"mean\": 0.27205538749694824, \"std\": 0.07427508383989334}, {\"time\": 24.0, \"variable\": \"TA\", \"mean\": 0.32152390480041504, \"std\": 0.07425262033939362}, {\"time\": 25.0, \"variable\": \"TA\", \"mean\": 0.37300634384155273, \"std\": 0.07431057840585709}, {\"time\": 26.0, \"variable\": \"TA\", \"mean\": 0.4229874610900879, \"std\": 0.07432723790407181}, {\"time\": 27.0, \"variable\": \"TA\", \"mean\": 0.4694138765335083, \"std\": 0.0742308720946312}, {\"time\": 28.0, \"variable\": \"TA\", \"mean\": 0.5100518465042114, \"std\": 0.07414309680461884}, {\"time\": 29.0, \"variable\": \"TA\", \"mean\": 0.5386204719543457, \"std\": 0.07416777312755585}, {\"time\": 30.0, \"variable\": \"TA\", \"mean\": 0.557998776435852, \"std\": 0.07418663799762726}, {\"time\": 31.0, \"variable\": \"TA\", \"mean\": 0.5799145698547363, \"std\": 0.07427508383989334}, {\"time\": 32.0, \"variable\": \"TA\", \"mean\": 0.6233450174331665, \"std\": 0.07428812235593796}, {\"time\": 33.0, \"variable\": \"TA\", \"mean\": 0.7163189053535461, \"std\": 0.0743836909532547}, {\"time\": 34.0, \"variable\": \"TA\", \"mean\": 0.8803881406784058, \"std\": 0.07439526170492172}, {\"time\": 35.0, \"variable\": \"TA\", \"mean\": 1.1242518424987793, \"std\": 0.07433664798736572}, {\"time\": 36.0, \"variable\": \"TA\", \"mean\": 1.4205000400543213, \"std\": 0.07426204532384872}, {\"time\": 37.0, \"variable\": \"TA\", \"mean\": 1.7080953121185303, \"std\": 0.07422507554292679}, {\"time\": 38.0, \"variable\": \"TA\", \"mean\": 1.9277377128601074, \"std\": 0.07425696402788162}, {\"time\": 39.0, \"variable\": \"TA\", \"mean\": 2.059788703918457, \"std\": 0.07429827004671097}, {\"time\": 40.0, \"variable\": \"TA\", \"mean\": 2.130540370941162, \"std\": 0.07433012872934341}, {\"time\": 41.0, \"variable\": \"TA\", \"mean\": 2.1902146339416504, \"std\": 0.07429971545934677}, {\"time\": 42.0, \"variable\": \"TA\", \"mean\": 2.288750410079956, \"std\": 0.07429175078868866}, {\"time\": 43.0, \"variable\": \"TA\", \"mean\": 2.4403886795043945, \"std\": 0.074238121509552}, {\"time\": 44.0, \"variable\": \"TA\", \"mean\": 2.581756353378296, \"std\": 0.07421854883432388}, {\"time\": 45.0, \"variable\": \"TA\", \"mean\": 2.62252140045166, \"std\": 0.07422652095556259}, {\"time\": 46.0, \"variable\": \"TA\", \"mean\": 2.5275192260742188, \"std\": 0.07426059246063232}, {\"time\": 47.0, \"variable\": \"TA\", \"mean\": 2.3215391635894775, \"std\": 0.07428233325481415}, {\"time\": 48.0, \"variable\": \"TA\", \"mean\": 2.0799989700317383, \"std\": 0.07428160309791565}, {\"time\": 49.0, \"variable\": \"TA\", \"mean\": 1.9163225889205933, \"std\": 0.07429030537605286}, {\"time\": 50.0, \"variable\": \"TA\", \"mean\": 1.8571025133132935, \"std\": 0.07434315979480743}, {\"time\": 51.0, \"variable\": \"TA\", \"mean\": 1.7929378747940063, \"std\": 0.07437501102685928}, {\"time\": 52.0, \"variable\": \"TA\", \"mean\": 1.6412887573242188, \"std\": 0.07433447241783142}, {\"time\": 53.0, \"variable\": \"TA\", \"mean\": 1.4542676210403442, \"std\": 0.07452969998121262}, {\"time\": 54.0, \"variable\": \"TA\", \"mean\": 1.3059840202331543, \"std\": 0.07467973977327347}, {\"time\": 55.0, \"variable\": \"TA\", \"mean\": 1.1876564025878906, \"std\": 0.07465523481369019}, {\"time\": 56.0, \"variable\": \"TA\", \"mean\": 1.0662353038787842, \"std\": 0.07518678903579712}, {\"time\": 57.0, \"variable\": \"TA\", \"mean\": 0.9433276057243347, \"std\": 0.07611656934022903}, {\"time\": 58.0, \"variable\": \"TA\", \"mean\": 0.8362079858779907, \"std\": 0.07640872150659561}, {\"time\": 59.0, \"variable\": \"TA\", \"mean\": 0.7697826623916626, \"std\": 0.08713629096746445}, {\"time\": 60.0, \"variable\": \"TA\", \"mean\": 0.7598869204521179, \"std\": 0.13778658211231232}, {\"time\": 61.0, \"variable\": \"TA\", \"mean\": 0.7994476556777954, \"std\": 0.23092138767242432}, {\"time\": 62.0, \"variable\": \"TA\", \"mean\": 0.84774249792099, \"std\": 0.3450924754142761}, {\"time\": 63.0, \"variable\": \"TA\", \"mean\": 0.8932140469551086, \"std\": 0.4576932191848755}, {\"time\": 64.0, \"variable\": \"TA\", \"mean\": 0.8942506313323975, \"std\": 0.5469782948493958}, {\"time\": 65.0, \"variable\": \"TA\", \"mean\": 0.7854157090187073, \"std\": 0.596048891544342}, {\"time\": 66.0, \"variable\": \"TA\", \"mean\": 0.575645923614502, \"std\": 0.5960505604743958}, {\"time\": 67.0, \"variable\": \"TA\", \"mean\": 0.34266960620880127, \"std\": 0.5469882488250732}, {\"time\": 68.0, \"variable\": \"TA\", \"mean\": 0.16772747039794922, \"std\": 0.457697331905365}, {\"time\": 69.0, \"variable\": \"TA\", \"mean\": 0.11355721950531006, \"std\": 0.3451040983200073}, {\"time\": 70.0, \"variable\": \"TA\", \"mean\": 0.20381617546081543, \"std\": 0.23089288175106049}, {\"time\": 71.0, \"variable\": \"TA\", \"mean\": 0.4238870143890381, \"std\": 0.13779042661190033}, {\"time\": 72.0, \"variable\": \"TA\", \"mean\": 0.7325023412704468, \"std\": 0.08713320642709732}, {\"time\": 73.0, \"variable\": \"TA\", \"mean\": 1.0744353532791138, \"std\": 0.07641083002090454}, {\"time\": 74.0, \"variable\": \"TA\", \"mean\": 1.3190935850143433, \"std\": 0.0761314108967781}, {\"time\": 75.0, \"variable\": \"TA\", \"mean\": 1.4146254062652588, \"std\": 0.07518965750932693}, {\"time\": 76.0, \"variable\": \"TA\", \"mean\": 1.3204724788665771, \"std\": 0.07466388493776321}, {\"time\": 77.0, \"variable\": \"TA\", \"mean\": 1.0623375177383423, \"std\": 0.07465307414531708}, {\"time\": 78.0, \"variable\": \"TA\", \"mean\": 0.7809039354324341, \"std\": 0.07450225204229355}, {\"time\": 79.0, \"variable\": \"TA\", \"mean\": 0.6038782596588135, \"std\": 0.07436487823724747}, {\"time\": 80.0, \"variable\": \"TA\", \"mean\": 0.5269070863723755, \"std\": 0.07436197996139526}, {\"time\": 81.0, \"variable\": \"TA\", \"mean\": 0.48487865924835205, \"std\": 0.07433592528104782}, {\"time\": 82.0, \"variable\": \"TA\", \"mean\": 0.4494476318359375, \"std\": 0.07429754734039307}, {\"time\": 83.0, \"variable\": \"TA\", \"mean\": 0.4222595691680908, \"std\": 0.07429175078868866}, {\"time\": 84.0, \"variable\": \"TA\", \"mean\": 0.41895055770874023, \"std\": 0.07428667694330215}, {\"time\": 85.0, \"variable\": \"TA\", \"mean\": 0.47143518924713135, \"std\": 0.07427798211574554}, {\"time\": 86.0, \"variable\": \"TA\", \"mean\": 0.5836426019668579, \"std\": 0.07427218556404114}, {\"time\": 87.0, \"variable\": \"TA\", \"mean\": 0.7149143218994141, \"std\": 0.07427218556404114}, {\"time\": 88.0, \"variable\": \"TA\", \"mean\": 0.8378547430038452, \"std\": 0.07427146285772324}, {\"time\": 89.0, \"variable\": \"TA\", \"mean\": 0.9337518811225891, \"std\": 0.07426711171865463}, {\"time\": 90.0, \"variable\": \"TA\", \"mean\": 0.9561725854873657, \"std\": 0.07426928728818893}, {\"time\": 91.0, \"variable\": \"TA\", \"mean\": 0.8864005208015442, \"std\": 0.07426856458187103}, {\"time\": 92.0, \"variable\": \"TA\", \"mean\": 0.7665480375289917, \"std\": 0.07427074015140533}, {\"time\": 93.0, \"variable\": \"TA\", \"mean\": 0.6402550935745239, \"std\": 0.07426928728818893}, {\"time\": 94.0, \"variable\": \"TA\", \"mean\": 0.5266315937042236, \"std\": 0.07426856458187103}, {\"time\": 95.0, \"variable\": \"TA\", \"mean\": 0.4379047155380249, \"std\": 0.07426711171865463}, {\"time\": 96.0, \"variable\": \"TA\", \"mean\": 0.37750518321990967, \"std\": 0.07426711171865463}, {\"time\": 97.0, \"variable\": \"TA\", \"mean\": 0.34545624256134033, \"std\": 0.07426638901233673}, {\"time\": 98.0, \"variable\": \"TA\", \"mean\": 0.3498314619064331, \"std\": 0.07426784187555313}, {\"time\": 99.0, \"variable\": \"TA\", \"mean\": 0.39419353008270264, \"std\": 0.07426711171865463}, {\"time\": 100.0, \"variable\": \"TA\", \"mean\": 0.4694923162460327, \"std\": 0.07426638901233673}, {\"time\": 101.0, \"variable\": \"TA\", \"mean\": 0.5666210651397705, \"std\": 0.07426784187555313}, {\"time\": 102.0, \"variable\": \"TA\", \"mean\": 0.6832318305969238, \"std\": 0.07426784187555313}, {\"time\": 103.0, \"variable\": \"TA\", \"mean\": 0.8164746761322021, \"std\": 0.07426566630601883}, {\"time\": 104.0, \"variable\": \"TA\", \"mean\": 0.9521908164024353, \"std\": 0.07426494359970093}, {\"time\": 105.0, \"variable\": \"TA\", \"mean\": 1.0738534927368164, \"std\": 0.07426638901233673}, {\"time\": 106.0, \"variable\": \"TA\", \"mean\": 1.1877038478851318, \"std\": 0.07426494359970093}, {\"time\": 107.0, \"variable\": \"TA\", \"mean\": 1.3068803548812866, \"std\": 0.07426638901233673}, {\"time\": 108.0, \"variable\": \"TA\", \"mean\": 1.41471266746521, \"std\": 0.07426638901233673}, {\"time\": 109.0, \"variable\": \"TA\", \"mean\": 1.4950299263000488, \"std\": 0.07426856458187103}, {\"time\": 110.0, \"variable\": \"TA\", \"mean\": 1.570733666419983, \"std\": 0.07426784187555313}, {\"time\": 111.0, \"variable\": \"TA\", \"mean\": 1.662511944770813, \"std\": 0.07426784187555313}, {\"time\": 112.0, \"variable\": \"TA\", \"mean\": 1.756494402885437, \"std\": 0.07426928728818893}, {\"time\": 113.0, \"variable\": \"TA\", \"mean\": 1.8397631645202637, \"std\": 0.07426928728818893}, {\"time\": 114.0, \"variable\": \"TA\", \"mean\": 1.9144518375396729, \"std\": 0.07426784187555313}, {\"time\": 115.0, \"variable\": \"TA\", \"mean\": 1.9738414287567139, \"std\": 0.07426784187555313}, {\"time\": 116.0, \"variable\": \"TA\", \"mean\": 2.02925443649292, \"std\": 0.07426638901233673}, {\"time\": 117.0, \"variable\": \"TA\", \"mean\": 2.1350514888763428, \"std\": 0.07426638901233673}, {\"time\": 118.0, \"variable\": \"TA\", \"mean\": 2.297008752822876, \"std\": 0.07426566630601883}, {\"time\": 119.0, \"variable\": \"TA\", \"mean\": 2.421175479888916, \"std\": 0.07426928728818893}, {\"time\": 120.0, \"variable\": \"TA\", \"mean\": 2.458432912826538, \"std\": 0.07426928728818893}, {\"time\": 121.0, \"variable\": \"TA\", \"mean\": 2.487813711166382, \"std\": 0.07427218556404114}, {\"time\": 122.0, \"variable\": \"TA\", \"mean\": 2.5701608657836914, \"std\": 0.07427725940942764}, {\"time\": 123.0, \"variable\": \"TA\", \"mean\": 2.6565732955932617, \"std\": 0.07427508383989334}, {\"time\": 124.0, \"variable\": \"TA\", \"mean\": 2.688950538635254, \"std\": 0.07427436113357544}, {\"time\": 125.0, \"variable\": \"TA\", \"mean\": 2.6611831188201904, \"std\": 0.07427725940942764}, {\"time\": 126.0, \"variable\": \"TA\", \"mean\": 2.5846283435821533, \"std\": 0.07428015768527985}, {\"time\": 127.0, \"variable\": \"TA\", \"mean\": 2.4852542877197266, \"std\": 0.07427943497896194}, {\"time\": 128.0, \"variable\": \"TA\", \"mean\": 2.395840644836426, \"std\": 0.07427725940942764}, {\"time\": 129.0, \"variable\": \"TA\", \"mean\": 2.3085274696350098, \"std\": 0.07427508383989334}, {\"time\": 130.0, \"variable\": \"TA\", \"mean\": 2.192962169647217, \"std\": 0.07428523153066635}, {\"time\": 131.0, \"variable\": \"TA\", \"mean\": 2.070817708969116, \"std\": 0.07427436113357544}, {\"time\": 132.0, \"variable\": \"TA\", \"mean\": 1.9999632835388184, \"std\": 0.07427074015140533}, {\"time\": 133.0, \"variable\": \"TA\", \"mean\": 1.9940617084503174, \"std\": 0.07426494359970093}, {\"time\": 134.0, \"variable\": \"TA\", \"mean\": 2.0237514972686768, \"std\": 0.07427580654621124}, {\"time\": 135.0, \"variable\": \"TA\", \"mean\": 2.065244197845459, \"std\": 0.07428885251283646}, {\"time\": 136.0, \"variable\": \"TA\", \"mean\": 2.0997743606567383, \"std\": 0.07427943497896194}, {\"time\": 137.0, \"variable\": \"TA\", \"mean\": 2.110862970352173, \"std\": 0.07426494359970093}, {\"time\": 138.0, \"variable\": \"TA\", \"mean\": 2.104116201400757, \"std\": 0.07429391890764236}, {\"time\": 139.0, \"variable\": \"TA\", \"mean\": 2.095529794692993, \"std\": 0.07429754734039307}, {\"time\": 140.0, \"variable\": \"TA\", \"mean\": 2.0937061309814453, \"std\": 0.07430116832256317}, {\"time\": 141.0, \"variable\": \"TA\", \"mean\": 2.1003150939941406, \"std\": 0.07430043816566467}, {\"time\": 142.0, \"variable\": \"TA\", \"mean\": 2.1019325256347656, \"std\": 0.07428957521915436}, {\"time\": 143.0, \"variable\": \"TA\", \"mean\": 2.078683853149414, \"std\": 0.07427653670310974}, {\"time\": 144.0, \"variable\": \"TA\", \"mean\": 2.043989658355713, \"std\": 0.07426784187555313}, {\"time\": 145.0, \"variable\": \"TA\", \"mean\": 2.037554979324341, \"std\": 0.07427146285772324}, {\"time\": 146.0, \"variable\": \"TA\", \"mean\": 2.075782299041748, \"std\": 0.07428233325481415}, {\"time\": 147.0, \"variable\": \"TA\", \"mean\": 2.146080493927002, \"std\": 0.07427580654621124}, {\"time\": 148.0, \"variable\": \"TA\", \"mean\": 2.2209768295288086, \"std\": 0.0742366686463356}, {\"time\": 149.0, \"variable\": \"TA\", \"mean\": 2.2763476371765137, \"std\": 0.07422217726707458}, {\"time\": 150.0, \"variable\": \"TA\", \"mean\": 2.3148226737976074, \"std\": 0.07425914704799652}, {\"time\": 151.0, \"variable\": \"TA\", \"mean\": 2.30830717086792, \"std\": 0.07424754649400711}, {\"time\": 152.0, \"variable\": \"TA\", \"mean\": 2.19702410697937, \"std\": 0.07425406575202942}, {\"time\": 153.0, \"variable\": \"TA\", \"mean\": 2.045680046081543, \"std\": 0.07427798211574554}, {\"time\": 154.0, \"variable\": \"TA\", \"mean\": 1.9953382015228271, \"std\": 0.07426421344280243}, {\"time\": 155.0, \"variable\": \"TA\", \"mean\": 2.0271129608154297, \"std\": 0.07422579824924469}, {\"time\": 156.0, \"variable\": \"TA\", \"mean\": 2.036205530166626, \"std\": 0.07420767098665237}, {\"time\": 157.0, \"variable\": \"TA\", \"mean\": 2.0404322147369385, \"std\": 0.07425769418478012}, {\"time\": 158.0, \"variable\": \"TA\", \"mean\": 2.0683212280273438, \"std\": 0.07424682378768921}, {\"time\": 159.0, \"variable\": \"TA\", \"mean\": 2.0488338470458984, \"std\": 0.07429391890764236}, {\"time\": 160.0, \"variable\": \"TA\", \"mean\": 1.9704773426055908, \"std\": 0.07427074015140533}, {\"time\": 161.0, \"variable\": \"TA\", \"mean\": 1.9230228662490845, \"std\": 0.07425551861524582}, {\"time\": 162.0, \"variable\": \"TA\", \"mean\": 1.9446195363998413, \"std\": 0.07424899935722351}, {\"time\": 163.0, \"variable\": \"TA\", \"mean\": 2.0025405883789062, \"std\": 0.07422942668199539}, {\"time\": 164.0, \"variable\": \"TA\", \"mean\": 2.074470043182373, \"std\": 0.07416051626205444}, {\"time\": 165.0, \"variable\": \"TA\", \"mean\": 2.153751850128174, \"std\": 0.07420984655618668}, {\"time\": 166.0, \"variable\": \"TA\", \"mean\": 2.231398582458496, \"std\": 0.07419244199991226}, {\"time\": 167.0, \"variable\": \"TA\", \"mean\": 2.293494701385498, \"std\": 0.07432723790407181}, {\"time\": 168.0, \"variable\": \"TA\", \"mean\": 2.3265585899353027, \"std\": 0.07435040175914764}, {\"time\": 169.0, \"variable\": \"TA\", \"mean\": 2.3389334678649902, \"std\": 0.07429827004671097}, {\"time\": 170.0, \"variable\": \"TA\", \"mean\": 2.366171360015869, \"std\": 0.07418082654476166}, {\"time\": 171.0, \"variable\": \"TA\", \"mean\": 2.429959297180176, \"std\": 0.0743236169219017}, {\"time\": 172.0, \"variable\": \"TA\", \"mean\": 2.520272731781006, \"std\": 0.07436125725507736}, {\"time\": 173.0, \"variable\": \"TA\", \"mean\": 2.6246626377105713, \"std\": 0.07428523153066635}, {\"time\": 174.0, \"variable\": \"TA\", \"mean\": 2.739246129989624, \"std\": 0.07429536432027817}, {\"time\": 175.0, \"variable\": \"TA\", \"mean\": 2.861368179321289, \"std\": 0.07427798211574554}, {\"time\": 176.0, \"variable\": \"TA\", \"mean\": 2.993212938308716, \"std\": 0.07428088039159775}, {\"time\": 177.0, \"variable\": \"TA\", \"mean\": 3.1491243839263916, \"std\": 0.07427725940942764}, {\"time\": 178.0, \"variable\": \"TA\", \"mean\": 3.317612409591675, \"std\": 0.07430695742368698}, {\"time\": 179.0, \"variable\": \"TA\", \"mean\": 3.493779420852661, \"std\": 0.07426204532384872}, {\"time\": 180.0, \"variable\": \"TA\", \"mean\": 3.7162537574768066, \"std\": 0.07426349073648453}, {\"time\": 181.0, \"variable\": \"TA\", \"mean\": 3.971933364868164, \"std\": 0.074325792491436}, {\"time\": 182.0, \"variable\": \"TA\", \"mean\": 4.152411460876465, \"std\": 0.07434533536434174}, {\"time\": 183.0, \"variable\": \"TA\", \"mean\": 4.215632915496826, \"std\": 0.07432723790407181}, {\"time\": 184.0, \"variable\": \"TA\", \"mean\": 4.2562479972839355, \"std\": 0.07435040175914764}, {\"time\": 185.0, \"variable\": \"TA\", \"mean\": 4.350098609924316, \"std\": 0.07439092546701431}, {\"time\": 186.0, \"variable\": \"TA\", \"mean\": 4.493144989013672, \"std\": 0.07442057877779007}, {\"time\": 187.0, \"variable\": \"TA\", \"mean\": 4.66093111038208, \"std\": 0.0743807926774025}, {\"time\": 188.0, \"variable\": \"TA\", \"mean\": 4.779669284820557, \"std\": 0.07436053454875946}, {\"time\": 189.0, \"variable\": \"TA\", \"mean\": 4.767642974853516, \"std\": 0.07431637495756149}, {\"time\": 190.0, \"variable\": \"TA\", \"mean\": 4.700915336608887, \"std\": 0.0742359459400177}, {\"time\": 191.0, \"variable\": \"TA\", \"mean\": 4.6868181228637695, \"std\": 0.07428523153066635}, {\"time\": 192.0, \"variable\": \"TA\", \"mean\": 4.645034313201904, \"std\": 0.07434678822755814}, {\"time\": 193.0, \"variable\": \"TA\", \"mean\": 4.538696765899658, \"std\": 0.07457661628723145}, {\"time\": 194.0, \"variable\": \"TA\", \"mean\": 4.547395706176758, \"std\": 0.07466316223144531}, {\"time\": 195.0, \"variable\": \"TA\", \"mean\": 4.6907243728637695, \"std\": 0.07472512871026993}, {\"time\": 196.0, \"variable\": \"TA\", \"mean\": 4.7521796226501465, \"std\": 0.07514455169439316}, {\"time\": 197.0, \"variable\": \"TA\", \"mean\": 4.690668106079102, \"std\": 0.07619854062795639}, {\"time\": 198.0, \"variable\": \"TA\", \"mean\": 4.649340629577637, \"std\": 0.07649530470371246}, {\"time\": 199.0, \"variable\": \"TA\", \"mean\": 4.54613733291626, \"std\": 0.08718198537826538}], \"data-8c9d8c4ec47ece28bb66e04d90e665a2\": [{\"time\": 0.0, \"variable\": \"SW_IN\", \"value\": 0.0, \"is_missing\": false}, {\"time\": 1.0, \"variable\": \"SW_IN\", \"value\": 0.0, \"is_missing\": false}, {\"time\": 2.0, \"variable\": \"SW_IN\", \"value\": 0.0, \"is_missing\": false}, {\"time\": 3.0, \"variable\": \"SW_IN\", \"value\": 0.0, \"is_missing\": false}, {\"time\": 4.0, \"variable\": \"SW_IN\", \"value\": 0.0, \"is_missing\": false}, {\"time\": 5.0, \"variable\": \"SW_IN\", \"value\": 0.0, \"is_missing\": false}, {\"time\": 6.0, \"variable\": \"SW_IN\", \"value\": 0.0, \"is_missing\": false}, {\"time\": 7.0, \"variable\": \"SW_IN\", \"value\": 0.0, \"is_missing\": false}, {\"time\": 8.0, \"variable\": \"SW_IN\", \"value\": 0.0, \"is_missing\": false}, {\"time\": 9.0, \"variable\": \"SW_IN\", \"value\": 0.0, \"is_missing\": false}, {\"time\": 10.0, \"variable\": \"SW_IN\", \"value\": 0.0, \"is_missing\": false}, {\"time\": 11.0, \"variable\": \"SW_IN\", \"value\": 0.0, \"is_missing\": false}, {\"time\": 12.0, \"variable\": \"SW_IN\", \"value\": 0.0, \"is_missing\": false}, {\"time\": 13.0, \"variable\": \"SW_IN\", \"value\": 0.0, \"is_missing\": false}, {\"time\": 14.0, \"variable\": \"SW_IN\", \"value\": 0.0, \"is_missing\": false}, {\"time\": 15.0, \"variable\": \"SW_IN\", \"value\": 0.0, \"is_missing\": false}, {\"time\": 16.0, \"variable\": \"SW_IN\", \"value\": 0.45, \"is_missing\": false}, {\"time\": 17.0, \"variable\": \"SW_IN\", \"value\": 3.7, \"is_missing\": false}, {\"time\": 18.0, \"variable\": \"SW_IN\", \"value\": 7.26, \"is_missing\": false}, {\"time\": 19.0, \"variable\": \"SW_IN\", \"value\": 12.24, \"is_missing\": false}, {\"time\": 20.0, \"variable\": \"SW_IN\", \"value\": 16.51, \"is_missing\": false}, {\"time\": 21.0, \"variable\": \"SW_IN\", \"value\": 24.73, \"is_missing\": false}, {\"time\": 22.0, \"variable\": \"SW_IN\", \"value\": 47.42, \"is_missing\": false}, {\"time\": 23.0, \"variable\": \"SW_IN\", \"value\": 22.05, \"is_missing\": false}, {\"time\": 24.0, \"variable\": \"SW_IN\", \"value\": 18.86, \"is_missing\": false}, {\"time\": 25.0, \"variable\": \"SW_IN\", \"value\": 21.1, \"is_missing\": false}, {\"time\": 26.0, \"variable\": \"SW_IN\", \"value\": 28.87, \"is_missing\": false}, {\"time\": 27.0, \"variable\": \"SW_IN\", \"value\": 24.22, \"is_missing\": false}, {\"time\": 28.0, \"variable\": \"SW_IN\", \"value\": 24.35, \"is_missing\": false}, {\"time\": 29.0, \"variable\": \"SW_IN\", \"value\": 15.68, \"is_missing\": false}, {\"time\": 30.0, \"variable\": \"SW_IN\", \"value\": 8.09, \"is_missing\": false}, {\"time\": 31.0, \"variable\": \"SW_IN\", \"value\": 6.37, \"is_missing\": false}, {\"time\": 32.0, \"variable\": \"SW_IN\", \"value\": 1.72, \"is_missing\": false}, {\"time\": 33.0, \"variable\": \"SW_IN\", \"value\": 0.06, \"is_missing\": false}, {\"time\": 34.0, \"variable\": \"SW_IN\", \"value\": 0.0, \"is_missing\": false}, {\"time\": 35.0, \"variable\": \"SW_IN\", \"value\": 0.0, \"is_missing\": false}, {\"time\": 36.0, \"variable\": \"SW_IN\", \"value\": 0.0, \"is_missing\": false}, {\"time\": 37.0, \"variable\": \"SW_IN\", \"value\": 0.0, \"is_missing\": false}, {\"time\": 38.0, \"variable\": \"SW_IN\", \"value\": 0.0, \"is_missing\": false}, {\"time\": 39.0, \"variable\": \"SW_IN\", \"value\": 0.0, \"is_missing\": false}, {\"time\": 40.0, \"variable\": \"SW_IN\", \"value\": 0.0, \"is_missing\": false}, {\"time\": 41.0, \"variable\": \"SW_IN\", \"value\": 0.0, \"is_missing\": false}, {\"time\": 42.0, \"variable\": \"SW_IN\", \"value\": 0.0, \"is_missing\": false}, {\"time\": 43.0, \"variable\": \"SW_IN\", \"value\": 0.0, \"is_missing\": false}, {\"time\": 44.0, \"variable\": \"SW_IN\", \"value\": 0.0, \"is_missing\": false}, {\"time\": 45.0, \"variable\": \"SW_IN\", \"value\": 0.0, \"is_missing\": false}, {\"time\": 46.0, \"variable\": \"SW_IN\", \"value\": 0.0, \"is_missing\": false}, {\"time\": 47.0, \"variable\": \"SW_IN\", \"value\": 0.0, \"is_missing\": false}, {\"time\": 48.0, \"variable\": \"SW_IN\", \"value\": 0.0, \"is_missing\": false}, {\"time\": 49.0, \"variable\": \"SW_IN\", \"value\": 0.0, \"is_missing\": false}, {\"time\": 50.0, \"variable\": \"SW_IN\", \"value\": 0.0, \"is_missing\": false}, {\"time\": 51.0, \"variable\": \"SW_IN\", \"value\": 0.0, \"is_missing\": false}, {\"time\": 52.0, \"variable\": \"SW_IN\", \"value\": 0.0, \"is_missing\": false}, {\"time\": 53.0, \"variable\": \"SW_IN\", \"value\": 0.0, \"is_missing\": false}, {\"time\": 54.0, \"variable\": \"SW_IN\", \"value\": 0.0, \"is_missing\": false}, {\"time\": 55.0, \"variable\": \"SW_IN\", \"value\": 0.0, \"is_missing\": false}, {\"time\": 56.0, \"variable\": \"SW_IN\", \"value\": 0.0, \"is_missing\": false}, {\"time\": 57.0, \"variable\": \"SW_IN\", \"value\": 0.0, \"is_missing\": false}, {\"time\": 58.0, \"variable\": \"SW_IN\", \"value\": 0.0, \"is_missing\": false}, {\"time\": 59.0, \"variable\": \"SW_IN\", \"value\": 0.0, \"is_missing\": false}, {\"time\": 60.0, \"variable\": \"SW_IN\", \"value\": 0.0, \"is_missing\": true}, {\"time\": 61.0, \"variable\": \"SW_IN\", \"value\": 0.0, \"is_missing\": true}, {\"time\": 62.0, \"variable\": \"SW_IN\", \"value\": 0.0, \"is_missing\": true}, {\"time\": 63.0, \"variable\": \"SW_IN\", \"value\": 0.0, \"is_missing\": true}, {\"time\": 64.0, \"variable\": \"SW_IN\", \"value\": 4.27, \"is_missing\": true}, {\"time\": 65.0, \"variable\": \"SW_IN\", \"value\": 23.9, \"is_missing\": true}, {\"time\": 66.0, \"variable\": \"SW_IN\", \"value\": 50.61, \"is_missing\": true}, {\"time\": 67.0, \"variable\": \"SW_IN\", \"value\": 61.76, \"is_missing\": true}, {\"time\": 68.0, \"variable\": \"SW_IN\", \"value\": 125.24, \"is_missing\": true}, {\"time\": 69.0, \"variable\": \"SW_IN\", \"value\": 138.43, \"is_missing\": true}, {\"time\": 70.0, \"variable\": \"SW_IN\", \"value\": 177.5, \"is_missing\": true}, {\"time\": 71.0, \"variable\": \"SW_IN\", \"value\": 148.06, \"is_missing\": true}, {\"time\": 72.0, \"variable\": \"SW_IN\", \"value\": 122.37, \"is_missing\": false}, {\"time\": 73.0, \"variable\": \"SW_IN\", \"value\": 130.21, \"is_missing\": false}, {\"time\": 74.0, \"variable\": \"SW_IN\", \"value\": 124.73, \"is_missing\": false}, {\"time\": 75.0, \"variable\": \"SW_IN\", \"value\": 110.65, \"is_missing\": false}, {\"time\": 76.0, \"variable\": \"SW_IN\", \"value\": 57.81, \"is_missing\": false}, {\"time\": 77.0, \"variable\": \"SW_IN\", \"value\": 31.87, \"is_missing\": false}, {\"time\": 78.0, \"variable\": \"SW_IN\", \"value\": 19.89, \"is_missing\": false}, {\"time\": 79.0, \"variable\": \"SW_IN\", \"value\": 8.8, \"is_missing\": false}, {\"time\": 80.0, \"variable\": \"SW_IN\", \"value\": 1.78, \"is_missing\": false}, {\"time\": 81.0, \"variable\": \"SW_IN\", \"value\": 0.06, \"is_missing\": false}, {\"time\": 82.0, \"variable\": \"SW_IN\", \"value\": 0.0, \"is_missing\": false}, {\"time\": 83.0, \"variable\": \"SW_IN\", \"value\": 0.0, \"is_missing\": false}, {\"time\": 84.0, \"variable\": \"SW_IN\", \"value\": 0.0, \"is_missing\": false}, {\"time\": 85.0, \"variable\": \"SW_IN\", \"value\": 0.0, \"is_missing\": false}, {\"time\": 86.0, \"variable\": \"SW_IN\", \"value\": 0.0, \"is_missing\": false}, {\"time\": 87.0, \"variable\": \"SW_IN\", \"value\": 0.0, \"is_missing\": false}, {\"time\": 88.0, \"variable\": \"SW_IN\", \"value\": 0.0, \"is_missing\": false}, {\"time\": 89.0, \"variable\": \"SW_IN\", \"value\": 0.0, \"is_missing\": false}, {\"time\": 90.0, \"variable\": \"SW_IN\", \"value\": 0.0, \"is_missing\": false}, {\"time\": 91.0, \"variable\": \"SW_IN\", \"value\": 0.0, \"is_missing\": false}, {\"time\": 92.0, \"variable\": \"SW_IN\", \"value\": 0.0, \"is_missing\": false}, {\"time\": 93.0, \"variable\": \"SW_IN\", \"value\": 0.0, \"is_missing\": false}, {\"time\": 94.0, \"variable\": \"SW_IN\", \"value\": 0.0, \"is_missing\": false}, {\"time\": 95.0, \"variable\": \"SW_IN\", \"value\": 0.0, \"is_missing\": false}, {\"time\": 96.0, \"variable\": \"SW_IN\", \"value\": 0.0, \"is_missing\": false}, {\"time\": 97.0, \"variable\": \"SW_IN\", \"value\": 0.0, \"is_missing\": false}, {\"time\": 98.0, \"variable\": \"SW_IN\", \"value\": 0.0, \"is_missing\": false}, {\"time\": 99.0, \"variable\": \"SW_IN\", \"value\": 0.0, \"is_missing\": false}, {\"time\": 100.0, \"variable\": \"SW_IN\", \"value\": 0.0, \"is_missing\": false}, {\"time\": 101.0, \"variable\": \"SW_IN\", \"value\": 0.0, \"is_missing\": false}, {\"time\": 102.0, \"variable\": \"SW_IN\", \"value\": 0.0, \"is_missing\": false}, {\"time\": 103.0, \"variable\": \"SW_IN\", \"value\": 0.0, \"is_missing\": false}, {\"time\": 104.0, \"variable\": \"SW_IN\", \"value\": 0.0, \"is_missing\": false}, {\"time\": 105.0, \"variable\": \"SW_IN\", \"value\": 0.0, \"is_missing\": false}, {\"time\": 106.0, \"variable\": \"SW_IN\", \"value\": 0.0, \"is_missing\": false}, {\"time\": 107.0, \"variable\": \"SW_IN\", \"value\": 0.0, \"is_missing\": false}, {\"time\": 108.0, \"variable\": \"SW_IN\", \"value\": 0.0, \"is_missing\": false}, {\"time\": 109.0, \"variable\": \"SW_IN\", \"value\": 0.0, \"is_missing\": false}, {\"time\": 110.0, \"variable\": \"SW_IN\", \"value\": 0.0, \"is_missing\": false}, {\"time\": 111.0, \"variable\": \"SW_IN\", \"value\": 0.0, \"is_missing\": false}, {\"time\": 112.0, \"variable\": \"SW_IN\", \"value\": 1.4, \"is_missing\": false}, {\"time\": 113.0, \"variable\": \"SW_IN\", \"value\": 9.81, \"is_missing\": false}, {\"time\": 114.0, \"variable\": \"SW_IN\", \"value\": 25.05, \"is_missing\": false}, {\"time\": 115.0, \"variable\": \"SW_IN\", \"value\": 36.84, \"is_missing\": false}, {\"time\": 116.0, \"variable\": \"SW_IN\", \"value\": 80.63, \"is_missing\": false}, {\"time\": 117.0, \"variable\": \"SW_IN\", \"value\": 78.58, \"is_missing\": false}, {\"time\": 118.0, \"variable\": \"SW_IN\", \"value\": 77.25, \"is_missing\": false}, {\"time\": 119.0, \"variable\": \"SW_IN\", \"value\": 93.31, \"is_missing\": false}, {\"time\": 120.0, \"variable\": \"SW_IN\", \"value\": 114.08, \"is_missing\": false}, {\"time\": 121.0, \"variable\": \"SW_IN\", \"value\": 117.33, \"is_missing\": false}, {\"time\": 122.0, \"variable\": \"SW_IN\", \"value\": 109.82, \"is_missing\": false}, {\"time\": 123.0, \"variable\": \"SW_IN\", \"value\": 97.51, \"is_missing\": false}, {\"time\": 124.0, \"variable\": \"SW_IN\", \"value\": 74.64, \"is_missing\": false}, {\"time\": 125.0, \"variable\": \"SW_IN\", \"value\": 40.66, \"is_missing\": false}, {\"time\": 126.0, \"variable\": \"SW_IN\", \"value\": 32.06, \"is_missing\": false}, {\"time\": 127.0, \"variable\": \"SW_IN\", \"value\": 16.12, \"is_missing\": false}, {\"time\": 128.0, \"variable\": \"SW_IN\", \"value\": 3.76, \"is_missing\": false}, {\"time\": 129.0, \"variable\": \"SW_IN\", \"value\": 0.57, \"is_missing\": false}, {\"time\": 130.0, \"variable\": \"SW_IN\", \"value\": 0.0, \"is_missing\": false}, {\"time\": 131.0, \"variable\": \"SW_IN\", \"value\": 0.0, \"is_missing\": false}, {\"time\": 132.0, \"variable\": \"SW_IN\", \"value\": 0.0, \"is_missing\": false}, {\"time\": 133.0, \"variable\": \"SW_IN\", \"value\": 0.0, \"is_missing\": false}, {\"time\": 134.0, \"variable\": \"SW_IN\", \"value\": 0.0, \"is_missing\": false}, {\"time\": 135.0, \"variable\": \"SW_IN\", \"value\": 0.0, \"is_missing\": false}, {\"time\": 136.0, \"variable\": \"SW_IN\", \"value\": 0.0, \"is_missing\": false}, {\"time\": 137.0, \"variable\": \"SW_IN\", \"value\": 0.0, \"is_missing\": false}, {\"time\": 138.0, \"variable\": \"SW_IN\", \"value\": 0.0, \"is_missing\": false}, {\"time\": 139.0, \"variable\": \"SW_IN\", \"value\": 0.0, \"is_missing\": false}, {\"time\": 140.0, \"variable\": \"SW_IN\", \"value\": 0.0, \"is_missing\": false}, {\"time\": 141.0, \"variable\": \"SW_IN\", \"value\": 0.0, \"is_missing\": false}, {\"time\": 142.0, \"variable\": \"SW_IN\", \"value\": 0.0, \"is_missing\": false}, {\"time\": 143.0, \"variable\": \"SW_IN\", \"value\": 0.0, \"is_missing\": false}, {\"time\": 144.0, \"variable\": \"SW_IN\", \"value\": 0.0, \"is_missing\": false}, {\"time\": 145.0, \"variable\": \"SW_IN\", \"value\": 0.0, \"is_missing\": false}, {\"time\": 146.0, \"variable\": \"SW_IN\", \"value\": 0.0, \"is_missing\": false}, {\"time\": 147.0, \"variable\": \"SW_IN\", \"value\": 0.0, \"is_missing\": false}, {\"time\": 148.0, \"variable\": \"SW_IN\", \"value\": 0.0, \"is_missing\": false}, {\"time\": 149.0, \"variable\": \"SW_IN\", \"value\": 0.0, \"is_missing\": false}, {\"time\": 150.0, \"variable\": \"SW_IN\", \"value\": 0.0, \"is_missing\": false}, {\"time\": 151.0, \"variable\": \"SW_IN\", \"value\": 0.0, \"is_missing\": false}, {\"time\": 152.0, \"variable\": \"SW_IN\", \"value\": 0.0, \"is_missing\": false}, {\"time\": 153.0, \"variable\": \"SW_IN\", \"value\": 0.0, \"is_missing\": false}, {\"time\": 154.0, \"variable\": \"SW_IN\", \"value\": 0.0, \"is_missing\": false}, {\"time\": 155.0, \"variable\": \"SW_IN\", \"value\": 0.0, \"is_missing\": false}, {\"time\": 156.0, \"variable\": \"SW_IN\", \"value\": 0.0, \"is_missing\": false}, {\"time\": 157.0, \"variable\": \"SW_IN\", \"value\": 0.0, \"is_missing\": false}, {\"time\": 158.0, \"variable\": \"SW_IN\", \"value\": 0.0, \"is_missing\": false}, {\"time\": 159.0, \"variable\": \"SW_IN\", \"value\": 0.0, \"is_missing\": false}, {\"time\": 160.0, \"variable\": \"SW_IN\", \"value\": 0.32, \"is_missing\": false}, {\"time\": 161.0, \"variable\": \"SW_IN\", \"value\": 2.74, \"is_missing\": false}, {\"time\": 162.0, \"variable\": \"SW_IN\", \"value\": 8.41, \"is_missing\": false}, {\"time\": 163.0, \"variable\": \"SW_IN\", \"value\": 14.53, \"is_missing\": false}, {\"time\": 164.0, \"variable\": \"SW_IN\", \"value\": 16.83, \"is_missing\": false}, {\"time\": 165.0, \"variable\": \"SW_IN\", \"value\": 21.41, \"is_missing\": false}, {\"time\": 166.0, \"variable\": \"SW_IN\", \"value\": 28.68, \"is_missing\": false}, {\"time\": 167.0, \"variable\": \"SW_IN\", \"value\": 26.77, \"is_missing\": false}, {\"time\": 168.0, \"variable\": \"SW_IN\", \"value\": 24.35, \"is_missing\": false}, {\"time\": 169.0, \"variable\": \"SW_IN\", \"value\": 16.95, \"is_missing\": false}, {\"time\": 170.0, \"variable\": \"SW_IN\", \"value\": 25.88, \"is_missing\": false}, {\"time\": 171.0, \"variable\": \"SW_IN\", \"value\": 32.31, \"is_missing\": false}, {\"time\": 172.0, \"variable\": \"SW_IN\", \"value\": 27.21, \"is_missing\": false}, {\"time\": 173.0, \"variable\": \"SW_IN\", \"value\": 12.37, \"is_missing\": false}, {\"time\": 174.0, \"variable\": \"SW_IN\", \"value\": 8.99, \"is_missing\": false}, {\"time\": 175.0, \"variable\": \"SW_IN\", \"value\": 4.21, \"is_missing\": false}, {\"time\": 176.0, \"variable\": \"SW_IN\", \"value\": 0.96, \"is_missing\": false}, {\"time\": 177.0, \"variable\": \"SW_IN\", \"value\": 0.0, \"is_missing\": false}, {\"time\": 178.0, \"variable\": \"SW_IN\", \"value\": 0.0, \"is_missing\": false}, {\"time\": 179.0, \"variable\": \"SW_IN\", \"value\": 0.0, \"is_missing\": false}, {\"time\": 180.0, \"variable\": \"SW_IN\", \"value\": 0.0, \"is_missing\": false}, {\"time\": 181.0, \"variable\": \"SW_IN\", \"value\": 0.0, \"is_missing\": false}, {\"time\": 182.0, \"variable\": \"SW_IN\", \"value\": 0.0, \"is_missing\": false}, {\"time\": 183.0, \"variable\": \"SW_IN\", \"value\": 0.0, \"is_missing\": false}, {\"time\": 184.0, \"variable\": \"SW_IN\", \"value\": 0.0, \"is_missing\": false}, {\"time\": 185.0, \"variable\": \"SW_IN\", \"value\": 0.0, \"is_missing\": false}, {\"time\": 186.0, \"variable\": \"SW_IN\", \"value\": 0.0, \"is_missing\": false}, {\"time\": 187.0, \"variable\": \"SW_IN\", \"value\": 0.0, \"is_missing\": false}, {\"time\": 188.0, \"variable\": \"SW_IN\", \"value\": 0.0, \"is_missing\": false}, {\"time\": 189.0, \"variable\": \"SW_IN\", \"value\": 0.0, \"is_missing\": false}, {\"time\": 190.0, \"variable\": \"SW_IN\", \"value\": 0.0, \"is_missing\": false}, {\"time\": 191.0, \"variable\": \"SW_IN\", \"value\": 0.0, \"is_missing\": false}, {\"time\": 192.0, \"variable\": \"SW_IN\", \"value\": 0.0, \"is_missing\": false}, {\"time\": 193.0, \"variable\": \"SW_IN\", \"value\": 0.0, \"is_missing\": false}, {\"time\": 194.0, \"variable\": \"SW_IN\", \"value\": 0.0, \"is_missing\": false}, {\"time\": 195.0, \"variable\": \"SW_IN\", \"value\": 0.0, \"is_missing\": false}, {\"time\": 196.0, \"variable\": \"SW_IN\", \"value\": 0.0, \"is_missing\": false}, {\"time\": 197.0, \"variable\": \"SW_IN\", \"value\": 0.0, \"is_missing\": false}, {\"time\": 198.0, \"variable\": \"SW_IN\", \"value\": 0.0, \"is_missing\": false}, {\"time\": 199.0, \"variable\": \"SW_IN\", \"value\": 0.0, \"is_missing\": false}], \"data-73cd69cac257625a1f2606c2ff470fe9\": [{\"time\": 0.0, \"variable\": \"SW_IN\", \"mean\": 0.3387584686279297, \"std\": 6.018863201141357}, {\"time\": 1.0, \"variable\": \"SW_IN\", \"mean\": 0.2078084945678711, \"std\": 5.413827896118164}, {\"time\": 2.0, \"variable\": \"SW_IN\", \"mean\": 0.23264217376708984, \"std\": 5.315203666687012}, {\"time\": 3.0, \"variable\": \"SW_IN\", \"mean\": 0.1559772491455078, \"std\": 5.315249443054199}, {\"time\": 4.0, \"variable\": \"SW_IN\", \"mean\": 0.03896141052246094, \"std\": 5.292734146118164}, {\"time\": 5.0, \"variable\": \"SW_IN\", \"mean\": -0.10514640808105469, \"std\": 5.267169952392578}, {\"time\": 6.0, \"variable\": \"SW_IN\", \"mean\": -0.18516063690185547, \"std\": 5.257562637329102}, {\"time\": 7.0, \"variable\": \"SW_IN\", \"mean\": -0.10947322845458984, \"std\": 5.257120609283447}, {\"time\": 8.0, \"variable\": \"SW_IN\", \"mean\": 0.1176004409790039, \"std\": 5.255768775939941}, {\"time\": 9.0, \"variable\": \"SW_IN\", \"mean\": 0.4206056594848633, \"std\": 5.251041412353516}, {\"time\": 10.0, \"variable\": \"SW_IN\", \"mean\": 0.6329879760742188, \"std\": 5.247550010681152}, {\"time\": 11.0, \"variable\": \"SW_IN\", \"mean\": 0.5564126968383789, \"std\": 5.247398376464844}, {\"time\": 12.0, \"variable\": \"SW_IN\", \"mean\": 0.0632171630859375, \"std\": 5.246081829071045}, {\"time\": 13.0, \"variable\": \"SW_IN\", \"mean\": -0.6758623123168945, \"std\": 5.245786666870117}, {\"time\": 14.0, \"variable\": \"SW_IN\", \"mean\": -1.206533432006836, \"std\": 5.24455451965332}, {\"time\": 15.0, \"variable\": \"SW_IN\", \"mean\": -0.8888387680053711, \"std\": 5.244870662689209}, {\"time\": 16.0, \"variable\": \"SW_IN\", \"mean\": 0.8704071044921875, \"std\": 5.244326114654541}, {\"time\": 17.0, \"variable\": \"SW_IN\", \"mean\": 4.28988790512085, \"std\": 5.24505615234375}, {\"time\": 18.0, \"variable\": \"SW_IN\", \"mean\": 9.119393348693848, \"std\": 5.244334697723389}, {\"time\": 19.0, \"variable\": \"SW_IN\", \"mean\": 14.664650917053223, \"std\": 5.244225025177002}, {\"time\": 20.0, \"variable\": \"SW_IN\", \"mean\": 20.00221824645996, \"std\": 5.243532657623291}, {\"time\": 21.0, \"variable\": \"SW_IN\", \"mean\": 24.297176361083984, \"std\": 5.243684768676758}, {\"time\": 22.0, \"variable\": \"SW_IN\", \"mean\": 27.104307174682617, \"std\": 5.2438154220581055}, {\"time\": 23.0, \"variable\": \"SW_IN\", \"mean\": 28.32700538635254, \"std\": 5.243849277496338}, {\"time\": 24.0, \"variable\": \"SW_IN\", \"mean\": 28.14112091064453, \"std\": 5.2436676025390625}, {\"time\": 25.0, \"variable\": \"SW_IN\", \"mean\": 26.82025718688965, \"std\": 5.243971347808838}, {\"time\": 26.0, \"variable\": \"SW_IN\", \"mean\": 24.72183609008789, \"std\": 5.244072914123535}, {\"time\": 27.0, \"variable\": \"SW_IN\", \"mean\": 22.07115364074707, \"std\": 5.24384069442749}, {\"time\": 28.0, \"variable\": \"SW_IN\", \"mean\": 18.980453491210938, \"std\": 5.243005275726318}, {\"time\": 29.0, \"variable\": \"SW_IN\", \"mean\": 15.487621307373047, \"std\": 5.2434821128845215}, {\"time\": 30.0, \"variable\": \"SW_IN\", \"mean\": 11.581402778625488, \"std\": 5.243380546569824}, {\"time\": 31.0, \"variable\": \"SW_IN\", \"mean\": 7.37637186050415, \"std\": 5.24393367767334}, {\"time\": 32.0, \"variable\": \"SW_IN\", \"mean\": 3.306589126586914, \"std\": 5.243946552276611}, {\"time\": 33.0, \"variable\": \"SW_IN\", \"mean\": 0.11754703521728516, \"std\": 5.244596481323242}, {\"time\": 34.0, \"variable\": \"SW_IN\", \"mean\": -1.5650177001953125, \"std\": 5.244706153869629}, {\"time\": 35.0, \"variable\": \"SW_IN\", \"mean\": -1.5647926330566406, \"std\": 5.244372844696045}, {\"time\": 36.0, \"variable\": \"SW_IN\", \"mean\": -0.5045881271362305, \"std\": 5.243971347808838}, {\"time\": 37.0, \"variable\": \"SW_IN\", \"mean\": 0.6879472732543945, \"std\": 5.243790149688721}, {\"time\": 38.0, \"variable\": \"SW_IN\", \"mean\": 1.1986932754516602, \"std\": 5.24397611618042}, {\"time\": 39.0, \"variable\": \"SW_IN\", \"mean\": 0.7858457565307617, \"std\": 5.244347095489502}, {\"time\": 40.0, \"variable\": \"SW_IN\", \"mean\": -0.12714099884033203, \"std\": 5.244533061981201}, {\"time\": 41.0, \"variable\": \"SW_IN\", \"mean\": -0.7808408737182617, \"std\": 5.244452953338623}, {\"time\": 42.0, \"variable\": \"SW_IN\", \"mean\": -0.783940315246582, \"std\": 5.244583606719971}, {\"time\": 43.0, \"variable\": \"SW_IN\", \"mean\": -0.3768768310546875, \"std\": 5.244410514831543}, {\"time\": 44.0, \"variable\": \"SW_IN\", \"mean\": 0.12320613861083984, \"std\": 5.244410514831543}, {\"time\": 45.0, \"variable\": \"SW_IN\", \"mean\": 0.48876953125, \"std\": 5.244647026062012}, {\"time\": 46.0, \"variable\": \"SW_IN\", \"mean\": 0.5615816116333008, \"std\": 5.24552059173584}, {\"time\": 47.0, \"variable\": \"SW_IN\", \"mean\": 0.43085575103759766, \"std\": 5.246647357940674}, {\"time\": 48.0, \"variable\": \"SW_IN\", \"mean\": 0.24210643768310547, \"std\": 5.246832847595215}, {\"time\": 49.0, \"variable\": \"SW_IN\", \"mean\": -0.22100543975830078, \"std\": 5.247123718261719}, {\"time\": 50.0, \"variable\": \"SW_IN\", \"mean\": -0.8491048812866211, \"std\": 5.249848365783691}, {\"time\": 51.0, \"variable\": \"SW_IN\", \"mean\": -0.8450965881347656, \"std\": 5.25477933883667}, {\"time\": 52.0, \"variable\": \"SW_IN\", \"mean\": 0.053772926330566406, \"std\": 5.256526947021484}, {\"time\": 53.0, \"variable\": \"SW_IN\", \"mean\": 0.9588499069213867, \"std\": 5.256863594055176}, {\"time\": 54.0, \"variable\": \"SW_IN\", \"mean\": 1.014674186706543, \"std\": 5.266800403594971}, {\"time\": 55.0, \"variable\": \"SW_IN\", \"mean\": 0.3440380096435547, \"std\": 5.292018890380859}, {\"time\": 56.0, \"variable\": \"SW_IN\", \"mean\": -0.4360637664794922, \"std\": 5.312245845794678}, {\"time\": 57.0, \"variable\": \"SW_IN\", \"mean\": -0.828033447265625, \"std\": 5.312754154205322}, {\"time\": 58.0, \"variable\": \"SW_IN\", \"mean\": -0.44844818115234375, \"std\": 5.4135332107543945}, {\"time\": 59.0, \"variable\": \"SW_IN\", \"mean\": 0.8955564498901367, \"std\": 6.012402057647705}, {\"time\": 60.0, \"variable\": \"SW_IN\", \"mean\": 2.7475976943969727, \"std\": 7.529346466064453}, {\"time\": 61.0, \"variable\": \"SW_IN\", \"mean\": 5.511793613433838, \"std\": 9.939456939697266}, {\"time\": 62.0, \"variable\": \"SW_IN\", \"mean\": 9.286641120910645, \"std\": 12.769560813903809}, {\"time\": 63.0, \"variable\": \"SW_IN\", \"mean\": 14.155433654785156, \"std\": 15.456536293029785}, {\"time\": 64.0, \"variable\": \"SW_IN\", \"mean\": 20.63642120361328, \"std\": 17.51988983154297}, {\"time\": 65.0, \"variable\": \"SW_IN\", \"mean\": 29.64701271057129, \"std\": 18.631954193115234}, {\"time\": 66.0, \"variable\": \"SW_IN\", \"mean\": 41.566749572753906, \"std\": 18.631916046142578}, {\"time\": 67.0, \"variable\": \"SW_IN\", \"mean\": 56.134918212890625, \"std\": 17.51982879638672}, {\"time\": 68.0, \"variable\": \"SW_IN\", \"mean\": 72.7535171508789, \"std\": 15.456323623657227}, {\"time\": 69.0, \"variable\": \"SW_IN\", \"mean\": 90.36911010742188, \"std\": 12.76939582824707}, {\"time\": 70.0, \"variable\": \"SW_IN\", \"mean\": 107.30365753173828, \"std\": 9.938987731933594}, {\"time\": 71.0, \"variable\": \"SW_IN\", \"mean\": 121.1037368774414, \"std\": 7.529260635375977}, {\"time\": 72.0, \"variable\": \"SW_IN\", \"mean\": 128.6731414794922, \"std\": 6.012361526489258}, {\"time\": 73.0, \"variable\": \"SW_IN\", \"mean\": 127.13960266113281, \"std\": 5.4135332107543945}, {\"time\": 74.0, \"variable\": \"SW_IN\", \"mean\": 115.6498794555664, \"std\": 5.312849998474121}, {\"time\": 75.0, \"variable\": \"SW_IN\", \"mean\": 95.12480926513672, \"std\": 5.312299728393555}, {\"time\": 76.0, \"variable\": \"SW_IN\", \"mean\": 69.31980895996094, \"std\": 5.292232513427734}, {\"time\": 77.0, \"variable\": \"SW_IN\", \"mean\": 43.45909881591797, \"std\": 5.266757965087891}, {\"time\": 78.0, \"variable\": \"SW_IN\", \"mean\": 21.873924255371094, \"std\": 5.25678825378418}, {\"time\": 79.0, \"variable\": \"SW_IN\", \"mean\": 7.028975963592529, \"std\": 5.256711959838867}, {\"time\": 80.0, \"variable\": \"SW_IN\", \"mean\": -0.5373811721801758, \"std\": 5.254749298095703}, {\"time\": 81.0, \"variable\": \"SW_IN\", \"mean\": -2.3800573348999023, \"std\": 5.249953746795654}, {\"time\": 82.0, \"variable\": \"SW_IN\", \"mean\": -1.386387825012207, \"std\": 5.247166156768799}, {\"time\": 83.0, \"variable\": \"SW_IN\", \"mean\": -0.026694297790527344, \"std\": 5.246895790100098}, {\"time\": 84.0, \"variable\": \"SW_IN\", \"mean\": 0.6299562454223633, \"std\": 5.246588230133057}, {\"time\": 85.0, \"variable\": \"SW_IN\", \"mean\": 0.5870456695556641, \"std\": 5.245617389678955}, {\"time\": 86.0, \"variable\": \"SW_IN\", \"mean\": 0.37900447845458984, \"std\": 5.244858264923096}, {\"time\": 87.0, \"variable\": \"SW_IN\", \"mean\": 0.4554624557495117, \"std\": 5.244613170623779}, {\"time\": 88.0, \"variable\": \"SW_IN\", \"mean\": 0.5850772857666016, \"std\": 5.24455451965332}, {\"time\": 89.0, \"variable\": \"SW_IN\", \"mean\": 0.3290281295776367, \"std\": 5.244372844696045}, {\"time\": 90.0, \"variable\": \"SW_IN\", \"mean\": -0.1625499725341797, \"std\": 5.2441911697387695}, {\"time\": 91.0, \"variable\": \"SW_IN\", \"mean\": -0.48830509185791016, \"std\": 5.244094371795654}, {\"time\": 92.0, \"variable\": \"SW_IN\", \"mean\": -0.5277585983276367, \"std\": 5.244072914123535}, {\"time\": 93.0, \"variable\": \"SW_IN\", \"mean\": -0.2977161407470703, \"std\": 5.244056224822998}, {\"time\": 94.0, \"variable\": \"SW_IN\", \"mean\": 0.09868717193603516, \"std\": 5.244009971618652}, {\"time\": 95.0, \"variable\": \"SW_IN\", \"mean\": 0.41875457763671875, \"std\": 5.24397611618042}, {\"time\": 96.0, \"variable\": \"SW_IN\", \"mean\": 0.5073213577270508, \"std\": 5.243963241577148}, {\"time\": 97.0, \"variable\": \"SW_IN\", \"mean\": 0.37795352935791016, \"std\": 5.243958950042725}, {\"time\": 98.0, \"variable\": \"SW_IN\", \"mean\": 0.08610916137695312, \"std\": 5.243950366973877}, {\"time\": 99.0, \"variable\": \"SW_IN\", \"mean\": -0.2638254165649414, \"std\": 5.243937969207764}, {\"time\": 100.0, \"variable\": \"SW_IN\", \"mean\": -0.5098123550415039, \"std\": 5.2439422607421875}, {\"time\": 101.0, \"variable\": \"SW_IN\", \"mean\": -0.5289669036865234, \"std\": 5.243946552276611}, {\"time\": 102.0, \"variable\": \"SW_IN\", \"mean\": -0.28836631774902344, \"std\": 5.243929386138916}, {\"time\": 103.0, \"variable\": \"SW_IN\", \"mean\": 0.1638813018798828, \"std\": 5.243929386138916}, {\"time\": 104.0, \"variable\": \"SW_IN\", \"mean\": 0.7135353088378906, \"std\": 5.243937969207764}, {\"time\": 105.0, \"variable\": \"SW_IN\", \"mean\": 1.1131324768066406, \"std\": 5.243929386138916}, {\"time\": 106.0, \"variable\": \"SW_IN\", \"mean\": 0.9280509948730469, \"std\": 5.243925094604492}, {\"time\": 107.0, \"variable\": \"SW_IN\", \"mean\": -0.08038902282714844, \"std\": 5.243937969207764}, {\"time\": 108.0, \"variable\": \"SW_IN\", \"mean\": -1.462325096130371, \"std\": 5.24393367767334}, {\"time\": 109.0, \"variable\": \"SW_IN\", \"mean\": -2.3517990112304688, \"std\": 5.2439422607421875}, {\"time\": 110.0, \"variable\": \"SW_IN\", \"mean\": -1.9890813827514648, \"std\": 5.243937969207764}, {\"time\": 111.0, \"variable\": \"SW_IN\", \"mean\": 0.38042163848876953, \"std\": 5.24393367767334}, {\"time\": 112.0, \"variable\": \"SW_IN\", \"mean\": 5.602019309997559, \"std\": 5.24393367767334}, {\"time\": 113.0, \"variable\": \"SW_IN\", \"mean\": 14.21899127960205, \"std\": 5.243946552276611}, {\"time\": 114.0, \"variable\": \"SW_IN\", \"mean\": 26.289867401123047, \"std\": 5.243925094604492}, {\"time\": 115.0, \"variable\": \"SW_IN\", \"mean\": 41.49140930175781, \"std\": 5.243937969207764}, {\"time\": 116.0, \"variable\": \"SW_IN\", \"mean\": 58.77161407470703, \"std\": 5.243925094604492}, {\"time\": 117.0, \"variable\": \"SW_IN\", \"mean\": 76.11945343017578, \"std\": 5.243929386138916}, {\"time\": 118.0, \"variable\": \"SW_IN\", \"mean\": 91.49273681640625, \"std\": 5.243937969207764}, {\"time\": 119.0, \"variable\": \"SW_IN\", \"mean\": 103.56948852539062, \"std\": 5.2439422607421875}, {\"time\": 120.0, \"variable\": \"SW_IN\", \"mean\": 110.89179229736328, \"std\": 5.243955135345459}, {\"time\": 121.0, \"variable\": \"SW_IN\", \"mean\": 111.49885559082031, \"std\": 5.243946552276611}, {\"time\": 122.0, \"variable\": \"SW_IN\", \"mean\": 104.43008422851562, \"std\": 5.2439799308776855}, {\"time\": 123.0, \"variable\": \"SW_IN\", \"mean\": 90.69000244140625, \"std\": 5.243988513946533}, {\"time\": 124.0, \"variable\": \"SW_IN\", \"mean\": 72.43169403076172, \"std\": 5.243967533111572}, {\"time\": 125.0, \"variable\": \"SW_IN\", \"mean\": 52.250816345214844, \"std\": 5.2440056800842285}, {\"time\": 126.0, \"variable\": \"SW_IN\", \"mean\": 32.987091064453125, \"std\": 5.244030952453613}, {\"time\": 127.0, \"variable\": \"SW_IN\", \"mean\": 17.027162551879883, \"std\": 5.2440056800842285}, {\"time\": 128.0, \"variable\": \"SW_IN\", \"mean\": 5.691491603851318, \"std\": 5.244009971618652}, {\"time\": 129.0, \"variable\": \"SW_IN\", \"mean\": -0.6767034530639648, \"std\": 5.243984699249268}, {\"time\": 130.0, \"variable\": \"SW_IN\", \"mean\": -2.688577651977539, \"std\": 5.244089603424072}, {\"time\": 131.0, \"variable\": \"SW_IN\", \"mean\": -1.9844427108764648, \"std\": 5.243925094604492}, {\"time\": 132.0, \"variable\": \"SW_IN\", \"mean\": -0.4834127426147461, \"std\": 5.2439165115356445}, {\"time\": 133.0, \"variable\": \"SW_IN\", \"mean\": 0.6915054321289062, \"std\": 5.243886947631836}, {\"time\": 134.0, \"variable\": \"SW_IN\", \"mean\": 1.2531700134277344, \"std\": 5.244001388549805}, {\"time\": 135.0, \"variable\": \"SW_IN\", \"mean\": 1.2083654403686523, \"std\": 5.244026184082031}, {\"time\": 136.0, \"variable\": \"SW_IN\", \"mean\": 0.7236127853393555, \"std\": 5.244039535522461}, {\"time\": 137.0, \"variable\": \"SW_IN\", \"mean\": 0.08250141143798828, \"std\": 5.243900299072266}, {\"time\": 138.0, \"variable\": \"SW_IN\", \"mean\": -0.4870767593383789, \"std\": 5.244068622589111}, {\"time\": 139.0, \"variable\": \"SW_IN\", \"mean\": -0.7973814010620117, \"std\": 5.244094371795654}, {\"time\": 140.0, \"variable\": \"SW_IN\", \"mean\": -0.7035713195800781, \"std\": 5.2441277503967285}, {\"time\": 141.0, \"variable\": \"SW_IN\", \"mean\": -0.2604818344116211, \"std\": 5.2440643310546875}, {\"time\": 142.0, \"variable\": \"SW_IN\", \"mean\": 0.3339710235595703, \"std\": 5.244022369384766}, {\"time\": 143.0, \"variable\": \"SW_IN\", \"mean\": 0.8462953567504883, \"std\": 5.243997097015381}, {\"time\": 144.0, \"variable\": \"SW_IN\", \"mean\": 0.9538106918334961, \"std\": 5.244009971618652}, {\"time\": 145.0, \"variable\": \"SW_IN\", \"mean\": 0.4663982391357422, \"std\": 5.2439799308776855}, {\"time\": 146.0, \"variable\": \"SW_IN\", \"mean\": -0.29941272735595703, \"std\": 5.243925094604492}, {\"time\": 147.0, \"variable\": \"SW_IN\", \"mean\": -0.7918872833251953, \"std\": 5.244001388549805}, {\"time\": 148.0, \"variable\": \"SW_IN\", \"mean\": -0.6286211013793945, \"std\": 5.243824005126953}, {\"time\": 149.0, \"variable\": \"SW_IN\", \"mean\": 0.049796104431152344, \"std\": 5.243710041046143}, {\"time\": 150.0, \"variable\": \"SW_IN\", \"mean\": 0.5741996765136719, \"std\": 5.243929386138916}, {\"time\": 151.0, \"variable\": \"SW_IN\", \"mean\": 0.6731786727905273, \"std\": 5.243950366973877}, {\"time\": 152.0, \"variable\": \"SW_IN\", \"mean\": 0.7690057754516602, \"std\": 5.243756294250488}, {\"time\": 153.0, \"variable\": \"SW_IN\", \"mean\": 0.7327814102172852, \"std\": 5.2439799308776855}, {\"time\": 154.0, \"variable\": \"SW_IN\", \"mean\": -0.0067596435546875, \"std\": 5.243798732757568}, {\"time\": 155.0, \"variable\": \"SW_IN\", \"mean\": -0.8331537246704102, \"std\": 5.243600368499756}, {\"time\": 156.0, \"variable\": \"SW_IN\", \"mean\": -0.8499822616577148, \"std\": 5.2435832023620605}, {\"time\": 157.0, \"variable\": \"SW_IN\", \"mean\": -0.5162906646728516, \"std\": 5.243862152099609}, {\"time\": 158.0, \"variable\": \"SW_IN\", \"mean\": -0.33144569396972656, \"std\": 5.243684768676758}, {\"time\": 159.0, \"variable\": \"SW_IN\", \"mean\": 0.3534688949584961, \"std\": 5.244009971618652}, {\"time\": 160.0, \"variable\": \"SW_IN\", \"mean\": 2.0708961486816406, \"std\": 5.243955135345459}, {\"time\": 161.0, \"variable\": \"SW_IN\", \"mean\": 4.6440348625183105, \"std\": 5.243870258331299}, {\"time\": 162.0, \"variable\": \"SW_IN\", \"mean\": 8.061683654785156, \"std\": 5.243629455566406}, {\"time\": 163.0, \"variable\": \"SW_IN\", \"mean\": 12.376237869262695, \"std\": 5.243900299072266}, {\"time\": 164.0, \"variable\": \"SW_IN\", \"mean\": 17.085329055786133, \"std\": 5.243148326873779}, {\"time\": 165.0, \"variable\": \"SW_IN\", \"mean\": 21.301898956298828, \"std\": 5.243642807006836}, {\"time\": 166.0, \"variable\": \"SW_IN\", \"mean\": 24.377849578857422, \"std\": 5.243405818939209}, {\"time\": 167.0, \"variable\": \"SW_IN\", \"mean\": 26.09904670715332, \"std\": 5.244431495666504}, {\"time\": 168.0, \"variable\": \"SW_IN\", \"mean\": 26.704364776611328, \"std\": 5.244347095489502}, {\"time\": 169.0, \"variable\": \"SW_IN\", \"mean\": 26.459300994873047, \"std\": 5.244283676147461}, {\"time\": 170.0, \"variable\": \"SW_IN\", \"mean\": 25.381057739257812, \"std\": 5.243570804595947}, {\"time\": 171.0, \"variable\": \"SW_IN\", \"mean\": 23.394760131835938, \"std\": 5.244444370269775}, {\"time\": 172.0, \"variable\": \"SW_IN\", \"mean\": 20.474153518676758, \"std\": 5.244482517242432}, {\"time\": 173.0, \"variable\": \"SW_IN\", \"mean\": 16.615381240844727, \"std\": 5.243929386138916}, {\"time\": 174.0, \"variable\": \"SW_IN\", \"mean\": 11.867798805236816, \"std\": 5.244123935699463}, {\"time\": 175.0, \"variable\": \"SW_IN\", \"mean\": 6.714282989501953, \"std\": 5.244132041931152}, {\"time\": 176.0, \"variable\": \"SW_IN\", \"mean\": 1.9966869354248047, \"std\": 5.24404764175415}, {\"time\": 177.0, \"variable\": \"SW_IN\", \"mean\": -1.3399686813354492, \"std\": 5.243997097015381}, {\"time\": 178.0, \"variable\": \"SW_IN\", \"mean\": -2.5386314392089844, \"std\": 5.244592189788818}, {\"time\": 179.0, \"variable\": \"SW_IN\", \"mean\": -1.5541563034057617, \"std\": 5.244271278381348}, {\"time\": 180.0, \"variable\": \"SW_IN\", \"mean\": 0.25631046295166016, \"std\": 5.244381427764893}, {\"time\": 181.0, \"variable\": \"SW_IN\", \"mean\": 1.4294376373291016, \"std\": 5.244659423828125}, {\"time\": 182.0, \"variable\": \"SW_IN\", \"mean\": 1.6105327606201172, \"std\": 5.245119571685791}, {\"time\": 183.0, \"variable\": \"SW_IN\", \"mean\": 0.8559303283691406, \"std\": 5.244862079620361}, {\"time\": 184.0, \"variable\": \"SW_IN\", \"mean\": -0.7249031066894531, \"std\": 5.245364665985107}, {\"time\": 185.0, \"variable\": \"SW_IN\", \"mean\": -2.17391300201416, \"std\": 5.2457275390625}, {\"time\": 186.0, \"variable\": \"SW_IN\", \"mean\": -2.2561473846435547, \"std\": 5.246427536010742}, {\"time\": 187.0, \"variable\": \"SW_IN\", \"mean\": -0.8914766311645508, \"std\": 5.246794700622559}, {\"time\": 188.0, \"variable\": \"SW_IN\", \"mean\": 1.223196029663086, \"std\": 5.247710227966309}, {\"time\": 189.0, \"variable\": \"SW_IN\", \"mean\": 3.031736373901367, \"std\": 5.247591972351074}, {\"time\": 190.0, \"variable\": \"SW_IN\", \"mean\": 2.8414793014526367, \"std\": 5.2491230964660645}, {\"time\": 191.0, \"variable\": \"SW_IN\", \"mean\": 0.21326351165771484, \"std\": 5.254404544830322}, {\"time\": 192.0, \"variable\": \"SW_IN\", \"mean\": -2.42305850982666, \"std\": 5.257074356079102}, {\"time\": 193.0, \"variable\": \"SW_IN\", \"mean\": -2.928164482116699, \"std\": 5.257246971130371}, {\"time\": 194.0, \"variable\": \"SW_IN\", \"mean\": -1.8576602935791016, \"std\": 5.266652584075928}, {\"time\": 195.0, \"variable\": \"SW_IN\", \"mean\": -0.15343666076660156, \"std\": 5.292537689208984}, {\"time\": 196.0, \"variable\": \"SW_IN\", \"mean\": 2.1173667907714844, \"std\": 5.313782691955566}, {\"time\": 197.0, \"variable\": \"SW_IN\", \"mean\": 3.3899402618408203, \"std\": 5.3159403800964355}, {\"time\": 198.0, \"variable\": \"SW_IN\", \"mean\": 1.565913200378418, \"std\": 5.414367198944092}, {\"time\": 199.0, \"variable\": \"SW_IN\", \"mean\": -2.243061065673828, \"std\": 6.019690990447998}], \"data-180f7641eda4b27d4ded2fe930459cf1\": [{\"time\": 0.0, \"variable\": \"VPD\", \"value\": 0.222, \"is_missing\": false}, {\"time\": 1.0, \"variable\": \"VPD\", \"value\": 0.122, \"is_missing\": false}, {\"time\": 2.0, \"variable\": \"VPD\", \"value\": 0.09, \"is_missing\": false}, {\"time\": 3.0, \"variable\": \"VPD\", \"value\": 0.11, \"is_missing\": false}, {\"time\": 4.0, \"variable\": \"VPD\", \"value\": 0.102, \"is_missing\": false}, {\"time\": 5.0, \"variable\": \"VPD\", \"value\": 0.111, \"is_missing\": false}, {\"time\": 6.0, \"variable\": \"VPD\", \"value\": 0.109, \"is_missing\": false}, {\"time\": 7.0, \"variable\": \"VPD\", \"value\": 0.107, \"is_missing\": false}, {\"time\": 8.0, \"variable\": \"VPD\", \"value\": 0.122, \"is_missing\": false}, {\"time\": 9.0, \"variable\": \"VPD\", \"value\": 0.138, \"is_missing\": false}, {\"time\": 10.0, \"variable\": \"VPD\", \"value\": 0.138, \"is_missing\": false}, {\"time\": 11.0, \"variable\": \"VPD\", \"value\": 0.122, \"is_missing\": false}, {\"time\": 12.0, \"variable\": \"VPD\", \"value\": 0.098, \"is_missing\": false}, {\"time\": 13.0, \"variable\": \"VPD\", \"value\": 0.066, \"is_missing\": false}, {\"time\": 14.0, \"variable\": \"VPD\", \"value\": 0.044, \"is_missing\": false}, {\"time\": 15.0, \"variable\": \"VPD\", \"value\": 0.026, \"is_missing\": false}, {\"time\": 16.0, \"variable\": \"VPD\", \"value\": 0.016, \"is_missing\": false}, {\"time\": 17.0, \"variable\": \"VPD\", \"value\": 0.01, \"is_missing\": false}, {\"time\": 18.0, \"variable\": \"VPD\", \"value\": 0.006, \"is_missing\": false}, {\"time\": 19.0, \"variable\": \"VPD\", \"value\": 0.006, \"is_missing\": false}, {\"time\": 20.0, \"variable\": \"VPD\", \"value\": 0.006, \"is_missing\": false}, {\"time\": 21.0, \"variable\": \"VPD\", \"value\": 0.011, \"is_missing\": false}, {\"time\": 22.0, \"variable\": \"VPD\", \"value\": 0.019, \"is_missing\": false}, {\"time\": 23.0, \"variable\": \"VPD\", \"value\": 0.014, \"is_missing\": false}, {\"time\": 24.0, \"variable\": \"VPD\", \"value\": 0.008, \"is_missing\": false}, {\"time\": 25.0, \"variable\": \"VPD\", \"value\": 0.006, \"is_missing\": false}, {\"time\": 26.0, \"variable\": \"VPD\", \"value\": 0.0, \"is_missing\": false}, {\"time\": 27.0, \"variable\": \"VPD\", \"value\": 0.0, \"is_missing\": false}, {\"time\": 28.0, \"variable\": \"VPD\", \"value\": 0.0, \"is_missing\": false}, {\"time\": 29.0, \"variable\": \"VPD\", \"value\": 0.0, \"is_missing\": false}, {\"time\": 30.0, \"variable\": \"VPD\", \"value\": 0.0, \"is_missing\": false}, {\"time\": 31.0, \"variable\": \"VPD\", \"value\": 0.0, \"is_missing\": false}, {\"time\": 32.0, \"variable\": \"VPD\", \"value\": 0.0, \"is_missing\": false}, {\"time\": 33.0, \"variable\": \"VPD\", \"value\": 0.0, \"is_missing\": false}, {\"time\": 34.0, \"variable\": \"VPD\", \"value\": 0.0, \"is_missing\": false}, {\"time\": 35.0, \"variable\": \"VPD\", \"value\": 0.0, \"is_missing\": false}, {\"time\": 36.0, \"variable\": \"VPD\", \"value\": 0.0, \"is_missing\": false}, {\"time\": 37.0, \"variable\": \"VPD\", \"value\": 0.002, \"is_missing\": false}, {\"time\": 38.0, \"variable\": \"VPD\", \"value\": 0.009, \"is_missing\": false}, {\"time\": 39.0, \"variable\": \"VPD\", \"value\": 0.014, \"is_missing\": false}, {\"time\": 40.0, \"variable\": \"VPD\", \"value\": 0.014, \"is_missing\": false}, {\"time\": 41.0, \"variable\": \"VPD\", \"value\": 0.038, \"is_missing\": false}, {\"time\": 42.0, \"variable\": \"VPD\", \"value\": 0.079, \"is_missing\": false}, {\"time\": 43.0, \"variable\": \"VPD\", \"value\": 0.257, \"is_missing\": false}, {\"time\": 44.0, \"variable\": \"VPD\", \"value\": 0.388, \"is_missing\": false}, {\"time\": 45.0, \"variable\": \"VPD\", \"value\": 0.555, \"is_missing\": false}, {\"time\": 46.0, \"variable\": \"VPD\", \"value\": 0.452, \"is_missing\": false}, {\"time\": 47.0, \"variable\": \"VPD\", \"value\": 0.435, \"is_missing\": false}, {\"time\": 48.0, \"variable\": \"VPD\", \"value\": 0.248, \"is_missing\": false}, {\"time\": 49.0, \"variable\": \"VPD\", \"value\": 0.234, \"is_missing\": false}, {\"time\": 50.0, \"variable\": \"VPD\", \"value\": 0.377, \"is_missing\": false}, {\"time\": 51.0, \"variable\": \"VPD\", \"value\": 0.414, \"is_missing\": false}, {\"time\": 52.0, \"variable\": \"VPD\", \"value\": 0.356, \"is_missing\": false}, {\"time\": 53.0, \"variable\": \"VPD\", \"value\": 0.205, \"is_missing\": false}, {\"time\": 54.0, \"variable\": \"VPD\", \"value\": 0.188, \"is_missing\": false}, {\"time\": 55.0, \"variable\": \"VPD\", \"value\": 0.232, \"is_missing\": false}, {\"time\": 56.0, \"variable\": \"VPD\", \"value\": 0.27, \"is_missing\": false}, {\"time\": 57.0, \"variable\": \"VPD\", \"value\": 0.273, \"is_missing\": false}, {\"time\": 58.0, \"variable\": \"VPD\", \"value\": 0.225, \"is_missing\": false}, {\"time\": 59.0, \"variable\": \"VPD\", \"value\": 0.123, \"is_missing\": false}, {\"time\": 60.0, \"variable\": \"VPD\", \"value\": 0.053, \"is_missing\": false}, {\"time\": 61.0, \"variable\": \"VPD\", \"value\": 0.026, \"is_missing\": false}, {\"time\": 62.0, \"variable\": \"VPD\", \"value\": 0.013, \"is_missing\": false}, {\"time\": 63.0, \"variable\": \"VPD\", \"value\": 0.017, \"is_missing\": false}, {\"time\": 64.0, \"variable\": \"VPD\", \"value\": 0.18, \"is_missing\": false}, {\"time\": 65.0, \"variable\": \"VPD\", \"value\": 0.162, \"is_missing\": false}, {\"time\": 66.0, \"variable\": \"VPD\", \"value\": 0.177, \"is_missing\": false}, {\"time\": 67.0, \"variable\": \"VPD\", \"value\": 0.181, \"is_missing\": false}, {\"time\": 68.0, \"variable\": \"VPD\", \"value\": 0.188, \"is_missing\": false}, {\"time\": 69.0, \"variable\": \"VPD\", \"value\": 0.276, \"is_missing\": false}, {\"time\": 70.0, \"variable\": \"VPD\", \"value\": 0.309, \"is_missing\": false}, {\"time\": 71.0, \"variable\": \"VPD\", \"value\": 0.346, \"is_missing\": false}, {\"time\": 72.0, \"variable\": \"VPD\", \"value\": 0.297, \"is_missing\": false}, {\"time\": 73.0, \"variable\": \"VPD\", \"value\": 0.349, \"is_missing\": false}, {\"time\": 74.0, \"variable\": \"VPD\", \"value\": 0.362, \"is_missing\": false}, {\"time\": 75.0, \"variable\": \"VPD\", \"value\": 0.381, \"is_missing\": false}, {\"time\": 76.0, \"variable\": \"VPD\", \"value\": 0.369, \"is_missing\": false}, {\"time\": 77.0, \"variable\": \"VPD\", \"value\": 0.24, \"is_missing\": false}, {\"time\": 78.0, \"variable\": \"VPD\", \"value\": 0.111, \"is_missing\": false}, {\"time\": 79.0, \"variable\": \"VPD\", \"value\": 0.062, \"is_missing\": false}, {\"time\": 80.0, \"variable\": \"VPD\", \"value\": 0.044, \"is_missing\": false}, {\"time\": 81.0, \"variable\": \"VPD\", \"value\": 0.034, \"is_missing\": false}, {\"time\": 82.0, \"variable\": \"VPD\", \"value\": 0.032, \"is_missing\": false}, {\"time\": 83.0, \"variable\": \"VPD\", \"value\": 0.055, \"is_missing\": false}, {\"time\": 84.0, \"variable\": \"VPD\", \"value\": 0.125, \"is_missing\": false}, {\"time\": 85.0, \"variable\": \"VPD\", \"value\": 0.128, \"is_missing\": false}, {\"time\": 86.0, \"variable\": \"VPD\", \"value\": 0.201, \"is_missing\": false}, {\"time\": 87.0, \"variable\": \"VPD\", \"value\": 0.174, \"is_missing\": false}, {\"time\": 88.0, \"variable\": \"VPD\", \"value\": 0.154, \"is_missing\": false}, {\"time\": 89.0, \"variable\": \"VPD\", \"value\": 0.177, \"is_missing\": false}, {\"time\": 90.0, \"variable\": \"VPD\", \"value\": 0.192, \"is_missing\": false}, {\"time\": 91.0, \"variable\": \"VPD\", \"value\": 0.149, \"is_missing\": false}, {\"time\": 92.0, \"variable\": \"VPD\", \"value\": 0.112, \"is_missing\": false}, {\"time\": 93.0, \"variable\": \"VPD\", \"value\": 0.075, \"is_missing\": false}, {\"time\": 94.0, \"variable\": \"VPD\", \"value\": 0.038, \"is_missing\": false}, {\"time\": 95.0, \"variable\": \"VPD\", \"value\": 0.021, \"is_missing\": false}, {\"time\": 96.0, \"variable\": \"VPD\", \"value\": 0.013, \"is_missing\": false}, {\"time\": 97.0, \"variable\": \"VPD\", \"value\": 0.004, \"is_missing\": false}, {\"time\": 98.0, \"variable\": \"VPD\", \"value\": 0.0, \"is_missing\": false}, {\"time\": 99.0, \"variable\": \"VPD\", \"value\": 0.0, \"is_missing\": false}, {\"time\": 100.0, \"variable\": \"VPD\", \"value\": 0.0, \"is_missing\": false}, {\"time\": 101.0, \"variable\": \"VPD\", \"value\": 0.0, \"is_missing\": false}, {\"time\": 102.0, \"variable\": \"VPD\", \"value\": 0.0, \"is_missing\": false}, {\"time\": 103.0, \"variable\": \"VPD\", \"value\": 0.0, \"is_missing\": false}, {\"time\": 104.0, \"variable\": \"VPD\", \"value\": 0.0, \"is_missing\": false}, {\"time\": 105.0, \"variable\": \"VPD\", \"value\": 0.0, \"is_missing\": false}, {\"time\": 106.0, \"variable\": \"VPD\", \"value\": 0.009, \"is_missing\": false}, {\"time\": 107.0, \"variable\": \"VPD\", \"value\": 0.061, \"is_missing\": false}, {\"time\": 108.0, \"variable\": \"VPD\", \"value\": 0.174, \"is_missing\": false}, {\"time\": 109.0, \"variable\": \"VPD\", \"value\": 0.208, \"is_missing\": false}, {\"time\": 110.0, \"variable\": \"VPD\", \"value\": 0.294, \"is_missing\": false}, {\"time\": 111.0, \"variable\": \"VPD\", \"value\": 0.37, \"is_missing\": false}, {\"time\": 112.0, \"variable\": \"VPD\", \"value\": 0.478, \"is_missing\": false}, {\"time\": 113.0, \"variable\": \"VPD\", \"value\": 0.557, \"is_missing\": false}, {\"time\": 114.0, \"variable\": \"VPD\", \"value\": 0.617, \"is_missing\": false}, {\"time\": 115.0, \"variable\": \"VPD\", \"value\": 0.656, \"is_missing\": false}, {\"time\": 116.0, \"variable\": \"VPD\", \"value\": 0.654, \"is_missing\": false}, {\"time\": 117.0, \"variable\": \"VPD\", \"value\": 0.704, \"is_missing\": false}, {\"time\": 118.0, \"variable\": \"VPD\", \"value\": 0.838, \"is_missing\": false}, {\"time\": 119.0, \"variable\": \"VPD\", \"value\": 0.914, \"is_missing\": false}, {\"time\": 120.0, \"variable\": \"VPD\", \"value\": 0.818, \"is_missing\": false}, {\"time\": 121.0, \"variable\": \"VPD\", \"value\": 0.728, \"is_missing\": false}, {\"time\": 122.0, \"variable\": \"VPD\", \"value\": 0.749, \"is_missing\": false}, {\"time\": 123.0, \"variable\": \"VPD\", \"value\": 0.773, \"is_missing\": false}, {\"time\": 124.0, \"variable\": \"VPD\", \"value\": 0.787, \"is_missing\": false}, {\"time\": 125.0, \"variable\": \"VPD\", \"value\": 0.759, \"is_missing\": false}, {\"time\": 126.0, \"variable\": \"VPD\", \"value\": 0.723, \"is_missing\": false}, {\"time\": 127.0, \"variable\": \"VPD\", \"value\": 0.671, \"is_missing\": false}, {\"time\": 128.0, \"variable\": \"VPD\", \"value\": 0.657, \"is_missing\": false}, {\"time\": 129.0, \"variable\": \"VPD\", \"value\": 0.641, \"is_missing\": false}, {\"time\": 130.0, \"variable\": \"VPD\", \"value\": 0.559, \"is_missing\": false}, {\"time\": 131.0, \"variable\": \"VPD\", \"value\": 0.452, \"is_missing\": false}, {\"time\": 132.0, \"variable\": \"VPD\", \"value\": 0.389, \"is_missing\": false}, {\"time\": 133.0, \"variable\": \"VPD\", \"value\": 0.412, \"is_missing\": false}, {\"time\": 134.0, \"variable\": \"VPD\", \"value\": 0.429, \"is_missing\": false}, {\"time\": 135.0, \"variable\": \"VPD\", \"value\": 0.449, \"is_missing\": false}, {\"time\": 136.0, \"variable\": \"VPD\", \"value\": 0.471, \"is_missing\": false}, {\"time\": 137.0, \"variable\": \"VPD\", \"value\": 0.434, \"is_missing\": false}, {\"time\": 138.0, \"variable\": \"VPD\", \"value\": 0.432, \"is_missing\": false}, {\"time\": 139.0, \"variable\": \"VPD\", \"value\": 0.409, \"is_missing\": false}, {\"time\": 140.0, \"variable\": \"VPD\", \"value\": 0.417, \"is_missing\": false}, {\"time\": 141.0, \"variable\": \"VPD\", \"value\": 0.432, \"is_missing\": false}, {\"time\": 142.0, \"variable\": \"VPD\", \"value\": 0.441, \"is_missing\": false}, {\"time\": 143.0, \"variable\": \"VPD\", \"value\": 0.467, \"is_missing\": false}, {\"time\": 144.0, \"variable\": \"VPD\", \"value\": 0.459, \"is_missing\": false}, {\"time\": 145.0, \"variable\": \"VPD\", \"value\": 0.545, \"is_missing\": false}, {\"time\": 146.0, \"variable\": \"VPD\", \"value\": 0.7, \"is_missing\": false}, {\"time\": 147.0, \"variable\": \"VPD\", \"value\": 0.813, \"is_missing\": false}, {\"time\": 148.0, \"variable\": \"VPD\", \"value\": 0.952, \"is_missing\": false}, {\"time\": 149.0, \"variable\": \"VPD\", \"value\": 0.971, \"is_missing\": false}, {\"time\": 150.0, \"variable\": \"VPD\", \"value\": 0.958, \"is_missing\": false}, {\"time\": 151.0, \"variable\": \"VPD\", \"value\": 0.938, \"is_missing\": false}, {\"time\": 152.0, \"variable\": \"VPD\", \"value\": 0.785, \"is_missing\": false}, {\"time\": 153.0, \"variable\": \"VPD\", \"value\": 0.529, \"is_missing\": false}, {\"time\": 154.0, \"variable\": \"VPD\", \"value\": 0.45, \"is_missing\": false}, {\"time\": 155.0, \"variable\": \"VPD\", \"value\": 0.499, \"is_missing\": false}, {\"time\": 156.0, \"variable\": \"VPD\", \"value\": 0.382, \"is_missing\": false}, {\"time\": 157.0, \"variable\": \"VPD\", \"value\": 0.313, \"is_missing\": false}, {\"time\": 158.0, \"variable\": \"VPD\", \"value\": 0.314, \"is_missing\": false}, {\"time\": 159.0, \"variable\": \"VPD\", \"value\": 0.268, \"is_missing\": false}, {\"time\": 160.0, \"variable\": \"VPD\", \"value\": 0.122, \"is_missing\": false}, {\"time\": 161.0, \"variable\": \"VPD\", \"value\": 0.072, \"is_missing\": false}, {\"time\": 162.0, \"variable\": \"VPD\", \"value\": 0.054, \"is_missing\": false}, {\"time\": 163.0, \"variable\": \"VPD\", \"value\": 0.045, \"is_missing\": false}, {\"time\": 164.0, \"variable\": \"VPD\", \"value\": 0.038, \"is_missing\": false}, {\"time\": 165.0, \"variable\": \"VPD\", \"value\": 0.036, \"is_missing\": false}, {\"time\": 166.0, \"variable\": \"VPD\", \"value\": 0.045, \"is_missing\": false}, {\"time\": 167.0, \"variable\": \"VPD\", \"value\": 0.087, \"is_missing\": false}, {\"time\": 168.0, \"variable\": \"VPD\", \"value\": 0.106, \"is_missing\": false}, {\"time\": 169.0, \"variable\": \"VPD\", \"value\": 0.089, \"is_missing\": false}, {\"time\": 170.0, \"variable\": \"VPD\", \"value\": 0.067, \"is_missing\": false}, {\"time\": 171.0, \"variable\": \"VPD\", \"value\": 0.061, \"is_missing\": false}, {\"time\": 172.0, \"variable\": \"VPD\", \"value\": 0.051, \"is_missing\": false}, {\"time\": 173.0, \"variable\": \"VPD\", \"value\": 0.046, \"is_missing\": false}, {\"time\": 174.0, \"variable\": \"VPD\", \"value\": 0.047, \"is_missing\": false}, {\"time\": 175.0, \"variable\": \"VPD\", \"value\": 0.07, \"is_missing\": false}, {\"time\": 176.0, \"variable\": \"VPD\", \"value\": 0.114, \"is_missing\": false}, {\"time\": 177.0, \"variable\": \"VPD\", \"value\": 0.138, \"is_missing\": false}, {\"time\": 178.0, \"variable\": \"VPD\", \"value\": 0.176, \"is_missing\": false}, {\"time\": 179.0, \"variable\": \"VPD\", \"value\": 0.143, \"is_missing\": false}, {\"time\": 180.0, \"variable\": \"VPD\", \"value\": 0.138, \"is_missing\": false}, {\"time\": 181.0, \"variable\": \"VPD\", \"value\": 0.269, \"is_missing\": false}, {\"time\": 182.0, \"variable\": \"VPD\", \"value\": 0.353, \"is_missing\": false}, {\"time\": 183.0, \"variable\": \"VPD\", \"value\": 0.299, \"is_missing\": false}, {\"time\": 184.0, \"variable\": \"VPD\", \"value\": 0.262, \"is_missing\": false}, {\"time\": 185.0, \"variable\": \"VPD\", \"value\": 0.286, \"is_missing\": false}, {\"time\": 186.0, \"variable\": \"VPD\", \"value\": 0.278, \"is_missing\": false}, {\"time\": 187.0, \"variable\": \"VPD\", \"value\": 0.34, \"is_missing\": false}, {\"time\": 188.0, \"variable\": \"VPD\", \"value\": 0.349, \"is_missing\": false}, {\"time\": 189.0, \"variable\": \"VPD\", \"value\": 0.416, \"is_missing\": false}, {\"time\": 190.0, \"variable\": \"VPD\", \"value\": 0.463, \"is_missing\": false}, {\"time\": 191.0, \"variable\": \"VPD\", \"value\": 0.844, \"is_missing\": false}, {\"time\": 192.0, \"variable\": \"VPD\", \"value\": 1.213, \"is_missing\": false}, {\"time\": 193.0, \"variable\": \"VPD\", \"value\": 1.131, \"is_missing\": false}, {\"time\": 194.0, \"variable\": \"VPD\", \"value\": 1.114, \"is_missing\": false}, {\"time\": 195.0, \"variable\": \"VPD\", \"value\": 1.191, \"is_missing\": false}, {\"time\": 196.0, \"variable\": \"VPD\", \"value\": 1.057, \"is_missing\": false}, {\"time\": 197.0, \"variable\": \"VPD\", \"value\": 0.935, \"is_missing\": false}, {\"time\": 198.0, \"variable\": \"VPD\", \"value\": 1.162, \"is_missing\": false}, {\"time\": 199.0, \"variable\": \"VPD\", \"value\": 1.636, \"is_missing\": false}], \"data-d34e4f2c95322ca63fb2885ecf526713\": [{\"time\": 0.0, \"variable\": \"VPD\", \"mean\": 0.21306577324867249, \"std\": 0.03185557946562767}, {\"time\": 1.0, \"variable\": \"VPD\", \"mean\": 0.12836779654026031, \"std\": 0.029855459928512573}, {\"time\": 2.0, \"variable\": \"VPD\", \"mean\": 0.09273619949817657, \"std\": 0.02898271195590496}, {\"time\": 3.0, \"variable\": \"VPD\", \"mean\": 0.10183018445968628, \"std\": 0.029083076864480972}, {\"time\": 4.0, \"variable\": \"VPD\", \"mean\": 0.10856439173221588, \"std\": 0.029112501069903374}, {\"time\": 5.0, \"variable\": \"VPD\", \"mean\": 0.10728900134563446, \"std\": 0.02908741496503353}, {\"time\": 6.0, \"variable\": \"VPD\", \"mean\": 0.10669972002506256, \"std\": 0.029011616483330727}, {\"time\": 7.0, \"variable\": \"VPD\", \"mean\": 0.10929489135742188, \"std\": 0.029010269790887833}, {\"time\": 8.0, \"variable\": \"VPD\", \"mean\": 0.12135574221611023, \"std\": 0.02905600145459175}, {\"time\": 9.0, \"variable\": \"VPD\", \"mean\": 0.13657429814338684, \"std\": 0.029037490487098694}, {\"time\": 10.0, \"variable\": \"VPD\", \"mean\": 0.1382492035627365, \"std\": 0.028926167637109756}, {\"time\": 11.0, \"variable\": \"VPD\", \"mean\": 0.12238073348999023, \"std\": 0.028808368369936943}, {\"time\": 12.0, \"variable\": \"VPD\", \"mean\": 0.09596201777458191, \"std\": 0.02879689633846283}, {\"time\": 13.0, \"variable\": \"VPD\", \"mean\": 0.06712290644645691, \"std\": 0.028950771316885948}, {\"time\": 14.0, \"variable\": \"VPD\", \"mean\": 0.04297718405723572, \"std\": 0.028977425768971443}, {\"time\": 15.0, \"variable\": \"VPD\", \"mean\": 0.026232659816741943, \"std\": 0.02889343723654747}, {\"time\": 16.0, \"variable\": \"VPD\", \"mean\": 0.01521754264831543, \"std\": 0.0290076807141304}, {\"time\": 17.0, \"variable\": \"VPD\", \"mean\": 0.009570121765136719, \"std\": 0.029017828404903412}, {\"time\": 18.0, \"variable\": \"VPD\", \"mean\": 0.0076465606689453125, \"std\": 0.02896062657237053}, {\"time\": 19.0, \"variable\": \"VPD\", \"mean\": 0.006309181451797485, \"std\": 0.02897130884230137}, {\"time\": 20.0, \"variable\": \"VPD\", \"mean\": 0.0073878467082977295, \"std\": 0.02894049696624279}, {\"time\": 21.0, \"variable\": \"VPD\", \"mean\": 0.011880487203598022, \"std\": 0.028915366157889366}, {\"time\": 22.0, \"variable\": \"VPD\", \"mean\": 0.01453903317451477, \"std\": 0.028987064957618713}, {\"time\": 23.0, \"variable\": \"VPD\", \"mean\": 0.012749165296554565, \"std\": 0.029003433883190155}, {\"time\": 24.0, \"variable\": \"VPD\", \"mean\": 0.01054537296295166, \"std\": 0.028987374156713486}, {\"time\": 25.0, \"variable\": \"VPD\", \"mean\": 0.007872432470321655, \"std\": 0.0289493165910244}, {\"time\": 26.0, \"variable\": \"VPD\", \"mean\": 0.0030906200408935547, \"std\": 0.02898312732577324}, {\"time\": 27.0, \"variable\": \"VPD\", \"mean\": -0.00047460198402404785, \"std\": 0.02893146499991417}, {\"time\": 28.0, \"variable\": \"VPD\", \"mean\": -0.0011216402053833008, \"std\": 0.028951184824109077}, {\"time\": 29.0, \"variable\": \"VPD\", \"mean\": -0.002179175615310669, \"std\": 0.028951602056622505}, {\"time\": 30.0, \"variable\": \"VPD\", \"mean\": -0.002787679433822632, \"std\": 0.028922948986291885}, {\"time\": 31.0, \"variable\": \"VPD\", \"mean\": 0.0011340677738189697, \"std\": 0.028931982815265656}, {\"time\": 32.0, \"variable\": \"VPD\", \"mean\": 0.006830573081970215, \"std\": 0.028921080753207207}, {\"time\": 33.0, \"variable\": \"VPD\", \"mean\": 0.005964308977127075, \"std\": 0.02895990014076233}, {\"time\": 34.0, \"variable\": \"VPD\", \"mean\": -0.0037470459938049316, \"std\": 0.028985098004341125}, {\"time\": 35.0, \"variable\": \"VPD\", \"mean\": -0.010387599468231201, \"std\": 0.02899204008281231}, {\"time\": 36.0, \"variable\": \"VPD\", \"mean\": -0.0027272701263427734, \"std\": 0.0289573073387146}, {\"time\": 37.0, \"variable\": \"VPD\", \"mean\": 0.011887311935424805, \"std\": 0.028899777680635452}, {\"time\": 38.0, \"variable\": \"VPD\", \"mean\": 0.017500847578048706, \"std\": 0.02894412912428379}, {\"time\": 39.0, \"variable\": \"VPD\", \"mean\": 0.013637363910675049, \"std\": 0.028966227546334267}, {\"time\": 40.0, \"variable\": \"VPD\", \"mean\": 0.011018931865692139, \"std\": 0.028949007391929626}, {\"time\": 41.0, \"variable\": \"VPD\", \"mean\": 0.025506943464279175, \"std\": 0.028923988342285156}, {\"time\": 42.0, \"variable\": \"VPD\", \"mean\": 0.09519870579242706, \"std\": 0.02897161804139614}, {\"time\": 43.0, \"variable\": \"VPD\", \"mean\": 0.24428237974643707, \"std\": 0.02893395535647869}, {\"time\": 44.0, \"variable\": \"VPD\", \"mean\": 0.41549715399742126, \"std\": 0.02891017124056816}, {\"time\": 45.0, \"variable\": \"VPD\", \"mean\": 0.5126185417175293, \"std\": 0.028920352458953857}, {\"time\": 46.0, \"variable\": \"VPD\", \"mean\": 0.49980151653289795, \"std\": 0.02893873117864132}, {\"time\": 47.0, \"variable\": \"VPD\", \"mean\": 0.3929840922355652, \"std\": 0.028969546779990196}, {\"time\": 48.0, \"variable\": \"VPD\", \"mean\": 0.263661652803421, \"std\": 0.02900736965239048}, {\"time\": 49.0, \"variable\": \"VPD\", \"mean\": 0.24633826315402985, \"std\": 0.028978047892451286}, {\"time\": 50.0, \"variable\": \"VPD\", \"mean\": 0.35895347595214844, \"std\": 0.028983334079384804}, {\"time\": 51.0, \"variable\": \"VPD\", \"mean\": 0.4270227551460266, \"std\": 0.028975145891308784}, {\"time\": 52.0, \"variable\": \"VPD\", \"mean\": 0.34140676259994507, \"std\": 0.028965087607502937}, {\"time\": 53.0, \"variable\": \"VPD\", \"mean\": 0.21582205593585968, \"std\": 0.02898644283413887}, {\"time\": 54.0, \"variable\": \"VPD\", \"mean\": 0.18554049730300903, \"std\": 0.02896280400454998}, {\"time\": 55.0, \"variable\": \"VPD\", \"mean\": 0.2314787209033966, \"std\": 0.028989138081669807}, {\"time\": 56.0, \"variable\": \"VPD\", \"mean\": 0.2725904881954193, \"std\": 0.029063962399959564}, {\"time\": 57.0, \"variable\": \"VPD\", \"mean\": 0.27186140418052673, \"std\": 0.029100734740495682}, {\"time\": 58.0, \"variable\": \"VPD\", \"mean\": 0.21803469955921173, \"std\": 0.029957914724946022}, {\"time\": 59.0, \"variable\": \"VPD\", \"mean\": 0.12861908972263336, \"std\": 0.031863972544670105}, {\"time\": 60.0, \"variable\": \"VPD\", \"mean\": 0.06612835824489594, \"std\": 0.08322427421808243}, {\"time\": 61.0, \"variable\": \"VPD\", \"mean\": 0.0749322772026062, \"std\": 0.16654609143733978}, {\"time\": 62.0, \"variable\": \"VPD\", \"mean\": 0.1321663111448288, \"std\": 0.22672203183174133}, {\"time\": 63.0, \"variable\": \"VPD\", \"mean\": 0.18938004970550537, \"std\": 0.25509700179100037}, {\"time\": 64.0, \"variable\": \"VPD\", \"mean\": 0.2229136824607849, \"std\": 0.26752251386642456}, {\"time\": 65.0, \"variable\": \"VPD\", \"mean\": 0.23467154800891876, \"std\": 0.2731219232082367}, {\"time\": 66.0, \"variable\": \"VPD\", \"mean\": 0.23361121118068695, \"std\": 0.2731221914291382}, {\"time\": 67.0, \"variable\": \"VPD\", \"mean\": 0.22600719332695007, \"std\": 0.26752281188964844}, {\"time\": 68.0, \"variable\": \"VPD\", \"mean\": 0.21403831243515015, \"std\": 0.255096435546875}, {\"time\": 69.0, \"variable\": \"VPD\", \"mean\": 0.20213359594345093, \"std\": 0.2267245054244995}, {\"time\": 70.0, \"variable\": \"VPD\", \"mean\": 0.20784342288970947, \"std\": 0.16655275225639343}, {\"time\": 71.0, \"variable\": \"VPD\", \"mean\": 0.24929460883140564, \"std\": 0.08324776589870453}, {\"time\": 72.0, \"variable\": \"VPD\", \"mean\": 0.30642250180244446, \"std\": 0.0318651981651783}, {\"time\": 73.0, \"variable\": \"VPD\", \"mean\": 0.3379509747028351, \"std\": 0.02998267486691475}, {\"time\": 74.0, \"variable\": \"VPD\", \"mean\": 0.35604149103164673, \"std\": 0.029118280857801437}, {\"time\": 75.0, \"variable\": \"VPD\", \"mean\": 0.3880998194217682, \"std\": 0.029069645330309868}, {\"time\": 76.0, \"variable\": \"VPD\", \"mean\": 0.3712107539176941, \"std\": 0.029004989191889763}, {\"time\": 77.0, \"variable\": \"VPD\", \"mean\": 0.24811194837093353, \"std\": 0.028974419459700584}, {\"time\": 78.0, \"variable\": \"VPD\", \"mean\": 0.10698381066322327, \"std\": 0.02897493727505207}, {\"time\": 79.0, \"variable\": \"VPD\", \"mean\": 0.05043117702007294, \"std\": 0.028963323682546616}, {\"time\": 80.0, \"variable\": \"VPD\", \"mean\": 0.04778912663459778, \"std\": 0.02896135300397873}, {\"time\": 81.0, \"variable\": \"VPD\", \"mean\": 0.03883516788482666, \"std\": 0.02896280400454998}, {\"time\": 82.0, \"variable\": \"VPD\", \"mean\": 0.036372214555740356, \"std\": 0.028961457312107086}, {\"time\": 83.0, \"variable\": \"VPD\", \"mean\": 0.06067603826522827, \"std\": 0.028961457312107086}, {\"time\": 84.0, \"variable\": \"VPD\", \"mean\": 0.09998534619808197, \"std\": 0.028962908312678337}, {\"time\": 85.0, \"variable\": \"VPD\", \"mean\": 0.14882254600524902, \"std\": 0.028961975127458572}, {\"time\": 86.0, \"variable\": \"VPD\", \"mean\": 0.18692345917224884, \"std\": 0.028959382325410843}, {\"time\": 87.0, \"variable\": \"VPD\", \"mean\": 0.18012544512748718, \"std\": 0.028957929462194443}, {\"time\": 88.0, \"variable\": \"VPD\", \"mean\": 0.16011835634708405, \"std\": 0.02895699441432953}, {\"time\": 89.0, \"variable\": \"VPD\", \"mean\": 0.17415401339530945, \"std\": 0.028957098722457886}, {\"time\": 90.0, \"variable\": \"VPD\", \"mean\": 0.18602336943149567, \"std\": 0.028957411646842957}, {\"time\": 91.0, \"variable\": \"VPD\", \"mean\": 0.15539830923080444, \"std\": 0.028957411646842957}, {\"time\": 92.0, \"variable\": \"VPD\", \"mean\": 0.10887603461742401, \"std\": 0.02895699441432953}, {\"time\": 93.0, \"variable\": \"VPD\", \"mean\": 0.07135206460952759, \"std\": 0.0289565809071064}, {\"time\": 94.0, \"variable\": \"VPD\", \"mean\": 0.04182767868041992, \"std\": 0.028957203030586243}, {\"time\": 95.0, \"variable\": \"VPD\", \"mean\": 0.023649096488952637, \"std\": 0.028957411646842957}, {\"time\": 96.0, \"variable\": \"VPD\", \"mean\": 0.013243138790130615, \"std\": 0.0289573073387146}, {\"time\": 97.0, \"variable\": \"VPD\", \"mean\": 0.0023145973682403564, \"std\": 0.0289573073387146}, {\"time\": 98.0, \"variable\": \"VPD\", \"mean\": -0.0030342936515808105, \"std\": 0.028957515954971313}, {\"time\": 99.0, \"variable\": \"VPD\", \"mean\": 0.0009048581123352051, \"std\": 0.028957825154066086}, {\"time\": 100.0, \"variable\": \"VPD\", \"mean\": 0.004065901041030884, \"std\": 0.0289573073387146}, {\"time\": 101.0, \"variable\": \"VPD\", \"mean\": 0.0005294084548950195, \"std\": 0.028957515954971313}, {\"time\": 102.0, \"variable\": \"VPD\", \"mean\": -0.003152400255203247, \"std\": 0.028957203030586243}, {\"time\": 103.0, \"variable\": \"VPD\", \"mean\": 0.00010612607002258301, \"std\": 0.028957515954971313}, {\"time\": 104.0, \"variable\": \"VPD\", \"mean\": 0.00268399715423584, \"std\": 0.0289573073387146}, {\"time\": 105.0, \"variable\": \"VPD\", \"mean\": -0.003182053565979004, \"std\": 0.028957825154066086}, {\"time\": 106.0, \"variable\": \"VPD\", \"mean\": 0.010499656200408936, \"std\": 0.028957411646842957}, {\"time\": 107.0, \"variable\": \"VPD\", \"mean\": 0.07411734759807587, \"std\": 0.02895699441432953}, {\"time\": 108.0, \"variable\": \"VPD\", \"mean\": 0.15655916929244995, \"std\": 0.028957203030586243}, {\"time\": 109.0, \"variable\": \"VPD\", \"mean\": 0.2183934897184372, \"std\": 0.028958342969417572}, {\"time\": 110.0, \"variable\": \"VPD\", \"mean\": 0.28325894474983215, \"std\": 0.028958242386579514}, {\"time\": 111.0, \"variable\": \"VPD\", \"mean\": 0.37733688950538635, \"std\": 0.0289573073387146}, {\"time\": 112.0, \"variable\": \"VPD\", \"mean\": 0.476497620344162, \"std\": 0.028957203030586243}, {\"time\": 113.0, \"variable\": \"VPD\", \"mean\": 0.5586209297180176, \"std\": 0.028958138078451157}, {\"time\": 114.0, \"variable\": \"VPD\", \"mean\": 0.6220926642417908, \"std\": 0.028958655893802643}, {\"time\": 115.0, \"variable\": \"VPD\", \"mean\": 0.6474834680557251, \"std\": 0.0289573073387146}, {\"time\": 116.0, \"variable\": \"VPD\", \"mean\": 0.6466284394264221, \"std\": 0.0289594866335392}, {\"time\": 117.0, \"variable\": \"VPD\", \"mean\": 0.7075513601303101, \"std\": 0.028961041942238808}, {\"time\": 118.0, \"variable\": \"VPD\", \"mean\": 0.843990683555603, \"std\": 0.028957098722457886}, {\"time\": 119.0, \"variable\": \"VPD\", \"mean\": 0.9084464907646179, \"std\": 0.028953781351447105}, {\"time\": 120.0, \"variable\": \"VPD\", \"mean\": 0.8250887393951416, \"std\": 0.028952741995453835}, {\"time\": 121.0, \"variable\": \"VPD\", \"mean\": 0.7292577028274536, \"std\": 0.028957825154066086}, {\"time\": 122.0, \"variable\": \"VPD\", \"mean\": 0.7330629825592041, \"std\": 0.028964152559638023}, {\"time\": 123.0, \"variable\": \"VPD\", \"mean\": 0.777288556098938, \"std\": 0.02896425686776638}, {\"time\": 124.0, \"variable\": \"VPD\", \"mean\": 0.7878440618515015, \"std\": 0.028958655893802643}, {\"time\": 125.0, \"variable\": \"VPD\", \"mean\": 0.7645076513290405, \"std\": 0.028956269845366478}, {\"time\": 126.0, \"variable\": \"VPD\", \"mean\": 0.7188307046890259, \"std\": 0.02895284630358219}, {\"time\": 127.0, \"variable\": \"VPD\", \"mean\": 0.6723859310150146, \"std\": 0.028950147330760956}, {\"time\": 128.0, \"variable\": \"VPD\", \"mean\": 0.6554511785507202, \"std\": 0.028953885659575462}, {\"time\": 129.0, \"variable\": \"VPD\", \"mean\": 0.6379068493843079, \"std\": 0.02895689196884632}, {\"time\": 130.0, \"variable\": \"VPD\", \"mean\": 0.5603903532028198, \"std\": 0.028955647721886635}, {\"time\": 131.0, \"variable\": \"VPD\", \"mean\": 0.4506211280822754, \"std\": 0.02895699441432953}, {\"time\": 132.0, \"variable\": \"VPD\", \"mean\": 0.39350974559783936, \"std\": 0.028963426128029823}, {\"time\": 133.0, \"variable\": \"VPD\", \"mean\": 0.40311604738235474, \"std\": 0.028970064595341682}, {\"time\": 134.0, \"variable\": \"VPD\", \"mean\": 0.4318433403968811, \"std\": 0.02897047810256481}, {\"time\": 135.0, \"variable\": \"VPD\", \"mean\": 0.4542652368545532, \"std\": 0.02896985597908497}, {\"time\": 136.0, \"variable\": \"VPD\", \"mean\": 0.4614025354385376, \"std\": 0.028960417956113815}, {\"time\": 137.0, \"variable\": \"VPD\", \"mean\": 0.445969820022583, \"std\": 0.028949838131666183}, {\"time\": 138.0, \"variable\": \"VPD\", \"mean\": 0.42313629388809204, \"std\": 0.02894848957657814}, {\"time\": 139.0, \"variable\": \"VPD\", \"mean\": 0.4116256535053253, \"std\": 0.02894599735736847}, {\"time\": 140.0, \"variable\": \"VPD\", \"mean\": 0.4142126142978668, \"std\": 0.02894994057714939}, {\"time\": 141.0, \"variable\": \"VPD\", \"mean\": 0.43082115054130554, \"std\": 0.02896166406571865}, {\"time\": 142.0, \"variable\": \"VPD\", \"mean\": 0.44947755336761475, \"std\": 0.028972966596484184}, {\"time\": 143.0, \"variable\": \"VPD\", \"mean\": 0.45299434661865234, \"std\": 0.02896985597908497}, {\"time\": 144.0, \"variable\": \"VPD\", \"mean\": 0.4689214825630188, \"std\": 0.028953155502676964}, {\"time\": 145.0, \"variable\": \"VPD\", \"mean\": 0.5476847887039185, \"std\": 0.028969651088118553}, {\"time\": 146.0, \"variable\": \"VPD\", \"mean\": 0.6855005025863647, \"std\": 0.02897234447300434}, {\"time\": 147.0, \"variable\": \"VPD\", \"mean\": 0.8322039246559143, \"std\": 0.02898499369621277}, {\"time\": 148.0, \"variable\": \"VPD\", \"mean\": 0.9325329065322876, \"std\": 0.028953781351447105}, {\"time\": 149.0, \"variable\": \"VPD\", \"mean\": 0.9652537107467651, \"std\": 0.028938522562384605}, {\"time\": 150.0, \"variable\": \"VPD\", \"mean\": 0.9721973538398743, \"std\": 0.028926271945238113}, {\"time\": 151.0, \"variable\": \"VPD\", \"mean\": 0.9368636012077332, \"std\": 0.028926271945238113}, {\"time\": 152.0, \"variable\": \"VPD\", \"mean\": 0.766593337059021, \"std\": 0.028958864510059357}, {\"time\": 153.0, \"variable\": \"VPD\", \"mean\": 0.5429208874702454, \"std\": 0.028973279520869255}, {\"time\": 154.0, \"variable\": \"VPD\", \"mean\": 0.4605807065963745, \"std\": 0.02897421084344387}, {\"time\": 155.0, \"variable\": \"VPD\", \"mean\": 0.4671465754508972, \"std\": 0.028972862288355827}, {\"time\": 156.0, \"variable\": \"VPD\", \"mean\": 0.39964768290519714, \"std\": 0.02896653674542904}, {\"time\": 157.0, \"variable\": \"VPD\", \"mean\": 0.3197951018810272, \"std\": 0.028953781351447105}, {\"time\": 158.0, \"variable\": \"VPD\", \"mean\": 0.30665323138237, \"std\": 0.02895512990653515}, {\"time\": 159.0, \"variable\": \"VPD\", \"mean\": 0.25858449935913086, \"std\": 0.028973588719964027}, {\"time\": 160.0, \"variable\": \"VPD\", \"mean\": 0.1405678540468216, \"std\": 0.028978565707802773}, {\"time\": 161.0, \"variable\": \"VPD\", \"mean\": 0.062358587980270386, \"std\": 0.02895295061171055}, {\"time\": 162.0, \"variable\": \"VPD\", \"mean\": 0.05386197566986084, \"std\": 0.028986856341362}, {\"time\": 163.0, \"variable\": \"VPD\", \"mean\": 0.05158810317516327, \"std\": 0.028955647721886635}, {\"time\": 164.0, \"variable\": \"VPD\", \"mean\": 0.035917729139328, \"std\": 0.028894580900669098}, {\"time\": 165.0, \"variable\": \"VPD\", \"mean\": 0.030789077281951904, \"std\": 0.028936240822076797}, {\"time\": 166.0, \"variable\": \"VPD\", \"mean\": 0.05176582932472229, \"std\": 0.028916820883750916}, {\"time\": 167.0, \"variable\": \"VPD\", \"mean\": 0.08814454078674316, \"std\": 0.028959691524505615}, {\"time\": 168.0, \"variable\": \"VPD\", \"mean\": 0.10584141314029694, \"std\": 0.029007265344262123}, {\"time\": 169.0, \"variable\": \"VPD\", \"mean\": 0.0900568962097168, \"std\": 0.0289602130651474}, {\"time\": 170.0, \"variable\": \"VPD\", \"mean\": 0.06842054426670074, \"std\": 0.028906844556331635}, {\"time\": 171.0, \"variable\": \"VPD\", \"mean\": 0.060534343123435974, \"std\": 0.02888283133506775}, {\"time\": 172.0, \"variable\": \"VPD\", \"mean\": 0.05309472978115082, \"std\": 0.02897721715271473}, {\"time\": 173.0, \"variable\": \"VPD\", \"mean\": 0.0430760383605957, \"std\": 0.029000015929341316}, {\"time\": 174.0, \"variable\": \"VPD\", \"mean\": 0.04857605695724487, \"std\": 0.02898312732577324}, {\"time\": 175.0, \"variable\": \"VPD\", \"mean\": 0.07339885830879211, \"std\": 0.028948694467544556}, {\"time\": 176.0, \"variable\": \"VPD\", \"mean\": 0.11089299619197845, \"std\": 0.028941325843334198}, {\"time\": 177.0, \"variable\": \"VPD\", \"mean\": 0.15476550161838531, \"std\": 0.02899722009897232}, {\"time\": 178.0, \"variable\": \"VPD\", \"mean\": 0.16465520858764648, \"std\": 0.028964465484023094}, {\"time\": 179.0, \"variable\": \"VPD\", \"mean\": 0.13103966414928436, \"std\": 0.028904663398861885}, {\"time\": 180.0, \"variable\": \"VPD\", \"mean\": 0.1536797285079956, \"std\": 0.028905494138598442}, {\"time\": 181.0, \"variable\": \"VPD\", \"mean\": 0.2704310715198517, \"std\": 0.028973175212740898}, {\"time\": 182.0, \"variable\": \"VPD\", \"mean\": 0.3457929790019989, \"std\": 0.028961248695850372}, {\"time\": 183.0, \"variable\": \"VPD\", \"mean\": 0.30943214893341064, \"std\": 0.028941534459590912}, {\"time\": 184.0, \"variable\": \"VPD\", \"mean\": 0.26550787687301636, \"std\": 0.02889198064804077}, {\"time\": 185.0, \"variable\": \"VPD\", \"mean\": 0.2707290053367615, \"std\": 0.028984475880861282}, {\"time\": 186.0, \"variable\": \"VPD\", \"mean\": 0.29000699520111084, \"std\": 0.029081527143716812}, {\"time\": 187.0, \"variable\": \"VPD\", \"mean\": 0.33006054162979126, \"std\": 0.029039042070508003}, {\"time\": 188.0, \"variable\": \"VPD\", \"mean\": 0.3694261610507965, \"std\": 0.02894049696624279}, {\"time\": 189.0, \"variable\": \"VPD\", \"mean\": 0.37745043635368347, \"std\": 0.028912976384162903}, {\"time\": 190.0, \"variable\": \"VPD\", \"mean\": 0.5084124207496643, \"std\": 0.02903955988585949}, {\"time\": 191.0, \"variable\": \"VPD\", \"mean\": 0.859564483165741, \"std\": 0.028899984434247017}, {\"time\": 192.0, \"variable\": \"VPD\", \"mean\": 1.1457011699676514, \"std\": 0.029030248522758484}, {\"time\": 193.0, \"variable\": \"VPD\", \"mean\": 1.1592028141021729, \"std\": 0.029062826186418533}, {\"time\": 194.0, \"variable\": \"VPD\", \"mean\": 1.1306469440460205, \"std\": 0.02897566370666027}, {\"time\": 195.0, \"variable\": \"VPD\", \"mean\": 1.160926103591919, \"std\": 0.028864728286862373}, {\"time\": 196.0, \"variable\": \"VPD\", \"mean\": 1.0621514320373535, \"std\": 0.02889634668827057}, {\"time\": 197.0, \"variable\": \"VPD\", \"mean\": 0.9498661756515503, \"std\": 0.029033871367573738}, {\"time\": 198.0, \"variable\": \"VPD\", \"mean\": 1.1731184720993042, \"std\": 0.02993464283645153}, {\"time\": 199.0, \"variable\": \"VPD\", \"mean\": 1.6086878776550293, \"std\": 0.03188027814030647}]}}, {\"mode\": \"vega-lite\"});\n",
       "</script>"
      ],
      "text/plain": [
       "alt.VConcatChart(...)"
      ]
     },
     "metadata": {},
     "output_type": "display_data"
    },
    {
     "data": {
      "text/html": [
       "<p style='font-size: 1.5rem; font-decoration: bold'>Metrics<p><div style=\"display: flex; column-gap: 20px; flex-wrap: wrap;\" class='table table-striped table-sm'> <div> <p style='font-size: 1.3rem;'>r2</p> <style type=\"text/css\">\n",
       "</style>\n",
       "<table id=\"T_50475\">\n",
       "  <thead>\n",
       "    <tr>\n",
       "      <th id=\"T_50475_level0_col0\" class=\"col_heading level0 col0\" >variable</th>\n",
       "      <th id=\"T_50475_level0_col1\" class=\"col_heading level0 col1\" >r2</th>\n",
       "    </tr>\n",
       "  </thead>\n",
       "  <tbody>\n",
       "    <tr>\n",
       "      <td id=\"T_50475_row0_col0\" class=\"data row0 col0\" >TA</td>\n",
       "      <td id=\"T_50475_row0_col1\" class=\"data row0 col1\" >0.9954</td>\n",
       "    </tr>\n",
       "    <tr>\n",
       "      <td id=\"T_50475_row1_col0\" class=\"data row1 col0\" >SW_IN</td>\n",
       "      <td id=\"T_50475_row1_col1\" class=\"data row1 col1\" >0.9340</td>\n",
       "    </tr>\n",
       "    <tr>\n",
       "      <td id=\"T_50475_row2_col0\" class=\"data row2 col0\" >VPD</td>\n",
       "      <td id=\"T_50475_row2_col1\" class=\"data row2 col1\" >0.9940</td>\n",
       "    </tr>\n",
       "  </tbody>\n",
       "</table>\n",
       " </div><div> <p style='font-size: 1.3rem;'>RMSE</p> <style type=\"text/css\">\n",
       "</style>\n",
       "<table id=\"T_4bead\">\n",
       "  <thead>\n",
       "    <tr>\n",
       "      <th id=\"T_4bead_level0_col0\" class=\"col_heading level0 col0\" >variable</th>\n",
       "      <th id=\"T_4bead_level0_col1\" class=\"col_heading level0 col1\" >rmse</th>\n",
       "      <th id=\"T_4bead_level0_col2\" class=\"col_heading level0 col2\" >units</th>\n",
       "    </tr>\n",
       "  </thead>\n",
       "  <tbody>\n",
       "    <tr>\n",
       "      <td id=\"T_4bead_row0_col0\" class=\"data row0 col0\" >TA</td>\n",
       "      <td id=\"T_4bead_row0_col1\" class=\"data row0 col1\" >0.0903</td>\n",
       "      <td id=\"T_4bead_row0_col2\" class=\"data row0 col2\" >°C</td>\n",
       "    </tr>\n",
       "    <tr>\n",
       "      <td id=\"T_4bead_row1_col0\" class=\"data row1 col0\" >SW_IN</td>\n",
       "      <td id=\"T_4bead_row1_col1\" class=\"data row1 col1\" >8.4643</td>\n",
       "      <td id=\"T_4bead_row1_col2\" class=\"data row1 col2\" >W m-2</td>\n",
       "    </tr>\n",
       "    <tr>\n",
       "      <td id=\"T_4bead_row2_col0\" class=\"data row2 col0\" >VPD</td>\n",
       "      <td id=\"T_4bead_row2_col1\" class=\"data row2 col1\" >0.0240</td>\n",
       "      <td id=\"T_4bead_row2_col2\" class=\"data row2 col2\" >hPa</td>\n",
       "    </tr>\n",
       "  </tbody>\n",
       "</table>\n",
       " </div><div> <p style='font-size: 1.3rem;'>r2 - Only GAP</p> <style type=\"text/css\">\n",
       "</style>\n",
       "<table id=\"T_e84e6\">\n",
       "  <thead>\n",
       "    <tr>\n",
       "      <th id=\"T_e84e6_level0_col0\" class=\"col_heading level0 col0\" >variable</th>\n",
       "      <th id=\"T_e84e6_level0_col1\" class=\"col_heading level0 col1\" >r2</th>\n",
       "    </tr>\n",
       "  </thead>\n",
       "  <tbody>\n",
       "    <tr>\n",
       "      <td id=\"T_e84e6_row0_col0\" class=\"data row0 col0\" >TA</td>\n",
       "      <td id=\"T_e84e6_row0_col1\" class=\"data row0 col1\" >-3.0902</td>\n",
       "    </tr>\n",
       "    <tr>\n",
       "      <td id=\"T_e84e6_row1_col0\" class=\"data row1 col0\" >SW_IN</td>\n",
       "      <td id=\"T_e84e6_row1_col1\" class=\"data row1 col1\" >0.7747</td>\n",
       "    </tr>\n",
       "    <tr>\n",
       "      <td id=\"T_e84e6_row2_col0\" class=\"data row2 col0\" >VPD</td>\n",
       "      <td id=\"T_e84e6_row2_col1\" class=\"data row2 col1\" >nan</td>\n",
       "    </tr>\n",
       "  </tbody>\n",
       "</table>\n",
       " </div><div> <p style='font-size: 1.3rem;'>RMSE - Only GAP</p> <style type=\"text/css\">\n",
       "</style>\n",
       "<table id=\"T_49f59\">\n",
       "  <thead>\n",
       "    <tr>\n",
       "      <th id=\"T_49f59_level0_col0\" class=\"col_heading level0 col0\" >variable</th>\n",
       "      <th id=\"T_49f59_level0_col1\" class=\"col_heading level0 col1\" >rmse</th>\n",
       "      <th id=\"T_49f59_level0_col2\" class=\"col_heading level0 col2\" >units</th>\n",
       "    </tr>\n",
       "  </thead>\n",
       "  <tbody>\n",
       "    <tr>\n",
       "      <td id=\"T_49f59_row0_col0\" class=\"data row0 col0\" >TA</td>\n",
       "      <td id=\"T_49f59_row0_col1\" class=\"data row0 col1\" >0.3199</td>\n",
       "      <td id=\"T_49f59_row0_col2\" class=\"data row0 col2\" >°C</td>\n",
       "    </tr>\n",
       "    <tr>\n",
       "      <td id=\"T_49f59_row1_col0\" class=\"data row1 col0\" >SW_IN</td>\n",
       "      <td id=\"T_49f59_row1_col1\" class=\"data row1 col1\" >30.9000</td>\n",
       "      <td id=\"T_49f59_row1_col2\" class=\"data row1 col2\" >W m-2</td>\n",
       "    </tr>\n",
       "    <tr>\n",
       "      <td id=\"T_49f59_row2_col0\" class=\"data row2 col0\" >VPD</td>\n",
       "      <td id=\"T_49f59_row2_col1\" class=\"data row2 col1\" >nan</td>\n",
       "      <td id=\"T_49f59_row2_col2\" class=\"data row2 col2\" >hPa</td>\n",
       "    </tr>\n",
       "  </tbody>\n",
       "</table>\n",
       " </div></div>"
      ],
      "text/plain": [
       "<IPython.core.display.HTML object>"
      ]
     },
     "metadata": {},
     "output_type": "display_data"
    },
    {
     "data": {
      "text/html": [
       "<p style='font-size: 1.5rem; font-decoration: bold'>Model Info<p><div style=\"display: flex; column-gap: 20px; flex-wrap: wrap;\" class='table table-striped table-sm'> <div> <p style='font-size: 1.3rem;'>Lambda</p> <style type=\"text/css\">\n",
       "</style>\n",
       "<table id=\"T_b4c33\">\n",
       "  <thead>\n",
       "    <tr>\n",
       "      <th id=\"T_b4c33_level0_col0\" class=\"col_heading level0 col0\" >variable</th>\n",
       "      <th id=\"T_b4c33_level0_col1\" class=\"col_heading level0 col1\" >z0</th>\n",
       "      <th id=\"T_b4c33_level0_col2\" class=\"col_heading level0 col2\" >z1</th>\n",
       "      <th id=\"T_b4c33_level0_col3\" class=\"col_heading level0 col3\" >z2</th>\n",
       "    </tr>\n",
       "  </thead>\n",
       "  <tbody>\n",
       "    <tr>\n",
       "      <td id=\"T_b4c33_row0_col0\" class=\"data row0 col0\" >TA</td>\n",
       "      <td id=\"T_b4c33_row0_col1\" class=\"data row0 col1\" >0.5749</td>\n",
       "      <td id=\"T_b4c33_row0_col2\" class=\"data row0 col2\" >0.1098</td>\n",
       "      <td id=\"T_b4c33_row0_col3\" class=\"data row0 col3\" >0.6824</td>\n",
       "    </tr>\n",
       "    <tr>\n",
       "      <td id=\"T_b4c33_row1_col0\" class=\"data row1 col0\" >SW_IN</td>\n",
       "      <td id=\"T_b4c33_row1_col1\" class=\"data row1 col1\" >-0.7796</td>\n",
       "      <td id=\"T_b4c33_row1_col2\" class=\"data row1 col2\" >-0.0461</td>\n",
       "      <td id=\"T_b4c33_row1_col3\" class=\"data row1 col3\" >0.6270</td>\n",
       "    </tr>\n",
       "    <tr>\n",
       "      <td id=\"T_b4c33_row2_col0\" class=\"data row2 col0\" >VPD</td>\n",
       "      <td id=\"T_b4c33_row2_col1\" class=\"data row2 col1\" >0.1813</td>\n",
       "      <td id=\"T_b4c33_row2_col2\" class=\"data row2 col2\" >0.7577</td>\n",
       "      <td id=\"T_b4c33_row2_col3\" class=\"data row2 col3\" >0.5405</td>\n",
       "    </tr>\n",
       "  </tbody>\n",
       "</table>\n",
       " </div><div> <p style='font-size: 1.3rem;'>lengthscale</p> <style type=\"text/css\">\n",
       "</style>\n",
       "<table id=\"T_d0c9c\">\n",
       "  <thead>\n",
       "    <tr>\n",
       "      <th id=\"T_d0c9c_level0_col0\" class=\"col_heading level0 col0\" >latent</th>\n",
       "      <th id=\"T_d0c9c_level0_col1\" class=\"col_heading level0 col1\" >lengthscale</th>\n",
       "    </tr>\n",
       "  </thead>\n",
       "  <tbody>\n",
       "    <tr>\n",
       "      <td id=\"T_d0c9c_row0_col0\" class=\"data row0 col0\" >z0</td>\n",
       "      <td id=\"T_d0c9c_row0_col1\" class=\"data row0 col1\" >5.2282</td>\n",
       "    </tr>\n",
       "    <tr>\n",
       "      <td id=\"T_d0c9c_row1_col0\" class=\"data row1 col0\" >z1</td>\n",
       "      <td id=\"T_d0c9c_row1_col1\" class=\"data row1 col1\" >1.8765</td>\n",
       "    </tr>\n",
       "    <tr>\n",
       "      <td id=\"T_d0c9c_row2_col0\" class=\"data row2 col0\" >z2</td>\n",
       "      <td id=\"T_d0c9c_row2_col1\" class=\"data row2 col1\" >4.0832</td>\n",
       "    </tr>\n",
       "  </tbody>\n",
       "</table>\n",
       " </div><div> <p style='font-size: 1.3rem;'>psi</p> <style type=\"text/css\">\n",
       "</style>\n",
       "<table id=\"T_deb97\">\n",
       "  <thead>\n",
       "    <tr>\n",
       "      <th id=\"T_deb97_level0_col0\" class=\"col_heading level0 col0\" >variable</th>\n",
       "      <th id=\"T_deb97_level0_col1\" class=\"col_heading level0 col1\" >psi</th>\n",
       "    </tr>\n",
       "  </thead>\n",
       "  <tbody>\n",
       "    <tr>\n",
       "      <td id=\"T_deb97_row0_col0\" class=\"data row0 col0\" >TA</td>\n",
       "      <td id=\"T_deb97_row0_col1\" class=\"data row0 col1\" >0.0006</td>\n",
       "    </tr>\n",
       "    <tr>\n",
       "      <td id=\"T_deb97_row1_col0\" class=\"data row1 col0\" >SW_IN</td>\n",
       "      <td id=\"T_deb97_row1_col1\" class=\"data row1 col1\" >0.0285</td>\n",
       "    </tr>\n",
       "    <tr>\n",
       "      <td id=\"T_deb97_row2_col0\" class=\"data row2 col0\" >VPD</td>\n",
       "      <td id=\"T_deb97_row2_col1\" class=\"data row2 col1\" >0.0035</td>\n",
       "    </tr>\n",
       "  </tbody>\n",
       "</table>\n",
       " </div><div> <p style='font-size: 1.3rem;'>likelihood</p> <style type=\"text/css\">\n",
       "</style>\n",
       "<table id=\"T_43835\">\n",
       "  <thead>\n",
       "    <tr>\n",
       "      <th id=\"T_43835_level0_col0\" class=\"col_heading level0 col0\" >noise</th>\n",
       "    </tr>\n",
       "  </thead>\n",
       "  <tbody>\n",
       "    <tr>\n",
       "      <td id=\"T_43835_row0_col0\" class=\"data row0 col0\" >0.0017</td>\n",
       "    </tr>\n",
       "  </tbody>\n",
       "</table>\n",
       " </div></div>"
      ],
      "text/plain": [
       "<IPython.core.display.HTML object>"
      ]
     },
     "metadata": {},
     "output_type": "display_data"
    }
   ],
   "source": [
    "r.display_results()"
   ]
  },
  {
   "cell_type": "code",
   "execution_count": null,
   "id": "c5ca70f7-0870-4d3e-9bb3-d5588fc422b2",
   "metadata": {},
   "outputs": [],
   "source": [
    "data = GPFADataTest(hai[:n_obs]).add_gap(50, ['TA'], 30)"
   ]
  },
  {
   "cell_type": "code",
   "execution_count": null,
   "id": "e458a8dd-ae1d-4639-9c2c-009527a17952",
   "metadata": {},
   "outputs": [],
   "source": [
    "imp = GPFAImputationExplorer(data.data, latent_dims = n_latent)\n",
    "imp.learner.load(model_path)"
   ]
  },
  {
   "cell_type": "code",
   "execution_count": null,
   "id": "930d49f2-5523-4402-bc0e-2eb7f05a9d0d",
   "metadata": {},
   "outputs": [],
   "source": [
    "result_pretrained(data)"
   ]
  }
 ],
 "metadata": {
  "kernelspec": {
   "display_name": "data_science",
   "language": "python",
   "name": "data_science"
  },
  "widgets": {
   "application/vnd.jupyter.widget-state+json": {
    "state": {},
    "version_major": 2,
    "version_minor": 0
   }
  }
 },
 "nbformat": 4,
 "nbformat_minor": 5
}
