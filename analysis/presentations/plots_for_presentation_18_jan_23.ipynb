{
 "cells": [
  {
   "cell_type": "markdown",
   "id": "b800deb0-1599-4dcf-a860-f162fc595fbc",
   "metadata": {},
   "source": [
    "# Code for presentation of 18th January"
   ]
  },
  {
   "cell_type": "code",
   "execution_count": null,
   "id": "b87acfa4-b43e-4cbe-9bc2-103a084ec5a2",
   "metadata": {},
   "outputs": [],
   "source": [
    "#| hide\n",
    "%load_ext autoreload\n",
    "%autoreload 2"
   ]
  },
  {
   "cell_type": "code",
   "execution_count": null,
   "id": "37a4e31c-089b-41df-b025-bb77eb6cdfc3",
   "metadata": {},
   "outputs": [],
   "source": [
    "from meteo_imp.kalman.filter import *\n",
    "import torch\n",
    "import numpy as np\n",
    "from meteo_imp.kalman.fastai import *\n",
    "from meteo_imp.kalman.fastai import plot_variable\n",
    "import pandas as pd\n",
    "import matplotlib.pyplot as plt\n",
    "import altair as alt\n",
    "from pyprojroot import here"
   ]
  },
  {
   "cell_type": "code",
   "execution_count": null,
   "id": "c0a08c6b-d319-4528-a798-9cf1ce92857f",
   "metadata": {},
   "outputs": [],
   "source": [
    "n_obs = 20\n",
    "base_dir = here(\"presentations/plots_18_jan\")\n",
    "base_dir.mkdir(exist_ok=True)"
   ]
  },
  {
   "cell_type": "code",
   "execution_count": null,
   "id": "6321e535-da4c-4f9b-b028-bd3a2db71214",
   "metadata": {},
   "outputs": [],
   "source": [
    "def save_plot(p, path):\n",
    "    f_name = base_dir / (path + \".vl.json\")\n",
    "    with open(f_name, 'w') as f:\n",
    "        f.write(p.to_json())\n",
    "    return f_name"
   ]
  },
  {
   "cell_type": "code",
   "execution_count": null,
   "id": "b4eba982-7334-417f-8d36-400b01fa09e5",
   "metadata": {},
   "outputs": [],
   "source": [
    "plt_props = {'width': 460, 'height': 400}"
   ]
  },
  {
   "cell_type": "markdown",
   "id": "01fb8876-2937-4319-aeb6-498e7d89f5bb",
   "metadata": {},
   "source": [
    "## Only state"
   ]
  },
  {
   "cell_type": "markdown",
   "id": "425d0181-f334-436c-a87d-740a85f98499",
   "metadata": {},
   "source": [
    "$$ x_t = A\\color{blue}{x_{-1}} + \\varepsilon$$"
   ]
  },
  {
   "cell_type": "code",
   "execution_count": null,
   "id": "32fca7bf-0d9c-4058-9041-04deed83e6b3",
   "metadata": {},
   "outputs": [
    {
     "data": {
      "text/plain": [
       "torch.Size([1, 1])"
      ]
     },
     "execution_count": null,
     "metadata": {},
     "output_type": "execute_result"
    }
   ],
   "source": [
    "torch.tensor([[0.]]).shape"
   ]
  },
  {
   "cell_type": "code",
   "execution_count": null,
   "id": "20fbce04-9279-44aa-915f-ea86d7070c32",
   "metadata": {},
   "outputs": [],
   "source": [
    "k0 = KalmanFilter(\n",
    "    trans_matrix = torch.tensor([1.]),\n",
    "    obs_matrix = torch.tensor([0.]),        \n",
    "    contr_matrix = torch.tensor([0.]),\n",
    "    trans_cov = torch.tensor([[.3]]),\n",
    "    obs_cov = torch.tensor([[0.1]]),\n",
    "    trans_off = torch.tensor([0.]),\n",
    "    obs_off = torch.tensor([0.]),\n",
    "    init_state_mean = torch.tensor([0.]),\n",
    "    init_state_cov = torch.tensor([[0.01]]),\n",
    ")"
   ]
  },
  {
   "cell_type": "code",
   "execution_count": null,
   "id": "5c89a4db-9cee-4da2-814a-4e01e86893db",
   "metadata": {},
   "outputs": [],
   "source": [
    "pred0 = k0.smooth(torch.ones(1,n_obs,1), torch.zeros(1,n_obs,1, dtype=bool), torch.zeros(1,n_obs,1))"
   ]
  },
  {
   "cell_type": "code",
   "execution_count": null,
   "id": "b6b46ffb-3c45-478f-8a56-838bd1e71c3b",
   "metadata": {},
   "outputs": [],
   "source": [
    "time = pd.Index(range(n_obs), name=\"time\")"
   ]
  },
  {
   "cell_type": "code",
   "execution_count": null,
   "id": "f28d9420-bcda-4581-a1a2-6ab8f28873bf",
   "metadata": {},
   "outputs": [
    {
     "data": {
      "text/plain": [
       "torch.Size([1, 20, 1, 1])"
      ]
     },
     "execution_count": null,
     "metadata": {},
     "output_type": "execute_result"
    }
   ],
   "source": [
    "pred0.cov.shape"
   ]
  },
  {
   "cell_type": "code",
   "execution_count": null,
   "id": "7db39ec4-c707-49a6-8370-5dcb69b9931a",
   "metadata": {},
   "outputs": [],
   "source": [
    "pred0_df = NormalsDf(pd.DataFrame(pred0.mean.squeeze(0), index=time, columns=[\"state\"]),\n",
    "                     pd.DataFrame(pred0.cov.squeeze(0).squeeze(-1), index=time, columns=[\"state\"]))"
   ]
  },
  {
   "cell_type": "code",
   "execution_count": null,
   "id": "44ec1e26-2b79-4d0f-bb3f-a2b7bfb3a228",
   "metadata": {},
   "outputs": [
    {
     "data": {
      "text/html": [
       "\n",
       "<div id=\"altair-viz-65c3b238b93d46fc979ff83721dbf5f4\"></div>\n",
       "<script type=\"text/javascript\">\n",
       "  var VEGA_DEBUG = (typeof VEGA_DEBUG == \"undefined\") ? {} : VEGA_DEBUG;\n",
       "  (function(spec, embedOpt){\n",
       "    let outputDiv = document.currentScript.previousElementSibling;\n",
       "    if (outputDiv.id !== \"altair-viz-65c3b238b93d46fc979ff83721dbf5f4\") {\n",
       "      outputDiv = document.getElementById(\"altair-viz-65c3b238b93d46fc979ff83721dbf5f4\");\n",
       "    }\n",
       "    const paths = {\n",
       "      \"vega\": \"https://cdn.jsdelivr.net/npm//vega@5?noext\",\n",
       "      \"vega-lib\": \"https://cdn.jsdelivr.net/npm//vega-lib?noext\",\n",
       "      \"vega-lite\": \"https://cdn.jsdelivr.net/npm//vega-lite@5.2.0?noext\",\n",
       "      \"vega-embed\": \"https://cdn.jsdelivr.net/npm//vega-embed@6?noext\",\n",
       "    };\n",
       "\n",
       "    function maybeLoadScript(lib, version) {\n",
       "      var key = `${lib.replace(\"-\", \"\")}_version`;\n",
       "      return (VEGA_DEBUG[key] == version) ?\n",
       "        Promise.resolve(paths[lib]) :\n",
       "        new Promise(function(resolve, reject) {\n",
       "          var s = document.createElement('script');\n",
       "          document.getElementsByTagName(\"head\")[0].appendChild(s);\n",
       "          s.async = true;\n",
       "          s.onload = () => {\n",
       "            VEGA_DEBUG[key] = version;\n",
       "            return resolve(paths[lib]);\n",
       "          };\n",
       "          s.onerror = () => reject(`Error loading script: ${paths[lib]}`);\n",
       "          s.src = paths[lib];\n",
       "        });\n",
       "    }\n",
       "\n",
       "    function showError(err) {\n",
       "      outputDiv.innerHTML = `<div class=\"error\" style=\"color:red;\">${err}</div>`;\n",
       "      throw err;\n",
       "    }\n",
       "\n",
       "    function displayChart(vegaEmbed) {\n",
       "      vegaEmbed(outputDiv, spec, embedOpt)\n",
       "        .catch(err => showError(`Javascript Error: ${err.message}<br>This usually means there's a typo in your chart specification. See the javascript console for the full traceback.`));\n",
       "    }\n",
       "\n",
       "    if(typeof define === \"function\" && define.amd) {\n",
       "      requirejs.config({paths});\n",
       "      require([\"vega-embed\"], displayChart, err => showError(`Error loading script: ${err.message}`));\n",
       "    } else {\n",
       "      maybeLoadScript(\"vega\", \"5\")\n",
       "        .then(() => maybeLoadScript(\"vega-lite\", \"5.2.0\"))\n",
       "        .then(() => maybeLoadScript(\"vega-embed\", \"6\"))\n",
       "        .catch(showError)\n",
       "        .then(() => displayChart(vegaEmbed));\n",
       "    }\n",
       "  })({\"config\": {\"view\": {\"continuousWidth\": 400, \"continuousHeight\": 300}}, \"vconcat\": [{\"hconcat\": [{\"layer\": [{\"mark\": \"errorband\", \"encoding\": {\"color\": {\"field\": \"variable\", \"legend\": {\"title\": [\"Line: pred. mean\", \"area: +/- 2 std\"]}, \"type\": \"nominal\"}, \"x\": {\"field\": \"time\", \"type\": \"quantitative\"}, \"y\": {\"field\": \"err_low\", \"scale\": {\"zero\": false}, \"title\": \"\", \"type\": \"quantitative\"}, \"y2\": {\"field\": \"err_high\"}}, \"name\": \"view_1\"}, {\"mark\": \"line\", \"encoding\": {\"color\": {\"field\": \"variable\", \"type\": \"nominal\"}, \"x\": {\"field\": \"time\", \"type\": \"quantitative\"}, \"y\": {\"field\": \"mean\", \"scale\": {\"zero\": false}, \"title\": \"\", \"type\": \"quantitative\"}}}], \"height\": 400, \"title\": \"\", \"width\": 460}]}], \"data\": {\"name\": \"data-469d6e4b0867b438d05780d7644cf8b4\"}, \"params\": [{\"name\": \"param_6\", \"select\": {\"type\": \"interval\", \"encodings\": [\"x\"]}, \"bind\": \"scales\", \"views\": [\"view_1\"]}], \"$schema\": \"https://vega.github.io/schema/vega-lite/v5.2.0.json\", \"datasets\": {\"data-469d6e4b0867b438d05780d7644cf8b4\": [{\"time\": 0, \"variable\": \"state\", \"mean\": 0.0, \"std\": 0.010010000318288803, \"err_low\": -0.020020000636577606, \"err_high\": 0.020020000636577606}, {\"time\": 1, \"variable\": \"state\", \"mean\": 0.0, \"std\": 0.3100200295448303, \"err_low\": -0.6200400590896606, \"err_high\": 0.6200400590896606}, {\"time\": 2, \"variable\": \"state\", \"mean\": 0.0, \"std\": 0.6100300550460815, \"err_low\": -1.220060110092163, \"err_high\": 1.220060110092163}, {\"time\": 3, \"variable\": \"state\", \"mean\": 0.0, \"std\": 0.9100400805473328, \"err_low\": -1.8200801610946655, \"err_high\": 1.8200801610946655}, {\"time\": 4, \"variable\": \"state\", \"mean\": 0.0, \"std\": 1.210050106048584, \"err_low\": -2.420100212097168, \"err_high\": 2.420100212097168}, {\"time\": 5, \"variable\": \"state\", \"mean\": 0.0, \"std\": 1.5100600719451904, \"err_low\": -3.020120143890381, \"err_high\": 3.020120143890381}, {\"time\": 6, \"variable\": \"state\", \"mean\": 0.0, \"std\": 1.8100700378417969, \"err_low\": -3.6201400756835938, \"err_high\": 3.6201400756835938}, {\"time\": 7, \"variable\": \"state\", \"mean\": 0.0, \"std\": 2.1100800037384033, \"err_low\": -4.220160007476807, \"err_high\": 4.220160007476807}, {\"time\": 8, \"variable\": \"state\", \"mean\": 0.0, \"std\": 2.4100899696350098, \"err_low\": -4.8201799392700195, \"err_high\": 4.8201799392700195}, {\"time\": 9, \"variable\": \"state\", \"mean\": 0.0, \"std\": 2.710099935531616, \"err_low\": -5.420199871063232, \"err_high\": 5.420199871063232}, {\"time\": 10, \"variable\": \"state\", \"mean\": 0.0, \"std\": 3.0101099014282227, \"err_low\": -6.020219802856445, \"err_high\": 6.020219802856445}, {\"time\": 11, \"variable\": \"state\", \"mean\": 0.0, \"std\": 3.310119867324829, \"err_low\": -6.620239734649658, \"err_high\": 6.620239734649658}, {\"time\": 12, \"variable\": \"state\", \"mean\": 0.0, \"std\": 3.6101298332214355, \"err_low\": -7.220259666442871, \"err_high\": 7.220259666442871}, {\"time\": 13, \"variable\": \"state\", \"mean\": 0.0, \"std\": 3.910139799118042, \"err_low\": -7.820279598236084, \"err_high\": 7.820279598236084}, {\"time\": 14, \"variable\": \"state\", \"mean\": 0.0, \"std\": 4.210149765014648, \"err_low\": -8.420299530029297, \"err_high\": 8.420299530029297}, {\"time\": 15, \"variable\": \"state\", \"mean\": 0.0, \"std\": 4.510159969329834, \"err_low\": -9.020319938659668, \"err_high\": 9.020319938659668}, {\"time\": 16, \"variable\": \"state\", \"mean\": 0.0, \"std\": 4.8101701736450195, \"err_low\": -9.620340347290039, \"err_high\": 9.620340347290039}, {\"time\": 17, \"variable\": \"state\", \"mean\": 0.0, \"std\": 5.110180377960205, \"err_low\": -10.22036075592041, \"err_high\": 10.22036075592041}, {\"time\": 18, \"variable\": \"state\", \"mean\": 0.0, \"std\": 5.410190582275391, \"err_low\": -10.820381164550781, \"err_high\": 10.820381164550781}, {\"time\": 19, \"variable\": \"state\", \"mean\": 0.0, \"std\": 5.710200786590576, \"err_low\": -11.420401573181152, \"err_high\": 11.420401573181152}]}}, {\"mode\": \"vega-lite\"});\n",
       "</script>"
      ],
      "text/plain": [
       "alt.VConcatChart(...)"
      ]
     },
     "execution_count": null,
     "metadata": {},
     "output_type": "execute_result"
    }
   ],
   "source": [
    "p0 = facet_variable(pred0_df.tidy(), ys=[\"mean\", \"mean\"], error=True, point=False, gap_area=False, props=plt_props)\n",
    "p0"
   ]
  },
  {
   "cell_type": "code",
   "execution_count": null,
   "id": "11378d1e-51c8-461b-96f7-389444ff56a0",
   "metadata": {},
   "outputs": [
    {
     "data": {
      "text/plain": [
       "Path('/home/simone/Documents/uni/Thesis/GPFA_imputation/presentations/plots_18_jan/only_state.vl.json')"
      ]
     },
     "execution_count": null,
     "metadata": {},
     "output_type": "execute_result"
    }
   ],
   "source": [
    "save_plot(p0, \"only_state\")"
   ]
  },
  {
   "cell_type": "markdown",
   "id": "bc369719-f29b-4c31-b997-e1ac8a10ee86",
   "metadata": {},
   "source": [
    "## Observations"
   ]
  },
  {
   "cell_type": "code",
   "execution_count": null,
   "id": "055cca7d-2f24-4efc-9985-cfc6ec179692",
   "metadata": {},
   "outputs": [
    {
     "data": {
      "text/plain": [
       "torch.Size([1, 1])"
      ]
     },
     "execution_count": null,
     "metadata": {},
     "output_type": "execute_result"
    }
   ],
   "source": [
    "torch.tensor([[0.]]).shape"
   ]
  },
  {
   "cell_type": "code",
   "execution_count": null,
   "id": "adcebf28-ee5e-46dd-a56a-14753f5951a4",
   "metadata": {},
   "outputs": [],
   "source": [
    "k1 = KalmanFilter(\n",
    "    trans_matrix = torch.tensor([1.]),\n",
    "    obs_matrix = torch.tensor([1.]),        \n",
    "    contr_matrix = torch.tensor([0.]),\n",
    "    trans_cov = torch.tensor([[.5]]),\n",
    "    obs_cov = torch.tensor([[0.3]]),\n",
    "    trans_off = torch.tensor([0.]),\n",
    "    obs_off = torch.tensor([0.]),\n",
    "    init_state_mean = torch.tensor([0.]),\n",
    "    init_state_cov = torch.tensor([[0.001]]),\n",
    ")"
   ]
  },
  {
   "cell_type": "code",
   "execution_count": null,
   "id": "f9120233-0cd1-45fe-8a96-74489f045e72",
   "metadata": {},
   "outputs": [],
   "source": [
    "obs = 2 * torch.sin(torch.arange(n_obs) * 2 * torch.pi / (n_obs-2))"
   ]
  },
  {
   "cell_type": "code",
   "execution_count": null,
   "id": "727c4452-3a7f-46b0-8635-08a226f44941",
   "metadata": {},
   "outputs": [
    {
     "data": {
      "text/plain": [
       "[<matplotlib.lines.Line2D>]"
      ]
     },
     "execution_count": null,
     "metadata": {},
     "output_type": "execute_result"
    },
    {
     "data": {
      "image/png": "[encoded data removed]",
      "text/plain": [
       "<Figure size 432x288 with 1 Axes>"
      ]
     },
     "metadata": {
      "needs_background": "light"
     },
     "output_type": "display_data"
    }
   ],
   "source": [
    "plt.plot(obs)"
   ]
  },
  {
   "cell_type": "code",
   "execution_count": null,
   "id": "cb48746b-9209-443e-8087-29873c7cadf4",
   "metadata": {},
   "outputs": [],
   "source": [
    "mask1 = torch.ones(1,n_obs,1, dtype=bool)"
   ]
  },
  {
   "cell_type": "code",
   "execution_count": null,
   "id": "6bdcf28a-1bcb-4f3e-91a2-b6a04374ccca",
   "metadata": {},
   "outputs": [],
   "source": [
    "pred1 = k1.smooth(obs.unsqueeze(0).unsqueeze(-1), mask1, torch.zeros(1,n_obs,1))"
   ]
  },
  {
   "cell_type": "code",
   "execution_count": null,
   "id": "da081482-631c-469a-a68b-1afa720e4f13",
   "metadata": {},
   "outputs": [],
   "source": [
    "time = pd.Index(range(n_obs), name=\"time\")"
   ]
  },
  {
   "cell_type": "code",
   "execution_count": null,
   "id": "dab7a151-6c25-490c-ad2e-54aece24d8c0",
   "metadata": {},
   "outputs": [
    {
     "data": {
      "text/plain": [
       "torch.Size([1, 20, 1, 1])"
      ]
     },
     "execution_count": null,
     "metadata": {},
     "output_type": "execute_result"
    }
   ],
   "source": [
    "pred1.cov.shape"
   ]
  },
  {
   "cell_type": "code",
   "execution_count": null,
   "id": "9cfb4a0f-b5ce-4ae0-ad7b-ba6c8e19b14c",
   "metadata": {},
   "outputs": [],
   "source": [
    "pred_df1 = NormalsDf(pd.DataFrame(pred1.mean.squeeze(0), index=time, columns=[\"var\"]),\n",
    "                     pd.DataFrame(pred1.cov.squeeze(0).squeeze(-1), index=time, columns=[\"var\"])).tidy()"
   ]
  },
  {
   "cell_type": "code",
   "execution_count": null,
   "id": "0da60261-1f1d-49df-89ee-2c03266a5515",
   "metadata": {},
   "outputs": [],
   "source": [
    "obs_df1 = pd.DataFrame({'time': time, 'var': obs.numpy(),\n",
    "                        'is_present': mask1[0,:,0].numpy()}).melt([\"time\", \"is_present\"]) "
   ]
  },
  {
   "cell_type": "code",
   "execution_count": null,
   "id": "013e18aa-dec1-4cfb-a50b-9f82f48456a8",
   "metadata": {},
   "outputs": [],
   "source": [
    "plot_df1 = pd.merge(obs_df1, pred_df1, on=['time', 'variable'])"
   ]
  },
  {
   "cell_type": "code",
   "execution_count": null,
   "id": "9fcc515a-d7f9-4d2c-9d7b-7645306b1768",
   "metadata": {},
   "outputs": [
    {
     "data": {
      "text/html": [
       "\n",
       "<div id=\"altair-viz-f7a6d7035d354c73be4a4dfc10c4dc67\"></div>\n",
       "<script type=\"text/javascript\">\n",
       "  var VEGA_DEBUG = (typeof VEGA_DEBUG == \"undefined\") ? {} : VEGA_DEBUG;\n",
       "  (function(spec, embedOpt){\n",
       "    let outputDiv = document.currentScript.previousElementSibling;\n",
       "    if (outputDiv.id !== \"altair-viz-f7a6d7035d354c73be4a4dfc10c4dc67\") {\n",
       "      outputDiv = document.getElementById(\"altair-viz-f7a6d7035d354c73be4a4dfc10c4dc67\");\n",
       "    }\n",
       "    const paths = {\n",
       "      \"vega\": \"https://cdn.jsdelivr.net/npm//vega@5?noext\",\n",
       "      \"vega-lib\": \"https://cdn.jsdelivr.net/npm//vega-lib?noext\",\n",
       "      \"vega-lite\": \"https://cdn.jsdelivr.net/npm//vega-lite@5.2.0?noext\",\n",
       "      \"vega-embed\": \"https://cdn.jsdelivr.net/npm//vega-embed@6?noext\",\n",
       "    };\n",
       "\n",
       "    function maybeLoadScript(lib, version) {\n",
       "      var key = `${lib.replace(\"-\", \"\")}_version`;\n",
       "      return (VEGA_DEBUG[key] == version) ?\n",
       "        Promise.resolve(paths[lib]) :\n",
       "        new Promise(function(resolve, reject) {\n",
       "          var s = document.createElement('script');\n",
       "          document.getElementsByTagName(\"head\")[0].appendChild(s);\n",
       "          s.async = true;\n",
       "          s.onload = () => {\n",
       "            VEGA_DEBUG[key] = version;\n",
       "            return resolve(paths[lib]);\n",
       "          };\n",
       "          s.onerror = () => reject(`Error loading script: ${paths[lib]}`);\n",
       "          s.src = paths[lib];\n",
       "        });\n",
       "    }\n",
       "\n",
       "    function showError(err) {\n",
       "      outputDiv.innerHTML = `<div class=\"error\" style=\"color:red;\">${err}</div>`;\n",
       "      throw err;\n",
       "    }\n",
       "\n",
       "    function displayChart(vegaEmbed) {\n",
       "      vegaEmbed(outputDiv, spec, embedOpt)\n",
       "        .catch(err => showError(`Javascript Error: ${err.message}<br>This usually means there's a typo in your chart specification. See the javascript console for the full traceback.`));\n",
       "    }\n",
       "\n",
       "    if(typeof define === \"function\" && define.amd) {\n",
       "      requirejs.config({paths});\n",
       "      require([\"vega-embed\"], displayChart, err => showError(`Error loading script: ${err.message}`));\n",
       "    } else {\n",
       "      maybeLoadScript(\"vega\", \"5\")\n",
       "        .then(() => maybeLoadScript(\"vega-lite\", \"5.2.0\"))\n",
       "        .then(() => maybeLoadScript(\"vega-embed\", \"6\"))\n",
       "        .catch(showError)\n",
       "        .then(() => displayChart(vegaEmbed));\n",
       "    }\n",
       "  })({\"config\": {\"view\": {\"continuousWidth\": 400, \"continuousHeight\": 300}}, \"vconcat\": [{\"hconcat\": [{\"layer\": [{\"mark\": {\"type\": \"point\", \"color\": \"black\", \"fillOpacity\": 1, \"strokeWidth\": 1}, \"encoding\": {\"fill\": {\"field\": \"is_present\", \"legend\": {\"title\": [\"Observed data\"]}, \"scale\": {\"range\": [\"black\", \"#ffffff00\"]}, \"type\": \"nominal\"}, \"shape\": {\"field\": \"is_present\", \"type\": \"nominal\"}, \"x\": {\"axis\": {\"domain\": true, \"labels\": true, \"ticks\": true, \"title\": \"time\"}, \"field\": \"time\", \"type\": \"quantitative\"}, \"y\": {\"field\": \"value\", \"scale\": {\"zero\": false}, \"title\": \"\", \"type\": \"quantitative\"}}}, {\"mark\": \"errorband\", \"encoding\": {\"color\": {\"field\": \"variable\", \"legend\": {\"title\": [\"Line: pred. mean\", \"area: +/- 2 std\"]}, \"type\": \"nominal\"}, \"x\": {\"field\": \"time\", \"type\": \"quantitative\"}, \"y\": {\"field\": \"err_low\", \"scale\": {\"zero\": false}, \"title\": \"\", \"type\": \"quantitative\"}, \"y2\": {\"field\": \"err_high\"}}, \"name\": \"view_2\"}, {\"mark\": \"line\", \"encoding\": {\"color\": {\"field\": \"variable\", \"type\": \"nominal\"}, \"x\": {\"field\": \"time\", \"type\": \"quantitative\"}, \"y\": {\"field\": \"mean\", \"scale\": {\"zero\": false}, \"title\": \"\", \"type\": \"quantitative\"}}}], \"height\": 400, \"title\": \"\", \"width\": 460}]}], \"data\": {\"name\": \"data-285426b18250d2bbeb1a83babad8f60b\"}, \"params\": [{\"name\": \"param_8\", \"select\": {\"type\": \"interval\", \"encodings\": [\"x\"]}, \"bind\": \"scales\", \"views\": [\"view_2\"]}], \"$schema\": \"https://vega.github.io/schema/vega-lite/v5.2.0.json\", \"datasets\": {\"data-285426b18250d2bbeb1a83babad8f60b\": [{\"time\": 0, \"is_present\": true, \"variable\": \"var\", \"value\": 0.0, \"mean\": 0.0012823505094274879, \"std\": 0.0010051879798993468, \"err_low\": -0.0007280254503712058, \"err_high\": 0.0032927263528108597}, {\"time\": 1, \"is_present\": true, \"variable\": \"var\", \"value\": 0.6840403079986572, \"mean\": 0.6382591724395752, \"std\": 0.14846114814281464, \"err_low\": 0.3413368761539459, \"err_high\": 0.9351814985275269}, {\"time\": 2, \"is_present\": true, \"variable\": \"var\", \"value\": 1.285575270652771, \"mean\": 1.1989326477050781, \"std\": 0.1614452749490738, \"err_low\": 0.8760421276092529, \"err_high\": 1.5218231678009033}, {\"time\": 3, \"is_present\": true, \"variable\": \"var\", \"value\": 1.7320507764816284, \"mean\": 1.6151989698410034, \"std\": 0.16258858144283295, \"err_low\": 1.2900217771530151, \"err_high\": 1.9403761625289917}, {\"time\": 4, \"is_present\": true, \"variable\": \"var\", \"value\": 1.9696155786514282, \"mean\": 1.836708426475525, \"std\": 0.16268925368785858, \"err_low\": 1.5113298892974854, \"err_high\": 2.1620869636535645}, {\"time\": 5, \"is_present\": true, \"variable\": \"var\", \"value\": 1.9696154594421387, \"mean\": 1.8367013931274414, \"std\": 0.16269811987876892, \"err_low\": 1.5113050937652588, \"err_high\": 2.162097692489624}, {\"time\": 6, \"is_present\": true, \"variable\": \"var\", \"value\": 1.7320507764816284, \"mean\": 1.6151663064956665, \"std\": 0.162698894739151, \"err_low\": 1.2897684574127197, \"err_high\": 1.9405641555786133}, {\"time\": 7, \"is_present\": true, \"variable\": \"var\", \"value\": 1.2855749130249023, \"mean\": 1.198819637298584, \"std\": 0.16269895434379578, \"err_low\": 0.8734217286109924, \"err_high\": 1.5242176055908203}, {\"time\": 8, \"is_present\": true, \"variable\": \"var\", \"value\": 0.6840400099754333, \"mean\": 0.6378780603408813, \"std\": 0.16269899904727936, \"err_low\": 0.31248006224632263, \"err_high\": 0.9632760286331177}, {\"time\": 9, \"is_present\": true, \"variable\": \"var\", \"value\": -1.7484555314695172e-07, \"mean\": -1.519918441772461e-06, \"std\": 0.16269895434379578, \"err_low\": -0.3253994286060333, \"err_high\": 0.3253963887691498}, {\"time\": 10, \"is_present\": true, \"variable\": \"var\", \"value\": -0.6840407848358154, \"mean\": -0.6378833055496216, \"std\": 0.16269899904727936, \"err_low\": -0.9632812738418579, \"err_high\": -0.31248530745506287}, {\"time\": 11, \"is_present\": true, \"variable\": \"var\", \"value\": -1.28557550907135, \"mean\": -1.1988343000411987, \"std\": 0.16269895434379578, \"err_low\": -1.5242321491241455, \"err_high\": -0.8734363913536072}, {\"time\": 12, \"is_present\": true, \"variable\": \"var\", \"value\": -1.732050895690918, \"mean\": -1.6152135133743286, \"std\": 0.16269899904727936, \"err_low\": -1.940611481666565, \"err_high\": -1.2898155450820923}, {\"time\": 13, \"is_present\": true, \"variable\": \"var\", \"value\": -1.9696155786514282, \"mean\": -1.8368600606918335, \"std\": 0.16269898414611816, \"err_low\": -2.1622581481933594, \"err_high\": -1.5114620923995972}, {\"time\": 14, \"is_present\": true, \"variable\": \"var\", \"value\": -1.9696153402328491, \"mean\": -1.837242841720581, \"std\": 0.16269925236701965, \"err_low\": -2.1626412868499756, \"err_high\": -1.5118443965911865}, {\"time\": 15, \"is_present\": true, \"variable\": \"var\", \"value\": -1.732050895690918, \"mean\": -1.6170005798339844, \"std\": 0.16270186007022858, \"err_low\": -1.9424042701721191, \"err_high\": -1.2915968894958496}, {\"time\": 16, \"is_present\": true, \"variable\": \"var\", \"value\": -1.2855747938156128, \"mean\": -1.2050038576126099, \"std\": 0.16273196041584015, \"err_low\": -1.5304677486419678, \"err_high\": -0.879539966583252}, {\"time\": 17, \"is_present\": true, \"variable\": \"var\", \"value\": -0.684039831161499, \"mean\": -0.6587195992469788, \"std\": 0.16307330131530762, \"err_low\": -0.984866201877594, \"err_high\": -0.3325729966163635}, {\"time\": 18, \"is_present\": true, \"variable\": \"var\", \"value\": 3.4969110629390343e-07, \"mean\": -0.0702342540025711, \"std\": 0.16695018112659454, \"err_low\": -0.4041346311569214, \"err_high\": 0.2636660933494568}, {\"time\": 19, \"is_present\": true, \"variable\": \"var\", \"value\": 0.6840404868125916, \"mean\": 0.40119099617004395, \"std\": 0.21097815036773682, \"err_low\": -0.020765304565429688, \"err_high\": 0.8231472969055176}]}}, {\"mode\": \"vega-lite\"});\n",
       "</script>"
      ],
      "text/plain": [
       "alt.VConcatChart(...)"
      ]
     },
     "execution_count": null,
     "metadata": {},
     "output_type": "execute_result"
    }
   ],
   "source": [
    "p1 = facet_variable(plot_df1, ys=[\"value\", \"mean\"], error=True, gap_area=False, props=plt_props)\n",
    "p1"
   ]
  },
  {
   "cell_type": "code",
   "execution_count": null,
   "id": "4560b9f8-1517-447a-ad3e-ae5a7dafb69f",
   "metadata": {},
   "outputs": [
    {
     "data": {
      "text/plain": [
       "Path('/home/simone/Documents/uni/Thesis/GPFA_imputation/presentations/plots_18_jan/obs.vl.json')"
      ]
     },
     "execution_count": null,
     "metadata": {},
     "output_type": "execute_result"
    }
   ],
   "source": [
    "save_plot(p1, \"obs\")"
   ]
  },
  {
   "cell_type": "markdown",
   "id": "91720381-88f5-4571-a5cb-847856a00707",
   "metadata": {},
   "source": [
    "## Gaps"
   ]
  },
  {
   "cell_type": "code",
   "execution_count": null,
   "id": "c13e96cd-fcd9-4aea-b9e7-68dee9172f49",
   "metadata": {},
   "outputs": [],
   "source": [
    "k2 = KalmanFilter(\n",
    "    trans_matrix = torch.tensor([1.]),\n",
    "    obs_matrix = torch.tensor([1.]),        \n",
    "    contr_matrix = torch.tensor([0.]),\n",
    "    trans_cov = torch.tensor([[.5]]),\n",
    "    obs_cov = torch.tensor([[0.3]]),\n",
    "    trans_off = torch.tensor([0.]),\n",
    "    obs_off = torch.tensor([0.]),\n",
    "    init_state_mean = torch.tensor([0.]),\n",
    "    init_state_cov = torch.tensor([[0.001]]),\n",
    ")"
   ]
  },
  {
   "cell_type": "code",
   "execution_count": null,
   "id": "e0275585-c273-40c3-9384-5d2b40c2b8cf",
   "metadata": {},
   "outputs": [
    {
     "data": {
      "text/plain": [
       "tensor([[[ True],\n",
       "         [ True],\n",
       "         [ True],\n",
       "         [ True],\n",
       "         [ True],\n",
       "         [ True],\n",
       "         [ True],\n",
       "         [ True],\n",
       "         [ True],\n",
       "         [ True],\n",
       "         [ True],\n",
       "         [False],\n",
       "         [False],\n",
       "         [False],\n",
       "         [False],\n",
       "         [False],\n",
       "         [ True],\n",
       "         [ True],\n",
       "         [ True],\n",
       "         [ True]]])"
      ]
     },
     "execution_count": null,
     "metadata": {},
     "output_type": "execute_result"
    }
   ],
   "source": [
    "mask2 = torch.ones(1,n_obs,1, dtype=bool)\n",
    "mask2[0,11:16,0] = False\n",
    "mask2"
   ]
  },
  {
   "cell_type": "code",
   "execution_count": null,
   "id": "602c03c7-eddd-4b50-8665-a7445016103d",
   "metadata": {},
   "outputs": [],
   "source": [
    "pred2 = k2.smooth(obs.unsqueeze(0).unsqueeze(-1), mask2, torch.zeros(1,n_obs,1))"
   ]
  },
  {
   "cell_type": "code",
   "execution_count": null,
   "id": "fa142d3e-cee1-40f3-ae21-10011eabd724",
   "metadata": {},
   "outputs": [],
   "source": [
    "pred_df2 = NormalsDf(pd.DataFrame(pred2.mean.squeeze(0), index=time, columns=[\"var\"]),\n",
    "                     pd.DataFrame(pred2.cov.squeeze(0).squeeze(-1), index=time, columns=[\"var\"])).tidy()"
   ]
  },
  {
   "cell_type": "code",
   "execution_count": null,
   "id": "6204eade-9652-4800-813e-03e40c9d55a3",
   "metadata": {},
   "outputs": [],
   "source": [
    "obs_df2 = pd.DataFrame({'time': time, 'var': obs.numpy(),\n",
    "                        'is_present': mask2[0,:,0].numpy()}).melt([\"time\", \"is_present\"]) "
   ]
  },
  {
   "cell_type": "code",
   "execution_count": null,
   "id": "dd6fa695-5844-4d8e-9027-40d4b50b45eb",
   "metadata": {},
   "outputs": [],
   "source": [
    "plot_df2 = pd.merge(obs_df2, pred_df2, on=['time', 'variable'])"
   ]
  },
  {
   "cell_type": "code",
   "execution_count": null,
   "id": "0ab87ef0-5fb8-46d2-8707-06b4ae570ee5",
   "metadata": {},
   "outputs": [
    {
     "data": {
      "text/html": [
       "\n",
       "<div id=\"altair-viz-aaa36cca9845417992ef3293de6424a8\"></div>\n",
       "<script type=\"text/javascript\">\n",
       "  var VEGA_DEBUG = (typeof VEGA_DEBUG == \"undefined\") ? {} : VEGA_DEBUG;\n",
       "  (function(spec, embedOpt){\n",
       "    let outputDiv = document.currentScript.previousElementSibling;\n",
       "    if (outputDiv.id !== \"altair-viz-aaa36cca9845417992ef3293de6424a8\") {\n",
       "      outputDiv = document.getElementById(\"altair-viz-aaa36cca9845417992ef3293de6424a8\");\n",
       "    }\n",
       "    const paths = {\n",
       "      \"vega\": \"https://cdn.jsdelivr.net/npm//vega@5?noext\",\n",
       "      \"vega-lib\": \"https://cdn.jsdelivr.net/npm//vega-lib?noext\",\n",
       "      \"vega-lite\": \"https://cdn.jsdelivr.net/npm//vega-lite@5.2.0?noext\",\n",
       "      \"vega-embed\": \"https://cdn.jsdelivr.net/npm//vega-embed@6?noext\",\n",
       "    };\n",
       "\n",
       "    function maybeLoadScript(lib, version) {\n",
       "      var key = `${lib.replace(\"-\", \"\")}_version`;\n",
       "      return (VEGA_DEBUG[key] == version) ?\n",
       "        Promise.resolve(paths[lib]) :\n",
       "        new Promise(function(resolve, reject) {\n",
       "          var s = document.createElement('script');\n",
       "          document.getElementsByTagName(\"head\")[0].appendChild(s);\n",
       "          s.async = true;\n",
       "          s.onload = () => {\n",
       "            VEGA_DEBUG[key] = version;\n",
       "            return resolve(paths[lib]);\n",
       "          };\n",
       "          s.onerror = () => reject(`Error loading script: ${paths[lib]}`);\n",
       "          s.src = paths[lib];\n",
       "        });\n",
       "    }\n",
       "\n",
       "    function showError(err) {\n",
       "      outputDiv.innerHTML = `<div class=\"error\" style=\"color:red;\">${err}</div>`;\n",
       "      throw err;\n",
       "    }\n",
       "\n",
       "    function displayChart(vegaEmbed) {\n",
       "      vegaEmbed(outputDiv, spec, embedOpt)\n",
       "        .catch(err => showError(`Javascript Error: ${err.message}<br>This usually means there's a typo in your chart specification. See the javascript console for the full traceback.`));\n",
       "    }\n",
       "\n",
       "    if(typeof define === \"function\" && define.amd) {\n",
       "      requirejs.config({paths});\n",
       "      require([\"vega-embed\"], displayChart, err => showError(`Error loading script: ${err.message}`));\n",
       "    } else {\n",
       "      maybeLoadScript(\"vega\", \"5\")\n",
       "        .then(() => maybeLoadScript(\"vega-lite\", \"5.2.0\"))\n",
       "        .then(() => maybeLoadScript(\"vega-embed\", \"6\"))\n",
       "        .catch(showError)\n",
       "        .then(() => displayChart(vegaEmbed));\n",
       "    }\n",
       "  })({\"config\": {\"view\": {\"continuousWidth\": 400, \"continuousHeight\": 300}}, \"vconcat\": [{\"hconcat\": [{\"layer\": [{\"mark\": {\"type\": \"point\", \"color\": \"black\", \"fillOpacity\": 1, \"strokeWidth\": 1}, \"encoding\": {\"fill\": {\"field\": \"is_present\", \"legend\": {\"title\": [\"Observed data\"]}, \"scale\": {\"range\": [\"black\", \"#ffffff00\"]}, \"type\": \"nominal\"}, \"shape\": {\"field\": \"is_present\", \"type\": \"nominal\"}, \"x\": {\"axis\": {\"domain\": true, \"labels\": true, \"ticks\": true, \"title\": \"time\"}, \"field\": \"time\", \"type\": \"quantitative\"}, \"y\": {\"field\": \"value\", \"scale\": {\"zero\": false}, \"title\": \"\", \"type\": \"quantitative\"}}}, {\"mark\": \"errorband\", \"encoding\": {\"color\": {\"field\": \"variable\", \"legend\": {\"title\": [\"Line: pred. mean\", \"area: +/- 2 std\"]}, \"type\": \"nominal\"}, \"x\": {\"field\": \"time\", \"type\": \"quantitative\"}, \"y\": {\"field\": \"err_low\", \"scale\": {\"zero\": false}, \"title\": \"\", \"type\": \"quantitative\"}, \"y2\": {\"field\": \"err_high\"}}, \"name\": \"view_3\"}, {\"mark\": \"line\", \"encoding\": {\"color\": {\"field\": \"variable\", \"type\": \"nominal\"}, \"x\": {\"field\": \"time\", \"type\": \"quantitative\"}, \"y\": {\"field\": \"mean\", \"scale\": {\"zero\": false}, \"title\": \"\", \"type\": \"quantitative\"}}}], \"height\": 500, \"title\": \"\", \"width\": 750}]}], \"data\": {\"name\": \"data-1c2486242e265195fc2ef73359469fcb\"}, \"params\": [{\"name\": \"param_10\", \"select\": {\"type\": \"interval\", \"encodings\": [\"x\"]}, \"bind\": \"scales\", \"views\": [\"view_3\"]}], \"$schema\": \"https://vega.github.io/schema/vega-lite/v5.2.0.json\", \"datasets\": {\"data-1c2486242e265195fc2ef73359469fcb\": [{\"time\": 0, \"is_present\": true, \"variable\": \"var\", \"value\": 0.0, \"mean\": 0.0012823570286855102, \"std\": 0.0010051879798993468, \"err_low\": -0.0007280189311131835, \"err_high\": 0.003292732872068882}, {\"time\": 1, \"is_present\": true, \"variable\": \"var\", \"value\": 0.6840403079986572, \"mean\": 0.6382624506950378, \"std\": 0.14846114814281464, \"err_low\": 0.34134015440940857, \"err_high\": 0.9351847171783447}, {\"time\": 2, \"is_present\": true, \"variable\": \"var\", \"value\": 1.285575270652771, \"mean\": 1.1989445686340332, \"std\": 0.1614452749490738, \"err_low\": 0.876054048538208, \"err_high\": 1.5218350887298584}, {\"time\": 3, \"is_present\": true, \"variable\": \"var\", \"value\": 1.7320507764816284, \"mean\": 1.6152390241622925, \"std\": 0.16258858144283295, \"err_low\": 1.2900618314743042, \"err_high\": 1.9404162168502808}, {\"time\": 4, \"is_present\": true, \"variable\": \"var\", \"value\": 1.9696155786514282, \"mean\": 1.836843490600586, \"std\": 0.16268926858901978, \"err_low\": 1.5114649534225464, \"err_high\": 2.162221908569336}, {\"time\": 5, \"is_present\": true, \"variable\": \"var\", \"value\": 1.9696154594421387, \"mean\": 1.8371565341949463, \"std\": 0.16269829869270325, \"err_low\": 1.5117599964141846, \"err_high\": 2.162553071975708}, {\"time\": 6, \"is_present\": true, \"variable\": \"var\", \"value\": 1.7320507764816284, \"mean\": 1.6167004108428955, \"std\": 0.16270101070404053, \"err_low\": 1.2912983894348145, \"err_high\": 1.9421024322509766}, {\"time\": 7, \"is_present\": true, \"variable\": \"var\", \"value\": 1.2855749130249023, \"mean\": 1.2039895057678223, \"std\": 0.16272304952144623, \"err_low\": 0.8785433769226074, \"err_high\": 1.529435634613037}, {\"time\": 8, \"is_present\": true, \"variable\": \"var\", \"value\": 0.6840400099754333, \"mean\": 0.6553001403808594, \"std\": 0.16297248005867004, \"err_low\": 0.3293551802635193, \"err_high\": 0.9812451004981995}, {\"time\": 9, \"is_present\": true, \"variable\": \"var\", \"value\": -1.7484555314695172e-07, \"mean\": 0.058710113167762756, \"std\": 0.16580480337142944, \"err_low\": -0.2728995084762573, \"err_high\": 0.39031970500946045}, {\"time\": 10, \"is_present\": true, \"variable\": \"var\", \"value\": -0.6840407848358154, \"mean\": -0.4400274157524109, \"std\": 0.1979709416627884, \"err_low\": -0.8359693288803101, \"err_high\": -0.044085532426834106}, {\"time\": 11, \"is_present\": false, \"variable\": \"var\", \"value\": -1.28557550907135, \"mean\": -0.5320678949356079, \"std\": 0.5632694363594055, \"err_low\": -1.658606767654419, \"err_high\": 0.5944709777832031}, {\"time\": 12, \"is_present\": false, \"variable\": \"var\", \"value\": -1.732050895690918, \"mean\": -0.6241084337234497, \"std\": 0.7824516892433167, \"err_low\": -2.189011812210083, \"err_high\": 0.9407949447631836}, {\"time\": 13, \"is_present\": false, \"variable\": \"var\", \"value\": -1.9696155786514282, \"mean\": -0.7161489725112915, \"std\": 0.8555178642272949, \"err_low\": -2.427184581756592, \"err_high\": 0.9948867559432983}, {\"time\": 14, \"is_present\": false, \"variable\": \"var\", \"value\": -1.9696153402328491, \"mean\": -0.8081895112991333, \"std\": 0.7824678421020508, \"err_low\": -2.3731250762939453, \"err_high\": 0.7567461729049683}, {\"time\": 15, \"is_present\": false, \"variable\": \"var\", \"value\": -1.732050895690918, \"mean\": -0.9002300500869751, \"std\": 0.5633018016815186, \"err_low\": -2.0268335342407227, \"err_high\": 0.226373553276062}, {\"time\": 16, \"is_present\": true, \"variable\": \"var\", \"value\": -1.2855747938156128, \"mean\": -0.9922705888748169, \"std\": 0.19801956415176392, \"err_low\": -1.3883097171783447, \"err_high\": -0.5962314605712891}, {\"time\": 17, \"is_present\": true, \"variable\": \"var\", \"value\": -0.684039831161499, \"mean\": -0.5954608917236328, \"std\": 0.16619360446929932, \"err_low\": -0.9278481006622314, \"err_high\": -0.2630736827850342}, {\"time\": 18, \"is_present\": true, \"variable\": \"var\", \"value\": 3.4969110629390343e-07, \"mean\": -0.0510166734457016, \"std\": 0.16723814606666565, \"err_low\": -0.3854929804801941, \"err_high\": 0.2834596037864685}, {\"time\": 19, \"is_present\": true, \"variable\": \"var\", \"value\": 0.6840404868125916, \"mean\": 0.40839749574661255, \"std\": 0.21101868152618408, \"err_low\": -0.013639867305755615, \"err_high\": 0.8304348587989807}]}}, {\"mode\": \"vega-lite\"});\n",
       "</script>"
      ],
      "text/plain": [
       "alt.VConcatChart(...)"
      ]
     },
     "execution_count": null,
     "metadata": {},
     "output_type": "execute_result"
    }
   ],
   "source": [
    "p2 = facet_variable(plot_df2, ys=[\"value\", \"mean\"], error=True, gap_area=False, props={'width': 750, 'height': 500})\n",
    "p2"
   ]
  },
  {
   "cell_type": "code",
   "execution_count": null,
   "id": "200cbff1-c5d3-46ec-b1e4-36d08f3c06b8",
   "metadata": {},
   "outputs": [
    {
     "data": {
      "text/plain": [
       "Path('/home/simone/Documents/uni/Thesis/GPFA_imputation/presentations/plots_18_jan/gaps.vl.json')"
      ]
     },
     "execution_count": null,
     "metadata": {},
     "output_type": "execute_result"
    }
   ],
   "source": [
    "save_plot(p2, \"gaps\")"
   ]
  },
  {
   "cell_type": "markdown",
   "id": "cfc886e2-1d0a-44f4-9686-fa66c5bfc1bc",
   "metadata": {},
   "source": [
    "## Control"
   ]
  },
  {
   "cell_type": "code",
   "execution_count": null,
   "id": "eea0a9dd-4cf2-4b67-8f90-db8a867400d1",
   "metadata": {},
   "outputs": [],
   "source": [
    "k3 = KalmanFilter(\n",
    "    trans_matrix = torch.tensor([1.]),\n",
    "    obs_matrix = torch.tensor([1.]),        \n",
    "    contr_matrix = torch.tensor([-1., 1]),\n",
    "    trans_cov = torch.tensor([[.5]]),\n",
    "    obs_cov = torch.tensor([[0.3]]),\n",
    "    trans_off = torch.tensor([0.]),\n",
    "    obs_off = torch.tensor([0.]),\n",
    "    init_state_mean = torch.tensor([0.]),\n",
    "    init_state_cov = torch.tensor([[0.001]]),\n",
    ")"
   ]
  },
  {
   "cell_type": "code",
   "execution_count": null,
   "id": "79a4d7ab-5198-4bc0-bf12-9fb116a35013",
   "metadata": {},
   "outputs": [
    {
     "data": {
      "text/plain": [
       "tensor([[[ True],\n",
       "         [ True],\n",
       "         [ True],\n",
       "         [ True],\n",
       "         [ True],\n",
       "         [ True],\n",
       "         [ True],\n",
       "         [ True],\n",
       "         [ True],\n",
       "         [ True],\n",
       "         [ True],\n",
       "         [False],\n",
       "         [False],\n",
       "         [False],\n",
       "         [False],\n",
       "         [False],\n",
       "         [ True],\n",
       "         [ True],\n",
       "         [ True],\n",
       "         [ True]]])"
      ]
     },
     "execution_count": null,
     "metadata": {},
     "output_type": "execute_result"
    }
   ],
   "source": [
    "mask3 = torch.ones(1,n_obs,1, dtype=bool)\n",
    "mask3[0,11:16,0] = False\n",
    "mask3"
   ]
  },
  {
   "cell_type": "code",
   "execution_count": null,
   "id": "29deded5-3cca-4e72-a3c0-82130df4153e",
   "metadata": {},
   "outputs": [],
   "source": [
    "contr = torch.stack([(obs + 0.5)*1.2, ((obs + 0.5)*1.2).roll(-1)], dim=-1)"
   ]
  },
  {
   "cell_type": "code",
   "execution_count": null,
   "id": "d29d81a3-7af8-4e59-96f6-74af9bf8a07e",
   "metadata": {},
   "outputs": [
    {
     "data": {
      "text/plain": [
       "torch.Size([20, 2])"
      ]
     },
     "execution_count": null,
     "metadata": {},
     "output_type": "execute_result"
    }
   ],
   "source": [
    "contr.shape"
   ]
  },
  {
   "cell_type": "code",
   "execution_count": null,
   "id": "ee84077e-4b9a-47df-8960-4f64e82f2c0a",
   "metadata": {},
   "outputs": [
    {
     "data": {
      "text/plain": [
       "[<matplotlib.lines.Line2D>]"
      ]
     },
     "execution_count": null,
     "metadata": {},
     "output_type": "execute_result"
    },
    {
     "data": {
      "image/png": "[encoded data removed]",
      "text/plain": [
       "<Figure size 432x288 with 1 Axes>"
      ]
     },
     "metadata": {
      "needs_background": "light"
     },
     "output_type": "display_data"
    }
   ],
   "source": [
    "plt.plot(contr[:,0])\n",
    "plt.plot(contr[:,1])"
   ]
  },
  {
   "cell_type": "code",
   "execution_count": null,
   "id": "c2825e9f-761d-48a4-b117-495dd74828ae",
   "metadata": {},
   "outputs": [],
   "source": [
    "pred3 = k3.smooth(obs.unsqueeze(0).unsqueeze(-1), mask3, contr.unsqueeze(0))"
   ]
  },
  {
   "cell_type": "code",
   "execution_count": null,
   "id": "b3075113-7dae-4548-a2e2-a64f9c8eb485",
   "metadata": {},
   "outputs": [],
   "source": [
    "pred_df3 = NormalsDf(pd.DataFrame(pred3.mean.squeeze(0), index=time, columns=[\"var\"]),\n",
    "                     pd.DataFrame(pred3.cov.squeeze(0).squeeze(-1), index=time, columns=[\"var\"])).tidy()"
   ]
  },
  {
   "cell_type": "code",
   "execution_count": null,
   "id": "50791905-41e6-44c7-8a1b-223f03adede5",
   "metadata": {},
   "outputs": [],
   "source": [
    "obs_df3 = pd.DataFrame({'time': time, 'var': obs.numpy(),\n",
    "                        'is_present': mask3[0,:,0].numpy()}).melt([\"time\", \"is_present\"]) "
   ]
  },
  {
   "cell_type": "code",
   "execution_count": null,
   "id": "58802fc0-c82d-49a7-9129-f3b3dc9c2e13",
   "metadata": {},
   "outputs": [],
   "source": [
    "plot_df3 = pd.merge(obs_df3, pred_df3, on=['time', 'variable'])"
   ]
  },
  {
   "cell_type": "code",
   "execution_count": null,
   "id": "85654bde-519f-4fb0-90ad-4fd31e16ea77",
   "metadata": {},
   "outputs": [
    {
     "data": {
      "text/html": [
       "\n",
       "<div id=\"altair-viz-6fc6e0e27dbc465e8ec2549bea3e477d\"></div>\n",
       "<script type=\"text/javascript\">\n",
       "  var VEGA_DEBUG = (typeof VEGA_DEBUG == \"undefined\") ? {} : VEGA_DEBUG;\n",
       "  (function(spec, embedOpt){\n",
       "    let outputDiv = document.currentScript.previousElementSibling;\n",
       "    if (outputDiv.id !== \"altair-viz-6fc6e0e27dbc465e8ec2549bea3e477d\") {\n",
       "      outputDiv = document.getElementById(\"altair-viz-6fc6e0e27dbc465e8ec2549bea3e477d\");\n",
       "    }\n",
       "    const paths = {\n",
       "      \"vega\": \"https://cdn.jsdelivr.net/npm//vega@5?noext\",\n",
       "      \"vega-lib\": \"https://cdn.jsdelivr.net/npm//vega-lib?noext\",\n",
       "      \"vega-lite\": \"https://cdn.jsdelivr.net/npm//vega-lite@5.2.0?noext\",\n",
       "      \"vega-embed\": \"https://cdn.jsdelivr.net/npm//vega-embed@6?noext\",\n",
       "    };\n",
       "\n",
       "    function maybeLoadScript(lib, version) {\n",
       "      var key = `${lib.replace(\"-\", \"\")}_version`;\n",
       "      return (VEGA_DEBUG[key] == version) ?\n",
       "        Promise.resolve(paths[lib]) :\n",
       "        new Promise(function(resolve, reject) {\n",
       "          var s = document.createElement('script');\n",
       "          document.getElementsByTagName(\"head\")[0].appendChild(s);\n",
       "          s.async = true;\n",
       "          s.onload = () => {\n",
       "            VEGA_DEBUG[key] = version;\n",
       "            return resolve(paths[lib]);\n",
       "          };\n",
       "          s.onerror = () => reject(`Error loading script: ${paths[lib]}`);\n",
       "          s.src = paths[lib];\n",
       "        });\n",
       "    }\n",
       "\n",
       "    function showError(err) {\n",
       "      outputDiv.innerHTML = `<div class=\"error\" style=\"color:red;\">${err}</div>`;\n",
       "      throw err;\n",
       "    }\n",
       "\n",
       "    function displayChart(vegaEmbed) {\n",
       "      vegaEmbed(outputDiv, spec, embedOpt)\n",
       "        .catch(err => showError(`Javascript Error: ${err.message}<br>This usually means there's a typo in your chart specification. See the javascript console for the full traceback.`));\n",
       "    }\n",
       "\n",
       "    if(typeof define === \"function\" && define.amd) {\n",
       "      requirejs.config({paths});\n",
       "      require([\"vega-embed\"], displayChart, err => showError(`Error loading script: ${err.message}`));\n",
       "    } else {\n",
       "      maybeLoadScript(\"vega\", \"5\")\n",
       "        .then(() => maybeLoadScript(\"vega-lite\", \"5.2.0\"))\n",
       "        .then(() => maybeLoadScript(\"vega-embed\", \"6\"))\n",
       "        .catch(showError)\n",
       "        .then(() => displayChart(vegaEmbed));\n",
       "    }\n",
       "  })({\"config\": {\"view\": {\"continuousWidth\": 400, \"continuousHeight\": 300}}, \"layer\": [{\"mark\": {\"type\": \"point\", \"color\": \"black\", \"fillOpacity\": 1, \"strokeWidth\": 1}, \"encoding\": {\"fill\": {\"field\": \"is_present\", \"legend\": {\"title\": [\"Observed data\"]}, \"scale\": {\"range\": [\"black\", \"#ffffff00\"]}, \"type\": \"nominal\"}, \"shape\": {\"field\": \"is_present\", \"type\": \"nominal\"}, \"x\": {\"axis\": {\"domain\": true, \"labels\": true, \"ticks\": true, \"title\": \"time\"}, \"field\": \"time\", \"type\": \"quantitative\"}, \"y\": {\"field\": \"value\", \"scale\": {\"zero\": false}, \"title\": \"\", \"type\": \"quantitative\"}}}, {\"mark\": \"errorband\", \"encoding\": {\"color\": {\"field\": \"variable\", \"legend\": {\"title\": [\"Line: pred. mean\", \"area: +/- 2 std\"]}, \"type\": \"nominal\"}, \"x\": {\"field\": \"time\", \"type\": \"quantitative\"}, \"y\": {\"field\": \"err_low\", \"scale\": {\"zero\": false}, \"title\": \"\", \"type\": \"quantitative\"}, \"y2\": {\"field\": \"err_high\"}}, \"name\": \"view_4\"}, {\"mark\": \"line\", \"encoding\": {\"color\": {\"field\": \"variable\", \"type\": \"nominal\"}, \"x\": {\"field\": \"time\", \"type\": \"quantitative\"}, \"y\": {\"field\": \"mean\", \"scale\": {\"zero\": false}, \"title\": \"\", \"type\": \"quantitative\"}}}, {\"data\": {\"name\": \"data-50d12b4b49a06754db1631f7cbc696ff\"}, \"mark\": {\"type\": \"line\", \"color\": \"orange\", \"strokeDash\": [6, 3]}, \"encoding\": {\"x\": {\"field\": \"time\", \"type\": \"quantitative\"}, \"y\": {\"field\": \"contr\", \"type\": \"quantitative\"}}}], \"data\": {\"name\": \"data-9891eb9e62cc056deca92f59f7154e45\"}, \"height\": 400, \"params\": [{\"name\": \"param_12\", \"select\": {\"type\": \"interval\"}, \"bind\": \"scales\", \"views\": [\"view_4\"]}], \"title\": \"\", \"width\": 460, \"$schema\": \"https://vega.github.io/schema/vega-lite/v5.2.0.json\", \"datasets\": {\"data-9891eb9e62cc056deca92f59f7154e45\": [{\"time\": 0, \"is_present\": true, \"variable\": \"var\", \"value\": 0.0, \"mean\": 7.447856205544667e-06, \"std\": 0.0010051879798993468, \"err_low\": -0.0020029281731694937, \"err_high\": 0.0020178237464278936}, {\"time\": 1, \"is_present\": true, \"variable\": \"var\", \"value\": 0.6840403079986572, \"mean\": 0.725549042224884, \"std\": 0.14846114814281464, \"err_low\": 0.42862674593925476, \"err_high\": 1.022471308708191}, {\"time\": 2, \"is_present\": true, \"variable\": \"var\", \"value\": 1.285575270652771, \"mean\": 1.3342018127441406, \"std\": 0.1614452749490738, \"err_low\": 1.0113112926483154, \"err_high\": 1.6570923328399658}, {\"time\": 3, \"is_present\": true, \"variable\": \"var\", \"value\": 1.7320507764816284, \"mean\": 1.7732073068618774, \"std\": 0.16258858144283295, \"err_low\": 1.4480301141738892, \"err_high\": 2.098384380340576}, {\"time\": 4, \"is_present\": true, \"variable\": \"var\", \"value\": 1.9696155786514282, \"mean\": 1.995730996131897, \"std\": 0.16268926858901978, \"err_low\": 1.6703524589538574, \"err_high\": 2.3211095333099365}, {\"time\": 5, \"is_present\": true, \"variable\": \"var\", \"value\": 1.9696154594421387, \"mean\": 1.9767038822174072, \"std\": 0.16269829869270325, \"err_low\": 1.6513073444366455, \"err_high\": 2.302100419998169}, {\"time\": 6, \"is_present\": true, \"variable\": \"var\", \"value\": 1.7320507764816284, \"mean\": 1.7187976837158203, \"std\": 0.16270101070404053, \"err_low\": 1.3933956623077393, \"err_high\": 2.0441997051239014}, {\"time\": 7, \"is_present\": true, \"variable\": \"var\", \"value\": 1.2855749130249023, \"mean\": 1.2527319192886353, \"std\": 0.16272304952144623, \"err_low\": 0.9272857904434204, \"err_high\": 1.57817804813385}, {\"time\": 8, \"is_present\": true, \"variable\": \"var\", \"value\": 0.6840400099754333, \"mean\": 0.6329202055931091, \"std\": 0.16297248005867004, \"err_low\": 0.30697524547576904, \"err_high\": 0.9588651657104492}, {\"time\": 9, \"is_present\": true, \"variable\": \"var\", \"value\": -1.7484555314695172e-07, \"mean\": -0.07209327816963196, \"std\": 0.16580480337142944, \"err_low\": -0.40370288491249084, \"err_high\": 0.25951632857322693}, {\"time\": 10, \"is_present\": true, \"variable\": \"var\", \"value\": -0.6840407848358154, \"mean\": -0.7982572913169861, \"std\": 0.1979709416627884, \"err_low\": -1.1941992044448853, \"err_high\": -0.4023154079914093}, {\"time\": 11, \"is_present\": false, \"variable\": \"var\", \"value\": -1.28557550907135, \"mean\": -1.528714656829834, \"std\": 0.5632694363594055, \"err_low\": -2.6552534103393555, \"err_high\": -0.40217578411102295}, {\"time\": 12, \"is_present\": false, \"variable\": \"var\", \"value\": -1.732050895690918, \"mean\": -2.008479118347168, \"std\": 0.7824516892433167, \"err_low\": -3.5733823776245117, \"err_high\": -0.44357573986053467}, {\"time\": 13, \"is_present\": false, \"variable\": \"var\", \"value\": -1.9696155786514282, \"mean\": -2.2031660079956055, \"std\": 0.8555178642272949, \"err_low\": -3.9142017364501953, \"err_high\": -0.4921302795410156}, {\"time\": 14, \"is_present\": false, \"variable\": \"var\", \"value\": -1.9696153402328491, \"mean\": -2.1127755641937256, \"std\": 0.7824678421020508, \"err_low\": -3.677711248397827, \"err_high\": -0.547839879989624}, {\"time\": 15, \"is_present\": false, \"variable\": \"var\", \"value\": -1.732050895690918, \"mean\": -1.7716912031173706, \"std\": 0.5633018016815186, \"err_low\": -2.8982949256896973, \"err_high\": -0.6450875997543335}, {\"time\": 16, \"is_present\": true, \"variable\": \"var\", \"value\": -1.2855747938156128, \"mean\": -1.244536280632019, \"std\": 0.19801956415176392, \"err_low\": -1.6405754089355469, \"err_high\": -0.8484971523284912}, {\"time\": 17, \"is_present\": true, \"variable\": \"var\", \"value\": -0.684039831161499, \"mean\": -0.5499764680862427, \"std\": 0.16619360446929932, \"err_low\": -0.8823636770248413, \"err_high\": -0.21758925914764404}, {\"time\": 18, \"is_present\": true, \"variable\": \"var\", \"value\": 3.4969110629390343e-07, \"mean\": 0.3680267333984375, \"std\": 0.16723814606666565, \"err_low\": 0.0335504412651062, \"err_high\": 0.7025030255317688}, {\"time\": 19, \"is_present\": true, \"variable\": \"var\", \"value\": 0.6840404868125916, \"mean\": 0.25772231817245483, \"std\": 0.21101868152618408, \"err_low\": -0.16431504487991333, \"err_high\": 0.679759681224823}], \"data-50d12b4b49a06754db1631f7cbc696ff\": [{\"contr\": 0.6000000238418579, \"time\": 0, \"col\": \"control\"}, {\"contr\": 1.4208483695983887, \"time\": 1, \"col\": \"control\"}, {\"contr\": 2.142690420150757, \"time\": 2, \"col\": \"control\"}, {\"contr\": 2.6784610748291016, \"time\": 3, \"col\": \"control\"}, {\"contr\": 2.963538646697998, \"time\": 4, \"col\": \"control\"}, {\"contr\": 2.963538646697998, \"time\": 5, \"col\": \"control\"}, {\"contr\": 2.6784610748291016, \"time\": 6, \"col\": \"control\"}, {\"contr\": 2.1426899433135986, \"time\": 7, \"col\": \"control\"}, {\"contr\": 1.4208481311798096, \"time\": 8, \"col\": \"control\"}, {\"contr\": 0.5999997854232788, \"time\": 9, \"col\": \"control\"}, {\"contr\": -0.220848947763443, \"time\": 10, \"col\": \"control\"}, {\"contr\": -0.9426906704902649, \"time\": 11, \"col\": \"control\"}, {\"contr\": -1.4784611463546753, \"time\": 12, \"col\": \"control\"}, {\"contr\": -1.7635387182235718, \"time\": 13, \"col\": \"control\"}, {\"contr\": -1.7635384798049927, \"time\": 14, \"col\": \"control\"}, {\"contr\": -1.4784611463546753, \"time\": 15, \"col\": \"control\"}, {\"contr\": -0.9426897764205933, \"time\": 16, \"col\": \"control\"}, {\"contr\": -0.22084780037403107, \"time\": 17, \"col\": \"control\"}, {\"contr\": 0.6000004410743713, \"time\": 18, \"col\": \"control\"}, {\"contr\": 1.4208487272262573, \"time\": 19, \"col\": \"control\"}]}}, {\"mode\": \"vega-lite\"});\n",
       "</script>"
      ],
      "text/plain": [
       "alt.LayerChart(...)"
      ]
     },
     "execution_count": null,
     "metadata": {},
     "output_type": "execute_result"
    }
   ],
   "source": [
    "p3 = (plot_variable(plot_df3, variable=\"var\", ys=[\"value\", \"mean\"], error=True, gap_area=False, props=plt_props) +\n",
    "alt.Chart(pd.DataFrame({'contr':contr[:,0], 'time': time, 'col': 'control'})).mark_line(strokeDash=[6,3], color='orange').encode(x='time', y='contr'))\n",
    "p3"
   ]
  },
  {
   "cell_type": "code",
   "execution_count": null,
   "id": "d57fa7a8-de4e-485c-ba76-6d1cf1e45198",
   "metadata": {},
   "outputs": [
    {
     "data": {
      "text/plain": [
       "Path('/home/simone/Documents/uni/Thesis/GPFA_imputation/presentations/plots_18_jan/control.vl.json')"
      ]
     },
     "execution_count": null,
     "metadata": {},
     "output_type": "execute_result"
    }
   ],
   "source": [
    "save_plot(p3, \"control\")"
   ]
  },
  {
   "cell_type": "markdown",
   "id": "9cfe67bc-8f31-4462-9536-2b5341a159ee",
   "metadata": {},
   "source": [
    "## Variables correlation"
   ]
  },
  {
   "cell_type": "code",
   "execution_count": null,
   "id": "3e410762-a7c9-4602-b382-4b4ef791ca88",
   "metadata": {},
   "outputs": [],
   "source": [
    "k4 = KalmanFilter(\n",
    "    trans_matrix = torch.tensor([1.]),\n",
    "    obs_matrix = torch.tensor([[.7], [.3]]),        \n",
    "    contr_matrix = torch.tensor([[0.]]),\n",
    "    trans_cov = torch.tensor([[.5]]),\n",
    "    obs_cov = torch.diag(torch.tensor([0.1, 0.1])),\n",
    "    trans_off = torch.tensor([0.]),\n",
    "    obs_off = torch.tensor([0., 0.]),\n",
    "    init_state_mean = torch.tensor([0.]),\n",
    "    init_state_cov = torch.tensor([[0.01]]),\n",
    ")"
   ]
  },
  {
   "cell_type": "code",
   "execution_count": null,
   "id": "7139cd67-8d91-4dc3-9ad3-d799484119b6",
   "metadata": {},
   "outputs": [
    {
     "data": {
      "text/html": [
       "<p style='font-size: 1.5rem; font-decoration: bold'>Kalman Filter (2 obs, 1 state, 1 contr)<p><div style=\"display: flex; column-gap: 20px; flex-wrap: wrap;\" class='table table-striped table-sm'> <div> <p style='font-size: 1.3rem;'>trans matrix (A)</p> <style type=\"text/css\">\n",
       "</style>\n",
       "<table id=\"T_1de52\">\n",
       "  <thead>\n",
       "    <tr>\n",
       "      <th id=\"T_1de52_level0_col0\" class=\"col_heading level0 col0\" >state</th>\n",
       "      <th id=\"T_1de52_level0_col1\" class=\"col_heading level0 col1\" >x_0</th>\n",
       "    </tr>\n",
       "  </thead>\n",
       "  <tbody>\n",
       "    <tr>\n",
       "      <td id=\"T_1de52_row0_col0\" class=\"data row0 col0\" >x_0</td>\n",
       "      <td id=\"T_1de52_row0_col1\" class=\"data row0 col1\" >1.0000</td>\n",
       "    </tr>\n",
       "  </tbody>\n",
       "</table>\n",
       " </div><div> <p style='font-size: 1.3rem;'>trans cov (Q)</p> <style type=\"text/css\">\n",
       "</style>\n",
       "<table id=\"T_e49b6\">\n",
       "  <thead>\n",
       "    <tr>\n",
       "      <th id=\"T_e49b6_level0_col0\" class=\"col_heading level0 col0\" >state</th>\n",
       "      <th id=\"T_e49b6_level0_col1\" class=\"col_heading level0 col1\" >x_0</th>\n",
       "    </tr>\n",
       "  </thead>\n",
       "  <tbody>\n",
       "    <tr>\n",
       "      <td id=\"T_e49b6_row0_col0\" class=\"data row0 col0\" >x_0</td>\n",
       "      <td id=\"T_e49b6_row0_col1\" class=\"data row0 col1\" >0.5000</td>\n",
       "    </tr>\n",
       "  </tbody>\n",
       "</table>\n",
       " </div><div> <p style='font-size: 1.3rem;'>trans off</p> <style type=\"text/css\">\n",
       "</style>\n",
       "<table id=\"T_7caf8\">\n",
       "  <thead>\n",
       "    <tr>\n",
       "      <th id=\"T_7caf8_level0_col0\" class=\"col_heading level0 col0\" >state</th>\n",
       "      <th id=\"T_7caf8_level0_col1\" class=\"col_heading level0 col1\" >offset</th>\n",
       "    </tr>\n",
       "  </thead>\n",
       "  <tbody>\n",
       "    <tr>\n",
       "      <td id=\"T_7caf8_row0_col0\" class=\"data row0 col0\" >x_0</td>\n",
       "      <td id=\"T_7caf8_row0_col1\" class=\"data row0 col1\" >0.0000</td>\n",
       "    </tr>\n",
       "  </tbody>\n",
       "</table>\n",
       " </div><div> <p style='font-size: 1.3rem;'>obs matrix (H)</p> <style type=\"text/css\">\n",
       "</style>\n",
       "<table id=\"T_cf2e4\">\n",
       "  <thead>\n",
       "    <tr>\n",
       "      <th id=\"T_cf2e4_level0_col0\" class=\"col_heading level0 col0\" >variable</th>\n",
       "      <th id=\"T_cf2e4_level0_col1\" class=\"col_heading level0 col1\" >x_0</th>\n",
       "    </tr>\n",
       "  </thead>\n",
       "  <tbody>\n",
       "    <tr>\n",
       "      <td id=\"T_cf2e4_row0_col0\" class=\"data row0 col0\" >y_0</td>\n",
       "      <td id=\"T_cf2e4_row0_col1\" class=\"data row0 col1\" >0.7000</td>\n",
       "    </tr>\n",
       "    <tr>\n",
       "      <td id=\"T_cf2e4_row1_col0\" class=\"data row1 col0\" >y_1</td>\n",
       "      <td id=\"T_cf2e4_row1_col1\" class=\"data row1 col1\" >0.3000</td>\n",
       "    </tr>\n",
       "  </tbody>\n",
       "</table>\n",
       " </div><div> <p style='font-size: 1.3rem;'>obs cov (R)</p> <style type=\"text/css\">\n",
       "</style>\n",
       "<table id=\"T_4594c\">\n",
       "  <thead>\n",
       "    <tr>\n",
       "      <th id=\"T_4594c_level0_col0\" class=\"col_heading level0 col0\" >variable</th>\n",
       "      <th id=\"T_4594c_level0_col1\" class=\"col_heading level0 col1\" >y_0</th>\n",
       "      <th id=\"T_4594c_level0_col2\" class=\"col_heading level0 col2\" >y_1</th>\n",
       "    </tr>\n",
       "  </thead>\n",
       "  <tbody>\n",
       "    <tr>\n",
       "      <td id=\"T_4594c_row0_col0\" class=\"data row0 col0\" >y_0</td>\n",
       "      <td id=\"T_4594c_row0_col1\" class=\"data row0 col1\" >0.1000</td>\n",
       "      <td id=\"T_4594c_row0_col2\" class=\"data row0 col2\" >0.0000</td>\n",
       "    </tr>\n",
       "    <tr>\n",
       "      <td id=\"T_4594c_row1_col0\" class=\"data row1 col0\" >y_1</td>\n",
       "      <td id=\"T_4594c_row1_col1\" class=\"data row1 col1\" >0.0000</td>\n",
       "      <td id=\"T_4594c_row1_col2\" class=\"data row1 col2\" >0.1000</td>\n",
       "    </tr>\n",
       "  </tbody>\n",
       "</table>\n",
       " </div><div> <p style='font-size: 1.3rem;'>obs off</p> <style type=\"text/css\">\n",
       "</style>\n",
       "<table id=\"T_58103\">\n",
       "  <thead>\n",
       "    <tr>\n",
       "      <th id=\"T_58103_level0_col0\" class=\"col_heading level0 col0\" >variable</th>\n",
       "      <th id=\"T_58103_level0_col1\" class=\"col_heading level0 col1\" >offset</th>\n",
       "    </tr>\n",
       "  </thead>\n",
       "  <tbody>\n",
       "    <tr>\n",
       "      <td id=\"T_58103_row0_col0\" class=\"data row0 col0\" >y_0</td>\n",
       "      <td id=\"T_58103_row0_col1\" class=\"data row0 col1\" >0.0000</td>\n",
       "    </tr>\n",
       "    <tr>\n",
       "      <td id=\"T_58103_row1_col0\" class=\"data row1 col0\" >y_1</td>\n",
       "      <td id=\"T_58103_row1_col1\" class=\"data row1 col1\" >0.0000</td>\n",
       "    </tr>\n",
       "  </tbody>\n",
       "</table>\n",
       " </div><div> <p style='font-size: 1.3rem;'>contr matrix (B)</p> <style type=\"text/css\">\n",
       "</style>\n",
       "<table id=\"T_5a5a4\">\n",
       "  <thead>\n",
       "    <tr>\n",
       "      <th id=\"T_5a5a4_level0_col0\" class=\"col_heading level0 col0\" >state</th>\n",
       "      <th id=\"T_5a5a4_level0_col1\" class=\"col_heading level0 col1\" >c_0</th>\n",
       "    </tr>\n",
       "  </thead>\n",
       "  <tbody>\n",
       "    <tr>\n",
       "      <td id=\"T_5a5a4_row0_col0\" class=\"data row0 col0\" >x_0</td>\n",
       "      <td id=\"T_5a5a4_row0_col1\" class=\"data row0 col1\" >0.0000</td>\n",
       "    </tr>\n",
       "  </tbody>\n",
       "</table>\n",
       " </div><div> <p style='font-size: 1.3rem;'>init state mean</p> <style type=\"text/css\">\n",
       "</style>\n",
       "<table id=\"T_34356\">\n",
       "  <thead>\n",
       "    <tr>\n",
       "      <th id=\"T_34356_level0_col0\" class=\"col_heading level0 col0\" >state</th>\n",
       "      <th id=\"T_34356_level0_col1\" class=\"col_heading level0 col1\" >mean</th>\n",
       "    </tr>\n",
       "  </thead>\n",
       "  <tbody>\n",
       "    <tr>\n",
       "      <td id=\"T_34356_row0_col0\" class=\"data row0 col0\" >x_0</td>\n",
       "      <td id=\"T_34356_row0_col1\" class=\"data row0 col1\" >0.0000</td>\n",
       "    </tr>\n",
       "  </tbody>\n",
       "</table>\n",
       " </div><div> <p style='font-size: 1.3rem;'>init state cov</p> <style type=\"text/css\">\n",
       "</style>\n",
       "<table id=\"T_12424\">\n",
       "  <thead>\n",
       "    <tr>\n",
       "      <th id=\"T_12424_level0_col0\" class=\"col_heading level0 col0\" >state</th>\n",
       "      <th id=\"T_12424_level0_col1\" class=\"col_heading level0 col1\" >x_0</th>\n",
       "    </tr>\n",
       "  </thead>\n",
       "  <tbody>\n",
       "    <tr>\n",
       "      <td id=\"T_12424_row0_col0\" class=\"data row0 col0\" >x_0</td>\n",
       "      <td id=\"T_12424_row0_col1\" class=\"data row0 col1\" >0.0100</td>\n",
       "    </tr>\n",
       "  </tbody>\n",
       "</table>\n",
       " </div></div>"
      ],
      "text/plain": [
       "Kalman Filter\n",
       "        N dim obs: 2, N dim state: 1, N dim contr: 1"
      ]
     },
     "execution_count": null,
     "metadata": {},
     "output_type": "execute_result"
    }
   ],
   "source": [
    "k4"
   ]
  },
  {
   "cell_type": "code",
   "execution_count": null,
   "id": "fc45e039-4271-4541-914d-2d9fd32912e2",
   "metadata": {},
   "outputs": [
    {
     "data": {
      "text/plain": [
       "tensor([[[ True,  True],\n",
       "         [ True,  True],\n",
       "         [ True,  True],\n",
       "         [ True,  True],\n",
       "         [ True,  True],\n",
       "         [ True,  True],\n",
       "         [ True,  True],\n",
       "         [ True,  True],\n",
       "         [ True,  True],\n",
       "         [ True,  True],\n",
       "         [ True,  True],\n",
       "         [False,  True],\n",
       "         [False,  True],\n",
       "         [False,  True],\n",
       "         [False,  True],\n",
       "         [False,  True],\n",
       "         [ True,  True],\n",
       "         [ True,  True],\n",
       "         [ True,  True],\n",
       "         [ True,  True]]])"
      ]
     },
     "execution_count": null,
     "metadata": {},
     "output_type": "execute_result"
    }
   ],
   "source": [
    "mask4 = torch.ones(1,n_obs,2, dtype=bool)\n",
    "mask4[0,11:16,0] = False\n",
    "mask4"
   ]
  },
  {
   "cell_type": "code",
   "execution_count": null,
   "id": "dc47f4a1-f44e-49f6-bd96-5e227e98c97d",
   "metadata": {},
   "outputs": [],
   "source": [
    "obs4 = torch.stack([\n",
    "    obs *.7 + torch.randn_like(obs) * .1,\n",
    "    obs *.3 + torch.randn_like(obs) * .1\n",
    "], dim=-1)"
   ]
  },
  {
   "cell_type": "code",
   "execution_count": null,
   "id": "cba310d4-464b-421c-8ab0-b9cf1a1c3f78",
   "metadata": {},
   "outputs": [
    {
     "data": {
      "text/plain": [
       "[<matplotlib.lines.Line2D>]"
      ]
     },
     "execution_count": null,
     "metadata": {},
     "output_type": "execute_result"
    },
    {
     "data": {
      "image/png": "[encoded data removed]",
      "text/plain": [
       "<Figure size 432x288 with 1 Axes>"
      ]
     },
     "metadata": {
      "needs_background": "light"
     },
     "output_type": "display_data"
    }
   ],
   "source": [
    "plt.plot(obs4)\n",
    "plt.plot(obs)"
   ]
  },
  {
   "cell_type": "code",
   "execution_count": null,
   "id": "66e285de-4ea4-4a3b-8ce0-ec2f316ad0df",
   "metadata": {},
   "outputs": [
    {
     "data": {
      "text/plain": [
       "torch.Size([20, 2])"
      ]
     },
     "execution_count": null,
     "metadata": {},
     "output_type": "execute_result"
    }
   ],
   "source": [
    "obs4.shape"
   ]
  },
  {
   "cell_type": "code",
   "execution_count": null,
   "id": "219f8f11-432d-4696-900b-f2e6413c32a2",
   "metadata": {},
   "outputs": [],
   "source": [
    "pred4 = k4.predict(obs4.unsqueeze(0), mask4, torch.zeros(1,n_obs,1))"
   ]
  },
  {
   "cell_type": "code",
   "execution_count": null,
   "id": "d6012037-edc3-4c8e-915a-daaa0bf72b9a",
   "metadata": {},
   "outputs": [],
   "source": [
    "pred_df4 = NormalsDf(pd.DataFrame(pred4.mean.squeeze(0), index=time, columns=[\"var1\", \"var2\"]),\n",
    "                     pd.DataFrame(pred4.std.squeeze(0).squeeze(-1), index=time, columns=[\"var1\", \"var2\"])).tidy()"
   ]
  },
  {
   "cell_type": "code",
   "execution_count": null,
   "id": "9cb37fb8-3a69-42ba-9265-bdfd08f438e7",
   "metadata": {},
   "outputs": [],
   "source": [
    "obs_df4_0 = pd.DataFrame({'time': time, 'var1': obs4[:,0].numpy(),\n",
    "                        'is_present': mask4[0,:,0].numpy()}).melt([\"time\", \"is_present\"]) \n",
    "obs_df4_1 = pd.DataFrame({'time': time, 'var2': obs4[:,1].numpy(),\n",
    "                        'is_present': mask4[0,:,1].numpy()}).melt([\"time\", \"is_present\"]) "
   ]
  },
  {
   "cell_type": "code",
   "execution_count": null,
   "id": "8b431749-4945-460b-9ec7-50b6db9d2af2",
   "metadata": {},
   "outputs": [],
   "source": [
    "obs_df4 = pd.concat([obs_df4_0, obs_df4_1])"
   ]
  },
  {
   "cell_type": "code",
   "execution_count": null,
   "id": "dbdbf57a-d276-427b-a80c-a56a382d303a",
   "metadata": {},
   "outputs": [],
   "source": [
    "plot_df4 = pd.merge(obs_df4, pred_df4, on=['time', 'variable'])"
   ]
  },
  {
   "cell_type": "code",
   "execution_count": null,
   "id": "cd350cd6-6bc1-4477-bebb-6c6e58ac9912",
   "metadata": {},
   "outputs": [
    {
     "data": {
      "text/html": [
       "\n",
       "<div id=\"altair-viz-e958ec2d063e4a3ebdca7e1f12ad0bce\"></div>\n",
       "<script type=\"text/javascript\">\n",
       "  var VEGA_DEBUG = (typeof VEGA_DEBUG == \"undefined\") ? {} : VEGA_DEBUG;\n",
       "  (function(spec, embedOpt){\n",
       "    let outputDiv = document.currentScript.previousElementSibling;\n",
       "    if (outputDiv.id !== \"altair-viz-e958ec2d063e4a3ebdca7e1f12ad0bce\") {\n",
       "      outputDiv = document.getElementById(\"altair-viz-e958ec2d063e4a3ebdca7e1f12ad0bce\");\n",
       "    }\n",
       "    const paths = {\n",
       "      \"vega\": \"https://cdn.jsdelivr.net/npm//vega@5?noext\",\n",
       "      \"vega-lib\": \"https://cdn.jsdelivr.net/npm//vega-lib?noext\",\n",
       "      \"vega-lite\": \"https://cdn.jsdelivr.net/npm//vega-lite@5.2.0?noext\",\n",
       "      \"vega-embed\": \"https://cdn.jsdelivr.net/npm//vega-embed@6?noext\",\n",
       "    };\n",
       "\n",
       "    function maybeLoadScript(lib, version) {\n",
       "      var key = `${lib.replace(\"-\", \"\")}_version`;\n",
       "      return (VEGA_DEBUG[key] == version) ?\n",
       "        Promise.resolve(paths[lib]) :\n",
       "        new Promise(function(resolve, reject) {\n",
       "          var s = document.createElement('script');\n",
       "          document.getElementsByTagName(\"head\")[0].appendChild(s);\n",
       "          s.async = true;\n",
       "          s.onload = () => {\n",
       "            VEGA_DEBUG[key] = version;\n",
       "            return resolve(paths[lib]);\n",
       "          };\n",
       "          s.onerror = () => reject(`Error loading script: ${paths[lib]}`);\n",
       "          s.src = paths[lib];\n",
       "        });\n",
       "    }\n",
       "\n",
       "    function showError(err) {\n",
       "      outputDiv.innerHTML = `<div class=\"error\" style=\"color:red;\">${err}</div>`;\n",
       "      throw err;\n",
       "    }\n",
       "\n",
       "    function displayChart(vegaEmbed) {\n",
       "      vegaEmbed(outputDiv, spec, embedOpt)\n",
       "        .catch(err => showError(`Javascript Error: ${err.message}<br>This usually means there's a typo in your chart specification. See the javascript console for the full traceback.`));\n",
       "    }\n",
       "\n",
       "    if(typeof define === \"function\" && define.amd) {\n",
       "      requirejs.config({paths});\n",
       "      require([\"vega-embed\"], displayChart, err => showError(`Error loading script: ${err.message}`));\n",
       "    } else {\n",
       "      maybeLoadScript(\"vega\", \"5\")\n",
       "        .then(() => maybeLoadScript(\"vega-lite\", \"5.2.0\"))\n",
       "        .then(() => maybeLoadScript(\"vega-embed\", \"6\"))\n",
       "        .catch(showError)\n",
       "        .then(() => displayChart(vegaEmbed));\n",
       "    }\n",
       "  })({\"config\": {\"view\": {\"continuousWidth\": 400, \"continuousHeight\": 300}}, \"vconcat\": [{\"hconcat\": [{\"layer\": [{\"mark\": {\"type\": \"point\", \"color\": \"black\", \"fillOpacity\": 1, \"strokeWidth\": 1}, \"encoding\": {\"fill\": {\"field\": \"is_present\", \"legend\": {\"title\": [\"Observed data\"]}, \"scale\": {\"range\": [\"black\", \"#ffffff00\"]}, \"type\": \"nominal\"}, \"shape\": {\"field\": \"is_present\", \"type\": \"nominal\"}, \"x\": {\"axis\": {\"domain\": true, \"labels\": true, \"ticks\": true, \"title\": \"time\"}, \"field\": \"time\", \"type\": \"quantitative\"}, \"y\": {\"field\": \"value\", \"scale\": {\"zero\": false}, \"title\": \"\", \"type\": \"quantitative\"}}}, {\"mark\": \"errorband\", \"encoding\": {\"color\": {\"field\": \"variable\", \"legend\": {\"title\": [\"Line: pred. mean\", \"area: +/- 2 std\"]}, \"type\": \"nominal\"}, \"x\": {\"field\": \"time\", \"type\": \"quantitative\"}, \"y\": {\"field\": \"err_low\", \"scale\": {\"zero\": false}, \"title\": \"\", \"type\": \"quantitative\"}, \"y2\": {\"field\": \"err_high\"}}, \"name\": \"view_11\"}, {\"mark\": \"line\", \"encoding\": {\"color\": {\"field\": \"variable\", \"type\": \"nominal\"}, \"x\": {\"field\": \"time\", \"type\": \"quantitative\"}, \"y\": {\"field\": \"mean\", \"scale\": {\"zero\": false}, \"title\": \"\", \"type\": \"quantitative\"}}}], \"height\": 220, \"title\": \"\", \"width\": 350}], \"data\": {\"name\": \"data-96693a5ed033895179766c89b388d09e\"}}, {\"hconcat\": [{\"layer\": [{\"mark\": {\"type\": \"point\", \"color\": \"black\", \"fillOpacity\": 1, \"strokeWidth\": 1}, \"encoding\": {\"fill\": {\"field\": \"is_present\", \"legend\": {\"title\": [\"Observed data\"]}, \"scale\": {\"range\": [\"black\", \"#ffffff00\"]}, \"type\": \"nominal\"}, \"shape\": {\"field\": \"is_present\", \"type\": \"nominal\"}, \"x\": {\"axis\": {\"domain\": true, \"labels\": true, \"ticks\": true, \"title\": \"time\"}, \"field\": \"time\", \"type\": \"quantitative\"}, \"y\": {\"field\": \"value\", \"scale\": {\"zero\": false}, \"title\": \"\", \"type\": \"quantitative\"}}}, {\"mark\": \"errorband\", \"encoding\": {\"color\": {\"field\": \"variable\", \"legend\": {\"title\": [\"Line: pred. mean\", \"area: +/- 2 std\"]}, \"type\": \"nominal\"}, \"x\": {\"field\": \"time\", \"type\": \"quantitative\"}, \"y\": {\"field\": \"err_low\", \"scale\": {\"zero\": false}, \"title\": \"\", \"type\": \"quantitative\"}, \"y2\": {\"field\": \"err_high\"}}, \"name\": \"view_12\"}, {\"mark\": \"line\", \"encoding\": {\"color\": {\"field\": \"variable\", \"type\": \"nominal\"}, \"x\": {\"field\": \"time\", \"type\": \"quantitative\"}, \"y\": {\"field\": \"mean\", \"scale\": {\"zero\": false}, \"title\": \"\", \"type\": \"quantitative\"}}}], \"height\": 220, \"title\": \"\", \"width\": 350}], \"data\": {\"name\": \"data-4260d9303125433a67a5ac2ca527a441\"}}], \"params\": [{\"name\": \"param_22\", \"select\": {\"type\": \"interval\", \"encodings\": [\"x\"]}, \"bind\": \"scales\", \"views\": [\"view_11\", \"view_12\"]}], \"$schema\": \"https://vega.github.io/schema/vega-lite/v5.2.0.json\", \"datasets\": {\"data-96693a5ed033895179766c89b388d09e\": [{\"time\": 0, \"is_present\": true, \"variable\": \"var1\", \"value\": -0.027705306187272072, \"mean\": 0.004226009361445904, \"std\": 0.3233693838119507, \"err_low\": -0.6425127387046814, \"err_high\": 0.6509647965431213}, {\"time\": 1, \"is_present\": true, \"variable\": \"var1\", \"value\": 0.41556239128112793, \"mean\": 0.40915054082870483, \"std\": 0.39049291610717773, \"err_low\": -0.37183529138565063, \"err_high\": 1.190136432647705}, {\"time\": 2, \"is_present\": true, \"variable\": \"var1\", \"value\": 0.8574529886245728, \"mean\": 0.8175967931747437, \"std\": 0.39327627420425415, \"err_low\": 0.03104424476623535, \"err_high\": 1.604149341583252}, {\"time\": 3, \"is_present\": true, \"variable\": \"var1\", \"value\": 1.3694863319396973, \"mean\": 1.2320034503936768, \"std\": 0.3934025168418884, \"err_low\": 0.4451984167098999, \"err_high\": 2.018808364868164}, {\"time\": 4, \"is_present\": true, \"variable\": \"var1\", \"value\": 1.41446053981781, \"mean\": 1.3258157968521118, \"std\": 0.39340826869010925, \"err_low\": 0.5389992594718933, \"err_high\": 2.1126322746276855}, {\"time\": 5, \"is_present\": true, \"variable\": \"var1\", \"value\": 1.3872345685958862, \"mean\": 1.2661877870559692, \"std\": 0.39340850710868835, \"err_low\": 0.47937077283859253, \"err_high\": 2.053004741668701}, {\"time\": 6, \"is_present\": true, \"variable\": \"var1\", \"value\": 1.1523652076721191, \"mean\": 1.0847059488296509, \"std\": 0.39340853691101074, \"err_low\": 0.2978888750076294, \"err_high\": 1.8715230226516724}, {\"time\": 7, \"is_present\": true, \"variable\": \"var1\", \"value\": 0.7205492854118347, \"mean\": 0.7407701015472412, \"std\": 0.39340901374816895, \"err_low\": -0.04604792594909668, \"err_high\": 1.527588129043579}, {\"time\": 8, \"is_present\": true, \"variable\": \"var1\", \"value\": 0.31297916173934937, \"mean\": 0.3478309214115143, \"std\": 0.3934190273284912, \"err_low\": -0.43900713324546814, \"err_high\": 1.1346689462661743}, {\"time\": 9, \"is_present\": true, \"variable\": \"var1\", \"value\": 0.09538229554891586, \"mean\": 0.011674655601382256, \"std\": 0.39363932609558105, \"err_low\": -0.7756040096282959, \"err_high\": 0.7989532947540283}, {\"time\": 10, \"is_present\": true, \"variable\": \"var1\", \"value\": -0.5881159901618958, \"mean\": -0.4928966760635376, \"std\": 0.3984470069408417, \"err_low\": -1.2897906303405762, \"err_high\": 0.30399733781814575}, {\"time\": 11, \"is_present\": false, \"variable\": \"var1\", \"value\": -0.9170175194740295, \"mean\": -0.7308588624000549, \"std\": 0.49234652519226074, \"err_low\": -1.7155518531799316, \"err_high\": 0.25383418798446655}, {\"time\": 12, \"is_present\": false, \"variable\": \"var1\", \"value\": -1.127160906791687, \"mean\": -0.9659720063209534, \"std\": 0.5142000317573547, \"err_low\": -1.9943721294403076, \"err_high\": 0.062428057193756104}, {\"time\": 13, \"is_present\": false, \"variable\": \"var1\", \"value\": -1.4307022094726562, \"mean\": -1.0667270421981812, \"std\": 0.5184580683708191, \"err_low\": -2.1036431789398193, \"err_high\": -0.02981090545654297}, {\"time\": 14, \"is_present\": false, \"variable\": \"var1\", \"value\": -1.2414228916168213, \"mean\": -1.0495829582214355, \"std\": 0.5142000913619995, \"err_low\": -2.0779831409454346, \"err_high\": -0.021182775497436523}, {\"time\": 15, \"is_present\": false, \"variable\": \"var1\", \"value\": -1.093171238899231, \"mean\": -0.9422032833099365, \"std\": 0.492346853017807, \"err_low\": -1.9268970489501953, \"err_high\": 0.04249042272567749}, {\"time\": 16, \"is_present\": true, \"variable\": \"var1\", \"value\": -0.7959848046302795, \"mean\": -0.7728819847106934, \"std\": 0.3984486162662506, \"err_low\": -1.5697791576385498, \"err_high\": 0.02401524782180786}, {\"time\": 17, \"is_present\": true, \"variable\": \"var1\", \"value\": -0.6233628392219543, \"mean\": -0.5213772654533386, \"std\": 0.39367029070854187, \"err_low\": -1.3087178468704224, \"err_high\": 0.2659633159637451}, {\"time\": 18, \"is_present\": true, \"variable\": \"var1\", \"value\": -0.0829683169722557, \"mean\": -0.036336757242679596, \"std\": 0.394094854593277, \"err_low\": -0.8245264887809753, \"err_high\": 0.7518529295921326}, {\"time\": 19, \"is_present\": true, \"variable\": \"var1\", \"value\": 0.4574930667877197, \"mean\": 0.3044125735759735, \"std\": 0.4079916477203369, \"err_low\": -0.5115706920623779, \"err_high\": 1.1203958988189697}], \"data-4260d9303125433a67a5ac2ca527a441\": [{\"time\": 0, \"is_present\": true, \"variable\": \"var2\", \"value\": -0.10827969759702682, \"mean\": 0.0018111468525603414, \"std\": 0.31755152344703674, \"err_low\": -0.6332919001579285, \"err_high\": 0.6369141936302185}, {\"time\": 1, \"is_present\": true, \"variable\": \"var2\", \"value\": 0.157035231590271, \"mean\": 0.17535024881362915, \"std\": 0.3311193883419037, \"err_low\": -0.4868885278701782, \"err_high\": 0.8375890254974365}, {\"time\": 2, \"is_present\": true, \"variable\": \"var2\", \"value\": 0.2517245411872864, \"mean\": 0.3503986597061157, \"std\": 0.3317238688468933, \"err_low\": -0.3130490779876709, \"err_high\": 1.0138463973999023}, {\"time\": 3, \"is_present\": true, \"variable\": \"var2\", \"value\": 0.5125300884246826, \"mean\": 0.5280015468597412, \"std\": 0.33175137639045715, \"err_low\": -0.1355012059211731, \"err_high\": 1.1915042400360107}, {\"time\": 4, \"is_present\": true, \"variable\": \"var2\", \"value\": 0.5074997544288635, \"mean\": 0.568206787109375, \"std\": 0.33175262808799744, \"err_low\": -0.09529846906661987, \"err_high\": 1.2317121028900146}, {\"time\": 5, \"is_present\": true, \"variable\": \"var2\", \"value\": 0.3762587308883667, \"mean\": 0.5426519513130188, \"std\": 0.3317526876926422, \"err_low\": -0.12085342407226562, \"err_high\": 1.2061573266983032}, {\"time\": 6, \"is_present\": true, \"variable\": \"var2\", \"value\": 0.46171730756759644, \"mean\": 0.4648739993572235, \"std\": 0.3317526876926422, \"err_low\": -0.1986313760280609, \"err_high\": 1.1283793449401855}, {\"time\": 7, \"is_present\": true, \"variable\": \"var2\", \"value\": 0.4113236367702484, \"mean\": 0.3174729347229004, \"std\": 0.3317527770996094, \"err_low\": -0.34603261947631836, \"err_high\": 0.9809784889221191}, {\"time\": 8, \"is_present\": true, \"variable\": \"var2\", \"value\": 0.17631326615810394, \"mean\": 0.1490703970193863, \"std\": 0.33175498247146606, \"err_low\": -0.514439582824707, \"err_high\": 0.8125803470611572}, {\"time\": 9, \"is_present\": true, \"variable\": \"var2\", \"value\": -0.02992239221930504, \"mean\": 0.005003424361348152, \"std\": 0.33180296421051025, \"err_low\": -0.6586024761199951, \"err_high\": 0.6686093807220459}, {\"time\": 10, \"is_present\": true, \"variable\": \"var2\", \"value\": -0.2429715394973755, \"mean\": -0.2112414389848709, \"std\": 0.33285531401634216, \"err_low\": -0.876952052116394, \"err_high\": 0.4544692039489746}, {\"time\": 11, \"is_present\": true, \"variable\": \"var2\", \"value\": -0.31593841314315796, \"mean\": -0.31322523951530457, \"std\": 0.35518449544906616, \"err_low\": -1.0235942602157593, \"err_high\": 0.39714375138282776}, {\"time\": 12, \"is_present\": true, \"variable\": \"var2\", \"value\": -0.5419456958770752, \"mean\": -0.41398802399635315, \"std\": 0.36082711815834045, \"err_low\": -1.1356422901153564, \"err_high\": 0.30766621232032776}, {\"time\": 13, \"is_present\": true, \"variable\": \"var2\", \"value\": -0.5694512128829956, \"mean\": -0.45716872811317444, \"std\": 0.3619445264339447, \"err_low\": -1.1810578107833862, \"err_high\": 0.26672032475471497}, {\"time\": 14, \"is_present\": true, \"variable\": \"var2\", \"value\": -0.5357581377029419, \"mean\": -0.44982126355171204, \"std\": 0.36082714796066284, \"err_low\": -1.1714755296707153, \"err_high\": 0.27183303236961365}, {\"time\": 15, \"is_present\": true, \"variable\": \"var2\", \"value\": -0.46279239654541016, \"mean\": -0.40380144119262695, \"std\": 0.3551845848560333, \"err_low\": -1.1141705513000488, \"err_high\": 0.3065677285194397}, {\"time\": 16, \"is_present\": true, \"variable\": \"var2\", \"value\": -0.355596661567688, \"mean\": -0.3312351703643799, \"std\": 0.3328556716442108, \"err_low\": -0.9969465136528015, \"err_high\": 0.33447617292404175}, {\"time\": 17, \"is_present\": true, \"variable\": \"var2\", \"value\": -0.207891583442688, \"mean\": -0.22344739735126495, \"std\": 0.3318096995353699, \"err_low\": -0.8870667815208435, \"err_high\": 0.440172016620636}, {\"time\": 18, \"is_present\": true, \"variable\": \"var2\", \"value\": 0.23065119981765747, \"mean\": -0.015572897158563137, \"std\": 0.33190226554870605, \"err_low\": -0.6793774366378784, \"err_high\": 0.6482316255569458}, {\"time\": 19, \"is_present\": true, \"variable\": \"var2\", \"value\": 0.09779148548841476, \"mean\": 0.13046254217624664, \"std\": 0.3349722623825073, \"err_low\": -0.5394819974899292, \"err_high\": 0.8004070520401001}]}}, {\"mode\": \"vega-lite\"});\n",
       "</script>"
      ],
      "text/plain": [
       "alt.VConcatChart(...)"
      ]
     },
     "execution_count": null,
     "metadata": {},
     "output_type": "execute_result"
    }
   ],
   "source": [
    "p4 = facet_variable(plot_df4, ys=[\"value\", \"mean\"], error=True, gap_area=False, props={'width': 350, 'height': 220}, n_cols=1)\n",
    "p4"
   ]
  },
  {
   "cell_type": "code",
   "execution_count": null,
   "id": "6f54a41c-4bc0-462a-8d2c-944bf1fa2af8",
   "metadata": {},
   "outputs": [
    {
     "data": {
      "text/plain": [
       "Path('/home/simone/Documents/uni/Thesis/GPFA_imputation/presentations/plots_18_jan/var_corr.vl.json')"
      ]
     },
     "execution_count": null,
     "metadata": {},
     "output_type": "execute_result"
    }
   ],
   "source": [
    "save_plot(p4, \"var_corr\")"
   ]
  },
  {
   "cell_type": "code",
   "execution_count": null,
   "id": "44085460-05d0-40b0-bd2d-16010698e553",
   "metadata": {},
   "outputs": [
    {
     "data": {
      "text/plain": [
       "tensor([[[ True,  True],\n",
       "         [ True,  True],\n",
       "         [ True,  True],\n",
       "         [ True,  True],\n",
       "         [ True,  True],\n",
       "         [ True,  True],\n",
       "         [ True,  True],\n",
       "         [ True,  True],\n",
       "         [ True,  True],\n",
       "         [ True,  True],\n",
       "         [ True,  True],\n",
       "         [False, False],\n",
       "         [False, False],\n",
       "         [False, False],\n",
       "         [False, False],\n",
       "         [False, False],\n",
       "         [ True,  True],\n",
       "         [ True,  True],\n",
       "         [ True,  True],\n",
       "         [ True,  True]]])"
      ]
     },
     "execution_count": null,
     "metadata": {},
     "output_type": "execute_result"
    }
   ],
   "source": [
    "mask5 = torch.ones(1,n_obs,2, dtype=bool)\n",
    "mask5[0,11:16,:] = False\n",
    "mask5"
   ]
  },
  {
   "cell_type": "code",
   "execution_count": null,
   "id": "7dfb24fd-244c-49a3-b089-e6820e71c29a",
   "metadata": {},
   "outputs": [],
   "source": [
    "pred5 = k4.predict(obs4.unsqueeze(0), mask5, torch.zeros(1,n_obs,1))"
   ]
  },
  {
   "cell_type": "code",
   "execution_count": null,
   "id": "db5a0695-3e07-46f2-a41a-24689e31e95a",
   "metadata": {},
   "outputs": [],
   "source": [
    "pred_df5 = NormalsDf(pd.DataFrame(pred5.mean.squeeze(0), index=time, columns=[\"var1\", \"var2\"]),\n",
    "                     pd.DataFrame(pred5.std.squeeze(0).squeeze(-1), index=time, columns=[\"var1\", \"var2\"])).tidy()"
   ]
  },
  {
   "cell_type": "code",
   "execution_count": null,
   "id": "4a8828c8-273b-4223-b1bb-0ee6c1ee9ef3",
   "metadata": {},
   "outputs": [],
   "source": [
    "obs_df5_0 = pd.DataFrame({'time': time, 'var1': obs4[:,0].numpy(),\n",
    "                        'is_present': mask5[0,:,0].numpy()}).melt([\"time\", \"is_present\"]) \n",
    "obs_df5_1 = pd.DataFrame({'time': time, 'var2': obs4[:,1].numpy(),\n",
    "                        'is_present': mask5[0,:,1].numpy()}).melt([\"time\", \"is_present\"]) "
   ]
  },
  {
   "cell_type": "code",
   "execution_count": null,
   "id": "2113dc6f-9c05-4172-9bc5-ad88c96bc77a",
   "metadata": {},
   "outputs": [],
   "source": [
    "obs_df5 = pd.concat([obs_df5_0, obs_df5_1])"
   ]
  },
  {
   "cell_type": "code",
   "execution_count": null,
   "id": "119e7b88-06f5-44e1-92ae-53ae920def81",
   "metadata": {},
   "outputs": [],
   "source": [
    "plot_df5 = pd.merge(obs_df4, pred_df5, on=['time', 'variable'])"
   ]
  },
  {
   "cell_type": "code",
   "execution_count": null,
   "id": "d6feeb76-7e66-41a9-b6b3-d2c20dfcad98",
   "metadata": {},
   "outputs": [
    {
     "data": {
      "text/html": [
       "\n",
       "<div id=\"altair-viz-ea2cba2e431347d584755c4425b7603f\"></div>\n",
       "<script type=\"text/javascript\">\n",
       "  var VEGA_DEBUG = (typeof VEGA_DEBUG == \"undefined\") ? {} : VEGA_DEBUG;\n",
       "  (function(spec, embedOpt){\n",
       "    let outputDiv = document.currentScript.previousElementSibling;\n",
       "    if (outputDiv.id !== \"altair-viz-ea2cba2e431347d584755c4425b7603f\") {\n",
       "      outputDiv = document.getElementById(\"altair-viz-ea2cba2e431347d584755c4425b7603f\");\n",
       "    }\n",
       "    const paths = {\n",
       "      \"vega\": \"https://cdn.jsdelivr.net/npm//vega@5?noext\",\n",
       "      \"vega-lib\": \"https://cdn.jsdelivr.net/npm//vega-lib?noext\",\n",
       "      \"vega-lite\": \"https://cdn.jsdelivr.net/npm//vega-lite@5.2.0?noext\",\n",
       "      \"vega-embed\": \"https://cdn.jsdelivr.net/npm//vega-embed@6?noext\",\n",
       "    };\n",
       "\n",
       "    function maybeLoadScript(lib, version) {\n",
       "      var key = `${lib.replace(\"-\", \"\")}_version`;\n",
       "      return (VEGA_DEBUG[key] == version) ?\n",
       "        Promise.resolve(paths[lib]) :\n",
       "        new Promise(function(resolve, reject) {\n",
       "          var s = document.createElement('script');\n",
       "          document.getElementsByTagName(\"head\")[0].appendChild(s);\n",
       "          s.async = true;\n",
       "          s.onload = () => {\n",
       "            VEGA_DEBUG[key] = version;\n",
       "            return resolve(paths[lib]);\n",
       "          };\n",
       "          s.onerror = () => reject(`Error loading script: ${paths[lib]}`);\n",
       "          s.src = paths[lib];\n",
       "        });\n",
       "    }\n",
       "\n",
       "    function showError(err) {\n",
       "      outputDiv.innerHTML = `<div class=\"error\" style=\"color:red;\">${err}</div>`;\n",
       "      throw err;\n",
       "    }\n",
       "\n",
       "    function displayChart(vegaEmbed) {\n",
       "      vegaEmbed(outputDiv, spec, embedOpt)\n",
       "        .catch(err => showError(`Javascript Error: ${err.message}<br>This usually means there's a typo in your chart specification. See the javascript console for the full traceback.`));\n",
       "    }\n",
       "\n",
       "    if(typeof define === \"function\" && define.amd) {\n",
       "      requirejs.config({paths});\n",
       "      require([\"vega-embed\"], displayChart, err => showError(`Error loading script: ${err.message}`));\n",
       "    } else {\n",
       "      maybeLoadScript(\"vega\", \"5\")\n",
       "        .then(() => maybeLoadScript(\"vega-lite\", \"5.2.0\"))\n",
       "        .then(() => maybeLoadScript(\"vega-embed\", \"6\"))\n",
       "        .catch(showError)\n",
       "        .then(() => displayChart(vegaEmbed));\n",
       "    }\n",
       "  })({\"config\": {\"view\": {\"continuousWidth\": 400, \"continuousHeight\": 300}}, \"vconcat\": [{\"hconcat\": [{\"layer\": [{\"mark\": {\"type\": \"point\", \"color\": \"black\", \"fillOpacity\": 1, \"strokeWidth\": 1}, \"encoding\": {\"fill\": {\"field\": \"is_present\", \"legend\": {\"title\": [\"Observed data\"]}, \"scale\": {\"range\": [\"black\", \"#ffffff00\"]}, \"type\": \"nominal\"}, \"shape\": {\"field\": \"is_present\", \"type\": \"nominal\"}, \"x\": {\"axis\": {\"domain\": true, \"labels\": true, \"ticks\": true, \"title\": \"time\"}, \"field\": \"time\", \"type\": \"quantitative\"}, \"y\": {\"field\": \"value\", \"scale\": {\"zero\": false}, \"title\": \"\", \"type\": \"quantitative\"}}}, {\"mark\": \"errorband\", \"encoding\": {\"color\": {\"field\": \"variable\", \"legend\": {\"title\": [\"Line: pred. mean\", \"area: +/- 2 std\"]}, \"type\": \"nominal\"}, \"x\": {\"field\": \"time\", \"type\": \"quantitative\"}, \"y\": {\"field\": \"err_low\", \"scale\": {\"zero\": false}, \"title\": \"\", \"type\": \"quantitative\"}, \"y2\": {\"field\": \"err_high\"}}, \"name\": \"view_13\"}, {\"mark\": \"line\", \"encoding\": {\"color\": {\"field\": \"variable\", \"type\": \"nominal\"}, \"x\": {\"field\": \"time\", \"type\": \"quantitative\"}, \"y\": {\"field\": \"mean\", \"scale\": {\"zero\": false}, \"title\": \"\", \"type\": \"quantitative\"}}}], \"height\": 220, \"title\": \"\", \"width\": 350}], \"data\": {\"name\": \"data-82974c3d5c753f9cedd8d587e812f122\"}}, {\"hconcat\": [{\"layer\": [{\"mark\": {\"type\": \"point\", \"color\": \"black\", \"fillOpacity\": 1, \"strokeWidth\": 1}, \"encoding\": {\"fill\": {\"field\": \"is_present\", \"legend\": {\"title\": [\"Observed data\"]}, \"scale\": {\"range\": [\"black\", \"#ffffff00\"]}, \"type\": \"nominal\"}, \"shape\": {\"field\": \"is_present\", \"type\": \"nominal\"}, \"x\": {\"axis\": {\"domain\": true, \"labels\": true, \"ticks\": true, \"title\": \"time\"}, \"field\": \"time\", \"type\": \"quantitative\"}, \"y\": {\"field\": \"value\", \"scale\": {\"zero\": false}, \"title\": \"\", \"type\": \"quantitative\"}}}, {\"mark\": \"errorband\", \"encoding\": {\"color\": {\"field\": \"variable\", \"legend\": {\"title\": [\"Line: pred. mean\", \"area: +/- 2 std\"]}, \"type\": \"nominal\"}, \"x\": {\"field\": \"time\", \"type\": \"quantitative\"}, \"y\": {\"field\": \"err_low\", \"scale\": {\"zero\": false}, \"title\": \"\", \"type\": \"quantitative\"}, \"y2\": {\"field\": \"err_high\"}}, \"name\": \"view_14\"}, {\"mark\": \"line\", \"encoding\": {\"color\": {\"field\": \"variable\", \"type\": \"nominal\"}, \"x\": {\"field\": \"time\", \"type\": \"quantitative\"}, \"y\": {\"field\": \"mean\", \"scale\": {\"zero\": false}, \"title\": \"\", \"type\": \"quantitative\"}}}], \"height\": 220, \"title\": \"\", \"width\": 350}], \"data\": {\"name\": \"data-8da81a0df5bca7b93210fd844a165078\"}}], \"params\": [{\"name\": \"param_25\", \"select\": {\"type\": \"interval\", \"encodings\": [\"x\"]}, \"bind\": \"scales\", \"views\": [\"view_13\", \"view_14\"]}], \"$schema\": \"https://vega.github.io/schema/vega-lite/v5.2.0.json\", \"datasets\": {\"data-82974c3d5c753f9cedd8d587e812f122\": [{\"time\": 0, \"is_present\": true, \"variable\": \"var1\", \"value\": -0.027705306187272072, \"mean\": 0.004226009827107191, \"std\": 0.3233693838119507, \"err_low\": -0.6425127387046814, \"err_high\": 0.6509647965431213}, {\"time\": 1, \"is_present\": true, \"variable\": \"var1\", \"value\": 0.41556239128112793, \"mean\": 0.4091506004333496, \"std\": 0.39049291610717773, \"err_low\": -0.37183523178100586, \"err_high\": 1.190136432647705}, {\"time\": 2, \"is_present\": true, \"variable\": \"var1\", \"value\": 0.8574529886245728, \"mean\": 0.8175970315933228, \"std\": 0.39327627420425415, \"err_low\": 0.031044483184814453, \"err_high\": 1.604149580001831}, {\"time\": 3, \"is_present\": true, \"variable\": \"var1\", \"value\": 1.3694863319396973, \"mean\": 1.2320045232772827, \"std\": 0.3934025168418884, \"err_low\": 0.44519948959350586, \"err_high\": 2.0188095569610596}, {\"time\": 4, \"is_present\": true, \"variable\": \"var1\", \"value\": 1.41446053981781, \"mean\": 1.3258206844329834, \"std\": 0.39340826869010925, \"err_low\": 0.5390041470527649, \"err_high\": 2.1126372814178467}, {\"time\": 5, \"is_present\": true, \"variable\": \"var1\", \"value\": 1.3872345685958862, \"mean\": 1.266210913658142, \"std\": 0.39340850710868835, \"err_low\": 0.4793938994407654, \"err_high\": 2.053027868270874}, {\"time\": 6, \"is_present\": true, \"variable\": \"var1\", \"value\": 1.1523652076721191, \"mean\": 1.0848140716552734, \"std\": 0.3934085965156555, \"err_low\": 0.2979968786239624, \"err_high\": 1.8716312646865845}, {\"time\": 7, \"is_present\": true, \"variable\": \"var1\", \"value\": 0.7205492854118347, \"mean\": 0.7412768006324768, \"std\": 0.3934096097946167, \"err_low\": -0.04554241895675659, \"err_high\": 1.5280959606170654}, {\"time\": 8, \"is_present\": true, \"variable\": \"var1\", \"value\": 0.31297916173934937, \"mean\": 0.3502058982849121, \"std\": 0.39343205094337463, \"err_low\": -0.43665820360183716, \"err_high\": 1.1370699405670166}, {\"time\": 9, \"is_present\": true, \"variable\": \"var1\", \"value\": 0.09538229554891586, \"mean\": 0.02280544862151146, \"std\": 0.3939249515533447, \"err_low\": -0.7650444507598877, \"err_high\": 0.8106553554534912}, {\"time\": 10, \"is_present\": true, \"variable\": \"var1\", \"value\": -0.5881159901618958, \"mean\": -0.44073012471199036, \"std\": 0.4046002924442291, \"err_low\": -1.249930739402771, \"err_high\": 0.3684704601764679}, {\"time\": 11, \"is_present\": false, \"variable\": \"var1\", \"value\": -0.9170175194740295, \"mean\": -0.48637059330940247, \"std\": 0.5924041271209717, \"err_low\": -1.6711788177490234, \"err_high\": 0.6984376907348633}, {\"time\": 12, \"is_present\": false, \"variable\": \"var1\", \"value\": -1.127160906791687, \"mean\": -0.532011091709137, \"std\": 0.6806523203849792, \"err_low\": -1.8933157920837402, \"err_high\": 0.8292935490608215}, {\"time\": 13, \"is_present\": false, \"variable\": \"var1\", \"value\": -1.4307022094726562, \"mean\": -0.5776515603065491, \"std\": 0.70762699842453, \"err_low\": -1.992905616760254, \"err_high\": 0.837602436542511}, {\"time\": 14, \"is_present\": false, \"variable\": \"var1\", \"value\": -1.2414228916168213, \"mean\": -0.6232920289039612, \"std\": 0.6806526184082031, \"err_low\": -1.9845972061157227, \"err_high\": 0.7380132079124451}, {\"time\": 15, \"is_present\": false, \"variable\": \"var1\", \"value\": -1.093171238899231, \"mean\": -0.6689324975013733, \"std\": 0.5924049019813538, \"err_low\": -1.8537423610687256, \"err_high\": 0.5158773064613342}, {\"time\": 16, \"is_present\": true, \"variable\": \"var1\", \"value\": -0.7959848046302795, \"mean\": -0.7145730257034302, \"std\": 0.40460205078125, \"err_low\": -1.5237771272659302, \"err_high\": 0.09463107585906982}, {\"time\": 17, \"is_present\": true, \"variable\": \"var1\", \"value\": -0.6233628392219543, \"mean\": -0.5089306831359863, \"std\": 0.39395612478256226, \"err_low\": -1.2968429327011108, \"err_high\": 0.2789815664291382}, {\"time\": 18, \"is_present\": true, \"variable\": \"var1\", \"value\": -0.0829683169722557, \"mean\": -0.03365649655461311, \"std\": 0.3941081166267395, \"err_low\": -0.8218727111816406, \"err_high\": 0.7545597553253174}, {\"time\": 19, \"is_present\": true, \"variable\": \"var1\", \"value\": 0.4574930667877197, \"mean\": 0.30509981513023376, \"std\": 0.40799248218536377, \"err_low\": -0.5108851194381714, \"err_high\": 1.1210848093032837}], \"data-8da81a0df5bca7b93210fd844a165078\": [{\"time\": 0, \"is_present\": true, \"variable\": \"var2\", \"value\": -0.10827969759702682, \"mean\": 0.0018111472018063068, \"std\": 0.31755152344703674, \"err_low\": -0.6332919001579285, \"err_high\": 0.6369141936302185}, {\"time\": 1, \"is_present\": true, \"variable\": \"var2\", \"value\": 0.157035231590271, \"mean\": 0.17535026371479034, \"std\": 0.3311193883419037, \"err_low\": -0.4868885278701782, \"err_high\": 0.8375890254974365}, {\"time\": 2, \"is_present\": true, \"variable\": \"var2\", \"value\": 0.2517245411872864, \"mean\": 0.3503987491130829, \"std\": 0.3317238688468933, \"err_low\": -0.31304898858070374, \"err_high\": 1.013846516609192}, {\"time\": 3, \"is_present\": true, \"variable\": \"var2\", \"value\": 0.5125300884246826, \"mean\": 0.5280019640922546, \"std\": 0.33175137639045715, \"err_low\": -0.13550078868865967, \"err_high\": 1.191504716873169}, {\"time\": 4, \"is_present\": true, \"variable\": \"var2\", \"value\": 0.5074997544288635, \"mean\": 0.5682089328765869, \"std\": 0.33175262808799744, \"err_low\": -0.09529632329940796, \"err_high\": 1.2317142486572266}, {\"time\": 5, \"is_present\": true, \"variable\": \"var2\", \"value\": 0.3762587308883667, \"mean\": 0.5426618456840515, \"std\": 0.3317526876926422, \"err_low\": -0.12084352970123291, \"err_high\": 1.206167221069336}, {\"time\": 6, \"is_present\": true, \"variable\": \"var2\", \"value\": 0.46171730756759644, \"mean\": 0.464920312166214, \"std\": 0.3317526876926422, \"err_low\": -0.19858506321907043, \"err_high\": 1.1284257173538208}, {\"time\": 7, \"is_present\": true, \"variable\": \"var2\", \"value\": 0.4113236367702484, \"mean\": 0.31769007444381714, \"std\": 0.3317529261112213, \"err_low\": -0.3458157777786255, \"err_high\": 0.9811959266662598}, {\"time\": 8, \"is_present\": true, \"variable\": \"var2\", \"value\": 0.17631326615810394, \"mean\": 0.15008825063705444, \"std\": 0.3317578136920929, \"err_low\": -0.5134273767471313, \"err_high\": 0.8136038780212402}, {\"time\": 9, \"is_present\": true, \"variable\": \"var2\", \"value\": -0.02992239221930504, \"mean\": 0.00977376475930214, \"std\": 0.33186522126197815, \"err_low\": -0.6539566516876221, \"err_high\": 0.6735042333602905}, {\"time\": 10, \"is_present\": true, \"variable\": \"var2\", \"value\": -0.2429715394973755, \"mean\": -0.18888434767723083, \"std\": 0.3342158794403076, \"err_low\": -0.8573161363601685, \"err_high\": 0.4795474112033844}, {\"time\": 11, \"is_present\": true, \"variable\": \"var2\", \"value\": -0.31593841314315796, \"mean\": -0.20844455063343048, \"std\": 0.38221919536590576, \"err_low\": -0.9728829264640808, \"err_high\": 0.5559938549995422}, {\"time\": 12, \"is_present\": true, \"variable\": \"var2\", \"value\": -0.5419456958770752, \"mean\": -0.22800476849079132, \"std\": 0.4083213210105896, \"err_low\": -1.044647455215454, \"err_high\": 0.5886378884315491}, {\"time\": 13, \"is_present\": true, \"variable\": \"var2\", \"value\": -0.5694512128829956, \"mean\": -0.24756497144699097, \"std\": 0.41665881872177124, \"err_low\": -1.0808825492858887, \"err_high\": 0.5857526659965515}, {\"time\": 14, \"is_present\": true, \"variable\": \"var2\", \"value\": -0.5357581377029419, \"mean\": -0.2671251893043518, \"std\": 0.40832141041755676, \"err_low\": -1.0837680101394653, \"err_high\": 0.5495176315307617}, {\"time\": 15, \"is_present\": true, \"variable\": \"var2\", \"value\": -0.46279239654541016, \"mean\": -0.28668537735939026, \"std\": 0.3822194039821625, \"err_low\": -1.0511242151260376, \"err_high\": 0.4777534306049347}, {\"time\": 16, \"is_present\": true, \"variable\": \"var2\", \"value\": -0.355596661567688, \"mean\": -0.3062455952167511, \"std\": 0.33421626687049866, \"err_low\": -0.9746781587600708, \"err_high\": 0.3621869385242462}, {\"time\": 17, \"is_present\": true, \"variable\": \"var2\", \"value\": -0.207891583442688, \"mean\": -0.21811315417289734, \"std\": 0.33187201619148254, \"err_low\": -0.88185715675354, \"err_high\": 0.44563087821006775}, {\"time\": 18, \"is_present\": true, \"variable\": \"var2\", \"value\": 0.23065119981765747, \"mean\": -0.014424214139580727, \"std\": 0.33190515637397766, \"err_low\": -0.6782345175743103, \"err_high\": 0.6493861079216003}, {\"time\": 19, \"is_present\": true, \"variable\": \"var2\", \"value\": 0.09779148548841476, \"mean\": 0.13075706362724304, \"std\": 0.33497247099876404, \"err_low\": -0.5391879081726074, \"err_high\": 0.8007019758224487}]}}, {\"mode\": \"vega-lite\"});\n",
       "</script>"
      ],
      "text/plain": [
       "alt.VConcatChart(...)"
      ]
     },
     "execution_count": null,
     "metadata": {},
     "output_type": "execute_result"
    }
   ],
   "source": [
    "p5 = facet_variable(plot_df5, ys=[\"value\", \"mean\"], error=True, gap_area=False, props={'width': 350, 'height': 220}, n_cols=1)\n",
    "p5"
   ]
  },
  {
   "cell_type": "code",
   "execution_count": null,
   "id": "f886e6ad-36b5-4274-850e-f923579c4f0d",
   "metadata": {},
   "outputs": [
    {
     "data": {
      "text/plain": [
       "Path('/home/simone/Documents/uni/Thesis/GPFA_imputation/presentations/plots_18_jan/var_no_corr.vl.json')"
      ]
     },
     "execution_count": null,
     "metadata": {},
     "output_type": "execute_result"
    }
   ],
   "source": [
    "save_plot(p5, \"var_no_corr\")"
   ]
  },
  {
   "cell_type": "code",
   "execution_count": null,
   "id": "cea56a53-0b68-4e3a-84ad-e432f3b4108b",
   "metadata": {},
   "outputs": [],
   "source": []
  }
 ],
 "metadata": {
  "kernelspec": {
   "display_name": "data_science",
   "language": "python",
   "name": "data_science"
  },
  "widgets": {
   "application/vnd.jupyter.widget-state+json": {
    "state": {},
    "version_major": 2,
    "version_minor": 0
   }
  }
 },
 "nbformat": 4,
 "nbformat_minor": 5
}
