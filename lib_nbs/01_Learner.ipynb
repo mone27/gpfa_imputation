{
 "cells": [
  {
   "cell_type": "raw",
   "id": "9e4ef58d",
   "metadata": {},
   "source": [
    "---\n",
    "description: Utilities to train and visualize a GPFA model\n",
    "output-file: learner.html\n",
    "title: GPFA Learner\n",
    "\n",
    "---\n",
    "\n"
   ]
  },
  {
   "cell_type": "code",
   "execution_count": null,
   "id": "e25b75aa-51b1-4980-97f5-68df5c3eceea",
   "metadata": {},
   "outputs": [],
   "source": [
    "%load_ext autoreload\n",
    "%autoreload 2"
   ]
  },
  {
   "cell_type": "code",
   "execution_count": null,
   "id": "2cda543e-9b92-4a60-943a-9e2e3d6a5c24",
   "metadata": {},
   "outputs": [],
   "source": [
    "#| hide\n",
    "#| default_exp learner"
   ]
  },
  {
   "cell_type": "code",
   "execution_count": null,
   "id": "31ca6d73-c7bc-49af-a142-dbbaf6402c7b",
   "metadata": {},
   "outputs": [],
   "source": [
    "from fastcore.test import *"
   ]
  },
  {
   "cell_type": "code",
   "execution_count": null,
   "id": "fe43aefc-a8d5-4a01-8fca-0e5819186d5c",
   "metadata": {},
   "outputs": [],
   "source": [
    "#| export\n",
    "import torch\n",
    "from torch import Tensor\n",
    "from torch.distributions import MultivariateNormal \n",
    "\n",
    "import gpytorch\n",
    "from gpfa_imputation.gpfa import *\n",
    "from gpfa_imputation.data_preparation import Normalizer\n",
    "\n",
    "from collections import namedtuple\n",
    "import math\n",
    "\n",
    "from fastcore.foundation import *\n",
    "from tqdm.auto import tqdm\n",
    "from fastcore.foundation import patch\n",
    "\n",
    "import matplotlib.pyplot as plt"
   ]
  },
  {
   "cell_type": "markdown",
   "id": "f48b6e03-df45-4e08-b68a-3674fbf4a13c",
   "metadata": {},
   "source": [
    "The first thing that we need is a Learner object to keep track of:\n",
    "\n",
    "- input data, output data\n",
    "- model\n",
    "- likelihood\n",
    "\n",
    "and that has methods to help with:\n",
    "\n",
    "- training\n",
    "- prediction \n",
    "- visualization"
   ]
  },
  {
   "cell_type": "markdown",
   "id": "a1f18d28-1fb7-496a-a2c5-c959b20be768",
   "metadata": {},
   "source": [
    "The first thing we need is a training loop, just wrap in a function the example one from GPyTorch\n"
   ]
  },
  {
   "cell_type": "markdown",
   "id": "be8ed76b-c01b-475f-9494-10c54d4d0047",
   "metadata": {},
   "source": [
    "## Learner"
   ]
  },
  {
   "cell_type": "code",
   "execution_count": null,
   "id": "9c0bef3a-0b73-4352-8a9e-7291aaae760c",
   "metadata": {},
   "outputs": [],
   "source": [
    "#| export\n",
    "class GPFALearner():\n",
    "    def __init__(self,\n",
    "                 X: Tensor, # (n_features * n_obs) Multivariate time series\n",
    "                 T: Tensor = None, # (n_obs) Vector of time of observations.\n",
    "                 # If none each observation are considered to be at the same distance\n",
    "                 latent_dims: int = 1, # Number of latent variables in GPFA\n",
    "                 model = GPFA # sub-class of `GPFA`\n",
    "                ):\n",
    "        self.prepare_X(X)\n",
    "        if T is None: self.default_time(X)\n",
    "        else: self.T = T\n",
    "        self.T = self.T.to(X.device) # to support GPUs\n",
    "        self.latent_dims = latent_dims\n",
    "        \n",
    "        self.likelihood = gpytorch.likelihoods.GaussianLikelihood()\n",
    "        self.model = model(self.T, self.X, self.likelihood, self.n_features, latent_dims=latent_dims)\n",
    "        \n",
    "    @torch.no_grad()\n",
    "    def prepare_X(self, X):\n",
    "        self.norm = Normalizer(X)\n",
    "        X = self.norm.normalize(X)\n",
    "        # flatten Matrix to vector\n",
    "        self.X = X.reshape(-1) \n",
    "        self.n_features = X.shape[1]\n",
    "        \n",
    "    def default_time(self, X):\n",
    "        self.T = torch.arange(X.shape[0])\n",
    "        \n",
    "    \n",
    "    def train(self, n_iter=100, lr=0.1):\n",
    "        # need to enable training mode\n",
    "        self.model.train()\n",
    "        self.likelihood.train()\n",
    "        \n",
    "        # Use the adam optimizer\n",
    "        optimizer = torch.optim.Adam(self.model.parameters(), lr=lr) \n",
    "        \n",
    "        if not hasattr(self, 'losses'):\n",
    "            self.losses = torch.zeros(n_iter)\n",
    "            self.model_infos = [None] # put one element so it can be indexed from 0\n",
    "            offset = 0\n",
    "        else:\n",
    "            offset = self.losses.shape[0]\n",
    "            self.losses = torch.concat([self.losses, torch.zeros(n_iter)])\n",
    "            self.model_infos.append(None)\n",
    "            \n",
    "        \n",
    "        # \"Loss\" for GPs - the marginal log likelihood\n",
    "        mll = gpytorch.mlls.ExactMarginalLogLikelihood(self.likelihood, self.model)\n",
    "        for i in tqdm(range(n_iter)):\n",
    "            # Zero gradients from previous iteration\n",
    "            optimizer.zero_grad()\n",
    "            # Output from model\n",
    "            output = self.model(self.T)\n",
    "            # Calc loss and backprop gradients\n",
    "            loss = -mll(output, self.X)\n",
    "            self.losses[i + offset] = loss.detach()\n",
    "            loss.backward()\n",
    "            self.model_infos[offset] = self.model.get_info()\n",
    "\n",
    "            optimizer.step()\n",
    "        "
   ]
  },
  {
   "cell_type": "code",
   "execution_count": null,
   "id": "9105fe73-aa6d-4232-a1f3-24e8276a008d",
   "metadata": {},
   "outputs": [],
   "source": [
    "# test data\n",
    "T = torch.arange(0,6)\n",
    "\n",
    "X = torch.vstack([(torch.arange(0,3, dtype=torch.float32) + 2 + i) * i for i in T]) "
   ]
  },
  {
   "cell_type": "code",
   "execution_count": null,
   "id": "90ae1f7d-510d-4b69-88c5-a797bb5c2fd2",
   "metadata": {},
   "outputs": [
    {
     "data": {
      "text/plain": [
       "tensor([[ 0.,  0.,  0.],\n",
       "        [ 3.,  4.,  5.],\n",
       "        [ 8., 10., 12.],\n",
       "        [15., 18., 21.],\n",
       "        [24., 28., 32.],\n",
       "        [35., 40., 45.]])"
      ]
     },
     "execution_count": null,
     "metadata": {},
     "output_type": "execute_result"
    }
   ],
   "source": [
    "X"
   ]
  },
  {
   "cell_type": "code",
   "execution_count": null,
   "id": "a63fd700-c0af-4ad4-8e52-4c5d6a339212",
   "metadata": {},
   "outputs": [],
   "source": [
    "# l for learner\n",
    "l = GPFALearner(X)"
   ]
  },
  {
   "cell_type": "code",
   "execution_count": null,
   "id": "57c9acea-2c30-42c7-9a66-10535dbf21f5",
   "metadata": {},
   "outputs": [],
   "source": [
    "test_eq(T, l.T)"
   ]
  },
  {
   "cell_type": "code",
   "execution_count": null,
   "id": "d31067ba-ff73-4e57-be57-f5d34efdef19",
   "metadata": {},
   "outputs": [],
   "source": [
    "# with explicit time\n",
    "test_eq(T, GPFALearner(X, T).T)"
   ]
  },
  {
   "cell_type": "code",
   "execution_count": null,
   "id": "b198aad5-7fc9-4665-8823-a28d42a74ec6",
   "metadata": {},
   "outputs": [],
   "source": [
    "test_eq(l.n_features, 3)"
   ]
  },
  {
   "cell_type": "code",
   "execution_count": null,
   "id": "04726f27-5861-4f00-881d-f15935e05f8a",
   "metadata": {},
   "outputs": [
    {
     "data": {
      "text/plain": [
       "tensor([-1.0590, -1.0955, -1.1236, -0.8347, -0.8326, -0.8305, -0.4610, -0.4382,\n",
       "        -0.4201,  0.0623,  0.0876,  0.1075,  0.7350,  0.7449,  0.7523,  1.5573,\n",
       "         1.5337,  1.5145])"
      ]
     },
     "execution_count": null,
     "metadata": {},
     "output_type": "execute_result"
    }
   ],
   "source": [
    "l.X"
   ]
  },
  {
   "cell_type": "code",
   "execution_count": null,
   "id": "69a69e95-19a1-405e-9998-d97920b5dc44",
   "metadata": {},
   "outputs": [
    {
     "data": {
      "application/vnd.jupyter.widget-view+json": {
       "model_id": "804f6d9fa5d444a7b702722770a70e03",
       "version_major": 2,
       "version_minor": 0
      },
      "text/plain": [
       "  0%|          | 0/100 [00:00<?, ?it/s]"
      ]
     },
     "metadata": {},
     "output_type": "display_data"
    },
    {
     "name": "stderr",
     "output_type": "stream",
     "text": [
      "/home/simone/anaconda3/envs/data-science/lib/python3.10/site-packages/gpytorch/lazy/triangular_lazy_tensor.py:136: UserWarning: torch.triangular_solve is deprecated in favor of torch.linalg.solve_triangularand will be removed in a future PyTorch release.\n",
      "torch.linalg.solve_triangular has its arguments reversed and does not return a copy of one of the inputs.\n",
      "X = torch.triangular_solve(B, A).solution\n",
      "should be replaced with\n",
      "X = torch.linalg.solve_triangular(A, B). (Triggered internally at  ../aten/src/ATen/native/BatchLinearAlgebra.cpp:2183.)\n",
      "  res = torch.triangular_solve(right_tensor, self.evaluate(), upper=self.upper).solution\n",
      "/home/simone/anaconda3/envs/data-science/lib/python3.10/site-packages/torch/autograd/__init__.py:173: UserWarning: operator() profile_node %840 : int[] = prim::profile_ivalue(%838)\n",
      " does not have profile information (Triggered internally at  ../torch/csrc/jit/codegen/cuda/graph_fuser.cpp:104.)\n",
      "  Variable._execution_engine.run_backward(  # Calls into the C++ engine to run the backward pass\n"
     ]
    }
   ],
   "source": [
    "l.train()"
   ]
  },
  {
   "cell_type": "code",
   "execution_count": null,
   "id": "66b38db4-2eba-4009-b272-d6054980262b",
   "metadata": {},
   "outputs": [
    {
     "data": {
      "text/plain": [
       "tensor([ 1.3875,  1.3412,  1.2952,  1.2515,  1.2120,  1.1761,  1.1403,  1.1030,\n",
       "         1.0644,  1.0249,  0.9848,  0.9445,  0.9043,  0.8644,  0.8248,  0.7852,\n",
       "         0.7454,  0.7046,  0.6627,  0.6198,  0.5764,  0.5333,  0.4910,  0.4490,\n",
       "         0.4067,  0.3636,  0.3202,  0.2773,  0.2355,  0.1936,  0.1508,  0.1076,\n",
       "         0.0655,  0.0238, -0.0190, -0.0618, -0.1035, -0.1455, -0.1883, -0.2299,\n",
       "        -0.2714, -0.3136, -0.3546, -0.3959, -0.4372, -0.4775, -0.5185, -0.5583,\n",
       "        -0.5986, -0.6380, -0.6776, -0.7162, -0.7546, -0.7900, -0.8300, -0.8682,\n",
       "        -0.9026, -0.9405, -0.9765, -1.0097, -1.0448, -1.0804, -1.1123, -1.1417,\n",
       "        -1.1708, -1.1997, -1.2224, -1.2525, -1.2880, -1.3045, -1.3355, -1.3613,\n",
       "        -1.3731, -1.4074, -1.4237, -1.4331, -1.4655, -1.4761, -1.4839, -1.5108,\n",
       "        -1.5190, -1.5217, -1.5401, -1.5276, -1.4662, -1.5441, -1.5399, -1.5408,\n",
       "        -1.5678, -1.5540, -1.5865, -1.5616, -1.6051, -1.5710, -1.6148, -1.5850,\n",
       "        -1.6196, -1.5999, -1.6246, -1.6134])"
      ]
     },
     "execution_count": null,
     "metadata": {},
     "output_type": "execute_result"
    }
   ],
   "source": [
    "l.losses"
   ]
  },
  {
   "cell_type": "markdown",
   "id": "aa919f20-cc8f-47c7-b35e-12e57b7486f4",
   "metadata": {},
   "source": [
    "## Predictions\n",
    "\n",
    "add a function to get predictions from the model"
   ]
  },
  {
   "cell_type": "code",
   "execution_count": null,
   "id": "681f4ef6-9f6b-44d9-877b-1095b222bc88",
   "metadata": {},
   "outputs": [],
   "source": [
    "#| export\n",
    "@torch.no_grad() # don't calc gradients on predictions\n",
    "@patch()\n",
    "def predict_raw(self: GPFALearner, T):\n",
    "    self.model.eval()\n",
    "    self.likelihood.eval()\n",
    "    return self.likelihood(self.model(T))"
   ]
  },
  {
   "cell_type": "code",
   "execution_count": null,
   "id": "57ed0643-1ce3-40ac-bb5b-59534c2c6c70",
   "metadata": {},
   "outputs": [
    {
     "name": "stderr",
     "output_type": "stream",
     "text": [
      "/home/simone/anaconda3/envs/data-science/lib/python3.10/site-packages/gpytorch/models/exact_gp.py:273: GPInputWarning: The input matches the stored training data. Did you forget to call model.train()?\n",
      "  warnings.warn(\n"
     ]
    },
    {
     "data": {
      "text/plain": [
       "MultivariateNormal(loc: torch.Size([18]))"
      ]
     },
     "execution_count": null,
     "metadata": {},
     "output_type": "execute_result"
    }
   ],
   "source": [
    "raw_out = l.predict_raw(T)\n",
    "raw_out"
   ]
  },
  {
   "cell_type": "markdown",
   "id": "d14e256c-f331-4508-9ace-d1b161528fd7",
   "metadata": {},
   "source": [
    "the model prediction is a distribution with `len(T)*n_features` dimensions"
   ]
  },
  {
   "cell_type": "markdown",
   "id": "30a050f2-0aa0-4e0a-8fb7-869397feadc9",
   "metadata": {},
   "source": [
    "which is in the in the wrong shape and need to be rescaled after the normalization"
   ]
  },
  {
   "cell_type": "markdown",
   "id": "2540a9d5-7fab-4722-bb71-8356f01d69cd",
   "metadata": {},
   "source": [
    "Also we don't need th full distribution but only the mean and stddev for each variable at every time step\n",
    "\n",
    "And we can \"fix\" the shape by transforming back to a matrix"
   ]
  },
  {
   "cell_type": "code",
   "execution_count": null,
   "id": "5ebaf0b9-1f07-4bc4-8719-a0c7047e203e",
   "metadata": {},
   "outputs": [],
   "source": [
    "raw_stddev = raw_out.stddev.reshape(-1, l.n_features)\n",
    "raw_mean = raw_out.mean.reshape(-1, l.n_features)"
   ]
  },
  {
   "cell_type": "code",
   "execution_count": null,
   "id": "a07d9468-642a-4c7e-b40f-203680003159",
   "metadata": {},
   "outputs": [
    {
     "data": {
      "text/plain": [
       "tensor([[0.0251, 0.0198, 0.0227],\n",
       "        [0.0242, 0.0187, 0.0217],\n",
       "        [0.0239, 0.0183, 0.0214],\n",
       "        [0.0239, 0.0183, 0.0214],\n",
       "        [0.0242, 0.0187, 0.0218],\n",
       "        [0.0251, 0.0197, 0.0227]], grad_fn=<ReshapeAliasBackward0>)"
      ]
     },
     "execution_count": null,
     "metadata": {},
     "output_type": "execute_result"
    }
   ],
   "source": [
    "raw_stddev"
   ]
  },
  {
   "cell_type": "code",
   "execution_count": null,
   "id": "47b23a4c-2da7-4bda-887c-29ef751600b6",
   "metadata": {},
   "outputs": [],
   "source": [
    "#| export\n",
    "NormParam = namedtuple(\"NormalParameters\", [\"mean\", \"std\"])"
   ]
  },
  {
   "cell_type": "markdown",
   "id": "9426d969-63e0-4a38-a020-eb17701b1364",
   "metadata": {},
   "source": [
    "This function transforms the raw output of the Gaussian Process (`p(X)`) into a prediction that can be used.\n",
    "need to do two things:\n",
    "\n",
    "- take mean and stddev (this is the diagonal of the covariance matrix) for each variable\n",
    "- reshape so that each row is a time step and each column a variable\n",
    "- reverse the normalization\n",
    "\n",
    "the mean and the std are passed individually because in the conditional predictions is not possible to have the whole covariance matrix (and thus a MultiNormal) but the mean and stddev are enough."
   ]
  },
  {
   "cell_type": "code",
   "execution_count": null,
   "id": "95c88c0d-5844-485c-8287-7411e351ece0",
   "metadata": {},
   "outputs": [],
   "source": [
    "#|export\n",
    "@torch.no_grad() # needed because raw output still has gradients attached\n",
    "@patch\n",
    "def prediction_from_raw(self: GPFALearner, raw_mean, raw_std):\n",
    "    \"\"\" Takes a raw prediction and produces and final prediction, by reshaping and reversing normalization\"\"\"\n",
    "    raw_std = raw_std.reshape(-1, self.n_features)\n",
    "    raw_mean = raw_mean.reshape(-1, self.n_features)\n",
    "    \n",
    "    pred_mean = self.norm.reverse_normalize(raw_mean)\n",
    "    pred_std = self.norm.reverse_normalize_std(raw_std)\n",
    "    \n",
    "    #remove pytorch gradients\n",
    "    return NormParam(pred_mean.detach(), pred_std.detach())"
   ]
  },
  {
   "cell_type": "code",
   "execution_count": null,
   "id": "da3af212-6cd8-4e60-8648-7562469bb7b9",
   "metadata": {},
   "outputs": [],
   "source": [
    "# TODO document this function better"
   ]
  },
  {
   "cell_type": "code",
   "execution_count": null,
   "id": "7d04c2f8-7d02-4ada-8b4b-d98cf29d9b3b",
   "metadata": {},
   "outputs": [],
   "source": [
    "@patch\n",
    "def predict(self: GPFALearner, T):\n",
    "    pred_raw = self.predict_raw(T)\n",
    "    return self.prediction_from_raw(pred_raw.mean, pred_raw.stddev)"
   ]
  },
  {
   "cell_type": "code",
   "execution_count": null,
   "id": "46eea5e6-89a6-4a71-bf56-e8fce29eab54",
   "metadata": {},
   "outputs": [
    {
     "data": {
      "text/plain": [
       "NormalParameters(mean=tensor([[-5.1709e-01, -2.8349e-02,  5.4034e-01],\n",
       "        [ 3.0475e+00,  4.0246e+00,  5.0628e+00],\n",
       "        [ 8.2432e+00,  9.9321e+00,  1.1652e+01],\n",
       "        [ 1.5310e+01,  1.7969e+01,  2.0619e+01],\n",
       "        [ 2.4245e+01,  2.8124e+01,  3.1951e+01],\n",
       "        [ 3.4665e+01,  3.9972e+01,  4.5168e+01]]), std=tensor([[0.3357, 0.3006, 0.3877],\n",
       "        [0.3243, 0.2841, 0.3709],\n",
       "        [0.3201, 0.2782, 0.3654],\n",
       "        [0.3202, 0.2780, 0.3656],\n",
       "        [0.3243, 0.2841, 0.3713],\n",
       "        [0.3358, 0.3004, 0.3874]]))"
      ]
     },
     "execution_count": null,
     "metadata": {},
     "output_type": "execute_result"
    }
   ],
   "source": [
    "l.predict(T)"
   ]
  },
  {
   "cell_type": "code",
   "execution_count": null,
   "id": "c0784d70-8220-4372-99e9-485647e68c29",
   "metadata": {},
   "outputs": [],
   "source": [
    "pred = l.predict(T)"
   ]
  },
  {
   "cell_type": "code",
   "execution_count": null,
   "id": "e977b09d-703f-4152-ad05-78273a6d750e",
   "metadata": {},
   "outputs": [
    {
     "data": {
      "text/plain": [
       "torch.Size([6, 3])"
      ]
     },
     "execution_count": null,
     "metadata": {},
     "output_type": "execute_result"
    }
   ],
   "source": [
    "pred.mean.shape"
   ]
  },
  {
   "cell_type": "code",
   "execution_count": null,
   "id": "01055e42-da8f-481d-9f62-2f8e83987adb",
   "metadata": {},
   "outputs": [
    {
     "data": {
      "text/plain": [
       "torch.Size([6, 3])"
      ]
     },
     "execution_count": null,
     "metadata": {},
     "output_type": "execute_result"
    }
   ],
   "source": [
    "pred.std.shape"
   ]
  },
  {
   "cell_type": "markdown",
   "id": "0965c418-ca0f-40d9-a53a-fecb5fd3bb68",
   "metadata": {},
   "source": [
    "### Check learning is working"
   ]
  },
  {
   "cell_type": "markdown",
   "id": "cb33da4a-ca64-489d-bddc-eff1bdef3dbc",
   "metadata": {},
   "source": [
    "The idea is to use the current model to generate a dataset, that can be for sure modelled using a GPFA (because is the output of GPFA) and then train another model and see if the parameters converge"
   ]
  },
  {
   "cell_type": "code",
   "execution_count": null,
   "id": "a7530f0b-ba2c-409b-ac15-04dde1ec9213",
   "metadata": {},
   "outputs": [],
   "source": [
    "# create a dummy GPFA with 3 features\n",
    "Lt = GPFALearner(X)"
   ]
  },
  {
   "cell_type": "code",
   "execution_count": null,
   "id": "919c72f6-6073-4451-ac94-becc940978e1",
   "metadata": {},
   "outputs": [],
   "source": [
    "test_params = {\n",
    "   \"Lambda\": torch.tensor([-1, 0.3, .8]).reshape(Lt.n_features, -1),\n",
    "   \"psi\": torch.tensor([1e-5, 5e-5, 2e-5]),\n",
    "}"
   ]
  },
  {
   "cell_type": "code",
   "execution_count": null,
   "id": "75348565-ae93-442e-926e-882619bf3c06",
   "metadata": {},
   "outputs": [
    {
     "data": {
      "text/plain": [
       "GPFAKernel(\n",
       "  (latent_kernels): ModuleList(\n",
       "    (0): RBFKernel(\n",
       "      (raw_lengthscale_constraint): Positive()\n",
       "    )\n",
       "  )\n",
       "  (raw_psi_diag_constraint): Positive()\n",
       ")"
      ]
     },
     "execution_count": null,
     "metadata": {},
     "output_type": "execute_result"
    }
   ],
   "source": [
    "Lt.model.covar_module.initialize(**test_params)"
   ]
  },
  {
   "cell_type": "code",
   "execution_count": null,
   "id": "c2b175f2-ef55-4240-8ccb-87adfbb67de6",
   "metadata": {},
   "outputs": [
    {
     "data": {
      "text/plain": [
       "RBFKernel(\n",
       "  (raw_lengthscale_constraint): Positive()\n",
       ")"
      ]
     },
     "execution_count": null,
     "metadata": {},
     "output_type": "execute_result"
    }
   ],
   "source": [
    "Lt.model.covar_module.latent_kernels[0].initialize(lengthscale = torch.tensor(5))"
   ]
  },
  {
   "cell_type": "code",
   "execution_count": null,
   "id": "0fa81d68-083b-4904-b54f-2768078945d8",
   "metadata": {},
   "outputs": [],
   "source": [
    "target_X = Lt.predict(T).mean"
   ]
  },
  {
   "cell_type": "code",
   "execution_count": null,
   "id": "5665123d-a870-42f2-8f19-a82caae617da",
   "metadata": {},
   "outputs": [],
   "source": [
    "l2 = GPFALearner(target_X)"
   ]
  },
  {
   "cell_type": "code",
   "execution_count": null,
   "id": "8fba72dc-5a1a-4955-826c-88d574196996",
   "metadata": {},
   "outputs": [
    {
     "data": {
      "application/vnd.jupyter.widget-view+json": {
       "model_id": "31d8d90331474ec4aa0f2de225909da4",
       "version_major": 2,
       "version_minor": 0
      },
      "text/plain": [
       "  0%|          | 0/100 [00:00<?, ?it/s]"
      ]
     },
     "metadata": {},
     "output_type": "display_data"
    }
   ],
   "source": [
    "l2.train()"
   ]
  },
  {
   "cell_type": "code",
   "execution_count": null,
   "id": "18af534f-0c2b-4024-bd28-61ca0c3ac004",
   "metadata": {},
   "outputs": [
    {
     "name": "stderr",
     "output_type": "stream",
     "text": [
      "/home/simone/anaconda3/envs/data-science/lib/python3.10/site-packages/gpytorch/models/exact_gp.py:273: GPInputWarning: The input matches the stored training data. Did you forget to call model.train()?\n",
      "  warnings.warn(\n"
     ]
    },
    {
     "data": {
      "text/plain": [
       "tensor([[ 0.0060,  0.0016,  0.0008],\n",
       "        [ 0.0034,  0.0011,  0.0009],\n",
       "        [ 0.0011,  0.0004,  0.0003],\n",
       "        [-0.0012, -0.0004, -0.0004],\n",
       "        [-0.0036, -0.0011, -0.0008],\n",
       "        [-0.0058, -0.0015, -0.0008]])"
      ]
     },
     "execution_count": null,
     "metadata": {},
     "output_type": "execute_result"
    }
   ],
   "source": [
    "l2.predict(T).mean - target_X"
   ]
  },
  {
   "cell_type": "markdown",
   "id": "2e62c4f0-39e9-4f57-bcc8-3bbdda35b175",
   "metadata": {},
   "source": [
    "they seems pretty small numbers, so the model is working! "
   ]
  },
  {
   "cell_type": "code",
   "execution_count": null,
   "id": "cd9aab33-6ea7-4c07-8de1-50c136763970",
   "metadata": {},
   "outputs": [
    {
     "name": "stdout",
     "output_type": "stream",
     "text": [
      "Lambda:\n",
      " tensor([[-1.6031],\n",
      "        [ 1.5766],\n",
      "        [ 1.5863]])\n",
      "psi:  tensor([4.8988e-05, 4.2124e-05, 4.1885e-05])\n",
      "lengthscale: 5.493414402008057\n"
     ]
    }
   ],
   "source": [
    "print(\"Lambda:\\n\", l2.model.covar_module.Lambda.detach())\n",
    "\n",
    "print(\"psi: \", l2.model.covar_module.psi.detach())\n",
    "\n",
    "print(\"lengthscale:\", l2.model.covar_module.latent_kernels[0].lengthscale.item())"
   ]
  },
  {
   "cell_type": "markdown",
   "id": "a993e091-eb29-42a7-8c8e-3050b6189d92",
   "metadata": {},
   "source": [
    "### Conditional Predictions"
   ]
  },
  {
   "cell_type": "markdown",
   "id": "ba4e3b7f-95e1-4624-958b-082abc5f4593",
   "metadata": {},
   "source": [
    "This add the supports for conditional predictions, which means that at the time (t) when we are making the predictions some of the variables have been actually observed. Since the model prediction is a normal distribution we can condition on the observed values and thus improve the predictions."
   ]
  },
  {
   "cell_type": "markdown",
   "id": "cf8b5f7f-2541-4750-8740-3bf244d88ced",
   "metadata": {},
   "source": [
    "Therefore we need to compute the conditional distribution of a normal ^[https://cs.nyu.edu/~roweis/notes/gaussid.pdf eq, 5a, 5d]\n",
    "\n",
    "$$ X = \\left[\\begin{array}{c} x \\\\ o \\end{array} \\right] $$\n",
    "\n",
    "$$ p(X) = N\\left(\\left[ \\begin{array}{c} \\mu_x \\\\ \\mu_o \\end{array} \\right], \\left[\\begin{array}{cc} \\Sigma_{xx} & \\Sigma_{xo} \\\\ \\Sigma_{ox} & \\Sigma_{oo} \\end{array} \\right]\\right)$$\n",
    "\n",
    "where $X$ is a vector of variable that need to predicted and $o$ is a vector of the variables that have been observed\n",
    "\n",
    "The mean is in \"flat format\", where all the features from one time step are next to each other followed by the features of the next time step.\n",
    "\n",
    "then \n",
    "\n",
    "$$p(x|o) = N(\\mu_x + \\Sigma_{xo}\\Sigma_{oo}^{-1}(o - \\mu_o), \\Sigma_{xx} - \\Sigma_{xo}\\Sigma_{oo}^{-1}\\Sigma_{ox})$$"
   ]
  },
  {
   "cell_type": "code",
   "execution_count": null,
   "id": "2cd1908b-6c88-48e0-b555-2d36d4a04fff",
   "metadata": {},
   "outputs": [],
   "source": [
    "#|exporti\n",
    "def conditional_guassian(gauss: MultivariateNormal,\n",
    "                         obs,\n",
    "                         idx # Boolean tensor specifying for each variable is observed (True) or not (False)\n",
    "                        ):\n",
    "    μ = gauss.mean\n",
    "    Σ = gauss.covariance_matrix\n",
    "    # check idx same size of mu\n",
    "    μ_x = μ[~idx]\n",
    "    μ_o = μ[idx]\n",
    "    \n",
    "    Σ_xx = Σ[~idx,:][:, ~idx]\n",
    "    Σ_xo = Σ[~idx,:][:, idx]\n",
    "    Σ_ox = Σ[idx,:][:, ~idx]\n",
    "    Σ_oo = Σ[idx,:][:, idx]\n",
    "    \n",
    "    Σ_oo_inv = torch.linalg.inv(Σ_oo)\n",
    "    \n",
    "    mean = μ_x + Σ_xo@Σ_oo_inv@(obs - μ_o)\n",
    "    cov = Σ_xx - Σ_xo@Σ_oo_inv@Σ_ox\n",
    "    \n",
    "    return MultivariateNormal(mean, cov)\n",
    "    "
   ]
  },
  {
   "cell_type": "code",
   "execution_count": null,
   "id": "19daec27-87a1-4ba7-92dc-b9236c08f579",
   "metadata": {},
   "outputs": [],
   "source": [
    "# example distribution with only 2 variables\n",
    "μ = torch.tensor([.5, 1.])\n",
    "Σ = torch.tensor([[1., .5], [.5 ,1.]])\n",
    "\n",
    "gauss = MultivariateNormal(μ, Σ)\n",
    "\n",
    "idx = torch.tensor([True, False]) # second variable is the observed one\n",
    "\n",
    "obs = torch.tensor(5.) # value of second variable\n",
    "\n",
    "gauss_cond = conditional_guassian(gauss, obs, idx)\n",
    "\n",
    "# hardcoded values to test that the code is working, see also for alternative implementation https://python.quantecon.org/multivariate_normal.html\n",
    "test_close(3.25, gauss_cond.mean.item())\n",
    "test_close(.75, gauss_cond.covariance_matrix.item())"
   ]
  },
  {
   "cell_type": "markdown",
   "id": "c4d34213-7009-4609-b27e-c7afccf62c9a",
   "metadata": {},
   "source": [
    "Test with multiple variables?"
   ]
  },
  {
   "cell_type": "markdown",
   "id": "7b744875-96dc-44a9-b5fe-11d49711169f",
   "metadata": {},
   "source": [
    "overwrite the predict method to add support for conditional predictions"
   ]
  },
  {
   "cell_type": "markdown",
   "id": "7d2597e5-07a8-48bc-a7db-1db22ad62f65",
   "metadata": {},
   "source": [
    "Need to have the mean and std for both the conditional predictions and the observations, with the same shape and order of the complete prediction. "
   ]
  },
  {
   "cell_type": "code",
   "execution_count": null,
   "id": "8e861ab7-d218-4981-bbbd-cf89da85b679",
   "metadata": {},
   "outputs": [],
   "source": [
    "#|exporti\n",
    "def _merge_raw_cond_pred(pred_raw,\n",
    "                         pred_cond,\n",
    "                         obs,\n",
    "                         idx\n",
    "                        ) -> NormParam:\n",
    "    \"\"\"This functions merges a complete predition with a conditional prediction and the observations.\n",
    "    For the observations the std is considered to be 0 \"\"\"\n",
    "    mean = torch.zeros_like(pred_raw.mean) # get shape from complete prediction\n",
    "    mean[~idx] = pred_cond.mean # add predictions\n",
    "    mean[idx] = obs # add observations\n",
    "    \n",
    "    std = torch.zeros_like(pred_raw.stddev)\n",
    "    std[~idx] = pred_cond.stddev\n",
    "    std[idx] = 0 # there is no uncertainty as it's an oberservation\n",
    "    \n",
    "    return NormParam(mean, std)"
   ]
  },
  {
   "cell_type": "code",
   "execution_count": null,
   "id": "96025e7d-884f-487c-af6b-cdb0a407a5a5",
   "metadata": {},
   "outputs": [
    {
     "data": {
      "text/plain": [
       "tensor([[0.7500]])"
      ]
     },
     "execution_count": null,
     "metadata": {},
     "output_type": "execute_result"
    }
   ],
   "source": [
    "gauss_cond.covariance_matrix"
   ]
  },
  {
   "cell_type": "code",
   "execution_count": null,
   "id": "3d21aecd-c9f0-4fff-8d63-9b5b4a858b5b",
   "metadata": {},
   "outputs": [
    {
     "data": {
      "text/plain": [
       "NormalParameters(mean=tensor([5.0000, 3.2500]), std=tensor([0.0000, 0.8660]))"
      ]
     },
     "execution_count": null,
     "metadata": {},
     "output_type": "execute_result"
    }
   ],
   "source": [
    "merge_pred = _merge_raw_cond_pred(gauss, gauss_cond, obs, idx)\n",
    "merge_pred"
   ]
  },
  {
   "cell_type": "code",
   "execution_count": null,
   "id": "c0d8eb3f-0753-47fc-88eb-a8771f68a7f3",
   "metadata": {},
   "outputs": [],
   "source": [
    "# manually calculated\n",
    "test_close(merge_pred.mean, torch.tensor([5., 3.25]))\n",
    "test_close(merge_pred.std, torch.tensor([0., math.sqrt(.75)]))"
   ]
  },
  {
   "cell_type": "markdown",
   "id": "1684b1e5-1d80-4657-b95f-cb1a1d020547",
   "metadata": {},
   "source": [
    "The problem is that the mean and the std for normalization are different for each feature, so in order to have the normalization working it is necessary to give the observations as a 2D array and not like a 1D array (like required by the model)"
   ]
  },
  {
   "cell_type": "code",
   "execution_count": null,
   "id": "9802e75a-af1e-4331-9d46-9d4da85d57a7",
   "metadata": {},
   "outputs": [],
   "source": [
    "#|export\n",
    "@patch\n",
    "def _normalize_obs(self: GPFALearner,\n",
    "                   obs, # (n_obs)\n",
    "                   idx\n",
    "                  ) -> Tensor: # (n_obs)\n",
    "    \"\"\" reshape the observations so they can normalized\"\"\"\n",
    "    obs_compl = torch.zeros_like(idx, dtype=obs.dtype)\n",
    "    obs_compl[idx] = obs\n",
    "    obs_compl = obs_compl.reshape(-1, self.n_features)\n",
    "    obs_norm = self.norm.normalize(obs_compl)\n",
    "    return obs_norm.reshape(-1)[idx]"
   ]
  },
  {
   "cell_type": "code",
   "execution_count": null,
   "id": "4fefac69-603a-4437-9f0d-dbd9cf4eeed4",
   "metadata": {},
   "outputs": [],
   "source": [
    "T_pred = torch.tensor([6, 7])"
   ]
  },
  {
   "cell_type": "code",
   "execution_count": null,
   "id": "c89656a8-cfa1-47e0-ba69-8a29974f9cee",
   "metadata": {},
   "outputs": [
    {
     "data": {
      "text/plain": [
       "NormalParameters(mean=tensor([[45.7915, 52.6208, 59.2834],\n",
       "        [56.5321, 64.8324, 72.9081]]), std=tensor([[0.6919, 0.7510, 0.8597],\n",
       "        [1.7853, 2.0160, 2.2576]]))"
      ]
     },
     "execution_count": null,
     "metadata": {},
     "output_type": "execute_result"
    }
   ],
   "source": [
    "l.predict(T_pred)"
   ]
  },
  {
   "cell_type": "code",
   "execution_count": null,
   "id": "e7b248fd-4dad-4418-a229-6e7c04318eb8",
   "metadata": {},
   "outputs": [],
   "source": [
    "idx = torch.zeros(T_pred.shape[0] * X.shape[1], dtype=torch.bool)\n",
    "# simulate an observation using sensible numbers from the prediction\n",
    "idx[[0,2]] = torch.tensor([True, True])\n",
    "obs = torch.tensor([42., 61.])"
   ]
  },
  {
   "cell_type": "code",
   "execution_count": null,
   "id": "a03dbc7e-3c5d-4eca-b0b2-5cad6e80677c",
   "metadata": {},
   "outputs": [
    {
     "data": {
      "text/plain": [
       "tensor([2.0806, 2.4525])"
      ]
     },
     "execution_count": null,
     "metadata": {},
     "output_type": "execute_result"
    }
   ],
   "source": [
    "l._normalize_obs(obs, idx)"
   ]
  },
  {
   "cell_type": "code",
   "execution_count": null,
   "id": "027f682d-b2fb-4a78-8b22-b25847af47b5",
   "metadata": {},
   "outputs": [],
   "source": [
    "#|export\n",
    "@patch\n",
    "def predict(self: GPFALearner,\n",
    "            T: Tensor, # (n_pred) time where prediction is needed\n",
    "            # (n_obs_pred) Optional - if at the times of the prediction there are some observations\n",
    "            # array with the values of observations to condition distribution\n",
    "            obs: Tensor = None,\n",
    "            # ((n_pred*n_features)) Optional - necessary if obs are present\n",
    "            # Boolean array that is True where an observation is present and False where a prediction is needed\n",
    "            # This is a 1D array with the length equal to n_pred (number time steps to predict) times n_features\n",
    "            idx: Tensor = None\n",
    "           ):\n",
    "    pred_raw = self.predict_raw(T)\n",
    "    \n",
    "    # Conditional observations\n",
    "    if obs is not None and idx is not None:\n",
    "        # observations needs to be normalized before can be used with the raw prediction!\n",
    "        obs_norm = self._normalize_obs(obs, idx)\n",
    "        pred_cond = conditional_guassian(pred_raw, obs_norm, idx)\n",
    "\n",
    "        pred_merge = _merge_raw_cond_pred(pred_raw, pred_cond, obs_norm, idx)\n",
    "    else:\n",
    "        pred_merge = NormParam(pred_raw.mean, pred_raw.stddev)\n",
    "    \n",
    "    return self.prediction_from_raw(pred_merge.mean, pred_merge.std)"
   ]
  },
  {
   "cell_type": "code",
   "execution_count": null,
   "id": "0dac9235-f902-4a97-bc3d-dd4b271e917f",
   "metadata": {},
   "outputs": [
    {
     "data": {
      "text/plain": [
       "tensor([2.0806, 2.4525])"
      ]
     },
     "execution_count": null,
     "metadata": {},
     "output_type": "execute_result"
    }
   ],
   "source": [
    "l._normalize_obs(obs, idx)"
   ]
  },
  {
   "cell_type": "code",
   "execution_count": null,
   "id": "0d1c81fb-daa9-499e-9feb-cc929c7351ef",
   "metadata": {},
   "outputs": [
    {
     "data": {
      "text/plain": [
       "tensor([42., 61.])"
      ]
     },
     "execution_count": null,
     "metadata": {},
     "output_type": "execute_result"
    }
   ],
   "source": [
    "obs"
   ]
  },
  {
   "cell_type": "code",
   "execution_count": null,
   "id": "855a7c5e-6112-44af-b831-6f936937415b",
   "metadata": {},
   "outputs": [
    {
     "data": {
      "text/plain": [
       "tensor([2.3640, 2.3632, 2.3518, 3.1668, 3.1659, 3.1506],\n",
       "       grad_fn=<ViewBackward0>)"
      ]
     },
     "execution_count": null,
     "metadata": {},
     "output_type": "execute_result"
    }
   ],
   "source": [
    "l.predict_raw(T_pred).mean"
   ]
  },
  {
   "cell_type": "code",
   "execution_count": null,
   "id": "09ce783e-bfaa-4eae-8ceb-205f1490f120",
   "metadata": {},
   "outputs": [
    {
     "data": {
      "text/plain": [
       "NormalParameters(mean=tensor([[42.0000, 51.6759, 61.0000],\n",
       "        [54.2909, 62.2784, 70.0641]]), std=tensor([[0.0000, 0.3322, 0.0000],\n",
       "        [0.7696, 0.8428, 0.9601]]))"
      ]
     },
     "execution_count": null,
     "metadata": {},
     "output_type": "execute_result"
    }
   ],
   "source": [
    "l.predict(T_pred, obs, idx)"
   ]
  },
  {
   "cell_type": "code",
   "execution_count": null,
   "id": "14080b5c-fae8-435c-8a6f-e359511207eb",
   "metadata": {},
   "outputs": [
    {
     "data": {
      "text/plain": [
       "NormalParameters(mean=tensor([[45.7915, 52.6208, 59.2834],\n",
       "        [56.5321, 64.8324, 72.9081]]), std=tensor([[0.6919, 0.7510, 0.8597],\n",
       "        [1.7853, 2.0160, 2.2576]]))"
      ]
     },
     "execution_count": null,
     "metadata": {},
     "output_type": "execute_result"
    }
   ],
   "source": [
    "l.predict(T_pred)"
   ]
  },
  {
   "cell_type": "markdown",
   "id": "b0787ebc-b4c3-4d8c-8e7b-6266b26ed2a7",
   "metadata": {},
   "source": [
    "There is a small change in the predicted values after conditioning as you would expect"
   ]
  },
  {
   "cell_type": "markdown",
   "id": "6172add9-1b1a-4f0b-b6b6-9317b65dcf9c",
   "metadata": {},
   "source": [
    "## GPU Support\n",
    "\n",
    "add support for CUDA to model"
   ]
  },
  {
   "cell_type": "code",
   "execution_count": null,
   "id": "13767083-2ed1-4070-bc76-5592528ddea8",
   "metadata": {},
   "outputs": [],
   "source": [
    "# l for learner\n",
    "l_cuda = GPFALearner(X.cuda())"
   ]
  },
  {
   "cell_type": "markdown",
   "id": "9d747c48-67dd-4057-8538-a749afc5b959",
   "metadata": {},
   "source": [
    "Attrs of interest are:\n",
    "\n",
    "- T\n",
    "- X\n",
    "- likelihood\n",
    "- model\n",
    "- norm"
   ]
  },
  {
   "cell_type": "markdown",
   "id": "9e828288-f3f7-463b-adad-6bce1c7ddba3",
   "metadata": {},
   "source": [
    "`cuda()` modifies in place the tensors and the modules!"
   ]
  },
  {
   "cell_type": "code",
   "execution_count": null,
   "id": "5af515f2-c73f-4638-b299-11a71030f540",
   "metadata": {},
   "outputs": [
    {
     "data": {
      "text/plain": [
       "tensor([0, 1, 2, 3, 4, 5], device='cuda:0')"
      ]
     },
     "execution_count": null,
     "metadata": {},
     "output_type": "execute_result"
    }
   ],
   "source": [
    "l_cuda.T.cuda()"
   ]
  },
  {
   "cell_type": "code",
   "execution_count": null,
   "id": "7f65f554-a487-4d6c-bf2f-a8d2ae54582f",
   "metadata": {},
   "outputs": [
    {
     "data": {
      "text/plain": [
       "device(type='cuda', index=0)"
      ]
     },
     "execution_count": null,
     "metadata": {},
     "output_type": "execute_result"
    }
   ],
   "source": [
    "l_cuda.T.device"
   ]
  },
  {
   "cell_type": "code",
   "execution_count": null,
   "id": "b5d42968",
   "metadata": {},
   "outputs": [],
   "source": [
    "#| exports\n",
    "@patch\n",
    "def cuda(self: GPFALearner):\n",
    "    \"\"\"Moves all learner to gpu\"\"\"\n",
    "    for par in ['T', 'X', 'model', 'likelihood']:\n",
    "        self.__getattribute__(par).cuda()\n",
    "    self.norm.x_mean.cuda()\n",
    "    self.norm.x_std.cuda()"
   ]
  },
  {
   "cell_type": "code",
   "execution_count": null,
   "id": "8fef0e14",
   "metadata": {},
   "outputs": [],
   "source": [
    "l_cuda.cuda()"
   ]
  },
  {
   "cell_type": "markdown",
   "id": "69294c76",
   "metadata": {},
   "source": [
    "parameters are on the gpu!"
   ]
  },
  {
   "cell_type": "code",
   "execution_count": null,
   "id": "096c9730",
   "metadata": {},
   "outputs": [
    {
     "data": {
      "text/plain": [
       "device(type='cuda', index=0)"
      ]
     },
     "execution_count": null,
     "metadata": {},
     "output_type": "execute_result"
    }
   ],
   "source": [
    "next(l_cuda.likelihood.parameters()).device"
   ]
  },
  {
   "cell_type": "code",
   "execution_count": null,
   "id": "b36d9b9e",
   "metadata": {},
   "outputs": [
    {
     "data": {
      "text/plain": [
       "MultivariateNormal(loc: tensor([0.], device='cuda:0'), covariance_matrix: tensor([[1.]], device='cuda:0'))"
      ]
     },
     "execution_count": null,
     "metadata": {},
     "output_type": "execute_result"
    }
   ],
   "source": [
    "gpytorch.distributions.MultivariateNormal(torch.zeros(1).cuda(), torch.ones(1, 1).cuda())"
   ]
  },
  {
   "cell_type": "code",
   "execution_count": null,
   "id": "9a904f7d",
   "metadata": {},
   "outputs": [
    {
     "data": {
      "text/plain": [
       "device(type='cuda', index=0)"
      ]
     },
     "execution_count": null,
     "metadata": {},
     "output_type": "execute_result"
    }
   ],
   "source": [
    "l_cuda.model.covar_module.latent_kernels[0].lengthscale.device"
   ]
  },
  {
   "cell_type": "code",
   "execution_count": null,
   "id": "247c12d6",
   "metadata": {},
   "outputs": [
    {
     "data": {
      "application/vnd.jupyter.widget-view+json": {
       "model_id": "c9dfccc41c2d4ea8b0dbf525c8a138f8",
       "version_major": 2,
       "version_minor": 0
      },
      "text/plain": [
       "  0%|          | 0/100 [00:00<?, ?it/s]"
      ]
     },
     "metadata": {},
     "output_type": "display_data"
    }
   ],
   "source": [
    "l_cuda.train()"
   ]
  },
  {
   "cell_type": "markdown",
   "id": "dc611389-cd28-4641-be52-1295245afe34",
   "metadata": {},
   "source": [
    "## Multi-dimensional latent"
   ]
  },
  {
   "cell_type": "code",
   "execution_count": null,
   "id": "958709b0-fc08-4af3-961a-e27267415d6c",
   "metadata": {},
   "outputs": [],
   "source": [
    "l2 = GPFALearner(X, T, latent_dims=2) "
   ]
  },
  {
   "cell_type": "code",
   "execution_count": null,
   "id": "c7c26ca3-1841-4f1b-98ed-6adfa1906a9e",
   "metadata": {},
   "outputs": [
    {
     "data": {
      "application/vnd.jupyter.widget-view+json": {
       "model_id": "d94af2fc84384975a8c3b4b657a1fe1e",
       "version_major": 2,
       "version_minor": 0
      },
      "text/plain": [
       "  0%|          | 0/100 [00:00<?, ?it/s]"
      ]
     },
     "metadata": {},
     "output_type": "display_data"
    }
   ],
   "source": [
    "l2.train()"
   ]
  },
  {
   "cell_type": "code",
   "execution_count": null,
   "id": "cae8a96a-48e6-4038-800d-d239d4572b33",
   "metadata": {},
   "outputs": [
    {
     "data": {
      "text/plain": [
       "[<matplotlib.lines.Line2D>]"
      ]
     },
     "execution_count": null,
     "metadata": {},
     "output_type": "execute_result"
    },
    {
     "data": {
      "image/png": "[encoded data removed]",
      "text/plain": [
       "<Figure size 432x288 with 1 Axes>"
      ]
     },
     "metadata": {
      "needs_background": "light"
     },
     "output_type": "display_data"
    }
   ],
   "source": [
    "plt.plot(l2.losses)"
   ]
  },
  {
   "cell_type": "code",
   "execution_count": null,
   "id": "ea45b0d5-56d2-4b6f-a79b-c04230e2b5bc",
   "metadata": {},
   "outputs": [
    {
     "data": {
      "text/plain": [
       "Parameter containing:\n",
       "tensor([[0.9218, 1.7595],\n",
       "        [0.9006, 1.7484],\n",
       "        [0.9687, 1.6968]], requires_grad=True)"
      ]
     },
     "execution_count": null,
     "metadata": {},
     "output_type": "execute_result"
    }
   ],
   "source": [
    "l2.model.covar_module.Lambda"
   ]
  },
  {
   "cell_type": "markdown",
   "id": "36bda355-ac85-441c-9b83-dbb35bf31ba1",
   "metadata": {},
   "source": [
    "## Export"
   ]
  },
  {
   "cell_type": "code",
   "execution_count": null,
   "id": "58580804-365d-447a-9a5e-3463f4846b74",
   "metadata": {},
   "outputs": [],
   "source": [
    "#| hide\n",
    "from nbdev import nbdev_export\n",
    "nbdev_export()"
   ]
  },
  {
   "cell_type": "markdown",
   "id": "24befb58-3f26-4d2c-beaa-0cb4a9e9e676",
   "metadata": {},
   "source": [
    "\n",
    "## Printing\n",
    "### Other"
   ]
  },
  {
   "cell_type": "code",
   "execution_count": null,
   "id": "1613c1b2-be6b-4b0c-9833-a2d43a95e0c8",
   "metadata": {},
   "outputs": [],
   "source": [
    "# #| exporti\n",
    "# def get_parameter_value(name, param, constraint):\n",
    "#     if constraint is not None:\n",
    "#         value = constraint.transform(param.data.detach())\n",
    "#         name = name.replace(\"raw_\", \"\") # parameter is not raw anymore\n",
    "#     else:\n",
    "#         value = param.data.detach()\n",
    "#     return (name, value)\n",
    "\n",
    "# name = \"covar_module.psi\"\n",
    "# test_eq(l.model.covar_module.psi.detach(), get_parameter_value(name, l.model.covar_module.raw_psi_diag, l.model.covar_module.raw_psi_diag_constraint)[1])\n",
    "\n",
    "# #| exporti\n",
    "# def tensor_to_first_item(tensor):\n",
    "#     if tensor.dim() > 0:\n",
    "#         return tensor_to_first_item(tensor[0])\n",
    "#     return tensor.item()\n",
    "\n",
    "\n",
    "# def format_parameter(name, value):\n",
    "#     value = tensor_to_first_item(value)\n",
    "#     name = name.split(\".\")[-1] # get only last part of name\n",
    "#     return f\"{name}: {value:.3f}\"\n",
    "\n",
    "# #| export\n",
    "# @patch\n",
    "# def get_formatted_params(self: GPFALearner):\n",
    "#     return \", \".join([\n",
    "#         format_parameter(*get_parameter_value(name, value, constraint))\n",
    "#         for name, value, constraint in\n",
    "#         self.model.named_parameters_and_constraints()\n",
    "#     ])\n",
    "\n",
    "# l.get_formatted_params()\n",
    "\n",
    "# # this is not really working at the moment, but it's not important\n",
    "# @patch\n",
    "# def plot_loss_printer(self: GPFALearner, i_iter):\n",
    "#     if i_iter ==0: return\n",
    "#     x = torch.arange(0, i_iter)\n",
    "#     y = self.losses[:i_iter]\n",
    "#     plot_data = [[x, y]]\n",
    "#     self.pb.update_graph(plot_data)\n",
    "    \n",
    "#     x_bounds = [x.min(), x.max()+1]\n",
    "#     y_bounds = [y.min(), y.max()]\n",
    "#     self.pb.names = [\"Training loss\"]\n",
    "\n",
    "# #|export\n",
    "# @patch\n",
    "# def printer(self: GPFALearner, i_iter):\n",
    "\n",
    "#     if i_iter%10 == 0:\n",
    "#         update_str = f\"loss: {self.losses[i_iter].item():.3f}, \" + self.get_formatted_params()\n",
    "#         #self.plot_loss(i_iter)\n",
    "    \n",
    "#     #self.pb.write(update_str)\n",
    "\n",
    "# l.train(lr = 0.01)\n",
    "\n",
    "# import matplotlib.pyplot as plt\n",
    "\n",
    "# plt.plot(l.losses)"
   ]
  }
 ],
 "metadata": {
  "kernelspec": {
   "display_name": "data_science",
   "language": "python",
   "name": "data_science"
  },
  "widgets": {
   "application/vnd.jupyter.widget-state+json": {
    "state": {},
    "version_major": 2,
    "version_minor": 0
   }
  }
 },
 "nbformat": 4,
 "nbformat_minor": 5
}
