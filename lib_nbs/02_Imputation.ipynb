{
 "cells": [
  {
   "cell_type": "raw",
   "metadata": {},
   "source": [
    "---\n",
    "description: Impute time series using GPFA Leaner\n",
    "output-file: imputation.html\n",
    "title: Imputation time series\n",
    "\n",
    "---\n",
    "\n"
   ]
  },
  {
   "cell_type": "markdown",
   "id": "00e93a35-c0f5-40f1-b111-7d58a767574f",
   "metadata": {},
   "source": [
    "the goal of this notebook is to be able to:\n",
    "\n",
    "- take a timeseries that contains gaps\n",
    "- train a GPFA Learner using the available data\n",
    "- impute the gap, by using the predictions of the learner\n",
    "- to improve the imputation by conditioning the distribution on the other observation at the same time stamp"
   ]
  },
  {
   "cell_type": "code",
   "execution_count": null,
   "id": "abcc8b0e-193c-4819-8a27-dafe166f4dfe",
   "metadata": {},
   "outputs": [],
   "source": [
    "%load_ext autoreload\n",
    "%autoreload 2"
   ]
  },
  {
   "cell_type": "code",
   "execution_count": null,
   "id": "d9b18213-e77e-46e4-8aaf-b45f2754cf12",
   "metadata": {},
   "outputs": [],
   "source": [
    "#| hide\n",
    "#| default_exp imputation"
   ]
  },
  {
   "cell_type": "code",
   "execution_count": null,
   "id": "2e18aed6",
   "metadata": {},
   "outputs": [],
   "source": [
    "from gpfa_imputation.learner import *\n",
    "\n",
    "import torch\n",
    "\n",
    "import pandas as pd\n",
    "import numpy as np\n",
    "from fastcore.foundation import patch\n",
    "\n",
    "import matplotlib.pyplot as plt\n",
    "import altair as alt"
   ]
  },
  {
   "cell_type": "code",
   "execution_count": null,
   "id": "1071598e",
   "metadata": {},
   "outputs": [],
   "source": [
    "torch.manual_seed(27); # set seed for reproducibility of examples"
   ]
  },
  {
   "cell_type": "markdown",
   "id": "c08601da",
   "metadata": {},
   "source": [
    "## Fake data \n",
    "\n",
    "generate some fake data in order to test the imputation\n",
    "\n",
    "What is does is:\n",
    "- take a function to generate the \"true\" latent\n",
    "- use some random coefficient to generate all the N features\n",
    "- add some random noise"
   ]
  },
  {
   "cell_type": "code",
   "execution_count": null,
   "id": "871d77a7",
   "metadata": {},
   "outputs": [],
   "source": [
    "#| export\n",
    "class GPFAFakeData:\n",
    "    def __init__(self,\n",
    "                    n_features: int,\n",
    "                    n_obs: int,\n",
    "                    latent_func = lambda x: torch.sin(3*x), # Functions used to generate the true latent\n",
    "                    noise_std = .2,\n",
    "                    Lambda = None\n",
    "                ):\n",
    "        \n",
    "        self.n_features, self.n_obs = n_features, n_obs\n",
    "        self.time = torch.arange(0, self.n_obs, dtype=torch.float)\n",
    "        \n",
    "        self.latent = latent_func(self.time)\n",
    "        \n",
    "        self.Lambda = torch.tensor(Lambda).reshape(n_features, 1) if Lambda is not None else torch.rand(n_features, 1)\n",
    "        \n",
    "        self.exact_X = (self.Lambda * self.latent).T\n",
    "        \n",
    "        self.X =  self.exact_X + torch.normal(0., noise_std, size = (n_obs, n_features)) \n",
    "        \n",
    "        self.data = pd.DataFrame(self.X.numpy(), columns = [f\"x{i}\" for i in range(self.n_features)]) \n",
    "        "
   ]
  },
  {
   "cell_type": "code",
   "execution_count": null,
   "id": "8f346f41",
   "metadata": {},
   "outputs": [],
   "source": [
    "fd = GPFAFakeData(3, 4)"
   ]
  },
  {
   "cell_type": "code",
   "execution_count": null,
   "id": "8cae11f4",
   "metadata": {},
   "outputs": [],
   "source": [
    "fd_plot = pd.DataFrame(fd.X.numpy(), columns = [\"x1\", \"x2\", \"x3\"])\n",
    "fd_plot[\"latent\"] = pd.Series(fd.latent.numpy())"
   ]
  },
  {
   "cell_type": "code",
   "execution_count": null,
   "id": "570be44c",
   "metadata": {},
   "outputs": [
    {
     "data": {
      "text/plain": [
       "<AxesSubplot: >"
      ]
     },
     "execution_count": null,
     "metadata": {},
     "output_type": "execute_result"
    },
    {
     "data": {
      "image/png": "[encoded data removed]",
      "text/plain": [
       "<Figure size 432x288 with 1 Axes>"
      ]
     },
     "metadata": {
      "needs_background": "light"
     },
     "output_type": "display_data"
    }
   ],
   "source": [
    "fd_plot.plot()"
   ]
  },
  {
   "cell_type": "markdown",
   "id": "445f75cf",
   "metadata": {},
   "source": [
    "### Missing Data\n",
    "\n",
    "add to the fake data class the ability to generate some missing data"
   ]
  },
  {
   "cell_type": "code",
   "execution_count": null,
   "id": "9839013a",
   "metadata": {},
   "outputs": [],
   "source": [
    "@patch()\n",
    "def add_random_missing(self: GPFAFakeData,\n",
    "                prob_miss_row: float = .2,#  Probability an entire row is missing\n",
    "                prob_miss_value: float = .1 # Probability a single observation is missing       \n",
    "               ):\n",
    "    \"\"\"Make some row and same values randomly missing \"\"\"\n",
    "    # keep the original data\n",
    "    self.data_complete = self.data.copy()\n",
    "        \n",
    "    self.is_miss_row = torch.rand(self.n_obs) <= prob_miss_row\n",
    "    \n",
    "    self.data[self.is_miss_row.numpy()] = np.nan\n",
    "    \n",
    "    self.is_miss_value = (torch.rand(self.n_obs * self.n_features) <= prob_miss_value).reshape(-1, self.n_features)\n",
    "    \n",
    "    self.data[self.is_miss_value.numpy()] = np.nan\n",
    "    \n",
    "    return self"
   ]
  },
  {
   "cell_type": "code",
   "execution_count": null,
   "id": "bfc7fc2f",
   "metadata": {},
   "outputs": [
    {
     "data": {
      "text/html": [
       "<div>\n",
       "<style scoped>\n",
       "    .dataframe tbody tr th:only-of-type {\n",
       "        vertical-align: middle;\n",
       "    }\n",
       "\n",
       "    .dataframe tbody tr th {\n",
       "        vertical-align: top;\n",
       "    }\n",
       "\n",
       "    .dataframe thead th {\n",
       "        text-align: right;\n",
       "    }\n",
       "</style>\n",
       "<table border=\"1\" class=\"dataframe\">\n",
       "  <thead>\n",
       "    <tr style=\"text-align: right;\">\n",
       "      <th></th>\n",
       "      <th>x0</th>\n",
       "      <th>x1</th>\n",
       "      <th>x2</th>\n",
       "    </tr>\n",
       "  </thead>\n",
       "  <tbody>\n",
       "    <tr>\n",
       "      <th>0</th>\n",
       "      <td>0.008676</td>\n",
       "      <td>-0.194478</td>\n",
       "      <td>-0.234784</td>\n",
       "    </tr>\n",
       "    <tr>\n",
       "      <th>1</th>\n",
       "      <td>-0.131580</td>\n",
       "      <td>-0.041877</td>\n",
       "      <td>0.224467</td>\n",
       "    </tr>\n",
       "    <tr>\n",
       "      <th>2</th>\n",
       "      <td>-0.296656</td>\n",
       "      <td>-0.022229</td>\n",
       "      <td>-0.216300</td>\n",
       "    </tr>\n",
       "    <tr>\n",
       "      <th>3</th>\n",
       "      <td>0.749373</td>\n",
       "      <td>0.066919</td>\n",
       "      <td>0.272668</td>\n",
       "    </tr>\n",
       "  </tbody>\n",
       "</table>\n",
       "</div>"
      ],
      "text/plain": [
       "         x0        x1        x2\n",
       "0  0.008676 -0.194478 -0.234784\n",
       "1 -0.131580 -0.041877  0.224467\n",
       "2 -0.296656 -0.022229 -0.216300\n",
       "3  0.749373  0.066919  0.272668"
      ]
     },
     "execution_count": null,
     "metadata": {},
     "output_type": "execute_result"
    }
   ],
   "source": [
    "fd.add_random_missing().data"
   ]
  },
  {
   "cell_type": "code",
   "execution_count": null,
   "id": "3c9c099e",
   "metadata": {},
   "outputs": [
    {
     "data": {
      "text/html": [
       "<div>\n",
       "<style scoped>\n",
       "    .dataframe tbody tr th:only-of-type {\n",
       "        vertical-align: middle;\n",
       "    }\n",
       "\n",
       "    .dataframe tbody tr th {\n",
       "        vertical-align: top;\n",
       "    }\n",
       "\n",
       "    .dataframe thead th {\n",
       "        text-align: right;\n",
       "    }\n",
       "</style>\n",
       "<table border=\"1\" class=\"dataframe\">\n",
       "  <thead>\n",
       "    <tr style=\"text-align: right;\">\n",
       "      <th></th>\n",
       "      <th>x0</th>\n",
       "      <th>x1</th>\n",
       "    </tr>\n",
       "  </thead>\n",
       "  <tbody>\n",
       "    <tr>\n",
       "      <th>0</th>\n",
       "      <td>NaN</td>\n",
       "      <td>NaN</td>\n",
       "    </tr>\n",
       "    <tr>\n",
       "      <th>1</th>\n",
       "      <td>NaN</td>\n",
       "      <td>NaN</td>\n",
       "    </tr>\n",
       "    <tr>\n",
       "      <th>2</th>\n",
       "      <td>NaN</td>\n",
       "      <td>NaN</td>\n",
       "    </tr>\n",
       "    <tr>\n",
       "      <th>3</th>\n",
       "      <td>-0.141661</td>\n",
       "      <td>NaN</td>\n",
       "    </tr>\n",
       "    <tr>\n",
       "      <th>4</th>\n",
       "      <td>NaN</td>\n",
       "      <td>-0.260047</td>\n",
       "    </tr>\n",
       "    <tr>\n",
       "      <th>5</th>\n",
       "      <td>NaN</td>\n",
       "      <td>NaN</td>\n",
       "    </tr>\n",
       "    <tr>\n",
       "      <th>6</th>\n",
       "      <td>NaN</td>\n",
       "      <td>NaN</td>\n",
       "    </tr>\n",
       "    <tr>\n",
       "      <th>7</th>\n",
       "      <td>0.214413</td>\n",
       "      <td>NaN</td>\n",
       "    </tr>\n",
       "    <tr>\n",
       "      <th>8</th>\n",
       "      <td>NaN</td>\n",
       "      <td>NaN</td>\n",
       "    </tr>\n",
       "    <tr>\n",
       "      <th>9</th>\n",
       "      <td>NaN</td>\n",
       "      <td>NaN</td>\n",
       "    </tr>\n",
       "  </tbody>\n",
       "</table>\n",
       "</div>"
      ],
      "text/plain": [
       "         x0        x1\n",
       "0       NaN       NaN\n",
       "1       NaN       NaN\n",
       "2       NaN       NaN\n",
       "3 -0.141661       NaN\n",
       "4       NaN -0.260047\n",
       "5       NaN       NaN\n",
       "6       NaN       NaN\n",
       "7  0.214413       NaN\n",
       "8       NaN       NaN\n",
       "9       NaN       NaN"
      ]
     },
     "execution_count": null,
     "metadata": {},
     "output_type": "execute_result"
    }
   ],
   "source": [
    "GPFAFakeData(2, 10).add_random_missing(prob_miss_value = .7, prob_miss_row=.0).data"
   ]
  },
  {
   "cell_type": "markdown",
   "id": "0f884508",
   "metadata": {},
   "source": [
    "### Save as DataFrame"
   ]
  },
  {
   "cell_type": "code",
   "execution_count": null,
   "id": "80516e95",
   "metadata": {},
   "outputs": [],
   "source": [
    "@patch\n",
    "def tidy_df(self: GPFAFakeData,\n",
    "          complete = False, # full dataset (False) or the one with missing data (True)\n",
    "          is_missing = False # add flag whether value is missing\n",
    "         ):\n",
    "    \n",
    "    df = self.data if not complete else self.data_complete # no need to copy here because next lines does a copy anyway\n",
    "    df = df.assign(time = self.time.numpy())\n",
    "        \n",
    "    df = df.melt(\"time\")\n",
    "    \n",
    "    if is_missing: df = df.assign(is_missing = self.data.melt().value.isna()) #missing data is not from complete data\n",
    "        \n",
    "    return df"
   ]
  },
  {
   "cell_type": "code",
   "execution_count": null,
   "id": "afd41dbe",
   "metadata": {},
   "outputs": [
    {
     "data": {
      "text/html": [
       "<div>\n",
       "<style scoped>\n",
       "    .dataframe tbody tr th:only-of-type {\n",
       "        vertical-align: middle;\n",
       "    }\n",
       "\n",
       "    .dataframe tbody tr th {\n",
       "        vertical-align: top;\n",
       "    }\n",
       "\n",
       "    .dataframe thead th {\n",
       "        text-align: right;\n",
       "    }\n",
       "</style>\n",
       "<table border=\"1\" class=\"dataframe\">\n",
       "  <thead>\n",
       "    <tr style=\"text-align: right;\">\n",
       "      <th></th>\n",
       "      <th>time</th>\n",
       "      <th>variable</th>\n",
       "      <th>value</th>\n",
       "    </tr>\n",
       "  </thead>\n",
       "  <tbody>\n",
       "    <tr>\n",
       "      <th>0</th>\n",
       "      <td>0.0</td>\n",
       "      <td>x0</td>\n",
       "      <td>0.008676</td>\n",
       "    </tr>\n",
       "    <tr>\n",
       "      <th>1</th>\n",
       "      <td>1.0</td>\n",
       "      <td>x0</td>\n",
       "      <td>-0.131580</td>\n",
       "    </tr>\n",
       "    <tr>\n",
       "      <th>2</th>\n",
       "      <td>2.0</td>\n",
       "      <td>x0</td>\n",
       "      <td>-0.296656</td>\n",
       "    </tr>\n",
       "    <tr>\n",
       "      <th>3</th>\n",
       "      <td>3.0</td>\n",
       "      <td>x0</td>\n",
       "      <td>0.749373</td>\n",
       "    </tr>\n",
       "    <tr>\n",
       "      <th>4</th>\n",
       "      <td>0.0</td>\n",
       "      <td>x1</td>\n",
       "      <td>-0.194478</td>\n",
       "    </tr>\n",
       "    <tr>\n",
       "      <th>5</th>\n",
       "      <td>1.0</td>\n",
       "      <td>x1</td>\n",
       "      <td>-0.041877</td>\n",
       "    </tr>\n",
       "    <tr>\n",
       "      <th>6</th>\n",
       "      <td>2.0</td>\n",
       "      <td>x1</td>\n",
       "      <td>-0.022229</td>\n",
       "    </tr>\n",
       "    <tr>\n",
       "      <th>7</th>\n",
       "      <td>3.0</td>\n",
       "      <td>x1</td>\n",
       "      <td>0.066919</td>\n",
       "    </tr>\n",
       "    <tr>\n",
       "      <th>8</th>\n",
       "      <td>0.0</td>\n",
       "      <td>x2</td>\n",
       "      <td>-0.234784</td>\n",
       "    </tr>\n",
       "    <tr>\n",
       "      <th>9</th>\n",
       "      <td>1.0</td>\n",
       "      <td>x2</td>\n",
       "      <td>0.224467</td>\n",
       "    </tr>\n",
       "    <tr>\n",
       "      <th>10</th>\n",
       "      <td>2.0</td>\n",
       "      <td>x2</td>\n",
       "      <td>-0.216300</td>\n",
       "    </tr>\n",
       "    <tr>\n",
       "      <th>11</th>\n",
       "      <td>3.0</td>\n",
       "      <td>x2</td>\n",
       "      <td>0.272668</td>\n",
       "    </tr>\n",
       "  </tbody>\n",
       "</table>\n",
       "</div>"
      ],
      "text/plain": [
       "    time variable     value\n",
       "0    0.0       x0  0.008676\n",
       "1    1.0       x0 -0.131580\n",
       "2    2.0       x0 -0.296656\n",
       "3    3.0       x0  0.749373\n",
       "4    0.0       x1 -0.194478\n",
       "5    1.0       x1 -0.041877\n",
       "6    2.0       x1 -0.022229\n",
       "7    3.0       x1  0.066919\n",
       "8    0.0       x2 -0.234784\n",
       "9    1.0       x2  0.224467\n",
       "10   2.0       x2 -0.216300\n",
       "11   3.0       x2  0.272668"
      ]
     },
     "execution_count": null,
     "metadata": {},
     "output_type": "execute_result"
    }
   ],
   "source": [
    "fd.tidy_df()"
   ]
  },
  {
   "cell_type": "code",
   "execution_count": null,
   "id": "7f7dd5a4",
   "metadata": {},
   "outputs": [
    {
     "data": {
      "text/html": [
       "<div>\n",
       "<style scoped>\n",
       "    .dataframe tbody tr th:only-of-type {\n",
       "        vertical-align: middle;\n",
       "    }\n",
       "\n",
       "    .dataframe tbody tr th {\n",
       "        vertical-align: top;\n",
       "    }\n",
       "\n",
       "    .dataframe thead th {\n",
       "        text-align: right;\n",
       "    }\n",
       "</style>\n",
       "<table border=\"1\" class=\"dataframe\">\n",
       "  <thead>\n",
       "    <tr style=\"text-align: right;\">\n",
       "      <th></th>\n",
       "      <th>time</th>\n",
       "      <th>variable</th>\n",
       "      <th>value</th>\n",
       "    </tr>\n",
       "  </thead>\n",
       "  <tbody>\n",
       "    <tr>\n",
       "      <th>0</th>\n",
       "      <td>0.0</td>\n",
       "      <td>x0</td>\n",
       "      <td>0.008676</td>\n",
       "    </tr>\n",
       "    <tr>\n",
       "      <th>1</th>\n",
       "      <td>1.0</td>\n",
       "      <td>x0</td>\n",
       "      <td>-0.131580</td>\n",
       "    </tr>\n",
       "    <tr>\n",
       "      <th>2</th>\n",
       "      <td>2.0</td>\n",
       "      <td>x0</td>\n",
       "      <td>-0.296656</td>\n",
       "    </tr>\n",
       "    <tr>\n",
       "      <th>3</th>\n",
       "      <td>3.0</td>\n",
       "      <td>x0</td>\n",
       "      <td>0.749373</td>\n",
       "    </tr>\n",
       "    <tr>\n",
       "      <th>4</th>\n",
       "      <td>0.0</td>\n",
       "      <td>x1</td>\n",
       "      <td>-0.194478</td>\n",
       "    </tr>\n",
       "    <tr>\n",
       "      <th>5</th>\n",
       "      <td>1.0</td>\n",
       "      <td>x1</td>\n",
       "      <td>-0.041877</td>\n",
       "    </tr>\n",
       "    <tr>\n",
       "      <th>6</th>\n",
       "      <td>2.0</td>\n",
       "      <td>x1</td>\n",
       "      <td>-0.022229</td>\n",
       "    </tr>\n",
       "    <tr>\n",
       "      <th>7</th>\n",
       "      <td>3.0</td>\n",
       "      <td>x1</td>\n",
       "      <td>0.066919</td>\n",
       "    </tr>\n",
       "    <tr>\n",
       "      <th>8</th>\n",
       "      <td>0.0</td>\n",
       "      <td>x2</td>\n",
       "      <td>-0.234784</td>\n",
       "    </tr>\n",
       "    <tr>\n",
       "      <th>9</th>\n",
       "      <td>1.0</td>\n",
       "      <td>x2</td>\n",
       "      <td>0.224467</td>\n",
       "    </tr>\n",
       "    <tr>\n",
       "      <th>10</th>\n",
       "      <td>2.0</td>\n",
       "      <td>x2</td>\n",
       "      <td>-0.216300</td>\n",
       "    </tr>\n",
       "    <tr>\n",
       "      <th>11</th>\n",
       "      <td>3.0</td>\n",
       "      <td>x2</td>\n",
       "      <td>0.272668</td>\n",
       "    </tr>\n",
       "  </tbody>\n",
       "</table>\n",
       "</div>"
      ],
      "text/plain": [
       "    time variable     value\n",
       "0    0.0       x0  0.008676\n",
       "1    1.0       x0 -0.131580\n",
       "2    2.0       x0 -0.296656\n",
       "3    3.0       x0  0.749373\n",
       "4    0.0       x1 -0.194478\n",
       "5    1.0       x1 -0.041877\n",
       "6    2.0       x1 -0.022229\n",
       "7    3.0       x1  0.066919\n",
       "8    0.0       x2 -0.234784\n",
       "9    1.0       x2  0.224467\n",
       "10   2.0       x2 -0.216300\n",
       "11   3.0       x2  0.272668"
      ]
     },
     "execution_count": null,
     "metadata": {},
     "output_type": "execute_result"
    }
   ],
   "source": [
    "fd.tidy_df(complete=True)"
   ]
  },
  {
   "cell_type": "code",
   "execution_count": null,
   "id": "3953a756",
   "metadata": {},
   "outputs": [
    {
     "data": {
      "text/html": [
       "<div>\n",
       "<style scoped>\n",
       "    .dataframe tbody tr th:only-of-type {\n",
       "        vertical-align: middle;\n",
       "    }\n",
       "\n",
       "    .dataframe tbody tr th {\n",
       "        vertical-align: top;\n",
       "    }\n",
       "\n",
       "    .dataframe thead th {\n",
       "        text-align: right;\n",
       "    }\n",
       "</style>\n",
       "<table border=\"1\" class=\"dataframe\">\n",
       "  <thead>\n",
       "    <tr style=\"text-align: right;\">\n",
       "      <th></th>\n",
       "      <th>time</th>\n",
       "      <th>variable</th>\n",
       "      <th>value</th>\n",
       "      <th>is_missing</th>\n",
       "    </tr>\n",
       "  </thead>\n",
       "  <tbody>\n",
       "    <tr>\n",
       "      <th>0</th>\n",
       "      <td>0.0</td>\n",
       "      <td>x0</td>\n",
       "      <td>0.008676</td>\n",
       "      <td>False</td>\n",
       "    </tr>\n",
       "    <tr>\n",
       "      <th>1</th>\n",
       "      <td>1.0</td>\n",
       "      <td>x0</td>\n",
       "      <td>-0.131580</td>\n",
       "      <td>False</td>\n",
       "    </tr>\n",
       "    <tr>\n",
       "      <th>2</th>\n",
       "      <td>2.0</td>\n",
       "      <td>x0</td>\n",
       "      <td>-0.296656</td>\n",
       "      <td>False</td>\n",
       "    </tr>\n",
       "    <tr>\n",
       "      <th>3</th>\n",
       "      <td>3.0</td>\n",
       "      <td>x0</td>\n",
       "      <td>0.749373</td>\n",
       "      <td>False</td>\n",
       "    </tr>\n",
       "    <tr>\n",
       "      <th>4</th>\n",
       "      <td>0.0</td>\n",
       "      <td>x1</td>\n",
       "      <td>-0.194478</td>\n",
       "      <td>False</td>\n",
       "    </tr>\n",
       "    <tr>\n",
       "      <th>5</th>\n",
       "      <td>1.0</td>\n",
       "      <td>x1</td>\n",
       "      <td>-0.041877</td>\n",
       "      <td>False</td>\n",
       "    </tr>\n",
       "    <tr>\n",
       "      <th>6</th>\n",
       "      <td>2.0</td>\n",
       "      <td>x1</td>\n",
       "      <td>-0.022229</td>\n",
       "      <td>False</td>\n",
       "    </tr>\n",
       "    <tr>\n",
       "      <th>7</th>\n",
       "      <td>3.0</td>\n",
       "      <td>x1</td>\n",
       "      <td>0.066919</td>\n",
       "      <td>False</td>\n",
       "    </tr>\n",
       "    <tr>\n",
       "      <th>8</th>\n",
       "      <td>0.0</td>\n",
       "      <td>x2</td>\n",
       "      <td>-0.234784</td>\n",
       "      <td>False</td>\n",
       "    </tr>\n",
       "    <tr>\n",
       "      <th>9</th>\n",
       "      <td>1.0</td>\n",
       "      <td>x2</td>\n",
       "      <td>0.224467</td>\n",
       "      <td>False</td>\n",
       "    </tr>\n",
       "    <tr>\n",
       "      <th>10</th>\n",
       "      <td>2.0</td>\n",
       "      <td>x2</td>\n",
       "      <td>-0.216300</td>\n",
       "      <td>False</td>\n",
       "    </tr>\n",
       "    <tr>\n",
       "      <th>11</th>\n",
       "      <td>3.0</td>\n",
       "      <td>x2</td>\n",
       "      <td>0.272668</td>\n",
       "      <td>False</td>\n",
       "    </tr>\n",
       "  </tbody>\n",
       "</table>\n",
       "</div>"
      ],
      "text/plain": [
       "    time variable     value  is_missing\n",
       "0    0.0       x0  0.008676       False\n",
       "1    1.0       x0 -0.131580       False\n",
       "2    2.0       x0 -0.296656       False\n",
       "3    3.0       x0  0.749373       False\n",
       "4    0.0       x1 -0.194478       False\n",
       "5    1.0       x1 -0.041877       False\n",
       "6    2.0       x1 -0.022229       False\n",
       "7    3.0       x1  0.066919       False\n",
       "8    0.0       x2 -0.234784       False\n",
       "9    1.0       x2  0.224467       False\n",
       "10   2.0       x2 -0.216300       False\n",
       "11   3.0       x2  0.272668       False"
      ]
     },
     "execution_count": null,
     "metadata": {},
     "output_type": "execute_result"
    }
   ],
   "source": [
    "fd.tidy_df(complete=False, is_missing=True)"
   ]
  },
  {
   "cell_type": "markdown",
   "id": "b7ed573a",
   "metadata": {},
   "source": [
    "The export as a dataframe is working correctly with the missing data"
   ]
  },
  {
   "cell_type": "code",
   "execution_count": null,
   "id": "c9821ff7",
   "metadata": {},
   "outputs": [],
   "source": [
    "fd_df = fd.tidy_df()"
   ]
  },
  {
   "cell_type": "code",
   "execution_count": null,
   "id": "ed7f5fbb",
   "metadata": {},
   "outputs": [
    {
     "name": "stderr",
     "output_type": "stream",
     "text": [
      "/home/simone/anaconda3/envs/data-science/lib/python3.10/site-packages/altair/utils/core.py:317: FutureWarning: iteritems is deprecated and will be removed in a future version. Use .items instead.\n",
      "  for col_name, dtype in df.dtypes.iteritems():\n"
     ]
    },
    {
     "data": {
      "text/html": [
       "\n",
       "<div id=\"altair-viz-7aec58b76f024bb18295cdee701885b0\"></div>\n",
       "<script type=\"text/javascript\">\n",
       "  var VEGA_DEBUG = (typeof VEGA_DEBUG == \"undefined\") ? {} : VEGA_DEBUG;\n",
       "  (function(spec, embedOpt){\n",
       "    let outputDiv = document.currentScript.previousElementSibling;\n",
       "    if (outputDiv.id !== \"altair-viz-7aec58b76f024bb18295cdee701885b0\") {\n",
       "      outputDiv = document.getElementById(\"altair-viz-7aec58b76f024bb18295cdee701885b0\");\n",
       "    }\n",
       "    const paths = {\n",
       "      \"vega\": \"https://cdn.jsdelivr.net/npm//vega@5?noext\",\n",
       "      \"vega-lib\": \"https://cdn.jsdelivr.net/npm//vega-lib?noext\",\n",
       "      \"vega-lite\": \"https://cdn.jsdelivr.net/npm//vega-lite@4.17.0?noext\",\n",
       "      \"vega-embed\": \"https://cdn.jsdelivr.net/npm//vega-embed@6?noext\",\n",
       "    };\n",
       "\n",
       "    function maybeLoadScript(lib, version) {\n",
       "      var key = `${lib.replace(\"-\", \"\")}_version`;\n",
       "      return (VEGA_DEBUG[key] == version) ?\n",
       "        Promise.resolve(paths[lib]) :\n",
       "        new Promise(function(resolve, reject) {\n",
       "          var s = document.createElement('script');\n",
       "          document.getElementsByTagName(\"head\")[0].appendChild(s);\n",
       "          s.async = true;\n",
       "          s.onload = () => {\n",
       "            VEGA_DEBUG[key] = version;\n",
       "            return resolve(paths[lib]);\n",
       "          };\n",
       "          s.onerror = () => reject(`Error loading script: ${paths[lib]}`);\n",
       "          s.src = paths[lib];\n",
       "        });\n",
       "    }\n",
       "\n",
       "    function showError(err) {\n",
       "      outputDiv.innerHTML = `<div class=\"error\" style=\"color:red;\">${err}</div>`;\n",
       "      throw err;\n",
       "    }\n",
       "\n",
       "    function displayChart(vegaEmbed) {\n",
       "      vegaEmbed(outputDiv, spec, embedOpt)\n",
       "        .catch(err => showError(`Javascript Error: ${err.message}<br>This usually means there's a typo in your chart specification. See the javascript console for the full traceback.`));\n",
       "    }\n",
       "\n",
       "    if(typeof define === \"function\" && define.amd) {\n",
       "      requirejs.config({paths});\n",
       "      require([\"vega-embed\"], displayChart, err => showError(`Error loading script: ${err.message}`));\n",
       "    } else {\n",
       "      maybeLoadScript(\"vega\", \"5\")\n",
       "        .then(() => maybeLoadScript(\"vega-lite\", \"4.17.0\"))\n",
       "        .then(() => maybeLoadScript(\"vega-embed\", \"6\"))\n",
       "        .catch(showError)\n",
       "        .then(() => displayChart(vegaEmbed));\n",
       "    }\n",
       "  })({\"config\": {\"view\": {\"continuousWidth\": 400, \"continuousHeight\": 300}}, \"data\": {\"name\": \"data-935ed05c9f20151f27d0d69aec20979d\"}, \"mark\": {\"type\": \"line\", \"point\": true}, \"encoding\": {\"color\": {\"field\": \"variable\", \"type\": \"nominal\"}, \"x\": {\"field\": \"time\", \"type\": \"quantitative\"}, \"y\": {\"field\": \"value\", \"type\": \"quantitative\"}}, \"$schema\": \"https://vega.github.io/schema/vega-lite/v4.17.0.json\", \"datasets\": {\"data-935ed05c9f20151f27d0d69aec20979d\": [{\"time\": 0.0, \"variable\": \"x0\", \"value\": 0.008675660006701946}, {\"time\": 1.0, \"variable\": \"x0\", \"value\": -0.13157980144023895}, {\"time\": 2.0, \"variable\": \"x0\", \"value\": -0.29665619134902954}, {\"time\": 3.0, \"variable\": \"x0\", \"value\": 0.7493731379508972}, {\"time\": 0.0, \"variable\": \"x1\", \"value\": -0.19447755813598633}, {\"time\": 1.0, \"variable\": \"x1\", \"value\": -0.041877392679452896}, {\"time\": 2.0, \"variable\": \"x1\", \"value\": -0.022229306399822235}, {\"time\": 3.0, \"variable\": \"x1\", \"value\": 0.06691866368055344}, {\"time\": 0.0, \"variable\": \"x2\", \"value\": -0.23478448390960693}, {\"time\": 1.0, \"variable\": \"x2\", \"value\": 0.22446686029434204}, {\"time\": 2.0, \"variable\": \"x2\", \"value\": -0.216300368309021}, {\"time\": 3.0, \"variable\": \"x2\", \"value\": 0.27266839146614075}]}}, {\"mode\": \"vega-lite\"});\n",
       "</script>"
      ],
      "text/plain": [
       "alt.Chart(...)"
      ]
     },
     "execution_count": null,
     "metadata": {},
     "output_type": "execute_result"
    }
   ],
   "source": [
    "alt.Chart(fd_df).mark_line(point=True).encode(\n",
    "    x = \"time\",\n",
    "    y = \"value\",\n",
    "    color = \"variable\"\n",
    ")"
   ]
  },
  {
   "cell_type": "code",
   "execution_count": null,
   "id": "781b4ce9",
   "metadata": {},
   "outputs": [
    {
     "data": {
      "text/html": [
       "<div>\n",
       "<style scoped>\n",
       "    .dataframe tbody tr th:only-of-type {\n",
       "        vertical-align: middle;\n",
       "    }\n",
       "\n",
       "    .dataframe tbody tr th {\n",
       "        vertical-align: top;\n",
       "    }\n",
       "\n",
       "    .dataframe thead th {\n",
       "        text-align: right;\n",
       "    }\n",
       "</style>\n",
       "<table border=\"1\" class=\"dataframe\">\n",
       "  <thead>\n",
       "    <tr style=\"text-align: right;\">\n",
       "      <th></th>\n",
       "      <th>x0</th>\n",
       "      <th>x1</th>\n",
       "      <th>x2</th>\n",
       "    </tr>\n",
       "  </thead>\n",
       "  <tbody>\n",
       "    <tr>\n",
       "      <th>0</th>\n",
       "      <td>0.008676</td>\n",
       "      <td>-0.194478</td>\n",
       "      <td>-0.234784</td>\n",
       "    </tr>\n",
       "    <tr>\n",
       "      <th>1</th>\n",
       "      <td>-0.131580</td>\n",
       "      <td>-0.041877</td>\n",
       "      <td>0.224467</td>\n",
       "    </tr>\n",
       "    <tr>\n",
       "      <th>2</th>\n",
       "      <td>-0.296656</td>\n",
       "      <td>-0.022229</td>\n",
       "      <td>-0.216300</td>\n",
       "    </tr>\n",
       "    <tr>\n",
       "      <th>3</th>\n",
       "      <td>0.749373</td>\n",
       "      <td>0.066919</td>\n",
       "      <td>0.272668</td>\n",
       "    </tr>\n",
       "  </tbody>\n",
       "</table>\n",
       "</div>"
      ],
      "text/plain": [
       "         x0        x1        x2\n",
       "0  0.008676 -0.194478 -0.234784\n",
       "1 -0.131580 -0.041877  0.224467\n",
       "2 -0.296656 -0.022229 -0.216300\n",
       "3  0.749373  0.066919  0.272668"
      ]
     },
     "execution_count": null,
     "metadata": {},
     "output_type": "execute_result"
    }
   ],
   "source": [
    "fd.data"
   ]
  },
  {
   "cell_type": "markdown",
   "id": "5739f7a8",
   "metadata": {},
   "source": [
    "## GPFA Imputation"
   ]
  },
  {
   "cell_type": "markdown",
   "id": "9718ca7e",
   "metadata": {},
   "source": [
    "This is the core class that does the imputation using a GPFA\n",
    "\n",
    "The inputs is:\n",
    "\n",
    "- a dataframe containing the observed data, where the row with missing data have been removed\n",
    "- a vector of times where the data is missing\n",
    "\n",
    "it returns:\n",
    "\n",
    "- a complete dataframe with the prediction of the model"
   ]
  },
  {
   "cell_type": "markdown",
   "id": "0c443423",
   "metadata": {},
   "source": [
    "The goal is that `GPFAImputation` takes as imput a dataframe containing missing values and then it imputes them using GPFALearner.\n",
    "Therefore it needs to divide the dataframe in 3 sections:\n",
    "\n",
    "- training data (rows with no NAs)\n",
    "- times to be imputed (rows with some NAs)\n",
    "- observations (variables in the pred rows that are not missing) for conditional predictions"
   ]
  },
  {
   "cell_type": "code",
   "execution_count": null,
   "id": "b2e1b4b5",
   "metadata": {},
   "outputs": [],
   "source": [
    "t_df = pd.DataFrame([\n",
    "    [1., 3., 4.],\n",
    "    [2., 6., np.nan],\n",
    "    [np.nan, np.nan, np.nan],\n",
    "    [np.nan, 8., np.nan],\n",
    "    [3., 4., 5.]\n",
    "]\n",
    ")"
   ]
  },
  {
   "cell_type": "code",
   "execution_count": null,
   "id": "bc87d59d",
   "metadata": {},
   "outputs": [
    {
     "name": "stderr",
     "output_type": "stream",
     "text": [
      "/tmp/ipykernel_97617/3664883938.py:1: FutureWarning: In a future version of pandas all arguments of DataFrame.any and Series.any will be keyword-only.\n",
      "  train_idx = ~t_df.isna().any(1)\n"
     ]
    }
   ],
   "source": [
    "train_idx = ~t_df.isna().any(1)"
   ]
  },
  {
   "cell_type": "code",
   "execution_count": null,
   "id": "f77f250d",
   "metadata": {},
   "outputs": [
    {
     "data": {
      "text/html": [
       "<div>\n",
       "<style scoped>\n",
       "    .dataframe tbody tr th:only-of-type {\n",
       "        vertical-align: middle;\n",
       "    }\n",
       "\n",
       "    .dataframe tbody tr th {\n",
       "        vertical-align: top;\n",
       "    }\n",
       "\n",
       "    .dataframe thead th {\n",
       "        text-align: right;\n",
       "    }\n",
       "</style>\n",
       "<table border=\"1\" class=\"dataframe\">\n",
       "  <thead>\n",
       "    <tr style=\"text-align: right;\">\n",
       "      <th></th>\n",
       "      <th>0</th>\n",
       "      <th>1</th>\n",
       "      <th>2</th>\n",
       "    </tr>\n",
       "  </thead>\n",
       "  <tbody>\n",
       "    <tr>\n",
       "      <th>0</th>\n",
       "      <td>1.0</td>\n",
       "      <td>3.0</td>\n",
       "      <td>4.0</td>\n",
       "    </tr>\n",
       "    <tr>\n",
       "      <th>4</th>\n",
       "      <td>3.0</td>\n",
       "      <td>4.0</td>\n",
       "      <td>5.0</td>\n",
       "    </tr>\n",
       "  </tbody>\n",
       "</table>\n",
       "</div>"
      ],
      "text/plain": [
       "     0    1    2\n",
       "0  1.0  3.0  4.0\n",
       "4  3.0  4.0  5.0"
      ]
     },
     "execution_count": null,
     "metadata": {},
     "output_type": "execute_result"
    }
   ],
   "source": [
    "t_df[train_idx]"
   ]
  },
  {
   "cell_type": "code",
   "execution_count": null,
   "id": "e2bfebc1",
   "metadata": {},
   "outputs": [],
   "source": [
    "pred_data = t_df[~train_idx].to_numpy() "
   ]
  },
  {
   "cell_type": "code",
   "execution_count": null,
   "id": "b8bb2bdd",
   "metadata": {},
   "outputs": [
    {
     "data": {
      "text/plain": [
       "array([[ 2.,  6., nan],\n",
       "       [nan, nan, nan],\n",
       "       [nan,  8., nan]])"
      ]
     },
     "execution_count": null,
     "metadata": {},
     "output_type": "execute_result"
    }
   ],
   "source": [
    "pred_data"
   ]
  },
  {
   "cell_type": "code",
   "execution_count": null,
   "id": "998471b0",
   "metadata": {},
   "outputs": [],
   "source": [
    "idx_cond = ~t_df[~train_idx].isna()"
   ]
  },
  {
   "cell_type": "code",
   "execution_count": null,
   "id": "59f7bca4",
   "metadata": {},
   "outputs": [
    {
     "data": {
      "text/html": [
       "<div>\n",
       "<style scoped>\n",
       "    .dataframe tbody tr th:only-of-type {\n",
       "        vertical-align: middle;\n",
       "    }\n",
       "\n",
       "    .dataframe tbody tr th {\n",
       "        vertical-align: top;\n",
       "    }\n",
       "\n",
       "    .dataframe thead th {\n",
       "        text-align: right;\n",
       "    }\n",
       "</style>\n",
       "<table border=\"1\" class=\"dataframe\">\n",
       "  <thead>\n",
       "    <tr style=\"text-align: right;\">\n",
       "      <th></th>\n",
       "      <th>0</th>\n",
       "      <th>1</th>\n",
       "      <th>2</th>\n",
       "    </tr>\n",
       "  </thead>\n",
       "  <tbody>\n",
       "    <tr>\n",
       "      <th>1</th>\n",
       "      <td>True</td>\n",
       "      <td>True</td>\n",
       "      <td>False</td>\n",
       "    </tr>\n",
       "    <tr>\n",
       "      <th>2</th>\n",
       "      <td>False</td>\n",
       "      <td>False</td>\n",
       "      <td>False</td>\n",
       "    </tr>\n",
       "    <tr>\n",
       "      <th>3</th>\n",
       "      <td>False</td>\n",
       "      <td>True</td>\n",
       "      <td>False</td>\n",
       "    </tr>\n",
       "  </tbody>\n",
       "</table>\n",
       "</div>"
      ],
      "text/plain": [
       "       0      1      2\n",
       "1   True   True  False\n",
       "2  False  False  False\n",
       "3  False   True  False"
      ]
     },
     "execution_count": null,
     "metadata": {},
     "output_type": "execute_result"
    }
   ],
   "source": [
    "idx_cond"
   ]
  },
  {
   "cell_type": "code",
   "execution_count": null,
   "id": "0e747440-b67f-453b-a52e-0bfbb6e67c5e",
   "metadata": {},
   "outputs": [],
   "source": [
    "#idx_cond = idx_cond.to_numpy().flatten() # learner needs a 1D index\n",
    "\n",
    "#pred_data.flatten()[idx_cond]\n",
    "\n",
    "#train_idx = t_df.isna().any(axis=1)\n",
    "\n",
    "#torch.tensor(~t_df[~train_idx].isna().to_numpy().flatten())"
   ]
  },
  {
   "cell_type": "markdown",
   "id": "94de0357",
   "metadata": {},
   "source": [
    "Implement this into a function"
   ]
  },
  {
   "cell_type": "code",
   "execution_count": null,
   "id": "1a873d40",
   "metadata": {},
   "outputs": [],
   "source": [
    "#| export\n",
    "class GPFAImputation:\n",
    "    def __init__(\n",
    "        self,\n",
    "        data: pd.DataFrame , #observed data with missing data as NA\n",
    "    ):\n",
    "        self.data = data\n",
    "        self.T = torch.arange(0, len(data), dtype=torch.float32) # time is encoded with a increase of 1\n",
    "        \n",
    "        # Training data\n",
    "        self.train_idx = ~self.data.isna().any(axis=1)\n",
    "        self.train_data = torch.tensor(self.data[self.train_idx].to_numpy())\n",
    "        self.train_T = self.T[self.train_idx]\n",
    "        \n",
    "        self.learner = GPFALearner(X = self.train_data, T = self.train_T)\n",
    "\n",
    "        # Prediction data\n",
    "        self.pred_T = self.T[~self.train_idx]\n",
    "        self.cond_idx = torch.tensor(~self.data[~self.train_idx].isna().to_numpy().flatten()) # conditional obsevations\n",
    "        self.cond_obs = torch.tensor(self.data[~self.train_idx].to_numpy().flatten()[self.cond_idx])\n",
    "        \n",
    "        \n",
    "    def impute(self,\n",
    "               add_time = True, # add column with time?\n",
    "               tidy = True # tidy data?\n",
    "               ):\n",
    "        self.learner.train()\n",
    "        self.pred = self.learner.predict(self.pred_T, obs = self.cond_obs, idx = self.cond_idx)\n",
    "        \n",
    "        if tidy: return self._impute_tidy(add_time)\n",
    "        else: return self._impute_wide(add_time)\n",
    "        \n",
    "        \n",
    "    def _impute_wide(self, add_time):\n",
    "        \"\"\" Impute in wide format\"\"\"\n",
    "        \n",
    "        imp_data = self.data.copy()\n",
    "        for col_idx, col_name in enumerate(imp_data.columns):\n",
    "            imp_data.loc[~self.train_idx, col_name] = self.pred.mean[:, col_idx].numpy()\n",
    "            imp_data.loc[~self.train_idx, col_name + \"_std\"] = self.pred.std[:, col_idx].numpy()\n",
    "        \n",
    "        idx_vars = []\n",
    "        if add_time:\n",
    "            imp_data[\"time\"] = self.T\n",
    "            idx_vars.append(\"time\")\n",
    "        \n",
    "        return imp_data \n",
    "    \n",
    "    def _impute_tidy(self, add_time):\n",
    "        \"\"\" transform the pred output into a tidy dataframe suitable for plotting\"\"\"\n",
    "        feature_names = self.data.columns\n",
    "\n",
    "        pred_mean = pd.DataFrame(self.pred.mean, columns = feature_names).assign(time = self.pred_T).melt(\"time\", value_name=\"mean\")\n",
    "        pred_std = pd.DataFrame(self.pred.std, columns = feature_names).assign(time = self.pred_T).melt(\"time\", value_name=\"std\")\n",
    "        \n",
    "        pred = pd.merge(pred_mean, pred_std, on=['time', 'variable'])  \n",
    "        \n",
    "        train_data = self.data[self.train_idx].assign(time = self.train_T).melt(\"time\", value_name = \"mean\")\n",
    "               \n",
    "        imp_data = pd.concat((train_data, pred))\n",
    "        \n",
    "        return imp_data\n",
    "    "
   ]
  },
  {
   "cell_type": "code",
   "execution_count": null,
   "id": "05800adf",
   "metadata": {},
   "outputs": [],
   "source": [
    "fd = GPFAFakeData(2, 10, Lambda=[1,2.]).add_random_missing()"
   ]
  },
  {
   "cell_type": "code",
   "execution_count": null,
   "id": "eb1c3c25",
   "metadata": {},
   "outputs": [
    {
     "data": {
      "text/html": [
       "<div>\n",
       "<style scoped>\n",
       "    .dataframe tbody tr th:only-of-type {\n",
       "        vertical-align: middle;\n",
       "    }\n",
       "\n",
       "    .dataframe tbody tr th {\n",
       "        vertical-align: top;\n",
       "    }\n",
       "\n",
       "    .dataframe thead th {\n",
       "        text-align: right;\n",
       "    }\n",
       "</style>\n",
       "<table border=\"1\" class=\"dataframe\">\n",
       "  <thead>\n",
       "    <tr style=\"text-align: right;\">\n",
       "      <th></th>\n",
       "      <th>x0</th>\n",
       "      <th>x1</th>\n",
       "    </tr>\n",
       "  </thead>\n",
       "  <tbody>\n",
       "    <tr>\n",
       "      <th>0</th>\n",
       "      <td>0.041010</td>\n",
       "      <td>-0.155358</td>\n",
       "    </tr>\n",
       "    <tr>\n",
       "      <th>1</th>\n",
       "      <td>0.393050</td>\n",
       "      <td>0.496807</td>\n",
       "    </tr>\n",
       "    <tr>\n",
       "      <th>2</th>\n",
       "      <td>-0.378371</td>\n",
       "      <td>NaN</td>\n",
       "    </tr>\n",
       "    <tr>\n",
       "      <th>3</th>\n",
       "      <td>0.340304</td>\n",
       "      <td>0.932448</td>\n",
       "    </tr>\n",
       "    <tr>\n",
       "      <th>4</th>\n",
       "      <td>-0.595726</td>\n",
       "      <td>-1.212931</td>\n",
       "    </tr>\n",
       "    <tr>\n",
       "      <th>5</th>\n",
       "      <td>0.856908</td>\n",
       "      <td>1.033006</td>\n",
       "    </tr>\n",
       "    <tr>\n",
       "      <th>6</th>\n",
       "      <td>-0.755094</td>\n",
       "      <td>-1.531880</td>\n",
       "    </tr>\n",
       "    <tr>\n",
       "      <th>7</th>\n",
       "      <td>0.844316</td>\n",
       "      <td>1.282393</td>\n",
       "    </tr>\n",
       "    <tr>\n",
       "      <th>8</th>\n",
       "      <td>NaN</td>\n",
       "      <td>NaN</td>\n",
       "    </tr>\n",
       "    <tr>\n",
       "      <th>9</th>\n",
       "      <td>1.006589</td>\n",
       "      <td>1.710613</td>\n",
       "    </tr>\n",
       "  </tbody>\n",
       "</table>\n",
       "</div>"
      ],
      "text/plain": [
       "         x0        x1\n",
       "0  0.041010 -0.155358\n",
       "1  0.393050  0.496807\n",
       "2 -0.378371       NaN\n",
       "3  0.340304  0.932448\n",
       "4 -0.595726 -1.212931\n",
       "5  0.856908  1.033006\n",
       "6 -0.755094 -1.531880\n",
       "7  0.844316  1.282393\n",
       "8       NaN       NaN\n",
       "9  1.006589  1.710613"
      ]
     },
     "execution_count": null,
     "metadata": {},
     "output_type": "execute_result"
    }
   ],
   "source": [
    "fd.data"
   ]
  },
  {
   "cell_type": "code",
   "execution_count": null,
   "id": "d3551add",
   "metadata": {},
   "outputs": [],
   "source": [
    "imp = GPFAImputation(fd.data)"
   ]
  },
  {
   "cell_type": "code",
   "execution_count": null,
   "id": "ac76e27e",
   "metadata": {},
   "outputs": [
    {
     "data": {
      "text/html": [
       "\n",
       "<style>\n",
       "    /* Turns off some styling */\n",
       "    progress {\n",
       "        /* gets rid of default border in Firefox and Opera. */\n",
       "        border: none;\n",
       "        /* Needs to be in here for Safari polyfill so background images work as expected. */\n",
       "        background-size: auto;\n",
       "    }\n",
       "    progress:not([value]), progress:not([value])::-webkit-progress-bar {\n",
       "        background: repeating-linear-gradient(45deg, #7e7e7e, #7e7e7e 10px, #5c5c5c 10px, #5c5c5c 20px);\n",
       "    }\n",
       "    .progress-bar-interrupted, .progress-bar-interrupted::-webkit-progress-bar {\n",
       "        background: #F44336;\n",
       "    }\n",
       "</style>\n"
      ],
      "text/plain": [
       "<IPython.core.display.HTML object>"
      ]
     },
     "metadata": {},
     "output_type": "display_data"
    },
    {
     "data": {
      "text/html": [],
      "text/plain": [
       "<IPython.core.display.HTML object>"
      ]
     },
     "metadata": {},
     "output_type": "display_data"
    },
    {
     "name": "stderr",
     "output_type": "stream",
     "text": [
      "/home/simone/anaconda3/envs/data-science/lib/python3.10/site-packages/gpytorch/lazy/triangular_lazy_tensor.py:136: UserWarning: torch.triangular_solve is deprecated in favor of torch.linalg.solve_triangularand will be removed in a future PyTorch release.\n",
      "torch.linalg.solve_triangular has its arguments reversed and does not return a copy of one of the inputs.\n",
      "X = torch.triangular_solve(B, A).solution\n",
      "should be replaced with\n",
      "X = torch.linalg.solve_triangular(A, B). (Triggered internally at  ../aten/src/ATen/native/BatchLinearAlgebra.cpp:2183.)\n",
      "  res = torch.triangular_solve(right_tensor, self.evaluate(), upper=self.upper).solution\n",
      "/home/simone/anaconda3/envs/data-science/lib/python3.10/site-packages/torch/autograd/__init__.py:173: UserWarning: operator() profile_node %840 : int[] = prim::profile_ivalue(%838)\n",
      " does not have profile information (Triggered internally at  ../torch/csrc/jit/codegen/cuda/graph_fuser.cpp:104.)\n",
      "  Variable._execution_engine.run_backward(  # Calls into the C++ engine to run the backward pass\n"
     ]
    },
    {
     "data": {
      "text/html": [
       "<div>\n",
       "<style scoped>\n",
       "    .dataframe tbody tr th:only-of-type {\n",
       "        vertical-align: middle;\n",
       "    }\n",
       "\n",
       "    .dataframe tbody tr th {\n",
       "        vertical-align: top;\n",
       "    }\n",
       "\n",
       "    .dataframe thead th {\n",
       "        text-align: right;\n",
       "    }\n",
       "</style>\n",
       "<table border=\"1\" class=\"dataframe\">\n",
       "  <thead>\n",
       "    <tr style=\"text-align: right;\">\n",
       "      <th></th>\n",
       "      <th>time</th>\n",
       "      <th>variable</th>\n",
       "      <th>mean</th>\n",
       "      <th>std</th>\n",
       "    </tr>\n",
       "  </thead>\n",
       "  <tbody>\n",
       "    <tr>\n",
       "      <th>0</th>\n",
       "      <td>0.0</td>\n",
       "      <td>x0</td>\n",
       "      <td>0.041010</td>\n",
       "      <td>NaN</td>\n",
       "    </tr>\n",
       "    <tr>\n",
       "      <th>1</th>\n",
       "      <td>1.0</td>\n",
       "      <td>x0</td>\n",
       "      <td>0.393050</td>\n",
       "      <td>NaN</td>\n",
       "    </tr>\n",
       "    <tr>\n",
       "      <th>2</th>\n",
       "      <td>3.0</td>\n",
       "      <td>x0</td>\n",
       "      <td>0.340304</td>\n",
       "      <td>NaN</td>\n",
       "    </tr>\n",
       "    <tr>\n",
       "      <th>3</th>\n",
       "      <td>4.0</td>\n",
       "      <td>x0</td>\n",
       "      <td>-0.595726</td>\n",
       "      <td>NaN</td>\n",
       "    </tr>\n",
       "    <tr>\n",
       "      <th>4</th>\n",
       "      <td>5.0</td>\n",
       "      <td>x0</td>\n",
       "      <td>0.856908</td>\n",
       "      <td>NaN</td>\n",
       "    </tr>\n",
       "    <tr>\n",
       "      <th>5</th>\n",
       "      <td>6.0</td>\n",
       "      <td>x0</td>\n",
       "      <td>-0.755094</td>\n",
       "      <td>NaN</td>\n",
       "    </tr>\n",
       "    <tr>\n",
       "      <th>6</th>\n",
       "      <td>7.0</td>\n",
       "      <td>x0</td>\n",
       "      <td>0.844316</td>\n",
       "      <td>NaN</td>\n",
       "    </tr>\n",
       "    <tr>\n",
       "      <th>7</th>\n",
       "      <td>9.0</td>\n",
       "      <td>x0</td>\n",
       "      <td>1.006589</td>\n",
       "      <td>NaN</td>\n",
       "    </tr>\n",
       "    <tr>\n",
       "      <th>8</th>\n",
       "      <td>0.0</td>\n",
       "      <td>x1</td>\n",
       "      <td>-0.155358</td>\n",
       "      <td>NaN</td>\n",
       "    </tr>\n",
       "    <tr>\n",
       "      <th>9</th>\n",
       "      <td>1.0</td>\n",
       "      <td>x1</td>\n",
       "      <td>0.496807</td>\n",
       "      <td>NaN</td>\n",
       "    </tr>\n",
       "    <tr>\n",
       "      <th>10</th>\n",
       "      <td>3.0</td>\n",
       "      <td>x1</td>\n",
       "      <td>0.932448</td>\n",
       "      <td>NaN</td>\n",
       "    </tr>\n",
       "    <tr>\n",
       "      <th>11</th>\n",
       "      <td>4.0</td>\n",
       "      <td>x1</td>\n",
       "      <td>-1.212931</td>\n",
       "      <td>NaN</td>\n",
       "    </tr>\n",
       "    <tr>\n",
       "      <th>12</th>\n",
       "      <td>5.0</td>\n",
       "      <td>x1</td>\n",
       "      <td>1.033006</td>\n",
       "      <td>NaN</td>\n",
       "    </tr>\n",
       "    <tr>\n",
       "      <th>13</th>\n",
       "      <td>6.0</td>\n",
       "      <td>x1</td>\n",
       "      <td>-1.531880</td>\n",
       "      <td>NaN</td>\n",
       "    </tr>\n",
       "    <tr>\n",
       "      <th>14</th>\n",
       "      <td>7.0</td>\n",
       "      <td>x1</td>\n",
       "      <td>1.282393</td>\n",
       "      <td>NaN</td>\n",
       "    </tr>\n",
       "    <tr>\n",
       "      <th>15</th>\n",
       "      <td>9.0</td>\n",
       "      <td>x1</td>\n",
       "      <td>1.710613</td>\n",
       "      <td>NaN</td>\n",
       "    </tr>\n",
       "    <tr>\n",
       "      <th>0</th>\n",
       "      <td>2.0</td>\n",
       "      <td>x0</td>\n",
       "      <td>-0.378371</td>\n",
       "      <td>0.000000</td>\n",
       "    </tr>\n",
       "    <tr>\n",
       "      <th>1</th>\n",
       "      <td>8.0</td>\n",
       "      <td>x0</td>\n",
       "      <td>0.266420</td>\n",
       "      <td>0.621688</td>\n",
       "    </tr>\n",
       "    <tr>\n",
       "      <th>2</th>\n",
       "      <td>2.0</td>\n",
       "      <td>x1</td>\n",
       "      <td>-0.801765</td>\n",
       "      <td>0.211213</td>\n",
       "    </tr>\n",
       "    <tr>\n",
       "      <th>3</th>\n",
       "      <td>8.0</td>\n",
       "      <td>x1</td>\n",
       "      <td>0.319387</td>\n",
       "      <td>1.101423</td>\n",
       "    </tr>\n",
       "  </tbody>\n",
       "</table>\n",
       "</div>"
      ],
      "text/plain": [
       "    time variable      mean       std\n",
       "0    0.0       x0  0.041010       NaN\n",
       "1    1.0       x0  0.393050       NaN\n",
       "2    3.0       x0  0.340304       NaN\n",
       "3    4.0       x0 -0.595726       NaN\n",
       "4    5.0       x0  0.856908       NaN\n",
       "5    6.0       x0 -0.755094       NaN\n",
       "6    7.0       x0  0.844316       NaN\n",
       "7    9.0       x0  1.006589       NaN\n",
       "8    0.0       x1 -0.155358       NaN\n",
       "9    1.0       x1  0.496807       NaN\n",
       "10   3.0       x1  0.932448       NaN\n",
       "11   4.0       x1 -1.212931       NaN\n",
       "12   5.0       x1  1.033006       NaN\n",
       "13   6.0       x1 -1.531880       NaN\n",
       "14   7.0       x1  1.282393       NaN\n",
       "15   9.0       x1  1.710613       NaN\n",
       "0    2.0       x0 -0.378371  0.000000\n",
       "1    8.0       x0  0.266420  0.621688\n",
       "2    2.0       x1 -0.801765  0.211213\n",
       "3    8.0       x1  0.319387  1.101423"
      ]
     },
     "execution_count": null,
     "metadata": {},
     "output_type": "execute_result"
    }
   ],
   "source": [
    "pred = imp.impute()\n",
    "pred"
   ]
  },
  {
   "cell_type": "code",
   "execution_count": null,
   "id": "c0741d33",
   "metadata": {},
   "outputs": [
    {
     "data": {
      "text/html": [
       "\n",
       "<style>\n",
       "    /* Turns off some styling */\n",
       "    progress {\n",
       "        /* gets rid of default border in Firefox and Opera. */\n",
       "        border: none;\n",
       "        /* Needs to be in here for Safari polyfill so background images work as expected. */\n",
       "        background-size: auto;\n",
       "    }\n",
       "    progress:not([value]), progress:not([value])::-webkit-progress-bar {\n",
       "        background: repeating-linear-gradient(45deg, #7e7e7e, #7e7e7e 10px, #5c5c5c 10px, #5c5c5c 20px);\n",
       "    }\n",
       "    .progress-bar-interrupted, .progress-bar-interrupted::-webkit-progress-bar {\n",
       "        background: #F44336;\n",
       "    }\n",
       "</style>\n"
      ],
      "text/plain": [
       "<IPython.core.display.HTML object>"
      ]
     },
     "metadata": {},
     "output_type": "display_data"
    },
    {
     "data": {
      "text/html": [],
      "text/plain": [
       "<IPython.core.display.HTML object>"
      ]
     },
     "metadata": {},
     "output_type": "display_data"
    },
    {
     "data": {
      "text/html": [
       "<div>\n",
       "<style scoped>\n",
       "    .dataframe tbody tr th:only-of-type {\n",
       "        vertical-align: middle;\n",
       "    }\n",
       "\n",
       "    .dataframe tbody tr th {\n",
       "        vertical-align: top;\n",
       "    }\n",
       "\n",
       "    .dataframe thead th {\n",
       "        text-align: right;\n",
       "    }\n",
       "</style>\n",
       "<table border=\"1\" class=\"dataframe\">\n",
       "  <thead>\n",
       "    <tr style=\"text-align: right;\">\n",
       "      <th></th>\n",
       "      <th>x0</th>\n",
       "      <th>x1</th>\n",
       "      <th>x0_std</th>\n",
       "      <th>x1_std</th>\n",
       "      <th>time</th>\n",
       "    </tr>\n",
       "  </thead>\n",
       "  <tbody>\n",
       "    <tr>\n",
       "      <th>0</th>\n",
       "      <td>0.041010</td>\n",
       "      <td>-0.155358</td>\n",
       "      <td>NaN</td>\n",
       "      <td>NaN</td>\n",
       "      <td>0.0</td>\n",
       "    </tr>\n",
       "    <tr>\n",
       "      <th>1</th>\n",
       "      <td>0.393050</td>\n",
       "      <td>0.496807</td>\n",
       "      <td>NaN</td>\n",
       "      <td>NaN</td>\n",
       "      <td>1.0</td>\n",
       "    </tr>\n",
       "    <tr>\n",
       "      <th>2</th>\n",
       "      <td>-0.378371</td>\n",
       "      <td>-0.807404</td>\n",
       "      <td>0.000000</td>\n",
       "      <td>0.212507</td>\n",
       "      <td>2.0</td>\n",
       "    </tr>\n",
       "    <tr>\n",
       "      <th>3</th>\n",
       "      <td>0.340304</td>\n",
       "      <td>0.932448</td>\n",
       "      <td>NaN</td>\n",
       "      <td>NaN</td>\n",
       "      <td>3.0</td>\n",
       "    </tr>\n",
       "    <tr>\n",
       "      <th>4</th>\n",
       "      <td>-0.595726</td>\n",
       "      <td>-1.212931</td>\n",
       "      <td>NaN</td>\n",
       "      <td>NaN</td>\n",
       "      <td>4.0</td>\n",
       "    </tr>\n",
       "    <tr>\n",
       "      <th>5</th>\n",
       "      <td>0.856908</td>\n",
       "      <td>1.033006</td>\n",
       "      <td>NaN</td>\n",
       "      <td>NaN</td>\n",
       "      <td>5.0</td>\n",
       "    </tr>\n",
       "    <tr>\n",
       "      <th>6</th>\n",
       "      <td>-0.755094</td>\n",
       "      <td>-1.531880</td>\n",
       "      <td>NaN</td>\n",
       "      <td>NaN</td>\n",
       "      <td>6.0</td>\n",
       "    </tr>\n",
       "    <tr>\n",
       "      <th>7</th>\n",
       "      <td>0.844316</td>\n",
       "      <td>1.282393</td>\n",
       "      <td>NaN</td>\n",
       "      <td>NaN</td>\n",
       "      <td>7.0</td>\n",
       "    </tr>\n",
       "    <tr>\n",
       "      <th>8</th>\n",
       "      <td>0.266420</td>\n",
       "      <td>0.319387</td>\n",
       "      <td>0.621827</td>\n",
       "      <td>1.107246</td>\n",
       "      <td>8.0</td>\n",
       "    </tr>\n",
       "    <tr>\n",
       "      <th>9</th>\n",
       "      <td>1.006589</td>\n",
       "      <td>1.710613</td>\n",
       "      <td>NaN</td>\n",
       "      <td>NaN</td>\n",
       "      <td>9.0</td>\n",
       "    </tr>\n",
       "  </tbody>\n",
       "</table>\n",
       "</div>"
      ],
      "text/plain": [
       "         x0        x1    x0_std    x1_std  time\n",
       "0  0.041010 -0.155358       NaN       NaN   0.0\n",
       "1  0.393050  0.496807       NaN       NaN   1.0\n",
       "2 -0.378371 -0.807404  0.000000  0.212507   2.0\n",
       "3  0.340304  0.932448       NaN       NaN   3.0\n",
       "4 -0.595726 -1.212931       NaN       NaN   4.0\n",
       "5  0.856908  1.033006       NaN       NaN   5.0\n",
       "6 -0.755094 -1.531880       NaN       NaN   6.0\n",
       "7  0.844316  1.282393       NaN       NaN   7.0\n",
       "8  0.266420  0.319387  0.621827  1.107246   8.0\n",
       "9  1.006589  1.710613       NaN       NaN   9.0"
      ]
     },
     "execution_count": null,
     "metadata": {},
     "output_type": "execute_result"
    }
   ],
   "source": [
    "imp.impute(tidy=False)"
   ]
  },
  {
   "cell_type": "markdown",
   "id": "23754a66",
   "metadata": {},
   "source": [
    "### Prediction plot"
   ]
  },
  {
   "cell_type": "code",
   "execution_count": null,
   "id": "63f25fd3",
   "metadata": {},
   "outputs": [],
   "source": [
    "@patch()\n",
    "def plot_pred(\n",
    "    self: GPFAImputation,\n",
    "    complete = None # Optional true data to be plotted agaist predictions\n",
    "):\n",
    "    \n",
    "    imp = self._impute_tidy(add_time=True) if hasattr(self, \"pred\") else self.impute(tidy=True, add_time=True)\n",
    "    \n",
    "    error = alt.Chart(imp).mark_errorband().encode(\n",
    "        x = \"time\",    \n",
    "        y = alt.Y(\"err_low:Q\", title=\"\"),\n",
    "        y2 = \"err_high:Q\",\n",
    "        color=\"variable\"\n",
    "    ).transform_calculate(\n",
    "        err_low = \"datum.mean - 2 * datum.std\",\n",
    "        err_high = \"datum.mean + 2 * datum.std\"\n",
    "    )\n",
    "\n",
    "    pred = alt.Chart(imp).mark_line().encode(\n",
    "        x = \"time\",    \n",
    "        y = alt.Y(\"mean:Q\", title=\"value variable\"),\n",
    "        color=\"variable\"\n",
    "    )\n",
    "\n",
    "    plot = error + pred\n",
    "    \n",
    "    if complete is not None:\n",
    "        \n",
    "        truth_plt = alt.Chart(complete).mark_point().encode(\n",
    "            x = \"time\",\n",
    "            y = alt.Y(\"value\", title=\"value variable\"),\n",
    "            color=\"variable\",\n",
    "            shape = \"is_missing\"\n",
    "        )\n",
    "        \n",
    "        plot = plot + truth_plt\n",
    "    \n",
    "    \n",
    "    return plot"
   ]
  },
  {
   "cell_type": "code",
   "execution_count": null,
   "id": "d118c28d",
   "metadata": {},
   "outputs": [
    {
     "name": "stderr",
     "output_type": "stream",
     "text": [
      "/home/simone/anaconda3/envs/data-science/lib/python3.10/site-packages/altair/utils/core.py:317: FutureWarning: iteritems is deprecated and will be removed in a future version. Use .items instead.\n",
      "  for col_name, dtype in df.dtypes.iteritems():\n"
     ]
    },
    {
     "data": {
      "text/html": [
       "\n",
       "<div id=\"altair-viz-1c8d69cd6806456096e37580534ce72a\"></div>\n",
       "<script type=\"text/javascript\">\n",
       "  var VEGA_DEBUG = (typeof VEGA_DEBUG == \"undefined\") ? {} : VEGA_DEBUG;\n",
       "  (function(spec, embedOpt){\n",
       "    let outputDiv = document.currentScript.previousElementSibling;\n",
       "    if (outputDiv.id !== \"altair-viz-1c8d69cd6806456096e37580534ce72a\") {\n",
       "      outputDiv = document.getElementById(\"altair-viz-1c8d69cd6806456096e37580534ce72a\");\n",
       "    }\n",
       "    const paths = {\n",
       "      \"vega\": \"https://cdn.jsdelivr.net/npm//vega@5?noext\",\n",
       "      \"vega-lib\": \"https://cdn.jsdelivr.net/npm//vega-lib?noext\",\n",
       "      \"vega-lite\": \"https://cdn.jsdelivr.net/npm//vega-lite@4.17.0?noext\",\n",
       "      \"vega-embed\": \"https://cdn.jsdelivr.net/npm//vega-embed@6?noext\",\n",
       "    };\n",
       "\n",
       "    function maybeLoadScript(lib, version) {\n",
       "      var key = `${lib.replace(\"-\", \"\")}_version`;\n",
       "      return (VEGA_DEBUG[key] == version) ?\n",
       "        Promise.resolve(paths[lib]) :\n",
       "        new Promise(function(resolve, reject) {\n",
       "          var s = document.createElement('script');\n",
       "          document.getElementsByTagName(\"head\")[0].appendChild(s);\n",
       "          s.async = true;\n",
       "          s.onload = () => {\n",
       "            VEGA_DEBUG[key] = version;\n",
       "            return resolve(paths[lib]);\n",
       "          };\n",
       "          s.onerror = () => reject(`Error loading script: ${paths[lib]}`);\n",
       "          s.src = paths[lib];\n",
       "        });\n",
       "    }\n",
       "\n",
       "    function showError(err) {\n",
       "      outputDiv.innerHTML = `<div class=\"error\" style=\"color:red;\">${err}</div>`;\n",
       "      throw err;\n",
       "    }\n",
       "\n",
       "    function displayChart(vegaEmbed) {\n",
       "      vegaEmbed(outputDiv, spec, embedOpt)\n",
       "        .catch(err => showError(`Javascript Error: ${err.message}<br>This usually means there's a typo in your chart specification. See the javascript console for the full traceback.`));\n",
       "    }\n",
       "\n",
       "    if(typeof define === \"function\" && define.amd) {\n",
       "      requirejs.config({paths});\n",
       "      require([\"vega-embed\"], displayChart, err => showError(`Error loading script: ${err.message}`));\n",
       "    } else {\n",
       "      maybeLoadScript(\"vega\", \"5\")\n",
       "        .then(() => maybeLoadScript(\"vega-lite\", \"4.17.0\"))\n",
       "        .then(() => maybeLoadScript(\"vega-embed\", \"6\"))\n",
       "        .catch(showError)\n",
       "        .then(() => displayChart(vegaEmbed));\n",
       "    }\n",
       "  })({\"config\": {\"view\": {\"continuousWidth\": 400, \"continuousHeight\": 300}}, \"layer\": [{\"mark\": \"errorband\", \"encoding\": {\"color\": {\"field\": \"variable\", \"type\": \"nominal\"}, \"x\": {\"field\": \"time\", \"type\": \"quantitative\"}, \"y\": {\"field\": \"err_low\", \"title\": \"\", \"type\": \"quantitative\"}, \"y2\": {\"field\": \"err_high\"}}, \"transform\": [{\"calculate\": \"datum.mean - 2 * datum.std\", \"as\": \"err_low\"}, {\"calculate\": \"datum.mean + 2 * datum.std\", \"as\": \"err_high\"}]}, {\"mark\": \"line\", \"encoding\": {\"color\": {\"field\": \"variable\", \"type\": \"nominal\"}, \"x\": {\"field\": \"time\", \"type\": \"quantitative\"}, \"y\": {\"field\": \"mean\", \"title\": \"value variable\", \"type\": \"quantitative\"}}}, {\"data\": {\"name\": \"data-c05771315f17f8c1e8d47be748150aec\"}, \"mark\": \"point\", \"encoding\": {\"color\": {\"field\": \"variable\", \"type\": \"nominal\"}, \"shape\": {\"field\": \"is_missing\", \"type\": \"nominal\"}, \"x\": {\"field\": \"time\", \"type\": \"quantitative\"}, \"y\": {\"field\": \"value\", \"title\": \"value variable\", \"type\": \"quantitative\"}}}], \"data\": {\"name\": \"data-613db5222e7b42a345ffb911de06118e\"}, \"$schema\": \"https://vega.github.io/schema/vega-lite/v4.17.0.json\", \"datasets\": {\"data-613db5222e7b42a345ffb911de06118e\": [{\"time\": 0.0, \"variable\": \"x0\", \"mean\": 0.04100954160094261, \"std\": null}, {\"time\": 1.0, \"variable\": \"x0\", \"mean\": 0.39305031299591064, \"std\": null}, {\"time\": 3.0, \"variable\": \"x0\", \"mean\": 0.3403036296367645, \"std\": null}, {\"time\": 4.0, \"variable\": \"x0\", \"mean\": -0.5957261919975281, \"std\": null}, {\"time\": 5.0, \"variable\": \"x0\", \"mean\": 0.8569082021713257, \"std\": null}, {\"time\": 6.0, \"variable\": \"x0\", \"mean\": -0.7550936341285706, \"std\": null}, {\"time\": 7.0, \"variable\": \"x0\", \"mean\": 0.8443157076835632, \"std\": null}, {\"time\": 9.0, \"variable\": \"x0\", \"mean\": 1.006589412689209, \"std\": null}, {\"time\": 0.0, \"variable\": \"x1\", \"mean\": -0.15535826981067657, \"std\": null}, {\"time\": 1.0, \"variable\": \"x1\", \"mean\": 0.496806800365448, \"std\": null}, {\"time\": 3.0, \"variable\": \"x1\", \"mean\": 0.9324483275413513, \"std\": null}, {\"time\": 4.0, \"variable\": \"x1\", \"mean\": -1.2129309177398682, \"std\": null}, {\"time\": 5.0, \"variable\": \"x1\", \"mean\": 1.033005952835083, \"std\": null}, {\"time\": 6.0, \"variable\": \"x1\", \"mean\": -1.5318803787231445, \"std\": null}, {\"time\": 7.0, \"variable\": \"x1\", \"mean\": 1.282393455505371, \"std\": null}, {\"time\": 9.0, \"variable\": \"x1\", \"mean\": 1.7106125354766846, \"std\": null}, {\"time\": 2.0, \"variable\": \"x0\", \"mean\": -0.3783711791038513, \"std\": 0.0}, {\"time\": 8.0, \"variable\": \"x0\", \"mean\": 0.2664196491241455, \"std\": 0.6218274235725403}, {\"time\": 2.0, \"variable\": \"x1\", \"mean\": -0.8074041604995728, \"std\": 0.21250711381435394}, {\"time\": 8.0, \"variable\": \"x1\", \"mean\": 0.31938719749450684, \"std\": 1.1072461605072021}], \"data-c05771315f17f8c1e8d47be748150aec\": [{\"time\": 0.0, \"variable\": \"x0\", \"value\": 0.04100954160094261, \"is_missing\": false}, {\"time\": 1.0, \"variable\": \"x0\", \"value\": 0.39305031299591064, \"is_missing\": false}, {\"time\": 2.0, \"variable\": \"x0\", \"value\": -0.3783711791038513, \"is_missing\": false}, {\"time\": 3.0, \"variable\": \"x0\", \"value\": 0.3403036296367645, \"is_missing\": false}, {\"time\": 4.0, \"variable\": \"x0\", \"value\": -0.5957261919975281, \"is_missing\": false}, {\"time\": 5.0, \"variable\": \"x0\", \"value\": 0.8569082021713257, \"is_missing\": false}, {\"time\": 6.0, \"variable\": \"x0\", \"value\": -0.7550936341285706, \"is_missing\": false}, {\"time\": 7.0, \"variable\": \"x0\", \"value\": 0.8443157076835632, \"is_missing\": false}, {\"time\": 8.0, \"variable\": \"x0\", \"value\": -0.6518845558166504, \"is_missing\": true}, {\"time\": 9.0, \"variable\": \"x0\", \"value\": 1.006589412689209, \"is_missing\": false}, {\"time\": 0.0, \"variable\": \"x1\", \"value\": -0.15535826981067657, \"is_missing\": false}, {\"time\": 1.0, \"variable\": \"x1\", \"value\": 0.496806800365448, \"is_missing\": false}, {\"time\": 2.0, \"variable\": \"x1\", \"value\": -0.6441131830215454, \"is_missing\": true}, {\"time\": 3.0, \"variable\": \"x1\", \"value\": 0.9324483275413513, \"is_missing\": false}, {\"time\": 4.0, \"variable\": \"x1\", \"value\": -1.2129309177398682, \"is_missing\": false}, {\"time\": 5.0, \"variable\": \"x1\", \"value\": 1.033005952835083, \"is_missing\": false}, {\"time\": 6.0, \"variable\": \"x1\", \"value\": -1.5318803787231445, \"is_missing\": false}, {\"time\": 7.0, \"variable\": \"x1\", \"value\": 1.282393455505371, \"is_missing\": false}, {\"time\": 8.0, \"variable\": \"x1\", \"value\": -1.5075891017913818, \"is_missing\": true}, {\"time\": 9.0, \"variable\": \"x1\", \"value\": 1.7106125354766846, \"is_missing\": false}]}}, {\"mode\": \"vega-lite\"});\n",
       "</script>"
      ],
      "text/plain": [
       "alt.LayerChart(...)"
      ]
     },
     "execution_count": null,
     "metadata": {},
     "output_type": "execute_result"
    }
   ],
   "source": [
    "imp.plot_pred(complete = fd.tidy_df(complete=True, is_missing=True))"
   ]
  },
  {
   "cell_type": "code",
   "execution_count": null,
   "id": "7636e127",
   "metadata": {},
   "outputs": [
    {
     "name": "stderr",
     "output_type": "stream",
     "text": [
      "/home/simone/anaconda3/envs/data-science/lib/python3.10/site-packages/altair/utils/core.py:317: FutureWarning: iteritems is deprecated and will be removed in a future version. Use .items instead.\n",
      "  for col_name, dtype in df.dtypes.iteritems():\n"
     ]
    },
    {
     "data": {
      "text/html": [
       "\n",
       "<div id=\"altair-viz-8ab6198a383e495981023da2d0198571\"></div>\n",
       "<script type=\"text/javascript\">\n",
       "  var VEGA_DEBUG = (typeof VEGA_DEBUG == \"undefined\") ? {} : VEGA_DEBUG;\n",
       "  (function(spec, embedOpt){\n",
       "    let outputDiv = document.currentScript.previousElementSibling;\n",
       "    if (outputDiv.id !== \"altair-viz-8ab6198a383e495981023da2d0198571\") {\n",
       "      outputDiv = document.getElementById(\"altair-viz-8ab6198a383e495981023da2d0198571\");\n",
       "    }\n",
       "    const paths = {\n",
       "      \"vega\": \"https://cdn.jsdelivr.net/npm//vega@5?noext\",\n",
       "      \"vega-lib\": \"https://cdn.jsdelivr.net/npm//vega-lib?noext\",\n",
       "      \"vega-lite\": \"https://cdn.jsdelivr.net/npm//vega-lite@4.17.0?noext\",\n",
       "      \"vega-embed\": \"https://cdn.jsdelivr.net/npm//vega-embed@6?noext\",\n",
       "    };\n",
       "\n",
       "    function maybeLoadScript(lib, version) {\n",
       "      var key = `${lib.replace(\"-\", \"\")}_version`;\n",
       "      return (VEGA_DEBUG[key] == version) ?\n",
       "        Promise.resolve(paths[lib]) :\n",
       "        new Promise(function(resolve, reject) {\n",
       "          var s = document.createElement('script');\n",
       "          document.getElementsByTagName(\"head\")[0].appendChild(s);\n",
       "          s.async = true;\n",
       "          s.onload = () => {\n",
       "            VEGA_DEBUG[key] = version;\n",
       "            return resolve(paths[lib]);\n",
       "          };\n",
       "          s.onerror = () => reject(`Error loading script: ${paths[lib]}`);\n",
       "          s.src = paths[lib];\n",
       "        });\n",
       "    }\n",
       "\n",
       "    function showError(err) {\n",
       "      outputDiv.innerHTML = `<div class=\"error\" style=\"color:red;\">${err}</div>`;\n",
       "      throw err;\n",
       "    }\n",
       "\n",
       "    function displayChart(vegaEmbed) {\n",
       "      vegaEmbed(outputDiv, spec, embedOpt)\n",
       "        .catch(err => showError(`Javascript Error: ${err.message}<br>This usually means there's a typo in your chart specification. See the javascript console for the full traceback.`));\n",
       "    }\n",
       "\n",
       "    if(typeof define === \"function\" && define.amd) {\n",
       "      requirejs.config({paths});\n",
       "      require([\"vega-embed\"], displayChart, err => showError(`Error loading script: ${err.message}`));\n",
       "    } else {\n",
       "      maybeLoadScript(\"vega\", \"5\")\n",
       "        .then(() => maybeLoadScript(\"vega-lite\", \"4.17.0\"))\n",
       "        .then(() => maybeLoadScript(\"vega-embed\", \"6\"))\n",
       "        .catch(showError)\n",
       "        .then(() => displayChart(vegaEmbed));\n",
       "    }\n",
       "  })({\"config\": {\"view\": {\"continuousWidth\": 400, \"continuousHeight\": 300}}, \"layer\": [{\"mark\": \"errorband\", \"encoding\": {\"color\": {\"field\": \"variable\", \"type\": \"nominal\"}, \"x\": {\"field\": \"time\", \"type\": \"quantitative\"}, \"y\": {\"field\": \"err_low\", \"title\": \"\", \"type\": \"quantitative\"}, \"y2\": {\"field\": \"err_high\"}}, \"transform\": [{\"calculate\": \"datum.mean - 2 * datum.std\", \"as\": \"err_low\"}, {\"calculate\": \"datum.mean + 2 * datum.std\", \"as\": \"err_high\"}]}, {\"mark\": \"line\", \"encoding\": {\"color\": {\"field\": \"variable\", \"type\": \"nominal\"}, \"x\": {\"field\": \"time\", \"type\": \"quantitative\"}, \"y\": {\"field\": \"mean\", \"title\": \"value variable\", \"type\": \"quantitative\"}}}], \"data\": {\"name\": \"data-613db5222e7b42a345ffb911de06118e\"}, \"$schema\": \"https://vega.github.io/schema/vega-lite/v4.17.0.json\", \"datasets\": {\"data-613db5222e7b42a345ffb911de06118e\": [{\"time\": 0.0, \"variable\": \"x0\", \"mean\": 0.04100954160094261, \"std\": null}, {\"time\": 1.0, \"variable\": \"x0\", \"mean\": 0.39305031299591064, \"std\": null}, {\"time\": 3.0, \"variable\": \"x0\", \"mean\": 0.3403036296367645, \"std\": null}, {\"time\": 4.0, \"variable\": \"x0\", \"mean\": -0.5957261919975281, \"std\": null}, {\"time\": 5.0, \"variable\": \"x0\", \"mean\": 0.8569082021713257, \"std\": null}, {\"time\": 6.0, \"variable\": \"x0\", \"mean\": -0.7550936341285706, \"std\": null}, {\"time\": 7.0, \"variable\": \"x0\", \"mean\": 0.8443157076835632, \"std\": null}, {\"time\": 9.0, \"variable\": \"x0\", \"mean\": 1.006589412689209, \"std\": null}, {\"time\": 0.0, \"variable\": \"x1\", \"mean\": -0.15535826981067657, \"std\": null}, {\"time\": 1.0, \"variable\": \"x1\", \"mean\": 0.496806800365448, \"std\": null}, {\"time\": 3.0, \"variable\": \"x1\", \"mean\": 0.9324483275413513, \"std\": null}, {\"time\": 4.0, \"variable\": \"x1\", \"mean\": -1.2129309177398682, \"std\": null}, {\"time\": 5.0, \"variable\": \"x1\", \"mean\": 1.033005952835083, \"std\": null}, {\"time\": 6.0, \"variable\": \"x1\", \"mean\": -1.5318803787231445, \"std\": null}, {\"time\": 7.0, \"variable\": \"x1\", \"mean\": 1.282393455505371, \"std\": null}, {\"time\": 9.0, \"variable\": \"x1\", \"mean\": 1.7106125354766846, \"std\": null}, {\"time\": 2.0, \"variable\": \"x0\", \"mean\": -0.3783711791038513, \"std\": 0.0}, {\"time\": 8.0, \"variable\": \"x0\", \"mean\": 0.2664196491241455, \"std\": 0.6218274235725403}, {\"time\": 2.0, \"variable\": \"x1\", \"mean\": -0.8074041604995728, \"std\": 0.21250711381435394}, {\"time\": 8.0, \"variable\": \"x1\", \"mean\": 0.31938719749450684, \"std\": 1.1072461605072021}]}}, {\"mode\": \"vega-lite\"});\n",
       "</script>"
      ],
      "text/plain": [
       "alt.LayerChart(...)"
      ]
     },
     "execution_count": null,
     "metadata": {},
     "output_type": "execute_result"
    }
   ],
   "source": [
    "imp.plot_pred()"
   ]
  },
  {
   "cell_type": "markdown",
   "id": "dbb3caae",
   "metadata": {},
   "source": [
    "The code is running correctly and as expected around the missing data point the error is band is wider"
   ]
  },
  {
   "cell_type": "code",
   "execution_count": null,
   "id": "fc0830b8-1e75-421d-83d1-707587a16a1a",
   "metadata": {},
   "outputs": [
    {
     "data": {
      "text/plain": [
       "array([[ 2.,  6., nan],\n",
       "       [nan, nan, nan],\n",
       "       [nan,  8., nan]])"
      ]
     },
     "execution_count": null,
     "metadata": {},
     "output_type": "execute_result"
    }
   ],
   "source": [
    "pred_data"
   ]
  },
  {
   "cell_type": "code",
   "execution_count": null,
   "id": "e89ae372-e8c7-417b-89b6-f2a22ef91068",
   "metadata": {},
   "outputs": [],
   "source": [
    "idx_cond = ~t_df[~train_idx].isna()"
   ]
  },
  {
   "cell_type": "code",
   "execution_count": null,
   "id": "ac4457ad-a5e5-44c0-ba46-645c066bc43c",
   "metadata": {},
   "outputs": [
    {
     "data": {
      "text/html": [
       "<div>\n",
       "<style scoped>\n",
       "    .dataframe tbody tr th:only-of-type {\n",
       "        vertical-align: middle;\n",
       "    }\n",
       "\n",
       "    .dataframe tbody tr th {\n",
       "        vertical-align: top;\n",
       "    }\n",
       "\n",
       "    .dataframe thead th {\n",
       "        text-align: right;\n",
       "    }\n",
       "</style>\n",
       "<table border=\"1\" class=\"dataframe\">\n",
       "  <thead>\n",
       "    <tr style=\"text-align: right;\">\n",
       "      <th></th>\n",
       "      <th>0</th>\n",
       "      <th>1</th>\n",
       "      <th>2</th>\n",
       "    </tr>\n",
       "  </thead>\n",
       "  <tbody>\n",
       "    <tr>\n",
       "      <th>0</th>\n",
       "      <td>True</td>\n",
       "      <td>True</td>\n",
       "      <td>True</td>\n",
       "    </tr>\n",
       "    <tr>\n",
       "      <th>4</th>\n",
       "      <td>True</td>\n",
       "      <td>True</td>\n",
       "      <td>True</td>\n",
       "    </tr>\n",
       "  </tbody>\n",
       "</table>\n",
       "</div>"
      ],
      "text/plain": [
       "      0     1     2\n",
       "0  True  True  True\n",
       "4  True  True  True"
      ]
     },
     "execution_count": null,
     "metadata": {},
     "output_type": "execute_result"
    }
   ],
   "source": [
    "idx_cond"
   ]
  },
  {
   "cell_type": "code",
   "execution_count": null,
   "id": "efad0659-8dc8-4575-82c1-7cf01e16cd54",
   "metadata": {},
   "outputs": [],
   "source": [
    "idx_cond = idx_cond.to_numpy().flatten() # learner needs a 1D index"
   ]
  },
  {
   "cell_type": "code",
   "execution_count": null,
   "id": "aef38aff-873e-4367-911e-c971a5cffcc1",
   "metadata": {},
   "outputs": [
    {
     "ename": "IndexError",
     "evalue": "boolean index did not match indexed array along dimension 0; dimension is 9 but corresponding boolean dimension is 6",
     "output_type": "error",
     "traceback": [
      "\u001b[0;31m---------------------------------------------------------------------------\u001b[0m",
      "\u001b[0;31mIndexError\u001b[0m                                Traceback (most recent call last)",
      "Input \u001b[0;32mIn [44]\u001b[0m, in \u001b[0;36m<cell line: 1>\u001b[0;34m()\u001b[0m\n\u001b[0;32m----> 1\u001b[0m obs \u001b[38;5;241m=\u001b[39m \u001b[43mpred_data\u001b[49m\u001b[38;5;241;43m.\u001b[39;49m\u001b[43mflatten\u001b[49m\u001b[43m(\u001b[49m\u001b[43m)\u001b[49m\u001b[43m[\u001b[49m\u001b[43midx_cond\u001b[49m\u001b[43m]\u001b[49m\n",
      "\u001b[0;31mIndexError\u001b[0m: boolean index did not match indexed array along dimension 0; dimension is 9 but corresponding boolean dimension is 6"
     ]
    }
   ],
   "source": [
    "obs = pred_data.flatten()[idx_cond]"
   ]
  },
  {
   "cell_type": "code",
   "execution_count": null,
   "id": "84ff9032-ff84-4250-afb7-4d367abdbc89",
   "metadata": {},
   "outputs": [],
   "source": [
    "obs"
   ]
  },
  {
   "cell_type": "code",
   "execution_count": null,
   "id": "003de039-446d-4354-bc1a-c0fcda0e4d61",
   "metadata": {},
   "outputs": [],
   "source": [
    "train_idx = t_df.isna().any(axis=1)"
   ]
  },
  {
   "cell_type": "code",
   "execution_count": null,
   "id": "6c311aac-47ba-4b21-9cc9-87ce63a32bcb",
   "metadata": {},
   "outputs": [],
   "source": [
    "torch.tensor(~t_df[~train_idx].isna().to_numpy().flatten())"
   ]
  },
  {
   "cell_type": "markdown",
   "id": "cfbff351-dd9c-4400-9dc7-4620ba1adc39",
   "metadata": {},
   "source": [
    "Implement this into a function"
   ]
  },
  {
   "cell_type": "code",
   "execution_count": null,
   "id": "763750bf-a86b-471e-8310-578e37565dab",
   "metadata": {},
   "outputs": [],
   "source": [
    "#| export\n",
    "class GPFAImputation:\n",
    "    def __init__(\n",
    "        self,\n",
    "        data: pd.DataFrame , #observed data with missing data as NA\n",
    "    ):\n",
    "        self.data = data\n",
    "        self.T = torch.arange(0, len(data), dtype=torch.float32) # time is encoded with a increase of 1\n",
    "        \n",
    "        # Training data\n",
    "        self.train_idx = ~self.data.isna().any(axis=1)\n",
    "        self.train_data = torch.tensor(self.data[self.train_idx].to_numpy())\n",
    "        self.train_T = self.T[self.train_idx]\n",
    "        \n",
    "        self.learner = GPFALearner(X = self.train_data, T = self.train_T)\n",
    "\n",
    "        # Prediction data\n",
    "        self.pred_T = self.T[~self.train_idx]\n",
    "        self.cond_idx = torch.tensor(~self.data[~self.train_idx].isna().to_numpy().flatten()) # conditional obsevations\n",
    "        self.cond_obs = torch.tensor(self.data[~self.train_idx].to_numpy().flatten()[self.cond_idx])\n",
    "        \n",
    "        \n",
    "    def impute(self,\n",
    "               add_time = True, # add column with time?\n",
    "               tidy = True # tidy data?\n",
    "               ):\n",
    "        self.learner.train()\n",
    "        self.pred = self.learner.predict(self.pred_T, obs = self.cond_obs, idx = self.cond_idx)\n",
    "        \n",
    "        if tidy: return self._impute_tidy(add_time)\n",
    "        else: return self._impute_wide(add_time)\n",
    "        \n",
    "        \n",
    "    def _impute_wide(self, add_time):\n",
    "        \"\"\" Impute in wide format\"\"\"\n",
    "        \n",
    "        imp_data = self.data.copy()\n",
    "        for col_idx, col_name in enumerate(imp_data.columns):\n",
    "            imp_data.loc[~self.train_idx, col_name] = self.pred.mean[:, col_idx].numpy()\n",
    "            imp_data.loc[~self.train_idx, col_name + \"_std\"] = self.pred.std[:, col_idx].numpy()\n",
    "        \n",
    "        idx_vars = []\n",
    "        if add_time:\n",
    "            imp_data[\"time\"] = self.T\n",
    "            idx_vars.append(\"time\")\n",
    "        \n",
    "        return imp_data \n",
    "    \n",
    "    def _impute_tidy(self, add_time):\n",
    "        \"\"\" transform the pred output into a tidy dataframe suitable for plotting\"\"\"\n",
    "        feature_names = self.data.columns\n",
    "\n",
    "        pred_mean = pd.DataFrame(self.pred.mean, columns = feature_names).assign(time = self.pred_T).melt(\"time\", value_name=\"mean\")\n",
    "        pred_std = pd.DataFrame(self.pred.std, columns = feature_names).assign(time = self.pred_T).melt(\"time\", value_name=\"std\")\n",
    "        \n",
    "        pred = pd.merge(pred_mean, pred_std, on=['time', 'variable'])  \n",
    "        \n",
    "        train_data = self.data[self.train_idx].assign(time = self.train_T).melt(\"time\", value_name = \"mean\")\n",
    "               \n",
    "        imp_data = pd.concat((train_data, pred))\n",
    "        \n",
    "        return imp_data\n",
    "    "
   ]
  },
  {
   "cell_type": "code",
   "execution_count": null,
   "id": "dc2aecff-6f22-4bc4-b3c6-d1d149ac17ba",
   "metadata": {},
   "outputs": [],
   "source": [
    "fd = GPFAFakeData(2, 10, Lambda=[1,2.]).add_random_missing()"
   ]
  },
  {
   "cell_type": "code",
   "execution_count": null,
   "id": "b639821e-7351-4853-bddc-7af986472db8",
   "metadata": {},
   "outputs": [],
   "source": [
    "fd.data"
   ]
  },
  {
   "cell_type": "code",
   "execution_count": null,
   "id": "a931cb48-2183-48b9-b136-b6c3ca6da2cc",
   "metadata": {},
   "outputs": [],
   "source": [
    "imp = GPFAImputation(fd.data)"
   ]
  },
  {
   "cell_type": "code",
   "execution_count": null,
   "id": "1c9d836e-0c99-4193-ba26-4dbdb8946e3a",
   "metadata": {},
   "outputs": [],
   "source": [
    "pred = imp.impute()\n",
    "pred"
   ]
  },
  {
   "cell_type": "code",
   "execution_count": null,
   "id": "00aef7e1-9f50-4b89-878e-43d49e023ac3",
   "metadata": {},
   "outputs": [],
   "source": [
    "imp.impute(tidy=False)"
   ]
  },
  {
   "cell_type": "markdown",
   "id": "edefe579-4f31-465c-bfc8-3423c36cb8f8",
   "metadata": {},
   "source": [
    "### Prediction plot"
   ]
  },
  {
   "cell_type": "code",
   "execution_count": null,
   "id": "896fcdca-2735-4851-8cb5-56db9f538fc7",
   "metadata": {},
   "outputs": [],
   "source": [
    "@patch()\n",
    "def plot_pred(\n",
    "    self: GPFAImputation,\n",
    "    complete = None # Optional true data to be plotted agaist predictions\n",
    "):\n",
    "    \n",
    "    imp = self._impute_tidy(add_time=True) if hasattr(self, \"pred\") else self.impute(tidy=True, add_time=True)\n",
    "    \n",
    "    error = alt.Chart(imp).mark_errorband().encode(\n",
    "        x = \"time\",    \n",
    "        y = alt.Y(\"err_low:Q\", title=\"\"),\n",
    "        y2 = \"err_high:Q\",\n",
    "        color=\"variable\"\n",
    "    ).transform_calculate(\n",
    "        err_low = \"datum.mean - 2 * datum.std\",\n",
    "        err_high = \"datum.mean + 2 * datum.std\"\n",
    "    )\n",
    "\n",
    "    pred = alt.Chart(imp).mark_line().encode(\n",
    "        x = \"time\",    \n",
    "        y = alt.Y(\"mean:Q\", title=\"value variable\"),\n",
    "        color=\"variable\"\n",
    "    )\n",
    "\n",
    "    plot = error + pred\n",
    "    \n",
    "    if complete is not None:\n",
    "        \n",
    "        truth_plt = alt.Chart(complete).mark_point().encode(\n",
    "            x = \"time\",\n",
    "            y = alt.Y(\"value\", title=\"value variable\"),\n",
    "            color=\"variable\",\n",
    "            shape = \"is_missing\"\n",
    "        )\n",
    "        \n",
    "        plot = plot + truth_plt\n",
    "    \n",
    "    \n",
    "    return plot"
   ]
  },
  {
   "cell_type": "code",
   "execution_count": null,
   "id": "b18591eb-6dc6-42bb-992c-1d98048e4115",
   "metadata": {},
   "outputs": [],
   "source": [
    "imp.plot_pred(complete = fd.tidy_df(complete=True, is_missing=True))"
   ]
  },
  {
   "cell_type": "code",
   "execution_count": null,
   "id": "22c66d7e-c284-4a03-93fd-f01222fdffa7",
   "metadata": {},
   "outputs": [],
   "source": [
    "imp.plot_pred()"
   ]
  },
  {
   "cell_type": "markdown",
   "id": "ab6a6083-2a03-4bb5-bf49-f41b543a5571",
   "metadata": {},
   "source": [
    "The code is running correctly and as expected around the missing data point the error is band is wider"
   ]
  },
  {
   "cell_type": "code",
   "execution_count": null,
   "id": "58580804-365d-447a-9a5e-3463f4846b74",
   "metadata": {},
   "outputs": [],
   "source": [
    "#| hide\n",
    "from nbdev import nbdev_export\n",
    "nbdev_export()"
   ]
  }
 ],
 "metadata": {
  "kernelspec": {
   "display_name": "data_science",
   "language": "python",
   "name": "data_science"
  }
 },
 "nbformat": 4,
 "nbformat_minor": 5
}
