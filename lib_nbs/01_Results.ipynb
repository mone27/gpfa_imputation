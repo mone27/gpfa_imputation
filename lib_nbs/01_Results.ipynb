{
 "cells": [
  {
   "cell_type": "markdown",
   "id": "adaed2a0-365d-49de-addd-41da0467bf1c",
   "metadata": {},
   "source": [
    "# Results\n",
    "\n",
    "> This handles results of a GPFA/SimpleGP Imputation with plotting and metrics"
   ]
  },
  {
   "cell_type": "code",
   "execution_count": null,
   "id": "b3332f45-1ef9-47b5-b90e-51a680468540",
   "metadata": {},
   "outputs": [],
   "source": [
    "%load_ext autoreload\n",
    "%autoreload 2"
   ]
  },
  {
   "cell_type": "code",
   "execution_count": null,
   "id": "0131c374-bcf0-4937-ad82-ad1100cc9333",
   "metadata": {},
   "outputs": [],
   "source": [
    "#| hide\n",
    "#| default_exp results"
   ]
  },
  {
   "cell_type": "code",
   "execution_count": null,
   "id": "e6698446-4653-44e4-b6c2-117fcfbced09",
   "metadata": {},
   "outputs": [],
   "source": [
    "#| export\n",
    "from meteo_imp.gpfa.learner import *\n",
    "from meteo_imp.data_preparation import *\n",
    "from meteo_imp.gpfa.imputation import *\n",
    "from meteo_imp.utils import *\n",
    "\n",
    "import torch\n",
    "\n",
    "import pandas as pd\n",
    "import numpy as np\n",
    "import sklearn\n",
    "from sklearn.metrics import mean_squared_error, r2_score\n",
    "\n",
    "from fastcore.foundation import patch, patch_to\n",
    "from fastcore.meta import delegates\n",
    "from fastcore.basics import store_attr, listify\n",
    "from fastcore.test import test_close\n",
    "from itertools import zip_longest\n",
    "from fastcore.dispatch import typedispatch\n",
    "\n",
    "import matplotlib.pyplot as plt\n",
    "import altair as alt\n",
    "from altair import datum\n",
    "\n",
    "from typing import Collection\n"
   ]
  },
  {
   "cell_type": "code",
   "execution_count": null,
   "id": "56b475b2-6129-4de9-84ee-b53abfd6ddd7",
   "metadata": {},
   "outputs": [],
   "source": [
    "#| export\n",
    "class ImputationResult:\n",
    "    def __init__(self,\n",
    "                 data_imputed, #imputed data in tidy format\n",
    "                 data_complete, # complete data in tidy format\n",
    "                 model_info, # learner for parameters display\n",
    "                 units = None, # units for plots\n",
    "                 metrics_all_data = True # Compute metrics only for gap or for all data?\n",
    "                ):\n",
    "        store_attr()\n",
    "\n",
    "    def __repr__(self: GPFAImputation):\n",
    "        return f\"\"\"Imputation Result:\n",
    "        N obs: {self.data_imputed.time.unique().shape[0]}\"\"\"\n",
    "\n",
    "    def __str__(self: GPFAImputation):\n",
    "        return self.__repr__()"
   ]
  },
  {
   "cell_type": "code",
   "execution_count": null,
   "id": "6a49863b-bc7f-4b39-886c-be6dc5e911f7",
   "metadata": {},
   "outputs": [
    {
     "data": {
      "text/plain": [
       "array([5, 3])"
      ]
     },
     "execution_count": null,
     "metadata": {},
     "output_type": "execute_result"
    }
   ],
   "source": [
    "np.array([5, 3])"
   ]
  },
  {
   "cell_type": "markdown",
   "id": "66e2d876-c380-44c3-9d5c-33c15ad8f362",
   "metadata": {},
   "source": [
    "constructor methods from `GPFAImputation` and `GPFAImputationResults`"
   ]
  },
  {
   "cell_type": "code",
   "execution_count": null,
   "id": "fbaaa462",
   "metadata": {},
   "outputs": [],
   "source": [
    "#| export\n",
    "@patch\n",
    "def to_result(self: GPFAImputation, data_complete, units=None):\n",
    "    var_names = self.data.columns\n",
    "    return ImputationResult(self.impute(add_time=True), data_complete, self.learner.model.get_info(var_names), units, metrics_all_data=False)"
   ]
  },
  {
   "cell_type": "code",
   "execution_count": null,
   "id": "6d85ca6e-dcc2-42ce-8c58-0822a7a7bf67",
   "metadata": {},
   "outputs": [],
   "source": [
    "#| export\n",
    "@patch\n",
    "def to_result(self: GPFAImputationExplorer, data_complete, units=None):\n",
    "    var_names = self.data.columns\n",
    "    return ImputationResult(self.predict(), data_complete, self.learner.model.get_info(var_names), units)"
   ]
  },
  {
   "cell_type": "code",
   "execution_count": null,
   "id": "4da079c4-904d-48b3-81ab-3c5dcc848f84",
   "metadata": {},
   "outputs": [],
   "source": [
    "reset_seed()\n",
    "fd = MeteoDataTest.generate_gpfa(2, 10, Lambda=[1,2.]).add_random_missing()\n",
    "\n",
    "imp = GPFAImputation(fd.data)\n",
    "imp_exp = GPFAImputationExplorer(fd.data)"
   ]
  },
  {
   "cell_type": "code",
   "execution_count": null,
   "id": "94c2cd04-7085-410c-bf9e-b9a71749184e",
   "metadata": {},
   "outputs": [
    {
     "data": {
      "text/html": [
       "<div>\n",
       "<style scoped>\n",
       "    .dataframe tbody tr th:only-of-type {\n",
       "        vertical-align: middle;\n",
       "    }\n",
       "\n",
       "    .dataframe tbody tr th {\n",
       "        vertical-align: top;\n",
       "    }\n",
       "\n",
       "    .dataframe thead th {\n",
       "        text-align: right;\n",
       "    }\n",
       "</style>\n",
       "<table border=\"1\" class=\"dataframe\">\n",
       "  <thead>\n",
       "    <tr style=\"text-align: right;\">\n",
       "      <th></th>\n",
       "      <th>x0</th>\n",
       "      <th>x1</th>\n",
       "    </tr>\n",
       "  </thead>\n",
       "  <tbody>\n",
       "    <tr>\n",
       "      <th>0</th>\n",
       "      <td>0.352996</td>\n",
       "      <td>0.013275</td>\n",
       "    </tr>\n",
       "    <tr>\n",
       "      <th>1</th>\n",
       "      <td>NaN</td>\n",
       "      <td>0.248802</td>\n",
       "    </tr>\n",
       "    <tr>\n",
       "      <th>2</th>\n",
       "      <td>-0.264305</td>\n",
       "      <td>-0.657965</td>\n",
       "    </tr>\n",
       "    <tr>\n",
       "      <th>3</th>\n",
       "      <td>0.248825</td>\n",
       "      <td>0.822856</td>\n",
       "    </tr>\n",
       "    <tr>\n",
       "      <th>4</th>\n",
       "      <td>-0.896081</td>\n",
       "      <td>NaN</td>\n",
       "    </tr>\n",
       "    <tr>\n",
       "      <th>5</th>\n",
       "      <td>0.773089</td>\n",
       "      <td>NaN</td>\n",
       "    </tr>\n",
       "    <tr>\n",
       "      <th>6</th>\n",
       "      <td>NaN</td>\n",
       "      <td>NaN</td>\n",
       "    </tr>\n",
       "    <tr>\n",
       "      <th>7</th>\n",
       "      <td>NaN</td>\n",
       "      <td>NaN</td>\n",
       "    </tr>\n",
       "    <tr>\n",
       "      <th>8</th>\n",
       "      <td>-0.841634</td>\n",
       "      <td>-1.945134</td>\n",
       "    </tr>\n",
       "    <tr>\n",
       "      <th>9</th>\n",
       "      <td>1.269603</td>\n",
       "      <td>2.074223</td>\n",
       "    </tr>\n",
       "  </tbody>\n",
       "</table>\n",
       "</div>"
      ],
      "text/plain": [
       "         x0        x1\n",
       "0  0.352996  0.013275\n",
       "1       NaN  0.248802\n",
       "2 -0.264305 -0.657965\n",
       "3  0.248825  0.822856\n",
       "4 -0.896081       NaN\n",
       "5  0.773089       NaN\n",
       "6       NaN       NaN\n",
       "7       NaN       NaN\n",
       "8 -0.841634 -1.945134\n",
       "9  1.269603  2.074223"
      ]
     },
     "execution_count": null,
     "metadata": {},
     "output_type": "execute_result"
    }
   ],
   "source": [
    "fd.data"
   ]
  },
  {
   "cell_type": "code",
   "execution_count": null,
   "id": "8b82499c-b7dd-4633-a9b7-f3b79f3e3fc2",
   "metadata": {},
   "outputs": [],
   "source": [
    "res = imp.to_result(fd.data_compl_tidy, units = {'x0': 'x0 units', 'x1': 'x1 unitssss'})\n",
    "res_exp = imp_exp.to_result(fd.data_compl_tidy, units = {'x0': 'x0 units', 'x1': 'x1 unitssss'})"
   ]
  },
  {
   "cell_type": "markdown",
   "id": "fc96d3c6-34b8-4e25-9ef6-2921e573e0dc",
   "metadata": {},
   "source": [
    "### Metrics"
   ]
  },
  {
   "cell_type": "code",
   "execution_count": null,
   "id": "6407fa7e-4509-41b2-aadb-97b97998de22",
   "metadata": {},
   "outputs": [],
   "source": [
    "#| export\n",
    "@patch\n",
    "def compute_metric(self: ImputationResult,\n",
    "                   metric,  # function that takes as argument true and pred and returns the metric\n",
    "                   metric_name = 'metric',\n",
    "                   ):\n",
    "    df = pd.merge(self.data_imputed, self.data_complete, on = ['time','variable'])\n",
    "    \n",
    "    vars = []\n",
    "    \n",
    "    for var in df.variable.unique():\n",
    "        mask = (df.variable == var) & (df.is_missing == True) if not self.metrics_all_data else df.variable == var\n",
    "        \n",
    "        df_var = df[mask]\n",
    "        vars.append({'variable': var,\n",
    "                      metric_name: metric(df_var['value'], df_var['mean']) if len(df_var) > 0 else None})\n",
    "    \n",
    "    return pd.DataFrame(vars)"
   ]
  },
  {
   "cell_type": "code",
   "execution_count": null,
   "id": "953623c6-53f6-4048-8161-302b5a65599c",
   "metadata": {},
   "outputs": [],
   "source": [
    "#| exports\n",
    "@patch\n",
    "def rmse(self: ImputationResult):\n",
    "    rmse = self.compute_metric(lambda x, y: np.sqrt(mean_squared_error(x,y)), \"rmse\")\n",
    "    if self.units: rmse = rmse.assign(units= self.units.values())\n",
    "    return rmse"
   ]
  },
  {
   "cell_type": "code",
   "execution_count": null,
   "id": "49057b85-67e4-443b-9bdc-03c8de92c867",
   "metadata": {},
   "outputs": [
    {
     "data": {
      "text/html": [
       "<div>\n",
       "<style scoped>\n",
       "    .dataframe tbody tr th:only-of-type {\n",
       "        vertical-align: middle;\n",
       "    }\n",
       "\n",
       "    .dataframe tbody tr th {\n",
       "        vertical-align: top;\n",
       "    }\n",
       "\n",
       "    .dataframe thead th {\n",
       "        text-align: right;\n",
       "    }\n",
       "</style>\n",
       "<table border=\"1\" class=\"dataframe\">\n",
       "  <thead>\n",
       "    <tr style=\"text-align: right;\">\n",
       "      <th></th>\n",
       "      <th>variable</th>\n",
       "      <th>rmse</th>\n",
       "      <th>units</th>\n",
       "    </tr>\n",
       "  </thead>\n",
       "  <tbody>\n",
       "    <tr>\n",
       "      <th>0</th>\n",
       "      <td>x0</td>\n",
       "      <td>0.738387</td>\n",
       "      <td>x0 units</td>\n",
       "    </tr>\n",
       "    <tr>\n",
       "      <th>1</th>\n",
       "      <td>x1</td>\n",
       "      <td>1.337692</td>\n",
       "      <td>x1 unitssss</td>\n",
       "    </tr>\n",
       "  </tbody>\n",
       "</table>\n",
       "</div>"
      ],
      "text/plain": [
       "  variable      rmse        units\n",
       "0       x0  0.738387     x0 units\n",
       "1       x1  1.337692  x1 unitssss"
      ]
     },
     "execution_count": null,
     "metadata": {},
     "output_type": "execute_result"
    }
   ],
   "source": [
    "res_exp.rmse()"
   ]
  },
  {
   "cell_type": "code",
   "execution_count": null,
   "id": "318f9716-7afe-4bc3-ac4f-da6f49bb4713",
   "metadata": {},
   "outputs": [
    {
     "data": {
      "text/html": [
       "<div>\n",
       "<style scoped>\n",
       "    .dataframe tbody tr th:only-of-type {\n",
       "        vertical-align: middle;\n",
       "    }\n",
       "\n",
       "    .dataframe tbody tr th {\n",
       "        vertical-align: top;\n",
       "    }\n",
       "\n",
       "    .dataframe thead th {\n",
       "        text-align: right;\n",
       "    }\n",
       "</style>\n",
       "<table border=\"1\" class=\"dataframe\">\n",
       "  <thead>\n",
       "    <tr style=\"text-align: right;\">\n",
       "      <th></th>\n",
       "      <th>variable</th>\n",
       "      <th>rmse</th>\n",
       "      <th>units</th>\n",
       "    </tr>\n",
       "  </thead>\n",
       "  <tbody>\n",
       "    <tr>\n",
       "      <th>0</th>\n",
       "      <td>x0</td>\n",
       "      <td>0.861892</td>\n",
       "      <td>x0 units</td>\n",
       "    </tr>\n",
       "    <tr>\n",
       "      <th>1</th>\n",
       "      <td>x1</td>\n",
       "      <td>1.485962</td>\n",
       "      <td>x1 unitssss</td>\n",
       "    </tr>\n",
       "  </tbody>\n",
       "</table>\n",
       "</div>"
      ],
      "text/plain": [
       "  variable      rmse        units\n",
       "0       x0  0.861892     x0 units\n",
       "1       x1  1.485962  x1 unitssss"
      ]
     },
     "execution_count": null,
     "metadata": {},
     "output_type": "execute_result"
    }
   ],
   "source": [
    "res.rmse()"
   ]
  },
  {
   "cell_type": "code",
   "execution_count": null,
   "id": "dff30bbb-bd4c-4b83-a201-540d71eb97d6",
   "metadata": {},
   "outputs": [],
   "source": [
    "#| exports\n",
    "@patch\n",
    "def r2(self: ImputationResult):\n",
    "    return self.compute_metric(r2_score, \"r2\")"
   ]
  },
  {
   "cell_type": "code",
   "execution_count": null,
   "id": "4322d4ca-70b8-4798-8202-7c75893b74a3",
   "metadata": {},
   "outputs": [
    {
     "data": {
      "text/html": [
       "<div>\n",
       "<style scoped>\n",
       "    .dataframe tbody tr th:only-of-type {\n",
       "        vertical-align: middle;\n",
       "    }\n",
       "\n",
       "    .dataframe tbody tr th {\n",
       "        vertical-align: top;\n",
       "    }\n",
       "\n",
       "    .dataframe thead th {\n",
       "        text-align: right;\n",
       "    }\n",
       "</style>\n",
       "<table border=\"1\" class=\"dataframe\">\n",
       "  <thead>\n",
       "    <tr style=\"text-align: right;\">\n",
       "      <th></th>\n",
       "      <th>variable</th>\n",
       "      <th>r2</th>\n",
       "    </tr>\n",
       "  </thead>\n",
       "  <tbody>\n",
       "    <tr>\n",
       "      <th>0</th>\n",
       "      <td>x0</td>\n",
       "      <td>-0.279686</td>\n",
       "    </tr>\n",
       "    <tr>\n",
       "      <th>1</th>\n",
       "      <td>x1</td>\n",
       "      <td>-0.018969</td>\n",
       "    </tr>\n",
       "  </tbody>\n",
       "</table>\n",
       "</div>"
      ],
      "text/plain": [
       "  variable        r2\n",
       "0       x0 -0.279686\n",
       "1       x1 -0.018969"
      ]
     },
     "execution_count": null,
     "metadata": {},
     "output_type": "execute_result"
    }
   ],
   "source": [
    "res.r2()"
   ]
  },
  {
   "cell_type": "code",
   "execution_count": null,
   "id": "0acdfe2f-9850-4e71-ad8d-c94f18b24116",
   "metadata": {},
   "outputs": [],
   "source": [
    "#| export\n",
    "@patch\n",
    "def print_metrics(self: ImputationResult):\n",
    "    \n",
    "    old = self.metrics_all_data\n",
    "    \n",
    "    self.metrics_all_data = True\n",
    "    all_met = {\n",
    "    'r2': self.r2(),\n",
    "    'RMSE': self.rmse()\n",
    "    }\n",
    "    \n",
    "    self.metrics_all_data = False\n",
    "    met = {**all_met,\n",
    "    'r2 - Only GAP': self.r2(),\n",
    "    'RMSE - Only GAP': self.rmse()\n",
    "    }\n",
    "    \n",
    "    self.metrics_all_data = old\n",
    "    return met"
   ]
  },
  {
   "cell_type": "markdown",
   "id": "0ad97983-fc93-4015-88f1-2a279c449790",
   "metadata": {},
   "source": [
    "### Prediction plot"
   ]
  },
  {
   "cell_type": "code",
   "execution_count": null,
   "id": "8bc8d193-9e21-4f26-9e37-bf4aa7f0bf96",
   "metadata": {},
   "outputs": [
    {
     "name": "stderr",
     "output_type": "stream",
     "text": [
      "/home/simone/.local/lib/python3.10/site-packages/altair/utils/core.py:317: FutureWarning: iteritems is deprecated and will be removed in a future version. Use .items instead.\n",
      "  for col_name, dtype in df.dtypes.iteritems():\n"
     ]
    },
    {
     "data": {
      "text/html": [
       "\n",
       "<div id=\"altair-viz-303dce566ac24db69796c8e03847ec1b\"></div>\n",
       "<script type=\"text/javascript\">\n",
       "  var VEGA_DEBUG = (typeof VEGA_DEBUG == \"undefined\") ? {} : VEGA_DEBUG;\n",
       "  (function(spec, embedOpt){\n",
       "    let outputDiv = document.currentScript.previousElementSibling;\n",
       "    if (outputDiv.id !== \"altair-viz-303dce566ac24db69796c8e03847ec1b\") {\n",
       "      outputDiv = document.getElementById(\"altair-viz-303dce566ac24db69796c8e03847ec1b\");\n",
       "    }\n",
       "    const paths = {\n",
       "      \"vega\": \"https://cdn.jsdelivr.net/npm//vega@5?noext\",\n",
       "      \"vega-lib\": \"https://cdn.jsdelivr.net/npm//vega-lib?noext\",\n",
       "      \"vega-lite\": \"https://cdn.jsdelivr.net/npm//vega-lite@4.17.0?noext\",\n",
       "      \"vega-embed\": \"https://cdn.jsdelivr.net/npm//vega-embed@6?noext\",\n",
       "    };\n",
       "\n",
       "    function maybeLoadScript(lib, version) {\n",
       "      var key = `${lib.replace(\"-\", \"\")}_version`;\n",
       "      return (VEGA_DEBUG[key] == version) ?\n",
       "        Promise.resolve(paths[lib]) :\n",
       "        new Promise(function(resolve, reject) {\n",
       "          var s = document.createElement('script');\n",
       "          document.getElementsByTagName(\"head\")[0].appendChild(s);\n",
       "          s.async = true;\n",
       "          s.onload = () => {\n",
       "            VEGA_DEBUG[key] = version;\n",
       "            return resolve(paths[lib]);\n",
       "          };\n",
       "          s.onerror = () => reject(`Error loading script: ${paths[lib]}`);\n",
       "          s.src = paths[lib];\n",
       "        });\n",
       "    }\n",
       "\n",
       "    function showError(err) {\n",
       "      outputDiv.innerHTML = `<div class=\"error\" style=\"color:red;\">${err}</div>`;\n",
       "      throw err;\n",
       "    }\n",
       "\n",
       "    function displayChart(vegaEmbed) {\n",
       "      vegaEmbed(outputDiv, spec, embedOpt)\n",
       "        .catch(err => showError(`Javascript Error: ${err.message}<br>This usually means there's a typo in your chart specification. See the javascript console for the full traceback.`));\n",
       "    }\n",
       "\n",
       "    if(typeof define === \"function\" && define.amd) {\n",
       "      requirejs.config({paths});\n",
       "      require([\"vega-embed\"], displayChart, err => showError(`Error loading script: ${err.message}`));\n",
       "    } else {\n",
       "      maybeLoadScript(\"vega\", \"5\")\n",
       "        .then(() => maybeLoadScript(\"vega-lite\", \"4.17.0\"))\n",
       "        .then(() => maybeLoadScript(\"vega-embed\", \"6\"))\n",
       "        .catch(showError)\n",
       "        .then(() => displayChart(vegaEmbed));\n",
       "    }\n",
       "  })({\"config\": {\"view\": {\"continuousWidth\": 400, \"continuousHeight\": 300}}, \"data\": {\"name\": \"data-466132c230256b9e81f6084997ca1332\"}, \"mark\": \"tick\", \"encoding\": {\"x\": {\"field\": \"a\", \"type\": \"quantitative\"}}, \"$schema\": \"https://vega.github.io/schema/vega-lite/v4.17.0.json\", \"datasets\": {\"data-466132c230256b9e81f6084997ca1332\": [{\"a\": 1}, {\"a\": 2}, {\"a\": 3}]}}, {\"mode\": \"vega-lite\"});\n",
       "</script>"
      ],
      "text/plain": [
       "alt.Chart(...)"
      ]
     },
     "execution_count": null,
     "metadata": {},
     "output_type": "execute_result"
    }
   ],
   "source": [
    "alt.Chart(pd.DataFrame({'a': [1,2,3]})).mark_tick().encode(x = 'a')"
   ]
  },
  {
   "cell_type": "code",
   "execution_count": null,
   "id": "6426babd-b5ab-42e6-b78b-8b40d363cba5",
   "metadata": {},
   "outputs": [],
   "source": [
    "#| export\n",
    "def _plot_error_bar(data, variable, y_label, properties, sel):\n",
    "    \n",
    "    error = alt.Chart(data).mark_errorband().encode(\n",
    "        x = \"time\",    \n",
    "        y = alt.Y(\"err_low:Q\", title = y_label, scale=alt.Scale(zero=False)),\n",
    "        y2 = \"err_high:Q\",\n",
    "        color=alt.Color(\"variable\",\n",
    "                        legend = alt.Legend(title=[\"Line: pred. mean\", \"area: +/- 2 std\", \"(variable)\"])\n",
    "                       ),\n",
    "        tooltip = alt.Tooltip(['std', 'mean'], format=\".4\")\n",
    "    ).transform_calculate(\n",
    "        err_low = \"datum.mean - 2 * datum.std\",\n",
    "        err_high = \"datum.mean + 2 * datum.std\"\n",
    "    ).properties( **properties)\n",
    "\n",
    "    mean = alt.Chart(data).mark_line().encode(\n",
    "        x = \"time\",    \n",
    "        y = alt.Y(\"mean:Q\", title = y_label, scale=alt.Scale(zero=False)),\n",
    "        color=\"variable\",\n",
    "    ).add_selection(\n",
    "        sel\n",
    "    ).properties(title = variable)\n",
    "\n",
    "    return error + mean\n"
   ]
  },
  {
   "cell_type": "code",
   "execution_count": null,
   "id": "cf20f0f1-3395-4604-b5eb-2b24a2a35d0e",
   "metadata": {},
   "outputs": [],
   "source": [
    "#| exports\n",
    "def _plot_variable(imp, complete, variable, y_label=\"\", sel=None, properties = {}):\n",
    "    \n",
    "    imp = imp[imp.variable == variable]\n",
    "    sel = sel if sel is not None else alt.selection_interval(bind=\"scales\")\n",
    "    \n",
    "    base_plot = _plot_error_bar(imp, variable, y_label, properties, sel)\n",
    "        \n",
    "    if complete is not None:\n",
    "\n",
    "        complete = complete[complete.variable == variable]\n",
    "        truth_plt = alt.Chart(complete).mark_point(\n",
    "            color='black',\n",
    "            strokeWidth = 1,\n",
    "            fillOpacity = 1\n",
    "        ).encode(\n",
    "            x = alt.X(\"time\", axis=alt.Axis(domain=False, labels = False, ticks=False, title=None)),\n",
    "            y = alt.Y(\"value\", title = y_label, scale=alt.Scale(zero=False)),\n",
    "            fill= alt.Fill(\"is_missing\", scale = alt.Scale(range=[\"#ffffff00\", \"black\"]),\n",
    "                           legend = alt.Legend(title =[\"Observed data\",\"(is missing)\"])),\n",
    "            shape = \"is_missing\",\n",
    "        )\n",
    "       \n",
    "        p = {'width': properties['width']} if properties else {}\n",
    "        missing = alt.Chart(complete).mark_tick(\n",
    "            color='black',\n",
    "        ).encode(\n",
    "            x = \"time\",\n",
    "            color = alt.condition(datum.is_missing, alt.value('black'), alt.value('white'))\n",
    "        ).add_selection(\n",
    "            sel\n",
    "        ).properties(**p)\n",
    "\n",
    "        base_plot = alt.VConcatChart(vconcat=[(truth_plt + base_plot), missing], spacing=-10)\n",
    "        \n",
    "    return base_plot\n",
    "    "
   ]
  },
  {
   "cell_type": "code",
   "execution_count": null,
   "id": "6cc4c22c-a984-4ba8-a65f-c08c13887082",
   "metadata": {},
   "outputs": [
    {
     "name": "stderr",
     "output_type": "stream",
     "text": [
      "/home/simone/.local/lib/python3.10/site-packages/altair/utils/core.py:317: FutureWarning: iteritems is deprecated and will be removed in a future version. Use .items instead.\n",
      "  for col_name, dtype in df.dtypes.iteritems():\n"
     ]
    },
    {
     "data": {
      "text/html": [
       "\n",
       "<div id=\"altair-viz-a955614aad7e457c86b4f7ee9117ac29\"></div>\n",
       "<script type=\"text/javascript\">\n",
       "  var VEGA_DEBUG = (typeof VEGA_DEBUG == \"undefined\") ? {} : VEGA_DEBUG;\n",
       "  (function(spec, embedOpt){\n",
       "    let outputDiv = document.currentScript.previousElementSibling;\n",
       "    if (outputDiv.id !== \"altair-viz-a955614aad7e457c86b4f7ee9117ac29\") {\n",
       "      outputDiv = document.getElementById(\"altair-viz-a955614aad7e457c86b4f7ee9117ac29\");\n",
       "    }\n",
       "    const paths = {\n",
       "      \"vega\": \"https://cdn.jsdelivr.net/npm//vega@5?noext\",\n",
       "      \"vega-lib\": \"https://cdn.jsdelivr.net/npm//vega-lib?noext\",\n",
       "      \"vega-lite\": \"https://cdn.jsdelivr.net/npm//vega-lite@4.17.0?noext\",\n",
       "      \"vega-embed\": \"https://cdn.jsdelivr.net/npm//vega-embed@6?noext\",\n",
       "    };\n",
       "\n",
       "    function maybeLoadScript(lib, version) {\n",
       "      var key = `${lib.replace(\"-\", \"\")}_version`;\n",
       "      return (VEGA_DEBUG[key] == version) ?\n",
       "        Promise.resolve(paths[lib]) :\n",
       "        new Promise(function(resolve, reject) {\n",
       "          var s = document.createElement('script');\n",
       "          document.getElementsByTagName(\"head\")[0].appendChild(s);\n",
       "          s.async = true;\n",
       "          s.onload = () => {\n",
       "            VEGA_DEBUG[key] = version;\n",
       "            return resolve(paths[lib]);\n",
       "          };\n",
       "          s.onerror = () => reject(`Error loading script: ${paths[lib]}`);\n",
       "          s.src = paths[lib];\n",
       "        });\n",
       "    }\n",
       "\n",
       "    function showError(err) {\n",
       "      outputDiv.innerHTML = `<div class=\"error\" style=\"color:red;\">${err}</div>`;\n",
       "      throw err;\n",
       "    }\n",
       "\n",
       "    function displayChart(vegaEmbed) {\n",
       "      vegaEmbed(outputDiv, spec, embedOpt)\n",
       "        .catch(err => showError(`Javascript Error: ${err.message}<br>This usually means there's a typo in your chart specification. See the javascript console for the full traceback.`));\n",
       "    }\n",
       "\n",
       "    if(typeof define === \"function\" && define.amd) {\n",
       "      requirejs.config({paths});\n",
       "      require([\"vega-embed\"], displayChart, err => showError(`Error loading script: ${err.message}`));\n",
       "    } else {\n",
       "      maybeLoadScript(\"vega\", \"5\")\n",
       "        .then(() => maybeLoadScript(\"vega-lite\", \"4.17.0\"))\n",
       "        .then(() => maybeLoadScript(\"vega-embed\", \"6\"))\n",
       "        .catch(showError)\n",
       "        .then(() => displayChart(vegaEmbed));\n",
       "    }\n",
       "  })({\"config\": {\"view\": {\"continuousWidth\": 400, \"continuousHeight\": 300}}, \"layer\": [{\"mark\": \"errorband\", \"encoding\": {\"color\": {\"field\": \"variable\", \"legend\": {\"title\": [\"Line: pred. mean\", \"area: +/- 2 std\", \"(variable)\"]}, \"type\": \"nominal\"}, \"tooltip\": [{\"field\": \"std\", \"format\": \".4\", \"type\": \"quantitative\"}, {\"field\": \"mean\", \"format\": \".4\", \"type\": \"quantitative\"}], \"x\": {\"field\": \"time\", \"type\": \"quantitative\"}, \"y\": {\"field\": \"err_low\", \"scale\": {\"zero\": false}, \"title\": \"\", \"type\": \"quantitative\"}, \"y2\": {\"field\": \"err_high\"}}, \"transform\": [{\"calculate\": \"datum.mean - 2 * datum.std\", \"as\": \"err_low\"}, {\"calculate\": \"datum.mean + 2 * datum.std\", \"as\": \"err_high\"}]}, {\"mark\": \"line\", \"encoding\": {\"color\": {\"field\": \"variable\", \"type\": \"nominal\"}, \"x\": {\"field\": \"time\", \"type\": \"quantitative\"}, \"y\": {\"field\": \"mean\", \"scale\": {\"zero\": false}, \"title\": \"\", \"type\": \"quantitative\"}}, \"selection\": {\"selector008\": {\"type\": \"interval\", \"bind\": \"scales\"}}, \"title\": \"x1\"}], \"data\": {\"name\": \"data-6b847a89d08affb568a975515bc5a397\"}, \"$schema\": \"https://vega.github.io/schema/vega-lite/v4.17.0.json\", \"datasets\": {\"data-6b847a89d08affb568a975515bc5a397\": [{\"time\": 0.0, \"variable\": \"x1\", \"mean\": 0.0132747832685709, \"std\": null}, {\"time\": 2.0, \"variable\": \"x1\", \"mean\": -0.657964825630188, \"std\": null}, {\"time\": 3.0, \"variable\": \"x1\", \"mean\": 0.8228557705879211, \"std\": null}, {\"time\": 8.0, \"variable\": \"x1\", \"mean\": -1.945134162902832, \"std\": null}, {\"time\": 9.0, \"variable\": \"x1\", \"mean\": 2.0742228031158447, \"std\": null}, {\"time\": 1.0, \"variable\": \"x1\", \"mean\": 0.24880185723304749, \"std\": 0.0}, {\"time\": 4.0, \"variable\": \"x1\", \"mean\": -0.1992415487766266, \"std\": 1.8688976764678955}, {\"time\": 5.0, \"variable\": \"x1\", \"mean\": 0.17954692244529724, \"std\": 1.8718758821487427}, {\"time\": 6.0, \"variable\": \"x1\", \"mean\": 0.13846366107463837, \"std\": 1.9094343185424805}, {\"time\": 7.0, \"variable\": \"x1\", \"mean\": -0.13254201412200928, \"std\": 1.9083836078643799}]}}, {\"mode\": \"vega-lite\"});\n",
       "</script>"
      ],
      "text/plain": [
       "alt.LayerChart(...)"
      ]
     },
     "execution_count": null,
     "metadata": {},
     "output_type": "execute_result"
    }
   ],
   "source": [
    "imp_d = imp.impute(tidy=True, add_time=True)\n",
    "\n",
    "_plot_variable(imp_d, None, \"x1\")"
   ]
  },
  {
   "cell_type": "code",
   "execution_count": null,
   "id": "b0d2c42e-445b-45b6-a66a-846223155c1a",
   "metadata": {},
   "outputs": [],
   "source": [
    "#| exports\n",
    "@patch()\n",
    "def plot_pred(\n",
    "    self: ImputationResult,\n",
    "    n_cols: int = 2,\n",
    "    bind_interaction: bool =True, # Whether the sub-plots for each variable should be connected for zooming/panning\n",
    "    properties:dict = {} # additional properties (eg. size) for altair plot\n",
    "):\n",
    "    \"Plot the prediction for each variable\"\n",
    "   \n",
    "    plot_list = [alt.hconcat() for _ in range(0, self.data_imputed.shape[0], n_cols)]\n",
    "    selection_scale = alt.selection_interval(bind=\"scales\", encodings=['x']) if bind_interaction else None\n",
    "    for idx, variable in enumerate(pd.unique(self.data_imputed.variable)):\n",
    "        plot_list[idx // n_cols] |= _plot_variable(self.data_imputed,\n",
    "                                                   self.data_complete,\n",
    "                                                   variable,\n",
    "                                                   y_label = f\"{variable} [{self.units[variable]}]\" if self.units is not None else variable,\n",
    "                                                   sel = selection_scale, properties=properties)\n",
    "    \n",
    "    plot = alt.vconcat(*plot_list)\n",
    "    \n",
    "    return plot"
   ]
  },
  {
   "cell_type": "code",
   "execution_count": null,
   "id": "a1b44233-d20e-4c22-ab17-1fe293eeeae5",
   "metadata": {},
   "outputs": [
    {
     "data": {
      "text/html": [
       "\n",
       "<div id=\"altair-viz-1ab2af8962a744eb9e41ea624f6e68bc\"></div>\n",
       "<script type=\"text/javascript\">\n",
       "  var VEGA_DEBUG = (typeof VEGA_DEBUG == \"undefined\") ? {} : VEGA_DEBUG;\n",
       "  (function(spec, embedOpt){\n",
       "    let outputDiv = document.currentScript.previousElementSibling;\n",
       "    if (outputDiv.id !== \"altair-viz-1ab2af8962a744eb9e41ea624f6e68bc\") {\n",
       "      outputDiv = document.getElementById(\"altair-viz-1ab2af8962a744eb9e41ea624f6e68bc\");\n",
       "    }\n",
       "    const paths = {\n",
       "      \"vega\": \"https://cdn.jsdelivr.net/npm//vega@5?noext\",\n",
       "      \"vega-lib\": \"https://cdn.jsdelivr.net/npm//vega-lib?noext\",\n",
       "      \"vega-lite\": \"https://cdn.jsdelivr.net/npm//vega-lite@4.17.0?noext\",\n",
       "      \"vega-embed\": \"https://cdn.jsdelivr.net/npm//vega-embed@6?noext\",\n",
       "    };\n",
       "\n",
       "    function maybeLoadScript(lib, version) {\n",
       "      var key = `${lib.replace(\"-\", \"\")}_version`;\n",
       "      return (VEGA_DEBUG[key] == version) ?\n",
       "        Promise.resolve(paths[lib]) :\n",
       "        new Promise(function(resolve, reject) {\n",
       "          var s = document.createElement('script');\n",
       "          document.getElementsByTagName(\"head\")[0].appendChild(s);\n",
       "          s.async = true;\n",
       "          s.onload = () => {\n",
       "            VEGA_DEBUG[key] = version;\n",
       "            return resolve(paths[lib]);\n",
       "          };\n",
       "          s.onerror = () => reject(`Error loading script: ${paths[lib]}`);\n",
       "          s.src = paths[lib];\n",
       "        });\n",
       "    }\n",
       "\n",
       "    function showError(err) {\n",
       "      outputDiv.innerHTML = `<div class=\"error\" style=\"color:red;\">${err}</div>`;\n",
       "      throw err;\n",
       "    }\n",
       "\n",
       "    function displayChart(vegaEmbed) {\n",
       "      vegaEmbed(outputDiv, spec, embedOpt)\n",
       "        .catch(err => showError(`Javascript Error: ${err.message}<br>This usually means there's a typo in your chart specification. See the javascript console for the full traceback.`));\n",
       "    }\n",
       "\n",
       "    if(typeof define === \"function\" && define.amd) {\n",
       "      requirejs.config({paths});\n",
       "      require([\"vega-embed\"], displayChart, err => showError(`Error loading script: ${err.message}`));\n",
       "    } else {\n",
       "      maybeLoadScript(\"vega\", \"5\")\n",
       "        .then(() => maybeLoadScript(\"vega-lite\", \"4.17.0\"))\n",
       "        .then(() => maybeLoadScript(\"vega-embed\", \"6\"))\n",
       "        .catch(showError)\n",
       "        .then(() => displayChart(vegaEmbed));\n",
       "    }\n",
       "  })({\"config\": {\"view\": {\"continuousWidth\": 400, \"continuousHeight\": 300}}, \"vconcat\": [{\"hconcat\": [{\"vconcat\": [{\"layer\": [{\"data\": {\"name\": \"data-e81d2144f040e9eaee9917835d7e5b22\"}, \"mark\": {\"type\": \"point\", \"color\": \"black\", \"fillOpacity\": 1, \"strokeWidth\": 1}, \"encoding\": {\"fill\": {\"field\": \"is_missing\", \"legend\": {\"title\": [\"Observed data\", \"(is missing)\"]}, \"scale\": {\"range\": [\"#ffffff00\", \"black\"]}, \"type\": \"nominal\"}, \"shape\": {\"field\": \"is_missing\", \"type\": \"nominal\"}, \"x\": {\"axis\": {\"domain\": false, \"labels\": false, \"ticks\": false, \"title\": null}, \"field\": \"time\", \"type\": \"quantitative\"}, \"y\": {\"field\": \"value\", \"scale\": {\"zero\": false}, \"title\": \"x0 [x0 units]\", \"type\": \"quantitative\"}}}, {\"layer\": [{\"mark\": \"errorband\", \"encoding\": {\"color\": {\"field\": \"variable\", \"legend\": {\"title\": [\"Line: pred. mean\", \"area: +/- 2 std\", \"(variable)\"]}, \"type\": \"nominal\"}, \"tooltip\": [{\"field\": \"std\", \"format\": \".4\", \"type\": \"quantitative\"}, {\"field\": \"mean\", \"format\": \".4\", \"type\": \"quantitative\"}], \"x\": {\"field\": \"time\", \"type\": \"quantitative\"}, \"y\": {\"field\": \"err_low\", \"scale\": {\"zero\": false}, \"title\": \"x0 [x0 units]\", \"type\": \"quantitative\"}, \"y2\": {\"field\": \"err_high\"}}, \"transform\": [{\"calculate\": \"datum.mean - 2 * datum.std\", \"as\": \"err_low\"}, {\"calculate\": \"datum.mean + 2 * datum.std\", \"as\": \"err_high\"}]}, {\"mark\": \"line\", \"encoding\": {\"color\": {\"field\": \"variable\", \"type\": \"nominal\"}, \"x\": {\"field\": \"time\", \"type\": \"quantitative\"}, \"y\": {\"field\": \"mean\", \"scale\": {\"zero\": false}, \"title\": \"x0 [x0 units]\", \"type\": \"quantitative\"}}, \"selection\": {\"selector002\": {\"type\": \"interval\", \"bind\": \"scales\", \"encodings\": [\"x\"]}}, \"title\": \"x0\"}], \"data\": {\"name\": \"data-e47889cb36a1ec6a8066b2249e8c02c0\"}}]}, {\"data\": {\"name\": \"data-e81d2144f040e9eaee9917835d7e5b22\"}, \"mark\": {\"type\": \"tick\", \"color\": \"black\"}, \"encoding\": {\"color\": {\"condition\": {\"value\": \"black\", \"test\": \"datum.is_missing\"}, \"value\": \"white\"}, \"x\": {\"field\": \"time\", \"type\": \"quantitative\"}}, \"selection\": {\"selector002\": {\"type\": \"interval\", \"bind\": \"scales\", \"encodings\": [\"x\"]}}}], \"spacing\": -10}, {\"vconcat\": [{\"layer\": [{\"data\": {\"name\": \"data-8f2aafb359cb71b6d770947a717d8f17\"}, \"mark\": {\"type\": \"point\", \"color\": \"black\", \"fillOpacity\": 1, \"strokeWidth\": 1}, \"encoding\": {\"fill\": {\"field\": \"is_missing\", \"legend\": {\"title\": [\"Observed data\", \"(is missing)\"]}, \"scale\": {\"range\": [\"#ffffff00\", \"black\"]}, \"type\": \"nominal\"}, \"shape\": {\"field\": \"is_missing\", \"type\": \"nominal\"}, \"x\": {\"axis\": {\"domain\": false, \"labels\": false, \"ticks\": false, \"title\": null}, \"field\": \"time\", \"type\": \"quantitative\"}, \"y\": {\"field\": \"value\", \"scale\": {\"zero\": false}, \"title\": \"x1 [x1 unitssss]\", \"type\": \"quantitative\"}}}, {\"layer\": [{\"mark\": \"errorband\", \"encoding\": {\"color\": {\"field\": \"variable\", \"legend\": {\"title\": [\"Line: pred. mean\", \"area: +/- 2 std\", \"(variable)\"]}, \"type\": \"nominal\"}, \"tooltip\": [{\"field\": \"std\", \"format\": \".4\", \"type\": \"quantitative\"}, {\"field\": \"mean\", \"format\": \".4\", \"type\": \"quantitative\"}], \"x\": {\"field\": \"time\", \"type\": \"quantitative\"}, \"y\": {\"field\": \"err_low\", \"scale\": {\"zero\": false}, \"title\": \"x1 [x1 unitssss]\", \"type\": \"quantitative\"}, \"y2\": {\"field\": \"err_high\"}}, \"transform\": [{\"calculate\": \"datum.mean - 2 * datum.std\", \"as\": \"err_low\"}, {\"calculate\": \"datum.mean + 2 * datum.std\", \"as\": \"err_high\"}]}, {\"mark\": \"line\", \"encoding\": {\"color\": {\"field\": \"variable\", \"type\": \"nominal\"}, \"x\": {\"field\": \"time\", \"type\": \"quantitative\"}, \"y\": {\"field\": \"mean\", \"scale\": {\"zero\": false}, \"title\": \"x1 [x1 unitssss]\", \"type\": \"quantitative\"}}, \"selection\": {\"selector002\": {\"type\": \"interval\", \"bind\": \"scales\", \"encodings\": [\"x\"]}}, \"title\": \"x1\"}], \"data\": {\"name\": \"data-6b847a89d08affb568a975515bc5a397\"}}]}, {\"data\": {\"name\": \"data-8f2aafb359cb71b6d770947a717d8f17\"}, \"mark\": {\"type\": \"tick\", \"color\": \"black\"}, \"encoding\": {\"color\": {\"condition\": {\"value\": \"black\", \"test\": \"datum.is_missing\"}, \"value\": \"white\"}, \"x\": {\"field\": \"time\", \"type\": \"quantitative\"}}, \"selection\": {\"selector002\": {\"type\": \"interval\", \"bind\": \"scales\", \"encodings\": [\"x\"]}}}], \"spacing\": -10}]}, {\"hconcat\": []}, {\"hconcat\": []}, {\"hconcat\": []}, {\"hconcat\": []}, {\"hconcat\": []}, {\"hconcat\": []}, {\"hconcat\": []}, {\"hconcat\": []}, {\"hconcat\": []}], \"$schema\": \"https://vega.github.io/schema/vega-lite/v4.17.0.json\", \"datasets\": {\"data-e81d2144f040e9eaee9917835d7e5b22\": [{\"time\": 0.0, \"variable\": \"x0\", \"value\": 0.352995902299881, \"is_missing\": false}, {\"time\": 1.0, \"variable\": \"x0\", \"value\": 0.12700305879116058, \"is_missing\": true}, {\"time\": 2.0, \"variable\": \"x0\", \"value\": -0.2643048167228699, \"is_missing\": false}, {\"time\": 3.0, \"variable\": \"x0\", \"value\": 0.24882519245147705, \"is_missing\": false}, {\"time\": 4.0, \"variable\": \"x0\", \"value\": -0.896080732345581, \"is_missing\": false}, {\"time\": 5.0, \"variable\": \"x0\", \"value\": 0.773088812828064, \"is_missing\": false}, {\"time\": 6.0, \"variable\": \"x0\", \"value\": -0.7895084023475647, \"is_missing\": true}, {\"time\": 7.0, \"variable\": \"x0\", \"value\": 1.0766730308532715, \"is_missing\": true}, {\"time\": 8.0, \"variable\": \"x0\", \"value\": -0.8416340947151184, \"is_missing\": false}, {\"time\": 9.0, \"variable\": \"x0\", \"value\": 1.2696034908294678, \"is_missing\": false}], \"data-e47889cb36a1ec6a8066b2249e8c02c0\": [{\"time\": 0.0, \"variable\": \"x0\", \"mean\": 0.352995902299881, \"std\": null}, {\"time\": 2.0, \"variable\": \"x0\", \"mean\": -0.2643048167228699, \"std\": null}, {\"time\": 3.0, \"variable\": \"x0\", \"mean\": 0.24882519245147705, \"std\": null}, {\"time\": 8.0, \"variable\": \"x0\", \"mean\": -0.8416340947151184, \"std\": null}, {\"time\": 9.0, \"variable\": \"x0\", \"mean\": 1.2696034908294678, \"std\": null}, {\"time\": 1.0, \"variable\": \"x0\", \"mean\": 0.13031640648841858, \"std\": 1.0783995389938354}, {\"time\": 4.0, \"variable\": \"x0\", \"mean\": -0.896080732345581, \"std\": 0.0}, {\"time\": 5.0, \"variable\": \"x0\", \"mean\": 0.773088812828064, \"std\": 0.0}, {\"time\": 6.0, \"variable\": \"x0\", \"mean\": 0.22222448885440826, \"std\": 1.107781171798706}, {\"time\": 7.0, \"variable\": \"x0\", \"mean\": -0.02103264629840851, \"std\": 1.1063209772109985}], \"data-8f2aafb359cb71b6d770947a717d8f17\": [{\"time\": 0.0, \"variable\": \"x1\", \"value\": 0.0132747832685709, \"is_missing\": false}, {\"time\": 1.0, \"variable\": \"x1\", \"value\": 0.2488018423318863, \"is_missing\": false}, {\"time\": 2.0, \"variable\": \"x1\", \"value\": -0.657964825630188, \"is_missing\": false}, {\"time\": 3.0, \"variable\": \"x1\", \"value\": 0.8228557705879211, \"is_missing\": false}, {\"time\": 4.0, \"variable\": \"x1\", \"value\": -1.1485517024993896, \"is_missing\": true}, {\"time\": 5.0, \"variable\": \"x1\", \"value\": 1.419529676437378, \"is_missing\": true}, {\"time\": 6.0, \"variable\": \"x1\", \"value\": -1.4002081155776978, \"is_missing\": true}, {\"time\": 7.0, \"variable\": \"x1\", \"value\": 1.8739652633666992, \"is_missing\": true}, {\"time\": 8.0, \"variable\": \"x1\", \"value\": -1.945134162902832, \"is_missing\": false}, {\"time\": 9.0, \"variable\": \"x1\", \"value\": 2.0742228031158447, \"is_missing\": false}], \"data-6b847a89d08affb568a975515bc5a397\": [{\"time\": 0.0, \"variable\": \"x1\", \"mean\": 0.0132747832685709, \"std\": null}, {\"time\": 2.0, \"variable\": \"x1\", \"mean\": -0.657964825630188, \"std\": null}, {\"time\": 3.0, \"variable\": \"x1\", \"mean\": 0.8228557705879211, \"std\": null}, {\"time\": 8.0, \"variable\": \"x1\", \"mean\": -1.945134162902832, \"std\": null}, {\"time\": 9.0, \"variable\": \"x1\", \"mean\": 2.0742228031158447, \"std\": null}, {\"time\": 1.0, \"variable\": \"x1\", \"mean\": 0.24880185723304749, \"std\": 0.0}, {\"time\": 4.0, \"variable\": \"x1\", \"mean\": -0.1992415487766266, \"std\": 1.8688976764678955}, {\"time\": 5.0, \"variable\": \"x1\", \"mean\": 0.17954692244529724, \"std\": 1.8718758821487427}, {\"time\": 6.0, \"variable\": \"x1\", \"mean\": 0.13846366107463837, \"std\": 1.9094343185424805}, {\"time\": 7.0, \"variable\": \"x1\", \"mean\": -0.13254201412200928, \"std\": 1.9083836078643799}]}}, {\"mode\": \"vega-lite\"});\n",
       "</script>"
      ],
      "text/plain": [
       "alt.VConcatChart(...)"
      ]
     },
     "execution_count": null,
     "metadata": {},
     "output_type": "execute_result"
    }
   ],
   "source": [
    "res.plot_pred()"
   ]
  },
  {
   "cell_type": "code",
   "execution_count": null,
   "id": "0d6efc3d-936c-4eff-80da-42e63602831b",
   "metadata": {},
   "outputs": [
    {
     "data": {
      "text/html": [
       "\n",
       "<div id=\"altair-viz-4e556bfeffdc477f8a84298e6d5de94d\"></div>\n",
       "<script type=\"text/javascript\">\n",
       "  var VEGA_DEBUG = (typeof VEGA_DEBUG == \"undefined\") ? {} : VEGA_DEBUG;\n",
       "  (function(spec, embedOpt){\n",
       "    let outputDiv = document.currentScript.previousElementSibling;\n",
       "    if (outputDiv.id !== \"altair-viz-4e556bfeffdc477f8a84298e6d5de94d\") {\n",
       "      outputDiv = document.getElementById(\"altair-viz-4e556bfeffdc477f8a84298e6d5de94d\");\n",
       "    }\n",
       "    const paths = {\n",
       "      \"vega\": \"https://cdn.jsdelivr.net/npm//vega@5?noext\",\n",
       "      \"vega-lib\": \"https://cdn.jsdelivr.net/npm//vega-lib?noext\",\n",
       "      \"vega-lite\": \"https://cdn.jsdelivr.net/npm//vega-lite@4.17.0?noext\",\n",
       "      \"vega-embed\": \"https://cdn.jsdelivr.net/npm//vega-embed@6?noext\",\n",
       "    };\n",
       "\n",
       "    function maybeLoadScript(lib, version) {\n",
       "      var key = `${lib.replace(\"-\", \"\")}_version`;\n",
       "      return (VEGA_DEBUG[key] == version) ?\n",
       "        Promise.resolve(paths[lib]) :\n",
       "        new Promise(function(resolve, reject) {\n",
       "          var s = document.createElement('script');\n",
       "          document.getElementsByTagName(\"head\")[0].appendChild(s);\n",
       "          s.async = true;\n",
       "          s.onload = () => {\n",
       "            VEGA_DEBUG[key] = version;\n",
       "            return resolve(paths[lib]);\n",
       "          };\n",
       "          s.onerror = () => reject(`Error loading script: ${paths[lib]}`);\n",
       "          s.src = paths[lib];\n",
       "        });\n",
       "    }\n",
       "\n",
       "    function showError(err) {\n",
       "      outputDiv.innerHTML = `<div class=\"error\" style=\"color:red;\">${err}</div>`;\n",
       "      throw err;\n",
       "    }\n",
       "\n",
       "    function displayChart(vegaEmbed) {\n",
       "      vegaEmbed(outputDiv, spec, embedOpt)\n",
       "        .catch(err => showError(`Javascript Error: ${err.message}<br>This usually means there's a typo in your chart specification. See the javascript console for the full traceback.`));\n",
       "    }\n",
       "\n",
       "    if(typeof define === \"function\" && define.amd) {\n",
       "      requirejs.config({paths});\n",
       "      require([\"vega-embed\"], displayChart, err => showError(`Error loading script: ${err.message}`));\n",
       "    } else {\n",
       "      maybeLoadScript(\"vega\", \"5\")\n",
       "        .then(() => maybeLoadScript(\"vega-lite\", \"4.17.0\"))\n",
       "        .then(() => maybeLoadScript(\"vega-embed\", \"6\"))\n",
       "        .catch(showError)\n",
       "        .then(() => displayChart(vegaEmbed));\n",
       "    }\n",
       "  })({\"config\": {\"view\": {\"continuousWidth\": 400, \"continuousHeight\": 300}}, \"vconcat\": [{\"hconcat\": [{\"vconcat\": [{\"layer\": [{\"data\": {\"name\": \"data-e81d2144f040e9eaee9917835d7e5b22\"}, \"mark\": {\"type\": \"point\", \"color\": \"black\", \"fillOpacity\": 1, \"strokeWidth\": 1}, \"encoding\": {\"fill\": {\"field\": \"is_missing\", \"legend\": {\"title\": [\"Observed data\", \"(is missing)\"]}, \"scale\": {\"range\": [\"#ffffff00\", \"black\"]}, \"type\": \"nominal\"}, \"shape\": {\"field\": \"is_missing\", \"type\": \"nominal\"}, \"x\": {\"axis\": {\"domain\": false, \"labels\": false, \"ticks\": false, \"title\": null}, \"field\": \"time\", \"type\": \"quantitative\"}, \"y\": {\"field\": \"value\", \"scale\": {\"zero\": false}, \"title\": \"x0 [x0 units]\", \"type\": \"quantitative\"}}}, {\"layer\": [{\"mark\": \"errorband\", \"encoding\": {\"color\": {\"field\": \"variable\", \"legend\": {\"title\": [\"Line: pred. mean\", \"area: +/- 2 std\", \"(variable)\"]}, \"type\": \"nominal\"}, \"tooltip\": [{\"field\": \"std\", \"format\": \".4\", \"type\": \"quantitative\"}, {\"field\": \"mean\", \"format\": \".4\", \"type\": \"quantitative\"}], \"x\": {\"field\": \"time\", \"type\": \"quantitative\"}, \"y\": {\"field\": \"err_low\", \"scale\": {\"zero\": false}, \"title\": \"x0 [x0 units]\", \"type\": \"quantitative\"}, \"y2\": {\"field\": \"err_high\"}}, \"transform\": [{\"calculate\": \"datum.mean - 2 * datum.std\", \"as\": \"err_low\"}, {\"calculate\": \"datum.mean + 2 * datum.std\", \"as\": \"err_high\"}]}, {\"mark\": \"line\", \"encoding\": {\"color\": {\"field\": \"variable\", \"type\": \"nominal\"}, \"x\": {\"field\": \"time\", \"type\": \"quantitative\"}, \"y\": {\"field\": \"mean\", \"scale\": {\"zero\": false}, \"title\": \"x0 [x0 units]\", \"type\": \"quantitative\"}}, \"selection\": {\"selector003\": {\"type\": \"interval\", \"bind\": \"scales\"}}, \"title\": \"x0\"}], \"data\": {\"name\": \"data-e47889cb36a1ec6a8066b2249e8c02c0\"}}]}, {\"data\": {\"name\": \"data-e81d2144f040e9eaee9917835d7e5b22\"}, \"mark\": {\"type\": \"tick\", \"color\": \"black\"}, \"encoding\": {\"color\": {\"condition\": {\"value\": \"black\", \"test\": \"datum.is_missing\"}, \"value\": \"white\"}, \"x\": {\"field\": \"time\", \"type\": \"quantitative\"}}, \"selection\": {\"selector003\": {\"type\": \"interval\", \"bind\": \"scales\"}}}], \"spacing\": -10}, {\"vconcat\": [{\"layer\": [{\"data\": {\"name\": \"data-8f2aafb359cb71b6d770947a717d8f17\"}, \"mark\": {\"type\": \"point\", \"color\": \"black\", \"fillOpacity\": 1, \"strokeWidth\": 1}, \"encoding\": {\"fill\": {\"field\": \"is_missing\", \"legend\": {\"title\": [\"Observed data\", \"(is missing)\"]}, \"scale\": {\"range\": [\"#ffffff00\", \"black\"]}, \"type\": \"nominal\"}, \"shape\": {\"field\": \"is_missing\", \"type\": \"nominal\"}, \"x\": {\"axis\": {\"domain\": false, \"labels\": false, \"ticks\": false, \"title\": null}, \"field\": \"time\", \"type\": \"quantitative\"}, \"y\": {\"field\": \"value\", \"scale\": {\"zero\": false}, \"title\": \"x1 [x1 unitssss]\", \"type\": \"quantitative\"}}}, {\"layer\": [{\"mark\": \"errorband\", \"encoding\": {\"color\": {\"field\": \"variable\", \"legend\": {\"title\": [\"Line: pred. mean\", \"area: +/- 2 std\", \"(variable)\"]}, \"type\": \"nominal\"}, \"tooltip\": [{\"field\": \"std\", \"format\": \".4\", \"type\": \"quantitative\"}, {\"field\": \"mean\", \"format\": \".4\", \"type\": \"quantitative\"}], \"x\": {\"field\": \"time\", \"type\": \"quantitative\"}, \"y\": {\"field\": \"err_low\", \"scale\": {\"zero\": false}, \"title\": \"x1 [x1 unitssss]\", \"type\": \"quantitative\"}, \"y2\": {\"field\": \"err_high\"}}, \"transform\": [{\"calculate\": \"datum.mean - 2 * datum.std\", \"as\": \"err_low\"}, {\"calculate\": \"datum.mean + 2 * datum.std\", \"as\": \"err_high\"}]}, {\"mark\": \"line\", \"encoding\": {\"color\": {\"field\": \"variable\", \"type\": \"nominal\"}, \"x\": {\"field\": \"time\", \"type\": \"quantitative\"}, \"y\": {\"field\": \"mean\", \"scale\": {\"zero\": false}, \"title\": \"x1 [x1 unitssss]\", \"type\": \"quantitative\"}}, \"selection\": {\"selector004\": {\"type\": \"interval\", \"bind\": \"scales\"}}, \"title\": \"x1\"}], \"data\": {\"name\": \"data-6b847a89d08affb568a975515bc5a397\"}}]}, {\"data\": {\"name\": \"data-8f2aafb359cb71b6d770947a717d8f17\"}, \"mark\": {\"type\": \"tick\", \"color\": \"black\"}, \"encoding\": {\"color\": {\"condition\": {\"value\": \"black\", \"test\": \"datum.is_missing\"}, \"value\": \"white\"}, \"x\": {\"field\": \"time\", \"type\": \"quantitative\"}}, \"selection\": {\"selector004\": {\"type\": \"interval\", \"bind\": \"scales\"}}}], \"spacing\": -10}]}, {\"hconcat\": []}, {\"hconcat\": []}, {\"hconcat\": []}, {\"hconcat\": []}, {\"hconcat\": []}, {\"hconcat\": []}, {\"hconcat\": []}, {\"hconcat\": []}, {\"hconcat\": []}], \"$schema\": \"https://vega.github.io/schema/vega-lite/v4.17.0.json\", \"datasets\": {\"data-e81d2144f040e9eaee9917835d7e5b22\": [{\"time\": 0.0, \"variable\": \"x0\", \"value\": 0.352995902299881, \"is_missing\": false}, {\"time\": 1.0, \"variable\": \"x0\", \"value\": 0.12700305879116058, \"is_missing\": true}, {\"time\": 2.0, \"variable\": \"x0\", \"value\": -0.2643048167228699, \"is_missing\": false}, {\"time\": 3.0, \"variable\": \"x0\", \"value\": 0.24882519245147705, \"is_missing\": false}, {\"time\": 4.0, \"variable\": \"x0\", \"value\": -0.896080732345581, \"is_missing\": false}, {\"time\": 5.0, \"variable\": \"x0\", \"value\": 0.773088812828064, \"is_missing\": false}, {\"time\": 6.0, \"variable\": \"x0\", \"value\": -0.7895084023475647, \"is_missing\": true}, {\"time\": 7.0, \"variable\": \"x0\", \"value\": 1.0766730308532715, \"is_missing\": true}, {\"time\": 8.0, \"variable\": \"x0\", \"value\": -0.8416340947151184, \"is_missing\": false}, {\"time\": 9.0, \"variable\": \"x0\", \"value\": 1.2696034908294678, \"is_missing\": false}], \"data-e47889cb36a1ec6a8066b2249e8c02c0\": [{\"time\": 0.0, \"variable\": \"x0\", \"mean\": 0.352995902299881, \"std\": null}, {\"time\": 2.0, \"variable\": \"x0\", \"mean\": -0.2643048167228699, \"std\": null}, {\"time\": 3.0, \"variable\": \"x0\", \"mean\": 0.24882519245147705, \"std\": null}, {\"time\": 8.0, \"variable\": \"x0\", \"mean\": -0.8416340947151184, \"std\": null}, {\"time\": 9.0, \"variable\": \"x0\", \"mean\": 1.2696034908294678, \"std\": null}, {\"time\": 1.0, \"variable\": \"x0\", \"mean\": 0.13031640648841858, \"std\": 1.0783995389938354}, {\"time\": 4.0, \"variable\": \"x0\", \"mean\": -0.896080732345581, \"std\": 0.0}, {\"time\": 5.0, \"variable\": \"x0\", \"mean\": 0.773088812828064, \"std\": 0.0}, {\"time\": 6.0, \"variable\": \"x0\", \"mean\": 0.22222448885440826, \"std\": 1.107781171798706}, {\"time\": 7.0, \"variable\": \"x0\", \"mean\": -0.02103264629840851, \"std\": 1.1063209772109985}], \"data-8f2aafb359cb71b6d770947a717d8f17\": [{\"time\": 0.0, \"variable\": \"x1\", \"value\": 0.0132747832685709, \"is_missing\": false}, {\"time\": 1.0, \"variable\": \"x1\", \"value\": 0.2488018423318863, \"is_missing\": false}, {\"time\": 2.0, \"variable\": \"x1\", \"value\": -0.657964825630188, \"is_missing\": false}, {\"time\": 3.0, \"variable\": \"x1\", \"value\": 0.8228557705879211, \"is_missing\": false}, {\"time\": 4.0, \"variable\": \"x1\", \"value\": -1.1485517024993896, \"is_missing\": true}, {\"time\": 5.0, \"variable\": \"x1\", \"value\": 1.419529676437378, \"is_missing\": true}, {\"time\": 6.0, \"variable\": \"x1\", \"value\": -1.4002081155776978, \"is_missing\": true}, {\"time\": 7.0, \"variable\": \"x1\", \"value\": 1.8739652633666992, \"is_missing\": true}, {\"time\": 8.0, \"variable\": \"x1\", \"value\": -1.945134162902832, \"is_missing\": false}, {\"time\": 9.0, \"variable\": \"x1\", \"value\": 2.0742228031158447, \"is_missing\": false}], \"data-6b847a89d08affb568a975515bc5a397\": [{\"time\": 0.0, \"variable\": \"x1\", \"mean\": 0.0132747832685709, \"std\": null}, {\"time\": 2.0, \"variable\": \"x1\", \"mean\": -0.657964825630188, \"std\": null}, {\"time\": 3.0, \"variable\": \"x1\", \"mean\": 0.8228557705879211, \"std\": null}, {\"time\": 8.0, \"variable\": \"x1\", \"mean\": -1.945134162902832, \"std\": null}, {\"time\": 9.0, \"variable\": \"x1\", \"mean\": 2.0742228031158447, \"std\": null}, {\"time\": 1.0, \"variable\": \"x1\", \"mean\": 0.24880185723304749, \"std\": 0.0}, {\"time\": 4.0, \"variable\": \"x1\", \"mean\": -0.1992415487766266, \"std\": 1.8688976764678955}, {\"time\": 5.0, \"variable\": \"x1\", \"mean\": 0.17954692244529724, \"std\": 1.8718758821487427}, {\"time\": 6.0, \"variable\": \"x1\", \"mean\": 0.13846366107463837, \"std\": 1.9094343185424805}, {\"time\": 7.0, \"variable\": \"x1\", \"mean\": -0.13254201412200928, \"std\": 1.9083836078643799}]}}, {\"mode\": \"vega-lite\"});\n",
       "</script>"
      ],
      "text/plain": [
       "alt.VConcatChart(...)"
      ]
     },
     "execution_count": null,
     "metadata": {},
     "output_type": "execute_result"
    }
   ],
   "source": [
    "res.plot_pred(bind_interaction=False)"
   ]
  },
  {
   "cell_type": "markdown",
   "id": "46b93bb0-d7ed-406c-9a2d-5ec869949239",
   "metadata": {},
   "source": [
    "    The code is running correctly and as expected around the missing data point the error is band is wider"
   ]
  },
  {
   "cell_type": "markdown",
   "id": "a6bee157-cac9-4535-a6b4-5b0301e470f0",
   "metadata": {},
   "source": [
    "### Display results\n",
    "\n",
    "show the prediction plot, metrics and model parameters in one convinient view"
   ]
  },
  {
   "cell_type": "code",
   "execution_count": null,
   "id": "78ec40b7-5a54-4735-abd0-80ddcc3f4125",
   "metadata": {},
   "outputs": [],
   "source": [
    "#| export\n",
    "from IPython.display import HTML\n",
    "\n",
    "from ipywidgets import HBox, VBox, interact, widgets\n",
    "from ipywidgets.widgets import Output"
   ]
  },
  {
   "cell_type": "code",
   "execution_count": null,
   "id": "6e87e6b1-e578-4bcf-ad8f-dcf0fdcd6f8f",
   "metadata": {},
   "outputs": [],
   "source": [
    "#| export\n",
    "def _style_df(df):\n",
    "    \"\"\"style dataframe for better printing \"\"\"\n",
    "    return df.style.hide(axis=\"index\").format(precision = 4)\n",
    "\n",
    "def _display_as_row(dfs: dict[str, pd.DataFrame], title=\"\", styler=_style_df):\n",
    "    \"\"\"display multiple dataframes in the same row\"\"\"\n",
    "    out = []\n",
    "    for df_title, df in dfs.items():\n",
    "        df_html = _style_df(df).to_html()\n",
    "        out.append(f\"<div> <p style='font-size: 1.3rem;'>{df_title}</p> {df_html} </div>\")\n",
    "    out = f\"<div style=\\\"display: flex; column-gap: 20px; flex-wrap: wrap;\\\" class='table table-striped table-sm'> {''.join(out)}</div>\"\n",
    "    display(HTML(f\"<p style='font-size: 1.5rem; font-decoration: bold'>{title}<p>\" + \"\".join(out)))"
   ]
  },
  {
   "cell_type": "code",
   "execution_count": null,
   "id": "c0e86659-4191-4957-8750-9a6b54000b79",
   "metadata": {},
   "outputs": [],
   "source": [
    "a = HTML(pd.DataFrame([1,2]).to_html(notebook=True))"
   ]
  },
  {
   "cell_type": "code",
   "execution_count": null,
   "id": "54a00c89-d6d5-408a-8db4-bd6926c01df8",
   "metadata": {},
   "outputs": [
    {
     "data": {
      "text/html": [
       "<p style='font-size: 1.5rem; font-decoration: bold'>hello<p><div style=\"display: flex; column-gap: 20px; flex-wrap: wrap;\" class='table table-striped table-sm'> <div> <p style='font-size: 1.3rem;'>test</p> <style type=\"text/css\">\n",
       "</style>\n",
       "<table id=\"T_f5d1f\">\n",
       "  <thead>\n",
       "    <tr>\n",
       "      <th id=\"T_f5d1f_level0_col0\" class=\"col_heading level0 col0\" >0</th>\n",
       "    </tr>\n",
       "  </thead>\n",
       "  <tbody>\n",
       "    <tr>\n",
       "      <td id=\"T_f5d1f_row0_col0\" class=\"data row0 col0\" >1</td>\n",
       "    </tr>\n",
       "    <tr>\n",
       "      <td id=\"T_f5d1f_row1_col0\" class=\"data row1 col0\" >2</td>\n",
       "    </tr>\n",
       "  </tbody>\n",
       "</table>\n",
       " </div></div>"
      ],
      "text/plain": [
       "<IPython.core.display.HTML object>"
      ]
     },
     "metadata": {},
     "output_type": "display_data"
    }
   ],
   "source": [
    "_display_as_row({\"test\": pd.DataFrame([1,2])}, \"hello\")"
   ]
  },
  {
   "cell_type": "code",
   "execution_count": null,
   "id": "4ac98e21-d4eb-4f43-a9a0-98b8e4ff35e6",
   "metadata": {},
   "outputs": [
    {
     "data": {
      "text/html": [
       "<p style='font-size: 1.5rem; font-decoration: bold'><p><div style=\"display: flex; column-gap: 20px; flex-wrap: wrap;\" class='table table-striped table-sm'> <div> <p style='font-size: 1.3rem;'>test0</p> <style type=\"text/css\">\n",
       "</style>\n",
       "<table id=\"T_c7d67\">\n",
       "  <thead>\n",
       "    <tr>\n",
       "      <th id=\"T_c7d67_level0_col0\" class=\"col_heading level0 col0\" >0</th>\n",
       "    </tr>\n",
       "  </thead>\n",
       "  <tbody>\n",
       "    <tr>\n",
       "      <td id=\"T_c7d67_row0_col0\" class=\"data row0 col0\" >1</td>\n",
       "    </tr>\n",
       "    <tr>\n",
       "      <td id=\"T_c7d67_row1_col0\" class=\"data row1 col0\" >2</td>\n",
       "    </tr>\n",
       "  </tbody>\n",
       "</table>\n",
       " </div><div> <p style='font-size: 1.3rem;'>test1</p> <style type=\"text/css\">\n",
       "</style>\n",
       "<table id=\"T_a344d\">\n",
       "  <thead>\n",
       "    <tr>\n",
       "      <th id=\"T_a344d_level0_col0\" class=\"col_heading level0 col0\" >0</th>\n",
       "    </tr>\n",
       "  </thead>\n",
       "  <tbody>\n",
       "    <tr>\n",
       "      <td id=\"T_a344d_row0_col0\" class=\"data row0 col0\" >1</td>\n",
       "    </tr>\n",
       "    <tr>\n",
       "      <td id=\"T_a344d_row1_col0\" class=\"data row1 col0\" >2</td>\n",
       "    </tr>\n",
       "  </tbody>\n",
       "</table>\n",
       " </div><div> <p style='font-size: 1.3rem;'>test2</p> <style type=\"text/css\">\n",
       "</style>\n",
       "<table id=\"T_dd98a\">\n",
       "  <thead>\n",
       "    <tr>\n",
       "      <th id=\"T_dd98a_level0_col0\" class=\"col_heading level0 col0\" >0</th>\n",
       "    </tr>\n",
       "  </thead>\n",
       "  <tbody>\n",
       "    <tr>\n",
       "      <td id=\"T_dd98a_row0_col0\" class=\"data row0 col0\" >1</td>\n",
       "    </tr>\n",
       "    <tr>\n",
       "      <td id=\"T_dd98a_row1_col0\" class=\"data row1 col0\" >2</td>\n",
       "    </tr>\n",
       "  </tbody>\n",
       "</table>\n",
       " </div><div> <p style='font-size: 1.3rem;'>test3</p> <style type=\"text/css\">\n",
       "</style>\n",
       "<table id=\"T_5daa2\">\n",
       "  <thead>\n",
       "    <tr>\n",
       "      <th id=\"T_5daa2_level0_col0\" class=\"col_heading level0 col0\" >0</th>\n",
       "    </tr>\n",
       "  </thead>\n",
       "  <tbody>\n",
       "    <tr>\n",
       "      <td id=\"T_5daa2_row0_col0\" class=\"data row0 col0\" >1</td>\n",
       "    </tr>\n",
       "    <tr>\n",
       "      <td id=\"T_5daa2_row1_col0\" class=\"data row1 col0\" >2</td>\n",
       "    </tr>\n",
       "  </tbody>\n",
       "</table>\n",
       " </div><div> <p style='font-size: 1.3rem;'>test4</p> <style type=\"text/css\">\n",
       "</style>\n",
       "<table id=\"T_f1155\">\n",
       "  <thead>\n",
       "    <tr>\n",
       "      <th id=\"T_f1155_level0_col0\" class=\"col_heading level0 col0\" >0</th>\n",
       "    </tr>\n",
       "  </thead>\n",
       "  <tbody>\n",
       "    <tr>\n",
       "      <td id=\"T_f1155_row0_col0\" class=\"data row0 col0\" >1</td>\n",
       "    </tr>\n",
       "    <tr>\n",
       "      <td id=\"T_f1155_row1_col0\" class=\"data row1 col0\" >2</td>\n",
       "    </tr>\n",
       "  </tbody>\n",
       "</table>\n",
       " </div><div> <p style='font-size: 1.3rem;'>test5</p> <style type=\"text/css\">\n",
       "</style>\n",
       "<table id=\"T_81c64\">\n",
       "  <thead>\n",
       "    <tr>\n",
       "      <th id=\"T_81c64_level0_col0\" class=\"col_heading level0 col0\" >0</th>\n",
       "    </tr>\n",
       "  </thead>\n",
       "  <tbody>\n",
       "    <tr>\n",
       "      <td id=\"T_81c64_row0_col0\" class=\"data row0 col0\" >1</td>\n",
       "    </tr>\n",
       "    <tr>\n",
       "      <td id=\"T_81c64_row1_col0\" class=\"data row1 col0\" >2</td>\n",
       "    </tr>\n",
       "  </tbody>\n",
       "</table>\n",
       " </div><div> <p style='font-size: 1.3rem;'>test6</p> <style type=\"text/css\">\n",
       "</style>\n",
       "<table id=\"T_ac992\">\n",
       "  <thead>\n",
       "    <tr>\n",
       "      <th id=\"T_ac992_level0_col0\" class=\"col_heading level0 col0\" >0</th>\n",
       "    </tr>\n",
       "  </thead>\n",
       "  <tbody>\n",
       "    <tr>\n",
       "      <td id=\"T_ac992_row0_col0\" class=\"data row0 col0\" >1</td>\n",
       "    </tr>\n",
       "    <tr>\n",
       "      <td id=\"T_ac992_row1_col0\" class=\"data row1 col0\" >2</td>\n",
       "    </tr>\n",
       "  </tbody>\n",
       "</table>\n",
       " </div><div> <p style='font-size: 1.3rem;'>test7</p> <style type=\"text/css\">\n",
       "</style>\n",
       "<table id=\"T_64d21\">\n",
       "  <thead>\n",
       "    <tr>\n",
       "      <th id=\"T_64d21_level0_col0\" class=\"col_heading level0 col0\" >0</th>\n",
       "    </tr>\n",
       "  </thead>\n",
       "  <tbody>\n",
       "    <tr>\n",
       "      <td id=\"T_64d21_row0_col0\" class=\"data row0 col0\" >1</td>\n",
       "    </tr>\n",
       "    <tr>\n",
       "      <td id=\"T_64d21_row1_col0\" class=\"data row1 col0\" >2</td>\n",
       "    </tr>\n",
       "  </tbody>\n",
       "</table>\n",
       " </div><div> <p style='font-size: 1.3rem;'>test8</p> <style type=\"text/css\">\n",
       "</style>\n",
       "<table id=\"T_6e6d0\">\n",
       "  <thead>\n",
       "    <tr>\n",
       "      <th id=\"T_6e6d0_level0_col0\" class=\"col_heading level0 col0\" >0</th>\n",
       "    </tr>\n",
       "  </thead>\n",
       "  <tbody>\n",
       "    <tr>\n",
       "      <td id=\"T_6e6d0_row0_col0\" class=\"data row0 col0\" >1</td>\n",
       "    </tr>\n",
       "    <tr>\n",
       "      <td id=\"T_6e6d0_row1_col0\" class=\"data row1 col0\" >2</td>\n",
       "    </tr>\n",
       "  </tbody>\n",
       "</table>\n",
       " </div><div> <p style='font-size: 1.3rem;'>test9</p> <style type=\"text/css\">\n",
       "</style>\n",
       "<table id=\"T_057a6\">\n",
       "  <thead>\n",
       "    <tr>\n",
       "      <th id=\"T_057a6_level0_col0\" class=\"col_heading level0 col0\" >0</th>\n",
       "    </tr>\n",
       "  </thead>\n",
       "  <tbody>\n",
       "    <tr>\n",
       "      <td id=\"T_057a6_row0_col0\" class=\"data row0 col0\" >1</td>\n",
       "    </tr>\n",
       "    <tr>\n",
       "      <td id=\"T_057a6_row1_col0\" class=\"data row1 col0\" >2</td>\n",
       "    </tr>\n",
       "  </tbody>\n",
       "</table>\n",
       " </div></div>"
      ],
      "text/plain": [
       "<IPython.core.display.HTML object>"
      ]
     },
     "metadata": {},
     "output_type": "display_data"
    }
   ],
   "source": [
    "_display_as_row({f\"test{i}\": pd.DataFrame([1,2]) for i in range(10)})"
   ]
  },
  {
   "cell_type": "code",
   "execution_count": null,
   "id": "b7922863-e41b-436e-a284-2803d9cfd96c",
   "metadata": {},
   "outputs": [],
   "source": [
    "#| exports\n",
    "@patch \n",
    "def display_results(self: ImputationResult, plot_args={}):\n",
    "    \n",
    "    plot_args = {'properties': {'height': 200 , 'width': 350}, **plot_args} # set default plot size\n",
    "    plot = self.plot_pred(**plot_args)\n",
    "    \n",
    "    display(plot)    \n",
    "    _display_as_row(self.print_metrics(), \"Metrics\")\n",
    "    _display_as_row(self.model_info, \"Model Info\")   "
   ]
  },
  {
   "cell_type": "code",
   "execution_count": null,
   "id": "dcd4bdb2-8237-49aa-accb-ba24492a24d2",
   "metadata": {},
   "outputs": [
    {
     "data": {
      "text/plain": [
       "{'Lambda':   variable        z0\n",
       " 0       x0  0.796563\n",
       " 1       x1  0.459402,\n",
       " 'lengthscale':   latent  lengthscale\n",
       " 0     z0     0.693147,\n",
       " 'psi':   variable       psi\n",
       " 0       x0  0.693147\n",
       " 1       x1  0.693147,\n",
       " 'likelihood':       noise\n",
       " 0  0.693247}"
      ]
     },
     "execution_count": null,
     "metadata": {},
     "output_type": "execute_result"
    }
   ],
   "source": [
    "res.model_info"
   ]
  },
  {
   "cell_type": "code",
   "execution_count": null,
   "id": "b5d965f2-f295-4b43-8013-5adb773f4aa3",
   "metadata": {},
   "outputs": [],
   "source": [
    "res.display_results()"
   ]
  },
  {
   "cell_type": "markdown",
   "id": "e7c9c4aa-4926-45e4-bbc0-4ba2a042af8c",
   "metadata": {},
   "source": [
    "## Export "
   ]
  },
  {
   "cell_type": "code",
   "execution_count": null,
   "id": "be47bac6-1bac-4b5d-a880-7ddfe17cca68",
   "metadata": {},
   "outputs": [],
   "source": [
    "#| hide\n",
    "from nbdev import nbdev_export\n",
    "nbdev_export()"
   ]
  }
 ],
 "metadata": {
  "kernelspec": {
   "display_name": "data_science",
   "language": "python",
   "name": "data_science"
  },
  "widgets": {
   "application/vnd.jupyter.widget-state+json": {
    "state": {},
    "version_major": 2,
    "version_minor": 0
   }
  }
 },
 "nbformat": 4,
 "nbformat_minor": 5
}
