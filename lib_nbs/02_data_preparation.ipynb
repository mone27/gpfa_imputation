{
 "cells": [
  {
   "cell_type": "raw",
   "id": "45eb9bad-2cff-46d1-9d25-e02a5e5cf20e",
   "metadata": {},
   "source": [
    "---\n",
    "\n",
    "---\n",
    "\n"
   ]
  },
  {
   "cell_type": "markdown",
   "id": "dd7a50ec-f565-4eee-8cc8-cb781b177860",
   "metadata": {},
   "source": [
    "# Data Preparation\n",
    "> Fake data generation and artificial gaps for GPFA"
   ]
  },
  {
   "cell_type": "code",
   "execution_count": null,
   "id": "1c93fd2a-f731-40e1-82c1-85ff8588b510",
   "metadata": {},
   "outputs": [],
   "source": [
    "%load_ext autoreload\n",
    "%autoreload 2"
   ]
  },
  {
   "cell_type": "code",
   "execution_count": null,
   "id": "ed771b30-7fd9-478c-9053-082f6b2ee593",
   "metadata": {},
   "outputs": [],
   "source": [
    "#| hide\n",
    "#| default_exp data_preparation"
   ]
  },
  {
   "cell_type": "code",
   "execution_count": null,
   "id": "fa9ccdb2-2d4e-498c-b94c-8c891ed29358",
   "metadata": {},
   "outputs": [],
   "source": [
    "#| export\n",
    "import torch\n",
    "from torch import Tensor\n",
    "\n",
    "import pandas as pd\n",
    "import numpy as np\n",
    "from fastcore.foundation import patch\n",
    "from fastcore.test import *\n",
    "from fastcore.basics import *\n",
    "\n",
    "import matplotlib.pyplot as plt\n",
    "import altair as alt\n",
    "from altair import datum\n",
    "\n",
    "from functools import lru_cache\n",
    "from typing import Collection"
   ]
  },
  {
   "cell_type": "code",
   "execution_count": null,
   "id": "6e62f874-8cfb-459a-9e7c-001801bbaeba",
   "metadata": {},
   "outputs": [],
   "source": [
    "torch.manual_seed(277); # set seed for reproducibility of examples"
   ]
  },
  {
   "cell_type": "markdown",
   "id": "eb4c76d5-0d59-4ac9-beae-ddc2d2dffd2a",
   "metadata": {},
   "source": [
    "## Data generator \n",
    "\n",
    "generate some fake data in order to test the imputation\n",
    "\n",
    "What is does is:\n",
    "- take a function to generate the \"true\" latent\n",
    "- use some random coefficient to generate all the N features\n",
    "- add some random noise"
   ]
  },
  {
   "cell_type": "code",
   "execution_count": null,
   "id": "aa9100b9-99a3-4ef3-94ba-416597ec2f7d",
   "metadata": {},
   "outputs": [],
   "source": [
    "#| exports\n",
    "class GPFADataGenerator:\n",
    "    def __init__(self,\n",
    "                    n_features: int,\n",
    "                    n_obs: int,\n",
    "                    latent_func = lambda x: torch.sin(3*x), # Functions used to generate the true latent\n",
    "                    noise_std = .2,\n",
    "                    Lambda = None\n",
    "                ):\n",
    "        \n",
    "        self.n_features, self.n_obs = n_features, n_obs\n",
    "        self.time = torch.arange(0, self.n_obs, dtype=torch.float)\n",
    "        \n",
    "        self.latent = latent_func(self.time)\n",
    "        \n",
    "        self.Lambda = torch.tensor(Lambda).reshape(n_features, 1) if Lambda is not None else torch.rand(n_features, 1)\n",
    "        \n",
    "        self.exact_X = (self.Lambda * self.latent).T\n",
    "        \n",
    "        self.X =  self.exact_X + torch.normal(0., noise_std, size = (n_obs, n_features)) \n",
    "        \n",
    "        self.data = pd.DataFrame(self.X.numpy(), columns = [f\"x{i}\" for i in range(self.n_features)]) \n",
    "        "
   ]
  },
  {
   "cell_type": "code",
   "execution_count": null,
   "id": "494fe530-85ec-4f74-a355-d2dead7ad748",
   "metadata": {},
   "outputs": [],
   "source": [
    "fdg = GPFADataGenerator(3, 4)"
   ]
  },
  {
   "cell_type": "code",
   "execution_count": null,
   "id": "e709d25d-3770-4c7c-b092-5b821a58b2b6",
   "metadata": {},
   "outputs": [],
   "source": [
    "fd_plot = pd.DataFrame(fdg.X.numpy(), columns = [\"x1\", \"x2\", \"x3\"])\n",
    "fd_plot[\"latent\"] = pd.Series(fdg.latent.numpy())"
   ]
  },
  {
   "cell_type": "code",
   "execution_count": null,
   "id": "32c4cffc-d981-4700-b270-621897af245f",
   "metadata": {},
   "outputs": [
    {
     "data": {
      "text/plain": [
       "<AxesSubplot: >"
      ]
     },
     "execution_count": null,
     "metadata": {},
     "output_type": "execute_result"
    },
    {
     "data": {
      "image/png": "[encoded data removed]",
      "text/plain": [
       "<Figure size 432x288 with 1 Axes>"
      ]
     },
     "metadata": {
      "needs_background": "light"
     },
     "output_type": "display_data"
    }
   ],
   "source": [
    "fd_plot.plot()"
   ]
  },
  {
   "cell_type": "markdown",
   "id": "ffde7162-becf-4f7f-b603-f022a4f2279f",
   "metadata": {},
   "source": [
    "## Missing Data"
   ]
  },
  {
   "cell_type": "code",
   "execution_count": null,
   "id": "f316c608-c13f-4e31-bf18-54f123414f32",
   "metadata": {},
   "outputs": [],
   "source": [
    "#| exports\n",
    "class GPFADataTest:\n",
    "    \"Utility class to keep track of dataset, missing data and export to right format\"\n",
    "    def __init__(self, data: pd.DataFrame):\n",
    "        \" Init with provided dataset\"\n",
    "        self.data = data.copy()\n",
    "        self.data_complete = self.data.copy()\n",
    "        self.n_features, self.n_obs = data.shape[1], data.shape[0]\n",
    "        self.time = torch.arange(0, self.n_obs, dtype=torch.float)\n",
    "    @classmethod\n",
    "    def generate(cls, *args, **kwargs):\n",
    "        generator = GPFADataGenerator(*args, **kwargs)\n",
    "        self = GPFADataTest(generator.data)\n",
    "        self.generator = generator\n",
    "        return self"
   ]
  },
  {
   "cell_type": "markdown",
   "id": "af06801a-68ac-40ae-b423-b7cf8318c34e",
   "metadata": {},
   "source": [
    "### Missing Data\n",
    "\n",
    "generate artificial gaps in the data"
   ]
  },
  {
   "cell_type": "markdown",
   "id": "e04fb2cd-1320-479e-a0c4-69e71115653d",
   "metadata": {},
   "source": [
    "#### Missing at Random"
   ]
  },
  {
   "cell_type": "code",
   "execution_count": null,
   "id": "8d8d56f5-208e-4630-a346-c25c58f2e85e",
   "metadata": {},
   "outputs": [],
   "source": [
    "#| exports\n",
    "@patch()\n",
    "def add_random_missing(self: GPFADataTest,\n",
    "                prob_miss_row: float = .2,#  Probability an entire row is missing\n",
    "                prob_miss_value: float = .1 # Probability a single observation is missing       \n",
    "               ):\n",
    "    \"\"\"Make some row and same values randomly missing \"\"\"\n",
    "    # keep the original data\n",
    "        \n",
    "    self.is_miss_row = torch.rand(self.n_obs) <= prob_miss_row\n",
    "    \n",
    "    self.data[self.is_miss_row.numpy()] = np.nan\n",
    "    \n",
    "    self.is_miss_value = (torch.rand(self.n_obs * self.n_features) <= prob_miss_value).reshape(-1, self.n_features)\n",
    "    \n",
    "    self.data[self.is_miss_value.numpy()] = np.nan\n",
    "    \n",
    "    return self"
   ]
  },
  {
   "cell_type": "code",
   "execution_count": null,
   "id": "9d7d2060-6f13-467e-9581-35e4dfeee6fe",
   "metadata": {},
   "outputs": [],
   "source": [
    "fd = GPFADataTest.generate(3, 4)"
   ]
  },
  {
   "cell_type": "code",
   "execution_count": null,
   "id": "bf2af930-869c-4bfd-9d43-8ad6ba845ac4",
   "metadata": {},
   "outputs": [
    {
     "data": {
      "text/html": [
       "<div>\n",
       "<style scoped>\n",
       "    .dataframe tbody tr th:only-of-type {\n",
       "        vertical-align: middle;\n",
       "    }\n",
       "\n",
       "    .dataframe tbody tr th {\n",
       "        vertical-align: top;\n",
       "    }\n",
       "\n",
       "    .dataframe thead th {\n",
       "        text-align: right;\n",
       "    }\n",
       "</style>\n",
       "<table border=\"1\" class=\"dataframe\">\n",
       "  <thead>\n",
       "    <tr style=\"text-align: right;\">\n",
       "      <th></th>\n",
       "      <th>x0</th>\n",
       "      <th>x1</th>\n",
       "      <th>x2</th>\n",
       "    </tr>\n",
       "  </thead>\n",
       "  <tbody>\n",
       "    <tr>\n",
       "      <th>0</th>\n",
       "      <td>-0.001938</td>\n",
       "      <td>-0.127557</td>\n",
       "      <td>NaN</td>\n",
       "    </tr>\n",
       "    <tr>\n",
       "      <th>1</th>\n",
       "      <td>NaN</td>\n",
       "      <td>NaN</td>\n",
       "      <td>NaN</td>\n",
       "    </tr>\n",
       "    <tr>\n",
       "      <th>2</th>\n",
       "      <td>0.137062</td>\n",
       "      <td>0.151774</td>\n",
       "      <td>-0.092625</td>\n",
       "    </tr>\n",
       "    <tr>\n",
       "      <th>3</th>\n",
       "      <td>NaN</td>\n",
       "      <td>NaN</td>\n",
       "      <td>NaN</td>\n",
       "    </tr>\n",
       "  </tbody>\n",
       "</table>\n",
       "</div>"
      ],
      "text/plain": [
       "         x0        x1        x2\n",
       "0 -0.001938 -0.127557       NaN\n",
       "1       NaN       NaN       NaN\n",
       "2  0.137062  0.151774 -0.092625\n",
       "3       NaN       NaN       NaN"
      ]
     },
     "execution_count": null,
     "metadata": {},
     "output_type": "execute_result"
    }
   ],
   "source": [
    "fd.add_random_missing().data"
   ]
  },
  {
   "cell_type": "code",
   "execution_count": null,
   "id": "5bb3c9c1-3d74-4685-b09f-9afaa9d1211d",
   "metadata": {},
   "outputs": [
    {
     "data": {
      "text/html": [
       "<div>\n",
       "<style scoped>\n",
       "    .dataframe tbody tr th:only-of-type {\n",
       "        vertical-align: middle;\n",
       "    }\n",
       "\n",
       "    .dataframe tbody tr th {\n",
       "        vertical-align: top;\n",
       "    }\n",
       "\n",
       "    .dataframe thead th {\n",
       "        text-align: right;\n",
       "    }\n",
       "</style>\n",
       "<table border=\"1\" class=\"dataframe\">\n",
       "  <thead>\n",
       "    <tr style=\"text-align: right;\">\n",
       "      <th></th>\n",
       "      <th>x0</th>\n",
       "      <th>x1</th>\n",
       "    </tr>\n",
       "  </thead>\n",
       "  <tbody>\n",
       "    <tr>\n",
       "      <th>0</th>\n",
       "      <td>-0.203655</td>\n",
       "      <td>-0.117674</td>\n",
       "    </tr>\n",
       "    <tr>\n",
       "      <th>1</th>\n",
       "      <td>NaN</td>\n",
       "      <td>NaN</td>\n",
       "    </tr>\n",
       "    <tr>\n",
       "      <th>2</th>\n",
       "      <td>NaN</td>\n",
       "      <td>-0.111792</td>\n",
       "    </tr>\n",
       "    <tr>\n",
       "      <th>3</th>\n",
       "      <td>NaN</td>\n",
       "      <td>NaN</td>\n",
       "    </tr>\n",
       "    <tr>\n",
       "      <th>4</th>\n",
       "      <td>NaN</td>\n",
       "      <td>NaN</td>\n",
       "    </tr>\n",
       "    <tr>\n",
       "      <th>5</th>\n",
       "      <td>NaN</td>\n",
       "      <td>0.112875</td>\n",
       "    </tr>\n",
       "    <tr>\n",
       "      <th>6</th>\n",
       "      <td>NaN</td>\n",
       "      <td>NaN</td>\n",
       "    </tr>\n",
       "    <tr>\n",
       "      <th>7</th>\n",
       "      <td>NaN</td>\n",
       "      <td>NaN</td>\n",
       "    </tr>\n",
       "    <tr>\n",
       "      <th>8</th>\n",
       "      <td>NaN</td>\n",
       "      <td>NaN</td>\n",
       "    </tr>\n",
       "    <tr>\n",
       "      <th>9</th>\n",
       "      <td>NaN</td>\n",
       "      <td>0.409263</td>\n",
       "    </tr>\n",
       "  </tbody>\n",
       "</table>\n",
       "</div>"
      ],
      "text/plain": [
       "         x0        x1\n",
       "0 -0.203655 -0.117674\n",
       "1       NaN       NaN\n",
       "2       NaN -0.111792\n",
       "3       NaN       NaN\n",
       "4       NaN       NaN\n",
       "5       NaN  0.112875\n",
       "6       NaN       NaN\n",
       "7       NaN       NaN\n",
       "8       NaN       NaN\n",
       "9       NaN  0.409263"
      ]
     },
     "execution_count": null,
     "metadata": {},
     "output_type": "execute_result"
    }
   ],
   "source": [
    "GPFADataTest.generate(2, 10).add_random_missing(prob_miss_value = .7, prob_miss_row=.0).data"
   ]
  },
  {
   "cell_type": "markdown",
   "id": "f8e0f423-6d32-46a0-8707-121317db28bd",
   "metadata": {},
   "source": [
    "#### Continous gap\n",
    "\n",
    "The missing data is all clustered around a gap\n",
    "\n",
    "parameteres:\n",
    "- gap length\n",
    "- variable for gap\n"
   ]
  },
  {
   "cell_type": "code",
   "execution_count": null,
   "id": "f7612f04-c247-4d78-a363-b3e9a09c92cd",
   "metadata": {},
   "outputs": [],
   "source": [
    "#| exports\n",
    "def _make_random_gap(\n",
    "    gap_length: int, # The length of the gap\n",
    "    total_length: int, # The total number of observations\n",
    "    gap_start: int = None # Optional start of gap\n",
    "): # (total_length) array of bools to indicicate if the data is missing or not\n",
    "    \"Add a continous gap of ginve length at random position\"\n",
    "    if(gap_length >= total_length):\n",
    "        return np.repeat(True, total_length)\n",
    "    gap_start = np.random.randint(total_length - gap_length) if gap_start is None else gap_start\n",
    "    return np.hstack([\n",
    "        np.repeat(False, gap_start),\n",
    "        np.repeat(True, gap_length),\n",
    "        np.repeat(False, total_length - (gap_length + gap_start))\n",
    "    ])"
   ]
  },
  {
   "cell_type": "code",
   "execution_count": null,
   "id": "1df4b36a-c728-4d6b-88e0-d20719709677",
   "metadata": {},
   "outputs": [
    {
     "data": {
      "text/plain": [
       "array([False, False, False, False,  True,  True,  True, False, False,\n",
       "       False])"
      ]
     },
     "execution_count": null,
     "metadata": {},
     "output_type": "execute_result"
    }
   ],
   "source": [
    "_make_random_gap(3, 10)"
   ]
  },
  {
   "cell_type": "code",
   "execution_count": null,
   "id": "dd9c1007-be2d-4fce-b3b4-a250b78df948",
   "metadata": {},
   "outputs": [],
   "source": [
    "test_eq(_make_random_gap(3, 10).sum(), 3) # correct gap length"
   ]
  },
  {
   "cell_type": "code",
   "execution_count": null,
   "id": "c079d269-b42f-42cf-9a51-52203bbfcc31",
   "metadata": {},
   "outputs": [],
   "source": [
    "#| exports\n",
    "@patch\n",
    "def add_gap(self: GPFADataTest,\n",
    "            gap_length:int, # length of gap\n",
    "            variables: Collection[str], # variables that should be affected by the gap\n",
    "            gap_start: int = None # Optional start of the gap\n",
    "           ):    \n",
    "    \n",
    "    \n",
    "    self.is_gap = _make_random_gap(gap_length, self.data.shape[0], gap_start)\n",
    "    self.data.loc[self.is_gap, variables] = np.nan\n",
    "    return self"
   ]
  },
  {
   "cell_type": "code",
   "execution_count": null,
   "id": "ee9ebc62-c3ec-4547-8a76-192602b58e17",
   "metadata": {},
   "outputs": [
    {
     "data": {
      "text/html": [
       "<div>\n",
       "<style scoped>\n",
       "    .dataframe tbody tr th:only-of-type {\n",
       "        vertical-align: middle;\n",
       "    }\n",
       "\n",
       "    .dataframe tbody tr th {\n",
       "        vertical-align: top;\n",
       "    }\n",
       "\n",
       "    .dataframe thead th {\n",
       "        text-align: right;\n",
       "    }\n",
       "</style>\n",
       "<table border=\"1\" class=\"dataframe\">\n",
       "  <thead>\n",
       "    <tr style=\"text-align: right;\">\n",
       "      <th></th>\n",
       "      <th>x0</th>\n",
       "      <th>x1</th>\n",
       "      <th>x2</th>\n",
       "      <th>x3</th>\n",
       "      <th>x4</th>\n",
       "    </tr>\n",
       "  </thead>\n",
       "  <tbody>\n",
       "    <tr>\n",
       "      <th>0</th>\n",
       "      <td>0.147414</td>\n",
       "      <td>-0.162167</td>\n",
       "      <td>0.534020</td>\n",
       "      <td>-0.314157</td>\n",
       "      <td>-0.145421</td>\n",
       "    </tr>\n",
       "    <tr>\n",
       "      <th>1</th>\n",
       "      <td>0.227970</td>\n",
       "      <td>NaN</td>\n",
       "      <td>NaN</td>\n",
       "      <td>0.298646</td>\n",
       "      <td>0.023241</td>\n",
       "    </tr>\n",
       "    <tr>\n",
       "      <th>2</th>\n",
       "      <td>-0.277233</td>\n",
       "      <td>NaN</td>\n",
       "      <td>NaN</td>\n",
       "      <td>0.011927</td>\n",
       "      <td>0.350378</td>\n",
       "    </tr>\n",
       "    <tr>\n",
       "      <th>3</th>\n",
       "      <td>0.081553</td>\n",
       "      <td>NaN</td>\n",
       "      <td>NaN</td>\n",
       "      <td>0.091917</td>\n",
       "      <td>0.162622</td>\n",
       "    </tr>\n",
       "    <tr>\n",
       "      <th>4</th>\n",
       "      <td>-0.488591</td>\n",
       "      <td>NaN</td>\n",
       "      <td>NaN</td>\n",
       "      <td>-0.383358</td>\n",
       "      <td>-0.142712</td>\n",
       "    </tr>\n",
       "    <tr>\n",
       "      <th>5</th>\n",
       "      <td>0.850323</td>\n",
       "      <td>0.871718</td>\n",
       "      <td>0.314558</td>\n",
       "      <td>0.378259</td>\n",
       "      <td>-0.198052</td>\n",
       "    </tr>\n",
       "    <tr>\n",
       "      <th>6</th>\n",
       "      <td>-0.554473</td>\n",
       "      <td>-0.438560</td>\n",
       "      <td>-0.345700</td>\n",
       "      <td>-0.368945</td>\n",
       "      <td>-0.081258</td>\n",
       "    </tr>\n",
       "    <tr>\n",
       "      <th>7</th>\n",
       "      <td>0.904893</td>\n",
       "      <td>0.390038</td>\n",
       "      <td>0.473491</td>\n",
       "      <td>0.916413</td>\n",
       "      <td>-0.053904</td>\n",
       "    </tr>\n",
       "    <tr>\n",
       "      <th>8</th>\n",
       "      <td>-0.463149</td>\n",
       "      <td>-0.567804</td>\n",
       "      <td>-0.318116</td>\n",
       "      <td>-0.687993</td>\n",
       "      <td>0.118367</td>\n",
       "    </tr>\n",
       "    <tr>\n",
       "      <th>9</th>\n",
       "      <td>0.931138</td>\n",
       "      <td>0.398865</td>\n",
       "      <td>0.561607</td>\n",
       "      <td>0.701557</td>\n",
       "      <td>0.026598</td>\n",
       "    </tr>\n",
       "  </tbody>\n",
       "</table>\n",
       "</div>"
      ],
      "text/plain": [
       "         x0        x1        x2        x3        x4\n",
       "0  0.147414 -0.162167  0.534020 -0.314157 -0.145421\n",
       "1  0.227970       NaN       NaN  0.298646  0.023241\n",
       "2 -0.277233       NaN       NaN  0.011927  0.350378\n",
       "3  0.081553       NaN       NaN  0.091917  0.162622\n",
       "4 -0.488591       NaN       NaN -0.383358 -0.142712\n",
       "5  0.850323  0.871718  0.314558  0.378259 -0.198052\n",
       "6 -0.554473 -0.438560 -0.345700 -0.368945 -0.081258\n",
       "7  0.904893  0.390038  0.473491  0.916413 -0.053904\n",
       "8 -0.463149 -0.567804 -0.318116 -0.687993  0.118367\n",
       "9  0.931138  0.398865  0.561607  0.701557  0.026598"
      ]
     },
     "execution_count": null,
     "metadata": {},
     "output_type": "execute_result"
    }
   ],
   "source": [
    "GPFADataTest.generate(5, 10).add_gap(4, [\"x1\", \"x2\"]).data"
   ]
  },
  {
   "cell_type": "markdown",
   "id": "f8aa29db-ea00-4bb0-bf7c-511bf2ca6b11",
   "metadata": {},
   "source": [
    "### Save as DataFrame"
   ]
  },
  {
   "cell_type": "code",
   "execution_count": null,
   "id": "ad828865-0cd2-4bba-a477-3422ce8dc962",
   "metadata": {},
   "outputs": [],
   "source": [
    "#| exports\n",
    "@patch\n",
    "def tidy_df(self: GPFADataTest,\n",
    "          complete = False, # full dataset (False) or the one with missing data (True)\n",
    "          is_missing = False # add flag whether value is missing\n",
    "         ):\n",
    "    \n",
    "    df = self.data if not complete else self.data_complete # no need to copy here because next lines does a copy anyway\n",
    "    df = df.assign(time = self.time.numpy())\n",
    "        \n",
    "    df = df.melt(\"time\")\n",
    "    \n",
    "    if is_missing: df = df.assign(is_missing = self.data.melt().value.isna()) #missing data is not from complete data\n",
    "        \n",
    "    return df"
   ]
  },
  {
   "cell_type": "code",
   "execution_count": null,
   "id": "55fa57b1-5bc5-4585-9ca3-fdfdf13f30a5",
   "metadata": {},
   "outputs": [
    {
     "data": {
      "text/html": [
       "<div>\n",
       "<style scoped>\n",
       "    .dataframe tbody tr th:only-of-type {\n",
       "        vertical-align: middle;\n",
       "    }\n",
       "\n",
       "    .dataframe tbody tr th {\n",
       "        vertical-align: top;\n",
       "    }\n",
       "\n",
       "    .dataframe thead th {\n",
       "        text-align: right;\n",
       "    }\n",
       "</style>\n",
       "<table border=\"1\" class=\"dataframe\">\n",
       "  <thead>\n",
       "    <tr style=\"text-align: right;\">\n",
       "      <th></th>\n",
       "      <th>time</th>\n",
       "      <th>variable</th>\n",
       "      <th>value</th>\n",
       "    </tr>\n",
       "  </thead>\n",
       "  <tbody>\n",
       "    <tr>\n",
       "      <th>0</th>\n",
       "      <td>0.0</td>\n",
       "      <td>x0</td>\n",
       "      <td>-0.001938</td>\n",
       "    </tr>\n",
       "    <tr>\n",
       "      <th>1</th>\n",
       "      <td>1.0</td>\n",
       "      <td>x0</td>\n",
       "      <td>NaN</td>\n",
       "    </tr>\n",
       "    <tr>\n",
       "      <th>2</th>\n",
       "      <td>2.0</td>\n",
       "      <td>x0</td>\n",
       "      <td>0.137062</td>\n",
       "    </tr>\n",
       "    <tr>\n",
       "      <th>3</th>\n",
       "      <td>3.0</td>\n",
       "      <td>x0</td>\n",
       "      <td>NaN</td>\n",
       "    </tr>\n",
       "    <tr>\n",
       "      <th>4</th>\n",
       "      <td>0.0</td>\n",
       "      <td>x1</td>\n",
       "      <td>-0.127557</td>\n",
       "    </tr>\n",
       "    <tr>\n",
       "      <th>5</th>\n",
       "      <td>1.0</td>\n",
       "      <td>x1</td>\n",
       "      <td>NaN</td>\n",
       "    </tr>\n",
       "    <tr>\n",
       "      <th>6</th>\n",
       "      <td>2.0</td>\n",
       "      <td>x1</td>\n",
       "      <td>0.151774</td>\n",
       "    </tr>\n",
       "    <tr>\n",
       "      <th>7</th>\n",
       "      <td>3.0</td>\n",
       "      <td>x1</td>\n",
       "      <td>NaN</td>\n",
       "    </tr>\n",
       "    <tr>\n",
       "      <th>8</th>\n",
       "      <td>0.0</td>\n",
       "      <td>x2</td>\n",
       "      <td>NaN</td>\n",
       "    </tr>\n",
       "    <tr>\n",
       "      <th>9</th>\n",
       "      <td>1.0</td>\n",
       "      <td>x2</td>\n",
       "      <td>NaN</td>\n",
       "    </tr>\n",
       "    <tr>\n",
       "      <th>10</th>\n",
       "      <td>2.0</td>\n",
       "      <td>x2</td>\n",
       "      <td>-0.092625</td>\n",
       "    </tr>\n",
       "    <tr>\n",
       "      <th>11</th>\n",
       "      <td>3.0</td>\n",
       "      <td>x2</td>\n",
       "      <td>NaN</td>\n",
       "    </tr>\n",
       "  </tbody>\n",
       "</table>\n",
       "</div>"
      ],
      "text/plain": [
       "    time variable     value\n",
       "0    0.0       x0 -0.001938\n",
       "1    1.0       x0       NaN\n",
       "2    2.0       x0  0.137062\n",
       "3    3.0       x0       NaN\n",
       "4    0.0       x1 -0.127557\n",
       "5    1.0       x1       NaN\n",
       "6    2.0       x1  0.151774\n",
       "7    3.0       x1       NaN\n",
       "8    0.0       x2       NaN\n",
       "9    1.0       x2       NaN\n",
       "10   2.0       x2 -0.092625\n",
       "11   3.0       x2       NaN"
      ]
     },
     "execution_count": null,
     "metadata": {},
     "output_type": "execute_result"
    }
   ],
   "source": [
    "fd.tidy_df()"
   ]
  },
  {
   "cell_type": "code",
   "execution_count": null,
   "id": "772accd2-09ed-4324-80e2-bbe4ea5787d0",
   "metadata": {},
   "outputs": [
    {
     "data": {
      "text/html": [
       "<div>\n",
       "<style scoped>\n",
       "    .dataframe tbody tr th:only-of-type {\n",
       "        vertical-align: middle;\n",
       "    }\n",
       "\n",
       "    .dataframe tbody tr th {\n",
       "        vertical-align: top;\n",
       "    }\n",
       "\n",
       "    .dataframe thead th {\n",
       "        text-align: right;\n",
       "    }\n",
       "</style>\n",
       "<table border=\"1\" class=\"dataframe\">\n",
       "  <thead>\n",
       "    <tr style=\"text-align: right;\">\n",
       "      <th></th>\n",
       "      <th>time</th>\n",
       "      <th>variable</th>\n",
       "      <th>value</th>\n",
       "    </tr>\n",
       "  </thead>\n",
       "  <tbody>\n",
       "    <tr>\n",
       "      <th>0</th>\n",
       "      <td>0.0</td>\n",
       "      <td>x0</td>\n",
       "      <td>-0.001938</td>\n",
       "    </tr>\n",
       "    <tr>\n",
       "      <th>1</th>\n",
       "      <td>1.0</td>\n",
       "      <td>x0</td>\n",
       "      <td>0.021966</td>\n",
       "    </tr>\n",
       "    <tr>\n",
       "      <th>2</th>\n",
       "      <td>2.0</td>\n",
       "      <td>x0</td>\n",
       "      <td>0.137062</td>\n",
       "    </tr>\n",
       "    <tr>\n",
       "      <th>3</th>\n",
       "      <td>3.0</td>\n",
       "      <td>x0</td>\n",
       "      <td>0.031551</td>\n",
       "    </tr>\n",
       "    <tr>\n",
       "      <th>4</th>\n",
       "      <td>0.0</td>\n",
       "      <td>x1</td>\n",
       "      <td>-0.127557</td>\n",
       "    </tr>\n",
       "    <tr>\n",
       "      <th>5</th>\n",
       "      <td>1.0</td>\n",
       "      <td>x1</td>\n",
       "      <td>0.295225</td>\n",
       "    </tr>\n",
       "    <tr>\n",
       "      <th>6</th>\n",
       "      <td>2.0</td>\n",
       "      <td>x1</td>\n",
       "      <td>0.151774</td>\n",
       "    </tr>\n",
       "    <tr>\n",
       "      <th>7</th>\n",
       "      <td>3.0</td>\n",
       "      <td>x1</td>\n",
       "      <td>0.116207</td>\n",
       "    </tr>\n",
       "    <tr>\n",
       "      <th>8</th>\n",
       "      <td>0.0</td>\n",
       "      <td>x2</td>\n",
       "      <td>0.139568</td>\n",
       "    </tr>\n",
       "    <tr>\n",
       "      <th>9</th>\n",
       "      <td>1.0</td>\n",
       "      <td>x2</td>\n",
       "      <td>0.029323</td>\n",
       "    </tr>\n",
       "    <tr>\n",
       "      <th>10</th>\n",
       "      <td>2.0</td>\n",
       "      <td>x2</td>\n",
       "      <td>-0.092625</td>\n",
       "    </tr>\n",
       "    <tr>\n",
       "      <th>11</th>\n",
       "      <td>3.0</td>\n",
       "      <td>x2</td>\n",
       "      <td>0.160619</td>\n",
       "    </tr>\n",
       "  </tbody>\n",
       "</table>\n",
       "</div>"
      ],
      "text/plain": [
       "    time variable     value\n",
       "0    0.0       x0 -0.001938\n",
       "1    1.0       x0  0.021966\n",
       "2    2.0       x0  0.137062\n",
       "3    3.0       x0  0.031551\n",
       "4    0.0       x1 -0.127557\n",
       "5    1.0       x1  0.295225\n",
       "6    2.0       x1  0.151774\n",
       "7    3.0       x1  0.116207\n",
       "8    0.0       x2  0.139568\n",
       "9    1.0       x2  0.029323\n",
       "10   2.0       x2 -0.092625\n",
       "11   3.0       x2  0.160619"
      ]
     },
     "execution_count": null,
     "metadata": {},
     "output_type": "execute_result"
    }
   ],
   "source": [
    "fd.tidy_df(complete=True)"
   ]
  },
  {
   "cell_type": "code",
   "execution_count": null,
   "id": "dd987360-d61c-40b0-9020-88f1a5072a9b",
   "metadata": {},
   "outputs": [
    {
     "data": {
      "text/html": [
       "<div>\n",
       "<style scoped>\n",
       "    .dataframe tbody tr th:only-of-type {\n",
       "        vertical-align: middle;\n",
       "    }\n",
       "\n",
       "    .dataframe tbody tr th {\n",
       "        vertical-align: top;\n",
       "    }\n",
       "\n",
       "    .dataframe thead th {\n",
       "        text-align: right;\n",
       "    }\n",
       "</style>\n",
       "<table border=\"1\" class=\"dataframe\">\n",
       "  <thead>\n",
       "    <tr style=\"text-align: right;\">\n",
       "      <th></th>\n",
       "      <th>time</th>\n",
       "      <th>variable</th>\n",
       "      <th>value</th>\n",
       "      <th>is_missing</th>\n",
       "    </tr>\n",
       "  </thead>\n",
       "  <tbody>\n",
       "    <tr>\n",
       "      <th>0</th>\n",
       "      <td>0.0</td>\n",
       "      <td>x0</td>\n",
       "      <td>-0.001938</td>\n",
       "      <td>False</td>\n",
       "    </tr>\n",
       "    <tr>\n",
       "      <th>1</th>\n",
       "      <td>1.0</td>\n",
       "      <td>x0</td>\n",
       "      <td>NaN</td>\n",
       "      <td>True</td>\n",
       "    </tr>\n",
       "    <tr>\n",
       "      <th>2</th>\n",
       "      <td>2.0</td>\n",
       "      <td>x0</td>\n",
       "      <td>0.137062</td>\n",
       "      <td>False</td>\n",
       "    </tr>\n",
       "    <tr>\n",
       "      <th>3</th>\n",
       "      <td>3.0</td>\n",
       "      <td>x0</td>\n",
       "      <td>NaN</td>\n",
       "      <td>True</td>\n",
       "    </tr>\n",
       "    <tr>\n",
       "      <th>4</th>\n",
       "      <td>0.0</td>\n",
       "      <td>x1</td>\n",
       "      <td>-0.127557</td>\n",
       "      <td>False</td>\n",
       "    </tr>\n",
       "    <tr>\n",
       "      <th>5</th>\n",
       "      <td>1.0</td>\n",
       "      <td>x1</td>\n",
       "      <td>NaN</td>\n",
       "      <td>True</td>\n",
       "    </tr>\n",
       "    <tr>\n",
       "      <th>6</th>\n",
       "      <td>2.0</td>\n",
       "      <td>x1</td>\n",
       "      <td>0.151774</td>\n",
       "      <td>False</td>\n",
       "    </tr>\n",
       "    <tr>\n",
       "      <th>7</th>\n",
       "      <td>3.0</td>\n",
       "      <td>x1</td>\n",
       "      <td>NaN</td>\n",
       "      <td>True</td>\n",
       "    </tr>\n",
       "    <tr>\n",
       "      <th>8</th>\n",
       "      <td>0.0</td>\n",
       "      <td>x2</td>\n",
       "      <td>NaN</td>\n",
       "      <td>True</td>\n",
       "    </tr>\n",
       "    <tr>\n",
       "      <th>9</th>\n",
       "      <td>1.0</td>\n",
       "      <td>x2</td>\n",
       "      <td>NaN</td>\n",
       "      <td>True</td>\n",
       "    </tr>\n",
       "    <tr>\n",
       "      <th>10</th>\n",
       "      <td>2.0</td>\n",
       "      <td>x2</td>\n",
       "      <td>-0.092625</td>\n",
       "      <td>False</td>\n",
       "    </tr>\n",
       "    <tr>\n",
       "      <th>11</th>\n",
       "      <td>3.0</td>\n",
       "      <td>x2</td>\n",
       "      <td>NaN</td>\n",
       "      <td>True</td>\n",
       "    </tr>\n",
       "  </tbody>\n",
       "</table>\n",
       "</div>"
      ],
      "text/plain": [
       "    time variable     value  is_missing\n",
       "0    0.0       x0 -0.001938       False\n",
       "1    1.0       x0       NaN        True\n",
       "2    2.0       x0  0.137062       False\n",
       "3    3.0       x0       NaN        True\n",
       "4    0.0       x1 -0.127557       False\n",
       "5    1.0       x1       NaN        True\n",
       "6    2.0       x1  0.151774       False\n",
       "7    3.0       x1       NaN        True\n",
       "8    0.0       x2       NaN        True\n",
       "9    1.0       x2       NaN        True\n",
       "10   2.0       x2 -0.092625       False\n",
       "11   3.0       x2       NaN        True"
      ]
     },
     "execution_count": null,
     "metadata": {},
     "output_type": "execute_result"
    }
   ],
   "source": [
    "fd.tidy_df(complete=False, is_missing=True)"
   ]
  },
  {
   "cell_type": "markdown",
   "id": "1dac5b35-deec-4d2d-89bd-6a643af09981",
   "metadata": {},
   "source": [
    "The export as a dataframe is working correctly with the missing data"
   ]
  },
  {
   "cell_type": "code",
   "execution_count": null,
   "id": "6f1e1223-03b6-4021-8565-e25c89346b93",
   "metadata": {},
   "outputs": [],
   "source": [
    "fd_df = fd.tidy_df()"
   ]
  },
  {
   "cell_type": "code",
   "execution_count": null,
   "id": "1f8f9641-d2c1-420f-87e9-6db2a814b295",
   "metadata": {},
   "outputs": [
    {
     "name": "stderr",
     "output_type": "stream",
     "text": [
      "/home/simone/.local/lib/python3.10/site-packages/altair/utils/core.py:317: FutureWarning: iteritems is deprecated and will be removed in a future version. Use .items instead.\n",
      "  for col_name, dtype in df.dtypes.iteritems():\n"
     ]
    },
    {
     "data": {
      "text/html": [
       "\n",
       "<div id=\"altair-viz-f80dd55d7cce480e8b8fe6b3e7442f87\"></div>\n",
       "<script type=\"text/javascript\">\n",
       "  var VEGA_DEBUG = (typeof VEGA_DEBUG == \"undefined\") ? {} : VEGA_DEBUG;\n",
       "  (function(spec, embedOpt){\n",
       "    let outputDiv = document.currentScript.previousElementSibling;\n",
       "    if (outputDiv.id !== \"altair-viz-f80dd55d7cce480e8b8fe6b3e7442f87\") {\n",
       "      outputDiv = document.getElementById(\"altair-viz-f80dd55d7cce480e8b8fe6b3e7442f87\");\n",
       "    }\n",
       "    const paths = {\n",
       "      \"vega\": \"https://cdn.jsdelivr.net/npm//vega@5?noext\",\n",
       "      \"vega-lib\": \"https://cdn.jsdelivr.net/npm//vega-lib?noext\",\n",
       "      \"vega-lite\": \"https://cdn.jsdelivr.net/npm//vega-lite@4.17.0?noext\",\n",
       "      \"vega-embed\": \"https://cdn.jsdelivr.net/npm//vega-embed@6?noext\",\n",
       "    };\n",
       "\n",
       "    function maybeLoadScript(lib, version) {\n",
       "      var key = `${lib.replace(\"-\", \"\")}_version`;\n",
       "      return (VEGA_DEBUG[key] == version) ?\n",
       "        Promise.resolve(paths[lib]) :\n",
       "        new Promise(function(resolve, reject) {\n",
       "          var s = document.createElement('script');\n",
       "          document.getElementsByTagName(\"head\")[0].appendChild(s);\n",
       "          s.async = true;\n",
       "          s.onload = () => {\n",
       "            VEGA_DEBUG[key] = version;\n",
       "            return resolve(paths[lib]);\n",
       "          };\n",
       "          s.onerror = () => reject(`Error loading script: ${paths[lib]}`);\n",
       "          s.src = paths[lib];\n",
       "        });\n",
       "    }\n",
       "\n",
       "    function showError(err) {\n",
       "      outputDiv.innerHTML = `<div class=\"error\" style=\"color:red;\">${err}</div>`;\n",
       "      throw err;\n",
       "    }\n",
       "\n",
       "    function displayChart(vegaEmbed) {\n",
       "      vegaEmbed(outputDiv, spec, embedOpt)\n",
       "        .catch(err => showError(`Javascript Error: ${err.message}<br>This usually means there's a typo in your chart specification. See the javascript console for the full traceback.`));\n",
       "    }\n",
       "\n",
       "    if(typeof define === \"function\" && define.amd) {\n",
       "      requirejs.config({paths});\n",
       "      require([\"vega-embed\"], displayChart, err => showError(`Error loading script: ${err.message}`));\n",
       "    } else {\n",
       "      maybeLoadScript(\"vega\", \"5\")\n",
       "        .then(() => maybeLoadScript(\"vega-lite\", \"4.17.0\"))\n",
       "        .then(() => maybeLoadScript(\"vega-embed\", \"6\"))\n",
       "        .catch(showError)\n",
       "        .then(() => displayChart(vegaEmbed));\n",
       "    }\n",
       "  })({\"config\": {\"view\": {\"continuousWidth\": 400, \"continuousHeight\": 300}}, \"data\": {\"name\": \"data-03a6fdf6ec02aa3453821f006385775a\"}, \"mark\": {\"type\": \"line\", \"point\": true}, \"encoding\": {\"color\": {\"field\": \"variable\", \"type\": \"nominal\"}, \"x\": {\"field\": \"time\", \"type\": \"quantitative\"}, \"y\": {\"field\": \"value\", \"type\": \"quantitative\"}}, \"$schema\": \"https://vega.github.io/schema/vega-lite/v4.17.0.json\", \"datasets\": {\"data-03a6fdf6ec02aa3453821f006385775a\": [{\"time\": 0.0, \"variable\": \"x0\", \"value\": -0.00193812046200037}, {\"time\": 1.0, \"variable\": \"x0\", \"value\": null}, {\"time\": 2.0, \"variable\": \"x0\", \"value\": 0.137062206864357}, {\"time\": 3.0, \"variable\": \"x0\", \"value\": null}, {\"time\": 0.0, \"variable\": \"x1\", \"value\": -0.1275574117898941}, {\"time\": 1.0, \"variable\": \"x1\", \"value\": null}, {\"time\": 2.0, \"variable\": \"x1\", \"value\": 0.15177448093891144}, {\"time\": 3.0, \"variable\": \"x1\", \"value\": null}, {\"time\": 0.0, \"variable\": \"x2\", \"value\": null}, {\"time\": 1.0, \"variable\": \"x2\", \"value\": null}, {\"time\": 2.0, \"variable\": \"x2\", \"value\": -0.09262467920780182}, {\"time\": 3.0, \"variable\": \"x2\", \"value\": null}]}}, {\"mode\": \"vega-lite\"});\n",
       "</script>"
      ],
      "text/plain": [
       "alt.Chart(...)"
      ]
     },
     "execution_count": null,
     "metadata": {},
     "output_type": "execute_result"
    }
   ],
   "source": [
    "alt.Chart(fd_df).mark_line(point=True).encode(\n",
    "    x = \"time\",\n",
    "    y = \"value\",\n",
    "    color = \"variable\"\n",
    ")"
   ]
  },
  {
   "cell_type": "code",
   "execution_count": null,
   "id": "4fc8be41-3e97-48cb-a3dc-645928938683",
   "metadata": {},
   "outputs": [
    {
     "data": {
      "text/html": [
       "<div>\n",
       "<style scoped>\n",
       "    .dataframe tbody tr th:only-of-type {\n",
       "        vertical-align: middle;\n",
       "    }\n",
       "\n",
       "    .dataframe tbody tr th {\n",
       "        vertical-align: top;\n",
       "    }\n",
       "\n",
       "    .dataframe thead th {\n",
       "        text-align: right;\n",
       "    }\n",
       "</style>\n",
       "<table border=\"1\" class=\"dataframe\">\n",
       "  <thead>\n",
       "    <tr style=\"text-align: right;\">\n",
       "      <th></th>\n",
       "      <th>x0</th>\n",
       "      <th>x1</th>\n",
       "      <th>x2</th>\n",
       "    </tr>\n",
       "  </thead>\n",
       "  <tbody>\n",
       "    <tr>\n",
       "      <th>0</th>\n",
       "      <td>-0.001938</td>\n",
       "      <td>-0.127557</td>\n",
       "      <td>NaN</td>\n",
       "    </tr>\n",
       "    <tr>\n",
       "      <th>1</th>\n",
       "      <td>NaN</td>\n",
       "      <td>NaN</td>\n",
       "      <td>NaN</td>\n",
       "    </tr>\n",
       "    <tr>\n",
       "      <th>2</th>\n",
       "      <td>0.137062</td>\n",
       "      <td>0.151774</td>\n",
       "      <td>-0.092625</td>\n",
       "    </tr>\n",
       "    <tr>\n",
       "      <th>3</th>\n",
       "      <td>NaN</td>\n",
       "      <td>NaN</td>\n",
       "      <td>NaN</td>\n",
       "    </tr>\n",
       "  </tbody>\n",
       "</table>\n",
       "</div>"
      ],
      "text/plain": [
       "         x0        x1        x2\n",
       "0 -0.001938 -0.127557       NaN\n",
       "1       NaN       NaN       NaN\n",
       "2  0.137062  0.151774 -0.092625\n",
       "3       NaN       NaN       NaN"
      ]
     },
     "execution_count": null,
     "metadata": {},
     "output_type": "execute_result"
    }
   ],
   "source": [
    "fd.data"
   ]
  },
  {
   "cell_type": "code",
   "execution_count": null,
   "id": "1114ddcc-b557-4134-beb3-13103741f0ea",
   "metadata": {},
   "outputs": [],
   "source": [
    "#| export\n",
    "@patch(as_prop=True)\n",
    "def data_compl_tidy(self: GPFADataTest):\n",
    "    return self.tidy_df(complete=True, is_missing=True)"
   ]
  },
  {
   "cell_type": "code",
   "execution_count": null,
   "id": "b4872b3d-0e90-4476-a02c-a045cca905a0",
   "metadata": {},
   "outputs": [
    {
     "data": {
      "text/html": [
       "<div>\n",
       "<style scoped>\n",
       "    .dataframe tbody tr th:only-of-type {\n",
       "        vertical-align: middle;\n",
       "    }\n",
       "\n",
       "    .dataframe tbody tr th {\n",
       "        vertical-align: top;\n",
       "    }\n",
       "\n",
       "    .dataframe thead th {\n",
       "        text-align: right;\n",
       "    }\n",
       "</style>\n",
       "<table border=\"1\" class=\"dataframe\">\n",
       "  <thead>\n",
       "    <tr style=\"text-align: right;\">\n",
       "      <th></th>\n",
       "      <th>time</th>\n",
       "      <th>variable</th>\n",
       "      <th>value</th>\n",
       "      <th>is_missing</th>\n",
       "    </tr>\n",
       "  </thead>\n",
       "  <tbody>\n",
       "    <tr>\n",
       "      <th>0</th>\n",
       "      <td>0.0</td>\n",
       "      <td>x0</td>\n",
       "      <td>-0.001938</td>\n",
       "      <td>False</td>\n",
       "    </tr>\n",
       "    <tr>\n",
       "      <th>1</th>\n",
       "      <td>1.0</td>\n",
       "      <td>x0</td>\n",
       "      <td>0.021966</td>\n",
       "      <td>True</td>\n",
       "    </tr>\n",
       "    <tr>\n",
       "      <th>2</th>\n",
       "      <td>2.0</td>\n",
       "      <td>x0</td>\n",
       "      <td>0.137062</td>\n",
       "      <td>False</td>\n",
       "    </tr>\n",
       "    <tr>\n",
       "      <th>3</th>\n",
       "      <td>3.0</td>\n",
       "      <td>x0</td>\n",
       "      <td>0.031551</td>\n",
       "      <td>True</td>\n",
       "    </tr>\n",
       "    <tr>\n",
       "      <th>4</th>\n",
       "      <td>0.0</td>\n",
       "      <td>x1</td>\n",
       "      <td>-0.127557</td>\n",
       "      <td>False</td>\n",
       "    </tr>\n",
       "    <tr>\n",
       "      <th>5</th>\n",
       "      <td>1.0</td>\n",
       "      <td>x1</td>\n",
       "      <td>0.295225</td>\n",
       "      <td>True</td>\n",
       "    </tr>\n",
       "    <tr>\n",
       "      <th>6</th>\n",
       "      <td>2.0</td>\n",
       "      <td>x1</td>\n",
       "      <td>0.151774</td>\n",
       "      <td>False</td>\n",
       "    </tr>\n",
       "    <tr>\n",
       "      <th>7</th>\n",
       "      <td>3.0</td>\n",
       "      <td>x1</td>\n",
       "      <td>0.116207</td>\n",
       "      <td>True</td>\n",
       "    </tr>\n",
       "    <tr>\n",
       "      <th>8</th>\n",
       "      <td>0.0</td>\n",
       "      <td>x2</td>\n",
       "      <td>0.139568</td>\n",
       "      <td>True</td>\n",
       "    </tr>\n",
       "    <tr>\n",
       "      <th>9</th>\n",
       "      <td>1.0</td>\n",
       "      <td>x2</td>\n",
       "      <td>0.029323</td>\n",
       "      <td>True</td>\n",
       "    </tr>\n",
       "    <tr>\n",
       "      <th>10</th>\n",
       "      <td>2.0</td>\n",
       "      <td>x2</td>\n",
       "      <td>-0.092625</td>\n",
       "      <td>False</td>\n",
       "    </tr>\n",
       "    <tr>\n",
       "      <th>11</th>\n",
       "      <td>3.0</td>\n",
       "      <td>x2</td>\n",
       "      <td>0.160619</td>\n",
       "      <td>True</td>\n",
       "    </tr>\n",
       "  </tbody>\n",
       "</table>\n",
       "</div>"
      ],
      "text/plain": [
       "    time variable     value  is_missing\n",
       "0    0.0       x0 -0.001938       False\n",
       "1    1.0       x0  0.021966        True\n",
       "2    2.0       x0  0.137062       False\n",
       "3    3.0       x0  0.031551        True\n",
       "4    0.0       x1 -0.127557       False\n",
       "5    1.0       x1  0.295225        True\n",
       "6    2.0       x1  0.151774       False\n",
       "7    3.0       x1  0.116207        True\n",
       "8    0.0       x2  0.139568        True\n",
       "9    1.0       x2  0.029323        True\n",
       "10   2.0       x2 -0.092625       False\n",
       "11   3.0       x2  0.160619        True"
      ]
     },
     "execution_count": null,
     "metadata": {},
     "output_type": "execute_result"
    }
   ],
   "source": [
    "fd.data_compl_tidy"
   ]
  },
  {
   "cell_type": "markdown",
   "id": "17d93121-d4d5-49eb-9f06-bc96afe3e1c3",
   "metadata": {},
   "source": [
    "### Normalization"
   ]
  },
  {
   "cell_type": "markdown",
   "id": "288c0db0-0426-402c-9998-a4881f66ee79",
   "metadata": {},
   "source": [
    "The different variables in the can have pretty different values so we normalize so they are more comparable. Have numbers between 0 and 1 should also help with the computation accuracy.\n",
    "\n",
    "One additional complexity is the need to backtransform not only the mean but also the standard deviation.\n",
    "\n",
    "So we need a but of math\n",
    "\n",
    "$$x_{norm} = \\frac{x - \\mu_x}{\\sigma_x}$$\n",
    "then\n",
    "$$x = x_{norm}\\sigma_x + \\mu_x $$"
   ]
  },
  {
   "cell_type": "markdown",
   "id": "b3263af6-c8f3-46b5-bab8-63150d5d01d4",
   "metadata": {},
   "source": [
    "using properties of Guassian distributions ^[https://cs.nyu.edu/~roweis/notes/gaussid.pdf eq. 4a]\n",
    "\n",
    "$$p(x_{norm}) = \\mathcal{N}(\\mu_{norm}, \\sigma^2_{norm})$$\n",
    "\n",
    "$$p(x) = \\mathcal{N}(\\sigma_x\\mu_{norm} + \\mu_x, \\sigma^2_x \\sigma^2_{norm})$$"
   ]
  },
  {
   "cell_type": "code",
   "execution_count": null,
   "id": "7fbcb964-0175-45cc-ac16-71001192ec15",
   "metadata": {},
   "outputs": [],
   "source": [
    "#| export\n",
    "class Normalizer:\n",
    "    def __init__(self,\n",
    "                 x: Tensor # up to 2D Tensor\n",
    "                ):\n",
    "        \"\"\"Init normalizer by storing mean and std dev\"\"\"\n",
    "        self.x_mean = x.mean(axis=0)\n",
    "        self.x_std = x.std(axis=0)\n",
    "        \n",
    "    def normalize(self,\n",
    "        x: Tensor # up to 2D tensor \n",
    "                 ) -> Tensor: # x_normalized\n",
    "        \"Normalize (substract mean and divide by standard deviation) input tensor\"\n",
    "        x_mean = x.mean(axis=0)\n",
    "        x_std = x.std(axis=0)\n",
    "\n",
    "        return ((x - self.x_mean) / self.x_std)\n",
    "\n",
    "    def reverse_normalize(self,\n",
    "        x_norm, # Normalized array\n",
    "                          ) -> Tensor:       # Array after reversing normalization\n",
    "        return x_norm * self.x_std + self.x_mean\n",
    "\n",
    "    def reverse_normalize_std(self,\n",
    "        x_std_norm, # Normalized array of standard deviations\n",
    "                          ) -> Tensor:       # Array after reversing normalization\n",
    "        return x_std_norm * self.x_std"
   ]
  },
  {
   "cell_type": "code",
   "execution_count": null,
   "id": "564fa466-c269-4e8f-a4ad-8975e1269a46",
   "metadata": {},
   "outputs": [],
   "source": [
    "x = torch.randn(20).reshape(-1,2)\n",
    "norm = Normalizer(x)\n",
    "test_close(x, norm.reverse_normalize(norm.normalize(x)))\n",
    "test_close(x.std(axis=0), norm.reverse_normalize_std(norm.normalize(x).std(axis=0)))"
   ]
  },
  {
   "cell_type": "markdown",
   "id": "9e042f70-07ed-474c-9d13-1fc6504c495b",
   "metadata": {},
   "source": [
    "## Log transform"
   ]
  },
  {
   "cell_type": "code",
   "execution_count": null,
   "id": "f2ed876b-6182-4698-af00-53aad77323bc",
   "metadata": {},
   "outputs": [
    {
     "ename": "NameError",
     "evalue": "name 'patch' is not defined",
     "output_type": "error",
     "traceback": [
      "\u001b[0;31m---------------------------------------------------------------------------\u001b[0m",
      "\u001b[0;31mNameError\u001b[0m                                 Traceback (most recent call last)",
      "Input \u001b[0;32mIn [1]\u001b[0m, in \u001b[0;36m<cell line: 2>\u001b[0;34m()\u001b[0m\n\u001b[1;32m      1\u001b[0m \u001b[38;5;66;03m#| export\u001b[39;00m\n\u001b[0;32m----> 2\u001b[0m \u001b[38;5;129m@patch\u001b[39m\n\u001b[1;32m      3\u001b[0m \u001b[38;5;28;01mdef\u001b[39;00m \u001b[38;5;21mlog_transform\u001b[39m(\u001b[38;5;28mself\u001b[39m: GPFADataTest,\n\u001b[1;32m      4\u001b[0m                   \u001b[38;5;28mvars\u001b[39m: \u001b[38;5;28mstr\u001b[39m \u001b[38;5;241m|\u001b[39m Collection[\u001b[38;5;28mstr\u001b[39m], \u001b[38;5;66;03m# list of variables names to log-transform\u001b[39;00m\n\u001b[1;32m      5\u001b[0m                  )\u001b[38;5;241m-\u001b[39m\u001b[38;5;241m>\u001b[39m GPFADataTest:\n\u001b[1;32m      6\u001b[0m     \u001b[38;5;124m\"\u001b[39m\u001b[38;5;124mTranform the given var with log(x+1)\u001b[39m\u001b[38;5;124m\"\u001b[39m\n\u001b[1;32m      7\u001b[0m     \u001b[38;5;28;01mfor\u001b[39;00m var \u001b[38;5;129;01min\u001b[39;00m listify(\u001b[38;5;28mvars\u001b[39m):\n",
      "\u001b[0;31mNameError\u001b[0m: name 'patch' is not defined"
     ]
    }
   ],
   "source": [
    "#| export\n",
    "@patch\n",
    "def log_transform(self: GPFADataTest,\n",
    "                  vars: str | Collection[str], # list of variables names to log-transform\n",
    "                 )-> GPFADataTest:\n",
    "    \"Tranform the given var with log(x+1)\"\n",
    "    for var in listify(vars):\n",
    "        self.data[\"log_\" + var] = np.log(self.data[var] + 1)\n",
    "        self.data_complete[\"log_\" + var] = np.log(self.data_complete[var] + 1)\n",
    "    self.data = self.data.drop(columns=vars)\n",
    "    self.data_complete = self.data_complete.drop(columns=vars)\n",
    "    return self"
   ]
  },
  {
   "cell_type": "code",
   "execution_count": null,
   "id": "a9cc4eb0-fb09-4150-9f77-1a5445bc9dff",
   "metadata": {},
   "outputs": [
    {
     "data": {
      "text/html": [
       "<div>\n",
       "<style scoped>\n",
       "    .dataframe tbody tr th:only-of-type {\n",
       "        vertical-align: middle;\n",
       "    }\n",
       "\n",
       "    .dataframe tbody tr th {\n",
       "        vertical-align: top;\n",
       "    }\n",
       "\n",
       "    .dataframe thead th {\n",
       "        text-align: right;\n",
       "    }\n",
       "</style>\n",
       "<table border=\"1\" class=\"dataframe\">\n",
       "  <thead>\n",
       "    <tr style=\"text-align: right;\">\n",
       "      <th></th>\n",
       "      <th>x0</th>\n",
       "      <th>x2</th>\n",
       "      <th>log_x1</th>\n",
       "    </tr>\n",
       "  </thead>\n",
       "  <tbody>\n",
       "    <tr>\n",
       "      <th>0</th>\n",
       "      <td>-0.037518</td>\n",
       "      <td>-0.187460</td>\n",
       "      <td>0.284498</td>\n",
       "    </tr>\n",
       "    <tr>\n",
       "      <th>1</th>\n",
       "      <td>0.103395</td>\n",
       "      <td>0.440612</td>\n",
       "      <td>0.223854</td>\n",
       "    </tr>\n",
       "    <tr>\n",
       "      <th>2</th>\n",
       "      <td>-0.655654</td>\n",
       "      <td>-0.328445</td>\n",
       "      <td>-0.278969</td>\n",
       "    </tr>\n",
       "    <tr>\n",
       "      <th>3</th>\n",
       "      <td>0.422344</td>\n",
       "      <td>0.429424</td>\n",
       "      <td>0.268449</td>\n",
       "    </tr>\n",
       "  </tbody>\n",
       "</table>\n",
       "</div>"
      ],
      "text/plain": [
       "         x0        x2    log_x1\n",
       "0 -0.037518 -0.187460  0.284498\n",
       "1  0.103395  0.440612  0.223854\n",
       "2 -0.655654 -0.328445 -0.278969\n",
       "3  0.422344  0.429424  0.268449"
      ]
     },
     "execution_count": null,
     "metadata": {},
     "output_type": "execute_result"
    }
   ],
   "source": [
    "GPFADataTest.generate(3, 4).log_transform(['x1']).data"
   ]
  },
  {
   "cell_type": "code",
   "execution_count": null,
   "id": "0e04497f-224d-4f49-9d90-f1851221d903",
   "metadata": {},
   "outputs": [],
   "source": [
    "orig_data = GPFADataTest.generate(1, 200)\n",
    "\n",
    "orig_data.data = np.abs(orig_data.data)\n",
    "\n",
    "data = orig_data.log_transform(['x0'])"
   ]
  },
  {
   "cell_type": "code",
   "execution_count": null,
   "id": "54791a14-efbd-42b1-8907-87bcc4209932",
   "metadata": {},
   "outputs": [
    {
     "data": {
      "text/plain": [
       "array([[<AxesSubplot: title={'center': 'log_x0'}>]], dtype=object)"
      ]
     },
     "execution_count": null,
     "metadata": {},
     "output_type": "execute_result"
    },
    {
     "data": {
      "image/png": "[encoded data removed]",
      "text/plain": [
       "<Figure size 432x288 with 1 Axes>"
      ]
     },
     "metadata": {
      "needs_background": "light"
     },
     "output_type": "display_data"
    }
   ],
   "source": [
    "data.data.hist()"
   ]
  },
  {
   "cell_type": "code",
   "execution_count": null,
   "id": "b65b9dd1-a3ac-478a-b1e3-91fa10cd0c42",
   "metadata": {},
   "outputs": [
    {
     "data": {
      "text/plain": [
       "array([[<AxesSubplot: title={'center': 'log_x0'}>]], dtype=object)"
      ]
     },
     "execution_count": null,
     "metadata": {},
     "output_type": "execute_result"
    },
    {
     "data": {
      "image/png": "[encoded data removed]",
      "text/plain": [
       "<Figure size 432x288 with 1 Axes>"
      ]
     },
     "metadata": {
      "needs_background": "light"
     },
     "output_type": "display_data"
    }
   ],
   "source": [
    "Normalizer(data.data).normalize(data.data).hist()"
   ]
  },
  {
   "cell_type": "markdown",
   "id": "bd22f8bc-8f6f-4fed-8166-295bcc4b356b",
   "metadata": {},
   "source": [
    "## Export"
   ]
  },
  {
   "cell_type": "code",
   "execution_count": null,
   "id": "58580804-365d-447a-9a5e-3463f4846b74",
   "metadata": {},
   "outputs": [],
   "source": [
    "#| hide\n",
    "from nbdev import nbdev_export\n",
    "nbdev_export()"
   ]
  }
 ],
 "metadata": {
  "kernelspec": {
   "display_name": "data_science",
   "language": "python",
   "name": "data_science"
  },
  "widgets": {
   "application/vnd.jupyter.widget-state+json": {
    "state": {},
    "version_major": 2,
    "version_minor": 0
   }
  }
 },
 "nbformat": 4,
 "nbformat_minor": 5
}
