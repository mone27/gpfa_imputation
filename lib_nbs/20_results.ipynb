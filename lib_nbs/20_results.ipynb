{
 "cells": [
  {
   "cell_type": "markdown",
   "id": "7282ac57-cfb8-4bfa-b570-3c7939355edf",
   "metadata": {},
   "source": [
    "# Results\n",
    "> functions for plotting results and comparing Kalman Filter with MDS and ERA"
   ]
  },
  {
   "cell_type": "code",
   "execution_count": null,
   "id": "524ee392-eedb-491e-a983-e4c3bc78b6fb",
   "metadata": {},
   "outputs": [],
   "source": [
    "#| hide\n",
    "#| default_exp kalman.results"
   ]
  },
  {
   "cell_type": "markdown",
   "id": "f275c380-f18c-4934-b103-4166457e68a6",
   "metadata": {},
   "source": [
    "## Setup"
   ]
  },
  {
   "cell_type": "code",
   "execution_count": null,
   "id": "0af65d6f-ec5a-4365-9145-52c42221f4fa",
   "metadata": {},
   "outputs": [],
   "source": [
    "%load_ext autoreload\n",
    "%autoreload 2"
   ]
  },
  {
   "cell_type": "code",
   "execution_count": null,
   "id": "068708d3-b9d4-41d6-ad07-31d175379c63",
   "metadata": {},
   "outputs": [],
   "source": [
    "import altair as alt"
   ]
  },
  {
   "cell_type": "code",
   "execution_count": null,
   "id": "944f5ec0-bea6-415b-b896-50a2c8992d7a",
   "metadata": {},
   "outputs": [],
   "source": [
    "import altair"
   ]
  },
  {
   "cell_type": "code",
   "execution_count": null,
   "id": "8223d7fb-4f51-4170-a7bf-9bdac1bba2c2",
   "metadata": {},
   "outputs": [],
   "source": [
    "#| export\n",
    "from fastcore.test import *\n",
    "from fastcore.basics import *\n",
    "from meteo_imp.utils import *\n",
    "from meteo_imp.gaussian import *\n",
    "from meteo_imp.kalman.filter import *\n",
    "from meteo_imp.kalman.filter import get_test_data\n",
    "from meteo_imp.data import *\n",
    "from meteo_imp.kalman.training import *\n",
    "from meteo_imp.kalman.training import _n_tuple\n",
    "from fastcore.transform import *\n",
    "from fastai.learner import *\n",
    "from pyprojroot import here\n",
    "\n",
    "import pykalman\n",
    "from typing import *\n",
    "\n",
    "import numpy as np\n",
    "import pandas as pd\n",
    "from pandas.api.types import CategoricalDtype\n",
    "import torch\n",
    "from torch import Tensor\n",
    "from torch.distributions import MultivariateNormal\n",
    "\n",
    "from timeit import timeit\n",
    "import polars as pl\n",
    "import altair as alt\n",
    "\n",
    "from tqdm.auto import tqdm\n",
    "\n",
    "import io\n",
    "from contextlib import redirect_stderr\n",
    "import random\n",
    "from math import floor\n",
    "\n",
    "from dataclasses import dataclass\n",
    "from functools import partial\n",
    "from itertools import zip_longest"
   ]
  },
  {
   "cell_type": "markdown",
   "id": "2747b923-e9c8-470d-b5e1-67e618855a4d",
   "metadata": {},
   "source": [
    "load data to test functions"
   ]
  },
  {
   "cell_type": "code",
   "execution_count": null,
   "id": "a3ae4d31-d44b-4ffd-8781-98fabe1ca7c6",
   "metadata": {},
   "outputs": [],
   "source": [
    "reset_seed()"
   ]
  },
  {
   "cell_type": "code",
   "execution_count": null,
   "id": "bb5bd0dc-fcc8-4758-8503-44c6a89af6bf",
   "metadata": {},
   "outputs": [],
   "source": [
    "hai = pd.read_parquet(hai_big_path)\n",
    "hai_era = pd.read_parquet(hai_era_big_path)"
   ]
  },
  {
   "cell_type": "code",
   "execution_count": null,
   "id": "620424c0-b449-44c0-a137-d495e7d35423",
   "metadata": {},
   "outputs": [],
   "source": [
    "dls = imp_dataloader(hai, hai_era, var_sel = 'TA', gap_len=5, block_len=100, control_lags = [1], n_rep=1, bs=1).cpu()"
   ]
  },
  {
   "cell_type": "code",
   "execution_count": null,
   "id": "130633f8-2f43-4b1a-bb12-6d768d384c7d",
   "metadata": {},
   "outputs": [],
   "source": [
    "item = MeteoImpItem(1,2, 'TA', gap_len=10)\n",
    "items = [item]"
   ]
  },
  {
   "cell_type": "code",
   "execution_count": null,
   "id": "24aeb4ac-4369-4536-bcf7-4b957c845128",
   "metadata": {},
   "outputs": [],
   "source": [
    "targ = orig_target(dls, items)[0]"
   ]
  },
  {
   "cell_type": "code",
   "execution_count": null,
   "id": "19a4caf9-96a2-45cd-8db5-99dd7c89c4c9",
   "metadata": {},
   "outputs": [],
   "source": [
    "input, _ = one_batch_with_items(dls, items)"
   ]
  },
  {
   "cell_type": "markdown",
   "id": "e384bd59-b0ab-4242-85df-38aacf147ada",
   "metadata": {},
   "source": [
    "## Imputation Methods"
   ]
  },
  {
   "cell_type": "markdown",
   "id": "c5750314-e727-43d6-bf1c-e53930550246",
   "metadata": {},
   "source": [
    "### Kalman Filter\n",
    "\n",
    "take a `MeteoImp Df` and gap fill it using the given model"
   ]
  },
  {
   "cell_type": "code",
   "execution_count": null,
   "id": "a75a4363-67cc-4e07-afaf-c2e53afa090f",
   "metadata": {},
   "outputs": [],
   "source": [
    "model = torch.load(here(\"analysis/results/trained_models/1_gap_varying_6-336_v1.pickle\"))"
   ]
  },
  {
   "cell_type": "code",
   "execution_count": null,
   "id": "62e0e07e-9b9e-4808-bebc-182f2e971897",
   "metadata": {},
   "outputs": [],
   "source": [
    "preds, targs = predict_items(model, dls=dls, items = items)\n",
    "preds[0].mean[targs[0].mask] = targs[0].data[targs[0].mask]"
   ]
  },
  {
   "cell_type": "markdown",
   "id": "39477d7b-a0ba-44b9-82d2-66f0a7022609",
   "metadata": {},
   "source": [
    "#### KalmanImputation"
   ]
  },
  {
   "cell_type": "code",
   "execution_count": null,
   "id": "14acb19f-5c4b-456c-87ca-47056713acef",
   "metadata": {},
   "outputs": [
    {
     "data": {
      "text/plain": [
       "torch.Size([1, 100, 9])"
      ]
     },
     "execution_count": null,
     "metadata": {},
     "output_type": "execute_result"
    }
   ],
   "source": [
    "input[1].shape"
   ]
  },
  {
   "cell_type": "code",
   "execution_count": null,
   "id": "c7c1c382-8b7d-4e55-be61-8b532d8b1a49",
   "metadata": {},
   "outputs": [],
   "source": [
    "preds_raw = model(input)"
   ]
  },
  {
   "cell_type": "code",
   "execution_count": null,
   "id": "289fbd87-a633-4838-80a0-1e7061ada19c",
   "metadata": {},
   "outputs": [
    {
     "data": {
      "text/plain": [
       "10"
      ]
     },
     "execution_count": null,
     "metadata": {},
     "output_type": "execute_result"
    }
   ],
   "source": [
    "len(preds_raw.mean[0])"
   ]
  },
  {
   "cell_type": "code",
   "execution_count": null,
   "id": "cd58fc7b-14a8-4241-b711-b703ddc56053",
   "metadata": {},
   "outputs": [],
   "source": [
    "#| export\n",
    "def _extract_var(preds, var_idx, max_len):\n",
    "    \"extract prediction only from one var\"\n",
    "    preds_new = []\n",
    "    for b_pred in preds:\n",
    "        b_pred_new = []\n",
    "        for pred in b_pred:\n",
    "            if len(pred) == 1: pred_new = pred\n",
    "            elif len(pred) == max_len: pred_new = pred[var_idx:var_idx+1] if pred.dim() == 1 else pred[var_idx:var_idx+1, var_idx:var_idx+1]\n",
    "            else: raise ValueError(\"supports only gaps for 1 or all variables\")\n",
    "            b_pred_new.append(pred_new)\n",
    "        preds_new.append(b_pred_new)\n",
    "    return preds_new\n",
    "         "
   ]
  },
  {
   "cell_type": "code",
   "execution_count": null,
   "id": "dfc8b120-3784-4d8c-b40b-09f80c998b0f",
   "metadata": {},
   "outputs": [
    {
     "data": {
      "text/plain": [
       "[[tensor([-0.7555], dtype=torch.float64, grad_fn=<IndexBackward0>),\n",
       "  tensor([-0.7765], dtype=torch.float64, grad_fn=<IndexBackward0>),\n",
       "  tensor([-0.8153], dtype=torch.float64, grad_fn=<IndexBackward0>),\n",
       "  tensor([-0.8653], dtype=torch.float64, grad_fn=<IndexBackward0>),\n",
       "  tensor([-0.8660], dtype=torch.float64, grad_fn=<IndexBackward0>),\n",
       "  tensor([-0.8712], dtype=torch.float64, grad_fn=<IndexBackward0>),\n",
       "  tensor([-0.8551], dtype=torch.float64, grad_fn=<IndexBackward0>),\n",
       "  tensor([-0.8420], dtype=torch.float64, grad_fn=<IndexBackward0>),\n",
       "  tensor([-0.8442], dtype=torch.float64, grad_fn=<IndexBackward0>),\n",
       "  tensor([-0.8536], dtype=torch.float64, grad_fn=<IndexBackward0>)]]"
      ]
     },
     "execution_count": null,
     "metadata": {},
     "output_type": "execute_result"
    }
   ],
   "source": [
    "_extract_var(preds_raw.mean, 1, 7)"
   ]
  },
  {
   "cell_type": "code",
   "execution_count": null,
   "id": "c27bc192-1b5a-4296-8056-ecae7867cad8",
   "metadata": {},
   "outputs": [
    {
     "data": {
      "text/plain": [
       "[[tensor([[0.0227]], dtype=torch.float64, grad_fn=<IndexBackward0>),\n",
       "  tensor([[0.0307]], dtype=torch.float64, grad_fn=<IndexBackward0>),\n",
       "  tensor([[0.0359]], dtype=torch.float64, grad_fn=<IndexBackward0>),\n",
       "  tensor([[0.0392]], dtype=torch.float64, grad_fn=<IndexBackward0>),\n",
       "  tensor([[0.0409]], dtype=torch.float64, grad_fn=<IndexBackward0>),\n",
       "  tensor([[0.0409]], dtype=torch.float64, grad_fn=<IndexBackward0>),\n",
       "  tensor([[0.0393]], dtype=torch.float64, grad_fn=<IndexBackward0>),\n",
       "  tensor([[0.0361]], dtype=torch.float64, grad_fn=<IndexBackward0>),\n",
       "  tensor([[0.0310]], dtype=torch.float64, grad_fn=<IndexBackward0>),\n",
       "  tensor([[0.0230]], dtype=torch.float64, grad_fn=<IndexBackward0>)]]"
      ]
     },
     "execution_count": null,
     "metadata": {},
     "output_type": "execute_result"
    }
   ],
   "source": [
    "_extract_var(preds_raw.cov, 1, 7)"
   ]
  },
  {
   "cell_type": "code",
   "execution_count": null,
   "id": "3333b9fd-490f-40ce-99d0-33228b2603bb",
   "metadata": {},
   "outputs": [],
   "source": [
    "items_all = [MeteoImpItem(1,2, list(hai.columns), gap_len=3)] * 3"
   ]
  },
  {
   "cell_type": "code",
   "execution_count": null,
   "id": "199ced43-4ebf-43b9-bd38-3e93349e0826",
   "metadata": {},
   "outputs": [],
   "source": [
    "input_all, _ = one_batch_with_items(dls, items_all)"
   ]
  },
  {
   "cell_type": "code",
   "execution_count": null,
   "id": "b19b6a6a-dbba-46ea-8a89-1ef5f936b00a",
   "metadata": {},
   "outputs": [],
   "source": [
    "preds_raw_all = model(input_all)"
   ]
  },
  {
   "cell_type": "code",
   "execution_count": null,
   "id": "0b06b23d-124c-40d0-a1fc-05e9923cf92e",
   "metadata": {},
   "outputs": [
    {
     "data": {
      "text/plain": [
       "[[tensor([-0.5650], dtype=torch.float64, grad_fn=<SliceBackward0>),\n",
       "  tensor([-0.5887], dtype=torch.float64, grad_fn=<SliceBackward0>),\n",
       "  tensor([-0.6259], dtype=torch.float64, grad_fn=<SliceBackward0>)],\n",
       " [tensor([-0.5650], dtype=torch.float64, grad_fn=<SliceBackward0>),\n",
       "  tensor([-0.5887], dtype=torch.float64, grad_fn=<SliceBackward0>),\n",
       "  tensor([-0.6259], dtype=torch.float64, grad_fn=<SliceBackward0>)],\n",
       " [tensor([-0.5650], dtype=torch.float64, grad_fn=<SliceBackward0>),\n",
       "  tensor([-0.5887], dtype=torch.float64, grad_fn=<SliceBackward0>),\n",
       "  tensor([-0.6259], dtype=torch.float64, grad_fn=<SliceBackward0>)]]"
      ]
     },
     "execution_count": null,
     "metadata": {},
     "output_type": "execute_result"
    }
   ],
   "source": [
    "_extract_var(preds_raw_all.mean, 3, 9)"
   ]
  },
  {
   "cell_type": "code",
   "execution_count": null,
   "id": "2ece5d37-4c76-4b59-84c3-bc2495d36eb7",
   "metadata": {},
   "outputs": [
    {
     "data": {
      "text/plain": [
       "torch.Size([3, 100, 9])"
      ]
     },
     "execution_count": null,
     "metadata": {},
     "output_type": "execute_result"
    }
   ],
   "source": [
    "buffer_pred(preds_raw_all.mean, input_all[1]).shape"
   ]
  },
  {
   "cell_type": "code",
   "execution_count": null,
   "id": "6e50161d-29ec-46bb-9204-22347fde6afe",
   "metadata": {},
   "outputs": [
    {
     "data": {
      "text/plain": [
       "[[tensor([[0.1189]], dtype=torch.float64, grad_fn=<SliceBackward0>),\n",
       "  tensor([[0.1717]], dtype=torch.float64, grad_fn=<SliceBackward0>),\n",
       "  tensor([[0.1251]], dtype=torch.float64, grad_fn=<SliceBackward0>)],\n",
       " [tensor([[0.1189]], dtype=torch.float64, grad_fn=<SliceBackward0>),\n",
       "  tensor([[0.1717]], dtype=torch.float64, grad_fn=<SliceBackward0>),\n",
       "  tensor([[0.1251]], dtype=torch.float64, grad_fn=<SliceBackward0>)],\n",
       " [tensor([[0.1189]], dtype=torch.float64, grad_fn=<SliceBackward0>),\n",
       "  tensor([[0.1717]], dtype=torch.float64, grad_fn=<SliceBackward0>),\n",
       "  tensor([[0.1251]], dtype=torch.float64, grad_fn=<SliceBackward0>)]]"
      ]
     },
     "execution_count": null,
     "metadata": {},
     "output_type": "execute_result"
    }
   ],
   "source": [
    "_extract_var(preds_raw_all.cov, 3, 9)"
   ]
  },
  {
   "cell_type": "code",
   "execution_count": null,
   "id": "4ff0b51c-7ff4-43f1-ab51-0a708e45be1e",
   "metadata": {},
   "outputs": [],
   "source": [
    "#| export\n",
    "class PredictLossVar:\n",
    "    \"\"\"loss (negative log likelihood) for only for one variable for each batch\"\"\"\n",
    "    def __init__(self, only_gap:bool, var: int):\n",
    "        self.loss_func = KalmanLoss(only_gap)\n",
    "        self.var = var\n",
    "    def __call__(self, preds, targs):\n",
    "        sel_idx = [idx for idx in range(targs[1].shape[-1]) if idx != self.var]\n",
    "        mask_new = targs[1].clone()\n",
    "        mask_new[:, :, sel_idx] = True # make all other variables present\n",
    "        targs_new = (targs[0], mask_new, targs[2])\n",
    "        preds_new = (_extract_var(preds.mean, self.var, targs[1].shape[-1]), _extract_var(preds.cov, self.var, targs[1].shape[-1])) \n",
    "        # return preds_new\n",
    "        # return self.loss_func(preds_new, targs_new)\n",
    "        losses = []\n",
    "        for i in range(len(preds_new[0])):\n",
    "            losses.append(self.loss_func(_n_tuple(preds_new, i), _n_tuple(targs_new, i)))\n",
    "        return losses"
   ]
  },
  {
   "cell_type": "code",
   "execution_count": null,
   "id": "c125befb-d2d1-40fb-a1bc-f661fd7c40e8",
   "metadata": {},
   "outputs": [
    {
     "data": {
      "text/plain": [
       "[tensor(-0.2252, dtype=torch.float64, grad_fn=<MeanBackward0>),\n",
       " tensor(-0.2252, dtype=torch.float64, grad_fn=<MeanBackward0>),\n",
       " tensor(-0.2252, dtype=torch.float64, grad_fn=<MeanBackward0>)]"
      ]
     },
     "execution_count": null,
     "metadata": {},
     "output_type": "execute_result"
    }
   ],
   "source": [
    "PredictLossVar(True, 3)(preds_raw_all, input_all)"
   ]
  },
  {
   "cell_type": "code",
   "execution_count": null,
   "id": "f1a3520e-00f8-432e-aa00-2015e7da4090",
   "metadata": {},
   "outputs": [
    {
     "data": {
      "text/plain": [
       "torch.Size([3, 100, 9])"
      ]
     },
     "execution_count": null,
     "metadata": {},
     "output_type": "execute_result"
    }
   ],
   "source": [
    "input_all[1].shape"
   ]
  },
  {
   "cell_type": "code",
   "execution_count": null,
   "id": "630cf2c5-ce67-494b-b0e1-7b789421322c",
   "metadata": {},
   "outputs": [],
   "source": [
    "#| export\n",
    "class PredictLikelihoodVar:\n",
    "    \"\"\"mean between timesteps of Likelihood for only for one variable for each batch\"\"\"\n",
    "    def __init__(self, only_gap:bool, var: int):\n",
    "        self.loss_func = KalmanLoss(only_gap, reduction_inbatch='none', reduction = 'none')\n",
    "        self.var = var\n",
    "    def __call__(self, preds, targs):\n",
    "        sel_idx = [idx for idx in range(targs[1].shape[-1]) if idx != self.var]\n",
    "        mask_new = targs[1].clone()\n",
    "        mask_new[:, :, sel_idx] = True # make all other variables present\n",
    "        targs_new = (targs[0], mask_new, targs[2])\n",
    "        preds_new = (_extract_var(preds.mean, self.var, targs[1].shape[-1]), _extract_var(preds.cov, self.var, targs[1].shape[-1])) \n",
    "        # return preds_new\n",
    "        # return self.loss_func(preds_new, targs_new)\n",
    "        likelihoods = []\n",
    "        for i in range(len(preds_new[0])):\n",
    "            loss = self.loss_func(_n_tuple(preds_new, i), _n_tuple(targs_new, i))[0]\n",
    "            lh = (torch.exp(-loss[0])).mean()\n",
    "            likelihoods.append(lh)\n",
    "        return likelihoods"
   ]
  },
  {
   "cell_type": "code",
   "execution_count": null,
   "id": "d2ae5947-be32-4312-8601-808575ce72a9",
   "metadata": {},
   "outputs": [
    {
     "data": {
      "text/plain": [
       "[tensor(1.1569, dtype=torch.float64, grad_fn=<MeanBackward0>),\n",
       " tensor(1.1569, dtype=torch.float64, grad_fn=<MeanBackward0>),\n",
       " tensor(1.1569, dtype=torch.float64, grad_fn=<MeanBackward0>)]"
      ]
     },
     "execution_count": null,
     "metadata": {},
     "output_type": "execute_result"
    }
   ],
   "source": [
    "PredictLikelihoodVar(True, 3)(preds_raw_all, input_all)"
   ]
  },
  {
   "cell_type": "code",
   "execution_count": null,
   "id": "0b443cb4-a2e6-4c7d-9dc2-79f8cb554d36",
   "metadata": {},
   "outputs": [],
   "source": [
    "#| export\n",
    "class MultiMetrics():\n",
    "    def __init__(self, **metrics): self.metrics = metrics\n",
    "    def __call__(self, preds, targs): return {name: metric(preds, targs) for name, metric in self.metrics.items()}"
   ]
  },
  {
   "cell_type": "code",
   "execution_count": null,
   "id": "ec22b1cf-d9a4-4da6-9d2e-af44860cc269",
   "metadata": {},
   "outputs": [],
   "source": [
    "#| export\n",
    "class KalmanImputation:\n",
    "    name = \"Kalman Filter\"\n",
    "    def __init__(self, model): store_attr()\n",
    "    def __call__(self, item, dls):\n",
    "        pred, targ = predict_items(self.model, dls=dls, items = [item])\n",
    "        pred[0].mean[targ[0].mask] = targ[0].data[targ[0].mask]\n",
    "        return pred[0].mean\n",
    "    def preds_all(self, items, dls):\n",
    "        return predict_items(self.model, dls=dls, items = items)\n",
    "    def preds_all_loss(self, items, dls, var):\n",
    "        return predict_items(self.model, dls=dls, items = items, metric_fn = PredictLossVar(only_gap=self.model.pred_only_gap, var = var))\n",
    "    def preds_all_metrics(self, items, dls, metrics):\n",
    "        return predict_items(self.model, dls=dls, items = items, metric_fn = metrics)"
   ]
  },
  {
   "cell_type": "code",
   "execution_count": null,
   "id": "ddc9d6dc-6daf-4190-a500-5724765f2ef6",
   "metadata": {},
   "outputs": [],
   "source": [
    "k_imp = KalmanImputation(model)"
   ]
  },
  {
   "cell_type": "code",
   "execution_count": null,
   "id": "ce04cc7d-73c8-44b6-8863-0b70dba7832e",
   "metadata": {},
   "outputs": [],
   "source": [
    "pred = k_imp(item, dls=dls)"
   ]
  },
  {
   "cell_type": "code",
   "execution_count": null,
   "id": "4c4559d1-0a8b-4e19-becb-33b8a7b0a1b8",
   "metadata": {},
   "outputs": [
    {
     "data": {
      "text/html": [
       "<p style='font-size: 1.5rem; font-decoration: bold'><p><div style=\"display: flex; column-gap: 20px; flex-wrap: wrap;\" class='table table-striped table-sm'> <div> <p style='font-size: 1.3rem;'>pred</p> <style type=\"text/css\">\n",
       "</style>\n",
       "<table id=\"T_08eed\">\n",
       "  <thead>\n",
       "    <tr>\n",
       "      <th class=\"blank level0\" >&nbsp;</th>\n",
       "      <th id=\"T_08eed_level0_col0\" class=\"col_heading level0 col0\" >TA</th>\n",
       "      <th id=\"T_08eed_level0_col1\" class=\"col_heading level0 col1\" >SW_IN</th>\n",
       "      <th id=\"T_08eed_level0_col2\" class=\"col_heading level0 col2\" >LW_IN</th>\n",
       "      <th id=\"T_08eed_level0_col3\" class=\"col_heading level0 col3\" >VPD</th>\n",
       "      <th id=\"T_08eed_level0_col4\" class=\"col_heading level0 col4\" >WS</th>\n",
       "      <th id=\"T_08eed_level0_col5\" class=\"col_heading level0 col5\" >PA</th>\n",
       "      <th id=\"T_08eed_level0_col6\" class=\"col_heading level0 col6\" >P</th>\n",
       "      <th id=\"T_08eed_level0_col7\" class=\"col_heading level0 col7\" >SWC</th>\n",
       "      <th id=\"T_08eed_level0_col8\" class=\"col_heading level0 col8\" >TS</th>\n",
       "    </tr>\n",
       "    <tr>\n",
       "      <th class=\"index_name level0\" >time</th>\n",
       "      <th class=\"blank col0\" >&nbsp;</th>\n",
       "      <th class=\"blank col1\" >&nbsp;</th>\n",
       "      <th class=\"blank col2\" >&nbsp;</th>\n",
       "      <th class=\"blank col3\" >&nbsp;</th>\n",
       "      <th class=\"blank col4\" >&nbsp;</th>\n",
       "      <th class=\"blank col5\" >&nbsp;</th>\n",
       "      <th class=\"blank col6\" >&nbsp;</th>\n",
       "      <th class=\"blank col7\" >&nbsp;</th>\n",
       "      <th class=\"blank col8\" >&nbsp;</th>\n",
       "    </tr>\n",
       "  </thead>\n",
       "  <tbody>\n",
       "    <tr>\n",
       "      <th id=\"T_08eed_level0_row0\" class=\"row_heading level0 row0\" >2000-01-04 02:30:00</th>\n",
       "      <td id=\"T_08eed_row0_col0\" class=\"data row0 col0\" >2.3467</td>\n",
       "      <td id=\"T_08eed_row0_col1\" class=\"data row0 col1\" >0.0000</td>\n",
       "      <td id=\"T_08eed_row0_col2\" class=\"data row0 col2\" >304.7310</td>\n",
       "      <td id=\"T_08eed_row0_col3\" class=\"data row0 col3\" >0.9520</td>\n",
       "      <td id=\"T_08eed_row0_col4\" class=\"data row0 col4\" >5.3900</td>\n",
       "      <td id=\"T_08eed_row0_col5\" class=\"data row0 col5\" >96.3000</td>\n",
       "      <td id=\"T_08eed_row0_col6\" class=\"data row0 col6\" >0.0000</td>\n",
       "      <td id=\"T_08eed_row0_col7\" class=\"data row0 col7\" >43.0800</td>\n",
       "      <td id=\"T_08eed_row0_col8\" class=\"data row0 col8\" >1.3100</td>\n",
       "    </tr>\n",
       "    <tr>\n",
       "      <th id=\"T_08eed_level0_row1\" class=\"row_heading level0 row1\" >2000-01-04 03:00:00</th>\n",
       "      <td id=\"T_08eed_row1_col0\" class=\"data row1 col0\" >2.1803</td>\n",
       "      <td id=\"T_08eed_row1_col1\" class=\"data row1 col1\" >0.0000</td>\n",
       "      <td id=\"T_08eed_row1_col2\" class=\"data row1 col2\" >304.7310</td>\n",
       "      <td id=\"T_08eed_row1_col3\" class=\"data row1 col3\" >0.9710</td>\n",
       "      <td id=\"T_08eed_row1_col4\" class=\"data row1 col4\" >5.5900</td>\n",
       "      <td id=\"T_08eed_row1_col5\" class=\"data row1 col5\" >96.3000</td>\n",
       "      <td id=\"T_08eed_row1_col6\" class=\"data row1 col6\" >0.0000</td>\n",
       "      <td id=\"T_08eed_row1_col7\" class=\"data row1 col7\" >43.0800</td>\n",
       "      <td id=\"T_08eed_row1_col8\" class=\"data row1 col8\" >1.3100</td>\n",
       "    </tr>\n",
       "    <tr>\n",
       "      <th id=\"T_08eed_level0_row2\" class=\"row_heading level0 row2\" >2000-01-04 03:30:00</th>\n",
       "      <td id=\"T_08eed_row2_col0\" class=\"data row2 col0\" >1.8728</td>\n",
       "      <td id=\"T_08eed_row2_col1\" class=\"data row2 col1\" >0.0000</td>\n",
       "      <td id=\"T_08eed_row2_col2\" class=\"data row2 col2\" >304.7310</td>\n",
       "      <td id=\"T_08eed_row2_col3\" class=\"data row2 col3\" >0.9580</td>\n",
       "      <td id=\"T_08eed_row2_col4\" class=\"data row2 col4\" >5.6700</td>\n",
       "      <td id=\"T_08eed_row2_col5\" class=\"data row2 col5\" >96.2900</td>\n",
       "      <td id=\"T_08eed_row2_col6\" class=\"data row2 col6\" >0.0000</td>\n",
       "      <td id=\"T_08eed_row2_col7\" class=\"data row2 col7\" >43.0800</td>\n",
       "      <td id=\"T_08eed_row2_col8\" class=\"data row2 col8\" >1.3100</td>\n",
       "    </tr>\n",
       "    <tr>\n",
       "      <th id=\"T_08eed_level0_row3\" class=\"row_heading level0 row3\" >2000-01-04 04:00:00</th>\n",
       "      <td id=\"T_08eed_row3_col0\" class=\"data row3 col0\" >1.4769</td>\n",
       "      <td id=\"T_08eed_row3_col1\" class=\"data row3 col1\" >0.0000</td>\n",
       "      <td id=\"T_08eed_row3_col2\" class=\"data row3 col2\" >304.7310</td>\n",
       "      <td id=\"T_08eed_row3_col3\" class=\"data row3 col3\" >0.9380</td>\n",
       "      <td id=\"T_08eed_row3_col4\" class=\"data row3 col4\" >6.6100</td>\n",
       "      <td id=\"T_08eed_row3_col5\" class=\"data row3 col5\" >96.2600</td>\n",
       "      <td id=\"T_08eed_row3_col6\" class=\"data row3 col6\" >0.0000</td>\n",
       "      <td id=\"T_08eed_row3_col7\" class=\"data row3 col7\" >43.0800</td>\n",
       "      <td id=\"T_08eed_row3_col8\" class=\"data row3 col8\" >1.3100</td>\n",
       "    </tr>\n",
       "    <tr>\n",
       "      <th id=\"T_08eed_level0_row4\" class=\"row_heading level0 row4\" >2000-01-04 04:30:00</th>\n",
       "      <td id=\"T_08eed_row4_col0\" class=\"data row4 col0\" >1.4710</td>\n",
       "      <td id=\"T_08eed_row4_col1\" class=\"data row4 col1\" >0.0000</td>\n",
       "      <td id=\"T_08eed_row4_col2\" class=\"data row4 col2\" >315.0050</td>\n",
       "      <td id=\"T_08eed_row4_col3\" class=\"data row4 col3\" >0.7850</td>\n",
       "      <td id=\"T_08eed_row4_col4\" class=\"data row4 col4\" >6.6500</td>\n",
       "      <td id=\"T_08eed_row4_col5\" class=\"data row4 col5\" >96.2600</td>\n",
       "      <td id=\"T_08eed_row4_col6\" class=\"data row4 col6\" >0.0000</td>\n",
       "      <td id=\"T_08eed_row4_col7\" class=\"data row4 col7\" >43.0800</td>\n",
       "      <td id=\"T_08eed_row4_col8\" class=\"data row4 col8\" >1.3100</td>\n",
       "    </tr>\n",
       "    <tr>\n",
       "      <th id=\"T_08eed_level0_row5\" class=\"row_heading level0 row5\" >2000-01-04 05:00:00</th>\n",
       "      <td id=\"T_08eed_row5_col0\" class=\"data row5 col0\" >1.4303</td>\n",
       "      <td id=\"T_08eed_row5_col1\" class=\"data row5 col1\" >0.0000</td>\n",
       "      <td id=\"T_08eed_row5_col2\" class=\"data row5 col2\" >315.0050</td>\n",
       "      <td id=\"T_08eed_row5_col3\" class=\"data row5 col3\" >0.5290</td>\n",
       "      <td id=\"T_08eed_row5_col4\" class=\"data row5 col4\" >6.1200</td>\n",
       "      <td id=\"T_08eed_row5_col5\" class=\"data row5 col5\" >96.2700</td>\n",
       "      <td id=\"T_08eed_row5_col6\" class=\"data row5 col6\" >0.0000</td>\n",
       "      <td id=\"T_08eed_row5_col7\" class=\"data row5 col7\" >43.0800</td>\n",
       "      <td id=\"T_08eed_row5_col8\" class=\"data row5 col8\" >1.3000</td>\n",
       "    </tr>\n",
       "    <tr>\n",
       "      <th id=\"T_08eed_level0_row6\" class=\"row_heading level0 row6\" >2000-01-04 05:30:00</th>\n",
       "      <td id=\"T_08eed_row6_col0\" class=\"data row6 col0\" >1.5573</td>\n",
       "      <td id=\"T_08eed_row6_col1\" class=\"data row6 col1\" >0.0000</td>\n",
       "      <td id=\"T_08eed_row6_col2\" class=\"data row6 col2\" >315.0050</td>\n",
       "      <td id=\"T_08eed_row6_col3\" class=\"data row6 col3\" >0.4500</td>\n",
       "      <td id=\"T_08eed_row6_col4\" class=\"data row6 col4\" >5.5800</td>\n",
       "      <td id=\"T_08eed_row6_col5\" class=\"data row6 col5\" >96.2600</td>\n",
       "      <td id=\"T_08eed_row6_col6\" class=\"data row6 col6\" >0.2900</td>\n",
       "      <td id=\"T_08eed_row6_col7\" class=\"data row6 col7\" >43.1300</td>\n",
       "      <td id=\"T_08eed_row6_col8\" class=\"data row6 col8\" >1.3000</td>\n",
       "    </tr>\n",
       "    <tr>\n",
       "      <th id=\"T_08eed_level0_row7\" class=\"row_heading level0 row7\" >2000-01-04 06:00:00</th>\n",
       "      <td id=\"T_08eed_row7_col0\" class=\"data row7 col0\" >1.6616</td>\n",
       "      <td id=\"T_08eed_row7_col1\" class=\"data row7 col1\" >0.0000</td>\n",
       "      <td id=\"T_08eed_row7_col2\" class=\"data row7 col2\" >315.0050</td>\n",
       "      <td id=\"T_08eed_row7_col3\" class=\"data row7 col3\" >0.4990</td>\n",
       "      <td id=\"T_08eed_row7_col4\" class=\"data row7 col4\" >4.7000</td>\n",
       "      <td id=\"T_08eed_row7_col5\" class=\"data row7 col5\" >96.2500</td>\n",
       "      <td id=\"T_08eed_row7_col6\" class=\"data row7 col6\" >0.0000</td>\n",
       "      <td id=\"T_08eed_row7_col7\" class=\"data row7 col7\" >43.1300</td>\n",
       "      <td id=\"T_08eed_row7_col8\" class=\"data row7 col8\" >1.2900</td>\n",
       "    </tr>\n",
       "    <tr>\n",
       "      <th id=\"T_08eed_level0_row8\" class=\"row_heading level0 row8\" >2000-01-04 06:30:00</th>\n",
       "      <td id=\"T_08eed_row8_col0\" class=\"data row8 col0\" >1.6438</td>\n",
       "      <td id=\"T_08eed_row8_col1\" class=\"data row8 col1\" >0.0000</td>\n",
       "      <td id=\"T_08eed_row8_col2\" class=\"data row8 col2\" >315.0050</td>\n",
       "      <td id=\"T_08eed_row8_col3\" class=\"data row8 col3\" >0.3820</td>\n",
       "      <td id=\"T_08eed_row8_col4\" class=\"data row8 col4\" >5.0700</td>\n",
       "      <td id=\"T_08eed_row8_col5\" class=\"data row8 col5\" >96.2300</td>\n",
       "      <td id=\"T_08eed_row8_col6\" class=\"data row8 col6\" >0.0000</td>\n",
       "      <td id=\"T_08eed_row8_col7\" class=\"data row8 col7\" >43.1300</td>\n",
       "      <td id=\"T_08eed_row8_col8\" class=\"data row8 col8\" >1.2900</td>\n",
       "    </tr>\n",
       "    <tr>\n",
       "      <th id=\"T_08eed_level0_row9\" class=\"row_heading level0 row9\" >2000-01-04 07:00:00</th>\n",
       "      <td id=\"T_08eed_row9_col0\" class=\"data row9 col0\" >1.5697</td>\n",
       "      <td id=\"T_08eed_row9_col1\" class=\"data row9 col1\" >0.0000</td>\n",
       "      <td id=\"T_08eed_row9_col2\" class=\"data row9 col2\" >315.0050</td>\n",
       "      <td id=\"T_08eed_row9_col3\" class=\"data row9 col3\" >0.3130</td>\n",
       "      <td id=\"T_08eed_row9_col4\" class=\"data row9 col4\" >5.2300</td>\n",
       "      <td id=\"T_08eed_row9_col5\" class=\"data row9 col5\" >96.2400</td>\n",
       "      <td id=\"T_08eed_row9_col6\" class=\"data row9 col6\" >0.0000</td>\n",
       "      <td id=\"T_08eed_row9_col7\" class=\"data row9 col7\" >43.1300</td>\n",
       "      <td id=\"T_08eed_row9_col8\" class=\"data row9 col8\" >1.2900</td>\n",
       "    </tr>\n",
       "  </tbody>\n",
       "</table>\n",
       " </div><div> <p style='font-size: 1.3rem;'>data</p> <style type=\"text/css\">\n",
       "</style>\n",
       "<table id=\"T_6e974\">\n",
       "  <thead>\n",
       "    <tr>\n",
       "      <th class=\"blank level0\" >&nbsp;</th>\n",
       "      <th id=\"T_6e974_level0_col0\" class=\"col_heading level0 col0\" >TA</th>\n",
       "      <th id=\"T_6e974_level0_col1\" class=\"col_heading level0 col1\" >SW_IN</th>\n",
       "      <th id=\"T_6e974_level0_col2\" class=\"col_heading level0 col2\" >LW_IN</th>\n",
       "      <th id=\"T_6e974_level0_col3\" class=\"col_heading level0 col3\" >VPD</th>\n",
       "      <th id=\"T_6e974_level0_col4\" class=\"col_heading level0 col4\" >WS</th>\n",
       "      <th id=\"T_6e974_level0_col5\" class=\"col_heading level0 col5\" >PA</th>\n",
       "      <th id=\"T_6e974_level0_col6\" class=\"col_heading level0 col6\" >P</th>\n",
       "      <th id=\"T_6e974_level0_col7\" class=\"col_heading level0 col7\" >SWC</th>\n",
       "      <th id=\"T_6e974_level0_col8\" class=\"col_heading level0 col8\" >TS</th>\n",
       "    </tr>\n",
       "    <tr>\n",
       "      <th class=\"index_name level0\" >time</th>\n",
       "      <th class=\"blank col0\" >&nbsp;</th>\n",
       "      <th class=\"blank col1\" >&nbsp;</th>\n",
       "      <th class=\"blank col2\" >&nbsp;</th>\n",
       "      <th class=\"blank col3\" >&nbsp;</th>\n",
       "      <th class=\"blank col4\" >&nbsp;</th>\n",
       "      <th class=\"blank col5\" >&nbsp;</th>\n",
       "      <th class=\"blank col6\" >&nbsp;</th>\n",
       "      <th class=\"blank col7\" >&nbsp;</th>\n",
       "      <th class=\"blank col8\" >&nbsp;</th>\n",
       "    </tr>\n",
       "  </thead>\n",
       "  <tbody>\n",
       "    <tr>\n",
       "      <th id=\"T_6e974_level0_row0\" class=\"row_heading level0 row0\" >2000-01-04 02:30:00</th>\n",
       "      <td id=\"T_6e974_row0_col0\" class=\"data row0 col0\" >2.1900</td>\n",
       "      <td id=\"T_6e974_row0_col1\" class=\"data row0 col1\" >0.0000</td>\n",
       "      <td id=\"T_6e974_row0_col2\" class=\"data row0 col2\" >304.7310</td>\n",
       "      <td id=\"T_6e974_row0_col3\" class=\"data row0 col3\" >0.9520</td>\n",
       "      <td id=\"T_6e974_row0_col4\" class=\"data row0 col4\" >5.3900</td>\n",
       "      <td id=\"T_6e974_row0_col5\" class=\"data row0 col5\" >96.3000</td>\n",
       "      <td id=\"T_6e974_row0_col6\" class=\"data row0 col6\" >0.0000</td>\n",
       "      <td id=\"T_6e974_row0_col7\" class=\"data row0 col7\" >43.0800</td>\n",
       "      <td id=\"T_6e974_row0_col8\" class=\"data row0 col8\" >1.3100</td>\n",
       "    </tr>\n",
       "    <tr>\n",
       "      <th id=\"T_6e974_level0_row1\" class=\"row_heading level0 row1\" >2000-01-04 03:00:00</th>\n",
       "      <td id=\"T_6e974_row1_col0\" class=\"data row1 col0\" >2.2700</td>\n",
       "      <td id=\"T_6e974_row1_col1\" class=\"data row1 col1\" >0.0000</td>\n",
       "      <td id=\"T_6e974_row1_col2\" class=\"data row1 col2\" >304.7310</td>\n",
       "      <td id=\"T_6e974_row1_col3\" class=\"data row1 col3\" >0.9710</td>\n",
       "      <td id=\"T_6e974_row1_col4\" class=\"data row1 col4\" >5.5900</td>\n",
       "      <td id=\"T_6e974_row1_col5\" class=\"data row1 col5\" >96.3000</td>\n",
       "      <td id=\"T_6e974_row1_col6\" class=\"data row1 col6\" >0.0000</td>\n",
       "      <td id=\"T_6e974_row1_col7\" class=\"data row1 col7\" >43.0800</td>\n",
       "      <td id=\"T_6e974_row1_col8\" class=\"data row1 col8\" >1.3100</td>\n",
       "    </tr>\n",
       "    <tr>\n",
       "      <th id=\"T_6e974_level0_row2\" class=\"row_heading level0 row2\" >2000-01-04 03:30:00</th>\n",
       "      <td id=\"T_6e974_row2_col0\" class=\"data row2 col0\" >2.3200</td>\n",
       "      <td id=\"T_6e974_row2_col1\" class=\"data row2 col1\" >0.0000</td>\n",
       "      <td id=\"T_6e974_row2_col2\" class=\"data row2 col2\" >304.7310</td>\n",
       "      <td id=\"T_6e974_row2_col3\" class=\"data row2 col3\" >0.9580</td>\n",
       "      <td id=\"T_6e974_row2_col4\" class=\"data row2 col4\" >5.6700</td>\n",
       "      <td id=\"T_6e974_row2_col5\" class=\"data row2 col5\" >96.2900</td>\n",
       "      <td id=\"T_6e974_row2_col6\" class=\"data row2 col6\" >0.0000</td>\n",
       "      <td id=\"T_6e974_row2_col7\" class=\"data row2 col7\" >43.0800</td>\n",
       "      <td id=\"T_6e974_row2_col8\" class=\"data row2 col8\" >1.3100</td>\n",
       "    </tr>\n",
       "    <tr>\n",
       "      <th id=\"T_6e974_level0_row3\" class=\"row_heading level0 row3\" >2000-01-04 04:00:00</th>\n",
       "      <td id=\"T_6e974_row3_col0\" class=\"data row3 col0\" >2.3400</td>\n",
       "      <td id=\"T_6e974_row3_col1\" class=\"data row3 col1\" >0.0000</td>\n",
       "      <td id=\"T_6e974_row3_col2\" class=\"data row3 col2\" >304.7310</td>\n",
       "      <td id=\"T_6e974_row3_col3\" class=\"data row3 col3\" >0.9380</td>\n",
       "      <td id=\"T_6e974_row3_col4\" class=\"data row3 col4\" >6.6100</td>\n",
       "      <td id=\"T_6e974_row3_col5\" class=\"data row3 col5\" >96.2600</td>\n",
       "      <td id=\"T_6e974_row3_col6\" class=\"data row3 col6\" >0.0000</td>\n",
       "      <td id=\"T_6e974_row3_col7\" class=\"data row3 col7\" >43.0800</td>\n",
       "      <td id=\"T_6e974_row3_col8\" class=\"data row3 col8\" >1.3100</td>\n",
       "    </tr>\n",
       "    <tr>\n",
       "      <th id=\"T_6e974_level0_row4\" class=\"row_heading level0 row4\" >2000-01-04 04:30:00</th>\n",
       "      <td id=\"T_6e974_row4_col0\" class=\"data row4 col0\" >2.2400</td>\n",
       "      <td id=\"T_6e974_row4_col1\" class=\"data row4 col1\" >0.0000</td>\n",
       "      <td id=\"T_6e974_row4_col2\" class=\"data row4 col2\" >315.0050</td>\n",
       "      <td id=\"T_6e974_row4_col3\" class=\"data row4 col3\" >0.7850</td>\n",
       "      <td id=\"T_6e974_row4_col4\" class=\"data row4 col4\" >6.6500</td>\n",
       "      <td id=\"T_6e974_row4_col5\" class=\"data row4 col5\" >96.2600</td>\n",
       "      <td id=\"T_6e974_row4_col6\" class=\"data row4 col6\" >0.0000</td>\n",
       "      <td id=\"T_6e974_row4_col7\" class=\"data row4 col7\" >43.0800</td>\n",
       "      <td id=\"T_6e974_row4_col8\" class=\"data row4 col8\" >1.3100</td>\n",
       "    </tr>\n",
       "    <tr>\n",
       "      <th id=\"T_6e974_level0_row5\" class=\"row_heading level0 row5\" >2000-01-04 05:00:00</th>\n",
       "      <td id=\"T_6e974_row5_col0\" class=\"data row5 col0\" >2.0000</td>\n",
       "      <td id=\"T_6e974_row5_col1\" class=\"data row5 col1\" >0.0000</td>\n",
       "      <td id=\"T_6e974_row5_col2\" class=\"data row5 col2\" >315.0050</td>\n",
       "      <td id=\"T_6e974_row5_col3\" class=\"data row5 col3\" >0.5290</td>\n",
       "      <td id=\"T_6e974_row5_col4\" class=\"data row5 col4\" >6.1200</td>\n",
       "      <td id=\"T_6e974_row5_col5\" class=\"data row5 col5\" >96.2700</td>\n",
       "      <td id=\"T_6e974_row5_col6\" class=\"data row5 col6\" >0.0000</td>\n",
       "      <td id=\"T_6e974_row5_col7\" class=\"data row5 col7\" >43.0800</td>\n",
       "      <td id=\"T_6e974_row5_col8\" class=\"data row5 col8\" >1.3000</td>\n",
       "    </tr>\n",
       "    <tr>\n",
       "      <th id=\"T_6e974_level0_row6\" class=\"row_heading level0 row6\" >2000-01-04 05:30:00</th>\n",
       "      <td id=\"T_6e974_row6_col0\" class=\"data row6 col0\" >1.9400</td>\n",
       "      <td id=\"T_6e974_row6_col1\" class=\"data row6 col1\" >0.0000</td>\n",
       "      <td id=\"T_6e974_row6_col2\" class=\"data row6 col2\" >315.0050</td>\n",
       "      <td id=\"T_6e974_row6_col3\" class=\"data row6 col3\" >0.4500</td>\n",
       "      <td id=\"T_6e974_row6_col4\" class=\"data row6 col4\" >5.5800</td>\n",
       "      <td id=\"T_6e974_row6_col5\" class=\"data row6 col5\" >96.2600</td>\n",
       "      <td id=\"T_6e974_row6_col6\" class=\"data row6 col6\" >0.2900</td>\n",
       "      <td id=\"T_6e974_row6_col7\" class=\"data row6 col7\" >43.1300</td>\n",
       "      <td id=\"T_6e974_row6_col8\" class=\"data row6 col8\" >1.3000</td>\n",
       "    </tr>\n",
       "    <tr>\n",
       "      <th id=\"T_6e974_level0_row7\" class=\"row_heading level0 row7\" >2000-01-04 06:00:00</th>\n",
       "      <td id=\"T_6e974_row7_col0\" class=\"data row7 col0\" >2.0700</td>\n",
       "      <td id=\"T_6e974_row7_col1\" class=\"data row7 col1\" >0.0000</td>\n",
       "      <td id=\"T_6e974_row7_col2\" class=\"data row7 col2\" >315.0050</td>\n",
       "      <td id=\"T_6e974_row7_col3\" class=\"data row7 col3\" >0.4990</td>\n",
       "      <td id=\"T_6e974_row7_col4\" class=\"data row7 col4\" >4.7000</td>\n",
       "      <td id=\"T_6e974_row7_col5\" class=\"data row7 col5\" >96.2500</td>\n",
       "      <td id=\"T_6e974_row7_col6\" class=\"data row7 col6\" >0.0000</td>\n",
       "      <td id=\"T_6e974_row7_col7\" class=\"data row7 col7\" >43.1300</td>\n",
       "      <td id=\"T_6e974_row7_col8\" class=\"data row7 col8\" >1.2900</td>\n",
       "    </tr>\n",
       "    <tr>\n",
       "      <th id=\"T_6e974_level0_row8\" class=\"row_heading level0 row8\" >2000-01-04 06:30:00</th>\n",
       "      <td id=\"T_6e974_row8_col0\" class=\"data row8 col0\" >2.0400</td>\n",
       "      <td id=\"T_6e974_row8_col1\" class=\"data row8 col1\" >0.0000</td>\n",
       "      <td id=\"T_6e974_row8_col2\" class=\"data row8 col2\" >315.0050</td>\n",
       "      <td id=\"T_6e974_row8_col3\" class=\"data row8 col3\" >0.3820</td>\n",
       "      <td id=\"T_6e974_row8_col4\" class=\"data row8 col4\" >5.0700</td>\n",
       "      <td id=\"T_6e974_row8_col5\" class=\"data row8 col5\" >96.2300</td>\n",
       "      <td id=\"T_6e974_row8_col6\" class=\"data row8 col6\" >0.0000</td>\n",
       "      <td id=\"T_6e974_row8_col7\" class=\"data row8 col7\" >43.1300</td>\n",
       "      <td id=\"T_6e974_row8_col8\" class=\"data row8 col8\" >1.2900</td>\n",
       "    </tr>\n",
       "    <tr>\n",
       "      <th id=\"T_6e974_level0_row9\" class=\"row_heading level0 row9\" >2000-01-04 07:00:00</th>\n",
       "      <td id=\"T_6e974_row9_col0\" class=\"data row9 col0\" >2.0300</td>\n",
       "      <td id=\"T_6e974_row9_col1\" class=\"data row9 col1\" >0.0000</td>\n",
       "      <td id=\"T_6e974_row9_col2\" class=\"data row9 col2\" >315.0050</td>\n",
       "      <td id=\"T_6e974_row9_col3\" class=\"data row9 col3\" >0.3130</td>\n",
       "      <td id=\"T_6e974_row9_col4\" class=\"data row9 col4\" >5.2300</td>\n",
       "      <td id=\"T_6e974_row9_col5\" class=\"data row9 col5\" >96.2400</td>\n",
       "      <td id=\"T_6e974_row9_col6\" class=\"data row9 col6\" >0.0000</td>\n",
       "      <td id=\"T_6e974_row9_col7\" class=\"data row9 col7\" >43.1300</td>\n",
       "      <td id=\"T_6e974_row9_col8\" class=\"data row9 col8\" >1.2900</td>\n",
       "    </tr>\n",
       "  </tbody>\n",
       "</table>\n",
       " </div><div> <p style='font-size: 1.3rem;'>mask</p> <style type=\"text/css\">\n",
       "</style>\n",
       "<table id=\"T_ca7e9\">\n",
       "  <thead>\n",
       "    <tr>\n",
       "      <th class=\"blank level0\" >&nbsp;</th>\n",
       "      <th id=\"T_ca7e9_level0_col0\" class=\"col_heading level0 col0\" >TA</th>\n",
       "      <th id=\"T_ca7e9_level0_col1\" class=\"col_heading level0 col1\" >SW_IN</th>\n",
       "      <th id=\"T_ca7e9_level0_col2\" class=\"col_heading level0 col2\" >LW_IN</th>\n",
       "      <th id=\"T_ca7e9_level0_col3\" class=\"col_heading level0 col3\" >VPD</th>\n",
       "      <th id=\"T_ca7e9_level0_col4\" class=\"col_heading level0 col4\" >WS</th>\n",
       "      <th id=\"T_ca7e9_level0_col5\" class=\"col_heading level0 col5\" >PA</th>\n",
       "      <th id=\"T_ca7e9_level0_col6\" class=\"col_heading level0 col6\" >P</th>\n",
       "      <th id=\"T_ca7e9_level0_col7\" class=\"col_heading level0 col7\" >SWC</th>\n",
       "      <th id=\"T_ca7e9_level0_col8\" class=\"col_heading level0 col8\" >TS</th>\n",
       "    </tr>\n",
       "    <tr>\n",
       "      <th class=\"index_name level0\" >time</th>\n",
       "      <th class=\"blank col0\" >&nbsp;</th>\n",
       "      <th class=\"blank col1\" >&nbsp;</th>\n",
       "      <th class=\"blank col2\" >&nbsp;</th>\n",
       "      <th class=\"blank col3\" >&nbsp;</th>\n",
       "      <th class=\"blank col4\" >&nbsp;</th>\n",
       "      <th class=\"blank col5\" >&nbsp;</th>\n",
       "      <th class=\"blank col6\" >&nbsp;</th>\n",
       "      <th class=\"blank col7\" >&nbsp;</th>\n",
       "      <th class=\"blank col8\" >&nbsp;</th>\n",
       "    </tr>\n",
       "  </thead>\n",
       "  <tbody>\n",
       "    <tr>\n",
       "      <th id=\"T_ca7e9_level0_row0\" class=\"row_heading level0 row0\" >2000-01-04 02:30:00</th>\n",
       "      <td id=\"T_ca7e9_row0_col0\" class=\"data row0 col0\" >False</td>\n",
       "      <td id=\"T_ca7e9_row0_col1\" class=\"data row0 col1\" >True</td>\n",
       "      <td id=\"T_ca7e9_row0_col2\" class=\"data row0 col2\" >True</td>\n",
       "      <td id=\"T_ca7e9_row0_col3\" class=\"data row0 col3\" >True</td>\n",
       "      <td id=\"T_ca7e9_row0_col4\" class=\"data row0 col4\" >True</td>\n",
       "      <td id=\"T_ca7e9_row0_col5\" class=\"data row0 col5\" >True</td>\n",
       "      <td id=\"T_ca7e9_row0_col6\" class=\"data row0 col6\" >True</td>\n",
       "      <td id=\"T_ca7e9_row0_col7\" class=\"data row0 col7\" >True</td>\n",
       "      <td id=\"T_ca7e9_row0_col8\" class=\"data row0 col8\" >True</td>\n",
       "    </tr>\n",
       "    <tr>\n",
       "      <th id=\"T_ca7e9_level0_row1\" class=\"row_heading level0 row1\" >2000-01-04 03:00:00</th>\n",
       "      <td id=\"T_ca7e9_row1_col0\" class=\"data row1 col0\" >False</td>\n",
       "      <td id=\"T_ca7e9_row1_col1\" class=\"data row1 col1\" >True</td>\n",
       "      <td id=\"T_ca7e9_row1_col2\" class=\"data row1 col2\" >True</td>\n",
       "      <td id=\"T_ca7e9_row1_col3\" class=\"data row1 col3\" >True</td>\n",
       "      <td id=\"T_ca7e9_row1_col4\" class=\"data row1 col4\" >True</td>\n",
       "      <td id=\"T_ca7e9_row1_col5\" class=\"data row1 col5\" >True</td>\n",
       "      <td id=\"T_ca7e9_row1_col6\" class=\"data row1 col6\" >True</td>\n",
       "      <td id=\"T_ca7e9_row1_col7\" class=\"data row1 col7\" >True</td>\n",
       "      <td id=\"T_ca7e9_row1_col8\" class=\"data row1 col8\" >True</td>\n",
       "    </tr>\n",
       "    <tr>\n",
       "      <th id=\"T_ca7e9_level0_row2\" class=\"row_heading level0 row2\" >2000-01-04 03:30:00</th>\n",
       "      <td id=\"T_ca7e9_row2_col0\" class=\"data row2 col0\" >False</td>\n",
       "      <td id=\"T_ca7e9_row2_col1\" class=\"data row2 col1\" >True</td>\n",
       "      <td id=\"T_ca7e9_row2_col2\" class=\"data row2 col2\" >True</td>\n",
       "      <td id=\"T_ca7e9_row2_col3\" class=\"data row2 col3\" >True</td>\n",
       "      <td id=\"T_ca7e9_row2_col4\" class=\"data row2 col4\" >True</td>\n",
       "      <td id=\"T_ca7e9_row2_col5\" class=\"data row2 col5\" >True</td>\n",
       "      <td id=\"T_ca7e9_row2_col6\" class=\"data row2 col6\" >True</td>\n",
       "      <td id=\"T_ca7e9_row2_col7\" class=\"data row2 col7\" >True</td>\n",
       "      <td id=\"T_ca7e9_row2_col8\" class=\"data row2 col8\" >True</td>\n",
       "    </tr>\n",
       "    <tr>\n",
       "      <th id=\"T_ca7e9_level0_row3\" class=\"row_heading level0 row3\" >2000-01-04 04:00:00</th>\n",
       "      <td id=\"T_ca7e9_row3_col0\" class=\"data row3 col0\" >False</td>\n",
       "      <td id=\"T_ca7e9_row3_col1\" class=\"data row3 col1\" >True</td>\n",
       "      <td id=\"T_ca7e9_row3_col2\" class=\"data row3 col2\" >True</td>\n",
       "      <td id=\"T_ca7e9_row3_col3\" class=\"data row3 col3\" >True</td>\n",
       "      <td id=\"T_ca7e9_row3_col4\" class=\"data row3 col4\" >True</td>\n",
       "      <td id=\"T_ca7e9_row3_col5\" class=\"data row3 col5\" >True</td>\n",
       "      <td id=\"T_ca7e9_row3_col6\" class=\"data row3 col6\" >True</td>\n",
       "      <td id=\"T_ca7e9_row3_col7\" class=\"data row3 col7\" >True</td>\n",
       "      <td id=\"T_ca7e9_row3_col8\" class=\"data row3 col8\" >True</td>\n",
       "    </tr>\n",
       "    <tr>\n",
       "      <th id=\"T_ca7e9_level0_row4\" class=\"row_heading level0 row4\" >2000-01-04 04:30:00</th>\n",
       "      <td id=\"T_ca7e9_row4_col0\" class=\"data row4 col0\" >False</td>\n",
       "      <td id=\"T_ca7e9_row4_col1\" class=\"data row4 col1\" >True</td>\n",
       "      <td id=\"T_ca7e9_row4_col2\" class=\"data row4 col2\" >True</td>\n",
       "      <td id=\"T_ca7e9_row4_col3\" class=\"data row4 col3\" >True</td>\n",
       "      <td id=\"T_ca7e9_row4_col4\" class=\"data row4 col4\" >True</td>\n",
       "      <td id=\"T_ca7e9_row4_col5\" class=\"data row4 col5\" >True</td>\n",
       "      <td id=\"T_ca7e9_row4_col6\" class=\"data row4 col6\" >True</td>\n",
       "      <td id=\"T_ca7e9_row4_col7\" class=\"data row4 col7\" >True</td>\n",
       "      <td id=\"T_ca7e9_row4_col8\" class=\"data row4 col8\" >True</td>\n",
       "    </tr>\n",
       "    <tr>\n",
       "      <th id=\"T_ca7e9_level0_row5\" class=\"row_heading level0 row5\" >2000-01-04 05:00:00</th>\n",
       "      <td id=\"T_ca7e9_row5_col0\" class=\"data row5 col0\" >False</td>\n",
       "      <td id=\"T_ca7e9_row5_col1\" class=\"data row5 col1\" >True</td>\n",
       "      <td id=\"T_ca7e9_row5_col2\" class=\"data row5 col2\" >True</td>\n",
       "      <td id=\"T_ca7e9_row5_col3\" class=\"data row5 col3\" >True</td>\n",
       "      <td id=\"T_ca7e9_row5_col4\" class=\"data row5 col4\" >True</td>\n",
       "      <td id=\"T_ca7e9_row5_col5\" class=\"data row5 col5\" >True</td>\n",
       "      <td id=\"T_ca7e9_row5_col6\" class=\"data row5 col6\" >True</td>\n",
       "      <td id=\"T_ca7e9_row5_col7\" class=\"data row5 col7\" >True</td>\n",
       "      <td id=\"T_ca7e9_row5_col8\" class=\"data row5 col8\" >True</td>\n",
       "    </tr>\n",
       "    <tr>\n",
       "      <th id=\"T_ca7e9_level0_row6\" class=\"row_heading level0 row6\" >2000-01-04 05:30:00</th>\n",
       "      <td id=\"T_ca7e9_row6_col0\" class=\"data row6 col0\" >False</td>\n",
       "      <td id=\"T_ca7e9_row6_col1\" class=\"data row6 col1\" >True</td>\n",
       "      <td id=\"T_ca7e9_row6_col2\" class=\"data row6 col2\" >True</td>\n",
       "      <td id=\"T_ca7e9_row6_col3\" class=\"data row6 col3\" >True</td>\n",
       "      <td id=\"T_ca7e9_row6_col4\" class=\"data row6 col4\" >True</td>\n",
       "      <td id=\"T_ca7e9_row6_col5\" class=\"data row6 col5\" >True</td>\n",
       "      <td id=\"T_ca7e9_row6_col6\" class=\"data row6 col6\" >True</td>\n",
       "      <td id=\"T_ca7e9_row6_col7\" class=\"data row6 col7\" >True</td>\n",
       "      <td id=\"T_ca7e9_row6_col8\" class=\"data row6 col8\" >True</td>\n",
       "    </tr>\n",
       "    <tr>\n",
       "      <th id=\"T_ca7e9_level0_row7\" class=\"row_heading level0 row7\" >2000-01-04 06:00:00</th>\n",
       "      <td id=\"T_ca7e9_row7_col0\" class=\"data row7 col0\" >False</td>\n",
       "      <td id=\"T_ca7e9_row7_col1\" class=\"data row7 col1\" >True</td>\n",
       "      <td id=\"T_ca7e9_row7_col2\" class=\"data row7 col2\" >True</td>\n",
       "      <td id=\"T_ca7e9_row7_col3\" class=\"data row7 col3\" >True</td>\n",
       "      <td id=\"T_ca7e9_row7_col4\" class=\"data row7 col4\" >True</td>\n",
       "      <td id=\"T_ca7e9_row7_col5\" class=\"data row7 col5\" >True</td>\n",
       "      <td id=\"T_ca7e9_row7_col6\" class=\"data row7 col6\" >True</td>\n",
       "      <td id=\"T_ca7e9_row7_col7\" class=\"data row7 col7\" >True</td>\n",
       "      <td id=\"T_ca7e9_row7_col8\" class=\"data row7 col8\" >True</td>\n",
       "    </tr>\n",
       "    <tr>\n",
       "      <th id=\"T_ca7e9_level0_row8\" class=\"row_heading level0 row8\" >2000-01-04 06:30:00</th>\n",
       "      <td id=\"T_ca7e9_row8_col0\" class=\"data row8 col0\" >False</td>\n",
       "      <td id=\"T_ca7e9_row8_col1\" class=\"data row8 col1\" >True</td>\n",
       "      <td id=\"T_ca7e9_row8_col2\" class=\"data row8 col2\" >True</td>\n",
       "      <td id=\"T_ca7e9_row8_col3\" class=\"data row8 col3\" >True</td>\n",
       "      <td id=\"T_ca7e9_row8_col4\" class=\"data row8 col4\" >True</td>\n",
       "      <td id=\"T_ca7e9_row8_col5\" class=\"data row8 col5\" >True</td>\n",
       "      <td id=\"T_ca7e9_row8_col6\" class=\"data row8 col6\" >True</td>\n",
       "      <td id=\"T_ca7e9_row8_col7\" class=\"data row8 col7\" >True</td>\n",
       "      <td id=\"T_ca7e9_row8_col8\" class=\"data row8 col8\" >True</td>\n",
       "    </tr>\n",
       "    <tr>\n",
       "      <th id=\"T_ca7e9_level0_row9\" class=\"row_heading level0 row9\" >2000-01-04 07:00:00</th>\n",
       "      <td id=\"T_ca7e9_row9_col0\" class=\"data row9 col0\" >False</td>\n",
       "      <td id=\"T_ca7e9_row9_col1\" class=\"data row9 col1\" >True</td>\n",
       "      <td id=\"T_ca7e9_row9_col2\" class=\"data row9 col2\" >True</td>\n",
       "      <td id=\"T_ca7e9_row9_col3\" class=\"data row9 col3\" >True</td>\n",
       "      <td id=\"T_ca7e9_row9_col4\" class=\"data row9 col4\" >True</td>\n",
       "      <td id=\"T_ca7e9_row9_col5\" class=\"data row9 col5\" >True</td>\n",
       "      <td id=\"T_ca7e9_row9_col6\" class=\"data row9 col6\" >True</td>\n",
       "      <td id=\"T_ca7e9_row9_col7\" class=\"data row9 col7\" >True</td>\n",
       "      <td id=\"T_ca7e9_row9_col8\" class=\"data row9 col8\" >True</td>\n",
       "    </tr>\n",
       "  </tbody>\n",
       "</table>\n",
       " </div></div>"
      ],
      "text/plain": [
       "<IPython.core.display.HTML object>"
      ]
     },
     "metadata": {},
     "output_type": "display_data"
    }
   ],
   "source": [
    "display_as_row({'pred': pred[45:55],'data': targ.data[45:55], 'mask': targ.mask[45:55]}, hide_idx=False)"
   ]
  },
  {
   "cell_type": "markdown",
   "id": "9c47ee67-4b84-4bb3-9c73-80a4e9cdf561",
   "metadata": {},
   "source": [
    "#### Kalman Imputation - Specialized Variables"
   ]
  },
  {
   "cell_type": "code",
   "execution_count": null,
   "id": "b9184b9f-6db1-4140-8404-fecbad70e2e3",
   "metadata": {},
   "outputs": [],
   "source": [
    "#| export\n",
    "class KalmanImputationVar:\n",
    "    name = \"Kalman Filter\"\n",
    "    def __init__(self, models # dataframe with 2 columns `model` and `var`\n",
    "                ): store_attr()\n",
    "    def __call__(self, var, item, dls):\n",
    "        model = self._select_model(var)\n",
    "        pred, targ = predict_items(model, dls=dls, items = [item])\n",
    "        pred[0].mean[targ[0].mask] = targ[0].data[targ[0].mask]\n",
    "        return pred[0].mean\n",
    "    def _select_model(self, var):\n",
    "        return self.models[self.models['var'] == var].model.iloc[0]\n",
    "    def preds_all(self, var:str, items:list, dls):\n",
    "        model = self._select_model(var)\n",
    "        return predict_items(model, dls=dls, items = items)"
   ]
  },
  {
   "cell_type": "code",
   "execution_count": null,
   "id": "2903e18c-fbbb-4e1a-8122-03d90e0f30c0",
   "metadata": {},
   "outputs": [],
   "source": [
    "k_impVar = KalmanImputationVar(pd.DataFrame({'model': [model], 'var': 'TA'}))"
   ]
  },
  {
   "cell_type": "code",
   "execution_count": null,
   "id": "3e2b6c75-f0d0-4cc8-8874-ef614a745d15",
   "metadata": {},
   "outputs": [],
   "source": [
    "pred = k_impVar(var= 'TA', item=item, dls=dls)"
   ]
  },
  {
   "cell_type": "code",
   "execution_count": null,
   "id": "bba5c909-c4d8-4276-b411-f8801cfe9b96",
   "metadata": {},
   "outputs": [
    {
     "data": {
      "text/html": [
       "<p style='font-size: 1.5rem; font-decoration: bold'><p><div style=\"display: flex; column-gap: 20px; flex-wrap: wrap;\" class='table table-striped table-sm'> <div> <p style='font-size: 1.3rem;'>pred</p> <style type=\"text/css\">\n",
       "</style>\n",
       "<table id=\"T_b5e31\">\n",
       "  <thead>\n",
       "    <tr>\n",
       "      <th class=\"blank level0\" >&nbsp;</th>\n",
       "      <th id=\"T_b5e31_level0_col0\" class=\"col_heading level0 col0\" >TA</th>\n",
       "      <th id=\"T_b5e31_level0_col1\" class=\"col_heading level0 col1\" >SW_IN</th>\n",
       "      <th id=\"T_b5e31_level0_col2\" class=\"col_heading level0 col2\" >LW_IN</th>\n",
       "      <th id=\"T_b5e31_level0_col3\" class=\"col_heading level0 col3\" >VPD</th>\n",
       "      <th id=\"T_b5e31_level0_col4\" class=\"col_heading level0 col4\" >WS</th>\n",
       "      <th id=\"T_b5e31_level0_col5\" class=\"col_heading level0 col5\" >PA</th>\n",
       "      <th id=\"T_b5e31_level0_col6\" class=\"col_heading level0 col6\" >P</th>\n",
       "      <th id=\"T_b5e31_level0_col7\" class=\"col_heading level0 col7\" >SWC</th>\n",
       "      <th id=\"T_b5e31_level0_col8\" class=\"col_heading level0 col8\" >TS</th>\n",
       "    </tr>\n",
       "    <tr>\n",
       "      <th class=\"index_name level0\" >time</th>\n",
       "      <th class=\"blank col0\" >&nbsp;</th>\n",
       "      <th class=\"blank col1\" >&nbsp;</th>\n",
       "      <th class=\"blank col2\" >&nbsp;</th>\n",
       "      <th class=\"blank col3\" >&nbsp;</th>\n",
       "      <th class=\"blank col4\" >&nbsp;</th>\n",
       "      <th class=\"blank col5\" >&nbsp;</th>\n",
       "      <th class=\"blank col6\" >&nbsp;</th>\n",
       "      <th class=\"blank col7\" >&nbsp;</th>\n",
       "      <th class=\"blank col8\" >&nbsp;</th>\n",
       "    </tr>\n",
       "  </thead>\n",
       "  <tbody>\n",
       "    <tr>\n",
       "      <th id=\"T_b5e31_level0_row0\" class=\"row_heading level0 row0\" >2000-01-04 02:30:00</th>\n",
       "      <td id=\"T_b5e31_row0_col0\" class=\"data row0 col0\" >2.3467</td>\n",
       "      <td id=\"T_b5e31_row0_col1\" class=\"data row0 col1\" >0.0000</td>\n",
       "      <td id=\"T_b5e31_row0_col2\" class=\"data row0 col2\" >304.7310</td>\n",
       "      <td id=\"T_b5e31_row0_col3\" class=\"data row0 col3\" >0.9520</td>\n",
       "      <td id=\"T_b5e31_row0_col4\" class=\"data row0 col4\" >5.3900</td>\n",
       "      <td id=\"T_b5e31_row0_col5\" class=\"data row0 col5\" >96.3000</td>\n",
       "      <td id=\"T_b5e31_row0_col6\" class=\"data row0 col6\" >0.0000</td>\n",
       "      <td id=\"T_b5e31_row0_col7\" class=\"data row0 col7\" >43.0800</td>\n",
       "      <td id=\"T_b5e31_row0_col8\" class=\"data row0 col8\" >1.3100</td>\n",
       "    </tr>\n",
       "    <tr>\n",
       "      <th id=\"T_b5e31_level0_row1\" class=\"row_heading level0 row1\" >2000-01-04 03:00:00</th>\n",
       "      <td id=\"T_b5e31_row1_col0\" class=\"data row1 col0\" >2.1803</td>\n",
       "      <td id=\"T_b5e31_row1_col1\" class=\"data row1 col1\" >0.0000</td>\n",
       "      <td id=\"T_b5e31_row1_col2\" class=\"data row1 col2\" >304.7310</td>\n",
       "      <td id=\"T_b5e31_row1_col3\" class=\"data row1 col3\" >0.9710</td>\n",
       "      <td id=\"T_b5e31_row1_col4\" class=\"data row1 col4\" >5.5900</td>\n",
       "      <td id=\"T_b5e31_row1_col5\" class=\"data row1 col5\" >96.3000</td>\n",
       "      <td id=\"T_b5e31_row1_col6\" class=\"data row1 col6\" >0.0000</td>\n",
       "      <td id=\"T_b5e31_row1_col7\" class=\"data row1 col7\" >43.0800</td>\n",
       "      <td id=\"T_b5e31_row1_col8\" class=\"data row1 col8\" >1.3100</td>\n",
       "    </tr>\n",
       "    <tr>\n",
       "      <th id=\"T_b5e31_level0_row2\" class=\"row_heading level0 row2\" >2000-01-04 03:30:00</th>\n",
       "      <td id=\"T_b5e31_row2_col0\" class=\"data row2 col0\" >1.8728</td>\n",
       "      <td id=\"T_b5e31_row2_col1\" class=\"data row2 col1\" >0.0000</td>\n",
       "      <td id=\"T_b5e31_row2_col2\" class=\"data row2 col2\" >304.7310</td>\n",
       "      <td id=\"T_b5e31_row2_col3\" class=\"data row2 col3\" >0.9580</td>\n",
       "      <td id=\"T_b5e31_row2_col4\" class=\"data row2 col4\" >5.6700</td>\n",
       "      <td id=\"T_b5e31_row2_col5\" class=\"data row2 col5\" >96.2900</td>\n",
       "      <td id=\"T_b5e31_row2_col6\" class=\"data row2 col6\" >0.0000</td>\n",
       "      <td id=\"T_b5e31_row2_col7\" class=\"data row2 col7\" >43.0800</td>\n",
       "      <td id=\"T_b5e31_row2_col8\" class=\"data row2 col8\" >1.3100</td>\n",
       "    </tr>\n",
       "    <tr>\n",
       "      <th id=\"T_b5e31_level0_row3\" class=\"row_heading level0 row3\" >2000-01-04 04:00:00</th>\n",
       "      <td id=\"T_b5e31_row3_col0\" class=\"data row3 col0\" >1.4769</td>\n",
       "      <td id=\"T_b5e31_row3_col1\" class=\"data row3 col1\" >0.0000</td>\n",
       "      <td id=\"T_b5e31_row3_col2\" class=\"data row3 col2\" >304.7310</td>\n",
       "      <td id=\"T_b5e31_row3_col3\" class=\"data row3 col3\" >0.9380</td>\n",
       "      <td id=\"T_b5e31_row3_col4\" class=\"data row3 col4\" >6.6100</td>\n",
       "      <td id=\"T_b5e31_row3_col5\" class=\"data row3 col5\" >96.2600</td>\n",
       "      <td id=\"T_b5e31_row3_col6\" class=\"data row3 col6\" >0.0000</td>\n",
       "      <td id=\"T_b5e31_row3_col7\" class=\"data row3 col7\" >43.0800</td>\n",
       "      <td id=\"T_b5e31_row3_col8\" class=\"data row3 col8\" >1.3100</td>\n",
       "    </tr>\n",
       "    <tr>\n",
       "      <th id=\"T_b5e31_level0_row4\" class=\"row_heading level0 row4\" >2000-01-04 04:30:00</th>\n",
       "      <td id=\"T_b5e31_row4_col0\" class=\"data row4 col0\" >1.4710</td>\n",
       "      <td id=\"T_b5e31_row4_col1\" class=\"data row4 col1\" >0.0000</td>\n",
       "      <td id=\"T_b5e31_row4_col2\" class=\"data row4 col2\" >315.0050</td>\n",
       "      <td id=\"T_b5e31_row4_col3\" class=\"data row4 col3\" >0.7850</td>\n",
       "      <td id=\"T_b5e31_row4_col4\" class=\"data row4 col4\" >6.6500</td>\n",
       "      <td id=\"T_b5e31_row4_col5\" class=\"data row4 col5\" >96.2600</td>\n",
       "      <td id=\"T_b5e31_row4_col6\" class=\"data row4 col6\" >0.0000</td>\n",
       "      <td id=\"T_b5e31_row4_col7\" class=\"data row4 col7\" >43.0800</td>\n",
       "      <td id=\"T_b5e31_row4_col8\" class=\"data row4 col8\" >1.3100</td>\n",
       "    </tr>\n",
       "    <tr>\n",
       "      <th id=\"T_b5e31_level0_row5\" class=\"row_heading level0 row5\" >2000-01-04 05:00:00</th>\n",
       "      <td id=\"T_b5e31_row5_col0\" class=\"data row5 col0\" >1.4303</td>\n",
       "      <td id=\"T_b5e31_row5_col1\" class=\"data row5 col1\" >0.0000</td>\n",
       "      <td id=\"T_b5e31_row5_col2\" class=\"data row5 col2\" >315.0050</td>\n",
       "      <td id=\"T_b5e31_row5_col3\" class=\"data row5 col3\" >0.5290</td>\n",
       "      <td id=\"T_b5e31_row5_col4\" class=\"data row5 col4\" >6.1200</td>\n",
       "      <td id=\"T_b5e31_row5_col5\" class=\"data row5 col5\" >96.2700</td>\n",
       "      <td id=\"T_b5e31_row5_col6\" class=\"data row5 col6\" >0.0000</td>\n",
       "      <td id=\"T_b5e31_row5_col7\" class=\"data row5 col7\" >43.0800</td>\n",
       "      <td id=\"T_b5e31_row5_col8\" class=\"data row5 col8\" >1.3000</td>\n",
       "    </tr>\n",
       "    <tr>\n",
       "      <th id=\"T_b5e31_level0_row6\" class=\"row_heading level0 row6\" >2000-01-04 05:30:00</th>\n",
       "      <td id=\"T_b5e31_row6_col0\" class=\"data row6 col0\" >1.5573</td>\n",
       "      <td id=\"T_b5e31_row6_col1\" class=\"data row6 col1\" >0.0000</td>\n",
       "      <td id=\"T_b5e31_row6_col2\" class=\"data row6 col2\" >315.0050</td>\n",
       "      <td id=\"T_b5e31_row6_col3\" class=\"data row6 col3\" >0.4500</td>\n",
       "      <td id=\"T_b5e31_row6_col4\" class=\"data row6 col4\" >5.5800</td>\n",
       "      <td id=\"T_b5e31_row6_col5\" class=\"data row6 col5\" >96.2600</td>\n",
       "      <td id=\"T_b5e31_row6_col6\" class=\"data row6 col6\" >0.2900</td>\n",
       "      <td id=\"T_b5e31_row6_col7\" class=\"data row6 col7\" >43.1300</td>\n",
       "      <td id=\"T_b5e31_row6_col8\" class=\"data row6 col8\" >1.3000</td>\n",
       "    </tr>\n",
       "    <tr>\n",
       "      <th id=\"T_b5e31_level0_row7\" class=\"row_heading level0 row7\" >2000-01-04 06:00:00</th>\n",
       "      <td id=\"T_b5e31_row7_col0\" class=\"data row7 col0\" >1.6616</td>\n",
       "      <td id=\"T_b5e31_row7_col1\" class=\"data row7 col1\" >0.0000</td>\n",
       "      <td id=\"T_b5e31_row7_col2\" class=\"data row7 col2\" >315.0050</td>\n",
       "      <td id=\"T_b5e31_row7_col3\" class=\"data row7 col3\" >0.4990</td>\n",
       "      <td id=\"T_b5e31_row7_col4\" class=\"data row7 col4\" >4.7000</td>\n",
       "      <td id=\"T_b5e31_row7_col5\" class=\"data row7 col5\" >96.2500</td>\n",
       "      <td id=\"T_b5e31_row7_col6\" class=\"data row7 col6\" >0.0000</td>\n",
       "      <td id=\"T_b5e31_row7_col7\" class=\"data row7 col7\" >43.1300</td>\n",
       "      <td id=\"T_b5e31_row7_col8\" class=\"data row7 col8\" >1.2900</td>\n",
       "    </tr>\n",
       "    <tr>\n",
       "      <th id=\"T_b5e31_level0_row8\" class=\"row_heading level0 row8\" >2000-01-04 06:30:00</th>\n",
       "      <td id=\"T_b5e31_row8_col0\" class=\"data row8 col0\" >1.6438</td>\n",
       "      <td id=\"T_b5e31_row8_col1\" class=\"data row8 col1\" >0.0000</td>\n",
       "      <td id=\"T_b5e31_row8_col2\" class=\"data row8 col2\" >315.0050</td>\n",
       "      <td id=\"T_b5e31_row8_col3\" class=\"data row8 col3\" >0.3820</td>\n",
       "      <td id=\"T_b5e31_row8_col4\" class=\"data row8 col4\" >5.0700</td>\n",
       "      <td id=\"T_b5e31_row8_col5\" class=\"data row8 col5\" >96.2300</td>\n",
       "      <td id=\"T_b5e31_row8_col6\" class=\"data row8 col6\" >0.0000</td>\n",
       "      <td id=\"T_b5e31_row8_col7\" class=\"data row8 col7\" >43.1300</td>\n",
       "      <td id=\"T_b5e31_row8_col8\" class=\"data row8 col8\" >1.2900</td>\n",
       "    </tr>\n",
       "    <tr>\n",
       "      <th id=\"T_b5e31_level0_row9\" class=\"row_heading level0 row9\" >2000-01-04 07:00:00</th>\n",
       "      <td id=\"T_b5e31_row9_col0\" class=\"data row9 col0\" >1.5697</td>\n",
       "      <td id=\"T_b5e31_row9_col1\" class=\"data row9 col1\" >0.0000</td>\n",
       "      <td id=\"T_b5e31_row9_col2\" class=\"data row9 col2\" >315.0050</td>\n",
       "      <td id=\"T_b5e31_row9_col3\" class=\"data row9 col3\" >0.3130</td>\n",
       "      <td id=\"T_b5e31_row9_col4\" class=\"data row9 col4\" >5.2300</td>\n",
       "      <td id=\"T_b5e31_row9_col5\" class=\"data row9 col5\" >96.2400</td>\n",
       "      <td id=\"T_b5e31_row9_col6\" class=\"data row9 col6\" >0.0000</td>\n",
       "      <td id=\"T_b5e31_row9_col7\" class=\"data row9 col7\" >43.1300</td>\n",
       "      <td id=\"T_b5e31_row9_col8\" class=\"data row9 col8\" >1.2900</td>\n",
       "    </tr>\n",
       "  </tbody>\n",
       "</table>\n",
       " </div><div> <p style='font-size: 1.3rem;'>data</p> <style type=\"text/css\">\n",
       "</style>\n",
       "<table id=\"T_29172\">\n",
       "  <thead>\n",
       "    <tr>\n",
       "      <th class=\"blank level0\" >&nbsp;</th>\n",
       "      <th id=\"T_29172_level0_col0\" class=\"col_heading level0 col0\" >TA</th>\n",
       "      <th id=\"T_29172_level0_col1\" class=\"col_heading level0 col1\" >SW_IN</th>\n",
       "      <th id=\"T_29172_level0_col2\" class=\"col_heading level0 col2\" >LW_IN</th>\n",
       "      <th id=\"T_29172_level0_col3\" class=\"col_heading level0 col3\" >VPD</th>\n",
       "      <th id=\"T_29172_level0_col4\" class=\"col_heading level0 col4\" >WS</th>\n",
       "      <th id=\"T_29172_level0_col5\" class=\"col_heading level0 col5\" >PA</th>\n",
       "      <th id=\"T_29172_level0_col6\" class=\"col_heading level0 col6\" >P</th>\n",
       "      <th id=\"T_29172_level0_col7\" class=\"col_heading level0 col7\" >SWC</th>\n",
       "      <th id=\"T_29172_level0_col8\" class=\"col_heading level0 col8\" >TS</th>\n",
       "    </tr>\n",
       "    <tr>\n",
       "      <th class=\"index_name level0\" >time</th>\n",
       "      <th class=\"blank col0\" >&nbsp;</th>\n",
       "      <th class=\"blank col1\" >&nbsp;</th>\n",
       "      <th class=\"blank col2\" >&nbsp;</th>\n",
       "      <th class=\"blank col3\" >&nbsp;</th>\n",
       "      <th class=\"blank col4\" >&nbsp;</th>\n",
       "      <th class=\"blank col5\" >&nbsp;</th>\n",
       "      <th class=\"blank col6\" >&nbsp;</th>\n",
       "      <th class=\"blank col7\" >&nbsp;</th>\n",
       "      <th class=\"blank col8\" >&nbsp;</th>\n",
       "    </tr>\n",
       "  </thead>\n",
       "  <tbody>\n",
       "    <tr>\n",
       "      <th id=\"T_29172_level0_row0\" class=\"row_heading level0 row0\" >2000-01-04 02:30:00</th>\n",
       "      <td id=\"T_29172_row0_col0\" class=\"data row0 col0\" >2.1900</td>\n",
       "      <td id=\"T_29172_row0_col1\" class=\"data row0 col1\" >0.0000</td>\n",
       "      <td id=\"T_29172_row0_col2\" class=\"data row0 col2\" >304.7310</td>\n",
       "      <td id=\"T_29172_row0_col3\" class=\"data row0 col3\" >0.9520</td>\n",
       "      <td id=\"T_29172_row0_col4\" class=\"data row0 col4\" >5.3900</td>\n",
       "      <td id=\"T_29172_row0_col5\" class=\"data row0 col5\" >96.3000</td>\n",
       "      <td id=\"T_29172_row0_col6\" class=\"data row0 col6\" >0.0000</td>\n",
       "      <td id=\"T_29172_row0_col7\" class=\"data row0 col7\" >43.0800</td>\n",
       "      <td id=\"T_29172_row0_col8\" class=\"data row0 col8\" >1.3100</td>\n",
       "    </tr>\n",
       "    <tr>\n",
       "      <th id=\"T_29172_level0_row1\" class=\"row_heading level0 row1\" >2000-01-04 03:00:00</th>\n",
       "      <td id=\"T_29172_row1_col0\" class=\"data row1 col0\" >2.2700</td>\n",
       "      <td id=\"T_29172_row1_col1\" class=\"data row1 col1\" >0.0000</td>\n",
       "      <td id=\"T_29172_row1_col2\" class=\"data row1 col2\" >304.7310</td>\n",
       "      <td id=\"T_29172_row1_col3\" class=\"data row1 col3\" >0.9710</td>\n",
       "      <td id=\"T_29172_row1_col4\" class=\"data row1 col4\" >5.5900</td>\n",
       "      <td id=\"T_29172_row1_col5\" class=\"data row1 col5\" >96.3000</td>\n",
       "      <td id=\"T_29172_row1_col6\" class=\"data row1 col6\" >0.0000</td>\n",
       "      <td id=\"T_29172_row1_col7\" class=\"data row1 col7\" >43.0800</td>\n",
       "      <td id=\"T_29172_row1_col8\" class=\"data row1 col8\" >1.3100</td>\n",
       "    </tr>\n",
       "    <tr>\n",
       "      <th id=\"T_29172_level0_row2\" class=\"row_heading level0 row2\" >2000-01-04 03:30:00</th>\n",
       "      <td id=\"T_29172_row2_col0\" class=\"data row2 col0\" >2.3200</td>\n",
       "      <td id=\"T_29172_row2_col1\" class=\"data row2 col1\" >0.0000</td>\n",
       "      <td id=\"T_29172_row2_col2\" class=\"data row2 col2\" >304.7310</td>\n",
       "      <td id=\"T_29172_row2_col3\" class=\"data row2 col3\" >0.9580</td>\n",
       "      <td id=\"T_29172_row2_col4\" class=\"data row2 col4\" >5.6700</td>\n",
       "      <td id=\"T_29172_row2_col5\" class=\"data row2 col5\" >96.2900</td>\n",
       "      <td id=\"T_29172_row2_col6\" class=\"data row2 col6\" >0.0000</td>\n",
       "      <td id=\"T_29172_row2_col7\" class=\"data row2 col7\" >43.0800</td>\n",
       "      <td id=\"T_29172_row2_col8\" class=\"data row2 col8\" >1.3100</td>\n",
       "    </tr>\n",
       "    <tr>\n",
       "      <th id=\"T_29172_level0_row3\" class=\"row_heading level0 row3\" >2000-01-04 04:00:00</th>\n",
       "      <td id=\"T_29172_row3_col0\" class=\"data row3 col0\" >2.3400</td>\n",
       "      <td id=\"T_29172_row3_col1\" class=\"data row3 col1\" >0.0000</td>\n",
       "      <td id=\"T_29172_row3_col2\" class=\"data row3 col2\" >304.7310</td>\n",
       "      <td id=\"T_29172_row3_col3\" class=\"data row3 col3\" >0.9380</td>\n",
       "      <td id=\"T_29172_row3_col4\" class=\"data row3 col4\" >6.6100</td>\n",
       "      <td id=\"T_29172_row3_col5\" class=\"data row3 col5\" >96.2600</td>\n",
       "      <td id=\"T_29172_row3_col6\" class=\"data row3 col6\" >0.0000</td>\n",
       "      <td id=\"T_29172_row3_col7\" class=\"data row3 col7\" >43.0800</td>\n",
       "      <td id=\"T_29172_row3_col8\" class=\"data row3 col8\" >1.3100</td>\n",
       "    </tr>\n",
       "    <tr>\n",
       "      <th id=\"T_29172_level0_row4\" class=\"row_heading level0 row4\" >2000-01-04 04:30:00</th>\n",
       "      <td id=\"T_29172_row4_col0\" class=\"data row4 col0\" >2.2400</td>\n",
       "      <td id=\"T_29172_row4_col1\" class=\"data row4 col1\" >0.0000</td>\n",
       "      <td id=\"T_29172_row4_col2\" class=\"data row4 col2\" >315.0050</td>\n",
       "      <td id=\"T_29172_row4_col3\" class=\"data row4 col3\" >0.7850</td>\n",
       "      <td id=\"T_29172_row4_col4\" class=\"data row4 col4\" >6.6500</td>\n",
       "      <td id=\"T_29172_row4_col5\" class=\"data row4 col5\" >96.2600</td>\n",
       "      <td id=\"T_29172_row4_col6\" class=\"data row4 col6\" >0.0000</td>\n",
       "      <td id=\"T_29172_row4_col7\" class=\"data row4 col7\" >43.0800</td>\n",
       "      <td id=\"T_29172_row4_col8\" class=\"data row4 col8\" >1.3100</td>\n",
       "    </tr>\n",
       "    <tr>\n",
       "      <th id=\"T_29172_level0_row5\" class=\"row_heading level0 row5\" >2000-01-04 05:00:00</th>\n",
       "      <td id=\"T_29172_row5_col0\" class=\"data row5 col0\" >2.0000</td>\n",
       "      <td id=\"T_29172_row5_col1\" class=\"data row5 col1\" >0.0000</td>\n",
       "      <td id=\"T_29172_row5_col2\" class=\"data row5 col2\" >315.0050</td>\n",
       "      <td id=\"T_29172_row5_col3\" class=\"data row5 col3\" >0.5290</td>\n",
       "      <td id=\"T_29172_row5_col4\" class=\"data row5 col4\" >6.1200</td>\n",
       "      <td id=\"T_29172_row5_col5\" class=\"data row5 col5\" >96.2700</td>\n",
       "      <td id=\"T_29172_row5_col6\" class=\"data row5 col6\" >0.0000</td>\n",
       "      <td id=\"T_29172_row5_col7\" class=\"data row5 col7\" >43.0800</td>\n",
       "      <td id=\"T_29172_row5_col8\" class=\"data row5 col8\" >1.3000</td>\n",
       "    </tr>\n",
       "    <tr>\n",
       "      <th id=\"T_29172_level0_row6\" class=\"row_heading level0 row6\" >2000-01-04 05:30:00</th>\n",
       "      <td id=\"T_29172_row6_col0\" class=\"data row6 col0\" >1.9400</td>\n",
       "      <td id=\"T_29172_row6_col1\" class=\"data row6 col1\" >0.0000</td>\n",
       "      <td id=\"T_29172_row6_col2\" class=\"data row6 col2\" >315.0050</td>\n",
       "      <td id=\"T_29172_row6_col3\" class=\"data row6 col3\" >0.4500</td>\n",
       "      <td id=\"T_29172_row6_col4\" class=\"data row6 col4\" >5.5800</td>\n",
       "      <td id=\"T_29172_row6_col5\" class=\"data row6 col5\" >96.2600</td>\n",
       "      <td id=\"T_29172_row6_col6\" class=\"data row6 col6\" >0.2900</td>\n",
       "      <td id=\"T_29172_row6_col7\" class=\"data row6 col7\" >43.1300</td>\n",
       "      <td id=\"T_29172_row6_col8\" class=\"data row6 col8\" >1.3000</td>\n",
       "    </tr>\n",
       "    <tr>\n",
       "      <th id=\"T_29172_level0_row7\" class=\"row_heading level0 row7\" >2000-01-04 06:00:00</th>\n",
       "      <td id=\"T_29172_row7_col0\" class=\"data row7 col0\" >2.0700</td>\n",
       "      <td id=\"T_29172_row7_col1\" class=\"data row7 col1\" >0.0000</td>\n",
       "      <td id=\"T_29172_row7_col2\" class=\"data row7 col2\" >315.0050</td>\n",
       "      <td id=\"T_29172_row7_col3\" class=\"data row7 col3\" >0.4990</td>\n",
       "      <td id=\"T_29172_row7_col4\" class=\"data row7 col4\" >4.7000</td>\n",
       "      <td id=\"T_29172_row7_col5\" class=\"data row7 col5\" >96.2500</td>\n",
       "      <td id=\"T_29172_row7_col6\" class=\"data row7 col6\" >0.0000</td>\n",
       "      <td id=\"T_29172_row7_col7\" class=\"data row7 col7\" >43.1300</td>\n",
       "      <td id=\"T_29172_row7_col8\" class=\"data row7 col8\" >1.2900</td>\n",
       "    </tr>\n",
       "    <tr>\n",
       "      <th id=\"T_29172_level0_row8\" class=\"row_heading level0 row8\" >2000-01-04 06:30:00</th>\n",
       "      <td id=\"T_29172_row8_col0\" class=\"data row8 col0\" >2.0400</td>\n",
       "      <td id=\"T_29172_row8_col1\" class=\"data row8 col1\" >0.0000</td>\n",
       "      <td id=\"T_29172_row8_col2\" class=\"data row8 col2\" >315.0050</td>\n",
       "      <td id=\"T_29172_row8_col3\" class=\"data row8 col3\" >0.3820</td>\n",
       "      <td id=\"T_29172_row8_col4\" class=\"data row8 col4\" >5.0700</td>\n",
       "      <td id=\"T_29172_row8_col5\" class=\"data row8 col5\" >96.2300</td>\n",
       "      <td id=\"T_29172_row8_col6\" class=\"data row8 col6\" >0.0000</td>\n",
       "      <td id=\"T_29172_row8_col7\" class=\"data row8 col7\" >43.1300</td>\n",
       "      <td id=\"T_29172_row8_col8\" class=\"data row8 col8\" >1.2900</td>\n",
       "    </tr>\n",
       "    <tr>\n",
       "      <th id=\"T_29172_level0_row9\" class=\"row_heading level0 row9\" >2000-01-04 07:00:00</th>\n",
       "      <td id=\"T_29172_row9_col0\" class=\"data row9 col0\" >2.0300</td>\n",
       "      <td id=\"T_29172_row9_col1\" class=\"data row9 col1\" >0.0000</td>\n",
       "      <td id=\"T_29172_row9_col2\" class=\"data row9 col2\" >315.0050</td>\n",
       "      <td id=\"T_29172_row9_col3\" class=\"data row9 col3\" >0.3130</td>\n",
       "      <td id=\"T_29172_row9_col4\" class=\"data row9 col4\" >5.2300</td>\n",
       "      <td id=\"T_29172_row9_col5\" class=\"data row9 col5\" >96.2400</td>\n",
       "      <td id=\"T_29172_row9_col6\" class=\"data row9 col6\" >0.0000</td>\n",
       "      <td id=\"T_29172_row9_col7\" class=\"data row9 col7\" >43.1300</td>\n",
       "      <td id=\"T_29172_row9_col8\" class=\"data row9 col8\" >1.2900</td>\n",
       "    </tr>\n",
       "  </tbody>\n",
       "</table>\n",
       " </div><div> <p style='font-size: 1.3rem;'>mask</p> <style type=\"text/css\">\n",
       "</style>\n",
       "<table id=\"T_994f3\">\n",
       "  <thead>\n",
       "    <tr>\n",
       "      <th class=\"blank level0\" >&nbsp;</th>\n",
       "      <th id=\"T_994f3_level0_col0\" class=\"col_heading level0 col0\" >TA</th>\n",
       "      <th id=\"T_994f3_level0_col1\" class=\"col_heading level0 col1\" >SW_IN</th>\n",
       "      <th id=\"T_994f3_level0_col2\" class=\"col_heading level0 col2\" >LW_IN</th>\n",
       "      <th id=\"T_994f3_level0_col3\" class=\"col_heading level0 col3\" >VPD</th>\n",
       "      <th id=\"T_994f3_level0_col4\" class=\"col_heading level0 col4\" >WS</th>\n",
       "      <th id=\"T_994f3_level0_col5\" class=\"col_heading level0 col5\" >PA</th>\n",
       "      <th id=\"T_994f3_level0_col6\" class=\"col_heading level0 col6\" >P</th>\n",
       "      <th id=\"T_994f3_level0_col7\" class=\"col_heading level0 col7\" >SWC</th>\n",
       "      <th id=\"T_994f3_level0_col8\" class=\"col_heading level0 col8\" >TS</th>\n",
       "    </tr>\n",
       "    <tr>\n",
       "      <th class=\"index_name level0\" >time</th>\n",
       "      <th class=\"blank col0\" >&nbsp;</th>\n",
       "      <th class=\"blank col1\" >&nbsp;</th>\n",
       "      <th class=\"blank col2\" >&nbsp;</th>\n",
       "      <th class=\"blank col3\" >&nbsp;</th>\n",
       "      <th class=\"blank col4\" >&nbsp;</th>\n",
       "      <th class=\"blank col5\" >&nbsp;</th>\n",
       "      <th class=\"blank col6\" >&nbsp;</th>\n",
       "      <th class=\"blank col7\" >&nbsp;</th>\n",
       "      <th class=\"blank col8\" >&nbsp;</th>\n",
       "    </tr>\n",
       "  </thead>\n",
       "  <tbody>\n",
       "    <tr>\n",
       "      <th id=\"T_994f3_level0_row0\" class=\"row_heading level0 row0\" >2000-01-04 02:30:00</th>\n",
       "      <td id=\"T_994f3_row0_col0\" class=\"data row0 col0\" >False</td>\n",
       "      <td id=\"T_994f3_row0_col1\" class=\"data row0 col1\" >True</td>\n",
       "      <td id=\"T_994f3_row0_col2\" class=\"data row0 col2\" >True</td>\n",
       "      <td id=\"T_994f3_row0_col3\" class=\"data row0 col3\" >True</td>\n",
       "      <td id=\"T_994f3_row0_col4\" class=\"data row0 col4\" >True</td>\n",
       "      <td id=\"T_994f3_row0_col5\" class=\"data row0 col5\" >True</td>\n",
       "      <td id=\"T_994f3_row0_col6\" class=\"data row0 col6\" >True</td>\n",
       "      <td id=\"T_994f3_row0_col7\" class=\"data row0 col7\" >True</td>\n",
       "      <td id=\"T_994f3_row0_col8\" class=\"data row0 col8\" >True</td>\n",
       "    </tr>\n",
       "    <tr>\n",
       "      <th id=\"T_994f3_level0_row1\" class=\"row_heading level0 row1\" >2000-01-04 03:00:00</th>\n",
       "      <td id=\"T_994f3_row1_col0\" class=\"data row1 col0\" >False</td>\n",
       "      <td id=\"T_994f3_row1_col1\" class=\"data row1 col1\" >True</td>\n",
       "      <td id=\"T_994f3_row1_col2\" class=\"data row1 col2\" >True</td>\n",
       "      <td id=\"T_994f3_row1_col3\" class=\"data row1 col3\" >True</td>\n",
       "      <td id=\"T_994f3_row1_col4\" class=\"data row1 col4\" >True</td>\n",
       "      <td id=\"T_994f3_row1_col5\" class=\"data row1 col5\" >True</td>\n",
       "      <td id=\"T_994f3_row1_col6\" class=\"data row1 col6\" >True</td>\n",
       "      <td id=\"T_994f3_row1_col7\" class=\"data row1 col7\" >True</td>\n",
       "      <td id=\"T_994f3_row1_col8\" class=\"data row1 col8\" >True</td>\n",
       "    </tr>\n",
       "    <tr>\n",
       "      <th id=\"T_994f3_level0_row2\" class=\"row_heading level0 row2\" >2000-01-04 03:30:00</th>\n",
       "      <td id=\"T_994f3_row2_col0\" class=\"data row2 col0\" >False</td>\n",
       "      <td id=\"T_994f3_row2_col1\" class=\"data row2 col1\" >True</td>\n",
       "      <td id=\"T_994f3_row2_col2\" class=\"data row2 col2\" >True</td>\n",
       "      <td id=\"T_994f3_row2_col3\" class=\"data row2 col3\" >True</td>\n",
       "      <td id=\"T_994f3_row2_col4\" class=\"data row2 col4\" >True</td>\n",
       "      <td id=\"T_994f3_row2_col5\" class=\"data row2 col5\" >True</td>\n",
       "      <td id=\"T_994f3_row2_col6\" class=\"data row2 col6\" >True</td>\n",
       "      <td id=\"T_994f3_row2_col7\" class=\"data row2 col7\" >True</td>\n",
       "      <td id=\"T_994f3_row2_col8\" class=\"data row2 col8\" >True</td>\n",
       "    </tr>\n",
       "    <tr>\n",
       "      <th id=\"T_994f3_level0_row3\" class=\"row_heading level0 row3\" >2000-01-04 04:00:00</th>\n",
       "      <td id=\"T_994f3_row3_col0\" class=\"data row3 col0\" >False</td>\n",
       "      <td id=\"T_994f3_row3_col1\" class=\"data row3 col1\" >True</td>\n",
       "      <td id=\"T_994f3_row3_col2\" class=\"data row3 col2\" >True</td>\n",
       "      <td id=\"T_994f3_row3_col3\" class=\"data row3 col3\" >True</td>\n",
       "      <td id=\"T_994f3_row3_col4\" class=\"data row3 col4\" >True</td>\n",
       "      <td id=\"T_994f3_row3_col5\" class=\"data row3 col5\" >True</td>\n",
       "      <td id=\"T_994f3_row3_col6\" class=\"data row3 col6\" >True</td>\n",
       "      <td id=\"T_994f3_row3_col7\" class=\"data row3 col7\" >True</td>\n",
       "      <td id=\"T_994f3_row3_col8\" class=\"data row3 col8\" >True</td>\n",
       "    </tr>\n",
       "    <tr>\n",
       "      <th id=\"T_994f3_level0_row4\" class=\"row_heading level0 row4\" >2000-01-04 04:30:00</th>\n",
       "      <td id=\"T_994f3_row4_col0\" class=\"data row4 col0\" >False</td>\n",
       "      <td id=\"T_994f3_row4_col1\" class=\"data row4 col1\" >True</td>\n",
       "      <td id=\"T_994f3_row4_col2\" class=\"data row4 col2\" >True</td>\n",
       "      <td id=\"T_994f3_row4_col3\" class=\"data row4 col3\" >True</td>\n",
       "      <td id=\"T_994f3_row4_col4\" class=\"data row4 col4\" >True</td>\n",
       "      <td id=\"T_994f3_row4_col5\" class=\"data row4 col5\" >True</td>\n",
       "      <td id=\"T_994f3_row4_col6\" class=\"data row4 col6\" >True</td>\n",
       "      <td id=\"T_994f3_row4_col7\" class=\"data row4 col7\" >True</td>\n",
       "      <td id=\"T_994f3_row4_col8\" class=\"data row4 col8\" >True</td>\n",
       "    </tr>\n",
       "    <tr>\n",
       "      <th id=\"T_994f3_level0_row5\" class=\"row_heading level0 row5\" >2000-01-04 05:00:00</th>\n",
       "      <td id=\"T_994f3_row5_col0\" class=\"data row5 col0\" >False</td>\n",
       "      <td id=\"T_994f3_row5_col1\" class=\"data row5 col1\" >True</td>\n",
       "      <td id=\"T_994f3_row5_col2\" class=\"data row5 col2\" >True</td>\n",
       "      <td id=\"T_994f3_row5_col3\" class=\"data row5 col3\" >True</td>\n",
       "      <td id=\"T_994f3_row5_col4\" class=\"data row5 col4\" >True</td>\n",
       "      <td id=\"T_994f3_row5_col5\" class=\"data row5 col5\" >True</td>\n",
       "      <td id=\"T_994f3_row5_col6\" class=\"data row5 col6\" >True</td>\n",
       "      <td id=\"T_994f3_row5_col7\" class=\"data row5 col7\" >True</td>\n",
       "      <td id=\"T_994f3_row5_col8\" class=\"data row5 col8\" >True</td>\n",
       "    </tr>\n",
       "    <tr>\n",
       "      <th id=\"T_994f3_level0_row6\" class=\"row_heading level0 row6\" >2000-01-04 05:30:00</th>\n",
       "      <td id=\"T_994f3_row6_col0\" class=\"data row6 col0\" >False</td>\n",
       "      <td id=\"T_994f3_row6_col1\" class=\"data row6 col1\" >True</td>\n",
       "      <td id=\"T_994f3_row6_col2\" class=\"data row6 col2\" >True</td>\n",
       "      <td id=\"T_994f3_row6_col3\" class=\"data row6 col3\" >True</td>\n",
       "      <td id=\"T_994f3_row6_col4\" class=\"data row6 col4\" >True</td>\n",
       "      <td id=\"T_994f3_row6_col5\" class=\"data row6 col5\" >True</td>\n",
       "      <td id=\"T_994f3_row6_col6\" class=\"data row6 col6\" >True</td>\n",
       "      <td id=\"T_994f3_row6_col7\" class=\"data row6 col7\" >True</td>\n",
       "      <td id=\"T_994f3_row6_col8\" class=\"data row6 col8\" >True</td>\n",
       "    </tr>\n",
       "    <tr>\n",
       "      <th id=\"T_994f3_level0_row7\" class=\"row_heading level0 row7\" >2000-01-04 06:00:00</th>\n",
       "      <td id=\"T_994f3_row7_col0\" class=\"data row7 col0\" >False</td>\n",
       "      <td id=\"T_994f3_row7_col1\" class=\"data row7 col1\" >True</td>\n",
       "      <td id=\"T_994f3_row7_col2\" class=\"data row7 col2\" >True</td>\n",
       "      <td id=\"T_994f3_row7_col3\" class=\"data row7 col3\" >True</td>\n",
       "      <td id=\"T_994f3_row7_col4\" class=\"data row7 col4\" >True</td>\n",
       "      <td id=\"T_994f3_row7_col5\" class=\"data row7 col5\" >True</td>\n",
       "      <td id=\"T_994f3_row7_col6\" class=\"data row7 col6\" >True</td>\n",
       "      <td id=\"T_994f3_row7_col7\" class=\"data row7 col7\" >True</td>\n",
       "      <td id=\"T_994f3_row7_col8\" class=\"data row7 col8\" >True</td>\n",
       "    </tr>\n",
       "    <tr>\n",
       "      <th id=\"T_994f3_level0_row8\" class=\"row_heading level0 row8\" >2000-01-04 06:30:00</th>\n",
       "      <td id=\"T_994f3_row8_col0\" class=\"data row8 col0\" >False</td>\n",
       "      <td id=\"T_994f3_row8_col1\" class=\"data row8 col1\" >True</td>\n",
       "      <td id=\"T_994f3_row8_col2\" class=\"data row8 col2\" >True</td>\n",
       "      <td id=\"T_994f3_row8_col3\" class=\"data row8 col3\" >True</td>\n",
       "      <td id=\"T_994f3_row8_col4\" class=\"data row8 col4\" >True</td>\n",
       "      <td id=\"T_994f3_row8_col5\" class=\"data row8 col5\" >True</td>\n",
       "      <td id=\"T_994f3_row8_col6\" class=\"data row8 col6\" >True</td>\n",
       "      <td id=\"T_994f3_row8_col7\" class=\"data row8 col7\" >True</td>\n",
       "      <td id=\"T_994f3_row8_col8\" class=\"data row8 col8\" >True</td>\n",
       "    </tr>\n",
       "    <tr>\n",
       "      <th id=\"T_994f3_level0_row9\" class=\"row_heading level0 row9\" >2000-01-04 07:00:00</th>\n",
       "      <td id=\"T_994f3_row9_col0\" class=\"data row9 col0\" >False</td>\n",
       "      <td id=\"T_994f3_row9_col1\" class=\"data row9 col1\" >True</td>\n",
       "      <td id=\"T_994f3_row9_col2\" class=\"data row9 col2\" >True</td>\n",
       "      <td id=\"T_994f3_row9_col3\" class=\"data row9 col3\" >True</td>\n",
       "      <td id=\"T_994f3_row9_col4\" class=\"data row9 col4\" >True</td>\n",
       "      <td id=\"T_994f3_row9_col5\" class=\"data row9 col5\" >True</td>\n",
       "      <td id=\"T_994f3_row9_col6\" class=\"data row9 col6\" >True</td>\n",
       "      <td id=\"T_994f3_row9_col7\" class=\"data row9 col7\" >True</td>\n",
       "      <td id=\"T_994f3_row9_col8\" class=\"data row9 col8\" >True</td>\n",
       "    </tr>\n",
       "  </tbody>\n",
       "</table>\n",
       " </div></div>"
      ],
      "text/plain": [
       "<IPython.core.display.HTML object>"
      ]
     },
     "metadata": {},
     "output_type": "display_data"
    }
   ],
   "source": [
    "display_as_row({'pred': pred[45:55],'data': targ.data[45:55], 'mask': targ.mask[45:55]}, hide_idx=False)"
   ]
  },
  {
   "cell_type": "markdown",
   "id": "15426a29-71ee-4f20-861c-9d7be253154a",
   "metadata": {},
   "source": [
    "### MDS"
   ]
  },
  {
   "cell_type": "markdown",
   "id": "dde92540-7749-4056-9926-98e337beba81",
   "metadata": {},
   "source": [
    "Need to call R from python"
   ]
  },
  {
   "cell_type": "code",
   "execution_count": null,
   "id": "62712f16-a8c3-4574-bbfe-70af9d240a2e",
   "metadata": {},
   "outputs": [],
   "source": [
    "#| export\n",
    "import rpy2.robjects\n",
    "from rpy2.robjects import r\n",
    "import rpy2.robjects as ro\n",
    "from rpy2.robjects.packages import importr\n",
    "from rpy2.robjects import pandas2ri"
   ]
  },
  {
   "cell_type": "code",
   "execution_count": null,
   "id": "772d60f9-e65e-4c87-af29-e0f1c024f817",
   "metadata": {},
   "outputs": [
    {
     "name": "stdout",
     "output_type": "stream",
     "text": [
      "[1] \"here::here(\\\"R/REddyProc_tools.R\\\")\"\n"
     ]
    },
    {
     "data": {
      "text/html": [
       "\n",
       "        <span>StrVector with 1 elements.</span>\n",
       "        <table>\n",
       "        <tbody>\n",
       "          <tr>\n",
       "          \n",
       "            <td>\n",
       "            'here::here(\"R/REddyProc_tools.R\")'\n",
       "            </td>\n",
       "          \n",
       "          </tr>\n",
       "        </tbody>\n",
       "        </table>\n",
       "        "
      ],
      "text/plain": [
       "<rpy2.robjects.vectors.StrVector object> [RTYPES.STRSXP]\n",
       "R classes: ('character',)\n",
       "['here::here(\"R/REddyProc_tools.R\")']"
      ]
     },
     "execution_count": null,
     "metadata": {},
     "output_type": "execute_result"
    }
   ],
   "source": [
    "r.print('here::here(\"R/REddyProc_tools.R\")')"
   ]
  },
  {
   "cell_type": "code",
   "execution_count": null,
   "id": "8d91ab42-5d3a-4f59-b063-860299be2ff5",
   "metadata": {},
   "outputs": [],
   "source": [
    "#| export\n",
    "path_r = str(here(\"R/REddyProc_tools.R\"))\n",
    "\n",
    "r.source(path_r);"
   ]
  },
  {
   "cell_type": "code",
   "execution_count": null,
   "id": "b789ee98-32d2-4b3f-9afe-d629d95ca43f",
   "metadata": {},
   "outputs": [],
   "source": [
    "#| export\n",
    "def importr_install(pkg):\n",
    "    try:\n",
    "        importr(pkg)\n",
    "    except:\n",
    "        utils = importr('utils')\n",
    "        utils.chooseCRANmirror(ind=1)\n",
    "        utils.install_packages(pkg)\n",
    "        importr(pkg) "
   ]
  },
  {
   "cell_type": "code",
   "execution_count": null,
   "id": "002ab9a8-5e5e-4519-b25e-2e5e8b4b3273",
   "metadata": {},
   "outputs": [],
   "source": [
    "#| export\n",
    "def setupR():\n",
    "    importr_install('tidyverse')\n",
    "    importr_install('REddyProc')\n",
    "    importr('lubridate')\n",
    "    path_r = str(here(\"R/REddyProc_tools.R\"))\n",
    "    r.source(path_r) # R functions\n",
    "    r(\"\"\"toR_timestamp <- function(x){\n",
    "   x$TIMESTAMP_END = as_datetime(x$TIMESTAMP_END) \n",
    "    x\n",
    "     }\"\"\")"
   ]
  },
  {
   "cell_type": "code",
   "execution_count": null,
   "id": "e05f2b0e-b123-4220-a644-d5ca15e90c7d",
   "metadata": {},
   "outputs": [],
   "source": [
    "#| export\n",
    "def pd2R(x):\n",
    "    with ro.default_converter + pandas2ri.converter:\n",
    "        return ro.conversion.py2rpy(x) \n",
    "\n",
    "def R2pd(x):\n",
    "    with ro.default_converter + pandas2ri.converter:\n",
    "        return ro.conversion.rpy2py(x) "
   ]
  },
  {
   "cell_type": "code",
   "execution_count": null,
   "id": "4c5934c1-a4d7-49ae-988d-998ace0bc3e1",
   "metadata": {},
   "outputs": [],
   "source": [
    "#| export\n",
    "setupR() #start the R process and load depenencies"
   ]
  },
  {
   "cell_type": "markdown",
   "id": "48afc4c4-1199-410d-a822-005e776c6edb",
   "metadata": {},
   "source": [
    "#### Experiment"
   ]
  },
  {
   "cell_type": "markdown",
   "id": "04b78361-7f3b-4ed7-acaa-eb679ad08468",
   "metadata": {},
   "source": [
    "The time series needs to be at least 90 days long, we we add 45 days before and after the gap"
   ]
  },
  {
   "cell_type": "markdown",
   "id": "26ef1cce-13a2-40db-87ad-cd03e1ebf664",
   "metadata": {},
   "source": [
    "There is a problem with conversions of timestamps between R and Python, so convert to string in Python and then back to datetime in R"
   ]
  },
  {
   "cell_type": "code",
   "execution_count": null,
   "id": "52b6d28f-c241-4b9d-8b05-789fa3388b98",
   "metadata": {},
   "outputs": [],
   "source": [
    "#| export\n",
    "def add_buffer(index, inner_index, n):\n",
    "    \"\"\"Adds  a buffer of after and after index so length is at least \"\"\"\n",
    "    start = int(np.argwhere(index == inner_index[0]).squeeze())\n",
    "    end = int(np.argwhere(index == inner_index[-1]).squeeze())\n",
    "    start = start - n //2\n",
    "    end = end + n//2\n",
    "    if start < 0:\n",
    "        end += -start\n",
    "        start = 0\n",
    "    if end > len(index):\n",
    "        start -= end - len(index)\n",
    "        end = len(index)\n",
    "    \n",
    "    index = index[start:end]\n",
    "    \n",
    "    assert len(index) > n\n",
    "    \n",
    "    return index"
   ]
  },
  {
   "cell_type": "code",
   "execution_count": null,
   "id": "1d07a0c7-3464-4f68-8d96-389f3021e7c6",
   "metadata": {},
   "outputs": [],
   "source": [
    "add_buffer(hai.index, hai.index[:100], 50)\n",
    "add_buffer(hai.index, hai.index[-50:], 50);"
   ]
  },
  {
   "cell_type": "code",
   "execution_count": null,
   "id": "64ce30ae-7903-4d1c-8b93-6df8648d385c",
   "metadata": {},
   "outputs": [],
   "source": [
    "#| export\n",
    "def item2REddy(item, var, df):\n",
    "    \" Add context around item for supporting REddyProc\"\n",
    "    index = add_buffer(df.index, item.data.index, 90 * 24 * 2)\n",
    "    REddy_df = df.loc[index].assign(gap = (~item.mask[var]).astype(int)).fillna({'gap': 0})\n",
    "    return REddy_df.reset_index().astype({'time': str}).rename(columns={'time': 'TIMESTAMP_END'})"
   ]
  },
  {
   "cell_type": "code",
   "execution_count": null,
   "id": "4bd9ea90-b53e-4eb8-9841-062e69af670a",
   "metadata": {},
   "outputs": [
    {
     "name": "stderr",
     "output_type": "stream",
     "text": [
      "R[write to console]: New sEddyProc class for site 'ID'\n",
      "\n",
      "R[write to console]: Initialized variable 'TA' with 10 real gaps for gap filling.\n",
      "\n",
      "R[write to console]: Limited MDS algorithm for gap filling of 'TA.gap_0' with LUT(SW_IN only) and MDC.\n",
      "\n",
      "R[write to console]: Look up table with window size of 7 days with SW_IN\n",
      "\n",
      "R[write to console]: 10\n",
      "\n",
      "R[write to console]: Finished gap filling of 'TA' in 0 seconds. Artificial gaps filled: 4419, real gaps filled: 10, unfilled (long) gaps: 0.\n",
      "\n"
     ]
    }
   ],
   "source": [
    "REddy_df = item2REddy(targ, 'TA', hai)\n",
    "\n",
    "REddy_df_r = r.toR_timestamp(pd2R(REddy_df))\n",
    "\n",
    "filled = R2pd(r.fill_gaps_EProc(REddy_df_r, \"TA\"))"
   ]
  },
  {
   "cell_type": "code",
   "execution_count": null,
   "id": "e3b08771-7958-4eeb-9054-4311571f8fd7",
   "metadata": {},
   "outputs": [
    {
     "data": {
      "text/html": [
       "<div>\n",
       "<style scoped>\n",
       "    .dataframe tbody tr th:only-of-type {\n",
       "        vertical-align: middle;\n",
       "    }\n",
       "\n",
       "    .dataframe tbody tr th {\n",
       "        vertical-align: top;\n",
       "    }\n",
       "\n",
       "    .dataframe thead th {\n",
       "        text-align: right;\n",
       "    }\n",
       "</style>\n",
       "<table border=\"1\" class=\"dataframe\">\n",
       "  <thead>\n",
       "    <tr style=\"text-align: right;\">\n",
       "      <th></th>\n",
       "      <th>TA_orig</th>\n",
       "      <th>TA_f</th>\n",
       "      <th>TA_fqc</th>\n",
       "      <th>TA_fall</th>\n",
       "      <th>TA_fall_qc</th>\n",
       "      <th>TA_fnum</th>\n",
       "      <th>TA_fsd</th>\n",
       "      <th>TA_fmeth</th>\n",
       "      <th>TA_fwin</th>\n",
       "    </tr>\n",
       "  </thead>\n",
       "  <tbody>\n",
       "    <tr>\n",
       "      <th>1</th>\n",
       "      <td>-0.60</td>\n",
       "      <td>-0.60</td>\n",
       "      <td>0.0</td>\n",
       "      <td>-0.60</td>\n",
       "      <td>NaN</td>\n",
       "      <td>NaN</td>\n",
       "      <td>NaN</td>\n",
       "      <td>NaN</td>\n",
       "      <td>NaN</td>\n",
       "    </tr>\n",
       "    <tr>\n",
       "      <th>2</th>\n",
       "      <td>-0.65</td>\n",
       "      <td>-0.65</td>\n",
       "      <td>0.0</td>\n",
       "      <td>-0.65</td>\n",
       "      <td>NaN</td>\n",
       "      <td>NaN</td>\n",
       "      <td>NaN</td>\n",
       "      <td>NaN</td>\n",
       "      <td>NaN</td>\n",
       "    </tr>\n",
       "    <tr>\n",
       "      <th>3</th>\n",
       "      <td>-0.58</td>\n",
       "      <td>-0.58</td>\n",
       "      <td>0.0</td>\n",
       "      <td>-0.58</td>\n",
       "      <td>NaN</td>\n",
       "      <td>NaN</td>\n",
       "      <td>NaN</td>\n",
       "      <td>NaN</td>\n",
       "      <td>NaN</td>\n",
       "    </tr>\n",
       "    <tr>\n",
       "      <th>4</th>\n",
       "      <td>-0.51</td>\n",
       "      <td>-0.51</td>\n",
       "      <td>0.0</td>\n",
       "      <td>-0.51</td>\n",
       "      <td>NaN</td>\n",
       "      <td>NaN</td>\n",
       "      <td>NaN</td>\n",
       "      <td>NaN</td>\n",
       "      <td>NaN</td>\n",
       "    </tr>\n",
       "    <tr>\n",
       "      <th>5</th>\n",
       "      <td>-0.49</td>\n",
       "      <td>-0.49</td>\n",
       "      <td>0.0</td>\n",
       "      <td>-0.49</td>\n",
       "      <td>NaN</td>\n",
       "      <td>NaN</td>\n",
       "      <td>NaN</td>\n",
       "      <td>NaN</td>\n",
       "      <td>NaN</td>\n",
       "    </tr>\n",
       "    <tr>\n",
       "      <th>...</th>\n",
       "      <td>...</td>\n",
       "      <td>...</td>\n",
       "      <td>...</td>\n",
       "      <td>...</td>\n",
       "      <td>...</td>\n",
       "      <td>...</td>\n",
       "      <td>...</td>\n",
       "      <td>...</td>\n",
       "      <td>...</td>\n",
       "    </tr>\n",
       "    <tr>\n",
       "      <th>4415</th>\n",
       "      <td>3.30</td>\n",
       "      <td>3.30</td>\n",
       "      <td>0.0</td>\n",
       "      <td>3.30</td>\n",
       "      <td>NaN</td>\n",
       "      <td>NaN</td>\n",
       "      <td>NaN</td>\n",
       "      <td>NaN</td>\n",
       "      <td>NaN</td>\n",
       "    </tr>\n",
       "    <tr>\n",
       "      <th>4416</th>\n",
       "      <td>3.10</td>\n",
       "      <td>3.10</td>\n",
       "      <td>0.0</td>\n",
       "      <td>3.10</td>\n",
       "      <td>NaN</td>\n",
       "      <td>NaN</td>\n",
       "      <td>NaN</td>\n",
       "      <td>NaN</td>\n",
       "      <td>NaN</td>\n",
       "    </tr>\n",
       "    <tr>\n",
       "      <th>4417</th>\n",
       "      <td>3.05</td>\n",
       "      <td>3.05</td>\n",
       "      <td>0.0</td>\n",
       "      <td>3.05</td>\n",
       "      <td>NaN</td>\n",
       "      <td>NaN</td>\n",
       "      <td>NaN</td>\n",
       "      <td>NaN</td>\n",
       "      <td>NaN</td>\n",
       "    </tr>\n",
       "    <tr>\n",
       "      <th>4418</th>\n",
       "      <td>3.05</td>\n",
       "      <td>3.05</td>\n",
       "      <td>0.0</td>\n",
       "      <td>3.05</td>\n",
       "      <td>NaN</td>\n",
       "      <td>NaN</td>\n",
       "      <td>NaN</td>\n",
       "      <td>NaN</td>\n",
       "      <td>NaN</td>\n",
       "    </tr>\n",
       "    <tr>\n",
       "      <th>4419</th>\n",
       "      <td>3.05</td>\n",
       "      <td>3.05</td>\n",
       "      <td>0.0</td>\n",
       "      <td>3.05</td>\n",
       "      <td>NaN</td>\n",
       "      <td>NaN</td>\n",
       "      <td>NaN</td>\n",
       "      <td>NaN</td>\n",
       "      <td>NaN</td>\n",
       "    </tr>\n",
       "  </tbody>\n",
       "</table>\n",
       "<p>4419 rows × 9 columns</p>\n",
       "</div>"
      ],
      "text/plain": [
       "      TA_orig  TA_f  TA_fqc  TA_fall  TA_fall_qc  TA_fnum  TA_fsd  TA_fmeth  \\\n",
       "1       -0.60 -0.60     0.0    -0.60         NaN      NaN     NaN       NaN   \n",
       "2       -0.65 -0.65     0.0    -0.65         NaN      NaN     NaN       NaN   \n",
       "3       -0.58 -0.58     0.0    -0.58         NaN      NaN     NaN       NaN   \n",
       "4       -0.51 -0.51     0.0    -0.51         NaN      NaN     NaN       NaN   \n",
       "5       -0.49 -0.49     0.0    -0.49         NaN      NaN     NaN       NaN   \n",
       "...       ...   ...     ...      ...         ...      ...     ...       ...   \n",
       "4415     3.30  3.30     0.0     3.30         NaN      NaN     NaN       NaN   \n",
       "4416     3.10  3.10     0.0     3.10         NaN      NaN     NaN       NaN   \n",
       "4417     3.05  3.05     0.0     3.05         NaN      NaN     NaN       NaN   \n",
       "4418     3.05  3.05     0.0     3.05         NaN      NaN     NaN       NaN   \n",
       "4419     3.05  3.05     0.0     3.05         NaN      NaN     NaN       NaN   \n",
       "\n",
       "      TA_fwin  \n",
       "1         NaN  \n",
       "2         NaN  \n",
       "3         NaN  \n",
       "4         NaN  \n",
       "5         NaN  \n",
       "...       ...  \n",
       "4415      NaN  \n",
       "4416      NaN  \n",
       "4417      NaN  \n",
       "4418      NaN  \n",
       "4419      NaN  \n",
       "\n",
       "[4419 rows x 9 columns]"
      ]
     },
     "execution_count": null,
     "metadata": {},
     "output_type": "execute_result"
    }
   ],
   "source": [
    "filled"
   ]
  },
  {
   "cell_type": "code",
   "execution_count": null,
   "id": "3631bbb3-271f-4d9b-bd1d-c9e672fa5b69",
   "metadata": {},
   "outputs": [
    {
     "data": {
      "text/html": [
       "<div>\n",
       "<style scoped>\n",
       "    .dataframe tbody tr th:only-of-type {\n",
       "        vertical-align: middle;\n",
       "    }\n",
       "\n",
       "    .dataframe tbody tr th {\n",
       "        vertical-align: top;\n",
       "    }\n",
       "\n",
       "    .dataframe thead th {\n",
       "        text-align: right;\n",
       "    }\n",
       "</style>\n",
       "<table border=\"1\" class=\"dataframe\">\n",
       "  <thead>\n",
       "    <tr style=\"text-align: right;\">\n",
       "      <th></th>\n",
       "      <th>TA</th>\n",
       "      <th>SW_IN</th>\n",
       "      <th>LW_IN</th>\n",
       "      <th>VPD</th>\n",
       "      <th>WS</th>\n",
       "      <th>PA</th>\n",
       "      <th>P</th>\n",
       "      <th>SWC</th>\n",
       "      <th>TS</th>\n",
       "      <th>gap</th>\n",
       "    </tr>\n",
       "    <tr>\n",
       "      <th>TIMESTAMP_END</th>\n",
       "      <th></th>\n",
       "      <th></th>\n",
       "      <th></th>\n",
       "      <th></th>\n",
       "      <th></th>\n",
       "      <th></th>\n",
       "      <th></th>\n",
       "      <th></th>\n",
       "      <th></th>\n",
       "      <th></th>\n",
       "    </tr>\n",
       "  </thead>\n",
       "  <tbody>\n",
       "    <tr>\n",
       "      <th>2000-01-01 00:30:00</th>\n",
       "      <td>-0.60</td>\n",
       "      <td>0.0</td>\n",
       "      <td>302.475</td>\n",
       "      <td>0.222</td>\n",
       "      <td>2.05</td>\n",
       "      <td>96.63</td>\n",
       "      <td>0.0</td>\n",
       "      <td>43.00</td>\n",
       "      <td>1.44</td>\n",
       "      <td>0.0</td>\n",
       "    </tr>\n",
       "    <tr>\n",
       "      <th>2000-01-01 01:00:00</th>\n",
       "      <td>-0.65</td>\n",
       "      <td>0.0</td>\n",
       "      <td>302.475</td>\n",
       "      <td>0.122</td>\n",
       "      <td>2.53</td>\n",
       "      <td>96.58</td>\n",
       "      <td>0.0</td>\n",
       "      <td>43.00</td>\n",
       "      <td>1.43</td>\n",
       "      <td>0.0</td>\n",
       "    </tr>\n",
       "    <tr>\n",
       "      <th>2000-01-01 01:30:00</th>\n",
       "      <td>-0.58</td>\n",
       "      <td>0.0</td>\n",
       "      <td>301.677</td>\n",
       "      <td>0.090</td>\n",
       "      <td>3.15</td>\n",
       "      <td>96.56</td>\n",
       "      <td>0.0</td>\n",
       "      <td>43.00</td>\n",
       "      <td>1.43</td>\n",
       "      <td>0.0</td>\n",
       "    </tr>\n",
       "    <tr>\n",
       "      <th>2000-01-01 02:00:00</th>\n",
       "      <td>-0.51</td>\n",
       "      <td>0.0</td>\n",
       "      <td>301.677</td>\n",
       "      <td>0.110</td>\n",
       "      <td>3.12</td>\n",
       "      <td>96.56</td>\n",
       "      <td>0.0</td>\n",
       "      <td>43.00</td>\n",
       "      <td>1.45</td>\n",
       "      <td>0.0</td>\n",
       "    </tr>\n",
       "    <tr>\n",
       "      <th>2000-01-01 02:30:00</th>\n",
       "      <td>-0.49</td>\n",
       "      <td>0.0</td>\n",
       "      <td>301.677</td>\n",
       "      <td>0.102</td>\n",
       "      <td>3.04</td>\n",
       "      <td>96.57</td>\n",
       "      <td>0.0</td>\n",
       "      <td>43.00</td>\n",
       "      <td>1.44</td>\n",
       "      <td>0.0</td>\n",
       "    </tr>\n",
       "    <tr>\n",
       "      <th>...</th>\n",
       "      <td>...</td>\n",
       "      <td>...</td>\n",
       "      <td>...</td>\n",
       "      <td>...</td>\n",
       "      <td>...</td>\n",
       "      <td>...</td>\n",
       "      <td>...</td>\n",
       "      <td>...</td>\n",
       "      <td>...</td>\n",
       "      <td>...</td>\n",
       "    </tr>\n",
       "    <tr>\n",
       "      <th>2000-04-01 23:30:00</th>\n",
       "      <td>3.30</td>\n",
       "      <td>0.0</td>\n",
       "      <td>283.856</td>\n",
       "      <td>1.092</td>\n",
       "      <td>2.50</td>\n",
       "      <td>95.06</td>\n",
       "      <td>0.0</td>\n",
       "      <td>44.96</td>\n",
       "      <td>4.32</td>\n",
       "      <td>0.0</td>\n",
       "    </tr>\n",
       "    <tr>\n",
       "      <th>2000-04-02 00:00:00</th>\n",
       "      <td>3.10</td>\n",
       "      <td>0.0</td>\n",
       "      <td>283.856</td>\n",
       "      <td>1.013</td>\n",
       "      <td>2.09</td>\n",
       "      <td>95.04</td>\n",
       "      <td>0.0</td>\n",
       "      <td>44.96</td>\n",
       "      <td>4.22</td>\n",
       "      <td>0.0</td>\n",
       "    </tr>\n",
       "    <tr>\n",
       "      <th>2000-04-02 00:30:00</th>\n",
       "      <td>3.05</td>\n",
       "      <td>0.0</td>\n",
       "      <td>283.856</td>\n",
       "      <td>0.964</td>\n",
       "      <td>2.42</td>\n",
       "      <td>95.04</td>\n",
       "      <td>0.0</td>\n",
       "      <td>44.96</td>\n",
       "      <td>4.13</td>\n",
       "      <td>0.0</td>\n",
       "    </tr>\n",
       "    <tr>\n",
       "      <th>2000-04-02 01:00:00</th>\n",
       "      <td>3.05</td>\n",
       "      <td>0.0</td>\n",
       "      <td>283.856</td>\n",
       "      <td>0.933</td>\n",
       "      <td>3.04</td>\n",
       "      <td>95.04</td>\n",
       "      <td>0.0</td>\n",
       "      <td>44.96</td>\n",
       "      <td>4.04</td>\n",
       "      <td>0.0</td>\n",
       "    </tr>\n",
       "    <tr>\n",
       "      <th>2000-04-02 01:30:00</th>\n",
       "      <td>3.05</td>\n",
       "      <td>0.0</td>\n",
       "      <td>251.387</td>\n",
       "      <td>0.930</td>\n",
       "      <td>2.96</td>\n",
       "      <td>95.03</td>\n",
       "      <td>0.0</td>\n",
       "      <td>44.95</td>\n",
       "      <td>3.94</td>\n",
       "      <td>0.0</td>\n",
       "    </tr>\n",
       "  </tbody>\n",
       "</table>\n",
       "<p>4419 rows × 10 columns</p>\n",
       "</div>"
      ],
      "text/plain": [
       "                       TA  SW_IN    LW_IN    VPD    WS     PA    P    SWC  \\\n",
       "TIMESTAMP_END                                                               \n",
       "2000-01-01 00:30:00 -0.60    0.0  302.475  0.222  2.05  96.63  0.0  43.00   \n",
       "2000-01-01 01:00:00 -0.65    0.0  302.475  0.122  2.53  96.58  0.0  43.00   \n",
       "2000-01-01 01:30:00 -0.58    0.0  301.677  0.090  3.15  96.56  0.0  43.00   \n",
       "2000-01-01 02:00:00 -0.51    0.0  301.677  0.110  3.12  96.56  0.0  43.00   \n",
       "2000-01-01 02:30:00 -0.49    0.0  301.677  0.102  3.04  96.57  0.0  43.00   \n",
       "...                   ...    ...      ...    ...   ...    ...  ...    ...   \n",
       "2000-04-01 23:30:00  3.30    0.0  283.856  1.092  2.50  95.06  0.0  44.96   \n",
       "2000-04-02 00:00:00  3.10    0.0  283.856  1.013  2.09  95.04  0.0  44.96   \n",
       "2000-04-02 00:30:00  3.05    0.0  283.856  0.964  2.42  95.04  0.0  44.96   \n",
       "2000-04-02 01:00:00  3.05    0.0  283.856  0.933  3.04  95.04  0.0  44.96   \n",
       "2000-04-02 01:30:00  3.05    0.0  251.387  0.930  2.96  95.03  0.0  44.95   \n",
       "\n",
       "                       TS  gap  \n",
       "TIMESTAMP_END                   \n",
       "2000-01-01 00:30:00  1.44  0.0  \n",
       "2000-01-01 01:00:00  1.43  0.0  \n",
       "2000-01-01 01:30:00  1.43  0.0  \n",
       "2000-01-01 02:00:00  1.45  0.0  \n",
       "2000-01-01 02:30:00  1.44  0.0  \n",
       "...                   ...  ...  \n",
       "2000-04-01 23:30:00  4.32  0.0  \n",
       "2000-04-02 00:00:00  4.22  0.0  \n",
       "2000-04-02 00:30:00  4.13  0.0  \n",
       "2000-04-02 01:00:00  4.04  0.0  \n",
       "2000-04-02 01:30:00  3.94  0.0  \n",
       "\n",
       "[4419 rows x 10 columns]"
      ]
     },
     "execution_count": null,
     "metadata": {},
     "output_type": "execute_result"
    }
   ],
   "source": [
    "REddy_df.set_index(\"TIMESTAMP_END\") "
   ]
  },
  {
   "cell_type": "code",
   "execution_count": null,
   "id": "a31fc470-d062-40c8-bde6-456da43a87b0",
   "metadata": {},
   "outputs": [],
   "source": [
    "filled = filled.set_index(pd.to_datetime(REddy_df.TIMESTAMP_END))\n",
    "\n",
    "filled_item = filled.loc[targ.data.index]\n",
    "\n",
    "pred = targ.data.copy()\n",
    "pred.loc[~targ.mask[\"TA\"], \"TA\"] = filled_item[\"TA_f\"][~targ.mask[\"TA\"]]"
   ]
  },
  {
   "cell_type": "code",
   "execution_count": null,
   "id": "2f8b323a-b6e0-49ac-b98c-89f8e4e105fd",
   "metadata": {},
   "outputs": [
    {
     "data": {
      "text/plain": [
       "(                           TA  SW_IN    LW_IN    VPD    WS     PA     P  \\\n",
       " time                                                                      \n",
       " 2000-01-04 02:30:00  1.853612    0.0  304.731  0.952  5.39  96.30  0.00   \n",
       " 2000-01-04 03:00:00  1.837083    0.0  304.731  0.971  5.59  96.30  0.00   \n",
       " 2000-01-04 03:30:00  1.823985    0.0  304.731  0.958  5.67  96.29  0.00   \n",
       " 2000-01-04 04:00:00  1.809805    0.0  304.731  0.938  6.61  96.26  0.00   \n",
       " 2000-01-04 04:30:00  1.794282    0.0  315.005  0.785  6.65  96.26  0.00   \n",
       " 2000-01-04 05:00:00  1.783447    0.0  315.005  0.529  6.12  96.27  0.00   \n",
       " 2000-01-04 05:30:00  1.771525    0.0  315.005  0.450  5.58  96.26  0.29   \n",
       " 2000-01-04 06:00:00  1.760362    0.0  315.005  0.499  4.70  96.25  0.00   \n",
       " 2000-01-04 06:30:00  1.748410    0.0  315.005  0.382  5.07  96.23  0.00   \n",
       " 2000-01-04 07:00:00  1.737933    0.0  315.005  0.313  5.23  96.24  0.00   \n",
       " \n",
       "                        SWC    TS  \n",
       " time                              \n",
       " 2000-01-04 02:30:00  43.08  1.31  \n",
       " 2000-01-04 03:00:00  43.08  1.31  \n",
       " 2000-01-04 03:30:00  43.08  1.31  \n",
       " 2000-01-04 04:00:00  43.08  1.31  \n",
       " 2000-01-04 04:30:00  43.08  1.31  \n",
       " 2000-01-04 05:00:00  43.08  1.30  \n",
       " 2000-01-04 05:30:00  43.13  1.30  \n",
       " 2000-01-04 06:00:00  43.13  1.29  \n",
       " 2000-01-04 06:30:00  43.13  1.29  \n",
       " 2000-01-04 07:00:00  43.13  1.29  ,\n",
       "                        TA  SW_IN    LW_IN    VPD    WS     PA     P    SWC  \\\n",
       " time                                                                         \n",
       " 2000-01-04 02:30:00  2.19    0.0  304.731  0.952  5.39  96.30  0.00  43.08   \n",
       " 2000-01-04 03:00:00  2.27    0.0  304.731  0.971  5.59  96.30  0.00  43.08   \n",
       " 2000-01-04 03:30:00  2.32    0.0  304.731  0.958  5.67  96.29  0.00  43.08   \n",
       " 2000-01-04 04:00:00  2.34    0.0  304.731  0.938  6.61  96.26  0.00  43.08   \n",
       " 2000-01-04 04:30:00  2.24    0.0  315.005  0.785  6.65  96.26  0.00  43.08   \n",
       " 2000-01-04 05:00:00  2.00    0.0  315.005  0.529  6.12  96.27  0.00  43.08   \n",
       " 2000-01-04 05:30:00  1.94    0.0  315.005  0.450  5.58  96.26  0.29  43.13   \n",
       " 2000-01-04 06:00:00  2.07    0.0  315.005  0.499  4.70  96.25  0.00  43.13   \n",
       " 2000-01-04 06:30:00  2.04    0.0  315.005  0.382  5.07  96.23  0.00  43.13   \n",
       " 2000-01-04 07:00:00  2.03    0.0  315.005  0.313  5.23  96.24  0.00  43.13   \n",
       " \n",
       "                        TS  \n",
       " time                       \n",
       " 2000-01-04 02:30:00  1.31  \n",
       " 2000-01-04 03:00:00  1.31  \n",
       " 2000-01-04 03:30:00  1.31  \n",
       " 2000-01-04 04:00:00  1.31  \n",
       " 2000-01-04 04:30:00  1.31  \n",
       " 2000-01-04 05:00:00  1.30  \n",
       " 2000-01-04 05:30:00  1.30  \n",
       " 2000-01-04 06:00:00  1.29  \n",
       " 2000-01-04 06:30:00  1.29  \n",
       " 2000-01-04 07:00:00  1.29  )"
      ]
     },
     "execution_count": null,
     "metadata": {},
     "output_type": "execute_result"
    }
   ],
   "source": [
    "pred[45:55], targ.data[45:55]"
   ]
  },
  {
   "cell_type": "code",
   "execution_count": null,
   "id": "75b45729-e810-4847-b8b6-6719b57c9498",
   "metadata": {},
   "outputs": [],
   "source": [
    "#| export\n",
    "def gap_fill_item(item, REddy_df, var, filled):\n",
    "    \n",
    "    filled = filled.set_index(pd.to_datetime(REddy_df.TIMESTAMP_END))\n",
    "    filled_item = filled.loc[item.data.index]\n",
    "\n",
    "    pred = item.data.copy()\n",
    "    pred.loc[~item.mask[var], var] = filled_item[f\"{var}_f\"][~item.mask[var]]\n",
    "    return pred"
   ]
  },
  {
   "cell_type": "code",
   "execution_count": null,
   "id": "803038c7-774b-40df-84f6-69a2085015cc",
   "metadata": {},
   "outputs": [
    {
     "data": {
      "text/html": [
       "<div>\n",
       "<style scoped>\n",
       "    .dataframe tbody tr th:only-of-type {\n",
       "        vertical-align: middle;\n",
       "    }\n",
       "\n",
       "    .dataframe tbody tr th {\n",
       "        vertical-align: top;\n",
       "    }\n",
       "\n",
       "    .dataframe thead th {\n",
       "        text-align: right;\n",
       "    }\n",
       "</style>\n",
       "<table border=\"1\" class=\"dataframe\">\n",
       "  <thead>\n",
       "    <tr style=\"text-align: right;\">\n",
       "      <th></th>\n",
       "      <th>TA</th>\n",
       "      <th>SW_IN</th>\n",
       "      <th>LW_IN</th>\n",
       "      <th>VPD</th>\n",
       "      <th>WS</th>\n",
       "      <th>PA</th>\n",
       "      <th>P</th>\n",
       "      <th>SWC</th>\n",
       "      <th>TS</th>\n",
       "    </tr>\n",
       "    <tr>\n",
       "      <th>time</th>\n",
       "      <th></th>\n",
       "      <th></th>\n",
       "      <th></th>\n",
       "      <th></th>\n",
       "      <th></th>\n",
       "      <th></th>\n",
       "      <th></th>\n",
       "      <th></th>\n",
       "      <th></th>\n",
       "    </tr>\n",
       "  </thead>\n",
       "  <tbody>\n",
       "    <tr>\n",
       "      <th>2000-01-03 04:00:00</th>\n",
       "      <td>0.81</td>\n",
       "      <td>0.0</td>\n",
       "      <td>304.148</td>\n",
       "      <td>0.000</td>\n",
       "      <td>3.53</td>\n",
       "      <td>97.00</td>\n",
       "      <td>0.0</td>\n",
       "      <td>43.09</td>\n",
       "      <td>1.37</td>\n",
       "    </tr>\n",
       "    <tr>\n",
       "      <th>2000-01-03 04:30:00</th>\n",
       "      <td>0.95</td>\n",
       "      <td>0.0</td>\n",
       "      <td>304.382</td>\n",
       "      <td>0.000</td>\n",
       "      <td>3.99</td>\n",
       "      <td>96.98</td>\n",
       "      <td>0.0</td>\n",
       "      <td>43.09</td>\n",
       "      <td>1.37</td>\n",
       "    </tr>\n",
       "    <tr>\n",
       "      <th>2000-01-03 05:00:00</th>\n",
       "      <td>1.09</td>\n",
       "      <td>0.0</td>\n",
       "      <td>304.382</td>\n",
       "      <td>0.000</td>\n",
       "      <td>3.61</td>\n",
       "      <td>96.96</td>\n",
       "      <td>0.0</td>\n",
       "      <td>43.09</td>\n",
       "      <td>1.37</td>\n",
       "    </tr>\n",
       "    <tr>\n",
       "      <th>2000-01-03 05:30:00</th>\n",
       "      <td>1.18</td>\n",
       "      <td>0.0</td>\n",
       "      <td>304.382</td>\n",
       "      <td>0.009</td>\n",
       "      <td>3.90</td>\n",
       "      <td>96.93</td>\n",
       "      <td>0.0</td>\n",
       "      <td>43.09</td>\n",
       "      <td>1.37</td>\n",
       "    </tr>\n",
       "    <tr>\n",
       "      <th>2000-01-03 06:00:00</th>\n",
       "      <td>1.35</td>\n",
       "      <td>0.0</td>\n",
       "      <td>304.382</td>\n",
       "      <td>0.061</td>\n",
       "      <td>4.17</td>\n",
       "      <td>96.91</td>\n",
       "      <td>0.0</td>\n",
       "      <td>43.09</td>\n",
       "      <td>1.38</td>\n",
       "    </tr>\n",
       "    <tr>\n",
       "      <th>...</th>\n",
       "      <td>...</td>\n",
       "      <td>...</td>\n",
       "      <td>...</td>\n",
       "      <td>...</td>\n",
       "      <td>...</td>\n",
       "      <td>...</td>\n",
       "      <td>...</td>\n",
       "      <td>...</td>\n",
       "      <td>...</td>\n",
       "    </tr>\n",
       "    <tr>\n",
       "      <th>2000-01-05 03:30:00</th>\n",
       "      <td>4.62</td>\n",
       "      <td>0.0</td>\n",
       "      <td>330.202</td>\n",
       "      <td>1.162</td>\n",
       "      <td>6.53</td>\n",
       "      <td>95.91</td>\n",
       "      <td>0.0</td>\n",
       "      <td>44.12</td>\n",
       "      <td>1.82</td>\n",
       "    </tr>\n",
       "    <tr>\n",
       "      <th>2000-01-05 04:00:00</th>\n",
       "      <td>4.51</td>\n",
       "      <td>0.0</td>\n",
       "      <td>330.202</td>\n",
       "      <td>1.636</td>\n",
       "      <td>5.76</td>\n",
       "      <td>95.94</td>\n",
       "      <td>0.0</td>\n",
       "      <td>44.12</td>\n",
       "      <td>1.85</td>\n",
       "    </tr>\n",
       "    <tr>\n",
       "      <th>2000-01-05 04:30:00</th>\n",
       "      <td>4.11</td>\n",
       "      <td>0.0</td>\n",
       "      <td>299.320</td>\n",
       "      <td>1.746</td>\n",
       "      <td>5.79</td>\n",
       "      <td>95.98</td>\n",
       "      <td>0.0</td>\n",
       "      <td>44.12</td>\n",
       "      <td>1.85</td>\n",
       "    </tr>\n",
       "    <tr>\n",
       "      <th>2000-01-05 05:00:00</th>\n",
       "      <td>3.77</td>\n",
       "      <td>0.0</td>\n",
       "      <td>299.320</td>\n",
       "      <td>2.065</td>\n",
       "      <td>6.00</td>\n",
       "      <td>96.03</td>\n",
       "      <td>0.0</td>\n",
       "      <td>44.12</td>\n",
       "      <td>1.83</td>\n",
       "    </tr>\n",
       "    <tr>\n",
       "      <th>2000-01-05 05:30:00</th>\n",
       "      <td>3.36</td>\n",
       "      <td>0.0</td>\n",
       "      <td>299.320</td>\n",
       "      <td>1.911</td>\n",
       "      <td>4.76</td>\n",
       "      <td>96.10</td>\n",
       "      <td>0.0</td>\n",
       "      <td>44.11</td>\n",
       "      <td>1.81</td>\n",
       "    </tr>\n",
       "  </tbody>\n",
       "</table>\n",
       "<p>100 rows × 9 columns</p>\n",
       "</div>"
      ],
      "text/plain": [
       "                       TA  SW_IN    LW_IN    VPD    WS     PA    P    SWC  \\\n",
       "time                                                                        \n",
       "2000-01-03 04:00:00  0.81    0.0  304.148  0.000  3.53  97.00  0.0  43.09   \n",
       "2000-01-03 04:30:00  0.95    0.0  304.382  0.000  3.99  96.98  0.0  43.09   \n",
       "2000-01-03 05:00:00  1.09    0.0  304.382  0.000  3.61  96.96  0.0  43.09   \n",
       "2000-01-03 05:30:00  1.18    0.0  304.382  0.009  3.90  96.93  0.0  43.09   \n",
       "2000-01-03 06:00:00  1.35    0.0  304.382  0.061  4.17  96.91  0.0  43.09   \n",
       "...                   ...    ...      ...    ...   ...    ...  ...    ...   \n",
       "2000-01-05 03:30:00  4.62    0.0  330.202  1.162  6.53  95.91  0.0  44.12   \n",
       "2000-01-05 04:00:00  4.51    0.0  330.202  1.636  5.76  95.94  0.0  44.12   \n",
       "2000-01-05 04:30:00  4.11    0.0  299.320  1.746  5.79  95.98  0.0  44.12   \n",
       "2000-01-05 05:00:00  3.77    0.0  299.320  2.065  6.00  96.03  0.0  44.12   \n",
       "2000-01-05 05:30:00  3.36    0.0  299.320  1.911  4.76  96.10  0.0  44.11   \n",
       "\n",
       "                       TS  \n",
       "time                       \n",
       "2000-01-03 04:00:00  1.37  \n",
       "2000-01-03 04:30:00  1.37  \n",
       "2000-01-03 05:00:00  1.37  \n",
       "2000-01-03 05:30:00  1.37  \n",
       "2000-01-03 06:00:00  1.38  \n",
       "...                   ...  \n",
       "2000-01-05 03:30:00  1.82  \n",
       "2000-01-05 04:00:00  1.85  \n",
       "2000-01-05 04:30:00  1.85  \n",
       "2000-01-05 05:00:00  1.83  \n",
       "2000-01-05 05:30:00  1.81  \n",
       "\n",
       "[100 rows x 9 columns]"
      ]
     },
     "execution_count": null,
     "metadata": {},
     "output_type": "execute_result"
    }
   ],
   "source": [
    "gap_fill_item(targ, REddy_df, \"TA\", filled)\n"
   ]
  },
  {
   "cell_type": "markdown",
   "id": "12065264-440e-4516-b7f3-c5c8fc648238",
   "metadata": {},
   "source": [
    "#### MDSImputation"
   ]
  },
  {
   "cell_type": "code",
   "execution_count": null,
   "id": "e0ea7b1c-6c13-470e-a0ee-72b5463b1e07",
   "metadata": {},
   "outputs": [],
   "source": [
    "#| export\n",
    "class MDSImputation:\n",
    "    name = \"MDS\"\n",
    "    def __init__(self, var, df):\n",
    "        store_attr()\n",
    "        self.out = io.StringIO()\n",
    "    def __call__(self, item):\n",
    "        REddy_df = item2REddy(item, self.var, self.df)\n",
    "        REddy_df_r = r.toR_timestamp(pd2R(REddy_df))\n",
    "        with redirect_stderr(self.out):\n",
    "            filled = R2pd(r.fill_gaps_EProc(REddy_df_r, self.var))\n",
    "        return gap_fill_item(item, REddy_df, self.var, filled)"
   ]
  },
  {
   "cell_type": "code",
   "execution_count": null,
   "id": "e5223797-081d-4451-affd-e02a4698b351",
   "metadata": {},
   "outputs": [],
   "source": [
    "mds_imp = MDSImputation('TA', hai)"
   ]
  },
  {
   "cell_type": "code",
   "execution_count": null,
   "id": "bed10b9e-3c27-4d44-9e68-ab73a068cb84",
   "metadata": {},
   "outputs": [
    {
     "data": {
      "text/html": [
       "<div>\n",
       "<style scoped>\n",
       "    .dataframe tbody tr th:only-of-type {\n",
       "        vertical-align: middle;\n",
       "    }\n",
       "\n",
       "    .dataframe tbody tr th {\n",
       "        vertical-align: top;\n",
       "    }\n",
       "\n",
       "    .dataframe thead th {\n",
       "        text-align: right;\n",
       "    }\n",
       "</style>\n",
       "<table border=\"1\" class=\"dataframe\">\n",
       "  <thead>\n",
       "    <tr style=\"text-align: right;\">\n",
       "      <th></th>\n",
       "      <th>TA</th>\n",
       "      <th>SW_IN</th>\n",
       "      <th>LW_IN</th>\n",
       "      <th>VPD</th>\n",
       "      <th>WS</th>\n",
       "      <th>PA</th>\n",
       "      <th>P</th>\n",
       "      <th>SWC</th>\n",
       "      <th>TS</th>\n",
       "    </tr>\n",
       "    <tr>\n",
       "      <th>time</th>\n",
       "      <th></th>\n",
       "      <th></th>\n",
       "      <th></th>\n",
       "      <th></th>\n",
       "      <th></th>\n",
       "      <th></th>\n",
       "      <th></th>\n",
       "      <th></th>\n",
       "      <th></th>\n",
       "    </tr>\n",
       "  </thead>\n",
       "  <tbody>\n",
       "    <tr>\n",
       "      <th>2000-01-03 04:00:00</th>\n",
       "      <td>0.81</td>\n",
       "      <td>0.0</td>\n",
       "      <td>304.148</td>\n",
       "      <td>0.000</td>\n",
       "      <td>3.53</td>\n",
       "      <td>97.00</td>\n",
       "      <td>0.0</td>\n",
       "      <td>43.09</td>\n",
       "      <td>1.37</td>\n",
       "    </tr>\n",
       "    <tr>\n",
       "      <th>2000-01-03 04:30:00</th>\n",
       "      <td>0.95</td>\n",
       "      <td>0.0</td>\n",
       "      <td>304.382</td>\n",
       "      <td>0.000</td>\n",
       "      <td>3.99</td>\n",
       "      <td>96.98</td>\n",
       "      <td>0.0</td>\n",
       "      <td>43.09</td>\n",
       "      <td>1.37</td>\n",
       "    </tr>\n",
       "    <tr>\n",
       "      <th>2000-01-03 05:00:00</th>\n",
       "      <td>1.09</td>\n",
       "      <td>0.0</td>\n",
       "      <td>304.382</td>\n",
       "      <td>0.000</td>\n",
       "      <td>3.61</td>\n",
       "      <td>96.96</td>\n",
       "      <td>0.0</td>\n",
       "      <td>43.09</td>\n",
       "      <td>1.37</td>\n",
       "    </tr>\n",
       "    <tr>\n",
       "      <th>2000-01-03 05:30:00</th>\n",
       "      <td>1.18</td>\n",
       "      <td>0.0</td>\n",
       "      <td>304.382</td>\n",
       "      <td>0.009</td>\n",
       "      <td>3.90</td>\n",
       "      <td>96.93</td>\n",
       "      <td>0.0</td>\n",
       "      <td>43.09</td>\n",
       "      <td>1.37</td>\n",
       "    </tr>\n",
       "    <tr>\n",
       "      <th>2000-01-03 06:00:00</th>\n",
       "      <td>1.35</td>\n",
       "      <td>0.0</td>\n",
       "      <td>304.382</td>\n",
       "      <td>0.061</td>\n",
       "      <td>4.17</td>\n",
       "      <td>96.91</td>\n",
       "      <td>0.0</td>\n",
       "      <td>43.09</td>\n",
       "      <td>1.38</td>\n",
       "    </tr>\n",
       "    <tr>\n",
       "      <th>...</th>\n",
       "      <td>...</td>\n",
       "      <td>...</td>\n",
       "      <td>...</td>\n",
       "      <td>...</td>\n",
       "      <td>...</td>\n",
       "      <td>...</td>\n",
       "      <td>...</td>\n",
       "      <td>...</td>\n",
       "      <td>...</td>\n",
       "    </tr>\n",
       "    <tr>\n",
       "      <th>2000-01-05 03:30:00</th>\n",
       "      <td>4.62</td>\n",
       "      <td>0.0</td>\n",
       "      <td>330.202</td>\n",
       "      <td>1.162</td>\n",
       "      <td>6.53</td>\n",
       "      <td>95.91</td>\n",
       "      <td>0.0</td>\n",
       "      <td>44.12</td>\n",
       "      <td>1.82</td>\n",
       "    </tr>\n",
       "    <tr>\n",
       "      <th>2000-01-05 04:00:00</th>\n",
       "      <td>4.51</td>\n",
       "      <td>0.0</td>\n",
       "      <td>330.202</td>\n",
       "      <td>1.636</td>\n",
       "      <td>5.76</td>\n",
       "      <td>95.94</td>\n",
       "      <td>0.0</td>\n",
       "      <td>44.12</td>\n",
       "      <td>1.85</td>\n",
       "    </tr>\n",
       "    <tr>\n",
       "      <th>2000-01-05 04:30:00</th>\n",
       "      <td>4.11</td>\n",
       "      <td>0.0</td>\n",
       "      <td>299.320</td>\n",
       "      <td>1.746</td>\n",
       "      <td>5.79</td>\n",
       "      <td>95.98</td>\n",
       "      <td>0.0</td>\n",
       "      <td>44.12</td>\n",
       "      <td>1.85</td>\n",
       "    </tr>\n",
       "    <tr>\n",
       "      <th>2000-01-05 05:00:00</th>\n",
       "      <td>3.77</td>\n",
       "      <td>0.0</td>\n",
       "      <td>299.320</td>\n",
       "      <td>2.065</td>\n",
       "      <td>6.00</td>\n",
       "      <td>96.03</td>\n",
       "      <td>0.0</td>\n",
       "      <td>44.12</td>\n",
       "      <td>1.83</td>\n",
       "    </tr>\n",
       "    <tr>\n",
       "      <th>2000-01-05 05:30:00</th>\n",
       "      <td>3.36</td>\n",
       "      <td>0.0</td>\n",
       "      <td>299.320</td>\n",
       "      <td>1.911</td>\n",
       "      <td>4.76</td>\n",
       "      <td>96.10</td>\n",
       "      <td>0.0</td>\n",
       "      <td>44.11</td>\n",
       "      <td>1.81</td>\n",
       "    </tr>\n",
       "  </tbody>\n",
       "</table>\n",
       "<p>100 rows × 9 columns</p>\n",
       "</div>"
      ],
      "text/plain": [
       "                       TA  SW_IN    LW_IN    VPD    WS     PA    P    SWC  \\\n",
       "time                                                                        \n",
       "2000-01-03 04:00:00  0.81    0.0  304.148  0.000  3.53  97.00  0.0  43.09   \n",
       "2000-01-03 04:30:00  0.95    0.0  304.382  0.000  3.99  96.98  0.0  43.09   \n",
       "2000-01-03 05:00:00  1.09    0.0  304.382  0.000  3.61  96.96  0.0  43.09   \n",
       "2000-01-03 05:30:00  1.18    0.0  304.382  0.009  3.90  96.93  0.0  43.09   \n",
       "2000-01-03 06:00:00  1.35    0.0  304.382  0.061  4.17  96.91  0.0  43.09   \n",
       "...                   ...    ...      ...    ...   ...    ...  ...    ...   \n",
       "2000-01-05 03:30:00  4.62    0.0  330.202  1.162  6.53  95.91  0.0  44.12   \n",
       "2000-01-05 04:00:00  4.51    0.0  330.202  1.636  5.76  95.94  0.0  44.12   \n",
       "2000-01-05 04:30:00  4.11    0.0  299.320  1.746  5.79  95.98  0.0  44.12   \n",
       "2000-01-05 05:00:00  3.77    0.0  299.320  2.065  6.00  96.03  0.0  44.12   \n",
       "2000-01-05 05:30:00  3.36    0.0  299.320  1.911  4.76  96.10  0.0  44.11   \n",
       "\n",
       "                       TS  \n",
       "time                       \n",
       "2000-01-03 04:00:00  1.37  \n",
       "2000-01-03 04:30:00  1.37  \n",
       "2000-01-03 05:00:00  1.37  \n",
       "2000-01-03 05:30:00  1.37  \n",
       "2000-01-03 06:00:00  1.38  \n",
       "...                   ...  \n",
       "2000-01-05 03:30:00  1.82  \n",
       "2000-01-05 04:00:00  1.85  \n",
       "2000-01-05 04:30:00  1.85  \n",
       "2000-01-05 05:00:00  1.83  \n",
       "2000-01-05 05:30:00  1.81  \n",
       "\n",
       "[100 rows x 9 columns]"
      ]
     },
     "execution_count": null,
     "metadata": {},
     "output_type": "execute_result"
    }
   ],
   "source": [
    "mds_imp(targ)"
   ]
  },
  {
   "cell_type": "markdown",
   "id": "8d1e07ad-3ebe-41ff-9a7c-321146fd9a45",
   "metadata": {},
   "source": [
    "### ERA Imputation"
   ]
  },
  {
   "cell_type": "code",
   "execution_count": null,
   "id": "65a56b61-4374-48be-b85e-f49ce0ec9ae5",
   "metadata": {},
   "outputs": [],
   "source": [
    "#| export\n",
    "class ERAImputation:\n",
    "    name = \"ERA-I\"\n",
    "    def __call__(self, item):\n",
    "        pred = item.control.copy()\n",
    "        names = [col for col in pred.columns if not col.endswith(\"_lag_1\")]\n",
    "        pred = pred.filter(names)\n",
    "        pred = pred.rename(columns=lambda x: x.replace(\"_ERA\", \"\"))\n",
    "        # columns that cannot be predicted get a NA        \n",
    "        for col in item.data.columns:\n",
    "            if col not in pred.columns:\n",
    "                pred[col] = np.nan \n",
    "        return pred"
   ]
  },
  {
   "cell_type": "code",
   "execution_count": null,
   "id": "0f962a74-3955-4f94-8fd3-4b0ed1cac92e",
   "metadata": {},
   "outputs": [
    {
     "data": {
      "text/plain": [
       "Index(['TA', 'SW_IN', 'LW_IN', 'VPD', 'WS', 'PA', 'P', 'SWC', 'TS'], dtype='object')"
      ]
     },
     "execution_count": null,
     "metadata": {},
     "output_type": "execute_result"
    }
   ],
   "source": [
    "targ.data.columns"
   ]
  },
  {
   "cell_type": "code",
   "execution_count": null,
   "id": "8733c3fe-4235-41cd-9104-8a6842f7e960",
   "metadata": {},
   "outputs": [],
   "source": [
    "era_imp = ERAImputation()"
   ]
  },
  {
   "cell_type": "code",
   "execution_count": null,
   "id": "a87f92a0-f300-4b99-88cb-4703f7fd7c73",
   "metadata": {},
   "outputs": [
    {
     "data": {
      "text/html": [
       "<div>\n",
       "<style scoped>\n",
       "    .dataframe tbody tr th:only-of-type {\n",
       "        vertical-align: middle;\n",
       "    }\n",
       "\n",
       "    .dataframe tbody tr th {\n",
       "        vertical-align: top;\n",
       "    }\n",
       "\n",
       "    .dataframe thead th {\n",
       "        text-align: right;\n",
       "    }\n",
       "</style>\n",
       "<table border=\"1\" class=\"dataframe\">\n",
       "  <thead>\n",
       "    <tr style=\"text-align: right;\">\n",
       "      <th></th>\n",
       "      <th>TA</th>\n",
       "      <th>SW_IN</th>\n",
       "      <th>VPD</th>\n",
       "      <th>PA</th>\n",
       "      <th>P</th>\n",
       "      <th>WS</th>\n",
       "      <th>LW_IN</th>\n",
       "      <th>SWC</th>\n",
       "      <th>TS</th>\n",
       "    </tr>\n",
       "    <tr>\n",
       "      <th>time</th>\n",
       "      <th></th>\n",
       "      <th></th>\n",
       "      <th></th>\n",
       "      <th></th>\n",
       "      <th></th>\n",
       "      <th></th>\n",
       "      <th></th>\n",
       "      <th></th>\n",
       "      <th></th>\n",
       "    </tr>\n",
       "  </thead>\n",
       "  <tbody>\n",
       "    <tr>\n",
       "      <th>2000-01-03 04:00:00</th>\n",
       "      <td>1.702</td>\n",
       "      <td>0.0</td>\n",
       "      <td>0.693</td>\n",
       "      <td>97.016</td>\n",
       "      <td>0.000</td>\n",
       "      <td>2.948</td>\n",
       "      <td>304.148</td>\n",
       "      <td>NaN</td>\n",
       "      <td>NaN</td>\n",
       "    </tr>\n",
       "    <tr>\n",
       "      <th>2000-01-03 04:30:00</th>\n",
       "      <td>1.762</td>\n",
       "      <td>0.0</td>\n",
       "      <td>0.691</td>\n",
       "      <td>97.002</td>\n",
       "      <td>0.026</td>\n",
       "      <td>2.989</td>\n",
       "      <td>304.382</td>\n",
       "      <td>NaN</td>\n",
       "      <td>NaN</td>\n",
       "    </tr>\n",
       "    <tr>\n",
       "      <th>2000-01-03 05:00:00</th>\n",
       "      <td>1.736</td>\n",
       "      <td>0.0</td>\n",
       "      <td>0.697</td>\n",
       "      <td>96.988</td>\n",
       "      <td>0.000</td>\n",
       "      <td>3.015</td>\n",
       "      <td>304.382</td>\n",
       "      <td>NaN</td>\n",
       "      <td>NaN</td>\n",
       "    </tr>\n",
       "    <tr>\n",
       "      <th>2000-01-03 05:30:00</th>\n",
       "      <td>1.711</td>\n",
       "      <td>0.0</td>\n",
       "      <td>0.703</td>\n",
       "      <td>96.974</td>\n",
       "      <td>0.000</td>\n",
       "      <td>3.041</td>\n",
       "      <td>304.382</td>\n",
       "      <td>NaN</td>\n",
       "      <td>NaN</td>\n",
       "    </tr>\n",
       "    <tr>\n",
       "      <th>2000-01-03 06:00:00</th>\n",
       "      <td>1.686</td>\n",
       "      <td>0.0</td>\n",
       "      <td>0.709</td>\n",
       "      <td>96.960</td>\n",
       "      <td>0.000</td>\n",
       "      <td>3.066</td>\n",
       "      <td>304.382</td>\n",
       "      <td>NaN</td>\n",
       "      <td>NaN</td>\n",
       "    </tr>\n",
       "    <tr>\n",
       "      <th>...</th>\n",
       "      <td>...</td>\n",
       "      <td>...</td>\n",
       "      <td>...</td>\n",
       "      <td>...</td>\n",
       "      <td>...</td>\n",
       "      <td>...</td>\n",
       "      <td>...</td>\n",
       "      <td>...</td>\n",
       "      <td>...</td>\n",
       "    </tr>\n",
       "    <tr>\n",
       "      <th>2000-01-05 03:30:00</th>\n",
       "      <td>4.945</td>\n",
       "      <td>0.0</td>\n",
       "      <td>0.774</td>\n",
       "      <td>95.910</td>\n",
       "      <td>0.252</td>\n",
       "      <td>6.107</td>\n",
       "      <td>330.202</td>\n",
       "      <td>NaN</td>\n",
       "      <td>NaN</td>\n",
       "    </tr>\n",
       "    <tr>\n",
       "      <th>2000-01-05 04:00:00</th>\n",
       "      <td>4.789</td>\n",
       "      <td>0.0</td>\n",
       "      <td>0.758</td>\n",
       "      <td>95.926</td>\n",
       "      <td>0.252</td>\n",
       "      <td>6.189</td>\n",
       "      <td>330.202</td>\n",
       "      <td>NaN</td>\n",
       "      <td>NaN</td>\n",
       "    </tr>\n",
       "    <tr>\n",
       "      <th>2000-01-05 04:30:00</th>\n",
       "      <td>4.632</td>\n",
       "      <td>0.0</td>\n",
       "      <td>0.741</td>\n",
       "      <td>95.942</td>\n",
       "      <td>0.044</td>\n",
       "      <td>6.270</td>\n",
       "      <td>299.320</td>\n",
       "      <td>NaN</td>\n",
       "      <td>NaN</td>\n",
       "    </tr>\n",
       "    <tr>\n",
       "      <th>2000-01-05 05:00:00</th>\n",
       "      <td>4.251</td>\n",
       "      <td>0.0</td>\n",
       "      <td>0.766</td>\n",
       "      <td>95.988</td>\n",
       "      <td>0.000</td>\n",
       "      <td>5.923</td>\n",
       "      <td>299.320</td>\n",
       "      <td>NaN</td>\n",
       "      <td>NaN</td>\n",
       "    </tr>\n",
       "    <tr>\n",
       "      <th>2000-01-05 05:30:00</th>\n",
       "      <td>3.869</td>\n",
       "      <td>0.0</td>\n",
       "      <td>0.790</td>\n",
       "      <td>96.035</td>\n",
       "      <td>0.000</td>\n",
       "      <td>5.576</td>\n",
       "      <td>299.320</td>\n",
       "      <td>NaN</td>\n",
       "      <td>NaN</td>\n",
       "    </tr>\n",
       "  </tbody>\n",
       "</table>\n",
       "<p>100 rows × 9 columns</p>\n",
       "</div>"
      ],
      "text/plain": [
       "                        TA  SW_IN    VPD      PA      P     WS    LW_IN  SWC  \\\n",
       "time                                                                           \n",
       "2000-01-03 04:00:00  1.702    0.0  0.693  97.016  0.000  2.948  304.148  NaN   \n",
       "2000-01-03 04:30:00  1.762    0.0  0.691  97.002  0.026  2.989  304.382  NaN   \n",
       "2000-01-03 05:00:00  1.736    0.0  0.697  96.988  0.000  3.015  304.382  NaN   \n",
       "2000-01-03 05:30:00  1.711    0.0  0.703  96.974  0.000  3.041  304.382  NaN   \n",
       "2000-01-03 06:00:00  1.686    0.0  0.709  96.960  0.000  3.066  304.382  NaN   \n",
       "...                    ...    ...    ...     ...    ...    ...      ...  ...   \n",
       "2000-01-05 03:30:00  4.945    0.0  0.774  95.910  0.252  6.107  330.202  NaN   \n",
       "2000-01-05 04:00:00  4.789    0.0  0.758  95.926  0.252  6.189  330.202  NaN   \n",
       "2000-01-05 04:30:00  4.632    0.0  0.741  95.942  0.044  6.270  299.320  NaN   \n",
       "2000-01-05 05:00:00  4.251    0.0  0.766  95.988  0.000  5.923  299.320  NaN   \n",
       "2000-01-05 05:30:00  3.869    0.0  0.790  96.035  0.000  5.576  299.320  NaN   \n",
       "\n",
       "                     TS  \n",
       "time                     \n",
       "2000-01-03 04:00:00 NaN  \n",
       "2000-01-03 04:30:00 NaN  \n",
       "2000-01-03 05:00:00 NaN  \n",
       "2000-01-03 05:30:00 NaN  \n",
       "2000-01-03 06:00:00 NaN  \n",
       "...                  ..  \n",
       "2000-01-05 03:30:00 NaN  \n",
       "2000-01-05 04:00:00 NaN  \n",
       "2000-01-05 04:30:00 NaN  \n",
       "2000-01-05 05:00:00 NaN  \n",
       "2000-01-05 05:30:00 NaN  \n",
       "\n",
       "[100 rows x 9 columns]"
      ]
     },
     "execution_count": null,
     "metadata": {},
     "output_type": "execute_result"
    }
   ],
   "source": [
    "era_imp(targ)"
   ]
  },
  {
   "cell_type": "markdown",
   "id": "7c735435-abde-47a0-8c08-5b1a28b61150",
   "metadata": {},
   "source": [
    "## Metrics"
   ]
  },
  {
   "cell_type": "code",
   "execution_count": null,
   "id": "1ce23800-40ac-452c-94c3-98d4376bec90",
   "metadata": {},
   "outputs": [],
   "source": [
    "#| export\n",
    "class MaskedMetric:\n",
    "    def __init__(self, metric): store_attr()\n",
    "    def __call__(self, targ, pred):\n",
    "        if isinstance(pred, NormalsDf): pred = pred.mean\n",
    "        row_sel, col_sel = ~targ.mask.all(1), ~targ.mask.all(0)\n",
    "        assert not targ.mask.loc[row_sel,col_sel].any().all() # gap is a rectangle\n",
    "        data, pred = targ.data.loc[row_sel,col_sel], pred.loc[row_sel,col_sel]\n",
    "        return self.metric(data, pred) if not np.isnan(pred).all().all() else np.array([np.nan])"
   ]
  },
  {
   "cell_type": "code",
   "execution_count": null,
   "id": "419b95ea-534a-4986-826f-844fe836797c",
   "metadata": {},
   "outputs": [],
   "source": [
    "#| export\n",
    "from sklearn.metrics import mean_squared_error"
   ]
  },
  {
   "cell_type": "code",
   "execution_count": null,
   "id": "659a0552-8c11-4699-95d2-3df749b1d75f",
   "metadata": {},
   "outputs": [],
   "source": [
    "#| export\n",
    "def rmse(y_true, y_pred):\n",
    "    return np.sqrt(mean_squared_error(y_true, y_pred, multioutput='raw_values'))"
   ]
  },
  {
   "cell_type": "code",
   "execution_count": null,
   "id": "585447ff-7e86-4726-8c16-a7838dd8bf71",
   "metadata": {},
   "outputs": [],
   "source": [
    "#| export\n",
    "def normalize(x, mean, std): return (x - mean) / std \n",
    "class NormalizedMetric:\n",
    "    def __init__(self, metric: MaskedMetric, mean, std):\n",
    "        self.mean = np.array(mean)\n",
    "        self.std = np.array(std)\n",
    "        self.metric = metric\n",
    "    def __call__(self, targ, pred, var:int|None = None):\n",
    "        targ = targ.copy()\n",
    "        norm_conf = (self.mean if var is None else self.mean[var], self.std if var is None else self.std[var])\n",
    "        targ.data = normalize(targ.data, *norm_conf)\n",
    "        if isinstance(pred, NormalsDf): pred = pred.mean\n",
    "        pred = normalize(pred, *norm_conf)\n",
    "        return self.metric(targ, pred)"
   ]
  },
  {
   "cell_type": "code",
   "execution_count": null,
   "id": "123a9b56-9099-4e13-9913-8a4e26c37b33",
   "metadata": {},
   "outputs": [],
   "source": [
    "#| export\n",
    "rmse_mask = MaskedMetric(rmse)"
   ]
  },
  {
   "cell_type": "code",
   "execution_count": null,
   "id": "037f5d19-e262-48a9-97a1-595da525de23",
   "metadata": {},
   "outputs": [
    {
     "data": {
      "text/plain": [
       "array([0.3698457])"
      ]
     },
     "execution_count": null,
     "metadata": {},
     "output_type": "execute_result"
    }
   ],
   "source": [
    "rmse_mask(targ, pred)"
   ]
  },
  {
   "cell_type": "markdown",
   "id": "54d93837-573f-4739-84ac-230821f225d4",
   "metadata": {},
   "source": [
    "### Validation Imputations"
   ]
  },
  {
   "cell_type": "markdown",
   "id": "92973203-3377-4ba8-8b1d-3d51ab04e79d",
   "metadata": {},
   "source": [
    "checks that the values of the imputation makes sense"
   ]
  },
  {
   "cell_type": "markdown",
   "id": "7b05868f-0c38-4fa3-b3aa-63cf7515655a",
   "metadata": {},
   "source": [
    "this is the average error for ERA"
   ]
  },
  {
   "cell_type": "code",
   "execution_count": null,
   "id": "33903fdd-463c-47a5-83e2-6555356af78b",
   "metadata": {},
   "outputs": [
    {
     "data": {
      "text/plain": [
       "1.8708585984196093"
      ]
     },
     "execution_count": null,
     "metadata": {},
     "output_type": "execute_result"
    }
   ],
   "source": [
    "np.sqrt((hai['TA'] - hai_era.loc[hai.index]['TA_ERA']).pow(2).mean())"
   ]
  },
  {
   "cell_type": "code",
   "execution_count": null,
   "id": "1ceaeac1-b5fe-410f-97ec-9705af5acbaa",
   "metadata": {},
   "outputs": [
    {
     "data": {
      "text/plain": [
       "array([0.29919709])"
      ]
     },
     "execution_count": null,
     "metadata": {},
     "output_type": "execute_result"
    }
   ],
   "source": [
    "rmse_mask(targ, ERAImputation()(targ))"
   ]
  },
  {
   "cell_type": "code",
   "execution_count": null,
   "id": "7c5b0dde-79fb-4dff-9472-1f1921ef87e4",
   "metadata": {},
   "outputs": [],
   "source": [
    "err_era = []\n",
    "for _ in range(100):\n",
    "    items = random.choices(dls.items, k = 1)\n",
    "    targ = orig_target(dls, items)[0]\n",
    "    err_era.append(rmse_mask(targ, ERAImputation()(targ)))"
   ]
  },
  {
   "cell_type": "code",
   "execution_count": null,
   "id": "7dc7da10-5f74-424e-a947-4d3564f42cdd",
   "metadata": {},
   "outputs": [
    {
     "data": {
      "text/plain": [
       "1.3839633283333717"
      ]
     },
     "execution_count": null,
     "metadata": {},
     "output_type": "execute_result"
    }
   ],
   "source": [
    "np.array(err_era).mean()"
   ]
  },
  {
   "cell_type": "markdown",
   "id": "3ce3f5b0-530b-42e9-940d-7f69cc53ede3",
   "metadata": {},
   "source": [
    "## Comparison"
   ]
  },
  {
   "cell_type": "markdown",
   "id": "b31ab7f7-9945-4831-bdf6-2052e0e5ab72",
   "metadata": {},
   "source": [
    "Take a variable to be filled, makes an artificial gap of given len, tries to fill with 3 methods and return metrics for each of them, repeat `n_rep` times"
   ]
  },
  {
   "cell_type": "code",
   "execution_count": null,
   "id": "5b0e9e1a-6e20-4877-ac71-16fc848d5036",
   "metadata": {},
   "outputs": [],
   "source": [
    "#| export\n",
    "import random\n",
    "import polars as pl\n",
    "from tqdm.auto import tqdm"
   ]
  },
  {
   "cell_type": "markdown",
   "id": "73aa5545-09e7-4f00-8902-bdf7f2b593d2",
   "metadata": {},
   "source": [
    "### prep visualization"
   ]
  },
  {
   "cell_type": "code",
   "execution_count": null,
   "id": "476ba4e7-7082-41bc-98bf-3a20e910edcf",
   "metadata": {},
   "outputs": [],
   "source": [
    "#| export\n",
    "def format_gap_len(\n",
    "    gap_len: int # gap length in num observations (30 mins)\n",
    "):\n",
    "    \"\"\"Nice formatting for gap lengths\"\"\"\n",
    "    gap_h = round(gap_len / 2) # to hours\n",
    "    if gap_h < 24:\n",
    "        return f\"{gap_h} h\"\n",
    "    elif gap_h < 24 * 7: # days\n",
    "        gap_d = round(gap_h / 24)\n",
    "        label = \"days\" if gap_d > 1 else \"day\"\n",
    "        return f\"{gap_d} {label} ({gap_h} h)\"\n",
    "    else: # weeks\n",
    "        gap_w = round(gap_h / (24 * 7))\n",
    "        label = \"weeks\" if gap_w > 1 else \"week\"\n",
    "        return f\"{gap_w} {label} ({gap_h} h)\""
   ]
  },
  {
   "cell_type": "code",
   "execution_count": null,
   "id": "bd85ab0c-3b8d-450e-96ef-968016a16d37",
   "metadata": {},
   "outputs": [],
   "source": [
    "test_eq(format_gap_len(10), \"5 h\")\n",
    "test_eq(format_gap_len(48), \"1 day (24 h)\")\n",
    "test_eq(format_gap_len(90), \"2 days (45 h)\")\n",
    "test_eq(format_gap_len(336), \"1 week (168 h)\")"
   ]
  },
  {
   "cell_type": "code",
   "execution_count": null,
   "id": "09cfff05-30dd-436f-b13b-a20260583f7e",
   "metadata": {},
   "outputs": [],
   "source": [
    "#| export\n",
    "var_type = CategoricalDtype(categories=['TA', 'SW_IN', 'LW_IN', 'VPD', 'WS', 'PA', 'P', 'SWC', 'TS'], ordered=True)\n",
    "\n",
    "method_type = CategoricalDtype(categories=[\"Kalman Filter\", \"ERA-I\", \"MDS\"], ordered=True)"
   ]
  },
  {
   "cell_type": "code",
   "execution_count": null,
   "id": "c53ac74b-cb6f-4eef-936c-dbccaadc4747",
   "metadata": {},
   "outputs": [],
   "source": [
    "#| export\n",
    "def _as_category(df: pd.DataFrame):\n",
    "    # print([format_gap_len(g) for g in np.sort(df.gap_len.unique())])\n",
    "    df = df.assign(\n",
    "        var = df['var'].astype(var_type),\n",
    "        gap_len_f = df['gap_len_f'].astype(CategoricalDtype(categories = [format_gap_len(g) for g in np.sort(df.gap_len.unique())], ordered=True)))\n",
    "    if 'method' in df.columns: df = df.assign(method = df['method'].astype(method_type))\n",
    "    return df.sort_values(['var', 'gap_len', 'method'] if 'method' in df.columns else ['var', 'gap_len'] )"
   ]
  },
  {
   "cell_type": "code",
   "execution_count": null,
   "id": "329fc8ba-8a58-47d4-bf31-c59d0a0bb5f6",
   "metadata": {},
   "outputs": [],
   "source": [
    "#| export\n",
    "def prep_df(df): \n",
    "    df = df.assign(gap_len_f = df.gap_len.apply(format_gap_len))\n",
    "    df =  _as_category(df)\n",
    "    return df.assign(gap_len = df.gap_len // 2) # need to do after category conversion"
   ]
  },
  {
   "cell_type": "markdown",
   "id": "7f22742d-b6a3-43d8-88a8-feded66f1e60",
   "metadata": {},
   "source": [
    "### Aggregation"
   ]
  },
  {
   "cell_type": "code",
   "execution_count": null,
   "id": "0e8eec0a-75cf-4697-b070-592042d369fb",
   "metadata": {},
   "outputs": [
    {
     "data": {
      "text/plain": [
       "7.924610764367695"
      ]
     },
     "execution_count": null,
     "metadata": {},
     "output_type": "execute_result"
    }
   ],
   "source": [
    "hai.std(axis=0)['TA']"
   ]
  },
  {
   "cell_type": "code",
   "execution_count": null,
   "id": "eef5a6a6-bcb0-4763-bc00-33277c0bba7a",
   "metadata": {},
   "outputs": [
    {
     "data": {
      "text/plain": [
       "(tensor([8.3339e+00, 1.2096e+02, 3.1150e+02, 3.3807e+00, 3.1800e+00, 9.5962e+01,\n",
       "         4.3427e-02, 3.4843e+01, 7.9349e+00], dtype=torch.float64),\n",
       " tensor([  7.9246, 204.0026,  41.9557,   4.3684,   1.6254,   0.8552,   0.2803,\n",
       "           8.9131,   5.6586], dtype=torch.float64))"
      ]
     },
     "execution_count": null,
     "metadata": {},
     "output_type": "execute_result"
    }
   ],
   "source": [
    "get_stats(hai)"
   ]
  },
  {
   "cell_type": "markdown",
   "id": "ac23fdbf-ea74-417b-9b59-65f3024ade9e",
   "metadata": {},
   "source": [
    "$$ \\text{RMSE}_\\text{stand} = \\frac{1}{\\sigma}\\text{RMSE}$$"
   ]
  },
  {
   "cell_type": "code",
   "execution_count": null,
   "id": "9471fb52-0e6b-4a01-829f-30da7fb10c2f",
   "metadata": {},
   "outputs": [],
   "source": [
    "#| export\n",
    "def timeseriesAgg(targ, pred, *args): return {'pred': [pred], 'targ': [targ]}\n",
    "\n",
    "class RMSEAgg:\n",
    "    \"\"\"Aggregate to rmse and normalized rmse\"\"\"\n",
    "    def __init__(self, df):\n",
    "        self.std = df.std(axis=0)\n",
    "    def __call__(self, targ, pred, var):\n",
    "        rmse = rmse_mask(targ, pred).item()\n",
    "        rmse_stand = rmse / self.std[var]\n",
    "        return {'rmse': rmse,'rmse_stand': rmse_stand,}"
   ]
  },
  {
   "cell_type": "markdown",
   "id": "eaff22ca-c79b-45ed-9dd0-3583b6a4fe23",
   "metadata": {},
   "source": [
    "### Imp Methods"
   ]
  },
  {
   "cell_type": "code",
   "execution_count": null,
   "id": "88665ed6-24d7-42cf-9168-ead86dc8beba",
   "metadata": {},
   "outputs": [],
   "source": [
    "#| export\n",
    "class ImpComparison():\n",
    "    def __init__(self, models: pd.DataFrame, df, control, block_len, rmse=True, time_series = False):\n",
    "        store_attr()\n",
    "        self.k_imp = KalmanImputationVar(models)\n",
    "        self.era_imp = ERAImputation()\n",
    "        self.mds_imp = MDSImputation(\"\", df)\n",
    "        self.methods = [self.k_imp, self.era_imp, self.mds_imp]\n",
    "        aggrs = []\n",
    "        if rmse: aggrs.append(RMSEAgg(df))\n",
    "        if time_series: aggrs.append(timeseriesAgg) \n",
    "        self.aggrs = aggrs\n",
    "        \n",
    "    def _compare_single(self, gap_len, var, n_rep):\n",
    "        \"\"\"Compares `n_rep` times the imputation methods, for gap in `var` with len `gap_len`\"\"\"\n",
    "        dls = imp_dataloader(self.df, self.control, var_sel = var, gap_len=gap_len, block_len=self.block_len, control_lags = [1], n_rep=1, bs=1).cpu()\n",
    "        self.mds_imp.var = var\n",
    "        \n",
    "        outs = []\n",
    "        for i in tqdm(range(n_rep), leave=False):\n",
    "            item = random.choice(dls.items)\n",
    "            pred_k, targ = self.k_imp.preds_all(var = var, items = [item], dls=dls)\n",
    "            pred_k, targ = pred_k[0], targ[0]\n",
    "            for imp in self.methods:\n",
    "                pred = imp(targ) if imp is not self.k_imp else pred_k\n",
    "                out = {\n",
    "                    'method': imp.name,\n",
    "                    'var': var,\n",
    "                    'gap_len': gap_len,\n",
    "                    'idx_rep': i,\n",
    "                }\n",
    "                for aggr in self.aggrs:\n",
    "                    out = out | aggr(targ, pred, var)\n",
    "                outs.append(out)\n",
    "        return pd.DataFrame(outs)\n",
    "    \n",
    "    def compare(self, gap_len, var, n_rep, raw=False):\n",
    "        \"\"\"Compare imputation performance for all combination of parameters\"\"\"\n",
    "        arg_sets = list(product_dict(gap_len=tuplify(gap_len), var=tuplify(var)))\n",
    "        out = []\n",
    "        for arg_set in tqdm(arg_sets):\n",
    "            out.append(self._compare_single(**arg_set, n_rep=n_rep))\n",
    "        return prep_df(pd.concat(out)) if not raw else pd.concat(out)\n",
    "        "
   ]
  },
  {
   "cell_type": "code",
   "execution_count": null,
   "id": "b51f99fe-a886-408b-9ca3-6baecb041fcc",
   "metadata": {},
   "outputs": [],
   "source": [
    "#| export\n",
    "base_path = here(\"analysis/results/trained_models\")\n",
    "def l_model(x, base_path=base_path): return torch.load(base_path / x)"
   ]
  },
  {
   "cell_type": "code",
   "execution_count": null,
   "id": "920200e1-d0e7-4f08-a81c-f9e5758e0a98",
   "metadata": {},
   "outputs": [],
   "source": [
    "models_var = pd.DataFrame.from_records([\n",
    "    {'var': 'TA',    'model': l_model(\"TA_specialized_gap_6-336_v3_0.pickle\",base_path)},\n",
    "    {'var': 'SW_IN', 'model': l_model(\"SW_IN_specialized_gap_6-336_v2_0.pickle\",base_path)},\n",
    "    {'var': 'LW_IN', 'model': l_model(\"LW_IN_specialized_gap_6-336_v1.pickle\",base_path)},\n",
    "    {'var': 'VPD',   'model': l_model(\"VPD_specialized_gap_6-336_v2_0.pickle\",base_path)},\n",
    "    {'var': 'WS',    'model': l_model(\"WS_specialized_gap_6-336_v1.pickle\",base_path)},\n",
    "    {'var': 'PA',    'model': l_model(\"PA_specialized_gap_6-336_v3_0.pickle\",base_path)},\n",
    "    {'var': 'P',     'model': l_model(\"1_gap_varying_6-336_v3.pickle\",base_path)},\n",
    "    {'var': 'TS',    'model': l_model(\"TS_specialized_gap_6-336_v2_0.pickle\",base_path)},\n",
    "    {'var': 'SWC',   'model': l_model(\"SWC_specialized_gap_6-336_v2_1.pickle\",base_path)},\n",
    "])"
   ]
  },
  {
   "cell_type": "code",
   "execution_count": null,
   "id": "24f432d5-0df1-4f3a-8b77-4a20f82d26b8",
   "metadata": {},
   "outputs": [],
   "source": [
    "comp = ImpComparison(models = models_var, df = hai, control = hai_era, block_len = 446)"
   ]
  },
  {
   "cell_type": "code",
   "execution_count": null,
   "id": "571e91c8-25a4-4a62-b397-3db6cd311cae",
   "metadata": {},
   "outputs": [
    {
     "data": {
      "application/vnd.jupyter.widget-view+json": {
       "model_id": "ec23ea3364e946c9b9b6072383441572",
       "version_major": 2,
       "version_minor": 0
      },
      "text/plain": [
       "  0%|          | 0/8 [00:00<?, ?it/s]"
      ]
     },
     "metadata": {},
     "output_type": "display_data"
    },
    {
     "data": {
      "application/vnd.jupyter.widget-view+json": {
       "model_id": "",
       "version_major": 2,
       "version_minor": 0
      },
      "text/plain": [
       "  0%|          | 0/3 [00:00<?, ?it/s]"
      ]
     },
     "metadata": {},
     "output_type": "display_data"
    },
    {
     "data": {
      "application/vnd.jupyter.widget-view+json": {
       "model_id": "",
       "version_major": 2,
       "version_minor": 0
      },
      "text/plain": [
       "  0%|          | 0/3 [00:00<?, ?it/s]"
      ]
     },
     "metadata": {},
     "output_type": "display_data"
    },
    {
     "data": {
      "application/vnd.jupyter.widget-view+json": {
       "model_id": "",
       "version_major": 2,
       "version_minor": 0
      },
      "text/plain": [
       "  0%|          | 0/3 [00:00<?, ?it/s]"
      ]
     },
     "metadata": {},
     "output_type": "display_data"
    },
    {
     "data": {
      "application/vnd.jupyter.widget-view+json": {
       "model_id": "",
       "version_major": 2,
       "version_minor": 0
      },
      "text/plain": [
       "  0%|          | 0/3 [00:00<?, ?it/s]"
      ]
     },
     "metadata": {},
     "output_type": "display_data"
    },
    {
     "data": {
      "application/vnd.jupyter.widget-view+json": {
       "model_id": "",
       "version_major": 2,
       "version_minor": 0
      },
      "text/plain": [
       "  0%|          | 0/3 [00:00<?, ?it/s]"
      ]
     },
     "metadata": {},
     "output_type": "display_data"
    },
    {
     "data": {
      "application/vnd.jupyter.widget-view+json": {
       "model_id": "",
       "version_major": 2,
       "version_minor": 0
      },
      "text/plain": [
       "  0%|          | 0/3 [00:00<?, ?it/s]"
      ]
     },
     "metadata": {},
     "output_type": "display_data"
    },
    {
     "data": {
      "application/vnd.jupyter.widget-view+json": {
       "model_id": "",
       "version_major": 2,
       "version_minor": 0
      },
      "text/plain": [
       "  0%|          | 0/3 [00:00<?, ?it/s]"
      ]
     },
     "metadata": {},
     "output_type": "display_data"
    },
    {
     "data": {
      "application/vnd.jupyter.widget-view+json": {
       "model_id": "",
       "version_major": 2,
       "version_minor": 0
      },
      "text/plain": [
       "  0%|          | 0/3 [00:00<?, ?it/s]"
      ]
     },
     "metadata": {},
     "output_type": "display_data"
    }
   ],
   "source": [
    "data_results = comp.compare(gap_len = [12, 24, 48, 336], var=[\"TA\", \"SW_IN\"], n_rep=3) "
   ]
  },
  {
   "cell_type": "code",
   "execution_count": null,
   "id": "5c70e615-e7a0-4408-9f06-e0a4d75a2b14",
   "metadata": {},
   "outputs": [
    {
     "data": {
      "text/html": [
       "<div>\n",
       "<style scoped>\n",
       "    .dataframe tbody tr th:only-of-type {\n",
       "        vertical-align: middle;\n",
       "    }\n",
       "\n",
       "    .dataframe tbody tr th {\n",
       "        vertical-align: top;\n",
       "    }\n",
       "\n",
       "    .dataframe thead th {\n",
       "        text-align: right;\n",
       "    }\n",
       "</style>\n",
       "<table border=\"1\" class=\"dataframe\">\n",
       "  <thead>\n",
       "    <tr style=\"text-align: right;\">\n",
       "      <th></th>\n",
       "      <th>method</th>\n",
       "      <th>var</th>\n",
       "      <th>gap_len</th>\n",
       "      <th>idx_rep</th>\n",
       "      <th>rmse</th>\n",
       "      <th>rmse_stand</th>\n",
       "      <th>gap_len_f</th>\n",
       "    </tr>\n",
       "  </thead>\n",
       "  <tbody>\n",
       "    <tr>\n",
       "      <th>0</th>\n",
       "      <td>Kalman Filter</td>\n",
       "      <td>TA</td>\n",
       "      <td>6</td>\n",
       "      <td>0</td>\n",
       "      <td>0.310825</td>\n",
       "      <td>0.039223</td>\n",
       "      <td>6 h</td>\n",
       "    </tr>\n",
       "    <tr>\n",
       "      <th>3</th>\n",
       "      <td>Kalman Filter</td>\n",
       "      <td>TA</td>\n",
       "      <td>6</td>\n",
       "      <td>1</td>\n",
       "      <td>0.529280</td>\n",
       "      <td>0.066789</td>\n",
       "      <td>6 h</td>\n",
       "    </tr>\n",
       "    <tr>\n",
       "      <th>6</th>\n",
       "      <td>Kalman Filter</td>\n",
       "      <td>TA</td>\n",
       "      <td>6</td>\n",
       "      <td>2</td>\n",
       "      <td>0.330725</td>\n",
       "      <td>0.041734</td>\n",
       "      <td>6 h</td>\n",
       "    </tr>\n",
       "    <tr>\n",
       "      <th>1</th>\n",
       "      <td>ERA-I</td>\n",
       "      <td>TA</td>\n",
       "      <td>6</td>\n",
       "      <td>0</td>\n",
       "      <td>1.329099</td>\n",
       "      <td>0.167718</td>\n",
       "      <td>6 h</td>\n",
       "    </tr>\n",
       "    <tr>\n",
       "      <th>4</th>\n",
       "      <td>ERA-I</td>\n",
       "      <td>TA</td>\n",
       "      <td>6</td>\n",
       "      <td>1</td>\n",
       "      <td>1.468124</td>\n",
       "      <td>0.185261</td>\n",
       "      <td>6 h</td>\n",
       "    </tr>\n",
       "  </tbody>\n",
       "</table>\n",
       "</div>"
      ],
      "text/plain": [
       "          method var  gap_len  idx_rep      rmse  rmse_stand gap_len_f\n",
       "0  Kalman Filter  TA        6        0  0.310825    0.039223       6 h\n",
       "3  Kalman Filter  TA        6        1  0.529280    0.066789       6 h\n",
       "6  Kalman Filter  TA        6        2  0.330725    0.041734       6 h\n",
       "1          ERA-I  TA        6        0  1.329099    0.167718       6 h\n",
       "4          ERA-I  TA        6        1  1.468124    0.185261       6 h"
      ]
     },
     "execution_count": null,
     "metadata": {},
     "output_type": "execute_result"
    }
   ],
   "source": [
    "data_results.head()"
   ]
  },
  {
   "cell_type": "code",
   "execution_count": null,
   "id": "446db758-5403-4ce6-9529-ff1d43b605db",
   "metadata": {},
   "outputs": [
    {
     "data": {
      "text/plain": [
       "['Kalman Filter', 'ERA-I', 'MDS']\n",
       "Categories (3, object): ['Kalman Filter' < 'ERA-I' < 'MDS']"
      ]
     },
     "execution_count": null,
     "metadata": {},
     "output_type": "execute_result"
    }
   ],
   "source": [
    "data_results.method.unique()"
   ]
  },
  {
   "cell_type": "code",
   "execution_count": null,
   "id": "7709904f-4d83-4ac7-8004-a635635a3014",
   "metadata": {},
   "outputs": [
    {
     "data": {
      "text/plain": [
       "Index(['method', 'var', 'gap_len', 'idx_rep', 'rmse', 'rmse_stand',\n",
       "       'gap_len_f'],\n",
       "      dtype='object')"
      ]
     },
     "execution_count": null,
     "metadata": {},
     "output_type": "execute_result"
    }
   ],
   "source": [
    "data_results.columns"
   ]
  },
  {
   "cell_type": "markdown",
   "id": "a7e94fd3-08b1-4a60-a3dd-855a4ec32235",
   "metadata": {},
   "source": [
    "### Kalman Filters"
   ]
  },
  {
   "cell_type": "code",
   "execution_count": null,
   "id": "330057e2-ed5a-45e5-99f8-c0a30d391e1d",
   "metadata": {},
   "outputs": [],
   "source": [
    "#| export\n",
    "class KalmanImpComparison():\n",
    "    \"\"\"Compare different Kalman filters\"\"\"\n",
    "    def __init__(self,\n",
    "                 models: pd.DataFrame, # model, gap_single_var, \n",
    "                 df: pd.DataFrame,\n",
    "                 control: pd.DataFrame,\n",
    "                 block_len:int,\n",
    "                 rmse:bool=True,\n",
    "                 time_series:bool = False):\n",
    "        store_attr()\n",
    "        self.imps = models.assign(imp = models.model.map(lambda model: KalmanImputation(model)))\n",
    "        self.columns = list(df.columns)\n",
    "        aggrs = []\n",
    "        if rmse: aggrs.append(RMSEAgg(df))\n",
    "        if time_series: aggrs.append(timeseriesAgg) \n",
    "        self.aggrs = aggrs\n",
    "        \n",
    "    def _compare_single(self, n_rep:int, gap_len:int, var:list[str]):\n",
    "        \"\"\"Compares `n_rep` times the imputation methods, for gap in `var` with len `gap_len`\"\"\"\n",
    "        outs = []\n",
    "        imps = imps = self.imps[self.imps['var'] == var] if 'var' in self.imps.columns else self.imps\n",
    "        \n",
    "       \n",
    "        dls = imp_dataloader(self.df, self.control,\n",
    "                                 var_sel = var,\n",
    "                                 gap_len=gap_len, block_len=self.block_len, control_lags = [1], n_rep=1, bs=1,\n",
    "                                 shifts = gen_shifts(50),\n",
    "                                ).cpu()\n",
    "\n",
    "        items_orig = random.choices(dls.items, k=n_rep)\n",
    "             \n",
    "        for (_,imp) in imps.iterrows():\n",
    "            \n",
    "            if not ( imp.gap_single_var if hasattr(imp, 'gap_single_var') else True):\n",
    "                items = [MeteoImpItem(i = i.i, shift = i.shift, var_sel = self.columns, gap_len = i.gap_len) for i in items_orig]\n",
    "            else:\n",
    "                items = items_orig.copy()\n",
    "            \n",
    "\n",
    "            var_idx = _index_var(self.df, [var])[0]\n",
    "            metrics_fn = MultiMetrics(loss = PredictLossVar(only_gap=True, var = var_idx), likelihood = PredictLikelihoodVar(only_gap=True, var = var_idx) )\n",
    "\n",
    "            for i in range(n_rep):\n",
    "                pred, targ, metric = imp.imp.preds_all_metrics(items = [items[i]], dls=dls, metrics=metrics_fn)\n",
    "                pred, targ = pred[0], targ[0]\n",
    "                pred = pred.mean.iloc[:, [var_idx]]\n",
    "                targ = MeteoImpDf(targ.data.iloc[:, [var_idx]], targ.mask.iloc[:, [var_idx]], targ.control.iloc[:, [var_idx]])\n",
    "                out = {\n",
    "                    'var': var,\n",
    "                    'loss': metric['loss'][0].item(),\n",
    "                    'likelihood': metric['likelihood'][0].item(),\n",
    "                    'gap_len': gap_len,\n",
    "                    'idx_rep': i,\n",
    "                } | imp.drop(index=[\"model\", \"imp\"]).to_dict()\n",
    "                for aggr in self.aggrs:\n",
    "                    out = out | aggr(targ, pred, var)\n",
    "                outs.append(out)\n",
    "        return pd.DataFrame(outs)\n",
    "    \n",
    "    def compare(self, n_rep:int, gap_len:list[int], var:list[list[str]]):\n",
    "        \"\"\"Compare imputation performance for all combination of parameters\"\"\"\n",
    "        arg_sets = list(product_dict(gap_len=tuplify(gap_len), var=tuplify(var)))\n",
    "        out = []\n",
    "        for arg_set in tqdm(arg_sets):\n",
    "            out.append(self._compare_single(**arg_set, n_rep=n_rep))\n",
    "        return prep_df(pd.concat(out))\n",
    "        "
   ]
  },
  {
   "cell_type": "code",
   "execution_count": null,
   "id": "720d4c18-35a5-4c34-b779-5d18d5c33fc1",
   "metadata": {},
   "outputs": [],
   "source": [
    "models_nc = pd.DataFrame({'model': [ l_model(\"1_gap_varying_336_no_control_v1.pickle\"), l_model(\"1_gap_varying_6-336_v3.pickle\")],\n",
    "                          'type':   [ 'No Control',                                       'Use Control'                         ]})                                        "
   ]
  },
  {
   "cell_type": "code",
   "execution_count": null,
   "id": "7674f7e6-de0b-4c84-a8fb-233e361dcdd5",
   "metadata": {},
   "outputs": [
    {
     "data": {
      "text/html": [
       "<div>\n",
       "<style scoped>\n",
       "    .dataframe tbody tr th:only-of-type {\n",
       "        vertical-align: middle;\n",
       "    }\n",
       "\n",
       "    .dataframe tbody tr th {\n",
       "        vertical-align: top;\n",
       "    }\n",
       "\n",
       "    .dataframe thead th {\n",
       "        text-align: right;\n",
       "    }\n",
       "</style>\n",
       "<table border=\"1\" class=\"dataframe\">\n",
       "  <thead>\n",
       "    <tr style=\"text-align: right;\">\n",
       "      <th></th>\n",
       "      <th>model</th>\n",
       "      <th>type</th>\n",
       "    </tr>\n",
       "  </thead>\n",
       "  <tbody>\n",
       "    <tr>\n",
       "      <th>0</th>\n",
       "      <td>Kalman Filter\\n        N dim obs: 9,\\n        N dim state: 18,\\n        N dim contr: 14</td>\n",
       "      <td>No Control</td>\n",
       "    </tr>\n",
       "    <tr>\n",
       "      <th>1</th>\n",
       "      <td>Kalman Filter\\n        N dim obs: 9,\\n        N dim state: 18,\\n        N dim contr: 14</td>\n",
       "      <td>Use Control</td>\n",
       "    </tr>\n",
       "  </tbody>\n",
       "</table>\n",
       "</div>"
      ],
      "text/plain": [
       "                                                                                     model  \\\n",
       "0  Kalman Filter\\n        N dim obs: 9,\\n        N dim state: 18,\\n        N dim contr: 14   \n",
       "1  Kalman Filter\\n        N dim obs: 9,\\n        N dim state: 18,\\n        N dim contr: 14   \n",
       "\n",
       "          type  \n",
       "0   No Control  \n",
       "1  Use Control  "
      ]
     },
     "execution_count": null,
     "metadata": {},
     "output_type": "execute_result"
    }
   ],
   "source": [
    "models_nc"
   ]
  },
  {
   "cell_type": "code",
   "execution_count": null,
   "id": "dc270464-2bf0-4e30-9df2-96b4d5f474d9",
   "metadata": {},
   "outputs": [],
   "source": [
    "kcomp = KalmanImpComparison(models_nc, hai, hai_era, 100)"
   ]
  },
  {
   "cell_type": "code",
   "execution_count": null,
   "id": "3e618f9d-159b-413e-bc2e-b544806d0906",
   "metadata": {},
   "outputs": [],
   "source": [
    "#| export\n",
    "from meteo_imp.kalman.training import _index_var"
   ]
  },
  {
   "cell_type": "code",
   "execution_count": null,
   "id": "0362b1ad-3081-43fb-aef3-4dedab3e2d58",
   "metadata": {},
   "outputs": [
    {
     "data": {
      "application/vnd.jupyter.widget-view+json": {
       "model_id": "0b8b723b30364f5cb9a7c96435cada4c",
       "version_major": 2,
       "version_minor": 0
      },
      "text/plain": [
       "  0%|          | 0/27 [00:00<?, ?it/s]"
      ]
     },
     "metadata": {},
     "output_type": "display_data"
    },
    {
     "ename": "KeyboardInterrupt",
     "evalue": "",
     "output_type": "error",
     "traceback": [
      "\u001b[0;31m---------------------------------------------------------------------------\u001b[0m",
      "\u001b[0;31mKeyboardInterrupt\u001b[0m                         Traceback (most recent call last)",
      "Input \u001b[0;32mIn [96]\u001b[0m, in \u001b[0;36m<cell line: 1>\u001b[0;34m()\u001b[0m\n\u001b[0;32m----> 1\u001b[0m k_results \u001b[38;5;241m=\u001b[39m \u001b[43mkcomp\u001b[49m\u001b[38;5;241;43m.\u001b[39;49m\u001b[43mcompare\u001b[49m\u001b[43m(\u001b[49m\u001b[43mn_rep\u001b[49m\u001b[43m \u001b[49m\u001b[38;5;241;43m=\u001b[39;49m\u001b[38;5;241;43m3\u001b[39;49m\u001b[43m,\u001b[49m\u001b[43m \u001b[49m\u001b[43mgap_len\u001b[49m\u001b[43m \u001b[49m\u001b[38;5;241;43m=\u001b[39;49m\u001b[43m \u001b[49m\u001b[43m[\u001b[49m\u001b[38;5;241;43m6\u001b[39;49m\u001b[43m,\u001b[49m\u001b[43m \u001b[49m\u001b[38;5;241;43m12\u001b[39;49m\u001b[43m,\u001b[49m\u001b[43m \u001b[49m\u001b[38;5;241;43m24\u001b[39;49m\u001b[43m]\u001b[49m\u001b[43m,\u001b[49m\u001b[43m \u001b[49m\u001b[43mvar\u001b[49m\u001b[43m \u001b[49m\u001b[38;5;241;43m=\u001b[39;49m\u001b[43m \u001b[49m\u001b[38;5;28;43mlist\u001b[39;49m\u001b[43m(\u001b[49m\u001b[43mhai\u001b[49m\u001b[38;5;241;43m.\u001b[39;49m\u001b[43mcolumns\u001b[49m\u001b[43m)\u001b[49m\u001b[43m)\u001b[49m\n",
      "Input \u001b[0;32mIn [91]\u001b[0m, in \u001b[0;36mKalmanImpComparison.compare\u001b[0;34m(self, n_rep, gap_len, var)\u001b[0m\n\u001b[1;32m     64\u001b[0m out \u001b[38;5;241m=\u001b[39m []\n\u001b[1;32m     65\u001b[0m \u001b[38;5;28;01mfor\u001b[39;00m arg_set \u001b[38;5;129;01min\u001b[39;00m tqdm(arg_sets):\n\u001b[0;32m---> 66\u001b[0m     out\u001b[38;5;241m.\u001b[39mappend(\u001b[38;5;28;43mself\u001b[39;49m\u001b[38;5;241;43m.\u001b[39;49m\u001b[43m_compare_single\u001b[49m\u001b[43m(\u001b[49m\u001b[38;5;241;43m*\u001b[39;49m\u001b[38;5;241;43m*\u001b[39;49m\u001b[43marg_set\u001b[49m\u001b[43m,\u001b[49m\u001b[43m \u001b[49m\u001b[43mn_rep\u001b[49m\u001b[38;5;241;43m=\u001b[39;49m\u001b[43mn_rep\u001b[49m\u001b[43m)\u001b[49m)\n\u001b[1;32m     67\u001b[0m \u001b[38;5;28;01mreturn\u001b[39;00m prep_df(pd\u001b[38;5;241m.\u001b[39mconcat(out))\n",
      "Input \u001b[0;32mIn [91]\u001b[0m, in \u001b[0;36mKalmanImpComparison._compare_single\u001b[0;34m(self, n_rep, gap_len, var)\u001b[0m\n\u001b[1;32m     42\u001b[0m metrics_fn \u001b[38;5;241m=\u001b[39m MultiMetrics(loss \u001b[38;5;241m=\u001b[39m PredictLossVar(only_gap\u001b[38;5;241m=\u001b[39m\u001b[38;5;28;01mTrue\u001b[39;00m, var \u001b[38;5;241m=\u001b[39m var_idx), likelihood \u001b[38;5;241m=\u001b[39m PredictLikelihoodVar(only_gap\u001b[38;5;241m=\u001b[39m\u001b[38;5;28;01mTrue\u001b[39;00m, var \u001b[38;5;241m=\u001b[39m var_idx) )\n\u001b[1;32m     44\u001b[0m \u001b[38;5;28;01mfor\u001b[39;00m i \u001b[38;5;129;01min\u001b[39;00m \u001b[38;5;28mrange\u001b[39m(n_rep):\n\u001b[0;32m---> 45\u001b[0m     pred, targ, metric \u001b[38;5;241m=\u001b[39m \u001b[43mimp\u001b[49m\u001b[38;5;241;43m.\u001b[39;49m\u001b[43mimp\u001b[49m\u001b[38;5;241;43m.\u001b[39;49m\u001b[43mpreds_all_metrics\u001b[49m\u001b[43m(\u001b[49m\u001b[43mitems\u001b[49m\u001b[43m \u001b[49m\u001b[38;5;241;43m=\u001b[39;49m\u001b[43m \u001b[49m\u001b[43m[\u001b[49m\u001b[43mitems\u001b[49m\u001b[43m[\u001b[49m\u001b[43mi\u001b[49m\u001b[43m]\u001b[49m\u001b[43m]\u001b[49m\u001b[43m,\u001b[49m\u001b[43m \u001b[49m\u001b[43mdls\u001b[49m\u001b[38;5;241;43m=\u001b[39;49m\u001b[43mdls\u001b[49m\u001b[43m,\u001b[49m\u001b[43m \u001b[49m\u001b[43mmetrics\u001b[49m\u001b[38;5;241;43m=\u001b[39;49m\u001b[43mmetrics_fn\u001b[49m\u001b[43m)\u001b[49m\n\u001b[1;32m     46\u001b[0m     pred, targ \u001b[38;5;241m=\u001b[39m pred[\u001b[38;5;241m0\u001b[39m], targ[\u001b[38;5;241m0\u001b[39m]\n\u001b[1;32m     47\u001b[0m     pred \u001b[38;5;241m=\u001b[39m pred\u001b[38;5;241m.\u001b[39mmean\u001b[38;5;241m.\u001b[39miloc[:, [var_idx]]\n",
      "Input \u001b[0;32mIn [32]\u001b[0m, in \u001b[0;36mKalmanImputation.preds_all_metrics\u001b[0;34m(self, items, dls, metrics)\u001b[0m\n\u001b[1;32m     13\u001b[0m \u001b[38;5;28;01mdef\u001b[39;00m \u001b[38;5;21mpreds_all_metrics\u001b[39m(\u001b[38;5;28mself\u001b[39m, items, dls, metrics):\n\u001b[0;32m---> 14\u001b[0m     \u001b[38;5;28;01mreturn\u001b[39;00m \u001b[43mpredict_items\u001b[49m\u001b[43m(\u001b[49m\u001b[38;5;28;43mself\u001b[39;49m\u001b[38;5;241;43m.\u001b[39;49m\u001b[43mmodel\u001b[49m\u001b[43m,\u001b[49m\u001b[43m \u001b[49m\u001b[43mdls\u001b[49m\u001b[38;5;241;43m=\u001b[39;49m\u001b[43mdls\u001b[49m\u001b[43m,\u001b[49m\u001b[43m \u001b[49m\u001b[43mitems\u001b[49m\u001b[43m \u001b[49m\u001b[38;5;241;43m=\u001b[39;49m\u001b[43m \u001b[49m\u001b[43mitems\u001b[49m\u001b[43m,\u001b[49m\u001b[43m \u001b[49m\u001b[43mmetric_fn\u001b[49m\u001b[43m \u001b[49m\u001b[38;5;241;43m=\u001b[39;49m\u001b[43m \u001b[49m\u001b[43mmetrics\u001b[49m\u001b[43m)\u001b[49m\n",
      "File \u001b[0;32m~/Documents/uni/Thesis/meteo_imp/meteo_imp/kalman/training.py:891\u001b[0m, in \u001b[0;36mpredict_items\u001b[0;34m(model, dls, items, metric_fn)\u001b[0m\n\u001b[1;32m    884\u001b[0m \u001b[38;5;28;01mdef\u001b[39;00m \u001b[38;5;21mpredict_items\u001b[39m(\n\u001b[1;32m    885\u001b[0m     model: KalmanFilterBase,\n\u001b[1;32m    886\u001b[0m     dls: DataLoaders,\n\u001b[1;32m    887\u001b[0m     items: \u001b[38;5;28mlist\u001b[39m[\u001b[38;5;28mlist\u001b[39m],\n\u001b[1;32m    888\u001b[0m     metric_fn: Callable\u001b[38;5;241m|\u001b[39m\u001b[38;5;28;01mNone\u001b[39;00m \u001b[38;5;241m=\u001b[39m \u001b[38;5;28;01mNone\u001b[39;00m\n\u001b[1;32m    889\u001b[0m ) \u001b[38;5;241m-\u001b[39m\u001b[38;5;241m>\u001b[39m \u001b[38;5;28mtuple\u001b[39m[\u001b[38;5;28mlist\u001b[39m, \u001b[38;5;28mlist\u001b[39m]:\n\u001b[1;32m    890\u001b[0m     \u001b[38;5;28minput\u001b[39m, _ \u001b[38;5;241m=\u001b[39m one_batch_with_items(dls, items)\n\u001b[0;32m--> 891\u001b[0m     preds_0 \u001b[38;5;241m=\u001b[39m \u001b[43mmodel\u001b[49m\u001b[43m(\u001b[49m\u001b[38;5;28;43minput\u001b[39;49m\u001b[43m)\u001b[49m\n\u001b[1;32m    892\u001b[0m     preds_1 \u001b[38;5;241m=\u001b[39m CovStdTransform()(preds_0)\n\u001b[1;32m    893\u001b[0m     preds_2 \u001b[38;5;241m=\u001b[39m maybe_buffer_pred(preds_1, \u001b[38;5;28minput\u001b[39m[\u001b[38;5;241m1\u001b[39m])\n",
      "File \u001b[0;32m~/anaconda3/envs/data-science/lib/python3.10/site-packages/torch/nn/modules/module.py:1194\u001b[0m, in \u001b[0;36mModule._call_impl\u001b[0;34m(self, *input, **kwargs)\u001b[0m\n\u001b[1;32m   1190\u001b[0m \u001b[38;5;66;03m# If we don't have any hooks, we want to skip the rest of the logic in\u001b[39;00m\n\u001b[1;32m   1191\u001b[0m \u001b[38;5;66;03m# this function, and just call forward.\u001b[39;00m\n\u001b[1;32m   1192\u001b[0m \u001b[38;5;28;01mif\u001b[39;00m \u001b[38;5;129;01mnot\u001b[39;00m (\u001b[38;5;28mself\u001b[39m\u001b[38;5;241m.\u001b[39m_backward_hooks \u001b[38;5;129;01mor\u001b[39;00m \u001b[38;5;28mself\u001b[39m\u001b[38;5;241m.\u001b[39m_forward_hooks \u001b[38;5;129;01mor\u001b[39;00m \u001b[38;5;28mself\u001b[39m\u001b[38;5;241m.\u001b[39m_forward_pre_hooks \u001b[38;5;129;01mor\u001b[39;00m _global_backward_hooks\n\u001b[1;32m   1193\u001b[0m         \u001b[38;5;129;01mor\u001b[39;00m _global_forward_hooks \u001b[38;5;129;01mor\u001b[39;00m _global_forward_pre_hooks):\n\u001b[0;32m-> 1194\u001b[0m     \u001b[38;5;28;01mreturn\u001b[39;00m \u001b[43mforward_call\u001b[49m\u001b[43m(\u001b[49m\u001b[38;5;241;43m*\u001b[39;49m\u001b[38;5;28;43minput\u001b[39;49m\u001b[43m,\u001b[49m\u001b[43m \u001b[49m\u001b[38;5;241;43m*\u001b[39;49m\u001b[38;5;241;43m*\u001b[39;49m\u001b[43mkwargs\u001b[49m\u001b[43m)\u001b[49m\n\u001b[1;32m   1195\u001b[0m \u001b[38;5;66;03m# Do not call functions when jit is used\u001b[39;00m\n\u001b[1;32m   1196\u001b[0m full_backward_hooks, non_full_backward_hooks \u001b[38;5;241m=\u001b[39m [], []\n",
      "File \u001b[0;32m~/Documents/uni/Thesis/meteo_imp/meteo_imp/kalman/training.py:618\u001b[0m, in \u001b[0;36mforward\u001b[0;34m(self, meteo_data)\u001b[0m\n\u001b[1;32m    615\u001b[0m \u001b[38;5;28;01massert\u001b[39;00m \u001b[38;5;129;01mnot\u001b[39;00m data\u001b[38;5;241m.\u001b[39misnan()\u001b[38;5;241m.\u001b[39many()\n\u001b[1;32m    616\u001b[0m use_smooth \u001b[38;5;241m=\u001b[39m \u001b[38;5;28mself\u001b[39m\u001b[38;5;241m.\u001b[39muse_smooth \u001b[38;5;28;01mif\u001b[39;00m \u001b[38;5;28mhasattr\u001b[39m(\u001b[38;5;28mself\u001b[39m, \u001b[38;5;124m'\u001b[39m\u001b[38;5;124muse_smooth\u001b[39m\u001b[38;5;124m'\u001b[39m) \u001b[38;5;28;01melse\u001b[39;00m \u001b[38;5;28;01mTrue\u001b[39;00m\n\u001b[0;32m--> 618\u001b[0m mean, cov \u001b[38;5;241m=\u001b[39m (\u001b[38;5;28;43mself\u001b[39;49m\u001b[38;5;241;43m.\u001b[39;49m\u001b[43mpredict\u001b[49m\u001b[43m(\u001b[49m\u001b[43mobs\u001b[49m\u001b[38;5;241;43m=\u001b[39;49m\u001b[43mdata\u001b[49m\u001b[43m,\u001b[49m\u001b[43m \u001b[49m\u001b[43mmask\u001b[49m\u001b[38;5;241;43m=\u001b[39;49m\u001b[43mmask\u001b[49m\u001b[43m,\u001b[49m\u001b[43m \u001b[49m\u001b[43mcontrol\u001b[49m\u001b[38;5;241;43m=\u001b[39;49m\u001b[43mcontrol\u001b[49m\u001b[43m,\u001b[49m\u001b[43m \u001b[49m\u001b[43msmooth\u001b[49m\u001b[38;5;241;43m=\u001b[39;49m\u001b[38;5;28;43;01mTrue\u001b[39;49;00m\u001b[43m)\u001b[49m \u001b[38;5;28;01mif\u001b[39;00m use_smooth\n\u001b[1;32m    619\u001b[0m                     \u001b[38;5;28;01melse\u001b[39;00m \u001b[38;5;28mself\u001b[39m\u001b[38;5;241m.\u001b[39m_predict_filter(data, mask, control))\n\u001b[1;32m    620\u001b[0m \u001b[38;5;28;01mreturn\u001b[39;00m MNormalsParams(mean, cov)\n",
      "File \u001b[0;32m~/Documents/uni/Thesis/meteo_imp/meteo_imp/kalman/filter.py:854\u001b[0m, in \u001b[0;36mpredict\u001b[0;34m(self, obs, mask, control, smooth)\u001b[0m\n\u001b[1;32m    851\u001b[0m \u001b[38;5;28;01mif\u001b[39;00m \u001b[38;5;28mself\u001b[39m\u001b[38;5;241m.\u001b[39muse_conditional \u001b[38;5;129;01mand\u001b[39;00m \u001b[38;5;129;01mnot\u001b[39;00m \u001b[38;5;28mself\u001b[39m\u001b[38;5;241m.\u001b[39mpred_only_gap:\n\u001b[1;32m    852\u001b[0m     \u001b[38;5;28;01mraise\u001b[39;00m \u001b[38;5;167;01mValueError\u001b[39;00m(\u001b[38;5;124m\"\u001b[39m\u001b[38;5;124mKalman Filter predict cannot have conditional predictions and all predictions at the same time\u001b[39m\u001b[38;5;124m\"\u001b[39m)\n\u001b[0;32m--> 854\u001b[0m state \u001b[38;5;241m=\u001b[39m \u001b[38;5;28;43mself\u001b[39;49m\u001b[38;5;241;43m.\u001b[39;49m\u001b[43msmooth\u001b[49m\u001b[43m(\u001b[49m\u001b[43mobs\u001b[49m\u001b[43m,\u001b[49m\u001b[43m \u001b[49m\u001b[43mmask\u001b[49m\u001b[43m,\u001b[49m\u001b[43m \u001b[49m\u001b[43mcontrol\u001b[49m\u001b[43m)\u001b[49m \u001b[38;5;28;01mif\u001b[39;00m smooth \u001b[38;5;28;01melse\u001b[39;00m \u001b[38;5;28mself\u001b[39m\u001b[38;5;241m.\u001b[39mfilter(obs, mask, control)\n\u001b[1;32m    855\u001b[0m \u001b[38;5;28mself\u001b[39m\u001b[38;5;241m.\u001b[39muse_sr_pred \u001b[38;5;241m=\u001b[39m \u001b[38;5;129;01mnot\u001b[39;00m smooth\n\u001b[1;32m    856\u001b[0m \u001b[38;5;28;01mif\u001b[39;00m \u001b[38;5;129;01mnot\u001b[39;00m smooth:\n",
      "File \u001b[0;32m~/Documents/uni/Thesis/meteo_imp/meteo_imp/kalman/filter.py:792\u001b[0m, in \u001b[0;36msmooth\u001b[0;34m(self, obs, mask, control)\u001b[0m\n\u001b[1;32m    783\u001b[0m \u001b[38;5;129m@patch\u001b[39m\n\u001b[1;32m    784\u001b[0m \u001b[38;5;28;01mdef\u001b[39;00m \u001b[38;5;21msmooth\u001b[39m(\u001b[38;5;28mself\u001b[39m: KalmanFilterSR,\n\u001b[1;32m    785\u001b[0m            obs: Tensor,\n\u001b[1;32m    786\u001b[0m            mask: Tensor,\n\u001b[1;32m    787\u001b[0m            control: Tensor\n\u001b[1;32m    788\u001b[0m           ) \u001b[38;5;241m-\u001b[39m\u001b[38;5;241m>\u001b[39m ListMNormal: \u001b[38;5;66;03m# `[n_timesteps, n_dim_state]` smoothed state\u001b[39;00m\n\u001b[1;32m    790\u001b[0m     \u001b[38;5;124;03m\"\"\"Kalman Filter Smoothing\"\"\"\u001b[39;00m\n\u001b[0;32m--> 792\u001b[0m     filt_stateSR, pred_stateSR \u001b[38;5;241m=\u001b[39m \u001b[38;5;28;43mself\u001b[39;49m\u001b[38;5;241;43m.\u001b[39;49m\u001b[43m_filter_all\u001b[49m\u001b[43m(\u001b[49m\u001b[43mobs\u001b[49m\u001b[43m,\u001b[49m\u001b[43m \u001b[49m\u001b[43mmask\u001b[49m\u001b[43m,\u001b[49m\u001b[43m \u001b[49m\u001b[43mcontrol\u001b[49m\u001b[43m)\u001b[49m\n\u001b[1;32m    793\u001b[0m     \u001b[38;5;66;03m# run smoother until there is a gap\u001b[39;00m\n\u001b[1;32m    794\u001b[0m     \u001b[38;5;66;03m# if self.pred_only_gap:\u001b[39;00m\n\u001b[1;32m    795\u001b[0m     \u001b[38;5;66;03m#     gap_idx = torch.argwhere((~mask).any(-1).any(0))\u001b[39;00m\n\u001b[0;32m   (...)\u001b[0m\n\u001b[1;32m    799\u001b[0m     \u001b[38;5;66;03m# else:\u001b[39;00m\n\u001b[1;32m    800\u001b[0m     \u001b[38;5;66;03m#     until = 0\u001b[39;00m\n\u001b[1;32m    801\u001b[0m     until \u001b[38;5;241m=\u001b[39m \u001b[38;5;241m0\u001b[39m\n",
      "File \u001b[0;32m~/Documents/uni/Thesis/meteo_imp/meteo_imp/kalman/filter.py:709\u001b[0m, in \u001b[0;36m_filter_all\u001b[0;34m(self, obs, mask, control)\u001b[0m\n\u001b[1;32m    704\u001b[0m     m_ms[t], P_m_Cs[t] \u001b[38;5;241m=\u001b[39m _filter_predict_SR(\u001b[38;5;28mself\u001b[39m\u001b[38;5;241m.\u001b[39mA, \u001b[38;5;28mself\u001b[39m\u001b[38;5;241m.\u001b[39mQ_C, \u001b[38;5;28mself\u001b[39m\u001b[38;5;241m.\u001b[39mb,\n\u001b[1;32m    705\u001b[0m                                             \u001b[38;5;28mself\u001b[39m\u001b[38;5;241m.\u001b[39mB \u001b[38;5;28;01mif\u001b[39;00m \u001b[38;5;28mself\u001b[39m\u001b[38;5;241m.\u001b[39muse_control \u001b[38;5;28;01melse\u001b[39;00m torch\u001b[38;5;241m.\u001b[39mzeros_like(\u001b[38;5;28mself\u001b[39m\u001b[38;5;241m.\u001b[39mB),\n\u001b[1;32m    706\u001b[0m                                             ms[t \u001b[38;5;241m-\u001b[39m \u001b[38;5;241m1\u001b[39m], P_Cs[t \u001b[38;5;241m-\u001b[39m \u001b[38;5;241m1\u001b[39m], control[:,t,:])\n\u001b[1;32m    708\u001b[0m \u001b[38;5;66;03m# Update\u001b[39;00m\n\u001b[0;32m--> 709\u001b[0m ms[t], P_Cs[t] \u001b[38;5;241m=\u001b[39m \u001b[43m_filter_update_mask_batch_SR\u001b[49m\u001b[43m(\u001b[49m\u001b[38;5;28;43mself\u001b[39;49m\u001b[38;5;241;43m.\u001b[39;49m\u001b[43mH\u001b[49m\u001b[43m,\u001b[49m\u001b[43m \u001b[49m\u001b[38;5;28;43mself\u001b[39;49m\u001b[38;5;241;43m.\u001b[39;49m\u001b[43md\u001b[49m\u001b[43m,\u001b[49m\u001b[43m \u001b[49m\u001b[38;5;28;43mself\u001b[39;49m\u001b[38;5;241;43m.\u001b[39;49m\u001b[43mR\u001b[49m\u001b[43m,\u001b[49m\u001b[43m \u001b[49m\u001b[43mm_ms\u001b[49m\u001b[43m[\u001b[49m\u001b[43mt\u001b[49m\u001b[43m]\u001b[49m\u001b[43m,\u001b[49m\u001b[43m \u001b[49m\u001b[43mP_m_Cs\u001b[49m\u001b[43m[\u001b[49m\u001b[43mt\u001b[49m\u001b[43m]\u001b[49m\u001b[43m,\u001b[49m\u001b[43m \u001b[49m\u001b[43mobs\u001b[49m\u001b[43m[\u001b[49m\u001b[43m:\u001b[49m\u001b[43m,\u001b[49m\u001b[43mt\u001b[49m\u001b[43m,\u001b[49m\u001b[43m:\u001b[49m\u001b[43m]\u001b[49m\u001b[43m,\u001b[49m\u001b[43m \u001b[49m\u001b[43mmask\u001b[49m\u001b[43m[\u001b[49m\u001b[43m:\u001b[49m\u001b[43m,\u001b[49m\u001b[43mt\u001b[49m\u001b[43m,\u001b[49m\u001b[43m:\u001b[49m\u001b[43m]\u001b[49m\u001b[43m)\u001b[49m\n\u001b[1;32m    711\u001b[0m \u001b[38;5;28;01mif\u001b[39;00m \u001b[38;5;28mself\u001b[39m\u001b[38;5;241m.\u001b[39mcov_checker \u001b[38;5;129;01mis\u001b[39;00m \u001b[38;5;129;01mnot\u001b[39;00m \u001b[38;5;28;01mNone\u001b[39;00m:\n\u001b[1;32m    712\u001b[0m     \u001b[38;5;28mself\u001b[39m\u001b[38;5;241m.\u001b[39mcov_checker\u001b[38;5;241m.\u001b[39mcheck(P_m_Cs[t] \u001b[38;5;241m@\u001b[39m P_m_Cs[t]\u001b[38;5;241m.\u001b[39mmT, t\u001b[38;5;241m=\u001b[39mt, name\u001b[38;5;241m=\u001b[39m\u001b[38;5;124m\"\u001b[39m\u001b[38;5;124mfilter_predict\u001b[39m\u001b[38;5;124m\"\u001b[39m, \u001b[38;5;28mtype\u001b[39m\u001b[38;5;241m=\u001b[39m\u001b[38;5;124m\"\u001b[39m\u001b[38;5;124mSR\u001b[39m\u001b[38;5;124m\"\u001b[39m)\n",
      "File \u001b[0;32m~/Documents/uni/Thesis/meteo_imp/meteo_imp/kalman/filter.py:675\u001b[0m, in \u001b[0;36m_filter_update_mask_batch_SR\u001b[0;34m(H, d, R, m_m, P_m_C, obs, mask)\u001b[0m\n\u001b[1;32m    673\u001b[0m \u001b[38;5;28;01mfor\u001b[39;00m i, mask_v \u001b[38;5;129;01min\u001b[39;00m \u001b[38;5;28menumerate\u001b[39m(mask_values):\n\u001b[1;32m    674\u001b[0m     idx_select \u001b[38;5;241m=\u001b[39m indices \u001b[38;5;241m==\u001b[39m i \n\u001b[0;32m--> 675\u001b[0m     m, P_C \u001b[38;5;241m=\u001b[39m \u001b[43m_filter_update_mask_SR\u001b[49m\u001b[43m(\u001b[49m\n\u001b[1;32m    676\u001b[0m \u001b[43m        \u001b[49m\u001b[43mH\u001b[49m\u001b[43m,\u001b[49m\u001b[43m \u001b[49m\u001b[43md\u001b[49m\u001b[43m,\u001b[49m\u001b[43m \u001b[49m\u001b[43mR\u001b[49m\u001b[43m,\u001b[49m\n\u001b[1;32m    677\u001b[0m \u001b[43m        \u001b[49m\u001b[43mm_m\u001b[49m\u001b[43m[\u001b[49m\u001b[43midx_select\u001b[49m\u001b[43m]\u001b[49m\u001b[43m,\u001b[49m\u001b[43m \u001b[49m\u001b[43mP_m_C\u001b[49m\u001b[43m[\u001b[49m\u001b[43midx_select\u001b[49m\u001b[43m]\u001b[49m\u001b[43m,\u001b[49m\n\u001b[1;32m    678\u001b[0m \u001b[43m        \u001b[49m\u001b[43mobs\u001b[49m\u001b[43m[\u001b[49m\u001b[43midx_select\u001b[49m\u001b[43m]\u001b[49m\u001b[43m,\u001b[49m\n\u001b[1;32m    679\u001b[0m \u001b[43m        \u001b[49m\u001b[43mmask_v\u001b[49m\u001b[43m,\u001b[49m\n\u001b[1;32m    680\u001b[0m \u001b[43m    \u001b[49m\u001b[43m)\u001b[49m\n\u001b[1;32m    681\u001b[0m     ms[idx_select], P_Cs[idx_select] \u001b[38;5;241m=\u001b[39m m, P_C\n\u001b[1;32m    683\u001b[0m \u001b[38;5;28;01mreturn\u001b[39;00m ms, P_Cs\n",
      "File \u001b[0;32m~/Documents/uni/Thesis/meteo_imp/meteo_imp/kalman/filter.py:654\u001b[0m, in \u001b[0;36m_filter_update_mask_SR\u001b[0;34m(H, d, R, m_m, P_m_C, obs, mask)\u001b[0m\n\u001b[1;32m    652\u001b[0m \u001b[38;5;28;01mif\u001b[39;00m (\u001b[38;5;241m~\u001b[39mmask)\u001b[38;5;241m.\u001b[39mall(): \u001b[38;5;28;01mreturn\u001b[39;00m (m_m, P_m_C) \u001b[38;5;66;03m# all data is missing\u001b[39;00m\n\u001b[1;32m    653\u001b[0m H_m, d_m, R_m, obs_m, \u001b[38;5;241m=\u001b[39m H[:, mask,:], d[:, mask,:], R[:, mask,:][:, :,mask], obs[:, mask] \u001b[38;5;66;03m# _m for masked\u001b[39;00m\n\u001b[0;32m--> 654\u001b[0m R_C_m \u001b[38;5;241m=\u001b[39m \u001b[43mtorch\u001b[49m\u001b[38;5;241;43m.\u001b[39;49m\u001b[43mlinalg\u001b[49m\u001b[38;5;241;43m.\u001b[39;49m\u001b[43mcholesky\u001b[49m\u001b[43m(\u001b[49m\u001b[43mR_m\u001b[49m\u001b[43m)\u001b[49m\n\u001b[1;32m    655\u001b[0m \u001b[38;5;28;01mreturn\u001b[39;00m _filter_update_SR(H_m, d_m, R_C_m, m_m, P_m_C, obs_m)\n",
      "\u001b[0;31mKeyboardInterrupt\u001b[0m: "
     ]
    }
   ],
   "source": [
    "k_results = kcomp.compare(n_rep =3, gap_len = [6, 12, 24], var = list(hai.columns))"
   ]
  },
  {
   "cell_type": "code",
   "execution_count": null,
   "id": "e8a8e2d2-8dfc-4819-b321-73ab44f3875d",
   "metadata": {},
   "outputs": [],
   "source": [
    "k_results"
   ]
  },
  {
   "cell_type": "markdown",
   "id": "17c70a6e-99ec-4a59-ade1-f5bc6ad5df6d",
   "metadata": {},
   "source": [
    "## Plotting"
   ]
  },
  {
   "cell_type": "markdown",
   "id": "43f153ed-70ee-4381-9bb3-0cfc05889970",
   "metadata": {},
   "source": [
    "### Utils"
   ]
  },
  {
   "cell_type": "code",
   "execution_count": null,
   "id": "7cc52a80-eb0a-460a-939d-e0f67c999ec1",
   "metadata": {},
   "outputs": [],
   "source": [
    "#| export\n",
    "import altair as alt"
   ]
  },
  {
   "cell_type": "markdown",
   "id": "efd3e91f-ce00-47cb-acd8-e9595f4cde4b",
   "metadata": {},
   "source": [
    "#### Faceting"
   ]
  },
  {
   "cell_type": "code",
   "execution_count": null,
   "id": "92940ebd-b6c6-462e-969c-6989a620b9e4",
   "metadata": {},
   "outputs": [],
   "source": [
    "#| export\n",
    "def facet_wrap(data: pd.DataFrame, # full dataset\n",
    "               plot_fn,# function that makes the plot, takes 2 arguments: data and y_label\n",
    "               col: str, # column to facet\n",
    "               y_labels: list[str]|None =None, # custom labels y axis \n",
    "               n_cols=3,\n",
    "               y_resolve='independent'\n",
    "              ):\n",
    "    col_vals = data[col].unique()\n",
    "    plot_list = [alt.hconcat() for _ in range(0, len(col_vals), n_cols)]\n",
    "    for i, col_v in enumerate(col_vals):\n",
    "        plot = plot_fn(data[data[col]==col_v].copy(),\n",
    "                       y_labels[i] if y_labels is not None else col_v\n",
    "                      ).properties(title=str(col_v))\n",
    "        plot_list[i // n_cols] |= plot\n",
    "    return alt.vconcat(*plot_list).resolve_scale(xOffset='independent')#.resolve_scale(\n",
    "        #y=y_resolve\n",
    "    #)\n",
    "    "
   ]
  },
  {
   "cell_type": "code",
   "execution_count": null,
   "id": "4a876831-e0c2-45c7-81ca-9d0283c4d694",
   "metadata": {},
   "outputs": [],
   "source": [
    "#| export\n",
    "def facet_grid(data: pd.DataFrame, # full dataset\n",
    "               plot_fn,# function that makes the plot, takes 2 arguments: data and y_label\n",
    "               col: str, # column to facet,\n",
    "               row: str,\n",
    "               y_labels: list[str]|None = None, # custom labels y axis\n",
    "              ):\n",
    "    row_vals = data[row].unique()\n",
    "    n_cols = len(data[col].unique())\n",
    "    plots = []\n",
    "    for row_val, y_label in zip_longest(row_vals, listify(y_labels)):\n",
    "        plot = facet_wrap(data[data[row]==row_val].copy(), plot_fn, col, y_label, n_cols=n_cols).properties(title=row_val)\n",
    "        plots.append(plot)\n",
    "    return alt.vconcat(*plots)"
   ]
  },
  {
   "cell_type": "code",
   "execution_count": null,
   "id": "468a80e2-095c-4e1e-aa06-16d51da99934",
   "metadata": {},
   "outputs": [],
   "source": [
    "from itertools import product"
   ]
  },
  {
   "cell_type": "code",
   "execution_count": null,
   "id": "b0ebb815-43d5-474e-b7ef-bdcf29e128b5",
   "metadata": {},
   "outputs": [],
   "source": [
    "test_data = pd.DataFrame(list(product(['0','1'], ['a', 'b'])), columns = ['row', 'col'])\n",
    "test_data['text'] = test_data.row + test_data.col"
   ]
  },
  {
   "cell_type": "code",
   "execution_count": null,
   "id": "c7f56662-5038-4dce-9cd0-37577c7600f8",
   "metadata": {},
   "outputs": [],
   "source": [
    "def test_plot(data, *args): return alt.Chart(data).mark_text().encode(text='text')"
   ]
  },
  {
   "cell_type": "code",
   "execution_count": null,
   "id": "dc57443f-93ec-4168-8af6-2461c6f325c7",
   "metadata": {},
   "outputs": [],
   "source": [
    "facet_wrap(test_data, test_plot, col = 'row')"
   ]
  },
  {
   "cell_type": "code",
   "execution_count": null,
   "id": "ddef1493-119e-48ce-ba2e-56888959ffb3",
   "metadata": {},
   "outputs": [],
   "source": [
    "facet_grid(test_data, test_plot, col = 'col', row='row')"
   ]
  },
  {
   "cell_type": "markdown",
   "id": "2e15a791-c260-45f6-bf32-ee779f553403",
   "metadata": {},
   "source": [
    "#### Format"
   ]
  },
  {
   "cell_type": "code",
   "execution_count": null,
   "id": "62e4f19f-97c7-4d8c-ab03-bd21a5f0fdf2",
   "metadata": {},
   "outputs": [],
   "source": [
    "#| export\n",
    "method_scale = alt.Scale(domain=[\"Kalman Filter\", \"ERA-I\", \"MDS\"], scheme='dark2')\n",
    "meteo_scale = alt.Scale(domain = ['TA', 'SW_IN', 'LW_IN', 'VPD', 'WS', 'PA', 'P', 'SWC', 'TS'], scheme='dark2')"
   ]
  },
  {
   "cell_type": "code",
   "execution_count": null,
   "id": "551a10a8-0b21-4b0b-b5f4-8be2a3034119",
   "metadata": {},
   "outputs": [],
   "source": [
    "#| export\n",
    "def _get_labels(data, y, y_labels):\n",
    "    \"\"\"Get optimal labels depending on the `y`\"\"\"\n",
    "    if y_labels is None:\n",
    "        if y == \"rmse_stand\": return [f\"Standardized RMSE\" for var in data['var'].unique()]\n",
    "        elif y == \"rmse\": return [f\"RMSE {var} [{units_big[var]}]\" for var in data['var'].unique()]\n",
    "        elif y == \"mean\": return [f\"{var} [{units_big[var]}]\" for var in data['var'].unique()]\n",
    "        else: return [y for var in data['var'].unique()]\n",
    "    else:\n",
    "        return y_labels"
   ]
  },
  {
   "cell_type": "code",
   "execution_count": null,
   "id": "edef2601-f041-4b12-b164-64e19da455ec",
   "metadata": {},
   "outputs": [],
   "source": [
    "#| export\n",
    "@patch\n",
    "def pipe(self: alt.Chart|alt.VConcatChart|alt.HConcatChart, f: Callable):\n",
    "    \"\"\"applies `f` to `self`\"\"\"\n",
    "    return f(self)\n",
    "\n",
    "@dataclass\n",
    "class PlotFormatter():\n",
    "    \"\"\"Format altair plot by setting font sizes/legend position \"\"\"\n",
    "    font_size: int = 18\n",
    "    legend_font_size: int = 18 \n",
    "    title_font_size: int = 20\n",
    "    legend_label_limit = 300\n",
    "    legend_symbol_size = 150\n",
    "    def __call__(self, plot: alt.Chart):\n",
    "        return (plot\n",
    "            .configure_legend(orient=\"bottom\", labelFontSize=self.font_size, titleFontSize=self.legend_font_size)\n",
    "            .configure_axis(labelFontSize=self.font_size, titleFontSize=self.font_size )\n",
    "            .configure_title(fontSize=self.title_font_size))\n",
    "    \n",
    "    @property\n",
    "    def color_legend(self):\n",
    "        \"\"\"Settings for color legend\"\"\"\n",
    "        return alt.Legend(labelLimit=self.legend_label_limit, symbolSize=self.legend_symbol_size)\n",
    "    \n",
    "plot_formatter = PlotFormatter()"
   ]
  },
  {
   "cell_type": "markdown",
   "id": "2779adda-8017-4903-b6fd-57cffacdf1c3",
   "metadata": {},
   "source": [
    "### The Plot "
   ]
  },
  {
   "cell_type": "code",
   "execution_count": null,
   "id": "641a5dcb-46a5-4848-843d-ccc85c0cbd13",
   "metadata": {},
   "outputs": [],
   "source": [
    "def remove_outliers(data, var, groupby):\n",
    "    \"\"\"Simple but maybe computationally inefficent to remove outliers from boxplot \"\"\""
   ]
  },
  {
   "cell_type": "code",
   "execution_count": null,
   "id": "c90441d1-2163-4f60-b261-be9569dad45f",
   "metadata": {},
   "outputs": [],
   "source": [
    "def custom_box_plot(data, x, y, color, xoffset):\n",
    "    \"\"\"Boxplot for altair without outliers\"\"\"\n",
    "    bar = alt.Chart(data).mark_bar().encode(\n",
    "            x=x,\n",
    "            y='q1:Q',\n",
    "            y2='q2:Q',\n",
    "            color=color,\n",
    "            xoffset=xoffset\n",
    "        ).transform_aggregate(\n",
    "            q1=f'q1({y})',\n",
    "            q3=f'q1({y})',\n",
    "            groupby=[color, xoffset]\n",
    "    )\n",
    "    \n",
    "    return bar"
   ]
  },
  {
   "cell_type": "code",
   "execution_count": null,
   "id": "f6e9507c-3ec8-431c-a1c0-29ab39ccd39f",
   "metadata": {},
   "outputs": [],
   "source": [
    "# custom_box_plot(data_results, 'gap_len', 'rmse', 'method', 'method')"
   ]
  },
  {
   "cell_type": "code",
   "execution_count": null,
   "id": "f47f3d2b-8fa3-44be-9f56-0944cf09c3c2",
   "metadata": {},
   "outputs": [],
   "source": [
    "#| export\n",
    "def _the_plot(data, y_label='rmse', y = 'rmse'):\n",
    "    xoffset_domain = [\"Kalman Filter\", \"ERA-I\", \"MDS\"] \n",
    "    return alt.Chart(data).mark_boxplot(extent=\"min-max\").encode(\n",
    "        x = alt.X('gap_len:N', title='Gap length [h]', axis=alt.Axis(labelAngle=0)),\n",
    "        y = alt.Y(y, title=y_label, axis=alt.Axis(grid=True)),\n",
    "        color=alt.Color('method:N', title = \"Method\", scale=method_scale, legend=plot_formatter.color_legend),\n",
    "        xOffset=alt.XOffset('method', scale=alt.Scale(domain=xoffset_domain)),\n",
    "        # column=alt.Column('var')\n",
    "    ).properties(width=250, height=200)"
   ]
  },
  {
   "cell_type": "code",
   "execution_count": null,
   "id": "71c77295-9285-438c-a11e-d2b3b0ed319a",
   "metadata": {},
   "outputs": [],
   "source": [
    "#| export\n",
    "def the_plot(data):\n",
    "     return (facet_wrap(data, _the_plot, \"var\",\n",
    "                       y_labels = [f\"RMSE {var} [{units_big[var]}]\" for var in data['var'].unique()])\n",
    "            .pipe(plot_formatter))"
   ]
  },
  {
   "cell_type": "code",
   "execution_count": null,
   "id": "023aa1d6-9635-4108-b1e6-6b8ffa67db27",
   "metadata": {},
   "outputs": [],
   "source": [
    "the_plot(data_results)"
   ]
  },
  {
   "cell_type": "code",
   "execution_count": null,
   "id": "cb51b2b7-bd59-4d95-9f2c-6b04a502ca3a",
   "metadata": {},
   "outputs": [],
   "source": [
    "#| export\n",
    "def the_plot_stand(data):\n",
    "    # data = data.query(\"method == 'KalmanFilter'\")\n",
    "    return alt.Chart(data).mark_boxplot(extent=\"min-max\").encode(\n",
    "        x = alt.X('var', title='gap_len [h]', axis=alt.Axis(labelAngle=0)),\n",
    "        y = alt.Y('rmse_stand', title=\"Standardized RMSE\", axis=alt.Axis(grid=True)),\n",
    "        color=alt.Color('method', title=\"Method\", scale=method_scale, legend=plot_formatter.color_legend),\n",
    "        xOffset=alt.XOffset('method:N', scale= alt.Scale(domain=method_scale.domain)),\n",
    "    ).properties(width=600, height=300).pipe(plot_formatter)"
   ]
  },
  {
   "cell_type": "code",
   "execution_count": null,
   "id": "10eb1cca-b973-42d4-a6ec-4fd27c315105",
   "metadata": {},
   "outputs": [],
   "source": [
    "the_plot_stand(data_results)"
   ]
  },
  {
   "cell_type": "code",
   "execution_count": null,
   "id": "cd9ca711-f4d8-4d7e-a1a8-2dd33c804e76",
   "metadata": {},
   "outputs": [],
   "source": [
    "#| export\n",
    "def the_plot_stand2(data):\n",
    "     return _the_plot(data, y='rmse_stand', y_label=\"Standardized RMSE\").facet(alt.Row('var',sort=list(var_type.categories)) , columns=3)"
   ]
  },
  {
   "cell_type": "code",
   "execution_count": null,
   "id": "fd057079-1b1d-4e09-9a14-93f8c4aca9ae",
   "metadata": {},
   "outputs": [],
   "source": [
    "dict(zip(scale_meteo.domain, scale_meteo.range))"
   ]
  },
  {
   "cell_type": "code",
   "execution_count": null,
   "id": "f3ca9f9c-9250-4f27-9a6f-c8c35d4cf6bb",
   "metadata": {},
   "outputs": [],
   "source": [
    "the_plot_stand2(data_results)"
   ]
  },
  {
   "cell_type": "code",
   "execution_count": null,
   "id": "46417fe9-5ffb-4a2a-874e-8716ae4f993f",
   "metadata": {},
   "outputs": [],
   "source": [
    "alt.Color('color')"
   ]
  },
  {
   "cell_type": "code",
   "execution_count": null,
   "id": "f5b44527-fc09-4fd9-83e8-7a681e661ee8",
   "metadata": {},
   "outputs": [],
   "source": [
    "x = alt.X('gap_len'); color = alt.Color('method'); xOffset = alt.XOffset('method'); y = alt.Y('rmse_stand')"
   ]
  },
  {
   "cell_type": "code",
   "execution_count": null,
   "id": "e81da799-546b-466c-836f-a812e41dae80",
   "metadata": {},
   "outputs": [],
   "source": [
    "data_results.groupby([x.shorthand, color.shorthand, xOffset.shorthand]).agg({y.shorthand: ['median', lambda x: x.quantile(.25), lambda x: x.quantile(.75)]}).columns"
   ]
  },
  {
   "cell_type": "code",
   "execution_count": null,
   "id": "584d2d99-ad7c-4fff-ba10-027c64474d12",
   "metadata": {},
   "outputs": [],
   "source": [
    "data_results"
   ]
  },
  {
   "cell_type": "code",
   "execution_count": null,
   "id": "e62077fd-2f97-4561-99b5-95221c52003d",
   "metadata": {},
   "outputs": [],
   "source": [
    "data_results.groupby(['gap_len', 'method', 'var']).agg(\n",
    "        median = pd.NamedAgg(y.shorthand, 'median'),\n",
    "        q1 = pd.NamedAgg(y.shorthand,lambda x: x.quantile(.25)),\n",
    "        q3 = pd.NamedAgg(y.shorthand,lambda x: x.quantile(.75))).reset_index()"
   ]
  },
  {
   "cell_type": "code",
   "execution_count": null,
   "id": "5669d5e4-fc70-457b-a1a1-71ce0150473f",
   "metadata": {},
   "outputs": [],
   "source": [
    "#| export\n",
    "def custom_boxplot_nooutlier(data: pd.DataFrame,x:alt.X,y:alt.Y, color:alt.Color, xOffset:alt.XOffset):\n",
    "    data = data.groupby(['var', 'method']).agg(\n",
    "        median = pd.NamedAgg(y.shorthand, 'median'),\n",
    "        q1 = pd.NamedAgg(y.shorthand,lambda x: x.quantile(.25)),\n",
    "        q3 = pd.NamedAgg(y.shorthand,lambda x: x.quantile(.75))).reset_index().astype({'var': str})\n",
    "    y_label= 'Standaridized RMSE'\n",
    "    bar = alt.Chart(data).mark_bar(size=14).encode(alt.Y('q1', title=y_label), alt.Y2('q3', title=y_label), x, color, xOffset)\n",
    "    tick = alt.Chart(data).mark_tick(color='white', size=14).encode(alt.Y('median'), x, xOffset)\n",
    "    return bar + tick"
   ]
  },
  {
   "cell_type": "code",
   "execution_count": null,
   "id": "941b3ce4-705c-41d5-9375-87bb7ce4a383",
   "metadata": {},
   "outputs": [],
   "source": [
    "#| export\n",
    "def the_plot_stand3(data):\n",
    "    return custom_boxplot_nooutlier(data,\n",
    "                                    alt.X('var:N', title='variable',axis=alt.Axis(labelAngle=0), scale=alt.Scale(domain=meteo_scale.domain)),\n",
    "                                    alt.Y('rmse_stand'),\n",
    "                                    alt.Color('method:N', scale=method_scale),\n",
    "                                    alt.XOffset('method', )).properties(width=600)"
   ]
  },
  {
   "cell_type": "code",
   "execution_count": null,
   "id": "b0b0c69e-bfb7-4c65-bd7e-9bb08d2dea6b",
   "metadata": {},
   "outputs": [],
   "source": [
    "the_plot_stand3(data_results)"
   ]
  },
  {
   "cell_type": "markdown",
   "id": "6eace117-127a-48a2-b424-1332d107d679",
   "metadata": {},
   "source": [
    "violin plots don't work"
   ]
  },
  {
   "cell_type": "code",
   "execution_count": null,
   "id": "ac3b7ac3-f5c1-48b6-8b7f-903dd043be53",
   "metadata": {},
   "outputs": [],
   "source": [
    "def _the_plot_violin(data, y_label):\n",
    "        return alt.Chart(data).mark_area(orient='horizontal').encode(\n",
    "        x = alt.X('density:Q', title='gap_len [h]', axis=alt.Axis(labelAngle=0)),\n",
    "        y = alt.Y('rmse', title=y_label, scale=alt.Scale(domainMin=-.2 *data['rmse'].mean())),\n",
    "        color=alt.Color('method:N', scale=alt.Scale(domain=[\"Kalman Filter\", \"ERA-I\", \"MDS\"], scheme='dark2')),\n",
    "        xOffset=alt.XOffset('method', scale=alt.Scale(domain=[\"Kalman Filter\", \"ERA-I\", \"MDS\"])),\n",
    "        column=alt.Column('gap_len')\n",
    "    ).transform_density(\n",
    "    'rmse',\n",
    "    as_=['rmse', 'density'],\n",
    "    groupby=['method', 'gap_len']\n",
    ").properties(width=250, height=200)"
   ]
  },
  {
   "cell_type": "code",
   "execution_count": null,
   "id": "7dc1394d-5108-44a1-87a9-9771a67b7083",
   "metadata": {},
   "outputs": [],
   "source": [
    "facet_wrap(data_results, _the_plot_violin, \"var\", y_labels = [f\"RMSE {var} [{units_big[var]}]\" for var in data_results['var'].unique()])"
   ]
  },
  {
   "cell_type": "markdown",
   "id": "2402facb-566a-42f3-8cff-e83dc6e64a00",
   "metadata": {},
   "source": [
    "### Gap Length"
   ]
  },
  {
   "cell_type": "code",
   "execution_count": null,
   "id": "cf17e7e0-acc1-43b3-b5ec-1cd487a6cc1d",
   "metadata": {},
   "outputs": [],
   "source": [
    "gap_len = KalmanImpComparison(models_var, hai, hai_era, block_len=100).compare(gap_len = [2,10,30], var=['TA', 'SW_IN', 'VPD'], n_rep=3)"
   ]
  },
  {
   "cell_type": "code",
   "execution_count": null,
   "id": "8395b3d8-cb65-49be-9afe-23a3a3a2f39e",
   "metadata": {},
   "outputs": [],
   "source": [
    "gap_len.gap_len_f"
   ]
  },
  {
   "cell_type": "code",
   "execution_count": null,
   "id": "096a78dc-3465-42f0-b3ba-182651c10f5e",
   "metadata": {},
   "outputs": [],
   "source": [
    "#| export\n",
    "def agg_gap_len(data):\n",
    "    return data.groupby([\"var\", \"gap_len\"]).agg({'rmse': [\n",
    "        'median',\n",
    "        (\"Q1\", lambda x: x.quantile(.25)),\n",
    "        (\"Q3\", lambda x: x.quantile(.75))]}).droplevel(0, axis=1).reset_index()"
   ]
  },
  {
   "cell_type": "code",
   "execution_count": null,
   "id": "65511be0-7826-4a8b-96f7-3ce94d4c1238",
   "metadata": {},
   "outputs": [],
   "source": [
    "gap_len_agg = agg_gap_len(gap_len)"
   ]
  },
  {
   "cell_type": "code",
   "execution_count": null,
   "id": "c1cbac4c-39d7-46ef-b5d9-aca823bdcbb8",
   "metadata": {},
   "outputs": [],
   "source": []
  },
  {
   "cell_type": "code",
   "execution_count": null,
   "id": "db90b133-86cb-4da8-a4cd-620c6d61c13e",
   "metadata": {},
   "outputs": [],
   "source": [
    "gap_len_agg"
   ]
  },
  {
   "cell_type": "code",
   "execution_count": null,
   "id": "df03e561-e199-44c9-ad54-23124700b7cc",
   "metadata": {},
   "outputs": [],
   "source": [
    "#| export\n",
    "def _get_era_rmse(df, control):\n",
    "    \"\"\"Average RMSE for ERA\"\"\"\n",
    "    names = [col for col in control.columns if not col.endswith(\"_lag_1\")]\n",
    "    control = control.copy().filter(names)\n",
    "    control = control.rename(columns=lambda x: x.replace(\"_ERA\", \"\")).loc[df.index]\n",
    "    rmse_df = np.sqrt((df[control.columns] - control).pow(2).mean(axis=0))\n",
    "    rmse_df = rmse_df.to_frame().reset_index()\n",
    "    rmse_df.columns = [\"var\", \"era_rmse\"] \n",
    "    return rmse_df.astype({'var': var_type})"
   ]
  },
  {
   "cell_type": "code",
   "execution_count": null,
   "id": "85c5a611-28a6-4086-8aed-a6d820263f5b",
   "metadata": {},
   "outputs": [],
   "source": [
    "rmse_df = _get_era_rmse(hai, hai_era)"
   ]
  },
  {
   "cell_type": "code",
   "execution_count": null,
   "id": "36eef473-72e9-402a-b202-0a13f0c03e17",
   "metadata": {},
   "outputs": [],
   "source": [
    "rmse_df"
   ]
  },
  {
   "cell_type": "code",
   "execution_count": null,
   "id": "c0f94da0-9494-49ce-841d-846cbb51276c",
   "metadata": {},
   "outputs": [],
   "source": [
    "gap_len_agg"
   ]
  },
  {
   "cell_type": "code",
   "execution_count": null,
   "id": "a83b6ebd-6ab3-441c-9311-6a88fa2b3266",
   "metadata": {},
   "outputs": [],
   "source": [
    "gap_len_agg = pd.merge(gap_len_agg, rmse_df, on='var')"
   ]
  },
  {
   "cell_type": "code",
   "execution_count": null,
   "id": "b819ce10-dcd0-4a5b-945b-5e371b4c754b",
   "metadata": {},
   "outputs": [],
   "source": [
    "#| export\n",
    "def _plot_gap_len(data, y_label):\n",
    "    median = alt.Chart(data).mark_line().encode(\n",
    "        x = alt.X('gap_len', title=\"Gap length [h]\", axis=alt.Axis(labelAngle=0)),\n",
    "        y = alt.Y('median', title=y_label),\n",
    "        color=alt.Color('var', scale=meteo_scale)\n",
    "    ).properties(height=150, width=200)\n",
    "    Qs = alt.Chart(data).mark_errorband().encode(x = 'gap_len', y = alt.Y('Q1', title=y_label), y2= 'Q3', color='var')\n",
    "    # min = alt.Chart(gap_len_agg).mark_point().encode(x = 'gap_len', y = 'min', color='var')\n",
    "    # max = alt.Chart(gap_len_agg).mark_point().encode(x = 'gap_len', y = 'max', color='var')\n",
    "    plot = (median + Qs)\n",
    "    if not np.isnan(data.era_rmse.iloc[0]): plot += alt.Chart().mark_rule(strokeDash=[2,4]).encode(y=alt.datum(data.era_rmse.iloc[0]))\n",
    "\n",
    "    return plot"
   ]
  },
  {
   "cell_type": "code",
   "execution_count": null,
   "id": "825755f7-5d7d-4883-9f40-24dd302aca47",
   "metadata": {},
   "outputs": [],
   "source": [
    "_plot_gap_len(gap_len_agg[gap_len_agg['var'] == 'TA'], \"label\")"
   ]
  },
  {
   "cell_type": "code",
   "execution_count": null,
   "id": "222775f5-399f-4176-91d9-6b7f2444b107",
   "metadata": {},
   "outputs": [],
   "source": [
    "facet_wrap(gap_len_agg, _plot_gap_len, 'var')"
   ]
  },
  {
   "cell_type": "code",
   "execution_count": null,
   "id": "607ee7d3-8aeb-45d9-baeb-516c4463a739",
   "metadata": {},
   "outputs": [],
   "source": [
    "#| export\n",
    "def plot_gap_len(data, df, control):\n",
    "    data = agg_gap_len(data)\n",
    "    data = pd.merge(data, _get_era_rmse(df, control), on='var', how='left')\n",
    "    return (facet_wrap(data, _plot_gap_len, 'var',\n",
    "                       y_labels = [f\"RMSE {var} [{units_big[var]}]\" for var in data['var'].unique()])\n",
    "            .pipe(plot_formatter))"
   ]
  },
  {
   "cell_type": "code",
   "execution_count": null,
   "id": "7710014d-ce54-4c70-8a8a-b3435c144fa4",
   "metadata": {},
   "outputs": [],
   "source": [
    "plot_gap_len(gap_len, hai, hai_era)"
   ]
  },
  {
   "cell_type": "markdown",
   "id": "24b45a21-ac94-44f7-9bcf-a17ae6f05310",
   "metadata": {},
   "source": [
    "### Compare"
   ]
  },
  {
   "cell_type": "markdown",
   "id": "d099a7e4-c183-4e0e-9cdb-dad33eb80899",
   "metadata": {},
   "source": [
    "plotting for comparing performance of 2 or more different conditions"
   ]
  },
  {
   "cell_type": "code",
   "execution_count": null,
   "id": "44bb3102-4371-49e4-b95b-26d1197e5d21",
   "metadata": {},
   "outputs": [],
   "source": [
    "#| export\n",
    "def _plot_compare(data, y_label='rmse', compare:str=\"\", y = \"rmse_stand\", scale_domain=None):\n",
    "    domain = ifnone(scale_domain, data[compare].unique())\n",
    "    return alt.Chart(data).mark_boxplot(extent=\"min-max\").encode(\n",
    "        x = alt.X('gap_len:N', title='Gap length [h]', axis=alt.Axis(labelAngle=0)),\n",
    "        y = alt.Y(y, title=y_label, scale= alt.Scale(zero=False)),\n",
    "        color=alt.Color(compare, scale=alt.Scale(domain = domain, scheme='accent'),legend=plot_formatter.color_legend),\n",
    "        xOffset=alt.XOffset(compare, scale=alt.Scale(domain = domain)),\n",
    "        # column=alt.Column('var')\n",
    "    ).properties(width=250, height=200)"
   ]
  },
  {
   "cell_type": "code",
   "execution_count": null,
   "id": "0e407fed-a2f2-49c4-ad4d-6379c8860ba7",
   "metadata": {},
   "outputs": [],
   "source": [
    "#| export\n",
    "def plot_compare(data: pd.DataFrame,\n",
    "                 compare: str,\n",
    "                 y:str = \"rmse_stand\",\n",
    "                 scale_domain: Sequence|None = None,\n",
    "                 y_labels:Sequence|None = None\n",
    "                ) -> alt.Chart:\n",
    "    y_labels = _get_labels(data, y, y_labels) \n",
    "    return facet_wrap(data, partial(_plot_compare, compare=compare, scale_domain=scale_domain),\n",
    "                       \"var\", y_labels = y_labels\n",
    "                      ).pipe(plot_formatter)"
   ]
  },
  {
   "cell_type": "code",
   "execution_count": null,
   "id": "800eb6a6-afb7-44d9-a057-10c3dfc87ffc",
   "metadata": {},
   "outputs": [],
   "source": [
    "plot_compare(k_results, compare=\"type\")"
   ]
  },
  {
   "cell_type": "markdown",
   "id": "f02a0700-8302-4b9f-ac2e-b723f61f682c",
   "metadata": {},
   "source": [
    "can also show different variables on the y, like the loss of the likelihood"
   ]
  },
  {
   "cell_type": "code",
   "execution_count": null,
   "id": "2772839b-4723-4e42-85a1-5f96644e5824",
   "metadata": {},
   "outputs": [],
   "source": [
    "plot_compare(k_results, compare=\"type\", y=\"loss\")"
   ]
  },
  {
   "cell_type": "markdown",
   "id": "e4640281-fc34-47f6-ba02-431f451f6a77",
   "metadata": {},
   "source": [
    "### Timeseries"
   ]
  },
  {
   "cell_type": "code",
   "execution_count": null,
   "id": "1b04545e-b7f7-4396-9df6-f7f98e3aead4",
   "metadata": {},
   "outputs": [],
   "source": [
    "comp_ts = ImpComparison(models = models_var, df = hai, control = hai_era, block_len = 446, rmse=False, time_series = True)"
   ]
  },
  {
   "cell_type": "code",
   "execution_count": null,
   "id": "f52ccef7-5d4e-45f2-8b42-df2e7a11ce5c",
   "metadata": {},
   "outputs": [],
   "source": [
    "res_ts = comp_ts.compare(gap_len = [12,24,336], var=[\"TA\", 'SW_IN'], n_rep=1) "
   ]
  },
  {
   "cell_type": "code",
   "execution_count": null,
   "id": "d0d48a46-def6-49b1-9dce-62e2590ddbd4",
   "metadata": {},
   "outputs": [],
   "source": [
    "res_ts.columns"
   ]
  },
  {
   "cell_type": "code",
   "execution_count": null,
   "id": "e0f19b09-1213-436f-a033-c97b2621ed6c",
   "metadata": {},
   "outputs": [],
   "source": [
    "test_ts = res_ts.query('method == \"Kalman Filter\" and var == \"TA\"')"
   ]
  },
  {
   "cell_type": "code",
   "execution_count": null,
   "id": "2dd08cc9-a1e0-49a8-ab64-56b1d9e1987e",
   "metadata": {},
   "outputs": [],
   "source": [
    "row_res = test_ts.iloc[0]"
   ]
  },
  {
   "cell_type": "code",
   "execution_count": null,
   "id": "7e968b35-2102-44ea-97fe-ea749269003f",
   "metadata": {},
   "outputs": [],
   "source": [
    "pred_all = row_res.pred[0]\n",
    "targ =  row_res.targ[0]\n",
    "var = row_res['var']"
   ]
  },
  {
   "cell_type": "code",
   "execution_count": null,
   "id": "4db9c6d4-306c-4f07-916e-b13b68e30885",
   "metadata": {},
   "outputs": [],
   "source": [
    "type(pred_all)"
   ]
  },
  {
   "cell_type": "code",
   "execution_count": null,
   "id": "fead6f42-f792-457b-a7f1-726a247c19f0",
   "metadata": {},
   "outputs": [],
   "source": [
    "targ.mask[var]"
   ]
  },
  {
   "cell_type": "code",
   "execution_count": null,
   "id": "c07e5b56-4608-4d19-bde9-a93a92580453",
   "metadata": {},
   "outputs": [],
   "source": [
    "list(row_res.index)"
   ]
  },
  {
   "cell_type": "code",
   "execution_count": null,
   "id": "7d00387c-80ed-45fb-9ce5-b3a9dcebec02",
   "metadata": {},
   "outputs": [],
   "source": [
    "np.argmin(row_res.targ[0].mask['TA'])"
   ]
  },
  {
   "cell_type": "code",
   "execution_count": null,
   "id": "b5d90b70-aa78-40e8-ad70-cca5f4a98a75",
   "metadata": {},
   "outputs": [],
   "source": [
    "row_res.targ[0].mask['TA'].index[47]"
   ]
  },
  {
   "cell_type": "code",
   "execution_count": null,
   "id": "7f18caf5-3812-4ab6-bf7b-32f0d1fa0423",
   "metadata": {},
   "outputs": [],
   "source": [
    "#| export\n",
    "def unnest_predictions(row_res: pd.Series, ctx_len:int=50):\n",
    "    \"\"\"Unnest predictions/target for each gap to plot timeseries \"\"\"\n",
    "    pred = row_res.pred[0]\n",
    "    targ =  row_res.targ[0]\n",
    "    var = row_res['var']\n",
    "    if isinstance(pred, NormalsDf):\n",
    "        mean = pred.mean[var]\n",
    "        std = pred.std[var]\n",
    "    else:\n",
    "        mean = pred[var]\n",
    "        std = np.nan\n",
    "    \n",
    "    \n",
    "    measurement = targ.data[var]\n",
    "    is_present = targ.mask[var]\n",
    "    \n",
    "    gap_len = (~is_present).sum()\n",
    "    gap_start = np.argmin(is_present)\n",
    "    ctx_start = is_present.index[gap_start - (ctx_len - gap_len) //2]\n",
    "    ctx_end = is_present.index[gap_start + gap_len + (ctx_len - gap_len) //2]\n",
    "    \n",
    "    is_present = is_present[ctx_start:ctx_end]\n",
    "    measurement = measurement[ctx_start:ctx_end]\n",
    "    mean = mean[ctx_start:ctx_end]\n",
    "    if type(std) != float: std = std[ctx_start:ctx_end] \n",
    "    \n",
    "    mean[is_present] = np.nan # plot only predictions in gap\n",
    "    \n",
    "    other_cols = {name: row_res[name] for name in list(row_res.index) if name not in ['pred', 'targ']}\n",
    "    \n",
    "    out =  pd.DataFrame({'mean': mean, 'std': std, 'measurement': measurement, 'is_present': is_present} | other_cols)\n",
    "    return out.reset_index()\n",
    "    "
   ]
  },
  {
   "cell_type": "code",
   "execution_count": null,
   "id": "bea3c3ae-d84b-42bd-9bb1-34274545468d",
   "metadata": {},
   "outputs": [],
   "source": [
    "unnest_predictions(row_res)"
   ]
  },
  {
   "cell_type": "code",
   "execution_count": null,
   "id": "dd54d034-79b7-4aea-895e-5e688e0b41d9",
   "metadata": {},
   "outputs": [],
   "source": [
    "res_ts_plot = pd.concat([unnest_predictions(row) for _,row in res_ts.iterrows()])"
   ]
  },
  {
   "cell_type": "code",
   "execution_count": null,
   "id": "3224a5b8-f24e-4ada-842a-5c53757aacb4",
   "metadata": {},
   "outputs": [],
   "source": [
    "#| export\n",
    "from meteo_imp.kalman.training import def_selection, plot_points, plot_line, plot_error"
   ]
  },
  {
   "cell_type": "code",
   "execution_count": null,
   "id": "162c408a-902c-4eb4-bf00-9f100f380aca",
   "metadata": {},
   "outputs": [],
   "source": [
    "plot_points(res_ts_plot.query('var == \"TA\" and method == \"Kalman Filter\" and idx_rep == 0 and gap_len==6.'), y= \"measurement\")"
   ]
  },
  {
   "cell_type": "code",
   "execution_count": null,
   "id": "7e91a874-7e53-4cb2-9714-276ea5f52fa8",
   "metadata": {},
   "outputs": [],
   "source": [
    "plot_missing_area(res_ts_plot.query('var == \"TA\" and method == \"Kalman Filter\" and idx_rep == 0 and gap_len==6.'))"
   ]
  },
  {
   "cell_type": "code",
   "execution_count": null,
   "id": "8ce2a857-7c60-4f5a-abe5-4dbe6ce3e7f5",
   "metadata": {},
   "outputs": [],
   "source": [
    "plot_line(res_ts_plot.query('var == \"TA\" and idx_rep == 0 and gap_len==6.'), y= \"mean\", color='method', scale=alt.Scale())"
   ]
  },
  {
   "cell_type": "code",
   "execution_count": null,
   "id": "a02c7b88-c0a2-452c-9ad4-912fd0cdb09c",
   "metadata": {},
   "outputs": [],
   "source": [
    "plot_error(res_ts_plot.query('var == \"TA\" and idx_rep == 0 and gap_len==6.').copy(), y= \"mean\", color='method', scale=alt.Scale())"
   ]
  },
  {
   "cell_type": "code",
   "execution_count": null,
   "id": "58d68e1b-88cd-4392-b478-f2919931c2a5",
   "metadata": {},
   "outputs": [],
   "source": [
    "#| export\n",
    "def _plot_timeseries(data_plot, y_label=\"\", scale_color=method_scale, compare = 'method', err_band=True):\n",
    "    \"\"\"data for one variable and one gap\"\"\"\n",
    "    data_measure = data_plot[data_plot[compare] == data_plot[compare].unique()[0]]\n",
    "    \n",
    "    p = [plot_points(data_measure, y= \"measurement\", y_label=y_label)]\n",
    "    p.append(plot_missing_area(data_measure))\n",
    "    if err_band: p.append(plot_error(data_plot, y= \"mean\", color=compare, scale=scale_color, y_label=y_label))\n",
    "    p.append(plot_line(data_plot, y= \"mean\", color=compare,\n",
    "                     color_title = \"Method\",   \n",
    "                     scale=scale_color, y_label=y_label, props={'height': 200, 'width': 300}))\n",
    "    return alt.layer(*p)"
   ]
  },
  {
   "cell_type": "code",
   "execution_count": null,
   "id": "133bf247-f3f4-4e89-9869-dac2e5aade74",
   "metadata": {},
   "outputs": [],
   "source": [
    "_plot_timeseries(res_ts_plot.query('var == \"TA\" and idx_rep == 0 and gap_len==6.').copy(), \"TA\")"
   ]
  },
  {
   "cell_type": "code",
   "execution_count": null,
   "id": "9ffc3940-7267-4bee-9132-233870a280ce",
   "metadata": {},
   "outputs": [],
   "source": [
    "_plot_timeseries(res_ts_plot.query('var == \"SW_IN\" and idx_rep == 0 and gap_len==12.').copy(), \"SW_IN\")"
   ]
  },
  {
   "cell_type": "code",
   "execution_count": null,
   "id": "229b1517-81ae-4900-83df-d10397f561c0",
   "metadata": {},
   "outputs": [],
   "source": [
    "data_ts = pd.concat([unnest_predictions(row) for _,row in res_ts.iterrows()])"
   ]
  },
  {
   "cell_type": "code",
   "execution_count": null,
   "id": "815153bd-2588-45a0-b544-572523f8d035",
   "metadata": {},
   "outputs": [],
   "source": [
    "#| export\n",
    "def plot_timeseries(data, idx_rep:int|None=None, gap_len:int|None = None, max_idx:int = 3,\n",
    "                    ctx_len={6.: 50, 12.: 50, 168.: 336+48},\n",
    "                    scale_color=method_scale, compare='method'):\n",
    "    \n",
    "    if idx_rep == 'random': idx_rep = int(data['idx_rep'].sample())\n",
    "    if gap_len is None and idx_rep is not None:\n",
    "        data_plot = data.query(f'idx_rep == {idx_rep}').copy()\n",
    "        facet_var = 'gap_len_f'\n",
    "    elif gap_len is not None and idx_rep is None:\n",
    "        data_plot = data.query(f'gap_len == {gap_len} and idx_rep < {max_idx}').copy()\n",
    "        facet_var = 'idx_rep'\n",
    "    else:\n",
    "        raise ValueError(f\"One and only one of idx_rep, gap_len should be None. got {idx_rep}, {gap_len}\")\n",
    "    data_plot = pd.concat([unnest_predictions(row, ctx_len[row.gap_len]) for _, row in data_plot.iterrows()])\n",
    "    data_plot = data_plot.astype({'idx_rep': str, 'gap_len_f': str})\n",
    "    data_plot['gap_len_f'] = data_plot['gap_len_f'].apply(lambda x: \"Gap \" + x)\n",
    "    y_labels = _get_labels(data, 'rmse', None)\n",
    "    return (facet_grid(data_plot, partial(_plot_timeseries, scale_color=scale_color, compare=compare),\n",
    "                      row=\"var\", col=facet_var, y_labels=y_labels)\n",
    "            .pipe(plot_formatter))\n",
    "        \n",
    "    "
   ]
  },
  {
   "cell_type": "code",
   "execution_count": null,
   "id": "80b11069-0f7a-40ac-b726-004246857608",
   "metadata": {},
   "outputs": [],
   "source": [
    "plot_timeseries(res_ts, idx_rep='random')"
   ]
  },
  {
   "cell_type": "markdown",
   "id": "a63be8af-4fdb-4f8e-94a7-edf4985a0e32",
   "metadata": {},
   "source": [
    "### Scatter plot"
   ]
  },
  {
   "cell_type": "code",
   "execution_count": null,
   "id": "e7f9912e-eee1-40a6-9eb3-4b010a5278c5",
   "metadata": {},
   "outputs": [],
   "source": [
    "#| export\n",
    "def _plot_scatter(df, only_present=True, x = \"value\", y=\"mean\", x_label=\"\", y_label = \"\", color = 'method', scale=method_scale, props = {}):\n",
    "    # df = df[df.is_present] if only_present else df\n",
    "    # TODO remove onle_present\n",
    "    return alt.Chart(df).mark_point().encode(\n",
    "        x = alt.X(x, title=x_label),    \n",
    "        y = alt.Y(y, title = y_label),\n",
    "        color=alt.Color(color, scale= scale),\n",
    "        shape = color\n",
    "    ).properties(\n",
    "        **props\n",
    "    )\n",
    "\n",
    "    "
   ]
  },
  {
   "cell_type": "code",
   "execution_count": null,
   "id": "3f80c578-fa4b-415b-8651-1a4b0fc9d801",
   "metadata": {},
   "outputs": [],
   "source": [
    "_plot_scatter(data_ts.query('var == \"TA\" and gap_len==12. and idx_rep ==0').copy(), x=\"measurement\", y= \"mean\", color='method', scale=alt.Scale())"
   ]
  },
  {
   "cell_type": "markdown",
   "id": "a69c4261-536d-4590-ac51-46dbe4dac96e",
   "metadata": {},
   "source": [
    "## Table"
   ]
  },
  {
   "cell_type": "markdown",
   "id": "2aa0273c-55a5-4645-abbc-d9f3e26104f6",
   "metadata": {},
   "source": [
    "### The Table"
   ]
  },
  {
   "cell_type": "markdown",
   "id": "0d78adfa-6352-428c-8cb5-b27d9ecb8fbe",
   "metadata": {},
   "source": [
    "A table where in the rows there is "
   ]
  },
  {
   "cell_type": "code",
   "execution_count": null,
   "id": "ad57b609-26e2-4625-98f0-c2ce7ae4639f",
   "metadata": {},
   "outputs": [],
   "source": [
    "t = data_results.groupby(['method', 'var', 'gap_len']).agg({'rmse': ['mean', 'std']}).unstack(level=0)\n",
    "\n",
    "t_idx = t.columns.droplevel()\n",
    "t_idx.names = ['RMSE', None]\n",
    "\n",
    "t2 = t.copy()\n",
    "t2.columns = t_idx\n",
    "\n",
    "t2 = t2.sort_index(axis=1, level=1).swaplevel(axis=1)\n",
    "t2"
   ]
  },
  {
   "cell_type": "code",
   "execution_count": null,
   "id": "f9a07996-0c5e-462d-96ea-a3cca5e232cd",
   "metadata": {},
   "outputs": [],
   "source": [
    "row = t2.iloc[0]"
   ]
  },
  {
   "cell_type": "code",
   "execution_count": null,
   "id": "bb7a333b-a634-495d-b34f-8b823ee42fff",
   "metadata": {},
   "outputs": [],
   "source": [
    "row"
   ]
  },
  {
   "cell_type": "code",
   "execution_count": null,
   "id": "3b6a55ac-b4c6-4168-ae7a-bf14555db707",
   "metadata": {},
   "outputs": [],
   "source": [
    "np.argmin(row.iloc[[0,2,4]]) * 2"
   ]
  },
  {
   "cell_type": "code",
   "execution_count": null,
   "id": "7fcdfeec-1b5d-4fd6-942d-46716c5ec644",
   "metadata": {},
   "outputs": [],
   "source": [
    "#| export\n",
    "def highlight_min_method(row, props, cols): \n",
    "    # select even columns that are the mean\n",
    "    return np.where(row == np.min(row.iloc[cols]), props, '')\n",
    "\n",
    "def style_the_table(style, cols=[0,2,4]):\n",
    "    return (style.apply(highlight_min_method, props=\"font-weight: bold\", cols=cols, axis=1)\n",
    "                .format_index(precision=0).format(precision=3, na_rep='-'))"
   ]
  },
  {
   "cell_type": "code",
   "execution_count": null,
   "id": "e11ac40e-c68d-44fa-8225-df9dabd81f36",
   "metadata": {},
   "outputs": [],
   "source": [
    "# #| export\n",
    "# renames_table_latex = {name: f\"\\parbox{{2.1cm}}{{{val}}}\" for name, val in \n",
    "#                  {'SW_IN': \"Shortwave radiation incoming \\\\textbf{SW IN} [\\si{W/m^2}]\",\n",
    "#                'LW_IN': 'Longwave radiation incoming \\\\textbf{LW IN} [$W/m^2$]',\n",
    "#                'TA': \"Air Temperature \\\\textbf{TA} [$°C$]\",\n",
    "#                'VPD': \"Vapuour Pressure Deficit \\\\textbf{VPD} [$hPa$]\",\n",
    "#                'PA': \"Air Pressure \\\\textbf{PA} [$hPa$]\",\n",
    "#                'P': \"Precipitation \\\\textbf{P} [$mm$]\",\n",
    "#                'WS': \"Wind Speed \\\\textbf{WS} [$m/s$]\",\n",
    "#           }.items()}"
   ]
  },
  {
   "cell_type": "code",
   "execution_count": null,
   "id": "86277b37-b171-454a-91fb-696522bb3f88",
   "metadata": {},
   "outputs": [],
   "source": [
    "#| export\n",
    "renames_table_latex = {name: f\"\\\\parbox{{2.1cm}}{{{val}}}\" for name, val in \n",
    "                 {'SW_IN': \"\\\\textbf{SW\\\\_IN} [\\\\si{W/m^2}]\",\n",
    "               'LW_IN': '\\\\textbf{LW\\\\_IN} [\\\\si{W/m^2}]',\n",
    "               'TA': \"\\\\textbf{TA} [\\\\si{°C}]\",\n",
    "               'VPD': \"\\\\textbf{VPD} [\\\\si{hPa}]\",\n",
    "               'PA': \"\\\\textbf{PA} [\\\\si{hPa}]\",\n",
    "               'P': \"\\\\textbf{P} [\\\\si{mm}]\",\n",
    "               'WS': \"\\\\textbf{WS} [\\\\si{m/s}]\",\n",
    "               'TS': \"\\\\textbf{TS} [\\\\si{°C}]\",\n",
    "               'SWC': \"\\\\textbf{SWC} [\\\\si{\\%}]\",\n",
    "          }.items()}"
   ]
  },
  {
   "cell_type": "code",
   "execution_count": null,
   "id": "2d0e0eb2-0aa4-4c5e-9eac-a8d297705678",
   "metadata": {},
   "outputs": [],
   "source": [
    "#| export\n",
    "renames_table_latex = {name: f\"{{{val}}}\" for name, val in \n",
    "                 {'SW_IN': \"\\\\textbf{SW\\\\_IN} [\\\\si{W/m^2}]\",\n",
    "               'LW_IN': '\\\\textbf{LW\\\\_IN} [\\\\si{W/m^2}]',\n",
    "               'TA': \"\\\\textbf{TA} [\\\\si{°C}]\",\n",
    "               'VPD': \"\\\\textbf{VPD} [\\\\si{hPa}]\",\n",
    "               'PA': \"\\\\textbf{PA} [\\\\si{hPa}]\",\n",
    "               'P': \"\\\\textbf{P} [\\\\si{mm}]\",\n",
    "               'WS': \"\\\\textbf{WS} [\\\\si{m/s}]\",\n",
    "               'TS': \"\\\\textbf{TS} [\\\\si{°C}]\",\n",
    "               'SWC': \"\\\\textbf{SWC} [\\\\si{\\%}]\",\n",
    "          }.items()}"
   ]
  },
  {
   "cell_type": "code",
   "execution_count": null,
   "id": "6d434621-5570-429b-a7a0-7d0fdb23b07b",
   "metadata": {},
   "outputs": [],
   "source": [
    "#| export\n",
    "renames_table_latex_stand = {name: f\"\\\\parbox{{2.1cm}}{{{val}}}\" for name, val in \n",
    "                 {'SW_IN': \"\\\\textbf{SW\\\\_IN}\",\n",
    "               'LW_IN': '\\\\textbf{LW\\\\_IN}',\n",
    "               'TA': \"\\\\textbf{TA}\",\n",
    "               'VPD': \"\\\\textbf{VPD}\",\n",
    "               'PA': \"\\\\textbf{PA}\",\n",
    "               'P': \"\\\\textbf{P}\",\n",
    "               'WS': \"\\\\textbf{WS}\",\n",
    "               'TS': \"\\\\textbf{TS}\",\n",
    "               'SWC': \"\\\\textbf{SWC}\",\n",
    "          }.items()}"
   ]
  },
  {
   "cell_type": "code",
   "execution_count": null,
   "id": "e6567959-69e1-4132-9a55-8e42fa41d305",
   "metadata": {},
   "outputs": [],
   "source": [
    "t2.style.pipe(style_the_table)"
   ]
  },
  {
   "cell_type": "code",
   "execution_count": null,
   "id": "ac03c7df-cce8-400f-a320-0e4c91af979f",
   "metadata": {},
   "outputs": [],
   "source": [
    "t3 = t2.rename(index = renames_table_latex).style.apply(highlight_min_method, props=\"font-weight: bold\", axis=1, cols=[0,2,4]).format_index(precision=0).format(precision=3)"
   ]
  },
  {
   "cell_type": "code",
   "execution_count": null,
   "id": "3d82f769-f90e-497b-8f11-59ea99e1156f",
   "metadata": {},
   "outputs": [],
   "source": [
    "t3"
   ]
  },
  {
   "cell_type": "code",
   "execution_count": null,
   "id": "888e2403-7375-4475-a7c6-1abac27e0383",
   "metadata": {},
   "outputs": [],
   "source": [
    "print(t3.to_latex(convert_css=True, hrules=True, clines=\"skip-last;data\", column_format=\"p{2.1cm}c|rr|rr|rr\", caption=\"caption\", label=\"table\"))"
   ]
  },
  {
   "cell_type": "code",
   "execution_count": null,
   "id": "27261018-affb-45e3-84f3-08292d14ce68",
   "metadata": {},
   "outputs": [],
   "source": [
    "#| export\n",
    "def the_table(data, y='rmse', y_name=\"RMSE\"):\n",
    "    data = data.groupby(['method', 'var', 'gap_len']).agg({y: ['mean', 'std']}).unstack(level=0)\n",
    "\n",
    "    data_cols = data.columns.droplevel()\n",
    "    data_cols.names = [y_name, None]\n",
    "    data.columns = data_cols\n",
    "    data.index.names = [\"Variable\", \"Gap [$h$]\"]\n",
    "    return data.sort_index(axis=1, level=1).swaplevel(axis=1)   "
   ]
  },
  {
   "cell_type": "code",
   "execution_count": null,
   "id": "34a99931-a96e-4f2b-8dd5-b52e0be0bd72",
   "metadata": {},
   "outputs": [],
   "source": [
    "the_table(data_results)"
   ]
  },
  {
   "cell_type": "code",
   "execution_count": null,
   "id": "bdce6ce8-1241-4a07-8073-ee34c9dfc8a7",
   "metadata": {},
   "outputs": [],
   "source": [
    "#| export\n",
    "def the_table_latex(table, file, caption=\"\", label=\"\", stand=False):\n",
    "    renames = renames_table_latex if not stand else renames_table_latex_stand\n",
    "    styled = table.rename(index = renames).style.pipe(style_the_table).format(na_rep=\"-\", precision=3)\n",
    "    latex = styled.to_latex(convert_css=True, hrules=True, clines=\"skip-last;data\",\n",
    "                            column_format=\"p{2.1cm}c|rr|rr|rr\", caption=caption, label=label, position_float=\"centering\")\n",
    "    with open(file, 'w') as f:\n",
    "        f.write(latex)\n",
    "    return file"
   ]
  },
  {
   "cell_type": "code",
   "execution_count": null,
   "id": "764de351-9c8d-488c-8b11-f7ea62b98ca2",
   "metadata": {},
   "outputs": [],
   "source": [
    "the_table_latex(the_table(data_results), \"test_table.tex\")"
   ]
  },
  {
   "cell_type": "markdown",
   "id": "72aba897-9de0-4a67-a8dc-9122717731b2",
   "metadata": {},
   "source": [
    "### Table compare"
   ]
  },
  {
   "cell_type": "code",
   "execution_count": null,
   "id": "00612633-cb2a-4c36-9c36-66a5779f1d4d",
   "metadata": {},
   "outputs": [],
   "source": [
    "#| export\n",
    "err_type = CategoricalDtype(categories=[\"se\", \"std\", \"mean\", \"diff.\"], ordered=True)\n",
    "def table_compare(data, compare:str, y = 'rmse_stand', compare_ascending=True):\n",
    "    data = data.groupby([compare, 'var', 'gap_len']).agg({y: ['mean', 'std', ('se', 'sem')]}).unstack(level=0).droplevel(level=0, axis=1)\n",
    "    \n",
    "    data[\"diff.\"] = (data.iloc[:, 0] - data.iloc[:, 1])\n",
    "    \n",
    "    data_cols = data.columns\n",
    "    data_cols.names = ['RMSE Standardized', compare]\n",
    "    # support custom sorting order\n",
    "    data.columns = pd.MultiIndex.from_frame(data_cols.to_frame().astype({'RMSE Standardized': err_type}))\n",
    "    data.index.names = [\"Variable\", \"Gap [$h$]\"]\n",
    "    return data.sort_index(axis=1, level=1, ascending=False).swaplevel(axis=1) "
   ]
  },
  {
   "cell_type": "code",
   "execution_count": null,
   "id": "221e26ab-e61c-4995-9fe6-1effc4f7cd2b",
   "metadata": {},
   "outputs": [],
   "source": [
    "table_compare(k_results, 'type')"
   ]
  },
  {
   "cell_type": "code",
   "execution_count": null,
   "id": "d52ce3be-e76e-4b4b-8d00-c3c293db523d",
   "metadata": {},
   "outputs": [],
   "source": [
    "#| export\n",
    "def table_compare_latex(table, file, caption=\"\", label=\"\"):\n",
    "    styled = table.rename(index = renames_table_latex_stand).style.pipe(partial(style_the_table, cols=[0,3]))\n",
    "    latex = styled.to_latex(convert_css=True, hrules=True, clines=\"skip-last;data\",\n",
    "                            column_format=\"p{2.1cm}c|rrr|rrr|r\", caption=caption, label=label, position_float=\"centering\")\n",
    "    with open(file, 'w') as f:\n",
    "        f.write(latex)\n",
    "    return file"
   ]
  },
  {
   "cell_type": "markdown",
   "id": "5d5e3d40-71f3-47e1-ab17-f5ad6fa89520",
   "metadata": {},
   "source": [
    "### Table Compare 3"
   ]
  },
  {
   "cell_type": "markdown",
   "id": "1851915a-4f3b-49bb-a239-1c164de06cc0",
   "metadata": {},
   "source": [
    "same of above but for comparing 3 options instead of 2"
   ]
  },
  {
   "cell_type": "code",
   "execution_count": null,
   "id": "73679538-c521-436d-b587-e8505126118a",
   "metadata": {},
   "outputs": [],
   "source": [
    "#| export\n",
    "def table_compare3(data, compare:str, y = 'rmse_stand', compare_ascending=True):\n",
    "    data = data.groupby([compare, 'var', 'gap_len']).agg({y: ['mean', 'std']}).unstack(level=0).droplevel(level=0, axis=1)\n",
    "    \n",
    "    data_cols = data.columns\n",
    "    data_cols.names = ['RMSE Standardized', compare]\n",
    "    data.index.names = [\"Variable\", \"Gap [$h$]\"]\n",
    "    return data.sort_index(axis=1, level=1, ascending=True).swaplevel(axis=1) "
   ]
  },
  {
   "cell_type": "code",
   "execution_count": null,
   "id": "51d890c4-a55b-442f-9f03-658a644e94f0",
   "metadata": {},
   "outputs": [],
   "source": [
    "#| export\n",
    "def table_compare3_latex(table, file, caption=\"\", label=\"\"):\n",
    "    styled = table.rename(index = renames_table_latex_stand).style.pipe(partial(style_the_table, cols=[0,2,4]))\n",
    "    latex = styled.to_latex(convert_css=True, hrules=True, clines=\"skip-last;data\",\n",
    "                            column_format=\"p{2.1cm}c|rr|rr|rr\", caption=caption, label=label, position_float=\"centering\")\n",
    "    with open(file, 'w') as f:\n",
    "        f.write(latex)\n",
    "    return file"
   ]
  },
  {
   "cell_type": "markdown",
   "id": "27a03917-5f5e-4f37-9842-fbc5a4a2af2f",
   "metadata": {},
   "source": [
    "### Gap len table"
   ]
  },
  {
   "cell_type": "code",
   "execution_count": null,
   "id": "991c41f2-09fe-4c1a-a04e-1de77af2a4f5",
   "metadata": {},
   "outputs": [],
   "source": [
    "g = gap_len.groupby(['var', 'gap_len']).agg({'rmse': ['mean']})"
   ]
  },
  {
   "cell_type": "code",
   "execution_count": null,
   "id": "9c7f6696-0097-4960-a581-81028304ff7f",
   "metadata": {},
   "outputs": [],
   "source": [
    "g"
   ]
  },
  {
   "cell_type": "code",
   "execution_count": null,
   "id": "fa7d523d-b93a-4b10-bafb-de6b26afc419",
   "metadata": {},
   "outputs": [],
   "source": [
    "(g.droplevel(level=0, axis=1)\n",
    " .reset_index()\n",
    " .melt(id_vars=['var', 'gap_len'], var_name='rmse')\n",
    " .pivot(index = ['var', 'rmse'], columns=['gap_len'])\n",
    " .droplevel(level=0, axis=1)\n",
    ")"
   ]
  },
  {
   "cell_type": "code",
   "execution_count": null,
   "id": "e9c4efc2-f96b-47af-95ad-5f2d6b57e3b4",
   "metadata": {},
   "outputs": [],
   "source": [
    "#| export\n",
    "def table_gap_len(data, y = 'rmse'):\n",
    "    t = (data\n",
    "         .groupby(['var', 'gap_len']).agg({y: ['mean', 'std']})\n",
    "        .droplevel(level=0, axis=1)\n",
    "         .reset_index()\n",
    "         .melt(id_vars=['var', 'gap_len'], var_name='rmse')\n",
    "         .pivot(index = ['var', y], columns=['gap_len'])\n",
    "         .droplevel(level=0, axis=1)\n",
    "        ) \n",
    "    \n",
    "    t.columns.names = [\"Gap [$h$]\"]\n",
    "    t.index.names = (\"Variable\", \"RMSE\")\n",
    "    \n",
    "    return t.sort_index(axis=1, level=1)"
   ]
  },
  {
   "cell_type": "code",
   "execution_count": null,
   "id": "b5174489-bf83-4b40-a70e-3c8177b8c28b",
   "metadata": {},
   "outputs": [],
   "source": [
    "table_gap_len(gap_len)"
   ]
  },
  {
   "cell_type": "code",
   "execution_count": null,
   "id": "3b92cc95-fde7-4363-9c26-8d3ad8ccafc1",
   "metadata": {},
   "outputs": [],
   "source": [
    "#| export\n",
    "def table_gap_len_latex(table, file, caption=\"\", label=\"\"):\n",
    "    table.columns = [f\"{col:.0f}\" for col in list(table.columns)]\n",
    "    styled = table.rename(index = renames_table_latex_stand).style.format(precision=3, na_rep='-')\n",
    "    table_cols = 'c' * len(table.columns)\n",
    "    latex = styled.to_latex(convert_css=True, hrules=True, clines=\"skip-last;data\",\n",
    "                            column_format=\"p{2.1cm}l|\" + table_cols, caption=caption, label=label, position_float=\"centering\")\n",
    "    with open(file, 'w') as f:\n",
    "        f.write(latex)\n",
    "    return file"
   ]
  },
  {
   "cell_type": "code",
   "execution_count": null,
   "id": "f943aead-e6fd-4881-acd3-4f88e9a40c50",
   "metadata": {},
   "outputs": [],
   "source": [
    "[f\"{col:.0f}\" for col in list(table_gap_len(gap_len).columns)]"
   ]
  },
  {
   "cell_type": "code",
   "execution_count": null,
   "id": "4d36d48a-8e76-4f69-b29d-bd118e8a6472",
   "metadata": {},
   "outputs": [],
   "source": [
    "from tempfile import tempdir\n",
    "from pathlib import Path"
   ]
  },
  {
   "cell_type": "code",
   "execution_count": null,
   "id": "deafca3e-84c4-438d-9013-29eac6a6088d",
   "metadata": {},
   "outputs": [],
   "source": [
    "table_gap_len_latex(table_gap_len(gap_len), Path(tempdir) / \"test_table.tex\")"
   ]
  }
 ],
 "metadata": {
  "kernelspec": {
   "display_name": "data_science",
   "language": "python",
   "name": "data_science"
  }
 },
 "nbformat": 4,
 "nbformat_minor": 5
}
