{
 "cells": [
  {
   "cell_type": "markdown",
   "id": "652b2475-13fd-4786-b3be-955916f3ac14",
   "metadata": {},
   "source": [
    "# Fluxnet Hainich\n",
    "> Load Hainich dataset from fluxnet\n",
    "\n",
    "Due to license reason the data is not included in the repo, but you can download it from fluxnet"
   ]
  },
  {
   "cell_type": "code",
   "execution_count": null,
   "id": "4d68a7cc-7cb9-4417-961b-53548ceee549",
   "metadata": {},
   "outputs": [],
   "source": [
    "#| hide\n",
    "#| default_exp data"
   ]
  },
  {
   "cell_type": "code",
   "execution_count": null,
   "id": "021bcaf0-2f99-443f-80b7-148eb182ebd7",
   "metadata": {},
   "outputs": [],
   "source": [
    "%load_ext autoreload\n",
    "%autoreload 2"
   ]
  },
  {
   "cell_type": "code",
   "execution_count": null,
   "id": "d999761f-ad11-4ad5-bb77-68597d0e56cc",
   "metadata": {},
   "outputs": [],
   "source": [
    "#| export\n",
    "from pathlib import Path\n",
    "from pyprojroot import here\n",
    "import pandas as pd\n",
    "import numpy as np"
   ]
  },
  {
   "cell_type": "code",
   "execution_count": null,
   "id": "0bed54b9-0da4-4797-8d47-574604e8ec6a",
   "metadata": {},
   "outputs": [],
   "source": [
    "#| exports\n",
    "_def_meteo_vars = {\n",
    "    \"TA_F\": \"TA\",\n",
    "    \"SW_IN_F\": \"SW_IN\",\n",
    "    # \"LW_IN_F\": \"LW_IN\",\n",
    "    \"VPD_F\": \"VPD\",\n",
    "    #\"PA\": \"PA\"\n",
    "}\n",
    "\n",
    "\n",
    "units = {\n",
    "    'TA': '°C',\n",
    "    'SW_IN': 'W m-2',\n",
    "    # 'LW_IN': 'W m-2',\n",
    "    'VPD': 'hPa'\n",
    "}\n",
    "\n",
    "hai_path = here(\"data\") / \"FLX_DE-Hai_FLUXNET2015_FULLSET_HH_2000-2012_1-4.csv\""
   ]
  },
  {
   "cell_type": "code",
   "execution_count": null,
   "id": "8258468f-23f2-4910-83d9-582781979a61",
   "metadata": {},
   "outputs": [],
   "source": [
    "#| exporti\n",
    "\n",
    "def get_dtype(col_name: str):\n",
    "    \"Get correct dtype based on column name\"\n",
    "    if col_name in [\"TIMESTAMP_END\", \"TIMESTAMP_START\"]:\n",
    "        return 'str'\n",
    "    elif col_name.endswith(\"QC\"):\n",
    "        return None # pd.CategoricalDtype\n",
    "    else:\n",
    "        return np.float32\n",
    "\n",
    "def col_types(cols):\n",
    "    return {col: get_dtype(col) for col in cols}\n",
    "\n",
    "def read_col_names(path):\n",
    "    \"read only column names from csv\"\n",
    "    return pd.read_csv(path, nrows=0).columns"
   ]
  },
  {
   "cell_type": "code",
   "execution_count": null,
   "id": "7e706076-e3d0-489f-953a-d9d4c9ca1aea",
   "metadata": {},
   "outputs": [
    {
     "data": {
      "text/plain": [
       "{'TIMESTAMP_START': 'str',\n",
       " 'TIMESTAMP_END': 'str',\n",
       " 'TA_F_MDS': numpy.float32,\n",
       " 'TA_F_MDS_QC': None,\n",
       " 'TA_ERA': numpy.float32,\n",
       " 'TA_F': numpy.float32,\n",
       " 'TA_F_QC': None,\n",
       " 'SW_IN_POT': numpy.float32,\n",
       " 'SW_IN_F_MDS': numpy.float32,\n",
       " 'SW_IN_F_MDS_QC': None}"
      ]
     },
     "execution_count": null,
     "metadata": {},
     "output_type": "execute_result"
    }
   ],
   "source": [
    "col_types(read_col_names(hai_path)[:10]) # only for 10 cols for testing"
   ]
  },
  {
   "cell_type": "code",
   "execution_count": null,
   "id": "7f625d0d-64cc-4016-9558-be00975e4512",
   "metadata": {},
   "outputs": [],
   "source": [
    "#| export\n",
    "def read_fluxnet_csv(path,\n",
    "                     nrows:int,\n",
    "                     meteo_vars: dict[str, str] = _def_meteo_vars,):\n",
    "    \"Read fluxnet csv in Pandas with correct parsing of csv\"\n",
    "    return (pd.read_csv(path, na_values=[\"-9999\", \"-9999.99\"],\n",
    "                        parse_dates=[0, 1],\n",
    "                        nrows=nrows,\n",
    "                        dtype=col_types(read_col_names(hai_path))\n",
    "                       )\n",
    "           .rename(columns=meteo_vars)\n",
    "           .rename(columns={'TIMESTAMP_END': \"time\"})\n",
    "           .set_index(\"time\")\n",
    "           .loc[:, meteo_vars.values()])"
   ]
  },
  {
   "cell_type": "markdown",
   "id": "8f29c95e-94f7-4598-bd8c-08975c56d026",
   "metadata": {},
   "source": [
    "hainich default df"
   ]
  },
  {
   "cell_type": "code",
   "execution_count": null,
   "id": "470945e8-85ac-4de2-83b9-864890755f64",
   "metadata": {},
   "outputs": [],
   "source": [
    "#| export\n",
    "try:\n",
    "    hai = read_fluxnet_csv(hai_path, 200)\n",
    "except FileNotFoundError: # for CI\n",
    "    hai = pd.DataFrame()"
   ]
  },
  {
   "cell_type": "code",
   "execution_count": null,
   "id": "7a3a024d-f07e-4c0d-abd6-1ab2c1cc0caf",
   "metadata": {},
   "outputs": [
    {
     "data": {
      "text/plain": [
       "TA       float32\n",
       "SW_IN    float32\n",
       "VPD      float32\n",
       "dtype: object"
      ]
     },
     "execution_count": null,
     "metadata": {},
     "output_type": "execute_result"
    }
   ],
   "source": [
    "hai.dtypes"
   ]
  },
  {
   "cell_type": "code",
   "execution_count": null,
   "id": "a3495d12-c6c8-49ff-8fb3-d7403cf911a4",
   "metadata": {},
   "outputs": [
    {
     "data": {
      "text/html": [
       "<div>\n",
       "<style scoped>\n",
       "    .dataframe tbody tr th:only-of-type {\n",
       "        vertical-align: middle;\n",
       "    }\n",
       "\n",
       "    .dataframe tbody tr th {\n",
       "        vertical-align: top;\n",
       "    }\n",
       "\n",
       "    .dataframe thead th {\n",
       "        text-align: right;\n",
       "    }\n",
       "</style>\n",
       "<table border=\"1\" class=\"dataframe\">\n",
       "  <thead>\n",
       "    <tr style=\"text-align: right;\">\n",
       "      <th></th>\n",
       "      <th>TA</th>\n",
       "      <th>SW_IN</th>\n",
       "      <th>VPD</th>\n",
       "    </tr>\n",
       "    <tr>\n",
       "      <th>time</th>\n",
       "      <th></th>\n",
       "      <th></th>\n",
       "      <th></th>\n",
       "    </tr>\n",
       "  </thead>\n",
       "  <tbody>\n",
       "    <tr>\n",
       "      <th>2000-01-01 00:30:00</th>\n",
       "      <td>-0.60</td>\n",
       "      <td>0.0</td>\n",
       "      <td>0.222</td>\n",
       "    </tr>\n",
       "    <tr>\n",
       "      <th>2000-01-01 01:00:00</th>\n",
       "      <td>-0.65</td>\n",
       "      <td>0.0</td>\n",
       "      <td>0.122</td>\n",
       "    </tr>\n",
       "    <tr>\n",
       "      <th>2000-01-01 01:30:00</th>\n",
       "      <td>-0.58</td>\n",
       "      <td>0.0</td>\n",
       "      <td>0.090</td>\n",
       "    </tr>\n",
       "    <tr>\n",
       "      <th>2000-01-01 02:00:00</th>\n",
       "      <td>-0.51</td>\n",
       "      <td>0.0</td>\n",
       "      <td>0.110</td>\n",
       "    </tr>\n",
       "    <tr>\n",
       "      <th>2000-01-01 02:30:00</th>\n",
       "      <td>-0.49</td>\n",
       "      <td>0.0</td>\n",
       "      <td>0.102</td>\n",
       "    </tr>\n",
       "    <tr>\n",
       "      <th>...</th>\n",
       "      <td>...</td>\n",
       "      <td>...</td>\n",
       "      <td>...</td>\n",
       "    </tr>\n",
       "    <tr>\n",
       "      <th>2000-01-05 02:00:00</th>\n",
       "      <td>4.74</td>\n",
       "      <td>0.0</td>\n",
       "      <td>1.191</td>\n",
       "    </tr>\n",
       "    <tr>\n",
       "      <th>2000-01-05 02:30:00</th>\n",
       "      <td>4.75</td>\n",
       "      <td>0.0</td>\n",
       "      <td>1.057</td>\n",
       "    </tr>\n",
       "    <tr>\n",
       "      <th>2000-01-05 03:00:00</th>\n",
       "      <td>4.76</td>\n",
       "      <td>0.0</td>\n",
       "      <td>0.935</td>\n",
       "    </tr>\n",
       "    <tr>\n",
       "      <th>2000-01-05 03:30:00</th>\n",
       "      <td>4.62</td>\n",
       "      <td>0.0</td>\n",
       "      <td>1.162</td>\n",
       "    </tr>\n",
       "    <tr>\n",
       "      <th>2000-01-05 04:00:00</th>\n",
       "      <td>4.51</td>\n",
       "      <td>0.0</td>\n",
       "      <td>1.636</td>\n",
       "    </tr>\n",
       "  </tbody>\n",
       "</table>\n",
       "<p>200 rows × 3 columns</p>\n",
       "</div>"
      ],
      "text/plain": [
       "                       TA  SW_IN    VPD\n",
       "time                                   \n",
       "2000-01-01 00:30:00 -0.60    0.0  0.222\n",
       "2000-01-01 01:00:00 -0.65    0.0  0.122\n",
       "2000-01-01 01:30:00 -0.58    0.0  0.090\n",
       "2000-01-01 02:00:00 -0.51    0.0  0.110\n",
       "2000-01-01 02:30:00 -0.49    0.0  0.102\n",
       "...                   ...    ...    ...\n",
       "2000-01-05 02:00:00  4.74    0.0  1.191\n",
       "2000-01-05 02:30:00  4.75    0.0  1.057\n",
       "2000-01-05 03:00:00  4.76    0.0  0.935\n",
       "2000-01-05 03:30:00  4.62    0.0  1.162\n",
       "2000-01-05 04:00:00  4.51    0.0  1.636\n",
       "\n",
       "[200 rows x 3 columns]"
      ]
     },
     "execution_count": null,
     "metadata": {},
     "output_type": "execute_result"
    }
   ],
   "source": [
    "hai"
   ]
  },
  {
   "cell_type": "markdown",
   "id": "c9ce7a4a-3b13-480b-8dc0-727914a90cb4",
   "metadata": {},
   "source": [
    "## Export "
   ]
  },
  {
   "cell_type": "code",
   "execution_count": null,
   "id": "be47bac6-1bac-4b5d-a880-7ddfe17cca68",
   "metadata": {},
   "outputs": [],
   "source": [
    "#| hide\n",
    "from nbdev import nbdev_export\n",
    "nbdev_export()"
   ]
  }
 ],
 "metadata": {
  "kernelspec": {
   "display_name": "data_science",
   "language": "python",
   "name": "data_science"
  },
  "widgets": {
   "application/vnd.jupyter.widget-state+json": {
    "state": {},
    "version_major": 2,
    "version_minor": 0
   }
  }
 },
 "nbformat": 4,
 "nbformat_minor": 5
}
