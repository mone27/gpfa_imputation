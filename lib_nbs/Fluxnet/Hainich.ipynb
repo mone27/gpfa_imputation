{
 "cells": [
  {
   "cell_type": "markdown",
   "id": "652b2475-13fd-4786-b3be-955916f3ac14",
   "metadata": {},
   "source": [
    "# Fluxnet Hainich\n",
    "> Load Hainich dataset from fluxnet\n",
    "\n",
    "Due to license reason the data is not included in the repo, but you can download it from fluxnet"
   ]
  },
  {
   "cell_type": "code",
   "execution_count": null,
   "id": "4d68a7cc-7cb9-4417-961b-53548ceee549",
   "metadata": {},
   "outputs": [],
   "source": [
    "#| hide\n",
    "#| default_exp data"
   ]
  },
  {
   "cell_type": "code",
   "execution_count": null,
   "id": "021bcaf0-2f99-443f-80b7-148eb182ebd7",
   "metadata": {},
   "outputs": [],
   "source": [
    "%load_ext autoreload\n",
    "%autoreload 2"
   ]
  },
  {
   "cell_type": "code",
   "execution_count": null,
   "id": "d999761f-ad11-4ad5-bb77-68597d0e56cc",
   "metadata": {},
   "outputs": [],
   "source": [
    "#| export\n",
    "from pathlib import Path\n",
    "from pyprojroot import here\n",
    "import pandas as pd\n",
    "import numpy as np"
   ]
  },
  {
   "cell_type": "code",
   "execution_count": null,
   "id": "0bed54b9-0da4-4797-8d47-574604e8ec6a",
   "metadata": {},
   "outputs": [],
   "source": [
    "#| exports\n",
    "_def_meteo_vars = {\n",
    "    \"TA_F\": \"TA\",\n",
    "    \"SW_IN_F\": \"SW_IN\",\n",
    "    # \"LW_IN_F\": \"LW_IN\",\n",
    "    \"VPD_F\": \"VPD\",\n",
    "    #\"PA\": \"PA\"\n",
    "}\n",
    "\n",
    "\n",
    "units = {\n",
    "    'TA': '°C',\n",
    "    'SW_IN': 'W m-2',\n",
    "    # 'LW_IN': 'W m-2',\n",
    "    'VPD': 'hPa'\n",
    "}\n",
    "\n",
    "hai_path = here(\"data\") / \"FLX_DE-Hai_FLUXNET2015_FULLSET_HH_2000-2012_1-4.csv\""
   ]
  },
  {
   "cell_type": "code",
   "execution_count": null,
   "id": "7f625d0d-64cc-4016-9558-be00975e4512",
   "metadata": {},
   "outputs": [],
   "source": [
    "#| export\n",
    "def read_fluxnet_csv(path,\n",
    "                     nrows:int,\n",
    "                     meteo_vars: dict[str, str] = _def_meteo_vars,):\n",
    "    \"Read fluxnet csv in Pandas with correct parsing of csv\"\n",
    "    return (pd.read_csv(path, na_values=[\"-9999\", \"-9999.99\"], parse_dates=[0, 1], nrows=nrows, dtype=np.float32)\n",
    "           .rename(columns=meteo_vars)\n",
    "           .set_index(\"TIMESTAMP_END\")\n",
    "           .loc[:, meteo_vars.values()])"
   ]
  },
  {
   "cell_type": "markdown",
   "id": "8f29c95e-94f7-4598-bd8c-08975c56d026",
   "metadata": {},
   "source": [
    "hainich default df"
   ]
  },
  {
   "cell_type": "code",
   "execution_count": null,
   "id": "470945e8-85ac-4de2-83b9-864890755f64",
   "metadata": {},
   "outputs": [],
   "source": [
    "#| export\n",
    "try:\n",
    "    hai = read_fluxnet_csv(hai_path, 200)\n",
    "except FileNotFoundError: # for CI\n",
    "    hai = pd.DataFrame()"
   ]
  },
  {
   "cell_type": "code",
   "execution_count": null,
   "id": "7a3a024d-f07e-4c0d-abd6-1ab2c1cc0caf",
   "metadata": {},
   "outputs": [
    {
     "data": {
      "text/plain": [
       "TA       float32\n",
       "SW_IN    float32\n",
       "VPD      float32\n",
       "dtype: object"
      ]
     },
     "execution_count": null,
     "metadata": {},
     "output_type": "execute_result"
    }
   ],
   "source": [
    "hai.dtypes"
   ]
  },
  {
   "cell_type": "markdown",
   "id": "c9ce7a4a-3b13-480b-8dc0-727914a90cb4",
   "metadata": {},
   "source": [
    "## Export "
   ]
  },
  {
   "cell_type": "code",
   "execution_count": null,
   "id": "be47bac6-1bac-4b5d-a880-7ddfe17cca68",
   "metadata": {},
   "outputs": [],
   "source": [
    "#| hide\n",
    "from nbdev import nbdev_export\n",
    "nbdev_export()"
   ]
  }
 ],
 "metadata": {
  "kernelspec": {
   "display_name": "data_science",
   "language": "python",
   "name": "data_science"
  },
  "widgets": {
   "application/vnd.jupyter.widget-state+json": {
    "state": {},
    "version_major": 2,
    "version_minor": 0
   }
  }
 },
 "nbformat": 4,
 "nbformat_minor": 5
}
