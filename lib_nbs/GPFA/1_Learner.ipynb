{
 "cells": [
  {
   "cell_type": "raw",
   "id": "9e4ef58d",
   "metadata": {},
   "source": [
    "---\n",
    "description: Utilities to train and visualize a GPFA model\n",
    "output-file: learner.html\n",
    "title: GPFA Learner\n",
    "\n",
    "---\n",
    "\n"
   ]
  },
  {
   "cell_type": "code",
   "execution_count": null,
   "id": "e25b75aa-51b1-4980-97f5-68df5c3eceea",
   "metadata": {},
   "outputs": [],
   "source": [
    "%load_ext autoreload\n",
    "%autoreload 2"
   ]
  },
  {
   "cell_type": "code",
   "execution_count": null,
   "id": "2cda543e-9b92-4a60-943a-9e2e3d6a5c24",
   "metadata": {},
   "outputs": [],
   "source": [
    "#| hide\n",
    "#| default_exp gpfa.learner"
   ]
  },
  {
   "cell_type": "code",
   "execution_count": null,
   "id": "31ca6d73-c7bc-49af-a142-dbbaf6402c7b",
   "metadata": {},
   "outputs": [],
   "source": [
    "from fastcore.test import *"
   ]
  },
  {
   "cell_type": "code",
   "execution_count": null,
   "id": "fe43aefc-a8d5-4a01-8fca-0e5819186d5c",
   "metadata": {},
   "outputs": [],
   "source": [
    "#| export\n",
    "import torch\n",
    "from torch import Tensor\n",
    "from torch.distributions import MultivariateNormal \n",
    "\n",
    "import gpytorch\n",
    "from meteo_imp.gpfa.gpfa import *\n",
    "from meteo_imp.data_preparation import Standardizer\n",
    "\n",
    "from collections import namedtuple\n",
    "import math\n",
    "\n",
    "from tqdm.auto import tqdm\n",
    "from fastcore.foundation import patch\n",
    "\n",
    "import matplotlib.pyplot as plt\n",
    "from pathlib import Path\n",
    "\n",
    "import pandas as pd\n",
    "import numpy as np\n",
    "import altair as alt"
   ]
  },
  {
   "cell_type": "markdown",
   "id": "f48b6e03-df45-4e08-b68a-3674fbf4a13c",
   "metadata": {},
   "source": [
    "The first thing that we need is a Learner object to keep track of:\n",
    "\n",
    "- input data, output data\n",
    "- model\n",
    "- likelihood\n",
    "\n",
    "and that has methods to help with:\n",
    "\n",
    "- training\n",
    "- prediction \n",
    "- visualization"
   ]
  },
  {
   "cell_type": "markdown",
   "id": "a1f18d28-1fb7-496a-a2c5-c959b20be768",
   "metadata": {},
   "source": [
    "The first thing we need is a training loop, just wrap in a function the example one from GPyTorch\n"
   ]
  },
  {
   "cell_type": "markdown",
   "id": "be8ed76b-c01b-475f-9494-10c54d4d0047",
   "metadata": {},
   "source": [
    "## Learner"
   ]
  },
  {
   "cell_type": "code",
   "execution_count": null,
   "id": "9c0bef3a-0b73-4352-8a9e-7291aaae760c",
   "metadata": {},
   "outputs": [],
   "source": [
    "#| export\n",
    "class GPFALearner():\n",
    "    def __init__(self,\n",
    "                 X: Tensor, # (n_features * n_obs) Multivariate time series\n",
    "                 T: Tensor = None, # (n_obs) Vector of time of observations.\n",
    "                 # If none each observation are considered to be at the same distance\n",
    "                 latent_dims: int = 1, # Number of latent variables in GPFA\n",
    "                 model = GPFA, # sub-class of `GPFA`\n",
    "                 var_names = None # for model info\n",
    "                ):\n",
    "        self.prepare_X(X)\n",
    "        if T is None: self.default_time(X)\n",
    "        else: self.T = T\n",
    "        self.T = self.T.to(X.device) # to support GPUs\n",
    "        self.latent_dims = latent_dims\n",
    "        self.var_names = var_names\n",
    "        \n",
    "        self.likelihood = gpytorch.likelihoods.GaussianLikelihood()\n",
    "        self.model = model(self.T, self.X, self.likelihood, self.n_features, latent_dims=latent_dims)\n",
    "        \n",
    "    @torch.no_grad()\n",
    "    def prepare_X(self, X):\n",
    "        self.norm = Standardizer(X)\n",
    "        X = self.norm.normalize(X)\n",
    "        # flatten Matrix to vector\n",
    "        self.X = X.reshape(-1) \n",
    "        self.n_features = X.shape[1]\n",
    "        \n",
    "    def default_time(self, X):\n",
    "        self.T = torch.arange(X.shape[0])\n",
    "        \n",
    "    \n",
    "    def train(self, n_iter=100, lr=0.1):\n",
    "        # need to enable training mode\n",
    "        self.model.train()\n",
    "        self.likelihood.train()\n",
    "        \n",
    "        # Use the adam optimizer\n",
    "        optimizer = torch.optim.Adam(self.model.parameters(), lr=lr) \n",
    "        \n",
    "        if not hasattr(self, 'losses'):\n",
    "            self.losses = torch.zeros(n_iter)\n",
    "            self.model_infos = [None for _ in range(n_iter)] # put one element so it can be indexed from 0\n",
    "            offset = 0\n",
    "        else:\n",
    "            offset = self.losses.shape[0]\n",
    "            self.losses = torch.concat([self.losses, torch.zeros(n_iter)])\n",
    "            self.model_infos.extend([None for _ in range(n_iter)])\n",
    "            \n",
    "        \n",
    "        # \"Loss\" for GPs - the marginal log likelihood\n",
    "        mll = gpytorch.mlls.ExactMarginalLogLikelihood(self.likelihood, self.model)\n",
    "        for i in tqdm(range(n_iter)):\n",
    "            # Zero gradients from previous iteration\n",
    "            optimizer.zero_grad()\n",
    "            # Output from model\n",
    "            output = self.model(self.T)\n",
    "            # Calc loss and backprop gradients\n",
    "            loss = -mll(output, self.X)\n",
    "            self.losses[i + offset] = loss.detach()\n",
    "            loss.backward()\n",
    "            self.model_infos[i + offset] = self.model.get_info(self.var_names)\n",
    "\n",
    "            optimizer.step()\n"
   ]
  },
  {
   "cell_type": "code",
   "execution_count": null,
   "id": "9105fe73-aa6d-4232-a1f3-24e8276a008d",
   "metadata": {},
   "outputs": [],
   "source": [
    "# test data\n",
    "T = torch.arange(0,6)\n",
    "\n",
    "X = torch.vstack([(torch.arange(0,3, dtype=torch.float32) + 2 + i) * i for i in T])"
   ]
  },
  {
   "cell_type": "code",
   "execution_count": null,
   "id": "90ae1f7d-510d-4b69-88c5-a797bb5c2fd2",
   "metadata": {},
   "outputs": [
    {
     "data": {
      "text/plain": [
       "tensor([[ 0.,  0.,  0.],\n",
       "        [ 3.,  4.,  5.],\n",
       "        [ 8., 10., 12.],\n",
       "        [15., 18., 21.],\n",
       "        [24., 28., 32.],\n",
       "        [35., 40., 45.]])"
      ]
     },
     "execution_count": null,
     "metadata": {},
     "output_type": "execute_result"
    }
   ],
   "source": [
    "X"
   ]
  },
  {
   "cell_type": "code",
   "execution_count": null,
   "id": "a63fd700-c0af-4ad4-8e52-4c5d6a339212",
   "metadata": {},
   "outputs": [],
   "source": [
    "# l for learner\n",
    "l = GPFALearner(X)"
   ]
  },
  {
   "cell_type": "code",
   "execution_count": null,
   "id": "57c9acea-2c30-42c7-9a66-10535dbf21f5",
   "metadata": {},
   "outputs": [],
   "source": [
    "test_eq(T, l.T)"
   ]
  },
  {
   "cell_type": "code",
   "execution_count": null,
   "id": "d31067ba-ff73-4e57-be57-f5d34efdef19",
   "metadata": {},
   "outputs": [],
   "source": [
    "# with explicit time\n",
    "test_eq(T, GPFALearner(X, T).T)"
   ]
  },
  {
   "cell_type": "code",
   "execution_count": null,
   "id": "b198aad5-7fc9-4665-8823-a28d42a74ec6",
   "metadata": {},
   "outputs": [],
   "source": [
    "test_eq(l.n_features, 3)"
   ]
  },
  {
   "cell_type": "code",
   "execution_count": null,
   "id": "04726f27-5861-4f00-881d-f15935e05f8a",
   "metadata": {},
   "outputs": [
    {
     "data": {
      "text/plain": [
       "tensor([-1.0590, -1.0955, -1.1236, -0.8347, -0.8326, -0.8305, -0.4610, -0.4382,\n",
       "        -0.4201,  0.0623,  0.0876,  0.1075,  0.7350,  0.7449,  0.7523,  1.5573,\n",
       "         1.5337,  1.5145])"
      ]
     },
     "execution_count": null,
     "metadata": {},
     "output_type": "execute_result"
    }
   ],
   "source": [
    "l.X"
   ]
  },
  {
   "cell_type": "code",
   "execution_count": null,
   "id": "69a69e95-19a1-405e-9998-d97920b5dc44",
   "metadata": {},
   "outputs": [
    {
     "data": {
      "application/vnd.jupyter.widget-view+json": {
       "model_id": "411259f4ec064d92993131b324270bec",
       "version_major": 2,
       "version_minor": 0
      },
      "text/plain": [
       "  0%|          | 0/100 [00:00<?, ?it/s]"
      ]
     },
     "metadata": {},
     "output_type": "display_data"
    },
    {
     "name": "stderr",
     "output_type": "stream",
     "text": [
      "/home/simone/anaconda3/envs/data-science/lib/python3.10/site-packages/gpytorch/lazy/triangular_lazy_tensor.py:136: UserWarning: torch.triangular_solve is deprecated in favor of torch.linalg.solve_triangularand will be removed in a future PyTorch release.\n",
      "torch.linalg.solve_triangular has its arguments reversed and does not return a copy of one of the inputs.\n",
      "X = torch.triangular_solve(B, A).solution\n",
      "should be replaced with\n",
      "X = torch.linalg.solve_triangular(A, B). (Triggered internally at  ../aten/src/ATen/native/BatchLinearAlgebra.cpp:2183.)\n",
      "  res = torch.triangular_solve(right_tensor, self.evaluate(), upper=self.upper).solution\n",
      "/home/simone/anaconda3/envs/data-science/lib/python3.10/site-packages/torch/autograd/__init__.py:173: UserWarning: operator() profile_node %840 : int[] = prim::profile_ivalue(%838)\n",
      " does not have profile information (Triggered internally at  ../torch/csrc/jit/codegen/cuda/graph_fuser.cpp:104.)\n",
      "  Variable._execution_engine.run_backward(  # Calls into the C++ engine to run the backward pass\n"
     ]
    }
   ],
   "source": [
    "l.train()"
   ]
  },
  {
   "cell_type": "markdown",
   "id": "9b0a3650-2aac-4528-8561-26b816bff905",
   "metadata": {},
   "source": [
    "check that can train for more than once"
   ]
  },
  {
   "cell_type": "code",
   "execution_count": null,
   "id": "e2422c92-3055-4f62-919e-ea1e18a7f2e8",
   "metadata": {},
   "outputs": [
    {
     "data": {
      "application/vnd.jupyter.widget-view+json": {
       "model_id": "cf1830e52ae04c8fbd20887605897e8d",
       "version_major": 2,
       "version_minor": 0
      },
      "text/plain": [
       "  0%|          | 0/100 [00:00<?, ?it/s]"
      ]
     },
     "metadata": {},
     "output_type": "display_data"
    }
   ],
   "source": [
    "l.train()"
   ]
  },
  {
   "cell_type": "code",
   "execution_count": null,
   "id": "66b38db4-2eba-4009-b272-d6054980262b",
   "metadata": {},
   "outputs": [
    {
     "data": {
      "text/plain": [
       "tensor([ 1.3702,  1.3337,  1.2908,  1.2464,  1.2043,  1.1653,  1.1285,  1.0925,\n",
       "         1.0566,  1.0205,  0.9837,  0.9458,  0.9068,  0.8667,  0.8258,  0.7843,\n",
       "         0.7424,  0.7003,  0.6584,  0.6168,  0.5750,  0.5328,  0.4907,  0.4493,\n",
       "         0.4077,  0.3653,  0.3228,  0.2804,  0.2377,  0.1947,  0.1516,  0.1090,\n",
       "         0.0661,  0.0230, -0.0194, -0.0620, -0.1045, -0.1466, -0.1888, -0.2308,\n",
       "        -0.2725, -0.3143, -0.3556, -0.3970, -0.4379, -0.4789, -0.5193, -0.5598,\n",
       "        -0.5996, -0.6389, -0.6772, -0.7167, -0.7565, -0.7942, -0.8308, -0.8677,\n",
       "        -0.9051, -0.9405, -0.9748, -1.0105, -1.0471, -1.0791, -1.1076, -1.1397,\n",
       "        -1.1757, -1.2017, -1.2214, -1.2586, -1.2863, -1.3023, -1.3391, -1.3617,\n",
       "        -1.3750, -1.4068, -1.4267, -1.4338, -1.4578, -1.4757, -1.4633, -1.4902,\n",
       "        -1.5161, -1.5050, -1.5411, -1.5420, -1.5447, -1.5678, -1.5529, -1.5673,\n",
       "        -1.5663, -1.5671, -1.5984, -1.5869, -1.5961, -1.5940, -1.6025, -1.6192,\n",
       "        -1.6071, -1.6196, -1.6166, -1.6294, -1.6327,  0.3951, -1.5211, -1.2705,\n",
       "        -0.5957, -0.7380, -1.2507, -1.5877, -1.5670, -1.3423, -1.1814, -1.2102,\n",
       "        -1.3659, -1.5186, -1.5837, -1.5539, -1.4772, -1.4147, -1.4041, -1.4447,\n",
       "        -1.5092, -1.5624, -1.5816, -1.5660, -1.5340, -1.5125, -1.5170, -1.5449,\n",
       "        -1.5789, -1.6014, -1.6044, -1.5935, -1.5815, -1.5800, -1.5926, -1.6125,\n",
       "        -1.6282, -1.6320, -1.6262, -1.6201, -1.6222, -1.6323, -1.6441, -1.6503,\n",
       "        -1.6490, -1.6447, -1.6458, -1.6524, -1.6607, -1.6644, -1.6639, -1.6622,\n",
       "        -1.6655, -1.6719, -1.6762, -1.6776, -1.6769, -1.6787, -1.6833, -1.6875,\n",
       "        -1.6891, -1.6889, -1.6904, -1.6942, -1.6964, -1.6969, -1.6975, -1.6989,\n",
       "        -1.7014, -1.7026, -1.7029, -1.7038, -1.7056, -1.7071, -1.7077, -1.7078,\n",
       "        -1.7091, -1.7109, -1.7115, -1.7120, -1.7125, -1.7139, -1.7146, -1.7146,\n",
       "        -1.7150, -1.7152, -1.7164, -1.7167, -1.7166, -1.7171, -1.7174, -1.7179,\n",
       "        -1.7184, -1.7192, -1.7200, -1.7195, -1.7205, -1.7203, -1.7204, -1.7209])"
      ]
     },
     "execution_count": null,
     "metadata": {},
     "output_type": "execute_result"
    }
   ],
   "source": [
    "l.losses"
   ]
  },
  {
   "cell_type": "markdown",
   "id": "ae9ca87d-5a28-444c-b75a-5943ce8979f7",
   "metadata": {},
   "source": [
    "## Predictions\n",
    "\n",
    "add a function to get predictions from the model"
   ]
  },
  {
   "cell_type": "code",
   "execution_count": null,
   "id": "681f4ef6-9f6b-44d9-877b-1095b222bc88",
   "metadata": {},
   "outputs": [],
   "source": [
    "#| export\n",
    "@torch.no_grad() # don't calc gradients on predictions\n",
    "@patch()\n",
    "def predict_raw(self: GPFALearner, T):\n",
    "    self.model.eval()\n",
    "    self.likelihood.eval()\n",
    "    return self.likelihood(self.model(T))"
   ]
  },
  {
   "cell_type": "code",
   "execution_count": null,
   "id": "57ed0643-1ce3-40ac-bb5b-59534c2c6c70",
   "metadata": {},
   "outputs": [
    {
     "name": "stderr",
     "output_type": "stream",
     "text": [
      "/home/simone/anaconda3/envs/data-science/lib/python3.10/site-packages/gpytorch/models/exact_gp.py:273: GPInputWarning: The input matches the stored training data. Did you forget to call model.train()?\n",
      "  warnings.warn(\n"
     ]
    },
    {
     "data": {
      "text/plain": [
       "MultivariateNormal(loc: torch.Size([18]))"
      ]
     },
     "execution_count": null,
     "metadata": {},
     "output_type": "execute_result"
    }
   ],
   "source": [
    "raw_out = l.predict_raw(T)\n",
    "raw_out"
   ]
  },
  {
   "cell_type": "markdown",
   "id": "d14e256c-f331-4508-9ace-d1b161528fd7",
   "metadata": {},
   "source": [
    "the model prediction is a distribution with `len(T)*n_features` dimensions"
   ]
  },
  {
   "cell_type": "markdown",
   "id": "30a050f2-0aa0-4e0a-8fb7-869397feadc9",
   "metadata": {},
   "source": [
    "which is in the in the wrong shape and need to be rescaled after the normalization"
   ]
  },
  {
   "cell_type": "markdown",
   "id": "2540a9d5-7fab-4722-bb71-8356f01d69cd",
   "metadata": {},
   "source": [
    "Also we don't need th full distribution but only the mean and stddev for each variable at every time step\n",
    "\n",
    "And we can \"fix\" the shape by transforming back to a matrix"
   ]
  },
  {
   "cell_type": "code",
   "execution_count": null,
   "id": "5ebaf0b9-1f07-4bc4-8719-a0c7047e203e",
   "metadata": {},
   "outputs": [],
   "source": [
    "raw_stddev = raw_out.stddev.reshape(-1, l.n_features)\n",
    "raw_mean = raw_out.mean.reshape(-1, l.n_features)"
   ]
  },
  {
   "cell_type": "code",
   "execution_count": null,
   "id": "a07d9468-642a-4c7e-b40f-203680003159",
   "metadata": {},
   "outputs": [
    {
     "data": {
      "text/plain": [
       "tensor([[0.0275, 0.0140, 0.0200],\n",
       "        [0.0271, 0.0130, 0.0193],\n",
       "        [0.0269, 0.0127, 0.0191],\n",
       "        [0.0269, 0.0126, 0.0191],\n",
       "        [0.0271, 0.0130, 0.0193],\n",
       "        [0.0276, 0.0140, 0.0200]], grad_fn=<ReshapeAliasBackward0>)"
      ]
     },
     "execution_count": null,
     "metadata": {},
     "output_type": "execute_result"
    }
   ],
   "source": [
    "raw_stddev"
   ]
  },
  {
   "cell_type": "code",
   "execution_count": null,
   "id": "47b23a4c-2da7-4bda-887c-29ef751600b6",
   "metadata": {},
   "outputs": [],
   "source": [
    "#| export\n",
    "NormParam = namedtuple(\"NormalParameters\", [\"mean\", \"std\"])"
   ]
  },
  {
   "cell_type": "markdown",
   "id": "9426d969-63e0-4a38-a020-eb17701b1364",
   "metadata": {},
   "source": [
    "This function transforms the raw output of the Gaussian Process (`p(X)`) into a prediction that can be used.\n",
    "need to do two things:\n",
    "\n",
    "- take mean and stddev (this is the diagonal of the covariance matrix) for each variable\n",
    "- reshape so that each row is a time step and each column a variable\n",
    "- reverse the normalization\n",
    "\n",
    "the mean and the std are passed individually because in the conditional predictions is not possible to have the whole covariance matrix (and thus a MultiNormal) but the mean and stddev are enough."
   ]
  },
  {
   "cell_type": "code",
   "execution_count": null,
   "id": "95c88c0d-5844-485c-8287-7411e351ece0",
   "metadata": {},
   "outputs": [],
   "source": [
    "#|export\n",
    "@torch.no_grad() # needed because raw output still has gradients attached\n",
    "@patch\n",
    "def prediction_from_raw(self: GPFALearner, raw_mean, raw_std):\n",
    "    \"\"\" Takes a raw prediction and produces and final prediction, by reshaping and reversing normalization\"\"\"\n",
    "    raw_std = raw_std.reshape(-1, self.n_features)\n",
    "    raw_mean = raw_mean.reshape(-1, self.n_features)\n",
    "    \n",
    "    pred_mean = self.norm.reverse_normalize(raw_mean)\n",
    "    pred_std = self.norm.reverse_normalize_std(raw_std)\n",
    "    \n",
    "    #remove pytorch gradients\n",
    "    return NormParam(pred_mean.detach(), pred_std.detach())"
   ]
  },
  {
   "cell_type": "code",
   "execution_count": null,
   "id": "da3af212-6cd8-4e60-8648-7562469bb7b9",
   "metadata": {},
   "outputs": [],
   "source": [
    "# TODO document this function better"
   ]
  },
  {
   "cell_type": "code",
   "execution_count": null,
   "id": "7d04c2f8-7d02-4ada-8b4b-d98cf29d9b3b",
   "metadata": {},
   "outputs": [],
   "source": [
    "@patch\n",
    "def predict(self: GPFALearner, T):\n",
    "    pred_raw = self.predict_raw(T)\n",
    "    return self.prediction_from_raw(pred_raw.mean, pred_raw.stddev)"
   ]
  },
  {
   "cell_type": "code",
   "execution_count": null,
   "id": "46eea5e6-89a6-4a71-bf56-e8fce29eab54",
   "metadata": {},
   "outputs": [
    {
     "data": {
      "text/plain": [
       "NormalParameters(mean=tensor([[-0.5315, -0.0498,  0.4306],\n",
       "        [ 3.0665,  4.0422,  5.0170],\n",
       "        [ 8.2839,  9.9762, 11.6662],\n",
       "        [15.3353, 17.9971, 20.6563],\n",
       "        [24.2209, 28.1018, 31.9844],\n",
       "        [34.6188, 39.9274, 45.2356]]), std=tensor([[0.3685, 0.2124, 0.3409],\n",
       "        [0.3621, 0.1976, 0.3299],\n",
       "        [0.3598, 0.1925, 0.3251],\n",
       "        [0.3598, 0.1922, 0.3253],\n",
       "        [0.3622, 0.1978, 0.3297],\n",
       "        [0.3687, 0.2124, 0.3411]]))"
      ]
     },
     "execution_count": null,
     "metadata": {},
     "output_type": "execute_result"
    }
   ],
   "source": [
    "l.predict(T)"
   ]
  },
  {
   "cell_type": "code",
   "execution_count": null,
   "id": "c0784d70-8220-4372-99e9-485647e68c29",
   "metadata": {},
   "outputs": [],
   "source": [
    "pred = l.predict(T)"
   ]
  },
  {
   "cell_type": "code",
   "execution_count": null,
   "id": "e977b09d-703f-4152-ad05-78273a6d750e",
   "metadata": {},
   "outputs": [
    {
     "data": {
      "text/plain": [
       "torch.Size([6, 3])"
      ]
     },
     "execution_count": null,
     "metadata": {},
     "output_type": "execute_result"
    }
   ],
   "source": [
    "pred.mean.shape"
   ]
  },
  {
   "cell_type": "code",
   "execution_count": null,
   "id": "01055e42-da8f-481d-9f62-2f8e83987adb",
   "metadata": {},
   "outputs": [
    {
     "data": {
      "text/plain": [
       "torch.Size([6, 3])"
      ]
     },
     "execution_count": null,
     "metadata": {},
     "output_type": "execute_result"
    }
   ],
   "source": [
    "pred.std.shape"
   ]
  },
  {
   "cell_type": "markdown",
   "id": "0965c418-ca0f-40d9-a53a-fecb5fd3bb68",
   "metadata": {},
   "source": [
    "### Check learning is working"
   ]
  },
  {
   "cell_type": "markdown",
   "id": "cb33da4a-ca64-489d-bddc-eff1bdef3dbc",
   "metadata": {},
   "source": [
    "The idea is to use the current model to generate a dataset, that can be for sure modelled using a GPFA (because is the output of GPFA) and then train another model and see if the parameters converge"
   ]
  },
  {
   "cell_type": "code",
   "execution_count": null,
   "id": "a7530f0b-ba2c-409b-ac15-04dde1ec9213",
   "metadata": {},
   "outputs": [],
   "source": [
    "# create a dummy GPFA with 3 features\n",
    "Lt = GPFALearner(X)"
   ]
  },
  {
   "cell_type": "code",
   "execution_count": null,
   "id": "919c72f6-6073-4451-ac94-becc940978e1",
   "metadata": {},
   "outputs": [],
   "source": [
    "test_params = {\n",
    "   \"Lambda\": torch.tensor([-1, 0.3, .8]).reshape(Lt.n_features, -1),\n",
    "   \"psi\": torch.tensor([1e-5, 5e-5, 2e-5]),\n",
    "}"
   ]
  },
  {
   "cell_type": "code",
   "execution_count": null,
   "id": "75348565-ae93-442e-926e-882619bf3c06",
   "metadata": {},
   "outputs": [
    {
     "data": {
      "text/plain": [
       "GPFAKernel(\n",
       "  (latent_kernels): ModuleList(\n",
       "    (0): RBFKernel(\n",
       "      (raw_lengthscale_constraint): Positive()\n",
       "    )\n",
       "  )\n",
       "  (raw_psi_diag_constraint): Positive()\n",
       ")"
      ]
     },
     "execution_count": null,
     "metadata": {},
     "output_type": "execute_result"
    }
   ],
   "source": [
    "Lt.model.covar_module.initialize(**test_params)"
   ]
  },
  {
   "cell_type": "code",
   "execution_count": null,
   "id": "c2b175f2-ef55-4240-8ccb-87adfbb67de6",
   "metadata": {},
   "outputs": [
    {
     "data": {
      "text/plain": [
       "RBFKernel(\n",
       "  (raw_lengthscale_constraint): Positive()\n",
       ")"
      ]
     },
     "execution_count": null,
     "metadata": {},
     "output_type": "execute_result"
    }
   ],
   "source": [
    "Lt.model.covar_module.latent_kernels[0].initialize(lengthscale = torch.tensor(5))"
   ]
  },
  {
   "cell_type": "code",
   "execution_count": null,
   "id": "0fa81d68-083b-4904-b54f-2768078945d8",
   "metadata": {},
   "outputs": [],
   "source": [
    "target_X = Lt.predict(T).mean"
   ]
  },
  {
   "cell_type": "code",
   "execution_count": null,
   "id": "5665123d-a870-42f2-8f19-a82caae617da",
   "metadata": {},
   "outputs": [],
   "source": [
    "l2 = GPFALearner(target_X)"
   ]
  },
  {
   "cell_type": "code",
   "execution_count": null,
   "id": "8fba72dc-5a1a-4955-826c-88d574196996",
   "metadata": {},
   "outputs": [
    {
     "data": {
      "application/vnd.jupyter.widget-view+json": {
       "model_id": "a234e9fffca8463f8c96b468fd9e400b",
       "version_major": 2,
       "version_minor": 0
      },
      "text/plain": [
       "  0%|          | 0/100 [00:00<?, ?it/s]"
      ]
     },
     "metadata": {},
     "output_type": "display_data"
    }
   ],
   "source": [
    "l2.train()"
   ]
  },
  {
   "cell_type": "code",
   "execution_count": null,
   "id": "18af534f-0c2b-4024-bd28-61ca0c3ac004",
   "metadata": {},
   "outputs": [
    {
     "name": "stderr",
     "output_type": "stream",
     "text": [
      "/home/simone/anaconda3/envs/data-science/lib/python3.10/site-packages/gpytorch/models/exact_gp.py:273: GPInputWarning: The input matches the stored training data. Did you forget to call model.train()?\n",
      "  warnings.warn(\n"
     ]
    },
    {
     "data": {
      "text/plain": [
       "tensor([[ 0.0024,  0.0020, -0.0040],\n",
       "        [ 0.0012,  0.0014, -0.0022],\n",
       "        [ 0.0004,  0.0004, -0.0007],\n",
       "        [-0.0003, -0.0006,  0.0007],\n",
       "        [-0.0013, -0.0014,  0.0023],\n",
       "        [-0.0023, -0.0020,  0.0038]])"
      ]
     },
     "execution_count": null,
     "metadata": {},
     "output_type": "execute_result"
    }
   ],
   "source": [
    "l2.predict(T).mean - target_X"
   ]
  },
  {
   "cell_type": "markdown",
   "id": "2e62c4f0-39e9-4f57-bcc8-3bbdda35b175",
   "metadata": {},
   "source": [
    "they seems pretty small numbers, so the model is working! "
   ]
  },
  {
   "cell_type": "code",
   "execution_count": null,
   "id": "cd9aab33-6ea7-4c07-8de1-50c136763970",
   "metadata": {},
   "outputs": [
    {
     "name": "stdout",
     "output_type": "stream",
     "text": [
      "Lambda:\n",
      " tensor([[-1.5974],\n",
      "        [ 1.5766],\n",
      "        [ 1.6011]])\n",
      "psi:  tensor([3.9332e-05, 4.3326e-05, 4.6166e-05])\n",
      "lengthscale: 5.487886428833008\n"
     ]
    }
   ],
   "source": [
    "print(\"Lambda:\\n\", l2.model.covar_module.Lambda.detach())\n",
    "\n",
    "print(\"psi: \", l2.model.covar_module.psi.detach())\n",
    "\n",
    "print(\"lengthscale:\", l2.model.covar_module.latent_kernels[0].lengthscale.item())"
   ]
  },
  {
   "cell_type": "markdown",
   "id": "a993e091-eb29-42a7-8c8e-3050b6189d92",
   "metadata": {},
   "source": [
    "### Conditional Predictions"
   ]
  },
  {
   "cell_type": "markdown",
   "id": "ba4e3b7f-95e1-4624-958b-082abc5f4593",
   "metadata": {},
   "source": [
    "This add the supports for conditional predictions, which means that at the time (t) when we are making the predictions some of the variables have been actually observed. Since the model prediction is a normal distribution we can condition on the observed values and thus improve the predictions."
   ]
  },
  {
   "cell_type": "markdown",
   "id": "cf8b5f7f-2541-4750-8740-3bf244d88ced",
   "metadata": {},
   "source": [
    "Therefore we need to compute the conditional distribution of a normal ^[https://cs.nyu.edu/~roweis/notes/gaussid.pdf eq, 5a, 5d]\n",
    "\n",
    "$$ X = \\left[\\begin{array}{c} x \\\\ o \\end{array} \\right] $$\n",
    "\n",
    "$$ p(X) = N\\left(\\left[ \\begin{array}{c} \\mu_x \\\\ \\mu_o \\end{array} \\right], \\left[\\begin{array}{cc} \\Sigma_{xx} & \\Sigma_{xo} \\\\ \\Sigma_{ox} & \\Sigma_{oo} \\end{array} \\right]\\right)$$\n",
    "\n",
    "where $X$ is a vector of variable that need to predicted and $o$ is a vector of the variables that have been observed\n",
    "\n",
    "The mean is in \"flat format\", where all the features from one time step are next to each other followed by the features of the next time step.\n",
    "\n",
    "then \n",
    "\n",
    "$$p(x|o) = N(\\mu_x + \\Sigma_{xo}\\Sigma_{oo}^{-1}(o - \\mu_o), \\Sigma_{xx} - \\Sigma_{xo}\\Sigma_{oo}^{-1}\\Sigma_{ox})$$"
   ]
  },
  {
   "cell_type": "code",
   "execution_count": null,
   "id": "2cd1908b-6c88-48e0-b555-2d36d4a04fff",
   "metadata": {},
   "outputs": [],
   "source": [
    "#|exporti\n",
    "def conditional_guassian(gauss: MultivariateNormal,\n",
    "                         obs,\n",
    "                         idx # Boolean tensor specifying for each variable is observed (True) or not (False)\n",
    "                        ):\n",
    "    μ = gauss.mean\n",
    "    Σ = gauss.covariance_matrix\n",
    "    # check idx same size of mu\n",
    "    μ_x = μ[~idx]\n",
    "    μ_o = μ[idx]\n",
    "    \n",
    "    Σ_xx = Σ[~idx,:][:, ~idx]\n",
    "    Σ_xo = Σ[~idx,:][:, idx]\n",
    "    Σ_ox = Σ[idx,:][:, ~idx]\n",
    "    Σ_oo = Σ[idx,:][:, idx]\n",
    "    \n",
    "    Σ_oo_inv = torch.linalg.inv(Σ_oo)\n",
    "    \n",
    "    mean = μ_x + Σ_xo@Σ_oo_inv@(obs - μ_o)\n",
    "    cov = Σ_xx - Σ_xo@Σ_oo_inv@Σ_ox\n",
    "    \n",
    "    return MultivariateNormal(mean, cov)\n",
    "    "
   ]
  },
  {
   "cell_type": "code",
   "execution_count": null,
   "id": "19daec27-87a1-4ba7-92dc-b9236c08f579",
   "metadata": {},
   "outputs": [],
   "source": [
    "# example distribution with only 2 variables\n",
    "μ = torch.tensor([.5, 1.])\n",
    "Σ = torch.tensor([[1., .5], [.5 ,1.]])\n",
    "\n",
    "gauss = MultivariateNormal(μ, Σ)\n",
    "\n",
    "idx = torch.tensor([True, False]) # second variable is the observed one\n",
    "\n",
    "obs = torch.tensor(5.) # value of second variable\n",
    "\n",
    "gauss_cond = conditional_guassian(gauss, obs, idx)\n",
    "\n",
    "# hardcoded values to test that the code is working, see also for alternative implementation https://python.quantecon.org/multivariate_normal.html\n",
    "test_close(3.25, gauss_cond.mean.item())\n",
    "test_close(.75, gauss_cond.covariance_matrix.item())"
   ]
  },
  {
   "cell_type": "markdown",
   "id": "c4d34213-7009-4609-b27e-c7afccf62c9a",
   "metadata": {},
   "source": [
    "Test with multiple variables?"
   ]
  },
  {
   "cell_type": "markdown",
   "id": "7b744875-96dc-44a9-b5fe-11d49711169f",
   "metadata": {},
   "source": [
    "overwrite the predict method to add support for conditional predictions"
   ]
  },
  {
   "cell_type": "markdown",
   "id": "7d2597e5-07a8-48bc-a7db-1db22ad62f65",
   "metadata": {},
   "source": [
    "Need to have the mean and std for both the conditional predictions and the observations, with the same shape and order of the complete prediction. "
   ]
  },
  {
   "cell_type": "code",
   "execution_count": null,
   "id": "8e861ab7-d218-4981-bbbd-cf89da85b679",
   "metadata": {},
   "outputs": [],
   "source": [
    "#|exporti\n",
    "def _merge_raw_cond_pred(pred_raw,\n",
    "                         pred_cond,\n",
    "                         obs,\n",
    "                         idx\n",
    "                        ) -> NormParam:\n",
    "    \"\"\"This functions merges a complete predition with a conditional prediction and the observations.\n",
    "    For the observations the std is considered to be 0 \"\"\"\n",
    "    mean = torch.zeros_like(pred_raw.mean) # get shape from complete prediction\n",
    "    mean[~idx] = pred_cond.mean # add predictions\n",
    "    mean[idx] = obs # add observations\n",
    "    \n",
    "    std = torch.zeros_like(pred_raw.stddev)\n",
    "    std[~idx] = pred_cond.stddev\n",
    "    std[idx] = 0 # uncertainty of an oberservation doesn't make sense\n",
    "    \n",
    "    return NormParam(mean, std)"
   ]
  },
  {
   "cell_type": "code",
   "execution_count": null,
   "id": "96025e7d-884f-487c-af6b-cdb0a407a5a5",
   "metadata": {},
   "outputs": [
    {
     "data": {
      "text/plain": [
       "tensor([[0.7500]])"
      ]
     },
     "execution_count": null,
     "metadata": {},
     "output_type": "execute_result"
    }
   ],
   "source": [
    "gauss_cond.covariance_matrix"
   ]
  },
  {
   "cell_type": "code",
   "execution_count": null,
   "id": "3d21aecd-c9f0-4fff-8d63-9b5b4a858b5b",
   "metadata": {},
   "outputs": [
    {
     "data": {
      "text/plain": [
       "NormalParameters(mean=tensor([5.0000, 3.2500]), std=tensor([0.0000, 0.8660]))"
      ]
     },
     "execution_count": null,
     "metadata": {},
     "output_type": "execute_result"
    }
   ],
   "source": [
    "merge_pred = _merge_raw_cond_pred(gauss, gauss_cond, obs, idx)\n",
    "merge_pred"
   ]
  },
  {
   "cell_type": "code",
   "execution_count": null,
   "id": "c0d8eb3f-0753-47fc-88eb-a8771f68a7f3",
   "metadata": {},
   "outputs": [],
   "source": [
    "# manually calculated\n",
    "test_close(merge_pred.mean, torch.tensor([5., 3.25]))\n",
    "test_close(merge_pred.std, torch.tensor([0., math.sqrt(.75)]))"
   ]
  },
  {
   "cell_type": "markdown",
   "id": "1684b1e5-1d80-4657-b95f-cb1a1d020547",
   "metadata": {},
   "source": [
    "The problem is that the mean and the std for normalization are different for each feature, so in order to have the normalization working it is necessary to give the observations as a 2D array and not like a 1D array (like required by the model)"
   ]
  },
  {
   "cell_type": "code",
   "execution_count": null,
   "id": "9802e75a-af1e-4331-9d46-9d4da85d57a7",
   "metadata": {},
   "outputs": [],
   "source": [
    "#|export\n",
    "@patch\n",
    "def _normalize_obs(self: GPFALearner,\n",
    "                   obs, # (n_obs)\n",
    "                   idx\n",
    "                  ) -> Tensor: # (n_obs)\n",
    "    \"\"\" reshape the observations so they can normalized\"\"\"\n",
    "    obs_compl = torch.zeros_like(idx, dtype=obs.dtype)\n",
    "    obs_compl[idx] = obs\n",
    "    obs_compl = obs_compl.reshape(-1, self.n_features)\n",
    "    obs_norm = self.norm.normalize(obs_compl)\n",
    "    return obs_norm.reshape(-1)[idx]"
   ]
  },
  {
   "cell_type": "code",
   "execution_count": null,
   "id": "4fefac69-603a-4437-9f0d-dbd9cf4eeed4",
   "metadata": {},
   "outputs": [],
   "source": [
    "T_pred = torch.tensor([6, 7])"
   ]
  },
  {
   "cell_type": "code",
   "execution_count": null,
   "id": "c89656a8-cfa1-47e0-ba69-8a29974f9cee",
   "metadata": {},
   "outputs": [
    {
     "data": {
      "text/plain": [
       "NormalParameters(mean=tensor([[45.8607, 52.7141, 59.5677],\n",
       "        [56.9925, 65.3740, 73.7569]]), std=tensor([[0.6221, 0.6082, 0.7241],\n",
       "        [1.5264, 1.6983, 1.9187]]))"
      ]
     },
     "execution_count": null,
     "metadata": {},
     "output_type": "execute_result"
    }
   ],
   "source": [
    "l.predict(T_pred)"
   ]
  },
  {
   "cell_type": "code",
   "execution_count": null,
   "id": "e7b248fd-4dad-4418-a229-6e7c04318eb8",
   "metadata": {},
   "outputs": [],
   "source": [
    "idx = torch.zeros(T_pred.shape[0] * X.shape[1], dtype=torch.bool)\n",
    "# simulate an observation using sensible numbers from the prediction\n",
    "idx[[0,2]] = torch.tensor([True, True])\n",
    "obs = torch.tensor([42., 61.])"
   ]
  },
  {
   "cell_type": "code",
   "execution_count": null,
   "id": "a03dbc7e-3c5d-4eca-b0b2-5cad6e80677c",
   "metadata": {},
   "outputs": [
    {
     "data": {
      "text/plain": [
       "tensor([2.0806, 2.4525])"
      ]
     },
     "execution_count": null,
     "metadata": {},
     "output_type": "execute_result"
    }
   ],
   "source": [
    "l._normalize_obs(obs, idx)"
   ]
  },
  {
   "cell_type": "code",
   "execution_count": null,
   "id": "027f682d-b2fb-4a78-8b22-b25847af47b5",
   "metadata": {},
   "outputs": [],
   "source": [
    "#|export\n",
    "@patch\n",
    "def predict(self: GPFALearner,\n",
    "            T: Tensor, # (n_pred) time where prediction is needed\n",
    "            # (n_obs_pred) Optional - if at the times of the prediction there are some observations\n",
    "            # array with the values of observations to condition distribution\n",
    "            obs: Tensor = None,\n",
    "            # ((n_pred*n_features)) Optional - necessary if obs are present\n",
    "            # Boolean array that is True where an observation is present and False where a prediction is needed\n",
    "            # This is a 1D array with the length equal to n_pred (number time steps to predict) times n_features\n",
    "            idx: Tensor = None\n",
    "           ):\n",
    "    pred_raw = self.predict_raw(T)\n",
    "    \n",
    "    # Conditional observations\n",
    "    if obs is not None and idx is not None:\n",
    "        # observations needs to be normalized before can be used with the raw prediction!\n",
    "        obs_norm = self._normalize_obs(obs, idx)\n",
    "        pred_cond = conditional_guassian(pred_raw, obs_norm, idx)\n",
    "\n",
    "        pred_merge = _merge_raw_cond_pred(pred_raw, pred_cond, obs_norm, idx)\n",
    "    else:\n",
    "        pred_merge = NormParam(pred_raw.mean, pred_raw.stddev)\n",
    "    \n",
    "    return self.prediction_from_raw(pred_merge.mean, pred_merge.std)"
   ]
  },
  {
   "cell_type": "code",
   "execution_count": null,
   "id": "0dac9235-f902-4a97-bc3d-dd4b271e917f",
   "metadata": {},
   "outputs": [
    {
     "data": {
      "text/plain": [
       "tensor([2.0806, 2.4525])"
      ]
     },
     "execution_count": null,
     "metadata": {},
     "output_type": "execute_result"
    }
   ],
   "source": [
    "l._normalize_obs(obs, idx)"
   ]
  },
  {
   "cell_type": "code",
   "execution_count": null,
   "id": "0d1c81fb-daa9-499e-9feb-cc929c7351ef",
   "metadata": {},
   "outputs": [
    {
     "data": {
      "text/plain": [
       "tensor([42., 61.])"
      ]
     },
     "execution_count": null,
     "metadata": {},
     "output_type": "execute_result"
    }
   ],
   "source": [
    "obs"
   ]
  },
  {
   "cell_type": "code",
   "execution_count": null,
   "id": "855a7c5e-6112-44af-b831-6f936937415b",
   "metadata": {},
   "outputs": [
    {
     "data": {
      "text/plain": [
       "tensor([2.3691, 2.3694, 2.3685, 3.2012, 3.2015, 3.2003],\n",
       "       grad_fn=<ViewBackward0>)"
      ]
     },
     "execution_count": null,
     "metadata": {},
     "output_type": "execute_result"
    }
   ],
   "source": [
    "l.predict_raw(T_pred).mean"
   ]
  },
  {
   "cell_type": "code",
   "execution_count": null,
   "id": "09ce783e-bfaa-4eae-8ceb-205f1490f120",
   "metadata": {},
   "outputs": [
    {
     "data": {
      "text/plain": [
       "NormalParameters(mean=tensor([[42.0000, 52.2336, 61.0000],\n",
       "        [55.8267, 64.0453, 72.2707]]), std=tensor([[0.0000, 0.2690, 0.0000],\n",
       "        [0.7402, 0.7605, 0.8855]]))"
      ]
     },
     "execution_count": null,
     "metadata": {},
     "output_type": "execute_result"
    }
   ],
   "source": [
    "l.predict(T_pred, obs, idx)"
   ]
  },
  {
   "cell_type": "code",
   "execution_count": null,
   "id": "14080b5c-fae8-435c-8a6f-e359511207eb",
   "metadata": {},
   "outputs": [
    {
     "data": {
      "text/plain": [
       "NormalParameters(mean=tensor([[45.8607, 52.7141, 59.5677],\n",
       "        [56.9925, 65.3740, 73.7569]]), std=tensor([[0.6221, 0.6082, 0.7241],\n",
       "        [1.5264, 1.6983, 1.9187]]))"
      ]
     },
     "execution_count": null,
     "metadata": {},
     "output_type": "execute_result"
    }
   ],
   "source": [
    "l.predict(T_pred)"
   ]
  },
  {
   "cell_type": "markdown",
   "id": "b0787ebc-b4c3-4d8c-8e7b-6266b26ed2a7",
   "metadata": {},
   "source": [
    "There is a small change in the predicted values after conditioning as you would expect"
   ]
  },
  {
   "cell_type": "markdown",
   "id": "6172add9-1b1a-4f0b-b6b6-9317b65dcf9c",
   "metadata": {},
   "source": [
    "## GPU Support\n",
    "\n",
    "add support for CUDA to model"
   ]
  },
  {
   "cell_type": "code",
   "execution_count": null,
   "id": "13767083-2ed1-4070-bc76-5592528ddea8",
   "metadata": {},
   "outputs": [],
   "source": [
    "# l for learner\n",
    "l_cuda = GPFALearner(X.cuda())"
   ]
  },
  {
   "cell_type": "markdown",
   "id": "9d747c48-67dd-4057-8538-a749afc5b959",
   "metadata": {},
   "source": [
    "Attrs of interest are:\n",
    "\n",
    "- T\n",
    "- X\n",
    "- likelihood\n",
    "- model\n",
    "- norm"
   ]
  },
  {
   "cell_type": "markdown",
   "id": "9e828288-f3f7-463b-adad-6bce1c7ddba3",
   "metadata": {},
   "source": [
    "`cuda()` modifies in place the tensors and the modules!"
   ]
  },
  {
   "cell_type": "code",
   "execution_count": null,
   "id": "5af515f2-c73f-4638-b299-11a71030f540",
   "metadata": {},
   "outputs": [
    {
     "data": {
      "text/plain": [
       "tensor([0, 1, 2, 3, 4, 5], device='cuda:0')"
      ]
     },
     "execution_count": null,
     "metadata": {},
     "output_type": "execute_result"
    }
   ],
   "source": [
    "l_cuda.T.cuda()"
   ]
  },
  {
   "cell_type": "code",
   "execution_count": null,
   "id": "7f65f554-a487-4d6c-bf2f-a8d2ae54582f",
   "metadata": {},
   "outputs": [
    {
     "data": {
      "text/plain": [
       "device(type='cuda', index=0)"
      ]
     },
     "execution_count": null,
     "metadata": {},
     "output_type": "execute_result"
    }
   ],
   "source": [
    "l_cuda.T.device"
   ]
  },
  {
   "cell_type": "code",
   "execution_count": null,
   "id": "b5d42968",
   "metadata": {},
   "outputs": [],
   "source": [
    "#| exports\n",
    "@patch\n",
    "def cuda(self: GPFALearner):\n",
    "    \"\"\"Moves all learner to gpu\"\"\"\n",
    "    for par in ['T', 'X', 'model', 'likelihood']:\n",
    "        self.__getattribute__(par).cuda()\n",
    "    self.norm.x_mean.cuda()\n",
    "    self.norm.x_std.cuda()"
   ]
  },
  {
   "cell_type": "code",
   "execution_count": null,
   "id": "8fef0e14",
   "metadata": {},
   "outputs": [],
   "source": [
    "l_cuda.cuda()"
   ]
  },
  {
   "cell_type": "markdown",
   "id": "69294c76",
   "metadata": {},
   "source": [
    "parameters are on the gpu!"
   ]
  },
  {
   "cell_type": "code",
   "execution_count": null,
   "id": "096c9730",
   "metadata": {},
   "outputs": [
    {
     "data": {
      "text/plain": [
       "device(type='cuda', index=0)"
      ]
     },
     "execution_count": null,
     "metadata": {},
     "output_type": "execute_result"
    }
   ],
   "source": [
    "next(l_cuda.likelihood.parameters()).device"
   ]
  },
  {
   "cell_type": "code",
   "execution_count": null,
   "id": "b36d9b9e",
   "metadata": {},
   "outputs": [
    {
     "data": {
      "text/plain": [
       "MultivariateNormal(loc: tensor([0.], device='cuda:0'), covariance_matrix: tensor([[1.]], device='cuda:0'))"
      ]
     },
     "execution_count": null,
     "metadata": {},
     "output_type": "execute_result"
    }
   ],
   "source": [
    "gpytorch.distributions.MultivariateNormal(torch.zeros(1).cuda(), torch.ones(1, 1).cuda())"
   ]
  },
  {
   "cell_type": "code",
   "execution_count": null,
   "id": "9a904f7d",
   "metadata": {},
   "outputs": [
    {
     "data": {
      "text/plain": [
       "device(type='cuda', index=0)"
      ]
     },
     "execution_count": null,
     "metadata": {},
     "output_type": "execute_result"
    }
   ],
   "source": [
    "l_cuda.model.covar_module.latent_kernels[0].lengthscale.device"
   ]
  },
  {
   "cell_type": "code",
   "execution_count": null,
   "id": "247c12d6",
   "metadata": {},
   "outputs": [
    {
     "data": {
      "application/vnd.jupyter.widget-view+json": {
       "model_id": "0aa543c5a666480796f786d586c9e100",
       "version_major": 2,
       "version_minor": 0
      },
      "text/plain": [
       "  0%|          | 0/100 [00:00<?, ?it/s]"
      ]
     },
     "metadata": {},
     "output_type": "display_data"
    }
   ],
   "source": [
    "l_cuda.train()"
   ]
  },
  {
   "cell_type": "markdown",
   "id": "dc611389-cd28-4641-be52-1295245afe34",
   "metadata": {},
   "source": [
    "## Multi-dimensional latent"
   ]
  },
  {
   "cell_type": "code",
   "execution_count": null,
   "id": "958709b0-fc08-4af3-961a-e27267415d6c",
   "metadata": {},
   "outputs": [],
   "source": [
    "l2 = GPFALearner(X, T, latent_dims=2) "
   ]
  },
  {
   "cell_type": "code",
   "execution_count": null,
   "id": "c7c26ca3-1841-4f1b-98ed-6adfa1906a9e",
   "metadata": {},
   "outputs": [
    {
     "data": {
      "application/vnd.jupyter.widget-view+json": {
       "model_id": "db999065ea3f46a3bfac7d7f2309fc08",
       "version_major": 2,
       "version_minor": 0
      },
      "text/plain": [
       "  0%|          | 0/100 [00:00<?, ?it/s]"
      ]
     },
     "metadata": {},
     "output_type": "display_data"
    }
   ],
   "source": [
    "l2.train()"
   ]
  },
  {
   "cell_type": "code",
   "execution_count": null,
   "id": "cae8a96a-48e6-4038-800d-d239d4572b33",
   "metadata": {},
   "outputs": [
    {
     "data": {
      "text/plain": [
       "[<matplotlib.lines.Line2D>]"
      ]
     },
     "execution_count": null,
     "metadata": {},
     "output_type": "execute_result"
    },
    {
     "data": {
      "image/png": "[encoded data removed]",
      "text/plain": [
       "<Figure size 432x288 with 1 Axes>"
      ]
     },
     "metadata": {
      "needs_background": "light"
     },
     "output_type": "display_data"
    }
   ],
   "source": [
    "plt.plot(l2.losses)"
   ]
  },
  {
   "cell_type": "code",
   "execution_count": null,
   "id": "ea45b0d5-56d2-4b6f-a79b-c04230e2b5bc",
   "metadata": {},
   "outputs": [
    {
     "data": {
      "text/plain": [
       "Parameter containing:\n",
       "tensor([[0.7279, 1.9034],\n",
       "        [0.8550, 1.7664],\n",
       "        [0.9552, 1.6554]], requires_grad=True)"
      ]
     },
     "execution_count": null,
     "metadata": {},
     "output_type": "execute_result"
    }
   ],
   "source": [
    "l2.model.covar_module.Lambda"
   ]
  },
  {
   "cell_type": "markdown",
   "id": "854d213f-7b0e-409c-8521-5c861bd66281",
   "metadata": {},
   "source": [
    "## Saving\n",
    "\n",
    "load and save models parameters"
   ]
  },
  {
   "cell_type": "code",
   "execution_count": null,
   "id": "d80cff5f-a392-4df4-8c7d-905e809a9188",
   "metadata": {},
   "outputs": [],
   "source": [
    "#| export\n",
    "@patch\n",
    "def save(self: GPFALearner, path: Path|str):\n",
    "    model_state = self.model.state_dict()\n",
    "    ll_state = self.likelihood.state_dict()\n",
    "    torch.save((model_state, ll_state), path)\n",
    "@patch\n",
    "def load(self: GPFALearner, path: Path|str):\n",
    "    model_state, ll_state = torch.load(path)\n",
    "    self.model.load_state_dict(model_state)\n",
    "    self.likelihood.load_state_dict(ll_state)"
   ]
  },
  {
   "cell_type": "code",
   "execution_count": null,
   "id": "4d59d1d8-226a-41dc-9634-b4d1ad7690bd",
   "metadata": {},
   "outputs": [],
   "source": [
    "from tempfile import tempdir"
   ]
  },
  {
   "cell_type": "code",
   "execution_count": null,
   "id": "e3af6084-fcab-4fb5-9ac4-42067e6c3bd6",
   "metadata": {},
   "outputs": [],
   "source": [
    "p = Path(tempdir) / \"model_test.pickle\""
   ]
  },
  {
   "cell_type": "code",
   "execution_count": null,
   "id": "a3f0c5c7-a4ad-42f2-96f5-5577ca64c5d4",
   "metadata": {},
   "outputs": [],
   "source": [
    "l.save(p)"
   ]
  },
  {
   "cell_type": "code",
   "execution_count": null,
   "id": "f7134d69-7a2c-4036-ad74-00c5a234372c",
   "metadata": {},
   "outputs": [
    {
     "data": {
      "text/plain": [
       "OrderedDict([('likelihood.noise_covar.raw_noise', tensor([0.])),\n",
       "             ('likelihood.noise_covar.raw_noise_constraint.lower_bound',\n",
       "              tensor(1.0000e-04)),\n",
       "             ('likelihood.noise_covar.raw_noise_constraint.upper_bound',\n",
       "              tensor(inf)),\n",
       "             ('covar_module.Lambda',\n",
       "              tensor([[0.2469],\n",
       "                      [0.4513],\n",
       "                      [0.6408]])),\n",
       "             ('covar_module.raw_psi_diag', tensor([0., 0., 0.])),\n",
       "             ('covar_module.latent_kernels.0.raw_lengthscale', tensor([[0.]])),\n",
       "             ('covar_module.latent_kernels.0.raw_lengthscale_constraint.lower_bound',\n",
       "              tensor(0.)),\n",
       "             ('covar_module.latent_kernels.0.raw_lengthscale_constraint.upper_bound',\n",
       "              tensor(inf)),\n",
       "             ('covar_module.raw_psi_diag_constraint.lower_bound', tensor(0.)),\n",
       "             ('covar_module.raw_psi_diag_constraint.upper_bound',\n",
       "              tensor(inf))])"
      ]
     },
     "execution_count": null,
     "metadata": {},
     "output_type": "execute_result"
    }
   ],
   "source": [
    "nl = GPFALearner(X)\n",
    "nl.model.state_dict()"
   ]
  },
  {
   "cell_type": "code",
   "execution_count": null,
   "id": "b25ee794-4221-452e-89c3-e7d9b71a97d4",
   "metadata": {},
   "outputs": [
    {
     "data": {
      "text/plain": [
       "OrderedDict([('likelihood.noise_covar.raw_noise', tensor([-10.9469])),\n",
       "             ('likelihood.noise_covar.raw_noise_constraint.lower_bound',\n",
       "              tensor(1.0000e-04)),\n",
       "             ('likelihood.noise_covar.raw_noise_constraint.upper_bound',\n",
       "              tensor(inf)),\n",
       "             ('covar_module.Lambda',\n",
       "              tensor([[2.2460],\n",
       "                      [2.2462],\n",
       "                      [2.2454]])),\n",
       "             ('covar_module.raw_psi_diag',\n",
       "              tensor([ -7.4740, -12.8264,  -8.4792])),\n",
       "             ('covar_module.latent_kernels.0.raw_lengthscale',\n",
       "              tensor([[5.5710]])),\n",
       "             ('covar_module.latent_kernels.0.raw_lengthscale_constraint.lower_bound',\n",
       "              tensor(0.)),\n",
       "             ('covar_module.latent_kernels.0.raw_lengthscale_constraint.upper_bound',\n",
       "              tensor(inf)),\n",
       "             ('covar_module.raw_psi_diag_constraint.lower_bound', tensor(0.)),\n",
       "             ('covar_module.raw_psi_diag_constraint.upper_bound',\n",
       "              tensor(inf))])"
      ]
     },
     "execution_count": null,
     "metadata": {},
     "output_type": "execute_result"
    }
   ],
   "source": [
    "nl.load(p)\n",
    "nl.model.state_dict()"
   ]
  },
  {
   "cell_type": "markdown",
   "id": "8ad8917c-f327-4230-845f-83c6758e3e7d",
   "metadata": {},
   "source": [
    "## Plot learning progress"
   ]
  },
  {
   "cell_type": "code",
   "execution_count": null,
   "id": "bb47bf2c-da78-416f-8ca5-08f06aba94de",
   "metadata": {},
   "outputs": [
    {
     "data": {
      "application/vnd.jupyter.widget-view+json": {
       "model_id": "1c6c5f78b8d345ddba781a73c4de85bf",
       "version_major": 2,
       "version_minor": 0
      },
      "text/plain": [
       "  0%|          | 0/100 [00:00<?, ?it/s]"
      ]
     },
     "metadata": {},
     "output_type": "display_data"
    }
   ],
   "source": [
    "l = GPFALearner(X, var_names=['x0', 'x1', 'x2'])\n",
    "\n",
    "l.train()"
   ]
  },
  {
   "cell_type": "code",
   "execution_count": null,
   "id": "0af7511d-0e0b-4182-9aee-9127358d3816",
   "metadata": {},
   "outputs": [],
   "source": [
    "#| export\n",
    "@patch\n",
    "def plot_progress(self: GPFALearner, size={'width': 250, 'height': 120}):\n",
    "    \n",
    "    sel = alt.selection_interval(bind=\"scales\", encodings=['x'])\n",
    "    \n",
    "    plt_losses = alt.Chart(\n",
    "        pd.DataFrame({'loss': self.losses, 'n_iter': range(self.losses.shape[0])})\n",
    "    ).mark_line().encode(\n",
    "        x = 'n_iter',\n",
    "        y = 'loss'\n",
    "    ).properties(title=\"loss\", **size).add_selection(sel)\n",
    "    \n",
    "    out_plot = [plt_losses]\n",
    "    for info_name in self.model_infos[0].keys():\n",
    "        \n",
    "        values = pd.concat([info[info_name].assign(n_iter=i) for i, info in enumerate(self.model_infos)])\n",
    "        \n",
    "        if values.shape[1] == 2:\n",
    "            # only one column so add fake facet\n",
    "            values.insert(0, 'info', info_name)\n",
    "        \n",
    "        facet = values.columns[0] # first column is either latent or variable\n",
    "        \n",
    "        values = values.melt([facet, 'n_iter'], var_name='prop')\n",
    "        \n",
    "        plt = alt.Chart(values).mark_line().encode(\n",
    "            x = 'n_iter',\n",
    "            y = 'value',\n",
    "            color = 'prop',\n",
    "            facet = facet\n",
    "        ).properties(title=info_name, **size).add_selection(sel)\n",
    "        \n",
    "        out_plot.append(plt)\n",
    "    \n",
    "    return alt.VConcatChart(vconcat=out_plot).resolve_scale(\n",
    "        color='independent'\n",
    "    )\n",
    "    "
   ]
  },
  {
   "cell_type": "code",
   "execution_count": null,
   "id": "89509c5e-6a83-4497-b6b9-b0183407e290",
   "metadata": {},
   "outputs": [
    {
     "name": "stderr",
     "output_type": "stream",
     "text": [
      "/home/simone/.local/lib/python3.10/site-packages/altair/utils/core.py:317: FutureWarning: iteritems is deprecated and will be removed in a future version. Use .items instead.\n",
      "  for col_name, dtype in df.dtypes.iteritems():\n"
     ]
    },
    {
     "data": {
      "text/html": [
       "\n",
       "<div id=\"altair-viz-87163f9541114ada914a7342c2908622\"></div>\n",
       "<script type=\"text/javascript\">\n",
       "  var VEGA_DEBUG = (typeof VEGA_DEBUG == \"undefined\") ? {} : VEGA_DEBUG;\n",
       "  (function(spec, embedOpt){\n",
       "    let outputDiv = document.currentScript.previousElementSibling;\n",
       "    if (outputDiv.id !== \"altair-viz-87163f9541114ada914a7342c2908622\") {\n",
       "      outputDiv = document.getElementById(\"altair-viz-87163f9541114ada914a7342c2908622\");\n",
       "    }\n",
       "    const paths = {\n",
       "      \"vega\": \"https://cdn.jsdelivr.net/npm//vega@5?noext\",\n",
       "      \"vega-lib\": \"https://cdn.jsdelivr.net/npm//vega-lib?noext\",\n",
       "      \"vega-lite\": \"https://cdn.jsdelivr.net/npm//vega-lite@4.17.0?noext\",\n",
       "      \"vega-embed\": \"https://cdn.jsdelivr.net/npm//vega-embed@6?noext\",\n",
       "    };\n",
       "\n",
       "    function maybeLoadScript(lib, version) {\n",
       "      var key = `${lib.replace(\"-\", \"\")}_version`;\n",
       "      return (VEGA_DEBUG[key] == version) ?\n",
       "        Promise.resolve(paths[lib]) :\n",
       "        new Promise(function(resolve, reject) {\n",
       "          var s = document.createElement('script');\n",
       "          document.getElementsByTagName(\"head\")[0].appendChild(s);\n",
       "          s.async = true;\n",
       "          s.onload = () => {\n",
       "            VEGA_DEBUG[key] = version;\n",
       "            return resolve(paths[lib]);\n",
       "          };\n",
       "          s.onerror = () => reject(`Error loading script: ${paths[lib]}`);\n",
       "          s.src = paths[lib];\n",
       "        });\n",
       "    }\n",
       "\n",
       "    function showError(err) {\n",
       "      outputDiv.innerHTML = `<div class=\"error\" style=\"color:red;\">${err}</div>`;\n",
       "      throw err;\n",
       "    }\n",
       "\n",
       "    function displayChart(vegaEmbed) {\n",
       "      vegaEmbed(outputDiv, spec, embedOpt)\n",
       "        .catch(err => showError(`Javascript Error: ${err.message}<br>This usually means there's a typo in your chart specification. See the javascript console for the full traceback.`));\n",
       "    }\n",
       "\n",
       "    if(typeof define === \"function\" && define.amd) {\n",
       "      requirejs.config({paths});\n",
       "      require([\"vega-embed\"], displayChart, err => showError(`Error loading script: ${err.message}`));\n",
       "    } else {\n",
       "      maybeLoadScript(\"vega\", \"5\")\n",
       "        .then(() => maybeLoadScript(\"vega-lite\", \"4.17.0\"))\n",
       "        .then(() => maybeLoadScript(\"vega-embed\", \"6\"))\n",
       "        .catch(showError)\n",
       "        .then(() => displayChart(vegaEmbed));\n",
       "    }\n",
       "  })({\"config\": {\"view\": {\"continuousWidth\": 400, \"continuousHeight\": 300}}, \"vconcat\": [{\"data\": {\"name\": \"data-892b23d6cd35c7911b2516cdedb18bc4\"}, \"mark\": \"line\", \"encoding\": {\"x\": {\"field\": \"n_iter\", \"type\": \"quantitative\"}, \"y\": {\"field\": \"loss\", \"type\": \"quantitative\"}}, \"height\": 120, \"selection\": {\"selector001\": {\"type\": \"interval\", \"bind\": \"scales\", \"encodings\": [\"x\"]}}, \"title\": \"loss\", \"width\": 250}, {\"data\": {\"name\": \"data-8515edd5e637866e629669efc72a50f3\"}, \"mark\": \"line\", \"encoding\": {\"color\": {\"field\": \"prop\", \"type\": \"nominal\"}, \"facet\": {\"field\": \"variable\", \"type\": \"nominal\"}, \"x\": {\"field\": \"n_iter\", \"type\": \"quantitative\"}, \"y\": {\"field\": \"value\", \"type\": \"quantitative\"}}, \"height\": 120, \"selection\": {\"selector001\": {\"type\": \"interval\", \"bind\": \"scales\", \"encodings\": [\"x\"]}}, \"title\": \"Lambda\", \"width\": 250}, {\"data\": {\"name\": \"data-0d8cf3737bcc268b20e9628d5bb4fee4\"}, \"mark\": \"line\", \"encoding\": {\"color\": {\"field\": \"prop\", \"type\": \"nominal\"}, \"facet\": {\"field\": \"latent\", \"type\": \"nominal\"}, \"x\": {\"field\": \"n_iter\", \"type\": \"quantitative\"}, \"y\": {\"field\": \"value\", \"type\": \"quantitative\"}}, \"height\": 120, \"selection\": {\"selector001\": {\"type\": \"interval\", \"bind\": \"scales\", \"encodings\": [\"x\"]}}, \"title\": \"lengthscale\", \"width\": 250}, {\"data\": {\"name\": \"data-0b1b3966d787af2c15266f2dabda4c39\"}, \"mark\": \"line\", \"encoding\": {\"color\": {\"field\": \"prop\", \"type\": \"nominal\"}, \"facet\": {\"field\": \"variable\", \"type\": \"nominal\"}, \"x\": {\"field\": \"n_iter\", \"type\": \"quantitative\"}, \"y\": {\"field\": \"value\", \"type\": \"quantitative\"}}, \"height\": 120, \"selection\": {\"selector001\": {\"type\": \"interval\", \"bind\": \"scales\", \"encodings\": [\"x\"]}}, \"title\": \"psi\", \"width\": 250}, {\"data\": {\"name\": \"data-fb3183a3882810589d4ad5bc5ee67830\"}, \"mark\": \"line\", \"encoding\": {\"color\": {\"field\": \"prop\", \"type\": \"nominal\"}, \"facet\": {\"field\": \"info\", \"type\": \"nominal\"}, \"x\": {\"field\": \"n_iter\", \"type\": \"quantitative\"}, \"y\": {\"field\": \"value\", \"type\": \"quantitative\"}}, \"height\": 120, \"selection\": {\"selector001\": {\"type\": \"interval\", \"bind\": \"scales\", \"encodings\": [\"x\"]}}, \"title\": \"likelihood\", \"width\": 250}], \"resolve\": {\"scale\": {\"color\": \"independent\"}}, \"$schema\": \"https://vega.github.io/schema/vega-lite/v4.17.0.json\", \"datasets\": {\"data-892b23d6cd35c7911b2516cdedb18bc4\": [{\"loss\": 1.3616493940353394, \"n_iter\": 0}, {\"loss\": 1.3247580528259277, \"n_iter\": 1}, {\"loss\": 1.286805272102356, \"n_iter\": 2}, {\"loss\": 1.2465436458587646, \"n_iter\": 3}, {\"loss\": 1.2061892747879028, \"n_iter\": 4}, {\"loss\": 1.1665661334991455, \"n_iter\": 5}, {\"loss\": 1.1281523704528809, \"n_iter\": 6}, {\"loss\": 1.0908832550048828, \"n_iter\": 7}, {\"loss\": 1.0543415546417236, \"n_iter\": 8}, {\"loss\": 1.0179274082183838, \"n_iter\": 9}, {\"loss\": 0.9811935424804688, \"n_iter\": 10}, {\"loss\": 0.943693995475769, \"n_iter\": 11}, {\"loss\": 0.9050889611244202, \"n_iter\": 12}, {\"loss\": 0.8654825687408447, \"n_iter\": 13}, {\"loss\": 0.8252427577972412, \"n_iter\": 14}, {\"loss\": 0.7845203876495361, \"n_iter\": 15}, {\"loss\": 0.7432124018669128, \"n_iter\": 16}, {\"loss\": 0.7013821005821228, \"n_iter\": 17}, {\"loss\": 0.6592755317687988, \"n_iter\": 18}, {\"loss\": 0.6171587705612183, \"n_iter\": 19}, {\"loss\": 0.5751800537109375, \"n_iter\": 20}, {\"loss\": 0.5331808924674988, \"n_iter\": 21}, {\"loss\": 0.4911808371543884, \"n_iter\": 22}, {\"loss\": 0.4494186043739319, \"n_iter\": 23}, {\"loss\": 0.4076252579689026, \"n_iter\": 24}, {\"loss\": 0.3655937612056732, \"n_iter\": 25}, {\"loss\": 0.32347992062568665, \"n_iter\": 26}, {\"loss\": 0.2812274396419525, \"n_iter\": 27}, {\"loss\": 0.2386084645986557, \"n_iter\": 28}, {\"loss\": 0.19593217968940735, \"n_iter\": 29}, {\"loss\": 0.15317010879516602, \"n_iter\": 30}, {\"loss\": 0.11029105633497238, \"n_iter\": 31}, {\"loss\": 0.06757450103759766, \"n_iter\": 32}, {\"loss\": 0.02481471188366413, \"n_iter\": 33}, {\"loss\": -0.01774883270263672, \"n_iter\": 34}, {\"loss\": -0.06019306182861328, \"n_iter\": 35}, {\"loss\": -0.10249582678079605, \"n_iter\": 36}, {\"loss\": -0.1445728987455368, \"n_iter\": 37}, {\"loss\": -0.18670982122421265, \"n_iter\": 38}, {\"loss\": -0.2285359650850296, \"n_iter\": 39}, {\"loss\": -0.27024513483047485, \"n_iter\": 40}, {\"loss\": -0.3115030825138092, \"n_iter\": 41}, {\"loss\": -0.35291141271591187, \"n_iter\": 42}, {\"loss\": -0.39405685663223267, \"n_iter\": 43}, {\"loss\": -0.43515926599502563, \"n_iter\": 44}, {\"loss\": -0.4759858548641205, \"n_iter\": 45}, {\"loss\": -0.5165761113166809, \"n_iter\": 46}, {\"loss\": -0.5567286014556885, \"n_iter\": 47}, {\"loss\": -0.5962656736373901, \"n_iter\": 48}, {\"loss\": -0.6348356604576111, \"n_iter\": 49}, {\"loss\": -0.6724594831466675, \"n_iter\": 50}, {\"loss\": -0.7130728960037231, \"n_iter\": 51}, {\"loss\": -0.7523126602172852, \"n_iter\": 52}, {\"loss\": -0.7877423763275146, \"n_iter\": 53}, {\"loss\": -0.8271933794021606, \"n_iter\": 54}, {\"loss\": -0.8646485805511475, \"n_iter\": 55}, {\"loss\": -0.8987193703651428, \"n_iter\": 56}, {\"loss\": -0.9368671774864197, \"n_iter\": 57}, {\"loss\": -0.9727238416671753, \"n_iter\": 58}, {\"loss\": -1.004711389541626, \"n_iter\": 59}, {\"loss\": -1.0403475761413574, \"n_iter\": 60}, {\"loss\": -1.0745271444320679, \"n_iter\": 61}, {\"loss\": -1.0994372367858887, \"n_iter\": 62}, {\"loss\": -1.1307871341705322, \"n_iter\": 63}, {\"loss\": -1.1712578535079956, \"n_iter\": 64}, {\"loss\": -1.1924773454666138, \"n_iter\": 65}, {\"loss\": -1.224071741104126, \"n_iter\": 66}, {\"loss\": -1.258063793182373, \"n_iter\": 67}, {\"loss\": -1.2751750946044922, \"n_iter\": 68}, {\"loss\": -1.3097822666168213, \"n_iter\": 69}, {\"loss\": -1.333728551864624, \"n_iter\": 70}, {\"loss\": -1.3483352661132812, \"n_iter\": 71}, {\"loss\": -1.3724662065505981, \"n_iter\": 72}, {\"loss\": -1.37844717502594, \"n_iter\": 73}, {\"loss\": -1.4057636260986328, \"n_iter\": 74}, {\"loss\": -1.4416182041168213, \"n_iter\": 75}, {\"loss\": -1.4320825338363647, \"n_iter\": 76}, {\"loss\": -1.4722505807876587, \"n_iter\": 77}, {\"loss\": -1.4806289672851562, \"n_iter\": 78}, {\"loss\": -1.4855475425720215, \"n_iter\": 79}, {\"loss\": -1.519938588142395, \"n_iter\": 80}, {\"loss\": -1.5108129978179932, \"n_iter\": 81}, {\"loss\": -1.5336551666259766, \"n_iter\": 82}, {\"loss\": -1.5471761226654053, \"n_iter\": 83}, {\"loss\": -1.5401644706726074, \"n_iter\": 84}, {\"loss\": -1.56497061252594, \"n_iter\": 85}, {\"loss\": -1.568136215209961, \"n_iter\": 86}, {\"loss\": -1.5640149116516113, \"n_iter\": 87}, {\"loss\": -1.5842094421386719, \"n_iter\": 88}, {\"loss\": -1.5845105648040771, \"n_iter\": 89}, {\"loss\": -1.5771775245666504, \"n_iter\": 90}, {\"loss\": -1.5921521186828613, \"n_iter\": 91}, {\"loss\": -1.5878556966781616, \"n_iter\": 92}, {\"loss\": -1.5757910013198853, \"n_iter\": 93}, {\"loss\": -1.6000158786773682, \"n_iter\": 94}, {\"loss\": -1.607749104499817, \"n_iter\": 95}, {\"loss\": -1.6082158088684082, \"n_iter\": 96}, {\"loss\": -1.6147664785385132, \"n_iter\": 97}, {\"loss\": -1.60943603515625, \"n_iter\": 98}, {\"loss\": -1.6280204057693481, \"n_iter\": 99}], \"data-8515edd5e637866e629669efc72a50f3\": [{\"variable\": \"x0\", \"n_iter\": 0, \"prop\": \"z0\", \"value\": 0.6182378530502319}, {\"variable\": \"x1\", \"n_iter\": 0, \"prop\": \"z0\", \"value\": 0.4987378716468811}, {\"variable\": \"x2\", \"n_iter\": 0, \"prop\": \"z0\", \"value\": 0.05667799711227417}, {\"variable\": \"x0\", \"n_iter\": 1, \"prop\": \"z0\", \"value\": 0.5182378888130188}, {\"variable\": \"x1\", \"n_iter\": 1, \"prop\": \"z0\", \"value\": 0.5987377762794495}, {\"variable\": \"x2\", \"n_iter\": 1, \"prop\": \"z0\", \"value\": 0.1566779911518097}, {\"variable\": \"x0\", \"n_iter\": 2, \"prop\": \"z0\", \"value\": 0.5159587264060974}, {\"variable\": \"x1\", \"n_iter\": 2, \"prop\": \"z0\", \"value\": 0.613142728805542}, {\"variable\": \"x2\", \"n_iter\": 2, \"prop\": \"z0\", \"value\": 0.2566736340522766}, {\"variable\": \"x0\", \"n_iter\": 3, \"prop\": \"z0\", \"value\": 0.5619025230407715}, {\"variable\": \"x1\", \"n_iter\": 3, \"prop\": \"z0\", \"value\": 0.5965019464492798}, {\"variable\": \"x2\", \"n_iter\": 3, \"prop\": \"z0\", \"value\": 0.35639965534210205}, {\"variable\": \"x0\", \"n_iter\": 4, \"prop\": \"z0\", \"value\": 0.6229429244995117}, {\"variable\": \"x1\", \"n_iter\": 4, \"prop\": \"z0\", \"value\": 0.6067339777946472}, {\"variable\": \"x2\", \"n_iter\": 4, \"prop\": \"z0\", \"value\": 0.45517322421073914}, {\"variable\": \"x0\", \"n_iter\": 5, \"prop\": \"z0\", \"value\": 0.6832844614982605}, {\"variable\": \"x1\", \"n_iter\": 5, \"prop\": \"z0\", \"value\": 0.6486225128173828}, {\"variable\": \"x2\", \"n_iter\": 5, \"prop\": \"z0\", \"value\": 0.5517421364784241}, {\"variable\": \"x0\", \"n_iter\": 6, \"prop\": \"z0\", \"value\": 0.7311460375785828}, {\"variable\": \"x1\", \"n_iter\": 6, \"prop\": \"z0\", \"value\": 0.7054794430732727}, {\"variable\": \"x2\", \"n_iter\": 6, \"prop\": \"z0\", \"value\": 0.644393801689148}, {\"variable\": \"x0\", \"n_iter\": 7, \"prop\": \"z0\", \"value\": 0.7642646431922913}, {\"variable\": \"x1\", \"n_iter\": 7, \"prop\": \"z0\", \"value\": 0.7639138102531433}, {\"variable\": \"x2\", \"n_iter\": 7, \"prop\": \"z0\", \"value\": 0.7311311364173889}, {\"variable\": \"x0\", \"n_iter\": 8, \"prop\": \"z0\", \"value\": 0.789247989654541}, {\"variable\": \"x1\", \"n_iter\": 8, \"prop\": \"z0\", \"value\": 0.8092319369316101}, {\"variable\": \"x2\", \"n_iter\": 8, \"prop\": \"z0\", \"value\": 0.8098407983779907}, {\"variable\": \"x0\", \"n_iter\": 9, \"prop\": \"z0\", \"value\": 0.8142116069793701}, {\"variable\": \"x1\", \"n_iter\": 9, \"prop\": \"z0\", \"value\": 0.8365437388420105}, {\"variable\": \"x2\", \"n_iter\": 9, \"prop\": \"z0\", \"value\": 0.8784056901931763}, {\"variable\": \"x0\", \"n_iter\": 10, \"prop\": \"z0\", \"value\": 0.8440640568733215}, {\"variable\": \"x1\", \"n_iter\": 10, \"prop\": \"z0\", \"value\": 0.8549138307571411}, {\"variable\": \"x2\", \"n_iter\": 10, \"prop\": \"z0\", \"value\": 0.9349437952041626}, {\"variable\": \"x0\", \"n_iter\": 11, \"prop\": \"z0\", \"value\": 0.8795373439788818}, {\"variable\": \"x1\", \"n_iter\": 11, \"prop\": \"z0\", \"value\": 0.8773208856582642}, {\"variable\": \"x2\", \"n_iter\": 11, \"prop\": \"z0\", \"value\": 0.9783672094345093}, {\"variable\": \"x0\", \"n_iter\": 12, \"prop\": \"z0\", \"value\": 0.918540894985199}, {\"variable\": \"x1\", \"n_iter\": 12, \"prop\": \"z0\", \"value\": 0.9108266830444336}, {\"variable\": \"x2\", \"n_iter\": 12, \"prop\": \"z0\", \"value\": 1.0088924169540405}, {\"variable\": \"x0\", \"n_iter\": 13, \"prop\": \"z0\", \"value\": 0.9576366543769836}, {\"variable\": \"x1\", \"n_iter\": 13, \"prop\": \"z0\", \"value\": 0.9532437920570374}, {\"variable\": \"x2\", \"n_iter\": 13, \"prop\": \"z0\", \"value\": 1.0280430316925049}, {\"variable\": \"x0\", \"n_iter\": 14, \"prop\": \"z0\", \"value\": 0.9930048584938049}, {\"variable\": \"x1\", \"n_iter\": 14, \"prop\": \"z0\", \"value\": 0.996083676815033}, {\"variable\": \"x2\", \"n_iter\": 14, \"prop\": \"z0\", \"value\": 1.038201928138733}, {\"variable\": \"x0\", \"n_iter\": 15, \"prop\": \"z0\", \"value\": 1.0211230516433716}, {\"variable\": \"x1\", \"n_iter\": 15, \"prop\": \"z0\", \"value\": 1.0266159772872925}, {\"variable\": \"x2\", \"n_iter\": 15, \"prop\": \"z0\", \"value\": 1.0420514345169067}, {\"variable\": \"x0\", \"n_iter\": 16, \"prop\": \"z0\", \"value\": 1.0385894775390625}, {\"variable\": \"x1\", \"n_iter\": 16, \"prop\": \"z0\", \"value\": 1.037482738494873}, {\"variable\": \"x2\", \"n_iter\": 16, \"prop\": \"z0\", \"value\": 1.0419831275939941}, {\"variable\": \"x0\", \"n_iter\": 17, \"prop\": \"z0\", \"value\": 1.042612075805664}, {\"variable\": \"x1\", \"n_iter\": 17, \"prop\": \"z0\", \"value\": 1.0328446626663208}, {\"variable\": \"x2\", \"n_iter\": 17, \"prop\": \"z0\", \"value\": 1.0396426916122437}, {\"variable\": \"x0\", \"n_iter\": 18, \"prop\": \"z0\", \"value\": 1.033496379852295}, {\"variable\": \"x1\", \"n_iter\": 18, \"prop\": \"z0\", \"value\": 1.0220712423324585}, {\"variable\": \"x2\", \"n_iter\": 18, \"prop\": \"z0\", \"value\": 1.0357880592346191}, {\"variable\": \"x0\", \"n_iter\": 19, \"prop\": \"z0\", \"value\": 1.0163146257400513}, {\"variable\": \"x1\", \"n_iter\": 19, \"prop\": \"z0\", \"value\": 1.014251708984375}, {\"variable\": \"x2\", \"n_iter\": 19, \"prop\": \"z0\", \"value\": 1.030442714691162}, {\"variable\": \"x0\", \"n_iter\": 20, \"prop\": \"z0\", \"value\": 1.0013376474380493}, {\"variable\": \"x1\", \"n_iter\": 20, \"prop\": \"z0\", \"value\": 1.0122113227844238}, {\"variable\": \"x2\", \"n_iter\": 20, \"prop\": \"z0\", \"value\": 1.0234116315841675}, {\"variable\": \"x0\", \"n_iter\": 21, \"prop\": \"z0\", \"value\": 0.9998205900192261}, {\"variable\": \"x1\", \"n_iter\": 21, \"prop\": \"z0\", \"value\": 1.012062907218933}, {\"variable\": \"x2\", \"n_iter\": 21, \"prop\": \"z0\", \"value\": 1.01504647731781}, {\"variable\": \"x0\", \"n_iter\": 22, \"prop\": \"z0\", \"value\": 1.0119273662567139}, {\"variable\": \"x1\", \"n_iter\": 22, \"prop\": \"z0\", \"value\": 1.0124350786209106}, {\"variable\": \"x2\", \"n_iter\": 22, \"prop\": \"z0\", \"value\": 1.006881833076477}, {\"variable\": \"x0\", \"n_iter\": 23, \"prop\": \"z0\", \"value\": 1.0261963605880737}, {\"variable\": \"x1\", \"n_iter\": 23, \"prop\": \"z0\", \"value\": 1.0185829401016235}, {\"variable\": \"x2\", \"n_iter\": 23, \"prop\": \"z0\", \"value\": 1.001656174659729}, {\"variable\": \"x0\", \"n_iter\": 24, \"prop\": \"z0\", \"value\": 1.031144142150879}, {\"variable\": \"x1\", \"n_iter\": 24, \"prop\": \"z0\", \"value\": 1.0306169986724854}, {\"variable\": \"x2\", \"n_iter\": 24, \"prop\": \"z0\", \"value\": 1.002542495727539}, {\"variable\": \"x0\", \"n_iter\": 25, \"prop\": \"z0\", \"value\": 1.02974534034729}, {\"variable\": \"x1\", \"n_iter\": 25, \"prop\": \"z0\", \"value\": 1.035906195640564}, {\"variable\": \"x2\", \"n_iter\": 25, \"prop\": \"z0\", \"value\": 1.011326789855957}, {\"variable\": \"x0\", \"n_iter\": 26, \"prop\": \"z0\", \"value\": 1.032856822013855}, {\"variable\": \"x1\", \"n_iter\": 26, \"prop\": \"z0\", \"value\": 1.0333280563354492}, {\"variable\": \"x2\", \"n_iter\": 26, \"prop\": \"z0\", \"value\": 1.0267540216445923}, {\"variable\": \"x0\", \"n_iter\": 27, \"prop\": \"z0\", \"value\": 1.045412302017212}, {\"variable\": \"x1\", \"n_iter\": 27, \"prop\": \"z0\", \"value\": 1.0469437837600708}, {\"variable\": \"x2\", \"n_iter\": 27, \"prop\": \"z0\", \"value\": 1.0454254150390625}, {\"variable\": \"x0\", \"n_iter\": 28, \"prop\": \"z0\", \"value\": 1.0711686611175537}, {\"variable\": \"x1\", \"n_iter\": 28, \"prop\": \"z0\", \"value\": 1.0780985355377197}, {\"variable\": \"x2\", \"n_iter\": 28, \"prop\": \"z0\", \"value\": 1.0658800601959229}, {\"variable\": \"x0\", \"n_iter\": 29, \"prop\": \"z0\", \"value\": 1.1077300310134888}, {\"variable\": \"x1\", \"n_iter\": 29, \"prop\": \"z0\", \"value\": 1.108114242553711}, {\"variable\": \"x2\", \"n_iter\": 29, \"prop\": \"z0\", \"value\": 1.0901480913162231}, {\"variable\": \"x0\", \"n_iter\": 30, \"prop\": \"z0\", \"value\": 1.139731526374817}, {\"variable\": \"x1\", \"n_iter\": 30, \"prop\": \"z0\", \"value\": 1.1351768970489502}, {\"variable\": \"x2\", \"n_iter\": 30, \"prop\": \"z0\", \"value\": 1.1204578876495361}, {\"variable\": \"x0\", \"n_iter\": 31, \"prop\": \"z0\", \"value\": 1.1601585149765015}, {\"variable\": \"x1\", \"n_iter\": 31, \"prop\": \"z0\", \"value\": 1.1664177179336548}, {\"variable\": \"x2\", \"n_iter\": 31, \"prop\": \"z0\", \"value\": 1.156086802482605}, {\"variable\": \"x0\", \"n_iter\": 32, \"prop\": \"z0\", \"value\": 1.189690351486206}, {\"variable\": \"x1\", \"n_iter\": 32, \"prop\": \"z0\", \"value\": 1.191335678100586}, {\"variable\": \"x2\", \"n_iter\": 32, \"prop\": \"z0\", \"value\": 1.1934881210327148}, {\"variable\": \"x0\", \"n_iter\": 33, \"prop\": \"z0\", \"value\": 1.2290384769439697}, {\"variable\": \"x1\", \"n_iter\": 33, \"prop\": \"z0\", \"value\": 1.229701042175293}, {\"variable\": \"x2\", \"n_iter\": 33, \"prop\": \"z0\", \"value\": 1.2287877798080444}, {\"variable\": \"x0\", \"n_iter\": 34, \"prop\": \"z0\", \"value\": 1.2718660831451416}, {\"variable\": \"x1\", \"n_iter\": 34, \"prop\": \"z0\", \"value\": 1.2754433155059814}, {\"variable\": \"x2\", \"n_iter\": 34, \"prop\": \"z0\", \"value\": 1.2632018327713013}, {\"variable\": \"x0\", \"n_iter\": 35, \"prop\": \"z0\", \"value\": 1.311259388923645}, {\"variable\": \"x1\", \"n_iter\": 35, \"prop\": \"z0\", \"value\": 1.305111289024353}, {\"variable\": \"x2\", \"n_iter\": 35, \"prop\": \"z0\", \"value\": 1.3004907369613647}, {\"variable\": \"x0\", \"n_iter\": 36, \"prop\": \"z0\", \"value\": 1.3335012197494507}, {\"variable\": \"x1\", \"n_iter\": 36, \"prop\": \"z0\", \"value\": 1.3436379432678223}, {\"variable\": \"x2\", \"n_iter\": 36, \"prop\": \"z0\", \"value\": 1.339286208152771}, {\"variable\": \"x0\", \"n_iter\": 37, \"prop\": \"z0\", \"value\": 1.372489094734192}, {\"variable\": \"x1\", \"n_iter\": 37, \"prop\": \"z0\", \"value\": 1.3642443418502808}, {\"variable\": \"x2\", \"n_iter\": 37, \"prop\": \"z0\", \"value\": 1.3756470680236816}, {\"variable\": \"x0\", \"n_iter\": 38, \"prop\": \"z0\", \"value\": 1.4054319858551025}, {\"variable\": \"x1\", \"n_iter\": 38, \"prop\": \"z0\", \"value\": 1.4142502546310425}, {\"variable\": \"x2\", \"n_iter\": 38, \"prop\": \"z0\", \"value\": 1.406267523765564}, {\"variable\": \"x0\", \"n_iter\": 39, \"prop\": \"z0\", \"value\": 1.4479453563690186}, {\"variable\": \"x1\", \"n_iter\": 39, \"prop\": \"z0\", \"value\": 1.4397791624069214}, {\"variable\": \"x2\", \"n_iter\": 39, \"prop\": \"z0\", \"value\": 1.4371663331985474}, {\"variable\": \"x0\", \"n_iter\": 40, \"prop\": \"z0\", \"value\": 1.4640121459960938}, {\"variable\": \"x1\", \"n_iter\": 40, \"prop\": \"z0\", \"value\": 1.4760414361953735}, {\"variable\": \"x2\", \"n_iter\": 40, \"prop\": \"z0\", \"value\": 1.470140814781189}, {\"variable\": \"x0\", \"n_iter\": 41, \"prop\": \"z0\", \"value\": 1.500563144683838}, {\"variable\": \"x1\", \"n_iter\": 41, \"prop\": \"z0\", \"value\": 1.4850248098373413}, {\"variable\": \"x2\", \"n_iter\": 41, \"prop\": \"z0\", \"value\": 1.5010852813720703}, {\"variable\": \"x0\", \"n_iter\": 42, \"prop\": \"z0\", \"value\": 1.5157090425491333}, {\"variable\": \"x1\", \"n_iter\": 42, \"prop\": \"z0\", \"value\": 1.5342988967895508}, {\"variable\": \"x2\", \"n_iter\": 42, \"prop\": \"z0\", \"value\": 1.5245176553726196}, {\"variable\": \"x0\", \"n_iter\": 43, \"prop\": \"z0\", \"value\": 1.5605913400650024}, {\"variable\": \"x1\", \"n_iter\": 43, \"prop\": \"z0\", \"value\": 1.544366478919983}, {\"variable\": \"x2\", \"n_iter\": 43, \"prop\": \"z0\", \"value\": 1.547264575958252}, {\"variable\": \"x0\", \"n_iter\": 44, \"prop\": \"z0\", \"value\": 1.5648529529571533}, {\"variable\": \"x1\", \"n_iter\": 44, \"prop\": \"z0\", \"value\": 1.5789990425109863}, {\"variable\": \"x2\", \"n_iter\": 44, \"prop\": \"z0\", \"value\": 1.5731709003448486}, {\"variable\": \"x0\", \"n_iter\": 45, \"prop\": \"z0\", \"value\": 1.5946171283721924}, {\"variable\": \"x1\", \"n_iter\": 45, \"prop\": \"z0\", \"value\": 1.5882759094238281}, {\"variable\": \"x2\", \"n_iter\": 45, \"prop\": \"z0\", \"value\": 1.5968362092971802}, {\"variable\": \"x0\", \"n_iter\": 46, \"prop\": \"z0\", \"value\": 1.6180673837661743}, {\"variable\": \"x1\", \"n_iter\": 46, \"prop\": \"z0\", \"value\": 1.6191636323928833}, {\"variable\": \"x2\", \"n_iter\": 46, \"prop\": \"z0\", \"value\": 1.614400863647461}, {\"variable\": \"x0\", \"n_iter\": 47, \"prop\": \"z0\", \"value\": 1.637366533279419}, {\"variable\": \"x1\", \"n_iter\": 47, \"prop\": \"z0\", \"value\": 1.643330693244934}, {\"variable\": \"x2\", \"n_iter\": 47, \"prop\": \"z0\", \"value\": 1.6360613107681274}, {\"variable\": \"x0\", \"n_iter\": 48, \"prop\": \"z0\", \"value\": 1.6630302667617798}, {\"variable\": \"x1\", \"n_iter\": 48, \"prop\": \"z0\", \"value\": 1.6498448848724365}, {\"variable\": \"x2\", \"n_iter\": 48, \"prop\": \"z0\", \"value\": 1.6620025634765625}, {\"variable\": \"x0\", \"n_iter\": 49, \"prop\": \"z0\", \"value\": 1.6659295558929443}, {\"variable\": \"x1\", \"n_iter\": 49, \"prop\": \"z0\", \"value\": 1.6932185888290405}, {\"variable\": \"x2\", \"n_iter\": 49, \"prop\": \"z0\", \"value\": 1.6801607608795166}, {\"variable\": \"x0\", \"n_iter\": 50, \"prop\": \"z0\", \"value\": 1.7176244258880615}, {\"variable\": \"x1\", \"n_iter\": 50, \"prop\": \"z0\", \"value\": 1.6815131902694702}, {\"variable\": \"x2\", \"n_iter\": 50, \"prop\": \"z0\", \"value\": 1.6977648735046387}, {\"variable\": \"x0\", \"n_iter\": 51, \"prop\": \"z0\", \"value\": 1.7017099857330322}, {\"variable\": \"x1\", \"n_iter\": 51, \"prop\": \"z0\", \"value\": 1.7241554260253906}, {\"variable\": \"x2\", \"n_iter\": 51, \"prop\": \"z0\", \"value\": 1.7183406352996826}, {\"variable\": \"x0\", \"n_iter\": 52, \"prop\": \"z0\", \"value\": 1.7243820428848267}, {\"variable\": \"x1\", \"n_iter\": 52, \"prop\": \"z0\", \"value\": 1.737608551979065}, {\"variable\": \"x2\", \"n_iter\": 52, \"prop\": \"z0\", \"value\": 1.7303555011749268}, {\"variable\": \"x0\", \"n_iter\": 53, \"prop\": \"z0\", \"value\": 1.7631551027297974}, {\"variable\": \"x1\", \"n_iter\": 53, \"prop\": \"z0\", \"value\": 1.7322641611099243}, {\"variable\": \"x2\", \"n_iter\": 53, \"prop\": \"z0\", \"value\": 1.7446389198303223}, {\"variable\": \"x0\", \"n_iter\": 54, \"prop\": \"z0\", \"value\": 1.7520822286605835}, {\"variable\": \"x1\", \"n_iter\": 54, \"prop\": \"z0\", \"value\": 1.770086407661438}, {\"variable\": \"x2\", \"n_iter\": 54, \"prop\": \"z0\", \"value\": 1.7658237218856812}, {\"variable\": \"x0\", \"n_iter\": 55, \"prop\": \"z0\", \"value\": 1.771060585975647}, {\"variable\": \"x1\", \"n_iter\": 55, \"prop\": \"z0\", \"value\": 1.7853058576583862}, {\"variable\": \"x2\", \"n_iter\": 55, \"prop\": \"z0\", \"value\": 1.7775468826293945}, {\"variable\": \"x0\", \"n_iter\": 56, \"prop\": \"z0\", \"value\": 1.807495355606079}, {\"variable\": \"x1\", \"n_iter\": 56, \"prop\": \"z0\", \"value\": 1.779558539390564}, {\"variable\": \"x2\", \"n_iter\": 56, \"prop\": \"z0\", \"value\": 1.792418122291565}, {\"variable\": \"x0\", \"n_iter\": 57, \"prop\": \"z0\", \"value\": 1.8003509044647217}, {\"variable\": \"x1\", \"n_iter\": 57, \"prop\": \"z0\", \"value\": 1.8160982131958008}, {\"variable\": \"x2\", \"n_iter\": 57, \"prop\": \"z0\", \"value\": 1.811341643333435}, {\"variable\": \"x0\", \"n_iter\": 58, \"prop\": \"z0\", \"value\": 1.81923246383667}, {\"variable\": \"x1\", \"n_iter\": 58, \"prop\": \"z0\", \"value\": 1.8311399221420288}, {\"variable\": \"x2\", \"n_iter\": 58, \"prop\": \"z0\", \"value\": 1.8229172229766846}, {\"variable\": \"x0\", \"n_iter\": 59, \"prop\": \"z0\", \"value\": 1.8519532680511475}, {\"variable\": \"x1\", \"n_iter\": 59, \"prop\": \"z0\", \"value\": 1.8262062072753906}, {\"variable\": \"x2\", \"n_iter\": 59, \"prop\": \"z0\", \"value\": 1.8433516025543213}, {\"variable\": \"x0\", \"n_iter\": 60, \"prop\": \"z0\", \"value\": 1.8473082780838013}, {\"variable\": \"x1\", \"n_iter\": 60, \"prop\": \"z0\", \"value\": 1.8661550283432007}, {\"variable\": \"x2\", \"n_iter\": 60, \"prop\": \"z0\", \"value\": 1.8504232168197632}, {\"variable\": \"x0\", \"n_iter\": 61, \"prop\": \"z0\", \"value\": 1.8661681413650513}, {\"variable\": \"x1\", \"n_iter\": 61, \"prop\": \"z0\", \"value\": 1.869018793106079}, {\"variable\": \"x2\", \"n_iter\": 61, \"prop\": \"z0\", \"value\": 1.8814295530319214}, {\"variable\": \"x0\", \"n_iter\": 62, \"prop\": \"z0\", \"value\": 1.9027161598205566}, {\"variable\": \"x1\", \"n_iter\": 62, \"prop\": \"z0\", \"value\": 1.8845539093017578}, {\"variable\": \"x2\", \"n_iter\": 62, \"prop\": \"z0\", \"value\": 1.8644462823867798}, {\"variable\": \"x0\", \"n_iter\": 63, \"prop\": \"z0\", \"value\": 1.8789321184158325}, {\"variable\": \"x1\", \"n_iter\": 63, \"prop\": \"z0\", \"value\": 1.8989652395248413}, {\"variable\": \"x2\", \"n_iter\": 63, \"prop\": \"z0\", \"value\": 1.917564868927002}, {\"variable\": \"x0\", \"n_iter\": 64, \"prop\": \"z0\", \"value\": 1.9083995819091797}, {\"variable\": \"x1\", \"n_iter\": 64, \"prop\": \"z0\", \"value\": 1.9147366285324097}, {\"variable\": \"x2\", \"n_iter\": 64, \"prop\": \"z0\", \"value\": 1.9062930345535278}, {\"variable\": \"x0\", \"n_iter\": 65, \"prop\": \"z0\", \"value\": 1.939243197441101}, {\"variable\": \"x1\", \"n_iter\": 65, \"prop\": \"z0\", \"value\": 1.9122521877288818}, {\"variable\": \"x2\", \"n_iter\": 65, \"prop\": \"z0\", \"value\": 1.9077261686325073}, {\"variable\": \"x0\", \"n_iter\": 66, \"prop\": \"z0\", \"value\": 1.9176422357559204}, {\"variable\": \"x1\", \"n_iter\": 66, \"prop\": \"z0\", \"value\": 1.9427109956741333}, {\"variable\": \"x2\", \"n_iter\": 66, \"prop\": \"z0\", \"value\": 1.943910837173462}, {\"variable\": \"x0\", \"n_iter\": 67, \"prop\": \"z0\", \"value\": 1.9389127492904663}, {\"variable\": \"x1\", \"n_iter\": 67, \"prop\": \"z0\", \"value\": 1.9403377771377563}, {\"variable\": \"x2\", \"n_iter\": 67, \"prop\": \"z0\", \"value\": 1.9501279592514038}, {\"variable\": \"x0\", \"n_iter\": 68, \"prop\": \"z0\", \"value\": 1.9684545993804932}, {\"variable\": \"x1\", \"n_iter\": 68, \"prop\": \"z0\", \"value\": 1.9540427923202515}, {\"variable\": \"x2\", \"n_iter\": 68, \"prop\": \"z0\", \"value\": 1.9349442720413208}, {\"variable\": \"x0\", \"n_iter\": 69, \"prop\": \"z0\", \"value\": 1.9555549621582031}, {\"variable\": \"x1\", \"n_iter\": 69, \"prop\": \"z0\", \"value\": 1.9616082906723022}, {\"variable\": \"x2\", \"n_iter\": 69, \"prop\": \"z0\", \"value\": 1.972367286682129}, {\"variable\": \"x0\", \"n_iter\": 70, \"prop\": \"z0\", \"value\": 1.9631664752960205}, {\"variable\": \"x1\", \"n_iter\": 70, \"prop\": \"z0\", \"value\": 1.9807589054107666}, {\"variable\": \"x2\", \"n_iter\": 70, \"prop\": \"z0\", \"value\": 1.9798290729522705}, {\"variable\": \"x0\", \"n_iter\": 71, \"prop\": \"z0\", \"value\": 1.9984780550003052}, {\"variable\": \"x1\", \"n_iter\": 71, \"prop\": \"z0\", \"value\": 1.9691177606582642}, {\"variable\": \"x2\", \"n_iter\": 71, \"prop\": \"z0\", \"value\": 1.9722176790237427}, {\"variable\": \"x0\", \"n_iter\": 72, \"prop\": \"z0\", \"value\": 1.9828349351882935}, {\"variable\": \"x1\", \"n_iter\": 72, \"prop\": \"z0\", \"value\": 2.0119497776031494}, {\"variable\": \"x2\", \"n_iter\": 72, \"prop\": \"z0\", \"value\": 1.9896174669265747}, {\"variable\": \"x0\", \"n_iter\": 73, \"prop\": \"z0\", \"value\": 1.998232126235962}, {\"variable\": \"x1\", \"n_iter\": 73, \"prop\": \"z0\", \"value\": 1.9822289943695068}, {\"variable\": \"x2\", \"n_iter\": 73, \"prop\": \"z0\", \"value\": 2.0243561267852783}, {\"variable\": \"x0\", \"n_iter\": 74, \"prop\": \"z0\", \"value\": 2.020324468612671}, {\"variable\": \"x1\", \"n_iter\": 74, \"prop\": \"z0\", \"value\": 2.0198326110839844}, {\"variable\": \"x2\", \"n_iter\": 74, \"prop\": \"z0\", \"value\": 1.9887571334838867}, {\"variable\": \"x0\", \"n_iter\": 75, \"prop\": \"z0\", \"value\": 2.0124528408050537}, {\"variable\": \"x1\", \"n_iter\": 75, \"prop\": \"z0\", \"value\": 2.0238430500030518}, {\"variable\": \"x2\", \"n_iter\": 75, \"prop\": \"z0\", \"value\": 2.0105085372924805}, {\"variable\": \"x0\", \"n_iter\": 76, \"prop\": \"z0\", \"value\": 2.0143604278564453}, {\"variable\": \"x1\", \"n_iter\": 76, \"prop\": \"z0\", \"value\": 2.0044360160827637}, {\"variable\": \"x2\", \"n_iter\": 76, \"prop\": \"z0\", \"value\": 2.043274164199829}, {\"variable\": \"x0\", \"n_iter\": 77, \"prop\": \"z0\", \"value\": 2.0335731506347656}, {\"variable\": \"x1\", \"n_iter\": 77, \"prop\": \"z0\", \"value\": 2.0365054607391357}, {\"variable\": \"x2\", \"n_iter\": 77, \"prop\": \"z0\", \"value\": 2.0191404819488525}, {\"variable\": \"x0\", \"n_iter\": 78, \"prop\": \"z0\", \"value\": 2.039494514465332}, {\"variable\": \"x1\", \"n_iter\": 78, \"prop\": \"z0\", \"value\": 2.0469112396240234}, {\"variable\": \"x2\", \"n_iter\": 78, \"prop\": \"z0\", \"value\": 2.0220651626586914}, {\"variable\": \"x0\", \"n_iter\": 79, \"prop\": \"z0\", \"value\": 2.034846305847168}, {\"variable\": \"x1\", \"n_iter\": 79, \"prop\": \"z0\", \"value\": 2.0260720252990723}, {\"variable\": \"x2\", \"n_iter\": 79, \"prop\": \"z0\", \"value\": 2.056358814239502}, {\"variable\": \"x0\", \"n_iter\": 80, \"prop\": \"z0\", \"value\": 2.0438411235809326}, {\"variable\": \"x1\", \"n_iter\": 80, \"prop\": \"z0\", \"value\": 2.0475573539733887}, {\"variable\": \"x2\", \"n_iter\": 80, \"prop\": \"z0\", \"value\": 2.047431707382202}, {\"variable\": \"x0\", \"n_iter\": 81, \"prop\": \"z0\", \"value\": 2.060410737991333}, {\"variable\": \"x1\", \"n_iter\": 81, \"prop\": \"z0\", \"value\": 2.0649375915527344}, {\"variable\": \"x2\", \"n_iter\": 81, \"prop\": \"z0\", \"value\": 2.037140130996704}, {\"variable\": \"x0\", \"n_iter\": 82, \"prop\": \"z0\", \"value\": 2.0532877445220947}, {\"variable\": \"x1\", \"n_iter\": 82, \"prop\": \"z0\", \"value\": 2.048903465270996}, {\"variable\": \"x2\", \"n_iter\": 82, \"prop\": \"z0\", \"value\": 2.066291570663452}, {\"variable\": \"x0\", \"n_iter\": 83, \"prop\": \"z0\", \"value\": 2.0564451217651367}, {\"variable\": \"x1\", \"n_iter\": 83, \"prop\": \"z0\", \"value\": 2.0590057373046875}, {\"variable\": \"x2\", \"n_iter\": 83, \"prop\": \"z0\", \"value\": 2.069049119949341}, {\"variable\": \"x0\", \"n_iter\": 84, \"prop\": \"z0\", \"value\": 2.0783276557922363}, {\"variable\": \"x1\", \"n_iter\": 84, \"prop\": \"z0\", \"value\": 2.0782222747802734}, {\"variable\": \"x2\", \"n_iter\": 84, \"prop\": \"z0\", \"value\": 2.054394245147705}, {\"variable\": \"x0\", \"n_iter\": 85, \"prop\": \"z0\", \"value\": 2.0668416023254395}, {\"variable\": \"x1\", \"n_iter\": 85, \"prop\": \"z0\", \"value\": 2.070216417312622}, {\"variable\": \"x2\", \"n_iter\": 85, \"prop\": \"z0\", \"value\": 2.0778403282165527}, {\"variable\": \"x0\", \"n_iter\": 86, \"prop\": \"z0\", \"value\": 2.074923276901245}, {\"variable\": \"x1\", \"n_iter\": 86, \"prop\": \"z0\", \"value\": 2.0700783729553223}, {\"variable\": \"x2\", \"n_iter\": 86, \"prop\": \"z0\", \"value\": 2.0848450660705566}, {\"variable\": \"x0\", \"n_iter\": 87, \"prop\": \"z0\", \"value\": 2.0871388912200928}, {\"variable\": \"x1\", \"n_iter\": 87, \"prop\": \"z0\", \"value\": 2.0947201251983643}, {\"variable\": \"x2\", \"n_iter\": 87, \"prop\": \"z0\", \"value\": 2.0711967945098877}, {\"variable\": \"x0\", \"n_iter\": 88, \"prop\": \"z0\", \"value\": 2.0883467197418213}, {\"variable\": \"x1\", \"n_iter\": 88, \"prop\": \"z0\", \"value\": 2.0816586017608643}, {\"variable\": \"x2\", \"n_iter\": 88, \"prop\": \"z0\", \"value\": 2.0909535884857178}, {\"variable\": \"x0\", \"n_iter\": 89, \"prop\": \"z0\", \"value\": 2.0812695026397705}, {\"variable\": \"x1\", \"n_iter\": 89, \"prop\": \"z0\", \"value\": 2.090162515640259}, {\"variable\": \"x2\", \"n_iter\": 89, \"prop\": \"z0\", \"value\": 2.0984432697296143}, {\"variable\": \"x0\", \"n_iter\": 90, \"prop\": \"z0\", \"value\": 2.1111502647399902}, {\"variable\": \"x1\", \"n_iter\": 90, \"prop\": \"z0\", \"value\": 2.100177764892578}, {\"variable\": \"x2\", \"n_iter\": 90, \"prop\": \"z0\", \"value\": 2.085599184036255}, {\"variable\": \"x0\", \"n_iter\": 91, \"prop\": \"z0\", \"value\": 2.0887961387634277}, {\"variable\": \"x1\", \"n_iter\": 91, \"prop\": \"z0\", \"value\": 2.104884147644043}, {\"variable\": \"x2\", \"n_iter\": 91, \"prop\": \"z0\", \"value\": 2.1050076484680176}, {\"variable\": \"x0\", \"n_iter\": 92, \"prop\": \"z0\", \"value\": 2.108907699584961}, {\"variable\": \"x1\", \"n_iter\": 92, \"prop\": \"z0\", \"value\": 2.092090129852295}, {\"variable\": \"x2\", \"n_iter\": 92, \"prop\": \"z0\", \"value\": 2.1116397380828857}, {\"variable\": \"x0\", \"n_iter\": 93, \"prop\": \"z0\", \"value\": 2.1062140464782715}, {\"variable\": \"x1\", \"n_iter\": 93, \"prop\": \"z0\", \"value\": 2.1258552074432373}, {\"variable\": \"x2\", \"n_iter\": 93, \"prop\": \"z0\", \"value\": 2.0967445373535156}, {\"variable\": \"x0\", \"n_iter\": 94, \"prop\": \"z0\", \"value\": 2.120103597640991}, {\"variable\": \"x1\", \"n_iter\": 94, \"prop\": \"z0\", \"value\": 2.1032164096832275}, {\"variable\": \"x2\", \"n_iter\": 94, \"prop\": \"z0\", \"value\": 2.1177353858947754}, {\"variable\": \"x0\", \"n_iter\": 95, \"prop\": \"z0\", \"value\": 2.1062753200531006}, {\"variable\": \"x1\", \"n_iter\": 95, \"prop\": \"z0\", \"value\": 2.1163198947906494}, {\"variable\": \"x2\", \"n_iter\": 95, \"prop\": \"z0\", \"value\": 2.1240451335906982}, {\"variable\": \"x0\", \"n_iter\": 96, \"prop\": \"z0\", \"value\": 2.1244029998779297}, {\"variable\": \"x1\", \"n_iter\": 96, \"prop\": \"z0\", \"value\": 2.1290085315704346}, {\"variable\": \"x2\", \"n_iter\": 96, \"prop\": \"z0\", \"value\": 2.111043930053711}, {\"variable\": \"x0\", \"n_iter\": 97, \"prop\": \"z0\", \"value\": 2.1330041885375977}, {\"variable\": \"x1\", \"n_iter\": 97, \"prop\": \"z0\", \"value\": 2.1175618171691895}, {\"variable\": \"x2\", \"n_iter\": 97, \"prop\": \"z0\", \"value\": 2.1252479553222656}, {\"variable\": \"x0\", \"n_iter\": 98, \"prop\": \"z0\", \"value\": 2.112459182739258}, {\"variable\": \"x1\", \"n_iter\": 98, \"prop\": \"z0\", \"value\": 2.1314172744750977}, {\"variable\": \"x2\", \"n_iter\": 98, \"prop\": \"z0\", \"value\": 2.1350619792938232}, {\"variable\": \"x0\", \"n_iter\": 99, \"prop\": \"z0\", \"value\": 2.1365933418273926}, {\"variable\": \"x1\", \"n_iter\": 99, \"prop\": \"z0\", \"value\": 2.1324827671051025}, {\"variable\": \"x2\", \"n_iter\": 99, \"prop\": \"z0\", \"value\": 2.1269164085388184}], \"data-0d8cf3737bcc268b20e9628d5bb4fee4\": [{\"latent\": \"z0\", \"n_iter\": 0, \"prop\": \"lengthscale\", \"value\": 0.6931471824645996}, {\"latent\": \"z0\", \"n_iter\": 1, \"prop\": \"lengthscale\", \"value\": 0.7443966269493103}, {\"latent\": \"z0\", \"n_iter\": 2, \"prop\": \"lengthscale\", \"value\": 0.7981747984886169}, {\"latent\": \"z0\", \"n_iter\": 3, \"prop\": \"lengthscale\", \"value\": 0.8545507192611694}, {\"latent\": \"z0\", \"n_iter\": 4, \"prop\": \"lengthscale\", \"value\": 0.9135844707489014}, {\"latent\": \"z0\", \"n_iter\": 5, \"prop\": \"lengthscale\", \"value\": 0.9753082990646362}, {\"latent\": \"z0\", \"n_iter\": 6, \"prop\": \"lengthscale\", \"value\": 1.0397257804870605}, {\"latent\": \"z0\", \"n_iter\": 7, \"prop\": \"lengthscale\", \"value\": 1.1068172454833984}, {\"latent\": \"z0\", \"n_iter\": 8, \"prop\": \"lengthscale\", \"value\": 1.1765395402908325}, {\"latent\": \"z0\", \"n_iter\": 9, \"prop\": \"lengthscale\", \"value\": 1.2488163709640503}, {\"latent\": \"z0\", \"n_iter\": 10, \"prop\": \"lengthscale\", \"value\": 1.3235327005386353}, {\"latent\": \"z0\", \"n_iter\": 11, \"prop\": \"lengthscale\", \"value\": 1.40054452419281}, {\"latent\": \"z0\", \"n_iter\": 12, \"prop\": \"lengthscale\", \"value\": 1.4796979427337646}, {\"latent\": \"z0\", \"n_iter\": 13, \"prop\": \"lengthscale\", \"value\": 1.5608385801315308}, {\"latent\": \"z0\", \"n_iter\": 14, \"prop\": \"lengthscale\", \"value\": 1.6438078880310059}, {\"latent\": \"z0\", \"n_iter\": 15, \"prop\": \"lengthscale\", \"value\": 1.7284258604049683}, {\"latent\": \"z0\", \"n_iter\": 16, \"prop\": \"lengthscale\", \"value\": 1.8144656419754028}, {\"latent\": \"z0\", \"n_iter\": 17, \"prop\": \"lengthscale\", \"value\": 1.9016327857971191}, {\"latent\": \"z0\", \"n_iter\": 18, \"prop\": \"lengthscale\", \"value\": 1.9895648956298828}, {\"latent\": \"z0\", \"n_iter\": 19, \"prop\": \"lengthscale\", \"value\": 2.077845811843872}, {\"latent\": \"z0\", \"n_iter\": 20, \"prop\": \"lengthscale\", \"value\": 2.1660330295562744}, {\"latent\": \"z0\", \"n_iter\": 21, \"prop\": \"lengthscale\", \"value\": 2.253690004348755}, {\"latent\": \"z0\", \"n_iter\": 22, \"prop\": \"lengthscale\", \"value\": 2.3404159545898438}, {\"latent\": \"z0\", \"n_iter\": 23, \"prop\": \"lengthscale\", \"value\": 2.4258549213409424}, {\"latent\": \"z0\", \"n_iter\": 24, \"prop\": \"lengthscale\", \"value\": 2.5096983909606934}, {\"latent\": \"z0\", \"n_iter\": 25, \"prop\": \"lengthscale\", \"value\": 2.5916519165039062}, {\"latent\": \"z0\", \"n_iter\": 26, \"prop\": \"lengthscale\", \"value\": 2.6713955402374268}, {\"latent\": \"z0\", \"n_iter\": 27, \"prop\": \"lengthscale\", \"value\": 2.7486371994018555}, {\"latent\": \"z0\", \"n_iter\": 28, \"prop\": \"lengthscale\", \"value\": 2.8232927322387695}, {\"latent\": \"z0\", \"n_iter\": 29, \"prop\": \"lengthscale\", \"value\": 2.895519733428955}, {\"latent\": \"z0\", \"n_iter\": 30, \"prop\": \"lengthscale\", \"value\": 2.9655730724334717}, {\"latent\": \"z0\", \"n_iter\": 31, \"prop\": \"lengthscale\", \"value\": 3.0336973667144775}, {\"latent\": \"z0\", \"n_iter\": 32, \"prop\": \"lengthscale\", \"value\": 3.100121259689331}, {\"latent\": \"z0\", \"n_iter\": 33, \"prop\": \"lengthscale\", \"value\": 3.1650922298431396}, {\"latent\": \"z0\", \"n_iter\": 34, \"prop\": \"lengthscale\", \"value\": 3.228969097137451}, {\"latent\": \"z0\", \"n_iter\": 35, \"prop\": \"lengthscale\", \"value\": 3.292130708694458}, {\"latent\": \"z0\", \"n_iter\": 36, \"prop\": \"lengthscale\", \"value\": 3.354808807373047}, {\"latent\": \"z0\", \"n_iter\": 37, \"prop\": \"lengthscale\", \"value\": 3.4171688556671143}, {\"latent\": \"z0\", \"n_iter\": 38, \"prop\": \"lengthscale\", \"value\": 3.479320526123047}, {\"latent\": \"z0\", \"n_iter\": 39, \"prop\": \"lengthscale\", \"value\": 3.541445016860962}, {\"latent\": \"z0\", \"n_iter\": 40, \"prop\": \"lengthscale\", \"value\": 3.603604793548584}, {\"latent\": \"z0\", \"n_iter\": 41, \"prop\": \"lengthscale\", \"value\": 3.6657795906066895}, {\"latent\": \"z0\", \"n_iter\": 42, \"prop\": \"lengthscale\", \"value\": 3.727882146835327}, {\"latent\": \"z0\", \"n_iter\": 43, \"prop\": \"lengthscale\", \"value\": 3.7898857593536377}, {\"latent\": \"z0\", \"n_iter\": 44, \"prop\": \"lengthscale\", \"value\": 3.8516883850097656}, {\"latent\": \"z0\", \"n_iter\": 45, \"prop\": \"lengthscale\", \"value\": 3.913137674331665}, {\"latent\": \"z0\", \"n_iter\": 46, \"prop\": \"lengthscale\", \"value\": 3.9740636348724365}, {\"latent\": \"z0\", \"n_iter\": 47, \"prop\": \"lengthscale\", \"value\": 4.034352779388428}, {\"latent\": \"z0\", \"n_iter\": 48, \"prop\": \"lengthscale\", \"value\": 4.093862533569336}, {\"latent\": \"z0\", \"n_iter\": 49, \"prop\": \"lengthscale\", \"value\": 4.152420997619629}, {\"latent\": \"z0\", \"n_iter\": 50, \"prop\": \"lengthscale\", \"value\": 4.2099080085754395}, {\"latent\": \"z0\", \"n_iter\": 51, \"prop\": \"lengthscale\", \"value\": 4.266153812408447}, {\"latent\": \"z0\", \"n_iter\": 52, \"prop\": \"lengthscale\", \"value\": 4.320975303649902}, {\"latent\": \"z0\", \"n_iter\": 53, \"prop\": \"lengthscale\", \"value\": 4.374188423156738}, {\"latent\": \"z0\", \"n_iter\": 54, \"prop\": \"lengthscale\", \"value\": 4.425620079040527}, {\"latent\": \"z0\", \"n_iter\": 55, \"prop\": \"lengthscale\", \"value\": 4.47514533996582}, {\"latent\": \"z0\", \"n_iter\": 56, \"prop\": \"lengthscale\", \"value\": 4.522623062133789}, {\"latent\": \"z0\", \"n_iter\": 57, \"prop\": \"lengthscale\", \"value\": 4.567924499511719}, {\"latent\": \"z0\", \"n_iter\": 58, \"prop\": \"lengthscale\", \"value\": 4.610986232757568}, {\"latent\": \"z0\", \"n_iter\": 59, \"prop\": \"lengthscale\", \"value\": 4.651729106903076}, {\"latent\": \"z0\", \"n_iter\": 60, \"prop\": \"lengthscale\", \"value\": 4.690110683441162}, {\"latent\": \"z0\", \"n_iter\": 61, \"prop\": \"lengthscale\", \"value\": 4.726090431213379}, {\"latent\": \"z0\", \"n_iter\": 62, \"prop\": \"lengthscale\", \"value\": 4.759718418121338}, {\"latent\": \"z0\", \"n_iter\": 63, \"prop\": \"lengthscale\", \"value\": 4.790914058685303}, {\"latent\": \"z0\", \"n_iter\": 64, \"prop\": \"lengthscale\", \"value\": 4.819766998291016}, {\"latent\": \"z0\", \"n_iter\": 65, \"prop\": \"lengthscale\", \"value\": 4.84624719619751}, {\"latent\": \"z0\", \"n_iter\": 66, \"prop\": \"lengthscale\", \"value\": 4.870337009429932}, {\"latent\": \"z0\", \"n_iter\": 67, \"prop\": \"lengthscale\", \"value\": 4.8922295570373535}, {\"latent\": \"z0\", \"n_iter\": 68, \"prop\": \"lengthscale\", \"value\": 4.911935806274414}, {\"latent\": \"z0\", \"n_iter\": 69, \"prop\": \"lengthscale\", \"value\": 4.9295172691345215}, {\"latent\": \"z0\", \"n_iter\": 70, \"prop\": \"lengthscale\", \"value\": 4.945153713226318}, {\"latent\": \"z0\", \"n_iter\": 71, \"prop\": \"lengthscale\", \"value\": 4.959047317504883}, {\"latent\": \"z0\", \"n_iter\": 72, \"prop\": \"lengthscale\", \"value\": 4.971235275268555}, {\"latent\": \"z0\", \"n_iter\": 73, \"prop\": \"lengthscale\", \"value\": 4.982107639312744}, {\"latent\": \"z0\", \"n_iter\": 74, \"prop\": \"lengthscale\", \"value\": 4.991804122924805}, {\"latent\": \"z0\", \"n_iter\": 75, \"prop\": \"lengthscale\", \"value\": 5.000517845153809}, {\"latent\": \"z0\", \"n_iter\": 76, \"prop\": \"lengthscale\", \"value\": 5.008422374725342}, {\"latent\": \"z0\", \"n_iter\": 77, \"prop\": \"lengthscale\", \"value\": 5.015677452087402}, {\"latent\": \"z0\", \"n_iter\": 78, \"prop\": \"lengthscale\", \"value\": 5.0225419998168945}, {\"latent\": \"z0\", \"n_iter\": 79, \"prop\": \"lengthscale\", \"value\": 5.029213905334473}, {\"latent\": \"z0\", \"n_iter\": 80, \"prop\": \"lengthscale\", \"value\": 5.0357747077941895}, {\"latent\": \"z0\", \"n_iter\": 81, \"prop\": \"lengthscale\", \"value\": 5.042457103729248}, {\"latent\": \"z0\", \"n_iter\": 82, \"prop\": \"lengthscale\", \"value\": 5.049475193023682}, {\"latent\": \"z0\", \"n_iter\": 83, \"prop\": \"lengthscale\", \"value\": 5.056853771209717}, {\"latent\": \"z0\", \"n_iter\": 84, \"prop\": \"lengthscale\", \"value\": 5.0647125244140625}, {\"latent\": \"z0\", \"n_iter\": 85, \"prop\": \"lengthscale\", \"value\": 5.0732502937316895}, {\"latent\": \"z0\", \"n_iter\": 86, \"prop\": \"lengthscale\", \"value\": 5.082430839538574}, {\"latent\": \"z0\", \"n_iter\": 87, \"prop\": \"lengthscale\", \"value\": 5.092278957366943}, {\"latent\": \"z0\", \"n_iter\": 88, \"prop\": \"lengthscale\", \"value\": 5.102913856506348}, {\"latent\": \"z0\", \"n_iter\": 89, \"prop\": \"lengthscale\", \"value\": 5.114243030548096}, {\"latent\": \"z0\", \"n_iter\": 90, \"prop\": \"lengthscale\", \"value\": 5.12623405456543}, {\"latent\": \"z0\", \"n_iter\": 91, \"prop\": \"lengthscale\", \"value\": 5.13893985748291}, {\"latent\": \"z0\", \"n_iter\": 92, \"prop\": \"lengthscale\", \"value\": 5.152224540710449}, {\"latent\": \"z0\", \"n_iter\": 93, \"prop\": \"lengthscale\", \"value\": 5.165958404541016}, {\"latent\": \"z0\", \"n_iter\": 94, \"prop\": \"lengthscale\", \"value\": 5.180185794830322}, {\"latent\": \"z0\", \"n_iter\": 95, \"prop\": \"lengthscale\", \"value\": 5.194678783416748}, {\"latent\": \"z0\", \"n_iter\": 96, \"prop\": \"lengthscale\", \"value\": 5.2093610763549805}, {\"latent\": \"z0\", \"n_iter\": 97, \"prop\": \"lengthscale\", \"value\": 5.2241692543029785}, {\"latent\": \"z0\", \"n_iter\": 98, \"prop\": \"lengthscale\", \"value\": 5.238935947418213}, {\"latent\": \"z0\", \"n_iter\": 99, \"prop\": \"lengthscale\", \"value\": 5.253561496734619}], \"data-0b1b3966d787af2c15266f2dabda4c39\": [{\"variable\": \"x0\", \"n_iter\": 0, \"prop\": \"psi\", \"value\": 0.6931471824645996}, {\"variable\": \"x1\", \"n_iter\": 0, \"prop\": \"psi\", \"value\": 0.6931471824645996}, {\"variable\": \"x2\", \"n_iter\": 0, \"prop\": \"psi\", \"value\": 0.6931471824645996}, {\"variable\": \"x0\", \"n_iter\": 1, \"prop\": \"psi\", \"value\": 0.6443966627120972}, {\"variable\": \"x1\", \"n_iter\": 1, \"prop\": \"psi\", \"value\": 0.6443966627120972}, {\"variable\": \"x2\", \"n_iter\": 1, \"prop\": \"psi\", \"value\": 0.6443966627120972}, {\"variable\": \"x0\", \"n_iter\": 2, \"prop\": \"psi\", \"value\": 0.5980899930000305}, {\"variable\": \"x1\", \"n_iter\": 2, \"prop\": \"psi\", \"value\": 0.5980902910232544}, {\"variable\": \"x2\", \"n_iter\": 2, \"prop\": \"psi\", \"value\": 0.5980806946754456}, {\"variable\": \"x0\", \"n_iter\": 3, \"prop\": \"psi\", \"value\": 0.5541919469833374}, {\"variable\": \"x1\", \"n_iter\": 3, \"prop\": \"psi\", \"value\": 0.5541881322860718}, {\"variable\": \"x2\", \"n_iter\": 3, \"prop\": \"psi\", \"value\": 0.5541568994522095}, {\"variable\": \"x0\", \"n_iter\": 4, \"prop\": \"psi\", \"value\": 0.5126520395278931}, {\"variable\": \"x1\", \"n_iter\": 4, \"prop\": \"psi\", \"value\": 0.5126466155052185}, {\"variable\": \"x2\", \"n_iter\": 4, \"prop\": \"psi\", \"value\": 0.5125740170478821}, {\"variable\": \"x0\", \"n_iter\": 5, \"prop\": \"psi\", \"value\": 0.47342196106910706}, {\"variable\": \"x1\", \"n_iter\": 5, \"prop\": \"psi\", \"value\": 0.47342079877853394}, {\"variable\": \"x2\", \"n_iter\": 5, \"prop\": \"psi\", \"value\": 0.47327089309692383}, {\"variable\": \"x0\", \"n_iter\": 6, \"prop\": \"psi\", \"value\": 0.4364566504955292}, {\"variable\": \"x1\", \"n_iter\": 6, \"prop\": \"psi\", \"value\": 0.43646240234375}, {\"variable\": \"x2\", \"n_iter\": 6, \"prop\": \"psi\", \"value\": 0.43618905544281006}, {\"variable\": \"x0\", \"n_iter\": 7, \"prop\": \"psi\", \"value\": 0.4017096161842346}, {\"variable\": \"x1\", \"n_iter\": 7, \"prop\": \"psi\", \"value\": 0.40172165632247925}, {\"variable\": \"x2\", \"n_iter\": 7, \"prop\": \"psi\", \"value\": 0.4012809097766876}, {\"variable\": \"x0\", \"n_iter\": 8, \"prop\": \"psi\", \"value\": 0.3691289722919464}, {\"variable\": \"x1\", \"n_iter\": 8, \"prop\": \"psi\", \"value\": 0.36914652585983276}, {\"variable\": \"x2\", \"n_iter\": 8, \"prop\": \"psi\", \"value\": 0.3685064911842346}, {\"variable\": \"x0\", \"n_iter\": 9, \"prop\": \"psi\", \"value\": 0.33865687251091003}, {\"variable\": \"x1\", \"n_iter\": 9, \"prop\": \"psi\", \"value\": 0.3386794328689575}, {\"variable\": \"x2\", \"n_iter\": 9, \"prop\": \"psi\", \"value\": 0.33782610297203064}, {\"variable\": \"x0\", \"n_iter\": 10, \"prop\": \"psi\", \"value\": 0.3102288842201233}, {\"variable\": \"x1\", \"n_iter\": 10, \"prop\": \"psi\", \"value\": 0.3102547526359558}, {\"variable\": \"x2\", \"n_iter\": 10, \"prop\": \"psi\", \"value\": 0.30919399857521057}, {\"variable\": \"x0\", \"n_iter\": 11, \"prop\": \"psi\", \"value\": 0.28377291560173035}, {\"variable\": \"x1\", \"n_iter\": 11, \"prop\": \"psi\", \"value\": 0.2838004529476166}, {\"variable\": \"x2\", \"n_iter\": 11, \"prop\": \"psi\", \"value\": 0.2825537621974945}, {\"variable\": \"x0\", \"n_iter\": 12, \"prop\": \"psi\", \"value\": 0.2592099606990814}, {\"variable\": \"x1\", \"n_iter\": 12, \"prop\": \"psi\", \"value\": 0.25923845171928406}, {\"variable\": \"x2\", \"n_iter\": 12, \"prop\": \"psi\", \"value\": 0.2578352987766266}, {\"variable\": \"x0\", \"n_iter\": 13, \"prop\": \"psi\", \"value\": 0.23645608127117157}, {\"variable\": \"x1\", \"n_iter\": 13, \"prop\": \"psi\", \"value\": 0.23648490011692047}, {\"variable\": \"x2\", \"n_iter\": 13, \"prop\": \"psi\", \"value\": 0.2349555641412735}, {\"variable\": \"x0\", \"n_iter\": 14, \"prop\": \"psi\", \"value\": 0.21542416512966156}, {\"variable\": \"x1\", \"n_iter\": 14, \"prop\": \"psi\", \"value\": 0.2154521942138672}, {\"variable\": \"x2\", \"n_iter\": 14, \"prop\": \"psi\", \"value\": 0.2138236165046692}, {\"variable\": \"x0\", \"n_iter\": 15, \"prop\": \"psi\", \"value\": 0.19602511823177338}, {\"variable\": \"x1\", \"n_iter\": 15, \"prop\": \"psi\", \"value\": 0.19605135917663574}, {\"variable\": \"x2\", \"n_iter\": 15, \"prop\": \"psi\", \"value\": 0.19434620440006256}, {\"variable\": \"x0\", \"n_iter\": 16, \"prop\": \"psi\", \"value\": 0.17816898226737976}, {\"variable\": \"x1\", \"n_iter\": 16, \"prop\": \"psi\", \"value\": 0.17819276452064514}, {\"variable\": \"x2\", \"n_iter\": 16, \"prop\": \"psi\", \"value\": 0.17643097043037415}, {\"variable\": \"x0\", \"n_iter\": 17, \"prop\": \"psi\", \"value\": 0.1617657095193863}, {\"variable\": \"x1\", \"n_iter\": 17, \"prop\": \"psi\", \"value\": 0.16178585588932037}, {\"variable\": \"x2\", \"n_iter\": 17, \"prop\": \"psi\", \"value\": 0.15998703241348267}, {\"variable\": \"x0\", \"n_iter\": 18, \"prop\": \"psi\", \"value\": 0.14672549068927765}, {\"variable\": \"x1\", \"n_iter\": 18, \"prop\": \"psi\", \"value\": 0.14674058556556702}, {\"variable\": \"x2\", \"n_iter\": 18, \"prop\": \"psi\", \"value\": 0.144924134016037}, {\"variable\": \"x0\", \"n_iter\": 19, \"prop\": \"psi\", \"value\": 0.13295944035053253}, {\"variable\": \"x1\", \"n_iter\": 19, \"prop\": \"psi\", \"value\": 0.13296854496002197}, {\"variable\": \"x2\", \"n_iter\": 19, \"prop\": \"psi\", \"value\": 0.1311529129743576}, {\"variable\": \"x0\", \"n_iter\": 20, \"prop\": \"psi\", \"value\": 0.12038081884384155}, {\"variable\": \"x1\", \"n_iter\": 20, \"prop\": \"psi\", \"value\": 0.12038339674472809}, {\"variable\": \"x2\", \"n_iter\": 20, \"prop\": \"psi\", \"value\": 0.11858528107404709}, {\"variable\": \"x0\", \"n_iter\": 21, \"prop\": \"psi\", \"value\": 0.10890588164329529}, {\"variable\": \"x1\", \"n_iter\": 21, \"prop\": \"psi\", \"value\": 0.1089010089635849}, {\"variable\": \"x2\", \"n_iter\": 21, \"prop\": \"psi\", \"value\": 0.10713500529527664}, {\"variable\": \"x0\", \"n_iter\": 22, \"prop\": \"psi\", \"value\": 0.09845331311225891}, {\"variable\": \"x1\", \"n_iter\": 22, \"prop\": \"psi\", \"value\": 0.09844021499156952}, {\"variable\": \"x2\", \"n_iter\": 22, \"prop\": \"psi\", \"value\": 0.09671856462955475}, {\"variable\": \"x0\", \"n_iter\": 23, \"prop\": \"psi\", \"value\": 0.0889446958899498}, {\"variable\": \"x1\", \"n_iter\": 23, \"prop\": \"psi\", \"value\": 0.08892320096492767}, {\"variable\": \"x2\", \"n_iter\": 23, \"prop\": \"psi\", \"value\": 0.08725620061159134}, {\"variable\": \"x0\", \"n_iter\": 24, \"prop\": \"psi\", \"value\": 0.08030589669942856}, {\"variable\": \"x1\", \"n_iter\": 24, \"prop\": \"psi\", \"value\": 0.08027580380439758}, {\"variable\": \"x2\", \"n_iter\": 24, \"prop\": \"psi\", \"value\": 0.07867264747619629}, {\"variable\": \"x0\", \"n_iter\": 25, \"prop\": \"psi\", \"value\": 0.07246661931276321}, {\"variable\": \"x1\", \"n_iter\": 25, \"prop\": \"psi\", \"value\": 0.07242787629365921}, {\"variable\": \"x2\", \"n_iter\": 25, \"prop\": \"psi\", \"value\": 0.07089623808860779}, {\"variable\": \"x0\", \"n_iter\": 26, \"prop\": \"psi\", \"value\": 0.06536075472831726}, {\"variable\": \"x1\", \"n_iter\": 26, \"prop\": \"psi\", \"value\": 0.06531339138746262}, {\"variable\": \"x2\", \"n_iter\": 26, \"prop\": \"psi\", \"value\": 0.06385812163352966}, {\"variable\": \"x0\", \"n_iter\": 27, \"prop\": \"psi\", \"value\": 0.058926358819007874}, {\"variable\": \"x1\", \"n_iter\": 27, \"prop\": \"psi\", \"value\": 0.058870475739240646}, {\"variable\": \"x2\", \"n_iter\": 27, \"prop\": \"psi\", \"value\": 0.05749364197254181}, {\"variable\": \"x0\", \"n_iter\": 28, \"prop\": \"psi\", \"value\": 0.053105369210243225}, {\"variable\": \"x1\", \"n_iter\": 28, \"prop\": \"psi\", \"value\": 0.053041163831949234}, {\"variable\": \"x2\", \"n_iter\": 28, \"prop\": \"psi\", \"value\": 0.051743414252996445}, {\"variable\": \"x0\", \"n_iter\": 29, \"prop\": \"psi\", \"value\": 0.04784346744418144}, {\"variable\": \"x1\", \"n_iter\": 29, \"prop\": \"psi\", \"value\": 0.04777122288942337}, {\"variable\": \"x2\", \"n_iter\": 29, \"prop\": \"psi\", \"value\": 0.046552762389183044}, {\"variable\": \"x0\", \"n_iter\": 30, \"prop\": \"psi\", \"value\": 0.04309024661779404}, {\"variable\": \"x1\", \"n_iter\": 30, \"prop\": \"psi\", \"value\": 0.043010592460632324}, {\"variable\": \"x2\", \"n_iter\": 30, \"prop\": \"psi\", \"value\": 0.04187117516994476}, {\"variable\": \"x0\", \"n_iter\": 31, \"prop\": \"psi\", \"value\": 0.038799431174993515}, {\"variable\": \"x1\", \"n_iter\": 31, \"prop\": \"psi\", \"value\": 0.038713037967681885}, {\"variable\": \"x2\", \"n_iter\": 31, \"prop\": \"psi\", \"value\": 0.0376514233648777}, {\"variable\": \"x0\", \"n_iter\": 32, \"prop\": \"psi\", \"value\": 0.03492846339941025}, {\"variable\": \"x1\", \"n_iter\": 32, \"prop\": \"psi\", \"value\": 0.034836024045944214}, {\"variable\": \"x2\", \"n_iter\": 32, \"prop\": \"psi\", \"value\": 0.0338498093187809}, {\"variable\": \"x0\", \"n_iter\": 33, \"prop\": \"psi\", \"value\": 0.031438201665878296}, {\"variable\": \"x1\", \"n_iter\": 33, \"prop\": \"psi\", \"value\": 0.03134046494960785}, {\"variable\": \"x2\", \"n_iter\": 33, \"prop\": \"psi\", \"value\": 0.0304266344755888}, {\"variable\": \"x0\", \"n_iter\": 34, \"prop\": \"psi\", \"value\": 0.02829262800514698}, {\"variable\": \"x1\", \"n_iter\": 34, \"prop\": \"psi\", \"value\": 0.02819039858877659}, {\"variable\": \"x2\", \"n_iter\": 34, \"prop\": \"psi\", \"value\": 0.027345838025212288}, {\"variable\": \"x0\", \"n_iter\": 35, \"prop\": \"psi\", \"value\": 0.025458846241235733}, {\"variable\": \"x1\", \"n_iter\": 35, \"prop\": \"psi\", \"value\": 0.025352947413921356}, {\"variable\": \"x2\", \"n_iter\": 35, \"prop\": \"psi\", \"value\": 0.02457459457218647}, {\"variable\": \"x0\", \"n_iter\": 36, \"prop\": \"psi\", \"value\": 0.022906990721821785}, {\"variable\": \"x1\", \"n_iter\": 36, \"prop\": \"psi\", \"value\": 0.02279815450310707}, {\"variable\": \"x2\", \"n_iter\": 36, \"prop\": \"psi\", \"value\": 0.022082699462771416}, {\"variable\": \"x0\", \"n_iter\": 37, \"prop\": \"psi\", \"value\": 0.020609907805919647}, {\"variable\": \"x1\", \"n_iter\": 37, \"prop\": \"psi\", \"value\": 0.0204987283796072}, {\"variable\": \"x2\", \"n_iter\": 37, \"prop\": \"psi\", \"value\": 0.019842660054564476}, {\"variable\": \"x0\", \"n_iter\": 38, \"prop\": \"psi\", \"value\": 0.01854272000491619}, {\"variable\": \"x1\", \"n_iter\": 38, \"prop\": \"psi\", \"value\": 0.01842995174229145}, {\"variable\": \"x2\", \"n_iter\": 38, \"prop\": \"psi\", \"value\": 0.017829667776823044}, {\"variable\": \"x0\", \"n_iter\": 39, \"prop\": \"psi\", \"value\": 0.01668292097747326}, {\"variable\": \"x1\", \"n_iter\": 39, \"prop\": \"psi\", \"value\": 0.01656908169388771}, {\"variable\": \"x2\", \"n_iter\": 39, \"prop\": \"psi\", \"value\": 0.016021177172660828}, {\"variable\": \"x0\", \"n_iter\": 40, \"prop\": \"psi\", \"value\": 0.015010123141109943}, {\"variable\": \"x1\", \"n_iter\": 40, \"prop\": \"psi\", \"value\": 0.014895617961883545}, {\"variable\": \"x2\", \"n_iter\": 40, \"prop\": \"psi\", \"value\": 0.014396811835467815}, {\"variable\": \"x0\", \"n_iter\": 41, \"prop\": \"psi\", \"value\": 0.013505890965461731}, {\"variable\": \"x1\", \"n_iter\": 41, \"prop\": \"psi\", \"value\": 0.013391057960689068}, {\"variable\": \"x2\", \"n_iter\": 41, \"prop\": \"psi\", \"value\": 0.01293802261352539}, {\"variable\": \"x0\", \"n_iter\": 42, \"prop\": \"psi\", \"value\": 0.01215345412492752}, {\"variable\": \"x1\", \"n_iter\": 42, \"prop\": \"psi\", \"value\": 0.012038804590702057}, {\"variable\": \"x2\", \"n_iter\": 42, \"prop\": \"psi\", \"value\": 0.011628176085650921}, {\"variable\": \"x0\", \"n_iter\": 43, \"prop\": \"psi\", \"value\": 0.010937802493572235}, {\"variable\": \"x1\", \"n_iter\": 43, \"prop\": \"psi\", \"value\": 0.010823479853570461}, {\"variable\": \"x2\", \"n_iter\": 43, \"prop\": \"psi\", \"value\": 0.010452164337038994}, {\"variable\": \"x0\", \"n_iter\": 44, \"prop\": \"psi\", \"value\": 0.009845203720033169}, {\"variable\": \"x1\", \"n_iter\": 44, \"prop\": \"psi\", \"value\": 0.009731323458254337}, {\"variable\": \"x2\", \"n_iter\": 44, \"prop\": \"psi\", \"value\": 0.009396452456712723}, {\"variable\": \"x0\", \"n_iter\": 45, \"prop\": \"psi\", \"value\": 0.00886329635977745}, {\"variable\": \"x1\", \"n_iter\": 45, \"prop\": \"psi\", \"value\": 0.008749919943511486}, {\"variable\": \"x2\", \"n_iter\": 45, \"prop\": \"psi\", \"value\": 0.00844875443726778}, {\"variable\": \"x0\", \"n_iter\": 46, \"prop\": \"psi\", \"value\": 0.007980834692716599}, {\"variable\": \"x1\", \"n_iter\": 46, \"prop\": \"psi\", \"value\": 0.007868126034736633}, {\"variable\": \"x2\", \"n_iter\": 46, \"prop\": \"psi\", \"value\": 0.007598077412694693}, {\"variable\": \"x0\", \"n_iter\": 47, \"prop\": \"psi\", \"value\": 0.007187796290963888}, {\"variable\": \"x1\", \"n_iter\": 47, \"prop\": \"psi\", \"value\": 0.007075814995914698}, {\"variable\": \"x2\", \"n_iter\": 47, \"prop\": \"psi\", \"value\": 0.006834513042122126}, {\"variable\": \"x0\", \"n_iter\": 48, \"prop\": \"psi\", \"value\": 0.006475167348980904}, {\"variable\": \"x1\", \"n_iter\": 48, \"prop\": \"psi\", \"value\": 0.006363957189023495}, {\"variable\": \"x2\", \"n_iter\": 48, \"prop\": \"psi\", \"value\": 0.006149142049252987}, {\"variable\": \"x0\", \"n_iter\": 49, \"prop\": \"psi\", \"value\": 0.005834844429045916}, {\"variable\": \"x1\", \"n_iter\": 49, \"prop\": \"psi\", \"value\": 0.005724512040615082}, {\"variable\": \"x2\", \"n_iter\": 49, \"prop\": \"psi\", \"value\": 0.005533942021429539}, {\"variable\": \"x0\", \"n_iter\": 50, \"prop\": \"psi\", \"value\": 0.005259794183075428}, {\"variable\": \"x1\", \"n_iter\": 50, \"prop\": \"psi\", \"value\": 0.005150186363607645}, {\"variable\": \"x2\", \"n_iter\": 50, \"prop\": \"psi\", \"value\": 0.0049816919490695}, {\"variable\": \"x0\", \"n_iter\": 51, \"prop\": \"psi\", \"value\": 0.004743474069982767}, {\"variable\": \"x1\", \"n_iter\": 51, \"prop\": \"psi\", \"value\": 0.004634584300220013}, {\"variable\": \"x2\", \"n_iter\": 51, \"prop\": \"psi\", \"value\": 0.004485961515456438}, {\"variable\": \"x0\", \"n_iter\": 52, \"prop\": \"psi\", \"value\": 0.004279667977243662}, {\"variable\": \"x1\", \"n_iter\": 52, \"prop\": \"psi\", \"value\": 0.004171267617493868}, {\"variable\": \"x2\", \"n_iter\": 52, \"prop\": \"psi\", \"value\": 0.004040926229208708}, {\"variable\": \"x0\", \"n_iter\": 53, \"prop\": \"psi\", \"value\": 0.0038628019392490387}, {\"variable\": \"x1\", \"n_iter\": 53, \"prop\": \"psi\", \"value\": 0.003754876321181655}, {\"variable\": \"x2\", \"n_iter\": 53, \"prop\": \"psi\", \"value\": 0.003641383955255151}, {\"variable\": \"x0\", \"n_iter\": 54, \"prop\": \"psi\", \"value\": 0.00348840095102787}, {\"variable\": \"x1\", \"n_iter\": 54, \"prop\": \"psi\", \"value\": 0.0033809207379817963}, {\"variable\": \"x2\", \"n_iter\": 54, \"prop\": \"psi\", \"value\": 0.003282687161117792}, {\"variable\": \"x0\", \"n_iter\": 55, \"prop\": \"psi\", \"value\": 0.0031519450712949038}, {\"variable\": \"x1\", \"n_iter\": 55, \"prop\": \"psi\", \"value\": 0.00304477009922266}, {\"variable\": \"x2\", \"n_iter\": 55, \"prop\": \"psi\", \"value\": 0.0029606109019368887}, {\"variable\": \"x0\", \"n_iter\": 56, \"prop\": \"psi\", \"value\": 0.0028494687285274267}, {\"variable\": \"x1\", \"n_iter\": 56, \"prop\": \"psi\", \"value\": 0.002742591081187129}, {\"variable\": \"x2\", \"n_iter\": 56, \"prop\": \"psi\", \"value\": 0.002671395894140005}, {\"variable\": \"x0\", \"n_iter\": 57, \"prop\": \"psi\", \"value\": 0.002577710198238492}, {\"variable\": \"x1\", \"n_iter\": 57, \"prop\": \"psi\", \"value\": 0.0024711533915251493}, {\"variable\": \"x2\", \"n_iter\": 57, \"prop\": \"psi\", \"value\": 0.002411685883998871}, {\"variable\": \"x0\", \"n_iter\": 58, \"prop\": \"psi\", \"value\": 0.002333403564989567}, {\"variable\": \"x1\", \"n_iter\": 58, \"prop\": \"psi\", \"value\": 0.0022270658519119024}, {\"variable\": \"x2\", \"n_iter\": 58, \"prop\": \"psi\", \"value\": 0.002178432419896126}, {\"variable\": \"x0\", \"n_iter\": 59, \"prop\": \"psi\", \"value\": 0.0021136815194040537}, {\"variable\": \"x1\", \"n_iter\": 59, \"prop\": \"psi\", \"value\": 0.0020075601059943438}, {\"variable\": \"x2\", \"n_iter\": 59, \"prop\": \"psi\", \"value\": 0.001968932570889592}, {\"variable\": \"x0\", \"n_iter\": 60, \"prop\": \"psi\", \"value\": 0.0019161825766786933}, {\"variable\": \"x1\", \"n_iter\": 60, \"prop\": \"psi\", \"value\": 0.0018103837501257658}, {\"variable\": \"x2\", \"n_iter\": 60, \"prop\": \"psi\", \"value\": 0.0017807618714869022}, {\"variable\": \"x0\", \"n_iter\": 61, \"prop\": \"psi\", \"value\": 0.001738577033393085}, {\"variable\": \"x1\", \"n_iter\": 61, \"prop\": \"psi\", \"value\": 0.001633085892535746}, {\"variable\": \"x2\", \"n_iter\": 61, \"prop\": \"psi\", \"value\": 0.001611747546121478}, {\"variable\": \"x0\", \"n_iter\": 62, \"prop\": \"psi\", \"value\": 0.0015788443852216005}, {\"variable\": \"x1\", \"n_iter\": 62, \"prop\": \"psi\", \"value\": 0.001473533338867128}, {\"variable\": \"x2\", \"n_iter\": 62, \"prop\": \"psi\", \"value\": 0.0014599798014387488}, {\"variable\": \"x0\", \"n_iter\": 63, \"prop\": \"psi\", \"value\": 0.0014355521416291595}, {\"variable\": \"x1\", \"n_iter\": 63, \"prop\": \"psi\", \"value\": 0.0013299286365509033}, {\"variable\": \"x2\", \"n_iter\": 63, \"prop\": \"psi\", \"value\": 0.0013241041451692581}, {\"variable\": \"x0\", \"n_iter\": 64, \"prop\": \"psi\", \"value\": 0.0013071290450170636}, {\"variable\": \"x1\", \"n_iter\": 64, \"prop\": \"psi\", \"value\": 0.0012006768956780434}, {\"variable\": \"x2\", \"n_iter\": 64, \"prop\": \"psi\", \"value\": 0.0012022806331515312}, {\"variable\": \"x0\", \"n_iter\": 65, \"prop\": \"psi\", \"value\": 0.0011914415517821908}, {\"variable\": \"x1\", \"n_iter\": 65, \"prop\": \"psi\", \"value\": 0.0010843612253665924}, {\"variable\": \"x2\", \"n_iter\": 65, \"prop\": \"psi\", \"value\": 0.0010926795657724142}, {\"variable\": \"x0\", \"n_iter\": 66, \"prop\": \"psi\", \"value\": 0.001087723532691598}, {\"variable\": \"x1\", \"n_iter\": 66, \"prop\": \"psi\", \"value\": 0.0009797357488423586}, {\"variable\": \"x2\", \"n_iter\": 66, \"prop\": \"psi\", \"value\": 0.0009942592587321997}, {\"variable\": \"x0\", \"n_iter\": 67, \"prop\": \"psi\", \"value\": 0.0009946872014552355}, {\"variable\": \"x1\", \"n_iter\": 67, \"prop\": \"psi\", \"value\": 0.0008855944615788758}, {\"variable\": \"x2\", \"n_iter\": 67, \"prop\": \"psi\", \"value\": 0.000905741413589567}, {\"variable\": \"x0\", \"n_iter\": 68, \"prop\": \"psi\", \"value\": 0.0009108454105444252}, {\"variable\": \"x1\", \"n_iter\": 68, \"prop\": \"psi\", \"value\": 0.0008008464938029647}, {\"variable\": \"x2\", \"n_iter\": 68, \"prop\": \"psi\", \"value\": 0.0008261150796897709}, {\"variable\": \"x0\", \"n_iter\": 69, \"prop\": \"psi\", \"value\": 0.0008355960599146783}, {\"variable\": \"x1\", \"n_iter\": 69, \"prop\": \"psi\", \"value\": 0.0007245420129038393}, {\"variable\": \"x2\", \"n_iter\": 69, \"prop\": \"psi\", \"value\": 0.0007548375288024545}, {\"variable\": \"x0\", \"n_iter\": 70, \"prop\": \"psi\", \"value\": 0.0007678664987906814}, {\"variable\": \"x1\", \"n_iter\": 70, \"prop\": \"psi\", \"value\": 0.0006558410241268575}, {\"variable\": \"x2\", \"n_iter\": 70, \"prop\": \"psi\", \"value\": 0.0006907131755724549}, {\"variable\": \"x0\", \"n_iter\": 71, \"prop\": \"psi\", \"value\": 0.0007070403080433607}, {\"variable\": \"x1\", \"n_iter\": 71, \"prop\": \"psi\", \"value\": 0.000594005105085671}, {\"variable\": \"x2\", \"n_iter\": 71, \"prop\": \"psi\", \"value\": 0.0006329725147224963}, {\"variable\": \"x0\", \"n_iter\": 72, \"prop\": \"psi\", \"value\": 0.0006526939105242491}, {\"variable\": \"x1\", \"n_iter\": 72, \"prop\": \"psi\", \"value\": 0.0005384334363043308}, {\"variable\": \"x2\", \"n_iter\": 72, \"prop\": \"psi\", \"value\": 0.0005810646689496934}, {\"variable\": \"x0\", \"n_iter\": 73, \"prop\": \"psi\", \"value\": 0.0006039319559931755}, {\"variable\": \"x1\", \"n_iter\": 73, \"prop\": \"psi\", \"value\": 0.0004885955713689327}, {\"variable\": \"x2\", \"n_iter\": 73, \"prop\": \"psi\", \"value\": 0.0005343621014617383}, {\"variable\": \"x0\", \"n_iter\": 74, \"prop\": \"psi\", \"value\": 0.0005600486183539033}, {\"variable\": \"x1\", \"n_iter\": 74, \"prop\": \"psi\", \"value\": 0.0004439990152604878}, {\"variable\": \"x2\", \"n_iter\": 74, \"prop\": \"psi\", \"value\": 0.000492880935780704}, {\"variable\": \"x0\", \"n_iter\": 75, \"prop\": \"psi\", \"value\": 0.0005206902860663831}, {\"variable\": \"x1\", \"n_iter\": 75, \"prop\": \"psi\", \"value\": 0.00040379390702582896}, {\"variable\": \"x2\", \"n_iter\": 75, \"prop\": \"psi\", \"value\": 0.00045599223813042045}, {\"variable\": \"x0\", \"n_iter\": 76, \"prop\": \"psi\", \"value\": 0.00048533116932958364}, {\"variable\": \"x1\", \"n_iter\": 76, \"prop\": \"psi\", \"value\": 0.0003675155167002231}, {\"variable\": \"x2\", \"n_iter\": 76, \"prop\": \"psi\", \"value\": 0.00042270554695278406}, {\"variable\": \"x0\", \"n_iter\": 77, \"prop\": \"psi\", \"value\": 0.00045368511928245425}, {\"variable\": \"x1\", \"n_iter\": 77, \"prop\": \"psi\", \"value\": 0.0003349627659190446}, {\"variable\": \"x2\", \"n_iter\": 77, \"prop\": \"psi\", \"value\": 0.00039320738869719207}, {\"variable\": \"x0\", \"n_iter\": 78, \"prop\": \"psi\", \"value\": 0.00042534578824415803}, {\"variable\": \"x1\", \"n_iter\": 78, \"prop\": \"psi\", \"value\": 0.000305542373098433}, {\"variable\": \"x2\", \"n_iter\": 78, \"prop\": \"psi\", \"value\": 0.000366670050425455}, {\"variable\": \"x0\", \"n_iter\": 79, \"prop\": \"psi\", \"value\": 0.00040001876186579466}, {\"variable\": \"x1\", \"n_iter\": 79, \"prop\": \"psi\", \"value\": 0.0002790026774164289}, {\"variable\": \"x2\", \"n_iter\": 79, \"prop\": \"psi\", \"value\": 0.00034292085911147296}, {\"variable\": \"x0\", \"n_iter\": 80, \"prop\": \"psi\", \"value\": 0.00037749289185740054}, {\"variable\": \"x1\", \"n_iter\": 80, \"prop\": \"psi\", \"value\": 0.00025511361309327185}, {\"variable\": \"x2\", \"n_iter\": 80, \"prop\": \"psi\", \"value\": 0.00032177066896110773}, {\"variable\": \"x0\", \"n_iter\": 81, \"prop\": \"psi\", \"value\": 0.0003574945731088519}, {\"variable\": \"x1\", \"n_iter\": 81, \"prop\": \"psi\", \"value\": 0.00023347584647126496}, {\"variable\": \"x2\", \"n_iter\": 81, \"prop\": \"psi\", \"value\": 0.00030263440567068756}, {\"variable\": \"x0\", \"n_iter\": 82, \"prop\": \"psi\", \"value\": 0.00033983198227360845}, {\"variable\": \"x1\", \"n_iter\": 82, \"prop\": \"psi\", \"value\": 0.00021394591021817178}, {\"variable\": \"x2\", \"n_iter\": 82, \"prop\": \"psi\", \"value\": 0.0002856973442249}, {\"variable\": \"x0\", \"n_iter\": 83, \"prop\": \"psi\", \"value\": 0.0003243038372602314}, {\"variable\": \"x1\", \"n_iter\": 83, \"prop\": \"psi\", \"value\": 0.00019628611335065216}, {\"variable\": \"x2\", \"n_iter\": 83, \"prop\": \"psi\", \"value\": 0.0002704946091398597}, {\"variable\": \"x0\", \"n_iter\": 84, \"prop\": \"psi\", \"value\": 0.0003107695665676147}, {\"variable\": \"x1\", \"n_iter\": 84, \"prop\": \"psi\", \"value\": 0.00018028610793408006}, {\"variable\": \"x2\", \"n_iter\": 84, \"prop\": \"psi\", \"value\": 0.0002568221534602344}, {\"variable\": \"x0\", \"n_iter\": 85, \"prop\": \"psi\", \"value\": 0.000299094885122031}, {\"variable\": \"x1\", \"n_iter\": 85, \"prop\": \"psi\", \"value\": 0.00016581347153987736}, {\"variable\": \"x2\", \"n_iter\": 85, \"prop\": \"psi\", \"value\": 0.0002448026498313993}, {\"variable\": \"x0\", \"n_iter\": 86, \"prop\": \"psi\", \"value\": 0.00028911721892654896}, {\"variable\": \"x1\", \"n_iter\": 86, \"prop\": \"psi\", \"value\": 0.00015269189316313714}, {\"variable\": \"x2\", \"n_iter\": 86, \"prop\": \"psi\", \"value\": 0.00023400341160595417}, {\"variable\": \"x0\", \"n_iter\": 87, \"prop\": \"psi\", \"value\": 0.0002806923002935946}, {\"variable\": \"x1\", \"n_iter\": 87, \"prop\": \"psi\", \"value\": 0.00014081485278438777}, {\"variable\": \"x2\", \"n_iter\": 87, \"prop\": \"psi\", \"value\": 0.00022436858853325248}, {\"variable\": \"x0\", \"n_iter\": 88, \"prop\": \"psi\", \"value\": 0.00027370432508178055}, {\"variable\": \"x1\", \"n_iter\": 88, \"prop\": \"psi\", \"value\": 0.00013008058886043727}, {\"variable\": \"x2\", \"n_iter\": 88, \"prop\": \"psi\", \"value\": 0.00021594947611447424}, {\"variable\": \"x0\", \"n_iter\": 89, \"prop\": \"psi\", \"value\": 0.0002680931647773832}, {\"variable\": \"x1\", \"n_iter\": 89, \"prop\": \"psi\", \"value\": 0.00012034436076646671}, {\"variable\": \"x2\", \"n_iter\": 89, \"prop\": \"psi\", \"value\": 0.00020843232050538063}, {\"variable\": \"x0\", \"n_iter\": 90, \"prop\": \"psi\", \"value\": 0.0002639154263306409}, {\"variable\": \"x1\", \"n_iter\": 90, \"prop\": \"psi\", \"value\": 0.00011149535566801205}, {\"variable\": \"x2\", \"n_iter\": 90, \"prop\": \"psi\", \"value\": 0.00020179107377771288}, {\"variable\": \"x0\", \"n_iter\": 91, \"prop\": \"psi\", \"value\": 0.00026118807727470994}, {\"variable\": \"x1\", \"n_iter\": 91, \"prop\": \"psi\", \"value\": 0.00010345096961827949}, {\"variable\": \"x2\", \"n_iter\": 91, \"prop\": \"psi\", \"value\": 0.00019610165327321738}, {\"variable\": \"x0\", \"n_iter\": 92, \"prop\": \"psi\", \"value\": 0.00025984339299611747}, {\"variable\": \"x1\", \"n_iter\": 92, \"prop\": \"psi\", \"value\": 9.614021837478504e-05}, {\"variable\": \"x2\", \"n_iter\": 92, \"prop\": \"psi\", \"value\": 0.00019108029664494097}, {\"variable\": \"x0\", \"n_iter\": 93, \"prop\": \"psi\", \"value\": 0.0002596616104710847}, {\"variable\": \"x1\", \"n_iter\": 93, \"prop\": \"psi\", \"value\": 8.953484211815521e-05}, {\"variable\": \"x2\", \"n_iter\": 93, \"prop\": \"psi\", \"value\": 0.00018674638704396784}, {\"variable\": \"x0\", \"n_iter\": 94, \"prop\": \"psi\", \"value\": 0.0002605947374831885}, {\"variable\": \"x1\", \"n_iter\": 94, \"prop\": \"psi\", \"value\": 8.358349441550672e-05}, {\"variable\": \"x2\", \"n_iter\": 94, \"prop\": \"psi\", \"value\": 0.00018321123206987977}, {\"variable\": \"x0\", \"n_iter\": 95, \"prop\": \"psi\", \"value\": 0.0002626987115945667}, {\"variable\": \"x1\", \"n_iter\": 95, \"prop\": \"psi\", \"value\": 7.817481673555449e-05}, {\"variable\": \"x2\", \"n_iter\": 95, \"prop\": \"psi\", \"value\": 0.00018018005357589573}, {\"variable\": \"x0\", \"n_iter\": 96, \"prop\": \"psi\", \"value\": 0.00026604367303662}, {\"variable\": \"x1\", \"n_iter\": 96, \"prop\": \"psi\", \"value\": 7.322469900827855e-05}, {\"variable\": \"x2\", \"n_iter\": 96, \"prop\": \"psi\", \"value\": 0.00017764553194865584}, {\"variable\": \"x0\", \"n_iter\": 97, \"prop\": \"psi\", \"value\": 0.00027041390421800315}, {\"variable\": \"x1\", \"n_iter\": 97, \"prop\": \"psi\", \"value\": 6.870421202620491e-05}, {\"variable\": \"x2\", \"n_iter\": 97, \"prop\": \"psi\", \"value\": 0.00017565060988999903}, {\"variable\": \"x0\", \"n_iter\": 98, \"prop\": \"psi\", \"value\": 0.00027598568703979254}, {\"variable\": \"x1\", \"n_iter\": 98, \"prop\": \"psi\", \"value\": 6.457359268097207e-05}, {\"variable\": \"x2\", \"n_iter\": 98, \"prop\": \"psi\", \"value\": 0.00017400017532054335}, {\"variable\": \"x0\", \"n_iter\": 99, \"prop\": \"psi\", \"value\": 0.000283076980849728}, {\"variable\": \"x1\", \"n_iter\": 99, \"prop\": \"psi\", \"value\": 6.078624937799759e-05}, {\"variable\": \"x2\", \"n_iter\": 99, \"prop\": \"psi\", \"value\": 0.00017269955424126238}], \"data-fb3183a3882810589d4ad5bc5ee67830\": [{\"info\": \"likelihood\", \"n_iter\": 0, \"prop\": \"noise\", \"value\": 0.6932471990585327}, {\"info\": \"likelihood\", \"n_iter\": 1, \"prop\": \"noise\", \"value\": 0.6444966793060303}, {\"info\": \"likelihood\", \"n_iter\": 2, \"prop\": \"noise\", \"value\": 0.598182201385498}, {\"info\": \"likelihood\", \"n_iter\": 3, \"prop\": \"noise\", \"value\": 0.5542591214179993}, {\"info\": \"likelihood\", \"n_iter\": 4, \"prop\": \"noise\", \"value\": 0.5126785039901733}, {\"info\": \"likelihood\", \"n_iter\": 5, \"prop\": \"noise\", \"value\": 0.473393052816391}, {\"info\": \"likelihood\", \"n_iter\": 6, \"prop\": \"noise\", \"value\": 0.4363580644130707}, {\"info\": \"likelihood\", \"n_iter\": 7, \"prop\": \"noise\", \"value\": 0.40152984857559204}, {\"info\": \"likelihood\", \"n_iter\": 8, \"prop\": \"noise\", \"value\": 0.3688625693321228}, {\"info\": \"likelihood\", \"n_iter\": 9, \"prop\": \"noise\", \"value\": 0.33830514550209045}, {\"info\": \"likelihood\", \"n_iter\": 10, \"prop\": \"noise\", \"value\": 0.3097987473011017}, {\"info\": \"likelihood\", \"n_iter\": 11, \"prop\": \"noise\", \"value\": 0.2832757830619812}, {\"info\": \"likelihood\", \"n_iter\": 12, \"prop\": \"noise\", \"value\": 0.25865960121154785}, {\"info\": \"likelihood\", \"n_iter\": 13, \"prop\": \"noise\", \"value\": 0.23586566746234894}, {\"info\": \"likelihood\", \"n_iter\": 14, \"prop\": \"noise\", \"value\": 0.21480460464954376}, {\"info\": \"likelihood\", \"n_iter\": 15, \"prop\": \"noise\", \"value\": 0.19538524746894836}, {\"info\": \"likelihood\", \"n_iter\": 16, \"prop\": \"noise\", \"value\": 0.1775164008140564}, {\"info\": \"likelihood\", \"n_iter\": 17, \"prop\": \"noise\", \"value\": 0.1611071527004242}, {\"info\": \"likelihood\", \"n_iter\": 18, \"prop\": \"noise\", \"value\": 0.14606712758541107}, {\"info\": \"likelihood\", \"n_iter\": 19, \"prop\": \"noise\", \"value\": 0.13230718672275543}, {\"info\": \"likelihood\", \"n_iter\": 20, \"prop\": \"noise\", \"value\": 0.11973995715379715}, {\"info\": \"likelihood\", \"n_iter\": 21, \"prop\": \"noise\", \"value\": 0.10828061401844025}, {\"info\": \"likelihood\", \"n_iter\": 22, \"prop\": \"noise\", \"value\": 0.09784702956676483}, {\"info\": \"likelihood\", \"n_iter\": 23, \"prop\": \"noise\", \"value\": 0.08836039900779724}, {\"info\": \"likelihood\", \"n_iter\": 24, \"prop\": \"noise\", \"value\": 0.07974615693092346}, {\"info\": \"likelihood\", \"n_iter\": 25, \"prop\": \"noise\", \"value\": 0.07193353027105331}, {\"info\": \"likelihood\", \"n_iter\": 26, \"prop\": \"noise\", \"value\": 0.06485548615455627}, {\"info\": \"likelihood\", \"n_iter\": 27, \"prop\": \"noise\", \"value\": 0.05844917893409729}, {\"info\": \"likelihood\", \"n_iter\": 28, \"prop\": \"noise\", \"value\": 0.05265609920024872}, {\"info\": \"likelihood\", \"n_iter\": 29, \"prop\": \"noise\", \"value\": 0.047421857714653015}, {\"info\": \"likelihood\", \"n_iter\": 30, \"prop\": \"noise\", \"value\": 0.042696136981248856}, {\"info\": \"likelihood\", \"n_iter\": 31, \"prop\": \"noise\", \"value\": 0.038432393223047256}, {\"info\": \"likelihood\", \"n_iter\": 32, \"prop\": \"noise\", \"value\": 0.034587688744068146}, {\"info\": \"likelihood\", \"n_iter\": 33, \"prop\": \"noise\", \"value\": 0.03112274594604969}, {\"info\": \"likelihood\", \"n_iter\": 34, \"prop\": \"noise\", \"value\": 0.028001578524708748}, {\"info\": \"likelihood\", \"n_iter\": 35, \"prop\": \"noise\", \"value\": 0.025191351771354675}, {\"info\": \"likelihood\", \"n_iter\": 36, \"prop\": \"noise\", \"value\": 0.022662080824375153}, {\"info\": \"likelihood\", \"n_iter\": 37, \"prop\": \"noise\", \"value\": 0.020386485382914543}, {\"info\": \"likelihood\", \"n_iter\": 38, \"prop\": \"noise\", \"value\": 0.01833978109061718}, {\"info\": \"likelihood\", \"n_iter\": 39, \"prop\": \"noise\", \"value\": 0.01649940013885498}, {\"info\": \"likelihood\", \"n_iter\": 40, \"prop\": \"noise\", \"value\": 0.014844934456050396}, {\"info\": \"likelihood\", \"n_iter\": 41, \"prop\": \"noise\", \"value\": 0.01335791777819395}, {\"info\": \"likelihood\", \"n_iter\": 42, \"prop\": \"noise\", \"value\": 0.012021701782941818}, {\"info\": \"likelihood\", \"n_iter\": 43, \"prop\": \"noise\", \"value\": 0.010821140371263027}, {\"info\": \"likelihood\", \"n_iter\": 44, \"prop\": \"noise\", \"value\": 0.00974257756024599}, {\"info\": \"likelihood\", \"n_iter\": 45, \"prop\": \"noise\", \"value\": 0.00877367239445448}, {\"info\": \"likelihood\", \"n_iter\": 46, \"prop\": \"noise\", \"value\": 0.00790331233292818}, {\"info\": \"likelihood\", \"n_iter\": 47, \"prop\": \"noise\", \"value\": 0.0071214972995221615}, {\"info\": \"likelihood\", \"n_iter\": 48, \"prop\": \"noise\", \"value\": 0.006419248413294554}, {\"info\": \"likelihood\", \"n_iter\": 49, \"prop\": \"noise\", \"value\": 0.005788519978523254}, {\"info\": \"likelihood\", \"n_iter\": 50, \"prop\": \"noise\", \"value\": 0.00522213289514184}, {\"info\": \"likelihood\", \"n_iter\": 51, \"prop\": \"noise\", \"value\": 0.004713641479611397}, {\"info\": \"likelihood\", \"n_iter\": 52, \"prop\": \"noise\", \"value\": 0.004256899934262037}, {\"info\": \"likelihood\", \"n_iter\": 53, \"prop\": \"noise\", \"value\": 0.0038465382531285286}, {\"info\": \"likelihood\", \"n_iter\": 54, \"prop\": \"noise\", \"value\": 0.003478021826595068}, {\"info\": \"likelihood\", \"n_iter\": 55, \"prop\": \"noise\", \"value\": 0.0031469003297388554}, {\"info\": \"likelihood\", \"n_iter\": 56, \"prop\": \"noise\", \"value\": 0.002849329262971878}, {\"info\": \"likelihood\", \"n_iter\": 57, \"prop\": \"noise\", \"value\": 0.0025820271112024784}, {\"info\": \"likelihood\", \"n_iter\": 58, \"prop\": \"noise\", \"value\": 0.0023417624179273844}, {\"info\": \"likelihood\", \"n_iter\": 59, \"prop\": \"noise\", \"value\": 0.002125762403011322}, {\"info\": \"likelihood\", \"n_iter\": 60, \"prop\": \"noise\", \"value\": 0.0019316833931952715}, {\"info\": \"likelihood\", \"n_iter\": 61, \"prop\": \"noise\", \"value\": 0.001757209887728095}, {\"info\": \"likelihood\", \"n_iter\": 62, \"prop\": \"noise\", \"value\": 0.0016003199853003025}, {\"info\": \"likelihood\", \"n_iter\": 63, \"prop\": \"noise\", \"value\": 0.0014594754902645946}, {\"info\": \"likelihood\", \"n_iter\": 64, \"prop\": \"noise\", \"value\": 0.0013329993234947324}, {\"info\": \"likelihood\", \"n_iter\": 65, \"prop\": \"noise\", \"value\": 0.0012191253481432796}, {\"info\": \"likelihood\", \"n_iter\": 66, \"prop\": \"noise\", \"value\": 0.0011168139753863215}, {\"info\": \"likelihood\", \"n_iter\": 67, \"prop\": \"noise\", \"value\": 0.0010248086182400584}, {\"info\": \"likelihood\", \"n_iter\": 68, \"prop\": \"noise\", \"value\": 0.0009419349953532219}, {\"info\": \"likelihood\", \"n_iter\": 69, \"prop\": \"noise\", \"value\": 0.0008674749988131225}, {\"info\": \"likelihood\", \"n_iter\": 70, \"prop\": \"noise\", \"value\": 0.0008004039409570396}, {\"info\": \"likelihood\", \"n_iter\": 71, \"prop\": \"noise\", \"value\": 0.0007400054018944502}, {\"info\": \"likelihood\", \"n_iter\": 72, \"prop\": \"noise\", \"value\": 0.0006857404951006174}, {\"info\": \"likelihood\", \"n_iter\": 73, \"prop\": \"noise\", \"value\": 0.000636954209767282}, {\"info\": \"likelihood\", \"n_iter\": 74, \"prop\": \"noise\", \"value\": 0.0005932706990279257}, {\"info\": \"likelihood\", \"n_iter\": 75, \"prop\": \"noise\", \"value\": 0.0005540284910239279}, {\"info\": \"likelihood\", \"n_iter\": 76, \"prop\": \"noise\", \"value\": 0.0005185759509913623}, {\"info\": \"likelihood\", \"n_iter\": 77, \"prop\": \"noise\", \"value\": 0.0004868176765739918}, {\"info\": \"likelihood\", \"n_iter\": 78, \"prop\": \"noise\", \"value\": 0.0004581216489896178}, {\"info\": \"likelihood\", \"n_iter\": 79, \"prop\": \"noise\", \"value\": 0.00043224971159361303}, {\"info\": \"likelihood\", \"n_iter\": 80, \"prop\": \"noise\", \"value\": 0.00040898725274018943}, {\"info\": \"likelihood\", \"n_iter\": 81, \"prop\": \"noise\", \"value\": 0.0003878965799231082}, {\"info\": \"likelihood\", \"n_iter\": 82, \"prop\": \"noise\", \"value\": 0.00036891913623549044}, {\"info\": \"likelihood\", \"n_iter\": 83, \"prop\": \"noise\", \"value\": 0.0003517521545290947}, {\"info\": \"likelihood\", \"n_iter\": 84, \"prop\": \"noise\", \"value\": 0.00033619318855926394}, {\"info\": \"likelihood\", \"n_iter\": 85, \"prop\": \"noise\", \"value\": 0.0003221746301278472}, {\"info\": \"likelihood\", \"n_iter\": 86, \"prop\": \"noise\", \"value\": 0.0003094440617132932}, {\"info\": \"likelihood\", \"n_iter\": 87, \"prop\": \"noise\", \"value\": 0.0002978997945319861}, {\"info\": \"likelihood\", \"n_iter\": 88, \"prop\": \"noise\", \"value\": 0.0002874739875551313}, {\"info\": \"likelihood\", \"n_iter\": 89, \"prop\": \"noise\", \"value\": 0.0002779829374048859}, {\"info\": \"likelihood\", \"n_iter\": 90, \"prop\": \"noise\", \"value\": 0.00026935047935694456}, {\"info\": \"likelihood\", \"n_iter\": 91, \"prop\": \"noise\", \"value\": 0.00026153342332690954}, {\"info\": \"likelihood\", \"n_iter\": 92, \"prop\": \"noise\", \"value\": 0.0002544051967561245}, {\"info\": \"likelihood\", \"n_iter\": 93, \"prop\": \"noise\", \"value\": 0.0002479320392012596}, {\"info\": \"likelihood\", \"n_iter\": 94, \"prop\": \"noise\", \"value\": 0.00024209916591644287}, {\"info\": \"likelihood\", \"n_iter\": 95, \"prop\": \"noise\", \"value\": 0.00023675512056797743}, {\"info\": \"likelihood\", \"n_iter\": 96, \"prop\": \"noise\", \"value\": 0.0002318252227269113}, {\"info\": \"likelihood\", \"n_iter\": 97, \"prop\": \"noise\", \"value\": 0.00022727870964445174}, {\"info\": \"likelihood\", \"n_iter\": 98, \"prop\": \"noise\", \"value\": 0.00022306197206489742}, {\"info\": \"likelihood\", \"n_iter\": 99, \"prop\": \"noise\", \"value\": 0.00021915024262852967}]}}, {\"mode\": \"vega-lite\"});\n",
       "</script>"
      ],
      "text/plain": [
       "alt.VConcatChart(...)"
      ]
     },
     "execution_count": null,
     "metadata": {},
     "output_type": "execute_result"
    }
   ],
   "source": [
    "l.plot_progress()"
   ]
  },
  {
   "cell_type": "code",
   "execution_count": null,
   "id": "9e20fcd0-f122-49fd-b919-fe4a077ee488",
   "metadata": {},
   "outputs": [],
   "source": [
    "self = l\n",
    "\n",
    "v =[]\n",
    "for info_name in self.model_infos[0].keys(): \n",
    "    values = pd.concat([info[info_name].assign(n_iter=i) for i, info in enumerate(self.model_infos)])\n",
    "    v.append(values)"
   ]
  },
  {
   "cell_type": "code",
   "execution_count": null,
   "id": "462ae4cc-af73-4f0e-9afb-ec40d623fbb4",
   "metadata": {},
   "outputs": [
    {
     "data": {
      "text/plain": [
       "[   variable        z0  n_iter\n",
       " 0        x0  0.618238       0\n",
       " 1        x1  0.498738       0\n",
       " 2        x2  0.056678       0\n",
       " 0        x0  0.518238       1\n",
       " 1        x1  0.598738       1\n",
       " ..      ...       ...     ...\n",
       " 1        x1  2.131417      98\n",
       " 2        x2  2.135062      98\n",
       " 0        x0  2.136593      99\n",
       " 1        x1  2.132483      99\n",
       " 2        x2  2.126916      99\n",
       " \n",
       " [300 rows x 3 columns],\n",
       "    latent  lengthscale  n_iter\n",
       " 0      z0     0.693147       0\n",
       " 0      z0     0.744397       1\n",
       " 0      z0     0.798175       2\n",
       " 0      z0     0.854551       3\n",
       " 0      z0     0.913584       4\n",
       " ..    ...          ...     ...\n",
       " 0      z0     5.194679      95\n",
       " 0      z0     5.209361      96\n",
       " 0      z0     5.224169      97\n",
       " 0      z0     5.238936      98\n",
       " 0      z0     5.253561      99\n",
       " \n",
       " [100 rows x 3 columns],\n",
       "    variable       psi  n_iter\n",
       " 0        x0  0.693147       0\n",
       " 1        x1  0.693147       0\n",
       " 2        x2  0.693147       0\n",
       " 0        x0  0.644397       1\n",
       " 1        x1  0.644397       1\n",
       " ..      ...       ...     ...\n",
       " 1        x1  0.000065      98\n",
       " 2        x2  0.000174      98\n",
       " 0        x0  0.000283      99\n",
       " 1        x1  0.000061      99\n",
       " 2        x2  0.000173      99\n",
       " \n",
       " [300 rows x 3 columns],\n",
       "        noise  n_iter\n",
       " 0   0.693247       0\n",
       " 0   0.644497       1\n",
       " 0   0.598182       2\n",
       " 0   0.554259       3\n",
       " 0   0.512679       4\n",
       " ..       ...     ...\n",
       " 0   0.000237      95\n",
       " 0   0.000232      96\n",
       " 0   0.000227      97\n",
       " 0   0.000223      98\n",
       " 0   0.000219      99\n",
       " \n",
       " [100 rows x 2 columns]]"
      ]
     },
     "execution_count": null,
     "metadata": {},
     "output_type": "execute_result"
    }
   ],
   "source": [
    "v"
   ]
  },
  {
   "cell_type": "markdown",
   "id": "36bda355-ac85-441c-9b83-dbb35bf31ba1",
   "metadata": {},
   "source": [
    "## Export"
   ]
  },
  {
   "cell_type": "code",
   "execution_count": null,
   "id": "58580804-365d-447a-9a5e-3463f4846b74",
   "metadata": {},
   "outputs": [],
   "source": [
    "#| hide\n",
    "from nbdev import nbdev_export\n",
    "nbdev_export()"
   ]
  },
  {
   "cell_type": "markdown",
   "id": "24befb58-3f26-4d2c-beaa-0cb4a9e9e676",
   "metadata": {},
   "source": [
    "\n",
    "## Printing\n",
    "### Other"
   ]
  },
  {
   "cell_type": "code",
   "execution_count": null,
   "id": "1613c1b2-be6b-4b0c-9833-a2d43a95e0c8",
   "metadata": {},
   "outputs": [],
   "source": [
    "# #| exporti\n",
    "# def get_parameter_value(name, param, constraint):\n",
    "#     if constraint is not None:\n",
    "#         value = constraint.transform(param.data.detach())\n",
    "#         name = name.replace(\"raw_\", \"\") # parameter is not raw anymore\n",
    "#     else:\n",
    "#         value = param.data.detach()\n",
    "#     return (name, value)\n",
    "\n",
    "# name = \"covar_module.psi\"\n",
    "# test_eq(l.model.covar_module.psi.detach(), get_parameter_value(name, l.model.covar_module.raw_psi_diag, l.model.covar_module.raw_psi_diag_constraint)[1])\n",
    "\n",
    "# #| exporti\n",
    "# def tensor_to_first_item(tensor):\n",
    "#     if tensor.dim() > 0:\n",
    "#         return tensor_to_first_item(tensor[0])\n",
    "#     return tensor.item()\n",
    "\n",
    "\n",
    "# def format_parameter(name, value):\n",
    "#     value = tensor_to_first_item(value)\n",
    "#     name = name.split(\".\")[-1] # get only last part of name\n",
    "#     return f\"{name}: {value:.3f}\"\n",
    "\n",
    "# #| export\n",
    "# @patch\n",
    "# def get_formatted_params(self: GPFALearner):\n",
    "#     return \", \".join([\n",
    "#         format_parameter(*get_parameter_value(name, value, constraint))\n",
    "#         for name, value, constraint in\n",
    "#         self.model.named_parameters_and_constraints()\n",
    "#     ])\n",
    "\n",
    "# l.get_formatted_params()\n",
    "\n",
    "# # this is not really working at the moment, but it's not important\n",
    "# @patch\n",
    "# def plot_loss_printer(self: GPFALearner, i_iter):\n",
    "#     if i_iter ==0: return\n",
    "#     x = torch.arange(0, i_iter)\n",
    "#     y = self.losses[:i_iter]\n",
    "#     plot_data = [[x, y]]\n",
    "#     self.pb.update_graph(plot_data)\n",
    "    \n",
    "#     x_bounds = [x.min(), x.max()+1]\n",
    "#     y_bounds = [y.min(), y.max()]\n",
    "#     self.pb.names = [\"Training loss\"]\n",
    "\n",
    "# #|export\n",
    "# @patch\n",
    "# def printer(self: GPFALearner, i_iter):\n",
    "\n",
    "#     if i_iter%10 == 0:\n",
    "#         update_str = f\"loss: {self.losses[i_iter].item():.3f}, \" + self.get_formatted_params()\n",
    "#         #self.plot_loss(i_iter)\n",
    "    \n",
    "#     #self.pb.write(update_str)\n",
    "\n",
    "# l.train(lr = 0.01)\n",
    "\n",
    "# import matplotlib.pyplot as plt\n",
    "\n",
    "# plt.plot(l.losses)"
   ]
  }
 ],
 "metadata": {
  "kernelspec": {
   "display_name": "data_science",
   "language": "python",
   "name": "data_science"
  },
  "widgets": {
   "application/vnd.jupyter.widget-state+json": {
    "state": {},
    "version_major": 2,
    "version_minor": 0
   }
  }
 },
 "nbformat": 4,
 "nbformat_minor": 5
}
