{
 "cells": [
  {
   "cell_type": "raw",
   "id": "9e4ef58d",
   "metadata": {},
   "source": [
    "---\n",
    "description: Utilities to train and visualize a GPFA model\n",
    "output-file: learner.html\n",
    "title: GPFA Learner\n",
    "\n",
    "---\n",
    "\n"
   ]
  },
  {
   "cell_type": "code",
   "execution_count": null,
   "id": "e25b75aa-51b1-4980-97f5-68df5c3eceea",
   "metadata": {},
   "outputs": [],
   "source": [
    "%load_ext autoreload\n",
    "%autoreload 2"
   ]
  },
  {
   "cell_type": "code",
   "execution_count": null,
   "id": "2cda543e-9b92-4a60-943a-9e2e3d6a5c24",
   "metadata": {},
   "outputs": [],
   "source": [
    "#| hide\n",
    "#| default_exp gpfa.learner"
   ]
  },
  {
   "cell_type": "code",
   "execution_count": null,
   "id": "31ca6d73-c7bc-49af-a142-dbbaf6402c7b",
   "metadata": {},
   "outputs": [],
   "source": [
    "from fastcore.test import *"
   ]
  },
  {
   "cell_type": "code",
   "execution_count": null,
   "id": "fe43aefc-a8d5-4a01-8fca-0e5819186d5c",
   "metadata": {},
   "outputs": [],
   "source": [
    "#| export\n",
    "import torch\n",
    "from torch import Tensor\n",
    "from torch.distributions import MultivariateNormal \n",
    "\n",
    "import gpytorch\n",
    "from meteo_imp.gpfa.gpfa import *\n",
    "from meteo_imp.data_preparation import StandardScaler\n",
    "\n",
    "from collections import namedtuple\n",
    "import math\n",
    "\n",
    "from tqdm.auto import tqdm\n",
    "from fastcore.foundation import patch\n",
    "\n",
    "import matplotlib.pyplot as plt\n",
    "from pathlib import Path\n",
    "\n",
    "import pandas as pd\n",
    "import numpy as np\n",
    "import altair as alt"
   ]
  },
  {
   "cell_type": "markdown",
   "id": "f48b6e03-df45-4e08-b68a-3674fbf4a13c",
   "metadata": {},
   "source": [
    "The first thing that we need is a Learner object to keep track of:\n",
    "\n",
    "- input data, output data\n",
    "- model\n",
    "- likelihood\n",
    "\n",
    "and that has methods to help with:\n",
    "\n",
    "- training\n",
    "- prediction \n",
    "- visualization"
   ]
  },
  {
   "cell_type": "markdown",
   "id": "a1f18d28-1fb7-496a-a2c5-c959b20be768",
   "metadata": {},
   "source": [
    "The first thing we need is a training loop, just wrap in a function the example one from GPyTorch\n"
   ]
  },
  {
   "cell_type": "markdown",
   "id": "be8ed76b-c01b-475f-9494-10c54d4d0047",
   "metadata": {},
   "source": [
    "## Learner"
   ]
  },
  {
   "cell_type": "code",
   "execution_count": null,
   "id": "9c0bef3a-0b73-4352-8a9e-7291aaae760c",
   "metadata": {},
   "outputs": [],
   "source": [
    "#| export\n",
    "class GPFALearner():\n",
    "    def __init__(self,\n",
    "                 X: Tensor, # (n_features * n_obs) Multivariate time series\n",
    "                 T: Tensor = None, # (n_obs) Vector of time of observations.\n",
    "                 # If none each observation are considered to be at the same distance\n",
    "                 latent_dims: int = 1, # Number of latent variables in GPFA\n",
    "                 model = GPFA, # sub-class of `GPFA`\n",
    "                 var_names = None # for model info\n",
    "                ):\n",
    "        self.prepare_X(X)\n",
    "        if T is None: self.default_time(X)\n",
    "        else: self.T = T\n",
    "        self.T = self.T.to(X.device) # to support GPUs\n",
    "        self.latent_dims = latent_dims\n",
    "        self.var_names = var_names\n",
    "        \n",
    "        self.likelihood = gpytorch.likelihoods.GaussianLikelihood()\n",
    "        self.model = model(self.T, self.X, self.likelihood, self.n_features, latent_dims=latent_dims)\n",
    "        \n",
    "    @torch.no_grad()\n",
    "    def prepare_X(self, X):\n",
    "        self.norm = StandardScaler(X)\n",
    "        X = self.norm.transform(X)\n",
    "        # flatten Matrix to vector\n",
    "        self.X = X.reshape(-1) \n",
    "        self.n_features = X.shape[1]\n",
    "        \n",
    "    def default_time(self, X):\n",
    "        self.T = torch.arange(X.shape[0])\n",
    "        \n",
    "    \n",
    "    def train(self, n_iter=100, lr=0.1):\n",
    "        # need to enable training mode\n",
    "        self.model.train()\n",
    "        self.likelihood.train()\n",
    "        \n",
    "        # Use the adam optimizer\n",
    "        optimizer = torch.optim.Adam(self.model.parameters(), lr=lr) \n",
    "        \n",
    "        if not hasattr(self, 'losses'):\n",
    "            self.losses = torch.zeros(n_iter)\n",
    "            self.model_infos = [None for _ in range(n_iter)] # put one element so it can be indexed from 0\n",
    "            offset = 0\n",
    "        else:\n",
    "            offset = self.losses.shape[0]\n",
    "            self.losses = torch.concat([self.losses, torch.zeros(n_iter)])\n",
    "            self.model_infos.extend([None for _ in range(n_iter)])\n",
    "            \n",
    "        \n",
    "        # \"Loss\" for GPs - the marginal log likelihood\n",
    "        mll = gpytorch.mlls.ExactMarginalLogLikelihood(self.likelihood, self.model)\n",
    "        for i in tqdm(range(n_iter)):\n",
    "            # Zero gradients from previous iteration\n",
    "            optimizer.zero_grad()\n",
    "            # Output from model\n",
    "            output = self.model(self.T)\n",
    "            # Calc loss and backprop gradients\n",
    "            loss = -mll(output, self.X)\n",
    "            self.losses[i + offset] = loss.detach()\n",
    "            loss.backward()\n",
    "            self.model_infos[i + offset] = self.model.get_info(self.var_names)\n",
    "\n",
    "            optimizer.step()\n"
   ]
  },
  {
   "cell_type": "code",
   "execution_count": null,
   "id": "9105fe73-aa6d-4232-a1f3-24e8276a008d",
   "metadata": {},
   "outputs": [],
   "source": [
    "# test data\n",
    "T = torch.arange(0,6)\n",
    "\n",
    "X = torch.vstack([(torch.arange(0,3, dtype=torch.float32) + 2 + i) * i for i in T])"
   ]
  },
  {
   "cell_type": "code",
   "execution_count": null,
   "id": "90ae1f7d-510d-4b69-88c5-a797bb5c2fd2",
   "metadata": {},
   "outputs": [
    {
     "data": {
      "text/plain": [
       "tensor([[ 0.,  0.,  0.],\n",
       "        [ 3.,  4.,  5.],\n",
       "        [ 8., 10., 12.],\n",
       "        [15., 18., 21.],\n",
       "        [24., 28., 32.],\n",
       "        [35., 40., 45.]])"
      ]
     },
     "execution_count": null,
     "metadata": {},
     "output_type": "execute_result"
    }
   ],
   "source": [
    "X"
   ]
  },
  {
   "cell_type": "code",
   "execution_count": null,
   "id": "a63fd700-c0af-4ad4-8e52-4c5d6a339212",
   "metadata": {},
   "outputs": [],
   "source": [
    "# l for learner\n",
    "l = GPFALearner(X)"
   ]
  },
  {
   "cell_type": "code",
   "execution_count": null,
   "id": "57c9acea-2c30-42c7-9a66-10535dbf21f5",
   "metadata": {},
   "outputs": [],
   "source": [
    "test_eq(T, l.T)"
   ]
  },
  {
   "cell_type": "code",
   "execution_count": null,
   "id": "d31067ba-ff73-4e57-be57-f5d34efdef19",
   "metadata": {},
   "outputs": [],
   "source": [
    "# with explicit time\n",
    "test_eq(T, GPFALearner(X, T).T)"
   ]
  },
  {
   "cell_type": "code",
   "execution_count": null,
   "id": "b198aad5-7fc9-4665-8823-a28d42a74ec6",
   "metadata": {},
   "outputs": [],
   "source": [
    "test_eq(l.n_features, 3)"
   ]
  },
  {
   "cell_type": "code",
   "execution_count": null,
   "id": "04726f27-5861-4f00-881d-f15935e05f8a",
   "metadata": {},
   "outputs": [
    {
     "data": {
      "text/plain": [
       "tensor([-1.0590, -1.0955, -1.1236, -0.8347, -0.8326, -0.8305, -0.4610, -0.4382,\n",
       "        -0.4201,  0.0623,  0.0876,  0.1075,  0.7350,  0.7449,  0.7523,  1.5573,\n",
       "         1.5337,  1.5145])"
      ]
     },
     "execution_count": null,
     "metadata": {},
     "output_type": "execute_result"
    }
   ],
   "source": [
    "l.X"
   ]
  },
  {
   "cell_type": "code",
   "execution_count": null,
   "id": "69a69e95-19a1-405e-9998-d97920b5dc44",
   "metadata": {},
   "outputs": [
    {
     "data": {
      "application/vnd.jupyter.widget-view+json": {
       "model_id": "4fe5d851b35541f597db1a0c662f007d",
       "version_major": 2,
       "version_minor": 0
      },
      "text/plain": [
       "  0%|          | 0/100 [00:00<?, ?it/s]"
      ]
     },
     "metadata": {},
     "output_type": "display_data"
    },
    {
     "name": "stderr",
     "output_type": "stream",
     "text": [
      "/home/simone/anaconda3/envs/data-science/lib/python3.10/site-packages/gpytorch/lazy/triangular_lazy_tensor.py:136: UserWarning: torch.triangular_solve is deprecated in favor of torch.linalg.solve_triangularand will be removed in a future PyTorch release.\n",
      "torch.linalg.solve_triangular has its arguments reversed and does not return a copy of one of the inputs.\n",
      "X = torch.triangular_solve(B, A).solution\n",
      "should be replaced with\n",
      "X = torch.linalg.solve_triangular(A, B). (Triggered internally at  ../aten/src/ATen/native/BatchLinearAlgebra.cpp:2183.)\n",
      "  res = torch.triangular_solve(right_tensor, self.evaluate(), upper=self.upper).solution\n",
      "/home/simone/anaconda3/envs/data-science/lib/python3.10/site-packages/torch/autograd/__init__.py:173: UserWarning: operator() profile_node %840 : int[] = prim::profile_ivalue(%838)\n",
      " does not have profile information (Triggered internally at  ../torch/csrc/jit/codegen/cuda/graph_fuser.cpp:104.)\n",
      "  Variable._execution_engine.run_backward(  # Calls into the C++ engine to run the backward pass\n"
     ]
    }
   ],
   "source": [
    "l.train()"
   ]
  },
  {
   "cell_type": "markdown",
   "id": "9b0a3650-2aac-4528-8561-26b816bff905",
   "metadata": {},
   "source": [
    "check that can train for more than once"
   ]
  },
  {
   "cell_type": "code",
   "execution_count": null,
   "id": "e2422c92-3055-4f62-919e-ea1e18a7f2e8",
   "metadata": {},
   "outputs": [
    {
     "data": {
      "application/vnd.jupyter.widget-view+json": {
       "model_id": "42326372786841e99c1df90282ae43e3",
       "version_major": 2,
       "version_minor": 0
      },
      "text/plain": [
       "  0%|          | 0/100 [00:00<?, ?it/s]"
      ]
     },
     "metadata": {},
     "output_type": "display_data"
    }
   ],
   "source": [
    "l.train()"
   ]
  },
  {
   "cell_type": "code",
   "execution_count": null,
   "id": "66b38db4-2eba-4009-b272-d6054980262b",
   "metadata": {},
   "outputs": [
    {
     "data": {
      "text/plain": [
       "tensor([ 1.3691,  1.3265,  1.2867,  1.2495,  1.2107,  1.1702,  1.1304,  1.0929,\n",
       "         1.0566,  1.0200,  0.9822,  0.9434,  0.9039,  0.8642,  0.8246,  0.7845,\n",
       "         0.7437,  0.7019,  0.6595,  0.6170,  0.5749,  0.5328,  0.4905,  0.4481,\n",
       "         0.4058,  0.3636,  0.3214,  0.2793,  0.2370,  0.1943,  0.1520,  0.1097,\n",
       "         0.0667,  0.0243, -0.0181, -0.0608, -0.1031, -0.1452, -0.1874, -0.2293,\n",
       "        -0.2710, -0.3128, -0.3539, -0.3953, -0.4360, -0.4769, -0.5173, -0.5577,\n",
       "        -0.5974, -0.6373, -0.6766, -0.7156, -0.7544, -0.7927, -0.8304, -0.8673,\n",
       "        -0.9023, -0.9291, -0.9688, -1.0017, -1.0382, -1.0711, -1.1033, -1.1396,\n",
       "        -1.1642, -1.2035, -1.2218, -1.2612, -1.2789, -1.3111, -1.3358, -1.3537,\n",
       "        -1.3841, -1.3909, -1.3967, -1.4299, -1.4527, -1.4624, -1.4806, -1.4976,\n",
       "        -1.5096, -1.5176, -1.5356, -1.5441, -1.5443, -1.5641, -1.5724, -1.5653,\n",
       "        -1.5789, -1.5920, -1.5886, -1.5960, -1.6030, -1.5963, -1.6003, -1.6098,\n",
       "        -1.6074, -1.6175, -1.6281, -1.6264, -1.6340,  0.7754, -1.4940, -1.1752,\n",
       "        -0.3677, -0.6071, -1.2489, -1.6029, -1.5123, -1.2290, -1.0733, -1.1438,\n",
       "        -1.3421, -1.5151, -1.5719, -1.5156, -1.4143, -1.3454, -1.3485, -1.4113,\n",
       "        -1.4900, -1.5405, -1.5443, -1.5109, -1.4704, -1.4521, -1.4677, -1.5063,\n",
       "        -1.5450, -1.5630, -1.5564, -1.5371, -1.5254, -1.5339, -1.5587, -1.5839,\n",
       "        -1.5945, -1.5893, -1.5795, -1.5800, -1.5942, -1.6127, -1.6220, -1.6192,\n",
       "        -1.6136, -1.6172, -1.6295, -1.6398, -1.6410, -1.6373, -1.6382, -1.6460,\n",
       "        -1.6539, -1.6547, -1.6524, -1.6549, -1.6613, -1.6652, -1.6646, -1.6646,\n",
       "        -1.6685, -1.6730, -1.6738, -1.6737, -1.6759, -1.6800, -1.6818, -1.6816,\n",
       "        -1.6829, -1.6861, -1.6876, -1.6880, -1.6895, -1.6909, -1.6925, -1.6931,\n",
       "        -1.6938, -1.6957, -1.6964, -1.6974, -1.6982, -1.6985, -1.6993, -1.7003,\n",
       "        -1.7012, -1.7019, -1.7021, -1.7030, -1.7040, -1.7040, -1.7047, -1.7052,\n",
       "        -1.7061, -1.7067, -1.7071, -1.7073, -1.7083, -1.7082, -1.7087, -1.7090])"
      ]
     },
     "execution_count": null,
     "metadata": {},
     "output_type": "execute_result"
    }
   ],
   "source": [
    "l.losses"
   ]
  },
  {
   "cell_type": "markdown",
   "id": "ae9ca87d-5a28-444c-b75a-5943ce8979f7",
   "metadata": {},
   "source": [
    "## Predictions\n",
    "\n",
    "add a function to get predictions from the model"
   ]
  },
  {
   "cell_type": "code",
   "execution_count": null,
   "id": "681f4ef6-9f6b-44d9-877b-1095b222bc88",
   "metadata": {},
   "outputs": [],
   "source": [
    "#| export\n",
    "@torch.no_grad() # don't calc gradients on predictions\n",
    "@patch()\n",
    "def predict_raw(self: GPFALearner, T):\n",
    "    self.model.eval()\n",
    "    self.likelihood.eval()\n",
    "    return self.likelihood(self.model(T))"
   ]
  },
  {
   "cell_type": "code",
   "execution_count": null,
   "id": "57ed0643-1ce3-40ac-bb5b-59534c2c6c70",
   "metadata": {},
   "outputs": [
    {
     "name": "stderr",
     "output_type": "stream",
     "text": [
      "/home/simone/anaconda3/envs/data-science/lib/python3.10/site-packages/gpytorch/models/exact_gp.py:273: GPInputWarning: The input matches the stored training data. Did you forget to call model.train()?\n",
      "  warnings.warn(\n"
     ]
    },
    {
     "data": {
      "text/plain": [
       "MultivariateNormal(loc: torch.Size([18]))"
      ]
     },
     "execution_count": null,
     "metadata": {},
     "output_type": "execute_result"
    }
   ],
   "source": [
    "raw_out = l.predict_raw(T)\n",
    "raw_out"
   ]
  },
  {
   "cell_type": "markdown",
   "id": "d14e256c-f331-4508-9ace-d1b161528fd7",
   "metadata": {},
   "source": [
    "the model prediction is a distribution with `len(T)*n_features` dimensions"
   ]
  },
  {
   "cell_type": "markdown",
   "id": "30a050f2-0aa0-4e0a-8fb7-869397feadc9",
   "metadata": {},
   "source": [
    "which is in the in the wrong shape and need to be rescaled after the normalization"
   ]
  },
  {
   "cell_type": "markdown",
   "id": "2540a9d5-7fab-4722-bb71-8356f01d69cd",
   "metadata": {},
   "source": [
    "Also we don't need th full distribution but only the mean and stddev for each variable at every time step\n",
    "\n",
    "And we can \"fix\" the shape by transforming back to a matrix"
   ]
  },
  {
   "cell_type": "code",
   "execution_count": null,
   "id": "5ebaf0b9-1f07-4bc4-8719-a0c7047e203e",
   "metadata": {},
   "outputs": [],
   "source": [
    "raw_stddev = raw_out.stddev.reshape(-1, l.n_features)\n",
    "raw_mean = raw_out.mean.reshape(-1, l.n_features)"
   ]
  },
  {
   "cell_type": "code",
   "execution_count": null,
   "id": "a07d9468-642a-4c7e-b40f-203680003159",
   "metadata": {},
   "outputs": [
    {
     "data": {
      "text/plain": [
       "tensor([[0.0284, 0.0148, 0.0193],\n",
       "        [0.0279, 0.0138, 0.0186],\n",
       "        [0.0277, 0.0134, 0.0183],\n",
       "        [0.0277, 0.0134, 0.0183],\n",
       "        [0.0279, 0.0138, 0.0186],\n",
       "        [0.0284, 0.0147, 0.0193]], grad_fn=<ReshapeAliasBackward0>)"
      ]
     },
     "execution_count": null,
     "metadata": {},
     "output_type": "execute_result"
    }
   ],
   "source": [
    "raw_stddev"
   ]
  },
  {
   "cell_type": "code",
   "execution_count": null,
   "id": "47b23a4c-2da7-4bda-887c-29ef751600b6",
   "metadata": {},
   "outputs": [],
   "source": [
    "#| export\n",
    "NormParam = namedtuple(\"NormalParameters\", [\"mean\", \"std\"])"
   ]
  },
  {
   "cell_type": "markdown",
   "id": "9426d969-63e0-4a38-a020-eb17701b1364",
   "metadata": {},
   "source": [
    "This function transforms the raw output of the Gaussian Process (`p(X)`) into a prediction that can be used.\n",
    "need to do two things:\n",
    "\n",
    "- take mean and stddev (this is the diagonal of the covariance matrix) for each variable\n",
    "- reshape so that each row is a time step and each column a variable\n",
    "- reverse the normalization\n",
    "\n",
    "the mean and the std are passed individually because in the conditional predictions is not possible to have the whole covariance matrix (and thus a MultiNormal) but the mean and stddev are enough."
   ]
  },
  {
   "cell_type": "code",
   "execution_count": null,
   "id": "95c88c0d-5844-485c-8287-7411e351ece0",
   "metadata": {},
   "outputs": [],
   "source": [
    "#|export\n",
    "@torch.no_grad() # needed because raw output still has gradients attached\n",
    "@patch\n",
    "def prediction_from_raw(self: GPFALearner, raw_mean, raw_std):\n",
    "    \"\"\" Takes a raw prediction and produces and final prediction, by reshaping and reversing normalization\"\"\"\n",
    "    raw_std = raw_std.reshape(-1, self.n_features)\n",
    "    raw_mean = raw_mean.reshape(-1, self.n_features)\n",
    "    \n",
    "    pred_mean = self.norm.inverse_transform(raw_mean)\n",
    "    pred_std = self.norm.inverse_transform_std(raw_std)\n",
    "    \n",
    "    #remove pytorch gradients\n",
    "    return NormParam(pred_mean.detach(), pred_std.detach())"
   ]
  },
  {
   "cell_type": "code",
   "execution_count": null,
   "id": "da3af212-6cd8-4e60-8648-7562469bb7b9",
   "metadata": {},
   "outputs": [],
   "source": [
    "# TODO document this function better"
   ]
  },
  {
   "cell_type": "code",
   "execution_count": null,
   "id": "7d04c2f8-7d02-4ada-8b4b-d98cf29d9b3b",
   "metadata": {},
   "outputs": [],
   "source": [
    "@patch\n",
    "def predict(self: GPFALearner, T):\n",
    "    pred_raw = self.predict_raw(T)\n",
    "    return self.prediction_from_raw(pred_raw.mean, pred_raw.stddev)"
   ]
  },
  {
   "cell_type": "code",
   "execution_count": null,
   "id": "46eea5e6-89a6-4a71-bf56-e8fce29eab54",
   "metadata": {},
   "outputs": [
    {
     "data": {
      "text/plain": [
       "NormalParameters(mean=tensor([[-0.5417, -0.0635,  0.4033],\n",
       "        [ 3.0714,  4.0467,  5.0139],\n",
       "        [ 8.2941,  9.9889, 11.6774],\n",
       "        [15.3474, 18.0108, 20.6732],\n",
       "        [24.2270, 28.1071, 31.9975],\n",
       "        [34.6030, 39.9107, 45.2332]]), std=tensor([[0.3796, 0.2245, 0.3295],\n",
       "        [0.3730, 0.2095, 0.3169],\n",
       "        [0.3705, 0.2033, 0.3116],\n",
       "        [0.3703, 0.2033, 0.3113],\n",
       "        [0.3729, 0.2092, 0.3166],\n",
       "        [0.3797, 0.2243, 0.3295]]))"
      ]
     },
     "execution_count": null,
     "metadata": {},
     "output_type": "execute_result"
    }
   ],
   "source": [
    "l.predict(T)"
   ]
  },
  {
   "cell_type": "code",
   "execution_count": null,
   "id": "c0784d70-8220-4372-99e9-485647e68c29",
   "metadata": {},
   "outputs": [],
   "source": [
    "pred = l.predict(T)"
   ]
  },
  {
   "cell_type": "code",
   "execution_count": null,
   "id": "e977b09d-703f-4152-ad05-78273a6d750e",
   "metadata": {},
   "outputs": [
    {
     "data": {
      "text/plain": [
       "torch.Size([6, 3])"
      ]
     },
     "execution_count": null,
     "metadata": {},
     "output_type": "execute_result"
    }
   ],
   "source": [
    "pred.mean.shape"
   ]
  },
  {
   "cell_type": "code",
   "execution_count": null,
   "id": "01055e42-da8f-481d-9f62-2f8e83987adb",
   "metadata": {},
   "outputs": [
    {
     "data": {
      "text/plain": [
       "torch.Size([6, 3])"
      ]
     },
     "execution_count": null,
     "metadata": {},
     "output_type": "execute_result"
    }
   ],
   "source": [
    "pred.std.shape"
   ]
  },
  {
   "cell_type": "markdown",
   "id": "0965c418-ca0f-40d9-a53a-fecb5fd3bb68",
   "metadata": {},
   "source": [
    "### Check learning is working"
   ]
  },
  {
   "cell_type": "markdown",
   "id": "cb33da4a-ca64-489d-bddc-eff1bdef3dbc",
   "metadata": {},
   "source": [
    "The idea is to use the current model to generate a dataset, that can be for sure modelled using a GPFA (because is the output of GPFA) and then train another model and see if the parameters converge"
   ]
  },
  {
   "cell_type": "code",
   "execution_count": null,
   "id": "a7530f0b-ba2c-409b-ac15-04dde1ec9213",
   "metadata": {},
   "outputs": [],
   "source": [
    "# create a dummy GPFA with 3 features\n",
    "Lt = GPFALearner(X)"
   ]
  },
  {
   "cell_type": "code",
   "execution_count": null,
   "id": "919c72f6-6073-4451-ac94-becc940978e1",
   "metadata": {},
   "outputs": [],
   "source": [
    "test_params = {\n",
    "   \"Lambda\": torch.tensor([-1, 0.3, .8]).reshape(Lt.n_features, -1),\n",
    "   \"psi\": torch.tensor([1e-5, 5e-5, 2e-5]),\n",
    "}"
   ]
  },
  {
   "cell_type": "code",
   "execution_count": null,
   "id": "75348565-ae93-442e-926e-882619bf3c06",
   "metadata": {},
   "outputs": [
    {
     "data": {
      "text/plain": [
       "GPFAKernel(\n",
       "  (latent_kernels): ModuleList(\n",
       "    (0): RBFKernel(\n",
       "      (raw_lengthscale_constraint): Positive()\n",
       "    )\n",
       "  )\n",
       "  (raw_psi_diag_constraint): Positive()\n",
       ")"
      ]
     },
     "execution_count": null,
     "metadata": {},
     "output_type": "execute_result"
    }
   ],
   "source": [
    "Lt.model.covar_module.initialize(**test_params)"
   ]
  },
  {
   "cell_type": "code",
   "execution_count": null,
   "id": "c2b175f2-ef55-4240-8ccb-87adfbb67de6",
   "metadata": {},
   "outputs": [
    {
     "data": {
      "text/plain": [
       "RBFKernel(\n",
       "  (raw_lengthscale_constraint): Positive()\n",
       ")"
      ]
     },
     "execution_count": null,
     "metadata": {},
     "output_type": "execute_result"
    }
   ],
   "source": [
    "Lt.model.covar_module.latent_kernels[0].initialize(lengthscale = torch.tensor(5))"
   ]
  },
  {
   "cell_type": "code",
   "execution_count": null,
   "id": "0fa81d68-083b-4904-b54f-2768078945d8",
   "metadata": {},
   "outputs": [],
   "source": [
    "target_X = Lt.predict(T).mean"
   ]
  },
  {
   "cell_type": "code",
   "execution_count": null,
   "id": "5665123d-a870-42f2-8f19-a82caae617da",
   "metadata": {},
   "outputs": [],
   "source": [
    "l2 = GPFALearner(target_X)"
   ]
  },
  {
   "cell_type": "code",
   "execution_count": null,
   "id": "8fba72dc-5a1a-4955-826c-88d574196996",
   "metadata": {},
   "outputs": [
    {
     "data": {
      "application/vnd.jupyter.widget-view+json": {
       "model_id": "0fc0c82f429046aa9b5f0011c8c00d1a",
       "version_major": 2,
       "version_minor": 0
      },
      "text/plain": [
       "  0%|          | 0/100 [00:00<?, ?it/s]"
      ]
     },
     "metadata": {},
     "output_type": "display_data"
    }
   ],
   "source": [
    "l2.train()"
   ]
  },
  {
   "cell_type": "code",
   "execution_count": null,
   "id": "18af534f-0c2b-4024-bd28-61ca0c3ac004",
   "metadata": {},
   "outputs": [
    {
     "name": "stderr",
     "output_type": "stream",
     "text": [
      "/home/simone/anaconda3/envs/data-science/lib/python3.10/site-packages/gpytorch/models/exact_gp.py:273: GPInputWarning: The input matches the stored training data. Did you forget to call model.train()?\n",
      "  warnings.warn(\n"
     ]
    },
    {
     "data": {
      "text/plain": [
       "tensor([[ 0.0058,  0.0006,  0.0034],\n",
       "        [ 0.0033,  0.0005,  0.0025],\n",
       "        [ 0.0011,  0.0002,  0.0008],\n",
       "        [-0.0011, -0.0002, -0.0010],\n",
       "        [-0.0034, -0.0005, -0.0025],\n",
       "        [-0.0056, -0.0006, -0.0033]])"
      ]
     },
     "execution_count": null,
     "metadata": {},
     "output_type": "execute_result"
    }
   ],
   "source": [
    "l2.predict(T).mean - target_X"
   ]
  },
  {
   "cell_type": "markdown",
   "id": "2e62c4f0-39e9-4f57-bcc8-3bbdda35b175",
   "metadata": {},
   "source": [
    "they seems pretty small numbers, so the model is working! "
   ]
  },
  {
   "cell_type": "code",
   "execution_count": null,
   "id": "cd9aab33-6ea7-4c07-8de1-50c136763970",
   "metadata": {},
   "outputs": [
    {
     "name": "stdout",
     "output_type": "stream",
     "text": [
      "Lambda:\n",
      " tensor([[-1.6212],\n",
      "        [ 1.6023],\n",
      "        [ 1.5982]])\n",
      "psi:  tensor([4.9890e-05, 3.7080e-05, 3.7402e-05])\n",
      "lengthscale: 5.521887302398682\n"
     ]
    }
   ],
   "source": [
    "print(\"Lambda:\\n\", l2.model.covar_module.Lambda.detach())\n",
    "\n",
    "print(\"psi: \", l2.model.covar_module.psi.detach())\n",
    "\n",
    "print(\"lengthscale:\", l2.model.covar_module.latent_kernels[0].lengthscale.item())"
   ]
  },
  {
   "cell_type": "markdown",
   "id": "a993e091-eb29-42a7-8c8e-3050b6189d92",
   "metadata": {},
   "source": [
    "### Conditional Predictions"
   ]
  },
  {
   "cell_type": "markdown",
   "id": "ba4e3b7f-95e1-4624-958b-082abc5f4593",
   "metadata": {},
   "source": [
    "This add the supports for conditional predictions, which means that at the time (t) when we are making the predictions some of the variables have been actually observed. Since the model prediction is a normal distribution we can condition on the observed values and thus improve the predictions."
   ]
  },
  {
   "cell_type": "markdown",
   "id": "cf8b5f7f-2541-4750-8740-3bf244d88ced",
   "metadata": {},
   "source": [
    "Therefore we need to compute the conditional distribution of a normal ^[https://cs.nyu.edu/~roweis/notes/gaussid.pdf eq, 5a, 5d]\n",
    "\n",
    "$$ X = \\left[\\begin{array}{c} x \\\\ o \\end{array} \\right] $$\n",
    "\n",
    "$$ p(X) = N\\left(\\left[ \\begin{array}{c} \\mu_x \\\\ \\mu_o \\end{array} \\right], \\left[\\begin{array}{cc} \\Sigma_{xx} & \\Sigma_{xo} \\\\ \\Sigma_{ox} & \\Sigma_{oo} \\end{array} \\right]\\right)$$\n",
    "\n",
    "where $X$ is a vector of variable that need to predicted and $o$ is a vector of the variables that have been observed\n",
    "\n",
    "The mean is in \"flat format\", where all the features from one time step are next to each other followed by the features of the next time step.\n",
    "\n",
    "then \n",
    "\n",
    "$$p(x|o) = N(\\mu_x + \\Sigma_{xo}\\Sigma_{oo}^{-1}(o - \\mu_o), \\Sigma_{xx} - \\Sigma_{xo}\\Sigma_{oo}^{-1}\\Sigma_{ox})$$"
   ]
  },
  {
   "cell_type": "code",
   "execution_count": null,
   "id": "2cd1908b-6c88-48e0-b555-2d36d4a04fff",
   "metadata": {},
   "outputs": [],
   "source": [
    "#|exporti\n",
    "def conditional_guassian(gauss: MultivariateNormal,\n",
    "                         obs,\n",
    "                         idx # Boolean tensor specifying for each variable is observed (True) or not (False)\n",
    "                        ):\n",
    "    μ = gauss.mean\n",
    "    Σ = gauss.covariance_matrix\n",
    "    # check idx same size of mu\n",
    "    μ_x = μ[~idx]\n",
    "    μ_o = μ[idx]\n",
    "    \n",
    "    Σ_xx = Σ[~idx,:][:, ~idx]\n",
    "    Σ_xo = Σ[~idx,:][:, idx]\n",
    "    Σ_ox = Σ[idx,:][:, ~idx]\n",
    "    Σ_oo = Σ[idx,:][:, idx]\n",
    "    \n",
    "    Σ_oo_inv = torch.linalg.inv(Σ_oo)\n",
    "    \n",
    "    mean = μ_x + Σ_xo@Σ_oo_inv@(obs - μ_o)\n",
    "    cov = Σ_xx - Σ_xo@Σ_oo_inv@Σ_ox\n",
    "    \n",
    "    return MultivariateNormal(mean, cov)\n",
    "    "
   ]
  },
  {
   "cell_type": "code",
   "execution_count": null,
   "id": "19daec27-87a1-4ba7-92dc-b9236c08f579",
   "metadata": {},
   "outputs": [],
   "source": [
    "# example distribution with only 2 variables\n",
    "μ = torch.tensor([.5, 1.])\n",
    "Σ = torch.tensor([[1., .5], [.5 ,1.]])\n",
    "\n",
    "gauss = MultivariateNormal(μ, Σ)\n",
    "\n",
    "idx = torch.tensor([True, False]) # second variable is the observed one\n",
    "\n",
    "obs = torch.tensor(5.) # value of second variable\n",
    "\n",
    "gauss_cond = conditional_guassian(gauss, obs, idx)\n",
    "\n",
    "# hardcoded values to test that the code is working, see also for alternative implementation https://python.quantecon.org/multivariate_normal.html\n",
    "test_close(3.25, gauss_cond.mean.item())\n",
    "test_close(.75, gauss_cond.covariance_matrix.item())"
   ]
  },
  {
   "cell_type": "markdown",
   "id": "c4d34213-7009-4609-b27e-c7afccf62c9a",
   "metadata": {},
   "source": [
    "Test with multiple variables?"
   ]
  },
  {
   "cell_type": "markdown",
   "id": "7b744875-96dc-44a9-b5fe-11d49711169f",
   "metadata": {},
   "source": [
    "overwrite the predict method to add support for conditional predictions"
   ]
  },
  {
   "cell_type": "markdown",
   "id": "7d2597e5-07a8-48bc-a7db-1db22ad62f65",
   "metadata": {},
   "source": [
    "Need to have the mean and std for both the conditional predictions and the observations, with the same shape and order of the complete prediction. "
   ]
  },
  {
   "cell_type": "code",
   "execution_count": null,
   "id": "8e861ab7-d218-4981-bbbd-cf89da85b679",
   "metadata": {},
   "outputs": [],
   "source": [
    "#|exporti\n",
    "def _merge_raw_cond_pred(pred_raw,\n",
    "                         pred_cond,\n",
    "                         obs,\n",
    "                         idx\n",
    "                        ) -> NormParam:\n",
    "    \"\"\"This functions merges a complete predition with a conditional prediction and the observations.\n",
    "    For the observations the std is considered to be 0 \"\"\"\n",
    "    mean = torch.zeros_like(pred_raw.mean) # get shape from complete prediction\n",
    "    mean[~idx] = pred_cond.mean # add predictions\n",
    "    mean[idx] = obs # add observations\n",
    "    \n",
    "    std = torch.zeros_like(pred_raw.stddev)\n",
    "    std[~idx] = pred_cond.stddev\n",
    "    std[idx] = 0 # uncertainty of an oberservation doesn't make sense\n",
    "    \n",
    "    return NormParam(mean, std)"
   ]
  },
  {
   "cell_type": "code",
   "execution_count": null,
   "id": "96025e7d-884f-487c-af6b-cdb0a407a5a5",
   "metadata": {},
   "outputs": [
    {
     "data": {
      "text/plain": [
       "tensor([[0.7500]])"
      ]
     },
     "execution_count": null,
     "metadata": {},
     "output_type": "execute_result"
    }
   ],
   "source": [
    "gauss_cond.covariance_matrix"
   ]
  },
  {
   "cell_type": "code",
   "execution_count": null,
   "id": "3d21aecd-c9f0-4fff-8d63-9b5b4a858b5b",
   "metadata": {},
   "outputs": [
    {
     "data": {
      "text/plain": [
       "NormalParameters(mean=tensor([5.0000, 3.2500]), std=tensor([0.0000, 0.8660]))"
      ]
     },
     "execution_count": null,
     "metadata": {},
     "output_type": "execute_result"
    }
   ],
   "source": [
    "merge_pred = _merge_raw_cond_pred(gauss, gauss_cond, obs, idx)\n",
    "merge_pred"
   ]
  },
  {
   "cell_type": "code",
   "execution_count": null,
   "id": "c0d8eb3f-0753-47fc-88eb-a8771f68a7f3",
   "metadata": {},
   "outputs": [],
   "source": [
    "# manually calculated\n",
    "test_close(merge_pred.mean, torch.tensor([5., 3.25]))\n",
    "test_close(merge_pred.std, torch.tensor([0., math.sqrt(.75)]))"
   ]
  },
  {
   "cell_type": "markdown",
   "id": "1684b1e5-1d80-4657-b95f-cb1a1d020547",
   "metadata": {},
   "source": [
    "The problem is that the mean and the std for normalization are different for each feature, so in order to have the normalization working it is necessary to give the observations as a 2D array and not like a 1D array (like required by the model)"
   ]
  },
  {
   "cell_type": "code",
   "execution_count": null,
   "id": "9802e75a-af1e-4331-9d46-9d4da85d57a7",
   "metadata": {},
   "outputs": [],
   "source": [
    "#|export\n",
    "@patch\n",
    "def _standard_obs(self: GPFALearner,\n",
    "                   obs, # (n_obs)\n",
    "                   idx\n",
    "                  ) -> Tensor: # (n_obs)\n",
    "    \"\"\" reshape the observations so they can scaled to standard mean/std\"\"\"\n",
    "    obs_compl = torch.zeros_like(idx, dtype=obs.dtype)\n",
    "    obs_compl[idx] = obs\n",
    "    obs_compl = obs_compl.reshape(-1, self.n_features)\n",
    "    obs_norm = self.norm.transform(obs_compl)\n",
    "    return obs_norm.reshape(-1)[idx]"
   ]
  },
  {
   "cell_type": "code",
   "execution_count": null,
   "id": "4fefac69-603a-4437-9f0d-dbd9cf4eeed4",
   "metadata": {},
   "outputs": [],
   "source": [
    "T_pred = torch.tensor([6, 7])"
   ]
  },
  {
   "cell_type": "code",
   "execution_count": null,
   "id": "c89656a8-cfa1-47e0-ba69-8a29974f9cee",
   "metadata": {},
   "outputs": [
    {
     "data": {
      "text/plain": [
       "NormalParameters(mean=tensor([[45.8037, 52.6492, 59.5189],\n",
       "        [56.8583, 65.2222, 73.6200]]), std=tensor([[0.6374, 0.6243, 0.7313],\n",
       "        [1.5561, 1.7313, 1.9531]]))"
      ]
     },
     "execution_count": null,
     "metadata": {},
     "output_type": "execute_result"
    }
   ],
   "source": [
    "l.predict(T_pred)"
   ]
  },
  {
   "cell_type": "code",
   "execution_count": null,
   "id": "e7b248fd-4dad-4418-a229-6e7c04318eb8",
   "metadata": {},
   "outputs": [],
   "source": [
    "idx = torch.zeros(T_pred.shape[0] * X.shape[1], dtype=torch.bool)\n",
    "# simulate an observation using sensible numbers from the prediction\n",
    "idx[[0,2]] = torch.tensor([True, True])\n",
    "obs = torch.tensor([42., 61.])"
   ]
  },
  {
   "cell_type": "code",
   "execution_count": null,
   "id": "a03dbc7e-3c5d-4eca-b0b2-5cad6e80677c",
   "metadata": {},
   "outputs": [
    {
     "data": {
      "text/plain": [
       "tensor([2.0806, 2.4525])"
      ]
     },
     "execution_count": null,
     "metadata": {},
     "output_type": "execute_result"
    }
   ],
   "source": [
    "l._standard_obs(obs, idx)"
   ]
  },
  {
   "cell_type": "code",
   "execution_count": null,
   "id": "027f682d-b2fb-4a78-8b22-b25847af47b5",
   "metadata": {},
   "outputs": [],
   "source": [
    "#|export\n",
    "@patch\n",
    "def predict(self: GPFALearner,\n",
    "            T: Tensor, # (n_pred) time where prediction is needed\n",
    "            # (n_obs_pred) Optional - if at the times of the prediction there are some observations\n",
    "            # array with the values of observations to condition distribution\n",
    "            obs: Tensor = None,\n",
    "            # ((n_pred*n_features)) Optional - necessary if obs are present\n",
    "            # Boolean array that is True where an observation is present and False where a prediction is needed\n",
    "            # This is a 1D array with the length equal to n_pred (number time steps to predict) times n_features\n",
    "            idx: Tensor = None\n",
    "           ):\n",
    "    pred_raw = self.predict_raw(T)\n",
    "    \n",
    "    # Conditional observations\n",
    "    if obs is not None and idx is not None:\n",
    "        # observations needs to be standardized before can be used with the raw prediction!\n",
    "        obs_norm = self._standard_obs(obs, idx)\n",
    "        pred_cond = conditional_guassian(pred_raw, obs_norm, idx)\n",
    "\n",
    "        pred_merge = _merge_raw_cond_pred(pred_raw, pred_cond, obs_norm, idx)\n",
    "    else:\n",
    "        pred_merge = NormParam(pred_raw.mean, pred_raw.stddev)\n",
    "    \n",
    "    return self.prediction_from_raw(pred_merge.mean, pred_merge.std)"
   ]
  },
  {
   "cell_type": "code",
   "execution_count": null,
   "id": "0dac9235-f902-4a97-bc3d-dd4b271e917f",
   "metadata": {},
   "outputs": [
    {
     "data": {
      "text/plain": [
       "tensor([2.0806, 2.4525])"
      ]
     },
     "execution_count": null,
     "metadata": {},
     "output_type": "execute_result"
    }
   ],
   "source": [
    "l._standard_obs(obs, idx)"
   ]
  },
  {
   "cell_type": "code",
   "execution_count": null,
   "id": "0d1c81fb-daa9-499e-9feb-cc929c7351ef",
   "metadata": {},
   "outputs": [
    {
     "data": {
      "text/plain": [
       "tensor([42., 61.])"
      ]
     },
     "execution_count": null,
     "metadata": {},
     "output_type": "execute_result"
    }
   ],
   "source": [
    "obs"
   ]
  },
  {
   "cell_type": "code",
   "execution_count": null,
   "id": "855a7c5e-6112-44af-b831-6f936937415b",
   "metadata": {},
   "outputs": [
    {
     "data": {
      "text/plain": [
       "tensor([2.3649, 2.3651, 2.3656, 3.1912, 3.1915, 3.1923],\n",
       "       grad_fn=<ViewBackward0>)"
      ]
     },
     "execution_count": null,
     "metadata": {},
     "output_type": "execute_result"
    }
   ],
   "source": [
    "l.predict_raw(T_pred).mean"
   ]
  },
  {
   "cell_type": "code",
   "execution_count": null,
   "id": "09ce783e-bfaa-4eae-8ceb-205f1490f120",
   "metadata": {},
   "outputs": [
    {
     "data": {
      "text/plain": [
       "NormalParameters(mean=tensor([[42.0000, 52.3809, 61.0000],\n",
       "        [56.2001, 64.4710, 72.7773]]), std=tensor([[0.0000, 0.2729, 0.0000],\n",
       "        [0.7405, 0.7571, 0.8751]]))"
      ]
     },
     "execution_count": null,
     "metadata": {},
     "output_type": "execute_result"
    }
   ],
   "source": [
    "l.predict(T_pred, obs, idx)"
   ]
  },
  {
   "cell_type": "code",
   "execution_count": null,
   "id": "14080b5c-fae8-435c-8a6f-e359511207eb",
   "metadata": {},
   "outputs": [
    {
     "data": {
      "text/plain": [
       "NormalParameters(mean=tensor([[45.8037, 52.6492, 59.5189],\n",
       "        [56.8583, 65.2222, 73.6200]]), std=tensor([[0.6374, 0.6243, 0.7313],\n",
       "        [1.5561, 1.7313, 1.9531]]))"
      ]
     },
     "execution_count": null,
     "metadata": {},
     "output_type": "execute_result"
    }
   ],
   "source": [
    "l.predict(T_pred)"
   ]
  },
  {
   "cell_type": "markdown",
   "id": "b0787ebc-b4c3-4d8c-8e7b-6266b26ed2a7",
   "metadata": {},
   "source": [
    "There is a small change in the predicted values after conditioning as you would expect"
   ]
  },
  {
   "cell_type": "markdown",
   "id": "6172add9-1b1a-4f0b-b6b6-9317b65dcf9c",
   "metadata": {},
   "source": [
    "## GPU Support\n",
    "\n",
    "add support for CUDA to model"
   ]
  },
  {
   "cell_type": "code",
   "execution_count": null,
   "id": "13767083-2ed1-4070-bc76-5592528ddea8",
   "metadata": {},
   "outputs": [],
   "source": [
    "# l for learner\n",
    "l_cuda = GPFALearner(X.cuda())"
   ]
  },
  {
   "cell_type": "markdown",
   "id": "9d747c48-67dd-4057-8538-a749afc5b959",
   "metadata": {},
   "source": [
    "Attrs of interest are:\n",
    "\n",
    "- T\n",
    "- X\n",
    "- likelihood\n",
    "- model\n",
    "- norm"
   ]
  },
  {
   "cell_type": "markdown",
   "id": "9e828288-f3f7-463b-adad-6bce1c7ddba3",
   "metadata": {},
   "source": [
    "`cuda()` modifies in place the tensors and the modules!"
   ]
  },
  {
   "cell_type": "code",
   "execution_count": null,
   "id": "5af515f2-c73f-4638-b299-11a71030f540",
   "metadata": {},
   "outputs": [
    {
     "data": {
      "text/plain": [
       "tensor([0, 1, 2, 3, 4, 5], device='cuda:0')"
      ]
     },
     "execution_count": null,
     "metadata": {},
     "output_type": "execute_result"
    }
   ],
   "source": [
    "l_cuda.T.cuda()"
   ]
  },
  {
   "cell_type": "code",
   "execution_count": null,
   "id": "7f65f554-a487-4d6c-bf2f-a8d2ae54582f",
   "metadata": {},
   "outputs": [
    {
     "data": {
      "text/plain": [
       "device(type='cuda', index=0)"
      ]
     },
     "execution_count": null,
     "metadata": {},
     "output_type": "execute_result"
    }
   ],
   "source": [
    "l_cuda.T.device"
   ]
  },
  {
   "cell_type": "code",
   "execution_count": null,
   "id": "b5d42968",
   "metadata": {},
   "outputs": [],
   "source": [
    "#| exports\n",
    "@patch\n",
    "def cuda(self: GPFALearner):\n",
    "    \"\"\"Moves all learner to gpu\"\"\"\n",
    "    for par in ['T', 'X', 'model', 'likelihood']:\n",
    "        self.__getattribute__(par).cuda()\n",
    "    self.norm.x_mean.cuda()\n",
    "    self.norm.x_std.cuda()"
   ]
  },
  {
   "cell_type": "code",
   "execution_count": null,
   "id": "8fef0e14",
   "metadata": {},
   "outputs": [],
   "source": [
    "l_cuda.cuda()"
   ]
  },
  {
   "cell_type": "markdown",
   "id": "69294c76",
   "metadata": {},
   "source": [
    "parameters are on the gpu!"
   ]
  },
  {
   "cell_type": "code",
   "execution_count": null,
   "id": "096c9730",
   "metadata": {},
   "outputs": [
    {
     "data": {
      "text/plain": [
       "device(type='cuda', index=0)"
      ]
     },
     "execution_count": null,
     "metadata": {},
     "output_type": "execute_result"
    }
   ],
   "source": [
    "next(l_cuda.likelihood.parameters()).device"
   ]
  },
  {
   "cell_type": "code",
   "execution_count": null,
   "id": "b36d9b9e",
   "metadata": {},
   "outputs": [
    {
     "data": {
      "text/plain": [
       "MultivariateNormal(loc: tensor([0.], device='cuda:0'), covariance_matrix: tensor([[1.]], device='cuda:0'))"
      ]
     },
     "execution_count": null,
     "metadata": {},
     "output_type": "execute_result"
    }
   ],
   "source": [
    "gpytorch.distributions.MultivariateNormal(torch.zeros(1).cuda(), torch.ones(1, 1).cuda())"
   ]
  },
  {
   "cell_type": "code",
   "execution_count": null,
   "id": "9a904f7d",
   "metadata": {},
   "outputs": [
    {
     "data": {
      "text/plain": [
       "device(type='cuda', index=0)"
      ]
     },
     "execution_count": null,
     "metadata": {},
     "output_type": "execute_result"
    }
   ],
   "source": [
    "l_cuda.model.covar_module.latent_kernels[0].lengthscale.device"
   ]
  },
  {
   "cell_type": "code",
   "execution_count": null,
   "id": "247c12d6",
   "metadata": {},
   "outputs": [
    {
     "data": {
      "application/vnd.jupyter.widget-view+json": {
       "model_id": "38b06b6fe8674c83af6766bb516770a0",
       "version_major": 2,
       "version_minor": 0
      },
      "text/plain": [
       "  0%|          | 0/100 [00:00<?, ?it/s]"
      ]
     },
     "metadata": {},
     "output_type": "display_data"
    }
   ],
   "source": [
    "l_cuda.train()"
   ]
  },
  {
   "cell_type": "markdown",
   "id": "dc611389-cd28-4641-be52-1295245afe34",
   "metadata": {},
   "source": [
    "## Multi-dimensional latent"
   ]
  },
  {
   "cell_type": "code",
   "execution_count": null,
   "id": "958709b0-fc08-4af3-961a-e27267415d6c",
   "metadata": {},
   "outputs": [],
   "source": [
    "l2 = GPFALearner(X, T, latent_dims=2) "
   ]
  },
  {
   "cell_type": "code",
   "execution_count": null,
   "id": "c7c26ca3-1841-4f1b-98ed-6adfa1906a9e",
   "metadata": {},
   "outputs": [
    {
     "data": {
      "application/vnd.jupyter.widget-view+json": {
       "model_id": "b6cd49e45dc144b49f40f67c22878b67",
       "version_major": 2,
       "version_minor": 0
      },
      "text/plain": [
       "  0%|          | 0/100 [00:00<?, ?it/s]"
      ]
     },
     "metadata": {},
     "output_type": "display_data"
    }
   ],
   "source": [
    "l2.train()"
   ]
  },
  {
   "cell_type": "code",
   "execution_count": null,
   "id": "cae8a96a-48e6-4038-800d-d239d4572b33",
   "metadata": {},
   "outputs": [
    {
     "data": {
      "text/plain": [
       "[<matplotlib.lines.Line2D>]"
      ]
     },
     "execution_count": null,
     "metadata": {},
     "output_type": "execute_result"
    },
    {
     "data": {
      "image/png": "[encoded data removed]",
      "text/plain": [
       "<Figure size 432x288 with 1 Axes>"
      ]
     },
     "metadata": {
      "needs_background": "light"
     },
     "output_type": "display_data"
    }
   ],
   "source": [
    "plt.plot(l2.losses)"
   ]
  },
  {
   "cell_type": "code",
   "execution_count": null,
   "id": "ea45b0d5-56d2-4b6f-a79b-c04230e2b5bc",
   "metadata": {},
   "outputs": [
    {
     "data": {
      "text/plain": [
       "Parameter containing:\n",
       "tensor([[1.6626, 1.0702],\n",
       "        [1.5197, 1.1574],\n",
       "        [1.3999, 1.2026]], requires_grad=True)"
      ]
     },
     "execution_count": null,
     "metadata": {},
     "output_type": "execute_result"
    }
   ],
   "source": [
    "l2.model.covar_module.Lambda"
   ]
  },
  {
   "cell_type": "markdown",
   "id": "854d213f-7b0e-409c-8521-5c861bd66281",
   "metadata": {},
   "source": [
    "## Saving\n",
    "\n",
    "load and save models parameters"
   ]
  },
  {
   "cell_type": "code",
   "execution_count": null,
   "id": "d80cff5f-a392-4df4-8c7d-905e809a9188",
   "metadata": {},
   "outputs": [],
   "source": [
    "#| export\n",
    "@patch\n",
    "def save(self: GPFALearner, path: Path|str):\n",
    "    model_state = self.model.state_dict()\n",
    "    ll_state = self.likelihood.state_dict()\n",
    "    torch.save((model_state, ll_state), path)\n",
    "@patch\n",
    "def load(self: GPFALearner, path: Path|str):\n",
    "    model_state, ll_state = torch.load(path)\n",
    "    self.model.load_state_dict(model_state)\n",
    "    self.likelihood.load_state_dict(ll_state)"
   ]
  },
  {
   "cell_type": "code",
   "execution_count": null,
   "id": "4d59d1d8-226a-41dc-9634-b4d1ad7690bd",
   "metadata": {},
   "outputs": [],
   "source": [
    "from tempfile import tempdir"
   ]
  },
  {
   "cell_type": "code",
   "execution_count": null,
   "id": "e3af6084-fcab-4fb5-9ac4-42067e6c3bd6",
   "metadata": {},
   "outputs": [],
   "source": [
    "p = Path(tempdir) / \"model_test.pickle\""
   ]
  },
  {
   "cell_type": "code",
   "execution_count": null,
   "id": "a3f0c5c7-a4ad-42f2-96f5-5577ca64c5d4",
   "metadata": {},
   "outputs": [],
   "source": [
    "l.save(p)"
   ]
  },
  {
   "cell_type": "code",
   "execution_count": null,
   "id": "f7134d69-7a2c-4036-ad74-00c5a234372c",
   "metadata": {},
   "outputs": [
    {
     "data": {
      "text/plain": [
       "OrderedDict([('likelihood.noise_covar.raw_noise', tensor([0.])),\n",
       "             ('likelihood.noise_covar.raw_noise_constraint.lower_bound',\n",
       "              tensor(1.0000e-04)),\n",
       "             ('likelihood.noise_covar.raw_noise_constraint.upper_bound',\n",
       "              tensor(inf)),\n",
       "             ('covar_module.Lambda',\n",
       "              tensor([[0.6782],\n",
       "                      [0.2307],\n",
       "                      [0.7072]])),\n",
       "             ('covar_module.raw_psi_diag', tensor([0., 0., 0.])),\n",
       "             ('covar_module.latent_kernels.0.raw_lengthscale', tensor([[0.]])),\n",
       "             ('covar_module.latent_kernels.0.raw_lengthscale_constraint.lower_bound',\n",
       "              tensor(0.)),\n",
       "             ('covar_module.latent_kernels.0.raw_lengthscale_constraint.upper_bound',\n",
       "              tensor(inf)),\n",
       "             ('covar_module.raw_psi_diag_constraint.lower_bound', tensor(0.)),\n",
       "             ('covar_module.raw_psi_diag_constraint.upper_bound',\n",
       "              tensor(inf))])"
      ]
     },
     "execution_count": null,
     "metadata": {},
     "output_type": "execute_result"
    }
   ],
   "source": [
    "nl = GPFALearner(X)\n",
    "nl.model.state_dict()"
   ]
  },
  {
   "cell_type": "code",
   "execution_count": null,
   "id": "b25ee794-4221-452e-89c3-e7d9b71a97d4",
   "metadata": {},
   "outputs": [
    {
     "data": {
      "text/plain": [
       "OrderedDict([('likelihood.noise_covar.raw_noise', tensor([-10.4628])),\n",
       "             ('likelihood.noise_covar.raw_noise_constraint.lower_bound',\n",
       "              tensor(1.0000e-04)),\n",
       "             ('likelihood.noise_covar.raw_noise_constraint.upper_bound',\n",
       "              tensor(inf)),\n",
       "             ('covar_module.Lambda',\n",
       "              tensor([[2.2274],\n",
       "                      [2.2276],\n",
       "                      [2.2281]])),\n",
       "             ('covar_module.raw_psi_diag',\n",
       "              tensor([ -7.4228, -11.5954,  -8.7099])),\n",
       "             ('covar_module.latent_kernels.0.raw_lengthscale',\n",
       "              tensor([[5.5376]])),\n",
       "             ('covar_module.latent_kernels.0.raw_lengthscale_constraint.lower_bound',\n",
       "              tensor(0.)),\n",
       "             ('covar_module.latent_kernels.0.raw_lengthscale_constraint.upper_bound',\n",
       "              tensor(inf)),\n",
       "             ('covar_module.raw_psi_diag_constraint.lower_bound', tensor(0.)),\n",
       "             ('covar_module.raw_psi_diag_constraint.upper_bound',\n",
       "              tensor(inf))])"
      ]
     },
     "execution_count": null,
     "metadata": {},
     "output_type": "execute_result"
    }
   ],
   "source": [
    "nl.load(p)\n",
    "nl.model.state_dict()"
   ]
  },
  {
   "cell_type": "markdown",
   "id": "8ad8917c-f327-4230-845f-83c6758e3e7d",
   "metadata": {},
   "source": [
    "## Plot learning progress"
   ]
  },
  {
   "cell_type": "code",
   "execution_count": null,
   "id": "bb47bf2c-da78-416f-8ca5-08f06aba94de",
   "metadata": {},
   "outputs": [],
   "source": [
    "@patch\n",
    "def plot_progress(self: GPFALearner, size={'width': 250, 'height': 120}):\n",
    "    \n",
    "    sel = alt.selection_interval(bind=\"scales\", encodings=['x'])\n",
    "    \n",
    "    plt_losses = alt.Chart(\n",
    "        pd.DataFrame({'loss': self.losses, 'n_iter': range(self.losses.shape[0])})\n",
    "    ).mark_line().encode(\n",
    "        x = 'n_iter',\n",
    "        y = 'loss'\n",
    "    ).properties(title=\"loss\", **size).add_selection(sel)\n",
    "    \n",
    "    out_plot = [plt_losses]\n",
    "    for info_name in self.model_infos[0].keys():\n",
    "        \n",
    "        values = pd.concat([info[info_name].assign(n_iter=i) for i, info in enumerate(self.model_infos)])\n",
    "        \n",
    "        if values.shape[1] == 2:\n",
    "            # only one column so add fake facet\n",
    "            values.insert(0, 'info', info_name)\n",
    "        \n",
    "        facet = values.columns[0] # first column is either latent or variable\n",
    "        \n",
    "        values = values.melt([facet, 'n_iter'], var_name='prop')\n",
    "        \n",
    "        plt = alt.Chart(values).mark_line().encode(\n",
    "            x = 'n_iter',\n",
    "            y = 'value',\n",
    "            color = 'prop',\n",
    "            facet = facet\n",
    "        ).properties(title=info_name, **size).add_selection(sel)\n",
    "        \n",
    "        out_plot.append(plt)\n",
    "    \n",
    "    return alt.VConcatChart(vconcat=out_plot).resolve_scale(\n",
    "        color='independent'\n",
    "    )\n",
    "    "
   ]
  },
  {
   "cell_type": "code",
   "execution_count": null,
   "id": "0af7511d-0e0b-4182-9aee-9127358d3816",
   "metadata": {},
   "outputs": [],
   "source": [
    "#| export\n",
    "@patch\n",
    "def plot_progress(self: GPFALearner, size={'width': 250, 'height': 120}):\n",
    "    \n",
    "    sel = alt.selection_interval(bind=\"scales\", encodings=['x'])\n",
    "    \n",
    "    plt_losses = alt.Chart(\n",
    "        pd.DataFrame({'loss': self.losses, 'n_iter': range(self.losses.shape[0])})\n",
    "    ).mark_line().encode(\n",
    "        x = 'n_iter',\n",
    "        y = 'loss'\n",
    "    ).properties(title=\"loss\", **size).add_selection(sel)\n",
    "    \n",
    "    out_plot = [plt_losses]\n",
    "    for info_name in self.model_infos[0].keys():\n",
    "        \n",
    "        values = pd.concat([info[info_name].assign(n_iter=i) for i, info in enumerate(self.model_infos)])\n",
    "        \n",
    "        if values.shape[1] == 2:\n",
    "            # only one column so add fake facet\n",
    "            values.insert(0, 'info', info_name)\n",
    "        \n",
    "        facet = values.columns[0] # first column is either latent or variable\n",
    "        \n",
    "        values = values.melt([facet, 'n_iter'], var_name='prop')\n",
    "        \n",
    "        plt = alt.Chart(values).mark_line().encode(\n",
    "            x = 'n_iter',\n",
    "            y = 'value',\n",
    "            color = 'prop',\n",
    "            facet = facet\n",
    "        ).properties(title=info_name, **size).add_selection(sel)\n",
    "        \n",
    "        out_plot.append(plt)\n",
    "    \n",
    "    return alt.VConcatChart(vconcat=out_plot).resolve_scale(\n",
    "        color='independent'\n",
    "    )\n",
    "    "
   ]
  },
  {
   "cell_type": "code",
   "execution_count": null,
   "id": "89509c5e-6a83-4497-b6b9-b0183407e290",
   "metadata": {},
   "outputs": [
    {
     "name": "stderr",
     "output_type": "stream",
     "text": [
      "/home/simone/.local/lib/python3.10/site-packages/altair/utils/core.py:317: FutureWarning: iteritems is deprecated and will be removed in a future version. Use .items instead.\n",
      "  for col_name, dtype in df.dtypes.iteritems():\n"
     ]
    },
    {
     "data": {
      "text/html": [
       "\n",
       "<div id=\"altair-viz-23d159748e0040298a74bcd958f89a99\"></div>\n",
       "<script type=\"text/javascript\">\n",
       "  var VEGA_DEBUG = (typeof VEGA_DEBUG == \"undefined\") ? {} : VEGA_DEBUG;\n",
       "  (function(spec, embedOpt){\n",
       "    let outputDiv = document.currentScript.previousElementSibling;\n",
       "    if (outputDiv.id !== \"altair-viz-23d159748e0040298a74bcd958f89a99\") {\n",
       "      outputDiv = document.getElementById(\"altair-viz-23d159748e0040298a74bcd958f89a99\");\n",
       "    }\n",
       "    const paths = {\n",
       "      \"vega\": \"https://cdn.jsdelivr.net/npm//vega@5?noext\",\n",
       "      \"vega-lib\": \"https://cdn.jsdelivr.net/npm//vega-lib?noext\",\n",
       "      \"vega-lite\": \"https://cdn.jsdelivr.net/npm//vega-lite@4.17.0?noext\",\n",
       "      \"vega-embed\": \"https://cdn.jsdelivr.net/npm//vega-embed@6?noext\",\n",
       "    };\n",
       "\n",
       "    function maybeLoadScript(lib, version) {\n",
       "      var key = `${lib.replace(\"-\", \"\")}_version`;\n",
       "      return (VEGA_DEBUG[key] == version) ?\n",
       "        Promise.resolve(paths[lib]) :\n",
       "        new Promise(function(resolve, reject) {\n",
       "          var s = document.createElement('script');\n",
       "          document.getElementsByTagName(\"head\")[0].appendChild(s);\n",
       "          s.async = true;\n",
       "          s.onload = () => {\n",
       "            VEGA_DEBUG[key] = version;\n",
       "            return resolve(paths[lib]);\n",
       "          };\n",
       "          s.onerror = () => reject(`Error loading script: ${paths[lib]}`);\n",
       "          s.src = paths[lib];\n",
       "        });\n",
       "    }\n",
       "\n",
       "    function showError(err) {\n",
       "      outputDiv.innerHTML = `<div class=\"error\" style=\"color:red;\">${err}</div>`;\n",
       "      throw err;\n",
       "    }\n",
       "\n",
       "    function displayChart(vegaEmbed) {\n",
       "      vegaEmbed(outputDiv, spec, embedOpt)\n",
       "        .catch(err => showError(`Javascript Error: ${err.message}<br>This usually means there's a typo in your chart specification. See the javascript console for the full traceback.`));\n",
       "    }\n",
       "\n",
       "    if(typeof define === \"function\" && define.amd) {\n",
       "      requirejs.config({paths});\n",
       "      require([\"vega-embed\"], displayChart, err => showError(`Error loading script: ${err.message}`));\n",
       "    } else {\n",
       "      maybeLoadScript(\"vega\", \"5\")\n",
       "        .then(() => maybeLoadScript(\"vega-lite\", \"4.17.0\"))\n",
       "        .then(() => maybeLoadScript(\"vega-embed\", \"6\"))\n",
       "        .catch(showError)\n",
       "        .then(() => displayChart(vegaEmbed));\n",
       "    }\n",
       "  })({\"config\": {\"view\": {\"continuousWidth\": 400, \"continuousHeight\": 300}}, \"vconcat\": [{\"data\": {\"name\": \"data-ed6ad812589cc846881d5ee1325a5d96\"}, \"mark\": \"line\", \"encoding\": {\"x\": {\"field\": \"n_iter\", \"type\": \"quantitative\"}, \"y\": {\"field\": \"loss\", \"type\": \"quantitative\"}}, \"height\": 120, \"selection\": {\"selector001\": {\"type\": \"interval\", \"bind\": \"scales\", \"encodings\": [\"x\"]}}, \"title\": \"loss\", \"width\": 250}, {\"data\": {\"name\": \"data-4d8e7e965a646e95b3e19f0dbb7ac7ee\"}, \"mark\": \"line\", \"encoding\": {\"color\": {\"field\": \"prop\", \"type\": \"nominal\"}, \"facet\": {\"field\": \"info\", \"type\": \"nominal\"}, \"x\": {\"field\": \"n_iter\", \"type\": \"quantitative\"}, \"y\": {\"field\": \"value\", \"type\": \"quantitative\"}}, \"height\": 120, \"selection\": {\"selector001\": {\"type\": \"interval\", \"bind\": \"scales\", \"encodings\": [\"x\"]}}, \"title\": \"Lambda\", \"width\": 250}, {\"data\": {\"name\": \"data-12538b6e58f8bcee181781648eb9d15b\"}, \"mark\": \"line\", \"encoding\": {\"color\": {\"field\": \"prop\", \"type\": \"nominal\"}, \"facet\": {\"field\": \"latent\", \"type\": \"nominal\"}, \"x\": {\"field\": \"n_iter\", \"type\": \"quantitative\"}, \"y\": {\"field\": \"value\", \"type\": \"quantitative\"}}, \"height\": 120, \"selection\": {\"selector001\": {\"type\": \"interval\", \"bind\": \"scales\", \"encodings\": [\"x\"]}}, \"title\": \"lengthscale\", \"width\": 250}, {\"data\": {\"name\": \"data-9a22a04dd4b8addd7d49178a8821c065\"}, \"mark\": \"line\", \"encoding\": {\"color\": {\"field\": \"prop\", \"type\": \"nominal\"}, \"facet\": {\"field\": \"variable\", \"type\": \"nominal\"}, \"x\": {\"field\": \"n_iter\", \"type\": \"quantitative\"}, \"y\": {\"field\": \"value\", \"type\": \"quantitative\"}}, \"height\": 120, \"selection\": {\"selector001\": {\"type\": \"interval\", \"bind\": \"scales\", \"encodings\": [\"x\"]}}, \"title\": \"psi\", \"width\": 250}, {\"data\": {\"name\": \"data-d83ba6ffe3c0efdbd45ae90977cc64dc\"}, \"mark\": \"line\", \"encoding\": {\"color\": {\"field\": \"prop\", \"type\": \"nominal\"}, \"facet\": {\"field\": \"info\", \"type\": \"nominal\"}, \"x\": {\"field\": \"n_iter\", \"type\": \"quantitative\"}, \"y\": {\"field\": \"value\", \"type\": \"quantitative\"}}, \"height\": 120, \"selection\": {\"selector001\": {\"type\": \"interval\", \"bind\": \"scales\", \"encodings\": [\"x\"]}}, \"title\": \"likelihood\", \"width\": 250}], \"resolve\": {\"scale\": {\"color\": \"independent\"}}, \"$schema\": \"https://vega.github.io/schema/vega-lite/v4.17.0.json\", \"datasets\": {\"data-ed6ad812589cc846881d5ee1325a5d96\": [{\"loss\": 1.3690556287765503, \"n_iter\": 0}, {\"loss\": 1.3265374898910522, \"n_iter\": 1}, {\"loss\": 1.2866911888122559, \"n_iter\": 2}, {\"loss\": 1.2495324611663818, \"n_iter\": 3}, {\"loss\": 1.2106982469558716, \"n_iter\": 4}, {\"loss\": 1.1701529026031494, \"n_iter\": 5}, {\"loss\": 1.1304117441177368, \"n_iter\": 6}, {\"loss\": 1.0928963422775269, \"n_iter\": 7}, {\"loss\": 1.056623101234436, \"n_iter\": 8}, {\"loss\": 1.0199613571166992, \"n_iter\": 9}, {\"loss\": 0.9822189807891846, \"n_iter\": 10}, {\"loss\": 0.9434056878089905, \"n_iter\": 11}, {\"loss\": 0.9039136171340942, \"n_iter\": 12}, {\"loss\": 0.8642306327819824, \"n_iter\": 13}, {\"loss\": 0.8245517015457153, \"n_iter\": 14}, {\"loss\": 0.7845439910888672, \"n_iter\": 15}, {\"loss\": 0.7436892986297607, \"n_iter\": 16}, {\"loss\": 0.7018639445304871, \"n_iter\": 17}, {\"loss\": 0.6594531536102295, \"n_iter\": 18}, {\"loss\": 0.6170305013656616, \"n_iter\": 19}, {\"loss\": 0.5748981237411499, \"n_iter\": 20}, {\"loss\": 0.532833456993103, \"n_iter\": 21}, {\"loss\": 0.49050888419151306, \"n_iter\": 22}, {\"loss\": 0.44807878136634827, \"n_iter\": 23}, {\"loss\": 0.40581580996513367, \"n_iter\": 24}, {\"loss\": 0.36361074447631836, \"n_iter\": 25}, {\"loss\": 0.321391224861145, \"n_iter\": 26}, {\"loss\": 0.27931201457977295, \"n_iter\": 27}, {\"loss\": 0.23700004816055298, \"n_iter\": 28}, {\"loss\": 0.19427722692489624, \"n_iter\": 29}, {\"loss\": 0.15201902389526367, \"n_iter\": 30}, {\"loss\": 0.10970963537693024, \"n_iter\": 31}, {\"loss\": 0.06673240661621094, \"n_iter\": 32}, {\"loss\": 0.02425299771130085, \"n_iter\": 33}, {\"loss\": -0.018071703612804413, \"n_iter\": 34}, {\"loss\": -0.06082725524902344, \"n_iter\": 35}, {\"loss\": -0.10305044054985046, \"n_iter\": 36}, {\"loss\": -0.14523738622665405, \"n_iter\": 37}, {\"loss\": -0.18742625415325165, \"n_iter\": 38}, {\"loss\": -0.22933609783649445, \"n_iter\": 39}, {\"loss\": -0.270978718996048, \"n_iter\": 40}, {\"loss\": -0.3127535581588745, \"n_iter\": 41}, {\"loss\": -0.35387229919433594, \"n_iter\": 42}, {\"loss\": -0.39530670642852783, \"n_iter\": 43}, {\"loss\": -0.436022013425827, \"n_iter\": 44}, {\"loss\": -0.4769296646118164, \"n_iter\": 45}, {\"loss\": -0.5173243284225464, \"n_iter\": 46}, {\"loss\": -0.5576584935188293, \"n_iter\": 47}, {\"loss\": -0.5974486470222473, \"n_iter\": 48}, {\"loss\": -0.6372634172439575, \"n_iter\": 49}, {\"loss\": -0.6766353249549866, \"n_iter\": 50}, {\"loss\": -0.7155797481536865, \"n_iter\": 51}, {\"loss\": -0.7543997168540955, \"n_iter\": 52}, {\"loss\": -0.7927324771881104, \"n_iter\": 53}, {\"loss\": -0.8304275870323181, \"n_iter\": 54}, {\"loss\": -0.8673350214958191, \"n_iter\": 55}, {\"loss\": -0.902278482913971, \"n_iter\": 56}, {\"loss\": -0.9291015267372131, \"n_iter\": 57}, {\"loss\": -0.9688355922698975, \"n_iter\": 58}, {\"loss\": -1.0016695261001587, \"n_iter\": 59}, {\"loss\": -1.038158655166626, \"n_iter\": 60}, {\"loss\": -1.0711474418640137, \"n_iter\": 61}, {\"loss\": -1.103330373764038, \"n_iter\": 62}, {\"loss\": -1.1395983695983887, \"n_iter\": 63}, {\"loss\": -1.164203405380249, \"n_iter\": 64}, {\"loss\": -1.203503131866455, \"n_iter\": 65}, {\"loss\": -1.22177255153656, \"n_iter\": 66}, {\"loss\": -1.2612452507019043, \"n_iter\": 67}, {\"loss\": -1.278882384300232, \"n_iter\": 68}, {\"loss\": -1.3110591173171997, \"n_iter\": 69}, {\"loss\": -1.335838794708252, \"n_iter\": 70}, {\"loss\": -1.353708028793335, \"n_iter\": 71}, {\"loss\": -1.384061574935913, \"n_iter\": 72}, {\"loss\": -1.3908708095550537, \"n_iter\": 73}, {\"loss\": -1.3967187404632568, \"n_iter\": 74}, {\"loss\": -1.429948329925537, \"n_iter\": 75}, {\"loss\": -1.4527246952056885, \"n_iter\": 76}, {\"loss\": -1.4624345302581787, \"n_iter\": 77}, {\"loss\": -1.4806417226791382, \"n_iter\": 78}, {\"loss\": -1.4975683689117432, \"n_iter\": 79}, {\"loss\": -1.5096105337142944, \"n_iter\": 80}, {\"loss\": -1.5175895690917969, \"n_iter\": 81}, {\"loss\": -1.5355709791183472, \"n_iter\": 82}, {\"loss\": -1.5440698862075806, \"n_iter\": 83}, {\"loss\": -1.5443131923675537, \"n_iter\": 84}, {\"loss\": -1.564063549041748, \"n_iter\": 85}, {\"loss\": -1.5723813772201538, \"n_iter\": 86}, {\"loss\": -1.5653440952301025, \"n_iter\": 87}, {\"loss\": -1.578897476196289, \"n_iter\": 88}, {\"loss\": -1.5920459032058716, \"n_iter\": 89}, {\"loss\": -1.5885510444641113, \"n_iter\": 90}, {\"loss\": -1.596008539199829, \"n_iter\": 91}, {\"loss\": -1.6029807329177856, \"n_iter\": 92}, {\"loss\": -1.5963126420974731, \"n_iter\": 93}, {\"loss\": -1.6002578735351562, \"n_iter\": 94}, {\"loss\": -1.6097954511642456, \"n_iter\": 95}, {\"loss\": -1.607399821281433, \"n_iter\": 96}, {\"loss\": -1.6175163984298706, \"n_iter\": 97}, {\"loss\": -1.6280877590179443, \"n_iter\": 98}, {\"loss\": -1.626412272453308, \"n_iter\": 99}, {\"loss\": -1.633980631828308, \"n_iter\": 100}, {\"loss\": 0.7754461765289307, \"n_iter\": 101}, {\"loss\": -1.4939627647399902, \"n_iter\": 102}, {\"loss\": -1.1752196550369263, \"n_iter\": 103}, {\"loss\": -0.36771073937416077, \"n_iter\": 104}, {\"loss\": -0.6071274280548096, \"n_iter\": 105}, {\"loss\": -1.2489019632339478, \"n_iter\": 106}, {\"loss\": -1.6028938293457031, \"n_iter\": 107}, {\"loss\": -1.512317180633545, \"n_iter\": 108}, {\"loss\": -1.2289537191390991, \"n_iter\": 109}, {\"loss\": -1.0732508897781372, \"n_iter\": 110}, {\"loss\": -1.1437623500823975, \"n_iter\": 111}, {\"loss\": -1.342113971710205, \"n_iter\": 112}, {\"loss\": -1.5151127576828003, \"n_iter\": 113}, {\"loss\": -1.571916103363037, \"n_iter\": 114}, {\"loss\": -1.5156455039978027, \"n_iter\": 115}, {\"loss\": -1.4143006801605225, \"n_iter\": 116}, {\"loss\": -1.3453733921051025, \"n_iter\": 117}, {\"loss\": -1.3485376834869385, \"n_iter\": 118}, {\"loss\": -1.4112837314605713, \"n_iter\": 119}, {\"loss\": -1.4900431632995605, \"n_iter\": 120}, {\"loss\": -1.5405442714691162, \"n_iter\": 121}, {\"loss\": -1.5442583560943604, \"n_iter\": 122}, {\"loss\": -1.510935664176941, \"n_iter\": 123}, {\"loss\": -1.4704205989837646, \"n_iter\": 124}, {\"loss\": -1.4521045684814453, \"n_iter\": 125}, {\"loss\": -1.467650294303894, \"n_iter\": 126}, {\"loss\": -1.5063459873199463, \"n_iter\": 127}, {\"loss\": -1.545015811920166, \"n_iter\": 128}, {\"loss\": -1.5629963874816895, \"n_iter\": 129}, {\"loss\": -1.5563570261001587, \"n_iter\": 130}, {\"loss\": -1.5370826721191406, \"n_iter\": 131}, {\"loss\": -1.525439977645874, \"n_iter\": 132}, {\"loss\": -1.5338562726974487, \"n_iter\": 133}, {\"loss\": -1.558664083480835, \"n_iter\": 134}, {\"loss\": -1.5839353799819946, \"n_iter\": 135}, {\"loss\": -1.594469666481018, \"n_iter\": 136}, {\"loss\": -1.5892995595932007, \"n_iter\": 137}, {\"loss\": -1.5794860124588013, \"n_iter\": 138}, {\"loss\": -1.5800378322601318, \"n_iter\": 139}, {\"loss\": -1.5942353010177612, \"n_iter\": 140}, {\"loss\": -1.6126935482025146, \"n_iter\": 141}, {\"loss\": -1.6219571828842163, \"n_iter\": 142}, {\"loss\": -1.619201421737671, \"n_iter\": 143}, {\"loss\": -1.6136335134506226, \"n_iter\": 144}, {\"loss\": -1.6172430515289307, \"n_iter\": 145}, {\"loss\": -1.6294958591461182, \"n_iter\": 146}, {\"loss\": -1.6397836208343506, \"n_iter\": 147}, {\"loss\": -1.6410160064697266, \"n_iter\": 148}, {\"loss\": -1.6373095512390137, \"n_iter\": 149}, {\"loss\": -1.6381986141204834, \"n_iter\": 150}, {\"loss\": -1.6459708213806152, \"n_iter\": 151}, {\"loss\": -1.6539230346679688, \"n_iter\": 152}, {\"loss\": -1.6546987295150757, \"n_iter\": 153}, {\"loss\": -1.6523756980895996, \"n_iter\": 154}, {\"loss\": -1.6548646688461304, \"n_iter\": 155}, {\"loss\": -1.6612679958343506, \"n_iter\": 156}, {\"loss\": -1.6651973724365234, \"n_iter\": 157}, {\"loss\": -1.6646347045898438, \"n_iter\": 158}, {\"loss\": -1.6645725965499878, \"n_iter\": 159}, {\"loss\": -1.6684937477111816, \"n_iter\": 160}, {\"loss\": -1.6729512214660645, \"n_iter\": 161}, {\"loss\": -1.673768401145935, \"n_iter\": 162}, {\"loss\": -1.6736884117126465, \"n_iter\": 163}, {\"loss\": -1.6758818626403809, \"n_iter\": 164}, {\"loss\": -1.6799943447113037, \"n_iter\": 165}, {\"loss\": -1.6818403005599976, \"n_iter\": 166}, {\"loss\": -1.6816095113754272, \"n_iter\": 167}, {\"loss\": -1.6828763484954834, \"n_iter\": 168}, {\"loss\": -1.6860624551773071, \"n_iter\": 169}, {\"loss\": -1.6876378059387207, \"n_iter\": 170}, {\"loss\": -1.688019037246704, \"n_iter\": 171}, {\"loss\": -1.6894713640213013, \"n_iter\": 172}, {\"loss\": -1.6909103393554688, \"n_iter\": 173}, {\"loss\": -1.6924817562103271, \"n_iter\": 174}, {\"loss\": -1.69314444065094, \"n_iter\": 175}, {\"loss\": -1.6938157081604004, \"n_iter\": 176}, {\"loss\": -1.695723056793213, \"n_iter\": 177}, {\"loss\": -1.696399450302124, \"n_iter\": 178}, {\"loss\": -1.6974353790283203, \"n_iter\": 179}, {\"loss\": -1.6981629133224487, \"n_iter\": 180}, {\"loss\": -1.6984888315200806, \"n_iter\": 181}, {\"loss\": -1.6992980241775513, \"n_iter\": 182}, {\"loss\": -1.700297474861145, \"n_iter\": 183}, {\"loss\": -1.701164722442627, \"n_iter\": 184}, {\"loss\": -1.7018587589263916, \"n_iter\": 185}, {\"loss\": -1.7021116018295288, \"n_iter\": 186}, {\"loss\": -1.7030225992202759, \"n_iter\": 187}, {\"loss\": -1.7039506435394287, \"n_iter\": 188}, {\"loss\": -1.7039979696273804, \"n_iter\": 189}, {\"loss\": -1.7047059535980225, \"n_iter\": 190}, {\"loss\": -1.705169916152954, \"n_iter\": 191}, {\"loss\": -1.70608651638031, \"n_iter\": 192}, {\"loss\": -1.706695318222046, \"n_iter\": 193}, {\"loss\": -1.7070893049240112, \"n_iter\": 194}, {\"loss\": -1.707322597503662, \"n_iter\": 195}, {\"loss\": -1.7082877159118652, \"n_iter\": 196}, {\"loss\": -1.7082438468933105, \"n_iter\": 197}, {\"loss\": -1.70870041847229, \"n_iter\": 198}, {\"loss\": -1.7090013027191162, \"n_iter\": 199}], \"data-4d8e7e965a646e95b3e19f0dbb7ac7ee\": [{\"info\": \"Lambda\", \"n_iter\": 0, \"prop\": \"z0\", \"value\": 0.7469571828842163}, {\"info\": \"Lambda\", \"n_iter\": 0, \"prop\": \"z0\", \"value\": 0.4042978286743164}, {\"info\": \"Lambda\", \"n_iter\": 0, \"prop\": \"z0\", \"value\": 0.05021470785140991}, {\"info\": \"Lambda\", \"n_iter\": 1, \"prop\": \"z0\", \"value\": 0.6469572186470032}, {\"info\": \"Lambda\", \"n_iter\": 1, \"prop\": \"z0\", \"value\": 0.5042977929115295}, {\"info\": \"Lambda\", \"n_iter\": 1, \"prop\": \"z0\", \"value\": 0.15021468698978424}, {\"info\": \"Lambda\", \"n_iter\": 2, \"prop\": \"z0\", \"value\": 0.5558452606201172}, {\"info\": \"Lambda\", \"n_iter\": 2, \"prop\": \"z0\", \"value\": 0.5999372601509094}, {\"info\": \"Lambda\", \"n_iter\": 2, \"prop\": \"z0\", \"value\": 0.2502745985984802}, {\"info\": \"Lambda\", \"n_iter\": 3, \"prop\": \"z0\", \"value\": 0.5055994987487793}, {\"info\": \"Lambda\", \"n_iter\": 3, \"prop\": \"z0\", \"value\": 0.672782838344574}, {\"info\": \"Lambda\", \"n_iter\": 3, \"prop\": \"z0\", \"value\": 0.35014644265174866}, {\"info\": \"Lambda\", \"n_iter\": 4, \"prop\": \"z0\", \"value\": 0.5114128589630127}, {\"info\": \"Lambda\", \"n_iter\": 4, \"prop\": \"z0\", \"value\": 0.7019039392471313}, {\"info\": \"Lambda\", \"n_iter\": 4, \"prop\": \"z0\", \"value\": 0.44914790987968445}, {\"info\": \"Lambda\", \"n_iter\": 5, \"prop\": \"z0\", \"value\": 0.5494788885116577}, {\"info\": \"Lambda\", \"n_iter\": 5, \"prop\": \"z0\", \"value\": 0.6980069279670715}, {\"info\": \"Lambda\", \"n_iter\": 5, \"prop\": \"z0\", \"value\": 0.5460205674171448}, {\"info\": \"Lambda\", \"n_iter\": 6, \"prop\": \"z0\", \"value\": 0.6042961478233337}, {\"info\": \"Lambda\", \"n_iter\": 6, \"prop\": \"z0\", \"value\": 0.6797794103622437}, {\"info\": \"Lambda\", \"n_iter\": 6, \"prop\": \"z0\", \"value\": 0.638594388961792}, {\"info\": \"Lambda\", \"n_iter\": 7, \"prop\": \"z0\", \"value\": 0.6673498153686523}, {\"info\": \"Lambda\", \"n_iter\": 7, \"prop\": \"z0\", \"value\": 0.6667382121086121}, {\"info\": \"Lambda\", \"n_iter\": 7, \"prop\": \"z0\", \"value\": 0.7237194180488586}, {\"info\": \"Lambda\", \"n_iter\": 8, \"prop\": \"z0\", \"value\": 0.7324637770652771}, {\"info\": \"Lambda\", \"n_iter\": 8, \"prop\": \"z0\", \"value\": 0.6763885617256165}, {\"info\": \"Lambda\", \"n_iter\": 8, \"prop\": \"z0\", \"value\": 0.7980457544326782}, {\"info\": \"Lambda\", \"n_iter\": 9, \"prop\": \"z0\", \"value\": 0.7945417165756226}, {\"info\": \"Lambda\", \"n_iter\": 9, \"prop\": \"z0\", \"value\": 0.7100088596343994}, {\"info\": \"Lambda\", \"n_iter\": 9, \"prop\": \"z0\", \"value\": 0.8593860268592834}, {\"info\": \"Lambda\", \"n_iter\": 10, \"prop\": \"z0\", \"value\": 0.8496733903884888}, {\"info\": \"Lambda\", \"n_iter\": 10, \"prop\": \"z0\", \"value\": 0.7606059908866882}, {\"info\": \"Lambda\", \"n_iter\": 10, \"prop\": \"z0\", \"value\": 0.9073198437690735}, {\"info\": \"Lambda\", \"n_iter\": 11, \"prop\": \"z0\", \"value\": 0.8955579996109009}, {\"info\": \"Lambda\", \"n_iter\": 11, \"prop\": \"z0\", \"value\": 0.8219794631004333}, {\"info\": \"Lambda\", \"n_iter\": 11, \"prop\": \"z0\", \"value\": 0.9428701996803284}, {\"info\": \"Lambda\", \"n_iter\": 12, \"prop\": \"z0\", \"value\": 0.9317761659622192}, {\"info\": \"Lambda\", \"n_iter\": 12, \"prop\": \"z0\", \"value\": 0.8887715339660645}, {\"info\": \"Lambda\", \"n_iter\": 12, \"prop\": \"z0\", \"value\": 0.9679431319236755}, {\"info\": \"Lambda\", \"n_iter\": 13, \"prop\": \"z0\", \"value\": 0.9596097469329834}, {\"info\": \"Lambda\", \"n_iter\": 13, \"prop\": \"z0\", \"value\": 0.9548414945602417}, {\"info\": \"Lambda\", \"n_iter\": 13, \"prop\": \"z0\", \"value\": 0.9848990440368652}, {\"info\": \"Lambda\", \"n_iter\": 14, \"prop\": \"z0\", \"value\": 0.981448769569397}, {\"info\": \"Lambda\", \"n_iter\": 14, \"prop\": \"z0\", \"value\": 1.0123006105422974}, {\"info\": \"Lambda\", \"n_iter\": 14, \"prop\": \"z0\", \"value\": 0.996270477771759}, {\"info\": \"Lambda\", \"n_iter\": 15, \"prop\": \"z0\", \"value\": 0.9999221563339233}, {\"info\": \"Lambda\", \"n_iter\": 15, \"prop\": \"z0\", \"value\": 1.0531704425811768}, {\"info\": \"Lambda\", \"n_iter\": 15, \"prop\": \"z0\", \"value\": 1.0045021772384644}, {\"info\": \"Lambda\", \"n_iter\": 16, \"prop\": \"z0\", \"value\": 1.016903281211853}, {\"info\": \"Lambda\", \"n_iter\": 16, \"prop\": \"z0\", \"value\": 1.0734888315200806}, {\"info\": \"Lambda\", \"n_iter\": 16, \"prop\": \"z0\", \"value\": 1.0116482973098755}, {\"info\": \"Lambda\", \"n_iter\": 17, \"prop\": \"z0\", \"value\": 1.03275465965271}, {\"info\": \"Lambda\", \"n_iter\": 17, \"prop\": \"z0\", \"value\": 1.0748077630996704}, {\"info\": \"Lambda\", \"n_iter\": 17, \"prop\": \"z0\", \"value\": 1.0191080570220947}, {\"info\": \"Lambda\", \"n_iter\": 18, \"prop\": \"z0\", \"value\": 1.0461574792861938}, {\"info\": \"Lambda\", \"n_iter\": 18, \"prop\": \"z0\", \"value\": 1.062099575996399}, {\"info\": \"Lambda\", \"n_iter\": 18, \"prop\": \"z0\", \"value\": 1.0274839401245117}, {\"info\": \"Lambda\", \"n_iter\": 19, \"prop\": \"z0\", \"value\": 1.0546313524246216}, {\"info\": \"Lambda\", \"n_iter\": 19, \"prop\": \"z0\", \"value\": 1.0420533418655396}, {\"info\": \"Lambda\", \"n_iter\": 19, \"prop\": \"z0\", \"value\": 1.0365474224090576}, {\"info\": \"Lambda\", \"n_iter\": 20, \"prop\": \"z0\", \"value\": 1.0558141469955444}, {\"info\": \"Lambda\", \"n_iter\": 20, \"prop\": \"z0\", \"value\": 1.0227620601654053}, {\"info\": \"Lambda\", \"n_iter\": 20, \"prop\": \"z0\", \"value\": 1.0452936887741089}, {\"info\": \"Lambda\", \"n_iter\": 21, \"prop\": \"z0\", \"value\": 1.0492480993270874}, {\"info\": \"Lambda\", \"n_iter\": 21, \"prop\": \"z0\", \"value\": 1.012499213218689}, {\"info\": \"Lambda\", \"n_iter\": 21, \"prop\": \"z0\", \"value\": 1.052167296409607}, {\"info\": \"Lambda\", \"n_iter\": 22, \"prop\": \"z0\", \"value\": 1.0377771854400635}, {\"info\": \"Lambda\", \"n_iter\": 22, \"prop\": \"z0\", \"value\": 1.0157833099365234}, {\"info\": \"Lambda\", \"n_iter\": 22, \"prop\": \"z0\", \"value\": 1.0556029081344604}, {\"info\": \"Lambda\", \"n_iter\": 23, \"prop\": \"z0\", \"value\": 1.0277912616729736}, {\"info\": \"Lambda\", \"n_iter\": 23, \"prop\": \"z0\", \"value\": 1.0307964086532593}, {\"info\": \"Lambda\", \"n_iter\": 23, \"prop\": \"z0\", \"value\": 1.054853916168213}, {\"info\": \"Lambda\", \"n_iter\": 24, \"prop\": \"z0\", \"value\": 1.027238130569458}, {\"info\": \"Lambda\", \"n_iter\": 24, \"prop\": \"z0\", \"value\": 1.0509198904037476}, {\"info\": \"Lambda\", \"n_iter\": 24, \"prop\": \"z0\", \"value\": 1.0508301258087158}, {\"info\": \"Lambda\", \"n_iter\": 25, \"prop\": \"z0\", \"value\": 1.0402722358703613}, {\"info\": \"Lambda\", \"n_iter\": 25, \"prop\": \"z0\", \"value\": 1.067703366279602}, {\"info\": \"Lambda\", \"n_iter\": 25, \"prop\": \"z0\", \"value\": 1.0465290546417236}, {\"info\": \"Lambda\", \"n_iter\": 26, \"prop\": \"z0\", \"value\": 1.063629150390625}, {\"info\": \"Lambda\", \"n_iter\": 26, \"prop\": \"z0\", \"value\": 1.0758172273635864}, {\"info\": \"Lambda\", \"n_iter\": 26, \"prop\": \"z0\", \"value\": 1.0464094877243042}, {\"info\": \"Lambda\", \"n_iter\": 27, \"prop\": \"z0\", \"value\": 1.0878620147705078}, {\"info\": \"Lambda\", \"n_iter\": 27, \"prop\": \"z0\", \"value\": 1.0774409770965576}, {\"info\": \"Lambda\", \"n_iter\": 27, \"prop\": \"z0\", \"value\": 1.0544369220733643}, {\"info\": \"Lambda\", \"n_iter\": 28, \"prop\": \"z0\", \"value\": 1.1019569635391235}, {\"info\": \"Lambda\", \"n_iter\": 28, \"prop\": \"z0\", \"value\": 1.080905556678772}, {\"info\": \"Lambda\", \"n_iter\": 28, \"prop\": \"z0\", \"value\": 1.0718358755111694}, {\"info\": \"Lambda\", \"n_iter\": 29, \"prop\": \"z0\", \"value\": 1.1039127111434937}, {\"info\": \"Lambda\", \"n_iter\": 29, \"prop\": \"z0\", \"value\": 1.093698501586914}, {\"info\": \"Lambda\", \"n_iter\": 29, \"prop\": \"z0\", \"value\": 1.096152424812317}, {\"info\": \"Lambda\", \"n_iter\": 30, \"prop\": \"z0\", \"value\": 1.1052443981170654}, {\"info\": \"Lambda\", \"n_iter\": 30, \"prop\": \"z0\", \"value\": 1.1156996488571167}, {\"info\": \"Lambda\", \"n_iter\": 30, \"prop\": \"z0\", \"value\": 1.1222810745239258}, {\"info\": \"Lambda\", \"n_iter\": 31, \"prop\": \"z0\", \"value\": 1.1222186088562012}, {\"info\": \"Lambda\", \"n_iter\": 31, \"prop\": \"z0\", \"value\": 1.1409997940063477}, {\"info\": \"Lambda\", \"n_iter\": 31, \"prop\": \"z0\", \"value\": 1.1453369855880737}, {\"info\": \"Lambda\", \"n_iter\": 32, \"prop\": \"z0\", \"value\": 1.1575249433517456}, {\"info\": \"Lambda\", \"n_iter\": 32, \"prop\": \"z0\", \"value\": 1.1652448177337646}, {\"info\": \"Lambda\", \"n_iter\": 32, \"prop\": \"z0\", \"value\": 1.1645506620407104}, {\"info\": \"Lambda\", \"n_iter\": 33, \"prop\": \"z0\", \"value\": 1.1999348402023315}, {\"info\": \"Lambda\", \"n_iter\": 33, \"prop\": \"z0\", \"value\": 1.1902884244918823}, {\"info\": \"Lambda\", \"n_iter\": 33, \"prop\": \"z0\", \"value\": 1.1840143203735352}, {\"info\": \"Lambda\", \"n_iter\": 34, \"prop\": \"z0\", \"value\": 1.2324086427688599}, {\"info\": \"Lambda\", \"n_iter\": 34, \"prop\": \"z0\", \"value\": 1.2205610275268555}, {\"info\": \"Lambda\", \"n_iter\": 34, \"prop\": \"z0\", \"value\": 1.2094837427139282}, {\"info\": \"Lambda\", \"n_iter\": 35, \"prop\": \"z0\", \"value\": 1.250494360923767}, {\"info\": \"Lambda\", \"n_iter\": 35, \"prop\": \"z0\", \"value\": 1.25418221950531}, {\"info\": \"Lambda\", \"n_iter\": 35, \"prop\": \"z0\", \"value\": 1.2430092096328735}, {\"info\": \"Lambda\", \"n_iter\": 36, \"prop\": \"z0\", \"value\": 1.2691240310668945}, {\"info\": \"Lambda\", \"n_iter\": 36, \"prop\": \"z0\", \"value\": 1.2826735973358154}, {\"info\": \"Lambda\", \"n_iter\": 36, \"prop\": \"z0\", \"value\": 1.2806169986724854}, {\"info\": \"Lambda\", \"n_iter\": 37, \"prop\": \"z0\", \"value\": 1.3014942407608032}, {\"info\": \"Lambda\", \"n_iter\": 37, \"prop\": \"z0\", \"value\": 1.3053532838821411}, {\"info\": \"Lambda\", \"n_iter\": 37, \"prop\": \"z0\", \"value\": 1.3149895668029785}, {\"info\": \"Lambda\", \"n_iter\": 38, \"prop\": \"z0\", \"value\": 1.342739224433899}, {\"info\": \"Lambda\", \"n_iter\": 38, \"prop\": \"z0\", \"value\": 1.3343912363052368}, {\"info\": \"Lambda\", \"n_iter\": 38, \"prop\": \"z0\", \"value\": 1.3421320915222168}, {\"info\": \"Lambda\", \"n_iter\": 39, \"prop\": \"z0\", \"value\": 1.3782459497451782}, {\"info\": \"Lambda\", \"n_iter\": 39, \"prop\": \"z0\", \"value\": 1.3746861219406128}, {\"info\": \"Lambda\", \"n_iter\": 39, \"prop\": \"z0\", \"value\": 1.3669614791870117}, {\"info\": \"Lambda\", \"n_iter\": 40, \"prop\": \"z0\", \"value\": 1.4041483402252197}, {\"info\": \"Lambda\", \"n_iter\": 40, \"prop\": \"z0\", \"value\": 1.4128787517547607}, {\"info\": \"Lambda\", \"n_iter\": 40, \"prop\": \"z0\", \"value\": 1.3976285457611084}, {\"info\": \"Lambda\", \"n_iter\": 41, \"prop\": \"z0\", \"value\": 1.431399941444397}, {\"info\": \"Lambda\", \"n_iter\": 41, \"prop\": \"z0\", \"value\": 1.4342570304870605}, {\"info\": \"Lambda\", \"n_iter\": 41, \"prop\": \"z0\", \"value\": 1.434709072113037}, {\"info\": \"Lambda\", \"n_iter\": 42, \"prop\": \"z0\", \"value\": 1.462490200996399}, {\"info\": \"Lambda\", \"n_iter\": 42, \"prop\": \"z0\", \"value\": 1.455885887145996}, {\"info\": \"Lambda\", \"n_iter\": 42, \"prop\": \"z0\", \"value\": 1.4689364433288574}, {\"info\": \"Lambda\", \"n_iter\": 43, \"prop\": \"z0\", \"value\": 1.492795467376709}, {\"info\": \"Lambda\", \"n_iter\": 43, \"prop\": \"z0\", \"value\": 1.4938827753067017}, {\"info\": \"Lambda\", \"n_iter\": 43, \"prop\": \"z0\", \"value\": 1.4939711093902588}, {\"info\": \"Lambda\", \"n_iter\": 44, \"prop\": \"z0\", \"value\": 1.5239832401275635}, {\"info\": \"Lambda\", \"n_iter\": 44, \"prop\": \"z0\", \"value\": 1.531252384185791}, {\"info\": \"Lambda\", \"n_iter\": 44, \"prop\": \"z0\", \"value\": 1.5179322957992554}, {\"info\": \"Lambda\", \"n_iter\": 45, \"prop\": \"z0\", \"value\": 1.5550378561019897}, {\"info\": \"Lambda\", \"n_iter\": 45, \"prop\": \"z0\", \"value\": 1.5497233867645264}, {\"info\": \"Lambda\", \"n_iter\": 45, \"prop\": \"z0\", \"value\": 1.5500487089157104}, {\"info\": \"Lambda\", \"n_iter\": 46, \"prop\": \"z0\", \"value\": 1.5751862525939941}, {\"info\": \"Lambda\", \"n_iter\": 46, \"prop\": \"z0\", \"value\": 1.575270652770996}, {\"info\": \"Lambda\", \"n_iter\": 46, \"prop\": \"z0\", \"value\": 1.583163857460022}, {\"info\": \"Lambda\", \"n_iter\": 47, \"prop\": \"z0\", \"value\": 1.6030353307724}, {\"info\": \"Lambda\", \"n_iter\": 47, \"prop\": \"z0\", \"value\": 1.6098493337631226}, {\"info\": \"Lambda\", \"n_iter\": 47, \"prop\": \"z0\", \"value\": 1.6062332391738892}, {\"info\": \"Lambda\", \"n_iter\": 48, \"prop\": \"z0\", \"value\": 1.6400808095932007}, {\"info\": \"Lambda\", \"n_iter\": 48, \"prop\": \"z0\", \"value\": 1.633409023284912}, {\"info\": \"Lambda\", \"n_iter\": 48, \"prop\": \"z0\", \"value\": 1.6290898323059082}, {\"info\": \"Lambda\", \"n_iter\": 49, \"prop\": \"z0\", \"value\": 1.6543829441070557}, {\"info\": \"Lambda\", \"n_iter\": 49, \"prop\": \"z0\", \"value\": 1.6611933708190918}, {\"info\": \"Lambda\", \"n_iter\": 49, \"prop\": \"z0\", \"value\": 1.6607524156570435}, {\"info\": \"Lambda\", \"n_iter\": 50, \"prop\": \"z0\", \"value\": 1.683870553970337}, {\"info\": \"Lambda\", \"n_iter\": 50, \"prop\": \"z0\", \"value\": 1.6811691522598267}, {\"info\": \"Lambda\", \"n_iter\": 50, \"prop\": \"z0\", \"value\": 1.6871675252914429}, {\"info\": \"Lambda\", \"n_iter\": 51, \"prop\": \"z0\", \"value\": 1.7128784656524658}, {\"info\": \"Lambda\", \"n_iter\": 51, \"prop\": \"z0\", \"value\": 1.7148377895355225}, {\"info\": \"Lambda\", \"n_iter\": 51, \"prop\": \"z0\", \"value\": 1.7059404850006104}, {\"info\": \"Lambda\", \"n_iter\": 52, \"prop\": \"z0\", \"value\": 1.7336039543151855}, {\"info\": \"Lambda\", \"n_iter\": 52, \"prop\": \"z0\", \"value\": 1.733311653137207}, {\"info\": \"Lambda\", \"n_iter\": 52, \"prop\": \"z0\", \"value\": 1.7367380857467651}, {\"info\": \"Lambda\", \"n_iter\": 53, \"prop\": \"z0\", \"value\": 1.758060336112976}, {\"info\": \"Lambda\", \"n_iter\": 53, \"prop\": \"z0\", \"value\": 1.760253667831421}, {\"info\": \"Lambda\", \"n_iter\": 53, \"prop\": \"z0\", \"value\": 1.7608006000518799}, {\"info\": \"Lambda\", \"n_iter\": 54, \"prop\": \"z0\", \"value\": 1.7894372940063477}, {\"info\": \"Lambda\", \"n_iter\": 54, \"prop\": \"z0\", \"value\": 1.7866328954696655}, {\"info\": \"Lambda\", \"n_iter\": 54, \"prop\": \"z0\", \"value\": 1.7813663482666016}, {\"info\": \"Lambda\", \"n_iter\": 55, \"prop\": \"z0\", \"value\": 1.799926996231079}, {\"info\": \"Lambda\", \"n_iter\": 55, \"prop\": \"z0\", \"value\": 1.8107454776763916}, {\"info\": \"Lambda\", \"n_iter\": 55, \"prop\": \"z0\", \"value\": 1.8144962787628174}, {\"info\": \"Lambda\", \"n_iter\": 56, \"prop\": \"z0\", \"value\": 1.8484816551208496}, {\"info\": \"Lambda\", \"n_iter\": 56, \"prop\": \"z0\", \"value\": 1.8240370750427246}, {\"info\": \"Lambda\", \"n_iter\": 56, \"prop\": \"z0\", \"value\": 1.8265348672866821}, {\"info\": \"Lambda\", \"n_iter\": 57, \"prop\": \"z0\", \"value\": 1.8257420063018799}, {\"info\": \"Lambda\", \"n_iter\": 57, \"prop\": \"z0\", \"value\": 1.8818031549453735}, {\"info\": \"Lambda\", \"n_iter\": 57, \"prop\": \"z0\", \"value\": 1.8595869541168213}, {\"info\": \"Lambda\", \"n_iter\": 58, \"prop\": \"z0\", \"value\": 1.8777611255645752}, {\"info\": \"Lambda\", \"n_iter\": 58, \"prop\": \"z0\", \"value\": 1.8417705297470093}, {\"info\": \"Lambda\", \"n_iter\": 58, \"prop\": \"z0\", \"value\": 1.879138708114624}, {\"info\": \"Lambda\", \"n_iter\": 59, \"prop\": \"z0\", \"value\": 1.8983662128448486}, {\"info\": \"Lambda\", \"n_iter\": 59, \"prop\": \"z0\", \"value\": 1.8688408136367798}, {\"info\": \"Lambda\", \"n_iter\": 59, \"prop\": \"z0\", \"value\": 1.853736400604248}, {\"info\": \"Lambda\", \"n_iter\": 60, \"prop\": \"z0\", \"value\": 1.8668429851531982}, {\"info\": \"Lambda\", \"n_iter\": 60, \"prop\": \"z0\", \"value\": 1.9057607650756836}, {\"info\": \"Lambda\", \"n_iter\": 60, \"prop\": \"z0\", \"value\": 1.8901481628417969}, {\"info\": \"Lambda\", \"n_iter\": 61, \"prop\": \"z0\", \"value\": 1.8801594972610474}, {\"info\": \"Lambda\", \"n_iter\": 61, \"prop\": \"z0\", \"value\": 1.897796630859375}, {\"info\": \"Lambda\", \"n_iter\": 61, \"prop\": \"z0\", \"value\": 1.9180593490600586}, {\"info\": \"Lambda\", \"n_iter\": 62, \"prop\": \"z0\", \"value\": 1.9247883558273315}, {\"info\": \"Lambda\", \"n_iter\": 62, \"prop\": \"z0\", \"value\": 1.8954263925552368}, {\"info\": \"Lambda\", \"n_iter\": 62, \"prop\": \"z0\", \"value\": 1.8917125463485718}, {\"info\": \"Lambda\", \"n_iter\": 63, \"prop\": \"z0\", \"value\": 1.9247710704803467}, {\"info\": \"Lambda\", \"n_iter\": 63, \"prop\": \"z0\", \"value\": 1.9167606830596924}, {\"info\": \"Lambda\", \"n_iter\": 63, \"prop\": \"z0\", \"value\": 1.9016209840774536}, {\"info\": \"Lambda\", \"n_iter\": 64, \"prop\": \"z0\", \"value\": 1.9058030843734741}, {\"info\": \"Lambda\", \"n_iter\": 64, \"prop\": \"z0\", \"value\": 1.9314528703689575}, {\"info\": \"Lambda\", \"n_iter\": 64, \"prop\": \"z0\", \"value\": 1.9427437782287598}, {\"info\": \"Lambda\", \"n_iter\": 65, \"prop\": \"z0\", \"value\": 1.928523063659668}, {\"info\": \"Lambda\", \"n_iter\": 65, \"prop\": \"z0\", \"value\": 1.9337149858474731}, {\"info\": \"Lambda\", \"n_iter\": 65, \"prop\": \"z0\", \"value\": 1.938574194908142}, {\"info\": \"Lambda\", \"n_iter\": 66, \"prop\": \"z0\", \"value\": 1.9591532945632935}, {\"info\": \"Lambda\", \"n_iter\": 66, \"prop\": \"z0\", \"value\": 1.9381499290466309}, {\"info\": \"Lambda\", \"n_iter\": 66, \"prop\": \"z0\", \"value\": 1.9229236841201782}, {\"info\": \"Lambda\", \"n_iter\": 67, \"prop\": \"z0\", \"value\": 1.948089599609375}, {\"info\": \"Lambda\", \"n_iter\": 67, \"prop\": \"z0\", \"value\": 1.951234221458435}, {\"info\": \"Lambda\", \"n_iter\": 67, \"prop\": \"z0\", \"value\": 1.953452706336975}, {\"info\": \"Lambda\", \"n_iter\": 68, \"prop\": \"z0\", \"value\": 1.9441980123519897}, {\"info\": \"Lambda\", \"n_iter\": 68, \"prop\": \"z0\", \"value\": 1.964908242225647}, {\"info\": \"Lambda\", \"n_iter\": 68, \"prop\": \"z0\", \"value\": 1.9753193855285645}, {\"info\": \"Lambda\", \"n_iter\": 69, \"prop\": \"z0\", \"value\": 1.9764350652694702}, {\"info\": \"Lambda\", \"n_iter\": 69, \"prop\": \"z0\", \"value\": 1.966976523399353}, {\"info\": \"Lambda\", \"n_iter\": 69, \"prop\": \"z0\", \"value\": 1.9586607217788696}, {\"info\": \"Lambda\", \"n_iter\": 70, \"prop\": \"z0\", \"value\": 1.9855655431747437}, {\"info\": \"Lambda\", \"n_iter\": 70, \"prop\": \"z0\", \"value\": 1.9733045101165771}, {\"info\": \"Lambda\", \"n_iter\": 70, \"prop\": \"z0\", \"value\": 1.9685195684432983}, {\"info\": \"Lambda\", \"n_iter\": 71, \"prop\": \"z0\", \"value\": 1.9717308282852173}, {\"info\": \"Lambda\", \"n_iter\": 71, \"prop\": \"z0\", \"value\": 1.994091510772705}, {\"info\": \"Lambda\", \"n_iter\": 71, \"prop\": \"z0\", \"value\": 1.998403549194336}, {\"info\": \"Lambda\", \"n_iter\": 72, \"prop\": \"z0\", \"value\": 1.9965115785598755}, {\"info\": \"Lambda\", \"n_iter\": 72, \"prop\": \"z0\", \"value\": 1.9860914945602417}, {\"info\": \"Lambda\", \"n_iter\": 72, \"prop\": \"z0\", \"value\": 1.9955673217773438}, {\"info\": \"Lambda\", \"n_iter\": 73, \"prop\": \"z0\", \"value\": 2.0098047256469727}, {\"info\": \"Lambda\", \"n_iter\": 73, \"prop\": \"z0\", \"value\": 2.0160608291625977}, {\"info\": \"Lambda\", \"n_iter\": 73, \"prop\": \"z0\", \"value\": 1.9842393398284912}, {\"info\": \"Lambda\", \"n_iter\": 74, \"prop\": \"z0\", \"value\": 2.0063130855560303}, {\"info\": \"Lambda\", \"n_iter\": 74, \"prop\": \"z0\", \"value\": 1.985283374786377}, {\"info\": \"Lambda\", \"n_iter\": 74, \"prop\": \"z0\", \"value\": 2.028346538543701}, {\"info\": \"Lambda\", \"n_iter\": 75, \"prop\": \"z0\", \"value\": 2.0034711360931396}, {\"info\": \"Lambda\", \"n_iter\": 75, \"prop\": \"z0\", \"value\": 2.0333659648895264}, {\"info\": \"Lambda\", \"n_iter\": 75, \"prop\": \"z0\", \"value\": 2.0098235607147217}, {\"info\": \"Lambda\", \"n_iter\": 76, \"prop\": \"z0\", \"value\": 2.0343129634857178}, {\"info\": \"Lambda\", \"n_iter\": 76, \"prop\": \"z0\", \"value\": 2.0244364738464355}, {\"info\": \"Lambda\", \"n_iter\": 76, \"prop\": \"z0\", \"value\": 2.0094285011291504}, {\"info\": \"Lambda\", \"n_iter\": 77, \"prop\": \"z0\", \"value\": 2.0296378135681152}, {\"info\": \"Lambda\", \"n_iter\": 77, \"prop\": \"z0\", \"value\": 2.0124669075012207}, {\"info\": \"Lambda\", \"n_iter\": 77, \"prop\": \"z0\", \"value\": 2.041553497314453}, {\"info\": \"Lambda\", \"n_iter\": 78, \"prop\": \"z0\", \"value\": 2.0194027423858643}, {\"info\": \"Lambda\", \"n_iter\": 78, \"prop\": \"z0\", \"value\": 2.046600818634033}, {\"info\": \"Lambda\", \"n_iter\": 78, \"prop\": \"z0\", \"value\": 2.0348522663116455}, {\"info\": \"Lambda\", \"n_iter\": 79, \"prop\": \"z0\", \"value\": 2.05047869682312}, {\"info\": \"Lambda\", \"n_iter\": 79, \"prop\": \"z0\", \"value\": 2.0426740646362305}, {\"info\": \"Lambda\", \"n_iter\": 79, \"prop\": \"z0\", \"value\": 2.027768850326538}, {\"info\": \"Lambda\", \"n_iter\": 80, \"prop\": \"z0\", \"value\": 2.049485683441162}, {\"info\": \"Lambda\", \"n_iter\": 80, \"prop\": \"z0\", \"value\": 2.033283233642578}, {\"info\": \"Lambda\", \"n_iter\": 80, \"prop\": \"z0\", \"value\": 2.0537776947021484}, {\"info\": \"Lambda\", \"n_iter\": 81, \"prop\": \"z0\", \"value\": 2.035890817642212}, {\"info\": \"Lambda\", \"n_iter\": 81, \"prop\": \"z0\", \"value\": 2.061375379562378}, {\"info\": \"Lambda\", \"n_iter\": 81, \"prop\": \"z0\", \"value\": 2.053826093673706}, {\"info\": \"Lambda\", \"n_iter\": 82, \"prop\": \"z0\", \"value\": 2.06486177444458}, {\"info\": \"Lambda\", \"n_iter\": 82, \"prop\": \"z0\", \"value\": 2.056837320327759}, {\"info\": \"Lambda\", \"n_iter\": 82, \"prop\": \"z0\", \"value\": 2.046736001968384}, {\"info\": \"Lambda\", \"n_iter\": 83, \"prop\": \"z0\", \"value\": 2.0660433769226074}, {\"info\": \"Lambda\", \"n_iter\": 83, \"prop\": \"z0\", \"value\": 2.0514774322509766}, {\"info\": \"Lambda\", \"n_iter\": 83, \"prop\": \"z0\", \"value\": 2.0666911602020264}, {\"info\": \"Lambda\", \"n_iter\": 84, \"prop\": \"z0\", \"value\": 2.0523834228515625}, {\"info\": \"Lambda\", \"n_iter\": 84, \"prop\": \"z0\", \"value\": 2.078022003173828}, {\"info\": \"Lambda\", \"n_iter\": 84, \"prop\": \"z0\", \"value\": 2.0676770210266113}, {\"info\": \"Lambda\", \"n_iter\": 85, \"prop\": \"z0\", \"value\": 2.0791666507720947}, {\"info\": \"Lambda\", \"n_iter\": 85, \"prop\": \"z0\", \"value\": 2.067654609680176}, {\"info\": \"Lambda\", \"n_iter\": 85, \"prop\": \"z0\", \"value\": 2.0668418407440186}, {\"info\": \"Lambda\", \"n_iter\": 86, \"prop\": \"z0\", \"value\": 2.0801069736480713}, {\"info\": \"Lambda\", \"n_iter\": 86, \"prop\": \"z0\", \"value\": 2.0701749324798584}, {\"info\": \"Lambda\", \"n_iter\": 86, \"prop\": \"z0\", \"value\": 2.078773021697998}, {\"info\": \"Lambda\", \"n_iter\": 87, \"prop\": \"z0\", \"value\": 2.06901216506958}, {\"info\": \"Lambda\", \"n_iter\": 87, \"prop\": \"z0\", \"value\": 2.0932765007019043}, {\"info\": \"Lambda\", \"n_iter\": 87, \"prop\": \"z0\", \"value\": 2.0800535678863525}, {\"info\": \"Lambda\", \"n_iter\": 88, \"prop\": \"z0\", \"value\": 2.0930981636047363}, {\"info\": \"Lambda\", \"n_iter\": 88, \"prop\": \"z0\", \"value\": 2.0771067142486572}, {\"info\": \"Lambda\", \"n_iter\": 88, \"prop\": \"z0\", \"value\": 2.087958335876465}, {\"info\": \"Lambda\", \"n_iter\": 89, \"prop\": \"z0\", \"value\": 2.0932140350341797}, {\"info\": \"Lambda\", \"n_iter\": 89, \"prop\": \"z0\", \"value\": 2.091179132461548}, {\"info\": \"Lambda\", \"n_iter\": 89, \"prop\": \"z0\", \"value\": 2.08558988571167}, {\"info\": \"Lambda\", \"n_iter\": 90, \"prop\": \"z0\", \"value\": 2.0839481353759766}, {\"info\": \"Lambda\", \"n_iter\": 90, \"prop\": \"z0\", \"value\": 2.1012861728668213}, {\"info\": \"Lambda\", \"n_iter\": 90, \"prop\": \"z0\", \"value\": 2.0992398262023926}, {\"info\": \"Lambda\", \"n_iter\": 91, \"prop\": \"z0\", \"value\": 2.1062023639678955}, {\"info\": \"Lambda\", \"n_iter\": 91, \"prop\": \"z0\", \"value\": 2.092402458190918}, {\"info\": \"Lambda\", \"n_iter\": 91, \"prop\": \"z0\", \"value\": 2.0987963676452637}, {\"info\": \"Lambda\", \"n_iter\": 92, \"prop\": \"z0\", \"value\": 2.104766607284546}, {\"info\": \"Lambda\", \"n_iter\": 92, \"prop\": \"z0\", \"value\": 2.1073005199432373}, {\"info\": \"Lambda\", \"n_iter\": 92, \"prop\": \"z0\", \"value\": 2.0965218544006348}, {\"info\": \"Lambda\", \"n_iter\": 93, \"prop\": \"z0\", \"value\": 2.098654270172119}, {\"info\": \"Lambda\", \"n_iter\": 93, \"prop\": \"z0\", \"value\": 2.1067469120025635}, {\"info\": \"Lambda\", \"n_iter\": 93, \"prop\": \"z0\", \"value\": 2.119751214981079}, {\"info\": \"Lambda\", \"n_iter\": 94, \"prop\": \"z0\", \"value\": 2.1187028884887695}, {\"info\": \"Lambda\", \"n_iter\": 94, \"prop\": \"z0\", \"value\": 2.115793228149414}, {\"info\": \"Lambda\", \"n_iter\": 94, \"prop\": \"z0\", \"value\": 2.0998592376708984}, {\"info\": \"Lambda\", \"n_iter\": 95, \"prop\": \"z0\", \"value\": 2.1174733638763428}, {\"info\": \"Lambda\", \"n_iter\": 95, \"prop\": \"z0\", \"value\": 2.1083712577819824}, {\"info\": \"Lambda\", \"n_iter\": 95, \"prop\": \"z0\", \"value\": 2.1222476959228516}, {\"info\": \"Lambda\", \"n_iter\": 96, \"prop\": \"z0\", \"value\": 2.1099777221679688}, {\"info\": \"Lambda\", \"n_iter\": 96, \"prop\": \"z0\", \"value\": 2.130178213119507}, {\"info\": \"Lambda\", \"n_iter\": 96, \"prop\": \"z0\", \"value\": 2.1185271739959717}, {\"info\": \"Lambda\", \"n_iter\": 97, \"prop\": \"z0\", \"value\": 2.1306588649749756}, {\"info\": \"Lambda\", \"n_iter\": 97, \"prop\": \"z0\", \"value\": 2.1166932582855225}, {\"info\": \"Lambda\", \"n_iter\": 97, \"prop\": \"z0\", \"value\": 2.1246607303619385}, {\"info\": \"Lambda\", \"n_iter\": 98, \"prop\": \"z0\", \"value\": 2.129229784011841}, {\"info\": \"Lambda\", \"n_iter\": 98, \"prop\": \"z0\", \"value\": 2.12947154045105}, {\"info\": \"Lambda\", \"n_iter\": 98, \"prop\": \"z0\", \"value\": 2.1236183643341064}, {\"info\": \"Lambda\", \"n_iter\": 99, \"prop\": \"z0\", \"value\": 2.123145818710327}, {\"info\": \"Lambda\", \"n_iter\": 99, \"prop\": \"z0\", \"value\": 2.1351168155670166}, {\"info\": \"Lambda\", \"n_iter\": 99, \"prop\": \"z0\", \"value\": 2.136143922805786}, {\"info\": \"Lambda\", \"n_iter\": 100, \"prop\": \"z0\", \"value\": 2.139099597930908}, {\"info\": \"Lambda\", \"n_iter\": 100, \"prop\": \"z0\", \"value\": 2.131690263748169}, {\"info\": \"Lambda\", \"n_iter\": 100, \"prop\": \"z0\", \"value\": 2.135006904602051}, {\"info\": \"Lambda\", \"n_iter\": 101, \"prop\": \"z0\", \"value\": 2.03909969329834}, {\"info\": \"Lambda\", \"n_iter\": 101, \"prop\": \"z0\", \"value\": 2.2316901683807373}, {\"info\": \"Lambda\", \"n_iter\": 101, \"prop\": \"z0\", \"value\": 2.0350069999694824}, {\"info\": \"Lambda\", \"n_iter\": 102, \"prop\": \"z0\", \"value\": 2.1097137928009033}, {\"info\": \"Lambda\", \"n_iter\": 102, \"prop\": \"z0\", \"value\": 2.1593310832977295}, {\"info\": \"Lambda\", \"n_iter\": 102, \"prop\": \"z0\", \"value\": 2.1090643405914307}, {\"info\": \"Lambda\", \"n_iter\": 103, \"prop\": \"z0\", \"value\": 2.177394151687622}, {\"info\": \"Lambda\", \"n_iter\": 103, \"prop\": \"z0\", \"value\": 2.0896263122558594}, {\"info\": \"Lambda\", \"n_iter\": 103, \"prop\": \"z0\", \"value\": 2.1793901920318604}, {\"info\": \"Lambda\", \"n_iter\": 104, \"prop\": \"z0\", \"value\": 2.2088873386383057}, {\"info\": \"Lambda\", \"n_iter\": 104, \"prop\": \"z0\", \"value\": 2.0604114532470703}, {\"info\": \"Lambda\", \"n_iter\": 104, \"prop\": \"z0\", \"value\": 2.2125403881073}, {\"info\": \"Lambda\", \"n_iter\": 105, \"prop\": \"z0\", \"value\": 2.205704689025879}, {\"info\": \"Lambda\", \"n_iter\": 105, \"prop\": \"z0\", \"value\": 2.0694966316223145}, {\"info\": \"Lambda\", \"n_iter\": 105, \"prop\": \"z0\", \"value\": 2.2098846435546875}, {\"info\": \"Lambda\", \"n_iter\": 106, \"prop\": \"z0\", \"value\": 2.182918071746826}, {\"info\": \"Lambda\", \"n_iter\": 106, \"prop\": \"z0\", \"value\": 2.099057197570801}, {\"info\": \"Lambda\", \"n_iter\": 106, \"prop\": \"z0\", \"value\": 2.1867988109588623}, {\"info\": \"Lambda\", \"n_iter\": 107, \"prop\": \"z0\", \"value\": 2.1522769927978516}, {\"info\": \"Lambda\", \"n_iter\": 107, \"prop\": \"z0\", \"value\": 2.136455535888672}, {\"info\": \"Lambda\", \"n_iter\": 107, \"prop\": \"z0\", \"value\": 2.155244827270508}, {\"info\": \"Lambda\", \"n_iter\": 108, \"prop\": \"z0\", \"value\": 2.12339448928833}, {\"info\": \"Lambda\", \"n_iter\": 108, \"prop\": \"z0\", \"value\": 2.1717734336853027}, {\"info\": \"Lambda\", \"n_iter\": 108, \"prop\": \"z0\", \"value\": 2.1249330043792725}, {\"info\": \"Lambda\", \"n_iter\": 109, \"prop\": \"z0\", \"value\": 2.103856086730957}, {\"info\": \"Lambda\", \"n_iter\": 109, \"prop\": \"z0\", \"value\": 2.1973323822021484}, {\"info\": \"Lambda\", \"n_iter\": 109, \"prop\": \"z0\", \"value\": 2.1037769317626953}, {\"info\": \"Lambda\", \"n_iter\": 110, \"prop\": \"z0\", \"value\": 2.0974183082580566}, {\"info\": \"Lambda\", \"n_iter\": 110, \"prop\": \"z0\", \"value\": 2.2093770503997803}, {\"info\": \"Lambda\", \"n_iter\": 110, \"prop\": \"z0\", \"value\": 2.0960140228271484}, {\"info\": \"Lambda\", \"n_iter\": 111, \"prop\": \"z0\", \"value\": 2.103503942489624}, {\"info\": \"Lambda\", \"n_iter\": 111, \"prop\": \"z0\", \"value\": 2.208448886871338}, {\"info\": \"Lambda\", \"n_iter\": 111, \"prop\": \"z0\", \"value\": 2.1013195514678955}, {\"info\": \"Lambda\", \"n_iter\": 112, \"prop\": \"z0\", \"value\": 2.119032144546509}, {\"info\": \"Lambda\", \"n_iter\": 112, \"prop\": \"z0\", \"value\": 2.197526454925537}, {\"info\": \"Lambda\", \"n_iter\": 112, \"prop\": \"z0\", \"value\": 2.1166625022888184}, {\"info\": \"Lambda\", \"n_iter\": 113, \"prop\": \"z0\", \"value\": 2.1399996280670166}, {\"info\": \"Lambda\", \"n_iter\": 113, \"prop\": \"z0\", \"value\": 2.1805355548858643}, {\"info\": \"Lambda\", \"n_iter\": 113, \"prop\": \"z0\", \"value\": 2.1379826068878174}, {\"info\": \"Lambda\", \"n_iter\": 114, \"prop\": \"z0\", \"value\": 2.1623289585113525}, {\"info\": \"Lambda\", \"n_iter\": 114, \"prop\": \"z0\", \"value\": 2.1615817546844482}, {\"info\": \"Lambda\", \"n_iter\": 114, \"prop\": \"z0\", \"value\": 2.161064624786377}, {\"info\": \"Lambda\", \"n_iter\": 115, \"prop\": \"z0\", \"value\": 2.182349681854248}, {\"info\": \"Lambda\", \"n_iter\": 115, \"prop\": \"z0\", \"value\": 2.1444993019104004}, {\"info\": \"Lambda\", \"n_iter\": 115, \"prop\": \"z0\", \"value\": 2.1820499897003174}, {\"info\": \"Lambda\", \"n_iter\": 116, \"prop\": \"z0\", \"value\": 2.1972367763519287}, {\"info\": \"Lambda\", \"n_iter\": 116, \"prop\": \"z0\", \"value\": 2.132385730743408}, {\"info\": \"Lambda\", \"n_iter\": 116, \"prop\": \"z0\", \"value\": 2.1979033946990967}, {\"info\": \"Lambda\", \"n_iter\": 117, \"prop\": \"z0\", \"value\": 2.205388307571411}, {\"info\": \"Lambda\", \"n_iter\": 117, \"prop\": \"z0\", \"value\": 2.1271140575408936}, {\"info\": \"Lambda\", \"n_iter\": 117, \"prop\": \"z0\", \"value\": 2.2068347930908203}, {\"info\": \"Lambda\", \"n_iter\": 118, \"prop\": \"z0\", \"value\": 2.2065412998199463}, {\"info\": \"Lambda\", \"n_iter\": 118, \"prop\": \"z0\", \"value\": 2.1290977001190186}, {\"info\": \"Lambda\", \"n_iter\": 118, \"prop\": \"z0\", \"value\": 2.208461284637451}, {\"info\": \"Lambda\", \"n_iter\": 119, \"prop\": \"z0\", \"value\": 2.2015621662139893}, {\"info\": \"Lambda\", \"n_iter\": 119, \"prop\": \"z0\", \"value\": 2.137458562850952}, {\"info\": \"Lambda\", \"n_iter\": 119, \"prop\": \"z0\", \"value\": 2.2036263942718506}, {\"info\": \"Lambda\", \"n_iter\": 120, \"prop\": \"z0\", \"value\": 2.192096471786499}, {\"info\": \"Lambda\", \"n_iter\": 120, \"prop\": \"z0\", \"value\": 2.150433301925659}, {\"info\": \"Lambda\", \"n_iter\": 120, \"prop\": \"z0\", \"value\": 2.1940219402313232}, {\"info\": \"Lambda\", \"n_iter\": 121, \"prop\": \"z0\", \"value\": 2.1802797317504883}, {\"info\": \"Lambda\", \"n_iter\": 121, \"prop\": \"z0\", \"value\": 2.1657469272613525}, {\"info\": \"Lambda\", \"n_iter\": 121, \"prop\": \"z0\", \"value\": 2.1818461418151855}, {\"info\": \"Lambda\", \"n_iter\": 122, \"prop\": \"z0\", \"value\": 2.168396234512329}, {\"info\": \"Lambda\", \"n_iter\": 122, \"prop\": \"z0\", \"value\": 2.181002140045166}, {\"info\": \"Lambda\", \"n_iter\": 122, \"prop\": \"z0\", \"value\": 2.169457197189331}, {\"info\": \"Lambda\", \"n_iter\": 123, \"prop\": \"z0\", \"value\": 2.1585853099823}, {\"info\": \"Lambda\", \"n_iter\": 123, \"prop\": \"z0\", \"value\": 2.193995714187622}, {\"info\": \"Lambda\", \"n_iter\": 123, \"prop\": \"z0\", \"value\": 2.1590747833251953}, {\"info\": \"Lambda\", \"n_iter\": 124, \"prop\": \"z0\", \"value\": 2.152528762817383}, {\"info\": \"Lambda\", \"n_iter\": 124, \"prop\": \"z0\", \"value\": 2.203033685684204}, {\"info\": \"Lambda\", \"n_iter\": 124, \"prop\": \"z0\", \"value\": 2.1524507999420166}, {\"info\": \"Lambda\", \"n_iter\": 125, \"prop\": \"z0\", \"value\": 2.151188611984253}, {\"info\": \"Lambda\", \"n_iter\": 125, \"prop\": \"z0\", \"value\": 2.2071661949157715}, {\"info\": \"Lambda\", \"n_iter\": 125, \"prop\": \"z0\", \"value\": 2.150602340698242}, {\"info\": \"Lambda\", \"n_iter\": 126, \"prop\": \"z0\", \"value\": 2.154646158218384}, {\"info\": \"Lambda\", \"n_iter\": 126, \"prop\": \"z0\", \"value\": 2.2063095569610596}, {\"info\": \"Lambda\", \"n_iter\": 126, \"prop\": \"z0\", \"value\": 2.1536619663238525}, {\"info\": \"Lambda\", \"n_iter\": 127, \"prop\": \"z0\", \"value\": 2.1621601581573486}, {\"info\": \"Lambda\", \"n_iter\": 127, \"prop\": \"z0\", \"value\": 2.2011852264404297}, {\"info\": \"Lambda\", \"n_iter\": 127, \"prop\": \"z0\", \"value\": 2.1609227657318115}, {\"info\": \"Lambda\", \"n_iter\": 128, \"prop\": \"z0\", \"value\": 2.17232608795166}, {\"info\": \"Lambda\", \"n_iter\": 128, \"prop\": \"z0\", \"value\": 2.1931569576263428}, {\"info\": \"Lambda\", \"n_iter\": 128, \"prop\": \"z0\", \"value\": 2.1710259914398193}, {\"info\": \"Lambda\", \"n_iter\": 129, \"prop\": \"z0\", \"value\": 2.183342218399048}, {\"info\": \"Lambda\", \"n_iter\": 129, \"prop\": \"z0\", \"value\": 2.183999538421631}, {\"info\": \"Lambda\", \"n_iter\": 129, \"prop\": \"z0\", \"value\": 2.1822094917297363}, {\"info\": \"Lambda\", \"n_iter\": 130, \"prop\": \"z0\", \"value\": 2.1933178901672363}, {\"info\": \"Lambda\", \"n_iter\": 130, \"prop\": \"z0\", \"value\": 2.175612211227417}, {\"info\": \"Lambda\", \"n_iter\": 130, \"prop\": \"z0\", \"value\": 2.192608118057251}, {\"info\": \"Lambda\", \"n_iter\": 131, \"prop\": \"z0\", \"value\": 2.20060658454895}, {\"info\": \"Lambda\", \"n_iter\": 131, \"prop\": \"z0\", \"value\": 2.1696977615356445}, {\"info\": \"Lambda\", \"n_iter\": 131, \"prop\": \"z0\", \"value\": 2.2005674839019775}, {\"info\": \"Lambda\", \"n_iter\": 132, \"prop\": \"z0\", \"value\": 2.204132080078125}, {\"info\": \"Lambda\", \"n_iter\": 132, \"prop\": \"z0\", \"value\": 2.1674296855926514}, {\"info\": \"Lambda\", \"n_iter\": 132, \"prop\": \"z0\", \"value\": 2.204941511154175}, {\"info\": \"Lambda\", \"n_iter\": 133, \"prop\": \"z0\", \"value\": 2.2035839557647705}, {\"info\": \"Lambda\", \"n_iter\": 133, \"prop\": \"z0\", \"value\": 2.1692259311676025}, {\"info\": \"Lambda\", \"n_iter\": 133, \"prop\": \"z0\", \"value\": 2.205293655395508}, {\"info\": \"Lambda\", \"n_iter\": 134, \"prop\": \"z0\", \"value\": 2.199505567550659}, {\"info\": \"Lambda\", \"n_iter\": 134, \"prop\": \"z0\", \"value\": 2.174649238586426}, {\"info\": \"Lambda\", \"n_iter\": 134, \"prop\": \"z0\", \"value\": 2.2019777297973633}, {\"info\": \"Lambda\", \"n_iter\": 135, \"prop\": \"z0\", \"value\": 2.193159341812134}, {\"info\": \"Lambda\", \"n_iter\": 135, \"prop\": \"z0\", \"value\": 2.1825170516967773}, {\"info\": \"Lambda\", \"n_iter\": 135, \"prop\": \"z0\", \"value\": 2.196061134338379}, {\"info\": \"Lambda\", \"n_iter\": 136, \"prop\": \"z0\", \"value\": 2.1862831115722656}, {\"info\": \"Lambda\", \"n_iter\": 136, \"prop\": \"z0\", \"value\": 2.1911466121673584}, {\"info\": \"Lambda\", \"n_iter\": 136, \"prop\": \"z0\", \"value\": 2.189119338989258}, {\"info\": \"Lambda\", \"n_iter\": 137, \"prop\": \"z0\", \"value\": 2.180715799331665}, {\"info\": \"Lambda\", \"n_iter\": 137, \"prop\": \"z0\", \"value\": 2.1987314224243164}, {\"info\": \"Lambda\", \"n_iter\": 137, \"prop\": \"z0\", \"value\": 2.1828956604003906}, {\"info\": \"Lambda\", \"n_iter\": 138, \"prop\": \"z0\", \"value\": 2.1779539585113525}, {\"info\": \"Lambda\", \"n_iter\": 138, \"prop\": \"z0\", \"value\": 2.2037389278411865}, {\"info\": \"Lambda\", \"n_iter\": 138, \"prop\": \"z0\", \"value\": 2.1789450645446777}, {\"info\": \"Lambda\", \"n_iter\": 139, \"prop\": \"z0\", \"value\": 2.17875599861145}, {\"info\": \"Lambda\", \"n_iter\": 139, \"prop\": \"z0\", \"value\": 2.2052853107452393}, {\"info\": \"Lambda\", \"n_iter\": 139, \"prop\": \"z0\", \"value\": 2.1782546043395996}, {\"info\": \"Lambda\", \"n_iter\": 140, \"prop\": \"z0\", \"value\": 2.1828994750976562}, {\"info\": \"Lambda\", \"n_iter\": 140, \"prop\": \"z0\", \"value\": 2.2033684253692627}, {\"info\": \"Lambda\", \"n_iter\": 140, \"prop\": \"z0\", \"value\": 2.1809897422790527}, {\"info\": \"Lambda\", \"n_iter\": 141, \"prop\": \"z0\", \"value\": 2.189255475997925}, {\"info\": \"Lambda\", \"n_iter\": 141, \"prop\": \"z0\", \"value\": 2.198873281478882}, {\"info\": \"Lambda\", \"n_iter\": 141, \"prop\": \"z0\", \"value\": 2.1864311695098877}, {\"info\": \"Lambda\", \"n_iter\": 142, \"prop\": \"z0\", \"value\": 2.1960787773132324}, {\"info\": \"Lambda\", \"n_iter\": 142, \"prop\": \"z0\", \"value\": 2.1933443546295166}, {\"info\": \"Lambda\", \"n_iter\": 142, \"prop\": \"z0\", \"value\": 2.1931796073913574}, {\"info\": \"Lambda\", \"n_iter\": 143, \"prop\": \"z0\", \"value\": 2.2015202045440674}, {\"info\": \"Lambda\", \"n_iter\": 143, \"prop\": \"z0\", \"value\": 2.188580274581909}, {\"info\": \"Lambda\", \"n_iter\": 143, \"prop\": \"z0\", \"value\": 2.1995108127593994}, {\"info\": \"Lambda\", \"n_iter\": 144, \"prop\": \"z0\", \"value\": 2.2041890621185303}, {\"info\": \"Lambda\", \"n_iter\": 144, \"prop\": \"z0\", \"value\": 2.1861226558685303}, {\"info\": \"Lambda\", \"n_iter\": 144, \"prop\": \"z0\", \"value\": 2.203845500946045}, {\"info\": \"Lambda\", \"n_iter\": 145, \"prop\": \"z0\", \"value\": 2.2036044597625732}, {\"info\": \"Lambda\", \"n_iter\": 145, \"prop\": \"z0\", \"value\": 2.186779499053955}, {\"info\": \"Lambda\", \"n_iter\": 145, \"prop\": \"z0\", \"value\": 2.205207109451294}, {\"info\": \"Lambda\", \"n_iter\": 146, \"prop\": \"z0\", \"value\": 2.2003536224365234}, {\"info\": \"Lambda\", \"n_iter\": 146, \"prop\": \"z0\", \"value\": 2.1903460025787354}, {\"info\": \"Lambda\", \"n_iter\": 146, \"prop\": \"z0\", \"value\": 2.203547239303589}, {\"info\": \"Lambda\", \"n_iter\": 147, \"prop\": \"z0\", \"value\": 2.1959006786346436}, {\"info\": \"Lambda\", \"n_iter\": 147, \"prop\": \"z0\", \"value\": 2.1956846714019775}, {\"info\": \"Lambda\", \"n_iter\": 147, \"prop\": \"z0\", \"value\": 2.1997454166412354}, {\"info\": \"Lambda\", \"n_iter\": 148, \"prop\": \"z0\", \"value\": 2.1920905113220215}, {\"info\": \"Lambda\", \"n_iter\": 148, \"prop\": \"z0\", \"value\": 2.2010889053344727}, {\"info\": \"Lambda\", \"n_iter\": 148, \"prop\": \"z0\", \"value\": 2.1953649520874023}, {\"info\": \"Lambda\", \"n_iter\": 149, \"prop\": \"z0\", \"value\": 2.1904804706573486}, {\"info\": \"Lambda\", \"n_iter\": 149, \"prop\": \"z0\", \"value\": 2.2048826217651367}, {\"info\": \"Lambda\", \"n_iter\": 149, \"prop\": \"z0\", \"value\": 2.1921300888061523}, {\"info\": \"Lambda\", \"n_iter\": 150, \"prop\": \"z0\", \"value\": 2.1917502880096436}, {\"info\": \"Lambda\", \"n_iter\": 150, \"prop\": \"z0\", \"value\": 2.2060184478759766}, {\"info\": \"Lambda\", \"n_iter\": 150, \"prop\": \"z0\", \"value\": 2.19132661819458}, {\"info\": \"Lambda\", \"n_iter\": 151, \"prop\": \"z0\", \"value\": 2.19545841217041}, {\"info\": \"Lambda\", \"n_iter\": 151, \"prop\": \"z0\", \"value\": 2.204468011856079}, {\"info\": \"Lambda\", \"n_iter\": 151, \"prop\": \"z0\", \"value\": 2.1932997703552246}, {\"info\": \"Lambda\", \"n_iter\": 152, \"prop\": \"z0\", \"value\": 2.200216054916382}, {\"info\": \"Lambda\", \"n_iter\": 152, \"prop\": \"z0\", \"value\": 2.2012062072753906}, {\"info\": \"Lambda\", \"n_iter\": 152, \"prop\": \"z0\", \"value\": 2.197361469268799}, {\"info\": \"Lambda\", \"n_iter\": 153, \"prop\": \"z0\", \"value\": 2.2042527198791504}, {\"info\": \"Lambda\", \"n_iter\": 153, \"prop\": \"z0\", \"value\": 2.197852373123169}, {\"info\": \"Lambda\", \"n_iter\": 153, \"prop\": \"z0\", \"value\": 2.2020223140716553}, {\"info\": \"Lambda\", \"n_iter\": 154, \"prop\": \"z0\", \"value\": 2.206190824508667}, {\"info\": \"Lambda\", \"n_iter\": 154, \"prop\": \"z0\", \"value\": 2.195996046066284}, {\"info\": \"Lambda\", \"n_iter\": 154, \"prop\": \"z0\", \"value\": 2.205599784851074}, {\"info\": \"Lambda\", \"n_iter\": 155, \"prop\": \"z0\", \"value\": 2.205610752105713}, {\"info\": \"Lambda\", \"n_iter\": 155, \"prop\": \"z0\", \"value\": 2.1965417861938477}, {\"info\": \"Lambda\", \"n_iter\": 155, \"prop\": \"z0\", \"value\": 2.2069058418273926}, {\"info\": \"Lambda\", \"n_iter\": 156, \"prop\": \"z0\", \"value\": 2.2031588554382324}, {\"info\": \"Lambda\", \"n_iter\": 156, \"prop\": \"z0\", \"value\": 2.199331521987915}, {\"info\": \"Lambda\", \"n_iter\": 156, \"prop\": \"z0\", \"value\": 2.2057747840881348}, {\"info\": \"Lambda\", \"n_iter\": 157, \"prop\": \"z0\", \"value\": 2.2002627849578857}, {\"info\": \"Lambda\", \"n_iter\": 157, \"prop\": \"z0\", \"value\": 2.2032368183135986}, {\"info\": \"Lambda\", \"n_iter\": 157, \"prop\": \"z0\", \"value\": 2.2031021118164062}, {\"info\": \"Lambda\", \"n_iter\": 158, \"prop\": \"z0\", \"value\": 2.1984572410583496}, {\"info\": \"Lambda\", \"n_iter\": 158, \"prop\": \"z0\", \"value\": 2.2066729068756104}, {\"info\": \"Lambda\", \"n_iter\": 158, \"prop\": \"z0\", \"value\": 2.2004644870758057}, {\"info\": \"Lambda\", \"n_iter\": 159, \"prop\": \"z0\", \"value\": 2.198709011077881}, {\"info\": \"Lambda\", \"n_iter\": 159, \"prop\": \"z0\", \"value\": 2.2083423137664795}, {\"info\": \"Lambda\", \"n_iter\": 159, \"prop\": \"z0\", \"value\": 2.199354410171509}, {\"info\": \"Lambda\", \"n_iter\": 160, \"prop\": \"z0\", \"value\": 2.2010161876678467}, {\"info\": \"Lambda\", \"n_iter\": 160, \"prop\": \"z0\", \"value\": 2.207831382751465}, {\"info\": \"Lambda\", \"n_iter\": 160, \"prop\": \"z0\", \"value\": 2.2004570960998535}, {\"info\": \"Lambda\", \"n_iter\": 161, \"prop\": \"z0\", \"value\": 2.204407215118408}, {\"info\": \"Lambda\", \"n_iter\": 161, \"prop\": \"z0\", \"value\": 2.205801486968994}, {\"info\": \"Lambda\", \"n_iter\": 161, \"prop\": \"z0\", \"value\": 2.203328847885132}, {\"info\": \"Lambda\", \"n_iter\": 162, \"prop\": \"z0\", \"value\": 2.207486629486084}, {\"info\": \"Lambda\", \"n_iter\": 162, \"prop\": \"z0\", \"value\": 2.203627109527588}, {\"info\": \"Lambda\", \"n_iter\": 162, \"prop\": \"z0\", \"value\": 2.206637144088745}, {\"info\": \"Lambda\", \"n_iter\": 163, \"prop\": \"z0\", \"value\": 2.2090890407562256}, {\"info\": \"Lambda\", \"n_iter\": 163, \"prop\": \"z0\", \"value\": 2.2026615142822266}, {\"info\": \"Lambda\", \"n_iter\": 163, \"prop\": \"z0\", \"value\": 2.20894193649292}, {\"info\": \"Lambda\", \"n_iter\": 164, \"prop\": \"z0\", \"value\": 2.2088396549224854}, {\"info\": \"Lambda\", \"n_iter\": 164, \"prop\": \"z0\", \"value\": 2.2035951614379883}, {\"info\": \"Lambda\", \"n_iter\": 164, \"prop\": \"z0\", \"value\": 2.2093703746795654}, {\"info\": \"Lambda\", \"n_iter\": 165, \"prop\": \"z0\", \"value\": 2.207278251647949}, {\"info\": \"Lambda\", \"n_iter\": 165, \"prop\": \"z0\", \"value\": 2.20607852935791}, {\"info\": \"Lambda\", \"n_iter\": 165, \"prop\": \"z0\", \"value\": 2.2081358432769775}, {\"info\": \"Lambda\", \"n_iter\": 166, \"prop\": \"z0\", \"value\": 2.205483913421631}, {\"info\": \"Lambda\", \"n_iter\": 166, \"prop\": \"z0\", \"value\": 2.2089755535125732}, {\"info\": \"Lambda\", \"n_iter\": 166, \"prop\": \"z0\", \"value\": 2.206378936767578}, {\"info\": \"Lambda\", \"n_iter\": 167, \"prop\": \"z0\", \"value\": 2.2045772075653076}, {\"info\": \"Lambda\", \"n_iter\": 167, \"prop\": \"z0\", \"value\": 2.2110071182250977}, {\"info\": \"Lambda\", \"n_iter\": 167, \"prop\": \"z0\", \"value\": 2.205453634262085}, {\"info\": \"Lambda\", \"n_iter\": 168, \"prop\": \"z0\", \"value\": 2.2051565647125244}, {\"info\": \"Lambda\", \"n_iter\": 168, \"prop\": \"z0\", \"value\": 2.211460828781128}, {\"info\": \"Lambda\", \"n_iter\": 168, \"prop\": \"z0\", \"value\": 2.2061362266540527}, {\"info\": \"Lambda\", \"n_iter\": 169, \"prop\": \"z0\", \"value\": 2.207062005996704}, {\"info\": \"Lambda\", \"n_iter\": 169, \"prop\": \"z0\", \"value\": 2.2105109691619873}, {\"info\": \"Lambda\", \"n_iter\": 169, \"prop\": \"z0\", \"value\": 2.2082481384277344}, {\"info\": \"Lambda\", \"n_iter\": 170, \"prop\": \"z0\", \"value\": 2.209555149078369}, {\"info\": \"Lambda\", \"n_iter\": 170, \"prop\": \"z0\", \"value\": 2.2090883255004883}, {\"info\": \"Lambda\", \"n_iter\": 170, \"prop\": \"z0\", \"value\": 2.210750102996826}, {\"info\": \"Lambda\", \"n_iter\": 171, \"prop\": \"z0\", \"value\": 2.211622476577759}, {\"info\": \"Lambda\", \"n_iter\": 171, \"prop\": \"z0\", \"value\": 2.2083652019500732}, {\"info\": \"Lambda\", \"n_iter\": 171, \"prop\": \"z0\", \"value\": 2.2123942375183105}, {\"info\": \"Lambda\", \"n_iter\": 172, \"prop\": \"z0\", \"value\": 2.2125773429870605}, {\"info\": \"Lambda\", \"n_iter\": 172, \"prop\": \"z0\", \"value\": 2.209024667739868}, {\"info\": \"Lambda\", \"n_iter\": 172, \"prop\": \"z0\", \"value\": 2.2125208377838135}, {\"info\": \"Lambda\", \"n_iter\": 173, \"prop\": \"z0\", \"value\": 2.2123870849609375}, {\"info\": \"Lambda\", \"n_iter\": 173, \"prop\": \"z0\", \"value\": 2.210845470428467}, {\"info\": \"Lambda\", \"n_iter\": 173, \"prop\": \"z0\", \"value\": 2.2115116119384766}, {\"info\": \"Lambda\", \"n_iter\": 174, \"prop\": \"z0\", \"value\": 2.211540460586548}, {\"info\": \"Lambda\", \"n_iter\": 174, \"prop\": \"z0\", \"value\": 2.212972402572632}, {\"info\": \"Lambda\", \"n_iter\": 174, \"prop\": \"z0\", \"value\": 2.210442066192627}, {\"info\": \"Lambda\", \"n_iter\": 175, \"prop\": \"z0\", \"value\": 2.2107510566711426}, {\"info\": \"Lambda\", \"n_iter\": 175, \"prop\": \"z0\", \"value\": 2.214456558227539}, {\"info\": \"Lambda\", \"n_iter\": 175, \"prop\": \"z0\", \"value\": 2.210394859313965}, {\"info\": \"Lambda\", \"n_iter\": 176, \"prop\": \"z0\", \"value\": 2.2106425762176514}, {\"info\": \"Lambda\", \"n_iter\": 176, \"prop\": \"z0\", \"value\": 2.214794635772705}, {\"info\": \"Lambda\", \"n_iter\": 176, \"prop\": \"z0\", \"value\": 2.211782217025757}, {\"info\": \"Lambda\", \"n_iter\": 177, \"prop\": \"z0\", \"value\": 2.211426019668579}, {\"info\": \"Lambda\", \"n_iter\": 177, \"prop\": \"z0\", \"value\": 2.2142786979675293}, {\"info\": \"Lambda\", \"n_iter\": 177, \"prop\": \"z0\", \"value\": 2.2139878273010254}, {\"info\": \"Lambda\", \"n_iter\": 178, \"prop\": \"z0\", \"value\": 2.212860584259033}, {\"info\": \"Lambda\", \"n_iter\": 178, \"prop\": \"z0\", \"value\": 2.2137093544006348}, {\"info\": \"Lambda\", \"n_iter\": 178, \"prop\": \"z0\", \"value\": 2.215859889984131}, {\"info\": \"Lambda\", \"n_iter\": 179, \"prop\": \"z0\", \"value\": 2.2144861221313477}, {\"info\": \"Lambda\", \"n_iter\": 179, \"prop\": \"z0\", \"value\": 2.213789224624634}, {\"info\": \"Lambda\", \"n_iter\": 179, \"prop\": \"z0\", \"value\": 2.2165541648864746}, {\"info\": \"Lambda\", \"n_iter\": 180, \"prop\": \"z0\", \"value\": 2.2158026695251465}, {\"info\": \"Lambda\", \"n_iter\": 180, \"prop\": \"z0\", \"value\": 2.2147696018218994}, {\"info\": \"Lambda\", \"n_iter\": 180, \"prop\": \"z0\", \"value\": 2.2159910202026367}, {\"info\": \"Lambda\", \"n_iter\": 181, \"prop\": \"z0\", \"value\": 2.216524600982666}, {\"info\": \"Lambda\", \"n_iter\": 181, \"prop\": \"z0\", \"value\": 2.216257333755493}, {\"info\": \"Lambda\", \"n_iter\": 181, \"prop\": \"z0\", \"value\": 2.2150015830993652}, {\"info\": \"Lambda\", \"n_iter\": 182, \"prop\": \"z0\", \"value\": 2.2167091369628906}, {\"info\": \"Lambda\", \"n_iter\": 182, \"prop\": \"z0\", \"value\": 2.2175490856170654}, {\"info\": \"Lambda\", \"n_iter\": 182, \"prop\": \"z0\", \"value\": 2.214698314666748}, {\"info\": \"Lambda\", \"n_iter\": 183, \"prop\": \"z0\", \"value\": 2.216585874557495}, {\"info\": \"Lambda\", \"n_iter\": 183, \"prop\": \"z0\", \"value\": 2.218202829360962}, {\"info\": \"Lambda\", \"n_iter\": 183, \"prop\": \"z0\", \"value\": 2.215654134750366}, {\"info\": \"Lambda\", \"n_iter\": 184, \"prop\": \"z0\", \"value\": 2.2165398597717285}, {\"info\": \"Lambda\", \"n_iter\": 184, \"prop\": \"z0\", \"value\": 2.2182493209838867}, {\"info\": \"Lambda\", \"n_iter\": 184, \"prop\": \"z0\", \"value\": 2.2175638675689697}, {\"info\": \"Lambda\", \"n_iter\": 185, \"prop\": \"z0\", \"value\": 2.2167954444885254}, {\"info\": \"Lambda\", \"n_iter\": 185, \"prop\": \"z0\", \"value\": 2.218179702758789}, {\"info\": \"Lambda\", \"n_iter\": 185, \"prop\": \"z0\", \"value\": 2.219475746154785}, {\"info\": \"Lambda\", \"n_iter\": 186, \"prop\": \"z0\", \"value\": 2.2174606323242188}, {\"info\": \"Lambda\", \"n_iter\": 186, \"prop\": \"z0\", \"value\": 2.2184951305389404}, {\"info\": \"Lambda\", \"n_iter\": 186, \"prop\": \"z0\", \"value\": 2.220499277114868}, {\"info\": \"Lambda\", \"n_iter\": 187, \"prop\": \"z0\", \"value\": 2.2184274196624756}, {\"info\": \"Lambda\", \"n_iter\": 187, \"prop\": \"z0\", \"value\": 2.219400405883789}, {\"info\": \"Lambda\", \"n_iter\": 187, \"prop\": \"z0\", \"value\": 2.2203712463378906}, {\"info\": \"Lambda\", \"n_iter\": 188, \"prop\": \"z0\", \"value\": 2.2195234298706055}, {\"info\": \"Lambda\", \"n_iter\": 188, \"prop\": \"z0\", \"value\": 2.2205960750579834}, {\"info\": \"Lambda\", \"n_iter\": 188, \"prop\": \"z0\", \"value\": 2.2196946144104004}, {\"info\": \"Lambda\", \"n_iter\": 189, \"prop\": \"z0\", \"value\": 2.22054123878479}, {\"info\": \"Lambda\", \"n_iter\": 189, \"prop\": \"z0\", \"value\": 2.2215962409973145}, {\"info\": \"Lambda\", \"n_iter\": 189, \"prop\": \"z0\", \"value\": 2.2194013595581055}, {\"info\": \"Lambda\", \"n_iter\": 190, \"prop\": \"z0\", \"value\": 2.2213375568389893}, {\"info\": \"Lambda\", \"n_iter\": 190, \"prop\": \"z0\", \"value\": 2.2220864295959473}, {\"info\": \"Lambda\", \"n_iter\": 190, \"prop\": \"z0\", \"value\": 2.2201008796691895}, {\"info\": \"Lambda\", \"n_iter\": 191, \"prop\": \"z0\", \"value\": 2.2218308448791504}, {\"info\": \"Lambda\", \"n_iter\": 191, \"prop\": \"z0\", \"value\": 2.2221925258636475}, {\"info\": \"Lambda\", \"n_iter\": 191, \"prop\": \"z0\", \"value\": 2.221641778945923}, {\"info\": \"Lambda\", \"n_iter\": 192, \"prop\": \"z0\", \"value\": 2.2220828533172607}, {\"info\": \"Lambda\", \"n_iter\": 192, \"prop\": \"z0\", \"value\": 2.222350597381592}, {\"info\": \"Lambda\", \"n_iter\": 192, \"prop\": \"z0\", \"value\": 2.223268747329712}, {\"info\": \"Lambda\", \"n_iter\": 193, \"prop\": \"z0\", \"value\": 2.2222769260406494}, {\"info\": \"Lambda\", \"n_iter\": 193, \"prop\": \"z0\", \"value\": 2.2229435443878174}, {\"info\": \"Lambda\", \"n_iter\": 193, \"prop\": \"z0\", \"value\": 2.2242343425750732}, {\"info\": \"Lambda\", \"n_iter\": 194, \"prop\": \"z0\", \"value\": 2.2226014137268066}, {\"info\": \"Lambda\", \"n_iter\": 194, \"prop\": \"z0\", \"value\": 2.223996162414551}, {\"info\": \"Lambda\", \"n_iter\": 194, \"prop\": \"z0\", \"value\": 2.224375009536743}, {\"info\": \"Lambda\", \"n_iter\": 195, \"prop\": \"z0\", \"value\": 2.2232069969177246}, {\"info\": \"Lambda\", \"n_iter\": 195, \"prop\": \"z0\", \"value\": 2.225144863128662}, {\"info\": \"Lambda\", \"n_iter\": 195, \"prop\": \"z0\", \"value\": 2.22418475151062}, {\"info\": \"Lambda\", \"n_iter\": 196, \"prop\": \"z0\", \"value\": 2.2241244316101074}, {\"info\": \"Lambda\", \"n_iter\": 196, \"prop\": \"z0\", \"value\": 2.22597336769104}, {\"info\": \"Lambda\", \"n_iter\": 196, \"prop\": \"z0\", \"value\": 2.224324941635132}, {\"info\": \"Lambda\", \"n_iter\": 197, \"prop\": \"z0\", \"value\": 2.2252044677734375}, {\"info\": \"Lambda\", \"n_iter\": 197, \"prop\": \"z0\", \"value\": 2.226325511932373}, {\"info\": \"Lambda\", \"n_iter\": 197, \"prop\": \"z0\", \"value\": 2.225149393081665}, {\"info\": \"Lambda\", \"n_iter\": 198, \"prop\": \"z0\", \"value\": 2.2261948585510254}, {\"info\": \"Lambda\", \"n_iter\": 198, \"prop\": \"z0\", \"value\": 2.226480484008789}, {\"info\": \"Lambda\", \"n_iter\": 198, \"prop\": \"z0\", \"value\": 2.226367712020874}, {\"info\": \"Lambda\", \"n_iter\": 199, \"prop\": \"z0\", \"value\": 2.226923942565918}, {\"info\": \"Lambda\", \"n_iter\": 199, \"prop\": \"z0\", \"value\": 2.2268283367156982}, {\"info\": \"Lambda\", \"n_iter\": 199, \"prop\": \"z0\", \"value\": 2.227454662322998}], \"data-12538b6e58f8bcee181781648eb9d15b\": [{\"latent\": \"z0\", \"n_iter\": 0, \"prop\": \"lengthscale\", \"value\": 0.6931471824645996}, {\"latent\": \"z0\", \"n_iter\": 1, \"prop\": \"lengthscale\", \"value\": 0.7443966269493103}, {\"latent\": \"z0\", \"n_iter\": 2, \"prop\": \"lengthscale\", \"value\": 0.7981576323509216}, {\"latent\": \"z0\", \"n_iter\": 3, \"prop\": \"lengthscale\", \"value\": 0.8545166254043579}, {\"latent\": \"z0\", \"n_iter\": 4, \"prop\": \"lengthscale\", \"value\": 0.9135396480560303}, {\"latent\": \"z0\", \"n_iter\": 5, \"prop\": \"lengthscale\", \"value\": 0.9752498865127563}, {\"latent\": \"z0\", \"n_iter\": 6, \"prop\": \"lengthscale\", \"value\": 1.0396276712417603}, {\"latent\": \"z0\", \"n_iter\": 7, \"prop\": \"lengthscale\", \"value\": 1.106611728668213}, {\"latent\": \"z0\", \"n_iter\": 8, \"prop\": \"lengthscale\", \"value\": 1.176119089126587}, {\"latent\": \"z0\", \"n_iter\": 9, \"prop\": \"lengthscale\", \"value\": 1.2480754852294922}, {\"latent\": \"z0\", \"n_iter\": 10, \"prop\": \"lengthscale\", \"value\": 1.3224157094955444}, {\"latent\": \"z0\", \"n_iter\": 11, \"prop\": \"lengthscale\", \"value\": 1.3990657329559326}, {\"latent\": \"z0\", \"n_iter\": 12, \"prop\": \"lengthscale\", \"value\": 1.477929711341858}, {\"latent\": \"z0\", \"n_iter\": 13, \"prop\": \"lengthscale\", \"value\": 1.5588842630386353}, {\"latent\": \"z0\", \"n_iter\": 14, \"prop\": \"lengthscale\", \"value\": 1.6417779922485352}, {\"latent\": \"z0\", \"n_iter\": 15, \"prop\": \"lengthscale\", \"value\": 1.726426124572754}, {\"latent\": \"z0\", \"n_iter\": 16, \"prop\": \"lengthscale\", \"value\": 1.81260347366333}, {\"latent\": \"z0\", \"n_iter\": 17, \"prop\": \"lengthscale\", \"value\": 1.9000399112701416}, {\"latent\": \"z0\", \"n_iter\": 18, \"prop\": \"lengthscale\", \"value\": 1.988423466682434}, {\"latent\": \"z0\", \"n_iter\": 19, \"prop\": \"lengthscale\", \"value\": 2.077406644821167}, {\"latent\": \"z0\", \"n_iter\": 20, \"prop\": \"lengthscale\", \"value\": 2.1666109561920166}, {\"latent\": \"z0\", \"n_iter\": 21, \"prop\": \"lengthscale\", \"value\": 2.25563383102417}, {\"latent\": \"z0\", \"n_iter\": 22, \"prop\": \"lengthscale\", \"value\": 2.3440604209899902}, {\"latent\": \"z0\", \"n_iter\": 23, \"prop\": \"lengthscale\", \"value\": 2.431483745574951}, {\"latent\": \"z0\", \"n_iter\": 24, \"prop\": \"lengthscale\", \"value\": 2.5175247192382812}, {\"latent\": \"z0\", \"n_iter\": 25, \"prop\": \"lengthscale\", \"value\": 2.6018543243408203}, {\"latent\": \"z0\", \"n_iter\": 26, \"prop\": \"lengthscale\", \"value\": 2.6841976642608643}, {\"latent\": \"z0\", \"n_iter\": 27, \"prop\": \"lengthscale\", \"value\": 2.7643213272094727}, {\"latent\": \"z0\", \"n_iter\": 28, \"prop\": \"lengthscale\", \"value\": 2.842024087905884}, {\"latent\": \"z0\", \"n_iter\": 29, \"prop\": \"lengthscale\", \"value\": 2.917135000228882}, {\"latent\": \"z0\", \"n_iter\": 30, \"prop\": \"lengthscale\", \"value\": 2.989539623260498}, {\"latent\": \"z0\", \"n_iter\": 31, \"prop\": \"lengthscale\", \"value\": 3.05922794342041}, {\"latent\": \"z0\", \"n_iter\": 32, \"prop\": \"lengthscale\", \"value\": 3.126323938369751}, {\"latent\": \"z0\", \"n_iter\": 33, \"prop\": \"lengthscale\", \"value\": 3.191051721572876}, {\"latent\": \"z0\", \"n_iter\": 34, \"prop\": \"lengthscale\", \"value\": 3.2536959648132324}, {\"latent\": \"z0\", \"n_iter\": 35, \"prop\": \"lengthscale\", \"value\": 3.314547061920166}, {\"latent\": \"z0\", \"n_iter\": 36, \"prop\": \"lengthscale\", \"value\": 3.3738675117492676}, {\"latent\": \"z0\", \"n_iter\": 37, \"prop\": \"lengthscale\", \"value\": 3.431900978088379}, {\"latent\": \"z0\", \"n_iter\": 38, \"prop\": \"lengthscale\", \"value\": 3.48889422416687}, {\"latent\": \"z0\", \"n_iter\": 39, \"prop\": \"lengthscale\", \"value\": 3.5451111793518066}, {\"latent\": \"z0\", \"n_iter\": 40, \"prop\": \"lengthscale\", \"value\": 3.6008033752441406}, {\"latent\": \"z0\", \"n_iter\": 41, \"prop\": \"lengthscale\", \"value\": 3.656153440475464}, {\"latent\": \"z0\", \"n_iter\": 42, \"prop\": \"lengthscale\", \"value\": 3.711256980895996}, {\"latent\": \"z0\", \"n_iter\": 43, \"prop\": \"lengthscale\", \"value\": 3.766191005706787}, {\"latent\": \"z0\", \"n_iter\": 44, \"prop\": \"lengthscale\", \"value\": 3.8210413455963135}, {\"latent\": \"z0\", \"n_iter\": 45, \"prop\": \"lengthscale\", \"value\": 3.8758625984191895}, {\"latent\": \"z0\", \"n_iter\": 46, \"prop\": \"lengthscale\", \"value\": 3.9306271076202393}, {\"latent\": \"z0\", \"n_iter\": 47, \"prop\": \"lengthscale\", \"value\": 3.985283136367798}, {\"latent\": \"z0\", \"n_iter\": 48, \"prop\": \"lengthscale\", \"value\": 4.03980016708374}, {\"latent\": \"z0\", \"n_iter\": 49, \"prop\": \"lengthscale\", \"value\": 4.094119071960449}, {\"latent\": \"z0\", \"n_iter\": 50, \"prop\": \"lengthscale\", \"value\": 4.148135662078857}, {\"latent\": \"z0\", \"n_iter\": 51, \"prop\": \"lengthscale\", \"value\": 4.201747894287109}, {\"latent\": \"z0\", \"n_iter\": 52, \"prop\": \"lengthscale\", \"value\": 4.254880905151367}, {\"latent\": \"z0\", \"n_iter\": 53, \"prop\": \"lengthscale\", \"value\": 4.307406425476074}, {\"latent\": \"z0\", \"n_iter\": 54, \"prop\": \"lengthscale\", \"value\": 4.3592305183410645}, {\"latent\": \"z0\", \"n_iter\": 55, \"prop\": \"lengthscale\", \"value\": 4.410274505615234}, {\"latent\": \"z0\", \"n_iter\": 56, \"prop\": \"lengthscale\", \"value\": 4.46042537689209}, {\"latent\": \"z0\", \"n_iter\": 57, \"prop\": \"lengthscale\", \"value\": 4.509587287902832}, {\"latent\": \"z0\", \"n_iter\": 58, \"prop\": \"lengthscale\", \"value\": 4.5576958656311035}, {\"latent\": \"z0\", \"n_iter\": 59, \"prop\": \"lengthscale\", \"value\": 4.604422092437744}, {\"latent\": \"z0\", \"n_iter\": 60, \"prop\": \"lengthscale\", \"value\": 4.649410724639893}, {\"latent\": \"z0\", \"n_iter\": 61, \"prop\": \"lengthscale\", \"value\": 4.692530632019043}, {\"latent\": \"z0\", \"n_iter\": 62, \"prop\": \"lengthscale\", \"value\": 4.733590126037598}, {\"latent\": \"z0\", \"n_iter\": 63, \"prop\": \"lengthscale\", \"value\": 4.772265911102295}, {\"latent\": \"z0\", \"n_iter\": 64, \"prop\": \"lengthscale\", \"value\": 4.808434963226318}, {\"latent\": \"z0\", \"n_iter\": 65, \"prop\": \"lengthscale\", \"value\": 4.8420867919921875}, {\"latent\": \"z0\", \"n_iter\": 66, \"prop\": \"lengthscale\", \"value\": 4.8730692863464355}, {\"latent\": \"z0\", \"n_iter\": 67, \"prop\": \"lengthscale\", \"value\": 4.901254653930664}, {\"latent\": \"z0\", \"n_iter\": 68, \"prop\": \"lengthscale\", \"value\": 4.926721096038818}, {\"latent\": \"z0\", \"n_iter\": 69, \"prop\": \"lengthscale\", \"value\": 4.94957160949707}, {\"latent\": \"z0\", \"n_iter\": 70, \"prop\": \"lengthscale\", \"value\": 4.969781398773193}, {\"latent\": \"z0\", \"n_iter\": 71, \"prop\": \"lengthscale\", \"value\": 4.987468242645264}, {\"latent\": \"z0\", \"n_iter\": 72, \"prop\": \"lengthscale\", \"value\": 5.002928256988525}, {\"latent\": \"z0\", \"n_iter\": 73, \"prop\": \"lengthscale\", \"value\": 5.016210556030273}, {\"latent\": \"z0\", \"n_iter\": 74, \"prop\": \"lengthscale\", \"value\": 5.027592182159424}, {\"latent\": \"z0\", \"n_iter\": 75, \"prop\": \"lengthscale\", \"value\": 5.037192344665527}, {\"latent\": \"z0\", \"n_iter\": 76, \"prop\": \"lengthscale\", \"value\": 5.045324802398682}, {\"latent\": \"z0\", \"n_iter\": 77, \"prop\": \"lengthscale\", \"value\": 5.052211761474609}, {\"latent\": \"z0\", \"n_iter\": 78, \"prop\": \"lengthscale\", \"value\": 5.058079719543457}, {\"latent\": \"z0\", \"n_iter\": 79, \"prop\": \"lengthscale\", \"value\": 5.063192844390869}, {\"latent\": \"z0\", \"n_iter\": 80, \"prop\": \"lengthscale\", \"value\": 5.067787170410156}, {\"latent\": \"z0\", \"n_iter\": 81, \"prop\": \"lengthscale\", \"value\": 5.072107791900635}, {\"latent\": \"z0\", \"n_iter\": 82, \"prop\": \"lengthscale\", \"value\": 5.076396465301514}, {\"latent\": \"z0\", \"n_iter\": 83, \"prop\": \"lengthscale\", \"value\": 5.080844402313232}, {\"latent\": \"z0\", \"n_iter\": 84, \"prop\": \"lengthscale\", \"value\": 5.085611343383789}, {\"latent\": \"z0\", \"n_iter\": 85, \"prop\": \"lengthscale\", \"value\": 5.090927600860596}, {\"latent\": \"z0\", \"n_iter\": 86, \"prop\": \"lengthscale\", \"value\": 5.096876621246338}, {\"latent\": \"z0\", \"n_iter\": 87, \"prop\": \"lengthscale\", \"value\": 5.103570461273193}, {\"latent\": \"z0\", \"n_iter\": 88, \"prop\": \"lengthscale\", \"value\": 5.111137866973877}, {\"latent\": \"z0\", \"n_iter\": 89, \"prop\": \"lengthscale\", \"value\": 5.119558811187744}, {\"latent\": \"z0\", \"n_iter\": 90, \"prop\": \"lengthscale\", \"value\": 5.12890100479126}, {\"latent\": \"z0\", \"n_iter\": 91, \"prop\": \"lengthscale\", \"value\": 5.139169216156006}, {\"latent\": \"z0\", \"n_iter\": 92, \"prop\": \"lengthscale\", \"value\": 5.1502509117126465}, {\"latent\": \"z0\", \"n_iter\": 93, \"prop\": \"lengthscale\", \"value\": 5.162110805511475}, {\"latent\": \"z0\", \"n_iter\": 94, \"prop\": \"lengthscale\", \"value\": 5.174723148345947}, {\"latent\": \"z0\", \"n_iter\": 95, \"prop\": \"lengthscale\", \"value\": 5.187915802001953}, {\"latent\": \"z0\", \"n_iter\": 96, \"prop\": \"lengthscale\", \"value\": 5.20163106918335}, {\"latent\": \"z0\", \"n_iter\": 97, \"prop\": \"lengthscale\", \"value\": 5.215792655944824}, {\"latent\": \"z0\", \"n_iter\": 98, \"prop\": \"lengthscale\", \"value\": 5.230206489562988}, {\"latent\": \"z0\", \"n_iter\": 99, \"prop\": \"lengthscale\", \"value\": 5.2447614669799805}, {\"latent\": \"z0\", \"n_iter\": 100, \"prop\": \"lengthscale\", \"value\": 5.25938081741333}, {\"latent\": \"z0\", \"n_iter\": 101, \"prop\": \"lengthscale\", \"value\": 5.358885288238525}, {\"latent\": \"z0\", \"n_iter\": 102, \"prop\": \"lengthscale\", \"value\": 5.373325824737549}, {\"latent\": \"z0\", \"n_iter\": 103, \"prop\": \"lengthscale\", \"value\": 5.341679573059082}, {\"latent\": \"z0\", \"n_iter\": 104, \"prop\": \"lengthscale\", \"value\": 5.3013811111450195}, {\"latent\": \"z0\", \"n_iter\": 105, \"prop\": \"lengthscale\", \"value\": 5.274979591369629}, {\"latent\": \"z0\", \"n_iter\": 106, \"prop\": \"lengthscale\", \"value\": 5.27077579498291}, {\"latent\": \"z0\", \"n_iter\": 107, \"prop\": \"lengthscale\", \"value\": 5.281257629394531}, {\"latent\": \"z0\", \"n_iter\": 108, \"prop\": \"lengthscale\", \"value\": 5.298125743865967}, {\"latent\": \"z0\", \"n_iter\": 109, \"prop\": \"lengthscale\", \"value\": 5.313054084777832}, {\"latent\": \"z0\", \"n_iter\": 110, \"prop\": \"lengthscale\", \"value\": 5.3192524909973145}, {\"latent\": \"z0\", \"n_iter\": 111, \"prop\": \"lengthscale\", \"value\": 5.3162150382995605}, {\"latent\": \"z0\", \"n_iter\": 112, \"prop\": \"lengthscale\", \"value\": 5.305738925933838}, {\"latent\": \"z0\", \"n_iter\": 113, \"prop\": \"lengthscale\", \"value\": 5.292202949523926}, {\"latent\": \"z0\", \"n_iter\": 114, \"prop\": \"lengthscale\", \"value\": 5.2803874015808105}, {\"latent\": \"z0\", \"n_iter\": 115, \"prop\": \"lengthscale\", \"value\": 5.274598121643066}, {\"latent\": \"z0\", \"n_iter\": 116, \"prop\": \"lengthscale\", \"value\": 5.276271343231201}, {\"latent\": \"z0\", \"n_iter\": 117, \"prop\": \"lengthscale\", \"value\": 5.284552574157715}, {\"latent\": \"z0\", \"n_iter\": 118, \"prop\": \"lengthscale\", \"value\": 5.296027660369873}, {\"latent\": \"z0\", \"n_iter\": 119, \"prop\": \"lengthscale\", \"value\": 5.30711555480957}, {\"latent\": \"z0\", \"n_iter\": 120, \"prop\": \"lengthscale\", \"value\": 5.313591957092285}, {\"latent\": \"z0\", \"n_iter\": 121, \"prop\": \"lengthscale\", \"value\": 5.314077377319336}, {\"latent\": \"z0\", \"n_iter\": 122, \"prop\": \"lengthscale\", \"value\": 5.309871673583984}, {\"latent\": \"z0\", \"n_iter\": 123, \"prop\": \"lengthscale\", \"value\": 5.303803443908691}, {\"latent\": \"z0\", \"n_iter\": 124, \"prop\": \"lengthscale\", \"value\": 5.298927307128906}, {\"latent\": \"z0\", \"n_iter\": 125, \"prop\": \"lengthscale\", \"value\": 5.2982869148254395}, {\"latent\": \"z0\", \"n_iter\": 126, \"prop\": \"lengthscale\", \"value\": 5.303033351898193}, {\"latent\": \"z0\", \"n_iter\": 127, \"prop\": \"lengthscale\", \"value\": 5.311570167541504}, {\"latent\": \"z0\", \"n_iter\": 128, \"prop\": \"lengthscale\", \"value\": 5.321126461029053}, {\"latent\": \"z0\", \"n_iter\": 129, \"prop\": \"lengthscale\", \"value\": 5.328713893890381}, {\"latent\": \"z0\", \"n_iter\": 130, \"prop\": \"lengthscale\", \"value\": 5.332576274871826}, {\"latent\": \"z0\", \"n_iter\": 131, \"prop\": \"lengthscale\", \"value\": 5.332474231719971}, {\"latent\": \"z0\", \"n_iter\": 132, \"prop\": \"lengthscale\", \"value\": 5.3301167488098145}, {\"latent\": \"z0\", \"n_iter\": 133, \"prop\": \"lengthscale\", \"value\": 5.328667640686035}, {\"latent\": \"z0\", \"n_iter\": 134, \"prop\": \"lengthscale\", \"value\": 5.329988956451416}, {\"latent\": \"z0\", \"n_iter\": 135, \"prop\": \"lengthscale\", \"value\": 5.3350114822387695}, {\"latent\": \"z0\", \"n_iter\": 136, \"prop\": \"lengthscale\", \"value\": 5.34310245513916}, {\"latent\": \"z0\", \"n_iter\": 137, \"prop\": \"lengthscale\", \"value\": 5.352067947387695}, {\"latent\": \"z0\", \"n_iter\": 138, \"prop\": \"lengthscale\", \"value\": 5.359557151794434}, {\"latent\": \"z0\", \"n_iter\": 139, \"prop\": \"lengthscale\", \"value\": 5.364935874938965}, {\"latent\": \"z0\", \"n_iter\": 140, \"prop\": \"lengthscale\", \"value\": 5.3675642013549805}, {\"latent\": \"z0\", \"n_iter\": 141, \"prop\": \"lengthscale\", \"value\": 5.368954181671143}, {\"latent\": \"z0\", \"n_iter\": 142, \"prop\": \"lengthscale\", \"value\": 5.370455741882324}, {\"latent\": \"z0\", \"n_iter\": 143, \"prop\": \"lengthscale\", \"value\": 5.372982025146484}, {\"latent\": \"z0\", \"n_iter\": 144, \"prop\": \"lengthscale\", \"value\": 5.377912521362305}, {\"latent\": \"z0\", \"n_iter\": 145, \"prop\": \"lengthscale\", \"value\": 5.384808540344238}, {\"latent\": \"z0\", \"n_iter\": 146, \"prop\": \"lengthscale\", \"value\": 5.3926520347595215}, {\"latent\": \"z0\", \"n_iter\": 147, \"prop\": \"lengthscale\", \"value\": 5.399416923522949}, {\"latent\": \"z0\", \"n_iter\": 148, \"prop\": \"lengthscale\", \"value\": 5.404240131378174}, {\"latent\": \"z0\", \"n_iter\": 149, \"prop\": \"lengthscale\", \"value\": 5.4073896408081055}, {\"latent\": \"z0\", \"n_iter\": 150, \"prop\": \"lengthscale\", \"value\": 5.410118579864502}, {\"latent\": \"z0\", \"n_iter\": 151, \"prop\": \"lengthscale\", \"value\": 5.413509845733643}, {\"latent\": \"z0\", \"n_iter\": 152, \"prop\": \"lengthscale\", \"value\": 5.417728900909424}, {\"latent\": \"z0\", \"n_iter\": 153, \"prop\": \"lengthscale\", \"value\": 5.423239231109619}, {\"latent\": \"z0\", \"n_iter\": 154, \"prop\": \"lengthscale\", \"value\": 5.429022312164307}, {\"latent\": \"z0\", \"n_iter\": 155, \"prop\": \"lengthscale\", \"value\": 5.43406343460083}, {\"latent\": \"z0\", \"n_iter\": 156, \"prop\": \"lengthscale\", \"value\": 5.43815279006958}, {\"latent\": \"z0\", \"n_iter\": 157, \"prop\": \"lengthscale\", \"value\": 5.441395282745361}, {\"latent\": \"z0\", \"n_iter\": 158, \"prop\": \"lengthscale\", \"value\": 5.443232536315918}, {\"latent\": \"z0\", \"n_iter\": 159, \"prop\": \"lengthscale\", \"value\": 5.4463934898376465}, {\"latent\": \"z0\", \"n_iter\": 160, \"prop\": \"lengthscale\", \"value\": 5.451287746429443}, {\"latent\": \"z0\", \"n_iter\": 161, \"prop\": \"lengthscale\", \"value\": 5.456271648406982}, {\"latent\": \"z0\", \"n_iter\": 162, \"prop\": \"lengthscale\", \"value\": 5.459527015686035}, {\"latent\": \"z0\", \"n_iter\": 163, \"prop\": \"lengthscale\", \"value\": 5.4618401527404785}, {\"latent\": \"z0\", \"n_iter\": 164, \"prop\": \"lengthscale\", \"value\": 5.463542938232422}, {\"latent\": \"z0\", \"n_iter\": 165, \"prop\": \"lengthscale\", \"value\": 5.465653419494629}, {\"latent\": \"z0\", \"n_iter\": 166, \"prop\": \"lengthscale\", \"value\": 5.469723224639893}, {\"latent\": \"z0\", \"n_iter\": 167, \"prop\": \"lengthscale\", \"value\": 5.475000381469727}, {\"latent\": \"z0\", \"n_iter\": 168, \"prop\": \"lengthscale\", \"value\": 5.478650093078613}, {\"latent\": \"z0\", \"n_iter\": 169, \"prop\": \"lengthscale\", \"value\": 5.481893062591553}, {\"latent\": \"z0\", \"n_iter\": 170, \"prop\": \"lengthscale\", \"value\": 5.483203887939453}, {\"latent\": \"z0\", \"n_iter\": 171, \"prop\": \"lengthscale\", \"value\": 5.483658313751221}, {\"latent\": \"z0\", \"n_iter\": 172, \"prop\": \"lengthscale\", \"value\": 5.484695911407471}, {\"latent\": \"z0\", \"n_iter\": 173, \"prop\": \"lengthscale\", \"value\": 5.487428665161133}, {\"latent\": \"z0\", \"n_iter\": 174, \"prop\": \"lengthscale\", \"value\": 5.49158239364624}, {\"latent\": \"z0\", \"n_iter\": 175, \"prop\": \"lengthscale\", \"value\": 5.496015548706055}, {\"latent\": \"z0\", \"n_iter\": 176, \"prop\": \"lengthscale\", \"value\": 5.499197006225586}, {\"latent\": \"z0\", \"n_iter\": 177, \"prop\": \"lengthscale\", \"value\": 5.499780178070068}, {\"latent\": \"z0\", \"n_iter\": 178, \"prop\": \"lengthscale\", \"value\": 5.5014824867248535}, {\"latent\": \"z0\", \"n_iter\": 179, \"prop\": \"lengthscale\", \"value\": 5.502593994140625}, {\"latent\": \"z0\", \"n_iter\": 180, \"prop\": \"lengthscale\", \"value\": 5.50480318069458}, {\"latent\": \"z0\", \"n_iter\": 181, \"prop\": \"lengthscale\", \"value\": 5.508967876434326}, {\"latent\": \"z0\", \"n_iter\": 182, \"prop\": \"lengthscale\", \"value\": 5.5129475593566895}, {\"latent\": \"z0\", \"n_iter\": 183, \"prop\": \"lengthscale\", \"value\": 5.514704704284668}, {\"latent\": \"z0\", \"n_iter\": 184, \"prop\": \"lengthscale\", \"value\": 5.515120506286621}, {\"latent\": \"z0\", \"n_iter\": 185, \"prop\": \"lengthscale\", \"value\": 5.516140937805176}, {\"latent\": \"z0\", \"n_iter\": 186, \"prop\": \"lengthscale\", \"value\": 5.517441272735596}, {\"latent\": \"z0\", \"n_iter\": 187, \"prop\": \"lengthscale\", \"value\": 5.520218849182129}, {\"latent\": \"z0\", \"n_iter\": 188, \"prop\": \"lengthscale\", \"value\": 5.523897171020508}, {\"latent\": \"z0\", \"n_iter\": 189, \"prop\": \"lengthscale\", \"value\": 5.527200222015381}, {\"latent\": \"z0\", \"n_iter\": 190, \"prop\": \"lengthscale\", \"value\": 5.527195930480957}, {\"latent\": \"z0\", \"n_iter\": 191, \"prop\": \"lengthscale\", \"value\": 5.5271735191345215}, {\"latent\": \"z0\", \"n_iter\": 192, \"prop\": \"lengthscale\", \"value\": 5.528014659881592}, {\"latent\": \"z0\", \"n_iter\": 193, \"prop\": \"lengthscale\", \"value\": 5.530487060546875}, {\"latent\": \"z0\", \"n_iter\": 194, \"prop\": \"lengthscale\", \"value\": 5.535029411315918}, {\"latent\": \"z0\", \"n_iter\": 195, \"prop\": \"lengthscale\", \"value\": 5.539773464202881}, {\"latent\": \"z0\", \"n_iter\": 196, \"prop\": \"lengthscale\", \"value\": 5.541731834411621}, {\"latent\": \"z0\", \"n_iter\": 197, \"prop\": \"lengthscale\", \"value\": 5.540281772613525}, {\"latent\": \"z0\", \"n_iter\": 198, \"prop\": \"lengthscale\", \"value\": 5.537724494934082}, {\"latent\": \"z0\", \"n_iter\": 199, \"prop\": \"lengthscale\", \"value\": 5.537501335144043}], \"data-9a22a04dd4b8addd7d49178a8821c065\": [{\"variable\": null, \"n_iter\": 0, \"prop\": \"psi\", \"value\": 0.6931471824645996}, {\"variable\": null, \"n_iter\": 0, \"prop\": \"psi\", \"value\": 0.6931471824645996}, {\"variable\": null, \"n_iter\": 0, \"prop\": \"psi\", \"value\": 0.6931471824645996}, {\"variable\": null, \"n_iter\": 1, \"prop\": \"psi\", \"value\": 0.6443966627120972}, {\"variable\": null, \"n_iter\": 1, \"prop\": \"psi\", \"value\": 0.6443966627120972}, {\"variable\": null, \"n_iter\": 1, \"prop\": \"psi\", \"value\": 0.6443966627120972}, {\"variable\": null, \"n_iter\": 2, \"prop\": \"psi\", \"value\": 0.5980780720710754}, {\"variable\": null, \"n_iter\": 2, \"prop\": \"psi\", \"value\": 0.5980807542800903}, {\"variable\": null, \"n_iter\": 2, \"prop\": \"psi\", \"value\": 0.5980813503265381}, {\"variable\": null, \"n_iter\": 3, \"prop\": \"psi\", \"value\": 0.5541564226150513}, {\"variable\": null, \"n_iter\": 3, \"prop\": \"psi\", \"value\": 0.5541620850563049}, {\"variable\": null, \"n_iter\": 3, \"prop\": \"psi\", \"value\": 0.5541598796844482}, {\"variable\": null, \"n_iter\": 4, \"prop\": \"psi\", \"value\": 0.5126122236251831}, {\"variable\": null, \"n_iter\": 4, \"prop\": \"psi\", \"value\": 0.5126089453697205}, {\"variable\": null, \"n_iter\": 4, \"prop\": \"psi\", \"value\": 0.5125780701637268}, {\"variable\": null, \"n_iter\": 5, \"prop\": \"psi\", \"value\": 0.4734034538269043}, {\"variable\": null, \"n_iter\": 5, \"prop\": \"psi\", \"value\": 0.4733786880970001}, {\"variable\": null, \"n_iter\": 5, \"prop\": \"psi\", \"value\": 0.4732756018638611}, {\"variable\": null, \"n_iter\": 6, \"prop\": \"psi\", \"value\": 0.43646836280822754}, {\"variable\": null, \"n_iter\": 6, \"prop\": \"psi\", \"value\": 0.43641912937164307}, {\"variable\": null, \"n_iter\": 6, \"prop\": \"psi\", \"value\": 0.4361940324306488}, {\"variable\": null, \"n_iter\": 7, \"prop\": \"psi\", \"value\": 0.4017440974712372}, {\"variable\": null, \"n_iter\": 7, \"prop\": \"psi\", \"value\": 0.4016791880130768}, {\"variable\": null, \"n_iter\": 7, \"prop\": \"psi\", \"value\": 0.4012843370437622}, {\"variable\": null, \"n_iter\": 8, \"prop\": \"psi\", \"value\": 0.3691719174385071}, {\"variable\": null, \"n_iter\": 8, \"prop\": \"psi\", \"value\": 0.3691112995147705}, {\"variable\": null, \"n_iter\": 8, \"prop\": \"psi\", \"value\": 0.36850857734680176}, {\"variable\": null, \"n_iter\": 9, \"prop\": \"psi\", \"value\": 0.3386935293674469}, {\"variable\": null, \"n_iter\": 9, \"prop\": \"psi\", \"value\": 0.3386610746383667}, {\"variable\": null, \"n_iter\": 9, \"prop\": \"psi\", \"value\": 0.3378295600414276}, {\"variable\": null, \"n_iter\": 10, \"prop\": \"psi\", \"value\": 0.3102468252182007}, {\"variable\": null, \"n_iter\": 10, \"prop\": \"psi\", \"value\": 0.3102589249610901}, {\"variable\": null, \"n_iter\": 10, \"prop\": \"psi\", \"value\": 0.30919933319091797}, {\"variable\": null, \"n_iter\": 11, \"prop\": \"psi\", \"value\": 0.2837632894515991}, {\"variable\": null, \"n_iter\": 11, \"prop\": \"psi\", \"value\": 0.283823698759079}, {\"variable\": null, \"n_iter\": 11, \"prop\": \"psi\", \"value\": 0.28255555033683777}, {\"variable\": null, \"n_iter\": 12, \"prop\": \"psi\", \"value\": 0.2591678500175476}, {\"variable\": null, \"n_iter\": 12, \"prop\": \"psi\", \"value\": 0.25926950573921204}, {\"variable\": null, \"n_iter\": 12, \"prop\": \"psi\", \"value\": 0.25782397389411926}, {\"variable\": null, \"n_iter\": 13, \"prop\": \"psi\", \"value\": 0.236379474401474}, {\"variable\": null, \"n_iter\": 13, \"prop\": \"psi\", \"value\": 0.23651058971881866}, {\"variable\": null, \"n_iter\": 13, \"prop\": \"psi\", \"value\": 0.23492245376110077}, {\"variable\": null, \"n_iter\": 14, \"prop\": \"psi\", \"value\": 0.21531330049037933}, {\"variable\": null, \"n_iter\": 14, \"prop\": \"psi\", \"value\": 0.21546363830566406}, {\"variable\": null, \"n_iter\": 14, \"prop\": \"psi\", \"value\": 0.21376465260982513}, {\"variable\": null, \"n_iter\": 15, \"prop\": \"psi\", \"value\": 0.1958819329738617}, {\"variable\": null, \"n_iter\": 15, \"prop\": \"psi\", \"value\": 0.19604608416557312}, {\"variable\": null, \"n_iter\": 15, \"prop\": \"psi\", \"value\": 0.19426244497299194}, {\"variable\": null, \"n_iter\": 16, \"prop\": \"psi\", \"value\": 0.17799659073352814}, {\"variable\": null, \"n_iter\": 16, \"prop\": \"psi\", \"value\": 0.17817291617393494}, {\"variable\": null, \"n_iter\": 16, \"prop\": \"psi\", \"value\": 0.17632681131362915}, {\"variable\": null, \"n_iter\": 17, \"prop\": \"psi\", \"value\": 0.16156768798828125}, {\"variable\": null, \"n_iter\": 17, \"prop\": \"psi\", \"value\": 0.1617545783519745}, {\"variable\": null, \"n_iter\": 17, \"prop\": \"psi\", \"value\": 0.15986774861812592}, {\"variable\": null, \"n_iter\": 18, \"prop\": \"psi\", \"value\": 0.14650559425354004}, {\"variable\": null, \"n_iter\": 18, \"prop\": \"psi\", \"value\": 0.14669890701770782}, {\"variable\": null, \"n_iter\": 18, \"prop\": \"psi\", \"value\": 0.14479447901248932}, {\"variable\": null, \"n_iter\": 19, \"prop\": \"psi\", \"value\": 0.13272197544574738}, {\"variable\": null, \"n_iter\": 19, \"prop\": \"psi\", \"value\": 0.13291485607624054}, {\"variable\": null, \"n_iter\": 19, \"prop\": \"psi\", \"value\": 0.13101637363433838}, {\"variable\": null, \"n_iter\": 20, \"prop\": \"psi\", \"value\": 0.12013039737939835}, {\"variable\": null, \"n_iter\": 20, \"prop\": \"psi\", \"value\": 0.12031575292348862}, {\"variable\": null, \"n_iter\": 20, \"prop\": \"psi\", \"value\": 0.11844434589147568}, {\"variable\": null, \"n_iter\": 21, \"prop\": \"psi\", \"value\": 0.10864643007516861}, {\"variable\": null, \"n_iter\": 21, \"prop\": \"psi\", \"value\": 0.1088196337223053}, {\"variable\": null, \"n_iter\": 21, \"prop\": \"psi\", \"value\": 0.10699187219142914}, {\"variable\": null, \"n_iter\": 22, \"prop\": \"psi\", \"value\": 0.09818801283836365}, {\"variable\": null, \"n_iter\": 22, \"prop\": \"psi\", \"value\": 0.09834727644920349}, {\"variable\": null, \"n_iter\": 22, \"prop\": \"psi\", \"value\": 0.09657560288906097}, {\"variable\": null, \"n_iter\": 23, \"prop\": \"psi\", \"value\": 0.08867670595645905}, {\"variable\": null, \"n_iter\": 23, \"prop\": \"psi\", \"value\": 0.08882072567939758}, {\"variable\": null, \"n_iter\": 23, \"prop\": \"psi\", \"value\": 0.0871153399348259}, {\"variable\": null, \"n_iter\": 24, \"prop\": \"psi\", \"value\": 0.08003856241703033}, {\"variable\": null, \"n_iter\": 24, \"prop\": \"psi\", \"value\": 0.08016487956047058}, {\"variable\": null, \"n_iter\": 24, \"prop\": \"psi\", \"value\": 0.07853421568870544}, {\"variable\": null, \"n_iter\": 25, \"prop\": \"psi\", \"value\": 0.07220342010259628}, {\"variable\": null, \"n_iter\": 25, \"prop\": \"psi\", \"value\": 0.07230960577726364}, {\"variable\": null, \"n_iter\": 25, \"prop\": \"psi\", \"value\": 0.07075941562652588}, {\"variable\": null, \"n_iter\": 26, \"prop\": \"psi\", \"value\": 0.0651039257645607}, {\"variable\": null, \"n_iter\": 26, \"prop\": \"psi\", \"value\": 0.06518927961587906}, {\"variable\": null, \"n_iter\": 26, \"prop\": \"psi\", \"value\": 0.06372325122356415}, {\"variable\": null, \"n_iter\": 27, \"prop\": \"psi\", \"value\": 0.058676768094301224}, {\"variable\": null, \"n_iter\": 27, \"prop\": \"psi\", \"value\": 0.05874181538820267}, {\"variable\": null, \"n_iter\": 27, \"prop\": \"psi\", \"value\": 0.057362910360097885}, {\"variable\": null, \"n_iter\": 28, \"prop\": \"psi\", \"value\": 0.05286392197012901}, {\"variable\": null, \"n_iter\": 28, \"prop\": \"psi\", \"value\": 0.05290916934609413}, {\"variable\": null, \"n_iter\": 28, \"prop\": \"psi\", \"value\": 0.05161906033754349}, {\"variable\": null, \"n_iter\": 29, \"prop\": \"psi\", \"value\": 0.04761136323213577}, {\"variable\": null, \"n_iter\": 29, \"prop\": \"psi\", \"value\": 0.04763775318861008}, {\"variable\": null, \"n_iter\": 29, \"prop\": \"psi\", \"value\": 0.046435438096523285}, {\"variable\": null, \"n_iter\": 30, \"prop\": \"psi\", \"value\": 0.042868465185165405}, {\"variable\": null, \"n_iter\": 30, \"prop\": \"psi\", \"value\": 0.04287746921181679}, {\"variable\": null, \"n_iter\": 30, \"prop\": \"psi\", \"value\": 0.04176004230976105}, {\"variable\": null, \"n_iter\": 31, \"prop\": \"psi\", \"value\": 0.03858942911028862}, {\"variable\": null, \"n_iter\": 31, \"prop\": \"psi\", \"value\": 0.03858167305588722}, {\"variable\": null, \"n_iter\": 31, \"prop\": \"psi\", \"value\": 0.03754586726427078}, {\"variable\": null, \"n_iter\": 32, \"prop\": \"psi\", \"value\": 0.03473160043358803}, {\"variable\": null, \"n_iter\": 32, \"prop\": \"psi\", \"value\": 0.03470756486058235}, {\"variable\": null, \"n_iter\": 32, \"prop\": \"psi\", \"value\": 0.03374987095594406}, {\"variable\": null, \"n_iter\": 33, \"prop\": \"psi\", \"value\": 0.03125451132655144}, {\"variable\": null, \"n_iter\": 33, \"prop\": \"psi\", \"value\": 0.03121582418680191}, {\"variable\": null, \"n_iter\": 33, \"prop\": \"psi\", \"value\": 0.030332528054714203}, {\"variable\": null, \"n_iter\": 34, \"prop\": \"psi\", \"value\": 0.028121894225478172}, {\"variable\": null, \"n_iter\": 34, \"prop\": \"psi\", \"value\": 0.028070420026779175}, {\"variable\": null, \"n_iter\": 34, \"prop\": \"psi\", \"value\": 0.02725796401500702}, {\"variable\": null, \"n_iter\": 35, \"prop\": \"psi\", \"value\": 0.025300953537225723}, {\"variable\": null, \"n_iter\": 35, \"prop\": \"psi\", \"value\": 0.025238296017050743}, {\"variable\": null, \"n_iter\": 35, \"prop\": \"psi\", \"value\": 0.024493221193552017}, {\"variable\": null, \"n_iter\": 36, \"prop\": \"psi\", \"value\": 0.02276151068508625}, {\"variable\": null, \"n_iter\": 36, \"prop\": \"psi\", \"value\": 0.022689303383231163}, {\"variable\": null, \"n_iter\": 36, \"prop\": \"psi\", \"value\": 0.022007670253515244}, {\"variable\": null, \"n_iter\": 37, \"prop\": \"psi\", \"value\": 0.020476557314395905}, {\"variable\": null, \"n_iter\": 37, \"prop\": \"psi\", \"value\": 0.020396005362272263}, {\"variable\": null, \"n_iter\": 37, \"prop\": \"psi\", \"value\": 0.019773662090301514}, {\"variable\": null, \"n_iter\": 38, \"prop\": \"psi\", \"value\": 0.018421027809381485}, {\"variable\": null, \"n_iter\": 38, \"prop\": \"psi\", \"value\": 0.01833345741033554}, {\"variable\": null, \"n_iter\": 38, \"prop\": \"psi\", \"value\": 0.01776641234755516}, {\"variable\": null, \"n_iter\": 39, \"prop\": \"psi\", \"value\": 0.01657216250896454}, {\"variable\": null, \"n_iter\": 39, \"prop\": \"psi\", \"value\": 0.0164790041744709}, {\"variable\": null, \"n_iter\": 39, \"prop\": \"psi\", \"value\": 0.015963321551680565}, {\"variable\": null, \"n_iter\": 40, \"prop\": \"psi\", \"value\": 0.01490953378379345}, {\"variable\": null, \"n_iter\": 40, \"prop\": \"psi\", \"value\": 0.014811892062425613}, {\"variable\": null, \"n_iter\": 40, \"prop\": \"psi\", \"value\": 0.01434411946684122}, {\"variable\": null, \"n_iter\": 41, \"prop\": \"psi\", \"value\": 0.013414640910923481}, {\"variable\": null, \"n_iter\": 41, \"prop\": \"psi\", \"value\": 0.013313556089997292}, {\"variable\": null, \"n_iter\": 41, \"prop\": \"psi\", \"value\": 0.012890306301414967}, {\"variable\": null, \"n_iter\": 42, \"prop\": \"psi\", \"value\": 0.012070801109075546}, {\"variable\": null, \"n_iter\": 42, \"prop\": \"psi\", \"value\": 0.011967062950134277}, {\"variable\": null, \"n_iter\": 42, \"prop\": \"psi\", \"value\": 0.011585003696382046}, {\"variable\": null, \"n_iter\": 43, \"prop\": \"psi\", \"value\": 0.010862892493605614}, {\"variable\": null, \"n_iter\": 43, \"prop\": \"psi\", \"value\": 0.010757309384644032}, {\"variable\": null, \"n_iter\": 43, \"prop\": \"psi\", \"value\": 0.01041321735829115}, {\"variable\": null, \"n_iter\": 44, \"prop\": \"psi\", \"value\": 0.009777257218956947}, {\"variable\": null, \"n_iter\": 44, \"prop\": \"psi\", \"value\": 0.00967037957161665}, {\"variable\": null, \"n_iter\": 44, \"prop\": \"psi\", \"value\": 0.009361326694488525}, {\"variable\": null, \"n_iter\": 45, \"prop\": \"psi\", \"value\": 0.008801578544080257}, {\"variable\": null, \"n_iter\": 45, \"prop\": \"psi\", \"value\": 0.008693927899003029}, {\"variable\": null, \"n_iter\": 45, \"prop\": \"psi\", \"value\": 0.008417217060923576}, {\"variable\": null, \"n_iter\": 46, \"prop\": \"psi\", \"value\": 0.007924788631498814}, {\"variable\": null, \"n_iter\": 46, \"prop\": \"psi\", \"value\": 0.007816730067133904}, {\"variable\": null, \"n_iter\": 46, \"prop\": \"psi\", \"value\": 0.007569771725684404}, {\"variable\": null, \"n_iter\": 47, \"prop\": \"psi\", \"value\": 0.007136920467019081}, {\"variable\": null, \"n_iter\": 47, \"prop\": \"psi\", \"value\": 0.00702873757109046}, {\"variable\": null, \"n_iter\": 47, \"prop\": \"psi\", \"value\": 0.006809116806834936}, {\"variable\": null, \"n_iter\": 48, \"prop\": \"psi\", \"value\": 0.006428964901715517}, {\"variable\": null, \"n_iter\": 48, \"prop\": \"psi\", \"value\": 0.0063208709470927715}, {\"variable\": null, \"n_iter\": 48, \"prop\": \"psi\", \"value\": 0.006126331631094217}, {\"variable\": null, \"n_iter\": 49, \"prop\": \"psi\", \"value\": 0.005792828742414713}, {\"variable\": null, \"n_iter\": 49, \"prop\": \"psi\", \"value\": 0.0056849694810807705}, {\"variable\": null, \"n_iter\": 49, \"prop\": \"psi\", \"value\": 0.005513488780707121}, {\"variable\": null, \"n_iter\": 50, \"prop\": \"psi\", \"value\": 0.005221232771873474}, {\"variable\": null, \"n_iter\": 50, \"prop\": \"psi\", \"value\": 0.005113713443279266}, {\"variable\": null, \"n_iter\": 50, \"prop\": \"psi\", \"value\": 0.004963340703397989}, {\"variable\": null, \"n_iter\": 51, \"prop\": \"psi\", \"value\": 0.004707587417215109}, {\"variable\": null, \"n_iter\": 51, \"prop\": \"psi\", \"value\": 0.004600532818585634}, {\"variable\": null, \"n_iter\": 51, \"prop\": \"psi\", \"value\": 0.004469459410756826}, {\"variable\": null, \"n_iter\": 52, \"prop\": \"psi\", \"value\": 0.004245993215590715}, {\"variable\": null, \"n_iter\": 52, \"prop\": \"psi\", \"value\": 0.004139488562941551}, {\"variable\": null, \"n_iter\": 52, \"prop\": \"psi\", \"value\": 0.004026112146675587}, {\"variable\": null, \"n_iter\": 53, \"prop\": \"psi\", \"value\": 0.0038311828393489122}, {\"variable\": null, \"n_iter\": 53, \"prop\": \"psi\", \"value\": 0.0037252597976475954}, {\"variable\": null, \"n_iter\": 53, \"prop\": \"psi\", \"value\": 0.0036280471831560135}, {\"variable\": null, \"n_iter\": 54, \"prop\": \"psi\", \"value\": 0.0034584039822220802}, {\"variable\": null, \"n_iter\": 54, \"prop\": \"psi\", \"value\": 0.0033530641812831163}, {\"variable\": null, \"n_iter\": 54, \"prop\": \"psi\", \"value\": 0.0032706125639379025}, {\"variable\": null, \"n_iter\": 55, \"prop\": \"psi\", \"value\": 0.00312338350340724}, {\"variable\": null, \"n_iter\": 55, \"prop\": \"psi\", \"value\": 0.003018610877916217}, {\"variable\": null, \"n_iter\": 55, \"prop\": \"psi\", \"value\": 0.0029496781062334776}, {\"variable\": null, \"n_iter\": 56, \"prop\": \"psi\", \"value\": 0.0028223982080817223}, {\"variable\": null, \"n_iter\": 56, \"prop\": \"psi\", \"value\": 0.002718056319281459}, {\"variable\": null, \"n_iter\": 56, \"prop\": \"psi\", \"value\": 0.00266148429363966}, {\"variable\": null, \"n_iter\": 57, \"prop\": \"psi\", \"value\": 0.0025521398056298494}, {\"variable\": null, \"n_iter\": 57, \"prop\": \"psi\", \"value\": 0.0024480540305376053}, {\"variable\": null, \"n_iter\": 57, \"prop\": \"psi\", \"value\": 0.0024027149192988873}, {\"variable\": null, \"n_iter\": 58, \"prop\": \"psi\", \"value\": 0.002310418989509344}, {\"variable\": null, \"n_iter\": 58, \"prop\": \"psi\", \"value\": 0.002206076169386506}, {\"variable\": null, \"n_iter\": 58, \"prop\": \"psi\", \"value\": 0.0021702577359974384}, {\"variable\": null, \"n_iter\": 59, \"prop\": \"psi\", \"value\": 0.002093022456392646}, {\"variable\": null, \"n_iter\": 59, \"prop\": \"psi\", \"value\": 0.001989161130040884}, {\"variable\": null, \"n_iter\": 59, \"prop\": \"psi\", \"value\": 0.0019616293720901012}, {\"variable\": null, \"n_iter\": 60, \"prop\": \"psi\", \"value\": 0.001898110145702958}, {\"variable\": null, \"n_iter\": 60, \"prop\": \"psi\", \"value\": 0.001793926116079092}, {\"variable\": null, \"n_iter\": 60, \"prop\": \"psi\", \"value\": 0.0017747096717357635}, {\"variable\": null, \"n_iter\": 61, \"prop\": \"psi\", \"value\": 0.00172318029217422}, {\"variable\": null, \"n_iter\": 61, \"prop\": \"psi\", \"value\": 0.00161850790027529}, {\"variable\": null, \"n_iter\": 61, \"prop\": \"psi\", \"value\": 0.00160664739087224}, {\"variable\": null, \"n_iter\": 62, \"prop\": \"psi\", \"value\": 0.0015660636126995087}, {\"variable\": null, \"n_iter\": 62, \"prop\": \"psi\", \"value\": 0.0014605503529310226}, {\"variable\": null, \"n_iter\": 62, \"prop\": \"psi\", \"value\": 0.001455947058275342}, {\"variable\": null, \"n_iter\": 63, \"prop\": \"psi\", \"value\": 0.0014249737141653895}, {\"variable\": null, \"n_iter\": 63, \"prop\": \"psi\", \"value\": 0.0013184206327423453}, {\"variable\": null, \"n_iter\": 63, \"prop\": \"psi\", \"value\": 0.0013206106377765536}, {\"variable\": null, \"n_iter\": 64, \"prop\": \"psi\", \"value\": 0.0012978625018149614}, {\"variable\": null, \"n_iter\": 64, \"prop\": \"psi\", \"value\": 0.0011904420098289847}, {\"variable\": null, \"n_iter\": 64, \"prop\": \"psi\", \"value\": 0.0011990712955594063}, {\"variable\": null, \"n_iter\": 65, \"prop\": \"psi\", \"value\": 0.0011838929494842887}, {\"variable\": null, \"n_iter\": 65, \"prop\": \"psi\", \"value\": 0.0010752244852483273}, {\"variable\": null, \"n_iter\": 65, \"prop\": \"psi\", \"value\": 0.0010899464832618833}, {\"variable\": null, \"n_iter\": 66, \"prop\": \"psi\", \"value\": 0.0010811206884682178}, {\"variable\": null, \"n_iter\": 66, \"prop\": \"psi\", \"value\": 0.0009714884799905121}, {\"variable\": null, \"n_iter\": 66, \"prop\": \"psi\", \"value\": 0.0009917315328493714}, {\"variable\": null, \"n_iter\": 67, \"prop\": \"psi\", \"value\": 0.0009888879721984267}, {\"variable\": null, \"n_iter\": 67, \"prop\": \"psi\", \"value\": 0.0008780999341979623}, {\"variable\": null, \"n_iter\": 67, \"prop\": \"psi\", \"value\": 0.000903706590179354}, {\"variable\": null, \"n_iter\": 68, \"prop\": \"psi\", \"value\": 0.0009057004353962839}, {\"variable\": null, \"n_iter\": 68, \"prop\": \"psi\", \"value\": 0.0007940204814076424}, {\"variable\": null, \"n_iter\": 68, \"prop\": \"psi\", \"value\": 0.0008244283380918205}, {\"variable\": null, \"n_iter\": 69, \"prop\": \"psi\", \"value\": 0.0008311369456350803}, {\"variable\": null, \"n_iter\": 69, \"prop\": \"psi\", \"value\": 0.0007183274137787521}, {\"variable\": null, \"n_iter\": 69, \"prop\": \"psi\", \"value\": 0.0007532215677201748}, {\"variable\": null, \"n_iter\": 70, \"prop\": \"psi\", \"value\": 0.0007639777031727135}, {\"variable\": null, \"n_iter\": 70, \"prop\": \"psi\", \"value\": 0.0006501810858026147}, {\"variable\": null, \"n_iter\": 70, \"prop\": \"psi\", \"value\": 0.0006891927332617342}, {\"variable\": null, \"n_iter\": 71, \"prop\": \"psi\", \"value\": 0.0007035466260276735}, {\"variable\": null, \"n_iter\": 71, \"prop\": \"psi\", \"value\": 0.000588834285736084}, {\"variable\": null, \"n_iter\": 71, \"prop\": \"psi\", \"value\": 0.0006315993377938867}, {\"variable\": null, \"n_iter\": 72, \"prop\": \"psi\", \"value\": 0.0006494919070973992}, {\"variable\": null, \"n_iter\": 72, \"prop\": \"psi\", \"value\": 0.0005336185568012297}, {\"variable\": null, \"n_iter\": 72, \"prop\": \"psi\", \"value\": 0.0005798209458589554}, {\"variable\": null, \"n_iter\": 73, \"prop\": \"psi\", \"value\": 0.0006007978226989508}, {\"variable\": null, \"n_iter\": 73, \"prop\": \"psi\", \"value\": 0.0004839389293920249}, {\"variable\": null, \"n_iter\": 73, \"prop\": \"psi\", \"value\": 0.0005332048167474568}, {\"variable\": null, \"n_iter\": 74, \"prop\": \"psi\", \"value\": 0.0005569963832385838}, {\"variable\": null, \"n_iter\": 74, \"prop\": \"psi\", \"value\": 0.0004393144918140024}, {\"variable\": null, \"n_iter\": 74, \"prop\": \"psi\", \"value\": 0.0004916850011795759}, {\"variable\": null, \"n_iter\": 75, \"prop\": \"psi\", \"value\": 0.0005176352569833398}, {\"variable\": null, \"n_iter\": 75, \"prop\": \"psi\", \"value\": 0.0003994999860879034}, {\"variable\": null, \"n_iter\": 75, \"prop\": \"psi\", \"value\": 0.0004547778225969523}, {\"variable\": null, \"n_iter\": 76, \"prop\": \"psi\", \"value\": 0.00048252055421471596}, {\"variable\": null, \"n_iter\": 76, \"prop\": \"psi\", \"value\": 0.00036376697244122624}, {\"variable\": null, \"n_iter\": 76, \"prop\": \"psi\", \"value\": 0.0004215007647871971}, {\"variable\": null, \"n_iter\": 77, \"prop\": \"psi\", \"value\": 0.00045118294656276703}, {\"variable\": null, \"n_iter\": 77, \"prop\": \"psi\", \"value\": 0.0003314564237371087}, {\"variable\": null, \"n_iter\": 77, \"prop\": \"psi\", \"value\": 0.00039168819785118103}, {\"variable\": null, \"n_iter\": 78, \"prop\": \"psi\", \"value\": 0.0004231297643855214}, {\"variable\": null, \"n_iter\": 78, \"prop\": \"psi\", \"value\": 0.00030243475339375436}, {\"variable\": null, \"n_iter\": 78, \"prop\": \"psi\", \"value\": 0.00036499081761576235}, {\"variable\": null, \"n_iter\": 79, \"prop\": \"psi\", \"value\": 0.0003983761416748166}, {\"variable\": null, \"n_iter\": 79, \"prop\": \"psi\", \"value\": 0.00027626901282928884}, {\"variable\": null, \"n_iter\": 79, \"prop\": \"psi\", \"value\": 0.00034088362008333206}, {\"variable\": null, \"n_iter\": 80, \"prop\": \"psi\", \"value\": 0.00037641709786839783}, {\"variable\": null, \"n_iter\": 80, \"prop\": \"psi\", \"value\": 0.0002525754680391401}, {\"variable\": null, \"n_iter\": 80, \"prop\": \"psi\", \"value\": 0.00031933735590428114}, {\"variable\": null, \"n_iter\": 81, \"prop\": \"psi\", \"value\": 0.0003569181135389954}, {\"variable\": null, \"n_iter\": 81, \"prop\": \"psi\", \"value\": 0.00023122724087443203}, {\"variable\": null, \"n_iter\": 81, \"prop\": \"psi\", \"value\": 0.0002999940188601613}, {\"variable\": null, \"n_iter\": 82, \"prop\": \"psi\", \"value\": 0.00033998722210526466}, {\"variable\": null, \"n_iter\": 82, \"prop\": \"psi\", \"value\": 0.0002119441778631881}, {\"variable\": null, \"n_iter\": 82, \"prop\": \"psi\", \"value\": 0.0002825629781000316}, {\"variable\": null, \"n_iter\": 83, \"prop\": \"psi\", \"value\": 0.0003251488378737122}, {\"variable\": null, \"n_iter\": 83, \"prop\": \"psi\", \"value\": 0.00019446182704996318}, {\"variable\": null, \"n_iter\": 83, \"prop\": \"psi\", \"value\": 0.000266988790826872}, {\"variable\": null, \"n_iter\": 84, \"prop\": \"psi\", \"value\": 0.00031219309312291443}, {\"variable\": null, \"n_iter\": 84, \"prop\": \"psi\", \"value\": 0.00017867422138806432}, {\"variable\": null, \"n_iter\": 84, \"prop\": \"psi\", \"value\": 0.0002530269557610154}, {\"variable\": null, \"n_iter\": 85, \"prop\": \"psi\", \"value\": 0.00030126882484182715}, {\"variable\": null, \"n_iter\": 85, \"prop\": \"psi\", \"value\": 0.0001644173462409526}, {\"variable\": null, \"n_iter\": 85, \"prop\": \"psi\", \"value\": 0.00024048693012446165}, {\"variable\": null, \"n_iter\": 86, \"prop\": \"psi\", \"value\": 0.0002919885446317494}, {\"variable\": null, \"n_iter\": 86, \"prop\": \"psi\", \"value\": 0.00015148177044466138}, {\"variable\": null, \"n_iter\": 86, \"prop\": \"psi\", \"value\": 0.00022927974350750446}, {\"variable\": null, \"n_iter\": 87, \"prop\": \"psi\", \"value\": 0.0002841901732608676}, {\"variable\": null, \"n_iter\": 87, \"prop\": \"psi\", \"value\": 0.000139757597935386}, {\"variable\": null, \"n_iter\": 87, \"prop\": \"psi\", \"value\": 0.00021927263878751546}, {\"variable\": null, \"n_iter\": 88, \"prop\": \"psi\", \"value\": 0.0002780240320134908}, {\"variable\": null, \"n_iter\": 88, \"prop\": \"psi\", \"value\": 0.00012916735431645066}, {\"variable\": null, \"n_iter\": 88, \"prop\": \"psi\", \"value\": 0.0002103427250403911}, {\"variable\": null, \"n_iter\": 89, \"prop\": \"psi\", \"value\": 0.00027323781978338957}, {\"variable\": null, \"n_iter\": 89, \"prop\": \"psi\", \"value\": 0.0001195727672893554}, {\"variable\": null, \"n_iter\": 89, \"prop\": \"psi\", \"value\": 0.0002024120040005073}, {\"variable\": null, \"n_iter\": 90, \"prop\": \"psi\", \"value\": 0.00026969361351802945}, {\"variable\": null, \"n_iter\": 90, \"prop\": \"psi\", \"value\": 0.00011084094148827717}, {\"variable\": null, \"n_iter\": 90, \"prop\": \"psi\", \"value\": 0.00019540909852366894}, {\"variable\": null, \"n_iter\": 91, \"prop\": \"psi\", \"value\": 0.00026756885927170515}, {\"variable\": null, \"n_iter\": 91, \"prop\": \"psi\", \"value\": 0.00010290242789778858}, {\"variable\": null, \"n_iter\": 91, \"prop\": \"psi\", \"value\": 0.00018922191520687193}, {\"variable\": null, \"n_iter\": 92, \"prop\": \"psi\", \"value\": 0.00026667938800528646}, {\"variable\": null, \"n_iter\": 92, \"prop\": \"psi\", \"value\": 9.568819223204628e-05}, {\"variable\": null, \"n_iter\": 92, \"prop\": \"psi\", \"value\": 0.00018378270033281296}, {\"variable\": null, \"n_iter\": 93, \"prop\": \"psi\", \"value\": 0.00026690377853810787}, {\"variable\": null, \"n_iter\": 93, \"prop\": \"psi\", \"value\": 8.911794429877773e-05}, {\"variable\": null, \"n_iter\": 93, \"prop\": \"psi\", \"value\": 0.00017907575238496065}, {\"variable\": null, \"n_iter\": 94, \"prop\": \"psi\", \"value\": 0.00026843263185583055}, {\"variable\": null, \"n_iter\": 94, \"prop\": \"psi\", \"value\": 8.312777208629996e-05}, {\"variable\": null, \"n_iter\": 94, \"prop\": \"psi\", \"value\": 0.00017509888857603073}, {\"variable\": null, \"n_iter\": 95, \"prop\": \"psi\", \"value\": 0.0002711293345782906}, {\"variable\": null, \"n_iter\": 95, \"prop\": \"psi\", \"value\": 7.766662020003423e-05}, {\"variable\": null, \"n_iter\": 95, \"prop\": \"psi\", \"value\": 0.0001718210696708411}, {\"variable\": null, \"n_iter\": 96, \"prop\": \"psi\", \"value\": 0.000274933991022408}, {\"variable\": null, \"n_iter\": 96, \"prop\": \"psi\", \"value\": 7.269591151271015e-05}, {\"variable\": null, \"n_iter\": 96, \"prop\": \"psi\", \"value\": 0.00016906230302993208}, {\"variable\": null, \"n_iter\": 97, \"prop\": \"psi\", \"value\": 0.0002800771326292306}, {\"variable\": null, \"n_iter\": 97, \"prop\": \"psi\", \"value\": 6.817184475949034e-05}, {\"variable\": null, \"n_iter\": 97, \"prop\": \"psi\", \"value\": 0.0001667289761826396}, {\"variable\": null, \"n_iter\": 98, \"prop\": \"psi\", \"value\": 0.00028643381665460765}, {\"variable\": null, \"n_iter\": 98, \"prop\": \"psi\", \"value\": 6.404110172297806e-05}, {\"variable\": null, \"n_iter\": 98, \"prop\": \"psi\", \"value\": 0.00016478134784847498}, {\"variable\": null, \"n_iter\": 99, \"prop\": \"psi\", \"value\": 0.00029388294206000865}, {\"variable\": null, \"n_iter\": 99, \"prop\": \"psi\", \"value\": 6.025492984917946e-05}, {\"variable\": null, \"n_iter\": 99, \"prop\": \"psi\", \"value\": 0.00016319582937285304}, {\"variable\": null, \"n_iter\": 100, \"prop\": \"psi\", \"value\": 0.0003026493941433728}, {\"variable\": null, \"n_iter\": 100, \"prop\": \"psi\", \"value\": 5.67825700272806e-05}, {\"variable\": null, \"n_iter\": 100, \"prop\": \"psi\", \"value\": 0.00016192485054489225}, {\"variable\": null, \"n_iter\": 101, \"prop\": \"psi\", \"value\": 0.0003344741417095065}, {\"variable\": null, \"n_iter\": 101, \"prop\": \"psi\", \"value\": 5.137911284691654e-05}, {\"variable\": null, \"n_iter\": 101, \"prop\": \"psi\", \"value\": 0.0001789530215319246}, {\"variable\": null, \"n_iter\": 102, \"prop\": \"psi\", \"value\": 0.00036221399204805493}, {\"variable\": null, \"n_iter\": 102, \"prop\": \"psi\", \"value\": 5.49525284441188e-05}, {\"variable\": null, \"n_iter\": 102, \"prop\": \"psi\", \"value\": 0.00019292290380690247}, {\"variable\": null, \"n_iter\": 103, \"prop\": \"psi\", \"value\": 0.000387699983548373}, {\"variable\": null, \"n_iter\": 103, \"prop\": \"psi\", \"value\": 5.778806371381506e-05}, {\"variable\": null, \"n_iter\": 103, \"prop\": \"psi\", \"value\": 0.0002051440824288875}, {\"variable\": null, \"n_iter\": 104, \"prop\": \"psi\", \"value\": 0.00041407987009733915}, {\"variable\": null, \"n_iter\": 104, \"prop\": \"psi\", \"value\": 6.070567178539932e-05}, {\"variable\": null, \"n_iter\": 104, \"prop\": \"psi\", \"value\": 0.0002175828121835366}, {\"variable\": null, \"n_iter\": 105, \"prop\": \"psi\", \"value\": 0.0004453905567061156}, {\"variable\": null, \"n_iter\": 105, \"prop\": \"psi\", \"value\": 6.468928040703759e-05}, {\"variable\": null, \"n_iter\": 105, \"prop\": \"psi\", \"value\": 0.00023282354231923819}, {\"variable\": null, \"n_iter\": 106, \"prop\": \"psi\", \"value\": 0.0004803867486771196}, {\"variable\": null, \"n_iter\": 106, \"prop\": \"psi\", \"value\": 6.939230661373585e-05}, {\"variable\": null, \"n_iter\": 106, \"prop\": \"psi\", \"value\": 0.0002501734416000545}, {\"variable\": null, \"n_iter\": 107, \"prop\": \"psi\", \"value\": 0.0005155992694199085}, {\"variable\": null, \"n_iter\": 107, \"prop\": \"psi\", \"value\": 7.406916847685352e-05}, {\"variable\": null, \"n_iter\": 107, \"prop\": \"psi\", \"value\": 0.00026763672940433025}, {\"variable\": null, \"n_iter\": 108, \"prop\": \"psi\", \"value\": 0.000548205163795501}, {\"variable\": null, \"n_iter\": 108, \"prop\": \"psi\", \"value\": 7.813925913069397e-05}, {\"variable\": null, \"n_iter\": 108, \"prop\": \"psi\", \"value\": 0.0002835186605807394}, {\"variable\": null, \"n_iter\": 109, \"prop\": \"psi\", \"value\": 0.0005789208807982504}, {\"variable\": null, \"n_iter\": 109, \"prop\": \"psi\", \"value\": 8.175925177056342e-05}, {\"variable\": null, \"n_iter\": 109, \"prop\": \"psi\", \"value\": 0.0002982106525450945}, {\"variable\": null, \"n_iter\": 110, \"prop\": \"psi\", \"value\": 0.0006103297346271574}, {\"variable\": null, \"n_iter\": 110, \"prop\": \"psi\", \"value\": 8.540535054635257e-05}, {\"variable\": null, \"n_iter\": 110, \"prop\": \"psi\", \"value\": 0.00031331618083640933}, {\"variable\": null, \"n_iter\": 111, \"prop\": \"psi\", \"value\": 0.0006437231786549091}, {\"variable\": null, \"n_iter\": 111, \"prop\": \"psi\", \"value\": 8.93258984433487e-05}, {\"variable\": null, \"n_iter\": 111, \"prop\": \"psi\", \"value\": 0.0003297491348348558}, {\"variable\": null, \"n_iter\": 112, \"prop\": \"psi\", \"value\": 0.0006781841511838138}, {\"variable\": null, \"n_iter\": 112, \"prop\": \"psi\", \"value\": 9.34164272621274e-05}, {\"variable\": null, \"n_iter\": 112, \"prop\": \"psi\", \"value\": 0.0003471495001576841}, {\"variable\": null, \"n_iter\": 113, \"prop\": \"psi\", \"value\": 0.0007111636805348098}, {\"variable\": null, \"n_iter\": 113, \"prop\": \"psi\", \"value\": 9.732483886182308e-05}, {\"variable\": null, \"n_iter\": 113, \"prop\": \"psi\", \"value\": 0.00036418865784071386}, {\"variable\": null, \"n_iter\": 114, \"prop\": \"psi\", \"value\": 0.0007401114562526345}, {\"variable\": null, \"n_iter\": 114, \"prop\": \"psi\", \"value\": 0.00010068805568153039}, {\"variable\": null, \"n_iter\": 114, \"prop\": \"psi\", \"value\": 0.0003794294025283307}, {\"variable\": null, \"n_iter\": 115, \"prop\": \"psi\", \"value\": 0.0007640013936907053}, {\"variable\": null, \"n_iter\": 115, \"prop\": \"psi\", \"value\": 0.0001033745429595001}, {\"variable\": null, \"n_iter\": 115, \"prop\": \"psi\", \"value\": 0.00039223890053108335}, {\"variable\": null, \"n_iter\": 116, \"prop\": \"psi\", \"value\": 0.0007834698189981282}, {\"variable\": null, \"n_iter\": 116, \"prop\": \"psi\", \"value\": 0.00010552616004133597}, {\"variable\": null, \"n_iter\": 116, \"prop\": \"psi\", \"value\": 0.00040297486702911556}, {\"variable\": null, \"n_iter\": 117, \"prop\": \"psi\", \"value\": 0.0007998077780939639}, {\"variable\": null, \"n_iter\": 117, \"prop\": \"psi\", \"value\": 0.00010740089055616409}, {\"variable\": null, \"n_iter\": 117, \"prop\": \"psi\", \"value\": 0.00041242435690946877}, {\"variable\": null, \"n_iter\": 118, \"prop\": \"psi\", \"value\": 0.0008138446137309074}, {\"variable\": null, \"n_iter\": 118, \"prop\": \"psi\", \"value\": 0.0001091757949325256}, {\"variable\": null, \"n_iter\": 118, \"prop\": \"psi\", \"value\": 0.00042114563984796405}, {\"variable\": null, \"n_iter\": 119, \"prop\": \"psi\", \"value\": 0.0008254667627625167}, {\"variable\": null, \"n_iter\": 119, \"prop\": \"psi\", \"value\": 0.00011084136349381879}, {\"variable\": null, \"n_iter\": 119, \"prop\": \"psi\", \"value\": 0.00042910559568554163}, {\"variable\": null, \"n_iter\": 120, \"prop\": \"psi\", \"value\": 0.0008337663603015244}, {\"variable\": null, \"n_iter\": 120, \"prop\": \"psi\", \"value\": 0.00011223279580008239}, {\"variable\": null, \"n_iter\": 120, \"prop\": \"psi\", \"value\": 0.0004357541329227388}, {\"variable\": null, \"n_iter\": 121, \"prop\": \"psi\", \"value\": 0.0008377043413929641}, {\"variable\": null, \"n_iter\": 121, \"prop\": \"psi\", \"value\": 0.00011314827861497179}, {\"variable\": null, \"n_iter\": 121, \"prop\": \"psi\", \"value\": 0.0004403952625580132}, {\"variable\": null, \"n_iter\": 122, \"prop\": \"psi\", \"value\": 0.0008368336129933596}, {\"variable\": null, \"n_iter\": 122, \"prop\": \"psi\", \"value\": 0.00011347872350597754}, {\"variable\": null, \"n_iter\": 122, \"prop\": \"psi\", \"value\": 0.00044264260213822126}, {\"variable\": null, \"n_iter\": 123, \"prop\": \"psi\", \"value\": 0.000831563665997237}, {\"variable\": null, \"n_iter\": 123, \"prop\": \"psi\", \"value\": 0.00011325730883982033}, {\"variable\": null, \"n_iter\": 123, \"prop\": \"psi\", \"value\": 0.0004426231898833066}, {\"variable\": null, \"n_iter\": 124, \"prop\": \"psi\", \"value\": 0.0008229200029745698}, {\"variable\": null, \"n_iter\": 124, \"prop\": \"psi\", \"value\": 0.00011261789768468589}, {\"variable\": null, \"n_iter\": 124, \"prop\": \"psi\", \"value\": 0.00044085821718908846}, {\"variable\": null, \"n_iter\": 125, \"prop\": \"psi\", \"value\": 0.0008119680569507182}, {\"variable\": null, \"n_iter\": 125, \"prop\": \"psi\", \"value\": 0.00011170543439220637}, {\"variable\": null, \"n_iter\": 125, \"prop\": \"psi\", \"value\": 0.00043793313670903444}, {\"variable\": null, \"n_iter\": 126, \"prop\": \"psi\", \"value\": 0.0007993474137037992}, {\"variable\": null, \"n_iter\": 126, \"prop\": \"psi\", \"value\": 0.00011059724783990532}, {\"variable\": null, \"n_iter\": 126, \"prop\": \"psi\", \"value\": 0.00043418604764156044}, {\"variable\": null, \"n_iter\": 127, \"prop\": \"psi\", \"value\": 0.0007851244299672544}, {\"variable\": null, \"n_iter\": 127, \"prop\": \"psi\", \"value\": 0.0001092818274628371}, {\"variable\": null, \"n_iter\": 127, \"prop\": \"psi\", \"value\": 0.0004295978578738868}, {\"variable\": null, \"n_iter\": 128, \"prop\": \"psi\", \"value\": 0.0007690778584219515}, {\"variable\": null, \"n_iter\": 128, \"prop\": \"psi\", \"value\": 0.00010769503569463268}, {\"variable\": null, \"n_iter\": 128, \"prop\": \"psi\", \"value\": 0.00042393943294882774}, {\"variable\": null, \"n_iter\": 129, \"prop\": \"psi\", \"value\": 0.0007511020521633327}, {\"variable\": null, \"n_iter\": 129, \"prop\": \"psi\", \"value\": 0.0001057862100424245}, {\"variable\": null, \"n_iter\": 129, \"prop\": \"psi\", \"value\": 0.0004170241591054946}, {\"variable\": null, \"n_iter\": 130, \"prop\": \"psi\", \"value\": 0.0007314753020182252}, {\"variable\": null, \"n_iter\": 130, \"prop\": \"psi\", \"value\": 0.0001035678360494785}, {\"variable\": null, \"n_iter\": 130, \"prop\": \"psi\", \"value\": 0.00040890814852900803}, {\"variable\": null, \"n_iter\": 131, \"prop\": \"psi\", \"value\": 0.0007108155987225473}, {\"variable\": null, \"n_iter\": 131, \"prop\": \"psi\", \"value\": 0.00010111595474882051}, {\"variable\": null, \"n_iter\": 131, \"prop\": \"psi\", \"value\": 0.0003998883184976876}, {\"variable\": null, \"n_iter\": 132, \"prop\": \"psi\", \"value\": 0.0006898060673847795}, {\"variable\": null, \"n_iter\": 132, \"prop\": \"psi\", \"value\": 9.852931543719023e-05}, {\"variable\": null, \"n_iter\": 132, \"prop\": \"psi\", \"value\": 0.0003903525066561997}, {\"variable\": null, \"n_iter\": 133, \"prop\": \"psi\", \"value\": 0.0006689110305160284}, {\"variable\": null, \"n_iter\": 133, \"prop\": \"psi\", \"value\": 9.587598469806835e-05}, {\"variable\": null, \"n_iter\": 133, \"prop\": \"psi\", \"value\": 0.0003805890737567097}, {\"variable\": null, \"n_iter\": 134, \"prop\": \"psi\", \"value\": 0.0006482775206677616}, {\"variable\": null, \"n_iter\": 134, \"prop\": \"psi\", \"value\": 9.316678915638477e-05}, {\"variable\": null, \"n_iter\": 134, \"prop\": \"psi\", \"value\": 0.00037069583777338266}, {\"variable\": null, \"n_iter\": 135, \"prop\": \"psi\", \"value\": 0.0006278431392274797}, {\"variable\": null, \"n_iter\": 135, \"prop\": \"psi\", \"value\": 9.037595009431243e-05}, {\"variable\": null, \"n_iter\": 135, \"prop\": \"psi\", \"value\": 0.000360624777385965}, {\"variable\": null, \"n_iter\": 136, \"prop\": \"psi\", \"value\": 0.0006076007266528904}, {\"variable\": null, \"n_iter\": 136, \"prop\": \"psi\", \"value\": 8.748521213419735e-05}, {\"variable\": null, \"n_iter\": 136, \"prop\": \"psi\", \"value\": 0.00035032074083574116}, {\"variable\": null, \"n_iter\": 137, \"prop\": \"psi\", \"value\": 0.0005877531948499382}, {\"variable\": null, \"n_iter\": 137, \"prop\": \"psi\", \"value\": 8.451372559648007e-05}, {\"variable\": null, \"n_iter\": 137, \"prop\": \"psi\", \"value\": 0.00033985869958996773}, {\"variable\": null, \"n_iter\": 138, \"prop\": \"psi\", \"value\": 0.0005686316289938986}, {\"variable\": null, \"n_iter\": 138, \"prop\": \"psi\", \"value\": 8.151114161591977e-05}, {\"variable\": null, \"n_iter\": 138, \"prop\": \"psi\", \"value\": 0.0003294250927865505}, {\"variable\": null, \"n_iter\": 139, \"prop\": \"psi\", \"value\": 0.0005505335866473615}, {\"variable\": null, \"n_iter\": 139, \"prop\": \"psi\", \"value\": 7.852793351048604e-05}, {\"variable\": null, \"n_iter\": 139, \"prop\": \"psi\", \"value\": 0.00031922562629915774}, {\"variable\": null, \"n_iter\": 140, \"prop\": \"psi\", \"value\": 0.0005335347959771752}, {\"variable\": null, \"n_iter\": 140, \"prop\": \"psi\", \"value\": 7.558590732514858e-05}, {\"variable\": null, \"n_iter\": 140, \"prop\": \"psi\", \"value\": 0.00030936903203837574}, {\"variable\": null, \"n_iter\": 141, \"prop\": \"psi\", \"value\": 0.0005175639525987208}, {\"variable\": null, \"n_iter\": 141, \"prop\": \"psi\", \"value\": 7.267975888680667e-05}, {\"variable\": null, \"n_iter\": 141, \"prop\": \"psi\", \"value\": 0.00029984358116053045}, {\"variable\": null, \"n_iter\": 142, \"prop\": \"psi\", \"value\": 0.0005025309510529041}, {\"variable\": null, \"n_iter\": 142, \"prop\": \"psi\", \"value\": 6.979981844779104e-05}, {\"variable\": null, \"n_iter\": 142, \"prop\": \"psi\", \"value\": 0.00029059062944725156}, {\"variable\": null, \"n_iter\": 143, \"prop\": \"psi\", \"value\": 0.0004885061644017696}, {\"variable\": null, \"n_iter\": 143, \"prop\": \"psi\", \"value\": 6.695419870084152e-05}, {\"variable\": null, \"n_iter\": 143, \"prop\": \"psi\", \"value\": 0.00028160461806692183}, {\"variable\": null, \"n_iter\": 144, \"prop\": \"psi\", \"value\": 0.00047562801046296954}, {\"variable\": null, \"n_iter\": 144, \"prop\": \"psi\", \"value\": 6.416899850592017e-05}, {\"variable\": null, \"n_iter\": 144, \"prop\": \"psi\", \"value\": 0.00027295839390717447}, {\"variable\": null, \"n_iter\": 145, \"prop\": \"psi\", \"value\": 0.0004640068509615958}, {\"variable\": null, \"n_iter\": 145, \"prop\": \"psi\", \"value\": 6.146798841655254e-05}, {\"variable\": null, \"n_iter\": 145, \"prop\": \"psi\", \"value\": 0.0002647482033353299}, {\"variable\": null, \"n_iter\": 146, \"prop\": \"psi\", \"value\": 0.00045360211515799165}, {\"variable\": null, \"n_iter\": 146, \"prop\": \"psi\", \"value\": 5.8855966926785186e-05}, {\"variable\": null, \"n_iter\": 146, \"prop\": \"psi\", \"value\": 0.00025700294645503163}, {\"variable\": null, \"n_iter\": 147, \"prop\": \"psi\", \"value\": 0.00044432171853259206}, {\"variable\": null, \"n_iter\": 147, \"prop\": \"psi\", \"value\": 5.632452666759491e-05}, {\"variable\": null, \"n_iter\": 147, \"prop\": \"psi\", \"value\": 0.00024968490470200777}, {\"variable\": null, \"n_iter\": 148, \"prop\": \"psi\", \"value\": 0.0004361421742942184}, {\"variable\": null, \"n_iter\": 148, \"prop\": \"psi\", \"value\": 5.386974225984886e-05}, {\"variable\": null, \"n_iter\": 148, \"prop\": \"psi\", \"value\": 0.0002427447761874646}, {\"variable\": null, \"n_iter\": 149, \"prop\": \"psi\", \"value\": 0.00042911519994959235}, {\"variable\": null, \"n_iter\": 149, \"prop\": \"psi\", \"value\": 5.149973731022328e-05}, {\"variable\": null, \"n_iter\": 149, \"prop\": \"psi\", \"value\": 0.00023619049170520157}, {\"variable\": null, \"n_iter\": 150, \"prop\": \"psi\", \"value\": 0.00042330348514951766}, {\"variable\": null, \"n_iter\": 150, \"prop\": \"psi\", \"value\": 4.9225083785131574e-05}, {\"variable\": null, \"n_iter\": 150, \"prop\": \"psi\", \"value\": 0.00023006882111076266}, {\"variable\": null, \"n_iter\": 151, \"prop\": \"psi\", \"value\": 0.00041867815889418125}, {\"variable\": null, \"n_iter\": 151, \"prop\": \"psi\", \"value\": 4.704847015091218e-05}, {\"variable\": null, \"n_iter\": 151, \"prop\": \"psi\", \"value\": 0.00022439747408498079}, {\"variable\": null, \"n_iter\": 152, \"prop\": \"psi\", \"value\": 0.0004151551693212241}, {\"variable\": null, \"n_iter\": 152, \"prop\": \"psi\", \"value\": 4.4964064727537334e-05}, {\"variable\": null, \"n_iter\": 152, \"prop\": \"psi\", \"value\": 0.00021914616809226573}, {\"variable\": null, \"n_iter\": 153, \"prop\": \"psi\", \"value\": 0.00041269048233516514}, {\"variable\": null, \"n_iter\": 153, \"prop\": \"psi\", \"value\": 4.296729093766771e-05}, {\"variable\": null, \"n_iter\": 153, \"prop\": \"psi\", \"value\": 0.00021425849990919232}, {\"variable\": null, \"n_iter\": 154, \"prop\": \"psi\", \"value\": 0.0004113167233299464}, {\"variable\": null, \"n_iter\": 154, \"prop\": \"psi\", \"value\": 4.106001142645255e-05}, {\"variable\": null, \"n_iter\": 154, \"prop\": \"psi\", \"value\": 0.00020972425409127027}, {\"variable\": null, \"n_iter\": 155, \"prop\": \"psi\", \"value\": 0.0004110456211492419}, {\"variable\": null, \"n_iter\": 155, \"prop\": \"psi\", \"value\": 3.924562770407647e-05}, {\"variable\": null, \"n_iter\": 155, \"prop\": \"psi\", \"value\": 0.00020555334049277008}, {\"variable\": null, \"n_iter\": 156, \"prop\": \"psi\", \"value\": 0.00041181137203238904}, {\"variable\": null, \"n_iter\": 156, \"prop\": \"psi\", \"value\": 3.7521615013247356e-05}, {\"variable\": null, \"n_iter\": 156, \"prop\": \"psi\", \"value\": 0.00020173682423774153}, {\"variable\": null, \"n_iter\": 157, \"prop\": \"psi\", \"value\": 0.0004135578346904367}, {\"variable\": null, \"n_iter\": 157, \"prop\": \"psi\", \"value\": 3.588195613701828e-05}, {\"variable\": null, \"n_iter\": 157, \"prop\": \"psi\", \"value\": 0.00019824127957690507}, {\"variable\": null, \"n_iter\": 158, \"prop\": \"psi\", \"value\": 0.00041627889731898904}, {\"variable\": null, \"n_iter\": 158, \"prop\": \"psi\", \"value\": 3.432287849136628e-05}, {\"variable\": null, \"n_iter\": 158, \"prop\": \"psi\", \"value\": 0.00019503399380482733}, {\"variable\": null, \"n_iter\": 159, \"prop\": \"psi\", \"value\": 0.00042000378016382456}, {\"variable\": null, \"n_iter\": 159, \"prop\": \"psi\", \"value\": 3.2843949156813323e-05}, {\"variable\": null, \"n_iter\": 159, \"prop\": \"psi\", \"value\": 0.00019210908794775605}, {\"variable\": null, \"n_iter\": 160, \"prop\": \"psi\", \"value\": 0.0004246972093824297}, {\"variable\": null, \"n_iter\": 160, \"prop\": \"psi\", \"value\": 3.144376023556106e-05}, {\"variable\": null, \"n_iter\": 160, \"prop\": \"psi\", \"value\": 0.00018946386990137398}, {\"variable\": null, \"n_iter\": 161, \"prop\": \"psi\", \"value\": 0.0004302861634641886}, {\"variable\": null, \"n_iter\": 161, \"prop\": \"psi\", \"value\": 3.0117706046439707e-05}, {\"variable\": null, \"n_iter\": 161, \"prop\": \"psi\", \"value\": 0.00018707469280343503}, {\"variable\": null, \"n_iter\": 162, \"prop\": \"psi\", \"value\": 0.0004367128713056445}, {\"variable\": null, \"n_iter\": 162, \"prop\": \"psi\", \"value\": 2.8861470127594657e-05}, {\"variable\": null, \"n_iter\": 162, \"prop\": \"psi\", \"value\": 0.00018490423099137843}, {\"variable\": null, \"n_iter\": 163, \"prop\": \"psi\", \"value\": 0.0004439382755663246}, {\"variable\": null, \"n_iter\": 163, \"prop\": \"psi\", \"value\": 2.767283149296418e-05}, {\"variable\": null, \"n_iter\": 163, \"prop\": \"psi\", \"value\": 0.00018293957691639662}, {\"variable\": null, \"n_iter\": 164, \"prop\": \"psi\", \"value\": 0.00045193402911536396}, {\"variable\": null, \"n_iter\": 164, \"prop\": \"psi\", \"value\": 2.654959462233819e-05}, {\"variable\": null, \"n_iter\": 164, \"prop\": \"psi\", \"value\": 0.00018117365834768862}, {\"variable\": null, \"n_iter\": 165, \"prop\": \"psi\", \"value\": 0.00046061910688877106}, {\"variable\": null, \"n_iter\": 165, \"prop\": \"psi\", \"value\": 2.5488425308139995e-05}, {\"variable\": null, \"n_iter\": 165, \"prop\": \"psi\", \"value\": 0.00017958346870727837}, {\"variable\": null, \"n_iter\": 166, \"prop\": \"psi\", \"value\": 0.00046990346163511276}, {\"variable\": null, \"n_iter\": 166, \"prop\": \"psi\", \"value\": 2.448502891638782e-05}, {\"variable\": null, \"n_iter\": 166, \"prop\": \"psi\", \"value\": 0.00017814461898524314}, {\"variable\": null, \"n_iter\": 167, \"prop\": \"psi\", \"value\": 0.0004797052242793143}, {\"variable\": null, \"n_iter\": 167, \"prop\": \"psi\", \"value\": 2.353643867536448e-05}, {\"variable\": null, \"n_iter\": 167, \"prop\": \"psi\", \"value\": 0.00017684100021142513}, {\"variable\": null, \"n_iter\": 168, \"prop\": \"psi\", \"value\": 0.0004899430787190795}, {\"variable\": null, \"n_iter\": 168, \"prop\": \"psi\", \"value\": 2.264039358124137e-05}, {\"variable\": null, \"n_iter\": 168, \"prop\": \"psi\", \"value\": 0.00017567221948411316}, {\"variable\": null, \"n_iter\": 169, \"prop\": \"psi\", \"value\": 0.0005005571874789894}, {\"variable\": null, \"n_iter\": 169, \"prop\": \"psi\", \"value\": 2.1794045096612535e-05}, {\"variable\": null, \"n_iter\": 169, \"prop\": \"psi\", \"value\": 0.0001746240013744682}, {\"variable\": null, \"n_iter\": 170, \"prop\": \"psi\", \"value\": 0.0005113761872053146}, {\"variable\": null, \"n_iter\": 170, \"prop\": \"psi\", \"value\": 2.0994246369809844e-05}, {\"variable\": null, \"n_iter\": 170, \"prop\": \"psi\", \"value\": 0.0001736638369038701}, {\"variable\": null, \"n_iter\": 171, \"prop\": \"psi\", \"value\": 0.0005222713807597756}, {\"variable\": null, \"n_iter\": 171, \"prop\": \"psi\", \"value\": 2.023832348641008e-05}, {\"variable\": null, \"n_iter\": 171, \"prop\": \"psi\", \"value\": 0.00017278322775382549}, {\"variable\": null, \"n_iter\": 172, \"prop\": \"psi\", \"value\": 0.0005331544671207666}, {\"variable\": null, \"n_iter\": 172, \"prop\": \"psi\", \"value\": 1.9523971786838956e-05}, {\"variable\": null, \"n_iter\": 172, \"prop\": \"psi\", \"value\": 0.0001719848223729059}, {\"variable\": null, \"n_iter\": 173, \"prop\": \"psi\", \"value\": 0.000543882604688406}, {\"variable\": null, \"n_iter\": 173, \"prop\": \"psi\", \"value\": 1.884870471258182e-05}, {\"variable\": null, \"n_iter\": 173, \"prop\": \"psi\", \"value\": 0.0001712524681352079}, {\"variable\": null, \"n_iter\": 174, \"prop\": \"psi\", \"value\": 0.0005543445004150271}, {\"variable\": null, \"n_iter\": 174, \"prop\": \"psi\", \"value\": 1.8210124835604802e-05}, {\"variable\": null, \"n_iter\": 174, \"prop\": \"psi\", \"value\": 0.0001705705508356914}, {\"variable\": null, \"n_iter\": 175, \"prop\": \"psi\", \"value\": 0.0005643884651362896}, {\"variable\": null, \"n_iter\": 175, \"prop\": \"psi\", \"value\": 1.7605952962185256e-05}, {\"variable\": null, \"n_iter\": 175, \"prop\": \"psi\", \"value\": 0.00016993058670777828}, {\"variable\": null, \"n_iter\": 176, \"prop\": \"psi\", \"value\": 0.0005738998879678547}, {\"variable\": null, \"n_iter\": 176, \"prop\": \"psi\", \"value\": 1.7034102711477317e-05}, {\"variable\": null, \"n_iter\": 176, \"prop\": \"psi\", \"value\": 0.0001693322410574183}, {\"variable\": null, \"n_iter\": 177, \"prop\": \"psi\", \"value\": 0.000582805136218667}, {\"variable\": null, \"n_iter\": 177, \"prop\": \"psi\", \"value\": 1.6492680515511893e-05}, {\"variable\": null, \"n_iter\": 177, \"prop\": \"psi\", \"value\": 0.00016876542940735817}, {\"variable\": null, \"n_iter\": 178, \"prop\": \"psi\", \"value\": 0.0005910001927986741}, {\"variable\": null, \"n_iter\": 178, \"prop\": \"psi\", \"value\": 1.5979649106157012e-05}, {\"variable\": null, \"n_iter\": 178, \"prop\": \"psi\", \"value\": 0.00016822252655401826}, {\"variable\": null, \"n_iter\": 179, \"prop\": \"psi\", \"value\": 0.0005983852315694094}, {\"variable\": null, \"n_iter\": 179, \"prop\": \"psi\", \"value\": 1.5493269529542886e-05}, {\"variable\": null, \"n_iter\": 179, \"prop\": \"psi\", \"value\": 0.00016769286594353616}, {\"variable\": null, \"n_iter\": 180, \"prop\": \"psi\", \"value\": 0.0006048856303095818}, {\"variable\": null, \"n_iter\": 180, \"prop\": \"psi\", \"value\": 1.5031811926746741e-05}, {\"variable\": null, \"n_iter\": 180, \"prop\": \"psi\", \"value\": 0.00016718624101486057}, {\"variable\": null, \"n_iter\": 181, \"prop\": \"psi\", \"value\": 0.0006104609346948564}, {\"variable\": null, \"n_iter\": 181, \"prop\": \"psi\", \"value\": 1.4593823834729847e-05}, {\"variable\": null, \"n_iter\": 181, \"prop\": \"psi\", \"value\": 0.00016669304750394076}, {\"variable\": null, \"n_iter\": 182, \"prop\": \"psi\", \"value\": 0.0006151450797915459}, {\"variable\": null, \"n_iter\": 182, \"prop\": \"psi\", \"value\": 1.4177733646647539e-05}, {\"variable\": null, \"n_iter\": 182, \"prop\": \"psi\", \"value\": 0.0001662220893194899}, {\"variable\": null, \"n_iter\": 183, \"prop\": \"psi\", \"value\": 0.0006188860279507935}, {\"variable\": null, \"n_iter\": 183, \"prop\": \"psi\", \"value\": 1.3782153473584913e-05}, {\"variable\": null, \"n_iter\": 183, \"prop\": \"psi\", \"value\": 0.0001657793327467516}, {\"variable\": null, \"n_iter\": 184, \"prop\": \"psi\", \"value\": 0.0006217181216925383}, {\"variable\": null, \"n_iter\": 184, \"prop\": \"psi\", \"value\": 1.3405777281150222e-05}, {\"variable\": null, \"n_iter\": 184, \"prop\": \"psi\", \"value\": 0.0001653590297792107}, {\"variable\": null, \"n_iter\": 185, \"prop\": \"psi\", \"value\": 0.0006236953777261078}, {\"variable\": null, \"n_iter\": 185, \"prop\": \"psi\", \"value\": 1.3047316315351054e-05}, {\"variable\": null, \"n_iter\": 185, \"prop\": \"psi\", \"value\": 0.00016496765601914376}, {\"variable\": null, \"n_iter\": 186, \"prop\": \"psi\", \"value\": 0.0006248330464586616}, {\"variable\": null, \"n_iter\": 186, \"prop\": \"psi\", \"value\": 1.2705721019301564e-05}, {\"variable\": null, \"n_iter\": 186, \"prop\": \"psi\", \"value\": 0.0001645977608859539}, {\"variable\": null, \"n_iter\": 187, \"prop\": \"psi\", \"value\": 0.0006252186140045524}, {\"variable\": null, \"n_iter\": 187, \"prop\": \"psi\", \"value\": 1.2379927284200676e-05}, {\"variable\": null, \"n_iter\": 187, \"prop\": \"psi\", \"value\": 0.00016426848014816642}, {\"variable\": null, \"n_iter\": 188, \"prop\": \"psi\", \"value\": 0.0006249274592846632}, {\"variable\": null, \"n_iter\": 188, \"prop\": \"psi\", \"value\": 1.206891920446651e-05}, {\"variable\": null, \"n_iter\": 188, \"prop\": \"psi\", \"value\": 0.00016397204308304936}, {\"variable\": null, \"n_iter\": 189, \"prop\": \"psi\", \"value\": 0.000624009408056736}, {\"variable\": null, \"n_iter\": 189, \"prop\": \"psi\", \"value\": 1.1771694516937714e-05}, {\"variable\": null, \"n_iter\": 189, \"prop\": \"psi\", \"value\": 0.00016371878155041486}, {\"variable\": null, \"n_iter\": 190, \"prop\": \"psi\", \"value\": 0.0006225318647921085}, {\"variable\": null, \"n_iter\": 190, \"prop\": \"psi\", \"value\": 1.148749561252771e-05}, {\"variable\": null, \"n_iter\": 190, \"prop\": \"psi\", \"value\": 0.00016351189697161317}, {\"variable\": null, \"n_iter\": 191, \"prop\": \"psi\", \"value\": 0.0006206210819073021}, {\"variable\": null, \"n_iter\": 191, \"prop\": \"psi\", \"value\": 1.1215495760552585e-05}, {\"variable\": null, \"n_iter\": 191, \"prop\": \"psi\", \"value\": 0.00016336041153408587}, {\"variable\": null, \"n_iter\": 192, \"prop\": \"psi\", \"value\": 0.0006184014491736889}, {\"variable\": null, \"n_iter\": 192, \"prop\": \"psi\", \"value\": 1.0954938261420466e-05}, {\"variable\": null, \"n_iter\": 192, \"prop\": \"psi\", \"value\": 0.00016326774493791163}, {\"variable\": null, \"n_iter\": 193, \"prop\": \"psi\", \"value\": 0.000615904398728162}, {\"variable\": null, \"n_iter\": 193, \"prop\": \"psi\", \"value\": 1.07051291706739e-05}, {\"variable\": null, \"n_iter\": 193, \"prop\": \"psi\", \"value\": 0.0001632313069421798}, {\"variable\": null, \"n_iter\": 194, \"prop\": \"psi\", \"value\": 0.0006132589187473059}, {\"variable\": null, \"n_iter\": 194, \"prop\": \"psi\", \"value\": 1.0465377272339538e-05}, {\"variable\": null, \"n_iter\": 194, \"prop\": \"psi\", \"value\": 0.00016325917385984212}, {\"variable\": null, \"n_iter\": 195, \"prop\": \"psi\", \"value\": 0.0006105339853093028}, {\"variable\": null, \"n_iter\": 195, \"prop\": \"psi\", \"value\": 1.0235121408186387e-05}, {\"variable\": null, \"n_iter\": 195, \"prop\": \"psi\", \"value\": 0.0001633491920074448}, {\"variable\": null, \"n_iter\": 196, \"prop\": \"psi\", \"value\": 0.0006077485159039497}, {\"variable\": null, \"n_iter\": 196, \"prop\": \"psi\", \"value\": 1.0013810424425174e-05}, {\"variable\": null, \"n_iter\": 196, \"prop\": \"psi\", \"value\": 0.00016351984231732786}, {\"variable\": null, \"n_iter\": 197, \"prop\": \"psi\", \"value\": 0.0006049543153494596}, {\"variable\": null, \"n_iter\": 197, \"prop\": \"psi\", \"value\": 9.800918633118272e-06}, {\"variable\": null, \"n_iter\": 197, \"prop\": \"psi\", \"value\": 0.00016375657287426293}, {\"variable\": null, \"n_iter\": 198, \"prop\": \"psi\", \"value\": 0.0006022645393386483}, {\"variable\": null, \"n_iter\": 198, \"prop\": \"psi\", \"value\": 9.5959931059042e-06}, {\"variable\": null, \"n_iter\": 198, \"prop\": \"psi\", \"value\": 0.00016407012299168855}, {\"variable\": null, \"n_iter\": 199, \"prop\": \"psi\", \"value\": 0.0005996873369440436}, {\"variable\": null, \"n_iter\": 199, \"prop\": \"psi\", \"value\": 9.398614565725438e-06}, {\"variable\": null, \"n_iter\": 199, \"prop\": \"psi\", \"value\": 0.0001644639269215986}], \"data-d83ba6ffe3c0efdbd45ae90977cc64dc\": [{\"info\": \"likelihood\", \"n_iter\": 0, \"prop\": \"noise\", \"value\": 0.6932471990585327}, {\"info\": \"likelihood\", \"n_iter\": 1, \"prop\": \"noise\", \"value\": 0.6444966793060303}, {\"info\": \"likelihood\", \"n_iter\": 2, \"prop\": \"noise\", \"value\": 0.5981778502464294}, {\"info\": \"likelihood\", \"n_iter\": 3, \"prop\": \"noise\", \"value\": 0.554246723651886}, {\"info\": \"likelihood\", \"n_iter\": 4, \"prop\": \"noise\", \"value\": 0.5126630663871765}, {\"info\": \"likelihood\", \"n_iter\": 5, \"prop\": \"noise\", \"value\": 0.47338131070137024}, {\"info\": \"likelihood\", \"n_iter\": 6, \"prop\": \"noise\", \"value\": 0.4363517463207245}, {\"info\": \"likelihood\", \"n_iter\": 7, \"prop\": \"noise\", \"value\": 0.40152648091316223}, {\"info\": \"likelihood\", \"n_iter\": 8, \"prop\": \"noise\", \"value\": 0.36886066198349}, {\"info\": \"likelihood\", \"n_iter\": 9, \"prop\": \"noise\", \"value\": 0.33830490708351135}, {\"info\": \"likelihood\", \"n_iter\": 10, \"prop\": \"noise\", \"value\": 0.3097987174987793}, {\"info\": \"likelihood\", \"n_iter\": 11, \"prop\": \"noise\", \"value\": 0.28327056765556335}, {\"info\": \"likelihood\", \"n_iter\": 12, \"prop\": \"noise\", \"value\": 0.25864094495773315}, {\"info\": \"likelihood\", \"n_iter\": 13, \"prop\": \"noise\", \"value\": 0.23582597076892853}, {\"info\": \"likelihood\", \"n_iter\": 14, \"prop\": \"noise\", \"value\": 0.2147398442029953}, {\"info\": \"likelihood\", \"n_iter\": 15, \"prop\": \"noise\", \"value\": 0.19529587030410767}, {\"info\": \"likelihood\", \"n_iter\": 16, \"prop\": \"noise\", \"value\": 0.17740581929683685}, {\"info\": \"likelihood\", \"n_iter\": 17, \"prop\": \"noise\", \"value\": 0.1609795093536377}, {\"info\": \"likelihood\", \"n_iter\": 18, \"prop\": \"noise\", \"value\": 0.14592573046684265}, {\"info\": \"likelihood\", \"n_iter\": 19, \"prop\": \"noise\", \"value\": 0.132154181599617}, {\"info\": \"likelihood\", \"n_iter\": 20, \"prop\": \"noise\", \"value\": 0.11957716941833496}, {\"info\": \"likelihood\", \"n_iter\": 21, \"prop\": \"noise\", \"value\": 0.108110211789608}, {\"info\": \"likelihood\", \"n_iter\": 22, \"prop\": \"noise\", \"value\": 0.09767158329486847}, {\"info\": \"likelihood\", \"n_iter\": 23, \"prop\": \"noise\", \"value\": 0.08818230777978897}, {\"info\": \"likelihood\", \"n_iter\": 24, \"prop\": \"noise\", \"value\": 0.07956696301698685}, {\"info\": \"likelihood\", \"n_iter\": 25, \"prop\": \"noise\", \"value\": 0.07175444811582565}, {\"info\": \"likelihood\", \"n_iter\": 26, \"prop\": \"noise\", \"value\": 0.06467784196138382}, {\"info\": \"likelihood\", \"n_iter\": 27, \"prop\": \"noise\", \"value\": 0.05827438086271286}, {\"info\": \"likelihood\", \"n_iter\": 28, \"prop\": \"noise\", \"value\": 0.052485596388578415}, {\"info\": \"likelihood\", \"n_iter\": 29, \"prop\": \"noise\", \"value\": 0.047256842255592346}, {\"info\": \"likelihood\", \"n_iter\": 30, \"prop\": \"noise\", \"value\": 0.04253721982240677}, {\"info\": \"likelihood\", \"n_iter\": 31, \"prop\": \"noise\", \"value\": 0.03828025981783867}, {\"info\": \"likelihood\", \"n_iter\": 32, \"prop\": \"noise\", \"value\": 0.03444313630461693}, {\"info\": \"likelihood\", \"n_iter\": 33, \"prop\": \"noise\", \"value\": 0.030986128374934196}, {\"info\": \"likelihood\", \"n_iter\": 34, \"prop\": \"noise\", \"value\": 0.027873210608959198}, {\"info\": \"likelihood\", \"n_iter\": 35, \"prop\": \"noise\", \"value\": 0.02507147006690502}, {\"info\": \"likelihood\", \"n_iter\": 36, \"prop\": \"noise\", \"value\": 0.02255062386393547}, {\"info\": \"likelihood\", \"n_iter\": 37, \"prop\": \"noise\", \"value\": 0.020283320918679237}, {\"info\": \"likelihood\", \"n_iter\": 38, \"prop\": \"noise\", \"value\": 0.01824467070400715}, {\"info\": \"likelihood\", \"n_iter\": 39, \"prop\": \"noise\", \"value\": 0.016412025317549706}, {\"info\": \"likelihood\", \"n_iter\": 40, \"prop\": \"noise\", \"value\": 0.014764931052923203}, {\"info\": \"likelihood\", \"n_iter\": 41, \"prop\": \"noise\", \"value\": 0.013284885324537754}, {\"info\": \"likelihood\", \"n_iter\": 42, \"prop\": \"noise\", \"value\": 0.011955082416534424}, {\"info\": \"likelihood\", \"n_iter\": 43, \"prop\": \"noise\", \"value\": 0.010760466568171978}, {\"info\": \"likelihood\", \"n_iter\": 44, \"prop\": \"noise\", \"value\": 0.009687322191894054}, {\"info\": \"likelihood\", \"n_iter\": 45, \"prop\": \"noise\", \"value\": 0.008723416365683079}, {\"info\": \"likelihood\", \"n_iter\": 46, \"prop\": \"noise\", \"value\": 0.007857627235352993}, {\"info\": \"likelihood\", \"n_iter\": 47, \"prop\": \"noise\", \"value\": 0.0070800017565488815}, {\"info\": \"likelihood\", \"n_iter\": 48, \"prop\": \"noise\", \"value\": 0.006381549872457981}, {\"info\": \"likelihood\", \"n_iter\": 49, \"prop\": \"noise\", \"value\": 0.0057542291469872}, {\"info\": \"likelihood\", \"n_iter\": 50, \"prop\": \"noise\", \"value\": 0.005190763156861067}, {\"info\": \"likelihood\", \"n_iter\": 51, \"prop\": \"noise\", \"value\": 0.0046846335753798485}, {\"info\": \"likelihood\", \"n_iter\": 52, \"prop\": \"noise\", \"value\": 0.004229992628097534}, {\"info\": \"likelihood\", \"n_iter\": 53, \"prop\": \"noise\", \"value\": 0.0038215683307498693}, {\"info\": \"likelihood\", \"n_iter\": 54, \"prop\": \"noise\", \"value\": 0.003454638412222266}, {\"info\": \"likelihood\", \"n_iter\": 55, \"prop\": \"noise\", \"value\": 0.0031249774619936943}, {\"info\": \"likelihood\", \"n_iter\": 56, \"prop\": \"noise\", \"value\": 0.0028288112953305244}, {\"info\": \"likelihood\", \"n_iter\": 57, \"prop\": \"noise\", \"value\": 0.002562819980084896}, {\"info\": \"likelihood\", \"n_iter\": 58, \"prop\": \"noise\", \"value\": 0.002324377652257681}, {\"info\": \"likelihood\", \"n_iter\": 59, \"prop\": \"noise\", \"value\": 0.0021103122271597385}, {\"info\": \"likelihood\", \"n_iter\": 60, \"prop\": \"noise\", \"value\": 0.00191814627032727}, {\"info\": \"likelihood\", \"n_iter\": 61, \"prop\": \"noise\", \"value\": 0.0017454824410378933}, {\"info\": \"likelihood\", \"n_iter\": 62, \"prop\": \"noise\", \"value\": 0.0015903166495263577}, {\"info\": \"likelihood\", \"n_iter\": 63, \"prop\": \"noise\", \"value\": 0.001450844923965633}, {\"info\": \"likelihood\", \"n_iter\": 64, \"prop\": \"noise\", \"value\": 0.0013253189390525222}, {\"info\": \"likelihood\", \"n_iter\": 65, \"prop\": \"noise\", \"value\": 0.0012125091161578894}, {\"info\": \"likelihood\", \"n_iter\": 66, \"prop\": \"noise\", \"value\": 0.001110869343392551}, {\"info\": \"likelihood\", \"n_iter\": 67, \"prop\": \"noise\", \"value\": 0.001019539195112884}, {\"info\": \"likelihood\", \"n_iter\": 68, \"prop\": \"noise\", \"value\": 0.0009372162166982889}, {\"info\": \"likelihood\", \"n_iter\": 69, \"prop\": \"noise\", \"value\": 0.0008631976670585573}, {\"info\": \"likelihood\", \"n_iter\": 70, \"prop\": \"noise\", \"value\": 0.0007965219556353986}, {\"info\": \"likelihood\", \"n_iter\": 71, \"prop\": \"noise\", \"value\": 0.0007364622433669865}, {\"info\": \"likelihood\", \"n_iter\": 72, \"prop\": \"noise\", \"value\": 0.0006824471056461334}, {\"info\": \"likelihood\", \"n_iter\": 73, \"prop\": \"noise\", \"value\": 0.0006337546510621905}, {\"info\": \"likelihood\", \"n_iter\": 74, \"prop\": \"noise\", \"value\": 0.0005900434916839004}, {\"info\": \"likelihood\", \"n_iter\": 75, \"prop\": \"noise\", \"value\": 0.0005509476759470999}, {\"info\": \"likelihood\", \"n_iter\": 76, \"prop\": \"noise\", \"value\": 0.0005157854175195098}, {\"info\": \"likelihood\", \"n_iter\": 77, \"prop\": \"noise\", \"value\": 0.0004840889887418598}, {\"info\": \"likelihood\", \"n_iter\": 78, \"prop\": \"noise\", \"value\": 0.00045557826524600387}, {\"info\": \"likelihood\", \"n_iter\": 79, \"prop\": \"noise\", \"value\": 0.00042988653876818717}, {\"info\": \"likelihood\", \"n_iter\": 80, \"prop\": \"noise\", \"value\": 0.00040670091402716935}, {\"info\": \"likelihood\", \"n_iter\": 81, \"prop\": \"noise\", \"value\": 0.00038578236126340926}, {\"info\": \"likelihood\", \"n_iter\": 82, \"prop\": \"noise\", \"value\": 0.0003669190627988428}, {\"info\": \"likelihood\", \"n_iter\": 83, \"prop\": \"noise\", \"value\": 0.0003498537407722324}, {\"info\": \"likelihood\", \"n_iter\": 84, \"prop\": \"noise\", \"value\": 0.0003344214928802103}, {\"info\": \"likelihood\", \"n_iter\": 85, \"prop\": \"noise\", \"value\": 0.00032050174195319414}, {\"info\": \"likelihood\", \"n_iter\": 86, \"prop\": \"noise\", \"value\": 0.00030787356081418693}, {\"info\": \"likelihood\", \"n_iter\": 87, \"prop\": \"noise\", \"value\": 0.00029640854336321354}, {\"info\": \"likelihood\", \"n_iter\": 88, \"prop\": \"noise\", \"value\": 0.00028605194529518485}, {\"info\": \"likelihood\", \"n_iter\": 89, \"prop\": \"noise\", \"value\": 0.00027665376546792686}, {\"info\": \"likelihood\", \"n_iter\": 90, \"prop\": \"noise\", \"value\": 0.0002680825418792665}, {\"info\": \"likelihood\", \"n_iter\": 91, \"prop\": \"noise\", \"value\": 0.0002602842578198761}, {\"info\": \"likelihood\", \"n_iter\": 92, \"prop\": \"noise\", \"value\": 0.00025317067047581077}, {\"info\": \"likelihood\", \"n_iter\": 93, \"prop\": \"noise\", \"value\": 0.0002466623845975846}, {\"info\": \"likelihood\", \"n_iter\": 94, \"prop\": \"noise\", \"value\": 0.00024072558153420687}, {\"info\": \"likelihood\", \"n_iter\": 95, \"prop\": \"noise\", \"value\": 0.00023529792088083923}, {\"info\": \"likelihood\", \"n_iter\": 96, \"prop\": \"noise\", \"value\": 0.00023030940792523324}, {\"info\": \"likelihood\", \"n_iter\": 97, \"prop\": \"noise\", \"value\": 0.00022572439047507942}, {\"info\": \"likelihood\", \"n_iter\": 98, \"prop\": \"noise\", \"value\": 0.0002214775449829176}, {\"info\": \"likelihood\", \"n_iter\": 99, \"prop\": \"noise\", \"value\": 0.00021751091117039323}, {\"info\": \"likelihood\", \"n_iter\": 100, \"prop\": \"noise\", \"value\": 0.00021380340331234038}, {\"info\": \"likelihood\", \"n_iter\": 101, \"prop\": \"noise\", \"value\": 0.0002029740862781182}, {\"info\": \"likelihood\", \"n_iter\": 102, \"prop\": \"noise\", \"value\": 0.00021060937433503568}, {\"info\": \"likelihood\", \"n_iter\": 103, \"prop\": \"noise\", \"value\": 0.00021700034267269075}, {\"info\": \"likelihood\", \"n_iter\": 104, \"prop\": \"noise\", \"value\": 0.00022355737746693194}, {\"info\": \"likelihood\", \"n_iter\": 105, \"prop\": \"noise\", \"value\": 0.0002320320636499673}, {\"info\": \"likelihood\", \"n_iter\": 106, \"prop\": \"noise\", \"value\": 0.00024186045629903674}, {\"info\": \"likelihood\", \"n_iter\": 107, \"prop\": \"noise\", \"value\": 0.00025168442516587675}, {\"info\": \"likelihood\", \"n_iter\": 108, \"prop\": \"noise\", \"value\": 0.00026041208184324205}, {\"info\": \"likelihood\", \"n_iter\": 109, \"prop\": \"noise\", \"value\": 0.0002683229686226696}, {\"info\": \"likelihood\", \"n_iter\": 110, \"prop\": \"noise\", \"value\": 0.00027635484002530575}, {\"info\": \"likelihood\", \"n_iter\": 111, \"prop\": \"noise\", \"value\": 0.00028500688495114446}, {\"info\": \"likelihood\", \"n_iter\": 112, \"prop\": \"noise\", \"value\": 0.00029405983514152467}, {\"info\": \"likelihood\", \"n_iter\": 113, \"prop\": \"noise\", \"value\": 0.00030277326004579663}, {\"info\": \"likelihood\", \"n_iter\": 114, \"prop\": \"noise\", \"value\": 0.000310373812681064}, {\"info\": \"likelihood\", \"n_iter\": 115, \"prop\": \"noise\", \"value\": 0.0003165604721289128}, {\"info\": \"likelihood\", \"n_iter\": 116, \"prop\": \"noise\", \"value\": 0.0003215925535187125}, {\"info\": \"likelihood\", \"n_iter\": 117, \"prop\": \"noise\", \"value\": 0.000325968605466187}, {\"info\": \"likelihood\", \"n_iter\": 118, \"prop\": \"noise\", \"value\": 0.00033003176213242114}, {\"info\": \"likelihood\", \"n_iter\": 119, \"prop\": \"noise\", \"value\": 0.00033376121427863836}, {\"info\": \"likelihood\", \"n_iter\": 120, \"prop\": \"noise\", \"value\": 0.0003368282923474908}, {\"info\": \"likelihood\", \"n_iter\": 121, \"prop\": \"noise\", \"value\": 0.0003388294135220349}, {\"info\": \"likelihood\", \"n_iter\": 122, \"prop\": \"noise\", \"value\": 0.00033954877289943397}, {\"info\": \"likelihood\", \"n_iter\": 123, \"prop\": \"noise\", \"value\": 0.00033906250610016286}, {\"info\": \"likelihood\", \"n_iter\": 124, \"prop\": \"noise\", \"value\": 0.00033765763510018587}, {\"info\": \"likelihood\", \"n_iter\": 125, \"prop\": \"noise\", \"value\": 0.0003356458619236946}, {\"info\": \"likelihood\", \"n_iter\": 126, \"prop\": \"noise\", \"value\": 0.00033319948124699295}, {\"info\": \"likelihood\", \"n_iter\": 127, \"prop\": \"noise\", \"value\": 0.0003303028061054647}, {\"info\": \"likelihood\", \"n_iter\": 128, \"prop\": \"noise\", \"value\": 0.00032683153403922915}, {\"info\": \"likelihood\", \"n_iter\": 129, \"prop\": \"noise\", \"value\": 0.0003226896224077791}, {\"info\": \"likelihood\", \"n_iter\": 130, \"prop\": \"noise\", \"value\": 0.0003179125487804413}, {\"info\": \"likelihood\", \"n_iter\": 131, \"prop\": \"noise\", \"value\": 0.00031266550649888813}, {\"info\": \"likelihood\", \"n_iter\": 132, \"prop\": \"noise\", \"value\": 0.0003071582177653909}, {\"info\": \"likelihood\", \"n_iter\": 133, \"prop\": \"noise\", \"value\": 0.0003015375987160951}, {\"info\": \"likelihood\", \"n_iter\": 134, \"prop\": \"noise\", \"value\": 0.0002958366530947387}, {\"info\": \"likelihood\", \"n_iter\": 135, \"prop\": \"noise\", \"value\": 0.0002900129766203463}, {\"info\": \"likelihood\", \"n_iter\": 136, \"prop\": \"noise\", \"value\": 0.00028403487522155046}, {\"info\": \"likelihood\", \"n_iter\": 137, \"prop\": \"noise\", \"value\": 0.0002779454516712576}, {\"info\": \"likelihood\", \"n_iter\": 138, \"prop\": \"noise\", \"value\": 0.00027184744249098003}, {\"info\": \"likelihood\", \"n_iter\": 139, \"prop\": \"noise\", \"value\": 0.00026584527222439647}, {\"info\": \"likelihood\", \"n_iter\": 140, \"prop\": \"noise\", \"value\": 0.0002599837607704103}, {\"info\": \"likelihood\", \"n_iter\": 141, \"prop\": \"noise\", \"value\": 0.00025424989871680737}, {\"info\": \"likelihood\", \"n_iter\": 142, \"prop\": \"noise\", \"value\": 0.00024861781275831163}, {\"info\": \"likelihood\", \"n_iter\": 143, \"prop\": \"noise\", \"value\": 0.00024309835862368345}, {\"info\": \"likelihood\", \"n_iter\": 144, \"prop\": \"noise\", \"value\": 0.00023773883003741503}, {\"info\": \"likelihood\", \"n_iter\": 145, \"prop\": \"noise\", \"value\": 0.0002325848035980016}, {\"info\": \"likelihood\", \"n_iter\": 146, \"prop\": \"noise\", \"value\": 0.00022764189634472132}, {\"info\": \"likelihood\", \"n_iter\": 147, \"prop\": \"noise\", \"value\": 0.00022288734908215702}, {\"info\": \"likelihood\", \"n_iter\": 148, \"prop\": \"noise\", \"value\": 0.0002183056203648448}, {\"info\": \"likelihood\", \"n_iter\": 149, \"prop\": \"noise\", \"value\": 0.00021390762412920594}, {\"info\": \"likelihood\", \"n_iter\": 150, \"prop\": \"noise\", \"value\": 0.00020971235062461346}, {\"info\": \"likelihood\", \"n_iter\": 151, \"prop\": \"noise\", \"value\": 0.0002057213569059968}, {\"info\": \"likelihood\", \"n_iter\": 152, \"prop\": \"noise\", \"value\": 0.00020191675866954029}, {\"info\": \"likelihood\", \"n_iter\": 153, \"prop\": \"noise\", \"value\": 0.00019828137010335922}, {\"info\": \"likelihood\", \"n_iter\": 154, \"prop\": \"noise\", \"value\": 0.00019481527851894498}, {\"info\": \"likelihood\", \"n_iter\": 155, \"prop\": \"noise\", \"value\": 0.0001915226166602224}, {\"info\": \"likelihood\", \"n_iter\": 156, \"prop\": \"noise\", \"value\": 0.00018839503172785044}, {\"info\": \"likelihood\", \"n_iter\": 157, \"prop\": \"noise\", \"value\": 0.00018541650206316262}, {\"info\": \"likelihood\", \"n_iter\": 158, \"prop\": \"noise\", \"value\": 0.00018257643387187272}, {\"info\": \"likelihood\", \"n_iter\": 159, \"prop\": \"noise\", \"value\": 0.00017987313913181424}, {\"info\": \"likelihood\", \"n_iter\": 160, \"prop\": \"noise\", \"value\": 0.00017730315448716283}, {\"info\": \"likelihood\", \"n_iter\": 161, \"prop\": \"noise\", \"value\": 0.00017485517309978604}, {\"info\": \"likelihood\", \"n_iter\": 162, \"prop\": \"noise\", \"value\": 0.00017251823737751693}, {\"info\": \"likelihood\", \"n_iter\": 163, \"prop\": \"noise\", \"value\": 0.0001702878944342956}, {\"info\": \"likelihood\", \"n_iter\": 164, \"prop\": \"noise\", \"value\": 0.00016816066636238247}, {\"info\": \"likelihood\", \"n_iter\": 165, \"prop\": \"noise\", \"value\": 0.00016612951003480703}, {\"info\": \"likelihood\", \"n_iter\": 166, \"prop\": \"noise\", \"value\": 0.00016418570885434747}, {\"info\": \"likelihood\", \"n_iter\": 167, \"prop\": \"noise\", \"value\": 0.00016232415509875864}, {\"info\": \"likelihood\", \"n_iter\": 168, \"prop\": \"noise\", \"value\": 0.00016054234583862126}, {\"info\": \"likelihood\", \"n_iter\": 169, \"prop\": \"noise\", \"value\": 0.00015883604646660388}, {\"info\": \"likelihood\", \"n_iter\": 170, \"prop\": \"noise\", \"value\": 0.00015719882503617555}, {\"info\": \"likelihood\", \"n_iter\": 171, \"prop\": \"noise\", \"value\": 0.00015562705812044442}, {\"info\": \"likelihood\", \"n_iter\": 172, \"prop\": \"noise\", \"value\": 0.0001541186502436176}, {\"info\": \"likelihood\", \"n_iter\": 173, \"prop\": \"noise\", \"value\": 0.00015266987611539662}, {\"info\": \"likelihood\", \"n_iter\": 174, \"prop\": \"noise\", \"value\": 0.00015127744700293988}, {\"info\": \"likelihood\", \"n_iter\": 175, \"prop\": \"noise\", \"value\": 0.0001499382924521342}, {\"info\": \"likelihood\", \"n_iter\": 176, \"prop\": \"noise\", \"value\": 0.00014865030243527144}, {\"info\": \"likelihood\", \"n_iter\": 177, \"prop\": \"noise\", \"value\": 0.0001474113087169826}, {\"info\": \"likelihood\", \"n_iter\": 178, \"prop\": \"noise\", \"value\": 0.00014621859008911997}, {\"info\": \"likelihood\", \"n_iter\": 179, \"prop\": \"noise\", \"value\": 0.0001450700219720602}, {\"info\": \"likelihood\", \"n_iter\": 180, \"prop\": \"noise\", \"value\": 0.00014396393089555204}, {\"info\": \"likelihood\", \"n_iter\": 181, \"prop\": \"noise\", \"value\": 0.00014289867249317467}, {\"info\": \"likelihood\", \"n_iter\": 182, \"prop\": \"noise\", \"value\": 0.0001418727042619139}, {\"info\": \"likelihood\", \"n_iter\": 183, \"prop\": \"noise\", \"value\": 0.00014088445459492505}, {\"info\": \"likelihood\", \"n_iter\": 184, \"prop\": \"noise\", \"value\": 0.00013993227912578732}, {\"info\": \"likelihood\", \"n_iter\": 185, \"prop\": \"noise\", \"value\": 0.0001390146790072322}, {\"info\": \"likelihood\", \"n_iter\": 186, \"prop\": \"noise\", \"value\": 0.0001381301844958216}, {\"info\": \"likelihood\", \"n_iter\": 187, \"prop\": \"noise\", \"value\": 0.00013727793702855706}, {\"info\": \"likelihood\", \"n_iter\": 188, \"prop\": \"noise\", \"value\": 0.000136456306790933}, {\"info\": \"likelihood\", \"n_iter\": 189, \"prop\": \"noise\", \"value\": 0.00013566395500674844}, {\"info\": \"likelihood\", \"n_iter\": 190, \"prop\": \"noise\", \"value\": 0.00013489990669768304}, {\"info\": \"likelihood\", \"n_iter\": 191, \"prop\": \"noise\", \"value\": 0.00013416309957392514}, {\"info\": \"likelihood\", \"n_iter\": 192, \"prop\": \"noise\", \"value\": 0.00013345239858608693}, {\"info\": \"likelihood\", \"n_iter\": 193, \"prop\": \"noise\", \"value\": 0.00013276655226945877}, {\"info\": \"likelihood\", \"n_iter\": 194, \"prop\": \"noise\", \"value\": 0.000132104498334229}, {\"info\": \"likelihood\", \"n_iter\": 195, \"prop\": \"noise\", \"value\": 0.00013146523269824684}, {\"info\": \"likelihood\", \"n_iter\": 196, \"prop\": \"noise\", \"value\": 0.00013084796955808997}, {\"info\": \"likelihood\", \"n_iter\": 197, \"prop\": \"noise\", \"value\": 0.00013025144289713353}, {\"info\": \"likelihood\", \"n_iter\": 198, \"prop\": \"noise\", \"value\": 0.0001296750269830227}, {\"info\": \"likelihood\", \"n_iter\": 199, \"prop\": \"noise\", \"value\": 0.00012911786325275898}]}}, {\"mode\": \"vega-lite\"});\n",
       "</script>"
      ],
      "text/plain": [
       "alt.VConcatChart(...)"
      ]
     },
     "execution_count": null,
     "metadata": {},
     "output_type": "execute_result"
    }
   ],
   "source": [
    "l.plot_progress()"
   ]
  },
  {
   "cell_type": "code",
   "execution_count": null,
   "id": "9e20fcd0-f122-49fd-b919-fe4a077ee488",
   "metadata": {},
   "outputs": [],
   "source": [
    "self = l\n",
    "\n",
    "v =[]\n",
    "for info_name in self.model_infos[0].keys(): \n",
    "    values = pd.concat([info[info_name].assign(n_iter=i) for i, info in enumerate(self.model_infos)])\n",
    "    v.append(values)"
   ]
  },
  {
   "cell_type": "code",
   "execution_count": null,
   "id": "462ae4cc-af73-4f0e-9afb-ec40d623fbb4",
   "metadata": {},
   "outputs": [
    {
     "data": {
      "text/plain": [
       "[          z0  n_iter\n",
       " 0   0.746957       0\n",
       " 1   0.404298       0\n",
       " 2   0.050215       0\n",
       " 0   0.646957       1\n",
       " 1   0.504298       1\n",
       " ..       ...     ...\n",
       " 1   2.226480     198\n",
       " 2   2.226368     198\n",
       " 0   2.226924     199\n",
       " 1   2.226828     199\n",
       " 2   2.227455     199\n",
       " \n",
       " [600 rows x 2 columns],\n",
       "    latent  lengthscale  n_iter\n",
       " 0      z0     0.693147       0\n",
       " 0      z0     0.744397       1\n",
       " 0      z0     0.798158       2\n",
       " 0      z0     0.854517       3\n",
       " 0      z0     0.913540       4\n",
       " ..    ...          ...     ...\n",
       " 0      z0     5.539773     195\n",
       " 0      z0     5.541732     196\n",
       " 0      z0     5.540282     197\n",
       " 0      z0     5.537724     198\n",
       " 0      z0     5.537501     199\n",
       " \n",
       " [200 rows x 3 columns],\n",
       "    variable       psi  n_iter\n",
       " 0      None  0.693147       0\n",
       " 1      None  0.693147       0\n",
       " 2      None  0.693147       0\n",
       " 0      None  0.644397       1\n",
       " 1      None  0.644397       1\n",
       " ..      ...       ...     ...\n",
       " 1      None  0.000010     198\n",
       " 2      None  0.000164     198\n",
       " 0      None  0.000600     199\n",
       " 1      None  0.000009     199\n",
       " 2      None  0.000164     199\n",
       " \n",
       " [600 rows x 3 columns],\n",
       "        noise  n_iter\n",
       " 0   0.693247       0\n",
       " 0   0.644497       1\n",
       " 0   0.598178       2\n",
       " 0   0.554247       3\n",
       " 0   0.512663       4\n",
       " ..       ...     ...\n",
       " 0   0.000131     195\n",
       " 0   0.000131     196\n",
       " 0   0.000130     197\n",
       " 0   0.000130     198\n",
       " 0   0.000129     199\n",
       " \n",
       " [200 rows x 2 columns]]"
      ]
     },
     "execution_count": null,
     "metadata": {},
     "output_type": "execute_result"
    }
   ],
   "source": [
    "v"
   ]
  },
  {
   "cell_type": "markdown",
   "id": "36bda355-ac85-441c-9b83-dbb35bf31ba1",
   "metadata": {},
   "source": [
    "## Export"
   ]
  },
  {
   "cell_type": "code",
   "execution_count": null,
   "id": "58580804-365d-447a-9a5e-3463f4846b74",
   "metadata": {},
   "outputs": [],
   "source": [
    "#| hide\n",
    "from nbdev import nbdev_export\n",
    "nbdev_export()"
   ]
  },
  {
   "cell_type": "markdown",
   "id": "24befb58-3f26-4d2c-beaa-0cb4a9e9e676",
   "metadata": {},
   "source": [
    "## Other"
   ]
  },
  {
   "cell_type": "code",
   "execution_count": null,
   "id": "1613c1b2-be6b-4b0c-9833-a2d43a95e0c8",
   "metadata": {},
   "outputs": [],
   "source": [
    "# #| exporti\n",
    "# def get_parameter_value(name, param, constraint):\n",
    "#     if constraint is not None:\n",
    "#         value = constraint.transform(param.data.detach())\n",
    "#         name = name.replace(\"raw_\", \"\") # parameter is not raw anymore\n",
    "#     else:\n",
    "#         value = param.data.detach()\n",
    "#     return (name, value)\n",
    "\n",
    "# name = \"covar_module.psi\"\n",
    "# test_eq(l.model.covar_module.psi.detach(), get_parameter_value(name, l.model.covar_module.raw_psi_diag, l.model.covar_module.raw_psi_diag_constraint)[1])\n",
    "\n",
    "# #| exporti\n",
    "# def tensor_to_first_item(tensor):\n",
    "#     if tensor.dim() > 0:\n",
    "#         return tensor_to_first_item(tensor[0])\n",
    "#     return tensor.item()\n",
    "\n",
    "\n",
    "# def format_parameter(name, value):\n",
    "#     value = tensor_to_first_item(value)\n",
    "#     name = name.split(\".\")[-1] # get only last part of name\n",
    "#     return f\"{name}: {value:.3f}\"\n",
    "\n",
    "# #| export\n",
    "# @patch\n",
    "# def get_formatted_params(self: GPFALearner):\n",
    "#     return \", \".join([\n",
    "#         format_parameter(*get_parameter_value(name, value, constraint))\n",
    "#         for name, value, constraint in\n",
    "#         self.model.named_parameters_and_constraints()\n",
    "#     ])\n",
    "\n",
    "# l.get_formatted_params()\n",
    "\n",
    "# # this is not really working at the moment, but it's not important\n",
    "# @patch\n",
    "# def plot_loss_printer(self: GPFALearner, i_iter):\n",
    "#     if i_iter ==0: return\n",
    "#     x = torch.arange(0, i_iter)\n",
    "#     y = self.losses[:i_iter]\n",
    "#     plot_data = [[x, y]]\n",
    "#     self.pb.update_graph(plot_data)\n",
    "    \n",
    "#     x_bounds = [x.min(), x.max()+1]\n",
    "#     y_bounds = [y.min(), y.max()]\n",
    "#     self.pb.names = [\"Training loss\"]\n",
    "\n",
    "# #|export\n",
    "# @patch\n",
    "# def printer(self: GPFALearner, i_iter):\n",
    "\n",
    "#     if i_iter%10 == 0:\n",
    "#         update_str = f\"loss: {self.losses[i_iter].item():.3f}, \" + self.get_formatted_params()\n",
    "#         #self.plot_loss(i_iter)\n",
    "    \n",
    "#     #self.pb.write(update_str)\n",
    "\n",
    "# l.train(lr = 0.01)\n",
    "\n",
    "# import matplotlib.pyplot as plt\n",
    "\n",
    "# plt.plot(l.losses)"
   ]
  }
 ],
 "metadata": {
  "kernelspec": {
   "display_name": "data_science",
   "language": "python",
   "name": "data_science"
  },
  "widgets": {
   "application/vnd.jupyter.widget-state+json": {
    "state": {},
    "version_major": 2,
    "version_minor": 0
   }
  }
 },
 "nbformat": 4,
 "nbformat_minor": 5
}
