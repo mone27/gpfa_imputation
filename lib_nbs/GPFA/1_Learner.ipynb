{
 "cells": [
  {
   "cell_type": "raw",
   "id": "9e4ef58d",
   "metadata": {
    "pycharm": {
     "name": "#%% raw\n"
    }
   },
   "source": [
    "---\n",
    "description: Utilities to train and visualize a GPFA model\n",
    "output-file: learner.html\n",
    "title: GPFA Learner\n",
    "\n",
    "---\n",
    "\n"
   ]
  },
  {
   "cell_type": "code",
   "execution_count": null,
   "id": "e25b75aa-51b1-4980-97f5-68df5c3eceea",
   "metadata": {
    "pycharm": {
     "name": "#%%\n"
    }
   },
   "outputs": [],
   "source": [
    "%load_ext autoreload\n",
    "%autoreload 2"
   ]
  },
  {
   "cell_type": "code",
   "execution_count": null,
   "id": "2cda543e-9b92-4a60-943a-9e2e3d6a5c24",
   "metadata": {
    "pycharm": {
     "name": "#%%\n"
    }
   },
   "outputs": [],
   "source": [
    "#| hide\n",
    "#| default_exp gpfa.learner"
   ]
  },
  {
   "cell_type": "code",
   "execution_count": null,
   "id": "31ca6d73-c7bc-49af-a142-dbbaf6402c7b",
   "metadata": {
    "pycharm": {
     "name": "#%%\n"
    }
   },
   "outputs": [],
   "source": [
    "from fastcore.test import *"
   ]
  },
  {
   "cell_type": "code",
   "execution_count": null,
   "id": "fe43aefc-a8d5-4a01-8fca-0e5819186d5c",
   "metadata": {
    "pycharm": {
     "name": "#%%\n"
    }
   },
   "outputs": [],
   "source": [
    "#| export\n",
    "import torch\n",
    "from torch import Tensor\n",
    "from torch.distributions import MultivariateNormal \n",
    "\n",
    "import gpytorch\n",
    "from gpfa_imputation.gpfa import *\n",
    "from gpfa_imputation.data_preparation import Normalizer\n",
    "\n",
    "from collections import namedtuple\n",
    "import math\n",
    "\n",
    "from fastcore.foundation import *\n",
    "from tqdm.auto import tqdm\n",
    "from fastcore.foundation import patch\n",
    "\n",
    "import matplotlib.pyplot as plt\n",
    "from pathlib import Path\n",
    "\n",
    "import pandas as pd\n",
    "import numpy as np\n",
    "import altair as alt"
   ]
  },
  {
   "cell_type": "markdown",
   "id": "f48b6e03-df45-4e08-b68a-3674fbf4a13c",
   "metadata": {
    "pycharm": {
     "name": "#%% md\n"
    }
   },
   "source": [
    "The first thing that we need is a Learner object to keep track of:\n",
    "\n",
    "- input data, output data\n",
    "- model\n",
    "- likelihood\n",
    "\n",
    "and that has methods to help with:\n",
    "\n",
    "- training\n",
    "- prediction \n",
    "- visualization"
   ]
  },
  {
   "cell_type": "markdown",
   "id": "a1f18d28-1fb7-496a-a2c5-c959b20be768",
   "metadata": {
    "pycharm": {
     "name": "#%% md\n"
    }
   },
   "source": [
    "The first thing we need is a training loop, just wrap in a function the example one from GPyTorch\n"
   ]
  },
  {
   "cell_type": "markdown",
   "id": "be8ed76b-c01b-475f-9494-10c54d4d0047",
   "metadata": {
    "pycharm": {
     "name": "#%% md\n"
    }
   },
   "source": [
    "## Learner"
   ]
  },
  {
   "cell_type": "code",
   "execution_count": null,
   "id": "9c0bef3a-0b73-4352-8a9e-7291aaae760c",
   "metadata": {
    "pycharm": {
     "name": "#%%\n"
    }
   },
   "outputs": [],
   "source": [
    "#| export\n",
    "class GPFALearner():\n",
    "    def __init__(self,\n",
    "                 X: Tensor, # (n_features * n_obs) Multivariate time series\n",
    "                 T: Tensor = None, # (n_obs) Vector of time of observations.\n",
    "                 # If none each observation are considered to be at the same distance\n",
    "                 latent_dims: int = 1, # Number of latent variables in GPFA\n",
    "                 model = GPFA, # sub-class of `GPFA`\n",
    "                 var_names = None # for model info\n",
    "                ):\n",
    "        self.prepare_X(X)\n",
    "        if T is None: self.default_time(X)\n",
    "        else: self.T = T\n",
    "        self.T = self.T.to(X.device) # to support GPUs\n",
    "        self.latent_dims = latent_dims\n",
    "        self.var_names = var_names\n",
    "        \n",
    "        self.likelihood = gpytorch.likelihoods.GaussianLikelihood()\n",
    "        self.model = model(self.T, self.X, self.likelihood, self.n_features, latent_dims=latent_dims)\n",
    "        \n",
    "    @torch.no_grad()\n",
    "    def prepare_X(self, X):\n",
    "        self.norm = Normalizer(X)\n",
    "        X = self.norm.normalize(X)\n",
    "        # flatten Matrix to vector\n",
    "        self.X = X.reshape(-1) \n",
    "        self.n_features = X.shape[1]\n",
    "        \n",
    "    def default_time(self, X):\n",
    "        self.T = torch.arange(X.shape[0])\n",
    "        \n",
    "    \n",
    "    def train(self, n_iter=100, lr=0.1):\n",
    "        # need to enable training mode\n",
    "        self.model.train()\n",
    "        self.likelihood.train()\n",
    "        \n",
    "        # Use the adam optimizer\n",
    "        optimizer = torch.optim.Adam(self.model.parameters(), lr=lr) \n",
    "        \n",
    "        if not hasattr(self, 'losses'):\n",
    "            self.losses = torch.zeros(n_iter)\n",
    "            self.model_infos = [None for _ in range(n_iter)] # put one element so it can be indexed from 0\n",
    "            offset = 0\n",
    "        else:\n",
    "            offset = self.losses.shape[0]\n",
    "            self.losses = torch.concat([self.losses, torch.zeros(n_iter)])\n",
    "            self.model_infos.extend([None for _ in range(n_iter)])\n",
    "            \n",
    "        \n",
    "        # \"Loss\" for GPs - the marginal log likelihood\n",
    "        mll = gpytorch.mlls.ExactMarginalLogLikelihood(self.likelihood, self.model)\n",
    "        for i in tqdm(range(n_iter)):\n",
    "            # Zero gradients from previous iteration\n",
    "            optimizer.zero_grad()\n",
    "            # Output from model\n",
    "            output = self.model(self.T)\n",
    "            # Calc loss and backprop gradients\n",
    "            loss = -mll(output, self.X)\n",
    "            self.losses[i + offset] = loss.detach()\n",
    "            loss.backward()\n",
    "            self.model_infos[i + offset] = self.model.get_info(self.var_names)\n",
    "\n",
    "            optimizer.step()\n",
    "        "
   ]
  },
  {
   "cell_type": "code",
   "execution_count": null,
   "id": "9105fe73-aa6d-4232-a1f3-24e8276a008d",
   "metadata": {
    "pycharm": {
     "name": "#%%\n"
    }
   },
   "outputs": [],
   "source": [
    "# test data\n",
    "T = torch.arange(0,6)\n",
    "\n",
    "X = torch.vstack([(torch.arange(0,3, dtype=torch.float32) + 2 + i) * i for i in T]) "
   ]
  },
  {
   "cell_type": "code",
   "execution_count": null,
   "id": "90ae1f7d-510d-4b69-88c5-a797bb5c2fd2",
   "metadata": {
    "pycharm": {
     "name": "#%%\n"
    }
   },
   "outputs": [
    {
     "data": {
      "text/plain": [
       "tensor([[ 0.,  0.,  0.],\n",
       "        [ 3.,  4.,  5.],\n",
       "        [ 8., 10., 12.],\n",
       "        [15., 18., 21.],\n",
       "        [24., 28., 32.],\n",
       "        [35., 40., 45.]])"
      ]
     },
     "execution_count": null,
     "metadata": {},
     "output_type": "execute_result"
    }
   ],
   "source": [
    "X"
   ]
  },
  {
   "cell_type": "code",
   "execution_count": null,
   "id": "a63fd700-c0af-4ad4-8e52-4c5d6a339212",
   "metadata": {
    "pycharm": {
     "name": "#%%\n"
    }
   },
   "outputs": [],
   "source": [
    "# l for learner\n",
    "l = GPFALearner(X)"
   ]
  },
  {
   "cell_type": "code",
   "execution_count": null,
   "id": "57c9acea-2c30-42c7-9a66-10535dbf21f5",
   "metadata": {
    "pycharm": {
     "name": "#%%\n"
    }
   },
   "outputs": [],
   "source": [
    "test_eq(T, l.T)"
   ]
  },
  {
   "cell_type": "code",
   "execution_count": null,
   "id": "d31067ba-ff73-4e57-be57-f5d34efdef19",
   "metadata": {
    "pycharm": {
     "name": "#%%\n"
    }
   },
   "outputs": [],
   "source": [
    "# with explicit time\n",
    "test_eq(T, GPFALearner(X, T).T)"
   ]
  },
  {
   "cell_type": "code",
   "execution_count": null,
   "id": "b198aad5-7fc9-4665-8823-a28d42a74ec6",
   "metadata": {
    "pycharm": {
     "name": "#%%\n"
    }
   },
   "outputs": [],
   "source": [
    "test_eq(l.n_features, 3)"
   ]
  },
  {
   "cell_type": "code",
   "execution_count": null,
   "id": "04726f27-5861-4f00-881d-f15935e05f8a",
   "metadata": {
    "pycharm": {
     "name": "#%%\n"
    }
   },
   "outputs": [
    {
     "data": {
      "text/plain": [
       "tensor([-1.0590, -1.0955, -1.1236, -0.8347, -0.8326, -0.8305, -0.4610, -0.4382,\n",
       "        -0.4201,  0.0623,  0.0876,  0.1075,  0.7350,  0.7449,  0.7523,  1.5573,\n",
       "         1.5337,  1.5145])"
      ]
     },
     "execution_count": null,
     "metadata": {},
     "output_type": "execute_result"
    }
   ],
   "source": [
    "l.X"
   ]
  },
  {
   "cell_type": "code",
   "execution_count": null,
   "id": "69a69e95-19a1-405e-9998-d97920b5dc44",
   "metadata": {
    "pycharm": {
     "name": "#%%\n"
    }
   },
   "outputs": [
    {
     "data": {
      "application/vnd.jupyter.widget-view+json": {
       "model_id": "3e899e4f39304718914c65ef7fe9470f",
       "version_major": 2,
       "version_minor": 0
      },
      "text/plain": [
       "  0%|          | 0/100 [00:00<?, ?it/s]"
      ]
     },
     "metadata": {},
     "output_type": "display_data"
    },
    {
     "name": "stderr",
     "output_type": "stream",
     "text": [
      "/home/simone/anaconda3/envs/data-science/lib/python3.10/site-packages/gpytorch/lazy/triangular_lazy_tensor.py:136: UserWarning: torch.triangular_solve is deprecated in favor of torch.linalg.solve_triangularand will be removed in a future PyTorch release.\n",
      "torch.linalg.solve_triangular has its arguments reversed and does not return a copy of one of the inputs.\n",
      "X = torch.triangular_solve(B, A).solution\n",
      "should be replaced with\n",
      "X = torch.linalg.solve_triangular(A, B). (Triggered internally at  ../aten/src/ATen/native/BatchLinearAlgebra.cpp:2183.)\n",
      "  res = torch.triangular_solve(right_tensor, self.evaluate(), upper=self.upper).solution\n",
      "/home/simone/anaconda3/envs/data-science/lib/python3.10/site-packages/torch/autograd/__init__.py:173: UserWarning: operator() profile_node %840 : int[] = prim::profile_ivalue(%838)\n",
      " does not have profile information (Triggered internally at  ../torch/csrc/jit/codegen/cuda/graph_fuser.cpp:104.)\n",
      "  Variable._execution_engine.run_backward(  # Calls into the C++ engine to run the backward pass\n"
     ]
    }
   ],
   "source": [
    "l.train()"
   ]
  },
  {
   "cell_type": "markdown",
   "id": "9b0a3650-2aac-4528-8561-26b816bff905",
   "metadata": {
    "pycharm": {
     "name": "#%% md\n"
    }
   },
   "source": [
    "check that can train for more than once"
   ]
  },
  {
   "cell_type": "code",
   "execution_count": null,
   "id": "e2422c92-3055-4f62-919e-ea1e18a7f2e8",
   "metadata": {
    "pycharm": {
     "name": "#%%\n"
    }
   },
   "outputs": [
    {
     "data": {
      "application/vnd.jupyter.widget-view+json": {
       "model_id": "7b5753901d5c407bb12c9cbfa2e16b1e",
       "version_major": 2,
       "version_minor": 0
      },
      "text/plain": [
       "  0%|          | 0/100 [00:00<?, ?it/s]"
      ]
     },
     "metadata": {},
     "output_type": "display_data"
    }
   ],
   "source": [
    "l.train()"
   ]
  },
  {
   "cell_type": "code",
   "execution_count": null,
   "id": "66b38db4-2eba-4009-b272-d6054980262b",
   "metadata": {
    "pycharm": {
     "name": "#%%\n"
    }
   },
   "outputs": [
    {
     "data": {
      "text/plain": [
       "tensor([ 1.3296,  1.2945,  1.2630,  1.2317,  1.1983,  1.1633,  1.1273,  1.0915,\n",
       "         1.0561,  1.0198,  0.9821,  0.9435,  0.9047,  0.8661,  0.8274,  0.7877,\n",
       "         0.7471,  0.7068,  0.6666,  0.6257,  0.5840,  0.5424,  0.5011,  0.4592,\n",
       "         0.4168,  0.3747,  0.3328,  0.2903,  0.2478,  0.2058,  0.1632,  0.1208,\n",
       "         0.0787,  0.0362, -0.0059, -0.0480, -0.0902, -0.1319, -0.1740, -0.2154,\n",
       "        -0.2572, -0.2983, -0.3392, -0.3799, -0.4211, -0.4619, -0.5016, -0.5415,\n",
       "        -0.5816, -0.6208, -0.6600, -0.6988, -0.7369, -0.7744, -0.8126, -0.8503,\n",
       "        -0.8857, -0.9197, -0.9565, -0.9942, -1.0264, -1.0582, -1.0942, -1.1273,\n",
       "        -1.1544, -1.1754, -1.2033, -1.2374, -1.2625, -1.2955, -1.3143, -1.3451,\n",
       "        -1.3672, -1.3847, -1.4156, -1.4248, -1.4469, -1.4715, -1.4763, -1.4943,\n",
       "        -1.5117, -1.5084, -1.5107, -1.5298, -1.5394, -1.5553, -1.5611, -1.5556,\n",
       "        -1.5822, -1.5848, -1.5757, -1.5974, -1.5959, -1.5997, -1.6132, -1.6039,\n",
       "        -1.6129, -1.6179, -1.6158, -1.6293, -1.6285,  0.1917, -1.5204, -1.2648,\n",
       "        -0.6628, -0.9405, -1.4350, -1.6218, -1.4769, -1.2650, -1.2038, -1.3100,\n",
       "        -1.4713, -1.5763, -1.5778, -1.5071, -1.4330, -1.4128, -1.4546, -1.5237,\n",
       "        -1.5767, -1.5884, -1.5644, -1.5310, -1.5164, -1.5322, -1.5678, -1.6008,\n",
       "        -1.6139, -1.6054, -1.5900, -1.5842, -1.5947, -1.6160, -1.6348, -1.6384,\n",
       "        -1.6304, -1.6230, -1.6268, -1.6393, -1.6516, -1.6559, -1.6522, -1.6476,\n",
       "        -1.6516, -1.6607, -1.6683, -1.6683, -1.6663, -1.6671, -1.6728, -1.6798,\n",
       "        -1.6823, -1.6815, -1.6818, -1.6862, -1.6910, -1.6927, -1.6924, -1.6934,\n",
       "        -1.6969, -1.6997, -1.7004, -1.7005, -1.7014, -1.7046, -1.7057, -1.7060,\n",
       "        -1.7069, -1.7081, -1.7101, -1.7114, -1.7111, -1.7121, -1.7137, -1.7143,\n",
       "        -1.7146, -1.7153, -1.7165, -1.7165, -1.7165, -1.7176, -1.7183, -1.7185,\n",
       "        -1.7185, -1.7195, -1.7197, -1.7202, -1.7204, -1.7209, -1.7210, -1.7213,\n",
       "        -1.7217, -1.7222, -1.7219, -1.7221, -1.7227, -1.7231, -1.7233, -1.7232])"
      ]
     },
     "execution_count": null,
     "metadata": {},
     "output_type": "execute_result"
    }
   ],
   "source": [
    "l.losses"
   ]
  },
  {
   "cell_type": "markdown",
   "id": "ae9ca87d-5a28-444c-b75a-5943ce8979f7",
   "metadata": {
    "pycharm": {
     "name": "#%% md\n"
    }
   },
   "source": [
    "## Predictions\n",
    "\n",
    "add a function to get predictions from the model"
   ]
  },
  {
   "cell_type": "code",
   "execution_count": null,
   "id": "681f4ef6-9f6b-44d9-877b-1095b222bc88",
   "metadata": {
    "pycharm": {
     "name": "#%%\n"
    }
   },
   "outputs": [],
   "source": [
    "#| export\n",
    "@torch.no_grad() # don't calc gradients on predictions\n",
    "@patch()\n",
    "def predict_raw(self: GPFALearner, T):\n",
    "    self.model.eval()\n",
    "    self.likelihood.eval()\n",
    "    return self.likelihood(self.model(T))"
   ]
  },
  {
   "cell_type": "code",
   "execution_count": null,
   "id": "57ed0643-1ce3-40ac-bb5b-59534c2c6c70",
   "metadata": {
    "pycharm": {
     "name": "#%%\n"
    }
   },
   "outputs": [
    {
     "name": "stderr",
     "output_type": "stream",
     "text": [
      "/home/simone/anaconda3/envs/data-science/lib/python3.10/site-packages/gpytorch/models/exact_gp.py:273: GPInputWarning: The input matches the stored training data. Did you forget to call model.train()?\n",
      "  warnings.warn(\n"
     ]
    },
    {
     "data": {
      "text/plain": [
       "MultivariateNormal(loc: torch.Size([18]))"
      ]
     },
     "execution_count": null,
     "metadata": {},
     "output_type": "execute_result"
    }
   ],
   "source": [
    "raw_out = l.predict_raw(T)\n",
    "raw_out"
   ]
  },
  {
   "cell_type": "markdown",
   "id": "d14e256c-f331-4508-9ace-d1b161528fd7",
   "metadata": {
    "pycharm": {
     "name": "#%% md\n"
    }
   },
   "source": [
    "the model prediction is a distribution with `len(T)*n_features` dimensions"
   ]
  },
  {
   "cell_type": "markdown",
   "id": "30a050f2-0aa0-4e0a-8fb7-869397feadc9",
   "metadata": {
    "pycharm": {
     "name": "#%% md\n"
    }
   },
   "source": [
    "which is in the in the wrong shape and need to be rescaled after the normalization"
   ]
  },
  {
   "cell_type": "markdown",
   "id": "2540a9d5-7fab-4722-bb71-8356f01d69cd",
   "metadata": {
    "pycharm": {
     "name": "#%% md\n"
    }
   },
   "source": [
    "Also we don't need th full distribution but only the mean and stddev for each variable at every time step\n",
    "\n",
    "And we can \"fix\" the shape by transforming back to a matrix"
   ]
  },
  {
   "cell_type": "code",
   "execution_count": null,
   "id": "5ebaf0b9-1f07-4bc4-8719-a0c7047e203e",
   "metadata": {
    "pycharm": {
     "name": "#%%\n"
    }
   },
   "outputs": [],
   "source": [
    "raw_stddev = raw_out.stddev.reshape(-1, l.n_features)\n",
    "raw_mean = raw_out.mean.reshape(-1, l.n_features)"
   ]
  },
  {
   "cell_type": "code",
   "execution_count": null,
   "id": "a07d9468-642a-4c7e-b40f-203680003159",
   "metadata": {
    "pycharm": {
     "name": "#%%\n"
    }
   },
   "outputs": [
    {
     "data": {
      "text/plain": [
       "tensor([[0.0277, 0.0138, 0.0198],\n",
       "        [0.0272, 0.0128, 0.0191],\n",
       "        [0.0270, 0.0125, 0.0189],\n",
       "        [0.0270, 0.0125, 0.0189],\n",
       "        [0.0272, 0.0128, 0.0191],\n",
       "        [0.0277, 0.0138, 0.0198]], grad_fn=<ReshapeAliasBackward0>)"
      ]
     },
     "execution_count": null,
     "metadata": {},
     "output_type": "execute_result"
    }
   ],
   "source": [
    "raw_stddev"
   ]
  },
  {
   "cell_type": "code",
   "execution_count": null,
   "id": "47b23a4c-2da7-4bda-887c-29ef751600b6",
   "metadata": {
    "pycharm": {
     "name": "#%%\n"
    }
   },
   "outputs": [],
   "source": [
    "#| export\n",
    "NormParam = namedtuple(\"NormalParameters\", [\"mean\", \"std\"])"
   ]
  },
  {
   "cell_type": "markdown",
   "id": "9426d969-63e0-4a38-a020-eb17701b1364",
   "metadata": {
    "pycharm": {
     "name": "#%% md\n"
    }
   },
   "source": [
    "This function transforms the raw output of the Gaussian Process (`p(X)`) into a prediction that can be used.\n",
    "need to do two things:\n",
    "\n",
    "- take mean and stddev (this is the diagonal of the covariance matrix) for each variable\n",
    "- reshape so that each row is a time step and each column a variable\n",
    "- reverse the normalization\n",
    "\n",
    "the mean and the std are passed individually because in the conditional predictions is not possible to have the whole covariance matrix (and thus a MultiNormal) but the mean and stddev are enough."
   ]
  },
  {
   "cell_type": "code",
   "execution_count": null,
   "id": "95c88c0d-5844-485c-8287-7411e351ece0",
   "metadata": {
    "pycharm": {
     "name": "#%%\n"
    }
   },
   "outputs": [],
   "source": [
    "#|export\n",
    "@torch.no_grad() # needed because raw output still has gradients attached\n",
    "@patch\n",
    "def prediction_from_raw(self: GPFALearner, raw_mean, raw_std):\n",
    "    \"\"\" Takes a raw prediction and produces and final prediction, by reshaping and reversing normalization\"\"\"\n",
    "    raw_std = raw_std.reshape(-1, self.n_features)\n",
    "    raw_mean = raw_mean.reshape(-1, self.n_features)\n",
    "    \n",
    "    pred_mean = self.norm.reverse_normalize(raw_mean)\n",
    "    pred_std = self.norm.reverse_normalize_std(raw_std)\n",
    "    \n",
    "    #remove pytorch gradients\n",
    "    return NormParam(pred_mean.detach(), pred_std.detach())"
   ]
  },
  {
   "cell_type": "code",
   "execution_count": null,
   "id": "da3af212-6cd8-4e60-8648-7562469bb7b9",
   "metadata": {
    "pycharm": {
     "name": "#%%\n"
    }
   },
   "outputs": [],
   "source": [
    "# TODO document this function better"
   ]
  },
  {
   "cell_type": "code",
   "execution_count": null,
   "id": "7d04c2f8-7d02-4ada-8b4b-d98cf29d9b3b",
   "metadata": {
    "pycharm": {
     "name": "#%%\n"
    }
   },
   "outputs": [],
   "source": [
    "@patch\n",
    "def predict(self: GPFALearner, T):\n",
    "    pred_raw = self.predict_raw(T)\n",
    "    return self.prediction_from_raw(pred_raw.mean, pred_raw.stddev)"
   ]
  },
  {
   "cell_type": "code",
   "execution_count": null,
   "id": "46eea5e6-89a6-4a71-bf56-e8fce29eab54",
   "metadata": {
    "pycharm": {
     "name": "#%%\n"
    }
   },
   "outputs": [
    {
     "data": {
      "text/plain": [
       "NormalParameters(mean=tensor([[-0.5299, -0.0512,  0.4296],\n",
       "        [ 3.0692,  4.0439,  5.0183],\n",
       "        [ 8.2873,  9.9780, 11.6701],\n",
       "        [15.3390, 17.9992, 20.6602],\n",
       "        [24.2186, 28.1023, 31.9813],\n",
       "        [34.6174, 39.9281, 45.2374]]), std=tensor([[0.3701, 0.2104, 0.3373],\n",
       "        [0.3641, 0.1952, 0.3262],\n",
       "        [0.3613, 0.1894, 0.3222],\n",
       "        [0.3617, 0.1897, 0.3217],\n",
       "        [0.3638, 0.1954, 0.3260],\n",
       "        [0.3701, 0.2099, 0.3373]]))"
      ]
     },
     "execution_count": null,
     "metadata": {},
     "output_type": "execute_result"
    }
   ],
   "source": [
    "l.predict(T)"
   ]
  },
  {
   "cell_type": "code",
   "execution_count": null,
   "id": "c0784d70-8220-4372-99e9-485647e68c29",
   "metadata": {
    "pycharm": {
     "name": "#%%\n"
    }
   },
   "outputs": [],
   "source": [
    "pred = l.predict(T)"
   ]
  },
  {
   "cell_type": "code",
   "execution_count": null,
   "id": "e977b09d-703f-4152-ad05-78273a6d750e",
   "metadata": {
    "pycharm": {
     "name": "#%%\n"
    }
   },
   "outputs": [
    {
     "data": {
      "text/plain": [
       "torch.Size([6, 3])"
      ]
     },
     "execution_count": null,
     "metadata": {},
     "output_type": "execute_result"
    }
   ],
   "source": [
    "pred.mean.shape"
   ]
  },
  {
   "cell_type": "code",
   "execution_count": null,
   "id": "01055e42-da8f-481d-9f62-2f8e83987adb",
   "metadata": {
    "pycharm": {
     "name": "#%%\n"
    }
   },
   "outputs": [
    {
     "data": {
      "text/plain": [
       "torch.Size([6, 3])"
      ]
     },
     "execution_count": null,
     "metadata": {},
     "output_type": "execute_result"
    }
   ],
   "source": [
    "pred.std.shape"
   ]
  },
  {
   "cell_type": "markdown",
   "id": "0965c418-ca0f-40d9-a53a-fecb5fd3bb68",
   "metadata": {
    "pycharm": {
     "name": "#%% md\n"
    }
   },
   "source": [
    "### Check learning is working"
   ]
  },
  {
   "cell_type": "markdown",
   "id": "cb33da4a-ca64-489d-bddc-eff1bdef3dbc",
   "metadata": {
    "pycharm": {
     "name": "#%% md\n"
    }
   },
   "source": [
    "The idea is to use the current model to generate a dataset, that can be for sure modelled using a GPFA (because is the output of GPFA) and then train another model and see if the parameters converge"
   ]
  },
  {
   "cell_type": "code",
   "execution_count": null,
   "id": "a7530f0b-ba2c-409b-ac15-04dde1ec9213",
   "metadata": {
    "pycharm": {
     "name": "#%%\n"
    }
   },
   "outputs": [],
   "source": [
    "# create a dummy GPFA with 3 features\n",
    "Lt = GPFALearner(X)"
   ]
  },
  {
   "cell_type": "code",
   "execution_count": null,
   "id": "919c72f6-6073-4451-ac94-becc940978e1",
   "metadata": {
    "pycharm": {
     "name": "#%%\n"
    }
   },
   "outputs": [],
   "source": [
    "test_params = {\n",
    "   \"Lambda\": torch.tensor([-1, 0.3, .8]).reshape(Lt.n_features, -1),\n",
    "   \"psi\": torch.tensor([1e-5, 5e-5, 2e-5]),\n",
    "}"
   ]
  },
  {
   "cell_type": "code",
   "execution_count": null,
   "id": "75348565-ae93-442e-926e-882619bf3c06",
   "metadata": {
    "pycharm": {
     "name": "#%%\n"
    }
   },
   "outputs": [
    {
     "data": {
      "text/plain": [
       "GPFAKernel(\n",
       "  (latent_kernels): ModuleList(\n",
       "    (0): RBFKernel(\n",
       "      (raw_lengthscale_constraint): Positive()\n",
       "    )\n",
       "  )\n",
       "  (raw_psi_diag_constraint): Positive()\n",
       ")"
      ]
     },
     "execution_count": null,
     "metadata": {},
     "output_type": "execute_result"
    }
   ],
   "source": [
    "Lt.model.covar_module.initialize(**test_params)"
   ]
  },
  {
   "cell_type": "code",
   "execution_count": null,
   "id": "c2b175f2-ef55-4240-8ccb-87adfbb67de6",
   "metadata": {
    "pycharm": {
     "name": "#%%\n"
    }
   },
   "outputs": [
    {
     "data": {
      "text/plain": [
       "RBFKernel(\n",
       "  (raw_lengthscale_constraint): Positive()\n",
       ")"
      ]
     },
     "execution_count": null,
     "metadata": {},
     "output_type": "execute_result"
    }
   ],
   "source": [
    "Lt.model.covar_module.latent_kernels[0].initialize(lengthscale = torch.tensor(5))"
   ]
  },
  {
   "cell_type": "code",
   "execution_count": null,
   "id": "0fa81d68-083b-4904-b54f-2768078945d8",
   "metadata": {
    "pycharm": {
     "name": "#%%\n"
    }
   },
   "outputs": [],
   "source": [
    "target_X = Lt.predict(T).mean"
   ]
  },
  {
   "cell_type": "code",
   "execution_count": null,
   "id": "5665123d-a870-42f2-8f19-a82caae617da",
   "metadata": {
    "pycharm": {
     "name": "#%%\n"
    }
   },
   "outputs": [],
   "source": [
    "l2 = GPFALearner(target_X)"
   ]
  },
  {
   "cell_type": "code",
   "execution_count": null,
   "id": "8fba72dc-5a1a-4955-826c-88d574196996",
   "metadata": {
    "pycharm": {
     "name": "#%%\n"
    }
   },
   "outputs": [
    {
     "data": {
      "application/vnd.jupyter.widget-view+json": {
       "model_id": "5d56b4392469422fb2094d092e752707",
       "version_major": 2,
       "version_minor": 0
      },
      "text/plain": [
       "  0%|          | 0/100 [00:00<?, ?it/s]"
      ]
     },
     "metadata": {},
     "output_type": "display_data"
    }
   ],
   "source": [
    "l2.train()"
   ]
  },
  {
   "cell_type": "code",
   "execution_count": null,
   "id": "18af534f-0c2b-4024-bd28-61ca0c3ac004",
   "metadata": {
    "pycharm": {
     "name": "#%%\n"
    }
   },
   "outputs": [
    {
     "name": "stderr",
     "output_type": "stream",
     "text": [
      "/home/simone/anaconda3/envs/data-science/lib/python3.10/site-packages/gpytorch/models/exact_gp.py:273: GPInputWarning: The input matches the stored training data. Did you forget to call model.train()?\n",
      "  warnings.warn(\n"
     ]
    },
    {
     "data": {
      "text/plain": [
       "tensor([[ 0.0061,  0.0011,  0.0029],\n",
       "        [ 0.0035,  0.0008,  0.0022],\n",
       "        [ 0.0011,  0.0003,  0.0007],\n",
       "        [-0.0012, -0.0003, -0.0009],\n",
       "        [-0.0037, -0.0008, -0.0021],\n",
       "        [-0.0060, -0.0010, -0.0028]])"
      ]
     },
     "execution_count": null,
     "metadata": {},
     "output_type": "execute_result"
    }
   ],
   "source": [
    "l2.predict(T).mean - target_X"
   ]
  },
  {
   "cell_type": "markdown",
   "id": "2e62c4f0-39e9-4f57-bcc8-3bbdda35b175",
   "metadata": {
    "pycharm": {
     "name": "#%% md\n"
    }
   },
   "source": [
    "they seems pretty small numbers, so the model is working! "
   ]
  },
  {
   "cell_type": "code",
   "execution_count": null,
   "id": "cd9aab33-6ea7-4c07-8de1-50c136763970",
   "metadata": {
    "pycharm": {
     "name": "#%%\n"
    }
   },
   "outputs": [
    {
     "name": "stdout",
     "output_type": "stream",
     "text": [
      "Lambda:\n",
      " tensor([[-1.6125],\n",
      "        [ 1.5892],\n",
      "        [ 1.5900]])\n",
      "psi:  tensor([3.9927e-05, 4.5339e-05, 4.5291e-05])\n",
      "lengthscale: 5.491497039794922\n"
     ]
    }
   ],
   "source": [
    "print(\"Lambda:\\n\", l2.model.covar_module.Lambda.detach())\n",
    "\n",
    "print(\"psi: \", l2.model.covar_module.psi.detach())\n",
    "\n",
    "print(\"lengthscale:\", l2.model.covar_module.latent_kernels[0].lengthscale.item())"
   ]
  },
  {
   "cell_type": "markdown",
   "id": "a993e091-eb29-42a7-8c8e-3050b6189d92",
   "metadata": {
    "pycharm": {
     "name": "#%% md\n"
    }
   },
   "source": [
    "### Conditional Predictions"
   ]
  },
  {
   "cell_type": "markdown",
   "id": "ba4e3b7f-95e1-4624-958b-082abc5f4593",
   "metadata": {
    "pycharm": {
     "name": "#%% md\n"
    }
   },
   "source": [
    "This add the supports for conditional predictions, which means that at the time (t) when we are making the predictions some of the variables have been actually observed. Since the model prediction is a normal distribution we can condition on the observed values and thus improve the predictions."
   ]
  },
  {
   "cell_type": "markdown",
   "id": "cf8b5f7f-2541-4750-8740-3bf244d88ced",
   "metadata": {
    "pycharm": {
     "name": "#%% md\n"
    }
   },
   "source": [
    "Therefore we need to compute the conditional distribution of a normal ^[https://cs.nyu.edu/~roweis/notes/gaussid.pdf eq, 5a, 5d]\n",
    "\n",
    "$$ X = \\left[\\begin{array}{c} x \\\\ o \\end{array} \\right] $$\n",
    "\n",
    "$$ p(X) = N\\left(\\left[ \\begin{array}{c} \\mu_x \\\\ \\mu_o \\end{array} \\right], \\left[\\begin{array}{cc} \\Sigma_{xx} & \\Sigma_{xo} \\\\ \\Sigma_{ox} & \\Sigma_{oo} \\end{array} \\right]\\right)$$\n",
    "\n",
    "where $X$ is a vector of variable that need to predicted and $o$ is a vector of the variables that have been observed\n",
    "\n",
    "The mean is in \"flat format\", where all the features from one time step are next to each other followed by the features of the next time step.\n",
    "\n",
    "then \n",
    "\n",
    "$$p(x|o) = N(\\mu_x + \\Sigma_{xo}\\Sigma_{oo}^{-1}(o - \\mu_o), \\Sigma_{xx} - \\Sigma_{xo}\\Sigma_{oo}^{-1}\\Sigma_{ox})$$"
   ]
  },
  {
   "cell_type": "code",
   "execution_count": null,
   "id": "2cd1908b-6c88-48e0-b555-2d36d4a04fff",
   "metadata": {
    "pycharm": {
     "name": "#%%\n"
    }
   },
   "outputs": [],
   "source": [
    "#|exporti\n",
    "def conditional_guassian(gauss: MultivariateNormal,\n",
    "                         obs,\n",
    "                         idx # Boolean tensor specifying for each variable is observed (True) or not (False)\n",
    "                        ):\n",
    "    μ = gauss.mean\n",
    "    Σ = gauss.covariance_matrix\n",
    "    # check idx same size of mu\n",
    "    μ_x = μ[~idx]\n",
    "    μ_o = μ[idx]\n",
    "    \n",
    "    Σ_xx = Σ[~idx,:][:, ~idx]\n",
    "    Σ_xo = Σ[~idx,:][:, idx]\n",
    "    Σ_ox = Σ[idx,:][:, ~idx]\n",
    "    Σ_oo = Σ[idx,:][:, idx]\n",
    "    \n",
    "    Σ_oo_inv = torch.linalg.inv(Σ_oo)\n",
    "    \n",
    "    mean = μ_x + Σ_xo@Σ_oo_inv@(obs - μ_o)\n",
    "    cov = Σ_xx - Σ_xo@Σ_oo_inv@Σ_ox\n",
    "    \n",
    "    return MultivariateNormal(mean, cov)\n",
    "    "
   ]
  },
  {
   "cell_type": "code",
   "execution_count": null,
   "id": "19daec27-87a1-4ba7-92dc-b9236c08f579",
   "metadata": {
    "pycharm": {
     "name": "#%%\n"
    }
   },
   "outputs": [],
   "source": [
    "# example distribution with only 2 variables\n",
    "μ = torch.tensor([.5, 1.])\n",
    "Σ = torch.tensor([[1., .5], [.5 ,1.]])\n",
    "\n",
    "gauss = MultivariateNormal(μ, Σ)\n",
    "\n",
    "idx = torch.tensor([True, False]) # second variable is the observed one\n",
    "\n",
    "obs = torch.tensor(5.) # value of second variable\n",
    "\n",
    "gauss_cond = conditional_guassian(gauss, obs, idx)\n",
    "\n",
    "# hardcoded values to test that the code is working, see also for alternative implementation https://python.quantecon.org/multivariate_normal.html\n",
    "test_close(3.25, gauss_cond.mean.item())\n",
    "test_close(.75, gauss_cond.covariance_matrix.item())"
   ]
  },
  {
   "cell_type": "markdown",
   "id": "c4d34213-7009-4609-b27e-c7afccf62c9a",
   "metadata": {
    "pycharm": {
     "name": "#%% md\n"
    }
   },
   "source": [
    "Test with multiple variables?"
   ]
  },
  {
   "cell_type": "markdown",
   "id": "7b744875-96dc-44a9-b5fe-11d49711169f",
   "metadata": {
    "pycharm": {
     "name": "#%% md\n"
    }
   },
   "source": [
    "overwrite the predict method to add support for conditional predictions"
   ]
  },
  {
   "cell_type": "markdown",
   "id": "7d2597e5-07a8-48bc-a7db-1db22ad62f65",
   "metadata": {
    "pycharm": {
     "name": "#%% md\n"
    }
   },
   "source": [
    "Need to have the mean and std for both the conditional predictions and the observations, with the same shape and order of the complete prediction. "
   ]
  },
  {
   "cell_type": "code",
   "execution_count": null,
   "id": "8e861ab7-d218-4981-bbbd-cf89da85b679",
   "metadata": {
    "pycharm": {
     "name": "#%%\n"
    }
   },
   "outputs": [],
   "source": [
    "#|exporti\n",
    "def _merge_raw_cond_pred(pred_raw,\n",
    "                         pred_cond,\n",
    "                         obs,\n",
    "                         idx\n",
    "                        ) -> NormParam:\n",
    "    \"\"\"This functions merges a complete predition with a conditional prediction and the observations.\n",
    "    For the observations the std is considered to be 0 \"\"\"\n",
    "    mean = torch.zeros_like(pred_raw.mean) # get shape from complete prediction\n",
    "    mean[~idx] = pred_cond.mean # add predictions\n",
    "    mean[idx] = obs # add observations\n",
    "    \n",
    "    std = torch.zeros_like(pred_raw.stddev)\n",
    "    std[~idx] = pred_cond.stddev\n",
    "    std[idx] = 0 # uncertainty of an oberservation doesn't make sense\n",
    "    \n",
    "    return NormParam(mean, std)"
   ]
  },
  {
   "cell_type": "code",
   "execution_count": null,
   "id": "96025e7d-884f-487c-af6b-cdb0a407a5a5",
   "metadata": {
    "pycharm": {
     "name": "#%%\n"
    }
   },
   "outputs": [
    {
     "data": {
      "text/plain": [
       "tensor([[0.7500]])"
      ]
     },
     "execution_count": null,
     "metadata": {},
     "output_type": "execute_result"
    }
   ],
   "source": [
    "gauss_cond.covariance_matrix"
   ]
  },
  {
   "cell_type": "code",
   "execution_count": null,
   "id": "3d21aecd-c9f0-4fff-8d63-9b5b4a858b5b",
   "metadata": {
    "pycharm": {
     "name": "#%%\n"
    }
   },
   "outputs": [
    {
     "data": {
      "text/plain": [
       "NormalParameters(mean=tensor([5.0000, 3.2500]), std=tensor([0.0000, 0.8660]))"
      ]
     },
     "execution_count": null,
     "metadata": {},
     "output_type": "execute_result"
    }
   ],
   "source": [
    "merge_pred = _merge_raw_cond_pred(gauss, gauss_cond, obs, idx)\n",
    "merge_pred"
   ]
  },
  {
   "cell_type": "code",
   "execution_count": null,
   "id": "c0d8eb3f-0753-47fc-88eb-a8771f68a7f3",
   "metadata": {
    "pycharm": {
     "name": "#%%\n"
    }
   },
   "outputs": [],
   "source": [
    "# manually calculated\n",
    "test_close(merge_pred.mean, torch.tensor([5., 3.25]))\n",
    "test_close(merge_pred.std, torch.tensor([0., math.sqrt(.75)]))"
   ]
  },
  {
   "cell_type": "markdown",
   "id": "1684b1e5-1d80-4657-b95f-cb1a1d020547",
   "metadata": {
    "pycharm": {
     "name": "#%% md\n"
    }
   },
   "source": [
    "The problem is that the mean and the std for normalization are different for each feature, so in order to have the normalization working it is necessary to give the observations as a 2D array and not like a 1D array (like required by the model)"
   ]
  },
  {
   "cell_type": "code",
   "execution_count": null,
   "id": "9802e75a-af1e-4331-9d46-9d4da85d57a7",
   "metadata": {
    "pycharm": {
     "name": "#%%\n"
    }
   },
   "outputs": [],
   "source": [
    "#|export\n",
    "@patch\n",
    "def _normalize_obs(self: GPFALearner,\n",
    "                   obs, # (n_obs)\n",
    "                   idx\n",
    "                  ) -> Tensor: # (n_obs)\n",
    "    \"\"\" reshape the observations so they can normalized\"\"\"\n",
    "    obs_compl = torch.zeros_like(idx, dtype=obs.dtype)\n",
    "    obs_compl[idx] = obs\n",
    "    obs_compl = obs_compl.reshape(-1, self.n_features)\n",
    "    obs_norm = self.norm.normalize(obs_compl)\n",
    "    return obs_norm.reshape(-1)[idx]"
   ]
  },
  {
   "cell_type": "code",
   "execution_count": null,
   "id": "4fefac69-603a-4437-9f0d-dbd9cf4eeed4",
   "metadata": {
    "pycharm": {
     "name": "#%%\n"
    }
   },
   "outputs": [],
   "source": [
    "T_pred = torch.tensor([6, 7])"
   ]
  },
  {
   "cell_type": "code",
   "execution_count": null,
   "id": "c89656a8-cfa1-47e0-ba69-8a29974f9cee",
   "metadata": {
    "pycharm": {
     "name": "#%%\n"
    }
   },
   "outputs": [
    {
     "data": {
      "text/plain": [
       "NormalParameters(mean=tensor([[45.8680, 52.7259, 59.5802],\n",
       "        [57.0317, 65.4239, 73.8126]]), std=tensor([[0.6181, 0.6006, 0.7151],\n",
       "        [1.5100, 1.6784, 1.8967]]))"
      ]
     },
     "execution_count": null,
     "metadata": {},
     "output_type": "execute_result"
    }
   ],
   "source": [
    "l.predict(T_pred)"
   ]
  },
  {
   "cell_type": "code",
   "execution_count": null,
   "id": "e7b248fd-4dad-4418-a229-6e7c04318eb8",
   "metadata": {
    "pycharm": {
     "name": "#%%\n"
    }
   },
   "outputs": [],
   "source": [
    "idx = torch.zeros(T_pred.shape[0] * X.shape[1], dtype=torch.bool)\n",
    "# simulate an observation using sensible numbers from the prediction\n",
    "idx[[0,2]] = torch.tensor([True, True])\n",
    "obs = torch.tensor([42., 61.])"
   ]
  },
  {
   "cell_type": "code",
   "execution_count": null,
   "id": "a03dbc7e-3c5d-4eca-b0b2-5cad6e80677c",
   "metadata": {
    "pycharm": {
     "name": "#%%\n"
    }
   },
   "outputs": [
    {
     "data": {
      "text/plain": [
       "tensor([2.0806, 2.4525])"
      ]
     },
     "execution_count": null,
     "metadata": {},
     "output_type": "execute_result"
    }
   ],
   "source": [
    "l._normalize_obs(obs, idx)"
   ]
  },
  {
   "cell_type": "code",
   "execution_count": null,
   "id": "027f682d-b2fb-4a78-8b22-b25847af47b5",
   "metadata": {
    "pycharm": {
     "name": "#%%\n"
    }
   },
   "outputs": [],
   "source": [
    "#|export\n",
    "@patch\n",
    "def predict(self: GPFALearner,\n",
    "            T: Tensor, # (n_pred) time where prediction is needed\n",
    "            # (n_obs_pred) Optional - if at the times of the prediction there are some observations\n",
    "            # array with the values of observations to condition distribution\n",
    "            obs: Tensor = None,\n",
    "            # ((n_pred*n_features)) Optional - necessary if obs are present\n",
    "            # Boolean array that is True where an observation is present and False where a prediction is needed\n",
    "            # This is a 1D array with the length equal to n_pred (number time steps to predict) times n_features\n",
    "            idx: Tensor = None\n",
    "           ):\n",
    "    pred_raw = self.predict_raw(T)\n",
    "    \n",
    "    # Conditional observations\n",
    "    if obs is not None and idx is not None:\n",
    "        # observations needs to be normalized before can be used with the raw prediction!\n",
    "        obs_norm = self._normalize_obs(obs, idx)\n",
    "        pred_cond = conditional_guassian(pred_raw, obs_norm, idx)\n",
    "\n",
    "        pred_merge = _merge_raw_cond_pred(pred_raw, pred_cond, obs_norm, idx)\n",
    "    else:\n",
    "        pred_merge = NormParam(pred_raw.mean, pred_raw.stddev)\n",
    "    \n",
    "    return self.prediction_from_raw(pred_merge.mean, pred_merge.std)"
   ]
  },
  {
   "cell_type": "code",
   "execution_count": null,
   "id": "0dac9235-f902-4a97-bc3d-dd4b271e917f",
   "metadata": {
    "pycharm": {
     "name": "#%%\n"
    }
   },
   "outputs": [
    {
     "data": {
      "text/plain": [
       "tensor([2.0806, 2.4525])"
      ]
     },
     "execution_count": null,
     "metadata": {},
     "output_type": "execute_result"
    }
   ],
   "source": [
    "l._normalize_obs(obs, idx)"
   ]
  },
  {
   "cell_type": "code",
   "execution_count": null,
   "id": "0d1c81fb-daa9-499e-9feb-cc929c7351ef",
   "metadata": {
    "pycharm": {
     "name": "#%%\n"
    }
   },
   "outputs": [
    {
     "data": {
      "text/plain": [
       "tensor([42., 61.])"
      ]
     },
     "execution_count": null,
     "metadata": {},
     "output_type": "execute_result"
    }
   ],
   "source": [
    "obs"
   ]
  },
  {
   "cell_type": "code",
   "execution_count": null,
   "id": "855a7c5e-6112-44af-b831-6f936937415b",
   "metadata": {
    "pycharm": {
     "name": "#%%\n"
    }
   },
   "outputs": [
    {
     "data": {
      "text/plain": [
       "tensor([2.3697, 2.3701, 2.3692, 3.2042, 3.2048, 3.2036],\n",
       "       grad_fn=<ViewBackward0>)"
      ]
     },
     "execution_count": null,
     "metadata": {},
     "output_type": "execute_result"
    }
   ],
   "source": [
    "l.predict_raw(T_pred).mean"
   ]
  },
  {
   "cell_type": "code",
   "execution_count": null,
   "id": "09ce783e-bfaa-4eae-8ceb-205f1490f120",
   "metadata": {
    "pycharm": {
     "name": "#%%\n"
    }
   },
   "outputs": [
    {
     "data": {
      "text/plain": [
       "NormalParameters(mean=tensor([[42.0000, 52.2807, 61.0000],\n",
       "        [55.9377, 64.1794, 72.4175]]), std=tensor([[0.0000, 0.2663, 0.0000],\n",
       "        [0.7358, 0.7527, 0.8781]]))"
      ]
     },
     "execution_count": null,
     "metadata": {},
     "output_type": "execute_result"
    }
   ],
   "source": [
    "l.predict(T_pred, obs, idx)"
   ]
  },
  {
   "cell_type": "code",
   "execution_count": null,
   "id": "14080b5c-fae8-435c-8a6f-e359511207eb",
   "metadata": {
    "pycharm": {
     "name": "#%%\n"
    }
   },
   "outputs": [
    {
     "data": {
      "text/plain": [
       "NormalParameters(mean=tensor([[45.8680, 52.7259, 59.5802],\n",
       "        [57.0317, 65.4239, 73.8126]]), std=tensor([[0.6181, 0.6006, 0.7151],\n",
       "        [1.5100, 1.6784, 1.8967]]))"
      ]
     },
     "execution_count": null,
     "metadata": {},
     "output_type": "execute_result"
    }
   ],
   "source": [
    "l.predict(T_pred)"
   ]
  },
  {
   "cell_type": "markdown",
   "id": "b0787ebc-b4c3-4d8c-8e7b-6266b26ed2a7",
   "metadata": {
    "pycharm": {
     "name": "#%% md\n"
    }
   },
   "source": [
    "There is a small change in the predicted values after conditioning as you would expect"
   ]
  },
  {
   "cell_type": "markdown",
   "id": "6172add9-1b1a-4f0b-b6b6-9317b65dcf9c",
   "metadata": {
    "pycharm": {
     "name": "#%% md\n"
    }
   },
   "source": [
    "## GPU Support\n",
    "\n",
    "add support for CUDA to model"
   ]
  },
  {
   "cell_type": "code",
   "execution_count": null,
   "id": "13767083-2ed1-4070-bc76-5592528ddea8",
   "metadata": {
    "pycharm": {
     "name": "#%%\n"
    }
   },
   "outputs": [],
   "source": [
    "# l for learner\n",
    "l_cuda = GPFALearner(X.cuda())"
   ]
  },
  {
   "cell_type": "markdown",
   "id": "9d747c48-67dd-4057-8538-a749afc5b959",
   "metadata": {
    "pycharm": {
     "name": "#%% md\n"
    }
   },
   "source": [
    "Attrs of interest are:\n",
    "\n",
    "- T\n",
    "- X\n",
    "- likelihood\n",
    "- model\n",
    "- norm"
   ]
  },
  {
   "cell_type": "markdown",
   "id": "9e828288-f3f7-463b-adad-6bce1c7ddba3",
   "metadata": {
    "pycharm": {
     "name": "#%% md\n"
    }
   },
   "source": [
    "`cuda()` modifies in place the tensors and the modules!"
   ]
  },
  {
   "cell_type": "code",
   "execution_count": null,
   "id": "5af515f2-c73f-4638-b299-11a71030f540",
   "metadata": {
    "pycharm": {
     "name": "#%%\n"
    }
   },
   "outputs": [
    {
     "data": {
      "text/plain": [
       "tensor([0, 1, 2, 3, 4, 5], device='cuda:0')"
      ]
     },
     "execution_count": null,
     "metadata": {},
     "output_type": "execute_result"
    }
   ],
   "source": [
    "l_cuda.T.cuda()"
   ]
  },
  {
   "cell_type": "code",
   "execution_count": null,
   "id": "7f65f554-a487-4d6c-bf2f-a8d2ae54582f",
   "metadata": {
    "pycharm": {
     "name": "#%%\n"
    }
   },
   "outputs": [
    {
     "data": {
      "text/plain": [
       "device(type='cuda', index=0)"
      ]
     },
     "execution_count": null,
     "metadata": {},
     "output_type": "execute_result"
    }
   ],
   "source": [
    "l_cuda.T.device"
   ]
  },
  {
   "cell_type": "code",
   "execution_count": null,
   "id": "b5d42968",
   "metadata": {
    "pycharm": {
     "name": "#%%\n"
    }
   },
   "outputs": [],
   "source": [
    "#| exports\n",
    "@patch\n",
    "def cuda(self: GPFALearner):\n",
    "    \"\"\"Moves all learner to gpu\"\"\"\n",
    "    for par in ['T', 'X', 'model', 'likelihood']:\n",
    "        self.__getattribute__(par).cuda()\n",
    "    self.norm.x_mean.cuda()\n",
    "    self.norm.x_std.cuda()"
   ]
  },
  {
   "cell_type": "code",
   "execution_count": null,
   "id": "8fef0e14",
   "metadata": {
    "pycharm": {
     "name": "#%%\n"
    }
   },
   "outputs": [],
   "source": [
    "l_cuda.cuda()"
   ]
  },
  {
   "cell_type": "markdown",
   "id": "69294c76",
   "metadata": {
    "pycharm": {
     "name": "#%% md\n"
    }
   },
   "source": [
    "parameters are on the gpu!"
   ]
  },
  {
   "cell_type": "code",
   "execution_count": null,
   "id": "096c9730",
   "metadata": {
    "pycharm": {
     "name": "#%%\n"
    }
   },
   "outputs": [
    {
     "data": {
      "text/plain": [
       "device(type='cuda', index=0)"
      ]
     },
     "execution_count": null,
     "metadata": {},
     "output_type": "execute_result"
    }
   ],
   "source": [
    "next(l_cuda.likelihood.parameters()).device"
   ]
  },
  {
   "cell_type": "code",
   "execution_count": null,
   "id": "b36d9b9e",
   "metadata": {
    "pycharm": {
     "name": "#%%\n"
    }
   },
   "outputs": [
    {
     "data": {
      "text/plain": [
       "MultivariateNormal(loc: tensor([0.], device='cuda:0'), covariance_matrix: tensor([[1.]], device='cuda:0'))"
      ]
     },
     "execution_count": null,
     "metadata": {},
     "output_type": "execute_result"
    }
   ],
   "source": [
    "gpytorch.distributions.MultivariateNormal(torch.zeros(1).cuda(), torch.ones(1, 1).cuda())"
   ]
  },
  {
   "cell_type": "code",
   "execution_count": null,
   "id": "9a904f7d",
   "metadata": {
    "pycharm": {
     "name": "#%%\n"
    }
   },
   "outputs": [
    {
     "data": {
      "text/plain": [
       "device(type='cuda', index=0)"
      ]
     },
     "execution_count": null,
     "metadata": {},
     "output_type": "execute_result"
    }
   ],
   "source": [
    "l_cuda.model.covar_module.latent_kernels[0].lengthscale.device"
   ]
  },
  {
   "cell_type": "code",
   "execution_count": null,
   "id": "247c12d6",
   "metadata": {
    "pycharm": {
     "name": "#%%\n"
    }
   },
   "outputs": [
    {
     "data": {
      "application/vnd.jupyter.widget-view+json": {
       "model_id": "5ebba24631f343a9a709c5e6dab61791",
       "version_major": 2,
       "version_minor": 0
      },
      "text/plain": [
       "  0%|          | 0/100 [00:00<?, ?it/s]"
      ]
     },
     "metadata": {},
     "output_type": "display_data"
    }
   ],
   "source": [
    "l_cuda.train()"
   ]
  },
  {
   "cell_type": "markdown",
   "id": "dc611389-cd28-4641-be52-1295245afe34",
   "metadata": {
    "pycharm": {
     "name": "#%% md\n"
    }
   },
   "source": [
    "## Multi-dimensional latent"
   ]
  },
  {
   "cell_type": "code",
   "execution_count": null,
   "id": "958709b0-fc08-4af3-961a-e27267415d6c",
   "metadata": {
    "pycharm": {
     "name": "#%%\n"
    }
   },
   "outputs": [],
   "source": [
    "l2 = GPFALearner(X, T, latent_dims=2) "
   ]
  },
  {
   "cell_type": "code",
   "execution_count": null,
   "id": "c7c26ca3-1841-4f1b-98ed-6adfa1906a9e",
   "metadata": {
    "pycharm": {
     "name": "#%%\n"
    }
   },
   "outputs": [
    {
     "data": {
      "application/vnd.jupyter.widget-view+json": {
       "model_id": "1d3ec9f1f0aa4ee5a39c439bc867bcd2",
       "version_major": 2,
       "version_minor": 0
      },
      "text/plain": [
       "  0%|          | 0/100 [00:00<?, ?it/s]"
      ]
     },
     "metadata": {},
     "output_type": "display_data"
    }
   ],
   "source": [
    "l2.train()"
   ]
  },
  {
   "cell_type": "code",
   "execution_count": null,
   "id": "cae8a96a-48e6-4038-800d-d239d4572b33",
   "metadata": {
    "pycharm": {
     "name": "#%%\n"
    }
   },
   "outputs": [
    {
     "data": {
      "text/plain": [
       "[<matplotlib.lines.Line2D>]"
      ]
     },
     "execution_count": null,
     "metadata": {},
     "output_type": "execute_result"
    },
    {
     "data": {
      "image/png": "[encoded data removed]",
      "text/plain": [
       "<Figure size 432x288 with 1 Axes>"
      ]
     },
     "metadata": {
      "needs_background": "light"
     },
     "output_type": "display_data"
    }
   ],
   "source": [
    "plt.plot(l2.losses)"
   ]
  },
  {
   "cell_type": "code",
   "execution_count": null,
   "id": "ea45b0d5-56d2-4b6f-a79b-c04230e2b5bc",
   "metadata": {
    "pycharm": {
     "name": "#%%\n"
    }
   },
   "outputs": [
    {
     "data": {
      "text/plain": [
       "Parameter containing:\n",
       "tensor([[1.6995, 1.0409],\n",
       "        [1.5840, 1.0859],\n",
       "        [1.4720, 1.1650]], requires_grad=True)"
      ]
     },
     "execution_count": null,
     "metadata": {},
     "output_type": "execute_result"
    }
   ],
   "source": [
    "l2.model.covar_module.Lambda"
   ]
  },
  {
   "cell_type": "markdown",
   "id": "854d213f-7b0e-409c-8521-5c861bd66281",
   "metadata": {
    "pycharm": {
     "name": "#%% md\n"
    }
   },
   "source": [
    "## Saving\n",
    "\n",
    "load and save models parameters"
   ]
  },
  {
   "cell_type": "code",
   "execution_count": null,
   "id": "d80cff5f-a392-4df4-8c7d-905e809a9188",
   "metadata": {
    "pycharm": {
     "name": "#%%\n"
    }
   },
   "outputs": [],
   "source": [
    "#| export\n",
    "@patch\n",
    "def save(self: GPFALearner, path: Path|str):\n",
    "    model_state = self.model.state_dict()\n",
    "    ll_state = self.likelihood.state_dict()\n",
    "    torch.save((model_state, ll_state), path)\n",
    "@patch\n",
    "def load(self: GPFALearner, path: Path|str):\n",
    "    model_state, ll_state = torch.load(path)\n",
    "    self.model.load_state_dict(model_state)\n",
    "    self.likelihood.load_state_dict(ll_state)"
   ]
  },
  {
   "cell_type": "code",
   "execution_count": null,
   "id": "21674f96-b945-4e4d-91ff-2dc889d77fec",
   "metadata": {
    "pycharm": {
     "name": "#%%\n"
    }
   },
   "outputs": [],
   "source": [
    "from tempfile import tempdir\n",
    "\n",
    "p = Path(tempdir) / \"model_test.pickle\""
   ]
  },
  {
   "cell_type": "code",
   "execution_count": null,
   "id": "a3f0c5c7-a4ad-42f2-96f5-5577ca64c5d4",
   "metadata": {
    "pycharm": {
     "name": "#%%\n"
    }
   },
   "outputs": [],
   "source": [
    "l.save(p)"
   ]
  },
  {
   "cell_type": "code",
   "execution_count": null,
   "id": "f7134d69-7a2c-4036-ad74-00c5a234372c",
   "metadata": {
    "pycharm": {
     "name": "#%%\n"
    }
   },
   "outputs": [
    {
     "data": {
      "text/plain": [
       "OrderedDict([('likelihood.noise_covar.raw_noise', tensor([0.])),\n",
       "             ('likelihood.noise_covar.raw_noise_constraint.lower_bound',\n",
       "              tensor(1.0000e-04)),\n",
       "             ('likelihood.noise_covar.raw_noise_constraint.upper_bound',\n",
       "              tensor(inf)),\n",
       "             ('covar_module.Lambda',\n",
       "              tensor([[0.9177],\n",
       "                      [0.3370],\n",
       "                      [0.5760]])),\n",
       "             ('covar_module.raw_psi_diag', tensor([0., 0., 0.])),\n",
       "             ('covar_module.latent_kernels.0.raw_lengthscale', tensor([[0.]])),\n",
       "             ('covar_module.latent_kernels.0.raw_lengthscale_constraint.lower_bound',\n",
       "              tensor(0.)),\n",
       "             ('covar_module.latent_kernels.0.raw_lengthscale_constraint.upper_bound',\n",
       "              tensor(inf)),\n",
       "             ('covar_module.raw_psi_diag_constraint.lower_bound', tensor(0.)),\n",
       "             ('covar_module.raw_psi_diag_constraint.upper_bound',\n",
       "              tensor(inf))])"
      ]
     },
     "execution_count": null,
     "metadata": {},
     "output_type": "execute_result"
    }
   ],
   "source": [
    "nl = GPFALearner(X)\n",
    "nl.model.state_dict()"
   ]
  },
  {
   "cell_type": "code",
   "execution_count": null,
   "id": "b25ee794-4221-452e-89c3-e7d9b71a97d4",
   "metadata": {
    "pycharm": {
     "name": "#%%\n"
    }
   },
   "outputs": [
    {
     "data": {
      "text/plain": [
       "OrderedDict([('likelihood.noise_covar.raw_noise', tensor([-11.0793])),\n",
       "             ('likelihood.noise_covar.raw_noise_constraint.lower_bound',\n",
       "              tensor(1.0000e-04)),\n",
       "             ('likelihood.noise_covar.raw_noise_constraint.upper_bound',\n",
       "              tensor(inf)),\n",
       "             ('covar_module.Lambda',\n",
       "              tensor([[2.2641],\n",
       "                      [2.2645],\n",
       "                      [2.2637]])),\n",
       "             ('covar_module.raw_psi_diag',\n",
       "              tensor([ -7.4571, -13.0640,  -8.5047])),\n",
       "             ('covar_module.latent_kernels.0.raw_lengthscale',\n",
       "              tensor([[5.6052]])),\n",
       "             ('covar_module.latent_kernels.0.raw_lengthscale_constraint.lower_bound',\n",
       "              tensor(0.)),\n",
       "             ('covar_module.latent_kernels.0.raw_lengthscale_constraint.upper_bound',\n",
       "              tensor(inf)),\n",
       "             ('covar_module.raw_psi_diag_constraint.lower_bound', tensor(0.)),\n",
       "             ('covar_module.raw_psi_diag_constraint.upper_bound',\n",
       "              tensor(inf))])"
      ]
     },
     "execution_count": null,
     "metadata": {},
     "output_type": "execute_result"
    }
   ],
   "source": [
    "nl.load(p)\n",
    "nl.model.state_dict()"
   ]
  },
  {
   "cell_type": "markdown",
   "id": "8ad8917c-f327-4230-845f-83c6758e3e7d",
   "metadata": {
    "pycharm": {
     "name": "#%% md\n"
    }
   },
   "source": [
    "## Plot learning progress"
   ]
  },
  {
   "cell_type": "code",
   "execution_count": null,
   "id": "bb47bf2c-da78-416f-8ca5-08f06aba94de",
   "metadata": {
    "pycharm": {
     "name": "#%%\n"
    }
   },
   "outputs": [
    {
     "data": {
      "application/vnd.jupyter.widget-view+json": {
       "model_id": "30ba74de09a94f84a9373734ef6969cd",
       "version_major": 2,
       "version_minor": 0
      },
      "text/plain": [
       "  0%|          | 0/100 [00:00<?, ?it/s]"
      ]
     },
     "metadata": {},
     "output_type": "display_data"
    }
   ],
   "source": [
    "l = GPFALearner(X, var_names=['x0', 'x1', 'x2'])\n",
    "\n",
    "l.train()"
   ]
  },
  {
   "cell_type": "code",
   "execution_count": null,
   "id": "0af7511d-0e0b-4182-9aee-9127358d3816",
   "metadata": {
    "pycharm": {
     "name": "#%%\n"
    }
   },
   "outputs": [],
   "source": [
    "#| export\n",
    "@patch\n",
    "def plot_progress(self: GPFALearner, size={'width': 250, 'height': 120}):\n",
    "    \n",
    "    sel = alt.selection_interval(bind=\"scales\", encodings=['x'])\n",
    "    \n",
    "    plt_losses = alt.Chart(\n",
    "        pd.DataFrame({'loss': self.losses, 'n_iter': range(self.losses.shape[0])})\n",
    "    ).mark_line().encode(\n",
    "        x = 'n_iter',\n",
    "        y = 'loss'\n",
    "    ).properties(title=\"loss\", **size).add_selection(sel)\n",
    "    \n",
    "    out_plot = [plt_losses]\n",
    "    for info_name in self.model_infos[0].keys():\n",
    "        \n",
    "        values = pd.concat([info[info_name].assign(n_iter=i) for i, info in enumerate(self.model_infos)])\n",
    "        \n",
    "        if values.shape[1] == 2:\n",
    "            # only one column so add fake facet\n",
    "            values.insert(0, 'info', info_name)\n",
    "        \n",
    "        facet = values.columns[0] # first column is either latent or variable\n",
    "        \n",
    "        values = values.melt([facet, 'n_iter'], var_name='prop')\n",
    "        \n",
    "        plt = alt.Chart(values).mark_line().encode(\n",
    "            x = 'n_iter',\n",
    "            y = 'value',\n",
    "            color = 'prop',\n",
    "            facet = facet\n",
    "        ).properties(title=info_name, **size).add_selection(sel)\n",
    "        \n",
    "        out_plot.append(plt)\n",
    "    \n",
    "    return alt.VConcatChart(vconcat=out_plot).resolve_scale(\n",
    "        color='independent'\n",
    "    )\n",
    "    "
   ]
  },
  {
   "cell_type": "code",
   "execution_count": null,
   "id": "89509c5e-6a83-4497-b6b9-b0183407e290",
   "metadata": {
    "pycharm": {
     "name": "#%%\n"
    }
   },
   "outputs": [
    {
     "name": "stderr",
     "output_type": "stream",
     "text": [
      "/home/simone/.local/lib/python3.10/site-packages/altair/utils/core.py:317: FutureWarning: iteritems is deprecated and will be removed in a future version. Use .items instead.\n",
      "  for col_name, dtype in df.dtypes.iteritems():\n"
     ]
    },
    {
     "data": {
      "text/html": [
       "\n",
       "<div id=\"altair-viz-058e19fd8c2b4e10acacdf1ebdeab671\"></div>\n",
       "<script type=\"text/javascript\">\n",
       "  var VEGA_DEBUG = (typeof VEGA_DEBUG == \"undefined\") ? {} : VEGA_DEBUG;\n",
       "  (function(spec, embedOpt){\n",
       "    let outputDiv = document.currentScript.previousElementSibling;\n",
       "    if (outputDiv.id !== \"altair-viz-058e19fd8c2b4e10acacdf1ebdeab671\") {\n",
       "      outputDiv = document.getElementById(\"altair-viz-058e19fd8c2b4e10acacdf1ebdeab671\");\n",
       "    }\n",
       "    const paths = {\n",
       "      \"vega\": \"https://cdn.jsdelivr.net/npm//vega@5?noext\",\n",
       "      \"vega-lib\": \"https://cdn.jsdelivr.net/npm//vega-lib?noext\",\n",
       "      \"vega-lite\": \"https://cdn.jsdelivr.net/npm//vega-lite@4.17.0?noext\",\n",
       "      \"vega-embed\": \"https://cdn.jsdelivr.net/npm//vega-embed@6?noext\",\n",
       "    };\n",
       "\n",
       "    function maybeLoadScript(lib, version) {\n",
       "      var key = `${lib.replace(\"-\", \"\")}_version`;\n",
       "      return (VEGA_DEBUG[key] == version) ?\n",
       "        Promise.resolve(paths[lib]) :\n",
       "        new Promise(function(resolve, reject) {\n",
       "          var s = document.createElement('script');\n",
       "          document.getElementsByTagName(\"head\")[0].appendChild(s);\n",
       "          s.async = true;\n",
       "          s.onload = () => {\n",
       "            VEGA_DEBUG[key] = version;\n",
       "            return resolve(paths[lib]);\n",
       "          };\n",
       "          s.onerror = () => reject(`Error loading script: ${paths[lib]}`);\n",
       "          s.src = paths[lib];\n",
       "        });\n",
       "    }\n",
       "\n",
       "    function showError(err) {\n",
       "      outputDiv.innerHTML = `<div class=\"error\" style=\"color:red;\">${err}</div>`;\n",
       "      throw err;\n",
       "    }\n",
       "\n",
       "    function displayChart(vegaEmbed) {\n",
       "      vegaEmbed(outputDiv, spec, embedOpt)\n",
       "        .catch(err => showError(`Javascript Error: ${err.message}<br>This usually means there's a typo in your chart specification. See the javascript console for the full traceback.`));\n",
       "    }\n",
       "\n",
       "    if(typeof define === \"function\" && define.amd) {\n",
       "      requirejs.config({paths});\n",
       "      require([\"vega-embed\"], displayChart, err => showError(`Error loading script: ${err.message}`));\n",
       "    } else {\n",
       "      maybeLoadScript(\"vega\", \"5\")\n",
       "        .then(() => maybeLoadScript(\"vega-lite\", \"4.17.0\"))\n",
       "        .then(() => maybeLoadScript(\"vega-embed\", \"6\"))\n",
       "        .catch(showError)\n",
       "        .then(() => displayChart(vegaEmbed));\n",
       "    }\n",
       "  })({\"config\": {\"view\": {\"continuousWidth\": 400, \"continuousHeight\": 300}}, \"vconcat\": [{\"data\": {\"name\": \"data-7d71b1aeb33b90c30195ae496711ed73\"}, \"mark\": \"line\", \"encoding\": {\"x\": {\"field\": \"n_iter\", \"type\": \"quantitative\"}, \"y\": {\"field\": \"loss\", \"type\": \"quantitative\"}}, \"height\": 120, \"selection\": {\"selector002\": {\"type\": \"interval\", \"bind\": \"scales\", \"encodings\": [\"x\"]}}, \"title\": \"loss\", \"width\": 250}, {\"data\": {\"name\": \"data-f4cf94811fdd86da9d3689c69b9c1d93\"}, \"mark\": \"line\", \"encoding\": {\"color\": {\"field\": \"prop\", \"type\": \"nominal\"}, \"facet\": {\"field\": \"variable\", \"type\": \"nominal\"}, \"x\": {\"field\": \"n_iter\", \"type\": \"quantitative\"}, \"y\": {\"field\": \"value\", \"type\": \"quantitative\"}}, \"height\": 120, \"selection\": {\"selector002\": {\"type\": \"interval\", \"bind\": \"scales\", \"encodings\": [\"x\"]}}, \"title\": \"Lambda\", \"width\": 250}, {\"data\": {\"name\": \"data-331ba4ea895f7ecb93d1c5318928b13d\"}, \"mark\": \"line\", \"encoding\": {\"color\": {\"field\": \"prop\", \"type\": \"nominal\"}, \"facet\": {\"field\": \"latent\", \"type\": \"nominal\"}, \"x\": {\"field\": \"n_iter\", \"type\": \"quantitative\"}, \"y\": {\"field\": \"value\", \"type\": \"quantitative\"}}, \"height\": 120, \"selection\": {\"selector002\": {\"type\": \"interval\", \"bind\": \"scales\", \"encodings\": [\"x\"]}}, \"title\": \"lengthscale\", \"width\": 250}, {\"data\": {\"name\": \"data-c168157ecccc8c57e79bb6036f66c343\"}, \"mark\": \"line\", \"encoding\": {\"color\": {\"field\": \"prop\", \"type\": \"nominal\"}, \"facet\": {\"field\": \"variable\", \"type\": \"nominal\"}, \"x\": {\"field\": \"n_iter\", \"type\": \"quantitative\"}, \"y\": {\"field\": \"value\", \"type\": \"quantitative\"}}, \"height\": 120, \"selection\": {\"selector002\": {\"type\": \"interval\", \"bind\": \"scales\", \"encodings\": [\"x\"]}}, \"title\": \"psi\", \"width\": 250}, {\"data\": {\"name\": \"data-ee29adc4f1a6e39dd6c70115c86b4ea2\"}, \"mark\": \"line\", \"encoding\": {\"color\": {\"field\": \"prop\", \"type\": \"nominal\"}, \"facet\": {\"field\": \"info\", \"type\": \"nominal\"}, \"x\": {\"field\": \"n_iter\", \"type\": \"quantitative\"}, \"y\": {\"field\": \"value\", \"type\": \"quantitative\"}}, \"height\": 120, \"selection\": {\"selector002\": {\"type\": \"interval\", \"bind\": \"scales\", \"encodings\": [\"x\"]}}, \"title\": \"likelihood\", \"width\": 250}], \"resolve\": {\"scale\": {\"color\": \"independent\"}}, \"$schema\": \"https://vega.github.io/schema/vega-lite/v4.17.0.json\", \"datasets\": {\"data-7d71b1aeb33b90c30195ae496711ed73\": [{\"loss\": 1.3433738946914673, \"n_iter\": 0}, {\"loss\": 1.3024859428405762, \"n_iter\": 1}, {\"loss\": 1.265859842300415, \"n_iter\": 2}, {\"loss\": 1.2320642471313477, \"n_iter\": 3}, {\"loss\": 1.1994917392730713, \"n_iter\": 4}, {\"loss\": 1.166903018951416, \"n_iter\": 5}, {\"loss\": 1.1324422359466553, \"n_iter\": 6}, {\"loss\": 1.0953967571258545, \"n_iter\": 7}, {\"loss\": 1.0568897724151611, \"n_iter\": 8}, {\"loss\": 1.018454670906067, \"n_iter\": 9}, {\"loss\": 0.9809300899505615, \"n_iter\": 10}, {\"loss\": 0.9439373016357422, \"n_iter\": 11}, {\"loss\": 0.9064287543296814, \"n_iter\": 12}, {\"loss\": 0.8676117062568665, \"n_iter\": 13}, {\"loss\": 0.827412486076355, \"n_iter\": 14}, {\"loss\": 0.7864125370979309, \"n_iter\": 15}, {\"loss\": 0.7454508543014526, \"n_iter\": 16}, {\"loss\": 0.7051375508308411, \"n_iter\": 17}, {\"loss\": 0.665240466594696, \"n_iter\": 18}, {\"loss\": 0.6246615648269653, \"n_iter\": 19}, {\"loss\": 0.5827572345733643, \"n_iter\": 20}, {\"loss\": 0.5403521656990051, \"n_iter\": 21}, {\"loss\": 0.49882444739341736, \"n_iter\": 22}, {\"loss\": 0.4579313099384308, \"n_iter\": 23}, {\"loss\": 0.41604936122894287, \"n_iter\": 24}, {\"loss\": 0.373188853263855, \"n_iter\": 25}, {\"loss\": 0.3306640386581421, \"n_iter\": 26}, {\"loss\": 0.28883785009384155, \"n_iter\": 27}, {\"loss\": 0.246829092502594, \"n_iter\": 28}, {\"loss\": 0.20378351211547852, \"n_iter\": 29}, {\"loss\": 0.16109398007392883, \"n_iter\": 30}, {\"loss\": 0.11932240426540375, \"n_iter\": 31}, {\"loss\": 0.07683716714382172, \"n_iter\": 32}, {\"loss\": 0.03400654345750809, \"n_iter\": 33}, {\"loss\": -0.007983101531863213, \"n_iter\": 34}, {\"loss\": -0.0498826764523983, \"n_iter\": 35}, {\"loss\": -0.0925174281001091, \"n_iter\": 36}, {\"loss\": -0.13422393798828125, \"n_iter\": 37}, {\"loss\": -0.17595693469047546, \"n_iter\": 38}, {\"loss\": -0.21804291009902954, \"n_iter\": 39}, {\"loss\": -0.2592464089393616, \"n_iter\": 40}, {\"loss\": -0.3008970618247986, \"n_iter\": 41}, {\"loss\": -0.34207725524902344, \"n_iter\": 42}, {\"loss\": -0.3829256594181061, \"n_iter\": 43}, {\"loss\": -0.42407703399658203, \"n_iter\": 44}, {\"loss\": -0.46441447734832764, \"n_iter\": 45}, {\"loss\": -0.5050967335700989, \"n_iter\": 46}, {\"loss\": -0.5448850989341736, \"n_iter\": 47}, {\"loss\": -0.5847068428993225, \"n_iter\": 48}, {\"loss\": -0.6236855387687683, \"n_iter\": 49}, {\"loss\": -0.6617059707641602, \"n_iter\": 50}, {\"loss\": -0.7022717595100403, \"n_iter\": 51}, {\"loss\": -0.7405784130096436, \"n_iter\": 52}, {\"loss\": -0.7774577736854553, \"n_iter\": 53}, {\"loss\": -0.8161048889160156, \"n_iter\": 54}, {\"loss\": -0.8535068035125732, \"n_iter\": 55}, {\"loss\": -0.8894447684288025, \"n_iter\": 56}, {\"loss\": -0.9257562160491943, \"n_iter\": 57}, {\"loss\": -0.962315022945404, \"n_iter\": 58}, {\"loss\": -0.9968780875205994, \"n_iter\": 59}, {\"loss\": -1.0281982421875, \"n_iter\": 60}, {\"loss\": -1.057813048362732, \"n_iter\": 61}, {\"loss\": -1.0962837934494019, \"n_iter\": 62}, {\"loss\": -1.1277313232421875, \"n_iter\": 63}, {\"loss\": -1.1528491973876953, \"n_iter\": 64}, {\"loss\": -1.1891307830810547, \"n_iter\": 65}, {\"loss\": -1.22038733959198, \"n_iter\": 66}, {\"loss\": -1.2419577836990356, \"n_iter\": 67}, {\"loss\": -1.2756505012512207, \"n_iter\": 68}, {\"loss\": -1.3032313585281372, \"n_iter\": 69}, {\"loss\": -1.3187811374664307, \"n_iter\": 70}, {\"loss\": -1.3455560207366943, \"n_iter\": 71}, {\"loss\": -1.3662018775939941, \"n_iter\": 72}, {\"loss\": -1.3802517652511597, \"n_iter\": 73}, {\"loss\": -1.4162442684173584, \"n_iter\": 74}, {\"loss\": -1.4308744668960571, \"n_iter\": 75}, {\"loss\": -1.4388084411621094, \"n_iter\": 76}, {\"loss\": -1.4734374284744263, \"n_iter\": 77}, {\"loss\": -1.4792450666427612, \"n_iter\": 78}, {\"loss\": -1.4879491329193115, \"n_iter\": 79}, {\"loss\": -1.5149320363998413, \"n_iter\": 80}, {\"loss\": -1.5109171867370605, \"n_iter\": 81}, {\"loss\": -1.5183767080307007, \"n_iter\": 82}, {\"loss\": -1.5340194702148438, \"n_iter\": 83}, {\"loss\": -1.533139705657959, \"n_iter\": 84}, {\"loss\": -1.5604103803634644, \"n_iter\": 85}, {\"loss\": -1.5690449476242065, \"n_iter\": 86}, {\"loss\": -1.557447910308838, \"n_iter\": 87}, {\"loss\": -1.5780762434005737, \"n_iter\": 88}, {\"loss\": -1.5812015533447266, \"n_iter\": 89}, {\"loss\": -1.5849195718765259, \"n_iter\": 90}, {\"loss\": -1.60220468044281, \"n_iter\": 91}, {\"loss\": -1.5923703908920288, \"n_iter\": 92}, {\"loss\": -1.598243236541748, \"n_iter\": 93}, {\"loss\": -1.6051229238510132, \"n_iter\": 94}, {\"loss\": -1.6013283729553223, \"n_iter\": 95}, {\"loss\": -1.6196202039718628, \"n_iter\": 96}, {\"loss\": -1.619444489479065, \"n_iter\": 97}, {\"loss\": -1.6239806413650513, \"n_iter\": 98}, {\"loss\": -1.6304408311843872, \"n_iter\": 99}], \"data-f4cf94811fdd86da9d3689c69b9c1d93\": [{\"variable\": \"x0\", \"n_iter\": 0, \"prop\": \"z0\", \"value\": 0.5385743379592896}, {\"variable\": \"x1\", \"n_iter\": 0, \"prop\": \"z0\", \"value\": 0.2981683611869812}, {\"variable\": \"x2\", \"n_iter\": 0, \"prop\": \"z0\", \"value\": 0.8333781361579895}, {\"variable\": \"x0\", \"n_iter\": 1, \"prop\": \"z0\", \"value\": 0.6385743021965027}, {\"variable\": \"x1\", \"n_iter\": 1, \"prop\": \"z0\", \"value\": 0.3981683552265167}, {\"variable\": \"x2\", \"n_iter\": 1, \"prop\": \"z0\", \"value\": 0.7333781719207764}, {\"variable\": \"x0\", \"n_iter\": 2, \"prop\": \"z0\", \"value\": 0.7038124203681946}, {\"variable\": \"x1\", \"n_iter\": 2, \"prop\": \"z0\", \"value\": 0.49743402004241943}, {\"variable\": \"x2\", \"n_iter\": 2, \"prop\": \"z0\", \"value\": 0.6395636796951294}, {\"variable\": \"x0\", \"n_iter\": 3, \"prop\": \"z0\", \"value\": 0.7021762132644653}, {\"variable\": \"x1\", \"n_iter\": 3, \"prop\": \"z0\", \"value\": 0.5940279960632324}, {\"variable\": \"x2\", \"n_iter\": 3, \"prop\": \"z0\", \"value\": 0.5714592933654785}, {\"variable\": \"x0\", \"n_iter\": 4, \"prop\": \"z0\", \"value\": 0.6729514002799988}, {\"variable\": \"x1\", \"n_iter\": 4, \"prop\": \"z0\", \"value\": 0.6832994818687439}, {\"variable\": \"x2\", \"n_iter\": 4, \"prop\": \"z0\", \"value\": 0.550130307674408}, {\"variable\": \"x0\", \"n_iter\": 5, \"prop\": \"z0\", \"value\": 0.6494593024253845}, {\"variable\": \"x1\", \"n_iter\": 5, \"prop\": \"z0\", \"value\": 0.7572878003120422}, {\"variable\": \"x2\", \"n_iter\": 5, \"prop\": \"z0\", \"value\": 0.5674676895141602}, {\"variable\": \"x0\", \"n_iter\": 6, \"prop\": \"z0\", \"value\": 0.6596686244010925}, {\"variable\": \"x1\", \"n_iter\": 6, \"prop\": \"z0\", \"value\": 0.8083656430244446}, {\"variable\": \"x2\", \"n_iter\": 6, \"prop\": \"z0\", \"value\": 0.6081742644309998}, {\"variable\": \"x0\", \"n_iter\": 7, \"prop\": \"z0\", \"value\": 0.6970005035400391}, {\"variable\": \"x1\", \"n_iter\": 7, \"prop\": \"z0\", \"value\": 0.8354694843292236}, {\"variable\": \"x2\", \"n_iter\": 7, \"prop\": \"z0\", \"value\": 0.6626051068305969}, {\"variable\": \"x0\", \"n_iter\": 8, \"prop\": \"z0\", \"value\": 0.7491701245307922}, {\"variable\": \"x1\", \"n_iter\": 8, \"prop\": \"z0\", \"value\": 0.84334397315979}, {\"variable\": \"x2\", \"n_iter\": 8, \"prop\": \"z0\", \"value\": 0.7244585752487183}, {\"variable\": \"x0\", \"n_iter\": 9, \"prop\": \"z0\", \"value\": 0.8063361644744873}, {\"variable\": \"x1\", \"n_iter\": 9, \"prop\": \"z0\", \"value\": 0.8388442993164062}, {\"variable\": \"x2\", \"n_iter\": 9, \"prop\": \"z0\", \"value\": 0.7884469032287598}, {\"variable\": \"x0\", \"n_iter\": 10, \"prop\": \"z0\", \"value\": 0.8573924899101257}, {\"variable\": \"x1\", \"n_iter\": 10, \"prop\": \"z0\", \"value\": 0.8293240666389465}, {\"variable\": \"x2\", \"n_iter\": 10, \"prop\": \"z0\", \"value\": 0.8491649627685547}, {\"variable\": \"x0\", \"n_iter\": 11, \"prop\": \"z0\", \"value\": 0.8919713497161865}, {\"variable\": \"x1\", \"n_iter\": 11, \"prop\": \"z0\", \"value\": 0.8221187591552734}, {\"variable\": \"x2\", \"n_iter\": 11, \"prop\": \"z0\", \"value\": 0.9009547233581543}, {\"variable\": \"x0\", \"n_iter\": 12, \"prop\": \"z0\", \"value\": 0.9073890447616577}, {\"variable\": \"x1\", \"n_iter\": 12, \"prop\": \"z0\", \"value\": 0.8232681155204773}, {\"variable\": \"x2\", \"n_iter\": 12, \"prop\": \"z0\", \"value\": 0.9386757016181946}, {\"variable\": \"x0\", \"n_iter\": 13, \"prop\": \"z0\", \"value\": 0.9083454608917236}, {\"variable\": \"x1\", \"n_iter\": 13, \"prop\": \"z0\", \"value\": 0.8357252478599548}, {\"variable\": \"x2\", \"n_iter\": 13, \"prop\": \"z0\", \"value\": 0.9592348337173462}, {\"variable\": \"x0\", \"n_iter\": 14, \"prop\": \"z0\", \"value\": 0.9025653600692749}, {\"variable\": \"x1\", \"n_iter\": 14, \"prop\": \"z0\", \"value\": 0.8588885068893433}, {\"variable\": \"x2\", \"n_iter\": 14, \"prop\": \"z0\", \"value\": 0.9627193808555603}, {\"variable\": \"x0\", \"n_iter\": 15, \"prop\": \"z0\", \"value\": 0.8986527323722839}, {\"variable\": \"x1\", \"n_iter\": 15, \"prop\": \"z0\", \"value\": 0.8895310759544373}, {\"variable\": \"x2\", \"n_iter\": 15, \"prop\": \"z0\", \"value\": 0.9521287083625793}, {\"variable\": \"x0\", \"n_iter\": 16, \"prop\": \"z0\", \"value\": 0.903521716594696}, {\"variable\": \"x1\", \"n_iter\": 16, \"prop\": \"z0\", \"value\": 0.9226781129837036}, {\"variable\": \"x2\", \"n_iter\": 16, \"prop\": \"z0\", \"value\": 0.9326695203781128}, {\"variable\": \"x0\", \"n_iter\": 17, \"prop\": \"z0\", \"value\": 0.9188315868377686}, {\"variable\": \"x1\", \"n_iter\": 17, \"prop\": \"z0\", \"value\": 0.9522746801376343}, {\"variable\": \"x2\", \"n_iter\": 17, \"prop\": \"z0\", \"value\": 0.9117668271064758}, {\"variable\": \"x0\", \"n_iter\": 18, \"prop\": \"z0\", \"value\": 0.9405276775360107}, {\"variable\": \"x1\", \"n_iter\": 18, \"prop\": \"z0\", \"value\": 0.9727973341941833}, {\"variable\": \"x2\", \"n_iter\": 18, \"prop\": \"z0\", \"value\": 0.8988614082336426}, {\"variable\": \"x0\", \"n_iter\": 19, \"prop\": \"z0\", \"value\": 0.9609282612800598}, {\"variable\": \"x1\", \"n_iter\": 19, \"prop\": \"z0\", \"value\": 0.9817452430725098}, {\"variable\": \"x2\", \"n_iter\": 19, \"prop\": \"z0\", \"value\": 0.9018074870109558}, {\"variable\": \"x0\", \"n_iter\": 20, \"prop\": \"z0\", \"value\": 0.972724437713623}, {\"variable\": \"x1\", \"n_iter\": 20, \"prop\": \"z0\", \"value\": 0.9806087613105774}, {\"variable\": \"x2\", \"n_iter\": 20, \"prop\": \"z0\", \"value\": 0.921893835067749}, {\"variable\": \"x0\", \"n_iter\": 21, \"prop\": \"z0\", \"value\": 0.9750250577926636}, {\"variable\": \"x1\", \"n_iter\": 21, \"prop\": \"z0\", \"value\": 0.9738308787345886}, {\"variable\": \"x2\", \"n_iter\": 21, \"prop\": \"z0\", \"value\": 0.9544801712036133}, {\"variable\": \"x0\", \"n_iter\": 22, \"prop\": \"z0\", \"value\": 0.9753994941711426}, {\"variable\": \"x1\", \"n_iter\": 22, \"prop\": \"z0\", \"value\": 0.9678182601928711}, {\"variable\": \"x2\", \"n_iter\": 22, \"prop\": \"z0\", \"value\": 0.9914777874946594}, {\"variable\": \"x0\", \"n_iter\": 23, \"prop\": \"z0\", \"value\": 0.9855812191963196}, {\"variable\": \"x1\", \"n_iter\": 23, \"prop\": \"z0\", \"value\": 0.9699217081069946}, {\"variable\": \"x2\", \"n_iter\": 23, \"prop\": \"z0\", \"value\": 1.0225673913955688}, {\"variable\": \"x0\", \"n_iter\": 24, \"prop\": \"z0\", \"value\": 1.010116696357727}, {\"variable\": \"x1\", \"n_iter\": 24, \"prop\": \"z0\", \"value\": 0.9855424165725708}, {\"variable\": \"x2\", \"n_iter\": 24, \"prop\": \"z0\", \"value\": 1.0402882099151611}, {\"variable\": \"x0\", \"n_iter\": 25, \"prop\": \"z0\", \"value\": 1.0419080257415771}, {\"variable\": \"x1\", \"n_iter\": 25, \"prop\": \"z0\", \"value\": 1.0149805545806885}, {\"variable\": \"x2\", \"n_iter\": 25, \"prop\": \"z0\", \"value\": 1.0459975004196167}, {\"variable\": \"x0\", \"n_iter\": 26, \"prop\": \"z0\", \"value\": 1.0677461624145508}, {\"variable\": \"x1\", \"n_iter\": 26, \"prop\": \"z0\", \"value\": 1.0537487268447876}, {\"variable\": \"x2\", \"n_iter\": 26, \"prop\": \"z0\", \"value\": 1.0484479665756226}, {\"variable\": \"x0\", \"n_iter\": 27, \"prop\": \"z0\", \"value\": 1.0819696187973022}, {\"variable\": \"x1\", \"n_iter\": 27, \"prop\": \"z0\", \"value\": 1.0935200452804565}, {\"variable\": \"x2\", \"n_iter\": 27, \"prop\": \"z0\", \"value\": 1.0584524869918823}, {\"variable\": \"x0\", \"n_iter\": 28, \"prop\": \"z0\", \"value\": 1.0958000421524048}, {\"variable\": \"x1\", \"n_iter\": 28, \"prop\": \"z0\", \"value\": 1.1237120628356934}, {\"variable\": \"x2\", \"n_iter\": 28, \"prop\": \"z0\", \"value\": 1.0818339586257935}, {\"variable\": \"x0\", \"n_iter\": 29, \"prop\": \"z0\", \"value\": 1.1223156452178955}, {\"variable\": \"x1\", \"n_iter\": 29, \"prop\": \"z0\", \"value\": 1.1395715475082397}, {\"variable\": \"x2\", \"n_iter\": 29, \"prop\": \"z0\", \"value\": 1.1169209480285645}, {\"variable\": \"x0\", \"n_iter\": 30, \"prop\": \"z0\", \"value\": 1.1586076021194458}, {\"variable\": \"x1\", \"n_iter\": 30, \"prop\": \"z0\", \"value\": 1.1481434106826782}, {\"variable\": \"x2\", \"n_iter\": 30, \"prop\": \"z0\", \"value\": 1.157495379447937}, {\"variable\": \"x0\", \"n_iter\": 31, \"prop\": \"z0\", \"value\": 1.1901435852050781}, {\"variable\": \"x1\", \"n_iter\": 31, \"prop\": \"z0\", \"value\": 1.1632018089294434}, {\"variable\": \"x2\", \"n_iter\": 31, \"prop\": \"z0\", \"value\": 1.1953308582305908}, {\"variable\": \"x0\", \"n_iter\": 32, \"prop\": \"z0\", \"value\": 1.2098650932312012}, {\"variable\": \"x1\", \"n_iter\": 32, \"prop\": \"z0\", \"value\": 1.1930559873580933}, {\"variable\": \"x2\", \"n_iter\": 32, \"prop\": \"z0\", \"value\": 1.2231215238571167}, {\"variable\": \"x0\", \"n_iter\": 33, \"prop\": \"z0\", \"value\": 1.2303475141525269}, {\"variable\": \"x1\", \"n_iter\": 33, \"prop\": \"z0\", \"value\": 1.2336492538452148}, {\"variable\": \"x2\", \"n_iter\": 33, \"prop\": \"z0\", \"value\": 1.23939847946167}, {\"variable\": \"x0\", \"n_iter\": 34, \"prop\": \"z0\", \"value\": 1.2620010375976562}, {\"variable\": \"x1\", \"n_iter\": 34, \"prop\": \"z0\", \"value\": 1.2735801935195923}, {\"variable\": \"x2\", \"n_iter\": 34, \"prop\": \"z0\", \"value\": 1.2525413036346436}, {\"variable\": \"x0\", \"n_iter\": 35, \"prop\": \"z0\", \"value\": 1.296664834022522}, {\"variable\": \"x1\", \"n_iter\": 35, \"prop\": \"z0\", \"value\": 1.302536964416504}, {\"variable\": \"x2\", \"n_iter\": 35, \"prop\": \"z0\", \"value\": 1.275878667831421}, {\"variable\": \"x0\", \"n_iter\": 36, \"prop\": \"z0\", \"value\": 1.3196523189544678}, {\"variable\": \"x1\", \"n_iter\": 36, \"prop\": \"z0\", \"value\": 1.3208668231964111}, {\"variable\": \"x2\", \"n_iter\": 36, \"prop\": \"z0\", \"value\": 1.3132919073104858}, {\"variable\": \"x0\", \"n_iter\": 37, \"prop\": \"z0\", \"value\": 1.339704990386963}, {\"variable\": \"x1\", \"n_iter\": 37, \"prop\": \"z0\", \"value\": 1.336778163909912}, {\"variable\": \"x2\", \"n_iter\": 37, \"prop\": \"z0\", \"value\": 1.35397469997406}, {\"variable\": \"x0\", \"n_iter\": 38, \"prop\": \"z0\", \"value\": 1.3718677759170532}, {\"variable\": \"x1\", \"n_iter\": 38, \"prop\": \"z0\", \"value\": 1.3605244159698486}, {\"variable\": \"x2\", \"n_iter\": 38, \"prop\": \"z0\", \"value\": 1.3815677165985107}, {\"variable\": \"x0\", \"n_iter\": 39, \"prop\": \"z0\", \"value\": 1.4029966592788696}, {\"variable\": \"x1\", \"n_iter\": 39, \"prop\": \"z0\", \"value\": 1.3959399461746216}, {\"variable\": \"x2\", \"n_iter\": 39, \"prop\": \"z0\", \"value\": 1.3967995643615723}, {\"variable\": \"x0\", \"n_iter\": 40, \"prop\": \"z0\", \"value\": 1.4197378158569336}, {\"variable\": \"x1\", \"n_iter\": 40, \"prop\": \"z0\", \"value\": 1.4333910942077637}, {\"variable\": \"x2\", \"n_iter\": 40, \"prop\": \"z0\", \"value\": 1.4149152040481567}, {\"variable\": \"x0\", \"n_iter\": 41, \"prop\": \"z0\", \"value\": 1.4482861757278442}, {\"variable\": \"x1\", \"n_iter\": 41, \"prop\": \"z0\", \"value\": 1.4551717042922974}, {\"variable\": \"x2\", \"n_iter\": 41, \"prop\": \"z0\", \"value\": 1.4435243606567383}, {\"variable\": \"x0\", \"n_iter\": 42, \"prop\": \"z0\", \"value\": 1.4801151752471924}, {\"variable\": \"x1\", \"n_iter\": 42, \"prop\": \"z0\", \"value\": 1.4684418439865112}, {\"variable\": \"x2\", \"n_iter\": 42, \"prop\": \"z0\", \"value\": 1.4791276454925537}, {\"variable\": \"x0\", \"n_iter\": 43, \"prop\": \"z0\", \"value\": 1.4948664903640747}, {\"variable\": \"x1\", \"n_iter\": 43, \"prop\": \"z0\", \"value\": 1.4936208724975586}, {\"variable\": \"x2\", \"n_iter\": 43, \"prop\": \"z0\", \"value\": 1.5086588859558105}, {\"variable\": \"x0\", \"n_iter\": 44, \"prop\": \"z0\", \"value\": 1.5280449390411377}, {\"variable\": \"x1\", \"n_iter\": 44, \"prop\": \"z0\", \"value\": 1.5272916555404663}, {\"variable\": \"x2\", \"n_iter\": 44, \"prop\": \"z0\", \"value\": 1.5214860439300537}, {\"variable\": \"x0\", \"n_iter\": 45, \"prop\": \"z0\", \"value\": 1.5503349304199219}, {\"variable\": \"x1\", \"n_iter\": 45, \"prop\": \"z0\", \"value\": 1.5573807954788208}, {\"variable\": \"x2\", \"n_iter\": 45, \"prop\": \"z0\", \"value\": 1.5424368381500244}, {\"variable\": \"x0\", \"n_iter\": 46, \"prop\": \"z0\", \"value\": 1.572543740272522}, {\"variable\": \"x1\", \"n_iter\": 46, \"prop\": \"z0\", \"value\": 1.5732141733169556}, {\"variable\": \"x2\", \"n_iter\": 46, \"prop\": \"z0\", \"value\": 1.5772544145584106}, {\"variable\": \"x0\", \"n_iter\": 47, \"prop\": \"z0\", \"value\": 1.6048451662063599}, {\"variable\": \"x1\", \"n_iter\": 47, \"prop\": \"z0\", \"value\": 1.592476487159729}, {\"variable\": \"x2\", \"n_iter\": 47, \"prop\": \"z0\", \"value\": 1.605247974395752}, {\"variable\": \"x0\", \"n_iter\": 48, \"prop\": \"z0\", \"value\": 1.6148077249526978}, {\"variable\": \"x1\", \"n_iter\": 48, \"prop\": \"z0\", \"value\": 1.6294444799423218}, {\"variable\": \"x2\", \"n_iter\": 48, \"prop\": \"z0\", \"value\": 1.6232669353485107}, {\"variable\": \"x0\", \"n_iter\": 49, \"prop\": \"z0\", \"value\": 1.662127137184143}, {\"variable\": \"x1\", \"n_iter\": 49, \"prop\": \"z0\", \"value\": 1.6496504545211792}, {\"variable\": \"x2\", \"n_iter\": 49, \"prop\": \"z0\", \"value\": 1.6403470039367676}, {\"variable\": \"x0\", \"n_iter\": 50, \"prop\": \"z0\", \"value\": 1.6514729261398315}, {\"variable\": \"x1\", \"n_iter\": 50, \"prop\": \"z0\", \"value\": 1.673344373703003}, {\"variable\": \"x2\", \"n_iter\": 50, \"prop\": \"z0\", \"value\": 1.6814920902252197}, {\"variable\": \"x0\", \"n_iter\": 51, \"prop\": \"z0\", \"value\": 1.6979492902755737}, {\"variable\": \"x1\", \"n_iter\": 51, \"prop\": \"z0\", \"value\": 1.6860387325286865}, {\"variable\": \"x2\", \"n_iter\": 51, \"prop\": \"z0\", \"value\": 1.6879929304122925}, {\"variable\": \"x0\", \"n_iter\": 52, \"prop\": \"z0\", \"value\": 1.7173360586166382}, {\"variable\": \"x1\", \"n_iter\": 52, \"prop\": \"z0\", \"value\": 1.7134042978286743}, {\"variable\": \"x2\", \"n_iter\": 52, \"prop\": \"z0\", \"value\": 1.7029237747192383}, {\"variable\": \"x0\", \"n_iter\": 53, \"prop\": \"z0\", \"value\": 1.716028094291687}, {\"variable\": \"x1\", \"n_iter\": 53, \"prop\": \"z0\", \"value\": 1.7348405122756958}, {\"variable\": \"x2\", \"n_iter\": 53, \"prop\": \"z0\", \"value\": 1.7399816513061523}, {\"variable\": \"x0\", \"n_iter\": 54, \"prop\": \"z0\", \"value\": 1.7576656341552734}, {\"variable\": \"x1\", \"n_iter\": 54, \"prop\": \"z0\", \"value\": 1.7428826093673706}, {\"variable\": \"x2\", \"n_iter\": 54, \"prop\": \"z0\", \"value\": 1.7476177215576172}, {\"variable\": \"x0\", \"n_iter\": 55, \"prop\": \"z0\", \"value\": 1.7700276374816895}, {\"variable\": \"x1\", \"n_iter\": 55, \"prop\": \"z0\", \"value\": 1.7754104137420654}, {\"variable\": \"x2\", \"n_iter\": 55, \"prop\": \"z0\", \"value\": 1.7619621753692627}, {\"variable\": \"x0\", \"n_iter\": 56, \"prop\": \"z0\", \"value\": 1.779731035232544}, {\"variable\": \"x1\", \"n_iter\": 56, \"prop\": \"z0\", \"value\": 1.785027027130127}, {\"variable\": \"x2\", \"n_iter\": 56, \"prop\": \"z0\", \"value\": 1.7986633777618408}, {\"variable\": \"x0\", \"n_iter\": 57, \"prop\": \"z0\", \"value\": 1.8158891201019287}, {\"variable\": \"x1\", \"n_iter\": 57, \"prop\": \"z0\", \"value\": 1.8084559440612793}, {\"variable\": \"x2\", \"n_iter\": 57, \"prop\": \"z0\", \"value\": 1.7979748249053955}, {\"variable\": \"x0\", \"n_iter\": 58, \"prop\": \"z0\", \"value\": 1.8193820714950562}, {\"variable\": \"x1\", \"n_iter\": 58, \"prop\": \"z0\", \"value\": 1.8293800354003906}, {\"variable\": \"x2\", \"n_iter\": 58, \"prop\": \"z0\", \"value\": 1.828197717666626}, {\"variable\": \"x0\", \"n_iter\": 59, \"prop\": \"z0\", \"value\": 1.845504641532898}, {\"variable\": \"x1\", \"n_iter\": 59, \"prop\": \"z0\", \"value\": 1.8356271982192993}, {\"variable\": \"x2\", \"n_iter\": 59, \"prop\": \"z0\", \"value\": 1.8492705821990967}, {\"variable\": \"x0\", \"n_iter\": 60, \"prop\": \"z0\", \"value\": 1.862443447113037}, {\"variable\": \"x1\", \"n_iter\": 60, \"prop\": \"z0\", \"value\": 1.8783713579177856}, {\"variable\": \"x2\", \"n_iter\": 60, \"prop\": \"z0\", \"value\": 1.8492655754089355}, {\"variable\": \"x0\", \"n_iter\": 61, \"prop\": \"z0\", \"value\": 1.8832303285598755}, {\"variable\": \"x1\", \"n_iter\": 61, \"prop\": \"z0\", \"value\": 1.8575634956359863}, {\"variable\": \"x2\", \"n_iter\": 61, \"prop\": \"z0\", \"value\": 1.8948856592178345}, {\"variable\": \"x0\", \"n_iter\": 62, \"prop\": \"z0\", \"value\": 1.8822757005691528}, {\"variable\": \"x1\", \"n_iter\": 62, \"prop\": \"z0\", \"value\": 1.9024839401245117}, {\"variable\": \"x2\", \"n_iter\": 62, \"prop\": \"z0\", \"value\": 1.8848648071289062}, {\"variable\": \"x0\", \"n_iter\": 63, \"prop\": \"z0\", \"value\": 1.9156572818756104}, {\"variable\": \"x1\", \"n_iter\": 63, \"prop\": \"z0\", \"value\": 1.9090158939361572}, {\"variable\": \"x2\", \"n_iter\": 63, \"prop\": \"z0\", \"value\": 1.892784833908081}, {\"variable\": \"x0\", \"n_iter\": 64, \"prop\": \"z0\", \"value\": 1.9029641151428223}, {\"variable\": \"x1\", \"n_iter\": 64, \"prop\": \"z0\", \"value\": 1.90793776512146}, {\"variable\": \"x2\", \"n_iter\": 64, \"prop\": \"z0\", \"value\": 1.9372954368591309}, {\"variable\": \"x0\", \"n_iter\": 65, \"prop\": \"z0\", \"value\": 1.9413849115371704}, {\"variable\": \"x1\", \"n_iter\": 65, \"prop\": \"z0\", \"value\": 1.9341312646865845}, {\"variable\": \"x2\", \"n_iter\": 65, \"prop\": \"z0\", \"value\": 1.9187133312225342}, {\"variable\": \"x0\", \"n_iter\": 66, \"prop\": \"z0\", \"value\": 1.938649296760559}, {\"variable\": \"x1\", \"n_iter\": 66, \"prop\": \"z0\", \"value\": 1.951366662979126}, {\"variable\": \"x2\", \"n_iter\": 66, \"prop\": \"z0\", \"value\": 1.9347856044769287}, {\"variable\": \"x0\", \"n_iter\": 67, \"prop\": \"z0\", \"value\": 1.9483036994934082}, {\"variable\": \"x1\", \"n_iter\": 67, \"prop\": \"z0\", \"value\": 1.936445951461792}, {\"variable\": \"x2\", \"n_iter\": 67, \"prop\": \"z0\", \"value\": 1.9677088260650635}, {\"variable\": \"x0\", \"n_iter\": 68, \"prop\": \"z0\", \"value\": 1.967534065246582}, {\"variable\": \"x1\", \"n_iter\": 68, \"prop\": \"z0\", \"value\": 1.9705626964569092}, {\"variable\": \"x2\", \"n_iter\": 68, \"prop\": \"z0\", \"value\": 1.9531751871109009}, {\"variable\": \"x0\", \"n_iter\": 69, \"prop\": \"z0\", \"value\": 1.9690425395965576}, {\"variable\": \"x1\", \"n_iter\": 69, \"prop\": \"z0\", \"value\": 1.981343388557434}, {\"variable\": \"x2\", \"n_iter\": 69, \"prop\": \"z0\", \"value\": 1.9680014848709106}, {\"variable\": \"x0\", \"n_iter\": 70, \"prop\": \"z0\", \"value\": 1.9886534214019775}, {\"variable\": \"x1\", \"n_iter\": 70, \"prop\": \"z0\", \"value\": 1.9650647640228271}, {\"variable\": \"x2\", \"n_iter\": 70, \"prop\": \"z0\", \"value\": 1.9952245950698853}, {\"variable\": \"x0\", \"n_iter\": 71, \"prop\": \"z0\", \"value\": 1.978020429611206}, {\"variable\": \"x1\", \"n_iter\": 71, \"prop\": \"z0\", \"value\": 2.0052947998046875}, {\"variable\": \"x2\", \"n_iter\": 71, \"prop\": \"z0\", \"value\": 1.9852944612503052}, {\"variable\": \"x0\", \"n_iter\": 72, \"prop\": \"z0\", \"value\": 2.019484043121338}, {\"variable\": \"x1\", \"n_iter\": 72, \"prop\": \"z0\", \"value\": 1.9975749254226685}, {\"variable\": \"x2\", \"n_iter\": 72, \"prop\": \"z0\", \"value\": 1.9904429912567139}, {\"variable\": \"x0\", \"n_iter\": 73, \"prop\": \"z0\", \"value\": 1.9910780191421509}, {\"variable\": \"x1\", \"n_iter\": 73, \"prop\": \"z0\", \"value\": 2.006075859069824}, {\"variable\": \"x2\", \"n_iter\": 73, \"prop\": \"z0\", \"value\": 2.02864933013916}, {\"variable\": \"x0\", \"n_iter\": 74, \"prop\": \"z0\", \"value\": 2.0210087299346924}, {\"variable\": \"x1\", \"n_iter\": 74, \"prop\": \"z0\", \"value\": 2.024310350418091}, {\"variable\": \"x2\", \"n_iter\": 74, \"prop\": \"z0\", \"value\": 2.0080955028533936}, {\"variable\": \"x0\", \"n_iter\": 75, \"prop\": \"z0\", \"value\": 2.0385608673095703}, {\"variable\": \"x1\", \"n_iter\": 75, \"prop\": \"z0\", \"value\": 2.0212841033935547}, {\"variable\": \"x2\", \"n_iter\": 75, \"prop\": \"z0\", \"value\": 2.015927314758301}, {\"variable\": \"x0\", \"n_iter\": 76, \"prop\": \"z0\", \"value\": 2.013432264328003}, {\"variable\": \"x1\", \"n_iter\": 76, \"prop\": \"z0\", \"value\": 2.0336592197418213}, {\"variable\": \"x2\", \"n_iter\": 76, \"prop\": \"z0\", \"value\": 2.047159433364868}, {\"variable\": \"x0\", \"n_iter\": 77, \"prop\": \"z0\", \"value\": 2.041916847229004}, {\"variable\": \"x1\", \"n_iter\": 77, \"prop\": \"z0\", \"value\": 2.0399839878082275}, {\"variable\": \"x2\", \"n_iter\": 77, \"prop\": \"z0\", \"value\": 2.033867835998535}, {\"variable\": \"x0\", \"n_iter\": 78, \"prop\": \"z0\", \"value\": 2.0582311153411865}, {\"variable\": \"x1\", \"n_iter\": 78, \"prop\": \"z0\", \"value\": 2.0421512126922607}, {\"variable\": \"x2\", \"n_iter\": 78, \"prop\": \"z0\", \"value\": 2.0349600315093994}, {\"variable\": \"x0\", \"n_iter\": 79, \"prop\": \"z0\", \"value\": 2.0357391834259033}, {\"variable\": \"x1\", \"n_iter\": 79, \"prop\": \"z0\", \"value\": 2.058133602142334}, {\"variable\": \"x2\", \"n_iter\": 79, \"prop\": \"z0\", \"value\": 2.0631866455078125}, {\"variable\": \"x0\", \"n_iter\": 80, \"prop\": \"z0\", \"value\": 2.0602314472198486}, {\"variable\": \"x1\", \"n_iter\": 80, \"prop\": \"z0\", \"value\": 2.050821542739868}, {\"variable\": \"x2\", \"n_iter\": 80, \"prop\": \"z0\", \"value\": 2.0593419075012207}, {\"variable\": \"x0\", \"n_iter\": 81, \"prop\": \"z0\", \"value\": 2.072307586669922}, {\"variable\": \"x1\", \"n_iter\": 81, \"prop\": \"z0\", \"value\": 2.0731277465820312}, {\"variable\": \"x2\", \"n_iter\": 81, \"prop\": \"z0\", \"value\": 2.0478243827819824}, {\"variable\": \"x0\", \"n_iter\": 82, \"prop\": \"z0\", \"value\": 2.062189817428589}, {\"variable\": \"x1\", \"n_iter\": 82, \"prop\": \"z0\", \"value\": 2.0557901859283447}, {\"variable\": \"x2\", \"n_iter\": 82, \"prop\": \"z0\", \"value\": 2.083937168121338}, {\"variable\": \"x0\", \"n_iter\": 83, \"prop\": \"z0\", \"value\": 2.0661516189575195}, {\"variable\": \"x1\", \"n_iter\": 83, \"prop\": \"z0\", \"value\": 2.0902466773986816}, {\"variable\": \"x2\", \"n_iter\": 83, \"prop\": \"z0\", \"value\": 2.070566177368164}, {\"variable\": \"x0\", \"n_iter\": 84, \"prop\": \"z0\", \"value\": 2.098228693008423}, {\"variable\": \"x1\", \"n_iter\": 84, \"prop\": \"z0\", \"value\": 2.068528175354004}, {\"variable\": \"x2\", \"n_iter\": 84, \"prop\": \"z0\", \"value\": 2.0743680000305176}, {\"variable\": \"x0\", \"n_iter\": 85, \"prop\": \"z0\", \"value\": 2.0759263038635254}, {\"variable\": \"x1\", \"n_iter\": 85, \"prop\": \"z0\", \"value\": 2.0905728340148926}, {\"variable\": \"x2\", \"n_iter\": 85, \"prop\": \"z0\", \"value\": 2.0913710594177246}, {\"variable\": \"x0\", \"n_iter\": 86, \"prop\": \"z0\", \"value\": 2.0823700428009033}, {\"variable\": \"x1\", \"n_iter\": 86, \"prop\": \"z0\", \"value\": 2.0971171855926514}, {\"variable\": \"x2\", \"n_iter\": 86, \"prop\": \"z0\", \"value\": 2.093073606491089}, {\"variable\": \"x0\", \"n_iter\": 87, \"prop\": \"z0\", \"value\": 2.1103155612945557}, {\"variable\": \"x1\", \"n_iter\": 87, \"prop\": \"z0\", \"value\": 2.0832977294921875}, {\"variable\": \"x2\", \"n_iter\": 87, \"prop\": \"z0\", \"value\": 2.0901002883911133}, {\"variable\": \"x0\", \"n_iter\": 88, \"prop\": \"z0\", \"value\": 2.0932493209838867}, {\"variable\": \"x1\", \"n_iter\": 88, \"prop\": \"z0\", \"value\": 2.1104609966278076}, {\"variable\": \"x2\", \"n_iter\": 88, \"prop\": \"z0\", \"value\": 2.0975663661956787}, {\"variable\": \"x0\", \"n_iter\": 89, \"prop\": \"z0\", \"value\": 2.096768856048584}, {\"variable\": \"x1\", \"n_iter\": 89, \"prop\": \"z0\", \"value\": 2.102511405944824}, {\"variable\": \"x2\", \"n_iter\": 89, \"prop\": \"z0\", \"value\": 2.1161954402923584}, {\"variable\": \"x0\", \"n_iter\": 90, \"prop\": \"z0\", \"value\": 2.1195991039276123}, {\"variable\": \"x1\", \"n_iter\": 90, \"prop\": \"z0\", \"value\": 2.107534408569336}, {\"variable\": \"x2\", \"n_iter\": 90, \"prop\": \"z0\", \"value\": 2.0989301204681396}, {\"variable\": \"x0\", \"n_iter\": 91, \"prop\": \"z0\", \"value\": 2.112398624420166}, {\"variable\": \"x1\", \"n_iter\": 91, \"prop\": \"z0\", \"value\": 2.1165168285369873}, {\"variable\": \"x2\", \"n_iter\": 91, \"prop\": \"z0\", \"value\": 2.1117515563964844}, {\"variable\": \"x0\", \"n_iter\": 92, \"prop\": \"z0\", \"value\": 2.1087262630462646}, {\"variable\": \"x1\", \"n_iter\": 92, \"prop\": \"z0\", \"value\": 2.115459442138672}, {\"variable\": \"x2\", \"n_iter\": 92, \"prop\": \"z0\", \"value\": 2.129901885986328}, {\"variable\": \"x0\", \"n_iter\": 93, \"prop\": \"z0\", \"value\": 2.1272878646850586}, {\"variable\": \"x1\", \"n_iter\": 93, \"prop\": \"z0\", \"value\": 2.1281211376190186}, {\"variable\": \"x2\", \"n_iter\": 93, \"prop\": \"z0\", \"value\": 2.1108171939849854}, {\"variable\": \"x0\", \"n_iter\": 94, \"prop\": \"z0\", \"value\": 2.1318557262420654}, {\"variable\": \"x1\", \"n_iter\": 94, \"prop\": \"z0\", \"value\": 2.1166605949401855}, {\"variable\": \"x2\", \"n_iter\": 94, \"prop\": \"z0\", \"value\": 2.1276769638061523}, {\"variable\": \"x0\", \"n_iter\": 95, \"prop\": \"z0\", \"value\": 2.1174423694610596}, {\"variable\": \"x1\", \"n_iter\": 95, \"prop\": \"z0\", \"value\": 2.1402487754821777}, {\"variable\": \"x2\", \"n_iter\": 95, \"prop\": \"z0\", \"value\": 2.132744073867798}, {\"variable\": \"x0\", \"n_iter\": 96, \"prop\": \"z0\", \"value\": 2.13671612739563}, {\"variable\": \"x1\", \"n_iter\": 96, \"prop\": \"z0\", \"value\": 2.1284680366516113}, {\"variable\": \"x2\", \"n_iter\": 96, \"prop\": \"z0\", \"value\": 2.134915828704834}, {\"variable\": \"x0\", \"n_iter\": 97, \"prop\": \"z0\", \"value\": 2.144378185272217}, {\"variable\": \"x1\", \"n_iter\": 97, \"prop\": \"z0\", \"value\": 2.1368985176086426}, {\"variable\": \"x2\", \"n_iter\": 97, \"prop\": \"z0\", \"value\": 2.1300015449523926}, {\"variable\": \"x0\", \"n_iter\": 98, \"prop\": \"z0\", \"value\": 2.1335744857788086}, {\"variable\": \"x1\", \"n_iter\": 98, \"prop\": \"z0\", \"value\": 2.144965648651123}, {\"variable\": \"x2\", \"n_iter\": 98, \"prop\": \"z0\", \"value\": 2.145648241043091}, {\"variable\": \"x0\", \"n_iter\": 99, \"prop\": \"z0\", \"value\": 2.1422476768493652}, {\"variable\": \"x1\", \"n_iter\": 99, \"prop\": \"z0\", \"value\": 2.1427836418151855}, {\"variable\": \"x2\", \"n_iter\": 99, \"prop\": \"z0\", \"value\": 2.1496775150299072}], \"data-331ba4ea895f7ecb93d1c5318928b13d\": [{\"latent\": \"z0\", \"n_iter\": 0, \"prop\": \"lengthscale\", \"value\": 0.6931471824645996}, {\"latent\": \"z0\", \"n_iter\": 1, \"prop\": \"lengthscale\", \"value\": 0.7443966269493103}, {\"latent\": \"z0\", \"n_iter\": 2, \"prop\": \"lengthscale\", \"value\": 0.7982117533683777}, {\"latent\": \"z0\", \"n_iter\": 3, \"prop\": \"lengthscale\", \"value\": 0.8546311855316162}, {\"latent\": \"z0\", \"n_iter\": 4, \"prop\": \"lengthscale\", \"value\": 0.9136412143707275}, {\"latent\": \"z0\", \"n_iter\": 5, \"prop\": \"lengthscale\", \"value\": 0.9751938581466675}, {\"latent\": \"z0\", \"n_iter\": 6, \"prop\": \"lengthscale\", \"value\": 1.0392305850982666}, {\"latent\": \"z0\", \"n_iter\": 7, \"prop\": \"lengthscale\", \"value\": 1.1056976318359375}, {\"latent\": \"z0\", \"n_iter\": 8, \"prop\": \"lengthscale\", \"value\": 1.1745339632034302}, {\"latent\": \"z0\", \"n_iter\": 9, \"prop\": \"lengthscale\", \"value\": 1.2456607818603516}, {\"latent\": \"z0\", \"n_iter\": 10, \"prop\": \"lengthscale\", \"value\": 1.3189787864685059}, {\"latent\": \"z0\", \"n_iter\": 11, \"prop\": \"lengthscale\", \"value\": 1.3943634033203125}, {\"latent\": \"z0\", \"n_iter\": 12, \"prop\": \"lengthscale\", \"value\": 1.4716496467590332}, {\"latent\": \"z0\", \"n_iter\": 13, \"prop\": \"lengthscale\", \"value\": 1.5506243705749512}, {\"latent\": \"z0\", \"n_iter\": 14, \"prop\": \"lengthscale\", \"value\": 1.631030797958374}, {\"latent\": \"z0\", \"n_iter\": 15, \"prop\": \"lengthscale\", \"value\": 1.712581992149353}, {\"latent\": \"z0\", \"n_iter\": 16, \"prop\": \"lengthscale\", \"value\": 1.79498291015625}, {\"latent\": \"z0\", \"n_iter\": 17, \"prop\": \"lengthscale\", \"value\": 1.877953052520752}, {\"latent\": \"z0\", \"n_iter\": 18, \"prop\": \"lengthscale\", \"value\": 1.9612369537353516}, {\"latent\": \"z0\", \"n_iter\": 19, \"prop\": \"lengthscale\", \"value\": 2.0446019172668457}, {\"latent\": \"z0\", \"n_iter\": 20, \"prop\": \"lengthscale\", \"value\": 2.1278228759765625}, {\"latent\": \"z0\", \"n_iter\": 21, \"prop\": \"lengthscale\", \"value\": 2.210660934448242}, {\"latent\": \"z0\", \"n_iter\": 22, \"prop\": \"lengthscale\", \"value\": 2.2928643226623535}, {\"latent\": \"z0\", \"n_iter\": 23, \"prop\": \"lengthscale\", \"value\": 2.374202251434326}, {\"latent\": \"z0\", \"n_iter\": 24, \"prop\": \"lengthscale\", \"value\": 2.45451021194458}, {\"latent\": \"z0\", \"n_iter\": 25, \"prop\": \"lengthscale\", \"value\": 2.5336945056915283}, {\"latent\": \"z0\", \"n_iter\": 26, \"prop\": \"lengthscale\", \"value\": 2.611708164215088}, {\"latent\": \"z0\", \"n_iter\": 27, \"prop\": \"lengthscale\", \"value\": 2.688511848449707}, {\"latent\": \"z0\", \"n_iter\": 28, \"prop\": \"lengthscale\", \"value\": 2.7640621662139893}, {\"latent\": \"z0\", \"n_iter\": 29, \"prop\": \"lengthscale\", \"value\": 2.8383431434631348}, {\"latent\": \"z0\", \"n_iter\": 30, \"prop\": \"lengthscale\", \"value\": 2.9113986492156982}, {\"latent\": \"z0\", \"n_iter\": 31, \"prop\": \"lengthscale\", \"value\": 2.983320951461792}, {\"latent\": \"z0\", \"n_iter\": 32, \"prop\": \"lengthscale\", \"value\": 3.0541951656341553}, {\"latent\": \"z0\", \"n_iter\": 33, \"prop\": \"lengthscale\", \"value\": 3.124056100845337}, {\"latent\": \"z0\", \"n_iter\": 34, \"prop\": \"lengthscale\", \"value\": 3.1929333209991455}, {\"latent\": \"z0\", \"n_iter\": 35, \"prop\": \"lengthscale\", \"value\": 3.260895013809204}, {\"latent\": \"z0\", \"n_iter\": 36, \"prop\": \"lengthscale\", \"value\": 3.328016519546509}, {\"latent\": \"z0\", \"n_iter\": 37, \"prop\": \"lengthscale\", \"value\": 3.3943216800689697}, {\"latent\": \"z0\", \"n_iter\": 38, \"prop\": \"lengthscale\", \"value\": 3.4598217010498047}, {\"latent\": \"z0\", \"n_iter\": 39, \"prop\": \"lengthscale\", \"value\": 3.524554967880249}, {\"latent\": \"z0\", \"n_iter\": 40, \"prop\": \"lengthscale\", \"value\": 3.5885376930236816}, {\"latent\": \"z0\", \"n_iter\": 41, \"prop\": \"lengthscale\", \"value\": 3.6517341136932373}, {\"latent\": \"z0\", \"n_iter\": 42, \"prop\": \"lengthscale\", \"value\": 3.7141427993774414}, {\"latent\": \"z0\", \"n_iter\": 43, \"prop\": \"lengthscale\", \"value\": 3.7757678031921387}, {\"latent\": \"z0\", \"n_iter\": 44, \"prop\": \"lengthscale\", \"value\": 3.8365511894226074}, {\"latent\": \"z0\", \"n_iter\": 45, \"prop\": \"lengthscale\", \"value\": 3.8964786529541016}, {\"latent\": \"z0\", \"n_iter\": 46, \"prop\": \"lengthscale\", \"value\": 3.95550537109375}, {\"latent\": \"z0\", \"n_iter\": 47, \"prop\": \"lengthscale\", \"value\": 4.013586044311523}, {\"latent\": \"z0\", \"n_iter\": 48, \"prop\": \"lengthscale\", \"value\": 4.070708274841309}, {\"latent\": \"z0\", \"n_iter\": 49, \"prop\": \"lengthscale\", \"value\": 4.126780986785889}, {\"latent\": \"z0\", \"n_iter\": 50, \"prop\": \"lengthscale\", \"value\": 4.18181037902832}, {\"latent\": \"z0\", \"n_iter\": 51, \"prop\": \"lengthscale\", \"value\": 4.235665321350098}, {\"latent\": \"z0\", \"n_iter\": 52, \"prop\": \"lengthscale\", \"value\": 4.288244247436523}, {\"latent\": \"z0\", \"n_iter\": 53, \"prop\": \"lengthscale\", \"value\": 4.339452743530273}, {\"latent\": \"z0\", \"n_iter\": 54, \"prop\": \"lengthscale\", \"value\": 4.389197826385498}, {\"latent\": \"z0\", \"n_iter\": 55, \"prop\": \"lengthscale\", \"value\": 4.437362194061279}, {\"latent\": \"z0\", \"n_iter\": 56, \"prop\": \"lengthscale\", \"value\": 4.4838762283325195}, {\"latent\": \"z0\", \"n_iter\": 57, \"prop\": \"lengthscale\", \"value\": 4.528672218322754}, {\"latent\": \"z0\", \"n_iter\": 58, \"prop\": \"lengthscale\", \"value\": 4.571685791015625}, {\"latent\": \"z0\", \"n_iter\": 59, \"prop\": \"lengthscale\", \"value\": 4.612875938415527}, {\"latent\": \"z0\", \"n_iter\": 60, \"prop\": \"lengthscale\", \"value\": 4.652190208435059}, {\"latent\": \"z0\", \"n_iter\": 61, \"prop\": \"lengthscale\", \"value\": 4.689642906188965}, {\"latent\": \"z0\", \"n_iter\": 62, \"prop\": \"lengthscale\", \"value\": 4.725180149078369}, {\"latent\": \"z0\", \"n_iter\": 63, \"prop\": \"lengthscale\", \"value\": 4.758687973022461}, {\"latent\": \"z0\", \"n_iter\": 64, \"prop\": \"lengthscale\", \"value\": 4.790165901184082}, {\"latent\": \"z0\", \"n_iter\": 65, \"prop\": \"lengthscale\", \"value\": 4.819562911987305}, {\"latent\": \"z0\", \"n_iter\": 66, \"prop\": \"lengthscale\", \"value\": 4.846915245056152}, {\"latent\": \"z0\", \"n_iter\": 67, \"prop\": \"lengthscale\", \"value\": 4.872212886810303}, {\"latent\": \"z0\", \"n_iter\": 68, \"prop\": \"lengthscale\", \"value\": 4.895452976226807}, {\"latent\": \"z0\", \"n_iter\": 69, \"prop\": \"lengthscale\", \"value\": 4.916738986968994}, {\"latent\": \"z0\", \"n_iter\": 70, \"prop\": \"lengthscale\", \"value\": 4.936131954193115}, {\"latent\": \"z0\", \"n_iter\": 71, \"prop\": \"lengthscale\", \"value\": 4.953741550445557}, {\"latent\": \"z0\", \"n_iter\": 72, \"prop\": \"lengthscale\", \"value\": 4.969639778137207}, {\"latent\": \"z0\", \"n_iter\": 73, \"prop\": \"lengthscale\", \"value\": 4.984039306640625}, {\"latent\": \"z0\", \"n_iter\": 74, \"prop\": \"lengthscale\", \"value\": 4.997074127197266}, {\"latent\": \"z0\", \"n_iter\": 75, \"prop\": \"lengthscale\", \"value\": 5.0089216232299805}, {\"latent\": \"z0\", \"n_iter\": 76, \"prop\": \"lengthscale\", \"value\": 5.019733905792236}, {\"latent\": \"z0\", \"n_iter\": 77, \"prop\": \"lengthscale\", \"value\": 5.029712677001953}, {\"latent\": \"z0\", \"n_iter\": 78, \"prop\": \"lengthscale\", \"value\": 5.039010524749756}, {\"latent\": \"z0\", \"n_iter\": 79, \"prop\": \"lengthscale\", \"value\": 5.047797203063965}, {\"latent\": \"z0\", \"n_iter\": 80, \"prop\": \"lengthscale\", \"value\": 5.056321620941162}, {\"latent\": \"z0\", \"n_iter\": 81, \"prop\": \"lengthscale\", \"value\": 5.064669609069824}, {\"latent\": \"z0\", \"n_iter\": 82, \"prop\": \"lengthscale\", \"value\": 5.073054313659668}, {\"latent\": \"z0\", \"n_iter\": 83, \"prop\": \"lengthscale\", \"value\": 5.081529140472412}, {\"latent\": \"z0\", \"n_iter\": 84, \"prop\": \"lengthscale\", \"value\": 5.090342044830322}, {\"latent\": \"z0\", \"n_iter\": 85, \"prop\": \"lengthscale\", \"value\": 5.0994954109191895}, {\"latent\": \"z0\", \"n_iter\": 86, \"prop\": \"lengthscale\", \"value\": 5.109147548675537}, {\"latent\": \"z0\", \"n_iter\": 87, \"prop\": \"lengthscale\", \"value\": 5.119347095489502}, {\"latent\": \"z0\", \"n_iter\": 88, \"prop\": \"lengthscale\", \"value\": 5.130033016204834}, {\"latent\": \"z0\", \"n_iter\": 89, \"prop\": \"lengthscale\", \"value\": 5.141312122344971}, {\"latent\": \"z0\", \"n_iter\": 90, \"prop\": \"lengthscale\", \"value\": 5.153171062469482}, {\"latent\": \"z0\", \"n_iter\": 91, \"prop\": \"lengthscale\", \"value\": 5.165524005889893}, {\"latent\": \"z0\", \"n_iter\": 92, \"prop\": \"lengthscale\", \"value\": 5.1783766746521}, {\"latent\": \"z0\", \"n_iter\": 93, \"prop\": \"lengthscale\", \"value\": 5.191683769226074}, {\"latent\": \"z0\", \"n_iter\": 94, \"prop\": \"lengthscale\", \"value\": 5.2053608894348145}, {\"latent\": \"z0\", \"n_iter\": 95, \"prop\": \"lengthscale\", \"value\": 5.219249248504639}, {\"latent\": \"z0\", \"n_iter\": 96, \"prop\": \"lengthscale\", \"value\": 5.2333879470825195}, {\"latent\": \"z0\", \"n_iter\": 97, \"prop\": \"lengthscale\", \"value\": 5.247562408447266}, {\"latent\": \"z0\", \"n_iter\": 98, \"prop\": \"lengthscale\", \"value\": 5.261695384979248}, {\"latent\": \"z0\", \"n_iter\": 99, \"prop\": \"lengthscale\", \"value\": 5.275765895843506}], \"data-c168157ecccc8c57e79bb6036f66c343\": [{\"variable\": \"x0\", \"n_iter\": 0, \"prop\": \"psi\", \"value\": 0.6931471824645996}, {\"variable\": \"x1\", \"n_iter\": 0, \"prop\": \"psi\", \"value\": 0.6931471824645996}, {\"variable\": \"x2\", \"n_iter\": 0, \"prop\": \"psi\", \"value\": 0.6931471824645996}, {\"variable\": \"x0\", \"n_iter\": 1, \"prop\": \"psi\", \"value\": 0.6443966627120972}, {\"variable\": \"x1\", \"n_iter\": 1, \"prop\": \"psi\", \"value\": 0.6443966627120972}, {\"variable\": \"x2\", \"n_iter\": 1, \"prop\": \"psi\", \"value\": 0.6443966627120972}, {\"variable\": \"x0\", \"n_iter\": 2, \"prop\": \"psi\", \"value\": 0.5980927348136902}, {\"variable\": \"x1\", \"n_iter\": 2, \"prop\": \"psi\", \"value\": 0.5980783700942993}, {\"variable\": \"x2\", \"n_iter\": 2, \"prop\": \"psi\", \"value\": 0.5980799794197083}, {\"variable\": \"x0\", \"n_iter\": 3, \"prop\": \"psi\", \"value\": 0.554213285446167}, {\"variable\": \"x1\", \"n_iter\": 3, \"prop\": \"psi\", \"value\": 0.5541502237319946}, {\"variable\": \"x2\", \"n_iter\": 3, \"prop\": \"psi\", \"value\": 0.5541694760322571}, {\"variable\": \"x0\", \"n_iter\": 4, \"prop\": \"psi\", \"value\": 0.5127242803573608}, {\"variable\": \"x1\", \"n_iter\": 4, \"prop\": \"psi\", \"value\": 0.5125762820243835}, {\"variable\": \"x2\", \"n_iter\": 4, \"prop\": \"psi\", \"value\": 0.5126557350158691}, {\"variable\": \"x0\", \"n_iter\": 5, \"prop\": \"psi\", \"value\": 0.4735811948776245}, {\"variable\": \"x1\", \"n_iter\": 5, \"prop\": \"psi\", \"value\": 0.47332844138145447}, {\"variable\": \"x2\", \"n_iter\": 5, \"prop\": \"psi\", \"value\": 0.4735121428966522}, {\"variable\": \"x0\", \"n_iter\": 6, \"prop\": \"psi\", \"value\": 0.4367384612560272}, {\"variable\": \"x1\", \"n_iter\": 6, \"prop\": \"psi\", \"value\": 0.43637824058532715}, {\"variable\": \"x2\", \"n_iter\": 6, \"prop\": \"psi\", \"value\": 0.43668052554130554}, {\"variable\": \"x0\", \"n_iter\": 7, \"prop\": \"psi\", \"value\": 0.40213826298713684}, {\"variable\": \"x1\", \"n_iter\": 7, \"prop\": \"psi\", \"value\": 0.40168067812919617}, {\"variable\": \"x2\", \"n_iter\": 7, \"prop\": \"psi\", \"value\": 0.4020861089229584}, {\"variable\": \"x0\", \"n_iter\": 8, \"prop\": \"psi\", \"value\": 0.3697097599506378}, {\"variable\": \"x1\", \"n_iter\": 8, \"prop\": \"psi\", \"value\": 0.36916983127593994}, {\"variable\": \"x2\", \"n_iter\": 8, \"prop\": \"psi\", \"value\": 0.36965078115463257}, {\"variable\": \"x0\", \"n_iter\": 9, \"prop\": \"psi\", \"value\": 0.33937862515449524}, {\"variable\": \"x1\", \"n_iter\": 9, \"prop\": \"psi\", \"value\": 0.3387686610221863}, {\"variable\": \"x2\", \"n_iter\": 9, \"prop\": \"psi\", \"value\": 0.33929991722106934}, {\"variable\": \"x0\", \"n_iter\": 10, \"prop\": \"psi\", \"value\": 0.3110721707344055}, {\"variable\": \"x1\", \"n_iter\": 10, \"prop\": \"psi\", \"value\": 0.3103993535041809}, {\"variable\": \"x2\", \"n_iter\": 10, \"prop\": \"psi\", \"value\": 0.3109632432460785}, {\"variable\": \"x0\", \"n_iter\": 11, \"prop\": \"psi\", \"value\": 0.2847176790237427}, {\"variable\": \"x1\", \"n_iter\": 11, \"prop\": \"psi\", \"value\": 0.2839882969856262}, {\"variable\": \"x2\", \"n_iter\": 11, \"prop\": \"psi\", \"value\": 0.2845722436904907}, {\"variable\": \"x0\", \"n_iter\": 12, \"prop\": \"psi\", \"value\": 0.2602379620075226}, {\"variable\": \"x1\", \"n_iter\": 12, \"prop\": \"psi\", \"value\": 0.25946325063705444}, {\"variable\": \"x2\", \"n_iter\": 12, \"prop\": \"psi\", \"value\": 0.26005610823631287}, {\"variable\": \"x0\", \"n_iter\": 13, \"prop\": \"psi\", \"value\": 0.23754993081092834}, {\"variable\": \"x1\", \"n_iter\": 13, \"prop\": \"psi\", \"value\": 0.23674628138542175}, {\"variable\": \"x2\", \"n_iter\": 13, \"prop\": \"psi\", \"value\": 0.2373383343219757}, {\"variable\": \"x0\", \"n_iter\": 14, \"prop\": \"psi\", \"value\": 0.21656690537929535}, {\"variable\": \"x1\", \"n_iter\": 14, \"prop\": \"psi\", \"value\": 0.21575020253658295}, {\"variable\": \"x2\", \"n_iter\": 14, \"prop\": \"psi\", \"value\": 0.21633508801460266}, {\"variable\": \"x0\", \"n_iter\": 15, \"prop\": \"psi\", \"value\": 0.19720110297203064}, {\"variable\": \"x1\", \"n_iter\": 15, \"prop\": \"psi\", \"value\": 0.19638127088546753}, {\"variable\": \"x2\", \"n_iter\": 15, \"prop\": \"psi\", \"value\": 0.19695571064949036}, {\"variable\": \"x0\", \"n_iter\": 16, \"prop\": \"psi\", \"value\": 0.1793643832206726}, {\"variable\": \"x1\", \"n_iter\": 16, \"prop\": \"psi\", \"value\": 0.1785454899072647}, {\"variable\": \"x2\", \"n_iter\": 16, \"prop\": \"psi\", \"value\": 0.17910616099834442}, {\"variable\": \"x0\", \"n_iter\": 17, \"prop\": \"psi\", \"value\": 0.16296786069869995}, {\"variable\": \"x1\", \"n_iter\": 17, \"prop\": \"psi\", \"value\": 0.16215269267559052}, {\"variable\": \"x2\", \"n_iter\": 17, \"prop\": \"psi\", \"value\": 0.1626945286989212}, {\"variable\": \"x0\", \"n_iter\": 18, \"prop\": \"psi\", \"value\": 0.14792248606681824}, {\"variable\": \"x1\", \"n_iter\": 18, \"prop\": \"psi\", \"value\": 0.14711612462997437}, {\"variable\": \"x2\", \"n_iter\": 18, \"prop\": \"psi\", \"value\": 0.14763465523719788}, {\"variable\": \"x0\", \"n_iter\": 19, \"prop\": \"psi\", \"value\": 0.1341407150030136}, {\"variable\": \"x1\", \"n_iter\": 19, \"prop\": \"psi\", \"value\": 0.1333494931459427}, {\"variable\": \"x2\", \"n_iter\": 19, \"prop\": \"psi\", \"value\": 0.1338445246219635}, {\"variable\": \"x0\", \"n_iter\": 20, \"prop\": \"psi\", \"value\": 0.12153741717338562}, {\"variable\": \"x1\", \"n_iter\": 20, \"prop\": \"psi\", \"value\": 0.12076592445373535}, {\"variable\": \"x2\", \"n_iter\": 20, \"prop\": \"psi\", \"value\": 0.12124019116163254}, {\"variable\": \"x0\", \"n_iter\": 21, \"prop\": \"psi\", \"value\": 0.11002980172634125}, {\"variable\": \"x1\", \"n_iter\": 21, \"prop\": \"psi\", \"value\": 0.10928022861480713}, {\"variable\": \"x2\", \"n_iter\": 21, \"prop\": \"psi\", \"value\": 0.1097344383597374}, {\"variable\": \"x0\", \"n_iter\": 22, \"prop\": \"psi\", \"value\": 0.09953781217336655}, {\"variable\": \"x1\", \"n_iter\": 22, \"prop\": \"psi\", \"value\": 0.09881153702735901}, {\"variable\": \"x2\", \"n_iter\": 22, \"prop\": \"psi\", \"value\": 0.09924265742301941}, {\"variable\": \"x0\", \"n_iter\": 23, \"prop\": \"psi\", \"value\": 0.08998528122901917}, {\"variable\": \"x1\", \"n_iter\": 23, \"prop\": \"psi\", \"value\": 0.08928412199020386}, {\"variable\": \"x2\", \"n_iter\": 23, \"prop\": \"psi\", \"value\": 0.0896882489323616}, {\"variable\": \"x0\", \"n_iter\": 24, \"prop\": \"psi\", \"value\": 0.0812995657324791}, {\"variable\": \"x1\", \"n_iter\": 24, \"prop\": \"psi\", \"value\": 0.08062631636857986}, {\"variable\": \"x2\", \"n_iter\": 24, \"prop\": \"psi\", \"value\": 0.08100070804357529}, {\"variable\": \"x0\", \"n_iter\": 25, \"prop\": \"psi\", \"value\": 0.07341085374355316}, {\"variable\": \"x1\", \"n_iter\": 25, \"prop\": \"psi\", \"value\": 0.07276833802461624}, {\"variable\": \"x2\", \"n_iter\": 25, \"prop\": \"psi\", \"value\": 0.07311089336872101}, {\"variable\": \"x0\", \"n_iter\": 26, \"prop\": \"psi\", \"value\": 0.06625355035066605}, {\"variable\": \"x1\", \"n_iter\": 26, \"prop\": \"psi\", \"value\": 0.06564238667488098}, {\"variable\": \"x2\", \"n_iter\": 26, \"prop\": \"psi\", \"value\": 0.06595251709222794}, {\"variable\": \"x0\", \"n_iter\": 27, \"prop\": \"psi\", \"value\": 0.0597664974629879}, {\"variable\": \"x1\", \"n_iter\": 27, \"prop\": \"psi\", \"value\": 0.059185147285461426}, {\"variable\": \"x2\", \"n_iter\": 27, \"prop\": \"psi\", \"value\": 0.05946531146764755}, {\"variable\": \"x0\", \"n_iter\": 28, \"prop\": \"psi\", \"value\": 0.053892381489276886}, {\"variable\": \"x1\", \"n_iter\": 28, \"prop\": \"psi\", \"value\": 0.05333968997001648}, {\"variable\": \"x2\", \"n_iter\": 28, \"prop\": \"psi\", \"value\": 0.05359339341521263}, {\"variable\": \"x0\", \"n_iter\": 29, \"prop\": \"psi\", \"value\": 0.04857814684510231}, {\"variable\": \"x1\", \"n_iter\": 29, \"prop\": \"psi\", \"value\": 0.04805341362953186}, {\"variable\": \"x2\", \"n_iter\": 29, \"prop\": \"psi\", \"value\": 0.04828291013836861}, {\"variable\": \"x0\", \"n_iter\": 30, \"prop\": \"psi\", \"value\": 0.043774113059043884}, {\"variable\": \"x1\", \"n_iter\": 30, \"prop\": \"psi\", \"value\": 0.043275944888591766}, {\"variable\": \"x2\", \"n_iter\": 30, \"prop\": \"psi\", \"value\": 0.043483078479766846}, {\"variable\": \"x0\", \"n_iter\": 31, \"prop\": \"psi\", \"value\": 0.039434242993593216}, {\"variable\": \"x1\", \"n_iter\": 31, \"prop\": \"psi\", \"value\": 0.03896160423755646}, {\"variable\": \"x2\", \"n_iter\": 31, \"prop\": \"psi\", \"value\": 0.03914767503738403}, {\"variable\": \"x0\", \"n_iter\": 32, \"prop\": \"psi\", \"value\": 0.035516295582056046}, {\"variable\": \"x1\", \"n_iter\": 32, \"prop\": \"psi\", \"value\": 0.03506916016340256}, {\"variable\": \"x2\", \"n_iter\": 32, \"prop\": \"psi\", \"value\": 0.03523479402065277}, {\"variable\": \"x0\", \"n_iter\": 33, \"prop\": \"psi\", \"value\": 0.03198133781552315}, {\"variable\": \"x1\", \"n_iter\": 33, \"prop\": \"psi\", \"value\": 0.03155891224741936}, {\"variable\": \"x2\", \"n_iter\": 33, \"prop\": \"psi\", \"value\": 0.03170568495988846}, {\"variable\": \"x0\", \"n_iter\": 34, \"prop\": \"psi\", \"value\": 0.02879374474287033}, {\"variable\": \"x1\", \"n_iter\": 34, \"prop\": \"psi\", \"value\": 0.02839423343539238}, {\"variable\": \"x2\", \"n_iter\": 34, \"prop\": \"psi\", \"value\": 0.028524313122034073}, {\"variable\": \"x0\", \"n_iter\": 35, \"prop\": \"psi\", \"value\": 0.02592064067721367}, {\"variable\": \"x1\", \"n_iter\": 35, \"prop\": \"psi\", \"value\": 0.02554268203675747}, {\"variable\": \"x2\", \"n_iter\": 35, \"prop\": \"psi\", \"value\": 0.025658318772912025}, {\"variable\": \"x0\", \"n_iter\": 36, \"prop\": \"psi\", \"value\": 0.02333209104835987}, {\"variable\": \"x1\", \"n_iter\": 36, \"prop\": \"psi\", \"value\": 0.022974437102675438}, {\"variable\": \"x2\", \"n_iter\": 36, \"prop\": \"psi\", \"value\": 0.02307800203561783}, {\"variable\": \"x0\", \"n_iter\": 37, \"prop\": \"psi\", \"value\": 0.02100081741809845}, {\"variable\": \"x1\", \"n_iter\": 37, \"prop\": \"psi\", \"value\": 0.020662138238549232}, {\"variable\": \"x2\", \"n_iter\": 37, \"prop\": \"psi\", \"value\": 0.020755184814333916}, {\"variable\": \"x0\", \"n_iter\": 38, \"prop\": \"psi\", \"value\": 0.018902041018009186}, {\"variable\": \"x1\", \"n_iter\": 38, \"prop\": \"psi\", \"value\": 0.018581213429570198}, {\"variable\": \"x2\", \"n_iter\": 38, \"prop\": \"psi\", \"value\": 0.018665026873350143}, {\"variable\": \"x0\", \"n_iter\": 39, \"prop\": \"psi\", \"value\": 0.017013054341077805}, {\"variable\": \"x1\", \"n_iter\": 39, \"prop\": \"psi\", \"value\": 0.016709227114915848}, {\"variable\": \"x2\", \"n_iter\": 39, \"prop\": \"psi\", \"value\": 0.016784854233264923}, {\"variable\": \"x0\", \"n_iter\": 40, \"prop\": \"psi\", \"value\": 0.01531332079321146}, {\"variable\": \"x1\", \"n_iter\": 40, \"prop\": \"psi\", \"value\": 0.015025333501398563}, {\"variable\": \"x2\", \"n_iter\": 40, \"prop\": \"psi\", \"value\": 0.015093954280018806}, {\"variable\": \"x0\", \"n_iter\": 41, \"prop\": \"psi\", \"value\": 0.013784238137304783}, {\"variable\": \"x1\", \"n_iter\": 41, \"prop\": \"psi\", \"value\": 0.01351112499833107}, {\"variable\": \"x2\", \"n_iter\": 41, \"prop\": \"psi\", \"value\": 0.013573828153312206}, {\"variable\": \"x0\", \"n_iter\": 42, \"prop\": \"psi\", \"value\": 0.012408892624080181}, {\"variable\": \"x1\", \"n_iter\": 42, \"prop\": \"psi\", \"value\": 0.012149636633694172}, {\"variable\": \"x2\", \"n_iter\": 42, \"prop\": \"psi\", \"value\": 0.012207436375319958}, {\"variable\": \"x0\", \"n_iter\": 43, \"prop\": \"psi\", \"value\": 0.011172033846378326}, {\"variable\": \"x1\", \"n_iter\": 43, \"prop\": \"psi\", \"value\": 0.010925764217972755}, {\"variable\": \"x2\", \"n_iter\": 43, \"prop\": \"psi\", \"value\": 0.010979373008012772}, {\"variable\": \"x0\", \"n_iter\": 44, \"prop\": \"psi\", \"value\": 0.010059899650514126}, {\"variable\": \"x1\", \"n_iter\": 44, \"prop\": \"psi\", \"value\": 0.0098256915807724}, {\"variable\": \"x2\", \"n_iter\": 44, \"prop\": \"psi\", \"value\": 0.009875919669866562}, {\"variable\": \"x0\", \"n_iter\": 45, \"prop\": \"psi\", \"value\": 0.009059935808181763}, {\"variable\": \"x1\", \"n_iter\": 45, \"prop\": \"psi\", \"value\": 0.008836898021399975}, {\"variable\": \"x2\", \"n_iter\": 45, \"prop\": \"psi\", \"value\": 0.008884494192898273}, {\"variable\": \"x0\", \"n_iter\": 46, \"prop\": \"psi\", \"value\": 0.008160893805325031}, {\"variable\": \"x1\", \"n_iter\": 46, \"prop\": \"psi\", \"value\": 0.007948264479637146}, {\"variable\": \"x2\", \"n_iter\": 46, \"prop\": \"psi\", \"value\": 0.007993890903890133}, {\"variable\": \"x0\", \"n_iter\": 47, \"prop\": \"psi\", \"value\": 0.007352651562541723}, {\"variable\": \"x1\", \"n_iter\": 47, \"prop\": \"psi\", \"value\": 0.0071496376767754555}, {\"variable\": \"x2\", \"n_iter\": 47, \"prop\": \"psi\", \"value\": 0.007193781901150942}, {\"variable\": \"x0\", \"n_iter\": 48, \"prop\": \"psi\", \"value\": 0.006626059301197529}, {\"variable\": \"x1\", \"n_iter\": 48, \"prop\": \"psi\", \"value\": 0.006432055030018091}, {\"variable\": \"x2\", \"n_iter\": 48, \"prop\": \"psi\", \"value\": 0.006475032307207584}, {\"variable\": \"x0\", \"n_iter\": 49, \"prop\": \"psi\", \"value\": 0.005972986109554768}, {\"variable\": \"x1\", \"n_iter\": 49, \"prop\": \"psi\", \"value\": 0.005787198897451162}, {\"variable\": \"x2\", \"n_iter\": 49, \"prop\": \"psi\", \"value\": 0.0058293710462749004}, {\"variable\": \"x0\", \"n_iter\": 50, \"prop\": \"psi\", \"value\": 0.005386007484048605}, {\"variable\": \"x1\", \"n_iter\": 50, \"prop\": \"psi\", \"value\": 0.0052076405845582485}, {\"variable\": \"x2\", \"n_iter\": 50, \"prop\": \"psi\", \"value\": 0.005249585956335068}, {\"variable\": \"x0\", \"n_iter\": 51, \"prop\": \"psi\", \"value\": 0.004858790431171656}, {\"variable\": \"x1\", \"n_iter\": 51, \"prop\": \"psi\", \"value\": 0.004686785861849785}, {\"variable\": \"x2\", \"n_iter\": 51, \"prop\": \"psi\", \"value\": 0.004728921689093113}, {\"variable\": \"x0\", \"n_iter\": 52, \"prop\": \"psi\", \"value\": 0.0043847281485795975}, {\"variable\": \"x1\", \"n_iter\": 52, \"prop\": \"psi\", \"value\": 0.004218703135848045}, {\"variable\": \"x2\", \"n_iter\": 52, \"prop\": \"psi\", \"value\": 0.004261177033185959}, {\"variable\": \"x0\", \"n_iter\": 53, \"prop\": \"psi\", \"value\": 0.003958430606871843}, {\"variable\": \"x1\", \"n_iter\": 53, \"prop\": \"psi\", \"value\": 0.0037979818880558014}, {\"variable\": \"x2\", \"n_iter\": 53, \"prop\": \"psi\", \"value\": 0.0038410727865993977}, {\"variable\": \"x0\", \"n_iter\": 54, \"prop\": \"psi\", \"value\": 0.0035753955598920584}, {\"variable\": \"x1\", \"n_iter\": 54, \"prop\": \"psi\", \"value\": 0.0034198316279798746}, {\"variable\": \"x2\", \"n_iter\": 54, \"prop\": \"psi\", \"value\": 0.0034637057688087225}, {\"variable\": \"x0\", \"n_iter\": 55, \"prop\": \"psi\", \"value\": 0.0032309284433722496}, {\"variable\": \"x1\", \"n_iter\": 55, \"prop\": \"psi\", \"value\": 0.003079979447647929}, {\"variable\": \"x2\", \"n_iter\": 55, \"prop\": \"psi\", \"value\": 0.003124638693407178}, {\"variable\": \"x0\", \"n_iter\": 56, \"prop\": \"psi\", \"value\": 0.0029210534412413836}, {\"variable\": \"x1\", \"n_iter\": 56, \"prop\": \"psi\", \"value\": 0.00277447747066617}, {\"variable\": \"x2\", \"n_iter\": 56, \"prop\": \"psi\", \"value\": 0.002820050111040473}, {\"variable\": \"x0\", \"n_iter\": 57, \"prop\": \"psi\", \"value\": 0.0026424224488437176}, {\"variable\": \"x1\", \"n_iter\": 57, \"prop\": \"psi\", \"value\": 0.0024998164735734463}, {\"variable\": \"x2\", \"n_iter\": 57, \"prop\": \"psi\", \"value\": 0.002546450821682811}, {\"variable\": \"x0\", \"n_iter\": 58, \"prop\": \"psi\", \"value\": 0.002391827292740345}, {\"variable\": \"x1\", \"n_iter\": 58, \"prop\": \"psi\", \"value\": 0.0022528429981321096}, {\"variable\": \"x2\", \"n_iter\": 58, \"prop\": \"psi\", \"value\": 0.002300690859556198}, {\"variable\": \"x0\", \"n_iter\": 59, \"prop\": \"psi\", \"value\": 0.0021664341911673546}, {\"variable\": \"x1\", \"n_iter\": 59, \"prop\": \"psi\", \"value\": 0.0020307565573602915}, {\"variable\": \"x2\", \"n_iter\": 59, \"prop\": \"psi\", \"value\": 0.002079776721075177}, {\"variable\": \"x0\", \"n_iter\": 60, \"prop\": \"psi\", \"value\": 0.0019636431243270636}, {\"variable\": \"x1\", \"n_iter\": 60, \"prop\": \"psi\", \"value\": 0.0018311119638383389}, {\"variable\": \"x2\", \"n_iter\": 60, \"prop\": \"psi\", \"value\": 0.0018812267808243632}, {\"variable\": \"x0\", \"n_iter\": 61, \"prop\": \"psi\", \"value\": 0.0017811742145568132}, {\"variable\": \"x1\", \"n_iter\": 61, \"prop\": \"psi\", \"value\": 0.001651750528253615}, {\"variable\": \"x2\", \"n_iter\": 61, \"prop\": \"psi\", \"value\": 0.001703013083897531}, {\"variable\": \"x0\", \"n_iter\": 62, \"prop\": \"psi\", \"value\": 0.0016170409508049488}, {\"variable\": \"x1\", \"n_iter\": 62, \"prop\": \"psi\", \"value\": 0.001490892143920064}, {\"variable\": \"x2\", \"n_iter\": 62, \"prop\": \"psi\", \"value\": 0.0015430506318807602}, {\"variable\": \"x0\", \"n_iter\": 63, \"prop\": \"psi\", \"value\": 0.0014694631099700928}, {\"variable\": \"x1\", \"n_iter\": 63, \"prop\": \"psi\", \"value\": 0.001346177188679576}, {\"variable\": \"x2\", \"n_iter\": 63, \"prop\": \"psi\", \"value\": 0.0013991872547194362}, {\"variable\": \"x0\", \"n_iter\": 64, \"prop\": \"psi\", \"value\": 0.0013367843348532915}, {\"variable\": \"x1\", \"n_iter\": 64, \"prop\": \"psi\", \"value\": 0.0012158291647210717}, {\"variable\": \"x2\", \"n_iter\": 64, \"prop\": \"psi\", \"value\": 0.0012700019869953394}, {\"variable\": \"x0\", \"n_iter\": 65, \"prop\": \"psi\", \"value\": 0.001217671437188983}, {\"variable\": \"x1\", \"n_iter\": 65, \"prop\": \"psi\", \"value\": 0.0010985081316903234}, {\"variable\": \"x2\", \"n_iter\": 65, \"prop\": \"psi\", \"value\": 0.001154240220785141}, {\"variable\": \"x0\", \"n_iter\": 66, \"prop\": \"psi\", \"value\": 0.001110569923184812}, {\"variable\": \"x1\", \"n_iter\": 66, \"prop\": \"psi\", \"value\": 0.0009928216459229589}, {\"variable\": \"x2\", \"n_iter\": 66, \"prop\": \"psi\", \"value\": 0.0010502092773094773}, {\"variable\": \"x0\", \"n_iter\": 67, \"prop\": \"psi\", \"value\": 0.0010141885140910745}, {\"variable\": \"x1\", \"n_iter\": 67, \"prop\": \"psi\", \"value\": 0.000897695601452142}, {\"variable\": \"x2\", \"n_iter\": 67, \"prop\": \"psi\", \"value\": 0.0009565704385749996}, {\"variable\": \"x0\", \"n_iter\": 68, \"prop\": \"psi\", \"value\": 0.000927492044866085}, {\"variable\": \"x1\", \"n_iter\": 68, \"prop\": \"psi\", \"value\": 0.0008122181752696633}, {\"variable\": \"x2\", \"n_iter\": 68, \"prop\": \"psi\", \"value\": 0.0008725440129637718}, {\"variable\": \"x0\", \"n_iter\": 69, \"prop\": \"psi\", \"value\": 0.0008495068177580833}, {\"variable\": \"x1\", \"n_iter\": 69, \"prop\": \"psi\", \"value\": 0.0007351987878791988}, {\"variable\": \"x2\", \"n_iter\": 69, \"prop\": \"psi\", \"value\": 0.0007969771977514029}, {\"variable\": \"x0\", \"n_iter\": 70, \"prop\": \"psi\", \"value\": 0.0007793983677402139}, {\"variable\": \"x1\", \"n_iter\": 70, \"prop\": \"psi\", \"value\": 0.0006658249767497182}, {\"variable\": \"x2\", \"n_iter\": 70, \"prop\": \"psi\", \"value\": 0.0007289132918231189}, {\"variable\": \"x0\", \"n_iter\": 71, \"prop\": \"psi\", \"value\": 0.0007164240814745426}, {\"variable\": \"x1\", \"n_iter\": 71, \"prop\": \"psi\", \"value\": 0.0006035961559973657}, {\"variable\": \"x2\", \"n_iter\": 71, \"prop\": \"psi\", \"value\": 0.0006677613127976656}, {\"variable\": \"x0\", \"n_iter\": 72, \"prop\": \"psi\", \"value\": 0.0006600276101380587}, {\"variable\": \"x1\", \"n_iter\": 72, \"prop\": \"psi\", \"value\": 0.0005476341466419399}, {\"variable\": \"x2\", \"n_iter\": 72, \"prop\": \"psi\", \"value\": 0.0006126818479970098}, {\"variable\": \"x0\", \"n_iter\": 73, \"prop\": \"psi\", \"value\": 0.0006096992874518037}, {\"variable\": \"x1\", \"n_iter\": 73, \"prop\": \"psi\", \"value\": 0.0004971235757693648}, {\"variable\": \"x2\", \"n_iter\": 73, \"prop\": \"psi\", \"value\": 0.0005632523680105805}, {\"variable\": \"x0\", \"n_iter\": 74, \"prop\": \"psi\", \"value\": 0.0005649006925523281}, {\"variable\": \"x1\", \"n_iter\": 74, \"prop\": \"psi\", \"value\": 0.0004515222681220621}, {\"variable\": \"x2\", \"n_iter\": 74, \"prop\": \"psi\", \"value\": 0.0005191246164031327}, {\"variable\": \"x0\", \"n_iter\": 75, \"prop\": \"psi\", \"value\": 0.0005246169166639447}, {\"variable\": \"x1\", \"n_iter\": 75, \"prop\": \"psi\", \"value\": 0.00041038007475435734}, {\"variable\": \"x2\", \"n_iter\": 75, \"prop\": \"psi\", \"value\": 0.00047944526886567473}, {\"variable\": \"x0\", \"n_iter\": 76, \"prop\": \"psi\", \"value\": 0.0004886512761004269}, {\"variable\": \"x1\", \"n_iter\": 76, \"prop\": \"psi\", \"value\": 0.0003732510667759925}, {\"variable\": \"x2\", \"n_iter\": 76, \"prop\": \"psi\", \"value\": 0.00044377322774380445}, {\"variable\": \"x0\", \"n_iter\": 77, \"prop\": \"psi\", \"value\": 0.00045683846110478044}, {\"variable\": \"x1\", \"n_iter\": 77, \"prop\": \"psi\", \"value\": 0.0003397318650968373}, {\"variable\": \"x2\", \"n_iter\": 77, \"prop\": \"psi\", \"value\": 0.0004118439683225006}, {\"variable\": \"x0\", \"n_iter\": 78, \"prop\": \"psi\", \"value\": 0.0004282919690012932}, {\"variable\": \"x1\", \"n_iter\": 78, \"prop\": \"psi\", \"value\": 0.00030947435880079865}, {\"variable\": \"x2\", \"n_iter\": 78, \"prop\": \"psi\", \"value\": 0.0003830762580037117}, {\"variable\": \"x0\", \"n_iter\": 79, \"prop\": \"psi\", \"value\": 0.0004029447154607624}, {\"variable\": \"x1\", \"n_iter\": 79, \"prop\": \"psi\", \"value\": 0.0002821701637003571}, {\"variable\": \"x2\", \"n_iter\": 79, \"prop\": \"psi\", \"value\": 0.00035727309295907617}, {\"variable\": \"x0\", \"n_iter\": 80, \"prop\": \"psi\", \"value\": 0.00038069940637797117}, {\"variable\": \"x1\", \"n_iter\": 80, \"prop\": \"psi\", \"value\": 0.0002575382241047919}, {\"variable\": \"x2\", \"n_iter\": 80, \"prop\": \"psi\", \"value\": 0.00033411680487915874}, {\"variable\": \"x0\", \"n_iter\": 81, \"prop\": \"psi\", \"value\": 0.00036086590262129903}, {\"variable\": \"x1\", \"n_iter\": 81, \"prop\": \"psi\", \"value\": 0.000235326326219365}, {\"variable\": \"x2\", \"n_iter\": 81, \"prop\": \"psi\", \"value\": 0.0003132699057459831}, {\"variable\": \"x0\", \"n_iter\": 82, \"prop\": \"psi\", \"value\": 0.0003432962403167039}, {\"variable\": \"x1\", \"n_iter\": 82, \"prop\": \"psi\", \"value\": 0.00021530814410652965}, {\"variable\": \"x2\", \"n_iter\": 82, \"prop\": \"psi\", \"value\": 0.0002948372275568545}, {\"variable\": \"x0\", \"n_iter\": 83, \"prop\": \"psi\", \"value\": 0.00032780953915789723}, {\"variable\": \"x1\", \"n_iter\": 83, \"prop\": \"psi\", \"value\": 0.00019730604253709316}, {\"variable\": \"x2\", \"n_iter\": 83, \"prop\": \"psi\", \"value\": 0.00027853509527631104}, {\"variable\": \"x0\", \"n_iter\": 84, \"prop\": \"psi\", \"value\": 0.00031435699202120304}, {\"variable\": \"x1\", \"n_iter\": 84, \"prop\": \"psi\", \"value\": 0.00018112598627340049}, {\"variable\": \"x2\", \"n_iter\": 84, \"prop\": \"psi\", \"value\": 0.00026388323749415576}, {\"variable\": \"x0\", \"n_iter\": 85, \"prop\": \"psi\", \"value\": 0.0003030967782251537}, {\"variable\": \"x1\", \"n_iter\": 85, \"prop\": \"psi\", \"value\": 0.0001665449672145769}, {\"variable\": \"x2\", \"n_iter\": 85, \"prop\": \"psi\", \"value\": 0.0002507401804905385}, {\"variable\": \"x0\", \"n_iter\": 86, \"prop\": \"psi\", \"value\": 0.00029353846912272274}, {\"variable\": \"x1\", \"n_iter\": 86, \"prop\": \"psi\", \"value\": 0.00015333127521444112}, {\"variable\": \"x2\", \"n_iter\": 86, \"prop\": \"psi\", \"value\": 0.00023894650803413242}, {\"variable\": \"x0\", \"n_iter\": 87, \"prop\": \"psi\", \"value\": 0.00028553366428241134}, {\"variable\": \"x1\", \"n_iter\": 87, \"prop\": \"psi\", \"value\": 0.00014136283425614238}, {\"variable\": \"x2\", \"n_iter\": 87, \"prop\": \"psi\", \"value\": 0.0002283683279529214}, {\"variable\": \"x0\", \"n_iter\": 88, \"prop\": \"psi\", \"value\": 0.0002792704326566309}, {\"variable\": \"x1\", \"n_iter\": 88, \"prop\": \"psi\", \"value\": 0.00013056027819402516}, {\"variable\": \"x2\", \"n_iter\": 88, \"prop\": \"psi\", \"value\": 0.0002189293591072783}, {\"variable\": \"x0\", \"n_iter\": 89, \"prop\": \"psi\", \"value\": 0.00027433325885795057}, {\"variable\": \"x1\", \"n_iter\": 89, \"prop\": \"psi\", \"value\": 0.00012078320287400857}, {\"variable\": \"x2\", \"n_iter\": 89, \"prop\": \"psi\", \"value\": 0.00021051849762443453}, {\"variable\": \"x0\", \"n_iter\": 90, \"prop\": \"psi\", \"value\": 0.00027070051874034107}, {\"variable\": \"x1\", \"n_iter\": 90, \"prop\": \"psi\", \"value\": 0.0001118990549002774}, {\"variable\": \"x2\", \"n_iter\": 90, \"prop\": \"psi\", \"value\": 0.00020315145957283676}, {\"variable\": \"x0\", \"n_iter\": 91, \"prop\": \"psi\", \"value\": 0.00026837989571504295}, {\"variable\": \"x1\", \"n_iter\": 91, \"prop\": \"psi\", \"value\": 0.0001038204864016734}, {\"variable\": \"x2\", \"n_iter\": 91, \"prop\": \"psi\", \"value\": 0.00019671164045576006}, {\"variable\": \"x0\", \"n_iter\": 92, \"prop\": \"psi\", \"value\": 0.0002671494730748236}, {\"variable\": \"x1\", \"n_iter\": 92, \"prop\": \"psi\", \"value\": 9.64723076322116e-05}, {\"variable\": \"x2\", \"n_iter\": 92, \"prop\": \"psi\", \"value\": 0.00019101909128949046}, {\"variable\": \"x0\", \"n_iter\": 93, \"prop\": \"psi\", \"value\": 0.00026716222055256367}, {\"variable\": \"x1\", \"n_iter\": 93, \"prop\": \"psi\", \"value\": 8.978613186627626e-05}, {\"variable\": \"x2\", \"n_iter\": 93, \"prop\": \"psi\", \"value\": 0.000186135497642681}, {\"variable\": \"x0\", \"n_iter\": 94, \"prop\": \"psi\", \"value\": 0.0002682535268831998}, {\"variable\": \"x1\", \"n_iter\": 94, \"prop\": \"psi\", \"value\": 8.37052139104344e-05}, {\"variable\": \"x2\", \"n_iter\": 94, \"prop\": \"psi\", \"value\": 0.00018200483464170247}, {\"variable\": \"x0\", \"n_iter\": 95, \"prop\": \"psi\", \"value\": 0.00027047807816416025}, {\"variable\": \"x1\", \"n_iter\": 95, \"prop\": \"psi\", \"value\": 7.818204903742298e-05}, {\"variable\": \"x2\", \"n_iter\": 95, \"prop\": \"psi\", \"value\": 0.00017841492081061006}, {\"variable\": \"x0\", \"n_iter\": 96, \"prop\": \"psi\", \"value\": 0.00027411855990067124}, {\"variable\": \"x1\", \"n_iter\": 96, \"prop\": \"psi\", \"value\": 7.315873517654836e-05}, {\"variable\": \"x2\", \"n_iter\": 96, \"prop\": \"psi\", \"value\": 0.00017529635806567967}, {\"variable\": \"x0\", \"n_iter\": 97, \"prop\": \"psi\", \"value\": 0.00027881062123924494}, {\"variable\": \"x1\", \"n_iter\": 97, \"prop\": \"psi\", \"value\": 6.85727791278623e-05}, {\"variable\": \"x2\", \"n_iter\": 97, \"prop\": \"psi\", \"value\": 0.00017261739412788302}, {\"variable\": \"x0\", \"n_iter\": 98, \"prop\": \"psi\", \"value\": 0.00028462926275096834}, {\"variable\": \"x1\", \"n_iter\": 98, \"prop\": \"psi\", \"value\": 6.437695992644876e-05}, {\"variable\": \"x2\", \"n_iter\": 98, \"prop\": \"psi\", \"value\": 0.00017038994701579213}, {\"variable\": \"x0\", \"n_iter\": 99, \"prop\": \"psi\", \"value\": 0.00029165411251597106}, {\"variable\": \"x1\", \"n_iter\": 99, \"prop\": \"psi\", \"value\": 6.053657125448808e-05}, {\"variable\": \"x2\", \"n_iter\": 99, \"prop\": \"psi\", \"value\": 0.0001685211609583348}], \"data-ee29adc4f1a6e39dd6c70115c86b4ea2\": [{\"info\": \"likelihood\", \"n_iter\": 0, \"prop\": \"noise\", \"value\": 0.6932471990585327}, {\"info\": \"likelihood\", \"n_iter\": 1, \"prop\": \"noise\", \"value\": 0.6444966793060303}, {\"info\": \"likelihood\", \"n_iter\": 2, \"prop\": \"noise\", \"value\": 0.5981821417808533}, {\"info\": \"likelihood\", \"n_iter\": 3, \"prop\": \"noise\", \"value\": 0.5542723536491394}, {\"info\": \"likelihood\", \"n_iter\": 4, \"prop\": \"noise\", \"value\": 0.5127414464950562}, {\"info\": \"likelihood\", \"n_iter\": 5, \"prop\": \"noise\", \"value\": 0.4735575020313263}, {\"info\": \"likelihood\", \"n_iter\": 6, \"prop\": \"noise\", \"value\": 0.4366779625415802}, {\"info\": \"likelihood\", \"n_iter\": 7, \"prop\": \"noise\", \"value\": 0.4020439088344574}, {\"info\": \"likelihood\", \"n_iter\": 8, \"prop\": \"noise\", \"value\": 0.3695835471153259}, {\"info\": \"likelihood\", \"n_iter\": 9, \"prop\": \"noise\", \"value\": 0.3392212390899658}, {\"info\": \"likelihood\", \"n_iter\": 10, \"prop\": \"noise\", \"value\": 0.31088319420814514}, {\"info\": \"likelihood\", \"n_iter\": 11, \"prop\": \"noise\", \"value\": 0.28449761867523193}, {\"info\": \"likelihood\", \"n_iter\": 12, \"prop\": \"noise\", \"value\": 0.25999099016189575}, {\"info\": \"likelihood\", \"n_iter\": 13, \"prop\": \"noise\", \"value\": 0.2372841089963913}, {\"info\": \"likelihood\", \"n_iter\": 14, \"prop\": \"noise\", \"value\": 0.21629096567630768}, {\"info\": \"likelihood\", \"n_iter\": 15, \"prop\": \"noise\", \"value\": 0.19692076742649078}, {\"info\": \"likelihood\", \"n_iter\": 16, \"prop\": \"noise\", \"value\": 0.17908136546611786}, {\"info\": \"likelihood\", \"n_iter\": 17, \"prop\": \"noise\", \"value\": 0.16268238425254822}, {\"info\": \"likelihood\", \"n_iter\": 18, \"prop\": \"noise\", \"value\": 0.1476365029811859}, {\"info\": \"likelihood\", \"n_iter\": 19, \"prop\": \"noise\", \"value\": 0.13385836780071259}, {\"info\": \"likelihood\", \"n_iter\": 20, \"prop\": \"noise\", \"value\": 0.12126267701387405}, {\"info\": \"likelihood\", \"n_iter\": 21, \"prop\": \"noise\", \"value\": 0.10976434499025345}, {\"info\": \"likelihood\", \"n_iter\": 22, \"prop\": \"noise\", \"value\": 0.09928147494792938}, {\"info\": \"likelihood\", \"n_iter\": 23, \"prop\": \"noise\", \"value\": 0.08973793685436249}, {\"info\": \"likelihood\", \"n_iter\": 24, \"prop\": \"noise\", \"value\": 0.08106207102537155}, {\"info\": \"likelihood\", \"n_iter\": 25, \"prop\": \"noise\", \"value\": 0.07318434119224548}, {\"info\": \"likelihood\", \"n_iter\": 26, \"prop\": \"noise\", \"value\": 0.06603816896677017}, {\"info\": \"likelihood\", \"n_iter\": 27, \"prop\": \"noise\", \"value\": 0.05956195667386055}, {\"info\": \"likelihood\", \"n_iter\": 28, \"prop\": \"noise\", \"value\": 0.053699005395174026}, {\"info\": \"likelihood\", \"n_iter\": 29, \"prop\": \"noise\", \"value\": 0.04839615151286125}, {\"info\": \"likelihood\", \"n_iter\": 30, \"prop\": \"noise\", \"value\": 0.04360312223434448}, {\"info\": \"likelihood\", \"n_iter\": 31, \"prop\": \"noise\", \"value\": 0.039273928850889206}, {\"info\": \"likelihood\", \"n_iter\": 32, \"prop\": \"noise\", \"value\": 0.035366788506507874}, {\"info\": \"likelihood\", \"n_iter\": 33, \"prop\": \"noise\", \"value\": 0.031842585653066635}, {\"info\": \"likelihood\", \"n_iter\": 34, \"prop\": \"noise\", \"value\": 0.02866520546376705}, {\"info\": \"likelihood\", \"n_iter\": 35, \"prop\": \"noise\", \"value\": 0.025802113115787506}, {\"info\": \"likelihood\", \"n_iter\": 36, \"prop\": \"noise\", \"value\": 0.02322348579764366}, {\"info\": \"likelihood\", \"n_iter\": 37, \"prop\": \"noise\", \"value\": 0.020901726558804512}, {\"info\": \"likelihood\", \"n_iter\": 38, \"prop\": \"noise\", \"value\": 0.018812105059623718}, {\"info\": \"likelihood\", \"n_iter\": 39, \"prop\": \"noise\", \"value\": 0.016932018101215363}, {\"info\": \"likelihood\", \"n_iter\": 40, \"prop\": \"noise\", \"value\": 0.015240779146552086}, {\"info\": \"likelihood\", \"n_iter\": 41, \"prop\": \"noise\", \"value\": 0.013719878159463406}, {\"info\": \"likelihood\", \"n_iter\": 42, \"prop\": \"noise\", \"value\": 0.012352345511317253}, {\"info\": \"likelihood\", \"n_iter\": 43, \"prop\": \"noise\", \"value\": 0.011122934520244598}, {\"info\": \"likelihood\", \"n_iter\": 44, \"prop\": \"noise\", \"value\": 0.0100178774446249}, {\"info\": \"likelihood\", \"n_iter\": 45, \"prop\": \"noise\", \"value\": 0.009024630300700665}, {\"info\": \"likelihood\", \"n_iter\": 46, \"prop\": \"noise\", \"value\": 0.00813200045377016}, {\"info\": \"likelihood\", \"n_iter\": 47, \"prop\": \"noise\", \"value\": 0.007329787127673626}, {\"info\": \"likelihood\", \"n_iter\": 48, \"prop\": \"noise\", \"value\": 0.0066089085303246975}, {\"info\": \"likelihood\", \"n_iter\": 49, \"prop\": \"noise\", \"value\": 0.005961124785244465}, {\"info\": \"likelihood\", \"n_iter\": 50, \"prop\": \"noise\", \"value\": 0.005379083100706339}, {\"info\": \"likelihood\", \"n_iter\": 51, \"prop\": \"noise\", \"value\": 0.004856215789914131}, {\"info\": \"likelihood\", \"n_iter\": 52, \"prop\": \"noise\", \"value\": 0.0043862867169082165}, {\"info\": \"likelihood\", \"n_iter\": 53, \"prop\": \"noise\", \"value\": 0.003963936120271683}, {\"info\": \"likelihood\", \"n_iter\": 54, \"prop\": \"noise\", \"value\": 0.003584424965083599}, {\"info\": \"likelihood\", \"n_iter\": 55, \"prop\": \"noise\", \"value\": 0.0032432940788567066}, {\"info\": \"likelihood\", \"n_iter\": 56, \"prop\": \"noise\", \"value\": 0.002936628647148609}, {\"info\": \"likelihood\", \"n_iter\": 57, \"prop\": \"noise\", \"value\": 0.002660976490005851}, {\"info\": \"likelihood\", \"n_iter\": 58, \"prop\": \"noise\", \"value\": 0.002413166454061866}, {\"info\": \"likelihood\", \"n_iter\": 59, \"prop\": \"noise\", \"value\": 0.002190322382375598}, {\"info\": \"likelihood\", \"n_iter\": 60, \"prop\": \"noise\", \"value\": 0.0019899390172213316}, {\"info\": \"likelihood\", \"n_iter\": 61, \"prop\": \"noise\", \"value\": 0.001809865003451705}, {\"info\": \"likelihood\", \"n_iter\": 62, \"prop\": \"noise\", \"value\": 0.001648157020099461}, {\"info\": \"likelihood\", \"n_iter\": 63, \"prop\": \"noise\", \"value\": 0.0015026970067992806}, {\"info\": \"likelihood\", \"n_iter\": 64, \"prop\": \"noise\", \"value\": 0.0013718593399971724}, {\"info\": \"likelihood\", \"n_iter\": 65, \"prop\": \"noise\", \"value\": 0.001254330389201641}, {\"info\": \"likelihood\", \"n_iter\": 66, \"prop\": \"noise\", \"value\": 0.0011485668364912271}, {\"info\": \"likelihood\", \"n_iter\": 67, \"prop\": \"noise\", \"value\": 0.0010533424792811275}, {\"info\": \"likelihood\", \"n_iter\": 68, \"prop\": \"noise\", \"value\": 0.0009677534108050168}, {\"info\": \"likelihood\", \"n_iter\": 69, \"prop\": \"noise\", \"value\": 0.0008906787843443453}, {\"info\": \"likelihood\", \"n_iter\": 70, \"prop\": \"noise\", \"value\": 0.0008212508982978761}, {\"info\": \"likelihood\", \"n_iter\": 71, \"prop\": \"noise\", \"value\": 0.0007588745793327689}, {\"info\": \"likelihood\", \"n_iter\": 72, \"prop\": \"noise\", \"value\": 0.0007027682731859386}, {\"info\": \"likelihood\", \"n_iter\": 73, \"prop\": \"noise\", \"value\": 0.000652315269690007}, {\"info\": \"likelihood\", \"n_iter\": 74, \"prop\": \"noise\", \"value\": 0.0006070255185477436}, {\"info\": \"likelihood\", \"n_iter\": 75, \"prop\": \"noise\", \"value\": 0.0005661706090904772}, {\"info\": \"likelihood\", \"n_iter\": 76, \"prop\": \"noise\", \"value\": 0.0005293632275424898}, {\"info\": \"likelihood\", \"n_iter\": 77, \"prop\": \"noise\", \"value\": 0.0004962913226336241}, {\"info\": \"likelihood\", \"n_iter\": 78, \"prop\": \"noise\", \"value\": 0.0004664005828090012}, {\"info\": \"likelihood\", \"n_iter\": 79, \"prop\": \"noise\", \"value\": 0.000439467461546883}, {\"info\": \"likelihood\", \"n_iter\": 80, \"prop\": \"noise\", \"value\": 0.00041523290565237403}, {\"info\": \"likelihood\", \"n_iter\": 81, \"prop\": \"noise\", \"value\": 0.00039331993320956826}, {\"info\": \"likelihood\", \"n_iter\": 82, \"prop\": \"noise\", \"value\": 0.00037361119757406414}, {\"info\": \"likelihood\", \"n_iter\": 83, \"prop\": \"noise\", \"value\": 0.0003558966564014554}, {\"info\": \"likelihood\", \"n_iter\": 84, \"prop\": \"noise\", \"value\": 0.0003399294218979776}, {\"info\": \"likelihood\", \"n_iter\": 85, \"prop\": \"noise\", \"value\": 0.00032557034865021706}, {\"info\": \"likelihood\", \"n_iter\": 86, \"prop\": \"noise\", \"value\": 0.00031254507484845817}, {\"info\": \"likelihood\", \"n_iter\": 87, \"prop\": \"noise\", \"value\": 0.00030071905348449945}, {\"info\": \"likelihood\", \"n_iter\": 88, \"prop\": \"noise\", \"value\": 0.00029005538090132177}, {\"info\": \"likelihood\", \"n_iter\": 89, \"prop\": \"noise\", \"value\": 0.00028036898584105074}, {\"info\": \"likelihood\", \"n_iter\": 90, \"prop\": \"noise\", \"value\": 0.0002715661539696157}, {\"info\": \"likelihood\", \"n_iter\": 91, \"prop\": \"noise\", \"value\": 0.00026355634327046573}, {\"info\": \"likelihood\", \"n_iter\": 92, \"prop\": \"noise\", \"value\": 0.0002562166191637516}, {\"info\": \"likelihood\", \"n_iter\": 93, \"prop\": \"noise\", \"value\": 0.0002495264634490013}, {\"info\": \"likelihood\", \"n_iter\": 94, \"prop\": \"noise\", \"value\": 0.00024341323296539485}, {\"info\": \"likelihood\", \"n_iter\": 95, \"prop\": \"noise\", \"value\": 0.00023780515766702592}, {\"info\": \"likelihood\", \"n_iter\": 96, \"prop\": \"noise\", \"value\": 0.00023266513017006218}, {\"info\": \"likelihood\", \"n_iter\": 97, \"prop\": \"noise\", \"value\": 0.00022790106595493853}, {\"info\": \"likelihood\", \"n_iter\": 98, \"prop\": \"noise\", \"value\": 0.00022347940830513835}, {\"info\": \"likelihood\", \"n_iter\": 99, \"prop\": \"noise\", \"value\": 0.00021936041594017297}]}}, {\"mode\": \"vega-lite\"});\n",
       "</script>"
      ],
      "text/plain": [
       "alt.VConcatChart(...)"
      ]
     },
     "execution_count": null,
     "metadata": {},
     "output_type": "execute_result"
    }
   ],
   "source": [
    "l.plot_progress()"
   ]
  },
  {
   "cell_type": "code",
   "execution_count": null,
   "id": "9e20fcd0-f122-49fd-b919-fe4a077ee488",
   "metadata": {
    "pycharm": {
     "name": "#%%\n"
    }
   },
   "outputs": [],
   "source": [
    "self = l\n",
    "\n",
    "v =[]\n",
    "for info_name in self.model_infos[0].keys(): \n",
    "    values = pd.concat([info[info_name].assign(n_iter=i) for i, info in enumerate(self.model_infos)])\n",
    "    v.append(values)"
   ]
  },
  {
   "cell_type": "code",
   "execution_count": null,
   "id": "462ae4cc-af73-4f0e-9afb-ec40d623fbb4",
   "metadata": {
    "pycharm": {
     "name": "#%%\n"
    }
   },
   "outputs": [
    {
     "data": {
      "text/plain": [
       "[   variable        z0  n_iter\n",
       " 0        x0  0.538574       0\n",
       " 1        x1  0.298168       0\n",
       " 2        x2  0.833378       0\n",
       " 0        x0  0.638574       1\n",
       " 1        x1  0.398168       1\n",
       " ..      ...       ...     ...\n",
       " 1        x1  2.144966      98\n",
       " 2        x2  2.145648      98\n",
       " 0        x0  2.142248      99\n",
       " 1        x1  2.142784      99\n",
       " 2        x2  2.149678      99\n",
       " \n",
       " [300 rows x 3 columns],\n",
       "    latent  lengthscale  n_iter\n",
       " 0      z0     0.693147       0\n",
       " 0      z0     0.744397       1\n",
       " 0      z0     0.798212       2\n",
       " 0      z0     0.854631       3\n",
       " 0      z0     0.913641       4\n",
       " ..    ...          ...     ...\n",
       " 0      z0     5.219249      95\n",
       " 0      z0     5.233388      96\n",
       " 0      z0     5.247562      97\n",
       " 0      z0     5.261695      98\n",
       " 0      z0     5.275766      99\n",
       " \n",
       " [100 rows x 3 columns],\n",
       "    variable       psi  n_iter\n",
       " 0        x0  0.693147       0\n",
       " 1        x1  0.693147       0\n",
       " 2        x2  0.693147       0\n",
       " 0        x0  0.644397       1\n",
       " 1        x1  0.644397       1\n",
       " ..      ...       ...     ...\n",
       " 1        x1  0.000064      98\n",
       " 2        x2  0.000170      98\n",
       " 0        x0  0.000292      99\n",
       " 1        x1  0.000061      99\n",
       " 2        x2  0.000169      99\n",
       " \n",
       " [300 rows x 3 columns],\n",
       "        noise  n_iter\n",
       " 0   0.693247       0\n",
       " 0   0.644497       1\n",
       " 0   0.598182       2\n",
       " 0   0.554272       3\n",
       " 0   0.512741       4\n",
       " ..       ...     ...\n",
       " 0   0.000238      95\n",
       " 0   0.000233      96\n",
       " 0   0.000228      97\n",
       " 0   0.000223      98\n",
       " 0   0.000219      99\n",
       " \n",
       " [100 rows x 2 columns]]"
      ]
     },
     "execution_count": null,
     "metadata": {},
     "output_type": "execute_result"
    }
   ],
   "source": [
    "v"
   ]
  },
  {
   "cell_type": "markdown",
   "id": "36bda355-ac85-441c-9b83-dbb35bf31ba1",
   "metadata": {
    "pycharm": {
     "name": "#%% md\n"
    }
   },
   "source": [
    "## Export"
   ]
  },
  {
   "cell_type": "code",
   "execution_count": null,
   "id": "58580804-365d-447a-9a5e-3463f4846b74",
   "metadata": {
    "pycharm": {
     "name": "#%%\n"
    }
   },
   "outputs": [],
   "source": [
    "#| hide\n",
    "from nbdev import nbdev_export\n",
    "nbdev_export()"
   ]
  },
  {
   "cell_type": "markdown",
   "id": "24befb58-3f26-4d2c-beaa-0cb4a9e9e676",
   "metadata": {
    "pycharm": {
     "name": "#%% md\n"
    }
   },
   "source": [
    "\n",
    "## Printing\n",
    "### Other"
   ]
  },
  {
   "cell_type": "code",
   "execution_count": null,
   "id": "1613c1b2-be6b-4b0c-9833-a2d43a95e0c8",
   "metadata": {
    "pycharm": {
     "name": "#%%\n"
    }
   },
   "outputs": [],
   "source": [
    "# #| exporti\n",
    "# def get_parameter_value(name, param, constraint):\n",
    "#     if constraint is not None:\n",
    "#         value = constraint.transform(param.data.detach())\n",
    "#         name = name.replace(\"raw_\", \"\") # parameter is not raw anymore\n",
    "#     else:\n",
    "#         value = param.data.detach()\n",
    "#     return (name, value)\n",
    "\n",
    "# name = \"covar_module.psi\"\n",
    "# test_eq(l.model.covar_module.psi.detach(), get_parameter_value(name, l.model.covar_module.raw_psi_diag, l.model.covar_module.raw_psi_diag_constraint)[1])\n",
    "\n",
    "# #| exporti\n",
    "# def tensor_to_first_item(tensor):\n",
    "#     if tensor.dim() > 0:\n",
    "#         return tensor_to_first_item(tensor[0])\n",
    "#     return tensor.item()\n",
    "\n",
    "\n",
    "# def format_parameter(name, value):\n",
    "#     value = tensor_to_first_item(value)\n",
    "#     name = name.split(\".\")[-1] # get only last part of name\n",
    "#     return f\"{name}: {value:.3f}\"\n",
    "\n",
    "# #| export\n",
    "# @patch\n",
    "# def get_formatted_params(self: GPFALearner):\n",
    "#     return \", \".join([\n",
    "#         format_parameter(*get_parameter_value(name, value, constraint))\n",
    "#         for name, value, constraint in\n",
    "#         self.model.named_parameters_and_constraints()\n",
    "#     ])\n",
    "\n",
    "# l.get_formatted_params()\n",
    "\n",
    "# # this is not really working at the moment, but it's not important\n",
    "# @patch\n",
    "# def plot_loss_printer(self: GPFALearner, i_iter):\n",
    "#     if i_iter ==0: return\n",
    "#     x = torch.arange(0, i_iter)\n",
    "#     y = self.losses[:i_iter]\n",
    "#     plot_data = [[x, y]]\n",
    "#     self.pb.update_graph(plot_data)\n",
    "    \n",
    "#     x_bounds = [x.min(), x.max()+1]\n",
    "#     y_bounds = [y.min(), y.max()]\n",
    "#     self.pb.names = [\"Training loss\"]\n",
    "\n",
    "# #|export\n",
    "# @patch\n",
    "# def printer(self: GPFALearner, i_iter):\n",
    "\n",
    "#     if i_iter%10 == 0:\n",
    "#         update_str = f\"loss: {self.losses[i_iter].item():.3f}, \" + self.get_formatted_params()\n",
    "#         #self.plot_loss(i_iter)\n",
    "    \n",
    "#     #self.pb.write(update_str)\n",
    "\n",
    "# l.train(lr = 0.01)\n",
    "\n",
    "# import matplotlib.pyplot as plt\n",
    "\n",
    "# plt.plot(l.losses)"
   ]
  }
 ],
 "metadata": {
  "kernelspec": {
   "display_name": "data_science",
   "language": "python",
   "name": "data_science"
  },
  "widgets": {
   "application/vnd.jupyter.widget-state+json": {
    "state": {},
    "version_major": 2,
    "version_minor": 0
   }
  }
 },
 "nbformat": 4,
 "nbformat_minor": 5
}