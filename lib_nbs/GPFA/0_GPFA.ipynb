{
 "cells": [
  {
   "cell_type": "code",
   "execution_count": null,
   "id": "8c8c75dd",
   "metadata": {},
   "outputs": [],
   "source": [
    "#| hide\n",
    "#| default_exp gpfa.gpfa"
   ]
  },
  {
   "cell_type": "markdown",
   "id": "3bb8a949",
   "metadata": {},
   "source": [
    "# Gaussian Processes Factor Analysis"
   ]
  },
  {
   "cell_type": "markdown",
   "id": "43f56f9a",
   "metadata": {},
   "source": [
    "Derivation of the equations to solve the Gaussian Processes Factor Analysis as described in: Yu, B.M., Cunningham, J.P., Santhanam, G., Ryu, S., Shenoy, K.V., Sahani, M., 2008. Gaussian-process factor analysis for low-dimensional single-trial analysis of neural population activity, in: Advances in Neural Information Processing Systems. Curran Associates, Inc."
   ]
  },
  {
   "cell_type": "markdown",
   "id": "14136d0e",
   "metadata": {},
   "source": [
    "## Notation\n",
    "\n",
    "- $T$  Number of time steps\n",
    "- $N$  Number of variables observed\n",
    "- $K$  Number of dimensions of latent variable\n",
    "- $x_{:,t}$ vector of all the $N$ variables at time $t$, $\\in \\mathbb{R}^N$\n",
    "- $x_{n,:}$ vector of the $n$th variable at for time steps in $T$, $\\in \\mathbb{R}^T$\n",
    "- $x_{n,t}$ $n$th variable at time $t$, $\\in \\mathbb{R}$\n",
    "- $X_M = [x_{:,1}, ... x_{:, T}]$ Matrix with all the $N$ variables at all time steps $T$, $\\in \\mathbb{R}^{N \\times T}$\n",
    "- $X$ is a vector obtained by \"flattening\" $X_M$, by putting next to each other all variable at time $t$, $\\in \\mathbb{R}^{(N \\cdot T)}$\n",
    "- $t$ time step\n",
    "- $z_{i, t}$ $i$th latent variable at time $t$, $\\in \\mathbb{R}$\n",
    "- $Z = [z_1 , ... z_t]$ Vector with $z$ at all time steps in $T$, $\\in \\mathbb{R}^{K \\times T}$\n",
    "\n"
   ]
  },
  {
   "cell_type": "markdown",
   "id": "3f0303f4",
   "metadata": {},
   "source": [
    "## Gaussian Processes Factor Analysis model\n",
    "\n",
    "We model the variables in this way\n",
    " $$x_{:,t} = \\Lambda z_{:,t} + \\epsilon $$\n",
    "where:\n",
    "\n",
    "- $\\Lambda$ is a Factor loading matrix that transforms $z_{:,t}$ into $x_{:,t}$, $\\in \\mathbb{R}^{N \\times K}$\n",
    "- $\\epsilon$ Random noise. The random noise is independent between the different time steps, $\\in \\mathbb{R}^N$:\n",
    "    - $p(\\epsilon) = \\mathcal{N}(0, \\psi)$ distribution of noise\n",
    "    - $\\psi$, covariance matrix of noise, it is a diagional matrix, $\\in \\mathbb{R}^{N \\times N}$\n",
    "\n",
    "The model consider $\\langle X \\rangle = 0$ (if $X$ doesn't have a 0 mean it can be easily transformed by substracting the mean)\n",
    "\n",
    "The latent variable $z$ is modelled over time using a Gaussian Process, one process for each dimension $k$\n",
    "for simplicity we assumed that $z$ has only one dimension ($k = 1$)\n",
    "\n",
    "$$p(Z) = \\mathcal{GP}(0, k(t, t \\prime))$$"
   ]
  },
  {
   "cell_type": "markdown",
   "id": "dfbb8a99",
   "metadata": {},
   "source": [
    "## Derivation of $p(X)$\n",
    "\n",
    "$p(x_{:,t}|z_{:,t}) = \\mathcal{N}(\\Lambda z_{:,t}, \\psi)$ is easy to derive and then $p(x_{:,t})$ and $p(z_{:,t}|x_{:,t})$ can be obtained using the rules of Gaussian inference.\n",
    "\n",
    "However, what is interesting is to have the analytical form of $p(X)$, which models both the relations between $z$ and $x$ and the $z$ and $t$. The likelihood of $p(X)$ can then be maximized to obtain the parameters of the latent transformation and the kernel hyperparameter.\n",
    "\n",
    "$p(X)$ is a Guassian distribution with $T\\cdot N$ dimensions.\n",
    "\n",
    "$p(X) = \\mathcal{N}(\\langle X \\rangle, \\langle X X^T \\rangle)$\n",
    "\n",
    "\n"
   ]
  },
  {
   "cell_type": "markdown",
   "id": "a2c1a6ef",
   "metadata": {},
   "source": [
    "### Diagonal of the covariance matrix\n",
    "\n",
    "Let's start with the diagonal of the covariance matrix ($t = t \\prime$)\n",
    "\n",
    "$\\langle x_{:,t}x_{:,t}^T \\rangle = \\langle (\\Lambda z_{:,t} + \\epsilon_{t})(\\Lambda z_{:,t} + \\epsilon_{t})^T \\rangle$\n",
    "\n",
    "by multipling the two vectors together we obtain\n",
    "\n",
    "$\\langle x_{:,t}x_{:,t}^T \\rangle = \\langle \\Lambda z_{:,t} z_{:,t}^T \\Lambda^T + \\Lambda z_{:,t} \\epsilon_{t}^T + \\epsilon_t \\Lambda^T z_{:,t}^T  + \\epsilon_t \\epsilon_{t}^T \\rangle$\n",
    "\n",
    "The using the linearity of the [expectation](https://www.statlect.com/fundamentals-of-probability/expected-value-properties) we can:\n",
    "\n",
    "1) transform the expecations of a sum into a sum of expecations\n",
    "2) move the $\\Lambda$ out of the expecation, as it doesn't depend on $z$\n",
    "3) $\\langle z_{:,t} \\epsilon_t \\rangle = \\langle z_{:,t} \\rangle \\langle \\epsilon_t \\rangle$ because $z_{:,t}$ and $\\epsilon_t$ are independent random variables\n",
    "\n",
    "$\\langle x_{:,t}x_{:,t}^T \\rangle = \\Lambda \\langle z_{:,t} z_{:,t}^T\\rangle \\Lambda^T + \\Lambda \\langle z_{:,t} \\rangle \\langle \\epsilon_{t}^T \\rangle + \\langle \\epsilon_{t} \\rangle \\Lambda^T \\langle z_{:,t}^T  \\rangle + \\langle \\epsilon_t \\epsilon_{t}^T \\rangle$\n",
    "\n",
    "Then considering that $\\langle z_{:,t} \\rangle = 0$ and that $\\langle \\epsilon_t \\rangle = 0$\n",
    "the expression can be simplified as:\n",
    "\n",
    "$\\langle x_{:,t}x_{:,t}^T \\rangle = \\Lambda \\langle z_{:,t} z_{:,t}^T\\rangle \\Lambda^T + \\langle \\epsilon_t \\epsilon_{t}^T \\rangle$\n",
    "\n",
    "Then substituting:\n",
    "\n",
    "1) $\\langle z_{:,t} z_{:,t}^T\\rangle = k(t, t)$ as that is the covariance matrix of the Gaussian process\n",
    "2) $\\langle \\epsilon_t \\epsilon_t^T \\rangle= \\psi$\n",
    "\n",
    "$\\langle x_{:,t}x_{:,t}^T \\rangle = \\Lambda k(t,t)  \\Lambda^T + \\psi$"
   ]
  },
  {
   "cell_type": "markdown",
   "id": "9c5df451",
   "metadata": {},
   "source": [
    "### Off-diagonal\n",
    "\n",
    "similar to the steps of above\n",
    "\n",
    "$\\langle x_{:,t}x_{:,t \\prime}^T \\rangle = \\langle (\\Lambda z_{:,t} + \\epsilon_{t})(\\Lambda z_{:,t \\prime} + \\epsilon_{t \\prime})^T \\rangle$\n",
    "\n",
    "by multipling the two vectors together we obtain\n",
    "\n",
    "$\\langle x_{:,t}x_{:,t \\prime}^T \\rangle = \\langle \\Lambda z_{:,t} z_{:,t \\prime}^T \\Lambda^T + \\Lambda z_{:,t} \\epsilon_{t \\prime}^T + \\epsilon_t \\Lambda^T z_{:,t \\prime}^T  + \\epsilon_t \\epsilon_{t \\prime}^T \\rangle$\n",
    "\n",
    "Then using the linearity of the [expectation](https://www.statlect.com/fundamentals-of-probability/expected-value-properties) we can:\n",
    "\n",
    "1) transform the expecations of a sum into a sum of expecations\n",
    "2) move the $\\Lambda$ out of the expecatios, as it doesn't depend on t \n",
    "3) $\\langle z_{:,t} \\epsilon_t \\rangle = \\langle z_{:,t} \\rangle \\langle \\epsilon_t \\rangle$ because $z_{:,t}$ and $\\epsilon_t$ are independent random variables\n",
    "\n",
    "$\\langle x_{:,t}x_{:,t}^T \\rangle = \\Lambda \\langle z_{:,t} z_{:,t}^T\\rangle \\Lambda^T + \\Lambda \\langle z_{:,t} \\rangle \\langle \\epsilon_{t}^T \\rangle + \\langle \\epsilon_{t} \\rangle \\Lambda^T \\langle z_{:,t}^T  \\rangle + \\langle \\epsilon_t \\epsilon_{t}^T \\rangle$\n",
    "\n",
    "Then considering that $\\langle z_{:,t} \\rangle = 0$ and that $\\langle \\epsilon_t \\rangle = 0$\n",
    "the expression can be simplified as:\n",
    "\n",
    "$\\langle x_{:,t}x_{:,t \\prime}^T \\rangle = \\Lambda \\langle z_{:,t} z_{:,t \\prime}^T\\rangle \\Lambda^T + \\langle \\epsilon_t \\epsilon_{t \\prime}^T \\rangle$\n",
    "\n",
    "Then substituting:\n",
    "1) $\\langle z_{:,t} z_{:,t \\prime}^T\\rangle = k(t,t \\prime)$ as that is the covariance matrix of the Gaussian process\n",
    "2) $\\langle \\epsilon_t \\epsilon_{t \\prime}^T \\rangle= 0$ as $\\epsilon_t$ and $\\epsilon_{t \\prime}$ are independent and $\\langle \\epsilon_t \\rangle = 0$\n",
    "\n",
    "$\\langle x_{:,t}x_{:,t \\prime}^T \\rangle = \\Lambda k(t,t \\prime) \\Lambda^T$\n"
   ]
  },
  {
   "cell_type": "markdown",
   "id": "aad907d9",
   "metadata": {},
   "source": [
    "### Result\n",
    "\n",
    "The equation for the diagonal and off-diagonal element can be summarized as:\n",
    "\n",
    "$$\\langle x_{:,t}x_{:,t \\prime}^T \\rangle = \\Lambda k(t,t \\prime) \\Lambda^T + \\delta(t - t \\prime)\\psi$$\n",
    "\n",
    "where $\\delta(x) = \\begin{cases}\n",
    "                1 & if\\ x=0 \\\\\n",
    "                0    & if\\ x \\ne 0 \\\\\n",
    "            \\end{cases}$ \n",
    "\n",
    "Therefore $p(X)$ can be modelled as:\n",
    "\n",
    "$$p(X) = \\mathcal{N}\\left (0 , {\\begin{array}{cccc}\n",
    "    \\Lambda k(t_1,t_1) \\Lambda^T + \\delta(1-1)\\psi & \\Lambda k(t_{1},t_{2}) \\Lambda^T + \\delta(1-2)\\psi& \\cdots & \\Lambda k(t_1 ,t_t) \\Lambda^T + \\delta(1-t)\\psi\\\\\n",
    "    \\Lambda k(t_{2},t_{1}) \\Lambda^T+ \\delta(2-1)\\psi &  \\Lambda k(t_{2},t_{2}) \\Lambda^T + \\delta(2-2)\\psi & \\cdots & \\Lambda k(t_{2},t_{t}) \\Lambda^T + \\delta(2-t)\\psi\\\\\n",
    "    \\vdots & \\vdots & \\ddots & \\vdots\\\\\n",
    "    \\Lambda k(t_{t}, t_{1}) \\Lambda^T+ \\delta(t-1)\\psi & \\Lambda k(t_{t},t_{2}) \\Lambda^T + \\delta(t-2)\\psi& \\cdots & \\Lambda k(t_{t},t_{t}) \\Lambda^T + \\delta(t-t)\\psi\\\\\n",
    "    \\end{array} } \\right )$$"
   ]
  },
  {
   "cell_type": "markdown",
   "id": "3fdb8516",
   "metadata": {},
   "source": [
    "and this is also Gaussian Process with a \"special\" kernel. Multiplying kernel with a constant ($\\Lambda$) or adding a kernel ($\\delta$) yields another valid kernel\n",
    "\n",
    "\n",
    "If we define a new kernel as $$K(t,t \\prime) = \\Lambda k(t,t \\prime) \\Lambda^T + \\delta(t - t \\prime)\\psi$$\n",
    "\n",
    "Then\n",
    "\n",
    "$$ p(X) = \\mathcal{GP}(0, K(t, t\\prime))$$"
   ]
  },
  {
   "cell_type": "markdown",
   "id": "f2973a50",
   "metadata": {},
   "source": [
    "### Latent variable with more than one dimension\n",
    "\n",
    "In order to have a latent variable with more than one-dimesions, we need to make small changes to the formula\n",
    "\n",
    "The starting point is the covariance matrix of the latent at time $t$, which is:\n",
    "\n",
    "$$\\langle z_{:,t} z_{:,t}^T\\rangle = \\left(\\begin{array}{ccc} \\langle z_{1:,t} z_{1:,t}^T\\rangle & \\cdots & \\langle z_{1:,t} z_{k:,t}^T\\rangle\\\\ \\vdots & \\ddots & \\vdots \\\\ \\langle z_{k:,t} z_{1:,t}^T \\rangle & \\cdots & \\langle z_{k:,t} z_{k:,t}^T\\rangle\\end{array}\\right)$$ "
   ]
  },
  {
   "cell_type": "markdown",
   "id": "8dfee7ae",
   "metadata": {},
   "source": [
    "since each dimension in $z$ is indipendent:\n",
    "\n",
    "$\\langle z_{k,t} z_{k\\prime,t} \\rangle = 0$\n",
    "\n",
    "each dimension in $z$ is modelled using a different kernel ($k_{z_k}(t,t\\prime)$), hence:\n",
    "\n",
    "$$\\langle z_{:,t} z_{:,t}^T\\rangle = \\left(\\begin{array}{ccc} k_{z_1}(t, t) & \\cdots & 0 \\\\ \\vdots & \\ddots & \\vdots \\\\ 0 & \\cdots & k_{z_k}(t, t)\\end{array}\\right)$$ \n"
   ]
  },
  {
   "cell_type": "markdown",
   "id": "feec11b9",
   "metadata": {},
   "source": [
    "so the GPFA Kernel is:   \n",
    "$$K(t,t \\prime) = \\Lambda \\left(\\begin{array}{ccc} k_{z_1}(t, t \\prime) & \\cdots & 0 \\\\ \\vdots & \\ddots & \\vdots \\\\ 0 & \\cdots & k_{z_k}(t, t \\prime)\\end{array}\\right) \\Lambda^T + \\delta(t - t \\prime)\\psi$$"
   ]
  },
  {
   "cell_type": "markdown",
   "id": "f4342e19",
   "metadata": {},
   "source": [
    "so `p(X)` is:\n",
    "\n",
    "$$p(X) = \\mathcal{N}\\left (0 , {\\begin{array}{ccc}\n",
    "    \\Lambda \\left(\\begin{array}{ccc} k_{z_1}(t_1, t_1) & \\cdots & 0 \\\\ \\vdots & \\ddots & \\vdots \\\\ 0 & \\cdots & k_{z_k}(t_1, t_1)\\end{array}\\right) \\Lambda^T + \\delta(t_1 - t_1)\\psi & \\cdots & \\Lambda \\left(\\begin{array}{ccc} k_{z_1}(t_1, t_t) & \\cdots & 0 \\\\ \\vdots & \\ddots & \\vdots \\\\ 0 & \\cdots & k_{z_k}(t_1, t_t)\\end{array}\\right) \\Lambda^T + \\delta(t_1 - t_t)\\psi\\\\\n",
    "    \\vdots & \\ddots & \\vdots\\\\\n",
    "    \\Lambda \\left(\\begin{array}{ccc} k_{z_1}(t_t, t_1) & \\cdots & 0 \\\\ \\vdots & \\ddots & \\vdots \\\\ 0 & \\cdots & k_{z_k}(t_t, t_1)\\end{array}\\right) \\Lambda^T + \\delta(t_t - t_1)\\psi & \\cdots & \\Lambda \\left(\\begin{array}{ccc} k_{z_1}(t_t, t_t) & \\cdots & 0 \\\\ \\vdots & \\ddots & \\vdots \\\\ 0 & \\cdots & k_{z_k}(t_t, t_t)\\end{array}\\right) \\Lambda^T + \\delta(t_t - t_t)\\psi\\\\\n",
    "    \\end{array} } \\right )$$"
   ]
  },
  {
   "cell_type": "markdown",
   "id": "b704cee3",
   "metadata": {},
   "source": [
    "## Next steps\n",
    "\n",
    "- The parameters of the final GP ($\\Lambda, \\psi$ and the kernel hyperparameters) can be fitted by maximizing the likelihood of $p(X)$ using gradient descent\n"
   ]
  },
  {
   "cell_type": "markdown",
   "id": "8fbad2c6",
   "metadata": {},
   "source": [
    "# Implementation"
   ]
  },
  {
   "cell_type": "code",
   "execution_count": null,
   "id": "dca30bfd",
   "metadata": {},
   "outputs": [],
   "source": [
    "#| export\n",
    "import torch\n",
    "import gpytorch\n",
    "\n",
    "from fastcore.foundation import patch\n",
    "import pandas as pd"
   ]
  },
  {
   "cell_type": "markdown",
   "id": "4daa8b88",
   "metadata": {},
   "source": [
    "## Kernel"
   ]
  },
  {
   "cell_type": "code",
   "execution_count": null,
   "id": "8c7449b1",
   "metadata": {},
   "outputs": [],
   "source": [
    "#| exports\n",
    "class GPFAKernel(gpytorch.kernels.Kernel):\n",
    "    \"\"\"\n",
    "    Kernel to implement Gaussian Processes Factor Analysis\n",
    "    \"\"\"\n",
    "    def __init__(self,\n",
    "                 n_features: int, # number of variables at each time step\n",
    "                 latent_kernel: gpytorch.kernels.Kernel, # func that returns any valid GPyTorch Kernel used to model the relationship over time of the latent\n",
    "                 latent_dims:int = 1,  # Number of latent dims\n",
    "                 Lambda: torch.tensor = None, #(n_features * latent_dims) initial value for factor loading matrix. If None init to one\n",
    "                 psi: torch.tensor = None, #(n_features) initial value for random noise covariance. Note this is only the diagonal matrix\n",
    "                 **kwargs):\n",
    "        super(GPFAKernel, self).__init__(**kwargs)\n",
    "        \n",
    "        # Number of features in the X for each time step\n",
    "        self.n_features = n_features\n",
    "\n",
    "        self.latent_dims = latent_dims\n",
    "        \n",
    "        # see GPyTorch Kernels\n",
    "        self.register_parameter(\n",
    "            name = \"Lambda\",\n",
    "            parameter = torch.nn.Parameter(torch.rand(self.n_features, self.latent_dims)))\n",
    "        \n",
    "        # each dim has it's own latent kernel\n",
    "        self.latent_kernels = torch.nn.ModuleList([latent_kernel() for _ in range(self.latent_dims)])\n",
    "        \n",
    "        self.register_parameter(\n",
    "            name = \"raw_psi_diag\",\n",
    "            parameter = torch.nn.Parameter(torch.zeros(self.n_features))) \n",
    "        self.register_constraint(\"raw_psi_diag\", gpytorch.constraints.Positive())\n",
    "        if psi is not None: self.psi = psi\n",
    "    \n",
    "    # Convenient getter and setter for psi, since there is the Positive() constraint\n",
    "    @property\n",
    "    def psi(self):\n",
    "        # when accessing the parameter, apply the constraint transform\n",
    "        return self.raw_psi_diag_constraint.transform(self.raw_psi_diag)\n",
    "\n",
    "    @psi.setter\n",
    "    def psi(self, value):\n",
    "        return self._set_psi(value)\n",
    "\n",
    "    def _set_psi(self, value):\n",
    "        if not torch.is_tensor(value):\n",
    "            value = torch.as_tensor(value).to(self.raw_psi_diag)\n",
    "        # when setting the paramater, transform the actual value to a raw one by applying the inverse transform\n",
    "        self.initialize(raw_psi_diag=self.raw_psi_diag_constraint.inverse_transform(value))\n",
    "    \n",
    "\n",
    "        \n",
    "    def forward(self, t1, t2, diag = False, last_dim_is_batch=False, **params):\n",
    "\n",
    "        # not implemented yet\n",
    "        assert diag is False\n",
    "        assert last_dim_is_batch is False\n",
    "\n",
    "        # take the number of observations from the input\n",
    "        n_obs = t1.shape[0]\n",
    "\n",
    "        # compute the latent kernel\n",
    "        kT = torch.stack([ kernel(t1, t2, diag, last_dim_is_batch, **params).evaluate() # this may make the whole thing slow as it breaks lazy evaluations\n",
    "                         for kernel in self.latent_kernels], dim=2)\n",
    "        return compute_gpfa_covariance(self.Lambda, kT, self.psi, self.n_features, n_obs)\n",
    "    \n",
    "    def num_outputs_per_input(self, x1,x2):\n",
    "        return self.n_features\n",
    "\n",
    "# this is a separate function, because torch script cannot take self as a parameter\n",
    "@torch.jit.script\n",
    "def compute_gpfa_covariance(Lambda, kT, psi, n_features, n_obs):\n",
    "    # pre allocate covariance matrix\n",
    "    X_cov = torch.empty(n_features * n_obs, n_features * n_obs, device=Lambda.device)\n",
    "    for i in torch.arange(n_obs):\n",
    "        for j in torch.arange(n_obs):\n",
    "            # i:i+1 is required to keep the number of dimensions\n",
    "            cov =  Lambda @ torch.diag(kT[i,j,:]) @ Lambda.T\n",
    "            # only diagonals add the noise\n",
    "            if i == j: cov += torch.diag(psi)\n",
    "            # add a block of size n_features*n_features to the covariance matrix\n",
    "            X_cov[i*n_features:(i*n_features + n_features),j*n_features:(j*n_features+n_features)] = cov\n",
    "    return X_cov"
   ]
  },
  {
   "cell_type": "code",
   "execution_count": null,
   "id": "1499c88e",
   "metadata": {},
   "outputs": [],
   "source": [
    "gpfa_k = GPFAKernel(n_features=2, latent_kernel=gpytorch.kernels.RBFKernel)"
   ]
  },
  {
   "cell_type": "markdown",
   "id": "10fbbee4",
   "metadata": {},
   "source": [
    "The parameters are correctly registered"
   ]
  },
  {
   "cell_type": "code",
   "execution_count": null,
   "id": "f99c83e0",
   "metadata": {},
   "outputs": [
    {
     "data": {
      "text/plain": [
       "[('Lambda',\n",
       "  Parameter containing:\n",
       "  tensor([[0.5982],\n",
       "          [0.9041]], requires_grad=True)),\n",
       " ('raw_psi_diag',\n",
       "  Parameter containing:\n",
       "  tensor([0., 0.], requires_grad=True)),\n",
       " ('latent_kernels.0.raw_lengthscale',\n",
       "  Parameter containing:\n",
       "  tensor([[0.]], requires_grad=True))]"
      ]
     },
     "execution_count": null,
     "metadata": {},
     "output_type": "execute_result"
    }
   ],
   "source": [
    "list(gpfa_k.named_parameters())"
   ]
  },
  {
   "cell_type": "markdown",
   "id": "2d68e4c5",
   "metadata": {},
   "source": [
    "Check that the Kernel is running"
   ]
  },
  {
   "cell_type": "code",
   "execution_count": null,
   "id": "ffd97837",
   "metadata": {},
   "outputs": [
    {
     "data": {
      "text/plain": [
       "tensor([[1.0510, 0.5409, 0.1264, 0.1910, 0.0056, 0.0084],\n",
       "        [0.5409, 1.5106, 0.1910, 0.2887, 0.0084, 0.0127],\n",
       "        [0.1264, 0.1910, 1.0510, 0.5409, 0.1264, 0.1910],\n",
       "        [0.1910, 0.2887, 0.5409, 1.5106, 0.1910, 0.2887],\n",
       "        [0.0056, 0.0084, 0.1264, 0.1910, 1.0510, 0.5409],\n",
       "        [0.0084, 0.0127, 0.1910, 0.2887, 0.5409, 1.5106]],\n",
       "       grad_fn=<CopySlices>)"
      ]
     },
     "execution_count": null,
     "metadata": {},
     "output_type": "execute_result"
    }
   ],
   "source": [
    "gpfa_k(torch.tensor((1, 2, 3))).evaluate()"
   ]
  },
  {
   "cell_type": "markdown",
   "id": "a69e155b",
   "metadata": {},
   "source": [
    "## GPFA "
   ]
  },
  {
   "cell_type": "code",
   "execution_count": null,
   "id": "60366ae4",
   "metadata": {},
   "outputs": [],
   "source": [
    "#| export\n",
    "class GPFAZeroMean(gpytorch.means.Mean):\n",
    "    \"\"\"\n",
    "    Zero Mean function to be used in GPFA, as it takes into account the number of features\n",
    "    \"\"\"\n",
    "    def __init__(self, n_features, device):\n",
    "        super().__init__()\n",
    "        self.n_features = n_features\n",
    "        self.device = device\n",
    "    def forward(self, input):\n",
    "        shape = input.shape[0] * self.n_features\n",
    "        return torch.zeros(shape, device=self.device)"
   ]
  },
  {
   "cell_type": "markdown",
   "id": "df4da49e",
   "metadata": {},
   "source": [
    "to change the latent_kernel you should subcall `GPFA`\n",
    "in this way the `get_info` function for the kernel can be changed to include the latent kernel details"
   ]
  },
  {
   "cell_type": "code",
   "execution_count": null,
   "id": "1fe55b60",
   "metadata": {},
   "outputs": [],
   "source": [
    "#| export\n",
    "class GPFA(gpytorch.models.ExactGP):\n",
    "    latent_kernel = gpytorch.kernels.RBFKernel\n",
    "    def __init__(self, train_x, train_y, likelihood, n_features,latent_dims=1):\n",
    "        super(GPFA, self).__init__(train_x, train_y, likelihood)\n",
    "        self.likelihood = likelihood\n",
    "        self.mean_module = GPFAZeroMean(n_features, train_x.device) # gets device from train_x\n",
    "        self.covar_module = GPFAKernel(n_features, self.latent_kernel, latent_dims = latent_dims)\n",
    "\n",
    "    def forward(self, x, **params):\n",
    "        mean_x = self.mean_module(x)\n",
    "        covar_x = self.covar_module(x, **params)\n",
    "        return gpytorch.distributions.MultivariateNormal(mean_x, covar_x)"
   ]
  },
  {
   "cell_type": "markdown",
   "id": "b5dcb413",
   "metadata": {},
   "source": [
    "make some very simple test data, to check that the model is working and can learn the parameters"
   ]
  },
  {
   "cell_type": "code",
   "execution_count": null,
   "id": "624bba6c",
   "metadata": {},
   "outputs": [],
   "source": [
    "T = torch.arange(1,5)"
   ]
  },
  {
   "cell_type": "code",
   "execution_count": null,
   "id": "31d61d5c",
   "metadata": {},
   "outputs": [],
   "source": [
    "X = torch.hstack([torch.arange(0,3) + 2* i for i in T]) "
   ]
  },
  {
   "cell_type": "code",
   "execution_count": null,
   "id": "c87b623c",
   "metadata": {},
   "outputs": [
    {
     "data": {
      "text/plain": [
       "tensor([ 2,  3,  4,  4,  5,  6,  6,  7,  8,  8,  9, 10])"
      ]
     },
     "execution_count": null,
     "metadata": {},
     "output_type": "execute_result"
    }
   ],
   "source": [
    "X"
   ]
  },
  {
   "cell_type": "code",
   "execution_count": null,
   "id": "581fe762",
   "metadata": {},
   "outputs": [
    {
     "data": {
      "text/plain": [
       "torch.Size([12])"
      ]
     },
     "execution_count": null,
     "metadata": {},
     "output_type": "execute_result"
    }
   ],
   "source": [
    "X.shape"
   ]
  },
  {
   "cell_type": "code",
   "execution_count": null,
   "id": "66c8adb8",
   "metadata": {},
   "outputs": [
    {
     "data": {
      "text/plain": [
       "tensor([1, 2, 3, 4])"
      ]
     },
     "execution_count": null,
     "metadata": {},
     "output_type": "execute_result"
    }
   ],
   "source": [
    "T"
   ]
  },
  {
   "cell_type": "code",
   "execution_count": null,
   "id": "b11ae560",
   "metadata": {},
   "outputs": [],
   "source": [
    "# initialize likelihood and model\n",
    "likelihood = gpytorch.likelihoods.GaussianLikelihood()\n",
    "model = GPFA(T, X, likelihood, n_features = 3)"
   ]
  },
  {
   "cell_type": "code",
   "execution_count": null,
   "id": "1295a431",
   "metadata": {},
   "outputs": [
    {
     "data": {
      "text/plain": [
       "GPFA(\n",
       "  (likelihood): GaussianLikelihood(\n",
       "    (noise_covar): HomoskedasticNoise(\n",
       "      (raw_noise_constraint): GreaterThan(1.000E-04)\n",
       "    )\n",
       "  )\n",
       "  (mean_module): GPFAZeroMean()\n",
       "  (covar_module): GPFAKernel(\n",
       "    (latent_kernels): ModuleList(\n",
       "      (0): RBFKernel(\n",
       "        (raw_lengthscale_constraint): Positive()\n",
       "      )\n",
       "    )\n",
       "    (raw_psi_diag_constraint): Positive()\n",
       "  )\n",
       ")"
      ]
     },
     "execution_count": null,
     "metadata": {},
     "output_type": "execute_result"
    }
   ],
   "source": [
    "model"
   ]
  },
  {
   "cell_type": "markdown",
   "id": "dfc3a687",
   "metadata": {},
   "source": [
    "Getting the prior from the GP"
   ]
  },
  {
   "cell_type": "code",
   "execution_count": null,
   "id": "5625291b",
   "metadata": {},
   "outputs": [
    {
     "data": {
      "text/plain": [
       "MultivariateNormal(loc: torch.Size([12]))"
      ]
     },
     "execution_count": null,
     "metadata": {},
     "output_type": "execute_result"
    }
   ],
   "source": [
    "model(T)"
   ]
  },
  {
   "cell_type": "markdown",
   "id": "666ee347",
   "metadata": {},
   "source": [
    "Fitting the parameters using gradient descend"
   ]
  },
  {
   "cell_type": "code",
   "execution_count": null,
   "id": "406c885a",
   "metadata": {},
   "outputs": [
    {
     "name": "stdout",
     "output_type": "stream",
     "text": [
      "Iter 1/10 - Loss: 10.056   lengthscale: 0.693, Lambda: 0.591   noise: 0.693\n",
      "Iter 2/10 - Loss: 8.484   lengthscale: 0.744, Lambda: 0.691   noise: 0.744\n",
      "Iter 3/10 - Loss: 7.256   lengthscale: 0.798, Lambda: 0.789   noise: 0.797\n",
      "Iter 4/10 - Loss: 6.304   lengthscale: 0.853, Lambda: 0.884   noise: 0.850\n",
      "Iter 5/10 - Loss: 5.564   lengthscale: 0.910, Lambda: 0.975   noise: 0.904\n",
      "Iter 6/10 - Loss: 4.984   lengthscale: 0.968, Lambda: 1.061   noise: 0.956\n",
      "Iter 7/10 - Loss: 4.526   lengthscale: 1.027, Lambda: 1.141   noise: 1.008\n",
      "Iter 8/10 - Loss: 4.159   lengthscale: 1.086, Lambda: 1.216   noise: 1.058\n",
      "Iter 9/10 - Loss: 3.863   lengthscale: 1.145, Lambda: 1.286   noise: 1.106\n",
      "Iter 10/10 - Loss: 3.622   lengthscale: 1.203, Lambda: 1.350   noise: 1.152\n"
     ]
    }
   ],
   "source": [
    "# this is for running the notebook in our testing framework\n",
    "training_iter = 10\n",
    "\n",
    "# Find optimal model hyperparameters\n",
    "model.train()\n",
    "likelihood.train()\n",
    "\n",
    "# Use the adam optimizer\n",
    "optimizer = torch.optim.Adam(model.parameters(), lr=0.1)  # Includes GaussianLikelihood parameters\n",
    "\n",
    "# \"Loss\" for GPs - the marginal log likelihood\n",
    "mll = gpytorch.mlls.ExactMarginalLogLikelihood(likelihood, model)\n",
    "losses = []\n",
    "for i in range(training_iter):\n",
    "    # Zero gradients from previous iteration\n",
    "    optimizer.zero_grad()\n",
    "    # Output from model\n",
    "    output = model(T)\n",
    "    # Calc loss and backprop gradients\n",
    "    loss = -mll(output, X)\n",
    "    losses.append(loss.item())\n",
    "    loss.backward()\n",
    "    print('Iter %d/%d - Loss: %.3f   lengthscale: %.3f, Lambda: %.3f   noise: %.3f' % (\n",
    "        i + 1, training_iter, loss.item(),\n",
    "        model.covar_module.latent_kernels[0].lengthscale.item(),\n",
    "        model.covar_module.Lambda.mean().item(),\n",
    "        model.likelihood.noise.item()\n",
    "    ))\n",
    "    optimizer.step()"
   ]
  },
  {
   "cell_type": "markdown",
   "id": "aa5501ce",
   "metadata": {},
   "source": [
    "The model is training!"
   ]
  },
  {
   "cell_type": "markdown",
   "id": "a095b860",
   "metadata": {},
   "source": [
    "## Multi-dimensional latent variable\n",
    "\n",
    "#### 2 dimensions"
   ]
  },
  {
   "cell_type": "code",
   "execution_count": null,
   "id": "31c71e6c",
   "metadata": {},
   "outputs": [],
   "source": [
    "# initialize likelihood and model\n",
    "likelihood_m = gpytorch.likelihoods.GaussianLikelihood()\n",
    "model_m = GPFA(T, X, likelihood, n_features = 3, latent_dims=2)"
   ]
  },
  {
   "cell_type": "code",
   "execution_count": null,
   "id": "7f94bb00",
   "metadata": {},
   "outputs": [
    {
     "data": {
      "text/plain": [
       "GPFA(\n",
       "  (likelihood): GaussianLikelihood(\n",
       "    (noise_covar): HomoskedasticNoise(\n",
       "      (raw_noise_constraint): GreaterThan(1.000E-04)\n",
       "    )\n",
       "  )\n",
       "  (mean_module): GPFAZeroMean()\n",
       "  (covar_module): GPFAKernel(\n",
       "    (latent_kernels): ModuleList(\n",
       "      (0): RBFKernel(\n",
       "        (raw_lengthscale_constraint): Positive()\n",
       "      )\n",
       "      (1): RBFKernel(\n",
       "        (raw_lengthscale_constraint): Positive()\n",
       "      )\n",
       "    )\n",
       "    (raw_psi_diag_constraint): Positive()\n",
       "  )\n",
       ")"
      ]
     },
     "execution_count": null,
     "metadata": {},
     "output_type": "execute_result"
    }
   ],
   "source": [
    "model_m"
   ]
  },
  {
   "cell_type": "markdown",
   "id": "d5156c15",
   "metadata": {},
   "source": [
    "check GP is running"
   ]
  },
  {
   "cell_type": "code",
   "execution_count": null,
   "id": "90ab9460",
   "metadata": {},
   "outputs": [
    {
     "data": {
      "text/plain": [
       "ModuleList(\n",
       "  (0): RBFKernel(\n",
       "    (raw_lengthscale_constraint): Positive()\n",
       "  )\n",
       "  (1): RBFKernel(\n",
       "    (raw_lengthscale_constraint): Positive()\n",
       "  )\n",
       ")"
      ]
     },
     "execution_count": null,
     "metadata": {},
     "output_type": "execute_result"
    }
   ],
   "source": [
    "model_m.covar_module.latent_kernels"
   ]
  },
  {
   "cell_type": "code",
   "execution_count": null,
   "id": "3b559d83",
   "metadata": {},
   "outputs": [
    {
     "data": {
      "text/plain": [
       "Parameter containing:\n",
       "tensor([[0.8592, 0.4173],\n",
       "        [0.0988, 0.0617],\n",
       "        [0.4201, 0.6319]], requires_grad=True)"
      ]
     },
     "execution_count": null,
     "metadata": {},
     "output_type": "execute_result"
    }
   ],
   "source": [
    "model_m.covar_module.Lambda"
   ]
  },
  {
   "cell_type": "code",
   "execution_count": null,
   "id": "1efb9be1",
   "metadata": {},
   "outputs": [
    {
     "data": {
      "text/plain": [
       "MultivariateNormal(loc: torch.Size([12]))"
      ]
     },
     "execution_count": null,
     "metadata": {},
     "output_type": "execute_result"
    }
   ],
   "source": [
    "likelihood(model_m(T))"
   ]
  },
  {
   "cell_type": "markdown",
   "id": "db6c0a39",
   "metadata": {},
   "source": [
    "#### 5 dimensions"
   ]
  },
  {
   "cell_type": "code",
   "execution_count": null,
   "id": "5fc7ba62",
   "metadata": {},
   "outputs": [],
   "source": [
    "# initialize likelihood and model\n",
    "likelihood_m = gpytorch.likelihoods.GaussianLikelihood()\n",
    "model_m = GPFA(T, X, likelihood, n_features = 3, latent_dims=5)"
   ]
  },
  {
   "cell_type": "code",
   "execution_count": null,
   "id": "44576bf1",
   "metadata": {},
   "outputs": [
    {
     "data": {
      "text/plain": [
       "GPFA(\n",
       "  (likelihood): GaussianLikelihood(\n",
       "    (noise_covar): HomoskedasticNoise(\n",
       "      (raw_noise_constraint): GreaterThan(1.000E-04)\n",
       "    )\n",
       "  )\n",
       "  (mean_module): GPFAZeroMean()\n",
       "  (covar_module): GPFAKernel(\n",
       "    (latent_kernels): ModuleList(\n",
       "      (0): RBFKernel(\n",
       "        (raw_lengthscale_constraint): Positive()\n",
       "      )\n",
       "      (1): RBFKernel(\n",
       "        (raw_lengthscale_constraint): Positive()\n",
       "      )\n",
       "      (2): RBFKernel(\n",
       "        (raw_lengthscale_constraint): Positive()\n",
       "      )\n",
       "      (3): RBFKernel(\n",
       "        (raw_lengthscale_constraint): Positive()\n",
       "      )\n",
       "      (4): RBFKernel(\n",
       "        (raw_lengthscale_constraint): Positive()\n",
       "      )\n",
       "    )\n",
       "    (raw_psi_diag_constraint): Positive()\n",
       "  )\n",
       ")"
      ]
     },
     "execution_count": null,
     "metadata": {},
     "output_type": "execute_result"
    }
   ],
   "source": [
    "model_m"
   ]
  },
  {
   "cell_type": "markdown",
   "id": "ff0074f8",
   "metadata": {},
   "source": [
    "check GP is running"
   ]
  },
  {
   "cell_type": "code",
   "execution_count": null,
   "id": "99909654",
   "metadata": {},
   "outputs": [
    {
     "data": {
      "text/plain": [
       "ModuleList(\n",
       "  (0): RBFKernel(\n",
       "    (raw_lengthscale_constraint): Positive()\n",
       "  )\n",
       "  (1): RBFKernel(\n",
       "    (raw_lengthscale_constraint): Positive()\n",
       "  )\n",
       "  (2): RBFKernel(\n",
       "    (raw_lengthscale_constraint): Positive()\n",
       "  )\n",
       "  (3): RBFKernel(\n",
       "    (raw_lengthscale_constraint): Positive()\n",
       "  )\n",
       "  (4): RBFKernel(\n",
       "    (raw_lengthscale_constraint): Positive()\n",
       "  )\n",
       ")"
      ]
     },
     "execution_count": null,
     "metadata": {},
     "output_type": "execute_result"
    }
   ],
   "source": [
    "model_m.covar_module.latent_kernels"
   ]
  },
  {
   "cell_type": "code",
   "execution_count": null,
   "id": "b2a55613",
   "metadata": {},
   "outputs": [
    {
     "data": {
      "text/plain": [
       "Parameter containing:\n",
       "tensor([[0.2383, 0.0719, 0.9205, 0.6215, 0.9508],\n",
       "        [0.5192, 0.2102, 0.9280, 0.0948, 0.4027],\n",
       "        [0.4778, 0.7141, 0.3596, 0.9803, 0.4140]], requires_grad=True)"
      ]
     },
     "execution_count": null,
     "metadata": {},
     "output_type": "execute_result"
    }
   ],
   "source": [
    "model_m.covar_module.Lambda"
   ]
  },
  {
   "cell_type": "code",
   "execution_count": null,
   "id": "367d1308",
   "metadata": {},
   "outputs": [
    {
     "data": {
      "text/plain": [
       "MultivariateNormal(loc: torch.Size([12]))"
      ]
     },
     "execution_count": null,
     "metadata": {},
     "output_type": "execute_result"
    }
   ],
   "source": [
    "likelihood(model_m(T))"
   ]
  },
  {
   "cell_type": "markdown",
   "id": "e4d07e03",
   "metadata": {},
   "source": [
    "## Get info\n",
    "\n",
    "this is to return the kernel info for printing, both during training and for the final results\n",
    "\n",
    "The general api is:\n",
    "\n",
    "`get_info(var_names=None) -> dict[str, pd.DataFrame]` where the string the title of a kernel parameter "
   ]
  },
  {
   "cell_type": "code",
   "execution_count": null,
   "id": "97ed75a8",
   "metadata": {},
   "outputs": [],
   "source": [
    "#| exports\n",
    "@patch\n",
    "def get_info(self: GPFA,\n",
    "             var_names = None # Optional variable names for better printing\n",
    "            ) -> dict[str, pd.DataFrame]:\n",
    "    \"Model info for a GPFA with a RBFKernel\"\n",
    "    out = {}\n",
    "    \n",
    "    latent_names = [f\"z{i}\" for i in range(self.covar_module.latent_dims)]\n",
    "    \n",
    "    out[\"Lambda\"] = pd.concat([\n",
    "        None if var_names is None else pd.Series(var_names, name='variable'),\n",
    "        pd.DataFrame(\n",
    "            self.covar_module.Lambda.detach().cpu().numpy(),\n",
    "            columns=latent_names)],\n",
    "        axis=1)\n",
    "    \n",
    "    ls = [self.covar_module.latent_kernels[i].lengthscale.detach().item() for i in range(self.covar_module.latent_dims)]\n",
    "    out[\"lengthscale\"] = pd.DataFrame({\n",
    "        'latent': latent_names,\n",
    "        'lengthscale': ls\n",
    "    })\n",
    "    \n",
    "    psi = self.covar_module.psi.detach().cpu().numpy()\n",
    "    out[\"psi\"] = pd.DataFrame({\n",
    "        'variable': var_names,\n",
    "        'psi': psi \n",
    "    })\n",
    "    \n",
    "    out[\"likelihood\"] = pd.DataFrame({'noise': [self.likelihood.noise_covar.noise.detach().item()]})\n",
    "    \n",
    "    return out"
   ]
  },
  {
   "cell_type": "code",
   "execution_count": null,
   "id": "e6d4a12c",
   "metadata": {},
   "outputs": [
    {
     "data": {
      "text/plain": [
       "{'Lambda':          z0        z1        z2        z3        z4\n",
       " 0  0.238300  0.071901  0.920541  0.621538  0.950799\n",
       " 1  0.519228  0.210204  0.928017  0.094791  0.402726\n",
       " 2  0.477801  0.714146  0.359620  0.980278  0.414003,\n",
       " 'lengthscale':   latent  lengthscale\n",
       " 0     z0     0.693147\n",
       " 1     z1     0.693147\n",
       " 2     z2     0.693147\n",
       " 3     z3     0.693147\n",
       " 4     z4     0.693147,\n",
       " 'psi':   variable       psi\n",
       " 0     None  0.693147\n",
       " 1     None  0.693147\n",
       " 2     None  0.693147,\n",
       " 'likelihood':       noise\n",
       " 0  1.195812}"
      ]
     },
     "execution_count": null,
     "metadata": {},
     "output_type": "execute_result"
    }
   ],
   "source": [
    "model_m.get_info()"
   ]
  },
  {
   "cell_type": "code",
   "execution_count": null,
   "id": "7a65e511",
   "metadata": {},
   "outputs": [
    {
     "data": {
      "text/plain": [
       "{'Lambda':   variable        z0        z1        z2        z3        z4\n",
       " 0        a  0.238300  0.071901  0.920541  0.621538  0.950799\n",
       " 1        b  0.519228  0.210204  0.928017  0.094791  0.402726\n",
       " 2        c  0.477801  0.714146  0.359620  0.980278  0.414003,\n",
       " 'lengthscale':   latent  lengthscale\n",
       " 0     z0     0.693147\n",
       " 1     z1     0.693147\n",
       " 2     z2     0.693147\n",
       " 3     z3     0.693147\n",
       " 4     z4     0.693147,\n",
       " 'psi':   variable       psi\n",
       " 0        a  0.693147\n",
       " 1        b  0.693147\n",
       " 2        c  0.693147,\n",
       " 'likelihood':       noise\n",
       " 0  1.195812}"
      ]
     },
     "execution_count": null,
     "metadata": {},
     "output_type": "execute_result"
    }
   ],
   "source": [
    "model_m.get_info([\"a\", \"b\", \"c\"])"
   ]
  },
  {
   "cell_type": "markdown",
   "id": "26dc076b",
   "metadata": {},
   "source": [
    "## Export"
   ]
  },
  {
   "cell_type": "code",
   "execution_count": null,
   "id": "10e3e68a",
   "metadata": {},
   "outputs": [
    {
     "data": {
      "text/plain": [
       "ModuleList(\n",
       "  (0): RBFKernel(\n",
       "    (raw_lengthscale_constraint): Positive()\n",
       "  )\n",
       "  (1): RBFKernel(\n",
       "    (raw_lengthscale_constraint): Positive()\n",
       "  )\n",
       "  (2): RBFKernel(\n",
       "    (raw_lengthscale_constraint): Positive()\n",
       "  )\n",
       "  (3): RBFKernel(\n",
       "    (raw_lengthscale_constraint): Positive()\n",
       "  )\n",
       "  (4): RBFKernel(\n",
       "    (raw_lengthscale_constraint): Positive()\n",
       "  )\n",
       ")"
      ]
     },
     "execution_count": null,
     "metadata": {},
     "output_type": "execute_result"
    }
   ],
   "source": [
    "model_m.covar_module.latent_kernels"
   ]
  },
  {
   "cell_type": "code",
   "execution_count": null,
   "id": "24a7b569",
   "metadata": {},
   "outputs": [
    {
     "data": {
      "text/plain": [
       "Parameter containing:\n",
       "tensor([[0.2383, 0.0719, 0.9205, 0.6215, 0.9508],\n",
       "        [0.5192, 0.2102, 0.9280, 0.0948, 0.4027],\n",
       "        [0.4778, 0.7141, 0.3596, 0.9803, 0.4140]], requires_grad=True)"
      ]
     },
     "execution_count": null,
     "metadata": {},
     "output_type": "execute_result"
    }
   ],
   "source": [
    "model_m.covar_module.Lambda"
   ]
  },
  {
   "cell_type": "code",
   "execution_count": null,
   "id": "a7ebba6f",
   "metadata": {},
   "outputs": [
    {
     "data": {
      "text/plain": [
       "MultivariateNormal(loc: torch.Size([12]))"
      ]
     },
     "execution_count": null,
     "metadata": {},
     "output_type": "execute_result"
    }
   ],
   "source": [
    "likelihood(model_m(T))"
   ]
  },
  {
   "cell_type": "markdown",
   "id": "4290d36c",
   "metadata": {},
   "source": [
    "## Get info\n",
    "\n",
    "this is to return the kernel info for printing, both during training and for the final results\n",
    "\n",
    "The general api is:\n",
    "\n",
    "`get_info(var_names=None) -> dict[str, pd.DataFrame]` where the string the title of a kernel parameter "
   ]
  },
  {
   "cell_type": "code",
   "execution_count": null,
   "id": "d2d54232",
   "metadata": {},
   "outputs": [],
   "source": [
    "#| exports\n",
    "@patch\n",
    "def get_info(self: GPFA,\n",
    "             var_names = None # Optional variable names for better printing\n",
    "            ) -> dict[str, pd.DataFrame]:\n",
    "    \"Model info for a GPFA with a RBFKernel\"\n",
    "    out = {}\n",
    "    \n",
    "    latent_names = [f\"z{i}\" for i in range(self.covar_module.latent_dims)]\n",
    "    \n",
    "    out[\"Lambda\"] = pd.concat([\n",
    "        None if var_names is None else pd.Series(var_names, name='variable'),\n",
    "        pd.DataFrame(\n",
    "            self.covar_module.Lambda.detach().cpu().numpy(),\n",
    "            columns=latent_names)],\n",
    "        axis=1)\n",
    "    \n",
    "    ls = [self.covar_module.latent_kernels[i].lengthscale.detach().item() for i in range(self.covar_module.latent_dims)]\n",
    "    out[\"lengthscale\"] = pd.DataFrame({\n",
    "        'latent': latent_names,\n",
    "        'lengthscale': ls\n",
    "    })\n",
    "    \n",
    "    psi = self.covar_module.psi.detach().cpu().numpy()\n",
    "    out[\"psi\"] = pd.DataFrame({\n",
    "        'variable': var_names,\n",
    "        'psi': psi \n",
    "    })\n",
    "    \n",
    "    out[\"likelihood\"] = pd.DataFrame({'noise': [self.likelihood.noise_covar.noise.detach().item()]})\n",
    "    \n",
    "    return out"
   ]
  },
  {
   "cell_type": "code",
   "execution_count": null,
   "id": "d015d436",
   "metadata": {},
   "outputs": [
    {
     "data": {
      "text/plain": [
       "{'Lambda':          z0        z1        z2        z3        z4\n",
       " 0  0.238300  0.071901  0.920541  0.621538  0.950799\n",
       " 1  0.519228  0.210204  0.928017  0.094791  0.402726\n",
       " 2  0.477801  0.714146  0.359620  0.980278  0.414003,\n",
       " 'lengthscale':   latent  lengthscale\n",
       " 0     z0     0.693147\n",
       " 1     z1     0.693147\n",
       " 2     z2     0.693147\n",
       " 3     z3     0.693147\n",
       " 4     z4     0.693147,\n",
       " 'psi':   variable       psi\n",
       " 0     None  0.693147\n",
       " 1     None  0.693147\n",
       " 2     None  0.693147,\n",
       " 'likelihood':       noise\n",
       " 0  1.195812}"
      ]
     },
     "execution_count": null,
     "metadata": {},
     "output_type": "execute_result"
    }
   ],
   "source": [
    "model_m.get_info()"
   ]
  },
  {
   "cell_type": "code",
   "execution_count": null,
   "id": "335ba966",
   "metadata": {},
   "outputs": [
    {
     "data": {
      "text/plain": [
       "{'Lambda':   variable        z0        z1        z2        z3        z4\n",
       " 0        a  0.238300  0.071901  0.920541  0.621538  0.950799\n",
       " 1        b  0.519228  0.210204  0.928017  0.094791  0.402726\n",
       " 2        c  0.477801  0.714146  0.359620  0.980278  0.414003,\n",
       " 'lengthscale':   latent  lengthscale\n",
       " 0     z0     0.693147\n",
       " 1     z1     0.693147\n",
       " 2     z2     0.693147\n",
       " 3     z3     0.693147\n",
       " 4     z4     0.693147,\n",
       " 'psi':   variable       psi\n",
       " 0        a  0.693147\n",
       " 1        b  0.693147\n",
       " 2        c  0.693147,\n",
       " 'likelihood':       noise\n",
       " 0  1.195812}"
      ]
     },
     "execution_count": null,
     "metadata": {},
     "output_type": "execute_result"
    }
   ],
   "source": [
    "model_m.get_info([\"a\", \"b\", \"c\"])"
   ]
  },
  {
   "cell_type": "markdown",
   "id": "c0271318",
   "metadata": {},
   "source": [
    "## Export"
   ]
  },
  {
   "cell_type": "code",
   "execution_count": null,
   "id": "cc7bdd64",
   "metadata": {},
   "outputs": [],
   "source": [
    "#| hide\n",
    "from nbdev import nbdev_export\n",
    "nbdev_export()"
   ]
  },
  {
   "cell_type": "code",
   "execution_count": null,
   "id": "19db6556-9d37-457d-86ca-2987685d5c77",
   "metadata": {},
   "outputs": [
    {
     "data": {
      "text/plain": [
       "Parameter containing:\n",
       "tensor([[0.2383, 0.0719, 0.9205, 0.6215, 0.9508],\n",
       "        [0.5192, 0.2102, 0.9280, 0.0948, 0.4027],\n",
       "        [0.4778, 0.7141, 0.3596, 0.9803, 0.4140]], requires_grad=True)"
      ]
     },
     "execution_count": null,
     "metadata": {},
     "output_type": "execute_result"
    }
   ],
   "source": [
    "model_m.covar_module.Lambda"
   ]
  },
  {
   "cell_type": "code",
   "execution_count": null,
   "id": "4f1c46ff-14fc-482a-935f-975d6542845a",
   "metadata": {},
   "outputs": [
    {
     "data": {
      "text/plain": [
       "MultivariateNormal(loc: torch.Size([12]))"
      ]
     },
     "execution_count": null,
     "metadata": {},
     "output_type": "execute_result"
    }
   ],
   "source": [
    "likelihood(model_m(T))"
   ]
  },
  {
   "cell_type": "markdown",
   "id": "484d5e1f-425f-4428-92e6-eadb9d589648",
   "metadata": {},
   "source": [
    "## Get info\n",
    "\n",
    "this is to return the kernel info for printing, both during training and for the final results\n",
    "\n",
    "The general api is:\n",
    "\n",
    "`get_info(var_names=None) -> dict[str, pd.DataFrame]` where the string the title of a kernel parameter "
   ]
  },
  {
   "cell_type": "code",
   "execution_count": null,
   "id": "f4d83f1f-f70a-4ec4-8229-53a2034dc24c",
   "metadata": {},
   "outputs": [],
   "source": [
    "#| exports\n",
    "@patch\n",
    "def get_info(self: GPFA,\n",
    "             var_names = None # Optional variable names for better printing\n",
    "            ) -> dict[str, pd.DataFrame]:\n",
    "    \"Model info for a GPFA with a RBFKernel\"\n",
    "    out = {}\n",
    "    \n",
    "    latent_names = [f\"z{i}\" for i in range(self.covar_module.latent_dims)]\n",
    "    \n",
    "    out[\"Lambda\"] = pd.concat([\n",
    "        None if var_names is None else pd.Series(var_names, name='variable'),\n",
    "        pd.DataFrame(\n",
    "            self.covar_module.Lambda.detach().cpu().numpy(),\n",
    "            columns=latent_names)],\n",
    "        axis=1)\n",
    "    \n",
    "    ls = [self.covar_module.latent_kernels[i].lengthscale.detach().item() for i in range(self.covar_module.latent_dims)]\n",
    "    out[\"lengthscale\"] = pd.DataFrame({\n",
    "        'latent': latent_names,\n",
    "        'lengthscale': ls\n",
    "    })\n",
    "    \n",
    "    psi = self.covar_module.psi.detach().cpu().numpy()\n",
    "    out[\"psi\"] = pd.DataFrame({\n",
    "        'variable': var_names,\n",
    "        'psi': psi \n",
    "    })\n",
    "    \n",
    "    out[\"likelihood\"] = pd.DataFrame({'noise': [self.likelihood.noise_covar.noise.detach().item()]})\n",
    "    \n",
    "    return out"
   ]
  },
  {
   "cell_type": "code",
   "execution_count": null,
   "id": "3d65c9e5-f335-4174-81e8-1b9a4be9c223",
   "metadata": {},
   "outputs": [
    {
     "data": {
      "text/plain": [
       "{'Lambda':          z0        z1        z2        z3        z4\n",
       " 0  0.238300  0.071901  0.920541  0.621538  0.950799\n",
       " 1  0.519228  0.210204  0.928017  0.094791  0.402726\n",
       " 2  0.477801  0.714146  0.359620  0.980278  0.414003,\n",
       " 'lengthscale':   latent  lengthscale\n",
       " 0     z0     0.693147\n",
       " 1     z1     0.693147\n",
       " 2     z2     0.693147\n",
       " 3     z3     0.693147\n",
       " 4     z4     0.693147,\n",
       " 'psi':   variable       psi\n",
       " 0     None  0.693147\n",
       " 1     None  0.693147\n",
       " 2     None  0.693147,\n",
       " 'likelihood':       noise\n",
       " 0  1.195812}"
      ]
     },
     "execution_count": null,
     "metadata": {},
     "output_type": "execute_result"
    }
   ],
   "source": [
    "model_m.get_info()"
   ]
  },
  {
   "cell_type": "code",
   "execution_count": null,
   "id": "31760c86-8f89-4d9d-a17c-233e0e58a142",
   "metadata": {},
   "outputs": [
    {
     "data": {
      "text/plain": [
       "{'Lambda':   variable        z0        z1        z2        z3        z4\n",
       " 0        a  0.238300  0.071901  0.920541  0.621538  0.950799\n",
       " 1        b  0.519228  0.210204  0.928017  0.094791  0.402726\n",
       " 2        c  0.477801  0.714146  0.359620  0.980278  0.414003,\n",
       " 'lengthscale':   latent  lengthscale\n",
       " 0     z0     0.693147\n",
       " 1     z1     0.693147\n",
       " 2     z2     0.693147\n",
       " 3     z3     0.693147\n",
       " 4     z4     0.693147,\n",
       " 'psi':   variable       psi\n",
       " 0        a  0.693147\n",
       " 1        b  0.693147\n",
       " 2        c  0.693147,\n",
       " 'likelihood':       noise\n",
       " 0  1.195812}"
      ]
     },
     "execution_count": null,
     "metadata": {},
     "output_type": "execute_result"
    }
   ],
   "source": [
    "model_m.get_info([\"a\", \"b\", \"c\"])"
   ]
  },
  {
   "cell_type": "markdown",
   "id": "746701df-3856-4083-81df-9e664bf33a40",
   "metadata": {},
   "source": [
    "## Export"
   ]
  },
  {
   "cell_type": "code",
   "execution_count": null,
   "id": "12c41b65-9eb8-4d70-b4fc-05113783e636",
   "metadata": {},
   "outputs": [],
   "source": [
    "#| hide\n",
    "from nbdev import nbdev_export\n",
    "nbdev_export()"
   ]
  }
 ],
 "metadata": {
  "kernelspec": {
   "display_name": "data_science",
   "language": "python",
   "name": "data_science"
  },
  "widgets": {
   "application/vnd.jupyter.widget-state+json": {
    "state": {},
    "version_major": 2,
    "version_minor": 0
   }
  }
 },
 "nbformat": 4,
 "nbformat_minor": 5
}
