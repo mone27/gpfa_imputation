{
 "cells": [
  {
   "cell_type": "code",
   "execution_count": null,
   "id": "910de00b-dedd-4710-b53d-b891eeab7c80",
   "metadata": {
    "pycharm": {
     "name": "#%%\n"
    }
   },
   "outputs": [],
   "source": [
    "#| hide\n",
    "#| default_exp simple_gp_imputation"
   ]
  },
  {
   "cell_type": "markdown",
   "id": "86e6fca7-ccd7-4af6-b817-e4e2c77515d6",
   "metadata": {
    "pycharm": {
     "name": "#%% md\n"
    }
   },
   "source": [
    "# Simple GP Imputation\n",
    "\n",
    "> Imputation using a different Gaussian Processes for each variable"
   ]
  },
  {
   "cell_type": "code",
   "execution_count": null,
   "id": "3116f056-2ce3-44c4-b665-a7620eca76eb",
   "metadata": {
    "pycharm": {
     "name": "#%%\n"
    }
   },
   "outputs": [],
   "source": [
    "#| hide\n",
    "#| export\n",
    "from gpfa_imputation.data_preparation import *\n",
    "from gpfa_imputation.learner import NormParam\n",
    "from gpfa_imputation.results import GPFAResult\n",
    "\n",
    "from fastcore.foundation import patch \n",
    "import gpytorch\n",
    "import torch\n",
    "from torch import Tensor\n",
    "from tqdm.auto import tqdm\n",
    "\n",
    "import pandas as pd\n",
    "import numpy as np\n",
    "import matplotlib.pyplot as plt"
   ]
  },
  {
   "cell_type": "markdown",
   "id": "dd1f34fb-9f5e-43f4-8094-a2ecf15840b5",
   "metadata": {
    "pycharm": {
     "name": "#%% md\n"
    }
   },
   "source": [
    "## GP"
   ]
  },
  {
   "cell_type": "code",
   "execution_count": null,
   "id": "194f75fe-1bea-4bbf-8619-adf57ec03590",
   "metadata": {
    "pycharm": {
     "name": "#%%\n"
    }
   },
   "outputs": [],
   "source": [
    "#| export\n",
    "class SimpleGP(gpytorch.models.ExactGP):\n",
    "    \"Exact GP implemnetation using GPyTorch\"\n",
    "    def __init__(self, train_x, train_y, likelihood):\n",
    "        super().__init__(train_x, train_y, likelihood)\n",
    "        self.mean_module = gpytorch.means.ConstantMean()\n",
    "        self.covar_module = gpytorch.kernels.ScaleKernel(gpytorch.kernels.RBFKernel())\n",
    "\n",
    "    def forward(self, x, **params):\n",
    "        mean_x = self.mean_module(x)\n",
    "        covar_x = self.covar_module(x, **params)\n",
    "        return gpytorch.distributions.MultivariateNormal(mean_x, covar_x)"
   ]
  },
  {
   "cell_type": "code",
   "execution_count": null,
   "id": "2e7c82f7-2043-44b0-8bfe-246c58d2d0cb",
   "metadata": {
    "pycharm": {
     "name": "#%%\n"
    }
   },
   "outputs": [],
   "source": [
    "k = SimpleGP(torch.tensor([1,2,3]), torch.tensor([1,2,3]), gpytorch.likelihoods.GaussianLikelihood())"
   ]
  },
  {
   "cell_type": "code",
   "execution_count": null,
   "id": "44cb0ce3-3c82-4369-b049-d61af1ef0fe6",
   "metadata": {
    "pycharm": {
     "name": "#%%\n"
    }
   },
   "outputs": [
    {
     "data": {
      "text/plain": [
       "SimpleGP(\n",
       "  (likelihood): GaussianLikelihood(\n",
       "    (noise_covar): HomoskedasticNoise(\n",
       "      (raw_noise_constraint): GreaterThan(1.000E-04)\n",
       "    )\n",
       "  )\n",
       "  (mean_module): ConstantMean()\n",
       "  (covar_module): ScaleKernel(\n",
       "    (base_kernel): RBFKernel(\n",
       "      (raw_lengthscale_constraint): Positive()\n",
       "    )\n",
       "    (raw_outputscale_constraint): Positive()\n",
       "  )\n",
       ")"
      ]
     },
     "execution_count": null,
     "metadata": {},
     "output_type": "execute_result"
    }
   ],
   "source": [
    "k"
   ]
  },
  {
   "cell_type": "code",
   "execution_count": null,
   "id": "bea8d592-757f-4bda-94b7-a031897e3dac",
   "metadata": {
    "pycharm": {
     "name": "#%%\n"
    }
   },
   "outputs": [
    {
     "data": {
      "text/plain": [
       "0.6931471824645996"
      ]
     },
     "execution_count": null,
     "metadata": {},
     "output_type": "execute_result"
    }
   ],
   "source": [
    "k.covar_module.base_kernel.lengthscale.item()"
   ]
  },
  {
   "cell_type": "code",
   "execution_count": null,
   "id": "6bc66019-989e-48eb-91af-709958f01039",
   "metadata": {
    "pycharm": {
     "name": "#%%\n"
    }
   },
   "outputs": [
    {
     "data": {
      "text/plain": [
       "0.6931471824645996"
      ]
     },
     "execution_count": null,
     "metadata": {},
     "output_type": "execute_result"
    }
   ],
   "source": [
    "k.covar_module.outputscale.item()"
   ]
  },
  {
   "cell_type": "code",
   "execution_count": null,
   "id": "7f2c0819-6a97-4858-80f4-54b938ff9bb4",
   "metadata": {
    "pycharm": {
     "name": "#%%\n"
    }
   },
   "outputs": [],
   "source": [
    "#| export\n",
    "@patch\n",
    "def get_info(self: SimpleGP,\n",
    "             var_names = None # Optional variable names for better printing\n",
    "            ) -> dict[str, pd.DataFrame]:\n",
    "    \"Model info for a GPFA with a RBFKernel\"\n",
    "    out = {}\n",
    "\n",
    "    out[\"lengthscale\"] = pd.DataFrame({'lengthscale': [self.covar_module.base_kernel.lengthscale.item()]})\n",
    "    out[\"outputscale\"] = pd.DataFrame({'outputscale': [self.covar_module.outputscale.item()]})\n",
    "    out[\"likelihood\"] = pd.DataFrame({'noise': [self.likelihood.noise_covar.noise.item()]})\n",
    "\n",
    "    return out"
   ]
  },
  {
   "cell_type": "code",
   "execution_count": null,
   "id": "ed1af4c1-f436-4593-bc7d-7d3577c2c9bf",
   "metadata": {
    "pycharm": {
     "name": "#%%\n"
    }
   },
   "outputs": [
    {
     "data": {
      "text/plain": [
       "{'lengthscale':    lengthscale\n",
       " 0     0.693147,\n",
       " 'outputscale':    outputscale\n",
       " 0     0.693147,\n",
       " 'likelihood':       noise\n",
       " 0  0.693247}"
      ]
     },
     "execution_count": null,
     "metadata": {},
     "output_type": "execute_result"
    }
   ],
   "source": [
    "k.get_info()"
   ]
  },
  {
   "cell_type": "markdown",
   "id": "87517080-2248-4f2c-9b57-5a12c67659df",
   "metadata": {
    "pycharm": {
     "name": "#%% md\n"
    }
   },
   "source": [
    "## Learner"
   ]
  },
  {
   "cell_type": "code",
   "execution_count": null,
   "id": "daa11e43-c06c-4823-a2cc-48e8935c693e",
   "metadata": {
    "pycharm": {
     "name": "#%%\n"
    }
   },
   "outputs": [],
   "source": [
    "#| export\n",
    "class SimpleGPLearner():\n",
    "    \"Learner for a simple GP process. It handles only 1 dimensional time series\"\n",
    "    def __init__(self,\n",
    "                 X: Tensor, # (n_obs) Univariate time series\n",
    "                 T: Tensor = None, # (n_obs) Vector of time of observations.\n",
    "                 # If none each observation are considered to be at the same distance\n",
    "                ):\n",
    "        self.prepare_X(X)\n",
    "        if T is None: self.default_time(X)\n",
    "        else: self.T = T\n",
    "        self.T = self.T.to(X.device) # to support GPUs\n",
    "        \n",
    "        self.likelihood = gpytorch.likelihoods.GaussianLikelihood()\n",
    "        self.model = SimpleGP(self.T, self.X, self.likelihood)\n",
    "                \n",
    "    def prepare_X(self, X):\n",
    "        self.norm = Normalizer(X)\n",
    "        self.X = self.norm.normalize(X)\n",
    "        \n",
    "    def default_time(self, X):\n",
    "        self.T = torch.arange(X.shape[0])\n",
    "        \n",
    "    \n",
    "    def train(self, n_iter=100, lr=0.1):\n",
    "        # need to enable training mode\n",
    "        self.model.train()\n",
    "        self.likelihood.train()\n",
    "        \n",
    "        # Use the adam optimizer\n",
    "        optimizer = torch.optim.Adam(self.model.parameters(), lr=lr) \n",
    "        \n",
    "        # create new losses\n",
    "        if not hasattr(self, 'losses'):\n",
    "            self.losses = torch.zeros(n_iter)\n",
    "            loss_offset = 0\n",
    "        # append to previous losses\n",
    "        else:\n",
    "            loss_offset = self.losses.shape[0]\n",
    "            self.losses = torch.concat([self.losses, torch.zeros(n_iter)])\n",
    "            \n",
    "        # \"Loss\" for GPs - the marginal log likelihood\n",
    "        mll = gpytorch.mlls.ExactMarginalLogLikelihood(self.likelihood, self.model)\n",
    "        for i in tqdm(range(n_iter)):\n",
    "            # Zero gradients from previous iteration\n",
    "            optimizer.zero_grad()\n",
    "            # Output from model\n",
    "            output = self.model(self.T)\n",
    "            # Calc loss and backprop gradients\n",
    "            loss = -mll(output, self.X)\n",
    "            self.losses[i + loss_offset] = loss.detach()\n",
    "            loss.backward()\n",
    "            self.printer(i)\n",
    "\n",
    "            optimizer.step()\n",
    "        \n",
    "        \n",
    "    def printer(self, i):\n",
    "        pass\n",
    "    \n",
    "    @torch.no_grad() # don't calc gradients on predictions\n",
    "    def predict_raw(self, T):\n",
    "        self.model.eval()\n",
    "        self.likelihood.eval()\n",
    "        return self.likelihood(self.model(T))\n",
    "\n",
    "    @torch.no_grad() # needed because raw output still has gradients attached\n",
    "    def prediction_from_raw(self, raw_mean, raw_std):\n",
    "        \"\"\" Takes a raw prediction and produces and final prediction, by reshaping and reversing normalization\"\"\"\n",
    "        pred_mean = self.norm.reverse_normalize(raw_mean)\n",
    "        pred_std = self.norm.reverse_normalize_std(raw_std)\n",
    "\n",
    "        #remove pytorch gradients\n",
    "        return NormParam(pred_mean.detach(), pred_std.detach())\n",
    "\n",
    "    def predict(self, T):\n",
    "        pred_raw = self.predict_raw(T)\n",
    "        return self.prediction_from_raw(pred_raw.mean, pred_raw.stddev)"
   ]
  },
  {
   "cell_type": "code",
   "execution_count": null,
   "id": "30ec8725-5ff2-4f75-b300-bb17a71c176e",
   "metadata": {
    "pycharm": {
     "name": "#%%\n"
    }
   },
   "outputs": [],
   "source": [
    "X = torch.tensor([1.,2,3,4])"
   ]
  },
  {
   "cell_type": "code",
   "execution_count": null,
   "id": "81f77c94-4fa9-4094-99b3-720656972212",
   "metadata": {
    "pycharm": {
     "name": "#%%\n"
    }
   },
   "outputs": [],
   "source": [
    "l = SimpleGPLearner(X)"
   ]
  },
  {
   "cell_type": "code",
   "execution_count": null,
   "id": "6e7dfc04-5902-4e8e-ba2c-21d283e650b2",
   "metadata": {
    "pycharm": {
     "name": "#%%\n"
    }
   },
   "outputs": [
    {
     "data": {
      "application/vnd.jupyter.widget-view+json": {
       "model_id": "78770765e86140eea425037d897f9f7b",
       "version_major": 2,
       "version_minor": 0
      },
      "text/plain": [
       "  0%|          | 0/100 [00:00<?, ?it/s]"
      ]
     },
     "metadata": {},
     "output_type": "display_data"
    },
    {
     "name": "stderr",
     "output_type": "stream",
     "text": [
      "/home/simone/anaconda3/envs/data-science/lib/python3.10/site-packages/gpytorch/lazy/triangular_lazy_tensor.py:136: UserWarning: torch.triangular_solve is deprecated in favor of torch.linalg.solve_triangularand will be removed in a future PyTorch release.\n",
      "torch.linalg.solve_triangular has its arguments reversed and does not return a copy of one of the inputs.\n",
      "X = torch.triangular_solve(B, A).solution\n",
      "should be replaced with\n",
      "X = torch.linalg.solve_triangular(A, B). (Triggered internally at  ../aten/src/ATen/native/BatchLinearAlgebra.cpp:2183.)\n",
      "  res = torch.triangular_solve(right_tensor, self.evaluate(), upper=self.upper).solution\n"
     ]
    }
   ],
   "source": [
    "l.train()"
   ]
  },
  {
   "cell_type": "code",
   "execution_count": null,
   "id": "68aa6252-cd22-497a-8e79-c3cb04d38e0d",
   "metadata": {
    "pycharm": {
     "name": "#%%\n"
    }
   },
   "outputs": [
    {
     "data": {
      "text/plain": [
       "NormalParameters(mean=tensor([5.5955, 6.4173]), std=tensor([0.1980, 0.6468]))"
      ]
     },
     "execution_count": null,
     "metadata": {},
     "output_type": "execute_result"
    }
   ],
   "source": [
    "l.predict(torch.tensor([5, 7]))"
   ]
  },
  {
   "cell_type": "markdown",
   "id": "a83303db-b94c-4438-801d-7d5cb9688ae7",
   "metadata": {
    "pycharm": {
     "name": "#%% md\n"
    }
   },
   "source": [
    "Imputation"
   ]
  },
  {
   "cell_type": "markdown",
   "id": "c666bb3e-8d11-4580-a31e-c99b47d91d1d",
   "metadata": {
    "pycharm": {
     "name": "#%% md\n"
    }
   },
   "source": [
    "The imputation using simple GPs make a separate GP process for each variable, which are completely independent"
   ]
  },
  {
   "cell_type": "code",
   "execution_count": null,
   "id": "d0098223-2f12-4c30-a7a8-27fc3a868631",
   "metadata": {
    "pycharm": {
     "name": "#%%\n"
    }
   },
   "outputs": [],
   "source": [
    "#| export\n",
    "class SimpleGPImputationExplorer:\n",
    "    def __init__(\n",
    "        self,\n",
    "        data: pd.DataFrame , #observed data with missing data as NA\n",
    "        cuda = False, # Use GPU?\n",
    "    ):\n",
    "        self.data = data\n",
    "        \n",
    "        device = 'cuda' if cuda else 'cpu'\n",
    "        \n",
    "        self.T = torch.arange(0, len(data), dtype=torch.float32, device=device) # time is encoded with a increase of 1\n",
    "        \n",
    "        # Training data\n",
    "        self.train_idx = ~self.data.isna().any(axis=1)\n",
    "        self.train_data = torch.tensor(self.data[self.train_idx].to_numpy().astype(np.float32), device=device)\n",
    "        self.train_T = self.T[self.train_idx]\n",
    "        \n",
    "        self.learners = []\n",
    "        \n",
    "        for i in range(self.data.shape[1]):\n",
    "            self.make_var_learner(i)\n",
    "        \n",
    "                       \n",
    "        # if cuda: self.learner.cuda()\n",
    "        \n",
    "    def make_var_learner(self, i):\n",
    "        # get only the ith column from the data\n",
    "        x = self.train_data[:,i]\n",
    "        learner = SimpleGPLearner(x, self.train_T)\n",
    "        self.learners.append(learner)\n",
    "\n",
    "        \n",
    "    def fit(self):\n",
    "        \"Fit learners to training data\"\n",
    "        \n",
    "        for learner in self.learners:\n",
    "            learner.train()\n",
    "            \n",
    "        return self\n",
    "\n",
    "    def predict(self):\n",
    "        \n",
    "        # return always tidy df\n",
    "        \n",
    "        preds = []\n",
    "        \n",
    "        for learner, feature_name in zip(self.learners, self.data.columns):\n",
    "            pred = learner.predict(self.T)\n",
    "            pred_mean = pd.DataFrame(pred.mean.cpu(), columns = [\"mean\"]).assign(time = self.T.cpu())\n",
    "            pred_std = pd.DataFrame(pred.std.cpu(), columns = [\"std\"]).assign(time = self.T.cpu())\n",
    "            \n",
    "            pred = pd.merge(pred_mean, pred_std, on='time').assign(variable = feature_name)\n",
    "            preds.append(pred)\n",
    "                    \n",
    "        \n",
    "        return pd.concat(preds)\n",
    "    \n",
    "    def fit_predict(self):\n",
    "        self.fit()\n",
    "        return self.predict()\n",
    "\n",
    "    \n",
    "    def __repr__(self):\n",
    "        return f\"\"\"Simple GP Imputation Explorer:\n",
    "    N obs: {self.data.shape[0]}\n",
    "    N features {self.data.shape[1]} ({', '.join(self.data.columns)})\n",
    "    N missing observations {self.data.isna().to_numpy().flatten().sum()}\"\"\"\n",
    "\n",
    "    def __str__(self):\n",
    "        return self.__repr__()"
   ]
  },
  {
   "cell_type": "code",
   "execution_count": null,
   "id": "c88ab2a7-6ed7-4a3f-b4c4-c827994d11fa",
   "metadata": {
    "pycharm": {
     "name": "#%%\n"
    }
   },
   "outputs": [],
   "source": [
    "fd = GPFADataTest.generate(2, 7).add_gap(3, [\"x1\"]).add_gap(2, [\"x0\"])"
   ]
  },
  {
   "cell_type": "code",
   "execution_count": null,
   "id": "42d3f5b7-41f6-4e6b-8788-f8d84725100d",
   "metadata": {
    "pycharm": {
     "name": "#%%\n"
    }
   },
   "outputs": [],
   "source": [
    "gp_imp = SimpleGPImputationExplorer(fd.data)"
   ]
  },
  {
   "cell_type": "code",
   "execution_count": null,
   "id": "2b51fcdf-426b-4278-9efd-4dd2f489c223",
   "metadata": {
    "pycharm": {
     "name": "#%%\n"
    }
   },
   "outputs": [
    {
     "data": {
      "text/plain": [
       "Simple GP Imputation Explorer:\n",
       "    N obs: 7\n",
       "    N features 2 (x0, x1)\n",
       "    N missing observations 5"
      ]
     },
     "execution_count": null,
     "metadata": {},
     "output_type": "execute_result"
    }
   ],
   "source": [
    "gp_imp"
   ]
  },
  {
   "cell_type": "code",
   "execution_count": null,
   "id": "563d2711-9a40-4b69-8fd2-93e5cbd5c0bf",
   "metadata": {
    "pycharm": {
     "name": "#%%\n"
    }
   },
   "outputs": [
    {
     "data": {
      "application/vnd.jupyter.widget-view+json": {
       "model_id": "be639a4ee26b41069fc1e9a413479060",
       "version_major": 2,
       "version_minor": 0
      },
      "text/plain": [
       "  0%|          | 0/100 [00:00<?, ?it/s]"
      ]
     },
     "metadata": {},
     "output_type": "display_data"
    },
    {
     "data": {
      "application/vnd.jupyter.widget-view+json": {
       "model_id": "9870a82f2fb846dca0fc600d488ae995",
       "version_major": 2,
       "version_minor": 0
      },
      "text/plain": [
       "  0%|          | 0/100 [00:00<?, ?it/s]"
      ]
     },
     "metadata": {},
     "output_type": "display_data"
    },
    {
     "data": {
      "text/plain": [
       "Simple GP Imputation Explorer:\n",
       "    N obs: 7\n",
       "    N features 2 (x0, x1)\n",
       "    N missing observations 5"
      ]
     },
     "execution_count": null,
     "metadata": {},
     "output_type": "execute_result"
    }
   ],
   "source": [
    "gp_imp.fit()"
   ]
  },
  {
   "cell_type": "code",
   "execution_count": null,
   "id": "84e6dbfa-5e92-4d39-a349-0e9447f8f6e8",
   "metadata": {
    "pycharm": {
     "name": "#%%\n"
    }
   },
   "outputs": [
    {
     "data": {
      "text/plain": [
       "NormalParameters(mean=tensor([-0.1003]), std=tensor([0.2664]))"
      ]
     },
     "execution_count": null,
     "metadata": {},
     "output_type": "execute_result"
    }
   ],
   "source": [
    "gp_imp.learners[0].predict(torch.tensor([3.]))"
   ]
  },
  {
   "cell_type": "code",
   "execution_count": null,
   "id": "c97e701c-0346-435b-9403-8c5e1d8c3e63",
   "metadata": {
    "pycharm": {
     "name": "#%%\n"
    }
   },
   "outputs": [
    {
     "data": {
      "text/html": [
       "<div>\n",
       "<style scoped>\n",
       "    .dataframe tbody tr th:only-of-type {\n",
       "        vertical-align: middle;\n",
       "    }\n",
       "\n",
       "    .dataframe tbody tr th {\n",
       "        vertical-align: top;\n",
       "    }\n",
       "\n",
       "    .dataframe thead th {\n",
       "        text-align: right;\n",
       "    }\n",
       "</style>\n",
       "<table border=\"1\" class=\"dataframe\">\n",
       "  <thead>\n",
       "    <tr style=\"text-align: right;\">\n",
       "      <th></th>\n",
       "      <th>x0</th>\n",
       "      <th>x1</th>\n",
       "    </tr>\n",
       "  </thead>\n",
       "  <tbody>\n",
       "    <tr>\n",
       "      <th>0</th>\n",
       "      <td>0.322117</td>\n",
       "      <td>0.294301</td>\n",
       "    </tr>\n",
       "    <tr>\n",
       "      <th>1</th>\n",
       "      <td>-0.119194</td>\n",
       "      <td>0.224219</td>\n",
       "    </tr>\n",
       "    <tr>\n",
       "      <th>2</th>\n",
       "      <td>-0.193881</td>\n",
       "      <td>-0.017484</td>\n",
       "    </tr>\n",
       "    <tr>\n",
       "      <th>3</th>\n",
       "      <td>NaN</td>\n",
       "      <td>NaN</td>\n",
       "    </tr>\n",
       "    <tr>\n",
       "      <th>4</th>\n",
       "      <td>NaN</td>\n",
       "      <td>NaN</td>\n",
       "    </tr>\n",
       "    <tr>\n",
       "      <th>5</th>\n",
       "      <td>0.540541</td>\n",
       "      <td>NaN</td>\n",
       "    </tr>\n",
       "    <tr>\n",
       "      <th>6</th>\n",
       "      <td>-0.410130</td>\n",
       "      <td>-0.271418</td>\n",
       "    </tr>\n",
       "  </tbody>\n",
       "</table>\n",
       "</div>"
      ],
      "text/plain": [
       "         x0        x1\n",
       "0  0.322117  0.294301\n",
       "1 -0.119194  0.224219\n",
       "2 -0.193881 -0.017484\n",
       "3       NaN       NaN\n",
       "4       NaN       NaN\n",
       "5  0.540541       NaN\n",
       "6 -0.410130 -0.271418"
      ]
     },
     "execution_count": null,
     "metadata": {},
     "output_type": "execute_result"
    }
   ],
   "source": [
    "gp_imp.data"
   ]
  },
  {
   "cell_type": "code",
   "execution_count": null,
   "id": "ff4525eb-9cec-4851-8b1a-c7c6974ab716",
   "metadata": {
    "pycharm": {
     "name": "#%%\n"
    }
   },
   "outputs": [
    {
     "data": {
      "text/plain": [
       "tensor([[ 0.3221,  0.2943],\n",
       "        [-0.1192,  0.2242],\n",
       "        [-0.1939, -0.0175],\n",
       "        [-0.4101, -0.2714]])"
      ]
     },
     "execution_count": null,
     "metadata": {},
     "output_type": "execute_result"
    }
   ],
   "source": [
    "gp_imp.train_data"
   ]
  },
  {
   "cell_type": "code",
   "execution_count": null,
   "id": "5910546b-76b9-4c19-9905-9b7b0a6135c0",
   "metadata": {
    "pycharm": {
     "name": "#%%\n"
    }
   },
   "outputs": [
    {
     "data": {
      "text/html": [
       "<div>\n",
       "<style scoped>\n",
       "    .dataframe tbody tr th:only-of-type {\n",
       "        vertical-align: middle;\n",
       "    }\n",
       "\n",
       "    .dataframe tbody tr th {\n",
       "        vertical-align: top;\n",
       "    }\n",
       "\n",
       "    .dataframe thead th {\n",
       "        text-align: right;\n",
       "    }\n",
       "</style>\n",
       "<table border=\"1\" class=\"dataframe\">\n",
       "  <thead>\n",
       "    <tr style=\"text-align: right;\">\n",
       "      <th></th>\n",
       "      <th>mean</th>\n",
       "      <th>time</th>\n",
       "      <th>std</th>\n",
       "      <th>variable</th>\n",
       "    </tr>\n",
       "  </thead>\n",
       "  <tbody>\n",
       "    <tr>\n",
       "      <th>0</th>\n",
       "      <td>0.105723</td>\n",
       "      <td>0.0</td>\n",
       "      <td>0.232544</td>\n",
       "      <td>x0</td>\n",
       "    </tr>\n",
       "    <tr>\n",
       "      <th>1</th>\n",
       "      <td>-0.109509</td>\n",
       "      <td>1.0</td>\n",
       "      <td>0.232544</td>\n",
       "      <td>x0</td>\n",
       "    </tr>\n",
       "    <tr>\n",
       "      <th>2</th>\n",
       "      <td>-0.145935</td>\n",
       "      <td>2.0</td>\n",
       "      <td>0.232544</td>\n",
       "      <td>x0</td>\n",
       "    </tr>\n",
       "    <tr>\n",
       "      <th>3</th>\n",
       "      <td>-0.100289</td>\n",
       "      <td>3.0</td>\n",
       "      <td>0.266372</td>\n",
       "      <td>x0</td>\n",
       "    </tr>\n",
       "    <tr>\n",
       "      <th>4</th>\n",
       "      <td>-0.100289</td>\n",
       "      <td>4.0</td>\n",
       "      <td>0.266372</td>\n",
       "      <td>x0</td>\n",
       "    </tr>\n",
       "    <tr>\n",
       "      <th>5</th>\n",
       "      <td>-0.100289</td>\n",
       "      <td>5.0</td>\n",
       "      <td>0.266372</td>\n",
       "      <td>x0</td>\n",
       "    </tr>\n",
       "    <tr>\n",
       "      <th>6</th>\n",
       "      <td>-0.251402</td>\n",
       "      <td>6.0</td>\n",
       "      <td>0.232544</td>\n",
       "      <td>x0</td>\n",
       "    </tr>\n",
       "    <tr>\n",
       "      <th>0</th>\n",
       "      <td>0.294510</td>\n",
       "      <td>0.0</td>\n",
       "      <td>0.023458</td>\n",
       "      <td>x1</td>\n",
       "    </tr>\n",
       "    <tr>\n",
       "      <th>1</th>\n",
       "      <td>0.220237</td>\n",
       "      <td>1.0</td>\n",
       "      <td>0.023208</td>\n",
       "      <td>x1</td>\n",
       "    </tr>\n",
       "    <tr>\n",
       "      <th>2</th>\n",
       "      <td>-0.014538</td>\n",
       "      <td>2.0</td>\n",
       "      <td>0.023457</td>\n",
       "      <td>x1</td>\n",
       "    </tr>\n",
       "    <tr>\n",
       "      <th>3</th>\n",
       "      <td>-0.220033</td>\n",
       "      <td>3.0</td>\n",
       "      <td>0.083291</td>\n",
       "      <td>x1</td>\n",
       "    </tr>\n",
       "    <tr>\n",
       "      <th>4</th>\n",
       "      <td>-0.293843</td>\n",
       "      <td>4.0</td>\n",
       "      <td>0.150042</td>\n",
       "      <td>x1</td>\n",
       "    </tr>\n",
       "    <tr>\n",
       "      <th>5</th>\n",
       "      <td>-0.293429</td>\n",
       "      <td>5.0</td>\n",
       "      <td>0.122185</td>\n",
       "      <td>x1</td>\n",
       "    </tr>\n",
       "    <tr>\n",
       "      <th>6</th>\n",
       "      <td>-0.270590</td>\n",
       "      <td>6.0</td>\n",
       "      <td>0.023595</td>\n",
       "      <td>x1</td>\n",
       "    </tr>\n",
       "  </tbody>\n",
       "</table>\n",
       "</div>"
      ],
      "text/plain": [
       "       mean  time       std variable\n",
       "0  0.105723   0.0  0.232544       x0\n",
       "1 -0.109509   1.0  0.232544       x0\n",
       "2 -0.145935   2.0  0.232544       x0\n",
       "3 -0.100289   3.0  0.266372       x0\n",
       "4 -0.100289   4.0  0.266372       x0\n",
       "5 -0.100289   5.0  0.266372       x0\n",
       "6 -0.251402   6.0  0.232544       x0\n",
       "0  0.294510   0.0  0.023458       x1\n",
       "1  0.220237   1.0  0.023208       x1\n",
       "2 -0.014538   2.0  0.023457       x1\n",
       "3 -0.220033   3.0  0.083291       x1\n",
       "4 -0.293843   4.0  0.150042       x1\n",
       "5 -0.293429   5.0  0.122185       x1\n",
       "6 -0.270590   6.0  0.023595       x1"
      ]
     },
     "execution_count": null,
     "metadata": {},
     "output_type": "execute_result"
    }
   ],
   "source": [
    "gp_imp.predict()"
   ]
  },
  {
   "cell_type": "code",
   "execution_count": null,
   "id": "2d912112-8c62-4008-9c69-b854cf895898",
   "metadata": {
    "pycharm": {
     "name": "#%%\n"
    }
   },
   "outputs": [
    {
     "data": {
      "image/png": "[encoded data removed]",
      "text/plain": [
       "<Figure size 432x288 with 1 Axes>"
      ]
     },
     "metadata": {
      "needs_background": "light"
     },
     "output_type": "display_data"
    }
   ],
   "source": [
    "#| hide\n",
    "def plot_losses(self: SimpleGPImputationExplorer):\n",
    "    for l in self.learners:\n",
    "        plt.plot(l.losses)\n",
    "\n",
    "plot_losses(gp_imp)"
   ]
  },
  {
   "cell_type": "markdown",
   "id": "44923201-7eec-4b63-a849-d19cb35c0781",
   "metadata": {
    "pycharm": {
     "name": "#%% md\n"
    }
   },
   "source": [
    "## results"
   ]
  },
  {
   "cell_type": "code",
   "execution_count": null,
   "id": "04371f49-b5e6-4249-b3d3-6053304179bd",
   "metadata": {
    "pycharm": {
     "name": "#%%\n"
    }
   },
   "outputs": [],
   "source": [
    "self = gp_imp\n",
    "infos = [learner.model.get_info() for learner in self.learners]"
   ]
  },
  {
   "cell_type": "code",
   "execution_count": null,
   "id": "57854f0d-fa90-45d9-a20f-ec2d6f5e68a5",
   "metadata": {
    "pycharm": {
     "name": "#%%\n"
    }
   },
   "outputs": [
    {
     "data": {
      "text/plain": [
       "[{'lengthscale':    lengthscale\n",
       "  0     0.192713,\n",
       "  'outputscale':    outputscale\n",
       "  0     0.366132,\n",
       "  'likelihood':       noise\n",
       "  0  0.384582},\n",
       " {'lengthscale':    lengthscale\n",
       "  0     1.679326,\n",
       "  'outputscale':    outputscale\n",
       "  0     0.910373,\n",
       "  'likelihood':       noise\n",
       "  0  0.004235}]"
      ]
     },
     "execution_count": null,
     "metadata": {},
     "output_type": "execute_result"
    }
   ],
   "source": [
    "infos"
   ]
  },
  {
   "cell_type": "code",
   "execution_count": null,
   "id": "ff0b2a9d-fafc-4b29-9be1-530884c352a4",
   "metadata": {
    "pycharm": {
     "name": "#%%\n"
    }
   },
   "outputs": [],
   "source": [
    "#| export\n",
    "@patch\n",
    "def model_info(self: SimpleGPImputationExplorer):\n",
    "    \"Combine parameters of different kernels into one output\" \n",
    "    infos = [learner.model.get_info() for learner in self.learners]\n",
    "    out = {}\n",
    "    for key in infos[0].keys():\n",
    "        values = pd.concat([info[key] for info in infos])\n",
    "        values.insert(0, \"variable\", self.data.columns)\n",
    "        out[key] = values \n",
    "    return out"
   ]
  },
  {
   "cell_type": "code",
   "execution_count": null,
   "id": "78d27c2d-1c5c-4fa6-91f4-930f78ccf750",
   "metadata": {
    "pycharm": {
     "name": "#%%\n"
    }
   },
   "outputs": [
    {
     "data": {
      "text/plain": [
       "{'lengthscale':   variable  lengthscale\n",
       " 0       x0     0.192713\n",
       " 0       x1     1.679326,\n",
       " 'outputscale':   variable  outputscale\n",
       " 0       x0     0.366132\n",
       " 0       x1     0.910373,\n",
       " 'likelihood':   variable     noise\n",
       " 0       x0  0.384582\n",
       " 0       x1  0.004235}"
      ]
     },
     "execution_count": null,
     "metadata": {},
     "output_type": "execute_result"
    }
   ],
   "source": [
    "gp_imp.model_info()"
   ]
  },
  {
   "cell_type": "code",
   "execution_count": null,
   "id": "eeac6950-ce8a-43ae-9eb8-fe9031753de3",
   "metadata": {
    "pycharm": {
     "name": "#%%\n"
    }
   },
   "outputs": [],
   "source": [
    "#| export\n",
    "@patch\n",
    "def to_result(self: SimpleGPImputationExplorer, data_complete, units=None):\n",
    "    return GPFAResult(self.predict(), data_complete, self.model_info(), units=units)"
   ]
  },
  {
   "cell_type": "code",
   "execution_count": null,
   "id": "bfdbe93f-8c7a-40b8-8621-663972f63ba8",
   "metadata": {
    "pycharm": {
     "name": "#%%\n"
    }
   },
   "outputs": [
    {
     "data": {
      "text/plain": [
       "\u001B[0;31mInit signature:\u001B[0m\n",
       "\u001B[0mGPFAResult\u001B[0m\u001B[0;34m(\u001B[0m\u001B[0;34m\u001B[0m\n",
       "\u001B[0;34m\u001B[0m    \u001B[0mdata_imputed\u001B[0m\u001B[0;34m,\u001B[0m\u001B[0;34m\u001B[0m\n",
       "\u001B[0;34m\u001B[0m    \u001B[0mdata_complete\u001B[0m\u001B[0;34m,\u001B[0m\u001B[0;34m\u001B[0m\n",
       "\u001B[0;34m\u001B[0m    \u001B[0mmodel_info\u001B[0m\u001B[0;34m,\u001B[0m\u001B[0;34m\u001B[0m\n",
       "\u001B[0;34m\u001B[0m    \u001B[0munits\u001B[0m\u001B[0;34m=\u001B[0m\u001B[0;32mNone\u001B[0m\u001B[0;34m,\u001B[0m\u001B[0;34m\u001B[0m\n",
       "\u001B[0;34m\u001B[0m    \u001B[0mmetrics_all_data\u001B[0m\u001B[0;34m=\u001B[0m\u001B[0;32mTrue\u001B[0m\u001B[0;34m,\u001B[0m\u001B[0;34m\u001B[0m\n",
       "\u001B[0;34m\u001B[0m\u001B[0;34m)\u001B[0m\u001B[0;34m\u001B[0m\u001B[0;34m\u001B[0m\u001B[0m\n",
       "\u001B[0;31mDocstring:\u001B[0m      <no docstring>\n",
       "\u001B[0;31mSource:\u001B[0m        \n",
       "\u001B[0;32mclass\u001B[0m \u001B[0mGPFAResult\u001B[0m\u001B[0;34m:\u001B[0m\u001B[0;34m\u001B[0m\n",
       "\u001B[0;34m\u001B[0m    \u001B[0;32mdef\u001B[0m \u001B[0m__init__\u001B[0m\u001B[0;34m(\u001B[0m\u001B[0mself\u001B[0m\u001B[0;34m,\u001B[0m\u001B[0;34m\u001B[0m\n",
       "\u001B[0;34m\u001B[0m                 \u001B[0mdata_imputed\u001B[0m\u001B[0;34m,\u001B[0m \u001B[0;31m#imputed data in tidy format\u001B[0m\u001B[0;34m\u001B[0m\n",
       "\u001B[0;34m\u001B[0m                 \u001B[0mdata_complete\u001B[0m\u001B[0;34m,\u001B[0m \u001B[0;31m# complete data in tidy format\u001B[0m\u001B[0;34m\u001B[0m\n",
       "\u001B[0;34m\u001B[0m                 \u001B[0mmodel_info\u001B[0m\u001B[0;34m,\u001B[0m \u001B[0;31m# learner for parameters display\u001B[0m\u001B[0;34m\u001B[0m\n",
       "\u001B[0;34m\u001B[0m                 \u001B[0munits\u001B[0m \u001B[0;34m=\u001B[0m \u001B[0;32mNone\u001B[0m\u001B[0;34m,\u001B[0m \u001B[0;31m# units for plots\u001B[0m\u001B[0;34m\u001B[0m\n",
       "\u001B[0;34m\u001B[0m                 \u001B[0mmetrics_all_data\u001B[0m \u001B[0;34m=\u001B[0m \u001B[0;32mTrue\u001B[0m \u001B[0;31m# Compute metrics only for gap or for all data?\u001B[0m\u001B[0;34m\u001B[0m\n",
       "\u001B[0;34m\u001B[0m                \u001B[0;34m)\u001B[0m\u001B[0;34m:\u001B[0m\u001B[0;34m\u001B[0m\n",
       "\u001B[0;34m\u001B[0m        \u001B[0mstore_attr\u001B[0m\u001B[0;34m(\u001B[0m\u001B[0;34m)\u001B[0m\u001B[0;34m\u001B[0m\u001B[0;34m\u001B[0m\u001B[0m\n",
       "\u001B[0;31mFile:\u001B[0m           ~/Documents/uni/Thesis/GPFA_imputation/gpfa_imputation/results.py\n",
       "\u001B[0;31mType:\u001B[0m           type\n",
       "\u001B[0;31mSubclasses:\u001B[0m     \n"
      ]
     },
     "metadata": {},
     "output_type": "display_data"
    }
   ],
   "source": [
    "GPFAResult??"
   ]
  },
  {
   "cell_type": "code",
   "execution_count": null,
   "id": "d941a31a-3c89-4763-919a-111779ffb714",
   "metadata": {
    "pycharm": {
     "name": "#%%\n"
    }
   },
   "outputs": [
    {
     "name": "stderr",
     "output_type": "stream",
     "text": [
      "/home/simone/.local/lib/python3.10/site-packages/altair/utils/core.py:317: FutureWarning: iteritems is deprecated and will be removed in a future version. Use .items instead.\n",
      "  for col_name, dtype in df.dtypes.iteritems():\n"
     ]
    },
    {
     "data": {
      "text/html": [
       "\n",
       "<div id=\"altair-viz-f2920c4979694093972b2e3c33fa3d73\"></div>\n",
       "<script type=\"text/javascript\">\n",
       "  var VEGA_DEBUG = (typeof VEGA_DEBUG == \"undefined\") ? {} : VEGA_DEBUG;\n",
       "  (function(spec, embedOpt){\n",
       "    let outputDiv = document.currentScript.previousElementSibling;\n",
       "    if (outputDiv.id !== \"altair-viz-f2920c4979694093972b2e3c33fa3d73\") {\n",
       "      outputDiv = document.getElementById(\"altair-viz-f2920c4979694093972b2e3c33fa3d73\");\n",
       "    }\n",
       "    const paths = {\n",
       "      \"vega\": \"https://cdn.jsdelivr.net/npm//vega@5?noext\",\n",
       "      \"vega-lib\": \"https://cdn.jsdelivr.net/npm//vega-lib?noext\",\n",
       "      \"vega-lite\": \"https://cdn.jsdelivr.net/npm//vega-lite@4.17.0?noext\",\n",
       "      \"vega-embed\": \"https://cdn.jsdelivr.net/npm//vega-embed@6?noext\",\n",
       "    };\n",
       "\n",
       "    function maybeLoadScript(lib, version) {\n",
       "      var key = `${lib.replace(\"-\", \"\")}_version`;\n",
       "      return (VEGA_DEBUG[key] == version) ?\n",
       "        Promise.resolve(paths[lib]) :\n",
       "        new Promise(function(resolve, reject) {\n",
       "          var s = document.createElement('script');\n",
       "          document.getElementsByTagName(\"head\")[0].appendChild(s);\n",
       "          s.async = true;\n",
       "          s.onload = () => {\n",
       "            VEGA_DEBUG[key] = version;\n",
       "            return resolve(paths[lib]);\n",
       "          };\n",
       "          s.onerror = () => reject(`Error loading script: ${paths[lib]}`);\n",
       "          s.src = paths[lib];\n",
       "        });\n",
       "    }\n",
       "\n",
       "    function showError(err) {\n",
       "      outputDiv.innerHTML = `<div class=\"error\" style=\"color:red;\">${err}</div>`;\n",
       "      throw err;\n",
       "    }\n",
       "\n",
       "    function displayChart(vegaEmbed) {\n",
       "      vegaEmbed(outputDiv, spec, embedOpt)\n",
       "        .catch(err => showError(`Javascript Error: ${err.message}<br>This usually means there's a typo in your chart specification. See the javascript console for the full traceback.`));\n",
       "    }\n",
       "\n",
       "    if(typeof define === \"function\" && define.amd) {\n",
       "      requirejs.config({paths});\n",
       "      require([\"vega-embed\"], displayChart, err => showError(`Error loading script: ${err.message}`));\n",
       "    } else {\n",
       "      maybeLoadScript(\"vega\", \"5\")\n",
       "        .then(() => maybeLoadScript(\"vega-lite\", \"4.17.0\"))\n",
       "        .then(() => maybeLoadScript(\"vega-embed\", \"6\"))\n",
       "        .catch(showError)\n",
       "        .then(() => displayChart(vegaEmbed));\n",
       "    }\n",
       "  })({\"config\": {\"view\": {\"continuousWidth\": 400, \"continuousHeight\": 300}}, \"vconcat\": [{\"hconcat\": [{\"layer\": [{\"data\": {\"name\": \"data-b7634f7681be660932e1edd539fdb10c\"}, \"mark\": {\"type\": \"point\", \"color\": \"black\", \"fillOpacity\": 1, \"strokeWidth\": 1}, \"encoding\": {\"fill\": {\"field\": \"is_missing\", \"legend\": {\"title\": [\"Observed data\", \"(is missing)\"]}, \"scale\": {\"range\": [\"#ffffff00\", \"black\"]}, \"type\": \"nominal\"}, \"shape\": {\"field\": \"is_missing\", \"type\": \"nominal\"}, \"x\": {\"field\": \"time\", \"type\": \"quantitative\"}, \"y\": {\"field\": \"value\", \"scale\": {\"zero\": false}, \"title\": \"x0\", \"type\": \"quantitative\"}}}, {\"layer\": [{\"mark\": \"errorband\", \"encoding\": {\"color\": {\"field\": \"variable\", \"legend\": {\"title\": [\"Line: pred. mean\", \"area: +/- 2 std\", \"(variable)\"]}, \"type\": \"nominal\"}, \"tooltip\": [{\"field\": \"std\", \"format\": \".4\", \"type\": \"quantitative\"}, {\"field\": \"mean\", \"format\": \".4\", \"type\": \"quantitative\"}], \"x\": {\"field\": \"time\", \"type\": \"quantitative\"}, \"y\": {\"field\": \"err_low\", \"scale\": {\"zero\": false}, \"title\": \"x0\", \"type\": \"quantitative\"}, \"y2\": {\"field\": \"err_high\"}}, \"height\": 200, \"transform\": [{\"calculate\": \"datum.mean - 2 * datum.std\", \"as\": \"err_low\"}, {\"calculate\": \"datum.mean + 2 * datum.std\", \"as\": \"err_high\"}], \"width\": 350}, {\"mark\": \"line\", \"encoding\": {\"color\": {\"field\": \"variable\", \"type\": \"nominal\"}, \"x\": {\"field\": \"time\", \"type\": \"quantitative\"}, \"y\": {\"field\": \"mean\", \"scale\": {\"zero\": false}, \"title\": \"x0\", \"type\": \"quantitative\"}}, \"selection\": {\"selector001\": {\"type\": \"interval\", \"bind\": \"scales\", \"encodings\": [\"x\"]}}, \"title\": \"x0\"}], \"data\": {\"name\": \"data-8a378ffb8ed3a82a9f99893905619e64\"}}]}, {\"layer\": [{\"data\": {\"name\": \"data-5cd5e75de7635a3f207ec222f7d43864\"}, \"mark\": {\"type\": \"point\", \"color\": \"black\", \"fillOpacity\": 1, \"strokeWidth\": 1}, \"encoding\": {\"fill\": {\"field\": \"is_missing\", \"legend\": {\"title\": [\"Observed data\", \"(is missing)\"]}, \"scale\": {\"range\": [\"#ffffff00\", \"black\"]}, \"type\": \"nominal\"}, \"shape\": {\"field\": \"is_missing\", \"type\": \"nominal\"}, \"x\": {\"field\": \"time\", \"type\": \"quantitative\"}, \"y\": {\"field\": \"value\", \"scale\": {\"zero\": false}, \"title\": \"x1\", \"type\": \"quantitative\"}}}, {\"layer\": [{\"mark\": \"errorband\", \"encoding\": {\"color\": {\"field\": \"variable\", \"legend\": {\"title\": [\"Line: pred. mean\", \"area: +/- 2 std\", \"(variable)\"]}, \"type\": \"nominal\"}, \"tooltip\": [{\"field\": \"std\", \"format\": \".4\", \"type\": \"quantitative\"}, {\"field\": \"mean\", \"format\": \".4\", \"type\": \"quantitative\"}], \"x\": {\"field\": \"time\", \"type\": \"quantitative\"}, \"y\": {\"field\": \"err_low\", \"scale\": {\"zero\": false}, \"title\": \"x1\", \"type\": \"quantitative\"}, \"y2\": {\"field\": \"err_high\"}}, \"height\": 200, \"transform\": [{\"calculate\": \"datum.mean - 2 * datum.std\", \"as\": \"err_low\"}, {\"calculate\": \"datum.mean + 2 * datum.std\", \"as\": \"err_high\"}], \"width\": 350}, {\"mark\": \"line\", \"encoding\": {\"color\": {\"field\": \"variable\", \"type\": \"nominal\"}, \"x\": {\"field\": \"time\", \"type\": \"quantitative\"}, \"y\": {\"field\": \"mean\", \"scale\": {\"zero\": false}, \"title\": \"x1\", \"type\": \"quantitative\"}}, \"selection\": {\"selector001\": {\"type\": \"interval\", \"bind\": \"scales\", \"encodings\": [\"x\"]}}, \"title\": \"x1\"}], \"data\": {\"name\": \"data-b3df077920a9704b13463058b649fde7\"}}]}]}, {\"hconcat\": []}, {\"hconcat\": []}, {\"hconcat\": []}, {\"hconcat\": []}, {\"hconcat\": []}, {\"hconcat\": []}], \"$schema\": \"https://vega.github.io/schema/vega-lite/v4.17.0.json\", \"datasets\": {\"data-b7634f7681be660932e1edd539fdb10c\": [{\"time\": 0.0, \"variable\": \"x0\", \"value\": 0.3221171796321869, \"is_missing\": false}, {\"time\": 1.0, \"variable\": \"x0\", \"value\": -0.11919436603784561, \"is_missing\": false}, {\"time\": 2.0, \"variable\": \"x0\", \"value\": -0.19388073682785034, \"is_missing\": false}, {\"time\": 3.0, \"variable\": \"x0\", \"value\": 0.10552655160427094, \"is_missing\": true}, {\"time\": 4.0, \"variable\": \"x0\", \"value\": -0.38936561346054077, \"is_missing\": true}, {\"time\": 5.0, \"variable\": \"x0\", \"value\": 0.5405405759811401, \"is_missing\": false}, {\"time\": 6.0, \"variable\": \"x0\", \"value\": -0.410130113363266, \"is_missing\": false}], \"data-8a378ffb8ed3a82a9f99893905619e64\": [{\"mean\": 0.10572343319654465, \"time\": 0.0, \"std\": 0.23254376649856567, \"variable\": \"x0\"}, {\"mean\": -0.10950909554958344, \"time\": 1.0, \"std\": 0.23254376649856567, \"variable\": \"x0\"}, {\"mean\": -0.14593462646007538, \"time\": 2.0, \"std\": 0.23254376649856567, \"variable\": \"x0\"}, {\"mean\": -0.10028877854347229, \"time\": 3.0, \"std\": 0.2663716673851013, \"variable\": \"x0\"}, {\"mean\": -0.10028871148824692, \"time\": 4.0, \"std\": 0.2663716673851013, \"variable\": \"x0\"}, {\"mean\": -0.10028892755508423, \"time\": 5.0, \"std\": 0.2663716673851013, \"variable\": \"x0\"}, {\"mean\": -0.2514019012451172, \"time\": 6.0, \"std\": 0.23254376649856567, \"variable\": \"x0\"}], \"data-5cd5e75de7635a3f207ec222f7d43864\": [{\"time\": 0.0, \"variable\": \"x1\", \"value\": 0.29430121183395386, \"is_missing\": false}, {\"time\": 1.0, \"variable\": \"x1\", \"value\": 0.22421883046627045, \"is_missing\": false}, {\"time\": 2.0, \"variable\": \"x1\", \"value\": -0.017484191805124283, \"is_missing\": false}, {\"time\": 3.0, \"variable\": \"x1\", \"value\": 0.0015141814947128296, \"is_missing\": true}, {\"time\": 4.0, \"variable\": \"x1\", \"value\": -0.5867904424667358, \"is_missing\": true}, {\"time\": 5.0, \"variable\": \"x1\", \"value\": -0.2556911110877991, \"is_missing\": true}, {\"time\": 6.0, \"variable\": \"x1\", \"value\": -0.2714180648326874, \"is_missing\": false}], \"data-b3df077920a9704b13463058b649fde7\": [{\"mean\": 0.2945101857185364, \"time\": 0.0, \"std\": 0.02345832623541355, \"variable\": \"x1\"}, {\"mean\": 0.22023722529411316, \"time\": 1.0, \"std\": 0.02320845238864422, \"variable\": \"x1\"}, {\"mean\": -0.014537923038005829, \"time\": 2.0, \"std\": 0.023456819355487823, \"variable\": \"x1\"}, {\"mean\": -0.2200334668159485, \"time\": 3.0, \"std\": 0.08329074829816818, \"variable\": \"x1\"}, {\"mean\": -0.29384320974349976, \"time\": 4.0, \"std\": 0.1500418484210968, \"variable\": \"x1\"}, {\"mean\": -0.29342910647392273, \"time\": 5.0, \"std\": 0.12218489497900009, \"variable\": \"x1\"}, {\"mean\": -0.27058982849121094, \"time\": 6.0, \"std\": 0.02359546720981598, \"variable\": \"x1\"}]}}, {\"mode\": \"vega-lite\"});\n",
       "</script>"
      ],
      "text/plain": [
       "alt.VConcatChart(...)"
      ]
     },
     "metadata": {},
     "output_type": "display_data"
    },
    {
     "data": {
      "text/html": [
       "<p style='font-size: 1.5rem; font-decoration: bold'>Metrics<p><div style=\"display: flex; column-gap: 20px;\"> <div> <p style='font-size: 1.3rem;'>r2<p> <style type=\"text/css\">\n",
       "</style>\n",
       "<table id=\"T_77e82\">\n",
       "  <thead>\n",
       "    <tr>\n",
       "      <th id=\"T_77e82_level0_col0\" class=\"col_heading level0 col0\" >variable</th>\n",
       "      <th id=\"T_77e82_level0_col1\" class=\"col_heading level0 col1\" >r2</th>\n",
       "    </tr>\n",
       "  </thead>\n",
       "  <tbody>\n",
       "    <tr>\n",
       "      <td id=\"T_77e82_row0_col0\" class=\"data row0 col0\" >x0</td>\n",
       "      <td id=\"T_77e82_row0_col1\" class=\"data row0 col1\" >0.2123</td>\n",
       "    </tr>\n",
       "    <tr>\n",
       "      <td id=\"T_77e82_row1_col0\" class=\"data row1 col0\" >x1</td>\n",
       "      <td id=\"T_77e82_row1_col1\" class=\"data row1 col1\" >0.7596</td>\n",
       "    </tr>\n",
       "  </tbody>\n",
       "</table>\n",
       " </div><div> <p style='font-size: 1.3rem;'>RMSE<p> <style type=\"text/css\">\n",
       "</style>\n",
       "<table id=\"T_b0633\">\n",
       "  <thead>\n",
       "    <tr>\n",
       "      <th id=\"T_b0633_level0_col0\" class=\"col_heading level0 col0\" >variable</th>\n",
       "      <th id=\"T_b0633_level0_col1\" class=\"col_heading level0 col1\" >rmse</th>\n",
       "    </tr>\n",
       "  </thead>\n",
       "  <tbody>\n",
       "    <tr>\n",
       "      <td id=\"T_b0633_row0_col0\" class=\"data row0 col0\" >x0</td>\n",
       "      <td id=\"T_b0633_row0_col1\" class=\"data row0 col1\" >0.2954</td>\n",
       "    </tr>\n",
       "    <tr>\n",
       "      <td id=\"T_b0633_row1_col0\" class=\"data row1 col0\" >x1</td>\n",
       "      <td id=\"T_b0633_row1_col1\" class=\"data row1 col1\" >0.1396</td>\n",
       "    </tr>\n",
       "  </tbody>\n",
       "</table>\n",
       " </div></div>"
      ],
      "text/plain": [
       "<IPython.core.display.HTML object>"
      ]
     },
     "metadata": {},
     "output_type": "display_data"
    },
    {
     "data": {
      "text/html": [
       "<p style='font-size: 1.5rem; font-decoration: bold'>Model Info<p><div style=\"display: flex; column-gap: 20px;\"> <div> <p style='font-size: 1.3rem;'>lengthscale<p> <style type=\"text/css\">\n",
       "</style>\n",
       "<table id=\"T_6a285\">\n",
       "  <thead>\n",
       "    <tr>\n",
       "      <th id=\"T_6a285_level0_col0\" class=\"col_heading level0 col0\" >variable</th>\n",
       "      <th id=\"T_6a285_level0_col1\" class=\"col_heading level0 col1\" >lengthscale</th>\n",
       "    </tr>\n",
       "  </thead>\n",
       "  <tbody>\n",
       "    <tr>\n",
       "      <td id=\"T_6a285_row0_col0\" class=\"data row0 col0\" >x0</td>\n",
       "      <td id=\"T_6a285_row0_col1\" class=\"data row0 col1\" >0.1927</td>\n",
       "    </tr>\n",
       "    <tr>\n",
       "      <td id=\"T_6a285_row1_col0\" class=\"data row1 col0\" >x1</td>\n",
       "      <td id=\"T_6a285_row1_col1\" class=\"data row1 col1\" >1.6793</td>\n",
       "    </tr>\n",
       "  </tbody>\n",
       "</table>\n",
       " </div><div> <p style='font-size: 1.3rem;'>outputscale<p> <style type=\"text/css\">\n",
       "</style>\n",
       "<table id=\"T_8016b\">\n",
       "  <thead>\n",
       "    <tr>\n",
       "      <th id=\"T_8016b_level0_col0\" class=\"col_heading level0 col0\" >variable</th>\n",
       "      <th id=\"T_8016b_level0_col1\" class=\"col_heading level0 col1\" >outputscale</th>\n",
       "    </tr>\n",
       "  </thead>\n",
       "  <tbody>\n",
       "    <tr>\n",
       "      <td id=\"T_8016b_row0_col0\" class=\"data row0 col0\" >x0</td>\n",
       "      <td id=\"T_8016b_row0_col1\" class=\"data row0 col1\" >0.3661</td>\n",
       "    </tr>\n",
       "    <tr>\n",
       "      <td id=\"T_8016b_row1_col0\" class=\"data row1 col0\" >x1</td>\n",
       "      <td id=\"T_8016b_row1_col1\" class=\"data row1 col1\" >0.9104</td>\n",
       "    </tr>\n",
       "  </tbody>\n",
       "</table>\n",
       " </div><div> <p style='font-size: 1.3rem;'>likelihood<p> <style type=\"text/css\">\n",
       "</style>\n",
       "<table id=\"T_0087d\">\n",
       "  <thead>\n",
       "    <tr>\n",
       "      <th id=\"T_0087d_level0_col0\" class=\"col_heading level0 col0\" >variable</th>\n",
       "      <th id=\"T_0087d_level0_col1\" class=\"col_heading level0 col1\" >noise</th>\n",
       "    </tr>\n",
       "  </thead>\n",
       "  <tbody>\n",
       "    <tr>\n",
       "      <td id=\"T_0087d_row0_col0\" class=\"data row0 col0\" >x0</td>\n",
       "      <td id=\"T_0087d_row0_col1\" class=\"data row0 col1\" >0.3846</td>\n",
       "    </tr>\n",
       "    <tr>\n",
       "      <td id=\"T_0087d_row1_col0\" class=\"data row1 col0\" >x1</td>\n",
       "      <td id=\"T_0087d_row1_col1\" class=\"data row1 col1\" >0.0042</td>\n",
       "    </tr>\n",
       "  </tbody>\n",
       "</table>\n",
       " </div></div>"
      ],
      "text/plain": [
       "<IPython.core.display.HTML object>"
      ]
     },
     "metadata": {},
     "output_type": "display_data"
    }
   ],
   "source": [
    "gp_imp.to_result(fd.data_compl_tidy).display_results()"
   ]
  },
  {
   "cell_type": "code",
   "execution_count": null,
   "id": "9f176125-e730-4bb9-8057-9e1bd9e5eaf8",
   "metadata": {
    "pycharm": {
     "name": "#%%\n"
    }
   },
   "outputs": [],
   "source": [
    "#| hide\n",
    "from nbdev import nbdev_export\n",
    "nbdev_export()"
   ]
  }
 ],
 "metadata": {
  "kernelspec": {
   "display_name": "data_science",
   "language": "python",
   "name": "data_science"
  },
  "widgets": {
   "application/vnd.jupyter.widget-state+json": {
    "state": {},
    "version_major": 2,
    "version_minor": 0
   }
  }
 },
 "nbformat": 4,
 "nbformat_minor": 5
}