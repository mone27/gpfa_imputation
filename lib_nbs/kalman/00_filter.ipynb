{
 "cells": [
  {
   "cell_type": "markdown",
   "id": "22e19739-7ce6-4689-8f05-5391807270f2",
   "metadata": {},
   "source": [
    "# Kalman Filter\n",
    "> Implementation of Kalman filters using pytorch and parameter optimizations with gradient descend"
   ]
  },
  {
   "cell_type": "code",
   "execution_count": null,
   "id": "33b5e640-1b40-4822-8912-f6aef392b22f",
   "metadata": {},
   "outputs": [
    {
     "name": "stdout",
     "output_type": "stream",
     "text": [
      "The autoreload extension is already loaded. To reload it, use:\n",
      "  %reload_ext autoreload\n"
     ]
    }
   ],
   "source": [
    "#| hide\n",
    "%load_ext autoreload\n",
    "%autoreload 2"
   ]
  },
  {
   "cell_type": "code",
   "execution_count": null,
   "id": "378ab6cd-754e-4199-a102-c7a3109c6c78",
   "metadata": {},
   "outputs": [],
   "source": [
    "#| hide\n",
    "#| default_exp kalman.filter"
   ]
  },
  {
   "cell_type": "code",
   "execution_count": null,
   "id": "c89a8e7f-95e3-4c02-9716-948d5e0dcfca",
   "metadata": {},
   "outputs": [],
   "source": [
    "#| export\n",
    "from fastcore.test import *\n",
    "from fastcore.basics import *\n",
    "from meteo_imp.utils import *\n",
    "from meteo_imp.gaussian import *\n",
    "from meteo_imp.data_preparation import MeteoDataTest\n",
    "from typing import *\n",
    "from functools import partial\n",
    "\n",
    "import numpy as np\n",
    "import pandas as pd\n",
    "import torch\n",
    "from torch import Tensor\n",
    "from torch.distributions import MultivariateNormal"
   ]
  },
  {
   "cell_type": "markdown",
   "id": "ce900cd1-288d-4215-b317-d815f2850215",
   "metadata": {},
   "source": [
    "## Introduction\n",
    "\n",
    "The models uses a latent state variable $x$ that is modelled over time, to impute gaps in $y$\n",
    "\n",
    "The assumption of the model is that the state variable at time $x_t$ depends only on the last state $x_{t-1}$ and not on the previous states.\n",
    "\n",
    "### Equations\n",
    "\n",
    "The equations of the model are:\n",
    "\n",
    "$$\\begin{align} p(x_t | x_{t-1}) & = \\mathcal{N}(Ax_{t-1} + b, Q) \\\\\n",
    "p(y_t | x_t) & = \\mathcal{N}(Hx_t + d, R) \\end{align}$$\n",
    "\n",
    "\n",
    "where:\n",
    "\n",
    "- $A$ is the `A`\n",
    "- $b$ is the `bset`\n",
    "- $Q$ is the `Q`\n",
    "- $H$ is the `obs_trans` \n",
    "- $d$ is the `d`\n",
    "- $R$ is the `R`\n",
    "\n",
    "in addition the model has also the parameters of the initial state that are used to initialize the filter:\n",
    "\n",
    "- `m0`\n",
    "- `P0`\n",
    "\n",
    "The Kalman filter has 3 steps:\n",
    "\n",
    "- filter (updating the state at time t with observations till time t-1)\n",
    "- update (update the state at time t using the observation at time t)\n",
    "- smooth (update the state using the observations at time t+1)\n",
    "\n",
    "In case of missing data the update step is skipped.\n",
    "\n",
    "After smoothing the missing data at time t ($y_t$) can be imputed from the state ($x_t$) using this formula:\n",
    "$$p(y_t|x_t) = \\mathcal{N}(Hx_t + d, R + HP^s_tH^T)$$"
   ]
  },
  {
   "cell_type": "markdown",
   "id": "6cab259c-2315-4019-bb1e-61f3b1504bd5",
   "metadata": {},
   "source": [
    "The Kalman Filter is an algorithm designed to estimate $P(x_t | y_{0:t})$.  As all state transitions and obss are linear with Gaussian distributed noise, these distributions can be represented exactly as Gaussian distributions with mean `ms[t]` and covs `Ps[t]`.\n",
    "Similarly, the Kalman Smoother is an algorithm designed to estimate $P(x_t | y_{0:t-1})$\n",
    "\n"
   ]
  },
  {
   "cell_type": "markdown",
   "id": "68d33ff3-5e3e-40ad-b21c-71d2358a7d7b",
   "metadata": {},
   "source": [
    "# Kalman Filter Base"
   ]
  },
  {
   "cell_type": "markdown",
   "id": "57ad321a-3bae-495e-befb-86b16f1d146f",
   "metadata": {},
   "source": [
    "TODO: fill nans with 0 for all data"
   ]
  },
  {
   "cell_type": "code",
   "execution_count": null,
   "id": "cc631604-4ada-4bde-9a09-5cfdffba7d61",
   "metadata": {},
   "outputs": [],
   "source": [
    "#| export\n",
    "def _add_batch_dim(x):\n",
    "    \"\"\"make x 3 dimensional by adding empty dims in the correct place\"\"\"\n",
    "    if x.dim() == 1: return x.unsqueeze(0).unsqueeze(-1)\n",
    "    elif x.dim() == 2: return x.unsqueeze(0)\n",
    "    else: return x"
   ]
  },
  {
   "cell_type": "code",
   "execution_count": null,
   "id": "c95101b4-39c7-4c7f-ba9e-ee02bbf3a67f",
   "metadata": {},
   "outputs": [
    {
     "data": {
      "text/html": [
       "<div style=\"display: flex; column-gap: 20px; flex-wrap: wrap;\" class='table table-striped table-sm'> <div><p style='font-size: 1.2rem;'>#0</p> <pre>tensor([[[1.],\n",
       "         [1.]]])</pre> </div><div><p style='font-size: 1.2rem;'>#1</p> <pre>tensor([[[1., 1.],\n",
       "         [1., 1.]]])</pre> </div><div><p style='font-size: 1.2rem;'>#2</p> <pre>tensor([[[1., 1.],\n",
       "         [1., 1.]],\n",
       "\n",
       "        [[1., 1.],\n",
       "         [1., 1.]]])</pre> </div></div>"
      ],
      "text/plain": [
       "<IPython.core.display.HTML object>"
      ]
     },
     "metadata": {},
     "output_type": "display_data"
    }
   ],
   "source": [
    "show_as_row(_add_batch_dim(torch.ones(2)), _add_batch_dim(torch.ones(2,2)), _add_batch_dim(torch.ones(2,2,2)))"
   ]
  },
  {
   "cell_type": "code",
   "execution_count": null,
   "id": "3b46bd82-9e0f-4ba4-850e-67f111f2fe36",
   "metadata": {},
   "outputs": [
    {
     "data": {
      "text/html": [
       "<div style=\"display: flex; column-gap: 20px; flex-wrap: wrap;\" class='table table-striped table-sm'> <div><p style='font-size: 1.2rem;'>#0</p> <pre>torch.Size([1, 2, 1])</pre> </div><div><p style='font-size: 1.2rem;'>#1</p> <pre>torch.Size([1, 2, 2])</pre> </div><div><p style='font-size: 1.2rem;'>#2</p> <pre>torch.Size([2, 2, 2])</pre> </div></div>"
      ],
      "text/plain": [
       "<IPython.core.display.HTML object>"
      ]
     },
     "metadata": {},
     "output_type": "display_data"
    }
   ],
   "source": [
    "show_as_row(_add_batch_dim(torch.ones(2)).shape, _add_batch_dim(torch.ones(2,2)).shape, _add_batch_dim(torch.ones(2,2,2)).shape)"
   ]
  },
  {
   "cell_type": "code",
   "execution_count": null,
   "id": "4768434a-a51c-48a3-8813-afd59949ef51",
   "metadata": {},
   "outputs": [],
   "source": [
    "#| export\n",
    "class KalmanFilterBase(torch.nn.Module):\n",
    "    \"\"\"Base class for handling Kalman Filter implementation in PyTorch\"\"\"\n",
    "    \n",
    "    params_constr = {\n",
    "        #name constraint\n",
    "        'A':  None        ,\n",
    "        'b':  None        ,\n",
    "        'Q':  DiagPosDef(),\n",
    "        'B':  None        ,\n",
    "        'H':  None        ,\n",
    "        'd':  None        ,\n",
    "        'R':  DiagPosDef(),\n",
    "        'm0': None       ,\n",
    "        'P0': PosDef()   ,\n",
    "        }\n",
    "    \n",
    "    def __init__(self,\n",
    "            A: Tensor,                             # [n_dim_state,n_dim_state] $A$, state transition matrix \n",
    "            H: Tensor,                             # [n_dim_obs, n_dim_state] $H$, observation matrix\n",
    "            B: Tensor,                             # [n_dim_state, n_dim_contr] $B$ control matrix\n",
    "            Q: Tensor,                             # [n_dim_state, n_dim_state] $Q$, state trans covariance matrix\n",
    "            R: Tensor,                             # [n_dim_obs, n_dim_obs] $R$, observations covariance matrix\n",
    "            b: Tensor,                             # [n_dim_state] $b$, state transition offset\n",
    "            d: Tensor,                             # [n_dim_obs] $d$, observations offset\n",
    "            m0: Tensor,                            # [n_dim_state] $m_0$\n",
    "            P0: Tensor,                            # [n_dim_state, n_dim_state] $P_0$\n",
    "    \n",
    "            n_dim_state: int = None,               # Number of dimensions for state - default infered from parameters\n",
    "            n_dim_obs: int = None,                 # Number of dimensions for observations - default  infered from parameters\n",
    "            n_dim_contr: int = None,               # Number of dimensions for control - default infered from parameters\n",
    "            \n",
    "            var_names: Iterable[str]|None = None,  # Names of variables for printing \n",
    "            contr_names: Iterable[str]|None = None,# Names of control variables for printing\n",
    "    \n",
    "            cov_checker: CheckPosDef|None = None,  # Check covariance at every step\n",
    "            use_conditional: bool = True,          # Use conditional distribution for gaps that don't have all variables missing\n",
    "            use_control: bool = True,              # Use the control in the filter\n",
    "            use_smooth: bool = True,               # Use smoother for predictions (otherwise is filter only)\n",
    "                ):\n",
    "        \n",
    "        super().__init__()\n",
    "        store_attr(\"var_names, contr_names, use_conditional, use_control, use_smooth, cov_checker\")\n",
    "        \n",
    "        self._check_params(A, H, B, Q, R, b, d, m0, P0, n_dim_state, n_dim_obs, n_dim_contr)\n",
    "        self._init_params(A=A, H=H, B=B, Q=Q, R=R, b=b, d=d, m0=m0, P0=P0)\n",
    "\n",
    "    \n",
    "    def _check_params(self, A, H, B, Q, R, b, d, m0, P0, n_dim_state, n_dim_obs, n_dim_contr):\n",
    "        \"\"\"Checks that the parameters are dimensions are consistent and sets n_dim\"\"\"\n",
    "        self.n_dim_state = determine_dimensionality(\n",
    "            [(A, array2d, -2),\n",
    "             (b, array1d, -1),\n",
    "             (Q, array2d, -2),\n",
    "             (m0, array1d, -1),\n",
    "             (P0, array2d, -2),\n",
    "             (H, array2d, -1)],\n",
    "            n_dim_state\n",
    "        )\n",
    "        self.n_dim_obs = determine_dimensionality(\n",
    "            [(H, array2d, -2),\n",
    "             (d, array1d, -1),\n",
    "             (R, array2d, -2)],\n",
    "            n_dim_obs\n",
    "        )\n",
    "        \n",
    "        self.n_dim_contr = determine_dimensionality([(B, array2d, -1)], n_dim_contr)\n",
    "        \n",
    "        \n",
    "    def _init_params(self, **params):\n",
    "        for name, value in params.items():\n",
    "            value = _add_batch_dim(value)\n",
    "            if (constraint := self.params_constr[name]) is not None:\n",
    "                name, value = self._init_constraint(name, value, constraint)\n",
    "            self._init_param(name, value, train=True)    \n",
    "    \n",
    "    def _init_param(self, param_name, value, train):\n",
    "        self.register_parameter(param_name, torch.nn.Parameter(value, requires_grad=train))\n",
    "    \n",
    "    ### === Constraints utils\n",
    "    def _init_constraint(self, param_name, value, constraint):\n",
    "        name = f\"{param_name}_raw\"\n",
    "        value = constraint.inverse_transform(value)\n",
    "        setattr(self, param_name + \"_constraint\", constraint)\n",
    "        return name, value\n",
    "    \n",
    "    def _get_constraint(self, param_name):\n",
    "        \"\"\"get the original value\"\"\"\n",
    "        constraint = getattr(self, param_name + \"_constraint\")\n",
    "        raw_value = getattr(self, f\"{param_name}_raw\")\n",
    "        return constraint.transform(raw_value)\n",
    "\n",
    "    def _set_constraint(self, value, param_name, train=True):\n",
    "            \"\"\"set the transformed value\"\"\"\n",
    "            constraint = getattr(self, param_name + \"_constraint\")\n",
    "            raw_value = constraint.inverse_transform(value)\n",
    "            self._init_param(f\"{param_name}_raw\", raw_value, train)\n",
    "            \n",
    "               \n",
    "    @property\n",
    "    def Q_C(self):\n",
    "        \"Cholesky factor of Q\"\n",
    "        return torch.diag_embed(self.Q_raw, dim1=-2, dim2=-1)\n",
    "    @property\n",
    "    def Q(self): return self._get_constraint('Q')\n",
    "    @Q.setter\n",
    "    def Q(self, value): self._set_constraint(value, 'Q')\n",
    "\n",
    "    @property\n",
    "    def R_C(self):\n",
    "        \"Cholesky factor of R\"\n",
    "        return torch.diag_embed(self.R_raw, dim1=-2, dim2=-1)\n",
    "    @property\n",
    "    def R(self): return self._get_constraint('R')\n",
    "    @R.setter\n",
    "    def R(self, value): self._set_constraint(value, 'R')\n",
    "    \n",
    "    @property\n",
    "    def P0_C(self):\n",
    "        \"Cholesky factor of P0\"\n",
    "        return self.P0_raw\n",
    "    @property\n",
    "    def P0(self): return self._get_constraint('P0')\n",
    "    @P0.setter\n",
    "    def P0(self, value): self._set_constraint(value, 'P0')\n",
    "\n",
    "\n",
    "    ### === Utility Func    \n",
    "    def _parse_obs(self, obs, mask, control):\n",
    "        \"\"\"maybe get mask from `nan`\"\"\"\n",
    "        # if mask is None: mask = ~torch.isnan(obs)\n",
    "        return _add_batch_dim(obs), _add_batch_dim(mask), _add_batch_dim(control)\n",
    "    def __repr__(self):\n",
    "        return f\"\"\"Kalman Filter\n",
    "        N dim obs: {self.n_dim_obs},\n",
    "        N dim state: {self.n_dim_state},\n",
    "        N dim contr: {self.n_dim_contr}\"\"\""
   ]
  },
  {
   "cell_type": "markdown",
   "id": "29f90bd9-3d5e-42b7-8730-8e08f40309c6",
   "metadata": {},
   "source": [
    "### Constructors"
   ]
  },
  {
   "cell_type": "markdown",
   "id": "eb5af4ff-9ddb-4558-9751-4541c50a682a",
   "metadata": {},
   "source": [
    "Giving all the parameters manually to the `KalmanFilterBase` init method is not convenient, hence we are having some methods that help initize the class"
   ]
  },
  {
   "cell_type": "markdown",
   "id": "b2aaf4c0-f7ad-4456-84dd-0e9350dcfe49",
   "metadata": {},
   "source": [
    "#### Random parameters"
   ]
  },
  {
   "cell_type": "code",
   "execution_count": null,
   "id": "8d0ca6d4-7547-4557-bc83-4f70500a78e8",
   "metadata": {},
   "outputs": [],
   "source": [
    "#| export\n",
    "@patch(cls_method=True)\n",
    "def init_random(cls: KalmanFilterBase, n_dim_obs, n_dim_state, n_dim_contr, dtype=torch.float64, **kwargs):\n",
    "    \"\"\"kalman filter with random parameters\"\"\"\n",
    "    return cls(\n",
    "        A  = torch.rand(n_dim_state, n_dim_state, dtype=dtype),\n",
    "        b  = torch.rand(n_dim_state, dtype=dtype),        \n",
    "        Q  = to_diagposdef(torch.rand(n_dim_state, n_dim_state, dtype=dtype)),        \n",
    "        B  = torch.rand(n_dim_state, n_dim_contr, dtype=dtype),\n",
    "        H  = torch.rand(n_dim_obs, n_dim_state, dtype=dtype),\n",
    "        d  = torch.rand(n_dim_obs, dtype=dtype),          \n",
    "        R  = to_diagposdef(torch.rand(n_dim_obs, n_dim_obs, dtype=dtype)),            \n",
    "        m0 = torch.rand(n_dim_state, dtype=dtype),        \n",
    "        P0 = to_posdef(torch.rand(n_dim_state, n_dim_state, dtype=dtype)),\n",
    "        **kwargs) \n",
    "        "
   ]
  },
  {
   "cell_type": "code",
   "execution_count": null,
   "id": "86fe692e-2586-4c0f-a4b0-d6009d3a14c3",
   "metadata": {},
   "outputs": [
    {
     "data": {
      "text/plain": [
       "Kalman Filter\n",
       "        N dim obs: 3,\n",
       "        N dim state: 4,\n",
       "        N dim contr: 3"
      ]
     },
     "execution_count": null,
     "metadata": {},
     "output_type": "execute_result"
    }
   ],
   "source": [
    "kB = KalmanFilterBase.init_random(3,4, 3, dtype=torch.float64)\n",
    "kB"
   ]
  },
  {
   "cell_type": "code",
   "execution_count": null,
   "id": "7a2f8494-5a3f-476e-915d-6d24426ae566",
   "metadata": {},
   "outputs": [],
   "source": [
    "test_close(kB.Q_C @ kB.Q_C.mT, kB.Q)"
   ]
  },
  {
   "cell_type": "code",
   "execution_count": null,
   "id": "1a04324e-6a7f-4744-8113-a2d61c798397",
   "metadata": {},
   "outputs": [],
   "source": [
    "kB.P0 = to_posdef(torch.rand(1,3,3))"
   ]
  },
  {
   "cell_type": "markdown",
   "id": "93f416ff-a54e-4b29-99f7-fc04c3500285",
   "metadata": {},
   "source": [
    "check that assigment works :)"
   ]
  },
  {
   "cell_type": "code",
   "execution_count": null,
   "id": "d6aff8c3-a5bb-4911-a792-b28e54ff88ab",
   "metadata": {},
   "outputs": [],
   "source": [
    "kB.P0 = to_posdef(torch.rand(4, 4, dtype=torch.float64))"
   ]
  },
  {
   "cell_type": "code",
   "execution_count": null,
   "id": "d5a5e4bf-3989-4986-8718-6864db9f4cbe",
   "metadata": {},
   "outputs": [
    {
     "data": {
      "text/plain": [
       "Parameter containing:\n",
       "tensor([[ 1.2842,  0.0000,  0.0000,  0.0000],\n",
       "        [ 1.1986,  0.4556,  0.0000,  0.0000],\n",
       "        [ 1.1782,  0.2900,  0.3007,  0.0000],\n",
       "        [ 1.1862,  0.1961, -0.2735,  0.2186]], dtype=torch.float64,\n",
       "       requires_grad=True)"
      ]
     },
     "execution_count": null,
     "metadata": {},
     "output_type": "execute_result"
    }
   ],
   "source": [
    "kB.P0_C"
   ]
  },
  {
   "cell_type": "code",
   "execution_count": null,
   "id": "252ddcba-69b0-467e-a9ff-fe1c7042dcfb",
   "metadata": {},
   "outputs": [
    {
     "data": {
      "text/plain": [
       "Kalman Filter\n",
       "        N dim obs: 3,\n",
       "        N dim state: 4,\n",
       "        N dim contr: 3"
      ]
     },
     "execution_count": null,
     "metadata": {},
     "output_type": "execute_result"
    }
   ],
   "source": [
    "kB = KalmanFilterBase.init_random(3,4, 3, dtype=torch.float64)\n",
    "kB"
   ]
  },
  {
   "cell_type": "code",
   "execution_count": null,
   "id": "3aedc286-3762-4382-96b9-7a3105170ef5",
   "metadata": {},
   "outputs": [
    {
     "data": {
      "text/plain": [
       "[('A',\n",
       "  Parameter containing:\n",
       "  tensor([[[0.5119, 0.6876, 0.4421, 0.8566],\n",
       "           [0.4001, 0.1293, 0.8637, 0.1677],\n",
       "           [0.4323, 0.8422, 0.9664, 0.0836],\n",
       "           [0.4376, 0.9593, 0.4810, 0.1568]]], dtype=torch.float64,\n",
       "         requires_grad=True)),\n",
       " ('H',\n",
       "  Parameter containing:\n",
       "  tensor([[[0.4003, 0.9099, 0.4019, 0.8489],\n",
       "           [0.6460, 0.6981, 0.6625, 0.4510],\n",
       "           [0.2156, 0.3109, 0.7897, 0.7239]]], dtype=torch.float64,\n",
       "         requires_grad=True)),\n",
       " ('B',\n",
       "  Parameter containing:\n",
       "  tensor([[[0.0400, 0.2521, 0.7528],\n",
       "           [0.7491, 0.3675, 0.1329],\n",
       "           [0.0968, 0.7927, 0.1157],\n",
       "           [0.5598, 0.5978, 0.2464]]], dtype=torch.float64, requires_grad=True)),\n",
       " ('Q_raw',\n",
       "  Parameter containing:\n",
       "  tensor([[0.1064, 0.1926, 0.7552, 0.7606]], dtype=torch.float64,\n",
       "         requires_grad=True)),\n",
       " ('R_raw',\n",
       "  Parameter containing:\n",
       "  tensor([[0.7597, 0.5292, 0.7048]], dtype=torch.float64, requires_grad=True)),\n",
       " ('b',\n",
       "  Parameter containing:\n",
       "  tensor([[[0.5072],\n",
       "           [0.7630],\n",
       "           [0.6236],\n",
       "           [0.9188]]], dtype=torch.float64, requires_grad=True)),\n",
       " ('d',\n",
       "  Parameter containing:\n",
       "  tensor([[[0.3240],\n",
       "           [0.4908],\n",
       "           [0.6822]]], dtype=torch.float64, requires_grad=True)),\n",
       " ('m0',\n",
       "  Parameter containing:\n",
       "  tensor([[[0.4710],\n",
       "           [0.0779],\n",
       "           [0.4183],\n",
       "           [0.8537]]], dtype=torch.float64, requires_grad=True)),\n",
       " ('P0_raw',\n",
       "  Parameter containing:\n",
       "  tensor([[[ 1.4972,  0.0000,  0.0000,  0.0000],\n",
       "           [ 0.3591,  0.4446,  0.0000,  0.0000],\n",
       "           [ 0.9109,  0.6090,  0.2050,  0.0000],\n",
       "           [ 0.9737,  0.8184, -0.2393,  0.1182]]], dtype=torch.float64,\n",
       "         requires_grad=True))]"
      ]
     },
     "execution_count": null,
     "metadata": {},
     "output_type": "execute_result"
    }
   ],
   "source": [
    "list(kB.named_parameters())"
   ]
  },
  {
   "cell_type": "code",
   "execution_count": null,
   "id": "2cd8e103-c832-496f-9df5-e6927f02b303",
   "metadata": {},
   "outputs": [
    {
     "data": {
      "text/plain": [
       "OrderedDict([('A',\n",
       "              tensor([[[0.5119, 0.6876, 0.4421, 0.8566],\n",
       "                       [0.4001, 0.1293, 0.8637, 0.1677],\n",
       "                       [0.4323, 0.8422, 0.9664, 0.0836],\n",
       "                       [0.4376, 0.9593, 0.4810, 0.1568]]], dtype=torch.float64)),\n",
       "             ('H',\n",
       "              tensor([[[0.4003, 0.9099, 0.4019, 0.8489],\n",
       "                       [0.6460, 0.6981, 0.6625, 0.4510],\n",
       "                       [0.2156, 0.3109, 0.7897, 0.7239]]], dtype=torch.float64)),\n",
       "             ('B',\n",
       "              tensor([[[0.0400, 0.2521, 0.7528],\n",
       "                       [0.7491, 0.3675, 0.1329],\n",
       "                       [0.0968, 0.7927, 0.1157],\n",
       "                       [0.5598, 0.5978, 0.2464]]], dtype=torch.float64)),\n",
       "             ('Q_raw',\n",
       "              tensor([[0.1064, 0.1926, 0.7552, 0.7606]], dtype=torch.float64)),\n",
       "             ('R_raw',\n",
       "              tensor([[0.7597, 0.5292, 0.7048]], dtype=torch.float64)),\n",
       "             ('b',\n",
       "              tensor([[[0.5072],\n",
       "                       [0.7630],\n",
       "                       [0.6236],\n",
       "                       [0.9188]]], dtype=torch.float64)),\n",
       "             ('d',\n",
       "              tensor([[[0.3240],\n",
       "                       [0.4908],\n",
       "                       [0.6822]]], dtype=torch.float64)),\n",
       "             ('m0',\n",
       "              tensor([[[0.4710],\n",
       "                       [0.0779],\n",
       "                       [0.4183],\n",
       "                       [0.8537]]], dtype=torch.float64)),\n",
       "             ('P0_raw',\n",
       "              tensor([[[ 1.4972,  0.0000,  0.0000,  0.0000],\n",
       "                       [ 0.3591,  0.4446,  0.0000,  0.0000],\n",
       "                       [ 0.9109,  0.6090,  0.2050,  0.0000],\n",
       "                       [ 0.9737,  0.8184, -0.2393,  0.1182]]], dtype=torch.float64))])"
      ]
     },
     "execution_count": null,
     "metadata": {},
     "output_type": "execute_result"
    }
   ],
   "source": [
    "kB.state_dict()"
   ]
  },
  {
   "cell_type": "markdown",
   "id": "aa3e33bd-a4ab-495e-82b8-bd8e5dbd1dc9",
   "metadata": {},
   "source": [
    "### Get Info"
   ]
  },
  {
   "cell_type": "code",
   "execution_count": null,
   "id": "fcedaf90-f76f-4dfa-8ad3-ec0bab7d327c",
   "metadata": {},
   "outputs": [],
   "source": [
    "#| export\n",
    "@patch\n",
    "def get_info(self: KalmanFilterBase):\n",
    "    out = {}\n",
    "    var_names = ifnone(self.var_names, [f\"y_{i}\" for i in range(self.n_dim_obs)])\n",
    "    latent_names = [f\"x_{i}\" for i in range(self.n_dim_state)]\n",
    "    contr_names = ifnone(self.contr_names, [f\"c_{i}\" for i in range(self.n_dim_contr)])\n",
    "    out['$A$'] = array2df(self.A[0] , latent_names, latent_names, 'state')\n",
    "    out['$Q$']    = array2df(self.Q[0] , latent_names, latent_names, 'state')\n",
    "    out['$b$']        = array2df(self.b[0] , latent_names, ['offset'],   'state')\n",
    "    out['$H$']   = array2df(self.H[0] , var_names,    latent_names, 'variable')\n",
    "    out['$R$']      = array2df(self.R[0] , var_names,    var_names,    'variable')\n",
    "    out['$d$']          = array2df(self.d[0] , var_names,    ['offset'],   'variable')\n",
    "    out['$B$'] = array2df(self.B[0] , latent_names, contr_names,  'state')\n",
    "    out['$m_0$']  = array2df(self.m0[0], latent_names, ['mean'],     'state')\n",
    "    out['$P_0$']   = array2df(self.P0[0], latent_names, latent_names, 'state')\n",
    "\n",
    "    return out"
   ]
  },
  {
   "cell_type": "code",
   "execution_count": null,
   "id": "bce86fa8-b17d-4004-a8d8-db1d5e50fff7",
   "metadata": {},
   "outputs": [],
   "source": [
    "#| export\n",
    "@patch\n",
    "def _repr_html_(self: KalmanFilterBase):\n",
    "    title = f\"Kalman Filter ({self.n_dim_obs} obs, {self.n_dim_state} state, {self.n_dim_contr} contr)\"\n",
    "    return row_dfs(self.get_info(), title , hide_idx=True)"
   ]
  },
  {
   "cell_type": "code",
   "execution_count": null,
   "id": "b2a5b8c2-a939-4b50-a3c4-508516be076d",
   "metadata": {},
   "outputs": [
    {
     "data": {
      "text/html": [
       "<p style='font-size: 1.5rem; font-decoration: bold'>Kalman Filter (3 obs, 4 state, 3 contr)<p><div style=\"display: flex; column-gap: 20px; flex-wrap: wrap;\" class='table table-striped table-sm'> <div> <p style='font-size: 1.3rem;'>$A$</p> <style type=\"text/css\">\n",
       "</style>\n",
       "<table id=\"T_08720\">\n",
       "  <thead>\n",
       "    <tr>\n",
       "      <th id=\"T_08720_level0_col0\" class=\"col_heading level0 col0\" >state</th>\n",
       "      <th id=\"T_08720_level0_col1\" class=\"col_heading level0 col1\" >x_0</th>\n",
       "      <th id=\"T_08720_level0_col2\" class=\"col_heading level0 col2\" >x_1</th>\n",
       "      <th id=\"T_08720_level0_col3\" class=\"col_heading level0 col3\" >x_2</th>\n",
       "      <th id=\"T_08720_level0_col4\" class=\"col_heading level0 col4\" >x_3</th>\n",
       "    </tr>\n",
       "  </thead>\n",
       "  <tbody>\n",
       "    <tr>\n",
       "      <td id=\"T_08720_row0_col0\" class=\"data row0 col0\" >x_0</td>\n",
       "      <td id=\"T_08720_row0_col1\" class=\"data row0 col1\" >0.5119</td>\n",
       "      <td id=\"T_08720_row0_col2\" class=\"data row0 col2\" >0.6876</td>\n",
       "      <td id=\"T_08720_row0_col3\" class=\"data row0 col3\" >0.4421</td>\n",
       "      <td id=\"T_08720_row0_col4\" class=\"data row0 col4\" >0.8566</td>\n",
       "    </tr>\n",
       "    <tr>\n",
       "      <td id=\"T_08720_row1_col0\" class=\"data row1 col0\" >x_1</td>\n",
       "      <td id=\"T_08720_row1_col1\" class=\"data row1 col1\" >0.4001</td>\n",
       "      <td id=\"T_08720_row1_col2\" class=\"data row1 col2\" >0.1293</td>\n",
       "      <td id=\"T_08720_row1_col3\" class=\"data row1 col3\" >0.8637</td>\n",
       "      <td id=\"T_08720_row1_col4\" class=\"data row1 col4\" >0.1677</td>\n",
       "    </tr>\n",
       "    <tr>\n",
       "      <td id=\"T_08720_row2_col0\" class=\"data row2 col0\" >x_2</td>\n",
       "      <td id=\"T_08720_row2_col1\" class=\"data row2 col1\" >0.4323</td>\n",
       "      <td id=\"T_08720_row2_col2\" class=\"data row2 col2\" >0.8422</td>\n",
       "      <td id=\"T_08720_row2_col3\" class=\"data row2 col3\" >0.9664</td>\n",
       "      <td id=\"T_08720_row2_col4\" class=\"data row2 col4\" >0.0836</td>\n",
       "    </tr>\n",
       "    <tr>\n",
       "      <td id=\"T_08720_row3_col0\" class=\"data row3 col0\" >x_3</td>\n",
       "      <td id=\"T_08720_row3_col1\" class=\"data row3 col1\" >0.4376</td>\n",
       "      <td id=\"T_08720_row3_col2\" class=\"data row3 col2\" >0.9593</td>\n",
       "      <td id=\"T_08720_row3_col3\" class=\"data row3 col3\" >0.4810</td>\n",
       "      <td id=\"T_08720_row3_col4\" class=\"data row3 col4\" >0.1568</td>\n",
       "    </tr>\n",
       "  </tbody>\n",
       "</table>\n",
       " </div><div> <p style='font-size: 1.3rem;'>$Q$</p> <style type=\"text/css\">\n",
       "</style>\n",
       "<table id=\"T_1ac71\">\n",
       "  <thead>\n",
       "    <tr>\n",
       "      <th id=\"T_1ac71_level0_col0\" class=\"col_heading level0 col0\" >state</th>\n",
       "      <th id=\"T_1ac71_level0_col1\" class=\"col_heading level0 col1\" >x_0</th>\n",
       "      <th id=\"T_1ac71_level0_col2\" class=\"col_heading level0 col2\" >x_1</th>\n",
       "      <th id=\"T_1ac71_level0_col3\" class=\"col_heading level0 col3\" >x_2</th>\n",
       "      <th id=\"T_1ac71_level0_col4\" class=\"col_heading level0 col4\" >x_3</th>\n",
       "    </tr>\n",
       "  </thead>\n",
       "  <tbody>\n",
       "    <tr>\n",
       "      <td id=\"T_1ac71_row0_col0\" class=\"data row0 col0\" >x_0</td>\n",
       "      <td id=\"T_1ac71_row0_col1\" class=\"data row0 col1\" >0.0113</td>\n",
       "      <td id=\"T_1ac71_row0_col2\" class=\"data row0 col2\" >0.0000</td>\n",
       "      <td id=\"T_1ac71_row0_col3\" class=\"data row0 col3\" >0.0000</td>\n",
       "      <td id=\"T_1ac71_row0_col4\" class=\"data row0 col4\" >0.0000</td>\n",
       "    </tr>\n",
       "    <tr>\n",
       "      <td id=\"T_1ac71_row1_col0\" class=\"data row1 col0\" >x_1</td>\n",
       "      <td id=\"T_1ac71_row1_col1\" class=\"data row1 col1\" >0.0000</td>\n",
       "      <td id=\"T_1ac71_row1_col2\" class=\"data row1 col2\" >0.0371</td>\n",
       "      <td id=\"T_1ac71_row1_col3\" class=\"data row1 col3\" >0.0000</td>\n",
       "      <td id=\"T_1ac71_row1_col4\" class=\"data row1 col4\" >0.0000</td>\n",
       "    </tr>\n",
       "    <tr>\n",
       "      <td id=\"T_1ac71_row2_col0\" class=\"data row2 col0\" >x_2</td>\n",
       "      <td id=\"T_1ac71_row2_col1\" class=\"data row2 col1\" >0.0000</td>\n",
       "      <td id=\"T_1ac71_row2_col2\" class=\"data row2 col2\" >0.0000</td>\n",
       "      <td id=\"T_1ac71_row2_col3\" class=\"data row2 col3\" >0.5703</td>\n",
       "      <td id=\"T_1ac71_row2_col4\" class=\"data row2 col4\" >0.0000</td>\n",
       "    </tr>\n",
       "    <tr>\n",
       "      <td id=\"T_1ac71_row3_col0\" class=\"data row3 col0\" >x_3</td>\n",
       "      <td id=\"T_1ac71_row3_col1\" class=\"data row3 col1\" >0.0000</td>\n",
       "      <td id=\"T_1ac71_row3_col2\" class=\"data row3 col2\" >0.0000</td>\n",
       "      <td id=\"T_1ac71_row3_col3\" class=\"data row3 col3\" >0.0000</td>\n",
       "      <td id=\"T_1ac71_row3_col4\" class=\"data row3 col4\" >0.5784</td>\n",
       "    </tr>\n",
       "  </tbody>\n",
       "</table>\n",
       " </div><div> <p style='font-size: 1.3rem;'>$b$</p> <style type=\"text/css\">\n",
       "</style>\n",
       "<table id=\"T_b81e6\">\n",
       "  <thead>\n",
       "    <tr>\n",
       "      <th id=\"T_b81e6_level0_col0\" class=\"col_heading level0 col0\" >state</th>\n",
       "      <th id=\"T_b81e6_level0_col1\" class=\"col_heading level0 col1\" >offset</th>\n",
       "    </tr>\n",
       "  </thead>\n",
       "  <tbody>\n",
       "    <tr>\n",
       "      <td id=\"T_b81e6_row0_col0\" class=\"data row0 col0\" >x_0</td>\n",
       "      <td id=\"T_b81e6_row0_col1\" class=\"data row0 col1\" >0.5072</td>\n",
       "    </tr>\n",
       "    <tr>\n",
       "      <td id=\"T_b81e6_row1_col0\" class=\"data row1 col0\" >x_1</td>\n",
       "      <td id=\"T_b81e6_row1_col1\" class=\"data row1 col1\" >0.7630</td>\n",
       "    </tr>\n",
       "    <tr>\n",
       "      <td id=\"T_b81e6_row2_col0\" class=\"data row2 col0\" >x_2</td>\n",
       "      <td id=\"T_b81e6_row2_col1\" class=\"data row2 col1\" >0.6236</td>\n",
       "    </tr>\n",
       "    <tr>\n",
       "      <td id=\"T_b81e6_row3_col0\" class=\"data row3 col0\" >x_3</td>\n",
       "      <td id=\"T_b81e6_row3_col1\" class=\"data row3 col1\" >0.9188</td>\n",
       "    </tr>\n",
       "  </tbody>\n",
       "</table>\n",
       " </div><div> <p style='font-size: 1.3rem;'>$H$</p> <style type=\"text/css\">\n",
       "</style>\n",
       "<table id=\"T_77aa5\">\n",
       "  <thead>\n",
       "    <tr>\n",
       "      <th id=\"T_77aa5_level0_col0\" class=\"col_heading level0 col0\" >variable</th>\n",
       "      <th id=\"T_77aa5_level0_col1\" class=\"col_heading level0 col1\" >x_0</th>\n",
       "      <th id=\"T_77aa5_level0_col2\" class=\"col_heading level0 col2\" >x_1</th>\n",
       "      <th id=\"T_77aa5_level0_col3\" class=\"col_heading level0 col3\" >x_2</th>\n",
       "      <th id=\"T_77aa5_level0_col4\" class=\"col_heading level0 col4\" >x_3</th>\n",
       "    </tr>\n",
       "  </thead>\n",
       "  <tbody>\n",
       "    <tr>\n",
       "      <td id=\"T_77aa5_row0_col0\" class=\"data row0 col0\" >y_0</td>\n",
       "      <td id=\"T_77aa5_row0_col1\" class=\"data row0 col1\" >0.4003</td>\n",
       "      <td id=\"T_77aa5_row0_col2\" class=\"data row0 col2\" >0.9099</td>\n",
       "      <td id=\"T_77aa5_row0_col3\" class=\"data row0 col3\" >0.4019</td>\n",
       "      <td id=\"T_77aa5_row0_col4\" class=\"data row0 col4\" >0.8489</td>\n",
       "    </tr>\n",
       "    <tr>\n",
       "      <td id=\"T_77aa5_row1_col0\" class=\"data row1 col0\" >y_1</td>\n",
       "      <td id=\"T_77aa5_row1_col1\" class=\"data row1 col1\" >0.6460</td>\n",
       "      <td id=\"T_77aa5_row1_col2\" class=\"data row1 col2\" >0.6981</td>\n",
       "      <td id=\"T_77aa5_row1_col3\" class=\"data row1 col3\" >0.6625</td>\n",
       "      <td id=\"T_77aa5_row1_col4\" class=\"data row1 col4\" >0.4510</td>\n",
       "    </tr>\n",
       "    <tr>\n",
       "      <td id=\"T_77aa5_row2_col0\" class=\"data row2 col0\" >y_2</td>\n",
       "      <td id=\"T_77aa5_row2_col1\" class=\"data row2 col1\" >0.2156</td>\n",
       "      <td id=\"T_77aa5_row2_col2\" class=\"data row2 col2\" >0.3109</td>\n",
       "      <td id=\"T_77aa5_row2_col3\" class=\"data row2 col3\" >0.7897</td>\n",
       "      <td id=\"T_77aa5_row2_col4\" class=\"data row2 col4\" >0.7239</td>\n",
       "    </tr>\n",
       "  </tbody>\n",
       "</table>\n",
       " </div><div> <p style='font-size: 1.3rem;'>$R$</p> <style type=\"text/css\">\n",
       "</style>\n",
       "<table id=\"T_a5f8d\">\n",
       "  <thead>\n",
       "    <tr>\n",
       "      <th id=\"T_a5f8d_level0_col0\" class=\"col_heading level0 col0\" >variable</th>\n",
       "      <th id=\"T_a5f8d_level0_col1\" class=\"col_heading level0 col1\" >y_0</th>\n",
       "      <th id=\"T_a5f8d_level0_col2\" class=\"col_heading level0 col2\" >y_1</th>\n",
       "      <th id=\"T_a5f8d_level0_col3\" class=\"col_heading level0 col3\" >y_2</th>\n",
       "    </tr>\n",
       "  </thead>\n",
       "  <tbody>\n",
       "    <tr>\n",
       "      <td id=\"T_a5f8d_row0_col0\" class=\"data row0 col0\" >y_0</td>\n",
       "      <td id=\"T_a5f8d_row0_col1\" class=\"data row0 col1\" >0.5771</td>\n",
       "      <td id=\"T_a5f8d_row0_col2\" class=\"data row0 col2\" >0.0000</td>\n",
       "      <td id=\"T_a5f8d_row0_col3\" class=\"data row0 col3\" >0.0000</td>\n",
       "    </tr>\n",
       "    <tr>\n",
       "      <td id=\"T_a5f8d_row1_col0\" class=\"data row1 col0\" >y_1</td>\n",
       "      <td id=\"T_a5f8d_row1_col1\" class=\"data row1 col1\" >0.0000</td>\n",
       "      <td id=\"T_a5f8d_row1_col2\" class=\"data row1 col2\" >0.2800</td>\n",
       "      <td id=\"T_a5f8d_row1_col3\" class=\"data row1 col3\" >0.0000</td>\n",
       "    </tr>\n",
       "    <tr>\n",
       "      <td id=\"T_a5f8d_row2_col0\" class=\"data row2 col0\" >y_2</td>\n",
       "      <td id=\"T_a5f8d_row2_col1\" class=\"data row2 col1\" >0.0000</td>\n",
       "      <td id=\"T_a5f8d_row2_col2\" class=\"data row2 col2\" >0.0000</td>\n",
       "      <td id=\"T_a5f8d_row2_col3\" class=\"data row2 col3\" >0.4967</td>\n",
       "    </tr>\n",
       "  </tbody>\n",
       "</table>\n",
       " </div><div> <p style='font-size: 1.3rem;'>$d$</p> <style type=\"text/css\">\n",
       "</style>\n",
       "<table id=\"T_07050\">\n",
       "  <thead>\n",
       "    <tr>\n",
       "      <th id=\"T_07050_level0_col0\" class=\"col_heading level0 col0\" >variable</th>\n",
       "      <th id=\"T_07050_level0_col1\" class=\"col_heading level0 col1\" >offset</th>\n",
       "    </tr>\n",
       "  </thead>\n",
       "  <tbody>\n",
       "    <tr>\n",
       "      <td id=\"T_07050_row0_col0\" class=\"data row0 col0\" >y_0</td>\n",
       "      <td id=\"T_07050_row0_col1\" class=\"data row0 col1\" >0.3240</td>\n",
       "    </tr>\n",
       "    <tr>\n",
       "      <td id=\"T_07050_row1_col0\" class=\"data row1 col0\" >y_1</td>\n",
       "      <td id=\"T_07050_row1_col1\" class=\"data row1 col1\" >0.4908</td>\n",
       "    </tr>\n",
       "    <tr>\n",
       "      <td id=\"T_07050_row2_col0\" class=\"data row2 col0\" >y_2</td>\n",
       "      <td id=\"T_07050_row2_col1\" class=\"data row2 col1\" >0.6822</td>\n",
       "    </tr>\n",
       "  </tbody>\n",
       "</table>\n",
       " </div><div> <p style='font-size: 1.3rem;'>$B$</p> <style type=\"text/css\">\n",
       "</style>\n",
       "<table id=\"T_460b9\">\n",
       "  <thead>\n",
       "    <tr>\n",
       "      <th id=\"T_460b9_level0_col0\" class=\"col_heading level0 col0\" >state</th>\n",
       "      <th id=\"T_460b9_level0_col1\" class=\"col_heading level0 col1\" >c_0</th>\n",
       "      <th id=\"T_460b9_level0_col2\" class=\"col_heading level0 col2\" >c_1</th>\n",
       "      <th id=\"T_460b9_level0_col3\" class=\"col_heading level0 col3\" >c_2</th>\n",
       "    </tr>\n",
       "  </thead>\n",
       "  <tbody>\n",
       "    <tr>\n",
       "      <td id=\"T_460b9_row0_col0\" class=\"data row0 col0\" >x_0</td>\n",
       "      <td id=\"T_460b9_row0_col1\" class=\"data row0 col1\" >0.0400</td>\n",
       "      <td id=\"T_460b9_row0_col2\" class=\"data row0 col2\" >0.2521</td>\n",
       "      <td id=\"T_460b9_row0_col3\" class=\"data row0 col3\" >0.7528</td>\n",
       "    </tr>\n",
       "    <tr>\n",
       "      <td id=\"T_460b9_row1_col0\" class=\"data row1 col0\" >x_1</td>\n",
       "      <td id=\"T_460b9_row1_col1\" class=\"data row1 col1\" >0.7491</td>\n",
       "      <td id=\"T_460b9_row1_col2\" class=\"data row1 col2\" >0.3675</td>\n",
       "      <td id=\"T_460b9_row1_col3\" class=\"data row1 col3\" >0.1329</td>\n",
       "    </tr>\n",
       "    <tr>\n",
       "      <td id=\"T_460b9_row2_col0\" class=\"data row2 col0\" >x_2</td>\n",
       "      <td id=\"T_460b9_row2_col1\" class=\"data row2 col1\" >0.0968</td>\n",
       "      <td id=\"T_460b9_row2_col2\" class=\"data row2 col2\" >0.7927</td>\n",
       "      <td id=\"T_460b9_row2_col3\" class=\"data row2 col3\" >0.1157</td>\n",
       "    </tr>\n",
       "    <tr>\n",
       "      <td id=\"T_460b9_row3_col0\" class=\"data row3 col0\" >x_3</td>\n",
       "      <td id=\"T_460b9_row3_col1\" class=\"data row3 col1\" >0.5598</td>\n",
       "      <td id=\"T_460b9_row3_col2\" class=\"data row3 col2\" >0.5978</td>\n",
       "      <td id=\"T_460b9_row3_col3\" class=\"data row3 col3\" >0.2464</td>\n",
       "    </tr>\n",
       "  </tbody>\n",
       "</table>\n",
       " </div><div> <p style='font-size: 1.3rem;'>$m_0$</p> <style type=\"text/css\">\n",
       "</style>\n",
       "<table id=\"T_cf2c4\">\n",
       "  <thead>\n",
       "    <tr>\n",
       "      <th id=\"T_cf2c4_level0_col0\" class=\"col_heading level0 col0\" >state</th>\n",
       "      <th id=\"T_cf2c4_level0_col1\" class=\"col_heading level0 col1\" >mean</th>\n",
       "    </tr>\n",
       "  </thead>\n",
       "  <tbody>\n",
       "    <tr>\n",
       "      <td id=\"T_cf2c4_row0_col0\" class=\"data row0 col0\" >x_0</td>\n",
       "      <td id=\"T_cf2c4_row0_col1\" class=\"data row0 col1\" >0.4710</td>\n",
       "    </tr>\n",
       "    <tr>\n",
       "      <td id=\"T_cf2c4_row1_col0\" class=\"data row1 col0\" >x_1</td>\n",
       "      <td id=\"T_cf2c4_row1_col1\" class=\"data row1 col1\" >0.0779</td>\n",
       "    </tr>\n",
       "    <tr>\n",
       "      <td id=\"T_cf2c4_row2_col0\" class=\"data row2 col0\" >x_2</td>\n",
       "      <td id=\"T_cf2c4_row2_col1\" class=\"data row2 col1\" >0.4183</td>\n",
       "    </tr>\n",
       "    <tr>\n",
       "      <td id=\"T_cf2c4_row3_col0\" class=\"data row3 col0\" >x_3</td>\n",
       "      <td id=\"T_cf2c4_row3_col1\" class=\"data row3 col1\" >0.8537</td>\n",
       "    </tr>\n",
       "  </tbody>\n",
       "</table>\n",
       " </div><div> <p style='font-size: 1.3rem;'>$P_0$</p> <style type=\"text/css\">\n",
       "</style>\n",
       "<table id=\"T_b743a\">\n",
       "  <thead>\n",
       "    <tr>\n",
       "      <th id=\"T_b743a_level0_col0\" class=\"col_heading level0 col0\" >state</th>\n",
       "      <th id=\"T_b743a_level0_col1\" class=\"col_heading level0 col1\" >x_0</th>\n",
       "      <th id=\"T_b743a_level0_col2\" class=\"col_heading level0 col2\" >x_1</th>\n",
       "      <th id=\"T_b743a_level0_col3\" class=\"col_heading level0 col3\" >x_2</th>\n",
       "      <th id=\"T_b743a_level0_col4\" class=\"col_heading level0 col4\" >x_3</th>\n",
       "    </tr>\n",
       "  </thead>\n",
       "  <tbody>\n",
       "    <tr>\n",
       "      <td id=\"T_b743a_row0_col0\" class=\"data row0 col0\" >x_0</td>\n",
       "      <td id=\"T_b743a_row0_col1\" class=\"data row0 col1\" >2.2415</td>\n",
       "      <td id=\"T_b743a_row0_col2\" class=\"data row0 col2\" >0.5377</td>\n",
       "      <td id=\"T_b743a_row0_col3\" class=\"data row0 col3\" >1.3638</td>\n",
       "      <td id=\"T_b743a_row0_col4\" class=\"data row0 col4\" >1.4579</td>\n",
       "    </tr>\n",
       "    <tr>\n",
       "      <td id=\"T_b743a_row1_col0\" class=\"data row1 col0\" >x_1</td>\n",
       "      <td id=\"T_b743a_row1_col1\" class=\"data row1 col1\" >0.5377</td>\n",
       "      <td id=\"T_b743a_row1_col2\" class=\"data row1 col2\" >0.3266</td>\n",
       "      <td id=\"T_b743a_row1_col3\" class=\"data row1 col3\" >0.5979</td>\n",
       "      <td id=\"T_b743a_row1_col4\" class=\"data row1 col4\" >0.7136</td>\n",
       "    </tr>\n",
       "    <tr>\n",
       "      <td id=\"T_b743a_row2_col0\" class=\"data row2 col0\" >x_2</td>\n",
       "      <td id=\"T_b743a_row2_col1\" class=\"data row2 col1\" >1.3638</td>\n",
       "      <td id=\"T_b743a_row2_col2\" class=\"data row2 col2\" >0.5979</td>\n",
       "      <td id=\"T_b743a_row2_col3\" class=\"data row2 col3\" >1.2427</td>\n",
       "      <td id=\"T_b743a_row2_col4\" class=\"data row2 col4\" >1.3364</td>\n",
       "    </tr>\n",
       "    <tr>\n",
       "      <td id=\"T_b743a_row3_col0\" class=\"data row3 col0\" >x_3</td>\n",
       "      <td id=\"T_b743a_row3_col1\" class=\"data row3 col1\" >1.4579</td>\n",
       "      <td id=\"T_b743a_row3_col2\" class=\"data row3 col2\" >0.7136</td>\n",
       "      <td id=\"T_b743a_row3_col3\" class=\"data row3 col3\" >1.3364</td>\n",
       "      <td id=\"T_b743a_row3_col4\" class=\"data row3 col4\" >1.6892</td>\n",
       "    </tr>\n",
       "  </tbody>\n",
       "</table>\n",
       " </div></div>"
      ],
      "text/plain": [
       "Kalman Filter\n",
       "        N dim obs: 3,\n",
       "        N dim state: 4,\n",
       "        N dim contr: 3"
      ]
     },
     "execution_count": null,
     "metadata": {},
     "output_type": "execute_result"
    }
   ],
   "source": [
    "kB"
   ]
  },
  {
   "cell_type": "markdown",
   "id": "68162da7-0e27-4771-90dd-fe3eede49aaa",
   "metadata": {},
   "source": [
    "### Test data"
   ]
  },
  {
   "cell_type": "code",
   "execution_count": null,
   "id": "e8053cda-a75e-422e-866c-12edd329561f",
   "metadata": {},
   "outputs": [],
   "source": [
    "#| exporti\n",
    "def get_test_data(n_obs = 10, n_dim_obs=3, n_dim_contr = 3, p_missing=.3, bs=2, dtype=torch.float64, device='cpu'):\n",
    "    data = torch.rand(bs, n_obs, n_dim_obs, dtype=dtype, device=device)\n",
    "    mask = torch.rand(bs, n_obs, n_dim_obs, device=device) > p_missing\n",
    "    control = torch.rand(bs, n_obs, n_dim_contr, dtype=dtype, device=device)\n",
    "    data[~mask] = torch.nan # ensure that the missing data cannot be used\n",
    "    return data, mask, control"
   ]
  },
  {
   "cell_type": "code",
   "execution_count": null,
   "id": "f96a5d04-10b9-47bb-95d0-533ee11344cb",
   "metadata": {},
   "outputs": [
    {
     "data": {
      "text/html": [
       "<div style=\"display: flex; column-gap: 20px; flex-wrap: wrap;\" class='table table-striped table-sm'> <div><p style='font-size: 1.2rem;'>data</p> <pre>tensor([[[0.8775,    nan,    nan],\n",
       "         [0.6706,    nan, 0.9272],\n",
       "         [   nan, 0.4967,    nan],\n",
       "         [   nan,    nan,    nan],\n",
       "         [   nan,    nan, 0.4760],\n",
       "         [0.7606, 0.7759, 0.5243],\n",
       "         [0.3714, 0.0426, 0.2343],\n",
       "         [0.9991, 0.1775,    nan],\n",
       "         [0.6734,    nan, 0.6468],\n",
       "         [0.5825, 0.4599, 0.7960]],\n",
       "\n",
       "        [[0.9038, 0.9735, 0.6428],\n",
       "         [0.3725, 0.2052,    nan],\n",
       "         [0.4448, 0.5775, 0.7237],\n",
       "         [0.5927,    nan, 0.6441],\n",
       "         [   nan, 0.9132, 0.0329],\n",
       "         [0.4856, 0.9927, 0.5895],\n",
       "         [0.2611, 0.9413, 0.1371],\n",
       "         [0.8726, 0.5590, 0.8451],\n",
       "         [0.1253, 0.9434, 0.0462],\n",
       "         [0.2360, 0.0239, 0.8950]]], dtype=torch.float64)</pre> </div><div><p style='font-size: 1.2rem;'>mask</p> <pre>tensor([[[ True, False, False],\n",
       "         [ True, False,  True],\n",
       "         [False,  True, False],\n",
       "         [False, False, False],\n",
       "         [False, False,  True],\n",
       "         [ True,  True,  True],\n",
       "         [ True,  True,  True],\n",
       "         [ True,  True, False],\n",
       "         [ True, False,  True],\n",
       "         [ True,  True,  True]],\n",
       "\n",
       "        [[ True,  True,  True],\n",
       "         [ True,  True, False],\n",
       "         [ True,  True,  True],\n",
       "         [ True, False,  True],\n",
       "         [False,  True,  True],\n",
       "         [ True,  True,  True],\n",
       "         [ True,  True,  True],\n",
       "         [ True,  True,  True],\n",
       "         [ True,  True,  True],\n",
       "         [ True,  True,  True]]])</pre> </div><div><p style='font-size: 1.2rem;'>control</p> <pre>tensor([[[0.9201, 0.6883, 0.5342],\n",
       "         [0.7847, 0.3137, 0.1778],\n",
       "         [0.5838, 0.9799, 0.3611],\n",
       "         [0.3155, 0.7475, 0.5450],\n",
       "         [0.5641, 0.2493, 0.8323],\n",
       "         [0.9723, 0.1883, 0.3605],\n",
       "         [0.5344, 0.3443, 0.7696],\n",
       "         [0.3410, 0.7553, 0.3177],\n",
       "         [0.0315, 0.5209, 0.6514],\n",
       "         [0.3131, 0.4510, 0.3550]],\n",
       "\n",
       "        [[0.4790, 0.0676, 0.3606],\n",
       "         [0.7299, 0.6713, 0.3134],\n",
       "         [0.7460, 0.1291, 0.4653],\n",
       "         [0.5693, 0.9906, 0.8288],\n",
       "         [0.9039, 0.5240, 0.6277],\n",
       "         [0.3574, 0.0076, 0.6530],\n",
       "         [0.8667, 0.9368, 0.8667],\n",
       "         [0.6749, 0.3526, 0.6618],\n",
       "         [0.0837, 0.7188, 0.7247],\n",
       "         [0.3211, 0.4898, 0.9030]]], dtype=torch.float64)</pre> </div></div>"
      ],
      "text/plain": [
       "<IPython.core.display.HTML object>"
      ]
     },
     "metadata": {},
     "output_type": "display_data"
    }
   ],
   "source": [
    "reset_seed()\n",
    "data, mask, control = get_test_data()\n",
    "show_as_row(data, mask, control)"
   ]
  },
  {
   "cell_type": "markdown",
   "id": "9675c2e7-4a33-432a-88a4-866ca1c9f3f3",
   "metadata": {},
   "source": [
    "# Standard Kalman Filter"
   ]
  },
  {
   "cell_type": "code",
   "execution_count": null,
   "id": "49f4962c-efed-4486-8c85-93c818a1650b",
   "metadata": {},
   "outputs": [],
   "source": [
    "#| export\n",
    "class KalmanFilter(KalmanFilterBase):\n",
    "    pass"
   ]
  },
  {
   "cell_type": "code",
   "execution_count": null,
   "id": "225ca819-5bce-42ad-a36e-92029da96d00",
   "metadata": {},
   "outputs": [],
   "source": [
    "k = KalmanFilter.init_random(3,4,3)"
   ]
  },
  {
   "cell_type": "markdown",
   "id": "82b38261-acb1-45f5-a12b-7668b5f78bfb",
   "metadata": {},
   "source": [
    "## Filter"
   ]
  },
  {
   "cell_type": "markdown",
   "id": "a7ca368e-9a56-46b2-bbcb-42e561107a88",
   "metadata": {},
   "source": [
    "### Filter predict"
   ]
  },
  {
   "cell_type": "markdown",
   "id": "282a138c-0eab-4e6e-8847-274fe2bcb874",
   "metadata": {},
   "source": [
    "Probability of state at time `t` given state a time `t-1` \n",
    "\n",
    "$p(x_t) = \\mathcal{N}(x_t; m_t^-, P_t^-)$ where:\n",
    "\n",
    "- predicted state mean: $m_t^- = Am_{t-1} + B c_t + b$  \n",
    "\n",
    "- predicted state covariance: $P_t^- = AP_{t-1}A^T + Q$"
   ]
  },
  {
   "cell_type": "code",
   "execution_count": null,
   "id": "3ccd3c49-06f9-43c9-ab7d-28f6631652cc",
   "metadata": {},
   "outputs": [],
   "source": [
    "A, Q, b, B, m_pr,P_pr= (k.A, k.Q, k.b, k.B,torch.concat([k.m0]*2), torch.concat([k.P0]*2))"
   ]
  },
  {
   "cell_type": "code",
   "execution_count": null,
   "id": "17fc2cbd-f915-4c4c-a153-ee0dee631a0d",
   "metadata": {},
   "outputs": [
    {
     "data": {
      "text/plain": [
       "(torch.Size([2, 4, 1]), torch.Size([2, 4, 4]), torch.Size([1, 4, 4]))"
      ]
     },
     "execution_count": null,
     "metadata": {},
     "output_type": "execute_result"
    }
   ],
   "source": [
    "m_pr.shape, P_pr.shape, A.shape"
   ]
  },
  {
   "cell_type": "markdown",
   "id": "523cbc7b-26d6-4db1-a187-4fd77eb1e119",
   "metadata": {},
   "source": [
    "#### Covariance"
   ]
  },
  {
   "cell_type": "markdown",
   "id": "3b8cc0d2-f247-4626-875e-ea28b170cb6b",
   "metadata": {},
   "source": [
    "implement $P_t^- = AP_{t-1}A^T + Q$"
   ]
  },
  {
   "cell_type": "code",
   "execution_count": null,
   "id": "c474d943-8d33-4e13-aba4-39d5282b699c",
   "metadata": {},
   "outputs": [],
   "source": [
    "#| export\n",
    "def _filter_predict_cov_stand(A, Q, P_pr):\n",
    "    \"\"\"Standard - Kalman Filter predict covariance\"\"\"\n",
    "    return A @ P_pr @ A.mT + Q"
   ]
  },
  {
   "cell_type": "code",
   "execution_count": null,
   "id": "d2a9c86d-5ca0-461b-95b5-7f92d01f28bd",
   "metadata": {},
   "outputs": [
    {
     "data": {
      "text/plain": [
       "tensor([[[4.8187, 4.4353, 4.9715, 4.9817],\n",
       "         [4.4353, 5.3111, 5.1082, 5.1311],\n",
       "         [4.9715, 5.1082, 5.7240, 5.7099],\n",
       "         [4.9817, 5.1311, 5.7099, 6.3261]],\n",
       "\n",
       "        [[4.8187, 4.4353, 4.9715, 4.9817],\n",
       "         [4.4353, 5.3111, 5.1082, 5.1311],\n",
       "         [4.9715, 5.1082, 5.7240, 5.7099],\n",
       "         [4.9817, 5.1311, 5.7099, 6.3261]]], dtype=torch.float64,\n",
       "       grad_fn=<AddBackward0>)"
      ]
     },
     "execution_count": null,
     "metadata": {},
     "output_type": "execute_result"
    }
   ],
   "source": [
    "P_m = _filter_predict_cov_stand(A, Q, P_pr)\n",
    "P_m"
   ]
  },
  {
   "cell_type": "markdown",
   "id": "99b62845-9d3d-4526-8d6b-b13b1708982e",
   "metadata": {},
   "source": [
    "#### Mean"
   ]
  },
  {
   "cell_type": "code",
   "execution_count": null,
   "id": "44ba4e1f-7e45-4a79-bb3f-dc9e2de6f38b",
   "metadata": {},
   "outputs": [],
   "source": [
    "#| export\n",
    "def _filter_predict_mean(\n",
    "    A,      # transition matrix\n",
    "    B,      # control matrix\n",
    "    b,      # transition offset\n",
    "    m_pr,   # Mean previous time step $m_{t-1}$\n",
    "    control, # control variable\n",
    "):\n",
    "    return A @ m_pr + B @ control + b"
   ]
  },
  {
   "cell_type": "markdown",
   "id": "5d787f69-e898-49ee-8d26-040823e52305",
   "metadata": {},
   "source": [
    "#### Predict"
   ]
  },
  {
   "cell_type": "code",
   "execution_count": null,
   "id": "428778b6-bdbc-47ce-bdd4-b6895917515d",
   "metadata": {},
   "outputs": [],
   "source": [
    "#| export\n",
    "def _filter_predict(A,\n",
    "                    Q,\n",
    "                    b,\n",
    "                    B, #[n_dim_state, n_dim_contr]\n",
    "                    m_pr,\n",
    "                    P_pr,\n",
    "                    control, #[n_batches, n_dim_contr]\n",
    "                    ):\n",
    "    \"\"\"Calculate the state at time `t` given the state at time `t-1`\"\"\"\n",
    "    m_m = _filter_predict_mean(A, B, b, m_pr, control)\n",
    "    P_m = _filter_predict_cov_stand(A, Q, P_pr)\n",
    "    return (m_m, P_m)"
   ]
  },
  {
   "cell_type": "code",
   "execution_count": null,
   "id": "78bfcb80-3f86-4031-8b35-8d1f5d93ca6b",
   "metadata": {},
   "outputs": [],
   "source": [
    "#| export\n",
    "def _filter_predict_mean(\n",
    "    A,      # transition matrix\n",
    "    B,      # control matrix\n",
    "    b,      # transition offset\n",
    "    m_pr,   # Mean previous time step $m_{t-1}$\n",
    "    control, # control variable\n",
    "):\n",
    "    return A @ m_pr + B @ control + b"
   ]
  },
  {
   "cell_type": "code",
   "execution_count": null,
   "id": "71bea8fe-76a2-4367-82ac-965a15399325",
   "metadata": {},
   "outputs": [],
   "source": [
    "#| export\n",
    "def unsqueeze_iter(*args, dim): return list(map(partial(torch.unsqueeze, dim=dim), args))\n",
    "unsqueeze_first = partial(unsqueeze_iter, dim=0)\n",
    "unsqueeze_last = partial(unsqueeze_iter, dim=-1)"
   ]
  },
  {
   "cell_type": "code",
   "execution_count": null,
   "id": "935e06ec-05cf-4521-ad9d-26f3be41eb1c",
   "metadata": {},
   "outputs": [],
   "source": [
    "#| export\n",
    "def _filter_predict(A,\n",
    "                    Q,\n",
    "                    b,\n",
    "                    B, #[n_dim_state, n_dim_contr]\n",
    "                    m_pr,\n",
    "                    P_pr,\n",
    "                    control, #[n_batches, n_dim_contr]\n",
    "                    ):\n",
    "    \"\"\"Calculate the state at time `t` given the state at time `t-1`\"\"\"\n",
    "    m_m = _filter_predict_mean(A, B, b, m_pr, control)\n",
    "    P_m = _filter_predict_cov_stand(A, Q, P_pr)\n",
    "    return (m_m, P_m)"
   ]
  },
  {
   "cell_type": "code",
   "execution_count": null,
   "id": "4b0bd994-e8c4-4605-8a84-2e24f7db3644",
   "metadata": {},
   "outputs": [
    {
     "data": {
      "text/plain": [
       "torch.Size([1, 4, 3])"
      ]
     },
     "execution_count": null,
     "metadata": {},
     "output_type": "execute_result"
    }
   ],
   "source": [
    "B.shape"
   ]
  },
  {
   "cell_type": "code",
   "execution_count": null,
   "id": "49527e9b-a280-4063-b3bf-17b4f4f5ba1b",
   "metadata": {},
   "outputs": [
    {
     "data": {
      "text/plain": [
       "torch.Size([2, 10, 3])"
      ]
     },
     "execution_count": null,
     "metadata": {},
     "output_type": "execute_result"
    }
   ],
   "source": [
    "control.shape"
   ]
  },
  {
   "cell_type": "code",
   "execution_count": null,
   "id": "cf8af9a6-0666-4ac4-8850-e3b892399409",
   "metadata": {},
   "outputs": [
    {
     "data": {
      "text/plain": [
       "torch.Size([4, 3])"
      ]
     },
     "execution_count": null,
     "metadata": {},
     "output_type": "execute_result"
    }
   ],
   "source": [
    "B[0].shape"
   ]
  },
  {
   "cell_type": "code",
   "execution_count": null,
   "id": "1ee39e3e-6dc9-4abe-b342-11d198610c92",
   "metadata": {},
   "outputs": [
    {
     "data": {
      "text/plain": [
       "tensor([[0.7217],\n",
       "        [0.9572],\n",
       "        [0.5742],\n",
       "        [1.2138]], dtype=torch.float64, grad_fn=<MmBackward0>)"
      ]
     },
     "execution_count": null,
     "metadata": {},
     "output_type": "execute_result"
    }
   ],
   "source": [
    "B[0] @ control[0, 0].unsqueeze(-1)"
   ]
  },
  {
   "cell_type": "code",
   "execution_count": null,
   "id": "27363d30-7799-4ac7-ac81-b6d58e46b633",
   "metadata": {},
   "outputs": [],
   "source": [
    "m_m, P_m = _filter_predict(\n",
    "    A, Q, b, B,\n",
    "    m_pr,P_pr, control[:, 0, :].unsqueeze(-1))"
   ]
  },
  {
   "cell_type": "code",
   "execution_count": null,
   "id": "85cf0029-c23b-4091-8761-3bd689621331",
   "metadata": {},
   "outputs": [
    {
     "data": {
      "text/html": [
       "<div style=\"display: flex; column-gap: 20px; flex-wrap: wrap;\" class='table table-striped table-sm'> <div><p style='font-size: 1.2rem;'>m_m</p> <pre>tensor([[[2.4986],\n",
       "         [2.2429],\n",
       "         [1.8833],\n",
       "         [3.6164]],\n",
       "\n",
       "        [[2.1377],\n",
       "         [1.5964],\n",
       "         [1.5371],\n",
       "         [2.8315]]], dtype=torch.float64, grad_fn=<AddBackward0>)</pre> </div><div><p style='font-size: 1.2rem;'>P_m</p> <pre>tensor([[[4.8187, 4.4353, 4.9715, 4.9817],\n",
       "         [4.4353, 5.3111, 5.1082, 5.1311],\n",
       "         [4.9715, 5.1082, 5.7240, 5.7099],\n",
       "         [4.9817, 5.1311, 5.7099, 6.3261]],\n",
       "\n",
       "        [[4.8187, 4.4353, 4.9715, 4.9817],\n",
       "         [4.4353, 5.3111, 5.1082, 5.1311],\n",
       "         [4.9715, 5.1082, 5.7240, 5.7099],\n",
       "         [4.9817, 5.1311, 5.7099, 6.3261]]], dtype=torch.float64,\n",
       "       grad_fn=<AddBackward0>)</pre> </div></div>"
      ],
      "text/plain": [
       "<IPython.core.display.HTML object>"
      ]
     },
     "metadata": {},
     "output_type": "display_data"
    }
   ],
   "source": [
    "show_as_row(m_m, P_m)"
   ]
  },
  {
   "cell_type": "code",
   "execution_count": null,
   "id": "64cab28f-86a6-4bdd-b591-fc51153b891f",
   "metadata": {},
   "outputs": [
    {
     "data": {
      "text/plain": [
       "(torch.Size([2, 4, 1]), torch.Size([2, 4, 4]))"
      ]
     },
     "execution_count": null,
     "metadata": {},
     "output_type": "execute_result"
    }
   ],
   "source": [
    "(m_m.shape, P_m.shape,)"
   ]
  },
  {
   "cell_type": "markdown",
   "id": "99e62fe3-a580-4f1d-aa20-8c5de1d90cb6",
   "metadata": {},
   "source": [
    "### Filter update"
   ]
  },
  {
   "cell_type": "markdown",
   "id": "834a0734-30f7-481e-bad8-94aeae770a2a",
   "metadata": {},
   "source": [
    "Probability of state at time `t` given the observations at time `t`\n",
    "\n",
    "$p(x_t|y_t) = \\mathcal{N}(x_t; m_t, P_t)$ where:\n",
    "\n",
    "- predicted obs mean: $z_t = Hm_t^- + d$  \n",
    "\n",
    "- prediced obs covariance: $S_t = HP_t^-H^T + R$\n",
    "\n",
    "- kalman gain$K_t = P_t^-H^TS_t^{-1}$ \n",
    "\n",
    "- corrected state mean: $m_t = m_t^- + K_t(y_t - z_t)$ \n",
    "\n",
    "- corrected state covariance: $P_t = (I-K_tH)P_t^-$ \n",
    "\n",
    "if the observation are missing this step is skipped and the corrected state is equal to the predicted state\n"
   ]
  },
  {
   "cell_type": "markdown",
   "id": "9ab7f69a-c12e-4136-8ae2-fad9918f3a68",
   "metadata": {},
   "source": [
    "Need to figure out the Nans for the gradients ..."
   ]
  },
  {
   "cell_type": "markdown",
   "id": "007ec970-3cc7-4058-a55a-42b257f66193",
   "metadata": {},
   "source": [
    "#### Kalman Gain"
   ]
  },
  {
   "cell_type": "markdown",
   "id": "ed14326a-f23a-4201-822a-2a52d9a03023",
   "metadata": {},
   "source": [
    "Don't compute the inverse of the matrix, but use `cholesky_solve` to invert the matrix"
   ]
  },
  {
   "cell_type": "code",
   "execution_count": null,
   "id": "2f96f4e9-f73f-4802-9e68-51bd45d8ccbf",
   "metadata": {},
   "outputs": [],
   "source": [
    "#| export\n",
    "def _filter_update_k_gain(H, R,P_m):\n",
    "    \"kalman gain for filter update\"\n",
    "    S = H @ P_m @ H.mT + R\n",
    "    S_C = torch.linalg.cholesky(S)\n",
    "    return torch.cholesky_solve(H @ P_m.mT, S_C).mT"
   ]
  },
  {
   "cell_type": "code",
   "execution_count": null,
   "id": "e6844478-8325-41cc-b69f-6f7fd5641746",
   "metadata": {},
   "outputs": [
    {
     "data": {
      "text/plain": [
       "tensor([[[ 0.0307,  0.3311,  0.0291],\n",
       "         [-0.2621,  0.4961,  0.0624],\n",
       "         [ 0.0015,  0.4326, -0.0126],\n",
       "         [ 0.2272,  0.3601, -0.0535]],\n",
       "\n",
       "        [[ 0.0307,  0.3311,  0.0291],\n",
       "         [-0.2621,  0.4961,  0.0624],\n",
       "         [ 0.0015,  0.4326, -0.0126],\n",
       "         [ 0.2272,  0.3601, -0.0535]]], dtype=torch.float64,\n",
       "       grad_fn=<TransposeBackward0>)"
      ]
     },
     "execution_count": null,
     "metadata": {},
     "output_type": "execute_result"
    }
   ],
   "source": [
    "K = _filter_update_k_gain(H, R, P_m)\n",
    "K"
   ]
  },
  {
   "cell_type": "code",
   "execution_count": null,
   "id": "3fe01138-b90d-498e-913a-b21a9274a36c",
   "metadata": {},
   "outputs": [],
   "source": [
    "test_close(_filter_update_k_gain(H, R, P_m), P_m @ H.mT @ torch.inverse(H @ P_m @ H.mT + R))"
   ]
  },
  {
   "cell_type": "markdown",
   "id": "e145507c-ed69-4e44-be67-67804835add1",
   "metadata": {},
   "source": [
    "#### Covariance"
   ]
  },
  {
   "cell_type": "code",
   "execution_count": null,
   "id": "c504b0fd-06c1-4c17-83a1-16e44947fda9",
   "metadata": {},
   "outputs": [],
   "source": [
    "#| export\n",
    "def _filter_update_cov(H, K, P_m):\n",
    "    return (eye_like(P_m) - K @ H) @ P_m"
   ]
  },
  {
   "cell_type": "code",
   "execution_count": null,
   "id": "f2794f3f-b365-44f8-8f74-e02203c125f1",
   "metadata": {},
   "outputs": [
    {
     "data": {
      "text/plain": [
       "tensor([[[ 0.5970, -0.1075,  0.1579, -0.0676],\n",
       "         [-0.1075,  0.3210, -0.0807, -0.2334],\n",
       "         [ 0.1579, -0.0807,  0.2325, -0.0442],\n",
       "         [-0.0676, -0.2334, -0.0442,  0.2359]],\n",
       "\n",
       "        [[ 0.5970, -0.1075,  0.1579, -0.0676],\n",
       "         [-0.1075,  0.3210, -0.0807, -0.2334],\n",
       "         [ 0.1579, -0.0807,  0.2325, -0.0442],\n",
       "         [-0.0676, -0.2334, -0.0442,  0.2359]]], dtype=torch.float64,\n",
       "       grad_fn=<UnsafeViewBackward0>)"
      ]
     },
     "execution_count": null,
     "metadata": {},
     "output_type": "execute_result"
    }
   ],
   "source": [
    "P = _filter_update_cov(H, K, P_m)\n",
    "P"
   ]
  },
  {
   "cell_type": "markdown",
   "id": "9806221b-924c-48ce-9c7f-93de3e04480d",
   "metadata": {},
   "source": [
    "#### Mean"
   ]
  },
  {
   "cell_type": "code",
   "execution_count": null,
   "id": "4c064cc0-5879-4c9c-b339-b5b58da4b55e",
   "metadata": {},
   "outputs": [
    {
     "data": {
      "text/plain": [
       "tensor([[[-3.3343],\n",
       "         [    nan],\n",
       "         [    nan]],\n",
       "\n",
       "        [[-2.4181],\n",
       "         [-5.0754],\n",
       "         [-3.9145]]], dtype=torch.float64, grad_fn=<SubBackward0>)"
      ]
     },
     "execution_count": null,
     "metadata": {},
     "output_type": "execute_result"
    }
   ],
   "source": [
    "z = H @ m_m + d; z\n",
    "(obs - z)"
   ]
  },
  {
   "cell_type": "code",
   "execution_count": null,
   "id": "1d10de1f-34ff-4a67-98d3-119bd227182b",
   "metadata": {},
   "outputs": [],
   "source": [
    "#| export\n",
    "def _filter_update_mean(H, d, K, m_m, y):\n",
    "    z = H @ m_m + d\n",
    "    return m_m + K @ (y - z)"
   ]
  },
  {
   "cell_type": "code",
   "execution_count": null,
   "id": "a4dbbf45-c8d1-4c24-96c6-4257e24efe69",
   "metadata": {},
   "outputs": [
    {
     "data": {
      "text/plain": [
       "tensor([[[    nan],\n",
       "         [    nan],\n",
       "         [    nan],\n",
       "         [    nan]],\n",
       "\n",
       "        [[ 0.2687],\n",
       "         [-0.5319],\n",
       "         [-0.6131],\n",
       "         [ 0.6636]]], dtype=torch.float64, grad_fn=<AddBackward0>)"
      ]
     },
     "execution_count": null,
     "metadata": {},
     "output_type": "execute_result"
    }
   ],
   "source": [
    "m = _filter_update_mean(H, d, K, m_m, obs)\n",
    "m"
   ]
  },
  {
   "cell_type": "code",
   "execution_count": null,
   "id": "8002128f-e761-4955-9593-274d86f5deed",
   "metadata": {},
   "outputs": [],
   "source": [
    "def _filter_update(\n",
    "    H, # [1, n_dim_obs, n_dim_state]\n",
    "    d, # [1, n_dim_obs, 1]\n",
    "    R, # [1, n_dim_obs, n_dim_obs]\n",
    "    m_m, # [n_batches, n_dim_state, 1]\n",
    "    P_m, # [n_batches, n_dim_state, n_dim_state]\n",
    "    obs # # [n_batches, n_dim_obs, 1]\n",
    ") -> Tuple: # Filtered state (mean, covariance) [n_batches, n_dim_state]\n",
    "    \"Filter update state at `t` with obs at `t`\"\n",
    "    K = _filter_update_k_gain(H, R, P_m)\n",
    "    m = _filter_update_mean(H, d, K, m_m, obs)\n",
    "    P = _filter_update_cov(H, K, P_m)\n",
    "    return m, P"
   ]
  },
  {
   "cell_type": "code",
   "execution_count": null,
   "id": "20114b3e-6153-46bd-b6b8-62f2f236de29",
   "metadata": {},
   "outputs": [
    {
     "data": {
      "text/html": [
       "<div style=\"display: flex; column-gap: 20px; flex-wrap: wrap;\" class='table table-striped table-sm'> <div><p style='font-size: 1.2rem;'>m</p> <pre>tensor([[[    nan],\n",
       "         [    nan],\n",
       "         [    nan],\n",
       "         [    nan]],\n",
       "\n",
       "        [[ 0.2687],\n",
       "         [-0.5319],\n",
       "         [-0.6131],\n",
       "         [ 0.6636]]], dtype=torch.float64, grad_fn=<AddBackward0>)</pre> </div><div><p style='font-size: 1.2rem;'>P</p> <pre>tensor([[[ 0.5970, -0.1075,  0.1579, -0.0676],\n",
       "         [-0.1075,  0.3210, -0.0807, -0.2334],\n",
       "         [ 0.1579, -0.0807,  0.2325, -0.0442],\n",
       "         [-0.0676, -0.2334, -0.0442,  0.2359]],\n",
       "\n",
       "        [[ 0.5970, -0.1075,  0.1579, -0.0676],\n",
       "         [-0.1075,  0.3210, -0.0807, -0.2334],\n",
       "         [ 0.1579, -0.0807,  0.2325, -0.0442],\n",
       "         [-0.0676, -0.2334, -0.0442,  0.2359]]], dtype=torch.float64,\n",
       "       grad_fn=<UnsafeViewBackward0>)</pre> </div></div>"
      ],
      "text/plain": [
       "<IPython.core.display.HTML object>"
      ]
     },
     "metadata": {},
     "output_type": "display_data"
    },
    {
     "data": {
      "text/plain": [
       "(torch.Size([2, 4, 1]), torch.Size([2, 4, 4]))"
      ]
     },
     "execution_count": null,
     "metadata": {},
     "output_type": "execute_result"
    }
   ],
   "source": [
    "m, P = _filter_update(H, d, R, m_m, P_m, obs)\n",
    "show_as_row(m, P)\n",
    "m.shape, P.shape"
   ]
  },
  {
   "cell_type": "markdown",
   "id": "33d489fd-d298-4f67-9a52-0992c5a290c3",
   "metadata": {},
   "source": [
    "there are `nan` in the output because there are `nan` in the observations\n",
    "\n",
    "The next functions adds the support for missing obsevations by also using a mask"
   ]
  },
  {
   "cell_type": "markdown",
   "id": "324e6fe3-8338-45ca-8012-8d1c1ecf55fd",
   "metadata": {},
   "source": [
    "#### Missing observations\n",
    "\n",
    "If all the observations at time $t$ are missing the correct step is skipped and the filtered state at time $t$ () is the same of the filtered state.\n",
    "\n",
    "If only some observations are missing a variation of equation can be used.\n",
    "\n",
    "$y^{ng}_t$ is a vector containing the observations that are not missing at time $t$. \n",
    "\n",
    "It can be expressed as a linear transformation of $y_t$\n",
    "\n",
    "$$ y^{ng}_t = My_t$$\n",
    "\n",
    "where $M$ is a mask matrix that is used to select the subset of $y_t$ that is observed. $M \\in \\mathbb{R}^{n_{ng} \\times n}$ and is made of columns which are made of all zeros but for an entry 1 at row corresponding to the non-missing observation.\n",
    "hence:\n",
    "\n",
    "$$ p(y^{ng}_t) = \\mathcal{N}(M\\mu_{y_t},  M\\Sigma_{y_t}M^T)$$\n",
    "\n",
    "from which you can derive\n",
    "\n",
    "$$ p(y^{ng}_t|x_t) = p(MHx_t + Mb, MRM^T) $${#eq-filter-correct}\n",
    "\n",
    "Then the posterior $p(x_t|y_t^{ng})$ can be computed similarly of equation @filter_correct as:\n",
    "\n",
    "$$ p(x_t|y^{ng}_t) = \\mathcal{N}(x_t; m_t, P_t) $${#eq-filter_correct_missing}\n",
    "    \n",
    "where:\n",
    "\n",
    "*  predicted obs mean: $z_t = MHm_t^- + Md$\n",
    "*  predicted obs covariance: $S_t = MHP_t^-(MH)^T + MRM^T$\n",
    "*  Kalman gain $K_t = P_t^-(MH)^TS_t^{-1}$\n",
    "*  corrected state mean: $m_t = m_t^- + K_t(My_t - z_t)$\n",
    "*  corrected state covariance: $P_t = (I-K_tMH)P_t^-$\n"
   ]
  },
  {
   "cell_type": "markdown",
   "id": "db040ca7-a9fa-4cb2-84a0-ec41d75dfa5c",
   "metadata": {},
   "source": [
    "##### Details implementation "
   ]
  },
  {
   "cell_type": "markdown",
   "id": "2d5295da-4c5d-4b37-8078-0be02e053526",
   "metadata": {},
   "source": [
    "For the implementation the matrix multiplication $MH$ can be replaced with `H[m]` where `m` is the mask for the rows for `H` and $MRM^T$ with `R[m][:,m]`"
   ]
  },
  {
   "cell_type": "code",
   "execution_count": null,
   "id": "f32ec6d7-ace9-432b-8e6c-f6dfdb2ec994",
   "metadata": {},
   "outputs": [],
   "source": [
    "H, R, d,obs, mm = k.H, k.R, k.d, data[:,0,:].unsqueeze(-1), mask[:,0,:].unsqueeze(-1)"
   ]
  },
  {
   "cell_type": "code",
   "execution_count": null,
   "id": "e8d2e4f7-27bf-49aa-acee-d69f7fe90bae",
   "metadata": {},
   "outputs": [
    {
     "data": {
      "text/html": [
       "<div style=\"display: flex; column-gap: 20px; flex-wrap: wrap;\" class='table table-striped table-sm'> <div><p style='font-size: 1.2rem;'>m</p> <pre>tensor([False,  True,  True])</pre> </div><div><p style='font-size: 1.2rem;'>M</p> <pre>tensor([[[0., 1., 0.],\n",
       "         [0., 0., 1.]]], dtype=torch.float64)</pre> </div><div><p style='font-size: 1.2rem;'>H</p> <pre>Parameter containing:\n",
       "tensor([[[0.1349, 0.0519, 0.1180, 0.9767],\n",
       "         [0.1679, 0.8635, 0.3753, 0.9760],\n",
       "         [0.2125, 0.8049, 0.2124, 0.6794]]], dtype=torch.float64,\n",
       "       requires_grad=True)</pre> </div><div><p style='font-size: 1.2rem;'>R</p> <pre>tensor([[[0.8976, 0.0000, 0.0000],\n",
       "         [0.0000, 0.0022, 0.0000],\n",
       "         [0.0000, 0.0000, 0.9592]]], dtype=torch.float64,\n",
       "       grad_fn=<DiagEmbedBackward0>)</pre> </div></div>"
      ],
      "text/plain": [
       "<IPython.core.display.HTML object>"
      ]
     },
     "metadata": {},
     "output_type": "display_data"
    }
   ],
   "source": [
    "m = torch.tensor([False,True,True]) # mask batch\n",
    "M = torch.tensor([[[0,1,0], # mask matrix\n",
    "                  [0,0,1]]], dtype=torch.float64)\n",
    "show_as_row(m, M, H, R)"
   ]
  },
  {
   "cell_type": "code",
   "execution_count": null,
   "id": "79fc5a87-5836-4c12-b8b8-35af30c716f0",
   "metadata": {},
   "outputs": [
    {
     "data": {
      "text/plain": [
       "(tensor([[[0.1679, 0.8635, 0.3753, 0.9760],\n",
       "          [0.2125, 0.8049, 0.2124, 0.6794]]], dtype=torch.float64,\n",
       "        grad_fn=<UnsafeViewBackward0>),\n",
       " tensor([[[0.1679, 0.8635, 0.3753, 0.9760],\n",
       "          [0.2125, 0.8049, 0.2124, 0.6794]]], dtype=torch.float64,\n",
       "        grad_fn=<IndexBackward0>))"
      ]
     },
     "execution_count": null,
     "metadata": {},
     "output_type": "execute_result"
    }
   ],
   "source": [
    "M @ H, H[:, m]"
   ]
  },
  {
   "cell_type": "code",
   "execution_count": null,
   "id": "856ff123-f0c9-4f5e-af22-b1a7c2f5dcc6",
   "metadata": {},
   "outputs": [
    {
     "data": {
      "text/plain": [
       "(tensor([[[0.0022, 0.0000],\n",
       "          [0.0000, 0.9592]]], dtype=torch.float64,\n",
       "        grad_fn=<UnsafeViewBackward0>),\n",
       " tensor([[[0.0022, 0.0000],\n",
       "          [0.0000, 0.9592]]], dtype=torch.float64, grad_fn=<IndexBackward0>))"
      ]
     },
     "execution_count": null,
     "metadata": {},
     "output_type": "execute_result"
    }
   ],
   "source": [
    "M @ R @ M.mT, R[:,m][:,:,m]"
   ]
  },
  {
   "cell_type": "markdown",
   "id": "d7b52ab7-be5c-4d32-b2bb-bf67da274774",
   "metadata": {},
   "source": [
    "By using partially missing observations `_filter_update` cannot be easily batched as the shape of the intermediate variables depends on the number of observed variables. So the idea is to divide the batch in blocks that share the same number of variables missing."
   ]
  },
  {
   "cell_type": "code",
   "execution_count": null,
   "id": "6b16750b-899c-4067-b7a5-106084f734d8",
   "metadata": {},
   "outputs": [
    {
     "data": {
      "text/plain": [
       "(tensor([[ True, False,  True],\n",
       "         [ True,  True, False]]),\n",
       " tensor([0, 1]))"
      ]
     },
     "execution_count": null,
     "metadata": {},
     "output_type": "execute_result"
    }
   ],
   "source": [
    "mask_values, indices = torch.unique(mask[:,1,:], dim=0, return_inverse=True)\n",
    "mask_values, indices"
   ]
  },
  {
   "cell_type": "markdown",
   "id": "4cd3f38f-d3c3-4977-8fda-9ade9a3ee5b8",
   "metadata": {},
   "source": [
    "##### Update mask"
   ]
  },
  {
   "cell_type": "code",
   "execution_count": null,
   "id": "d64b0b22-9477-442f-ae65-1f9f69c810d8",
   "metadata": {},
   "outputs": [],
   "source": [
    "#| export\n",
    "def _filter_update_mask(\n",
    "        H, # [1, n_dim_obs, n_dim_state]\n",
    "        d, # [1, n_dim_obs, 1]\n",
    "        R, # [1, n_dim_obs, n_dim_obs]\n",
    "        m_m, # [n_batches, n_dim_state, 1]\n",
    "        P_m, # [n_batches, n_dim_state, n_dim_state]\n",
    "        obs, # [n_batches, n_dim_obs, 1] observations\n",
    "        mask # [n_dim_obs] mask must be the same across batches\n",
    "                       ):\n",
    "    \"\"\"Update state at time `t` given observations at time `t` assuming that all observations have the same mask\"\"\"\n",
    "    if (~mask).all(): return (m_m, P_m) # all data is missing\n",
    "    H_m, d_m, R_m, obs_m, = H[:, mask,:], d[:, mask,:], R[:, mask,:][:, :,mask], obs[:, mask] # _m for masked\n",
    "    return _filter_update(H_m, d_m, R_m, m_m, P_m, obs_m)"
   ]
  },
  {
   "cell_type": "code",
   "execution_count": null,
   "id": "93a93332-4acf-4c8d-bec0-761f881be8a6",
   "metadata": {},
   "outputs": [
    {
     "data": {
      "text/plain": [
       "(torch.Size([1, 1, 4]),\n",
       " torch.Size([1, 1, 1]),\n",
       " torch.Size([1, 1, 1]),\n",
       " torch.Size([2, 1, 1]))"
      ]
     },
     "execution_count": null,
     "metadata": {},
     "output_type": "execute_result"
    }
   ],
   "source": [
    "H[:, mm].shape, d[:, mm].shape, R[:, mm][:, :,mm].shape, obs[:, mm].shape"
   ]
  },
  {
   "cell_type": "code",
   "execution_count": null,
   "id": "f1953c2f-e4d8-4a72-914e-b2ef36785382",
   "metadata": {},
   "outputs": [
    {
     "data": {
      "text/html": [
       "<div style=\"display: flex; column-gap: 20px; flex-wrap: wrap;\" class='table table-striped table-sm'> <div><p style='font-size: 1.2rem;'>#0</p> <pre>tensor([[[ 0.4966],\n",
       "         [ 0.1916],\n",
       "         [-0.3892],\n",
       "         [ 1.1533]],\n",
       "\n",
       "        [[ 0.6857],\n",
       "         [ 0.1087],\n",
       "         [-0.1110],\n",
       "         [ 1.0452]]], dtype=torch.float64, grad_fn=<AddBackward0>)</pre> </div><div><p style='font-size: 1.2rem;'>#1</p> <pre>tensor([[[1.0162, 0.5393, 0.6553, 0.3036],\n",
       "         [0.5393, 1.3192, 0.6858, 0.3379],\n",
       "         [0.6553, 0.6858, 0.8247, 0.3997],\n",
       "         [0.3036, 0.3379, 0.3997, 0.5707]],\n",
       "\n",
       "        [[1.0162, 0.5393, 0.6553, 0.3036],\n",
       "         [0.5393, 1.3192, 0.6858, 0.3379],\n",
       "         [0.6553, 0.6858, 0.8247, 0.3997],\n",
       "         [0.3036, 0.3379, 0.3997, 0.5707]]], dtype=torch.float64,\n",
       "       grad_fn=<UnsafeViewBackward0>)</pre> </div></div>"
      ],
      "text/plain": [
       "<IPython.core.display.HTML object>"
      ]
     },
     "metadata": {},
     "output_type": "display_data"
    }
   ],
   "source": [
    "show_as_row(*_filter_update_mask(H, d, R, m_m, P_m, obs, mask[0, 0, :] ))"
   ]
  },
  {
   "cell_type": "code",
   "execution_count": null,
   "id": "10551bc9-1f18-43e3-8e67-8b2703de8bf5",
   "metadata": {},
   "outputs": [
    {
     "data": {
      "text/plain": [
       "(torch.Size([2, 4, 1]), torch.Size([2, 4, 4]))"
      ]
     },
     "execution_count": null,
     "metadata": {},
     "output_type": "execute_result"
    }
   ],
   "source": [
    "m, P = _filter_update_mask(H, d, R, m_m, P_m, obs, mask[0, 0, :] )\n",
    "m.shape, P.shape"
   ]
  },
  {
   "cell_type": "markdown",
   "id": "c1fba5ee-bb8f-4f96-909b-6d3668b4959b",
   "metadata": {},
   "source": [
    "##### Update mask batch"
   ]
  },
  {
   "cell_type": "code",
   "execution_count": null,
   "id": "23b11e2a",
   "metadata": {},
   "outputs": [],
   "source": [
    "#| export\n",
    "def _filter_update_mask_batch(\n",
    "        H, # [1, n_dim_obs, n_dim_state]\n",
    "        d, # [1, n_dim_obs, 1]\n",
    "        R, # [1, n_dim_obs, n_dim_obs]\n",
    "        m_m, # [n_batches, n_dim_state, 1]\n",
    "        P_m, # [n_batches, n_dim_state, n_dim_state]\n",
    "        obs, # [n_batches, n_dim_obs, 1] observations\n",
    "        mask # [n_batches, n_dim_obs] mask must be the same across batches\n",
    "                       ):\n",
    "    \"\"\"Support batches with different masks when update state at time `t` given observations at time `t`\"\"\"\n",
    "    \n",
    "    ms, Ps= torch.empty_like(m_m), torch.empty_like(P_m)\n",
    "    \n",
    "    # find the unique values of the mask and make a sub-batches with it\n",
    "    mask_values, indices = torch.unique(mask, return_inverse=True, dim=0)  \n",
    "    for i, mask_v in enumerate(mask_values):\n",
    "        idx_select = indices == i \n",
    "        m, P = _filter_update_mask(\n",
    "            H, d, R,\n",
    "            m_m[idx_select], P_m[idx_select],\n",
    "            obs[idx_select],\n",
    "            mask_v,\n",
    "        )\n",
    "        ms[idx_select], Ps[idx_select] = m, P\n",
    "    \n",
    "    return ms, Ps"
   ]
  },
  {
   "cell_type": "code",
   "execution_count": null,
   "id": "e0c7eb97-ec2b-4da0-80a4-b18cc53a3a82",
   "metadata": {},
   "outputs": [
    {
     "data": {
      "text/html": [
       "<div style=\"display: flex; column-gap: 20px; flex-wrap: wrap;\" class='table table-striped table-sm'> <div><p style='font-size: 1.2rem;'>m</p> <pre>tensor([[[ 0.4966],\n",
       "         [ 0.1916],\n",
       "         [-0.3892],\n",
       "         [ 1.1533]],\n",
       "\n",
       "        [[ 0.2687],\n",
       "         [-0.5319],\n",
       "         [-0.6131],\n",
       "         [ 0.6636]]], dtype=torch.float64, grad_fn=<IndexPutBackward0>)</pre> </div><div><p style='font-size: 1.2rem;'>P</p> <pre>tensor([[[ 1.0162,  0.5393,  0.6553,  0.3036],\n",
       "         [ 0.5393,  1.3192,  0.6858,  0.3379],\n",
       "         [ 0.6553,  0.6858,  0.8247,  0.3997],\n",
       "         [ 0.3036,  0.3379,  0.3997,  0.5707]],\n",
       "\n",
       "        [[ 0.5970, -0.1075,  0.1579, -0.0676],\n",
       "         [-0.1075,  0.3210, -0.0807, -0.2334],\n",
       "         [ 0.1579, -0.0807,  0.2325, -0.0442],\n",
       "         [-0.0676, -0.2334, -0.0442,  0.2359]]], dtype=torch.float64,\n",
       "       grad_fn=<IndexPutBackward0>)</pre> </div></div>"
      ],
      "text/plain": [
       "<IPython.core.display.HTML object>"
      ]
     },
     "metadata": {},
     "output_type": "display_data"
    },
    {
     "data": {
      "text/plain": [
       "(torch.Size([2, 4, 1]), torch.Size([2, 4, 4]))"
      ]
     },
     "execution_count": null,
     "metadata": {},
     "output_type": "execute_result"
    }
   ],
   "source": [
    "m, P = _filter_update_mask_batch(H, d, R, m_m, P_m, obs, mask[:,0,:] )\n",
    "show_as_row(m, P)\n",
    "m.shape, P.shape"
   ]
  },
  {
   "cell_type": "code",
   "execution_count": null,
   "id": "d4ee11fd-ec1c-495e-9e41-cd70717206a1",
   "metadata": {},
   "outputs": [
    {
     "data": {
      "text/plain": [
       "tensor([[[-9.4959e+00, -7.2651e+00,  1.5332e+00, -1.7932e+01],\n",
       "         [-3.5221e+00,  4.5416e+00,  4.3494e+00, -5.1217e+00],\n",
       "         [ 3.4425e-01,  2.0932e-03,  2.5141e-01, -1.5584e-01]]],\n",
       "       dtype=torch.float64)"
      ]
     },
     "execution_count": null,
     "metadata": {},
     "output_type": "execute_result"
    }
   ],
   "source": [
    "m.sum().backward(retain_graph=True) # check that pytorch can compute gradients with the whole batch and gradients aren't nan\n",
    "H.grad"
   ]
  },
  {
   "cell_type": "markdown",
   "id": "173294f6-f74b-4a93-9ba6-c4695284d125",
   "metadata": {},
   "source": [
    "### Filter"
   ]
  },
  {
   "cell_type": "markdown",
   "id": "1e345bda-8a17-44be-bd6f-15f5608ac220",
   "metadata": {},
   "source": [
    "The resursive version of the kalman filter is apperently breaking pytorch gradients calculations so a workaround is needed.\n",
    "During the loop the states are saved in a python list and then at the end they are combined back into a tensor.\n",
    "The last line of the function does:\n",
    "\n",
    "- convert lists to tensors\n",
    "- correct order dimensions"
   ]
  },
  {
   "cell_type": "code",
   "execution_count": null,
   "id": "49b44fc6-a9f5-4873-8610-c889c9a1b6b8",
   "metadata": {},
   "outputs": [],
   "source": [
    "#| export\n",
    "def _times2batch(x):\n",
    "    \"\"\"Permutes `x` so that the first dimension is the number of batches and not the times\"\"\"\n",
    "    return x.permute(1,0,-2,-1)"
   ]
  },
  {
   "cell_type": "code",
   "execution_count": null,
   "id": "2f045ed4-40bc-4451-b836-5bc4e5b4d4b9",
   "metadata": {},
   "outputs": [],
   "source": [
    "#| export\n",
    "@patch\n",
    "def _filter_all(self: KalmanFilter,\n",
    "            obs, # [n_batches, ]\n",
    "            mask,\n",
    "            control,\n",
    "            \n",
    "           ) ->Tuple[ListMNormal, ListMNormal]: # Filtered state, predicted state \n",
    "    \"\"\"Filter observations using kalman filter \"\"\"\n",
    "    obs, mask, control = self._parse_obs(obs, mask, control)\n",
    "    n_obs = obs.shape[-2]\n",
    "    bs = obs.shape[0]\n",
    "    # lists are mutable so need to copy them\n",
    "    m_ms, P_ms, ms, Ps = [[None for _ in range(n_obs)].copy() for _ in range(4)] \n",
    "\n",
    "    for t in range(n_obs):\n",
    "        # Predict\n",
    "        if t == 0:\n",
    "            m_ms[t], P_ms[t] = self.m0.expand(bs, -1, -1), self.P0.expand(bs, -1, -1)\n",
    "        else:\n",
    "            m_ms[t], P_ms[t] = _filter_predict(self.A, self.Q, self.b, self.B, ms[t - 1], Ps[t - 1], control[:,t,:])\n",
    "        \n",
    "        # Update\n",
    "        ms[t], Ps[t] = _filter_update_mask_batch(self.H, self.d, self.R, m_ms[t], P_ms[t], obs[:,t,:], mask[:,t,:])\n",
    "        \n",
    "        if self.cov_checker is not None:\n",
    "            self.cov_checker.check(P_ms[t], t=t, name=\"filter_predict\")\n",
    "            self.cov_checker.check(Ps[t], t=t, name=\"filter_update\")\n",
    "    \n",
    "    m_ms, P_ms, ms, Ps = list(maps(torch.stack, _times2batch, (m_ms, P_ms, ms, Ps,))) # reorder dimensions and convert to tensor\n",
    "    return ListMNormal(ms, Ps), ListMNormal(m_ms, P_ms) "
   ]
  },
  {
   "cell_type": "code",
   "execution_count": null,
   "id": "c8a89f73-5006-44db-bf7d-2a50cc7c5935",
   "metadata": {},
   "outputs": [],
   "source": [
    "obs, m0, P0 = data, k.m0, k.P0"
   ]
  },
  {
   "cell_type": "code",
   "execution_count": null,
   "id": "1fdc67a7-1a3f-4920-810d-03c968cdf86a",
   "metadata": {},
   "outputs": [],
   "source": [
    "m_ms, P_ms, ms, Ps = _filter(\n",
    "    A, H, B,\n",
    "    Q, R,\n",
    "    b, d,\n",
    "    m0, P0,\n",
    "    data, mask, control)"
   ]
  },
  {
   "cell_type": "markdown",
   "id": "a90a2d45-baed-4c3b-9a3a-2994e5a7a278",
   "metadata": {},
   "source": [
    "Predictions at time `0` for both batches"
   ]
  },
  {
   "cell_type": "code",
   "execution_count": null,
   "id": "fef85013-d727-4bdd-ba84-a31ba313d3a7",
   "metadata": {},
   "outputs": [],
   "source": [
    "show_as_row(list(map(Self.shape(), (m_ms, P_ms, ms, Ps,))))"
   ]
  },
  {
   "cell_type": "code",
   "execution_count": null,
   "id": "f93a4e7d-8a82-4c8a-be3f-7c6f63278258",
   "metadata": {},
   "outputs": [],
   "source": [
    "show_as_row(list(map(lambda x:x[0][0], (m_ms, P_ms, ms, Ps,))))"
   ]
  },
  {
   "cell_type": "markdown",
   "id": "9f928bd5-604f-4a0d-9379-46aba21e31d8",
   "metadata": {},
   "source": [
    "### KalmanFilter method"
   ]
  },
  {
   "cell_type": "code",
   "execution_count": null,
   "id": "ebcccf0f-e431-4a38-88f2-5630adf974b9",
   "metadata": {},
   "outputs": [],
   "source": [
    "#| export\n",
    "@patch\n",
    "def _filter_all(self: KalmanFilter, obs, mask, control\n",
    "               ) ->Tuple[List, List, List, List]: # m_ms, P_ms, ms, Ps\n",
    "    \"\"\" wrapper around `_filter`\"\"\"\n",
    "    obs, mask = self._parse_obs(obs, mask)\n",
    "    return _filter(\n",
    "            self.A, self.H,\n",
    "            self.B if self.use_control else torch.zeros_like(self.B),\n",
    "            self.Q, self.R,\n",
    "            self.b, self.d,\n",
    "            self.m0, self.P0,\n",
    "            obs, mask, control,\n",
    "            self.cov_checker\n",
    "        )"
   ]
  },
  {
   "cell_type": "code",
   "execution_count": null,
   "id": "88522f5b-88b8-4357-af60-11d2a322898b",
   "metadata": {},
   "outputs": [],
   "source": [
    "pred_mean, _, _, _ = k._filter_all(obs, mask, control);"
   ]
  },
  {
   "cell_type": "code",
   "execution_count": null,
   "id": "3727654a-f7e2-4a95-8c8b-0659a4f2610b",
   "metadata": {},
   "outputs": [],
   "source": [
    "type(k._filter_all(obs, mask, control))"
   ]
  },
  {
   "cell_type": "code",
   "execution_count": null,
   "id": "0245e567-161f-4a63-89d9-c68e6553a05c",
   "metadata": {},
   "outputs": [],
   "source": [
    "pred_mean.sum().backward(retain_graph=True) # it works!"
   ]
  },
  {
   "cell_type": "markdown",
   "id": "745027b0-63f0-459f-ad1f-b29c23454dac",
   "metadata": {},
   "source": [
    "The filter methods wraps `_filter_all` but in addition:\n",
    "\n",
    "- returns only filtered state\n",
    "- detach tensors"
   ]
  },
  {
   "cell_type": "code",
   "execution_count": null,
   "id": "4d970ee1-3e3f-4707-9f97-3874ad7643b1",
   "metadata": {},
   "outputs": [],
   "source": [
    "#| export\n",
    "@patch\n",
    "def filter(self: KalmanFilter,\n",
    "          obs: Tensor, # [n_timesteps, n_dim_obs] obs for times [0...n_timesteps-1]\n",
    "          mask: Tensor,  # [n_timesteps, n_dim_obs] obs for times [0...n_timesteps-1]\n",
    "          control: Tensor, # [n_timesteps, n_dim_contr] control for times [1...n_timesteps-1]\n",
    "          ) -> ListMNormal: # Filtered state\n",
    "    \"\"\"Filter observation\"\"\"\n",
    "    _, _, ms, Ps = self._filter_all(obs, mask, control)\n",
    "    return ListMNormal(ms.squeeze(-1), Ps)"
   ]
  },
  {
   "cell_type": "code",
   "execution_count": null,
   "id": "78611868-2c0b-4e56-aa24-102530648002",
   "metadata": {},
   "outputs": [],
   "source": [
    "filt = k.filter(obs, mask, control)\n",
    "filt.mean.shape, filt.cov.shape"
   ]
  },
  {
   "cell_type": "markdown",
   "id": "f8d2f1bf-34cd-4e87-a239-2662f6689a53",
   "metadata": {},
   "source": [
    "## Smooth"
   ]
  },
  {
   "cell_type": "markdown",
   "id": "ff2a1878-4e69-4ead-a7b8-cf7dbae5d13e",
   "metadata": {},
   "source": [
    "### Smooth step"
   ]
  },
  {
   "cell_type": "markdown",
   "id": "8a2e8c24-b7ce-4e7a-9bfa-82c9dd246080",
   "metadata": {},
   "source": [
    "compute the probability of the state at time `t` given all the observations\n",
    "\n",
    "$p(x_t|Y) = \\mathcal{N}(x_t; m_t^s, P_t^s)$ where:\n",
    "\n",
    "- Kalman smoothing gain: $G_t = P_tA^T(P_{t+1}^-)^{-1}$\n",
    "- smoothed mean: $m_t^s = m_t + G_t(m_{t+1}^s - m_{t+1}^-)$\n",
    "- smoothed covariance: $P_t^s = P_t + G_t(P_{t+1}^s - P_{t+1}^-)G_t^T$"
   ]
  },
  {
   "cell_type": "code",
   "execution_count": null,
   "id": "57d5c739-3863-40a5-8b96-1ee12c476ca9",
   "metadata": {},
   "outputs": [],
   "source": [
    "#| export\n",
    "def _smooth_update(A,                # [n_dim_state, n_dim_state]\n",
    "                   filt_state: MNormal,         # [n_dim_state] filtered state at time `t`\n",
    "                   pred_state: MNormal,         # [n_dim_state] state before filtering at time `t + 1` (= using the observation until time t)\n",
    "                   next_smoothed_state: Normal, # [n_dim_state] smoothed state at time  `t+1`\n",
    "                   cov_checker = CheckPosDef()\n",
    "                   ) -> MNormal:                # mean and cov of smoothed state at time `t`\n",
    "    \"\"\"Correct a pred state with a Kalman Smoother update\"\"\"\n",
    "    kalman_smoothing_gain = filt_state.cov @ A.unsqueeze(0).mT @ torch.inverse(pred_state.cov) # torch.cholesky_inverse(torch.linalg.cholesky(pred_state.cov))\n",
    "\n",
    "    m_p = filt_state.mean + kalman_smoothing_gain @ (next_smoothed_state.mean - pred_state.mean)\n",
    "    P_p = filt_state.cov + kalman_smoothing_gain @ (next_smoothed_state.cov - pred_state.cov) @ kalman_smoothing_gain.mT\n",
    "\n",
    "    cov_checker.check(P_p, caller='smooth_update')\n",
    "    \n",
    "    return MNormal(m_p, P_p)"
   ]
  },
  {
   "cell_type": "code",
   "execution_count": null,
   "id": "9ac05405-3656-45e1-a818-136858b36fcb",
   "metadata": {},
   "outputs": [],
   "source": [
    "filt_state, pred_state, next_smoothed_state = [MNormal(m_m, P_m)] * 3 # just for testing"
   ]
  },
  {
   "cell_type": "code",
   "execution_count": null,
   "id": "8a7f46d1-5d5e-48fa-92d7-cb37e715d2d7",
   "metadata": {},
   "outputs": [],
   "source": [
    "show_as_row(*_smooth_update(A, MNormal(m_m, P_m), MNormal(m_m, P_m), MNormal(m_m, P_m)))"
   ]
  },
  {
   "cell_type": "code",
   "execution_count": null,
   "id": "4718e339-fc4f-4794-a3d2-d72ef59d16ca",
   "metadata": {},
   "outputs": [],
   "source": [
    "show_as_row(*map(Self.shape(), _smooth_update(A, MNormal(m_m, P_m), MNormal(m_m, P_m), MNormal(m_m, P_m))))"
   ]
  },
  {
   "cell_type": "markdown",
   "id": "78cf23fc-5a11-48e2-b37d-5c640e23d79f",
   "metadata": {},
   "source": [
    "### Smooth"
   ]
  },
  {
   "cell_type": "code",
   "execution_count": null,
   "id": "7c46309f-70f9-419f-91fc-607ec3e79d77",
   "metadata": {},
   "outputs": [],
   "source": [
    "#| export\n",
    "def _smooth(A, # `[n_dim_state, n_dim_state]`\n",
    "            filt_state: ListMNormal, # `[n_timesteps, n_dim_state]`\n",
    "                # `ms[t]` is the state estimate for time t given obs from times `[0...t]`\n",
    "            pred_state: ListMNormal, # `[n_timesteps, n_dim_state]`\n",
    "                # `m_ms[t]` is the state estimate for time t given obs from times `[0...t-1]`\n",
    "            cov_checker = CheckPosDef()\n",
    "           ) -> ListMNormal: # `[n_timesteps, n_dim_state]` Smoothed state \n",
    "    \"\"\"Apply the Kalman Smoother\"\"\"\n",
    "    x = pred_state.mean # sample for getting tensor properties\n",
    "    bs, n_timesteps, n_dim_state = x.shape[0], x.shape[1], x.shape[2]\n",
    "\n",
    "    smoothed_state = ListMNormal(torch.zeros((bs, n_timesteps,n_dim_state,1),             dtype=x.dtype, device=x.device), \n",
    "                                 torch.zeros((bs, n_timesteps, n_dim_state,n_dim_state), dtype=x.dtype, device=x.device))\n",
    "    # For the last timestep cannot use the smoother\n",
    "    smoothed_state.mean[:,-1,] = filt_state.mean[:,-1]\n",
    "    smoothed_state.cov[:,-1] = filt_state.cov[:,-1]\n",
    "\n",
    "    for t in reversed(range(n_timesteps - 1)):\n",
    "        (smoothed_state.mean[:,t], smoothed_state.cov[:,t]) = (\n",
    "            _smooth_update(\n",
    "                A,\n",
    "                filt_state[:,t],\n",
    "                pred_state[:,t + 1],\n",
    "                smoothed_state[:,t+1],\n",
    "            )\n",
    "        )\n",
    "    return smoothed_state"
   ]
  },
  {
   "cell_type": "code",
   "execution_count": null,
   "id": "78f79457-da68-429c-8edd-860860380cbc",
   "metadata": {},
   "outputs": [],
   "source": [
    "(m_ms, P_ms, ms, Ps ) = k._filter_all(data, mask, control)\n",
    "filt_state, pred_state = ListMNormal(ms, Ps), ListMNormal(m_ms, P_ms)"
   ]
  },
  {
   "cell_type": "code",
   "execution_count": null,
   "id": "5475b7ee-c9df-4aca-b490-2f4a2b331d4e",
   "metadata": {},
   "outputs": [],
   "source": [
    "smooth_state = _smooth(k.A,  filt_state, pred_state)"
   ]
  },
  {
   "cell_type": "code",
   "execution_count": null,
   "id": "2dd198a6-1513-406f-904f-28088d02e0ad",
   "metadata": {},
   "outputs": [],
   "source": [
    "show_as_row(smooth_state.mean[0][0], smooth_state.cov[0][0])"
   ]
  },
  {
   "cell_type": "code",
   "execution_count": null,
   "id": "90c7a3d7-5f9c-4a4d-9980-f33fa60e7226",
   "metadata": {},
   "outputs": [],
   "source": [
    "show_as_row(smooth_state.mean.shape, smooth_state.cov.shape)"
   ]
  },
  {
   "cell_type": "markdown",
   "id": "bc0299de-69cf-4351-ba84-12871662230b",
   "metadata": {},
   "source": [
    "### KalmanFilter method"
   ]
  },
  {
   "cell_type": "code",
   "execution_count": null,
   "id": "808bcd96-9e98-4e4f-9b85-cdfb98cb9709",
   "metadata": {},
   "outputs": [],
   "source": [
    "#| export\n",
    "@patch\n",
    "def smooth(self: KalmanFilter,\n",
    "           obs: Tensor,\n",
    "           mask: Tensor,\n",
    "           control: Tensor\n",
    "          ) -> ListMNormal: # `[n_timesteps, n_dim_state]` smoothed state\n",
    "        \n",
    "    \"\"\"Kalman Filter Smoothing\"\"\"\n",
    "\n",
    "    (m_ms, P_ms, ms, Ps) = self._filter_all(obs, mask, control)\n",
    "\n",
    "    smoothed_state = _smooth(self.A,\n",
    "                   ListMNormal(ms, Ps), ListMNormal(m_ms, P_ms),\n",
    "                   self.cov_checker)\n",
    "    smoothed_state.mean.squeeze_(-1)\n",
    "    return smoothed_state"
   ]
  },
  {
   "cell_type": "code",
   "execution_count": null,
   "id": "bc63fe46-f267-4538-a72b-997747df2391",
   "metadata": {},
   "outputs": [],
   "source": [
    "smoothed_state = k.smooth(data, mask, control)"
   ]
  },
  {
   "cell_type": "code",
   "execution_count": null,
   "id": "70f1c935-c1a8-4528-ab93-7f7711b8d521",
   "metadata": {},
   "outputs": [],
   "source": [
    "show_as_row(smoothed_state.mean.shape, smoothed_state.cov.shape)"
   ]
  },
  {
   "cell_type": "markdown",
   "id": "7e0600dd-9baf-4796-b3f5-4ae1c2239453",
   "metadata": {},
   "source": [
    "## Predict"
   ]
  },
  {
   "cell_type": "markdown",
   "id": "105a85b5-6806-4dc2-9d34-1ff68a9b2b27",
   "metadata": {},
   "source": [
    "The prediction at time t ($y_t$) are computed rom the state ($x_t$) using this formula:\n",
    "$$p(y_t|x_t) = \\mathcal{N}(Hx_t + d, R + HP^s_tH^T)$$\n",
    "\n",
    "this works both if the state was filtered or smoother"
   ]
  },
  {
   "cell_type": "markdown",
   "id": "25b398c8-3d47-4c50-8197-e692faf7df51",
   "metadata": {},
   "source": [
    "This add the supports for conditional predictions, which means that at the time (t) when we are making the predictions some of the variables have been actually observed. Since the model prediction is a normal distribution we can condition on the observed values and thus improve the predictions. See `conditional_gaussian`"
   ]
  },
  {
   "cell_type": "markdown",
   "id": "1e20b5fd-4dd0-4cb9-be84-d1d3702c5695",
   "metadata": {},
   "source": [
    "In order to have conditional predictions that make sense it's not possible to return the full covariance matrix for the predictions but only the standard deviations"
   ]
  },
  {
   "cell_type": "code",
   "execution_count": null,
   "id": "cd8b3350-34f3-45f1-b7a6-0159fbc8e5e0",
   "metadata": {},
   "outputs": [],
   "source": [
    "test_m = torch.tensor(\n",
    "    [[True, True, True,],\n",
    "    [False, True, True],\n",
    "    [False, False, False]]\n",
    ")"
   ]
  },
  {
   "cell_type": "code",
   "execution_count": null,
   "id": "82e30d14-d0c1-433a-a3e5-d31b4e9378f9",
   "metadata": {},
   "outputs": [],
   "source": [
    "torch.logical_xor(test_m.all(-1), test_m.any(-1))"
   ]
  },
  {
   "cell_type": "code",
   "execution_count": null,
   "id": "d39b3aa0-093a-435a-9116-e1c3f1e47f5c",
   "metadata": {},
   "outputs": [],
   "source": [
    "A = torch.rand(2,2,3,3)"
   ]
  },
  {
   "cell_type": "code",
   "execution_count": null,
   "id": "e1f0a861-e123-41da-94aa-fcb0f57382d7",
   "metadata": {},
   "outputs": [],
   "source": [
    "(A @ A).shape"
   ]
  },
  {
   "cell_type": "markdown",
   "id": "f72c1932-14c6-4c37-809d-b1b2a6c7a765",
   "metadata": {},
   "source": [
    "predict can be vectorized across both the batch and the timesteps, except for timesteps that require conditional predictions"
   ]
  },
  {
   "cell_type": "code",
   "execution_count": null,
   "id": "9f4db221-10b7-4d7a-81ec-3fb92a1f32cb",
   "metadata": {},
   "outputs": [],
   "source": [
    "#| export\n",
    "@patch\n",
    "def _obs_from_state(self: KalmanFilter, state: ListMNormal):\n",
    "\n",
    "    mean = self.H @ state.mean.unsqueeze(-1) + self.d.unsqueeze(-1)\n",
    "    cov = self.H @ state.cov @ self.H.mT + self.R\n",
    "    \n",
    "    for c in cov: # this is batched and for all timestamps\n",
    "        self.cov_checker.check(c, caller='predict')\n",
    "    \n",
    "    return ListMNormal(mean.squeeze(-1), cov)"
   ]
  },
  {
   "cell_type": "code",
   "execution_count": null,
   "id": "21402787-cf5f-4498-8ff4-fc6d865006a6",
   "metadata": {},
   "outputs": [],
   "source": [
    "smoothed_state.mean.shape, smoothed_state.cov.shape"
   ]
  },
  {
   "cell_type": "code",
   "execution_count": null,
   "id": "e0987627-8ccc-4fa5-8ab0-f95d871ba199",
   "metadata": {},
   "outputs": [],
   "source": [
    "(k.H @ smoothed_state.mean.unsqueeze(-1)).shape"
   ]
  },
  {
   "cell_type": "code",
   "execution_count": null,
   "id": "5ac36f65-dde3-45ed-b6f0-e7ed0931f0a7",
   "metadata": {},
   "outputs": [],
   "source": [
    "pred_obs0 = k._obs_from_state(smoothed_state)\n",
    "pred_obs0.mean.shape"
   ]
  },
  {
   "cell_type": "code",
   "execution_count": null,
   "id": "2950683a-cadc-45e2-aed3-639a56e6b324",
   "metadata": {},
   "outputs": [],
   "source": [
    "pred_obs0.cov.shape"
   ]
  },
  {
   "cell_type": "code",
   "execution_count": null,
   "id": "743f6603-1d34-4f00-90d0-0a2f0466423b",
   "metadata": {},
   "outputs": [],
   "source": [
    "#| export\n",
    "@patch\n",
    "def predict(self: KalmanFilter, obs, mask, control, smooth=True):\n",
    "    \"\"\"Predicted observations at all times \"\"\"\n",
    "    state = self.smooth(obs, mask, control) if smooth else self.filter(obs, mask, control)\n",
    "    obs, mask = self._parse_obs(obs, mask)\n",
    "    \n",
    "    pred_obs = self._obs_from_state(state)\n",
    "    pred_mean, pred_std = pred_obs.mean, cov2std(pred_obs.cov)\n",
    "    \n",
    "    if self.use_conditional:\n",
    "        # conditional predictions are slow, do only if some obs are missing \n",
    "        cond_mask = torch.logical_xor(mask.all(-1), mask.any(-1))\n",
    "\n",
    "        # this cannot be batched so returns a list\n",
    "        cond_preds = cond_gaussian_batched(\n",
    "            pred_obs[cond_mask], obs[cond_mask], mask[cond_mask])\n",
    "    \n",
    "        for i, c_pred in enumerate(cond_preds):\n",
    "            m = ~mask[cond_mask][i]\n",
    "            pred_mean[cond_mask][i][m] = c_pred.mean\n",
    "            pred_std [cond_mask][i][m] = cov2std(c_pred.cov)\n",
    "    \n",
    "    return ListNormal(pred_mean, pred_std)"
   ]
  },
  {
   "cell_type": "code",
   "execution_count": null,
   "id": "d8a1d554-5ac8-44ef-b849-00512f68deda",
   "metadata": {},
   "outputs": [],
   "source": [
    "pred = k.predict(data, mask, control)"
   ]
  },
  {
   "cell_type": "code",
   "execution_count": null,
   "id": "b81dcc01-850c-409b-9de2-5a0643bc9f97",
   "metadata": {},
   "outputs": [],
   "source": [
    "pred.mean.shape, pred.std.shape"
   ]
  },
  {
   "cell_type": "markdown",
   "id": "c783f1a6-7a9c-4dc6-8788-b119ed310f64",
   "metadata": {},
   "source": [
    "Gradients ..."
   ]
  },
  {
   "cell_type": "code",
   "execution_count": null,
   "id": "9bcf8a74-78e4-40dc-98fc-b33378fcc161",
   "metadata": {},
   "outputs": [],
   "source": [
    "def get_grad_mask(x):\n",
    "    \"filter gradient after sub the masks value with x\"\n",
    "    d = data.clone()\n",
    "    d[~mask] = x\n",
    "    k.predict(data, mask, control).mean.sum().backward(retain_graph=True)\n",
    "    grad = k.R_raw.grad.clone()\n",
    "    k.zero_grad() \n",
    "    return grad"
   ]
  },
  {
   "cell_type": "code",
   "execution_count": null,
   "id": "35cf6cbe-8c4d-41e7-8cc5-994e0c6f1eb3",
   "metadata": {},
   "outputs": [],
   "source": [
    "get_grad_mask(10)"
   ]
  },
  {
   "cell_type": "code",
   "execution_count": null,
   "id": "236be332-4ed5-45f1-84f3-64e181a78040",
   "metadata": {},
   "outputs": [],
   "source": [
    "test_close(get_grad_mask(1), get_grad_mask(10))"
   ]
  },
  {
   "cell_type": "code",
   "execution_count": null,
   "id": "be89b3b8-1ff2-4177-be49-2c06579608b7",
   "metadata": {},
   "outputs": [],
   "source": [
    "@patch\n",
    "def predict_times(self: KalmanFilter, times, obs, mask=None, smooth=True, check_args=None):\n",
    "    \"\"\"Predicted observations at specific times \"\"\"\n",
    "    state = self.smooth(obs, mask, check_args) if smooth else self.filter(obs, mask, check_args)\n",
    "    obs, mask = self._parse_obs(obs, mask)\n",
    "    times = array1d(times)\n",
    "    \n",
    "    n_timesteps = obs.shape[0]\n",
    "    n_features = obs.shape[1] if len(obs.shape) > 1 else 1\n",
    "    \n",
    "    if times.max() > n_timesteps or times.min() < 0:\n",
    "        raise ValueError(f\"provided times range from {times.min()} to {times.max()}, which is outside allowed range : 0 to {n_timesteps}\")\n",
    "\n",
    "    means = torch.empty((times.shape[0], n_features), dtype=obs.dtype, device=obs.device)\n",
    "    stds = torch.empty((times.shape[0], n_features), dtype=obs.dtype, device=obs.device) \n",
    "    for i, t in enumerate(times):\n",
    "        mean, std = self._obs_from_state(\n",
    "            state.mean[t],\n",
    "            state.cov[t],\n",
    "            {'t': t, **check_args} if check_args is not None else None\n",
    "        )\n",
    "        \n",
    "        means[i], stds[i] = _get_cond_pred(ListNormal(mean, std), obs[t], mask[t])\n",
    "    \n",
    "    return ListNormal(means, stds)  "
   ]
  },
  {
   "cell_type": "markdown",
   "id": "1aa536fc-6d71-4bc9-9ff3-2d3fa29540c0",
   "metadata": {},
   "source": [
    "# Numerical Stable Kalman Filter (Square Root Filter)"
   ]
  },
  {
   "cell_type": "code",
   "execution_count": null,
   "id": "93e4bbaf-7f49-4a3f-871b-a1b9fb238127",
   "metadata": {},
   "outputs": [],
   "source": [
    "class KalmanFilterSR(KalmanFilter):\n",
    "    pass"
   ]
  },
  {
   "cell_type": "code",
   "execution_count": null,
   "id": "e58fbd6c-b54c-4bb3-b034-2ec68eba10fe",
   "metadata": {},
   "outputs": [],
   "source": [
    "kSR = KalmanFilterSR.init_random(3,4,3)"
   ]
  },
  {
   "cell_type": "markdown",
   "id": "cfe43da6-ffa9-4354-a16f-d8da7795a37d",
   "metadata": {},
   "source": [
    "## Filter "
   ]
  },
  {
   "cell_type": "markdown",
   "id": "deab232e-e6e9-42e0-a198-2d6dc9164956",
   "metadata": {},
   "source": [
    "### Filter predict"
   ]
  },
  {
   "cell_type": "markdown",
   "id": "a748cd9c-9686-46d7-bbe3-ad2ed9742e83",
   "metadata": {},
   "source": [
    "#### Covariance"
   ]
  },
  {
   "cell_type": "markdown",
   "id": "d60db3ae-2363-4e45-a7cb-3ab9572d2f5e",
   "metadata": {},
   "source": [
    "Implement the numerical stable version of the covariance update"
   ]
  },
  {
   "cell_type": "code",
   "execution_count": null,
   "id": "6d02f212-3afb-4f62-af2b-97944c3b51a3",
   "metadata": {},
   "outputs": [],
   "source": [
    "A, Q, b, B, m_pr,P_pr= (k.A, k.Q, k.b, k.B,torch.concat([k.m0]*2), torch.concat([k.P0]*2))"
   ]
  },
  {
   "cell_type": "code",
   "execution_count": null,
   "id": "e1d03e2f-dcd6-4dcf-9adc-23ccde561c87",
   "metadata": {},
   "outputs": [],
   "source": [
    "Q_C = kSR.Q_C"
   ]
  },
  {
   "cell_type": "code",
   "execution_count": null,
   "id": "ec6f8838-4498-4d9e-a6ac-a1d8035a86a2",
   "metadata": {},
   "outputs": [
    {
     "data": {
      "text/plain": [
       "tensor([[[4.8187, 4.4353, 4.9715, 4.9817],\n",
       "         [4.4353, 5.3111, 5.1082, 5.1311],\n",
       "         [4.9715, 5.1082, 5.7240, 5.7099],\n",
       "         [4.9817, 5.1311, 5.7099, 6.3261]],\n",
       "\n",
       "        [[4.8187, 4.4353, 4.9715, 4.9817],\n",
       "         [4.4353, 5.3111, 5.1082, 5.1311],\n",
       "         [4.9715, 5.1082, 5.7240, 5.7099],\n",
       "         [4.9817, 5.1311, 5.7099, 6.3261]]], dtype=torch.float64,\n",
       "       grad_fn=<AddBackward0>)"
      ]
     },
     "execution_count": null,
     "metadata": {},
     "output_type": "execute_result"
    }
   ],
   "source": [
    "_filter_predict_cov_stand(kSR.A, kSR.Q_C @ kSR.Q_C.mT, P_pr)"
   ]
  },
  {
   "cell_type": "code",
   "execution_count": null,
   "id": "efc39c39-d0f5-429d-ae86-30e4fad731a1",
   "metadata": {},
   "outputs": [],
   "source": [
    "P_pr_C = torch.linalg.cholesky(P_pr)"
   ]
  },
  {
   "cell_type": "markdown",
   "id": "dd440d3d-5f4d-428b-831e-40c517ef715e",
   "metadata": {},
   "source": [
    "$$W = \\begin{bmatrix}AC_{t-1}&C_Q\\end{bmatrix}$$"
   ]
  },
  {
   "cell_type": "code",
   "execution_count": null,
   "id": "2be4f5eb-8506-46fa-9f7c-ce86b81b6d67",
   "metadata": {},
   "outputs": [
    {
     "data": {
      "text/plain": [
       "torch.Size([2, 4, 8])"
      ]
     },
     "execution_count": null,
     "metadata": {},
     "output_type": "execute_result"
    }
   ],
   "source": [
    "W = torch.concat([A @ P_pr_C, Q_C.expand_as(P_pr_C)], dim=-1)\n",
    "W.shape"
   ]
  },
  {
   "cell_type": "code",
   "execution_count": null,
   "id": "b56dfa0d-e262-4b78-ba2a-744cb0d565c4",
   "metadata": {},
   "outputs": [],
   "source": [
    "U, R = torch.linalg.qr(W.mT) # U to avod name conflicts"
   ]
  },
  {
   "cell_type": "code",
   "execution_count": null,
   "id": "88b63c6d-005b-4fc2-a318-fd3c123506da",
   "metadata": {},
   "outputs": [],
   "source": [
    "P_m_C = R.mT"
   ]
  },
  {
   "cell_type": "code",
   "execution_count": null,
   "id": "88e644f5-7c57-4630-a23f-da2a015cb63d",
   "metadata": {},
   "outputs": [
    {
     "data": {
      "text/plain": [
       "tensor([[[-2.1952,  0.0000,  0.0000,  0.0000],\n",
       "         [-2.0205,  1.1084,  0.0000,  0.0000],\n",
       "         [-2.2647,  0.4802,  0.6036,  0.0000],\n",
       "         [-2.2694,  0.4924,  0.5530, -0.7922]],\n",
       "\n",
       "        [[-2.1952,  0.0000,  0.0000,  0.0000],\n",
       "         [-2.0205,  1.1084,  0.0000,  0.0000],\n",
       "         [-2.2647,  0.4802,  0.6036,  0.0000],\n",
       "         [-2.2694,  0.4924,  0.5530, -0.7922]]], dtype=torch.float64,\n",
       "       grad_fn=<TransposeBackward0>)"
      ]
     },
     "execution_count": null,
     "metadata": {},
     "output_type": "execute_result"
    }
   ],
   "source": [
    "P_m_C"
   ]
  },
  {
   "cell_type": "code",
   "execution_count": null,
   "id": "6049b8ac-e0bd-40ec-b703-76260fe3db84",
   "metadata": {},
   "outputs": [
    {
     "data": {
      "text/plain": [
       "tensor([[[4.8187, 4.4353, 4.9715, 4.9817],\n",
       "         [4.4353, 5.3111, 5.1082, 5.1311],\n",
       "         [4.9715, 5.1082, 5.7240, 5.7099],\n",
       "         [4.9817, 5.1311, 5.7099, 6.3261]],\n",
       "\n",
       "        [[4.8187, 4.4353, 4.9715, 4.9817],\n",
       "         [4.4353, 5.3111, 5.1082, 5.1311],\n",
       "         [4.9715, 5.1082, 5.7240, 5.7099],\n",
       "         [4.9817, 5.1311, 5.7099, 6.3261]]], dtype=torch.float64,\n",
       "       grad_fn=<UnsafeViewBackward0>)"
      ]
     },
     "execution_count": null,
     "metadata": {},
     "output_type": "execute_result"
    }
   ],
   "source": [
    "P_m_C @ P_m_C.mT"
   ]
  },
  {
   "cell_type": "code",
   "execution_count": null,
   "id": "812d8193-d26b-435b-a4ed-5729828280a1",
   "metadata": {},
   "outputs": [
    {
     "data": {
      "text/plain": [
       "tensor([[[4.8187, 4.4353, 4.9715, 4.9817],\n",
       "         [4.4353, 5.3111, 5.1082, 5.1311],\n",
       "         [4.9715, 5.1082, 5.7240, 5.7099],\n",
       "         [4.9817, 5.1311, 5.7099, 6.3261]],\n",
       "\n",
       "        [[4.8187, 4.4353, 4.9715, 4.9817],\n",
       "         [4.4353, 5.3111, 5.1082, 5.1311],\n",
       "         [4.9715, 5.1082, 5.7240, 5.7099],\n",
       "         [4.9817, 5.1311, 5.7099, 6.3261]]], dtype=torch.float64,\n",
       "       grad_fn=<AddBackward0>)"
      ]
     },
     "execution_count": null,
     "metadata": {},
     "output_type": "execute_result"
    }
   ],
   "source": [
    "_filter_predict_cov_stand(A, Q_C @ Q_C.mT, P_pr)"
   ]
  },
  {
   "cell_type": "code",
   "execution_count": null,
   "id": "005de2dd-92a5-482c-a102-dfb02d73dac3",
   "metadata": {},
   "outputs": [],
   "source": [
    "#| export\n",
    "def _filter_predict_cov_SR(A, # transition covariance $A_t$\n",
    "                        Q_C, # Cholesky Factor of transition covariance $Q_t$\n",
    "                        P_pr_C # Cholesky Factor of previous state covariance $P_{t-1}$\n",
    "                       ):\n",
    "    \"\"\"Numerical stable Kalman filter predict for covariance\"\"\"\n",
    "    W = torch.concat([A @ P_pr_C, Q_C.expand_as(P_pr_C)], dim=-1)\n",
    "    return torch.linalg.qr(W.mT).R.mT "
   ]
  },
  {
   "cell_type": "code",
   "execution_count": null,
   "id": "ef5fcf5f-7d35-4834-a289-33c6bf75a80e",
   "metadata": {},
   "outputs": [],
   "source": [
    "P_m_C = _filter_predict_cov_SR(A, Q_C, P_pr_C)\n",
    "test_close(P_m_C @ P_m_C.mT, _filter_predict_cov_stand(A, Q_C @ Q_C.mT, P_pr))"
   ]
  },
  {
   "cell_type": "code",
   "execution_count": null,
   "id": "31137cd5-16d5-4b1c-93b4-3a6aa936cc1e",
   "metadata": {},
   "outputs": [],
   "source": [
    "def fuzz_filter_predict_cov_SR(n=10):\n",
    "    for _ in range(n):\n",
    "        kSR = KalmanFilterSR.init_random(5,10,4)\n",
    "        A, Q_C, b, B, m_pr,P_pr = (kSR.A.unsqueeze(0), kSR.Q_C.unsqueeze(0), kSR.b.unsqueeze(-1),\n",
    "                                                  kSR.B.unsqueeze(0),\n",
    "                                                  torch.stack([kSR.m0]*2).unsqueeze(-1),\n",
    "                                                  torch.stack([kSR.P0]*2))\n",
    "        P_pr_C = torch.linalg.cholesky(P_pr)\n",
    "        P_m_C = _filter_predict_cov_SR(A, Q_C, P_pr_C)\n",
    "        test_close(P_m_C @ P_m_C.mT, _filter_predict_cov_stand(A, Q_C @ Q_C.mT, P_pr), eps=5e-13) "
   ]
  },
  {
   "cell_type": "code",
   "execution_count": null,
   "id": "53176109-e89b-4426-b156-e86ab259c191",
   "metadata": {},
   "outputs": [],
   "source": [
    "fuzz_filter_predict_cov_SR()"
   ]
  },
  {
   "cell_type": "markdown",
   "id": "2df16d8f-bf91-4011-94b7-c07dc2866716",
   "metadata": {},
   "source": [
    "#### Predict"
   ]
  },
  {
   "cell_type": "code",
   "execution_count": null,
   "id": "960a1a8d-c350-4a2a-9ff0-dbd05923e22f",
   "metadata": {},
   "outputs": [],
   "source": [
    "#| export\n",
    "def _filter_predict_SR(A, Q_C, b, B, m_pr, P_pr_C,control) -> Tuple: # predicted state\n",
    "    \"\"\"Calculate the state at time `t` given the state at time `t-1`\"\"\"\n",
    "    m_m = _filter_predict_mean(A, B, b, m_pr, control)\n",
    "    P_m = _filter_predict_cov_SR(A, Q_C, P_pr_C)\n",
    "    return (m_m, P_m)"
   ]
  },
  {
   "cell_type": "markdown",
   "id": "10589a9e-c02f-46e5-962f-d36ff1ec9de4",
   "metadata": {},
   "source": [
    "### Filter Update"
   ]
  },
  {
   "cell_type": "markdown",
   "id": "5f08d7d6-32e1-4cbe-8a34-5f69ea227042",
   "metadata": {},
   "source": [
    "$$M = \\begin{bmatrix}R^{T/2} & 0 \\\\ (C^-)^TH^T & (C^-)^T \\end{bmatrix}$$"
   ]
  },
  {
   "cell_type": "code",
   "execution_count": null,
   "id": "6540d303-2030-42d5-84f3-1b1c3753a233",
   "metadata": {},
   "outputs": [],
   "source": [
    "R_C = kSR.R_C"
   ]
  },
  {
   "cell_type": "code",
   "execution_count": null,
   "id": "27f084b2-e6b5-4313-92be-5540015c8d3b",
   "metadata": {},
   "outputs": [
    {
     "data": {
      "text/plain": [
       "torch.Size([2, 4, 4])"
      ]
     },
     "execution_count": null,
     "metadata": {},
     "output_type": "execute_result"
    }
   ],
   "source": [
    "P_pr_C.shape"
   ]
  },
  {
   "cell_type": "code",
   "execution_count": null,
   "id": "a7dcf431-3c8a-4f87-b831-44348a46b9a7",
   "metadata": {},
   "outputs": [
    {
     "data": {
      "text/plain": [
       "torch.Size([2, 4, 4])"
      ]
     },
     "execution_count": null,
     "metadata": {},
     "output_type": "execute_result"
    }
   ],
   "source": [
    "P_m_C.shape"
   ]
  },
  {
   "cell_type": "code",
   "execution_count": null,
   "id": "a06e481c-1f6e-4edb-b201-794dac9a7dc9",
   "metadata": {},
   "outputs": [
    {
     "data": {
      "text/plain": [
       "[[torch.Size([1, 3, 3]), 0], [torch.Size([2, 4, 3]), torch.Size([2, 4, 4])]]"
      ]
     },
     "execution_count": null,
     "metadata": {},
     "output_type": "execute_result"
    }
   ],
   "source": [
    "[[R_C.shape,0],\n",
    " [(P_m_C.mT @ H.mT).shape, P_m_C.mT.shape]]"
   ]
  },
  {
   "cell_type": "code",
   "execution_count": null,
   "id": "4282e1ff-4217-4cc0-9f05-d1ec8fc9ccf5",
   "metadata": {},
   "outputs": [],
   "source": [
    "M_21 = P_m_C.mT @ H.mT "
   ]
  },
  {
   "cell_type": "code",
   "execution_count": null,
   "id": "17912c7d-02bf-4ad9-aeb2-7ea5e2719c80",
   "metadata": {},
   "outputs": [
    {
     "data": {
      "text/plain": [
       "torch.Size([2, 3, 4])"
      ]
     },
     "execution_count": null,
     "metadata": {},
     "output_type": "execute_result"
    }
   ],
   "source": [
    "M_21.mT.shape"
   ]
  },
  {
   "cell_type": "code",
   "execution_count": null,
   "id": "06bc5d9e-c7b9-47e9-9af6-f7a93de30a47",
   "metadata": {},
   "outputs": [
    {
     "data": {
      "text/plain": [
       "torch.Size([2])"
      ]
     },
     "execution_count": null,
     "metadata": {},
     "output_type": "execute_result"
    }
   ],
   "source": [
    "M_21.shape[:-2]"
   ]
  },
  {
   "cell_type": "code",
   "execution_count": null,
   "id": "261e4bd5-536b-437c-a1a9-b1abc9fdca09",
   "metadata": {},
   "outputs": [
    {
     "data": {
      "text/plain": [
       "[[torch.Size([2, 3, 3]), torch.Size([2, 3, 4])],\n",
       " [torch.Size([2, 4, 3]), torch.Size([2, 4, 4])]]"
      ]
     },
     "execution_count": null,
     "metadata": {},
     "output_type": "execute_result"
    }
   ],
   "source": [
    "[[R_C.expand(*M_21.shape[:-2], -1, -1).shape, torch.zeros_like(M_21.mT).shape],\n",
    " [M_21.shape, P_m_C.mT.shape]]"
   ]
  },
  {
   "cell_type": "code",
   "execution_count": null,
   "id": "37071e5f-edb0-465e-aa76-1f5a9f41592e",
   "metadata": {},
   "outputs": [],
   "source": [
    "M_1 = torch.cat([R_C.expand(*M_21.shape[:-2], -1, -1), torch.zeros_like(M_21.mT)], dim=-1) "
   ]
  },
  {
   "cell_type": "code",
   "execution_count": null,
   "id": "aa0598a5-53c1-41cb-bf36-6176fc65b2c9",
   "metadata": {},
   "outputs": [],
   "source": [
    "M_2 = torch.cat([M_21, P_m_C.mT], dim=-1)"
   ]
  },
  {
   "cell_type": "code",
   "execution_count": null,
   "id": "bccd2f92-76a6-4db2-b37e-8e40070f38af",
   "metadata": {},
   "outputs": [
    {
     "data": {
      "text/plain": [
       "(torch.Size([2, 3, 7]), torch.Size([2, 4, 7]))"
      ]
     },
     "execution_count": null,
     "metadata": {},
     "output_type": "execute_result"
    }
   ],
   "source": [
    "M_1.shape, M_2.shape"
   ]
  },
  {
   "cell_type": "code",
   "execution_count": null,
   "id": "f9b7edef-df4e-4125-9ad8-5be6403023d3",
   "metadata": {},
   "outputs": [],
   "source": [
    "M = torch.cat([M_1, M_2], dim=-2)"
   ]
  },
  {
   "cell_type": "code",
   "execution_count": null,
   "id": "489555fa-c5aa-4f0b-933f-223028d8cee0",
   "metadata": {},
   "outputs": [],
   "source": [
    "U = torch.linalg.qr(M).R"
   ]
  },
  {
   "cell_type": "markdown",
   "id": "a852b21f-18a2-4526-af7e-ac12a80eedb4",
   "metadata": {},
   "source": [
    "so $U \\in \\mathbb{R}^{(n+k) \\times (n+k)}$ and the need to get the bottom part of size $k \\times k$"
   ]
  },
  {
   "cell_type": "code",
   "execution_count": null,
   "id": "0d3755e3-63c1-434f-a70b-f58da611bb5e",
   "metadata": {},
   "outputs": [],
   "source": [
    "n_dim_state = P_m_C.shape[-1]\n",
    "n_dim_obs = R_C.shape[-1]"
   ]
  },
  {
   "cell_type": "code",
   "execution_count": null,
   "id": "54467fb5-8025-42eb-b1e9-2c84b1c69b35",
   "metadata": {},
   "outputs": [],
   "source": [
    "P_C = U[:, -n_dim_state-1:-1, -n_dim_state-1:-1]"
   ]
  },
  {
   "cell_type": "code",
   "execution_count": null,
   "id": "b8e7be54-bc64-46b8-8eee-fd49541e97f0",
   "metadata": {},
   "outputs": [
    {
     "data": {
      "text/plain": [
       "tensor([[[ 0.9810, -0.0111,  0.0350, -0.0053],\n",
       "         [-0.0111,  0.6581,  0.0959, -0.0871],\n",
       "         [ 0.0350,  0.0959,  0.3107, -0.0406],\n",
       "         [-0.0053, -0.0871, -0.0406,  0.1817]],\n",
       "\n",
       "        [[ 0.9810, -0.0111,  0.0350, -0.0053],\n",
       "         [-0.0111,  0.6581,  0.0959, -0.0871],\n",
       "         [ 0.0350,  0.0959,  0.3107, -0.0406],\n",
       "         [-0.0053, -0.0871, -0.0406,  0.1817]]], dtype=torch.float64,\n",
       "       grad_fn=<UnsafeViewBackward0>)"
      ]
     },
     "execution_count": null,
     "metadata": {},
     "output_type": "execute_result"
    }
   ],
   "source": [
    "P_C @ P_C.mT"
   ]
  },
  {
   "cell_type": "code",
   "execution_count": null,
   "id": "8a3759c2-1a56-4fb2-84ef-4f97c6ba73dc",
   "metadata": {},
   "outputs": [],
   "source": []
  },
  {
   "cell_type": "code",
   "execution_count": null,
   "id": "4d581897-892b-4cb2-9807-e66c8580db46",
   "metadata": {},
   "outputs": [
    {
     "data": {
      "text/plain": [
       "3"
      ]
     },
     "execution_count": null,
     "metadata": {},
     "output_type": "execute_result"
    }
   ],
   "source": [
    "kSR.n_dim_obs"
   ]
  },
  {
   "cell_type": "code",
   "execution_count": null,
   "id": "f8a57654-ddef-4a7b-9615-243242f29b05",
   "metadata": {},
   "outputs": [
    {
     "data": {
      "text/plain": [
       "torch.Size([1, 3, 4])"
      ]
     },
     "execution_count": null,
     "metadata": {},
     "output_type": "execute_result"
    }
   ],
   "source": [
    "H.shape"
   ]
  },
  {
   "cell_type": "code",
   "execution_count": null,
   "id": "4ac99151-0b51-4192-b77d-5e6f70223744",
   "metadata": {},
   "outputs": [
    {
     "data": {
      "text/plain": [
       "torch.Size([1, 3, 4])"
      ]
     },
     "execution_count": null,
     "metadata": {},
     "output_type": "execute_result"
    }
   ],
   "source": [
    "H.shape"
   ]
  },
  {
   "cell_type": "code",
   "execution_count": null,
   "id": "6b87c164-d786-4dca-b04b-b927f88f711b",
   "metadata": {},
   "outputs": [],
   "source": []
  },
  {
   "cell_type": "code",
   "execution_count": null,
   "id": "18cecf95-e359-4cd6-a93a-d7815c5130bd",
   "metadata": {},
   "outputs": [],
   "source": [
    "#| export\n",
    "def _filter(A, H, B,\n",
    "            Q, R,\n",
    "            b, d,\n",
    "            m0, P0,\n",
    "            obs, mask, control,\n",
    "            cov_checker=CheckPosDef()\n",
    "           ) ->Tuple[List, List, List, List]: # m_ms, P_ms, ms, Ps\n",
    "    \"\"\"Filter observations using kalman filter \"\"\"\n",
    "    n_timesteps = obs.shape[-2]\n",
    "    bs = obs.shape[0]\n",
    "    # lists are mutable so need to copy them\n",
    "    m_ms, P_ms, ms, Ps = [[None for _ in range(n_timesteps)].copy() for _ in range(4)] \n",
    "\n",
    "    for t in range(n_timesteps):\n",
    "        if t == 0:\n",
    "            m_ms[t], P_ms[t] = torch.stack([m0]*bs).unsqueeze(-1), torch.stack([P0]*bs)\n",
    "        else:\n",
    "            m_ms[t], P_ms[t] = _filter_predict(A, Q, b, B,\n",
    "                                                                      ms[t - 1], Ps[t - 1], control[:,t,:],\n",
    "                                                                      cov_checker.add_args(t=t))\n",
    "\n",
    "        ms[t], Ps[t] = _filter_correct(H, R, d,\n",
    "                                                                     m_ms[t], P_ms[t],\n",
    "                                                                     obs[:,t,:], mask[:,t,:],\n",
    "                                                                     cov_checker.add_args(t=t))\n",
    "    \n",
    "    ret = list(maps(torch.stack, _times2batch, (m_ms, P_ms, ms, Ps,)))\n",
    "    return ret"
   ]
  },
  {
   "cell_type": "code",
   "execution_count": null,
   "id": "4c0c342b-8bea-41b5-ab24-f0e55309f712",
   "metadata": {},
   "outputs": [],
   "source": [
    "obs, m0, P0 = data, k.m0, k.P0"
   ]
  },
  {
   "cell_type": "code",
   "execution_count": null,
   "id": "82e14377-2354-4f27-b254-1756e0153503",
   "metadata": {},
   "outputs": [],
   "source": [
    "m_ms, P_ms, ms, Ps = _filter(\n",
    "    A, H, B,\n",
    "    Q, R,\n",
    "    b, d,\n",
    "    m0, P0,\n",
    "    data, mask, control)"
   ]
  },
  {
   "cell_type": "markdown",
   "id": "9df8ded5-db28-4789-8cb1-0b7ae083fddf",
   "metadata": {},
   "source": [
    "Predictions at time `0` for both batches"
   ]
  },
  {
   "cell_type": "code",
   "execution_count": null,
   "id": "9d09d3a8-0bd8-451c-b03a-4f81be1c359f",
   "metadata": {},
   "outputs": [],
   "source": [
    "show_as_row(list(map(Self.shape(), (m_ms, P_ms, ms, Ps,))))"
   ]
  },
  {
   "cell_type": "code",
   "execution_count": null,
   "id": "bf2cf85f-7b50-4e57-a6a7-b16d450d2211",
   "metadata": {},
   "outputs": [],
   "source": [
    "show_as_row(list(map(lambda x:x[0][0], (m_ms, P_ms, ms, Ps,))))"
   ]
  },
  {
   "cell_type": "markdown",
   "id": "b7e7446e-a79c-4b2b-a779-f3c3a52383fc",
   "metadata": {},
   "source": [
    "### KalmanFilter method"
   ]
  },
  {
   "cell_type": "code",
   "execution_count": null,
   "id": "44026105-55e8-4ce8-9ad6-e4c4f2f1ef74",
   "metadata": {},
   "outputs": [],
   "source": [
    "#| export\n",
    "@patch\n",
    "def _filter_all(self: KalmanFilter, obs, mask, control\n",
    "               ) ->Tuple[List, List, List, List]: # m_ms, P_ms, ms, Ps\n",
    "    \"\"\" wrapper around `_filter`\"\"\"\n",
    "    obs, mask = self._parse_obs(obs, mask)\n",
    "    return _filter(\n",
    "            self.A, self.H,\n",
    "            self.B if self.use_control else torch.zeros_like(self.B),\n",
    "            self.Q, self.R,\n",
    "            self.b, self.d,\n",
    "            self.m0, self.P0,\n",
    "            obs, mask, control,\n",
    "            self.cov_checker\n",
    "        )"
   ]
  },
  {
   "cell_type": "markdown",
   "id": "edfa3b42-ae74-4b05-adb9-a85a800f64a9",
   "metadata": {},
   "source": [
    "## Additional"
   ]
  },
  {
   "cell_type": "markdown",
   "id": "1cafd50f-a16c-4d5e-b80d-9cafae21e069",
   "metadata": {},
   "source": [
    "### Constructors"
   ]
  },
  {
   "cell_type": "markdown",
   "id": "baa68b6a-7e0f-4a33-aa13-a814390ebf3d",
   "metadata": {},
   "source": [
    "#### Simple parameters"
   ]
  },
  {
   "cell_type": "code",
   "execution_count": null,
   "id": "81636a78-9bcf-4d7f-98c6-95e9180fe787",
   "metadata": {},
   "outputs": [],
   "source": [
    "#| export\n",
    "@patch(cls_method=True)\n",
    "def init_simple(cls: KalmanFilter,\n",
    "                n_dim, # n_dim_obs and n_dim_state\n",
    "                dtype=torch.float64):\n",
    "    \"\"\"Simplest version of kalman filter parameters\"\"\"\n",
    "    return cls(\n",
    "        A =     torch.eye(n_dim, dtype=dtype),\n",
    "        b =        torch.zeros(n_dim, dtype=dtype),        \n",
    "        Q =        torch.eye(n_dim, dtype=dtype),        \n",
    "        H =       torch.eye(n_dim, dtype=dtype),\n",
    "        d =          torch.zeros(n_dim, dtype=dtype),          \n",
    "        R =          torch.eye(n_dim, dtype=dtype),            \n",
    "        B =     torch.eye(n_dim, dtype=dtype),\n",
    "        m0 =  torch.zeros(n_dim, dtype=dtype),        \n",
    "        P0 =   torch.eye(n_dim, dtype=dtype),\n",
    "    )"
   ]
  },
  {
   "cell_type": "code",
   "execution_count": null,
   "id": "d8fa3ea9-92f5-4477-b06a-320df4263da9",
   "metadata": {},
   "outputs": [],
   "source": [
    "KalmanFilter.init_simple(2).state_dict()"
   ]
  },
  {
   "cell_type": "markdown",
   "id": "fb60e878-9e22-43b1-90a0-cf16077407e7",
   "metadata": {},
   "source": [
    "#### Local slope"
   ]
  },
  {
   "cell_type": "markdown",
   "id": "b1f67b01-c514-4be0-ba53-febf6645a787",
   "metadata": {},
   "source": [
    "Local slope models are an extentions of local level model that in the state variable keep track of also the slope\n",
    "\n",
    "Given $n$ as the number of dimensions of the observations\n",
    "\n",
    "The transition matrix (`A`) is:\n",
    "\n",
    "$$A = \\left[\\begin{array}{cc}I & I \\\\ 0 & I\\end{array}\\right]$$\n",
    "\n",
    "where:\n",
    "\n",
    "- $I \\in \\mathbb{R}^{n \\times n}$\n",
    "- $A \\in \\mathbb{R}^{2n \\times 2n}$\n",
    "\n",
    "the state $x \\in \\mathbb{R}^{2N \\times 1}$ where the upper half keep track of the level and the lower half of the slope. $A \\in \\mathbb{R}^2N \\times 2N$\n",
    "\n",
    "the observation matrix (`H`) is:\n",
    "\n",
    "$$H = \\left[\\begin{array}{cc}I & 0 \\end{array}\\right]$$\n",
    "\n",
    "For the multivariate case the 1 are replaced with an identiy matrix\n"
   ]
  },
  {
   "cell_type": "markdown",
   "id": "0e54802f-f56f-4fb9-8c1f-68104f98b478",
   "metadata": {},
   "source": [
    "assuming that the control has the same dimensions of the observations then if we are doing a local slope model we have $B \\in \\mathbb{R}^{state \\times contr}$:\n",
    "$$ B = \\begin{bmatrix} -I & I \\\\ 0 & 0 \\end{bmatrix}$$"
   ]
  },
  {
   "cell_type": "code",
   "execution_count": null,
   "id": "979f844f-54ee-404d-998e-e91ab56e6cd9",
   "metadata": {},
   "outputs": [],
   "source": [
    "#| export\n",
    "from torch import hstack, eye, vstack, ones, zeros, tensor\n",
    "from functools import partial\n",
    "from sklearn.decomposition import PCA"
   ]
  },
  {
   "cell_type": "code",
   "execution_count": null,
   "id": "42a6a6a4-afbe-4a36-9ffb-b3fc60377df1",
   "metadata": {},
   "outputs": [],
   "source": [
    "#| exporti\n",
    "def set_dtype(*args, dtype=torch.float64):\n",
    "    return [partial(arg, dtype=dtype) for arg in args] \n",
    "\n",
    "eye, ones, zeros, tensor = set_dtype(eye, ones, zeros, tensor)"
   ]
  },
  {
   "cell_type": "code",
   "execution_count": null,
   "id": "b86efcad-d257-46bd-b2d9-82436e405171",
   "metadata": {},
   "outputs": [],
   "source": [
    "#| export\n",
    "# @delegates(KalmanFilter)\n",
    "@patch(cls_method=True)\n",
    "def init_local_slope_pca(cls: KalmanFilter,\n",
    "                n_dim_obs, # n_dim_obs and n_dim_contr\n",
    "                n_dim_state: int, # n_dim_state\n",
    "                df_pca: pd.DataFrame|None = None, # dataframe for PCA init, None no PCA init\n",
    "                **kwargs\n",
    "            ):\n",
    "    \"\"\"Local Slope + PCA init\"\"\"\n",
    "    if df_pca is not None:\n",
    "        comp = PCA(n_dim_state).fit(df_pca).components_\n",
    "        H = tensor(comp.T) # transform state -> obs\n",
    "        B = tensor(comp) # transform obs -> state\n",
    "    else:\n",
    "        H, B = eye(n_dim_obs), eye(n_dim_obs)\n",
    "        \n",
    "    return cls(\n",
    "        A =     vstack([hstack([eye(n_dim_state),                eye(n_dim_state)]),\n",
    "                                   hstack([zeros(n_dim_state, n_dim_state), eye(n_dim_state)])]),\n",
    "        b =        zeros(n_dim_state * 2),        \n",
    "        Q =        eye(n_dim_state * 2)*.1,        \n",
    "        H =       hstack([H, zeros(n_dim_obs, n_dim_state)]),\n",
    "        d =          zeros(n_dim_obs),          \n",
    "        R =          eye(n_dim_obs)*.01,            \n",
    "        B =     vstack([hstack([-B,                  B]),\n",
    "                                   hstack([ zeros(n_dim_state,n_dim_obs), zeros(n_dim_state, n_dim_obs)])]),\n",
    "        m0 =  zeros(n_dim_state * 2),        \n",
    "        P0 =   eye(n_dim_state * 2) * 3,\n",
    "        **kwargs\n",
    "    ) "
   ]
  },
  {
   "cell_type": "code",
   "execution_count": null,
   "id": "892f9873-ca47-404b-a5f1-855d4c94220b",
   "metadata": {},
   "outputs": [],
   "source": [
    "KalmanFilter.init_local_slope_pca(2,2,pd.DataFrame([[1,2], [2,4]])).state_dict()"
   ]
  },
  {
   "cell_type": "markdown",
   "id": "0fdd2ea0-ff4e-4d2f-add0-81120b131cf3",
   "metadata": {},
   "source": [
    "## Export"
   ]
  },
  {
   "cell_type": "code",
   "execution_count": null,
   "id": "12c41b65-9eb8-4d70-b4fc-05113783e636",
   "metadata": {},
   "outputs": [],
   "source": [
    "#| hide\n",
    "from nbdev import nbdev_export\n",
    "nbdev_export()"
   ]
  },
  {
   "cell_type": "markdown",
   "id": "c67fbc43-d0d7-4676-a8f2-f64c8a578bc2",
   "metadata": {},
   "source": [
    "## Other"
   ]
  },
  {
   "cell_type": "markdown",
   "id": "5fb980f2-1cf4-4d05-b14a-d33e64ab5d60",
   "metadata": {},
   "source": [
    "### Filter Predict UD"
   ]
  },
  {
   "cell_type": "markdown",
   "id": "f90b763b-df91-466e-a7c2-f8c03f854d3a",
   "metadata": {},
   "source": [
    "#### UDU Decomposition"
   ]
  },
  {
   "cell_type": "code",
   "execution_count": null,
   "id": "8954bbda-d020-4ae5-ad1c-1c469756cb13",
   "metadata": {},
   "outputs": [],
   "source": [
    "Lc = torch.linalg.cholesky(Q)"
   ]
  },
  {
   "cell_type": "code",
   "execution_count": null,
   "id": "e49afd2f-ceb2-424a-92eb-725c71c6fa8a",
   "metadata": {},
   "outputs": [],
   "source": [
    "Lc"
   ]
  },
  {
   "cell_type": "code",
   "execution_count": null,
   "id": "4e50c985-49ee-42bd-92d4-c23607c500b2",
   "metadata": {},
   "outputs": [],
   "source": [
    "D0 = torch.diag(Lc)"
   ]
  },
  {
   "cell_type": "code",
   "execution_count": null,
   "id": "3a7940ff-1f3a-410a-aeea-5e6118fabf13",
   "metadata": {},
   "outputs": [],
   "source": [
    "D0"
   ]
  },
  {
   "cell_type": "code",
   "execution_count": null,
   "id": "502fe1fa-cef6-4b1e-93c1-ca2c9827e897",
   "metadata": {},
   "outputs": [],
   "source": [
    "D0.unsqueeze(0).shape"
   ]
  },
  {
   "cell_type": "code",
   "execution_count": null,
   "id": "635a4be5-1869-4cd9-9de5-058d0a6e3826",
   "metadata": {},
   "outputs": [],
   "source": [
    "L = Lc / D0.unsqueeze(0)\n",
    "L"
   ]
  },
  {
   "cell_type": "code",
   "execution_count": null,
   "id": "56da0b4a-a8a1-44f1-a71b-e836be8a45a9",
   "metadata": {},
   "outputs": [],
   "source": [
    "D = D0.pow(2)\n",
    "D"
   ]
  },
  {
   "cell_type": "code",
   "execution_count": null,
   "id": "c0cdcb80-7691-4550-816c-cda8d6c9a419",
   "metadata": {},
   "outputs": [],
   "source": [
    "L @ torch.diag(D) @ L.T - Q"
   ]
  },
  {
   "cell_type": "markdown",
   "id": "76ab560c-8abf-460a-82c6-19cdc4a54d7e",
   "metadata": {},
   "source": [
    "can compute gradients"
   ]
  },
  {
   "cell_type": "code",
   "execution_count": null,
   "id": "e8d7c495-2fd4-4126-9cfa-ee74732dab5a",
   "metadata": {},
   "outputs": [],
   "source": [
    "L.sum().backward(retain_graph=True) "
   ]
  },
  {
   "cell_type": "markdown",
   "id": "a0182662-7254-4453-9e3f-e33780739374",
   "metadata": {},
   "source": [
    "Cannot used PyTorch LDL function, because it doesn't compute gradients, and in any case we don't need it! We can use just use the cholesky decomposition. Actually we may just use cholesky directly and $I$ for the diagonal ..."
   ]
  },
  {
   "cell_type": "code",
   "execution_count": null,
   "id": "d1002a0f-3abe-406c-a2b4-9b705a933873",
   "metadata": {},
   "outputs": [],
   "source": [
    "A = to_posdef(torch.rand(2, 3,3))"
   ]
  },
  {
   "cell_type": "code",
   "execution_count": null,
   "id": "6a90ecd2-f45a-4c7f-a2d0-99b9ef1e0a86",
   "metadata": {},
   "outputs": [],
   "source": [
    "torch.diagonal(A, dim1=-2, dim2=-1).shape"
   ]
  },
  {
   "cell_type": "code",
   "execution_count": null,
   "id": "303174a8-013f-46fc-bba8-0cb33c5c13a5",
   "metadata": {},
   "outputs": [],
   "source": [
    "def udu_decomposition(A):\n",
    "    L = torch.linalg.cholesky(A)\n",
    "    D0 = torch.diagonal(L, dim1=-2, dim2=-1)\n",
    "    U = L / D0.unsqueeze(-2)\n",
    "    D = D0.pow(2)\n",
    "    return U, D"
   ]
  },
  {
   "cell_type": "code",
   "execution_count": null,
   "id": "f5856e95-67b1-453f-bc65-5effdeb1cff4",
   "metadata": {},
   "outputs": [],
   "source": [
    "U, D = udu_decomposition(A)"
   ]
  },
  {
   "cell_type": "code",
   "execution_count": null,
   "id": "8db4c743-f2c9-4f50-a5a0-981ad0eae524",
   "metadata": {},
   "outputs": [],
   "source": [
    "torch.diag_embed(D), D"
   ]
  },
  {
   "cell_type": "code",
   "execution_count": null,
   "id": "64f5a8f7-3be7-4354-ac51-19c87b49bd33",
   "metadata": {},
   "outputs": [],
   "source": [
    "for _ in range(10):\n",
    "    A = to_posdef(torch.rand(5, 10,10))\n",
    "    U,D = udu_decomposition(A)\n",
    "    test_close(A, U @ torch.diag_embed(D) @ U.mT)"
   ]
  },
  {
   "cell_type": "code",
   "execution_count": null,
   "id": "574bb097-3d47-40fe-806a-af6550505909",
   "metadata": {},
   "outputs": [],
   "source": [
    "torch.diag(Q)"
   ]
  },
  {
   "cell_type": "code",
   "execution_count": null,
   "id": "34d1ec36-11e1-4f9d-8f3f-1aab06d7b6cb",
   "metadata": {},
   "outputs": [],
   "source": [
    "udu_decomposition(torch.diag(torch.diag(Q)))"
   ]
  },
  {
   "cell_type": "markdown",
   "id": "ff1b9115-bb59-48e5-824a-650705fdfaae",
   "metadata": {},
   "source": [
    "The first step is to decompose the Qariance matrix Q\n",
    "$$    Q = GD_QG^T $$"
   ]
  },
  {
   "cell_type": "code",
   "execution_count": null,
   "id": "623fec3f-2e29-4078-9cb7-a9da64893394",
   "metadata": {},
   "outputs": [],
   "source": [
    "G, D_Q = udu_decomposition(Q)"
   ]
  },
  {
   "cell_type": "markdown",
   "id": "4a948f3e-f20b-4ae5-8664-4cd4a4be07bd",
   "metadata": {},
   "source": [
    "$$W = \\begin{bmatrix}AU_{t-1}&G\\end{bmatrix}$$"
   ]
  },
  {
   "cell_type": "code",
   "execution_count": null,
   "id": "51e673aa-64c8-4dae-8c6a-1ecb70e732b9",
   "metadata": {},
   "outputs": [],
   "source": [
    "U_curr, D_curr = udu_decomposition(P_pr[0])"
   ]
  },
  {
   "cell_type": "code",
   "execution_count": null,
   "id": "2a94a74c-aa6e-4a1f-bfb7-db061425a50d",
   "metadata": {},
   "outputs": [],
   "source": [
    "W = torch.hstack([A @ U_curr, G])\n",
    "W"
   ]
  },
  {
   "cell_type": "markdown",
   "id": "299f675e-b262-45ac-9883-1e0102b7f6fc",
   "metadata": {},
   "source": [
    "$$ D_w = \\begin{bmatrix}D_{t-1} & 0 \\\\ 0 & D_Q \\end{bmatrix}$$"
   ]
  },
  {
   "cell_type": "code",
   "execution_count": null,
   "id": "5f633d21-405d-4e14-be69-1ecb482a99c9",
   "metadata": {},
   "outputs": [],
   "source": [
    "Dw = torch.diag(torch.hstack([D_curr, D_Q]))\n",
    "Dw"
   ]
  },
  {
   "cell_type": "code",
   "execution_count": null,
   "id": "bc886dd2-285f-48a0-8259-5f0a61316345",
   "metadata": {},
   "outputs": [],
   "source": [
    "W.shape"
   ]
  },
  {
   "cell_type": "code",
   "execution_count": null,
   "id": "0a6c6288-456b-4dd8-b5e1-aa29859feb92",
   "metadata": {},
   "outputs": [],
   "source": [
    "C_dw = Dw.sqrt()"
   ]
  },
  {
   "cell_type": "code",
   "execution_count": null,
   "id": "1cb4e9f8-0d2d-4ceb-9a52-3627b208b2a1",
   "metadata": {},
   "outputs": [],
   "source": [
    "C_dw.shape"
   ]
  },
  {
   "cell_type": "code",
   "execution_count": null,
   "id": "2cbe9d46-da10-4f45-9cdd-8f9c276fb139",
   "metadata": {},
   "outputs": [],
   "source": [
    "Q, R = torch.linalg.qr((W @ C_dw).mT)\n",
    "Q, R"
   ]
  },
  {
   "cell_type": "code",
   "execution_count": null,
   "id": "33b0167c-ac3a-440f-af3c-d338f97535b1",
   "metadata": {},
   "outputs": [],
   "source": [
    "Q.T @ Q"
   ]
  },
  {
   "cell_type": "code",
   "execution_count": null,
   "id": "84f06192-a4bd-4aea-b8e6-209f890038b8",
   "metadata": {},
   "outputs": [],
   "source": [
    "U_pred = R.mT\n",
    "V = Q.T @ torch.inverse(C_dw)\n",
    "U_pred.shape, V.shape"
   ]
  },
  {
   "cell_type": "code",
   "execution_count": null,
   "id": "083e04ae-114f-4240-aa42-9b1a0d585cf8",
   "metadata": {},
   "outputs": [],
   "source": [
    "D_pred = V @ Dw @ V.T"
   ]
  },
  {
   "cell_type": "code",
   "execution_count": null,
   "id": "1a7e69c6-a4e6-48d6-9798-a160a8d65ed5",
   "metadata": {},
   "outputs": [],
   "source": [
    "D_pred"
   ]
  },
  {
   "cell_type": "markdown",
   "id": "0c8be317-d63e-4db0-b541-fcf45869318e",
   "metadata": {},
   "source": [
    "so the math works and D_pred is a diagonal matrix, actually and identity matrix"
   ]
  },
  {
   "cell_type": "markdown",
   "id": "e5da6434-bd31-4c61-ab2f-1c58a692099f",
   "metadata": {},
   "source": [
    "Actually this all derivations are probably not needed, as the original idea of the algorightm is to not scalar square roots in PyTorch ... but since we have to use cholesky decomposition anyway, we can just use cholesky factors and make the life easier"
   ]
  },
  {
   "cell_type": "code",
   "execution_count": null,
   "id": "2d914b3a-352f-4c4b-be13-93d54f8a5015",
   "metadata": {},
   "outputs": [],
   "source": [
    "U_pred @ D_pred @ U_pred.T"
   ]
  },
  {
   "cell_type": "code",
   "execution_count": null,
   "id": "eebb8335-7756-4c4f-8b93-02a0d0393601",
   "metadata": {},
   "outputs": [],
   "source": [
    "test_close(P_m[0], U_pred @ D_pred @ U_pred.T)"
   ]
  },
  {
   "cell_type": "markdown",
   "id": "f2c10e51-16f6-4484-81a5-dbc19ec4778c",
   "metadata": {},
   "source": [
    "#| export\n",
    "def filter_predict_ud(A,\n",
    "                    Q,\n",
    "                    b,\n",
    "                    B, #[n_dim_state, n_dim_contr]\n",
    "                    m_pr,\n",
    "                    P_pr,\n",
    "                    control, #[n_batches, n_dim_contr]\n",
    "                    cov_checker=CheckPosDef()):\n",
    "    \n",
    "    "
   ]
  }
 ],
 "metadata": {
  "kernelspec": {
   "display_name": "data_science",
   "language": "python",
   "name": "data_science"
  },
  "widgets": {
   "application/vnd.jupyter.widget-state+json": {
    "state": {},
    "version_major": 2,
    "version_minor": 0
   }
  }
 },
 "nbformat": 4,
 "nbformat_minor": 5
}
