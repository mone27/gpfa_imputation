{
 "cells": [
  {
   "cell_type": "markdown",
   "id": "22e19739-7ce6-4689-8f05-5391807270f2",
   "metadata": {},
   "source": [
    "# Kalman Filter\n",
    "> Implementation of Kalman filters using pytorch and parameter optimizations with gradient descend"
   ]
  },
  {
   "cell_type": "code",
   "execution_count": null,
   "id": "33b5e640-1b40-4822-8912-f6aef392b22f",
   "metadata": {},
   "outputs": [
    {
     "name": "stdout",
     "output_type": "stream",
     "text": [
      "The autoreload extension is already loaded. To reload it, use:\n",
      "  %reload_ext autoreload\n"
     ]
    }
   ],
   "source": [
    "%load_ext autoreload\n",
    "%autoreload 2"
   ]
  },
  {
   "cell_type": "code",
   "execution_count": null,
   "id": "378ab6cd-754e-4199-a102-c7a3109c6c78",
   "metadata": {},
   "outputs": [],
   "source": [
    "#| hide\n",
    "#| default_exp kalman.filter"
   ]
  },
  {
   "cell_type": "code",
   "execution_count": null,
   "id": "c89a8e7f-95e3-4c02-9716-948d5e0dcfca",
   "metadata": {},
   "outputs": [],
   "source": [
    "#| export\n",
    "from fastcore.test import *\n",
    "from fastcore.basics import *\n",
    "from meteo_imp.utils import *\n",
    "from meteo_imp.gaussian import *\n",
    "from meteo_imp.data_preparation import MeteoDataTest\n",
    "from typing import *\n",
    "\n",
    "import numpy as np\n",
    "import pandas as pd\n",
    "import torch\n",
    "from torch import Tensor\n",
    "from torch.distributions import MultivariateNormal"
   ]
  },
  {
   "cell_type": "markdown",
   "id": "ce900cd1-288d-4215-b317-d815f2850215",
   "metadata": {},
   "source": [
    "## Introduction"
   ]
  },
  {
   "cell_type": "markdown",
   "id": "410c35dd-074e-4630-8b4d-90b8a46eb393",
   "metadata": {},
   "source": [
    "### Utils"
   ]
  },
  {
   "cell_type": "code",
   "execution_count": null,
   "id": "19255a07-7210-4810-bcdf-31ad553a62ba",
   "metadata": {},
   "outputs": [],
   "source": [
    "#| exporti\n",
    "def array1d(X):\n",
    "    \"\"\"Returns at least 1-d array with data from X\"\"\"\n",
    "    return torch.atleast_1d(torch.as_tensor(X))\n",
    "\n",
    "def array2d(X):\n",
    "    \"\"\"Returns at least 2-d array with data from X\"\"\"\n",
    "    return torch.atleast_2d(torch.as_tensor(X))\n"
   ]
  },
  {
   "cell_type": "code",
   "execution_count": null,
   "id": "17e6c534-da61-4c08-a10f-39ffa31e5029",
   "metadata": {},
   "outputs": [],
   "source": [
    "#| export\n",
    "def _determine_dimensionality(variables, default):\n",
    "    \"\"\"Derive the dimensionality of the state space\n",
    "\n",
    "    Parameters\n",
    "    ----------\n",
    "    variables : list of ({None, array}, conversion function, index)\n",
    "        variables, functions to convert them to arrays, and indices in those\n",
    "        arrays to derive dimensionality from.\n",
    "        \n",
    "    Returns\n",
    "    -------\n",
    "    dim : int\n",
    "        dimensionality of state space as derived from variables or default.\n",
    "    \"\"\"\n",
    "    # gather possible values based on the variables\n",
    "    candidates = []\n",
    "    for (v, converter, idx) in variables:\n",
    "        if v is not None:\n",
    "            v = converter(v)\n",
    "            candidates.append(v.shape[idx])\n",
    "    \n",
    "     # also use the manually specified default\n",
    "    if default is not None:\n",
    "        candidates.append(default)\n",
    "    \n",
    "    # ensure consistency of all derived values\n",
    "    if len(candidates) == 0:\n",
    "        return 1\n",
    "    else:\n",
    "        if not torch.all(torch.tensor(candidates) == candidates[0]):\n",
    "            raise ValueError(\n",
    "                \"The shape of all \" +\n",
    "                \"parameters is not consistent.  \" +\n",
    "                \"Please re-check their values.\"\n",
    "            )\n",
    "        return candidates[0]\n",
    "\n",
    "\n",
    "def _last_dims(X: Tensor, t: int, ndims: int=2):\n",
    "    \"\"\"Extract the final dimensions of `X`\n",
    "\n",
    "    Extract the final `ndim` dimensions at index `t` if `X` has >= `ndim` + 1\n",
    "    dimensions, otherwise return `X`.\n",
    "\n",
    "    Parameters\n",
    "    ----------\n",
    "    X : Tensor with at least dimension `ndims`\n",
    "    t : int\n",
    "        index to use for the `ndims` + 1th dimension\n",
    "    ndims : int, optional\n",
    "        number of dimensions in the array desired\n",
    "\n",
    "    Returns\n",
    "    -------\n",
    "    Y : array with dimension `ndims`\n",
    "        the final `ndims` dimensions indexed by `t`\n",
    "    \"\"\"\n",
    "    if len(X.shape) == ndims + 1:\n",
    "        return X[t]\n",
    "    elif len(X.shape) == ndims:\n",
    "        return X\n",
    "    else:\n",
    "        raise ValueError((\"X only has %d dimensions when %d\" +\n",
    "                \" or more are required\") % (len(X.shape), ndims))"
   ]
  },
  {
   "cell_type": "code",
   "execution_count": null,
   "id": "9da44a3d-2817-4b7e-939c-ac54d675e830",
   "metadata": {},
   "outputs": [],
   "source": [
    "#| export\n",
    "def _stack_detach(l: Collection[Tensor]):\n",
    "    return torch.stack(list(map(lambda x: x.detach(), l)))"
   ]
  },
  {
   "cell_type": "markdown",
   "id": "55ab3362-0875-4329-9cf0-39b3efb97cdb",
   "metadata": {},
   "source": [
    "### Positive Definite Constraint"
   ]
  },
  {
   "cell_type": "markdown",
   "id": "e9a2aca4-4ef2-4f46-af7e-b9380e8dc88e",
   "metadata": {},
   "source": [
    "The covariance matrices need to be [positive definite](https://en.wikipedia.org/wiki/Definite_matrix)\n",
    "Those are utilities functions to check is a matrix is positive definite and to make any matrix positive definite"
   ]
  },
  {
   "cell_type": "code",
   "execution_count": null,
   "id": "3f4282f5-dac4-4016-b2eb-063bef6d0de3",
   "metadata": {},
   "outputs": [],
   "source": [
    "A = torch.rand(3,3) # random matrix used for testing"
   ]
  },
  {
   "cell_type": "markdown",
   "id": "c99f4e74-70b5-4a82-95a0-7c768035a7f6",
   "metadata": {},
   "source": [
    "#### Symmetry"
   ]
  },
  {
   "cell_type": "code",
   "execution_count": null,
   "id": "65f2a833-ea46-47bc-886e-b1e40b3e1a85",
   "metadata": {},
   "outputs": [],
   "source": [
    "#| export\n",
    "def is_symmetric(value, atol=1e-5):\n",
    "    return torch.isclose(value, value.mT, atol=atol).all().item()"
   ]
  },
  {
   "cell_type": "code",
   "execution_count": null,
   "id": "8d535136-e5a8-4c41-a9d7-99edc4d25c11",
   "metadata": {},
   "outputs": [
    {
     "data": {
      "text/plain": [
       "False"
      ]
     },
     "execution_count": null,
     "metadata": {},
     "output_type": "execute_result"
    }
   ],
   "source": [
    "is_symmetric(A)"
   ]
  },
  {
   "cell_type": "code",
   "execution_count": null,
   "id": "77d7bd95-ca50-4011-b290-3e90be4182da",
   "metadata": {},
   "outputs": [],
   "source": [
    "#| export\n",
    "def symmetric_upto(value, start=-8):\n",
    "    for exp in torch.arange(start, 3):\n",
    "        if is_symmetric(value, atol=10**exp):\n",
    "            return exp.item()\n",
    "    return exp.item()"
   ]
  },
  {
   "cell_type": "code",
   "execution_count": null,
   "id": "cb00f8a4-2b11-42a7-a37d-b3c6fcdc6224",
   "metadata": {},
   "outputs": [
    {
     "data": {
      "text/plain": [
       "0"
      ]
     },
     "execution_count": null,
     "metadata": {},
     "output_type": "execute_result"
    }
   ],
   "source": [
    "symmetric_upto(A)"
   ]
  },
  {
   "cell_type": "markdown",
   "id": "d6928b02-ab78-4d23-9b54-21dbc509c932",
   "metadata": {},
   "source": [
    "#### is posdef"
   ]
  },
  {
   "cell_type": "markdown",
   "id": "49ad9034-11ba-4b90-9663-d66afd4abc17",
   "metadata": {},
   "source": [
    "Default pytorch check (uses symmetry + cholesky decomposition)"
   ]
  },
  {
   "cell_type": "code",
   "execution_count": null,
   "id": "6aeddb77-2214-4b47-a95c-bb8939d94654",
   "metadata": {},
   "outputs": [],
   "source": [
    "#| export\n",
    "def is_posdef(cov):\n",
    "    return torch.distributions.constraints.positive_definite.check(cov).item()"
   ]
  },
  {
   "cell_type": "code",
   "execution_count": null,
   "id": "b95a649c-9280-469d-8772-df8a21179d99",
   "metadata": {},
   "outputs": [
    {
     "data": {
      "text/plain": [
       "False"
      ]
     },
     "execution_count": null,
     "metadata": {},
     "output_type": "execute_result"
    }
   ],
   "source": [
    "is_posdef(A)"
   ]
  },
  {
   "cell_type": "markdown",
   "id": "21c011b4-ce29-4975-8f71-17edccc03941",
   "metadata": {},
   "source": [
    "check if it is pos definite using eigenvalues. Positive definite matrix have all positive eigenvalues"
   ]
  },
  {
   "cell_type": "code",
   "execution_count": null,
   "id": "be3c80f2-07d1-4788-a406-49e4fec9a1db",
   "metadata": {},
   "outputs": [
    {
     "data": {
      "text/plain": [
       "tensor([-0.5442,  0.1242,  0.9816])"
      ]
     },
     "execution_count": null,
     "metadata": {},
     "output_type": "execute_result"
    }
   ],
   "source": [
    "torch.linalg.eigvalsh(A)"
   ]
  },
  {
   "cell_type": "code",
   "execution_count": null,
   "id": "04fda98d-ef31-4bf6-bdd1-d536634b7f38",
   "metadata": {},
   "outputs": [],
   "source": [
    "#| export\n",
    "def is_posdef_eigv(cov):\n",
    "    eigv = torch.linalg.eigvalsh(cov)\n",
    "    if (eigv < 0).any():\n",
    "        return False, eigv\n",
    "    return True, eigv"
   ]
  },
  {
   "cell_type": "code",
   "execution_count": null,
   "id": "c3da084e-0aae-4863-b68d-e85185ef43a2",
   "metadata": {},
   "outputs": [
    {
     "data": {
      "text/plain": [
       "(False, tensor([-0.5442,  0.1242,  0.9816]))"
      ]
     },
     "execution_count": null,
     "metadata": {},
     "output_type": "execute_result"
    }
   ],
   "source": [
    "is_posdef_eigv(A)"
   ]
  },
  {
   "cell_type": "markdown",
   "id": "07a50673-6251-4db3-b145-3b7a60cb3c7d",
   "metadata": {},
   "source": [
    "Note that `is_posdef` and `is_posdef_eigv` can return different values, in general `is_posdef_eigv` is more tollerant"
   ]
  },
  {
   "cell_type": "markdown",
   "id": "5a465f39-300b-4a9d-93e9-d29ce76e8f79",
   "metadata": {},
   "source": [
    "transform any matrix $A$ into a positive definite matrix ($PD$) using the following formula\n",
    "\n",
    "$PD = CC^T$ where $C$ is the lower triangular matrix of $A$\n",
    "\n",
    "the inverse transformation uses cholesky decomposition\n",
    "\n",
    "\n",
    "The API inspired by gpytorch constraints"
   ]
  },
  {
   "cell_type": "code",
   "execution_count": null,
   "id": "32af90a0-7580-4548-86cd-d50f9e9b986d",
   "metadata": {},
   "outputs": [],
   "source": [
    "#| export\n",
    "class PosDef():\n",
    "    \"\"\" Positive Definite Constraint for PyTorch parameters\"\"\"\n",
    "    def transform(self,\n",
    "                  raw # square matrix\n",
    "                 ):\n",
    "        \"\"\"transform any matrix into a positive definite one\"\"\"\n",
    "        C = torch.tril(raw)\n",
    "        return C @ C.mT\n",
    "    \n",
    "    def inverse_transform(self,\n",
    "                          value # a positive definite matrix\n",
    "                         ):\n",
    "        \"\"\"tranform positive definite matrix into a matrix that can be back_transformed using `transform`\"\"\"\n",
    "        return torch.linalg.cholesky(value)\n",
    "\n",
    "to_posdef = PosDef().transform"
   ]
  },
  {
   "cell_type": "code",
   "execution_count": null,
   "id": "b3658175-e687-448c-85d1-2b62d0998177",
   "metadata": {},
   "outputs": [],
   "source": [
    "constraint = PosDef()\n",
    "\n",
    "posdef = constraint.transform(A)"
   ]
  },
  {
   "cell_type": "code",
   "execution_count": null,
   "id": "df9a0365-ba5f-458d-8ffc-df9599d10208",
   "metadata": {},
   "outputs": [
    {
     "data": {
      "text/plain": [
       "tensor([[0.3427, 0.1567, 0.1184],\n",
       "        [0.3918, 0.2086, 0.9520],\n",
       "        [0.1444, 0.6186, 0.0103]])"
      ]
     },
     "execution_count": null,
     "metadata": {},
     "output_type": "execute_result"
    }
   ],
   "source": [
    "A"
   ]
  },
  {
   "cell_type": "code",
   "execution_count": null,
   "id": "8c9964a0-41ec-4016-ad0f-7513589a8541",
   "metadata": {},
   "outputs": [
    {
     "data": {
      "text/plain": [
       "tensor([[0.1175, 0.1343, 0.0495],\n",
       "        [0.1343, 0.1970, 0.1857],\n",
       "        [0.0495, 0.1857, 0.4037]])"
      ]
     },
     "execution_count": null,
     "metadata": {},
     "output_type": "execute_result"
    }
   ],
   "source": [
    "posdef"
   ]
  },
  {
   "cell_type": "code",
   "execution_count": null,
   "id": "d2a5357c-2616-4f96-8ac3-b236a51e7383",
   "metadata": {},
   "outputs": [],
   "source": [
    "test_eq(is_posdef(posdef), True)"
   ]
  },
  {
   "cell_type": "code",
   "execution_count": null,
   "id": "c865d14d-c8fe-4ba0-a600-4373b0635a58",
   "metadata": {},
   "outputs": [
    {
     "data": {
      "text/plain": [
       "tensor([[0.3427, 0.0000, 0.0000],\n",
       "        [0.3918, 0.2086, 0.0000],\n",
       "        [0.1444, 0.6186, 0.0103]])"
      ]
     },
     "execution_count": null,
     "metadata": {},
     "output_type": "execute_result"
    }
   ],
   "source": [
    "constraint.inverse_transform(posdef)"
   ]
  },
  {
   "cell_type": "code",
   "execution_count": null,
   "id": "5c32919e-6d79-4a16-99ae-1d3cd2726c95",
   "metadata": {},
   "outputs": [],
   "source": [
    "test_close(posdef, constraint.transform(constraint.inverse_transform(posdef)))"
   ]
  },
  {
   "cell_type": "code",
   "execution_count": null,
   "id": "c12e8ccf-1c1b-4860-9a01-019c5cf8b7fd",
   "metadata": {},
   "outputs": [
    {
     "data": {
      "text/plain": [
       "True"
      ]
     },
     "execution_count": null,
     "metadata": {},
     "output_type": "execute_result"
    }
   ],
   "source": [
    "is_symmetric(posdef)"
   ]
  },
  {
   "cell_type": "code",
   "execution_count": null,
   "id": "95c9e671-b456-4cee-9981-f53176ebaeff",
   "metadata": {},
   "outputs": [
    {
     "data": {
      "text/plain": [
       "-8"
      ]
     },
     "execution_count": null,
     "metadata": {},
     "output_type": "execute_result"
    }
   ],
   "source": [
    "symmetric_upto(posdef)"
   ]
  },
  {
   "cell_type": "code",
   "execution_count": null,
   "id": "51740642-5a09-4861-a24b-a0c2324cfb45",
   "metadata": {},
   "outputs": [
    {
     "data": {
      "text/plain": [
       "(True, tensor([5.6563e-06, 1.7525e-01, 5.4292e-01]))"
      ]
     },
     "execution_count": null,
     "metadata": {},
     "output_type": "execute_result"
    }
   ],
   "source": [
    "is_posdef_eigv(posdef)"
   ]
  },
  {
   "cell_type": "markdown",
   "id": "c1e4bad9-909a-4114-9583-99b48bc9a543",
   "metadata": {},
   "source": [
    "#### Check pos def"
   ]
  },
  {
   "cell_type": "markdown",
   "id": "c29e88b1-7aea-4e1d-a832-152db086369c",
   "metadata": {},
   "source": [
    "This is to help finding matrices that aren't positive definite and debug the issues.\n",
    "Returns a detailed dataframe row with info about the matrix and optionally logs everything to a global object"
   ]
  },
  {
   "cell_type": "code",
   "execution_count": null,
   "id": "b3138c12-f991-471e-bd39-51096a968eeb",
   "metadata": {},
   "outputs": [],
   "source": [
    "#| export\n",
    "from warnings import warn"
   ]
  },
  {
   "cell_type": "code",
   "execution_count": null,
   "id": "32f54eaf-9a6a-40d4-be30-eb9630df283f",
   "metadata": {},
   "outputs": [],
   "source": [
    "#| export\n",
    "class CheckPosDef():\n",
    "    def __init__(self,\n",
    "                do_check:bool = False, # set to True to actually check matrix\n",
    "                use_log:bool = True, # keep internal log\n",
    "                warning:bool = True, # show a warning if a matrix is not pos def \n",
    "                ):\n",
    "        store_attr()\n",
    "        self.log = pd.DataFrame()\n",
    "        self.extra_args = {}\n",
    "    def add_args(self, **kwargs):\n",
    "        \"\"\"Add an extra argument to the next call of check_posdef \"\"\"\n",
    "        self.extra_args = {**kwargs, **self.extra_args}\n",
    "        return self\n",
    "    \n",
    "    def check(self,\n",
    "              x: Tensor, # (batch of) square matrix\n",
    "              **extra_args\n",
    "             ) -> pd.DataFrame:\n",
    "        \n",
    "        if not self.do_check: return\n",
    "        \n",
    "        self.add_args(**extra_args)\n",
    "        \n",
    "        x = x if x.dim() > 2 else [x]\n",
    "        infos = pd.concat([*map(self._check_matrix, x)])\n",
    "        \n",
    "        if self.use_log: self.log = pd.concat([self.log, infos])\n",
    "        if self.warning and (~infos['is_pd_eigv'].all() or ~infos['is_pd_chol'].all()):\n",
    "             warn(\"Matrix is not positive definite\")\n",
    "        \n",
    "        self.extra_args = {} \n",
    "        return infos\n",
    "    \n",
    "    def _check_matrix(self,\n",
    "                     x: Tensor # square matrix\n",
    "                    ) -> pd.DataFrame:\n",
    "        \n",
    "        x = x.detach().cpu().clone() # free GPU memory and ensure that there is a copy\n",
    "        sym_upto = symmetric_upto(x)\n",
    "\n",
    "        is_pd_eigv, eigv = is_posdef_eigv(x)\n",
    "        is_pd_chol = torch.linalg.cholesky_ex(x).info.eq(0).all().item() # skip pytorch too strict symmetry check\n",
    "        is_sym = is_symmetric(x)\n",
    "\n",
    "        info = pd.DataFrame({\n",
    "            'is_pd_eigv': is_pd_eigv,\n",
    "            'is_pd_chol': is_pd_chol,\n",
    "            'is_sym': is_sym,\n",
    "            'sym_upto': sym_upto,\n",
    "            'eigv': [eigv.detach().numpy()],\n",
    "            'matrix': [x.detach().numpy()],\n",
    "            **self.extra_args\n",
    "        })\n",
    "\n",
    "        return info"
   ]
  },
  {
   "cell_type": "code",
   "execution_count": null,
   "id": "ee8aa6cd-9585-420d-8475-4d3309d065ae",
   "metadata": {},
   "outputs": [
    {
     "name": "stderr",
     "output_type": "stream",
     "text": [
      "/tmp/ipykernel_16010/838933125.py:29: UserWarning: Matrix is not positive definite\n",
      "  warn(\"Matrix is not positive definite\")\n"
     ]
    },
    {
     "data": {
      "text/html": [
       "<div>\n",
       "<style scoped>\n",
       "    .dataframe tbody tr th:only-of-type {\n",
       "        vertical-align: middle;\n",
       "    }\n",
       "\n",
       "    .dataframe tbody tr th {\n",
       "        vertical-align: top;\n",
       "    }\n",
       "\n",
       "    .dataframe thead th {\n",
       "        text-align: right;\n",
       "    }\n",
       "</style>\n",
       "<table border=\"1\" class=\"dataframe\">\n",
       "  <thead>\n",
       "    <tr style=\"text-align: right;\">\n",
       "      <th></th>\n",
       "      <th>is_pd_eigv</th>\n",
       "      <th>is_pd_chol</th>\n",
       "      <th>is_sym</th>\n",
       "      <th>sym_upto</th>\n",
       "      <th>eigv</th>\n",
       "      <th>matrix</th>\n",
       "    </tr>\n",
       "  </thead>\n",
       "  <tbody>\n",
       "    <tr>\n",
       "      <th>0</th>\n",
       "      <td>False</td>\n",
       "      <td>False</td>\n",
       "      <td>False</td>\n",
       "      <td>0</td>\n",
       "      <td>[-0.5442282, 0.12421053, 0.9816487]</td>\n",
       "      <td>[[0.34273952, 0.1567195, 0.11838853], [0.39177...</td>\n",
       "    </tr>\n",
       "  </tbody>\n",
       "</table>\n",
       "</div>"
      ],
      "text/plain": [
       "   is_pd_eigv  is_pd_chol  is_sym  sym_upto  \\\n",
       "0       False       False   False         0   \n",
       "\n",
       "                                  eigv  \\\n",
       "0  [-0.5442282, 0.12421053, 0.9816487]   \n",
       "\n",
       "                                              matrix  \n",
       "0  [[0.34273952, 0.1567195, 0.11838853], [0.39177...  "
      ]
     },
     "execution_count": null,
     "metadata": {},
     "output_type": "execute_result"
    }
   ],
   "source": [
    "CheckPosDef(True).check(A)"
   ]
  },
  {
   "cell_type": "code",
   "execution_count": null,
   "id": "917fe818-6472-44bc-8db0-55fe25e8126c",
   "metadata": {},
   "outputs": [
    {
     "name": "stderr",
     "output_type": "stream",
     "text": [
      "/tmp/ipykernel_16010/838933125.py:29: UserWarning: Matrix is not positive definite\n",
      "  warn(\"Matrix is not positive definite\")\n"
     ]
    },
    {
     "data": {
      "text/html": [
       "<div>\n",
       "<style scoped>\n",
       "    .dataframe tbody tr th:only-of-type {\n",
       "        vertical-align: middle;\n",
       "    }\n",
       "\n",
       "    .dataframe tbody tr th {\n",
       "        vertical-align: top;\n",
       "    }\n",
       "\n",
       "    .dataframe thead th {\n",
       "        text-align: right;\n",
       "    }\n",
       "</style>\n",
       "<table border=\"1\" class=\"dataframe\">\n",
       "  <thead>\n",
       "    <tr style=\"text-align: right;\">\n",
       "      <th></th>\n",
       "      <th>is_pd_eigv</th>\n",
       "      <th>is_pd_chol</th>\n",
       "      <th>is_sym</th>\n",
       "      <th>sym_upto</th>\n",
       "      <th>eigv</th>\n",
       "      <th>matrix</th>\n",
       "      <th>my_arg</th>\n",
       "    </tr>\n",
       "  </thead>\n",
       "  <tbody>\n",
       "    <tr>\n",
       "      <th>0</th>\n",
       "      <td>False</td>\n",
       "      <td>False</td>\n",
       "      <td>False</td>\n",
       "      <td>0</td>\n",
       "      <td>[-0.5442282, 0.12421053, 0.9816487]</td>\n",
       "      <td>[[0.34273952, 0.1567195, 0.11838853], [0.39177...</td>\n",
       "      <td>my arg</td>\n",
       "    </tr>\n",
       "  </tbody>\n",
       "</table>\n",
       "</div>"
      ],
      "text/plain": [
       "   is_pd_eigv  is_pd_chol  is_sym  sym_upto  \\\n",
       "0       False       False   False         0   \n",
       "\n",
       "                                  eigv  \\\n",
       "0  [-0.5442282, 0.12421053, 0.9816487]   \n",
       "\n",
       "                                              matrix  my_arg  \n",
       "0  [[0.34273952, 0.1567195, 0.11838853], [0.39177...  my arg  "
      ]
     },
     "execution_count": null,
     "metadata": {},
     "output_type": "execute_result"
    }
   ],
   "source": [
    "checker = CheckPosDef(True)\n",
    "\n",
    "checker.check(A, my_arg=\"my arg\") # this will be another col in the log"
   ]
  },
  {
   "cell_type": "code",
   "execution_count": null,
   "id": "64777106-1b5b-466a-81b4-7878ebcf28fa",
   "metadata": {},
   "outputs": [
    {
     "data": {
      "text/html": [
       "<div>\n",
       "<style scoped>\n",
       "    .dataframe tbody tr th:only-of-type {\n",
       "        vertical-align: middle;\n",
       "    }\n",
       "\n",
       "    .dataframe tbody tr th {\n",
       "        vertical-align: top;\n",
       "    }\n",
       "\n",
       "    .dataframe thead th {\n",
       "        text-align: right;\n",
       "    }\n",
       "</style>\n",
       "<table border=\"1\" class=\"dataframe\">\n",
       "  <thead>\n",
       "    <tr style=\"text-align: right;\">\n",
       "      <th></th>\n",
       "      <th>is_pd_eigv</th>\n",
       "      <th>is_pd_chol</th>\n",
       "      <th>is_sym</th>\n",
       "      <th>sym_upto</th>\n",
       "      <th>eigv</th>\n",
       "      <th>matrix</th>\n",
       "      <th>my_arg</th>\n",
       "    </tr>\n",
       "  </thead>\n",
       "  <tbody>\n",
       "    <tr>\n",
       "      <th>0</th>\n",
       "      <td>False</td>\n",
       "      <td>False</td>\n",
       "      <td>False</td>\n",
       "      <td>0</td>\n",
       "      <td>[-0.5442282, 0.12421053, 0.9816487]</td>\n",
       "      <td>[[0.34273952, 0.1567195, 0.11838853], [0.39177...</td>\n",
       "      <td>my arg</td>\n",
       "    </tr>\n",
       "  </tbody>\n",
       "</table>\n",
       "</div>"
      ],
      "text/plain": [
       "   is_pd_eigv  is_pd_chol  is_sym  sym_upto  \\\n",
       "0       False       False   False         0   \n",
       "\n",
       "                                  eigv  \\\n",
       "0  [-0.5442282, 0.12421053, 0.9816487]   \n",
       "\n",
       "                                              matrix  my_arg  \n",
       "0  [[0.34273952, 0.1567195, 0.11838853], [0.39177...  my arg  "
      ]
     },
     "execution_count": null,
     "metadata": {},
     "output_type": "execute_result"
    }
   ],
   "source": [
    "checker.log"
   ]
  },
  {
   "cell_type": "code",
   "execution_count": null,
   "id": "e7bd5b84-b947-46fb-9a9f-d0f7ca8b6a5f",
   "metadata": {},
   "outputs": [
    {
     "name": "stderr",
     "output_type": "stream",
     "text": [
      "/tmp/ipykernel_16010/838933125.py:29: UserWarning: Matrix is not positive definite\n",
      "  warn(\"Matrix is not positive definite\")\n"
     ]
    },
    {
     "data": {
      "text/html": [
       "<div>\n",
       "<style scoped>\n",
       "    .dataframe tbody tr th:only-of-type {\n",
       "        vertical-align: middle;\n",
       "    }\n",
       "\n",
       "    .dataframe tbody tr th {\n",
       "        vertical-align: top;\n",
       "    }\n",
       "\n",
       "    .dataframe thead th {\n",
       "        text-align: right;\n",
       "    }\n",
       "</style>\n",
       "<table border=\"1\" class=\"dataframe\">\n",
       "  <thead>\n",
       "    <tr style=\"text-align: right;\">\n",
       "      <th></th>\n",
       "      <th>is_pd_eigv</th>\n",
       "      <th>is_pd_chol</th>\n",
       "      <th>is_sym</th>\n",
       "      <th>sym_upto</th>\n",
       "      <th>eigv</th>\n",
       "      <th>matrix</th>\n",
       "      <th>my_arg</th>\n",
       "      <th>show</th>\n",
       "    </tr>\n",
       "  </thead>\n",
       "  <tbody>\n",
       "    <tr>\n",
       "      <th>0</th>\n",
       "      <td>False</td>\n",
       "      <td>False</td>\n",
       "      <td>False</td>\n",
       "      <td>0</td>\n",
       "      <td>[-0.5442282, 0.12421053, 0.9816487]</td>\n",
       "      <td>[[0.34273952, 0.1567195, 0.11838853], [0.39177...</td>\n",
       "      <td>my arg</td>\n",
       "      <td>NaN</td>\n",
       "    </tr>\n",
       "    <tr>\n",
       "      <th>0</th>\n",
       "      <td>True</td>\n",
       "      <td>True</td>\n",
       "      <td>True</td>\n",
       "      <td>-8</td>\n",
       "      <td>[5.6563063e-06, 0.17524819, 0.5429207]</td>\n",
       "      <td>[[0.11747038, 0.13427578, 0.04950164], [0.1342...</td>\n",
       "      <td>NaN</td>\n",
       "      <td>only once</td>\n",
       "    </tr>\n",
       "    <tr>\n",
       "      <th>0</th>\n",
       "      <td>False</td>\n",
       "      <td>False</td>\n",
       "      <td>False</td>\n",
       "      <td>0</td>\n",
       "      <td>[-0.5442282, 0.12421053, 0.9816487]</td>\n",
       "      <td>[[0.34273952, 0.1567195, 0.11838853], [0.39177...</td>\n",
       "      <td>NaN</td>\n",
       "      <td>NaN</td>\n",
       "    </tr>\n",
       "  </tbody>\n",
       "</table>\n",
       "</div>"
      ],
      "text/plain": [
       "   is_pd_eigv  is_pd_chol  is_sym  sym_upto  \\\n",
       "0       False       False   False         0   \n",
       "0        True        True    True        -8   \n",
       "0       False       False   False         0   \n",
       "\n",
       "                                     eigv  \\\n",
       "0     [-0.5442282, 0.12421053, 0.9816487]   \n",
       "0  [5.6563063e-06, 0.17524819, 0.5429207]   \n",
       "0     [-0.5442282, 0.12421053, 0.9816487]   \n",
       "\n",
       "                                              matrix  my_arg       show  \n",
       "0  [[0.34273952, 0.1567195, 0.11838853], [0.39177...  my arg        NaN  \n",
       "0  [[0.11747038, 0.13427578, 0.04950164], [0.1342...     NaN  only once  \n",
       "0  [[0.34273952, 0.1567195, 0.11838853], [0.39177...     NaN        NaN  "
      ]
     },
     "execution_count": null,
     "metadata": {},
     "output_type": "execute_result"
    }
   ],
   "source": [
    "checker.add_args(show=\"only once\")\n",
    "checker.check(posdef)\n",
    "checker.check(A)\n",
    "checker.log"
   ]
  },
  {
   "cell_type": "code",
   "execution_count": null,
   "id": "0a3617b0-a165-4a2c-8999-a96017eb5eec",
   "metadata": {},
   "outputs": [],
   "source": [
    "B = torch.rand(2,3,3) # a batch of matrices"
   ]
  },
  {
   "cell_type": "code",
   "execution_count": null,
   "id": "5d5fc7af-5f83-41dc-8d44-183c3ff2344d",
   "metadata": {},
   "outputs": [
    {
     "name": "stderr",
     "output_type": "stream",
     "text": [
      "/tmp/ipykernel_16010/838933125.py:29: UserWarning: Matrix is not positive definite\n",
      "  warn(\"Matrix is not positive definite\")\n"
     ]
    },
    {
     "data": {
      "text/html": [
       "<div>\n",
       "<style scoped>\n",
       "    .dataframe tbody tr th:only-of-type {\n",
       "        vertical-align: middle;\n",
       "    }\n",
       "\n",
       "    .dataframe tbody tr th {\n",
       "        vertical-align: top;\n",
       "    }\n",
       "\n",
       "    .dataframe thead th {\n",
       "        text-align: right;\n",
       "    }\n",
       "</style>\n",
       "<table border=\"1\" class=\"dataframe\">\n",
       "  <thead>\n",
       "    <tr style=\"text-align: right;\">\n",
       "      <th></th>\n",
       "      <th>is_pd_eigv</th>\n",
       "      <th>is_pd_chol</th>\n",
       "      <th>is_sym</th>\n",
       "      <th>sym_upto</th>\n",
       "      <th>eigv</th>\n",
       "      <th>matrix</th>\n",
       "    </tr>\n",
       "  </thead>\n",
       "  <tbody>\n",
       "    <tr>\n",
       "      <th>0</th>\n",
       "      <td>False</td>\n",
       "      <td>False</td>\n",
       "      <td>False</td>\n",
       "      <td>0</td>\n",
       "      <td>[-0.6299121, 0.10874571, 1.2889841]</td>\n",
       "      <td>[[0.27296227, 0.2163598, 0.11539459], [0.09705...</td>\n",
       "    </tr>\n",
       "    <tr>\n",
       "      <th>0</th>\n",
       "      <td>True</td>\n",
       "      <td>True</td>\n",
       "      <td>False</td>\n",
       "      <td>0</td>\n",
       "      <td>[0.17793366, 0.627806, 1.3450105]</td>\n",
       "      <td>[[0.75479823, 0.50660074, 0.55367833], [0.4830...</td>\n",
       "    </tr>\n",
       "  </tbody>\n",
       "</table>\n",
       "</div>"
      ],
      "text/plain": [
       "   is_pd_eigv  is_pd_chol  is_sym  sym_upto  \\\n",
       "0       False       False   False         0   \n",
       "0        True        True   False         0   \n",
       "\n",
       "                                  eigv  \\\n",
       "0  [-0.6299121, 0.10874571, 1.2889841]   \n",
       "0    [0.17793366, 0.627806, 1.3450105]   \n",
       "\n",
       "                                              matrix  \n",
       "0  [[0.27296227, 0.2163598, 0.11539459], [0.09705...  \n",
       "0  [[0.75479823, 0.50660074, 0.55367833], [0.4830...  "
      ]
     },
     "execution_count": null,
     "metadata": {},
     "output_type": "execute_result"
    }
   ],
   "source": [
    "checker.check(B)"
   ]
  },
  {
   "cell_type": "code",
   "execution_count": null,
   "id": "2eee79e6-b065-45f5-a4f5-241604a0d8d9",
   "metadata": {},
   "outputs": [],
   "source": [
    "test_close(B[0] @ A, (B @ A)[0]) # example batched matrix multiplication"
   ]
  },
  {
   "cell_type": "markdown",
   "id": "3d3f26ea-ed98-427e-8257-63db13bf17d7",
   "metadata": {},
   "source": [
    "## KalmanFilter"
   ]
  },
  {
   "cell_type": "markdown",
   "id": "6cab259c-2315-4019-bb1e-61f3b1504bd5",
   "metadata": {},
   "source": [
    "The Kalman Filter is an algorithm designed to estimate $P(x_t | y_{0:t})$.  As all state transitions and obss are linear with Gaussian distributed noise, these distributions can be represented exactly as Gaussian distributions with mean `filt_state_means[t]` and covs `filt_state_covs[t]`.\n",
    "Similarly, the Kalman Smoother is an algorithm designed to estimate $P(x_t | y_{0:T-1})$\n",
    "\n"
   ]
  },
  {
   "cell_type": "markdown",
   "id": "68d33ff3-5e3e-40ad-b21c-71d2358a7d7b",
   "metadata": {},
   "source": [
    "### Main class"
   ]
  },
  {
   "cell_type": "code",
   "execution_count": null,
   "id": "4768434a-a51c-48a3-8813-afd59949ef51",
   "metadata": {},
   "outputs": [],
   "source": [
    "#| export\n",
    "class KalmanFilter(torch.nn.Module):\n",
    "    \"\"\"Kalman Filter and Smoother using PyTorch\"\"\"\n",
    "    def __init__(self,\n",
    "            trans_matrix: Tensor,    # [n_dim_state,n_dim_state] $A$, state transition matrix \n",
    "            obs_matrix: Tensor,      # [n_dim_obs, n_dim_state] $H$, observation matrix\n",
    "            trans_cov: Tensor,       # [n_dim_state, n_dim_state] $Q$, state trans covariance matrix\n",
    "            obs_cov: Tensor,         # [n_dim_obs, n_dim_obs] $R$, observations covariance matrix\n",
    "            trans_off: Tensor,       # [n_dim_state] $b$, state transition offset\n",
    "            obs_off: Tensor,         # [n_dim_obs] $d$, observations offset\n",
    "            init_state_mean: Tensor, # [n_dim_state] $\\mu_0\"$\n",
    "            init_state_cov: Tensor,  # [n_dim_state, n_dim_state] $\\Sigma_0$\n",
    "            n_dim_state: int = None, # Number of dimensions for state - defaults to 1 if cannot be infered from parameters\n",
    "            n_dim_obs: int = None,   # Number of dimensions for observations - defaults to 1 if cannot be infered from parameters\n",
    "            cov_checker: CheckPosDef = CheckPosDef()\n",
    "                ):\n",
    "        \n",
    "        super().__init__()\n",
    "        # check parameters are consistent\n",
    "        self.n_dim_state = _determine_dimensionality(\n",
    "            [(trans_matrix, array2d, -2),\n",
    "             (trans_off, array1d, -1),\n",
    "             (trans_cov, array2d, -2),\n",
    "             (init_state_mean, array1d, -1),\n",
    "             (init_state_cov, array2d, -2),\n",
    "             (obs_matrix, array2d, -1)],\n",
    "            n_dim_state\n",
    "        )\n",
    "        self.n_dim_obs = _determine_dimensionality(\n",
    "            [(obs_matrix, array2d, -2),\n",
    "             (obs_off, array1d, -1),\n",
    "             (obs_cov, array2d, -2)],\n",
    "            n_dim_obs\n",
    "        )\n",
    "        \n",
    "        params = {\n",
    "        #name               value             constraint\n",
    "        'trans_matrix':     [trans_matrix,    None    ],\n",
    "        'trans_off':        [trans_off,       None    ],\n",
    "        'trans_cov':        [trans_cov,       PosDef()],\n",
    "        'obs_matrix':       [obs_matrix,      None    ],\n",
    "        'obs_off':          [obs_off,         None    ],\n",
    "        'obs_cov':          [obs_cov,         PosDef()],\n",
    "        'init_state_mean':  [init_state_mean, None    ],\n",
    "        'init_state_cov':   [init_state_cov,  PosDef()],\n",
    "        }\n",
    "        self._init_params(params)\n",
    "        \n",
    "        self.cov_checker = cov_checker\n",
    "        \n",
    "    def _init_params(self, params):\n",
    "        for name, (value, constraint) in params.items():\n",
    "            if constraint is not None:\n",
    "                name, value = self._init_constraint(name, value, constraint)\n",
    "            self._init_param(name, value, train=True)    \n",
    "    \n",
    "    def _init_param(self, param_name, value, train):\n",
    "        self.register_parameter(param_name, torch.nn.Parameter(value, requires_grad=train))\n",
    "    \n",
    "    ### === Constraints utils\n",
    "    def _init_constraint(self, param_name, value, constraint):\n",
    "        name = param_name + \"_raw\"\n",
    "        value = constraint.inverse_transform(value)\n",
    "        setattr(self, param_name + \"_constraint\", constraint)\n",
    "        return name, value\n",
    "    \n",
    "    def _get_constraint(self, param_name):\n",
    "        constraint = getattr(self, param_name + \"_constraint\")\n",
    "        raw_value = getattr(self, param_name + \"_raw\")\n",
    "        return constraint.transform(raw_value)\n",
    "    \n",
    "    def _set_constraint(self, param_name, value, train=True):\n",
    "        constraint = getattr(self, param_name + \"_constraint\")\n",
    "        raw_value = constraint.inverse_transform(value)\n",
    "        self._init_param(param_name + \"_raw\", raw_value, train)\n",
    "    \n",
    "    ### === Convenience functions to get and set parameters that have a constraint\n",
    "    @property\n",
    "    def trans_cov(self): return self._get_constraint('trans_cov')\n",
    "    @trans_cov.setter\n",
    "    def trans_cov(self, value): return self._set_constraint('trans_cov', value)\n",
    "\n",
    "    @property\n",
    "    def obs_cov(self): return self._get_constraint('obs_cov')\n",
    "    @obs_cov.setter\n",
    "    def obs_cov(self, value): return self._set_constraint('obs_cov', value)\n",
    "    \n",
    "    @property\n",
    "    def init_state_cov(self): return self._get_constraint('init_state_cov')\n",
    "    @init_state_cov.setter\n",
    "    def init_state_cov(self, value): return self._set_constraint('init_state_cov', value)\n",
    "    \n",
    "    \n",
    "    ### === Utility Func    \n",
    "    def _parse_obs(self, obs, mask=None):\n",
    "        \"\"\"get mask from `nan`\"\"\"\n",
    "        if mask is None: mask = ~torch.isnan(obs)\n",
    "        return obs, mask\n",
    "    \n",
    "    def __repr__(self):\n",
    "        return f\"\"\"Kalman Filter\n",
    "        N dim obs: {self.n_dim_obs}, N dim state: {self.n_dim_state}\"\"\""
   ]
  },
  {
   "cell_type": "markdown",
   "id": "29f90bd9-3d5e-42b7-8730-8e08f40309c6",
   "metadata": {},
   "source": [
    "### Constructors"
   ]
  },
  {
   "cell_type": "markdown",
   "id": "eb5af4ff-9ddb-4558-9751-4541c50a682a",
   "metadata": {},
   "source": [
    "Giving all the parameters manually to the `KalmanFilter` init method is not convenient, hence we are having some methods that help initize the class"
   ]
  },
  {
   "cell_type": "markdown",
   "id": "b2aaf4c0-f7ad-4456-84dd-0e9350dcfe49",
   "metadata": {},
   "source": [
    "#### Random parameters"
   ]
  },
  {
   "cell_type": "code",
   "execution_count": null,
   "id": "8d0ca6d4-7547-4557-bc83-4f70500a78e8",
   "metadata": {},
   "outputs": [],
   "source": [
    "@patch(cls_method=True)\n",
    "def init_random(cls: KalmanFilter, n_dim_obs, n_dim_state, dtype=torch.float32):\n",
    "    \"\"\"kalman filter with random parameters\"\"\"\n",
    "    params = {\n",
    "        'trans_matrix':    torch.rand(n_dim_state, n_dim_state, dtype=dtype),\n",
    "        'trans_off':       torch.rand(n_dim_state, dtype=dtype),        \n",
    "        'trans_cov':       to_posdef(torch.rand(n_dim_state, n_dim_state, dtype=dtype)),        \n",
    "        'obs_matrix':      torch.rand(n_dim_obs, n_dim_state, dtype=dtype),\n",
    "        'obs_off':         torch.rand(n_dim_obs, dtype=dtype),          \n",
    "        'obs_cov':         to_posdef(torch.rand(n_dim_obs, n_dim_obs, dtype=dtype)),            \n",
    "        'init_state_mean': torch.rand(n_dim_state, dtype=dtype),        \n",
    "        'init_state_cov':  to_posdef(torch.rand(n_dim_state, n_dim_state, dtype=dtype)),\n",
    "    } \n",
    "    return cls(**params) \n",
    "        "
   ]
  },
  {
   "cell_type": "code",
   "execution_count": null,
   "id": "86fe692e-2586-4c0f-a4b0-d6009d3a14c3",
   "metadata": {},
   "outputs": [
    {
     "data": {
      "text/plain": [
       "Kalman Filter\n",
       "        N dim obs: 3, N dim state: 4"
      ]
     },
     "execution_count": null,
     "metadata": {},
     "output_type": "execute_result"
    }
   ],
   "source": [
    "k = KalmanFilter.init_random(3,4, dtype=torch.float64)\n",
    "k"
   ]
  },
  {
   "cell_type": "code",
   "execution_count": null,
   "id": "1a04324e-6a7f-4744-8113-a2d61c798397",
   "metadata": {},
   "outputs": [
    {
     "data": {
      "text/plain": [
       "tensor([[0.8016, 0.6772, 0.3551, 0.2307],\n",
       "        [0.6772, 1.0154, 0.3157, 0.8042],\n",
       "        [0.3551, 0.3157, 0.4873, 0.4452],\n",
       "        [0.2307, 0.8042, 0.4452, 1.8951]], dtype=torch.float64,\n",
       "       grad_fn=<MmBackward0>)"
      ]
     },
     "execution_count": null,
     "metadata": {},
     "output_type": "execute_result"
    }
   ],
   "source": [
    "k.init_state_cov"
   ]
  },
  {
   "cell_type": "markdown",
   "id": "93f416ff-a54e-4b29-99f7-fc04c3500285",
   "metadata": {},
   "source": [
    "check that assigment works :)"
   ]
  },
  {
   "cell_type": "code",
   "execution_count": null,
   "id": "d6aff8c3-a5bb-4911-a792-b28e54ff88ab",
   "metadata": {},
   "outputs": [],
   "source": [
    "k.init_state_cov = to_posdef(torch.rand(4, 4, dtype=torch.float64))"
   ]
  },
  {
   "cell_type": "code",
   "execution_count": null,
   "id": "d5a5e4bf-3989-4986-8718-6864db9f4cbe",
   "metadata": {},
   "outputs": [
    {
     "data": {
      "text/plain": [
       "Parameter containing:\n",
       "tensor([[0.9134, 0.0000, 0.0000, 0.0000],\n",
       "        [0.1470, 0.0317, 0.0000, 0.0000],\n",
       "        [0.0246, 0.7401, 0.5663, 0.0000],\n",
       "        [0.8266, 0.2884, 0.4673, 0.5200]], dtype=torch.float64,\n",
       "       requires_grad=True)"
      ]
     },
     "execution_count": null,
     "metadata": {},
     "output_type": "execute_result"
    }
   ],
   "source": [
    "k.init_state_cov_raw"
   ]
  },
  {
   "cell_type": "code",
   "execution_count": null,
   "id": "3aedc286-3762-4382-96b9-7a3105170ef5",
   "metadata": {},
   "outputs": [
    {
     "data": {
      "text/plain": [
       "[('trans_matrix',\n",
       "  Parameter containing:\n",
       "  tensor([[0.2465, 0.6241, 0.0668, 0.2462],\n",
       "          [0.3628, 0.9695, 0.1732, 0.8691],\n",
       "          [0.7322, 0.6460, 0.8722, 0.1543],\n",
       "          [0.1916, 0.7642, 0.8182, 0.6880]], dtype=torch.float64,\n",
       "         requires_grad=True)),\n",
       " ('trans_off',\n",
       "  Parameter containing:\n",
       "  tensor([0.4932, 0.3893, 0.5000, 0.5153], dtype=torch.float64,\n",
       "         requires_grad=True)),\n",
       " ('trans_cov_raw',\n",
       "  Parameter containing:\n",
       "  tensor([[0.5359, 0.0000, 0.0000, 0.0000],\n",
       "          [0.3731, 0.5537, 0.0000, 0.0000],\n",
       "          [0.8140, 0.5295, 0.8536, 0.0000],\n",
       "          [0.3290, 0.3177, 0.9150, 0.2056]], dtype=torch.float64,\n",
       "         requires_grad=True)),\n",
       " ('obs_matrix',\n",
       "  Parameter containing:\n",
       "  tensor([[0.9469, 0.4173, 0.8337, 0.0245],\n",
       "          [0.5583, 0.7074, 0.2610, 0.9702],\n",
       "          [0.3830, 0.6747, 0.3639, 0.4944]], dtype=torch.float64,\n",
       "         requires_grad=True)),\n",
       " ('obs_off',\n",
       "  Parameter containing:\n",
       "  tensor([0.2422, 0.5051, 0.0628], dtype=torch.float64, requires_grad=True)),\n",
       " ('obs_cov_raw',\n",
       "  Parameter containing:\n",
       "  tensor([[0.2244, 0.0000, 0.0000],\n",
       "          [0.5015, 0.8442, 0.0000],\n",
       "          [0.8439, 0.2915, 0.3698]], dtype=torch.float64, requires_grad=True)),\n",
       " ('init_state_mean',\n",
       "  Parameter containing:\n",
       "  tensor([0.1409, 0.1981, 0.6858, 0.3361], dtype=torch.float64,\n",
       "         requires_grad=True)),\n",
       " ('init_state_cov_raw',\n",
       "  Parameter containing:\n",
       "  tensor([[0.9134, 0.0000, 0.0000, 0.0000],\n",
       "          [0.1470, 0.0317, 0.0000, 0.0000],\n",
       "          [0.0246, 0.7401, 0.5663, 0.0000],\n",
       "          [0.8266, 0.2884, 0.4673, 0.5200]], dtype=torch.float64,\n",
       "         requires_grad=True))]"
      ]
     },
     "execution_count": null,
     "metadata": {},
     "output_type": "execute_result"
    }
   ],
   "source": [
    "list(k.named_parameters())"
   ]
  },
  {
   "cell_type": "markdown",
   "id": "1fee8a37-d717-4b98-a9fa-71c7fbe5209c",
   "metadata": {},
   "source": [
    "#### Simple parameters"
   ]
  },
  {
   "cell_type": "code",
   "execution_count": null,
   "id": "81636a78-9bcf-4d7f-98c6-95e9180fe787",
   "metadata": {},
   "outputs": [],
   "source": [
    "@patch(cls_method=True)\n",
    "def init_simple(cls: KalmanFilter,\n",
    "                n_dim, # n_dim_obs and n_dim_state\n",
    "                dtype=torch.float32):\n",
    "    \"\"\"Simplest version of kalman filter parameters\"\"\"\n",
    "    return cls(\n",
    "        trans_matrix =     torch.eye(n_dim, dtype=dtype),\n",
    "        trans_off =        torch.zeros(n_dim, dtype=dtype),        \n",
    "        trans_cov =        torch.eye(n_dim, dtype=dtype),        \n",
    "        obs_matrix =       torch.eye(n_dim, dtype=dtype),\n",
    "        obs_off =          torch.zeros(n_dim, dtype=dtype),          \n",
    "        obs_cov =          torch.eye(n_dim, dtype=dtype),            \n",
    "        init_state_mean =  torch.zeros(n_dim, dtype=dtype),        \n",
    "        init_state_cov =   torch.eye(n_dim, dtype=dtype),\n",
    "    )"
   ]
  },
  {
   "cell_type": "code",
   "execution_count": null,
   "id": "d8fa3ea9-92f5-4477-b06a-320df4263da9",
   "metadata": {},
   "outputs": [
    {
     "data": {
      "text/plain": [
       "OrderedDict([('trans_matrix',\n",
       "              tensor([[1., 0.],\n",
       "                      [0., 1.]])),\n",
       "             ('trans_off', tensor([0., 0.])),\n",
       "             ('trans_cov_raw',\n",
       "              tensor([[1., 0.],\n",
       "                      [0., 1.]])),\n",
       "             ('obs_matrix',\n",
       "              tensor([[1., 0.],\n",
       "                      [0., 1.]])),\n",
       "             ('obs_off', tensor([0., 0.])),\n",
       "             ('obs_cov_raw',\n",
       "              tensor([[1., 0.],\n",
       "                      [0., 1.]])),\n",
       "             ('init_state_mean', tensor([0., 0.])),\n",
       "             ('init_state_cov_raw',\n",
       "              tensor([[1., 0.],\n",
       "                      [0., 1.]]))])"
      ]
     },
     "execution_count": null,
     "metadata": {},
     "output_type": "execute_result"
    }
   ],
   "source": [
    "KalmanFilter.init_simple(2).state_dict()"
   ]
  },
  {
   "cell_type": "markdown",
   "id": "68162da7-0e27-4771-90dd-fe3eede49aaa",
   "metadata": {},
   "source": [
    "### Test data"
   ]
  },
  {
   "cell_type": "code",
   "execution_count": null,
   "id": "e8053cda-a75e-422e-866c-12edd329561f",
   "metadata": {},
   "outputs": [],
   "source": [
    "def get_test_data(n_obs = 10, n_dim_obs=3, p_missing=.3, bs=2, dtype=torch.float32):\n",
    "    data = torch.rand(bs, n_obs, n_dim_obs, dtype=dtype)\n",
    "    mask = torch.rand(bs, n_obs, n_dim_obs) > p_missing\n",
    "    data[~mask] = torch.nan # ensure that the missing data cannot be used\n",
    "    return data, mask"
   ]
  },
  {
   "cell_type": "code",
   "execution_count": null,
   "id": "f96a5d04-10b9-47bb-95d0-533ee11344cb",
   "metadata": {},
   "outputs": [
    {
     "data": {
      "text/html": [
       "<div style=\"display: flex; column-gap: 20px; flex-wrap: wrap;\" class='table table-striped table-sm'> <div><p style='font-size: 1.2rem;'>data</p> <pre>tensor([[[0.9847, 0.0852, 0.5334],\n",
       "         [   nan, 0.2617, 0.7972],\n",
       "         [0.2088, 0.4545, 0.1455],\n",
       "         [   nan,    nan, 0.2881],\n",
       "         [   nan, 0.9087,    nan],\n",
       "         [0.5610, 0.9079, 0.2507],\n",
       "         [   nan, 0.7851, 0.0212],\n",
       "         [   nan, 0.6513, 0.3955],\n",
       "         [0.8111, 0.2558, 0.7570],\n",
       "         [   nan,    nan,    nan]],\n",
       "\n",
       "        [[   nan, 0.2511, 0.4720],\n",
       "         [0.6684,    nan, 0.1489],\n",
       "         [0.6714, 0.4719, 0.5053],\n",
       "         [   nan, 0.7793, 0.3246],\n",
       "         [   nan,    nan,    nan],\n",
       "         [0.8191, 0.7040, 0.3264],\n",
       "         [0.0842,    nan,    nan],\n",
       "         [   nan, 0.3308, 0.7610],\n",
       "         [0.3228, 0.0961, 0.3075],\n",
       "         [0.0947, 0.4745,    nan]]])</pre> </div><div><p style='font-size: 1.2rem;'>mask</p> <pre>tensor([[[ True,  True,  True],\n",
       "         [False,  True,  True],\n",
       "         [ True,  True,  True],\n",
       "         [False, False,  True],\n",
       "         [False,  True, False],\n",
       "         [ True,  True,  True],\n",
       "         [False,  True,  True],\n",
       "         [False,  True,  True],\n",
       "         [ True,  True,  True],\n",
       "         [False, False, False]],\n",
       "\n",
       "        [[False,  True,  True],\n",
       "         [ True, False,  True],\n",
       "         [ True,  True,  True],\n",
       "         [False,  True,  True],\n",
       "         [False, False, False],\n",
       "         [ True,  True,  True],\n",
       "         [ True, False, False],\n",
       "         [False,  True,  True],\n",
       "         [ True,  True,  True],\n",
       "         [ True,  True, False]]])</pre> </div></div>"
      ],
      "text/plain": [
       "<IPython.core.display.HTML object>"
      ]
     },
     "metadata": {},
     "output_type": "display_data"
    }
   ],
   "source": [
    "reset_seed()\n",
    "data, mask = get_test_data()\n",
    "show_as_row(data, mask)"
   ]
  },
  {
   "cell_type": "markdown",
   "id": "82b38261-acb1-45f5-a12b-7668b5f78bfb",
   "metadata": {},
   "source": [
    "### Filter"
   ]
  },
  {
   "cell_type": "markdown",
   "id": "a7ca368e-9a56-46b2-bbcb-42e561107a88",
   "metadata": {},
   "source": [
    "#### Filter predict"
   ]
  },
  {
   "cell_type": "markdown",
   "id": "282a138c-0eab-4e6e-8847-274fe2bcb874",
   "metadata": {},
   "source": [
    "Probability of state at time `t` given state a time `t-1` \n",
    "\n",
    "$p(x_t) = \\mathcal{N}(x_t; m_t^-, P_t^-)$ where:\n",
    "\n",
    "- predicted state mean: $m_t^- = Am_{t-1} + B c_t + b$  \n",
    "\n",
    "- predicted state covariance: $P_t^- = AP_{t-1}A^T + Q$"
   ]
  },
  {
   "cell_type": "code",
   "execution_count": null,
   "id": "935e06ec-05cf-4521-ad9d-26f3be41eb1c",
   "metadata": {},
   "outputs": [],
   "source": [
    "#| export\n",
    "from datetime import datetime\n",
    "def _filter_predict(trans_matrix,\n",
    "                    trans_cov,\n",
    "                    trans_off,\n",
    "                    curr_state_mean,\n",
    "                    curr_state_cov,\n",
    "                    control_matrix=0,\n",
    "                    control=0,\n",
    "                    cov_checker=CheckPosDef()):\n",
    "    r\"\"\"Calculate the state at time `t+1` given the state at time `t`\"\"\"\n",
    "    pred_state_mean = trans_matrix.unsqueeze(0) @ curr_state_mean + trans_off.unsqueeze(-1)\n",
    "    pred_state_cov =  trans_matrix.unsqueeze(0) @ curr_state_cov @ trans_matrix.unsqueeze(0).mT + trans_cov.unsqueeze(0)\n",
    "\n",
    "    cov_checker.check(pred_state_cov, caller='filter_predict')\n",
    "    return (pred_state_mean, pred_state_cov)"
   ]
  },
  {
   "cell_type": "code",
   "execution_count": null,
   "id": "3ccd3c49-06f9-43c9-ab7d-28f6631652cc",
   "metadata": {},
   "outputs": [],
   "source": [
    "trans_matrix, trans_cov, trans_off,curr_state_mean,curr_state_cov = (k.trans_matrix, k.trans_cov, k.trans_off,\n",
    "                                                  torch.stack([k.init_state_mean]*2).unsqueeze(-1),\n",
    "                                                  torch.stack([k.init_state_cov]*2))"
   ]
  },
  {
   "cell_type": "code",
   "execution_count": null,
   "id": "27363d30-7799-4ac7-ac81-b6d58e46b633",
   "metadata": {},
   "outputs": [],
   "source": [
    "pred_state_mean, pred_state_cov = _filter_predict(trans_matrix, trans_cov, trans_off,curr_state_mean,curr_state_cov)"
   ]
  },
  {
   "cell_type": "code",
   "execution_count": null,
   "id": "85cf0029-c23b-4091-8761-3bd689621331",
   "metadata": {},
   "outputs": [
    {
     "data": {
      "text/html": [
       "<div style=\"display: flex; column-gap: 20px; flex-wrap: wrap;\" class='table table-striped table-sm'> <div><p style='font-size: 1.2rem;'>pred_state_mean</p> <pre>tensor([[[0.7802],\n",
       "         [1.0434],\n",
       "         [1.3811],\n",
       "         [1.4860]],\n",
       "\n",
       "        [[0.7802],\n",
       "         [1.0434],\n",
       "         [1.3811],\n",
       "         [1.4860]]], dtype=torch.float64, grad_fn=<AddBackward0>)</pre> </div><div><p style='font-size: 1.2rem;'>pred_state_cov</p> <pre>tensor([[[0.6192, 1.0170, 1.1092, 0.9157],\n",
       "         [1.0170, 2.5039, 2.3017, 2.2437],\n",
       "         [1.1092, 2.3017, 3.3362, 3.0781],\n",
       "         [0.9157, 2.2437, 3.0781, 3.2862]],\n",
       "\n",
       "        [[0.6192, 1.0170, 1.1092, 0.9157],\n",
       "         [1.0170, 2.5039, 2.3017, 2.2437],\n",
       "         [1.1092, 2.3017, 3.3362, 3.0781],\n",
       "         [0.9157, 2.2437, 3.0781, 3.2862]]], dtype=torch.float64,\n",
       "       grad_fn=<AddBackward0>)</pre> </div></div>"
      ],
      "text/plain": [
       "<IPython.core.display.HTML object>"
      ]
     },
     "metadata": {},
     "output_type": "display_data"
    }
   ],
   "source": [
    "show_as_row(pred_state_mean, pred_state_cov)"
   ]
  },
  {
   "cell_type": "code",
   "execution_count": null,
   "id": "64cab28f-86a6-4bdd-b591-fc51153b891f",
   "metadata": {},
   "outputs": [
    {
     "data": {
      "text/html": [
       "<div style=\"display: flex; column-gap: 20px; flex-wrap: wrap;\" class='table table-striped table-sm'> <div><p style='font-size: 1.2rem;'></p> <pre>torch.Size([2, 4, 1])</pre> </div><div><p style='font-size: 1.2rem;'></p> <pre>torch.Size([2, 4, 4])</pre> </div></div>"
      ],
      "text/plain": [
       "<IPython.core.display.HTML object>"
      ]
     },
     "metadata": {},
     "output_type": "display_data"
    }
   ],
   "source": [
    "show_as_row(pred_state_mean.shape, pred_state_cov.shape)"
   ]
  },
  {
   "cell_type": "markdown",
   "id": "99e62fe3-a580-4f1d-aa20-8c5de1d90cb6",
   "metadata": {},
   "source": [
    "#### Filter correct"
   ]
  },
  {
   "cell_type": "markdown",
   "id": "834a0734-30f7-481e-bad8-94aeae770a2a",
   "metadata": {},
   "source": [
    "Probability of state at time `t` given the observations at time `t`\n",
    "\n",
    "$p(x_t|y_t) = \\mathcal{N}(x_t; m_t, P_t)$ where:\n",
    "\n",
    "- predicted obs mean: $z_t = Hm_t^-$  \n",
    "\n",
    "- prediced obs covariance: $S_t = HP_t^-H^T + R$\n",
    "\n",
    "- kalman gain$K_t = P_t^-H^TS_t^{-1}$ \n",
    "\n",
    "- corrected state mean: $m_t = m_t^- + K_t(y_t - z_t)$ \n",
    "\n",
    "- corrected state covariance: $P_t = (I-K_tH)P_t^-$ \n",
    "\n",
    "if the observation are missing this step is skipped and the corrected state is equal to the predicted state\n"
   ]
  },
  {
   "cell_type": "code",
   "execution_count": null,
   "id": "23b11e2a",
   "metadata": {},
   "outputs": [],
   "source": [
    "#| export\n",
    "def _filter_correct(obs_matrix,\n",
    "                    obs_cov,\n",
    "                    obs_off,\n",
    "                    pred_state_mean,\n",
    "                    pred_state_cov,\n",
    "                    obs,\n",
    "                    mask,\n",
    "                    cov_checker=CheckPosDef()):\n",
    "    \"\"\"Update state at time `t` given observations at time `t`\"\"\"\n",
    "    \n",
    "    pred_obs_mean = obs_matrix.unsqueeze(0) @ pred_state_mean + obs_off.unsqueeze(-1) # extra dim needed to hae batched matmul working\n",
    "    pred_obs_cov = obs_matrix.unsqueeze(0) @ pred_state_cov @ obs_matrix.unsqueeze(0).mT + obs_cov\n",
    "\n",
    "    kalman_gain = pred_state_cov @ obs_matrix.T @ torch.cholesky_inverse(torch.linalg.cholesky(pred_obs_cov))\n",
    "\n",
    "    corr_state_mean = pred_state_mean + kalman_gain @ (obs.unsqueeze(-1) - pred_obs_mean)\n",
    "    corr_state_cov = pred_state_cov - kalman_gain @ obs_matrix @ pred_state_cov\n",
    "    \n",
    "    mask = mask.all(-1) # if any observation is missing need to discard the whole vector\n",
    "    corr_state_mean[~mask] = pred_state_mean[~mask]\n",
    "    corr_state_cov[~mask] = pred_state_cov[~mask]\n",
    "\n",
    "    cov_checker.check(pred_state_cov, caller='filter_correct')\n",
    "    return (kalman_gain, corr_state_mean, corr_state_cov)"
   ]
  },
  {
   "cell_type": "code",
   "execution_count": null,
   "id": "9ac44c82-b204-4354-9e83-b697d28751b7",
   "metadata": {},
   "outputs": [],
   "source": [
    "obs_matrix, obs_cov, obs_off,obs, mm = (k.obs_matrix, k.obs_cov, k.obs_off, data[:,0,:], mask[:,0,:])"
   ]
  },
  {
   "cell_type": "code",
   "execution_count": null,
   "id": "5f3bd23c-872a-45ff-8f79-132d0e414d09",
   "metadata": {},
   "outputs": [],
   "source": [
    "k_gain, corr_s_mean, corr_s_cov = _filter_correct(obs_matrix, obs_cov, obs_offset, pred_state_mean, pred_state_cov, obs, mm)"
   ]
  },
  {
   "cell_type": "code",
   "execution_count": null,
   "id": "462ca23f-1900-4330-8660-f7a97fd1f573",
   "metadata": {},
   "outputs": [
    {
     "data": {
      "text/html": [
       "<div style=\"display: flex; column-gap: 20px; flex-wrap: wrap;\" class='table table-striped table-sm'> <div><p style='font-size: 1.2rem;'>k_gain</p> <pre>tensor([[[ 0.4487, -0.0872, -0.0887],\n",
       "         [ 0.3509,  0.0941,  0.0479],\n",
       "         [ 0.6473,  0.1656, -0.2276],\n",
       "         [ 0.1256,  0.4930, -0.1658]],\n",
       "\n",
       "        [[ 0.4487, -0.0872, -0.0887],\n",
       "         [ 0.3509,  0.0941,  0.0479],\n",
       "         [ 0.6473,  0.1656, -0.2276],\n",
       "         [ 0.1256,  0.4930, -0.1658]]], dtype=torch.float64,\n",
       "       grad_fn=<UnsafeViewBackward0>)</pre> </div><div><p style='font-size: 1.2rem;'>corr_s_mean</p> <pre>tensor([[[ 0.5066],\n",
       "         [ 0.0707],\n",
       "         [ 0.1733],\n",
       "         [-0.0983]],\n",
       "\n",
       "        [[ 0.7802],\n",
       "         [ 1.0434],\n",
       "         [ 1.3811],\n",
       "         [ 1.4860]]], dtype=torch.float64, grad_fn=<IndexPutBackward0>)</pre> </div><div><p style='font-size: 1.2rem;'>corr_s_cov</p> <pre>tensor([[[ 0.0941,  0.0337, -0.1245, -0.1411],\n",
       "         [ 0.0337,  0.4323, -0.2066, -0.1118],\n",
       "         [-0.1245, -0.2066,  0.2475,  0.2383],\n",
       "         [-0.1411, -0.1118,  0.2383,  0.4888]],\n",
       "\n",
       "        [[ 0.6192,  1.0170,  1.1092,  0.9157],\n",
       "         [ 1.0170,  2.5039,  2.3017,  2.2437],\n",
       "         [ 1.1092,  2.3017,  3.3362,  3.0781],\n",
       "         [ 0.9157,  2.2437,  3.0781,  3.2862]]], dtype=torch.float64,\n",
       "       grad_fn=<IndexPutBackward0>)</pre> </div></div>"
      ],
      "text/plain": [
       "<IPython.core.display.HTML object>"
      ]
     },
     "metadata": {},
     "output_type": "display_data"
    }
   ],
   "source": [
    "show_as_row(k_gain, corr_s_mean, corr_s_cov)"
   ]
  },
  {
   "cell_type": "code",
   "execution_count": null,
   "id": "04f97fc1-42d2-42c8-b945-af011456121d",
   "metadata": {},
   "outputs": [
    {
     "data": {
      "text/html": [
       "<div style=\"display: flex; column-gap: 20px; flex-wrap: wrap;\" class='table table-striped table-sm'> <div><p style='font-size: 1.2rem;'></p> <pre>torch.Size([2, 4, 3])</pre> </div><div><p style='font-size: 1.2rem;'></p> <pre>torch.Size([2, 4, 1])</pre> </div><div><p style='font-size: 1.2rem;'></p> <pre>torch.Size([2, 4, 4])</pre> </div></div>"
      ],
      "text/plain": [
       "<IPython.core.display.HTML object>"
      ]
     },
     "metadata": {},
     "output_type": "display_data"
    }
   ],
   "source": [
    "show_as_row(*map(lambda x:x.shape, (k_gain, corr_s_mean, corr_s_cov,)))"
   ]
  },
  {
   "cell_type": "code",
   "execution_count": null,
   "id": "749a843b-41ff-427e-be97-28b6d188f5d1",
   "metadata": {},
   "outputs": [],
   "source": [
    "test_close(corr_s_mean[1], pred_state_mean[1]) # correctly ignoring the missing data"
   ]
  },
  {
   "cell_type": "code",
   "execution_count": null,
   "id": "d4ee11fd-ec1c-495e-9e41-cd70717206a1",
   "metadata": {},
   "outputs": [],
   "source": [
    "corr_s_mean.sum().backward(retain_graph=True) # check that pytorch can compute gradients with the whole batch"
   ]
  },
  {
   "cell_type": "markdown",
   "id": "173294f6-f74b-4a93-9ba6-c4695284d125",
   "metadata": {},
   "source": [
    "#### Filter"
   ]
  },
  {
   "cell_type": "markdown",
   "id": "1e345bda-8a17-44be-bd6f-15f5608ac220",
   "metadata": {},
   "source": [
    "The resursive version of the kalman filter is apperently breaking pytorch gradients calculations so a workaround is needed.\n",
    "During the loop the states are saved in a python list and then at the end they are combined back into a tensor.\n",
    "The last line of the function does:\n",
    "\n",
    "- convert lists to tensors\n",
    "- correct order dimensions"
   ]
  },
  {
   "cell_type": "code",
   "execution_count": null,
   "id": "49b44fc6-a9f5-4873-8610-c889c9a1b6b8",
   "metadata": {},
   "outputs": [],
   "source": [
    "#| export\n",
    "def _times2batc(x):\n",
    "    \"\"\"Permutes `x` so that the first dimension is the number of batches and not the times\"\"\"\n",
    "    return x.permute(1,0,-2,-1)"
   ]
  },
  {
   "cell_type": "code",
   "execution_count": null,
   "id": "2f045ed4-40bc-4451-b836-5bc4e5b4d4b9",
   "metadata": {},
   "outputs": [],
   "source": [
    "#| export\n",
    "def _filter(trans_matrix, obs_matrix,\n",
    "            trans_cov, obs_cov,\n",
    "            trans_off, obs_off,\n",
    "            init_state_mean, init_state_cov,\n",
    "            obs, mask,\n",
    "            cov_checker=CheckPosDef()\n",
    "           ) ->Tuple[List, List, List, List]: # pred_state_means, pred_state_covs, filt_state_means, filt_state_covs\n",
    "    \"\"\"Filter observations using kalman filter \"\"\"\n",
    "    n_timesteps = obs.shape[-2]\n",
    "    bs = obs.shape[0]\n",
    "    # lists are mutable so need to copy them\n",
    "    pred_state_means, pred_state_covs, filt_state_means, filt_state_covs = [[None for _ in range(n_timesteps)].copy() for _ in range(4)] \n",
    "\n",
    "    for t in range(n_timesteps):\n",
    "        if t == 0:\n",
    "            pred_state_means[t], pred_state_covs[t] = torch.stack([init_state_mean]*bs).unsqueeze(-1), torch.stack([init_state_cov]*bs)\n",
    "        else:\n",
    "            pred_state_means[t], pred_state_covs[t] = _filter_predict(trans_matrix, trans_cov, trans_offset,\n",
    "                                                                      filt_state_means[t - 1], filt_state_covs[t - 1],\n",
    "                                                                      cov_checker.add_args(t=t))\n",
    "\n",
    "        _, filt_state_means[t], filt_state_covs[t] = _filter_correct(obs_matrix, obs_cov, obs_off,\n",
    "                                                                     pred_state_means[t], pred_state_covs[t],\n",
    "                                                                     obs[:,t,:], mask[:,t,:],\n",
    "                                                                     cov_checker.add_args(t=t))\n",
    "    \n",
    "    ret = maps(torch.stack, _times2batch, (pred_state_means, pred_state_covs, filt_state_means, filt_state_covs,))\n",
    "    return ret"
   ]
  },
  {
   "cell_type": "code",
   "execution_count": null,
   "id": "c8a89f73-5006-44db-bf7d-2a50cc7c5935",
   "metadata": {},
   "outputs": [],
   "source": [
    "obs, init_state_mean, init_state_cov = data, k.init_state_mean, k.init_state_cov"
   ]
  },
  {
   "cell_type": "code",
   "execution_count": null,
   "id": "1fdc67a7-1a3f-4920-810d-03c968cdf86a",
   "metadata": {},
   "outputs": [],
   "source": [
    "pred_state_means, pred_state_covs, filt_state_means, filt_state_covs = _filter(trans_matrix, obs_matrix, trans_cov, obs_cov, trans_off, obs_off, init_state_mean, init_state_cov, data, mask)"
   ]
  },
  {
   "cell_type": "markdown",
   "id": "a90a2d45-baed-4c3b-9a3a-2994e5a7a278",
   "metadata": {},
   "source": [
    "Predictions at time `0` for both batches"
   ]
  },
  {
   "cell_type": "code",
   "execution_count": null,
   "id": "fef85013-d727-4bdd-ba84-a31ba313d3a7",
   "metadata": {},
   "outputs": [
    {
     "data": {
      "text/html": [
       "<div style=\"display: flex; column-gap: 20px; flex-wrap: wrap;\" class='table table-striped table-sm'> <div><p style='font-size: 1.2rem;'></p> <pre>torch.Size([2, 10, 4, 1])</pre> </div><div><p style='font-size: 1.2rem;'></p> <pre>torch.Size([2, 10, 4, 4])</pre> </div><div><p style='font-size: 1.2rem;'></p> <pre>torch.Size([2, 10, 4, 1])</pre> </div><div><p style='font-size: 1.2rem;'></p> <pre>torch.Size([2, 10, 4, 4])</pre> </div></div>"
      ],
      "text/plain": [
       "<IPython.core.display.HTML object>"
      ]
     },
     "metadata": {},
     "output_type": "display_data"
    }
   ],
   "source": [
    "show_as_row(*map(Self.shape(), (pred_state_means, pred_state_covs, filt_state_means, filt_state_covs,)))"
   ]
  },
  {
   "cell_type": "code",
   "execution_count": null,
   "id": "f93a4e7d-8a82-4c8a-be3f-7c6f63278258",
   "metadata": {},
   "outputs": [
    {
     "data": {
      "text/html": [
       "<div style=\"display: flex; column-gap: 20px; flex-wrap: wrap;\" class='table table-striped table-sm'> <div><p style='font-size: 1.2rem;'></p> <pre>tensor([[0.1409],\n",
       "        [0.1981],\n",
       "        [0.6858],\n",
       "        [0.3361]], dtype=torch.float64, grad_fn=<SelectBackward0>)</pre> </div><div><p style='font-size: 1.2rem;'></p> <pre>tensor([[0.8344, 0.1343, 0.0224, 0.7551],\n",
       "        [0.1343, 0.0226, 0.0271, 0.1306],\n",
       "        [0.0224, 0.0271, 0.8690, 0.4984],\n",
       "        [0.7551, 0.1306, 0.4984, 1.2552]], dtype=torch.float64,\n",
       "       grad_fn=<SelectBackward0>)</pre> </div><div><p style='font-size: 1.2rem;'></p> <pre>tensor([[-0.1441],\n",
       "        [ 0.1613],\n",
       "        [ 0.8924],\n",
       "        [-0.0733]], dtype=torch.float64, grad_fn=<SelectBackward0>)</pre> </div><div><p style='font-size: 1.2rem;'></p> <pre>tensor([[ 0.3057,  0.0396, -0.3622,  0.0305],\n",
       "        [ 0.0396,  0.0055, -0.0467,  0.0016],\n",
       "        [-0.3622, -0.0467,  0.4488, -0.0138],\n",
       "        [ 0.0305,  0.0016, -0.0138,  0.2507]], dtype=torch.float64,\n",
       "       grad_fn=<SelectBackward0>)</pre> </div></div>"
      ],
      "text/plain": [
       "<IPython.core.display.HTML object>"
      ]
     },
     "metadata": {},
     "output_type": "display_data"
    }
   ],
   "source": [
    "show_as_row(*map(lambda x:x[0][0], (pred_state_means, pred_state_covs, filt_state_means, filt_state_covs,)))"
   ]
  },
  {
   "cell_type": "markdown",
   "id": "9f928bd5-604f-4a0d-9379-46aba21e31d8",
   "metadata": {},
   "source": [
    "#### KalmanFilter method"
   ]
  },
  {
   "cell_type": "code",
   "execution_count": null,
   "id": "ebcccf0f-e431-4a38-88f2-5630adf974b9",
   "metadata": {},
   "outputs": [],
   "source": [
    "#| export\n",
    "@patch\n",
    "def _filter_all(self: KalmanFilter, obs, mask=None, cov_checker=CheckPosDef()\n",
    "               ) ->Tuple[List, List, List, List]: # pred_state_means, pred_state_covs, filt_state_means, filt_state_covs\n",
    "    \"\"\" wrapper around `_filter`\"\"\"\n",
    "    obs, mask = self._parse_obs(obs, mask)\n",
    "    return _filter(\n",
    "            self.trans_matrix, self.obs_matrix,\n",
    "            self.trans_cov, self.obs_cov,\n",
    "            self.trans_off, self.obs_off,\n",
    "            self.init_state_mean, self.init_state_cov,\n",
    "            obs, mask,\n",
    "            cov_checker\n",
    "        )"
   ]
  },
  {
   "cell_type": "code",
   "execution_count": null,
   "id": "88522f5b-88b8-4357-af60-11d2a322898b",
   "metadata": {},
   "outputs": [],
   "source": [
    "pred_mean, _, _, _ = k._filter_all(obs);"
   ]
  },
  {
   "cell_type": "code",
   "execution_count": null,
   "id": "0245e567-161f-4a63-89d9-c68e6553a05c",
   "metadata": {},
   "outputs": [],
   "source": [
    "pred_mean.sum().backward(retain_graph=True) # it works!"
   ]
  },
  {
   "cell_type": "markdown",
   "id": "745027b0-63f0-459f-ad1f-b29c23454dac",
   "metadata": {},
   "source": [
    "The filter methods wraps `_filter_all` but in addition:\n",
    "\n",
    "- returns only filtered state\n",
    "- detach tensors"
   ]
  },
  {
   "cell_type": "code",
   "execution_count": null,
   "id": "4d970ee1-3e3f-4707-9f97-3874ad7643b1",
   "metadata": {},
   "outputs": [],
   "source": [
    "@patch\n",
    "def filter(self: KalmanFilter,\n",
    "          obs: Tensor, # [n_timesteps, n_dim_obs] obs for times [0...n_timesteps-1]\n",
    "          mask = None,\n",
    "          cov_checker=CheckPosDef()\n",
    "          ) -> ListMNormal: # Filtered state\n",
    "    \"\"\"Filter observation\"\"\"\n",
    "    _, _, filt_state_means, filt_state_covs = self._filter_all(obs, mask, cov_checker)\n",
    "    return ListMNormal(filt_state_means.squeeze(-1), filt_state_covs)"
   ]
  },
  {
   "cell_type": "code",
   "execution_count": null,
   "id": "78611868-2c0b-4e56-aa24-102530648002",
   "metadata": {},
   "outputs": [
    {
     "data": {
      "text/plain": [
       "(torch.Size([2, 10, 4]), torch.Size([2, 10, 4, 4]))"
      ]
     },
     "execution_count": null,
     "metadata": {},
     "output_type": "execute_result"
    }
   ],
   "source": [
    "filt = k.filter(obs)\n",
    "filt.mean.shape, filt.cov.shape"
   ]
  },
  {
   "cell_type": "markdown",
   "id": "f8d2f1bf-34cd-4e87-a239-2662f6689a53",
   "metadata": {},
   "source": [
    "### Smooth"
   ]
  },
  {
   "cell_type": "markdown",
   "id": "ff2a1878-4e69-4ead-a7b8-cf7dbae5d13e",
   "metadata": {},
   "source": [
    "#### Smooth step"
   ]
  },
  {
   "cell_type": "markdown",
   "id": "8a2e8c24-b7ce-4e7a-9bfa-82c9dd246080",
   "metadata": {},
   "source": [
    "compute the probability of the state at time `t` given all the observations\n",
    "\n",
    "$p(x_t|Y) = \\mathcal{N}(x_t; m_t^s, P_t^s)$ where:\n",
    "\n",
    "- Kalman smoothing gain: $G_t = P_tA^T(P_{t+1}^-)^{-1}$\n",
    "- smoothed mean: $m_t^s = m_t + G_t(m_{t+1}^s - m_{t+1}^-)$\n",
    "- smoothed covariance: $P_t^s = P_t + G_t(P_t{t+1}^s - P_t{t+1}^-)G_t^T$"
   ]
  },
  {
   "cell_type": "code",
   "execution_count": null,
   "id": "57d5c739-3863-40a5-8b96-1ee12c476ca9",
   "metadata": {},
   "outputs": [],
   "source": [
    "#| export\n",
    "def _smooth_update(trans_matrix,                # [n_dim_state, n_dim_state]\n",
    "                   filt_state: MNormal,         # [n_dim_state] filtered state at time `t`\n",
    "                   pred_state: MNormal,         # [n_dim_state] state before filtering at time `t + 1` (= using the observation until time t)\n",
    "                   next_smoothed_state: Normal, # [n_dim_state] smoothed state at time  `t+1`\n",
    "                   cov_checker = CheckPosDef()\n",
    "                   ) -> MNormal:                # mean and cov of smoothed state at time `t`\n",
    "    \"\"\"Correct a pred state with a Kalman Smoother update\"\"\"\n",
    "    kalman_smoothing_gain = filt_state.cov @ trans_matrix.unsqueeze(0).mT @ torch.cholesky_inverse(torch.linalg.cholesky(pred_state.cov))\n",
    "\n",
    "    smoothed_state_mean = filt_state.mean + kalman_smoothing_gain @ (next_smoothed_state.mean - pred_state.mean)\n",
    "    smoothed_state_cov = filt_state.cov + kalman_smoothing_gain @ (next_smoothed_state.cov - pred_state.cov) @ kalman_smoothing_gain.mT\n",
    "\n",
    "    cov_checker.check(smoothed_state_cov, caller='smooth_update')\n",
    "    \n",
    "    return MNormal(smoothed_state_mean, smoothed_state_cov)"
   ]
  },
  {
   "cell_type": "code",
   "execution_count": null,
   "id": "9ac05405-3656-45e1-a818-136858b36fcb",
   "metadata": {},
   "outputs": [],
   "source": [
    "filt_state, pred_state, next_smoothed_state = [MNormal(pred_state_mean, pred_state_cov)] * 3 # just for testing"
   ]
  },
  {
   "cell_type": "code",
   "execution_count": null,
   "id": "8a7f46d1-5d5e-48fa-92d7-cb37e715d2d7",
   "metadata": {},
   "outputs": [
    {
     "data": {
      "text/html": [
       "<div style=\"display: flex; column-gap: 20px; flex-wrap: wrap;\" class='table table-striped table-sm'> <div><p style='font-size: 1.2rem;'></p> <pre>tensor([[[0.7802],\n",
       "         [1.0434],\n",
       "         [1.3811],\n",
       "         [1.4860]],\n",
       "\n",
       "        [[0.7802],\n",
       "         [1.0434],\n",
       "         [1.3811],\n",
       "         [1.4860]]], dtype=torch.float64, grad_fn=<AddBackward0>)</pre> </div><div><p style='font-size: 1.2rem;'></p> <pre>tensor([[[0.6192, 1.0170, 1.1092, 0.9157],\n",
       "         [1.0170, 2.5039, 2.3017, 2.2437],\n",
       "         [1.1092, 2.3017, 3.3362, 3.0781],\n",
       "         [0.9157, 2.2437, 3.0781, 3.2862]],\n",
       "\n",
       "        [[0.6192, 1.0170, 1.1092, 0.9157],\n",
       "         [1.0170, 2.5039, 2.3017, 2.2437],\n",
       "         [1.1092, 2.3017, 3.3362, 3.0781],\n",
       "         [0.9157, 2.2437, 3.0781, 3.2862]]], dtype=torch.float64,\n",
       "       grad_fn=<AddBackward0>)</pre> </div></div>"
      ],
      "text/plain": [
       "<IPython.core.display.HTML object>"
      ]
     },
     "metadata": {},
     "output_type": "display_data"
    }
   ],
   "source": [
    "show_as_row(*_smooth_update(trans_matrix, MNormal(pred_state_mean, pred_state_cov), MNormal(pred_state_mean, pred_state_cov), MNormal(pred_state_mean, pred_state_cov)))"
   ]
  },
  {
   "cell_type": "code",
   "execution_count": null,
   "id": "4718e339-fc4f-4794-a3d2-d72ef59d16ca",
   "metadata": {},
   "outputs": [
    {
     "data": {
      "text/html": [
       "<div style=\"display: flex; column-gap: 20px; flex-wrap: wrap;\" class='table table-striped table-sm'> <div><p style='font-size: 1.2rem;'></p> <pre>torch.Size([2, 4, 1])</pre> </div><div><p style='font-size: 1.2rem;'></p> <pre>torch.Size([2, 4, 4])</pre> </div></div>"
      ],
      "text/plain": [
       "<IPython.core.display.HTML object>"
      ]
     },
     "metadata": {},
     "output_type": "display_data"
    }
   ],
   "source": [
    "show_as_row(*map(Self.shape(), _smooth_update(trans_matrix, MNormal(pred_state_mean, pred_state_cov), MNormal(pred_state_mean, pred_state_cov), MNormal(pred_state_mean, pred_state_cov))))"
   ]
  },
  {
   "cell_type": "code",
   "execution_count": null,
   "id": "7c46309f-70f9-419f-91fc-607ec3e79d77",
   "metadata": {},
   "outputs": [],
   "source": [
    "#| export\n",
    "def _smooth(trans_matrices, # `[n_dim_state, n_dim_state]`\n",
    "            filt_state: ListMNormal, # `[n_timesteps, n_dim_state]`\n",
    "                # `filt_state_means[t]` is the state estimate for time t given obs from times `[0...t]`\n",
    "            pred_state: ListMNormal, # `[n_timesteps, n_dim_state]`\n",
    "                # `pred_state_means[t]` is the state estimate for time t given obs from times `[0...t-1]`\n",
    "            cov_checker = CheckPosDef()\n",
    "           ) -> ListMNormal: # `[n_timesteps, n_dim_state]` Smoothed state \n",
    "    \"\"\"Apply the Kalman Smoother\"\"\"\n",
    "    x = pred_state.mean # sample for getting tensor properties\n",
    "    bs, n_timesteps, n_dim_state = x.shape[0], x.shape[1], x.shape[2]\n",
    "\n",
    "    smoothed_state = ListMNormal(torch.zeros((bs, n_timesteps,n_dim_state,1),             dtype=x.dtype, device=x.device), \n",
    "                                 torch.zeros((bs, n_timesteps, n_dim_state,n_dim_state), dtype=x.dtype, device=x.device))\n",
    "    # For the last timestep cannot use the smoother\n",
    "    smoothed_state.mean[:,-1,] = filt_state.mean[:,-1]\n",
    "    smoothed_state.cov[:,-1] = filt_state.cov[:,-1]\n",
    "\n",
    "    for t in reversed(range(n_timesteps - 1)):\n",
    "        (smoothed_state.mean[:,t], smoothed_state.cov[:,t]) = (\n",
    "            _smooth_update(\n",
    "                trans_matrix,\n",
    "                filt_state[:,t],\n",
    "                pred_state[:,t + 1],\n",
    "                smoothed_state[:,t+1],\n",
    "            )\n",
    "        )\n",
    "    return smoothed_state"
   ]
  },
  {
   "cell_type": "code",
   "execution_count": null,
   "id": "78f79457-da68-429c-8edd-860860380cbc",
   "metadata": {},
   "outputs": [],
   "source": [
    "(pred_state_means, pred_state_covs, filt_state_means, filt_state_covs ) = k._filter_all(data)\n",
    "filt_state, pred_state = ListMNormal(filt_state_means, filt_state_covs), ListMNormal(pred_state_means, pred_state_covs)"
   ]
  },
  {
   "cell_type": "code",
   "execution_count": null,
   "id": "5475b7ee-c9df-4aca-b490-2f4a2b331d4e",
   "metadata": {},
   "outputs": [],
   "source": [
    "smooth_state = _smooth(k.trans_matrix,  filt_state, pred_state)"
   ]
  },
  {
   "cell_type": "code",
   "execution_count": null,
   "id": "2dd198a6-1513-406f-904f-28088d02e0ad",
   "metadata": {},
   "outputs": [
    {
     "data": {
      "text/html": [
       "<div style=\"display: flex; column-gap: 20px; flex-wrap: wrap;\" class='table table-striped table-sm'> <div><p style='font-size: 1.2rem;'></p> <pre>tensor([[-0.1181],\n",
       "        [ 0.1661],\n",
       "        [ 0.8274],\n",
       "        [-0.2972]], dtype=torch.float64, grad_fn=<SelectBackward0>)</pre> </div><div><p style='font-size: 1.2rem;'></p> <pre>tensor([[ 0.2884,  0.0374, -0.3408,  0.0317],\n",
       "        [ 0.0374,  0.0052, -0.0439,  0.0019],\n",
       "        [-0.3408, -0.0439,  0.4217, -0.0195],\n",
       "        [ 0.0317,  0.0019, -0.0195,  0.2228]], dtype=torch.float64,\n",
       "       grad_fn=<SelectBackward0>)</pre> </div></div>"
      ],
      "text/plain": [
       "<IPython.core.display.HTML object>"
      ]
     },
     "metadata": {},
     "output_type": "display_data"
    }
   ],
   "source": [
    "show_as_row(smooth_state.mean[0][0], smooth_state.cov[0][0])"
   ]
  },
  {
   "cell_type": "code",
   "execution_count": null,
   "id": "90c7a3d7-5f9c-4a4d-9980-f33fa60e7226",
   "metadata": {},
   "outputs": [
    {
     "data": {
      "text/html": [
       "<div style=\"display: flex; column-gap: 20px; flex-wrap: wrap;\" class='table table-striped table-sm'> <div><p style='font-size: 1.2rem;'></p> <pre>torch.Size([2, 10, 4, 1])</pre> </div><div><p style='font-size: 1.2rem;'></p> <pre>torch.Size([2, 10, 4, 4])</pre> </div></div>"
      ],
      "text/plain": [
       "<IPython.core.display.HTML object>"
      ]
     },
     "metadata": {},
     "output_type": "display_data"
    }
   ],
   "source": [
    "show_as_row(smooth_state.mean.shape, smooth_state.cov.shape)"
   ]
  },
  {
   "cell_type": "markdown",
   "id": "bc0299de-69cf-4351-ba84-12871662230b",
   "metadata": {},
   "source": [
    "#### KalmanFilter method"
   ]
  },
  {
   "cell_type": "code",
   "execution_count": null,
   "id": "808bcd96-9e98-4e4f-9b85-cdfb98cb9709",
   "metadata": {},
   "outputs": [],
   "source": [
    "#| export\n",
    "@patch\n",
    "def smooth(self: KalmanFilter,\n",
    "           obs: Tensor,\n",
    "           mask: Tensor = None,\n",
    "           cov_checker= CheckPosDef()\n",
    "          ) -> ListMNormal: # `[n_timesteps, n_dim_state]` smoothed state\n",
    "        \n",
    "    \"\"\"Kalman Filter Smoothing\"\"\"\n",
    "\n",
    "    (pred_state_means, pred_state_covs, filt_state_means, filt_state_covs) = self._filter_all(obs, mask, cov_checker)\n",
    "\n",
    "    smoothed_state = _smooth(self.trans_matrix,\n",
    "                   ListMNormal(filt_state_means, filt_state_covs), ListMNormal(pred_state_means, pred_state_covs),\n",
    "                   cov_checker)\n",
    "    smoothed_state.mean.squeeze_(-1)\n",
    "    return smoothed_state"
   ]
  },
  {
   "cell_type": "code",
   "execution_count": null,
   "id": "bc63fe46-f267-4538-a72b-997747df2391",
   "metadata": {},
   "outputs": [],
   "source": [
    "smoothed_state = k.smooth(data)"
   ]
  },
  {
   "cell_type": "code",
   "execution_count": null,
   "id": "70f1c935-c1a8-4528-ab93-7f7711b8d521",
   "metadata": {},
   "outputs": [
    {
     "data": {
      "text/html": [
       "<div style=\"display: flex; column-gap: 20px; flex-wrap: wrap;\" class='table table-striped table-sm'> <div><p style='font-size: 1.2rem;'></p> <pre>torch.Size([2, 10, 4])</pre> </div><div><p style='font-size: 1.2rem;'></p> <pre>torch.Size([2, 10, 4, 4])</pre> </div></div>"
      ],
      "text/plain": [
       "<IPython.core.display.HTML object>"
      ]
     },
     "metadata": {},
     "output_type": "display_data"
    }
   ],
   "source": [
    "show_as_row(smoothed_state.mean.shape, smoothed_state.cov.shape)"
   ]
  },
  {
   "cell_type": "markdown",
   "id": "7e0600dd-9baf-4796-b3f5-4ae1c2239453",
   "metadata": {},
   "source": [
    "### Predict"
   ]
  },
  {
   "cell_type": "code",
   "execution_count": null,
   "id": "7fa70846-815d-4427-a412-caab23efa547",
   "metadata": {},
   "outputs": [],
   "source": [
    "from meteo_imp.gaussian import conditional_guassian"
   ]
  },
  {
   "cell_type": "markdown",
   "id": "1e20b5fd-4dd0-4cb9-be84-d1d3702c5695",
   "metadata": {},
   "source": [
    "In order to have conditional predictions that make sense it's not possible to return the full covariance matrix for the predictions but only the standard deviations"
   ]
  },
  {
   "cell_type": "code",
   "execution_count": null,
   "id": "28054277-5b8a-4e20-a5a0-991ade36589b",
   "metadata": {},
   "outputs": [],
   "source": [
    "#|export\n",
    "def _get_cond_pred(pred: ListMNormal,\n",
    "                  obs,\n",
    "                  mask\n",
    "                  ) -> ListNormal:\n",
    "    \"\"\"Conditional prediction given observations and transforms covariances into std deviations\"\"\"\n",
    "    \n",
    "    obs = obs[mask] # select only actually observed values\n",
    "    pred_cond = conditional_guassian(pred.mean, pred.cov, obs, mask)\n",
    "    \n",
    "    mean = pred.mean.clone()\n",
    "    mean[~mask] = pred_cond.mean\n",
    "    \n",
    "    std = torch.diagonal(pred.cov.clone(), dim1=-2, dim2=-1)\n",
    "    std[~mask] = torch.diagonal(pred_cond.cov, dim1=-2, dim2=-1)\n",
    "    \n",
    "    return ListMNormal(mean, std)"
   ]
  },
  {
   "cell_type": "code",
   "execution_count": null,
   "id": "ef170cdb-313b-4bf5-850f-507ddf92f7c5",
   "metadata": {},
   "outputs": [],
   "source": [
    "obs = tst.data[1]"
   ]
  },
  {
   "cell_type": "code",
   "execution_count": null,
   "id": "29134534-d9c5-43ae-9a72-0407327952e6",
   "metadata": {},
   "outputs": [],
   "source": [
    "mask = tst.mask[1]"
   ]
  },
  {
   "cell_type": "code",
   "execution_count": null,
   "id": "8297e059-829a-4037-b8dc-e4c4b94e706f",
   "metadata": {},
   "outputs": [
    {
     "data": {
      "text/plain": [
       "(tensor([         nan,          nan, 0.1447432041]),\n",
       " tensor([False, False,  True]))"
      ]
     },
     "execution_count": null,
     "metadata": {},
     "output_type": "execute_result"
    }
   ],
   "source": [
    "obs, mask"
   ]
  },
  {
   "cell_type": "code",
   "execution_count": null,
   "id": "45748cf8-e157-427e-93d1-7c31a66dcb9b",
   "metadata": {},
   "outputs": [
    {
     "data": {
      "text/plain": [
       "<function meteo_imp.gaussian.conditional_guassian(μ: torch.Tensor, Σ: torch.Tensor, obs: torch.Tensor, idx: torch.Tensor) -> meteo_imp.utils.ListNormal>"
      ]
     },
     "execution_count": null,
     "metadata": {},
     "output_type": "execute_result"
    }
   ],
   "source": [
    "conditional_guassian"
   ]
  },
  {
   "cell_type": "markdown",
   "id": "ba6b1e75-b93f-4225-bba0-1b7437d34a57",
   "metadata": {},
   "source": [
    "The conditional gaussian returns a distributions of 2 variables, which are the un-observed ones (you can see the `nan` in the observation vector)"
   ]
  },
  {
   "cell_type": "code",
   "execution_count": null,
   "id": "485a1ade-753e-417a-ae56-1e0925900e01",
   "metadata": {},
   "outputs": [
    {
     "data": {
      "text/plain": [
       "ListNormal(mean=tensor([0.6510141492, 0.7715864182]), cov=tensor([[0.0712313056, 0.1887338310],\n",
       "        [0.1887338310, 0.5375747681]]))"
      ]
     },
     "execution_count": null,
     "metadata": {},
     "output_type": "execute_result"
    }
   ],
   "source": [
    "conditional_guassian(tst.params['init_state_mean'], tst.params['init_state_cov'], obs[mask], mask)"
   ]
  },
  {
   "cell_type": "markdown",
   "id": "9026135d-e030-453a-9709-fedcdb9dc59e",
   "metadata": {},
   "source": [
    "which are correctly merged with the predictions"
   ]
  },
  {
   "cell_type": "code",
   "execution_count": null,
   "id": "c003501c-d5ac-4414-85cf-8227092ed37e",
   "metadata": {},
   "outputs": [
    {
     "data": {
      "text/plain": [
       "ListNormal(mean=tensor([0.6510141492, 0.7715864182, 0.7890297771]), cov=tensor([0.0712313056, 0.5375747681, 0.9362983704]))"
      ]
     },
     "execution_count": null,
     "metadata": {},
     "output_type": "execute_result"
    }
   ],
   "source": [
    "_get_cond_pred(ListMNormal(tst.params['init_state_mean'], tst.params['init_state_cov']), obs, mask)"
   ]
  },
  {
   "cell_type": "code",
   "execution_count": null,
   "id": "05302d37-1813-442b-88ec-71066ab3286e",
   "metadata": {},
   "outputs": [],
   "source": [
    "#| export\n",
    "@patch\n",
    "def _obs_from_state(self: KalmanFilter, state_mean, state_cov, check_args=None):\n",
    "\n",
    "    mean = self.obs_matrices @ state_mean\n",
    "    cov = self.obs_matrices @ state_cov @ self.obs_matrices.mT + self.obs_cov\n",
    "    \n",
    "    if check_args is not None: check_posdef(cov, 'predict',  **check_args)\n",
    "    \n",
    "    return ListMNormal(mean, cov)\n",
    "\n",
    "@patch\n",
    "def predict(self: KalmanFilter, obs, mask=None, smooth=True, check_args=None):\n",
    "    \"\"\"Predicted observations at all times \"\"\"\n",
    "    state = self.smooth(obs, mask, check_args) if smooth else self.filter(obs, mask, check_args)\n",
    "    obs, mask = self._parse_obs(obs, mask)\n",
    "    \n",
    "    means = torch.empty_like(obs)\n",
    "    stds = torch.empty_like(obs)\n",
    "                             \n",
    "    for t in range(obs.shape[0]):\n",
    "        mean, std = self._obs_from_state(\n",
    "            state.mean[t],\n",
    "            state.cov[t],\n",
    "            {'t': t, **check_args} if check_args is not None else None\n",
    "        )\n",
    "        \n",
    "        means[t], stds[t] = _get_cond_pred(ListNormal(mean, std), obs[t], mask[t])\n",
    "    \n",
    "    return ListNormal(means, stds)"
   ]
  },
  {
   "cell_type": "code",
   "execution_count": null,
   "id": "8f3154aa-0d7e-476f-a8ce-e22c955224d1",
   "metadata": {},
   "outputs": [
    {
     "data": {
      "text/plain": [
       "ListNormal(mean=tensor([[0.9230768681],\n",
       "        [1.7692307234],\n",
       "        [2.3846154213]], grad_fn=<CopySlices>), cov=tensor([[1.3846154213],\n",
       "        [1.4615384340],\n",
       "        [1.6153845787]], grad_fn=<CopySlices>))"
      ]
     },
     "execution_count": null,
     "metadata": {},
     "output_type": "execute_result"
    }
   ],
   "source": [
    "k.predict(obs=X)"
   ]
  },
  {
   "cell_type": "code",
   "execution_count": null,
   "id": "be89b3b8-1ff2-4177-be49-2c06579608b7",
   "metadata": {},
   "outputs": [],
   "source": [
    "@patch\n",
    "def predict_times(self: KalmanFilter, times, obs, mask=None, smooth=True, check_args=None):\n",
    "    \"\"\"Predicted observations at specific times \"\"\"\n",
    "    state = self.smooth(obs, mask, check_args) if smooth else self.filter(obs, mask, check_args)\n",
    "    obs, mask = self._parse_obs(obs, mask)\n",
    "    times = array1d(times)\n",
    "    \n",
    "    n_timesteps = obs.shape[0]\n",
    "    n_features = obs.shape[1] if len(obs.shape) > 1 else 1\n",
    "    \n",
    "    if times.max() > n_timesteps or times.min() < 0:\n",
    "        raise ValueError(f\"provided times range from {times.min()} to {times.max()}, which is outside allowed range : 0 to {n_timesteps}\")\n",
    "\n",
    "    means = torch.empty((times.shape[0], n_features), dtype=obs.dtype, device=obs.device)\n",
    "    stds = torch.empty((times.shape[0], n_features), dtype=obs.dtype, device=obs.device) \n",
    "    for i, t in enumerate(times):\n",
    "        mean, std = self._obs_from_state(\n",
    "            state.mean[t],\n",
    "            state.cov[t],\n",
    "            {'t': t, **check_args} if check_args is not None else None\n",
    "        )\n",
    "        \n",
    "        means[i], stds[i] = _get_cond_pred(ListNormal(mean, std), obs[t], mask[t])\n",
    "    \n",
    "    return ListNormal(means, stds)  "
   ]
  },
  {
   "cell_type": "markdown",
   "id": "efa10e27-c68e-4ab0-88f0-853dbb322e45",
   "metadata": {},
   "source": [
    "pykalman doesn't support a predict method so cannot test it"
   ]
  },
  {
   "cell_type": "code",
   "execution_count": null,
   "id": "6e8f4d70-1b63-4635-bdc5-15752552d21e",
   "metadata": {},
   "outputs": [
    {
     "data": {
      "text/plain": [
       "ListNormal(mean=tensor([[-0.3030261397, -0.2419726700, -0.3667301536],\n",
       "        [-0.5841388106,  0.0571963340, -0.0602211729],\n",
       "        [-0.4957259297, -0.1866203099, -0.3876989782],\n",
       "        [-0.3683194518,  0.4738349319,  0.1002929062],\n",
       "        [-0.2453254759, -0.0729204565, -0.4634614289],\n",
       "        [ 0.7444251776,  0.9131455421, -0.2360927910],\n",
       "        [ 0.2539923191,  0.2802425325, -0.0793784633],\n",
       "        [ 1.0530376434,  0.5632419586,  0.3484775722],\n",
       "        [ 0.8671647310,  0.4598079920,  1.1614903212],\n",
       "        [ 6.1932973862,  2.9287741184,  0.3289620876]], grad_fn=<CopySlices>), cov=tensor([[5.1329714060e-01, 1.1908673048e+00, 7.2597950697e-01],\n",
       "        [4.8898196220e-01, 2.7054542303e-01, 7.3858928680e-01],\n",
       "        [5.2057659626e-01, 1.2010793686e+00, 7.2838747501e-01],\n",
       "        [6.7297101021e-01, 8.7734472752e-01, 6.3224875927e-01],\n",
       "        [6.1076289415e-01, 1.2208808661e+00, 7.5710517168e-01],\n",
       "        [1.2441244125e+00, 3.4210133553e-01, 1.3619506359e+00],\n",
       "        [1.1757915497e+01, 3.4084844589e-01, 3.3397865295e+00],\n",
       "        [4.8872512817e+01, 1.1506040573e+01, 1.2109507561e+01],\n",
       "        [2.7350158691e+00, 3.4780120850e-01, 4.8372123718e+01],\n",
       "        [8.5246258545e+02, 1.8208175659e+02, 2.4330139160e-01]],\n",
       "       grad_fn=<CopySlices>))"
      ]
     },
     "execution_count": null,
     "metadata": {},
     "output_type": "execute_result"
    }
   ],
   "source": [
    "tst.filter.predict(obs = tst.data, mask = tst.mask)"
   ]
  },
  {
   "cell_type": "code",
   "execution_count": null,
   "id": "609a1762-c9ae-4c9c-8b1c-8a106deb3d6c",
   "metadata": {},
   "outputs": [],
   "source": [
    "mean, std = tst.filter.predict_times(obs = tst.data, times = torch.tensor([0,1]), mask = tst.mask)"
   ]
  },
  {
   "cell_type": "code",
   "execution_count": null,
   "id": "b05e874b-24b7-413f-b2e3-4ce8851a42a3",
   "metadata": {},
   "outputs": [
    {
     "data": {
      "text/plain": [
       "(tensor([[-0.3030261397, -0.2419726700, -0.3667301536],\n",
       "         [-0.5841388106,  0.0571963340, -0.0602211729]], grad_fn=<CopySlices>),\n",
       " tensor([[0.5132971406, 1.1908673048, 0.7259795070],\n",
       "         [0.4889819622, 0.2705454230, 0.7385892868]], grad_fn=<CopySlices>))"
      ]
     },
     "execution_count": null,
     "metadata": {},
     "output_type": "execute_result"
    }
   ],
   "source": [
    "mean, std"
   ]
  },
  {
   "cell_type": "code",
   "execution_count": null,
   "id": "a5057691-9a66-44dc-b375-a75e470f1911",
   "metadata": {},
   "outputs": [
    {
     "name": "stdout",
     "output_type": "stream",
     "text": [
      " - shape: torch.Size([2, 3]), type torch.float32, mean -0.2498154193162918\n",
      " - shape: torch.Size([2, 3]), type torch.float32, mean 0.6547101140022278\n"
     ]
    }
   ],
   "source": [
    "print_info((mean, std))"
   ]
  },
  {
   "cell_type": "code",
   "execution_count": null,
   "id": "8b6b080f-d015-40f6-b44f-4b17137e7f82",
   "metadata": {},
   "outputs": [],
   "source": [
    "mean, cov = tst64.filter.smooth(tst64.data, tst64.mask)"
   ]
  },
  {
   "cell_type": "code",
   "execution_count": null,
   "id": "3eac7cf6-db16-4ca0-ac9a-9f25ebf1f67f",
   "metadata": {},
   "outputs": [
    {
     "data": {
      "text/plain": [
       "ListNormal(mean=tensor([0.3859194846, 0.7281861816, 0.1397059375], dtype=torch.float64,\n",
       "       grad_fn=<MvBackward0>), cov=tensor([[0.4320693928, 0.5322830879, 0.2673021478],\n",
       "        [0.5322830879, 1.1152050124, 0.5026130264],\n",
       "        [0.2673021478, 0.5026130264, 1.1322290900]], dtype=torch.float64,\n",
       "       grad_fn=<AddBackward0>))"
      ]
     },
     "execution_count": null,
     "metadata": {},
     "output_type": "execute_result"
    }
   ],
   "source": [
    "tst64.filter._obs_from_state(mean[0], cov[0])"
   ]
  },
  {
   "cell_type": "markdown",
   "id": "5a91fcc3-b509-45de-b840-55134dc4f2bc",
   "metadata": {},
   "source": [
    "### Log Likelihood"
   ]
  },
  {
   "cell_type": "markdown",
   "id": "75b2b81c-1890-48c0-9217-768aae5e555c",
   "metadata": {},
   "source": [
    "This code is old now as the log likelihood is not computed here\n",
    "\n",
    "TODO: open issue in pykalman for error in ll missing data"
   ]
  },
  {
   "cell_type": "code",
   "execution_count": null,
   "id": "d9ba27d3-cf1d-4ed3-9d4b-6fb7404e2ba2",
   "metadata": {},
   "outputs": [
    {
     "data": {
      "text/plain": [
       "\u001b[0;31mSignature:\u001b[0m \u001b[0mpykalman\u001b[0m\u001b[0;34m.\u001b[0m\u001b[0mstandard\u001b[0m\u001b[0;34m.\u001b[0m\u001b[0mKalmanFilter\u001b[0m\u001b[0;34m.\u001b[0m\u001b[0mloglikelihood\u001b[0m\u001b[0;34m(\u001b[0m\u001b[0mself\u001b[0m\u001b[0;34m,\u001b[0m \u001b[0mX\u001b[0m\u001b[0;34m)\u001b[0m\u001b[0;34m\u001b[0m\u001b[0;34m\u001b[0m\u001b[0m\n",
       "\u001b[0;31mSource:\u001b[0m   \n",
       "    \u001b[0;32mdef\u001b[0m \u001b[0mloglikelihood\u001b[0m\u001b[0;34m(\u001b[0m\u001b[0mself\u001b[0m\u001b[0;34m,\u001b[0m \u001b[0mX\u001b[0m\u001b[0;34m)\u001b[0m\u001b[0;34m:\u001b[0m\u001b[0;34m\u001b[0m\n",
       "\u001b[0;34m\u001b[0m        \u001b[0;34m\"\"\"Calculate the log likelihood of all observations\u001b[0m\n",
       "\u001b[0;34m\u001b[0m\n",
       "\u001b[0;34m        Parameters\u001b[0m\n",
       "\u001b[0;34m        ----------\u001b[0m\n",
       "\u001b[0;34m        X : [n_timesteps, n_dim_obs] array\u001b[0m\n",
       "\u001b[0;34m            observations for time steps [0...n_timesteps-1]\u001b[0m\n",
       "\u001b[0;34m\u001b[0m\n",
       "\u001b[0;34m        Returns\u001b[0m\n",
       "\u001b[0;34m        -------\u001b[0m\n",
       "\u001b[0;34m        likelihood : float\u001b[0m\n",
       "\u001b[0;34m            likelihood of all observations\u001b[0m\n",
       "\u001b[0;34m        \"\"\"\u001b[0m\u001b[0;34m\u001b[0m\n",
       "\u001b[0;34m\u001b[0m        \u001b[0mZ\u001b[0m \u001b[0;34m=\u001b[0m \u001b[0mnp\u001b[0m\u001b[0;34m.\u001b[0m\u001b[0marray\u001b[0m\u001b[0;34m(\u001b[0m\u001b[0mself\u001b[0m\u001b[0;34m.\u001b[0m\u001b[0m_parse_observations\u001b[0m\u001b[0;34m(\u001b[0m\u001b[0mX\u001b[0m\u001b[0;34m)\u001b[0m\u001b[0;34m)\u001b[0m\u001b[0;34m\u001b[0m\n",
       "\u001b[0;34m\u001b[0m\u001b[0;34m\u001b[0m\n",
       "\u001b[0;34m\u001b[0m        \u001b[0;31m# initialize parameters\u001b[0m\u001b[0;34m\u001b[0m\n",
       "\u001b[0;34m\u001b[0m        \u001b[0;34m(\u001b[0m\u001b[0mtransition_matrices\u001b[0m\u001b[0;34m,\u001b[0m \u001b[0mtransition_offsets\u001b[0m\u001b[0;34m,\u001b[0m\u001b[0;34m\u001b[0m\n",
       "\u001b[0;34m\u001b[0m         \u001b[0mtransition_covariance\u001b[0m\u001b[0;34m,\u001b[0m \u001b[0mobservation_matrices\u001b[0m\u001b[0;34m,\u001b[0m\u001b[0;34m\u001b[0m\n",
       "\u001b[0;34m\u001b[0m         \u001b[0mobservation_offsets\u001b[0m\u001b[0;34m,\u001b[0m \u001b[0mobservation_covariance\u001b[0m\u001b[0;34m,\u001b[0m\u001b[0;34m\u001b[0m\n",
       "\u001b[0;34m\u001b[0m         \u001b[0minitial_state_mean\u001b[0m\u001b[0;34m,\u001b[0m \u001b[0minitial_state_covariance\u001b[0m\u001b[0;34m)\u001b[0m \u001b[0;34m=\u001b[0m \u001b[0;34m(\u001b[0m\u001b[0;34m\u001b[0m\n",
       "\u001b[0;34m\u001b[0m            \u001b[0mself\u001b[0m\u001b[0;34m.\u001b[0m\u001b[0m_initialize_parameters\u001b[0m\u001b[0;34m(\u001b[0m\u001b[0;34m)\u001b[0m\u001b[0;34m\u001b[0m\n",
       "\u001b[0;34m\u001b[0m        \u001b[0;34m)\u001b[0m\u001b[0;34m\u001b[0m\n",
       "\u001b[0;34m\u001b[0m\u001b[0;34m\u001b[0m\n",
       "\u001b[0;34m\u001b[0m        \u001b[0;31m# apply the Kalman Filter\u001b[0m\u001b[0;34m\u001b[0m\n",
       "\u001b[0;34m\u001b[0m        \u001b[0;34m(\u001b[0m\u001b[0mpredicted_state_means\u001b[0m\u001b[0;34m,\u001b[0m \u001b[0mpredicted_state_covariances\u001b[0m\u001b[0;34m,\u001b[0m\u001b[0;34m\u001b[0m\n",
       "\u001b[0;34m\u001b[0m         \u001b[0mkalman_gains\u001b[0m\u001b[0;34m,\u001b[0m \u001b[0mfiltered_state_means\u001b[0m\u001b[0;34m,\u001b[0m\u001b[0;34m\u001b[0m\n",
       "\u001b[0;34m\u001b[0m         \u001b[0mfiltered_state_covariances\u001b[0m\u001b[0;34m)\u001b[0m \u001b[0;34m=\u001b[0m \u001b[0;34m(\u001b[0m\u001b[0;34m\u001b[0m\n",
       "\u001b[0;34m\u001b[0m            \u001b[0m_filter\u001b[0m\u001b[0;34m(\u001b[0m\u001b[0;34m\u001b[0m\n",
       "\u001b[0;34m\u001b[0m                \u001b[0mtransition_matrices\u001b[0m\u001b[0;34m,\u001b[0m \u001b[0mobservation_matrices\u001b[0m\u001b[0;34m,\u001b[0m\u001b[0;34m\u001b[0m\n",
       "\u001b[0;34m\u001b[0m                \u001b[0mtransition_covariance\u001b[0m\u001b[0;34m,\u001b[0m \u001b[0mobservation_covariance\u001b[0m\u001b[0;34m,\u001b[0m\u001b[0;34m\u001b[0m\n",
       "\u001b[0;34m\u001b[0m                \u001b[0mtransition_offsets\u001b[0m\u001b[0;34m,\u001b[0m \u001b[0mobservation_offsets\u001b[0m\u001b[0;34m,\u001b[0m\u001b[0;34m\u001b[0m\n",
       "\u001b[0;34m\u001b[0m                \u001b[0minitial_state_mean\u001b[0m\u001b[0;34m,\u001b[0m \u001b[0minitial_state_covariance\u001b[0m\u001b[0;34m,\u001b[0m\u001b[0;34m\u001b[0m\n",
       "\u001b[0;34m\u001b[0m                \u001b[0mZ\u001b[0m\u001b[0;34m\u001b[0m\n",
       "\u001b[0;34m\u001b[0m            \u001b[0;34m)\u001b[0m\u001b[0;34m\u001b[0m\n",
       "\u001b[0;34m\u001b[0m        \u001b[0;34m)\u001b[0m\u001b[0;34m\u001b[0m\n",
       "\u001b[0;34m\u001b[0m\u001b[0;34m\u001b[0m\n",
       "\u001b[0;34m\u001b[0m        \u001b[0;31m# get likelihoods for each time step\u001b[0m\u001b[0;34m\u001b[0m\n",
       "\u001b[0;34m\u001b[0m        \u001b[0mloglikelihoods\u001b[0m \u001b[0;34m=\u001b[0m \u001b[0m_loglikelihoods\u001b[0m\u001b[0;34m(\u001b[0m\u001b[0;34m\u001b[0m\n",
       "\u001b[0;34m\u001b[0m          \u001b[0mobservation_matrices\u001b[0m\u001b[0;34m,\u001b[0m \u001b[0mobservation_offsets\u001b[0m\u001b[0;34m,\u001b[0m \u001b[0mobservation_covariance\u001b[0m\u001b[0;34m,\u001b[0m\u001b[0;34m\u001b[0m\n",
       "\u001b[0;34m\u001b[0m          \u001b[0mpredicted_state_means\u001b[0m\u001b[0;34m,\u001b[0m \u001b[0mpredicted_state_covariances\u001b[0m\u001b[0;34m,\u001b[0m \u001b[0mZ\u001b[0m\u001b[0;34m\u001b[0m\n",
       "\u001b[0;34m\u001b[0m        \u001b[0;34m)\u001b[0m\u001b[0;34m\u001b[0m\n",
       "\u001b[0;34m\u001b[0m\u001b[0;34m\u001b[0m\n",
       "\u001b[0;34m\u001b[0m        \u001b[0;32mreturn\u001b[0m \u001b[0mnp\u001b[0m\u001b[0;34m.\u001b[0m\u001b[0msum\u001b[0m\u001b[0;34m(\u001b[0m\u001b[0mloglikelihoods\u001b[0m\u001b[0;34m)\u001b[0m\u001b[0;34m\u001b[0m\u001b[0;34m\u001b[0m\u001b[0m\n",
       "\u001b[0;31mFile:\u001b[0m      ~/anaconda3/envs/data-science/lib/python3.10/site-packages/pykalman/standard.py\n",
       "\u001b[0;31mType:\u001b[0m      function\n"
      ]
     },
     "metadata": {},
     "output_type": "display_data"
    }
   ],
   "source": [
    "pykalman.standard.KalmanFilter.loglikelihood??"
   ]
  },
  {
   "cell_type": "code",
   "execution_count": null,
   "id": "11bcf9a4-1dc9-4507-ab20-9bd6a5830da3",
   "metadata": {},
   "outputs": [
    {
     "data": {
      "text/plain": [
       "\u001b[0;31mSignature:\u001b[0m\n",
       "\u001b[0mpykalman\u001b[0m\u001b[0;34m.\u001b[0m\u001b[0mstandard\u001b[0m\u001b[0;34m.\u001b[0m\u001b[0m_loglikelihoods\u001b[0m\u001b[0;34m(\u001b[0m\u001b[0;34m\u001b[0m\n",
       "\u001b[0;34m\u001b[0m    \u001b[0mobservation_matrices\u001b[0m\u001b[0;34m,\u001b[0m\u001b[0;34m\u001b[0m\n",
       "\u001b[0;34m\u001b[0m    \u001b[0mobservation_offsets\u001b[0m\u001b[0;34m,\u001b[0m\u001b[0;34m\u001b[0m\n",
       "\u001b[0;34m\u001b[0m    \u001b[0mobservation_covariance\u001b[0m\u001b[0;34m,\u001b[0m\u001b[0;34m\u001b[0m\n",
       "\u001b[0;34m\u001b[0m    \u001b[0mpredicted_state_means\u001b[0m\u001b[0;34m,\u001b[0m\u001b[0;34m\u001b[0m\n",
       "\u001b[0;34m\u001b[0m    \u001b[0mpredicted_state_covariances\u001b[0m\u001b[0;34m,\u001b[0m\u001b[0;34m\u001b[0m\n",
       "\u001b[0;34m\u001b[0m    \u001b[0mobservations\u001b[0m\u001b[0;34m,\u001b[0m\u001b[0;34m\u001b[0m\n",
       "\u001b[0;34m\u001b[0m\u001b[0;34m)\u001b[0m\u001b[0;34m\u001b[0m\u001b[0;34m\u001b[0m\u001b[0m\n",
       "\u001b[0;31mSource:\u001b[0m   \n",
       "\u001b[0;32mdef\u001b[0m \u001b[0m_loglikelihoods\u001b[0m\u001b[0;34m(\u001b[0m\u001b[0mobservation_matrices\u001b[0m\u001b[0;34m,\u001b[0m \u001b[0mobservation_offsets\u001b[0m\u001b[0;34m,\u001b[0m\u001b[0;34m\u001b[0m\n",
       "\u001b[0;34m\u001b[0m                    \u001b[0mobservation_covariance\u001b[0m\u001b[0;34m,\u001b[0m \u001b[0mpredicted_state_means\u001b[0m\u001b[0;34m,\u001b[0m\u001b[0;34m\u001b[0m\n",
       "\u001b[0;34m\u001b[0m                    \u001b[0mpredicted_state_covariances\u001b[0m\u001b[0;34m,\u001b[0m \u001b[0mobservations\u001b[0m\u001b[0;34m)\u001b[0m\u001b[0;34m:\u001b[0m\u001b[0;34m\u001b[0m\n",
       "\u001b[0;34m\u001b[0m    \u001b[0;34m\"\"\"Calculate log likelihood of all observations\u001b[0m\n",
       "\u001b[0;34m\u001b[0m\n",
       "\u001b[0;34m    Parameters\u001b[0m\n",
       "\u001b[0;34m    ----------\u001b[0m\n",
       "\u001b[0;34m    observation_matrices : [n_timesteps, n_dim_obs, n_dim_obs] or [n_dim_obs,\u001b[0m\n",
       "\u001b[0;34m    n_dim_state] array\u001b[0m\n",
       "\u001b[0;34m        observation matrices for t in [0...n_timesteps-1]\u001b[0m\n",
       "\u001b[0;34m    observation_offsets : [n_timesteps, n_dim_obs] or [n_dim_obs] array\u001b[0m\n",
       "\u001b[0;34m        offsets for observations for t = [0...n_timesteps-1]\u001b[0m\n",
       "\u001b[0;34m    observation_covariance : [n_dim_obs, n_dim_obs] array\u001b[0m\n",
       "\u001b[0;34m        covariance matrix for all observations\u001b[0m\n",
       "\u001b[0;34m    predicted_state_means : [n_timesteps, n_dim_state] array\u001b[0m\n",
       "\u001b[0;34m        mean of state at time t given observations from times\u001b[0m\n",
       "\u001b[0;34m        [0...t-1] for t in [0...n_timesteps-1]\u001b[0m\n",
       "\u001b[0;34m    predicted_state_covariances : [n_timesteps, n_dim_state, n_dim_state] array\u001b[0m\n",
       "\u001b[0;34m        covariance of state at time t given observations from times\u001b[0m\n",
       "\u001b[0;34m        [0...t-1] for t in [0...n_timesteps-1]\u001b[0m\n",
       "\u001b[0;34m    observations : [n_dim_obs] array\u001b[0m\n",
       "\u001b[0;34m        All observations.  If `observations[t]` is a masked array and any of\u001b[0m\n",
       "\u001b[0;34m        its values are masked, the observation will be ignored.\u001b[0m\n",
       "\u001b[0;34m\u001b[0m\n",
       "\u001b[0;34m    Returns\u001b[0m\n",
       "\u001b[0;34m    -------\u001b[0m\n",
       "\u001b[0;34m    loglikelihoods: [n_timesteps] array\u001b[0m\n",
       "\u001b[0;34m        `loglikelihoods[t]` is the probability density of the observation\u001b[0m\n",
       "\u001b[0;34m        generated at time step t\u001b[0m\n",
       "\u001b[0;34m    \"\"\"\u001b[0m\u001b[0;34m\u001b[0m\n",
       "\u001b[0;34m\u001b[0m    \u001b[0mn_timesteps\u001b[0m \u001b[0;34m=\u001b[0m \u001b[0mobservations\u001b[0m\u001b[0;34m.\u001b[0m\u001b[0mshape\u001b[0m\u001b[0;34m[\u001b[0m\u001b[0;36m0\u001b[0m\u001b[0;34m]\u001b[0m\u001b[0;34m\u001b[0m\n",
       "\u001b[0;34m\u001b[0m    \u001b[0mloglikelihoods\u001b[0m \u001b[0;34m=\u001b[0m \u001b[0mnp\u001b[0m\u001b[0;34m.\u001b[0m\u001b[0mzeros\u001b[0m\u001b[0;34m(\u001b[0m\u001b[0mn_timesteps\u001b[0m\u001b[0;34m)\u001b[0m\u001b[0;34m\u001b[0m\n",
       "\u001b[0;34m\u001b[0m    \u001b[0;32mfor\u001b[0m \u001b[0mt\u001b[0m \u001b[0;32min\u001b[0m \u001b[0mrange\u001b[0m\u001b[0;34m(\u001b[0m\u001b[0mn_timesteps\u001b[0m\u001b[0;34m)\u001b[0m\u001b[0;34m:\u001b[0m\u001b[0;34m\u001b[0m\n",
       "\u001b[0;34m\u001b[0m        \u001b[0mobservation\u001b[0m \u001b[0;34m=\u001b[0m \u001b[0mobservations\u001b[0m\u001b[0;34m[\u001b[0m\u001b[0mt\u001b[0m\u001b[0;34m]\u001b[0m\u001b[0;34m\u001b[0m\n",
       "\u001b[0;34m\u001b[0m        \u001b[0;32mif\u001b[0m \u001b[0;32mnot\u001b[0m \u001b[0mnp\u001b[0m\u001b[0;34m.\u001b[0m\u001b[0many\u001b[0m\u001b[0;34m(\u001b[0m\u001b[0mnp\u001b[0m\u001b[0;34m.\u001b[0m\u001b[0mma\u001b[0m\u001b[0;34m.\u001b[0m\u001b[0mgetmask\u001b[0m\u001b[0;34m(\u001b[0m\u001b[0mobservation\u001b[0m\u001b[0;34m)\u001b[0m\u001b[0;34m)\u001b[0m\u001b[0;34m:\u001b[0m\u001b[0;34m\u001b[0m\n",
       "\u001b[0;34m\u001b[0m            \u001b[0mobservation_matrix\u001b[0m \u001b[0;34m=\u001b[0m \u001b[0m_last_dims\u001b[0m\u001b[0;34m(\u001b[0m\u001b[0mobservation_matrices\u001b[0m\u001b[0;34m,\u001b[0m \u001b[0mt\u001b[0m\u001b[0;34m)\u001b[0m\u001b[0;34m\u001b[0m\n",
       "\u001b[0;34m\u001b[0m            \u001b[0mobservation_offset\u001b[0m \u001b[0;34m=\u001b[0m \u001b[0m_last_dims\u001b[0m\u001b[0;34m(\u001b[0m\u001b[0mobservation_offsets\u001b[0m\u001b[0;34m,\u001b[0m \u001b[0mt\u001b[0m\u001b[0;34m,\u001b[0m \u001b[0mndims\u001b[0m\u001b[0;34m=\u001b[0m\u001b[0;36m1\u001b[0m\u001b[0;34m)\u001b[0m\u001b[0;34m\u001b[0m\n",
       "\u001b[0;34m\u001b[0m            \u001b[0mpredicted_state_mean\u001b[0m \u001b[0;34m=\u001b[0m \u001b[0m_last_dims\u001b[0m\u001b[0;34m(\u001b[0m\u001b[0;34m\u001b[0m\n",
       "\u001b[0;34m\u001b[0m                \u001b[0mpredicted_state_means\u001b[0m\u001b[0;34m,\u001b[0m \u001b[0mt\u001b[0m\u001b[0;34m,\u001b[0m \u001b[0mndims\u001b[0m\u001b[0;34m=\u001b[0m\u001b[0;36m1\u001b[0m\u001b[0;34m\u001b[0m\n",
       "\u001b[0;34m\u001b[0m            \u001b[0;34m)\u001b[0m\u001b[0;34m\u001b[0m\n",
       "\u001b[0;34m\u001b[0m            \u001b[0mpredicted_state_covariance\u001b[0m \u001b[0;34m=\u001b[0m \u001b[0m_last_dims\u001b[0m\u001b[0;34m(\u001b[0m\u001b[0;34m\u001b[0m\n",
       "\u001b[0;34m\u001b[0m                \u001b[0mpredicted_state_covariances\u001b[0m\u001b[0;34m,\u001b[0m \u001b[0mt\u001b[0m\u001b[0;34m\u001b[0m\n",
       "\u001b[0;34m\u001b[0m            \u001b[0;34m)\u001b[0m\u001b[0;34m\u001b[0m\n",
       "\u001b[0;34m\u001b[0m\u001b[0;34m\u001b[0m\n",
       "\u001b[0;34m\u001b[0m            \u001b[0mpredicted_observation_mean\u001b[0m \u001b[0;34m=\u001b[0m \u001b[0;34m(\u001b[0m\u001b[0;34m\u001b[0m\n",
       "\u001b[0;34m\u001b[0m                \u001b[0mnp\u001b[0m\u001b[0;34m.\u001b[0m\u001b[0mdot\u001b[0m\u001b[0;34m(\u001b[0m\u001b[0mobservation_matrix\u001b[0m\u001b[0;34m,\u001b[0m\u001b[0;34m\u001b[0m\n",
       "\u001b[0;34m\u001b[0m                       \u001b[0mpredicted_state_mean\u001b[0m\u001b[0;34m)\u001b[0m\u001b[0;34m\u001b[0m\n",
       "\u001b[0;34m\u001b[0m                \u001b[0;34m+\u001b[0m \u001b[0mobservation_offset\u001b[0m\u001b[0;34m\u001b[0m\n",
       "\u001b[0;34m\u001b[0m            \u001b[0;34m)\u001b[0m\u001b[0;34m\u001b[0m\n",
       "\u001b[0;34m\u001b[0m            \u001b[0mpredicted_observation_covariance\u001b[0m \u001b[0;34m=\u001b[0m \u001b[0;34m(\u001b[0m\u001b[0;34m\u001b[0m\n",
       "\u001b[0;34m\u001b[0m                \u001b[0mnp\u001b[0m\u001b[0;34m.\u001b[0m\u001b[0mdot\u001b[0m\u001b[0;34m(\u001b[0m\u001b[0mobservation_matrix\u001b[0m\u001b[0;34m,\u001b[0m\u001b[0;34m\u001b[0m\n",
       "\u001b[0;34m\u001b[0m                       \u001b[0mnp\u001b[0m\u001b[0;34m.\u001b[0m\u001b[0mdot\u001b[0m\u001b[0;34m(\u001b[0m\u001b[0mpredicted_state_covariance\u001b[0m\u001b[0;34m,\u001b[0m\u001b[0;34m\u001b[0m\n",
       "\u001b[0;34m\u001b[0m                              \u001b[0mobservation_matrix\u001b[0m\u001b[0;34m.\u001b[0m\u001b[0mT\u001b[0m\u001b[0;34m)\u001b[0m\u001b[0;34m)\u001b[0m\u001b[0;34m\u001b[0m\n",
       "\u001b[0;34m\u001b[0m                \u001b[0;34m+\u001b[0m \u001b[0mobservation_covariance\u001b[0m\u001b[0;34m\u001b[0m\n",
       "\u001b[0;34m\u001b[0m            \u001b[0;34m)\u001b[0m\u001b[0;34m\u001b[0m\n",
       "\u001b[0;34m\u001b[0m            \u001b[0mloglikelihoods\u001b[0m\u001b[0;34m[\u001b[0m\u001b[0mt\u001b[0m\u001b[0;34m]\u001b[0m \u001b[0;34m=\u001b[0m \u001b[0mlog_multivariate_normal_density\u001b[0m\u001b[0;34m(\u001b[0m\u001b[0;34m\u001b[0m\n",
       "\u001b[0;34m\u001b[0m                \u001b[0mobservation\u001b[0m\u001b[0;34m[\u001b[0m\u001b[0mnp\u001b[0m\u001b[0;34m.\u001b[0m\u001b[0mnewaxis\u001b[0m\u001b[0;34m,\u001b[0m \u001b[0;34m:\u001b[0m\u001b[0;34m]\u001b[0m\u001b[0;34m,\u001b[0m\u001b[0;34m\u001b[0m\n",
       "\u001b[0;34m\u001b[0m                \u001b[0mpredicted_observation_mean\u001b[0m\u001b[0;34m[\u001b[0m\u001b[0mnp\u001b[0m\u001b[0;34m.\u001b[0m\u001b[0mnewaxis\u001b[0m\u001b[0;34m,\u001b[0m \u001b[0;34m:\u001b[0m\u001b[0;34m]\u001b[0m\u001b[0;34m,\u001b[0m\u001b[0;34m\u001b[0m\n",
       "\u001b[0;34m\u001b[0m                \u001b[0mpredicted_observation_covariance\u001b[0m\u001b[0;34m[\u001b[0m\u001b[0mnp\u001b[0m\u001b[0;34m.\u001b[0m\u001b[0mnewaxis\u001b[0m\u001b[0;34m,\u001b[0m \u001b[0;34m:\u001b[0m\u001b[0;34m,\u001b[0m \u001b[0;34m:\u001b[0m\u001b[0;34m]\u001b[0m\u001b[0;34m\u001b[0m\n",
       "\u001b[0;34m\u001b[0m            \u001b[0;34m)\u001b[0m\u001b[0;34m\u001b[0m\n",
       "\u001b[0;34m\u001b[0m    \u001b[0;32mreturn\u001b[0m \u001b[0mloglikelihoods\u001b[0m\u001b[0;34m\u001b[0m\u001b[0;34m\u001b[0m\u001b[0m\n",
       "\u001b[0;31mFile:\u001b[0m      ~/anaconda3/envs/data-science/lib/python3.10/site-packages/pykalman/standard.py\n",
       "\u001b[0;31mType:\u001b[0m      function\n"
      ]
     },
     "metadata": {},
     "output_type": "display_data"
    }
   ],
   "source": [
    "pykalman.standard._loglikelihoods??"
   ]
  },
  {
   "cell_type": "code",
   "execution_count": null,
   "id": "07f06335-9992-4a8c-bb90-fbc38d293c94",
   "metadata": {},
   "outputs": [],
   "source": [
    "#| export\n",
    "@patch\n",
    "def filter_loglikelihood(self: KalmanFilter, obs, mask=None):\n",
    "    \"Compute log likelihood using only filter step\"\n",
    "    # Those are the means and covs before the updating step,\n",
    "    # otherwise the model would have already seen the observation that we are predicting \n",
    "    pred_state_mean, pred_state_cov, _, _ = self._filter_all(obs, mask)\n",
    "    obs, obs_mask = self._parse_obs(obs, mask)\n",
    "\n",
    "    max_t = obs.shape[0]\n",
    "    lls = torch.zeros(max_t)\n",
    "    for t in range(max_t):\n",
    "        if obs_mask[t].all():\n",
    "            pred_obs_mean, pred_obs_cov = self._obs_from_state(pred_state_mean[t], pred_state_cov[t])\n",
    "            ll = MultivariateNormal(pred_obs_mean, pred_obs_cov, validate_args=False).log_prob(obs[t])\n",
    "            lls[t] = ll\n",
    "\n",
    "    return lls.sum()"
   ]
  },
  {
   "cell_type": "code",
   "execution_count": null,
   "id": "2a32ff25-51d4-496a-9b89-fecb437ea84d",
   "metadata": {},
   "outputs": [
    {
     "data": {
      "text/plain": [
       "tensor(-5.2315979004, grad_fn=<SumBackward0>)"
      ]
     },
     "execution_count": null,
     "metadata": {},
     "output_type": "execute_result"
    }
   ],
   "source": [
    "k.filter_loglikelihood(X)"
   ]
  },
  {
   "cell_type": "code",
   "execution_count": null,
   "id": "396b82cc-ffb7-4eae-96f6-056a24cc7628",
   "metadata": {},
   "outputs": [],
   "source": [
    "test_close(k.filter_loglikelihood(X), pyk.loglikelihood(nX))"
   ]
  },
  {
   "cell_type": "code",
   "execution_count": null,
   "id": "673130ae-e9eb-46a8-9c56-7eceb63df30f",
   "metadata": {},
   "outputs": [],
   "source": [
    "pred_state, pred_state_cov, _, _ = tuple(map(_stack_detach, tst.filter._filter_all(tst.data, tst.mask)))"
   ]
  },
  {
   "cell_type": "code",
   "execution_count": null,
   "id": "1d35b6d5-8127-4832-a640-ab13f3270f7f",
   "metadata": {},
   "outputs": [],
   "source": [
    "tst = KalmanFilterTester(nan_mask = False, p_missing=0)"
   ]
  },
  {
   "cell_type": "code",
   "execution_count": null,
   "id": "602fcbc1-4967-4328-b923-c0d0aee8cc29",
   "metadata": {},
   "outputs": [
    {
     "data": {
      "text/plain": [
       "array([-5.64984703, -8.634758  , -3.505826  , -3.89075327, -4.01303673,\n",
       "       -3.75743556, -4.12671423, -4.10942173, -6.93878555, -6.93154287])"
      ]
     },
     "execution_count": null,
     "metadata": {},
     "output_type": "execute_result"
    }
   ],
   "source": [
    "pykalman.standard._loglikelihoods(\n",
    "    tst.params_pyk['observation_matrices'],\n",
    "    tst.params_pyk['observation_offsets'],\n",
    "    tst.params_pyk['observation_covariance'],\n",
    "    pred_state.numpy(),\n",
    "    pred_state_cov.numpy(),\n",
    "    np.array(tst.data_pyk)\n",
    ")"
   ]
  },
  {
   "cell_type": "code",
   "execution_count": null,
   "id": "b1cef1bd-ae55-4871-a397-5437c35e0893",
   "metadata": {},
   "outputs": [
    {
     "ename": "AssertionError",
     "evalue": "close:\n-35.311344146728516\n-42.055377029134384",
     "output_type": "error",
     "traceback": [
      "\u001b[0;31m---------------------------------------------------------------------------\u001b[0m",
      "\u001b[0;31mAssertionError\u001b[0m                            Traceback (most recent call last)",
      "Input \u001b[0;32mIn [203]\u001b[0m, in \u001b[0;36m<cell line: 1>\u001b[0;34m()\u001b[0m\n\u001b[0;32m----> 1\u001b[0m \u001b[43mtest_close\u001b[49m\u001b[43m(\u001b[49m\n\u001b[1;32m      2\u001b[0m \u001b[43m    \u001b[49m\u001b[43mtst\u001b[49m\u001b[38;5;241;43m.\u001b[39;49m\u001b[43mfilter\u001b[49m\u001b[38;5;241;43m.\u001b[39;49m\u001b[43mfilter_loglikelihood\u001b[49m\u001b[43m(\u001b[49m\u001b[43mtst\u001b[49m\u001b[38;5;241;43m.\u001b[39;49m\u001b[43mdata\u001b[49m\u001b[43m,\u001b[49m\u001b[43m \u001b[49m\u001b[43mtst\u001b[49m\u001b[38;5;241;43m.\u001b[39;49m\u001b[43mmask\u001b[49m\u001b[43m)\u001b[49m\u001b[43m,\u001b[49m\n\u001b[1;32m      3\u001b[0m \u001b[43m    \u001b[49m\u001b[43mtst\u001b[49m\u001b[38;5;241;43m.\u001b[39;49m\u001b[43mfilter_pyk\u001b[49m\u001b[38;5;241;43m.\u001b[39;49m\u001b[43mloglikelihood\u001b[49m\u001b[43m(\u001b[49m\u001b[43mtst\u001b[49m\u001b[38;5;241;43m.\u001b[39;49m\u001b[43mdata_pyk\u001b[49m\u001b[43m)\u001b[49m\u001b[43m)\u001b[49m\n",
      "File \u001b[0;32m~/Documents/uni/Thesis/GPFA_imputation/meteo_imp/utils.py:100\u001b[0m, in \u001b[0;36mtest_close\u001b[0;34m(a, b, eps)\u001b[0m\n\u001b[1;32m     98\u001b[0m \u001b[38;5;28;01mdef\u001b[39;00m \u001b[38;5;21mtest_close\u001b[39m(a,b,eps\u001b[38;5;241m=\u001b[39m\u001b[38;5;241m1e-5\u001b[39m):\n\u001b[1;32m     99\u001b[0m     \u001b[38;5;124m\"\u001b[39m\u001b[38;5;124m`test` that `a` is within `eps` of `b`\u001b[39m\u001b[38;5;124m\"\u001b[39m\n\u001b[0;32m--> 100\u001b[0m     \u001b[43mtest\u001b[49m\u001b[43m(\u001b[49m\u001b[43ma\u001b[49m\u001b[43m,\u001b[49m\u001b[43mb\u001b[49m\u001b[43m,\u001b[49m\u001b[43mpartial\u001b[49m\u001b[43m(\u001b[49m\u001b[43mis_close\u001b[49m\u001b[43m,\u001b[49m\u001b[43meps\u001b[49m\u001b[38;5;241;43m=\u001b[39;49m\u001b[43meps\u001b[49m\u001b[43m)\u001b[49m\u001b[43m,\u001b[49m\u001b[38;5;124;43m'\u001b[39;49m\u001b[38;5;124;43mclose\u001b[39;49m\u001b[38;5;124;43m'\u001b[39;49m\u001b[43m)\u001b[49m\n",
      "File \u001b[0;32m~/.local/lib/python3.10/site-packages/fastcore/test.py:27\u001b[0m, in \u001b[0;36mtest\u001b[0;34m(a, b, cmp, cname)\u001b[0m\n\u001b[1;32m     25\u001b[0m \u001b[38;5;124m\"\u001b[39m\u001b[38;5;124m`assert` that `cmp(a,b)`; display inputs and `cname or cmp.__name__` if it fails\u001b[39m\u001b[38;5;124m\"\u001b[39m\n\u001b[1;32m     26\u001b[0m \u001b[38;5;28;01mif\u001b[39;00m cname \u001b[38;5;129;01mis\u001b[39;00m \u001b[38;5;28;01mNone\u001b[39;00m: cname\u001b[38;5;241m=\u001b[39mcmp\u001b[38;5;241m.\u001b[39m\u001b[38;5;18m__name__\u001b[39m\n\u001b[0;32m---> 27\u001b[0m \u001b[38;5;28;01massert\u001b[39;00m cmp(a,b),\u001b[38;5;124mf\u001b[39m\u001b[38;5;124m\"\u001b[39m\u001b[38;5;132;01m{\u001b[39;00mcname\u001b[38;5;132;01m}\u001b[39;00m\u001b[38;5;124m:\u001b[39m\u001b[38;5;130;01m\\n\u001b[39;00m\u001b[38;5;132;01m{\u001b[39;00ma\u001b[38;5;132;01m}\u001b[39;00m\u001b[38;5;130;01m\\n\u001b[39;00m\u001b[38;5;132;01m{\u001b[39;00mb\u001b[38;5;132;01m}\u001b[39;00m\u001b[38;5;124m\"\u001b[39m\n",
      "\u001b[0;31mAssertionError\u001b[0m: close:\n-35.311344146728516\n-42.055377029134384"
     ]
    }
   ],
   "source": [
    "test_close(\n",
    "    tst.filter.filter_loglikelihood(tst.data, tst.mask),\n",
    "    tst.filter_pyk.loglikelihood(tst.data_pyk)) # need to increase the resolution"
   ]
  },
  {
   "cell_type": "code",
   "execution_count": null,
   "id": "2cf2bd46-c095-49dc-ba80-1566acc3b85c",
   "metadata": {},
   "outputs": [],
   "source": [
    "tst64 = KalmanFilterTester(p_missing=0, dtype=torch.float64)"
   ]
  },
  {
   "cell_type": "code",
   "execution_count": null,
   "id": "fce4e56a-b319-4571-b967-e2f83fa5f4d3",
   "metadata": {},
   "outputs": [
    {
     "data": {
      "text/plain": [
       "(tensor(-30.2942523956, grad_fn=<SumBackward0>), -36.23070604799459)"
      ]
     },
     "execution_count": null,
     "metadata": {},
     "output_type": "execute_result"
    }
   ],
   "source": [
    "(tst64.filter.filter_loglikelihood(tst64.data, tst64.mask),\n",
    "tst64.filter_pyk.loglikelihood(tst64.data_pyk))"
   ]
  },
  {
   "cell_type": "code",
   "execution_count": null,
   "id": "58a25819-08e7-4f50-a6c6-c4d395f79085",
   "metadata": {},
   "outputs": [
    {
     "data": {
      "text/plain": [
       "tensor(-181.6866760254, grad_fn=<SumBackward0>)"
      ]
     },
     "execution_count": null,
     "metadata": {},
     "output_type": "execute_result"
    }
   ],
   "source": [
    "k2.filter_loglikelihood(X2)"
   ]
  },
  {
   "cell_type": "code",
   "execution_count": null,
   "id": "9d2b80ee-ba54-46ad-b252-d2cbf4c94390",
   "metadata": {},
   "outputs": [],
   "source": [
    "test_close(k2.filter_loglikelihood(X2), pyk2.loglikelihood(nX2), eps=1e-4)"
   ]
  },
  {
   "cell_type": "markdown",
   "id": "b1f3036f-787d-4ef3-be4d-d92058696add",
   "metadata": {},
   "source": [
    "since the goal is to fill gaps we want the log likelihood for the whole gap and only for it"
   ]
  },
  {
   "cell_type": "code",
   "execution_count": null,
   "id": "d8b9303c-ef6e-4b78-82a7-30c4a2a3cabe",
   "metadata": {},
   "outputs": [],
   "source": [
    "#| export\n",
    "@patch\n",
    "def loglikelihood(self: KalmanFilter,\n",
    "                  obs_train: Tensor, # [n_timesteps, n_dim_obs] Observations use for the filter (can containt missing data)\n",
    "                  times: Tensor, # [n_pred_timesteps] time at which to calculate the log likelihood\n",
    "                  obs_test: Tensor, # [n_pred_timesteps, n_dim_obs] observed data to compute log likelihood\n",
    "                  mask: Tensor=None, # [n_timesteps, n_dim_obs]\n",
    "                 ) -> Tensor: # scalar that is sum of log likelihoods for all `times`\n",
    "    \"Log likelihood only for the `obs_test` at giben times\"\n",
    "    means, stds = self.predict(obs_train, mask=mask)\n",
    "    lls = torch.zeros(len(times))\n",
    "    for t in range(len(times)):\n",
    "        lls[t] = MultivariateNormal(means[t], torch.diag(stds[t]), validate_args=False).log_prob(obs_test[t:t+1])\n",
    "    return lls.sum() \n",
    "        "
   ]
  },
  {
   "cell_type": "code",
   "execution_count": null,
   "id": "f835c524-2487-48e8-b225-b85e3982e14a",
   "metadata": {},
   "outputs": [
    {
     "data": {
      "text/plain": [
       "torch.float32"
      ]
     },
     "execution_count": null,
     "metadata": {},
     "output_type": "execute_result"
    }
   ],
   "source": [
    "torch.diag(std[0]).dtype"
   ]
  },
  {
   "cell_type": "code",
   "execution_count": null,
   "id": "7ef79d76-20f0-4840-a464-8264d30841bc",
   "metadata": {},
   "outputs": [
    {
     "data": {
      "text/plain": [
       "tensor(-47.5645027161, grad_fn=<SumBackward0>)"
      ]
     },
     "execution_count": null,
     "metadata": {},
     "output_type": "execute_result"
    }
   ],
   "source": [
    "tst.filter.loglikelihood(tst.data, tst.mask, tst.data)"
   ]
  },
  {
   "cell_type": "code",
   "execution_count": null,
   "id": "99902f0b-8866-416b-9f56-b2a33c34560e",
   "metadata": {},
   "outputs": [
    {
     "data": {
      "text/plain": [
       "torch.float32"
      ]
     },
     "execution_count": null,
     "metadata": {},
     "output_type": "execute_result"
    }
   ],
   "source": [
    "X2.dtype"
   ]
  },
  {
   "cell_type": "code",
   "execution_count": null,
   "id": "79d48123-6172-4e14-8cc4-5e669c6831f8",
   "metadata": {},
   "outputs": [
    {
     "data": {
      "text/plain": [
       "tensor(-3.1273550987, grad_fn=<SumBackward0>)"
      ]
     },
     "execution_count": null,
     "metadata": {},
     "output_type": "execute_result"
    }
   ],
   "source": [
    "k.loglikelihood(X, [1,2], X[[1,2]])"
   ]
  },
  {
   "cell_type": "code",
   "execution_count": null,
   "id": "9883119c-ce1f-446e-a4f0-42b3ffcdfb5c",
   "metadata": {},
   "outputs": [
    {
     "data": {
      "text/plain": [
       "tensor(-84.5747680664, grad_fn=<SumBackward0>)"
      ]
     },
     "execution_count": null,
     "metadata": {},
     "output_type": "execute_result"
    }
   ],
   "source": [
    "k2.loglikelihood(X2, [1,2], X2[[1,2]])"
   ]
  },
  {
   "cell_type": "code",
   "execution_count": null,
   "id": "b835c9a6-6e3a-4753-876e-630500d10794",
   "metadata": {},
   "outputs": [
    {
     "data": {
      "text/plain": [
       "tensor(-86.9698638916, grad_fn=<SumBackward0>)"
      ]
     },
     "execution_count": null,
     "metadata": {},
     "output_type": "execute_result"
    }
   ],
   "source": [
    "k2.loglikelihood(X2m, [1,2], X2[[1,2]])"
   ]
  },
  {
   "cell_type": "markdown",
   "id": "f8708fc6-9dfc-4ac8-a28a-68be7f873a32",
   "metadata": {},
   "source": [
    "### Get Info"
   ]
  },
  {
   "cell_type": "code",
   "execution_count": null,
   "id": "0f3e61b7-e11e-434a-af78-4396263c9ea1",
   "metadata": {},
   "outputs": [],
   "source": [
    "#| export\n",
    "@patch\n",
    "def get_info(self: KalmanFilter, var_names=None):\n",
    "    out = {}\n",
    "    if var_names is not None: self.var_names = var_names \n",
    "    latent_names = [f\"z_{i}\" for i in range(self.trans_matrices.shape[0])]\n",
    "    out['A'] = array2df(self.trans_matrices, latent_names, latent_names, 'latent')\n",
    "    out['H'] = array2df(self.obs_matrices,        var_names,    latent_names, 'variable')\n",
    "    out['R'] = array2df(self.obs_cov,             var_names,    var_names,     'variable')\n",
    "    out['Q'] = array2df(self.trans_cov,      latent_names, latent_names, 'latent')\n",
    "    return out"
   ]
  },
  {
   "cell_type": "code",
   "execution_count": null,
   "id": "44427c87-ef2c-4624-ab56-408316a71a5e",
   "metadata": {},
   "outputs": [
    {
     "data": {
      "text/html": [
       "<p style='font-size: 1.5rem; font-decoration: bold'><p><div style=\"display: flex; column-gap: 20px; flex-wrap: wrap;\" class='table table-striped table-sm'> <div> <p style='font-size: 1.3rem;'>A</p> <style type=\"text/css\">\n",
       "</style>\n",
       "<table id=\"T_5631d\">\n",
       "  <thead>\n",
       "    <tr>\n",
       "      <th id=\"T_5631d_level0_col0\" class=\"col_heading level0 col0\" >latent</th>\n",
       "      <th id=\"T_5631d_level0_col1\" class=\"col_heading level0 col1\" >z_0</th>\n",
       "    </tr>\n",
       "  </thead>\n",
       "  <tbody>\n",
       "    <tr>\n",
       "      <td id=\"T_5631d_row0_col0\" class=\"data row0 col0\" >z_0</td>\n",
       "      <td id=\"T_5631d_row0_col1\" class=\"data row0 col1\" >1.0000</td>\n",
       "    </tr>\n",
       "  </tbody>\n",
       "</table>\n",
       " </div><div> <p style='font-size: 1.3rem;'>H</p> <style type=\"text/css\">\n",
       "</style>\n",
       "<table id=\"T_acae0\">\n",
       "  <thead>\n",
       "    <tr>\n",
       "      <th id=\"T_acae0_level0_col0\" class=\"col_heading level0 col0\" >z_0</th>\n",
       "    </tr>\n",
       "  </thead>\n",
       "  <tbody>\n",
       "    <tr>\n",
       "      <td id=\"T_acae0_row0_col0\" class=\"data row0 col0\" >1.0000</td>\n",
       "    </tr>\n",
       "  </tbody>\n",
       "</table>\n",
       " </div><div> <p style='font-size: 1.3rem;'>R</p> <style type=\"text/css\">\n",
       "</style>\n",
       "<table id=\"T_e0b79\">\n",
       "  <thead>\n",
       "    <tr>\n",
       "      <th id=\"T_e0b79_level0_col0\" class=\"col_heading level0 col0\" >0</th>\n",
       "    </tr>\n",
       "  </thead>\n",
       "  <tbody>\n",
       "    <tr>\n",
       "      <td id=\"T_e0b79_row0_col0\" class=\"data row0 col0\" >1.0000</td>\n",
       "    </tr>\n",
       "  </tbody>\n",
       "</table>\n",
       " </div><div> <p style='font-size: 1.3rem;'>Q</p> <style type=\"text/css\">\n",
       "</style>\n",
       "<table id=\"T_1134d\">\n",
       "  <thead>\n",
       "    <tr>\n",
       "      <th id=\"T_1134d_level0_col0\" class=\"col_heading level0 col0\" >latent</th>\n",
       "      <th id=\"T_1134d_level0_col1\" class=\"col_heading level0 col1\" >z_0</th>\n",
       "    </tr>\n",
       "  </thead>\n",
       "  <tbody>\n",
       "    <tr>\n",
       "      <td id=\"T_1134d_row0_col0\" class=\"data row0 col0\" >z_0</td>\n",
       "      <td id=\"T_1134d_row0_col1\" class=\"data row0 col1\" >1.0000</td>\n",
       "    </tr>\n",
       "  </tbody>\n",
       "</table>\n",
       " </div></div>"
      ],
      "text/plain": [
       "<IPython.core.display.HTML object>"
      ]
     },
     "metadata": {},
     "output_type": "display_data"
    }
   ],
   "source": [
    "display_as_row(k.get_info())"
   ]
  },
  {
   "cell_type": "code",
   "execution_count": null,
   "id": "27d8ec68-38ff-47ce-9ead-927a2e1179e0",
   "metadata": {},
   "outputs": [
    {
     "data": {
      "text/html": [
       "<p style='font-size: 1.5rem; font-decoration: bold'><p><div style=\"display: flex; column-gap: 20px; flex-wrap: wrap;\" class='table table-striped table-sm'> <div> <p style='font-size: 1.3rem;'>A</p> <style type=\"text/css\">\n",
       "</style>\n",
       "<table id=\"T_493bf\">\n",
       "  <thead>\n",
       "    <tr>\n",
       "      <th id=\"T_493bf_level0_col0\" class=\"col_heading level0 col0\" >latent</th>\n",
       "      <th id=\"T_493bf_level0_col1\" class=\"col_heading level0 col1\" >z_0</th>\n",
       "      <th id=\"T_493bf_level0_col2\" class=\"col_heading level0 col2\" >z_1</th>\n",
       "    </tr>\n",
       "  </thead>\n",
       "  <tbody>\n",
       "    <tr>\n",
       "      <td id=\"T_493bf_row0_col0\" class=\"data row0 col0\" >z_0</td>\n",
       "      <td id=\"T_493bf_row0_col1\" class=\"data row0 col1\" >1.0000</td>\n",
       "      <td id=\"T_493bf_row0_col2\" class=\"data row0 col2\" >0.0000</td>\n",
       "    </tr>\n",
       "    <tr>\n",
       "      <td id=\"T_493bf_row1_col0\" class=\"data row1 col0\" >z_1</td>\n",
       "      <td id=\"T_493bf_row1_col1\" class=\"data row1 col1\" >0.0000</td>\n",
       "      <td id=\"T_493bf_row1_col2\" class=\"data row1 col2\" >1.0000</td>\n",
       "    </tr>\n",
       "  </tbody>\n",
       "</table>\n",
       " </div><div> <p style='font-size: 1.3rem;'>H</p> <style type=\"text/css\">\n",
       "</style>\n",
       "<table id=\"T_61988\">\n",
       "  <thead>\n",
       "    <tr>\n",
       "      <th id=\"T_61988_level0_col0\" class=\"col_heading level0 col0\" >z_0</th>\n",
       "      <th id=\"T_61988_level0_col1\" class=\"col_heading level0 col1\" >z_1</th>\n",
       "    </tr>\n",
       "  </thead>\n",
       "  <tbody>\n",
       "    <tr>\n",
       "      <td id=\"T_61988_row0_col0\" class=\"data row0 col0\" >1.0000</td>\n",
       "      <td id=\"T_61988_row0_col1\" class=\"data row0 col1\" >0.0000</td>\n",
       "    </tr>\n",
       "    <tr>\n",
       "      <td id=\"T_61988_row1_col0\" class=\"data row1 col0\" >0.0000</td>\n",
       "      <td id=\"T_61988_row1_col1\" class=\"data row1 col1\" >1.0000</td>\n",
       "    </tr>\n",
       "  </tbody>\n",
       "</table>\n",
       " </div><div> <p style='font-size: 1.3rem;'>R</p> <style type=\"text/css\">\n",
       "</style>\n",
       "<table id=\"T_d152c\">\n",
       "  <thead>\n",
       "    <tr>\n",
       "      <th id=\"T_d152c_level0_col0\" class=\"col_heading level0 col0\" >0</th>\n",
       "      <th id=\"T_d152c_level0_col1\" class=\"col_heading level0 col1\" >1</th>\n",
       "    </tr>\n",
       "  </thead>\n",
       "  <tbody>\n",
       "    <tr>\n",
       "      <td id=\"T_d152c_row0_col0\" class=\"data row0 col0\" >1.0000</td>\n",
       "      <td id=\"T_d152c_row0_col1\" class=\"data row0 col1\" >0.0000</td>\n",
       "    </tr>\n",
       "    <tr>\n",
       "      <td id=\"T_d152c_row1_col0\" class=\"data row1 col0\" >0.0000</td>\n",
       "      <td id=\"T_d152c_row1_col1\" class=\"data row1 col1\" >1.0000</td>\n",
       "    </tr>\n",
       "  </tbody>\n",
       "</table>\n",
       " </div><div> <p style='font-size: 1.3rem;'>Q</p> <style type=\"text/css\">\n",
       "</style>\n",
       "<table id=\"T_1fa9c\">\n",
       "  <thead>\n",
       "    <tr>\n",
       "      <th id=\"T_1fa9c_level0_col0\" class=\"col_heading level0 col0\" >latent</th>\n",
       "      <th id=\"T_1fa9c_level0_col1\" class=\"col_heading level0 col1\" >z_0</th>\n",
       "      <th id=\"T_1fa9c_level0_col2\" class=\"col_heading level0 col2\" >z_1</th>\n",
       "    </tr>\n",
       "  </thead>\n",
       "  <tbody>\n",
       "    <tr>\n",
       "      <td id=\"T_1fa9c_row0_col0\" class=\"data row0 col0\" >z_0</td>\n",
       "      <td id=\"T_1fa9c_row0_col1\" class=\"data row0 col1\" >1.0000</td>\n",
       "      <td id=\"T_1fa9c_row0_col2\" class=\"data row0 col2\" >0.0000</td>\n",
       "    </tr>\n",
       "    <tr>\n",
       "      <td id=\"T_1fa9c_row1_col0\" class=\"data row1 col0\" >z_1</td>\n",
       "      <td id=\"T_1fa9c_row1_col1\" class=\"data row1 col1\" >0.0000</td>\n",
       "      <td id=\"T_1fa9c_row1_col2\" class=\"data row1 col2\" >1.0000</td>\n",
       "    </tr>\n",
       "  </tbody>\n",
       "</table>\n",
       " </div></div>"
      ],
      "text/plain": [
       "<IPython.core.display.HTML object>"
      ]
     },
     "metadata": {},
     "output_type": "display_data"
    }
   ],
   "source": [
    "display_as_row(k2.get_info())"
   ]
  },
  {
   "cell_type": "markdown",
   "id": "86e751b6-5a43-4db6-8117-b14f542e8d31",
   "metadata": {},
   "source": [
    "## Train Parameters"
   ]
  },
  {
   "cell_type": "markdown",
   "id": "4d6504ca-96b5-4c33-89b4-07e2709f0b2d",
   "metadata": {},
   "source": [
    "This implementation of `KalmanFilter` allows to find the optimal parameters by maximising the log-likelihood using gradient descend"
   ]
  },
  {
   "cell_type": "code",
   "execution_count": null,
   "id": "880f4455-b74f-433e-82a0-7faf2feb90c7",
   "metadata": {},
   "outputs": [],
   "source": [
    "training_iter = 200\n",
    "k = KalmanFilter()\n",
    "k.train()\n",
    "\n",
    "optimizer = torch.optim.Adam(k.parameters(), lr=0.005) \n",
    "\n",
    "losses = []\n",
    "for i in range(training_iter):\n",
    "    # Zero gradients from previous iteration\n",
    "    optimizer.zero_grad()\n",
    "    # Output from model\n",
    "    loss = - k.loglikelihood(X, range(len(X)), X)\n",
    "    losses.append(loss.item())\n",
    "    # backpropagate gradients\n",
    "    loss.backward()\n",
    "    optimizer.step()"
   ]
  },
  {
   "cell_type": "code",
   "execution_count": null,
   "id": "3000d77e-5bc2-411f-aaee-45561541e459",
   "metadata": {},
   "outputs": [],
   "source": [
    "import matplotlib.pyplot as plt"
   ]
  },
  {
   "cell_type": "code",
   "execution_count": null,
   "id": "a58bed23-d408-4fdf-a8dd-684782c9f30b",
   "metadata": {},
   "outputs": [
    {
     "data": {
      "text/plain": [
       "[<matplotlib.lines.Line2D>]"
      ]
     },
     "execution_count": null,
     "metadata": {},
     "output_type": "execute_result"
    },
    {
     "data": {
      "image/png": "[encoded data removed]",
      "text/plain": [
       "<Figure size 432x288 with 1 Axes>"
      ]
     },
     "metadata": {
      "needs_background": "light"
     },
     "output_type": "display_data"
    }
   ],
   "source": [
    "plt.plot(losses)"
   ]
  },
  {
   "cell_type": "code",
   "execution_count": null,
   "id": "5f14ff35-cdd1-4b65-bdc8-4b863a3829ac",
   "metadata": {},
   "outputs": [
    {
     "data": {
      "text/plain": [
       "[Parameter containing:\n",
       " tensor([[1.3400094509]], requires_grad=True),\n",
       " Parameter containing:\n",
       " tensor([0.4287530482], requires_grad=True),\n",
       " Parameter containing:\n",
       " tensor([[0.1470584720]], requires_grad=True),\n",
       " Parameter containing:\n",
       " tensor([[0.1455851793]], requires_grad=True),\n",
       " Parameter containing:\n",
       " tensor([-0.4134024680], requires_grad=True),\n",
       " Parameter containing:\n",
       " tensor([[0.0268113427]], requires_grad=True),\n",
       " Parameter containing:\n",
       " tensor([0.4979022741], requires_grad=True),\n",
       " Parameter containing:\n",
       " tensor([[0.1377424598]], requires_grad=True)]"
      ]
     },
     "execution_count": null,
     "metadata": {},
     "output_type": "execute_result"
    }
   ],
   "source": [
    "list(k.parameters())"
   ]
  },
  {
   "cell_type": "markdown",
   "id": "f9c4a0b2-8726-4365-8938-5fcd07870433",
   "metadata": {},
   "source": [
    "## Other"
   ]
  },
  {
   "cell_type": "markdown",
   "id": "2b66596a-16d3-40c2-8f26-82e4774972b4",
   "metadata": {},
   "source": [
    "### Testing"
   ]
  },
  {
   "cell_type": "markdown",
   "id": "0e752a79-40f6-4b60-afa0-55d957b785f0",
   "metadata": {},
   "source": [
    "### Fuzzing smoother"
   ]
  },
  {
   "cell_type": "markdown",
   "id": "3f9c8549-812b-4fc3-b3b7-3d8014142149",
   "metadata": {},
   "source": [
    "trying to run the filter many times to see if some of the matrix are not symmetric"
   ]
  },
  {
   "cell_type": "code",
   "execution_count": null,
   "id": "58dde19d-1beb-406c-ac91-403c4cff2eb1",
   "metadata": {},
   "outputs": [],
   "source": [
    "from torch._C import _LinAlgError"
   ]
  },
  {
   "cell_type": "code",
   "execution_count": null,
   "id": "88812806-c834-48ea-965d-66bc92ab6fc8",
   "metadata": {},
   "outputs": [],
   "source": [
    "def fuzz_symmetric(n_iter=10, n_obs=100, **kwargs):\n",
    "    tst = KalmanFilterTester(n_obs=n_obs, **kwargs)\n",
    "    _, sm_covs = tst.filter.smooth(tst.data, tst.mask)\n",
    "    i_posdef = []\n",
    "    for t, cov in enumerate(sm_covs):\n",
    "        i_posdef.append(check_posdef(cov))\n",
    "    return pd.concat(i_posdef)\n",
    "    "
   ]
  },
  {
   "cell_type": "code",
   "execution_count": null,
   "id": "07ef7409-fa59-4876-b29f-eb3a1291ac82",
   "metadata": {},
   "outputs": [],
   "source": [
    "def fuzz_smooth(n_obs=100, **kwargs):\n",
    "    tst = KalmanFilterTester(n_obs=n_obs, **kwargs)\n",
    "    _, sm_covs = tst.filter.smooth(tst.data, tst.mask, check_args= {})\n",
    "    "
   ]
  },
  {
   "cell_type": "code",
   "execution_count": null,
   "id": "4577166a-27bf-4416-8d63-ded29fa24138",
   "metadata": {},
   "outputs": [],
   "source": [
    "def find_max_obs(start=100_000, end=100, steps=10, **kwargs):\n",
    "    for n in torch.logspace(torch.log10(start), torch.log10(end), 10):\n",
    "        try:\n",
    "            %time fuzz_smooth(n_obs=int(n), **kwargs)\n",
    "            print(n, \"working\")\n",
    "            break\n",
    "        except _LinAlgError:\n",
    "            print(n, \"not working\")\n",
    "    "
   ]
  },
  {
   "cell_type": "code",
   "execution_count": null,
   "id": "8e795492-084c-46b8-8700-3cafeea1b1f7",
   "metadata": {},
   "outputs": [],
   "source": [
    "import warnings"
   ]
  },
  {
   "cell_type": "code",
   "execution_count": null,
   "id": "f372a762-1ea0-49c1-a61a-599bc033bab8",
   "metadata": {},
   "outputs": [],
   "source": [
    "posdef_log = pd.DataFrame()"
   ]
  },
  {
   "cell_type": "code",
   "execution_count": null,
   "id": "f1c2c8c6-5858-4c61-bc46-4931cc461f65",
   "metadata": {},
   "outputs": [
    {
     "name": "stdout",
     "output_type": "stream",
     "text": [
      "27\n"
     ]
    }
   ],
   "source": [
    "total_warn = []\n",
    "for n in range(2, 200):\n",
    "    with warnings.catch_warnings(record=True) as w:\n",
    "        try:\n",
    "            fuzz_smooth(n_obs=n)\n",
    "        except _LinAlgError:\n",
    "            print(n)\n",
    "            break\n",
    "        finally:\n",
    "            total_warn.append((n, len(w)))\n",
    "    "
   ]
  },
  {
   "cell_type": "code",
   "execution_count": null,
   "id": "38cca555-3f53-4b29-9d36-fdd3dafe36ee",
   "metadata": {},
   "outputs": [
    {
     "data": {
      "text/html": [
       "<div>\n",
       "<style scoped>\n",
       "    .dataframe tbody tr th:only-of-type {\n",
       "        vertical-align: middle;\n",
       "    }\n",
       "\n",
       "    .dataframe tbody tr th {\n",
       "        vertical-align: top;\n",
       "    }\n",
       "\n",
       "    .dataframe thead th {\n",
       "        text-align: right;\n",
       "    }\n",
       "</style>\n",
       "<table border=\"1\" class=\"dataframe\">\n",
       "  <thead>\n",
       "    <tr style=\"text-align: right;\">\n",
       "      <th></th>\n",
       "      <th>is_pd_eigv</th>\n",
       "      <th>is_pd_chol</th>\n",
       "      <th>is_sym</th>\n",
       "      <th>sym_upto</th>\n",
       "      <th>eigv</th>\n",
       "      <th>matrix</th>\n",
       "      <th>name</th>\n",
       "      <th>t</th>\n",
       "    </tr>\n",
       "  </thead>\n",
       "  <tbody>\n",
       "    <tr>\n",
       "      <th>0</th>\n",
       "      <td>True</td>\n",
       "      <td>True</td>\n",
       "      <td>True</td>\n",
       "      <td>-8</td>\n",
       "      <td>[0.0044204406, 0.51171917, 1.1058657]</td>\n",
       "      <td>[[0.07919369, 0.21216275, 0.08634329], [0.2121...</td>\n",
       "      <td>filter_correct</td>\n",
       "      <td>0</td>\n",
       "    </tr>\n",
       "    <tr>\n",
       "      <th>0</th>\n",
       "      <td>True</td>\n",
       "      <td>True</td>\n",
       "      <td>True</td>\n",
       "      <td>-8</td>\n",
       "      <td>[0.14680785, 0.6775383, 5.3274283]</td>\n",
       "      <td>[[2.041435, 1.3869133, 1.601786], [1.3869132, ...</td>\n",
       "      <td>filter_predict</td>\n",
       "      <td>1</td>\n",
       "    </tr>\n",
       "    <tr>\n",
       "      <th>0</th>\n",
       "      <td>True</td>\n",
       "      <td>True</td>\n",
       "      <td>True</td>\n",
       "      <td>-8</td>\n",
       "      <td>[0.14680785, 0.6775383, 5.3274283]</td>\n",
       "      <td>[[2.041435, 1.3869133, 1.601786], [1.3869132, ...</td>\n",
       "      <td>filter_correct</td>\n",
       "      <td>1</td>\n",
       "    </tr>\n",
       "    <tr>\n",
       "      <th>0</th>\n",
       "      <td>True</td>\n",
       "      <td>True</td>\n",
       "      <td>True</td>\n",
       "      <td>-8</td>\n",
       "      <td>[[0.0044204514, 0.5117193, 1.1058657], [0.0959...</td>\n",
       "      <td>[[[0.07919369, 0.21216275, 0.08634329], [0.212...</td>\n",
       "      <td>filter_correct</td>\n",
       "      <td>0</td>\n",
       "    </tr>\n",
       "    <tr>\n",
       "      <th>0</th>\n",
       "      <td>True</td>\n",
       "      <td>True</td>\n",
       "      <td>True</td>\n",
       "      <td>-8</td>\n",
       "      <td>[0.0044204406, 0.51171917, 1.1058657]</td>\n",
       "      <td>[[0.07919369, 0.21216275, 0.08634329], [0.2121...</td>\n",
       "      <td>filter_correct</td>\n",
       "      <td>0</td>\n",
       "    </tr>\n",
       "    <tr>\n",
       "      <th>...</th>\n",
       "      <td>...</td>\n",
       "      <td>...</td>\n",
       "      <td>...</td>\n",
       "      <td>...</td>\n",
       "      <td>...</td>\n",
       "      <td>...</td>\n",
       "      <td>...</td>\n",
       "      <td>...</td>\n",
       "    </tr>\n",
       "    <tr>\n",
       "      <th>0</th>\n",
       "      <td>True</td>\n",
       "      <td>True</td>\n",
       "      <td>True</td>\n",
       "      <td>-8</td>\n",
       "      <td>[0.3388391, 0.69478154, 18449.22]</td>\n",
       "      <td>[[7131.8594, 6422.1284, 6281.904], [6422.1284,...</td>\n",
       "      <td>filter_correct</td>\n",
       "      <td>9</td>\n",
       "    </tr>\n",
       "    <tr>\n",
       "      <th>0</th>\n",
       "      <td>True</td>\n",
       "      <td>True</td>\n",
       "      <td>True</td>\n",
       "      <td>-8</td>\n",
       "      <td>[0.33459213, 0.6852231, 77041.47]</td>\n",
       "      <td>[[29782.723, 26819.559, 26233.049], [26819.559...</td>\n",
       "      <td>filter_predict</td>\n",
       "      <td>10</td>\n",
       "    </tr>\n",
       "    <tr>\n",
       "      <th>0</th>\n",
       "      <td>True</td>\n",
       "      <td>True</td>\n",
       "      <td>True</td>\n",
       "      <td>-8</td>\n",
       "      <td>[0.33459213, 0.6852231, 77041.47]</td>\n",
       "      <td>[[29782.723, 26819.559, 26233.049], [26819.559...</td>\n",
       "      <td>filter_correct</td>\n",
       "      <td>10</td>\n",
       "    </tr>\n",
       "    <tr>\n",
       "      <th>0</th>\n",
       "      <td>False</td>\n",
       "      <td>False</td>\n",
       "      <td>False</td>\n",
       "      <td>2</td>\n",
       "      <td>[-797.5366, -56.76306, 29.798246]</td>\n",
       "      <td>[[-327.70764, -295.44025, -289.2465], [-348.85...</td>\n",
       "      <td>filter_predict</td>\n",
       "      <td>11</td>\n",
       "    </tr>\n",
       "    <tr>\n",
       "      <th>0</th>\n",
       "      <td>False</td>\n",
       "      <td>False</td>\n",
       "      <td>False</td>\n",
       "      <td>2</td>\n",
       "      <td>[-797.5366, -56.76306, 29.798246]</td>\n",
       "      <td>[[-327.70764, -295.44025, -289.2465], [-348.85...</td>\n",
       "      <td>filter_correct</td>\n",
       "      <td>11</td>\n",
       "    </tr>\n",
       "  </tbody>\n",
       "</table>\n",
       "<p>198 rows × 8 columns</p>\n",
       "</div>"
      ],
      "text/plain": [
       "    is_pd_eigv  is_pd_chol  is_sym  sym_upto  \\\n",
       "0         True        True    True        -8   \n",
       "0         True        True    True        -8   \n",
       "0         True        True    True        -8   \n",
       "0         True        True    True        -8   \n",
       "0         True        True    True        -8   \n",
       "..         ...         ...     ...       ...   \n",
       "0         True        True    True        -8   \n",
       "0         True        True    True        -8   \n",
       "0         True        True    True        -8   \n",
       "0        False       False   False         2   \n",
       "0        False       False   False         2   \n",
       "\n",
       "                                                 eigv  \\\n",
       "0               [0.0044204406, 0.51171917, 1.1058657]   \n",
       "0                  [0.14680785, 0.6775383, 5.3274283]   \n",
       "0                  [0.14680785, 0.6775383, 5.3274283]   \n",
       "0   [[0.0044204514, 0.5117193, 1.1058657], [0.0959...   \n",
       "0               [0.0044204406, 0.51171917, 1.1058657]   \n",
       "..                                                ...   \n",
       "0                   [0.3388391, 0.69478154, 18449.22]   \n",
       "0                   [0.33459213, 0.6852231, 77041.47]   \n",
       "0                   [0.33459213, 0.6852231, 77041.47]   \n",
       "0                   [-797.5366, -56.76306, 29.798246]   \n",
       "0                   [-797.5366, -56.76306, 29.798246]   \n",
       "\n",
       "                                               matrix            name   t  \n",
       "0   [[0.07919369, 0.21216275, 0.08634329], [0.2121...  filter_correct   0  \n",
       "0   [[2.041435, 1.3869133, 1.601786], [1.3869132, ...  filter_predict   1  \n",
       "0   [[2.041435, 1.3869133, 1.601786], [1.3869132, ...  filter_correct   1  \n",
       "0   [[[0.07919369, 0.21216275, 0.08634329], [0.212...  filter_correct   0  \n",
       "0   [[0.07919369, 0.21216275, 0.08634329], [0.2121...  filter_correct   0  \n",
       "..                                                ...             ...  ..  \n",
       "0   [[7131.8594, 6422.1284, 6281.904], [6422.1284,...  filter_correct   9  \n",
       "0   [[29782.723, 26819.559, 26233.049], [26819.559...  filter_predict  10  \n",
       "0   [[29782.723, 26819.559, 26233.049], [26819.559...  filter_correct  10  \n",
       "0   [[-327.70764, -295.44025, -289.2465], [-348.85...  filter_predict  11  \n",
       "0   [[-327.70764, -295.44025, -289.2465], [-348.85...  filter_correct  11  \n",
       "\n",
       "[198 rows x 8 columns]"
      ]
     },
     "execution_count": null,
     "metadata": {},
     "output_type": "execute_result"
    }
   ],
   "source": [
    "posdef_log"
   ]
  },
  {
   "cell_type": "code",
   "execution_count": null,
   "id": "bf73303a-16ec-45ff-ac45-94ae4ea242c4",
   "metadata": {},
   "outputs": [],
   "source": [
    "import altair as alt"
   ]
  },
  {
   "cell_type": "code",
   "execution_count": null,
   "id": "1fd02a6e-8ecc-48b3-afde-e841cbd20b86",
   "metadata": {},
   "outputs": [
    {
     "name": "stderr",
     "output_type": "stream",
     "text": [
      "/home/simone/.local/lib/python3.10/site-packages/altair/utils/core.py:317: FutureWarning: iteritems is deprecated and will be removed in a future version. Use .items instead.\n",
      "  for col_name, dtype in df.dtypes.iteritems():\n"
     ]
    },
    {
     "data": {
      "text/html": [
       "\n",
       "<div id=\"altair-viz-2f67a1f1cfb14583a13a477928af86c3\"></div>\n",
       "<script type=\"text/javascript\">\n",
       "  var VEGA_DEBUG = (typeof VEGA_DEBUG == \"undefined\") ? {} : VEGA_DEBUG;\n",
       "  (function(spec, embedOpt){\n",
       "    let outputDiv = document.currentScript.previousElementSibling;\n",
       "    if (outputDiv.id !== \"altair-viz-2f67a1f1cfb14583a13a477928af86c3\") {\n",
       "      outputDiv = document.getElementById(\"altair-viz-2f67a1f1cfb14583a13a477928af86c3\");\n",
       "    }\n",
       "    const paths = {\n",
       "      \"vega\": \"https://cdn.jsdelivr.net/npm//vega@5?noext\",\n",
       "      \"vega-lib\": \"https://cdn.jsdelivr.net/npm//vega-lib?noext\",\n",
       "      \"vega-lite\": \"https://cdn.jsdelivr.net/npm//vega-lite@4.17.0?noext\",\n",
       "      \"vega-embed\": \"https://cdn.jsdelivr.net/npm//vega-embed@6?noext\",\n",
       "    };\n",
       "\n",
       "    function maybeLoadScript(lib, version) {\n",
       "      var key = `${lib.replace(\"-\", \"\")}_version`;\n",
       "      return (VEGA_DEBUG[key] == version) ?\n",
       "        Promise.resolve(paths[lib]) :\n",
       "        new Promise(function(resolve, reject) {\n",
       "          var s = document.createElement('script');\n",
       "          document.getElementsByTagName(\"head\")[0].appendChild(s);\n",
       "          s.async = true;\n",
       "          s.onload = () => {\n",
       "            VEGA_DEBUG[key] = version;\n",
       "            return resolve(paths[lib]);\n",
       "          };\n",
       "          s.onerror = () => reject(`Error loading script: ${paths[lib]}`);\n",
       "          s.src = paths[lib];\n",
       "        });\n",
       "    }\n",
       "\n",
       "    function showError(err) {\n",
       "      outputDiv.innerHTML = `<div class=\"error\" style=\"color:red;\">${err}</div>`;\n",
       "      throw err;\n",
       "    }\n",
       "\n",
       "    function displayChart(vegaEmbed) {\n",
       "      vegaEmbed(outputDiv, spec, embedOpt)\n",
       "        .catch(err => showError(`Javascript Error: ${err.message}<br>This usually means there's a typo in your chart specification. See the javascript console for the full traceback.`));\n",
       "    }\n",
       "\n",
       "    if(typeof define === \"function\" && define.amd) {\n",
       "      requirejs.config({paths});\n",
       "      require([\"vega-embed\"], displayChart, err => showError(`Error loading script: ${err.message}`));\n",
       "    } else {\n",
       "      maybeLoadScript(\"vega\", \"5\")\n",
       "        .then(() => maybeLoadScript(\"vega-lite\", \"4.17.0\"))\n",
       "        .then(() => maybeLoadScript(\"vega-embed\", \"6\"))\n",
       "        .catch(showError)\n",
       "        .then(() => displayChart(vegaEmbed));\n",
       "    }\n",
       "  })({\"config\": {\"view\": {\"continuousWidth\": 400, \"continuousHeight\": 300}}, \"data\": {\"name\": \"data-b10bc7f46a07a942ba21433b332eb9de\"}, \"mark\": \"line\", \"encoding\": {\"x\": {\"field\": \"n_obs\", \"type\": \"quantitative\"}, \"y\": {\"field\": \"n_not_posdef\", \"type\": \"quantitative\"}}, \"$schema\": \"https://vega.github.io/schema/vega-lite/v4.17.0.json\", \"datasets\": {\"data-b10bc7f46a07a942ba21433b332eb9de\": [{\"n_obs\": 2, \"n_not_posdef\": 0}, {\"n_obs\": 3, \"n_not_posdef\": 0}, {\"n_obs\": 4, \"n_not_posdef\": 0}, {\"n_obs\": 5, \"n_not_posdef\": 0}, {\"n_obs\": 6, \"n_not_posdef\": 0}, {\"n_obs\": 7, \"n_not_posdef\": 0}, {\"n_obs\": 8, \"n_not_posdef\": 0}, {\"n_obs\": 9, \"n_not_posdef\": 0}, {\"n_obs\": 10, \"n_not_posdef\": 0}, {\"n_obs\": 11, \"n_not_posdef\": 0}, {\"n_obs\": 12, \"n_not_posdef\": 2}]}}, {\"mode\": \"vega-lite\"});\n",
       "</script>"
      ],
      "text/plain": [
       "alt.Chart(...)"
      ]
     },
     "execution_count": null,
     "metadata": {},
     "output_type": "execute_result"
    }
   ],
   "source": [
    "alt.Chart(pd.DataFrame(total_warn, columns=[\"n_obs\", \"n_not_posdef\"])).mark_line().encode(alt.X(\"n_obs\"), alt.Y(\"n_not_posdef\"))"
   ]
  },
  {
   "cell_type": "code",
   "execution_count": null,
   "id": "94471f51-e46c-4a10-9a8f-67baa1ba1c2a",
   "metadata": {},
   "outputs": [
    {
     "data": {
      "text/plain": [
       "DataTransformerRegistry.enable('data_server')"
      ]
     },
     "execution_count": null,
     "metadata": {},
     "output_type": "execute_result"
    }
   ],
   "source": [
    "alt.data_transformers.enable('data_server')"
   ]
  },
  {
   "cell_type": "code",
   "execution_count": null,
   "id": "d69f9068-6a0a-40cf-80a2-8de51b03583f",
   "metadata": {},
   "outputs": [
    {
     "data": {
      "text/html": [
       "\n",
       "<div id=\"altair-viz-627c2ce957f74a4bbfe8256d64b29023\"></div>\n",
       "<script type=\"text/javascript\">\n",
       "  var VEGA_DEBUG = (typeof VEGA_DEBUG == \"undefined\") ? {} : VEGA_DEBUG;\n",
       "  (function(spec, embedOpt){\n",
       "    let outputDiv = document.currentScript.previousElementSibling;\n",
       "    if (outputDiv.id !== \"altair-viz-627c2ce957f74a4bbfe8256d64b29023\") {\n",
       "      outputDiv = document.getElementById(\"altair-viz-627c2ce957f74a4bbfe8256d64b29023\");\n",
       "    }\n",
       "    const paths = {\n",
       "      \"vega\": \"https://cdn.jsdelivr.net/npm//vega@5?noext\",\n",
       "      \"vega-lib\": \"https://cdn.jsdelivr.net/npm//vega-lib?noext\",\n",
       "      \"vega-lite\": \"https://cdn.jsdelivr.net/npm//vega-lite@4.17.0?noext\",\n",
       "      \"vega-embed\": \"https://cdn.jsdelivr.net/npm//vega-embed@6?noext\",\n",
       "    };\n",
       "\n",
       "    function maybeLoadScript(lib, version) {\n",
       "      var key = `${lib.replace(\"-\", \"\")}_version`;\n",
       "      return (VEGA_DEBUG[key] == version) ?\n",
       "        Promise.resolve(paths[lib]) :\n",
       "        new Promise(function(resolve, reject) {\n",
       "          var s = document.createElement('script');\n",
       "          document.getElementsByTagName(\"head\")[0].appendChild(s);\n",
       "          s.async = true;\n",
       "          s.onload = () => {\n",
       "            VEGA_DEBUG[key] = version;\n",
       "            return resolve(paths[lib]);\n",
       "          };\n",
       "          s.onerror = () => reject(`Error loading script: ${paths[lib]}`);\n",
       "          s.src = paths[lib];\n",
       "        });\n",
       "    }\n",
       "\n",
       "    function showError(err) {\n",
       "      outputDiv.innerHTML = `<div class=\"error\" style=\"color:red;\">${err}</div>`;\n",
       "      throw err;\n",
       "    }\n",
       "\n",
       "    function displayChart(vegaEmbed) {\n",
       "      vegaEmbed(outputDiv, spec, embedOpt)\n",
       "        .catch(err => showError(`Javascript Error: ${err.message}<br>This usually means there's a typo in your chart specification. See the javascript console for the full traceback.`));\n",
       "    }\n",
       "\n",
       "    if(typeof define === \"function\" && define.amd) {\n",
       "      requirejs.config({paths});\n",
       "      require([\"vega-embed\"], displayChart, err => showError(`Error loading script: ${err.message}`));\n",
       "    } else {\n",
       "      maybeLoadScript(\"vega\", \"5\")\n",
       "        .then(() => maybeLoadScript(\"vega-lite\", \"4.17.0\"))\n",
       "        .then(() => maybeLoadScript(\"vega-embed\", \"6\"))\n",
       "        .catch(showError)\n",
       "        .then(() => displayChart(vegaEmbed));\n",
       "    }\n",
       "  })({\"config\": {\"view\": {\"continuousWidth\": 400, \"continuousHeight\": 300}}, \"data\": {\"url\": \"http://localhost:33689/18996f52761ab3221e555812a344dbfe.json\"}, \"mark\": \"line\", \"encoding\": {\"x\": {\"field\": \"t\", \"type\": \"quantitative\"}, \"y\": {\"aggregate\": \"average\", \"field\": \"sym_upto\", \"type\": \"quantitative\"}}, \"$schema\": \"https://vega.github.io/schema/vega-lite/v4.17.0.json\"}, {\"mode\": \"vega-lite\"});\n",
       "</script>"
      ],
      "text/plain": [
       "alt.Chart(...)"
      ]
     },
     "execution_count": null,
     "metadata": {},
     "output_type": "execute_result"
    }
   ],
   "source": [
    "alt.Chart(posdef_log).mark_line().encode(alt.X(\"t\"), alt.Y(\"average(sym_upto)\"))"
   ]
  },
  {
   "cell_type": "code",
   "execution_count": null,
   "id": "0aa02cf7-346c-4988-9d57-f3139981a134",
   "metadata": {},
   "outputs": [
    {
     "data": {
      "text/html": [
       "\n",
       "<div id=\"altair-viz-1ace05bb9bc1483cb22cbfbe34eb7f78\"></div>\n",
       "<script type=\"text/javascript\">\n",
       "  var VEGA_DEBUG = (typeof VEGA_DEBUG == \"undefined\") ? {} : VEGA_DEBUG;\n",
       "  (function(spec, embedOpt){\n",
       "    let outputDiv = document.currentScript.previousElementSibling;\n",
       "    if (outputDiv.id !== \"altair-viz-1ace05bb9bc1483cb22cbfbe34eb7f78\") {\n",
       "      outputDiv = document.getElementById(\"altair-viz-1ace05bb9bc1483cb22cbfbe34eb7f78\");\n",
       "    }\n",
       "    const paths = {\n",
       "      \"vega\": \"https://cdn.jsdelivr.net/npm//vega@5?noext\",\n",
       "      \"vega-lib\": \"https://cdn.jsdelivr.net/npm//vega-lib?noext\",\n",
       "      \"vega-lite\": \"https://cdn.jsdelivr.net/npm//vega-lite@4.17.0?noext\",\n",
       "      \"vega-embed\": \"https://cdn.jsdelivr.net/npm//vega-embed@6?noext\",\n",
       "    };\n",
       "\n",
       "    function maybeLoadScript(lib, version) {\n",
       "      var key = `${lib.replace(\"-\", \"\")}_version`;\n",
       "      return (VEGA_DEBUG[key] == version) ?\n",
       "        Promise.resolve(paths[lib]) :\n",
       "        new Promise(function(resolve, reject) {\n",
       "          var s = document.createElement('script');\n",
       "          document.getElementsByTagName(\"head\")[0].appendChild(s);\n",
       "          s.async = true;\n",
       "          s.onload = () => {\n",
       "            VEGA_DEBUG[key] = version;\n",
       "            return resolve(paths[lib]);\n",
       "          };\n",
       "          s.onerror = () => reject(`Error loading script: ${paths[lib]}`);\n",
       "          s.src = paths[lib];\n",
       "        });\n",
       "    }\n",
       "\n",
       "    function showError(err) {\n",
       "      outputDiv.innerHTML = `<div class=\"error\" style=\"color:red;\">${err}</div>`;\n",
       "      throw err;\n",
       "    }\n",
       "\n",
       "    function displayChart(vegaEmbed) {\n",
       "      vegaEmbed(outputDiv, spec, embedOpt)\n",
       "        .catch(err => showError(`Javascript Error: ${err.message}<br>This usually means there's a typo in your chart specification. See the javascript console for the full traceback.`));\n",
       "    }\n",
       "\n",
       "    if(typeof define === \"function\" && define.amd) {\n",
       "      requirejs.config({paths});\n",
       "      require([\"vega-embed\"], displayChart, err => showError(`Error loading script: ${err.message}`));\n",
       "    } else {\n",
       "      maybeLoadScript(\"vega\", \"5\")\n",
       "        .then(() => maybeLoadScript(\"vega-lite\", \"4.17.0\"))\n",
       "        .then(() => maybeLoadScript(\"vega-embed\", \"6\"))\n",
       "        .catch(showError)\n",
       "        .then(() => displayChart(vegaEmbed));\n",
       "    }\n",
       "  })({\"config\": {\"view\": {\"continuousWidth\": 400, \"continuousHeight\": 300}}, \"data\": {\"url\": \"http://localhost:33689/18996f52761ab3221e555812a344dbfe.json\"}, \"mark\": \"point\", \"encoding\": {\"x\": {\"field\": \"t\", \"type\": \"quantitative\"}, \"y\": {\"aggregate\": \"count\", \"field\": \"is_sym\", \"type\": \"nominal\"}}, \"$schema\": \"https://vega.github.io/schema/vega-lite/v4.17.0.json\"}, {\"mode\": \"vega-lite\"});\n",
       "</script>"
      ],
      "text/plain": [
       "alt.Chart(...)"
      ]
     },
     "execution_count": null,
     "metadata": {},
     "output_type": "execute_result"
    }
   ],
   "source": [
    "alt.Chart(posdef_log).mark_point().encode(alt.X(\"t\"), alt.Y(\"count(is_sym)\"))"
   ]
  },
  {
   "cell_type": "code",
   "execution_count": null,
   "id": "0a74274d-cbbe-4ad6-b81c-2ab060bd6bcf",
   "metadata": {},
   "outputs": [
    {
     "data": {
      "text/html": [
       "<div>\n",
       "<style scoped>\n",
       "    .dataframe tbody tr th:only-of-type {\n",
       "        vertical-align: middle;\n",
       "    }\n",
       "\n",
       "    .dataframe tbody tr th {\n",
       "        vertical-align: top;\n",
       "    }\n",
       "\n",
       "    .dataframe thead th {\n",
       "        text-align: right;\n",
       "    }\n",
       "</style>\n",
       "<table border=\"1\" class=\"dataframe\">\n",
       "  <thead>\n",
       "    <tr style=\"text-align: right;\">\n",
       "      <th></th>\n",
       "      <th>t</th>\n",
       "      <th>name</th>\n",
       "    </tr>\n",
       "  </thead>\n",
       "  <tbody>\n",
       "    <tr>\n",
       "      <th>0</th>\n",
       "      <td>0</td>\n",
       "      <td>filter_correct</td>\n",
       "    </tr>\n",
       "    <tr>\n",
       "      <th>0</th>\n",
       "      <td>1</td>\n",
       "      <td>filter_predict</td>\n",
       "    </tr>\n",
       "    <tr>\n",
       "      <th>0</th>\n",
       "      <td>1</td>\n",
       "      <td>filter_correct</td>\n",
       "    </tr>\n",
       "    <tr>\n",
       "      <th>0</th>\n",
       "      <td>0</td>\n",
       "      <td>filter_correct</td>\n",
       "    </tr>\n",
       "    <tr>\n",
       "      <th>0</th>\n",
       "      <td>0</td>\n",
       "      <td>filter_correct</td>\n",
       "    </tr>\n",
       "    <tr>\n",
       "      <th>...</th>\n",
       "      <td>...</td>\n",
       "      <td>...</td>\n",
       "    </tr>\n",
       "    <tr>\n",
       "      <th>0</th>\n",
       "      <td>9</td>\n",
       "      <td>filter_correct</td>\n",
       "    </tr>\n",
       "    <tr>\n",
       "      <th>0</th>\n",
       "      <td>10</td>\n",
       "      <td>filter_predict</td>\n",
       "    </tr>\n",
       "    <tr>\n",
       "      <th>0</th>\n",
       "      <td>10</td>\n",
       "      <td>filter_correct</td>\n",
       "    </tr>\n",
       "    <tr>\n",
       "      <th>0</th>\n",
       "      <td>11</td>\n",
       "      <td>filter_predict</td>\n",
       "    </tr>\n",
       "    <tr>\n",
       "      <th>0</th>\n",
       "      <td>11</td>\n",
       "      <td>filter_correct</td>\n",
       "    </tr>\n",
       "  </tbody>\n",
       "</table>\n",
       "<p>198 rows × 2 columns</p>\n",
       "</div>"
      ],
      "text/plain": [
       "     t            name\n",
       "0    0  filter_correct\n",
       "0    1  filter_predict\n",
       "0    1  filter_correct\n",
       "0    0  filter_correct\n",
       "0    0  filter_correct\n",
       "..  ..             ...\n",
       "0    9  filter_correct\n",
       "0   10  filter_predict\n",
       "0   10  filter_correct\n",
       "0   11  filter_predict\n",
       "0   11  filter_correct\n",
       "\n",
       "[198 rows x 2 columns]"
      ]
     },
     "execution_count": null,
     "metadata": {},
     "output_type": "execute_result"
    }
   ],
   "source": [
    "posdef_log[[\"t\", \"name\"]]"
   ]
  },
  {
   "cell_type": "code",
   "execution_count": null,
   "id": "c9c9c179-f28b-4e91-9182-0467747a3670",
   "metadata": {},
   "outputs": [
    {
     "data": {
      "text/plain": [
       "<matplotlib.collections.PathCollection>"
      ]
     },
     "execution_count": null,
     "metadata": {},
     "output_type": "execute_result"
    },
    {
     "data": {
      "image/png": "[encoded data removed]",
      "text/plain": [
       "<Figure size 432x288 with 1 Axes>"
      ]
     },
     "metadata": {
      "needs_background": "light"
     },
     "output_type": "display_data"
    }
   ],
   "source": [
    "plt.scatter(posdef_log.reset_index().index, posdef_log.sym_upto)"
   ]
  },
  {
   "cell_type": "code",
   "execution_count": null,
   "id": "b899bf5b-4357-44fd-a8f5-62877897151e",
   "metadata": {},
   "outputs": [
    {
     "name": "stdout",
     "output_type": "stream",
     "text": [
      "CPU times: user 2 µs, sys: 0 ns, total: 2 µs\n",
      "Wall time: 3.58 µs\n",
      "CPU times: user 2 µs, sys: 0 ns, total: 2 µs\n",
      "Wall time: 2.86 µs\n",
      "CPU times: user 2 µs, sys: 0 ns, total: 2 µs\n",
      "Wall time: 2.86 µs\n"
     ]
    }
   ],
   "source": [
    "for i in range(3):\n",
    "    %time 1+1"
   ]
  },
  {
   "cell_type": "code",
   "execution_count": null,
   "id": "0eb96358-bf2a-4ae8-93a4-256f49859d2c",
   "metadata": {},
   "outputs": [],
   "source": [
    "# find_max_obs(dtype=torch.float64)"
   ]
  },
  {
   "cell_type": "markdown",
   "id": "e0b7e281-1307-4043-8c50-2e7e15121b42",
   "metadata": {},
   "source": [
    "The function takes 5 min to run so this is the output saved\n",
    "\n",
    "with `float64` there is no problem with positive definite matrices even with 100k observations\n",
    "```CPU times: user 30min 43s, sys: 28.6 s, total: 31min 11s\n",
    "Wall time: 5min 26s\n",
    "tensor(100000.) working```"
   ]
  },
  {
   "cell_type": "code",
   "execution_count": null,
   "id": "c264f29d-197d-4acc-80d8-7c102707db91",
   "metadata": {},
   "outputs": [],
   "source": [
    "tst = KalmanFilterTester(n_obs=100)"
   ]
  },
  {
   "cell_type": "code",
   "execution_count": null,
   "id": "e11e636e-609a-4a0a-bfdf-3a2660192c51",
   "metadata": {},
   "outputs": [
    {
     "data": {
      "text/plain": [
       "True"
      ]
     },
     "execution_count": null,
     "metadata": {},
     "output_type": "execute_result"
    }
   ],
   "source": [
    "is_posdef(tst.params['obs_cov'])"
   ]
  },
  {
   "cell_type": "code",
   "execution_count": null,
   "id": "d4a9f94c-7c34-4cfc-a76b-ecc47f4668fa",
   "metadata": {},
   "outputs": [
    {
     "data": {
      "text/plain": [
       "True"
      ]
     },
     "execution_count": null,
     "metadata": {},
     "output_type": "execute_result"
    }
   ],
   "source": [
    "is_posdef(tst.params['trans_cov'])"
   ]
  },
  {
   "cell_type": "code",
   "execution_count": null,
   "id": "87e39250-0638-4205-bb24-a9d3cbeeeee6",
   "metadata": {},
   "outputs": [
    {
     "data": {
      "text/plain": [
       "True"
      ]
     },
     "execution_count": null,
     "metadata": {},
     "output_type": "execute_result"
    }
   ],
   "source": [
    "is_posdef(tst.params['init_state_cov'])"
   ]
  },
  {
   "cell_type": "code",
   "execution_count": null,
   "id": "3568119a-9895-49a9-8549-4fc72ca0585c",
   "metadata": {},
   "outputs": [
    {
     "ename": "_LinAlgError",
     "evalue": "linalg.cholesky: The factorization could not be completed because the input is not positive-definite (the leading minor of order 1 is not positive-definite).",
     "output_type": "error",
     "traceback": [
      "\u001b[0;31m---------------------------------------------------------------------------\u001b[0m",
      "\u001b[0;31m_LinAlgError\u001b[0m                              Traceback (most recent call last)",
      "Input \u001b[0;32mIn [241]\u001b[0m, in \u001b[0;36m<cell line: 1>\u001b[0;34m()\u001b[0m\n\u001b[0;32m----> 1\u001b[0m \u001b[43mtst\u001b[49m\u001b[38;5;241;43m.\u001b[39;49m\u001b[43mfilter\u001b[49m\u001b[38;5;241;43m.\u001b[39;49m\u001b[43msmooth\u001b[49m\u001b[43m(\u001b[49m\u001b[43mtst\u001b[49m\u001b[38;5;241;43m.\u001b[39;49m\u001b[43mdata\u001b[49m\u001b[43m,\u001b[49m\u001b[43m \u001b[49m\u001b[43mtst\u001b[49m\u001b[38;5;241;43m.\u001b[39;49m\u001b[43mmask\u001b[49m\u001b[43m)\u001b[49m\n",
      "Input \u001b[0;32mIn [171]\u001b[0m, in \u001b[0;36msmooth\u001b[0;34m(self, obs, mask, check_args)\u001b[0m\n\u001b[1;32m      9\u001b[0m \u001b[38;5;124;03m\"\"\"Kalman Filter Smoothing\"\"\"\u001b[39;00m\n\u001b[1;32m     11\u001b[0m (pred_state_means, pred_state_covs, filt_state_means, filt_state_covs) \u001b[38;5;241m=\u001b[39m \u001b[38;5;28mself\u001b[39m\u001b[38;5;241m.\u001b[39m_filter_all(obs, mask, check_args)\n\u001b[0;32m---> 13\u001b[0m \u001b[38;5;28;01mreturn\u001b[39;00m \u001b[43m_smooth\u001b[49m\u001b[43m(\u001b[49m\n\u001b[1;32m     14\u001b[0m \u001b[43m        \u001b[49m\u001b[38;5;28;43mself\u001b[39;49m\u001b[38;5;241;43m.\u001b[39;49m\u001b[43mtransition_matrices\u001b[49m\u001b[43m,\u001b[49m\n\u001b[1;32m     15\u001b[0m \u001b[43m        \u001b[49m\u001b[43mListMNormal\u001b[49m\u001b[43m(\u001b[49m\u001b[43mfilt_state_means\u001b[49m\u001b[43m,\u001b[49m\u001b[43m \u001b[49m\u001b[43mfilt_state_covs\u001b[49m\u001b[43m)\u001b[49m\u001b[43m,\u001b[49m\n\u001b[1;32m     16\u001b[0m \u001b[43m        \u001b[49m\u001b[43mListMNormal\u001b[49m\u001b[43m(\u001b[49m\u001b[43mpred_state_means\u001b[49m\u001b[43m,\u001b[49m\u001b[43m \u001b[49m\u001b[43mpred_state_covs\u001b[49m\u001b[43m)\u001b[49m\u001b[43m,\u001b[49m\n\u001b[1;32m     17\u001b[0m \u001b[43m        \u001b[49m\u001b[43mcheck_args\u001b[49m\n\u001b[1;32m     18\u001b[0m \u001b[43m    \u001b[49m\u001b[43m)\u001b[49m\n",
      "Input \u001b[0;32mIn [165]\u001b[0m, in \u001b[0;36m_smooth\u001b[0;34m(transition_matrices, filt_state, pred_state, check_args)\u001b[0m\n\u001b[1;32m     19\u001b[0m \u001b[38;5;28;01mfor\u001b[39;00m t \u001b[38;5;129;01min\u001b[39;00m \u001b[38;5;28mreversed\u001b[39m(\u001b[38;5;28mrange\u001b[39m(n_timesteps \u001b[38;5;241m-\u001b[39m \u001b[38;5;241m1\u001b[39m)):\n\u001b[1;32m     20\u001b[0m     transition_matrix \u001b[38;5;241m=\u001b[39m _last_dims(transition_matrices, t)\n\u001b[1;32m     21\u001b[0m     (smoothed_state\u001b[38;5;241m.\u001b[39mmean[t], smoothed_state\u001b[38;5;241m.\u001b[39mcov[t]) \u001b[38;5;241m=\u001b[39m (\n\u001b[0;32m---> 22\u001b[0m         \u001b[43m_smooth_update\u001b[49m\u001b[43m(\u001b[49m\n\u001b[1;32m     23\u001b[0m \u001b[43m            \u001b[49m\u001b[43mtransition_matrix\u001b[49m\u001b[43m,\u001b[49m\n\u001b[1;32m     24\u001b[0m \u001b[43m            \u001b[49m\u001b[43mfilt_state\u001b[49m\u001b[38;5;241;43m.\u001b[39;49m\u001b[43mget_nth\u001b[49m\u001b[43m(\u001b[49m\u001b[43mt\u001b[49m\u001b[43m)\u001b[49m\u001b[43m,\u001b[49m\n\u001b[1;32m     25\u001b[0m \u001b[43m            \u001b[49m\u001b[43mpred_state\u001b[49m\u001b[38;5;241;43m.\u001b[39;49m\u001b[43mget_nth\u001b[49m\u001b[43m(\u001b[49m\u001b[43mt\u001b[49m\u001b[43m \u001b[49m\u001b[38;5;241;43m+\u001b[39;49m\u001b[43m \u001b[49m\u001b[38;5;241;43m1\u001b[39;49m\u001b[43m)\u001b[49m\u001b[43m,\u001b[49m\n\u001b[1;32m     26\u001b[0m \u001b[43m            \u001b[49m\u001b[43msmoothed_state\u001b[49m\u001b[38;5;241;43m.\u001b[39;49m\u001b[43mget_nth\u001b[49m\u001b[43m(\u001b[49m\u001b[43mt\u001b[49m\u001b[38;5;241;43m+\u001b[39;49m\u001b[38;5;241;43m1\u001b[39;49m\u001b[43m)\u001b[49m\u001b[43m,\u001b[49m\n\u001b[1;32m     27\u001b[0m \u001b[43m            \u001b[49m\u001b[43mcheck_args\u001b[49m\u001b[43m \u001b[49m\u001b[38;5;241;43m=\u001b[39;49m\u001b[43m \u001b[49m\u001b[43m{\u001b[49m\u001b[38;5;124;43m'\u001b[39;49m\u001b[38;5;124;43mt\u001b[39;49m\u001b[38;5;124;43m'\u001b[39;49m\u001b[43m:\u001b[49m\u001b[43m \u001b[49m\u001b[43mt\u001b[49m\u001b[43m,\u001b[49m\u001b[43m \u001b[49m\u001b[38;5;241;43m*\u001b[39;49m\u001b[38;5;241;43m*\u001b[39;49m\u001b[43mcheck_args\u001b[49m\u001b[43m}\u001b[49m\u001b[43m \u001b[49m\u001b[38;5;28;43;01mif\u001b[39;49;00m\u001b[43m \u001b[49m\u001b[43mcheck_args\u001b[49m\u001b[43m \u001b[49m\u001b[38;5;129;43;01mis\u001b[39;49;00m\u001b[43m \u001b[49m\u001b[38;5;129;43;01mnot\u001b[39;49;00m\u001b[43m \u001b[49m\u001b[38;5;28;43;01mNone\u001b[39;49;00m\u001b[43m \u001b[49m\u001b[38;5;28;43;01melse\u001b[39;49;00m\u001b[43m \u001b[49m\u001b[38;5;28;43;01mNone\u001b[39;49;00m\n\u001b[1;32m     28\u001b[0m \u001b[43m        \u001b[49m\u001b[43m)\u001b[49m\n\u001b[1;32m     29\u001b[0m     )\n\u001b[1;32m     30\u001b[0m \u001b[38;5;28;01mreturn\u001b[39;00m smoothed_state\n",
      "Input \u001b[0;32mIn [160]\u001b[0m, in \u001b[0;36m_smooth_update\u001b[0;34m(transition_matrix, filt_state, pred_state, next_smoothed_state, check_args)\u001b[0m\n\u001b[1;32m      2\u001b[0m \u001b[38;5;28;01mdef\u001b[39;00m \u001b[38;5;21m_smooth_update\u001b[39m(transition_matrix,      \u001b[38;5;66;03m# [n_dim_state, n_dim_state]\u001b[39;00m\n\u001b[1;32m      3\u001b[0m                    filt_state: Normal, \u001b[38;5;66;03m# [n_dim_state] filtered state at time `t`\u001b[39;00m\n\u001b[1;32m      4\u001b[0m                    pred_state: Normal,        \u001b[38;5;66;03m# [n_dim_state] state before filtering at time `t + 1` (= using the observation until time t)\u001b[39;00m\n\u001b[1;32m      5\u001b[0m                    next_smoothed_state: Normal, \u001b[38;5;66;03m# [n_dim_state] smoothed state at time  `t+1`\u001b[39;00m\n\u001b[1;32m      6\u001b[0m                    check_args: \u001b[38;5;28mdict\u001b[39m\u001b[38;5;241m|\u001b[39m\u001b[38;5;28;01mNone\u001b[39;00m \u001b[38;5;241m=\u001b[39m \u001b[38;5;28;01mNone\u001b[39;00m \u001b[38;5;66;03m# if not None checks that the result is positive definite\u001b[39;00m\n\u001b[1;32m      7\u001b[0m                    ) \u001b[38;5;241m-\u001b[39m\u001b[38;5;241m>\u001b[39m Normal: \u001b[38;5;66;03m# mean and cov of smoothed state at time `t`\u001b[39;00m\n\u001b[1;32m      8\u001b[0m     \u001b[38;5;124mr\u001b[39m\u001b[38;5;124;03m\"\"\"Correct a pred state with a Kalman Smoother update\u001b[39;00m\n\u001b[1;32m      9\u001b[0m \n\u001b[1;32m     10\u001b[0m \u001b[38;5;124;03m    Calculates posterior distribution of the hidden state at time `t` given the the observations via Kalman Smoothing.\u001b[39;00m\n\u001b[1;32m     11\u001b[0m \u001b[38;5;124;03m    \"\"\"\u001b[39;00m\n\u001b[0;32m---> 12\u001b[0m     kalman_smoothing_gain \u001b[38;5;241m=\u001b[39m filt_state\u001b[38;5;241m.\u001b[39mcov \u001b[38;5;241m@\u001b[39m transition_matrix\u001b[38;5;241m.\u001b[39mT \u001b[38;5;241m@\u001b[39m torch\u001b[38;5;241m.\u001b[39mcholesky_inverse(\u001b[43mtorch\u001b[49m\u001b[38;5;241;43m.\u001b[39;49m\u001b[43mlinalg\u001b[49m\u001b[38;5;241;43m.\u001b[39;49m\u001b[43mcholesky\u001b[49m\u001b[43m(\u001b[49m\u001b[43mpred_state\u001b[49m\u001b[38;5;241;43m.\u001b[39;49m\u001b[43mcov\u001b[49m\u001b[43m)\u001b[49m)\n\u001b[1;32m     14\u001b[0m     smoothed_state_mean \u001b[38;5;241m=\u001b[39m filt_state\u001b[38;5;241m.\u001b[39mmean \u001b[38;5;241m+\u001b[39m kalman_smoothing_gain \u001b[38;5;241m@\u001b[39m (next_smoothed_state\u001b[38;5;241m.\u001b[39mmean \u001b[38;5;241m-\u001b[39m pred_state\u001b[38;5;241m.\u001b[39mmean)\n\u001b[1;32m     15\u001b[0m     smoothed_state_cov \u001b[38;5;241m=\u001b[39m (filt_state\u001b[38;5;241m.\u001b[39mcov\n\u001b[1;32m     16\u001b[0m                       \u001b[38;5;241m+\u001b[39m kalman_smoothing_gain \u001b[38;5;241m@\u001b[39m (next_smoothed_state\u001b[38;5;241m.\u001b[39mcov \u001b[38;5;241m-\u001b[39m pred_state\u001b[38;5;241m.\u001b[39mcov) \u001b[38;5;241m@\u001b[39m kalman_smoothing_gain\u001b[38;5;241m.\u001b[39mT)\n",
      "\u001b[0;31m_LinAlgError\u001b[0m: linalg.cholesky: The factorization could not be completed because the input is not positive-definite (the leading minor of order 1 is not positive-definite)."
     ]
    }
   ],
   "source": [
    "tst.filter.smooth(tst.data, tst.mask);"
   ]
  },
  {
   "cell_type": "markdown",
   "id": "669ab60a-dc18-4d29-b217-6fb2bb3434f5",
   "metadata": {},
   "source": [
    "#### Random Testing"
   ]
  },
  {
   "cell_type": "markdown",
   "id": "bff9ee73-f667-434a-8908-0890e662adb2",
   "metadata": {},
   "source": [
    "The goal is to generate random set of data and parameters and check that `meteo_imp` implementation is the same of `pykalman` implementation"
   ]
  },
  {
   "cell_type": "code",
   "execution_count": null,
   "id": "f437c4f3-4890-455c-8ea5-03cc9ae64c17",
   "metadata": {},
   "outputs": [],
   "source": [
    "n_dim_state = 3 \n",
    "n_dim_obs = 3\n",
    "n_obs = 10\n",
    "p_missing = .3"
   ]
  },
  {
   "cell_type": "code",
   "execution_count": null,
   "id": "a31dbbd9-526f-45de-8260-9a3e6d75e02d",
   "metadata": {},
   "outputs": [],
   "source": [
    "to_posdef = PosDef().transform"
   ]
  },
  {
   "cell_type": "code",
   "execution_count": null,
   "id": "338b22a6-2550-4a9c-b4bd-2303e5db3322",
   "metadata": {},
   "outputs": [],
   "source": [
    "data = torch.rand(n_obs, n_dim_obs)\n",
    "mask = torch.rand(n_obs, n_dim_obs) > p_missing\n",
    "mask = mask.all(1)"
   ]
  },
  {
   "cell_type": "code",
   "execution_count": null,
   "id": "d857b678-4c0c-4a61-986a-81cb2b57766a",
   "metadata": {},
   "outputs": [],
   "source": [
    "mask[:10]"
   ]
  },
  {
   "cell_type": "code",
   "execution_count": null,
   "id": "64d7f3f4-2d5e-4a66-83d8-b09a68ca16ea",
   "metadata": {},
   "outputs": [],
   "source": [
    "mask[:10]"
   ]
  },
  {
   "cell_type": "code",
   "execution_count": null,
   "id": "e7ac8819-4d54-415d-a794-19edafd4af7f",
   "metadata": {},
   "outputs": [],
   "source": [
    "params = {\n",
    "    'trans_matrices': torch.rand(n_dim_state, n_dim_state),\n",
    "    'trans_offsets':  torch.rand(n_dim_state),        \n",
    "    'trans_cov':      to_posdef(torch.rand(n_dim_state, n_dim_state)),        \n",
    "    'obs_matrices':        torch.rand(n_dim_obs, n_dim_state),\n",
    "    'obs_offsets':         torch.rand(n_dim_obs),          \n",
    "    'obs_cov':             to_posdef(torch.rand(n_dim_obs, n_dim_obs)),            \n",
    "    'init_state_mean':  torch.rand(n_dim_state),        \n",
    "    'init_state_cov':   to_posdef(torch.rand(n_dim_state, n_dim_state)),\n",
    "}"
   ]
  },
  {
   "cell_type": "code",
   "execution_count": null,
   "id": "0f040e1b-b66c-4171-aa86-db539cc5c09e",
   "metadata": {},
   "outputs": [],
   "source": [
    "params2pyk = {\n",
    "    'trans_matrices': 'trans_matrices',\n",
    "    'trans_offsets':  'trans_offsets',        \n",
    "    'trans_cov':      'trans_covariance',        \n",
    "    'obs_matrices':        'observation_matrices',\n",
    "    'obs_offsets':         'observation_offsets',          \n",
    "    'obs_cov':             'observation_covariance',            \n",
    "    'init_state_mean':  'init_state_mean',        \n",
    "    'init_state_cov':   'init_state_covariance',\n",
    "}"
   ]
  },
  {
   "cell_type": "code",
   "execution_count": null,
   "id": "fdebb6cc-0e30-41d6-87bc-faf02f1a7d38",
   "metadata": {},
   "outputs": [],
   "source": [
    "params"
   ]
  },
  {
   "cell_type": "code",
   "execution_count": null,
   "id": "52994fa1-c5c6-4a44-9e7d-be8f87369800",
   "metadata": {},
   "outputs": [],
   "source": [
    "k = KalmanFilter(**params)"
   ]
  },
  {
   "cell_type": "code",
   "execution_count": null,
   "id": "7584e411-8872-46ab-9604-62355ca863bd",
   "metadata": {},
   "outputs": [],
   "source": [
    "pred = k.smooth(data, mask)"
   ]
  },
  {
   "cell_type": "markdown",
   "id": "160f49e8-1235-4271-9e49-aaec65842174",
   "metadata": {},
   "source": [
    "make a `pykalman` model using the same parameters"
   ]
  },
  {
   "cell_type": "code",
   "execution_count": null,
   "id": "8d147cbc-22fb-4094-bc36-e6fa8b13e0f1",
   "metadata": {},
   "outputs": [],
   "source": [
    "data_pyk = np.ma.masked_array(data.numpy(), mask = mask.numpy())"
   ]
  },
  {
   "cell_type": "code",
   "execution_count": null,
   "id": "fe57e59b-ace3-4b1f-b60f-61e56717e0ca",
   "metadata": {},
   "outputs": [],
   "source": [
    "pyk_k = pykalman.standard.KalmanFilter(\n",
    "\n",
    "    trans_matrices=k.trans_matrices.detach().numpy(),\n",
    "    trans_offsets=k.trans_offsets.detach().numpy(),\n",
    "    trans_covariance=k.trans_cov.detach().numpy(),\n",
    "    observation_matrices=k.obs_matrices.detach().numpy(),\n",
    "    observation_offsets=k.obs_offsets.detach().numpy(),\n",
    "    observation_covariance=k.obs_cov.detach().numpy(),\n",
    "    init_state_mean=k.init_state_mean.detach().numpy(),\n",
    "    init_state_covariance=k.init_state_cov.detach().numpy()\n",
    ")"
   ]
  },
  {
   "cell_type": "code",
   "execution_count": null,
   "id": "1f22416f-5c64-4a2a-a239-e74233a7a807",
   "metadata": {},
   "outputs": [],
   "source": [
    "pred_pyk = pyk_k.smooth(data_pyk)"
   ]
  },
  {
   "cell_type": "code",
   "execution_count": null,
   "id": "770582f6-ff2c-4b9d-9082-d7febda2b15a",
   "metadata": {},
   "outputs": [],
   "source": [
    "for p in params.keys():\n",
    "    print(p, getattr(k, p))"
   ]
  },
  {
   "cell_type": "code",
   "execution_count": null,
   "id": "3b53f0b6-7e86-4059-be51-11b5025896aa",
   "metadata": {},
   "outputs": [],
   "source": [
    "for p in params.keys():\n",
    "    print(p, getattr(pyk_k, params2pyk[p]))"
   ]
  },
  {
   "cell_type": "markdown",
   "id": "bbc06f87-be0a-4f4e-9027-ecea248dccad",
   "metadata": {},
   "source": [
    "### Compare Statsmodels"
   ]
  },
  {
   "cell_type": "code",
   "execution_count": null,
   "id": "1f4fdf23-2d75-4022-90e8-838ce44fb26c",
   "metadata": {},
   "outputs": [],
   "source": [
    "import statsmodels.api as sm\n",
    "import statsmodels"
   ]
  },
  {
   "cell_type": "code",
   "execution_count": null,
   "id": "9f3dd92e-27d0-4791-b790-bac0912014fc",
   "metadata": {},
   "outputs": [],
   "source": [
    "# sm_kf = statsmodels.tsa.statespace.kalman_filter.KalmanFilter(\n",
    "#     k_endog = 3,\n",
    "#     k_states = 3,\n",
    "#     initization = 'known',\n",
    "#     init_state = pyk_ncov.init_state_mean,\n",
    "#     init_state_cov = pyk_ncov.init_state_covariance,\n",
    "#     design = pyk_ncov.observation_matrices,\n",
    "#     obs_cov = pyk_ncov.observation_covariance,\n",
    "#     trans = pyk_ncov.trans_matrices,\n",
    "#     state_cov = pyk_ncov.trans_covariance)"
   ]
  },
  {
   "cell_type": "code",
   "execution_count": null,
   "id": "f7db6e78-69cc-44b9-986e-174327d17269",
   "metadata": {},
   "outputs": [],
   "source": [
    "# sm_kf.bind(X_ncov.detach().numpy())"
   ]
  },
  {
   "cell_type": "code",
   "execution_count": null,
   "id": "c08ee714-ee6a-4318-bd06-d09274bdd8ca",
   "metadata": {},
   "outputs": [],
   "source": [
    "# sm_pred = sm_kf.filter() "
   ]
  },
  {
   "cell_type": "code",
   "execution_count": null,
   "id": "6da891b2-4e13-497b-9a30-8d690d1a6a37",
   "metadata": {},
   "outputs": [],
   "source": [
    "# sm_pred.predicted_state.shape"
   ]
  },
  {
   "cell_type": "code",
   "execution_count": null,
   "id": "0d469b65-b397-4d67-8779-0900ce87e33e",
   "metadata": {},
   "outputs": [],
   "source": [
    "# sm_pred.predicted_state_cov.shape"
   ]
  },
  {
   "cell_type": "code",
   "execution_count": null,
   "id": "1f56ded2-e5bb-454a-9aae-82a710e48131",
   "metadata": {},
   "outputs": [],
   "source": [
    "# mean = MultivariateNormal(torch.tensor(sm_pred.predicted_state[:, 0]), torch.tensor(sm_pred.predicted_state_cov[:, :, 0]))"
   ]
  },
  {
   "cell_type": "code",
   "execution_count": null,
   "id": "de6c187d-fc28-43df-9623-efe15d549282",
   "metadata": {},
   "outputs": [],
   "source": [
    "# sm_kf.loglikeobs()"
   ]
  },
  {
   "cell_type": "markdown",
   "id": "0fdd2ea0-ff4e-4d2f-add0-81120b131cf3",
   "metadata": {},
   "source": [
    "## Export"
   ]
  },
  {
   "cell_type": "code",
   "execution_count": null,
   "id": "12c41b65-9eb8-4d70-b4fc-05113783e636",
   "metadata": {},
   "outputs": [],
   "source": [
    "#| hide\n",
    "from nbdev import nbdev_export\n",
    "# nbdev_export()"
   ]
  }
 ],
 "metadata": {
  "kernelspec": {
   "display_name": "data_science",
   "language": "python",
   "name": "data_science"
  },
  "widgets": {
   "application/vnd.jupyter.widget-state+json": {
    "state": {},
    "version_major": 2,
    "version_minor": 0
   }
  }
 },
 "nbformat": 4,
 "nbformat_minor": 5
}
