{
 "cells": [
  {
   "cell_type": "markdown",
   "id": "22e19739-7ce6-4689-8f05-5391807270f2",
   "metadata": {},
   "source": [
    "# Kalman Filter\n",
    "> Implementation of Kalman filters using pytorch and parameter optimizations with gradient descend"
   ]
  },
  {
   "cell_type": "code",
   "execution_count": null,
   "id": "33b5e640-1b40-4822-8912-f6aef392b22f",
   "metadata": {},
   "outputs": [],
   "source": [
    "#| hide\n",
    "%load_ext autoreload\n",
    "%autoreload 2"
   ]
  },
  {
   "cell_type": "code",
   "execution_count": null,
   "id": "378ab6cd-754e-4199-a102-c7a3109c6c78",
   "metadata": {},
   "outputs": [],
   "source": [
    "#| hide\n",
    "#| default_exp kalman.filter"
   ]
  },
  {
   "cell_type": "code",
   "execution_count": null,
   "id": "c89a8e7f-95e3-4c02-9716-948d5e0dcfca",
   "metadata": {},
   "outputs": [],
   "source": [
    "#| export\n",
    "from fastcore.test import *\n",
    "from fastcore.basics import *\n",
    "from meteo_imp.utils import *\n",
    "from meteo_imp.gaussian import *\n",
    "from meteo_imp.data_preparation import MeteoDataTest\n",
    "from typing import *\n",
    "\n",
    "import numpy as np\n",
    "import pandas as pd\n",
    "import torch\n",
    "from torch import Tensor\n",
    "from torch.distributions import MultivariateNormal"
   ]
  },
  {
   "cell_type": "markdown",
   "id": "ce900cd1-288d-4215-b317-d815f2850215",
   "metadata": {},
   "source": [
    "## Introduction\n",
    "\n",
    "The models uses a latent state variable $x$ that is modelled over time, to impute gaps in $y$\n",
    "\n",
    "The assumption of the model is that the state variable at time $x_t$ depends only on the last state $x_{t-1}$ and not on the previous states.\n",
    "\n",
    "### Equations\n",
    "\n",
    "The equations of the model are:\n",
    "\n",
    "$$\\begin{align} p(x_t | x_{t-1}) & = \\mathcal{N}(x_t, Ax_{t-1} + b, Q) \\\\\n",
    "p(y_t | x_t) & = \\mathcal{N}(Hx_t + d, R) \\end{align}$$\n",
    "\n",
    "The Kalman filter has 3 steps:\n",
    "\n",
    "- filter (updating the state at time t with observations till time t-1)\n",
    "- update (update the state at time t using the observation at time t)\n",
    "- smooth (update the state using the observations at time t+1)\n",
    "\n",
    "In case of missing data the update step is skipped.\n",
    "\n",
    "After smoothing the missing data at time t ($y_t$) can be imputed from the state ($x_t$) using this formula:\n",
    "$$p(y_t|x_t) = \\mathcal{N}(Hx_t + d, R + HP^s_tH^T)$$"
   ]
  },
  {
   "cell_type": "markdown",
   "id": "3d3f26ea-ed98-427e-8257-63db13bf17d7",
   "metadata": {},
   "source": [
    "## KalmanFilter"
   ]
  },
  {
   "cell_type": "markdown",
   "id": "6cab259c-2315-4019-bb1e-61f3b1504bd5",
   "metadata": {},
   "source": [
    "The Kalman Filter is an algorithm designed to estimate $P(x_t | y_{0:t})$.  As all state transitions and obss are linear with Gaussian distributed noise, these distributions can be represented exactly as Gaussian distributions with mean `filt_state_means[t]` and covs `filt_state_covs[t]`.\n",
    "Similarly, the Kalman Smoother is an algorithm designed to estimate $P(x_t | y_{0:t-1})$\n",
    "\n"
   ]
  },
  {
   "cell_type": "markdown",
   "id": "68d33ff3-5e3e-40ad-b21c-71d2358a7d7b",
   "metadata": {},
   "source": [
    "### Main class"
   ]
  },
  {
   "cell_type": "markdown",
   "id": "57ad321a-3bae-495e-befb-86b16f1d146f",
   "metadata": {},
   "source": [
    "TODO: fill nans with 0 for all data"
   ]
  },
  {
   "cell_type": "code",
   "execution_count": null,
   "id": "4768434a-a51c-48a3-8813-afd59949ef51",
   "metadata": {},
   "outputs": [],
   "source": [
    "#| export\n",
    "class KalmanFilter(torch.nn.Module):\n",
    "    \"\"\"Base class for Kalman Filter and Smoother using PyTorch\"\"\"\n",
    "    def __init__(self,\n",
    "            trans_matrix: Tensor,    # [n_dim_state,n_dim_state] $A$, state transition matrix \n",
    "            obs_matrix: Tensor,      # [n_dim_obs, n_dim_state] $H$, observation matrix\n",
    "            trans_cov: Tensor,       # [n_dim_state, n_dim_state] $Q$, state trans covariance matrix\n",
    "            obs_cov: Tensor,         # [n_dim_obs, n_dim_obs] $R$, observations covariance matrix\n",
    "            trans_off: Tensor,       # [n_dim_state] $b$, state transition offset\n",
    "            obs_off: Tensor,         # [n_dim_obs] $d$, observations offset\n",
    "            init_state_mean: Tensor, # [n_dim_state] $\\mu_0$\n",
    "            init_state_cov: Tensor,  # [n_dim_state, n_dim_state] $\\Sigma_0$\n",
    "            n_dim_state: int = None, # Number of dimensions for state - defaults to 1 if cannot be infered from parameters\n",
    "            n_dim_obs: int = None,   # Number of dimensions for observations - defaults to 1 if cannot be infered from parameters\n",
    "            cov_checker: CheckPosDef = CheckPosDef()\n",
    "                ):\n",
    "        \n",
    "        super().__init__()\n",
    "        # check parameters are consistent\n",
    "        self.n_dim_state = determine_dimensionality(\n",
    "            [(trans_matrix, array2d, -2),\n",
    "             (trans_off, array1d, -1),\n",
    "             (trans_cov, array2d, -2),\n",
    "             (init_state_mean, array1d, -1),\n",
    "             (init_state_cov, array2d, -2),\n",
    "             (obs_matrix, array2d, -1)],\n",
    "            n_dim_state\n",
    "        )\n",
    "        self.n_dim_obs = determine_dimensionality(\n",
    "            [(obs_matrix, array2d, -2),\n",
    "             (obs_off, array1d, -1),\n",
    "             (obs_cov, array2d, -2)],\n",
    "            n_dim_obs\n",
    "        )\n",
    "        \n",
    "        params = {\n",
    "        #name               value             constraint\n",
    "        'trans_matrix':     [trans_matrix,    None    ],\n",
    "        'trans_off':        [trans_off,       None    ],\n",
    "        'trans_cov':        [trans_cov,       PosDef()],\n",
    "        'obs_matrix':       [obs_matrix,      None    ],\n",
    "        'obs_off':          [obs_off,         None    ],\n",
    "        'obs_cov':          [obs_cov,         PosDef()],\n",
    "        'init_state_mean':  [init_state_mean, None    ],\n",
    "        'init_state_cov':   [init_state_cov,  PosDef()],\n",
    "        }\n",
    "        self._init_params(params)\n",
    "        \n",
    "        self.cov_checker = cov_checker\n",
    "        \n",
    "    def _init_params(self, params):\n",
    "        for name, (value, constraint) in params.items():\n",
    "            if constraint is not None:\n",
    "                name, value = self._init_constraint(name, value, constraint)\n",
    "            self._init_param(name, value, train=True)    \n",
    "    \n",
    "    def _init_param(self, param_name, value, train):\n",
    "        self.register_parameter(param_name, torch.nn.Parameter(value, requires_grad=train))\n",
    "    \n",
    "    ### === Constraints utils\n",
    "    def _init_constraint(self, param_name, value, constraint):\n",
    "        name = param_name + \"_raw\"\n",
    "        value = constraint.inverse_transform(value)\n",
    "        setattr(self, param_name + \"_constraint\", constraint)\n",
    "        return name, value\n",
    "    \n",
    "    def _get_constraint(self, param_name):\n",
    "        constraint = getattr(self, param_name + \"_constraint\")\n",
    "        raw_value = getattr(self, param_name + \"_raw\")\n",
    "        return constraint.transform(raw_value)\n",
    "    \n",
    "    def _set_constraint(self, param_name, value, train=True):\n",
    "        constraint = getattr(self, param_name + \"_constraint\")\n",
    "        raw_value = constraint.inverse_transform(value)\n",
    "        self._init_param(param_name + \"_raw\", raw_value, train)\n",
    "    \n",
    "    ### === Convenience functions to get and set parameters that have a constraint\n",
    "    @property\n",
    "    def trans_cov(self): return self._get_constraint('trans_cov')\n",
    "    @trans_cov.setter\n",
    "    def trans_cov(self, value): return self._set_constraint('trans_cov', value)\n",
    "\n",
    "    @property\n",
    "    def obs_cov(self): return self._get_constraint('obs_cov')\n",
    "    @obs_cov.setter\n",
    "    def obs_cov(self, value): return self._set_constraint('obs_cov', value)\n",
    "    \n",
    "    @property\n",
    "    def init_state_cov(self): return self._get_constraint('init_state_cov')\n",
    "    @init_state_cov.setter\n",
    "    def init_state_cov(self, value): return self._set_constraint('init_state_cov', value)\n",
    "    \n",
    "    \n",
    "    ### === Utility Func    \n",
    "    def _parse_obs(self, obs, mask=None):\n",
    "        \"\"\"maybe get mask from `nan`\"\"\"\n",
    "        if mask is None: mask = ~torch.isnan(obs)\n",
    "        # TODO incorrect support for 2d input!!!!!!\n",
    "        assert obs.dim() == 3\n",
    "        obs, mask = torch.atleast_3d(obs), torch.atleast_3d(mask)\n",
    "        return obs, mask\n",
    "    \n",
    "    def __repr__(self):\n",
    "        return f\"\"\"Kalman Filter\n",
    "        N dim obs: {self.n_dim_obs}, N dim state: {self.n_dim_state}\"\"\""
   ]
  },
  {
   "cell_type": "markdown",
   "id": "29f90bd9-3d5e-42b7-8730-8e08f40309c6",
   "metadata": {},
   "source": [
    "### Constructors"
   ]
  },
  {
   "cell_type": "markdown",
   "id": "eb5af4ff-9ddb-4558-9751-4541c50a682a",
   "metadata": {},
   "source": [
    "Giving all the parameters manually to the `KalmanFilter` init method is not convenient, hence we are having some methods that help initize the class"
   ]
  },
  {
   "cell_type": "markdown",
   "id": "b2aaf4c0-f7ad-4456-84dd-0e9350dcfe49",
   "metadata": {},
   "source": [
    "#### Random parameters"
   ]
  },
  {
   "cell_type": "code",
   "execution_count": null,
   "id": "8d0ca6d4-7547-4557-bc83-4f70500a78e8",
   "metadata": {},
   "outputs": [],
   "source": [
    "#| export\n",
    "@patch(cls_method=True)\n",
    "def init_random(cls: KalmanFilter, n_dim_obs, n_dim_state, dtype=torch.float32):\n",
    "    \"\"\"kalman filter with random parameters\"\"\"\n",
    "    params = {\n",
    "        'trans_matrix':    torch.rand(n_dim_state, n_dim_state, dtype=dtype),\n",
    "        'trans_off':       torch.rand(n_dim_state, dtype=dtype),        \n",
    "        'trans_cov':       to_posdef(torch.rand(n_dim_state, n_dim_state, dtype=dtype)),        \n",
    "        'obs_matrix':      torch.rand(n_dim_obs, n_dim_state, dtype=dtype),\n",
    "        'obs_off':         torch.rand(n_dim_obs, dtype=dtype),          \n",
    "        'obs_cov':         to_posdef(torch.rand(n_dim_obs, n_dim_obs, dtype=dtype)),            \n",
    "        'init_state_mean': torch.rand(n_dim_state, dtype=dtype),        \n",
    "        'init_state_cov':  to_posdef(torch.rand(n_dim_state, n_dim_state, dtype=dtype)),\n",
    "    } \n",
    "    return cls(**params) \n",
    "        "
   ]
  },
  {
   "cell_type": "code",
   "execution_count": null,
   "id": "86fe692e-2586-4c0f-a4b0-d6009d3a14c3",
   "metadata": {},
   "outputs": [
    {
     "data": {
      "text/plain": [
       "Kalman Filter\n",
       "        N dim obs: 3, N dim state: 4"
      ]
     },
     "execution_count": null,
     "metadata": {},
     "output_type": "execute_result"
    }
   ],
   "source": [
    "k = KalmanFilter.init_random(3,4, dtype=torch.float64)\n",
    "k"
   ]
  },
  {
   "cell_type": "code",
   "execution_count": null,
   "id": "1a04324e-6a7f-4744-8113-a2d61c798397",
   "metadata": {},
   "outputs": [
    {
     "data": {
      "text/plain": [
       "tensor([[1.3477, 0.8755, 1.0724, 0.7095],\n",
       "        [0.8755, 1.0979, 1.0994, 0.4652],\n",
       "        [1.0724, 1.0994, 1.7046, 0.6584],\n",
       "        [0.7095, 0.4652, 0.6584, 0.3967]], dtype=torch.float64,\n",
       "       grad_fn=<AddBackward0>)"
      ]
     },
     "execution_count": null,
     "metadata": {},
     "output_type": "execute_result"
    }
   ],
   "source": [
    "k.init_state_cov"
   ]
  },
  {
   "cell_type": "markdown",
   "id": "93f416ff-a54e-4b29-99f7-fc04c3500285",
   "metadata": {},
   "source": [
    "check that assigment works :)"
   ]
  },
  {
   "cell_type": "code",
   "execution_count": null,
   "id": "d6aff8c3-a5bb-4911-a792-b28e54ff88ab",
   "metadata": {},
   "outputs": [],
   "source": [
    "k.init_state_cov = to_posdef(torch.rand(4, 4, dtype=torch.float64))"
   ]
  },
  {
   "cell_type": "code",
   "execution_count": null,
   "id": "d5a5e4bf-3989-4986-8718-6864db9f4cbe",
   "metadata": {},
   "outputs": [
    {
     "data": {
      "text/plain": [
       "Parameter containing:\n",
       "tensor([[0.2579, 0.0000, 0.0000, 0.0000],\n",
       "        [0.6597, 1.0242, 0.0000, 0.0000],\n",
       "        [1.2416, 0.4638, 0.2508, 0.0000],\n",
       "        [0.4760, 0.5100, 0.1424, 0.5326]], dtype=torch.float64,\n",
       "       requires_grad=True)"
      ]
     },
     "execution_count": null,
     "metadata": {},
     "output_type": "execute_result"
    }
   ],
   "source": [
    "k.init_state_cov_raw"
   ]
  },
  {
   "cell_type": "code",
   "execution_count": null,
   "id": "3aedc286-3762-4382-96b9-7a3105170ef5",
   "metadata": {},
   "outputs": [
    {
     "data": {
      "text/plain": [
       "[('trans_matrix',\n",
       "  Parameter containing:\n",
       "  tensor([[0.5467, 0.5085, 0.1667, 0.5763],\n",
       "          [0.4399, 0.4687, 0.9732, 0.9403],\n",
       "          [0.9274, 0.9481, 0.0146, 0.7139],\n",
       "          [0.0794, 0.8772, 0.9722, 0.8259]], dtype=torch.float64,\n",
       "         requires_grad=True)),\n",
       " ('trans_off',\n",
       "  Parameter containing:\n",
       "  tensor([0.6652, 0.6280, 0.9243, 0.1964], dtype=torch.float64,\n",
       "         requires_grad=True)),\n",
       " ('trans_cov_raw',\n",
       "  Parameter containing:\n",
       "  tensor([[1.2853, 0.0000, 0.0000, 0.0000],\n",
       "          [1.0807, 0.6269, 0.0000, 0.0000],\n",
       "          [0.4213, 0.6464, 0.6484, 0.0000],\n",
       "          [0.8364, 0.8493, 0.8091, 0.1398]], dtype=torch.float64,\n",
       "         requires_grad=True)),\n",
       " ('obs_matrix',\n",
       "  Parameter containing:\n",
       "  tensor([[0.7559, 0.4704, 0.2920, 0.0017],\n",
       "          [0.3351, 0.7220, 0.7123, 0.2275],\n",
       "          [0.7582, 0.6891, 0.0260, 0.2225]], dtype=torch.float64,\n",
       "         requires_grad=True)),\n",
       " ('obs_off',\n",
       "  Parameter containing:\n",
       "  tensor([0.2906, 0.5874, 0.8345], dtype=torch.float64, requires_grad=True)),\n",
       " ('obs_cov_raw',\n",
       "  Parameter containing:\n",
       "  tensor([[0.9105, 0.0000, 0.0000],\n",
       "          [0.8131, 0.6856, 0.0000],\n",
       "          [0.8079, 0.1532, 0.1740]], dtype=torch.float64, requires_grad=True)),\n",
       " ('init_state_mean',\n",
       "  Parameter containing:\n",
       "  tensor([0.9475, 0.5215, 0.6156, 0.0353], dtype=torch.float64,\n",
       "         requires_grad=True)),\n",
       " ('init_state_cov_raw',\n",
       "  Parameter containing:\n",
       "  tensor([[0.2579, 0.0000, 0.0000, 0.0000],\n",
       "          [0.6597, 1.0242, 0.0000, 0.0000],\n",
       "          [1.2416, 0.4638, 0.2508, 0.0000],\n",
       "          [0.4760, 0.5100, 0.1424, 0.5326]], dtype=torch.float64,\n",
       "         requires_grad=True))]"
      ]
     },
     "execution_count": null,
     "metadata": {},
     "output_type": "execute_result"
    }
   ],
   "source": [
    "list(k.named_parameters())"
   ]
  },
  {
   "cell_type": "markdown",
   "id": "68162da7-0e27-4771-90dd-fe3eede49aaa",
   "metadata": {},
   "source": [
    "#### Test data"
   ]
  },
  {
   "cell_type": "code",
   "execution_count": null,
   "id": "e8053cda-a75e-422e-866c-12edd329561f",
   "metadata": {},
   "outputs": [],
   "source": [
    "#| exporti\n",
    "def get_test_data(n_obs = 10, n_dim_obs=3, p_missing=.3, bs=2, dtype=torch.float32, device='cpu'):\n",
    "    data = torch.rand(bs, n_obs, n_dim_obs, dtype=dtype, device=device)\n",
    "    mask = torch.rand(bs, n_obs, n_dim_obs, device=device) > p_missing\n",
    "    # data[~mask] = torch.nan # ensure that the missing data cannot be used\n",
    "    return data, mask"
   ]
  },
  {
   "cell_type": "code",
   "execution_count": null,
   "id": "f96a5d04-10b9-47bb-95d0-533ee11344cb",
   "metadata": {},
   "outputs": [
    {
     "data": {
      "text/html": [
       "<div style=\"display: flex; column-gap: 20px; flex-wrap: wrap;\" class='table table-striped table-sm'> <div><p style='font-size: 1.2rem;'>data</p> <pre>tensor([[[0.9847, 0.0852, 0.5334],\n",
       "         [0.2196, 0.2617, 0.7972],\n",
       "         [0.2088, 0.4545, 0.1455],\n",
       "         [0.2249, 0.7409, 0.2881],\n",
       "         [0.6578, 0.9087, 0.6871],\n",
       "         [0.5610, 0.9079, 0.2507],\n",
       "         [0.7647, 0.7851, 0.0212],\n",
       "         [0.2230, 0.6513, 0.3955],\n",
       "         [0.8111, 0.2558, 0.7570],\n",
       "         [0.3952, 0.8095, 0.3729]],\n",
       "\n",
       "        [[0.3451, 0.2511, 0.4720],\n",
       "         [0.6684, 0.1905, 0.1489],\n",
       "         [0.6714, 0.4719, 0.5053],\n",
       "         [0.4909, 0.7793, 0.3246],\n",
       "         [0.1249, 0.1391, 0.5222],\n",
       "         [0.8191, 0.7040, 0.3264],\n",
       "         [0.0842, 0.5963, 0.4742],\n",
       "         [0.9001, 0.3308, 0.7610],\n",
       "         [0.3228, 0.0961, 0.3075],\n",
       "         [0.0947, 0.4745, 0.8792]]])</pre> </div><div><p style='font-size: 1.2rem;'>mask</p> <pre>tensor([[[ True,  True,  True],\n",
       "         [False,  True,  True],\n",
       "         [ True,  True,  True],\n",
       "         [False, False,  True],\n",
       "         [False,  True, False],\n",
       "         [ True,  True,  True],\n",
       "         [False,  True,  True],\n",
       "         [False,  True,  True],\n",
       "         [ True,  True,  True],\n",
       "         [False, False, False]],\n",
       "\n",
       "        [[False,  True,  True],\n",
       "         [ True, False,  True],\n",
       "         [ True,  True,  True],\n",
       "         [False,  True,  True],\n",
       "         [False, False, False],\n",
       "         [ True,  True,  True],\n",
       "         [ True, False, False],\n",
       "         [False,  True,  True],\n",
       "         [ True,  True,  True],\n",
       "         [ True,  True, False]]])</pre> </div></div>"
      ],
      "text/plain": [
       "<IPython.core.display.HTML object>"
      ]
     },
     "metadata": {},
     "output_type": "display_data"
    }
   ],
   "source": [
    "reset_seed()\n",
    "data, mask = get_test_data()\n",
    "show_as_row(data, mask)"
   ]
  },
  {
   "cell_type": "markdown",
   "id": "82b38261-acb1-45f5-a12b-7668b5f78bfb",
   "metadata": {},
   "source": [
    "### Filter"
   ]
  },
  {
   "cell_type": "markdown",
   "id": "a7ca368e-9a56-46b2-bbcb-42e561107a88",
   "metadata": {},
   "source": [
    "#### Filter predict"
   ]
  },
  {
   "cell_type": "markdown",
   "id": "282a138c-0eab-4e6e-8847-274fe2bcb874",
   "metadata": {},
   "source": [
    "Probability of state at time `t` given state a time `t-1` \n",
    "\n",
    "$p(x_t) = \\mathcal{N}(x_t; m_t^-, P_t^-)$ where:\n",
    "\n",
    "- predicted state mean: $m_t^- = Am_{t-1} + B c_t + b$  \n",
    "\n",
    "- predicted state covariance: $P_t^- = AP_{t-1}A^T + Q$"
   ]
  },
  {
   "cell_type": "code",
   "execution_count": null,
   "id": "935e06ec-05cf-4521-ad9d-26f3be41eb1c",
   "metadata": {},
   "outputs": [],
   "source": [
    "#| export\n",
    "from datetime import datetime\n",
    "def _filter_predict(trans_matrix,\n",
    "                    trans_cov,\n",
    "                    trans_off,\n",
    "                    curr_state_mean,\n",
    "                    curr_state_cov,\n",
    "                    control_matrix=0,\n",
    "                    control=0,\n",
    "                    cov_checker=CheckPosDef()):\n",
    "    r\"\"\"Calculate the state at time `t+1` given the state at time `t`\"\"\"\n",
    "    pred_state_mean = trans_matrix.unsqueeze(0) @ curr_state_mean + trans_off.unsqueeze(-1)\n",
    "    pred_state_cov =  trans_matrix.unsqueeze(0) @ curr_state_cov @ trans_matrix.unsqueeze(0).mT + trans_cov.unsqueeze(0)\n",
    "\n",
    "    cov_checker.check(pred_state_cov, caller='filter_predict')\n",
    "    return (pred_state_mean, pred_state_cov)"
   ]
  },
  {
   "cell_type": "code",
   "execution_count": null,
   "id": "3ccd3c49-06f9-43c9-ab7d-28f6631652cc",
   "metadata": {},
   "outputs": [],
   "source": [
    "trans_matrix, trans_cov, trans_off,curr_state_mean,curr_state_cov = (k.trans_matrix, k.trans_cov, k.trans_off,\n",
    "                                                  torch.stack([k.init_state_mean]*2).unsqueeze(-1),\n",
    "                                                  torch.stack([k.init_state_cov]*2))"
   ]
  },
  {
   "cell_type": "code",
   "execution_count": null,
   "id": "27363d30-7799-4ac7-ac81-b6d58e46b633",
   "metadata": {},
   "outputs": [],
   "source": [
    "pred_state_mean, pred_state_cov = _filter_predict(trans_matrix, trans_cov, trans_off,curr_state_mean,curr_state_cov)"
   ]
  },
  {
   "cell_type": "code",
   "execution_count": null,
   "id": "85cf0029-c23b-4091-8761-3bd689621331",
   "metadata": {},
   "outputs": [
    {
     "data": {
      "text/html": [
       "<div style=\"display: flex; column-gap: 20px; flex-wrap: wrap;\" class='table table-striped table-sm'> <div><p style='font-size: 1.2rem;'>pred_state_mean</p> <pre>tensor([[[1.5712],\n",
       "         [1.9214],\n",
       "         [2.3316],\n",
       "         [1.3567]],\n",
       "\n",
       "        [[1.5712],\n",
       "         [1.9214],\n",
       "         [2.3316],\n",
       "         [1.3567]]], dtype=torch.float64, grad_fn=<AddBackward0>)</pre> </div><div><p style='font-size: 1.2rem;'>pred_state_cov</p> <pre>tensor([[[ 3.4743,  4.8385,  3.0389,  4.9402],\n",
       "         [ 4.8385,  8.2650,  5.5249,  8.8622],\n",
       "         [ 3.0389,  5.5249,  4.4666,  6.6957],\n",
       "         [ 4.9402,  8.8622,  6.6957, 10.3906]],\n",
       "\n",
       "        [[ 3.4743,  4.8385,  3.0389,  4.9402],\n",
       "         [ 4.8385,  8.2650,  5.5249,  8.8622],\n",
       "         [ 3.0389,  5.5249,  4.4666,  6.6957],\n",
       "         [ 4.9402,  8.8622,  6.6957, 10.3906]]], dtype=torch.float64,\n",
       "       grad_fn=<AddBackward0>)</pre> </div></div>"
      ],
      "text/plain": [
       "<IPython.core.display.HTML object>"
      ]
     },
     "metadata": {},
     "output_type": "display_data"
    }
   ],
   "source": [
    "show_as_row(pred_state_mean, pred_state_cov)"
   ]
  },
  {
   "cell_type": "code",
   "execution_count": null,
   "id": "64cab28f-86a6-4bdd-b591-fc51153b891f",
   "metadata": {},
   "outputs": [
    {
     "data": {
      "text/html": [
       "<div style=\"display: flex; column-gap: 20px; flex-wrap: wrap;\" class='table table-striped table-sm'> <div><p style='font-size: 1.2rem;'></p> <pre>torch.Size([2, 4, 4])</pre> </div></div>"
      ],
      "text/plain": [
       "<IPython.core.display.HTML object>"
      ]
     },
     "metadata": {},
     "output_type": "display_data"
    }
   ],
   "source": [
    "show_as_row(pred_state_mean.shape, pred_state_cov.shape)"
   ]
  },
  {
   "cell_type": "markdown",
   "id": "99e62fe3-a580-4f1d-aa20-8c5de1d90cb6",
   "metadata": {},
   "source": [
    "#### Filter correct"
   ]
  },
  {
   "cell_type": "markdown",
   "id": "834a0734-30f7-481e-bad8-94aeae770a2a",
   "metadata": {},
   "source": [
    "Probability of state at time `t` given the observations at time `t`\n",
    "\n",
    "$p(x_t|y_t) = \\mathcal{N}(x_t; m_t, P_t)$ where:\n",
    "\n",
    "- predicted obs mean: $z_t = Hm_t^- + d$  \n",
    "\n",
    "- prediced obs covariance: $S_t = HP_t^-H^T + R$\n",
    "\n",
    "- kalman gain$K_t = P_t^-H^TS_t^{-1}$ \n",
    "\n",
    "- corrected state mean: $m_t = m_t^- + K_t(y_t - z_t)$ \n",
    "\n",
    "- corrected state covariance: $P_t = (I-K_tH)P_t^-$ \n",
    "\n",
    "if the observation are missing this step is skipped and the corrected state is equal to the predicted state\n"
   ]
  },
  {
   "cell_type": "markdown",
   "id": "9ab7f69a-c12e-4136-8ae2-fad9918f3a68",
   "metadata": {},
   "source": [
    "Need to figure out the Nans for the gradients ..."
   ]
  },
  {
   "cell_type": "code",
   "execution_count": null,
   "id": "f0e94561-d37b-42f3-b117-949dde294e60",
   "metadata": {},
   "outputs": [
    {
     "data": {
      "text/plain": [
       "torch.Size([3])"
      ]
     },
     "execution_count": null,
     "metadata": {},
     "output_type": "execute_result"
    }
   ],
   "source": [
    "k.obs_off.shape"
   ]
  },
  {
   "cell_type": "code",
   "execution_count": null,
   "id": "23b11e2a",
   "metadata": {},
   "outputs": [],
   "source": [
    "#| export\n",
    "def _filter_correct(obs_matrix,\n",
    "                    obs_cov,\n",
    "                    obs_off,\n",
    "                    pred_state_mean,\n",
    "                    pred_state_cov,\n",
    "                    obs,\n",
    "                    mask,\n",
    "                    cov_checker=CheckPosDef()):\n",
    "    \"\"\"Update state at time `t` given observations at time `t`\"\"\"\n",
    "    \n",
    "    pred_obs_mean = obs_matrix.unsqueeze(0) @ pred_state_mean + obs_off.unsqueeze(-1) # extra dim needed to hae batched matmul working\n",
    "    pred_obs_cov = obs_matrix.unsqueeze(0) @ pred_state_cov @ obs_matrix.unsqueeze(0).mT + obs_cov\n",
    "\n",
    "    kalman_gain = pred_state_cov @ obs_matrix.T @ torch.inverse(pred_obs_cov) # torch.cholesky_inverse(torch.linalg.cholesky(pred_obs_cov))\n",
    "\n",
    "    corr_state_mean = pred_state_mean + kalman_gain @ (obs.unsqueeze(-1) - pred_obs_mean)\n",
    "    corr_state_cov = pred_state_cov - kalman_gain @ obs_matrix @ pred_state_cov\n",
    "    \n",
    "    mask = mask.all(-1) # if any observation is missing need to discard the whole vector\n",
    "    corr_state_mean[~mask] = pred_state_mean[~mask]\n",
    "    corr_state_cov[~mask] = pred_state_cov[~mask]\n",
    "\n",
    "    cov_checker.check(pred_state_cov, caller='filter_correct')\n",
    "    return (kalman_gain, corr_state_mean, corr_state_cov)"
   ]
  },
  {
   "cell_type": "code",
   "execution_count": null,
   "id": "9ac44c82-b204-4354-9e83-b697d28751b7",
   "metadata": {},
   "outputs": [],
   "source": [
    "obs_matrix, obs_cov, obs_off,obs, mm = (k.obs_matrix, k.obs_cov, k.obs_off, data[:,0,:], mask[:,0,:])"
   ]
  },
  {
   "cell_type": "code",
   "execution_count": null,
   "id": "5f3bd23c-872a-45ff-8f79-132d0e414d09",
   "metadata": {},
   "outputs": [],
   "source": [
    "k_gain, corr_s_mean, corr_s_cov = _filter_correct(obs_matrix, obs_cov, obs_off, pred_state_mean, pred_state_cov, obs, mm)"
   ]
  },
  {
   "cell_type": "code",
   "execution_count": null,
   "id": "462ca23f-1900-4330-8660-f7a97fd1f573",
   "metadata": {},
   "outputs": [
    {
     "data": {
      "text/html": [
       "<div style=\"display: flex; column-gap: 20px; flex-wrap: wrap;\" class='table table-striped table-sm'> <div><p style='font-size: 1.2rem;'>k_gain</p> <pre>tensor([[[-0.4017, -0.4092,  1.2236],\n",
       "         [-1.2649,  0.0845,  1.6066],\n",
       "         [-0.0080,  0.7549, -0.4169],\n",
       "         [-0.7479,  0.7935,  0.4121]],\n",
       "\n",
       "        [[-0.4017, -0.4092,  1.2236],\n",
       "         [-1.2649,  0.0845,  1.6066],\n",
       "         [-0.0080,  0.7549, -0.4169],\n",
       "         [-0.7479,  0.7935,  0.4121]]], dtype=torch.float64,\n",
       "       grad_fn=<UnsafeViewBackward0>)</pre> </div><div><p style='font-size: 1.2rem;'>corr_s_mean</p> <pre>tensor([[[ 0.3122],\n",
       "         [-0.9246],\n",
       "         [ 0.3632],\n",
       "         [-1.8769]],\n",
       "\n",
       "        [[ 1.5712],\n",
       "         [ 1.9214],\n",
       "         [ 2.3316],\n",
       "         [ 1.3567]]], dtype=torch.float64, grad_fn=<IndexPutBackward0>)</pre> </div><div><p style='font-size: 1.2rem;'>corr_s_cov</p> <pre>tensor([[[ 0.3113,  0.0196,  0.0667,  0.0262],\n",
       "         [ 0.0196,  0.2823,  0.1633,  0.2484],\n",
       "         [ 0.0667,  0.1633,  0.4024,  0.4547],\n",
       "         [ 0.0262,  0.2484,  0.4547,  0.6412]],\n",
       "\n",
       "        [[ 3.4743,  4.8385,  3.0389,  4.9402],\n",
       "         [ 4.8385,  8.2650,  5.5249,  8.8622],\n",
       "         [ 3.0389,  5.5249,  4.4666,  6.6957],\n",
       "         [ 4.9402,  8.8622,  6.6957, 10.3906]]], dtype=torch.float64,\n",
       "       grad_fn=<IndexPutBackward0>)</pre> </div></div>"
      ],
      "text/plain": [
       "<IPython.core.display.HTML object>"
      ]
     },
     "metadata": {},
     "output_type": "display_data"
    }
   ],
   "source": [
    "show_as_row(k_gain, corr_s_mean, corr_s_cov)"
   ]
  },
  {
   "cell_type": "code",
   "execution_count": null,
   "id": "04f97fc1-42d2-42c8-b945-af011456121d",
   "metadata": {},
   "outputs": [
    {
     "data": {
      "text/html": [
       "<div style=\"display: flex; column-gap: 20px; flex-wrap: wrap;\" class='table table-striped table-sm'> <div><p style='font-size: 1.2rem;'></p> <pre>torch.Size([2, 4, 4])</pre> </div></div>"
      ],
      "text/plain": [
       "<IPython.core.display.HTML object>"
      ]
     },
     "metadata": {},
     "output_type": "display_data"
    }
   ],
   "source": [
    "show_as_row(*map(lambda x:x.shape, (k_gain, corr_s_mean, corr_s_cov,)))"
   ]
  },
  {
   "cell_type": "code",
   "execution_count": null,
   "id": "749a843b-41ff-427e-be97-28b6d188f5d1",
   "metadata": {},
   "outputs": [],
   "source": [
    "test_close(corr_s_mean[1], pred_state_mean[1]) # correctly ignoring the missing data"
   ]
  },
  {
   "cell_type": "code",
   "execution_count": null,
   "id": "d4ee11fd-ec1c-495e-9e41-cd70717206a1",
   "metadata": {},
   "outputs": [],
   "source": [
    "corr_s_mean.sum().backward(retain_graph=True) # check that pytorch can compute gradients with the whole batch"
   ]
  },
  {
   "cell_type": "markdown",
   "id": "173294f6-f74b-4a93-9ba6-c4695284d125",
   "metadata": {},
   "source": [
    "#### Filter"
   ]
  },
  {
   "cell_type": "markdown",
   "id": "1e345bda-8a17-44be-bd6f-15f5608ac220",
   "metadata": {},
   "source": [
    "The resursive version of the kalman filter is apperently breaking pytorch gradients calculations so a workaround is needed.\n",
    "During the loop the states are saved in a python list and then at the end they are combined back into a tensor.\n",
    "The last line of the function does:\n",
    "\n",
    "- convert lists to tensors\n",
    "- correct order dimensions"
   ]
  },
  {
   "cell_type": "code",
   "execution_count": null,
   "id": "49b44fc6-a9f5-4873-8610-c889c9a1b6b8",
   "metadata": {},
   "outputs": [],
   "source": [
    "#| export\n",
    "def _times2batch(x):\n",
    "    \"\"\"Permutes `x` so that the first dimension is the number of batches and not the times\"\"\"\n",
    "    return x.permute(1,0,-2,-1)"
   ]
  },
  {
   "cell_type": "code",
   "execution_count": null,
   "id": "2f045ed4-40bc-4451-b836-5bc4e5b4d4b9",
   "metadata": {},
   "outputs": [],
   "source": [
    "#| export\n",
    "def _filter(trans_matrix, obs_matrix,\n",
    "            trans_cov, obs_cov,\n",
    "            trans_off, obs_off,\n",
    "            init_state_mean, init_state_cov,\n",
    "            obs, mask,\n",
    "            cov_checker=CheckPosDef()\n",
    "           ) ->Tuple[List, List, List, List]: # pred_state_means, pred_state_covs, filt_state_means, filt_state_covs\n",
    "    \"\"\"Filter observations using kalman filter \"\"\"\n",
    "    n_timesteps = obs.shape[-2]\n",
    "    bs = obs.shape[0]\n",
    "    # lists are mutable so need to copy them\n",
    "    pred_state_means, pred_state_covs, filt_state_means, filt_state_covs = [[None for _ in range(n_timesteps)].copy() for _ in range(4)] \n",
    "\n",
    "    for t in range(n_timesteps):\n",
    "        if t == 0:\n",
    "            pred_state_means[t], pred_state_covs[t] = torch.stack([init_state_mean]*bs).unsqueeze(-1), torch.stack([init_state_cov]*bs)\n",
    "        else:\n",
    "            pred_state_means[t], pred_state_covs[t] = _filter_predict(trans_matrix, trans_cov, trans_off,\n",
    "                                                                      filt_state_means[t - 1], filt_state_covs[t - 1],\n",
    "                                                                      cov_checker.add_args(t=t))\n",
    "\n",
    "        _, filt_state_means[t], filt_state_covs[t] = _filter_correct(obs_matrix, obs_cov, obs_off,\n",
    "                                                                     pred_state_means[t], pred_state_covs[t],\n",
    "                                                                     obs[:,t,:], mask[:,t,:],\n",
    "                                                                     cov_checker.add_args(t=t))\n",
    "    \n",
    "    ret = list(maps(torch.stack, _times2batch, (pred_state_means, pred_state_covs, filt_state_means, filt_state_covs,)))\n",
    "    return ret"
   ]
  },
  {
   "cell_type": "code",
   "execution_count": null,
   "id": "c8a89f73-5006-44db-bf7d-2a50cc7c5935",
   "metadata": {},
   "outputs": [],
   "source": [
    "obs, init_state_mean, init_state_cov = data, k.init_state_mean, k.init_state_cov"
   ]
  },
  {
   "cell_type": "code",
   "execution_count": null,
   "id": "1fdc67a7-1a3f-4920-810d-03c968cdf86a",
   "metadata": {},
   "outputs": [],
   "source": [
    "pred_state_means, pred_state_covs, filt_state_means, filt_state_covs = _filter(trans_matrix, obs_matrix, trans_cov, obs_cov, trans_off, obs_off, init_state_mean, init_state_cov, data, mask)"
   ]
  },
  {
   "cell_type": "markdown",
   "id": "a90a2d45-baed-4c3b-9a3a-2994e5a7a278",
   "metadata": {},
   "source": [
    "Predictions at time `0` for both batches"
   ]
  },
  {
   "cell_type": "code",
   "execution_count": null,
   "id": "fef85013-d727-4bdd-ba84-a31ba313d3a7",
   "metadata": {},
   "outputs": [
    {
     "data": {
      "text/html": [
       "<div style=\"display: flex; column-gap: 20px; flex-wrap: wrap;\" class='table table-striped table-sm'> <div><p style='font-size: 1.2rem;'></p> <pre>torch.Size([2, 10, 4, 4])</pre> </div></div>"
      ],
      "text/plain": [
       "<IPython.core.display.HTML object>"
      ]
     },
     "metadata": {},
     "output_type": "display_data"
    }
   ],
   "source": [
    "show_as_row(*map(Self.shape(), (pred_state_means, pred_state_covs, filt_state_means, filt_state_covs,)))"
   ]
  },
  {
   "cell_type": "code",
   "execution_count": null,
   "id": "f93a4e7d-8a82-4c8a-be3f-7c6f63278258",
   "metadata": {},
   "outputs": [
    {
     "data": {
      "text/html": [
       "<div style=\"display: flex; column-gap: 20px; flex-wrap: wrap;\" class='table table-striped table-sm'> <div><p style='font-size: 1.2rem;'></p> <pre>tensor([[0.0206, 0.0204, 0.0745, 0.0302],\n",
       "        [0.0204, 0.4074, 0.2459, 0.1297],\n",
       "        [0.0745, 0.2459, 0.4003, 0.1971],\n",
       "        [0.0302, 0.1297, 0.1971, 0.3224]], dtype=torch.float64,\n",
       "       grad_fn=<SelectBackward0>)</pre> </div></div>"
      ],
      "text/plain": [
       "<IPython.core.display.HTML object>"
      ]
     },
     "metadata": {},
     "output_type": "display_data"
    }
   ],
   "source": [
    "show_as_row(*map(lambda x:x[0][0], (pred_state_means, pred_state_covs, filt_state_means, filt_state_covs,)))"
   ]
  },
  {
   "cell_type": "markdown",
   "id": "9f928bd5-604f-4a0d-9379-46aba21e31d8",
   "metadata": {},
   "source": [
    "#### KalmanFilter method"
   ]
  },
  {
   "cell_type": "code",
   "execution_count": null,
   "id": "ebcccf0f-e431-4a38-88f2-5630adf974b9",
   "metadata": {},
   "outputs": [],
   "source": [
    "#| export\n",
    "@patch\n",
    "def _filter_all(self: KalmanFilter, obs, mask=None\n",
    "               ) ->Tuple[List, List, List, List]: # pred_state_means, pred_state_covs, filt_state_means, filt_state_covs\n",
    "    \"\"\" wrapper around `_filter`\"\"\"\n",
    "    obs, mask = self._parse_obs(obs, mask)\n",
    "    return _filter(\n",
    "            self.trans_matrix, self.obs_matrix,\n",
    "            self.trans_cov, self.obs_cov,\n",
    "            self.trans_off, self.obs_off,\n",
    "            self.init_state_mean, self.init_state_cov,\n",
    "            obs, mask,\n",
    "            self.cov_checker\n",
    "        )"
   ]
  },
  {
   "cell_type": "code",
   "execution_count": null,
   "id": "88522f5b-88b8-4357-af60-11d2a322898b",
   "metadata": {},
   "outputs": [],
   "source": [
    "pred_mean, _, _, _ = k._filter_all(obs);"
   ]
  },
  {
   "cell_type": "code",
   "execution_count": null,
   "id": "3727654a-f7e2-4a95-8c8b-0659a4f2610b",
   "metadata": {},
   "outputs": [
    {
     "data": {
      "text/plain": [
       "list"
      ]
     },
     "execution_count": null,
     "metadata": {},
     "output_type": "execute_result"
    }
   ],
   "source": [
    "type(k._filter_all(obs, mask))"
   ]
  },
  {
   "cell_type": "code",
   "execution_count": null,
   "id": "0245e567-161f-4a63-89d9-c68e6553a05c",
   "metadata": {},
   "outputs": [],
   "source": [
    "pred_mean.sum().backward(retain_graph=True) # it works!"
   ]
  },
  {
   "cell_type": "markdown",
   "id": "745027b0-63f0-459f-ad1f-b29c23454dac",
   "metadata": {},
   "source": [
    "The filter methods wraps `_filter_all` but in addition:\n",
    "\n",
    "- returns only filtered state\n",
    "- detach tensors"
   ]
  },
  {
   "cell_type": "code",
   "execution_count": null,
   "id": "4d970ee1-3e3f-4707-9f97-3874ad7643b1",
   "metadata": {},
   "outputs": [],
   "source": [
    "#| export\n",
    "@patch\n",
    "def filter(self: KalmanFilter,\n",
    "          obs: Tensor, # [n_timesteps, n_dim_obs] obs for times [0...n_timesteps-1]\n",
    "          mask = None,\n",
    "          ) -> ListMNormal: # Filtered state\n",
    "    \"\"\"Filter observation\"\"\"\n",
    "    _, _, filt_state_means, filt_state_covs = self._filter_all(obs, mask)\n",
    "    return ListMNormal(filt_state_means.squeeze(-1), filt_state_covs)"
   ]
  },
  {
   "cell_type": "code",
   "execution_count": null,
   "id": "78611868-2c0b-4e56-aa24-102530648002",
   "metadata": {},
   "outputs": [
    {
     "data": {
      "text/plain": [
       "(torch.Size([2, 10, 4]), torch.Size([2, 10, 4, 4]))"
      ]
     },
     "execution_count": null,
     "metadata": {},
     "output_type": "execute_result"
    }
   ],
   "source": [
    "filt = k.filter(obs)\n",
    "filt.mean.shape, filt.cov.shape"
   ]
  },
  {
   "cell_type": "markdown",
   "id": "f8d2f1bf-34cd-4e87-a239-2662f6689a53",
   "metadata": {},
   "source": [
    "### Smooth"
   ]
  },
  {
   "cell_type": "markdown",
   "id": "ff2a1878-4e69-4ead-a7b8-cf7dbae5d13e",
   "metadata": {},
   "source": [
    "#### Smooth step"
   ]
  },
  {
   "cell_type": "markdown",
   "id": "8a2e8c24-b7ce-4e7a-9bfa-82c9dd246080",
   "metadata": {},
   "source": [
    "compute the probability of the state at time `t` given all the observations\n",
    "\n",
    "$p(x_t|Y) = \\mathcal{N}(x_t; m_t^s, P_t^s)$ where:\n",
    "\n",
    "- Kalman smoothing gain: $G_t = P_tA^T(P_{t+1}^-)^{-1}$\n",
    "- smoothed mean: $m_t^s = m_t + G_t(m_{t+1}^s - m_{t+1}^-)$\n",
    "- smoothed covariance: $P_t^s = P_t + G_t(P_t{t+1}^s - P_t{t+1}^-)G_t^T$"
   ]
  },
  {
   "cell_type": "code",
   "execution_count": null,
   "id": "57d5c739-3863-40a5-8b96-1ee12c476ca9",
   "metadata": {},
   "outputs": [],
   "source": [
    "#| export\n",
    "def _smooth_update(trans_matrix,                # [n_dim_state, n_dim_state]\n",
    "                   filt_state: MNormal,         # [n_dim_state] filtered state at time `t`\n",
    "                   pred_state: MNormal,         # [n_dim_state] state before filtering at time `t + 1` (= using the observation until time t)\n",
    "                   next_smoothed_state: Normal, # [n_dim_state] smoothed state at time  `t+1`\n",
    "                   cov_checker = CheckPosDef()\n",
    "                   ) -> MNormal:                # mean and cov of smoothed state at time `t`\n",
    "    \"\"\"Correct a pred state with a Kalman Smoother update\"\"\"\n",
    "    kalman_smoothing_gain = filt_state.cov @ trans_matrix.unsqueeze(0).mT @ torch.inverse(pred_state.cov) # torch.cholesky_inverse(torch.linalg.cholesky(pred_state.cov))\n",
    "\n",
    "    smoothed_state_mean = filt_state.mean + kalman_smoothing_gain @ (next_smoothed_state.mean - pred_state.mean)\n",
    "    smoothed_state_cov = filt_state.cov + kalman_smoothing_gain @ (next_smoothed_state.cov - pred_state.cov) @ kalman_smoothing_gain.mT\n",
    "\n",
    "    cov_checker.check(smoothed_state_cov, caller='smooth_update')\n",
    "    \n",
    "    return MNormal(smoothed_state_mean, smoothed_state_cov)"
   ]
  },
  {
   "cell_type": "code",
   "execution_count": null,
   "id": "9ac05405-3656-45e1-a818-136858b36fcb",
   "metadata": {},
   "outputs": [],
   "source": [
    "filt_state, pred_state, next_smoothed_state = [MNormal(pred_state_mean, pred_state_cov)] * 3 # just for testing"
   ]
  },
  {
   "cell_type": "code",
   "execution_count": null,
   "id": "8a7f46d1-5d5e-48fa-92d7-cb37e715d2d7",
   "metadata": {},
   "outputs": [
    {
     "data": {
      "text/html": [
       "<div style=\"display: flex; column-gap: 20px; flex-wrap: wrap;\" class='table table-striped table-sm'> <div><p style='font-size: 1.2rem;'></p> <pre>tensor([[[ 3.4743,  4.8385,  3.0389,  4.9402],\n",
       "         [ 4.8385,  8.2650,  5.5249,  8.8622],\n",
       "         [ 3.0389,  5.5249,  4.4666,  6.6957],\n",
       "         [ 4.9402,  8.8622,  6.6957, 10.3906]],\n",
       "\n",
       "        [[ 3.4743,  4.8385,  3.0389,  4.9402],\n",
       "         [ 4.8385,  8.2650,  5.5249,  8.8622],\n",
       "         [ 3.0389,  5.5249,  4.4666,  6.6957],\n",
       "         [ 4.9402,  8.8622,  6.6957, 10.3906]]], dtype=torch.float64,\n",
       "       grad_fn=<AddBackward0>)</pre> </div></div>"
      ],
      "text/plain": [
       "<IPython.core.display.HTML object>"
      ]
     },
     "metadata": {},
     "output_type": "display_data"
    }
   ],
   "source": [
    "show_as_row(*_smooth_update(trans_matrix, MNormal(pred_state_mean, pred_state_cov), MNormal(pred_state_mean, pred_state_cov), MNormal(pred_state_mean, pred_state_cov)))"
   ]
  },
  {
   "cell_type": "code",
   "execution_count": null,
   "id": "4718e339-fc4f-4794-a3d2-d72ef59d16ca",
   "metadata": {},
   "outputs": [
    {
     "data": {
      "text/html": [
       "<div style=\"display: flex; column-gap: 20px; flex-wrap: wrap;\" class='table table-striped table-sm'> <div><p style='font-size: 1.2rem;'></p> <pre>torch.Size([2, 4, 4])</pre> </div></div>"
      ],
      "text/plain": [
       "<IPython.core.display.HTML object>"
      ]
     },
     "metadata": {},
     "output_type": "display_data"
    }
   ],
   "source": [
    "show_as_row(*map(Self.shape(), _smooth_update(trans_matrix, MNormal(pred_state_mean, pred_state_cov), MNormal(pred_state_mean, pred_state_cov), MNormal(pred_state_mean, pred_state_cov))))"
   ]
  },
  {
   "cell_type": "markdown",
   "id": "78cf23fc-5a11-48e2-b37d-5c640e23d79f",
   "metadata": {},
   "source": [
    "#### Smooth"
   ]
  },
  {
   "cell_type": "code",
   "execution_count": null,
   "id": "7c46309f-70f9-419f-91fc-607ec3e79d77",
   "metadata": {},
   "outputs": [],
   "source": [
    "#| export\n",
    "def _smooth(trans_matrix, # `[n_dim_state, n_dim_state]`\n",
    "            filt_state: ListMNormal, # `[n_timesteps, n_dim_state]`\n",
    "                # `filt_state_means[t]` is the state estimate for time t given obs from times `[0...t]`\n",
    "            pred_state: ListMNormal, # `[n_timesteps, n_dim_state]`\n",
    "                # `pred_state_means[t]` is the state estimate for time t given obs from times `[0...t-1]`\n",
    "            cov_checker = CheckPosDef()\n",
    "           ) -> ListMNormal: # `[n_timesteps, n_dim_state]` Smoothed state \n",
    "    \"\"\"Apply the Kalman Smoother\"\"\"\n",
    "    x = pred_state.mean # sample for getting tensor properties\n",
    "    bs, n_timesteps, n_dim_state = x.shape[0], x.shape[1], x.shape[2]\n",
    "\n",
    "    smoothed_state = ListMNormal(torch.zeros((bs, n_timesteps,n_dim_state,1),             dtype=x.dtype, device=x.device), \n",
    "                                 torch.zeros((bs, n_timesteps, n_dim_state,n_dim_state), dtype=x.dtype, device=x.device))\n",
    "    # For the last timestep cannot use the smoother\n",
    "    smoothed_state.mean[:,-1,] = filt_state.mean[:,-1]\n",
    "    smoothed_state.cov[:,-1] = filt_state.cov[:,-1]\n",
    "\n",
    "    for t in reversed(range(n_timesteps - 1)):\n",
    "        (smoothed_state.mean[:,t], smoothed_state.cov[:,t]) = (\n",
    "            _smooth_update(\n",
    "                trans_matrix,\n",
    "                filt_state[:,t],\n",
    "                pred_state[:,t + 1],\n",
    "                smoothed_state[:,t+1],\n",
    "            )\n",
    "        )\n",
    "    return smoothed_state"
   ]
  },
  {
   "cell_type": "code",
   "execution_count": null,
   "id": "78f79457-da68-429c-8edd-860860380cbc",
   "metadata": {},
   "outputs": [],
   "source": [
    "(pred_state_means, pred_state_covs, filt_state_means, filt_state_covs ) = k._filter_all(data)\n",
    "filt_state, pred_state = ListMNormal(filt_state_means, filt_state_covs), ListMNormal(pred_state_means, pred_state_covs)"
   ]
  },
  {
   "cell_type": "code",
   "execution_count": null,
   "id": "5475b7ee-c9df-4aca-b490-2f4a2b331d4e",
   "metadata": {},
   "outputs": [],
   "source": [
    "smooth_state = _smooth(k.trans_matrix,  filt_state, pred_state)"
   ]
  },
  {
   "cell_type": "code",
   "execution_count": null,
   "id": "2dd198a6-1513-406f-904f-28088d02e0ad",
   "metadata": {},
   "outputs": [
    {
     "data": {
      "text/html": [
       "<div style=\"display: flex; column-gap: 20px; flex-wrap: wrap;\" class='table table-striped table-sm'> <div><p style='font-size: 1.2rem;'></p> <pre>tensor([[0.0163, 0.0015, 0.0488, 0.0117],\n",
       "        [0.0015, 0.2825, 0.1181, 0.0264],\n",
       "        [0.0488, 0.1181, 0.2411, 0.0784],\n",
       "        [0.0117, 0.0264, 0.0784, 0.2302]], dtype=torch.float64,\n",
       "       grad_fn=<SelectBackward0>)</pre> </div></div>"
      ],
      "text/plain": [
       "<IPython.core.display.HTML object>"
      ]
     },
     "metadata": {},
     "output_type": "display_data"
    }
   ],
   "source": [
    "show_as_row(smooth_state.mean[0][0], smooth_state.cov[0][0])"
   ]
  },
  {
   "cell_type": "code",
   "execution_count": null,
   "id": "90c7a3d7-5f9c-4a4d-9980-f33fa60e7226",
   "metadata": {},
   "outputs": [
    {
     "data": {
      "text/html": [
       "<div style=\"display: flex; column-gap: 20px; flex-wrap: wrap;\" class='table table-striped table-sm'> <div><p style='font-size: 1.2rem;'></p> <pre>torch.Size([2, 10, 4, 4])</pre> </div></div>"
      ],
      "text/plain": [
       "<IPython.core.display.HTML object>"
      ]
     },
     "metadata": {},
     "output_type": "display_data"
    }
   ],
   "source": [
    "show_as_row(smooth_state.mean.shape, smooth_state.cov.shape)"
   ]
  },
  {
   "cell_type": "markdown",
   "id": "bc0299de-69cf-4351-ba84-12871662230b",
   "metadata": {},
   "source": [
    "#### KalmanFilter method"
   ]
  },
  {
   "cell_type": "code",
   "execution_count": null,
   "id": "808bcd96-9e98-4e4f-9b85-cdfb98cb9709",
   "metadata": {},
   "outputs": [],
   "source": [
    "#| export\n",
    "@patch\n",
    "def smooth(self: KalmanFilter,\n",
    "           obs: Tensor,\n",
    "           mask: Tensor = None,\n",
    "          ) -> ListMNormal: # `[n_timesteps, n_dim_state]` smoothed state\n",
    "        \n",
    "    \"\"\"Kalman Filter Smoothing\"\"\"\n",
    "\n",
    "    (pred_state_means, pred_state_covs, filt_state_means, filt_state_covs) = self._filter_all(obs, mask)\n",
    "\n",
    "    smoothed_state = _smooth(self.trans_matrix,\n",
    "                   ListMNormal(filt_state_means, filt_state_covs), ListMNormal(pred_state_means, pred_state_covs),\n",
    "                   self.cov_checker)\n",
    "    smoothed_state.mean.squeeze_(-1)\n",
    "    return smoothed_state"
   ]
  },
  {
   "cell_type": "code",
   "execution_count": null,
   "id": "bc63fe46-f267-4538-a72b-997747df2391",
   "metadata": {},
   "outputs": [],
   "source": [
    "smoothed_state = k.smooth(data)"
   ]
  },
  {
   "cell_type": "code",
   "execution_count": null,
   "id": "70f1c935-c1a8-4528-ab93-7f7711b8d521",
   "metadata": {},
   "outputs": [
    {
     "data": {
      "text/html": [
       "<div style=\"display: flex; column-gap: 20px; flex-wrap: wrap;\" class='table table-striped table-sm'> <div><p style='font-size: 1.2rem;'></p> <pre>torch.Size([2, 10, 4, 4])</pre> </div></div>"
      ],
      "text/plain": [
       "<IPython.core.display.HTML object>"
      ]
     },
     "metadata": {},
     "output_type": "display_data"
    }
   ],
   "source": [
    "show_as_row(smoothed_state.mean.shape, smoothed_state.cov.shape)"
   ]
  },
  {
   "cell_type": "markdown",
   "id": "7e0600dd-9baf-4796-b3f5-4ae1c2239453",
   "metadata": {},
   "source": [
    "### Predict"
   ]
  },
  {
   "cell_type": "markdown",
   "id": "1e20b5fd-4dd0-4cb9-be84-d1d3702c5695",
   "metadata": {},
   "source": [
    "In order to have conditional predictions that make sense it's not possible to return the full covariance matrix for the predictions but only the standard deviations"
   ]
  },
  {
   "cell_type": "markdown",
   "id": "25b398c8-3d47-4c50-8197-e692faf7df51",
   "metadata": {},
   "source": [
    "This add the supports for conditional predictions, which means that at the time (t) when we are making the predictions some of the variables have been actually observed. Since the model prediction is a normal distribution we can condition on the observed values and thus improve the predictions. See `conditional_gaussian`"
   ]
  },
  {
   "cell_type": "code",
   "execution_count": null,
   "id": "cd8b3350-34f3-45f1-b7a6-0159fbc8e5e0",
   "metadata": {},
   "outputs": [],
   "source": [
    "test_m = torch.tensor(\n",
    "    [[True, True, True,],\n",
    "    [False, True, True],\n",
    "    [False, False, False]]\n",
    ")"
   ]
  },
  {
   "cell_type": "code",
   "execution_count": null,
   "id": "82e30d14-d0c1-433a-a3e5-d31b4e9378f9",
   "metadata": {},
   "outputs": [
    {
     "data": {
      "text/plain": [
       "tensor([False,  True, False])"
      ]
     },
     "execution_count": null,
     "metadata": {},
     "output_type": "execute_result"
    }
   ],
   "source": [
    "torch.logical_xor(test_m.all(-1), test_m.any(-1))"
   ]
  },
  {
   "cell_type": "code",
   "execution_count": null,
   "id": "d39b3aa0-093a-435a-9116-e1c3f1e47f5c",
   "metadata": {},
   "outputs": [],
   "source": [
    "A = torch.rand(2,2,3,3)"
   ]
  },
  {
   "cell_type": "code",
   "execution_count": null,
   "id": "e1f0a861-e123-41da-94aa-fcb0f57382d7",
   "metadata": {},
   "outputs": [
    {
     "data": {
      "text/plain": [
       "torch.Size([2, 2, 3, 3])"
      ]
     },
     "execution_count": null,
     "metadata": {},
     "output_type": "execute_result"
    }
   ],
   "source": [
    "(A @ A).shape"
   ]
  },
  {
   "cell_type": "markdown",
   "id": "f72c1932-14c6-4c37-809d-b1b2a6c7a765",
   "metadata": {},
   "source": [
    "predict can be vectorized across both the batch and the timesteps, except for timesteps that require conditional predictions"
   ]
  },
  {
   "cell_type": "code",
   "execution_count": null,
   "id": "9f4db221-10b7-4d7a-81ec-3fb92a1f32cb",
   "metadata": {},
   "outputs": [],
   "source": [
    "#| export\n",
    "@patch\n",
    "def _obs_from_state(self: KalmanFilter, state: ListMNormal):\n",
    "\n",
    "    mean = self.obs_matrix @ state.mean.unsqueeze(-1) + self.obs_off.unsqueeze(-1)\n",
    "    cov = self.obs_matrix @ state.cov @ self.obs_matrix.mT + self.obs_cov\n",
    "    \n",
    "    self.cov_checker.check(cov, caller='predict')\n",
    "    \n",
    "    return ListMNormal(mean.squeeze(-1), cov)"
   ]
  },
  {
   "cell_type": "code",
   "execution_count": null,
   "id": "21402787-cf5f-4498-8ff4-fc6d865006a6",
   "metadata": {},
   "outputs": [
    {
     "data": {
      "text/plain": [
       "(torch.Size([2, 10, 4]), torch.Size([2, 10, 4, 4]))"
      ]
     },
     "execution_count": null,
     "metadata": {},
     "output_type": "execute_result"
    }
   ],
   "source": [
    "smoothed_state.mean.shape, smoothed_state.cov.shape"
   ]
  },
  {
   "cell_type": "code",
   "execution_count": null,
   "id": "e0987627-8ccc-4fa5-8ab0-f95d871ba199",
   "metadata": {},
   "outputs": [
    {
     "data": {
      "text/plain": [
       "torch.Size([2, 10, 3, 1])"
      ]
     },
     "execution_count": null,
     "metadata": {},
     "output_type": "execute_result"
    }
   ],
   "source": [
    "(k.obs_matrix @ smoothed_state.mean.unsqueeze(-1)).shape"
   ]
  },
  {
   "cell_type": "code",
   "execution_count": null,
   "id": "5ac36f65-dde3-45ed-b6f0-e7ed0931f0a7",
   "metadata": {},
   "outputs": [
    {
     "data": {
      "text/plain": [
       "torch.Size([2, 10, 3])"
      ]
     },
     "execution_count": null,
     "metadata": {},
     "output_type": "execute_result"
    }
   ],
   "source": [
    "pred_obs0 = k._obs_from_state(smoothed_state)\n",
    "pred_obs0.mean.shape"
   ]
  },
  {
   "cell_type": "code",
   "execution_count": null,
   "id": "2950683a-cadc-45e2-aed3-639a56e6b324",
   "metadata": {},
   "outputs": [
    {
     "data": {
      "text/plain": [
       "torch.Size([2, 10, 3, 3])"
      ]
     },
     "execution_count": null,
     "metadata": {},
     "output_type": "execute_result"
    }
   ],
   "source": [
    "pred_obs0.cov.shape"
   ]
  },
  {
   "cell_type": "code",
   "execution_count": null,
   "id": "743f6603-1d34-4f00-90d0-0a2f0466423b",
   "metadata": {},
   "outputs": [],
   "source": [
    "#| export\n",
    "@patch\n",
    "def predict(self: KalmanFilter, obs, mask=None, smooth=True):\n",
    "    \"\"\"Predicted observations at all times \"\"\"\n",
    "    state = self.smooth(obs, mask) if smooth else self.filter(obs, mask)\n",
    "    obs, mask = self._parse_obs(obs, mask)\n",
    "    \n",
    "    pred_obs = self._obs_from_state(state)\n",
    "    # conditional predictions are slow, do only if some obs are missing \n",
    "    cond_mask = torch.logical_xor(mask.all(-1), mask.any(-1))\n",
    "    \n",
    "    # this cannot be batched so returns a list\n",
    "    cond_preds = cond_gaussian_batched(\n",
    "        pred_obs[cond_mask], obs[cond_mask], mask[cond_mask])\n",
    "    \n",
    "    pred_mean, pred_std = pred_obs.mean, cov2std(pred_obs.cov) # multiple [] still not properly implemented in ListMNormal\n",
    "    \n",
    "    for i, c_pred in enumerate(cond_preds):\n",
    "        m = ~mask[cond_mask][i]\n",
    "        pred_mean[cond_mask][i][m] = c_pred.mean\n",
    "        pred_std [cond_mask][i][m] = cov2std(c_pred.cov)\n",
    "    \n",
    "    return ListNormal(pred_mean, pred_std)"
   ]
  },
  {
   "cell_type": "code",
   "execution_count": null,
   "id": "d8a1d554-5ac8-44ef-b849-00512f68deda",
   "metadata": {},
   "outputs": [],
   "source": [
    "pred = k.predict(data)"
   ]
  },
  {
   "cell_type": "code",
   "execution_count": null,
   "id": "b81dcc01-850c-409b-9de2-5a0643bc9f97",
   "metadata": {},
   "outputs": [
    {
     "data": {
      "text/plain": [
       "(torch.Size([2, 10, 3]), torch.Size([2, 10, 3]))"
      ]
     },
     "execution_count": null,
     "metadata": {},
     "output_type": "execute_result"
    }
   ],
   "source": [
    "pred.mean.shape, pred.std.shape"
   ]
  },
  {
   "cell_type": "code",
   "execution_count": null,
   "id": "bae48899-23c5-4546-92c3-ef3083ef79ff",
   "metadata": {},
   "outputs": [],
   "source": [
    "state = k.smooth(data)"
   ]
  },
  {
   "cell_type": "code",
   "execution_count": null,
   "id": "60585c75-93ed-4d6a-bbff-e50cce061292",
   "metadata": {},
   "outputs": [
    {
     "data": {
      "text/plain": [
       "torch.Size([4])"
      ]
     },
     "execution_count": null,
     "metadata": {},
     "output_type": "execute_result"
    }
   ],
   "source": [
    "state.mean[0,0].shape"
   ]
  },
  {
   "cell_type": "code",
   "execution_count": null,
   "id": "1545244e-4870-4beb-888d-367037d41d93",
   "metadata": {},
   "outputs": [
    {
     "data": {
      "text/plain": [
       "torch.Size([2, 10, 4])"
      ]
     },
     "execution_count": null,
     "metadata": {},
     "output_type": "execute_result"
    }
   ],
   "source": [
    "state.mean.shape"
   ]
  },
  {
   "cell_type": "code",
   "execution_count": null,
   "id": "4e1b4bc8-f3a7-493d-9a45-4b75fad94bb3",
   "metadata": {},
   "outputs": [],
   "source": []
  },
  {
   "cell_type": "code",
   "execution_count": null,
   "id": "42d3584c-30a0-42f7-be55-ad5e7140615d",
   "metadata": {},
   "outputs": [
    {
     "data": {
      "text/plain": [
       "tensor([[ 0.5180],\n",
       "        [-0.2076],\n",
       "        [-0.1307]], dtype=torch.float64, grad_fn=<MmBackward0>)"
      ]
     },
     "execution_count": null,
     "metadata": {},
     "output_type": "execute_result"
    }
   ],
   "source": [
    "k.obs_matrix @ state.mean[0,0].unsqueeze(-1)"
   ]
  },
  {
   "cell_type": "code",
   "execution_count": null,
   "id": "823ff005-0bc9-4c3b-bf68-7aaf20b398d0",
   "metadata": {},
   "outputs": [
    {
     "data": {
      "text/plain": [
       "tensor([ 0.5180, -0.2076, -0.1307], dtype=torch.float64, grad_fn=<MvBackward0>)"
      ]
     },
     "execution_count": null,
     "metadata": {},
     "output_type": "execute_result"
    }
   ],
   "source": [
    "k.obs_matrix @ state.mean[0,0]"
   ]
  },
  {
   "cell_type": "code",
   "execution_count": null,
   "id": "e14dc0f4-f6c9-4761-83bd-68517823fbed",
   "metadata": {},
   "outputs": [
    {
     "data": {
      "text/plain": [
       "torch.Size([2, 10, 3, 1])"
      ]
     },
     "execution_count": null,
     "metadata": {},
     "output_type": "execute_result"
    }
   ],
   "source": [
    "(k.obs_matrix @ state.mean.unsqueeze(-1)).shape"
   ]
  },
  {
   "cell_type": "code",
   "execution_count": null,
   "id": "7363e2d2-f1e9-48ea-a9de-e991a4074c0d",
   "metadata": {},
   "outputs": [],
   "source": [
    "state.mean[0,0]"
   ]
  },
  {
   "cell_type": "code",
   "execution_count": null,
   "id": "bc69eb11-17f3-4f0c-b36d-a61370f53789",
   "metadata": {},
   "outputs": [],
   "source": []
  },
  {
   "cell_type": "code",
   "execution_count": null,
   "id": "bae758ae-5461-43ab-9b87-9e23d67cbc75",
   "metadata": {},
   "outputs": [],
   "source": [
    "k._obs_from_state(state)"
   ]
  },
  {
   "cell_type": "code",
   "execution_count": null,
   "id": "a1cd3806-bf9b-463c-b4c8-41af2ed603df",
   "metadata": {},
   "outputs": [],
   "source": [
    "k.smooth(data).mean.shape"
   ]
  },
  {
   "cell_type": "code",
   "execution_count": null,
   "id": "f5bf1219-2428-48c7-897c-4c02ebdb73dc",
   "metadata": {},
   "outputs": [],
   "source": [
    "k.smooth(data).cov.shape"
   ]
  },
  {
   "cell_type": "code",
   "execution_count": null,
   "id": "d5bb3aa5-ac09-438d-abb2-a9cea3cdc71b",
   "metadata": {},
   "outputs": [],
   "source": [
    "pred.mean.shape"
   ]
  },
  {
   "cell_type": "code",
   "execution_count": null,
   "id": "950d40b6-6567-4975-991a-ef6d46f54149",
   "metadata": {},
   "outputs": [],
   "source": [
    "pred.std.shape"
   ]
  },
  {
   "cell_type": "code",
   "execution_count": null,
   "id": "987d44b5-b1e9-4f31-90c3-7f428c7e7679",
   "metadata": {},
   "outputs": [],
   "source": [
    "k.predict(data).mean.sum().backward(retain_graph=True)"
   ]
  },
  {
   "cell_type": "code",
   "execution_count": null,
   "id": "eeca5e97-5936-43a9-a8fa-cb3f0653332d",
   "metadata": {},
   "outputs": [],
   "source": [
    "k.obs_cov_raw.grad"
   ]
  },
  {
   "cell_type": "code",
   "execution_count": null,
   "id": "2cd8bc45-bf67-4332-b9d0-9088a73e01da",
   "metadata": {},
   "outputs": [],
   "source": [
    "k.trans_matrix.grad"
   ]
  },
  {
   "cell_type": "markdown",
   "id": "c783f1a6-7a9c-4dc6-8788-b119ed310f64",
   "metadata": {},
   "source": [
    "Gradients ..."
   ]
  },
  {
   "cell_type": "code",
   "execution_count": null,
   "id": "465a7bf3-db85-4c85-83f1-efa580e77f33",
   "metadata": {},
   "outputs": [],
   "source": [
    "data[~mask] = 0"
   ]
  },
  {
   "cell_type": "code",
   "execution_count": null,
   "id": "00923f96-0c09-43aa-afbd-eedfff269e50",
   "metadata": {},
   "outputs": [],
   "source": [
    "data"
   ]
  },
  {
   "cell_type": "code",
   "execution_count": null,
   "id": "b635a347-99b5-4d35-b176-3f3a28f65fe7",
   "metadata": {},
   "outputs": [],
   "source": [
    "k.predict(data, mask).mean.sum().backward(retain_graph=True)\n",
    "\n",
    "print(k.obs_cov_raw.grad)\n",
    "\n",
    "k.zero_grad()"
   ]
  },
  {
   "cell_type": "code",
   "execution_count": null,
   "id": "be89b3b8-1ff2-4177-be49-2c06579608b7",
   "metadata": {},
   "outputs": [],
   "source": [
    "@patch\n",
    "def predict_times(self: KalmanFilter, times, obs, mask=None, smooth=True, check_args=None):\n",
    "    \"\"\"Predicted observations at specific times \"\"\"\n",
    "    state = self.smooth(obs, mask, check_args) if smooth else self.filter(obs, mask, check_args)\n",
    "    obs, mask = self._parse_obs(obs, mask)\n",
    "    times = array1d(times)\n",
    "    \n",
    "    n_timesteps = obs.shape[0]\n",
    "    n_features = obs.shape[1] if len(obs.shape) > 1 else 1\n",
    "    \n",
    "    if times.max() > n_timesteps or times.min() < 0:\n",
    "        raise ValueError(f\"provided times range from {times.min()} to {times.max()}, which is outside allowed range : 0 to {n_timesteps}\")\n",
    "\n",
    "    means = torch.empty((times.shape[0], n_features), dtype=obs.dtype, device=obs.device)\n",
    "    stds = torch.empty((times.shape[0], n_features), dtype=obs.dtype, device=obs.device) \n",
    "    for i, t in enumerate(times):\n",
    "        mean, std = self._obs_from_state(\n",
    "            state.mean[t],\n",
    "            state.cov[t],\n",
    "            {'t': t, **check_args} if check_args is not None else None\n",
    "        )\n",
    "        \n",
    "        means[i], stds[i] = _get_cond_pred(ListNormal(mean, std), obs[t], mask[t])\n",
    "    \n",
    "    return ListNormal(means, stds)  "
   ]
  },
  {
   "cell_type": "markdown",
   "id": "55f45d53-0047-4247-82da-1e00566cfac6",
   "metadata": {},
   "source": [
    "### Get Info"
   ]
  },
  {
   "cell_type": "code",
   "execution_count": null,
   "id": "216c3dfc-93b7-42cf-96ff-a67158fdd70f",
   "metadata": {},
   "outputs": [],
   "source": [
    "k.obs_matrix"
   ]
  },
  {
   "cell_type": "code",
   "execution_count": null,
   "id": "fcedaf90-f76f-4dfa-8ad3-ec0bab7d327c",
   "metadata": {},
   "outputs": [],
   "source": [
    "#| export\n",
    "@patch\n",
    "def get_info(self: KalmanFilter, var_names=None):\n",
    "    out = {}\n",
    "    var_names = ifnone(var_names, [f\"x_{i}\" for i in range(self.obs_matrix.shape[0])])\n",
    "    latent_names = [f\"z_{i}\" for i in range(self.trans_matrix.shape[0])]\n",
    "    out['trans_matrix (A)'] = array2df(self.trans_matrix,    latent_names, latent_names, 'latent')\n",
    "    out['trans_cov (Q)']     = array2df(self.trans_cov,       latent_names, latent_names, 'latent')\n",
    "    out['trans_off']        = array2df(self.trans_off,       latent_names, ['offset'],     'latent')\n",
    "    out['obs_matrix (H)']    = array2df(self.obs_matrix,      var_names,    latent_names, 'variable')\n",
    "    out['obs_cov (R)']       = array2df(self.obs_cov,         var_names,    var_names,    'variable')\n",
    "    out['obs_off']          = array2df(self.obs_off,         var_names,    ['offset'],     'variable')\n",
    "    out['init_state_mean']  = array2df(self.init_state_mean, latent_names, ['mean'],       'latent')\n",
    "    out['init_state_cov']   = array2df(self.init_state_cov,  latent_names, latent_names, 'latent')\n",
    "    \n",
    "    return out"
   ]
  },
  {
   "cell_type": "code",
   "execution_count": null,
   "id": "77fe929e-84fd-4564-907f-143f7c7101ee",
   "metadata": {},
   "outputs": [],
   "source": [
    "display_as_row(k.get_info())"
   ]
  },
  {
   "cell_type": "markdown",
   "id": "1cafd50f-a16c-4d5e-b80d-9cafae21e069",
   "metadata": {},
   "source": [
    "## Constructor Additional"
   ]
  },
  {
   "cell_type": "markdown",
   "id": "baa68b6a-7e0f-4a33-aa13-a814390ebf3d",
   "metadata": {},
   "source": [
    "#### Simple parameters"
   ]
  },
  {
   "cell_type": "code",
   "execution_count": null,
   "id": "81636a78-9bcf-4d7f-98c6-95e9180fe787",
   "metadata": {},
   "outputs": [],
   "source": [
    "#| export\n",
    "@patch(cls_method=True)\n",
    "def init_simple(cls: KalmanFilter,\n",
    "                n_dim, # n_dim_obs and n_dim_state\n",
    "                dtype=torch.float32):\n",
    "    \"\"\"Simplest version of kalman filter parameters\"\"\"\n",
    "    return cls(\n",
    "        trans_matrix =     torch.eye(n_dim, dtype=dtype),\n",
    "        trans_off =        torch.zeros(n_dim, dtype=dtype),        \n",
    "        trans_cov =        torch.eye(n_dim, dtype=dtype),        \n",
    "        obs_matrix =       torch.eye(n_dim, dtype=dtype),\n",
    "        obs_off =          torch.zeros(n_dim, dtype=dtype),          \n",
    "        obs_cov =          torch.eye(n_dim, dtype=dtype),            \n",
    "        init_state_mean =  torch.zeros(n_dim, dtype=dtype),        \n",
    "        init_state_cov =   torch.eye(n_dim, dtype=dtype),\n",
    "    )"
   ]
  },
  {
   "cell_type": "code",
   "execution_count": null,
   "id": "d8fa3ea9-92f5-4477-b06a-320df4263da9",
   "metadata": {},
   "outputs": [],
   "source": [
    "KalmanFilter.init_simple(2).state_dict()"
   ]
  },
  {
   "cell_type": "markdown",
   "id": "fb60e878-9e22-43b1-90a0-cf16077407e7",
   "metadata": {},
   "source": [
    "#### Local slope"
   ]
  },
  {
   "cell_type": "code",
   "execution_count": null,
   "id": "b86efcad-d257-46bd-b2d9-82436e405171",
   "metadata": {},
   "outputs": [],
   "source": [
    "#| export\n",
    "@patch(cls_method=True)\n",
    "def init_local_slope(cls: KalmanFilter,\n",
    "                n_dim, # n_dim_obs and n_dim_state\n",
    "                dtype=torch.float32):\n",
    "    \"\"\"Simplest version of kalman filter parameters\"\"\"\n",
    "    return cls(\n",
    "        trans_matrix =     torch.eye(n_dim, dtype=dtype),\n",
    "        trans_off =        torch.zeros(n_dim, dtype=dtype),        \n",
    "        trans_cov =        torch.eye(n_dim, dtype=dtype),        \n",
    "        obs_matrix =       torch.eye(n_dim, dtype=dtype),\n",
    "        obs_off =          torch.zeros(n_dim, dtype=dtype),          \n",
    "        obs_cov =          torch.eye(n_dim, dtype=dtype),            \n",
    "        init_state_mean =  torch.zeros(n_dim, dtype=dtype),        \n",
    "        init_state_cov =   torch.eye(n_dim, dtype=dtype),\n",
    "    )"
   ]
  },
  {
   "cell_type": "code",
   "execution_count": null,
   "id": "892f9873-ca47-404b-a5f1-855d4c94220b",
   "metadata": {},
   "outputs": [],
   "source": [
    "KalmanFilter.init_simple(2).state_dict()"
   ]
  },
  {
   "cell_type": "markdown",
   "id": "0fdd2ea0-ff4e-4d2f-add0-81120b131cf3",
   "metadata": {},
   "source": [
    "## Export"
   ]
  },
  {
   "cell_type": "code",
   "execution_count": null,
   "id": "12c41b65-9eb8-4d70-b4fc-05113783e636",
   "metadata": {},
   "outputs": [],
   "source": [
    "#| hide\n",
    "from nbdev import nbdev_export\n",
    "# nbdev_export()"
   ]
  }
 ],
 "metadata": {
  "kernelspec": {
   "display_name": "data_science",
   "language": "python",
   "name": "data_science"
  },
  "widgets": {
   "application/vnd.jupyter.widget-state+json": {
    "state": {},
    "version_major": 2,
    "version_minor": 0
   }
  }
 },
 "nbformat": 4,
 "nbformat_minor": 5
}
