{
 "cells": [
  {
   "cell_type": "markdown",
   "id": "22e19739-7ce6-4689-8f05-5391807270f2",
   "metadata": {},
   "source": [
    "# Kalman Filter\n",
    "> Implementation of Kalman filters using pytorch and parameter optimizations with gradient descend"
   ]
  },
  {
   "cell_type": "code",
   "execution_count": null,
   "id": "33b5e640-1b40-4822-8912-f6aef392b22f",
   "metadata": {},
   "outputs": [],
   "source": [
    "#| hide\n",
    "%load_ext autoreload\n",
    "%autoreload 2"
   ]
  },
  {
   "cell_type": "code",
   "execution_count": null,
   "id": "378ab6cd-754e-4199-a102-c7a3109c6c78",
   "metadata": {},
   "outputs": [],
   "source": [
    "#| hide\n",
    "#| default_exp kalman.filter"
   ]
  },
  {
   "cell_type": "code",
   "execution_count": null,
   "id": "c89a8e7f-95e3-4c02-9716-948d5e0dcfca",
   "metadata": {},
   "outputs": [],
   "source": [
    "#| export\n",
    "from fastcore.test import *\n",
    "from fastcore.basics import *\n",
    "from meteo_imp.utils import *\n",
    "from meteo_imp.gaussian import *\n",
    "from meteo_imp.data_preparation import MeteoDataTest\n",
    "from typing import *\n",
    "from functools import partial\n",
    "\n",
    "import numpy as np\n",
    "import pandas as pd\n",
    "import torch\n",
    "from torch import Tensor\n",
    "from torch.distributions import MultivariateNormal"
   ]
  },
  {
   "cell_type": "markdown",
   "id": "ce900cd1-288d-4215-b317-d815f2850215",
   "metadata": {},
   "source": [
    "## Introduction\n",
    "\n",
    "The models uses a latent state variable $x$ that is modelled over time, to impute gaps in $y$\n",
    "\n",
    "The assumption of the model is that the state variable at time $x_t$ depends only on the last state $x_{t-1}$ and not on the previous states.\n",
    "\n",
    "### Equations\n",
    "\n",
    "The equations of the model are:\n",
    "\n",
    "$$\\begin{align} p(x_t | x_{t-1}) & = \\mathcal{N}(Ax_{t-1} + b, Q) \\\\\n",
    "p(y_t | x_t) & = \\mathcal{N}(Hx_t + d, R) \\end{align}$$\n",
    "\n",
    "\n",
    "where:\n",
    "\n",
    "- $A$ is the `A`\n",
    "- $b$ is the `bset`\n",
    "- $Q$ is the `Q`\n",
    "- $H$ is the `obs_trans` \n",
    "- $d$ is the `d`\n",
    "- $R$ is the `R`\n",
    "\n",
    "in addition the model has also the parameters of the initial state that are used to initialize the filter:\n",
    "\n",
    "- `m0`\n",
    "- `P0`\n",
    "\n",
    "The Kalman filter has 3 steps:\n",
    "\n",
    "- filter (updating the state at time t with observations till time t-1)\n",
    "- update (update the state at time t using the observation at time t)\n",
    "- smooth (update the state using the observations at time t+1)\n",
    "\n",
    "In case of missing data the update step is skipped.\n",
    "\n",
    "After smoothing the missing data at time t ($y_t$) can be imputed from the state ($x_t$) using this formula:\n",
    "$$p(y_t|x_t) = \\mathcal{N}(Hx_t + d, R + HP^s_tH^T)$$"
   ]
  },
  {
   "cell_type": "markdown",
   "id": "6cab259c-2315-4019-bb1e-61f3b1504bd5",
   "metadata": {},
   "source": [
    "The Kalman Filter is an algorithm designed to estimate $P(x_t | y_{0:t})$.  As all state transitions and obss are linear with Gaussian distributed noise, these distributions can be represented exactly as Gaussian distributions with mean `ms[t]` and covs `Ps[t]`.\n",
    "Similarly, the Kalman Smoother is an algorithm designed to estimate $P(x_t | y_{0:t-1})$\n",
    "\n"
   ]
  },
  {
   "cell_type": "markdown",
   "id": "68d33ff3-5e3e-40ad-b21c-71d2358a7d7b",
   "metadata": {},
   "source": [
    "## Kalman Filter Base"
   ]
  },
  {
   "cell_type": "markdown",
   "id": "57ad321a-3bae-495e-befb-86b16f1d146f",
   "metadata": {},
   "source": [
    "TODO: fill nans with 0 for all data"
   ]
  },
  {
   "cell_type": "code",
   "execution_count": null,
   "id": "4768434a-a51c-48a3-8813-afd59949ef51",
   "metadata": {},
   "outputs": [],
   "source": [
    "#| export\n",
    "class KalmanFilterBase(torch.nn.Module):\n",
    "    \"\"\"Base class for handling Kalman Filter implementation in PyTorch\"\"\"\n",
    "    \n",
    "    params_constr = {\n",
    "        #name constraint\n",
    "        'A':  None        ,\n",
    "        'b':  None        ,\n",
    "        'Q':  DiagPosDef(),\n",
    "        'B':  None        ,\n",
    "        'H':  None        ,\n",
    "        'd':  None        ,\n",
    "        'R':  DiagPosDef(),\n",
    "        'm0': None       ,\n",
    "        'P0': PosDef()   ,\n",
    "        }\n",
    "    \n",
    "    def __init__(self,\n",
    "            A: Tensor,                               # [n_dim_state,n_dim_state] $A$, state transition matrix \n",
    "            H: Tensor,                               # [n_dim_obs, n_dim_state] $H$, observation matrix\n",
    "            B: Tensor,                               # [n_dim_state, n_dim_contr] $B$ control matrix\n",
    "            Q: Tensor,                               # [n_dim_state, n_dim_state] $Q$, state trans covariance matrix\n",
    "            R: Tensor,                               # [n_dim_obs, n_dim_obs] $R$, observations covariance matrix\n",
    "            b: Tensor,                               # [n_dim_state] $b$, state transition offset\n",
    "            d: Tensor,                               # [n_dim_obs] $d$, observations offset\n",
    "            m0: Tensor,                              # [n_dim_state] $m_0$\n",
    "            P0: Tensor,                              # [n_dim_state, n_dim_state] $P_0$\n",
    "            \n",
    "            n_dim_state: int = None,                 # Number of dimensions for state - default infered from parameters\n",
    "            n_dim_obs: int = None,                   # Number of dimensions for observations - default  infered from parameters\n",
    "            n_dim_contr: int = None,                 # Number of dimensions for control - default infered from parameters\n",
    "                 \n",
    "            var_names: Iterable[str]|None = None,    # Names of variables for printing \n",
    "            contr_names: Iterable[str]|None = None,  # Names of control variables for printing\n",
    "            \n",
    "            cov_checker: CheckPosDef = CheckPosDef(),# Check covariance at every step\n",
    "            use_conditional: bool = True,            # Use conditional distribution for gaps that don't have all variables missing\n",
    "            use_control: bool = True,                # Use the control in the filter\n",
    "            use_smooth: bool = True,                 # Use smoother for predictions (otherwise is filter only)\n",
    "                ):\n",
    "        \n",
    "        super().__init__()\n",
    "        store_attr(\"var_names, contr_names, use_conditional, use_control, use_smooth, cov_checker\")\n",
    "        self._check_params(A, H, B, Q, R, b, d, m0, P0, n_dim_state, n_dim_obs, n_dim_contr)\n",
    "                       \n",
    "        self._init_params(A=A, H=H, B=B, Q=Q, R=R, b=b, d=d, m0=m0, P0=P0)\n",
    "        \n",
    "        self.cov_checker = cov_checker\n",
    "    \n",
    "    def _check_params(self, A, H, B, Q, R, b, d, m0, P0, n_dim_state, n_dim_obs, n_dim_contr):\n",
    "        \"\"\"Checks that the parameters are consistent and set dimensions\"\"\"\n",
    "        self.n_dim_state = determine_dimensionality(\n",
    "            [(A, array2d, -2),\n",
    "             (b, array1d, -1),\n",
    "             (Q, array2d, -2),\n",
    "             (m0, array1d, -1),\n",
    "             (P0, array2d, -2),\n",
    "             (H, array2d, -1)],\n",
    "            n_dim_state\n",
    "        )\n",
    "        self.n_dim_obs = determine_dimensionality(\n",
    "            [(H, array2d, -2),\n",
    "             (d, array1d, -1),\n",
    "             (R, array2d, -2)],\n",
    "            n_dim_obs\n",
    "        )\n",
    "        \n",
    "        self.n_dim_contr = determine_dimensionality([(B, array2d, -1)], n_dim_contr)\n",
    "        \n",
    "        \n",
    "    def _init_params(self, **params):\n",
    "        for name, value in params.items():\n",
    "            if (constraint := self.params_constr[name]) is not None:\n",
    "                name, value = self._init_constraint(name, value, constraint)\n",
    "            self._init_param(name, value, train=True)    \n",
    "    \n",
    "    def _init_param(self, param_name, value, train):\n",
    "        self.register_parameter(param_name, torch.nn.Parameter(value, requires_grad=train))\n",
    "    \n",
    "    ### === Constraints utils\n",
    "    def _init_constraint(self, param_name, value, constraint):\n",
    "        name = f\"C_{param_name}\" # The constraint is always a Cholesky decomposition\n",
    "        value = constraint.inverse_transform(value)\n",
    "        setattr(self, param_name + \"_constraint\", constraint)\n",
    "        self._init_constraint_property(param_name)\n",
    "        return name, value\n",
    "    \n",
    "    def _init_constraint_property(self, param_name):\n",
    "        \"Setup property to get/set original value\"\n",
    "        getter = partial(_get_constraint, param_name=param_name)\n",
    "        setter = partial(_set_constraint, param_name=param_name)\n",
    "        setattr(type(self), param_name, property(getter, setter)) # need to set properties on the class see https://stackoverflow.com/questions/1325673/how-to-add-property-to-a-class-dynamically\n",
    "               \n",
    "   \n",
    "    ### === Utility Func    \n",
    "    def _parse_obs(self, obs, mask=None):\n",
    "        \"\"\"maybe get mask from `nan`\"\"\"\n",
    "        # if mask is None: mask = ~torch.isnan(obs)\n",
    "        # TODO incorrect support for 2d input!!!!!!\n",
    "        assert obs.dim() == 3\n",
    "        # obs, mask = torch.atleast_3d(obs), torch.atleast_3d(mask)\n",
    "        return obs, mask\n",
    "    \n",
    "    def __repr__(self):\n",
    "        return f\"\"\"Kalman Filter\n",
    "        N dim obs: {self.n_dim_obs},\n",
    "        N dim state: {self.n_dim_state},\n",
    "        N dim contr: {self.n_dim_contr}\"\"\"\n",
    "\n",
    "# Those methods needs to be global\n",
    "\n",
    "def _get_constraint(self, param_name):\n",
    "    \"\"\"get the original value\"\"\"\n",
    "    constraint = getattr(self, param_name + \"_constraint\")\n",
    "    raw_value = getattr(self, f\"C_{param_name}\")\n",
    "    return constraint.transform(raw_value)\n",
    "\n",
    "def _set_constraint(self, value, param_name, train=True):\n",
    "    \"\"\"set the transformed value\"\"\"\n",
    "    constraint = getattr(self, param_name + \"_constraint\")\n",
    "    raw_value = constraint.inverse_transform(value)\n",
    "    self._init_param(f\"C_{param_name}\", raw_value, train)"
   ]
  },
  {
   "cell_type": "markdown",
   "id": "29f90bd9-3d5e-42b7-8730-8e08f40309c6",
   "metadata": {},
   "source": [
    "### Constructors"
   ]
  },
  {
   "cell_type": "markdown",
   "id": "eb5af4ff-9ddb-4558-9751-4541c50a682a",
   "metadata": {},
   "source": [
    "Giving all the parameters manually to the `KalmanFilterBase` init method is not convenient, hence we are having some methods that help initize the class"
   ]
  },
  {
   "cell_type": "markdown",
   "id": "b2aaf4c0-f7ad-4456-84dd-0e9350dcfe49",
   "metadata": {},
   "source": [
    "#### Random parameters"
   ]
  },
  {
   "cell_type": "code",
   "execution_count": null,
   "id": "8d0ca6d4-7547-4557-bc83-4f70500a78e8",
   "metadata": {},
   "outputs": [],
   "source": [
    "#| export\n",
    "@patch(cls_method=True)\n",
    "def init_random(cls: KalmanFilterBase, n_dim_obs, n_dim_state, n_dim_contr, dtype=torch.float32, **kwargs):\n",
    "    \"\"\"kalman filter with random parameters\"\"\"\n",
    "    return cls(\n",
    "        A  = torch.rand(n_dim_state, n_dim_state, dtype=dtype),\n",
    "        b  = torch.rand(n_dim_state, dtype=dtype),        \n",
    "        Q  = to_diagposdef(torch.rand(n_dim_state, n_dim_state, dtype=dtype)),        \n",
    "        B  = torch.rand(n_dim_state, n_dim_contr, dtype=dtype),\n",
    "        H  = torch.rand(n_dim_obs, n_dim_state, dtype=dtype),\n",
    "        d  = torch.rand(n_dim_obs, dtype=dtype),          \n",
    "        R  = to_diagposdef(torch.rand(n_dim_obs, n_dim_obs, dtype=dtype)),            \n",
    "        m0 = torch.rand(n_dim_state, dtype=dtype),        \n",
    "        P0 = to_posdef(torch.rand(n_dim_state, n_dim_state, dtype=dtype)),\n",
    "        **kwargs) \n",
    "        "
   ]
  },
  {
   "cell_type": "code",
   "execution_count": null,
   "id": "86fe692e-2586-4c0f-a4b0-d6009d3a14c3",
   "metadata": {},
   "outputs": [
    {
     "data": {
      "text/plain": [
       "Kalman Filter\n",
       "        N dim obs: 3,\n",
       "        N dim state: 4,\n",
       "        N dim contr: 3"
      ]
     },
     "execution_count": null,
     "metadata": {},
     "output_type": "execute_result"
    }
   ],
   "source": [
    "kB = KalmanFilterBase.init_random(3,4, 3, dtype=torch.float64)\n",
    "kB"
   ]
  },
  {
   "cell_type": "code",
   "execution_count": null,
   "id": "1a04324e-6a7f-4744-8113-a2d61c798397",
   "metadata": {},
   "outputs": [],
   "source": [
    "kB.P0 = to_posdef(torch.rand(3,3))"
   ]
  },
  {
   "cell_type": "markdown",
   "id": "93f416ff-a54e-4b29-99f7-fc04c3500285",
   "metadata": {},
   "source": [
    "check that assigment works :)"
   ]
  },
  {
   "cell_type": "code",
   "execution_count": null,
   "id": "d6aff8c3-a5bb-4911-a792-b28e54ff88ab",
   "metadata": {},
   "outputs": [],
   "source": [
    "kB.P0 = to_posdef(torch.rand(4, 4, dtype=torch.float64))"
   ]
  },
  {
   "cell_type": "code",
   "execution_count": null,
   "id": "d5a5e4bf-3989-4986-8718-6864db9f4cbe",
   "metadata": {},
   "outputs": [
    {
     "data": {
      "text/plain": [
       "Parameter containing:\n",
       "tensor([[ 1.1682,  0.0000,  0.0000,  0.0000],\n",
       "        [ 0.8023,  0.8394,  0.0000,  0.0000],\n",
       "        [ 0.6775,  0.1935,  0.5666,  0.0000],\n",
       "        [ 0.8928, -0.0317,  0.5224,  0.0062]], dtype=torch.float64,\n",
       "       requires_grad=True)"
      ]
     },
     "execution_count": null,
     "metadata": {},
     "output_type": "execute_result"
    }
   ],
   "source": [
    "kB.C_P0"
   ]
  },
  {
   "cell_type": "code",
   "execution_count": null,
   "id": "3aedc286-3762-4382-96b9-7a3105170ef5",
   "metadata": {},
   "outputs": [
    {
     "data": {
      "text/plain": [
       "[('A',\n",
       "  Parameter containing:\n",
       "  tensor([[0.4743, 0.2929, 0.7767, 0.3891],\n",
       "          [0.1858, 0.9826, 0.8748, 0.5956],\n",
       "          [0.7667, 0.0196, 0.4954, 0.7218],\n",
       "          [0.2282, 0.7413, 0.4577, 0.2354]], dtype=torch.float64,\n",
       "         requires_grad=True)),\n",
       " ('H',\n",
       "  Parameter containing:\n",
       "  tensor([[0.2559, 0.4528, 0.9301, 0.9019],\n",
       "          [0.0589, 0.5794, 0.8223, 0.2959],\n",
       "          [0.4382, 0.5937, 0.3968, 0.9370]], dtype=torch.float64,\n",
       "         requires_grad=True)),\n",
       " ('B',\n",
       "  Parameter containing:\n",
       "  tensor([[0.3702, 0.3493, 0.4764],\n",
       "          [0.4421, 0.9268, 0.9782],\n",
       "          [0.0114, 0.8504, 0.9450],\n",
       "          [0.1107, 0.3799, 0.0615]], dtype=torch.float64, requires_grad=True)),\n",
       " ('C_Q',\n",
       "  Parameter containing:\n",
       "  tensor([0.2220, 0.6632, 0.6818, 0.6496], dtype=torch.float64,\n",
       "         requires_grad=True)),\n",
       " ('C_R',\n",
       "  Parameter containing:\n",
       "  tensor([0.5654, 0.7635, 0.5842], dtype=torch.float64, requires_grad=True)),\n",
       " ('b',\n",
       "  Parameter containing:\n",
       "  tensor([0.5049, 0.6878, 0.7206, 0.7664], dtype=torch.float64,\n",
       "         requires_grad=True)),\n",
       " ('d',\n",
       "  Parameter containing:\n",
       "  tensor([0.5016, 0.3456, 0.4578], dtype=torch.float64, requires_grad=True)),\n",
       " ('m0',\n",
       "  Parameter containing:\n",
       "  tensor([0.6702, 0.4125, 0.1761, 0.1130], dtype=torch.float64,\n",
       "         requires_grad=True)),\n",
       " ('C_P0',\n",
       "  Parameter containing:\n",
       "  tensor([[ 1.1682,  0.0000,  0.0000,  0.0000],\n",
       "          [ 0.8023,  0.8394,  0.0000,  0.0000],\n",
       "          [ 0.6775,  0.1935,  0.5666,  0.0000],\n",
       "          [ 0.8928, -0.0317,  0.5224,  0.0062]], dtype=torch.float64,\n",
       "         requires_grad=True))]"
      ]
     },
     "execution_count": null,
     "metadata": {},
     "output_type": "execute_result"
    }
   ],
   "source": [
    "list(kB.named_parameters())"
   ]
  },
  {
   "cell_type": "markdown",
   "id": "68162da7-0e27-4771-90dd-fe3eede49aaa",
   "metadata": {},
   "source": [
    "### Test data"
   ]
  },
  {
   "cell_type": "code",
   "execution_count": null,
   "id": "e8053cda-a75e-422e-866c-12edd329561f",
   "metadata": {},
   "outputs": [],
   "source": [
    "#| exporti\n",
    "def get_test_data(n_obs = 10, n_dim_obs=3, n_dim_contr = 3, p_missing=.3, bs=2, dtype=torch.float32, device='cpu'):\n",
    "    data = torch.rand(bs, n_obs, n_dim_obs, dtype=dtype, device=device)\n",
    "    mask = torch.rand(bs, n_obs, n_dim_obs, device=device) > p_missing\n",
    "    control = torch.rand(bs, n_obs, n_dim_contr, dtype=dtype, device=device)\n",
    "    data[~mask] = torch.nan # ensure that the missing data cannot be used\n",
    "    return data, mask, control"
   ]
  },
  {
   "cell_type": "code",
   "execution_count": null,
   "id": "f96a5d04-10b9-47bb-95d0-533ee11344cb",
   "metadata": {},
   "outputs": [
    {
     "data": {
      "text/html": [
       "<div style=\"display: flex; column-gap: 20px; flex-wrap: wrap;\" class='table table-striped table-sm'> <div><p style='font-size: 1.2rem;'>data</p> <pre>tensor([[[0.8775,    nan,    nan],\n",
       "         [0.6706,    nan, 0.9272],\n",
       "         [   nan, 0.4967,    nan],\n",
       "         [   nan,    nan,    nan],\n",
       "         [   nan,    nan, 0.4760],\n",
       "         [0.7606, 0.7759, 0.5243],\n",
       "         [0.3714, 0.0426, 0.2343],\n",
       "         [0.9991, 0.1775,    nan],\n",
       "         [0.6734,    nan, 0.6468],\n",
       "         [0.5825, 0.4599, 0.7960]],\n",
       "\n",
       "        [[0.9038, 0.9735, 0.6428],\n",
       "         [0.3725, 0.2052,    nan],\n",
       "         [0.4448, 0.5775, 0.7237],\n",
       "         [0.5927,    nan, 0.6441],\n",
       "         [   nan, 0.9132, 0.0329],\n",
       "         [0.4856, 0.9927, 0.5895],\n",
       "         [0.2611, 0.9413, 0.1371],\n",
       "         [0.8726, 0.5590, 0.8451],\n",
       "         [0.1253, 0.9434, 0.0462],\n",
       "         [0.2360, 0.0239, 0.8950]]], dtype=torch.float64)</pre> </div><div><p style='font-size: 1.2rem;'>mask</p> <pre>tensor([[[ True, False, False],\n",
       "         [ True, False,  True],\n",
       "         [False,  True, False],\n",
       "         [False, False, False],\n",
       "         [False, False,  True],\n",
       "         [ True,  True,  True],\n",
       "         [ True,  True,  True],\n",
       "         [ True,  True, False],\n",
       "         [ True, False,  True],\n",
       "         [ True,  True,  True]],\n",
       "\n",
       "        [[ True,  True,  True],\n",
       "         [ True,  True, False],\n",
       "         [ True,  True,  True],\n",
       "         [ True, False,  True],\n",
       "         [False,  True,  True],\n",
       "         [ True,  True,  True],\n",
       "         [ True,  True,  True],\n",
       "         [ True,  True,  True],\n",
       "         [ True,  True,  True],\n",
       "         [ True,  True,  True]]])</pre> </div><div><p style='font-size: 1.2rem;'>control</p> <pre>tensor([[[0.9201, 0.6883, 0.5342],\n",
       "         [0.7847, 0.3137, 0.1778],\n",
       "         [0.5838, 0.9799, 0.3611],\n",
       "         [0.3155, 0.7475, 0.5450],\n",
       "         [0.5641, 0.2493, 0.8323],\n",
       "         [0.9723, 0.1883, 0.3605],\n",
       "         [0.5344, 0.3443, 0.7696],\n",
       "         [0.3410, 0.7553, 0.3177],\n",
       "         [0.0315, 0.5209, 0.6514],\n",
       "         [0.3131, 0.4510, 0.3550]],\n",
       "\n",
       "        [[0.4790, 0.0676, 0.3606],\n",
       "         [0.7299, 0.6713, 0.3134],\n",
       "         [0.7460, 0.1291, 0.4653],\n",
       "         [0.5693, 0.9906, 0.8288],\n",
       "         [0.9039, 0.5240, 0.6277],\n",
       "         [0.3574, 0.0076, 0.6530],\n",
       "         [0.8667, 0.9368, 0.8667],\n",
       "         [0.6749, 0.3526, 0.6618],\n",
       "         [0.0837, 0.7188, 0.7247],\n",
       "         [0.3211, 0.4898, 0.9030]]], dtype=torch.float64)</pre> </div></div>"
      ],
      "text/plain": [
       "<IPython.core.display.HTML object>"
      ]
     },
     "metadata": {},
     "output_type": "display_data"
    }
   ],
   "source": [
    "reset_seed()\n",
    "data, mask, control = get_test_data(dtype=torch.float64)\n",
    "show_as_row(data, mask, control)"
   ]
  },
  {
   "cell_type": "markdown",
   "id": "82b38261-acb1-45f5-a12b-7668b5f78bfb",
   "metadata": {},
   "source": [
    "## Filter"
   ]
  },
  {
   "cell_type": "markdown",
   "id": "a7ca368e-9a56-46b2-bbcb-42e561107a88",
   "metadata": {},
   "source": [
    "### Filter predict"
   ]
  },
  {
   "cell_type": "markdown",
   "id": "282a138c-0eab-4e6e-8847-274fe2bcb874",
   "metadata": {},
   "source": [
    "Probability of state at time `t` given state a time `t-1` \n",
    "\n",
    "$p(x_t) = \\mathcal{N}(x_t; m_t^-, P_t^-)$ where:\n",
    "\n",
    "- predicted state mean: $m_t^- = Am_{t-1} + B c_t + b$  \n",
    "\n",
    "- predicted state covariance: $P_t^- = AP_{t-1}A^T + Q$"
   ]
  },
  {
   "cell_type": "code",
   "execution_count": null,
   "id": "3ccd3c49-06f9-43c9-ab7d-28f6631652cc",
   "metadata": {},
   "outputs": [],
   "source": [
    "A, Q, b, B, m_pr,P_pr = (k.A.unsqueeze(0), k.Q.unsqueeze(0), k.b.unsqueeze(-1),\n",
    "                                                  k.B.unsqueeze(0),\n",
    "                                                  torch.stack([k.m0]*2).unsqueeze(-1),\n",
    "                                                  torch.stack([k.P0]*2))"
   ]
  },
  {
   "cell_type": "markdown",
   "id": "523cbc7b-26d6-4db1-a187-4fd77eb1e119",
   "metadata": {},
   "source": [
    "#### Covariance"
   ]
  },
  {
   "cell_type": "markdown",
   "id": "6ff49985-0bd1-480a-9210-030c5be731bd",
   "metadata": {},
   "source": [
    "##### Standard"
   ]
  },
  {
   "cell_type": "markdown",
   "id": "3b8cc0d2-f247-4626-875e-ea28b170cb6b",
   "metadata": {},
   "source": [
    "implement $P_t^- = AP_{t-1}A^T + Q$"
   ]
  },
  {
   "cell_type": "code",
   "execution_count": null,
   "id": "c474d943-8d33-4e13-aba4-39d5282b699c",
   "metadata": {},
   "outputs": [],
   "source": [
    "#| export\n",
    "def _filter_predict_cov_stand(A, Q, Pm):\n",
    "    \"\"\"Standard - Kalman Filter predict covariance\"\"\"\n",
    "    return A @ Pm @ A.mT + Q"
   ]
  },
  {
   "cell_type": "code",
   "execution_count": null,
   "id": "d2a9c86d-5ca0-461b-95b5-7f92d01f28bd",
   "metadata": {},
   "outputs": [
    {
     "data": {
      "text/plain": [
       "tensor([[[3.9186, 5.2420, 4.0320, 3.6330],\n",
       "         [5.2420, 7.5784, 5.7753, 5.3769],\n",
       "         [4.0320, 5.7753, 5.8339, 4.6659],\n",
       "         [3.6330, 5.3769, 4.6659, 4.3242]],\n",
       "\n",
       "        [[3.9186, 5.2420, 4.0320, 3.6330],\n",
       "         [5.2420, 7.5784, 5.7753, 5.3769],\n",
       "         [4.0320, 5.7753, 5.8339, 4.6659],\n",
       "         [3.6330, 5.3769, 4.6659, 4.3242]]], dtype=torch.float64,\n",
       "       grad_fn=<AddBackward0>)"
      ]
     },
     "execution_count": null,
     "metadata": {},
     "output_type": "execute_result"
    }
   ],
   "source": [
    "P_m = _filter_predict_cov_stand(A, Q, P_pr)\n",
    "P_m"
   ]
  },
  {
   "cell_type": "markdown",
   "id": "ef7ce289-27cf-4699-895b-4f1a73b93de6",
   "metadata": {},
   "source": [
    "##### Num Stable"
   ]
  },
  {
   "cell_type": "markdown",
   "id": "f21f9e04-7389-472b-8d39-934f512798a0",
   "metadata": {},
   "source": [
    "Implement the numerical stable version of the covariance update"
   ]
  },
  {
   "cell_type": "code",
   "execution_count": null,
   "id": "efc39c39-d0f5-429d-ae86-30e4fad731a1",
   "metadata": {},
   "outputs": [],
   "source": [
    "C_Pm = torch.linalg.cholesky(Pm)"
   ]
  },
  {
   "cell_type": "code",
   "execution_count": null,
   "id": "39cc74bf-8d78-480d-9ade-ade8686001e2",
   "metadata": {},
   "outputs": [],
   "source": [
    "C_Q = torch.linalg.cholesky(Q)"
   ]
  },
  {
   "cell_type": "markdown",
   "id": "96e37d5e-58a2-432f-9c12-923986232395",
   "metadata": {},
   "source": [
    "$$W = \\begin{bmatrix}AU_{t-1}&G\\end{bmatrix}$$"
   ]
  },
  {
   "cell_type": "code",
   "execution_count": null,
   "id": "d1e05bf1-f52b-490b-a2d9-b70dc906c3a1",
   "metadata": {},
   "outputs": [
    {
     "data": {
      "text/plain": [
       "torch.Size([2, 4, 4])"
      ]
     },
     "execution_count": null,
     "metadata": {},
     "output_type": "execute_result"
    }
   ],
   "source": [
    "(A @ C_curr).shape"
   ]
  },
  {
   "cell_type": "code",
   "execution_count": null,
   "id": "6fc61860-956e-4061-a1ea-7e70b4322471",
   "metadata": {},
   "outputs": [
    {
     "data": {
      "text/plain": [
       "torch.Size([2, 4, 4])"
      ]
     },
     "execution_count": null,
     "metadata": {},
     "output_type": "execute_result"
    }
   ],
   "source": [
    "C_Q.expand(C_curr.shape[0], -1, -1).shape"
   ]
  },
  {
   "cell_type": "code",
   "execution_count": null,
   "id": "82b47c67-75a4-4ef9-9c70-e266f8090f33",
   "metadata": {},
   "outputs": [
    {
     "data": {
      "text/plain": [
       "torch.Size([2, 4, 8])"
      ]
     },
     "execution_count": null,
     "metadata": {},
     "output_type": "execute_result"
    }
   ],
   "source": [
    "torch.concat([A @ C_curr, C_Q.expand(C_curr.shape[0], -1, -1)], dim=-1).shape"
   ]
  },
  {
   "cell_type": "code",
   "execution_count": null,
   "id": "2be4f5eb-8506-46fa-9f7c-ce86b81b6d67",
   "metadata": {},
   "outputs": [
    {
     "data": {
      "text/plain": [
       "torch.Size([2, 4, 8])"
      ]
     },
     "execution_count": null,
     "metadata": {},
     "output_type": "execute_result"
    }
   ],
   "source": [
    "W = torch.concat([A @ C_curr, C_Q.expand_as(C_curr)], dim=-1)\n",
    "W.shape"
   ]
  },
  {
   "cell_type": "code",
   "execution_count": null,
   "id": "b56dfa0d-e262-4b78-ba2a-744cb0d565c4",
   "metadata": {},
   "outputs": [],
   "source": [
    "Q, R = torch.linalg.qr(W.mT)"
   ]
  },
  {
   "cell_type": "code",
   "execution_count": null,
   "id": "88b63c6d-005b-4fc2-a318-fd3c123506da",
   "metadata": {},
   "outputs": [],
   "source": [
    "C_pred = R.mT"
   ]
  },
  {
   "cell_type": "code",
   "execution_count": null,
   "id": "f03d11be-bfcf-4e46-8879-f88e63b64230",
   "metadata": {},
   "outputs": [],
   "source": [
    "test_close(C_pred @ C_pred.mT, P_m)"
   ]
  },
  {
   "cell_type": "code",
   "execution_count": null,
   "id": "005de2dd-92a5-482c-a102-dfb02d73dac3",
   "metadata": {},
   "outputs": [],
   "source": [
    "#| export\n",
    "def _fitler_predict_cov(A, # transition covariance\n",
    "                        C_Q, # Cholesky Factor of transition covariance\n",
    "                        C_Pm # Cholesky Factor of current state covariance $P^-$\n",
    "                       ):\n",
    "    \"\"\"Numerical stable Kalman filter predict for covariance\"\"\"\n",
    "    W = torch.concat([A @ C_Pm, C_Q.expand_as(C_Q)], dim=-1)\n",
    "    return torch.linalg.qr(W.mT).mT "
   ]
  },
  {
   "cell_type": "markdown",
   "id": "99b62845-9d3d-4526-8d6b-b13b1708982e",
   "metadata": {},
   "source": [
    "##### Mean"
   ]
  },
  {
   "cell_type": "code",
   "execution_count": null,
   "id": "71bea8fe-76a2-4367-82ac-965a15399325",
   "metadata": {},
   "outputs": [],
   "source": [
    "#| export\n",
    "def unsqueeze_iter(*args, dim): return list(map(partial(torch.unsqueeze, dim=dim), args))\n",
    "unsqueeze_first = partial(unsqueeze_iter, dim=0)\n",
    "unsqueeze_last = partial(unsqueeze_iter, dim=-1)"
   ]
  },
  {
   "cell_type": "code",
   "execution_count": null,
   "id": "935e06ec-05cf-4521-ad9d-26f3be41eb1c",
   "metadata": {},
   "outputs": [],
   "source": [
    "#| export\n",
    "def _filter_predict(A,\n",
    "                    Q,\n",
    "                    b,\n",
    "                    B, #[n_dim_state, n_dim_contr]\n",
    "                    m_pr,\n",
    "                    P_pr,\n",
    "                    control, #[n_batches, n_dim_contr]\n",
    "                    cov_checker=CheckPosDef()):\n",
    "    r\"\"\"Calculate the state at time `t+1` given the state at time `t`\"\"\"\n",
    "    \n",
    "    m_m = A.unsqueeze(0) @ m_pr + B.unsqueeze(0) @ control.unsqueeze(-1) + b.unsqueeze(-1)\n",
    "    P_m =  A.unsqueeze(0) @ P_pr @ A.unsqueeze(0).mT + Q.unsqueeze(0)\n",
    "\n",
    "    cov_checker.check(P_m, caller='filter_predict')\n",
    "    return (m_m, P_m)"
   ]
  },
  {
   "cell_type": "code",
   "execution_count": null,
   "id": "27363d30-7799-4ac7-ac81-b6d58e46b633",
   "metadata": {},
   "outputs": [],
   "source": [
    "m_m, P_m = _filter_predict(\n",
    "    A, Q, b, B,\n",
    "    m_pr,P_pr, control[:,0,:])"
   ]
  },
  {
   "cell_type": "code",
   "execution_count": null,
   "id": "85cf0029-c23b-4091-8761-3bd689621331",
   "metadata": {},
   "outputs": [
    {
     "data": {
      "text/html": [
       "<div style=\"display: flex; column-gap: 20px; flex-wrap: wrap;\" class='table table-striped table-sm'> <div><p style='font-size: 1.2rem;'>pred_state_mean</p> <pre>tensor([[[2.4986],\n",
       "         [2.2429],\n",
       "         [1.8833],\n",
       "         [3.6164]],\n",
       "\n",
       "        [[2.1377],\n",
       "         [1.5964],\n",
       "         [1.5371],\n",
       "         [2.8315]]], dtype=torch.float64, grad_fn=<AddBackward0>)</pre> </div><div><p style='font-size: 1.2rem;'>pred_state_cov</p> <pre>tensor([[[2.1193, 3.1231, 3.0197, 2.9402],\n",
       "         [3.1231, 5.7751, 4.9480, 4.8186],\n",
       "         [3.0197, 4.9480, 5.6400, 4.1710],\n",
       "         [2.9402, 4.8186, 4.1710, 4.4912]],\n",
       "\n",
       "        [[2.1193, 3.1231, 3.0197, 2.9402],\n",
       "         [3.1231, 5.7751, 4.9480, 4.8186],\n",
       "         [3.0197, 4.9480, 5.6400, 4.1710],\n",
       "         [2.9402, 4.8186, 4.1710, 4.4912]]], dtype=torch.float64,\n",
       "       grad_fn=<AddBackward0>)</pre> </div></div>"
      ],
      "text/plain": [
       "<IPython.core.display.HTML object>"
      ]
     },
     "metadata": {},
     "output_type": "display_data"
    }
   ],
   "source": [
    "show_as_row(m_m, P_m)"
   ]
  },
  {
   "cell_type": "code",
   "execution_count": null,
   "id": "64cab28f-86a6-4bdd-b591-fc51153b891f",
   "metadata": {},
   "outputs": [
    {
     "data": {
      "text/html": [
       "<div style=\"display: flex; column-gap: 20px; flex-wrap: wrap;\" class='table table-striped table-sm'> <div><p style='font-size: 1.2rem;'>#0</p> <pre>(torch.Size([2, 4, 1]), torch.Size([2, 4, 4]))</pre> </div></div>"
      ],
      "text/plain": [
       "<IPython.core.display.HTML object>"
      ]
     },
     "metadata": {},
     "output_type": "display_data"
    }
   ],
   "source": [
    "show_as_row((m_m.shape, P_m.shape,))"
   ]
  },
  {
   "cell_type": "markdown",
   "id": "a27a7e1e-954b-4674-b3c6-7264412a70af",
   "metadata": {},
   "source": [
    "### Filter Predict UD"
   ]
  },
  {
   "cell_type": "markdown",
   "id": "e1b6ec7e-4a7d-4950-ada0-371e53901f26",
   "metadata": {},
   "source": [
    "#### UDU Decomposition"
   ]
  },
  {
   "cell_type": "code",
   "execution_count": null,
   "id": "8954bbda-d020-4ae5-ad1c-1c469756cb13",
   "metadata": {},
   "outputs": [],
   "source": [
    "Lc = torch.linalg.cholesky(Q)"
   ]
  },
  {
   "cell_type": "code",
   "execution_count": null,
   "id": "e49afd2f-ceb2-424a-92eb-725c71c6fa8a",
   "metadata": {},
   "outputs": [
    {
     "data": {
      "text/plain": [
       "tensor([[ 1.0125,  0.0000,  0.0000,  0.0000],\n",
       "        [ 1.0871,  0.8976,  0.0000,  0.0000],\n",
       "        [ 0.7836, -0.1072,  0.5750,  0.0000],\n",
       "        [ 1.4338,  0.5792,  0.2001,  0.1477]], dtype=torch.float64,\n",
       "       grad_fn=<LinalgCholeskyExBackward0>)"
      ]
     },
     "execution_count": null,
     "metadata": {},
     "output_type": "execute_result"
    }
   ],
   "source": [
    "Lc"
   ]
  },
  {
   "cell_type": "code",
   "execution_count": null,
   "id": "4e50c985-49ee-42bd-92d4-c23607c500b2",
   "metadata": {},
   "outputs": [],
   "source": [
    "D0 = torch.diag(Lc)"
   ]
  },
  {
   "cell_type": "code",
   "execution_count": null,
   "id": "3a7940ff-1f3a-410a-aeea-5e6118fabf13",
   "metadata": {},
   "outputs": [
    {
     "data": {
      "text/plain": [
       "tensor([1.0125, 0.8976, 0.5750, 0.1477], dtype=torch.float64,\n",
       "       grad_fn=<DiagBackward0>)"
      ]
     },
     "execution_count": null,
     "metadata": {},
     "output_type": "execute_result"
    }
   ],
   "source": [
    "D0"
   ]
  },
  {
   "cell_type": "code",
   "execution_count": null,
   "id": "502fe1fa-cef6-4b1e-93c1-ca2c9827e897",
   "metadata": {},
   "outputs": [
    {
     "data": {
      "text/plain": [
       "torch.Size([1, 4])"
      ]
     },
     "execution_count": null,
     "metadata": {},
     "output_type": "execute_result"
    }
   ],
   "source": [
    "D0.unsqueeze(0).shape"
   ]
  },
  {
   "cell_type": "code",
   "execution_count": null,
   "id": "635a4be5-1869-4cd9-9de5-058d0a6e3826",
   "metadata": {},
   "outputs": [
    {
     "data": {
      "text/plain": [
       "tensor([[ 1.0000,  0.0000,  0.0000,  0.0000],\n",
       "        [ 1.0737,  1.0000,  0.0000,  0.0000],\n",
       "        [ 0.7740, -0.1194,  1.0000,  0.0000],\n",
       "        [ 1.4161,  0.6454,  0.3479,  1.0000]], dtype=torch.float64,\n",
       "       grad_fn=<DivBackward0>)"
      ]
     },
     "execution_count": null,
     "metadata": {},
     "output_type": "execute_result"
    }
   ],
   "source": [
    "L = Lc / D0.unsqueeze(0)\n",
    "L"
   ]
  },
  {
   "cell_type": "code",
   "execution_count": null,
   "id": "56da0b4a-a8a1-44f1-a71b-e836be8a45a9",
   "metadata": {},
   "outputs": [
    {
     "data": {
      "text/plain": [
       "tensor([1.0251, 0.8056, 0.3306, 0.0218], dtype=torch.float64,\n",
       "       grad_fn=<PowBackward0>)"
      ]
     },
     "execution_count": null,
     "metadata": {},
     "output_type": "execute_result"
    }
   ],
   "source": [
    "D = D0.pow(2)\n",
    "D"
   ]
  },
  {
   "cell_type": "code",
   "execution_count": null,
   "id": "c0cdcb80-7691-4550-816c-cda8d6c9a419",
   "metadata": {},
   "outputs": [
    {
     "data": {
      "text/plain": [
       "tensor([[-2.2204e-16,  0.0000e+00, -2.2204e-16,  0.0000e+00],\n",
       "        [ 0.0000e+00,  0.0000e+00,  0.0000e+00,  0.0000e+00],\n",
       "        [-2.2204e-16, -1.1102e-16, -3.3307e-16, -2.2204e-16],\n",
       "        [ 0.0000e+00,  0.0000e+00, -2.2204e-16,  4.4409e-16]],\n",
       "       dtype=torch.float64, grad_fn=<SubBackward0>)"
      ]
     },
     "execution_count": null,
     "metadata": {},
     "output_type": "execute_result"
    }
   ],
   "source": [
    "L @ torch.diag(D) @ L.T - Q"
   ]
  },
  {
   "cell_type": "markdown",
   "id": "4bd3c8f3-242d-4a75-9c46-52144c90f04a",
   "metadata": {},
   "source": [
    "can compute gradients"
   ]
  },
  {
   "cell_type": "code",
   "execution_count": null,
   "id": "e8d7c495-2fd4-4126-9cfa-ee74732dab5a",
   "metadata": {},
   "outputs": [],
   "source": [
    "L.sum().backward(retain_graph=True) "
   ]
  },
  {
   "cell_type": "markdown",
   "id": "531c0369-ce3f-4f09-a46b-0ab7ffd25b2c",
   "metadata": {},
   "source": [
    "Cannot used PyTorch LDL function, because it doesn't compute gradients, and in any case we don't need it! We can use just use the cholesky decomposition. Actually we may just use cholesky directly and $I$ for the diagonal ..."
   ]
  },
  {
   "cell_type": "code",
   "execution_count": null,
   "id": "d1002a0f-3abe-406c-a2b4-9b705a933873",
   "metadata": {},
   "outputs": [],
   "source": [
    "A = to_posdef(torch.rand(2, 3,3))"
   ]
  },
  {
   "cell_type": "code",
   "execution_count": null,
   "id": "6a90ecd2-f45a-4c7f-a2d0-99b9ef1e0a86",
   "metadata": {},
   "outputs": [
    {
     "data": {
      "text/plain": [
       "torch.Size([2, 3])"
      ]
     },
     "execution_count": null,
     "metadata": {},
     "output_type": "execute_result"
    }
   ],
   "source": [
    "torch.diagonal(A, dim1=-2, dim2=-1).shape"
   ]
  },
  {
   "cell_type": "code",
   "execution_count": null,
   "id": "303174a8-013f-46fc-bba8-0cb33c5c13a5",
   "metadata": {},
   "outputs": [],
   "source": [
    "def udu_decomposition(A):\n",
    "    L = torch.linalg.cholesky(A)\n",
    "    D0 = torch.diagonal(L, dim1=-2, dim2=-1)\n",
    "    U = L / D0.unsqueeze(-2)\n",
    "    D = D0.pow(2)\n",
    "    return U, D"
   ]
  },
  {
   "cell_type": "code",
   "execution_count": null,
   "id": "f5856e95-67b1-453f-bc65-5effdeb1cff4",
   "metadata": {},
   "outputs": [],
   "source": [
    "U, D = udu_decomposition(A)"
   ]
  },
  {
   "cell_type": "code",
   "execution_count": null,
   "id": "8db4c743-f2c9-4f50-a5a0-981ad0eae524",
   "metadata": {},
   "outputs": [
    {
     "data": {
      "text/plain": [
       "(tensor([[[1.3610, 0.0000, 0.0000],\n",
       "          [0.0000, 0.1577, 0.0000],\n",
       "          [0.0000, 0.0000, 0.0253]],\n",
       " \n",
       "         [[1.6047, 0.0000, 0.0000],\n",
       "          [0.0000, 0.0966, 0.0000],\n",
       "          [0.0000, 0.0000, 0.0751]]]),\n",
       " tensor([[1.3610, 0.1577, 0.0253],\n",
       "         [1.6047, 0.0966, 0.0751]]))"
      ]
     },
     "execution_count": null,
     "metadata": {},
     "output_type": "execute_result"
    }
   ],
   "source": [
    "torch.diag_embed(D), D"
   ]
  },
  {
   "cell_type": "code",
   "execution_count": null,
   "id": "64f5a8f7-3be7-4354-ac51-19c87b49bd33",
   "metadata": {},
   "outputs": [],
   "source": [
    "for _ in range(10):\n",
    "    A = to_posdef(torch.rand(5, 10,10))\n",
    "    U,D = udu_decomposition(A)\n",
    "    test_close(A, U @ torch.diag_embed(D) @ U.mT)"
   ]
  },
  {
   "cell_type": "code",
   "execution_count": null,
   "id": "574bb097-3d47-40fe-806a-af6550505909",
   "metadata": {},
   "outputs": [
    {
     "data": {
      "text/plain": [
       "tensor([1.0251, 1.9873, 0.9562, 2.4531], dtype=torch.float64,\n",
       "       grad_fn=<DiagBackward0>)"
      ]
     },
     "execution_count": null,
     "metadata": {},
     "output_type": "execute_result"
    }
   ],
   "source": [
    "torch.diag(Q)"
   ]
  },
  {
   "cell_type": "code",
   "execution_count": null,
   "id": "34d1ec36-11e1-4f9d-8f3f-1aab06d7b6cb",
   "metadata": {},
   "outputs": [
    {
     "data": {
      "text/plain": [
       "(tensor([[1., 0., 0., 0.],\n",
       "         [0., 1., 0., 0.],\n",
       "         [0., 0., 1., 0.],\n",
       "         [0., 0., 0., 1.]], dtype=torch.float64, grad_fn=<DivBackward0>),\n",
       " tensor([1.0251, 1.9873, 0.9562, 2.4531], dtype=torch.float64,\n",
       "        grad_fn=<PowBackward0>))"
      ]
     },
     "execution_count": null,
     "metadata": {},
     "output_type": "execute_result"
    }
   ],
   "source": [
    "udu_decomposition(torch.diag(torch.diag(Q)))"
   ]
  },
  {
   "cell_type": "markdown",
   "id": "0702dc3d-85bb-451b-9b34-45ec6e6c94d3",
   "metadata": {},
   "source": [
    "The first step is to decompose the Qariance matrix Q\n",
    "$$    Q = GD_QG^T $$"
   ]
  },
  {
   "cell_type": "code",
   "execution_count": null,
   "id": "623fec3f-2e29-4078-9cb7-a9da64893394",
   "metadata": {},
   "outputs": [],
   "source": [
    "G, D_Q = udu_decomposition(Q)"
   ]
  },
  {
   "cell_type": "markdown",
   "id": "4d7a6211-be0d-43c4-9930-4ba1c377422f",
   "metadata": {},
   "source": [
    "$$W = \\begin{bmatrix}AU_{t-1}&G\\end{bmatrix}$$"
   ]
  },
  {
   "cell_type": "code",
   "execution_count": null,
   "id": "51e673aa-64c8-4dae-8c6a-1ecb70e732b9",
   "metadata": {},
   "outputs": [],
   "source": [
    "U_curr, D_curr = udu_decomposition(P_pr[0])"
   ]
  },
  {
   "cell_type": "code",
   "execution_count": null,
   "id": "2a94a74c-aa6e-4a1f-bfb7-db061425a50d",
   "metadata": {},
   "outputs": [
    {
     "data": {
      "text/plain": [
       "tensor([[ 0.7179,  0.1642, -0.1333,  0.7937,  1.0000,  0.0000,  0.0000,  0.0000],\n",
       "        [ 1.3292,  0.5025,  0.1748,  0.2773,  1.0737,  1.0000,  0.0000,  0.0000],\n",
       "        [ 1.4469,  0.8537, -0.0175,  0.3410,  0.7740, -0.1194,  1.0000,  0.0000],\n",
       "        [ 0.9866,  0.0631, -0.2660,  0.8306,  1.4161,  0.6454,  0.3479,  1.0000]],\n",
       "       dtype=torch.float64, grad_fn=<CatBackward0>)"
      ]
     },
     "execution_count": null,
     "metadata": {},
     "output_type": "execute_result"
    }
   ],
   "source": [
    "W = torch.hstack([A @ U_curr, G])\n",
    "W"
   ]
  },
  {
   "cell_type": "markdown",
   "id": "c51a458e-184d-4e9d-ad01-29a113285b92",
   "metadata": {},
   "source": [
    "$$ D_w = \\begin{bmatrix}D_{t-1} & 0 \\\\ 0& D_Q \\end{bmatrix}$$"
   ]
  },
  {
   "cell_type": "code",
   "execution_count": null,
   "id": "5f633d21-405d-4e14-be69-1ecb482a99c9",
   "metadata": {},
   "outputs": [
    {
     "data": {
      "text/plain": [
       "tensor([[2.0770, 0.0000, 0.0000, 0.0000, 0.0000, 0.0000, 0.0000, 0.0000],\n",
       "        [0.0000, 0.4582, 0.0000, 0.0000, 0.0000, 0.0000, 0.0000, 0.0000],\n",
       "        [0.0000, 0.0000, 0.0431, 0.0000, 0.0000, 0.0000, 0.0000, 0.0000],\n",
       "        [0.0000, 0.0000, 0.0000, 0.0169, 0.0000, 0.0000, 0.0000, 0.0000],\n",
       "        [0.0000, 0.0000, 0.0000, 0.0000, 1.0251, 0.0000, 0.0000, 0.0000],\n",
       "        [0.0000, 0.0000, 0.0000, 0.0000, 0.0000, 0.8056, 0.0000, 0.0000],\n",
       "        [0.0000, 0.0000, 0.0000, 0.0000, 0.0000, 0.0000, 0.3306, 0.0000],\n",
       "        [0.0000, 0.0000, 0.0000, 0.0000, 0.0000, 0.0000, 0.0000, 0.0218]],\n",
       "       dtype=torch.float64, grad_fn=<DiagBackward0>)"
      ]
     },
     "execution_count": null,
     "metadata": {},
     "output_type": "execute_result"
    }
   ],
   "source": [
    "Dw = torch.diag(torch.hstack([D_curr, D_Q]))\n",
    "Dw"
   ]
  },
  {
   "cell_type": "code",
   "execution_count": null,
   "id": "bc886dd2-285f-48a0-8259-5f0a61316345",
   "metadata": {},
   "outputs": [
    {
     "data": {
      "text/plain": [
       "torch.Size([4, 8])"
      ]
     },
     "execution_count": null,
     "metadata": {},
     "output_type": "execute_result"
    }
   ],
   "source": [
    "W.shape"
   ]
  },
  {
   "cell_type": "code",
   "execution_count": null,
   "id": "0a6c6288-456b-4dd8-b5e1-aa29859feb92",
   "metadata": {},
   "outputs": [],
   "source": [
    "C_dw = Dw.sqrt()"
   ]
  },
  {
   "cell_type": "code",
   "execution_count": null,
   "id": "1cb4e9f8-0d2d-4ceb-9a52-3627b208b2a1",
   "metadata": {},
   "outputs": [
    {
     "data": {
      "text/plain": [
       "torch.Size([8, 8])"
      ]
     },
     "execution_count": null,
     "metadata": {},
     "output_type": "execute_result"
    }
   ],
   "source": [
    "C_dw.shape"
   ]
  },
  {
   "cell_type": "code",
   "execution_count": null,
   "id": "2cbe9d46-da10-4f45-9cdd-8f9c276fb139",
   "metadata": {},
   "outputs": [
    {
     "data": {
      "text/plain": [
       "(tensor([[-0.7107, -0.3610,  0.4193, -0.2126],\n",
       "         [-0.0763, -0.1629,  0.3247, -0.2840],\n",
       "         [ 0.0190, -0.0712,  0.0029, -0.1181],\n",
       "         [-0.0710,  0.1072, -0.0504,  0.0055],\n",
       "         [-0.6955,  0.3739, -0.4589,  0.2447],\n",
       "         [-0.0000, -0.8287, -0.4603,  0.2697],\n",
       "         [-0.0000, -0.0000,  0.5419,  0.7722],\n",
       "         [-0.0000, -0.0000,  0.0000,  0.3623]], dtype=torch.float64,\n",
       "        grad_fn=<LinalgQrBackward0>),\n",
       " tensor([[-1.4558, -2.1453, -2.0742, -2.0196],\n",
       "         [ 0.0000, -1.0830, -0.4600, -0.4487],\n",
       "         [ 0.0000,  0.0000,  1.0611, -0.2117],\n",
       "         [ 0.0000,  0.0000,  0.0000,  0.4077]], dtype=torch.float64,\n",
       "        grad_fn=<LinalgQrBackward0>))"
      ]
     },
     "execution_count": null,
     "metadata": {},
     "output_type": "execute_result"
    }
   ],
   "source": [
    "Q, R = torch.linalg.qr((W @ C_dw).mT)\n",
    "Q, R"
   ]
  },
  {
   "cell_type": "code",
   "execution_count": null,
   "id": "33b0167c-ac3a-440f-af3c-d338f97535b1",
   "metadata": {},
   "outputs": [
    {
     "data": {
      "text/plain": [
       "tensor([[ 1.0000e+00, -4.4235e-17,  5.8981e-17,  6.9389e-18],\n",
       "        [-4.4235e-17,  1.0000e+00, -1.1102e-16,  8.3267e-17],\n",
       "        [ 5.8981e-17, -1.1102e-16,  1.0000e+00, -8.3267e-17],\n",
       "        [ 6.9389e-18,  8.3267e-17, -8.3267e-17,  1.0000e+00]],\n",
       "       dtype=torch.float64, grad_fn=<MmBackward0>)"
      ]
     },
     "execution_count": null,
     "metadata": {},
     "output_type": "execute_result"
    }
   ],
   "source": [
    "Q.T @ Q"
   ]
  },
  {
   "cell_type": "code",
   "execution_count": null,
   "id": "84f06192-a4bd-4aea-b8e6-209f890038b8",
   "metadata": {},
   "outputs": [
    {
     "data": {
      "text/plain": [
       "(torch.Size([4, 4]), torch.Size([4, 8]))"
      ]
     },
     "execution_count": null,
     "metadata": {},
     "output_type": "execute_result"
    }
   ],
   "source": [
    "U_pred = R.mT\n",
    "V = Q.T @ torch.inverse(C_dw)\n",
    "U_pred.shape, V.shape"
   ]
  },
  {
   "cell_type": "code",
   "execution_count": null,
   "id": "083e04ae-114f-4240-aa42-9b1a0d585cf8",
   "metadata": {},
   "outputs": [],
   "source": [
    "D_pred = V @ Dw @ V.T"
   ]
  },
  {
   "cell_type": "code",
   "execution_count": null,
   "id": "1a7e69c6-a4e6-48d6-9798-a160a8d65ed5",
   "metadata": {},
   "outputs": [
    {
     "data": {
      "text/plain": [
       "tensor([[ 1.0000e+00,  4.7705e-17, -6.2450e-17,  7.6328e-17],\n",
       "        [-1.1276e-17,  1.0000e+00, -1.6653e-16,  1.3878e-16],\n",
       "        [-5.8981e-17, -1.1102e-16,  1.0000e+00, -8.3267e-17],\n",
       "        [ 3.8164e-17,  1.3878e-16, -5.5511e-17,  1.0000e+00]],\n",
       "       dtype=torch.float64, grad_fn=<MmBackward0>)"
      ]
     },
     "execution_count": null,
     "metadata": {},
     "output_type": "execute_result"
    }
   ],
   "source": [
    "D_pred"
   ]
  },
  {
   "cell_type": "markdown",
   "id": "528b3af7-7425-4b25-9618-17cd676a258c",
   "metadata": {},
   "source": [
    "so the math works and D_pred is a diagonal matrix, actually and identity matrix"
   ]
  },
  {
   "cell_type": "markdown",
   "id": "31dd809a-1037-4619-a074-7752048e2a12",
   "metadata": {},
   "source": [
    "Actually this all derivations are probably not needed, as the original idea of the algorightm is to not scalar square roots in PyTorch ... but since we have to use cholesky decomposition anyway, we can just use cholesky factors and make the life easier"
   ]
  },
  {
   "cell_type": "code",
   "execution_count": null,
   "id": "2d914b3a-352f-4c4b-be13-93d54f8a5015",
   "metadata": {},
   "outputs": [
    {
     "data": {
      "text/plain": [
       "tensor([[2.1193, 3.1231, 3.0197, 2.9402],\n",
       "        [3.1231, 5.7751, 4.9480, 4.8186],\n",
       "        [3.0197, 4.9480, 5.6400, 4.1710],\n",
       "        [2.9402, 4.8186, 4.1710, 4.4912]], dtype=torch.float64,\n",
       "       grad_fn=<MmBackward0>)"
      ]
     },
     "execution_count": null,
     "metadata": {},
     "output_type": "execute_result"
    }
   ],
   "source": [
    "U_pred @ D_pred @ U_pred.T"
   ]
  },
  {
   "cell_type": "code",
   "execution_count": null,
   "id": "eebb8335-7756-4c4f-8b93-02a0d0393601",
   "metadata": {},
   "outputs": [],
   "source": [
    "test_close(P_m[0], U_pred @ D_pred @ U_pred.T)"
   ]
  },
  {
   "cell_type": "markdown",
   "id": "b147583b-61be-4630-9cef-7f605eddb978",
   "metadata": {},
   "source": [
    "#| export\n",
    "def filter_predict_ud(A,\n",
    "                    Q,\n",
    "                    b,\n",
    "                    B, #[n_dim_state, n_dim_contr]\n",
    "                    m_pr,\n",
    "                    P_pr,\n",
    "                    control, #[n_batches, n_dim_contr]\n",
    "                    cov_checker=CheckPosDef()):\n",
    "    \n",
    "    "
   ]
  },
  {
   "cell_type": "markdown",
   "id": "99e62fe3-a580-4f1d-aa20-8c5de1d90cb6",
   "metadata": {},
   "source": [
    "### Filter correct"
   ]
  },
  {
   "cell_type": "markdown",
   "id": "834a0734-30f7-481e-bad8-94aeae770a2a",
   "metadata": {},
   "source": [
    "Probability of state at time `t` given the observations at time `t`\n",
    "\n",
    "$p(x_t|y_t) = \\mathcal{N}(x_t; m_t, P_t)$ where:\n",
    "\n",
    "- predicted obs mean: $z_t = Hm_t^- + d$  \n",
    "\n",
    "- prediced obs covariance: $S_t = HP_t^-H^T + R$\n",
    "\n",
    "- kalman gain$K_t = P_t^-H^TS_t^{-1}$ \n",
    "\n",
    "- corrected state mean: $m_t = m_t^- + K_t(y_t - z_t)$ \n",
    "\n",
    "- corrected state covariance: $P_t = (I-K_tH)P_t^-$ \n",
    "\n",
    "if the observation are missing this step is skipped and the corrected state is equal to the predicted state\n"
   ]
  },
  {
   "cell_type": "markdown",
   "id": "9ab7f69a-c12e-4136-8ae2-fad9918f3a68",
   "metadata": {},
   "source": [
    "Need to figure out the Nans for the gradients ..."
   ]
  },
  {
   "cell_type": "markdown",
   "id": "91dd356d-d51c-461f-a8c8-56fe72fc4586",
   "metadata": {},
   "source": [
    "#### Missing observations\n",
    "\n",
    "If all the observations at time $t$ are missing the correct step is skipped and the filtered state at time $t$ () is the same of the filtered state.\n",
    "\n",
    "If only some observations are missing a variation of equation can be used.\n",
    "\n",
    "$y^{ng}_t$ is a vector containing the observations that are not missing at time $t$. \n",
    "\n",
    "It can be expressed as a linear transformation of $y_t$\n",
    "\n",
    "$$ y^{ng}_t = My_t$$\n",
    "\n",
    "where $M$ is a mask matrix that is used to select the subset of $y_t$ that is observed. $M \\in \\mathbb{R}^{n_{ng} \\times n}$ and is made of columns which are made of all zeros but for an entry 1 at row corresponding to the non-missing observation.\n",
    "hence:\n",
    "\n",
    "$$ p(y^{ng}_t) = \\mathcal{N}(M\\mu_{y_t},  M\\Sigma_{y_t}M^T)$$\n",
    "\n",
    "from which you can derive\n",
    "\n",
    "$$ p(y^{ng}_t|x_t) = p(MHx_t + Mb, MRM^T) $${#eq-filter-correct}\n",
    "\n",
    "Then the posterior $p(x_t|y_t^{ng})$ can be computed similarly of equation @filter_correct as:\n",
    "\n",
    "$$ p(x_t|y^{ng}_t) = \\mathcal{N}(x_t; m_t, P_t) $${#eq-filter_correct_missing}\n",
    "    \n",
    "where:\n",
    "\n",
    "*  predicted obs mean: $z_t = MHm_t^- + Md$\n",
    "*  predicted obs covariance: $S_t = MHP_t^-(MH)^T + MRM^T$\n",
    "*  Kalman gain $K_t = P_t^-(MH)^TS_t^{-1}$\n",
    "*  corrected state mean: $m_t = m_t^- + K_t(My_t - z_t)$\n",
    "*  corrected state covariance: $P_t = (I-K_tMH)P_t^-$\n"
   ]
  },
  {
   "cell_type": "code",
   "execution_count": null,
   "id": "f0e94561-d37b-42f3-b117-949dde294e60",
   "metadata": {},
   "outputs": [
    {
     "data": {
      "text/plain": [
       "torch.Size([3])"
      ]
     },
     "execution_count": null,
     "metadata": {},
     "output_type": "execute_result"
    }
   ],
   "source": [
    "k.d.shape"
   ]
  },
  {
   "cell_type": "markdown",
   "id": "f9d0516a-fe91-42e2-a3d7-19fd281d00c6",
   "metadata": {},
   "source": [
    "##### Details implementation "
   ]
  },
  {
   "cell_type": "markdown",
   "id": "1ef89efc-213a-45f9-8086-2bd79471bfb9",
   "metadata": {},
   "source": [
    "For the implementation the matrix multiplication $MH$ can be replaced with `H[m]` where `m` is the mask for the rows for `H` and $MRM^T$ with `R[m][:,m]`"
   ]
  },
  {
   "cell_type": "code",
   "execution_count": null,
   "id": "f32ec6d7-ace9-432b-8e6c-f6dfdb2ec994",
   "metadata": {},
   "outputs": [],
   "source": [
    "H, R, d,obs, mm = (k.H, k.R, k.d, data[:,0,:], mask[:,0,:])"
   ]
  },
  {
   "cell_type": "code",
   "execution_count": null,
   "id": "e8d2e4f7-27bf-49aa-acee-d69f7fe90bae",
   "metadata": {},
   "outputs": [
    {
     "data": {
      "text/html": [
       "<div style=\"display: flex; column-gap: 20px; flex-wrap: wrap;\" class='table table-striped table-sm'> <div><p style='font-size: 1.2rem;'>m</p> <pre>tensor([False,  True,  True])</pre> </div><div><p style='font-size: 1.2rem;'>M</p> <pre>tensor([[0., 1., 0.],\n",
       "        [0., 0., 1.]], dtype=torch.float64)</pre> </div><div><p style='font-size: 1.2rem;'>obs_matrix</p> <pre>Parameter containing:\n",
       "tensor([[0.6627, 0.2116, 0.6291, 0.3670],\n",
       "        [0.2237, 0.0553, 0.2241, 0.4903],\n",
       "        [0.4756, 0.3574, 0.5449, 0.4099]], dtype=torch.float64,\n",
       "       requires_grad=True)</pre> </div><div><p style='font-size: 1.2rem;'>obs_cov</p> <pre>tensor([[1.5641, 0.0000, 0.0000],\n",
       "        [0.0000, 1.1859, 0.0000],\n",
       "        [0.0000, 0.0000, 0.6930]], dtype=torch.float64,\n",
       "       grad_fn=<DiagBackward0>)</pre> </div></div>"
      ],
      "text/plain": [
       "<IPython.core.display.HTML object>"
      ]
     },
     "metadata": {},
     "output_type": "display_data"
    }
   ],
   "source": [
    "m = torch.tensor([False,True,True]) # mask batch\n",
    "M = torch.tensor([[0,1,0], # mask matrix\n",
    "                  [0,0,1]], dtype=torch.float64)\n",
    "show_as_row(m, M, H, R)"
   ]
  },
  {
   "cell_type": "code",
   "execution_count": null,
   "id": "79fc5a87-5836-4c12-b8b8-35af30c716f0",
   "metadata": {},
   "outputs": [
    {
     "data": {
      "text/plain": [
       "(tensor([[0.2237, 0.0553, 0.2241, 0.4903],\n",
       "         [0.4756, 0.3574, 0.5449, 0.4099]], dtype=torch.float64,\n",
       "        grad_fn=<MmBackward0>),\n",
       " tensor([[0.2237, 0.0553, 0.2241, 0.4903],\n",
       "         [0.4756, 0.3574, 0.5449, 0.4099]], dtype=torch.float64,\n",
       "        grad_fn=<IndexBackward0>))"
      ]
     },
     "execution_count": null,
     "metadata": {},
     "output_type": "execute_result"
    }
   ],
   "source": [
    "M @ H, H[m]"
   ]
  },
  {
   "cell_type": "code",
   "execution_count": null,
   "id": "856ff123-f0c9-4f5e-af22-b1a7c2f5dcc6",
   "metadata": {},
   "outputs": [
    {
     "data": {
      "text/plain": [
       "(tensor([[1.1859, 0.0000],\n",
       "         [0.0000, 0.6930]], dtype=torch.float64, grad_fn=<MmBackward0>),\n",
       " tensor([[1.1859, 0.0000],\n",
       "         [0.0000, 0.6930]], dtype=torch.float64, grad_fn=<IndexBackward0>))"
      ]
     },
     "execution_count": null,
     "metadata": {},
     "output_type": "execute_result"
    }
   ],
   "source": [
    "M @ R @ M.T, R[m][:,m]"
   ]
  },
  {
   "cell_type": "markdown",
   "id": "cd064dcc-3abd-44e2-a9e2-786db8b4a064",
   "metadata": {},
   "source": [
    "By using partially missing observations `_filter_correct` cannot be easily batched as the shape of the intermediate variables depends on the number of observed variables. So the idea is to divide the batch in batches where there is the same number of variables."
   ]
  },
  {
   "cell_type": "code",
   "execution_count": null,
   "id": "6b16750b-899c-4067-b7a5-106084f734d8",
   "metadata": {},
   "outputs": [
    {
     "data": {
      "text/plain": [
       "(tensor([[ True, False,  True],\n",
       "         [ True,  True, False]]),\n",
       " tensor([0, 1]))"
      ]
     },
     "execution_count": null,
     "metadata": {},
     "output_type": "execute_result"
    }
   ],
   "source": [
    "mask_values, indices = torch.unique(mask[:,1,:], dim=0, return_inverse=True)\n",
    "mask_values, indices"
   ]
  },
  {
   "cell_type": "code",
   "execution_count": null,
   "id": "23b11e2a",
   "metadata": {},
   "outputs": [],
   "source": [
    "#| export\n",
    "def _filter_correct_batch(\n",
    "                    H,\n",
    "                    R,\n",
    "                    d,\n",
    "                    m_m,\n",
    "                    P_m,\n",
    "                    obs, # [n_obs]\n",
    "                    mask, # [n_obs_np, n_obs] mask to obtain non missing obs from obs\n",
    "                    cov_checker=CheckPosDef()):\n",
    "    \"\"\"Update state at time `t` given observations at time `t` assuming that all observations have the same mask\"\"\"\n",
    "    \n",
    "    if (~mask).all(): return (m_m, P_m)\n",
    "\n",
    "    m_H, m_d, m_obs, m_R = H[mask], d[mask], obs[:, mask], R[mask][:,mask]\n",
    "    \n",
    "    # extra dim needed to have batched matmul working between matrices and means\n",
    "    (m_H,), (m_d, m_obs) = unsqueeze_first(m_H), unsqueeze_last(m_d, m_obs) \n",
    "    \n",
    "    pred_obs_mean = m_H @ m_m + m_d\n",
    "    pred_R = m_H @ P_m @ m_H.mT + m_R\n",
    "    kalman_gain = P_m @ m_H.mT @ torch.inverse(pred_R) # torch.cholesky_inverse(torch.linalg.cholesky(pred_R))\n",
    "\n",
    "    corr_state_mean = m_m + kalman_gain @ (m_obs - pred_obs_mean) #select with the mask instead of multipling so that support nan in the dataset\n",
    "    corr_state_cov = P_m - kalman_gain @ m_H @ P_m\n",
    "\n",
    "    cov_checker.check(P_m, caller='filter_correct')\n",
    "    return (corr_state_mean, corr_state_cov)"
   ]
  },
  {
   "cell_type": "code",
   "execution_count": null,
   "id": "09bfc68f-0368-4bb6-9d35-fa2348055955",
   "metadata": {},
   "outputs": [],
   "source": [
    "H, R, d,obs, mm = (k.H, k.R, k.d, data[:,0,:], mask[:,0,:])"
   ]
  },
  {
   "cell_type": "code",
   "execution_count": null,
   "id": "484b0eff-7246-42cb-a721-0dc2d72d3cbe",
   "metadata": {},
   "outputs": [],
   "source": [
    "corr_s_mean,corr_s_cov = _filter_correct_batch(H, R, d, m_m[0:1], P_m[0:1], obs[0:1], mm[0])"
   ]
  },
  {
   "cell_type": "code",
   "execution_count": null,
   "id": "2954f10b-d9dd-42aa-b800-5d123eee0401",
   "metadata": {},
   "outputs": [
    {
     "data": {
      "text/plain": [
       "(torch.Size([1, 4, 1]), torch.Size([1, 4, 4]))"
      ]
     },
     "execution_count": null,
     "metadata": {},
     "output_type": "execute_result"
    }
   ],
   "source": [
    "corr_s_mean.shape, corr_s_cov.shape"
   ]
  },
  {
   "cell_type": "code",
   "execution_count": null,
   "id": "5ab7507b-4d3d-472f-8e6e-81b0b2af4f2f",
   "metadata": {},
   "outputs": [],
   "source": [
    "#| export\n",
    "def _filter_correct(H,\n",
    "                    R,\n",
    "                    d,\n",
    "                    m_m,\n",
    "                    P_m,\n",
    "                    obs,\n",
    "                    mask,\n",
    "                    cov_checker=CheckPosDef()) -> ListMNormal:\n",
    "    \"\"\"Update state at time `t` given observations at time `t`\"\"\"\n",
    "\n",
    "    corr_state_mean, corr_state_cov = torch.empty_like(m_m), torch.empty_like(P_m)\n",
    "    \n",
    "    # find the unique values of the mask and make a sub-batches with it\n",
    "    mask_values, indices = torch.unique(mask, return_inverse=True, dim=0)  \n",
    "    for i, mask_v in enumerate(mask_values):\n",
    "        idx_select = indices == i \n",
    "        corr_state_mean[idx_select], corr_state_cov[idx_select] = _filter_correct_batch(\n",
    "            H, R, d,\n",
    "            m_m[idx_select], P_m[idx_select],\n",
    "            obs[idx_select], mask_v,\n",
    "            cov_checker\n",
    "        \n",
    "        )\n",
    "        assert all(mask[idx_select][0] == mask_v)\n",
    "    \n",
    "    return ListMNormal(corr_state_mean, corr_state_cov)"
   ]
  },
  {
   "cell_type": "code",
   "execution_count": null,
   "id": "9ac44c82-b204-4354-9e83-b697d28751b7",
   "metadata": {},
   "outputs": [],
   "source": [
    "H, R, d,obs, mm = (k.H, k.R, k.d, data[:,0,:], mask[:,0,:])"
   ]
  },
  {
   "cell_type": "code",
   "execution_count": null,
   "id": "5f3bd23c-872a-45ff-8f79-132d0e414d09",
   "metadata": {},
   "outputs": [],
   "source": [
    "corr_s_mean, corr_s_cov = _filter_correct(H, R, d, m_m, P_m, obs, mm)"
   ]
  },
  {
   "cell_type": "code",
   "execution_count": null,
   "id": "462ca23f-1900-4330-8660-f7a97fd1f573",
   "metadata": {},
   "outputs": [
    {
     "data": {
      "text/html": [
       "<div style=\"display: flex; column-gap: 20px; flex-wrap: wrap;\" class='table table-striped table-sm'> <div><p style='font-size: 1.2rem;'>corr_s_mean</p> <pre>tensor([[[ 0.1665],\n",
       "         [ 1.3408],\n",
       "         [ 0.5831],\n",
       "         [ 0.1386]],\n",
       "\n",
       "        [[ 0.1831],\n",
       "         [ 0.8667],\n",
       "         [ 0.3231],\n",
       "         [-0.0661]]], dtype=torch.float64, grad_fn=<IndexPutBackward0>)</pre> </div><div><p style='font-size: 1.2rem;'>corr_s_cov</p> <pre>tensor([[[ 5.9730e-01,  5.4209e-01,  2.9660e-01,  2.7770e-01],\n",
       "         [ 5.4209e-01,  1.1098e+00,  6.4993e-02,  2.8594e-01],\n",
       "         [ 2.9660e-01,  6.4993e-02,  6.4509e-01,  2.9308e-01],\n",
       "         [ 2.7770e-01,  2.8594e-01,  2.9308e-01,  1.0954e+00]],\n",
       "\n",
       "        [[ 3.1335e-01,  2.4103e-01,  5.4056e-02, -5.5656e-02],\n",
       "         [ 2.4103e-01,  7.8848e-01, -1.9029e-01, -5.7119e-02],\n",
       "         [ 5.4056e-02, -1.9029e-01,  4.3623e-01, -9.3618e-04],\n",
       "         [-5.5656e-02, -5.7119e-02, -9.3618e-04,  6.5286e-01]]],\n",
       "       dtype=torch.float64, grad_fn=<IndexPutBackward0>)</pre> </div></div>"
      ],
      "text/plain": [
       "<IPython.core.display.HTML object>"
      ]
     },
     "metadata": {},
     "output_type": "display_data"
    }
   ],
   "source": [
    "show_as_row(corr_s_mean, corr_s_cov)"
   ]
  },
  {
   "cell_type": "code",
   "execution_count": null,
   "id": "04f97fc1-42d2-42c8-b945-af011456121d",
   "metadata": {},
   "outputs": [
    {
     "data": {
      "text/plain": [
       "(torch.Size([2, 4, 1]), torch.Size([2, 4, 4]))"
      ]
     },
     "execution_count": null,
     "metadata": {},
     "output_type": "execute_result"
    }
   ],
   "source": [
    "corr_s_mean.shape, corr_s_cov.shape"
   ]
  },
  {
   "cell_type": "code",
   "execution_count": null,
   "id": "d4ee11fd-ec1c-495e-9e41-cd70717206a1",
   "metadata": {},
   "outputs": [],
   "source": [
    "corr_s_mean.sum().backward(retain_graph=True) # check that pytorch can compute gradients with the whole batch"
   ]
  },
  {
   "cell_type": "markdown",
   "id": "173294f6-f74b-4a93-9ba6-c4695284d125",
   "metadata": {},
   "source": [
    "### Filter"
   ]
  },
  {
   "cell_type": "markdown",
   "id": "1e345bda-8a17-44be-bd6f-15f5608ac220",
   "metadata": {},
   "source": [
    "The resursive version of the kalman filter is apperently breaking pytorch gradients calculations so a workaround is needed.\n",
    "During the loop the states are saved in a python list and then at the end they are combined back into a tensor.\n",
    "The last line of the function does:\n",
    "\n",
    "- convert lists to tensors\n",
    "- correct order dimensions"
   ]
  },
  {
   "cell_type": "code",
   "execution_count": null,
   "id": "49b44fc6-a9f5-4873-8610-c889c9a1b6b8",
   "metadata": {},
   "outputs": [],
   "source": [
    "#| export\n",
    "def _times2batch(x):\n",
    "    \"\"\"Permutes `x` so that the first dimension is the number of batches and not the times\"\"\"\n",
    "    return x.permute(1,0,-2,-1)"
   ]
  },
  {
   "cell_type": "code",
   "execution_count": null,
   "id": "2f045ed4-40bc-4451-b836-5bc4e5b4d4b9",
   "metadata": {},
   "outputs": [],
   "source": [
    "#| export\n",
    "def _filter(A, H, B,\n",
    "            Q, R,\n",
    "            b, d,\n",
    "            m0, P0,\n",
    "            obs, mask, control,\n",
    "            cov_checker=CheckPosDef()\n",
    "           ) ->Tuple[List, List, List, List]: # m_ms, P_ms, ms, Ps\n",
    "    \"\"\"Filter observations using kalman filter \"\"\"\n",
    "    n_timesteps = obs.shape[-2]\n",
    "    bs = obs.shape[0]\n",
    "    # lists are mutable so need to copy them\n",
    "    m_ms, P_ms, ms, Ps = [[None for _ in range(n_timesteps)].copy() for _ in range(4)] \n",
    "\n",
    "    for t in range(n_timesteps):\n",
    "        if t == 0:\n",
    "            m_ms[t], P_ms[t] = torch.stack([m0]*bs).unsqueeze(-1), torch.stack([P0]*bs)\n",
    "        else:\n",
    "            m_ms[t], P_ms[t] = _filter_predict(A, Q, b, B,\n",
    "                                                                      ms[t - 1], Ps[t - 1], control[:,t,:],\n",
    "                                                                      cov_checker.add_args(t=t))\n",
    "\n",
    "        ms[t], Ps[t] = _filter_correct(H, R, d,\n",
    "                                                                     m_ms[t], P_ms[t],\n",
    "                                                                     obs[:,t,:], mask[:,t,:],\n",
    "                                                                     cov_checker.add_args(t=t))\n",
    "    \n",
    "    ret = list(maps(torch.stack, _times2batch, (m_ms, P_ms, ms, Ps,)))\n",
    "    return ret"
   ]
  },
  {
   "cell_type": "code",
   "execution_count": null,
   "id": "c8a89f73-5006-44db-bf7d-2a50cc7c5935",
   "metadata": {},
   "outputs": [],
   "source": [
    "obs, m0, P0 = data, k.m0, k.P0"
   ]
  },
  {
   "cell_type": "code",
   "execution_count": null,
   "id": "1fdc67a7-1a3f-4920-810d-03c968cdf86a",
   "metadata": {},
   "outputs": [],
   "source": [
    "m_ms, P_ms, ms, Ps = _filter(\n",
    "    A, H, B,\n",
    "    Q, R,\n",
    "    b, d,\n",
    "    m0, P0,\n",
    "    data, mask, control)"
   ]
  },
  {
   "cell_type": "markdown",
   "id": "a90a2d45-baed-4c3b-9a3a-2994e5a7a278",
   "metadata": {},
   "source": [
    "Predictions at time `0` for both batches"
   ]
  },
  {
   "cell_type": "code",
   "execution_count": null,
   "id": "fef85013-d727-4bdd-ba84-a31ba313d3a7",
   "metadata": {},
   "outputs": [
    {
     "data": {
      "text/html": [
       "<div style=\"display: flex; column-gap: 20px; flex-wrap: wrap;\" class='table table-striped table-sm'> <div><p style='font-size: 1.2rem;'>#0</p> <pre>[torch.Size([2, 10, 4, 1]), torch.Size([2, 10, 4, 4]), torch.Size([2, 10, 4, 1]), torch.Size([2, 10, 4, 4])]</pre> </div></div>"
      ],
      "text/plain": [
       "<IPython.core.display.HTML object>"
      ]
     },
     "metadata": {},
     "output_type": "display_data"
    }
   ],
   "source": [
    "show_as_row(list(map(Self.shape(), (m_ms, P_ms, ms, Ps,))))"
   ]
  },
  {
   "cell_type": "code",
   "execution_count": null,
   "id": "f93a4e7d-8a82-4c8a-be3f-7c6f63278258",
   "metadata": {},
   "outputs": [
    {
     "data": {
      "text/html": [
       "<div style=\"display: flex; column-gap: 20px; flex-wrap: wrap;\" class='table table-striped table-sm'> <div><p style='font-size: 1.2rem;'>#0</p> <pre>[tensor([[0.3830],\n",
       "        [0.4214],\n",
       "        [0.5458],\n",
       "        [0.5241]], dtype=torch.float64, grad_fn=<SelectBackward0>), tensor([[1.3892, 0.7181, 1.6393, 1.3942],\n",
       "        [0.7181, 0.8852, 0.9592, 0.8515],\n",
       "        [1.6393, 0.9592, 2.1083, 1.6580],\n",
       "        [1.3942, 0.8515, 1.6580, 1.4405]], dtype=torch.float64,\n",
       "       grad_fn=<SelectBackward0>), tensor([[0.2232],\n",
       "        [0.3249],\n",
       "        [0.3488],\n",
       "        [0.3607]], dtype=torch.float64, grad_fn=<SelectBackward0>), tensor([[0.3592, 0.0962, 0.3697, 0.3405],\n",
       "        [0.0962, 0.5098, 0.1927, 0.2153],\n",
       "        [0.3697, 0.1927, 0.5432, 0.3591],\n",
       "        [0.3405, 0.2153, 0.3591, 0.3625]], dtype=torch.float64,\n",
       "       grad_fn=<SelectBackward0>)]</pre> </div></div>"
      ],
      "text/plain": [
       "<IPython.core.display.HTML object>"
      ]
     },
     "metadata": {},
     "output_type": "display_data"
    }
   ],
   "source": [
    "show_as_row(list(map(lambda x:x[0][0], (m_ms, P_ms, ms, Ps,))))"
   ]
  },
  {
   "cell_type": "markdown",
   "id": "9f928bd5-604f-4a0d-9379-46aba21e31d8",
   "metadata": {},
   "source": [
    "### KalmanFilter method"
   ]
  },
  {
   "cell_type": "code",
   "execution_count": null,
   "id": "ebcccf0f-e431-4a38-88f2-5630adf974b9",
   "metadata": {},
   "outputs": [],
   "source": [
    "#| export\n",
    "@patch\n",
    "def _filter_all(self: KalmanFilter, obs, mask, control\n",
    "               ) ->Tuple[List, List, List, List]: # m_ms, P_ms, ms, Ps\n",
    "    \"\"\" wrapper around `_filter`\"\"\"\n",
    "    obs, mask = self._parse_obs(obs, mask)\n",
    "    return _filter(\n",
    "            self.A, self.H,\n",
    "            self.B if self.use_control else torch.zeros_like(self.B),\n",
    "            self.Q, self.R,\n",
    "            self.b, self.d,\n",
    "            self.m0, self.P0,\n",
    "            obs, mask, control,\n",
    "            self.cov_checker\n",
    "        )"
   ]
  },
  {
   "cell_type": "code",
   "execution_count": null,
   "id": "88522f5b-88b8-4357-af60-11d2a322898b",
   "metadata": {},
   "outputs": [],
   "source": [
    "pred_mean, _, _, _ = k._filter_all(obs, mask, control);"
   ]
  },
  {
   "cell_type": "code",
   "execution_count": null,
   "id": "3727654a-f7e2-4a95-8c8b-0659a4f2610b",
   "metadata": {},
   "outputs": [
    {
     "data": {
      "text/plain": [
       "list"
      ]
     },
     "execution_count": null,
     "metadata": {},
     "output_type": "execute_result"
    }
   ],
   "source": [
    "type(k._filter_all(obs, mask, control))"
   ]
  },
  {
   "cell_type": "code",
   "execution_count": null,
   "id": "0245e567-161f-4a63-89d9-c68e6553a05c",
   "metadata": {},
   "outputs": [],
   "source": [
    "pred_mean.sum().backward(retain_graph=True) # it works!"
   ]
  },
  {
   "cell_type": "markdown",
   "id": "745027b0-63f0-459f-ad1f-b29c23454dac",
   "metadata": {},
   "source": [
    "The filter methods wraps `_filter_all` but in addition:\n",
    "\n",
    "- returns only filtered state\n",
    "- detach tensors"
   ]
  },
  {
   "cell_type": "code",
   "execution_count": null,
   "id": "4d970ee1-3e3f-4707-9f97-3874ad7643b1",
   "metadata": {},
   "outputs": [],
   "source": [
    "#| export\n",
    "@patch\n",
    "def filter(self: KalmanFilter,\n",
    "          obs: Tensor, # [n_timesteps, n_dim_obs] obs for times [0...n_timesteps-1]\n",
    "          mask: Tensor,  # [n_timesteps, n_dim_obs] obs for times [0...n_timesteps-1]\n",
    "          control: Tensor, # [n_timesteps, n_dim_contr] control for times [1...n_timesteps-1]\n",
    "          ) -> ListMNormal: # Filtered state\n",
    "    \"\"\"Filter observation\"\"\"\n",
    "    _, _, ms, Ps = self._filter_all(obs, mask, control)\n",
    "    return ListMNormal(ms.squeeze(-1), Ps)"
   ]
  },
  {
   "cell_type": "code",
   "execution_count": null,
   "id": "78611868-2c0b-4e56-aa24-102530648002",
   "metadata": {},
   "outputs": [
    {
     "data": {
      "text/plain": [
       "(torch.Size([2, 10, 4]), torch.Size([2, 10, 4, 4]))"
      ]
     },
     "execution_count": null,
     "metadata": {},
     "output_type": "execute_result"
    }
   ],
   "source": [
    "filt = k.filter(obs, mask, control)\n",
    "filt.mean.shape, filt.cov.shape"
   ]
  },
  {
   "cell_type": "markdown",
   "id": "f8d2f1bf-34cd-4e87-a239-2662f6689a53",
   "metadata": {},
   "source": [
    "## Smooth"
   ]
  },
  {
   "cell_type": "markdown",
   "id": "ff2a1878-4e69-4ead-a7b8-cf7dbae5d13e",
   "metadata": {},
   "source": [
    "### Smooth step"
   ]
  },
  {
   "cell_type": "markdown",
   "id": "8a2e8c24-b7ce-4e7a-9bfa-82c9dd246080",
   "metadata": {},
   "source": [
    "compute the probability of the state at time `t` given all the observations\n",
    "\n",
    "$p(x_t|Y) = \\mathcal{N}(x_t; m_t^s, P_t^s)$ where:\n",
    "\n",
    "- Kalman smoothing gain: $G_t = P_tA^T(P_{t+1}^-)^{-1}$\n",
    "- smoothed mean: $m_t^s = m_t + G_t(m_{t+1}^s - m_{t+1}^-)$\n",
    "- smoothed covariance: $P_t^s = P_t + G_t(P_{t+1}^s - P_{t+1}^-)G_t^T$"
   ]
  },
  {
   "cell_type": "code",
   "execution_count": null,
   "id": "57d5c739-3863-40a5-8b96-1ee12c476ca9",
   "metadata": {},
   "outputs": [],
   "source": [
    "#| export\n",
    "def _smooth_update(A,                # [n_dim_state, n_dim_state]\n",
    "                   filt_state: MNormal,         # [n_dim_state] filtered state at time `t`\n",
    "                   pred_state: MNormal,         # [n_dim_state] state before filtering at time `t + 1` (= using the observation until time t)\n",
    "                   next_smoothed_state: Normal, # [n_dim_state] smoothed state at time  `t+1`\n",
    "                   cov_checker = CheckPosDef()\n",
    "                   ) -> MNormal:                # mean and cov of smoothed state at time `t`\n",
    "    \"\"\"Correct a pred state with a Kalman Smoother update\"\"\"\n",
    "    kalman_smoothing_gain = filt_state.cov @ A.unsqueeze(0).mT @ torch.inverse(pred_state.cov) # torch.cholesky_inverse(torch.linalg.cholesky(pred_state.cov))\n",
    "\n",
    "    m_p = filt_state.mean + kalman_smoothing_gain @ (next_smoothed_state.mean - pred_state.mean)\n",
    "    P_p = filt_state.cov + kalman_smoothing_gain @ (next_smoothed_state.cov - pred_state.cov) @ kalman_smoothing_gain.mT\n",
    "\n",
    "    cov_checker.check(P_p, caller='smooth_update')\n",
    "    \n",
    "    return MNormal(m_p, P_p)"
   ]
  },
  {
   "cell_type": "code",
   "execution_count": null,
   "id": "9ac05405-3656-45e1-a818-136858b36fcb",
   "metadata": {},
   "outputs": [],
   "source": [
    "filt_state, pred_state, next_smoothed_state = [MNormal(m_m, P_m)] * 3 # just for testing"
   ]
  },
  {
   "cell_type": "code",
   "execution_count": null,
   "id": "8a7f46d1-5d5e-48fa-92d7-cb37e715d2d7",
   "metadata": {},
   "outputs": [
    {
     "data": {
      "text/html": [
       "<div style=\"display: flex; column-gap: 20px; flex-wrap: wrap;\" class='table table-striped table-sm'> <div><p style='font-size: 1.2rem;'>#0</p> <pre>tensor([[[2.4637],\n",
       "         [3.4680],\n",
       "         [2.6637],\n",
       "         [2.5277]],\n",
       "\n",
       "        [[1.8814],\n",
       "         [2.4901],\n",
       "         [1.8271],\n",
       "         [1.5799]]], dtype=torch.float64, grad_fn=<AddBackward0>)</pre> </div><div><p style='font-size: 1.2rem;'>#1</p> <pre>tensor([[[6.0158, 5.5596, 5.2040, 5.9127],\n",
       "         [5.5596, 5.7559, 4.6093, 5.5039],\n",
       "         [5.2040, 4.6093, 5.0897, 5.3966],\n",
       "         [5.9127, 5.5039, 5.3966, 6.9555]],\n",
       "\n",
       "        [[6.0158, 5.5596, 5.2040, 5.9127],\n",
       "         [5.5596, 5.7559, 4.6093, 5.5039],\n",
       "         [5.2040, 4.6093, 5.0897, 5.3966],\n",
       "         [5.9127, 5.5039, 5.3966, 6.9555]]], dtype=torch.float64,\n",
       "       grad_fn=<AddBackward0>)</pre> </div></div>"
      ],
      "text/plain": [
       "<IPython.core.display.HTML object>"
      ]
     },
     "metadata": {},
     "output_type": "display_data"
    }
   ],
   "source": [
    "show_as_row(*_smooth_update(A, MNormal(m_m, P_m), MNormal(m_m, P_m), MNormal(m_m, P_m)))"
   ]
  },
  {
   "cell_type": "code",
   "execution_count": null,
   "id": "4718e339-fc4f-4794-a3d2-d72ef59d16ca",
   "metadata": {},
   "outputs": [
    {
     "data": {
      "text/html": [
       "<div style=\"display: flex; column-gap: 20px; flex-wrap: wrap;\" class='table table-striped table-sm'> <div><p style='font-size: 1.2rem;'>#0</p> <pre>torch.Size([2, 4, 1])</pre> </div><div><p style='font-size: 1.2rem;'>#1</p> <pre>torch.Size([2, 4, 4])</pre> </div></div>"
      ],
      "text/plain": [
       "<IPython.core.display.HTML object>"
      ]
     },
     "metadata": {},
     "output_type": "display_data"
    }
   ],
   "source": [
    "show_as_row(*map(Self.shape(), _smooth_update(A, MNormal(m_m, P_m), MNormal(m_m, P_m), MNormal(m_m, P_m))))"
   ]
  },
  {
   "cell_type": "markdown",
   "id": "78cf23fc-5a11-48e2-b37d-5c640e23d79f",
   "metadata": {},
   "source": [
    "### Smooth"
   ]
  },
  {
   "cell_type": "code",
   "execution_count": null,
   "id": "7c46309f-70f9-419f-91fc-607ec3e79d77",
   "metadata": {},
   "outputs": [],
   "source": [
    "#| export\n",
    "def _smooth(A, # `[n_dim_state, n_dim_state]`\n",
    "            filt_state: ListMNormal, # `[n_timesteps, n_dim_state]`\n",
    "                # `ms[t]` is the state estimate for time t given obs from times `[0...t]`\n",
    "            pred_state: ListMNormal, # `[n_timesteps, n_dim_state]`\n",
    "                # `m_ms[t]` is the state estimate for time t given obs from times `[0...t-1]`\n",
    "            cov_checker = CheckPosDef()\n",
    "           ) -> ListMNormal: # `[n_timesteps, n_dim_state]` Smoothed state \n",
    "    \"\"\"Apply the Kalman Smoother\"\"\"\n",
    "    x = pred_state.mean # sample for getting tensor properties\n",
    "    bs, n_timesteps, n_dim_state = x.shape[0], x.shape[1], x.shape[2]\n",
    "\n",
    "    smoothed_state = ListMNormal(torch.zeros((bs, n_timesteps,n_dim_state,1),             dtype=x.dtype, device=x.device), \n",
    "                                 torch.zeros((bs, n_timesteps, n_dim_state,n_dim_state), dtype=x.dtype, device=x.device))\n",
    "    # For the last timestep cannot use the smoother\n",
    "    smoothed_state.mean[:,-1,] = filt_state.mean[:,-1]\n",
    "    smoothed_state.cov[:,-1] = filt_state.cov[:,-1]\n",
    "\n",
    "    for t in reversed(range(n_timesteps - 1)):\n",
    "        (smoothed_state.mean[:,t], smoothed_state.cov[:,t]) = (\n",
    "            _smooth_update(\n",
    "                A,\n",
    "                filt_state[:,t],\n",
    "                pred_state[:,t + 1],\n",
    "                smoothed_state[:,t+1],\n",
    "            )\n",
    "        )\n",
    "    return smoothed_state"
   ]
  },
  {
   "cell_type": "code",
   "execution_count": null,
   "id": "78f79457-da68-429c-8edd-860860380cbc",
   "metadata": {},
   "outputs": [],
   "source": [
    "(m_ms, P_ms, ms, Ps ) = k._filter_all(data, mask, control)\n",
    "filt_state, pred_state = ListMNormal(ms, Ps), ListMNormal(m_ms, P_ms)"
   ]
  },
  {
   "cell_type": "code",
   "execution_count": null,
   "id": "5475b7ee-c9df-4aca-b490-2f4a2b331d4e",
   "metadata": {},
   "outputs": [],
   "source": [
    "smooth_state = _smooth(k.A,  filt_state, pred_state)"
   ]
  },
  {
   "cell_type": "code",
   "execution_count": null,
   "id": "2dd198a6-1513-406f-904f-28088d02e0ad",
   "metadata": {},
   "outputs": [
    {
     "data": {
      "text/html": [
       "<div style=\"display: flex; column-gap: 20px; flex-wrap: wrap;\" class='table table-striped table-sm'> <div><p style='font-size: 1.2rem;'>#0</p> <pre>tensor([[-0.3253],\n",
       "        [-0.1535],\n",
       "        [-0.3464],\n",
       "        [-0.2399]], dtype=torch.float64, grad_fn=<SelectBackward0>)</pre> </div><div><p style='font-size: 1.2rem;'>#1</p> <pre>tensor([[ 0.2329, -0.0111,  0.2100,  0.2030],\n",
       "        [-0.0111,  0.4152,  0.0549,  0.0978],\n",
       "        [ 0.2100,  0.0549,  0.3402,  0.1849],\n",
       "        [ 0.2030,  0.0978,  0.1849,  0.2127]], dtype=torch.float64,\n",
       "       grad_fn=<SelectBackward0>)</pre> </div></div>"
      ],
      "text/plain": [
       "<IPython.core.display.HTML object>"
      ]
     },
     "metadata": {},
     "output_type": "display_data"
    }
   ],
   "source": [
    "show_as_row(smooth_state.mean[0][0], smooth_state.cov[0][0])"
   ]
  },
  {
   "cell_type": "code",
   "execution_count": null,
   "id": "90c7a3d7-5f9c-4a4d-9980-f33fa60e7226",
   "metadata": {},
   "outputs": [
    {
     "data": {
      "text/html": [
       "<div style=\"display: flex; column-gap: 20px; flex-wrap: wrap;\" class='table table-striped table-sm'> <div><p style='font-size: 1.2rem;'>#0</p> <pre>torch.Size([2, 10, 4, 1])</pre> </div><div><p style='font-size: 1.2rem;'>#1</p> <pre>torch.Size([2, 10, 4, 4])</pre> </div></div>"
      ],
      "text/plain": [
       "<IPython.core.display.HTML object>"
      ]
     },
     "metadata": {},
     "output_type": "display_data"
    }
   ],
   "source": [
    "show_as_row(smooth_state.mean.shape, smooth_state.cov.shape)"
   ]
  },
  {
   "cell_type": "markdown",
   "id": "bc0299de-69cf-4351-ba84-12871662230b",
   "metadata": {},
   "source": [
    "### KalmanFilter method"
   ]
  },
  {
   "cell_type": "code",
   "execution_count": null,
   "id": "808bcd96-9e98-4e4f-9b85-cdfb98cb9709",
   "metadata": {},
   "outputs": [],
   "source": [
    "#| export\n",
    "@patch\n",
    "def smooth(self: KalmanFilter,\n",
    "           obs: Tensor,\n",
    "           mask: Tensor,\n",
    "           control: Tensor\n",
    "          ) -> ListMNormal: # `[n_timesteps, n_dim_state]` smoothed state\n",
    "        \n",
    "    \"\"\"Kalman Filter Smoothing\"\"\"\n",
    "\n",
    "    (m_ms, P_ms, ms, Ps) = self._filter_all(obs, mask, control)\n",
    "\n",
    "    smoothed_state = _smooth(self.A,\n",
    "                   ListMNormal(ms, Ps), ListMNormal(m_ms, P_ms),\n",
    "                   self.cov_checker)\n",
    "    smoothed_state.mean.squeeze_(-1)\n",
    "    return smoothed_state"
   ]
  },
  {
   "cell_type": "code",
   "execution_count": null,
   "id": "bc63fe46-f267-4538-a72b-997747df2391",
   "metadata": {},
   "outputs": [],
   "source": [
    "smoothed_state = k.smooth(data, mask, control)"
   ]
  },
  {
   "cell_type": "code",
   "execution_count": null,
   "id": "70f1c935-c1a8-4528-ab93-7f7711b8d521",
   "metadata": {},
   "outputs": [
    {
     "data": {
      "text/html": [
       "<div style=\"display: flex; column-gap: 20px; flex-wrap: wrap;\" class='table table-striped table-sm'> <div><p style='font-size: 1.2rem;'>#0</p> <pre>torch.Size([2, 10, 4])</pre> </div><div><p style='font-size: 1.2rem;'>#1</p> <pre>torch.Size([2, 10, 4, 4])</pre> </div></div>"
      ],
      "text/plain": [
       "<IPython.core.display.HTML object>"
      ]
     },
     "metadata": {},
     "output_type": "display_data"
    }
   ],
   "source": [
    "show_as_row(smoothed_state.mean.shape, smoothed_state.cov.shape)"
   ]
  },
  {
   "cell_type": "markdown",
   "id": "7e0600dd-9baf-4796-b3f5-4ae1c2239453",
   "metadata": {},
   "source": [
    "## Predict"
   ]
  },
  {
   "cell_type": "markdown",
   "id": "105a85b5-6806-4dc2-9d34-1ff68a9b2b27",
   "metadata": {},
   "source": [
    "The prediction at time t ($y_t$) are computed rom the state ($x_t$) using this formula:\n",
    "$$p(y_t|x_t) = \\mathcal{N}(Hx_t + d, R + HP^s_tH^T)$$\n",
    "\n",
    "this works both if the state was filtered or smoother"
   ]
  },
  {
   "cell_type": "markdown",
   "id": "25b398c8-3d47-4c50-8197-e692faf7df51",
   "metadata": {},
   "source": [
    "This add the supports for conditional predictions, which means that at the time (t) when we are making the predictions some of the variables have been actually observed. Since the model prediction is a normal distribution we can condition on the observed values and thus improve the predictions. See `conditional_gaussian`"
   ]
  },
  {
   "cell_type": "markdown",
   "id": "1e20b5fd-4dd0-4cb9-be84-d1d3702c5695",
   "metadata": {},
   "source": [
    "In order to have conditional predictions that make sense it's not possible to return the full covariance matrix for the predictions but only the standard deviations"
   ]
  },
  {
   "cell_type": "code",
   "execution_count": null,
   "id": "cd8b3350-34f3-45f1-b7a6-0159fbc8e5e0",
   "metadata": {},
   "outputs": [],
   "source": [
    "test_m = torch.tensor(\n",
    "    [[True, True, True,],\n",
    "    [False, True, True],\n",
    "    [False, False, False]]\n",
    ")"
   ]
  },
  {
   "cell_type": "code",
   "execution_count": null,
   "id": "82e30d14-d0c1-433a-a3e5-d31b4e9378f9",
   "metadata": {},
   "outputs": [
    {
     "data": {
      "text/plain": [
       "tensor([False,  True, False])"
      ]
     },
     "execution_count": null,
     "metadata": {},
     "output_type": "execute_result"
    }
   ],
   "source": [
    "torch.logical_xor(test_m.all(-1), test_m.any(-1))"
   ]
  },
  {
   "cell_type": "code",
   "execution_count": null,
   "id": "d39b3aa0-093a-435a-9116-e1c3f1e47f5c",
   "metadata": {},
   "outputs": [],
   "source": [
    "A = torch.rand(2,2,3,3)"
   ]
  },
  {
   "cell_type": "code",
   "execution_count": null,
   "id": "e1f0a861-e123-41da-94aa-fcb0f57382d7",
   "metadata": {},
   "outputs": [
    {
     "data": {
      "text/plain": [
       "torch.Size([2, 2, 3, 3])"
      ]
     },
     "execution_count": null,
     "metadata": {},
     "output_type": "execute_result"
    }
   ],
   "source": [
    "(A @ A).shape"
   ]
  },
  {
   "cell_type": "markdown",
   "id": "f72c1932-14c6-4c37-809d-b1b2a6c7a765",
   "metadata": {},
   "source": [
    "predict can be vectorized across both the batch and the timesteps, except for timesteps that require conditional predictions"
   ]
  },
  {
   "cell_type": "code",
   "execution_count": null,
   "id": "9f4db221-10b7-4d7a-81ec-3fb92a1f32cb",
   "metadata": {},
   "outputs": [],
   "source": [
    "#| export\n",
    "@patch\n",
    "def _obs_from_state(self: KalmanFilter, state: ListMNormal):\n",
    "\n",
    "    mean = self.H @ state.mean.unsqueeze(-1) + self.d.unsqueeze(-1)\n",
    "    cov = self.H @ state.cov @ self.H.mT + self.R\n",
    "    \n",
    "    for c in cov: # this is batched and for all timestamps\n",
    "        self.cov_checker.check(c, caller='predict')\n",
    "    \n",
    "    return ListMNormal(mean.squeeze(-1), cov)"
   ]
  },
  {
   "cell_type": "code",
   "execution_count": null,
   "id": "21402787-cf5f-4498-8ff4-fc6d865006a6",
   "metadata": {},
   "outputs": [
    {
     "data": {
      "text/plain": [
       "(torch.Size([2, 10, 4]), torch.Size([2, 10, 4, 4]))"
      ]
     },
     "execution_count": null,
     "metadata": {},
     "output_type": "execute_result"
    }
   ],
   "source": [
    "smoothed_state.mean.shape, smoothed_state.cov.shape"
   ]
  },
  {
   "cell_type": "code",
   "execution_count": null,
   "id": "e0987627-8ccc-4fa5-8ab0-f95d871ba199",
   "metadata": {},
   "outputs": [
    {
     "data": {
      "text/plain": [
       "torch.Size([2, 10, 3, 1])"
      ]
     },
     "execution_count": null,
     "metadata": {},
     "output_type": "execute_result"
    }
   ],
   "source": [
    "(k.H @ smoothed_state.mean.unsqueeze(-1)).shape"
   ]
  },
  {
   "cell_type": "code",
   "execution_count": null,
   "id": "5ac36f65-dde3-45ed-b6f0-e7ed0931f0a7",
   "metadata": {},
   "outputs": [
    {
     "data": {
      "text/plain": [
       "torch.Size([2, 10, 3])"
      ]
     },
     "execution_count": null,
     "metadata": {},
     "output_type": "execute_result"
    }
   ],
   "source": [
    "pred_obs0 = k._obs_from_state(smoothed_state)\n",
    "pred_obs0.mean.shape"
   ]
  },
  {
   "cell_type": "code",
   "execution_count": null,
   "id": "2950683a-cadc-45e2-aed3-639a56e6b324",
   "metadata": {},
   "outputs": [
    {
     "data": {
      "text/plain": [
       "torch.Size([2, 10, 3, 3])"
      ]
     },
     "execution_count": null,
     "metadata": {},
     "output_type": "execute_result"
    }
   ],
   "source": [
    "pred_obs0.cov.shape"
   ]
  },
  {
   "cell_type": "code",
   "execution_count": null,
   "id": "743f6603-1d34-4f00-90d0-0a2f0466423b",
   "metadata": {},
   "outputs": [],
   "source": [
    "#| export\n",
    "@patch\n",
    "def predict(self: KalmanFilter, obs, mask, control, smooth=True):\n",
    "    \"\"\"Predicted observations at all times \"\"\"\n",
    "    state = self.smooth(obs, mask, control) if smooth else self.filter(obs, mask, control)\n",
    "    obs, mask = self._parse_obs(obs, mask)\n",
    "    \n",
    "    pred_obs = self._obs_from_state(state)\n",
    "    pred_mean, pred_std = pred_obs.mean, cov2std(pred_obs.cov)\n",
    "    \n",
    "    if self.use_conditional:\n",
    "        # conditional predictions are slow, do only if some obs are missing \n",
    "        cond_mask = torch.logical_xor(mask.all(-1), mask.any(-1))\n",
    "\n",
    "        # this cannot be batched so returns a list\n",
    "        cond_preds = cond_gaussian_batched(\n",
    "            pred_obs[cond_mask], obs[cond_mask], mask[cond_mask])\n",
    "    \n",
    "        for i, c_pred in enumerate(cond_preds):\n",
    "            m = ~mask[cond_mask][i]\n",
    "            pred_mean[cond_mask][i][m] = c_pred.mean\n",
    "            pred_std [cond_mask][i][m] = cov2std(c_pred.cov)\n",
    "    \n",
    "    return ListNormal(pred_mean, pred_std)"
   ]
  },
  {
   "cell_type": "code",
   "execution_count": null,
   "id": "d8a1d554-5ac8-44ef-b849-00512f68deda",
   "metadata": {},
   "outputs": [],
   "source": [
    "pred = k.predict(data, mask, control)"
   ]
  },
  {
   "cell_type": "code",
   "execution_count": null,
   "id": "b81dcc01-850c-409b-9de2-5a0643bc9f97",
   "metadata": {},
   "outputs": [
    {
     "data": {
      "text/plain": [
       "(torch.Size([2, 10, 3]), torch.Size([2, 10, 3]))"
      ]
     },
     "execution_count": null,
     "metadata": {},
     "output_type": "execute_result"
    }
   ],
   "source": [
    "pred.mean.shape, pred.std.shape"
   ]
  },
  {
   "cell_type": "markdown",
   "id": "c783f1a6-7a9c-4dc6-8788-b119ed310f64",
   "metadata": {},
   "source": [
    "Gradients ..."
   ]
  },
  {
   "cell_type": "code",
   "execution_count": null,
   "id": "9bcf8a74-78e4-40dc-98fc-b33378fcc161",
   "metadata": {},
   "outputs": [],
   "source": [
    "def get_grad_mask(x):\n",
    "    \"filter gradient after sub the masks value with x\"\n",
    "    d = data.clone()\n",
    "    d[~mask] = x\n",
    "    k.predict(data, mask, control).mean.sum().backward(retain_graph=True)\n",
    "    grad = k.R_raw.grad.clone()\n",
    "    k.zero_grad() \n",
    "    return grad"
   ]
  },
  {
   "cell_type": "code",
   "execution_count": null,
   "id": "35cf6cbe-8c4d-41e7-8cc5-994e0c6f1eb3",
   "metadata": {},
   "outputs": [
    {
     "data": {
      "text/plain": [
       "tensor([-1.9622,  2.6291,  6.2310], dtype=torch.float64)"
      ]
     },
     "execution_count": null,
     "metadata": {},
     "output_type": "execute_result"
    }
   ],
   "source": [
    "get_grad_mask(10)"
   ]
  },
  {
   "cell_type": "code",
   "execution_count": null,
   "id": "236be332-4ed5-45f1-84f3-64e181a78040",
   "metadata": {},
   "outputs": [],
   "source": [
    "test_close(get_grad_mask(1), get_grad_mask(10))"
   ]
  },
  {
   "cell_type": "code",
   "execution_count": null,
   "id": "be89b3b8-1ff2-4177-be49-2c06579608b7",
   "metadata": {},
   "outputs": [],
   "source": [
    "@patch\n",
    "def predict_times(self: KalmanFilter, times, obs, mask=None, smooth=True, check_args=None):\n",
    "    \"\"\"Predicted observations at specific times \"\"\"\n",
    "    state = self.smooth(obs, mask, check_args) if smooth else self.filter(obs, mask, check_args)\n",
    "    obs, mask = self._parse_obs(obs, mask)\n",
    "    times = array1d(times)\n",
    "    \n",
    "    n_timesteps = obs.shape[0]\n",
    "    n_features = obs.shape[1] if len(obs.shape) > 1 else 1\n",
    "    \n",
    "    if times.max() > n_timesteps or times.min() < 0:\n",
    "        raise ValueError(f\"provided times range from {times.min()} to {times.max()}, which is outside allowed range : 0 to {n_timesteps}\")\n",
    "\n",
    "    means = torch.empty((times.shape[0], n_features), dtype=obs.dtype, device=obs.device)\n",
    "    stds = torch.empty((times.shape[0], n_features), dtype=obs.dtype, device=obs.device) \n",
    "    for i, t in enumerate(times):\n",
    "        mean, std = self._obs_from_state(\n",
    "            state.mean[t],\n",
    "            state.cov[t],\n",
    "            {'t': t, **check_args} if check_args is not None else None\n",
    "        )\n",
    "        \n",
    "        means[i], stds[i] = _get_cond_pred(ListNormal(mean, std), obs[t], mask[t])\n",
    "    \n",
    "    return ListNormal(means, stds)  "
   ]
  },
  {
   "cell_type": "markdown",
   "id": "edfa3b42-ae74-4b05-adb9-a85a800f64a9",
   "metadata": {},
   "source": [
    "## Additional"
   ]
  },
  {
   "cell_type": "markdown",
   "id": "55f45d53-0047-4247-82da-1e00566cfac6",
   "metadata": {},
   "source": [
    "### Get Info"
   ]
  },
  {
   "cell_type": "code",
   "execution_count": null,
   "id": "216c3dfc-93b7-42cf-96ff-a67158fdd70f",
   "metadata": {},
   "outputs": [
    {
     "data": {
      "text/plain": [
       "Parameter containing:\n",
       "tensor([[0.6627, 0.2116, 0.6291, 0.3670],\n",
       "        [0.2237, 0.0553, 0.2241, 0.4903],\n",
       "        [0.4756, 0.3574, 0.5449, 0.4099]], dtype=torch.float64,\n",
       "       requires_grad=True)"
      ]
     },
     "execution_count": null,
     "metadata": {},
     "output_type": "execute_result"
    }
   ],
   "source": [
    "k.H"
   ]
  },
  {
   "cell_type": "code",
   "execution_count": null,
   "id": "fcedaf90-f76f-4dfa-8ad3-ec0bab7d327c",
   "metadata": {},
   "outputs": [],
   "source": [
    "#| export\n",
    "@patch\n",
    "def get_info(self: KalmanFilter):\n",
    "    out = {}\n",
    "    var_names = ifnone(self.var_names, [f\"y_{i}\" for i in range(self.H.shape[0])])\n",
    "    latent_names = [f\"x_{i}\" for i in range(self.A.shape[0])]\n",
    "    contr_names = ifnone(self.contr_names, [f\"c_{i}\" for i in range(self.B.shape[1])])\n",
    "    out['trans matrix (A)'] = array2df(self.A,    latent_names, latent_names, 'state')\n",
    "    out['trans cov (Q)']    = array2df(self.Q,       latent_names, latent_names, 'state')\n",
    "    out['trans off']        = array2df(self.b,       latent_names, ['offset'],   'state')\n",
    "    out['obs matrix (H)']   = array2df(self.H,      var_names,    latent_names, 'variable')\n",
    "    out['obs cov (R)']      = array2df(self.R,         var_names,    var_names,    'variable')\n",
    "    out['obs off']          = array2df(self.d,         var_names,    ['offset'],   'variable')\n",
    "    out['contr matrix (B)'] = array2df(self.B,    latent_names, contr_names,  'state')\n",
    "    out['init state mean']  = array2df(self.m0, latent_names, ['mean'],     'state')\n",
    "    out['init state cov']   = array2df(self.P0,  latent_names, latent_names, 'state')\n",
    "\n",
    "    return out"
   ]
  },
  {
   "cell_type": "code",
   "execution_count": null,
   "id": "dcaa323f-6717-4ddf-aa09-f472da84703c",
   "metadata": {},
   "outputs": [
    {
     "data": {
      "text/plain": [
       "Parameter containing:\n",
       "tensor([[0.3640, 0.6339, 0.1636],\n",
       "        [0.7750, 0.8999, 0.4475],\n",
       "        [0.2087, 0.9819, 0.7791],\n",
       "        [0.4139, 0.9798, 0.9052]], dtype=torch.float64, requires_grad=True)"
      ]
     },
     "execution_count": null,
     "metadata": {},
     "output_type": "execute_result"
    }
   ],
   "source": [
    "k.B"
   ]
  },
  {
   "cell_type": "code",
   "execution_count": null,
   "id": "77fe929e-84fd-4564-907f-143f7c7101ee",
   "metadata": {},
   "outputs": [
    {
     "data": {
      "text/html": [
       "<p style='font-size: 1.5rem; font-decoration: bold'><p><div style=\"display: flex; column-gap: 20px; flex-wrap: wrap;\" class='table table-striped table-sm'> <div> <p style='font-size: 1.3rem;'>trans matrix (A)</p> <style type=\"text/css\">\n",
       "</style>\n",
       "<table id=\"T_923bd\">\n",
       "  <thead>\n",
       "    <tr>\n",
       "      <th id=\"T_923bd_level0_col0\" class=\"col_heading level0 col0\" >state</th>\n",
       "      <th id=\"T_923bd_level0_col1\" class=\"col_heading level0 col1\" >x_0</th>\n",
       "      <th id=\"T_923bd_level0_col2\" class=\"col_heading level0 col2\" >x_1</th>\n",
       "      <th id=\"T_923bd_level0_col3\" class=\"col_heading level0 col3\" >x_2</th>\n",
       "      <th id=\"T_923bd_level0_col4\" class=\"col_heading level0 col4\" >x_3</th>\n",
       "    </tr>\n",
       "  </thead>\n",
       "  <tbody>\n",
       "    <tr>\n",
       "      <td id=\"T_923bd_row0_col0\" class=\"data row0 col0\" >x_0</td>\n",
       "      <td id=\"T_923bd_row0_col1\" class=\"data row0 col1\" >0.3923</td>\n",
       "      <td id=\"T_923bd_row0_col2\" class=\"data row0 col2\" >0.7703</td>\n",
       "      <td id=\"T_923bd_row0_col3\" class=\"data row0 col3\" >0.7068</td>\n",
       "      <td id=\"T_923bd_row0_col4\" class=\"data row0 col4\" >0.1368</td>\n",
       "    </tr>\n",
       "    <tr>\n",
       "      <td id=\"T_923bd_row1_col0\" class=\"data row1 col0\" >x_1</td>\n",
       "      <td id=\"T_923bd_row1_col1\" class=\"data row1 col1\" >0.6002</td>\n",
       "      <td id=\"T_923bd_row1_col2\" class=\"data row1 col2\" >0.4108</td>\n",
       "      <td id=\"T_923bd_row1_col3\" class=\"data row1 col3\" >0.3458</td>\n",
       "      <td id=\"T_923bd_row1_col4\" class=\"data row1 col4\" >0.6117</td>\n",
       "    </tr>\n",
       "    <tr>\n",
       "      <td id=\"T_923bd_row2_col0\" class=\"data row2 col0\" >x_2</td>\n",
       "      <td id=\"T_923bd_row2_col1\" class=\"data row2 col1\" >0.7857</td>\n",
       "      <td id=\"T_923bd_row2_col2\" class=\"data row2 col2\" >0.1670</td>\n",
       "      <td id=\"T_923bd_row2_col3\" class=\"data row2 col3\" >0.0884</td>\n",
       "      <td id=\"T_923bd_row2_col4\" class=\"data row2 col4\" >0.5066</td>\n",
       "    </tr>\n",
       "    <tr>\n",
       "      <td id=\"T_923bd_row3_col0\" class=\"data row3 col0\" >x_3</td>\n",
       "      <td id=\"T_923bd_row3_col1\" class=\"data row3 col1\" >0.1431</td>\n",
       "      <td id=\"T_923bd_row3_col2\" class=\"data row3 col2\" >0.5090</td>\n",
       "      <td id=\"T_923bd_row3_col3\" class=\"data row3 col3\" >0.9645</td>\n",
       "      <td id=\"T_923bd_row3_col4\" class=\"data row3 col4\" >0.2983</td>\n",
       "    </tr>\n",
       "  </tbody>\n",
       "</table>\n",
       " </div><div> <p style='font-size: 1.3rem;'>trans cov (Q)</p> <style type=\"text/css\">\n",
       "</style>\n",
       "<table id=\"T_f0fea\">\n",
       "  <thead>\n",
       "    <tr>\n",
       "      <th id=\"T_f0fea_level0_col0\" class=\"col_heading level0 col0\" >state</th>\n",
       "      <th id=\"T_f0fea_level0_col1\" class=\"col_heading level0 col1\" >x_0</th>\n",
       "      <th id=\"T_f0fea_level0_col2\" class=\"col_heading level0 col2\" >x_1</th>\n",
       "      <th id=\"T_f0fea_level0_col3\" class=\"col_heading level0 col3\" >x_2</th>\n",
       "      <th id=\"T_f0fea_level0_col4\" class=\"col_heading level0 col4\" >x_3</th>\n",
       "    </tr>\n",
       "  </thead>\n",
       "  <tbody>\n",
       "    <tr>\n",
       "      <td id=\"T_f0fea_row0_col0\" class=\"data row0 col0\" >x_0</td>\n",
       "      <td id=\"T_f0fea_row0_col1\" class=\"data row0 col1\" >1.1591</td>\n",
       "      <td id=\"T_f0fea_row0_col2\" class=\"data row0 col2\" >0.7234</td>\n",
       "      <td id=\"T_f0fea_row0_col3\" class=\"data row0 col3\" >1.4105</td>\n",
       "      <td id=\"T_f0fea_row0_col4\" class=\"data row0 col4\" >0.9115</td>\n",
       "    </tr>\n",
       "    <tr>\n",
       "      <td id=\"T_f0fea_row1_col0\" class=\"data row1 col0\" >x_1</td>\n",
       "      <td id=\"T_f0fea_row1_col1\" class=\"data row1 col1\" >0.7234</td>\n",
       "      <td id=\"T_f0fea_row1_col2\" class=\"data row1 col2\" >0.8544</td>\n",
       "      <td id=\"T_f0fea_row1_col3\" class=\"data row1 col3\" >0.7177</td>\n",
       "      <td id=\"T_f0fea_row1_col4\" class=\"data row1 col4\" >0.5024</td>\n",
       "    </tr>\n",
       "    <tr>\n",
       "      <td id=\"T_f0fea_row2_col0\" class=\"data row2 col0\" >x_2</td>\n",
       "      <td id=\"T_f0fea_row2_col1\" class=\"data row2 col1\" >1.4105</td>\n",
       "      <td id=\"T_f0fea_row2_col2\" class=\"data row2 col2\" >0.7177</td>\n",
       "      <td id=\"T_f0fea_row2_col3\" class=\"data row2 col3\" >1.9741</td>\n",
       "      <td id=\"T_f0fea_row2_col4\" class=\"data row2 col4\" >1.4590</td>\n",
       "    </tr>\n",
       "    <tr>\n",
       "      <td id=\"T_f0fea_row3_col0\" class=\"data row3 col0\" >x_3</td>\n",
       "      <td id=\"T_f0fea_row3_col1\" class=\"data row3 col1\" >0.9115</td>\n",
       "      <td id=\"T_f0fea_row3_col2\" class=\"data row3 col2\" >0.5024</td>\n",
       "      <td id=\"T_f0fea_row3_col3\" class=\"data row3 col3\" >1.4590</td>\n",
       "      <td id=\"T_f0fea_row3_col4\" class=\"data row3 col4\" >1.7778</td>\n",
       "    </tr>\n",
       "  </tbody>\n",
       "</table>\n",
       " </div><div> <p style='font-size: 1.3rem;'>trans off</p> <style type=\"text/css\">\n",
       "</style>\n",
       "<table id=\"T_bfff6\">\n",
       "  <thead>\n",
       "    <tr>\n",
       "      <th id=\"T_bfff6_level0_col0\" class=\"col_heading level0 col0\" >state</th>\n",
       "      <th id=\"T_bfff6_level0_col1\" class=\"col_heading level0 col1\" >offset</th>\n",
       "    </tr>\n",
       "  </thead>\n",
       "  <tbody>\n",
       "    <tr>\n",
       "      <td id=\"T_bfff6_row0_col0\" class=\"data row0 col0\" >x_0</td>\n",
       "      <td id=\"T_bfff6_row0_col1\" class=\"data row0 col1\" >0.6728</td>\n",
       "    </tr>\n",
       "    <tr>\n",
       "      <td id=\"T_bfff6_row1_col0\" class=\"data row1 col0\" >x_1</td>\n",
       "      <td id=\"T_bfff6_row1_col1\" class=\"data row1 col1\" >0.9842</td>\n",
       "    </tr>\n",
       "    <tr>\n",
       "      <td id=\"T_bfff6_row2_col0\" class=\"data row2 col0\" >x_2</td>\n",
       "      <td id=\"T_bfff6_row2_col1\" class=\"data row2 col1\" >0.6946</td>\n",
       "    </tr>\n",
       "    <tr>\n",
       "      <td id=\"T_bfff6_row3_col0\" class=\"data row3 col0\" >x_3</td>\n",
       "      <td id=\"T_bfff6_row3_col1\" class=\"data row3 col1\" >0.0369</td>\n",
       "    </tr>\n",
       "  </tbody>\n",
       "</table>\n",
       " </div><div> <p style='font-size: 1.3rem;'>obs matrix (H)</p> <style type=\"text/css\">\n",
       "</style>\n",
       "<table id=\"T_80933\">\n",
       "  <thead>\n",
       "    <tr>\n",
       "      <th id=\"T_80933_level0_col0\" class=\"col_heading level0 col0\" >variable</th>\n",
       "      <th id=\"T_80933_level0_col1\" class=\"col_heading level0 col1\" >x_0</th>\n",
       "      <th id=\"T_80933_level0_col2\" class=\"col_heading level0 col2\" >x_1</th>\n",
       "      <th id=\"T_80933_level0_col3\" class=\"col_heading level0 col3\" >x_2</th>\n",
       "      <th id=\"T_80933_level0_col4\" class=\"col_heading level0 col4\" >x_3</th>\n",
       "    </tr>\n",
       "  </thead>\n",
       "  <tbody>\n",
       "    <tr>\n",
       "      <td id=\"T_80933_row0_col0\" class=\"data row0 col0\" >y_0</td>\n",
       "      <td id=\"T_80933_row0_col1\" class=\"data row0 col1\" >0.6627</td>\n",
       "      <td id=\"T_80933_row0_col2\" class=\"data row0 col2\" >0.2116</td>\n",
       "      <td id=\"T_80933_row0_col3\" class=\"data row0 col3\" >0.6291</td>\n",
       "      <td id=\"T_80933_row0_col4\" class=\"data row0 col4\" >0.3670</td>\n",
       "    </tr>\n",
       "    <tr>\n",
       "      <td id=\"T_80933_row1_col0\" class=\"data row1 col0\" >y_1</td>\n",
       "      <td id=\"T_80933_row1_col1\" class=\"data row1 col1\" >0.2237</td>\n",
       "      <td id=\"T_80933_row1_col2\" class=\"data row1 col2\" >0.0553</td>\n",
       "      <td id=\"T_80933_row1_col3\" class=\"data row1 col3\" >0.2241</td>\n",
       "      <td id=\"T_80933_row1_col4\" class=\"data row1 col4\" >0.4903</td>\n",
       "    </tr>\n",
       "    <tr>\n",
       "      <td id=\"T_80933_row2_col0\" class=\"data row2 col0\" >y_2</td>\n",
       "      <td id=\"T_80933_row2_col1\" class=\"data row2 col1\" >0.4756</td>\n",
       "      <td id=\"T_80933_row2_col2\" class=\"data row2 col2\" >0.3574</td>\n",
       "      <td id=\"T_80933_row2_col3\" class=\"data row2 col3\" >0.5449</td>\n",
       "      <td id=\"T_80933_row2_col4\" class=\"data row2 col4\" >0.4099</td>\n",
       "    </tr>\n",
       "  </tbody>\n",
       "</table>\n",
       " </div><div> <p style='font-size: 1.3rem;'>obs cov (R)</p> <style type=\"text/css\">\n",
       "</style>\n",
       "<table id=\"T_26e3c\">\n",
       "  <thead>\n",
       "    <tr>\n",
       "      <th id=\"T_26e3c_level0_col0\" class=\"col_heading level0 col0\" >variable</th>\n",
       "      <th id=\"T_26e3c_level0_col1\" class=\"col_heading level0 col1\" >y_0</th>\n",
       "      <th id=\"T_26e3c_level0_col2\" class=\"col_heading level0 col2\" >y_1</th>\n",
       "      <th id=\"T_26e3c_level0_col3\" class=\"col_heading level0 col3\" >y_2</th>\n",
       "    </tr>\n",
       "  </thead>\n",
       "  <tbody>\n",
       "    <tr>\n",
       "      <td id=\"T_26e3c_row0_col0\" class=\"data row0 col0\" >y_0</td>\n",
       "      <td id=\"T_26e3c_row0_col1\" class=\"data row0 col1\" >1.5641</td>\n",
       "      <td id=\"T_26e3c_row0_col2\" class=\"data row0 col2\" >0.0000</td>\n",
       "      <td id=\"T_26e3c_row0_col3\" class=\"data row0 col3\" >0.0000</td>\n",
       "    </tr>\n",
       "    <tr>\n",
       "      <td id=\"T_26e3c_row1_col0\" class=\"data row1 col0\" >y_1</td>\n",
       "      <td id=\"T_26e3c_row1_col1\" class=\"data row1 col1\" >0.0000</td>\n",
       "      <td id=\"T_26e3c_row1_col2\" class=\"data row1 col2\" >1.1859</td>\n",
       "      <td id=\"T_26e3c_row1_col3\" class=\"data row1 col3\" >0.0000</td>\n",
       "    </tr>\n",
       "    <tr>\n",
       "      <td id=\"T_26e3c_row2_col0\" class=\"data row2 col0\" >y_2</td>\n",
       "      <td id=\"T_26e3c_row2_col1\" class=\"data row2 col1\" >0.0000</td>\n",
       "      <td id=\"T_26e3c_row2_col2\" class=\"data row2 col2\" >0.0000</td>\n",
       "      <td id=\"T_26e3c_row2_col3\" class=\"data row2 col3\" >0.6930</td>\n",
       "    </tr>\n",
       "  </tbody>\n",
       "</table>\n",
       " </div><div> <p style='font-size: 1.3rem;'>obs off</p> <style type=\"text/css\">\n",
       "</style>\n",
       "<table id=\"T_0c2bc\">\n",
       "  <thead>\n",
       "    <tr>\n",
       "      <th id=\"T_0c2bc_level0_col0\" class=\"col_heading level0 col0\" >variable</th>\n",
       "      <th id=\"T_0c2bc_level0_col1\" class=\"col_heading level0 col1\" >offset</th>\n",
       "    </tr>\n",
       "  </thead>\n",
       "  <tbody>\n",
       "    <tr>\n",
       "      <td id=\"T_0c2bc_row0_col0\" class=\"data row0 col0\" >y_0</td>\n",
       "      <td id=\"T_0c2bc_row0_col1\" class=\"data row0 col1\" >0.4045</td>\n",
       "    </tr>\n",
       "    <tr>\n",
       "      <td id=\"T_0c2bc_row1_col0\" class=\"data row1 col0\" >y_1</td>\n",
       "      <td id=\"T_0c2bc_row1_col1\" class=\"data row1 col1\" >0.2622</td>\n",
       "    </tr>\n",
       "    <tr>\n",
       "      <td id=\"T_0c2bc_row2_col0\" class=\"data row2 col0\" >y_2</td>\n",
       "      <td id=\"T_0c2bc_row2_col1\" class=\"data row2 col1\" >0.4132</td>\n",
       "    </tr>\n",
       "  </tbody>\n",
       "</table>\n",
       " </div><div> <p style='font-size: 1.3rem;'>contr matrix (B)</p> <style type=\"text/css\">\n",
       "</style>\n",
       "<table id=\"T_1a1f6\">\n",
       "  <thead>\n",
       "    <tr>\n",
       "      <th id=\"T_1a1f6_level0_col0\" class=\"col_heading level0 col0\" >state</th>\n",
       "      <th id=\"T_1a1f6_level0_col1\" class=\"col_heading level0 col1\" >c_0</th>\n",
       "      <th id=\"T_1a1f6_level0_col2\" class=\"col_heading level0 col2\" >c_1</th>\n",
       "      <th id=\"T_1a1f6_level0_col3\" class=\"col_heading level0 col3\" >c_2</th>\n",
       "    </tr>\n",
       "  </thead>\n",
       "  <tbody>\n",
       "    <tr>\n",
       "      <td id=\"T_1a1f6_row0_col0\" class=\"data row0 col0\" >x_0</td>\n",
       "      <td id=\"T_1a1f6_row0_col1\" class=\"data row0 col1\" >0.3640</td>\n",
       "      <td id=\"T_1a1f6_row0_col2\" class=\"data row0 col2\" >0.6339</td>\n",
       "      <td id=\"T_1a1f6_row0_col3\" class=\"data row0 col3\" >0.1636</td>\n",
       "    </tr>\n",
       "    <tr>\n",
       "      <td id=\"T_1a1f6_row1_col0\" class=\"data row1 col0\" >x_1</td>\n",
       "      <td id=\"T_1a1f6_row1_col1\" class=\"data row1 col1\" >0.7750</td>\n",
       "      <td id=\"T_1a1f6_row1_col2\" class=\"data row1 col2\" >0.8999</td>\n",
       "      <td id=\"T_1a1f6_row1_col3\" class=\"data row1 col3\" >0.4475</td>\n",
       "    </tr>\n",
       "    <tr>\n",
       "      <td id=\"T_1a1f6_row2_col0\" class=\"data row2 col0\" >x_2</td>\n",
       "      <td id=\"T_1a1f6_row2_col1\" class=\"data row2 col1\" >0.2087</td>\n",
       "      <td id=\"T_1a1f6_row2_col2\" class=\"data row2 col2\" >0.9819</td>\n",
       "      <td id=\"T_1a1f6_row2_col3\" class=\"data row2 col3\" >0.7791</td>\n",
       "    </tr>\n",
       "    <tr>\n",
       "      <td id=\"T_1a1f6_row3_col0\" class=\"data row3 col0\" >x_3</td>\n",
       "      <td id=\"T_1a1f6_row3_col1\" class=\"data row3 col1\" >0.4139</td>\n",
       "      <td id=\"T_1a1f6_row3_col2\" class=\"data row3 col2\" >0.9798</td>\n",
       "      <td id=\"T_1a1f6_row3_col3\" class=\"data row3 col3\" >0.9052</td>\n",
       "    </tr>\n",
       "  </tbody>\n",
       "</table>\n",
       " </div><div> <p style='font-size: 1.3rem;'>init state mean</p> <style type=\"text/css\">\n",
       "</style>\n",
       "<table id=\"T_31972\">\n",
       "  <thead>\n",
       "    <tr>\n",
       "      <th id=\"T_31972_level0_col0\" class=\"col_heading level0 col0\" >state</th>\n",
       "      <th id=\"T_31972_level0_col1\" class=\"col_heading level0 col1\" >mean</th>\n",
       "    </tr>\n",
       "  </thead>\n",
       "  <tbody>\n",
       "    <tr>\n",
       "      <td id=\"T_31972_row0_col0\" class=\"data row0 col0\" >x_0</td>\n",
       "      <td id=\"T_31972_row0_col1\" class=\"data row0 col1\" >0.3830</td>\n",
       "    </tr>\n",
       "    <tr>\n",
       "      <td id=\"T_31972_row1_col0\" class=\"data row1 col0\" >x_1</td>\n",
       "      <td id=\"T_31972_row1_col1\" class=\"data row1 col1\" >0.4214</td>\n",
       "    </tr>\n",
       "    <tr>\n",
       "      <td id=\"T_31972_row2_col0\" class=\"data row2 col0\" >x_2</td>\n",
       "      <td id=\"T_31972_row2_col1\" class=\"data row2 col1\" >0.5458</td>\n",
       "    </tr>\n",
       "    <tr>\n",
       "      <td id=\"T_31972_row3_col0\" class=\"data row3 col0\" >x_3</td>\n",
       "      <td id=\"T_31972_row3_col1\" class=\"data row3 col1\" >0.5241</td>\n",
       "    </tr>\n",
       "  </tbody>\n",
       "</table>\n",
       " </div><div> <p style='font-size: 1.3rem;'>init state cov</p> <style type=\"text/css\">\n",
       "</style>\n",
       "<table id=\"T_45a51\">\n",
       "  <thead>\n",
       "    <tr>\n",
       "      <th id=\"T_45a51_level0_col0\" class=\"col_heading level0 col0\" >state</th>\n",
       "      <th id=\"T_45a51_level0_col1\" class=\"col_heading level0 col1\" >x_0</th>\n",
       "      <th id=\"T_45a51_level0_col2\" class=\"col_heading level0 col2\" >x_1</th>\n",
       "      <th id=\"T_45a51_level0_col3\" class=\"col_heading level0 col3\" >x_2</th>\n",
       "      <th id=\"T_45a51_level0_col4\" class=\"col_heading level0 col4\" >x_3</th>\n",
       "    </tr>\n",
       "  </thead>\n",
       "  <tbody>\n",
       "    <tr>\n",
       "      <td id=\"T_45a51_row0_col0\" class=\"data row0 col0\" >x_0</td>\n",
       "      <td id=\"T_45a51_row0_col1\" class=\"data row0 col1\" >1.3892</td>\n",
       "      <td id=\"T_45a51_row0_col2\" class=\"data row0 col2\" >0.7181</td>\n",
       "      <td id=\"T_45a51_row0_col3\" class=\"data row0 col3\" >1.6393</td>\n",
       "      <td id=\"T_45a51_row0_col4\" class=\"data row0 col4\" >1.3942</td>\n",
       "    </tr>\n",
       "    <tr>\n",
       "      <td id=\"T_45a51_row1_col0\" class=\"data row1 col0\" >x_1</td>\n",
       "      <td id=\"T_45a51_row1_col1\" class=\"data row1 col1\" >0.7181</td>\n",
       "      <td id=\"T_45a51_row1_col2\" class=\"data row1 col2\" >0.8852</td>\n",
       "      <td id=\"T_45a51_row1_col3\" class=\"data row1 col3\" >0.9592</td>\n",
       "      <td id=\"T_45a51_row1_col4\" class=\"data row1 col4\" >0.8515</td>\n",
       "    </tr>\n",
       "    <tr>\n",
       "      <td id=\"T_45a51_row2_col0\" class=\"data row2 col0\" >x_2</td>\n",
       "      <td id=\"T_45a51_row2_col1\" class=\"data row2 col1\" >1.6393</td>\n",
       "      <td id=\"T_45a51_row2_col2\" class=\"data row2 col2\" >0.9592</td>\n",
       "      <td id=\"T_45a51_row2_col3\" class=\"data row2 col3\" >2.1083</td>\n",
       "      <td id=\"T_45a51_row2_col4\" class=\"data row2 col4\" >1.6580</td>\n",
       "    </tr>\n",
       "    <tr>\n",
       "      <td id=\"T_45a51_row3_col0\" class=\"data row3 col0\" >x_3</td>\n",
       "      <td id=\"T_45a51_row3_col1\" class=\"data row3 col1\" >1.3942</td>\n",
       "      <td id=\"T_45a51_row3_col2\" class=\"data row3 col2\" >0.8515</td>\n",
       "      <td id=\"T_45a51_row3_col3\" class=\"data row3 col3\" >1.6580</td>\n",
       "      <td id=\"T_45a51_row3_col4\" class=\"data row3 col4\" >1.4405</td>\n",
       "    </tr>\n",
       "  </tbody>\n",
       "</table>\n",
       " </div></div>"
      ],
      "text/plain": [
       "<IPython.core.display.HTML object>"
      ]
     },
     "metadata": {},
     "output_type": "display_data"
    }
   ],
   "source": [
    "display_as_row(k.get_info())"
   ]
  },
  {
   "cell_type": "code",
   "execution_count": null,
   "id": "bce86fa8-b17d-4004-a8d8-db1d5e50fff7",
   "metadata": {},
   "outputs": [],
   "source": [
    "#| export\n",
    "@patch\n",
    "def _repr_html_(self: KalmanFilter):\n",
    "    title = f\"Kalman Filter ({self.n_dim_obs} obs, {self.n_dim_state} state, {self.n_dim_contr} contr)\"\n",
    "    return row_dfs(self.get_info(), title , hide_idx=True)"
   ]
  },
  {
   "cell_type": "code",
   "execution_count": null,
   "id": "b2a5b8c2-a939-4b50-a3c4-508516be076d",
   "metadata": {},
   "outputs": [
    {
     "data": {
      "text/html": [
       "<p style='font-size: 1.5rem; font-decoration: bold'>Kalman Filter (3 obs, 4 state, 3 contr)<p><div style=\"display: flex; column-gap: 20px; flex-wrap: wrap;\" class='table table-striped table-sm'> <div> <p style='font-size: 1.3rem;'>trans matrix (A)</p> <style type=\"text/css\">\n",
       "</style>\n",
       "<table id=\"T_2909d\">\n",
       "  <thead>\n",
       "    <tr>\n",
       "      <th id=\"T_2909d_level0_col0\" class=\"col_heading level0 col0\" >state</th>\n",
       "      <th id=\"T_2909d_level0_col1\" class=\"col_heading level0 col1\" >x_0</th>\n",
       "      <th id=\"T_2909d_level0_col2\" class=\"col_heading level0 col2\" >x_1</th>\n",
       "      <th id=\"T_2909d_level0_col3\" class=\"col_heading level0 col3\" >x_2</th>\n",
       "      <th id=\"T_2909d_level0_col4\" class=\"col_heading level0 col4\" >x_3</th>\n",
       "    </tr>\n",
       "  </thead>\n",
       "  <tbody>\n",
       "    <tr>\n",
       "      <td id=\"T_2909d_row0_col0\" class=\"data row0 col0\" >x_0</td>\n",
       "      <td id=\"T_2909d_row0_col1\" class=\"data row0 col1\" >0.3923</td>\n",
       "      <td id=\"T_2909d_row0_col2\" class=\"data row0 col2\" >0.7703</td>\n",
       "      <td id=\"T_2909d_row0_col3\" class=\"data row0 col3\" >0.7068</td>\n",
       "      <td id=\"T_2909d_row0_col4\" class=\"data row0 col4\" >0.1368</td>\n",
       "    </tr>\n",
       "    <tr>\n",
       "      <td id=\"T_2909d_row1_col0\" class=\"data row1 col0\" >x_1</td>\n",
       "      <td id=\"T_2909d_row1_col1\" class=\"data row1 col1\" >0.6002</td>\n",
       "      <td id=\"T_2909d_row1_col2\" class=\"data row1 col2\" >0.4108</td>\n",
       "      <td id=\"T_2909d_row1_col3\" class=\"data row1 col3\" >0.3458</td>\n",
       "      <td id=\"T_2909d_row1_col4\" class=\"data row1 col4\" >0.6117</td>\n",
       "    </tr>\n",
       "    <tr>\n",
       "      <td id=\"T_2909d_row2_col0\" class=\"data row2 col0\" >x_2</td>\n",
       "      <td id=\"T_2909d_row2_col1\" class=\"data row2 col1\" >0.7857</td>\n",
       "      <td id=\"T_2909d_row2_col2\" class=\"data row2 col2\" >0.1670</td>\n",
       "      <td id=\"T_2909d_row2_col3\" class=\"data row2 col3\" >0.0884</td>\n",
       "      <td id=\"T_2909d_row2_col4\" class=\"data row2 col4\" >0.5066</td>\n",
       "    </tr>\n",
       "    <tr>\n",
       "      <td id=\"T_2909d_row3_col0\" class=\"data row3 col0\" >x_3</td>\n",
       "      <td id=\"T_2909d_row3_col1\" class=\"data row3 col1\" >0.1431</td>\n",
       "      <td id=\"T_2909d_row3_col2\" class=\"data row3 col2\" >0.5090</td>\n",
       "      <td id=\"T_2909d_row3_col3\" class=\"data row3 col3\" >0.9645</td>\n",
       "      <td id=\"T_2909d_row3_col4\" class=\"data row3 col4\" >0.2983</td>\n",
       "    </tr>\n",
       "  </tbody>\n",
       "</table>\n",
       " </div><div> <p style='font-size: 1.3rem;'>trans cov (Q)</p> <style type=\"text/css\">\n",
       "</style>\n",
       "<table id=\"T_af0ed\">\n",
       "  <thead>\n",
       "    <tr>\n",
       "      <th id=\"T_af0ed_level0_col0\" class=\"col_heading level0 col0\" >state</th>\n",
       "      <th id=\"T_af0ed_level0_col1\" class=\"col_heading level0 col1\" >x_0</th>\n",
       "      <th id=\"T_af0ed_level0_col2\" class=\"col_heading level0 col2\" >x_1</th>\n",
       "      <th id=\"T_af0ed_level0_col3\" class=\"col_heading level0 col3\" >x_2</th>\n",
       "      <th id=\"T_af0ed_level0_col4\" class=\"col_heading level0 col4\" >x_3</th>\n",
       "    </tr>\n",
       "  </thead>\n",
       "  <tbody>\n",
       "    <tr>\n",
       "      <td id=\"T_af0ed_row0_col0\" class=\"data row0 col0\" >x_0</td>\n",
       "      <td id=\"T_af0ed_row0_col1\" class=\"data row0 col1\" >1.1591</td>\n",
       "      <td id=\"T_af0ed_row0_col2\" class=\"data row0 col2\" >0.7234</td>\n",
       "      <td id=\"T_af0ed_row0_col3\" class=\"data row0 col3\" >1.4105</td>\n",
       "      <td id=\"T_af0ed_row0_col4\" class=\"data row0 col4\" >0.9115</td>\n",
       "    </tr>\n",
       "    <tr>\n",
       "      <td id=\"T_af0ed_row1_col0\" class=\"data row1 col0\" >x_1</td>\n",
       "      <td id=\"T_af0ed_row1_col1\" class=\"data row1 col1\" >0.7234</td>\n",
       "      <td id=\"T_af0ed_row1_col2\" class=\"data row1 col2\" >0.8544</td>\n",
       "      <td id=\"T_af0ed_row1_col3\" class=\"data row1 col3\" >0.7177</td>\n",
       "      <td id=\"T_af0ed_row1_col4\" class=\"data row1 col4\" >0.5024</td>\n",
       "    </tr>\n",
       "    <tr>\n",
       "      <td id=\"T_af0ed_row2_col0\" class=\"data row2 col0\" >x_2</td>\n",
       "      <td id=\"T_af0ed_row2_col1\" class=\"data row2 col1\" >1.4105</td>\n",
       "      <td id=\"T_af0ed_row2_col2\" class=\"data row2 col2\" >0.7177</td>\n",
       "      <td id=\"T_af0ed_row2_col3\" class=\"data row2 col3\" >1.9741</td>\n",
       "      <td id=\"T_af0ed_row2_col4\" class=\"data row2 col4\" >1.4590</td>\n",
       "    </tr>\n",
       "    <tr>\n",
       "      <td id=\"T_af0ed_row3_col0\" class=\"data row3 col0\" >x_3</td>\n",
       "      <td id=\"T_af0ed_row3_col1\" class=\"data row3 col1\" >0.9115</td>\n",
       "      <td id=\"T_af0ed_row3_col2\" class=\"data row3 col2\" >0.5024</td>\n",
       "      <td id=\"T_af0ed_row3_col3\" class=\"data row3 col3\" >1.4590</td>\n",
       "      <td id=\"T_af0ed_row3_col4\" class=\"data row3 col4\" >1.7778</td>\n",
       "    </tr>\n",
       "  </tbody>\n",
       "</table>\n",
       " </div><div> <p style='font-size: 1.3rem;'>trans off</p> <style type=\"text/css\">\n",
       "</style>\n",
       "<table id=\"T_8d4e5\">\n",
       "  <thead>\n",
       "    <tr>\n",
       "      <th id=\"T_8d4e5_level0_col0\" class=\"col_heading level0 col0\" >state</th>\n",
       "      <th id=\"T_8d4e5_level0_col1\" class=\"col_heading level0 col1\" >offset</th>\n",
       "    </tr>\n",
       "  </thead>\n",
       "  <tbody>\n",
       "    <tr>\n",
       "      <td id=\"T_8d4e5_row0_col0\" class=\"data row0 col0\" >x_0</td>\n",
       "      <td id=\"T_8d4e5_row0_col1\" class=\"data row0 col1\" >0.6728</td>\n",
       "    </tr>\n",
       "    <tr>\n",
       "      <td id=\"T_8d4e5_row1_col0\" class=\"data row1 col0\" >x_1</td>\n",
       "      <td id=\"T_8d4e5_row1_col1\" class=\"data row1 col1\" >0.9842</td>\n",
       "    </tr>\n",
       "    <tr>\n",
       "      <td id=\"T_8d4e5_row2_col0\" class=\"data row2 col0\" >x_2</td>\n",
       "      <td id=\"T_8d4e5_row2_col1\" class=\"data row2 col1\" >0.6946</td>\n",
       "    </tr>\n",
       "    <tr>\n",
       "      <td id=\"T_8d4e5_row3_col0\" class=\"data row3 col0\" >x_3</td>\n",
       "      <td id=\"T_8d4e5_row3_col1\" class=\"data row3 col1\" >0.0369</td>\n",
       "    </tr>\n",
       "  </tbody>\n",
       "</table>\n",
       " </div><div> <p style='font-size: 1.3rem;'>obs matrix (H)</p> <style type=\"text/css\">\n",
       "</style>\n",
       "<table id=\"T_a28ed\">\n",
       "  <thead>\n",
       "    <tr>\n",
       "      <th id=\"T_a28ed_level0_col0\" class=\"col_heading level0 col0\" >variable</th>\n",
       "      <th id=\"T_a28ed_level0_col1\" class=\"col_heading level0 col1\" >x_0</th>\n",
       "      <th id=\"T_a28ed_level0_col2\" class=\"col_heading level0 col2\" >x_1</th>\n",
       "      <th id=\"T_a28ed_level0_col3\" class=\"col_heading level0 col3\" >x_2</th>\n",
       "      <th id=\"T_a28ed_level0_col4\" class=\"col_heading level0 col4\" >x_3</th>\n",
       "    </tr>\n",
       "  </thead>\n",
       "  <tbody>\n",
       "    <tr>\n",
       "      <td id=\"T_a28ed_row0_col0\" class=\"data row0 col0\" >y_0</td>\n",
       "      <td id=\"T_a28ed_row0_col1\" class=\"data row0 col1\" >0.6627</td>\n",
       "      <td id=\"T_a28ed_row0_col2\" class=\"data row0 col2\" >0.2116</td>\n",
       "      <td id=\"T_a28ed_row0_col3\" class=\"data row0 col3\" >0.6291</td>\n",
       "      <td id=\"T_a28ed_row0_col4\" class=\"data row0 col4\" >0.3670</td>\n",
       "    </tr>\n",
       "    <tr>\n",
       "      <td id=\"T_a28ed_row1_col0\" class=\"data row1 col0\" >y_1</td>\n",
       "      <td id=\"T_a28ed_row1_col1\" class=\"data row1 col1\" >0.2237</td>\n",
       "      <td id=\"T_a28ed_row1_col2\" class=\"data row1 col2\" >0.0553</td>\n",
       "      <td id=\"T_a28ed_row1_col3\" class=\"data row1 col3\" >0.2241</td>\n",
       "      <td id=\"T_a28ed_row1_col4\" class=\"data row1 col4\" >0.4903</td>\n",
       "    </tr>\n",
       "    <tr>\n",
       "      <td id=\"T_a28ed_row2_col0\" class=\"data row2 col0\" >y_2</td>\n",
       "      <td id=\"T_a28ed_row2_col1\" class=\"data row2 col1\" >0.4756</td>\n",
       "      <td id=\"T_a28ed_row2_col2\" class=\"data row2 col2\" >0.3574</td>\n",
       "      <td id=\"T_a28ed_row2_col3\" class=\"data row2 col3\" >0.5449</td>\n",
       "      <td id=\"T_a28ed_row2_col4\" class=\"data row2 col4\" >0.4099</td>\n",
       "    </tr>\n",
       "  </tbody>\n",
       "</table>\n",
       " </div><div> <p style='font-size: 1.3rem;'>obs cov (R)</p> <style type=\"text/css\">\n",
       "</style>\n",
       "<table id=\"T_031c0\">\n",
       "  <thead>\n",
       "    <tr>\n",
       "      <th id=\"T_031c0_level0_col0\" class=\"col_heading level0 col0\" >variable</th>\n",
       "      <th id=\"T_031c0_level0_col1\" class=\"col_heading level0 col1\" >y_0</th>\n",
       "      <th id=\"T_031c0_level0_col2\" class=\"col_heading level0 col2\" >y_1</th>\n",
       "      <th id=\"T_031c0_level0_col3\" class=\"col_heading level0 col3\" >y_2</th>\n",
       "    </tr>\n",
       "  </thead>\n",
       "  <tbody>\n",
       "    <tr>\n",
       "      <td id=\"T_031c0_row0_col0\" class=\"data row0 col0\" >y_0</td>\n",
       "      <td id=\"T_031c0_row0_col1\" class=\"data row0 col1\" >1.5641</td>\n",
       "      <td id=\"T_031c0_row0_col2\" class=\"data row0 col2\" >0.0000</td>\n",
       "      <td id=\"T_031c0_row0_col3\" class=\"data row0 col3\" >0.0000</td>\n",
       "    </tr>\n",
       "    <tr>\n",
       "      <td id=\"T_031c0_row1_col0\" class=\"data row1 col0\" >y_1</td>\n",
       "      <td id=\"T_031c0_row1_col1\" class=\"data row1 col1\" >0.0000</td>\n",
       "      <td id=\"T_031c0_row1_col2\" class=\"data row1 col2\" >1.1859</td>\n",
       "      <td id=\"T_031c0_row1_col3\" class=\"data row1 col3\" >0.0000</td>\n",
       "    </tr>\n",
       "    <tr>\n",
       "      <td id=\"T_031c0_row2_col0\" class=\"data row2 col0\" >y_2</td>\n",
       "      <td id=\"T_031c0_row2_col1\" class=\"data row2 col1\" >0.0000</td>\n",
       "      <td id=\"T_031c0_row2_col2\" class=\"data row2 col2\" >0.0000</td>\n",
       "      <td id=\"T_031c0_row2_col3\" class=\"data row2 col3\" >0.6930</td>\n",
       "    </tr>\n",
       "  </tbody>\n",
       "</table>\n",
       " </div><div> <p style='font-size: 1.3rem;'>obs off</p> <style type=\"text/css\">\n",
       "</style>\n",
       "<table id=\"T_bebcf\">\n",
       "  <thead>\n",
       "    <tr>\n",
       "      <th id=\"T_bebcf_level0_col0\" class=\"col_heading level0 col0\" >variable</th>\n",
       "      <th id=\"T_bebcf_level0_col1\" class=\"col_heading level0 col1\" >offset</th>\n",
       "    </tr>\n",
       "  </thead>\n",
       "  <tbody>\n",
       "    <tr>\n",
       "      <td id=\"T_bebcf_row0_col0\" class=\"data row0 col0\" >y_0</td>\n",
       "      <td id=\"T_bebcf_row0_col1\" class=\"data row0 col1\" >0.4045</td>\n",
       "    </tr>\n",
       "    <tr>\n",
       "      <td id=\"T_bebcf_row1_col0\" class=\"data row1 col0\" >y_1</td>\n",
       "      <td id=\"T_bebcf_row1_col1\" class=\"data row1 col1\" >0.2622</td>\n",
       "    </tr>\n",
       "    <tr>\n",
       "      <td id=\"T_bebcf_row2_col0\" class=\"data row2 col0\" >y_2</td>\n",
       "      <td id=\"T_bebcf_row2_col1\" class=\"data row2 col1\" >0.4132</td>\n",
       "    </tr>\n",
       "  </tbody>\n",
       "</table>\n",
       " </div><div> <p style='font-size: 1.3rem;'>contr matrix (B)</p> <style type=\"text/css\">\n",
       "</style>\n",
       "<table id=\"T_d5c02\">\n",
       "  <thead>\n",
       "    <tr>\n",
       "      <th id=\"T_d5c02_level0_col0\" class=\"col_heading level0 col0\" >state</th>\n",
       "      <th id=\"T_d5c02_level0_col1\" class=\"col_heading level0 col1\" >c_0</th>\n",
       "      <th id=\"T_d5c02_level0_col2\" class=\"col_heading level0 col2\" >c_1</th>\n",
       "      <th id=\"T_d5c02_level0_col3\" class=\"col_heading level0 col3\" >c_2</th>\n",
       "    </tr>\n",
       "  </thead>\n",
       "  <tbody>\n",
       "    <tr>\n",
       "      <td id=\"T_d5c02_row0_col0\" class=\"data row0 col0\" >x_0</td>\n",
       "      <td id=\"T_d5c02_row0_col1\" class=\"data row0 col1\" >0.3640</td>\n",
       "      <td id=\"T_d5c02_row0_col2\" class=\"data row0 col2\" >0.6339</td>\n",
       "      <td id=\"T_d5c02_row0_col3\" class=\"data row0 col3\" >0.1636</td>\n",
       "    </tr>\n",
       "    <tr>\n",
       "      <td id=\"T_d5c02_row1_col0\" class=\"data row1 col0\" >x_1</td>\n",
       "      <td id=\"T_d5c02_row1_col1\" class=\"data row1 col1\" >0.7750</td>\n",
       "      <td id=\"T_d5c02_row1_col2\" class=\"data row1 col2\" >0.8999</td>\n",
       "      <td id=\"T_d5c02_row1_col3\" class=\"data row1 col3\" >0.4475</td>\n",
       "    </tr>\n",
       "    <tr>\n",
       "      <td id=\"T_d5c02_row2_col0\" class=\"data row2 col0\" >x_2</td>\n",
       "      <td id=\"T_d5c02_row2_col1\" class=\"data row2 col1\" >0.2087</td>\n",
       "      <td id=\"T_d5c02_row2_col2\" class=\"data row2 col2\" >0.9819</td>\n",
       "      <td id=\"T_d5c02_row2_col3\" class=\"data row2 col3\" >0.7791</td>\n",
       "    </tr>\n",
       "    <tr>\n",
       "      <td id=\"T_d5c02_row3_col0\" class=\"data row3 col0\" >x_3</td>\n",
       "      <td id=\"T_d5c02_row3_col1\" class=\"data row3 col1\" >0.4139</td>\n",
       "      <td id=\"T_d5c02_row3_col2\" class=\"data row3 col2\" >0.9798</td>\n",
       "      <td id=\"T_d5c02_row3_col3\" class=\"data row3 col3\" >0.9052</td>\n",
       "    </tr>\n",
       "  </tbody>\n",
       "</table>\n",
       " </div><div> <p style='font-size: 1.3rem;'>init state mean</p> <style type=\"text/css\">\n",
       "</style>\n",
       "<table id=\"T_bee5f\">\n",
       "  <thead>\n",
       "    <tr>\n",
       "      <th id=\"T_bee5f_level0_col0\" class=\"col_heading level0 col0\" >state</th>\n",
       "      <th id=\"T_bee5f_level0_col1\" class=\"col_heading level0 col1\" >mean</th>\n",
       "    </tr>\n",
       "  </thead>\n",
       "  <tbody>\n",
       "    <tr>\n",
       "      <td id=\"T_bee5f_row0_col0\" class=\"data row0 col0\" >x_0</td>\n",
       "      <td id=\"T_bee5f_row0_col1\" class=\"data row0 col1\" >0.3830</td>\n",
       "    </tr>\n",
       "    <tr>\n",
       "      <td id=\"T_bee5f_row1_col0\" class=\"data row1 col0\" >x_1</td>\n",
       "      <td id=\"T_bee5f_row1_col1\" class=\"data row1 col1\" >0.4214</td>\n",
       "    </tr>\n",
       "    <tr>\n",
       "      <td id=\"T_bee5f_row2_col0\" class=\"data row2 col0\" >x_2</td>\n",
       "      <td id=\"T_bee5f_row2_col1\" class=\"data row2 col1\" >0.5458</td>\n",
       "    </tr>\n",
       "    <tr>\n",
       "      <td id=\"T_bee5f_row3_col0\" class=\"data row3 col0\" >x_3</td>\n",
       "      <td id=\"T_bee5f_row3_col1\" class=\"data row3 col1\" >0.5241</td>\n",
       "    </tr>\n",
       "  </tbody>\n",
       "</table>\n",
       " </div><div> <p style='font-size: 1.3rem;'>init state cov</p> <style type=\"text/css\">\n",
       "</style>\n",
       "<table id=\"T_42887\">\n",
       "  <thead>\n",
       "    <tr>\n",
       "      <th id=\"T_42887_level0_col0\" class=\"col_heading level0 col0\" >state</th>\n",
       "      <th id=\"T_42887_level0_col1\" class=\"col_heading level0 col1\" >x_0</th>\n",
       "      <th id=\"T_42887_level0_col2\" class=\"col_heading level0 col2\" >x_1</th>\n",
       "      <th id=\"T_42887_level0_col3\" class=\"col_heading level0 col3\" >x_2</th>\n",
       "      <th id=\"T_42887_level0_col4\" class=\"col_heading level0 col4\" >x_3</th>\n",
       "    </tr>\n",
       "  </thead>\n",
       "  <tbody>\n",
       "    <tr>\n",
       "      <td id=\"T_42887_row0_col0\" class=\"data row0 col0\" >x_0</td>\n",
       "      <td id=\"T_42887_row0_col1\" class=\"data row0 col1\" >1.3892</td>\n",
       "      <td id=\"T_42887_row0_col2\" class=\"data row0 col2\" >0.7181</td>\n",
       "      <td id=\"T_42887_row0_col3\" class=\"data row0 col3\" >1.6393</td>\n",
       "      <td id=\"T_42887_row0_col4\" class=\"data row0 col4\" >1.3942</td>\n",
       "    </tr>\n",
       "    <tr>\n",
       "      <td id=\"T_42887_row1_col0\" class=\"data row1 col0\" >x_1</td>\n",
       "      <td id=\"T_42887_row1_col1\" class=\"data row1 col1\" >0.7181</td>\n",
       "      <td id=\"T_42887_row1_col2\" class=\"data row1 col2\" >0.8852</td>\n",
       "      <td id=\"T_42887_row1_col3\" class=\"data row1 col3\" >0.9592</td>\n",
       "      <td id=\"T_42887_row1_col4\" class=\"data row1 col4\" >0.8515</td>\n",
       "    </tr>\n",
       "    <tr>\n",
       "      <td id=\"T_42887_row2_col0\" class=\"data row2 col0\" >x_2</td>\n",
       "      <td id=\"T_42887_row2_col1\" class=\"data row2 col1\" >1.6393</td>\n",
       "      <td id=\"T_42887_row2_col2\" class=\"data row2 col2\" >0.9592</td>\n",
       "      <td id=\"T_42887_row2_col3\" class=\"data row2 col3\" >2.1083</td>\n",
       "      <td id=\"T_42887_row2_col4\" class=\"data row2 col4\" >1.6580</td>\n",
       "    </tr>\n",
       "    <tr>\n",
       "      <td id=\"T_42887_row3_col0\" class=\"data row3 col0\" >x_3</td>\n",
       "      <td id=\"T_42887_row3_col1\" class=\"data row3 col1\" >1.3942</td>\n",
       "      <td id=\"T_42887_row3_col2\" class=\"data row3 col2\" >0.8515</td>\n",
       "      <td id=\"T_42887_row3_col3\" class=\"data row3 col3\" >1.6580</td>\n",
       "      <td id=\"T_42887_row3_col4\" class=\"data row3 col4\" >1.4405</td>\n",
       "    </tr>\n",
       "  </tbody>\n",
       "</table>\n",
       " </div></div>"
      ],
      "text/plain": [
       "Kalman Filter\n",
       "        N dim obs: 3, N dim state: 4, N dim contr: 3"
      ]
     },
     "execution_count": null,
     "metadata": {},
     "output_type": "execute_result"
    }
   ],
   "source": [
    "k"
   ]
  },
  {
   "cell_type": "markdown",
   "id": "1cafd50f-a16c-4d5e-b80d-9cafae21e069",
   "metadata": {},
   "source": [
    "### Constructors"
   ]
  },
  {
   "cell_type": "markdown",
   "id": "baa68b6a-7e0f-4a33-aa13-a814390ebf3d",
   "metadata": {},
   "source": [
    "#### Simple parameters"
   ]
  },
  {
   "cell_type": "code",
   "execution_count": null,
   "id": "81636a78-9bcf-4d7f-98c6-95e9180fe787",
   "metadata": {},
   "outputs": [],
   "source": [
    "#| export\n",
    "@patch(cls_method=True)\n",
    "def init_simple(cls: KalmanFilter,\n",
    "                n_dim, # n_dim_obs and n_dim_state\n",
    "                dtype=torch.float64):\n",
    "    \"\"\"Simplest version of kalman filter parameters\"\"\"\n",
    "    return cls(\n",
    "        A =     torch.eye(n_dim, dtype=dtype),\n",
    "        b =        torch.zeros(n_dim, dtype=dtype),        \n",
    "        Q =        torch.eye(n_dim, dtype=dtype),        \n",
    "        H =       torch.eye(n_dim, dtype=dtype),\n",
    "        d =          torch.zeros(n_dim, dtype=dtype),          \n",
    "        R =          torch.eye(n_dim, dtype=dtype),            \n",
    "        B =     torch.eye(n_dim, dtype=dtype),\n",
    "        m0 =  torch.zeros(n_dim, dtype=dtype),        \n",
    "        P0 =   torch.eye(n_dim, dtype=dtype),\n",
    "    )"
   ]
  },
  {
   "cell_type": "code",
   "execution_count": null,
   "id": "d8fa3ea9-92f5-4477-b06a-320df4263da9",
   "metadata": {},
   "outputs": [
    {
     "data": {
      "text/plain": [
       "OrderedDict([('trans_matrix',\n",
       "              tensor([[1., 0.],\n",
       "                      [0., 1.]], dtype=torch.float64)),\n",
       "             ('trans_off', tensor([0., 0.], dtype=torch.float64)),\n",
       "             ('trans_cov_raw',\n",
       "              tensor([[1., 0.],\n",
       "                      [0., 1.]], dtype=torch.float64)),\n",
       "             ('contr_matrix',\n",
       "              tensor([[1., 0.],\n",
       "                      [0., 1.]], dtype=torch.float64)),\n",
       "             ('obs_matrix',\n",
       "              tensor([[1., 0.],\n",
       "                      [0., 1.]], dtype=torch.float64)),\n",
       "             ('obs_off', tensor([0., 0.], dtype=torch.float64)),\n",
       "             ('obs_cov_raw', tensor([0., 0.], dtype=torch.float64)),\n",
       "             ('init_state_mean', tensor([0., 0.], dtype=torch.float64)),\n",
       "             ('init_state_cov_raw',\n",
       "              tensor([[1., 0.],\n",
       "                      [0., 1.]], dtype=torch.float64))])"
      ]
     },
     "execution_count": null,
     "metadata": {},
     "output_type": "execute_result"
    }
   ],
   "source": [
    "KalmanFilter.init_simple(2).state_dict()"
   ]
  },
  {
   "cell_type": "markdown",
   "id": "fb60e878-9e22-43b1-90a0-cf16077407e7",
   "metadata": {},
   "source": [
    "#### Local slope"
   ]
  },
  {
   "cell_type": "markdown",
   "id": "b1f67b01-c514-4be0-ba53-febf6645a787",
   "metadata": {},
   "source": [
    "Local slope models are an extentions of local level model that in the state variable keep track of also the slope\n",
    "\n",
    "Given $n$ as the number of dimensions of the observations\n",
    "\n",
    "The transition matrix (`A`) is:\n",
    "\n",
    "$$A = \\left[\\begin{array}{cc}I & I \\\\ 0 & I\\end{array}\\right]$$\n",
    "\n",
    "where:\n",
    "\n",
    "- $I \\in \\mathbb{R}^{n \\times n}$\n",
    "- $A \\in \\mathbb{R}^{2n \\times 2n}$\n",
    "\n",
    "the state $x \\in \\mathbb{R}^{2N \\times 1}$ where the upper half keep track of the level and the lower half of the slope. $A \\in \\mathbb{R}^2N \\times 2N$\n",
    "\n",
    "the observation matrix (`H`) is:\n",
    "\n",
    "$$H = \\left[\\begin{array}{cc}I & 0 \\end{array}\\right]$$\n",
    "\n",
    "For the multivariate case the 1 are replaced with an identiy matrix\n"
   ]
  },
  {
   "cell_type": "markdown",
   "id": "0e54802f-f56f-4fb9-8c1f-68104f98b478",
   "metadata": {},
   "source": [
    "assuming that the control has the same dimensions of the observations then if we are doing a local slope model we have $B \\in \\mathbb{R}^{state \\times contr}$:\n",
    "$$ B = \\begin{bmatrix} -I & I \\\\ 0 & 0 \\end{bmatrix}$$"
   ]
  },
  {
   "cell_type": "code",
   "execution_count": null,
   "id": "979f844f-54ee-404d-998e-e91ab56e6cd9",
   "metadata": {},
   "outputs": [],
   "source": [
    "#| export\n",
    "from torch import hstack, eye, vstack, ones, zeros, tensor\n",
    "from functools import partial\n",
    "from sklearn.decomposition import PCA"
   ]
  },
  {
   "cell_type": "code",
   "execution_count": null,
   "id": "42a6a6a4-afbe-4a36-9ffb-b3fc60377df1",
   "metadata": {},
   "outputs": [],
   "source": [
    "#| exporti\n",
    "def set_dtype(*args, dtype=torch.float64):\n",
    "    return [partial(arg, dtype=dtype) for arg in args] \n",
    "\n",
    "eye, ones, zeros, tensor = set_dtype(eye, ones, zeros, tensor)"
   ]
  },
  {
   "cell_type": "code",
   "execution_count": null,
   "id": "b86efcad-d257-46bd-b2d9-82436e405171",
   "metadata": {},
   "outputs": [],
   "source": [
    "#| export\n",
    "# @delegates(KalmanFilter)\n",
    "@patch(cls_method=True)\n",
    "def init_local_slope_pca(cls: KalmanFilter,\n",
    "                n_dim_obs, # n_dim_obs and n_dim_contr\n",
    "                n_dim_state: int, # n_dim_state\n",
    "                df_pca: pd.DataFrame|None = None, # dataframe for PCA init, None no PCA init\n",
    "                **kwargs\n",
    "            ):\n",
    "    \"\"\"Local Slope + PCA init\"\"\"\n",
    "    if df_pca is not None:\n",
    "        comp = PCA(n_dim_state).fit(df_pca).components_\n",
    "        H = tensor(comp.T) # transform state -> obs\n",
    "        B = tensor(comp) # transform obs -> state\n",
    "    else:\n",
    "        H, B = eye(n_dim_obs), eye(n_dim_obs)\n",
    "        \n",
    "    return cls(\n",
    "        A =     vstack([hstack([eye(n_dim_state),                eye(n_dim_state)]),\n",
    "                                   hstack([zeros(n_dim_state, n_dim_state), eye(n_dim_state)])]),\n",
    "        b =        zeros(n_dim_state * 2),        \n",
    "        Q =        eye(n_dim_state * 2)*.1,        \n",
    "        H =       hstack([H, zeros(n_dim_obs, n_dim_state)]),\n",
    "        d =          zeros(n_dim_obs),          \n",
    "        R =          eye(n_dim_obs)*.01,            \n",
    "        B =     vstack([hstack([-B,                  B]),\n",
    "                                   hstack([ zeros(n_dim_state,n_dim_obs), zeros(n_dim_state, n_dim_obs)])]),\n",
    "        m0 =  zeros(n_dim_state * 2),        \n",
    "        P0 =   eye(n_dim_state * 2) * 3,\n",
    "        **kwargs\n",
    "    ) "
   ]
  },
  {
   "cell_type": "code",
   "execution_count": null,
   "id": "892f9873-ca47-404b-a5f1-855d4c94220b",
   "metadata": {},
   "outputs": [
    {
     "data": {
      "text/plain": [
       "OrderedDict([('trans_matrix',\n",
       "              tensor([[1., 0., 1., 0.],\n",
       "                      [0., 1., 0., 1.],\n",
       "                      [0., 0., 1., 0.],\n",
       "                      [0., 0., 0., 1.]], dtype=torch.float64)),\n",
       "             ('trans_off', tensor([0., 0., 0., 0.], dtype=torch.float64)),\n",
       "             ('trans_cov_raw',\n",
       "              tensor([[0.3162, 0.0000, 0.0000, 0.0000],\n",
       "                      [0.0000, 0.3162, 0.0000, 0.0000],\n",
       "                      [0.0000, 0.0000, 0.3162, 0.0000],\n",
       "                      [0.0000, 0.0000, 0.0000, 0.3162]], dtype=torch.float64)),\n",
       "             ('contr_matrix',\n",
       "              tensor([[-0.4472, -0.8944,  0.4472,  0.8944],\n",
       "                      [-0.8944,  0.4472,  0.8944, -0.4472],\n",
       "                      [ 0.0000,  0.0000,  0.0000,  0.0000],\n",
       "                      [ 0.0000,  0.0000,  0.0000,  0.0000]], dtype=torch.float64)),\n",
       "             ('obs_matrix',\n",
       "              tensor([[ 0.4472,  0.8944,  0.0000,  0.0000],\n",
       "                      [ 0.8944, -0.4472,  0.0000,  0.0000]], dtype=torch.float64)),\n",
       "             ('obs_off', tensor([0., 0.], dtype=torch.float64)),\n",
       "             ('obs_cov_raw', tensor([-4.6052, -4.6052], dtype=torch.float64)),\n",
       "             ('init_state_mean',\n",
       "              tensor([0., 0., 0., 0.], dtype=torch.float64)),\n",
       "             ('init_state_cov_raw',\n",
       "              tensor([[1.7321, 0.0000, 0.0000, 0.0000],\n",
       "                      [0.0000, 1.7321, 0.0000, 0.0000],\n",
       "                      [0.0000, 0.0000, 1.7321, 0.0000],\n",
       "                      [0.0000, 0.0000, 0.0000, 1.7321]], dtype=torch.float64))])"
      ]
     },
     "execution_count": null,
     "metadata": {},
     "output_type": "execute_result"
    }
   ],
   "source": [
    "KalmanFilter.init_local_slope_pca(2,2,pd.DataFrame([[1,2], [2,4]])).state_dict()"
   ]
  },
  {
   "cell_type": "markdown",
   "id": "0fdd2ea0-ff4e-4d2f-add0-81120b131cf3",
   "metadata": {},
   "source": [
    "## Export"
   ]
  },
  {
   "cell_type": "code",
   "execution_count": null,
   "id": "12c41b65-9eb8-4d70-b4fc-05113783e636",
   "metadata": {},
   "outputs": [],
   "source": [
    "#| hide\n",
    "from nbdev import nbdev_export\n",
    "nbdev_export()"
   ]
  }
 ],
 "metadata": {
  "kernelspec": {
   "display_name": "data_science",
   "language": "python",
   "name": "data_science"
  },
  "widgets": {
   "application/vnd.jupyter.widget-state+json": {
    "state": {},
    "version_major": 2,
    "version_minor": 0
   }
  }
 },
 "nbformat": 4,
 "nbformat_minor": 5
}
