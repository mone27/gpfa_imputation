{
 "cells": [
  {
   "cell_type": "markdown",
   "id": "22e19739-7ce6-4689-8f05-5391807270f2",
   "metadata": {},
   "source": [
    "# Kalman Filter\n",
    "> Implementation of Kalman filters using pytorch and parameter optimizations with gradient descend"
   ]
  },
  {
   "cell_type": "code",
   "execution_count": null,
   "id": "33b5e640-1b40-4822-8912-f6aef392b22f",
   "metadata": {},
   "outputs": [],
   "source": [
    "#| hide\n",
    "%load_ext autoreload\n",
    "%autoreload 2"
   ]
  },
  {
   "cell_type": "code",
   "execution_count": null,
   "id": "378ab6cd-754e-4199-a102-c7a3109c6c78",
   "metadata": {},
   "outputs": [],
   "source": [
    "#| hide\n",
    "#| default_exp kalman.filter"
   ]
  },
  {
   "cell_type": "code",
   "execution_count": null,
   "id": "c89a8e7f-95e3-4c02-9716-948d5e0dcfca",
   "metadata": {},
   "outputs": [],
   "source": [
    "#| export\n",
    "from fastcore.test import *\n",
    "from fastcore.basics import *\n",
    "from meteo_imp.utils import *\n",
    "from meteo_imp.gaussian import *\n",
    "from meteo_imp.data_preparation import MeteoDataTest\n",
    "from typing import *\n",
    "from functools import partial\n",
    "\n",
    "import numpy as np\n",
    "import pandas as pd\n",
    "import torch\n",
    "from torch import Tensor\n",
    "from torch.distributions import MultivariateNormal"
   ]
  },
  {
   "cell_type": "markdown",
   "id": "ce900cd1-288d-4215-b317-d815f2850215",
   "metadata": {},
   "source": [
    "## Introduction\n",
    "\n",
    "The models uses a latent state variable $x$ that is modelled over time, to impute gaps in $y$\n",
    "\n",
    "The assumption of the model is that the state variable at time $x_t$ depends only on the last state $x_{t-1}$ and not on the previous states.\n",
    "\n",
    "### Equations\n",
    "\n",
    "The equations of the model are:\n",
    "\n",
    "$$\\begin{align} p(x_t | x_{t-1}) & = \\mathcal{N}(Ax_{t-1} + b, Q) \\\\\n",
    "p(y_t | x_t) & = \\mathcal{N}(Hx_t + d, R) \\end{align}$$\n",
    "\n",
    "\n",
    "where:\n",
    "\n",
    "- $A$ is the `trans_matrix`\n",
    "- $b$ is the `trans_offset`\n",
    "- $Q$ is the `trans_cov`\n",
    "- $H$ is the `obs_trans` \n",
    "- $d$ is the `obs_off`\n",
    "- $R$ is the `obs_cov`\n",
    "\n",
    "in addition the model has also the parameters of the initial state that are used to initialize the filter:\n",
    "\n",
    "- `init_state_mean`\n",
    "- `init_state_cov`\n",
    "\n",
    "The Kalman filter has 3 steps:\n",
    "\n",
    "- filter (updating the state at time t with observations till time t-1)\n",
    "- update (update the state at time t using the observation at time t)\n",
    "- smooth (update the state using the observations at time t+1)\n",
    "\n",
    "In case of missing data the update step is skipped.\n",
    "\n",
    "After smoothing the missing data at time t ($y_t$) can be imputed from the state ($x_t$) using this formula:\n",
    "$$p(y_t|x_t) = \\mathcal{N}(Hx_t + d, R + HP^s_tH^T)$$"
   ]
  },
  {
   "cell_type": "markdown",
   "id": "6cab259c-2315-4019-bb1e-61f3b1504bd5",
   "metadata": {},
   "source": [
    "The Kalman Filter is an algorithm designed to estimate $P(x_t | y_{0:t})$.  As all state transitions and obss are linear with Gaussian distributed noise, these distributions can be represented exactly as Gaussian distributions with mean `filt_state_means[t]` and covs `filt_state_covs[t]`.\n",
    "Similarly, the Kalman Smoother is an algorithm designed to estimate $P(x_t | y_{0:t-1})$\n",
    "\n"
   ]
  },
  {
   "cell_type": "markdown",
   "id": "68d33ff3-5e3e-40ad-b21c-71d2358a7d7b",
   "metadata": {},
   "source": [
    "## Main class"
   ]
  },
  {
   "cell_type": "markdown",
   "id": "57ad321a-3bae-495e-befb-86b16f1d146f",
   "metadata": {},
   "source": [
    "TODO: fill nans with 0 for all data"
   ]
  },
  {
   "cell_type": "code",
   "execution_count": null,
   "id": "4768434a-a51c-48a3-8813-afd59949ef51",
   "metadata": {},
   "outputs": [],
   "source": [
    "#| export\n",
    "class KalmanFilter(torch.nn.Module):\n",
    "    \"\"\"Base class for Kalman Filter and Smoother using PyTorch\"\"\"\n",
    "    def __init__(self,\n",
    "            trans_matrix: Tensor,                    # [n_dim_state,n_dim_state] $A$, state transition matrix \n",
    "            obs_matrix: Tensor,                      # [n_dim_obs, n_dim_state] $H$, observation matrix\n",
    "            contr_matrix: Tensor,                    # [n_dim_state, n_dim_contr] $B$ control matrix\n",
    "            trans_cov: Tensor,                       # [n_dim_state, n_dim_state] $Q$, state trans covariance matrix\n",
    "            obs_cov: Tensor,                         # [n_dim_obs, n_dim_obs] $R$, observations covariance matrix\n",
    "            trans_off: Tensor,                       # [n_dim_state] $b$, state transition offset\n",
    "            obs_off: Tensor,                         # [n_dim_obs] $d$, observations offset\n",
    "            init_state_mean: Tensor,                 # [n_dim_state] $\\mu_0$\n",
    "            init_state_cov: Tensor,                  # [n_dim_state, n_dim_state] $\\Sigma_0$\n",
    "            n_dim_state: int = None,                 # Number of dimensions for state - defaults to 1 if cannot be infered from parameters\n",
    "            n_dim_obs: int = None,                   # Number of dimensions for observations - defaults to 1 if cannot be infered from parameters\n",
    "            var_names: Iterable[str]|None = None,    # Names of variables for printing \n",
    "            contr_names: Iterable[str]|None = None,  # Names of control variables for printing\n",
    "            cov_checker: CheckPosDef = CheckPosDef() # Check covariance at every step\n",
    "                ):\n",
    "        \n",
    "        super().__init__()\n",
    "        store_attr(\"var_names, contr_names\")\n",
    "        # check parameters are consistent\n",
    "        self.n_dim_state = determine_dimensionality(\n",
    "            [(trans_matrix, array2d, -2),\n",
    "             (trans_off, array1d, -1),\n",
    "             (trans_cov, array2d, -2),\n",
    "             (init_state_mean, array1d, -1),\n",
    "             (init_state_cov, array2d, -2),\n",
    "             (obs_matrix, array2d, -1)],\n",
    "            n_dim_state\n",
    "        )\n",
    "        self.n_dim_obs = determine_dimensionality(\n",
    "            [(obs_matrix, array2d, -2),\n",
    "             (obs_off, array1d, -1),\n",
    "             (obs_cov, array2d, -2)],\n",
    "            n_dim_obs\n",
    "        )\n",
    "        \n",
    "        self.n_dim_contr = determine_dimensionality([(contr_matrix, array2d, -1)], None)\n",
    "        \n",
    "        params = {\n",
    "        #name               value             constraint\n",
    "        'trans_matrix':     [trans_matrix,    None        ],\n",
    "        'trans_off':        [trans_off,       None        ],\n",
    "        'trans_cov':        [trans_cov,       PosDef()    ],\n",
    "        'contr_matrix':     [contr_matrix,    None        ],\n",
    "        'obs_matrix':       [obs_matrix,      None        ],\n",
    "        'obs_off':          [obs_off,         None        ],\n",
    "        'obs_cov':          [obs_cov,         DiagPosDef()],\n",
    "        'init_state_mean':  [init_state_mean, None        ],\n",
    "        'init_state_cov':   [init_state_cov,  PosDef()    ],\n",
    "        }\n",
    "        self._init_params(params)\n",
    "        \n",
    "        self.cov_checker = cov_checker\n",
    "        \n",
    "    def _init_params(self, params):\n",
    "        for name, (value, constraint) in params.items():\n",
    "            if constraint is not None:\n",
    "                name, value = self._init_constraint(name, value, constraint)\n",
    "            self._init_param(name, value, train=True)    \n",
    "    \n",
    "    def _init_param(self, param_name, value, train):\n",
    "        self.register_parameter(param_name, torch.nn.Parameter(value, requires_grad=train))\n",
    "    \n",
    "    ### === Constraints utils\n",
    "    def _init_constraint(self, param_name, value, constraint):\n",
    "        name = param_name + \"_raw\"\n",
    "        value = constraint.inverse_transform(value)\n",
    "        setattr(self, param_name + \"_constraint\", constraint)\n",
    "        return name, value\n",
    "    \n",
    "    def _get_constraint(self, param_name):\n",
    "        constraint = getattr(self, param_name + \"_constraint\")\n",
    "        raw_value = getattr(self, param_name + \"_raw\")\n",
    "        return constraint.transform(raw_value)\n",
    "    \n",
    "    def _set_constraint(self, param_name, value, train=True):\n",
    "        constraint = getattr(self, param_name + \"_constraint\")\n",
    "        raw_value = constraint.inverse_transform(value)\n",
    "        self._init_param(param_name + \"_raw\", raw_value, train)\n",
    "    \n",
    "    ### === Convenience functions to get and set parameters that have a constraint\n",
    "    @property\n",
    "    def trans_cov(self): return self._get_constraint('trans_cov')\n",
    "    @trans_cov.setter\n",
    "    def trans_cov(self, value): return self._set_constraint('trans_cov', value)\n",
    "\n",
    "    @property\n",
    "    def obs_cov(self): return self._get_constraint('obs_cov')\n",
    "    @obs_cov.setter\n",
    "    def obs_cov(self, value): return self._set_constraint('obs_cov', value)\n",
    "    \n",
    "    @property\n",
    "    def init_state_cov(self): return self._get_constraint('init_state_cov')\n",
    "    @init_state_cov.setter\n",
    "    def init_state_cov(self, value): return self._set_constraint('init_state_cov', value)\n",
    "    \n",
    "    \n",
    "    ### === Utility Func    \n",
    "    def _parse_obs(self, obs, mask=None):\n",
    "        \"\"\"maybe get mask from `nan`\"\"\"\n",
    "        if mask is None: mask = ~torch.isnan(obs)\n",
    "        # TODO incorrect support for 2d input!!!!!!\n",
    "        assert obs.dim() == 3\n",
    "        obs, mask = torch.atleast_3d(obs), torch.atleast_3d(mask)\n",
    "        return obs, mask\n",
    "    \n",
    "    def __repr__(self):\n",
    "        return f\"\"\"Kalman Filter\n",
    "        N dim obs: {self.n_dim_obs}, N dim state: {self.n_dim_state}, N dim contr: {self.n_dim_contr}\"\"\""
   ]
  },
  {
   "cell_type": "markdown",
   "id": "29f90bd9-3d5e-42b7-8730-8e08f40309c6",
   "metadata": {},
   "source": [
    "## Constructors"
   ]
  },
  {
   "cell_type": "markdown",
   "id": "eb5af4ff-9ddb-4558-9751-4541c50a682a",
   "metadata": {},
   "source": [
    "Giving all the parameters manually to the `KalmanFilter` init method is not convenient, hence we are having some methods that help initize the class"
   ]
  },
  {
   "cell_type": "markdown",
   "id": "b2aaf4c0-f7ad-4456-84dd-0e9350dcfe49",
   "metadata": {},
   "source": [
    "### Random parameters"
   ]
  },
  {
   "cell_type": "code",
   "execution_count": null,
   "id": "8d0ca6d4-7547-4557-bc83-4f70500a78e8",
   "metadata": {},
   "outputs": [],
   "source": [
    "#| export\n",
    "@patch(cls_method=True)\n",
    "def init_random(cls: KalmanFilter, n_dim_obs, n_dim_state, n_dim_contr, dtype=torch.float32, **kwargs):\n",
    "    \"\"\"kalman filter with random parameters\"\"\"\n",
    "    params = {\n",
    "        'trans_matrix':    torch.rand(n_dim_state, n_dim_state, dtype=dtype),\n",
    "        'trans_off':       torch.rand(n_dim_state, dtype=dtype),        \n",
    "        'trans_cov':       to_posdef(torch.rand(n_dim_state, n_dim_state, dtype=dtype)),        \n",
    "        'contr_matrix':    torch.rand(n_dim_state, n_dim_contr, dtype=dtype),\n",
    "        'obs_matrix':      torch.rand(n_dim_obs, n_dim_state, dtype=dtype),\n",
    "        'obs_off':         torch.rand(n_dim_obs, dtype=dtype),          \n",
    "        'obs_cov':         to_posdef(torch.rand(n_dim_obs, n_dim_obs, dtype=dtype)),            \n",
    "        'init_state_mean': torch.rand(n_dim_state, dtype=dtype),        \n",
    "        'init_state_cov':  to_posdef(torch.rand(n_dim_state, n_dim_state, dtype=dtype)),\n",
    "    } \n",
    "    return cls(**params, **kwargs) \n",
    "        "
   ]
  },
  {
   "cell_type": "code",
   "execution_count": null,
   "id": "86fe692e-2586-4c0f-a4b0-d6009d3a14c3",
   "metadata": {},
   "outputs": [
    {
     "data": {
      "text/plain": [
       "Kalman Filter\n",
       "        N dim obs: 3, N dim state: 4, N dim contr: 3"
      ]
     },
     "execution_count": null,
     "metadata": {},
     "output_type": "execute_result"
    }
   ],
   "source": [
    "k = KalmanFilter.init_random(3,4, 3, dtype=torch.float64)\n",
    "k"
   ]
  },
  {
   "cell_type": "code",
   "execution_count": null,
   "id": "1a04324e-6a7f-4744-8113-a2d61c798397",
   "metadata": {},
   "outputs": [
    {
     "data": {
      "text/plain": [
       "tensor([[0.7817, 0.6556, 0.5306, 0.8167],\n",
       "        [0.6556, 0.6433, 0.6856, 0.6853],\n",
       "        [0.5306, 0.6856, 1.1192, 0.5465],\n",
       "        [0.8167, 0.6853, 0.5465, 0.8930]], dtype=torch.float64,\n",
       "       grad_fn=<AddBackward0>)"
      ]
     },
     "execution_count": null,
     "metadata": {},
     "output_type": "execute_result"
    }
   ],
   "source": [
    "k.init_state_cov"
   ]
  },
  {
   "cell_type": "markdown",
   "id": "93f416ff-a54e-4b29-99f7-fc04c3500285",
   "metadata": {},
   "source": [
    "check that assigment works :)"
   ]
  },
  {
   "cell_type": "code",
   "execution_count": null,
   "id": "d6aff8c3-a5bb-4911-a792-b28e54ff88ab",
   "metadata": {},
   "outputs": [],
   "source": [
    "k.init_state_cov = to_posdef(torch.rand(4, 4, dtype=torch.float64))"
   ]
  },
  {
   "cell_type": "code",
   "execution_count": null,
   "id": "d5a5e4bf-3989-4986-8718-6864db9f4cbe",
   "metadata": {},
   "outputs": [
    {
     "data": {
      "text/plain": [
       "Parameter containing:\n",
       "tensor([[0.9359, 0.0000, 0.0000, 0.0000],\n",
       "        [0.8074, 0.5687, 0.0000, 0.0000],\n",
       "        [0.5154, 0.5700, 0.7047, 0.0000],\n",
       "        [0.7349, 0.1574, 0.1750, 0.3656]], dtype=torch.float64,\n",
       "       requires_grad=True)"
      ]
     },
     "execution_count": null,
     "metadata": {},
     "output_type": "execute_result"
    }
   ],
   "source": [
    "k.init_state_cov_raw"
   ]
  },
  {
   "cell_type": "code",
   "execution_count": null,
   "id": "3aedc286-3762-4382-96b9-7a3105170ef5",
   "metadata": {},
   "outputs": [
    {
     "data": {
      "text/plain": [
       "[('trans_matrix',\n",
       "  Parameter containing:\n",
       "  tensor([[0.6023, 0.3413, 0.3698, 0.6603],\n",
       "          [0.6889, 0.2815, 0.5281, 0.8140],\n",
       "          [0.2740, 0.7634, 0.2004, 0.6965],\n",
       "          [0.8038, 0.2749, 0.6018, 0.9625]], dtype=torch.float64,\n",
       "         requires_grad=True)),\n",
       " ('trans_off',\n",
       "  Parameter containing:\n",
       "  tensor([0.0022, 0.9561, 0.7751, 0.1734], dtype=torch.float64,\n",
       "         requires_grad=True)),\n",
       " ('trans_cov_raw',\n",
       "  Parameter containing:\n",
       "  tensor([[ 1.4683,  0.0000,  0.0000,  0.0000],\n",
       "          [ 0.9920,  0.2792,  0.0000,  0.0000],\n",
       "          [ 0.8064, -0.0434,  0.2780,  0.0000],\n",
       "          [ 0.4284,  0.3965,  0.1591,  0.0303]], dtype=torch.float64,\n",
       "         requires_grad=True)),\n",
       " ('contr_matrix',\n",
       "  Parameter containing:\n",
       "  tensor([[2.6977e-01, 7.9453e-01, 1.6282e-01],\n",
       "          [2.3017e-01, 6.1964e-01, 4.0785e-01],\n",
       "          [5.3003e-01, 4.5534e-01, 4.3027e-01],\n",
       "          [7.5926e-01, 2.3556e-04, 1.8805e-01]], dtype=torch.float64,\n",
       "         requires_grad=True)),\n",
       " ('obs_matrix',\n",
       "  Parameter containing:\n",
       "  tensor([[0.5533, 0.3582, 0.8828, 0.3156],\n",
       "          [0.1210, 0.6346, 0.0657, 0.3273],\n",
       "          [0.4661, 0.8703, 0.4889, 0.6028]], dtype=torch.float64,\n",
       "         requires_grad=True)),\n",
       " ('obs_off',\n",
       "  Parameter containing:\n",
       "  tensor([0.4648, 0.9363, 0.8193], dtype=torch.float64, requires_grad=True)),\n",
       " ('obs_cov_raw',\n",
       "  Parameter containing:\n",
       "  tensor([-0.5906, -0.0276,  0.4017], dtype=torch.float64, requires_grad=True)),\n",
       " ('init_state_mean',\n",
       "  Parameter containing:\n",
       "  tensor([0.7244, 0.6438, 0.9570, 0.8085], dtype=torch.float64,\n",
       "         requires_grad=True)),\n",
       " ('init_state_cov_raw',\n",
       "  Parameter containing:\n",
       "  tensor([[0.9359, 0.0000, 0.0000, 0.0000],\n",
       "          [0.8074, 0.5687, 0.0000, 0.0000],\n",
       "          [0.5154, 0.5700, 0.7047, 0.0000],\n",
       "          [0.7349, 0.1574, 0.1750, 0.3656]], dtype=torch.float64,\n",
       "         requires_grad=True))]"
      ]
     },
     "execution_count": null,
     "metadata": {},
     "output_type": "execute_result"
    }
   ],
   "source": [
    "list(k.named_parameters())"
   ]
  },
  {
   "cell_type": "markdown",
   "id": "68162da7-0e27-4771-90dd-fe3eede49aaa",
   "metadata": {},
   "source": [
    "### Test data"
   ]
  },
  {
   "cell_type": "code",
   "execution_count": null,
   "id": "e8053cda-a75e-422e-866c-12edd329561f",
   "metadata": {},
   "outputs": [],
   "source": [
    "#| exporti\n",
    "def get_test_data(n_obs = 10, n_dim_obs=3, n_dim_contr = 3, p_missing=.3, bs=2, dtype=torch.float32, device='cpu'):\n",
    "    data = torch.rand(bs, n_obs, n_dim_obs, dtype=dtype, device=device)\n",
    "    mask = torch.rand(bs, n_obs, n_dim_obs, device=device) > p_missing\n",
    "    control = torch.rand(bs, n_obs, n_dim_contr, dtype=dtype, device=device)\n",
    "    data[~mask] = torch.nan # ensure that the missing data cannot be used\n",
    "    return data, mask, control"
   ]
  },
  {
   "cell_type": "code",
   "execution_count": null,
   "id": "f96a5d04-10b9-47bb-95d0-533ee11344cb",
   "metadata": {},
   "outputs": [
    {
     "data": {
      "text/html": [
       "<div style=\"display: flex; column-gap: 20px; flex-wrap: wrap;\" class='table table-striped table-sm'> <div><p style='font-size: 1.2rem;'>data</p> <pre>tensor([[[0.8775,    nan,    nan],\n",
       "         [0.6706,    nan, 0.9272],\n",
       "         [   nan, 0.4967,    nan],\n",
       "         [   nan,    nan,    nan],\n",
       "         [   nan,    nan, 0.4760],\n",
       "         [0.7606, 0.7759, 0.5243],\n",
       "         [0.3714, 0.0426, 0.2343],\n",
       "         [0.9991, 0.1775,    nan],\n",
       "         [0.6734,    nan, 0.6468],\n",
       "         [0.5825, 0.4599, 0.7960]],\n",
       "\n",
       "        [[0.9038, 0.9735, 0.6428],\n",
       "         [0.3725, 0.2052,    nan],\n",
       "         [0.4448, 0.5775, 0.7237],\n",
       "         [0.5927,    nan, 0.6441],\n",
       "         [   nan, 0.9132, 0.0329],\n",
       "         [0.4856, 0.9927, 0.5895],\n",
       "         [0.2611, 0.9413, 0.1371],\n",
       "         [0.8726, 0.5590, 0.8451],\n",
       "         [0.1253, 0.9434, 0.0462],\n",
       "         [0.2360, 0.0239, 0.8950]]], dtype=torch.float64)</pre> </div><div><p style='font-size: 1.2rem;'>mask</p> <pre>tensor([[[ True, False, False],\n",
       "         [ True, False,  True],\n",
       "         [False,  True, False],\n",
       "         [False, False, False],\n",
       "         [False, False,  True],\n",
       "         [ True,  True,  True],\n",
       "         [ True,  True,  True],\n",
       "         [ True,  True, False],\n",
       "         [ True, False,  True],\n",
       "         [ True,  True,  True]],\n",
       "\n",
       "        [[ True,  True,  True],\n",
       "         [ True,  True, False],\n",
       "         [ True,  True,  True],\n",
       "         [ True, False,  True],\n",
       "         [False,  True,  True],\n",
       "         [ True,  True,  True],\n",
       "         [ True,  True,  True],\n",
       "         [ True,  True,  True],\n",
       "         [ True,  True,  True],\n",
       "         [ True,  True,  True]]])</pre> </div><div><p style='font-size: 1.2rem;'>control</p> <pre>tensor([[[0.9201, 0.6883, 0.5342],\n",
       "         [0.7847, 0.3137, 0.1778],\n",
       "         [0.5838, 0.9799, 0.3611],\n",
       "         [0.3155, 0.7475, 0.5450],\n",
       "         [0.5641, 0.2493, 0.8323],\n",
       "         [0.9723, 0.1883, 0.3605],\n",
       "         [0.5344, 0.3443, 0.7696],\n",
       "         [0.3410, 0.7553, 0.3177],\n",
       "         [0.0315, 0.5209, 0.6514],\n",
       "         [0.3131, 0.4510, 0.3550]],\n",
       "\n",
       "        [[0.4790, 0.0676, 0.3606],\n",
       "         [0.7299, 0.6713, 0.3134],\n",
       "         [0.7460, 0.1291, 0.4653],\n",
       "         [0.5693, 0.9906, 0.8288],\n",
       "         [0.9039, 0.5240, 0.6277],\n",
       "         [0.3574, 0.0076, 0.6530],\n",
       "         [0.8667, 0.9368, 0.8667],\n",
       "         [0.6749, 0.3526, 0.6618],\n",
       "         [0.0837, 0.7188, 0.7247],\n",
       "         [0.3211, 0.4898, 0.9030]]], dtype=torch.float64)</pre> </div></div>"
      ],
      "text/plain": [
       "<IPython.core.display.HTML object>"
      ]
     },
     "metadata": {},
     "output_type": "display_data"
    }
   ],
   "source": [
    "reset_seed()\n",
    "data, mask, control = get_test_data(dtype=torch.float64)\n",
    "show_as_row(data, mask, control)"
   ]
  },
  {
   "cell_type": "markdown",
   "id": "82b38261-acb1-45f5-a12b-7668b5f78bfb",
   "metadata": {},
   "source": [
    "## Filter"
   ]
  },
  {
   "cell_type": "markdown",
   "id": "a7ca368e-9a56-46b2-bbcb-42e561107a88",
   "metadata": {},
   "source": [
    "### Filter predict"
   ]
  },
  {
   "cell_type": "markdown",
   "id": "282a138c-0eab-4e6e-8847-274fe2bcb874",
   "metadata": {},
   "source": [
    "Probability of state at time `t` given state a time `t-1` \n",
    "\n",
    "$p(x_t) = \\mathcal{N}(x_t; m_t^-, P_t^-)$ where:\n",
    "\n",
    "- predicted state mean: $m_t^- = Am_{t-1} + B c_t + b$  \n",
    "\n",
    "- predicted state covariance: $P_t^- = AP_{t-1}A^T + Q$"
   ]
  },
  {
   "cell_type": "code",
   "execution_count": null,
   "id": "71bea8fe-76a2-4367-82ac-965a15399325",
   "metadata": {},
   "outputs": [],
   "source": [
    "#| export\n",
    "def unsqueeze_iter(*args, dim): return list(map(partial(torch.unsqueeze, dim=dim), args))\n",
    "unsqueeze_first = partial(unsqueeze_iter, dim=0)\n",
    "unsqueeze_last = partial(unsqueeze_iter, dim=-1)"
   ]
  },
  {
   "cell_type": "code",
   "execution_count": null,
   "id": "935e06ec-05cf-4521-ad9d-26f3be41eb1c",
   "metadata": {},
   "outputs": [],
   "source": [
    "#| export\n",
    "from datetime import datetime\n",
    "def _filter_predict(trans_matrix,\n",
    "                    trans_cov,\n",
    "                    trans_off,\n",
    "                    contr_matrix, #[n_dim_state, n_dim_contr]\n",
    "                    curr_state_mean,\n",
    "                    curr_state_cov,\n",
    "                    control, #[n_batches, n_dim_contr]\n",
    "                    cov_checker=CheckPosDef()):\n",
    "    r\"\"\"Calculate the state at time `t+1` given the state at time `t`\"\"\"\n",
    "    \n",
    "    pred_state_mean = trans_matrix.unsqueeze(0) @ curr_state_mean + contr_matrix.unsqueeze(0) @ control.unsqueeze(-1) + trans_off.unsqueeze(-1)\n",
    "    pred_state_cov =  trans_matrix.unsqueeze(0) @ curr_state_cov @ trans_matrix.unsqueeze(0).mT + trans_cov.unsqueeze(0)\n",
    "\n",
    "    cov_checker.check(pred_state_cov, caller='filter_predict')\n",
    "    return (pred_state_mean, pred_state_cov)"
   ]
  },
  {
   "cell_type": "code",
   "execution_count": null,
   "id": "3ccd3c49-06f9-43c9-ab7d-28f6631652cc",
   "metadata": {},
   "outputs": [],
   "source": [
    "trans_matrix, trans_cov, trans_off, contr_matrix, curr_state_mean,curr_state_cov = (k.trans_matrix, k.trans_cov, k.trans_off,\n",
    "                                                  k.contr_matrix,\n",
    "                                                  torch.stack([k.init_state_mean]*2).unsqueeze(-1),\n",
    "                                                  torch.stack([k.init_state_cov]*2))"
   ]
  },
  {
   "cell_type": "code",
   "execution_count": null,
   "id": "27363d30-7799-4ac7-ac81-b6d58e46b633",
   "metadata": {},
   "outputs": [],
   "source": [
    "pred_state_mean, pred_state_cov = _filter_predict(\n",
    "    trans_matrix, trans_cov, trans_off, contr_matrix,\n",
    "    curr_state_mean,curr_state_cov, control[:,0,:])"
   ]
  },
  {
   "cell_type": "code",
   "execution_count": null,
   "id": "85cf0029-c23b-4091-8761-3bd689621331",
   "metadata": {},
   "outputs": [
    {
     "data": {
      "text/html": [
       "<div style=\"display: flex; column-gap: 20px; flex-wrap: wrap;\" class='table table-striped table-sm'> <div><p style='font-size: 1.2rem;'>pred_state_mean</p> <pre>tensor([[[2.4280],\n",
       "         [3.6560],\n",
       "         [3.2509],\n",
       "         [3.0859]],\n",
       "\n",
       "        [[1.7876],\n",
       "         [3.0991],\n",
       "         [2.6599],\n",
       "         [2.7182]]], dtype=torch.float64, grad_fn=<AddBackward0>)</pre> </div><div><p style='font-size: 1.2rem;'>pred_state_cov</p> <pre>tensor([[[4.9101, 4.6617, 3.9336, 4.2854],\n",
       "         [4.6617, 4.7986, 3.9793, 4.7991],\n",
       "         [3.9336, 3.9793, 3.5103, 4.0096],\n",
       "         [4.2854, 4.7991, 4.0096, 5.2321]],\n",
       "\n",
       "        [[4.9101, 4.6617, 3.9336, 4.2854],\n",
       "         [4.6617, 4.7986, 3.9793, 4.7991],\n",
       "         [3.9336, 3.9793, 3.5103, 4.0096],\n",
       "         [4.2854, 4.7991, 4.0096, 5.2321]]], dtype=torch.float64,\n",
       "       grad_fn=<AddBackward0>)</pre> </div></div>"
      ],
      "text/plain": [
       "<IPython.core.display.HTML object>"
      ]
     },
     "metadata": {},
     "output_type": "display_data"
    }
   ],
   "source": [
    "show_as_row(pred_state_mean, pred_state_cov)"
   ]
  },
  {
   "cell_type": "code",
   "execution_count": null,
   "id": "64cab28f-86a6-4bdd-b591-fc51153b891f",
   "metadata": {},
   "outputs": [
    {
     "data": {
      "text/html": [
       "<div style=\"display: flex; column-gap: 20px; flex-wrap: wrap;\" class='table table-striped table-sm'> <div><p style='font-size: 1.2rem;'>#0</p> <pre>(torch.Size([2, 4, 1]), torch.Size([2, 4, 4]))</pre> </div></div>"
      ],
      "text/plain": [
       "<IPython.core.display.HTML object>"
      ]
     },
     "metadata": {},
     "output_type": "display_data"
    }
   ],
   "source": [
    "show_as_row((pred_state_mean.shape, pred_state_cov.shape,))"
   ]
  },
  {
   "cell_type": "markdown",
   "id": "99e62fe3-a580-4f1d-aa20-8c5de1d90cb6",
   "metadata": {},
   "source": [
    "### Filter correct"
   ]
  },
  {
   "cell_type": "markdown",
   "id": "834a0734-30f7-481e-bad8-94aeae770a2a",
   "metadata": {},
   "source": [
    "Probability of state at time `t` given the observations at time `t`\n",
    "\n",
    "$p(x_t|y_t) = \\mathcal{N}(x_t; m_t, P_t)$ where:\n",
    "\n",
    "- predicted obs mean: $z_t = Hm_t^- + d$  \n",
    "\n",
    "- prediced obs covariance: $S_t = HP_t^-H^T + R$\n",
    "\n",
    "- kalman gain$K_t = P_t^-H^TS_t^{-1}$ \n",
    "\n",
    "- corrected state mean: $m_t = m_t^- + K_t(y_t - z_t)$ \n",
    "\n",
    "- corrected state covariance: $P_t = (I-K_tH)P_t^-$ \n",
    "\n",
    "if the observation are missing this step is skipped and the corrected state is equal to the predicted state\n"
   ]
  },
  {
   "cell_type": "markdown",
   "id": "9ab7f69a-c12e-4136-8ae2-fad9918f3a68",
   "metadata": {},
   "source": [
    "Need to figure out the Nans for the gradients ..."
   ]
  },
  {
   "cell_type": "markdown",
   "id": "91dd356d-d51c-461f-a8c8-56fe72fc4586",
   "metadata": {},
   "source": [
    "#### Missing observations\n",
    "\n",
    "If all the observations at time $t$ are missing the correct step is skipped and the filtered state at time $t$ () is the same of the filtered state.\n",
    "\n",
    "If only some observations are missing a variation of equation can be used.\n",
    "\n",
    "$y^{ng}_t$ is a vector containing the observations that are not missing at time $t$. \n",
    "\n",
    "It can be expressed as a linear transformation of $y_t$\n",
    "\n",
    "$$ y^{ng}_t = My_t$$\n",
    "\n",
    "where $M$ is a mask matrix that is used to select the subset of $y_t$ that is observed. $M \\in \\mathbb{R}^{n_{ng} \\times n}$ and is made of columns which are made of all zeros but for an entry 1 at row corresponding to the non-missing observation.\n",
    "hence:\n",
    "\n",
    "$$ p(y^{ng}_t) = \\mathcal{N}(M\\mu_{y_t},  M\\Sigma_{y_t}M^T)$$\n",
    "\n",
    "from which you can derive\n",
    "\n",
    "$$ p(y^{ng}_t|x_t) = p(MHx_t + Mb, MRM^T) $${#eq-filter-correct}\n",
    "\n",
    "Then the posterior $p(x_t|y_t^{ng})$ can be computed similarly of equation @filter_correct as:\n",
    "\n",
    "$$ p(x_t|y^{ng}_t) = \\mathcal{N}(x_t; m_t, P_t) $${#eq-filter_correct_missing}\n",
    "    \n",
    "where:\n",
    "\n",
    "*  predicted obs mean: $z_t = MHm_t^- + Md$\n",
    "*  predicted obs covariance: $S_t = MHP_t^-(MH)^T + MRM^T$\n",
    "*  Kalman gain $K_t = P_t^-(MH)^TS_t^{-1}$\n",
    "*  corrected state mean: $m_t = m_t^- + K_t(My_t - z_t)$\n",
    "*  corrected state covariance: $P_t = (I-K_tMH)P_t^-$\n"
   ]
  },
  {
   "cell_type": "code",
   "execution_count": null,
   "id": "f0e94561-d37b-42f3-b117-949dde294e60",
   "metadata": {},
   "outputs": [
    {
     "data": {
      "text/plain": [
       "torch.Size([3])"
      ]
     },
     "execution_count": null,
     "metadata": {},
     "output_type": "execute_result"
    }
   ],
   "source": [
    "k.obs_off.shape"
   ]
  },
  {
   "cell_type": "markdown",
   "id": "f9d0516a-fe91-42e2-a3d7-19fd281d00c6",
   "metadata": {},
   "source": [
    "##### Details implementation "
   ]
  },
  {
   "cell_type": "markdown",
   "id": "1ef89efc-213a-45f9-8086-2bd79471bfb9",
   "metadata": {},
   "source": [
    "For the implementation the matrix multiplication $MH$ can be replaced with `H[m]` where `m` is the mask for the rows for `H` and $MRM^T$ with `R[m][:,m]`"
   ]
  },
  {
   "cell_type": "code",
   "execution_count": null,
   "id": "f32ec6d7-ace9-432b-8e6c-f6dfdb2ec994",
   "metadata": {},
   "outputs": [],
   "source": [
    "obs_matrix, obs_cov, obs_off,obs, mm = (k.obs_matrix, k.obs_cov, k.obs_off, data[:,0,:], mask[:,0,:])"
   ]
  },
  {
   "cell_type": "code",
   "execution_count": null,
   "id": "e8d2e4f7-27bf-49aa-acee-d69f7fe90bae",
   "metadata": {},
   "outputs": [
    {
     "data": {
      "text/html": [
       "<div style=\"display: flex; column-gap: 20px; flex-wrap: wrap;\" class='table table-striped table-sm'> <div><p style='font-size: 1.2rem;'>m</p> <pre>tensor([False,  True,  True])</pre> </div><div><p style='font-size: 1.2rem;'>M</p> <pre>tensor([[0., 1., 0.],\n",
       "        [0., 0., 1.]], dtype=torch.float64)</pre> </div><div><p style='font-size: 1.2rem;'>obs_matrix</p> <pre>Parameter containing:\n",
       "tensor([[0.5533, 0.3582, 0.8828, 0.3156],\n",
       "        [0.1210, 0.6346, 0.0657, 0.3273],\n",
       "        [0.4661, 0.8703, 0.4889, 0.6028]], dtype=torch.float64,\n",
       "       requires_grad=True)</pre> </div><div><p style='font-size: 1.2rem;'>obs_cov</p> <pre>tensor([[0.5540, 0.0000, 0.0000],\n",
       "        [0.0000, 0.9728, 0.0000],\n",
       "        [0.0000, 0.0000, 1.4943]], dtype=torch.float64,\n",
       "       grad_fn=<DiagBackward0>)</pre> </div></div>"
      ],
      "text/plain": [
       "<IPython.core.display.HTML object>"
      ]
     },
     "metadata": {},
     "output_type": "display_data"
    }
   ],
   "source": [
    "m = torch.tensor([False,True,True]) # mask batch\n",
    "M = torch.tensor([[0,1,0], # mask matrix\n",
    "                  [0,0,1]], dtype=torch.float64)\n",
    "show_as_row(m, M, obs_matrix, obs_cov)"
   ]
  },
  {
   "cell_type": "code",
   "execution_count": null,
   "id": "79fc5a87-5836-4c12-b8b8-35af30c716f0",
   "metadata": {},
   "outputs": [
    {
     "data": {
      "text/plain": [
       "(tensor([[0.1210, 0.6346, 0.0657, 0.3273],\n",
       "         [0.4661, 0.8703, 0.4889, 0.6028]], dtype=torch.float64,\n",
       "        grad_fn=<MmBackward0>),\n",
       " tensor([[0.1210, 0.6346, 0.0657, 0.3273],\n",
       "         [0.4661, 0.8703, 0.4889, 0.6028]], dtype=torch.float64,\n",
       "        grad_fn=<IndexBackward0>))"
      ]
     },
     "execution_count": null,
     "metadata": {},
     "output_type": "execute_result"
    }
   ],
   "source": [
    "M @ obs_matrix, obs_matrix[m]"
   ]
  },
  {
   "cell_type": "code",
   "execution_count": null,
   "id": "856ff123-f0c9-4f5e-af22-b1a7c2f5dcc6",
   "metadata": {},
   "outputs": [
    {
     "data": {
      "text/plain": [
       "(tensor([[0.9728, 0.0000],\n",
       "         [0.0000, 1.4943]], dtype=torch.float64, grad_fn=<MmBackward0>),\n",
       " tensor([[0.9728, 0.0000],\n",
       "         [0.0000, 1.4943]], dtype=torch.float64, grad_fn=<IndexBackward0>))"
      ]
     },
     "execution_count": null,
     "metadata": {},
     "output_type": "execute_result"
    }
   ],
   "source": [
    "M @ obs_cov @ M.T, obs_cov[m][:,m]"
   ]
  },
  {
   "cell_type": "markdown",
   "id": "cd064dcc-3abd-44e2-a9e2-786db8b4a064",
   "metadata": {},
   "source": [
    "By using partially missing observations `_filter_correct` cannot be easily batched as the shape of the intermediate variables depends on the number of observed variables. So the idea is to divide the batch in batches where there is the same number of variables."
   ]
  },
  {
   "cell_type": "code",
   "execution_count": null,
   "id": "6b16750b-899c-4067-b7a5-106084f734d8",
   "metadata": {},
   "outputs": [
    {
     "data": {
      "text/plain": [
       "(tensor([[ True, False,  True],\n",
       "         [ True,  True, False]]),\n",
       " tensor([0, 1]))"
      ]
     },
     "execution_count": null,
     "metadata": {},
     "output_type": "execute_result"
    }
   ],
   "source": [
    "mask_values, indices = torch.unique(mask[:,1,:], dim=0, return_inverse=True)\n",
    "mask_values, indices"
   ]
  },
  {
   "cell_type": "code",
   "execution_count": null,
   "id": "23b11e2a",
   "metadata": {},
   "outputs": [],
   "source": [
    "#| export\n",
    "def _filter_correct_batch(\n",
    "                    obs_matrix,\n",
    "                    obs_cov,\n",
    "                    obs_off,\n",
    "                    pred_state_mean,\n",
    "                    pred_state_cov,\n",
    "                    obs, # [n_obs]\n",
    "                    mask, # [n_obs_np, n_obs] mask to obtain non missing obs from obs\n",
    "                    cov_checker=CheckPosDef()):\n",
    "    \"\"\"Update state at time `t` given observations at time `t` assuming that all observations have the same mask\"\"\"\n",
    "\n",
    "    m_obs_matrix, m_obs_off, m_obs, m_obs_cov = obs_matrix[mask], obs_off[mask], obs[:, mask], obs_cov[mask][:,mask]\n",
    "    \n",
    "    # extra dim needed to have batched matmul working between matrices and means\n",
    "    (m_obs_matrix,), (m_obs_off, m_obs) = unsqueeze_first(m_obs_matrix), unsqueeze_last(m_obs_off, m_obs) \n",
    "    \n",
    "    pred_obs_mean = m_obs_matrix @ pred_state_mean + m_obs_off\n",
    "    pred_obs_cov = m_obs_matrix @ pred_state_cov @ m_obs_matrix.mT + m_obs_cov\n",
    "    kalman_gain = pred_state_cov @ m_obs_matrix.mT @ torch.inverse(pred_obs_cov) # torch.cholesky_inverse(torch.linalg.cholesky(pred_obs_cov))\n",
    "\n",
    "    corr_state_mean = pred_state_mean + kalman_gain @ (m_obs - pred_obs_mean) #select with the mask instead of multipling so that support nan in the dataset\n",
    "    corr_state_cov = pred_state_cov - kalman_gain @ m_obs_matrix @ pred_state_cov\n",
    "\n",
    "    cov_checker.check(pred_state_cov, caller='filter_correct')\n",
    "    return (corr_state_mean, corr_state_cov)"
   ]
  },
  {
   "cell_type": "code",
   "execution_count": null,
   "id": "09bfc68f-0368-4bb6-9d35-fa2348055955",
   "metadata": {},
   "outputs": [],
   "source": [
    "obs_matrix, obs_cov, obs_off,obs, mm = (k.obs_matrix, k.obs_cov, k.obs_off, data[:,0,:], mask[:,0,:])"
   ]
  },
  {
   "cell_type": "code",
   "execution_count": null,
   "id": "484b0eff-7246-42cb-a721-0dc2d72d3cbe",
   "metadata": {},
   "outputs": [],
   "source": [
    "corr_s_mean,corr_s_cov = _filter_correct_batch(obs_matrix, obs_cov, obs_off, pred_state_mean[0:1], pred_state_cov[0:1], obs[0:1], mm[0])"
   ]
  },
  {
   "cell_type": "code",
   "execution_count": null,
   "id": "2954f10b-d9dd-42aa-b800-5d123eee0401",
   "metadata": {},
   "outputs": [
    {
     "data": {
      "text/plain": [
       "(torch.Size([1, 4, 1]), torch.Size([1, 4, 4]))"
      ]
     },
     "execution_count": null,
     "metadata": {},
     "output_type": "execute_result"
    }
   ],
   "source": [
    "corr_s_mean.shape, corr_s_cov.shape"
   ]
  },
  {
   "cell_type": "code",
   "execution_count": null,
   "id": "5ab7507b-4d3d-472f-8e6e-81b0b2af4f2f",
   "metadata": {},
   "outputs": [],
   "source": [
    "#| export\n",
    "def _filter_correct(obs_matrix,\n",
    "                    obs_cov,\n",
    "                    obs_off,\n",
    "                    pred_state_mean,\n",
    "                    pred_state_cov,\n",
    "                    obs,\n",
    "                    mask,\n",
    "                    cov_checker=CheckPosDef()) -> ListMNormal:\n",
    "    \"\"\"Update state at time `t` given observations at time `t`\"\"\"\n",
    "\n",
    "    corr_state_mean, corr_state_cov = torch.empty_like(pred_state_mean), torch.empty_like(pred_state_cov)\n",
    "    \n",
    "    # find the unique values of the mask and make a sub-batches with it\n",
    "    mask_values, indices = torch.unique(mask, return_inverse=True, dim=0)  \n",
    "    for i, mask_v in enumerate(mask_values):\n",
    "        idx_select = indices == i \n",
    "        corr_state_mean[idx_select], corr_state_cov[idx_select] = _filter_correct_batch(\n",
    "            obs_matrix, obs_cov, obs_off,\n",
    "            pred_state_mean[idx_select], pred_state_cov[idx_select],\n",
    "            obs[idx_select], mask_v,\n",
    "            cov_checker\n",
    "        \n",
    "        )\n",
    "        assert all(mask[idx_select][0] == mask_v)\n",
    "    \n",
    "    return ListMNormal(corr_state_mean, corr_state_cov)"
   ]
  },
  {
   "cell_type": "code",
   "execution_count": null,
   "id": "9ac44c82-b204-4354-9e83-b697d28751b7",
   "metadata": {},
   "outputs": [],
   "source": [
    "obs_matrix, obs_cov, obs_off,obs, mm = (k.obs_matrix, k.obs_cov, k.obs_off, data[:,0,:], mask[:,0,:])"
   ]
  },
  {
   "cell_type": "code",
   "execution_count": null,
   "id": "5f3bd23c-872a-45ff-8f79-132d0e414d09",
   "metadata": {},
   "outputs": [],
   "source": [
    "corr_s_mean, corr_s_cov = _filter_correct(obs_matrix, obs_cov, obs_off, pred_state_mean, pred_state_cov, obs, mm)"
   ]
  },
  {
   "cell_type": "code",
   "execution_count": null,
   "id": "462ca23f-1900-4330-8660-f7a97fd1f573",
   "metadata": {},
   "outputs": [
    {
     "data": {
      "text/html": [
       "<div style=\"display: flex; column-gap: 20px; flex-wrap: wrap;\" class='table table-striped table-sm'> <div><p style='font-size: 1.2rem;'>corr_s_mean</p> <pre>tensor([[[-0.5290],\n",
       "         [ 0.6623],\n",
       "         [ 0.6936],\n",
       "         [ 0.1065]],\n",
       "\n",
       "        [[-0.6718],\n",
       "         [ 0.4933],\n",
       "         [ 0.5072],\n",
       "         [ 0.0361]]], dtype=torch.float64, grad_fn=<IndexPutBackward0>)</pre> </div><div><p style='font-size: 1.2rem;'>corr_s_cov</p> <pre>tensor([[[ 0.4331,  0.1292,  0.0618, -0.2254],\n",
       "         [ 0.1292,  0.2100,  0.0596,  0.2324],\n",
       "         [ 0.0618,  0.0596,  0.1620,  0.1086],\n",
       "         [-0.2254,  0.2324,  0.1086,  0.6872]],\n",
       "\n",
       "        [[ 0.4145,  0.0905,  0.0413, -0.2791],\n",
       "         [ 0.0905,  0.1208,  0.0151,  0.1053],\n",
       "         [ 0.0413,  0.0151,  0.1391,  0.0462],\n",
       "         [-0.2791,  0.1053,  0.0462,  0.5052]]], dtype=torch.float64,\n",
       "       grad_fn=<IndexPutBackward0>)</pre> </div></div>"
      ],
      "text/plain": [
       "<IPython.core.display.HTML object>"
      ]
     },
     "metadata": {},
     "output_type": "display_data"
    }
   ],
   "source": [
    "show_as_row(corr_s_mean, corr_s_cov)"
   ]
  },
  {
   "cell_type": "code",
   "execution_count": null,
   "id": "04f97fc1-42d2-42c8-b945-af011456121d",
   "metadata": {},
   "outputs": [
    {
     "data": {
      "text/plain": [
       "(torch.Size([2, 4, 1]), torch.Size([2, 4, 4]))"
      ]
     },
     "execution_count": null,
     "metadata": {},
     "output_type": "execute_result"
    }
   ],
   "source": [
    "corr_s_mean.shape, corr_s_cov.shape"
   ]
  },
  {
   "cell_type": "code",
   "execution_count": null,
   "id": "d4ee11fd-ec1c-495e-9e41-cd70717206a1",
   "metadata": {},
   "outputs": [],
   "source": [
    "corr_s_mean.sum().backward(retain_graph=True) # check that pytorch can compute gradients with the whole batch"
   ]
  },
  {
   "cell_type": "markdown",
   "id": "173294f6-f74b-4a93-9ba6-c4695284d125",
   "metadata": {},
   "source": [
    "### Filter"
   ]
  },
  {
   "cell_type": "markdown",
   "id": "1e345bda-8a17-44be-bd6f-15f5608ac220",
   "metadata": {},
   "source": [
    "The resursive version of the kalman filter is apperently breaking pytorch gradients calculations so a workaround is needed.\n",
    "During the loop the states are saved in a python list and then at the end they are combined back into a tensor.\n",
    "The last line of the function does:\n",
    "\n",
    "- convert lists to tensors\n",
    "- correct order dimensions"
   ]
  },
  {
   "cell_type": "code",
   "execution_count": null,
   "id": "49b44fc6-a9f5-4873-8610-c889c9a1b6b8",
   "metadata": {},
   "outputs": [],
   "source": [
    "#| export\n",
    "def _times2batch(x):\n",
    "    \"\"\"Permutes `x` so that the first dimension is the number of batches and not the times\"\"\"\n",
    "    return x.permute(1,0,-2,-1)"
   ]
  },
  {
   "cell_type": "code",
   "execution_count": null,
   "id": "2f045ed4-40bc-4451-b836-5bc4e5b4d4b9",
   "metadata": {},
   "outputs": [],
   "source": [
    "#| export\n",
    "def _filter(trans_matrix, obs_matrix, contr_matrix,\n",
    "            trans_cov, obs_cov,\n",
    "            trans_off, obs_off,\n",
    "            init_state_mean, init_state_cov,\n",
    "            obs, mask, control,\n",
    "            cov_checker=CheckPosDef()\n",
    "           ) ->Tuple[List, List, List, List]: # pred_state_means, pred_state_covs, filt_state_means, filt_state_covs\n",
    "    \"\"\"Filter observations using kalman filter \"\"\"\n",
    "    n_timesteps = obs.shape[-2]\n",
    "    bs = obs.shape[0]\n",
    "    # lists are mutable so need to copy them\n",
    "    pred_state_means, pred_state_covs, filt_state_means, filt_state_covs = [[None for _ in range(n_timesteps)].copy() for _ in range(4)] \n",
    "\n",
    "    for t in range(n_timesteps):\n",
    "        if t == 0:\n",
    "            pred_state_means[t], pred_state_covs[t] = torch.stack([init_state_mean]*bs).unsqueeze(-1), torch.stack([init_state_cov]*bs)\n",
    "        else:\n",
    "            pred_state_means[t], pred_state_covs[t] = _filter_predict(trans_matrix, trans_cov, trans_off, contr_matrix,\n",
    "                                                                      filt_state_means[t - 1], filt_state_covs[t - 1], control[:,t,:],\n",
    "                                                                      cov_checker.add_args(t=t))\n",
    "\n",
    "        filt_state_means[t], filt_state_covs[t] = _filter_correct(obs_matrix, obs_cov, obs_off,\n",
    "                                                                     pred_state_means[t], pred_state_covs[t],\n",
    "                                                                     obs[:,t,:], mask[:,t,:],\n",
    "                                                                     cov_checker.add_args(t=t))\n",
    "    \n",
    "    ret = list(maps(torch.stack, _times2batch, (pred_state_means, pred_state_covs, filt_state_means, filt_state_covs,)))\n",
    "    return ret"
   ]
  },
  {
   "cell_type": "code",
   "execution_count": null,
   "id": "c8a89f73-5006-44db-bf7d-2a50cc7c5935",
   "metadata": {},
   "outputs": [],
   "source": [
    "obs, init_state_mean, init_state_cov = data, k.init_state_mean, k.init_state_cov"
   ]
  },
  {
   "cell_type": "code",
   "execution_count": null,
   "id": "1fdc67a7-1a3f-4920-810d-03c968cdf86a",
   "metadata": {},
   "outputs": [],
   "source": [
    "pred_state_means, pred_state_covs, filt_state_means, filt_state_covs = _filter(\n",
    "    trans_matrix, obs_matrix, contr_matrix,\n",
    "    trans_cov, obs_cov,\n",
    "    trans_off, obs_off,\n",
    "    init_state_mean, init_state_cov,\n",
    "    data, mask, control)"
   ]
  },
  {
   "cell_type": "markdown",
   "id": "a90a2d45-baed-4c3b-9a3a-2994e5a7a278",
   "metadata": {},
   "source": [
    "Predictions at time `0` for both batches"
   ]
  },
  {
   "cell_type": "code",
   "execution_count": null,
   "id": "fef85013-d727-4bdd-ba84-a31ba313d3a7",
   "metadata": {},
   "outputs": [
    {
     "data": {
      "text/html": [
       "<div style=\"display: flex; column-gap: 20px; flex-wrap: wrap;\" class='table table-striped table-sm'> <div><p style='font-size: 1.2rem;'>#0</p> <pre>[torch.Size([2, 10, 4, 1]), torch.Size([2, 10, 4, 4]), torch.Size([2, 10, 4, 1]), torch.Size([2, 10, 4, 4])]</pre> </div></div>"
      ],
      "text/plain": [
       "<IPython.core.display.HTML object>"
      ]
     },
     "metadata": {},
     "output_type": "display_data"
    }
   ],
   "source": [
    "show_as_row(list(map(Self.shape(), (pred_state_means, pred_state_covs, filt_state_means, filt_state_covs,))))"
   ]
  },
  {
   "cell_type": "code",
   "execution_count": null,
   "id": "f93a4e7d-8a82-4c8a-be3f-7c6f63278258",
   "metadata": {},
   "outputs": [
    {
     "data": {
      "text/html": [
       "<div style=\"display: flex; column-gap: 20px; flex-wrap: wrap;\" class='table table-striped table-sm'> <div><p style='font-size: 1.2rem;'>#0</p> <pre>[tensor([[0.7244],\n",
       "        [0.6438],\n",
       "        [0.9570],\n",
       "        [0.8085]], dtype=torch.float64, grad_fn=<SelectBackward0>), tensor([[0.8758, 0.7556, 0.4823, 0.6878],\n",
       "        [0.7556, 0.9753, 0.7402, 0.6828],\n",
       "        [0.4823, 0.7402, 1.0871, 0.5918],\n",
       "        [0.6878, 0.6828, 0.5918, 0.7291]], dtype=torch.float64,\n",
       "       grad_fn=<SelectBackward0>), tensor([[0.2430],\n",
       "        [0.0804],\n",
       "        [0.3791],\n",
       "        [0.3342]], dtype=torch.float64, grad_fn=<SelectBackward0>), tensor([[ 0.3655,  0.1583, -0.1304,  0.1849],\n",
       "        [ 0.1583,  0.2762,  0.0232,  0.0943],\n",
       "        [-0.1304,  0.0232,  0.3516, -0.0119],\n",
       "        [ 0.1849,  0.0943, -0.0119,  0.2336]], dtype=torch.float64,\n",
       "       grad_fn=<SelectBackward0>)]</pre> </div></div>"
      ],
      "text/plain": [
       "<IPython.core.display.HTML object>"
      ]
     },
     "metadata": {},
     "output_type": "display_data"
    }
   ],
   "source": [
    "show_as_row(list(map(lambda x:x[0][0], (pred_state_means, pred_state_covs, filt_state_means, filt_state_covs,))))"
   ]
  },
  {
   "cell_type": "markdown",
   "id": "9f928bd5-604f-4a0d-9379-46aba21e31d8",
   "metadata": {},
   "source": [
    "### KalmanFilter method"
   ]
  },
  {
   "cell_type": "code",
   "execution_count": null,
   "id": "ebcccf0f-e431-4a38-88f2-5630adf974b9",
   "metadata": {},
   "outputs": [],
   "source": [
    "#| export\n",
    "@patch\n",
    "def _filter_all(self: KalmanFilter, obs, mask, control\n",
    "               ) ->Tuple[List, List, List, List]: # pred_state_means, pred_state_covs, filt_state_means, filt_state_covs\n",
    "    \"\"\" wrapper around `_filter`\"\"\"\n",
    "    obs, mask = self._parse_obs(obs, mask)\n",
    "    return _filter(\n",
    "            self.trans_matrix, self.obs_matrix, self.contr_matrix,\n",
    "            self.trans_cov, self.obs_cov,\n",
    "            self.trans_off, self.obs_off,\n",
    "            self.init_state_mean, self.init_state_cov,\n",
    "            obs, mask, control,\n",
    "            self.cov_checker\n",
    "        )"
   ]
  },
  {
   "cell_type": "code",
   "execution_count": null,
   "id": "88522f5b-88b8-4357-af60-11d2a322898b",
   "metadata": {},
   "outputs": [],
   "source": [
    "pred_mean, _, _, _ = k._filter_all(obs, mask, control);"
   ]
  },
  {
   "cell_type": "code",
   "execution_count": null,
   "id": "3727654a-f7e2-4a95-8c8b-0659a4f2610b",
   "metadata": {},
   "outputs": [
    {
     "data": {
      "text/plain": [
       "list"
      ]
     },
     "execution_count": null,
     "metadata": {},
     "output_type": "execute_result"
    }
   ],
   "source": [
    "type(k._filter_all(obs, mask, control))"
   ]
  },
  {
   "cell_type": "code",
   "execution_count": null,
   "id": "0245e567-161f-4a63-89d9-c68e6553a05c",
   "metadata": {},
   "outputs": [],
   "source": [
    "pred_mean.sum().backward(retain_graph=True) # it works!"
   ]
  },
  {
   "cell_type": "markdown",
   "id": "745027b0-63f0-459f-ad1f-b29c23454dac",
   "metadata": {},
   "source": [
    "The filter methods wraps `_filter_all` but in addition:\n",
    "\n",
    "- returns only filtered state\n",
    "- detach tensors"
   ]
  },
  {
   "cell_type": "code",
   "execution_count": null,
   "id": "4d970ee1-3e3f-4707-9f97-3874ad7643b1",
   "metadata": {},
   "outputs": [],
   "source": [
    "#| export\n",
    "@patch\n",
    "def filter(self: KalmanFilter,\n",
    "          obs: Tensor, # [n_timesteps, n_dim_obs] obs for times [0...n_timesteps-1]\n",
    "          mask: Tensor,  # [n_timesteps, n_dim_obs] obs for times [0...n_timesteps-1]\n",
    "          control: Tensor, # [n_timesteps, n_dim_contr] control for times [1...n_timesteps-1]\n",
    "          ) -> ListMNormal: # Filtered state\n",
    "    \"\"\"Filter observation\"\"\"\n",
    "    _, _, filt_state_means, filt_state_covs = self._filter_all(obs, mask, control)\n",
    "    return ListMNormal(filt_state_means.squeeze(-1), filt_state_covs)"
   ]
  },
  {
   "cell_type": "code",
   "execution_count": null,
   "id": "78611868-2c0b-4e56-aa24-102530648002",
   "metadata": {},
   "outputs": [
    {
     "data": {
      "text/plain": [
       "(torch.Size([2, 10, 4]), torch.Size([2, 10, 4, 4]))"
      ]
     },
     "execution_count": null,
     "metadata": {},
     "output_type": "execute_result"
    }
   ],
   "source": [
    "filt = k.filter(obs, mask, control)\n",
    "filt.mean.shape, filt.cov.shape"
   ]
  },
  {
   "cell_type": "markdown",
   "id": "f8d2f1bf-34cd-4e87-a239-2662f6689a53",
   "metadata": {},
   "source": [
    "## Smooth"
   ]
  },
  {
   "cell_type": "markdown",
   "id": "ff2a1878-4e69-4ead-a7b8-cf7dbae5d13e",
   "metadata": {},
   "source": [
    "### Smooth step"
   ]
  },
  {
   "cell_type": "markdown",
   "id": "8a2e8c24-b7ce-4e7a-9bfa-82c9dd246080",
   "metadata": {},
   "source": [
    "compute the probability of the state at time `t` given all the observations\n",
    "\n",
    "$p(x_t|Y) = \\mathcal{N}(x_t; m_t^s, P_t^s)$ where:\n",
    "\n",
    "- Kalman smoothing gain: $G_t = P_tA^T(P_{t+1}^-)^{-1}$\n",
    "- smoothed mean: $m_t^s = m_t + G_t(m_{t+1}^s - m_{t+1}^-)$\n",
    "- smoothed covariance: $P_t^s = P_t + G_t(P_{t+1}^s - P_{t+1}^-)G_t^T$"
   ]
  },
  {
   "cell_type": "code",
   "execution_count": null,
   "id": "57d5c739-3863-40a5-8b96-1ee12c476ca9",
   "metadata": {},
   "outputs": [],
   "source": [
    "#| export\n",
    "def _smooth_update(trans_matrix,                # [n_dim_state, n_dim_state]\n",
    "                   filt_state: MNormal,         # [n_dim_state] filtered state at time `t`\n",
    "                   pred_state: MNormal,         # [n_dim_state] state before filtering at time `t + 1` (= using the observation until time t)\n",
    "                   next_smoothed_state: Normal, # [n_dim_state] smoothed state at time  `t+1`\n",
    "                   cov_checker = CheckPosDef()\n",
    "                   ) -> MNormal:                # mean and cov of smoothed state at time `t`\n",
    "    \"\"\"Correct a pred state with a Kalman Smoother update\"\"\"\n",
    "    kalman_smoothing_gain = filt_state.cov @ trans_matrix.unsqueeze(0).mT @ torch.inverse(pred_state.cov) # torch.cholesky_inverse(torch.linalg.cholesky(pred_state.cov))\n",
    "\n",
    "    smoothed_state_mean = filt_state.mean + kalman_smoothing_gain @ (next_smoothed_state.mean - pred_state.mean)\n",
    "    smoothed_state_cov = filt_state.cov + kalman_smoothing_gain @ (next_smoothed_state.cov - pred_state.cov) @ kalman_smoothing_gain.mT\n",
    "\n",
    "    cov_checker.check(smoothed_state_cov, caller='smooth_update')\n",
    "    \n",
    "    return MNormal(smoothed_state_mean, smoothed_state_cov)"
   ]
  },
  {
   "cell_type": "code",
   "execution_count": null,
   "id": "9ac05405-3656-45e1-a818-136858b36fcb",
   "metadata": {},
   "outputs": [],
   "source": [
    "filt_state, pred_state, next_smoothed_state = [MNormal(pred_state_mean, pred_state_cov)] * 3 # just for testing"
   ]
  },
  {
   "cell_type": "code",
   "execution_count": null,
   "id": "8a7f46d1-5d5e-48fa-92d7-cb37e715d2d7",
   "metadata": {},
   "outputs": [
    {
     "data": {
      "text/html": [
       "<div style=\"display: flex; column-gap: 20px; flex-wrap: wrap;\" class='table table-striped table-sm'> <div><p style='font-size: 1.2rem;'>#0</p> <pre>tensor([[[2.4280],\n",
       "         [3.6560],\n",
       "         [3.2509],\n",
       "         [3.0859]],\n",
       "\n",
       "        [[1.7876],\n",
       "         [3.0991],\n",
       "         [2.6599],\n",
       "         [2.7182]]], dtype=torch.float64, grad_fn=<AddBackward0>)</pre> </div><div><p style='font-size: 1.2rem;'>#1</p> <pre>tensor([[[4.9101, 4.6617, 3.9336, 4.2854],\n",
       "         [4.6617, 4.7986, 3.9793, 4.7991],\n",
       "         [3.9336, 3.9793, 3.5103, 4.0096],\n",
       "         [4.2854, 4.7991, 4.0096, 5.2321]],\n",
       "\n",
       "        [[4.9101, 4.6617, 3.9336, 4.2854],\n",
       "         [4.6617, 4.7986, 3.9793, 4.7991],\n",
       "         [3.9336, 3.9793, 3.5103, 4.0096],\n",
       "         [4.2854, 4.7991, 4.0096, 5.2321]]], dtype=torch.float64,\n",
       "       grad_fn=<AddBackward0>)</pre> </div></div>"
      ],
      "text/plain": [
       "<IPython.core.display.HTML object>"
      ]
     },
     "metadata": {},
     "output_type": "display_data"
    }
   ],
   "source": [
    "show_as_row(*_smooth_update(trans_matrix, MNormal(pred_state_mean, pred_state_cov), MNormal(pred_state_mean, pred_state_cov), MNormal(pred_state_mean, pred_state_cov)))"
   ]
  },
  {
   "cell_type": "code",
   "execution_count": null,
   "id": "4718e339-fc4f-4794-a3d2-d72ef59d16ca",
   "metadata": {},
   "outputs": [
    {
     "data": {
      "text/html": [
       "<div style=\"display: flex; column-gap: 20px; flex-wrap: wrap;\" class='table table-striped table-sm'> <div><p style='font-size: 1.2rem;'>#0</p> <pre>torch.Size([2, 4, 1])</pre> </div><div><p style='font-size: 1.2rem;'>#1</p> <pre>torch.Size([2, 4, 4])</pre> </div></div>"
      ],
      "text/plain": [
       "<IPython.core.display.HTML object>"
      ]
     },
     "metadata": {},
     "output_type": "display_data"
    }
   ],
   "source": [
    "show_as_row(*map(Self.shape(), _smooth_update(trans_matrix, MNormal(pred_state_mean, pred_state_cov), MNormal(pred_state_mean, pred_state_cov), MNormal(pred_state_mean, pred_state_cov))))"
   ]
  },
  {
   "cell_type": "markdown",
   "id": "78cf23fc-5a11-48e2-b37d-5c640e23d79f",
   "metadata": {},
   "source": [
    "### Smooth"
   ]
  },
  {
   "cell_type": "code",
   "execution_count": null,
   "id": "7c46309f-70f9-419f-91fc-607ec3e79d77",
   "metadata": {},
   "outputs": [],
   "source": [
    "#| export\n",
    "def _smooth(trans_matrix, # `[n_dim_state, n_dim_state]`\n",
    "            filt_state: ListMNormal, # `[n_timesteps, n_dim_state]`\n",
    "                # `filt_state_means[t]` is the state estimate for time t given obs from times `[0...t]`\n",
    "            pred_state: ListMNormal, # `[n_timesteps, n_dim_state]`\n",
    "                # `pred_state_means[t]` is the state estimate for time t given obs from times `[0...t-1]`\n",
    "            cov_checker = CheckPosDef()\n",
    "           ) -> ListMNormal: # `[n_timesteps, n_dim_state]` Smoothed state \n",
    "    \"\"\"Apply the Kalman Smoother\"\"\"\n",
    "    x = pred_state.mean # sample for getting tensor properties\n",
    "    bs, n_timesteps, n_dim_state = x.shape[0], x.shape[1], x.shape[2]\n",
    "\n",
    "    smoothed_state = ListMNormal(torch.zeros((bs, n_timesteps,n_dim_state,1),             dtype=x.dtype, device=x.device), \n",
    "                                 torch.zeros((bs, n_timesteps, n_dim_state,n_dim_state), dtype=x.dtype, device=x.device))\n",
    "    # For the last timestep cannot use the smoother\n",
    "    smoothed_state.mean[:,-1,] = filt_state.mean[:,-1]\n",
    "    smoothed_state.cov[:,-1] = filt_state.cov[:,-1]\n",
    "\n",
    "    for t in reversed(range(n_timesteps - 1)):\n",
    "        (smoothed_state.mean[:,t], smoothed_state.cov[:,t]) = (\n",
    "            _smooth_update(\n",
    "                trans_matrix,\n",
    "                filt_state[:,t],\n",
    "                pred_state[:,t + 1],\n",
    "                smoothed_state[:,t+1],\n",
    "            )\n",
    "        )\n",
    "    return smoothed_state"
   ]
  },
  {
   "cell_type": "code",
   "execution_count": null,
   "id": "78f79457-da68-429c-8edd-860860380cbc",
   "metadata": {},
   "outputs": [],
   "source": [
    "(pred_state_means, pred_state_covs, filt_state_means, filt_state_covs ) = k._filter_all(data, mask, control)\n",
    "filt_state, pred_state = ListMNormal(filt_state_means, filt_state_covs), ListMNormal(pred_state_means, pred_state_covs)"
   ]
  },
  {
   "cell_type": "code",
   "execution_count": null,
   "id": "5475b7ee-c9df-4aca-b490-2f4a2b331d4e",
   "metadata": {},
   "outputs": [],
   "source": [
    "smooth_state = _smooth(k.trans_matrix,  filt_state, pred_state)"
   ]
  },
  {
   "cell_type": "code",
   "execution_count": null,
   "id": "2dd198a6-1513-406f-904f-28088d02e0ad",
   "metadata": {},
   "outputs": [
    {
     "data": {
      "text/html": [
       "<div style=\"display: flex; column-gap: 20px; flex-wrap: wrap;\" class='table table-striped table-sm'> <div><p style='font-size: 1.2rem;'>#0</p> <pre>tensor([[-0.2515],\n",
       "        [-0.2632],\n",
       "        [ 0.2712],\n",
       "        [-0.1030]], dtype=torch.float64, grad_fn=<SelectBackward0>)</pre> </div><div><p style='font-size: 1.2rem;'>#1</p> <pre>tensor([[ 0.2763,  0.0892, -0.1481,  0.1064],\n",
       "        [ 0.0892,  0.2207,  0.0102,  0.0337],\n",
       "        [-0.1481,  0.0102,  0.3477, -0.0276],\n",
       "        [ 0.1064,  0.0337, -0.0276,  0.1645]], dtype=torch.float64,\n",
       "       grad_fn=<SelectBackward0>)</pre> </div></div>"
      ],
      "text/plain": [
       "<IPython.core.display.HTML object>"
      ]
     },
     "metadata": {},
     "output_type": "display_data"
    }
   ],
   "source": [
    "show_as_row(smooth_state.mean[0][0], smooth_state.cov[0][0])"
   ]
  },
  {
   "cell_type": "code",
   "execution_count": null,
   "id": "90c7a3d7-5f9c-4a4d-9980-f33fa60e7226",
   "metadata": {},
   "outputs": [
    {
     "data": {
      "text/html": [
       "<div style=\"display: flex; column-gap: 20px; flex-wrap: wrap;\" class='table table-striped table-sm'> <div><p style='font-size: 1.2rem;'>#0</p> <pre>torch.Size([2, 10, 4, 1])</pre> </div><div><p style='font-size: 1.2rem;'>#1</p> <pre>torch.Size([2, 10, 4, 4])</pre> </div></div>"
      ],
      "text/plain": [
       "<IPython.core.display.HTML object>"
      ]
     },
     "metadata": {},
     "output_type": "display_data"
    }
   ],
   "source": [
    "show_as_row(smooth_state.mean.shape, smooth_state.cov.shape)"
   ]
  },
  {
   "cell_type": "markdown",
   "id": "bc0299de-69cf-4351-ba84-12871662230b",
   "metadata": {},
   "source": [
    "### KalmanFilter method"
   ]
  },
  {
   "cell_type": "code",
   "execution_count": null,
   "id": "808bcd96-9e98-4e4f-9b85-cdfb98cb9709",
   "metadata": {},
   "outputs": [],
   "source": [
    "#| export\n",
    "@patch\n",
    "def smooth(self: KalmanFilter,\n",
    "           obs: Tensor,\n",
    "           mask: Tensor,\n",
    "           control: Tensor\n",
    "          ) -> ListMNormal: # `[n_timesteps, n_dim_state]` smoothed state\n",
    "        \n",
    "    \"\"\"Kalman Filter Smoothing\"\"\"\n",
    "\n",
    "    (pred_state_means, pred_state_covs, filt_state_means, filt_state_covs) = self._filter_all(obs, mask, control)\n",
    "\n",
    "    smoothed_state = _smooth(self.trans_matrix,\n",
    "                   ListMNormal(filt_state_means, filt_state_covs), ListMNormal(pred_state_means, pred_state_covs),\n",
    "                   self.cov_checker)\n",
    "    smoothed_state.mean.squeeze_(-1)\n",
    "    return smoothed_state"
   ]
  },
  {
   "cell_type": "code",
   "execution_count": null,
   "id": "bc63fe46-f267-4538-a72b-997747df2391",
   "metadata": {},
   "outputs": [],
   "source": [
    "smoothed_state = k.smooth(data, mask, control)"
   ]
  },
  {
   "cell_type": "code",
   "execution_count": null,
   "id": "70f1c935-c1a8-4528-ab93-7f7711b8d521",
   "metadata": {},
   "outputs": [
    {
     "data": {
      "text/html": [
       "<div style=\"display: flex; column-gap: 20px; flex-wrap: wrap;\" class='table table-striped table-sm'> <div><p style='font-size: 1.2rem;'>#0</p> <pre>torch.Size([2, 10, 4])</pre> </div><div><p style='font-size: 1.2rem;'>#1</p> <pre>torch.Size([2, 10, 4, 4])</pre> </div></div>"
      ],
      "text/plain": [
       "<IPython.core.display.HTML object>"
      ]
     },
     "metadata": {},
     "output_type": "display_data"
    }
   ],
   "source": [
    "show_as_row(smoothed_state.mean.shape, smoothed_state.cov.shape)"
   ]
  },
  {
   "cell_type": "markdown",
   "id": "7e0600dd-9baf-4796-b3f5-4ae1c2239453",
   "metadata": {},
   "source": [
    "## Predict"
   ]
  },
  {
   "cell_type": "markdown",
   "id": "105a85b5-6806-4dc2-9d34-1ff68a9b2b27",
   "metadata": {},
   "source": [
    "The prediction at time t ($y_t$) are computed rom the state ($x_t$) using this formula:\n",
    "$$p(y_t|x_t) = \\mathcal{N}(Hx_t + d, R + HP^s_tH^T)$$\n",
    "\n",
    "this works both if the state was filtered or smoother"
   ]
  },
  {
   "cell_type": "markdown",
   "id": "25b398c8-3d47-4c50-8197-e692faf7df51",
   "metadata": {},
   "source": [
    "This add the supports for conditional predictions, which means that at the time (t) when we are making the predictions some of the variables have been actually observed. Since the model prediction is a normal distribution we can condition on the observed values and thus improve the predictions. See `conditional_gaussian`"
   ]
  },
  {
   "cell_type": "markdown",
   "id": "1e20b5fd-4dd0-4cb9-be84-d1d3702c5695",
   "metadata": {},
   "source": [
    "In order to have conditional predictions that make sense it's not possible to return the full covariance matrix for the predictions but only the standard deviations"
   ]
  },
  {
   "cell_type": "code",
   "execution_count": null,
   "id": "cd8b3350-34f3-45f1-b7a6-0159fbc8e5e0",
   "metadata": {},
   "outputs": [],
   "source": [
    "test_m = torch.tensor(\n",
    "    [[True, True, True,],\n",
    "    [False, True, True],\n",
    "    [False, False, False]]\n",
    ")"
   ]
  },
  {
   "cell_type": "code",
   "execution_count": null,
   "id": "82e30d14-d0c1-433a-a3e5-d31b4e9378f9",
   "metadata": {},
   "outputs": [
    {
     "data": {
      "text/plain": [
       "tensor([False,  True, False])"
      ]
     },
     "execution_count": null,
     "metadata": {},
     "output_type": "execute_result"
    }
   ],
   "source": [
    "torch.logical_xor(test_m.all(-1), test_m.any(-1))"
   ]
  },
  {
   "cell_type": "code",
   "execution_count": null,
   "id": "d39b3aa0-093a-435a-9116-e1c3f1e47f5c",
   "metadata": {},
   "outputs": [],
   "source": [
    "A = torch.rand(2,2,3,3)"
   ]
  },
  {
   "cell_type": "code",
   "execution_count": null,
   "id": "e1f0a861-e123-41da-94aa-fcb0f57382d7",
   "metadata": {},
   "outputs": [
    {
     "data": {
      "text/plain": [
       "torch.Size([2, 2, 3, 3])"
      ]
     },
     "execution_count": null,
     "metadata": {},
     "output_type": "execute_result"
    }
   ],
   "source": [
    "(A @ A).shape"
   ]
  },
  {
   "cell_type": "markdown",
   "id": "f72c1932-14c6-4c37-809d-b1b2a6c7a765",
   "metadata": {},
   "source": [
    "predict can be vectorized across both the batch and the timesteps, except for timesteps that require conditional predictions"
   ]
  },
  {
   "cell_type": "code",
   "execution_count": null,
   "id": "9f4db221-10b7-4d7a-81ec-3fb92a1f32cb",
   "metadata": {},
   "outputs": [],
   "source": [
    "#| export\n",
    "@patch\n",
    "def _obs_from_state(self: KalmanFilter, state: ListMNormal):\n",
    "\n",
    "    mean = self.obs_matrix @ state.mean.unsqueeze(-1) + self.obs_off.unsqueeze(-1)\n",
    "    cov = self.obs_matrix @ state.cov @ self.obs_matrix.mT + self.obs_cov\n",
    "    \n",
    "    for c in cov: # this is batched and for all timestamps\n",
    "        self.cov_checker.check(c, caller='predict')\n",
    "    \n",
    "    return ListMNormal(mean.squeeze(-1), cov)"
   ]
  },
  {
   "cell_type": "code",
   "execution_count": null,
   "id": "21402787-cf5f-4498-8ff4-fc6d865006a6",
   "metadata": {},
   "outputs": [
    {
     "data": {
      "text/plain": [
       "(torch.Size([2, 10, 4]), torch.Size([2, 10, 4, 4]))"
      ]
     },
     "execution_count": null,
     "metadata": {},
     "output_type": "execute_result"
    }
   ],
   "source": [
    "smoothed_state.mean.shape, smoothed_state.cov.shape"
   ]
  },
  {
   "cell_type": "code",
   "execution_count": null,
   "id": "e0987627-8ccc-4fa5-8ab0-f95d871ba199",
   "metadata": {},
   "outputs": [
    {
     "data": {
      "text/plain": [
       "torch.Size([2, 10, 3, 1])"
      ]
     },
     "execution_count": null,
     "metadata": {},
     "output_type": "execute_result"
    }
   ],
   "source": [
    "(k.obs_matrix @ smoothed_state.mean.unsqueeze(-1)).shape"
   ]
  },
  {
   "cell_type": "code",
   "execution_count": null,
   "id": "5ac36f65-dde3-45ed-b6f0-e7ed0931f0a7",
   "metadata": {},
   "outputs": [
    {
     "data": {
      "text/plain": [
       "torch.Size([2, 10, 3])"
      ]
     },
     "execution_count": null,
     "metadata": {},
     "output_type": "execute_result"
    }
   ],
   "source": [
    "pred_obs0 = k._obs_from_state(smoothed_state)\n",
    "pred_obs0.mean.shape"
   ]
  },
  {
   "cell_type": "code",
   "execution_count": null,
   "id": "2950683a-cadc-45e2-aed3-639a56e6b324",
   "metadata": {},
   "outputs": [
    {
     "data": {
      "text/plain": [
       "torch.Size([2, 10, 3, 3])"
      ]
     },
     "execution_count": null,
     "metadata": {},
     "output_type": "execute_result"
    }
   ],
   "source": [
    "pred_obs0.cov.shape"
   ]
  },
  {
   "cell_type": "code",
   "execution_count": null,
   "id": "743f6603-1d34-4f00-90d0-0a2f0466423b",
   "metadata": {},
   "outputs": [],
   "source": [
    "#| export\n",
    "@patch\n",
    "def predict(self: KalmanFilter, obs, mask, control, smooth=True):\n",
    "    \"\"\"Predicted observations at all times \"\"\"\n",
    "    state = self.smooth(obs, mask, control) if smooth else self.filter(obs, mask, control)\n",
    "    obs, mask = self._parse_obs(obs, mask)\n",
    "    \n",
    "    pred_obs = self._obs_from_state(state)\n",
    "    # conditional predictions are slow, do only if some obs are missing \n",
    "    cond_mask = torch.logical_xor(mask.all(-1), mask.any(-1))\n",
    "    \n",
    "    # this cannot be batched so returns a list\n",
    "    cond_preds = cond_gaussian_batched(\n",
    "        pred_obs[cond_mask], obs[cond_mask], mask[cond_mask])\n",
    "    \n",
    "    pred_mean, pred_std = pred_obs.mean, cov2std(pred_obs.cov) # multiple [] still not properly implemented in ListMNormal\n",
    "    \n",
    "    for i, c_pred in enumerate(cond_preds):\n",
    "        m = ~mask[cond_mask][i]\n",
    "        pred_mean[cond_mask][i][m] = c_pred.mean\n",
    "        pred_std [cond_mask][i][m] = cov2std(c_pred.cov)\n",
    "    \n",
    "    return ListNormal(pred_mean, pred_std)"
   ]
  },
  {
   "cell_type": "code",
   "execution_count": null,
   "id": "d8a1d554-5ac8-44ef-b849-00512f68deda",
   "metadata": {},
   "outputs": [],
   "source": [
    "pred = k.predict(data, mask, control)"
   ]
  },
  {
   "cell_type": "code",
   "execution_count": null,
   "id": "b81dcc01-850c-409b-9de2-5a0643bc9f97",
   "metadata": {},
   "outputs": [
    {
     "data": {
      "text/plain": [
       "(torch.Size([2, 10, 3]), torch.Size([2, 10, 3]))"
      ]
     },
     "execution_count": null,
     "metadata": {},
     "output_type": "execute_result"
    }
   ],
   "source": [
    "pred.mean.shape, pred.std.shape"
   ]
  },
  {
   "cell_type": "markdown",
   "id": "c783f1a6-7a9c-4dc6-8788-b119ed310f64",
   "metadata": {},
   "source": [
    "Gradients ..."
   ]
  },
  {
   "cell_type": "code",
   "execution_count": null,
   "id": "9bcf8a74-78e4-40dc-98fc-b33378fcc161",
   "metadata": {},
   "outputs": [],
   "source": [
    "def get_grad_mask(x):\n",
    "    \"filter gradient after sub the masks value with x\"\n",
    "    d = data.clone()\n",
    "    d[~mask] = x\n",
    "    k.predict(data, mask, control).mean.sum().backward(retain_graph=True)\n",
    "    grad = k.obs_cov_raw.grad.clone()\n",
    "    k.zero_grad() \n",
    "    return grad"
   ]
  },
  {
   "cell_type": "code",
   "execution_count": null,
   "id": "35cf6cbe-8c4d-41e7-8cc5-994e0c6f1eb3",
   "metadata": {},
   "outputs": [
    {
     "data": {
      "text/plain": [
       "tensor([-9.9394, 17.8374,  2.9461], dtype=torch.float64)"
      ]
     },
     "execution_count": null,
     "metadata": {},
     "output_type": "execute_result"
    }
   ],
   "source": [
    "get_grad_mask(10)"
   ]
  },
  {
   "cell_type": "code",
   "execution_count": null,
   "id": "236be332-4ed5-45f1-84f3-64e181a78040",
   "metadata": {},
   "outputs": [],
   "source": [
    "test_close(get_grad_mask(1), get_grad_mask(10))"
   ]
  },
  {
   "cell_type": "code",
   "execution_count": null,
   "id": "be89b3b8-1ff2-4177-be49-2c06579608b7",
   "metadata": {},
   "outputs": [],
   "source": [
    "@patch\n",
    "def predict_times(self: KalmanFilter, times, obs, mask=None, smooth=True, check_args=None):\n",
    "    \"\"\"Predicted observations at specific times \"\"\"\n",
    "    state = self.smooth(obs, mask, check_args) if smooth else self.filter(obs, mask, check_args)\n",
    "    obs, mask = self._parse_obs(obs, mask)\n",
    "    times = array1d(times)\n",
    "    \n",
    "    n_timesteps = obs.shape[0]\n",
    "    n_features = obs.shape[1] if len(obs.shape) > 1 else 1\n",
    "    \n",
    "    if times.max() > n_timesteps or times.min() < 0:\n",
    "        raise ValueError(f\"provided times range from {times.min()} to {times.max()}, which is outside allowed range : 0 to {n_timesteps}\")\n",
    "\n",
    "    means = torch.empty((times.shape[0], n_features), dtype=obs.dtype, device=obs.device)\n",
    "    stds = torch.empty((times.shape[0], n_features), dtype=obs.dtype, device=obs.device) \n",
    "    for i, t in enumerate(times):\n",
    "        mean, std = self._obs_from_state(\n",
    "            state.mean[t],\n",
    "            state.cov[t],\n",
    "            {'t': t, **check_args} if check_args is not None else None\n",
    "        )\n",
    "        \n",
    "        means[i], stds[i] = _get_cond_pred(ListNormal(mean, std), obs[t], mask[t])\n",
    "    \n",
    "    return ListNormal(means, stds)  "
   ]
  },
  {
   "cell_type": "markdown",
   "id": "edfa3b42-ae74-4b05-adb9-a85a800f64a9",
   "metadata": {},
   "source": [
    "## Additional"
   ]
  },
  {
   "cell_type": "markdown",
   "id": "55f45d53-0047-4247-82da-1e00566cfac6",
   "metadata": {},
   "source": [
    "### Get Info"
   ]
  },
  {
   "cell_type": "code",
   "execution_count": null,
   "id": "216c3dfc-93b7-42cf-96ff-a67158fdd70f",
   "metadata": {},
   "outputs": [
    {
     "data": {
      "text/plain": [
       "Parameter containing:\n",
       "tensor([[0.5533, 0.3582, 0.8828, 0.3156],\n",
       "        [0.1210, 0.6346, 0.0657, 0.3273],\n",
       "        [0.4661, 0.8703, 0.4889, 0.6028]], dtype=torch.float64,\n",
       "       requires_grad=True)"
      ]
     },
     "execution_count": null,
     "metadata": {},
     "output_type": "execute_result"
    }
   ],
   "source": [
    "k.obs_matrix"
   ]
  },
  {
   "cell_type": "code",
   "execution_count": null,
   "id": "fcedaf90-f76f-4dfa-8ad3-ec0bab7d327c",
   "metadata": {},
   "outputs": [],
   "source": [
    "#| export\n",
    "@patch\n",
    "def get_info(self: KalmanFilter):\n",
    "    out = {}\n",
    "    var_names = ifnone(self.var_names, [f\"y_{i}\" for i in range(self.obs_matrix.shape[0])])\n",
    "    latent_names = [f\"x_{i}\" for i in range(self.trans_matrix.shape[0])]\n",
    "    contr_names = ifnone(self.contr_names, [f\"c_{i}\" for i in range(self.contr_matrix.shape[1])])\n",
    "    out['trans matrix (A)'] = array2df(self.trans_matrix,    latent_names, latent_names, 'state')\n",
    "    out['trans cov (Q)']    = array2df(self.trans_cov,       latent_names, latent_names, 'state')\n",
    "    out['trans off']        = array2df(self.trans_off,       latent_names, ['offset'],   'state')\n",
    "    out['obs matrix (H)']   = array2df(self.obs_matrix,      var_names,    latent_names, 'variable')\n",
    "    out['obs cov (R)']      = array2df(self.obs_cov,         var_names,    var_names,    'variable')\n",
    "    out['obs off']          = array2df(self.obs_off,         var_names,    ['offset'],   'variable')\n",
    "    out['contr matrix (B)'] = array2df(self.contr_matrix,    latent_names, contr_names,  'state')\n",
    "    out['init state mean']  = array2df(self.init_state_mean, latent_names, ['mean'],     'state')\n",
    "    out['init state cov']   = array2df(self.init_state_cov,  latent_names, latent_names, 'state')\n",
    "\n",
    "    return out"
   ]
  },
  {
   "cell_type": "code",
   "execution_count": null,
   "id": "dcaa323f-6717-4ddf-aa09-f472da84703c",
   "metadata": {},
   "outputs": [
    {
     "data": {
      "text/plain": [
       "Parameter containing:\n",
       "tensor([[2.6977e-01, 7.9453e-01, 1.6282e-01],\n",
       "        [2.3017e-01, 6.1964e-01, 4.0785e-01],\n",
       "        [5.3003e-01, 4.5534e-01, 4.3027e-01],\n",
       "        [7.5926e-01, 2.3556e-04, 1.8805e-01]], dtype=torch.float64,\n",
       "       requires_grad=True)"
      ]
     },
     "execution_count": null,
     "metadata": {},
     "output_type": "execute_result"
    }
   ],
   "source": [
    "k.contr_matrix"
   ]
  },
  {
   "cell_type": "code",
   "execution_count": null,
   "id": "77fe929e-84fd-4564-907f-143f7c7101ee",
   "metadata": {},
   "outputs": [
    {
     "data": {
      "text/html": [
       "<p style='font-size: 1.5rem; font-decoration: bold'><p><div style=\"display: flex; column-gap: 20px; flex-wrap: wrap;\" class='table table-striped table-sm'> <div> <p style='font-size: 1.3rem;'>trans_matrix (A)</p> <style type=\"text/css\">\n",
       "</style>\n",
       "<table id=\"T_bca95\">\n",
       "  <thead>\n",
       "    <tr>\n",
       "      <th class=\"blank level0\" >&nbsp;</th>\n",
       "      <th id=\"T_bca95_level0_col0\" class=\"col_heading level0 col0\" >state</th>\n",
       "      <th id=\"T_bca95_level0_col1\" class=\"col_heading level0 col1\" >x_0</th>\n",
       "      <th id=\"T_bca95_level0_col2\" class=\"col_heading level0 col2\" >x_1</th>\n",
       "      <th id=\"T_bca95_level0_col3\" class=\"col_heading level0 col3\" >x_2</th>\n",
       "      <th id=\"T_bca95_level0_col4\" class=\"col_heading level0 col4\" >x_3</th>\n",
       "    </tr>\n",
       "  </thead>\n",
       "  <tbody>\n",
       "    <tr>\n",
       "      <th id=\"T_bca95_level0_row0\" class=\"row_heading level0 row0\" >0</th>\n",
       "      <td id=\"T_bca95_row0_col0\" class=\"data row0 col0\" >x_0</td>\n",
       "      <td id=\"T_bca95_row0_col1\" class=\"data row0 col1\" >0.6023</td>\n",
       "      <td id=\"T_bca95_row0_col2\" class=\"data row0 col2\" >0.3413</td>\n",
       "      <td id=\"T_bca95_row0_col3\" class=\"data row0 col3\" >0.3698</td>\n",
       "      <td id=\"T_bca95_row0_col4\" class=\"data row0 col4\" >0.6603</td>\n",
       "    </tr>\n",
       "    <tr>\n",
       "      <th id=\"T_bca95_level0_row1\" class=\"row_heading level0 row1\" >1</th>\n",
       "      <td id=\"T_bca95_row1_col0\" class=\"data row1 col0\" >x_1</td>\n",
       "      <td id=\"T_bca95_row1_col1\" class=\"data row1 col1\" >0.6889</td>\n",
       "      <td id=\"T_bca95_row1_col2\" class=\"data row1 col2\" >0.2815</td>\n",
       "      <td id=\"T_bca95_row1_col3\" class=\"data row1 col3\" >0.5281</td>\n",
       "      <td id=\"T_bca95_row1_col4\" class=\"data row1 col4\" >0.8140</td>\n",
       "    </tr>\n",
       "    <tr>\n",
       "      <th id=\"T_bca95_level0_row2\" class=\"row_heading level0 row2\" >2</th>\n",
       "      <td id=\"T_bca95_row2_col0\" class=\"data row2 col0\" >x_2</td>\n",
       "      <td id=\"T_bca95_row2_col1\" class=\"data row2 col1\" >0.2740</td>\n",
       "      <td id=\"T_bca95_row2_col2\" class=\"data row2 col2\" >0.7634</td>\n",
       "      <td id=\"T_bca95_row2_col3\" class=\"data row2 col3\" >0.2004</td>\n",
       "      <td id=\"T_bca95_row2_col4\" class=\"data row2 col4\" >0.6965</td>\n",
       "    </tr>\n",
       "    <tr>\n",
       "      <th id=\"T_bca95_level0_row3\" class=\"row_heading level0 row3\" >3</th>\n",
       "      <td id=\"T_bca95_row3_col0\" class=\"data row3 col0\" >x_3</td>\n",
       "      <td id=\"T_bca95_row3_col1\" class=\"data row3 col1\" >0.8038</td>\n",
       "      <td id=\"T_bca95_row3_col2\" class=\"data row3 col2\" >0.2749</td>\n",
       "      <td id=\"T_bca95_row3_col3\" class=\"data row3 col3\" >0.6018</td>\n",
       "      <td id=\"T_bca95_row3_col4\" class=\"data row3 col4\" >0.9625</td>\n",
       "    </tr>\n",
       "  </tbody>\n",
       "</table>\n",
       " </div><div> <p style='font-size: 1.3rem;'>trans_cov (Q)</p> <style type=\"text/css\">\n",
       "</style>\n",
       "<table id=\"T_76410\">\n",
       "  <thead>\n",
       "    <tr>\n",
       "      <th class=\"blank level0\" >&nbsp;</th>\n",
       "      <th id=\"T_76410_level0_col0\" class=\"col_heading level0 col0\" >state</th>\n",
       "      <th id=\"T_76410_level0_col1\" class=\"col_heading level0 col1\" >x_0</th>\n",
       "      <th id=\"T_76410_level0_col2\" class=\"col_heading level0 col2\" >x_1</th>\n",
       "      <th id=\"T_76410_level0_col3\" class=\"col_heading level0 col3\" >x_2</th>\n",
       "      <th id=\"T_76410_level0_col4\" class=\"col_heading level0 col4\" >x_3</th>\n",
       "    </tr>\n",
       "  </thead>\n",
       "  <tbody>\n",
       "    <tr>\n",
       "      <th id=\"T_76410_level0_row0\" class=\"row_heading level0 row0\" >0</th>\n",
       "      <td id=\"T_76410_row0_col0\" class=\"data row0 col0\" >x_0</td>\n",
       "      <td id=\"T_76410_row0_col1\" class=\"data row0 col1\" >2.1561</td>\n",
       "      <td id=\"T_76410_row0_col2\" class=\"data row0 col2\" >1.4566</td>\n",
       "      <td id=\"T_76410_row0_col3\" class=\"data row0 col3\" >1.1840</td>\n",
       "      <td id=\"T_76410_row0_col4\" class=\"data row0 col4\" >0.6290</td>\n",
       "    </tr>\n",
       "    <tr>\n",
       "      <th id=\"T_76410_level0_row1\" class=\"row_heading level0 row1\" >1</th>\n",
       "      <td id=\"T_76410_row1_col0\" class=\"data row1 col0\" >x_1</td>\n",
       "      <td id=\"T_76410_row1_col1\" class=\"data row1 col1\" >1.4566</td>\n",
       "      <td id=\"T_76410_row1_col2\" class=\"data row1 col2\" >1.0620</td>\n",
       "      <td id=\"T_76410_row1_col3\" class=\"data row1 col3\" >0.7878</td>\n",
       "      <td id=\"T_76410_row1_col4\" class=\"data row1 col4\" >0.5357</td>\n",
       "    </tr>\n",
       "    <tr>\n",
       "      <th id=\"T_76410_level0_row2\" class=\"row_heading level0 row2\" >2</th>\n",
       "      <td id=\"T_76410_row2_col0\" class=\"data row2 col0\" >x_2</td>\n",
       "      <td id=\"T_76410_row2_col1\" class=\"data row2 col1\" >1.1840</td>\n",
       "      <td id=\"T_76410_row2_col2\" class=\"data row2 col2\" >0.7878</td>\n",
       "      <td id=\"T_76410_row2_col3\" class=\"data row2 col3\" >0.7294</td>\n",
       "      <td id=\"T_76410_row2_col4\" class=\"data row2 col4\" >0.3725</td>\n",
       "    </tr>\n",
       "    <tr>\n",
       "      <th id=\"T_76410_level0_row3\" class=\"row_heading level0 row3\" >3</th>\n",
       "      <td id=\"T_76410_row3_col0\" class=\"data row3 col0\" >x_3</td>\n",
       "      <td id=\"T_76410_row3_col1\" class=\"data row3 col1\" >0.6290</td>\n",
       "      <td id=\"T_76410_row3_col2\" class=\"data row3 col2\" >0.5357</td>\n",
       "      <td id=\"T_76410_row3_col3\" class=\"data row3 col3\" >0.3725</td>\n",
       "      <td id=\"T_76410_row3_col4\" class=\"data row3 col4\" >0.3670</td>\n",
       "    </tr>\n",
       "  </tbody>\n",
       "</table>\n",
       " </div><div> <p style='font-size: 1.3rem;'>trans_off</p> <style type=\"text/css\">\n",
       "</style>\n",
       "<table id=\"T_ad29f\">\n",
       "  <thead>\n",
       "    <tr>\n",
       "      <th class=\"blank level0\" >&nbsp;</th>\n",
       "      <th id=\"T_ad29f_level0_col0\" class=\"col_heading level0 col0\" >state</th>\n",
       "      <th id=\"T_ad29f_level0_col1\" class=\"col_heading level0 col1\" >offset</th>\n",
       "    </tr>\n",
       "  </thead>\n",
       "  <tbody>\n",
       "    <tr>\n",
       "      <th id=\"T_ad29f_level0_row0\" class=\"row_heading level0 row0\" >0</th>\n",
       "      <td id=\"T_ad29f_row0_col0\" class=\"data row0 col0\" >x_0</td>\n",
       "      <td id=\"T_ad29f_row0_col1\" class=\"data row0 col1\" >0.0022</td>\n",
       "    </tr>\n",
       "    <tr>\n",
       "      <th id=\"T_ad29f_level0_row1\" class=\"row_heading level0 row1\" >1</th>\n",
       "      <td id=\"T_ad29f_row1_col0\" class=\"data row1 col0\" >x_1</td>\n",
       "      <td id=\"T_ad29f_row1_col1\" class=\"data row1 col1\" >0.9561</td>\n",
       "    </tr>\n",
       "    <tr>\n",
       "      <th id=\"T_ad29f_level0_row2\" class=\"row_heading level0 row2\" >2</th>\n",
       "      <td id=\"T_ad29f_row2_col0\" class=\"data row2 col0\" >x_2</td>\n",
       "      <td id=\"T_ad29f_row2_col1\" class=\"data row2 col1\" >0.7751</td>\n",
       "    </tr>\n",
       "    <tr>\n",
       "      <th id=\"T_ad29f_level0_row3\" class=\"row_heading level0 row3\" >3</th>\n",
       "      <td id=\"T_ad29f_row3_col0\" class=\"data row3 col0\" >x_3</td>\n",
       "      <td id=\"T_ad29f_row3_col1\" class=\"data row3 col1\" >0.1734</td>\n",
       "    </tr>\n",
       "  </tbody>\n",
       "</table>\n",
       " </div><div> <p style='font-size: 1.3rem;'>obs_matrix (H)</p> <style type=\"text/css\">\n",
       "</style>\n",
       "<table id=\"T_b44bf\">\n",
       "  <thead>\n",
       "    <tr>\n",
       "      <th class=\"blank level0\" >&nbsp;</th>\n",
       "      <th id=\"T_b44bf_level0_col0\" class=\"col_heading level0 col0\" >variable</th>\n",
       "      <th id=\"T_b44bf_level0_col1\" class=\"col_heading level0 col1\" >x_0</th>\n",
       "      <th id=\"T_b44bf_level0_col2\" class=\"col_heading level0 col2\" >x_1</th>\n",
       "      <th id=\"T_b44bf_level0_col3\" class=\"col_heading level0 col3\" >x_2</th>\n",
       "      <th id=\"T_b44bf_level0_col4\" class=\"col_heading level0 col4\" >x_3</th>\n",
       "    </tr>\n",
       "  </thead>\n",
       "  <tbody>\n",
       "    <tr>\n",
       "      <th id=\"T_b44bf_level0_row0\" class=\"row_heading level0 row0\" >0</th>\n",
       "      <td id=\"T_b44bf_row0_col0\" class=\"data row0 col0\" >y_0</td>\n",
       "      <td id=\"T_b44bf_row0_col1\" class=\"data row0 col1\" >0.5533</td>\n",
       "      <td id=\"T_b44bf_row0_col2\" class=\"data row0 col2\" >0.3582</td>\n",
       "      <td id=\"T_b44bf_row0_col3\" class=\"data row0 col3\" >0.8828</td>\n",
       "      <td id=\"T_b44bf_row0_col4\" class=\"data row0 col4\" >0.3156</td>\n",
       "    </tr>\n",
       "    <tr>\n",
       "      <th id=\"T_b44bf_level0_row1\" class=\"row_heading level0 row1\" >1</th>\n",
       "      <td id=\"T_b44bf_row1_col0\" class=\"data row1 col0\" >y_1</td>\n",
       "      <td id=\"T_b44bf_row1_col1\" class=\"data row1 col1\" >0.1210</td>\n",
       "      <td id=\"T_b44bf_row1_col2\" class=\"data row1 col2\" >0.6346</td>\n",
       "      <td id=\"T_b44bf_row1_col3\" class=\"data row1 col3\" >0.0657</td>\n",
       "      <td id=\"T_b44bf_row1_col4\" class=\"data row1 col4\" >0.3273</td>\n",
       "    </tr>\n",
       "    <tr>\n",
       "      <th id=\"T_b44bf_level0_row2\" class=\"row_heading level0 row2\" >2</th>\n",
       "      <td id=\"T_b44bf_row2_col0\" class=\"data row2 col0\" >y_2</td>\n",
       "      <td id=\"T_b44bf_row2_col1\" class=\"data row2 col1\" >0.4661</td>\n",
       "      <td id=\"T_b44bf_row2_col2\" class=\"data row2 col2\" >0.8703</td>\n",
       "      <td id=\"T_b44bf_row2_col3\" class=\"data row2 col3\" >0.4889</td>\n",
       "      <td id=\"T_b44bf_row2_col4\" class=\"data row2 col4\" >0.6028</td>\n",
       "    </tr>\n",
       "  </tbody>\n",
       "</table>\n",
       " </div><div> <p style='font-size: 1.3rem;'>obs_cov (R)</p> <style type=\"text/css\">\n",
       "</style>\n",
       "<table id=\"T_24b59\">\n",
       "  <thead>\n",
       "    <tr>\n",
       "      <th class=\"blank level0\" >&nbsp;</th>\n",
       "      <th id=\"T_24b59_level0_col0\" class=\"col_heading level0 col0\" >variable</th>\n",
       "      <th id=\"T_24b59_level0_col1\" class=\"col_heading level0 col1\" >y_0</th>\n",
       "      <th id=\"T_24b59_level0_col2\" class=\"col_heading level0 col2\" >y_1</th>\n",
       "      <th id=\"T_24b59_level0_col3\" class=\"col_heading level0 col3\" >y_2</th>\n",
       "    </tr>\n",
       "  </thead>\n",
       "  <tbody>\n",
       "    <tr>\n",
       "      <th id=\"T_24b59_level0_row0\" class=\"row_heading level0 row0\" >0</th>\n",
       "      <td id=\"T_24b59_row0_col0\" class=\"data row0 col0\" >y_0</td>\n",
       "      <td id=\"T_24b59_row0_col1\" class=\"data row0 col1\" >0.5540</td>\n",
       "      <td id=\"T_24b59_row0_col2\" class=\"data row0 col2\" >0.0000</td>\n",
       "      <td id=\"T_24b59_row0_col3\" class=\"data row0 col3\" >0.0000</td>\n",
       "    </tr>\n",
       "    <tr>\n",
       "      <th id=\"T_24b59_level0_row1\" class=\"row_heading level0 row1\" >1</th>\n",
       "      <td id=\"T_24b59_row1_col0\" class=\"data row1 col0\" >y_1</td>\n",
       "      <td id=\"T_24b59_row1_col1\" class=\"data row1 col1\" >0.0000</td>\n",
       "      <td id=\"T_24b59_row1_col2\" class=\"data row1 col2\" >0.9728</td>\n",
       "      <td id=\"T_24b59_row1_col3\" class=\"data row1 col3\" >0.0000</td>\n",
       "    </tr>\n",
       "    <tr>\n",
       "      <th id=\"T_24b59_level0_row2\" class=\"row_heading level0 row2\" >2</th>\n",
       "      <td id=\"T_24b59_row2_col0\" class=\"data row2 col0\" >y_2</td>\n",
       "      <td id=\"T_24b59_row2_col1\" class=\"data row2 col1\" >0.0000</td>\n",
       "      <td id=\"T_24b59_row2_col2\" class=\"data row2 col2\" >0.0000</td>\n",
       "      <td id=\"T_24b59_row2_col3\" class=\"data row2 col3\" >1.4943</td>\n",
       "    </tr>\n",
       "  </tbody>\n",
       "</table>\n",
       " </div><div> <p style='font-size: 1.3rem;'>obs_off</p> <style type=\"text/css\">\n",
       "</style>\n",
       "<table id=\"T_d56eb\">\n",
       "  <thead>\n",
       "    <tr>\n",
       "      <th class=\"blank level0\" >&nbsp;</th>\n",
       "      <th id=\"T_d56eb_level0_col0\" class=\"col_heading level0 col0\" >variable</th>\n",
       "      <th id=\"T_d56eb_level0_col1\" class=\"col_heading level0 col1\" >offset</th>\n",
       "    </tr>\n",
       "  </thead>\n",
       "  <tbody>\n",
       "    <tr>\n",
       "      <th id=\"T_d56eb_level0_row0\" class=\"row_heading level0 row0\" >0</th>\n",
       "      <td id=\"T_d56eb_row0_col0\" class=\"data row0 col0\" >y_0</td>\n",
       "      <td id=\"T_d56eb_row0_col1\" class=\"data row0 col1\" >0.4648</td>\n",
       "    </tr>\n",
       "    <tr>\n",
       "      <th id=\"T_d56eb_level0_row1\" class=\"row_heading level0 row1\" >1</th>\n",
       "      <td id=\"T_d56eb_row1_col0\" class=\"data row1 col0\" >y_1</td>\n",
       "      <td id=\"T_d56eb_row1_col1\" class=\"data row1 col1\" >0.9363</td>\n",
       "    </tr>\n",
       "    <tr>\n",
       "      <th id=\"T_d56eb_level0_row2\" class=\"row_heading level0 row2\" >2</th>\n",
       "      <td id=\"T_d56eb_row2_col0\" class=\"data row2 col0\" >y_2</td>\n",
       "      <td id=\"T_d56eb_row2_col1\" class=\"data row2 col1\" >0.8193</td>\n",
       "    </tr>\n",
       "  </tbody>\n",
       "</table>\n",
       " </div><div> <p style='font-size: 1.3rem;'>contr_matrix (B)</p> <style type=\"text/css\">\n",
       "</style>\n",
       "<table id=\"T_20338\">\n",
       "  <thead>\n",
       "    <tr>\n",
       "      <th class=\"blank level0\" >&nbsp;</th>\n",
       "      <th id=\"T_20338_level0_col0\" class=\"col_heading level0 col0\" >control</th>\n",
       "      <th id=\"T_20338_level0_col1\" class=\"col_heading level0 col1\" >c_0</th>\n",
       "      <th id=\"T_20338_level0_col2\" class=\"col_heading level0 col2\" >c_1</th>\n",
       "      <th id=\"T_20338_level0_col3\" class=\"col_heading level0 col3\" >c_2</th>\n",
       "    </tr>\n",
       "  </thead>\n",
       "  <tbody>\n",
       "    <tr>\n",
       "      <th id=\"T_20338_level0_row0\" class=\"row_heading level0 row0\" >0</th>\n",
       "      <td id=\"T_20338_row0_col0\" class=\"data row0 col0\" >x_0</td>\n",
       "      <td id=\"T_20338_row0_col1\" class=\"data row0 col1\" >0.2698</td>\n",
       "      <td id=\"T_20338_row0_col2\" class=\"data row0 col2\" >0.7945</td>\n",
       "      <td id=\"T_20338_row0_col3\" class=\"data row0 col3\" >0.1628</td>\n",
       "    </tr>\n",
       "    <tr>\n",
       "      <th id=\"T_20338_level0_row1\" class=\"row_heading level0 row1\" >1</th>\n",
       "      <td id=\"T_20338_row1_col0\" class=\"data row1 col0\" >x_1</td>\n",
       "      <td id=\"T_20338_row1_col1\" class=\"data row1 col1\" >0.2302</td>\n",
       "      <td id=\"T_20338_row1_col2\" class=\"data row1 col2\" >0.6196</td>\n",
       "      <td id=\"T_20338_row1_col3\" class=\"data row1 col3\" >0.4079</td>\n",
       "    </tr>\n",
       "    <tr>\n",
       "      <th id=\"T_20338_level0_row2\" class=\"row_heading level0 row2\" >2</th>\n",
       "      <td id=\"T_20338_row2_col0\" class=\"data row2 col0\" >x_2</td>\n",
       "      <td id=\"T_20338_row2_col1\" class=\"data row2 col1\" >0.5300</td>\n",
       "      <td id=\"T_20338_row2_col2\" class=\"data row2 col2\" >0.4553</td>\n",
       "      <td id=\"T_20338_row2_col3\" class=\"data row2 col3\" >0.4303</td>\n",
       "    </tr>\n",
       "    <tr>\n",
       "      <th id=\"T_20338_level0_row3\" class=\"row_heading level0 row3\" >3</th>\n",
       "      <td id=\"T_20338_row3_col0\" class=\"data row3 col0\" >x_3</td>\n",
       "      <td id=\"T_20338_row3_col1\" class=\"data row3 col1\" >0.7593</td>\n",
       "      <td id=\"T_20338_row3_col2\" class=\"data row3 col2\" >0.0002</td>\n",
       "      <td id=\"T_20338_row3_col3\" class=\"data row3 col3\" >0.1881</td>\n",
       "    </tr>\n",
       "  </tbody>\n",
       "</table>\n",
       " </div><div> <p style='font-size: 1.3rem;'>init_state_mean</p> <style type=\"text/css\">\n",
       "</style>\n",
       "<table id=\"T_aea38\">\n",
       "  <thead>\n",
       "    <tr>\n",
       "      <th class=\"blank level0\" >&nbsp;</th>\n",
       "      <th id=\"T_aea38_level0_col0\" class=\"col_heading level0 col0\" >state</th>\n",
       "      <th id=\"T_aea38_level0_col1\" class=\"col_heading level0 col1\" >mean</th>\n",
       "    </tr>\n",
       "  </thead>\n",
       "  <tbody>\n",
       "    <tr>\n",
       "      <th id=\"T_aea38_level0_row0\" class=\"row_heading level0 row0\" >0</th>\n",
       "      <td id=\"T_aea38_row0_col0\" class=\"data row0 col0\" >x_0</td>\n",
       "      <td id=\"T_aea38_row0_col1\" class=\"data row0 col1\" >0.7244</td>\n",
       "    </tr>\n",
       "    <tr>\n",
       "      <th id=\"T_aea38_level0_row1\" class=\"row_heading level0 row1\" >1</th>\n",
       "      <td id=\"T_aea38_row1_col0\" class=\"data row1 col0\" >x_1</td>\n",
       "      <td id=\"T_aea38_row1_col1\" class=\"data row1 col1\" >0.6438</td>\n",
       "    </tr>\n",
       "    <tr>\n",
       "      <th id=\"T_aea38_level0_row2\" class=\"row_heading level0 row2\" >2</th>\n",
       "      <td id=\"T_aea38_row2_col0\" class=\"data row2 col0\" >x_2</td>\n",
       "      <td id=\"T_aea38_row2_col1\" class=\"data row2 col1\" >0.9570</td>\n",
       "    </tr>\n",
       "    <tr>\n",
       "      <th id=\"T_aea38_level0_row3\" class=\"row_heading level0 row3\" >3</th>\n",
       "      <td id=\"T_aea38_row3_col0\" class=\"data row3 col0\" >x_3</td>\n",
       "      <td id=\"T_aea38_row3_col1\" class=\"data row3 col1\" >0.8085</td>\n",
       "    </tr>\n",
       "  </tbody>\n",
       "</table>\n",
       " </div><div> <p style='font-size: 1.3rem;'>init_state_cov</p> <style type=\"text/css\">\n",
       "</style>\n",
       "<table id=\"T_4d034\">\n",
       "  <thead>\n",
       "    <tr>\n",
       "      <th class=\"blank level0\" >&nbsp;</th>\n",
       "      <th id=\"T_4d034_level0_col0\" class=\"col_heading level0 col0\" >state</th>\n",
       "      <th id=\"T_4d034_level0_col1\" class=\"col_heading level0 col1\" >x_0</th>\n",
       "      <th id=\"T_4d034_level0_col2\" class=\"col_heading level0 col2\" >x_1</th>\n",
       "      <th id=\"T_4d034_level0_col3\" class=\"col_heading level0 col3\" >x_2</th>\n",
       "      <th id=\"T_4d034_level0_col4\" class=\"col_heading level0 col4\" >x_3</th>\n",
       "    </tr>\n",
       "  </thead>\n",
       "  <tbody>\n",
       "    <tr>\n",
       "      <th id=\"T_4d034_level0_row0\" class=\"row_heading level0 row0\" >0</th>\n",
       "      <td id=\"T_4d034_row0_col0\" class=\"data row0 col0\" >x_0</td>\n",
       "      <td id=\"T_4d034_row0_col1\" class=\"data row0 col1\" >0.8758</td>\n",
       "      <td id=\"T_4d034_row0_col2\" class=\"data row0 col2\" >0.7556</td>\n",
       "      <td id=\"T_4d034_row0_col3\" class=\"data row0 col3\" >0.4823</td>\n",
       "      <td id=\"T_4d034_row0_col4\" class=\"data row0 col4\" >0.6878</td>\n",
       "    </tr>\n",
       "    <tr>\n",
       "      <th id=\"T_4d034_level0_row1\" class=\"row_heading level0 row1\" >1</th>\n",
       "      <td id=\"T_4d034_row1_col0\" class=\"data row1 col0\" >x_1</td>\n",
       "      <td id=\"T_4d034_row1_col1\" class=\"data row1 col1\" >0.7556</td>\n",
       "      <td id=\"T_4d034_row1_col2\" class=\"data row1 col2\" >0.9753</td>\n",
       "      <td id=\"T_4d034_row1_col3\" class=\"data row1 col3\" >0.7402</td>\n",
       "      <td id=\"T_4d034_row1_col4\" class=\"data row1 col4\" >0.6828</td>\n",
       "    </tr>\n",
       "    <tr>\n",
       "      <th id=\"T_4d034_level0_row2\" class=\"row_heading level0 row2\" >2</th>\n",
       "      <td id=\"T_4d034_row2_col0\" class=\"data row2 col0\" >x_2</td>\n",
       "      <td id=\"T_4d034_row2_col1\" class=\"data row2 col1\" >0.4823</td>\n",
       "      <td id=\"T_4d034_row2_col2\" class=\"data row2 col2\" >0.7402</td>\n",
       "      <td id=\"T_4d034_row2_col3\" class=\"data row2 col3\" >1.0871</td>\n",
       "      <td id=\"T_4d034_row2_col4\" class=\"data row2 col4\" >0.5918</td>\n",
       "    </tr>\n",
       "    <tr>\n",
       "      <th id=\"T_4d034_level0_row3\" class=\"row_heading level0 row3\" >3</th>\n",
       "      <td id=\"T_4d034_row3_col0\" class=\"data row3 col0\" >x_3</td>\n",
       "      <td id=\"T_4d034_row3_col1\" class=\"data row3 col1\" >0.6878</td>\n",
       "      <td id=\"T_4d034_row3_col2\" class=\"data row3 col2\" >0.6828</td>\n",
       "      <td id=\"T_4d034_row3_col3\" class=\"data row3 col3\" >0.5918</td>\n",
       "      <td id=\"T_4d034_row3_col4\" class=\"data row3 col4\" >0.7291</td>\n",
       "    </tr>\n",
       "  </tbody>\n",
       "</table>\n",
       " </div></div>"
      ],
      "text/plain": [
       "<IPython.core.display.HTML object>"
      ]
     },
     "metadata": {},
     "output_type": "display_data"
    }
   ],
   "source": [
    "display_as_row(k.get_info())"
   ]
  },
  {
   "cell_type": "code",
   "execution_count": null,
   "id": "bce86fa8-b17d-4004-a8d8-db1d5e50fff7",
   "metadata": {},
   "outputs": [],
   "source": [
    "#| export\n",
    "@patch\n",
    "def _repr_html_(self: KalmanFilter):\n",
    "    title = f\"Kalman Filter ({self.n_dim_obs} obs, {self.n_dim_state} state, {self.n_dim_contr} contr)\"\n",
    "    return row_dfs(self.get_info(), title , hide_idx=True)"
   ]
  },
  {
   "cell_type": "code",
   "execution_count": null,
   "id": "b2a5b8c2-a939-4b50-a3c4-508516be076d",
   "metadata": {},
   "outputs": [
    {
     "data": {
      "text/html": [
       "<p style='font-size: 1.5rem; font-decoration: bold'>Kalman Filter (3 obs, 4 state, 3 contr)<p><div style=\"display: flex; column-gap: 20px; flex-wrap: wrap;\" class='table table-striped table-sm'> <div> <p style='font-size: 1.3rem;'>trans_matrix (A)</p> <style type=\"text/css\">\n",
       "</style>\n",
       "<table id=\"T_52a0f\">\n",
       "  <thead>\n",
       "    <tr>\n",
       "      <th id=\"T_52a0f_level0_col0\" class=\"col_heading level0 col0\" >state</th>\n",
       "      <th id=\"T_52a0f_level0_col1\" class=\"col_heading level0 col1\" >x_0</th>\n",
       "      <th id=\"T_52a0f_level0_col2\" class=\"col_heading level0 col2\" >x_1</th>\n",
       "      <th id=\"T_52a0f_level0_col3\" class=\"col_heading level0 col3\" >x_2</th>\n",
       "      <th id=\"T_52a0f_level0_col4\" class=\"col_heading level0 col4\" >x_3</th>\n",
       "    </tr>\n",
       "  </thead>\n",
       "  <tbody>\n",
       "    <tr>\n",
       "      <td id=\"T_52a0f_row0_col0\" class=\"data row0 col0\" >x_0</td>\n",
       "      <td id=\"T_52a0f_row0_col1\" class=\"data row0 col1\" >0.6023</td>\n",
       "      <td id=\"T_52a0f_row0_col2\" class=\"data row0 col2\" >0.3413</td>\n",
       "      <td id=\"T_52a0f_row0_col3\" class=\"data row0 col3\" >0.3698</td>\n",
       "      <td id=\"T_52a0f_row0_col4\" class=\"data row0 col4\" >0.6603</td>\n",
       "    </tr>\n",
       "    <tr>\n",
       "      <td id=\"T_52a0f_row1_col0\" class=\"data row1 col0\" >x_1</td>\n",
       "      <td id=\"T_52a0f_row1_col1\" class=\"data row1 col1\" >0.6889</td>\n",
       "      <td id=\"T_52a0f_row1_col2\" class=\"data row1 col2\" >0.2815</td>\n",
       "      <td id=\"T_52a0f_row1_col3\" class=\"data row1 col3\" >0.5281</td>\n",
       "      <td id=\"T_52a0f_row1_col4\" class=\"data row1 col4\" >0.8140</td>\n",
       "    </tr>\n",
       "    <tr>\n",
       "      <td id=\"T_52a0f_row2_col0\" class=\"data row2 col0\" >x_2</td>\n",
       "      <td id=\"T_52a0f_row2_col1\" class=\"data row2 col1\" >0.2740</td>\n",
       "      <td id=\"T_52a0f_row2_col2\" class=\"data row2 col2\" >0.7634</td>\n",
       "      <td id=\"T_52a0f_row2_col3\" class=\"data row2 col3\" >0.2004</td>\n",
       "      <td id=\"T_52a0f_row2_col4\" class=\"data row2 col4\" >0.6965</td>\n",
       "    </tr>\n",
       "    <tr>\n",
       "      <td id=\"T_52a0f_row3_col0\" class=\"data row3 col0\" >x_3</td>\n",
       "      <td id=\"T_52a0f_row3_col1\" class=\"data row3 col1\" >0.8038</td>\n",
       "      <td id=\"T_52a0f_row3_col2\" class=\"data row3 col2\" >0.2749</td>\n",
       "      <td id=\"T_52a0f_row3_col3\" class=\"data row3 col3\" >0.6018</td>\n",
       "      <td id=\"T_52a0f_row3_col4\" class=\"data row3 col4\" >0.9625</td>\n",
       "    </tr>\n",
       "  </tbody>\n",
       "</table>\n",
       " </div><div> <p style='font-size: 1.3rem;'>trans_cov (Q)</p> <style type=\"text/css\">\n",
       "</style>\n",
       "<table id=\"T_55e29\">\n",
       "  <thead>\n",
       "    <tr>\n",
       "      <th id=\"T_55e29_level0_col0\" class=\"col_heading level0 col0\" >state</th>\n",
       "      <th id=\"T_55e29_level0_col1\" class=\"col_heading level0 col1\" >x_0</th>\n",
       "      <th id=\"T_55e29_level0_col2\" class=\"col_heading level0 col2\" >x_1</th>\n",
       "      <th id=\"T_55e29_level0_col3\" class=\"col_heading level0 col3\" >x_2</th>\n",
       "      <th id=\"T_55e29_level0_col4\" class=\"col_heading level0 col4\" >x_3</th>\n",
       "    </tr>\n",
       "  </thead>\n",
       "  <tbody>\n",
       "    <tr>\n",
       "      <td id=\"T_55e29_row0_col0\" class=\"data row0 col0\" >x_0</td>\n",
       "      <td id=\"T_55e29_row0_col1\" class=\"data row0 col1\" >2.1561</td>\n",
       "      <td id=\"T_55e29_row0_col2\" class=\"data row0 col2\" >1.4566</td>\n",
       "      <td id=\"T_55e29_row0_col3\" class=\"data row0 col3\" >1.1840</td>\n",
       "      <td id=\"T_55e29_row0_col4\" class=\"data row0 col4\" >0.6290</td>\n",
       "    </tr>\n",
       "    <tr>\n",
       "      <td id=\"T_55e29_row1_col0\" class=\"data row1 col0\" >x_1</td>\n",
       "      <td id=\"T_55e29_row1_col1\" class=\"data row1 col1\" >1.4566</td>\n",
       "      <td id=\"T_55e29_row1_col2\" class=\"data row1 col2\" >1.0620</td>\n",
       "      <td id=\"T_55e29_row1_col3\" class=\"data row1 col3\" >0.7878</td>\n",
       "      <td id=\"T_55e29_row1_col4\" class=\"data row1 col4\" >0.5357</td>\n",
       "    </tr>\n",
       "    <tr>\n",
       "      <td id=\"T_55e29_row2_col0\" class=\"data row2 col0\" >x_2</td>\n",
       "      <td id=\"T_55e29_row2_col1\" class=\"data row2 col1\" >1.1840</td>\n",
       "      <td id=\"T_55e29_row2_col2\" class=\"data row2 col2\" >0.7878</td>\n",
       "      <td id=\"T_55e29_row2_col3\" class=\"data row2 col3\" >0.7294</td>\n",
       "      <td id=\"T_55e29_row2_col4\" class=\"data row2 col4\" >0.3725</td>\n",
       "    </tr>\n",
       "    <tr>\n",
       "      <td id=\"T_55e29_row3_col0\" class=\"data row3 col0\" >x_3</td>\n",
       "      <td id=\"T_55e29_row3_col1\" class=\"data row3 col1\" >0.6290</td>\n",
       "      <td id=\"T_55e29_row3_col2\" class=\"data row3 col2\" >0.5357</td>\n",
       "      <td id=\"T_55e29_row3_col3\" class=\"data row3 col3\" >0.3725</td>\n",
       "      <td id=\"T_55e29_row3_col4\" class=\"data row3 col4\" >0.3670</td>\n",
       "    </tr>\n",
       "  </tbody>\n",
       "</table>\n",
       " </div><div> <p style='font-size: 1.3rem;'>trans_off</p> <style type=\"text/css\">\n",
       "</style>\n",
       "<table id=\"T_2ea1d\">\n",
       "  <thead>\n",
       "    <tr>\n",
       "      <th id=\"T_2ea1d_level0_col0\" class=\"col_heading level0 col0\" >state</th>\n",
       "      <th id=\"T_2ea1d_level0_col1\" class=\"col_heading level0 col1\" >offset</th>\n",
       "    </tr>\n",
       "  </thead>\n",
       "  <tbody>\n",
       "    <tr>\n",
       "      <td id=\"T_2ea1d_row0_col0\" class=\"data row0 col0\" >x_0</td>\n",
       "      <td id=\"T_2ea1d_row0_col1\" class=\"data row0 col1\" >0.0022</td>\n",
       "    </tr>\n",
       "    <tr>\n",
       "      <td id=\"T_2ea1d_row1_col0\" class=\"data row1 col0\" >x_1</td>\n",
       "      <td id=\"T_2ea1d_row1_col1\" class=\"data row1 col1\" >0.9561</td>\n",
       "    </tr>\n",
       "    <tr>\n",
       "      <td id=\"T_2ea1d_row2_col0\" class=\"data row2 col0\" >x_2</td>\n",
       "      <td id=\"T_2ea1d_row2_col1\" class=\"data row2 col1\" >0.7751</td>\n",
       "    </tr>\n",
       "    <tr>\n",
       "      <td id=\"T_2ea1d_row3_col0\" class=\"data row3 col0\" >x_3</td>\n",
       "      <td id=\"T_2ea1d_row3_col1\" class=\"data row3 col1\" >0.1734</td>\n",
       "    </tr>\n",
       "  </tbody>\n",
       "</table>\n",
       " </div><div> <p style='font-size: 1.3rem;'>obs_matrix (H)</p> <style type=\"text/css\">\n",
       "</style>\n",
       "<table id=\"T_71bcb\">\n",
       "  <thead>\n",
       "    <tr>\n",
       "      <th id=\"T_71bcb_level0_col0\" class=\"col_heading level0 col0\" >variable</th>\n",
       "      <th id=\"T_71bcb_level0_col1\" class=\"col_heading level0 col1\" >x_0</th>\n",
       "      <th id=\"T_71bcb_level0_col2\" class=\"col_heading level0 col2\" >x_1</th>\n",
       "      <th id=\"T_71bcb_level0_col3\" class=\"col_heading level0 col3\" >x_2</th>\n",
       "      <th id=\"T_71bcb_level0_col4\" class=\"col_heading level0 col4\" >x_3</th>\n",
       "    </tr>\n",
       "  </thead>\n",
       "  <tbody>\n",
       "    <tr>\n",
       "      <td id=\"T_71bcb_row0_col0\" class=\"data row0 col0\" >y_0</td>\n",
       "      <td id=\"T_71bcb_row0_col1\" class=\"data row0 col1\" >0.5533</td>\n",
       "      <td id=\"T_71bcb_row0_col2\" class=\"data row0 col2\" >0.3582</td>\n",
       "      <td id=\"T_71bcb_row0_col3\" class=\"data row0 col3\" >0.8828</td>\n",
       "      <td id=\"T_71bcb_row0_col4\" class=\"data row0 col4\" >0.3156</td>\n",
       "    </tr>\n",
       "    <tr>\n",
       "      <td id=\"T_71bcb_row1_col0\" class=\"data row1 col0\" >y_1</td>\n",
       "      <td id=\"T_71bcb_row1_col1\" class=\"data row1 col1\" >0.1210</td>\n",
       "      <td id=\"T_71bcb_row1_col2\" class=\"data row1 col2\" >0.6346</td>\n",
       "      <td id=\"T_71bcb_row1_col3\" class=\"data row1 col3\" >0.0657</td>\n",
       "      <td id=\"T_71bcb_row1_col4\" class=\"data row1 col4\" >0.3273</td>\n",
       "    </tr>\n",
       "    <tr>\n",
       "      <td id=\"T_71bcb_row2_col0\" class=\"data row2 col0\" >y_2</td>\n",
       "      <td id=\"T_71bcb_row2_col1\" class=\"data row2 col1\" >0.4661</td>\n",
       "      <td id=\"T_71bcb_row2_col2\" class=\"data row2 col2\" >0.8703</td>\n",
       "      <td id=\"T_71bcb_row2_col3\" class=\"data row2 col3\" >0.4889</td>\n",
       "      <td id=\"T_71bcb_row2_col4\" class=\"data row2 col4\" >0.6028</td>\n",
       "    </tr>\n",
       "  </tbody>\n",
       "</table>\n",
       " </div><div> <p style='font-size: 1.3rem;'>obs_cov (R)</p> <style type=\"text/css\">\n",
       "</style>\n",
       "<table id=\"T_9f084\">\n",
       "  <thead>\n",
       "    <tr>\n",
       "      <th id=\"T_9f084_level0_col0\" class=\"col_heading level0 col0\" >variable</th>\n",
       "      <th id=\"T_9f084_level0_col1\" class=\"col_heading level0 col1\" >y_0</th>\n",
       "      <th id=\"T_9f084_level0_col2\" class=\"col_heading level0 col2\" >y_1</th>\n",
       "      <th id=\"T_9f084_level0_col3\" class=\"col_heading level0 col3\" >y_2</th>\n",
       "    </tr>\n",
       "  </thead>\n",
       "  <tbody>\n",
       "    <tr>\n",
       "      <td id=\"T_9f084_row0_col0\" class=\"data row0 col0\" >y_0</td>\n",
       "      <td id=\"T_9f084_row0_col1\" class=\"data row0 col1\" >0.5540</td>\n",
       "      <td id=\"T_9f084_row0_col2\" class=\"data row0 col2\" >0.0000</td>\n",
       "      <td id=\"T_9f084_row0_col3\" class=\"data row0 col3\" >0.0000</td>\n",
       "    </tr>\n",
       "    <tr>\n",
       "      <td id=\"T_9f084_row1_col0\" class=\"data row1 col0\" >y_1</td>\n",
       "      <td id=\"T_9f084_row1_col1\" class=\"data row1 col1\" >0.0000</td>\n",
       "      <td id=\"T_9f084_row1_col2\" class=\"data row1 col2\" >0.9728</td>\n",
       "      <td id=\"T_9f084_row1_col3\" class=\"data row1 col3\" >0.0000</td>\n",
       "    </tr>\n",
       "    <tr>\n",
       "      <td id=\"T_9f084_row2_col0\" class=\"data row2 col0\" >y_2</td>\n",
       "      <td id=\"T_9f084_row2_col1\" class=\"data row2 col1\" >0.0000</td>\n",
       "      <td id=\"T_9f084_row2_col2\" class=\"data row2 col2\" >0.0000</td>\n",
       "      <td id=\"T_9f084_row2_col3\" class=\"data row2 col3\" >1.4943</td>\n",
       "    </tr>\n",
       "  </tbody>\n",
       "</table>\n",
       " </div><div> <p style='font-size: 1.3rem;'>obs_off</p> <style type=\"text/css\">\n",
       "</style>\n",
       "<table id=\"T_bcadc\">\n",
       "  <thead>\n",
       "    <tr>\n",
       "      <th id=\"T_bcadc_level0_col0\" class=\"col_heading level0 col0\" >variable</th>\n",
       "      <th id=\"T_bcadc_level0_col1\" class=\"col_heading level0 col1\" >offset</th>\n",
       "    </tr>\n",
       "  </thead>\n",
       "  <tbody>\n",
       "    <tr>\n",
       "      <td id=\"T_bcadc_row0_col0\" class=\"data row0 col0\" >y_0</td>\n",
       "      <td id=\"T_bcadc_row0_col1\" class=\"data row0 col1\" >0.4648</td>\n",
       "    </tr>\n",
       "    <tr>\n",
       "      <td id=\"T_bcadc_row1_col0\" class=\"data row1 col0\" >y_1</td>\n",
       "      <td id=\"T_bcadc_row1_col1\" class=\"data row1 col1\" >0.9363</td>\n",
       "    </tr>\n",
       "    <tr>\n",
       "      <td id=\"T_bcadc_row2_col0\" class=\"data row2 col0\" >y_2</td>\n",
       "      <td id=\"T_bcadc_row2_col1\" class=\"data row2 col1\" >0.8193</td>\n",
       "    </tr>\n",
       "  </tbody>\n",
       "</table>\n",
       " </div><div> <p style='font-size: 1.3rem;'>contr_matrix (B)</p> <style type=\"text/css\">\n",
       "</style>\n",
       "<table id=\"T_ad6f9\">\n",
       "  <thead>\n",
       "    <tr>\n",
       "      <th id=\"T_ad6f9_level0_col0\" class=\"col_heading level0 col0\" >control</th>\n",
       "      <th id=\"T_ad6f9_level0_col1\" class=\"col_heading level0 col1\" >c_0</th>\n",
       "      <th id=\"T_ad6f9_level0_col2\" class=\"col_heading level0 col2\" >c_1</th>\n",
       "      <th id=\"T_ad6f9_level0_col3\" class=\"col_heading level0 col3\" >c_2</th>\n",
       "    </tr>\n",
       "  </thead>\n",
       "  <tbody>\n",
       "    <tr>\n",
       "      <td id=\"T_ad6f9_row0_col0\" class=\"data row0 col0\" >x_0</td>\n",
       "      <td id=\"T_ad6f9_row0_col1\" class=\"data row0 col1\" >0.2698</td>\n",
       "      <td id=\"T_ad6f9_row0_col2\" class=\"data row0 col2\" >0.7945</td>\n",
       "      <td id=\"T_ad6f9_row0_col3\" class=\"data row0 col3\" >0.1628</td>\n",
       "    </tr>\n",
       "    <tr>\n",
       "      <td id=\"T_ad6f9_row1_col0\" class=\"data row1 col0\" >x_1</td>\n",
       "      <td id=\"T_ad6f9_row1_col1\" class=\"data row1 col1\" >0.2302</td>\n",
       "      <td id=\"T_ad6f9_row1_col2\" class=\"data row1 col2\" >0.6196</td>\n",
       "      <td id=\"T_ad6f9_row1_col3\" class=\"data row1 col3\" >0.4079</td>\n",
       "    </tr>\n",
       "    <tr>\n",
       "      <td id=\"T_ad6f9_row2_col0\" class=\"data row2 col0\" >x_2</td>\n",
       "      <td id=\"T_ad6f9_row2_col1\" class=\"data row2 col1\" >0.5300</td>\n",
       "      <td id=\"T_ad6f9_row2_col2\" class=\"data row2 col2\" >0.4553</td>\n",
       "      <td id=\"T_ad6f9_row2_col3\" class=\"data row2 col3\" >0.4303</td>\n",
       "    </tr>\n",
       "    <tr>\n",
       "      <td id=\"T_ad6f9_row3_col0\" class=\"data row3 col0\" >x_3</td>\n",
       "      <td id=\"T_ad6f9_row3_col1\" class=\"data row3 col1\" >0.7593</td>\n",
       "      <td id=\"T_ad6f9_row3_col2\" class=\"data row3 col2\" >0.0002</td>\n",
       "      <td id=\"T_ad6f9_row3_col3\" class=\"data row3 col3\" >0.1881</td>\n",
       "    </tr>\n",
       "  </tbody>\n",
       "</table>\n",
       " </div><div> <p style='font-size: 1.3rem;'>init_state_mean</p> <style type=\"text/css\">\n",
       "</style>\n",
       "<table id=\"T_4e8bf\">\n",
       "  <thead>\n",
       "    <tr>\n",
       "      <th id=\"T_4e8bf_level0_col0\" class=\"col_heading level0 col0\" >state</th>\n",
       "      <th id=\"T_4e8bf_level0_col1\" class=\"col_heading level0 col1\" >mean</th>\n",
       "    </tr>\n",
       "  </thead>\n",
       "  <tbody>\n",
       "    <tr>\n",
       "      <td id=\"T_4e8bf_row0_col0\" class=\"data row0 col0\" >x_0</td>\n",
       "      <td id=\"T_4e8bf_row0_col1\" class=\"data row0 col1\" >0.7244</td>\n",
       "    </tr>\n",
       "    <tr>\n",
       "      <td id=\"T_4e8bf_row1_col0\" class=\"data row1 col0\" >x_1</td>\n",
       "      <td id=\"T_4e8bf_row1_col1\" class=\"data row1 col1\" >0.6438</td>\n",
       "    </tr>\n",
       "    <tr>\n",
       "      <td id=\"T_4e8bf_row2_col0\" class=\"data row2 col0\" >x_2</td>\n",
       "      <td id=\"T_4e8bf_row2_col1\" class=\"data row2 col1\" >0.9570</td>\n",
       "    </tr>\n",
       "    <tr>\n",
       "      <td id=\"T_4e8bf_row3_col0\" class=\"data row3 col0\" >x_3</td>\n",
       "      <td id=\"T_4e8bf_row3_col1\" class=\"data row3 col1\" >0.8085</td>\n",
       "    </tr>\n",
       "  </tbody>\n",
       "</table>\n",
       " </div><div> <p style='font-size: 1.3rem;'>init_state_cov</p> <style type=\"text/css\">\n",
       "</style>\n",
       "<table id=\"T_62d59\">\n",
       "  <thead>\n",
       "    <tr>\n",
       "      <th id=\"T_62d59_level0_col0\" class=\"col_heading level0 col0\" >state</th>\n",
       "      <th id=\"T_62d59_level0_col1\" class=\"col_heading level0 col1\" >x_0</th>\n",
       "      <th id=\"T_62d59_level0_col2\" class=\"col_heading level0 col2\" >x_1</th>\n",
       "      <th id=\"T_62d59_level0_col3\" class=\"col_heading level0 col3\" >x_2</th>\n",
       "      <th id=\"T_62d59_level0_col4\" class=\"col_heading level0 col4\" >x_3</th>\n",
       "    </tr>\n",
       "  </thead>\n",
       "  <tbody>\n",
       "    <tr>\n",
       "      <td id=\"T_62d59_row0_col0\" class=\"data row0 col0\" >x_0</td>\n",
       "      <td id=\"T_62d59_row0_col1\" class=\"data row0 col1\" >0.8758</td>\n",
       "      <td id=\"T_62d59_row0_col2\" class=\"data row0 col2\" >0.7556</td>\n",
       "      <td id=\"T_62d59_row0_col3\" class=\"data row0 col3\" >0.4823</td>\n",
       "      <td id=\"T_62d59_row0_col4\" class=\"data row0 col4\" >0.6878</td>\n",
       "    </tr>\n",
       "    <tr>\n",
       "      <td id=\"T_62d59_row1_col0\" class=\"data row1 col0\" >x_1</td>\n",
       "      <td id=\"T_62d59_row1_col1\" class=\"data row1 col1\" >0.7556</td>\n",
       "      <td id=\"T_62d59_row1_col2\" class=\"data row1 col2\" >0.9753</td>\n",
       "      <td id=\"T_62d59_row1_col3\" class=\"data row1 col3\" >0.7402</td>\n",
       "      <td id=\"T_62d59_row1_col4\" class=\"data row1 col4\" >0.6828</td>\n",
       "    </tr>\n",
       "    <tr>\n",
       "      <td id=\"T_62d59_row2_col0\" class=\"data row2 col0\" >x_2</td>\n",
       "      <td id=\"T_62d59_row2_col1\" class=\"data row2 col1\" >0.4823</td>\n",
       "      <td id=\"T_62d59_row2_col2\" class=\"data row2 col2\" >0.7402</td>\n",
       "      <td id=\"T_62d59_row2_col3\" class=\"data row2 col3\" >1.0871</td>\n",
       "      <td id=\"T_62d59_row2_col4\" class=\"data row2 col4\" >0.5918</td>\n",
       "    </tr>\n",
       "    <tr>\n",
       "      <td id=\"T_62d59_row3_col0\" class=\"data row3 col0\" >x_3</td>\n",
       "      <td id=\"T_62d59_row3_col1\" class=\"data row3 col1\" >0.6878</td>\n",
       "      <td id=\"T_62d59_row3_col2\" class=\"data row3 col2\" >0.6828</td>\n",
       "      <td id=\"T_62d59_row3_col3\" class=\"data row3 col3\" >0.5918</td>\n",
       "      <td id=\"T_62d59_row3_col4\" class=\"data row3 col4\" >0.7291</td>\n",
       "    </tr>\n",
       "  </tbody>\n",
       "</table>\n",
       " </div></div>"
      ],
      "text/plain": [
       "Kalman Filter\n",
       "        N dim obs: 3, N dim state: 4, N dim contr: 3"
      ]
     },
     "execution_count": null,
     "metadata": {},
     "output_type": "execute_result"
    }
   ],
   "source": [
    "k"
   ]
  },
  {
   "cell_type": "markdown",
   "id": "1cafd50f-a16c-4d5e-b80d-9cafae21e069",
   "metadata": {},
   "source": [
    "### Constructors"
   ]
  },
  {
   "cell_type": "markdown",
   "id": "baa68b6a-7e0f-4a33-aa13-a814390ebf3d",
   "metadata": {},
   "source": [
    "#### Simple parameters"
   ]
  },
  {
   "cell_type": "code",
   "execution_count": null,
   "id": "81636a78-9bcf-4d7f-98c6-95e9180fe787",
   "metadata": {},
   "outputs": [],
   "source": [
    "#| export\n",
    "@patch(cls_method=True)\n",
    "def init_simple(cls: KalmanFilter,\n",
    "                n_dim, # n_dim_obs and n_dim_state\n",
    "                dtype=torch.float32):\n",
    "    \"\"\"Simplest version of kalman filter parameters\"\"\"\n",
    "    return cls(\n",
    "        trans_matrix =     torch.eye(n_dim, dtype=dtype),\n",
    "        trans_off =        torch.zeros(n_dim, dtype=dtype),        \n",
    "        trans_cov =        torch.eye(n_dim, dtype=dtype),        \n",
    "        obs_matrix =       torch.eye(n_dim, dtype=dtype),\n",
    "        obs_off =          torch.zeros(n_dim, dtype=dtype),          \n",
    "        obs_cov =          torch.eye(n_dim, dtype=dtype),            \n",
    "        contr_matrix =     torch.eye(n_dim, dtype=dtype),\n",
    "        init_state_mean =  torch.zeros(n_dim, dtype=dtype),        \n",
    "        init_state_cov =   torch.eye(n_dim, dtype=dtype),\n",
    "    )"
   ]
  },
  {
   "cell_type": "code",
   "execution_count": null,
   "id": "d8fa3ea9-92f5-4477-b06a-320df4263da9",
   "metadata": {},
   "outputs": [],
   "source": [
    "KalmanFilter.init_simple(2).state_dict()"
   ]
  },
  {
   "cell_type": "markdown",
   "id": "fb60e878-9e22-43b1-90a0-cf16077407e7",
   "metadata": {},
   "source": [
    "#### Local slope"
   ]
  },
  {
   "cell_type": "markdown",
   "id": "b1f67b01-c514-4be0-ba53-febf6645a787",
   "metadata": {},
   "source": [
    "Local slope models are an extentions of local level model that in the state variable keep track of also the slope\n",
    "\n",
    "Given $n$ as the number of dimensions of the observations\n",
    "\n",
    "The transition matrix (`A`) is:\n",
    "\n",
    "$$A = \\left[\\begin{array}{cc}I & I \\\\ 0 & I\\end{array}\\right]$$\n",
    "\n",
    "where:\n",
    "\n",
    "- $I \\in \\mathbb{R}^{n \\times n}$\n",
    "- $A \\in \\mathbb{R}^{2n \\times 2n}$\n",
    "\n",
    "the state $x \\in \\mathbb{R}^{2N \\times 1}$ where the upper half keep track of the level and the lower half of the slope. $A \\in \\mathbb{R}^2N \\times 2N$\n",
    "\n",
    "the observation matrix (`H`) is:\n",
    "\n",
    "$$H = \\left[\\begin{array}{cc}I & 0 \\end{array}\\right]$$\n",
    "\n",
    "For the multivariate case the 1 are replaced with an identiy matrix\n"
   ]
  },
  {
   "cell_type": "code",
   "execution_count": null,
   "id": "b86efcad-d257-46bd-b2d9-82436e405171",
   "metadata": {},
   "outputs": [],
   "source": [
    "#| export\n",
    "@patch(cls_method=True)\n",
    "def init_local_slope(cls: KalmanFilter,\n",
    "                n_dim, # n_dim_obs and n_dim_state\n",
    "                dtype=torch.float32):\n",
    "    \"\"\"Simplest version of kalman filter parameters\"\"\"\n",
    "    n_dim_state = 2 * n_dim\n",
    "    return cls(\n",
    "        trans_matrix =     torch.eye(n_dim, dtype=dtype),\n",
    "        trans_off =        torch.zeros(n_dim, dtype=dtype),        \n",
    "        trans_cov =        torch.eye(n_dim, dtype=dtype),        \n",
    "        obs_matrix =       torch.eye(n_dim, dtype=dtype),\n",
    "        obs_off =          torch.zeros(n_dim, dtype=dtype),          \n",
    "        obs_cov =          torch.eye(n_dim, dtype=dtype),            \n",
    "        contr_matrix =     torch.zeros(n_dim, dtype=dtype),\n",
    "        init_state_mean =  torch.zeros(n_dim, dtype=dtype),        \n",
    "        init_state_cov =   torch.eye(n_dim, dtype=dtype),\n",
    "    )"
   ]
  },
  {
   "cell_type": "code",
   "execution_count": null,
   "id": "892f9873-ca47-404b-a5f1-855d4c94220b",
   "metadata": {},
   "outputs": [],
   "source": [
    "KalmanFilter.init_simple(2).state_dict()"
   ]
  },
  {
   "cell_type": "markdown",
   "id": "0fdd2ea0-ff4e-4d2f-add0-81120b131cf3",
   "metadata": {},
   "source": [
    "## Export"
   ]
  },
  {
   "cell_type": "code",
   "execution_count": null,
   "id": "12c41b65-9eb8-4d70-b4fc-05113783e636",
   "metadata": {},
   "outputs": [],
   "source": [
    "#| hide\n",
    "from nbdev import nbdev_export\n",
    "nbdev_export()"
   ]
  }
 ],
 "metadata": {
  "kernelspec": {
   "display_name": "data_science",
   "language": "python",
   "name": "data_science"
  },
  "widgets": {
   "application/vnd.jupyter.widget-state+json": {
    "state": {},
    "version_major": 2,
    "version_minor": 0
   }
  }
 },
 "nbformat": 4,
 "nbformat_minor": 5
}
