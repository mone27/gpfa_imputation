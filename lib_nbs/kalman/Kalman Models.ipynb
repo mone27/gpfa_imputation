{
 "cells": [
  {
   "cell_type": "markdown",
   "id": "79a8a2d5-9f8d-483e-bbff-1e7b0f5c9a95",
   "metadata": {},
   "source": [
    "# Kalman Filter Models\n",
    "> Models that use Kalman filters that can be used for imputation"
   ]
  },
  {
   "cell_type": "code",
   "execution_count": null,
   "id": "3584a2e7-bb3c-4935-b11a-d50e96f68a87",
   "metadata": {},
   "outputs": [],
   "source": [
    "%load_ext autoreload\n",
    "%autoreload 2"
   ]
  },
  {
   "cell_type": "code",
   "execution_count": null,
   "id": "d46005c3-63ca-473b-90dd-9b1cb0c6b76e",
   "metadata": {},
   "outputs": [],
   "source": [
    "import pandas as pd\n",
    "from fastcore.basics import store_attr\n",
    "import numpy as np"
   ]
  },
  {
   "cell_type": "markdown",
   "id": "5d59a5ed-ce6d-4725-b667-ae36254aa8a7",
   "metadata": {},
   "source": [
    "## Introduction\n",
    "\n",
    "[TODO] add proper introduction here\n",
    "\n",
    "The models uses a latent state variable $x$ that is modelled over time, to impute gaps in $y$\n",
    "\n",
    "### Equations\n",
    "\n",
    "The equations of the model are:\n",
    "\n",
    "$$\\begin{align} p(x_t | x_{t-1}) & = \\mathcal{N}(x_t, Ax_{t-1}, Q) \\\\\n",
    "p(y_t | x_t) & = \\mathcal{N}(Hx_t, T) \\end{align}$$\n",
    "\n",
    "The Kalman filter has 3 steps:\n",
    "\n",
    "- filter (updating the state at time t with observations till time t-1)\n",
    "- update (update the state at time t using the observation at time t)\n",
    "- smooth (update the state using the observations at time t+1)\n",
    "\n",
    "In case of missing data the update step is skipped.\n",
    "\n",
    "After smoothing the whole dataset the missing data ($y_t$) can be imputed from the state ($x_t$) using this formula:\n",
    "$$p(y_t) = \\mathcal{N}(Hx_x, R + HP^s_tH)$$"
   ]
  },
  {
   "cell_type": "markdown",
   "id": "5757dfe3-3e22-4f0c-99c8-966db42fe59d",
   "metadata": {},
   "source": [
    "## Kalman Filter Model\n",
    "\n",
    "general kalman filter model implemented used `pykalman`\n"
   ]
  },
  {
   "cell_type": "code",
   "execution_count": null,
   "id": "c29a325d-d342-4164-a8c6-9fb5b64ed3f0",
   "metadata": {},
   "outputs": [],
   "source": [
    "#| export\n",
    "import pykalman\n",
    "from numpy.ma import MaskedArray\n",
    "import numpy as np\n",
    "from fastcore.meta import delegates\n",
    "from typing import Collection\n",
    "from collections import namedtuple"
   ]
  },
  {
   "cell_type": "markdown",
   "id": "d5919de4-4b16-4591-ab06-f1110038eb18",
   "metadata": {},
   "source": [
    "#### PyKalman\n",
    "\n",
    "examples from [pykalman lib](https://pykalman.github.io)"
   ]
  },
  {
   "cell_type": "code",
   "execution_count": null,
   "id": "2ac87bf5-da01-4aab-a46e-0c61d0ac95ab",
   "metadata": {},
   "outputs": [],
   "source": [
    "kf = pykalman.KalmanFilter(transition_matrices = [[1, 1], [0, 1]], observation_matrices = [[0.1, 0.5], [-0.3, 0.0]])\n",
    "measurements = np.asarray([[1,0], [0,0], [0,1]])\n",
    "(smoothed_state_means, smoothed_state_covariances) = kf.smooth(measurements)"
   ]
  },
  {
   "cell_type": "code",
   "execution_count": null,
   "id": "c6b4d8d4-ca3d-4e9d-99b3-52c893a266b3",
   "metadata": {},
   "outputs": [
    {
     "data": {
      "text/plain": [
       "<pykalman.standard.KalmanFilter>"
      ]
     },
     "execution_count": null,
     "metadata": {},
     "output_type": "execute_result"
    }
   ],
   "source": [
    "kf.em(measurements)"
   ]
  },
  {
   "cell_type": "code",
   "execution_count": null,
   "id": "82532679-8979-4820-aec9-47bf116dc067",
   "metadata": {},
   "outputs": [
    {
     "data": {
      "text/plain": [
       "array([[-0.10923868,  0.0935127 ],\n",
       "       [-0.23121289, -0.07957144],\n",
       "       [-0.5533711 , -0.0415223 ]])"
      ]
     },
     "execution_count": null,
     "metadata": {},
     "output_type": "execute_result"
    }
   ],
   "source": [
    "smoothed_state_means"
   ]
  },
  {
   "cell_type": "code",
   "execution_count": null,
   "id": "ede55968-3abf-417c-b413-c8acda1b568f",
   "metadata": {},
   "outputs": [
    {
     "data": {
      "text/plain": [
       "array([[[ 0.83148067, -0.12300405],\n",
       "        [-0.12300405,  0.53081415]],\n",
       "\n",
       "       [[ 1.60960449,  0.01009906],\n",
       "        [ 0.01009906,  0.80412661]],\n",
       "\n",
       "       [[ 2.87663094,  0.45474213],\n",
       "        [ 0.45474213,  1.27365905]]])"
      ]
     },
     "execution_count": null,
     "metadata": {},
     "output_type": "execute_result"
    }
   ],
   "source": [
    "smoothed_state_covariances"
   ]
  },
  {
   "cell_type": "code",
   "execution_count": null,
   "id": "a1613142-636b-4705-9227-95f939184afd",
   "metadata": {},
   "outputs": [
    {
     "data": {
      "text/plain": [
       "(3, 2, 2)"
      ]
     },
     "execution_count": null,
     "metadata": {},
     "output_type": "execute_result"
    }
   ],
   "source": [
    "smoothed_state_covariances.shape"
   ]
  },
  {
   "cell_type": "code",
   "execution_count": null,
   "id": "000ac5bc-8cd1-4e71-afbe-77924cf095c6",
   "metadata": {},
   "outputs": [],
   "source": [
    "#| export\n",
    "# this is just a duplicate of NormParam, but with a better name\n",
    "ListNormal = namedtuple('ListNormal', ['mean', 'cov'])"
   ]
  },
  {
   "cell_type": "markdown",
   "id": "2c75c7c2-b1fb-481b-b49f-912abbf3fe7d",
   "metadata": {},
   "source": [
    "support is not limited for models matrices that don't change over time"
   ]
  },
  {
   "cell_type": "code",
   "execution_count": null,
   "id": "9151d751-38b0-4401-a1a7-556b39ad4e01",
   "metadata": {},
   "outputs": [],
   "source": [
    "#| export\n",
    "class KalmanModel():\n",
    "    em_vars = 'all'\n",
    "    \"Base Model for Kalman filter that wraps `pykalman.KalmanFilter`\"\n",
    "    @delegates(pykalman.KalmanFilter)\n",
    "    def __init__(self,\n",
    "                 data: MaskedArray, # numpy array of observations\n",
    "                 **kwargs):\n",
    "        self.data = data\n",
    "        self.n_obs = data.shape[0]\n",
    "        self.n_features = data.reshape(self.n_obs, -1).shape[1]\n",
    "        \n",
    "        self.model = pykalman.KalmanFilter(**kwargs)\n",
    "    \n",
    "    def fit(self, n_iter: int=5, em_vars: Collection[str]=None):\n",
    "        \"fit parameters using EM and calc state using smoother\"\n",
    "        em_vars = em_vars if em_vars is not None else self.em_vars # subclass can override this\n",
    "        self.model.em(self.data, n_iter=n_iter, em_vars=em_vars)\n",
    "        mean, cov = self.model.smooth(self.data)\n",
    "        self.state = ListNormal(mean, cov)\n",
    "        return self\n",
    "    \n",
    "    def _obs_from_state(self, state_mean, state_cov):\n",
    "        mean = self.model.observation_matrices @ state_mean\n",
    "        cov = self.model.observation_matrices @ state_cov @ self.model.observation_matrices + self.model.observation_covariance\n",
    "        return mean, cov\n",
    "    def predict(self,\n",
    "                times: np.ndarray # times for predictions (indices of the training data)\n",
    "               ):\n",
    "        \"Predicts observed varibles values at the given times\"\n",
    "        assert times.max() <= self.n_obs\n",
    "        means = np.empty((times.shape[0], self.n_features,))\n",
    "        covs = np.empty((times.shape[0], self.n_features, self.n_features,)) \n",
    "        for i, t in enumerate(times):\n",
    "            mean, cov = self._obs_from_state(self.state.mean[t], self.state.cov[t])\n",
    "            means[i] = mean\n",
    "            covs[i] = cov\n",
    "        return ListNormal(means, covs)\n",
    "    "
   ]
  },
  {
   "cell_type": "code",
   "execution_count": null,
   "id": "7450371e-3f4e-489c-b34b-94703095a198",
   "metadata": {},
   "outputs": [],
   "source": [
    "X = np.hstack([np.arange(0,3), np.arange(3, 0, -1)])"
   ]
  },
  {
   "cell_type": "code",
   "execution_count": null,
   "id": "abef62bd-9a6e-4895-8360-f1d86a21afce",
   "metadata": {},
   "outputs": [
    {
     "data": {
      "text/plain": [
       "array([0, 1, 2, 3, 2, 1])"
      ]
     },
     "execution_count": null,
     "metadata": {},
     "output_type": "execute_result"
    }
   ],
   "source": [
    "X"
   ]
  },
  {
   "cell_type": "code",
   "execution_count": null,
   "id": "6767ae47-5952-41c5-9022-c13392561211",
   "metadata": {},
   "outputs": [],
   "source": [
    "k = KalmanModel(X)"
   ]
  },
  {
   "cell_type": "code",
   "execution_count": null,
   "id": "129bbfb1-f710-40de-9a98-521e420d86d9",
   "metadata": {},
   "outputs": [
    {
     "data": {
      "text/plain": [
       "<__main__.KalmanModel>"
      ]
     },
     "execution_count": null,
     "metadata": {},
     "output_type": "execute_result"
    }
   ],
   "source": [
    "k.fit(10)"
   ]
  },
  {
   "cell_type": "code",
   "execution_count": null,
   "id": "18bee9e5-360f-4cc8-9672-b28c9354d878",
   "metadata": {},
   "outputs": [],
   "source": [
    "T = np.arange(0,X.shape[0])"
   ]
  },
  {
   "cell_type": "code",
   "execution_count": null,
   "id": "aafdb374-d571-49a3-a8bd-dbcb7d675ae1",
   "metadata": {},
   "outputs": [
    {
     "data": {
      "text/plain": [
       "array([0, 1, 2, 3, 4, 5])"
      ]
     },
     "execution_count": null,
     "metadata": {},
     "output_type": "execute_result"
    }
   ],
   "source": [
    "T"
   ]
  },
  {
   "cell_type": "code",
   "execution_count": null,
   "id": "f1e95d13-59d5-4d3f-9512-1aece5b572aa",
   "metadata": {},
   "outputs": [
    {
     "data": {
      "text/plain": [
       "ListNormal(mean=array([[-0.07657965],\n",
       "       [ 0.99577849],\n",
       "       [ 1.87172949],\n",
       "       [ 2.59099059],\n",
       "       [ 1.88745786],\n",
       "       [ 1.15831217]]), cov=array([[[0.13676111]],\n",
       "\n",
       "       [[0.20354109]],\n",
       "\n",
       "       [[0.20417844]],\n",
       "\n",
       "       [[0.20418473]],\n",
       "\n",
       "       [[0.20420701]],\n",
       "\n",
       "       [[0.20653508]]]))"
      ]
     },
     "execution_count": null,
     "metadata": {},
     "output_type": "execute_result"
    }
   ],
   "source": [
    "k.predict(T)"
   ]
  },
  {
   "cell_type": "markdown",
   "id": "e43e36cf-4390-43f0-b998-2eb9d032e05f",
   "metadata": {},
   "source": [
    "## Local Level Model\n",
    "\n",
    "Local level models is a model that uses Kalman filter, where the design matrix ($A$) and the Transition matrix ($H$) are identity matrix. This means that the state of model is equal to the observations and the changes in the state are only from the process noise.\n",
    "\n",
    "Those are reasonable "
   ]
  },
  {
   "cell_type": "code",
   "execution_count": null,
   "id": "88e9405b-a6da-4391-ad8b-7e19465dd1e2",
   "metadata": {},
   "outputs": [],
   "source": [
    "class LocalLevel(KalmanModel):\n",
    "    \"Local level model using a kalman filter\"\n",
    "    em_vars = []"
   ]
  },
  {
   "cell_type": "markdown",
   "id": "820d2038-a1d3-4c8f-a5cd-23da3a4f6ebd",
   "metadata": {},
   "source": [
    "**Warning** this implementation of the EM algorithm may actually result in matrices that aren't correct for multivariate variables"
   ]
  },
  {
   "cell_type": "markdown",
   "id": "a62027a8-b85f-4ef5-ac31-4a37fabce49f",
   "metadata": {},
   "source": [
    "## Export "
   ]
  },
  {
   "cell_type": "code",
   "execution_count": null,
   "id": "be47bac6-1bac-4b5d-a880-7ddfe17cca68",
   "metadata": {},
   "outputs": [],
   "source": [
    "#| hide\n",
    "from nbdev import nbdev_export\n",
    "nbdev_export()"
   ]
  }
 ],
 "metadata": {
  "kernelspec": {
   "display_name": "data_science",
   "language": "python",
   "name": "data_science"
  }
 },
 "nbformat": 4,
 "nbformat_minor": 5
}
