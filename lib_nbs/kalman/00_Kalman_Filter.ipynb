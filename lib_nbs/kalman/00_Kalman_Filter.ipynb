{
 "cells": [
  {
   "cell_type": "markdown",
   "id": "22e19739-7ce6-4689-8f05-5391807270f2",
   "metadata": {},
   "source": [
    "# Kalman Filter\n",
    "> Implementation of Kalman filters using pytorch and parameter optimizations with gradient descend"
   ]
  },
  {
   "cell_type": "code",
   "execution_count": null,
   "id": "33b5e640-1b40-4822-8912-f6aef392b22f",
   "metadata": {},
   "outputs": [],
   "source": [
    "%load_ext autoreload\n",
    "%autoreload 2"
   ]
  },
  {
   "cell_type": "code",
   "execution_count": null,
   "id": "378ab6cd-754e-4199-a102-c7a3109c6c78",
   "metadata": {},
   "outputs": [],
   "source": [
    "#| hide\n",
    "#| default_exp kalman.filter"
   ]
  },
  {
   "cell_type": "code",
   "execution_count": null,
   "id": "c89a8e7f-95e3-4c02-9716-948d5e0dcfca",
   "metadata": {},
   "outputs": [],
   "source": [
    "#| export\n",
    "from fastcore.test import *\n",
    "from fastcore.basics import patch\n",
    "from meteo_imp.utils import *\n",
    "from meteo_imp.data_preparation import MeteoDataTest\n",
    "import pykalman\n",
    "from typing import *\n",
    "\n",
    "import numpy as np\n",
    "import pandas as pd\n",
    "import torch\n",
    "from torch import Tensor\n",
    "from torch.distributions import MultivariateNormal"
   ]
  },
  {
   "cell_type": "markdown",
   "id": "ce900cd1-288d-4215-b317-d815f2850215",
   "metadata": {},
   "source": [
    "## Introduction"
   ]
  },
  {
   "cell_type": "markdown",
   "id": "410c35dd-074e-4630-8b4d-90b8a46eb393",
   "metadata": {},
   "source": [
    "## Utils"
   ]
  },
  {
   "cell_type": "code",
   "execution_count": null,
   "id": "19255a07-7210-4810-bcdf-31ad553a62ba",
   "metadata": {},
   "outputs": [],
   "source": [
    "#| exporti\n",
    "def array1d(X):\n",
    "    \"\"\"Returns at least 1-d array with data from X\"\"\"\n",
    "    return torch.atleast_1d(torch.as_tensor(X))\n",
    "\n",
    "def array2d(X):\n",
    "    \"\"\"Returns at least 2-d array with data from X\"\"\"\n",
    "    return torch.atleast_2d(torch.as_tensor(X))\n"
   ]
  },
  {
   "cell_type": "code",
   "execution_count": null,
   "id": "17e6c534-da61-4c08-a10f-39ffa31e5029",
   "metadata": {},
   "outputs": [],
   "source": [
    "#| export\n",
    "def _determine_dimensionality(variables, default):\n",
    "    \"\"\"Derive the dimensionality of the state space\n",
    "\n",
    "    Parameters\n",
    "    ----------\n",
    "    variables : list of ({None, array}, conversion function, index)\n",
    "        variables, functions to convert them to arrays, and indices in those\n",
    "        arrays to derive dimensionality from.\n",
    "        \n",
    "    Returns\n",
    "    -------\n",
    "    dim : int\n",
    "        dimensionality of state space as derived from variables or default.\n",
    "    \"\"\"\n",
    "    # gather possible values based on the variables\n",
    "    candidates = []\n",
    "    for (v, converter, idx) in variables:\n",
    "        if v is not None:\n",
    "            v = converter(v)\n",
    "            candidates.append(v.shape[idx])\n",
    "    \n",
    "     # also use the manually specified default\n",
    "    if default is not None:\n",
    "        candidates.append(default)\n",
    "    \n",
    "    # ensure consistency of all derived values\n",
    "    if len(candidates) == 0:\n",
    "        return 1\n",
    "    else:\n",
    "        if not torch.all(torch.tensor(candidates) == candidates[0]):\n",
    "            raise ValueError(\n",
    "                \"The shape of all \" +\n",
    "                \"parameters is not consistent.  \" +\n",
    "                \"Please re-check their values.\"\n",
    "            )\n",
    "        return candidates[0]\n",
    "\n",
    "\n",
    "def _last_dims(X: Tensor, t: int, ndims: int=2):\n",
    "    \"\"\"Extract the final dimensions of `X`\n",
    "\n",
    "    Extract the final `ndim` dimensions at index `t` if `X` has >= `ndim` + 1\n",
    "    dimensions, otherwise return `X`.\n",
    "\n",
    "    Parameters\n",
    "    ----------\n",
    "    X : Tensor with at least dimension `ndims`\n",
    "    t : int\n",
    "        index to use for the `ndims` + 1th dimension\n",
    "    ndims : int, optional\n",
    "        number of dimensions in the array desired\n",
    "\n",
    "    Returns\n",
    "    -------\n",
    "    Y : array with dimension `ndims`\n",
    "        the final `ndims` dimensions indexed by `t`\n",
    "    \"\"\"\n",
    "    if len(X.shape) == ndims + 1:\n",
    "        return X[t]\n",
    "    elif len(X.shape) == ndims:\n",
    "        return X\n",
    "    else:\n",
    "        raise ValueError((\"X only has %d dimensions when %d\" +\n",
    "                \" or more are required\") % (len(X.shape), ndims))"
   ]
  },
  {
   "cell_type": "code",
   "execution_count": null,
   "id": "9da44a3d-2817-4b7e-939c-ac54d675e830",
   "metadata": {},
   "outputs": [],
   "source": [
    "#| export\n",
    "def _stack_detach(l: Collection[Tensor]):\n",
    "    return torch.stack(list(map(lambda x: x.detach(), l)))"
   ]
  },
  {
   "cell_type": "markdown",
   "id": "55ab3362-0875-4329-9cf0-39b3efb97cdb",
   "metadata": {},
   "source": [
    "### Positive Definite Constraint"
   ]
  },
  {
   "cell_type": "markdown",
   "id": "5a465f39-300b-4a9d-93e9-d29ce76e8f79",
   "metadata": {},
   "source": [
    "transform any matrix $A$ into a positive definite matrix ($PD$) using the following formula\n",
    "\n",
    "$PD = A A^T + aI$\n",
    "\n",
    "where $AA^T$ ensures that A is positive semi-definite and adding a small positive number of the diagonal $aI$ ensures that is definite \n",
    "\n",
    "for details see https://stackoverflow.com/a/58192215/8555045\n",
    "\n",
    "add also inverse transformation using cholesky decomposition\n",
    "\n",
    "\n",
    "API inspired by gpytorch constraints"
   ]
  },
  {
   "cell_type": "code",
   "execution_count": null,
   "id": "9c6db671-ba1a-4f13-8bd4-8674ad4c2c6a",
   "metadata": {},
   "outputs": [],
   "source": [
    "#| export\n",
    "class PosDef():\n",
    "    \"\"\" Positive Definite Constraint for PyTorch parameters\"\"\"\n",
    "    def __init__(self, a=1e-7):\n",
    "        self.a = a\n",
    "    def transform(self,\n",
    "                  raw # square matrix that will be \n",
    "                 ):\n",
    "        \"transform any square matrix into a positive definite one\"\n",
    "        return raw @ raw.T + (self.a * torch.eye(raw.shape[0]))\n",
    "    \n",
    "    def inverse_transform(self,\n",
    "                          value # a positive definite matrix\n",
    "                         ):\n",
    "        \"tranform positive definite matrix into a raw matrix\"\n",
    "        return torch.linalg.cholesky(value)"
   ]
  },
  {
   "cell_type": "code",
   "execution_count": null,
   "id": "b3658175-e687-448c-85d1-2b62d0998177",
   "metadata": {},
   "outputs": [],
   "source": [
    "A = torch.rand(3,3)\n",
    "constraint = PosDef()\n",
    "\n",
    "pd = constraint.transform(A)"
   ]
  },
  {
   "cell_type": "code",
   "execution_count": null,
   "id": "8c9964a0-41ec-4016-ad0f-7513589a8541",
   "metadata": {},
   "outputs": [
    {
     "data": {
      "text/plain": [
       "tensor([[0.9447, 1.0227, 0.6465],\n",
       "        [1.0227, 1.2100, 0.7608],\n",
       "        [0.6465, 0.7608, 0.4902]])"
      ]
     },
     "execution_count": null,
     "metadata": {},
     "output_type": "execute_result"
    }
   ],
   "source": [
    "pd"
   ]
  },
  {
   "cell_type": "code",
   "execution_count": null,
   "id": "d2a5357c-2616-4f96-8ac3-b236a51e7383",
   "metadata": {},
   "outputs": [],
   "source": [
    "test_eq(torch.distributions.constraints.positive_definite.check(pd), True)"
   ]
  },
  {
   "cell_type": "code",
   "execution_count": null,
   "id": "c865d14d-c8fe-4ba0-a600-4373b0635a58",
   "metadata": {},
   "outputs": [
    {
     "data": {
      "text/plain": [
       "tensor([[0.9720, 0.0000, 0.0000],\n",
       "        [1.0522, 0.3208, 0.0000],\n",
       "        [0.6652, 0.1898, 0.1083]])"
      ]
     },
     "execution_count": null,
     "metadata": {},
     "output_type": "execute_result"
    }
   ],
   "source": [
    "constraint.inverse_transform(pd)"
   ]
  },
  {
   "cell_type": "code",
   "execution_count": null,
   "id": "5c32919e-6d79-4a16-99ae-1d3cd2726c95",
   "metadata": {},
   "outputs": [],
   "source": [
    "test_close(pd, constraint.transform(constraint.inverse_transform(pd)))"
   ]
  },
  {
   "cell_type": "code",
   "execution_count": null,
   "id": "27f97a6a-c97a-455e-b91a-ba930c5729b0",
   "metadata": {},
   "outputs": [],
   "source": [
    "#| export\n",
    "def check_posdef(cov):\n",
    "    if not torch.distributions.constraints.positive_definite.check(cov).item(): \n",
    "        raise ValueError(f\"expected positive definite matrix. \\n{cov}\")"
   ]
  },
  {
   "cell_type": "markdown",
   "id": "3d3f26ea-ed98-427e-8257-63db13bf17d7",
   "metadata": {},
   "source": [
    "## KalmanFilter"
   ]
  },
  {
   "cell_type": "markdown",
   "id": "6cab259c-2315-4019-bb1e-61f3b1504bd5",
   "metadata": {},
   "source": [
    "The Kalman Filter is an algorithm designed to estimate $P(x_t | y_{0:t})$.  As all state transitions and obss are linear with Gaussian distributed noise, these distributions can be represented exactly as Gaussian distributions with mean `filt_state_means[t]` and covs `filt_state_covs[t]`.\n",
    "Similarly, the Kalman Smoother is an algorithm designed to estimate $P(x_t | y_{0:T-1})$\n",
    "\n"
   ]
  },
  {
   "cell_type": "code",
   "execution_count": null,
   "id": "4768434a-a51c-48a3-8813-afd59949ef51",
   "metadata": {},
   "outputs": [],
   "source": [
    "#| export\n",
    "class KalmanFilter(torch.nn.Module):\n",
    "    \"\"\"Kalman Filter and Kalman Smoother using PyTorch\"\"\"\n",
    "    def __init__(self,\n",
    "            transition_matrices: Tensor=None, # [n_timesteps-1, n_dim_state, n_dim_state] or [n_dim_state,n_dim_state] \n",
    "               # Also known as $A$ \n",
    "               # state transition matrix between times t and t+1 for t in [0...n_timesteps-2]\n",
    "            obs_matrices: Tensor=None, # [n_timesteps, n_dim_obs, n_dim_state] or [n_dim_obs, n_dim_state]\n",
    "                # Also known as $H$\n",
    "                # obs matrix for times [0...n_timesteps-1]\n",
    "            transition_cov: Tensor=None, # [n_dim_state, n_dim_state] \n",
    "                 # Also known as $Q$\n",
    "                 # state transition cov matrix for times [0...n_timesteps-2]\n",
    "            obs_cov: Tensor=None, # [n_dim_obs, n_dim_obs]\n",
    "                 # Also known as $R$\n",
    "                 # obs cov matrix for times [0...n_timesteps-1]\n",
    "            transition_offsets: Tensor=None, # [n_timesteps-1, n_dim_state] or [n_dim_state]\n",
    "                 # Also known as $b$\n",
    "                 # state offsets for times [0...n_timesteps-2]\n",
    "            obs_offsets: Tensor=None, # [n_timesteps, n_dim_obs] or [n_dim_obs]\n",
    "                 # Also known as $d$\n",
    "            initial_state_mean: Tensor=None, # [n_dim_state]\n",
    "                 # Also known as $\\mu_0\"$\n",
    "            initial_state_cov: Tensor=None, # [n_dim_state, n_dim_state]\n",
    "                 # Also known as $\\Sigma_0$\n",
    "            n_dim_state: int = None, # Number of dimensions for state - defaults to 1 if cannot be infered from parameters\n",
    "            n_dim_obs: int = None # Number of dimensions for observations - defaults to 1 if cannot be infered from parameters\n",
    "                ):\n",
    "        \"\"\"Initialize Kalman Filter\"\"\"\n",
    "        \n",
    "        super().__init__()\n",
    "        \n",
    "        # determine size of state space and check parameters are consistent\n",
    "        n_dim_state = _determine_dimensionality(\n",
    "            [(transition_matrices, array2d, -2),\n",
    "             (transition_offsets, array1d, -1),\n",
    "             (transition_cov, array2d, -2),\n",
    "             (initial_state_mean, array1d, -1),\n",
    "             (initial_state_cov, array2d, -2),\n",
    "             (obs_matrices, array2d, -1)],\n",
    "            n_dim_state\n",
    "        )\n",
    "        n_dim_obs = _determine_dimensionality(\n",
    "            [(obs_matrices, array2d, -2),\n",
    "             (obs_offsets, array1d, -1),\n",
    "             (obs_cov, array2d, -2)],\n",
    "            n_dim_obs\n",
    "        )\n",
    "        \n",
    "        self.n_dim_obs = n_dim_obs\n",
    "        self.n_dim_state = n_dim_state\n",
    "        \n",
    "        params = {\n",
    "        # name                 value         default_value                              converter constraint\n",
    "        'transition_matrices': [transition_matrices, torch.eye(n_dim_state),            array2d, None    ],\n",
    "        'transition_offsets':  [transition_offsets,  torch.zeros(n_dim_state),          array1d, None    ],\n",
    "        'transition_cov':      [transition_cov,      torch.eye(n_dim_state),            array2d, PosDef()],\n",
    "        'obs_matrices':        [obs_matrices,        torch.eye(n_dim_obs, n_dim_state), array2d, None    ],\n",
    "        'obs_offsets':         [obs_offsets,         torch.zeros(n_dim_obs),            array1d, None    ],\n",
    "        'obs_cov':             [obs_cov,             torch.eye(n_dim_obs),              array2d, PosDef()],\n",
    "        'initial_state_mean':  [initial_state_mean,  torch.zeros(n_dim_state),          array1d, None    ],\n",
    "        'initial_state_cov':   [initial_state_cov,   torch.eye(n_dim_state),            array2d, PosDef()],\n",
    "        }\n",
    "        \n",
    "        self._init_params(params)\n",
    "        \n",
    "    def _init_params(self, params):\n",
    "        for name, (value, default, converter, constraint) in params.items():\n",
    "            value = value if value is not None else default\n",
    "            value = converter(value) \n",
    "            if constraint is not None:\n",
    "                name, value = self._init_constraint(name, value, constraint)\n",
    "            self._init_param(name, value)    \n",
    "    \n",
    "    def _init_param(self, param_name, value):\n",
    "        self.register_parameter(param_name, torch.nn.Parameter(value))\n",
    "    \n",
    "    ## Constraints ----\n",
    "    def _init_constraint(self, param_name, value, constraint):\n",
    "        name = param_name + \"_raw\"\n",
    "        value = constraint.inverse_transform(value)\n",
    "        setattr(self, param_name + \"_constraint\", constraint)\n",
    "        return name, value\n",
    "    \n",
    "    def _get_constraint(self, param_name):\n",
    "        constraint = getattr(self, param_name + \"_constraint\")\n",
    "        raw_value = getattr(self, param_name + \"_raw\")\n",
    "        return constraint.transform(raw_value)\n",
    "    \n",
    "    def _set_constraint(self, param_name, value):\n",
    "        constraint = getattr(self, param_name + \"_constraint\")\n",
    "        raw_value = constraint.inverse_transform(value)\n",
    "        self._init_param(param_name + \"_raw\", raw_value)\n",
    "        \n",
    "\n",
    "    \n",
    "    ### convenience functions to get and set parameters that have a constraint\n",
    "    \n",
    "    @property\n",
    "    def transition_cov(self):\n",
    "        return self._get_constraint('transition_cov')\n",
    "    \n",
    "    @transition_cov.setter\n",
    "    def transition_cov(self, value):\n",
    "        return self._set_constraint('transition_cov', value)\n",
    "    \n",
    "    @property\n",
    "    def obs_cov(self):\n",
    "        return self._get_constraint('obs_cov')\n",
    "    \n",
    "    @obs_cov.setter\n",
    "    def obs_cov(self, value):\n",
    "        return self._set_constraint('obs_cov', value)\n",
    "    \n",
    "    @property\n",
    "    def initial_state_cov(self):\n",
    "        return self._get_constraint('initial_state_cov')\n",
    "    \n",
    "    @initial_state_cov.setter\n",
    "    def initial_state_cov(self, value):\n",
    "        return self._set_constraint('initial_state_cov', value)\n",
    "    \n",
    "    \n",
    "    ### -----\n",
    "    \n",
    "    def _parse_obs(self, obs, mask=None):\n",
    "        \"\"\"Safely convert observations to their expected format\"\"\"\n",
    "        obs = torch.atleast_2d(obs)\n",
    "        if obs.shape[0] == 1 and obs.shape[1] > 1:\n",
    "            obs = obs.T\n",
    "        if mask is None: mask = ~torch.isnan(obs).any(axis=1)\n",
    "        return obs, mask\n",
    "    \n",
    "    def __repr__(self):\n",
    "        return f\"\"\"Kalman Filter\n",
    "        N dim obs: {self.n_dim_obs}, N dim state: {self.n_dim_state}\"\"\""
   ]
  },
  {
   "cell_type": "code",
   "execution_count": null,
   "id": "366024c0-832c-4c32-878e-6cd305ed0dc2",
   "metadata": {},
   "outputs": [],
   "source": [
    "k = KalmanFilter()"
   ]
  },
  {
   "cell_type": "code",
   "execution_count": null,
   "id": "f142e2fd-7578-4bbf-9a50-fa2845a65e5e",
   "metadata": {},
   "outputs": [
    {
     "data": {
      "text/plain": [
       "tensor([[1.0000]], grad_fn=<AddBackward0>)"
      ]
     },
     "execution_count": null,
     "metadata": {},
     "output_type": "execute_result"
    }
   ],
   "source": [
    "k.obs_cov"
   ]
  },
  {
   "cell_type": "code",
   "execution_count": null,
   "id": "5780f040-efbe-46d6-a9ee-f784d17a0000",
   "metadata": {},
   "outputs": [
    {
     "data": {
      "text/plain": [
       "tensor([[1.0000]], grad_fn=<AddBackward0>)"
      ]
     },
     "execution_count": null,
     "metadata": {},
     "output_type": "execute_result"
    }
   ],
   "source": [
    "k.initial_state_cov"
   ]
  },
  {
   "cell_type": "code",
   "execution_count": null,
   "id": "318d1943-54a4-46ca-8c5c-3227afa48b50",
   "metadata": {},
   "outputs": [],
   "source": [
    "k.initial_state_cov = array2d(torch.tensor(3.))"
   ]
  },
  {
   "cell_type": "code",
   "execution_count": null,
   "id": "1a04324e-6a7f-4744-8113-a2d61c798397",
   "metadata": {},
   "outputs": [
    {
     "data": {
      "text/plain": [
       "tensor([[3.]], grad_fn=<AddBackward0>)"
      ]
     },
     "execution_count": null,
     "metadata": {},
     "output_type": "execute_result"
    }
   ],
   "source": [
    "k.initial_state_cov"
   ]
  },
  {
   "cell_type": "code",
   "execution_count": null,
   "id": "d5a5e4bf-3989-4986-8718-6864db9f4cbe",
   "metadata": {},
   "outputs": [
    {
     "data": {
      "text/plain": [
       "Parameter containing:\n",
       "tensor([[1.7321]], requires_grad=True)"
      ]
     },
     "execution_count": null,
     "metadata": {},
     "output_type": "execute_result"
    }
   ],
   "source": [
    "k.initial_state_cov_raw"
   ]
  },
  {
   "cell_type": "code",
   "execution_count": null,
   "id": "3aedc286-3762-4382-96b9-7a3105170ef5",
   "metadata": {},
   "outputs": [
    {
     "data": {
      "text/plain": [
       "[('transition_matrices',\n",
       "  Parameter containing:\n",
       "  tensor([[1.]], requires_grad=True)),\n",
       " ('transition_offsets',\n",
       "  Parameter containing:\n",
       "  tensor([0.], requires_grad=True)),\n",
       " ('transition_cov_raw',\n",
       "  Parameter containing:\n",
       "  tensor([[1.]], requires_grad=True)),\n",
       " ('obs_matrices',\n",
       "  Parameter containing:\n",
       "  tensor([[1.]], requires_grad=True)),\n",
       " ('obs_offsets',\n",
       "  Parameter containing:\n",
       "  tensor([0.], requires_grad=True)),\n",
       " ('obs_cov_raw',\n",
       "  Parameter containing:\n",
       "  tensor([[1.]], requires_grad=True)),\n",
       " ('initial_state_mean',\n",
       "  Parameter containing:\n",
       "  tensor([0.], requires_grad=True)),\n",
       " ('initial_state_cov_raw',\n",
       "  Parameter containing:\n",
       "  tensor([[1.7321]], requires_grad=True))]"
      ]
     },
     "execution_count": null,
     "metadata": {},
     "output_type": "execute_result"
    }
   ],
   "source": [
    "list(k.named_parameters())"
   ]
  },
  {
   "cell_type": "code",
   "execution_count": null,
   "id": "a5ed3b33-3ecf-4172-bea3-544922a11f10",
   "metadata": {},
   "outputs": [],
   "source": [
    "k = KalmanFilter()\n",
    "# pykalman reference implementation\n",
    "pyk = pykalman.KalmanFilter()"
   ]
  },
  {
   "cell_type": "code",
   "execution_count": null,
   "id": "568428a3-a7e0-4b49-81ff-8d0d9847d712",
   "metadata": {},
   "outputs": [
    {
     "data": {
      "text/plain": [
       "tensor([1, 2, 3])"
      ]
     },
     "execution_count": null,
     "metadata": {},
     "output_type": "execute_result"
    }
   ],
   "source": [
    "X = torch.tensor([1,2,3])\n",
    "nX = X.numpy()\n",
    "X"
   ]
  },
  {
   "cell_type": "markdown",
   "id": "9465cf6b-4f50-4076-86fb-e8294d2e1ae0",
   "metadata": {},
   "source": [
    "2 dimensional dobs"
   ]
  },
  {
   "cell_type": "code",
   "execution_count": null,
   "id": "4145eb54-2123-4a89-afac-1d35e990eef3",
   "metadata": {},
   "outputs": [],
   "source": [
    "X2 = torch.tensor([[i, 10. * i] for i in range(1,5)])\n",
    "nX2 = X2.numpy()"
   ]
  },
  {
   "cell_type": "code",
   "execution_count": null,
   "id": "9f9689bf-34cb-4d0f-b965-012e7b757d5d",
   "metadata": {},
   "outputs": [],
   "source": [
    "k2 = KalmanFilter(transition_matrices = torch.eye(2), obs_matrices=torch.eye(2))\n",
    "\n",
    "pyk2 = pykalman.KalmanFilter(n_dim_obs = 2, n_dim_state=2)"
   ]
  },
  {
   "cell_type": "code",
   "execution_count": null,
   "id": "124270f8-eb11-42d0-8ca0-d769e461d1c0",
   "metadata": {},
   "outputs": [
    {
     "data": {
      "text/plain": [
       "tensor([[ 1., 10.],\n",
       "        [ 2., 20.],\n",
       "        [ 3., 30.],\n",
       "        [ 4., 40.]])"
      ]
     },
     "execution_count": null,
     "metadata": {},
     "output_type": "execute_result"
    }
   ],
   "source": [
    "X2"
   ]
  },
  {
   "cell_type": "code",
   "execution_count": null,
   "id": "58349f50-a03e-49b4-bb32-89ffa45b3b4f",
   "metadata": {},
   "outputs": [],
   "source": [
    "obs_mask = torch.ones_like(X2, dtype=torch.bool)\n",
    "obs_mask[0, 1] = False # only one value missing\n",
    "obs_mask[2, :] = False # whole row missing\n",
    "# Xm X missing\n",
    "X2m = X2.clone()\n",
    "X2m[~obs_mask] = torch.nan\n",
    "# nXm Numpy X missing\n",
    "nX2m = np.ma.masked_array(X2.numpy(), mask = ~obs_mask.numpy())"
   ]
  },
  {
   "cell_type": "code",
   "execution_count": null,
   "id": "6e8a6fce-3f6c-4097-acbd-2890c95b30e8",
   "metadata": {},
   "outputs": [
    {
     "data": {
      "text/plain": [
       "tensor([[ True, False],\n",
       "        [ True,  True],\n",
       "        [False, False],\n",
       "        [ True,  True]])"
      ]
     },
     "execution_count": null,
     "metadata": {},
     "output_type": "execute_result"
    }
   ],
   "source": [
    "obs_mask"
   ]
  },
  {
   "cell_type": "code",
   "execution_count": null,
   "id": "abee7727-dc21-4d6a-ad0a-2bc307528c4f",
   "metadata": {},
   "outputs": [
    {
     "data": {
      "text/plain": [
       "tensor([[ 1., nan],\n",
       "        [ 2., 20.],\n",
       "        [nan, nan],\n",
       "        [ 4., 40.]])"
      ]
     },
     "execution_count": null,
     "metadata": {},
     "output_type": "execute_result"
    }
   ],
   "source": [
    "X2m"
   ]
  },
  {
   "cell_type": "code",
   "execution_count": null,
   "id": "52985acd-0729-4faa-88f0-a074585e7718",
   "metadata": {},
   "outputs": [
    {
     "data": {
      "text/plain": [
       "masked_array(\n",
       "  data=[[1.0, --],\n",
       "        [2.0, 20.0],\n",
       "        [--, --],\n",
       "        [4.0, 40.0]],\n",
       "  mask=[[False,  True],\n",
       "        [False, False],\n",
       "        [ True,  True],\n",
       "        [False, False]],\n",
       "  fill_value=1e+20,\n",
       "  dtype=float32)"
      ]
     },
     "execution_count": null,
     "metadata": {},
     "output_type": "execute_result"
    }
   ],
   "source": [
    "nX2m"
   ]
  },
  {
   "cell_type": "markdown",
   "id": "82b38261-acb1-45f5-a12b-7668b5f78bfb",
   "metadata": {},
   "source": [
    "### Filter"
   ]
  },
  {
   "cell_type": "markdown",
   "id": "a7ca368e-9a56-46b2-bbcb-42e561107a88",
   "metadata": {},
   "source": [
    "#### Filter predict"
   ]
  },
  {
   "cell_type": "code",
   "execution_count": null,
   "id": "935e06ec-05cf-4521-ad9d-26f3be41eb1c",
   "metadata": {},
   "outputs": [],
   "source": [
    "#| export\n",
    "def _filter_predict(transition_matrix, transition_cov,\n",
    "                    transition_offset, current_state_mean,\n",
    "                    current_state_cov):\n",
    "    r\"\"\"Calculate the mean and cov of :math:`P(x_{t+1} | z_{0:t})`\n",
    "\n",
    "    Using the mean and cov of :math:`P(x_t | z_{0:t})`, calculate the\n",
    "    mean and cov of :math:`P(x_{t+1} | z_{0:t})`.\n",
    "\n",
    "    Parameters\n",
    "    ----------\n",
    "    transition_matrix : [n_dim_state, n_dim_state} array\n",
    "        state transition matrix from time t to t+1\n",
    "    transition_cov : [n_dim_state, n_dim_state] array\n",
    "        cov matrix for state transition from time t to t+1\n",
    "    transition_offset : [n_dim_state] array\n",
    "        offset for state transition from time t to t+1\n",
    "    current_state_mean: [n_dim_state] array\n",
    "        mean of state at time t given obss from times\n",
    "        [0...t]\n",
    "    current_state_cov: [n_dim_state, n_dim_state] array\n",
    "        cov of state at time t given obss from times\n",
    "        [0...t]\n",
    "\n",
    "    Returns\n",
    "    -------\n",
    "    pred_state_mean : [n_dim_state] array\n",
    "        mean of state at time t+1 given obss from times [0...t]\n",
    "    pred_state_cov : [n_dim_state, n_dim_state] array\n",
    "        cov of state at time t+1 given obss from times\n",
    "        [0...t]\n",
    "    \"\"\"\n",
    "    pred_state_mean = transition_matrix @ current_state_mean + transition_offset\n",
    "    pred_state_cov =  transition_matrix @ current_state_cov @ transition_matrix + transition_cov\n",
    "\n",
    "    check_posdef(pred_state_cov)\n",
    "    \n",
    "    return (pred_state_mean, pred_state_cov)"
   ]
  },
  {
   "cell_type": "code",
   "execution_count": null,
   "id": "dc141646-3e32-461d-84d2-bab7a6423d61",
   "metadata": {},
   "outputs": [],
   "source": [
    "trans_m = np.eye(2)\n",
    "trans_cov = np.eye(2)\n",
    "trans_off = np.zeros((2,2))\n",
    "curr_mean = np.ones((2,1))\n",
    "curr_cov = np.zeros((2,2))"
   ]
  },
  {
   "cell_type": "code",
   "execution_count": null,
   "id": "25d156cb-a6c5-4098-8368-9544f6b22ba9",
   "metadata": {},
   "outputs": [
    {
     "data": {
      "text/plain": [
       "(tensor([[1., 1.],\n",
       "         [1., 1.]], dtype=torch.float64),\n",
       " tensor([[1., 0.],\n",
       "         [0., 1.]], dtype=torch.float64))"
      ]
     },
     "execution_count": null,
     "metadata": {},
     "output_type": "execute_result"
    }
   ],
   "source": [
    "_filter_predict(torch.tensor(trans_m) , torch.tensor(trans_cov), torch.tensor(trans_off), torch.tensor(curr_mean), torch.tensor(curr_cov))"
   ]
  },
  {
   "cell_type": "code",
   "execution_count": null,
   "id": "c8d817b0-41be-4577-a6ea-b0e20ef47b06",
   "metadata": {},
   "outputs": [],
   "source": [
    "test_close(\n",
    "    pykalman.standard._filter_predict(trans_m , trans_cov, trans_off, curr_mean, curr_cov),\n",
    "    _filter_predict(torch.tensor(trans_m) , torch.tensor(trans_cov), torch.tensor(trans_off), torch.tensor(curr_mean), torch.tensor(curr_cov)))"
   ]
  },
  {
   "cell_type": "markdown",
   "id": "99e62fe3-a580-4f1d-aa20-8c5de1d90cb6",
   "metadata": {},
   "source": [
    "#### Filter correct"
   ]
  },
  {
   "cell_type": "code",
   "execution_count": null,
   "id": "23b11e2a",
   "metadata": {},
   "outputs": [],
   "source": [
    "#| export\n",
    "def _filter_correct(obs_matrix, obs_cov,\n",
    "                    obs_offset, pred_state_mean,\n",
    "                    pred_state_cov, obs, mask):\n",
    "    r\"\"\"Correct a pred state with a Kalman Filter update\n",
    "\n",
    "    Incorporate obs `obs` from time `t` to turn\n",
    "    :math:`P(x_t | z_{0:t-1})` into :math:`P(x_t | z_{0:t})`\n",
    "\n",
    "    Parameters\n",
    "    ----------\n",
    "    obs_matrix : [n_dim_obs, n_dim_state] array\n",
    "        obs matrix for time t\n",
    "    obs_cov : [n_dim_obs, n_dim_obs] array\n",
    "        cov matrix for obs at time t\n",
    "    obs_offset : [n_dim_obs] array\n",
    "        offset for obs at time t\n",
    "    pred_state_mean : [n_dim_state] array\n",
    "        mean of state at time t given obss from times\n",
    "        [0...t-1]\n",
    "    pred_state_cov : [n_dim_state, n_dim_state] array\n",
    "        cov of state at time t given obss from times\n",
    "        [0...t-1]\n",
    "    obs : [n_dim_obs] array\n",
    "        obs at time t.  If `obs` is a masked array and any of\n",
    "        its values are masked, the obs will be ignored.\n",
    "\n",
    "    Returns\n",
    "    -------\n",
    "    kalman_gain : [n_dim_state, n_dim_obs] array\n",
    "        Kalman gain matrix for time t\n",
    "    corrected_state_mean : [n_dim_state] array\n",
    "        mean of state at time t given obss from times\n",
    "        [0...t]\n",
    "    corrected_state_cov : [n_dim_state, n_dim_state] array\n",
    "        cov of state at time t given obss from times\n",
    "        [0...t]\n",
    "    \"\"\"\n",
    "    if mask:\n",
    "        pred_obs_mean = obs_matrix @ pred_state_mean + obs_offset\n",
    "        pred_obs_cov = obs_matrix @ pred_state_cov @ obs_matrix.T + obs_cov\n",
    "\n",
    "        kalman_gain = pred_state_cov @ obs_matrix.T @ torch.inverse(pred_obs_cov)\n",
    "\n",
    "        corrected_state_mean = pred_state_mean + kalman_gain @ (obs - pred_obs_mean)\n",
    "        corrected_state_cov = pred_state_cov - kalman_gain @ obs_matrix @ pred_state_cov\n",
    "    else:\n",
    "        n_dim_state = pred_state_cov.shape[0]\n",
    "        n_dim_obs = obs_matrix.shape[0]\n",
    "        kalman_gain = torch.zeros((n_dim_state, n_dim_obs))\n",
    "\n",
    "        corrected_state_mean = pred_state_mean\n",
    "        corrected_state_cov = pred_state_cov\n",
    "        \n",
    "    check_posdef(corrected_state_cov)\n",
    "\n",
    "    return (kalman_gain, corrected_state_mean,\n",
    "            corrected_state_cov)"
   ]
  },
  {
   "cell_type": "code",
   "execution_count": null,
   "id": "89abda27-c723-4e54-b7ac-7be3ddcb12d6",
   "metadata": {},
   "outputs": [],
   "source": [
    "args_np = {\n",
    "    'obs_m': np.eye(2),\n",
    "    'obs_cov': np.eye(2),\n",
    "    'obs_off': np.zeros((2,1)),\n",
    "    'pred_state_mean': np.ones(2),\n",
    "    'pred_state_cov': np.eye(2),\n",
    "    'obs': np.ones((2,1)),\n",
    "}\n",
    "\n",
    "args_torch = {k: torch.tensor(v) for k,v in args_np.items()}"
   ]
  },
  {
   "cell_type": "code",
   "execution_count": null,
   "id": "259a47a7-e4a8-40ac-add2-48e0d37f5274",
   "metadata": {},
   "outputs": [
    {
     "data": {
      "text/plain": [
       "(tensor([[0.5000, 0.0000],\n",
       "         [0.0000, 0.5000]], dtype=torch.float64),\n",
       " tensor([[1., 1.],\n",
       "         [1., 1.]], dtype=torch.float64),\n",
       " tensor([[0.5000, 0.0000],\n",
       "         [0.0000, 0.5000]], dtype=torch.float64))"
      ]
     },
     "execution_count": null,
     "metadata": {},
     "output_type": "execute_result"
    }
   ],
   "source": [
    "_filter_correct(*args_torch.values(), mask=True)"
   ]
  },
  {
   "cell_type": "code",
   "execution_count": null,
   "id": "85912564-1794-4799-b4ee-e307055a6204",
   "metadata": {},
   "outputs": [],
   "source": [
    "test_close(\n",
    "    pykalman.standard._filter_correct(*args_np.values()),\n",
    "    _filter_correct(*args_torch.values(), mask=True))"
   ]
  },
  {
   "cell_type": "markdown",
   "id": "173294f6-f74b-4a93-9ba6-c4695284d125",
   "metadata": {},
   "source": [
    "#### Filter"
   ]
  },
  {
   "cell_type": "code",
   "execution_count": null,
   "id": "2f045ed4-40bc-4451-b836-5bc4e5b4d4b9",
   "metadata": {},
   "outputs": [],
   "source": [
    "#| export\n",
    "def _filter(transition_matrices, obs_matrices, transition_cov,\n",
    "            obs_cov, transition_offsets, obs_offsets,\n",
    "            initial_state_mean, initial_state_cov, obs, obs_mask):\n",
    "    \"\"\"Apply the Kalman Filter\n",
    "\n",
    "    Calculate posterior distribution over hidden states given obss up\n",
    "    to and including the current time step.\n",
    "\n",
    "    Parameters\n",
    "    ----------\n",
    "    transition_matrices : [n_timesteps-1,n_dim_state,n_dim_state] or\n",
    "    [n_dim_state,n_dim_state] array-like\n",
    "        state transition matrices\n",
    "    obs_matrices : [n_timesteps, n_dim_obs, n_dim_state] or [n_dim_obs, \\\n",
    "    n_dim_state] array-like\n",
    "        obs matrix\n",
    "    transition_cov : [n_timesteps-1,n_dim_state,n_dim_state] or\n",
    "    [n_dim_state,n_dim_state] array-like\n",
    "        state transition cov matrix\n",
    "    obs_cov : [n_timesteps, n_dim_obs, n_dim_obs] or [n_dim_obs,\n",
    "    n_dim_obs] array-like\n",
    "        obs cov matrix\n",
    "    transition_offsets : [n_timesteps-1, n_dim_state] or [n_dim_state] \\\n",
    "    array-like\n",
    "        state offset\n",
    "    obs_offsets : [n_timesteps, n_dim_obs] or [n_dim_obs] array-like\n",
    "        obss for times [0...n_timesteps-1]\n",
    "    initial_state_mean : [n_dim_state] array-like\n",
    "        mean of initial state distribution\n",
    "    initial_state_cov : [n_dim_state, n_dim_state] array-like\n",
    "        cov of initial state distribution\n",
    "    obss : [n_timesteps, n_dim_obs] array\n",
    "        obss from times [0...n_timesteps-1].  If `obss` is a\n",
    "        masked array and any of `obss[t]` is masked, then\n",
    "        `obss[t]` will be treated as a missing obs.\n",
    "\n",
    "    Returns\n",
    "    -------\n",
    "    pred_state_means : [n_timesteps, n_dim_state] array\n",
    "        `pred_state_means[t]` = mean of hidden state at time t given\n",
    "        obss from times [0...t-1]\n",
    "    pred_state_covs : [n_timesteps, n_dim_state, n_dim_state] array\n",
    "        `pred_state_covs[t]` = cov of hidden state at time t\n",
    "        given obss from times [0...t-1]\n",
    "    kalman_gains : [n_timesteps, n_dim_state] array\n",
    "        `kalman_gains[t]` = Kalman gain matrix for time t\n",
    "    filt_state_means : [n_timesteps, n_dim_state] array\n",
    "        `filt_state_means[t]` = mean of hidden state at time t given\n",
    "        obss from times [0...t]\n",
    "    filt_state_covs : [n_timesteps, n_dim_state] array\n",
    "        `filt_state_covs[t]` = cov of hidden state at time t\n",
    "        given obss from times [0...t]\n",
    "    \"\"\"\n",
    "    n_timesteps = obs.shape[0]\n",
    "    n_dim_state = len(initial_state_mean)\n",
    "    n_dim_obs = obs.shape[1]\n",
    "    \n",
    "    # those variables need to be lists and not Tensors,\n",
    "    # otherwise pytorch tryies to compute the gradient for the whole tensor and it breaks due to the in place operations\n",
    "    \n",
    "    pred_state_means = [None for _ in range(n_timesteps)] # torch.zeros((n_timesteps, n_dim_state))\n",
    "    pred_state_covs = [None for _ in range(n_timesteps)] # torch.zeros(\n",
    "        #(n_timesteps, n_dim_state, n_dim_state)\n",
    "    #)\n",
    "    kalman_gains = [None for _ in range(n_timesteps)]\n",
    "    filt_state_means = [None for _ in range(n_timesteps)]\n",
    "    filt_state_covs = [None for _ in range(n_timesteps)]\n",
    "\n",
    "    for t in range(n_timesteps):\n",
    "        if t == 0:\n",
    "            pred_state_means[t] = initial_state_mean\n",
    "            pred_state_covs[t] = initial_state_cov\n",
    "        else:\n",
    "            transition_matrix = _last_dims(transition_matrices, t - 1)\n",
    "            transition_cov = _last_dims(transition_cov, t - 1)\n",
    "            transition_offset = _last_dims(transition_offsets, t - 1, ndims=1)\n",
    "            pred_state_means[t], pred_state_covs[t] = (\n",
    "                _filter_predict(\n",
    "                    transition_matrix,\n",
    "                    transition_cov,\n",
    "                    transition_offset,\n",
    "                    filt_state_means[t - 1],\n",
    "                    filt_state_covs[t - 1]\n",
    "                )\n",
    "            )\n",
    "\n",
    "        obs_matrix = _last_dims(obs_matrices, t)\n",
    "        obs_cov = _last_dims(obs_cov, t)\n",
    "        obs_offset = _last_dims(obs_offsets, t, ndims=1)\n",
    "        (kalman_gains[t], filt_state_means[t],\n",
    "         filt_state_covs[t]) = (\n",
    "            _filter_correct(obs_matrix,\n",
    "                obs_cov,\n",
    "                obs_offset,\n",
    "                pred_state_means[t],\n",
    "                pred_state_covs[t],\n",
    "                obs[t],\n",
    "                obs_mask[t]\n",
    "            )\n",
    "        )\n",
    "\n",
    "    return (pred_state_means, pred_state_covs, filt_state_means,\n",
    "            filt_state_covs)"
   ]
  },
  {
   "cell_type": "code",
   "execution_count": null,
   "id": "5326f17b-3cdb-4ad3-a040-9866abc6a89f",
   "metadata": {},
   "outputs": [],
   "source": [
    "args_filt_np = {\n",
    "    'trans_m': np.eye(2),\n",
    "    'obs_m': np.eye(2),\n",
    "    'trans_cov': np.eye(2),\n",
    "    'obs_cov': np.eye(2),\n",
    "    'trans_off': np.zeros((2,1)),\n",
    "    'obs_off': np.zeros((3,2)),\n",
    "    'init_state_mean': np.ones(2),\n",
    "    'init_state_cov': np.eye(2),\n",
    "    'obs': np.ones((3, 2)),\n",
    "}\n",
    "\n",
    "obs_mask = np.ones(3)\n",
    "\n",
    "args_filt_torch = {k: torch.tensor(v, dtype = torch.float32) for k,v in args_filt_np.items()}"
   ]
  },
  {
   "cell_type": "code",
   "execution_count": null,
   "id": "5d40182e-31a2-42b4-a734-5fe228072526",
   "metadata": {},
   "outputs": [
    {
     "data": {
      "text/plain": [
       "([tensor([1., 1.]), tensor([1., 1.]), tensor([1., 1.])],\n",
       " [tensor([[1., 0.],\n",
       "          [0., 1.]]),\n",
       "  tensor([[1.5000, 0.0000],\n",
       "          [0.0000, 1.5000]]),\n",
       "  tensor([[1.6000, 0.0000],\n",
       "          [0.0000, 1.6000]])],\n",
       " [tensor([1., 1.]), tensor([1., 1.]), tensor([1., 1.])],\n",
       " [tensor([[0.5000, 0.0000],\n",
       "          [0.0000, 0.5000]]),\n",
       "  tensor([[0.6000, 0.0000],\n",
       "          [0.0000, 0.6000]]),\n",
       "  tensor([[0.6154, 0.0000],\n",
       "          [0.0000, 0.6154]])])"
      ]
     },
     "execution_count": null,
     "metadata": {},
     "output_type": "execute_result"
    }
   ],
   "source": [
    "_filter(*args_filt_torch.values(), obs_mask=obs_mask)"
   ]
  },
  {
   "cell_type": "code",
   "execution_count": null,
   "id": "14baa8c6-8556-40fc-8dc8-02f8a0d40a50",
   "metadata": {},
   "outputs": [],
   "source": [
    "filt_pyk = list(pykalman.standard._filter(*args_filt_np.values()))\n",
    "del filt_pyk[2] # remove kalman gain that is not returned py _filter\n",
    "\n",
    "filt =  list(map(lambda x: torch.stack(x), _filter(*args_filt_torch.values(), obs_mask=obs_mask)))\n",
    "\n",
    "test_close( filt_pyk, filt)"
   ]
  },
  {
   "cell_type": "markdown",
   "id": "43e37b54-796f-4497-a15d-6b1cddfb986e",
   "metadata": {},
   "source": [
    "missing data"
   ]
  },
  {
   "cell_type": "code",
   "execution_count": null,
   "id": "ab129fb2-af48-44d4-b528-ea643c107a93",
   "metadata": {},
   "outputs": [],
   "source": [
    "obs_mask = np.array([True, False, True])\n",
    "args_filt_np['obs'] = np.ma.masked_array(args_filt_np['obs'], mask = np.vstack([~obs_mask] * 2).T)"
   ]
  },
  {
   "cell_type": "code",
   "execution_count": null,
   "id": "a5333d91-d971-41bd-babf-bf21b8ee6488",
   "metadata": {},
   "outputs": [
    {
     "data": {
      "text/plain": [
       "masked_array(\n",
       "  data=[[1.0, 1.0],\n",
       "        [--, --],\n",
       "        [1.0, 1.0]],\n",
       "  mask=[[False, False],\n",
       "        [ True,  True],\n",
       "        [False, False]],\n",
       "  fill_value=1e+20)"
      ]
     },
     "execution_count": null,
     "metadata": {},
     "output_type": "execute_result"
    }
   ],
   "source": [
    "args_filt_np['obs']"
   ]
  },
  {
   "cell_type": "code",
   "execution_count": null,
   "id": "9c366aed-4312-4a83-b6e1-c4e452ea0afe",
   "metadata": {},
   "outputs": [],
   "source": [
    "filt_pyk = list(pykalman.standard._filter(*args_filt_np.values()))\n",
    "del filt_pyk[2] # remove kalman gain that is not returned py _filter\n",
    "\n",
    "filt =  list(map(lambda x: torch.stack(x), _filter(*args_filt_torch.values(), obs_mask=torch.tensor(obs_mask))))\n",
    "\n",
    "test_close( filt_pyk, filt)"
   ]
  },
  {
   "cell_type": "markdown",
   "id": "9f928bd5-604f-4a0d-9379-46aba21e31d8",
   "metadata": {},
   "source": [
    "#### KalmanFilter method"
   ]
  },
  {
   "cell_type": "code",
   "execution_count": null,
   "id": "9faab4ca-9796-4d84-90b2-8cde296e66ec",
   "metadata": {},
   "outputs": [],
   "source": [
    "#| export\n",
    "@torch.no_grad()\n",
    "@patch\n",
    "def filter(self: KalmanFilter,\n",
    "          obs: Tensor, # [n_timesteps, n_dim_obs] obs for times [0...n_timesteps-1]\n",
    "          mask = None\n",
    "          ) -> ListNormal: # Filtered state\n",
    "    \"\"\"Filter observation\"\"\"\n",
    "    _, _, filt_state_means, filt_state_covs = self._filter_all(obs)\n",
    "    return ListNormal(_stack_detach(filt_state_means), _stack_detach(filt_state_covs))\n",
    "\n",
    "@patch\n",
    "def _filter_all(self: KalmanFilter, obs, mask=None) -> Tuple:\n",
    "    obs, obs_mask = self._parse_obs(obs, mask)\n",
    "\n",
    "    return _filter(\n",
    "            self.transition_matrices,\n",
    "            self.obs_matrices,\n",
    "            self.transition_cov,\n",
    "            self.obs_cov,\n",
    "            self.transition_offsets,\n",
    "            self.obs_offsets,\n",
    "            self.initial_state_mean,\n",
    "            self.initial_state_cov,\n",
    "            obs,\n",
    "            obs_mask\n",
    "        )\n",
    "        "
   ]
  },
  {
   "cell_type": "markdown",
   "id": "9a7cc203-603a-4804-a9d7-c424e4dbfb89",
   "metadata": {},
   "source": [
    "#### Final Testing"
   ]
  },
  {
   "cell_type": "code",
   "execution_count": null,
   "id": "5a3d5e52-1bdc-4dbe-a19f-2f428795e78a",
   "metadata": {},
   "outputs": [
    {
     "data": {
      "text/plain": [
       "ListNormal(mean=tensor([[0.5000],\n",
       "        [1.4000],\n",
       "        [2.3846]]), cov=tensor([[[0.5000]],\n",
       "\n",
       "        [[0.6000]],\n",
       "\n",
       "        [[0.6154]]]))"
      ]
     },
     "execution_count": null,
     "metadata": {},
     "output_type": "execute_result"
    }
   ],
   "source": [
    "k.filter(X)"
   ]
  },
  {
   "cell_type": "code",
   "execution_count": null,
   "id": "900b89cf-3a35-4393-9a6d-a4ca85ea2247",
   "metadata": {},
   "outputs": [],
   "source": [
    "test_close(\n",
    "    pyk.filter(X.numpy()),\n",
    "    k.filter(X)\n",
    ")"
   ]
  },
  {
   "cell_type": "code",
   "execution_count": null,
   "id": "b0922900-208e-443b-97bd-24a2ff1f4f50",
   "metadata": {},
   "outputs": [],
   "source": [
    "test_close(\n",
    "    pyk2.filter(nX2),\n",
    "    k2.filter(X2)\n",
    ")"
   ]
  },
  {
   "cell_type": "code",
   "execution_count": null,
   "id": "a6b14d00-9ee7-4e67-9cc0-e40be8c63a70",
   "metadata": {},
   "outputs": [
    {
     "data": {
      "text/plain": [
       "ListNormal(mean=tensor([[ 0.0000,  0.0000],\n",
       "        [ 1.3333, 13.3333],\n",
       "        [ 1.3333, 13.3333],\n",
       "        [ 3.2727, 32.7273]]), cov=tensor([[[1.0000, 0.0000],\n",
       "         [0.0000, 1.0000]],\n",
       "\n",
       "        [[0.6667, 0.0000],\n",
       "         [0.0000, 0.6667]],\n",
       "\n",
       "        [[1.6667, 0.0000],\n",
       "         [0.0000, 1.6667]],\n",
       "\n",
       "        [[0.7273, 0.0000],\n",
       "         [0.0000, 0.7273]]]))"
      ]
     },
     "execution_count": null,
     "metadata": {},
     "output_type": "execute_result"
    }
   ],
   "source": [
    "k2.filter(X2m)"
   ]
  },
  {
   "cell_type": "code",
   "execution_count": null,
   "id": "5f97a343-1841-4a36-950f-826103a8d19e",
   "metadata": {},
   "outputs": [],
   "source": [
    "test_close(\n",
    "    pyk.filter(X.numpy()),\n",
    "    k.filter(X)\n",
    ")"
   ]
  },
  {
   "cell_type": "code",
   "execution_count": null,
   "id": "b08aba5f-0260-47e9-954c-2e8c2be2bb5f",
   "metadata": {},
   "outputs": [],
   "source": [
    "test_close(\n",
    "    pyk2.filter(nX2),\n",
    "    k2.filter(X2)\n",
    ")"
   ]
  },
  {
   "cell_type": "code",
   "execution_count": null,
   "id": "86705b39-0379-41e1-a8ad-eeb770362fee",
   "metadata": {},
   "outputs": [],
   "source": [
    "test_close(\n",
    "    pyk2.filter(nX2m),\n",
    "    k2.filter(X2m)\n",
    ")"
   ]
  },
  {
   "cell_type": "markdown",
   "id": "f8d2f1bf-34cd-4e87-a239-2662f6689a53",
   "metadata": {},
   "source": [
    "### Smooth"
   ]
  },
  {
   "cell_type": "markdown",
   "id": "ff2a1878-4e69-4ead-a7b8-cf7dbae5d13e",
   "metadata": {},
   "source": [
    "#### Smooth step"
   ]
  },
  {
   "cell_type": "code",
   "execution_count": null,
   "id": "57d5c739-3863-40a5-8b96-1ee12c476ca9",
   "metadata": {},
   "outputs": [],
   "source": [
    "#| export\n",
    "def _smooth_update(transition_matrix,      # [n_dim_state, n_dim_state]\n",
    "                   filt_state: Normal, # [n_dim_state] filtered state at time `t`\n",
    "                   pred_state: Normal,        # [n_dim_state] state before filtering at time `t + 1` (= using the observation until time t)\n",
    "                   next_smoothed_state: Normal, # [n_dim_state] smoothed state at time  `t+1`\n",
    "                   ) -> Normal: # mean and cov of smoothed state at time `t`\n",
    "    r\"\"\"Correct a pred state with a Kalman Smoother update\n",
    "\n",
    "    Calculates posterior distribution of the hidden state at time `t` given the the observations via Kalman Smoothing.\n",
    "    \"\"\"\n",
    "    kalman_smoothing_gain = filt_state.cov @ transition_matrix.T @ torch.inverse(pred_state.cov)\n",
    "\n",
    "    smoothed_state_mean = filt_state.mean + kalman_smoothing_gain @ (next_smoothed_state.mean - pred_state.mean)\n",
    "    smoothed_state_cov = (filt_state.cov\n",
    "                      + kalman_smoothing_gain @ (next_smoothed_state.cov - pred_state.cov) @ kalman_smoothing_gain.T)\n",
    "\n",
    "    check_posdef(smoothed_state_cov)\n",
    "    \n",
    "    return ListNormal(smoothed_state_mean, smoothed_state_cov,)"
   ]
  },
  {
   "cell_type": "code",
   "execution_count": null,
   "id": "561b2765-ea53-486e-93d8-d600cb20c7c5",
   "metadata": {},
   "outputs": [],
   "source": [
    "args_np_sm = {\n",
    "    'pred_state_m': np.zeros(2),\n",
    "    'pred_state_cov': np.eye(2),\n",
    "    'filt_state_m': np.zeros(2),\n",
    "    'filt_state_cov': np.eye(2),\n",
    "    'next_state_m': np.zeros(2),\n",
    "    'next_state_cov': np.eye(2),\n",
    "    'trans_m': np.eye(2),\n",
    "}\n",
    "\n",
    "args_torch_sm = {k: torch.tensor(v) for k,v in args_np_sm.items()}"
   ]
  },
  {
   "cell_type": "code",
   "execution_count": null,
   "id": "0bd12c2f-578b-40fd-8a8f-e2d52098badb",
   "metadata": {},
   "outputs": [],
   "source": [
    "pyk_mean, pyk_cov, _ = pykalman.standard._smooth_update(\n",
    "    args_np_sm['trans_m'],\n",
    "    args_np_sm['filt_state_m'],\n",
    "    args_np_sm['filt_state_cov'],\n",
    "    args_np_sm['pred_state_m'],\n",
    "    args_np_sm['pred_state_cov'],\n",
    "    args_np_sm['next_state_m'],\n",
    "    args_np_sm['next_state_cov'],\n",
    ")"
   ]
  },
  {
   "cell_type": "code",
   "execution_count": null,
   "id": "18650e9f-ec71-4ab5-8c50-cfa631e87885",
   "metadata": {},
   "outputs": [],
   "source": [
    "torch_k = _smooth_update(\n",
    "    args_torch_sm['trans_m'],\n",
    "    Normal(args_torch_sm['filt_state_m'], args_torch_sm['filt_state_cov']),\n",
    "    Normal(args_torch_sm['pred_state_m'], args_torch_sm['pred_state_cov']),\n",
    "    Normal(args_torch_sm['next_state_m'], args_torch_sm['next_state_cov']),\n",
    ")"
   ]
  },
  {
   "cell_type": "code",
   "execution_count": null,
   "id": "a67b6580-dc0e-4fce-b682-1cb4b5107bd9",
   "metadata": {},
   "outputs": [],
   "source": [
    "test_close((pyk_mean, pyk_cov, ), torch_k)"
   ]
  },
  {
   "cell_type": "code",
   "execution_count": null,
   "id": "7c46309f-70f9-419f-91fc-607ec3e79d77",
   "metadata": {},
   "outputs": [],
   "source": [
    "#| export\n",
    "def _smooth(transition_matrices, # `[n_timesteps-1, n_dim_state, n_dim_state]` or `[n_dim_state, n_dim_state]`\n",
    "            filt_state: ListNormal, # `[n_timesteps, n_dim_state]`\n",
    "                # `filt_state_means[t]` = mean state estimate for time t given obs from times `[0...t]`\n",
    "            pred_state: ListNormal, # `[n_timesteps, n_dim_state]`\n",
    "                # `pred_state_means[t]` = mean state estimate for time t given obs from times `[0...t-1]`\n",
    "           ) -> ListNormal: # `[n_timesteps, n_dim_state]` Smoothed state \n",
    "    \"\"\"Apply the Kalman Smoother \"\"\"\n",
    "    n_timesteps, n_dim_state = len(pred_state.mean), pred_state.mean[0].shape[0]\n",
    "\n",
    "    smoothed_state = ListNormal(torch.zeros((n_timesteps,n_dim_state)), \n",
    "                                torch.zeros((n_timesteps, n_dim_state,\n",
    "                                           n_dim_state)))\n",
    "\n",
    "    smoothed_state.mean[-1] = filt_state.mean[-1]\n",
    "    smoothed_state.cov[-1] = filt_state.cov[-1]\n",
    "\n",
    "    for t in reversed(range(n_timesteps - 1)):\n",
    "        transition_matrix = _last_dims(transition_matrices, t)\n",
    "        (smoothed_state.mean[t], smoothed_state.cov[t]) = (\n",
    "            _smooth_update(\n",
    "                transition_matrix,\n",
    "                filt_state.get_nth(t),\n",
    "                pred_state.get_nth(t + 1),\n",
    "                smoothed_state.get_nth(t+1)\n",
    "            )\n",
    "        )\n",
    "    return smoothed_state"
   ]
  },
  {
   "cell_type": "code",
   "execution_count": null,
   "id": "78f79457-da68-429c-8edd-860860380cbc",
   "metadata": {},
   "outputs": [],
   "source": [
    "(pred_state_means, pred_state_covs, filt_state_means, filt_state_covs ) = k2._filter_all(X2m)"
   ]
  },
  {
   "cell_type": "code",
   "execution_count": null,
   "id": "5475b7ee-c9df-4aca-b490-2f4a2b331d4e",
   "metadata": {},
   "outputs": [],
   "source": [
    "torch_smooth = _smooth(k2.transition_matrices,  ListNormal(filt_state_means, filt_state_covs), ListNormal(pred_state_means, pred_state_covs))"
   ]
  },
  {
   "cell_type": "code",
   "execution_count": null,
   "id": "dd2311f7-de58-4212-b1c3-0fb840c90072",
   "metadata": {},
   "outputs": [],
   "source": [
    "pyk_sm_mean, pyk_sm_cov, _ = pykalman.standard._smooth(k2.transition_matrices.detach().numpy(),\n",
    "                          _stack_detach(filt_state_means).numpy(), _stack_detach(filt_state_covs).numpy(),\n",
    "                          _stack_detach(pred_state_means).numpy(), _stack_detach(pred_state_covs).numpy())"
   ]
  },
  {
   "cell_type": "code",
   "execution_count": null,
   "id": "46ce62c8-a8df-4f67-b49a-3e4781e9fba9",
   "metadata": {},
   "outputs": [],
   "source": [
    "test_close((pyk_sm_mean, pyk_sm_cov,), torch_smooth)"
   ]
  },
  {
   "cell_type": "code",
   "execution_count": null,
   "id": "16df8533-f01d-4b04-8917-67efd7719281",
   "metadata": {},
   "outputs": [
    {
     "data": {
      "text/plain": [
       "ListNormal(mean=tensor([[ 0.9091,  9.0909],\n",
       "        [ 1.8182, 18.1818],\n",
       "        [ 2.5455, 25.4545],\n",
       "        [ 3.2727, 32.7273]], grad_fn=<CopySlices>), cov=tensor([[[0.6364, 0.0000],\n",
       "         [0.0000, 0.6364]],\n",
       "\n",
       "        [[0.5455, 0.0000],\n",
       "         [0.0000, 0.5455]],\n",
       "\n",
       "        [[0.9091, 0.0000],\n",
       "         [0.0000, 0.9091]],\n",
       "\n",
       "        [[0.7273, 0.0000],\n",
       "         [0.0000, 0.7273]]], grad_fn=<CopySlices>))"
      ]
     },
     "execution_count": null,
     "metadata": {},
     "output_type": "execute_result"
    }
   ],
   "source": [
    "torch_smooth"
   ]
  },
  {
   "cell_type": "markdown",
   "id": "bc0299de-69cf-4351-ba84-12871662230b",
   "metadata": {},
   "source": [
    "#### KalmanFilter method"
   ]
  },
  {
   "cell_type": "code",
   "execution_count": null,
   "id": "808bcd96-9e98-4e4f-9b85-cdfb98cb9709",
   "metadata": {},
   "outputs": [],
   "source": [
    "#| export\n",
    "@patch\n",
    "def smooth(self: KalmanFilter,\n",
    "           X: Tensor, # dataset\n",
    "           mask = None\n",
    "          ) -> Tuple[Tensor, Tensor]:\n",
    "                # `smoothed_state_means` : `[n_timesteps, n_dim_state]`\n",
    "                    # mean of hidden state distributions for times `[0...n_timesteps-1]`\n",
    "                # `smoothed_state_covs` : `[n_timesteps, n_dim_state]`\n",
    "                    # covs of hidden state distributions for times `[0...n_timesteps-1]`\n",
    "        \n",
    "    \"\"\"Smoothing for prediction (no gradients)\"\"\"\n",
    "\n",
    "    (pred_state_means, pred_state_covs, filt_state_means, filt_state_covs) = (self._filter_all(X, mask))\n",
    "\n",
    "    return _smooth(\n",
    "            self.transition_matrices,\n",
    "            ListNormal(filt_state_means, filt_state_covs),\n",
    "            ListNormal(pred_state_means, pred_state_covs)\n",
    "        )\n",
    "\n",
    "  "
   ]
  },
  {
   "cell_type": "code",
   "execution_count": null,
   "id": "bc63fe46-f267-4538-a72b-997747df2391",
   "metadata": {},
   "outputs": [
    {
     "data": {
      "text/plain": [
       "ListNormal(mean=tensor([[0.9231],\n",
       "        [1.7692],\n",
       "        [2.3846]], grad_fn=<CopySlices>), cov=tensor([[[0.3846]],\n",
       "\n",
       "        [[0.4615]],\n",
       "\n",
       "        [[0.6154]]], grad_fn=<CopySlices>))"
      ]
     },
     "execution_count": null,
     "metadata": {},
     "output_type": "execute_result"
    }
   ],
   "source": [
    "k.smooth(X)"
   ]
  },
  {
   "cell_type": "markdown",
   "id": "419f58c1-4050-49df-bb52-e72507e40e28",
   "metadata": {},
   "source": [
    "#### Final Testing"
   ]
  },
  {
   "cell_type": "code",
   "execution_count": null,
   "id": "1f2e0b06-21fa-420e-9755-e4ecf74cddef",
   "metadata": {},
   "outputs": [],
   "source": [
    "test_close(\n",
    "    pyk.smooth(nX),\n",
    "    k.smooth(X).detach()\n",
    ")"
   ]
  },
  {
   "cell_type": "code",
   "execution_count": null,
   "id": "b406e5f0-2c60-41f3-8704-5f7d870050ca",
   "metadata": {},
   "outputs": [],
   "source": [
    "test_close(\n",
    "    pyk2.smooth(nX2),\n",
    "    k2.smooth(X2).detach()\n",
    ")"
   ]
  },
  {
   "cell_type": "code",
   "execution_count": null,
   "id": "812d3a40-ad1d-460c-81ff-f234f36d7937",
   "metadata": {},
   "outputs": [],
   "source": [
    "test_close(\n",
    "    pyk2.smooth(nX2m),\n",
    "    k2.smooth(X2m)\n",
    ")"
   ]
  },
  {
   "cell_type": "markdown",
   "id": "7e0600dd-9baf-4796-b3f5-4ae1c2239453",
   "metadata": {},
   "source": [
    "### Predict"
   ]
  },
  {
   "cell_type": "code",
   "execution_count": null,
   "id": "65cede76-c4df-4817-b6e1-5f53ee9f17bd",
   "metadata": {},
   "outputs": [],
   "source": [
    "#| export\n",
    "@patch\n",
    "def _obs_from_state(self: KalmanFilter, state_mean, state_cov, t):\n",
    "    obs_matrix = _last_dims(self.obs_matrices, t)\n",
    "    obs_offset = _last_dims(self.obs_offsets, t, ndims=1)\n",
    "\n",
    "    mean = obs_matrix @ state_mean\n",
    "    cov = obs_matrix @ state_cov @ obs_matrix.T + self.obs_cov\n",
    "    \n",
    "    \n",
    "    check_posdef(cov)\n",
    "    \n",
    "    return ListNormal(mean, cov)\n",
    "\n",
    "@patch\n",
    "def predict(self: KalmanFilter, X, times, mask=None, smooth=True):\n",
    "    state = self.smooth(X, mask) if smooth else self.filter(X, mask)\n",
    "    times = array1d(times)\n",
    "    \n",
    "    n_timesteps = X.shape[0]\n",
    "    n_features = X.shape[1] if len(X.shape) > 1 else 1\n",
    "    \n",
    "    if times.max() > n_timesteps or times.min() < 0:\n",
    "        raise ValueError(f\"provided times range from {times.min()} to {times.max()}, which is outside allowed range : 0 to {n_timesteps}\")\n",
    "\n",
    "    means = torch.empty((times.shape[0], n_features))\n",
    "    covs = torch.empty((times.shape[0], n_features, n_features)) \n",
    "    for i, t in enumerate(times):\n",
    "        mean, cov = self._obs_from_state(state.mean[t], state.cov[t], t)\n",
    "        means[i] = mean\n",
    "        covs[i] = cov\n",
    "    \n",
    "    \n",
    "    return ListNormal(means, covs)  "
   ]
  },
  {
   "cell_type": "code",
   "execution_count": null,
   "id": "8f3154aa-0d7e-476f-a8ce-e22c955224d1",
   "metadata": {},
   "outputs": [
    {
     "data": {
      "text/plain": [
       "ListNormal(mean=tensor([[1.7692],\n",
       "        [2.3846]], grad_fn=<CopySlices>), cov=tensor([[[1.4615]],\n",
       "\n",
       "        [[1.6154]]], grad_fn=<CopySlices>))"
      ]
     },
     "execution_count": null,
     "metadata": {},
     "output_type": "execute_result"
    }
   ],
   "source": [
    "k.predict(X, [1,2])"
   ]
  },
  {
   "cell_type": "markdown",
   "id": "efa10e27-c68e-4ab0-88f0-853dbb322e45",
   "metadata": {},
   "source": [
    "pykalman doesn't support a predict method"
   ]
  },
  {
   "cell_type": "markdown",
   "id": "5a91fcc3-b509-45de-b840-55134dc4f2bc",
   "metadata": {},
   "source": [
    "### Log Likelihood"
   ]
  },
  {
   "cell_type": "code",
   "execution_count": null,
   "id": "07f06335-9992-4a8c-bb90-fbc38d293c94",
   "metadata": {},
   "outputs": [],
   "source": [
    "#| export\n",
    "@patch\n",
    "def filter_loglikelihood(self: KalmanFilter, obs):\n",
    "    \"Compute log likelihood using only filter step\"\n",
    "    # Those are the means and covs before the updating step,\n",
    "    # otherwise the model would have already seen the observation that we are predicting \n",
    "    pred_state_mean, pred_state_cov, _, _ = self._filter_all(obs)\n",
    "    obs, obs_mask = self._parse_obs(obs)\n",
    "\n",
    "    max_t = obs.shape[0]\n",
    "    lls = torch.zeros(max_t)\n",
    "    for t in range(max_t):\n",
    "        if obs_mask[t]:\n",
    "            pred_obs_mean, pred_obs_cov = self._obs_from_state(pred_state_mean[t], pred_state_cov[t], t)\n",
    "            ll = MultivariateNormal(pred_obs_mean, pred_obs_cov).log_prob(obs[t])\n",
    "            lls[t] = ll\n",
    "\n",
    "    return lls.sum()"
   ]
  },
  {
   "cell_type": "code",
   "execution_count": null,
   "id": "2a32ff25-51d4-496a-9b89-fecb437ea84d",
   "metadata": {},
   "outputs": [
    {
     "data": {
      "text/plain": [
       "tensor(-5.2316, grad_fn=<SumBackward0>)"
      ]
     },
     "execution_count": null,
     "metadata": {},
     "output_type": "execute_result"
    }
   ],
   "source": [
    "k.filter_loglikelihood(X)"
   ]
  },
  {
   "cell_type": "code",
   "execution_count": null,
   "id": "396b82cc-ffb7-4eae-96f6-056a24cc7628",
   "metadata": {},
   "outputs": [],
   "source": [
    "test_close(k.filter_loglikelihood(X), pyk.loglikelihood(nX))"
   ]
  },
  {
   "cell_type": "code",
   "execution_count": null,
   "id": "58a25819-08e7-4f50-a6c6-c4d395f79085",
   "metadata": {},
   "outputs": [
    {
     "data": {
      "text/plain": [
       "tensor(-181.6867, grad_fn=<SumBackward0>)"
      ]
     },
     "execution_count": null,
     "metadata": {},
     "output_type": "execute_result"
    }
   ],
   "source": [
    "k2.filter_loglikelihood(X2)"
   ]
  },
  {
   "cell_type": "code",
   "execution_count": null,
   "id": "9d2b80ee-ba54-46ad-b252-d2cbf4c94390",
   "metadata": {},
   "outputs": [],
   "source": [
    "test_close(k2.filter_loglikelihood(X2), pyk2.loglikelihood(nX2), eps=1e-4)"
   ]
  },
  {
   "cell_type": "markdown",
   "id": "b1f3036f-787d-4ef3-be4d-d92058696add",
   "metadata": {},
   "source": [
    "since the goal is to fill gaps we want the log likelihood for the whole gap and only for it"
   ]
  },
  {
   "cell_type": "code",
   "execution_count": null,
   "id": "d8b9303c-ef6e-4b78-82a7-30c4a2a3cabe",
   "metadata": {},
   "outputs": [],
   "source": [
    "#| export\n",
    "@patch\n",
    "def loglikelihood(self: KalmanFilter,\n",
    "                  obs_train: Tensor, # [n_timesteps, n_dim_obs] Observations use for the filter (can containt missing data)\n",
    "                  times: Tensor, # [n_pred_timesteps] time at which to calculate the log likelihood\n",
    "                  obs_test: Tensor # [n_pred_timesteps, n_dim_obs] observed data to compute log likelihood\n",
    "                 ) -> Tensor: # scalar that is sum of log likelihoods for all `times`\n",
    "    \"Log likelihood only for the `obs_test` at giben times\"\n",
    "    means, covs = self.predict(obs_train, times)\n",
    "    lls = torch.zeros(len(times))\n",
    "    for t in range(len(times)):\n",
    "        lls[t] = MultivariateNormal(means[t], covs[t]).log_prob(obs_test[t:t+1])\n",
    "    return lls.sum() \n",
    "        "
   ]
  },
  {
   "cell_type": "code",
   "execution_count": null,
   "id": "79d48123-6172-4e14-8cc4-5e669c6831f8",
   "metadata": {},
   "outputs": [
    {
     "data": {
      "text/plain": [
       "tensor(-2.4028, grad_fn=<SumBackward0>)"
      ]
     },
     "execution_count": null,
     "metadata": {},
     "output_type": "execute_result"
    }
   ],
   "source": [
    "k.loglikelihood(X, [1,2], X[[1,2]])"
   ]
  },
  {
   "cell_type": "code",
   "execution_count": null,
   "id": "9883119c-ce1f-446e-a4f0-42b3ffcdfb5c",
   "metadata": {},
   "outputs": [
    {
     "data": {
      "text/plain": [
       "tensor(-6.6009, grad_fn=<SumBackward0>)"
      ]
     },
     "execution_count": null,
     "metadata": {},
     "output_type": "execute_result"
    }
   ],
   "source": [
    "k2.loglikelihood(X2, [1,2], X2[[1,2]])"
   ]
  },
  {
   "cell_type": "code",
   "execution_count": null,
   "id": "b835c9a6-6e3a-4753-876e-630500d10794",
   "metadata": {},
   "outputs": [
    {
     "data": {
      "text/plain": [
       "tensor(-11.3033, grad_fn=<SumBackward0>)"
      ]
     },
     "execution_count": null,
     "metadata": {},
     "output_type": "execute_result"
    }
   ],
   "source": [
    "k2.loglikelihood(X2m, [1,2], X2[[1,2]])"
   ]
  },
  {
   "cell_type": "markdown",
   "id": "f8708fc6-9dfc-4ac8-a28a-68be7f873a32",
   "metadata": {},
   "source": [
    "### Get Info"
   ]
  },
  {
   "cell_type": "code",
   "execution_count": null,
   "id": "0f3e61b7-e11e-434a-af78-4396263c9ea1",
   "metadata": {},
   "outputs": [],
   "source": [
    "#| export\n",
    "@patch\n",
    "def get_info(self: KalmanFilter, var_names=None):\n",
    "    out = {}\n",
    "    if var_names is not None: self.var_names = var_names \n",
    "    latent_names = [f\"z_{i}\" for i in range(self.transition_matrices.shape[0])]\n",
    "    out['A'] = array2df(self.transition_matrices, latent_names, latent_names, 'latent')\n",
    "    out['H'] = array2df(self.obs_matrices,        var_names,    latent_names, 'variable')\n",
    "    out['R'] = array2df(self.obs_cov,             var_names,    var_names,     'variable')\n",
    "    out['Q'] = array2df(self.transition_cov,      latent_names, latent_names, 'latent')\n",
    "    return out"
   ]
  },
  {
   "cell_type": "code",
   "execution_count": null,
   "id": "44427c87-ef2c-4624-ab56-408316a71a5e",
   "metadata": {},
   "outputs": [
    {
     "data": {
      "text/html": [
       "<p style='font-size: 1.5rem; font-decoration: bold'><p><div style=\"display: flex; column-gap: 20px; flex-wrap: wrap;\" class='table table-striped table-sm'> <div> <p style='font-size: 1.3rem;'>A</p> <style type=\"text/css\">\n",
       "</style>\n",
       "<table id=\"T_178cd\">\n",
       "  <thead>\n",
       "    <tr>\n",
       "      <th id=\"T_178cd_level0_col0\" class=\"col_heading level0 col0\" >latent</th>\n",
       "      <th id=\"T_178cd_level0_col1\" class=\"col_heading level0 col1\" >z_0</th>\n",
       "    </tr>\n",
       "  </thead>\n",
       "  <tbody>\n",
       "    <tr>\n",
       "      <td id=\"T_178cd_row0_col0\" class=\"data row0 col0\" >z_0</td>\n",
       "      <td id=\"T_178cd_row0_col1\" class=\"data row0 col1\" >1.0000</td>\n",
       "    </tr>\n",
       "  </tbody>\n",
       "</table>\n",
       " </div><div> <p style='font-size: 1.3rem;'>H</p> <style type=\"text/css\">\n",
       "</style>\n",
       "<table id=\"T_00f93\">\n",
       "  <thead>\n",
       "    <tr>\n",
       "      <th id=\"T_00f93_level0_col0\" class=\"col_heading level0 col0\" >z_0</th>\n",
       "    </tr>\n",
       "  </thead>\n",
       "  <tbody>\n",
       "    <tr>\n",
       "      <td id=\"T_00f93_row0_col0\" class=\"data row0 col0\" >1.0000</td>\n",
       "    </tr>\n",
       "  </tbody>\n",
       "</table>\n",
       " </div><div> <p style='font-size: 1.3rem;'>R</p> <style type=\"text/css\">\n",
       "</style>\n",
       "<table id=\"T_21371\">\n",
       "  <thead>\n",
       "    <tr>\n",
       "      <th id=\"T_21371_level0_col0\" class=\"col_heading level0 col0\" >0</th>\n",
       "    </tr>\n",
       "  </thead>\n",
       "  <tbody>\n",
       "    <tr>\n",
       "      <td id=\"T_21371_row0_col0\" class=\"data row0 col0\" >1.0000</td>\n",
       "    </tr>\n",
       "  </tbody>\n",
       "</table>\n",
       " </div><div> <p style='font-size: 1.3rem;'>Q</p> <style type=\"text/css\">\n",
       "</style>\n",
       "<table id=\"T_b8832\">\n",
       "  <thead>\n",
       "    <tr>\n",
       "      <th id=\"T_b8832_level0_col0\" class=\"col_heading level0 col0\" >latent</th>\n",
       "      <th id=\"T_b8832_level0_col1\" class=\"col_heading level0 col1\" >z_0</th>\n",
       "    </tr>\n",
       "  </thead>\n",
       "  <tbody>\n",
       "    <tr>\n",
       "      <td id=\"T_b8832_row0_col0\" class=\"data row0 col0\" >z_0</td>\n",
       "      <td id=\"T_b8832_row0_col1\" class=\"data row0 col1\" >1.0000</td>\n",
       "    </tr>\n",
       "  </tbody>\n",
       "</table>\n",
       " </div></div>"
      ],
      "text/plain": [
       "<IPython.core.display.HTML object>"
      ]
     },
     "metadata": {},
     "output_type": "display_data"
    }
   ],
   "source": [
    "display_as_row(k.get_info())"
   ]
  },
  {
   "cell_type": "code",
   "execution_count": null,
   "id": "27d8ec68-38ff-47ce-9ead-927a2e1179e0",
   "metadata": {},
   "outputs": [
    {
     "data": {
      "text/html": [
       "<p style='font-size: 1.5rem; font-decoration: bold'><p><div style=\"display: flex; column-gap: 20px; flex-wrap: wrap;\" class='table table-striped table-sm'> <div> <p style='font-size: 1.3rem;'>A</p> <style type=\"text/css\">\n",
       "</style>\n",
       "<table id=\"T_b1368\">\n",
       "  <thead>\n",
       "    <tr>\n",
       "      <th id=\"T_b1368_level0_col0\" class=\"col_heading level0 col0\" >latent</th>\n",
       "      <th id=\"T_b1368_level0_col1\" class=\"col_heading level0 col1\" >z_0</th>\n",
       "      <th id=\"T_b1368_level0_col2\" class=\"col_heading level0 col2\" >z_1</th>\n",
       "    </tr>\n",
       "  </thead>\n",
       "  <tbody>\n",
       "    <tr>\n",
       "      <td id=\"T_b1368_row0_col0\" class=\"data row0 col0\" >z_0</td>\n",
       "      <td id=\"T_b1368_row0_col1\" class=\"data row0 col1\" >1.0000</td>\n",
       "      <td id=\"T_b1368_row0_col2\" class=\"data row0 col2\" >0.0000</td>\n",
       "    </tr>\n",
       "    <tr>\n",
       "      <td id=\"T_b1368_row1_col0\" class=\"data row1 col0\" >z_1</td>\n",
       "      <td id=\"T_b1368_row1_col1\" class=\"data row1 col1\" >0.0000</td>\n",
       "      <td id=\"T_b1368_row1_col2\" class=\"data row1 col2\" >1.0000</td>\n",
       "    </tr>\n",
       "  </tbody>\n",
       "</table>\n",
       " </div><div> <p style='font-size: 1.3rem;'>H</p> <style type=\"text/css\">\n",
       "</style>\n",
       "<table id=\"T_4d591\">\n",
       "  <thead>\n",
       "    <tr>\n",
       "      <th id=\"T_4d591_level0_col0\" class=\"col_heading level0 col0\" >z_0</th>\n",
       "      <th id=\"T_4d591_level0_col1\" class=\"col_heading level0 col1\" >z_1</th>\n",
       "    </tr>\n",
       "  </thead>\n",
       "  <tbody>\n",
       "    <tr>\n",
       "      <td id=\"T_4d591_row0_col0\" class=\"data row0 col0\" >1.0000</td>\n",
       "      <td id=\"T_4d591_row0_col1\" class=\"data row0 col1\" >0.0000</td>\n",
       "    </tr>\n",
       "    <tr>\n",
       "      <td id=\"T_4d591_row1_col0\" class=\"data row1 col0\" >0.0000</td>\n",
       "      <td id=\"T_4d591_row1_col1\" class=\"data row1 col1\" >1.0000</td>\n",
       "    </tr>\n",
       "  </tbody>\n",
       "</table>\n",
       " </div><div> <p style='font-size: 1.3rem;'>R</p> <style type=\"text/css\">\n",
       "</style>\n",
       "<table id=\"T_73d3b\">\n",
       "  <thead>\n",
       "    <tr>\n",
       "      <th id=\"T_73d3b_level0_col0\" class=\"col_heading level0 col0\" >0</th>\n",
       "      <th id=\"T_73d3b_level0_col1\" class=\"col_heading level0 col1\" >1</th>\n",
       "    </tr>\n",
       "  </thead>\n",
       "  <tbody>\n",
       "    <tr>\n",
       "      <td id=\"T_73d3b_row0_col0\" class=\"data row0 col0\" >1.0000</td>\n",
       "      <td id=\"T_73d3b_row0_col1\" class=\"data row0 col1\" >0.0000</td>\n",
       "    </tr>\n",
       "    <tr>\n",
       "      <td id=\"T_73d3b_row1_col0\" class=\"data row1 col0\" >0.0000</td>\n",
       "      <td id=\"T_73d3b_row1_col1\" class=\"data row1 col1\" >1.0000</td>\n",
       "    </tr>\n",
       "  </tbody>\n",
       "</table>\n",
       " </div><div> <p style='font-size: 1.3rem;'>Q</p> <style type=\"text/css\">\n",
       "</style>\n",
       "<table id=\"T_5871f\">\n",
       "  <thead>\n",
       "    <tr>\n",
       "      <th id=\"T_5871f_level0_col0\" class=\"col_heading level0 col0\" >latent</th>\n",
       "      <th id=\"T_5871f_level0_col1\" class=\"col_heading level0 col1\" >z_0</th>\n",
       "      <th id=\"T_5871f_level0_col2\" class=\"col_heading level0 col2\" >z_1</th>\n",
       "    </tr>\n",
       "  </thead>\n",
       "  <tbody>\n",
       "    <tr>\n",
       "      <td id=\"T_5871f_row0_col0\" class=\"data row0 col0\" >z_0</td>\n",
       "      <td id=\"T_5871f_row0_col1\" class=\"data row0 col1\" >1.0000</td>\n",
       "      <td id=\"T_5871f_row0_col2\" class=\"data row0 col2\" >0.0000</td>\n",
       "    </tr>\n",
       "    <tr>\n",
       "      <td id=\"T_5871f_row1_col0\" class=\"data row1 col0\" >z_1</td>\n",
       "      <td id=\"T_5871f_row1_col1\" class=\"data row1 col1\" >0.0000</td>\n",
       "      <td id=\"T_5871f_row1_col2\" class=\"data row1 col2\" >1.0000</td>\n",
       "    </tr>\n",
       "  </tbody>\n",
       "</table>\n",
       " </div></div>"
      ],
      "text/plain": [
       "<IPython.core.display.HTML object>"
      ]
     },
     "metadata": {},
     "output_type": "display_data"
    }
   ],
   "source": [
    "display_as_row(k2.get_info())"
   ]
  },
  {
   "cell_type": "markdown",
   "id": "86e751b6-5a43-4db6-8117-b14f542e8d31",
   "metadata": {},
   "source": [
    "## Train Parameters"
   ]
  },
  {
   "cell_type": "markdown",
   "id": "4d6504ca-96b5-4c33-89b4-07e2709f0b2d",
   "metadata": {},
   "source": [
    "This implementation of `KalmanFilter` allows to find the optimal parameters by maximising the log-likelihood using gradient descend"
   ]
  },
  {
   "cell_type": "code",
   "execution_count": null,
   "id": "880f4455-b74f-433e-82a0-7faf2feb90c7",
   "metadata": {},
   "outputs": [],
   "source": [
    "training_iter = 200\n",
    "k = KalmanFilter()\n",
    "k.train()\n",
    "\n",
    "optimizer = torch.optim.Adam(k.parameters(), lr=0.005) \n",
    "\n",
    "losses = []\n",
    "for i in range(training_iter):\n",
    "    # Zero gradients from previous iteration\n",
    "    optimizer.zero_grad()\n",
    "    # Output from model\n",
    "    loss = - k.loglikelihood(X, range(len(X)), X)\n",
    "    losses.append(loss.item())\n",
    "    # backpropagate gradients\n",
    "    loss.backward()\n",
    "    optimizer.step()"
   ]
  },
  {
   "cell_type": "code",
   "execution_count": null,
   "id": "3000d77e-5bc2-411f-aaee-45561541e459",
   "metadata": {},
   "outputs": [],
   "source": [
    "import matplotlib.pyplot as plt"
   ]
  },
  {
   "cell_type": "code",
   "execution_count": null,
   "id": "a58bed23-d408-4fdf-a8dd-684782c9f30b",
   "metadata": {},
   "outputs": [
    {
     "data": {
      "text/plain": [
       "[<matplotlib.lines.Line2D>]"
      ]
     },
     "execution_count": null,
     "metadata": {},
     "output_type": "execute_result"
    },
    {
     "data": {
      "image/png": "[encoded data removed]",
      "text/plain": [
       "<Figure size 432x288 with 1 Axes>"
      ]
     },
     "metadata": {
      "needs_background": "light"
     },
     "output_type": "display_data"
    }
   ],
   "source": [
    "plt.plot(losses)"
   ]
  },
  {
   "cell_type": "code",
   "execution_count": null,
   "id": "5f14ff35-cdd1-4b65-bdc8-4b863a3829ac",
   "metadata": {},
   "outputs": [
    {
     "data": {
      "text/plain": [
       "[Parameter containing:\n",
       " tensor([[1.3400]], requires_grad=True),\n",
       " Parameter containing:\n",
       " tensor([0.4287], requires_grad=True),\n",
       " Parameter containing:\n",
       " tensor([[0.1471]], requires_grad=True),\n",
       " Parameter containing:\n",
       " tensor([[0.1456]], requires_grad=True),\n",
       " Parameter containing:\n",
       " tensor([-0.4134], requires_grad=True),\n",
       " Parameter containing:\n",
       " tensor([[0.0269]], requires_grad=True),\n",
       " Parameter containing:\n",
       " tensor([0.4979], requires_grad=True),\n",
       " Parameter containing:\n",
       " tensor([[0.1378]], requires_grad=True)]"
      ]
     },
     "execution_count": null,
     "metadata": {},
     "output_type": "execute_result"
    }
   ],
   "source": [
    "list(k.parameters())"
   ]
  },
  {
   "cell_type": "markdown",
   "id": "f9c4a0b2-8726-4365-8938-5fcd07870433",
   "metadata": {},
   "source": [
    "## Other"
   ]
  },
  {
   "cell_type": "markdown",
   "id": "2b66596a-16d3-40c2-8f26-82e4774972b4",
   "metadata": {},
   "source": [
    "### Testing"
   ]
  },
  {
   "cell_type": "markdown",
   "id": "669ab60a-dc18-4d29-b217-6fb2bb3434f5",
   "metadata": {},
   "source": [
    "#### Negative covariances"
   ]
  },
  {
   "cell_type": "code",
   "execution_count": null,
   "id": "7cc26507-3693-462e-b971-e6e2a9b6c401",
   "metadata": {},
   "outputs": [],
   "source": [
    "k_ncov = torch.load(\"broken_predictions.pickle\")"
   ]
  },
  {
   "cell_type": "code",
   "execution_count": null,
   "id": "10437975-7b77-4185-9a03-8256a4426799",
   "metadata": {},
   "outputs": [
    {
     "data": {
      "text/plain": [
       "Kalman Filter\n",
       "        N dim obs: 3, N dim state: 3"
      ]
     },
     "execution_count": null,
     "metadata": {},
     "output_type": "execute_result"
    }
   ],
   "source": [
    "k_ncov"
   ]
  },
  {
   "cell_type": "code",
   "execution_count": null,
   "id": "47e868ca-816f-40d2-ba0f-c0c0525ec197",
   "metadata": {},
   "outputs": [],
   "source": [
    "X_ncov = torch.tensor([[-1.0436,  0.3381, -0.9480],\n",
    "         [-1.0196,  0.0654, -1.0244],\n",
    "         [ 0.1634, -4.0259,  0.0098],\n",
    "         [ 2.1246, -7.0855,  2.5321],\n",
    "         [-0.9851,  0.1255, -0.9227],\n",
    "         [-0.9705,  0.0442, -0.9466],\n",
    "         [-0.9575, -0.1892, -0.9410],\n",
    "         [-1.0009, -0.3096, -0.9664],\n",
    "         [-1.0515, -0.3703, -1.0022],\n",
    "         [-1.0888, -0.4806, -1.1086]])"
   ]
  },
  {
   "cell_type": "code",
   "execution_count": null,
   "id": "a12329bb-836c-41c3-aaab-56a84145f922",
   "metadata": {},
   "outputs": [
    {
     "ename": "NameError",
     "evalue": "name 'check_posdef' is not defined",
     "output_type": "error",
     "traceback": [
      "\u001b[0;31m---------------------------------------------------------------------------\u001b[0m",
      "\u001b[0;31mNameError\u001b[0m                                 Traceback (most recent call last)",
      "Input \u001b[0;32mIn [91]\u001b[0m, in \u001b[0;36m<cell line: 1>\u001b[0;34m()\u001b[0m\n\u001b[0;32m----> 1\u001b[0m \u001b[43mk_ncov\u001b[49m\u001b[38;5;241;43m.\u001b[39;49m\u001b[43msmooth\u001b[49m\u001b[43m(\u001b[49m\u001b[43mX_ncov\u001b[49m\u001b[43m)\u001b[49m\n",
      "File \u001b[0;32m~/Documents/uni/Thesis/GPFA_imputation/meteo_imp/kalman/filter.py:548\u001b[0m, in \u001b[0;36msmooth\u001b[0;34m(self, X, mask)\u001b[0m\n\u001b[1;32m    536\u001b[0m \u001b[38;5;129m@patch\u001b[39m\n\u001b[1;32m    537\u001b[0m \u001b[38;5;28;01mdef\u001b[39;00m \u001b[38;5;21msmooth\u001b[39m(\u001b[38;5;28mself\u001b[39m: KalmanFilter,\n\u001b[1;32m    538\u001b[0m            X: Tensor, \u001b[38;5;66;03m# dataset\u001b[39;00m\n\u001b[0;32m   (...)\u001b[0m\n\u001b[1;32m    543\u001b[0m                 \u001b[38;5;66;03m# `smoothed_state_covs` : `[n_timesteps, n_dim_state]`\u001b[39;00m\n\u001b[1;32m    544\u001b[0m                     \u001b[38;5;66;03m# covs of hidden state distributions for times `[0...n_timesteps-1]`\u001b[39;00m\n\u001b[1;32m    546\u001b[0m     \u001b[38;5;124;03m\"\"\"Smoothing for prediction (no gradients)\"\"\"\u001b[39;00m\n\u001b[0;32m--> 548\u001b[0m     (pred_state_means, pred_state_covs, filt_state_means, filt_state_covs) \u001b[38;5;241m=\u001b[39m (\u001b[38;5;28;43mself\u001b[39;49m\u001b[38;5;241;43m.\u001b[39;49m\u001b[43m_filter_all\u001b[49m\u001b[43m(\u001b[49m\u001b[43mX\u001b[49m\u001b[43m,\u001b[49m\u001b[43m \u001b[49m\u001b[43mmask\u001b[49m\u001b[43m)\u001b[49m)\n\u001b[1;32m    550\u001b[0m     \u001b[38;5;28;01mreturn\u001b[39;00m _smooth(\n\u001b[1;32m    551\u001b[0m             \u001b[38;5;28mself\u001b[39m\u001b[38;5;241m.\u001b[39mtransition_matrices,\n\u001b[1;32m    552\u001b[0m             ListNormal(filt_state_means, filt_state_covs),\n\u001b[1;32m    553\u001b[0m             ListNormal(pred_state_means, pred_state_covs)\n\u001b[1;32m    554\u001b[0m         )\n",
      "File \u001b[0;32m~/Documents/uni/Thesis/GPFA_imputation/meteo_imp/kalman/filter.py:472\u001b[0m, in \u001b[0;36m_filter_all\u001b[0;34m(self, obs, mask)\u001b[0m\n\u001b[1;32m    468\u001b[0m \u001b[38;5;129m@patch\u001b[39m\n\u001b[1;32m    469\u001b[0m \u001b[38;5;28;01mdef\u001b[39;00m \u001b[38;5;21m_filter_all\u001b[39m(\u001b[38;5;28mself\u001b[39m: KalmanFilter, obs, mask\u001b[38;5;241m=\u001b[39m\u001b[38;5;28;01mNone\u001b[39;00m) \u001b[38;5;241m-\u001b[39m\u001b[38;5;241m>\u001b[39m Tuple:\n\u001b[1;32m    470\u001b[0m     obs, obs_mask \u001b[38;5;241m=\u001b[39m \u001b[38;5;28mself\u001b[39m\u001b[38;5;241m.\u001b[39m_parse_obs(obs, mask)\n\u001b[0;32m--> 472\u001b[0m     \u001b[38;5;28;01mreturn\u001b[39;00m \u001b[43m_filter\u001b[49m\u001b[43m(\u001b[49m\n\u001b[1;32m    473\u001b[0m \u001b[43m            \u001b[49m\u001b[38;5;28;43mself\u001b[39;49m\u001b[38;5;241;43m.\u001b[39;49m\u001b[43mtransition_matrices\u001b[49m\u001b[43m,\u001b[49m\n\u001b[1;32m    474\u001b[0m \u001b[43m            \u001b[49m\u001b[38;5;28;43mself\u001b[39;49m\u001b[38;5;241;43m.\u001b[39;49m\u001b[43mobs_matrices\u001b[49m\u001b[43m,\u001b[49m\n\u001b[1;32m    475\u001b[0m \u001b[43m            \u001b[49m\u001b[38;5;28;43mself\u001b[39;49m\u001b[38;5;241;43m.\u001b[39;49m\u001b[43mtransition_cov\u001b[49m\u001b[43m,\u001b[49m\n\u001b[1;32m    476\u001b[0m \u001b[43m            \u001b[49m\u001b[38;5;28;43mself\u001b[39;49m\u001b[38;5;241;43m.\u001b[39;49m\u001b[43mobs_cov\u001b[49m\u001b[43m,\u001b[49m\n\u001b[1;32m    477\u001b[0m \u001b[43m            \u001b[49m\u001b[38;5;28;43mself\u001b[39;49m\u001b[38;5;241;43m.\u001b[39;49m\u001b[43mtransition_offsets\u001b[49m\u001b[43m,\u001b[49m\n\u001b[1;32m    478\u001b[0m \u001b[43m            \u001b[49m\u001b[38;5;28;43mself\u001b[39;49m\u001b[38;5;241;43m.\u001b[39;49m\u001b[43mobs_offsets\u001b[49m\u001b[43m,\u001b[49m\n\u001b[1;32m    479\u001b[0m \u001b[43m            \u001b[49m\u001b[38;5;28;43mself\u001b[39;49m\u001b[38;5;241;43m.\u001b[39;49m\u001b[43minitial_state_mean\u001b[49m\u001b[43m,\u001b[49m\n\u001b[1;32m    480\u001b[0m \u001b[43m            \u001b[49m\u001b[38;5;28;43mself\u001b[39;49m\u001b[38;5;241;43m.\u001b[39;49m\u001b[43minitial_state_cov\u001b[49m\u001b[43m,\u001b[49m\n\u001b[1;32m    481\u001b[0m \u001b[43m            \u001b[49m\u001b[43mobs\u001b[49m\u001b[43m,\u001b[49m\n\u001b[1;32m    482\u001b[0m \u001b[43m            \u001b[49m\u001b[43mobs_mask\u001b[49m\n\u001b[1;32m    483\u001b[0m \u001b[43m        \u001b[49m\u001b[43m)\u001b[49m\n",
      "File \u001b[0;32m~/Documents/uni/Thesis/GPFA_imputation/meteo_imp/kalman/filter.py:444\u001b[0m, in \u001b[0;36m_filter\u001b[0;34m(transition_matrices, obs_matrices, transition_cov, obs_cov, transition_offsets, obs_offsets, initial_state_mean, initial_state_cov, obs, obs_mask)\u001b[0m\n\u001b[1;32m    440\u001b[0m     obs_cov \u001b[38;5;241m=\u001b[39m _last_dims(obs_cov, t)\n\u001b[1;32m    441\u001b[0m     obs_offset \u001b[38;5;241m=\u001b[39m _last_dims(obs_offsets, t, ndims\u001b[38;5;241m=\u001b[39m\u001b[38;5;241m1\u001b[39m)\n\u001b[1;32m    442\u001b[0m     (kalman_gains[t], filt_state_means[t],\n\u001b[1;32m    443\u001b[0m      filt_state_covs[t]) \u001b[38;5;241m=\u001b[39m (\n\u001b[0;32m--> 444\u001b[0m         \u001b[43m_filter_correct\u001b[49m\u001b[43m(\u001b[49m\u001b[43mobs_matrix\u001b[49m\u001b[43m,\u001b[49m\n\u001b[1;32m    445\u001b[0m \u001b[43m            \u001b[49m\u001b[43mobs_cov\u001b[49m\u001b[43m,\u001b[49m\n\u001b[1;32m    446\u001b[0m \u001b[43m            \u001b[49m\u001b[43mobs_offset\u001b[49m\u001b[43m,\u001b[49m\n\u001b[1;32m    447\u001b[0m \u001b[43m            \u001b[49m\u001b[43mpred_state_means\u001b[49m\u001b[43m[\u001b[49m\u001b[43mt\u001b[49m\u001b[43m]\u001b[49m\u001b[43m,\u001b[49m\n\u001b[1;32m    448\u001b[0m \u001b[43m            \u001b[49m\u001b[43mpred_state_covs\u001b[49m\u001b[43m[\u001b[49m\u001b[43mt\u001b[49m\u001b[43m]\u001b[49m\u001b[43m,\u001b[49m\n\u001b[1;32m    449\u001b[0m \u001b[43m            \u001b[49m\u001b[43mobs\u001b[49m\u001b[43m[\u001b[49m\u001b[43mt\u001b[49m\u001b[43m]\u001b[49m\u001b[43m,\u001b[49m\n\u001b[1;32m    450\u001b[0m \u001b[43m            \u001b[49m\u001b[43mobs_mask\u001b[49m\u001b[43m[\u001b[49m\u001b[43mt\u001b[49m\u001b[43m]\u001b[49m\n\u001b[1;32m    451\u001b[0m \u001b[43m        \u001b[49m\u001b[43m)\u001b[49m\n\u001b[1;32m    452\u001b[0m     )\n\u001b[1;32m    454\u001b[0m \u001b[38;5;28;01mreturn\u001b[39;00m (pred_state_means, pred_state_covs, filt_state_means,\n\u001b[1;32m    455\u001b[0m         filt_state_covs)\n",
      "File \u001b[0;32m~/Documents/uni/Thesis/GPFA_imputation/meteo_imp/kalman/filter.py:347\u001b[0m, in \u001b[0;36m_filter_correct\u001b[0;34m(obs_matrix, obs_cov, obs_offset, pred_state_mean, pred_state_cov, obs, mask)\u001b[0m\n\u001b[1;32m    344\u001b[0m     corrected_state_mean \u001b[38;5;241m=\u001b[39m pred_state_mean\n\u001b[1;32m    345\u001b[0m     corrected_state_cov \u001b[38;5;241m=\u001b[39m pred_state_cov\n\u001b[0;32m--> 347\u001b[0m \u001b[43mcheck_posdef\u001b[49m(corrected_state_cov)\n\u001b[1;32m    349\u001b[0m \u001b[38;5;28;01mreturn\u001b[39;00m (kalman_gain, corrected_state_mean,\n\u001b[1;32m    350\u001b[0m         corrected_state_cov)\n",
      "\u001b[0;31mNameError\u001b[0m: name 'check_posdef' is not defined"
     ]
    }
   ],
   "source": [
    "k_ncov.smooth(X_ncov)"
   ]
  },
  {
   "cell_type": "markdown",
   "id": "160f49e8-1235-4271-9e49-aaec65842174",
   "metadata": {},
   "source": [
    "make a `pykalman` model using the same parameters"
   ]
  },
  {
   "cell_type": "code",
   "execution_count": null,
   "id": "fe57e59b-ace3-4b1f-b60f-61e56717e0ca",
   "metadata": {},
   "outputs": [],
   "source": [
    "pyk_ncov = pykalman.standard.KalmanFilter(\n",
    "\n",
    "    transition_matrices=k_ncov.transition_matrices.detach().numpy(),\n",
    "    transition_covariance=k_ncov.transition_cov.detach().numpy(),\n",
    "    observation_matrices=k_ncov.obs_matrices.detach().numpy(),\n",
    "    observation_covariance=k_ncov.obs_cov.detach().numpy(),\n",
    "    initial_state_mean=k_ncov.initial_state_mean.detach().numpy(),\n",
    "    initial_state_covariance=k_ncov.initial_state_cov.detach().numpy()\n",
    "    \n",
    "    \n",
    ")"
   ]
  },
  {
   "cell_type": "code",
   "execution_count": null,
   "id": "7a403899-d062-4b1a-8f4d-fb8cff1dad6f",
   "metadata": {},
   "outputs": [],
   "source": [
    "pyk_ncov.smooth(X_ncov.numpy())"
   ]
  },
  {
   "cell_type": "code",
   "execution_count": null,
   "id": "4d4db4bb-334a-4f7e-a89f-46168805a014",
   "metadata": {},
   "outputs": [],
   "source": [
    "display_as_row(k_ncov.get_info())"
   ]
  },
  {
   "cell_type": "code",
   "execution_count": null,
   "id": "7b000423-ef20-42ba-8c72-f2af41b4ebc9",
   "metadata": {},
   "outputs": [],
   "source": [
    "k_ncov.smooth(X_ncov)"
   ]
  },
  {
   "cell_type": "markdown",
   "id": "bbc06f87-be0a-4f4e-9027-ecea248dccad",
   "metadata": {},
   "source": [
    "### Compare Statsmodels"
   ]
  },
  {
   "cell_type": "code",
   "execution_count": null,
   "id": "1f4fdf23-2d75-4022-90e8-838ce44fb26c",
   "metadata": {},
   "outputs": [],
   "source": [
    "import statsmodels.api as sm\n",
    "import statsmodels"
   ]
  },
  {
   "cell_type": "code",
   "execution_count": null,
   "id": "9f3dd92e-27d0-4791-b790-bac0912014fc",
   "metadata": {},
   "outputs": [],
   "source": [
    "sm_kf = statsmodels.tsa.statespace.kalman_filter.KalmanFilter(\n",
    "    k_endog = 3,\n",
    "    k_states = 3,\n",
    "    initialization = 'known',\n",
    "    initial_state = pyk_ncov.initial_state_mean,\n",
    "    initial_state_cov = pyk_ncov.initial_state_covariance,\n",
    "    design = pyk_ncov.observation_matrices,\n",
    "    obs_cov = pyk_ncov.observation_covariance,\n",
    "    transition = pyk_ncov.transition_matrices,\n",
    "    state_cov = pyk_ncov.transition_covariance)"
   ]
  },
  {
   "cell_type": "code",
   "execution_count": null,
   "id": "f7db6e78-69cc-44b9-986e-174327d17269",
   "metadata": {},
   "outputs": [],
   "source": [
    "sm_kf.bind(X_ncov.detach().numpy())"
   ]
  },
  {
   "cell_type": "code",
   "execution_count": null,
   "id": "c08ee714-ee6a-4318-bd06-d09274bdd8ca",
   "metadata": {},
   "outputs": [],
   "source": [
    "sm_pred = sm_kf.filter() "
   ]
  },
  {
   "cell_type": "code",
   "execution_count": null,
   "id": "6da891b2-4e13-497b-9a30-8d690d1a6a37",
   "metadata": {},
   "outputs": [],
   "source": [
    "sm_pred.predicted_state.shape"
   ]
  },
  {
   "cell_type": "code",
   "execution_count": null,
   "id": "0d469b65-b397-4d67-8779-0900ce87e33e",
   "metadata": {},
   "outputs": [],
   "source": [
    "sm_pred.predicted_state_cov.shape"
   ]
  },
  {
   "cell_type": "code",
   "execution_count": null,
   "id": "1f56ded2-e5bb-454a-9aae-82a710e48131",
   "metadata": {},
   "outputs": [],
   "source": [
    "mean = MultivariateNormal(torch.tensor(sm_pred.predicted_state[:, 0]), torch.tensor(sm_pred.predicted_state_cov[:, :, 0]))"
   ]
  },
  {
   "cell_type": "code",
   "execution_count": null,
   "id": "de6c187d-fc28-43df-9623-efe15d549282",
   "metadata": {},
   "outputs": [],
   "source": [
    "sm_kf.loglikeobs()"
   ]
  },
  {
   "cell_type": "markdown",
   "id": "0fdd2ea0-ff4e-4d2f-add0-81120b131cf3",
   "metadata": {},
   "source": [
    "## Export"
   ]
  },
  {
   "cell_type": "code",
   "execution_count": null,
   "id": "12c41b65-9eb8-4d70-b4fc-05113783e636",
   "metadata": {},
   "outputs": [],
   "source": [
    "#| hide\n",
    "from nbdev import nbdev_export\n",
    "nbdev_export()"
   ]
  }
 ],
 "metadata": {
  "kernelspec": {
   "display_name": "data_science",
   "language": "python",
   "name": "data_science"
  },
  "widgets": {
   "application/vnd.jupyter.widget-state+json": {
    "state": {},
    "version_major": 2,
    "version_minor": 0
   }
  }
 },
 "nbformat": 4,
 "nbformat_minor": 5
}
