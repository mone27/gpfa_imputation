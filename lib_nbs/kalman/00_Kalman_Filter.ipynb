{
 "cells": [
  {
   "cell_type": "markdown",
   "id": "22e19739-7ce6-4689-8f05-5391807270f2",
   "metadata": {},
   "source": [
    "# Kalman Filter\n",
    "> Implementation of Kalman filters using pytorch and parameter optimizations with gradient descend"
   ]
  },
  {
   "cell_type": "code",
   "execution_count": null,
   "id": "33b5e640-1b40-4822-8912-f6aef392b22f",
   "metadata": {},
   "outputs": [],
   "source": [
    "%load_ext autoreload\n",
    "%autoreload 2"
   ]
  },
  {
   "cell_type": "code",
   "execution_count": null,
   "id": "378ab6cd-754e-4199-a102-c7a3109c6c78",
   "metadata": {},
   "outputs": [],
   "source": [
    "#| hide\n",
    "#| default_exp kalman.filter"
   ]
  },
  {
   "cell_type": "code",
   "execution_count": null,
   "id": "c89a8e7f-95e3-4c02-9716-948d5e0dcfca",
   "metadata": {},
   "outputs": [],
   "source": [
    "#| export\n",
    "from fastcore.test import *\n",
    "from fastcore.basics import patch\n",
    "from meteo_imp.utils import *\n",
    "from meteo_imp.data_preparation import MeteoDataTest\n",
    "import pykalman\n",
    "from typing import *\n",
    "\n",
    "import numpy as np\n",
    "import pandas as pd\n",
    "import torch\n",
    "from torch import Tensor\n",
    "from torch.distributions import MultivariateNormal"
   ]
  },
  {
   "cell_type": "markdown",
   "id": "ce900cd1-288d-4215-b317-d815f2850215",
   "metadata": {},
   "source": [
    "## Introduction"
   ]
  },
  {
   "cell_type": "markdown",
   "id": "410c35dd-074e-4630-8b4d-90b8a46eb393",
   "metadata": {},
   "source": [
    "## Utils"
   ]
  },
  {
   "cell_type": "code",
   "execution_count": null,
   "id": "19255a07-7210-4810-bcdf-31ad553a62ba",
   "metadata": {},
   "outputs": [],
   "source": [
    "#| exporti\n",
    "def array1d(X):\n",
    "    \"\"\"Returns at least 1-d array with data from X\"\"\"\n",
    "    return torch.atleast_1d(torch.as_tensor(X))\n",
    "\n",
    "def array2d(X):\n",
    "    \"\"\"Returns at least 2-d array with data from X\"\"\"\n",
    "    return torch.atleast_2d(torch.as_tensor(X))\n"
   ]
  },
  {
   "cell_type": "code",
   "execution_count": null,
   "id": "17e6c534-da61-4c08-a10f-39ffa31e5029",
   "metadata": {},
   "outputs": [],
   "source": [
    "#| export\n",
    "def _determine_dimensionality(variables, default):\n",
    "    \"\"\"Derive the dimensionality of the state space\n",
    "\n",
    "    Parameters\n",
    "    ----------\n",
    "    variables : list of ({None, array}, conversion function, index)\n",
    "        variables, functions to convert them to arrays, and indices in those\n",
    "        arrays to derive dimensionality from.\n",
    "        \n",
    "    Returns\n",
    "    -------\n",
    "    dim : int\n",
    "        dimensionality of state space as derived from variables or default.\n",
    "    \"\"\"\n",
    "    # gather possible values based on the variables\n",
    "    candidates = []\n",
    "    for (v, converter, idx) in variables:\n",
    "        if v is not None:\n",
    "            v = converter(v)\n",
    "            candidates.append(v.shape[idx])\n",
    "    \n",
    "     # also use the manually specified default\n",
    "    if default is not None:\n",
    "        candidates.append(default)\n",
    "    \n",
    "    # ensure consistency of all derived values\n",
    "    if len(candidates) == 0:\n",
    "        return 1\n",
    "    else:\n",
    "        if not torch.all(torch.tensor(candidates) == candidates[0]):\n",
    "            raise ValueError(\n",
    "                \"The shape of all \" +\n",
    "                \"parameters is not consistent.  \" +\n",
    "                \"Please re-check their values.\"\n",
    "            )\n",
    "        return candidates[0]\n",
    "\n",
    "\n",
    "def _last_dims(X: Tensor, t: int, ndims: int=2):\n",
    "    \"\"\"Extract the final dimensions of `X`\n",
    "\n",
    "    Extract the final `ndim` dimensions at index `t` if `X` has >= `ndim` + 1\n",
    "    dimensions, otherwise return `X`.\n",
    "\n",
    "    Parameters\n",
    "    ----------\n",
    "    X : Tensor with at least dimension `ndims`\n",
    "    t : int\n",
    "        index to use for the `ndims` + 1th dimension\n",
    "    ndims : int, optional\n",
    "        number of dimensions in the array desired\n",
    "\n",
    "    Returns\n",
    "    -------\n",
    "    Y : array with dimension `ndims`\n",
    "        the final `ndims` dimensions indexed by `t`\n",
    "    \"\"\"\n",
    "    if len(X.shape) == ndims + 1:\n",
    "        return X[t]\n",
    "    elif len(X.shape) == ndims:\n",
    "        return X\n",
    "    else:\n",
    "        raise ValueError((\"X only has %d dimensions when %d\" +\n",
    "                \" or more are required\") % (len(X.shape), ndims))"
   ]
  },
  {
   "cell_type": "code",
   "execution_count": null,
   "id": "9da44a3d-2817-4b7e-939c-ac54d675e830",
   "metadata": {},
   "outputs": [],
   "source": [
    "#| export\n",
    "def _stack_detach(l: Collection[Tensor]):\n",
    "    return torch.stack(list(map(lambda x: x.detach(), l)))"
   ]
  },
  {
   "cell_type": "markdown",
   "id": "55ab3362-0875-4329-9cf0-39b3efb97cdb",
   "metadata": {},
   "source": [
    "### Positive Definite Constraint"
   ]
  },
  {
   "cell_type": "markdown",
   "id": "5a465f39-300b-4a9d-93e9-d29ce76e8f79",
   "metadata": {},
   "source": [
    "transform any matrix $A$ into a positive definite matrix ($PD$) using the following formula\n",
    "\n",
    "$PD = A A^T + aI$\n",
    "\n",
    "where $AA^T$ ensures that A is positive semi-definite and adding a small positive number of the diagonal $aI$ ensures that is definite \n",
    "\n",
    "for details see https://stackoverflow.com/a/58192215/8555045\n",
    "\n",
    "add also inverse transformation using cholesky decomposition\n",
    "\n",
    "\n",
    "API inspired by gpytorch constraints"
   ]
  },
  {
   "cell_type": "code",
   "execution_count": null,
   "id": "7c1ed1d9-6a2d-401d-be0f-25d59f36b1a5",
   "metadata": {},
   "outputs": [],
   "source": [
    "#| export\n",
    "def is_pos_semidef(cov):\n",
    "    return torch.distributions.constraints.positive_semidefinite.check(cov).item()"
   ]
  },
  {
   "cell_type": "code",
   "execution_count": null,
   "id": "d69d6284-dfac-4768-823d-88b8f29cd558",
   "metadata": {},
   "outputs": [],
   "source": [
    "#| export\n",
    "def check_is_pos_semidef(cov):\n",
    "    if not is_pos_semidef(cov):\n",
    "        raise ValueError(f\"Not positive semi definite {cov}\")"
   ]
  },
  {
   "cell_type": "code",
   "execution_count": null,
   "id": "9c6db671-ba1a-4f13-8bd4-8674ad4c2c6a",
   "metadata": {},
   "outputs": [],
   "source": [
    "#| export\n",
    "class PosDef():\n",
    "    \"\"\" Positive Definite Constraint for PyTorch parameters\"\"\"\n",
    "    def __init__(self, a=1e-7):\n",
    "        self.a = a\n",
    "    def transform(self,\n",
    "                  raw # square matrix that will be \n",
    "                 ):\n",
    "        \"transform any square matrix into a positive definite one\"\n",
    "        semi_pos = raw @ raw.T\n",
    "        check_is_pos_semidef(semi_pos)\n",
    "        return semi_pos + (self.a * torch.eye(raw.shape[0]))\n",
    "    \n",
    "    def inverse_transform(self,\n",
    "                          value # a positive definite matrix\n",
    "                         ):\n",
    "        \"tranform positive definite matrix into a raw matrix\"\n",
    "        return torch.linalg.cholesky(value)"
   ]
  },
  {
   "cell_type": "code",
   "execution_count": null,
   "id": "b3658175-e687-448c-85d1-2b62d0998177",
   "metadata": {},
   "outputs": [],
   "source": [
    "A = torch.rand(3,3)\n",
    "constraint = PosDef()\n",
    "\n",
    "posdef = constraint.transform(A)"
   ]
  },
  {
   "cell_type": "code",
   "execution_count": null,
   "id": "8c9964a0-41ec-4016-ad0f-7513589a8541",
   "metadata": {},
   "outputs": [
    {
     "data": {
      "text/plain": [
       "tensor([[0.3884, 0.2272, 0.7049],\n",
       "        [0.2272, 0.1662, 0.3676],\n",
       "        [0.7049, 0.3676, 1.4413]])"
      ]
     },
     "execution_count": null,
     "metadata": {},
     "output_type": "execute_result"
    }
   ],
   "source": [
    "posdef"
   ]
  },
  {
   "cell_type": "code",
   "execution_count": null,
   "id": "d2a5357c-2616-4f96-8ac3-b236a51e7383",
   "metadata": {},
   "outputs": [],
   "source": [
    "test_eq(torch.distributions.constraints.positive_definite.check(posdef), True)"
   ]
  },
  {
   "cell_type": "code",
   "execution_count": null,
   "id": "c865d14d-c8fe-4ba0-a600-4373b0635a58",
   "metadata": {},
   "outputs": [
    {
     "data": {
      "text/plain": [
       "tensor([[ 0.6232,  0.0000,  0.0000],\n",
       "        [ 0.3646,  0.1825,  0.0000],\n",
       "        [ 1.1310, -0.2454,  0.3193]])"
      ]
     },
     "execution_count": null,
     "metadata": {},
     "output_type": "execute_result"
    }
   ],
   "source": [
    "constraint.inverse_transform(posdef)"
   ]
  },
  {
   "cell_type": "code",
   "execution_count": null,
   "id": "5c32919e-6d79-4a16-99ae-1d3cd2726c95",
   "metadata": {},
   "outputs": [],
   "source": [
    "test_close(posdef, constraint.transform(constraint.inverse_transform(posdef)))"
   ]
  },
  {
   "cell_type": "code",
   "execution_count": null,
   "id": "72797c17-79f0-44bf-a90a-1384be8c3343",
   "metadata": {},
   "outputs": [],
   "source": [
    "torch.set_printoptions(precision=10)"
   ]
  },
  {
   "cell_type": "code",
   "execution_count": null,
   "id": "cb317ce9-e4d9-4150-8da1-7f3774b56a03",
   "metadata": {},
   "outputs": [
    {
     "data": {
      "text/plain": [
       "tensor([[0.3884250224, 0.2272305489, 0.7048735619],\n",
       "        [0.2272305489, 0.1662481874, 0.3675557375],\n",
       "        [0.7048735619, 0.3675557375, 1.4413411617]])"
      ]
     },
     "execution_count": null,
     "metadata": {},
     "output_type": "execute_result"
    }
   ],
   "source": [
    "posdef"
   ]
  },
  {
   "cell_type": "code",
   "execution_count": null,
   "id": "2dd604ba-ca5c-4973-bffd-d8e9018ce884",
   "metadata": {},
   "outputs": [
    {
     "data": {
      "text/plain": [
       "tensor(True)"
      ]
     },
     "execution_count": null,
     "metadata": {},
     "output_type": "execute_result"
    }
   ],
   "source": [
    "torch.isclose(posdef, posdef.mT, atol=1e-6).all(-2).all(-1)"
   ]
  },
  {
   "cell_type": "code",
   "execution_count": null,
   "id": "65f2a833-ea46-47bc-886e-b1e40b3e1a85",
   "metadata": {},
   "outputs": [],
   "source": [
    "#| export\n",
    "def is_symmetric(value, atol=1e-5):\n",
    "    return torch.isclose(value, value.mT, atol=atol).all().item()"
   ]
  },
  {
   "cell_type": "code",
   "execution_count": null,
   "id": "8d535136-e5a8-4c41-a9d7-99edc4d25c11",
   "metadata": {},
   "outputs": [
    {
     "data": {
      "text/plain": [
       "False"
      ]
     },
     "execution_count": null,
     "metadata": {},
     "output_type": "execute_result"
    }
   ],
   "source": [
    "is_symmetric(A)"
   ]
  },
  {
   "cell_type": "code",
   "execution_count": null,
   "id": "77d7bd95-ca50-4011-b290-3e90be4182da",
   "metadata": {},
   "outputs": [],
   "source": [
    "#| export\n",
    "def symmetric_upto(value):\n",
    "    for exp in range(-8, 1):\n",
    "        if is_symmetric(value, atol=10**exp):\n",
    "            return exp\n",
    "    return False"
   ]
  },
  {
   "cell_type": "code",
   "execution_count": null,
   "id": "95c9e671-b456-4cee-9981-f53176ebaeff",
   "metadata": {},
   "outputs": [
    {
     "data": {
      "text/plain": [
       "-8"
      ]
     },
     "execution_count": null,
     "metadata": {},
     "output_type": "execute_result"
    }
   ],
   "source": [
    "symmetric_upto(posdef)"
   ]
  },
  {
   "cell_type": "code",
   "execution_count": null,
   "id": "b6d3829e-d5ac-4855-9ad7-7f6dc3e7b1ae",
   "metadata": {},
   "outputs": [
    {
     "data": {
      "text/plain": [
       "0"
      ]
     },
     "execution_count": null,
     "metadata": {},
     "output_type": "execute_result"
    }
   ],
   "source": [
    "symmetric_upto(A)"
   ]
  },
  {
   "cell_type": "code",
   "execution_count": null,
   "id": "6aeddb77-2214-4b47-a95c-bb8939d94654",
   "metadata": {},
   "outputs": [],
   "source": [
    "#| export\n",
    "def is_posdef(cov):\n",
    "    return torch.distributions.constraints.positive_definite.check(cov).item()"
   ]
  },
  {
   "cell_type": "code",
   "execution_count": null,
   "id": "d56b4f8a-469d-4964-a611-547ca5fcd54c",
   "metadata": {},
   "outputs": [
    {
     "data": {
      "text/plain": [
       "True"
      ]
     },
     "execution_count": null,
     "metadata": {},
     "output_type": "execute_result"
    }
   ],
   "source": [
    "is_pos_semidef(posdef)"
   ]
  },
  {
   "cell_type": "code",
   "execution_count": null,
   "id": "b95a649c-9280-469d-8772-df8a21179d99",
   "metadata": {},
   "outputs": [
    {
     "data": {
      "text/plain": [
       "False"
      ]
     },
     "execution_count": null,
     "metadata": {},
     "output_type": "execute_result"
    }
   ],
   "source": [
    "is_posdef(A)"
   ]
  },
  {
   "cell_type": "code",
   "execution_count": null,
   "id": "46db458d-e410-4028-a84f-b9dba2c580c0",
   "metadata": {},
   "outputs": [
    {
     "data": {
      "text/plain": [
       "True"
      ]
     },
     "execution_count": null,
     "metadata": {},
     "output_type": "execute_result"
    }
   ],
   "source": [
    "is_posdef(posdef)"
   ]
  },
  {
   "cell_type": "code",
   "execution_count": null,
   "id": "be3c80f2-07d1-4788-a406-49e4fec9a1db",
   "metadata": {},
   "outputs": [
    {
     "data": {
      "text/plain": [
       "tensor([-0.6822434068,  0.2644098401,  1.5662214756])"
      ]
     },
     "execution_count": null,
     "metadata": {},
     "output_type": "execute_result"
    }
   ],
   "source": [
    "torch.linalg.eigvalsh(A)"
   ]
  },
  {
   "cell_type": "code",
   "execution_count": null,
   "id": "be8d0883-3b56-492d-b834-d1051a08b838",
   "metadata": {},
   "outputs": [
    {
     "data": {
      "text/plain": [
       "tensor([0.0080209598, 0.0865252018, 1.9014680386])"
      ]
     },
     "execution_count": null,
     "metadata": {},
     "output_type": "execute_result"
    }
   ],
   "source": [
    "torch.linalg.eigvalsh(posdef)"
   ]
  },
  {
   "cell_type": "markdown",
   "id": "21c011b4-ce29-4975-8f71-17edccc03941",
   "metadata": {},
   "source": [
    "check if it is pos definite using eigenvalues"
   ]
  },
  {
   "cell_type": "code",
   "execution_count": null,
   "id": "721d75e4-d024-4937-88fc-cdf4982c676a",
   "metadata": {},
   "outputs": [
    {
     "data": {
      "text/plain": [
       "MultivariateNormal(loc: torch.Size([2, 3]), covariance_matrix: torch.Size([2, 3, 3]))"
      ]
     },
     "execution_count": null,
     "metadata": {},
     "output_type": "execute_result"
    }
   ],
   "source": [
    "MultivariateNormal(torch.stack([torch.ones(3)]*2), torch.stack([posdef, torch.eye(3)]))"
   ]
  },
  {
   "cell_type": "code",
   "execution_count": null,
   "id": "04fda98d-ef31-4bf6-bdd1-d536634b7f38",
   "metadata": {},
   "outputs": [],
   "source": [
    "#| export\n",
    "def is_posdef2(cov):\n",
    "    eigv = torch.linalg.eigvalsh(cov)\n",
    "    if (eigv < 0).any():\n",
    "        return False, eigv\n",
    "    return True, eigv"
   ]
  },
  {
   "cell_type": "code",
   "execution_count": null,
   "id": "51740642-5a09-4861-a24b-a0c2324cfb45",
   "metadata": {},
   "outputs": [
    {
     "data": {
      "text/plain": [
       "(True, tensor([0.0080209598, 0.0865252018, 1.9014680386]))"
      ]
     },
     "execution_count": null,
     "metadata": {},
     "output_type": "execute_result"
    }
   ],
   "source": [
    "is_posdef2(posdef)"
   ]
  },
  {
   "cell_type": "code",
   "execution_count": null,
   "id": "7065b9c2-c50b-4e54-ab96-5c27dc89fe65",
   "metadata": {},
   "outputs": [
    {
     "data": {
      "text/plain": [
       "(False, tensor([-0.6822434068,  0.2644098401,  1.5662214756]))"
      ]
     },
     "execution_count": null,
     "metadata": {},
     "output_type": "execute_result"
    }
   ],
   "source": [
    "is_posdef2(A)"
   ]
  },
  {
   "cell_type": "code",
   "execution_count": null,
   "id": "b3138c12-f991-471e-bd39-51096a968eeb",
   "metadata": {},
   "outputs": [],
   "source": [
    "#| export\n",
    "from warnings import warn"
   ]
  },
  {
   "cell_type": "code",
   "execution_count": null,
   "id": "f3417f2f-ebb1-433a-a6c9-d4a751d8a427",
   "metadata": {},
   "outputs": [
    {
     "data": {
      "text/plain": [
       "tensor([[ True,  True,  True],\n",
       "        [False,  True,  True],\n",
       "        [False, False,  True]])"
      ]
     },
     "execution_count": null,
     "metadata": {},
     "output_type": "execute_result"
    }
   ],
   "source": [
    "mask = torch.tril(torch.ones(3,3, dtype=torch.bool)).T\n",
    "mask"
   ]
  },
  {
   "cell_type": "code",
   "execution_count": null,
   "id": "fa7f7d3a-e813-42a7-9bb9-8851a5daf26e",
   "metadata": {},
   "outputs": [
    {
     "data": {
      "text/plain": [
       "tensor([0.3330999017, 0.4517930150, 0.2708365917, 0.3873562813, 0.0476668477,\n",
       "        0.4279317856])"
      ]
     },
     "execution_count": null,
     "metadata": {},
     "output_type": "execute_result"
    }
   ],
   "source": [
    "A[mask]"
   ]
  },
  {
   "cell_type": "code",
   "execution_count": null,
   "id": "e964901c-3ecf-4544-9efb-0c07a1e71158",
   "metadata": {},
   "outputs": [],
   "source": [
    "A[mask] = torch.tril(A)[mask]"
   ]
  },
  {
   "cell_type": "code",
   "execution_count": null,
   "id": "aab560ab-8df1-4e46-a625-6c35ca0af2d3",
   "metadata": {},
   "outputs": [],
   "source": [
    "#| export\n",
    "def make_symmetric(value):\n",
    "    \"drops upper half to make matrix symmetric\"\n",
    "    mask = torch.tril(torch.ones_like(value, dtype=torch.bool))\n",
    "    value[mask.T] = torch.tril(value)[mask]\n",
    "    return value"
   ]
  },
  {
   "cell_type": "code",
   "execution_count": null,
   "id": "352f2cb2-2289-4f2f-9a68-2bd424d700d3",
   "metadata": {},
   "outputs": [
    {
     "data": {
      "text/plain": [
       "tensor([[0.3330999017, 0.1180299520, 0.3873562813],\n",
       "        [0.1180299520, 0.9418278337, 0.6092419028],\n",
       "        [0.9418278337, 0.6092419028, 0.4279317856]])"
      ]
     },
     "execution_count": null,
     "metadata": {},
     "output_type": "execute_result"
    }
   ],
   "source": [
    "make_symmetric(A)"
   ]
  },
  {
   "cell_type": "code",
   "execution_count": null,
   "id": "071053a4-7d9b-4418-b417-8eaa49f44b7d",
   "metadata": {},
   "outputs": [
    {
     "data": {
      "text/plain": [
       "True"
      ]
     },
     "execution_count": null,
     "metadata": {},
     "output_type": "execute_result"
    }
   ],
   "source": [
    "is_symmetric(make_symmetric(A))"
   ]
  },
  {
   "cell_type": "code",
   "execution_count": null,
   "id": "63256fb4-7b5c-42b9-b3aa-9582ddb82fb7",
   "metadata": {},
   "outputs": [],
   "source": [
    "#| export\n",
    "import pandas as pd"
   ]
  },
  {
   "cell_type": "code",
   "execution_count": null,
   "id": "8b629657-b080-4a34-a668-023d04ad9dcb",
   "metadata": {},
   "outputs": [],
   "source": [
    "#| export\n",
    "posdef_log = pd.DataFrame()"
   ]
  },
  {
   "cell_type": "code",
   "execution_count": null,
   "id": "1884d1b7-1bb0-4f51-b14d-fbf24c9743be",
   "metadata": {},
   "outputs": [],
   "source": [
    "#| export\n",
    "def check_posdef(value, name = '', error=False):\n",
    "    value = value.clone()\n",
    "    is_pd_eigv, eigv = is_posdef2(value)\n",
    "    is_pd_chol = torch.linalg.cholesky_ex(value).info.eq(0).item()\n",
    "    is_sym = is_symmetric(value)\n",
    "  \n",
    "    sym = make_symmetric(value)\n",
    "    is_pd_forced, _ = is_posdef2(sym)\n",
    "        \n",
    "    info = pd.DataFrame({\n",
    "        'is_pd_eigv': is_pd_eigv,\n",
    "        'is_pd_chol': is_pd_chol,\n",
    "        'is_sym': is_sym,\n",
    "        'sym_upto': symmetric_upto(value),\n",
    "        'force_sym_posdef': is_pd_forced,\n",
    "        'eigv': [eigv.detach().numpy()],\n",
    "        'matrix': [value.detach().numpy()],\n",
    "        'name': name\n",
    "    })\n",
    "    \n",
    "    global posdef_log\n",
    "    \n",
    "    if not is_pd_eigv or not is_pd_chol:\n",
    "        posdef_log = pd.concat([posdef_log, info])\n",
    "        if error:\n",
    "            warn(\"Matrix is not positive definite\")\n",
    "    return info"
   ]
  },
  {
   "cell_type": "code",
   "execution_count": null,
   "id": "3dff4b81-9705-4eab-b6b2-b6804c88e641",
   "metadata": {},
   "outputs": [
    {
     "data": {
      "text/plain": [
       "is_pd_eigv            bool\n",
       "is_pd_chol            bool\n",
       "is_sym                bool\n",
       "sym_upto             int64\n",
       "force_sym_posdef      bool\n",
       "eigv                object\n",
       "matrix              object\n",
       "name                object\n",
       "dtype: object"
      ]
     },
     "execution_count": null,
     "metadata": {},
     "output_type": "execute_result"
    }
   ],
   "source": [
    "check_posdef(A, 'A').dtypes"
   ]
  },
  {
   "cell_type": "code",
   "execution_count": null,
   "id": "38a5f1b2-b982-4932-a1df-2b8a32b3d8c0",
   "metadata": {},
   "outputs": [
    {
     "data": {
      "text/plain": [
       "is_pd_eigv            bool\n",
       "is_pd_chol            bool\n",
       "is_sym                bool\n",
       "sym_upto             int64\n",
       "force_sym_posdef      bool\n",
       "eigv                object\n",
       "matrix              object\n",
       "name                object\n",
       "dtype: object"
      ]
     },
     "execution_count": null,
     "metadata": {},
     "output_type": "execute_result"
    }
   ],
   "source": [
    "posdef_log.dtypes"
   ]
  },
  {
   "cell_type": "code",
   "execution_count": null,
   "id": "de968672-3a97-4094-bd08-75bcae17aa88",
   "metadata": {},
   "outputs": [
    {
     "data": {
      "text/html": [
       "<div>\n",
       "<style scoped>\n",
       "    .dataframe tbody tr th:only-of-type {\n",
       "        vertical-align: middle;\n",
       "    }\n",
       "\n",
       "    .dataframe tbody tr th {\n",
       "        vertical-align: top;\n",
       "    }\n",
       "\n",
       "    .dataframe thead th {\n",
       "        text-align: right;\n",
       "    }\n",
       "</style>\n",
       "<table border=\"1\" class=\"dataframe\">\n",
       "  <thead>\n",
       "    <tr style=\"text-align: right;\">\n",
       "      <th></th>\n",
       "      <th>is_pd_eigv</th>\n",
       "      <th>is_pd_chol</th>\n",
       "      <th>is_sym</th>\n",
       "      <th>sym_upto</th>\n",
       "      <th>force_sym_posdef</th>\n",
       "      <th>eigv</th>\n",
       "      <th>matrix</th>\n",
       "      <th>name</th>\n",
       "    </tr>\n",
       "  </thead>\n",
       "  <tbody>\n",
       "    <tr>\n",
       "      <th>0</th>\n",
       "      <td>True</td>\n",
       "      <td>True</td>\n",
       "      <td>True</td>\n",
       "      <td>-8</td>\n",
       "      <td>True</td>\n",
       "      <td>[0.032503378, 0.5579087, 1.9442279]</td>\n",
       "      <td>[[0.38842502, 0.22723055, 0.70487356], [0.2272...</td>\n",
       "      <td></td>\n",
       "    </tr>\n",
       "  </tbody>\n",
       "</table>\n",
       "</div>"
      ],
      "text/plain": [
       "   is_pd_eigv  is_pd_chol  is_sym  sym_upto  force_sym_posdef  \\\n",
       "0        True        True    True        -8              True   \n",
       "\n",
       "                                  eigv  \\\n",
       "0  [0.032503378, 0.5579087, 1.9442279]   \n",
       "\n",
       "                                              matrix name  \n",
       "0  [[0.38842502, 0.22723055, 0.70487356], [0.2272...       "
      ]
     },
     "execution_count": null,
     "metadata": {},
     "output_type": "execute_result"
    }
   ],
   "source": [
    "check_posdef(posdef)"
   ]
  },
  {
   "cell_type": "code",
   "execution_count": null,
   "id": "1d72f2f6-947c-4b1a-80e5-36b09f8b2bf2",
   "metadata": {},
   "outputs": [
    {
     "data": {
      "text/html": [
       "<div>\n",
       "<style scoped>\n",
       "    .dataframe tbody tr th:only-of-type {\n",
       "        vertical-align: middle;\n",
       "    }\n",
       "\n",
       "    .dataframe tbody tr th {\n",
       "        vertical-align: top;\n",
       "    }\n",
       "\n",
       "    .dataframe thead th {\n",
       "        text-align: right;\n",
       "    }\n",
       "</style>\n",
       "<table border=\"1\" class=\"dataframe\">\n",
       "  <thead>\n",
       "    <tr style=\"text-align: right;\">\n",
       "      <th></th>\n",
       "      <th>is_pd_eigv</th>\n",
       "      <th>is_pd_chol</th>\n",
       "      <th>is_sym</th>\n",
       "      <th>sym_upto</th>\n",
       "      <th>force_sym_posdef</th>\n",
       "      <th>eigv</th>\n",
       "      <th>matrix</th>\n",
       "      <th>name</th>\n",
       "    </tr>\n",
       "  </thead>\n",
       "  <tbody>\n",
       "    <tr>\n",
       "      <th>0</th>\n",
       "      <td>False</td>\n",
       "      <td>False</td>\n",
       "      <td>True</td>\n",
       "      <td>-8</td>\n",
       "      <td>False</td>\n",
       "      <td>[-0.6399728, 0.63689935, 1.7059332]</td>\n",
       "      <td>[[0.3330999, 0.11802995, 0.94182783], [0.11802...</td>\n",
       "      <td></td>\n",
       "    </tr>\n",
       "    <tr>\n",
       "      <th>0</th>\n",
       "      <td>True</td>\n",
       "      <td>True</td>\n",
       "      <td>True</td>\n",
       "      <td>0</td>\n",
       "      <td>True</td>\n",
       "      <td>[0.00802096, 0.0865252, 1.901468]</td>\n",
       "      <td>[[0.38842502, 0.22723055, 0.70487356], [0.2272...</td>\n",
       "      <td></td>\n",
       "    </tr>\n",
       "    <tr>\n",
       "      <th>0</th>\n",
       "      <td>True</td>\n",
       "      <td>True</td>\n",
       "      <td>True</td>\n",
       "      <td>-8</td>\n",
       "      <td>True</td>\n",
       "      <td>[1.0, 1.0]</td>\n",
       "      <td>[[1.0, 0.0], [0.0, 1.0]]</td>\n",
       "      <td>filter_predict</td>\n",
       "    </tr>\n",
       "    <tr>\n",
       "      <th>0</th>\n",
       "      <td>True</td>\n",
       "      <td>True</td>\n",
       "      <td>True</td>\n",
       "      <td>-8</td>\n",
       "      <td>True</td>\n",
       "      <td>[1.0, 1.0]</td>\n",
       "      <td>[[1.0, 0.0], [0.0, 1.0]]</td>\n",
       "      <td>filter_predict</td>\n",
       "    </tr>\n",
       "    <tr>\n",
       "      <th>0</th>\n",
       "      <td>True</td>\n",
       "      <td>True</td>\n",
       "      <td>True</td>\n",
       "      <td>-8</td>\n",
       "      <td>True</td>\n",
       "      <td>[0.5, 0.5]</td>\n",
       "      <td>[[0.5, 0.0], [0.0, 0.5]]</td>\n",
       "      <td>filter_correct</td>\n",
       "    </tr>\n",
       "    <tr>\n",
       "      <th>...</th>\n",
       "      <td>...</td>\n",
       "      <td>...</td>\n",
       "      <td>...</td>\n",
       "      <td>...</td>\n",
       "      <td>...</td>\n",
       "      <td>...</td>\n",
       "      <td>...</td>\n",
       "      <td>...</td>\n",
       "    </tr>\n",
       "    <tr>\n",
       "      <th>0</th>\n",
       "      <td>True</td>\n",
       "      <td>True</td>\n",
       "      <td>True</td>\n",
       "      <td>0</td>\n",
       "      <td>False</td>\n",
       "      <td>[0.1385304, 0.3253069, 10.498974]</td>\n",
       "      <td>[[4.348749, 3.894421, 3.9152386], [3.894421, 3...</td>\n",
       "      <td>filter_predict</td>\n",
       "    </tr>\n",
       "    <tr>\n",
       "      <th>0</th>\n",
       "      <td>False</td>\n",
       "      <td>False</td>\n",
       "      <td>True</td>\n",
       "      <td>-8</td>\n",
       "      <td>False</td>\n",
       "      <td>[-0.6399728, 0.63689935, 1.7059332]</td>\n",
       "      <td>[[0.3330999, 0.11802995, 0.94182783], [0.11802...</td>\n",
       "      <td></td>\n",
       "    </tr>\n",
       "    <tr>\n",
       "      <th>0</th>\n",
       "      <td>False</td>\n",
       "      <td>False</td>\n",
       "      <td>True</td>\n",
       "      <td>-8</td>\n",
       "      <td>False</td>\n",
       "      <td>[-0.6399728, 0.63689935, 1.7059332]</td>\n",
       "      <td>[[0.3330999, 0.11802995, 0.94182783], [0.11802...</td>\n",
       "      <td></td>\n",
       "    </tr>\n",
       "    <tr>\n",
       "      <th>0</th>\n",
       "      <td>False</td>\n",
       "      <td>False</td>\n",
       "      <td>True</td>\n",
       "      <td>-8</td>\n",
       "      <td>False</td>\n",
       "      <td>[-0.6399728, 0.63689935, 1.7059332]</td>\n",
       "      <td>[[0.3330999, 0.11802995, 0.94182783], [0.11802...</td>\n",
       "      <td>A</td>\n",
       "    </tr>\n",
       "    <tr>\n",
       "      <th>0</th>\n",
       "      <td>False</td>\n",
       "      <td>False</td>\n",
       "      <td>True</td>\n",
       "      <td>-8</td>\n",
       "      <td>False</td>\n",
       "      <td>[-0.6399728, 0.63689935, 1.7059332]</td>\n",
       "      <td>[[0.3330999, 0.11802995, 0.94182783], [0.11802...</td>\n",
       "      <td>A</td>\n",
       "    </tr>\n",
       "  </tbody>\n",
       "</table>\n",
       "<p>3439 rows × 8 columns</p>\n",
       "</div>"
      ],
      "text/plain": [
       "    is_pd_eigv  is_pd_chol  is_sym  sym_upto  force_sym_posdef  \\\n",
       "0        False       False    True        -8             False   \n",
       "0         True        True    True         0              True   \n",
       "0         True        True    True        -8              True   \n",
       "0         True        True    True        -8              True   \n",
       "0         True        True    True        -8              True   \n",
       "..         ...         ...     ...       ...               ...   \n",
       "0         True        True    True         0             False   \n",
       "0        False       False    True        -8             False   \n",
       "0        False       False    True        -8             False   \n",
       "0        False       False    True        -8             False   \n",
       "0        False       False    True        -8             False   \n",
       "\n",
       "                                   eigv  \\\n",
       "0   [-0.6399728, 0.63689935, 1.7059332]   \n",
       "0     [0.00802096, 0.0865252, 1.901468]   \n",
       "0                            [1.0, 1.0]   \n",
       "0                            [1.0, 1.0]   \n",
       "0                            [0.5, 0.5]   \n",
       "..                                  ...   \n",
       "0     [0.1385304, 0.3253069, 10.498974]   \n",
       "0   [-0.6399728, 0.63689935, 1.7059332]   \n",
       "0   [-0.6399728, 0.63689935, 1.7059332]   \n",
       "0   [-0.6399728, 0.63689935, 1.7059332]   \n",
       "0   [-0.6399728, 0.63689935, 1.7059332]   \n",
       "\n",
       "                                               matrix            name  \n",
       "0   [[0.3330999, 0.11802995, 0.94182783], [0.11802...                  \n",
       "0   [[0.38842502, 0.22723055, 0.70487356], [0.2272...                  \n",
       "0                            [[1.0, 0.0], [0.0, 1.0]]  filter_predict  \n",
       "0                            [[1.0, 0.0], [0.0, 1.0]]  filter_predict  \n",
       "0                            [[0.5, 0.0], [0.0, 0.5]]  filter_correct  \n",
       "..                                                ...             ...  \n",
       "0   [[4.348749, 3.894421, 3.9152386], [3.894421, 3...  filter_predict  \n",
       "0   [[0.3330999, 0.11802995, 0.94182783], [0.11802...                  \n",
       "0   [[0.3330999, 0.11802995, 0.94182783], [0.11802...                  \n",
       "0   [[0.3330999, 0.11802995, 0.94182783], [0.11802...               A  \n",
       "0   [[0.3330999, 0.11802995, 0.94182783], [0.11802...               A  \n",
       "\n",
       "[3439 rows x 8 columns]"
      ]
     },
     "execution_count": null,
     "metadata": {},
     "output_type": "execute_result"
    }
   ],
   "source": [
    "posdef_log"
   ]
  },
  {
   "cell_type": "code",
   "execution_count": null,
   "id": "c0afa8c3-870d-4af9-ae29-d57aa60c8d34",
   "metadata": {},
   "outputs": [],
   "source": [
    "#| export\n",
    "def check_posdef4(value, error=True):\n",
    "    msg = \"\"\n",
    "    is_pd_eigv, eigv = is_posdef2(value)\n",
    "    is_pd_chol = is_posdef(value)\n",
    "    if not is_pd_eigv or not is_pd_chol:\n",
    "        is_sym = is_symmetric(value)\n",
    "        if not is_sym:\n",
    "            msg += f\"Not symmetric, symmetric up to 1e{symmetric_upto(value)}\\n\"\n",
    "            msg += f\"Not pos definite with eigv {eigv} \\n\"\n",
    "        # try to make it symmetric and try again to see if it's posdef\n",
    "            sym = make_symmetric(value)\n",
    "            is_pd, eigv = is_posdef2(sym)\n",
    "            add_msg = \"forced symmetric is posdef\" if is_pd else \"force symmetric is not posdef\"\n",
    "            msg += add_msg\n",
    "        \n",
    "    if msg != \"\":\n",
    "        msg += str(value)\n",
    "        warn(msg)"
   ]
  },
  {
   "cell_type": "code",
   "execution_count": null,
   "id": "85129a83-3215-4c1c-9753-4ddd9bdb37a9",
   "metadata": {},
   "outputs": [],
   "source": [
    "def check_posdef3(cov, error=True):\n",
    "    if not is_posdef(cov):\n",
    "        is_pd, eigv = is_posdef2(cov)\n",
    "        if is_pd:\n",
    "            print(f\"actually pos definite {eigv} \\n{cov}\")\n",
    "        else:\n",
    "            msg = f\"not pos definite {eigv} \\n {cov}\"\n",
    "            if error:\n",
    "                raise ValueError(msg)\n",
    "            else:\n",
    "                print(msg)"
   ]
  },
  {
   "cell_type": "code",
   "execution_count": null,
   "id": "cb34c4b9-b2c8-4c20-a1d6-3e0f2e730044",
   "metadata": {},
   "outputs": [],
   "source": [
    "def check_posdef2(cov):\n",
    "    errors = []\n",
    "    for i in range(10):\n",
    "        if not is_posdef(cov):\n",
    "            errors.append(i)\n",
    "    if len(errors) > 0:\n",
    "        print(f\"at iterations {errors} not positive definite matrix. \\n{cov}\")"
   ]
  },
  {
   "cell_type": "markdown",
   "id": "3d3f26ea-ed98-427e-8257-63db13bf17d7",
   "metadata": {},
   "source": [
    "## KalmanFilter"
   ]
  },
  {
   "cell_type": "markdown",
   "id": "6cab259c-2315-4019-bb1e-61f3b1504bd5",
   "metadata": {},
   "source": [
    "The Kalman Filter is an algorithm designed to estimate $P(x_t | y_{0:t})$.  As all state transitions and obss are linear with Gaussian distributed noise, these distributions can be represented exactly as Gaussian distributions with mean `filt_state_means[t]` and covs `filt_state_covs[t]`.\n",
    "Similarly, the Kalman Smoother is an algorithm designed to estimate $P(x_t | y_{0:T-1})$\n",
    "\n"
   ]
  },
  {
   "cell_type": "code",
   "execution_count": null,
   "id": "4768434a-a51c-48a3-8813-afd59949ef51",
   "metadata": {},
   "outputs": [],
   "source": [
    "#| export\n",
    "class KalmanFilter(torch.nn.Module):\n",
    "    \"\"\"Kalman Filter and Kalman Smoother using PyTorch\"\"\"\n",
    "    def __init__(self,\n",
    "            transition_matrices: Tensor=None, # [n_timesteps-1, n_dim_state, n_dim_state] or [n_dim_state,n_dim_state] \n",
    "               # Also known as $A$ \n",
    "               # state transition matrix between times t and t+1 for t in [0...n_timesteps-2]\n",
    "            obs_matrices: Tensor=None, # [n_timesteps, n_dim_obs, n_dim_state] or [n_dim_obs, n_dim_state]\n",
    "                # Also known as $H$\n",
    "                # obs matrix for times [0...n_timesteps-1]\n",
    "            transition_cov: Tensor=None, # [n_dim_state, n_dim_state] \n",
    "                 # Also known as $Q$\n",
    "                 # state transition cov matrix for times [0...n_timesteps-2]\n",
    "            obs_cov: Tensor=None, # [n_dim_obs, n_dim_obs]\n",
    "                 # Also known as $R$\n",
    "                 # obs cov matrix for times [0...n_timesteps-1]\n",
    "            transition_offsets: Tensor=None, # [n_timesteps-1, n_dim_state] or [n_dim_state]\n",
    "                 # Also known as $b$\n",
    "                 # state offsets for times [0...n_timesteps-2]\n",
    "            obs_offsets: Tensor=None, # [n_timesteps, n_dim_obs] or [n_dim_obs]\n",
    "                 # Also known as $d$\n",
    "            initial_state_mean: Tensor=None, # [n_dim_state]\n",
    "                 # Also known as $\\mu_0\"$\n",
    "            initial_state_cov: Tensor=None, # [n_dim_state, n_dim_state]\n",
    "                 # Also known as $\\Sigma_0$\n",
    "            n_dim_state: int = None, # Number of dimensions for state - defaults to 1 if cannot be infered from parameters\n",
    "            n_dim_obs: int = None # Number of dimensions for observations - defaults to 1 if cannot be infered from parameters\n",
    "                ):\n",
    "        \"\"\"Initialize Kalman Filter\"\"\"\n",
    "        \n",
    "        super().__init__()\n",
    "        \n",
    "        # determine size of state space and check parameters are consistent\n",
    "        n_dim_state = _determine_dimensionality(\n",
    "            [(transition_matrices, array2d, -2),\n",
    "             (transition_offsets, array1d, -1),\n",
    "             (transition_cov, array2d, -2),\n",
    "             (initial_state_mean, array1d, -1),\n",
    "             (initial_state_cov, array2d, -2),\n",
    "             (obs_matrices, array2d, -1)],\n",
    "            n_dim_state\n",
    "        )\n",
    "        n_dim_obs = _determine_dimensionality(\n",
    "            [(obs_matrices, array2d, -2),\n",
    "             (obs_offsets, array1d, -1),\n",
    "             (obs_cov, array2d, -2)],\n",
    "            n_dim_obs\n",
    "        )\n",
    "        \n",
    "        self.n_dim_obs = n_dim_obs\n",
    "        self.n_dim_state = n_dim_state\n",
    "        \n",
    "        params = {\n",
    "        # name                 value         default_value                              converter constraint train\n",
    "        'transition_matrices': [transition_matrices, torch.eye(n_dim_state),            array2d, None    , True],\n",
    "        'transition_offsets':  [transition_offsets,  torch.zeros(n_dim_state),          array1d, None    , True],\n",
    "        'transition_cov':      [transition_cov,      torch.eye(n_dim_state),            array2d, PosDef(), True],\n",
    "        'obs_matrices':        [obs_matrices,        torch.eye(n_dim_obs, n_dim_state), array2d, None    , True],\n",
    "        'obs_offsets':         [obs_offsets,         torch.zeros(n_dim_obs),            array1d, None    , True],\n",
    "        'obs_cov':             [obs_cov,             torch.eye(n_dim_obs),              array2d, PosDef(), True],\n",
    "        'initial_state_mean':  [initial_state_mean,  torch.zeros(n_dim_state),          array1d, None    , True],\n",
    "        'initial_state_cov':   [initial_state_cov,   torch.eye(n_dim_state),            array2d, PosDef(), True],\n",
    "        }\n",
    "        \n",
    "        self._init_params(params)\n",
    "        \n",
    "    def _init_params(self, params):\n",
    "        for name, (value, default, converter, constraint, train) in params.items():\n",
    "            value = value if value is not None else default\n",
    "            value = converter(value) \n",
    "            if constraint is not None:\n",
    "                name, value = self._init_constraint(name, value, constraint)\n",
    "            self._init_param(name, value, train)    \n",
    "    \n",
    "    def _init_param(self, param_name, value, train):\n",
    "        self.register_parameter(param_name, torch.nn.Parameter(value, requires_grad=train))\n",
    "    \n",
    "    ## Constraints ----\n",
    "    def _init_constraint(self, param_name, value, constraint):\n",
    "        name = param_name + \"_raw\"\n",
    "        value = constraint.inverse_transform(value)\n",
    "        setattr(self, param_name + \"_constraint\", constraint)\n",
    "        return name, value\n",
    "    \n",
    "    def _get_constraint(self, param_name):\n",
    "        constraint = getattr(self, param_name + \"_constraint\")\n",
    "        raw_value = getattr(self, param_name + \"_raw\")\n",
    "        return constraint.transform(raw_value)\n",
    "    \n",
    "    def _set_constraint(self, param_name, value, train=True):\n",
    "        constraint = getattr(self, param_name + \"_constraint\")\n",
    "        raw_value = constraint.inverse_transform(value)\n",
    "        self._init_param(param_name + \"_raw\", raw_value, train=True)\n",
    "        \n",
    "\n",
    "    \n",
    "    ### convenience functions to get and set parameters that have a constraint\n",
    "    \n",
    "    @property\n",
    "    def transition_cov(self):\n",
    "        return self._get_constraint('transition_cov')\n",
    "    \n",
    "    @transition_cov.setter\n",
    "    def transition_cov(self, value):\n",
    "        return self._set_constraint('transition_cov', value)\n",
    "    \n",
    "    @property\n",
    "    def obs_cov(self):\n",
    "        return self._get_constraint('obs_cov')\n",
    "    \n",
    "    @obs_cov.setter\n",
    "    def obs_cov(self, value):\n",
    "        return self._set_constraint('obs_cov', value)\n",
    "    \n",
    "    @property\n",
    "    def initial_state_cov(self):\n",
    "        return self._get_constraint('initial_state_cov')\n",
    "    \n",
    "    @initial_state_cov.setter\n",
    "    def initial_state_cov(self, value):\n",
    "        return self._set_constraint('initial_state_cov', value)\n",
    "    \n",
    "    \n",
    "    ### -----\n",
    "    \n",
    "    def _parse_obs(self, obs, mask=None):\n",
    "        \"\"\"Safely convert observations to their expected format\"\"\"\n",
    "        obs = torch.atleast_2d(obs)\n",
    "        if obs.shape[0] == 1 and obs.shape[1] > 1:\n",
    "            obs = obs.T\n",
    "        if mask is None: mask = ~torch.isnan(obs).any(axis=1)\n",
    "        return obs, mask\n",
    "    \n",
    "    def __repr__(self):\n",
    "        return f\"\"\"Kalman Filter\n",
    "        N dim obs: {self.n_dim_obs}, N dim state: {self.n_dim_state}\"\"\""
   ]
  },
  {
   "cell_type": "code",
   "execution_count": null,
   "id": "366024c0-832c-4c32-878e-6cd305ed0dc2",
   "metadata": {},
   "outputs": [],
   "source": [
    "k = KalmanFilter()"
   ]
  },
  {
   "cell_type": "code",
   "execution_count": null,
   "id": "f142e2fd-7578-4bbf-9a50-fa2845a65e5e",
   "metadata": {},
   "outputs": [
    {
     "data": {
      "text/plain": [
       "tensor([[1.0000001192]], grad_fn=<AddBackward0>)"
      ]
     },
     "execution_count": null,
     "metadata": {},
     "output_type": "execute_result"
    }
   ],
   "source": [
    "k.obs_cov"
   ]
  },
  {
   "cell_type": "code",
   "execution_count": null,
   "id": "5780f040-efbe-46d6-a9ee-f784d17a0000",
   "metadata": {},
   "outputs": [
    {
     "data": {
      "text/plain": [
       "tensor([[1.0000001192]], grad_fn=<AddBackward0>)"
      ]
     },
     "execution_count": null,
     "metadata": {},
     "output_type": "execute_result"
    }
   ],
   "source": [
    "k.initial_state_cov"
   ]
  },
  {
   "cell_type": "code",
   "execution_count": null,
   "id": "318d1943-54a4-46ca-8c5c-3227afa48b50",
   "metadata": {},
   "outputs": [],
   "source": [
    "k.initial_state_cov = array2d(torch.tensor(3.))"
   ]
  },
  {
   "cell_type": "code",
   "execution_count": null,
   "id": "1a04324e-6a7f-4744-8113-a2d61c798397",
   "metadata": {},
   "outputs": [
    {
     "data": {
      "text/plain": [
       "tensor([[3.]], grad_fn=<AddBackward0>)"
      ]
     },
     "execution_count": null,
     "metadata": {},
     "output_type": "execute_result"
    }
   ],
   "source": [
    "k.initial_state_cov"
   ]
  },
  {
   "cell_type": "code",
   "execution_count": null,
   "id": "d5a5e4bf-3989-4986-8718-6864db9f4cbe",
   "metadata": {},
   "outputs": [
    {
     "data": {
      "text/plain": [
       "Parameter containing:\n",
       "tensor([[1.7320507765]], requires_grad=True)"
      ]
     },
     "execution_count": null,
     "metadata": {},
     "output_type": "execute_result"
    }
   ],
   "source": [
    "k.initial_state_cov_raw"
   ]
  },
  {
   "cell_type": "code",
   "execution_count": null,
   "id": "3aedc286-3762-4382-96b9-7a3105170ef5",
   "metadata": {},
   "outputs": [
    {
     "data": {
      "text/plain": [
       "[('transition_matrices',\n",
       "  Parameter containing:\n",
       "  tensor([[1.]], requires_grad=True)),\n",
       " ('transition_offsets',\n",
       "  Parameter containing:\n",
       "  tensor([0.], requires_grad=True)),\n",
       " ('transition_cov_raw',\n",
       "  Parameter containing:\n",
       "  tensor([[1.]], requires_grad=True)),\n",
       " ('obs_matrices',\n",
       "  Parameter containing:\n",
       "  tensor([[1.]], requires_grad=True)),\n",
       " ('obs_offsets',\n",
       "  Parameter containing:\n",
       "  tensor([0.], requires_grad=True)),\n",
       " ('obs_cov_raw',\n",
       "  Parameter containing:\n",
       "  tensor([[1.]], requires_grad=True)),\n",
       " ('initial_state_mean',\n",
       "  Parameter containing:\n",
       "  tensor([0.], requires_grad=True)),\n",
       " ('initial_state_cov_raw',\n",
       "  Parameter containing:\n",
       "  tensor([[1.7320507765]], requires_grad=True))]"
      ]
     },
     "execution_count": null,
     "metadata": {},
     "output_type": "execute_result"
    }
   ],
   "source": [
    "list(k.named_parameters())"
   ]
  },
  {
   "cell_type": "code",
   "execution_count": null,
   "id": "a5ed3b33-3ecf-4172-bea3-544922a11f10",
   "metadata": {},
   "outputs": [],
   "source": [
    "k = KalmanFilter()\n",
    "# pykalman reference implementation\n",
    "pyk = pykalman.KalmanFilter()"
   ]
  },
  {
   "cell_type": "code",
   "execution_count": null,
   "id": "568428a3-a7e0-4b49-81ff-8d0d9847d712",
   "metadata": {},
   "outputs": [
    {
     "data": {
      "text/plain": [
       "tensor([1, 2, 3])"
      ]
     },
     "execution_count": null,
     "metadata": {},
     "output_type": "execute_result"
    }
   ],
   "source": [
    "X = torch.tensor([1,2,3])\n",
    "nX = X.numpy()\n",
    "X"
   ]
  },
  {
   "cell_type": "markdown",
   "id": "9465cf6b-4f50-4076-86fb-e8294d2e1ae0",
   "metadata": {},
   "source": [
    "2 dimensional dobs"
   ]
  },
  {
   "cell_type": "code",
   "execution_count": null,
   "id": "4145eb54-2123-4a89-afac-1d35e990eef3",
   "metadata": {},
   "outputs": [],
   "source": [
    "X2 = torch.tensor([[i, 10. * i] for i in range(1,5)])\n",
    "nX2 = X2.numpy()"
   ]
  },
  {
   "cell_type": "code",
   "execution_count": null,
   "id": "9f9689bf-34cb-4d0f-b965-012e7b757d5d",
   "metadata": {},
   "outputs": [],
   "source": [
    "k2 = KalmanFilter(transition_matrices = torch.eye(2), obs_matrices=torch.eye(2))\n",
    "\n",
    "pyk2 = pykalman.KalmanFilter(n_dim_obs = 2, n_dim_state=2)"
   ]
  },
  {
   "cell_type": "code",
   "execution_count": null,
   "id": "124270f8-eb11-42d0-8ca0-d769e461d1c0",
   "metadata": {},
   "outputs": [
    {
     "data": {
      "text/plain": [
       "tensor([[ 1., 10.],\n",
       "        [ 2., 20.],\n",
       "        [ 3., 30.],\n",
       "        [ 4., 40.]])"
      ]
     },
     "execution_count": null,
     "metadata": {},
     "output_type": "execute_result"
    }
   ],
   "source": [
    "X2"
   ]
  },
  {
   "cell_type": "code",
   "execution_count": null,
   "id": "58349f50-a03e-49b4-bb32-89ffa45b3b4f",
   "metadata": {},
   "outputs": [],
   "source": [
    "obs_mask = torch.ones_like(X2, dtype=torch.bool)\n",
    "obs_mask[0, 1] = False # only one value missing\n",
    "obs_mask[2, :] = False # whole row missing\n",
    "# Xm X missing\n",
    "X2m = X2.clone()\n",
    "X2m[~obs_mask] = torch.nan\n",
    "# nXm Numpy X missing\n",
    "nX2m = np.ma.masked_array(X2.numpy(), mask = ~obs_mask.numpy())"
   ]
  },
  {
   "cell_type": "code",
   "execution_count": null,
   "id": "6e8a6fce-3f6c-4097-acbd-2890c95b30e8",
   "metadata": {},
   "outputs": [
    {
     "data": {
      "text/plain": [
       "tensor([[ True, False],\n",
       "        [ True,  True],\n",
       "        [False, False],\n",
       "        [ True,  True]])"
      ]
     },
     "execution_count": null,
     "metadata": {},
     "output_type": "execute_result"
    }
   ],
   "source": [
    "obs_mask"
   ]
  },
  {
   "cell_type": "code",
   "execution_count": null,
   "id": "abee7727-dc21-4d6a-ad0a-2bc307528c4f",
   "metadata": {},
   "outputs": [
    {
     "data": {
      "text/plain": [
       "tensor([[ 1., nan],\n",
       "        [ 2., 20.],\n",
       "        [nan, nan],\n",
       "        [ 4., 40.]])"
      ]
     },
     "execution_count": null,
     "metadata": {},
     "output_type": "execute_result"
    }
   ],
   "source": [
    "X2m"
   ]
  },
  {
   "cell_type": "code",
   "execution_count": null,
   "id": "52985acd-0729-4faa-88f0-a074585e7718",
   "metadata": {},
   "outputs": [
    {
     "data": {
      "text/plain": [
       "masked_array(\n",
       "  data=[[1.0, --],\n",
       "        [2.0, 20.0],\n",
       "        [--, --],\n",
       "        [4.0, 40.0]],\n",
       "  mask=[[False,  True],\n",
       "        [False, False],\n",
       "        [ True,  True],\n",
       "        [False, False]],\n",
       "  fill_value=1e+20,\n",
       "  dtype=float32)"
      ]
     },
     "execution_count": null,
     "metadata": {},
     "output_type": "execute_result"
    }
   ],
   "source": [
    "nX2m"
   ]
  },
  {
   "cell_type": "markdown",
   "id": "68162da7-0e27-4771-90dd-fe3eede49aaa",
   "metadata": {},
   "source": [
    "### Tester"
   ]
  },
  {
   "cell_type": "code",
   "execution_count": null,
   "id": "abe47c8b-ac54-4b14-9b78-1d9e448ab892",
   "metadata": {},
   "outputs": [],
   "source": [
    "from fastcore.basics import *"
   ]
  },
  {
   "cell_type": "code",
   "execution_count": null,
   "id": "a771ad0b-93a4-4556-999e-5234505ae043",
   "metadata": {},
   "outputs": [],
   "source": [
    "to_posdef = PosDef().transform"
   ]
  },
  {
   "cell_type": "code",
   "execution_count": null,
   "id": "0e80f2bd-8bdc-4101-b1f8-af0a013a2f48",
   "metadata": {},
   "outputs": [],
   "source": [
    "class KalmanFilterTester():\n",
    "    \n",
    "    torch2pyk = {\n",
    "        'transition_matrices': 'transition_matrices',\n",
    "        'transition_offsets':  'transition_offsets',        \n",
    "        'transition_cov':      'transition_covariance',        \n",
    "        'obs_matrices':        'observation_matrices',\n",
    "        'obs_offsets':         'observation_offsets',          \n",
    "        'obs_cov':             'observation_covariance',            \n",
    "        'initial_state_mean':  'initial_state_mean',        \n",
    "        'initial_state_cov':   'initial_state_covariance',\n",
    "    }\n",
    "    \n",
    "    def __init__(self,\n",
    "                 n_dim_state = 3,\n",
    "                n_dim_obs = 3,\n",
    "                n_obs = 10,\n",
    "                p_missing = .3,\n",
    "                seed=42):\n",
    "        store_attr(but='seed')\n",
    "        reset_seed(seed)\n",
    "        \n",
    "        self.random_init()\n",
    "    \n",
    "    def random_init(self):\n",
    "        self.params = {\n",
    "            'transition_matrices': torch.rand(self.n_dim_state, self.n_dim_state),\n",
    "            'transition_offsets':  torch.rand(self.n_dim_state),        \n",
    "            'transition_cov':      to_posdef(torch.rand(self.n_dim_state, self.n_dim_state)),        \n",
    "            'obs_matrices':        torch.rand(self.n_dim_obs, self.n_dim_state),\n",
    "            'obs_offsets':         torch.rand(self.n_dim_obs),          \n",
    "            'obs_cov':             to_posdef(torch.rand(self.n_dim_obs, self.n_dim_obs)),            \n",
    "            'initial_state_mean':  torch.rand(self.n_dim_state),        \n",
    "            'initial_state_cov':   to_posdef(torch.rand(self.n_dim_state, self.n_dim_state)),\n",
    "        }\n",
    "        self.params_pyk = {self.torch2pyk[name]: param.numpy() for name, param in self.params.items()}\n",
    "        \n",
    "        self.filter = KalmanFilter(**self.params)\n",
    "        self.filter_pyk = pykalman.standard.KalmanFilter(**self.params_pyk)\n",
    "        \n",
    "        \n",
    "        self.data = torch.rand(n_obs, n_dim_obs)\n",
    "        self.mask = torch.rand(n_obs, n_dim_obs) > p_missing\n",
    "        self.mask_torch = self.mask.all(1)\n",
    "        self.data_pyk = np.ma.masked_array(self.data.numpy(), mask = self.mask.numpy()) \n",
    "    \n",
    "    "
   ]
  },
  {
   "cell_type": "code",
   "execution_count": null,
   "id": "d9d0541e-bfd9-4647-b969-b737b148db15",
   "metadata": {},
   "outputs": [],
   "source": [
    "tst = KalmanFilterTester()"
   ]
  },
  {
   "cell_type": "code",
   "execution_count": null,
   "id": "e18f5a8d-02dd-4493-ab0d-2c97e61bf4b8",
   "metadata": {},
   "outputs": [],
   "source": [
    "test_close(tst.params.values(), tst.params_pyk.values())"
   ]
  },
  {
   "cell_type": "markdown",
   "id": "82b38261-acb1-45f5-a12b-7668b5f78bfb",
   "metadata": {},
   "source": [
    "### Filter"
   ]
  },
  {
   "cell_type": "markdown",
   "id": "a7ca368e-9a56-46b2-bbcb-42e561107a88",
   "metadata": {},
   "source": [
    "#### Filter predict"
   ]
  },
  {
   "cell_type": "code",
   "execution_count": null,
   "id": "935e06ec-05cf-4521-ad9d-26f3be41eb1c",
   "metadata": {},
   "outputs": [],
   "source": [
    "#| export\n",
    "from datetime import datetime\n",
    "def _filter_predict(transition_matrix, transition_cov,\n",
    "                    transition_offset, current_state_mean,\n",
    "                    current_state_cov):\n",
    "    r\"\"\"Calculate the mean and cov of :math:`P(x_{t+1} | z_{0:t})`\n",
    "\n",
    "    Using the mean and cov of :math:`P(x_t | z_{0:t})`, calculate the\n",
    "    mean and cov of :math:`P(x_{t+1} | z_{0:t})`.\n",
    "\n",
    "    Parameters\n",
    "    ----------\n",
    "    transition_matrix : [n_dim_state, n_dim_state} array\n",
    "        state transition matrix from time t to t+1\n",
    "    transition_cov : [n_dim_state, n_dim_state] array\n",
    "        cov matrix for state transition from time t to t+1\n",
    "    transition_offset : [n_dim_state] array\n",
    "        offset for state transition from time t to t+1\n",
    "    current_state_mean: [n_dim_state] array\n",
    "        mean of state at time t given obss from times\n",
    "        [0...t]\n",
    "    current_state_cov: [n_dim_state, n_dim_state] array\n",
    "        cov of state at time t given obss from times\n",
    "        [0...t]\n",
    "\n",
    "    Returns\n",
    "    -------\n",
    "    pred_state_mean : [n_dim_state] array\n",
    "        mean of state at time t+1 given obss from times [0...t]\n",
    "    pred_state_cov : [n_dim_state, n_dim_state] array\n",
    "        cov of state at time t+1 given obss from times\n",
    "        [0...t]\n",
    "    \"\"\"\n",
    "    pred_state_mean = transition_matrix @ current_state_mean + transition_offset\n",
    "    pred_state_cov =  transition_matrix @ current_state_cov @ transition_matrix.T + transition_cov\n",
    "\n",
    "    check_posdef(pred_state_cov, 'filter_predict')\n",
    "    \n",
    "    return (pred_state_mean, pred_state_cov)"
   ]
  },
  {
   "cell_type": "code",
   "execution_count": null,
   "id": "f5467408-c979-4a0e-8ed5-bc52ec9996dd",
   "metadata": {},
   "outputs": [],
   "source": [
    "def _filter_predict2(transition_matrix, transition_covariance,\n",
    "                    transition_offset, current_state_mean,\n",
    "                    current_state_covariance):\n",
    "    predicted_state_mean = (\n",
    "        torch.matmul(transition_matrix, current_state_mean)\n",
    "        + transition_offset\n",
    "    )\n",
    "    predicted_state_covariance = (\n",
    "        torch.matmul(transition_matrix,\n",
    "               torch.matmul(current_state_covariance,\n",
    "                      transition_matrix.T))\n",
    "        + transition_covariance\n",
    "    )\n",
    "\n",
    "    return (predicted_state_mean, predicted_state_covariance)"
   ]
  },
  {
   "cell_type": "code",
   "execution_count": null,
   "id": "28026910-a3ff-4e1a-92de-ac2e964e0990",
   "metadata": {},
   "outputs": [
    {
     "data": {
      "text/plain": [
       "tensor([[0., 0., 0.],\n",
       "        [0., 0., 0.],\n",
       "        [0., 0., 0.]])"
      ]
     },
     "execution_count": null,
     "metadata": {},
     "output_type": "execute_result"
    }
   ],
   "source": [
    "(\n",
    "    (tst.params['transition_matrices'] @ tst.params['initial_state_cov'] ) -\n",
    "    torch.matmul(tst.params['transition_matrices'], tst.params['initial_state_cov'])\n",
    ")"
   ]
  },
  {
   "cell_type": "code",
   "execution_count": null,
   "id": "bbf0c398-66d0-49fb-9c22-194036531e12",
   "metadata": {},
   "outputs": [
    {
     "data": {
      "text/plain": [
       "tensor([[ 0.0000000000e+00,  0.0000000000e+00,  0.0000000000e+00],\n",
       "        [ 0.0000000000e+00,  0.0000000000e+00,  0.0000000000e+00],\n",
       "        [ 0.0000000000e+00, -2.3841857910e-07,  0.0000000000e+00]])"
      ]
     },
     "execution_count": null,
     "metadata": {},
     "output_type": "execute_result"
    }
   ],
   "source": [
    "(\n",
    "    (tst.params['transition_matrices'] @ tst.params['initial_state_cov']  @ tst.params['transition_matrices'].T) -\n",
    "    torch.matmul(tst.params['transition_matrices'], torch.matmul(tst.params['initial_state_cov'], tst.params['transition_matrices'].T))\n",
    ")"
   ]
  },
  {
   "cell_type": "code",
   "execution_count": null,
   "id": "d09c1ac0-f255-42b5-a329-fce9f69e56ca",
   "metadata": {},
   "outputs": [
    {
     "data": {
      "text/plain": [
       "tensor([[ 0.0000000000e+00,  0.0000000000e+00,  0.0000000000e+00],\n",
       "        [ 0.0000000000e+00,  0.0000000000e+00,  0.0000000000e+00],\n",
       "        [ 0.0000000000e+00, -4.7683715820e-07,  0.0000000000e+00]])"
      ]
     },
     "execution_count": null,
     "metadata": {},
     "output_type": "execute_result"
    }
   ],
   "source": [
    "(\n",
    "    (tst.params['transition_matrices'] @ tst.params['initial_state_cov']  @ tst.params['transition_matrices'].T + tst.params['transition_cov']) -\n",
    "    (torch.matmul(tst.params['transition_matrices'], torch.matmul(tst.params['initial_state_cov'], tst.params['transition_matrices'].T)) + tst.params['transition_cov'])\n",
    ")"
   ]
  },
  {
   "cell_type": "code",
   "execution_count": null,
   "id": "dc141646-3e32-461d-84d2-bab7a6423d61",
   "metadata": {},
   "outputs": [],
   "source": [
    "trans_m = np.eye(2)\n",
    "trans_cov = np.eye(2)\n",
    "trans_off = np.zeros((2,2))\n",
    "curr_mean = np.ones((2,1))\n",
    "curr_cov = np.zeros((2,2))"
   ]
  },
  {
   "cell_type": "code",
   "execution_count": null,
   "id": "25d156cb-a6c5-4098-8368-9544f6b22ba9",
   "metadata": {},
   "outputs": [
    {
     "data": {
      "text/plain": [
       "(tensor([[1., 1.],\n",
       "         [1., 1.]], dtype=torch.float64),\n",
       " tensor([[1., 0.],\n",
       "         [0., 1.]], dtype=torch.float64))"
      ]
     },
     "execution_count": null,
     "metadata": {},
     "output_type": "execute_result"
    }
   ],
   "source": [
    "_filter_predict(torch.tensor(trans_m) , torch.tensor(trans_cov), torch.tensor(trans_off), torch.tensor(curr_mean), torch.tensor(curr_cov))"
   ]
  },
  {
   "cell_type": "code",
   "execution_count": null,
   "id": "c8d817b0-41be-4577-a6ea-b0e20ef47b06",
   "metadata": {},
   "outputs": [],
   "source": [
    "test_close(\n",
    "    pykalman.standard._filter_predict(trans_m , trans_cov, trans_off, curr_mean, curr_cov),\n",
    "    _filter_predict(torch.tensor(trans_m) , torch.tensor(trans_cov), torch.tensor(trans_off), torch.tensor(curr_mean), torch.tensor(curr_cov)))"
   ]
  },
  {
   "cell_type": "code",
   "execution_count": null,
   "id": "2d9651d3-2af2-47a4-8ac8-1941dfc5e733",
   "metadata": {},
   "outputs": [],
   "source": [
    "pred_pyk = pykalman.standard._filter_predict(\n",
    "   tst.params_pyk['transition_matrices'],\n",
    "   tst.params_pyk['transition_covariance'],\n",
    "   tst.params_pyk['transition_offsets'],\n",
    "   tst.params_pyk['initial_state_mean'],\n",
    "   tst.params_pyk['initial_state_covariance'],\n",
    ")"
   ]
  },
  {
   "cell_type": "code",
   "execution_count": null,
   "id": "22ad00ef-ce2a-4486-91a4-53e723741400",
   "metadata": {},
   "outputs": [],
   "source": [
    "pred_torch = _filter_predict(\n",
    "   tst.params['transition_matrices'],\n",
    "   tst.params['transition_cov'],\n",
    "   tst.params['transition_offsets'],\n",
    "   tst.params['initial_state_mean'],\n",
    "   tst.params['initial_state_cov'],\n",
    "\n",
    ")"
   ]
  },
  {
   "cell_type": "code",
   "execution_count": null,
   "id": "a5a3c6e7-c359-412a-80c5-1702330ca12d",
   "metadata": {},
   "outputs": [
    {
     "data": {
      "text/plain": [
       "array([0., 0., 0.], dtype=float32)"
      ]
     },
     "execution_count": null,
     "metadata": {},
     "output_type": "execute_result"
    }
   ],
   "source": [
    "pred_pyk[0] - pred_torch[0].numpy()"
   ]
  },
  {
   "cell_type": "code",
   "execution_count": null,
   "id": "0d6952b8-a96e-49ec-a069-d5db9abed821",
   "metadata": {},
   "outputs": [],
   "source": [
    "test_close(pred_pyk[0], pred_torch[0])"
   ]
  },
  {
   "cell_type": "code",
   "execution_count": null,
   "id": "0574b9b6-bbd4-450c-ae65-39c95f1c153e",
   "metadata": {},
   "outputs": [
    {
     "data": {
      "text/plain": [
       "array([[0.0000000e+00, 0.0000000e+00, 0.0000000e+00],\n",
       "       [0.0000000e+00, 0.0000000e+00, 0.0000000e+00],\n",
       "       [0.0000000e+00, 4.7683716e-07, 0.0000000e+00]], dtype=float32)"
      ]
     },
     "execution_count": null,
     "metadata": {},
     "output_type": "execute_result"
    }
   ],
   "source": [
    "pred_pyk[1] - pred_torch[1].numpy()"
   ]
  },
  {
   "cell_type": "code",
   "execution_count": null,
   "id": "8160e541-4d24-433b-98a1-efde62af8086",
   "metadata": {},
   "outputs": [],
   "source": [
    "test_close(pred_pyk[1], pred_torch[1])"
   ]
  },
  {
   "cell_type": "code",
   "execution_count": null,
   "id": "56d48222-f986-40b3-9974-d419aebda352",
   "metadata": {},
   "outputs": [
    {
     "data": {
      "text/plain": [
       "\u001b[0;31mSignature:\u001b[0m\n",
       "\u001b[0mpykalman\u001b[0m\u001b[0;34m.\u001b[0m\u001b[0mstandard\u001b[0m\u001b[0;34m.\u001b[0m\u001b[0m_filter_predict\u001b[0m\u001b[0;34m(\u001b[0m\u001b[0;34m\u001b[0m\n",
       "\u001b[0;34m\u001b[0m    \u001b[0mtransition_matrix\u001b[0m\u001b[0;34m,\u001b[0m\u001b[0;34m\u001b[0m\n",
       "\u001b[0;34m\u001b[0m    \u001b[0mtransition_covariance\u001b[0m\u001b[0;34m,\u001b[0m\u001b[0;34m\u001b[0m\n",
       "\u001b[0;34m\u001b[0m    \u001b[0mtransition_offset\u001b[0m\u001b[0;34m,\u001b[0m\u001b[0;34m\u001b[0m\n",
       "\u001b[0;34m\u001b[0m    \u001b[0mcurrent_state_mean\u001b[0m\u001b[0;34m,\u001b[0m\u001b[0;34m\u001b[0m\n",
       "\u001b[0;34m\u001b[0m    \u001b[0mcurrent_state_covariance\u001b[0m\u001b[0;34m,\u001b[0m\u001b[0;34m\u001b[0m\n",
       "\u001b[0;34m\u001b[0m\u001b[0;34m)\u001b[0m\u001b[0;34m\u001b[0m\u001b[0;34m\u001b[0m\u001b[0m\n",
       "\u001b[0;31mSource:\u001b[0m   \n",
       "\u001b[0;32mdef\u001b[0m \u001b[0m_filter_predict\u001b[0m\u001b[0;34m(\u001b[0m\u001b[0mtransition_matrix\u001b[0m\u001b[0;34m,\u001b[0m \u001b[0mtransition_covariance\u001b[0m\u001b[0;34m,\u001b[0m\u001b[0;34m\u001b[0m\n",
       "\u001b[0;34m\u001b[0m                    \u001b[0mtransition_offset\u001b[0m\u001b[0;34m,\u001b[0m \u001b[0mcurrent_state_mean\u001b[0m\u001b[0;34m,\u001b[0m\u001b[0;34m\u001b[0m\n",
       "\u001b[0;34m\u001b[0m                    \u001b[0mcurrent_state_covariance\u001b[0m\u001b[0;34m)\u001b[0m\u001b[0;34m:\u001b[0m\u001b[0;34m\u001b[0m\n",
       "\u001b[0;34m\u001b[0m    \u001b[0;34mr\"\"\"Calculate the mean and covariance of :math:`P(x_{t+1} | z_{0:t})`\u001b[0m\n",
       "\u001b[0;34m\u001b[0m\n",
       "\u001b[0;34m    Using the mean and covariance of :math:`P(x_t | z_{0:t})`, calculate the\u001b[0m\n",
       "\u001b[0;34m    mean and covariance of :math:`P(x_{t+1} | z_{0:t})`.\u001b[0m\n",
       "\u001b[0;34m\u001b[0m\n",
       "\u001b[0;34m    Parameters\u001b[0m\n",
       "\u001b[0;34m    ----------\u001b[0m\n",
       "\u001b[0;34m    transition_matrix : [n_dim_state, n_dim_state} array\u001b[0m\n",
       "\u001b[0;34m        state transition matrix from time t to t+1\u001b[0m\n",
       "\u001b[0;34m    transition_covariance : [n_dim_state, n_dim_state] array\u001b[0m\n",
       "\u001b[0;34m        covariance matrix for state transition from time t to t+1\u001b[0m\n",
       "\u001b[0;34m    transition_offset : [n_dim_state] array\u001b[0m\n",
       "\u001b[0;34m        offset for state transition from time t to t+1\u001b[0m\n",
       "\u001b[0;34m    current_state_mean: [n_dim_state] array\u001b[0m\n",
       "\u001b[0;34m        mean of state at time t given observations from times\u001b[0m\n",
       "\u001b[0;34m        [0...t]\u001b[0m\n",
       "\u001b[0;34m    current_state_covariance: [n_dim_state, n_dim_state] array\u001b[0m\n",
       "\u001b[0;34m        covariance of state at time t given observations from times\u001b[0m\n",
       "\u001b[0;34m        [0...t]\u001b[0m\n",
       "\u001b[0;34m\u001b[0m\n",
       "\u001b[0;34m    Returns\u001b[0m\n",
       "\u001b[0;34m    -------\u001b[0m\n",
       "\u001b[0;34m    predicted_state_mean : [n_dim_state] array\u001b[0m\n",
       "\u001b[0;34m        mean of state at time t+1 given observations from times [0...t]\u001b[0m\n",
       "\u001b[0;34m    predicted_state_covariance : [n_dim_state, n_dim_state] array\u001b[0m\n",
       "\u001b[0;34m        covariance of state at time t+1 given observations from times\u001b[0m\n",
       "\u001b[0;34m        [0...t]\u001b[0m\n",
       "\u001b[0;34m    \"\"\"\u001b[0m\u001b[0;34m\u001b[0m\n",
       "\u001b[0;34m\u001b[0m    \u001b[0mpredicted_state_mean\u001b[0m \u001b[0;34m=\u001b[0m \u001b[0;34m(\u001b[0m\u001b[0;34m\u001b[0m\n",
       "\u001b[0;34m\u001b[0m        \u001b[0mnp\u001b[0m\u001b[0;34m.\u001b[0m\u001b[0mdot\u001b[0m\u001b[0;34m(\u001b[0m\u001b[0mtransition_matrix\u001b[0m\u001b[0;34m,\u001b[0m \u001b[0mcurrent_state_mean\u001b[0m\u001b[0;34m)\u001b[0m\u001b[0;34m\u001b[0m\n",
       "\u001b[0;34m\u001b[0m        \u001b[0;34m+\u001b[0m \u001b[0mtransition_offset\u001b[0m\u001b[0;34m\u001b[0m\n",
       "\u001b[0;34m\u001b[0m    \u001b[0;34m)\u001b[0m\u001b[0;34m\u001b[0m\n",
       "\u001b[0;34m\u001b[0m    \u001b[0mpredicted_state_covariance\u001b[0m \u001b[0;34m=\u001b[0m \u001b[0;34m(\u001b[0m\u001b[0;34m\u001b[0m\n",
       "\u001b[0;34m\u001b[0m        \u001b[0mnp\u001b[0m\u001b[0;34m.\u001b[0m\u001b[0mdot\u001b[0m\u001b[0;34m(\u001b[0m\u001b[0mtransition_matrix\u001b[0m\u001b[0;34m,\u001b[0m\u001b[0;34m\u001b[0m\n",
       "\u001b[0;34m\u001b[0m               \u001b[0mnp\u001b[0m\u001b[0;34m.\u001b[0m\u001b[0mdot\u001b[0m\u001b[0;34m(\u001b[0m\u001b[0mcurrent_state_covariance\u001b[0m\u001b[0;34m,\u001b[0m\u001b[0;34m\u001b[0m\n",
       "\u001b[0;34m\u001b[0m                      \u001b[0mtransition_matrix\u001b[0m\u001b[0;34m.\u001b[0m\u001b[0mT\u001b[0m\u001b[0;34m)\u001b[0m\u001b[0;34m)\u001b[0m\u001b[0;34m\u001b[0m\n",
       "\u001b[0;34m\u001b[0m        \u001b[0;34m+\u001b[0m \u001b[0mtransition_covariance\u001b[0m\u001b[0;34m\u001b[0m\n",
       "\u001b[0;34m\u001b[0m    \u001b[0;34m)\u001b[0m\u001b[0;34m\u001b[0m\n",
       "\u001b[0;34m\u001b[0m\u001b[0;34m\u001b[0m\n",
       "\u001b[0;34m\u001b[0m    \u001b[0;32mreturn\u001b[0m \u001b[0;34m(\u001b[0m\u001b[0mpredicted_state_mean\u001b[0m\u001b[0;34m,\u001b[0m \u001b[0mpredicted_state_covariance\u001b[0m\u001b[0;34m)\u001b[0m\u001b[0;34m\u001b[0m\u001b[0;34m\u001b[0m\u001b[0m\n",
       "\u001b[0;31mFile:\u001b[0m      ~/anaconda3/envs/data-science/lib/python3.10/site-packages/pykalman/standard.py\n",
       "\u001b[0;31mType:\u001b[0m      function\n"
      ]
     },
     "metadata": {},
     "output_type": "display_data"
    }
   ],
   "source": [
    "pykalman.standard._filter_predict??"
   ]
  },
  {
   "cell_type": "code",
   "execution_count": null,
   "id": "be46f999-607c-4243-8406-c91f822a47a2",
   "metadata": {},
   "outputs": [
    {
     "data": {
      "text/plain": [
       "(3, 3)"
      ]
     },
     "execution_count": null,
     "metadata": {},
     "output_type": "execute_result"
    }
   ],
   "source": [
    "tst.params_pyk['transition_matrices'].shape"
   ]
  },
  {
   "cell_type": "code",
   "execution_count": null,
   "id": "b7c9a591-58af-480a-acac-b0923084b899",
   "metadata": {},
   "outputs": [],
   "source": [
    "test_close(\n",
    "   pykalman.standard._filter_predict(\n",
    "       tst.params_pyk['transition_matrices'],\n",
    "       tst.params_pyk['transition_covariance'],\n",
    "       tst.params_pyk['transition_offsets'],\n",
    "       tst.params_pyk['initial_state_mean'],\n",
    "       tst.params_pyk['initial_state_covariance'],\n",
    "    ),\n",
    "    \n",
    "    _filter_predict2(\n",
    "       tst.params['transition_matrices'],\n",
    "       tst.params['transition_cov'],\n",
    "       tst.params['transition_offsets'],\n",
    "       tst.params['initial_state_mean'],\n",
    "       tst.params['initial_state_cov'],\n",
    "    \n",
    "    )\n",
    ")"
   ]
  },
  {
   "cell_type": "code",
   "execution_count": null,
   "id": "9c27d2e7-a061-487e-83eb-c79332bba2ac",
   "metadata": {},
   "outputs": [],
   "source": [
    "test_close(\n",
    "    \n",
    "    _filter_predict2(\n",
    "       tst.params['transition_matrices'],\n",
    "       tst.params['transition_cov'],\n",
    "       tst.params['transition_offsets'],\n",
    "       tst.params['initial_state_mean'],\n",
    "       tst.params['initial_state_cov'],\n",
    "    ),\n",
    "    _filter_predict(\n",
    "       tst.params['transition_matrices'],\n",
    "       tst.params['transition_cov'],\n",
    "       tst.params['transition_offsets'],\n",
    "       tst.params['initial_state_mean'],\n",
    "       tst.params['initial_state_cov'],\n",
    "    )\n",
    ")"
   ]
  },
  {
   "cell_type": "code",
   "execution_count": null,
   "id": "3767652b-ea3b-4f59-bbf3-4c23856ac4b7",
   "metadata": {},
   "outputs": [],
   "source": [
    "test_close(\n",
    "   pykalman.standard._filter_predict(\n",
    "       tst.params_pyk['transition_matrices'],\n",
    "       tst.params_pyk['transition_covariance'],\n",
    "       tst.params_pyk['transition_offsets'],\n",
    "       tst.params_pyk['initial_state_mean'],\n",
    "       tst.params_pyk['initial_state_covariance'],\n",
    "    ),\n",
    "    \n",
    "    _filter_predict(\n",
    "       tst.params['transition_matrices'],\n",
    "       tst.params['transition_cov'],\n",
    "       tst.params['transition_offsets'],\n",
    "       tst.params['initial_state_mean'],\n",
    "       tst.params['initial_state_cov'],\n",
    "    \n",
    "    )\n",
    ")"
   ]
  },
  {
   "cell_type": "markdown",
   "id": "fd34fcb0-baaf-4a91-a881-9abe5dcee1b6",
   "metadata": {},
   "source": [
    "The issues seems is was from `check_posdef` but `torch.matmul` and `@` are correctly working as intended"
   ]
  },
  {
   "cell_type": "markdown",
   "id": "99e62fe3-a580-4f1d-aa20-8c5de1d90cb6",
   "metadata": {},
   "source": [
    "#### Filter correct"
   ]
  },
  {
   "cell_type": "code",
   "execution_count": null,
   "id": "23b11e2a",
   "metadata": {},
   "outputs": [],
   "source": [
    "#| export\n",
    "def _filter_correct(obs_matrix, obs_cov,\n",
    "                    obs_offset, pred_state_mean,\n",
    "                    pred_state_cov, obs, mask):\n",
    "    r\"\"\"Correct a pred state with a Kalman Filter update\n",
    "\n",
    "    Incorporate obs `obs` from time `t` to turn\n",
    "    :math:`P(x_t | z_{0:t-1})` into :math:`P(x_t | z_{0:t})`\n",
    "\n",
    "    Parameters\n",
    "    ----------\n",
    "    obs_matrix : [n_dim_obs, n_dim_state] array\n",
    "        obs matrix for time t\n",
    "    obs_cov : [n_dim_obs, n_dim_obs] array\n",
    "        cov matrix for obs at time t\n",
    "    obs_offset : [n_dim_obs] array\n",
    "        offset for obs at time t\n",
    "    pred_state_mean : [n_dim_state] array\n",
    "        mean of state at time t given obss from times\n",
    "        [0...t-1]\n",
    "    pred_state_cov : [n_dim_state, n_dim_state] array\n",
    "        cov of state at time t given obss from times\n",
    "        [0...t-1]\n",
    "    obs : [n_dim_obs] array\n",
    "        obs at time t.  If `obs` is a masked array and any of\n",
    "        its values are masked, the obs will be ignored.\n",
    "\n",
    "    Returns\n",
    "    -------\n",
    "    kalman_gain : [n_dim_state, n_dim_obs] array\n",
    "        Kalman gain matrix for time t\n",
    "    corrected_state_mean : [n_dim_state] array\n",
    "        mean of state at time t given obss from times\n",
    "        [0...t]\n",
    "    corrected_state_cov : [n_dim_state, n_dim_state] array\n",
    "        cov of state at time t given obss from times\n",
    "        [0...t]\n",
    "    \"\"\"\n",
    "    if mask:\n",
    "        pred_obs_mean = obs_matrix @ pred_state_mean + obs_offset\n",
    "        pred_obs_cov = obs_matrix @ pred_state_cov @ obs_matrix.T + obs_cov\n",
    "\n",
    "        kalman_gain = pred_state_cov @ obs_matrix.T @ torch.inverse(pred_obs_cov)\n",
    "\n",
    "        corrected_state_mean = pred_state_mean + kalman_gain @ (obs - pred_obs_mean)\n",
    "        corrected_state_cov = pred_state_cov - kalman_gain @ obs_matrix @ pred_state_cov\n",
    "    else:\n",
    "        n_dim_state = pred_state_cov.shape[0]\n",
    "        n_dim_obs = obs_matrix.shape[0]\n",
    "        kalman_gain = torch.zeros((n_dim_state, n_dim_obs))\n",
    "\n",
    "        corrected_state_mean = pred_state_mean\n",
    "        corrected_state_cov = pred_state_cov\n",
    "        \n",
    "    # check_posdef(corrected_state_cov, 'filter_correct')\n",
    "\n",
    "    return (kalman_gain, corrected_state_mean,\n",
    "            corrected_state_cov)"
   ]
  },
  {
   "cell_type": "code",
   "execution_count": null,
   "id": "e4b27d14-3ffe-43e7-a85b-559cde8ad9f9",
   "metadata": {},
   "outputs": [],
   "source": [
    "pykalman.st"
   ]
  },
  {
   "cell_type": "code",
   "execution_count": null,
   "id": "89abda27-c723-4e54-b7ac-7be3ddcb12d6",
   "metadata": {},
   "outputs": [],
   "source": [
    "args_np = {\n",
    "    'obs_m': np.eye(2),\n",
    "    'obs_cov': np.eye(2),\n",
    "    'obs_off': np.zeros((2,1)),\n",
    "    'pred_state_mean': np.ones(2),\n",
    "    'pred_state_cov': np.eye(2),\n",
    "    'obs': np.ones((2,1)),\n",
    "}\n",
    "\n",
    "args_torch = {k: torch.tensor(v) for k,v in args_np.items()}"
   ]
  },
  {
   "cell_type": "code",
   "execution_count": null,
   "id": "259a47a7-e4a8-40ac-add2-48e0d37f5274",
   "metadata": {},
   "outputs": [
    {
     "data": {
      "text/plain": [
       "(tensor([[0.5000000000, 0.0000000000],\n",
       "         [0.0000000000, 0.5000000000]], dtype=torch.float64),\n",
       " tensor([[1., 1.],\n",
       "         [1., 1.]], dtype=torch.float64),\n",
       " tensor([[0.5000000000, 0.0000000000],\n",
       "         [0.0000000000, 0.5000000000]], dtype=torch.float64))"
      ]
     },
     "execution_count": null,
     "metadata": {},
     "output_type": "execute_result"
    }
   ],
   "source": [
    "_filter_correct(*args_torch.values(), mask=True)"
   ]
  },
  {
   "cell_type": "code",
   "execution_count": null,
   "id": "85912564-1794-4799-b4ee-e307055a6204",
   "metadata": {},
   "outputs": [],
   "source": [
    "test_close(\n",
    "    pykalman.standard._filter_correct(*args_np.values()),\n",
    "    _filter_correct(*args_torch.values(), mask=True))"
   ]
  },
  {
   "cell_type": "code",
   "execution_count": null,
   "id": "ecb3043f-b75b-44f9-9770-154cb0b2d2b3",
   "metadata": {},
   "outputs": [],
   "source": []
  },
  {
   "cell_type": "code",
   "execution_count": null,
   "id": "a7df4168-8801-4d2b-862b-a85d7f8f9106",
   "metadata": {},
   "outputs": [
    {
     "ename": "AssertionError",
     "evalue": "close:\n(array([[0., 0., 0.],\n       [0., 0., 0.],\n       [0., 0., 0.]]), array([0.7104288, 0.9464111, 0.7890298], dtype=float32), array([[1.0486015 , 0.3691155 , 0.7147802 ],\n       [0.3691155 , 0.6065388 , 0.25865388],\n       [0.7147802 , 0.25865388, 0.9362985 ]], dtype=float32))\n(tensor([[ 0.7221071124, -1.0674444437,  0.8584222794],\n        [ 0.2587594092, -1.5015394688,  2.0118002892],\n        [ 0.7195330858, -0.0971457958, -0.5135169029]]), tensor([-1.2009034157, -1.2801539898,  0.1241111159]), tensor([[ 0.3472033143, -0.0683074296,  0.1338070035],\n        [-0.0683076382,  0.0863308311,  0.0947744399],\n        [ 0.1338068843,  0.0947745293,  0.2892767787]]))",
     "output_type": "error",
     "traceback": [
      "\u001b[0;31m---------------------------------------------------------------------------\u001b[0m",
      "\u001b[0;31mAssertionError\u001b[0m                            Traceback (most recent call last)",
      "Input \u001b[0;32mIn [462]\u001b[0m, in \u001b[0;36m<cell line: 1>\u001b[0;34m()\u001b[0m\n\u001b[0;32m----> 1\u001b[0m \u001b[43mtest_close\u001b[49m\u001b[43m(\u001b[49m\n\u001b[1;32m      2\u001b[0m \u001b[43m   \u001b[49m\u001b[43mpykalman\u001b[49m\u001b[38;5;241;43m.\u001b[39;49m\u001b[43mstandard\u001b[49m\u001b[38;5;241;43m.\u001b[39;49m\u001b[43m_filter_correct\u001b[49m\u001b[43m(\u001b[49m\n\u001b[1;32m      3\u001b[0m \u001b[43m       \u001b[49m\u001b[43mtst\u001b[49m\u001b[38;5;241;43m.\u001b[39;49m\u001b[43mparams_pyk\u001b[49m\u001b[43m[\u001b[49m\u001b[38;5;124;43m'\u001b[39;49m\u001b[38;5;124;43mobservation_matrices\u001b[39;49m\u001b[38;5;124;43m'\u001b[39;49m\u001b[43m]\u001b[49m\u001b[43m,\u001b[49m\n\u001b[1;32m      4\u001b[0m \u001b[43m       \u001b[49m\u001b[43mtst\u001b[49m\u001b[38;5;241;43m.\u001b[39;49m\u001b[43mparams_pyk\u001b[49m\u001b[43m[\u001b[49m\u001b[38;5;124;43m'\u001b[39;49m\u001b[38;5;124;43mobservation_covariance\u001b[39;49m\u001b[38;5;124;43m'\u001b[39;49m\u001b[43m]\u001b[49m\u001b[43m,\u001b[49m\n\u001b[1;32m      5\u001b[0m \u001b[43m       \u001b[49m\u001b[43mtst\u001b[49m\u001b[38;5;241;43m.\u001b[39;49m\u001b[43mparams_pyk\u001b[49m\u001b[43m[\u001b[49m\u001b[38;5;124;43m'\u001b[39;49m\u001b[38;5;124;43mobservation_offsets\u001b[39;49m\u001b[38;5;124;43m'\u001b[39;49m\u001b[43m]\u001b[49m\u001b[43m,\u001b[49m\n\u001b[1;32m      6\u001b[0m \u001b[43m       \u001b[49m\u001b[43mtst\u001b[49m\u001b[38;5;241;43m.\u001b[39;49m\u001b[43mparams_pyk\u001b[49m\u001b[43m[\u001b[49m\u001b[38;5;124;43m'\u001b[39;49m\u001b[38;5;124;43minitial_state_mean\u001b[39;49m\u001b[38;5;124;43m'\u001b[39;49m\u001b[43m]\u001b[49m\u001b[43m,\u001b[49m\n\u001b[1;32m      7\u001b[0m \u001b[43m       \u001b[49m\u001b[43mtst\u001b[49m\u001b[38;5;241;43m.\u001b[39;49m\u001b[43mparams_pyk\u001b[49m\u001b[43m[\u001b[49m\u001b[38;5;124;43m'\u001b[39;49m\u001b[38;5;124;43minitial_state_covariance\u001b[39;49m\u001b[38;5;124;43m'\u001b[39;49m\u001b[43m]\u001b[49m\u001b[43m,\u001b[49m\n\u001b[1;32m      8\u001b[0m \u001b[43m       \u001b[49m\u001b[43mtst\u001b[49m\u001b[38;5;241;43m.\u001b[39;49m\u001b[43mdata_pyk\u001b[49m\u001b[43m[\u001b[49m\u001b[38;5;241;43m0\u001b[39;49m\u001b[43m]\u001b[49m\n\u001b[1;32m      9\u001b[0m \u001b[43m    \u001b[49m\u001b[43m)\u001b[49m\u001b[43m,\u001b[49m\n\u001b[1;32m     10\u001b[0m \u001b[43m    \u001b[49m\n\u001b[1;32m     11\u001b[0m \u001b[43m    \u001b[49m\u001b[43m_filter_correct\u001b[49m\u001b[43m(\u001b[49m\n\u001b[1;32m     12\u001b[0m \u001b[43m       \u001b[49m\u001b[43mtst\u001b[49m\u001b[38;5;241;43m.\u001b[39;49m\u001b[43mparams\u001b[49m\u001b[43m[\u001b[49m\u001b[38;5;124;43m'\u001b[39;49m\u001b[38;5;124;43mobs_matrices\u001b[39;49m\u001b[38;5;124;43m'\u001b[39;49m\u001b[43m]\u001b[49m\u001b[43m,\u001b[49m\n\u001b[1;32m     13\u001b[0m \u001b[43m       \u001b[49m\u001b[43mtst\u001b[49m\u001b[38;5;241;43m.\u001b[39;49m\u001b[43mparams\u001b[49m\u001b[43m[\u001b[49m\u001b[38;5;124;43m'\u001b[39;49m\u001b[38;5;124;43mobs_cov\u001b[39;49m\u001b[38;5;124;43m'\u001b[39;49m\u001b[43m]\u001b[49m\u001b[43m,\u001b[49m\n\u001b[1;32m     14\u001b[0m \u001b[43m       \u001b[49m\u001b[43mtst\u001b[49m\u001b[38;5;241;43m.\u001b[39;49m\u001b[43mparams\u001b[49m\u001b[43m[\u001b[49m\u001b[38;5;124;43m'\u001b[39;49m\u001b[38;5;124;43mobs_offsets\u001b[39;49m\u001b[38;5;124;43m'\u001b[39;49m\u001b[43m]\u001b[49m\u001b[43m,\u001b[49m\n\u001b[1;32m     15\u001b[0m \u001b[43m       \u001b[49m\u001b[43mtst\u001b[49m\u001b[38;5;241;43m.\u001b[39;49m\u001b[43mparams\u001b[49m\u001b[43m[\u001b[49m\u001b[38;5;124;43m'\u001b[39;49m\u001b[38;5;124;43minitial_state_mean\u001b[39;49m\u001b[38;5;124;43m'\u001b[39;49m\u001b[43m]\u001b[49m\u001b[43m,\u001b[49m\n\u001b[1;32m     16\u001b[0m \u001b[43m       \u001b[49m\u001b[43mtst\u001b[49m\u001b[38;5;241;43m.\u001b[39;49m\u001b[43mparams\u001b[49m\u001b[43m[\u001b[49m\u001b[38;5;124;43m'\u001b[39;49m\u001b[38;5;124;43minitial_state_cov\u001b[39;49m\u001b[38;5;124;43m'\u001b[39;49m\u001b[43m]\u001b[49m\u001b[43m,\u001b[49m\n\u001b[1;32m     17\u001b[0m \u001b[43m       \u001b[49m\u001b[43mtst\u001b[49m\u001b[38;5;241;43m.\u001b[39;49m\u001b[43mdata\u001b[49m\u001b[43m[\u001b[49m\u001b[38;5;241;43m0\u001b[39;49m\u001b[43m]\u001b[49m\u001b[43m,\u001b[49m\n\u001b[1;32m     18\u001b[0m \u001b[43m       \u001b[49m\u001b[43mtst\u001b[49m\u001b[38;5;241;43m.\u001b[39;49m\u001b[43mmask_torch\u001b[49m\u001b[43m[\u001b[49m\u001b[38;5;241;43m0\u001b[39;49m\u001b[43m]\u001b[49m\n\u001b[1;32m     19\u001b[0m \u001b[43m    \u001b[49m\u001b[43m)\u001b[49m\n\u001b[1;32m     20\u001b[0m \u001b[43m)\u001b[49m\n",
      "File \u001b[0;32m~/Documents/uni/Thesis/GPFA_imputation/meteo_imp/utils.py:100\u001b[0m, in \u001b[0;36mtest_close\u001b[0;34m(a, b, eps)\u001b[0m\n\u001b[1;32m     98\u001b[0m \u001b[38;5;28;01mdef\u001b[39;00m \u001b[38;5;21mtest_close\u001b[39m(a,b,eps\u001b[38;5;241m=\u001b[39m\u001b[38;5;241m1e-5\u001b[39m):\n\u001b[1;32m     99\u001b[0m     \u001b[38;5;124m\"\u001b[39m\u001b[38;5;124m`test` that `a` is within `eps` of `b`\u001b[39m\u001b[38;5;124m\"\u001b[39m\n\u001b[0;32m--> 100\u001b[0m     \u001b[43mtest\u001b[49m\u001b[43m(\u001b[49m\u001b[43ma\u001b[49m\u001b[43m,\u001b[49m\u001b[43mb\u001b[49m\u001b[43m,\u001b[49m\u001b[43mpartial\u001b[49m\u001b[43m(\u001b[49m\u001b[43mis_close\u001b[49m\u001b[43m,\u001b[49m\u001b[43meps\u001b[49m\u001b[38;5;241;43m=\u001b[39;49m\u001b[43meps\u001b[49m\u001b[43m)\u001b[49m\u001b[43m,\u001b[49m\u001b[38;5;124;43m'\u001b[39;49m\u001b[38;5;124;43mclose\u001b[39;49m\u001b[38;5;124;43m'\u001b[39;49m\u001b[43m)\u001b[49m\n",
      "File \u001b[0;32m~/.local/lib/python3.10/site-packages/fastcore/test.py:27\u001b[0m, in \u001b[0;36mtest\u001b[0;34m(a, b, cmp, cname)\u001b[0m\n\u001b[1;32m     25\u001b[0m \u001b[38;5;124m\"\u001b[39m\u001b[38;5;124m`assert` that `cmp(a,b)`; display inputs and `cname or cmp.__name__` if it fails\u001b[39m\u001b[38;5;124m\"\u001b[39m\n\u001b[1;32m     26\u001b[0m \u001b[38;5;28;01mif\u001b[39;00m cname \u001b[38;5;129;01mis\u001b[39;00m \u001b[38;5;28;01mNone\u001b[39;00m: cname\u001b[38;5;241m=\u001b[39mcmp\u001b[38;5;241m.\u001b[39m\u001b[38;5;18m__name__\u001b[39m\n\u001b[0;32m---> 27\u001b[0m \u001b[38;5;28;01massert\u001b[39;00m cmp(a,b),\u001b[38;5;124mf\u001b[39m\u001b[38;5;124m\"\u001b[39m\u001b[38;5;132;01m{\u001b[39;00mcname\u001b[38;5;132;01m}\u001b[39;00m\u001b[38;5;124m:\u001b[39m\u001b[38;5;130;01m\\n\u001b[39;00m\u001b[38;5;132;01m{\u001b[39;00ma\u001b[38;5;132;01m}\u001b[39;00m\u001b[38;5;130;01m\\n\u001b[39;00m\u001b[38;5;132;01m{\u001b[39;00mb\u001b[38;5;132;01m}\u001b[39;00m\u001b[38;5;124m\"\u001b[39m\n",
      "\u001b[0;31mAssertionError\u001b[0m: close:\n(array([[0., 0., 0.],\n       [0., 0., 0.],\n       [0., 0., 0.]]), array([0.7104288, 0.9464111, 0.7890298], dtype=float32), array([[1.0486015 , 0.3691155 , 0.7147802 ],\n       [0.3691155 , 0.6065388 , 0.25865388],\n       [0.7147802 , 0.25865388, 0.9362985 ]], dtype=float32))\n(tensor([[ 0.7221071124, -1.0674444437,  0.8584222794],\n        [ 0.2587594092, -1.5015394688,  2.0118002892],\n        [ 0.7195330858, -0.0971457958, -0.5135169029]]), tensor([-1.2009034157, -1.2801539898,  0.1241111159]), tensor([[ 0.3472033143, -0.0683074296,  0.1338070035],\n        [-0.0683076382,  0.0863308311,  0.0947744399],\n        [ 0.1338068843,  0.0947745293,  0.2892767787]]))"
     ]
    }
   ],
   "source": [
    "test_close(\n",
    "   pykalman.standard._filter_correct(\n",
    "       tst.params_pyk['observation_matrices'],\n",
    "       tst.params_pyk['observation_covariance'],\n",
    "       tst.params_pyk['observation_offsets'],\n",
    "       tst.params_pyk['initial_state_mean'],\n",
    "       tst.params_pyk['initial_state_covariance'],\n",
    "       tst.data_pyk[0]\n",
    "    ),\n",
    "    \n",
    "    _filter_correct(\n",
    "       tst.params['obs_matrices'],\n",
    "       tst.params['obs_cov'],\n",
    "       tst.params['obs_offsets'],\n",
    "       tst.params['initial_state_mean'],\n",
    "       tst.params['initial_state_cov'],\n",
    "       tst.data[0],\n",
    "       tst.mask_torch[0]\n",
    "    )\n",
    ")"
   ]
  },
  {
   "cell_type": "markdown",
   "id": "173294f6-f74b-4a93-9ba6-c4695284d125",
   "metadata": {},
   "source": [
    "#### Filter"
   ]
  },
  {
   "cell_type": "code",
   "execution_count": null,
   "id": "2f045ed4-40bc-4451-b836-5bc4e5b4d4b9",
   "metadata": {},
   "outputs": [],
   "source": [
    "#| export\n",
    "def _filter(transition_matrices, obs_matrices, transition_cov,\n",
    "            obs_cov, transition_offsets, obs_offsets,\n",
    "            initial_state_mean, initial_state_cov, obs, obs_mask):\n",
    "    \"\"\"Apply the Kalman Filter\n",
    "\n",
    "    Calculate posterior distribution over hidden states given obss up\n",
    "    to and including the current time step.\n",
    "\n",
    "    Parameters\n",
    "    ----------\n",
    "    transition_matrices : [n_timesteps-1,n_dim_state,n_dim_state] or\n",
    "    [n_dim_state,n_dim_state] array-like\n",
    "        state transition matrices\n",
    "    obs_matrices : [n_timesteps, n_dim_obs, n_dim_state] or [n_dim_obs, \\\n",
    "    n_dim_state] array-like\n",
    "        obs matrix\n",
    "    transition_cov : [n_timesteps-1,n_dim_state,n_dim_state] or\n",
    "    [n_dim_state,n_dim_state] array-like\n",
    "        state transition cov matrix\n",
    "    obs_cov : [n_timesteps, n_dim_obs, n_dim_obs] or [n_dim_obs,\n",
    "    n_dim_obs] array-like\n",
    "        obs cov matrix\n",
    "    transition_offsets : [n_timesteps-1, n_dim_state] or [n_dim_state] \\\n",
    "    array-like\n",
    "        state offset\n",
    "    obs_offsets : [n_timesteps, n_dim_obs] or [n_dim_obs] array-like\n",
    "        obss for times [0...n_timesteps-1]\n",
    "    initial_state_mean : [n_dim_state] array-like\n",
    "        mean of initial state distribution\n",
    "    initial_state_cov : [n_dim_state, n_dim_state] array-like\n",
    "        cov of initial state distribution\n",
    "    obss : [n_timesteps, n_dim_obs] array\n",
    "        obss from times [0...n_timesteps-1].  If `obss` is a\n",
    "        masked array and any of `obss[t]` is masked, then\n",
    "        `obss[t]` will be treated as a missing obs.\n",
    "\n",
    "    Returns\n",
    "    -------\n",
    "    pred_state_means : [n_timesteps, n_dim_state] array\n",
    "        `pred_state_means[t]` = mean of hidden state at time t given\n",
    "        obss from times [0...t-1]\n",
    "    pred_state_covs : [n_timesteps, n_dim_state, n_dim_state] array\n",
    "        `pred_state_covs[t]` = cov of hidden state at time t\n",
    "        given obss from times [0...t-1]\n",
    "    kalman_gains : [n_timesteps, n_dim_state] array\n",
    "        `kalman_gains[t]` = Kalman gain matrix for time t\n",
    "    filt_state_means : [n_timesteps, n_dim_state] array\n",
    "        `filt_state_means[t]` = mean of hidden state at time t given\n",
    "        obss from times [0...t]\n",
    "    filt_state_covs : [n_timesteps, n_dim_state] array\n",
    "        `filt_state_covs[t]` = cov of hidden state at time t\n",
    "        given obss from times [0...t]\n",
    "    \"\"\"\n",
    "    n_timesteps = obs.shape[0]\n",
    "    n_dim_state = len(initial_state_mean)\n",
    "    n_dim_obs = obs.shape[1]\n",
    "    \n",
    "    # those variables need to be lists and not Tensors,\n",
    "    # otherwise pytorch tryies to compute the gradient for the whole tensor and it breaks due to the in place operations\n",
    "    \n",
    "    pred_state_means = [None for _ in range(n_timesteps)] # torch.zeros((n_timesteps, n_dim_state))\n",
    "    pred_state_covs = [None for _ in range(n_timesteps)] # torch.zeros(\n",
    "        #(n_timesteps, n_dim_state, n_dim_state)\n",
    "    #)\n",
    "    kalman_gains = [None for _ in range(n_timesteps)]\n",
    "    filt_state_means = [None for _ in range(n_timesteps)]\n",
    "    filt_state_covs = [None for _ in range(n_timesteps)]\n",
    "\n",
    "    for t in range(n_timesteps):\n",
    "        if t == 0:\n",
    "            pred_state_means[t] = initial_state_mean\n",
    "            pred_state_covs[t] = initial_state_cov\n",
    "        else:\n",
    "            transition_matrix = _last_dims(transition_matrices, t - 1)\n",
    "            transition_cov = _last_dims(transition_cov, t - 1)\n",
    "            transition_offset = _last_dims(transition_offsets, t - 1, ndims=1)\n",
    "            pred_state_means[t], pred_state_covs[t] = (\n",
    "                _filter_predict(\n",
    "                    transition_matrix,\n",
    "                    transition_cov,\n",
    "                    transition_offset,\n",
    "                    filt_state_means[t - 1],\n",
    "                    filt_state_covs[t - 1]\n",
    "                )\n",
    "            )\n",
    "\n",
    "        obs_matrix = _last_dims(obs_matrices, t)\n",
    "        obs_cov = _last_dims(obs_cov, t)\n",
    "        obs_offset = _last_dims(obs_offsets, t, ndims=1)\n",
    "        (kalman_gains[t], filt_state_means[t],\n",
    "         filt_state_covs[t]) = (\n",
    "            _filter_correct(obs_matrix,\n",
    "                obs_cov,\n",
    "                obs_offset,\n",
    "                pred_state_means[t],\n",
    "                pred_state_covs[t],\n",
    "                obs[t],\n",
    "                obs_mask[t]\n",
    "            )\n",
    "        )\n",
    "\n",
    "    return (pred_state_means, pred_state_covs, filt_state_means,\n",
    "            filt_state_covs)"
   ]
  },
  {
   "cell_type": "code",
   "execution_count": null,
   "id": "5326f17b-3cdb-4ad3-a040-9866abc6a89f",
   "metadata": {},
   "outputs": [],
   "source": [
    "args_filt_np = {\n",
    "    'trans_m': np.eye(2),\n",
    "    'obs_m': np.eye(2),\n",
    "    'trans_cov': np.eye(2),\n",
    "    'obs_cov': np.eye(2),\n",
    "    'trans_off': np.zeros((2,1)),\n",
    "    'obs_off': np.zeros((3,2)),\n",
    "    'init_state_mean': np.ones(2),\n",
    "    'init_state_cov': np.eye(2),\n",
    "    'obs': np.ones((3, 2)),\n",
    "}\n",
    "\n",
    "obs_mask = np.ones(3)\n",
    "\n",
    "args_filt_torch = {k: torch.tensor(v, dtype = torch.float32) for k,v in args_filt_np.items()}"
   ]
  },
  {
   "cell_type": "code",
   "execution_count": null,
   "id": "5d40182e-31a2-42b4-a734-5fe228072526",
   "metadata": {},
   "outputs": [
    {
     "data": {
      "text/plain": [
       "([tensor([1., 1.]), tensor([1., 1.]), tensor([1., 1.])],\n",
       " [tensor([[1., 0.],\n",
       "          [0., 1.]]),\n",
       "  tensor([[1.5000000000, 0.0000000000],\n",
       "          [0.0000000000, 1.5000000000]]),\n",
       "  tensor([[1.5999999046, 0.0000000000],\n",
       "          [0.0000000000, 1.5999999046]])],\n",
       " [tensor([1., 1.]), tensor([1., 1.]), tensor([1., 1.])],\n",
       " [tensor([[0.5000000000, 0.0000000000],\n",
       "          [0.0000000000, 0.5000000000]]),\n",
       "  tensor([[0.5999999642, 0.0000000000],\n",
       "          [0.0000000000, 0.5999999642]]),\n",
       "  tensor([[0.6153846383, 0.0000000000],\n",
       "          [0.0000000000, 0.6153846383]])])"
      ]
     },
     "execution_count": null,
     "metadata": {},
     "output_type": "execute_result"
    }
   ],
   "source": [
    "_filter(*args_filt_torch.values(), obs_mask=obs_mask)"
   ]
  },
  {
   "cell_type": "code",
   "execution_count": null,
   "id": "14baa8c6-8556-40fc-8dc8-02f8a0d40a50",
   "metadata": {},
   "outputs": [],
   "source": [
    "filt_pyk = list(pykalman.standard._filter(*args_filt_np.values()))\n",
    "del filt_pyk[2] # remove kalman gain that is not returned py _filter\n",
    "\n",
    "filt =  list(map(lambda x: torch.stack(x), _filter(*args_filt_torch.values(), obs_mask=obs_mask)))\n",
    "\n",
    "test_close( filt_pyk, filt)"
   ]
  },
  {
   "cell_type": "markdown",
   "id": "43e37b54-796f-4497-a15d-6b1cddfb986e",
   "metadata": {},
   "source": [
    "missing data"
   ]
  },
  {
   "cell_type": "code",
   "execution_count": null,
   "id": "ab129fb2-af48-44d4-b528-ea643c107a93",
   "metadata": {},
   "outputs": [],
   "source": [
    "obs_mask = np.array([True, False, True])\n",
    "args_filt_np['obs'] = np.ma.masked_array(args_filt_np['obs'], mask = np.vstack([~obs_mask] * 2).T)"
   ]
  },
  {
   "cell_type": "code",
   "execution_count": null,
   "id": "a5333d91-d971-41bd-babf-bf21b8ee6488",
   "metadata": {},
   "outputs": [
    {
     "data": {
      "text/plain": [
       "masked_array(\n",
       "  data=[[1.0, 1.0],\n",
       "        [--, --],\n",
       "        [1.0, 1.0]],\n",
       "  mask=[[False, False],\n",
       "        [ True,  True],\n",
       "        [False, False]],\n",
       "  fill_value=1e+20)"
      ]
     },
     "execution_count": null,
     "metadata": {},
     "output_type": "execute_result"
    }
   ],
   "source": [
    "args_filt_np['obs']"
   ]
  },
  {
   "cell_type": "code",
   "execution_count": null,
   "id": "9c366aed-4312-4a83-b6e1-c4e452ea0afe",
   "metadata": {},
   "outputs": [],
   "source": [
    "filt_pyk = list(pykalman.standard._filter(*args_filt_np.values()))\n",
    "del filt_pyk[2] # remove kalman gain that is not returned py _filter\n",
    "\n",
    "filt =  list(map(lambda x: torch.stack(x), _filter(*args_filt_torch.values(), obs_mask=torch.tensor(obs_mask))))\n",
    "\n",
    "test_close( filt_pyk, filt)"
   ]
  },
  {
   "cell_type": "markdown",
   "id": "9f928bd5-604f-4a0d-9379-46aba21e31d8",
   "metadata": {},
   "source": [
    "#### KalmanFilter method"
   ]
  },
  {
   "cell_type": "code",
   "execution_count": null,
   "id": "9faab4ca-9796-4d84-90b2-8cde296e66ec",
   "metadata": {},
   "outputs": [],
   "source": [
    "#| export\n",
    "@torch.no_grad()\n",
    "@patch\n",
    "def filter(self: KalmanFilter,\n",
    "          obs: Tensor, # [n_timesteps, n_dim_obs] obs for times [0...n_timesteps-1]\n",
    "          mask = None\n",
    "          ) -> ListNormal: # Filtered state\n",
    "    \"\"\"Filter observation\"\"\"\n",
    "    _, _, filt_state_means, filt_state_covs = self._filter_all(obs)\n",
    "    return ListNormal(_stack_detach(filt_state_means), _stack_detach(filt_state_covs))\n",
    "\n",
    "@patch\n",
    "def _filter_all(self: KalmanFilter, obs, mask=None) -> Tuple:\n",
    "    obs, obs_mask = self._parse_obs(obs, mask)\n",
    "\n",
    "    return _filter(\n",
    "            self.transition_matrices,\n",
    "            self.obs_matrices,\n",
    "            self.transition_cov,\n",
    "            self.obs_cov,\n",
    "            self.transition_offsets,\n",
    "            self.obs_offsets,\n",
    "            self.initial_state_mean,\n",
    "            self.initial_state_cov,\n",
    "            obs,\n",
    "            obs_mask\n",
    "        )\n",
    "        "
   ]
  },
  {
   "cell_type": "markdown",
   "id": "9a7cc203-603a-4804-a9d7-c424e4dbfb89",
   "metadata": {},
   "source": [
    "#### Final Testing"
   ]
  },
  {
   "cell_type": "code",
   "execution_count": null,
   "id": "5a3d5e52-1bdc-4dbe-a19f-2f428795e78a",
   "metadata": {},
   "outputs": [
    {
     "data": {
      "text/plain": [
       "ListNormal(mean=tensor([[0.5000000000],\n",
       "        [1.3999999762],\n",
       "        [2.3846154213]]), cov=tensor([[[0.5000000596]],\n",
       "\n",
       "        [[0.6000001431]],\n",
       "\n",
       "        [[0.6153846979]]]))"
      ]
     },
     "execution_count": null,
     "metadata": {},
     "output_type": "execute_result"
    }
   ],
   "source": [
    "k.filter(X)"
   ]
  },
  {
   "cell_type": "code",
   "execution_count": null,
   "id": "900b89cf-3a35-4393-9a6d-a4ca85ea2247",
   "metadata": {},
   "outputs": [],
   "source": [
    "test_close(\n",
    "    pyk.filter(X.numpy()),\n",
    "    k.filter(X)\n",
    ")"
   ]
  },
  {
   "cell_type": "code",
   "execution_count": null,
   "id": "b0922900-208e-443b-97bd-24a2ff1f4f50",
   "metadata": {},
   "outputs": [],
   "source": [
    "test_close(\n",
    "    pyk2.filter(nX2),\n",
    "    k2.filter(X2)\n",
    ")"
   ]
  },
  {
   "cell_type": "code",
   "execution_count": null,
   "id": "a6b14d00-9ee7-4e67-9cc0-e40be8c63a70",
   "metadata": {},
   "outputs": [
    {
     "data": {
      "text/plain": [
       "ListNormal(mean=tensor([[ 0.0000000000,  0.0000000000],\n",
       "        [ 1.3333332539, 13.3333320618],\n",
       "        [ 1.3333332539, 13.3333320618],\n",
       "        [ 3.2727272511, 32.7272720337]]), cov=tensor([[[1.0000001192, 0.0000000000],\n",
       "         [0.0000000000, 1.0000001192]],\n",
       "\n",
       "        [[0.6666668653, 0.0000000000],\n",
       "         [0.0000000000, 0.6666668653]],\n",
       "\n",
       "        [[1.6666669846, 0.0000000000],\n",
       "         [0.0000000000, 1.6666669846]],\n",
       "\n",
       "        [[0.7272727489, 0.0000000000],\n",
       "         [0.0000000000, 0.7272727489]]]))"
      ]
     },
     "execution_count": null,
     "metadata": {},
     "output_type": "execute_result"
    }
   ],
   "source": [
    "k2.filter(X2m)"
   ]
  },
  {
   "cell_type": "code",
   "execution_count": null,
   "id": "5f97a343-1841-4a36-950f-826103a8d19e",
   "metadata": {},
   "outputs": [],
   "source": [
    "test_close(\n",
    "    pyk.filter(X.numpy()),\n",
    "    k.filter(X)\n",
    ")"
   ]
  },
  {
   "cell_type": "code",
   "execution_count": null,
   "id": "b08aba5f-0260-47e9-954c-2e8c2be2bb5f",
   "metadata": {},
   "outputs": [],
   "source": [
    "test_close(\n",
    "    pyk2.filter(nX2),\n",
    "    k2.filter(X2)\n",
    ")"
   ]
  },
  {
   "cell_type": "code",
   "execution_count": null,
   "id": "86705b39-0379-41e1-a8ad-eeb770362fee",
   "metadata": {},
   "outputs": [],
   "source": [
    "test_close(\n",
    "    pyk2.filter(nX2m),\n",
    "    k2.filter(X2m)\n",
    ")"
   ]
  },
  {
   "cell_type": "markdown",
   "id": "f8d2f1bf-34cd-4e87-a239-2662f6689a53",
   "metadata": {},
   "source": [
    "### Smooth"
   ]
  },
  {
   "cell_type": "markdown",
   "id": "ff2a1878-4e69-4ead-a7b8-cf7dbae5d13e",
   "metadata": {},
   "source": [
    "#### Smooth step"
   ]
  },
  {
   "cell_type": "code",
   "execution_count": null,
   "id": "57d5c739-3863-40a5-8b96-1ee12c476ca9",
   "metadata": {},
   "outputs": [],
   "source": [
    "#| export\n",
    "def _smooth_update(transition_matrix,      # [n_dim_state, n_dim_state]\n",
    "                   filt_state: Normal, # [n_dim_state] filtered state at time `t`\n",
    "                   pred_state: Normal,        # [n_dim_state] state before filtering at time `t + 1` (= using the observation until time t)\n",
    "                   next_smoothed_state: Normal, # [n_dim_state] smoothed state at time  `t+1`\n",
    "                   ) -> Normal: # mean and cov of smoothed state at time `t`\n",
    "    r\"\"\"Correct a pred state with a Kalman Smoother update\n",
    "\n",
    "    Calculates posterior distribution of the hidden state at time `t` given the the observations via Kalman Smoothing.\n",
    "    \"\"\"\n",
    "    kalman_smoothing_gain = filt_state.cov @ transition_matrix.T @ torch.inverse(pred_state.cov)\n",
    "\n",
    "    smoothed_state_mean = filt_state.mean + kalman_smoothing_gain @ (next_smoothed_state.mean - pred_state.mean)\n",
    "    smoothed_state_cov = (filt_state.cov\n",
    "                      + kalman_smoothing_gain @ (next_smoothed_state.cov - pred_state.cov) @ kalman_smoothing_gain.T)\n",
    "\n",
    "    check_posdef(smoothed_state_cov, 'smooth_state')\n",
    "    \n",
    "    return ListNormal(smoothed_state_mean, smoothed_state_cov,)"
   ]
  },
  {
   "cell_type": "code",
   "execution_count": null,
   "id": "561b2765-ea53-486e-93d8-d600cb20c7c5",
   "metadata": {},
   "outputs": [],
   "source": [
    "args_np_sm = {\n",
    "    'pred_state_m': np.zeros(2),\n",
    "    'pred_state_cov': np.eye(2),\n",
    "    'filt_state_m': np.zeros(2),\n",
    "    'filt_state_cov': np.eye(2),\n",
    "    'next_state_m': np.zeros(2),\n",
    "    'next_state_cov': np.eye(2),\n",
    "    'trans_m': np.eye(2),\n",
    "}\n",
    "\n",
    "args_torch_sm = {k: torch.tensor(v) for k,v in args_np_sm.items()}"
   ]
  },
  {
   "cell_type": "code",
   "execution_count": null,
   "id": "0bd12c2f-578b-40fd-8a8f-e2d52098badb",
   "metadata": {},
   "outputs": [],
   "source": [
    "pyk_mean, pyk_cov, _ = pykalman.standard._smooth_update(\n",
    "    args_np_sm['trans_m'],\n",
    "    args_np_sm['filt_state_m'],\n",
    "    args_np_sm['filt_state_cov'],\n",
    "    args_np_sm['pred_state_m'],\n",
    "    args_np_sm['pred_state_cov'],\n",
    "    args_np_sm['next_state_m'],\n",
    "    args_np_sm['next_state_cov'],\n",
    ")"
   ]
  },
  {
   "cell_type": "code",
   "execution_count": null,
   "id": "18650e9f-ec71-4ab5-8c50-cfa631e87885",
   "metadata": {},
   "outputs": [],
   "source": [
    "torch_k = _smooth_update(\n",
    "    args_torch_sm['trans_m'],\n",
    "    Normal(args_torch_sm['filt_state_m'], args_torch_sm['filt_state_cov']),\n",
    "    Normal(args_torch_sm['pred_state_m'], args_torch_sm['pred_state_cov']),\n",
    "    Normal(args_torch_sm['next_state_m'], args_torch_sm['next_state_cov']),\n",
    ")"
   ]
  },
  {
   "cell_type": "code",
   "execution_count": null,
   "id": "a67b6580-dc0e-4fce-b682-1cb4b5107bd9",
   "metadata": {},
   "outputs": [],
   "source": [
    "test_close((pyk_mean, pyk_cov, ), torch_k)"
   ]
  },
  {
   "cell_type": "code",
   "execution_count": null,
   "id": "7c46309f-70f9-419f-91fc-607ec3e79d77",
   "metadata": {},
   "outputs": [],
   "source": [
    "#| export\n",
    "def _smooth(transition_matrices, # `[n_timesteps-1, n_dim_state, n_dim_state]` or `[n_dim_state, n_dim_state]`\n",
    "            filt_state: ListNormal, # `[n_timesteps, n_dim_state]`\n",
    "                # `filt_state_means[t]` = mean state estimate for time t given obs from times `[0...t]`\n",
    "            pred_state: ListNormal, # `[n_timesteps, n_dim_state]`\n",
    "                # `pred_state_means[t]` = mean state estimate for time t given obs from times `[0...t-1]`\n",
    "           ) -> ListNormal: # `[n_timesteps, n_dim_state]` Smoothed state \n",
    "    \"\"\"Apply the Kalman Smoother \"\"\"\n",
    "    n_timesteps, n_dim_state = len(pred_state.mean), pred_state.mean[0].shape[0]\n",
    "\n",
    "    smoothed_state = ListNormal(torch.zeros((n_timesteps,n_dim_state)), \n",
    "                                torch.zeros((n_timesteps, n_dim_state,\n",
    "                                           n_dim_state)))\n",
    "\n",
    "    smoothed_state.mean[-1] = filt_state.mean[-1]\n",
    "    smoothed_state.cov[-1] = filt_state.cov[-1]\n",
    "\n",
    "    for t in reversed(range(n_timesteps - 1)):\n",
    "        transition_matrix = _last_dims(transition_matrices, t)\n",
    "        (smoothed_state.mean[t], smoothed_state.cov[t]) = (\n",
    "            _smooth_update(\n",
    "                transition_matrix,\n",
    "                filt_state.get_nth(t),\n",
    "                pred_state.get_nth(t + 1),\n",
    "                smoothed_state.get_nth(t+1)\n",
    "            )\n",
    "        )\n",
    "    return smoothed_state"
   ]
  },
  {
   "cell_type": "code",
   "execution_count": null,
   "id": "78f79457-da68-429c-8edd-860860380cbc",
   "metadata": {},
   "outputs": [],
   "source": [
    "(pred_state_means, pred_state_covs, filt_state_means, filt_state_covs ) = k2._filter_all(X2m)"
   ]
  },
  {
   "cell_type": "code",
   "execution_count": null,
   "id": "5475b7ee-c9df-4aca-b490-2f4a2b331d4e",
   "metadata": {},
   "outputs": [],
   "source": [
    "torch_smooth = _smooth(k2.transition_matrices,  ListNormal(filt_state_means, filt_state_covs), ListNormal(pred_state_means, pred_state_covs))"
   ]
  },
  {
   "cell_type": "code",
   "execution_count": null,
   "id": "dd2311f7-de58-4212-b1c3-0fb840c90072",
   "metadata": {},
   "outputs": [],
   "source": [
    "pyk_sm_mean, pyk_sm_cov, _ = pykalman.standard._smooth(k2.transition_matrices.detach().numpy(),\n",
    "                          _stack_detach(filt_state_means).numpy(), _stack_detach(filt_state_covs).numpy(),\n",
    "                          _stack_detach(pred_state_means).numpy(), _stack_detach(pred_state_covs).numpy())"
   ]
  },
  {
   "cell_type": "code",
   "execution_count": null,
   "id": "46ce62c8-a8df-4f67-b49a-3e4781e9fba9",
   "metadata": {},
   "outputs": [],
   "source": [
    "test_close((pyk_sm_mean, pyk_sm_cov,), torch_smooth)"
   ]
  },
  {
   "cell_type": "code",
   "execution_count": null,
   "id": "16df8533-f01d-4b04-8917-67efd7719281",
   "metadata": {},
   "outputs": [
    {
     "data": {
      "text/plain": [
       "ListNormal(mean=tensor([[ 0.9090909362,  9.0909090042],\n",
       "        [ 1.8181818724, 18.1818180084],\n",
       "        [ 2.5454545021, 25.4545459747],\n",
       "        [ 3.2727272511, 32.7272720337]], grad_fn=<CopySlices>), cov=tensor([[[0.6363637447, 0.0000000000],\n",
       "         [0.0000000000, 0.6363637447]],\n",
       "\n",
       "        [[0.5454546809, 0.0000000000],\n",
       "         [0.0000000000, 0.5454546809]],\n",
       "\n",
       "        [[0.9090909958, 0.0000000000],\n",
       "         [0.0000000000, 0.9090909958]],\n",
       "\n",
       "        [[0.7272727489, 0.0000000000],\n",
       "         [0.0000000000, 0.7272727489]]], grad_fn=<CopySlices>))"
      ]
     },
     "execution_count": null,
     "metadata": {},
     "output_type": "execute_result"
    }
   ],
   "source": [
    "torch_smooth"
   ]
  },
  {
   "cell_type": "markdown",
   "id": "bc0299de-69cf-4351-ba84-12871662230b",
   "metadata": {},
   "source": [
    "#### KalmanFilter method"
   ]
  },
  {
   "cell_type": "code",
   "execution_count": null,
   "id": "808bcd96-9e98-4e4f-9b85-cdfb98cb9709",
   "metadata": {},
   "outputs": [],
   "source": [
    "#| export\n",
    "@patch\n",
    "def smooth(self: KalmanFilter,\n",
    "           X: Tensor, # dataset\n",
    "           mask = None\n",
    "          ) -> Tuple[Tensor, Tensor]:\n",
    "                # `smoothed_state_means` : `[n_timesteps, n_dim_state]`\n",
    "                    # mean of hidden state distributions for times `[0...n_timesteps-1]`\n",
    "                # `smoothed_state_covs` : `[n_timesteps, n_dim_state]`\n",
    "                    # covs of hidden state distributions for times `[0...n_timesteps-1]`\n",
    "        \n",
    "    \"\"\"Smoothing for prediction (no gradients)\"\"\"\n",
    "\n",
    "    (pred_state_means, pred_state_covs, filt_state_means, filt_state_covs) = (self._filter_all(X, mask))\n",
    "\n",
    "    return _smooth(\n",
    "            self.transition_matrices,\n",
    "            ListNormal(filt_state_means, filt_state_covs),\n",
    "            ListNormal(pred_state_means, pred_state_covs)\n",
    "        )\n",
    "\n",
    "  "
   ]
  },
  {
   "cell_type": "code",
   "execution_count": null,
   "id": "bc63fe46-f267-4538-a72b-997747df2391",
   "metadata": {},
   "outputs": [
    {
     "data": {
      "text/plain": [
       "ListNormal(mean=tensor([[0.9230769277],\n",
       "        [1.7692308426],\n",
       "        [2.3846154213]], grad_fn=<CopySlices>), cov=tensor([[[0.3846154213]],\n",
       "\n",
       "        [[0.4615385532]],\n",
       "\n",
       "        [[0.6153846979]]], grad_fn=<CopySlices>))"
      ]
     },
     "execution_count": null,
     "metadata": {},
     "output_type": "execute_result"
    }
   ],
   "source": [
    "k.smooth(X)"
   ]
  },
  {
   "cell_type": "markdown",
   "id": "419f58c1-4050-49df-bb52-e72507e40e28",
   "metadata": {},
   "source": [
    "#### Final Testing"
   ]
  },
  {
   "cell_type": "code",
   "execution_count": null,
   "id": "1f2e0b06-21fa-420e-9755-e4ecf74cddef",
   "metadata": {},
   "outputs": [],
   "source": [
    "test_close(\n",
    "    pyk.smooth(nX),\n",
    "    k.smooth(X).detach()\n",
    ")"
   ]
  },
  {
   "cell_type": "code",
   "execution_count": null,
   "id": "b406e5f0-2c60-41f3-8704-5f7d870050ca",
   "metadata": {},
   "outputs": [],
   "source": [
    "test_close(\n",
    "    pyk2.smooth(nX2),\n",
    "    k2.smooth(X2).detach()\n",
    ")"
   ]
  },
  {
   "cell_type": "code",
   "execution_count": null,
   "id": "812d3a40-ad1d-460c-81ff-f234f36d7937",
   "metadata": {},
   "outputs": [],
   "source": [
    "test_close(\n",
    "    pyk2.smooth(nX2m),\n",
    "    k2.smooth(X2m)\n",
    ")"
   ]
  },
  {
   "cell_type": "markdown",
   "id": "7e0600dd-9baf-4796-b3f5-4ae1c2239453",
   "metadata": {},
   "source": [
    "### Predict"
   ]
  },
  {
   "cell_type": "code",
   "execution_count": null,
   "id": "65cede76-c4df-4817-b6e1-5f53ee9f17bd",
   "metadata": {},
   "outputs": [],
   "source": [
    "#| export\n",
    "@patch\n",
    "def _obs_from_state(self: KalmanFilter, state_mean, state_cov, t):\n",
    "    obs_matrix = _last_dims(self.obs_matrices, t)\n",
    "    obs_offset = _last_dims(self.obs_offsets, t, ndims=1)\n",
    "\n",
    "    mean = obs_matrix @ state_mean\n",
    "    cov = obs_matrix @ state_cov @ obs_matrix.T + self.obs_cov\n",
    "    \n",
    "    \n",
    "    check_posdef(cov, 'prediction')\n",
    "    \n",
    "    return ListNormal(mean, cov)\n",
    "\n",
    "@patch\n",
    "def predict(self: KalmanFilter, X, times, mask=None, smooth=True):\n",
    "    state = self.smooth(X, mask) if smooth else self.filter(X, mask)\n",
    "    times = array1d(times)\n",
    "    \n",
    "    n_timesteps = X.shape[0]\n",
    "    n_features = X.shape[1] if len(X.shape) > 1 else 1\n",
    "    \n",
    "    if times.max() > n_timesteps or times.min() < 0:\n",
    "        raise ValueError(f\"provided times range from {times.min()} to {times.max()}, which is outside allowed range : 0 to {n_timesteps}\")\n",
    "\n",
    "    means = torch.empty((times.shape[0], n_features))\n",
    "    covs = torch.empty((times.shape[0], n_features, n_features)) \n",
    "    for i, t in enumerate(times):\n",
    "        mean, cov = self._obs_from_state(state.mean[t], state.cov[t], t)\n",
    "        means[i] = mean\n",
    "        covs[i] = cov\n",
    "    \n",
    "    \n",
    "    return ListNormal(means, covs)  "
   ]
  },
  {
   "cell_type": "code",
   "execution_count": null,
   "id": "8f3154aa-0d7e-476f-a8ce-e22c955224d1",
   "metadata": {},
   "outputs": [
    {
     "data": {
      "text/plain": [
       "ListNormal(mean=tensor([[1.7692308426],\n",
       "        [2.3846154213]], grad_fn=<CopySlices>), cov=tensor([[[1.4615386724]],\n",
       "\n",
       "        [[1.6153848171]]], grad_fn=<CopySlices>))"
      ]
     },
     "execution_count": null,
     "metadata": {},
     "output_type": "execute_result"
    }
   ],
   "source": [
    "k.predict(X, [1,2])"
   ]
  },
  {
   "cell_type": "markdown",
   "id": "efa10e27-c68e-4ab0-88f0-853dbb322e45",
   "metadata": {},
   "source": [
    "pykalman doesn't support a predict method"
   ]
  },
  {
   "cell_type": "markdown",
   "id": "5a91fcc3-b509-45de-b840-55134dc4f2bc",
   "metadata": {},
   "source": [
    "### Log Likelihood"
   ]
  },
  {
   "cell_type": "code",
   "execution_count": null,
   "id": "07f06335-9992-4a8c-bb90-fbc38d293c94",
   "metadata": {},
   "outputs": [],
   "source": [
    "#| export\n",
    "@patch\n",
    "def filter_loglikelihood(self: KalmanFilter, obs):\n",
    "    \"Compute log likelihood using only filter step\"\n",
    "    # Those are the means and covs before the updating step,\n",
    "    # otherwise the model would have already seen the observation that we are predicting \n",
    "    pred_state_mean, pred_state_cov, _, _ = self._filter_all(obs)\n",
    "    obs, obs_mask = self._parse_obs(obs)\n",
    "\n",
    "    max_t = obs.shape[0]\n",
    "    lls = torch.zeros(max_t)\n",
    "    for t in range(max_t):\n",
    "        if obs_mask[t]:\n",
    "            pred_obs_mean, pred_obs_cov = self._obs_from_state(pred_state_mean[t], pred_state_cov[t], t)\n",
    "            ll = MultivariateNormal(pred_obs_mean, pred_obs_cov, validate_args=False).log_prob(obs[t])\n",
    "            lls[t] = ll\n",
    "\n",
    "    return lls.sum()"
   ]
  },
  {
   "cell_type": "code",
   "execution_count": null,
   "id": "2a32ff25-51d4-496a-9b89-fecb437ea84d",
   "metadata": {},
   "outputs": [
    {
     "data": {
      "text/plain": [
       "tensor(-5.2315979004, grad_fn=<SumBackward0>)"
      ]
     },
     "execution_count": null,
     "metadata": {},
     "output_type": "execute_result"
    }
   ],
   "source": [
    "k.filter_loglikelihood(X)"
   ]
  },
  {
   "cell_type": "code",
   "execution_count": null,
   "id": "396b82cc-ffb7-4eae-96f6-056a24cc7628",
   "metadata": {},
   "outputs": [],
   "source": [
    "test_close(k.filter_loglikelihood(X), pyk.loglikelihood(nX))"
   ]
  },
  {
   "cell_type": "code",
   "execution_count": null,
   "id": "58a25819-08e7-4f50-a6c6-c4d395f79085",
   "metadata": {},
   "outputs": [
    {
     "data": {
      "text/plain": [
       "tensor(-181.6866760254, grad_fn=<SumBackward0>)"
      ]
     },
     "execution_count": null,
     "metadata": {},
     "output_type": "execute_result"
    }
   ],
   "source": [
    "k2.filter_loglikelihood(X2)"
   ]
  },
  {
   "cell_type": "code",
   "execution_count": null,
   "id": "9d2b80ee-ba54-46ad-b252-d2cbf4c94390",
   "metadata": {},
   "outputs": [],
   "source": [
    "test_close(k2.filter_loglikelihood(X2), pyk2.loglikelihood(nX2), eps=1e-4)"
   ]
  },
  {
   "cell_type": "markdown",
   "id": "b1f3036f-787d-4ef3-be4d-d92058696add",
   "metadata": {},
   "source": [
    "since the goal is to fill gaps we want the log likelihood for the whole gap and only for it"
   ]
  },
  {
   "cell_type": "code",
   "execution_count": null,
   "id": "d8b9303c-ef6e-4b78-82a7-30c4a2a3cabe",
   "metadata": {},
   "outputs": [],
   "source": [
    "#| export\n",
    "@patch\n",
    "def loglikelihood(self: KalmanFilter,\n",
    "                  obs_train: Tensor, # [n_timesteps, n_dim_obs] Observations use for the filter (can containt missing data)\n",
    "                  times: Tensor, # [n_pred_timesteps] time at which to calculate the log likelihood\n",
    "                  obs_test: Tensor # [n_pred_timesteps, n_dim_obs] observed data to compute log likelihood\n",
    "                 ) -> Tensor: # scalar that is sum of log likelihoods for all `times`\n",
    "    \"Log likelihood only for the `obs_test` at giben times\"\n",
    "    means, covs = self.predict(obs_train, times)\n",
    "    lls = torch.zeros(len(times))\n",
    "    for t in range(len(times)):\n",
    "        lls[t] = MultivariateNormal(means[t], covs[t], validate_args=False).log_prob(obs_test[t:t+1])\n",
    "    return lls.sum() \n",
    "        "
   ]
  },
  {
   "cell_type": "code",
   "execution_count": null,
   "id": "79d48123-6172-4e14-8cc4-5e669c6831f8",
   "metadata": {},
   "outputs": [
    {
     "data": {
      "text/plain": [
       "tensor(-2.4028429985, grad_fn=<SumBackward0>)"
      ]
     },
     "execution_count": null,
     "metadata": {},
     "output_type": "execute_result"
    }
   ],
   "source": [
    "k.loglikelihood(X, [1,2], X[[1,2]])"
   ]
  },
  {
   "cell_type": "code",
   "execution_count": null,
   "id": "9883119c-ce1f-446e-a4f0-42b3ffcdfb5c",
   "metadata": {},
   "outputs": [
    {
     "data": {
      "text/plain": [
       "tensor(-6.6008620262, grad_fn=<SumBackward0>)"
      ]
     },
     "execution_count": null,
     "metadata": {},
     "output_type": "execute_result"
    }
   ],
   "source": [
    "k2.loglikelihood(X2, [1,2], X2[[1,2]])"
   ]
  },
  {
   "cell_type": "code",
   "execution_count": null,
   "id": "b835c9a6-6e3a-4753-876e-630500d10794",
   "metadata": {},
   "outputs": [
    {
     "data": {
      "text/plain": [
       "tensor(-11.3032798767, grad_fn=<SumBackward0>)"
      ]
     },
     "execution_count": null,
     "metadata": {},
     "output_type": "execute_result"
    }
   ],
   "source": [
    "k2.loglikelihood(X2m, [1,2], X2[[1,2]])"
   ]
  },
  {
   "cell_type": "markdown",
   "id": "f8708fc6-9dfc-4ac8-a28a-68be7f873a32",
   "metadata": {},
   "source": [
    "### Get Info"
   ]
  },
  {
   "cell_type": "code",
   "execution_count": null,
   "id": "0f3e61b7-e11e-434a-af78-4396263c9ea1",
   "metadata": {},
   "outputs": [],
   "source": [
    "#| export\n",
    "@patch\n",
    "def get_info(self: KalmanFilter, var_names=None):\n",
    "    out = {}\n",
    "    if var_names is not None: self.var_names = var_names \n",
    "    latent_names = [f\"z_{i}\" for i in range(self.transition_matrices.shape[0])]\n",
    "    out['A'] = array2df(self.transition_matrices, latent_names, latent_names, 'latent')\n",
    "    out['H'] = array2df(self.obs_matrices,        var_names,    latent_names, 'variable')\n",
    "    out['R'] = array2df(self.obs_cov,             var_names,    var_names,     'variable')\n",
    "    out['Q'] = array2df(self.transition_cov,      latent_names, latent_names, 'latent')\n",
    "    return out"
   ]
  },
  {
   "cell_type": "code",
   "execution_count": null,
   "id": "44427c87-ef2c-4624-ab56-408316a71a5e",
   "metadata": {},
   "outputs": [
    {
     "data": {
      "text/html": [
       "<p style='font-size: 1.5rem; font-decoration: bold'><p><div style=\"display: flex; column-gap: 20px; flex-wrap: wrap;\" class='table table-striped table-sm'> <div> <p style='font-size: 1.3rem;'>A</p> <style type=\"text/css\">\n",
       "</style>\n",
       "<table id=\"T_b3b2e\">\n",
       "  <thead>\n",
       "    <tr>\n",
       "      <th id=\"T_b3b2e_level0_col0\" class=\"col_heading level0 col0\" >latent</th>\n",
       "      <th id=\"T_b3b2e_level0_col1\" class=\"col_heading level0 col1\" >z_0</th>\n",
       "    </tr>\n",
       "  </thead>\n",
       "  <tbody>\n",
       "    <tr>\n",
       "      <td id=\"T_b3b2e_row0_col0\" class=\"data row0 col0\" >z_0</td>\n",
       "      <td id=\"T_b3b2e_row0_col1\" class=\"data row0 col1\" >1.0000</td>\n",
       "    </tr>\n",
       "  </tbody>\n",
       "</table>\n",
       " </div><div> <p style='font-size: 1.3rem;'>H</p> <style type=\"text/css\">\n",
       "</style>\n",
       "<table id=\"T_d7745\">\n",
       "  <thead>\n",
       "    <tr>\n",
       "      <th id=\"T_d7745_level0_col0\" class=\"col_heading level0 col0\" >z_0</th>\n",
       "    </tr>\n",
       "  </thead>\n",
       "  <tbody>\n",
       "    <tr>\n",
       "      <td id=\"T_d7745_row0_col0\" class=\"data row0 col0\" >1.0000</td>\n",
       "    </tr>\n",
       "  </tbody>\n",
       "</table>\n",
       " </div><div> <p style='font-size: 1.3rem;'>R</p> <style type=\"text/css\">\n",
       "</style>\n",
       "<table id=\"T_9dcfe\">\n",
       "  <thead>\n",
       "    <tr>\n",
       "      <th id=\"T_9dcfe_level0_col0\" class=\"col_heading level0 col0\" >0</th>\n",
       "    </tr>\n",
       "  </thead>\n",
       "  <tbody>\n",
       "    <tr>\n",
       "      <td id=\"T_9dcfe_row0_col0\" class=\"data row0 col0\" >1.0000</td>\n",
       "    </tr>\n",
       "  </tbody>\n",
       "</table>\n",
       " </div><div> <p style='font-size: 1.3rem;'>Q</p> <style type=\"text/css\">\n",
       "</style>\n",
       "<table id=\"T_77061\">\n",
       "  <thead>\n",
       "    <tr>\n",
       "      <th id=\"T_77061_level0_col0\" class=\"col_heading level0 col0\" >latent</th>\n",
       "      <th id=\"T_77061_level0_col1\" class=\"col_heading level0 col1\" >z_0</th>\n",
       "    </tr>\n",
       "  </thead>\n",
       "  <tbody>\n",
       "    <tr>\n",
       "      <td id=\"T_77061_row0_col0\" class=\"data row0 col0\" >z_0</td>\n",
       "      <td id=\"T_77061_row0_col1\" class=\"data row0 col1\" >1.0000</td>\n",
       "    </tr>\n",
       "  </tbody>\n",
       "</table>\n",
       " </div></div>"
      ],
      "text/plain": [
       "<IPython.core.display.HTML object>"
      ]
     },
     "metadata": {},
     "output_type": "display_data"
    }
   ],
   "source": [
    "display_as_row(k.get_info())"
   ]
  },
  {
   "cell_type": "code",
   "execution_count": null,
   "id": "27d8ec68-38ff-47ce-9ead-927a2e1179e0",
   "metadata": {},
   "outputs": [
    {
     "data": {
      "text/html": [
       "<p style='font-size: 1.5rem; font-decoration: bold'><p><div style=\"display: flex; column-gap: 20px; flex-wrap: wrap;\" class='table table-striped table-sm'> <div> <p style='font-size: 1.3rem;'>A</p> <style type=\"text/css\">\n",
       "</style>\n",
       "<table id=\"T_513e2\">\n",
       "  <thead>\n",
       "    <tr>\n",
       "      <th id=\"T_513e2_level0_col0\" class=\"col_heading level0 col0\" >latent</th>\n",
       "      <th id=\"T_513e2_level0_col1\" class=\"col_heading level0 col1\" >z_0</th>\n",
       "      <th id=\"T_513e2_level0_col2\" class=\"col_heading level0 col2\" >z_1</th>\n",
       "    </tr>\n",
       "  </thead>\n",
       "  <tbody>\n",
       "    <tr>\n",
       "      <td id=\"T_513e2_row0_col0\" class=\"data row0 col0\" >z_0</td>\n",
       "      <td id=\"T_513e2_row0_col1\" class=\"data row0 col1\" >1.0000</td>\n",
       "      <td id=\"T_513e2_row0_col2\" class=\"data row0 col2\" >0.0000</td>\n",
       "    </tr>\n",
       "    <tr>\n",
       "      <td id=\"T_513e2_row1_col0\" class=\"data row1 col0\" >z_1</td>\n",
       "      <td id=\"T_513e2_row1_col1\" class=\"data row1 col1\" >0.0000</td>\n",
       "      <td id=\"T_513e2_row1_col2\" class=\"data row1 col2\" >1.0000</td>\n",
       "    </tr>\n",
       "  </tbody>\n",
       "</table>\n",
       " </div><div> <p style='font-size: 1.3rem;'>H</p> <style type=\"text/css\">\n",
       "</style>\n",
       "<table id=\"T_f7913\">\n",
       "  <thead>\n",
       "    <tr>\n",
       "      <th id=\"T_f7913_level0_col0\" class=\"col_heading level0 col0\" >z_0</th>\n",
       "      <th id=\"T_f7913_level0_col1\" class=\"col_heading level0 col1\" >z_1</th>\n",
       "    </tr>\n",
       "  </thead>\n",
       "  <tbody>\n",
       "    <tr>\n",
       "      <td id=\"T_f7913_row0_col0\" class=\"data row0 col0\" >1.0000</td>\n",
       "      <td id=\"T_f7913_row0_col1\" class=\"data row0 col1\" >0.0000</td>\n",
       "    </tr>\n",
       "    <tr>\n",
       "      <td id=\"T_f7913_row1_col0\" class=\"data row1 col0\" >0.0000</td>\n",
       "      <td id=\"T_f7913_row1_col1\" class=\"data row1 col1\" >1.0000</td>\n",
       "    </tr>\n",
       "  </tbody>\n",
       "</table>\n",
       " </div><div> <p style='font-size: 1.3rem;'>R</p> <style type=\"text/css\">\n",
       "</style>\n",
       "<table id=\"T_4ab5b\">\n",
       "  <thead>\n",
       "    <tr>\n",
       "      <th id=\"T_4ab5b_level0_col0\" class=\"col_heading level0 col0\" >0</th>\n",
       "      <th id=\"T_4ab5b_level0_col1\" class=\"col_heading level0 col1\" >1</th>\n",
       "    </tr>\n",
       "  </thead>\n",
       "  <tbody>\n",
       "    <tr>\n",
       "      <td id=\"T_4ab5b_row0_col0\" class=\"data row0 col0\" >1.0000</td>\n",
       "      <td id=\"T_4ab5b_row0_col1\" class=\"data row0 col1\" >0.0000</td>\n",
       "    </tr>\n",
       "    <tr>\n",
       "      <td id=\"T_4ab5b_row1_col0\" class=\"data row1 col0\" >0.0000</td>\n",
       "      <td id=\"T_4ab5b_row1_col1\" class=\"data row1 col1\" >1.0000</td>\n",
       "    </tr>\n",
       "  </tbody>\n",
       "</table>\n",
       " </div><div> <p style='font-size: 1.3rem;'>Q</p> <style type=\"text/css\">\n",
       "</style>\n",
       "<table id=\"T_60468\">\n",
       "  <thead>\n",
       "    <tr>\n",
       "      <th id=\"T_60468_level0_col0\" class=\"col_heading level0 col0\" >latent</th>\n",
       "      <th id=\"T_60468_level0_col1\" class=\"col_heading level0 col1\" >z_0</th>\n",
       "      <th id=\"T_60468_level0_col2\" class=\"col_heading level0 col2\" >z_1</th>\n",
       "    </tr>\n",
       "  </thead>\n",
       "  <tbody>\n",
       "    <tr>\n",
       "      <td id=\"T_60468_row0_col0\" class=\"data row0 col0\" >z_0</td>\n",
       "      <td id=\"T_60468_row0_col1\" class=\"data row0 col1\" >1.0000</td>\n",
       "      <td id=\"T_60468_row0_col2\" class=\"data row0 col2\" >0.0000</td>\n",
       "    </tr>\n",
       "    <tr>\n",
       "      <td id=\"T_60468_row1_col0\" class=\"data row1 col0\" >z_1</td>\n",
       "      <td id=\"T_60468_row1_col1\" class=\"data row1 col1\" >0.0000</td>\n",
       "      <td id=\"T_60468_row1_col2\" class=\"data row1 col2\" >1.0000</td>\n",
       "    </tr>\n",
       "  </tbody>\n",
       "</table>\n",
       " </div></div>"
      ],
      "text/plain": [
       "<IPython.core.display.HTML object>"
      ]
     },
     "metadata": {},
     "output_type": "display_data"
    }
   ],
   "source": [
    "display_as_row(k2.get_info())"
   ]
  },
  {
   "cell_type": "markdown",
   "id": "86e751b6-5a43-4db6-8117-b14f542e8d31",
   "metadata": {},
   "source": [
    "## Train Parameters"
   ]
  },
  {
   "cell_type": "markdown",
   "id": "4d6504ca-96b5-4c33-89b4-07e2709f0b2d",
   "metadata": {},
   "source": [
    "This implementation of `KalmanFilter` allows to find the optimal parameters by maximising the log-likelihood using gradient descend"
   ]
  },
  {
   "cell_type": "code",
   "execution_count": null,
   "id": "880f4455-b74f-433e-82a0-7faf2feb90c7",
   "metadata": {},
   "outputs": [],
   "source": [
    "training_iter = 200\n",
    "k = KalmanFilter()\n",
    "k.train()\n",
    "\n",
    "optimizer = torch.optim.Adam(k.parameters(), lr=0.005) \n",
    "\n",
    "losses = []\n",
    "for i in range(training_iter):\n",
    "    # Zero gradients from previous iteration\n",
    "    optimizer.zero_grad()\n",
    "    # Output from model\n",
    "    loss = - k.loglikelihood(X, range(len(X)), X)\n",
    "    losses.append(loss.item())\n",
    "    # backpropagate gradients\n",
    "    loss.backward()\n",
    "    optimizer.step()"
   ]
  },
  {
   "cell_type": "code",
   "execution_count": null,
   "id": "3000d77e-5bc2-411f-aaee-45561541e459",
   "metadata": {},
   "outputs": [],
   "source": [
    "import matplotlib.pyplot as plt"
   ]
  },
  {
   "cell_type": "code",
   "execution_count": null,
   "id": "a58bed23-d408-4fdf-a8dd-684782c9f30b",
   "metadata": {},
   "outputs": [
    {
     "data": {
      "text/plain": [
       "[<matplotlib.lines.Line2D>]"
      ]
     },
     "execution_count": null,
     "metadata": {},
     "output_type": "execute_result"
    },
    {
     "data": {
      "image/png": "[encoded data removed]",
      "text/plain": [
       "<Figure size 432x288 with 1 Axes>"
      ]
     },
     "metadata": {
      "needs_background": "light"
     },
     "output_type": "display_data"
    }
   ],
   "source": [
    "plt.plot(losses)"
   ]
  },
  {
   "cell_type": "code",
   "execution_count": null,
   "id": "5f14ff35-cdd1-4b65-bdc8-4b863a3829ac",
   "metadata": {},
   "outputs": [
    {
     "data": {
      "text/plain": [
       "[Parameter containing:\n",
       " tensor([[1.3399666548]], requires_grad=True),\n",
       " Parameter containing:\n",
       " tensor([0.4287088215], requires_grad=True),\n",
       " Parameter containing:\n",
       " tensor([[0.1471098363]], requires_grad=True),\n",
       " Parameter containing:\n",
       " tensor([[0.1456232816]], requires_grad=True),\n",
       " Parameter containing:\n",
       " tensor([-0.4133742750], requires_grad=True),\n",
       " Parameter containing:\n",
       " tensor([[0.0269221999]], requires_grad=True),\n",
       " Parameter containing:\n",
       " tensor([0.4979344904], requires_grad=True),\n",
       " Parameter containing:\n",
       " tensor([[0.1377777308]], requires_grad=True)]"
      ]
     },
     "execution_count": null,
     "metadata": {},
     "output_type": "execute_result"
    }
   ],
   "source": [
    "list(k.parameters())"
   ]
  },
  {
   "cell_type": "markdown",
   "id": "f9c4a0b2-8726-4365-8938-5fcd07870433",
   "metadata": {},
   "source": [
    "## Other"
   ]
  },
  {
   "cell_type": "markdown",
   "id": "2b66596a-16d3-40c2-8f26-82e4774972b4",
   "metadata": {},
   "source": [
    "### Testing"
   ]
  },
  {
   "cell_type": "markdown",
   "id": "669ab60a-dc18-4d29-b217-6fb2bb3434f5",
   "metadata": {},
   "source": [
    "#### Random Testing"
   ]
  },
  {
   "cell_type": "markdown",
   "id": "bff9ee73-f667-434a-8908-0890e662adb2",
   "metadata": {},
   "source": [
    "The goal is to generate random set of data and parameters and check that `meteo_imp` implementation is the same of `pykalman` implementation"
   ]
  },
  {
   "cell_type": "code",
   "execution_count": null,
   "id": "145f9002-9ab4-4493-b37d-653b12fc0e4e",
   "metadata": {},
   "outputs": [
    {
     "ename": "AssertionError",
     "evalue": "close:\nListNormal(mean=tensor([[-1.2009022236, -1.2801513672,  0.1241119504],\n        [-3.8901658058, -2.4111485481, -0.8129007816],\n        [-1.6905851364, -0.3650660515, -0.3619496822],\n        [-2.5982863903, -1.7156119347, -0.5184043050],\n        [-2.4914917946, -1.1824398041, -0.2795265913],\n        [-2.7925603390, -1.5949568748, -0.6703749895],\n        [-2.6015672684, -1.4078283310, -0.2451970577],\n        [-1.5200183392, -0.3549404144, -0.2891225815],\n        [-3.2590429783, -2.2824332714, -0.5310008526],\n        [-3.6384706497, -2.0416266918, -0.9887318611]]), cov=tensor([[[ 0.3472036123, -0.0683073401,  0.1338070631],\n         [-0.0683072805,  0.0863315463,  0.0947744697],\n         [ 0.1338073611,  0.0947746634,  0.2892773747]],\n\n        [[ 0.1643971205, -0.0475280285,  0.0211700201],\n         [-0.0475286245,  0.0876121521,  0.1135705709],\n         [ 0.0211695433,  0.1135703325,  0.2298628092]],\n\n        [[ 0.1573194265, -0.0424685478,  0.0247406960],\n         [-0.0424683094,  0.0855915546,  0.1140730977],\n         [ 0.0247405767,  0.1140727997,  0.2339072824]],\n\n        [[ 0.1558591127, -0.0425919294,  0.0232368708],\n         [-0.0425928831,  0.0857753754,  0.1143169403],\n         [ 0.0232368708,  0.1143174767,  0.2330735326]],\n\n        [[ 0.1558748484, -0.0425101519,  0.0234071016],\n         [-0.0425082445,  0.0857435465,  0.1143236160],\n         [ 0.0234082937,  0.1143231988,  0.2332308888]],\n\n        [[ 0.1558543444, -0.0425169468,  0.0233772993],\n         [-0.0425186157,  0.0857468843,  0.1143287420],\n         [ 0.0233768225,  0.1143294573,  0.2332190275]],\n\n        [[ 0.1558558941, -0.0425149202,  0.0233823061],\n         [-0.0425155163,  0.0857477188,  0.1143304706],\n         [ 0.0233811140,  0.1143296361,  0.2332245708]],\n\n        [[ 0.1558552980, -0.0425153971,  0.0233815908],\n         [-0.0425143242,  0.0857490301,  0.1143317819],\n         [ 0.0233824253,  0.1143317819,  0.2332261801]],\n\n        [[ 0.1558542252, -0.0425165892,  0.0233813524],\n         [-0.0425162315,  0.0857474804,  0.1143308878],\n         [ 0.0233820677,  0.1143313050,  0.2332265973]],\n\n        [[ 0.1558538675, -0.0425165892,  0.0233809948],\n         [-0.0425153971,  0.0857479572,  0.1143310666],\n         [ 0.0233814716,  0.1143307686,  0.2332261205]]]))\n(array([[  0.71042877,   0.94641107,   0.78902978],\n       [  1.92803618,   2.45976525,   2.26926376],\n       [  4.95374677,   5.10817505,   5.17529063],\n       [ 11.15915605,  10.7910412 ,  10.78739933],\n       [ 23.98251596,  22.33508026,  22.16940575],\n       [ 50.21677144,  45.98334589,  45.32922037],\n       [103.86775898,  94.30006309,  92.61654208],\n       [ -1.32682885,  -0.40268798,  -0.24463774],\n       [ -1.49955841,  -0.6424668 ,  -0.29658616],\n       [ -1.89124012,  -0.93300401,  -0.58007377]]), array([[[ 1.04860151e+00,  3.69115502e-01,  7.14780211e-01],\n        [ 3.69115502e-01,  6.06538773e-01,  2.58653879e-01],\n        [ 7.14780211e-01,  2.58653879e-01,  9.36298490e-01]],\n\n       [[ 4.34874941e+00,  3.89442119e+00,  3.11272000e+00],\n        [ 3.89442119e+00,  3.91523869e+00,  3.09176558e+00],\n        [ 3.11272000e+00,  3.09176558e+00,  2.69882315e+00]],\n\n       [[ 1.92429042e+01,  1.67171331e+01,  1.57188915e+01],\n        [ 1.67171331e+01,  1.48278915e+01,  1.38883898e+01],\n        [ 1.57188915e+01,  1.38883898e+01,  1.33839370e+01]],\n\n       [[ 7.83232702e+01,  7.02158902e+01,  6.71286132e+01],\n        [ 7.02158902e+01,  6.32616225e+01,  6.04584350e+01],\n        [ 6.71286132e+01,  6.04584350e+01,  5.81248184e+01]],\n\n       [[ 3.25157197e+02,  2.91908722e+02,  2.83768512e+02],\n        [ 2.91908722e+02,  2.62368655e+02,  2.55028962e+02],\n        [ 2.83768512e+02,  2.55028962e+02,  2.48266140e+02]],\n\n       [[ 1.35248117e+03,  1.21714711e+03,  1.18769936e+03],\n        [ 1.21714711e+03,  1.09566566e+03,  1.06913710e+03],\n        [ 1.18769936e+03,  1.06913710e+03,  1.04362553e+03]],\n\n       [[ 5.64132784e+03,  5.07873007e+03,  4.96416141e+03],\n        [ 5.07873007e+03,  4.57254956e+03,  4.46938003e+03],\n        [ 4.96416141e+03,  4.46938003e+03,  4.36891734e+03]],\n\n       [[ 1.81025162e-01, -3.21083720e-02,  6.28513364e-02],\n        [-3.21083768e-02,  1.04132003e-01,  1.58419690e-01],\n        [ 6.28514668e-02,  1.58419811e-01,  3.49900711e-01]],\n\n       [[ 2.00838375e+00,  1.70018234e+00,  1.24325485e+00],\n        [ 1.70018242e+00,  1.72931460e+00,  1.27189983e+00],\n        [ 1.24325501e+00,  1.27189992e+00,  1.17847363e+00]],\n\n       [[ 9.28740350e+00,  7.97332777e+00,  7.14770899e+00],\n        [ 7.97332779e+00,  7.13895483e+00,  6.37338543e+00],\n        [ 7.14770919e+00,  6.37338559e+00,  5.99379479e+00]]]))",
     "output_type": "error",
     "traceback": [
      "\u001b[0;31m---------------------------------------------------------------------------\u001b[0m",
      "\u001b[0;31mAssertionError\u001b[0m                            Traceback (most recent call last)",
      "Input \u001b[0;32mIn [433]\u001b[0m, in \u001b[0;36m<cell line: 1>\u001b[0;34m()\u001b[0m\n\u001b[0;32m----> 1\u001b[0m \u001b[43mtest_close\u001b[49m\u001b[43m(\u001b[49m\n\u001b[1;32m      2\u001b[0m \u001b[43m    \u001b[49m\u001b[43mtst\u001b[49m\u001b[38;5;241;43m.\u001b[39;49m\u001b[43mfilter\u001b[49m\u001b[38;5;241;43m.\u001b[39;49m\u001b[43mfilter\u001b[49m\u001b[43m(\u001b[49m\u001b[43mtst\u001b[49m\u001b[38;5;241;43m.\u001b[39;49m\u001b[43mdata\u001b[49m\u001b[43m,\u001b[49m\u001b[43m \u001b[49m\u001b[43mtst\u001b[49m\u001b[38;5;241;43m.\u001b[39;49m\u001b[43mmask_torch\u001b[49m\u001b[43m)\u001b[49m\u001b[43m,\u001b[49m\n\u001b[1;32m      3\u001b[0m \u001b[43m    \u001b[49m\u001b[43mtst\u001b[49m\u001b[38;5;241;43m.\u001b[39;49m\u001b[43mfilter_pyk\u001b[49m\u001b[38;5;241;43m.\u001b[39;49m\u001b[43mfilter\u001b[49m\u001b[43m(\u001b[49m\u001b[43mtst\u001b[49m\u001b[38;5;241;43m.\u001b[39;49m\u001b[43mdata_pyk\u001b[49m\u001b[43m)\u001b[49m\n\u001b[1;32m      4\u001b[0m \u001b[43m)\u001b[49m\n",
      "File \u001b[0;32m~/Documents/uni/Thesis/GPFA_imputation/meteo_imp/utils.py:100\u001b[0m, in \u001b[0;36mtest_close\u001b[0;34m(a, b, eps)\u001b[0m\n\u001b[1;32m     98\u001b[0m \u001b[38;5;28;01mdef\u001b[39;00m \u001b[38;5;21mtest_close\u001b[39m(a,b,eps\u001b[38;5;241m=\u001b[39m\u001b[38;5;241m1e-5\u001b[39m):\n\u001b[1;32m     99\u001b[0m     \u001b[38;5;124m\"\u001b[39m\u001b[38;5;124m`test` that `a` is within `eps` of `b`\u001b[39m\u001b[38;5;124m\"\u001b[39m\n\u001b[0;32m--> 100\u001b[0m     \u001b[43mtest\u001b[49m\u001b[43m(\u001b[49m\u001b[43ma\u001b[49m\u001b[43m,\u001b[49m\u001b[43mb\u001b[49m\u001b[43m,\u001b[49m\u001b[43mpartial\u001b[49m\u001b[43m(\u001b[49m\u001b[43mis_close\u001b[49m\u001b[43m,\u001b[49m\u001b[43meps\u001b[49m\u001b[38;5;241;43m=\u001b[39;49m\u001b[43meps\u001b[49m\u001b[43m)\u001b[49m\u001b[43m,\u001b[49m\u001b[38;5;124;43m'\u001b[39;49m\u001b[38;5;124;43mclose\u001b[39;49m\u001b[38;5;124;43m'\u001b[39;49m\u001b[43m)\u001b[49m\n",
      "File \u001b[0;32m~/.local/lib/python3.10/site-packages/fastcore/test.py:27\u001b[0m, in \u001b[0;36mtest\u001b[0;34m(a, b, cmp, cname)\u001b[0m\n\u001b[1;32m     25\u001b[0m \u001b[38;5;124m\"\u001b[39m\u001b[38;5;124m`assert` that `cmp(a,b)`; display inputs and `cname or cmp.__name__` if it fails\u001b[39m\u001b[38;5;124m\"\u001b[39m\n\u001b[1;32m     26\u001b[0m \u001b[38;5;28;01mif\u001b[39;00m cname \u001b[38;5;129;01mis\u001b[39;00m \u001b[38;5;28;01mNone\u001b[39;00m: cname\u001b[38;5;241m=\u001b[39mcmp\u001b[38;5;241m.\u001b[39m\u001b[38;5;18m__name__\u001b[39m\n\u001b[0;32m---> 27\u001b[0m \u001b[38;5;28;01massert\u001b[39;00m cmp(a,b),\u001b[38;5;124mf\u001b[39m\u001b[38;5;124m\"\u001b[39m\u001b[38;5;132;01m{\u001b[39;00mcname\u001b[38;5;132;01m}\u001b[39;00m\u001b[38;5;124m:\u001b[39m\u001b[38;5;130;01m\\n\u001b[39;00m\u001b[38;5;132;01m{\u001b[39;00ma\u001b[38;5;132;01m}\u001b[39;00m\u001b[38;5;130;01m\\n\u001b[39;00m\u001b[38;5;132;01m{\u001b[39;00mb\u001b[38;5;132;01m}\u001b[39;00m\u001b[38;5;124m\"\u001b[39m\n",
      "\u001b[0;31mAssertionError\u001b[0m: close:\nListNormal(mean=tensor([[-1.2009022236, -1.2801513672,  0.1241119504],\n        [-3.8901658058, -2.4111485481, -0.8129007816],\n        [-1.6905851364, -0.3650660515, -0.3619496822],\n        [-2.5982863903, -1.7156119347, -0.5184043050],\n        [-2.4914917946, -1.1824398041, -0.2795265913],\n        [-2.7925603390, -1.5949568748, -0.6703749895],\n        [-2.6015672684, -1.4078283310, -0.2451970577],\n        [-1.5200183392, -0.3549404144, -0.2891225815],\n        [-3.2590429783, -2.2824332714, -0.5310008526],\n        [-3.6384706497, -2.0416266918, -0.9887318611]]), cov=tensor([[[ 0.3472036123, -0.0683073401,  0.1338070631],\n         [-0.0683072805,  0.0863315463,  0.0947744697],\n         [ 0.1338073611,  0.0947746634,  0.2892773747]],\n\n        [[ 0.1643971205, -0.0475280285,  0.0211700201],\n         [-0.0475286245,  0.0876121521,  0.1135705709],\n         [ 0.0211695433,  0.1135703325,  0.2298628092]],\n\n        [[ 0.1573194265, -0.0424685478,  0.0247406960],\n         [-0.0424683094,  0.0855915546,  0.1140730977],\n         [ 0.0247405767,  0.1140727997,  0.2339072824]],\n\n        [[ 0.1558591127, -0.0425919294,  0.0232368708],\n         [-0.0425928831,  0.0857753754,  0.1143169403],\n         [ 0.0232368708,  0.1143174767,  0.2330735326]],\n\n        [[ 0.1558748484, -0.0425101519,  0.0234071016],\n         [-0.0425082445,  0.0857435465,  0.1143236160],\n         [ 0.0234082937,  0.1143231988,  0.2332308888]],\n\n        [[ 0.1558543444, -0.0425169468,  0.0233772993],\n         [-0.0425186157,  0.0857468843,  0.1143287420],\n         [ 0.0233768225,  0.1143294573,  0.2332190275]],\n\n        [[ 0.1558558941, -0.0425149202,  0.0233823061],\n         [-0.0425155163,  0.0857477188,  0.1143304706],\n         [ 0.0233811140,  0.1143296361,  0.2332245708]],\n\n        [[ 0.1558552980, -0.0425153971,  0.0233815908],\n         [-0.0425143242,  0.0857490301,  0.1143317819],\n         [ 0.0233824253,  0.1143317819,  0.2332261801]],\n\n        [[ 0.1558542252, -0.0425165892,  0.0233813524],\n         [-0.0425162315,  0.0857474804,  0.1143308878],\n         [ 0.0233820677,  0.1143313050,  0.2332265973]],\n\n        [[ 0.1558538675, -0.0425165892,  0.0233809948],\n         [-0.0425153971,  0.0857479572,  0.1143310666],\n         [ 0.0233814716,  0.1143307686,  0.2332261205]]]))\n(array([[  0.71042877,   0.94641107,   0.78902978],\n       [  1.92803618,   2.45976525,   2.26926376],\n       [  4.95374677,   5.10817505,   5.17529063],\n       [ 11.15915605,  10.7910412 ,  10.78739933],\n       [ 23.98251596,  22.33508026,  22.16940575],\n       [ 50.21677144,  45.98334589,  45.32922037],\n       [103.86775898,  94.30006309,  92.61654208],\n       [ -1.32682885,  -0.40268798,  -0.24463774],\n       [ -1.49955841,  -0.6424668 ,  -0.29658616],\n       [ -1.89124012,  -0.93300401,  -0.58007377]]), array([[[ 1.04860151e+00,  3.69115502e-01,  7.14780211e-01],\n        [ 3.69115502e-01,  6.06538773e-01,  2.58653879e-01],\n        [ 7.14780211e-01,  2.58653879e-01,  9.36298490e-01]],\n\n       [[ 4.34874941e+00,  3.89442119e+00,  3.11272000e+00],\n        [ 3.89442119e+00,  3.91523869e+00,  3.09176558e+00],\n        [ 3.11272000e+00,  3.09176558e+00,  2.69882315e+00]],\n\n       [[ 1.92429042e+01,  1.67171331e+01,  1.57188915e+01],\n        [ 1.67171331e+01,  1.48278915e+01,  1.38883898e+01],\n        [ 1.57188915e+01,  1.38883898e+01,  1.33839370e+01]],\n\n       [[ 7.83232702e+01,  7.02158902e+01,  6.71286132e+01],\n        [ 7.02158902e+01,  6.32616225e+01,  6.04584350e+01],\n        [ 6.71286132e+01,  6.04584350e+01,  5.81248184e+01]],\n\n       [[ 3.25157197e+02,  2.91908722e+02,  2.83768512e+02],\n        [ 2.91908722e+02,  2.62368655e+02,  2.55028962e+02],\n        [ 2.83768512e+02,  2.55028962e+02,  2.48266140e+02]],\n\n       [[ 1.35248117e+03,  1.21714711e+03,  1.18769936e+03],\n        [ 1.21714711e+03,  1.09566566e+03,  1.06913710e+03],\n        [ 1.18769936e+03,  1.06913710e+03,  1.04362553e+03]],\n\n       [[ 5.64132784e+03,  5.07873007e+03,  4.96416141e+03],\n        [ 5.07873007e+03,  4.57254956e+03,  4.46938003e+03],\n        [ 4.96416141e+03,  4.46938003e+03,  4.36891734e+03]],\n\n       [[ 1.81025162e-01, -3.21083720e-02,  6.28513364e-02],\n        [-3.21083768e-02,  1.04132003e-01,  1.58419690e-01],\n        [ 6.28514668e-02,  1.58419811e-01,  3.49900711e-01]],\n\n       [[ 2.00838375e+00,  1.70018234e+00,  1.24325485e+00],\n        [ 1.70018242e+00,  1.72931460e+00,  1.27189983e+00],\n        [ 1.24325501e+00,  1.27189992e+00,  1.17847363e+00]],\n\n       [[ 9.28740350e+00,  7.97332777e+00,  7.14770899e+00],\n        [ 7.97332779e+00,  7.13895483e+00,  6.37338543e+00],\n        [ 7.14770919e+00,  6.37338559e+00,  5.99379479e+00]]]))"
     ]
    }
   ],
   "source": [
    "test_close(\n",
    "    tst.filter.filter(tst.data, tst.mask_torch),\n",
    "    tst.filter_pyk.filter(tst.data_pyk)\n",
    ")"
   ]
  },
  {
   "cell_type": "code",
   "execution_count": null,
   "id": "f437c4f3-4890-455c-8ea5-03cc9ae64c17",
   "metadata": {},
   "outputs": [],
   "source": [
    "n_dim_state = 3 \n",
    "n_dim_obs = 3\n",
    "n_obs = 10\n",
    "p_missing = .3"
   ]
  },
  {
   "cell_type": "code",
   "execution_count": null,
   "id": "a31dbbd9-526f-45de-8260-9a3e6d75e02d",
   "metadata": {},
   "outputs": [],
   "source": [
    "to_posdef = PosDef().transform"
   ]
  },
  {
   "cell_type": "code",
   "execution_count": null,
   "id": "338b22a6-2550-4a9c-b4bd-2303e5db3322",
   "metadata": {},
   "outputs": [],
   "source": [
    "data = torch.rand(n_obs, n_dim_obs)\n",
    "mask = torch.rand(n_obs, n_dim_obs) > p_missing\n",
    "mask_torch = mask.all(1)"
   ]
  },
  {
   "cell_type": "code",
   "execution_count": null,
   "id": "d857b678-4c0c-4a61-986a-81cb2b57766a",
   "metadata": {},
   "outputs": [
    {
     "data": {
      "text/plain": [
       "tensor([[ True, False,  True],\n",
       "        [ True,  True,  True],\n",
       "        [ True,  True,  True],\n",
       "        [ True,  True,  True],\n",
       "        [ True,  True,  True],\n",
       "        [False,  True,  True],\n",
       "        [ True, False, False],\n",
       "        [ True, False,  True],\n",
       "        [ True,  True,  True],\n",
       "        [ True,  True, False]])"
      ]
     },
     "execution_count": null,
     "metadata": {},
     "output_type": "execute_result"
    }
   ],
   "source": [
    "mask[:10]"
   ]
  },
  {
   "cell_type": "code",
   "execution_count": null,
   "id": "64d7f3f4-2d5e-4a66-83d8-b09a68ca16ea",
   "metadata": {},
   "outputs": [
    {
     "data": {
      "text/plain": [
       "tensor([False,  True,  True,  True,  True, False, False, False,  True, False])"
      ]
     },
     "execution_count": null,
     "metadata": {},
     "output_type": "execute_result"
    }
   ],
   "source": [
    "mask_torch[:10]"
   ]
  },
  {
   "cell_type": "code",
   "execution_count": null,
   "id": "e7ac8819-4d54-415d-a794-19edafd4af7f",
   "metadata": {},
   "outputs": [],
   "source": [
    "params = {\n",
    "    'transition_matrices': torch.rand(n_dim_state, n_dim_state),\n",
    "    'transition_offsets':  torch.rand(n_dim_state),        \n",
    "    'transition_cov':      to_posdef(torch.rand(n_dim_state, n_dim_state)),        \n",
    "    'obs_matrices':        torch.rand(n_dim_obs, n_dim_state),\n",
    "    'obs_offsets':         torch.rand(n_dim_obs),          \n",
    "    'obs_cov':             to_posdef(torch.rand(n_dim_obs, n_dim_obs)),            \n",
    "    'initial_state_mean':  torch.rand(n_dim_state),        \n",
    "    'initial_state_cov':   to_posdef(torch.rand(n_dim_state, n_dim_state)),\n",
    "}"
   ]
  },
  {
   "cell_type": "code",
   "execution_count": null,
   "id": "0f040e1b-b66c-4171-aa86-db539cc5c09e",
   "metadata": {},
   "outputs": [],
   "source": [
    "params2pyk = {\n",
    "    'transition_matrices': 'transition_matrices',\n",
    "    'transition_offsets':  'transition_offsets',        \n",
    "    'transition_cov':      'transition_covariance',        \n",
    "    'obs_matrices':        'observation_matrices',\n",
    "    'obs_offsets':         'observation_offsets',          \n",
    "    'obs_cov':             'observation_covariance',            \n",
    "    'initial_state_mean':  'initial_state_mean',        \n",
    "    'initial_state_cov':   'initial_state_covariance',\n",
    "}"
   ]
  },
  {
   "cell_type": "code",
   "execution_count": null,
   "id": "fdebb6cc-0e30-41d6-87bc-faf02f1a7d38",
   "metadata": {},
   "outputs": [
    {
     "data": {
      "text/plain": [
       "{'transition_matrices': tensor([[0.5314818621, 0.1587299109, 0.6541759968],\n",
       "         [0.3278088570, 0.6532081366, 0.3958292603],\n",
       "         [0.9146959186, 0.2036490440, 0.2018010020]]),\n",
       " 'transition_offsets': tensor([0.2017830014, 0.9497213960, 0.6666255593]),\n",
       " 'transition_cov': tensor([[0.9702556729, 0.1239150539, 0.7471799254],\n",
       "         [0.1239150539, 0.5321590304, 0.3935724497],\n",
       "         [0.7471799254, 0.3935724497, 1.3576247692]]),\n",
       " 'obs_matrices': tensor([[0.1591441035, 0.7652890682, 0.2978977561],\n",
       "         [0.8034619093, 0.3813496828, 0.7860229611],\n",
       "         [0.1115159988, 0.2476751208, 0.6524382234]]),\n",
       " 'obs_offsets': tensor([0.6057037711, 0.3725206256, 0.7980347276]),\n",
       " 'obs_cov': tensor([[0.7786419988, 0.9252295494, 0.1886124313],\n",
       "         [0.9252295494, 1.1313515902, 0.2879850864],\n",
       "         [0.1886124313, 0.2879850864, 0.4364176095]]),\n",
       " 'initial_state_mean': tensor([0.4340034127, 0.1370570064, 0.5117283463]),\n",
       " 'initial_state_cov': tensor([[0.0813313425, 0.2482795715, 0.1513363272],\n",
       "         [0.2482795715, 1.0364918709, 0.1895417273],\n",
       "         [0.1513363272, 0.1895417273, 0.7823092937]])}"
      ]
     },
     "execution_count": null,
     "metadata": {},
     "output_type": "execute_result"
    }
   ],
   "source": [
    "params"
   ]
  },
  {
   "cell_type": "code",
   "execution_count": null,
   "id": "52994fa1-c5c6-4a44-9e7d-be8f87369800",
   "metadata": {},
   "outputs": [],
   "source": [
    "k = KalmanFilter(**params)"
   ]
  },
  {
   "cell_type": "code",
   "execution_count": null,
   "id": "7584e411-8872-46ab-9604-62355ca863bd",
   "metadata": {},
   "outputs": [],
   "source": [
    "pred = k.smooth(data, mask_torch)"
   ]
  },
  {
   "cell_type": "markdown",
   "id": "160f49e8-1235-4271-9e49-aaec65842174",
   "metadata": {},
   "source": [
    "make a `pykalman` model using the same parameters"
   ]
  },
  {
   "cell_type": "code",
   "execution_count": null,
   "id": "8d147cbc-22fb-4094-bc36-e6fa8b13e0f1",
   "metadata": {},
   "outputs": [],
   "source": [
    "data_pyk = np.ma.masked_array(data.numpy(), mask = mask.numpy())"
   ]
  },
  {
   "cell_type": "code",
   "execution_count": null,
   "id": "fe57e59b-ace3-4b1f-b60f-61e56717e0ca",
   "metadata": {},
   "outputs": [],
   "source": [
    "pyk_k = pykalman.standard.KalmanFilter(\n",
    "\n",
    "    transition_matrices=k.transition_matrices.detach().numpy(),\n",
    "    transition_offsets=k.transition_offsets.detach().numpy(),\n",
    "    transition_covariance=k.transition_cov.detach().numpy(),\n",
    "    observation_matrices=k.obs_matrices.detach().numpy(),\n",
    "    observation_offsets=k.obs_offsets.detach().numpy(),\n",
    "    observation_covariance=k.obs_cov.detach().numpy(),\n",
    "    initial_state_mean=k.initial_state_mean.detach().numpy(),\n",
    "    initial_state_covariance=k.initial_state_cov.detach().numpy()\n",
    ")"
   ]
  },
  {
   "cell_type": "code",
   "execution_count": null,
   "id": "1f22416f-5c64-4a2a-a239-e74233a7a807",
   "metadata": {},
   "outputs": [],
   "source": [
    "pred_pyk = pyk_k.smooth(data_pyk)"
   ]
  },
  {
   "cell_type": "code",
   "execution_count": null,
   "id": "770582f6-ff2c-4b9d-9082-d7febda2b15a",
   "metadata": {},
   "outputs": [
    {
     "name": "stdout",
     "output_type": "stream",
     "text": [
      "transition_matrices Parameter containing:\n",
      "tensor([[0.5314818621, 0.1587299109, 0.6541759968],\n",
      "        [0.3278088570, 0.6532081366, 0.3958292603],\n",
      "        [0.9146959186, 0.2036490440, 0.2018010020]], requires_grad=True)\n",
      "transition_offsets Parameter containing:\n",
      "tensor([0.2017830014, 0.9497213960, 0.6666255593], requires_grad=True)\n",
      "transition_cov tensor([[0.9702557921, 0.1239150614, 0.7471799850],\n",
      "        [0.1239150614, 0.5321591496, 0.3935724497],\n",
      "        [0.7471799850, 0.3935724497, 1.3576248884]], grad_fn=<AddBackward0>)\n",
      "obs_matrices Parameter containing:\n",
      "tensor([[0.1591441035, 0.7652890682, 0.2978977561],\n",
      "        [0.8034619093, 0.3813496828, 0.7860229611],\n",
      "        [0.1115159988, 0.2476751208, 0.6524382234]], requires_grad=True)\n",
      "obs_offsets Parameter containing:\n",
      "tensor([0.6057037711, 0.3725206256, 0.7980347276], requires_grad=True)\n",
      "obs_cov tensor([[0.7786421180, 0.9252294898, 0.1886124313],\n",
      "        [0.9252294898, 1.1313517094, 0.2879850864],\n",
      "        [0.1886124313, 0.2879850864, 0.4364176989]], grad_fn=<AddBackward0>)\n",
      "initial_state_mean Parameter containing:\n",
      "tensor([0.4340034127, 0.1370570064, 0.5117283463], requires_grad=True)\n",
      "initial_state_cov tensor([[0.0813314393, 0.2482795715, 0.1513363272],\n",
      "        [0.2482795715, 1.0364919901, 0.1895417273],\n",
      "        [0.1513363272, 0.1895417273, 0.7823093534]], grad_fn=<AddBackward0>)\n"
     ]
    }
   ],
   "source": [
    "for p in params.keys():\n",
    "    print(p, getattr(k, p))"
   ]
  },
  {
   "cell_type": "code",
   "execution_count": null,
   "id": "3b53f0b6-7e86-4059-be51-11b5025896aa",
   "metadata": {},
   "outputs": [
    {
     "name": "stdout",
     "output_type": "stream",
     "text": [
      "transition_matrices [[0.53148186 0.15872991 0.654176  ]\n",
      " [0.32780886 0.65320814 0.39582926]\n",
      " [0.9146959  0.20364904 0.201801  ]]\n",
      "transition_offsets [0.201783   0.9497214  0.66662556]\n",
      "transition_cov [[0.9702558  0.12391506 0.74718   ]\n",
      " [0.12391506 0.53215915 0.39357245]\n",
      " [0.74718    0.39357245 1.3576249 ]]\n",
      "obs_matrices [[0.1591441  0.76528907 0.29789776]\n",
      " [0.8034619  0.38134968 0.78602296]\n",
      " [0.111516   0.24767512 0.6524382 ]]\n",
      "obs_offsets [0.6057038  0.37252063 0.7980347 ]\n",
      "obs_cov [[0.7786421  0.9252295  0.18861243]\n",
      " [0.9252295  1.1313517  0.2879851 ]\n",
      " [0.18861243 0.2879851  0.4364177 ]]\n",
      "initial_state_mean [0.4340034  0.137057   0.51172835]\n",
      "initial_state_cov [[0.08133144 0.24827957 0.15133633]\n",
      " [0.24827957 1.036492   0.18954173]\n",
      " [0.15133633 0.18954173 0.78230935]]\n"
     ]
    }
   ],
   "source": [
    "for p in params.keys():\n",
    "    print(p, getattr(pyk_k, params2pyk[p]))"
   ]
  },
  {
   "cell_type": "code",
   "execution_count": null,
   "id": "9c685b8a-c47f-4f7e-8486-f9a780f43292",
   "metadata": {},
   "outputs": [],
   "source": [
    "tst = KalmanFilterTester()"
   ]
  },
  {
   "cell_type": "code",
   "execution_count": null,
   "id": "5ac2ac91-0dfd-4a6f-bc2b-9a6fc7cc60e2",
   "metadata": {},
   "outputs": [
    {
     "ename": "AssertionError",
     "evalue": "close:\nListNormal(mean=tensor([[ 0.1430051625, -0.7834703326, -0.1193112731],\n        [-0.5063856244, -0.1570073366, -0.3752012849],\n        [ 0.4810954332, -0.7205970287,  0.2110576034],\n        [ 0.9152259827, -0.7125056982,  0.3896418214],\n        [-0.0477739573,  0.1948724091,  0.0489260852],\n        [-0.7181638479,  0.5749417543, -0.5476398468],\n        [-0.9425613880,  0.3971621990, -0.8002147675],\n        [-0.7286841869,  0.1088507175, -0.4608097076],\n        [ 0.5366930962, -0.2165226936,  0.1538271904],\n        [ 0.5532870293,  1.0451090336,  1.1444844007]], grad_fn=<CopySlices>), cov=tensor([[[ 0.0458634533,  0.1323727220,  0.0791139752],\n         [ 0.1323727369,  0.6356528997, -0.0156198442],\n         [ 0.0791139677, -0.0156198740,  0.5917835832]],\n\n        [[ 0.2313160598,  0.1742176116, -0.0811998770],\n         [ 0.1742181629,  0.2739555836,  0.0895741582],\n         [-0.0811987445,  0.0895739868,  0.3135890961]],\n\n        [[ 0.2024308741,  0.1442574561, -0.0768100619],\n         [ 0.1442573965,  0.2445938587,  0.0984742865],\n         [-0.0768094882,  0.0984741449,  0.3216813803]],\n\n        [[ 0.2042530775,  0.1464323103, -0.0763803720],\n         [ 0.1464323997,  0.2488655150,  0.1018891409],\n         [-0.0763802230,  0.1018890366,  0.3267323375]],\n\n        [[ 0.2212889194,  0.1700689048, -0.0680535287],\n         [ 0.1700690687,  0.2866749167,  0.1200854778],\n         [-0.0680539608,  0.1200850904,  0.3402861357]],\n\n        [[ 0.6585845947,  0.0601328909,  0.2948330641],\n         [ 0.0601328909,  0.6690787077,  0.2529650629],\n         [ 0.2948336005,  0.2529654503,  0.8740483522]],\n\n        [[ 0.8133347034,  0.1875652075,  0.3540329933],\n         [ 0.1875623465,  0.8686182499,  0.2423343658],\n         [ 0.3540306091,  0.2423349619,  0.8958110809]],\n\n        [[ 0.7408380508,  0.2029280663,  0.3333144188],\n         [ 0.2029232979,  0.8584184647,  0.2791090012],\n         [ 0.3333191872,  0.2791180611,  0.9101500511]],\n\n        [[ 0.3866987228,  0.3702745438, -0.0381088257],\n         [ 0.3702421188,  0.5363788605,  0.1696672440],\n         [-0.0381336212,  0.1696758270,  0.3714637756]],\n\n        [[ 1.3231682777,  0.5578712821,  1.0965143442],\n         [ 0.5578587055,  1.0971891880,  0.8761948347],\n         [ 1.0965268612,  0.8762198687,  1.8563498259]]], grad_fn=<CopySlices>))\n(array([[ 0.43400341,  0.13705701,  0.51172835],\n       [ 0.78896339,  1.38407536,  1.19478553],\n       [ 1.62239691,  2.58537095,  1.91126169],\n       [ 2.72473476,  3.92687611,  3.06282824],\n       [ 4.27687151,  5.62033804,  4.57671569],\n       [ 6.36095594,  7.83456629,  6.64682476],\n       [ 9.17428893, 10.78350927,  9.42180383],\n       [12.95293454, 14.7304362 , 13.15569101],\n       [18.03033087, 20.02525628, 18.1692928 ],\n       [24.8490992 , 27.13282162, 24.90360141]]), array([[[8.13314393e-02, 2.48279572e-01, 1.51336327e-01],\n        [2.48279572e-01, 1.03649199e+00, 1.89541727e-01],\n        [1.51336327e-01, 1.89541727e-01, 7.82309353e-01]],\n\n       [[1.54061847e+00, 7.04431938e-01, 1.12452860e+00],\n        [7.04431938e-01, 1.34933910e+00, 8.88315771e-01],\n        [1.12452860e+00, 8.88315771e-01, 1.66446306e+00]],\n\n       [[3.23702993e+00, 2.15756736e+00, 2.87830697e+00],\n        [2.15756736e+00, 2.58710820e+00, 2.30613048e+00],\n        [2.87830697e+00, 2.30613048e+00, 3.52095414e+00]],\n\n       [[6.30102434e+00, 5.08225077e+00, 5.82817274e+00],\n        [5.08225077e+00, 5.39902837e+00, 5.14515716e+00],\n        [5.82817274e+00, 5.14515716e+00, 6.37257913e+00]],\n\n       [[1.15920018e+01, 1.04582601e+01, 1.10769157e+01],\n        [1.04582601e+01, 1.08610170e+01, 1.04746961e+01],\n        [1.10769157e+01, 1.04746961e+01, 1.15808361e+01]],\n\n       [[2.11166961e+01, 2.02831548e+01, 2.04600071e+01],\n        [2.02831548e+01, 2.09965549e+01, 2.01545072e+01],\n        [2.04600071e+01, 2.01545072e+01, 2.08248545e+01]],\n\n       [[3.82110988e+01, 3.80398790e+01, 3.73488073e+01],\n        [3.80398790e+01, 3.94412582e+01, 3.76975125e+01],\n        [3.73488073e+01, 3.76975125e+01, 3.75105701e+01]],\n\n       [[6.90282234e+01, 7.01129921e+01, 6.77743502e+01],\n        [7.01129921e+01, 7.28215936e+01, 6.93631248e+01],\n        [6.77743502e+01, 6.93631248e+01, 6.75495223e+01]],\n\n       [[1.24573828e+02, 1.27971142e+02, 1.22630548e+02],\n        [1.27971142e+02, 1.33088569e+02, 1.26503160e+02],\n        [1.22630548e+02, 1.26503160e+02, 1.21724872e+02]],\n\n       [[2.24740234e+02, 2.32333413e+02, 2.21547034e+02],\n        [2.32333413e+02, 2.41822466e+02, 2.29563154e+02],\n        [2.21547034e+02, 2.29563154e+02, 2.19407035e+02]]]))",
     "output_type": "error",
     "traceback": [
      "\u001b[0;31m---------------------------------------------------------------------------\u001b[0m",
      "\u001b[0;31mAssertionError\u001b[0m                            Traceback (most recent call last)",
      "Input \u001b[0;32mIn [432]\u001b[0m, in \u001b[0;36m<cell line: 1>\u001b[0;34m()\u001b[0m\n\u001b[0;32m----> 1\u001b[0m \u001b[43mtest_close\u001b[49m\u001b[43m(\u001b[49m\u001b[43mpred\u001b[49m\u001b[43m,\u001b[49m\u001b[43m \u001b[49m\u001b[43mpred_pyk\u001b[49m\u001b[43m)\u001b[49m\n",
      "File \u001b[0;32m~/Documents/uni/Thesis/GPFA_imputation/meteo_imp/utils.py:100\u001b[0m, in \u001b[0;36mtest_close\u001b[0;34m(a, b, eps)\u001b[0m\n\u001b[1;32m     98\u001b[0m \u001b[38;5;28;01mdef\u001b[39;00m \u001b[38;5;21mtest_close\u001b[39m(a,b,eps\u001b[38;5;241m=\u001b[39m\u001b[38;5;241m1e-5\u001b[39m):\n\u001b[1;32m     99\u001b[0m     \u001b[38;5;124m\"\u001b[39m\u001b[38;5;124m`test` that `a` is within `eps` of `b`\u001b[39m\u001b[38;5;124m\"\u001b[39m\n\u001b[0;32m--> 100\u001b[0m     \u001b[43mtest\u001b[49m\u001b[43m(\u001b[49m\u001b[43ma\u001b[49m\u001b[43m,\u001b[49m\u001b[43mb\u001b[49m\u001b[43m,\u001b[49m\u001b[43mpartial\u001b[49m\u001b[43m(\u001b[49m\u001b[43mis_close\u001b[49m\u001b[43m,\u001b[49m\u001b[43meps\u001b[49m\u001b[38;5;241;43m=\u001b[39;49m\u001b[43meps\u001b[49m\u001b[43m)\u001b[49m\u001b[43m,\u001b[49m\u001b[38;5;124;43m'\u001b[39;49m\u001b[38;5;124;43mclose\u001b[39;49m\u001b[38;5;124;43m'\u001b[39;49m\u001b[43m)\u001b[49m\n",
      "File \u001b[0;32m~/.local/lib/python3.10/site-packages/fastcore/test.py:27\u001b[0m, in \u001b[0;36mtest\u001b[0;34m(a, b, cmp, cname)\u001b[0m\n\u001b[1;32m     25\u001b[0m \u001b[38;5;124m\"\u001b[39m\u001b[38;5;124m`assert` that `cmp(a,b)`; display inputs and `cname or cmp.__name__` if it fails\u001b[39m\u001b[38;5;124m\"\u001b[39m\n\u001b[1;32m     26\u001b[0m \u001b[38;5;28;01mif\u001b[39;00m cname \u001b[38;5;129;01mis\u001b[39;00m \u001b[38;5;28;01mNone\u001b[39;00m: cname\u001b[38;5;241m=\u001b[39mcmp\u001b[38;5;241m.\u001b[39m\u001b[38;5;18m__name__\u001b[39m\n\u001b[0;32m---> 27\u001b[0m \u001b[38;5;28;01massert\u001b[39;00m cmp(a,b),\u001b[38;5;124mf\u001b[39m\u001b[38;5;124m\"\u001b[39m\u001b[38;5;132;01m{\u001b[39;00mcname\u001b[38;5;132;01m}\u001b[39;00m\u001b[38;5;124m:\u001b[39m\u001b[38;5;130;01m\\n\u001b[39;00m\u001b[38;5;132;01m{\u001b[39;00ma\u001b[38;5;132;01m}\u001b[39;00m\u001b[38;5;130;01m\\n\u001b[39;00m\u001b[38;5;132;01m{\u001b[39;00mb\u001b[38;5;132;01m}\u001b[39;00m\u001b[38;5;124m\"\u001b[39m\n",
      "\u001b[0;31mAssertionError\u001b[0m: close:\nListNormal(mean=tensor([[ 0.1430051625, -0.7834703326, -0.1193112731],\n        [-0.5063856244, -0.1570073366, -0.3752012849],\n        [ 0.4810954332, -0.7205970287,  0.2110576034],\n        [ 0.9152259827, -0.7125056982,  0.3896418214],\n        [-0.0477739573,  0.1948724091,  0.0489260852],\n        [-0.7181638479,  0.5749417543, -0.5476398468],\n        [-0.9425613880,  0.3971621990, -0.8002147675],\n        [-0.7286841869,  0.1088507175, -0.4608097076],\n        [ 0.5366930962, -0.2165226936,  0.1538271904],\n        [ 0.5532870293,  1.0451090336,  1.1444844007]], grad_fn=<CopySlices>), cov=tensor([[[ 0.0458634533,  0.1323727220,  0.0791139752],\n         [ 0.1323727369,  0.6356528997, -0.0156198442],\n         [ 0.0791139677, -0.0156198740,  0.5917835832]],\n\n        [[ 0.2313160598,  0.1742176116, -0.0811998770],\n         [ 0.1742181629,  0.2739555836,  0.0895741582],\n         [-0.0811987445,  0.0895739868,  0.3135890961]],\n\n        [[ 0.2024308741,  0.1442574561, -0.0768100619],\n         [ 0.1442573965,  0.2445938587,  0.0984742865],\n         [-0.0768094882,  0.0984741449,  0.3216813803]],\n\n        [[ 0.2042530775,  0.1464323103, -0.0763803720],\n         [ 0.1464323997,  0.2488655150,  0.1018891409],\n         [-0.0763802230,  0.1018890366,  0.3267323375]],\n\n        [[ 0.2212889194,  0.1700689048, -0.0680535287],\n         [ 0.1700690687,  0.2866749167,  0.1200854778],\n         [-0.0680539608,  0.1200850904,  0.3402861357]],\n\n        [[ 0.6585845947,  0.0601328909,  0.2948330641],\n         [ 0.0601328909,  0.6690787077,  0.2529650629],\n         [ 0.2948336005,  0.2529654503,  0.8740483522]],\n\n        [[ 0.8133347034,  0.1875652075,  0.3540329933],\n         [ 0.1875623465,  0.8686182499,  0.2423343658],\n         [ 0.3540306091,  0.2423349619,  0.8958110809]],\n\n        [[ 0.7408380508,  0.2029280663,  0.3333144188],\n         [ 0.2029232979,  0.8584184647,  0.2791090012],\n         [ 0.3333191872,  0.2791180611,  0.9101500511]],\n\n        [[ 0.3866987228,  0.3702745438, -0.0381088257],\n         [ 0.3702421188,  0.5363788605,  0.1696672440],\n         [-0.0381336212,  0.1696758270,  0.3714637756]],\n\n        [[ 1.3231682777,  0.5578712821,  1.0965143442],\n         [ 0.5578587055,  1.0971891880,  0.8761948347],\n         [ 1.0965268612,  0.8762198687,  1.8563498259]]], grad_fn=<CopySlices>))\n(array([[ 0.43400341,  0.13705701,  0.51172835],\n       [ 0.78896339,  1.38407536,  1.19478553],\n       [ 1.62239691,  2.58537095,  1.91126169],\n       [ 2.72473476,  3.92687611,  3.06282824],\n       [ 4.27687151,  5.62033804,  4.57671569],\n       [ 6.36095594,  7.83456629,  6.64682476],\n       [ 9.17428893, 10.78350927,  9.42180383],\n       [12.95293454, 14.7304362 , 13.15569101],\n       [18.03033087, 20.02525628, 18.1692928 ],\n       [24.8490992 , 27.13282162, 24.90360141]]), array([[[8.13314393e-02, 2.48279572e-01, 1.51336327e-01],\n        [2.48279572e-01, 1.03649199e+00, 1.89541727e-01],\n        [1.51336327e-01, 1.89541727e-01, 7.82309353e-01]],\n\n       [[1.54061847e+00, 7.04431938e-01, 1.12452860e+00],\n        [7.04431938e-01, 1.34933910e+00, 8.88315771e-01],\n        [1.12452860e+00, 8.88315771e-01, 1.66446306e+00]],\n\n       [[3.23702993e+00, 2.15756736e+00, 2.87830697e+00],\n        [2.15756736e+00, 2.58710820e+00, 2.30613048e+00],\n        [2.87830697e+00, 2.30613048e+00, 3.52095414e+00]],\n\n       [[6.30102434e+00, 5.08225077e+00, 5.82817274e+00],\n        [5.08225077e+00, 5.39902837e+00, 5.14515716e+00],\n        [5.82817274e+00, 5.14515716e+00, 6.37257913e+00]],\n\n       [[1.15920018e+01, 1.04582601e+01, 1.10769157e+01],\n        [1.04582601e+01, 1.08610170e+01, 1.04746961e+01],\n        [1.10769157e+01, 1.04746961e+01, 1.15808361e+01]],\n\n       [[2.11166961e+01, 2.02831548e+01, 2.04600071e+01],\n        [2.02831548e+01, 2.09965549e+01, 2.01545072e+01],\n        [2.04600071e+01, 2.01545072e+01, 2.08248545e+01]],\n\n       [[3.82110988e+01, 3.80398790e+01, 3.73488073e+01],\n        [3.80398790e+01, 3.94412582e+01, 3.76975125e+01],\n        [3.73488073e+01, 3.76975125e+01, 3.75105701e+01]],\n\n       [[6.90282234e+01, 7.01129921e+01, 6.77743502e+01],\n        [7.01129921e+01, 7.28215936e+01, 6.93631248e+01],\n        [6.77743502e+01, 6.93631248e+01, 6.75495223e+01]],\n\n       [[1.24573828e+02, 1.27971142e+02, 1.22630548e+02],\n        [1.27971142e+02, 1.33088569e+02, 1.26503160e+02],\n        [1.22630548e+02, 1.26503160e+02, 1.21724872e+02]],\n\n       [[2.24740234e+02, 2.32333413e+02, 2.21547034e+02],\n        [2.32333413e+02, 2.41822466e+02, 2.29563154e+02],\n        [2.21547034e+02, 2.29563154e+02, 2.19407035e+02]]]))"
     ]
    }
   ],
   "source": [
    "test_close(pred, pred_pyk)"
   ]
  },
  {
   "cell_type": "markdown",
   "id": "bbc06f87-be0a-4f4e-9027-ecea248dccad",
   "metadata": {},
   "source": [
    "### Compare Statsmodels"
   ]
  },
  {
   "cell_type": "code",
   "execution_count": null,
   "id": "1f4fdf23-2d75-4022-90e8-838ce44fb26c",
   "metadata": {},
   "outputs": [],
   "source": [
    "import statsmodels.api as sm\n",
    "import statsmodels"
   ]
  },
  {
   "cell_type": "code",
   "execution_count": null,
   "id": "9f3dd92e-27d0-4791-b790-bac0912014fc",
   "metadata": {},
   "outputs": [],
   "source": [
    "sm_kf = statsmodels.tsa.statespace.kalman_filter.KalmanFilter(\n",
    "    k_endog = 3,\n",
    "    k_states = 3,\n",
    "    initialization = 'known',\n",
    "    initial_state = pyk_ncov.initial_state_mean,\n",
    "    initial_state_cov = pyk_ncov.initial_state_covariance,\n",
    "    design = pyk_ncov.observation_matrices,\n",
    "    obs_cov = pyk_ncov.observation_covariance,\n",
    "    transition = pyk_ncov.transition_matrices,\n",
    "    state_cov = pyk_ncov.transition_covariance)"
   ]
  },
  {
   "cell_type": "code",
   "execution_count": null,
   "id": "f7db6e78-69cc-44b9-986e-174327d17269",
   "metadata": {},
   "outputs": [],
   "source": [
    "sm_kf.bind(X_ncov.detach().numpy())"
   ]
  },
  {
   "cell_type": "code",
   "execution_count": null,
   "id": "c08ee714-ee6a-4318-bd06-d09274bdd8ca",
   "metadata": {},
   "outputs": [],
   "source": [
    "sm_pred = sm_kf.filter() "
   ]
  },
  {
   "cell_type": "code",
   "execution_count": null,
   "id": "6da891b2-4e13-497b-9a30-8d690d1a6a37",
   "metadata": {},
   "outputs": [
    {
     "data": {
      "text/plain": [
       "(3, 11)"
      ]
     },
     "execution_count": null,
     "metadata": {},
     "output_type": "execute_result"
    }
   ],
   "source": [
    "sm_pred.predicted_state.shape"
   ]
  },
  {
   "cell_type": "code",
   "execution_count": null,
   "id": "0d469b65-b397-4d67-8779-0900ce87e33e",
   "metadata": {},
   "outputs": [
    {
     "data": {
      "text/plain": [
       "(3, 3, 11)"
      ]
     },
     "execution_count": null,
     "metadata": {},
     "output_type": "execute_result"
    }
   ],
   "source": [
    "sm_pred.predicted_state_cov.shape"
   ]
  },
  {
   "cell_type": "code",
   "execution_count": null,
   "id": "1f56ded2-e5bb-454a-9aae-82a710e48131",
   "metadata": {},
   "outputs": [],
   "source": [
    "mean = MultivariateNormal(torch.tensor(sm_pred.predicted_state[:, 0]), torch.tensor(sm_pred.predicted_state_cov[:, :, 0]))"
   ]
  },
  {
   "cell_type": "code",
   "execution_count": null,
   "id": "de6c187d-fc28-43df-9623-efe15d549282",
   "metadata": {},
   "outputs": [
    {
     "data": {
      "text/plain": [
       "array([-5.39001684e+00, -1.64627102e+01, -2.78811272e+03, -3.23951658e+03,\n",
       "       -3.54026676e+04, -6.07624446e+03, -7.80461446e+02, -2.63887063e+02,\n",
       "       -3.70947972e+02, -5.16146147e+02])"
      ]
     },
     "execution_count": null,
     "metadata": {},
     "output_type": "execute_result"
    }
   ],
   "source": [
    "sm_kf.loglikeobs()"
   ]
  },
  {
   "cell_type": "markdown",
   "id": "0fdd2ea0-ff4e-4d2f-add0-81120b131cf3",
   "metadata": {},
   "source": [
    "## Export"
   ]
  },
  {
   "cell_type": "code",
   "execution_count": null,
   "id": "12c41b65-9eb8-4d70-b4fc-05113783e636",
   "metadata": {},
   "outputs": [],
   "source": [
    "#| hide\n",
    "from nbdev import nbdev_export\n",
    "nbdev_export()"
   ]
  }
 ],
 "metadata": {
  "kernelspec": {
   "display_name": "data_science",
   "language": "python",
   "name": "data_science"
  },
  "widgets": {
   "application/vnd.jupyter.widget-state+json": {
    "state": {},
    "version_major": 2,
    "version_minor": 0
   }
  }
 },
 "nbformat": 4,
 "nbformat_minor": 5
}
