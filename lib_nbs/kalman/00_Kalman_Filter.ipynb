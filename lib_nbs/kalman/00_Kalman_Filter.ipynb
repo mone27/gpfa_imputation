{
 "cells": [
  {
   "cell_type": "markdown",
   "id": "22e19739-7ce6-4689-8f05-5391807270f2",
   "metadata": {},
   "source": [
    "# Kalman Filter\n",
    "> Implementation of Kalman filters using pytorch and parameter optimizations with gradient descend"
   ]
  },
  {
   "cell_type": "code",
   "execution_count": null,
   "id": "33b5e640-1b40-4822-8912-f6aef392b22f",
   "metadata": {},
   "outputs": [],
   "source": [
    "%load_ext autoreload\n",
    "%autoreload 2"
   ]
  },
  {
   "cell_type": "code",
   "execution_count": null,
   "id": "378ab6cd-754e-4199-a102-c7a3109c6c78",
   "metadata": {},
   "outputs": [],
   "source": [
    "#| hide\n",
    "#| default_exp kalman.filter"
   ]
  },
  {
   "cell_type": "code",
   "execution_count": null,
   "id": "c89a8e7f-95e3-4c02-9716-948d5e0dcfca",
   "metadata": {},
   "outputs": [],
   "source": [
    "#| export\n",
    "from fastcore.test import *\n",
    "from fastcore.basics import patch\n",
    "from meteo_imp.utils import *\n",
    "from meteo_imp.data_preparation import MeteoDataTest\n",
    "import pykalman\n",
    "from typing import *\n",
    "\n",
    "import numpy as np\n",
    "import pandas as pd\n",
    "import torch\n",
    "from torch import Tensor\n",
    "from torch.distributions import MultivariateNormal"
   ]
  },
  {
   "cell_type": "markdown",
   "id": "ce900cd1-288d-4215-b317-d815f2850215",
   "metadata": {},
   "source": [
    "## Introduction"
   ]
  },
  {
   "cell_type": "markdown",
   "id": "410c35dd-074e-4630-8b4d-90b8a46eb393",
   "metadata": {},
   "source": [
    "## Utils"
   ]
  },
  {
   "cell_type": "code",
   "execution_count": null,
   "id": "19255a07-7210-4810-bcdf-31ad553a62ba",
   "metadata": {},
   "outputs": [],
   "source": [
    "#| exporti\n",
    "def array1d(X):\n",
    "    \"\"\"Returns at least 1-d array with data from X\"\"\"\n",
    "    return torch.atleast_1d(torch.as_tensor(X))\n",
    "\n",
    "def array2d(X):\n",
    "    \"\"\"Returns at least 2-d array with data from X\"\"\"\n",
    "    return torch.atleast_2d(torch.as_tensor(X))\n"
   ]
  },
  {
   "cell_type": "code",
   "execution_count": null,
   "id": "17e6c534-da61-4c08-a10f-39ffa31e5029",
   "metadata": {},
   "outputs": [],
   "source": [
    "#| export\n",
    "def _determine_dimensionality(variables, default):\n",
    "    \"\"\"Derive the dimensionality of the state space\n",
    "\n",
    "    Parameters\n",
    "    ----------\n",
    "    variables : list of ({None, array}, conversion function, index)\n",
    "        variables, functions to convert them to arrays, and indices in those\n",
    "        arrays to derive dimensionality from.\n",
    "        \n",
    "    Returns\n",
    "    -------\n",
    "    dim : int\n",
    "        dimensionality of state space as derived from variables or default.\n",
    "    \"\"\"\n",
    "    # gather possible values based on the variables\n",
    "    candidates = []\n",
    "    for (v, converter, idx) in variables:\n",
    "        if v is not None:\n",
    "            v = converter(v)\n",
    "            candidates.append(v.shape[idx])\n",
    "    \n",
    "     # also use the manually specified default\n",
    "    if default is not None:\n",
    "        candidates.append(default)\n",
    "    \n",
    "    # ensure consistency of all derived values\n",
    "    if len(candidates) == 0:\n",
    "        return 1\n",
    "    else:\n",
    "        if not torch.all(torch.tensor(candidates) == candidates[0]):\n",
    "            raise ValueError(\n",
    "                \"The shape of all \" +\n",
    "                \"parameters is not consistent.  \" +\n",
    "                \"Please re-check their values.\"\n",
    "            )\n",
    "        return candidates[0]\n",
    "\n",
    "\n",
    "def _last_dims(X: Tensor, t: int, ndims: int=2):\n",
    "    \"\"\"Extract the final dimensions of `X`\n",
    "\n",
    "    Extract the final `ndim` dimensions at index `t` if `X` has >= `ndim` + 1\n",
    "    dimensions, otherwise return `X`.\n",
    "\n",
    "    Parameters\n",
    "    ----------\n",
    "    X : Tensor with at least dimension `ndims`\n",
    "    t : int\n",
    "        index to use for the `ndims` + 1th dimension\n",
    "    ndims : int, optional\n",
    "        number of dimensions in the array desired\n",
    "\n",
    "    Returns\n",
    "    -------\n",
    "    Y : array with dimension `ndims`\n",
    "        the final `ndims` dimensions indexed by `t`\n",
    "    \"\"\"\n",
    "    if len(X.shape) == ndims + 1:\n",
    "        return X[t]\n",
    "    elif len(X.shape) == ndims:\n",
    "        return X\n",
    "    else:\n",
    "        raise ValueError((\"X only has %d dimensions when %d\" +\n",
    "                \" or more are required\") % (len(X.shape), ndims))"
   ]
  },
  {
   "cell_type": "code",
   "execution_count": null,
   "id": "9da44a3d-2817-4b7e-939c-ac54d675e830",
   "metadata": {},
   "outputs": [],
   "source": [
    "#| export\n",
    "def _stack_detach(l: Collection[Tensor]):\n",
    "    return torch.stack(list(map(lambda x: x.detach(), l)))"
   ]
  },
  {
   "cell_type": "markdown",
   "id": "55ab3362-0875-4329-9cf0-39b3efb97cdb",
   "metadata": {},
   "source": [
    "### Positive Definite Constraint"
   ]
  },
  {
   "cell_type": "markdown",
   "id": "5a465f39-300b-4a9d-93e9-d29ce76e8f79",
   "metadata": {},
   "source": [
    "transform any matrix $A$ into a positive definite matrix ($PD$) using the following formula\n",
    "\n",
    "$PD = A A^T + aI$\n",
    "\n",
    "where $AA^T$ ensures that A is positive semi-definite and adding a small positive number of the diagonal $aI$ ensures that is definite \n",
    "\n",
    "for details see https://stackoverflow.com/a/58192215/8555045\n",
    "\n",
    "add also inverse transformation using cholesky decomposition\n",
    "\n",
    "\n",
    "API inspired by gpytorch constraints"
   ]
  },
  {
   "cell_type": "code",
   "execution_count": null,
   "id": "7c1ed1d9-6a2d-401d-be0f-25d59f36b1a5",
   "metadata": {},
   "outputs": [],
   "source": [
    "#| export\n",
    "def is_pos_semidef(cov):\n",
    "    return torch.distributions.constraints.positive_semidefinite.check(cov).item()"
   ]
  },
  {
   "cell_type": "code",
   "execution_count": null,
   "id": "d69d6284-dfac-4768-823d-88b8f29cd558",
   "metadata": {},
   "outputs": [],
   "source": [
    "#| export\n",
    "def check_is_pos_semidef(cov):\n",
    "    if not is_pos_semidef(cov):\n",
    "        raise ValueError(f\"Not positive semi definite {cov}\")"
   ]
  },
  {
   "cell_type": "code",
   "execution_count": null,
   "id": "9c6db671-ba1a-4f13-8bd4-8674ad4c2c6a",
   "metadata": {},
   "outputs": [],
   "source": [
    "#| export\n",
    "class PosDef():\n",
    "    \"\"\" Positive Definite Constraint for PyTorch parameters\"\"\"\n",
    "    def __init__(self, a=1e-7):\n",
    "        self.a = a\n",
    "    def transform(self,\n",
    "                  raw # square matrix that will be \n",
    "                 ):\n",
    "        \"transform any square matrix into a positive definite one\"\n",
    "        semi_pos = raw @ raw.T\n",
    "        check_is_pos_semidef(semi_pos)\n",
    "        return semi_pos + (self.a * torch.eye(raw.shape[0]))\n",
    "    \n",
    "    def inverse_transform(self,\n",
    "                          value # a positive definite matrix\n",
    "                         ):\n",
    "        \"tranform positive definite matrix into a raw matrix\"\n",
    "        return torch.linalg.cholesky(value)"
   ]
  },
  {
   "cell_type": "code",
   "execution_count": null,
   "id": "b3658175-e687-448c-85d1-2b62d0998177",
   "metadata": {},
   "outputs": [],
   "source": [
    "A = torch.rand(3,3)\n",
    "constraint = PosDef()\n",
    "\n",
    "posdef = constraint.transform(A)"
   ]
  },
  {
   "cell_type": "code",
   "execution_count": null,
   "id": "df9a0365-ba5f-458d-8ffc-df9599d10208",
   "metadata": {},
   "outputs": [
    {
     "data": {
      "text/plain": [
       "tensor([[0.7483, 0.9382, 0.1555],\n",
       "        [0.9651, 0.8235, 0.8243],\n",
       "        [0.9456, 0.2654, 0.9932]])"
      ]
     },
     "execution_count": null,
     "metadata": {},
     "output_type": "execute_result"
    }
   ],
   "source": [
    "A"
   ]
  },
  {
   "cell_type": "code",
   "execution_count": null,
   "id": "8c9964a0-41ec-4016-ad0f-7513589a8541",
   "metadata": {},
   "outputs": [
    {
     "data": {
      "text/plain": [
       "tensor([[1.4644, 1.6230, 1.1111],\n",
       "        [1.6230, 2.2890, 1.9498],\n",
       "        [1.1111, 1.9498, 1.9511]])"
      ]
     },
     "execution_count": null,
     "metadata": {},
     "output_type": "execute_result"
    }
   ],
   "source": [
    "posdef"
   ]
  },
  {
   "cell_type": "code",
   "execution_count": null,
   "id": "d2a5357c-2616-4f96-8ac3-b236a51e7383",
   "metadata": {},
   "outputs": [],
   "source": [
    "test_eq(torch.distributions.constraints.positive_definite.check(posdef), True)"
   ]
  },
  {
   "cell_type": "code",
   "execution_count": null,
   "id": "c865d14d-c8fe-4ba0-a600-4373b0635a58",
   "metadata": {},
   "outputs": [
    {
     "data": {
      "text/plain": [
       "tensor([[1.2101, 0.0000, 0.0000],\n",
       "        [1.3412, 0.7001, 0.0000],\n",
       "        [0.9182, 1.0261, 0.2349]])"
      ]
     },
     "execution_count": null,
     "metadata": {},
     "output_type": "execute_result"
    }
   ],
   "source": [
    "constraint.inverse_transform(posdef)"
   ]
  },
  {
   "cell_type": "code",
   "execution_count": null,
   "id": "5c32919e-6d79-4a16-99ae-1d3cd2726c95",
   "metadata": {},
   "outputs": [],
   "source": [
    "test_close(posdef, constraint.transform(constraint.inverse_transform(posdef)))"
   ]
  },
  {
   "cell_type": "code",
   "execution_count": null,
   "id": "72797c17-79f0-44bf-a90a-1384be8c3343",
   "metadata": {},
   "outputs": [],
   "source": [
    "torch.set_printoptions(precision=10)"
   ]
  },
  {
   "cell_type": "code",
   "execution_count": null,
   "id": "cb317ce9-e4d9-4150-8da1-7f3774b56a03",
   "metadata": {},
   "outputs": [
    {
     "data": {
      "text/plain": [
       "tensor([[1.4643729925, 1.6229895353, 1.1110808849],\n",
       "        [1.6229895353, 2.2889847755, 1.9498369694],\n",
       "        [1.1110808849, 1.9498369694, 1.9510511160]])"
      ]
     },
     "execution_count": null,
     "metadata": {},
     "output_type": "execute_result"
    }
   ],
   "source": [
    "posdef"
   ]
  },
  {
   "cell_type": "code",
   "execution_count": null,
   "id": "2dd604ba-ca5c-4973-bffd-d8e9018ce884",
   "metadata": {},
   "outputs": [
    {
     "data": {
      "text/plain": [
       "tensor(True)"
      ]
     },
     "execution_count": null,
     "metadata": {},
     "output_type": "execute_result"
    }
   ],
   "source": [
    "torch.isclose(posdef, posdef.mT, atol=1e-6).all(-2).all(-1)"
   ]
  },
  {
   "cell_type": "code",
   "execution_count": null,
   "id": "65f2a833-ea46-47bc-886e-b1e40b3e1a85",
   "metadata": {},
   "outputs": [],
   "source": [
    "#| export\n",
    "def is_symmetric(value, atol=1e-5):\n",
    "    return torch.isclose(value, value.mT, atol=atol).all().item()"
   ]
  },
  {
   "cell_type": "code",
   "execution_count": null,
   "id": "8d535136-e5a8-4c41-a9d7-99edc4d25c11",
   "metadata": {},
   "outputs": [
    {
     "data": {
      "text/plain": [
       "False"
      ]
     },
     "execution_count": null,
     "metadata": {},
     "output_type": "execute_result"
    }
   ],
   "source": [
    "is_symmetric(A)"
   ]
  },
  {
   "cell_type": "code",
   "execution_count": null,
   "id": "77d7bd95-ca50-4011-b290-3e90be4182da",
   "metadata": {},
   "outputs": [],
   "source": [
    "#| export\n",
    "def symmetric_upto(value, start=-8):\n",
    "    for exp in torch.arange(start, 3):\n",
    "        if is_symmetric(value, atol=10**exp):\n",
    "            return exp\n",
    "    return exp"
   ]
  },
  {
   "cell_type": "code",
   "execution_count": null,
   "id": "95c9e671-b456-4cee-9981-f53176ebaeff",
   "metadata": {},
   "outputs": [
    {
     "data": {
      "text/plain": [
       "tensor(-8)"
      ]
     },
     "execution_count": null,
     "metadata": {},
     "output_type": "execute_result"
    }
   ],
   "source": [
    "symmetric_upto(posdef)"
   ]
  },
  {
   "cell_type": "code",
   "execution_count": null,
   "id": "b6d3829e-d5ac-4855-9ad7-7f6dc3e7b1ae",
   "metadata": {},
   "outputs": [
    {
     "data": {
      "text/plain": [
       "tensor(0)"
      ]
     },
     "execution_count": null,
     "metadata": {},
     "output_type": "execute_result"
    }
   ],
   "source": [
    "symmetric_upto(A)"
   ]
  },
  {
   "cell_type": "code",
   "execution_count": null,
   "id": "6aeddb77-2214-4b47-a95c-bb8939d94654",
   "metadata": {},
   "outputs": [],
   "source": [
    "#| export\n",
    "def is_posdef(cov):\n",
    "    return torch.distributions.constraints.positive_definite.check(cov).item()"
   ]
  },
  {
   "cell_type": "code",
   "execution_count": null,
   "id": "d56b4f8a-469d-4964-a611-547ca5fcd54c",
   "metadata": {},
   "outputs": [
    {
     "data": {
      "text/plain": [
       "True"
      ]
     },
     "execution_count": null,
     "metadata": {},
     "output_type": "execute_result"
    }
   ],
   "source": [
    "is_pos_semidef(posdef)"
   ]
  },
  {
   "cell_type": "code",
   "execution_count": null,
   "id": "b95a649c-9280-469d-8772-df8a21179d99",
   "metadata": {},
   "outputs": [
    {
     "data": {
      "text/plain": [
       "False"
      ]
     },
     "execution_count": null,
     "metadata": {},
     "output_type": "execute_result"
    }
   ],
   "source": [
    "is_posdef(A)"
   ]
  },
  {
   "cell_type": "code",
   "execution_count": null,
   "id": "46db458d-e410-4028-a84f-b9dba2c580c0",
   "metadata": {},
   "outputs": [
    {
     "data": {
      "text/plain": [
       "True"
      ]
     },
     "execution_count": null,
     "metadata": {},
     "output_type": "execute_result"
    }
   ],
   "source": [
    "is_posdef(posdef)"
   ]
  },
  {
   "cell_type": "code",
   "execution_count": null,
   "id": "be3c80f2-07d1-4788-a406-49e4fec9a1db",
   "metadata": {},
   "outputs": [
    {
     "data": {
      "text/plain": [
       "tensor([-0.4108574390,  0.6451910734,  2.3305833340])"
      ]
     },
     "execution_count": null,
     "metadata": {},
     "output_type": "execute_result"
    }
   ],
   "source": [
    "torch.linalg.eigvalsh(A)"
   ]
  },
  {
   "cell_type": "code",
   "execution_count": null,
   "id": "be8d0883-3b56-492d-b834-d1051a08b838",
   "metadata": {},
   "outputs": [
    {
     "data": {
      "text/plain": [
       "tensor([0.0135278013, 0.5718843341, 5.1189956665])"
      ]
     },
     "execution_count": null,
     "metadata": {},
     "output_type": "execute_result"
    }
   ],
   "source": [
    "torch.linalg.eigvalsh(posdef)"
   ]
  },
  {
   "cell_type": "markdown",
   "id": "21c011b4-ce29-4975-8f71-17edccc03941",
   "metadata": {},
   "source": [
    "check if it is pos definite using eigenvalues"
   ]
  },
  {
   "cell_type": "code",
   "execution_count": null,
   "id": "721d75e4-d024-4937-88fc-cdf4982c676a",
   "metadata": {},
   "outputs": [
    {
     "data": {
      "text/plain": [
       "MultivariateNormal(loc: torch.Size([2, 3]), covariance_matrix: torch.Size([2, 3, 3]))"
      ]
     },
     "execution_count": null,
     "metadata": {},
     "output_type": "execute_result"
    }
   ],
   "source": [
    "MultivariateNormal(torch.stack([torch.ones(3)]*2), torch.stack([posdef, torch.eye(3)]))"
   ]
  },
  {
   "cell_type": "code",
   "execution_count": null,
   "id": "04fda98d-ef31-4bf6-bdd1-d536634b7f38",
   "metadata": {},
   "outputs": [],
   "source": [
    "#| export\n",
    "def is_posdef2(cov):\n",
    "    eigv = torch.linalg.eigvalsh(cov)\n",
    "    if (eigv < 0).any():\n",
    "        return False, eigv\n",
    "    return True, eigv"
   ]
  },
  {
   "cell_type": "code",
   "execution_count": null,
   "id": "51740642-5a09-4861-a24b-a0c2324cfb45",
   "metadata": {},
   "outputs": [
    {
     "data": {
      "text/plain": [
       "(True, tensor([0.0135278013, 0.5718843341, 5.1189956665]))"
      ]
     },
     "execution_count": null,
     "metadata": {},
     "output_type": "execute_result"
    }
   ],
   "source": [
    "is_posdef2(posdef)"
   ]
  },
  {
   "cell_type": "code",
   "execution_count": null,
   "id": "7065b9c2-c50b-4e54-ab96-5c27dc89fe65",
   "metadata": {},
   "outputs": [
    {
     "data": {
      "text/plain": [
       "(False, tensor([-0.4108574390,  0.6451910734,  2.3305833340]))"
      ]
     },
     "execution_count": null,
     "metadata": {},
     "output_type": "execute_result"
    }
   ],
   "source": [
    "is_posdef2(A)"
   ]
  },
  {
   "cell_type": "code",
   "execution_count": null,
   "id": "b3138c12-f991-471e-bd39-51096a968eeb",
   "metadata": {},
   "outputs": [],
   "source": [
    "#| export\n",
    "from warnings import warn"
   ]
  },
  {
   "cell_type": "code",
   "execution_count": null,
   "id": "f3417f2f-ebb1-433a-a6c9-d4a751d8a427",
   "metadata": {},
   "outputs": [
    {
     "data": {
      "text/plain": [
       "tensor([[ True,  True,  True],\n",
       "        [False,  True,  True],\n",
       "        [False, False,  True]])"
      ]
     },
     "execution_count": null,
     "metadata": {},
     "output_type": "execute_result"
    }
   ],
   "source": [
    "mask = torch.tril(torch.ones(3,3, dtype=torch.bool)).T\n",
    "mask"
   ]
  },
  {
   "cell_type": "code",
   "execution_count": null,
   "id": "fa7f7d3a-e813-42a7-9bb9-8851a5daf26e",
   "metadata": {},
   "outputs": [
    {
     "data": {
      "text/plain": [
       "tensor([0.7482852936, 0.9382153153, 0.1555444002, 0.8234661222, 0.8242675662,\n",
       "        0.9931656122])"
      ]
     },
     "execution_count": null,
     "metadata": {},
     "output_type": "execute_result"
    }
   ],
   "source": [
    "A[mask]"
   ]
  },
  {
   "cell_type": "code",
   "execution_count": null,
   "id": "e964901c-3ecf-4544-9efb-0c07a1e71158",
   "metadata": {},
   "outputs": [],
   "source": [
    "A[mask] = torch.tril(A)[mask]"
   ]
  },
  {
   "cell_type": "code",
   "execution_count": null,
   "id": "aab560ab-8df1-4e46-a625-6c35ca0af2d3",
   "metadata": {},
   "outputs": [],
   "source": [
    "#| export\n",
    "def make_symmetric(value):\n",
    "    \"drops upper half to make matrix symmetric\"\n",
    "    value = value.clone()\n",
    "    mask = torch.tril(torch.ones_like(value, dtype=torch.bool))\n",
    "    value[mask.T] = torch.tril(value)[mask]\n",
    "    return value"
   ]
  },
  {
   "cell_type": "code",
   "execution_count": null,
   "id": "352f2cb2-2289-4f2f-9a68-2bd424d700d3",
   "metadata": {},
   "outputs": [
    {
     "data": {
      "text/plain": [
       "tensor([[0.7482852936, 0.9651275277, 0.8234661222],\n",
       "        [0.9651275277, 0.9456449747, 0.2653839588],\n",
       "        [0.9456449747, 0.2653839588, 0.9931656122]])"
      ]
     },
     "execution_count": null,
     "metadata": {},
     "output_type": "execute_result"
    }
   ],
   "source": [
    "make_symmetric(A)"
   ]
  },
  {
   "cell_type": "code",
   "execution_count": null,
   "id": "071053a4-7d9b-4418-b417-8eaa49f44b7d",
   "metadata": {},
   "outputs": [
    {
     "data": {
      "text/plain": [
       "False"
      ]
     },
     "execution_count": null,
     "metadata": {},
     "output_type": "execute_result"
    }
   ],
   "source": [
    "is_symmetric(make_symmetric(A))"
   ]
  },
  {
   "cell_type": "code",
   "execution_count": null,
   "id": "63256fb4-7b5c-42b9-b3aa-9582ddb82fb7",
   "metadata": {},
   "outputs": [],
   "source": [
    "#| export\n",
    "import pandas as pd"
   ]
  },
  {
   "cell_type": "code",
   "execution_count": null,
   "id": "8b629657-b080-4a34-a668-023d04ad9dcb",
   "metadata": {},
   "outputs": [],
   "source": [
    "posdef_log = pd.DataFrame() # None # make it None to disable logging"
   ]
  },
  {
   "cell_type": "markdown",
   "id": "c1e4bad9-909a-4114-9583-99b48bc9a543",
   "metadata": {},
   "source": [
    "#### Check pos def"
   ]
  },
  {
   "cell_type": "code",
   "execution_count": null,
   "id": "1884d1b7-1bb0-4f51-b14d-fbf24c9743be",
   "metadata": {},
   "outputs": [],
   "source": [
    "#| export\n",
    "def check_posdef(value, name = '', error=True, **extra_args):\n",
    "    value = value.clone()\n",
    "    sym_upto = symmetric_upto(value).numpy()\n",
    "    \n",
    "    is_pd_eigv, eigv = is_posdef2(value)\n",
    "    is_pd_chol = torch.linalg.cholesky_ex(value).info.eq(0).all().item()\n",
    "    is_sym = is_symmetric(value)\n",
    "  \n",
    "    # sym = make_symmetric(value)\n",
    "    # is_pd_forced, _ = is_posdef2(sym)\n",
    "    \n",
    "    \n",
    "    \n",
    "    info = pd.DataFrame({\n",
    "        'is_pd_eigv': is_pd_eigv,\n",
    "        'is_pd_chol': is_pd_chol,\n",
    "        'is_sym': is_sym,\n",
    "        'sym_upto': sym_upto,\n",
    "        # 'force_sym_posdef': is_pd_forced,\n",
    "        'eigv': [eigv.detach().numpy()],\n",
    "        'matrix': [value.detach().numpy()],\n",
    "        'name': name,\n",
    "        **extra_args\n",
    "    })\n",
    "    \n",
    "    global posdef_log\n",
    "    if posdef_log is not None:\n",
    "        posdef_log = pd.concat([posdef_log, info])\n",
    "    \n",
    "    if not is_pd_eigv or not is_pd_chol:\n",
    "        if error:\n",
    "            warn(\"Matrix is not positive definite\")\n",
    "    return info"
   ]
  },
  {
   "cell_type": "code",
   "execution_count": null,
   "id": "3dff4b81-9705-4eab-b6b2-b6804c88e641",
   "metadata": {},
   "outputs": [
    {
     "name": "stderr",
     "output_type": "stream",
     "text": [
      "/tmp/ipykernel_209421/527603031.py:33: UserWarning: Matrix is not positive definite\n",
      "  warn(\"Matrix is not positive definite\")\n"
     ]
    },
    {
     "data": {
      "text/plain": [
       "is_pd_eigv      bool\n",
       "is_pd_chol      bool\n",
       "is_sym          bool\n",
       "sym_upto       int64\n",
       "eigv          object\n",
       "matrix        object\n",
       "name          object\n",
       "dtype: object"
      ]
     },
     "execution_count": null,
     "metadata": {},
     "output_type": "execute_result"
    }
   ],
   "source": [
    "check_posdef(A, 'A').dtypes"
   ]
  },
  {
   "cell_type": "code",
   "execution_count": null,
   "id": "6c61185a-3592-4592-861b-9f680935fed9",
   "metadata": {},
   "outputs": [
    {
     "data": {
      "text/plain": [
       "tensor([[0.7482852936, 0.0000000000, 0.0000000000],\n",
       "        [0.9651275277, 0.8234661222, 0.0000000000],\n",
       "        [0.9456449747, 0.2653839588, 0.9931656122]])"
      ]
     },
     "execution_count": null,
     "metadata": {},
     "output_type": "execute_result"
    }
   ],
   "source": [
    "A"
   ]
  },
  {
   "cell_type": "code",
   "execution_count": null,
   "id": "38a5f1b2-b982-4932-a1df-2b8a32b3d8c0",
   "metadata": {},
   "outputs": [
    {
     "data": {
      "text/plain": [
       "is_pd_eigv      bool\n",
       "is_pd_chol      bool\n",
       "is_sym          bool\n",
       "sym_upto       int64\n",
       "eigv          object\n",
       "matrix        object\n",
       "name          object\n",
       "dtype: object"
      ]
     },
     "execution_count": null,
     "metadata": {},
     "output_type": "execute_result"
    }
   ],
   "source": [
    "posdef_log.dtypes"
   ]
  },
  {
   "cell_type": "code",
   "execution_count": null,
   "id": "30de0993-5358-4355-a875-5f6a508da4c2",
   "metadata": {},
   "outputs": [
    {
     "data": {
      "text/plain": [
       "tensor(0)"
      ]
     },
     "execution_count": null,
     "metadata": {},
     "output_type": "execute_result"
    }
   ],
   "source": [
    "symmetric_upto(A)"
   ]
  },
  {
   "cell_type": "code",
   "execution_count": null,
   "id": "de968672-3a97-4094-bd08-75bcae17aa88",
   "metadata": {},
   "outputs": [
    {
     "name": "stderr",
     "output_type": "stream",
     "text": [
      "/tmp/ipykernel_209421/527603031.py:33: UserWarning: Matrix is not positive definite\n",
      "  warn(\"Matrix is not positive definite\")\n"
     ]
    },
    {
     "data": {
      "text/html": [
       "<div>\n",
       "<style scoped>\n",
       "    .dataframe tbody tr th:only-of-type {\n",
       "        vertical-align: middle;\n",
       "    }\n",
       "\n",
       "    .dataframe tbody tr th {\n",
       "        vertical-align: top;\n",
       "    }\n",
       "\n",
       "    .dataframe thead th {\n",
       "        text-align: right;\n",
       "    }\n",
       "</style>\n",
       "<table border=\"1\" class=\"dataframe\">\n",
       "  <thead>\n",
       "    <tr style=\"text-align: right;\">\n",
       "      <th></th>\n",
       "      <th>is_pd_eigv</th>\n",
       "      <th>is_pd_chol</th>\n",
       "      <th>is_sym</th>\n",
       "      <th>sym_upto</th>\n",
       "      <th>eigv</th>\n",
       "      <th>matrix</th>\n",
       "      <th>name</th>\n",
       "    </tr>\n",
       "  </thead>\n",
       "  <tbody>\n",
       "    <tr>\n",
       "      <th>0</th>\n",
       "      <td>False</td>\n",
       "      <td>False</td>\n",
       "      <td>False</td>\n",
       "      <td>0</td>\n",
       "      <td>[-0.41085744, 0.6451911, 2.3305833]</td>\n",
       "      <td>[[0.7482853, 0.0, 0.0], [0.9651275, 0.8234661,...</td>\n",
       "      <td></td>\n",
       "    </tr>\n",
       "  </tbody>\n",
       "</table>\n",
       "</div>"
      ],
      "text/plain": [
       "   is_pd_eigv  is_pd_chol  is_sym  sym_upto  \\\n",
       "0       False       False   False         0   \n",
       "\n",
       "                                  eigv  \\\n",
       "0  [-0.41085744, 0.6451911, 2.3305833]   \n",
       "\n",
       "                                              matrix name  \n",
       "0  [[0.7482853, 0.0, 0.0], [0.9651275, 0.8234661,...       "
      ]
     },
     "execution_count": null,
     "metadata": {},
     "output_type": "execute_result"
    }
   ],
   "source": [
    "check_posdef(A)"
   ]
  },
  {
   "cell_type": "code",
   "execution_count": null,
   "id": "714b2f54-2d2f-43cb-85c7-efebe6b221bf",
   "metadata": {},
   "outputs": [
    {
     "data": {
      "text/html": [
       "<div>\n",
       "<style scoped>\n",
       "    .dataframe tbody tr th:only-of-type {\n",
       "        vertical-align: middle;\n",
       "    }\n",
       "\n",
       "    .dataframe tbody tr th {\n",
       "        vertical-align: top;\n",
       "    }\n",
       "\n",
       "    .dataframe thead th {\n",
       "        text-align: right;\n",
       "    }\n",
       "</style>\n",
       "<table border=\"1\" class=\"dataframe\">\n",
       "  <thead>\n",
       "    <tr style=\"text-align: right;\">\n",
       "      <th></th>\n",
       "      <th>is_pd_eigv</th>\n",
       "      <th>is_pd_chol</th>\n",
       "      <th>is_sym</th>\n",
       "      <th>sym_upto</th>\n",
       "      <th>eigv</th>\n",
       "      <th>matrix</th>\n",
       "      <th>name</th>\n",
       "    </tr>\n",
       "  </thead>\n",
       "  <tbody>\n",
       "    <tr>\n",
       "      <th>0</th>\n",
       "      <td>True</td>\n",
       "      <td>True</td>\n",
       "      <td>True</td>\n",
       "      <td>-8</td>\n",
       "      <td>[0.013527801, 0.57188433, 5.1189957]</td>\n",
       "      <td>[[1.464373, 1.6229895, 1.1110809], [1.6229895,...</td>\n",
       "      <td></td>\n",
       "    </tr>\n",
       "  </tbody>\n",
       "</table>\n",
       "</div>"
      ],
      "text/plain": [
       "   is_pd_eigv  is_pd_chol  is_sym  sym_upto  \\\n",
       "0        True        True    True        -8   \n",
       "\n",
       "                                   eigv  \\\n",
       "0  [0.013527801, 0.57188433, 5.1189957]   \n",
       "\n",
       "                                              matrix name  \n",
       "0  [[1.464373, 1.6229895, 1.1110809], [1.6229895,...       "
      ]
     },
     "execution_count": null,
     "metadata": {},
     "output_type": "execute_result"
    }
   ],
   "source": [
    "check_posdef(posdef)"
   ]
  },
  {
   "cell_type": "code",
   "execution_count": null,
   "id": "b121bb22-d1b5-4c4c-9afe-af879ddf28ea",
   "metadata": {},
   "outputs": [],
   "source": [
    "#| export\n",
    "posdef_log = None # by default disable logging for exported module "
   ]
  },
  {
   "cell_type": "code",
   "execution_count": null,
   "id": "c0afa8c3-870d-4af9-ae29-d57aa60c8d34",
   "metadata": {},
   "outputs": [],
   "source": [
    "#| export\n",
    "def check_posdef4(value, error=True):\n",
    "    msg = \"\"\n",
    "    is_pd_eigv, eigv = is_posdef2(value)\n",
    "    is_pd_chol = is_posdef(value)\n",
    "    if not is_pd_eigv or not is_pd_chol:\n",
    "        is_sym = is_symmetric(value)\n",
    "        if not is_sym:\n",
    "            msg += f\"Not symmetric, symmetric up to 1e{symmetric_upto(value)}\\n\"\n",
    "            msg += f\"Not pos definite with eigv {eigv} \\n\"\n",
    "        # try to make it symmetric and try again to see if it's posdef\n",
    "            sym = make_symmetric(value)\n",
    "            is_pd, eigv = is_posdef2(sym)\n",
    "            add_msg = \"forced symmetric is posdef\" if is_pd else \"force symmetric is not posdef\"\n",
    "            msg += add_msg\n",
    "        \n",
    "    if msg != \"\":\n",
    "        msg += str(value)\n",
    "        warn(msg)"
   ]
  },
  {
   "cell_type": "code",
   "execution_count": null,
   "id": "85129a83-3215-4c1c-9753-4ddd9bdb37a9",
   "metadata": {},
   "outputs": [],
   "source": [
    "def check_posdef3(cov, error=True):\n",
    "    if not is_posdef(cov):\n",
    "        is_pd, eigv = is_posdef2(cov)\n",
    "        if is_pd:\n",
    "            print(f\"actually pos definite {eigv} \\n{cov}\")\n",
    "        else:\n",
    "            msg = f\"not pos definite {eigv} \\n {cov}\"\n",
    "            if error:\n",
    "                raise ValueError(msg)\n",
    "            else:\n",
    "                print(msg)"
   ]
  },
  {
   "cell_type": "code",
   "execution_count": null,
   "id": "cb34c4b9-b2c8-4c20-a1d6-3e0f2e730044",
   "metadata": {},
   "outputs": [],
   "source": [
    "def check_posdef2(cov):\n",
    "    errors = []\n",
    "    for i in range(10):\n",
    "        if not is_posdef(cov):\n",
    "            errors.append(i)\n",
    "    if len(errors) > 0:\n",
    "        print(f\"at iterations {errors} not positive definite matrix. \\n{cov}\")"
   ]
  },
  {
   "cell_type": "markdown",
   "id": "3d3f26ea-ed98-427e-8257-63db13bf17d7",
   "metadata": {},
   "source": [
    "## KalmanFilter"
   ]
  },
  {
   "cell_type": "markdown",
   "id": "6cab259c-2315-4019-bb1e-61f3b1504bd5",
   "metadata": {},
   "source": [
    "The Kalman Filter is an algorithm designed to estimate $P(x_t | y_{0:t})$.  As all state transitions and obss are linear with Gaussian distributed noise, these distributions can be represented exactly as Gaussian distributions with mean `filt_state_means[t]` and covs `filt_state_covs[t]`.\n",
    "Similarly, the Kalman Smoother is an algorithm designed to estimate $P(x_t | y_{0:T-1})$\n",
    "\n"
   ]
  },
  {
   "cell_type": "markdown",
   "id": "68d33ff3-5e3e-40ad-b21c-71d2358a7d7b",
   "metadata": {},
   "source": [
    "### Main class"
   ]
  },
  {
   "cell_type": "code",
   "execution_count": null,
   "id": "4768434a-a51c-48a3-8813-afd59949ef51",
   "metadata": {},
   "outputs": [],
   "source": [
    "#| export\n",
    "class KalmanFilter(torch.nn.Module):\n",
    "    \"\"\"Kalman Filter and Kalman Smoother using PyTorch\"\"\"\n",
    "    def __init__(self,\n",
    "            transition_matrices: Tensor=None, # [n_timesteps-1, n_dim_state, n_dim_state] or [n_dim_state,n_dim_state] \n",
    "               # Also known as $A$ \n",
    "               # state transition matrix between times t and t+1 for t in [0...n_timesteps-2]\n",
    "            obs_matrices: Tensor=None, # [n_timesteps, n_dim_obs, n_dim_state] or [n_dim_obs, n_dim_state]\n",
    "                # Also known as $H$\n",
    "                # obs matrix for times [0...n_timesteps-1]\n",
    "            transition_cov: Tensor=None, # [n_dim_state, n_dim_state] \n",
    "                 # Also known as $Q$\n",
    "                 # state transition cov matrix for times [0...n_timesteps-2]\n",
    "            obs_cov: Tensor=None, # [n_dim_obs, n_dim_obs]\n",
    "                 # Also known as $R$\n",
    "                 # obs cov matrix for times [0...n_timesteps-1]\n",
    "            transition_offsets: Tensor=None, # [n_timesteps-1, n_dim_state] or [n_dim_state]\n",
    "                 # Also known as $b$\n",
    "                 # state offsets for times [0...n_timesteps-2]\n",
    "            obs_offsets: Tensor=None, # [n_timesteps, n_dim_obs] or [n_dim_obs]\n",
    "                 # Also known as $d$\n",
    "            initial_state_mean: Tensor=None, # [n_dim_state]\n",
    "                 # Also known as $\\mu_0\"$\n",
    "            initial_state_cov: Tensor=None, # [n_dim_state, n_dim_state]\n",
    "                 # Also known as $\\Sigma_0$\n",
    "            n_dim_state: int = None, # Number of dimensions for state - defaults to 1 if cannot be infered from parameters\n",
    "            n_dim_obs: int = None # Number of dimensions for observations - defaults to 1 if cannot be infered from parameters\n",
    "                ):\n",
    "        \"\"\"Initialize Kalman Filter\"\"\"\n",
    "        \n",
    "        super().__init__()\n",
    "        \n",
    "        # determine size of state space and check parameters are consistent\n",
    "        n_dim_state = _determine_dimensionality(\n",
    "            [(transition_matrices, array2d, -2),\n",
    "             (transition_offsets, array1d, -1),\n",
    "             (transition_cov, array2d, -2),\n",
    "             (initial_state_mean, array1d, -1),\n",
    "             (initial_state_cov, array2d, -2),\n",
    "             (obs_matrices, array2d, -1)],\n",
    "            n_dim_state\n",
    "        )\n",
    "        n_dim_obs = _determine_dimensionality(\n",
    "            [(obs_matrices, array2d, -2),\n",
    "             (obs_offsets, array1d, -1),\n",
    "             (obs_cov, array2d, -2)],\n",
    "            n_dim_obs\n",
    "        )\n",
    "        \n",
    "        self.n_dim_obs = n_dim_obs\n",
    "        self.n_dim_state = n_dim_state\n",
    "        \n",
    "        params = {\n",
    "        # name                 value         default_value                              converter constraint train\n",
    "        'transition_matrices': [transition_matrices, torch.eye(n_dim_state),            array2d, None    , True],\n",
    "        'transition_offsets':  [transition_offsets,  torch.zeros(n_dim_state),          array1d, None    , True],\n",
    "        'transition_cov':      [transition_cov,      torch.eye(n_dim_state),            array2d, PosDef(), True],\n",
    "        'obs_matrices':        [obs_matrices,        torch.eye(n_dim_obs, n_dim_state), array2d, None    , True],\n",
    "        'obs_offsets':         [obs_offsets,         torch.zeros(n_dim_obs),            array1d, None    , True],\n",
    "        'obs_cov':             [obs_cov,             torch.eye(n_dim_obs),              array2d, PosDef(), True],\n",
    "        'initial_state_mean':  [initial_state_mean,  torch.zeros(n_dim_state),          array1d, None    , True],\n",
    "        'initial_state_cov':   [initial_state_cov,   torch.eye(n_dim_state),            array2d, PosDef(), True],\n",
    "        }\n",
    "        \n",
    "        self._init_params(params)\n",
    "        \n",
    "        self.check_args = None\n",
    "        \n",
    "    def _init_params(self, params):\n",
    "        for name, (value, default, converter, constraint, train) in params.items():\n",
    "            value = value if value is not None else default\n",
    "            value = converter(value) \n",
    "            if constraint is not None:\n",
    "                name, value = self._init_constraint(name, value, constraint)\n",
    "            self._init_param(name, value, train)    \n",
    "    \n",
    "    def _init_param(self, param_name, value, train):\n",
    "        self.register_parameter(param_name, torch.nn.Parameter(value, requires_grad=train))\n",
    "    \n",
    "    ## Constraints ----\n",
    "    def _init_constraint(self, param_name, value, constraint):\n",
    "        name = param_name + \"_raw\"\n",
    "        value = constraint.inverse_transform(value)\n",
    "        setattr(self, param_name + \"_constraint\", constraint)\n",
    "        return name, value\n",
    "    \n",
    "    def _get_constraint(self, param_name):\n",
    "        constraint = getattr(self, param_name + \"_constraint\")\n",
    "        raw_value = getattr(self, param_name + \"_raw\")\n",
    "        return constraint.transform(raw_value)\n",
    "    \n",
    "    def _set_constraint(self, param_name, value, train=True):\n",
    "        constraint = getattr(self, param_name + \"_constraint\")\n",
    "        raw_value = constraint.inverse_transform(value)\n",
    "        self._init_param(param_name + \"_raw\", raw_value, train)\n",
    "        \n",
    "\n",
    "    \n",
    "    ### convenience functions to get and set parameters that have a constraint\n",
    "    \n",
    "    @property\n",
    "    def transition_cov(self):\n",
    "        return self._get_constraint('transition_cov')\n",
    "    \n",
    "    @transition_cov.setter\n",
    "    def transition_cov(self, value):\n",
    "        return self._set_constraint('transition_cov', value)\n",
    "    \n",
    "    @property\n",
    "    def obs_cov(self):\n",
    "        return self._get_constraint('obs_cov')\n",
    "    \n",
    "    @obs_cov.setter\n",
    "    def obs_cov(self, value):\n",
    "        return self._set_constraint('obs_cov', value)\n",
    "    \n",
    "    @property\n",
    "    def initial_state_cov(self):\n",
    "        return self._get_constraint('initial_state_cov')\n",
    "    \n",
    "    @initial_state_cov.setter\n",
    "    def initial_state_cov(self, value):\n",
    "        return self._set_constraint('initial_state_cov', value)\n",
    "    \n",
    "    \n",
    "    ### -----\n",
    "    \n",
    "    def _parse_obs(self, obs, mask=None):\n",
    "        \"\"\"Safely convert observations to their expected format\"\"\"\n",
    "        obs = torch.atleast_2d(obs)\n",
    "        if obs.shape[0] == 1 and obs.shape[1] > 1:\n",
    "            obs = obs.T\n",
    "        if mask is None: mask = ~torch.isnan(obs).any(axis=1)\n",
    "        return obs, mask\n",
    "    \n",
    "    def __repr__(self):\n",
    "        return f\"\"\"Kalman Filter\n",
    "        N dim obs: {self.n_dim_obs}, N dim state: {self.n_dim_state}\"\"\""
   ]
  },
  {
   "cell_type": "code",
   "execution_count": null,
   "id": "366024c0-832c-4c32-878e-6cd305ed0dc2",
   "metadata": {},
   "outputs": [],
   "source": [
    "k = KalmanFilter()"
   ]
  },
  {
   "cell_type": "code",
   "execution_count": null,
   "id": "f142e2fd-7578-4bbf-9a50-fa2845a65e5e",
   "metadata": {},
   "outputs": [
    {
     "data": {
      "text/plain": [
       "tensor([[1.0000001192]], grad_fn=<AddBackward0>)"
      ]
     },
     "execution_count": null,
     "metadata": {},
     "output_type": "execute_result"
    }
   ],
   "source": [
    "k.obs_cov"
   ]
  },
  {
   "cell_type": "code",
   "execution_count": null,
   "id": "5780f040-efbe-46d6-a9ee-f784d17a0000",
   "metadata": {},
   "outputs": [
    {
     "data": {
      "text/plain": [
       "tensor([[1.0000001192]], grad_fn=<AddBackward0>)"
      ]
     },
     "execution_count": null,
     "metadata": {},
     "output_type": "execute_result"
    }
   ],
   "source": [
    "k.initial_state_cov"
   ]
  },
  {
   "cell_type": "code",
   "execution_count": null,
   "id": "318d1943-54a4-46ca-8c5c-3227afa48b50",
   "metadata": {},
   "outputs": [],
   "source": [
    "k.initial_state_cov = array2d(torch.tensor(3.))"
   ]
  },
  {
   "cell_type": "code",
   "execution_count": null,
   "id": "1a04324e-6a7f-4744-8113-a2d61c798397",
   "metadata": {},
   "outputs": [
    {
     "data": {
      "text/plain": [
       "tensor([[3.]], grad_fn=<AddBackward0>)"
      ]
     },
     "execution_count": null,
     "metadata": {},
     "output_type": "execute_result"
    }
   ],
   "source": [
    "k.initial_state_cov"
   ]
  },
  {
   "cell_type": "code",
   "execution_count": null,
   "id": "d5a5e4bf-3989-4986-8718-6864db9f4cbe",
   "metadata": {},
   "outputs": [
    {
     "data": {
      "text/plain": [
       "Parameter containing:\n",
       "tensor([[1.7320507765]], requires_grad=True)"
      ]
     },
     "execution_count": null,
     "metadata": {},
     "output_type": "execute_result"
    }
   ],
   "source": [
    "k.initial_state_cov_raw"
   ]
  },
  {
   "cell_type": "code",
   "execution_count": null,
   "id": "3aedc286-3762-4382-96b9-7a3105170ef5",
   "metadata": {},
   "outputs": [
    {
     "data": {
      "text/plain": [
       "[('transition_matrices',\n",
       "  Parameter containing:\n",
       "  tensor([[1.]], requires_grad=True)),\n",
       " ('transition_offsets',\n",
       "  Parameter containing:\n",
       "  tensor([0.], requires_grad=True)),\n",
       " ('transition_cov_raw',\n",
       "  Parameter containing:\n",
       "  tensor([[1.]], requires_grad=True)),\n",
       " ('obs_matrices',\n",
       "  Parameter containing:\n",
       "  tensor([[1.]], requires_grad=True)),\n",
       " ('obs_offsets',\n",
       "  Parameter containing:\n",
       "  tensor([0.], requires_grad=True)),\n",
       " ('obs_cov_raw',\n",
       "  Parameter containing:\n",
       "  tensor([[1.]], requires_grad=True)),\n",
       " ('initial_state_mean',\n",
       "  Parameter containing:\n",
       "  tensor([0.], requires_grad=True)),\n",
       " ('initial_state_cov_raw',\n",
       "  Parameter containing:\n",
       "  tensor([[1.7320507765]], requires_grad=True))]"
      ]
     },
     "execution_count": null,
     "metadata": {},
     "output_type": "execute_result"
    }
   ],
   "source": [
    "list(k.named_parameters())"
   ]
  },
  {
   "cell_type": "code",
   "execution_count": null,
   "id": "a5ed3b33-3ecf-4172-bea3-544922a11f10",
   "metadata": {},
   "outputs": [],
   "source": [
    "k = KalmanFilter()\n",
    "# pykalman reference implementation\n",
    "pyk = pykalman.KalmanFilter()"
   ]
  },
  {
   "cell_type": "code",
   "execution_count": null,
   "id": "568428a3-a7e0-4b49-81ff-8d0d9847d712",
   "metadata": {},
   "outputs": [
    {
     "data": {
      "text/plain": [
       "tensor([1, 2, 3])"
      ]
     },
     "execution_count": null,
     "metadata": {},
     "output_type": "execute_result"
    }
   ],
   "source": [
    "X = torch.tensor([1,2,3])\n",
    "nX = X.numpy()\n",
    "X"
   ]
  },
  {
   "cell_type": "markdown",
   "id": "9465cf6b-4f50-4076-86fb-e8294d2e1ae0",
   "metadata": {},
   "source": [
    "2 dimensional dobs"
   ]
  },
  {
   "cell_type": "code",
   "execution_count": null,
   "id": "4145eb54-2123-4a89-afac-1d35e990eef3",
   "metadata": {},
   "outputs": [],
   "source": [
    "X2 = torch.tensor([[i, 10. * i] for i in range(1,5)])\n",
    "nX2 = X2.numpy()"
   ]
  },
  {
   "cell_type": "code",
   "execution_count": null,
   "id": "9f9689bf-34cb-4d0f-b965-012e7b757d5d",
   "metadata": {},
   "outputs": [],
   "source": [
    "k2 = KalmanFilter(transition_matrices = torch.eye(2), obs_matrices=torch.eye(2))\n",
    "\n",
    "pyk2 = pykalman.KalmanFilter(n_dim_obs = 2, n_dim_state=2)"
   ]
  },
  {
   "cell_type": "code",
   "execution_count": null,
   "id": "124270f8-eb11-42d0-8ca0-d769e461d1c0",
   "metadata": {},
   "outputs": [
    {
     "data": {
      "text/plain": [
       "tensor([[ 1., 10.],\n",
       "        [ 2., 20.],\n",
       "        [ 3., 30.],\n",
       "        [ 4., 40.]])"
      ]
     },
     "execution_count": null,
     "metadata": {},
     "output_type": "execute_result"
    }
   ],
   "source": [
    "X2"
   ]
  },
  {
   "cell_type": "code",
   "execution_count": null,
   "id": "58349f50-a03e-49b4-bb32-89ffa45b3b4f",
   "metadata": {},
   "outputs": [],
   "source": [
    "obs_mask = torch.ones_like(X2, dtype=torch.bool)\n",
    "obs_mask[0, 1] = False # only one value missing\n",
    "obs_mask[2, :] = False # whole row missing\n",
    "# Xm X missing\n",
    "X2m = X2.clone()\n",
    "X2m[~obs_mask] = torch.nan\n",
    "# nXm Numpy X missing\n",
    "nX2m = np.ma.masked_array(X2.numpy(), mask = ~obs_mask.numpy())"
   ]
  },
  {
   "cell_type": "code",
   "execution_count": null,
   "id": "6e8a6fce-3f6c-4097-acbd-2890c95b30e8",
   "metadata": {},
   "outputs": [
    {
     "data": {
      "text/plain": [
       "tensor([[ True, False],\n",
       "        [ True,  True],\n",
       "        [False, False],\n",
       "        [ True,  True]])"
      ]
     },
     "execution_count": null,
     "metadata": {},
     "output_type": "execute_result"
    }
   ],
   "source": [
    "obs_mask"
   ]
  },
  {
   "cell_type": "code",
   "execution_count": null,
   "id": "abee7727-dc21-4d6a-ad0a-2bc307528c4f",
   "metadata": {},
   "outputs": [
    {
     "data": {
      "text/plain": [
       "tensor([[ 1., nan],\n",
       "        [ 2., 20.],\n",
       "        [nan, nan],\n",
       "        [ 4., 40.]])"
      ]
     },
     "execution_count": null,
     "metadata": {},
     "output_type": "execute_result"
    }
   ],
   "source": [
    "X2m"
   ]
  },
  {
   "cell_type": "code",
   "execution_count": null,
   "id": "52985acd-0729-4faa-88f0-a074585e7718",
   "metadata": {},
   "outputs": [
    {
     "data": {
      "text/plain": [
       "masked_array(\n",
       "  data=[[1.0, --],\n",
       "        [2.0, 20.0],\n",
       "        [--, --],\n",
       "        [4.0, 40.0]],\n",
       "  mask=[[False,  True],\n",
       "        [False, False],\n",
       "        [ True,  True],\n",
       "        [False, False]],\n",
       "  fill_value=1e+20,\n",
       "  dtype=float32)"
      ]
     },
     "execution_count": null,
     "metadata": {},
     "output_type": "execute_result"
    }
   ],
   "source": [
    "nX2m"
   ]
  },
  {
   "cell_type": "markdown",
   "id": "68162da7-0e27-4771-90dd-fe3eede49aaa",
   "metadata": {},
   "source": [
    "### Tester"
   ]
  },
  {
   "cell_type": "code",
   "execution_count": null,
   "id": "e4c5a499-7c58-4127-901a-2e6fcf4d3502",
   "metadata": {},
   "outputs": [],
   "source": [
    "#| export\n",
    "from fastcore.basics import *"
   ]
  },
  {
   "cell_type": "code",
   "execution_count": null,
   "id": "b01c64cc-b7df-4091-bccc-41f37dec4ba2",
   "metadata": {},
   "outputs": [],
   "source": [
    "#| export\n",
    "to_posdef = PosDef(a=1e-5).transform\n",
    "\n",
    "class KalmanFilterTester():\n",
    "    \n",
    "    torch2pyk = {\n",
    "        'transition_matrices': 'transition_matrices',\n",
    "        'transition_offsets':  'transition_offsets',        \n",
    "        'transition_cov':      'transition_covariance',        \n",
    "        'obs_matrices':        'observation_matrices',\n",
    "        'obs_offsets':         'observation_offsets',          \n",
    "        'obs_cov':             'observation_covariance',            \n",
    "        'initial_state_mean':  'initial_state_mean',        \n",
    "        'initial_state_cov':   'initial_state_covariance',\n",
    "    }\n",
    "    \n",
    "    def __init__(self,\n",
    "                 n_dim_state = 3,\n",
    "                n_dim_obs = 3,\n",
    "                n_obs = 10,\n",
    "                p_missing = .3,\n",
    "                seed=42,\n",
    "                dtype=torch.float32,\n",
    "                nan_mask = True\n",
    "                ):\n",
    "        store_attr(but='seed')\n",
    "        reset_seed(seed)\n",
    "        \n",
    "        self.random_init()\n",
    "    \n",
    "    def random_init(self):\n",
    "        self.params = {\n",
    "            'transition_matrices': torch.rand(self.n_dim_state, self.n_dim_state, dtype=self.dtype),\n",
    "            'transition_offsets':  torch.rand(self.n_dim_state, dtype=self.dtype),        \n",
    "            'transition_cov':      to_posdef(torch.rand(self.n_dim_state, self.n_dim_state, dtype=self.dtype)),        \n",
    "            'obs_matrices':        torch.rand(self.n_dim_obs, self.n_dim_state, dtype=self.dtype),\n",
    "            'obs_offsets':         torch.rand(self.n_dim_obs, dtype=self.dtype),          \n",
    "            'obs_cov':             to_posdef(torch.rand(self.n_dim_obs, self.n_dim_obs, dtype=self.dtype)),            \n",
    "            'initial_state_mean':  torch.rand(self.n_dim_state, dtype=self.dtype),        \n",
    "            'initial_state_cov':   to_posdef(torch.rand(self.n_dim_state, self.n_dim_state, dtype=self.dtype)),\n",
    "        }\n",
    "        self.params_pyk = {self.torch2pyk[name]: param.numpy() for name, param in self.params.items()}\n",
    "        \n",
    "        self.filter = KalmanFilter(**self.params)\n",
    "        self.filter_pyk = pykalman.standard.KalmanFilter(**self.params_pyk)\n",
    "        \n",
    "        \n",
    "        self.data = torch.rand(self.n_obs, self.n_dim_obs, dtype=self.dtype)\n",
    "        self.mask = torch.rand(self.n_obs, self.n_dim_obs) > self.p_missing\n",
    "        if self.nan_mask: self.data[~self.mask] = torch.nan # ensure that the data cannot be used\n",
    "        self.mask_torch = self.mask.all(1)\n",
    "        self.data_pyk = np.ma.masked_array(self.data.numpy(), mask = ~self.mask.numpy()) \n",
    "    \n",
    "    "
   ]
  },
  {
   "cell_type": "code",
   "execution_count": null,
   "id": "d9d0541e-bfd9-4647-b969-b737b148db15",
   "metadata": {},
   "outputs": [],
   "source": [
    "tst = KalmanFilterTester()"
   ]
  },
  {
   "cell_type": "code",
   "execution_count": null,
   "id": "db3ddee2-d14b-49c1-a095-3a9ec4170aad",
   "metadata": {},
   "outputs": [],
   "source": [
    "tst64 = KalmanFilterTester(dtype=torch.float64)"
   ]
  },
  {
   "cell_type": "code",
   "execution_count": null,
   "id": "e18f5a8d-02dd-4493-ab0d-2c97e61bf4b8",
   "metadata": {},
   "outputs": [],
   "source": [
    "test_close(tst.params.values(), tst.params_pyk.values())"
   ]
  },
  {
   "cell_type": "markdown",
   "id": "82b38261-acb1-45f5-a12b-7668b5f78bfb",
   "metadata": {},
   "source": [
    "### Filter"
   ]
  },
  {
   "cell_type": "markdown",
   "id": "a7ca368e-9a56-46b2-bbcb-42e561107a88",
   "metadata": {},
   "source": [
    "#### Filter predict"
   ]
  },
  {
   "cell_type": "code",
   "execution_count": null,
   "id": "935e06ec-05cf-4521-ad9d-26f3be41eb1c",
   "metadata": {},
   "outputs": [],
   "source": [
    "#| export\n",
    "from datetime import datetime\n",
    "def _filter_predict(transition_matrix, transition_cov,\n",
    "                    transition_offset, current_state_mean,\n",
    "                    current_state_cov, check_args=None):\n",
    "    r\"\"\"Calculate the mean and cov of :math:`P(x_{t+1} | z_{0:t})`\n",
    "\n",
    "    Using the mean and cov of :math:`P(x_t | z_{0:t})`, calculate the\n",
    "    mean and cov of :math:`P(x_{t+1} | z_{0:t})`.\n",
    "\n",
    "    Parameters\n",
    "    ----------\n",
    "    transition_matrix : [n_dim_state, n_dim_state} array\n",
    "        state transition matrix from time t to t+1\n",
    "    transition_cov : [n_dim_state, n_dim_state] array\n",
    "        cov matrix for state transition from time t to t+1\n",
    "    transition_offset : [n_dim_state] array\n",
    "        offset for state transition from time t to t+1\n",
    "    current_state_mean: [n_dim_state] array\n",
    "        mean of state at time t given obss from times\n",
    "        [0...t]\n",
    "    current_state_cov: [n_dim_state, n_dim_state] array\n",
    "        cov of state at time t given obss from times\n",
    "        [0...t]\n",
    "\n",
    "    Returns\n",
    "    -------\n",
    "    pred_state_mean : [n_dim_state] array\n",
    "        mean of state at time t+1 given obss from times [0...t]\n",
    "    pred_state_cov : [n_dim_state, n_dim_state] array\n",
    "        cov of state at time t+1 given obss from times\n",
    "        [0...t]\n",
    "    \"\"\"\n",
    "    pred_state_mean = transition_matrix @ current_state_mean + transition_offset\n",
    "    pred_state_cov =  transition_matrix @ current_state_cov @ transition_matrix.T + transition_cov\n",
    "\n",
    "    if check_args is not None: check_posdef(pred_state_cov, 'filter_predict', **check_args)\n",
    "    \n",
    "    return (pred_state_mean, pred_state_cov)"
   ]
  },
  {
   "cell_type": "code",
   "execution_count": null,
   "id": "f5467408-c979-4a0e-8ed5-bc52ec9996dd",
   "metadata": {},
   "outputs": [],
   "source": [
    "def _filter_predict2(transition_matrix, transition_covariance,\n",
    "                    transition_offset, current_state_mean,\n",
    "                    current_state_covariance):\n",
    "    predicted_state_mean = (\n",
    "        torch.matmul(transition_matrix, current_state_mean)\n",
    "        + transition_offset\n",
    "    )\n",
    "    predicted_state_covariance = (\n",
    "        torch.matmul(transition_matrix,\n",
    "               torch.matmul(current_state_covariance,\n",
    "                      transition_matrix.T))\n",
    "        + transition_covariance\n",
    "    )\n",
    "\n",
    "    return (predicted_state_mean, predicted_state_covariance)"
   ]
  },
  {
   "cell_type": "code",
   "execution_count": null,
   "id": "28026910-a3ff-4e1a-92de-ac2e964e0990",
   "metadata": {},
   "outputs": [
    {
     "data": {
      "text/plain": [
       "tensor([[0., 0., 0.],\n",
       "        [0., 0., 0.],\n",
       "        [0., 0., 0.]])"
      ]
     },
     "execution_count": null,
     "metadata": {},
     "output_type": "execute_result"
    }
   ],
   "source": [
    "(\n",
    "    (tst.params['transition_matrices'] @ tst.params['initial_state_cov'] ) -\n",
    "    torch.matmul(tst.params['transition_matrices'], tst.params['initial_state_cov'])\n",
    ")"
   ]
  },
  {
   "cell_type": "code",
   "execution_count": null,
   "id": "bbf0c398-66d0-49fb-9c22-194036531e12",
   "metadata": {},
   "outputs": [
    {
     "data": {
      "text/plain": [
       "tensor([[ 0.0000000000e+00, -2.3841857910e-07, -2.3841857910e-07],\n",
       "        [ 0.0000000000e+00,  0.0000000000e+00,  0.0000000000e+00],\n",
       "        [ 0.0000000000e+00,  0.0000000000e+00,  0.0000000000e+00]])"
      ]
     },
     "execution_count": null,
     "metadata": {},
     "output_type": "execute_result"
    }
   ],
   "source": [
    "(\n",
    "    (tst.params['transition_matrices'] @ tst.params['initial_state_cov']  @ tst.params['transition_matrices'].T) -\n",
    "    torch.matmul(tst.params['transition_matrices'], torch.matmul(tst.params['initial_state_cov'], tst.params['transition_matrices'].T))\n",
    ")"
   ]
  },
  {
   "cell_type": "code",
   "execution_count": null,
   "id": "d09c1ac0-f255-42b5-a329-fce9f69e56ca",
   "metadata": {},
   "outputs": [
    {
     "data": {
      "text/plain": [
       "tensor([[ 0.0000000000e+00,  0.0000000000e+00, -2.3841857910e-07],\n",
       "        [ 0.0000000000e+00,  0.0000000000e+00,  0.0000000000e+00],\n",
       "        [ 0.0000000000e+00,  0.0000000000e+00,  0.0000000000e+00]])"
      ]
     },
     "execution_count": null,
     "metadata": {},
     "output_type": "execute_result"
    }
   ],
   "source": [
    "(\n",
    "    (tst.params['transition_matrices'] @ tst.params['initial_state_cov']  @ tst.params['transition_matrices'].T + tst.params['transition_cov']) -\n",
    "    (torch.matmul(tst.params['transition_matrices'], torch.matmul(tst.params['initial_state_cov'], tst.params['transition_matrices'].T)) + tst.params['transition_cov'])\n",
    ")"
   ]
  },
  {
   "cell_type": "code",
   "execution_count": null,
   "id": "dc141646-3e32-461d-84d2-bab7a6423d61",
   "metadata": {},
   "outputs": [],
   "source": [
    "trans_m = np.eye(2)\n",
    "trans_cov = np.eye(2)\n",
    "trans_off = np.zeros((2,2))\n",
    "curr_mean = np.ones((2,1))\n",
    "curr_cov = np.zeros((2,2))"
   ]
  },
  {
   "cell_type": "code",
   "execution_count": null,
   "id": "25d156cb-a6c5-4098-8368-9544f6b22ba9",
   "metadata": {},
   "outputs": [
    {
     "data": {
      "text/plain": [
       "(tensor([[1., 1.],\n",
       "         [1., 1.]], dtype=torch.float64),\n",
       " tensor([[1., 0.],\n",
       "         [0., 1.]], dtype=torch.float64))"
      ]
     },
     "execution_count": null,
     "metadata": {},
     "output_type": "execute_result"
    }
   ],
   "source": [
    "_filter_predict(torch.tensor(trans_m) , torch.tensor(trans_cov), torch.tensor(trans_off), torch.tensor(curr_mean), torch.tensor(curr_cov))"
   ]
  },
  {
   "cell_type": "code",
   "execution_count": null,
   "id": "c8d817b0-41be-4577-a6ea-b0e20ef47b06",
   "metadata": {},
   "outputs": [],
   "source": [
    "test_close(\n",
    "    pykalman.standard._filter_predict(trans_m , trans_cov, trans_off, curr_mean, curr_cov),\n",
    "    _filter_predict(torch.tensor(trans_m) , torch.tensor(trans_cov), torch.tensor(trans_off), torch.tensor(curr_mean), torch.tensor(curr_cov)))"
   ]
  },
  {
   "cell_type": "code",
   "execution_count": null,
   "id": "2d9651d3-2af2-47a4-8ac8-1941dfc5e733",
   "metadata": {},
   "outputs": [],
   "source": [
    "pred_pyk = pykalman.standard._filter_predict(\n",
    "   tst.params_pyk['transition_matrices'],\n",
    "   tst.params_pyk['transition_covariance'],\n",
    "   tst.params_pyk['transition_offsets'],\n",
    "   tst.params_pyk['initial_state_mean'],\n",
    "   tst.params_pyk['initial_state_covariance'],\n",
    ")"
   ]
  },
  {
   "cell_type": "code",
   "execution_count": null,
   "id": "22ad00ef-ce2a-4486-91a4-53e723741400",
   "metadata": {},
   "outputs": [],
   "source": [
    "pred_torch = _filter_predict(\n",
    "   tst.params['transition_matrices'],\n",
    "   tst.params['transition_cov'],\n",
    "   tst.params['transition_offsets'],\n",
    "   tst.params['initial_state_mean'],\n",
    "   tst.params['initial_state_cov'],\n",
    "\n",
    ")"
   ]
  },
  {
   "cell_type": "code",
   "execution_count": null,
   "id": "a5a3c6e7-c359-412a-80c5-1702330ca12d",
   "metadata": {},
   "outputs": [
    {
     "data": {
      "text/plain": [
       "array([0., 0., 0.], dtype=float32)"
      ]
     },
     "execution_count": null,
     "metadata": {},
     "output_type": "execute_result"
    }
   ],
   "source": [
    "pred_pyk[0] - pred_torch[0].numpy()"
   ]
  },
  {
   "cell_type": "code",
   "execution_count": null,
   "id": "0d6952b8-a96e-49ec-a069-d5db9abed821",
   "metadata": {},
   "outputs": [],
   "source": [
    "test_close(pred_pyk[0], pred_torch[0])"
   ]
  },
  {
   "cell_type": "code",
   "execution_count": null,
   "id": "0574b9b6-bbd4-450c-ae65-39c95f1c153e",
   "metadata": {},
   "outputs": [
    {
     "data": {
      "text/plain": [
       "array([[0.0000000e+00, 0.0000000e+00, 2.3841858e-07],\n",
       "       [0.0000000e+00, 0.0000000e+00, 0.0000000e+00],\n",
       "       [0.0000000e+00, 0.0000000e+00, 0.0000000e+00]], dtype=float32)"
      ]
     },
     "execution_count": null,
     "metadata": {},
     "output_type": "execute_result"
    }
   ],
   "source": [
    "pred_pyk[1] - pred_torch[1].numpy()"
   ]
  },
  {
   "cell_type": "code",
   "execution_count": null,
   "id": "8160e541-4d24-433b-98a1-efde62af8086",
   "metadata": {},
   "outputs": [],
   "source": [
    "test_close(pred_pyk[1], pred_torch[1])"
   ]
  },
  {
   "cell_type": "code",
   "execution_count": null,
   "id": "56d48222-f986-40b3-9974-d419aebda352",
   "metadata": {},
   "outputs": [
    {
     "data": {
      "text/plain": [
       "\u001b[0;31mSignature:\u001b[0m\n",
       "\u001b[0mpykalman\u001b[0m\u001b[0;34m.\u001b[0m\u001b[0mstandard\u001b[0m\u001b[0;34m.\u001b[0m\u001b[0m_filter_predict\u001b[0m\u001b[0;34m(\u001b[0m\u001b[0;34m\u001b[0m\n",
       "\u001b[0;34m\u001b[0m    \u001b[0mtransition_matrix\u001b[0m\u001b[0;34m,\u001b[0m\u001b[0;34m\u001b[0m\n",
       "\u001b[0;34m\u001b[0m    \u001b[0mtransition_covariance\u001b[0m\u001b[0;34m,\u001b[0m\u001b[0;34m\u001b[0m\n",
       "\u001b[0;34m\u001b[0m    \u001b[0mtransition_offset\u001b[0m\u001b[0;34m,\u001b[0m\u001b[0;34m\u001b[0m\n",
       "\u001b[0;34m\u001b[0m    \u001b[0mcurrent_state_mean\u001b[0m\u001b[0;34m,\u001b[0m\u001b[0;34m\u001b[0m\n",
       "\u001b[0;34m\u001b[0m    \u001b[0mcurrent_state_covariance\u001b[0m\u001b[0;34m,\u001b[0m\u001b[0;34m\u001b[0m\n",
       "\u001b[0;34m\u001b[0m\u001b[0;34m)\u001b[0m\u001b[0;34m\u001b[0m\u001b[0;34m\u001b[0m\u001b[0m\n",
       "\u001b[0;31mSource:\u001b[0m   \n",
       "\u001b[0;32mdef\u001b[0m \u001b[0m_filter_predict\u001b[0m\u001b[0;34m(\u001b[0m\u001b[0mtransition_matrix\u001b[0m\u001b[0;34m,\u001b[0m \u001b[0mtransition_covariance\u001b[0m\u001b[0;34m,\u001b[0m\u001b[0;34m\u001b[0m\n",
       "\u001b[0;34m\u001b[0m                    \u001b[0mtransition_offset\u001b[0m\u001b[0;34m,\u001b[0m \u001b[0mcurrent_state_mean\u001b[0m\u001b[0;34m,\u001b[0m\u001b[0;34m\u001b[0m\n",
       "\u001b[0;34m\u001b[0m                    \u001b[0mcurrent_state_covariance\u001b[0m\u001b[0;34m)\u001b[0m\u001b[0;34m:\u001b[0m\u001b[0;34m\u001b[0m\n",
       "\u001b[0;34m\u001b[0m    \u001b[0;34mr\"\"\"Calculate the mean and covariance of :math:`P(x_{t+1} | z_{0:t})`\u001b[0m\n",
       "\u001b[0;34m\u001b[0m\n",
       "\u001b[0;34m    Using the mean and covariance of :math:`P(x_t | z_{0:t})`, calculate the\u001b[0m\n",
       "\u001b[0;34m    mean and covariance of :math:`P(x_{t+1} | z_{0:t})`.\u001b[0m\n",
       "\u001b[0;34m\u001b[0m\n",
       "\u001b[0;34m    Parameters\u001b[0m\n",
       "\u001b[0;34m    ----------\u001b[0m\n",
       "\u001b[0;34m    transition_matrix : [n_dim_state, n_dim_state} array\u001b[0m\n",
       "\u001b[0;34m        state transition matrix from time t to t+1\u001b[0m\n",
       "\u001b[0;34m    transition_covariance : [n_dim_state, n_dim_state] array\u001b[0m\n",
       "\u001b[0;34m        covariance matrix for state transition from time t to t+1\u001b[0m\n",
       "\u001b[0;34m    transition_offset : [n_dim_state] array\u001b[0m\n",
       "\u001b[0;34m        offset for state transition from time t to t+1\u001b[0m\n",
       "\u001b[0;34m    current_state_mean: [n_dim_state] array\u001b[0m\n",
       "\u001b[0;34m        mean of state at time t given observations from times\u001b[0m\n",
       "\u001b[0;34m        [0...t]\u001b[0m\n",
       "\u001b[0;34m    current_state_covariance: [n_dim_state, n_dim_state] array\u001b[0m\n",
       "\u001b[0;34m        covariance of state at time t given observations from times\u001b[0m\n",
       "\u001b[0;34m        [0...t]\u001b[0m\n",
       "\u001b[0;34m\u001b[0m\n",
       "\u001b[0;34m    Returns\u001b[0m\n",
       "\u001b[0;34m    -------\u001b[0m\n",
       "\u001b[0;34m    predicted_state_mean : [n_dim_state] array\u001b[0m\n",
       "\u001b[0;34m        mean of state at time t+1 given observations from times [0...t]\u001b[0m\n",
       "\u001b[0;34m    predicted_state_covariance : [n_dim_state, n_dim_state] array\u001b[0m\n",
       "\u001b[0;34m        covariance of state at time t+1 given observations from times\u001b[0m\n",
       "\u001b[0;34m        [0...t]\u001b[0m\n",
       "\u001b[0;34m    \"\"\"\u001b[0m\u001b[0;34m\u001b[0m\n",
       "\u001b[0;34m\u001b[0m    \u001b[0mpredicted_state_mean\u001b[0m \u001b[0;34m=\u001b[0m \u001b[0;34m(\u001b[0m\u001b[0;34m\u001b[0m\n",
       "\u001b[0;34m\u001b[0m        \u001b[0mnp\u001b[0m\u001b[0;34m.\u001b[0m\u001b[0mdot\u001b[0m\u001b[0;34m(\u001b[0m\u001b[0mtransition_matrix\u001b[0m\u001b[0;34m,\u001b[0m \u001b[0mcurrent_state_mean\u001b[0m\u001b[0;34m)\u001b[0m\u001b[0;34m\u001b[0m\n",
       "\u001b[0;34m\u001b[0m        \u001b[0;34m+\u001b[0m \u001b[0mtransition_offset\u001b[0m\u001b[0;34m\u001b[0m\n",
       "\u001b[0;34m\u001b[0m    \u001b[0;34m)\u001b[0m\u001b[0;34m\u001b[0m\n",
       "\u001b[0;34m\u001b[0m    \u001b[0mpredicted_state_covariance\u001b[0m \u001b[0;34m=\u001b[0m \u001b[0;34m(\u001b[0m\u001b[0;34m\u001b[0m\n",
       "\u001b[0;34m\u001b[0m        \u001b[0mnp\u001b[0m\u001b[0;34m.\u001b[0m\u001b[0mdot\u001b[0m\u001b[0;34m(\u001b[0m\u001b[0mtransition_matrix\u001b[0m\u001b[0;34m,\u001b[0m\u001b[0;34m\u001b[0m\n",
       "\u001b[0;34m\u001b[0m               \u001b[0mnp\u001b[0m\u001b[0;34m.\u001b[0m\u001b[0mdot\u001b[0m\u001b[0;34m(\u001b[0m\u001b[0mcurrent_state_covariance\u001b[0m\u001b[0;34m,\u001b[0m\u001b[0;34m\u001b[0m\n",
       "\u001b[0;34m\u001b[0m                      \u001b[0mtransition_matrix\u001b[0m\u001b[0;34m.\u001b[0m\u001b[0mT\u001b[0m\u001b[0;34m)\u001b[0m\u001b[0;34m)\u001b[0m\u001b[0;34m\u001b[0m\n",
       "\u001b[0;34m\u001b[0m        \u001b[0;34m+\u001b[0m \u001b[0mtransition_covariance\u001b[0m\u001b[0;34m\u001b[0m\n",
       "\u001b[0;34m\u001b[0m    \u001b[0;34m)\u001b[0m\u001b[0;34m\u001b[0m\n",
       "\u001b[0;34m\u001b[0m\u001b[0;34m\u001b[0m\n",
       "\u001b[0;34m\u001b[0m    \u001b[0;32mreturn\u001b[0m \u001b[0;34m(\u001b[0m\u001b[0mpredicted_state_mean\u001b[0m\u001b[0;34m,\u001b[0m \u001b[0mpredicted_state_covariance\u001b[0m\u001b[0;34m)\u001b[0m\u001b[0;34m\u001b[0m\u001b[0;34m\u001b[0m\u001b[0m\n",
       "\u001b[0;31mFile:\u001b[0m      ~/anaconda3/envs/data-science/lib/python3.10/site-packages/pykalman/standard.py\n",
       "\u001b[0;31mType:\u001b[0m      function\n"
      ]
     },
     "metadata": {},
     "output_type": "display_data"
    }
   ],
   "source": [
    "pykalman.standard._filter_predict??"
   ]
  },
  {
   "cell_type": "code",
   "execution_count": null,
   "id": "be46f999-607c-4243-8406-c91f822a47a2",
   "metadata": {},
   "outputs": [
    {
     "data": {
      "text/plain": [
       "(3, 3)"
      ]
     },
     "execution_count": null,
     "metadata": {},
     "output_type": "execute_result"
    }
   ],
   "source": [
    "tst.params_pyk['transition_matrices'].shape"
   ]
  },
  {
   "cell_type": "code",
   "execution_count": null,
   "id": "b7c9a591-58af-480a-acac-b0923084b899",
   "metadata": {},
   "outputs": [],
   "source": [
    "test_close(\n",
    "   pykalman.standard._filter_predict(\n",
    "       tst.params_pyk['transition_matrices'],\n",
    "       tst.params_pyk['transition_covariance'],\n",
    "       tst.params_pyk['transition_offsets'],\n",
    "       tst.params_pyk['initial_state_mean'],\n",
    "       tst.params_pyk['initial_state_covariance'],\n",
    "    ),\n",
    "    \n",
    "    _filter_predict2(\n",
    "       tst.params['transition_matrices'],\n",
    "       tst.params['transition_cov'],\n",
    "       tst.params['transition_offsets'],\n",
    "       tst.params['initial_state_mean'],\n",
    "       tst.params['initial_state_cov'],\n",
    "    \n",
    "    )\n",
    ")"
   ]
  },
  {
   "cell_type": "code",
   "execution_count": null,
   "id": "9c27d2e7-a061-487e-83eb-c79332bba2ac",
   "metadata": {},
   "outputs": [],
   "source": [
    "test_close(\n",
    "    \n",
    "    _filter_predict2(\n",
    "       tst.params['transition_matrices'],\n",
    "       tst.params['transition_cov'],\n",
    "       tst.params['transition_offsets'],\n",
    "       tst.params['initial_state_mean'],\n",
    "       tst.params['initial_state_cov'],\n",
    "    ),\n",
    "    _filter_predict(\n",
    "       tst.params['transition_matrices'],\n",
    "       tst.params['transition_cov'],\n",
    "       tst.params['transition_offsets'],\n",
    "       tst.params['initial_state_mean'],\n",
    "       tst.params['initial_state_cov'],\n",
    "    )\n",
    ")"
   ]
  },
  {
   "cell_type": "code",
   "execution_count": null,
   "id": "3767652b-ea3b-4f59-bbf3-4c23856ac4b7",
   "metadata": {},
   "outputs": [],
   "source": [
    "test_close(\n",
    "   pykalman.standard._filter_predict(\n",
    "       tst.params_pyk['transition_matrices'],\n",
    "       tst.params_pyk['transition_covariance'],\n",
    "       tst.params_pyk['transition_offsets'],\n",
    "       tst.params_pyk['initial_state_mean'],\n",
    "       tst.params_pyk['initial_state_covariance'],\n",
    "    ),\n",
    "    \n",
    "    _filter_predict(\n",
    "       tst.params['transition_matrices'],\n",
    "       tst.params['transition_cov'],\n",
    "       tst.params['transition_offsets'],\n",
    "       tst.params['initial_state_mean'],\n",
    "       tst.params['initial_state_cov'],\n",
    "    \n",
    "    )\n",
    ")"
   ]
  },
  {
   "cell_type": "markdown",
   "id": "fd34fcb0-baaf-4a91-a881-9abe5dcee1b6",
   "metadata": {},
   "source": [
    "The issues seems is was from `check_posdef` but `torch.matmul` and `@` are correctly working as intended"
   ]
  },
  {
   "cell_type": "markdown",
   "id": "99e62fe3-a580-4f1d-aa20-8c5de1d90cb6",
   "metadata": {},
   "source": [
    "#### Filter correct"
   ]
  },
  {
   "cell_type": "code",
   "execution_count": null,
   "id": "b9133fc3-6f85-4e2f-845f-c477ea00ba4e",
   "metadata": {},
   "outputs": [
    {
     "data": {
      "text/plain": [
       "\u001b[0;31mSignature:\u001b[0m\n",
       "\u001b[0mpykalman\u001b[0m\u001b[0;34m.\u001b[0m\u001b[0mstandard\u001b[0m\u001b[0;34m.\u001b[0m\u001b[0m_filter_correct\u001b[0m\u001b[0;34m(\u001b[0m\u001b[0;34m\u001b[0m\n",
       "\u001b[0;34m\u001b[0m    \u001b[0mobservation_matrix\u001b[0m\u001b[0;34m,\u001b[0m\u001b[0;34m\u001b[0m\n",
       "\u001b[0;34m\u001b[0m    \u001b[0mobservation_covariance\u001b[0m\u001b[0;34m,\u001b[0m\u001b[0;34m\u001b[0m\n",
       "\u001b[0;34m\u001b[0m    \u001b[0mobservation_offset\u001b[0m\u001b[0;34m,\u001b[0m\u001b[0;34m\u001b[0m\n",
       "\u001b[0;34m\u001b[0m    \u001b[0mpredicted_state_mean\u001b[0m\u001b[0;34m,\u001b[0m\u001b[0;34m\u001b[0m\n",
       "\u001b[0;34m\u001b[0m    \u001b[0mpredicted_state_covariance\u001b[0m\u001b[0;34m,\u001b[0m\u001b[0;34m\u001b[0m\n",
       "\u001b[0;34m\u001b[0m    \u001b[0mobservation\u001b[0m\u001b[0;34m,\u001b[0m\u001b[0;34m\u001b[0m\n",
       "\u001b[0;34m\u001b[0m\u001b[0;34m)\u001b[0m\u001b[0;34m\u001b[0m\u001b[0;34m\u001b[0m\u001b[0m\n",
       "\u001b[0;31mSource:\u001b[0m   \n",
       "\u001b[0;32mdef\u001b[0m \u001b[0m_filter_correct\u001b[0m\u001b[0;34m(\u001b[0m\u001b[0mobservation_matrix\u001b[0m\u001b[0;34m,\u001b[0m \u001b[0mobservation_covariance\u001b[0m\u001b[0;34m,\u001b[0m\u001b[0;34m\u001b[0m\n",
       "\u001b[0;34m\u001b[0m                    \u001b[0mobservation_offset\u001b[0m\u001b[0;34m,\u001b[0m \u001b[0mpredicted_state_mean\u001b[0m\u001b[0;34m,\u001b[0m\u001b[0;34m\u001b[0m\n",
       "\u001b[0;34m\u001b[0m                    \u001b[0mpredicted_state_covariance\u001b[0m\u001b[0;34m,\u001b[0m \u001b[0mobservation\u001b[0m\u001b[0;34m)\u001b[0m\u001b[0;34m:\u001b[0m\u001b[0;34m\u001b[0m\n",
       "\u001b[0;34m\u001b[0m    \u001b[0;34mr\"\"\"Correct a predicted state with a Kalman Filter update\u001b[0m\n",
       "\u001b[0;34m\u001b[0m\n",
       "\u001b[0;34m    Incorporate observation `observation` from time `t` to turn\u001b[0m\n",
       "\u001b[0;34m    :math:`P(x_t | z_{0:t-1})` into :math:`P(x_t | z_{0:t})`\u001b[0m\n",
       "\u001b[0;34m\u001b[0m\n",
       "\u001b[0;34m    Parameters\u001b[0m\n",
       "\u001b[0;34m    ----------\u001b[0m\n",
       "\u001b[0;34m    observation_matrix : [n_dim_obs, n_dim_state] array\u001b[0m\n",
       "\u001b[0;34m        observation matrix for time t\u001b[0m\n",
       "\u001b[0;34m    observation_covariance : [n_dim_obs, n_dim_obs] array\u001b[0m\n",
       "\u001b[0;34m        covariance matrix for observation at time t\u001b[0m\n",
       "\u001b[0;34m    observation_offset : [n_dim_obs] array\u001b[0m\n",
       "\u001b[0;34m        offset for observation at time t\u001b[0m\n",
       "\u001b[0;34m    predicted_state_mean : [n_dim_state] array\u001b[0m\n",
       "\u001b[0;34m        mean of state at time t given observations from times\u001b[0m\n",
       "\u001b[0;34m        [0...t-1]\u001b[0m\n",
       "\u001b[0;34m    predicted_state_covariance : [n_dim_state, n_dim_state] array\u001b[0m\n",
       "\u001b[0;34m        covariance of state at time t given observations from times\u001b[0m\n",
       "\u001b[0;34m        [0...t-1]\u001b[0m\n",
       "\u001b[0;34m    observation : [n_dim_obs] array\u001b[0m\n",
       "\u001b[0;34m        observation at time t.  If `observation` is a masked array and any of\u001b[0m\n",
       "\u001b[0;34m        its values are masked, the observation will be ignored.\u001b[0m\n",
       "\u001b[0;34m\u001b[0m\n",
       "\u001b[0;34m    Returns\u001b[0m\n",
       "\u001b[0;34m    -------\u001b[0m\n",
       "\u001b[0;34m    kalman_gain : [n_dim_state, n_dim_obs] array\u001b[0m\n",
       "\u001b[0;34m        Kalman gain matrix for time t\u001b[0m\n",
       "\u001b[0;34m    corrected_state_mean : [n_dim_state] array\u001b[0m\n",
       "\u001b[0;34m        mean of state at time t given observations from times\u001b[0m\n",
       "\u001b[0;34m        [0...t]\u001b[0m\n",
       "\u001b[0;34m    corrected_state_covariance : [n_dim_state, n_dim_state] array\u001b[0m\n",
       "\u001b[0;34m        covariance of state at time t given observations from times\u001b[0m\n",
       "\u001b[0;34m        [0...t]\u001b[0m\n",
       "\u001b[0;34m    \"\"\"\u001b[0m\u001b[0;34m\u001b[0m\n",
       "\u001b[0;34m\u001b[0m    \u001b[0;32mif\u001b[0m \u001b[0;32mnot\u001b[0m \u001b[0mnp\u001b[0m\u001b[0;34m.\u001b[0m\u001b[0many\u001b[0m\u001b[0;34m(\u001b[0m\u001b[0mnp\u001b[0m\u001b[0;34m.\u001b[0m\u001b[0mma\u001b[0m\u001b[0;34m.\u001b[0m\u001b[0mgetmask\u001b[0m\u001b[0;34m(\u001b[0m\u001b[0mobservation\u001b[0m\u001b[0;34m)\u001b[0m\u001b[0;34m)\u001b[0m\u001b[0;34m:\u001b[0m\u001b[0;34m\u001b[0m\n",
       "\u001b[0;34m\u001b[0m        \u001b[0mpredicted_observation_mean\u001b[0m \u001b[0;34m=\u001b[0m \u001b[0;34m(\u001b[0m\u001b[0;34m\u001b[0m\n",
       "\u001b[0;34m\u001b[0m            \u001b[0mnp\u001b[0m\u001b[0;34m.\u001b[0m\u001b[0mdot\u001b[0m\u001b[0;34m(\u001b[0m\u001b[0mobservation_matrix\u001b[0m\u001b[0;34m,\u001b[0m\u001b[0;34m\u001b[0m\n",
       "\u001b[0;34m\u001b[0m                   \u001b[0mpredicted_state_mean\u001b[0m\u001b[0;34m)\u001b[0m\u001b[0;34m\u001b[0m\n",
       "\u001b[0;34m\u001b[0m            \u001b[0;34m+\u001b[0m \u001b[0mobservation_offset\u001b[0m\u001b[0;34m\u001b[0m\n",
       "\u001b[0;34m\u001b[0m        \u001b[0;34m)\u001b[0m\u001b[0;34m\u001b[0m\n",
       "\u001b[0;34m\u001b[0m        \u001b[0mpredicted_observation_covariance\u001b[0m \u001b[0;34m=\u001b[0m \u001b[0;34m(\u001b[0m\u001b[0;34m\u001b[0m\n",
       "\u001b[0;34m\u001b[0m            \u001b[0mnp\u001b[0m\u001b[0;34m.\u001b[0m\u001b[0mdot\u001b[0m\u001b[0;34m(\u001b[0m\u001b[0mobservation_matrix\u001b[0m\u001b[0;34m,\u001b[0m\u001b[0;34m\u001b[0m\n",
       "\u001b[0;34m\u001b[0m                   \u001b[0mnp\u001b[0m\u001b[0;34m.\u001b[0m\u001b[0mdot\u001b[0m\u001b[0;34m(\u001b[0m\u001b[0mpredicted_state_covariance\u001b[0m\u001b[0;34m,\u001b[0m\u001b[0;34m\u001b[0m\n",
       "\u001b[0;34m\u001b[0m                          \u001b[0mobservation_matrix\u001b[0m\u001b[0;34m.\u001b[0m\u001b[0mT\u001b[0m\u001b[0;34m)\u001b[0m\u001b[0;34m)\u001b[0m\u001b[0;34m\u001b[0m\n",
       "\u001b[0;34m\u001b[0m            \u001b[0;34m+\u001b[0m \u001b[0mobservation_covariance\u001b[0m\u001b[0;34m\u001b[0m\n",
       "\u001b[0;34m\u001b[0m        \u001b[0;34m)\u001b[0m\u001b[0;34m\u001b[0m\n",
       "\u001b[0;34m\u001b[0m\u001b[0;34m\u001b[0m\n",
       "\u001b[0;34m\u001b[0m        \u001b[0mkalman_gain\u001b[0m \u001b[0;34m=\u001b[0m \u001b[0;34m(\u001b[0m\u001b[0;34m\u001b[0m\n",
       "\u001b[0;34m\u001b[0m            \u001b[0mnp\u001b[0m\u001b[0;34m.\u001b[0m\u001b[0mdot\u001b[0m\u001b[0;34m(\u001b[0m\u001b[0mpredicted_state_covariance\u001b[0m\u001b[0;34m,\u001b[0m\u001b[0;34m\u001b[0m\n",
       "\u001b[0;34m\u001b[0m                   \u001b[0mnp\u001b[0m\u001b[0;34m.\u001b[0m\u001b[0mdot\u001b[0m\u001b[0;34m(\u001b[0m\u001b[0mobservation_matrix\u001b[0m\u001b[0;34m.\u001b[0m\u001b[0mT\u001b[0m\u001b[0;34m,\u001b[0m\u001b[0;34m\u001b[0m\n",
       "\u001b[0;34m\u001b[0m                          \u001b[0mlinalg\u001b[0m\u001b[0;34m.\u001b[0m\u001b[0mpinv\u001b[0m\u001b[0;34m(\u001b[0m\u001b[0mpredicted_observation_covariance\u001b[0m\u001b[0;34m)\u001b[0m\u001b[0;34m)\u001b[0m\u001b[0;34m)\u001b[0m\u001b[0;34m\u001b[0m\n",
       "\u001b[0;34m\u001b[0m        \u001b[0;34m)\u001b[0m\u001b[0;34m\u001b[0m\n",
       "\u001b[0;34m\u001b[0m\u001b[0;34m\u001b[0m\n",
       "\u001b[0;34m\u001b[0m        \u001b[0mcorrected_state_mean\u001b[0m \u001b[0;34m=\u001b[0m \u001b[0;34m(\u001b[0m\u001b[0;34m\u001b[0m\n",
       "\u001b[0;34m\u001b[0m            \u001b[0mpredicted_state_mean\u001b[0m\u001b[0;34m\u001b[0m\n",
       "\u001b[0;34m\u001b[0m            \u001b[0;34m+\u001b[0m \u001b[0mnp\u001b[0m\u001b[0;34m.\u001b[0m\u001b[0mdot\u001b[0m\u001b[0;34m(\u001b[0m\u001b[0mkalman_gain\u001b[0m\u001b[0;34m,\u001b[0m \u001b[0mobservation\u001b[0m \u001b[0;34m-\u001b[0m \u001b[0mpredicted_observation_mean\u001b[0m\u001b[0;34m)\u001b[0m\u001b[0;34m\u001b[0m\n",
       "\u001b[0;34m\u001b[0m        \u001b[0;34m)\u001b[0m\u001b[0;34m\u001b[0m\n",
       "\u001b[0;34m\u001b[0m        \u001b[0mcorrected_state_covariance\u001b[0m \u001b[0;34m=\u001b[0m \u001b[0;34m(\u001b[0m\u001b[0;34m\u001b[0m\n",
       "\u001b[0;34m\u001b[0m            \u001b[0mpredicted_state_covariance\u001b[0m\u001b[0;34m\u001b[0m\n",
       "\u001b[0;34m\u001b[0m            \u001b[0;34m-\u001b[0m \u001b[0mnp\u001b[0m\u001b[0;34m.\u001b[0m\u001b[0mdot\u001b[0m\u001b[0;34m(\u001b[0m\u001b[0mkalman_gain\u001b[0m\u001b[0;34m,\u001b[0m\u001b[0;34m\u001b[0m\n",
       "\u001b[0;34m\u001b[0m                     \u001b[0mnp\u001b[0m\u001b[0;34m.\u001b[0m\u001b[0mdot\u001b[0m\u001b[0;34m(\u001b[0m\u001b[0mobservation_matrix\u001b[0m\u001b[0;34m,\u001b[0m\u001b[0;34m\u001b[0m\n",
       "\u001b[0;34m\u001b[0m                            \u001b[0mpredicted_state_covariance\u001b[0m\u001b[0;34m)\u001b[0m\u001b[0;34m)\u001b[0m\u001b[0;34m\u001b[0m\n",
       "\u001b[0;34m\u001b[0m        \u001b[0;34m)\u001b[0m\u001b[0;34m\u001b[0m\n",
       "\u001b[0;34m\u001b[0m    \u001b[0;32melse\u001b[0m\u001b[0;34m:\u001b[0m\u001b[0;34m\u001b[0m\n",
       "\u001b[0;34m\u001b[0m        \u001b[0mn_dim_state\u001b[0m \u001b[0;34m=\u001b[0m \u001b[0mpredicted_state_covariance\u001b[0m\u001b[0;34m.\u001b[0m\u001b[0mshape\u001b[0m\u001b[0;34m[\u001b[0m\u001b[0;36m0\u001b[0m\u001b[0;34m]\u001b[0m\u001b[0;34m\u001b[0m\n",
       "\u001b[0;34m\u001b[0m        \u001b[0mn_dim_obs\u001b[0m \u001b[0;34m=\u001b[0m \u001b[0mobservation_matrix\u001b[0m\u001b[0;34m.\u001b[0m\u001b[0mshape\u001b[0m\u001b[0;34m[\u001b[0m\u001b[0;36m0\u001b[0m\u001b[0;34m]\u001b[0m\u001b[0;34m\u001b[0m\n",
       "\u001b[0;34m\u001b[0m        \u001b[0mkalman_gain\u001b[0m \u001b[0;34m=\u001b[0m \u001b[0mnp\u001b[0m\u001b[0;34m.\u001b[0m\u001b[0mzeros\u001b[0m\u001b[0;34m(\u001b[0m\u001b[0;34m(\u001b[0m\u001b[0mn_dim_state\u001b[0m\u001b[0;34m,\u001b[0m \u001b[0mn_dim_obs\u001b[0m\u001b[0;34m)\u001b[0m\u001b[0;34m)\u001b[0m\u001b[0;34m\u001b[0m\n",
       "\u001b[0;34m\u001b[0m\u001b[0;34m\u001b[0m\n",
       "\u001b[0;34m\u001b[0m        \u001b[0mcorrected_state_mean\u001b[0m \u001b[0;34m=\u001b[0m \u001b[0mpredicted_state_mean\u001b[0m\u001b[0;34m\u001b[0m\n",
       "\u001b[0;34m\u001b[0m        \u001b[0mcorrected_state_covariance\u001b[0m \u001b[0;34m=\u001b[0m \u001b[0mpredicted_state_covariance\u001b[0m\u001b[0;34m\u001b[0m\n",
       "\u001b[0;34m\u001b[0m\u001b[0;34m\u001b[0m\n",
       "\u001b[0;34m\u001b[0m    \u001b[0;32mreturn\u001b[0m \u001b[0;34m(\u001b[0m\u001b[0mkalman_gain\u001b[0m\u001b[0;34m,\u001b[0m \u001b[0mcorrected_state_mean\u001b[0m\u001b[0;34m,\u001b[0m\u001b[0;34m\u001b[0m\n",
       "\u001b[0;34m\u001b[0m            \u001b[0mcorrected_state_covariance\u001b[0m\u001b[0;34m)\u001b[0m\u001b[0;34m\u001b[0m\u001b[0;34m\u001b[0m\u001b[0m\n",
       "\u001b[0;31mFile:\u001b[0m      ~/anaconda3/envs/data-science/lib/python3.10/site-packages/pykalman/standard.py\n",
       "\u001b[0;31mType:\u001b[0m      function\n"
      ]
     },
     "metadata": {},
     "output_type": "display_data"
    }
   ],
   "source": [
    "pykalman.standard._filter_correct??"
   ]
  },
  {
   "cell_type": "code",
   "execution_count": null,
   "id": "6f90c75c-9514-4814-8083-65cf530f6970",
   "metadata": {},
   "outputs": [],
   "source": [
    "tst = KalmanFilterTester(p_missing=0, nan_mask=False)"
   ]
  },
  {
   "cell_type": "code",
   "execution_count": null,
   "id": "d96c76d6-72ef-433a-89d3-330dc1530478",
   "metadata": {},
   "outputs": [],
   "source": [
    "observation_matrix = tst.params_pyk['observation_matrices']\n",
    "observation_covariance = tst.params_pyk['observation_covariance']\n",
    "predicted_state_mean = tst.params_pyk['initial_state_mean']\n",
    "predicted_state_covariance = tst.params_pyk['initial_state_covariance']\n",
    "observation_offset = tst.params_pyk['observation_offsets']\n",
    "observation = tst.data_pyk[0]"
   ]
  },
  {
   "cell_type": "code",
   "execution_count": null,
   "id": "06829bf9-03f6-4942-bd7d-643d6048bd8e",
   "metadata": {},
   "outputs": [
    {
     "data": {
      "text/plain": [
       "masked_array(data=[0.6440156698226929, 0.7071067690849304,\n",
       "                   0.6581305861473083],\n",
       "             mask=[False, False, False],\n",
       "       fill_value=1e+20,\n",
       "            dtype=float32)"
      ]
     },
     "execution_count": null,
     "metadata": {},
     "output_type": "execute_result"
    }
   ],
   "source": [
    "observation"
   ]
  },
  {
   "cell_type": "code",
   "execution_count": null,
   "id": "1500077a-8b8e-4dd4-bc15-d5e7749d1ddd",
   "metadata": {},
   "outputs": [],
   "source": [
    "obs_matrix = tst.params['obs_matrices']\n",
    "obs_cov = tst.params['obs_cov']\n",
    "pred_state_mean = tst.params['initial_state_mean']\n",
    "pred_state_cov = tst.params['initial_state_cov']\n",
    "obs_offset = tst.params['obs_offsets']\n",
    "obs = tst.data[0]"
   ]
  },
  {
   "cell_type": "markdown",
   "id": "b94a16fb-9bcf-4920-9fd7-dd9d727c45bf",
   "metadata": {},
   "source": [
    "Pred obs mean"
   ]
  },
  {
   "cell_type": "code",
   "execution_count": null,
   "id": "392f295b-68cb-4a86-bd52-253be365894d",
   "metadata": {},
   "outputs": [],
   "source": [
    "predicted_observation_mean = (\n",
    "    np.dot(observation_matrix,\n",
    "           predicted_state_mean)\n",
    "    + observation_offset\n",
    ")"
   ]
  },
  {
   "cell_type": "code",
   "execution_count": null,
   "id": "f8f7ab15-95e2-4858-b60c-ee957f80505b",
   "metadata": {},
   "outputs": [],
   "source": [
    "pred_obs_mean = obs_matrix @ pred_state_mean + obs_offset"
   ]
  },
  {
   "cell_type": "code",
   "execution_count": null,
   "id": "c4a719f3-e9f6-4084-bdfe-8b5598503326",
   "metadata": {},
   "outputs": [
    {
     "data": {
      "text/plain": [
       "tensor([2.2023458481, 0.6882513762, 1.5503764153])"
      ]
     },
     "execution_count": null,
     "metadata": {},
     "output_type": "execute_result"
    }
   ],
   "source": [
    "pred_obs_mean"
   ]
  },
  {
   "cell_type": "code",
   "execution_count": null,
   "id": "df9b97c2-bc3e-4724-bac2-bf355f0042f5",
   "metadata": {},
   "outputs": [],
   "source": [
    "test_close(pred_obs_mean, predicted_observation_mean)"
   ]
  },
  {
   "cell_type": "markdown",
   "id": "48da4b50-b2e9-4137-add5-84118334fc02",
   "metadata": {},
   "source": [
    "Pred obs cov"
   ]
  },
  {
   "cell_type": "code",
   "execution_count": null,
   "id": "50899460-4738-464b-8be9-f77e9a30ff01",
   "metadata": {},
   "outputs": [],
   "source": [
    "predicted_observation_covariance = (\n",
    "    np.dot(observation_matrix,\n",
    "           np.dot(predicted_state_covariance,\n",
    "                  observation_matrix.T))\n",
    "    + observation_covariance\n",
    ")"
   ]
  },
  {
   "cell_type": "code",
   "execution_count": null,
   "id": "39167039-ecff-4637-be90-30bc6c22f87b",
   "metadata": {},
   "outputs": [],
   "source": [
    "pred_obs_cov = obs_matrix @ pred_state_cov @ obs_matrix.T + obs_cov"
   ]
  },
  {
   "cell_type": "code",
   "execution_count": null,
   "id": "fe805ca1-b745-40d4-b444-b5ab25579d29",
   "metadata": {},
   "outputs": [
    {
     "data": {
      "text/plain": [
       "tensor([[2.7632296085, 1.7844555378, 1.2538765669],\n",
       "        [1.7844555378, 1.7600629330, 1.2308311462],\n",
       "        [1.2538764477, 1.2308311462, 0.9597316980]])"
      ]
     },
     "execution_count": null,
     "metadata": {},
     "output_type": "execute_result"
    }
   ],
   "source": [
    "pred_obs_cov"
   ]
  },
  {
   "cell_type": "code",
   "execution_count": null,
   "id": "7abf7afd-5b52-44e7-be79-1a9ddb8ab201",
   "metadata": {},
   "outputs": [],
   "source": [
    "test_close(predicted_observation_covariance, pred_obs_cov)"
   ]
  },
  {
   "cell_type": "markdown",
   "id": "05ee272a-6fba-4ebe-b389-999b329f2a2b",
   "metadata": {},
   "source": [
    "Kalman gain"
   ]
  },
  {
   "cell_type": "code",
   "execution_count": null,
   "id": "ae25aacc-6eb4-4061-9dae-451f3f55ed64",
   "metadata": {},
   "outputs": [],
   "source": [
    "kalman_gain = (\n",
    "    np.dot(predicted_state_covariance,\n",
    "           np.dot(observation_matrix.T,\n",
    "                  np.linalg.pinv(predicted_observation_covariance)))\n",
    ")"
   ]
  },
  {
   "cell_type": "code",
   "execution_count": null,
   "id": "1ae9e5a6-de40-418b-b28e-d83577842bf3",
   "metadata": {},
   "outputs": [],
   "source": [
    "kalman_gain_torch = pred_state_cov @ obs_matrix.T @ torch.inverse(pred_obs_cov)"
   ]
  },
  {
   "cell_type": "code",
   "execution_count": null,
   "id": "7f052e0c-dea2-48d9-9bfa-b4e00dedb915",
   "metadata": {},
   "outputs": [
    {
     "data": {
      "text/plain": [
       "tensor([[ 0.7220908999, -1.0673114061,  0.8582634926],\n",
       "        [ 0.2587437928, -1.5012981892,  2.0114912987],\n",
       "        [ 0.7195257545, -0.0971620083, -0.5134804249]])"
      ]
     },
     "execution_count": null,
     "metadata": {},
     "output_type": "execute_result"
    }
   ],
   "source": [
    "kalman_gain_torch"
   ]
  },
  {
   "cell_type": "code",
   "execution_count": null,
   "id": "0c7ae6f7-8093-43ea-9af3-ba3e97aa3e04",
   "metadata": {},
   "outputs": [],
   "source": [
    "test_close(kalman_gain, kalman_gain_torch)"
   ]
  },
  {
   "cell_type": "markdown",
   "id": "70e08c58-de75-4ef5-b485-a36862228383",
   "metadata": {},
   "source": [
    "corr state mean"
   ]
  },
  {
   "cell_type": "code",
   "execution_count": null,
   "id": "2f526982-813b-4132-a613-217c59cea4ce",
   "metadata": {},
   "outputs": [],
   "source": [
    "corrected_state_mean = (\n",
    "    predicted_state_mean\n",
    "    + np.dot(kalman_gain, observation - predicted_observation_mean))"
   ]
  },
  {
   "cell_type": "code",
   "execution_count": null,
   "id": "9d347e45-79ea-4b20-a316-88339390c369",
   "metadata": {},
   "outputs": [],
   "source": [
    "corr_state_mean = pred_state_mean + kalman_gain_torch @ (obs - pred_obs_mean)"
   ]
  },
  {
   "cell_type": "code",
   "execution_count": null,
   "id": "af94dd39-7c77-4430-8ce6-a520f3eb35e6",
   "metadata": {},
   "outputs": [
    {
     "data": {
      "text/plain": [
       "tensor([-1.2007339001, -1.2798495293,  0.1240897775])"
      ]
     },
     "execution_count": null,
     "metadata": {},
     "output_type": "execute_result"
    }
   ],
   "source": [
    "corr_state_mean"
   ]
  },
  {
   "cell_type": "code",
   "execution_count": null,
   "id": "1d7d6847-3bc3-4341-8877-ae8bfd83bb56",
   "metadata": {},
   "outputs": [],
   "source": [
    "test_close(corrected_state_mean, corr_state_mean)"
   ]
  },
  {
   "cell_type": "markdown",
   "id": "b21a689d-43e7-4216-973e-db28f353424d",
   "metadata": {},
   "source": [
    "corr state cov"
   ]
  },
  {
   "cell_type": "code",
   "execution_count": null,
   "id": "d458d6b1-b1e4-4812-ac20-b662c14c486a",
   "metadata": {},
   "outputs": [],
   "source": [
    "corrected_state_covariance = (\n",
    "    predicted_state_covariance\n",
    "    - np.dot(kalman_gain,\n",
    "             np.dot(observation_matrix,\n",
    "                    predicted_state_covariance))\n",
    ")"
   ]
  },
  {
   "cell_type": "code",
   "execution_count": null,
   "id": "acda1b2a-5e1d-411c-983a-1d2b0b62859c",
   "metadata": {},
   "outputs": [],
   "source": [
    "corr_state_cov = pred_state_cov - kalman_gain_torch @ obs_matrix @ pred_state_cov"
   ]
  },
  {
   "cell_type": "code",
   "execution_count": null,
   "id": "b86a8ef7-daac-469e-89eb-ca0fde716cc1",
   "metadata": {},
   "outputs": [
    {
     "data": {
      "text/plain": [
       "tensor([[ 0.3472324014, -0.0682768822,  0.1338058710],\n",
       "        [-0.0682771206,  0.0863963962,  0.0947692692],\n",
       "        [ 0.1338058114,  0.0947694778,  0.2892869115]])"
      ]
     },
     "execution_count": null,
     "metadata": {},
     "output_type": "execute_result"
    }
   ],
   "source": [
    "corr_state_cov"
   ]
  },
  {
   "cell_type": "code",
   "execution_count": null,
   "id": "6374d47d-434f-4e90-bd67-d476dfe825e3",
   "metadata": {},
   "outputs": [],
   "source": [
    "test_close(corrected_state_covariance, corr_state_cov)"
   ]
  },
  {
   "cell_type": "code",
   "execution_count": null,
   "id": "1bb7b4e5-42b4-4041-a3c0-49268d6646b6",
   "metadata": {},
   "outputs": [],
   "source": [
    "def print_info(x, name):\n",
    "    print(f\"{name} - shape: {x.shape}, type {x.dtype}, mean {x.mean()}\")"
   ]
  },
  {
   "cell_type": "code",
   "execution_count": null,
   "id": "23b11e2a",
   "metadata": {},
   "outputs": [],
   "source": [
    "#| export\n",
    "def _filter_correct(obs_matrix, obs_cov,\n",
    "                    obs_offset, pred_state_mean,\n",
    "                    pred_state_cov, obs, mask, check_args=None):\n",
    "    r\"\"\"Correct a pred state with a Kalman Filter update\n",
    "\n",
    "    Incorporate obs `obs` from time `t` to turn\n",
    "    :math:`P(x_t | z_{0:t-1})` into :math:`P(x_t | z_{0:t})`\n",
    "\n",
    "    Parameters\n",
    "    ----------\n",
    "    obs_matrix : [n_dim_obs, n_dim_state] array\n",
    "        obs matrix for time t\n",
    "    obs_cov : [n_dim_obs, n_dim_obs] array\n",
    "        cov matrix for obs at time t\n",
    "    obs_offset : [n_dim_obs] array\n",
    "        offset for obs at time t\n",
    "    pred_state_mean : [n_dim_state] array\n",
    "        mean of state at time t given obss from times\n",
    "        [0...t-1]\n",
    "    pred_state_cov : [n_dim_state, n_dim_state] array\n",
    "        cov of state at time t given obss from times\n",
    "        [0...t-1]\n",
    "    obs : [n_dim_obs] array\n",
    "        obs at time t.  If `obs` is a masked array and any of\n",
    "        its values are masked, the obs will be ignored.\n",
    "\n",
    "    Returns\n",
    "    -------\n",
    "    kalman_gain : [n_dim_state, n_dim_obs] array\n",
    "        Kalman gain matrix for time t\n",
    "    corrected_state_mean : [n_dim_state] array\n",
    "        mean of state at time t given obss from times\n",
    "        [0...t]\n",
    "    corrected_state_cov : [n_dim_state, n_dim_state] array\n",
    "        cov of state at time t given obss from times\n",
    "        [0...t]\n",
    "    \"\"\"\n",
    "    if mask:\n",
    "        pred_obs_mean = obs_matrix @ pred_state_mean + obs_offset\n",
    "        pred_obs_cov = obs_matrix @ pred_state_cov @ obs_matrix.T + obs_cov\n",
    "        \n",
    "        kalman_gain = pred_state_cov @ obs_matrix.T @ torch.inverse(pred_obs_cov)\n",
    "\n",
    "        corrected_state_mean = pred_state_mean + kalman_gain @ (obs - pred_obs_mean)\n",
    "        corrected_state_cov = pred_state_cov - kalman_gain @ obs_matrix @ pred_state_cov\n",
    "    else:\n",
    "        n_dim_state = pred_state_cov.shape[0]\n",
    "        n_dim_obs = obs_matrix.shape[0]\n",
    "        kalman_gain = torch.zeros((n_dim_state, n_dim_obs))\n",
    "\n",
    "        corrected_state_mean = pred_state_mean\n",
    "        corrected_state_cov = pred_state_cov\n",
    "        \n",
    "    if check_args is not None: check_posdef(pred_state_cov, 'filter_correct', **check_args)\n",
    "    return (kalman_gain, corrected_state_mean,\n",
    "            corrected_state_cov)"
   ]
  },
  {
   "cell_type": "code",
   "execution_count": null,
   "id": "af160a2b-0e47-493c-8dd8-082033c87229",
   "metadata": {},
   "outputs": [
    {
     "data": {
      "text/plain": [
       "False"
      ]
     },
     "execution_count": null,
     "metadata": {},
     "output_type": "execute_result"
    }
   ],
   "source": [
    "np.any(np.ma.getmask(observation))"
   ]
  },
  {
   "cell_type": "code",
   "execution_count": null,
   "id": "39d347eb-fbf3-44fc-89fb-119a98577ce5",
   "metadata": {},
   "outputs": [],
   "source": [
    "def _pyk_filter_correct(observation_matrix, observation_covariance,\n",
    "                    observation_offset, predicted_state_mean,\n",
    "                    predicted_state_covariance, observation):\n",
    "    if not np.any(np.ma.getmask(observation)):\n",
    "        predicted_observation_mean = (\n",
    "            np.dot(observation_matrix,\n",
    "                   predicted_state_mean)\n",
    "            + observation_offset\n",
    "        )\n",
    "        print_info(predicted_observation_mean, 'pred_obs_mean')\n",
    "        predicted_observation_covariance = (\n",
    "            np.dot(observation_matrix,\n",
    "                   np.dot(predicted_state_covariance,\n",
    "                          observation_matrix.T))\n",
    "            + observation_covariance\n",
    "        )\n",
    "        print_info(predicted_observation_covariance, 'pred_obs_cov')\n",
    "\n",
    "        kalman_gain = (\n",
    "            np.dot(predicted_state_covariance,\n",
    "                   np.dot(observation_matrix.T,\n",
    "                          np.linalg.pinv(predicted_observation_covariance)))\n",
    "        )\n",
    "        print_info(kalman_gain, 'kalman_gain')\n",
    "\n",
    "        corrected_state_mean = (\n",
    "            predicted_state_mean\n",
    "            + np.dot(kalman_gain, observation - predicted_observation_mean)\n",
    "        )\n",
    "        print_info(corrected_state_mean, 'corr_state_mean')\n",
    "        corrected_state_covariance = (\n",
    "            predicted_state_covariance\n",
    "            - np.dot(kalman_gain,\n",
    "                     np.dot(observation_matrix,\n",
    "                            predicted_state_covariance))\n",
    "        )\n",
    "        print_info(corrected_state_covariance, 'corr_state_cov')\n",
    "    else:\n",
    "        n_dim_state = predicted_state_covariance.shape[0]\n",
    "        n_dim_obs = observation_matrix.shape[0]\n",
    "        kalman_gain = np.zeros((n_dim_state, n_dim_obs))\n",
    "\n",
    "        corrected_state_mean = predicted_state_mean\n",
    "        corrected_state_covariance = predicted_state_covariance\n",
    "\n",
    "    return (kalman_gain, corrected_state_mean,\n",
    "            corrected_state_covariance)"
   ]
  },
  {
   "cell_type": "code",
   "execution_count": null,
   "id": "c65b6b9e-80b7-4d90-84b2-38f873b8c4e0",
   "metadata": {},
   "outputs": [],
   "source": [
    "tst = KalmanFilterTester() # need nan"
   ]
  },
  {
   "cell_type": "code",
   "execution_count": null,
   "id": "9000012c-fa90-490b-8fd8-3dacd2beffee",
   "metadata": {},
   "outputs": [
    {
     "data": {
      "text/plain": [
       "(tensor([[ 0.7220908999, -1.0673114061,  0.8582634926],\n",
       "         [ 0.2587437928, -1.5012981892,  2.0114912987],\n",
       "         [ 0.7195257545, -0.0971620083, -0.5134804249]]),\n",
       " tensor([-1.2007339001, -1.2798495293,  0.1240897775]),\n",
       " tensor([[ 0.3472324014, -0.0682768822,  0.1338058710],\n",
       "         [-0.0682771206,  0.0863963962,  0.0947692692],\n",
       "         [ 0.1338058114,  0.0947694778,  0.2892869115]]))"
      ]
     },
     "execution_count": null,
     "metadata": {},
     "output_type": "execute_result"
    }
   ],
   "source": [
    "_filter_correct(\n",
    "   tst.params['obs_matrices'],\n",
    "   tst.params['obs_cov'],\n",
    "   tst.params['obs_offsets'],\n",
    "   tst.params['initial_state_mean'],\n",
    "   tst.params['initial_state_cov'],\n",
    "   tst.data[0],\n",
    "   tst.mask_torch[0]\n",
    ")"
   ]
  },
  {
   "cell_type": "code",
   "execution_count": null,
   "id": "3f8a991c-18b2-44e6-ab8f-2aacd87b1071",
   "metadata": {},
   "outputs": [
    {
     "data": {
      "text/plain": [
       "tensor([[0.6440156698, 0.7071067691, 0.6581305861],\n",
       "        [         nan,          nan, 0.1447432041],\n",
       "        [0.5314818621, 0.1587299109, 0.6541759968],\n",
       "        [0.3278088570,          nan,          nan],\n",
       "        [0.9146959186, 0.2036490440, 0.2018010020],\n",
       "        [         nan,          nan, 0.6666255593],\n",
       "        [0.9811253548,          nan, 0.0040619373],\n",
       "        [         nan,          nan,          nan],\n",
       "        [         nan,          nan, 0.2417873144],\n",
       "        [0.1591441035, 0.7652890682,          nan]])"
      ]
     },
     "execution_count": null,
     "metadata": {},
     "output_type": "execute_result"
    }
   ],
   "source": [
    "tst.data"
   ]
  },
  {
   "cell_type": "code",
   "execution_count": null,
   "id": "504eb37a-12ab-4106-a898-9c3349c6257c",
   "metadata": {},
   "outputs": [
    {
     "data": {
      "text/plain": [
       "tensor([[ True,  True,  True],\n",
       "        [False, False,  True],\n",
       "        [ True,  True,  True],\n",
       "        [ True, False, False],\n",
       "        [ True,  True,  True],\n",
       "        [False, False,  True],\n",
       "        [ True, False,  True],\n",
       "        [False, False, False],\n",
       "        [False, False,  True],\n",
       "        [ True,  True, False]])"
      ]
     },
     "execution_count": null,
     "metadata": {},
     "output_type": "execute_result"
    }
   ],
   "source": [
    "tst.mask"
   ]
  },
  {
   "cell_type": "code",
   "execution_count": null,
   "id": "63acdea9-021a-46af-88af-7e3e687624cb",
   "metadata": {},
   "outputs": [
    {
     "data": {
      "text/plain": [
       "tensor([ True, False,  True, False,  True, False, False, False, False, False])"
      ]
     },
     "execution_count": null,
     "metadata": {},
     "output_type": "execute_result"
    }
   ],
   "source": [
    "tst.mask_torch"
   ]
  },
  {
   "cell_type": "code",
   "execution_count": null,
   "id": "d002edf7-c7d7-4633-9c45-57138fbb5050",
   "metadata": {},
   "outputs": [
    {
     "data": {
      "text/plain": [
       "(array([[ 0.7220905 , -1.0673099 ,  0.8582611 ],\n",
       "        [ 0.25874323, -1.5012974 ,  2.0114906 ],\n",
       "        [ 0.7195257 , -0.09716119, -0.51348233]], dtype=float32),\n",
       " masked_array(data=[-1.2007310390472412, -1.2798478603363037,\n",
       "                    0.12409162521362305],\n",
       "              mask=[False, False, False],\n",
       "        fill_value=1e+20,\n",
       "             dtype=float32),\n",
       " array([[ 0.34723306, -0.0682762 ,  0.13380629],\n",
       "        [-0.06827652,  0.08639681,  0.09476982],\n",
       "        [ 0.13380623,  0.09476998,  0.2892871 ]], dtype=float32))"
      ]
     },
     "execution_count": null,
     "metadata": {},
     "output_type": "execute_result"
    }
   ],
   "source": [
    "pykalman.standard._filter_correct(\n",
    "       tst.params_pyk['observation_matrices'],\n",
    "       tst.params_pyk['observation_covariance'],\n",
    "       tst.params_pyk['observation_offsets'],\n",
    "       tst.params_pyk['initial_state_mean'],\n",
    "       tst.params_pyk['initial_state_covariance'],\n",
    "       tst.data_pyk[0]\n",
    "    )"
   ]
  },
  {
   "cell_type": "code",
   "execution_count": null,
   "id": "e2773373-74d7-4d24-b52f-8c797c5ae246",
   "metadata": {},
   "outputs": [
    {
     "name": "stdout",
     "output_type": "stream",
     "text": [
      "pred_obs_mean - shape: (3,), type float32, mean 1.480324625968933\n",
      "pred_obs_cov - shape: (3, 3), type float32, mean 1.5579278469085693\n",
      "kalman_gain - shape: (3, 3), type float32, mean 0.1545402556657791\n",
      "corr_state_mean - shape: (3,), type float32, mean -0.7854975064595541\n",
      "corr_state_cov - shape: (3, 3), type float32, mean 0.11594609171152115\n"
     ]
    },
    {
     "data": {
      "text/plain": [
       "(array([[ 0.7220905 , -1.0673113 ,  0.85826373],\n",
       "        [ 0.25874335, -1.5012981 ,  2.0114913 ],\n",
       "        [ 0.7195256 , -0.09716291, -0.5134798 ]], dtype=float32),\n",
       " masked_array(data=[-1.2007334232330322, -1.2798488140106201,\n",
       "                    0.12408965826034546],\n",
       "              mask=[False, False, False],\n",
       "        fill_value=1e+20,\n",
       "             dtype=float32),\n",
       " array([[ 0.34723264, -0.06827685,  0.13380617],\n",
       "        [-0.06827661,  0.08639663,  0.09476981],\n",
       "        [ 0.13380617,  0.09476957,  0.28928733]], dtype=float32))"
      ]
     },
     "execution_count": null,
     "metadata": {},
     "output_type": "execute_result"
    }
   ],
   "source": [
    "_pyk_filter_correct(\n",
    "       tst.params_pyk['observation_matrices'],\n",
    "       tst.params_pyk['observation_covariance'],\n",
    "       tst.params_pyk['observation_offsets'],\n",
    "       tst.params_pyk['initial_state_mean'],\n",
    "       tst.params_pyk['initial_state_covariance'],\n",
    "       tst.data_pyk[0]\n",
    "    )"
   ]
  },
  {
   "cell_type": "code",
   "execution_count": null,
   "id": "bb253bca-db66-4b58-b5f6-e43997fed4f3",
   "metadata": {},
   "outputs": [
    {
     "data": {
      "text/plain": [
       "(array([[0., 0., 0.],\n",
       "        [0., 0., 0.],\n",
       "        [0., 0., 0.]]),\n",
       " array([0.7104288, 0.9464111, 0.7890298], dtype=float32),\n",
       " array([[1.0486114 , 0.3691155 , 0.7147802 ],\n",
       "        [0.3691155 , 0.60654867, 0.25865388],\n",
       "        [0.7147802 , 0.25865388, 0.9363084 ]], dtype=float32))"
      ]
     },
     "execution_count": null,
     "metadata": {},
     "output_type": "execute_result"
    }
   ],
   "source": [
    "pykalman.standard._filter_correct(\n",
    "   tst.params['obs_matrices'].numpy(),\n",
    "   tst.params['obs_cov'].numpy(),\n",
    "   tst.params['obs_offsets'].numpy(),\n",
    "   tst.params['initial_state_mean'].numpy(),\n",
    "   tst.params['initial_state_cov'].numpy(),\n",
    "   np.ma.masked_array(tst.data[0], mask=[True, True, True])\n",
    ")"
   ]
  },
  {
   "cell_type": "code",
   "execution_count": null,
   "id": "ca21afd3-25e4-471e-a462-6b8bf4e63c37",
   "metadata": {},
   "outputs": [
    {
     "data": {
      "text/plain": [
       "(array([[0., 0., 0.],\n",
       "        [0., 0., 0.],\n",
       "        [0., 0., 0.]]),\n",
       " array([0.7104288, 0.9464111, 0.7890298], dtype=float32),\n",
       " array([[1.0486114 , 0.3691155 , 0.7147802 ],\n",
       "        [0.3691155 , 0.60654867, 0.25865388],\n",
       "        [0.7147802 , 0.25865388, 0.9363084 ]], dtype=float32))"
      ]
     },
     "execution_count": null,
     "metadata": {},
     "output_type": "execute_result"
    }
   ],
   "source": [
    "_pyk_filter_correct(\n",
    "   tst.params['obs_matrices'].numpy(),\n",
    "   tst.params['obs_cov'].numpy(),\n",
    "   tst.params['obs_offsets'].numpy(),\n",
    "   tst.params['initial_state_mean'].numpy(),\n",
    "   tst.params['initial_state_cov'].numpy(),\n",
    "   np.ma.masked_array(tst.data[0], mask=[True, True, True])\n",
    ")"
   ]
  },
  {
   "cell_type": "code",
   "execution_count": null,
   "id": "ecb3043f-b75b-44f9-9770-154cb0b2d2b3",
   "metadata": {},
   "outputs": [
    {
     "data": {
      "text/plain": [
       "array([[-4.1723251e-07,  1.5497208e-06, -2.3841858e-06],\n",
       "       [-5.6624413e-07,  8.3446503e-07, -7.1525574e-07],\n",
       "       [-5.9604645e-08,  8.1956387e-07, -1.9073486e-06]], dtype=float32)"
      ]
     },
     "execution_count": null,
     "metadata": {},
     "output_type": "execute_result"
    }
   ],
   "source": [
    "   (pykalman.standard._filter_correct(\n",
    "       tst.params_pyk['observation_matrices'],\n",
    "       tst.params_pyk['observation_covariance'],\n",
    "       tst.params_pyk['observation_offsets'],\n",
    "       tst.params_pyk['initial_state_mean'],\n",
    "       tst.params_pyk['initial_state_covariance'],\n",
    "       tst.data_pyk[0]\n",
    "    )[0] -\n",
    "    \n",
    "    _filter_correct(\n",
    "       tst.params['obs_matrices'],\n",
    "       tst.params['obs_cov'],\n",
    "       tst.params['obs_offsets'],\n",
    "       tst.params['initial_state_mean'],\n",
    "       tst.params['initial_state_cov'],\n",
    "       tst.data[0],\n",
    "       tst.mask_torch[0]\n",
    "    )[0].numpy())"
   ]
  },
  {
   "cell_type": "code",
   "execution_count": null,
   "id": "89abda27-c723-4e54-b7ac-7be3ddcb12d6",
   "metadata": {},
   "outputs": [],
   "source": [
    "args_np = {\n",
    "    'obs_m': np.eye(2),\n",
    "    'obs_cov': np.eye(2),\n",
    "    'obs_off': np.zeros((2,1)),\n",
    "    'pred_state_mean': np.ones(2),\n",
    "    'pred_state_cov': np.eye(2),\n",
    "    'obs': np.ones((2,1)),\n",
    "}\n",
    "\n",
    "args_torch = {k: torch.tensor(v) for k,v in args_np.items()}"
   ]
  },
  {
   "cell_type": "code",
   "execution_count": null,
   "id": "259a47a7-e4a8-40ac-add2-48e0d37f5274",
   "metadata": {},
   "outputs": [
    {
     "data": {
      "text/plain": [
       "(tensor([[0.5000000000, 0.0000000000],\n",
       "         [0.0000000000, 0.5000000000]], dtype=torch.float64),\n",
       " tensor([[1., 1.],\n",
       "         [1., 1.]], dtype=torch.float64),\n",
       " tensor([[0.5000000000, 0.0000000000],\n",
       "         [0.0000000000, 0.5000000000]], dtype=torch.float64))"
      ]
     },
     "execution_count": null,
     "metadata": {},
     "output_type": "execute_result"
    }
   ],
   "source": [
    "_filter_correct(*args_torch.values(), mask=True)"
   ]
  },
  {
   "cell_type": "code",
   "execution_count": null,
   "id": "85912564-1794-4799-b4ee-e307055a6204",
   "metadata": {},
   "outputs": [],
   "source": [
    "test_close(\n",
    "    pykalman.standard._filter_correct(*args_np.values()),\n",
    "    _filter_correct(*args_torch.values(), mask=True))"
   ]
  },
  {
   "cell_type": "code",
   "execution_count": null,
   "id": "a7df4168-8801-4d2b-862b-a85d7f8f9106",
   "metadata": {},
   "outputs": [],
   "source": [
    "test_close(\n",
    "   pykalman.standard._filter_correct(\n",
    "       tst.params_pyk['observation_matrices'],\n",
    "       tst.params_pyk['observation_covariance'],\n",
    "       tst.params_pyk['observation_offsets'],\n",
    "       tst.params_pyk['initial_state_mean'],\n",
    "       tst.params_pyk['initial_state_covariance'],\n",
    "       tst.data_pyk[0]\n",
    "    ),\n",
    "    \n",
    "    _filter_correct(\n",
    "       tst.params['obs_matrices'],\n",
    "       tst.params['obs_cov'],\n",
    "       tst.params['obs_offsets'],\n",
    "       tst.params['initial_state_mean'],\n",
    "       tst.params['initial_state_cov'],\n",
    "       tst.data[0],\n",
    "       tst.mask_torch[0]\n",
    "    )\n",
    ")"
   ]
  },
  {
   "cell_type": "markdown",
   "id": "704a8991-9dd5-4791-a72f-b4625d9969f8",
   "metadata": {},
   "source": [
    "trying multiple random values ..."
   ]
  },
  {
   "cell_type": "code",
   "execution_count": null,
   "id": "f0085f59-c8be-4fb7-9e87-5146d9eb2b50",
   "metadata": {},
   "outputs": [],
   "source": [
    "for _ in range(100):\n",
    "    tst = KalmanFilterTester(nan_mask=False)\n",
    "    test_close(\n",
    "       pykalman.standard._filter_correct(\n",
    "           tst.params_pyk['observation_matrices'],\n",
    "           tst.params_pyk['observation_covariance'],\n",
    "           tst.params_pyk['observation_offsets'],\n",
    "           tst.params_pyk['initial_state_mean'],\n",
    "           tst.params_pyk['initial_state_covariance'],\n",
    "           tst.data_pyk[0]\n",
    "        ),\n",
    "\n",
    "        _filter_correct(\n",
    "           tst.params['obs_matrices'],\n",
    "           tst.params['obs_cov'],\n",
    "           tst.params['obs_offsets'],\n",
    "           tst.params['initial_state_mean'],\n",
    "           tst.params['initial_state_cov'],\n",
    "           tst.data[0],\n",
    "           tst.mask_torch[0]\n",
    "        )\n",
    "    )"
   ]
  },
  {
   "cell_type": "markdown",
   "id": "173294f6-f74b-4a93-9ba6-c4695284d125",
   "metadata": {},
   "source": [
    "#### Filter"
   ]
  },
  {
   "cell_type": "code",
   "execution_count": null,
   "id": "2f045ed4-40bc-4451-b836-5bc4e5b4d4b9",
   "metadata": {},
   "outputs": [],
   "source": [
    "#| export\n",
    "def _filter(transition_matrices, obs_matrices, transition_cov,\n",
    "            obs_cov, transition_offsets, obs_offsets,\n",
    "            initial_state_mean, initial_state_cov, obs, obs_mask, check_args={}):\n",
    "    \"\"\"Apply the Kalman Filter\n",
    "\n",
    "    Calculate posterior distribution over hidden states given obss up\n",
    "    to and including the current time step.\n",
    "\n",
    "    Parameters\n",
    "    ----------\n",
    "    transition_matrices : [n_timesteps-1,n_dim_state,n_dim_state] or\n",
    "    [n_dim_state,n_dim_state] array-like\n",
    "        state transition matrices\n",
    "    obs_matrices : [n_timesteps, n_dim_obs, n_dim_state] or [n_dim_obs, \\\n",
    "    n_dim_state] array-like\n",
    "        obs matrix\n",
    "    transition_cov : [n_timesteps-1,n_dim_state,n_dim_state] or\n",
    "    [n_dim_state,n_dim_state] array-like\n",
    "        state transition cov matrix\n",
    "    obs_cov : [n_timesteps, n_dim_obs, n_dim_obs] or [n_dim_obs,\n",
    "    n_dim_obs] array-like\n",
    "        obs cov matrix\n",
    "    transition_offsets : [n_timesteps-1, n_dim_state] or [n_dim_state] \\\n",
    "    array-like\n",
    "        state offset\n",
    "    obs_offsets : [n_timesteps, n_dim_obs] or [n_dim_obs] array-like\n",
    "        obss for times [0...n_timesteps-1]\n",
    "    initial_state_mean : [n_dim_state] array-like\n",
    "        mean of initial state distribution\n",
    "    initial_state_cov : [n_dim_state, n_dim_state] array-like\n",
    "        cov of initial state distribution\n",
    "    obss : [n_timesteps, n_dim_obs] array\n",
    "        obss from times [0...n_timesteps-1].  If `obss` is a\n",
    "        masked array and any of `obss[t]` is masked, then\n",
    "        `obss[t]` will be treated as a missing obs.\n",
    "\n",
    "    Returns\n",
    "    -------\n",
    "    pred_state_means : [n_timesteps, n_dim_state] array\n",
    "        `pred_state_means[t]` = mean of hidden state at time t given\n",
    "        obss from times [0...t-1]\n",
    "    pred_state_covs : [n_timesteps, n_dim_state, n_dim_state] array\n",
    "        `pred_state_covs[t]` = cov of hidden state at time t\n",
    "        given obss from times [0...t-1]\n",
    "    kalman_gains : [n_timesteps, n_dim_state] array\n",
    "        `kalman_gains[t]` = Kalman gain matrix for time t\n",
    "    filt_state_means : [n_timesteps, n_dim_state] array\n",
    "        `filt_state_means[t]` = mean of hidden state at time t given\n",
    "        obss from times [0...t]\n",
    "    filt_state_covs : [n_timesteps, n_dim_state] array\n",
    "        `filt_state_covs[t]` = cov of hidden state at time t\n",
    "        given obss from times [0...t]\n",
    "    \"\"\"\n",
    "    n_timesteps = obs.shape[0]\n",
    "    n_dim_state = len(initial_state_mean)\n",
    "    n_dim_obs = obs.shape[1]\n",
    "    \n",
    "    # those variables need to be lists and not Tensors,\n",
    "    # otherwise pytorch tryies to compute the gradient for the whole tensor and it breaks due to the in place operations\n",
    "    \n",
    "    pred_state_means = [None for _ in range(n_timesteps)] # torch.zeros((n_timesteps, n_dim_state))\n",
    "    pred_state_covs = [None for _ in range(n_timesteps)] # torch.zeros(\n",
    "        #(n_timesteps, n_dim_state, n_dim_state)\n",
    "    #)\n",
    "    kalman_gains = [None for _ in range(n_timesteps)]\n",
    "    filt_state_means = [None for _ in range(n_timesteps)]\n",
    "    filt_state_covs = [None for _ in range(n_timesteps)]\n",
    "\n",
    "    for t in range(n_timesteps):\n",
    "        if t == 0:\n",
    "            pred_state_means[t] = initial_state_mean\n",
    "            pred_state_covs[t] = initial_state_cov\n",
    "        else:\n",
    "            transition_matrix = _last_dims(transition_matrices, t - 1)\n",
    "            transition_cov = _last_dims(transition_cov, t - 1)\n",
    "            transition_offset = _last_dims(transition_offsets, t - 1, ndims=1)\n",
    "            pred_state_means[t], pred_state_covs[t] = (\n",
    "                _filter_predict(\n",
    "                    transition_matrix,\n",
    "                    transition_cov,\n",
    "                    transition_offset,\n",
    "                    filt_state_means[t - 1],\n",
    "                    filt_state_covs[t - 1],\n",
    "                    check_args = {'t': t, **check_args} if check_args is not None else None\n",
    "                )\n",
    "            )\n",
    "\n",
    "        obs_matrix = _last_dims(obs_matrices, t)\n",
    "        obs_cov = _last_dims(obs_cov, t)\n",
    "        obs_offset = _last_dims(obs_offsets, t, ndims=1)\n",
    "        (kalman_gains[t], filt_state_means[t],\n",
    "         filt_state_covs[t]) = (\n",
    "            _filter_correct(obs_matrix,\n",
    "                obs_cov,\n",
    "                obs_offset,\n",
    "                pred_state_means[t],\n",
    "                pred_state_covs[t],\n",
    "                obs[t],\n",
    "                obs_mask[t],\n",
    "                check_args = {'t': t, **check_args} if check_args is not None else None\n",
    "            )\n",
    "        )\n",
    "\n",
    "    return (pred_state_means, pred_state_covs, filt_state_means,\n",
    "            filt_state_covs)"
   ]
  },
  {
   "cell_type": "code",
   "execution_count": null,
   "id": "272593f1-7834-442f-bcf8-5d12ad1723b9",
   "metadata": {},
   "outputs": [],
   "source": [
    "def test_filter():\n",
    "    pred_s, pred_s_cov, kal, filt_s, filt_s_cov =  pykalman.standard._filter(\n",
    "       tst.params_pyk['transition_matrices'],\n",
    "       tst.params_pyk['observation_matrices'],\n",
    "       tst.params_pyk['transition_covariance'],\n",
    "       tst.params_pyk['observation_covariance'],\n",
    "       tst.params_pyk['transition_offsets'],\n",
    "       tst.params_pyk['observation_offsets'],\n",
    "       tst.params_pyk['initial_state_mean'],\n",
    "       tst.params_pyk['initial_state_covariance'],\n",
    "       tst.data_pyk[0:1]\n",
    "    )\n",
    "    \n",
    "    pyk = (pred_s, pred_s_cov, filt_s, filt_s_cov,) # results without kalman gain\n",
    "    \n",
    "    filter_torch = tuple(map(\n",
    "        torch.vstack, # need to convert lists to tensor\n",
    "          _filter(\n",
    "           tst.params['transition_matrices'],\n",
    "           tst.params['obs_matrices'],\n",
    "           tst.params['transition_cov'],\n",
    "           tst.params['obs_cov'],\n",
    "           tst.params['transition_offsets'],\n",
    "           tst.params['obs_offsets'],\n",
    "           tst.params['initial_state_mean'],\n",
    "           tst.params['initial_state_cov'],\n",
    "           tst.data[0:1],\n",
    "           tst.mask_torch[0:1]\n",
    "    )))\n",
    "    \n",
    "    test_close(pyk, filter_torch)"
   ]
  },
  {
   "cell_type": "code",
   "execution_count": null,
   "id": "de6471d0-d3f7-4c33-bf7f-ec1cc1c06e2b",
   "metadata": {},
   "outputs": [],
   "source": [
    "test_filter()"
   ]
  },
  {
   "cell_type": "markdown",
   "id": "f8ce1a15-3c72-47ad-9cd4-583dd93453f2",
   "metadata": {},
   "source": [
    "##### Old testing"
   ]
  },
  {
   "cell_type": "code",
   "execution_count": null,
   "id": "5326f17b-3cdb-4ad3-a040-9866abc6a89f",
   "metadata": {},
   "outputs": [],
   "source": [
    "args_filt_np = {\n",
    "    'trans_m': np.eye(2),\n",
    "    'obs_m': np.eye(2),\n",
    "    'trans_cov': np.eye(2),\n",
    "    'obs_cov': np.eye(2),\n",
    "    'trans_off': np.zeros((2,1)),\n",
    "    'obs_off': np.zeros((3,2)),\n",
    "    'init_state_mean': np.ones(2),\n",
    "    'init_state_cov': np.eye(2),\n",
    "    'obs': np.ones((3, 2)),\n",
    "}\n",
    "\n",
    "obs_mask = np.ones(3)\n",
    "\n",
    "args_filt_torch = {k: torch.tensor(v, dtype = torch.float32) for k,v in args_filt_np.items()}"
   ]
  },
  {
   "cell_type": "code",
   "execution_count": null,
   "id": "5d40182e-31a2-42b4-a734-5fe228072526",
   "metadata": {},
   "outputs": [
    {
     "data": {
      "text/plain": [
       "([tensor([1., 1.]), tensor([1., 1.]), tensor([1., 1.])],\n",
       " [tensor([[1., 0.],\n",
       "          [0., 1.]]),\n",
       "  tensor([[1.5000000000, 0.0000000000],\n",
       "          [0.0000000000, 1.5000000000]]),\n",
       "  tensor([[1.5999999046, 0.0000000000],\n",
       "          [0.0000000000, 1.5999999046]])],\n",
       " [tensor([1., 1.]), tensor([1., 1.]), tensor([1., 1.])],\n",
       " [tensor([[0.5000000000, 0.0000000000],\n",
       "          [0.0000000000, 0.5000000000]]),\n",
       "  tensor([[0.5999999642, 0.0000000000],\n",
       "          [0.0000000000, 0.5999999642]]),\n",
       "  tensor([[0.6153846383, 0.0000000000],\n",
       "          [0.0000000000, 0.6153846383]])])"
      ]
     },
     "execution_count": null,
     "metadata": {},
     "output_type": "execute_result"
    }
   ],
   "source": [
    "_filter(*args_filt_torch.values(), obs_mask=obs_mask)"
   ]
  },
  {
   "cell_type": "code",
   "execution_count": null,
   "id": "14baa8c6-8556-40fc-8dc8-02f8a0d40a50",
   "metadata": {},
   "outputs": [],
   "source": [
    "filt_pyk = list(pykalman.standard._filter(*args_filt_np.values()))\n",
    "del filt_pyk[2] # remove kalman gain that is not returned py _filter\n",
    "\n",
    "filt =  list(map(lambda x: torch.stack(x), _filter(*args_filt_torch.values(), obs_mask=obs_mask)))\n",
    "\n",
    "test_close( filt_pyk, filt)"
   ]
  },
  {
   "cell_type": "markdown",
   "id": "43e37b54-796f-4497-a15d-6b1cddfb986e",
   "metadata": {},
   "source": [
    "missing data"
   ]
  },
  {
   "cell_type": "code",
   "execution_count": null,
   "id": "ab129fb2-af48-44d4-b528-ea643c107a93",
   "metadata": {},
   "outputs": [],
   "source": [
    "obs_mask = np.array([True, False, True])\n",
    "args_filt_np['obs'] = np.ma.masked_array(args_filt_np['obs'], mask = np.vstack([~obs_mask] * 2).T)"
   ]
  },
  {
   "cell_type": "code",
   "execution_count": null,
   "id": "a5333d91-d971-41bd-babf-bf21b8ee6488",
   "metadata": {},
   "outputs": [
    {
     "data": {
      "text/plain": [
       "masked_array(\n",
       "  data=[[1.0, 1.0],\n",
       "        [--, --],\n",
       "        [1.0, 1.0]],\n",
       "  mask=[[False, False],\n",
       "        [ True,  True],\n",
       "        [False, False]],\n",
       "  fill_value=1e+20)"
      ]
     },
     "execution_count": null,
     "metadata": {},
     "output_type": "execute_result"
    }
   ],
   "source": [
    "args_filt_np['obs']"
   ]
  },
  {
   "cell_type": "code",
   "execution_count": null,
   "id": "9c366aed-4312-4a83-b6e1-c4e452ea0afe",
   "metadata": {},
   "outputs": [],
   "source": [
    "filt_pyk = list(pykalman.standard._filter(*args_filt_np.values()))\n",
    "del filt_pyk[2] # remove kalman gain that is not returned py _filter\n",
    "\n",
    "filt =  list(map(lambda x: torch.stack(x), _filter(*args_filt_torch.values(), obs_mask=torch.tensor(obs_mask))))\n",
    "\n",
    "test_close( filt_pyk, filt)"
   ]
  },
  {
   "cell_type": "markdown",
   "id": "9f928bd5-604f-4a0d-9379-46aba21e31d8",
   "metadata": {},
   "source": [
    "#### KalmanFilter method"
   ]
  },
  {
   "cell_type": "code",
   "execution_count": null,
   "id": "9faab4ca-9796-4d84-90b2-8cde296e66ec",
   "metadata": {},
   "outputs": [],
   "source": [
    "#| export\n",
    "@patch\n",
    "def _filter_all(self: KalmanFilter, obs, mask=None, check_args=None) -> Tuple:\n",
    "    obs, obs_mask = self._parse_obs(obs, mask)\n",
    "\n",
    "    return _filter(\n",
    "            self.transition_matrices,\n",
    "            self.obs_matrices,\n",
    "            self.transition_cov,\n",
    "            self.obs_cov,\n",
    "            self.transition_offsets,\n",
    "            self.obs_offsets,\n",
    "            self.initial_state_mean,\n",
    "            self.initial_state_cov,\n",
    "            obs,\n",
    "            obs_mask,\n",
    "            check_args\n",
    "        )\n",
    "\n",
    "@patch\n",
    "def filter(self: KalmanFilter,\n",
    "          obs: Tensor, # [n_timesteps, n_dim_obs] obs for times [0...n_timesteps-1]\n",
    "          mask = None,\n",
    "          check_args=None\n",
    "          ) -> ListNormal: # Filtered state\n",
    "    \"\"\"Filter observation\"\"\"\n",
    "    _, _, filt_state_means, filt_state_covs = self._filter_all(obs, mask, check_args)\n",
    "    # need to convert a list of tensors with gradients to a big tensors without gradients\n",
    "    return ListNormal(_stack_detach(filt_state_means), _stack_detach(filt_state_covs))\n"
   ]
  },
  {
   "cell_type": "markdown",
   "id": "9a7cc203-603a-4804-a9d7-c424e4dbfb89",
   "metadata": {},
   "source": [
    "#### Final Testing"
   ]
  },
  {
   "cell_type": "markdown",
   "id": "49784568-aad6-4e1c-a9f8-7bbe1bfca0e7",
   "metadata": {},
   "source": [
    "due to numerical issue the error is bigger thatn `1e-5` which is default"
   ]
  },
  {
   "cell_type": "code",
   "execution_count": null,
   "id": "ef787189-4135-4556-9f1b-08e56e040cbf",
   "metadata": {},
   "outputs": [
    {
     "data": {
      "text/plain": [
       "tensor(0.0164794922)"
      ]
     },
     "execution_count": null,
     "metadata": {},
     "output_type": "execute_result"
    }
   ],
   "source": [
    "((tst.filter.filter(tst.data, tst.mask_torch)[1] -\n",
    "np.float32(tst.filter_pyk.filter(tst.data_pyk)[1]))).max()"
   ]
  },
  {
   "cell_type": "code",
   "execution_count": null,
   "id": "0aff269e-682a-4004-beaf-c879f6381874",
   "metadata": {},
   "outputs": [],
   "source": [
    "tst = KalmanFilterTester()"
   ]
  },
  {
   "cell_type": "code",
   "execution_count": null,
   "id": "8a8ca499-f7ae-47c5-b1b0-98d5902fdcdc",
   "metadata": {},
   "outputs": [],
   "source": [
    "test_close(\n",
    "    tst.filter.filter(tst.data, tst.mask_torch),\n",
    "    tst.filter_pyk.filter(tst.data_pyk), eps=4e-2) # need to increase the resolution"
   ]
  },
  {
   "cell_type": "markdown",
   "id": "b4bd88f4-4df0-4bb5-9fd3-cdab2ee4afc0",
   "metadata": {},
   "source": [
    "using `float64` the error is smaller, which confirms that it is only a numerical issue"
   ]
  },
  {
   "cell_type": "code",
   "execution_count": null,
   "id": "3cb27ea8-fbea-4c9d-b069-c7050ad184a5",
   "metadata": {},
   "outputs": [],
   "source": [
    "test_close(\n",
    "    tst64.filter.filter(tst.data, tst.mask_torch),\n",
    "    tst64.filter_pyk.filter(tst.data_pyk))"
   ]
  },
  {
   "cell_type": "code",
   "execution_count": null,
   "id": "c598d27e-a51f-41c6-a61b-f1e84cfadc02",
   "metadata": {},
   "outputs": [
    {
     "data": {
      "text/plain": [
       "tensor(4.6659886710e-07, dtype=torch.float64)"
      ]
     },
     "execution_count": null,
     "metadata": {},
     "output_type": "execute_result"
    }
   ],
   "source": [
    "((tst64.filter.filter(tst64.data, tst64.mask_torch)[1] -\n",
    "tst64.filter_pyk.filter(tst64.data_pyk)[1])).max()"
   ]
  },
  {
   "cell_type": "markdown",
   "id": "9bd25fe9-94cf-4c59-818b-7dcf0992f2bc",
   "metadata": {},
   "source": [
    "##### Old Testing"
   ]
  },
  {
   "cell_type": "code",
   "execution_count": null,
   "id": "900b89cf-3a35-4393-9a6d-a4ca85ea2247",
   "metadata": {},
   "outputs": [],
   "source": [
    "test_close(\n",
    "    pyk.filter(X.numpy()),\n",
    "    k.filter(X)\n",
    ")"
   ]
  },
  {
   "cell_type": "code",
   "execution_count": null,
   "id": "b0922900-208e-443b-97bd-24a2ff1f4f50",
   "metadata": {},
   "outputs": [],
   "source": [
    "test_close(\n",
    "    pyk2.filter(nX2),\n",
    "    k2.filter(X2)\n",
    ")"
   ]
  },
  {
   "cell_type": "code",
   "execution_count": null,
   "id": "a6b14d00-9ee7-4e67-9cc0-e40be8c63a70",
   "metadata": {},
   "outputs": [
    {
     "data": {
      "text/plain": [
       "ListNormal(mean=tensor([[ 0.0000000000,  0.0000000000],\n",
       "        [ 1.3333332539, 13.3333320618],\n",
       "        [ 1.3333332539, 13.3333320618],\n",
       "        [ 3.2727272511, 32.7272720337]]), cov=tensor([[[1.0000001192, 0.0000000000],\n",
       "         [0.0000000000, 1.0000001192]],\n",
       "\n",
       "        [[0.6666668653, 0.0000000000],\n",
       "         [0.0000000000, 0.6666668653]],\n",
       "\n",
       "        [[1.6666669846, 0.0000000000],\n",
       "         [0.0000000000, 1.6666669846]],\n",
       "\n",
       "        [[0.7272727489, 0.0000000000],\n",
       "         [0.0000000000, 0.7272727489]]]))"
      ]
     },
     "execution_count": null,
     "metadata": {},
     "output_type": "execute_result"
    }
   ],
   "source": [
    "k2.filter(X2m)"
   ]
  },
  {
   "cell_type": "code",
   "execution_count": null,
   "id": "5f97a343-1841-4a36-950f-826103a8d19e",
   "metadata": {},
   "outputs": [],
   "source": [
    "test_close(\n",
    "    pyk.filter(X.numpy()),\n",
    "    k.filter(X)\n",
    ")"
   ]
  },
  {
   "cell_type": "code",
   "execution_count": null,
   "id": "b08aba5f-0260-47e9-954c-2e8c2be2bb5f",
   "metadata": {},
   "outputs": [],
   "source": [
    "test_close(\n",
    "    pyk2.filter(nX2),\n",
    "    k2.filter(X2)\n",
    ")"
   ]
  },
  {
   "cell_type": "code",
   "execution_count": null,
   "id": "86705b39-0379-41e1-a8ad-eeb770362fee",
   "metadata": {},
   "outputs": [],
   "source": [
    "test_close(\n",
    "    pyk2.filter(nX2m),\n",
    "    k2.filter(X2m)\n",
    ")"
   ]
  },
  {
   "cell_type": "markdown",
   "id": "f8d2f1bf-34cd-4e87-a239-2662f6689a53",
   "metadata": {},
   "source": [
    "### Smooth"
   ]
  },
  {
   "cell_type": "markdown",
   "id": "ff2a1878-4e69-4ead-a7b8-cf7dbae5d13e",
   "metadata": {},
   "source": [
    "#### Smooth step"
   ]
  },
  {
   "cell_type": "code",
   "execution_count": null,
   "id": "57d5c739-3863-40a5-8b96-1ee12c476ca9",
   "metadata": {},
   "outputs": [],
   "source": [
    "#| export\n",
    "def _smooth_update(transition_matrix,      # [n_dim_state, n_dim_state]\n",
    "                   filt_state: Normal, # [n_dim_state] filtered state at time `t`\n",
    "                   pred_state: Normal,        # [n_dim_state] state before filtering at time `t + 1` (= using the observation until time t)\n",
    "                   next_smoothed_state: Normal, # [n_dim_state] smoothed state at time  `t+1`\n",
    "                   check_args: dict|None = None # if not None checks that the result is positive definite\n",
    "                   ) -> Normal: # mean and cov of smoothed state at time `t`\n",
    "    r\"\"\"Correct a pred state with a Kalman Smoother update\n",
    "\n",
    "    Calculates posterior distribution of the hidden state at time `t` given the the observations via Kalman Smoothing.\n",
    "    \"\"\"\n",
    "    kalman_smoothing_gain = filt_state.cov @ transition_matrix.T @ torch.inverse(pred_state.cov)\n",
    "\n",
    "    smoothed_state_mean = filt_state.mean + kalman_smoothing_gain @ (next_smoothed_state.mean - pred_state.mean)\n",
    "    smoothed_state_cov = (filt_state.cov\n",
    "                      + kalman_smoothing_gain @ (next_smoothed_state.cov - pred_state.cov) @ kalman_smoothing_gain.T)\n",
    "\n",
    "    if check_args is not None: check_posdef(pred_state_cov, 'filter_correct', **check_args)\n",
    "    \n",
    "    return ListNormal(smoothed_state_mean, smoothed_state_cov,)"
   ]
  },
  {
   "cell_type": "code",
   "execution_count": null,
   "id": "561b2765-ea53-486e-93d8-d600cb20c7c5",
   "metadata": {},
   "outputs": [],
   "source": [
    "args_np_sm = {\n",
    "    'pred_state_m': np.zeros(2),\n",
    "    'pred_state_cov': np.eye(2),\n",
    "    'filt_state_m': np.zeros(2),\n",
    "    'filt_state_cov': np.eye(2),\n",
    "    'next_state_m': np.zeros(2),\n",
    "    'next_state_cov': np.eye(2),\n",
    "    'trans_m': np.eye(2),\n",
    "}\n",
    "\n",
    "args_torch_sm = {k: torch.tensor(v) for k,v in args_np_sm.items()}"
   ]
  },
  {
   "cell_type": "code",
   "execution_count": null,
   "id": "0bd12c2f-578b-40fd-8a8f-e2d52098badb",
   "metadata": {},
   "outputs": [],
   "source": [
    "pyk_mean, pyk_cov, _ = pykalman.standard._smooth_update(\n",
    "    args_np_sm['trans_m'],\n",
    "    args_np_sm['filt_state_m'],\n",
    "    args_np_sm['filt_state_cov'],\n",
    "    args_np_sm['pred_state_m'],\n",
    "    args_np_sm['pred_state_cov'],\n",
    "    args_np_sm['next_state_m'],\n",
    "    args_np_sm['next_state_cov'],\n",
    ")"
   ]
  },
  {
   "cell_type": "code",
   "execution_count": null,
   "id": "18650e9f-ec71-4ab5-8c50-cfa631e87885",
   "metadata": {},
   "outputs": [],
   "source": [
    "torch_k = _smooth_update(\n",
    "    args_torch_sm['trans_m'],\n",
    "    Normal(args_torch_sm['filt_state_m'], args_torch_sm['filt_state_cov']),\n",
    "    Normal(args_torch_sm['pred_state_m'], args_torch_sm['pred_state_cov']),\n",
    "    Normal(args_torch_sm['next_state_m'], args_torch_sm['next_state_cov']),\n",
    ")"
   ]
  },
  {
   "cell_type": "code",
   "execution_count": null,
   "id": "a67b6580-dc0e-4fce-b682-1cb4b5107bd9",
   "metadata": {},
   "outputs": [],
   "source": [
    "test_close((pyk_mean, pyk_cov, ), torch_k)"
   ]
  },
  {
   "cell_type": "code",
   "execution_count": null,
   "id": "7c46309f-70f9-419f-91fc-607ec3e79d77",
   "metadata": {},
   "outputs": [],
   "source": [
    "#| export\n",
    "def _smooth(transition_matrices, # `[n_timesteps-1, n_dim_state, n_dim_state]` or `[n_dim_state, n_dim_state]`\n",
    "            filt_state: ListNormal, # `[n_timesteps, n_dim_state]`\n",
    "                # `filt_state_means[t]` = mean state estimate for time t given obs from times `[0...t]`\n",
    "            pred_state: ListNormal, # `[n_timesteps, n_dim_state]`\n",
    "                # `pred_state_means[t]` = mean state estimate for time t given obs from times `[0...t-1]`\n",
    "           check_args: dict|None = None # if not None checks that the result is positive definite\n",
    "           ) -> ListNormal: # `[n_timesteps, n_dim_state]` Smoothed state \n",
    "    \"\"\"Apply the Kalman Smoother \"\"\"\n",
    "    n_timesteps, n_dim_state = len(pred_state.mean), pred_state.mean[0].shape[0]\n",
    "\n",
    "    smoothed_state = ListNormal(torch.zeros((n_timesteps,n_dim_state), dtype=pred_state.mean[0].dtype, device=pred_state.mean[0].device), \n",
    "                                torch.zeros((n_timesteps, n_dim_state,\n",
    "                                           n_dim_state), dtype=pred_state.mean[0].dtype, device=pred_state.mean[0].device))\n",
    "\n",
    "    smoothed_state.mean[-1] = filt_state.mean[-1]\n",
    "    smoothed_state.cov[-1] = filt_state.cov[-1]\n",
    "\n",
    "    for t in reversed(range(n_timesteps - 1)):\n",
    "        transition_matrix = _last_dims(transition_matrices, t)\n",
    "        (smoothed_state.mean[t], smoothed_state.cov[t]) = (\n",
    "            _smooth_update(\n",
    "                transition_matrix,\n",
    "                filt_state.get_nth(t),\n",
    "                pred_state.get_nth(t + 1),\n",
    "                smoothed_state.get_nth(t+1),\n",
    "                check_args = {'t': t, **check_args} if check_args is not None else None\n",
    "            )\n",
    "        )\n",
    "    return smoothed_state"
   ]
  },
  {
   "cell_type": "code",
   "execution_count": null,
   "id": "78f79457-da68-429c-8edd-860860380cbc",
   "metadata": {},
   "outputs": [],
   "source": [
    "(pred_state_means, pred_state_covs, filt_state_means, filt_state_covs ) = k2._filter_all(X2m)"
   ]
  },
  {
   "cell_type": "code",
   "execution_count": null,
   "id": "5475b7ee-c9df-4aca-b490-2f4a2b331d4e",
   "metadata": {},
   "outputs": [],
   "source": [
    "torch_smooth = _smooth(k2.transition_matrices,  ListNormal(filt_state_means, filt_state_covs), ListNormal(pred_state_means, pred_state_covs))"
   ]
  },
  {
   "cell_type": "code",
   "execution_count": null,
   "id": "dd2311f7-de58-4212-b1c3-0fb840c90072",
   "metadata": {},
   "outputs": [],
   "source": [
    "pyk_sm_mean, pyk_sm_cov, _ = pykalman.standard._smooth(k2.transition_matrices.detach().numpy(),\n",
    "                          _stack_detach(filt_state_means).numpy(), _stack_detach(filt_state_covs).numpy(),\n",
    "                          _stack_detach(pred_state_means).numpy(), _stack_detach(pred_state_covs).numpy())"
   ]
  },
  {
   "cell_type": "code",
   "execution_count": null,
   "id": "46ce62c8-a8df-4f67-b49a-3e4781e9fba9",
   "metadata": {},
   "outputs": [],
   "source": [
    "test_close((pyk_sm_mean, pyk_sm_cov,), torch_smooth)"
   ]
  },
  {
   "cell_type": "code",
   "execution_count": null,
   "id": "16df8533-f01d-4b04-8917-67efd7719281",
   "metadata": {},
   "outputs": [
    {
     "data": {
      "text/plain": [
       "ListNormal(mean=tensor([[ 0.9090909362,  9.0909090042],\n",
       "        [ 1.8181818724, 18.1818180084],\n",
       "        [ 2.5454545021, 25.4545459747],\n",
       "        [ 3.2727272511, 32.7272720337]], grad_fn=<CopySlices>), cov=tensor([[[0.6363637447, 0.0000000000],\n",
       "         [0.0000000000, 0.6363637447]],\n",
       "\n",
       "        [[0.5454546809, 0.0000000000],\n",
       "         [0.0000000000, 0.5454546809]],\n",
       "\n",
       "        [[0.9090909958, 0.0000000000],\n",
       "         [0.0000000000, 0.9090909958]],\n",
       "\n",
       "        [[0.7272727489, 0.0000000000],\n",
       "         [0.0000000000, 0.7272727489]]], grad_fn=<CopySlices>))"
      ]
     },
     "execution_count": null,
     "metadata": {},
     "output_type": "execute_result"
    }
   ],
   "source": [
    "torch_smooth"
   ]
  },
  {
   "cell_type": "markdown",
   "id": "bc0299de-69cf-4351-ba84-12871662230b",
   "metadata": {},
   "source": [
    "#### KalmanFilter method"
   ]
  },
  {
   "cell_type": "code",
   "execution_count": null,
   "id": "808bcd96-9e98-4e4f-9b85-cdfb98cb9709",
   "metadata": {},
   "outputs": [],
   "source": [
    "#| export\n",
    "@patch\n",
    "def smooth(self: KalmanFilter,\n",
    "           obs: Tensor, # dataset\n",
    "           mask = None,\n",
    "           check_args=None\n",
    "          ) -> Tuple[Tensor, Tensor]:\n",
    "                # `smoothed_state_means` : `[n_timesteps, n_dim_state]`\n",
    "                    # mean of hidden state distributions for times `[0...n_timesteps-1]`\n",
    "                # `smoothed_state_covs` : `[n_timesteps, n_dim_state]`\n",
    "                    # covs of hidden state distributions for times `[0...n_timesteps-1]`\n",
    "        \n",
    "    \"\"\"Smoothing for prediction (no gradients)\"\"\"\n",
    "\n",
    "    (pred_state_means, pred_state_covs, filt_state_means, filt_state_covs) = self._filter_all(obs, mask, check_args)\n",
    "\n",
    "    return _smooth(\n",
    "            self.transition_matrices,\n",
    "            ListNormal(filt_state_means, filt_state_covs),\n",
    "            ListNormal(pred_state_means, pred_state_covs),\n",
    "            check_args\n",
    "        )\n",
    "\n",
    "  "
   ]
  },
  {
   "cell_type": "code",
   "execution_count": null,
   "id": "bc63fe46-f267-4538-a72b-997747df2391",
   "metadata": {},
   "outputs": [
    {
     "data": {
      "text/plain": [
       "ListNormal(mean=tensor([[0.9230769277],\n",
       "        [1.7692308426],\n",
       "        [2.3846154213]], grad_fn=<CopySlices>), cov=tensor([[[0.3846154213]],\n",
       "\n",
       "        [[0.4615385532]],\n",
       "\n",
       "        [[0.6153846979]]], grad_fn=<CopySlices>))"
      ]
     },
     "execution_count": null,
     "metadata": {},
     "output_type": "execute_result"
    }
   ],
   "source": [
    "k.smooth(X)"
   ]
  },
  {
   "cell_type": "markdown",
   "id": "419f58c1-4050-49df-bb52-e72507e40e28",
   "metadata": {},
   "source": [
    "#### Final Testing"
   ]
  },
  {
   "cell_type": "code",
   "execution_count": null,
   "id": "399a9c21-e92a-4325-b048-276f343a225f",
   "metadata": {},
   "outputs": [],
   "source": [
    "test_close(\n",
    "    tst.filter.smooth(tst.data, tst.mask_torch),\n",
    "    tst.filter_pyk.smooth(tst.data_pyk), eps=4e-2) # need to increase the resolution"
   ]
  },
  {
   "cell_type": "code",
   "execution_count": null,
   "id": "8c5f88aa-791c-4890-94c8-9686905aa6c7",
   "metadata": {},
   "outputs": [],
   "source": [
    "test_close(\n",
    "    tst64.filter.smooth(tst64.data, tst64.mask_torch),\n",
    "    tst64.filter_pyk.smooth(tst64.data_pyk))"
   ]
  },
  {
   "cell_type": "code",
   "execution_count": null,
   "id": "1f2e0b06-21fa-420e-9755-e4ecf74cddef",
   "metadata": {},
   "outputs": [],
   "source": [
    "test_close(\n",
    "    pyk.smooth(nX),\n",
    "    k.smooth(X).detach()\n",
    ")"
   ]
  },
  {
   "cell_type": "code",
   "execution_count": null,
   "id": "b406e5f0-2c60-41f3-8704-5f7d870050ca",
   "metadata": {},
   "outputs": [],
   "source": [
    "test_close(\n",
    "    pyk2.smooth(nX2),\n",
    "    k2.smooth(X2).detach()\n",
    ")"
   ]
  },
  {
   "cell_type": "code",
   "execution_count": null,
   "id": "812d3a40-ad1d-460c-81ff-f234f36d7937",
   "metadata": {},
   "outputs": [],
   "source": [
    "test_close(\n",
    "    pyk2.smooth(nX2m),\n",
    "    k2.smooth(X2m)\n",
    ")"
   ]
  },
  {
   "cell_type": "markdown",
   "id": "7e0600dd-9baf-4796-b3f5-4ae1c2239453",
   "metadata": {},
   "source": [
    "### Predict"
   ]
  },
  {
   "cell_type": "code",
   "execution_count": null,
   "id": "65cede76-c4df-4817-b6e1-5f53ee9f17bd",
   "metadata": {},
   "outputs": [],
   "source": [
    "#| export\n",
    "@patch\n",
    "def _obs_from_state(self: KalmanFilter, state_mean, state_cov, check_args=None):\n",
    "\n",
    "    mean = self.obs_matrices @ state_mean\n",
    "    cov = self.obs_matrices @ state_cov @ self.obs_matrices.mT + self.obs_cov\n",
    "    \n",
    "    \n",
    "    if check_args is not None: check_posdef(pred_state_cov, 'predict',  **check_args)\n",
    "                \n",
    "    \n",
    "    return ListNormal(mean, cov)\n",
    "\n",
    "@patch\n",
    "def predict(self: KalmanFilter, obs, times, mask=None, smooth=True, check_args=None):\n",
    "    state = self.smooth(obs, mask, check_args) if smooth else self.filter(obs, mask, check_args)\n",
    "    times = array1d(times)\n",
    "    \n",
    "    n_timesteps = obs.shape[0]\n",
    "    n_features = obs.shape[1] if len(obs.shape) > 1 else 1\n",
    "    \n",
    "    if times.max() > n_timesteps or times.min() < 0:\n",
    "        raise ValueError(f\"provided times range from {times.min()} to {times.max()}, which is outside allowed range : 0 to {n_timesteps}\")\n",
    "\n",
    "    means = torch.empty((times.shape[0], n_features), dtype=obs.dtype, device=obs.device)\n",
    "    covs = torch.empty((times.shape[0], n_features, n_features), dtype=obs.dtype, device=obs.device) \n",
    "    for i, t in enumerate(times):\n",
    "        mean, cov = self._obs_from_state(\n",
    "            state.mean[t],\n",
    "            state.cov[t],\n",
    "            {'t': t, **check_args} if check_args is not None else None\n",
    "        )\n",
    "        \n",
    "        means[i] = mean\n",
    "        covs[i] = cov\n",
    "    \n",
    "    \n",
    "    return ListNormal(means, covs)  "
   ]
  },
  {
   "cell_type": "code",
   "execution_count": null,
   "id": "8f3154aa-0d7e-476f-a8ce-e22c955224d1",
   "metadata": {},
   "outputs": [
    {
     "data": {
      "text/plain": [
       "ListNormal(mean=tensor([[1],\n",
       "        [2]]), cov=tensor([[[1]],\n",
       "\n",
       "        [[1]]]))"
      ]
     },
     "execution_count": null,
     "metadata": {},
     "output_type": "execute_result"
    }
   ],
   "source": [
    "k.predict(X, [1,2])"
   ]
  },
  {
   "cell_type": "markdown",
   "id": "efa10e27-c68e-4ab0-88f0-853dbb322e45",
   "metadata": {},
   "source": [
    "pykalman doesn't support a predict method"
   ]
  },
  {
   "cell_type": "code",
   "execution_count": null,
   "id": "6e8f4d70-1b63-4635-bdc5-15752552d21e",
   "metadata": {},
   "outputs": [
    {
     "data": {
      "text/plain": [
       "ListNormal(mean=tensor([[-0.6047446132, -0.3410776258, -0.8897568583],\n",
       "        [-0.6956433058, -0.1774560809, -0.2678230107]], grad_fn=<CopySlices>), cov=tensor([[[1.3786063194, 1.2001909018, 0.7694454193],\n",
       "         [1.2001911402, 1.5085724592, 1.0023529530],\n",
       "         [0.7694455385, 1.0023529530, 0.6710571051]],\n",
       "\n",
       "        [[1.5426188707, 1.2861547470, 0.9304560423],\n",
       "         [1.2861535549, 1.5494836569, 1.0789959431],\n",
       "         [0.9304523468, 1.0789948702, 0.8079837561]]], grad_fn=<CopySlices>))"
      ]
     },
     "execution_count": null,
     "metadata": {},
     "output_type": "execute_result"
    }
   ],
   "source": [
    "tst.filter.predict(tst.data, times = torch.tensor([0,1]), mask = tst.mask_torch)"
   ]
  },
  {
   "cell_type": "code",
   "execution_count": null,
   "id": "8b6b080f-d015-40f6-b44f-4b17137e7f82",
   "metadata": {},
   "outputs": [],
   "source": [
    "mean, cov = tst64.filter.smooth(tst64.data, tst64.mask_torch)"
   ]
  },
  {
   "cell_type": "code",
   "execution_count": null,
   "id": "3eac7cf6-db16-4ca0-ac9a-9f25ebf1f67f",
   "metadata": {},
   "outputs": [
    {
     "data": {
      "text/plain": [
       "ListNormal(mean=tensor([0.3861103695, 0.7449462019, 0.1333758789], dtype=torch.float64,\n",
       "       grad_fn=<MvBackward0>), cov=tensor([[1.1592958931, 0.6811550132, 0.9250637696],\n",
       "        [0.6811550132, 1.0738654742, 0.5473706487],\n",
       "        [0.9250637696, 0.5473706487, 1.1431980715]], dtype=torch.float64,\n",
       "       grad_fn=<AddBackward0>))"
      ]
     },
     "execution_count": null,
     "metadata": {},
     "output_type": "execute_result"
    }
   ],
   "source": [
    "tst64.filter._obs_from_state(mean[0], cov[0])"
   ]
  },
  {
   "cell_type": "markdown",
   "id": "5a91fcc3-b509-45de-b840-55134dc4f2bc",
   "metadata": {},
   "source": [
    "### Log Likelihood"
   ]
  },
  {
   "cell_type": "code",
   "execution_count": null,
   "id": "d9ba27d3-cf1d-4ed3-9d4b-6fb7404e2ba2",
   "metadata": {},
   "outputs": [
    {
     "data": {
      "text/plain": [
       "\u001b[0;31mSignature:\u001b[0m \u001b[0mpykalman\u001b[0m\u001b[0;34m.\u001b[0m\u001b[0mstandard\u001b[0m\u001b[0;34m.\u001b[0m\u001b[0mKalmanFilter\u001b[0m\u001b[0;34m.\u001b[0m\u001b[0mloglikelihood\u001b[0m\u001b[0;34m(\u001b[0m\u001b[0mself\u001b[0m\u001b[0;34m,\u001b[0m \u001b[0mX\u001b[0m\u001b[0;34m)\u001b[0m\u001b[0;34m\u001b[0m\u001b[0;34m\u001b[0m\u001b[0m\n",
       "\u001b[0;31mSource:\u001b[0m   \n",
       "    \u001b[0;32mdef\u001b[0m \u001b[0mloglikelihood\u001b[0m\u001b[0;34m(\u001b[0m\u001b[0mself\u001b[0m\u001b[0;34m,\u001b[0m \u001b[0mX\u001b[0m\u001b[0;34m)\u001b[0m\u001b[0;34m:\u001b[0m\u001b[0;34m\u001b[0m\n",
       "\u001b[0;34m\u001b[0m        \u001b[0;34m\"\"\"Calculate the log likelihood of all observations\u001b[0m\n",
       "\u001b[0;34m\u001b[0m\n",
       "\u001b[0;34m        Parameters\u001b[0m\n",
       "\u001b[0;34m        ----------\u001b[0m\n",
       "\u001b[0;34m        X : [n_timesteps, n_dim_obs] array\u001b[0m\n",
       "\u001b[0;34m            observations for time steps [0...n_timesteps-1]\u001b[0m\n",
       "\u001b[0;34m\u001b[0m\n",
       "\u001b[0;34m        Returns\u001b[0m\n",
       "\u001b[0;34m        -------\u001b[0m\n",
       "\u001b[0;34m        likelihood : float\u001b[0m\n",
       "\u001b[0;34m            likelihood of all observations\u001b[0m\n",
       "\u001b[0;34m        \"\"\"\u001b[0m\u001b[0;34m\u001b[0m\n",
       "\u001b[0;34m\u001b[0m        \u001b[0mZ\u001b[0m \u001b[0;34m=\u001b[0m \u001b[0mnp\u001b[0m\u001b[0;34m.\u001b[0m\u001b[0marray\u001b[0m\u001b[0;34m(\u001b[0m\u001b[0mself\u001b[0m\u001b[0;34m.\u001b[0m\u001b[0m_parse_observations\u001b[0m\u001b[0;34m(\u001b[0m\u001b[0mX\u001b[0m\u001b[0;34m)\u001b[0m\u001b[0;34m)\u001b[0m\u001b[0;34m\u001b[0m\n",
       "\u001b[0;34m\u001b[0m\u001b[0;34m\u001b[0m\n",
       "\u001b[0;34m\u001b[0m        \u001b[0;31m# initialize parameters\u001b[0m\u001b[0;34m\u001b[0m\n",
       "\u001b[0;34m\u001b[0m        \u001b[0;34m(\u001b[0m\u001b[0mtransition_matrices\u001b[0m\u001b[0;34m,\u001b[0m \u001b[0mtransition_offsets\u001b[0m\u001b[0;34m,\u001b[0m\u001b[0;34m\u001b[0m\n",
       "\u001b[0;34m\u001b[0m         \u001b[0mtransition_covariance\u001b[0m\u001b[0;34m,\u001b[0m \u001b[0mobservation_matrices\u001b[0m\u001b[0;34m,\u001b[0m\u001b[0;34m\u001b[0m\n",
       "\u001b[0;34m\u001b[0m         \u001b[0mobservation_offsets\u001b[0m\u001b[0;34m,\u001b[0m \u001b[0mobservation_covariance\u001b[0m\u001b[0;34m,\u001b[0m\u001b[0;34m\u001b[0m\n",
       "\u001b[0;34m\u001b[0m         \u001b[0minitial_state_mean\u001b[0m\u001b[0;34m,\u001b[0m \u001b[0minitial_state_covariance\u001b[0m\u001b[0;34m)\u001b[0m \u001b[0;34m=\u001b[0m \u001b[0;34m(\u001b[0m\u001b[0;34m\u001b[0m\n",
       "\u001b[0;34m\u001b[0m            \u001b[0mself\u001b[0m\u001b[0;34m.\u001b[0m\u001b[0m_initialize_parameters\u001b[0m\u001b[0;34m(\u001b[0m\u001b[0;34m)\u001b[0m\u001b[0;34m\u001b[0m\n",
       "\u001b[0;34m\u001b[0m        \u001b[0;34m)\u001b[0m\u001b[0;34m\u001b[0m\n",
       "\u001b[0;34m\u001b[0m\u001b[0;34m\u001b[0m\n",
       "\u001b[0;34m\u001b[0m        \u001b[0;31m# apply the Kalman Filter\u001b[0m\u001b[0;34m\u001b[0m\n",
       "\u001b[0;34m\u001b[0m        \u001b[0;34m(\u001b[0m\u001b[0mpredicted_state_means\u001b[0m\u001b[0;34m,\u001b[0m \u001b[0mpredicted_state_covariances\u001b[0m\u001b[0;34m,\u001b[0m\u001b[0;34m\u001b[0m\n",
       "\u001b[0;34m\u001b[0m         \u001b[0mkalman_gains\u001b[0m\u001b[0;34m,\u001b[0m \u001b[0mfiltered_state_means\u001b[0m\u001b[0;34m,\u001b[0m\u001b[0;34m\u001b[0m\n",
       "\u001b[0;34m\u001b[0m         \u001b[0mfiltered_state_covariances\u001b[0m\u001b[0;34m)\u001b[0m \u001b[0;34m=\u001b[0m \u001b[0;34m(\u001b[0m\u001b[0;34m\u001b[0m\n",
       "\u001b[0;34m\u001b[0m            \u001b[0m_filter\u001b[0m\u001b[0;34m(\u001b[0m\u001b[0;34m\u001b[0m\n",
       "\u001b[0;34m\u001b[0m                \u001b[0mtransition_matrices\u001b[0m\u001b[0;34m,\u001b[0m \u001b[0mobservation_matrices\u001b[0m\u001b[0;34m,\u001b[0m\u001b[0;34m\u001b[0m\n",
       "\u001b[0;34m\u001b[0m                \u001b[0mtransition_covariance\u001b[0m\u001b[0;34m,\u001b[0m \u001b[0mobservation_covariance\u001b[0m\u001b[0;34m,\u001b[0m\u001b[0;34m\u001b[0m\n",
       "\u001b[0;34m\u001b[0m                \u001b[0mtransition_offsets\u001b[0m\u001b[0;34m,\u001b[0m \u001b[0mobservation_offsets\u001b[0m\u001b[0;34m,\u001b[0m\u001b[0;34m\u001b[0m\n",
       "\u001b[0;34m\u001b[0m                \u001b[0minitial_state_mean\u001b[0m\u001b[0;34m,\u001b[0m \u001b[0minitial_state_covariance\u001b[0m\u001b[0;34m,\u001b[0m\u001b[0;34m\u001b[0m\n",
       "\u001b[0;34m\u001b[0m                \u001b[0mZ\u001b[0m\u001b[0;34m\u001b[0m\n",
       "\u001b[0;34m\u001b[0m            \u001b[0;34m)\u001b[0m\u001b[0;34m\u001b[0m\n",
       "\u001b[0;34m\u001b[0m        \u001b[0;34m)\u001b[0m\u001b[0;34m\u001b[0m\n",
       "\u001b[0;34m\u001b[0m\u001b[0;34m\u001b[0m\n",
       "\u001b[0;34m\u001b[0m        \u001b[0;31m# get likelihoods for each time step\u001b[0m\u001b[0;34m\u001b[0m\n",
       "\u001b[0;34m\u001b[0m        \u001b[0mloglikelihoods\u001b[0m \u001b[0;34m=\u001b[0m \u001b[0m_loglikelihoods\u001b[0m\u001b[0;34m(\u001b[0m\u001b[0;34m\u001b[0m\n",
       "\u001b[0;34m\u001b[0m          \u001b[0mobservation_matrices\u001b[0m\u001b[0;34m,\u001b[0m \u001b[0mobservation_offsets\u001b[0m\u001b[0;34m,\u001b[0m \u001b[0mobservation_covariance\u001b[0m\u001b[0;34m,\u001b[0m\u001b[0;34m\u001b[0m\n",
       "\u001b[0;34m\u001b[0m          \u001b[0mpredicted_state_means\u001b[0m\u001b[0;34m,\u001b[0m \u001b[0mpredicted_state_covariances\u001b[0m\u001b[0;34m,\u001b[0m \u001b[0mZ\u001b[0m\u001b[0;34m\u001b[0m\n",
       "\u001b[0;34m\u001b[0m        \u001b[0;34m)\u001b[0m\u001b[0;34m\u001b[0m\n",
       "\u001b[0;34m\u001b[0m\u001b[0;34m\u001b[0m\n",
       "\u001b[0;34m\u001b[0m        \u001b[0;32mreturn\u001b[0m \u001b[0mnp\u001b[0m\u001b[0;34m.\u001b[0m\u001b[0msum\u001b[0m\u001b[0;34m(\u001b[0m\u001b[0mloglikelihoods\u001b[0m\u001b[0;34m)\u001b[0m\u001b[0;34m\u001b[0m\u001b[0;34m\u001b[0m\u001b[0m\n",
       "\u001b[0;31mFile:\u001b[0m      ~/anaconda3/envs/data-science/lib/python3.10/site-packages/pykalman/standard.py\n",
       "\u001b[0;31mType:\u001b[0m      function\n"
      ]
     },
     "metadata": {},
     "output_type": "display_data"
    }
   ],
   "source": [
    "pykalman.standard.KalmanFilter.loglikelihood??"
   ]
  },
  {
   "cell_type": "code",
   "execution_count": null,
   "id": "11bcf9a4-1dc9-4507-ab20-9bd6a5830da3",
   "metadata": {},
   "outputs": [
    {
     "data": {
      "text/plain": [
       "\u001b[0;31mSignature:\u001b[0m\n",
       "\u001b[0mpykalman\u001b[0m\u001b[0;34m.\u001b[0m\u001b[0mstandard\u001b[0m\u001b[0;34m.\u001b[0m\u001b[0m_loglikelihoods\u001b[0m\u001b[0;34m(\u001b[0m\u001b[0;34m\u001b[0m\n",
       "\u001b[0;34m\u001b[0m    \u001b[0mobservation_matrices\u001b[0m\u001b[0;34m,\u001b[0m\u001b[0;34m\u001b[0m\n",
       "\u001b[0;34m\u001b[0m    \u001b[0mobservation_offsets\u001b[0m\u001b[0;34m,\u001b[0m\u001b[0;34m\u001b[0m\n",
       "\u001b[0;34m\u001b[0m    \u001b[0mobservation_covariance\u001b[0m\u001b[0;34m,\u001b[0m\u001b[0;34m\u001b[0m\n",
       "\u001b[0;34m\u001b[0m    \u001b[0mpredicted_state_means\u001b[0m\u001b[0;34m,\u001b[0m\u001b[0;34m\u001b[0m\n",
       "\u001b[0;34m\u001b[0m    \u001b[0mpredicted_state_covariances\u001b[0m\u001b[0;34m,\u001b[0m\u001b[0;34m\u001b[0m\n",
       "\u001b[0;34m\u001b[0m    \u001b[0mobservations\u001b[0m\u001b[0;34m,\u001b[0m\u001b[0;34m\u001b[0m\n",
       "\u001b[0;34m\u001b[0m\u001b[0;34m)\u001b[0m\u001b[0;34m\u001b[0m\u001b[0;34m\u001b[0m\u001b[0m\n",
       "\u001b[0;31mSource:\u001b[0m   \n",
       "\u001b[0;32mdef\u001b[0m \u001b[0m_loglikelihoods\u001b[0m\u001b[0;34m(\u001b[0m\u001b[0mobservation_matrices\u001b[0m\u001b[0;34m,\u001b[0m \u001b[0mobservation_offsets\u001b[0m\u001b[0;34m,\u001b[0m\u001b[0;34m\u001b[0m\n",
       "\u001b[0;34m\u001b[0m                    \u001b[0mobservation_covariance\u001b[0m\u001b[0;34m,\u001b[0m \u001b[0mpredicted_state_means\u001b[0m\u001b[0;34m,\u001b[0m\u001b[0;34m\u001b[0m\n",
       "\u001b[0;34m\u001b[0m                    \u001b[0mpredicted_state_covariances\u001b[0m\u001b[0;34m,\u001b[0m \u001b[0mobservations\u001b[0m\u001b[0;34m)\u001b[0m\u001b[0;34m:\u001b[0m\u001b[0;34m\u001b[0m\n",
       "\u001b[0;34m\u001b[0m    \u001b[0;34m\"\"\"Calculate log likelihood of all observations\u001b[0m\n",
       "\u001b[0;34m\u001b[0m\n",
       "\u001b[0;34m    Parameters\u001b[0m\n",
       "\u001b[0;34m    ----------\u001b[0m\n",
       "\u001b[0;34m    observation_matrices : [n_timesteps, n_dim_obs, n_dim_obs] or [n_dim_obs,\u001b[0m\n",
       "\u001b[0;34m    n_dim_state] array\u001b[0m\n",
       "\u001b[0;34m        observation matrices for t in [0...n_timesteps-1]\u001b[0m\n",
       "\u001b[0;34m    observation_offsets : [n_timesteps, n_dim_obs] or [n_dim_obs] array\u001b[0m\n",
       "\u001b[0;34m        offsets for observations for t = [0...n_timesteps-1]\u001b[0m\n",
       "\u001b[0;34m    observation_covariance : [n_dim_obs, n_dim_obs] array\u001b[0m\n",
       "\u001b[0;34m        covariance matrix for all observations\u001b[0m\n",
       "\u001b[0;34m    predicted_state_means : [n_timesteps, n_dim_state] array\u001b[0m\n",
       "\u001b[0;34m        mean of state at time t given observations from times\u001b[0m\n",
       "\u001b[0;34m        [0...t-1] for t in [0...n_timesteps-1]\u001b[0m\n",
       "\u001b[0;34m    predicted_state_covariances : [n_timesteps, n_dim_state, n_dim_state] array\u001b[0m\n",
       "\u001b[0;34m        covariance of state at time t given observations from times\u001b[0m\n",
       "\u001b[0;34m        [0...t-1] for t in [0...n_timesteps-1]\u001b[0m\n",
       "\u001b[0;34m    observations : [n_dim_obs] array\u001b[0m\n",
       "\u001b[0;34m        All observations.  If `observations[t]` is a masked array and any of\u001b[0m\n",
       "\u001b[0;34m        its values are masked, the observation will be ignored.\u001b[0m\n",
       "\u001b[0;34m\u001b[0m\n",
       "\u001b[0;34m    Returns\u001b[0m\n",
       "\u001b[0;34m    -------\u001b[0m\n",
       "\u001b[0;34m    loglikelihoods: [n_timesteps] array\u001b[0m\n",
       "\u001b[0;34m        `loglikelihoods[t]` is the probability density of the observation\u001b[0m\n",
       "\u001b[0;34m        generated at time step t\u001b[0m\n",
       "\u001b[0;34m    \"\"\"\u001b[0m\u001b[0;34m\u001b[0m\n",
       "\u001b[0;34m\u001b[0m    \u001b[0mn_timesteps\u001b[0m \u001b[0;34m=\u001b[0m \u001b[0mobservations\u001b[0m\u001b[0;34m.\u001b[0m\u001b[0mshape\u001b[0m\u001b[0;34m[\u001b[0m\u001b[0;36m0\u001b[0m\u001b[0;34m]\u001b[0m\u001b[0;34m\u001b[0m\n",
       "\u001b[0;34m\u001b[0m    \u001b[0mloglikelihoods\u001b[0m \u001b[0;34m=\u001b[0m \u001b[0mnp\u001b[0m\u001b[0;34m.\u001b[0m\u001b[0mzeros\u001b[0m\u001b[0;34m(\u001b[0m\u001b[0mn_timesteps\u001b[0m\u001b[0;34m)\u001b[0m\u001b[0;34m\u001b[0m\n",
       "\u001b[0;34m\u001b[0m    \u001b[0;32mfor\u001b[0m \u001b[0mt\u001b[0m \u001b[0;32min\u001b[0m \u001b[0mrange\u001b[0m\u001b[0;34m(\u001b[0m\u001b[0mn_timesteps\u001b[0m\u001b[0;34m)\u001b[0m\u001b[0;34m:\u001b[0m\u001b[0;34m\u001b[0m\n",
       "\u001b[0;34m\u001b[0m        \u001b[0mobservation\u001b[0m \u001b[0;34m=\u001b[0m \u001b[0mobservations\u001b[0m\u001b[0;34m[\u001b[0m\u001b[0mt\u001b[0m\u001b[0;34m]\u001b[0m\u001b[0;34m\u001b[0m\n",
       "\u001b[0;34m\u001b[0m        \u001b[0;32mif\u001b[0m \u001b[0;32mnot\u001b[0m \u001b[0mnp\u001b[0m\u001b[0;34m.\u001b[0m\u001b[0many\u001b[0m\u001b[0;34m(\u001b[0m\u001b[0mnp\u001b[0m\u001b[0;34m.\u001b[0m\u001b[0mma\u001b[0m\u001b[0;34m.\u001b[0m\u001b[0mgetmask\u001b[0m\u001b[0;34m(\u001b[0m\u001b[0mobservation\u001b[0m\u001b[0;34m)\u001b[0m\u001b[0;34m)\u001b[0m\u001b[0;34m:\u001b[0m\u001b[0;34m\u001b[0m\n",
       "\u001b[0;34m\u001b[0m            \u001b[0mobservation_matrix\u001b[0m \u001b[0;34m=\u001b[0m \u001b[0m_last_dims\u001b[0m\u001b[0;34m(\u001b[0m\u001b[0mobservation_matrices\u001b[0m\u001b[0;34m,\u001b[0m \u001b[0mt\u001b[0m\u001b[0;34m)\u001b[0m\u001b[0;34m\u001b[0m\n",
       "\u001b[0;34m\u001b[0m            \u001b[0mobservation_offset\u001b[0m \u001b[0;34m=\u001b[0m \u001b[0m_last_dims\u001b[0m\u001b[0;34m(\u001b[0m\u001b[0mobservation_offsets\u001b[0m\u001b[0;34m,\u001b[0m \u001b[0mt\u001b[0m\u001b[0;34m,\u001b[0m \u001b[0mndims\u001b[0m\u001b[0;34m=\u001b[0m\u001b[0;36m1\u001b[0m\u001b[0;34m)\u001b[0m\u001b[0;34m\u001b[0m\n",
       "\u001b[0;34m\u001b[0m            \u001b[0mpredicted_state_mean\u001b[0m \u001b[0;34m=\u001b[0m \u001b[0m_last_dims\u001b[0m\u001b[0;34m(\u001b[0m\u001b[0;34m\u001b[0m\n",
       "\u001b[0;34m\u001b[0m                \u001b[0mpredicted_state_means\u001b[0m\u001b[0;34m,\u001b[0m \u001b[0mt\u001b[0m\u001b[0;34m,\u001b[0m \u001b[0mndims\u001b[0m\u001b[0;34m=\u001b[0m\u001b[0;36m1\u001b[0m\u001b[0;34m\u001b[0m\n",
       "\u001b[0;34m\u001b[0m            \u001b[0;34m)\u001b[0m\u001b[0;34m\u001b[0m\n",
       "\u001b[0;34m\u001b[0m            \u001b[0mpredicted_state_covariance\u001b[0m \u001b[0;34m=\u001b[0m \u001b[0m_last_dims\u001b[0m\u001b[0;34m(\u001b[0m\u001b[0;34m\u001b[0m\n",
       "\u001b[0;34m\u001b[0m                \u001b[0mpredicted_state_covariances\u001b[0m\u001b[0;34m,\u001b[0m \u001b[0mt\u001b[0m\u001b[0;34m\u001b[0m\n",
       "\u001b[0;34m\u001b[0m            \u001b[0;34m)\u001b[0m\u001b[0;34m\u001b[0m\n",
       "\u001b[0;34m\u001b[0m\u001b[0;34m\u001b[0m\n",
       "\u001b[0;34m\u001b[0m            \u001b[0mpredicted_observation_mean\u001b[0m \u001b[0;34m=\u001b[0m \u001b[0;34m(\u001b[0m\u001b[0;34m\u001b[0m\n",
       "\u001b[0;34m\u001b[0m                \u001b[0mnp\u001b[0m\u001b[0;34m.\u001b[0m\u001b[0mdot\u001b[0m\u001b[0;34m(\u001b[0m\u001b[0mobservation_matrix\u001b[0m\u001b[0;34m,\u001b[0m\u001b[0;34m\u001b[0m\n",
       "\u001b[0;34m\u001b[0m                       \u001b[0mpredicted_state_mean\u001b[0m\u001b[0;34m)\u001b[0m\u001b[0;34m\u001b[0m\n",
       "\u001b[0;34m\u001b[0m                \u001b[0;34m+\u001b[0m \u001b[0mobservation_offset\u001b[0m\u001b[0;34m\u001b[0m\n",
       "\u001b[0;34m\u001b[0m            \u001b[0;34m)\u001b[0m\u001b[0;34m\u001b[0m\n",
       "\u001b[0;34m\u001b[0m            \u001b[0mpredicted_observation_covariance\u001b[0m \u001b[0;34m=\u001b[0m \u001b[0;34m(\u001b[0m\u001b[0;34m\u001b[0m\n",
       "\u001b[0;34m\u001b[0m                \u001b[0mnp\u001b[0m\u001b[0;34m.\u001b[0m\u001b[0mdot\u001b[0m\u001b[0;34m(\u001b[0m\u001b[0mobservation_matrix\u001b[0m\u001b[0;34m,\u001b[0m\u001b[0;34m\u001b[0m\n",
       "\u001b[0;34m\u001b[0m                       \u001b[0mnp\u001b[0m\u001b[0;34m.\u001b[0m\u001b[0mdot\u001b[0m\u001b[0;34m(\u001b[0m\u001b[0mpredicted_state_covariance\u001b[0m\u001b[0;34m,\u001b[0m\u001b[0;34m\u001b[0m\n",
       "\u001b[0;34m\u001b[0m                              \u001b[0mobservation_matrix\u001b[0m\u001b[0;34m.\u001b[0m\u001b[0mT\u001b[0m\u001b[0;34m)\u001b[0m\u001b[0;34m)\u001b[0m\u001b[0;34m\u001b[0m\n",
       "\u001b[0;34m\u001b[0m                \u001b[0;34m+\u001b[0m \u001b[0mobservation_covariance\u001b[0m\u001b[0;34m\u001b[0m\n",
       "\u001b[0;34m\u001b[0m            \u001b[0;34m)\u001b[0m\u001b[0;34m\u001b[0m\n",
       "\u001b[0;34m\u001b[0m            \u001b[0mloglikelihoods\u001b[0m\u001b[0;34m[\u001b[0m\u001b[0mt\u001b[0m\u001b[0;34m]\u001b[0m \u001b[0;34m=\u001b[0m \u001b[0mlog_multivariate_normal_density\u001b[0m\u001b[0;34m(\u001b[0m\u001b[0;34m\u001b[0m\n",
       "\u001b[0;34m\u001b[0m                \u001b[0mobservation\u001b[0m\u001b[0;34m[\u001b[0m\u001b[0mnp\u001b[0m\u001b[0;34m.\u001b[0m\u001b[0mnewaxis\u001b[0m\u001b[0;34m,\u001b[0m \u001b[0;34m:\u001b[0m\u001b[0;34m]\u001b[0m\u001b[0;34m,\u001b[0m\u001b[0;34m\u001b[0m\n",
       "\u001b[0;34m\u001b[0m                \u001b[0mpredicted_observation_mean\u001b[0m\u001b[0;34m[\u001b[0m\u001b[0mnp\u001b[0m\u001b[0;34m.\u001b[0m\u001b[0mnewaxis\u001b[0m\u001b[0;34m,\u001b[0m \u001b[0;34m:\u001b[0m\u001b[0;34m]\u001b[0m\u001b[0;34m,\u001b[0m\u001b[0;34m\u001b[0m\n",
       "\u001b[0;34m\u001b[0m                \u001b[0mpredicted_observation_covariance\u001b[0m\u001b[0;34m[\u001b[0m\u001b[0mnp\u001b[0m\u001b[0;34m.\u001b[0m\u001b[0mnewaxis\u001b[0m\u001b[0;34m,\u001b[0m \u001b[0;34m:\u001b[0m\u001b[0;34m,\u001b[0m \u001b[0;34m:\u001b[0m\u001b[0;34m]\u001b[0m\u001b[0;34m\u001b[0m\n",
       "\u001b[0;34m\u001b[0m            \u001b[0;34m)\u001b[0m\u001b[0;34m\u001b[0m\n",
       "\u001b[0;34m\u001b[0m    \u001b[0;32mreturn\u001b[0m \u001b[0mloglikelihoods\u001b[0m\u001b[0;34m\u001b[0m\u001b[0;34m\u001b[0m\u001b[0m\n",
       "\u001b[0;31mFile:\u001b[0m      ~/anaconda3/envs/data-science/lib/python3.10/site-packages/pykalman/standard.py\n",
       "\u001b[0;31mType:\u001b[0m      function\n"
      ]
     },
     "metadata": {},
     "output_type": "display_data"
    }
   ],
   "source": [
    "pykalman.standard._loglikelihoods??"
   ]
  },
  {
   "cell_type": "code",
   "execution_count": null,
   "id": "02edd40c-eedc-4247-86ea-42eccbffdd70",
   "metadata": {},
   "outputs": [],
   "source": []
  },
  {
   "cell_type": "code",
   "execution_count": null,
   "id": "07f06335-9992-4a8c-bb90-fbc38d293c94",
   "metadata": {},
   "outputs": [],
   "source": [
    "#| export\n",
    "@patch\n",
    "def filter_loglikelihood(self: KalmanFilter, obs, mask=None):\n",
    "    \"Compute log likelihood using only filter step\"\n",
    "    # Those are the means and covs before the updating step,\n",
    "    # otherwise the model would have already seen the observation that we are predicting \n",
    "    pred_state_mean, pred_state_cov, _, _ = self._filter_all(obs, mask)\n",
    "    obs, obs_mask = self._parse_obs(obs, mask)\n",
    "\n",
    "    max_t = obs.shape[0]\n",
    "    lls = torch.zeros(max_t)\n",
    "    for t in range(max_t):\n",
    "        if obs_mask[t]:\n",
    "            pred_obs_mean, pred_obs_cov = self._obs_from_state(pred_state_mean[t], pred_state_cov[t])\n",
    "            ll = MultivariateNormal(pred_obs_mean, pred_obs_cov, validate_args=False).log_prob(obs[t])\n",
    "            lls[t] = ll\n",
    "\n",
    "    return lls.sum()"
   ]
  },
  {
   "cell_type": "code",
   "execution_count": null,
   "id": "2a32ff25-51d4-496a-9b89-fecb437ea84d",
   "metadata": {},
   "outputs": [
    {
     "data": {
      "text/plain": [
       "tensor(-5.2315979004, grad_fn=<SumBackward0>)"
      ]
     },
     "execution_count": null,
     "metadata": {},
     "output_type": "execute_result"
    }
   ],
   "source": [
    "k.filter_loglikelihood(X)"
   ]
  },
  {
   "cell_type": "code",
   "execution_count": null,
   "id": "396b82cc-ffb7-4eae-96f6-056a24cc7628",
   "metadata": {},
   "outputs": [],
   "source": [
    "test_close(k.filter_loglikelihood(X), pyk.loglikelihood(nX))"
   ]
  },
  {
   "cell_type": "code",
   "execution_count": null,
   "id": "673130ae-e9eb-46a8-9c56-7eceb63df30f",
   "metadata": {},
   "outputs": [],
   "source": [
    "pred_state, pred_state_cov, _, _ = tuple(map(_stack_detach, tst.filter._filter_all(tst.data, tst.mask_torch)))"
   ]
  },
  {
   "cell_type": "code",
   "execution_count": null,
   "id": "1d35b6d5-8127-4832-a640-ab13f3270f7f",
   "metadata": {},
   "outputs": [],
   "source": [
    "tst = KalmanFilterTester(nan_mask = False, p_missing=0)"
   ]
  },
  {
   "cell_type": "code",
   "execution_count": null,
   "id": "602fcbc1-4967-4328-b923-c0d0aee8cc29",
   "metadata": {},
   "outputs": [],
   "source": [
    "pykalman.standard._loglikelihoods(\n",
    "    tst.params_pyk['observation_matrices'],\n",
    "    tst.params_pyk['observation_offsets'],\n",
    "    tst.params_pyk['observation_covariance'],\n",
    "    pred_state.numpy(),\n",
    "    pred_state_cov.numpy(),\n",
    "    np.array(tst.data_pyk)\n",
    ")"
   ]
  },
  {
   "cell_type": "code",
   "execution_count": null,
   "id": "b1cef1bd-ae55-4871-a397-5437c35e0893",
   "metadata": {},
   "outputs": [],
   "source": [
    "test_close(\n",
    "    tst.filter.filter_loglikelihood(tst.data, tst.mask_torch),\n",
    "    tst.filter_pyk.loglikelihood(tst.data_pyk)) # need to increase the resolution"
   ]
  },
  {
   "cell_type": "code",
   "execution_count": null,
   "id": "58a25819-08e7-4f50-a6c6-c4d395f79085",
   "metadata": {},
   "outputs": [],
   "source": [
    "k2.filter_loglikelihood(X2)"
   ]
  },
  {
   "cell_type": "code",
   "execution_count": null,
   "id": "9d2b80ee-ba54-46ad-b252-d2cbf4c94390",
   "metadata": {},
   "outputs": [],
   "source": [
    "test_close(k2.filter_loglikelihood(X2), pyk2.loglikelihood(nX2), eps=1e-4)"
   ]
  },
  {
   "cell_type": "markdown",
   "id": "b1f3036f-787d-4ef3-be4d-d92058696add",
   "metadata": {},
   "source": [
    "since the goal is to fill gaps we want the log likelihood for the whole gap and only for it"
   ]
  },
  {
   "cell_type": "code",
   "execution_count": null,
   "id": "d8b9303c-ef6e-4b78-82a7-30c4a2a3cabe",
   "metadata": {},
   "outputs": [],
   "source": [
    "#| export\n",
    "@patch\n",
    "def loglikelihood(self: KalmanFilter,\n",
    "                  obs_train: Tensor, # [n_timesteps, n_dim_obs] Observations use for the filter (can containt missing data)\n",
    "                  times: Tensor, # [n_pred_timesteps] time at which to calculate the log likelihood\n",
    "                  obs_test: Tensor # [n_pred_timesteps, n_dim_obs] observed data to compute log likelihood\n",
    "                 ) -> Tensor: # scalar that is sum of log likelihoods for all `times`\n",
    "    \"Log likelihood only for the `obs_test` at giben times\"\n",
    "    means, covs = self.predict(obs_train, times)\n",
    "    lls = torch.zeros(len(times))\n",
    "    for t in range(len(times)):\n",
    "        lls[t] = MultivariateNormal(means[t], covs[t], validate_args=False).log_prob(obs_test[t:t+1])\n",
    "    return lls.sum() \n",
    "        "
   ]
  },
  {
   "cell_type": "code",
   "execution_count": null,
   "id": "79d48123-6172-4e14-8cc4-5e669c6831f8",
   "metadata": {},
   "outputs": [],
   "source": [
    "k.loglikelihood(X, [1,2], X[[1,2]])"
   ]
  },
  {
   "cell_type": "code",
   "execution_count": null,
   "id": "9883119c-ce1f-446e-a4f0-42b3ffcdfb5c",
   "metadata": {},
   "outputs": [],
   "source": [
    "k2.loglikelihood(X2, [1,2], X2[[1,2]])"
   ]
  },
  {
   "cell_type": "code",
   "execution_count": null,
   "id": "b835c9a6-6e3a-4753-876e-630500d10794",
   "metadata": {},
   "outputs": [],
   "source": [
    "k2.loglikelihood(X2m, [1,2], X2[[1,2]])"
   ]
  },
  {
   "cell_type": "markdown",
   "id": "f8708fc6-9dfc-4ac8-a28a-68be7f873a32",
   "metadata": {},
   "source": [
    "### Get Info"
   ]
  },
  {
   "cell_type": "code",
   "execution_count": null,
   "id": "0f3e61b7-e11e-434a-af78-4396263c9ea1",
   "metadata": {},
   "outputs": [],
   "source": [
    "#| export\n",
    "@patch\n",
    "def get_info(self: KalmanFilter, var_names=None):\n",
    "    out = {}\n",
    "    if var_names is not None: self.var_names = var_names \n",
    "    latent_names = [f\"z_{i}\" for i in range(self.transition_matrices.shape[0])]\n",
    "    out['A'] = array2df(self.transition_matrices, latent_names, latent_names, 'latent')\n",
    "    out['H'] = array2df(self.obs_matrices,        var_names,    latent_names, 'variable')\n",
    "    out['R'] = array2df(self.obs_cov,             var_names,    var_names,     'variable')\n",
    "    out['Q'] = array2df(self.transition_cov,      latent_names, latent_names, 'latent')\n",
    "    return out"
   ]
  },
  {
   "cell_type": "code",
   "execution_count": null,
   "id": "44427c87-ef2c-4624-ab56-408316a71a5e",
   "metadata": {},
   "outputs": [],
   "source": [
    "display_as_row(k.get_info())"
   ]
  },
  {
   "cell_type": "code",
   "execution_count": null,
   "id": "27d8ec68-38ff-47ce-9ead-927a2e1179e0",
   "metadata": {},
   "outputs": [],
   "source": [
    "display_as_row(k2.get_info())"
   ]
  },
  {
   "cell_type": "markdown",
   "id": "86e751b6-5a43-4db6-8117-b14f542e8d31",
   "metadata": {},
   "source": [
    "## Train Parameters"
   ]
  },
  {
   "cell_type": "markdown",
   "id": "4d6504ca-96b5-4c33-89b4-07e2709f0b2d",
   "metadata": {},
   "source": [
    "This implementation of `KalmanFilter` allows to find the optimal parameters by maximising the log-likelihood using gradient descend"
   ]
  },
  {
   "cell_type": "code",
   "execution_count": null,
   "id": "880f4455-b74f-433e-82a0-7faf2feb90c7",
   "metadata": {},
   "outputs": [],
   "source": [
    "training_iter = 200\n",
    "k = KalmanFilter()\n",
    "k.train()\n",
    "\n",
    "optimizer = torch.optim.Adam(k.parameters(), lr=0.005) \n",
    "\n",
    "losses = []\n",
    "for i in range(training_iter):\n",
    "    # Zero gradients from previous iteration\n",
    "    optimizer.zero_grad()\n",
    "    # Output from model\n",
    "    loss = - k.loglikelihood(X, range(len(X)), X)\n",
    "    losses.append(loss.item())\n",
    "    # backpropagate gradients\n",
    "    loss.backward()\n",
    "    optimizer.step()"
   ]
  },
  {
   "cell_type": "code",
   "execution_count": null,
   "id": "3000d77e-5bc2-411f-aaee-45561541e459",
   "metadata": {},
   "outputs": [],
   "source": [
    "import matplotlib.pyplot as plt"
   ]
  },
  {
   "cell_type": "code",
   "execution_count": null,
   "id": "a58bed23-d408-4fdf-a8dd-684782c9f30b",
   "metadata": {},
   "outputs": [],
   "source": [
    "plt.plot(losses)"
   ]
  },
  {
   "cell_type": "code",
   "execution_count": null,
   "id": "5f14ff35-cdd1-4b65-bdc8-4b863a3829ac",
   "metadata": {},
   "outputs": [],
   "source": [
    "list(k.parameters())"
   ]
  },
  {
   "cell_type": "markdown",
   "id": "f9c4a0b2-8726-4365-8938-5fcd07870433",
   "metadata": {},
   "source": [
    "## Other"
   ]
  },
  {
   "cell_type": "markdown",
   "id": "2b66596a-16d3-40c2-8f26-82e4774972b4",
   "metadata": {},
   "source": [
    "### Testing"
   ]
  },
  {
   "cell_type": "markdown",
   "id": "0e752a79-40f6-4b60-afa0-55d957b785f0",
   "metadata": {},
   "source": [
    "### Fuzzing smoother"
   ]
  },
  {
   "cell_type": "markdown",
   "id": "3f9c8549-812b-4fc3-b3b7-3d8014142149",
   "metadata": {},
   "source": [
    "trying to run the filter many times to see if some of the matrix are not symmetric"
   ]
  },
  {
   "cell_type": "code",
   "execution_count": null,
   "id": "58dde19d-1beb-406c-ac91-403c4cff2eb1",
   "metadata": {},
   "outputs": [],
   "source": [
    "from torch._C import _LinAlgError"
   ]
  },
  {
   "cell_type": "code",
   "execution_count": null,
   "id": "88812806-c834-48ea-965d-66bc92ab6fc8",
   "metadata": {},
   "outputs": [],
   "source": [
    "def fuzz_symmetric(n_iter=10, n_obs=100, **kwargs):\n",
    "    tst = KalmanFilterTester(n_obs=n_obs, **kwargs)\n",
    "    _, sm_covs = tst.filter.smooth(tst.data, tst.mask_torch)\n",
    "    i_posdef = []\n",
    "    for t, cov in enumerate(sm_covs):\n",
    "        i_posdef.append(check_posdef(cov))\n",
    "    return pd.concat(i_posdef)\n",
    "    "
   ]
  },
  {
   "cell_type": "code",
   "execution_count": null,
   "id": "07ef7409-fa59-4876-b29f-eb3a1291ac82",
   "metadata": {},
   "outputs": [],
   "source": [
    "def fuzz_smooth(n_obs=100, **kwargs):\n",
    "    tst = KalmanFilterTester(n_obs=n_obs, **kwargs)\n",
    "    _, sm_covs = tst.filter.smooth(tst.data, tst.mask_torch, check_args= {})\n",
    "    "
   ]
  },
  {
   "cell_type": "code",
   "execution_count": null,
   "id": "4577166a-27bf-4416-8d63-ded29fa24138",
   "metadata": {},
   "outputs": [],
   "source": [
    "def find_max_obs(start=100_000, end=100, steps=10, **kwargs):\n",
    "    for n in torch.logspace(torch.log10(start), torch.log10(end), 10):\n",
    "        try:\n",
    "            %time fuzz_smooth(n_obs=int(n), **kwargs)\n",
    "            print(n, \"working\")\n",
    "            break\n",
    "        except _LinAlgError:\n",
    "            print(n, \"not working\")\n",
    "    "
   ]
  },
  {
   "cell_type": "code",
   "execution_count": null,
   "id": "8e795492-084c-46b8-8700-3cafeea1b1f7",
   "metadata": {},
   "outputs": [],
   "source": [
    "import warnings"
   ]
  },
  {
   "cell_type": "code",
   "execution_count": null,
   "id": "f372a762-1ea0-49c1-a61a-599bc033bab8",
   "metadata": {},
   "outputs": [],
   "source": [
    "posdef_log = pd.DataFrame()"
   ]
  },
  {
   "cell_type": "code",
   "execution_count": null,
   "id": "f1c2c8c6-5858-4c61-bc46-4931cc461f65",
   "metadata": {},
   "outputs": [],
   "source": [
    "total_warn = []\n",
    "for n in range(2, 200):\n",
    "    with warnings.catch_warnings(record=True) as w:\n",
    "        try:\n",
    "            fuzz_smooth(n_obs=n)\n",
    "        except _LinAlgError:\n",
    "            print(n)\n",
    "            break\n",
    "        finally:\n",
    "            total_warn.append((n, len(w)))\n",
    "    "
   ]
  },
  {
   "cell_type": "code",
   "execution_count": null,
   "id": "38cca555-3f53-4b29-9d36-fdd3dafe36ee",
   "metadata": {},
   "outputs": [],
   "source": [
    "posdef_log"
   ]
  },
  {
   "cell_type": "code",
   "execution_count": null,
   "id": "bf73303a-16ec-45ff-ac45-94ae4ea242c4",
   "metadata": {},
   "outputs": [],
   "source": [
    "import altair as alt"
   ]
  },
  {
   "cell_type": "code",
   "execution_count": null,
   "id": "1fd02a6e-8ecc-48b3-afde-e841cbd20b86",
   "metadata": {},
   "outputs": [],
   "source": [
    "alt.Chart(pd.DataFrame(total_warn, columns=[\"n_obs\", \"n_not_posdef\"])).mark_line().encode(alt.X(\"n_obs\"), alt.Y(\"n_not_posdef\"))"
   ]
  },
  {
   "cell_type": "code",
   "execution_count": null,
   "id": "94471f51-e46c-4a10-9a8f-67baa1ba1c2a",
   "metadata": {},
   "outputs": [],
   "source": [
    "alt.data_transformers.enable('data_server')"
   ]
  },
  {
   "cell_type": "code",
   "execution_count": null,
   "id": "d69f9068-6a0a-40cf-80a2-8de51b03583f",
   "metadata": {},
   "outputs": [],
   "source": [
    "alt.Chart(posdef_log).mark_line().encode(alt.X(\"t\"), alt.Y(\"average(sym_upto)\"))"
   ]
  },
  {
   "cell_type": "code",
   "execution_count": null,
   "id": "0aa02cf7-346c-4988-9d57-f3139981a134",
   "metadata": {},
   "outputs": [],
   "source": [
    "alt.Chart(posdef_log).mark_point().encode(alt.X(\"t\"), alt.Y(\"count(is_sym)\"))"
   ]
  },
  {
   "cell_type": "code",
   "execution_count": null,
   "id": "0a74274d-cbbe-4ad6-b81c-2ab060bd6bcf",
   "metadata": {},
   "outputs": [],
   "source": [
    "posdef_log[[\"t\", \"name\"]]"
   ]
  },
  {
   "cell_type": "code",
   "execution_count": null,
   "id": "c9c9c179-f28b-4e91-9182-0467747a3670",
   "metadata": {},
   "outputs": [],
   "source": [
    "plt.scatter(posdef_log.reset_index().index, posdef_log.sym_upto)"
   ]
  },
  {
   "cell_type": "code",
   "execution_count": null,
   "id": "b899bf5b-4357-44fd-a8f5-62877897151e",
   "metadata": {},
   "outputs": [],
   "source": [
    "for i in range(3):\n",
    "    %time 1+1"
   ]
  },
  {
   "cell_type": "code",
   "execution_count": null,
   "id": "0eb96358-bf2a-4ae8-93a4-256f49859d2c",
   "metadata": {},
   "outputs": [],
   "source": [
    "# find_max_obs(dtype=torch.float64)"
   ]
  },
  {
   "cell_type": "markdown",
   "id": "e0b7e281-1307-4043-8c50-2e7e15121b42",
   "metadata": {},
   "source": [
    "The function takes 5 min to run so this is the output saved\n",
    "\n",
    "with `float64` there is no problem with positive definite matrices even with 100k observations\n",
    "```CPU times: user 30min 43s, sys: 28.6 s, total: 31min 11s\n",
    "Wall time: 5min 26s\n",
    "tensor(100000.) working```"
   ]
  },
  {
   "cell_type": "code",
   "execution_count": null,
   "id": "c264f29d-197d-4acc-80d8-7c102707db91",
   "metadata": {},
   "outputs": [],
   "source": [
    "tst = KalmanFilterTester(n_obs=100)"
   ]
  },
  {
   "cell_type": "code",
   "execution_count": null,
   "id": "e11e636e-609a-4a0a-bfdf-3a2660192c51",
   "metadata": {},
   "outputs": [],
   "source": [
    "is_posdef(tst.params['obs_cov'])"
   ]
  },
  {
   "cell_type": "code",
   "execution_count": null,
   "id": "d4a9f94c-7c34-4cfc-a76b-ecc47f4668fa",
   "metadata": {},
   "outputs": [],
   "source": [
    "is_posdef(tst.params['transition_cov'])"
   ]
  },
  {
   "cell_type": "code",
   "execution_count": null,
   "id": "87e39250-0638-4205-bb24-a9d3cbeeeee6",
   "metadata": {},
   "outputs": [],
   "source": [
    "is_posdef(tst.params['initial_state_cov'])"
   ]
  },
  {
   "cell_type": "code",
   "execution_count": null,
   "id": "3568119a-9895-49a9-8549-4fc72ca0585c",
   "metadata": {},
   "outputs": [],
   "source": [
    "tst.filter.smooth(tst.data, tst.mask_torch);"
   ]
  },
  {
   "cell_type": "markdown",
   "id": "669ab60a-dc18-4d29-b217-6fb2bb3434f5",
   "metadata": {},
   "source": [
    "#### Random Testing"
   ]
  },
  {
   "cell_type": "markdown",
   "id": "bff9ee73-f667-434a-8908-0890e662adb2",
   "metadata": {},
   "source": [
    "The goal is to generate random set of data and parameters and check that `meteo_imp` implementation is the same of `pykalman` implementation"
   ]
  },
  {
   "cell_type": "code",
   "execution_count": null,
   "id": "f437c4f3-4890-455c-8ea5-03cc9ae64c17",
   "metadata": {},
   "outputs": [],
   "source": [
    "n_dim_state = 3 \n",
    "n_dim_obs = 3\n",
    "n_obs = 10\n",
    "p_missing = .3"
   ]
  },
  {
   "cell_type": "code",
   "execution_count": null,
   "id": "a31dbbd9-526f-45de-8260-9a3e6d75e02d",
   "metadata": {},
   "outputs": [],
   "source": [
    "to_posdef = PosDef().transform"
   ]
  },
  {
   "cell_type": "code",
   "execution_count": null,
   "id": "338b22a6-2550-4a9c-b4bd-2303e5db3322",
   "metadata": {},
   "outputs": [],
   "source": [
    "data = torch.rand(n_obs, n_dim_obs)\n",
    "mask = torch.rand(n_obs, n_dim_obs) > p_missing\n",
    "mask_torch = mask.all(1)"
   ]
  },
  {
   "cell_type": "code",
   "execution_count": null,
   "id": "d857b678-4c0c-4a61-986a-81cb2b57766a",
   "metadata": {},
   "outputs": [],
   "source": [
    "mask[:10]"
   ]
  },
  {
   "cell_type": "code",
   "execution_count": null,
   "id": "64d7f3f4-2d5e-4a66-83d8-b09a68ca16ea",
   "metadata": {},
   "outputs": [],
   "source": [
    "mask_torch[:10]"
   ]
  },
  {
   "cell_type": "code",
   "execution_count": null,
   "id": "e7ac8819-4d54-415d-a794-19edafd4af7f",
   "metadata": {},
   "outputs": [],
   "source": [
    "params = {\n",
    "    'transition_matrices': torch.rand(n_dim_state, n_dim_state),\n",
    "    'transition_offsets':  torch.rand(n_dim_state),        \n",
    "    'transition_cov':      to_posdef(torch.rand(n_dim_state, n_dim_state)),        \n",
    "    'obs_matrices':        torch.rand(n_dim_obs, n_dim_state),\n",
    "    'obs_offsets':         torch.rand(n_dim_obs),          \n",
    "    'obs_cov':             to_posdef(torch.rand(n_dim_obs, n_dim_obs)),            \n",
    "    'initial_state_mean':  torch.rand(n_dim_state),        \n",
    "    'initial_state_cov':   to_posdef(torch.rand(n_dim_state, n_dim_state)),\n",
    "}"
   ]
  },
  {
   "cell_type": "code",
   "execution_count": null,
   "id": "0f040e1b-b66c-4171-aa86-db539cc5c09e",
   "metadata": {},
   "outputs": [],
   "source": [
    "params2pyk = {\n",
    "    'transition_matrices': 'transition_matrices',\n",
    "    'transition_offsets':  'transition_offsets',        \n",
    "    'transition_cov':      'transition_covariance',        \n",
    "    'obs_matrices':        'observation_matrices',\n",
    "    'obs_offsets':         'observation_offsets',          \n",
    "    'obs_cov':             'observation_covariance',            \n",
    "    'initial_state_mean':  'initial_state_mean',        \n",
    "    'initial_state_cov':   'initial_state_covariance',\n",
    "}"
   ]
  },
  {
   "cell_type": "code",
   "execution_count": null,
   "id": "fdebb6cc-0e30-41d6-87bc-faf02f1a7d38",
   "metadata": {},
   "outputs": [],
   "source": [
    "params"
   ]
  },
  {
   "cell_type": "code",
   "execution_count": null,
   "id": "52994fa1-c5c6-4a44-9e7d-be8f87369800",
   "metadata": {},
   "outputs": [],
   "source": [
    "k = KalmanFilter(**params)"
   ]
  },
  {
   "cell_type": "code",
   "execution_count": null,
   "id": "7584e411-8872-46ab-9604-62355ca863bd",
   "metadata": {},
   "outputs": [],
   "source": [
    "pred = k.smooth(data, mask_torch)"
   ]
  },
  {
   "cell_type": "markdown",
   "id": "160f49e8-1235-4271-9e49-aaec65842174",
   "metadata": {},
   "source": [
    "make a `pykalman` model using the same parameters"
   ]
  },
  {
   "cell_type": "code",
   "execution_count": null,
   "id": "8d147cbc-22fb-4094-bc36-e6fa8b13e0f1",
   "metadata": {},
   "outputs": [],
   "source": [
    "data_pyk = np.ma.masked_array(data.numpy(), mask = mask.numpy())"
   ]
  },
  {
   "cell_type": "code",
   "execution_count": null,
   "id": "fe57e59b-ace3-4b1f-b60f-61e56717e0ca",
   "metadata": {},
   "outputs": [],
   "source": [
    "pyk_k = pykalman.standard.KalmanFilter(\n",
    "\n",
    "    transition_matrices=k.transition_matrices.detach().numpy(),\n",
    "    transition_offsets=k.transition_offsets.detach().numpy(),\n",
    "    transition_covariance=k.transition_cov.detach().numpy(),\n",
    "    observation_matrices=k.obs_matrices.detach().numpy(),\n",
    "    observation_offsets=k.obs_offsets.detach().numpy(),\n",
    "    observation_covariance=k.obs_cov.detach().numpy(),\n",
    "    initial_state_mean=k.initial_state_mean.detach().numpy(),\n",
    "    initial_state_covariance=k.initial_state_cov.detach().numpy()\n",
    ")"
   ]
  },
  {
   "cell_type": "code",
   "execution_count": null,
   "id": "1f22416f-5c64-4a2a-a239-e74233a7a807",
   "metadata": {},
   "outputs": [],
   "source": [
    "pred_pyk = pyk_k.smooth(data_pyk)"
   ]
  },
  {
   "cell_type": "code",
   "execution_count": null,
   "id": "770582f6-ff2c-4b9d-9082-d7febda2b15a",
   "metadata": {},
   "outputs": [],
   "source": [
    "for p in params.keys():\n",
    "    print(p, getattr(k, p))"
   ]
  },
  {
   "cell_type": "code",
   "execution_count": null,
   "id": "3b53f0b6-7e86-4059-be51-11b5025896aa",
   "metadata": {},
   "outputs": [],
   "source": [
    "for p in params.keys():\n",
    "    print(p, getattr(pyk_k, params2pyk[p]))"
   ]
  },
  {
   "cell_type": "markdown",
   "id": "bbc06f87-be0a-4f4e-9027-ecea248dccad",
   "metadata": {},
   "source": [
    "### Compare Statsmodels"
   ]
  },
  {
   "cell_type": "code",
   "execution_count": null,
   "id": "1f4fdf23-2d75-4022-90e8-838ce44fb26c",
   "metadata": {},
   "outputs": [],
   "source": [
    "import statsmodels.api as sm\n",
    "import statsmodels"
   ]
  },
  {
   "cell_type": "code",
   "execution_count": null,
   "id": "9f3dd92e-27d0-4791-b790-bac0912014fc",
   "metadata": {},
   "outputs": [],
   "source": [
    "# sm_kf = statsmodels.tsa.statespace.kalman_filter.KalmanFilter(\n",
    "#     k_endog = 3,\n",
    "#     k_states = 3,\n",
    "#     initialization = 'known',\n",
    "#     initial_state = pyk_ncov.initial_state_mean,\n",
    "#     initial_state_cov = pyk_ncov.initial_state_covariance,\n",
    "#     design = pyk_ncov.observation_matrices,\n",
    "#     obs_cov = pyk_ncov.observation_covariance,\n",
    "#     transition = pyk_ncov.transition_matrices,\n",
    "#     state_cov = pyk_ncov.transition_covariance)"
   ]
  },
  {
   "cell_type": "code",
   "execution_count": null,
   "id": "f7db6e78-69cc-44b9-986e-174327d17269",
   "metadata": {},
   "outputs": [],
   "source": [
    "# sm_kf.bind(X_ncov.detach().numpy())"
   ]
  },
  {
   "cell_type": "code",
   "execution_count": null,
   "id": "c08ee714-ee6a-4318-bd06-d09274bdd8ca",
   "metadata": {},
   "outputs": [],
   "source": [
    "# sm_pred = sm_kf.filter() "
   ]
  },
  {
   "cell_type": "code",
   "execution_count": null,
   "id": "6da891b2-4e13-497b-9a30-8d690d1a6a37",
   "metadata": {},
   "outputs": [],
   "source": [
    "# sm_pred.predicted_state.shape"
   ]
  },
  {
   "cell_type": "code",
   "execution_count": null,
   "id": "0d469b65-b397-4d67-8779-0900ce87e33e",
   "metadata": {},
   "outputs": [],
   "source": [
    "# sm_pred.predicted_state_cov.shape"
   ]
  },
  {
   "cell_type": "code",
   "execution_count": null,
   "id": "1f56ded2-e5bb-454a-9aae-82a710e48131",
   "metadata": {},
   "outputs": [],
   "source": [
    "# mean = MultivariateNormal(torch.tensor(sm_pred.predicted_state[:, 0]), torch.tensor(sm_pred.predicted_state_cov[:, :, 0]))"
   ]
  },
  {
   "cell_type": "code",
   "execution_count": null,
   "id": "de6c187d-fc28-43df-9623-efe15d549282",
   "metadata": {},
   "outputs": [],
   "source": [
    "# sm_kf.loglikeobs()"
   ]
  },
  {
   "cell_type": "markdown",
   "id": "0fdd2ea0-ff4e-4d2f-add0-81120b131cf3",
   "metadata": {},
   "source": [
    "## Export"
   ]
  },
  {
   "cell_type": "code",
   "execution_count": null,
   "id": "12c41b65-9eb8-4d70-b4fc-05113783e636",
   "metadata": {},
   "outputs": [],
   "source": [
    "#| hide\n",
    "from nbdev import nbdev_export\n",
    "# nbdev_export()"
   ]
  }
 ],
 "metadata": {
  "kernelspec": {
   "display_name": "data_science",
   "language": "python",
   "name": "data_science"
  },
  "widgets": {
   "application/vnd.jupyter.widget-state+json": {
    "state": {},
    "version_major": 2,
    "version_minor": 0
   }
  }
 },
 "nbformat": 4,
 "nbformat_minor": 5
}
