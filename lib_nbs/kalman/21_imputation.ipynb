{
 "cells": [
  {
   "cell_type": "markdown",
   "id": "42746a7d-4479-4f29-9086-33d4f1be7f53",
   "metadata": {},
   "source": [
    "# Imputation Kalman Model\n",
    "> Imputation using Kalman Models"
   ]
  },
  {
   "cell_type": "code",
   "execution_count": null,
   "id": "552019c2-1718-455d-8e84-7fef045c69a6",
   "metadata": {},
   "outputs": [],
   "source": [
    "%load_ext autoreload\n",
    "%autoreload 2"
   ]
  },
  {
   "cell_type": "code",
   "execution_count": null,
   "id": "257cc32a-fe73-40c8-ae09-754c644eb804",
   "metadata": {},
   "outputs": [],
   "source": [
    "#| hide\n",
    "#| default_exp kalman.imputation"
   ]
  },
  {
   "cell_type": "code",
   "execution_count": null,
   "id": "9449a804-1e12-4f2a-b3bb-83f7616b8e5a",
   "metadata": {},
   "outputs": [],
   "source": [
    "#| export\n",
    "import pandas as pd\n",
    "import numpy as np\n",
    "from meteo_imp.kalman.model import KalmanModel\n",
    "from meteo_imp.results import ImputationResult\n",
    "from meteo_imp.utils import *\n",
    "from fastcore.basics import store_attr, patch\n",
    "from meteo_imp.data_preparation import StandardScaler\n",
    "\n",
    "import torch\n",
    "from torch import Tensor"
   ]
  },
  {
   "cell_type": "markdown",
   "id": "f8d9043a-e74c-4942-bed2-11c4b568423d",
   "metadata": {},
   "source": [
    "## Imputation"
   ]
  },
  {
   "cell_type": "code",
   "execution_count": null,
   "id": "6ce3403f-aa17-434f-85b5-17dbe23ccc8e",
   "metadata": {},
   "outputs": [],
   "source": [
    "#| export\n",
    "class KalmanImputation:\n",
    "    \"\"\"Imputation using a kalman model\"\"\"\n",
    "    def __init__(self, data: pd.DataFrame,\n",
    "                 model: KalmanModel = KalmanModel, # a subclass of KalmanModel to be used as model\n",
    "                 **kwargs # for model\n",
    "                ):\n",
    "        self.data = data\n",
    "        self.mask = ~torch.tensor(self.data.isna())\n",
    "        self.train_idx = self.any(axis=1)\n",
    "        \n",
    "        train_data = torch.tensor(data.to_numpy())\n",
    "        self.scaler = StandardScaler(train_data)\n",
    "        train_data = self.scaler.transform(train_data)\n",
    "        self.train_data = train_data\n",
    "        \n",
    "        self.T = torch.arange(self.data.shape[0])\n",
    "        self.model = model(self.train_data, **kwargs)\n",
    "    def fit(self, n_iter=10, lr=.1) -> 'KalmanImputation':\n",
    "        \"\"\"Fit model parameters\"\"\"\n",
    "        times = self.T[self.train_idx]\n",
    "        obs_test = self.train_data[self.train_idx]\n",
    "        self.model.train(times, obs_test, n_iter, lr)\n",
    "        return self\n",
    "\n",
    "    def impute(self,\n",
    "               pred_all = False, # If the dataset should be replaced by the model predictions\n",
    "                                # or only the gaps imputed using the model\n",
    "              ):\n",
    "        \"\"\"Impute data in tidy format using model\"\"\"\n",
    "        # predict either no all dataset or only on part\n",
    "        if pred_all:\n",
    "            time_mask = self.T\n",
    "            data_mask = self.mask\n",
    "        else:\n",
    "            time_mask = self.T[~self.train_idx]\n",
    "            data_mask = self.mask[~self.train_idx]\n",
    "\n",
    "        pred = self.model.predict(time_mask)\n",
    "        \n",
    "        imp_mean = self.data.copy()\n",
    "        mean = self.scaler.inverse_transform(pred.mean)\n",
    "        imp_mean.iloc[data_mask, :] = mean.cpu().numpy()\n",
    "        imp_mean = imp_mean.assign(time=self.T).melt('time', value_name = 'mean')\n",
    "        \n",
    "        # for observations std is 0\n",
    "        imp_std = pd.DataFrame(np.zeros_like(self.data), columns=self.data.columns)\n",
    "        # get the diagonal of the covariance matrices (the variance) and transform to std\n",
    "        std = cov2std(pred.cov)\n",
    "        std = self.scaler.inverse_transform_std(std)\n",
    "        imp_std.iloc[data_mask, :] = std.cpu().numpy()\n",
    "        imp_std = imp_std.assign(time=self.T).melt('time',value_name = 'std')\n",
    "        \n",
    "        return pd.merge(imp_mean, imp_std, on=['time', 'variable'])       "
   ]
  },
  {
   "cell_type": "code",
   "execution_count": null,
   "id": "c28723b7-fce7-4334-9607-70b203f70109",
   "metadata": {},
   "outputs": [],
   "source": [
    "from meteo_imp.data_preparation import MeteoDataTest"
   ]
  },
  {
   "cell_type": "code",
   "execution_count": null,
   "id": "d703cc28-1a6a-40fd-b151-cd1ef05a92c3",
   "metadata": {},
   "outputs": [],
   "source": [
    "reset_seed(1)\n",
    "data = MeteoDataTest.generate_gpfa(2, 5).add_random_missing()"
   ]
  },
  {
   "cell_type": "code",
   "execution_count": null,
   "id": "492b6c27-9e6b-4334-9c64-76f2bb52425f",
   "metadata": {},
   "outputs": [
    {
     "data": {
      "text/html": [
       "<div>\n",
       "<style scoped>\n",
       "    .dataframe tbody tr th:only-of-type {\n",
       "        vertical-align: middle;\n",
       "    }\n",
       "\n",
       "    .dataframe tbody tr th {\n",
       "        vertical-align: top;\n",
       "    }\n",
       "\n",
       "    .dataframe thead th {\n",
       "        text-align: right;\n",
       "    }\n",
       "</style>\n",
       "<table border=\"1\" class=\"dataframe\">\n",
       "  <thead>\n",
       "    <tr style=\"text-align: right;\">\n",
       "      <th></th>\n",
       "      <th>x0</th>\n",
       "      <th>x1</th>\n",
       "    </tr>\n",
       "  </thead>\n",
       "  <tbody>\n",
       "    <tr>\n",
       "      <th>0</th>\n",
       "      <td>0.023263</td>\n",
       "      <td>NaN</td>\n",
       "    </tr>\n",
       "    <tr>\n",
       "      <th>1</th>\n",
       "      <td>0.219627</td>\n",
       "      <td>0.268028</td>\n",
       "    </tr>\n",
       "    <tr>\n",
       "      <th>2</th>\n",
       "      <td>-0.039892</td>\n",
       "      <td>0.063075</td>\n",
       "    </tr>\n",
       "    <tr>\n",
       "      <th>3</th>\n",
       "      <td>NaN</td>\n",
       "      <td>NaN</td>\n",
       "    </tr>\n",
       "    <tr>\n",
       "      <th>4</th>\n",
       "      <td>-0.645490</td>\n",
       "      <td>-0.144866</td>\n",
       "    </tr>\n",
       "  </tbody>\n",
       "</table>\n",
       "</div>"
      ],
      "text/plain": [
       "         x0        x1\n",
       "0  0.023263       NaN\n",
       "1  0.219627  0.268028\n",
       "2 -0.039892  0.063075\n",
       "3       NaN       NaN\n",
       "4 -0.645490 -0.144866"
      ]
     },
     "execution_count": null,
     "metadata": {},
     "output_type": "execute_result"
    }
   ],
   "source": [
    "data.data"
   ]
  },
  {
   "cell_type": "code",
   "execution_count": null,
   "id": "f9e14727-0ce3-4479-91e2-1ca6ffefe95b",
   "metadata": {},
   "outputs": [
    {
     "ename": "ValueError",
     "evalue": "could not determine the shape of object type 'DataFrame'",
     "output_type": "error",
     "traceback": [
      "\u001b[0;31m---------------------------------------------------------------------------\u001b[0m",
      "\u001b[0;31mValueError\u001b[0m                                Traceback (most recent call last)",
      "Input \u001b[0;32mIn [8]\u001b[0m, in \u001b[0;36m<cell line: 1>\u001b[0;34m()\u001b[0m\n\u001b[0;32m----> 1\u001b[0m k_imp \u001b[38;5;241m=\u001b[39m \u001b[43mKalmanImputation\u001b[49m\u001b[43m(\u001b[49m\u001b[43mdata\u001b[49m\u001b[38;5;241;43m.\u001b[39;49m\u001b[43mdata\u001b[49m\u001b[43m)\u001b[49m\n",
      "Input \u001b[0;32mIn [4]\u001b[0m, in \u001b[0;36mKalmanImputation.__init__\u001b[0;34m(self, data, model, **kwargs)\u001b[0m\n\u001b[1;32m      4\u001b[0m \u001b[38;5;28;01mdef\u001b[39;00m \u001b[38;5;21m__init__\u001b[39m(\u001b[38;5;28mself\u001b[39m, data: pd\u001b[38;5;241m.\u001b[39mDataFrame,\n\u001b[1;32m      5\u001b[0m              model: KalmanModel \u001b[38;5;241m=\u001b[39m KalmanModel, \u001b[38;5;66;03m# a subclass of KalmanModel to be used as model\u001b[39;00m\n\u001b[1;32m      6\u001b[0m              \u001b[38;5;241m*\u001b[39m\u001b[38;5;241m*\u001b[39mkwargs \u001b[38;5;66;03m# for model\u001b[39;00m\n\u001b[1;32m      7\u001b[0m             ):\n\u001b[1;32m      8\u001b[0m     \u001b[38;5;28mself\u001b[39m\u001b[38;5;241m.\u001b[39mdata \u001b[38;5;241m=\u001b[39m data\n\u001b[0;32m----> 9\u001b[0m     \u001b[38;5;28mself\u001b[39m\u001b[38;5;241m.\u001b[39mmask \u001b[38;5;241m=\u001b[39m \u001b[38;5;241m~\u001b[39m\u001b[43mtorch\u001b[49m\u001b[38;5;241;43m.\u001b[39;49m\u001b[43mtensor\u001b[49m\u001b[43m(\u001b[49m\u001b[38;5;28;43mself\u001b[39;49m\u001b[38;5;241;43m.\u001b[39;49m\u001b[43mdata\u001b[49m\u001b[38;5;241;43m.\u001b[39;49m\u001b[43misna\u001b[49m\u001b[43m(\u001b[49m\u001b[43m)\u001b[49m\u001b[43m)\u001b[49m\n\u001b[1;32m     10\u001b[0m     \u001b[38;5;28mself\u001b[39m\u001b[38;5;241m.\u001b[39mtrain_idx \u001b[38;5;241m=\u001b[39m \u001b[38;5;28mself\u001b[39m\u001b[38;5;241m.\u001b[39many(axis\u001b[38;5;241m=\u001b[39m\u001b[38;5;241m1\u001b[39m)\n\u001b[1;32m     12\u001b[0m     train_data \u001b[38;5;241m=\u001b[39m torch\u001b[38;5;241m.\u001b[39mtensor(data\u001b[38;5;241m.\u001b[39mto_numpy())\n",
      "\u001b[0;31mValueError\u001b[0m: could not determine the shape of object type 'DataFrame'"
     ]
    }
   ],
   "source": [
    "k_imp = KalmanImputation(data.data)"
   ]
  },
  {
   "cell_type": "code",
   "execution_count": null,
   "id": "639808f4-32c9-4b1f-ac09-e94aff73a648",
   "metadata": {},
   "outputs": [],
   "source": [
    "k_imp.train_data"
   ]
  },
  {
   "cell_type": "code",
   "execution_count": null,
   "id": "99379365-98b4-4c66-9cd0-a87601cf0dd8",
   "metadata": {},
   "outputs": [
    {
     "data": {
      "text/plain": [
       "tensor([[ 0.8847,  0.9976],\n",
       "        [ 0.1895,  0.0048],\n",
       "        [-1.4328, -1.0024]])"
      ]
     },
     "execution_count": null,
     "metadata": {},
     "output_type": "execute_result"
    }
   ],
   "source": [
    "k_imp.train_data[k_imp.train_idx]"
   ]
  },
  {
   "cell_type": "code",
   "execution_count": null,
   "id": "e2d3a271-7b18-4b6d-a06a-f95792c74076",
   "metadata": {},
   "outputs": [
    {
     "name": "stdout",
     "output_type": "stream",
     "text": [
      "starting\n"
     ]
    },
    {
     "data": {
      "application/vnd.jupyter.widget-view+json": {
       "model_id": "9a5e925bf0f5404583ade50dddd6f517",
       "version_major": 2,
       "version_minor": 0
      },
      "text/plain": [
       "  0%|          | 0/10 [00:00<?, ?it/s]"
      ]
     },
     "metadata": {},
     "output_type": "display_data"
    },
    {
     "name": "stdout",
     "output_type": "stream",
     "text": [
      "\n",
      "\n",
      "\n",
      "\n",
      "\n",
      "\n",
      "\n",
      "\n",
      "\n",
      "\n",
      "\n",
      "\n",
      "\n",
      "\n",
      "\n",
      "\n",
      "\n",
      "\n",
      "\n",
      "\n",
      "\n",
      "\n",
      "\n",
      "\n",
      "\n",
      "\n",
      "\n",
      "\n",
      "\n",
      "\n",
      "\n",
      "\n",
      "\n",
      "\n",
      "\n",
      "\n",
      "\n",
      "\n",
      "\n",
      "\n",
      "\n",
      "\n",
      "\n",
      "\n",
      "\n",
      "\n",
      "\n",
      "\n",
      "\n",
      "\n"
     ]
    },
    {
     "data": {
      "text/plain": [
       "<__main__.KalmanImputation>"
      ]
     },
     "execution_count": null,
     "metadata": {},
     "output_type": "execute_result"
    }
   ],
   "source": [
    "k_imp.fit(10, lr=0.1)"
   ]
  },
  {
   "cell_type": "code",
   "execution_count": null,
   "id": "f9c3ba6b-6fc6-46f7-8749-09aca56fa0a6",
   "metadata": {},
   "outputs": [
    {
     "name": "stdout",
     "output_type": "stream",
     "text": [
      "\n",
      "\n",
      "\n",
      "\n",
      "\n"
     ]
    },
    {
     "data": {
      "text/html": [
       "<div>\n",
       "<style scoped>\n",
       "    .dataframe tbody tr th:only-of-type {\n",
       "        vertical-align: middle;\n",
       "    }\n",
       "\n",
       "    .dataframe tbody tr th {\n",
       "        vertical-align: top;\n",
       "    }\n",
       "\n",
       "    .dataframe thead th {\n",
       "        text-align: right;\n",
       "    }\n",
       "</style>\n",
       "<table border=\"1\" class=\"dataframe\">\n",
       "  <thead>\n",
       "    <tr style=\"text-align: right;\">\n",
       "      <th></th>\n",
       "      <th>time</th>\n",
       "      <th>variable</th>\n",
       "      <th>mean</th>\n",
       "      <th>std</th>\n",
       "    </tr>\n",
       "  </thead>\n",
       "  <tbody>\n",
       "    <tr>\n",
       "      <th>0</th>\n",
       "      <td>0</td>\n",
       "      <td>x0</td>\n",
       "      <td>-0.031254</td>\n",
       "      <td>0.473841</td>\n",
       "    </tr>\n",
       "    <tr>\n",
       "      <th>1</th>\n",
       "      <td>1</td>\n",
       "      <td>x0</td>\n",
       "      <td>0.219627</td>\n",
       "      <td>0.000000</td>\n",
       "    </tr>\n",
       "    <tr>\n",
       "      <th>2</th>\n",
       "      <td>2</td>\n",
       "      <td>x0</td>\n",
       "      <td>-0.039892</td>\n",
       "      <td>0.000000</td>\n",
       "    </tr>\n",
       "    <tr>\n",
       "      <th>3</th>\n",
       "      <td>3</td>\n",
       "      <td>x0</td>\n",
       "      <td>-0.280452</td>\n",
       "      <td>0.514002</td>\n",
       "    </tr>\n",
       "    <tr>\n",
       "      <th>4</th>\n",
       "      <td>4</td>\n",
       "      <td>x0</td>\n",
       "      <td>-0.645490</td>\n",
       "      <td>0.000000</td>\n",
       "    </tr>\n",
       "    <tr>\n",
       "      <th>5</th>\n",
       "      <td>0</td>\n",
       "      <td>x1</td>\n",
       "      <td>0.109620</td>\n",
       "      <td>0.259775</td>\n",
       "    </tr>\n",
       "    <tr>\n",
       "      <th>6</th>\n",
       "      <td>1</td>\n",
       "      <td>x1</td>\n",
       "      <td>0.268028</td>\n",
       "      <td>0.000000</td>\n",
       "    </tr>\n",
       "    <tr>\n",
       "      <th>7</th>\n",
       "      <td>2</td>\n",
       "      <td>x1</td>\n",
       "      <td>0.063075</td>\n",
       "      <td>0.000000</td>\n",
       "    </tr>\n",
       "    <tr>\n",
       "      <th>8</th>\n",
       "      <td>3</td>\n",
       "      <td>x1</td>\n",
       "      <td>-0.000474</td>\n",
       "      <td>0.280925</td>\n",
       "    </tr>\n",
       "    <tr>\n",
       "      <th>9</th>\n",
       "      <td>4</td>\n",
       "      <td>x1</td>\n",
       "      <td>-0.144866</td>\n",
       "      <td>0.000000</td>\n",
       "    </tr>\n",
       "  </tbody>\n",
       "</table>\n",
       "</div>"
      ],
      "text/plain": [
       "   time variable      mean       std\n",
       "0     0       x0 -0.031254  0.473841\n",
       "1     1       x0  0.219627  0.000000\n",
       "2     2       x0 -0.039892  0.000000\n",
       "3     3       x0 -0.280452  0.514002\n",
       "4     4       x0 -0.645490  0.000000\n",
       "5     0       x1  0.109620  0.259775\n",
       "6     1       x1  0.268028  0.000000\n",
       "7     2       x1  0.063075  0.000000\n",
       "8     3       x1 -0.000474  0.280925\n",
       "9     4       x1 -0.144866  0.000000"
      ]
     },
     "execution_count": null,
     "metadata": {},
     "output_type": "execute_result"
    }
   ],
   "source": [
    "k_imp.impute()"
   ]
  },
  {
   "cell_type": "code",
   "execution_count": null,
   "id": "85e92652-22be-41c4-8444-527222493807",
   "metadata": {},
   "outputs": [],
   "source": [
    "data.data.shape"
   ]
  },
  {
   "cell_type": "code",
   "execution_count": null,
   "id": "ac31dba2-732d-4ef9-b46e-ec3b35a35b0f",
   "metadata": {},
   "outputs": [],
   "source": [
    "k_imp.impute(pred_all=True)"
   ]
  },
  {
   "cell_type": "markdown",
   "id": "17bfbf29-2869-4391-a68b-f85171744d07",
   "metadata": {},
   "source": [
    "#### Result"
   ]
  },
  {
   "cell_type": "code",
   "execution_count": null,
   "id": "aea7644f-adf7-4c6f-95db-53ea9b3cd089",
   "metadata": {},
   "outputs": [],
   "source": [
    "#| export\n",
    "@patch\n",
    "def to_result(self: KalmanImputation, data_compl, var_names=None, units=None, pred_all=False):\n",
    "    return ImputationResult(self.impute(pred_all), data_compl, self.model.filter.get_info(var_names), units)"
   ]
  },
  {
   "cell_type": "code",
   "execution_count": null,
   "id": "7450371e-3f4e-489c-b34b-94703095a198",
   "metadata": {},
   "outputs": [],
   "source": [
    "X = np.hstack([np.arange(0,3.), np.arange(3., 0, -1)]).reshape(6, 1)"
   ]
  },
  {
   "cell_type": "code",
   "execution_count": null,
   "id": "a11689e0-69fb-4650-a133-01863989ba8a",
   "metadata": {},
   "outputs": [],
   "source": [
    "res = k_imp.to_result(data.data_compl_tidy)"
   ]
  },
  {
   "cell_type": "code",
   "execution_count": null,
   "id": "374f1cc1-9fd8-469c-8a4f-eb0a937a4480",
   "metadata": {},
   "outputs": [],
   "source": [
    "res.display_results()"
   ]
  },
  {
   "cell_type": "markdown",
   "id": "e477a20d-14fa-4be5-b220-1fa28821d420",
   "metadata": {},
   "source": [
    "## Debug"
   ]
  },
  {
   "cell_type": "code",
   "execution_count": null,
   "id": "091b897f-ed9c-411d-83cd-c5e486f8155c",
   "metadata": {},
   "outputs": [],
   "source": [
    "from meteo_imp.data import hai"
   ]
  },
  {
   "cell_type": "code",
   "execution_count": null,
   "id": "50bd3455-45ab-4957-ba8b-b78b029aaccd",
   "metadata": {},
   "outputs": [],
   "source": [
    "td = MeteoDataTest(hai)"
   ]
  },
  {
   "cell_type": "code",
   "execution_count": null,
   "id": "81ff6e21-29cc-4790-9f77-937c46046019",
   "metadata": {},
   "outputs": [],
   "source": [
    "td.add_gap(10, 'TA', 10)"
   ]
  },
  {
   "cell_type": "code",
   "execution_count": null,
   "id": "e15724c5-54d4-45a7-ae91-2a206c639f5c",
   "metadata": {},
   "outputs": [],
   "source": [
    "i_hai = KalmanImputation(td.data)"
   ]
  },
  {
   "cell_type": "code",
   "execution_count": null,
   "id": "0e9be82b-4ae5-4f62-9f02-8a65026ac1a0",
   "metadata": {},
   "outputs": [],
   "source": [
    "i_hai.fit()"
   ]
  },
  {
   "cell_type": "markdown",
   "id": "c8665fbb-8f0f-4722-a524-880e42cffed3",
   "metadata": {},
   "source": [
    "## Export "
   ]
  },
  {
   "cell_type": "code",
   "execution_count": null,
   "id": "925fe863-f406-4bf5-a55a-9ca2302c490b",
   "metadata": {},
   "outputs": [],
   "source": [
    "#| hide\n",
    "from nbdev import nbdev_export\n",
    "nbdev_export()"
   ]
  }
 ],
 "metadata": {
  "kernelspec": {
   "display_name": "data_science",
   "language": "python",
   "name": "data_science"
  },
  "widgets": {
   "application/vnd.jupyter.widget-state+json": {
    "state": {},
    "version_major": 2,
    "version_minor": 0
   }
  }
 },
 "nbformat": 4,
 "nbformat_minor": 5
}
