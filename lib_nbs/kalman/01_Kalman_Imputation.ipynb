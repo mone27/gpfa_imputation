{
 "cells": [
  {
   "cell_type": "markdown",
   "id": "42746a7d-4479-4f29-9086-33d4f1be7f53",
   "metadata": {},
   "source": [
    "# Imputation Kalman Model\n",
    "> Imputation using Kalman Models"
   ]
  },
  {
   "cell_type": "code",
   "execution_count": null,
   "id": "552019c2-1718-455d-8e84-7fef045c69a6",
   "metadata": {},
   "outputs": [],
   "source": [
    "%load_ext autoreload\n",
    "%autoreload 2"
   ]
  },
  {
   "cell_type": "code",
   "execution_count": null,
   "id": "257cc32a-fe73-40c8-ae09-754c644eb804",
   "metadata": {},
   "outputs": [],
   "source": [
    "#| hide\n",
    "#| default_exp kalman.imputation"
   ]
  },
  {
   "cell_type": "code",
   "execution_count": null,
   "id": "9449a804-1e12-4f2a-b3bb-83f7616b8e5a",
   "metadata": {},
   "outputs": [],
   "source": [
    "#| export\n",
    "import pandas as pd\n",
    "from meteo_imp.kalman.model import KalmanModel, LocalLevelModel\n",
    "from meteo_imp.results import ImputationResult\n",
    "from meteo_imp.utils import *\n",
    "from fastcore.basics import store_attr, patch\n",
    "from numpy.ma import masked_array\n",
    "import numpy as np\n",
    "from sklearn.preprocessing import StandardScaler\n",
    "import sklearn"
   ]
  },
  {
   "cell_type": "markdown",
   "id": "930aeb5a-4d9a-4a73-841c-38ca5a1552e6",
   "metadata": {},
   "source": [
    "## Standard Scaler"
   ]
  },
  {
   "cell_type": "markdown",
   "id": "4bd513f3-d8d5-4943-8546-f98b35461e85",
   "metadata": {},
   "source": [
    "make a standard scaler that can also inverse transfor standard deviations. see `Standardizer` for details of implementation"
   ]
  },
  {
   "cell_type": "code",
   "execution_count": null,
   "id": "5703d8ea-ebb0-43f9-8ebe-5d4ead970c1d",
   "metadata": {},
   "outputs": [],
   "source": [
    "reset_seed()\n",
    "xx = np.random.random((4, 10))"
   ]
  },
  {
   "cell_type": "code",
   "execution_count": null,
   "id": "a2441077-d380-4a1d-a655-71e64de033f1",
   "metadata": {},
   "outputs": [],
   "source": [
    "s = StandardScaler().fit(xx)"
   ]
  },
  {
   "cell_type": "code",
   "execution_count": null,
   "id": "2982b99a-9416-44fd-a946-74b93f8c1afc",
   "metadata": {},
   "outputs": [
    {
     "data": {
      "text/plain": [
       "array([[ 0.07263978,  0.63279488, -0.9975139 ,  0.50899177,  0.15537652,\n",
       "         1.45555506,  1.56629646, -1.60237369,  1.51674974,  1.29584745],\n",
       "       [ 1.58579521,  0.83086419, -0.68281902,  0.51578245, -0.62395756,\n",
       "        -1.19720248, -0.43000476,  1.1539719 , -0.74724819, -0.85525414],\n",
       "       [-1.05809926, -1.69049694,  0.0895118 , -1.72684476, -1.08418417,\n",
       "         0.32617669, -1.16657374,  0.2345773 ,  0.26525847,  0.64349108],\n",
       "       [-0.60033573,  0.22683787,  1.59082112,  0.70207053,  1.55276521,\n",
       "        -0.58452927,  0.03028204,  0.21382449, -1.03476002, -1.08408439]])"
      ]
     },
     "execution_count": null,
     "metadata": {},
     "output_type": "execute_result"
    }
   ],
   "source": [
    "s.transform(xx)"
   ]
  },
  {
   "cell_type": "code",
   "execution_count": null,
   "id": "95d6510a-4a2e-4369-9c39-65ae20dc128a",
   "metadata": {},
   "outputs": [
    {
     "data": {
      "text/plain": [
       "array([0.40358703, 0.6758362 , 0.77934606, 0.70748673, 0.34417949,\n",
       "       0.62067044, 0.48500116, 0.54921643, 0.34604713, 0.3660338 ])"
      ]
     },
     "execution_count": null,
     "metadata": {},
     "output_type": "execute_result"
    }
   ],
   "source": [
    "s.mean_"
   ]
  },
  {
   "cell_type": "code",
   "execution_count": null,
   "id": "e554a472-cab7-48f4-a5cd-49d8c3963064",
   "metadata": {},
   "outputs": [
    {
     "data": {
      "text/plain": [
       "array([0.30471427, 0.21926148, 0.04405831, 0.31536161, 0.25229864,\n",
       "       0.24649441, 0.26061043, 0.21187396, 0.26093989, 0.22927816])"
      ]
     },
     "execution_count": null,
     "metadata": {},
     "output_type": "execute_result"
    }
   ],
   "source": [
    "s.scale_"
   ]
  },
  {
   "cell_type": "code",
   "execution_count": null,
   "id": "327f8ef8-8b1f-42cd-a861-941c532beed4",
   "metadata": {},
   "outputs": [],
   "source": [
    "#| export\n",
    "@patch\n",
    "def inverse_transform_std(self: sklearn.preprocessing.StandardScaler, \n",
    "                         x_std # standard deviations\n",
    "                        ):\n",
    "    return x_std * self.scale_"
   ]
  },
  {
   "cell_type": "markdown",
   "id": "f8d9043a-e74c-4942-bed2-11c4b568423d",
   "metadata": {},
   "source": [
    "## Imputation"
   ]
  },
  {
   "cell_type": "code",
   "execution_count": null,
   "id": "d945e732-9e78-453e-9e7f-a5c3caba2bf5",
   "metadata": {},
   "outputs": [],
   "source": [
    "x = np.stack([np.eye(3)*i for i in  range(1,4)])"
   ]
  },
  {
   "cell_type": "code",
   "execution_count": null,
   "id": "695f8643-24bb-4c08-9d45-28f71d2087fc",
   "metadata": {},
   "outputs": [
    {
     "data": {
      "text/plain": [
       "array([[[1., 0., 0.],\n",
       "        [0., 1., 0.],\n",
       "        [0., 0., 1.]],\n",
       "\n",
       "       [[2., 0., 0.],\n",
       "        [0., 2., 0.],\n",
       "        [0., 0., 2.]],\n",
       "\n",
       "       [[3., 0., 0.],\n",
       "        [0., 3., 0.],\n",
       "        [0., 0., 3.]]])"
      ]
     },
     "execution_count": null,
     "metadata": {},
     "output_type": "execute_result"
    }
   ],
   "source": [
    "x"
   ]
  },
  {
   "cell_type": "code",
   "execution_count": null,
   "id": "703285a8-7aff-4766-81a5-f2edf0de1d7d",
   "metadata": {},
   "outputs": [
    {
     "data": {
      "text/plain": [
       "array([[1., 1., 1.],\n",
       "       [2., 2., 2.],\n",
       "       [3., 3., 3.]])"
      ]
     },
     "execution_count": null,
     "metadata": {},
     "output_type": "execute_result"
    }
   ],
   "source": [
    "np.diagonal(x, axis1=1, axis2=2)"
   ]
  },
  {
   "cell_type": "code",
   "execution_count": null,
   "id": "6ce3403f-aa17-434f-85b5-17dbe23ccc8e",
   "metadata": {},
   "outputs": [],
   "source": [
    "#| export\n",
    "class KalmanImputation:\n",
    "    \"\"\"Imputation using a kalman model\"\"\"\n",
    "    def __init__(self, data: pd.DataFrame,\n",
    "                 model: KalmanModel, # a subclass of MLEModel tto be used as model\n",
    "                 # model_args: dict = {}, # Optional args for model\n",
    "                 pred_all: bool = False, # If the dataset should be replaced by the model predictions\n",
    "                ):\n",
    "        self.data = data\n",
    "        self.train_idx = ~self.data.isna().any(axis=1)\n",
    "        # uses numpy maskes for pykalman\n",
    "        train_data = data.to_numpy()\n",
    "        self.scaler = StandardScaler().fit(train_data)\n",
    "        train_data = self.scaler.transform(train_data)\n",
    "        self.train_data = masked_array(train_data, mask=data.isna())\n",
    "        \n",
    "        self.T = np.arange(self.data.shape[0])\n",
    "        self.model = model(self.train_data)\n",
    "    def fit(self, **kwargs) -> 'KalmanImputation':\n",
    "        \"\"\"Fit model parameters\"\"\"\n",
    "        self.model.fit(**kwargs)\n",
    "        return self\n",
    "\n",
    "    def impute(self,\n",
    "               pred_all = False, # If the dataset should be replaced by the model predictions\n",
    "                                # or only the gaps imputed using the model\n",
    "              ):\n",
    "        \"\"\"Impute data in tidy format using model\"\"\"\n",
    "        # predict either no all dataset or only on part\n",
    "        if pred_all:\n",
    "            time_mask = self.T\n",
    "            data_mask = np.ones_like(self.train_idx, dtype=bool)\n",
    "        else:\n",
    "            time_mask = self.T[~self.train_idx]\n",
    "            data_mask = ~self.train_idx.to_numpy()\n",
    "\n",
    "        pred = self.model.predict(time_mask)\n",
    "        \n",
    "        imp_mean = self.data.copy()\n",
    "        mean = self.scaler.inverse_transform(pred.mean)\n",
    "        imp_mean.iloc[data_mask, :] = mean\n",
    "        imp_mean = imp_mean.assign(time=self.T).melt('time', value_name = 'mean')\n",
    "        \n",
    "        # for observations std is 0\n",
    "        imp_std = pd.DataFrame(np.zeros_like(self.data), columns=self.data.columns)\n",
    "        # get the diagonal of the covariance matrices (the variance) and transform to std\n",
    "        std = np.diagonal(np.sqrt(pred.cov), axis1=1, axis2=2)\n",
    "        std = self.scaler.inverse_transform_std(std)\n",
    "        imp_std.iloc[data_mask, :] = std\n",
    "        imp_std = imp_std.assign(time=self.T).melt('time',value_name = 'std')\n",
    "        \n",
    "        return pd.merge(imp_mean, imp_std, on=['time', 'variable'])       "
   ]
  },
  {
   "cell_type": "code",
   "execution_count": null,
   "id": "c28723b7-fce7-4334-9607-70b203f70109",
   "metadata": {},
   "outputs": [],
   "source": [
    "from meteo_imp.data_preparation import MeteoDataTest"
   ]
  },
  {
   "cell_type": "code",
   "execution_count": null,
   "id": "d703cc28-1a6a-40fd-b151-cd1ef05a92c3",
   "metadata": {},
   "outputs": [],
   "source": [
    "reset_seed(1)\n",
    "data = MeteoDataTest.generate_gpfa(2, 5).add_random_missing()"
   ]
  },
  {
   "cell_type": "code",
   "execution_count": null,
   "id": "492b6c27-9e6b-4334-9c64-76f2bb52425f",
   "metadata": {},
   "outputs": [
    {
     "data": {
      "text/html": [
       "<div>\n",
       "<style scoped>\n",
       "    .dataframe tbody tr th:only-of-type {\n",
       "        vertical-align: middle;\n",
       "    }\n",
       "\n",
       "    .dataframe tbody tr th {\n",
       "        vertical-align: top;\n",
       "    }\n",
       "\n",
       "    .dataframe thead th {\n",
       "        text-align: right;\n",
       "    }\n",
       "</style>\n",
       "<table border=\"1\" class=\"dataframe\">\n",
       "  <thead>\n",
       "    <tr style=\"text-align: right;\">\n",
       "      <th></th>\n",
       "      <th>x0</th>\n",
       "      <th>x1</th>\n",
       "    </tr>\n",
       "  </thead>\n",
       "  <tbody>\n",
       "    <tr>\n",
       "      <th>0</th>\n",
       "      <td>0.023263</td>\n",
       "      <td>NaN</td>\n",
       "    </tr>\n",
       "    <tr>\n",
       "      <th>1</th>\n",
       "      <td>0.219627</td>\n",
       "      <td>0.268028</td>\n",
       "    </tr>\n",
       "    <tr>\n",
       "      <th>2</th>\n",
       "      <td>-0.039892</td>\n",
       "      <td>0.063075</td>\n",
       "    </tr>\n",
       "    <tr>\n",
       "      <th>3</th>\n",
       "      <td>NaN</td>\n",
       "      <td>NaN</td>\n",
       "    </tr>\n",
       "    <tr>\n",
       "      <th>4</th>\n",
       "      <td>-0.645490</td>\n",
       "      <td>-0.144866</td>\n",
       "    </tr>\n",
       "  </tbody>\n",
       "</table>\n",
       "</div>"
      ],
      "text/plain": [
       "         x0        x1\n",
       "0  0.023263       NaN\n",
       "1  0.219627  0.268028\n",
       "2 -0.039892  0.063075\n",
       "3       NaN       NaN\n",
       "4 -0.645490 -0.144866"
      ]
     },
     "execution_count": null,
     "metadata": {},
     "output_type": "execute_result"
    }
   ],
   "source": [
    "data.data"
   ]
  },
  {
   "cell_type": "code",
   "execution_count": null,
   "id": "f9e14727-0ce3-4479-91e2-1ca6ffefe95b",
   "metadata": {},
   "outputs": [],
   "source": [
    "k_imp = KalmanImputation(data.data, LocalLevelModel)"
   ]
  },
  {
   "cell_type": "code",
   "execution_count": null,
   "id": "0940a968-09b4-4f67-a065-8c506edfbb9d",
   "metadata": {},
   "outputs": [
    {
     "data": {
      "text/plain": [
       "<__main__.KalmanImputation>"
      ]
     },
     "execution_count": null,
     "metadata": {},
     "output_type": "execute_result"
    }
   ],
   "source": [
    "k_imp.fit()"
   ]
  },
  {
   "cell_type": "code",
   "execution_count": null,
   "id": "f9c3ba6b-6fc6-46f7-8749-09aca56fa0a6",
   "metadata": {},
   "outputs": [
    {
     "data": {
      "text/html": [
       "<div>\n",
       "<style scoped>\n",
       "    .dataframe tbody tr th:only-of-type {\n",
       "        vertical-align: middle;\n",
       "    }\n",
       "\n",
       "    .dataframe tbody tr th {\n",
       "        vertical-align: top;\n",
       "    }\n",
       "\n",
       "    .dataframe thead th {\n",
       "        text-align: right;\n",
       "    }\n",
       "</style>\n",
       "<table border=\"1\" class=\"dataframe\">\n",
       "  <thead>\n",
       "    <tr style=\"text-align: right;\">\n",
       "      <th></th>\n",
       "      <th>time</th>\n",
       "      <th>variable</th>\n",
       "      <th>mean</th>\n",
       "      <th>std</th>\n",
       "    </tr>\n",
       "  </thead>\n",
       "  <tbody>\n",
       "    <tr>\n",
       "      <th>0</th>\n",
       "      <td>0</td>\n",
       "      <td>x0</td>\n",
       "      <td>-0.117147</td>\n",
       "      <td>0.394932</td>\n",
       "    </tr>\n",
       "    <tr>\n",
       "      <th>1</th>\n",
       "      <td>1</td>\n",
       "      <td>x0</td>\n",
       "      <td>0.219627</td>\n",
       "      <td>0.000000</td>\n",
       "    </tr>\n",
       "    <tr>\n",
       "      <th>2</th>\n",
       "      <td>2</td>\n",
       "      <td>x0</td>\n",
       "      <td>-0.039892</td>\n",
       "      <td>0.000000</td>\n",
       "    </tr>\n",
       "    <tr>\n",
       "      <th>3</th>\n",
       "      <td>3</td>\n",
       "      <td>x0</td>\n",
       "      <td>-0.170874</td>\n",
       "      <td>0.395551</td>\n",
       "    </tr>\n",
       "    <tr>\n",
       "      <th>4</th>\n",
       "      <td>4</td>\n",
       "      <td>x0</td>\n",
       "      <td>-0.645490</td>\n",
       "      <td>0.000000</td>\n",
       "    </tr>\n",
       "    <tr>\n",
       "      <th>5</th>\n",
       "      <td>0</td>\n",
       "      <td>x1</td>\n",
       "      <td>0.062976</td>\n",
       "      <td>0.206893</td>\n",
       "    </tr>\n",
       "    <tr>\n",
       "      <th>6</th>\n",
       "      <td>1</td>\n",
       "      <td>x1</td>\n",
       "      <td>0.268028</td>\n",
       "      <td>0.000000</td>\n",
       "    </tr>\n",
       "    <tr>\n",
       "      <th>7</th>\n",
       "      <td>2</td>\n",
       "      <td>x1</td>\n",
       "      <td>0.063075</td>\n",
       "      <td>0.000000</td>\n",
       "    </tr>\n",
       "    <tr>\n",
       "      <th>8</th>\n",
       "      <td>3</td>\n",
       "      <td>x1</td>\n",
       "      <td>0.062976</td>\n",
       "      <td>0.206893</td>\n",
       "    </tr>\n",
       "    <tr>\n",
       "      <th>9</th>\n",
       "      <td>4</td>\n",
       "      <td>x1</td>\n",
       "      <td>-0.144866</td>\n",
       "      <td>0.000000</td>\n",
       "    </tr>\n",
       "  </tbody>\n",
       "</table>\n",
       "</div>"
      ],
      "text/plain": [
       "   time variable      mean       std\n",
       "0     0       x0 -0.117147  0.394932\n",
       "1     1       x0  0.219627  0.000000\n",
       "2     2       x0 -0.039892  0.000000\n",
       "3     3       x0 -0.170874  0.395551\n",
       "4     4       x0 -0.645490  0.000000\n",
       "5     0       x1  0.062976  0.206893\n",
       "6     1       x1  0.268028  0.000000\n",
       "7     2       x1  0.063075  0.000000\n",
       "8     3       x1  0.062976  0.206893\n",
       "9     4       x1 -0.144866  0.000000"
      ]
     },
     "execution_count": null,
     "metadata": {},
     "output_type": "execute_result"
    }
   ],
   "source": [
    "k_imp.impute()"
   ]
  },
  {
   "cell_type": "code",
   "execution_count": null,
   "id": "ac31dba2-732d-4ef9-b46e-ec3b35a35b0f",
   "metadata": {},
   "outputs": [
    {
     "data": {
      "text/html": [
       "<div>\n",
       "<style scoped>\n",
       "    .dataframe tbody tr th:only-of-type {\n",
       "        vertical-align: middle;\n",
       "    }\n",
       "\n",
       "    .dataframe tbody tr th {\n",
       "        vertical-align: top;\n",
       "    }\n",
       "\n",
       "    .dataframe thead th {\n",
       "        text-align: right;\n",
       "    }\n",
       "</style>\n",
       "<table border=\"1\" class=\"dataframe\">\n",
       "  <thead>\n",
       "    <tr style=\"text-align: right;\">\n",
       "      <th></th>\n",
       "      <th>time</th>\n",
       "      <th>variable</th>\n",
       "      <th>mean</th>\n",
       "      <th>std</th>\n",
       "    </tr>\n",
       "  </thead>\n",
       "  <tbody>\n",
       "    <tr>\n",
       "      <th>0</th>\n",
       "      <td>0</td>\n",
       "      <td>x0</td>\n",
       "      <td>-0.117147</td>\n",
       "      <td>0.394932</td>\n",
       "    </tr>\n",
       "    <tr>\n",
       "      <th>1</th>\n",
       "      <td>1</td>\n",
       "      <td>x0</td>\n",
       "      <td>-0.118482</td>\n",
       "      <td>0.383000</td>\n",
       "    </tr>\n",
       "    <tr>\n",
       "      <th>2</th>\n",
       "      <td>2</td>\n",
       "      <td>x0</td>\n",
       "      <td>-0.100529</td>\n",
       "      <td>0.384614</td>\n",
       "    </tr>\n",
       "    <tr>\n",
       "      <th>3</th>\n",
       "      <td>3</td>\n",
       "      <td>x0</td>\n",
       "      <td>-0.170874</td>\n",
       "      <td>0.395551</td>\n",
       "    </tr>\n",
       "    <tr>\n",
       "      <th>4</th>\n",
       "      <td>4</td>\n",
       "      <td>x0</td>\n",
       "      <td>-0.241218</td>\n",
       "      <td>0.389215</td>\n",
       "    </tr>\n",
       "    <tr>\n",
       "      <th>5</th>\n",
       "      <td>0</td>\n",
       "      <td>x1</td>\n",
       "      <td>0.062976</td>\n",
       "      <td>0.206893</td>\n",
       "    </tr>\n",
       "    <tr>\n",
       "      <th>6</th>\n",
       "      <td>1</td>\n",
       "      <td>x1</td>\n",
       "      <td>0.062976</td>\n",
       "      <td>0.206893</td>\n",
       "    </tr>\n",
       "    <tr>\n",
       "      <th>7</th>\n",
       "      <td>2</td>\n",
       "      <td>x1</td>\n",
       "      <td>0.062976</td>\n",
       "      <td>0.206893</td>\n",
       "    </tr>\n",
       "    <tr>\n",
       "      <th>8</th>\n",
       "      <td>3</td>\n",
       "      <td>x1</td>\n",
       "      <td>0.062976</td>\n",
       "      <td>0.206893</td>\n",
       "    </tr>\n",
       "    <tr>\n",
       "      <th>9</th>\n",
       "      <td>4</td>\n",
       "      <td>x1</td>\n",
       "      <td>0.062976</td>\n",
       "      <td>0.206893</td>\n",
       "    </tr>\n",
       "  </tbody>\n",
       "</table>\n",
       "</div>"
      ],
      "text/plain": [
       "   time variable      mean       std\n",
       "0     0       x0 -0.117147  0.394932\n",
       "1     1       x0 -0.118482  0.383000\n",
       "2     2       x0 -0.100529  0.384614\n",
       "3     3       x0 -0.170874  0.395551\n",
       "4     4       x0 -0.241218  0.389215\n",
       "5     0       x1  0.062976  0.206893\n",
       "6     1       x1  0.062976  0.206893\n",
       "7     2       x1  0.062976  0.206893\n",
       "8     3       x1  0.062976  0.206893\n",
       "9     4       x1  0.062976  0.206893"
      ]
     },
     "execution_count": null,
     "metadata": {},
     "output_type": "execute_result"
    }
   ],
   "source": [
    "k_imp.impute(pred_all=True)"
   ]
  },
  {
   "cell_type": "markdown",
   "id": "17bfbf29-2869-4391-a68b-f85171744d07",
   "metadata": {},
   "source": [
    "#### Result"
   ]
  },
  {
   "cell_type": "code",
   "execution_count": null,
   "id": "aea7644f-adf7-4c6f-95db-53ea9b3cd089",
   "metadata": {},
   "outputs": [],
   "source": [
    "#| export\n",
    "@patch\n",
    "def to_result(self: KalmanImputation, data_compl, var_names=None, units=None, pred_all=False):\n",
    "    return ImputationResult(self.impute(pred_all), data_compl, self.model.get_info(var_names), units)"
   ]
  },
  {
   "cell_type": "code",
   "execution_count": null,
   "id": "7450371e-3f4e-489c-b34b-94703095a198",
   "metadata": {},
   "outputs": [],
   "source": [
    "X = np.hstack([np.arange(0,3.), np.arange(3., 0, -1)]).reshape(6, 1)"
   ]
  },
  {
   "cell_type": "code",
   "execution_count": null,
   "id": "a11689e0-69fb-4650-a133-01863989ba8a",
   "metadata": {},
   "outputs": [],
   "source": [
    "res = k_imp.to_result(data.data_compl_tidy)"
   ]
  },
  {
   "cell_type": "code",
   "execution_count": null,
   "id": "374f1cc1-9fd8-469c-8a4f-eb0a937a4480",
   "metadata": {},
   "outputs": [
    {
     "name": "stderr",
     "output_type": "stream",
     "text": [
      "/home/simone/.local/lib/python3.10/site-packages/altair/utils/core.py:317: FutureWarning: iteritems is deprecated and will be removed in a future version. Use .items instead.\n",
      "  for col_name, dtype in df.dtypes.iteritems():\n"
     ]
    },
    {
     "data": {
      "text/html": [
       "\n",
       "<div id=\"altair-viz-98853f0dd3c543f1995e2cb37ba40d62\"></div>\n",
       "<script type=\"text/javascript\">\n",
       "  var VEGA_DEBUG = (typeof VEGA_DEBUG == \"undefined\") ? {} : VEGA_DEBUG;\n",
       "  (function(spec, embedOpt){\n",
       "    let outputDiv = document.currentScript.previousElementSibling;\n",
       "    if (outputDiv.id !== \"altair-viz-98853f0dd3c543f1995e2cb37ba40d62\") {\n",
       "      outputDiv = document.getElementById(\"altair-viz-98853f0dd3c543f1995e2cb37ba40d62\");\n",
       "    }\n",
       "    const paths = {\n",
       "      \"vega\": \"https://cdn.jsdelivr.net/npm//vega@5?noext\",\n",
       "      \"vega-lib\": \"https://cdn.jsdelivr.net/npm//vega-lib?noext\",\n",
       "      \"vega-lite\": \"https://cdn.jsdelivr.net/npm//vega-lite@4.17.0?noext\",\n",
       "      \"vega-embed\": \"https://cdn.jsdelivr.net/npm//vega-embed@6?noext\",\n",
       "    };\n",
       "\n",
       "    function maybeLoadScript(lib, version) {\n",
       "      var key = `${lib.replace(\"-\", \"\")}_version`;\n",
       "      return (VEGA_DEBUG[key] == version) ?\n",
       "        Promise.resolve(paths[lib]) :\n",
       "        new Promise(function(resolve, reject) {\n",
       "          var s = document.createElement('script');\n",
       "          document.getElementsByTagName(\"head\")[0].appendChild(s);\n",
       "          s.async = true;\n",
       "          s.onload = () => {\n",
       "            VEGA_DEBUG[key] = version;\n",
       "            return resolve(paths[lib]);\n",
       "          };\n",
       "          s.onerror = () => reject(`Error loading script: ${paths[lib]}`);\n",
       "          s.src = paths[lib];\n",
       "        });\n",
       "    }\n",
       "\n",
       "    function showError(err) {\n",
       "      outputDiv.innerHTML = `<div class=\"error\" style=\"color:red;\">${err}</div>`;\n",
       "      throw err;\n",
       "    }\n",
       "\n",
       "    function displayChart(vegaEmbed) {\n",
       "      vegaEmbed(outputDiv, spec, embedOpt)\n",
       "        .catch(err => showError(`Javascript Error: ${err.message}<br>This usually means there's a typo in your chart specification. See the javascript console for the full traceback.`));\n",
       "    }\n",
       "\n",
       "    if(typeof define === \"function\" && define.amd) {\n",
       "      requirejs.config({paths});\n",
       "      require([\"vega-embed\"], displayChart, err => showError(`Error loading script: ${err.message}`));\n",
       "    } else {\n",
       "      maybeLoadScript(\"vega\", \"5\")\n",
       "        .then(() => maybeLoadScript(\"vega-lite\", \"4.17.0\"))\n",
       "        .then(() => maybeLoadScript(\"vega-embed\", \"6\"))\n",
       "        .catch(showError)\n",
       "        .then(() => displayChart(vegaEmbed));\n",
       "    }\n",
       "  })({\"config\": {\"view\": {\"continuousWidth\": 400, \"continuousHeight\": 300}}, \"vconcat\": [{\"hconcat\": [{\"vconcat\": [{\"layer\": [{\"data\": {\"name\": \"data-70085302a720ecb475d3ad5fd68afaf7\"}, \"mark\": {\"type\": \"point\", \"color\": \"black\", \"fillOpacity\": 1, \"strokeWidth\": 1}, \"encoding\": {\"fill\": {\"field\": \"is_missing\", \"legend\": {\"title\": [\"Observed data\", \"(is missing)\"]}, \"scale\": {\"range\": [\"#ffffff00\", \"black\"]}, \"type\": \"nominal\"}, \"shape\": {\"field\": \"is_missing\", \"type\": \"nominal\"}, \"x\": {\"axis\": {\"domain\": false, \"labels\": false, \"ticks\": false, \"title\": null}, \"field\": \"time\", \"type\": \"quantitative\"}, \"y\": {\"field\": \"value\", \"scale\": {\"zero\": false}, \"title\": \"x0\", \"type\": \"quantitative\"}}}, {\"layer\": [{\"mark\": \"errorband\", \"encoding\": {\"color\": {\"field\": \"variable\", \"legend\": {\"title\": [\"Line: pred. mean\", \"area: +/- 2 std\", \"(variable)\"]}, \"type\": \"nominal\"}, \"tooltip\": [{\"field\": \"std\", \"format\": \".4\", \"type\": \"quantitative\"}, {\"field\": \"mean\", \"format\": \".4\", \"type\": \"quantitative\"}], \"x\": {\"field\": \"time\", \"type\": \"quantitative\"}, \"y\": {\"field\": \"err_low\", \"scale\": {\"zero\": false}, \"title\": \"x0\", \"type\": \"quantitative\"}, \"y2\": {\"field\": \"err_high\"}}, \"height\": 200, \"transform\": [{\"calculate\": \"datum.mean - 2 * datum.std\", \"as\": \"err_low\"}, {\"calculate\": \"datum.mean + 2 * datum.std\", \"as\": \"err_high\"}], \"width\": 350}, {\"mark\": \"line\", \"encoding\": {\"color\": {\"field\": \"variable\", \"type\": \"nominal\"}, \"x\": {\"field\": \"time\", \"type\": \"quantitative\"}, \"y\": {\"field\": \"mean\", \"scale\": {\"zero\": false}, \"title\": \"x0\", \"type\": \"quantitative\"}}, \"selection\": {\"selector001\": {\"type\": \"interval\", \"bind\": \"scales\", \"encodings\": [\"x\"]}}, \"title\": \"x0\"}], \"data\": {\"name\": \"data-1f32698f1b6f35855ccabef3a7825ab5\"}}]}, {\"data\": {\"name\": \"data-70085302a720ecb475d3ad5fd68afaf7\"}, \"mark\": {\"type\": \"tick\", \"color\": \"black\"}, \"encoding\": {\"color\": {\"condition\": {\"value\": \"black\", \"test\": \"datum.is_missing\"}, \"value\": \"white\"}, \"x\": {\"field\": \"time\", \"type\": \"quantitative\"}}, \"selection\": {\"selector001\": {\"type\": \"interval\", \"bind\": \"scales\", \"encodings\": [\"x\"]}}, \"width\": 350}], \"spacing\": -10}, {\"vconcat\": [{\"layer\": [{\"data\": {\"name\": \"data-5cac8bdc42b61c62308741e680287417\"}, \"mark\": {\"type\": \"point\", \"color\": \"black\", \"fillOpacity\": 1, \"strokeWidth\": 1}, \"encoding\": {\"fill\": {\"field\": \"is_missing\", \"legend\": {\"title\": [\"Observed data\", \"(is missing)\"]}, \"scale\": {\"range\": [\"#ffffff00\", \"black\"]}, \"type\": \"nominal\"}, \"shape\": {\"field\": \"is_missing\", \"type\": \"nominal\"}, \"x\": {\"axis\": {\"domain\": false, \"labels\": false, \"ticks\": false, \"title\": null}, \"field\": \"time\", \"type\": \"quantitative\"}, \"y\": {\"field\": \"value\", \"scale\": {\"zero\": false}, \"title\": \"x1\", \"type\": \"quantitative\"}}}, {\"layer\": [{\"mark\": \"errorband\", \"encoding\": {\"color\": {\"field\": \"variable\", \"legend\": {\"title\": [\"Line: pred. mean\", \"area: +/- 2 std\", \"(variable)\"]}, \"type\": \"nominal\"}, \"tooltip\": [{\"field\": \"std\", \"format\": \".4\", \"type\": \"quantitative\"}, {\"field\": \"mean\", \"format\": \".4\", \"type\": \"quantitative\"}], \"x\": {\"field\": \"time\", \"type\": \"quantitative\"}, \"y\": {\"field\": \"err_low\", \"scale\": {\"zero\": false}, \"title\": \"x1\", \"type\": \"quantitative\"}, \"y2\": {\"field\": \"err_high\"}}, \"height\": 200, \"transform\": [{\"calculate\": \"datum.mean - 2 * datum.std\", \"as\": \"err_low\"}, {\"calculate\": \"datum.mean + 2 * datum.std\", \"as\": \"err_high\"}], \"width\": 350}, {\"mark\": \"line\", \"encoding\": {\"color\": {\"field\": \"variable\", \"type\": \"nominal\"}, \"x\": {\"field\": \"time\", \"type\": \"quantitative\"}, \"y\": {\"field\": \"mean\", \"scale\": {\"zero\": false}, \"title\": \"x1\", \"type\": \"quantitative\"}}, \"selection\": {\"selector001\": {\"type\": \"interval\", \"bind\": \"scales\", \"encodings\": [\"x\"]}}, \"title\": \"x1\"}], \"data\": {\"name\": \"data-0fe9eb344fb3ee486e420fd53afb7f02\"}}]}, {\"data\": {\"name\": \"data-5cac8bdc42b61c62308741e680287417\"}, \"mark\": {\"type\": \"tick\", \"color\": \"black\"}, \"encoding\": {\"color\": {\"condition\": {\"value\": \"black\", \"test\": \"datum.is_missing\"}, \"value\": \"white\"}, \"x\": {\"field\": \"time\", \"type\": \"quantitative\"}}, \"selection\": {\"selector001\": {\"type\": \"interval\", \"bind\": \"scales\", \"encodings\": [\"x\"]}}, \"width\": 350}], \"spacing\": -10}]}, {\"hconcat\": []}, {\"hconcat\": []}, {\"hconcat\": []}, {\"hconcat\": []}], \"$schema\": \"https://vega.github.io/schema/vega-lite/v4.17.0.json\", \"datasets\": {\"data-70085302a720ecb475d3ad5fd68afaf7\": [{\"time\": 0.0, \"variable\": \"x0\", \"value\": 0.02326272241771221, \"is_missing\": false}, {\"time\": 1.0, \"variable\": \"x0\", \"value\": 0.21962720155715942, \"is_missing\": false}, {\"time\": 2.0, \"variable\": \"x0\", \"value\": -0.0398922860622406, \"is_missing\": false}, {\"time\": 3.0, \"variable\": \"x0\", \"value\": 0.24412298202514648, \"is_missing\": true}, {\"time\": 4.0, \"variable\": \"x0\", \"value\": -0.645489513874054, \"is_missing\": false}], \"data-1f32698f1b6f35855ccabef3a7825ab5\": [{\"time\": 0, \"variable\": \"x0\", \"mean\": -0.11714748293161392, \"std\": 0.3949320316314697}, {\"time\": 1, \"variable\": \"x0\", \"mean\": 0.21962720155715942, \"std\": 0.0}, {\"time\": 2, \"variable\": \"x0\", \"mean\": -0.0398922860622406, \"std\": 0.0}, {\"time\": 3, \"variable\": \"x0\", \"mean\": -0.1708737015724182, \"std\": 0.39555102586746216}, {\"time\": 4, \"variable\": \"x0\", \"mean\": -0.645489513874054, \"std\": 0.0}], \"data-5cac8bdc42b61c62308741e680287417\": [{\"time\": 0.0, \"variable\": \"x1\", \"value\": 0.14426042139530182, \"is_missing\": true}, {\"time\": 1.0, \"variable\": \"x1\", \"value\": 0.2680276334285736, \"is_missing\": false}, {\"time\": 2.0, \"variable\": \"x1\", \"value\": 0.06307466328144073, \"is_missing\": false}, {\"time\": 3.0, \"variable\": \"x1\", \"value\": -0.13928881287574768, \"is_missing\": true}, {\"time\": 4.0, \"variable\": \"x1\", \"value\": -0.14486603438854218, \"is_missing\": false}], \"data-0fe9eb344fb3ee486e420fd53afb7f02\": [{\"time\": 0, \"variable\": \"x1\", \"mean\": 0.06297583878040314, \"std\": 0.20689287781715393}, {\"time\": 1, \"variable\": \"x1\", \"mean\": 0.2680276334285736, \"std\": 0.0}, {\"time\": 2, \"variable\": \"x1\", \"mean\": 0.06307466328144073, \"std\": 0.0}, {\"time\": 3, \"variable\": \"x1\", \"mean\": 0.06297583878040314, \"std\": 0.20689287781715393}, {\"time\": 4, \"variable\": \"x1\", \"mean\": -0.14486603438854218, \"std\": 0.0}]}}, {\"mode\": \"vega-lite\"});\n",
       "</script>"
      ],
      "text/plain": [
       "alt.VConcatChart(...)"
      ]
     },
     "metadata": {},
     "output_type": "display_data"
    },
    {
     "name": "stderr",
     "output_type": "stream",
     "text": [
      "/home/simone/anaconda3/envs/data-science/lib/python3.10/site-packages/sklearn/metrics/_regression.py:796: UndefinedMetricWarning: R^2 score is not well-defined with less than two samples.\n",
      "  warnings.warn(msg, UndefinedMetricWarning)\n"
     ]
    },
    {
     "data": {
      "text/html": [
       "<p style='font-size: 1.5rem; font-decoration: bold'>Metrics<p><div style=\"display: flex; column-gap: 20px; flex-wrap: wrap;\" class='table table-striped table-sm'> <div> <p style='font-size: 1.3rem;'>r2</p> <style type=\"text/css\">\n",
       "</style>\n",
       "<table id=\"T_477b7\">\n",
       "  <thead>\n",
       "    <tr>\n",
       "      <th id=\"T_477b7_level0_col0\" class=\"col_heading level0 col0\" >variable</th>\n",
       "      <th id=\"T_477b7_level0_col1\" class=\"col_heading level0 col1\" >r2</th>\n",
       "    </tr>\n",
       "  </thead>\n",
       "  <tbody>\n",
       "    <tr>\n",
       "      <td id=\"T_477b7_row0_col0\" class=\"data row0 col0\" >x0</td>\n",
       "      <td id=\"T_477b7_row0_col1\" class=\"data row0 col1\" >0.6300</td>\n",
       "    </tr>\n",
       "    <tr>\n",
       "      <td id=\"T_477b7_row1_col0\" class=\"data row1 col0\" >x1</td>\n",
       "      <td id=\"T_477b7_row1_col1\" class=\"data row1 col1\" >0.6336</td>\n",
       "    </tr>\n",
       "  </tbody>\n",
       "</table>\n",
       " </div><div> <p style='font-size: 1.3rem;'>RMSE</p> <style type=\"text/css\">\n",
       "</style>\n",
       "<table id=\"T_0c7a3\">\n",
       "  <thead>\n",
       "    <tr>\n",
       "      <th id=\"T_0c7a3_level0_col0\" class=\"col_heading level0 col0\" >variable</th>\n",
       "      <th id=\"T_0c7a3_level0_col1\" class=\"col_heading level0 col1\" >rmse</th>\n",
       "    </tr>\n",
       "  </thead>\n",
       "  <tbody>\n",
       "    <tr>\n",
       "      <td id=\"T_0c7a3_row0_col0\" class=\"data row0 col0\" >x0</td>\n",
       "      <td id=\"T_0c7a3_row0_col1\" class=\"data row0 col1\" >0.1959</td>\n",
       "    </tr>\n",
       "    <tr>\n",
       "      <td id=\"T_0c7a3_row1_col0\" class=\"data row1 col0\" >x1</td>\n",
       "      <td id=\"T_0c7a3_row1_col1\" class=\"data row1 col1\" >0.0975</td>\n",
       "    </tr>\n",
       "  </tbody>\n",
       "</table>\n",
       " </div><div> <p style='font-size: 1.3rem;'>r2 - Only GAP</p> <style type=\"text/css\">\n",
       "</style>\n",
       "<table id=\"T_fe1fa\">\n",
       "  <thead>\n",
       "    <tr>\n",
       "      <th id=\"T_fe1fa_level0_col0\" class=\"col_heading level0 col0\" >variable</th>\n",
       "      <th id=\"T_fe1fa_level0_col1\" class=\"col_heading level0 col1\" >r2</th>\n",
       "    </tr>\n",
       "  </thead>\n",
       "  <tbody>\n",
       "    <tr>\n",
       "      <td id=\"T_fe1fa_row0_col0\" class=\"data row0 col0\" >x0</td>\n",
       "      <td id=\"T_fe1fa_row0_col1\" class=\"data row0 col1\" >nan</td>\n",
       "    </tr>\n",
       "    <tr>\n",
       "      <td id=\"T_fe1fa_row1_col0\" class=\"data row1 col0\" >x1</td>\n",
       "      <td id=\"T_fe1fa_row1_col1\" class=\"data row1 col1\" >-0.1820</td>\n",
       "    </tr>\n",
       "  </tbody>\n",
       "</table>\n",
       " </div><div> <p style='font-size: 1.3rem;'>RMSE - Only GAP</p> <style type=\"text/css\">\n",
       "</style>\n",
       "<table id=\"T_d0dd1\">\n",
       "  <thead>\n",
       "    <tr>\n",
       "      <th id=\"T_d0dd1_level0_col0\" class=\"col_heading level0 col0\" >variable</th>\n",
       "      <th id=\"T_d0dd1_level0_col1\" class=\"col_heading level0 col1\" >rmse</th>\n",
       "    </tr>\n",
       "  </thead>\n",
       "  <tbody>\n",
       "    <tr>\n",
       "      <td id=\"T_d0dd1_row0_col0\" class=\"data row0 col0\" >x0</td>\n",
       "      <td id=\"T_d0dd1_row0_col1\" class=\"data row0 col1\" >0.4150</td>\n",
       "    </tr>\n",
       "    <tr>\n",
       "      <td id=\"T_d0dd1_row1_col0\" class=\"data row1 col0\" >x1</td>\n",
       "      <td id=\"T_d0dd1_row1_col1\" class=\"data row1 col1\" >0.1541</td>\n",
       "    </tr>\n",
       "  </tbody>\n",
       "</table>\n",
       " </div></div>"
      ],
      "text/plain": [
       "<IPython.core.display.HTML object>"
      ]
     },
     "metadata": {},
     "output_type": "display_data"
    },
    {
     "data": {
      "text/html": [
       "<p style='font-size: 1.5rem; font-decoration: bold'>Model Info<p><div style=\"display: flex; column-gap: 20px; flex-wrap: wrap;\" class='table table-striped table-sm'> <div> <p style='font-size: 1.3rem;'>A</p> <style type=\"text/css\">\n",
       "</style>\n",
       "<table id=\"T_52013\">\n",
       "  <thead>\n",
       "    <tr>\n",
       "      <th id=\"T_52013_level0_col0\" class=\"col_heading level0 col0\" >z0</th>\n",
       "      <th id=\"T_52013_level0_col1\" class=\"col_heading level0 col1\" >z1</th>\n",
       "    </tr>\n",
       "  </thead>\n",
       "  <tbody>\n",
       "    <tr>\n",
       "      <td id=\"T_52013_row0_col0\" class=\"data row0 col0\" >1.0000</td>\n",
       "      <td id=\"T_52013_row0_col1\" class=\"data row0 col1\" >0.0000</td>\n",
       "    </tr>\n",
       "    <tr>\n",
       "      <td id=\"T_52013_row1_col0\" class=\"data row1 col0\" >0.0000</td>\n",
       "      <td id=\"T_52013_row1_col1\" class=\"data row1 col1\" >1.0000</td>\n",
       "    </tr>\n",
       "  </tbody>\n",
       "</table>\n",
       " </div><div> <p style='font-size: 1.3rem;'>H</p> <style type=\"text/css\">\n",
       "</style>\n",
       "<table id=\"T_93c1e\">\n",
       "  <thead>\n",
       "    <tr>\n",
       "      <th id=\"T_93c1e_level0_col0\" class=\"col_heading level0 col0\" >z0</th>\n",
       "      <th id=\"T_93c1e_level0_col1\" class=\"col_heading level0 col1\" >z1</th>\n",
       "    </tr>\n",
       "  </thead>\n",
       "  <tbody>\n",
       "    <tr>\n",
       "      <td id=\"T_93c1e_row0_col0\" class=\"data row0 col0\" >1.0000</td>\n",
       "      <td id=\"T_93c1e_row0_col1\" class=\"data row0 col1\" >0.0000</td>\n",
       "    </tr>\n",
       "    <tr>\n",
       "      <td id=\"T_93c1e_row1_col0\" class=\"data row1 col0\" >0.0000</td>\n",
       "      <td id=\"T_93c1e_row1_col1\" class=\"data row1 col1\" >1.0000</td>\n",
       "    </tr>\n",
       "  </tbody>\n",
       "</table>\n",
       " </div><div> <p style='font-size: 1.3rem;'>R</p> <style type=\"text/css\">\n",
       "</style>\n",
       "<table id=\"T_09f1b\">\n",
       "  <thead>\n",
       "    <tr>\n",
       "      <th id=\"T_09f1b_level0_col0\" class=\"col_heading level0 col0\" >0</th>\n",
       "      <th id=\"T_09f1b_level0_col1\" class=\"col_heading level0 col1\" >1</th>\n",
       "    </tr>\n",
       "  </thead>\n",
       "  <tbody>\n",
       "    <tr>\n",
       "      <td id=\"T_09f1b_row0_col0\" class=\"data row0 col0\" >1.1428</td>\n",
       "      <td id=\"T_09f1b_row0_col1\" class=\"data row0 col1\" >1.1225</td>\n",
       "    </tr>\n",
       "    <tr>\n",
       "      <td id=\"T_09f1b_row1_col0\" class=\"data row1 col0\" >1.1225</td>\n",
       "      <td id=\"T_09f1b_row1_col1\" class=\"data row1 col1\" >1.2565</td>\n",
       "    </tr>\n",
       "  </tbody>\n",
       "</table>\n",
       " </div><div> <p style='font-size: 1.3rem;'>Q</p> <style type=\"text/css\">\n",
       "</style>\n",
       "<table id=\"T_aedaf\">\n",
       "  <thead>\n",
       "    <tr>\n",
       "      <th id=\"T_aedaf_level0_col0\" class=\"col_heading level0 col0\" >0</th>\n",
       "      <th id=\"T_aedaf_level0_col1\" class=\"col_heading level0 col1\" >1</th>\n",
       "    </tr>\n",
       "  </thead>\n",
       "  <tbody>\n",
       "    <tr>\n",
       "      <td id=\"T_aedaf_row0_col0\" class=\"data row0 col0\" >0.2046</td>\n",
       "      <td id=\"T_aedaf_row0_col1\" class=\"data row0 col1\" >-0.0000</td>\n",
       "    </tr>\n",
       "    <tr>\n",
       "      <td id=\"T_aedaf_row1_col0\" class=\"data row1 col0\" >-0.0000</td>\n",
       "      <td id=\"T_aedaf_row1_col1\" class=\"data row1 col1\" >-0.0000</td>\n",
       "    </tr>\n",
       "  </tbody>\n",
       "</table>\n",
       " </div></div>"
      ],
      "text/plain": [
       "<IPython.core.display.HTML object>"
      ]
     },
     "metadata": {},
     "output_type": "display_data"
    }
   ],
   "source": [
    "res.display_results()"
   ]
  },
  {
   "cell_type": "markdown",
   "id": "c8665fbb-8f0f-4722-a524-880e42cffed3",
   "metadata": {},
   "source": [
    "## Export "
   ]
  },
  {
   "cell_type": "code",
   "execution_count": 2,
   "id": "925fe863-f406-4bf5-a55a-9ca2302c490b",
   "metadata": {},
   "outputs": [],
   "source": [
    "#| hide\n",
    "from nbdev import nbdev_export\n",
    "nbdev_export()"
   ]
  }
 ],
 "metadata": {
  "kernelspec": {
   "display_name": "data_science",
   "language": "python",
   "name": "data_science"
  },
  "language_info": {
   "codemirror_mode": {
    "name": "ipython",
    "version": 3
   },
   "file_extension": ".py",
   "mimetype": "text/x-python",
   "name": "python",
   "nbconvert_exporter": "python",
   "pygments_lexer": "ipython3",
   "version": "3.10.6"
  },
  "widgets": {
   "application/vnd.jupyter.widget-state+json": {
    "state": {},
    "version_major": 2,
    "version_minor": 0
   }
  }
 },
 "nbformat": 4,
 "nbformat_minor": 5
}
