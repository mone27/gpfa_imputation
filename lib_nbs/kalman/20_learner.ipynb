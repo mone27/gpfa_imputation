{
 "cells": [
  {
   "cell_type": "markdown",
   "id": "79a8a2d5-9f8d-483e-bbff-1e7b0f5c9a95",
   "metadata": {},
   "source": [
    "# Kalman Filter Models\n",
    "> Models that use Kalman filters that can be used for imputation and learn parameters with gradient descend"
   ]
  },
  {
   "cell_type": "code",
   "execution_count": null,
   "id": "3584a2e7-bb3c-4935-b11a-d50e96f68a87",
   "metadata": {},
   "outputs": [],
   "source": [
    "%load_ext autoreload\n",
    "%autoreload 2"
   ]
  },
  {
   "cell_type": "markdown",
   "id": "5d59a5ed-ce6d-4725-b667-ae36254aa8a7",
   "metadata": {},
   "source": [
    "## Introduction\n",
    "\n",
    "[TODO] add proper introduction here\n",
    "\n",
    "The models uses a latent state variable $x$ that is modelled over time, to impute gaps in $y$\n",
    "\n",
    "### Equations\n",
    "\n",
    "The equations of the model are:\n",
    "\n",
    "$$\\begin{align} p(x_t | x_{t-1}) & = \\mathcal{N}(x_t, Ax_{t-1}, Q) \\\\\n",
    "p(y_t | x_t) & = \\mathcal{N}(Hx_t, T) \\end{align}$$\n",
    "\n",
    "The Kalman filter has 3 steps:\n",
    "\n",
    "- filter (updating the state at time t with observations till time t-1)\n",
    "- update (update the state at time t using the observation at time t)\n",
    "- smooth (update the state using the observations at time t+1)\n",
    "\n",
    "In case of missing data the update step is skipped.\n",
    "\n",
    "After smoothing the whole dataset the missing data ($y_t$) can be imputed from the state ($x_t$) using this formula:\n",
    "$$p(y_t) = \\mathcal{N}(Hx_x, R + HP^s_tH)$$"
   ]
  },
  {
   "cell_type": "markdown",
   "id": "5757dfe3-3e22-4f0c-99c8-966db42fe59d",
   "metadata": {},
   "source": [
    "## Kalman Filter Model\n"
   ]
  },
  {
   "cell_type": "code",
   "execution_count": null,
   "id": "8861e95d-28c8-48c3-b492-85164209c096",
   "metadata": {},
   "outputs": [],
   "source": [
    "#| hide\n",
    "#| default_exp kalman.model"
   ]
  },
  {
   "cell_type": "code",
   "execution_count": null,
   "id": "be6a6e24-d39e-428a-98df-5597438e9eea",
   "metadata": {},
   "outputs": [],
   "source": [
    "#| export\n",
    "import pandas as pd\n",
    "from fastcore.basics import store_attr\n",
    "\n",
    "import numpy as np\n",
    "from fastcore.meta import delegates\n",
    "from fastcore.basics import patch\n",
    "\n",
    "from meteo_imp.results import ImputationResult, _plot_error_bar\n",
    "from meteo_imp.utils import *\n",
    "from meteo_imp.kalman.filter import KalmanFilter\n",
    "\n",
    "from torch import Tensor\n",
    "import torch\n",
    "from tqdm.auto import tqdm\n",
    "import altair as alt"
   ]
  },
  {
   "cell_type": "code",
   "execution_count": null,
   "id": "9151d751-38b0-4401-a1a7-556b39ad4e01",
   "metadata": {},
   "outputs": [],
   "source": [
    "#| export\n",
    "class KalmanModel():\n",
    "    \"\"\"Kalman Model wtih max likelihood and gradient descend to optimize paramters and support for missing observations\"\"\"\n",
    "    _var_names = None\n",
    "    def __init__(self,\n",
    "                 data: Tensor, # array of observations containg `NaN` for missing obs\n",
    "                 **kwargs):\n",
    "        self.data = data\n",
    "        self.n_obs = data.shape[0]\n",
    "        self.n_features = data.shape[1]\n",
    "        \n",
    "        kwargs = {**kwargs,\n",
    "               'n_dim_state': self.n_features,\n",
    "                'n_dim_obs': self.n_features\n",
    "               }\n",
    "        \n",
    "        self.filter = KalmanFilter(**kwargs)\n",
    "    \n",
    "    def train(self,  \n",
    "              times: Tensor|None, # for loss function times\n",
    "              obs_test: Tensor|None, # for loss function observations\n",
    "              n_iter: int=20,\n",
    "              lr=0.1,\n",
    "             ):\n",
    "        \"fit parameters by maximizing log likelihood using gradient descent\"\n",
    "        self.filter.train() # set training model for model\n",
    "        \n",
    "        if times is None and obs_test is None:\n",
    "            times = torch.arange(self.n_obs)\n",
    "            obs_test = self.data\n",
    "        \n",
    "        # Use the adam optimizer\n",
    "        optimizer = torch.optim.Adam(self.filter.parameters(), lr=lr) \n",
    "        \n",
    "        if not hasattr(self, 'losses'):\n",
    "            self.losses = torch.zeros(n_iter)\n",
    "            self.model_infos = [None for _ in range(n_iter)]\n",
    "            offset = 0\n",
    "        else:\n",
    "            self.losses = torch.concat([self.losses, torch.zeros(n_iter)])\n",
    "            self.model_infos.extend([None for _ in range(n_iter)])\n",
    "            offset = self.losses.shape[0]\n",
    "        \n",
    "        for i in tqdm(range(n_iter)):\n",
    "            optimizer.zero_grad()\n",
    "            # Output from model\n",
    "            # Calc loss and backprop gradients\n",
    "            loss = -self.filter.loglikelihood(self.data, times, obs_test)\n",
    "            self.losses[i + offset] = loss.detach()\n",
    "            loss.backward()\n",
    "            \n",
    "            self.model_infos[i + offset] = self.filter.get_info(self.var_names)\n",
    "\n",
    "            optimizer.step()\n",
    "        \n",
    "        \n",
    "        # mean, cov = self.filter.smooth(self.data) \n",
    "        # self.state = ListNormal(mean, cov)\n",
    "        return self\n",
    "    \n",
    "    @torch.no_grad()\n",
    "    def predict(self, t):\n",
    "        return self.filter.predict(self.data, t).detach()\n",
    "    \n",
    "    @property\n",
    "    def latent_names(self):\n",
    "        return [f\"z_{i}\" for i in range(self.filter.transition_matrices.shape[0])]\n",
    "    @property\n",
    "    def var_names(self):\n",
    "        return self._var_names if self._var_names is not None else [f\"x_{i}\" for i in range(self.n_features)]\n",
    "    \n",
    "    @var_names.setter\n",
    "    def var_names(self, var_names):\n",
    "        self._var_names = var_names\n",
    "    "
   ]
  },
  {
   "cell_type": "code",
   "execution_count": null,
   "id": "7450371e-3f4e-489c-b34b-94703095a198",
   "metadata": {},
   "outputs": [],
   "source": [
    "X = torch.arange(6).unsqueeze(0).T"
   ]
  },
  {
   "cell_type": "code",
   "execution_count": null,
   "id": "abef62bd-9a6e-4895-8360-f1d86a21afce",
   "metadata": {},
   "outputs": [
    {
     "data": {
      "text/plain": [
       "tensor([[0],\n",
       "        [1],\n",
       "        [2],\n",
       "        [3],\n",
       "        [4],\n",
       "        [5]])"
      ]
     },
     "execution_count": null,
     "metadata": {},
     "output_type": "execute_result"
    }
   ],
   "source": [
    "X"
   ]
  },
  {
   "cell_type": "code",
   "execution_count": null,
   "id": "0450aa5f-b6b7-406e-a0bc-7eb61f8b5945",
   "metadata": {},
   "outputs": [
    {
     "data": {
      "text/plain": [
       "torch.Size([6, 1])"
      ]
     },
     "execution_count": null,
     "metadata": {},
     "output_type": "execute_result"
    }
   ],
   "source": [
    "X.shape"
   ]
  },
  {
   "cell_type": "code",
   "execution_count": null,
   "id": "6767ae47-5952-41c5-9022-c13392561211",
   "metadata": {},
   "outputs": [],
   "source": [
    "k = KalmanModel(X)"
   ]
  },
  {
   "cell_type": "code",
   "execution_count": null,
   "id": "129bbfb1-f710-40de-9a98-521e420d86d9",
   "metadata": {},
   "outputs": [
    {
     "data": {
      "application/vnd.jupyter.widget-view+json": {
       "model_id": "e1d37bff65184aac9481256a77ae6393",
       "version_major": 2,
       "version_minor": 0
      },
      "text/plain": [
       "  0%|          | 0/10 [00:00<?, ?it/s]"
      ]
     },
     "metadata": {},
     "output_type": "display_data"
    },
    {
     "data": {
      "text/plain": [
       "<__main__.KalmanModel>"
      ]
     },
     "execution_count": null,
     "metadata": {},
     "output_type": "execute_result"
    }
   ],
   "source": [
    "k.train(None, None, n_iter = 10)"
   ]
  },
  {
   "cell_type": "code",
   "execution_count": null,
   "id": "e3fab16c-6c6d-4847-8077-bb9b36219ebf",
   "metadata": {},
   "outputs": [],
   "source": [
    "import matplotlib.pyplot as plt"
   ]
  },
  {
   "cell_type": "code",
   "execution_count": null,
   "id": "d0153601-631e-4273-98ae-af0909b010fe",
   "metadata": {},
   "outputs": [
    {
     "data": {
      "text/plain": [
       "[<matplotlib.lines.Line2D>]"
      ]
     },
     "execution_count": null,
     "metadata": {},
     "output_type": "execute_result"
    },
    {
     "data": {
      "image/png": "[encoded data removed]",
      "text/plain": [
       "<Figure size 432x288 with 1 Axes>"
      ]
     },
     "metadata": {
      "needs_background": "light"
     },
     "output_type": "display_data"
    }
   ],
   "source": [
    "plt.plot(k.losses)"
   ]
  },
  {
   "cell_type": "code",
   "execution_count": null,
   "id": "18bee9e5-360f-4cc8-9672-b28c9354d878",
   "metadata": {},
   "outputs": [],
   "source": [
    "T = torch.arange(1,X.shape[0])"
   ]
  },
  {
   "cell_type": "code",
   "execution_count": null,
   "id": "aafdb374-d571-49a3-a8bd-dbcb7d675ae1",
   "metadata": {},
   "outputs": [
    {
     "data": {
      "text/plain": [
       "tensor([1, 2, 3, 4, 5])"
      ]
     },
     "execution_count": null,
     "metadata": {},
     "output_type": "execute_result"
    }
   ],
   "source": [
    "T"
   ]
  },
  {
   "cell_type": "code",
   "execution_count": null,
   "id": "f1e95d13-59d5-4d3f-9512-1aece5b572aa",
   "metadata": {},
   "outputs": [
    {
     "data": {
      "text/plain": [
       "ListNormal(mean=tensor([[1.0892],\n",
       "        [1.9796],\n",
       "        [2.9386],\n",
       "        [4.0071],\n",
       "        [5.2515]], grad_fn=<CopySlices>), cov=tensor([[[0.5605]],\n",
       "\n",
       "        [[0.5763]],\n",
       "\n",
       "        [[0.5945]],\n",
       "\n",
       "        [[0.6328]],\n",
       "\n",
       "        [[0.7286]]], grad_fn=<CopySlices>))"
      ]
     },
     "execution_count": null,
     "metadata": {},
     "output_type": "execute_result"
    }
   ],
   "source": [
    "k.predict(T)"
   ]
  },
  {
   "cell_type": "markdown",
   "id": "eaa155bb-62bf-439a-a1ae-3e5e346ad744",
   "metadata": {},
   "source": [
    "### State"
   ]
  },
  {
   "cell_type": "code",
   "execution_count": null,
   "id": "21e031e1-8773-462a-b53f-885abe05410f",
   "metadata": {},
   "outputs": [],
   "source": [
    "#| export\n",
    "def _cov2std(x):\n",
    "    \"convert cov of array of covariances to array of stddev\"\n",
    "    return torch.diagonal(torch.sqrt(x), dim1=1, dim2=2)"
   ]
  },
  {
   "cell_type": "code",
   "execution_count": null,
   "id": "b2cae8cf-2991-46c0-9fc5-f54d27614e67",
   "metadata": {},
   "outputs": [],
   "source": [
    "#| export\n",
    "@patch\n",
    "def plot_state(self: KalmanModel, n_cols = 2, bind_interaction = True, properties={}):\n",
    "\n",
    "    s_mean, s_cov = self.state\n",
    "    s_std = _cov2std(s_cov)\n",
    "    \n",
    "    time = torch.arange(self.n_obs)\n",
    "    \n",
    "    mean = array2df(s_mean, time, self.latent_names, 'time').melt('time', value_name='mean')\n",
    "    std = array2df(s_std, time, self.latent_names, 'time').melt('time', value_name='std' )\n",
    "    \n",
    "    state = pd.merge(mean, std, on=['time', 'variable'])\n",
    "    \n",
    "    plot_list = [alt.hconcat() for _ in range(0, len(self.latent_names), n_cols)]\n",
    "    selection_scale = alt.selection_interval(bind=\"scales\", encodings=['x']) if bind_interaction else None\n",
    "    for idx, variable in enumerate(self.latent_names):\n",
    "        data = state[state.variable == variable]\n",
    "        plot_list[idx // n_cols] |= _plot_error_bar(data,\n",
    "                                                   variable,\n",
    "                                                   y_label = variable,\n",
    "                                                   sel = selection_scale, properties=properties)\n",
    "    \n",
    "    plot = alt.vconcat(*plot_list)\n",
    "    \n",
    "    return plot\n"
   ]
  },
  {
   "cell_type": "code",
   "execution_count": null,
   "id": "b6590609-dab1-4c7b-a1f6-a3c37b1c8b33",
   "metadata": {},
   "outputs": [],
   "source": [
    "# k.plot_state()"
   ]
  },
  {
   "cell_type": "markdown",
   "id": "20ef154b-7b6e-43f9-8d14-b3dc77f5ab82",
   "metadata": {},
   "source": [
    "### Plot Loss"
   ]
  },
  {
   "cell_type": "code",
   "execution_count": null,
   "id": "dfa20efe-8ec3-4b09-82a6-113b8a69fab8",
   "metadata": {},
   "outputs": [],
   "source": [
    "#| export\n",
    "@patch\n",
    "def plot_loss(self: KalmanModel, size={'width': 250, 'height': 120}):\n",
    "    \n",
    "    sel = alt.selection_interval(bind=\"scales\", encodings=['x'])\n",
    "    \n",
    "    plt_losses = alt.Chart(\n",
    "        pd.DataFrame({'loss': self.losses, 'n_iter': range(self.losses.shape[0])})\n",
    "    ).mark_line().encode(\n",
    "        x = 'n_iter',\n",
    "        y = alt.Y('loss', scale=alt.Scale(zero=False))\n",
    "    ).properties(title=\"loss\", **size).add_selection(sel)\n",
    "    \n",
    "    return plt_losses"
   ]
  },
  {
   "cell_type": "code",
   "execution_count": null,
   "id": "56c6bf0e-d0a7-49cc-b8ab-f9f4408d38cc",
   "metadata": {},
   "outputs": [
    {
     "name": "stderr",
     "output_type": "stream",
     "text": [
      "/home/simone/.local/lib/python3.10/site-packages/altair/utils/core.py:317: FutureWarning: iteritems is deprecated and will be removed in a future version. Use .items instead.\n",
      "  for col_name, dtype in df.dtypes.iteritems():\n"
     ]
    },
    {
     "data": {
      "text/html": [
       "\n",
       "<div id=\"altair-viz-c9d7991829224890910c137bf587ed03\"></div>\n",
       "<script type=\"text/javascript\">\n",
       "  var VEGA_DEBUG = (typeof VEGA_DEBUG == \"undefined\") ? {} : VEGA_DEBUG;\n",
       "  (function(spec, embedOpt){\n",
       "    let outputDiv = document.currentScript.previousElementSibling;\n",
       "    if (outputDiv.id !== \"altair-viz-c9d7991829224890910c137bf587ed03\") {\n",
       "      outputDiv = document.getElementById(\"altair-viz-c9d7991829224890910c137bf587ed03\");\n",
       "    }\n",
       "    const paths = {\n",
       "      \"vega\": \"https://cdn.jsdelivr.net/npm//vega@5?noext\",\n",
       "      \"vega-lib\": \"https://cdn.jsdelivr.net/npm//vega-lib?noext\",\n",
       "      \"vega-lite\": \"https://cdn.jsdelivr.net/npm//vega-lite@4.17.0?noext\",\n",
       "      \"vega-embed\": \"https://cdn.jsdelivr.net/npm//vega-embed@6?noext\",\n",
       "    };\n",
       "\n",
       "    function maybeLoadScript(lib, version) {\n",
       "      var key = `${lib.replace(\"-\", \"\")}_version`;\n",
       "      return (VEGA_DEBUG[key] == version) ?\n",
       "        Promise.resolve(paths[lib]) :\n",
       "        new Promise(function(resolve, reject) {\n",
       "          var s = document.createElement('script');\n",
       "          document.getElementsByTagName(\"head\")[0].appendChild(s);\n",
       "          s.async = true;\n",
       "          s.onload = () => {\n",
       "            VEGA_DEBUG[key] = version;\n",
       "            return resolve(paths[lib]);\n",
       "          };\n",
       "          s.onerror = () => reject(`Error loading script: ${paths[lib]}`);\n",
       "          s.src = paths[lib];\n",
       "        });\n",
       "    }\n",
       "\n",
       "    function showError(err) {\n",
       "      outputDiv.innerHTML = `<div class=\"error\" style=\"color:red;\">${err}</div>`;\n",
       "      throw err;\n",
       "    }\n",
       "\n",
       "    function displayChart(vegaEmbed) {\n",
       "      vegaEmbed(outputDiv, spec, embedOpt)\n",
       "        .catch(err => showError(`Javascript Error: ${err.message}<br>This usually means there's a typo in your chart specification. See the javascript console for the full traceback.`));\n",
       "    }\n",
       "\n",
       "    if(typeof define === \"function\" && define.amd) {\n",
       "      requirejs.config({paths});\n",
       "      require([\"vega-embed\"], displayChart, err => showError(`Error loading script: ${err.message}`));\n",
       "    } else {\n",
       "      maybeLoadScript(\"vega\", \"5\")\n",
       "        .then(() => maybeLoadScript(\"vega-lite\", \"4.17.0\"))\n",
       "        .then(() => maybeLoadScript(\"vega-embed\", \"6\"))\n",
       "        .catch(showError)\n",
       "        .then(() => displayChart(vegaEmbed));\n",
       "    }\n",
       "  })({\"config\": {\"view\": {\"continuousWidth\": 400, \"continuousHeight\": 300}}, \"data\": {\"name\": \"data-a8720f44181607d6cdc8607378ed8fd5\"}, \"mark\": \"line\", \"encoding\": {\"x\": {\"field\": \"n_iter\", \"type\": \"quantitative\"}, \"y\": {\"field\": \"loss\", \"scale\": {\"zero\": false}, \"type\": \"quantitative\"}}, \"height\": 120, \"selection\": {\"selector001\": {\"type\": \"interval\", \"bind\": \"scales\", \"encodings\": [\"x\"]}}, \"title\": \"loss\", \"width\": 250, \"$schema\": \"https://vega.github.io/schema/vega-lite/v4.17.0.json\", \"datasets\": {\"data-a8720f44181607d6cdc8607378ed8fd5\": [{\"loss\": 6.8549299240112305, \"n_iter\": 0}, {\"loss\": 6.500252723693848, \"n_iter\": 1}, {\"loss\": 6.1765851974487305, \"n_iter\": 2}, {\"loss\": 5.878602027893066, \"n_iter\": 3}, {\"loss\": 5.64905309677124, \"n_iter\": 4}, {\"loss\": 5.412032127380371, \"n_iter\": 5}, {\"loss\": 5.114097595214844, \"n_iter\": 6}, {\"loss\": 4.886614799499512, \"n_iter\": 7}, {\"loss\": 4.623524188995361, \"n_iter\": 8}, {\"loss\": 4.297935962677002, \"n_iter\": 9}]}}, {\"mode\": \"vega-lite\"});\n",
       "</script>"
      ],
      "text/plain": [
       "alt.Chart(...)"
      ]
     },
     "execution_count": null,
     "metadata": {},
     "output_type": "execute_result"
    }
   ],
   "source": [
    "k.plot_loss()"
   ]
  },
  {
   "cell_type": "markdown",
   "id": "a62027a8-b85f-4ef5-ac31-4a37fabce49f",
   "metadata": {},
   "source": [
    "## Export "
   ]
  },
  {
   "cell_type": "code",
   "execution_count": null,
   "id": "be47bac6-1bac-4b5d-a880-7ddfe17cca68",
   "metadata": {},
   "outputs": [],
   "source": [
    "#| hide\n",
    "from nbdev import nbdev_export\n",
    "nbdev_export()"
   ]
  }
 ],
 "metadata": {
  "kernelspec": {
   "display_name": "data_science",
   "language": "python",
   "name": "data_science"
  },
  "widgets": {
   "application/vnd.jupyter.widget-state+json": {
    "state": {},
    "version_major": 2,
    "version_minor": 0
   }
  }
 },
 "nbformat": 4,
 "nbformat_minor": 5
}
