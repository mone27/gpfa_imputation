{
 "cells": [
  {
   "cell_type": "markdown",
   "id": "74510339-27d6-4c23-8e42-773c607c24f9",
   "metadata": {},
   "source": [
    "# Filter Perfomance and Stability\n",
    "> Measure performance between Standard Filter/ Square Root Filter, CPU/GPU, batched/not batched "
   ]
  },
  {
   "cell_type": "code",
   "execution_count": null,
   "id": "57670a22-3ebf-4c31-8cf5-f16d1684f28f",
   "metadata": {},
   "outputs": [],
   "source": [
    "%load_ext autoreload\n",
    "%autoreload 2"
   ]
  },
  {
   "cell_type": "code",
   "execution_count": null,
   "id": "e5013801-173b-4e2f-9d24-49a9f48aa94e",
   "metadata": {},
   "outputs": [],
   "source": [
    "from fastcore.test import *\n",
    "from fastcore.basics import *\n",
    "from meteo_imp.utils import *\n",
    "from meteo_imp.gaussian import *\n",
    "from meteo_imp.data_preparation import MeteoDataTest\n",
    "from meteo_imp.kalman.filter import *\n",
    "from meteo_imp.kalman.filter import get_test_data\n",
    "\n",
    "import pykalman\n",
    "from typing import *\n",
    "\n",
    "import numpy as np\n",
    "import pandas as pd\n",
    "import torch\n",
    "from torch import Tensor\n",
    "from torch.distributions import MultivariateNormal"
   ]
  },
  {
   "cell_type": "code",
   "execution_count": null,
   "id": "81713ec6-51a2-4b6b-b616-9f70291fe86d",
   "metadata": {},
   "outputs": [],
   "source": [
    "reset_seed()"
   ]
  },
  {
   "cell_type": "code",
   "execution_count": null,
   "id": "74a751e0-12de-41e3-ac96-bbe349a0ebbe",
   "metadata": {},
   "outputs": [],
   "source": [
    "kSR = KalmanFilterSR.init_random(3,4,3)\n",
    "data, mask, control = get_test_data(15, 3,3)"
   ]
  },
  {
   "cell_type": "code",
   "execution_count": null,
   "id": "50d90a59-36a8-4d11-bd36-d5d2cb1ccee3",
   "metadata": {},
   "outputs": [
    {
     "data": {
      "text/plain": [
       "torch.Size([2, 15, 3])"
      ]
     },
     "execution_count": null,
     "metadata": {},
     "output_type": "execute_result"
    }
   ],
   "source": [
    "data.shape"
   ]
  },
  {
   "cell_type": "code",
   "execution_count": null,
   "id": "f40988dc-9041-4326-b438-1d4ce5ff5a2b",
   "metadata": {},
   "outputs": [
    {
     "data": {
      "text/plain": [
       "torch.Size([2, 3, 4, 4])"
      ]
     },
     "execution_count": null,
     "metadata": {},
     "output_type": "execute_result"
    }
   ],
   "source": [
    "kSR.filter(data, mask, control).cov.shape"
   ]
  },
  {
   "cell_type": "code",
   "execution_count": null,
   "id": "77c70337-540e-4f28-be84-9c8a6505e880",
   "metadata": {},
   "outputs": [
    {
     "data": {
      "text/plain": [
       "torch.Size([2, 3, 4, 1])"
      ]
     },
     "execution_count": null,
     "metadata": {},
     "output_type": "execute_result"
    }
   ],
   "source": [
    "filt.mean.shape"
   ]
  },
  {
   "cell_type": "code",
   "execution_count": null,
   "id": "42968481-eb7e-40f2-9f37-a42565875e6d",
   "metadata": {},
   "outputs": [],
   "source": [
    "k = KalmanFilter.init_from(kSR)"
   ]
  },
  {
   "cell_type": "code",
   "execution_count": null,
   "id": "7b71cf70-4658-460d-972f-8fa9b1f3204a",
   "metadata": {},
   "outputs": [
    {
     "data": {
      "text/plain": [
       "torch.Size([2, 15, 4, 4])"
      ]
     },
     "execution_count": null,
     "metadata": {},
     "output_type": "execute_result"
    }
   ],
   "source": [
    "k.filter(data, mask, control).cov.shape"
   ]
  },
  {
   "cell_type": "code",
   "execution_count": null,
   "id": "b6794ff4-1bad-4843-bd31-8515166f7a27",
   "metadata": {},
   "outputs": [],
   "source": [
    "class KalmanFilterPerformance():\n",
    "    def __init__(n_obs, n_dim_obs, n_dim_state, n_dim_contr, bs):\n",
    "        store_attr()\n",
    "        \n",
    "    "
   ]
  },
  {
   "cell_type": "markdown",
   "id": "6f3cca4b-c777-4231-b49b-3788899d19c5",
   "metadata": {},
   "source": [
    "## Performance"
   ]
  },
  {
   "cell_type": "code",
   "execution_count": null,
   "id": "66febfef-b657-406e-9eda-1801270cb22f",
   "metadata": {},
   "outputs": [],
   "source": [
    "def compare_performance(n_obs, n_dim_obs, n_dim_state, n_dim_contr, bs, dtype=torch.float64):\n",
    "    kf_cuda = KalmanFilter.init_random(n_dim_obs,n_dim_state, dtype=dtype).cuda()\n",
    "    data_cuda, mask_cuda = get_test_data(n_dim_obs,n_dim_state, bs=bs, device=\"cuda\", dtype=dtype)\n",
    "    \n",
    "    print(\"GPU\")\n",
    "    %timeit -n 1 -r 1 kf_cuda.predict(data_cuda, mask_cuda);\n",
    "\n",
    "    kf_cuda = KalmanFilter.init_random(n_dim_obs,n_dim_state, dtype=dtype)\n",
    "    data_cuda, mask_cuda = get_test_data(n_dim_obs,n_dim_state, bs=bs, dtype=dtype)\n",
    "    print(\"CPU\")\n",
    "    %timeit -n 1 -r 1 kf.predict(data, mask)\n",
    "    print(\"No batches CPU\")\n",
    "    %timeit -n 1 -r 1 [kf.predict(d.unsqueeze(0), m.unsqueeze(0)) for d,m in zip(data, mask)] \n",
    "    print(\"No batches GPU\")\n",
    "    %timeit -n 1 -r 1 [kf_cuda.predict(d.unsqueeze(0), m.unsqueeze(0)) for d,m in zip(data_cuda, mask_cuda)] "
   ]
  },
  {
   "cell_type": "code",
   "execution_count": null,
   "id": "d0a8bd1a-cafc-4378-a10a-cd8ae23d4b34",
   "metadata": {},
   "outputs": [
    {
     "name": "stdout",
     "output_type": "stream",
     "text": [
      "GPU\n",
      "87.9 ms ± 0 ns per loop (mean ± std. dev. of 1 run, 1 loop each)\n",
      "CPU\n",
      "7.83 s ± 0 ns per loop (mean ± std. dev. of 1 run, 1 loop each)\n",
      "No batches CPU\n",
      "12.9 s ± 0 ns per loop (mean ± std. dev. of 1 run, 1 loop each)\n",
      "No batches GPU\n",
      "154 ms ± 0 ns per loop (mean ± std. dev. of 1 run, 1 loop each)\n"
     ]
    }
   ],
   "source": [
    "compare_performance(100, 2,2,100)"
   ]
  },
  {
   "cell_type": "code",
   "execution_count": null,
   "id": "d9b29458-13b8-4f60-815b-3fbf1fbbb278",
   "metadata": {},
   "outputs": [
    {
     "name": "stdout",
     "output_type": "stream",
     "text": [
      "GPU\n",
      "2.04 s ± 0 ns per loop (mean ± std. dev. of 1 run, 1 loop each)\n",
      "CPU\n",
      "7.9 s ± 0 ns per loop (mean ± std. dev. of 1 run, 1 loop each)\n",
      "No batches CPU\n",
      "13.5 s ± 0 ns per loop (mean ± std. dev. of 1 run, 1 loop each)\n",
      "No batches GPU\n",
      "2.07 s ± 0 ns per loop (mean ± std. dev. of 1 run, 1 loop each)\n"
     ]
    }
   ],
   "source": [
    "compare_performance(200, 10,10,200)"
   ]
  },
  {
   "cell_type": "markdown",
   "id": "50ca2762-d803-44d2-9da2-1ac68e1da3d6",
   "metadata": {},
   "source": [
    "### Float64"
   ]
  },
  {
   "cell_type": "code",
   "execution_count": null,
   "id": "94cddcec-e1f9-4e75-b941-6b44dfd88b9c",
   "metadata": {},
   "outputs": [
    {
     "name": "stdout",
     "output_type": "stream",
     "text": [
      "GPU\n",
      "100 ms ± 0 ns per loop (mean ± std. dev. of 1 run, 1 loop each)\n",
      "CPU\n",
      "8.29 s ± 0 ns per loop (mean ± std. dev. of 1 run, 1 loop each)\n",
      "No batches CPU\n",
      "13.9 s ± 0 ns per loop (mean ± std. dev. of 1 run, 1 loop each)\n",
      "No batches GPU\n",
      "159 ms ± 0 ns per loop (mean ± std. dev. of 1 run, 1 loop each)\n"
     ]
    }
   ],
   "source": [
    "compare_performance(100, 2,2,100, dtype=torch.float64)"
   ]
  },
  {
   "cell_type": "code",
   "execution_count": null,
   "id": "42a6048e-02b5-4a4a-83bc-35e2678f631f",
   "metadata": {},
   "outputs": [
    {
     "name": "stdout",
     "output_type": "stream",
     "text": [
      "GPU\n",
      "2.22 s ± 0 ns per loop (mean ± std. dev. of 1 run, 1 loop each)\n",
      "CPU\n",
      "8.35 s ± 0 ns per loop (mean ± std. dev. of 1 run, 1 loop each)\n",
      "No batches CPU\n",
      "13.7 s ± 0 ns per loop (mean ± std. dev. of 1 run, 1 loop each)\n",
      "No batches GPU\n",
      "2.01 s ± 0 ns per loop (mean ± std. dev. of 1 run, 1 loop each)\n"
     ]
    }
   ],
   "source": [
    "compare_performance(200, 10,10,200, dtype=torch.float64)"
   ]
  },
  {
   "cell_type": "markdown",
   "id": "3bc30140-69f8-4887-9d62-29b6c9919ad3",
   "metadata": {},
   "source": [
    "## Stability"
   ]
  },
  {
   "cell_type": "code",
   "execution_count": null,
   "id": "feab4765-07e1-4fa2-b158-10e5e51b8add",
   "metadata": {},
   "outputs": [],
   "source": [
    "import polars as pl\n",
    "import altair as alt\n",
    "from altair import datum"
   ]
  },
  {
   "cell_type": "code",
   "execution_count": null,
   "id": "a90d14fe-8d76-400b-953b-f0b0977f76d5",
   "metadata": {},
   "outputs": [],
   "source": [
    "def fuzz_filter_SR(n_iter=10, n_obs=50):\n",
    "    reset_seed(27)\n",
    "    out = []\n",
    "    for n in range(n_iter):\n",
    "        k = KalmanFilter.init_random(10,5,8)\n",
    "        kSR = KalmanFilterSR.init_from(k)\n",
    "        data, mask, control = get_test_data(n_obs,10,8)\n",
    "        filt = k.filter(data, mask, control)\n",
    "        filtSR = kSR.filter(data, mask, control)\n",
    "        for t in range(n_obs):\n",
    "            P = filt.cov[:,t]\n",
    "            P_C = filtSR.cov[:,t]\n",
    "            out.append({'t': t, 'n': n, 'MAE': (P - P_C @ P_C.mT).abs().mean().item()})\n",
    "    return pl.DataFrame(out)"
   ]
  },
  {
   "cell_type": "code",
   "execution_count": null,
   "id": "b1f259f8-e0b0-49df-96c1-e1b7a2066d8a",
   "metadata": {},
   "outputs": [],
   "source": [
    "err_raw = fuzz_filter_SR(70, 62)"
   ]
  },
  {
   "cell_type": "code",
   "execution_count": null,
   "id": "ec7c5d5e-f3ac-41d8-b3d4-2029684ae4c9",
   "metadata": {},
   "outputs": [],
   "source": [
    "err = err_raw.groupby('t').agg([\n",
    "    pl.col('MAE').median().alias(\"median\"),\n",
    "    pl.col('MAE').quantile(.75).alias(\"Q3\"),\n",
    "    pl.col('MAE').quantile(.25).alias(\"Q1\"),\n",
    "    pl.col('MAE').max().alias(\"max\")\n",
    "])"
   ]
  },
  {
   "cell_type": "code",
   "execution_count": null,
   "id": "dc6e0b99-41b9-4be7-901f-d541f8a0e614",
   "metadata": {},
   "outputs": [
    {
     "data": {
      "text/html": [
       "\n",
       "<div id=\"altair-viz-5475d87082c84421b180c4f7b321b5ca\"></div>\n",
       "<script type=\"text/javascript\">\n",
       "  var VEGA_DEBUG = (typeof VEGA_DEBUG == \"undefined\") ? {} : VEGA_DEBUG;\n",
       "  (function(spec, embedOpt){\n",
       "    let outputDiv = document.currentScript.previousElementSibling;\n",
       "    if (outputDiv.id !== \"altair-viz-5475d87082c84421b180c4f7b321b5ca\") {\n",
       "      outputDiv = document.getElementById(\"altair-viz-5475d87082c84421b180c4f7b321b5ca\");\n",
       "    }\n",
       "    const paths = {\n",
       "      \"vega\": \"https://cdn.jsdelivr.net/npm//vega@5?noext\",\n",
       "      \"vega-lib\": \"https://cdn.jsdelivr.net/npm//vega-lib?noext\",\n",
       "      \"vega-lite\": \"https://cdn.jsdelivr.net/npm//vega-lite@5.2.0?noext\",\n",
       "      \"vega-embed\": \"https://cdn.jsdelivr.net/npm//vega-embed@6?noext\",\n",
       "    };\n",
       "\n",
       "    function maybeLoadScript(lib, version) {\n",
       "      var key = `${lib.replace(\"-\", \"\")}_version`;\n",
       "      return (VEGA_DEBUG[key] == version) ?\n",
       "        Promise.resolve(paths[lib]) :\n",
       "        new Promise(function(resolve, reject) {\n",
       "          var s = document.createElement('script');\n",
       "          document.getElementsByTagName(\"head\")[0].appendChild(s);\n",
       "          s.async = true;\n",
       "          s.onload = () => {\n",
       "            VEGA_DEBUG[key] = version;\n",
       "            return resolve(paths[lib]);\n",
       "          };\n",
       "          s.onerror = () => reject(`Error loading script: ${paths[lib]}`);\n",
       "          s.src = paths[lib];\n",
       "        });\n",
       "    }\n",
       "\n",
       "    function showError(err) {\n",
       "      outputDiv.innerHTML = `<div class=\"error\" style=\"color:red;\">${err}</div>`;\n",
       "      throw err;\n",
       "    }\n",
       "\n",
       "    function displayChart(vegaEmbed) {\n",
       "      vegaEmbed(outputDiv, spec, embedOpt)\n",
       "        .catch(err => showError(`Javascript Error: ${err.message}<br>This usually means there's a typo in your chart specification. See the javascript console for the full traceback.`));\n",
       "    }\n",
       "\n",
       "    if(typeof define === \"function\" && define.amd) {\n",
       "      requirejs.config({paths});\n",
       "      require([\"vega-embed\"], displayChart, err => showError(`Error loading script: ${err.message}`));\n",
       "    } else {\n",
       "      maybeLoadScript(\"vega\", \"5\")\n",
       "        .then(() => maybeLoadScript(\"vega-lite\", \"5.2.0\"))\n",
       "        .then(() => maybeLoadScript(\"vega-embed\", \"6\"))\n",
       "        .catch(showError)\n",
       "        .then(() => displayChart(vegaEmbed));\n",
       "    }\n",
       "  })({\"config\": {\"view\": {\"continuousWidth\": 400, \"continuousHeight\": 300}}, \"layer\": [{\"data\": {\"name\": \"data-00375513db53aa6a7d7ad37c5e84d41c\"}, \"mark\": {\"type\": \"line\", \"color\": \"dimgray\", \"strokeDash\": [4, 6]}, \"encoding\": {\"strokeDash\": {\"datum\": \"quantile\"}, \"x\": {\"field\": \"t\", \"type\": \"quantitative\"}, \"y\": {\"field\": \"Q1\", \"type\": \"quantitative\"}}, \"name\": \"view_24\"}, {\"data\": {\"name\": \"data-00375513db53aa6a7d7ad37c5e84d41c\"}, \"mark\": {\"type\": \"line\", \"color\": \"dimgray\", \"strokeDash\": [4, 6]}, \"encoding\": {\"strokeDash\": {\"datum\": \"quantile\"}, \"x\": {\"field\": \"t\", \"type\": \"quantitative\"}, \"y\": {\"field\": \"Q3\", \"type\": \"quantitative\"}}}, {\"data\": {\"name\": \"data-00375513db53aa6a7d7ad37c5e84d41c\"}, \"mark\": {\"type\": \"line\", \"color\": \"black\", \"strokeDash\": [2, 2]}, \"encoding\": {\"strokeDash\": {\"datum\": \"max\"}, \"x\": {\"field\": \"t\", \"type\": \"quantitative\"}, \"y\": {\"field\": \"max\", \"type\": \"quantitative\"}}}, {\"data\": {\"name\": \"data-00375513db53aa6a7d7ad37c5e84d41c\"}, \"mark\": {\"type\": \"line\", \"color\": \"black\"}, \"encoding\": {\"strokeDash\": {\"datum\": \"median\"}, \"x\": {\"field\": \"t\", \"title\": \"Number of Iterations\", \"type\": \"quantitative\"}, \"y\": {\"axis\": {\"format\": \".1e\"}, \"field\": \"median\", \"scale\": {\"type\": \"log\"}, \"title\": \"MAE\", \"type\": \"quantitative\"}}}], \"params\": [{\"name\": \"param_27\", \"select\": {\"type\": \"interval\", \"encodings\": [\"x\", \"y\"]}, \"bind\": \"scales\", \"views\": [\"view_24\"]}], \"title\": \"Standard Filter vs Square Root Filter (Mean Absolute Error of state cavariances)\", \"$schema\": \"https://vega.github.io/schema/vega-lite/v5.2.0.json\", \"datasets\": {\"data-00375513db53aa6a7d7ad37c5e84d41c\": [{\"t\": 48, \"median\": 6.483528991463317e-17, \"Q3\": 9.030970415935258e-17, \"Q1\": 4.1637700232133315e-17, \"max\": 4.6588097485235345e-07}, {\"t\": 32, \"median\": 6.462712309751594e-17, \"Q3\": 1.193142806776848e-16, \"Q1\": 4.000272335602517e-17, \"max\": 4.296938870169964e-10}, {\"t\": 16, \"median\": 6.357327858586004e-17, \"Q3\": 1.0168949016176043e-16, \"Q1\": 3.7244513029222046e-17, \"max\": 5.824758557426701e-13}, {\"t\": 0, \"median\": 4.395789288125229e-16, \"Q3\": 6.250382156292034e-16, \"Q1\": 2.7389548962197805e-16, \"max\": 3.403059084527982e-15}, {\"t\": 47, \"median\": 6.510417205340957e-17, \"Q3\": 1.0026701691145945e-16, \"Q1\": 4.172172590050094e-17, \"max\": 3.7385586251575954e-07}, {\"t\": 15, \"median\": 6.146016855168579e-17, \"Q3\": 9.874046025259986e-17, \"Q1\": 4.175479406676175e-17, \"max\": 4.614394283342093e-13}, {\"t\": 31, \"median\": 6.419344222852174e-17, \"Q3\": 9.280770596475918e-17, \"Q1\": 4.044507784239926e-17, \"max\": 3.0785085862461426e-10}, {\"t\": 14, \"median\": 6.637052019087265e-17, \"Q3\": 1.1027637136784563e-16, \"Q1\": 4.0751907057212656e-17, \"max\": 1.5866613578552347e-13}, {\"t\": 30, \"median\": 6.689581614344187e-17, \"Q3\": 1.28499641482982e-16, \"Q1\": 3.931750758301433e-17, \"max\": 1.2930449022272027e-10}, {\"t\": 46, \"median\": 7.170262647515635e-17, \"Q3\": 1.1471726346634625e-16, \"Q1\": 4.1858877475320353e-17, \"max\": 1.777756667314251e-07}, {\"t\": 29, \"median\": 6.369470922917842e-17, \"Q3\": 1.1171619185290639e-16, \"Q1\": 4.162252140171851e-17, \"max\": 1.2490700251888143e-10}, {\"t\": 13, \"median\": 6.476373257124913e-17, \"Q3\": 9.578926193909432e-17, \"Q1\": 4.028027911218146e-17, \"max\": 8.99446576246854e-14}, {\"t\": 45, \"median\": 6.648436141898362e-17, \"Q3\": 1.0657869985858381e-16, \"Q1\": 4.0054765060304476e-17, \"max\": 9.882439590663469e-08}, {\"t\": 61, \"median\": 5.960835124108054e-17, \"Q3\": 1.0797786276217635e-16, \"Q1\": 4.315992008230296e-17, \"max\": 0.00010680893764021587}, {\"t\": 60, \"median\": 6.496485207424518e-17, \"Q3\": 1.0914012749108082e-16, \"Q1\": 4.3250993064791745e-17, \"max\": 7.769712868183915e-05}, {\"t\": 44, \"median\": 6.57995691624464e-17, \"Q3\": 1.0384054727197167e-16, \"Q1\": 4.158565852785401e-17, \"max\": 6.332628627386642e-08}, {\"t\": 28, \"median\": 7.297114301696439e-17, \"Q3\": 1.1476496836193561e-16, \"Q1\": 4.6357774390048955e-17, \"max\": 7.431258541791726e-11}, {\"t\": 12, \"median\": 6.203371150093063e-17, \"Q3\": 1.2385925618474404e-16, \"Q1\": 3.4208746946262634e-17, \"max\": 4.7644856809858637e-14}, {\"t\": 59, \"median\": 7.076153898943893e-17, \"Q3\": 1.0801309933278214e-16, \"Q1\": 4.414003884622986e-17, \"max\": 3.1859002855668224e-05}, {\"t\": 27, \"median\": 6.614392193682316e-17, \"Q3\": 1.0299053276874303e-16, \"Q1\": 4.453252003266961e-17, \"max\": 6.142484290302952e-11}, {\"t\": 43, \"median\": 6.67391489295177e-17, \"Q3\": 1.133815263898441e-16, \"Q1\": 3.982925100842749e-17, \"max\": 6.724570593660481e-08}, {\"t\": 11, \"median\": 5.923430149157305e-17, \"Q3\": 1.0619977119930013e-16, \"Q1\": 3.832004158432767e-17, \"max\": 2.796764989737577e-14}, {\"t\": 26, \"median\": 6.845652517073475e-17, \"Q3\": 1.2155207396169486e-16, \"Q1\": 4.122512742418469e-17, \"max\": 3.2053470468140775e-11}, {\"t\": 10, \"median\": 7.292289602028879e-17, \"Q3\": 1.122019144261799e-16, \"Q1\": 3.943893822633271e-17, \"max\": 2.3773535223758913e-14}, {\"t\": 58, \"median\": 6.385517115070627e-17, \"Q3\": 1.2820907530075587e-16, \"Q1\": 4.08006961549745e-17, \"max\": 2.4610220399780542e-05}, {\"t\": 42, \"median\": 6.760434226316114e-17, \"Q3\": 1.1355716714178678e-16, \"Q1\": 3.880142734891123e-17, \"max\": 3.283477114290542e-08}, {\"t\": 57, \"median\": 6.169760882746011e-17, \"Q3\": 1.033895191682177e-16, \"Q1\": 4.149458554536523e-17, \"max\": 1.824420705727167e-05}, {\"t\": 9, \"median\": 6.339546942957242e-17, \"Q3\": 1.0661610483353457e-16, \"Q1\": 4.1026210206851485e-17, \"max\": 1.44796544546133e-14}, {\"t\": 25, \"median\": 6.538606461825579e-17, \"Q3\": 1.4094628242311558e-16, \"Q1\": 4.1815509388420936e-17, \"max\": 2.2880111780892996e-11}, {\"t\": 41, \"median\": 6.315911335597057e-17, \"Q3\": 9.465410226450199e-17, \"Q1\": 4.6022213817664694e-17, \"max\": 1.768313799702017e-08}, {\"t\": 8, \"median\": 6.591407107625625e-17, \"Q3\": 1.0817735596191369e-16, \"Q1\": 4.206704429243757e-17, \"max\": 8.323255279441e-15}, {\"t\": 56, \"median\": 6.524294993148771e-17, \"Q3\": 1.1095291352347658e-16, \"Q1\": 4.190224556221978e-17, \"max\": 1.2879462216608614e-05}, {\"t\": 40, \"median\": 6.262351748276273e-17, \"Q3\": 8.975459264704e-17, \"Q1\": 3.776493007201509e-17, \"max\": 1.5309922082422378e-08}, {\"t\": 24, \"median\": 6.209442682258981e-17, \"Q3\": 1.2640929969442994e-16, \"Q1\": 4.0184869321002735e-17, \"max\": 1.565686505791697e-11}, {\"t\": 55, \"median\": 6.701887309001898e-17, \"Q3\": 1.0167214292700066e-16, \"Q1\": 4.0401709755499836e-17, \"max\": 6.798174122960455e-06}, {\"t\": 39, \"median\": 6.974889416033746e-17, \"Q3\": 1.0522832605275311e-16, \"Q1\": 4.163336342344337e-17, \"max\": 1.608706531698329e-08}, {\"t\": 23, \"median\": 6.191661766630218e-17, \"Q3\": 1.249694792093692e-16, \"Q1\": 4.558744874649801e-17, \"max\": 7.39920884978984e-12}, {\"t\": 7, \"median\": 7.215582298325529e-17, \"Q3\": 1.0897153405325933e-16, \"Q1\": 4.191959279697954e-17, \"max\": 4.97108972909166e-15}, {\"t\": 6, \"median\": 6.559639983971799e-17, \"Q3\": 1.209275735103432e-16, \"Q1\": 4.043206741632943e-17, \"max\": 3.5098378196873893e-15}, {\"t\": 38, \"median\": 6.250208683944436e-17, \"Q3\": 1.0733601507606494e-16, \"Q1\": 4.1390502136806616e-17, \"max\": 1.4010651909375504e-08}, {\"t\": 22, \"median\": 7.323460414487837e-17, \"Q3\": 1.1109169140155474e-16, \"Q1\": 4.708906875539043e-17, \"max\": 4.696763967332318e-12}, {\"t\": 54, \"median\": 6.377277178559738e-17, \"Q3\": 1.008129127053059e-16, \"Q1\": 3.828534711480813e-17, \"max\": 5.7452269289324544e-06}, {\"t\": 53, \"median\": 6.256524161599164e-17, \"Q3\": 1.1200458963078752e-16, \"Q1\": 4.420725938092396e-17, \"max\": 3.105396170395916e-06}, {\"t\": 37, \"median\": 5.876809455740428e-17, \"Q3\": 1.0074406586735308e-16, \"Q1\": 3.869083872731771e-17, \"max\": 8.053640584990487e-09}, {\"t\": 21, \"median\": 6.210310043996969e-17, \"Q3\": 1.0401401961956935e-16, \"Q1\": 4.260480856999038e-17, \"max\": 1.0765182443389642e-11}, {\"t\": 5, \"median\": 8.082076674575945e-17, \"Q3\": 1.448494102440634e-16, \"Q1\": 4.150325916274511e-17, \"max\": 4.782793085189585e-15}, {\"t\": 4, \"median\": 8.979362392524948e-17, \"Q3\": 1.6377090655828041e-16, \"Q1\": 4.846817391879199e-17, \"max\": 6.6392551179017545e-15}, {\"t\": 52, \"median\": 6.426283116756082e-17, \"Q3\": 1.057313958607864e-16, \"Q1\": 4.002007059078494e-17, \"max\": 2.70681803708173e-06}, {\"t\": 36, \"median\": 6.673047531213783e-17, \"Q3\": 1.1130853183605184e-16, \"Q1\": 4.043640422501937e-17, \"max\": 5.3189454275910654e-09}, {\"t\": 20, \"median\": 6.070664804180837e-17, \"Q3\": 1.155672779695749e-16, \"Q1\": 3.8927194800919553e-17, \"max\": 1.9706281155495997e-11}, {\"t\": 3, \"median\": 9.481036290261147e-17, \"Q3\": 1.527857701466573e-16, \"Q1\": 5.526178473158616e-17, \"max\": 3.790735086939279e-15}, {\"t\": 19, \"median\": 6.686925319021597e-17, \"Q3\": 9.467253370143425e-17, \"Q1\": 4.274358644806853e-17, \"max\": 5.892505892945987e-12}, {\"t\": 51, \"median\": 6.957975862142973e-17, \"Q3\": 1.0332013022917863e-16, \"Q1\": 4.669875597329565e-17, \"max\": 2.0928691613127103e-06}, {\"t\": 35, \"median\": 6.487432119284263e-17, \"Q3\": 1.153417639176979e-16, \"Q1\": 4.381044138579426e-17, \"max\": 3.3161486912448164e-09}, {\"t\": 50, \"median\": 5.761016663718977e-17, \"Q3\": 1.1485170453573445e-16, \"Q1\": 3.760880495917718e-17, \"max\": 9.340690379909273e-07}, {\"t\": 34, \"median\": 5.862064306194626e-17, \"Q3\": 9.46465128492946e-17, \"Q1\": 3.9837924625807375e-17, \"max\": 1.2141766692866546e-09}, {\"t\": 18, \"median\": 6.101022465010431e-17, \"Q3\": 1.0640793801641735e-16, \"Q1\": 4.3359413282040295e-17, \"max\": 3.431185960356409e-12}, {\"t\": 2, \"median\": 1.3295571241189743e-16, \"Q3\": 1.9748092050519973e-16, \"Q1\": 8.637188186888522e-17, \"max\": 3.2819211757961765e-15}, {\"t\": 17, \"median\": 6.244353992213015e-17, \"Q3\": 9.890092217412772e-17, \"Q1\": 4.53109771925142e-17, \"max\": 9.132248429688517e-13}, {\"t\": 49, \"median\": 6.166725116663052e-17, \"Q3\": 9.656338229024897e-17, \"Q1\": 4.018324301774401e-17, \"max\": 6.448670759530168e-07}, {\"t\": 1, \"median\": 2.0712598303163078e-16, \"Q3\": 4.1884898327460005e-16, \"Q1\": 1.348487294050571e-16, \"max\": 2.5073259440899776e-15}, {\"t\": 33, \"median\": 5.924080670460797e-17, \"Q3\": 1.0593956267790361e-16, \"Q1\": 3.951700078275167e-17, \"max\": 8.874721827648729e-10}]}}, {\"mode\": \"vega-lite\"});\n",
       "</script>"
      ],
      "text/plain": [
       "alt.LayerChart(...)"
      ]
     },
     "execution_count": null,
     "metadata": {},
     "output_type": "execute_result"
    }
   ],
   "source": [
    "median = alt.Chart(err.to_pandas()).mark_line(color=\"black\"\n",
    "           ).encode(\n",
    "    x = alt.X('t', title=\"Number of Iterations\"),\n",
    "    y = alt.Y('median', axis=alt.Axis(format=\".1e\"), scale=alt.Scale(type=\"log\"), title=\"MAE\"),\n",
    "    # color=datum(\"median\"),\n",
    "    strokeDash = datum(\"median\")\n",
    "    #, scale=alt.Scale(range=['black']))\n",
    ")\n",
    "\n",
    "Q1 = alt.Chart(err.to_pandas()).mark_line(color='dimgray', strokeDash=[4,6]).encode(x = 't', y = 'Q1', strokeDash=datum(\"quantile\"))\n",
    "Q3 = alt.Chart(err.to_pandas()).mark_line(color='dimgray', strokeDash=[4,6]).encode(x = 't', y = 'Q3', strokeDash=datum(\"quantile\"))\n",
    "max = alt.Chart(err.to_pandas()).mark_line(color='black', strokeDash=[2,2]).encode(x = 't', y = 'max', strokeDash=datum(\"max\"))\n",
    "(Q1 + Q3 + max + median).interactive().properties(title=\"Standard Filter vs Square Root Filter (Mean Absolute Error of state cavariances)\")"
   ]
  },
  {
   "cell_type": "code",
   "execution_count": null,
   "id": "4f329167-cc3e-40c2-9699-a48ad11218a4",
   "metadata": {},
   "outputs": [],
   "source": []
  }
 ],
 "metadata": {
  "kernelspec": {
   "display_name": "data_science",
   "language": "python",
   "name": "data_science"
  },
  "widgets": {
   "application/vnd.jupyter.widget-state+json": {
    "state": {},
    "version_major": 2,
    "version_minor": 0
   }
  }
 },
 "nbformat": 4,
 "nbformat_minor": 5
}
