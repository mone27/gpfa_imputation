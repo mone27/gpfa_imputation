{
 "cells": [
  {
   "cell_type": "markdown",
   "id": "42746a7d-4479-4f29-9086-33d4f1be7f53",
   "metadata": {},
   "source": [
    "# Imputation Kalman Model\n",
    "> Imputation using Kalman Models"
   ]
  },
  {
   "cell_type": "code",
   "execution_count": null,
   "id": "552019c2-1718-455d-8e84-7fef045c69a6",
   "metadata": {},
   "outputs": [],
   "source": [
    "%load_ext autoreload\n",
    "%autoreload 2"
   ]
  },
  {
   "cell_type": "code",
   "execution_count": null,
   "id": "257cc32a-fe73-40c8-ae09-754c644eb804",
   "metadata": {},
   "outputs": [],
   "source": [
    "#| hide\n",
    "#| default_exp kalman.imputation"
   ]
  },
  {
   "cell_type": "code",
   "execution_count": null,
   "id": "9449a804-1e12-4f2a-b3bb-83f7616b8e5a",
   "metadata": {},
   "outputs": [],
   "source": [
    "#| export\n",
    "import pandas as pd\n",
    "import numpy as np\n",
    "from meteo_imp.kalman.model import KalmanModel\n",
    "from meteo_imp.results import ImputationResult\n",
    "from meteo_imp.utils import *\n",
    "from fastcore.basics import store_attr, patch\n",
    "from meteo_imp.data_preparation import StandardScaler\n",
    "\n",
    "import torch\n",
    "from torch import Tensor"
   ]
  },
  {
   "cell_type": "markdown",
   "id": "f8d9043a-e74c-4942-bed2-11c4b568423d",
   "metadata": {},
   "source": [
    "## Imputation"
   ]
  },
  {
   "cell_type": "code",
   "execution_count": null,
   "id": "6ce3403f-aa17-434f-85b5-17dbe23ccc8e",
   "metadata": {},
   "outputs": [],
   "source": [
    "#| export\n",
    "class KalmanImputation:\n",
    "    \"\"\"Imputation using a kalman model\"\"\"\n",
    "    def __init__(self, data: pd.DataFrame,\n",
    "                 model: KalmanModel = KalmanModel, # a subclass of KalmanModel to be used as model\n",
    "                ):\n",
    "        self.data = data\n",
    "        self.train_idx = ~torch.tensor(self.data.isna().any(axis=1))\n",
    "        \n",
    "        train_data = torch.tensor(data.to_numpy())\n",
    "        self.scaler = StandardScaler(train_data)\n",
    "        train_data = self.scaler.transform(train_data)\n",
    "        self.train_data = train_data\n",
    "        \n",
    "        self.T = torch.arange(self.data.shape[0])\n",
    "        self.model = model(self.train_data)\n",
    "    def fit(self, n_iter=10, lr=.1) -> 'KalmanImputation':\n",
    "        \"\"\"Fit model parameters\"\"\"\n",
    "        times = self.T[self.train_idx]\n",
    "        obs_test = self.train_data[self.train_idx]\n",
    "        self.model.train(times, obs_test, n_iter, lr)\n",
    "        return self\n",
    "\n",
    "    def impute(self,\n",
    "               pred_all = False, # If the dataset should be replaced by the model predictions\n",
    "                                # or only the gaps imputed using the model\n",
    "              ):\n",
    "        \"\"\"Impute data in tidy format using model\"\"\"\n",
    "        # predict either no all dataset or only on part\n",
    "        if pred_all:\n",
    "            time_mask = self.T\n",
    "            data_mask = torch.ones_like(self.train_idx, dtype=bool)\n",
    "        else:\n",
    "            time_mask = self.T[~self.train_idx]\n",
    "            data_mask = ~self.train_idx\n",
    "\n",
    "        pred = self.model.predict(time_mask)\n",
    "        \n",
    "        imp_mean = self.data.copy()\n",
    "        mean = self.scaler.inverse_transform(pred.mean)\n",
    "        imp_mean.iloc[data_mask, :] = mean.cpu().numpy()\n",
    "        imp_mean = imp_mean.assign(time=self.T).melt('time', value_name = 'mean')\n",
    "        \n",
    "        # for observations std is 0\n",
    "        imp_std = pd.DataFrame(np.zeros_like(self.data), columns=self.data.columns)\n",
    "        # get the diagonal of the covariance matrices (the variance) and transform to std\n",
    "        std = cov2std(pred.cov)\n",
    "        std = self.scaler.inverse_transform_std(std)\n",
    "        imp_std.iloc[data_mask, :] = std.cpu().numpy()\n",
    "        imp_std = imp_std.assign(time=self.T).melt('time',value_name = 'std')\n",
    "        \n",
    "        return pd.merge(imp_mean, imp_std, on=['time', 'variable'])       "
   ]
  },
  {
   "cell_type": "code",
   "execution_count": null,
   "id": "c28723b7-fce7-4334-9607-70b203f70109",
   "metadata": {},
   "outputs": [],
   "source": [
    "from meteo_imp.data_preparation import MeteoDataTest"
   ]
  },
  {
   "cell_type": "code",
   "execution_count": null,
   "id": "d703cc28-1a6a-40fd-b151-cd1ef05a92c3",
   "metadata": {},
   "outputs": [],
   "source": [
    "reset_seed(1)\n",
    "data = MeteoDataTest.generate_gpfa(2, 5).add_random_missing()"
   ]
  },
  {
   "cell_type": "code",
   "execution_count": null,
   "id": "492b6c27-9e6b-4334-9c64-76f2bb52425f",
   "metadata": {},
   "outputs": [
    {
     "data": {
      "text/html": [
       "<div>\n",
       "<style scoped>\n",
       "    .dataframe tbody tr th:only-of-type {\n",
       "        vertical-align: middle;\n",
       "    }\n",
       "\n",
       "    .dataframe tbody tr th {\n",
       "        vertical-align: top;\n",
       "    }\n",
       "\n",
       "    .dataframe thead th {\n",
       "        text-align: right;\n",
       "    }\n",
       "</style>\n",
       "<table border=\"1\" class=\"dataframe\">\n",
       "  <thead>\n",
       "    <tr style=\"text-align: right;\">\n",
       "      <th></th>\n",
       "      <th>x0</th>\n",
       "      <th>x1</th>\n",
       "    </tr>\n",
       "  </thead>\n",
       "  <tbody>\n",
       "    <tr>\n",
       "      <th>0</th>\n",
       "      <td>0.023263</td>\n",
       "      <td>NaN</td>\n",
       "    </tr>\n",
       "    <tr>\n",
       "      <th>1</th>\n",
       "      <td>0.219627</td>\n",
       "      <td>0.268028</td>\n",
       "    </tr>\n",
       "    <tr>\n",
       "      <th>2</th>\n",
       "      <td>-0.039892</td>\n",
       "      <td>0.063075</td>\n",
       "    </tr>\n",
       "    <tr>\n",
       "      <th>3</th>\n",
       "      <td>NaN</td>\n",
       "      <td>NaN</td>\n",
       "    </tr>\n",
       "    <tr>\n",
       "      <th>4</th>\n",
       "      <td>-0.645490</td>\n",
       "      <td>-0.144866</td>\n",
       "    </tr>\n",
       "  </tbody>\n",
       "</table>\n",
       "</div>"
      ],
      "text/plain": [
       "         x0        x1\n",
       "0  0.023263       NaN\n",
       "1  0.219627  0.268028\n",
       "2 -0.039892  0.063075\n",
       "3       NaN       NaN\n",
       "4 -0.645490 -0.144866"
      ]
     },
     "execution_count": null,
     "metadata": {},
     "output_type": "execute_result"
    }
   ],
   "source": [
    "data.data"
   ]
  },
  {
   "cell_type": "code",
   "execution_count": null,
   "id": "f9e14727-0ce3-4479-91e2-1ca6ffefe95b",
   "metadata": {},
   "outputs": [],
   "source": [
    "k_imp = KalmanImputation(data.data)"
   ]
  },
  {
   "cell_type": "code",
   "execution_count": null,
   "id": "639808f4-32c9-4b1f-ac09-e94aff73a648",
   "metadata": {},
   "outputs": [
    {
     "data": {
      "text/plain": [
       "tensor([[ 0.3586,     nan],\n",
       "        [ 0.8847,  0.9976],\n",
       "        [ 0.1895,  0.0048],\n",
       "        [    nan,     nan],\n",
       "        [-1.4328, -1.0024]])"
      ]
     },
     "execution_count": null,
     "metadata": {},
     "output_type": "execute_result"
    }
   ],
   "source": [
    "k_imp.train_data"
   ]
  },
  {
   "cell_type": "code",
   "execution_count": null,
   "id": "99379365-98b4-4c66-9cd0-a87601cf0dd8",
   "metadata": {},
   "outputs": [
    {
     "data": {
      "text/plain": [
       "tensor([[ 0.8847,  0.9976],\n",
       "        [ 0.1895,  0.0048],\n",
       "        [-1.4328, -1.0024]])"
      ]
     },
     "execution_count": null,
     "metadata": {},
     "output_type": "execute_result"
    }
   ],
   "source": [
    "k_imp.train_data[k_imp.train_idx]"
   ]
  },
  {
   "cell_type": "code",
   "execution_count": null,
   "id": "0940a968-09b4-4f67-a065-8c506edfbb9d",
   "metadata": {},
   "outputs": [
    {
     "data": {
      "application/vnd.jupyter.widget-view+json": {
       "model_id": "5590e698ee3c4fc08afe8afbcccd5b05",
       "version_major": 2,
       "version_minor": 0
      },
      "text/plain": [
       "  0%|          | 0/10 [00:00<?, ?it/s]"
      ]
     },
     "metadata": {},
     "output_type": "display_data"
    },
    {
     "data": {
      "text/plain": [
       "<__main__.KalmanImputation>"
      ]
     },
     "execution_count": null,
     "metadata": {},
     "output_type": "execute_result"
    }
   ],
   "source": [
    "k_imp.fit(lr=0.1)"
   ]
  },
  {
   "cell_type": "code",
   "execution_count": null,
   "id": "f9c3ba6b-6fc6-46f7-8749-09aca56fa0a6",
   "metadata": {},
   "outputs": [
    {
     "data": {
      "text/html": [
       "<div>\n",
       "<style scoped>\n",
       "    .dataframe tbody tr th:only-of-type {\n",
       "        vertical-align: middle;\n",
       "    }\n",
       "\n",
       "    .dataframe tbody tr th {\n",
       "        vertical-align: top;\n",
       "    }\n",
       "\n",
       "    .dataframe thead th {\n",
       "        text-align: right;\n",
       "    }\n",
       "</style>\n",
       "<table border=\"1\" class=\"dataframe\">\n",
       "  <thead>\n",
       "    <tr style=\"text-align: right;\">\n",
       "      <th></th>\n",
       "      <th>time</th>\n",
       "      <th>variable</th>\n",
       "      <th>mean</th>\n",
       "      <th>std</th>\n",
       "    </tr>\n",
       "  </thead>\n",
       "  <tbody>\n",
       "    <tr>\n",
       "      <th>0</th>\n",
       "      <td>0</td>\n",
       "      <td>x0</td>\n",
       "      <td>0.419378</td>\n",
       "      <td>0.363106</td>\n",
       "    </tr>\n",
       "    <tr>\n",
       "      <th>1</th>\n",
       "      <td>1</td>\n",
       "      <td>x0</td>\n",
       "      <td>0.219627</td>\n",
       "      <td>0.000000</td>\n",
       "    </tr>\n",
       "    <tr>\n",
       "      <th>2</th>\n",
       "      <td>2</td>\n",
       "      <td>x0</td>\n",
       "      <td>-0.039892</td>\n",
       "      <td>0.000000</td>\n",
       "    </tr>\n",
       "    <tr>\n",
       "      <th>3</th>\n",
       "      <td>3</td>\n",
       "      <td>x0</td>\n",
       "      <td>-0.310011</td>\n",
       "      <td>0.346833</td>\n",
       "    </tr>\n",
       "    <tr>\n",
       "      <th>4</th>\n",
       "      <td>4</td>\n",
       "      <td>x0</td>\n",
       "      <td>-0.645490</td>\n",
       "      <td>0.000000</td>\n",
       "    </tr>\n",
       "    <tr>\n",
       "      <th>5</th>\n",
       "      <td>0</td>\n",
       "      <td>x1</td>\n",
       "      <td>0.312171</td>\n",
       "      <td>0.172817</td>\n",
       "    </tr>\n",
       "    <tr>\n",
       "      <th>6</th>\n",
       "      <td>1</td>\n",
       "      <td>x1</td>\n",
       "      <td>0.268028</td>\n",
       "      <td>0.000000</td>\n",
       "    </tr>\n",
       "    <tr>\n",
       "      <th>7</th>\n",
       "      <td>2</td>\n",
       "      <td>x1</td>\n",
       "      <td>0.063075</td>\n",
       "      <td>0.000000</td>\n",
       "    </tr>\n",
       "    <tr>\n",
       "      <th>8</th>\n",
       "      <td>3</td>\n",
       "      <td>x1</td>\n",
       "      <td>-0.016193</td>\n",
       "      <td>0.182218</td>\n",
       "    </tr>\n",
       "    <tr>\n",
       "      <th>9</th>\n",
       "      <td>4</td>\n",
       "      <td>x1</td>\n",
       "      <td>-0.144866</td>\n",
       "      <td>0.000000</td>\n",
       "    </tr>\n",
       "  </tbody>\n",
       "</table>\n",
       "</div>"
      ],
      "text/plain": [
       "   time variable      mean       std\n",
       "0     0       x0  0.419378  0.363106\n",
       "1     1       x0  0.219627  0.000000\n",
       "2     2       x0 -0.039892  0.000000\n",
       "3     3       x0 -0.310011  0.346833\n",
       "4     4       x0 -0.645490  0.000000\n",
       "5     0       x1  0.312171  0.172817\n",
       "6     1       x1  0.268028  0.000000\n",
       "7     2       x1  0.063075  0.000000\n",
       "8     3       x1 -0.016193  0.182218\n",
       "9     4       x1 -0.144866  0.000000"
      ]
     },
     "execution_count": null,
     "metadata": {},
     "output_type": "execute_result"
    }
   ],
   "source": [
    "k_imp.impute()"
   ]
  },
  {
   "cell_type": "code",
   "execution_count": null,
   "id": "85e92652-22be-41c4-8444-527222493807",
   "metadata": {},
   "outputs": [
    {
     "data": {
      "text/plain": [
       "(5, 2)"
      ]
     },
     "execution_count": null,
     "metadata": {},
     "output_type": "execute_result"
    }
   ],
   "source": [
    "data.data.shape"
   ]
  },
  {
   "cell_type": "code",
   "execution_count": null,
   "id": "ac31dba2-732d-4ef9-b46e-ec3b35a35b0f",
   "metadata": {},
   "outputs": [
    {
     "data": {
      "text/html": [
       "<div>\n",
       "<style scoped>\n",
       "    .dataframe tbody tr th:only-of-type {\n",
       "        vertical-align: middle;\n",
       "    }\n",
       "\n",
       "    .dataframe tbody tr th {\n",
       "        vertical-align: top;\n",
       "    }\n",
       "\n",
       "    .dataframe thead th {\n",
       "        text-align: right;\n",
       "    }\n",
       "</style>\n",
       "<table border=\"1\" class=\"dataframe\">\n",
       "  <thead>\n",
       "    <tr style=\"text-align: right;\">\n",
       "      <th></th>\n",
       "      <th>time</th>\n",
       "      <th>variable</th>\n",
       "      <th>mean</th>\n",
       "      <th>std</th>\n",
       "    </tr>\n",
       "  </thead>\n",
       "  <tbody>\n",
       "    <tr>\n",
       "      <th>0</th>\n",
       "      <td>0</td>\n",
       "      <td>x0</td>\n",
       "      <td>0.419378</td>\n",
       "      <td>0.363106</td>\n",
       "    </tr>\n",
       "    <tr>\n",
       "      <th>1</th>\n",
       "      <td>1</td>\n",
       "      <td>x0</td>\n",
       "      <td>0.197529</td>\n",
       "      <td>0.305165</td>\n",
       "    </tr>\n",
       "    <tr>\n",
       "      <th>2</th>\n",
       "      <td>2</td>\n",
       "      <td>x0</td>\n",
       "      <td>-0.060706</td>\n",
       "      <td>0.305840</td>\n",
       "    </tr>\n",
       "    <tr>\n",
       "      <th>3</th>\n",
       "      <td>3</td>\n",
       "      <td>x0</td>\n",
       "      <td>-0.310011</td>\n",
       "      <td>0.346833</td>\n",
       "    </tr>\n",
       "    <tr>\n",
       "      <th>4</th>\n",
       "      <td>4</td>\n",
       "      <td>x0</td>\n",
       "      <td>-0.614966</td>\n",
       "      <td>0.316630</td>\n",
       "    </tr>\n",
       "    <tr>\n",
       "      <th>5</th>\n",
       "      <td>0</td>\n",
       "      <td>x1</td>\n",
       "      <td>0.312171</td>\n",
       "      <td>0.172817</td>\n",
       "    </tr>\n",
       "    <tr>\n",
       "      <th>6</th>\n",
       "      <td>1</td>\n",
       "      <td>x1</td>\n",
       "      <td>0.235241</td>\n",
       "      <td>0.160869</td>\n",
       "    </tr>\n",
       "    <tr>\n",
       "      <th>7</th>\n",
       "      <td>2</td>\n",
       "      <td>x1</td>\n",
       "      <td>0.114478</td>\n",
       "      <td>0.163643</td>\n",
       "    </tr>\n",
       "    <tr>\n",
       "      <th>8</th>\n",
       "      <td>3</td>\n",
       "      <td>x1</td>\n",
       "      <td>-0.016193</td>\n",
       "      <td>0.182218</td>\n",
       "    </tr>\n",
       "    <tr>\n",
       "      <th>9</th>\n",
       "      <td>4</td>\n",
       "      <td>x1</td>\n",
       "      <td>-0.175907</td>\n",
       "      <td>0.176442</td>\n",
       "    </tr>\n",
       "  </tbody>\n",
       "</table>\n",
       "</div>"
      ],
      "text/plain": [
       "   time variable      mean       std\n",
       "0     0       x0  0.419378  0.363106\n",
       "1     1       x0  0.197529  0.305165\n",
       "2     2       x0 -0.060706  0.305840\n",
       "3     3       x0 -0.310011  0.346833\n",
       "4     4       x0 -0.614966  0.316630\n",
       "5     0       x1  0.312171  0.172817\n",
       "6     1       x1  0.235241  0.160869\n",
       "7     2       x1  0.114478  0.163643\n",
       "8     3       x1 -0.016193  0.182218\n",
       "9     4       x1 -0.175907  0.176442"
      ]
     },
     "execution_count": null,
     "metadata": {},
     "output_type": "execute_result"
    }
   ],
   "source": [
    "k_imp.impute(pred_all=True)"
   ]
  },
  {
   "cell_type": "markdown",
   "id": "17bfbf29-2869-4391-a68b-f85171744d07",
   "metadata": {},
   "source": [
    "#### Result"
   ]
  },
  {
   "cell_type": "code",
   "execution_count": null,
   "id": "aea7644f-adf7-4c6f-95db-53ea9b3cd089",
   "metadata": {},
   "outputs": [],
   "source": [
    "#| export\n",
    "@patch\n",
    "def to_result(self: KalmanImputation, data_compl, var_names=None, units=None, pred_all=False):\n",
    "    return ImputationResult(self.impute(pred_all), data_compl, self.model.filter.get_info(var_names), units)"
   ]
  },
  {
   "cell_type": "code",
   "execution_count": null,
   "id": "7450371e-3f4e-489c-b34b-94703095a198",
   "metadata": {},
   "outputs": [],
   "source": [
    "X = np.hstack([np.arange(0,3.), np.arange(3., 0, -1)]).reshape(6, 1)"
   ]
  },
  {
   "cell_type": "code",
   "execution_count": null,
   "id": "a11689e0-69fb-4650-a133-01863989ba8a",
   "metadata": {},
   "outputs": [],
   "source": [
    "res = k_imp.to_result(data.data_compl_tidy)"
   ]
  },
  {
   "cell_type": "code",
   "execution_count": null,
   "id": "374f1cc1-9fd8-469c-8a4f-eb0a937a4480",
   "metadata": {},
   "outputs": [
    {
     "name": "stderr",
     "output_type": "stream",
     "text": [
      "/home/simone/.local/lib/python3.10/site-packages/altair/utils/core.py:317: FutureWarning: iteritems is deprecated and will be removed in a future version. Use .items instead.\n",
      "  for col_name, dtype in df.dtypes.iteritems():\n"
     ]
    },
    {
     "data": {
      "text/html": [
       "\n",
       "<div id=\"altair-viz-4d6523cfce27490c847440d503689b45\"></div>\n",
       "<script type=\"text/javascript\">\n",
       "  var VEGA_DEBUG = (typeof VEGA_DEBUG == \"undefined\") ? {} : VEGA_DEBUG;\n",
       "  (function(spec, embedOpt){\n",
       "    let outputDiv = document.currentScript.previousElementSibling;\n",
       "    if (outputDiv.id !== \"altair-viz-4d6523cfce27490c847440d503689b45\") {\n",
       "      outputDiv = document.getElementById(\"altair-viz-4d6523cfce27490c847440d503689b45\");\n",
       "    }\n",
       "    const paths = {\n",
       "      \"vega\": \"https://cdn.jsdelivr.net/npm//vega@5?noext\",\n",
       "      \"vega-lib\": \"https://cdn.jsdelivr.net/npm//vega-lib?noext\",\n",
       "      \"vega-lite\": \"https://cdn.jsdelivr.net/npm//vega-lite@4.17.0?noext\",\n",
       "      \"vega-embed\": \"https://cdn.jsdelivr.net/npm//vega-embed@6?noext\",\n",
       "    };\n",
       "\n",
       "    function maybeLoadScript(lib, version) {\n",
       "      var key = `${lib.replace(\"-\", \"\")}_version`;\n",
       "      return (VEGA_DEBUG[key] == version) ?\n",
       "        Promise.resolve(paths[lib]) :\n",
       "        new Promise(function(resolve, reject) {\n",
       "          var s = document.createElement('script');\n",
       "          document.getElementsByTagName(\"head\")[0].appendChild(s);\n",
       "          s.async = true;\n",
       "          s.onload = () => {\n",
       "            VEGA_DEBUG[key] = version;\n",
       "            return resolve(paths[lib]);\n",
       "          };\n",
       "          s.onerror = () => reject(`Error loading script: ${paths[lib]}`);\n",
       "          s.src = paths[lib];\n",
       "        });\n",
       "    }\n",
       "\n",
       "    function showError(err) {\n",
       "      outputDiv.innerHTML = `<div class=\"error\" style=\"color:red;\">${err}</div>`;\n",
       "      throw err;\n",
       "    }\n",
       "\n",
       "    function displayChart(vegaEmbed) {\n",
       "      vegaEmbed(outputDiv, spec, embedOpt)\n",
       "        .catch(err => showError(`Javascript Error: ${err.message}<br>This usually means there's a typo in your chart specification. See the javascript console for the full traceback.`));\n",
       "    }\n",
       "\n",
       "    if(typeof define === \"function\" && define.amd) {\n",
       "      requirejs.config({paths});\n",
       "      require([\"vega-embed\"], displayChart, err => showError(`Error loading script: ${err.message}`));\n",
       "    } else {\n",
       "      maybeLoadScript(\"vega\", \"5\")\n",
       "        .then(() => maybeLoadScript(\"vega-lite\", \"4.17.0\"))\n",
       "        .then(() => maybeLoadScript(\"vega-embed\", \"6\"))\n",
       "        .catch(showError)\n",
       "        .then(() => displayChart(vegaEmbed));\n",
       "    }\n",
       "  })({\"config\": {\"view\": {\"continuousWidth\": 400, \"continuousHeight\": 300}}, \"vconcat\": [{\"hconcat\": [{\"vconcat\": [{\"layer\": [{\"data\": {\"name\": \"data-70085302a720ecb475d3ad5fd68afaf7\"}, \"mark\": {\"type\": \"point\", \"color\": \"black\", \"fillOpacity\": 1, \"strokeWidth\": 1}, \"encoding\": {\"fill\": {\"field\": \"is_missing\", \"legend\": {\"title\": [\"Observed data\", \"(is missing)\"]}, \"scale\": {\"range\": [\"#ffffff00\", \"black\"]}, \"type\": \"nominal\"}, \"shape\": {\"field\": \"is_missing\", \"type\": \"nominal\"}, \"x\": {\"axis\": {\"domain\": false, \"labels\": false, \"ticks\": false, \"title\": null}, \"field\": \"time\", \"type\": \"quantitative\"}, \"y\": {\"field\": \"value\", \"scale\": {\"zero\": false}, \"title\": \"x0\", \"type\": \"quantitative\"}}}, {\"layer\": [{\"mark\": \"errorband\", \"encoding\": {\"color\": {\"field\": \"variable\", \"legend\": {\"title\": [\"Line: pred. mean\", \"area: +/- 2 std\", \"(variable)\"]}, \"type\": \"nominal\"}, \"tooltip\": [{\"field\": \"std\", \"format\": \".4\", \"type\": \"quantitative\"}, {\"field\": \"mean\", \"format\": \".4\", \"type\": \"quantitative\"}], \"x\": {\"field\": \"time\", \"type\": \"quantitative\"}, \"y\": {\"field\": \"err_low\", \"scale\": {\"zero\": false}, \"title\": \"x0\", \"type\": \"quantitative\"}, \"y2\": {\"field\": \"err_high\"}}, \"height\": 200, \"transform\": [{\"calculate\": \"datum.mean - 2 * datum.std\", \"as\": \"err_low\"}, {\"calculate\": \"datum.mean + 2 * datum.std\", \"as\": \"err_high\"}], \"width\": 350}, {\"mark\": \"line\", \"encoding\": {\"color\": {\"field\": \"variable\", \"type\": \"nominal\"}, \"x\": {\"field\": \"time\", \"type\": \"quantitative\"}, \"y\": {\"field\": \"mean\", \"scale\": {\"zero\": false}, \"title\": \"x0\", \"type\": \"quantitative\"}}, \"selection\": {\"selector001\": {\"type\": \"interval\", \"bind\": \"scales\", \"encodings\": [\"x\"]}}, \"title\": \"x0\"}], \"data\": {\"name\": \"data-349057bf8307b35345587f81f62e0ea4\"}}]}, {\"data\": {\"name\": \"data-70085302a720ecb475d3ad5fd68afaf7\"}, \"mark\": {\"type\": \"tick\", \"color\": \"black\"}, \"encoding\": {\"color\": {\"condition\": {\"value\": \"black\", \"test\": \"datum.is_missing\"}, \"value\": \"white\"}, \"x\": {\"field\": \"time\", \"type\": \"quantitative\"}}, \"selection\": {\"selector001\": {\"type\": \"interval\", \"bind\": \"scales\", \"encodings\": [\"x\"]}}, \"width\": 350}], \"spacing\": -10}, {\"vconcat\": [{\"layer\": [{\"data\": {\"name\": \"data-5cac8bdc42b61c62308741e680287417\"}, \"mark\": {\"type\": \"point\", \"color\": \"black\", \"fillOpacity\": 1, \"strokeWidth\": 1}, \"encoding\": {\"fill\": {\"field\": \"is_missing\", \"legend\": {\"title\": [\"Observed data\", \"(is missing)\"]}, \"scale\": {\"range\": [\"#ffffff00\", \"black\"]}, \"type\": \"nominal\"}, \"shape\": {\"field\": \"is_missing\", \"type\": \"nominal\"}, \"x\": {\"axis\": {\"domain\": false, \"labels\": false, \"ticks\": false, \"title\": null}, \"field\": \"time\", \"type\": \"quantitative\"}, \"y\": {\"field\": \"value\", \"scale\": {\"zero\": false}, \"title\": \"x1\", \"type\": \"quantitative\"}}}, {\"layer\": [{\"mark\": \"errorband\", \"encoding\": {\"color\": {\"field\": \"variable\", \"legend\": {\"title\": [\"Line: pred. mean\", \"area: +/- 2 std\", \"(variable)\"]}, \"type\": \"nominal\"}, \"tooltip\": [{\"field\": \"std\", \"format\": \".4\", \"type\": \"quantitative\"}, {\"field\": \"mean\", \"format\": \".4\", \"type\": \"quantitative\"}], \"x\": {\"field\": \"time\", \"type\": \"quantitative\"}, \"y\": {\"field\": \"err_low\", \"scale\": {\"zero\": false}, \"title\": \"x1\", \"type\": \"quantitative\"}, \"y2\": {\"field\": \"err_high\"}}, \"height\": 200, \"transform\": [{\"calculate\": \"datum.mean - 2 * datum.std\", \"as\": \"err_low\"}, {\"calculate\": \"datum.mean + 2 * datum.std\", \"as\": \"err_high\"}], \"width\": 350}, {\"mark\": \"line\", \"encoding\": {\"color\": {\"field\": \"variable\", \"type\": \"nominal\"}, \"x\": {\"field\": \"time\", \"type\": \"quantitative\"}, \"y\": {\"field\": \"mean\", \"scale\": {\"zero\": false}, \"title\": \"x1\", \"type\": \"quantitative\"}}, \"selection\": {\"selector001\": {\"type\": \"interval\", \"bind\": \"scales\", \"encodings\": [\"x\"]}}, \"title\": \"x1\"}], \"data\": {\"name\": \"data-f7dfa17b36db321334935e94aaca38b6\"}}]}, {\"data\": {\"name\": \"data-5cac8bdc42b61c62308741e680287417\"}, \"mark\": {\"type\": \"tick\", \"color\": \"black\"}, \"encoding\": {\"color\": {\"condition\": {\"value\": \"black\", \"test\": \"datum.is_missing\"}, \"value\": \"white\"}, \"x\": {\"field\": \"time\", \"type\": \"quantitative\"}}, \"selection\": {\"selector001\": {\"type\": \"interval\", \"bind\": \"scales\", \"encodings\": [\"x\"]}}, \"width\": 350}], \"spacing\": -10}]}, {\"hconcat\": []}, {\"hconcat\": []}, {\"hconcat\": []}, {\"hconcat\": []}], \"$schema\": \"https://vega.github.io/schema/vega-lite/v4.17.0.json\", \"datasets\": {\"data-70085302a720ecb475d3ad5fd68afaf7\": [{\"time\": 0.0, \"variable\": \"x0\", \"value\": 0.02326272241771221, \"is_missing\": false}, {\"time\": 1.0, \"variable\": \"x0\", \"value\": 0.21962720155715942, \"is_missing\": false}, {\"time\": 2.0, \"variable\": \"x0\", \"value\": -0.0398922860622406, \"is_missing\": false}, {\"time\": 3.0, \"variable\": \"x0\", \"value\": 0.24412298202514648, \"is_missing\": true}, {\"time\": 4.0, \"variable\": \"x0\", \"value\": -0.645489513874054, \"is_missing\": false}], \"data-349057bf8307b35345587f81f62e0ea4\": [{\"time\": 0, \"variable\": \"x0\", \"mean\": 0.4193783700466156, \"std\": 0.36310628056526184}, {\"time\": 1, \"variable\": \"x0\", \"mean\": 0.21962720155715942, \"std\": 0.0}, {\"time\": 2, \"variable\": \"x0\", \"mean\": -0.0398922860622406, \"std\": 0.0}, {\"time\": 3, \"variable\": \"x0\", \"mean\": -0.3100108802318573, \"std\": 0.34683310985565186}, {\"time\": 4, \"variable\": \"x0\", \"mean\": -0.645489513874054, \"std\": 0.0}], \"data-5cac8bdc42b61c62308741e680287417\": [{\"time\": 0.0, \"variable\": \"x1\", \"value\": 0.14426042139530182, \"is_missing\": true}, {\"time\": 1.0, \"variable\": \"x1\", \"value\": 0.2680276334285736, \"is_missing\": false}, {\"time\": 2.0, \"variable\": \"x1\", \"value\": 0.06307466328144073, \"is_missing\": false}, {\"time\": 3.0, \"variable\": \"x1\", \"value\": -0.13928881287574768, \"is_missing\": true}, {\"time\": 4.0, \"variable\": \"x1\", \"value\": -0.14486603438854218, \"is_missing\": false}], \"data-f7dfa17b36db321334935e94aaca38b6\": [{\"time\": 0, \"variable\": \"x1\", \"mean\": 0.3121710419654846, \"std\": 0.17281676828861237}, {\"time\": 1, \"variable\": \"x1\", \"mean\": 0.2680276334285736, \"std\": 0.0}, {\"time\": 2, \"variable\": \"x1\", \"mean\": 0.06307466328144073, \"std\": 0.0}, {\"time\": 3, \"variable\": \"x1\", \"mean\": -0.016192693263292313, \"std\": 0.18221838772296906}, {\"time\": 4, \"variable\": \"x1\", \"mean\": -0.14486603438854218, \"std\": 0.0}]}}, {\"mode\": \"vega-lite\"});\n",
       "</script>"
      ],
      "text/plain": [
       "alt.VConcatChart(...)"
      ]
     },
     "metadata": {},
     "output_type": "display_data"
    },
    {
     "name": "stderr",
     "output_type": "stream",
     "text": [
      "/home/simone/anaconda3/envs/data-science/lib/python3.10/site-packages/sklearn/metrics/_regression.py:796: UndefinedMetricWarning: R^2 score is not well-defined with less than two samples.\n",
      "  warnings.warn(msg, UndefinedMetricWarning)\n"
     ]
    },
    {
     "data": {
      "text/html": [
       "<p style='font-size: 1.5rem; font-decoration: bold'>Metrics<p><div style=\"display: flex; column-gap: 20px; flex-wrap: wrap;\" class='table table-striped table-sm'> <div> <p style='font-size: 1.3rem;'>r2</p> <style type=\"text/css\">\n",
       "</style>\n",
       "<table id=\"T_6af8d\">\n",
       "  <thead>\n",
       "    <tr>\n",
       "      <th id=\"T_6af8d_level0_col0\" class=\"col_heading level0 col0\" >variable</th>\n",
       "      <th id=\"T_6af8d_level0_col1\" class=\"col_heading level0 col1\" >r2</th>\n",
       "    </tr>\n",
       "  </thead>\n",
       "  <tbody>\n",
       "    <tr>\n",
       "      <td id=\"T_6af8d_row0_col0\" class=\"data row0 col0\" >x0</td>\n",
       "      <td id=\"T_6af8d_row0_col1\" class=\"data row0 col1\" >0.1056</td>\n",
       "    </tr>\n",
       "    <tr>\n",
       "      <td id=\"T_6af8d_row1_col0\" class=\"data row1 col0\" >x1</td>\n",
       "      <td id=\"T_6af8d_row1_col1\" class=\"data row1 col1\" >0.6658</td>\n",
       "    </tr>\n",
       "  </tbody>\n",
       "</table>\n",
       " </div><div> <p style='font-size: 1.3rem;'>RMSE</p> <style type=\"text/css\">\n",
       "</style>\n",
       "<table id=\"T_a2622\">\n",
       "  <thead>\n",
       "    <tr>\n",
       "      <th id=\"T_a2622_level0_col0\" class=\"col_heading level0 col0\" >variable</th>\n",
       "      <th id=\"T_a2622_level0_col1\" class=\"col_heading level0 col1\" >rmse</th>\n",
       "    </tr>\n",
       "  </thead>\n",
       "  <tbody>\n",
       "    <tr>\n",
       "      <td id=\"T_a2622_row0_col0\" class=\"data row0 col0\" >x0</td>\n",
       "      <td id=\"T_a2622_row0_col1\" class=\"data row0 col1\" >0.3046</td>\n",
       "    </tr>\n",
       "    <tr>\n",
       "      <td id=\"T_a2622_row1_col0\" class=\"data row1 col0\" >x1</td>\n",
       "      <td id=\"T_a2622_row1_col1\" class=\"data row1 col1\" >0.0931</td>\n",
       "    </tr>\n",
       "  </tbody>\n",
       "</table>\n",
       " </div><div> <p style='font-size: 1.3rem;'>r2 - Only GAP</p> <style type=\"text/css\">\n",
       "</style>\n",
       "<table id=\"T_4e9ab\">\n",
       "  <thead>\n",
       "    <tr>\n",
       "      <th id=\"T_4e9ab_level0_col0\" class=\"col_heading level0 col0\" >variable</th>\n",
       "      <th id=\"T_4e9ab_level0_col1\" class=\"col_heading level0 col1\" >r2</th>\n",
       "    </tr>\n",
       "  </thead>\n",
       "  <tbody>\n",
       "    <tr>\n",
       "      <td id=\"T_4e9ab_row0_col0\" class=\"data row0 col0\" >x0</td>\n",
       "      <td id=\"T_4e9ab_row0_col1\" class=\"data row0 col1\" >nan</td>\n",
       "    </tr>\n",
       "    <tr>\n",
       "      <td id=\"T_4e9ab_row1_col0\" class=\"data row1 col0\" >x1</td>\n",
       "      <td id=\"T_4e9ab_row1_col1\" class=\"data row1 col1\" >-0.0783</td>\n",
       "    </tr>\n",
       "  </tbody>\n",
       "</table>\n",
       " </div><div> <p style='font-size: 1.3rem;'>RMSE - Only GAP</p> <style type=\"text/css\">\n",
       "</style>\n",
       "<table id=\"T_90cec\">\n",
       "  <thead>\n",
       "    <tr>\n",
       "      <th id=\"T_90cec_level0_col0\" class=\"col_heading level0 col0\" >variable</th>\n",
       "      <th id=\"T_90cec_level0_col1\" class=\"col_heading level0 col1\" >rmse</th>\n",
       "    </tr>\n",
       "  </thead>\n",
       "  <tbody>\n",
       "    <tr>\n",
       "      <td id=\"T_90cec_row0_col0\" class=\"data row0 col0\" >x0</td>\n",
       "      <td id=\"T_90cec_row0_col1\" class=\"data row0 col1\" >0.5541</td>\n",
       "    </tr>\n",
       "    <tr>\n",
       "      <td id=\"T_90cec_row1_col0\" class=\"data row1 col0\" >x1</td>\n",
       "      <td id=\"T_90cec_row1_col1\" class=\"data row1 col1\" >0.1472</td>\n",
       "    </tr>\n",
       "  </tbody>\n",
       "</table>\n",
       " </div></div>"
      ],
      "text/plain": [
       "<IPython.core.display.HTML object>"
      ]
     },
     "metadata": {},
     "output_type": "display_data"
    },
    {
     "data": {
      "text/html": [
       "<p style='font-size: 1.5rem; font-decoration: bold'>Model Info<p><div style=\"display: flex; column-gap: 20px; flex-wrap: wrap;\" class='table table-striped table-sm'> <div> <p style='font-size: 1.3rem;'>A</p> <style type=\"text/css\">\n",
       "</style>\n",
       "<table id=\"T_e2245\">\n",
       "  <thead>\n",
       "    <tr>\n",
       "      <th id=\"T_e2245_level0_col0\" class=\"col_heading level0 col0\" >latent</th>\n",
       "      <th id=\"T_e2245_level0_col1\" class=\"col_heading level0 col1\" >z_0</th>\n",
       "      <th id=\"T_e2245_level0_col2\" class=\"col_heading level0 col2\" >z_1</th>\n",
       "    </tr>\n",
       "  </thead>\n",
       "  <tbody>\n",
       "    <tr>\n",
       "      <td id=\"T_e2245_row0_col0\" class=\"data row0 col0\" >z_0</td>\n",
       "      <td id=\"T_e2245_row0_col1\" class=\"data row0 col1\" >1.2558</td>\n",
       "      <td id=\"T_e2245_row0_col2\" class=\"data row0 col2\" >0.0939</td>\n",
       "    </tr>\n",
       "    <tr>\n",
       "      <td id=\"T_e2245_row1_col0\" class=\"data row1 col0\" >z_1</td>\n",
       "      <td id=\"T_e2245_row1_col1\" class=\"data row1 col1\" >0.4114</td>\n",
       "      <td id=\"T_e2245_row1_col2\" class=\"data row1 col2\" >0.3952</td>\n",
       "    </tr>\n",
       "  </tbody>\n",
       "</table>\n",
       " </div><div> <p style='font-size: 1.3rem;'>H</p> <style type=\"text/css\">\n",
       "</style>\n",
       "<table id=\"T_e5426\">\n",
       "  <thead>\n",
       "    <tr>\n",
       "      <th id=\"T_e5426_level0_col0\" class=\"col_heading level0 col0\" >z_0</th>\n",
       "      <th id=\"T_e5426_level0_col1\" class=\"col_heading level0 col1\" >z_1</th>\n",
       "    </tr>\n",
       "  </thead>\n",
       "  <tbody>\n",
       "    <tr>\n",
       "      <td id=\"T_e5426_row0_col0\" class=\"data row0 col0\" >0.6131</td>\n",
       "      <td id=\"T_e5426_row0_col1\" class=\"data row0 col1\" >0.6971</td>\n",
       "    </tr>\n",
       "    <tr>\n",
       "      <td id=\"T_e5426_row1_col0\" class=\"data row1 col0\" >0.7619</td>\n",
       "      <td id=\"T_e5426_row1_col1\" class=\"data row1 col1\" >0.3170</td>\n",
       "    </tr>\n",
       "  </tbody>\n",
       "</table>\n",
       " </div><div> <p style='font-size: 1.3rem;'>R</p> <style type=\"text/css\">\n",
       "</style>\n",
       "<table id=\"T_ddfd7\">\n",
       "  <thead>\n",
       "    <tr>\n",
       "      <th id=\"T_ddfd7_level0_col0\" class=\"col_heading level0 col0\" >0</th>\n",
       "      <th id=\"T_ddfd7_level0_col1\" class=\"col_heading level0 col1\" >1</th>\n",
       "    </tr>\n",
       "  </thead>\n",
       "  <tbody>\n",
       "    <tr>\n",
       "      <td id=\"T_ddfd7_row0_col0\" class=\"data row0 col0\" >0.4869</td>\n",
       "      <td id=\"T_ddfd7_row0_col1\" class=\"data row0 col1\" >0.0000</td>\n",
       "    </tr>\n",
       "    <tr>\n",
       "      <td id=\"T_ddfd7_row1_col0\" class=\"data row1 col0\" >0.0000</td>\n",
       "      <td id=\"T_ddfd7_row1_col1\" class=\"data row1 col1\" >0.4871</td>\n",
       "    </tr>\n",
       "  </tbody>\n",
       "</table>\n",
       " </div><div> <p style='font-size: 1.3rem;'>Q</p> <style type=\"text/css\">\n",
       "</style>\n",
       "<table id=\"T_e96ea\">\n",
       "  <thead>\n",
       "    <tr>\n",
       "      <th id=\"T_e96ea_level0_col0\" class=\"col_heading level0 col0\" >latent</th>\n",
       "      <th id=\"T_e96ea_level0_col1\" class=\"col_heading level0 col1\" >z_0</th>\n",
       "      <th id=\"T_e96ea_level0_col2\" class=\"col_heading level0 col2\" >z_1</th>\n",
       "    </tr>\n",
       "  </thead>\n",
       "  <tbody>\n",
       "    <tr>\n",
       "      <td id=\"T_e96ea_row0_col0\" class=\"data row0 col0\" >z_0</td>\n",
       "      <td id=\"T_e96ea_row0_col1\" class=\"data row0 col1\" >0.6492</td>\n",
       "      <td id=\"T_e96ea_row0_col2\" class=\"data row0 col2\" >0.0000</td>\n",
       "    </tr>\n",
       "    <tr>\n",
       "      <td id=\"T_e96ea_row1_col0\" class=\"data row1 col0\" >z_1</td>\n",
       "      <td id=\"T_e96ea_row1_col1\" class=\"data row1 col1\" >0.0000</td>\n",
       "      <td id=\"T_e96ea_row1_col2\" class=\"data row1 col2\" >0.5367</td>\n",
       "    </tr>\n",
       "  </tbody>\n",
       "</table>\n",
       " </div></div>"
      ],
      "text/plain": [
       "<IPython.core.display.HTML object>"
      ]
     },
     "metadata": {},
     "output_type": "display_data"
    }
   ],
   "source": [
    "res.display_results()"
   ]
  },
  {
   "cell_type": "markdown",
   "id": "e477a20d-14fa-4be5-b220-1fa28821d420",
   "metadata": {},
   "source": [
    "## Debug"
   ]
  },
  {
   "cell_type": "code",
   "execution_count": null,
   "id": "091b897f-ed9c-411d-83cd-c5e486f8155c",
   "metadata": {},
   "outputs": [],
   "source": [
    "from meteo_imp.data import hai"
   ]
  },
  {
   "cell_type": "code",
   "execution_count": null,
   "id": "50bd3455-45ab-4957-ba8b-b78b029aaccd",
   "metadata": {},
   "outputs": [],
   "source": [
    "td = MeteoDataTest(hai)"
   ]
  },
  {
   "cell_type": "code",
   "execution_count": null,
   "id": "81ff6e21-29cc-4790-9f77-937c46046019",
   "metadata": {},
   "outputs": [],
   "source": [
    "td.add_gap(10, 'TA', 10)"
   ]
  },
  {
   "cell_type": "code",
   "execution_count": null,
   "id": "e15724c5-54d4-45a7-ae91-2a206c639f5c",
   "metadata": {},
   "outputs": [],
   "source": [
    "i_hai = KalmanImputation(td.data)"
   ]
  },
  {
   "cell_type": "code",
   "execution_count": null,
   "id": "0e9be82b-4ae5-4f62-9f02-8a65026ac1a0",
   "metadata": {},
   "outputs": [],
   "source": [
    "i_hai.fit()"
   ]
  },
  {
   "cell_type": "markdown",
   "id": "c8665fbb-8f0f-4722-a524-880e42cffed3",
   "metadata": {},
   "source": [
    "## Export "
   ]
  },
  {
   "cell_type": "code",
   "execution_count": null,
   "id": "925fe863-f406-4bf5-a55a-9ca2302c490b",
   "metadata": {},
   "outputs": [],
   "source": [
    "#| hide\n",
    "from nbdev import nbdev_export\n",
    "nbdev_export()"
   ]
  }
 ],
 "metadata": {
  "kernelspec": {
   "display_name": "data_science",
   "language": "python",
   "name": "data_science"
  },
  "widgets": {
   "application/vnd.jupyter.widget-state+json": {
    "state": {
     "024268d48c2546e7b6fc878d73edbc97": {
      "model_module": "@jupyter-widgets/controls",
      "model_module_version": "2.0.0",
      "model_name": "HBoxModel",
      "state": {
       "children": [
        "IPY_MODEL_115657c6d74a4e7b968538f000ccfe1d",
        "IPY_MODEL_58d2d225ab9a4bbb8c1ea28692f66b42",
        "IPY_MODEL_f026873cb79441839863187a44629255"
       ],
       "layout": "IPY_MODEL_1087064d63e8418481f8c8fe639cbee4"
      }
     },
     "10332019b21c4b6a93cef0f98326e58f": {
      "model_module": "@jupyter-widgets/controls",
      "model_module_version": "2.0.0",
      "model_name": "HTMLStyleModel",
      "state": {
       "description_width": "",
       "font_size": null,
       "text_color": null
      }
     },
     "1087064d63e8418481f8c8fe639cbee4": {
      "model_module": "@jupyter-widgets/base",
      "model_module_version": "2.0.0",
      "model_name": "LayoutModel",
      "state": {}
     },
     "115657c6d74a4e7b968538f000ccfe1d": {
      "model_module": "@jupyter-widgets/controls",
      "model_module_version": "2.0.0",
      "model_name": "HTMLModel",
      "state": {
       "layout": "IPY_MODEL_504241771e5f40608a67a465dc3391fd",
       "style": "IPY_MODEL_2b095d3af2614afc98aad7fbd648ecff",
       "value": "100%"
      }
     },
     "2b095d3af2614afc98aad7fbd648ecff": {
      "model_module": "@jupyter-widgets/controls",
      "model_module_version": "2.0.0",
      "model_name": "HTMLStyleModel",
      "state": {
       "description_width": "",
       "font_size": null,
       "text_color": null
      }
     },
     "2e51799d80f2498bbfb73fb799455989": {
      "model_module": "@jupyter-widgets/base",
      "model_module_version": "2.0.0",
      "model_name": "LayoutModel",
      "state": {}
     },
     "32c5c46f8a424a739e1942cbdf52229d": {
      "model_module": "@jupyter-widgets/controls",
      "model_module_version": "2.0.0",
      "model_name": "ProgressStyleModel",
      "state": {
       "description_width": ""
      }
     },
     "3bd0f073fff642bda015e1b28ab337f1": {
      "model_module": "@jupyter-widgets/controls",
      "model_module_version": "2.0.0",
      "model_name": "FloatProgressModel",
      "state": {
       "bar_style": "success",
       "layout": "IPY_MODEL_b8ffb3688ca84a9b8bfdb42f5fd48c0d",
       "max": 10,
       "style": "IPY_MODEL_32c5c46f8a424a739e1942cbdf52229d",
       "value": 10
      }
     },
     "504241771e5f40608a67a465dc3391fd": {
      "model_module": "@jupyter-widgets/base",
      "model_module_version": "2.0.0",
      "model_name": "LayoutModel",
      "state": {}
     },
     "5590e698ee3c4fc08afe8afbcccd5b05": {
      "model_module": "@jupyter-widgets/controls",
      "model_module_version": "2.0.0",
      "model_name": "HBoxModel",
      "state": {
       "children": [
        "IPY_MODEL_eb26cf32cd064a6e84733aa5cffaa8e5",
        "IPY_MODEL_3bd0f073fff642bda015e1b28ab337f1",
        "IPY_MODEL_efe75232ea994b5dbb2e0b8bdb3dc18b"
       ],
       "layout": "IPY_MODEL_2e51799d80f2498bbfb73fb799455989"
      }
     },
     "58d2d225ab9a4bbb8c1ea28692f66b42": {
      "model_module": "@jupyter-widgets/controls",
      "model_module_version": "2.0.0",
      "model_name": "FloatProgressModel",
      "state": {
       "bar_style": "success",
       "layout": "IPY_MODEL_f3d7bd73962340229441d4f392c8e27b",
       "max": 10,
       "style": "IPY_MODEL_6eea9f86e7924851be60517eeef6281c",
       "value": 10
      }
     },
     "59a5fa64be664aa580ca8f6791bab690": {
      "model_module": "@jupyter-widgets/base",
      "model_module_version": "2.0.0",
      "model_name": "LayoutModel",
      "state": {}
     },
     "6eea9f86e7924851be60517eeef6281c": {
      "model_module": "@jupyter-widgets/controls",
      "model_module_version": "2.0.0",
      "model_name": "ProgressStyleModel",
      "state": {
       "description_width": ""
      }
     },
     "b8ffb3688ca84a9b8bfdb42f5fd48c0d": {
      "model_module": "@jupyter-widgets/base",
      "model_module_version": "2.0.0",
      "model_name": "LayoutModel",
      "state": {}
     },
     "c9cb9d90e77a402a9c3f46d5f1250e9b": {
      "model_module": "@jupyter-widgets/base",
      "model_module_version": "2.0.0",
      "model_name": "LayoutModel",
      "state": {}
     },
     "e66e153ffacf4384bacb330b0050d9ea": {
      "model_module": "@jupyter-widgets/base",
      "model_module_version": "2.0.0",
      "model_name": "LayoutModel",
      "state": {}
     },
     "eb26cf32cd064a6e84733aa5cffaa8e5": {
      "model_module": "@jupyter-widgets/controls",
      "model_module_version": "2.0.0",
      "model_name": "HTMLModel",
      "state": {
       "layout": "IPY_MODEL_59a5fa64be664aa580ca8f6791bab690",
       "style": "IPY_MODEL_ed0f240b487d4033a69a7480062006f0",
       "value": "100%"
      }
     },
     "ed0f240b487d4033a69a7480062006f0": {
      "model_module": "@jupyter-widgets/controls",
      "model_module_version": "2.0.0",
      "model_name": "HTMLStyleModel",
      "state": {
       "description_width": "",
       "font_size": null,
       "text_color": null
      }
     },
     "ee333f75f6584a0b9036375cab2f413f": {
      "model_module": "@jupyter-widgets/controls",
      "model_module_version": "2.0.0",
      "model_name": "HTMLStyleModel",
      "state": {
       "description_width": "",
       "font_size": null,
       "text_color": null
      }
     },
     "efe75232ea994b5dbb2e0b8bdb3dc18b": {
      "model_module": "@jupyter-widgets/controls",
      "model_module_version": "2.0.0",
      "model_name": "HTMLModel",
      "state": {
       "layout": "IPY_MODEL_e66e153ffacf4384bacb330b0050d9ea",
       "style": "IPY_MODEL_ee333f75f6584a0b9036375cab2f413f",
       "value": " 10/10 [00:00&lt;00:00, 106.18it/s]"
      }
     },
     "f026873cb79441839863187a44629255": {
      "model_module": "@jupyter-widgets/controls",
      "model_module_version": "2.0.0",
      "model_name": "HTMLModel",
      "state": {
       "layout": "IPY_MODEL_c9cb9d90e77a402a9c3f46d5f1250e9b",
       "style": "IPY_MODEL_10332019b21c4b6a93cef0f98326e58f",
       "value": " 10/10 [00:00&lt;00:00, 89.09it/s]"
      }
     },
     "f3d7bd73962340229441d4f392c8e27b": {
      "model_module": "@jupyter-widgets/base",
      "model_module_version": "2.0.0",
      "model_name": "LayoutModel",
      "state": {}
     }
    },
    "version_major": 2,
    "version_minor": 0
   }
  }
 },
 "nbformat": 4,
 "nbformat_minor": 5
}
