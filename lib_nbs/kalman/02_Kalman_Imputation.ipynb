{
 "cells": [
  {
   "cell_type": "markdown",
   "id": "42746a7d-4479-4f29-9086-33d4f1be7f53",
   "metadata": {},
   "source": [
    "# Imputation Kalman Model\n",
    "> Imputation using Kalman Models"
   ]
  },
  {
   "cell_type": "code",
   "execution_count": null,
   "id": "552019c2-1718-455d-8e84-7fef045c69a6",
   "metadata": {},
   "outputs": [],
   "source": [
    "%load_ext autoreload\n",
    "%autoreload 2"
   ]
  },
  {
   "cell_type": "code",
   "execution_count": null,
   "id": "257cc32a-fe73-40c8-ae09-754c644eb804",
   "metadata": {},
   "outputs": [],
   "source": [
    "#| hide\n",
    "#| default_exp kalman.imputation"
   ]
  },
  {
   "cell_type": "code",
   "execution_count": null,
   "id": "9449a804-1e12-4f2a-b3bb-83f7616b8e5a",
   "metadata": {},
   "outputs": [],
   "source": [
    "#| export\n",
    "import pandas as pd\n",
    "import numpy as np\n",
    "from meteo_imp.kalman.model import KalmanModel\n",
    "from meteo_imp.results import ImputationResult\n",
    "from meteo_imp.utils import *\n",
    "from fastcore.basics import store_attr, patch\n",
    "from meteo_imp.data_preparation import StandardScaler\n",
    "\n",
    "import torch\n",
    "from torch import Tensor"
   ]
  },
  {
   "cell_type": "markdown",
   "id": "f8d9043a-e74c-4942-bed2-11c4b568423d",
   "metadata": {},
   "source": [
    "## Imputation"
   ]
  },
  {
   "cell_type": "code",
   "execution_count": null,
   "id": "6ce3403f-aa17-434f-85b5-17dbe23ccc8e",
   "metadata": {},
   "outputs": [],
   "source": [
    "#| export\n",
    "class KalmanImputation:\n",
    "    \"\"\"Imputation using a kalman model\"\"\"\n",
    "    def __init__(self, data: pd.DataFrame,\n",
    "                 model: KalmanModel = KalmanModel, # a subclass of KalmanModel to be used as model\n",
    "                ):\n",
    "        self.data = data\n",
    "        self.train_idx = ~torch.tensor(self.data.isna().any(axis=1))\n",
    "        \n",
    "        train_data = torch.tensor(data.to_numpy())\n",
    "        self.scaler = StandardScaler(train_data)\n",
    "        train_data = self.scaler.transform(train_data)\n",
    "        self.train_data = train_data\n",
    "        \n",
    "        self.T = torch.arange(self.data.shape[0])\n",
    "        self.model = model(self.train_data)\n",
    "    def fit(self, n_iter=10, lr=.1) -> 'KalmanImputation':\n",
    "        \"\"\"Fit model parameters\"\"\"\n",
    "        times = self.T[self.train_idx]\n",
    "        obs_test = self.train_data[self.train_idx]\n",
    "        self.model.train(times, obs_test, n_iter, lr)\n",
    "        return self\n",
    "\n",
    "    def impute(self,\n",
    "               pred_all = False, # If the dataset should be replaced by the model predictions\n",
    "                                # or only the gaps imputed using the model\n",
    "              ):\n",
    "        \"\"\"Impute data in tidy format using model\"\"\"\n",
    "        # predict either no all dataset or only on part\n",
    "        if pred_all:\n",
    "            time_mask = self.T\n",
    "            data_mask = torch.ones_like(self.train_idx, dtype=bool)\n",
    "        else:\n",
    "            time_mask = self.T[~self.train_idx]\n",
    "            data_mask = ~self.train_idx\n",
    "\n",
    "        pred = self.model.predict(time_mask)\n",
    "        \n",
    "        imp_mean = self.data.copy()\n",
    "        mean = self.scaler.inverse_transform(pred.mean)\n",
    "        imp_mean.iloc[data_mask, :] = mean.cpu().numpy()\n",
    "        imp_mean = imp_mean.assign(time=self.T).melt('time', value_name = 'mean')\n",
    "        \n",
    "        # for observations std is 0\n",
    "        imp_std = pd.DataFrame(np.zeros_like(self.data), columns=self.data.columns)\n",
    "        # get the diagonal of the covariance matrices (the variance) and transform to std\n",
    "        std = cov2std(pred.cov)\n",
    "        std = self.scaler.inverse_transform_std(std)\n",
    "        imp_std.iloc[data_mask, :] = std.cpu().numpy()\n",
    "        imp_std = imp_std.assign(time=self.T).melt('time',value_name = 'std')\n",
    "        \n",
    "        return pd.merge(imp_mean, imp_std, on=['time', 'variable'])       "
   ]
  },
  {
   "cell_type": "code",
   "execution_count": null,
   "id": "c28723b7-fce7-4334-9607-70b203f70109",
   "metadata": {},
   "outputs": [],
   "source": [
    "from meteo_imp.data_preparation import MeteoDataTest"
   ]
  },
  {
   "cell_type": "code",
   "execution_count": null,
   "id": "d703cc28-1a6a-40fd-b151-cd1ef05a92c3",
   "metadata": {},
   "outputs": [],
   "source": [
    "reset_seed(1)\n",
    "data = MeteoDataTest.generate_gpfa(2, 5).add_random_missing()"
   ]
  },
  {
   "cell_type": "code",
   "execution_count": null,
   "id": "492b6c27-9e6b-4334-9c64-76f2bb52425f",
   "metadata": {},
   "outputs": [
    {
     "data": {
      "text/html": [
       "<div>\n",
       "<style scoped>\n",
       "    .dataframe tbody tr th:only-of-type {\n",
       "        vertical-align: middle;\n",
       "    }\n",
       "\n",
       "    .dataframe tbody tr th {\n",
       "        vertical-align: top;\n",
       "    }\n",
       "\n",
       "    .dataframe thead th {\n",
       "        text-align: right;\n",
       "    }\n",
       "</style>\n",
       "<table border=\"1\" class=\"dataframe\">\n",
       "  <thead>\n",
       "    <tr style=\"text-align: right;\">\n",
       "      <th></th>\n",
       "      <th>x0</th>\n",
       "      <th>x1</th>\n",
       "    </tr>\n",
       "  </thead>\n",
       "  <tbody>\n",
       "    <tr>\n",
       "      <th>0</th>\n",
       "      <td>0.023263</td>\n",
       "      <td>NaN</td>\n",
       "    </tr>\n",
       "    <tr>\n",
       "      <th>1</th>\n",
       "      <td>0.219627</td>\n",
       "      <td>0.268028</td>\n",
       "    </tr>\n",
       "    <tr>\n",
       "      <th>2</th>\n",
       "      <td>-0.039892</td>\n",
       "      <td>0.063075</td>\n",
       "    </tr>\n",
       "    <tr>\n",
       "      <th>3</th>\n",
       "      <td>NaN</td>\n",
       "      <td>NaN</td>\n",
       "    </tr>\n",
       "    <tr>\n",
       "      <th>4</th>\n",
       "      <td>-0.645490</td>\n",
       "      <td>-0.144866</td>\n",
       "    </tr>\n",
       "  </tbody>\n",
       "</table>\n",
       "</div>"
      ],
      "text/plain": [
       "         x0        x1\n",
       "0  0.023263       NaN\n",
       "1  0.219627  0.268028\n",
       "2 -0.039892  0.063075\n",
       "3       NaN       NaN\n",
       "4 -0.645490 -0.144866"
      ]
     },
     "execution_count": null,
     "metadata": {},
     "output_type": "execute_result"
    }
   ],
   "source": [
    "data.data"
   ]
  },
  {
   "cell_type": "code",
   "execution_count": null,
   "id": "f9e14727-0ce3-4479-91e2-1ca6ffefe95b",
   "metadata": {},
   "outputs": [],
   "source": [
    "k_imp = KalmanImputation(data.data)"
   ]
  },
  {
   "cell_type": "code",
   "execution_count": null,
   "id": "639808f4-32c9-4b1f-ac09-e94aff73a648",
   "metadata": {},
   "outputs": [
    {
     "data": {
      "text/plain": [
       "tensor([[ 0.3586,     nan],\n",
       "        [ 0.8847,  0.9976],\n",
       "        [ 0.1895,  0.0048],\n",
       "        [    nan,     nan],\n",
       "        [-1.4328, -1.0024]])"
      ]
     },
     "execution_count": null,
     "metadata": {},
     "output_type": "execute_result"
    }
   ],
   "source": [
    "k_imp.train_data"
   ]
  },
  {
   "cell_type": "code",
   "execution_count": null,
   "id": "99379365-98b4-4c66-9cd0-a87601cf0dd8",
   "metadata": {},
   "outputs": [
    {
     "data": {
      "text/plain": [
       "tensor([[ 0.8847,  0.9976],\n",
       "        [ 0.1895,  0.0048],\n",
       "        [-1.4328, -1.0024]])"
      ]
     },
     "execution_count": null,
     "metadata": {},
     "output_type": "execute_result"
    }
   ],
   "source": [
    "k_imp.train_data[k_imp.train_idx]"
   ]
  },
  {
   "cell_type": "code",
   "execution_count": null,
   "id": "e2d3a271-7b18-4b6d-a06a-f95792c74076",
   "metadata": {},
   "outputs": [
    {
     "name": "stdout",
     "output_type": "stream",
     "text": [
      "starting\n"
     ]
    },
    {
     "data": {
      "application/vnd.jupyter.widget-view+json": {
       "model_id": "9a5e925bf0f5404583ade50dddd6f517",
       "version_major": 2,
       "version_minor": 0
      },
      "text/plain": [
       "  0%|          | 0/10 [00:00<?, ?it/s]"
      ]
     },
     "metadata": {},
     "output_type": "display_data"
    },
    {
     "name": "stdout",
     "output_type": "stream",
     "text": [
      "\n",
      "\n",
      "\n",
      "\n",
      "\n",
      "\n",
      "\n",
      "\n",
      "\n",
      "\n",
      "\n",
      "\n",
      "\n",
      "\n",
      "\n",
      "\n",
      "\n",
      "\n",
      "\n",
      "\n",
      "\n",
      "\n",
      "\n",
      "\n",
      "\n",
      "\n",
      "\n",
      "\n",
      "\n",
      "\n",
      "\n",
      "\n",
      "\n",
      "\n",
      "\n",
      "\n",
      "\n",
      "\n",
      "\n",
      "\n",
      "\n",
      "\n",
      "\n",
      "\n",
      "\n",
      "\n",
      "\n",
      "\n",
      "\n",
      "\n"
     ]
    },
    {
     "data": {
      "text/plain": [
       "<__main__.KalmanImputation>"
      ]
     },
     "execution_count": null,
     "metadata": {},
     "output_type": "execute_result"
    }
   ],
   "source": [
    "k_imp.fit(10, lr=0.1)"
   ]
  },
  {
   "cell_type": "code",
   "execution_count": null,
   "id": "f9c3ba6b-6fc6-46f7-8749-09aca56fa0a6",
   "metadata": {},
   "outputs": [
    {
     "name": "stdout",
     "output_type": "stream",
     "text": [
      "\n",
      "\n",
      "\n",
      "\n",
      "\n"
     ]
    },
    {
     "data": {
      "text/html": [
       "<div>\n",
       "<style scoped>\n",
       "    .dataframe tbody tr th:only-of-type {\n",
       "        vertical-align: middle;\n",
       "    }\n",
       "\n",
       "    .dataframe tbody tr th {\n",
       "        vertical-align: top;\n",
       "    }\n",
       "\n",
       "    .dataframe thead th {\n",
       "        text-align: right;\n",
       "    }\n",
       "</style>\n",
       "<table border=\"1\" class=\"dataframe\">\n",
       "  <thead>\n",
       "    <tr style=\"text-align: right;\">\n",
       "      <th></th>\n",
       "      <th>time</th>\n",
       "      <th>variable</th>\n",
       "      <th>mean</th>\n",
       "      <th>std</th>\n",
       "    </tr>\n",
       "  </thead>\n",
       "  <tbody>\n",
       "    <tr>\n",
       "      <th>0</th>\n",
       "      <td>0</td>\n",
       "      <td>x0</td>\n",
       "      <td>-0.031254</td>\n",
       "      <td>0.473841</td>\n",
       "    </tr>\n",
       "    <tr>\n",
       "      <th>1</th>\n",
       "      <td>1</td>\n",
       "      <td>x0</td>\n",
       "      <td>0.219627</td>\n",
       "      <td>0.000000</td>\n",
       "    </tr>\n",
       "    <tr>\n",
       "      <th>2</th>\n",
       "      <td>2</td>\n",
       "      <td>x0</td>\n",
       "      <td>-0.039892</td>\n",
       "      <td>0.000000</td>\n",
       "    </tr>\n",
       "    <tr>\n",
       "      <th>3</th>\n",
       "      <td>3</td>\n",
       "      <td>x0</td>\n",
       "      <td>-0.280452</td>\n",
       "      <td>0.514002</td>\n",
       "    </tr>\n",
       "    <tr>\n",
       "      <th>4</th>\n",
       "      <td>4</td>\n",
       "      <td>x0</td>\n",
       "      <td>-0.645490</td>\n",
       "      <td>0.000000</td>\n",
       "    </tr>\n",
       "    <tr>\n",
       "      <th>5</th>\n",
       "      <td>0</td>\n",
       "      <td>x1</td>\n",
       "      <td>0.109620</td>\n",
       "      <td>0.259775</td>\n",
       "    </tr>\n",
       "    <tr>\n",
       "      <th>6</th>\n",
       "      <td>1</td>\n",
       "      <td>x1</td>\n",
       "      <td>0.268028</td>\n",
       "      <td>0.000000</td>\n",
       "    </tr>\n",
       "    <tr>\n",
       "      <th>7</th>\n",
       "      <td>2</td>\n",
       "      <td>x1</td>\n",
       "      <td>0.063075</td>\n",
       "      <td>0.000000</td>\n",
       "    </tr>\n",
       "    <tr>\n",
       "      <th>8</th>\n",
       "      <td>3</td>\n",
       "      <td>x1</td>\n",
       "      <td>-0.000474</td>\n",
       "      <td>0.280925</td>\n",
       "    </tr>\n",
       "    <tr>\n",
       "      <th>9</th>\n",
       "      <td>4</td>\n",
       "      <td>x1</td>\n",
       "      <td>-0.144866</td>\n",
       "      <td>0.000000</td>\n",
       "    </tr>\n",
       "  </tbody>\n",
       "</table>\n",
       "</div>"
      ],
      "text/plain": [
       "   time variable      mean       std\n",
       "0     0       x0 -0.031254  0.473841\n",
       "1     1       x0  0.219627  0.000000\n",
       "2     2       x0 -0.039892  0.000000\n",
       "3     3       x0 -0.280452  0.514002\n",
       "4     4       x0 -0.645490  0.000000\n",
       "5     0       x1  0.109620  0.259775\n",
       "6     1       x1  0.268028  0.000000\n",
       "7     2       x1  0.063075  0.000000\n",
       "8     3       x1 -0.000474  0.280925\n",
       "9     4       x1 -0.144866  0.000000"
      ]
     },
     "execution_count": null,
     "metadata": {},
     "output_type": "execute_result"
    }
   ],
   "source": [
    "k_imp.impute()"
   ]
  },
  {
   "cell_type": "code",
   "execution_count": null,
   "id": "85e92652-22be-41c4-8444-527222493807",
   "metadata": {},
   "outputs": [],
   "source": [
    "data.data.shape"
   ]
  },
  {
   "cell_type": "code",
   "execution_count": null,
   "id": "ac31dba2-732d-4ef9-b46e-ec3b35a35b0f",
   "metadata": {},
   "outputs": [],
   "source": [
    "k_imp.impute(pred_all=True)"
   ]
  },
  {
   "cell_type": "markdown",
   "id": "17bfbf29-2869-4391-a68b-f85171744d07",
   "metadata": {},
   "source": [
    "#### Result"
   ]
  },
  {
   "cell_type": "code",
   "execution_count": null,
   "id": "aea7644f-adf7-4c6f-95db-53ea9b3cd089",
   "metadata": {},
   "outputs": [],
   "source": [
    "#| export\n",
    "@patch\n",
    "def to_result(self: KalmanImputation, data_compl, var_names=None, units=None, pred_all=False):\n",
    "    return ImputationResult(self.impute(pred_all), data_compl, self.model.filter.get_info(var_names), units)"
   ]
  },
  {
   "cell_type": "code",
   "execution_count": null,
   "id": "7450371e-3f4e-489c-b34b-94703095a198",
   "metadata": {},
   "outputs": [],
   "source": [
    "X = np.hstack([np.arange(0,3.), np.arange(3., 0, -1)]).reshape(6, 1)"
   ]
  },
  {
   "cell_type": "code",
   "execution_count": null,
   "id": "a11689e0-69fb-4650-a133-01863989ba8a",
   "metadata": {},
   "outputs": [],
   "source": [
    "res = k_imp.to_result(data.data_compl_tidy)"
   ]
  },
  {
   "cell_type": "code",
   "execution_count": null,
   "id": "374f1cc1-9fd8-469c-8a4f-eb0a937a4480",
   "metadata": {},
   "outputs": [],
   "source": [
    "res.display_results()"
   ]
  },
  {
   "cell_type": "markdown",
   "id": "e477a20d-14fa-4be5-b220-1fa28821d420",
   "metadata": {},
   "source": [
    "## Debug"
   ]
  },
  {
   "cell_type": "code",
   "execution_count": null,
   "id": "091b897f-ed9c-411d-83cd-c5e486f8155c",
   "metadata": {},
   "outputs": [],
   "source": [
    "from meteo_imp.data import hai"
   ]
  },
  {
   "cell_type": "code",
   "execution_count": null,
   "id": "50bd3455-45ab-4957-ba8b-b78b029aaccd",
   "metadata": {},
   "outputs": [],
   "source": [
    "td = MeteoDataTest(hai)"
   ]
  },
  {
   "cell_type": "code",
   "execution_count": null,
   "id": "81ff6e21-29cc-4790-9f77-937c46046019",
   "metadata": {},
   "outputs": [],
   "source": [
    "td.add_gap(10, 'TA', 10)"
   ]
  },
  {
   "cell_type": "code",
   "execution_count": null,
   "id": "e15724c5-54d4-45a7-ae91-2a206c639f5c",
   "metadata": {},
   "outputs": [],
   "source": [
    "i_hai = KalmanImputation(td.data)"
   ]
  },
  {
   "cell_type": "code",
   "execution_count": null,
   "id": "0e9be82b-4ae5-4f62-9f02-8a65026ac1a0",
   "metadata": {},
   "outputs": [],
   "source": [
    "i_hai.fit()"
   ]
  },
  {
   "cell_type": "markdown",
   "id": "c8665fbb-8f0f-4722-a524-880e42cffed3",
   "metadata": {},
   "source": [
    "## Export "
   ]
  },
  {
   "cell_type": "code",
   "execution_count": null,
   "id": "925fe863-f406-4bf5-a55a-9ca2302c490b",
   "metadata": {},
   "outputs": [],
   "source": [
    "#| hide\n",
    "from nbdev import nbdev_export\n",
    "nbdev_export()"
   ]
  }
 ],
 "metadata": {
  "kernelspec": {
   "display_name": "data_science",
   "language": "python",
   "name": "data_science"
  },
  "widgets": {
   "application/vnd.jupyter.widget-state+json": {
    "state": {
     "00bd3049897746ca88667ce8f5d750fd": {
      "model_module": "@jupyter-widgets/controls",
      "model_module_version": "2.0.0",
      "model_name": "HTMLStyleModel",
      "state": {
       "description_width": "",
       "font_size": null,
       "text_color": null
      }
     },
     "0837f70a2a2f454f844849889fbf9f7e": {
      "model_module": "@jupyter-widgets/controls",
      "model_module_version": "2.0.0",
      "model_name": "HTMLModel",
      "state": {
       "layout": "IPY_MODEL_c719d76b7cb44a6495dbd3c75c3217a4",
       "style": "IPY_MODEL_41ea71b7147747918b781fdc1549c57e",
       "value": "100%"
      }
     },
     "0a4ff7364a1e42b2a37051e28935431a": {
      "model_module": "@jupyter-widgets/base",
      "model_module_version": "2.0.0",
      "model_name": "LayoutModel",
      "state": {}
     },
     "0be951cec39345e497d470edeac11156": {
      "model_module": "@jupyter-widgets/controls",
      "model_module_version": "2.0.0",
      "model_name": "HTMLStyleModel",
      "state": {
       "description_width": "",
       "font_size": null,
       "text_color": null
      }
     },
     "0bf1c0bb95de46589d225b36739f28e8": {
      "model_module": "@jupyter-widgets/base",
      "model_module_version": "2.0.0",
      "model_name": "LayoutModel",
      "state": {}
     },
     "0c28eef1fc8e4ff8b207fca33c9c6305": {
      "model_module": "@jupyter-widgets/controls",
      "model_module_version": "2.0.0",
      "model_name": "HBoxModel",
      "state": {
       "children": [
        "IPY_MODEL_8f121f601cd54fe191197869d3052d95",
        "IPY_MODEL_deb6534315204b4d8252c0b5cae68a7d",
        "IPY_MODEL_cf3eb2f3df044ad89f6b74c1fc121a08"
       ],
       "layout": "IPY_MODEL_b12488c69e1c4169bbe77b3fb132db69"
      }
     },
     "0c35fe16fba449db9b15c23bb02abcb0": {
      "model_module": "@jupyter-widgets/controls",
      "model_module_version": "2.0.0",
      "model_name": "FloatProgressModel",
      "state": {
       "bar_style": "danger",
       "layout": "IPY_MODEL_baf1071ba8cb4a8793a2e3a9c70fae31",
       "max": 10,
       "style": "IPY_MODEL_22671030a0294c93ab3101b3364e7cd8"
      }
     },
     "0d4f6cdcce1e41998d0b1c4213118e7e": {
      "model_module": "@jupyter-widgets/controls",
      "model_module_version": "2.0.0",
      "model_name": "HTMLStyleModel",
      "state": {
       "description_width": "",
       "font_size": null,
       "text_color": null
      }
     },
     "117ab4d1c4d5495bba0353c295a76dce": {
      "model_module": "@jupyter-widgets/controls",
      "model_module_version": "2.0.0",
      "model_name": "HTMLModel",
      "state": {
       "layout": "IPY_MODEL_2dad7379536843d394d92ebe5bef8ba8",
       "style": "IPY_MODEL_43a419743478457289f72ae41f3f123f",
       "value": " 100/100 [00:01&lt;00:00, 65.74it/s]"
      }
     },
     "13050b61b80c4709833b793f1d73f84d": {
      "model_module": "@jupyter-widgets/controls",
      "model_module_version": "2.0.0",
      "model_name": "HBoxModel",
      "state": {
       "children": [
        "IPY_MODEL_8d9f456c053e49b0af1b9f685b64b72e",
        "IPY_MODEL_b99a82f9dac14c5d8d327c9afa2eb0c2",
        "IPY_MODEL_9ffe1f52faeb42ca97e9cc582532d6ed"
       ],
       "layout": "IPY_MODEL_44ab9696683544a3a46acd0f73afbd8e"
      }
     },
     "138bab1370e9418fa0f5efae795e27d9": {
      "model_module": "@jupyter-widgets/base",
      "model_module_version": "2.0.0",
      "model_name": "LayoutModel",
      "state": {}
     },
     "1494bd2e4dfe440b862aef97e8aa40f2": {
      "model_module": "@jupyter-widgets/base",
      "model_module_version": "2.0.0",
      "model_name": "LayoutModel",
      "state": {}
     },
     "153e8fda8a6b477ba1902041a01c6c1c": {
      "model_module": "@jupyter-widgets/base",
      "model_module_version": "2.0.0",
      "model_name": "LayoutModel",
      "state": {}
     },
     "15b3dda8a6ec46e7b9dca382dbe0ef98": {
      "model_module": "@jupyter-widgets/base",
      "model_module_version": "2.0.0",
      "model_name": "LayoutModel",
      "state": {}
     },
     "16b5a8c86b5d465982ae5d7a3ac133d7": {
      "model_module": "@jupyter-widgets/controls",
      "model_module_version": "2.0.0",
      "model_name": "FloatProgressModel",
      "state": {
       "bar_style": "danger",
       "layout": "IPY_MODEL_1ea99622d63c487b88abd61defbf7ed6",
       "max": 10,
       "style": "IPY_MODEL_c851d73742c343b3a59f2e9fe0d6d2d7",
       "value": 5
      }
     },
     "170f7dfbef0b442e972e3119defc4a19": {
      "model_module": "@jupyter-widgets/controls",
      "model_module_version": "2.0.0",
      "model_name": "HTMLModel",
      "state": {
       "layout": "IPY_MODEL_76592322d1ef4724b26c70a67f0f53c2",
       "style": "IPY_MODEL_75eec803310d43298dd1f1280301f01f",
       "value": " 0/10 [00:00&lt;?, ?it/s]"
      }
     },
     "172f501822a74859b2377666227479cb": {
      "model_module": "@jupyter-widgets/controls",
      "model_module_version": "2.0.0",
      "model_name": "HTMLModel",
      "state": {
       "layout": "IPY_MODEL_6abe973fc4b64b49bf9bf21f70da9753",
       "style": "IPY_MODEL_42e0cc02b38043989ee61aa31e2898b2",
       "value": " 10/10 [00:00&lt;00:00, 35.50it/s]"
      }
     },
     "1e6b6685897141289873f11f234e03a2": {
      "model_module": "@jupyter-widgets/base",
      "model_module_version": "2.0.0",
      "model_name": "LayoutModel",
      "state": {}
     },
     "1ea99622d63c487b88abd61defbf7ed6": {
      "model_module": "@jupyter-widgets/base",
      "model_module_version": "2.0.0",
      "model_name": "LayoutModel",
      "state": {}
     },
     "2030bd15eb0e48339eb948e6b3b9e1ed": {
      "model_module": "@jupyter-widgets/base",
      "model_module_version": "2.0.0",
      "model_name": "LayoutModel",
      "state": {}
     },
     "21891fbf61684a2cbf7685056d9f5729": {
      "model_module": "@jupyter-widgets/controls",
      "model_module_version": "2.0.0",
      "model_name": "HTMLModel",
      "state": {
       "layout": "IPY_MODEL_df6b5f90250b434eac3712876317da48",
       "style": "IPY_MODEL_68b7e46fc85548d9bfba646a166b2db6",
       "value": " 0/100 [00:00&lt;?, ?it/s]"
      }
     },
     "21e42755bc2349638a5283cd8b8589e3": {
      "model_module": "@jupyter-widgets/controls",
      "model_module_version": "2.0.0",
      "model_name": "FloatProgressModel",
      "state": {
       "bar_style": "danger",
       "layout": "IPY_MODEL_1494bd2e4dfe440b862aef97e8aa40f2",
       "style": "IPY_MODEL_435cc23f23d44143b041957b3316da3d"
      }
     },
     "22671030a0294c93ab3101b3364e7cd8": {
      "model_module": "@jupyter-widgets/controls",
      "model_module_version": "2.0.0",
      "model_name": "ProgressStyleModel",
      "state": {
       "description_width": ""
      }
     },
     "25997f00de8749daa73e003f57dd10c4": {
      "model_module": "@jupyter-widgets/controls",
      "model_module_version": "2.0.0",
      "model_name": "HTMLModel",
      "state": {
       "layout": "IPY_MODEL_6c7cdec8789a4fd78df74ba11f242cf2",
       "style": "IPY_MODEL_c3727c7db0aa4bc48e60a11482bd4bb2",
       "value": "100%"
      }
     },
     "2688a24366264383a423cad2901414e7": {
      "model_module": "@jupyter-widgets/controls",
      "model_module_version": "2.0.0",
      "model_name": "HTMLModel",
      "state": {
       "layout": "IPY_MODEL_f5d2ed9abe42457ba3768e1727cc99b2",
       "style": "IPY_MODEL_8802253c53d0472586240c0e2bf6ba48",
       "value": " 0/10 [00:00&lt;?, ?it/s]"
      }
     },
     "29ddc86bf1114ca6ba2e43cd0c03893e": {
      "model_module": "@jupyter-widgets/base",
      "model_module_version": "2.0.0",
      "model_name": "LayoutModel",
      "state": {}
     },
     "2bb4acd554fa493299d6126be07c168e": {
      "model_module": "@jupyter-widgets/controls",
      "model_module_version": "2.0.0",
      "model_name": "ProgressStyleModel",
      "state": {
       "description_width": ""
      }
     },
     "2dad7379536843d394d92ebe5bef8ba8": {
      "model_module": "@jupyter-widgets/base",
      "model_module_version": "2.0.0",
      "model_name": "LayoutModel",
      "state": {}
     },
     "2dafbf599bab4b708ec0ff94287d0846": {
      "model_module": "@jupyter-widgets/controls",
      "model_module_version": "2.0.0",
      "model_name": "ProgressStyleModel",
      "state": {
       "description_width": ""
      }
     },
     "2f36ba3420d34f70895a92e31ee448cc": {
      "model_module": "@jupyter-widgets/controls",
      "model_module_version": "2.0.0",
      "model_name": "HTMLModel",
      "state": {
       "layout": "IPY_MODEL_e7a9b2f2026341e49c628a98661ac171",
       "style": "IPY_MODEL_e7742c86c9fa4a02af00234f5a5a579b",
       "value": "  0%"
      }
     },
     "2fef1e25a09e4a299f1c6ee6d69718d5": {
      "model_module": "@jupyter-widgets/controls",
      "model_module_version": "2.0.0",
      "model_name": "HTMLStyleModel",
      "state": {
       "description_width": "",
       "font_size": null,
       "text_color": null
      }
     },
     "2ff52f5467484169bf194a1f043e3b3b": {
      "model_module": "@jupyter-widgets/controls",
      "model_module_version": "2.0.0",
      "model_name": "HTMLStyleModel",
      "state": {
       "description_width": "",
       "font_size": null,
       "text_color": null
      }
     },
     "3139cd95f5bb42d883f4b5a48c26b5fb": {
      "model_module": "@jupyter-widgets/controls",
      "model_module_version": "2.0.0",
      "model_name": "HTMLStyleModel",
      "state": {
       "description_width": "",
       "font_size": null,
       "text_color": null
      }
     },
     "322a03f8161f47a19602349c6db61e89": {
      "model_module": "@jupyter-widgets/controls",
      "model_module_version": "2.0.0",
      "model_name": "HBoxModel",
      "state": {
       "children": [
        "IPY_MODEL_6dcc9d2c703e450cab45a0d4016d5438",
        "IPY_MODEL_ccb42118c0774d78bbd75b5a37b1bec1",
        "IPY_MODEL_c077a977d99d4187846ea879e3dc3e7d"
       ],
       "layout": "IPY_MODEL_b8e14811186742768ad68190a515039d"
      }
     },
     "34050ffeec1b4ab6b49f02806f4a0d6f": {
      "model_module": "@jupyter-widgets/base",
      "model_module_version": "2.0.0",
      "model_name": "LayoutModel",
      "state": {}
     },
     "36d3a64f98e9429d978cd7c897ebe6c2": {
      "model_module": "@jupyter-widgets/base",
      "model_module_version": "2.0.0",
      "model_name": "LayoutModel",
      "state": {}
     },
     "3730d5a386b5403192d1ee4e60181b17": {
      "model_module": "@jupyter-widgets/controls",
      "model_module_version": "2.0.0",
      "model_name": "FloatProgressModel",
      "state": {
       "bar_style": "success",
       "layout": "IPY_MODEL_f1f9391f906b404fa38e783c6afbea53",
       "max": 10,
       "style": "IPY_MODEL_609833893deb434da8466f6573add5c4",
       "value": 10
      }
     },
     "37990f06273d4b56a3c7cbaca0a6ddf0": {
      "model_module": "@jupyter-widgets/base",
      "model_module_version": "2.0.0",
      "model_name": "LayoutModel",
      "state": {}
     },
     "39d8250521b14e98b7bfe3cc9adf3f97": {
      "model_module": "@jupyter-widgets/controls",
      "model_module_version": "2.0.0",
      "model_name": "HTMLStyleModel",
      "state": {
       "description_width": "",
       "font_size": null,
       "text_color": null
      }
     },
     "3bc973a9328a421c9b04bbf3d7f25fdb": {
      "model_module": "@jupyter-widgets/base",
      "model_module_version": "2.0.0",
      "model_name": "LayoutModel",
      "state": {}
     },
     "3c392afbb635416a83c6f25c236c4a49": {
      "model_module": "@jupyter-widgets/base",
      "model_module_version": "2.0.0",
      "model_name": "LayoutModel",
      "state": {}
     },
     "3ec79eca085f422abf78433eacbc09a0": {
      "model_module": "@jupyter-widgets/controls",
      "model_module_version": "2.0.0",
      "model_name": "HTMLModel",
      "state": {
       "layout": "IPY_MODEL_663e8b9afa2a40f8be9633f08fbab131",
       "style": "IPY_MODEL_ba093e4c5b224d77a49385e3958dd511",
       "value": " 50%"
      }
     },
     "3f1235cf2ba649a59a262adb97c51a1d": {
      "model_module": "@jupyter-widgets/controls",
      "model_module_version": "2.0.0",
      "model_name": "HTMLStyleModel",
      "state": {
       "description_width": "",
       "font_size": null,
       "text_color": null
      }
     },
     "3f2a47ef9ac9438fa58e9ed691bca739": {
      "model_module": "@jupyter-widgets/controls",
      "model_module_version": "2.0.0",
      "model_name": "HTMLStyleModel",
      "state": {
       "description_width": "",
       "font_size": null,
       "text_color": null
      }
     },
     "41ea71b7147747918b781fdc1549c57e": {
      "model_module": "@jupyter-widgets/controls",
      "model_module_version": "2.0.0",
      "model_name": "HTMLStyleModel",
      "state": {
       "description_width": "",
       "font_size": null,
       "text_color": null
      }
     },
     "429046800e2a483187d5b7faefb49223": {
      "model_module": "@jupyter-widgets/controls",
      "model_module_version": "2.0.0",
      "model_name": "HTMLStyleModel",
      "state": {
       "description_width": "",
       "font_size": null,
       "text_color": null
      }
     },
     "42e0cc02b38043989ee61aa31e2898b2": {
      "model_module": "@jupyter-widgets/controls",
      "model_module_version": "2.0.0",
      "model_name": "HTMLStyleModel",
      "state": {
       "description_width": "",
       "font_size": null,
       "text_color": null
      }
     },
     "435cc23f23d44143b041957b3316da3d": {
      "model_module": "@jupyter-widgets/controls",
      "model_module_version": "2.0.0",
      "model_name": "ProgressStyleModel",
      "state": {
       "description_width": ""
      }
     },
     "43630ebd39e1423cb1495b6291e09b19": {
      "model_module": "@jupyter-widgets/base",
      "model_module_version": "2.0.0",
      "model_name": "LayoutModel",
      "state": {}
     },
     "43a419743478457289f72ae41f3f123f": {
      "model_module": "@jupyter-widgets/controls",
      "model_module_version": "2.0.0",
      "model_name": "HTMLStyleModel",
      "state": {
       "description_width": "",
       "font_size": null,
       "text_color": null
      }
     },
     "441c5965ce294531aeac4f61771383f2": {
      "model_module": "@jupyter-widgets/controls",
      "model_module_version": "2.0.0",
      "model_name": "HTMLModel",
      "state": {
       "layout": "IPY_MODEL_ac841e53ad474360bb57bb0256fbbe1d",
       "style": "IPY_MODEL_d8df931f716c43a4b978d036411b3d72",
       "value": " 5/10 [00:03&lt;00:03,  1.66it/s]"
      }
     },
     "44ab9696683544a3a46acd0f73afbd8e": {
      "model_module": "@jupyter-widgets/base",
      "model_module_version": "2.0.0",
      "model_name": "LayoutModel",
      "state": {}
     },
     "46deeafe11c84570bd96a1e7eeaef86f": {
      "model_module": "@jupyter-widgets/controls",
      "model_module_version": "2.0.0",
      "model_name": "HTMLModel",
      "state": {
       "layout": "IPY_MODEL_68f830dbe4344cff9bc7c70d93137041",
       "style": "IPY_MODEL_68ebd94891174a37bbc4a3d4fa23f396",
       "value": "100%"
      }
     },
     "49be24ccea4442208f9bdbec0858ff6a": {
      "model_module": "@jupyter-widgets/controls",
      "model_module_version": "2.0.0",
      "model_name": "ProgressStyleModel",
      "state": {
       "description_width": ""
      }
     },
     "4bf018675cda49ef8b471d50168ab38e": {
      "model_module": "@jupyter-widgets/controls",
      "model_module_version": "2.0.0",
      "model_name": "HTMLModel",
      "state": {
       "layout": "IPY_MODEL_b337d853ae474f9fb5dced08aaf35916",
       "style": "IPY_MODEL_99be754962094f41a29b53e46b6a9a87",
       "value": " 10/10 [00:00&lt;00:00, 44.01it/s]"
      }
     },
     "4d792b57274b427999506ebcbfae9ccd": {
      "model_module": "@jupyter-widgets/controls",
      "model_module_version": "2.0.0",
      "model_name": "HTMLModel",
      "state": {
       "layout": "IPY_MODEL_57f9756267ea4b52a3c465304394f8e5",
       "style": "IPY_MODEL_c64c56a08686469e930261ae3b4c01e3",
       "value": " 0/10 [00:00&lt;?, ?it/s]"
      }
     },
     "51d645f2eb164461825c218d46853bee": {
      "model_module": "@jupyter-widgets/base",
      "model_module_version": "2.0.0",
      "model_name": "LayoutModel",
      "state": {}
     },
     "5221577e388d4589a8881fa460e72e50": {
      "model_module": "@jupyter-widgets/base",
      "model_module_version": "2.0.0",
      "model_name": "LayoutModel",
      "state": {}
     },
     "534328e625544fd9b0481a600b19293f": {
      "model_module": "@jupyter-widgets/base",
      "model_module_version": "2.0.0",
      "model_name": "LayoutModel",
      "state": {}
     },
     "55a501dd2c234c7fa07a52b55b04cf2b": {
      "model_module": "@jupyter-widgets/base",
      "model_module_version": "2.0.0",
      "model_name": "LayoutModel",
      "state": {}
     },
     "57f9756267ea4b52a3c465304394f8e5": {
      "model_module": "@jupyter-widgets/base",
      "model_module_version": "2.0.0",
      "model_name": "LayoutModel",
      "state": {}
     },
     "5d2c917274324aa8bef7c2250e71b006": {
      "model_module": "@jupyter-widgets/controls",
      "model_module_version": "2.0.0",
      "model_name": "HTMLModel",
      "state": {
       "layout": "IPY_MODEL_cf7924a8bd6d4df4a3f77a913f591f14",
       "style": "IPY_MODEL_c343db9602a94b85b68b2a6485a117d6",
       "value": "  0%"
      }
     },
     "5ebb5974921240eb9da60e1d0580d5f2": {
      "model_module": "@jupyter-widgets/controls",
      "model_module_version": "2.0.0",
      "model_name": "FloatProgressModel",
      "state": {
       "bar_style": "success",
       "layout": "IPY_MODEL_37990f06273d4b56a3c7cbaca0a6ddf0",
       "max": 10,
       "style": "IPY_MODEL_e85b3494a6604795b3dca2e79e212179",
       "value": 10
      }
     },
     "609833893deb434da8466f6573add5c4": {
      "model_module": "@jupyter-widgets/controls",
      "model_module_version": "2.0.0",
      "model_name": "ProgressStyleModel",
      "state": {
       "description_width": ""
      }
     },
     "6193e503d4db418cba3104ee1d191274": {
      "model_module": "@jupyter-widgets/controls",
      "model_module_version": "2.0.0",
      "model_name": "FloatProgressModel",
      "state": {
       "bar_style": "success",
       "layout": "IPY_MODEL_15b3dda8a6ec46e7b9dca382dbe0ef98",
       "max": 10,
       "style": "IPY_MODEL_7ede2c02a59f4fd68e8150e1ecd4f837",
       "value": 10
      }
     },
     "630f36eb3a6c40da98701936de969ff9": {
      "model_module": "@jupyter-widgets/base",
      "model_module_version": "2.0.0",
      "model_name": "LayoutModel",
      "state": {}
     },
     "663e8b9afa2a40f8be9633f08fbab131": {
      "model_module": "@jupyter-widgets/base",
      "model_module_version": "2.0.0",
      "model_name": "LayoutModel",
      "state": {}
     },
     "667c9d7bda98484294d2c2485ca90397": {
      "model_module": "@jupyter-widgets/controls",
      "model_module_version": "2.0.0",
      "model_name": "HTMLStyleModel",
      "state": {
       "description_width": "",
       "font_size": null,
       "text_color": null
      }
     },
     "68b7e46fc85548d9bfba646a166b2db6": {
      "model_module": "@jupyter-widgets/controls",
      "model_module_version": "2.0.0",
      "model_name": "HTMLStyleModel",
      "state": {
       "description_width": "",
       "font_size": null,
       "text_color": null
      }
     },
     "68ebd94891174a37bbc4a3d4fa23f396": {
      "model_module": "@jupyter-widgets/controls",
      "model_module_version": "2.0.0",
      "model_name": "HTMLStyleModel",
      "state": {
       "description_width": "",
       "font_size": null,
       "text_color": null
      }
     },
     "68f830dbe4344cff9bc7c70d93137041": {
      "model_module": "@jupyter-widgets/base",
      "model_module_version": "2.0.0",
      "model_name": "LayoutModel",
      "state": {}
     },
     "6abe973fc4b64b49bf9bf21f70da9753": {
      "model_module": "@jupyter-widgets/base",
      "model_module_version": "2.0.0",
      "model_name": "LayoutModel",
      "state": {}
     },
     "6c7cdec8789a4fd78df74ba11f242cf2": {
      "model_module": "@jupyter-widgets/base",
      "model_module_version": "2.0.0",
      "model_name": "LayoutModel",
      "state": {}
     },
     "6dcc9d2c703e450cab45a0d4016d5438": {
      "model_module": "@jupyter-widgets/controls",
      "model_module_version": "2.0.0",
      "model_name": "HTMLModel",
      "state": {
       "layout": "IPY_MODEL_3c392afbb635416a83c6f25c236c4a49",
       "style": "IPY_MODEL_667c9d7bda98484294d2c2485ca90397",
       "value": "100%"
      }
     },
     "6eb911f2ace5454a9739dc107167e820": {
      "model_module": "@jupyter-widgets/controls",
      "model_module_version": "2.0.0",
      "model_name": "HTMLModel",
      "state": {
       "layout": "IPY_MODEL_e79b348a2854474baf9ed95bd8c54586",
       "style": "IPY_MODEL_2fef1e25a09e4a299f1c6ee6d69718d5",
       "value": "  0%"
      }
     },
     "6f3ae4d995324c2eba56ca46348ed393": {
      "model_module": "@jupyter-widgets/controls",
      "model_module_version": "2.0.0",
      "model_name": "HTMLStyleModel",
      "state": {
       "description_width": "",
       "font_size": null,
       "text_color": null
      }
     },
     "71cbd0db4c0e4838b42bb3f0d7bda668": {
      "model_module": "@jupyter-widgets/base",
      "model_module_version": "2.0.0",
      "model_name": "LayoutModel",
      "state": {}
     },
     "75eec803310d43298dd1f1280301f01f": {
      "model_module": "@jupyter-widgets/controls",
      "model_module_version": "2.0.0",
      "model_name": "HTMLStyleModel",
      "state": {
       "description_width": "",
       "font_size": null,
       "text_color": null
      }
     },
     "76592322d1ef4724b26c70a67f0f53c2": {
      "model_module": "@jupyter-widgets/base",
      "model_module_version": "2.0.0",
      "model_name": "LayoutModel",
      "state": {}
     },
     "78596a6c31d94c65844f1873f364e597": {
      "model_module": "@jupyter-widgets/controls",
      "model_module_version": "2.0.0",
      "model_name": "HTMLStyleModel",
      "state": {
       "description_width": "",
       "font_size": null,
       "text_color": null
      }
     },
     "7a23bbd157a840548936eb21d151ce9c": {
      "model_module": "@jupyter-widgets/controls",
      "model_module_version": "2.0.0",
      "model_name": "HBoxModel",
      "state": {
       "children": [
        "IPY_MODEL_efe510750b4743b9bb3c76238852ae1c",
        "IPY_MODEL_e453c167f3c14a479dffbf2db1c9ba32",
        "IPY_MODEL_cd21402746624690b8c966d65c5d1f49"
       ],
       "layout": "IPY_MODEL_29ddc86bf1114ca6ba2e43cd0c03893e"
      }
     },
     "7b4e8a4811a14e84bcfd74e4085e544f": {
      "model_module": "@jupyter-widgets/controls",
      "model_module_version": "2.0.0",
      "model_name": "HTMLModel",
      "state": {
       "layout": "IPY_MODEL_d11e1f3e951747658cbb70e9f6aa52fb",
       "style": "IPY_MODEL_e4c23d96ea834834a5ad19cb4b40696a",
       "value": " 10/10 [00:00&lt;00:00, 48.91it/s]"
      }
     },
     "7ceaa7e48c8f4be792919fd987b93fc7": {
      "model_module": "@jupyter-widgets/controls",
      "model_module_version": "2.0.0",
      "model_name": "ProgressStyleModel",
      "state": {
       "description_width": ""
      }
     },
     "7e3a60c7ce71482c8b7fe1fc749d1c98": {
      "model_module": "@jupyter-widgets/base",
      "model_module_version": "2.0.0",
      "model_name": "LayoutModel",
      "state": {}
     },
     "7ede2c02a59f4fd68e8150e1ecd4f837": {
      "model_module": "@jupyter-widgets/controls",
      "model_module_version": "2.0.0",
      "model_name": "ProgressStyleModel",
      "state": {
       "description_width": ""
      }
     },
     "7f03731601b34f1fafee9084199d9713": {
      "model_module": "@jupyter-widgets/base",
      "model_module_version": "2.0.0",
      "model_name": "LayoutModel",
      "state": {}
     },
     "8014d682254b4497a0822385c56cd5fe": {
      "model_module": "@jupyter-widgets/base",
      "model_module_version": "2.0.0",
      "model_name": "LayoutModel",
      "state": {}
     },
     "839275f7933644dcac6f9232c651da7d": {
      "model_module": "@jupyter-widgets/controls",
      "model_module_version": "2.0.0",
      "model_name": "FloatProgressModel",
      "state": {
       "bar_style": "danger",
       "layout": "IPY_MODEL_55a501dd2c234c7fa07a52b55b04cf2b",
       "max": 10,
       "style": "IPY_MODEL_49be24ccea4442208f9bdbec0858ff6a"
      }
     },
     "8625228bb8dd46e9a46dedf2cc08e9c8": {
      "model_module": "@jupyter-widgets/base",
      "model_module_version": "2.0.0",
      "model_name": "LayoutModel",
      "state": {}
     },
     "8802253c53d0472586240c0e2bf6ba48": {
      "model_module": "@jupyter-widgets/controls",
      "model_module_version": "2.0.0",
      "model_name": "HTMLStyleModel",
      "state": {
       "description_width": "",
       "font_size": null,
       "text_color": null
      }
     },
     "89c0aa5e389f49e0b88413e0ee8fb8ba": {
      "model_module": "@jupyter-widgets/base",
      "model_module_version": "2.0.0",
      "model_name": "LayoutModel",
      "state": {}
     },
     "8b2f8e0695614b109c2007961545e3c2": {
      "model_module": "@jupyter-widgets/controls",
      "model_module_version": "2.0.0",
      "model_name": "HBoxModel",
      "state": {
       "children": [
        "IPY_MODEL_2f36ba3420d34f70895a92e31ee448cc",
        "IPY_MODEL_839275f7933644dcac6f9232c651da7d",
        "IPY_MODEL_2688a24366264383a423cad2901414e7"
       ],
       "layout": "IPY_MODEL_138bab1370e9418fa0f5efae795e27d9"
      }
     },
     "8b8c53bdc0a44b34ae5f7a4b72161c6b": {
      "model_module": "@jupyter-widgets/base",
      "model_module_version": "2.0.0",
      "model_name": "LayoutModel",
      "state": {}
     },
     "8bc880535b0b495685c5037dc9d16aec": {
      "model_module": "@jupyter-widgets/controls",
      "model_module_version": "2.0.0",
      "model_name": "ProgressStyleModel",
      "state": {
       "description_width": ""
      }
     },
     "8c57aa4711854474a96aaf35290084ea": {
      "model_module": "@jupyter-widgets/base",
      "model_module_version": "2.0.0",
      "model_name": "LayoutModel",
      "state": {}
     },
     "8d8c1d6c3432413689a10059793bd257": {
      "model_module": "@jupyter-widgets/controls",
      "model_module_version": "2.0.0",
      "model_name": "HBoxModel",
      "state": {
       "children": [
        "IPY_MODEL_25997f00de8749daa73e003f57dd10c4",
        "IPY_MODEL_5ebb5974921240eb9da60e1d0580d5f2",
        "IPY_MODEL_c2ed36c1e83c4015bdc930dc15351450"
       ],
       "layout": "IPY_MODEL_abbfb45523e743e6b180619051e057f5"
      }
     },
     "8d9f456c053e49b0af1b9f685b64b72e": {
      "model_module": "@jupyter-widgets/controls",
      "model_module_version": "2.0.0",
      "model_name": "HTMLModel",
      "state": {
       "layout": "IPY_MODEL_89c0aa5e389f49e0b88413e0ee8fb8ba",
       "style": "IPY_MODEL_0d4f6cdcce1e41998d0b1c4213118e7e",
       "value": "  0%"
      }
     },
     "8f121f601cd54fe191197869d3052d95": {
      "model_module": "@jupyter-widgets/controls",
      "model_module_version": "2.0.0",
      "model_name": "HTMLModel",
      "state": {
       "layout": "IPY_MODEL_71cbd0db4c0e4838b42bb3f0d7bda668",
       "style": "IPY_MODEL_00bd3049897746ca88667ce8f5d750fd",
       "value": "100%"
      }
     },
     "92fc9acb3e2942d2aa17a67aa7e9d5ce": {
      "model_module": "@jupyter-widgets/controls",
      "model_module_version": "2.0.0",
      "model_name": "HBoxModel",
      "state": {
       "children": [
        "IPY_MODEL_b8a18c3a3c884074adfaeae342f281d6",
        "IPY_MODEL_21e42755bc2349638a5283cd8b8589e3",
        "IPY_MODEL_21891fbf61684a2cbf7685056d9f5729"
       ],
       "layout": "IPY_MODEL_a6d6e7bea5c64460bd3b586865c5a494"
      }
     },
     "9843a7bca0684793b36c169fe226e8d9": {
      "model_module": "@jupyter-widgets/base",
      "model_module_version": "2.0.0",
      "model_name": "LayoutModel",
      "state": {}
     },
     "99be754962094f41a29b53e46b6a9a87": {
      "model_module": "@jupyter-widgets/controls",
      "model_module_version": "2.0.0",
      "model_name": "HTMLStyleModel",
      "state": {
       "description_width": "",
       "font_size": null,
       "text_color": null
      }
     },
     "9a2af1db895548dd883723fad2f69bde": {
      "model_module": "@jupyter-widgets/base",
      "model_module_version": "2.0.0",
      "model_name": "LayoutModel",
      "state": {}
     },
     "9a5e925bf0f5404583ade50dddd6f517": {
      "model_module": "@jupyter-widgets/controls",
      "model_module_version": "2.0.0",
      "model_name": "HBoxModel",
      "state": {
       "children": [
        "IPY_MODEL_f47e7f3c944741aaab3a716f335dcb45",
        "IPY_MODEL_3730d5a386b5403192d1ee4e60181b17",
        "IPY_MODEL_7b4e8a4811a14e84bcfd74e4085e544f"
       ],
       "layout": "IPY_MODEL_a93e21decc1b4bae86556798d354c44f"
      }
     },
     "9ae0a649d1eb40e3b3e96753f3859826": {
      "model_module": "@jupyter-widgets/controls",
      "model_module_version": "2.0.0",
      "model_name": "HTMLStyleModel",
      "state": {
       "description_width": "",
       "font_size": null,
       "text_color": null
      }
     },
     "9cd2497442d04a6684f543891358e3bd": {
      "model_module": "@jupyter-widgets/controls",
      "model_module_version": "2.0.0",
      "model_name": "HBoxModel",
      "state": {
       "children": [
        "IPY_MODEL_9f466a65b5164552a20b20adada6391b",
        "IPY_MODEL_e77d075df20844fba04037829d4a45ae",
        "IPY_MODEL_fb0dd25ae35b49f88142a44236aa9f6e"
       ],
       "layout": "IPY_MODEL_3bc973a9328a421c9b04bbf3d7f25fdb"
      }
     },
     "9d7531400bb648b9aadc8d10296c1cc1": {
      "model_module": "@jupyter-widgets/controls",
      "model_module_version": "2.0.0",
      "model_name": "HBoxModel",
      "state": {
       "children": [
        "IPY_MODEL_46deeafe11c84570bd96a1e7eeaef86f",
        "IPY_MODEL_6193e503d4db418cba3104ee1d191274",
        "IPY_MODEL_172f501822a74859b2377666227479cb"
       ],
       "layout": "IPY_MODEL_2030bd15eb0e48339eb948e6b3b9e1ed"
      }
     },
     "9e7de19232e74d4d82f1af30ab5443ea": {
      "model_module": "@jupyter-widgets/controls",
      "model_module_version": "2.0.0",
      "model_name": "HTMLStyleModel",
      "state": {
       "description_width": "",
       "font_size": null,
       "text_color": null
      }
     },
     "9ee1c056559344ea932e744b99096aae": {
      "model_module": "@jupyter-widgets/controls",
      "model_module_version": "2.0.0",
      "model_name": "HTMLStyleModel",
      "state": {
       "description_width": "",
       "font_size": null,
       "text_color": null
      }
     },
     "9f466a65b5164552a20b20adada6391b": {
      "model_module": "@jupyter-widgets/controls",
      "model_module_version": "2.0.0",
      "model_name": "HTMLModel",
      "state": {
       "layout": "IPY_MODEL_b1ff39ea751c408ea7ccf87f2b91c298",
       "style": "IPY_MODEL_429046800e2a483187d5b7faefb49223",
       "value": "  0%"
      }
     },
     "9ffe1f52faeb42ca97e9cc582532d6ed": {
      "model_module": "@jupyter-widgets/controls",
      "model_module_version": "2.0.0",
      "model_name": "HTMLModel",
      "state": {
       "layout": "IPY_MODEL_8625228bb8dd46e9a46dedf2cc08e9c8",
       "style": "IPY_MODEL_d8cce88ec4c1437abbfbd1dc392ca860",
       "value": " 0/10 [00:00&lt;?, ?it/s]"
      }
     },
     "a05bbe8277274472bbdbf6eb24651172": {
      "model_module": "@jupyter-widgets/base",
      "model_module_version": "2.0.0",
      "model_name": "LayoutModel",
      "state": {}
     },
     "a6d6e7bea5c64460bd3b586865c5a494": {
      "model_module": "@jupyter-widgets/base",
      "model_module_version": "2.0.0",
      "model_name": "LayoutModel",
      "state": {}
     },
     "a93e21decc1b4bae86556798d354c44f": {
      "model_module": "@jupyter-widgets/base",
      "model_module_version": "2.0.0",
      "model_name": "LayoutModel",
      "state": {}
     },
     "abbfb45523e743e6b180619051e057f5": {
      "model_module": "@jupyter-widgets/base",
      "model_module_version": "2.0.0",
      "model_name": "LayoutModel",
      "state": {}
     },
     "ac841e53ad474360bb57bb0256fbbe1d": {
      "model_module": "@jupyter-widgets/base",
      "model_module_version": "2.0.0",
      "model_name": "LayoutModel",
      "state": {}
     },
     "aef25fd9b0b34edb80638f67daca2a98": {
      "model_module": "@jupyter-widgets/base",
      "model_module_version": "2.0.0",
      "model_name": "LayoutModel",
      "state": {}
     },
     "b03b42484a68461aab90d6211871b215": {
      "model_module": "@jupyter-widgets/controls",
      "model_module_version": "2.0.0",
      "model_name": "ProgressStyleModel",
      "state": {
       "description_width": ""
      }
     },
     "b0d8694ecd104138ada11af454af1a73": {
      "model_module": "@jupyter-widgets/base",
      "model_module_version": "2.0.0",
      "model_name": "LayoutModel",
      "state": {}
     },
     "b12488c69e1c4169bbe77b3fb132db69": {
      "model_module": "@jupyter-widgets/base",
      "model_module_version": "2.0.0",
      "model_name": "LayoutModel",
      "state": {}
     },
     "b1ff39ea751c408ea7ccf87f2b91c298": {
      "model_module": "@jupyter-widgets/base",
      "model_module_version": "2.0.0",
      "model_name": "LayoutModel",
      "state": {}
     },
     "b337d853ae474f9fb5dced08aaf35916": {
      "model_module": "@jupyter-widgets/base",
      "model_module_version": "2.0.0",
      "model_name": "LayoutModel",
      "state": {}
     },
     "b41c2c377be5473a81b0923798e95661": {
      "model_module": "@jupyter-widgets/controls",
      "model_module_version": "2.0.0",
      "model_name": "ProgressStyleModel",
      "state": {
       "description_width": ""
      }
     },
     "b485b080f3664a708ebbb2e5e3457865": {
      "model_module": "@jupyter-widgets/controls",
      "model_module_version": "2.0.0",
      "model_name": "ProgressStyleModel",
      "state": {
       "description_width": ""
      }
     },
     "b850ed4d002f491c8b0f693a60c61860": {
      "model_module": "@jupyter-widgets/controls",
      "model_module_version": "2.0.0",
      "model_name": "FloatProgressModel",
      "state": {
       "bar_style": "danger",
       "layout": "IPY_MODEL_c0fdfcb136da4d3f92a682f0ee271e93",
       "max": 10,
       "style": "IPY_MODEL_b03b42484a68461aab90d6211871b215"
      }
     },
     "b8a18c3a3c884074adfaeae342f281d6": {
      "model_module": "@jupyter-widgets/controls",
      "model_module_version": "2.0.0",
      "model_name": "HTMLModel",
      "state": {
       "layout": "IPY_MODEL_9843a7bca0684793b36c169fe226e8d9",
       "style": "IPY_MODEL_9ae0a649d1eb40e3b3e96753f3859826",
       "value": "  0%"
      }
     },
     "b8c85bc71b80465eaf3777f10c3dc36f": {
      "model_module": "@jupyter-widgets/controls",
      "model_module_version": "2.0.0",
      "model_name": "ProgressStyleModel",
      "state": {
       "description_width": ""
      }
     },
     "b8e14811186742768ad68190a515039d": {
      "model_module": "@jupyter-widgets/base",
      "model_module_version": "2.0.0",
      "model_name": "LayoutModel",
      "state": {}
     },
     "b99a82f9dac14c5d8d327c9afa2eb0c2": {
      "model_module": "@jupyter-widgets/controls",
      "model_module_version": "2.0.0",
      "model_name": "FloatProgressModel",
      "state": {
       "bar_style": "danger",
       "layout": "IPY_MODEL_a05bbe8277274472bbdbf6eb24651172",
       "max": 10,
       "style": "IPY_MODEL_b485b080f3664a708ebbb2e5e3457865"
      }
     },
     "ba093e4c5b224d77a49385e3958dd511": {
      "model_module": "@jupyter-widgets/controls",
      "model_module_version": "2.0.0",
      "model_name": "HTMLStyleModel",
      "state": {
       "description_width": "",
       "font_size": null,
       "text_color": null
      }
     },
     "baf1071ba8cb4a8793a2e3a9c70fae31": {
      "model_module": "@jupyter-widgets/base",
      "model_module_version": "2.0.0",
      "model_name": "LayoutModel",
      "state": {}
     },
     "bb85c09ba7bb46ccb51a47012a13c1de": {
      "model_module": "@jupyter-widgets/controls",
      "model_module_version": "2.0.0",
      "model_name": "ProgressStyleModel",
      "state": {
       "description_width": ""
      }
     },
     "bcdf787d4e9e4e70a031b3f29614db3f": {
      "model_module": "@jupyter-widgets/controls",
      "model_module_version": "2.0.0",
      "model_name": "HTMLModel",
      "state": {
       "layout": "IPY_MODEL_7e3a60c7ce71482c8b7fe1fc749d1c98",
       "style": "IPY_MODEL_39d8250521b14e98b7bfe3cc9adf3f97",
       "value": "100%"
      }
     },
     "be3331102d43401e901e9f63f6145056": {
      "model_module": "@jupyter-widgets/controls",
      "model_module_version": "2.0.0",
      "model_name": "FloatProgressModel",
      "state": {
       "bar_style": "success",
       "layout": "IPY_MODEL_8014d682254b4497a0822385c56cd5fe",
       "max": 10,
       "style": "IPY_MODEL_7ceaa7e48c8f4be792919fd987b93fc7",
       "value": 10
      }
     },
     "beb50122f05d44518d1eb584b2ed46ed": {
      "model_module": "@jupyter-widgets/controls",
      "model_module_version": "2.0.0",
      "model_name": "HBoxModel",
      "state": {
       "children": [
        "IPY_MODEL_f9a9f5015e154eddbc8fce69c7269406",
        "IPY_MODEL_b850ed4d002f491c8b0f693a60c61860",
        "IPY_MODEL_170f7dfbef0b442e972e3119defc4a19"
       ],
       "layout": "IPY_MODEL_5221577e388d4589a8881fa460e72e50"
      }
     },
     "bf8565cd205647b5a7c4c2bf3811cb4d": {
      "model_module": "@jupyter-widgets/base",
      "model_module_version": "2.0.0",
      "model_name": "LayoutModel",
      "state": {}
     },
     "bfb311888a754a25b5c4ec2495ebfbaa": {
      "model_module": "@jupyter-widgets/base",
      "model_module_version": "2.0.0",
      "model_name": "LayoutModel",
      "state": {}
     },
     "c077a977d99d4187846ea879e3dc3e7d": {
      "model_module": "@jupyter-widgets/controls",
      "model_module_version": "2.0.0",
      "model_name": "HTMLModel",
      "state": {
       "layout": "IPY_MODEL_c84eebca558242fda6d6c3de05c3050e",
       "style": "IPY_MODEL_78596a6c31d94c65844f1873f364e597",
       "value": " 10/10 [00:00&lt;00:00, 30.38it/s]"
      }
     },
     "c0fdfcb136da4d3f92a682f0ee271e93": {
      "model_module": "@jupyter-widgets/base",
      "model_module_version": "2.0.0",
      "model_name": "LayoutModel",
      "state": {}
     },
     "c1821a07537f4294a4f479e04e45379a": {
      "model_module": "@jupyter-widgets/base",
      "model_module_version": "2.0.0",
      "model_name": "LayoutModel",
      "state": {}
     },
     "c263b10e7bb84b83ac36863a8b6f81d0": {
      "model_module": "@jupyter-widgets/controls",
      "model_module_version": "2.0.0",
      "model_name": "HTMLStyleModel",
      "state": {
       "description_width": "",
       "font_size": null,
       "text_color": null
      }
     },
     "c2ed36c1e83c4015bdc930dc15351450": {
      "model_module": "@jupyter-widgets/controls",
      "model_module_version": "2.0.0",
      "model_name": "HTMLModel",
      "state": {
       "layout": "IPY_MODEL_b0d8694ecd104138ada11af454af1a73",
       "style": "IPY_MODEL_2ff52f5467484169bf194a1f043e3b3b",
       "value": " 10/10 [00:00&lt;00:00, 46.29it/s]"
      }
     },
     "c343db9602a94b85b68b2a6485a117d6": {
      "model_module": "@jupyter-widgets/controls",
      "model_module_version": "2.0.0",
      "model_name": "HTMLStyleModel",
      "state": {
       "description_width": "",
       "font_size": null,
       "text_color": null
      }
     },
     "c3727c7db0aa4bc48e60a11482bd4bb2": {
      "model_module": "@jupyter-widgets/controls",
      "model_module_version": "2.0.0",
      "model_name": "HTMLStyleModel",
      "state": {
       "description_width": "",
       "font_size": null,
       "text_color": null
      }
     },
     "c64c56a08686469e930261ae3b4c01e3": {
      "model_module": "@jupyter-widgets/controls",
      "model_module_version": "2.0.0",
      "model_name": "HTMLStyleModel",
      "state": {
       "description_width": "",
       "font_size": null,
       "text_color": null
      }
     },
     "c719d76b7cb44a6495dbd3c75c3217a4": {
      "model_module": "@jupyter-widgets/base",
      "model_module_version": "2.0.0",
      "model_name": "LayoutModel",
      "state": {}
     },
     "c84eebca558242fda6d6c3de05c3050e": {
      "model_module": "@jupyter-widgets/base",
      "model_module_version": "2.0.0",
      "model_name": "LayoutModel",
      "state": {}
     },
     "c851d73742c343b3a59f2e9fe0d6d2d7": {
      "model_module": "@jupyter-widgets/controls",
      "model_module_version": "2.0.0",
      "model_name": "ProgressStyleModel",
      "state": {
       "description_width": ""
      }
     },
     "cb075b3c6ee548acbfe8d35dd82ccaa9": {
      "model_module": "@jupyter-widgets/base",
      "model_module_version": "2.0.0",
      "model_name": "LayoutModel",
      "state": {}
     },
     "cbe17ca646d046c3a47aae654ddcf044": {
      "model_module": "@jupyter-widgets/controls",
      "model_module_version": "2.0.0",
      "model_name": "HBoxModel",
      "state": {
       "children": [
        "IPY_MODEL_5d2c917274324aa8bef7c2250e71b006",
        "IPY_MODEL_e714b9b1545143a8a347c93a4c4b568f",
        "IPY_MODEL_4d792b57274b427999506ebcbfae9ccd"
       ],
       "layout": "IPY_MODEL_fbdff3d8f8cf4010a7caffe7811d8c27"
      }
     },
     "cc1e59cdf1814eaab458e0772baa44a2": {
      "model_module": "@jupyter-widgets/controls",
      "model_module_version": "2.0.0",
      "model_name": "HBoxModel",
      "state": {
       "children": [
        "IPY_MODEL_bcdf787d4e9e4e70a031b3f29614db3f",
        "IPY_MODEL_be3331102d43401e901e9f63f6145056",
        "IPY_MODEL_f940a7a0444d47e69f27e5df025cdcf9"
       ],
       "layout": "IPY_MODEL_36d3a64f98e9429d978cd7c897ebe6c2"
      }
     },
     "ccb42118c0774d78bbd75b5a37b1bec1": {
      "model_module": "@jupyter-widgets/controls",
      "model_module_version": "2.0.0",
      "model_name": "FloatProgressModel",
      "state": {
       "bar_style": "success",
       "layout": "IPY_MODEL_153e8fda8a6b477ba1902041a01c6c1c",
       "max": 10,
       "style": "IPY_MODEL_2bb4acd554fa493299d6126be07c168e",
       "value": 10
      }
     },
     "cd21402746624690b8c966d65c5d1f49": {
      "model_module": "@jupyter-widgets/controls",
      "model_module_version": "2.0.0",
      "model_name": "HTMLModel",
      "state": {
       "layout": "IPY_MODEL_f9ab63cb64f54dd98ff0164b3b78fd86",
       "style": "IPY_MODEL_3f1235cf2ba649a59a262adb97c51a1d",
       "value": " 0/10 [00:00&lt;?, ?it/s]"
      }
     },
     "cf3eb2f3df044ad89f6b74c1fc121a08": {
      "model_module": "@jupyter-widgets/controls",
      "model_module_version": "2.0.0",
      "model_name": "HTMLModel",
      "state": {
       "layout": "IPY_MODEL_aef25fd9b0b34edb80638f67daca2a98",
       "style": "IPY_MODEL_9ee1c056559344ea932e744b99096aae",
       "value": " 10/10 [00:00&lt;00:00, 44.41it/s]"
      }
     },
     "cf7924a8bd6d4df4a3f77a913f591f14": {
      "model_module": "@jupyter-widgets/base",
      "model_module_version": "2.0.0",
      "model_name": "LayoutModel",
      "state": {}
     },
     "cfba9549f92a46fab45ee083442f89e7": {
      "model_module": "@jupyter-widgets/base",
      "model_module_version": "2.0.0",
      "model_name": "LayoutModel",
      "state": {}
     },
     "d11e1f3e951747658cbb70e9f6aa52fb": {
      "model_module": "@jupyter-widgets/base",
      "model_module_version": "2.0.0",
      "model_name": "LayoutModel",
      "state": {}
     },
     "d5466345d65248c6a66f56a180c040e2": {
      "model_module": "@jupyter-widgets/controls",
      "model_module_version": "2.0.0",
      "model_name": "HBoxModel",
      "state": {
       "children": [
        "IPY_MODEL_fae963b173344be5a83ab2ca5676cb0a",
        "IPY_MODEL_d7b9136493294bfb95d0330f7583faa2",
        "IPY_MODEL_4bf018675cda49ef8b471d50168ab38e"
       ],
       "layout": "IPY_MODEL_0bf1c0bb95de46589d225b36739f28e8"
      }
     },
     "d7b9136493294bfb95d0330f7583faa2": {
      "model_module": "@jupyter-widgets/controls",
      "model_module_version": "2.0.0",
      "model_name": "FloatProgressModel",
      "state": {
       "bar_style": "success",
       "layout": "IPY_MODEL_7f03731601b34f1fafee9084199d9713",
       "max": 10,
       "style": "IPY_MODEL_8bc880535b0b495685c5037dc9d16aec",
       "value": 10
      }
     },
     "d8cce88ec4c1437abbfbd1dc392ca860": {
      "model_module": "@jupyter-widgets/controls",
      "model_module_version": "2.0.0",
      "model_name": "HTMLStyleModel",
      "state": {
       "description_width": "",
       "font_size": null,
       "text_color": null
      }
     },
     "d8df931f716c43a4b978d036411b3d72": {
      "model_module": "@jupyter-widgets/controls",
      "model_module_version": "2.0.0",
      "model_name": "HTMLStyleModel",
      "state": {
       "description_width": "",
       "font_size": null,
       "text_color": null
      }
     },
     "deb6534315204b4d8252c0b5cae68a7d": {
      "model_module": "@jupyter-widgets/controls",
      "model_module_version": "2.0.0",
      "model_name": "FloatProgressModel",
      "state": {
       "bar_style": "success",
       "layout": "IPY_MODEL_cfba9549f92a46fab45ee083442f89e7",
       "max": 10,
       "style": "IPY_MODEL_b41c2c377be5473a81b0923798e95661",
       "value": 10
      }
     },
     "df6b5f90250b434eac3712876317da48": {
      "model_module": "@jupyter-widgets/base",
      "model_module_version": "2.0.0",
      "model_name": "LayoutModel",
      "state": {}
     },
     "e2161d0deeba4daabc071889eaaea412": {
      "model_module": "@jupyter-widgets/controls",
      "model_module_version": "2.0.0",
      "model_name": "HBoxModel",
      "state": {
       "children": [
        "IPY_MODEL_6eb911f2ace5454a9739dc107167e820",
        "IPY_MODEL_0c35fe16fba449db9b15c23bb02abcb0",
        "IPY_MODEL_e576de53bf6c4fadbf6fba64362f56b9"
       ],
       "layout": "IPY_MODEL_8b8c53bdc0a44b34ae5f7a4b72161c6b"
      }
     },
     "e453c167f3c14a479dffbf2db1c9ba32": {
      "model_module": "@jupyter-widgets/controls",
      "model_module_version": "2.0.0",
      "model_name": "FloatProgressModel",
      "state": {
       "bar_style": "danger",
       "layout": "IPY_MODEL_534328e625544fd9b0481a600b19293f",
       "max": 10,
       "style": "IPY_MODEL_f65c90b73b1b42bcab194722d0dbc07c"
      }
     },
     "e4c23d96ea834834a5ad19cb4b40696a": {
      "model_module": "@jupyter-widgets/controls",
      "model_module_version": "2.0.0",
      "model_name": "HTMLStyleModel",
      "state": {
       "description_width": "",
       "font_size": null,
       "text_color": null
      }
     },
     "e576de53bf6c4fadbf6fba64362f56b9": {
      "model_module": "@jupyter-widgets/controls",
      "model_module_version": "2.0.0",
      "model_name": "HTMLModel",
      "state": {
       "layout": "IPY_MODEL_51d645f2eb164461825c218d46853bee",
       "style": "IPY_MODEL_6f3ae4d995324c2eba56ca46348ed393",
       "value": " 0/10 [00:00&lt;?, ?it/s]"
      }
     },
     "e6b876988b5144b2b714c5686f4c3233": {
      "model_module": "@jupyter-widgets/controls",
      "model_module_version": "2.0.0",
      "model_name": "HBoxModel",
      "state": {
       "children": [
        "IPY_MODEL_0837f70a2a2f454f844849889fbf9f7e",
        "IPY_MODEL_fcd0eba4db5b4b7a8335b6e717e11593",
        "IPY_MODEL_117ab4d1c4d5495bba0353c295a76dce"
       ],
       "layout": "IPY_MODEL_8c57aa4711854474a96aaf35290084ea"
      }
     },
     "e714b9b1545143a8a347c93a4c4b568f": {
      "model_module": "@jupyter-widgets/controls",
      "model_module_version": "2.0.0",
      "model_name": "FloatProgressModel",
      "state": {
       "bar_style": "danger",
       "layout": "IPY_MODEL_bf8565cd205647b5a7c4c2bf3811cb4d",
       "max": 10,
       "style": "IPY_MODEL_bb85c09ba7bb46ccb51a47012a13c1de"
      }
     },
     "e7742c86c9fa4a02af00234f5a5a579b": {
      "model_module": "@jupyter-widgets/controls",
      "model_module_version": "2.0.0",
      "model_name": "HTMLStyleModel",
      "state": {
       "description_width": "",
       "font_size": null,
       "text_color": null
      }
     },
     "e77d075df20844fba04037829d4a45ae": {
      "model_module": "@jupyter-widgets/controls",
      "model_module_version": "2.0.0",
      "model_name": "FloatProgressModel",
      "state": {
       "bar_style": "danger",
       "layout": "IPY_MODEL_bfb311888a754a25b5c4ec2495ebfbaa",
       "max": 10,
       "style": "IPY_MODEL_b8c85bc71b80465eaf3777f10c3dc36f"
      }
     },
     "e79b348a2854474baf9ed95bd8c54586": {
      "model_module": "@jupyter-widgets/base",
      "model_module_version": "2.0.0",
      "model_name": "LayoutModel",
      "state": {}
     },
     "e7a9b2f2026341e49c628a98661ac171": {
      "model_module": "@jupyter-widgets/base",
      "model_module_version": "2.0.0",
      "model_name": "LayoutModel",
      "state": {}
     },
     "e7b4a1cde26c45c1b9dc385957ae6edb": {
      "model_module": "@jupyter-widgets/controls",
      "model_module_version": "2.0.0",
      "model_name": "HTMLStyleModel",
      "state": {
       "description_width": "",
       "font_size": null,
       "text_color": null
      }
     },
     "e85b3494a6604795b3dca2e79e212179": {
      "model_module": "@jupyter-widgets/controls",
      "model_module_version": "2.0.0",
      "model_name": "ProgressStyleModel",
      "state": {
       "description_width": ""
      }
     },
     "ee0f2f4d10354879b99d5ef6783cfd13": {
      "model_module": "@jupyter-widgets/controls",
      "model_module_version": "2.0.0",
      "model_name": "HBoxModel",
      "state": {
       "children": [
        "IPY_MODEL_3ec79eca085f422abf78433eacbc09a0",
        "IPY_MODEL_16b5a8c86b5d465982ae5d7a3ac133d7",
        "IPY_MODEL_441c5965ce294531aeac4f61771383f2"
       ],
       "layout": "IPY_MODEL_9a2af1db895548dd883723fad2f69bde"
      }
     },
     "efe510750b4743b9bb3c76238852ae1c": {
      "model_module": "@jupyter-widgets/controls",
      "model_module_version": "2.0.0",
      "model_name": "HTMLModel",
      "state": {
       "layout": "IPY_MODEL_630f36eb3a6c40da98701936de969ff9",
       "style": "IPY_MODEL_e7b4a1cde26c45c1b9dc385957ae6edb",
       "value": "  0%"
      }
     },
     "f1f9391f906b404fa38e783c6afbea53": {
      "model_module": "@jupyter-widgets/base",
      "model_module_version": "2.0.0",
      "model_name": "LayoutModel",
      "state": {}
     },
     "f47e7f3c944741aaab3a716f335dcb45": {
      "model_module": "@jupyter-widgets/controls",
      "model_module_version": "2.0.0",
      "model_name": "HTMLModel",
      "state": {
       "layout": "IPY_MODEL_1e6b6685897141289873f11f234e03a2",
       "style": "IPY_MODEL_3f2a47ef9ac9438fa58e9ed691bca739",
       "value": "100%"
      }
     },
     "f5d2ed9abe42457ba3768e1727cc99b2": {
      "model_module": "@jupyter-widgets/base",
      "model_module_version": "2.0.0",
      "model_name": "LayoutModel",
      "state": {}
     },
     "f65c90b73b1b42bcab194722d0dbc07c": {
      "model_module": "@jupyter-widgets/controls",
      "model_module_version": "2.0.0",
      "model_name": "ProgressStyleModel",
      "state": {
       "description_width": ""
      }
     },
     "f940a7a0444d47e69f27e5df025cdcf9": {
      "model_module": "@jupyter-widgets/controls",
      "model_module_version": "2.0.0",
      "model_name": "HTMLModel",
      "state": {
       "layout": "IPY_MODEL_0a4ff7364a1e42b2a37051e28935431a",
       "style": "IPY_MODEL_9e7de19232e74d4d82f1af30ab5443ea",
       "value": " 10/10 [00:00&lt;00:00, 46.44it/s]"
      }
     },
     "f9a9f5015e154eddbc8fce69c7269406": {
      "model_module": "@jupyter-widgets/controls",
      "model_module_version": "2.0.0",
      "model_name": "HTMLModel",
      "state": {
       "layout": "IPY_MODEL_cb075b3c6ee548acbfe8d35dd82ccaa9",
       "style": "IPY_MODEL_0be951cec39345e497d470edeac11156",
       "value": "  0%"
      }
     },
     "f9ab63cb64f54dd98ff0164b3b78fd86": {
      "model_module": "@jupyter-widgets/base",
      "model_module_version": "2.0.0",
      "model_name": "LayoutModel",
      "state": {}
     },
     "fae963b173344be5a83ab2ca5676cb0a": {
      "model_module": "@jupyter-widgets/controls",
      "model_module_version": "2.0.0",
      "model_name": "HTMLModel",
      "state": {
       "layout": "IPY_MODEL_43630ebd39e1423cb1495b6291e09b19",
       "style": "IPY_MODEL_c263b10e7bb84b83ac36863a8b6f81d0",
       "value": "100%"
      }
     },
     "fb0dd25ae35b49f88142a44236aa9f6e": {
      "model_module": "@jupyter-widgets/controls",
      "model_module_version": "2.0.0",
      "model_name": "HTMLModel",
      "state": {
       "layout": "IPY_MODEL_c1821a07537f4294a4f479e04e45379a",
       "style": "IPY_MODEL_3139cd95f5bb42d883f4b5a48c26b5fb",
       "value": " 0/10 [00:00&lt;?, ?it/s]"
      }
     },
     "fbdff3d8f8cf4010a7caffe7811d8c27": {
      "model_module": "@jupyter-widgets/base",
      "model_module_version": "2.0.0",
      "model_name": "LayoutModel",
      "state": {}
     },
     "fcd0eba4db5b4b7a8335b6e717e11593": {
      "model_module": "@jupyter-widgets/controls",
      "model_module_version": "2.0.0",
      "model_name": "FloatProgressModel",
      "state": {
       "bar_style": "success",
       "layout": "IPY_MODEL_34050ffeec1b4ab6b49f02806f4a0d6f",
       "style": "IPY_MODEL_2dafbf599bab4b708ec0ff94287d0846",
       "value": 100
      }
     }
    },
    "version_major": 2,
    "version_minor": 0
   }
  }
 },
 "nbformat": 4,
 "nbformat_minor": 5
}
