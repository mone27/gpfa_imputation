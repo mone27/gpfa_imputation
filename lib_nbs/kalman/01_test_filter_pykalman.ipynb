{
 "cells": [
  {
   "cell_type": "markdown",
   "id": "22e19739-7ce6-4689-8f05-5391807270f2",
   "metadata": {},
   "source": [
    "# Tests for Kalman Filter\n",
    "> Compare implementation of Kalman filters using pytorch with `pykalman` implementation"
   ]
  },
  {
   "cell_type": "code",
   "execution_count": null,
   "id": "33b5e640-1b40-4822-8912-f6aef392b22f",
   "metadata": {},
   "outputs": [],
   "source": [
    "%load_ext autoreload\n",
    "%autoreload 2"
   ]
  },
  {
   "cell_type": "code",
   "execution_count": null,
   "id": "c89a8e7f-95e3-4c02-9716-948d5e0dcfca",
   "metadata": {},
   "outputs": [],
   "source": [
    "from fastcore.test import *\n",
    "from fastcore.basics import *\n",
    "from meteo_imp.utils import *\n",
    "from meteo_imp.gaussian import *\n",
    "from meteo_imp.data_preparation import MeteoDataTest\n",
    "from meteo_imp.kalman.filter import *\n",
    "\n",
    "import pykalman\n",
    "from typing import *\n",
    "\n",
    "import numpy as np\n",
    "import pandas as pd\n",
    "import torch\n",
    "from torch import Tensor\n",
    "from torch.distributions import MultivariateNormal"
   ]
  },
  {
   "cell_type": "markdown",
   "id": "ce900cd1-288d-4215-b317-d815f2850215",
   "metadata": {},
   "source": [
    "## Introduction"
   ]
  },
  {
   "cell_type": "markdown",
   "id": "3d3f26ea-ed98-427e-8257-63db13bf17d7",
   "metadata": {},
   "source": [
    "## KalmanFilter"
   ]
  },
  {
   "cell_type": "markdown",
   "id": "6cab259c-2315-4019-bb1e-61f3b1504bd5",
   "metadata": {},
   "source": [
    "The Kalman Filter is an algorithm designed to estimate $P(x_t | y_{0:t})$.  As all state transitions and obss are linear with Gaussian distributed noise, these distributions can be represented exactly as Gaussian distributions with mean `filt_state_means[t]` and covs `filt_state_covs[t]`.\n",
    "Similarly, the Kalman Smoother is an algorithm designed to estimate $P(x_t | y_{0:T-1})$\n",
    "\n"
   ]
  },
  {
   "cell_type": "markdown",
   "id": "68d33ff3-5e3e-40ad-b21c-71d2358a7d7b",
   "metadata": {},
   "source": [
    "### Main class"
   ]
  },
  {
   "cell_type": "code",
   "execution_count": null,
   "id": "366024c0-832c-4c32-878e-6cd305ed0dc2",
   "metadata": {},
   "outputs": [],
   "source": [
    "k = KalmanFilter.init_random(1,1)"
   ]
  },
  {
   "cell_type": "code",
   "execution_count": null,
   "id": "f142e2fd-7578-4bbf-9a50-fa2845a65e5e",
   "metadata": {},
   "outputs": [
    {
     "data": {
      "text/plain": [
       "tensor([[0.2187]], grad_fn=<AddBackward0>)"
      ]
     },
     "execution_count": null,
     "metadata": {},
     "output_type": "execute_result"
    }
   ],
   "source": [
    "k.obs_cov"
   ]
  },
  {
   "cell_type": "code",
   "execution_count": null,
   "id": "5780f040-efbe-46d6-a9ee-f784d17a0000",
   "metadata": {},
   "outputs": [
    {
     "data": {
      "text/plain": [
       "tensor([[0.4346]], grad_fn=<AddBackward0>)"
      ]
     },
     "execution_count": null,
     "metadata": {},
     "output_type": "execute_result"
    }
   ],
   "source": [
    "k.init_state_cov"
   ]
  },
  {
   "cell_type": "code",
   "execution_count": null,
   "id": "3aedc286-3762-4382-96b9-7a3105170ef5",
   "metadata": {},
   "outputs": [],
   "source": [
    "list(k.named_parameters())"
   ]
  },
  {
   "cell_type": "code",
   "execution_count": null,
   "id": "a5ed3b33-3ecf-4172-bea3-544922a11f10",
   "metadata": {},
   "outputs": [],
   "source": [
    "k = KalmanFilter()\n",
    "# pykalman reference implementation\n",
    "pyk = pykalman.KalmanFilter()"
   ]
  },
  {
   "cell_type": "code",
   "execution_count": null,
   "id": "568428a3-a7e0-4b49-81ff-8d0d9847d712",
   "metadata": {},
   "outputs": [],
   "source": [
    "X = torch.tensor([1.,2,3])\n",
    "nX = X.numpy()\n",
    "X"
   ]
  },
  {
   "cell_type": "markdown",
   "id": "9465cf6b-4f50-4076-86fb-e8294d2e1ae0",
   "metadata": {},
   "source": [
    "2 dimensional dobs"
   ]
  },
  {
   "cell_type": "code",
   "execution_count": null,
   "id": "4145eb54-2123-4a89-afac-1d35e990eef3",
   "metadata": {},
   "outputs": [],
   "source": [
    "X2 = torch.tensor([[i, 10. * i] for i in range(1,5)])\n",
    "nX2 = X2.numpy()"
   ]
  },
  {
   "cell_type": "code",
   "execution_count": null,
   "id": "9f9689bf-34cb-4d0f-b965-012e7b757d5d",
   "metadata": {},
   "outputs": [],
   "source": [
    "k2 = KalmanFilter(transition_matrices = torch.eye(2), obs_matrices=torch.eye(2))\n",
    "\n",
    "pyk2 = pykalman.KalmanFilter(n_dim_obs = 2, n_dim_state=2)"
   ]
  },
  {
   "cell_type": "code",
   "execution_count": null,
   "id": "124270f8-eb11-42d0-8ca0-d769e461d1c0",
   "metadata": {},
   "outputs": [],
   "source": [
    "X2"
   ]
  },
  {
   "cell_type": "code",
   "execution_count": null,
   "id": "58349f50-a03e-49b4-bb32-89ffa45b3b4f",
   "metadata": {},
   "outputs": [],
   "source": [
    "obs_mask = torch.ones_like(X2, dtype=torch.bool)\n",
    "obs_mask[0, 1] = False # only one value missing\n",
    "obs_mask[2, :] = False # whole row missing\n",
    "# Xm X missing\n",
    "X2m = X2.clone()\n",
    "X2m[~obs_mask] = torch.nan\n",
    "# nXm Numpy X missing\n",
    "nX2m = np.ma.masked_array(X2.numpy(), mask = ~obs_mask.numpy())"
   ]
  },
  {
   "cell_type": "code",
   "execution_count": null,
   "id": "6e8a6fce-3f6c-4097-acbd-2890c95b30e8",
   "metadata": {},
   "outputs": [],
   "source": [
    "obs_mask"
   ]
  },
  {
   "cell_type": "code",
   "execution_count": null,
   "id": "abee7727-dc21-4d6a-ad0a-2bc307528c4f",
   "metadata": {},
   "outputs": [],
   "source": [
    "X2m"
   ]
  },
  {
   "cell_type": "code",
   "execution_count": null,
   "id": "52985acd-0729-4faa-88f0-a074585e7718",
   "metadata": {},
   "outputs": [],
   "source": [
    "nX2m"
   ]
  },
  {
   "cell_type": "code",
   "execution_count": null,
   "id": "86fe692e-2586-4c0f-a4b0-d6009d3a14c3",
   "metadata": {},
   "outputs": [],
   "source": [
    "KalmanFilter.init_random(3,6, dtype=torch.float64)"
   ]
  },
  {
   "cell_type": "markdown",
   "id": "68162da7-0e27-4771-90dd-fe3eede49aaa",
   "metadata": {},
   "source": [
    "### Tester"
   ]
  },
  {
   "cell_type": "code",
   "execution_count": null,
   "id": "e4c5a499-7c58-4127-901a-2e6fcf4d3502",
   "metadata": {},
   "outputs": [],
   "source": [
    "from fastcore.basics import *"
   ]
  },
  {
   "cell_type": "code",
   "execution_count": null,
   "id": "b01c64cc-b7df-4091-bccc-41f37dec4ba2",
   "metadata": {},
   "outputs": [],
   "source": [
    "\n",
    "to_posdef = PosDef().transform\n",
    "\n",
    "class KalmanFilterTester():\n",
    "    \"\"\"utility class to compare meteo_imp torch implementation with pykalman one\"\"\"\n",
    "    \n",
    "    torch2pyk = {\n",
    "        'trans_matrix':    'transition_matrices',\n",
    "        'trans_off':       'transition_offsets',        \n",
    "        'trans_cov':       'transition_covariance',        \n",
    "        'obs_matrix':      'observation_matrices',\n",
    "        'obs_off':         'observation_offsets',          \n",
    "        'obs_cov':         'observation_covariance',            \n",
    "        'init_state_mean': 'initial_state_mean',        \n",
    "        'init_state_cov':  'initial_state_covariance',\n",
    "    }\n",
    "    \n",
    "    def __init__(self,\n",
    "                 n_dim_state = 3,\n",
    "                n_dim_obs = 3,\n",
    "                n_obs = 10,\n",
    "                p_missing = .3,\n",
    "                seed=None,\n",
    "                dtype=torch.float32,\n",
    "                nan_mask = True\n",
    "                ):\n",
    "        store_attr(but='seed')\n",
    "        if seed: reset_seed(seed)\n",
    "        \n",
    "        self.random_init()\n",
    "    \n",
    "    def random_init(self):\n",
    "        self.params = {\n",
    "            'trans_matrix': torch.rand(self.n_dim_state, self.n_dim_state, dtype=self.dtype),\n",
    "            'trans_off':  torch.rand(self.n_dim_state, dtype=self.dtype),        \n",
    "            'trans_cov':      to_posdef(torch.rand(self.n_dim_state, self.n_dim_state, dtype=self.dtype)),        \n",
    "            'obs_matrix':        torch.rand(self.n_dim_obs, self.n_dim_state, dtype=self.dtype),\n",
    "            'obs_off':         torch.rand(self.n_dim_obs, dtype=self.dtype),          \n",
    "            'obs_cov':             to_posdef(torch.rand(self.n_dim_obs, self.n_dim_obs, dtype=self.dtype)),            \n",
    "            'init_state_mean':  torch.rand(self.n_dim_state, dtype=self.dtype),        \n",
    "            'init_state_cov':   to_posdef(torch.rand(self.n_dim_state, self.n_dim_state, dtype=self.dtype)),\n",
    "        }\n",
    "        self.params_pyk = {self.torch2pyk[name]: param.numpy() for name, param in self.params.items()}\n",
    "        \n",
    "        self.filter = KalmanFilter(**self.params)\n",
    "        self.filter_pyk = pykalman.standard.KalmanFilter(**self.params_pyk)\n",
    "        \n",
    "        \n",
    "        self.data = torch.rand(self.n_obs, self.n_dim_obs, dtype=self.dtype).unsqueeze(0) # batch dim\n",
    "        self.mask = (torch.rand(self.n_obs, self.n_dim_obs) > self.p_missing).unsqueeze(0) \n",
    "        if self.nan_mask: self.data[~self.mask] = torch.nan # ensure that the data cannot be used\n",
    "        self.data_pyk = np.ma.masked_array(self.data.squeeze(0).numpy(), mask = ~self.mask.squeeze(0).numpy())\n",
    "    \n",
    "    "
   ]
  },
  {
   "cell_type": "code",
   "execution_count": null,
   "id": "d9d0541e-bfd9-4647-b969-b737b148db15",
   "metadata": {},
   "outputs": [],
   "source": [
    "tst = KalmanFilterTester()"
   ]
  },
  {
   "cell_type": "code",
   "execution_count": null,
   "id": "db3ddee2-d14b-49c1-a095-3a9ec4170aad",
   "metadata": {},
   "outputs": [],
   "source": [
    "tst64 = KalmanFilterTester(dtype=torch.float64)"
   ]
  },
  {
   "cell_type": "code",
   "execution_count": null,
   "id": "790cb1d7-cc3d-4e1f-9589-4121a5f70b97",
   "metadata": {},
   "outputs": [
    {
     "data": {
      "text/plain": [
       "torch.Size([1, 10, 3])"
      ]
     },
     "execution_count": null,
     "metadata": {},
     "output_type": "execute_result"
    }
   ],
   "source": [
    "tst.data.shape"
   ]
  },
  {
   "cell_type": "code",
   "execution_count": null,
   "id": "6c9fe68e-758b-445b-a61e-0a6fe044a339",
   "metadata": {},
   "outputs": [
    {
     "data": {
      "text/plain": [
       "(10, 3)"
      ]
     },
     "execution_count": null,
     "metadata": {},
     "output_type": "execute_result"
    }
   ],
   "source": [
    "tst.data_pyk.shape"
   ]
  },
  {
   "cell_type": "code",
   "execution_count": null,
   "id": "e18f5a8d-02dd-4493-ab0d-2c97e61bf4b8",
   "metadata": {},
   "outputs": [],
   "source": [
    "test_close(tst.params.values(), tst.params_pyk.values())"
   ]
  },
  {
   "cell_type": "markdown",
   "id": "82b38261-acb1-45f5-a12b-7668b5f78bfb",
   "metadata": {},
   "source": [
    "### Filter"
   ]
  },
  {
   "cell_type": "markdown",
   "id": "a7ca368e-9a56-46b2-bbcb-42e561107a88",
   "metadata": {},
   "source": [
    "#### Filter predict"
   ]
  },
  {
   "cell_type": "code",
   "execution_count": null,
   "id": "935e06ec-05cf-4521-ad9d-26f3be41eb1c",
   "metadata": {},
   "outputs": [],
   "source": [
    "from datetime import datetime\n",
    "def _filter_predict(transition_matrix, transition_cov,\n",
    "                    transition_offset, current_state_mean,\n",
    "                    current_state_cov, check_args=None):\n",
    "    r\"\"\"Calculate the mean and cov of $P(x_{t+1} | z_{0:t})$\"\"\"\n",
    "    pred_state_mean = transition_matrix @ current_state_mean + transition_offset\n",
    "    pred_state_cov =  transition_matrix @ current_state_cov @ transition_matrix.T + transition_cov\n",
    "\n",
    "    if check_args is not None: check_posdef(pred_state_cov, 'filter_predict', **check_args)\n",
    "    \n",
    "    return (pred_state_mean, pred_state_cov)"
   ]
  },
  {
   "cell_type": "code",
   "execution_count": null,
   "id": "f5467408-c979-4a0e-8ed5-bc52ec9996dd",
   "metadata": {},
   "outputs": [],
   "source": [
    "def _filter_predict2(transition_matrix, transition_covariance,\n",
    "                    transition_offset, current_state_mean,\n",
    "                    current_state_covariance):\n",
    "    predicted_state_mean = (\n",
    "        torch.matmul(transition_matrix, current_state_mean)\n",
    "        + transition_offset\n",
    "    )\n",
    "    predicted_state_covariance = (\n",
    "        torch.matmul(transition_matrix,\n",
    "               torch.matmul(current_state_covariance,\n",
    "                      transition_matrix.T))\n",
    "        + transition_covariance\n",
    "    )\n",
    "\n",
    "    return (predicted_state_mean, predicted_state_covariance)"
   ]
  },
  {
   "cell_type": "code",
   "execution_count": null,
   "id": "28026910-a3ff-4e1a-92de-ac2e964e0990",
   "metadata": {},
   "outputs": [],
   "source": [
    "(\n",
    "    (tst.params['transition_matrices'] @ tst.params['initial_state_cov'] ) -\n",
    "    torch.matmul(tst.params['transition_matrices'], tst.params['initial_state_cov'])\n",
    ")"
   ]
  },
  {
   "cell_type": "code",
   "execution_count": null,
   "id": "bbf0c398-66d0-49fb-9c22-194036531e12",
   "metadata": {},
   "outputs": [],
   "source": [
    "(\n",
    "    (tst.params['transition_matrices'] @ tst.params['initial_state_cov']  @ tst.params['transition_matrices'].T) -\n",
    "    torch.matmul(tst.params['transition_matrices'], torch.matmul(tst.params['initial_state_cov'], tst.params['transition_matrices'].T))\n",
    ")"
   ]
  },
  {
   "cell_type": "code",
   "execution_count": null,
   "id": "d09c1ac0-f255-42b5-a329-fce9f69e56ca",
   "metadata": {},
   "outputs": [],
   "source": [
    "(\n",
    "    (tst.params['transition_matrices'] @ tst.params['initial_state_cov']  @ tst.params['transition_matrices'].T + tst.params['transition_cov']) -\n",
    "    (torch.matmul(tst.params['transition_matrices'], torch.matmul(tst.params['initial_state_cov'], tst.params['transition_matrices'].T)) + tst.params['transition_cov'])\n",
    ")"
   ]
  },
  {
   "cell_type": "code",
   "execution_count": null,
   "id": "dc141646-3e32-461d-84d2-bab7a6423d61",
   "metadata": {},
   "outputs": [],
   "source": [
    "trans_m = np.eye(2)\n",
    "trans_cov = np.eye(2)\n",
    "trans_off = np.zeros((2,2))\n",
    "curr_mean = np.ones((2,1))\n",
    "curr_cov = np.zeros((2,2))"
   ]
  },
  {
   "cell_type": "code",
   "execution_count": null,
   "id": "25d156cb-a6c5-4098-8368-9544f6b22ba9",
   "metadata": {},
   "outputs": [],
   "source": [
    "_filter_predict(torch.tensor(trans_m) , torch.tensor(trans_cov), torch.tensor(trans_off), torch.tensor(curr_mean), torch.tensor(curr_cov))"
   ]
  },
  {
   "cell_type": "code",
   "execution_count": null,
   "id": "c8d817b0-41be-4577-a6ea-b0e20ef47b06",
   "metadata": {},
   "outputs": [],
   "source": [
    "test_close(\n",
    "    pykalman.standard._filter_predict(trans_m , trans_cov, trans_off, curr_mean, curr_cov),\n",
    "    _filter_predict(torch.tensor(trans_m) , torch.tensor(trans_cov), torch.tensor(trans_off), torch.tensor(curr_mean), torch.tensor(curr_cov)))"
   ]
  },
  {
   "cell_type": "code",
   "execution_count": null,
   "id": "2d9651d3-2af2-47a4-8ac8-1941dfc5e733",
   "metadata": {},
   "outputs": [],
   "source": [
    "pred_pyk = pykalman.standard._filter_predict(\n",
    "   tst.params_pyk['transition_matrices'],\n",
    "   tst.params_pyk['transition_covariance'],\n",
    "   tst.params_pyk['transition_offsets'],\n",
    "   tst.params_pyk['initial_state_mean'],\n",
    "   tst.params_pyk['initial_state_covariance'],\n",
    ")"
   ]
  },
  {
   "cell_type": "code",
   "execution_count": null,
   "id": "22ad00ef-ce2a-4486-91a4-53e723741400",
   "metadata": {},
   "outputs": [],
   "source": [
    "pred_torch = _filter_predict(\n",
    "   tst.params['transition_matrices'],\n",
    "   tst.params['transition_cov'],\n",
    "   tst.params['transition_offsets'],\n",
    "   tst.params['initial_state_mean'],\n",
    "   tst.params['initial_state_cov'],\n",
    "\n",
    ")"
   ]
  },
  {
   "cell_type": "code",
   "execution_count": null,
   "id": "a5a3c6e7-c359-412a-80c5-1702330ca12d",
   "metadata": {},
   "outputs": [],
   "source": [
    "pred_pyk[0] - pred_torch[0].numpy()"
   ]
  },
  {
   "cell_type": "code",
   "execution_count": null,
   "id": "0d6952b8-a96e-49ec-a069-d5db9abed821",
   "metadata": {},
   "outputs": [],
   "source": [
    "test_close(pred_pyk[0], pred_torch[0])"
   ]
  },
  {
   "cell_type": "code",
   "execution_count": null,
   "id": "0574b9b6-bbd4-450c-ae65-39c95f1c153e",
   "metadata": {},
   "outputs": [],
   "source": [
    "pred_pyk[1] - pred_torch[1].numpy()"
   ]
  },
  {
   "cell_type": "code",
   "execution_count": null,
   "id": "8160e541-4d24-433b-98a1-efde62af8086",
   "metadata": {},
   "outputs": [],
   "source": [
    "test_close(pred_pyk[1], pred_torch[1])"
   ]
  },
  {
   "cell_type": "code",
   "execution_count": null,
   "id": "56d48222-f986-40b3-9974-d419aebda352",
   "metadata": {},
   "outputs": [],
   "source": [
    "pykalman.standard._filter_predict??"
   ]
  },
  {
   "cell_type": "code",
   "execution_count": null,
   "id": "be46f999-607c-4243-8406-c91f822a47a2",
   "metadata": {},
   "outputs": [],
   "source": [
    "tst.params_pyk['transition_matrices'].shape"
   ]
  },
  {
   "cell_type": "code",
   "execution_count": null,
   "id": "b7c9a591-58af-480a-acac-b0923084b899",
   "metadata": {},
   "outputs": [],
   "source": [
    "test_close(\n",
    "   pykalman.standard._filter_predict(\n",
    "       tst.params_pyk['transition_matrices'],\n",
    "       tst.params_pyk['transition_covariance'],\n",
    "       tst.params_pyk['transition_offsets'],\n",
    "       tst.params_pyk['initial_state_mean'],\n",
    "       tst.params_pyk['initial_state_covariance'],\n",
    "    ),\n",
    "    \n",
    "    _filter_predict2(\n",
    "       tst.params['transition_matrices'],\n",
    "       tst.params['transition_cov'],\n",
    "       tst.params['transition_offsets'],\n",
    "       tst.params['initial_state_mean'],\n",
    "       tst.params['initial_state_cov'],\n",
    "    \n",
    "    )\n",
    ")"
   ]
  },
  {
   "cell_type": "code",
   "execution_count": null,
   "id": "9c27d2e7-a061-487e-83eb-c79332bba2ac",
   "metadata": {},
   "outputs": [],
   "source": [
    "test_close(\n",
    "    \n",
    "    _filter_predict2(\n",
    "       tst.params['transition_matrices'],\n",
    "       tst.params['transition_cov'],\n",
    "       tst.params['transition_offsets'],\n",
    "       tst.params['initial_state_mean'],\n",
    "       tst.params['initial_state_cov'],\n",
    "    ),\n",
    "    _filter_predict(\n",
    "       tst.params['transition_matrices'],\n",
    "       tst.params['transition_cov'],\n",
    "       tst.params['transition_offsets'],\n",
    "       tst.params['initial_state_mean'],\n",
    "       tst.params['initial_state_cov'],\n",
    "    )\n",
    ")"
   ]
  },
  {
   "cell_type": "code",
   "execution_count": null,
   "id": "3767652b-ea3b-4f59-bbf3-4c23856ac4b7",
   "metadata": {},
   "outputs": [],
   "source": [
    "test_close(\n",
    "   pykalman.standard._filter_predict(\n",
    "       tst.params_pyk['transition_matrices'],\n",
    "       tst.params_pyk['transition_covariance'],\n",
    "       tst.params_pyk['transition_offsets'],\n",
    "       tst.params_pyk['initial_state_mean'],\n",
    "       tst.params_pyk['initial_state_covariance'],\n",
    "    ),\n",
    "    \n",
    "    _filter_predict(\n",
    "       tst.params['transition_matrices'],\n",
    "       tst.params['transition_cov'],\n",
    "       tst.params['transition_offsets'],\n",
    "       tst.params['initial_state_mean'],\n",
    "       tst.params['initial_state_cov'],\n",
    "    \n",
    "    )\n",
    ")"
   ]
  },
  {
   "cell_type": "markdown",
   "id": "fd34fcb0-baaf-4a91-a881-9abe5dcee1b6",
   "metadata": {},
   "source": [
    "The issues seems is was from `check_posdef` but `torch.matmul` and `@` are correctly working as intended"
   ]
  },
  {
   "cell_type": "markdown",
   "id": "99e62fe3-a580-4f1d-aa20-8c5de1d90cb6",
   "metadata": {},
   "source": [
    "#### Filter correct"
   ]
  },
  {
   "cell_type": "code",
   "execution_count": null,
   "id": "b9133fc3-6f85-4e2f-845f-c477ea00ba4e",
   "metadata": {},
   "outputs": [],
   "source": [
    "pykalman.standard._filter_correct??"
   ]
  },
  {
   "cell_type": "code",
   "execution_count": null,
   "id": "6f90c75c-9514-4814-8083-65cf530f6970",
   "metadata": {},
   "outputs": [],
   "source": [
    "tst = KalmanFilterTester(p_missing=0, nan_mask=False)"
   ]
  },
  {
   "cell_type": "code",
   "execution_count": null,
   "id": "d96c76d6-72ef-433a-89d3-330dc1530478",
   "metadata": {},
   "outputs": [],
   "source": [
    "observation_matrix = tst.params_pyk['observation_matrices']\n",
    "observation_covariance = tst.params_pyk['observation_covariance']\n",
    "predicted_state_mean = tst.params_pyk['initial_state_mean']\n",
    "predicted_state_covariance = tst.params_pyk['initial_state_covariance']\n",
    "observation_offset = tst.params_pyk['observation_offsets']\n",
    "observation = tst.data_pyk[0]"
   ]
  },
  {
   "cell_type": "code",
   "execution_count": null,
   "id": "06829bf9-03f6-4942-bd7d-643d6048bd8e",
   "metadata": {},
   "outputs": [],
   "source": [
    "observation"
   ]
  },
  {
   "cell_type": "code",
   "execution_count": null,
   "id": "1500077a-8b8e-4dd4-bc15-d5e7749d1ddd",
   "metadata": {},
   "outputs": [],
   "source": [
    "obs_matrix = tst.params['obs_matrices']\n",
    "obs_cov = tst.params['obs_cov']\n",
    "pred_state_mean = tst.params['initial_state_mean']\n",
    "pred_state_cov = tst.params['initial_state_cov']\n",
    "obs_offset = tst.params['obs_offsets']\n",
    "obs = tst.data[0]"
   ]
  },
  {
   "cell_type": "markdown",
   "id": "b94a16fb-9bcf-4920-9fd7-dd9d727c45bf",
   "metadata": {},
   "source": [
    "Pred obs mean"
   ]
  },
  {
   "cell_type": "code",
   "execution_count": null,
   "id": "392f295b-68cb-4a86-bd52-253be365894d",
   "metadata": {},
   "outputs": [],
   "source": [
    "predicted_observation_mean = (\n",
    "    np.dot(observation_matrix,\n",
    "           predicted_state_mean)\n",
    "    + observation_offset\n",
    ")"
   ]
  },
  {
   "cell_type": "code",
   "execution_count": null,
   "id": "f8f7ab15-95e2-4858-b60c-ee957f80505b",
   "metadata": {},
   "outputs": [],
   "source": [
    "pred_obs_mean = obs_matrix @ pred_state_mean + obs_offset"
   ]
  },
  {
   "cell_type": "code",
   "execution_count": null,
   "id": "c4a719f3-e9f6-4084-bdfe-8b5598503326",
   "metadata": {},
   "outputs": [],
   "source": [
    "pred_obs_mean"
   ]
  },
  {
   "cell_type": "code",
   "execution_count": null,
   "id": "df9b97c2-bc3e-4724-bac2-bf355f0042f5",
   "metadata": {},
   "outputs": [],
   "source": [
    "test_close(pred_obs_mean, predicted_observation_mean)"
   ]
  },
  {
   "cell_type": "markdown",
   "id": "48da4b50-b2e9-4137-add5-84118334fc02",
   "metadata": {},
   "source": [
    "Pred obs cov"
   ]
  },
  {
   "cell_type": "code",
   "execution_count": null,
   "id": "50899460-4738-464b-8be9-f77e9a30ff01",
   "metadata": {},
   "outputs": [],
   "source": [
    "predicted_observation_covariance = (\n",
    "    np.dot(observation_matrix,\n",
    "           np.dot(predicted_state_covariance,\n",
    "                  observation_matrix.T))\n",
    "    + observation_covariance\n",
    ")"
   ]
  },
  {
   "cell_type": "code",
   "execution_count": null,
   "id": "39167039-ecff-4637-be90-30bc6c22f87b",
   "metadata": {},
   "outputs": [],
   "source": [
    "pred_obs_cov = obs_matrix @ pred_state_cov @ obs_matrix.T + obs_cov"
   ]
  },
  {
   "cell_type": "code",
   "execution_count": null,
   "id": "fe805ca1-b745-40d4-b444-b5ab25579d29",
   "metadata": {},
   "outputs": [],
   "source": [
    "pred_obs_cov"
   ]
  },
  {
   "cell_type": "code",
   "execution_count": null,
   "id": "7abf7afd-5b52-44e7-be79-1a9ddb8ab201",
   "metadata": {},
   "outputs": [],
   "source": [
    "test_close(predicted_observation_covariance, pred_obs_cov)"
   ]
  },
  {
   "cell_type": "markdown",
   "id": "05ee272a-6fba-4ebe-b389-999b329f2a2b",
   "metadata": {},
   "source": [
    "Kalman gain"
   ]
  },
  {
   "cell_type": "code",
   "execution_count": null,
   "id": "ae25aacc-6eb4-4061-9dae-451f3f55ed64",
   "metadata": {},
   "outputs": [],
   "source": [
    "kalman_gain = (\n",
    "    np.dot(predicted_state_covariance,\n",
    "           np.dot(observation_matrix.T,\n",
    "                  np.linalg.pinv(predicted_observation_covariance)))\n",
    ")"
   ]
  },
  {
   "cell_type": "code",
   "execution_count": null,
   "id": "1ae9e5a6-de40-418b-b28e-d83577842bf3",
   "metadata": {},
   "outputs": [],
   "source": [
    "kalman_gain_torch = pred_state_cov @ obs_matrix.T @ torch.inverse(pred_obs_cov)"
   ]
  },
  {
   "cell_type": "code",
   "execution_count": null,
   "id": "7f052e0c-dea2-48d9-9bfa-b4e00dedb915",
   "metadata": {},
   "outputs": [],
   "source": [
    "kalman_gain_torch"
   ]
  },
  {
   "cell_type": "code",
   "execution_count": null,
   "id": "0c7ae6f7-8093-43ea-9af3-ba3e97aa3e04",
   "metadata": {},
   "outputs": [],
   "source": [
    "test_close(kalman_gain, kalman_gain_torch)"
   ]
  },
  {
   "cell_type": "markdown",
   "id": "70e08c58-de75-4ef5-b485-a36862228383",
   "metadata": {},
   "source": [
    "corr state mean"
   ]
  },
  {
   "cell_type": "code",
   "execution_count": null,
   "id": "2f526982-813b-4132-a613-217c59cea4ce",
   "metadata": {},
   "outputs": [],
   "source": [
    "corrected_state_mean = (\n",
    "    predicted_state_mean\n",
    "    + np.dot(kalman_gain, observation - predicted_observation_mean))"
   ]
  },
  {
   "cell_type": "code",
   "execution_count": null,
   "id": "9d347e45-79ea-4b20-a316-88339390c369",
   "metadata": {},
   "outputs": [],
   "source": [
    "corr_state_mean = pred_state_mean + kalman_gain_torch @ (obs - pred_obs_mean)"
   ]
  },
  {
   "cell_type": "code",
   "execution_count": null,
   "id": "af94dd39-7c77-4430-8ce6-a520f3eb35e6",
   "metadata": {},
   "outputs": [],
   "source": [
    "corr_state_mean"
   ]
  },
  {
   "cell_type": "code",
   "execution_count": null,
   "id": "1d7d6847-3bc3-4341-8877-ae8bfd83bb56",
   "metadata": {},
   "outputs": [],
   "source": [
    "test_close(corrected_state_mean, corr_state_mean)"
   ]
  },
  {
   "cell_type": "markdown",
   "id": "b21a689d-43e7-4216-973e-db28f353424d",
   "metadata": {},
   "source": [
    "corr state cov"
   ]
  },
  {
   "cell_type": "code",
   "execution_count": null,
   "id": "d458d6b1-b1e4-4812-ac20-b662c14c486a",
   "metadata": {},
   "outputs": [],
   "source": [
    "corrected_state_covariance = (\n",
    "    predicted_state_covariance\n",
    "    - np.dot(kalman_gain,\n",
    "             np.dot(observation_matrix,\n",
    "                    predicted_state_covariance))\n",
    ")"
   ]
  },
  {
   "cell_type": "code",
   "execution_count": null,
   "id": "acda1b2a-5e1d-411c-983a-1d2b0b62859c",
   "metadata": {},
   "outputs": [],
   "source": [
    "corr_state_cov = pred_state_cov - kalman_gain_torch @ obs_matrix @ pred_state_cov"
   ]
  },
  {
   "cell_type": "code",
   "execution_count": null,
   "id": "b86a8ef7-daac-469e-89eb-ca0fde716cc1",
   "metadata": {},
   "outputs": [],
   "source": [
    "corr_state_cov"
   ]
  },
  {
   "cell_type": "code",
   "execution_count": null,
   "id": "6374d47d-434f-4e90-bd67-d476dfe825e3",
   "metadata": {},
   "outputs": [],
   "source": [
    "test_close(corrected_state_covariance, corr_state_cov)"
   ]
  },
  {
   "cell_type": "code",
   "execution_count": null,
   "id": "1bb7b4e5-42b4-4041-a3c0-49268d6646b6",
   "metadata": {},
   "outputs": [],
   "source": [
    "def print_info(xs, name=''):\n",
    "    for x in listify(xs):\n",
    "        print(f\"{name} - shape: {x.shape}, type {x.dtype}, mean {x.mean()}\")"
   ]
  },
  {
   "cell_type": "code",
   "execution_count": null,
   "id": "23b11e2a",
   "metadata": {},
   "outputs": [],
   "source": [
    "\n",
    "def _filter_correct(obs_matrix,\n",
    "                    obs_cov,\n",
    "                    obs_offset,\n",
    "                    pred_state_mean,\n",
    "                    pred_state_cov,\n",
    "                    obs,\n",
    "                    mask,\n",
    "                    check_args=None):\n",
    "    if mask.all():\n",
    "        pred_obs_mean = obs_matrix @ pred_state_mean + obs_offset\n",
    "        pred_obs_cov = obs_matrix @ pred_state_cov @ obs_matrix.T + obs_cov\n",
    "        \n",
    "        kalman_gain = pred_state_cov @ obs_matrix.T @ torch.cholesky_inverse(torch.linalg.cholesky(pred_obs_cov))\n",
    "\n",
    "        corrected_state_mean = pred_state_mean + kalman_gain @ (obs - pred_obs_mean)\n",
    "        corrected_state_cov = pred_state_cov - kalman_gain @ obs_matrix @ pred_state_cov\n",
    "    else:\n",
    "        n_dim_state = pred_state_cov.shape[0]\n",
    "        n_dim_obs = obs_matrix.shape[0]\n",
    "        kalman_gain = torch.zeros((n_dim_state, n_dim_obs))\n",
    "\n",
    "        corrected_state_mean = pred_state_mean\n",
    "        corrected_state_cov = pred_state_cov\n",
    "        \n",
    "    if check_args is not None: check_posdef(pred_state_cov, 'filter_correct', **check_args)\n",
    "    return (kalman_gain, corrected_state_mean,\n",
    "            corrected_state_cov)"
   ]
  },
  {
   "cell_type": "code",
   "execution_count": null,
   "id": "af160a2b-0e47-493c-8dd8-082033c87229",
   "metadata": {},
   "outputs": [],
   "source": [
    "np.any(np.ma.getmask(observation))"
   ]
  },
  {
   "cell_type": "code",
   "execution_count": null,
   "id": "39d347eb-fbf3-44fc-89fb-119a98577ce5",
   "metadata": {},
   "outputs": [],
   "source": [
    "def _pyk_filter_correct(observation_matrix, observation_covariance,\n",
    "                    observation_offset, predicted_state_mean,\n",
    "                    predicted_state_covariance, observation):\n",
    "    if not np.any(np.ma.getmask(observation)):\n",
    "        predicted_observation_mean = (\n",
    "            np.dot(observation_matrix,\n",
    "                   predicted_state_mean)\n",
    "            + observation_offset\n",
    "        )\n",
    "        print_info(predicted_observation_mean, 'pred_obs_mean')\n",
    "        predicted_observation_covariance = (\n",
    "            np.dot(observation_matrix,\n",
    "                   np.dot(predicted_state_covariance,\n",
    "                          observation_matrix.T))\n",
    "            + observation_covariance\n",
    "        )\n",
    "        print_info(predicted_observation_covariance, 'pred_obs_cov')\n",
    "\n",
    "        kalman_gain = (\n",
    "            np.dot(predicted_state_covariance,\n",
    "                   np.dot(observation_matrix.T,\n",
    "                          np.linalg.pinv(predicted_observation_covariance)))\n",
    "        )\n",
    "        print_info(kalman_gain, 'kalman_gain')\n",
    "\n",
    "        corrected_state_mean = (\n",
    "            predicted_state_mean\n",
    "            + np.dot(kalman_gain, observation - predicted_observation_mean)\n",
    "        )\n",
    "        print_info(corrected_state_mean, 'corr_state_mean')\n",
    "        corrected_state_covariance = (\n",
    "            predicted_state_covariance\n",
    "            - np.dot(kalman_gain,\n",
    "                     np.dot(observation_matrix,\n",
    "                            predicted_state_covariance))\n",
    "        )\n",
    "        print_info(corrected_state_covariance, 'corr_state_cov')\n",
    "    else:\n",
    "        n_dim_state = predicted_state_covariance.shape[0]\n",
    "        n_dim_obs = observation_matrix.shape[0]\n",
    "        kalman_gain = np.zeros((n_dim_state, n_dim_obs))\n",
    "\n",
    "        corrected_state_mean = predicted_state_mean\n",
    "        corrected_state_covariance = predicted_state_covariance\n",
    "\n",
    "    return (kalman_gain, corrected_state_mean,\n",
    "            corrected_state_covariance)"
   ]
  },
  {
   "cell_type": "code",
   "execution_count": null,
   "id": "c65b6b9e-80b7-4d90-84b2-38f873b8c4e0",
   "metadata": {},
   "outputs": [],
   "source": [
    "tst = KalmanFilterTester() # need nan"
   ]
  },
  {
   "cell_type": "code",
   "execution_count": null,
   "id": "9000012c-fa90-490b-8fd8-3dacd2beffee",
   "metadata": {},
   "outputs": [],
   "source": [
    "_filter_correct(\n",
    "   tst.params['obs_matrices'],\n",
    "   tst.params['obs_cov'],\n",
    "   tst.params['obs_offsets'],\n",
    "   tst.params['initial_state_mean'],\n",
    "   tst.params['initial_state_cov'],\n",
    "   tst.data[0],\n",
    "   tst.mask[0]\n",
    ")"
   ]
  },
  {
   "cell_type": "code",
   "execution_count": null,
   "id": "3f8a991c-18b2-44e6-ab8f-2aacd87b1071",
   "metadata": {},
   "outputs": [],
   "source": [
    "tst.data"
   ]
  },
  {
   "cell_type": "code",
   "execution_count": null,
   "id": "504eb37a-12ab-4106-a898-9c3349c6257c",
   "metadata": {},
   "outputs": [],
   "source": [
    "tst.mask"
   ]
  },
  {
   "cell_type": "code",
   "execution_count": null,
   "id": "63acdea9-021a-46af-88af-7e3e687624cb",
   "metadata": {},
   "outputs": [],
   "source": [
    "tst.mask"
   ]
  },
  {
   "cell_type": "code",
   "execution_count": null,
   "id": "d002edf7-c7d7-4633-9c45-57138fbb5050",
   "metadata": {},
   "outputs": [],
   "source": [
    "pykalman.standard._filter_correct(\n",
    "       tst.params_pyk['observation_matrices'],\n",
    "       tst.params_pyk['observation_covariance'],\n",
    "       tst.params_pyk['observation_offsets'],\n",
    "       tst.params_pyk['initial_state_mean'],\n",
    "       tst.params_pyk['initial_state_covariance'],\n",
    "       tst.data_pyk[0]\n",
    "    )"
   ]
  },
  {
   "cell_type": "code",
   "execution_count": null,
   "id": "e2773373-74d7-4d24-b52f-8c797c5ae246",
   "metadata": {},
   "outputs": [],
   "source": [
    "_pyk_filter_correct(\n",
    "       tst.params_pyk['observation_matrices'],\n",
    "       tst.params_pyk['observation_covariance'],\n",
    "       tst.params_pyk['observation_offsets'],\n",
    "       tst.params_pyk['initial_state_mean'],\n",
    "       tst.params_pyk['initial_state_covariance'],\n",
    "       tst.data_pyk[0]\n",
    "    )"
   ]
  },
  {
   "cell_type": "code",
   "execution_count": null,
   "id": "bb253bca-db66-4b58-b5f6-e43997fed4f3",
   "metadata": {},
   "outputs": [],
   "source": [
    "pykalman.standard._filter_correct(\n",
    "   tst.params['obs_matrices'].numpy(),\n",
    "   tst.params['obs_cov'].numpy(),\n",
    "   tst.params['obs_offsets'].numpy(),\n",
    "   tst.params['initial_state_mean'].numpy(),\n",
    "   tst.params['initial_state_cov'].numpy(),\n",
    "   np.ma.masked_array(tst.data[0], mask=[True, True, True])\n",
    ")"
   ]
  },
  {
   "cell_type": "code",
   "execution_count": null,
   "id": "ca21afd3-25e4-471e-a462-6b8bf4e63c37",
   "metadata": {},
   "outputs": [],
   "source": [
    "_pyk_filter_correct(\n",
    "   tst.params['obs_matrices'].numpy(),\n",
    "   tst.params['obs_cov'].numpy(),\n",
    "   tst.params['obs_offsets'].numpy(),\n",
    "   tst.params['initial_state_mean'].numpy(),\n",
    "   tst.params['initial_state_cov'].numpy(),\n",
    "   np.ma.masked_array(tst.data[0], mask=[True, True, True])\n",
    ")"
   ]
  },
  {
   "cell_type": "code",
   "execution_count": null,
   "id": "ecb3043f-b75b-44f9-9770-154cb0b2d2b3",
   "metadata": {},
   "outputs": [],
   "source": [
    "   (pykalman.standard._filter_correct(\n",
    "       tst.params_pyk['observation_matrices'],\n",
    "       tst.params_pyk['observation_covariance'],\n",
    "       tst.params_pyk['observation_offsets'],\n",
    "       tst.params_pyk['initial_state_mean'],\n",
    "       tst.params_pyk['initial_state_covariance'],\n",
    "       tst.data_pyk[0]\n",
    "    )[0] -\n",
    "    \n",
    "    _filter_correct(\n",
    "       tst.params['obs_matrices'],\n",
    "       tst.params['obs_cov'],\n",
    "       tst.params['obs_offsets'],\n",
    "       tst.params['initial_state_mean'],\n",
    "       tst.params['initial_state_cov'],\n",
    "       tst.data[0],\n",
    "       tst.mask[0]\n",
    "    )[0].numpy())"
   ]
  },
  {
   "cell_type": "code",
   "execution_count": null,
   "id": "89abda27-c723-4e54-b7ac-7be3ddcb12d6",
   "metadata": {},
   "outputs": [],
   "source": [
    "args_np = {\n",
    "    'obs_m': np.eye(2),\n",
    "    'obs_cov': np.eye(2),\n",
    "    'obs_off': np.zeros((2,1)),\n",
    "    'pred_state_mean': np.ones(2),\n",
    "    'pred_state_cov': np.eye(2),\n",
    "    'obs': np.ones((2,1)),\n",
    "}\n",
    "\n",
    "args_torch = {k: torch.tensor(v) for k,v in args_np.items()}"
   ]
  },
  {
   "cell_type": "code",
   "execution_count": null,
   "id": "259a47a7-e4a8-40ac-add2-48e0d37f5274",
   "metadata": {},
   "outputs": [],
   "source": [
    "_filter_correct(*args_torch.values(), mask=torch.ones_like(args_torch['obs'], dtype=torch.bool))"
   ]
  },
  {
   "cell_type": "code",
   "execution_count": null,
   "id": "85912564-1794-4799-b4ee-e307055a6204",
   "metadata": {},
   "outputs": [],
   "source": [
    "test_close(\n",
    "    pykalman.standard._filter_correct(*args_np.values()),\n",
    "    _filter_correct(*args_torch.values(), mask=torch.ones_like(args_torch['obs'], dtype=torch.bool)))"
   ]
  },
  {
   "cell_type": "code",
   "execution_count": null,
   "id": "a7df4168-8801-4d2b-862b-a85d7f8f9106",
   "metadata": {},
   "outputs": [],
   "source": [
    "test_close(\n",
    "   pykalman.standard._filter_correct(\n",
    "       tst.params_pyk['observation_matrices'],\n",
    "       tst.params_pyk['observation_covariance'],\n",
    "       tst.params_pyk['observation_offsets'],\n",
    "       tst.params_pyk['initial_state_mean'],\n",
    "       tst.params_pyk['initial_state_covariance'],\n",
    "       tst.data_pyk[0]\n",
    "    ),\n",
    "    \n",
    "    _filter_correct(\n",
    "       tst.params['obs_matrices'],\n",
    "       tst.params['obs_cov'],\n",
    "       tst.params['obs_offsets'],\n",
    "       tst.params['initial_state_mean'],\n",
    "       tst.params['initial_state_cov'],\n",
    "       tst.data[0],\n",
    "       tst.mask[0]\n",
    "    )\n",
    ")"
   ]
  },
  {
   "cell_type": "code",
   "execution_count": null,
   "id": "9ac44c82-b204-4354-9e83-b697d28751b7",
   "metadata": {},
   "outputs": [],
   "source": [
    "obs_matrix, obs_cov, obs_offset,pred_state_mean,pred_state_cov,obs, mask = k.obs_matrices, k.obs_cov, k.obs_offsets, k.init_state_mean, k.init_state_cov, data, mask"
   ]
  },
  {
   "cell_type": "code",
   "execution_count": null,
   "id": "8aca8274-b069-4738-9ba9-0513ff068592",
   "metadata": {},
   "outputs": [
    {
     "data": {
      "text/plain": [
       "tensor([[ True, False,  True, False, False,  True, False, False,  True, False],\n",
       "        [False, False,  True, False, False,  True, False, False,  True, False]])"
      ]
     },
     "execution_count": null,
     "metadata": {},
     "output_type": "execute_result"
    }
   ],
   "source": [
    "mask.all(-1)"
   ]
  },
  {
   "cell_type": "code",
   "execution_count": null,
   "id": "9d5e9486-fac6-44fe-a34a-83b0ff1c93be",
   "metadata": {},
   "outputs": [
    {
     "data": {
      "text/plain": [
       "tensor([[[ True,  True,  True],\n",
       "         [False,  True,  True],\n",
       "         [ True,  True,  True],\n",
       "         [False, False,  True],\n",
       "         [False,  True, False],\n",
       "         [ True,  True,  True],\n",
       "         [False,  True,  True],\n",
       "         [False,  True,  True],\n",
       "         [ True,  True,  True],\n",
       "         [False, False, False]],\n",
       "\n",
       "        [[False,  True,  True],\n",
       "         [ True, False,  True],\n",
       "         [ True,  True,  True],\n",
       "         [False,  True,  True],\n",
       "         [False, False, False],\n",
       "         [ True,  True,  True],\n",
       "         [ True, False, False],\n",
       "         [False,  True,  True],\n",
       "         [ True,  True,  True],\n",
       "         [ True,  True, False]]])"
      ]
     },
     "execution_count": null,
     "metadata": {},
     "output_type": "execute_result"
    }
   ],
   "source": [
    "mask"
   ]
  },
  {
   "cell_type": "code",
   "execution_count": null,
   "id": "4d1b2197-7487-499a-b2a9-a379117a56e2",
   "metadata": {},
   "outputs": [
    {
     "data": {
      "text/plain": [
       "tensor([[[0.9847, 0.0852, 0.5334],\n",
       "         [   nan, 0.2617, 0.7972],\n",
       "         [0.2088, 0.4545, 0.1455],\n",
       "         [   nan,    nan, 0.2881],\n",
       "         [   nan, 0.9087,    nan],\n",
       "         [0.5610, 0.9079, 0.2507],\n",
       "         [   nan, 0.7851, 0.0212],\n",
       "         [   nan, 0.6513, 0.3955],\n",
       "         [0.8111, 0.2558, 0.7570],\n",
       "         [   nan,    nan,    nan]],\n",
       "\n",
       "        [[   nan, 0.2511, 0.4720],\n",
       "         [0.6684,    nan, 0.1489],\n",
       "         [0.6714, 0.4719, 0.5053],\n",
       "         [   nan, 0.7793, 0.3246],\n",
       "         [   nan,    nan,    nan],\n",
       "         [0.8191, 0.7040, 0.3264],\n",
       "         [0.0842,    nan,    nan],\n",
       "         [   nan, 0.3308, 0.7610],\n",
       "         [0.3228, 0.0961, 0.3075],\n",
       "         [0.0947, 0.4745,    nan]]])"
      ]
     },
     "execution_count": null,
     "metadata": {},
     "output_type": "execute_result"
    }
   ],
   "source": [
    "obs"
   ]
  },
  {
   "cell_type": "code",
   "execution_count": null,
   "id": "2a05fdf1-73cf-4009-8c87-34e0a5cd0395",
   "metadata": {},
   "outputs": [
    {
     "data": {
      "text/plain": [
       "tensor([[0.9847, 0.0852, 0.5334],\n",
       "        [   nan, 0.2511, 0.4720]])"
      ]
     },
     "execution_count": null,
     "metadata": {},
     "output_type": "execute_result"
    }
   ],
   "source": [
    "obs[:, 0, :]"
   ]
  },
  {
   "cell_type": "code",
   "execution_count": null,
   "id": "4e96a04b-3351-47e6-bca9-709387a3d266",
   "metadata": {},
   "outputs": [
    {
     "data": {
      "text/plain": [
       "torch.Size([2, 3, 1])"
      ]
     },
     "execution_count": null,
     "metadata": {},
     "output_type": "execute_result"
    }
   ],
   "source": [
    "(obs[:, 0, :] - pred_obs_mean).unsqueeze(-1).shape"
   ]
  },
  {
   "cell_type": "code",
   "execution_count": null,
   "id": "0104e6bb-b1c6-4d5c-8b41-1bebe400375a",
   "metadata": {},
   "outputs": [
    {
     "data": {
      "text/plain": [
       "torch.Size([4, 3])"
      ]
     },
     "execution_count": null,
     "metadata": {},
     "output_type": "execute_result"
    }
   ],
   "source": [
    "kalman_gain.shape"
   ]
  },
  {
   "cell_type": "code",
   "execution_count": null,
   "id": "10263557-5a77-46ea-9785-7168c60e9321",
   "metadata": {},
   "outputs": [
    {
     "data": {
      "text/plain": [
       "tensor([[[-0.1700],\n",
       "         [-0.1658],\n",
       "         [-0.7621],\n",
       "         [ 0.4827]],\n",
       "\n",
       "        [[    nan],\n",
       "         [    nan],\n",
       "         [    nan],\n",
       "         [    nan]]], dtype=torch.float64, grad_fn=<TransposeBackward0>)"
      ]
     },
     "execution_count": null,
     "metadata": {},
     "output_type": "execute_result"
    }
   ],
   "source": [
    "kalman_gain @ (obs[:, 0, :] - pred_obs_mean).unsqueeze(-1)"
   ]
  },
  {
   "cell_type": "code",
   "execution_count": null,
   "id": "9d961c5b-24ac-44fb-ae05-69ef3c492619",
   "metadata": {},
   "outputs": [],
   "source": [
    "pred_obs_mean = obs_matrix @ pred_state_mean + obs_offset"
   ]
  },
  {
   "cell_type": "code",
   "execution_count": null,
   "id": "306ee8de-9952-4336-87b8-7806733ec3dd",
   "metadata": {},
   "outputs": [],
   "source": [
    "pred_obs_cov = obs_matrix @ pred_state_cov @ obs_matrix.T + obs_cov"
   ]
  },
  {
   "cell_type": "code",
   "execution_count": null,
   "id": "6ace5fc4-71a7-4f75-b536-b8f2cc4f2b88",
   "metadata": {},
   "outputs": [
    {
     "data": {
      "text/plain": [
       "(tensor([1.1307, 1.4181, 0.4970], dtype=torch.float64, grad_fn=<AddBackward0>),\n",
       " tensor([[2.2690, 1.4801, 0.5773],\n",
       "         [1.4801, 1.3001, 0.8774],\n",
       "         [0.5773, 0.8774, 1.0938]], dtype=torch.float64, grad_fn=<AddBackward0>))"
      ]
     },
     "execution_count": null,
     "metadata": {},
     "output_type": "execute_result"
    }
   ],
   "source": [
    "pred_obs_mean, pred_obs_cov"
   ]
  },
  {
   "cell_type": "code",
   "execution_count": null,
   "id": "8b3c4dba-4777-4c2b-af51-80842666616f",
   "metadata": {},
   "outputs": [
    {
     "data": {
      "text/plain": [
       "torch.Size([3, 4])"
      ]
     },
     "execution_count": null,
     "metadata": {},
     "output_type": "execute_result"
    }
   ],
   "source": [
    "obs_matrix.shape"
   ]
  },
  {
   "cell_type": "code",
   "execution_count": null,
   "id": "6783316f-86f7-4de6-81a4-3378cf34f677",
   "metadata": {},
   "outputs": [
    {
     "data": {
      "text/plain": [
       "torch.Size([4, 3])"
      ]
     },
     "execution_count": null,
     "metadata": {},
     "output_type": "execute_result"
    }
   ],
   "source": [
    "(pred_state_cov @ obs_matrix.T).shape"
   ]
  },
  {
   "cell_type": "code",
   "execution_count": null,
   "id": "6787ad8f-13f5-40f2-9ec8-bfd5d6b2a0b5",
   "metadata": {},
   "outputs": [
    {
     "data": {
      "text/plain": [
       "torch.Size([4, 4])"
      ]
     },
     "execution_count": null,
     "metadata": {},
     "output_type": "execute_result"
    }
   ],
   "source": [
    "torch.cholesky_inverse(torch.linalg.cholesky(pred_state_cov)).shape"
   ]
  },
  {
   "cell_type": "code",
   "execution_count": null,
   "id": "7708b339-3eba-4af3-81f4-d6aa3aa27de1",
   "metadata": {},
   "outputs": [
    {
     "data": {
      "text/plain": [
       "torch.Size([4, 3])"
      ]
     },
     "execution_count": null,
     "metadata": {},
     "output_type": "execute_result"
    }
   ],
   "source": [
    "r.shape"
   ]
  },
  {
   "cell_type": "code",
   "execution_count": null,
   "id": "b664b536-e1a1-429c-aa7e-168b8e0eef2e",
   "metadata": {},
   "outputs": [],
   "source": [
    "kalman_gain = pred_state_cov @ obs_matrix.T @ torch.cholesky_inverse(torch.linalg.cholesky(pred_obs_cov))"
   ]
  },
  {
   "cell_type": "code",
   "execution_count": null,
   "id": "f1ad0800-7506-410d-b12c-9ab2b48051e6",
   "metadata": {},
   "outputs": [
    {
     "data": {
      "text/plain": [
       "tensor([[ 0.0210,  0.1246, -0.0214],\n",
       "        [ 0.2535,  0.1004,  0.1394],\n",
       "        [ 0.3844,  0.5251, -0.1642],\n",
       "        [ 1.0030, -0.4705,  0.0583]], dtype=torch.float64,\n",
       "       grad_fn=<MmBackward0>)"
      ]
     },
     "execution_count": null,
     "metadata": {},
     "output_type": "execute_result"
    }
   ],
   "source": [
    "kalman_gain"
   ]
  },
  {
   "cell_type": "code",
   "execution_count": null,
   "id": "81e8e66f-0934-451b-bc4f-1dfd4aec38ae",
   "metadata": {},
   "outputs": [],
   "source": []
  },
  {
   "cell_type": "code",
   "execution_count": null,
   "id": "9e862704-c96d-42ee-94e8-9d4f1f09329c",
   "metadata": {},
   "outputs": [
    {
     "ename": "RuntimeError",
     "evalue": "mat1 and mat2 shapes cannot be multiplied (6x10 and 3x4)",
     "output_type": "error",
     "traceback": [
      "\u001b[0;31m---------------------------------------------------------------------------\u001b[0m",
      "\u001b[0;31mRuntimeError\u001b[0m                              Traceback (most recent call last)",
      "Input \u001b[0;32mIn [156]\u001b[0m, in \u001b[0;36m<cell line: 1>\u001b[0;34m()\u001b[0m\n\u001b[0;32m----> 1\u001b[0m corrected_state_mean \u001b[38;5;241m=\u001b[39m pred_state_mean \u001b[38;5;241m+\u001b[39m \u001b[43mkalman_gain\u001b[49m\u001b[43m \u001b[49m\u001b[38;5;241;43m@\u001b[39;49m\u001b[43m \u001b[49m\u001b[43m(\u001b[49m\u001b[43mobs\u001b[49m\u001b[43m \u001b[49m\u001b[38;5;241;43m-\u001b[39;49m\u001b[43m \u001b[49m\u001b[43mpred_obs_mean\u001b[49m\u001b[43m)\u001b[49m\n",
      "\u001b[0;31mRuntimeError\u001b[0m: mat1 and mat2 shapes cannot be multiplied (6x10 and 3x4)"
     ]
    }
   ],
   "source": [
    "corrected_state_mean = pred_state_mean + kalman_gain @ (obs - pred_obs_mean)"
   ]
  },
  {
   "cell_type": "code",
   "execution_count": null,
   "id": "42ad397b-253b-4adb-86b4-5e96b00493f8",
   "metadata": {},
   "outputs": [
    {
     "data": {
      "text/plain": [
       "tensor([1.1307, 1.4181, 0.4970], dtype=torch.float64, grad_fn=<AddBackward0>)"
      ]
     },
     "execution_count": null,
     "metadata": {},
     "output_type": "execute_result"
    }
   ],
   "source": [
    "pred_obs_mean"
   ]
  },
  {
   "cell_type": "code",
   "execution_count": null,
   "id": "66875969-b6ee-4737-b482-b35f9413d408",
   "metadata": {},
   "outputs": [
    {
     "data": {
      "text/plain": [
       "torch.Size([4, 3])"
      ]
     },
     "execution_count": null,
     "metadata": {},
     "output_type": "execute_result"
    }
   ],
   "source": [
    "kalman_gain.shape"
   ]
  },
  {
   "cell_type": "code",
   "execution_count": null,
   "id": "82540616-fbac-487e-bc6c-36ea5f171134",
   "metadata": {},
   "outputs": [
    {
     "ename": "RuntimeError",
     "evalue": "mat1 and mat2 shapes cannot be multiplied (4x3 and 10x3)",
     "output_type": "error",
     "traceback": [
      "\u001b[0;31m---------------------------------------------------------------------------\u001b[0m",
      "\u001b[0;31mRuntimeError\u001b[0m                              Traceback (most recent call last)",
      "Input \u001b[0;32mIn [164]\u001b[0m, in \u001b[0;36m<cell line: 1>\u001b[0;34m()\u001b[0m\n\u001b[0;32m----> 1\u001b[0m \u001b[43mkalman_gain\u001b[49m\u001b[43m \u001b[49m\u001b[38;5;241;43m@\u001b[39;49m\u001b[43m \u001b[49m\u001b[43m(\u001b[49m\u001b[43mobs\u001b[49m\u001b[43m[\u001b[49m\u001b[38;5;241;43m0\u001b[39;49m\u001b[43m]\u001b[49m\u001b[43m \u001b[49m\u001b[38;5;241;43m-\u001b[39;49m\u001b[43m \u001b[49m\u001b[43mpred_obs_mean\u001b[49m\u001b[43m)\u001b[49m\n",
      "\u001b[0;31mRuntimeError\u001b[0m: mat1 and mat2 shapes cannot be multiplied (4x3 and 10x3)"
     ]
    }
   ],
   "source": [
    "kalman_gain @ (obs[0] - pred_obs_mean)"
   ]
  },
  {
   "cell_type": "code",
   "execution_count": null,
   "id": "c10c1c46-a83f-49f9-abec-5b3a4f72a718",
   "metadata": {},
   "outputs": [
    {
     "data": {
      "text/plain": [
       "Parameter containing:\n",
       "tensor([0.8424, 0.0816, 0.8791, 0.3892], dtype=torch.float64,\n",
       "       requires_grad=True)"
      ]
     },
     "execution_count": null,
     "metadata": {},
     "output_type": "execute_result"
    }
   ],
   "source": [
    "pred_state_mean"
   ]
  },
  {
   "cell_type": "code",
   "execution_count": null,
   "id": "4121eab0-7a8b-4746-ae2d-0aa204d57e60",
   "metadata": {},
   "outputs": [
    {
     "ename": "RuntimeError",
     "evalue": "mat1 and mat2 shapes cannot be multiplied (6x10 and 3x4)",
     "output_type": "error",
     "traceback": [
      "\u001b[0;31m---------------------------------------------------------------------------\u001b[0m",
      "\u001b[0;31mRuntimeError\u001b[0m                              Traceback (most recent call last)",
      "Input \u001b[0;32mIn [155]\u001b[0m, in \u001b[0;36m<cell line: 1>\u001b[0;34m()\u001b[0m\n\u001b[0;32m----> 1\u001b[0m corrected_state_mean \u001b[38;5;241m=\u001b[39m pred_state_mean \u001b[38;5;241m+\u001b[39m \u001b[43mkalman_gain\u001b[49m\u001b[43m \u001b[49m\u001b[38;5;241;43m@\u001b[39;49m\u001b[43m \u001b[49m\u001b[43m(\u001b[49m\u001b[43mobs\u001b[49m\u001b[43m \u001b[49m\u001b[38;5;241;43m-\u001b[39;49m\u001b[43m \u001b[49m\u001b[43mpred_obs_mean\u001b[49m\u001b[43m)\u001b[49m\n\u001b[1;32m      2\u001b[0m corrected_state_cov \u001b[38;5;241m=\u001b[39m pred_state_cov \u001b[38;5;241m-\u001b[39m kalman_gain \u001b[38;5;241m@\u001b[39m obs_matrix \u001b[38;5;241m@\u001b[39m pred_state_cov\n",
      "\u001b[0;31mRuntimeError\u001b[0m: mat1 and mat2 shapes cannot be multiplied (6x10 and 3x4)"
     ]
    }
   ],
   "source": [
    "\n",
    "corrected_state_cov = pred_state_cov - kalman_gain @ obs_matrix @ pred_state_cov"
   ]
  },
  {
   "cell_type": "code",
   "execution_count": null,
   "id": "c080fb8f-851e-460a-8269-12506587ea73",
   "metadata": {},
   "outputs": [
    {
     "data": {
      "text/plain": [
       "tensor([0.6928, 0.9289, 0.2174], dtype=torch.float64, grad_fn=<MvBackward0>)"
      ]
     },
     "execution_count": null,
     "metadata": {},
     "output_type": "execute_result"
    }
   ],
   "source": [
    "k.obs_matrices @ k.init_state_mean"
   ]
  },
  {
   "cell_type": "markdown",
   "id": "704a8991-9dd5-4791-a72f-b4625d9969f8",
   "metadata": {},
   "source": [
    "trying multiple random values ..."
   ]
  },
  {
   "cell_type": "code",
   "execution_count": null,
   "id": "f0085f59-c8be-4fb7-9e87-5146d9eb2b50",
   "metadata": {},
   "outputs": [],
   "source": [
    "for _ in range(100):\n",
    "    tst = KalmanFilterTester(nan_mask=False)\n",
    "    test_close(\n",
    "       pykalman.standard._filter_correct(\n",
    "           tst.params_pyk['observation_matrices'],\n",
    "           tst.params_pyk['observation_covariance'],\n",
    "           tst.params_pyk['observation_offsets'],\n",
    "           tst.params_pyk['initial_state_mean'],\n",
    "           tst.params_pyk['initial_state_covariance'],\n",
    "           tst.data_pyk[0]\n",
    "        ),\n",
    "\n",
    "        _filter_correct(\n",
    "           tst.params['obs_matrices'],\n",
    "           tst.params['obs_cov'],\n",
    "           tst.params['obs_offsets'],\n",
    "           tst.params['initial_state_mean'],\n",
    "           tst.params['initial_state_cov'],\n",
    "           tst.data[0],\n",
    "           tst.mask[0]\n",
    "        )\n",
    "    )"
   ]
  },
  {
   "cell_type": "markdown",
   "id": "173294f6-f74b-4a93-9ba6-c4695284d125",
   "metadata": {},
   "source": [
    "#### Filter"
   ]
  },
  {
   "cell_type": "code",
   "execution_count": null,
   "id": "2f045ed4-40bc-4451-b836-5bc4e5b4d4b9",
   "metadata": {},
   "outputs": [],
   "source": [
    "\n",
    "def _filter(transition_matrices, obs_matrices, transition_cov,\n",
    "            obs_cov, transition_offsets, obs_offsets,\n",
    "            initial_state_mean, initial_state_cov, obs, obs_mask, check_args={}):\n",
    "    \"\"\"Apply the Kalman Filter\n",
    "\n",
    "    Calculate posterior distribution over hidden states given obss up\n",
    "    to and including the current time step.\n",
    "\n",
    "    Parameters\n",
    "    ----------\n",
    "    transition_matrices : [n_timesteps-1,n_dim_state,n_dim_state] or\n",
    "    [n_dim_state,n_dim_state] array-like\n",
    "        state transition matrices\n",
    "    obs_matrices : [n_timesteps, n_dim_obs, n_dim_state] or [n_dim_obs, \\\n",
    "    n_dim_state] array-like\n",
    "        obs matrix\n",
    "    transition_cov : [n_timesteps-1,n_dim_state,n_dim_state] or\n",
    "    [n_dim_state,n_dim_state] array-like\n",
    "        state transition cov matrix\n",
    "    obs_cov : [n_timesteps, n_dim_obs, n_dim_obs] or [n_dim_obs,\n",
    "    n_dim_obs] array-like\n",
    "        obs cov matrix\n",
    "    transition_offsets : [n_timesteps-1, n_dim_state] or [n_dim_state] \\\n",
    "    array-like\n",
    "        state offset\n",
    "    obs_offsets : [n_timesteps, n_dim_obs] or [n_dim_obs] array-like\n",
    "        obss for times [0...n_timesteps-1]\n",
    "    initial_state_mean : [n_dim_state] array-like\n",
    "        mean of initial state distribution\n",
    "    initial_state_cov : [n_dim_state, n_dim_state] array-like\n",
    "        cov of initial state distribution\n",
    "    obss : [n_timesteps, n_dim_obs] array\n",
    "        obss from times [0...n_timesteps-1].  If `obss` is a\n",
    "        masked array and any of `obss[t]` is masked, then\n",
    "        `obss[t]` will be treated as a missing obs.\n",
    "\n",
    "    Returns\n",
    "    -------\n",
    "    pred_state_means : [n_timesteps, n_dim_state] array\n",
    "        `pred_state_means[t]` = mean of hidden state at time t given\n",
    "        obss from times [0...t-1]\n",
    "    pred_state_covs : [n_timesteps, n_dim_state, n_dim_state] array\n",
    "        `pred_state_covs[t]` = cov of hidden state at time t\n",
    "        given obss from times [0...t-1]\n",
    "    kalman_gains : [n_timesteps, n_dim_state] array\n",
    "        `kalman_gains[t]` = Kalman gain matrix for time t\n",
    "    filt_state_means : [n_timesteps, n_dim_state] array\n",
    "        `filt_state_means[t]` = mean of hidden state at time t given\n",
    "        obss from times [0...t]\n",
    "    filt_state_covs : [n_timesteps, n_dim_state] array\n",
    "        `filt_state_covs[t]` = cov of hidden state at time t\n",
    "        given obss from times [0...t]\n",
    "    \"\"\"\n",
    "    n_timesteps = obs.shape[0]\n",
    "    n_dim_state = len(initial_state_mean)\n",
    "    n_dim_obs = obs.shape[1]\n",
    "    \n",
    "    # those variables need to be lists and not Tensors,\n",
    "    # otherwise pytorch tryies to compute the gradient for the whole tensor and it breaks due to the in place operations\n",
    "    \n",
    "    pred_state_means = [None for _ in range(n_timesteps)] # torch.zeros((n_timesteps, n_dim_state))\n",
    "    pred_state_covs = [None for _ in range(n_timesteps)] # torch.zeros(\n",
    "        #(n_timesteps, n_dim_state, n_dim_state)\n",
    "    #)\n",
    "    kalman_gains = [None for _ in range(n_timesteps)]\n",
    "    filt_state_means = [None for _ in range(n_timesteps)]\n",
    "    filt_state_covs = [None for _ in range(n_timesteps)]\n",
    "\n",
    "    for t in range(n_timesteps):\n",
    "        if t == 0:\n",
    "            pred_state_means[t] = initial_state_mean\n",
    "            pred_state_covs[t] = initial_state_cov\n",
    "        else:\n",
    "            transition_matrix = _last_dims(transition_matrices, t - 1)\n",
    "            transition_cov = _last_dims(transition_cov, t - 1)\n",
    "            transition_offset = _last_dims(transition_offsets, t - 1, ndims=1)\n",
    "            pred_state_means[t], pred_state_covs[t] = (\n",
    "                _filter_predict(\n",
    "                    transition_matrix,\n",
    "                    transition_cov,\n",
    "                    transition_offset,\n",
    "                    filt_state_means[t - 1],\n",
    "                    filt_state_covs[t - 1],\n",
    "                    check_args = {'t': t, **check_args} if check_args is not None else None\n",
    "                )\n",
    "            )\n",
    "\n",
    "        obs_matrix = _last_dims(obs_matrices, t)\n",
    "        obs_cov = _last_dims(obs_cov, t)\n",
    "        obs_offset = _last_dims(obs_offsets, t, ndims=1)\n",
    "        (kalman_gains[t], filt_state_means[t],\n",
    "         filt_state_covs[t]) = (\n",
    "            _filter_correct(obs_matrix,\n",
    "                obs_cov,\n",
    "                obs_offset,\n",
    "                pred_state_means[t],\n",
    "                pred_state_covs[t],\n",
    "                obs[t],\n",
    "                obs_mask[t],\n",
    "                check_args = {'t': t, **check_args} if check_args is not None else None\n",
    "            )\n",
    "        )\n",
    "\n",
    "    return (pred_state_means, pred_state_covs, filt_state_means,\n",
    "            filt_state_covs)"
   ]
  },
  {
   "cell_type": "code",
   "execution_count": null,
   "id": "272593f1-7834-442f-bcf8-5d12ad1723b9",
   "metadata": {},
   "outputs": [],
   "source": [
    "def test_filter():\n",
    "    pred_s, pred_s_cov, kal, filt_s, filt_s_cov =  pykalman.standard._filter(\n",
    "       tst.params_pyk['transition_matrices'],\n",
    "       tst.params_pyk['observation_matrices'],\n",
    "       tst.params_pyk['transition_covariance'],\n",
    "       tst.params_pyk['observation_covariance'],\n",
    "       tst.params_pyk['transition_offsets'],\n",
    "       tst.params_pyk['observation_offsets'],\n",
    "       tst.params_pyk['initial_state_mean'],\n",
    "       tst.params_pyk['initial_state_covariance'],\n",
    "       tst.data_pyk[0:1]\n",
    "    )\n",
    "    \n",
    "    pyk = (pred_s, pred_s_cov, filt_s, filt_s_cov,) # results without kalman gain\n",
    "    \n",
    "    filter_torch = tuple(map(\n",
    "        torch.vstack, # need to convert lists to tensor\n",
    "          _filter(\n",
    "           tst.params['transition_matrices'],\n",
    "           tst.params['obs_matrices'],\n",
    "           tst.params['transition_cov'],\n",
    "           tst.params['obs_cov'],\n",
    "           tst.params['transition_offsets'],\n",
    "           tst.params['obs_offsets'],\n",
    "           tst.params['initial_state_mean'],\n",
    "           tst.params['initial_state_cov'],\n",
    "           tst.data[0:1],\n",
    "           tst.mask[0:1]\n",
    "    )))\n",
    "    \n",
    "    test_close(pyk, filter_torch)"
   ]
  },
  {
   "cell_type": "code",
   "execution_count": null,
   "id": "de6471d0-d3f7-4c33-bf7f-ec1cc1c06e2b",
   "metadata": {},
   "outputs": [],
   "source": [
    "test_filter()"
   ]
  },
  {
   "cell_type": "markdown",
   "id": "f8ce1a15-3c72-47ad-9cd4-583dd93453f2",
   "metadata": {},
   "source": [
    "##### Old testing"
   ]
  },
  {
   "cell_type": "code",
   "execution_count": null,
   "id": "5326f17b-3cdb-4ad3-a040-9866abc6a89f",
   "metadata": {},
   "outputs": [],
   "source": [
    "args_filt_np = {\n",
    "    'trans_m': np.eye(2),\n",
    "    'obs_m': np.eye(2),\n",
    "    'trans_cov': np.eye(2),\n",
    "    'obs_cov': np.eye(2),\n",
    "    'trans_off': np.zeros((2,1)),\n",
    "    'obs_off': np.zeros((3,2)),\n",
    "    'init_state_mean': np.ones(2),\n",
    "    'init_state_cov': np.eye(2),\n",
    "    'obs': np.ones((3, 2)),\n",
    "}\n",
    "\n",
    "obs_mask = np.ones(3)\n",
    "\n",
    "args_filt_torch = {k: torch.tensor(v, dtype = torch.float32) for k,v in args_filt_np.items()}"
   ]
  },
  {
   "cell_type": "code",
   "execution_count": null,
   "id": "5d40182e-31a2-42b4-a734-5fe228072526",
   "metadata": {},
   "outputs": [],
   "source": [
    "_filter(*args_filt_torch.values(), obs_mask=obs_mask)"
   ]
  },
  {
   "cell_type": "code",
   "execution_count": null,
   "id": "14baa8c6-8556-40fc-8dc8-02f8a0d40a50",
   "metadata": {},
   "outputs": [],
   "source": [
    "filt_pyk = list(pykalman.standard._filter(*args_filt_np.values()))\n",
    "del filt_pyk[2] # remove kalman gain that is not returned py _filter\n",
    "\n",
    "filt =  list(map(lambda x: torch.stack(x), _filter(*args_filt_torch.values(), obs_mask=obs_mask)))\n",
    "\n",
    "test_close( filt_pyk, filt)"
   ]
  },
  {
   "cell_type": "markdown",
   "id": "43e37b54-796f-4497-a15d-6b1cddfb986e",
   "metadata": {},
   "source": [
    "missing data"
   ]
  },
  {
   "cell_type": "code",
   "execution_count": null,
   "id": "ab129fb2-af48-44d4-b528-ea643c107a93",
   "metadata": {},
   "outputs": [],
   "source": [
    "obs_mask = np.array([True, False, True])\n",
    "args_filt_np['obs'] = np.ma.masked_array(args_filt_np['obs'], mask = np.vstack([~obs_mask] * 2).T)"
   ]
  },
  {
   "cell_type": "code",
   "execution_count": null,
   "id": "a5333d91-d971-41bd-babf-bf21b8ee6488",
   "metadata": {},
   "outputs": [],
   "source": [
    "args_filt_np['obs']"
   ]
  },
  {
   "cell_type": "code",
   "execution_count": null,
   "id": "9c366aed-4312-4a83-b6e1-c4e452ea0afe",
   "metadata": {},
   "outputs": [],
   "source": [
    "filt_pyk = list(pykalman.standard._filter(*args_filt_np.values()))\n",
    "del filt_pyk[2] # remove kalman gain that is not returned py _filter\n",
    "\n",
    "filt =  list(map(lambda x: torch.stack(x), _filter(*args_filt_torch.values(), obs_mask=torch.tensor(obs_mask))))\n",
    "\n",
    "test_close( filt_pyk, filt)"
   ]
  },
  {
   "cell_type": "markdown",
   "id": "9f928bd5-604f-4a0d-9379-46aba21e31d8",
   "metadata": {},
   "source": [
    "#### KalmanFilter method"
   ]
  },
  {
   "cell_type": "code",
   "execution_count": null,
   "id": "9faab4ca-9796-4d84-90b2-8cde296e66ec",
   "metadata": {},
   "outputs": [],
   "source": [
    "\n",
    "@patch\n",
    "def _filter_all(self: KalmanFilter, obs, mask=None, check_args=None) -> Tuple:\n",
    "    obs, obs_mask = self._parse_obs(obs, mask)\n",
    "\n",
    "    return _filter(\n",
    "            self.transition_matrices,\n",
    "            self.obs_matrices,\n",
    "            self.transition_cov,\n",
    "            self.obs_cov,\n",
    "            self.transition_offsets,\n",
    "            self.obs_offsets,\n",
    "            self.initial_state_mean,\n",
    "            self.initial_state_cov,\n",
    "            obs,\n",
    "            obs_mask,\n",
    "            check_args\n",
    "        )\n",
    "\n",
    "@patch\n",
    "def filter(self: KalmanFilter,\n",
    "          obs: Tensor, # [n_timesteps, n_dim_obs] obs for times [0...n_timesteps-1]\n",
    "          mask = None,\n",
    "          check_args=None\n",
    "          ) -> ListMNormal: # Filtered state\n",
    "    \"\"\"Filter observation\"\"\"\n",
    "    _, _, filt_state_means, filt_state_covs = self._filter_all(obs, mask, check_args)\n",
    "    # need to convert a list of tensors with gradients to a big tensors without gradients\n",
    "    return ListMNormal(_stack_detach(filt_state_means), _stack_detach(filt_state_covs))\n"
   ]
  },
  {
   "cell_type": "markdown",
   "id": "9a7cc203-603a-4804-a9d7-c424e4dbfb89",
   "metadata": {},
   "source": [
    "#### Final Testing"
   ]
  },
  {
   "cell_type": "markdown",
   "id": "49784568-aad6-4e1c-a9f8-7bbe1bfca0e7",
   "metadata": {},
   "source": [
    "due to numerical issue the error is bigger thatn `1e-5` which is default"
   ]
  },
  {
   "cell_type": "code",
   "execution_count": null,
   "id": "ef787189-4135-4556-9f1b-08e56e040cbf",
   "metadata": {},
   "outputs": [],
   "source": [
    "((tst.filter.filter(tst.data, tst.mask)[1] -\n",
    "np.float32(tst.filter_pyk.filter(tst.data_pyk)[1]))).max()"
   ]
  },
  {
   "cell_type": "code",
   "execution_count": null,
   "id": "0aff269e-682a-4004-beaf-c879f6381874",
   "metadata": {},
   "outputs": [],
   "source": [
    "tst = KalmanFilterTester()"
   ]
  },
  {
   "cell_type": "code",
   "execution_count": null,
   "id": "8a8ca499-f7ae-47c5-b1b0-98d5902fdcdc",
   "metadata": {},
   "outputs": [],
   "source": [
    "test_close(\n",
    "    tst.filter.filter(tst.data, tst.mask),\n",
    "    tst.filter_pyk.filter(tst.data_pyk), eps=4e-2) # need to increase the resolution"
   ]
  },
  {
   "cell_type": "markdown",
   "id": "b4bd88f4-4df0-4bb5-9fd3-cdab2ee4afc0",
   "metadata": {},
   "source": [
    "using `float64` the error is smaller, which confirms that it is only a numerical issue"
   ]
  },
  {
   "cell_type": "code",
   "execution_count": null,
   "id": "3cb27ea8-fbea-4c9d-b069-c7050ad184a5",
   "metadata": {},
   "outputs": [],
   "source": [
    "test_close(\n",
    "    tst64.filter.filter(tst.data, tst.mask),\n",
    "    tst64.filter_pyk.filter(tst.data_pyk))"
   ]
  },
  {
   "cell_type": "code",
   "execution_count": null,
   "id": "c598d27e-a51f-41c6-a61b-f1e84cfadc02",
   "metadata": {},
   "outputs": [],
   "source": [
    "((tst64.filter.filter(tst64.data, tst64.mask)[1] -\n",
    "tst64.filter_pyk.filter(tst64.data_pyk)[1])).max()"
   ]
  },
  {
   "cell_type": "markdown",
   "id": "9bd25fe9-94cf-4c59-818b-7dcf0992f2bc",
   "metadata": {},
   "source": [
    "##### Old Testing"
   ]
  },
  {
   "cell_type": "code",
   "execution_count": null,
   "id": "900b89cf-3a35-4393-9a6d-a4ca85ea2247",
   "metadata": {},
   "outputs": [],
   "source": [
    "test_close(\n",
    "    pyk.filter(X.numpy()),\n",
    "    k.filter(X)\n",
    ")"
   ]
  },
  {
   "cell_type": "code",
   "execution_count": null,
   "id": "b0922900-208e-443b-97bd-24a2ff1f4f50",
   "metadata": {},
   "outputs": [],
   "source": [
    "test_close(\n",
    "    pyk2.filter(nX2),\n",
    "    k2.filter(X2)\n",
    ")"
   ]
  },
  {
   "cell_type": "code",
   "execution_count": null,
   "id": "a6b14d00-9ee7-4e67-9cc0-e40be8c63a70",
   "metadata": {},
   "outputs": [],
   "source": [
    "k2.filter(X2m)"
   ]
  },
  {
   "cell_type": "code",
   "execution_count": null,
   "id": "5f97a343-1841-4a36-950f-826103a8d19e",
   "metadata": {},
   "outputs": [],
   "source": [
    "test_close(\n",
    "    pyk.filter(X.numpy()),\n",
    "    k.filter(X)\n",
    ")"
   ]
  },
  {
   "cell_type": "code",
   "execution_count": null,
   "id": "b08aba5f-0260-47e9-954c-2e8c2be2bb5f",
   "metadata": {},
   "outputs": [],
   "source": [
    "test_close(\n",
    "    pyk2.filter(nX2),\n",
    "    k2.filter(X2)\n",
    ")"
   ]
  },
  {
   "cell_type": "code",
   "execution_count": null,
   "id": "86705b39-0379-41e1-a8ad-eeb770362fee",
   "metadata": {},
   "outputs": [],
   "source": [
    "test_close(\n",
    "    pyk2.filter(nX2m),\n",
    "    k2.filter(X2m)\n",
    ")"
   ]
  },
  {
   "cell_type": "markdown",
   "id": "f8d2f1bf-34cd-4e87-a239-2662f6689a53",
   "metadata": {},
   "source": [
    "### Smooth"
   ]
  },
  {
   "cell_type": "markdown",
   "id": "ff2a1878-4e69-4ead-a7b8-cf7dbae5d13e",
   "metadata": {},
   "source": [
    "#### Smooth step"
   ]
  },
  {
   "cell_type": "code",
   "execution_count": null,
   "id": "57d5c739-3863-40a5-8b96-1ee12c476ca9",
   "metadata": {},
   "outputs": [],
   "source": [
    "\n",
    "def _smooth_update(transition_matrix,      # [n_dim_state, n_dim_state]\n",
    "                   filt_state: Normal, # [n_dim_state] filtered state at time `t`\n",
    "                   pred_state: Normal,        # [n_dim_state] state before filtering at time `t + 1` (= using the observation until time t)\n",
    "                   next_smoothed_state: Normal, # [n_dim_state] smoothed state at time  `t+1`\n",
    "                   check_args: dict|None = None # if not None checks that the result is positive definite\n",
    "                   ) -> Normal: # mean and cov of smoothed state at time `t`\n",
    "    r\"\"\"Correct a pred state with a Kalman Smoother update\n",
    "\n",
    "    Calculates posterior distribution of the hidden state at time `t` given the the observations via Kalman Smoothing.\n",
    "    \"\"\"\n",
    "    kalman_smoothing_gain = filt_state.cov @ transition_matrix.T @ torch.cholesky_inverse(torch.linalg.cholesky(pred_state.cov))\n",
    "\n",
    "    smoothed_state_mean = filt_state.mean + kalman_smoothing_gain @ (next_smoothed_state.mean - pred_state.mean)\n",
    "    smoothed_state_cov = (filt_state.cov\n",
    "                      + kalman_smoothing_gain @ (next_smoothed_state.cov - pred_state.cov) @ kalman_smoothing_gain.T)\n",
    "\n",
    "    if check_args is not None: check_posdef(pred_state_cov, 'filter_correct', **check_args)\n",
    "    \n",
    "    return ListMNormal(smoothed_state_mean, smoothed_state_cov,)"
   ]
  },
  {
   "cell_type": "code",
   "execution_count": null,
   "id": "561b2765-ea53-486e-93d8-d600cb20c7c5",
   "metadata": {},
   "outputs": [],
   "source": [
    "args_np_sm = {\n",
    "    'pred_state_m': np.zeros(2),\n",
    "    'pred_state_cov': np.eye(2),\n",
    "    'filt_state_m': np.zeros(2),\n",
    "    'filt_state_cov': np.eye(2),\n",
    "    'next_state_m': np.zeros(2),\n",
    "    'next_state_cov': np.eye(2),\n",
    "    'trans_m': np.eye(2),\n",
    "}\n",
    "\n",
    "args_torch_sm = {k: torch.tensor(v) for k,v in args_np_sm.items()}"
   ]
  },
  {
   "cell_type": "code",
   "execution_count": null,
   "id": "0bd12c2f-578b-40fd-8a8f-e2d52098badb",
   "metadata": {},
   "outputs": [],
   "source": [
    "pyk_mean, pyk_cov, _ = pykalman.standard._smooth_update(\n",
    "    args_np_sm['trans_m'],\n",
    "    args_np_sm['filt_state_m'],\n",
    "    args_np_sm['filt_state_cov'],\n",
    "    args_np_sm['pred_state_m'],\n",
    "    args_np_sm['pred_state_cov'],\n",
    "    args_np_sm['next_state_m'],\n",
    "    args_np_sm['next_state_cov'],\n",
    ")"
   ]
  },
  {
   "cell_type": "code",
   "execution_count": null,
   "id": "18650e9f-ec71-4ab5-8c50-cfa631e87885",
   "metadata": {},
   "outputs": [],
   "source": [
    "torch_k = _smooth_update(\n",
    "    args_torch_sm['trans_m'],\n",
    "    Normal(args_torch_sm['filt_state_m'], args_torch_sm['filt_state_cov']),\n",
    "    Normal(args_torch_sm['pred_state_m'], args_torch_sm['pred_state_cov']),\n",
    "    Normal(args_torch_sm['next_state_m'], args_torch_sm['next_state_cov']),\n",
    ")"
   ]
  },
  {
   "cell_type": "code",
   "execution_count": null,
   "id": "a67b6580-dc0e-4fce-b682-1cb4b5107bd9",
   "metadata": {},
   "outputs": [],
   "source": [
    "test_close((pyk_mean, pyk_cov, ), torch_k)"
   ]
  },
  {
   "cell_type": "code",
   "execution_count": null,
   "id": "7c46309f-70f9-419f-91fc-607ec3e79d77",
   "metadata": {},
   "outputs": [],
   "source": [
    "\n",
    "def _smooth(transition_matrices, # `[n_timesteps-1, n_dim_state, n_dim_state]` or `[n_dim_state, n_dim_state]`\n",
    "            filt_state: ListMNormal, # `[n_timesteps, n_dim_state]`\n",
    "                # `filt_state_means[t]` = mean state estimate for time t given obs from times `[0...t]`\n",
    "            pred_state: ListMNormal, # `[n_timesteps, n_dim_state]`\n",
    "                # `pred_state_means[t]` = mean state estimate for time t given obs from times `[0...t-1]`\n",
    "           check_args: dict|None = None # if not None checks that the result is positive definite\n",
    "           ) -> ListMNormal: # `[n_timesteps, n_dim_state]` Smoothed state \n",
    "    \"\"\"Apply the Kalman Smoother \"\"\"\n",
    "    n_timesteps, n_dim_state = len(pred_state.mean), pred_state.mean[0].shape[0]\n",
    "\n",
    "    smoothed_state = ListMNormal(torch.zeros((n_timesteps,n_dim_state), dtype=pred_state.mean[0].dtype, device=pred_state.mean[0].device), \n",
    "                                torch.zeros((n_timesteps, n_dim_state,\n",
    "                                           n_dim_state), dtype=pred_state.mean[0].dtype, device=pred_state.mean[0].device))\n",
    "\n",
    "    smoothed_state.mean[-1] = filt_state.mean[-1]\n",
    "    smoothed_state.cov[-1] = filt_state.cov[-1]\n",
    "\n",
    "    for t in reversed(range(n_timesteps - 1)):\n",
    "        transition_matrix = _last_dims(transition_matrices, t)\n",
    "        (smoothed_state.mean[t], smoothed_state.cov[t]) = (\n",
    "            _smooth_update(\n",
    "                transition_matrix,\n",
    "                filt_state.get_nth(t),\n",
    "                pred_state.get_nth(t + 1),\n",
    "                smoothed_state.get_nth(t+1),\n",
    "                check_args = {'t': t, **check_args} if check_args is not None else None\n",
    "            )\n",
    "        )\n",
    "    return smoothed_state"
   ]
  },
  {
   "cell_type": "code",
   "execution_count": null,
   "id": "78f79457-da68-429c-8edd-860860380cbc",
   "metadata": {},
   "outputs": [],
   "source": [
    "(pred_state_means, pred_state_covs, filt_state_means, filt_state_covs ) = k2._filter_all(X2m)"
   ]
  },
  {
   "cell_type": "code",
   "execution_count": null,
   "id": "5475b7ee-c9df-4aca-b490-2f4a2b331d4e",
   "metadata": {},
   "outputs": [],
   "source": [
    "torch_smooth = _smooth(k2.transition_matrices,  ListMNormal(filt_state_means, filt_state_covs), ListMNormal(pred_state_means, pred_state_covs))"
   ]
  },
  {
   "cell_type": "code",
   "execution_count": null,
   "id": "dd2311f7-de58-4212-b1c3-0fb840c90072",
   "metadata": {},
   "outputs": [],
   "source": [
    "pyk_sm_mean, pyk_sm_cov, _ = pykalman.standard._smooth(k2.transition_matrices.detach().numpy(),\n",
    "                          _stack_detach(filt_state_means).numpy(), _stack_detach(filt_state_covs).numpy(),\n",
    "                          _stack_detach(pred_state_means).numpy(), _stack_detach(pred_state_covs).numpy())"
   ]
  },
  {
   "cell_type": "code",
   "execution_count": null,
   "id": "46ce62c8-a8df-4f67-b49a-3e4781e9fba9",
   "metadata": {},
   "outputs": [],
   "source": [
    "test_close((pyk_sm_mean, pyk_sm_cov,), torch_smooth)"
   ]
  },
  {
   "cell_type": "code",
   "execution_count": null,
   "id": "16df8533-f01d-4b04-8917-67efd7719281",
   "metadata": {},
   "outputs": [],
   "source": [
    "torch_smooth"
   ]
  },
  {
   "cell_type": "markdown",
   "id": "bc0299de-69cf-4351-ba84-12871662230b",
   "metadata": {},
   "source": [
    "#### KalmanFilter method"
   ]
  },
  {
   "cell_type": "code",
   "execution_count": null,
   "id": "808bcd96-9e98-4e4f-9b85-cdfb98cb9709",
   "metadata": {},
   "outputs": [],
   "source": [
    "\n",
    "@patch\n",
    "def smooth(self: KalmanFilter,\n",
    "           obs: Tensor, # dataset\n",
    "           mask = None,\n",
    "           check_args=None\n",
    "          ) -> ListMNormal: # `[n_timesteps, n_dim_state]` smoothed hidden state distributions for times `[0...n_timesteps-1]`\n",
    "        \n",
    "    \"\"\"Kalman Filter Smoothing\"\"\"\n",
    "\n",
    "    (pred_state_means, pred_state_covs, filt_state_means, filt_state_covs) = self._filter_all(obs, mask, check_args)\n",
    "\n",
    "    return _smooth(\n",
    "            self.transition_matrices,\n",
    "            ListMNormal(filt_state_means, filt_state_covs),\n",
    "            ListMNormal(pred_state_means, pred_state_covs),\n",
    "            check_args\n",
    "        )\n",
    "\n",
    "  "
   ]
  },
  {
   "cell_type": "code",
   "execution_count": null,
   "id": "bc63fe46-f267-4538-a72b-997747df2391",
   "metadata": {},
   "outputs": [],
   "source": [
    "k.smooth(X)"
   ]
  },
  {
   "cell_type": "markdown",
   "id": "419f58c1-4050-49df-bb52-e72507e40e28",
   "metadata": {},
   "source": [
    "#### Final Testing"
   ]
  },
  {
   "cell_type": "code",
   "execution_count": null,
   "id": "399a9c21-e92a-4325-b048-276f343a225f",
   "metadata": {},
   "outputs": [],
   "source": [
    "test_close(\n",
    "    tst.filter.smooth(tst.data, tst.mask),\n",
    "    tst.filter_pyk.smooth(tst.data_pyk), eps=4e-2) # need to increase the resolution"
   ]
  },
  {
   "cell_type": "code",
   "execution_count": null,
   "id": "8c5f88aa-791c-4890-94c8-9686905aa6c7",
   "metadata": {},
   "outputs": [],
   "source": [
    "test_close(\n",
    "    tst64.filter.smooth(tst64.data, tst64.mask),\n",
    "    tst64.filter_pyk.smooth(tst64.data_pyk))"
   ]
  },
  {
   "cell_type": "code",
   "execution_count": null,
   "id": "1f2e0b06-21fa-420e-9755-e4ecf74cddef",
   "metadata": {},
   "outputs": [],
   "source": [
    "test_close(\n",
    "    pyk.smooth(nX),\n",
    "    k.smooth(X).detach()\n",
    ")"
   ]
  },
  {
   "cell_type": "code",
   "execution_count": null,
   "id": "b406e5f0-2c60-41f3-8704-5f7d870050ca",
   "metadata": {},
   "outputs": [],
   "source": [
    "test_close(\n",
    "    pyk2.smooth(nX2),\n",
    "    k2.smooth(X2).detach()\n",
    ")"
   ]
  },
  {
   "cell_type": "code",
   "execution_count": null,
   "id": "812d3a40-ad1d-460c-81ff-f234f36d7937",
   "metadata": {},
   "outputs": [],
   "source": [
    "test_close(\n",
    "    pyk2.smooth(nX2m),\n",
    "    k2.smooth(X2m)\n",
    ")"
   ]
  },
  {
   "cell_type": "markdown",
   "id": "7e0600dd-9baf-4796-b3f5-4ae1c2239453",
   "metadata": {},
   "source": [
    "### Predict"
   ]
  },
  {
   "cell_type": "code",
   "execution_count": null,
   "id": "7fa70846-815d-4427-a412-caab23efa547",
   "metadata": {},
   "outputs": [],
   "source": [
    "from meteo_imp.gaussian import conditional_guassian"
   ]
  },
  {
   "cell_type": "markdown",
   "id": "1e20b5fd-4dd0-4cb9-be84-d1d3702c5695",
   "metadata": {},
   "source": [
    "In order to have conditional predictions that make sense it's not possible to return the full covariance matrix for the predictions but only the standard deviations"
   ]
  },
  {
   "cell_type": "code",
   "execution_count": null,
   "id": "28054277-5b8a-4e20-a5a0-991ade36589b",
   "metadata": {},
   "outputs": [],
   "source": [
    "def _get_cond_pred(pred: ListMNormal,\n",
    "                  obs,\n",
    "                  mask\n",
    "                  ) -> ListNormal:\n",
    "    \"\"\"Conditional prediction given observations and transforms covariances into std deviations\"\"\"\n",
    "    \n",
    "    obs = obs[mask] # select only actually observed values\n",
    "    pred_cond = conditional_guassian(pred.mean, pred.cov, obs, mask)\n",
    "    \n",
    "    mean = pred.mean.clone()\n",
    "    mean[~mask] = pred_cond.mean\n",
    "    \n",
    "    std = torch.diagonal(pred.cov.clone(), dim1=-2, dim2=-1)\n",
    "    std[~mask] = torch.diagonal(pred_cond.cov, dim1=-2, dim2=-1)\n",
    "    \n",
    "    return ListMNormal(mean, std)"
   ]
  },
  {
   "cell_type": "code",
   "execution_count": null,
   "id": "ef170cdb-313b-4bf5-850f-507ddf92f7c5",
   "metadata": {},
   "outputs": [],
   "source": [
    "obs = tst.data[1]"
   ]
  },
  {
   "cell_type": "code",
   "execution_count": null,
   "id": "29134534-d9c5-43ae-9a72-0407327952e6",
   "metadata": {},
   "outputs": [],
   "source": [
    "mask = tst.mask[1]"
   ]
  },
  {
   "cell_type": "code",
   "execution_count": null,
   "id": "8297e059-829a-4037-b8dc-e4c4b94e706f",
   "metadata": {},
   "outputs": [],
   "source": [
    "obs, mask"
   ]
  },
  {
   "cell_type": "code",
   "execution_count": null,
   "id": "45748cf8-e157-427e-93d1-7c31a66dcb9b",
   "metadata": {},
   "outputs": [],
   "source": [
    "conditional_guassian"
   ]
  },
  {
   "cell_type": "markdown",
   "id": "ba6b1e75-b93f-4225-bba0-1b7437d34a57",
   "metadata": {},
   "source": [
    "The conditional gaussian returns a distributions of 2 variables, which are the un-observed ones (you can see the `nan` in the observation vector)"
   ]
  },
  {
   "cell_type": "code",
   "execution_count": null,
   "id": "485a1ade-753e-417a-ae56-1e0925900e01",
   "metadata": {},
   "outputs": [],
   "source": [
    "conditional_guassian(tst.params['initial_state_mean'], tst.params['initial_state_cov'], obs[mask], mask)"
   ]
  },
  {
   "cell_type": "markdown",
   "id": "9026135d-e030-453a-9709-fedcdb9dc59e",
   "metadata": {},
   "source": [
    "which are correctly merged with the predictions"
   ]
  },
  {
   "cell_type": "code",
   "execution_count": null,
   "id": "c003501c-d5ac-4414-85cf-8227092ed37e",
   "metadata": {},
   "outputs": [],
   "source": [
    "_get_cond_pred(ListMNormal(tst.params['initial_state_mean'], tst.params['initial_state_cov']), obs, mask)"
   ]
  },
  {
   "cell_type": "code",
   "execution_count": null,
   "id": "05302d37-1813-442b-88ec-71066ab3286e",
   "metadata": {},
   "outputs": [],
   "source": [
    "\n",
    "@patch\n",
    "def _obs_from_state(self: KalmanFilter, state_mean, state_cov, check_args=None):\n",
    "\n",
    "    mean = self.obs_matrices @ state_mean\n",
    "    cov = self.obs_matrices @ state_cov @ self.obs_matrices.mT + self.obs_cov\n",
    "    \n",
    "    if check_args is not None: check_posdef(cov, 'predict',  **check_args)\n",
    "    \n",
    "    return ListMNormal(mean, cov)\n",
    "\n",
    "@patch\n",
    "def predict(self: KalmanFilter, obs, mask=None, smooth=True, check_args=None):\n",
    "    \"\"\"Predicted observations at all times \"\"\"\n",
    "    state = self.smooth(obs, mask, check_args) if smooth else self.filter(obs, mask, check_args)\n",
    "    obs, mask = self._parse_obs(obs, mask)\n",
    "    \n",
    "    means = torch.empty_like(obs)\n",
    "    stds = torch.empty_like(obs)\n",
    "                             \n",
    "    for t in range(obs.shape[0]):\n",
    "        mean, std = self._obs_from_state(\n",
    "            state.mean[t],\n",
    "            state.cov[t],\n",
    "            {'t': t, **check_args} if check_args is not None else None\n",
    "        )\n",
    "        \n",
    "        means[t], stds[t] = _get_cond_pred(ListNormal(mean, std), obs[t], mask[t])\n",
    "    \n",
    "    return ListNormal(means, stds)"
   ]
  },
  {
   "cell_type": "code",
   "execution_count": null,
   "id": "8f3154aa-0d7e-476f-a8ce-e22c955224d1",
   "metadata": {},
   "outputs": [],
   "source": [
    "k.predict(obs=X)"
   ]
  },
  {
   "cell_type": "code",
   "execution_count": null,
   "id": "be89b3b8-1ff2-4177-be49-2c06579608b7",
   "metadata": {},
   "outputs": [],
   "source": [
    "@patch\n",
    "def predict_times(self: KalmanFilter, times, obs, mask=None, smooth=True, check_args=None):\n",
    "    \"\"\"Predicted observations at specific times \"\"\"\n",
    "    state = self.smooth(obs, mask, check_args) if smooth else self.filter(obs, mask, check_args)\n",
    "    obs, mask = self._parse_obs(obs, mask)\n",
    "    times = array1d(times)\n",
    "    \n",
    "    n_timesteps = obs.shape[0]\n",
    "    n_features = obs.shape[1] if len(obs.shape) > 1 else 1\n",
    "    \n",
    "    if times.max() > n_timesteps or times.min() < 0:\n",
    "        raise ValueError(f\"provided times range from {times.min()} to {times.max()}, which is outside allowed range : 0 to {n_timesteps}\")\n",
    "\n",
    "    means = torch.empty((times.shape[0], n_features), dtype=obs.dtype, device=obs.device)\n",
    "    stds = torch.empty((times.shape[0], n_features), dtype=obs.dtype, device=obs.device) \n",
    "    for i, t in enumerate(times):\n",
    "        mean, std = self._obs_from_state(\n",
    "            state.mean[t],\n",
    "            state.cov[t],\n",
    "            {'t': t, **check_args} if check_args is not None else None\n",
    "        )\n",
    "        \n",
    "        means[i], stds[i] = _get_cond_pred(ListNormal(mean, std), obs[t], mask[t])\n",
    "    \n",
    "    return ListNormal(means, stds)  "
   ]
  },
  {
   "cell_type": "markdown",
   "id": "efa10e27-c68e-4ab0-88f0-853dbb322e45",
   "metadata": {},
   "source": [
    "pykalman doesn't support a predict method so cannot test it"
   ]
  },
  {
   "cell_type": "code",
   "execution_count": null,
   "id": "6e8f4d70-1b63-4635-bdc5-15752552d21e",
   "metadata": {},
   "outputs": [],
   "source": [
    "tst.filter.predict(obs = tst.data, mask = tst.mask)"
   ]
  },
  {
   "cell_type": "code",
   "execution_count": null,
   "id": "609a1762-c9ae-4c9c-8b1c-8a106deb3d6c",
   "metadata": {},
   "outputs": [],
   "source": [
    "mean, std = tst.filter.predict_times(obs = tst.data, times = torch.tensor([0,1]), mask = tst.mask)"
   ]
  },
  {
   "cell_type": "code",
   "execution_count": null,
   "id": "b05e874b-24b7-413f-b2e3-4ce8851a42a3",
   "metadata": {},
   "outputs": [],
   "source": [
    "mean, std"
   ]
  },
  {
   "cell_type": "code",
   "execution_count": null,
   "id": "a5057691-9a66-44dc-b375-a75e470f1911",
   "metadata": {},
   "outputs": [],
   "source": [
    "print_info((mean, std))"
   ]
  },
  {
   "cell_type": "code",
   "execution_count": null,
   "id": "8b6b080f-d015-40f6-b44f-4b17137e7f82",
   "metadata": {},
   "outputs": [],
   "source": [
    "mean, cov = tst64.filter.smooth(tst64.data, tst64.mask)"
   ]
  },
  {
   "cell_type": "code",
   "execution_count": null,
   "id": "3eac7cf6-db16-4ca0-ac9a-9f25ebf1f67f",
   "metadata": {},
   "outputs": [],
   "source": [
    "tst64.filter._obs_from_state(mean[0], cov[0])"
   ]
  },
  {
   "cell_type": "markdown",
   "id": "5a91fcc3-b509-45de-b840-55134dc4f2bc",
   "metadata": {},
   "source": [
    "### Log Likelihood"
   ]
  },
  {
   "cell_type": "markdown",
   "id": "75b2b81c-1890-48c0-9217-768aae5e555c",
   "metadata": {},
   "source": [
    "This code is old now as the log likelihood is not computed here\n",
    "\n",
    "TODO: open issue in pykalman for error in ll missing data"
   ]
  },
  {
   "cell_type": "code",
   "execution_count": null,
   "id": "d9ba27d3-cf1d-4ed3-9d4b-6fb7404e2ba2",
   "metadata": {},
   "outputs": [],
   "source": [
    "pykalman.standard.KalmanFilter.loglikelihood??"
   ]
  },
  {
   "cell_type": "code",
   "execution_count": null,
   "id": "11bcf9a4-1dc9-4507-ab20-9bd6a5830da3",
   "metadata": {},
   "outputs": [],
   "source": [
    "pykalman.standard._loglikelihoods??"
   ]
  },
  {
   "cell_type": "code",
   "execution_count": null,
   "id": "07f06335-9992-4a8c-bb90-fbc38d293c94",
   "metadata": {},
   "outputs": [],
   "source": [
    "\n",
    "@patch\n",
    "def filter_loglikelihood(self: KalmanFilter, obs, mask=None):\n",
    "    \"Compute log likelihood using only filter step\"\n",
    "    # Those are the means and covs before the updating step,\n",
    "    # otherwise the model would have already seen the observation that we are predicting \n",
    "    pred_state_mean, pred_state_cov, _, _ = self._filter_all(obs, mask)\n",
    "    obs, obs_mask = self._parse_obs(obs, mask)\n",
    "\n",
    "    max_t = obs.shape[0]\n",
    "    lls = torch.zeros(max_t)\n",
    "    for t in range(max_t):\n",
    "        if obs_mask[t].all():\n",
    "            pred_obs_mean, pred_obs_cov = self._obs_from_state(pred_state_mean[t], pred_state_cov[t])\n",
    "            ll = MultivariateNormal(pred_obs_mean, pred_obs_cov, validate_args=False).log_prob(obs[t])\n",
    "            lls[t] = ll\n",
    "\n",
    "    return lls.sum()"
   ]
  },
  {
   "cell_type": "code",
   "execution_count": null,
   "id": "2a32ff25-51d4-496a-9b89-fecb437ea84d",
   "metadata": {},
   "outputs": [],
   "source": [
    "k.filter_loglikelihood(X)"
   ]
  },
  {
   "cell_type": "code",
   "execution_count": null,
   "id": "396b82cc-ffb7-4eae-96f6-056a24cc7628",
   "metadata": {},
   "outputs": [],
   "source": [
    "test_close(k.filter_loglikelihood(X), pyk.loglikelihood(nX))"
   ]
  },
  {
   "cell_type": "code",
   "execution_count": null,
   "id": "673130ae-e9eb-46a8-9c56-7eceb63df30f",
   "metadata": {},
   "outputs": [],
   "source": [
    "pred_state, pred_state_cov, _, _ = tuple(map(_stack_detach, tst.filter._filter_all(tst.data, tst.mask)))"
   ]
  },
  {
   "cell_type": "code",
   "execution_count": null,
   "id": "1d35b6d5-8127-4832-a640-ab13f3270f7f",
   "metadata": {},
   "outputs": [],
   "source": [
    "tst = KalmanFilterTester(nan_mask = False, p_missing=0)"
   ]
  },
  {
   "cell_type": "code",
   "execution_count": null,
   "id": "602fcbc1-4967-4328-b923-c0d0aee8cc29",
   "metadata": {},
   "outputs": [],
   "source": [
    "pykalman.standard._loglikelihoods(\n",
    "    tst.params_pyk['observation_matrices'],\n",
    "    tst.params_pyk['observation_offsets'],\n",
    "    tst.params_pyk['observation_covariance'],\n",
    "    pred_state.numpy(),\n",
    "    pred_state_cov.numpy(),\n",
    "    np.array(tst.data_pyk)\n",
    ")"
   ]
  },
  {
   "cell_type": "code",
   "execution_count": null,
   "id": "b1cef1bd-ae55-4871-a397-5437c35e0893",
   "metadata": {},
   "outputs": [],
   "source": [
    "test_close(\n",
    "    tst.filter.filter_loglikelihood(tst.data, tst.mask),\n",
    "    tst.filter_pyk.loglikelihood(tst.data_pyk)) # need to increase the resolution"
   ]
  },
  {
   "cell_type": "code",
   "execution_count": null,
   "id": "2cf2bd46-c095-49dc-ba80-1566acc3b85c",
   "metadata": {},
   "outputs": [],
   "source": [
    "tst64 = KalmanFilterTester(p_missing=0, dtype=torch.float64)"
   ]
  },
  {
   "cell_type": "code",
   "execution_count": null,
   "id": "fce4e56a-b319-4571-b967-e2f83fa5f4d3",
   "metadata": {},
   "outputs": [],
   "source": [
    "(tst64.filter.filter_loglikelihood(tst64.data, tst64.mask),\n",
    "tst64.filter_pyk.loglikelihood(tst64.data_pyk))"
   ]
  },
  {
   "cell_type": "code",
   "execution_count": null,
   "id": "58a25819-08e7-4f50-a6c6-c4d395f79085",
   "metadata": {},
   "outputs": [],
   "source": [
    "k2.filter_loglikelihood(X2)"
   ]
  },
  {
   "cell_type": "code",
   "execution_count": null,
   "id": "9d2b80ee-ba54-46ad-b252-d2cbf4c94390",
   "metadata": {},
   "outputs": [],
   "source": [
    "test_close(k2.filter_loglikelihood(X2), pyk2.loglikelihood(nX2), eps=1e-4)"
   ]
  },
  {
   "cell_type": "markdown",
   "id": "b1f3036f-787d-4ef3-be4d-d92058696add",
   "metadata": {},
   "source": [
    "since the goal is to fill gaps we want the log likelihood for the whole gap and only for it"
   ]
  },
  {
   "cell_type": "code",
   "execution_count": null,
   "id": "d8b9303c-ef6e-4b78-82a7-30c4a2a3cabe",
   "metadata": {},
   "outputs": [],
   "source": [
    "\n",
    "@patch\n",
    "def loglikelihood(self: KalmanFilter,\n",
    "                  obs_train: Tensor, # [n_timesteps, n_dim_obs] Observations use for the filter (can containt missing data)\n",
    "                  times: Tensor, # [n_pred_timesteps] time at which to calculate the log likelihood\n",
    "                  obs_test: Tensor, # [n_pred_timesteps, n_dim_obs] observed data to compute log likelihood\n",
    "                  mask: Tensor=None, # [n_timesteps, n_dim_obs]\n",
    "                 ) -> Tensor: # scalar that is sum of log likelihoods for all `times`\n",
    "    \"Log likelihood only for the `obs_test` at giben times\"\n",
    "    means, stds = self.predict(obs_train, mask=mask)\n",
    "    lls = torch.zeros(len(times))\n",
    "    for t in range(len(times)):\n",
    "        lls[t] = MultivariateNormal(means[t], torch.diag(stds[t]), validate_args=False).log_prob(obs_test[t:t+1])\n",
    "    return lls.sum() \n",
    "        "
   ]
  },
  {
   "cell_type": "code",
   "execution_count": null,
   "id": "f835c524-2487-48e8-b225-b85e3982e14a",
   "metadata": {},
   "outputs": [],
   "source": [
    "torch.diag(std[0]).dtype"
   ]
  },
  {
   "cell_type": "code",
   "execution_count": null,
   "id": "7ef79d76-20f0-4840-a464-8264d30841bc",
   "metadata": {},
   "outputs": [],
   "source": [
    "tst.filter.loglikelihood(tst.data, tst.mask, tst.data)"
   ]
  },
  {
   "cell_type": "code",
   "execution_count": null,
   "id": "99902f0b-8866-416b-9f56-b2a33c34560e",
   "metadata": {},
   "outputs": [],
   "source": [
    "X2.dtype"
   ]
  },
  {
   "cell_type": "code",
   "execution_count": null,
   "id": "79d48123-6172-4e14-8cc4-5e669c6831f8",
   "metadata": {},
   "outputs": [],
   "source": [
    "k.loglikelihood(X, [1,2], X[[1,2]])"
   ]
  },
  {
   "cell_type": "code",
   "execution_count": null,
   "id": "9883119c-ce1f-446e-a4f0-42b3ffcdfb5c",
   "metadata": {},
   "outputs": [],
   "source": [
    "k2.loglikelihood(X2, [1,2], X2[[1,2]])"
   ]
  },
  {
   "cell_type": "code",
   "execution_count": null,
   "id": "b835c9a6-6e3a-4753-876e-630500d10794",
   "metadata": {},
   "outputs": [],
   "source": [
    "k2.loglikelihood(X2m, [1,2], X2[[1,2]])"
   ]
  },
  {
   "cell_type": "markdown",
   "id": "f8708fc6-9dfc-4ac8-a28a-68be7f873a32",
   "metadata": {},
   "source": [
    "### Get Info"
   ]
  },
  {
   "cell_type": "code",
   "execution_count": null,
   "id": "0f3e61b7-e11e-434a-af78-4396263c9ea1",
   "metadata": {},
   "outputs": [],
   "source": [
    "\n",
    "@patch\n",
    "def get_info(self: KalmanFilter, var_names=None):\n",
    "    out = {}\n",
    "    if var_names is not None: self.var_names = var_names \n",
    "    latent_names = [f\"z_{i}\" for i in range(self.transition_matrices.shape[0])]\n",
    "    out['A'] = array2df(self.transition_matrices, latent_names, latent_names, 'latent')\n",
    "    out['H'] = array2df(self.obs_matrices,        var_names,    latent_names, 'variable')\n",
    "    out['R'] = array2df(self.obs_cov,             var_names,    var_names,     'variable')\n",
    "    out['Q'] = array2df(self.transition_cov,      latent_names, latent_names, 'latent')\n",
    "    return out"
   ]
  },
  {
   "cell_type": "code",
   "execution_count": null,
   "id": "44427c87-ef2c-4624-ab56-408316a71a5e",
   "metadata": {},
   "outputs": [],
   "source": [
    "display_as_row(k.get_info())"
   ]
  },
  {
   "cell_type": "code",
   "execution_count": null,
   "id": "27d8ec68-38ff-47ce-9ead-927a2e1179e0",
   "metadata": {},
   "outputs": [],
   "source": [
    "display_as_row(k2.get_info())"
   ]
  },
  {
   "cell_type": "markdown",
   "id": "86e751b6-5a43-4db6-8117-b14f542e8d31",
   "metadata": {},
   "source": [
    "## Train Parameters"
   ]
  },
  {
   "cell_type": "markdown",
   "id": "4d6504ca-96b5-4c33-89b4-07e2709f0b2d",
   "metadata": {},
   "source": [
    "This implementation of `KalmanFilter` allows to find the optimal parameters by maximising the log-likelihood using gradient descend"
   ]
  },
  {
   "cell_type": "code",
   "execution_count": null,
   "id": "880f4455-b74f-433e-82a0-7faf2feb90c7",
   "metadata": {},
   "outputs": [],
   "source": [
    "training_iter = 200\n",
    "k = KalmanFilter()\n",
    "k.train()\n",
    "\n",
    "optimizer = torch.optim.Adam(k.parameters(), lr=0.005) \n",
    "\n",
    "losses = []\n",
    "for i in range(training_iter):\n",
    "    # Zero gradients from previous iteration\n",
    "    optimizer.zero_grad()\n",
    "    # Output from model\n",
    "    loss = - k.loglikelihood(X, range(len(X)), X)\n",
    "    losses.append(loss.item())\n",
    "    # backpropagate gradients\n",
    "    loss.backward()\n",
    "    optimizer.step()"
   ]
  },
  {
   "cell_type": "code",
   "execution_count": null,
   "id": "3000d77e-5bc2-411f-aaee-45561541e459",
   "metadata": {},
   "outputs": [],
   "source": [
    "import matplotlib.pyplot as plt"
   ]
  },
  {
   "cell_type": "code",
   "execution_count": null,
   "id": "a58bed23-d408-4fdf-a8dd-684782c9f30b",
   "metadata": {},
   "outputs": [],
   "source": [
    "plt.plot(losses)"
   ]
  },
  {
   "cell_type": "code",
   "execution_count": null,
   "id": "5f14ff35-cdd1-4b65-bdc8-4b863a3829ac",
   "metadata": {},
   "outputs": [],
   "source": [
    "list(k.parameters())"
   ]
  },
  {
   "cell_type": "markdown",
   "id": "f9c4a0b2-8726-4365-8938-5fcd07870433",
   "metadata": {},
   "source": [
    "## Other"
   ]
  },
  {
   "cell_type": "markdown",
   "id": "2b66596a-16d3-40c2-8f26-82e4774972b4",
   "metadata": {},
   "source": [
    "### Testing"
   ]
  },
  {
   "cell_type": "markdown",
   "id": "0e752a79-40f6-4b60-afa0-55d957b785f0",
   "metadata": {},
   "source": [
    "### Fuzzing smoother"
   ]
  },
  {
   "cell_type": "markdown",
   "id": "3f9c8549-812b-4fc3-b3b7-3d8014142149",
   "metadata": {},
   "source": [
    "trying to run the filter many times to see if some of the matrix are not symmetric"
   ]
  },
  {
   "cell_type": "code",
   "execution_count": null,
   "id": "58dde19d-1beb-406c-ac91-403c4cff2eb1",
   "metadata": {},
   "outputs": [],
   "source": [
    "from torch._C import _LinAlgError"
   ]
  },
  {
   "cell_type": "code",
   "execution_count": null,
   "id": "88812806-c834-48ea-965d-66bc92ab6fc8",
   "metadata": {},
   "outputs": [],
   "source": [
    "def fuzz_symmetric(n_iter=10, n_obs=100, **kwargs):\n",
    "    tst = KalmanFilterTester(n_obs=n_obs, **kwargs)\n",
    "    _, sm_covs = tst.filter.smooth(tst.data, tst.mask)\n",
    "    i_posdef = []\n",
    "    for t, cov in enumerate(sm_covs):\n",
    "        i_posdef.append(check_posdef(cov))\n",
    "    return pd.concat(i_posdef)\n",
    "    "
   ]
  },
  {
   "cell_type": "code",
   "execution_count": null,
   "id": "07ef7409-fa59-4876-b29f-eb3a1291ac82",
   "metadata": {},
   "outputs": [],
   "source": [
    "def fuzz_smooth(n_obs=100, use_pykalman=False, **kwargs):\n",
    "    tst = KalmanFilterTester(n_obs=n_obs, **kwargs)\n",
    "    return tst.filter.smooth(tst.data, tst.mask) if not use_pykalman else tst.filter_pyk.smooth(tst.data_pyk)\n",
    "    "
   ]
  },
  {
   "cell_type": "code",
   "execution_count": null,
   "id": "4577166a-27bf-4416-8d63-ded29fa24138",
   "metadata": {},
   "outputs": [],
   "source": [
    "def find_max_obs(start=100_000, end=100, steps=10, **kwargs):\n",
    "    for n in torch.logspace(torch.log10(torch.tensor(start)), torch.log10(torch.tensor(end)), 10):\n",
    "        try:\n",
    "            %time fuzz_smooth(n_obs=int(n), **kwargs)\n",
    "            print(n, \"working\")\n",
    "            break\n",
    "        except _LinAlgError:\n",
    "            print(n, \"not working\")\n",
    "    "
   ]
  },
  {
   "cell_type": "markdown",
   "id": "3965498e-feb9-46dd-b962-874085bf1e76",
   "metadata": {},
   "source": [
    "#### PyKalman"
   ]
  },
  {
   "cell_type": "code",
   "execution_count": null,
   "id": "bc0800dd-343a-4872-877c-5b3cd3fa0533",
   "metadata": {},
   "outputs": [],
   "source": [
    "sm_mean, sm_cov = fuzz_smooth(use_pykalman=True)"
   ]
  },
  {
   "cell_type": "code",
   "execution_count": null,
   "id": "6ab0dfb4-711a-4174-979c-fc7f21e33bae",
   "metadata": {},
   "outputs": [
    {
     "data": {
      "text/plain": [
       "dtype('float32')"
      ]
     },
     "execution_count": null,
     "metadata": {},
     "output_type": "execute_result"
    }
   ],
   "source": [
    "tst.data_pyk.dtype"
   ]
  },
  {
   "cell_type": "code",
   "execution_count": null,
   "id": "ba42398a-4602-450c-ba5d-1a0a6aea998e",
   "metadata": {},
   "outputs": [
    {
     "data": {
      "text/plain": [
       "array([[0.9299797 , 0.29107332, 0.8075413 ],\n",
       "       [0.09118336, 0.87263364, 0.37048805],\n",
       "       [0.10431129, 0.9359443 , 0.9556711 ]], dtype=float32)"
      ]
     },
     "execution_count": null,
     "metadata": {},
     "output_type": "execute_result"
    }
   ],
   "source": [
    "tst.filter_pyk.transition_matrices"
   ]
  },
  {
   "cell_type": "code",
   "execution_count": null,
   "id": "4462c44b-e873-4ed2-a48f-49a72a413850",
   "metadata": {},
   "outputs": [
    {
     "data": {
      "text/plain": [
       "dtype('float64')"
      ]
     },
     "execution_count": null,
     "metadata": {},
     "output_type": "execute_result"
    }
   ],
   "source": [
    "sm_mean.dtye"
   ]
  },
  {
   "cell_type": "code",
   "execution_count": null,
   "id": "7f67932c-80ae-4f93-8ec8-86423b225c32",
   "metadata": {},
   "outputs": [
    {
     "data": {
      "text/plain": [
       "(100, 3, 3)"
      ]
     },
     "execution_count": null,
     "metadata": {},
     "output_type": "execute_result"
    }
   ],
   "source": [
    "sm_cov.shape"
   ]
  },
  {
   "cell_type": "code",
   "execution_count": null,
   "id": "005c3a60-16fa-4f98-9774-09be8996d00c",
   "metadata": {},
   "outputs": [
    {
     "data": {
      "text/plain": [
       "is_pd_eigv    True\n",
       "is_pd_chol    True\n",
       "is_sym        True\n",
       "dtype: bool"
      ]
     },
     "execution_count": null,
     "metadata": {},
     "output_type": "execute_result"
    }
   ],
   "source": [
    "pyk_pd = CheckPosDef(do_check=True).check(torch.tensor(sm_cov))\n",
    "\n",
    "pyk_pd[['is_pd_eigv', 'is_pd_chol', 'is_sym']].all()"
   ]
  },
  {
   "cell_type": "code",
   "execution_count": null,
   "id": "2c043b64-b57e-44b3-93f6-e1bd2fade11f",
   "metadata": {},
   "outputs": [],
   "source": [
    "sm_mean, sm_cov = fuzz_smooth(use_pykalman=False)"
   ]
  },
  {
   "cell_type": "code",
   "execution_count": null,
   "id": "6bef718b-eec6-48d3-a2de-fa9ab5dae18c",
   "metadata": {},
   "outputs": [
    {
     "data": {
      "text/plain": [
       "Kalman Filter\n",
       "        N dim obs: 3, N dim state: 3"
      ]
     },
     "execution_count": null,
     "metadata": {},
     "output_type": "execute_result"
    }
   ],
   "source": [
    "tst.filter"
   ]
  },
  {
   "cell_type": "code",
   "execution_count": null,
   "id": "d63a339c-f85f-4eb6-a589-c557eda06f9a",
   "metadata": {},
   "outputs": [
    {
     "data": {
      "text/plain": [
       "torch.Size([1, 100, 3, 3])"
      ]
     },
     "execution_count": null,
     "metadata": {},
     "output_type": "execute_result"
    }
   ],
   "source": [
    "sm_cov.shape"
   ]
  },
  {
   "cell_type": "code",
   "execution_count": null,
   "id": "547fea55-5f24-45ed-be19-2b8eed214810",
   "metadata": {},
   "outputs": [
    {
     "ename": "_LinAlgError",
     "evalue": "linalg.eigh: The algorithm failed to converge because the input matrix is ill-conditioned or has too many repeated eigenvalues (error code: 1).",
     "output_type": "error",
     "traceback": [
      "\u001b[0;31m---------------------------------------------------------------------------\u001b[0m",
      "\u001b[0;31m_LinAlgError\u001b[0m                              Traceback (most recent call last)",
      "Input \u001b[0;32mIn [54]\u001b[0m, in \u001b[0;36m<cell line: 1>\u001b[0;34m()\u001b[0m\n\u001b[0;32m----> 1\u001b[0m pyk_pd \u001b[38;5;241m=\u001b[39m \u001b[43mCheckPosDef\u001b[49m\u001b[43m(\u001b[49m\u001b[43mdo_check\u001b[49m\u001b[38;5;241;43m=\u001b[39;49m\u001b[38;5;28;43;01mTrue\u001b[39;49;00m\u001b[43m)\u001b[49m\u001b[38;5;241;43m.\u001b[39;49m\u001b[43mcheck\u001b[49m\u001b[43m(\u001b[49m\u001b[43msm_cov\u001b[49m\u001b[38;5;241;43m.\u001b[39;49m\u001b[43msqueeze\u001b[49m\u001b[43m(\u001b[49m\u001b[38;5;241;43m0\u001b[39;49m\u001b[43m)\u001b[49m\u001b[43m)\u001b[49m\n\u001b[1;32m      3\u001b[0m pyk_pd[[\u001b[38;5;124m'\u001b[39m\u001b[38;5;124mis_pd_eigv\u001b[39m\u001b[38;5;124m'\u001b[39m, \u001b[38;5;124m'\u001b[39m\u001b[38;5;124mis_pd_chol\u001b[39m\u001b[38;5;124m'\u001b[39m, \u001b[38;5;124m'\u001b[39m\u001b[38;5;124mis_sym\u001b[39m\u001b[38;5;124m'\u001b[39m]]\u001b[38;5;241m.\u001b[39mall()\n",
      "File \u001b[0;32m~/Documents/uni/Thesis/GPFA_imputation/meteo_imp/gaussian.py:127\u001b[0m, in \u001b[0;36mCheckPosDef.check\u001b[0;34m(self, x, **extra_args)\u001b[0m\n\u001b[1;32m    124\u001b[0m \u001b[38;5;28mself\u001b[39m\u001b[38;5;241m.\u001b[39madd_args(\u001b[38;5;241m*\u001b[39m\u001b[38;5;241m*\u001b[39mextra_args)\n\u001b[1;32m    126\u001b[0m x \u001b[38;5;241m=\u001b[39m x \u001b[38;5;28;01mif\u001b[39;00m x\u001b[38;5;241m.\u001b[39mdim() \u001b[38;5;241m>\u001b[39m \u001b[38;5;241m2\u001b[39m \u001b[38;5;28;01melse\u001b[39;00m [x]\n\u001b[0;32m--> 127\u001b[0m infos \u001b[38;5;241m=\u001b[39m pd\u001b[38;5;241m.\u001b[39mconcat([\u001b[38;5;241m*\u001b[39m\u001b[38;5;28mmap\u001b[39m(\u001b[38;5;28mself\u001b[39m\u001b[38;5;241m.\u001b[39m_check_matrix, x)])\n\u001b[1;32m    129\u001b[0m \u001b[38;5;28;01mif\u001b[39;00m \u001b[38;5;28mself\u001b[39m\u001b[38;5;241m.\u001b[39muse_log: \u001b[38;5;28mself\u001b[39m\u001b[38;5;241m.\u001b[39mlog \u001b[38;5;241m=\u001b[39m pd\u001b[38;5;241m.\u001b[39mconcat([\u001b[38;5;28mself\u001b[39m\u001b[38;5;241m.\u001b[39mlog, infos])\n\u001b[1;32m    130\u001b[0m \u001b[38;5;28;01mif\u001b[39;00m \u001b[38;5;28mself\u001b[39m\u001b[38;5;241m.\u001b[39mwarning \u001b[38;5;129;01mand\u001b[39;00m (\u001b[38;5;241m~\u001b[39minfos[\u001b[38;5;124m'\u001b[39m\u001b[38;5;124mis_pd_eigv\u001b[39m\u001b[38;5;124m'\u001b[39m]\u001b[38;5;241m.\u001b[39mall() \u001b[38;5;129;01mor\u001b[39;00m \u001b[38;5;241m~\u001b[39minfos[\u001b[38;5;124m'\u001b[39m\u001b[38;5;124mis_pd_chol\u001b[39m\u001b[38;5;124m'\u001b[39m]\u001b[38;5;241m.\u001b[39mall()):\n",
      "File \u001b[0;32m~/Documents/uni/Thesis/GPFA_imputation/meteo_imp/gaussian.py:143\u001b[0m, in \u001b[0;36mCheckPosDef._check_matrix\u001b[0;34m(self, x)\u001b[0m\n\u001b[1;32m    140\u001b[0m x \u001b[38;5;241m=\u001b[39m x\u001b[38;5;241m.\u001b[39mdetach()\u001b[38;5;241m.\u001b[39mcpu()\u001b[38;5;241m.\u001b[39mclone() \u001b[38;5;66;03m# free GPU memory and ensure that there is a copy\u001b[39;00m\n\u001b[1;32m    141\u001b[0m sym_upto \u001b[38;5;241m=\u001b[39m symmetric_upto(x)\n\u001b[0;32m--> 143\u001b[0m is_pd_eigv, eigv \u001b[38;5;241m=\u001b[39m \u001b[43mis_posdef_eigv\u001b[49m\u001b[43m(\u001b[49m\u001b[43mx\u001b[49m\u001b[43m)\u001b[49m\n\u001b[1;32m    144\u001b[0m is_pd_chol \u001b[38;5;241m=\u001b[39m torch\u001b[38;5;241m.\u001b[39mlinalg\u001b[38;5;241m.\u001b[39mcholesky_ex(x)\u001b[38;5;241m.\u001b[39minfo\u001b[38;5;241m.\u001b[39meq(\u001b[38;5;241m0\u001b[39m)\u001b[38;5;241m.\u001b[39mall()\u001b[38;5;241m.\u001b[39mitem() \u001b[38;5;66;03m# skip pytorch too strict symmetry check\u001b[39;00m\n\u001b[1;32m    145\u001b[0m is_sym \u001b[38;5;241m=\u001b[39m is_symmetric(x)\u001b[38;5;241m.\u001b[39mitem()\n",
      "File \u001b[0;32m~/Documents/uni/Thesis/GPFA_imputation/meteo_imp/gaussian.py:78\u001b[0m, in \u001b[0;36mis_posdef_eigv\u001b[0;34m(cov)\u001b[0m\n\u001b[1;32m     77\u001b[0m \u001b[38;5;28;01mdef\u001b[39;00m \u001b[38;5;21mis_posdef_eigv\u001b[39m(cov):\n\u001b[0;32m---> 78\u001b[0m     eigv \u001b[38;5;241m=\u001b[39m \u001b[43mtorch\u001b[49m\u001b[38;5;241;43m.\u001b[39;49m\u001b[43mlinalg\u001b[49m\u001b[38;5;241;43m.\u001b[39;49m\u001b[43meigvalsh\u001b[49m\u001b[43m(\u001b[49m\u001b[43mcov\u001b[49m\u001b[43m)\u001b[49m\n\u001b[1;32m     79\u001b[0m     \u001b[38;5;28;01mreturn\u001b[39;00m eigv\u001b[38;5;241m.\u001b[39mge(\u001b[38;5;241m0\u001b[39m)\u001b[38;5;241m.\u001b[39mall(\u001b[38;5;241m-\u001b[39m\u001b[38;5;241m1\u001b[39m), eigv\n",
      "\u001b[0;31m_LinAlgError\u001b[0m: linalg.eigh: The algorithm failed to converge because the input matrix is ill-conditioned or has too many repeated eigenvalues (error code: 1)."
     ]
    }
   ],
   "source": [
    "pyk_pd = CheckPosDef(do_check=True).check(sm_cov.squeeze(0))\n",
    "\n",
    "pyk_pd[['is_pd_eigv', 'is_pd_chol', 'is_sym']].all()"
   ]
  },
  {
   "cell_type": "code",
   "execution_count": null,
   "id": "efb1bf6c-9c5a-410d-9fc6-7d61304c006f",
   "metadata": {},
   "outputs": [
    {
     "name": "stdout",
     "output_type": "stream",
     "text": [
      "CPU times: user 15.7 s, sys: 61.5 ms, total: 15.8 s\n",
      "Wall time: 14.9 s\n",
      "tensor(100000.) working\n"
     ]
    }
   ],
   "source": [
    "find_max_obs(use_pykalman=True)"
   ]
  },
  {
   "cell_type": "code",
   "execution_count": null,
   "id": "8e795492-084c-46b8-8700-3cafeea1b1f7",
   "metadata": {},
   "outputs": [],
   "source": [
    "import warnings"
   ]
  },
  {
   "cell_type": "code",
   "execution_count": null,
   "id": "f372a762-1ea0-49c1-a61a-599bc033bab8",
   "metadata": {},
   "outputs": [],
   "source": [
    "posdef_log = pd.DataFrame()"
   ]
  },
  {
   "cell_type": "code",
   "execution_count": null,
   "id": "f1c2c8c6-5858-4c61-bc46-4931cc461f65",
   "metadata": {},
   "outputs": [],
   "source": [
    "total_warn = []\n",
    "for n in range(2, 200):\n",
    "    with warnings.catch_warnings(record=True) as w:\n",
    "        try:\n",
    "            fuzz_smooth(n_obs=n)\n",
    "        except _LinAlgError:\n",
    "            print(n)\n",
    "            break\n",
    "        finally:\n",
    "            total_warn.append((n, len(w)))\n",
    "    "
   ]
  },
  {
   "cell_type": "code",
   "execution_count": null,
   "id": "38cca555-3f53-4b29-9d36-fdd3dafe36ee",
   "metadata": {},
   "outputs": [],
   "source": [
    "posdef_log"
   ]
  },
  {
   "cell_type": "code",
   "execution_count": null,
   "id": "bf73303a-16ec-45ff-ac45-94ae4ea242c4",
   "metadata": {},
   "outputs": [],
   "source": [
    "import altair as alt"
   ]
  },
  {
   "cell_type": "code",
   "execution_count": null,
   "id": "1fd02a6e-8ecc-48b3-afde-e841cbd20b86",
   "metadata": {},
   "outputs": [],
   "source": [
    "alt.Chart(pd.DataFrame(total_warn, columns=[\"n_obs\", \"n_not_posdef\"])).mark_line().encode(alt.X(\"n_obs\"), alt.Y(\"n_not_posdef\"))"
   ]
  },
  {
   "cell_type": "code",
   "execution_count": null,
   "id": "94471f51-e46c-4a10-9a8f-67baa1ba1c2a",
   "metadata": {},
   "outputs": [],
   "source": [
    "alt.data_transformers.enable('data_server')"
   ]
  },
  {
   "cell_type": "code",
   "execution_count": null,
   "id": "d69f9068-6a0a-40cf-80a2-8de51b03583f",
   "metadata": {},
   "outputs": [],
   "source": [
    "alt.Chart(posdef_log).mark_line().encode(alt.X(\"t\"), alt.Y(\"average(sym_upto)\"))"
   ]
  },
  {
   "cell_type": "code",
   "execution_count": null,
   "id": "0aa02cf7-346c-4988-9d57-f3139981a134",
   "metadata": {},
   "outputs": [],
   "source": [
    "alt.Chart(posdef_log).mark_point().encode(alt.X(\"t\"), alt.Y(\"count(is_sym)\"))"
   ]
  },
  {
   "cell_type": "code",
   "execution_count": null,
   "id": "0a74274d-cbbe-4ad6-b81c-2ab060bd6bcf",
   "metadata": {},
   "outputs": [],
   "source": [
    "posdef_log[[\"t\", \"name\"]]"
   ]
  },
  {
   "cell_type": "code",
   "execution_count": null,
   "id": "c9c9c179-f28b-4e91-9182-0467747a3670",
   "metadata": {},
   "outputs": [],
   "source": [
    "plt.scatter(posdef_log.reset_index().index, posdef_log.sym_upto)"
   ]
  },
  {
   "cell_type": "code",
   "execution_count": null,
   "id": "b899bf5b-4357-44fd-a8f5-62877897151e",
   "metadata": {},
   "outputs": [],
   "source": [
    "for i in range(3):\n",
    "    %time 1+1"
   ]
  },
  {
   "cell_type": "code",
   "execution_count": null,
   "id": "0eb96358-bf2a-4ae8-93a4-256f49859d2c",
   "metadata": {},
   "outputs": [],
   "source": [
    "# find_max_obs(dtype=torch.float64)"
   ]
  },
  {
   "cell_type": "markdown",
   "id": "e0b7e281-1307-4043-8c50-2e7e15121b42",
   "metadata": {},
   "source": [
    "The function takes 5 min to run so this is the output saved\n",
    "\n",
    "with `float64` there is no problem with positive definite matrices even with 100k observations\n",
    "```CPU times: user 30min 43s, sys: 28.6 s, total: 31min 11s\n",
    "Wall time: 5min 26s\n",
    "tensor(100000.) working```"
   ]
  },
  {
   "cell_type": "code",
   "execution_count": null,
   "id": "c264f29d-197d-4acc-80d8-7c102707db91",
   "metadata": {},
   "outputs": [],
   "source": [
    "tst = KalmanFilterTester(n_obs=100)"
   ]
  },
  {
   "cell_type": "code",
   "execution_count": null,
   "id": "e11e636e-609a-4a0a-bfdf-3a2660192c51",
   "metadata": {},
   "outputs": [],
   "source": [
    "is_posdef(tst.params['obs_cov'])"
   ]
  },
  {
   "cell_type": "code",
   "execution_count": null,
   "id": "d4a9f94c-7c34-4cfc-a76b-ecc47f4668fa",
   "metadata": {},
   "outputs": [],
   "source": [
    "is_posdef(tst.params['transition_cov'])"
   ]
  },
  {
   "cell_type": "code",
   "execution_count": null,
   "id": "87e39250-0638-4205-bb24-a9d3cbeeeee6",
   "metadata": {},
   "outputs": [],
   "source": [
    "is_posdef(tst.params['initial_state_cov'])"
   ]
  },
  {
   "cell_type": "code",
   "execution_count": null,
   "id": "3568119a-9895-49a9-8549-4fc72ca0585c",
   "metadata": {},
   "outputs": [],
   "source": [
    "tst.filter.smooth(tst.data, tst.mask);"
   ]
  },
  {
   "cell_type": "markdown",
   "id": "669ab60a-dc18-4d29-b217-6fb2bb3434f5",
   "metadata": {},
   "source": [
    "#### Random Testing"
   ]
  },
  {
   "cell_type": "markdown",
   "id": "bff9ee73-f667-434a-8908-0890e662adb2",
   "metadata": {},
   "source": [
    "The goal is to generate random set of data and parameters and check that `meteo_imp` implementation is the same of `pykalman` implementation"
   ]
  },
  {
   "cell_type": "code",
   "execution_count": null,
   "id": "f437c4f3-4890-455c-8ea5-03cc9ae64c17",
   "metadata": {},
   "outputs": [],
   "source": [
    "n_dim_state = 3 \n",
    "n_dim_obs = 3\n",
    "n_obs = 10\n",
    "p_missing = .3"
   ]
  },
  {
   "cell_type": "code",
   "execution_count": null,
   "id": "a31dbbd9-526f-45de-8260-9a3e6d75e02d",
   "metadata": {},
   "outputs": [],
   "source": [
    "to_posdef = PosDef().transform"
   ]
  },
  {
   "cell_type": "code",
   "execution_count": null,
   "id": "338b22a6-2550-4a9c-b4bd-2303e5db3322",
   "metadata": {},
   "outputs": [],
   "source": [
    "data = torch.rand(n_obs, n_dim_obs)\n",
    "mask = torch.rand(n_obs, n_dim_obs) > p_missing\n",
    "mask = mask.all(1)"
   ]
  },
  {
   "cell_type": "code",
   "execution_count": null,
   "id": "d857b678-4c0c-4a61-986a-81cb2b57766a",
   "metadata": {},
   "outputs": [],
   "source": [
    "mask[:10]"
   ]
  },
  {
   "cell_type": "code",
   "execution_count": null,
   "id": "64d7f3f4-2d5e-4a66-83d8-b09a68ca16ea",
   "metadata": {},
   "outputs": [],
   "source": [
    "mask[:10]"
   ]
  },
  {
   "cell_type": "code",
   "execution_count": null,
   "id": "e7ac8819-4d54-415d-a794-19edafd4af7f",
   "metadata": {},
   "outputs": [],
   "source": [
    "params = {\n",
    "    'transition_matrices': torch.rand(n_dim_state, n_dim_state),\n",
    "    'transition_offsets':  torch.rand(n_dim_state),        \n",
    "    'transition_cov':      to_posdef(torch.rand(n_dim_state, n_dim_state)),        \n",
    "    'obs_matrices':        torch.rand(n_dim_obs, n_dim_state),\n",
    "    'obs_offsets':         torch.rand(n_dim_obs),          \n",
    "    'obs_cov':             to_posdef(torch.rand(n_dim_obs, n_dim_obs)),            \n",
    "    'initial_state_mean':  torch.rand(n_dim_state),        \n",
    "    'initial_state_cov':   to_posdef(torch.rand(n_dim_state, n_dim_state)),\n",
    "}"
   ]
  },
  {
   "cell_type": "code",
   "execution_count": null,
   "id": "0f040e1b-b66c-4171-aa86-db539cc5c09e",
   "metadata": {},
   "outputs": [],
   "source": [
    "params2pyk = {\n",
    "    'transition_matrices': 'transition_matrices',\n",
    "    'transition_offsets':  'transition_offsets',        \n",
    "    'transition_cov':      'transition_covariance',        \n",
    "    'obs_matrices':        'observation_matrices',\n",
    "    'obs_offsets':         'observation_offsets',          \n",
    "    'obs_cov':             'observation_covariance',            \n",
    "    'initial_state_mean':  'initial_state_mean',        \n",
    "    'initial_state_cov':   'initial_state_covariance',\n",
    "}"
   ]
  },
  {
   "cell_type": "code",
   "execution_count": null,
   "id": "fdebb6cc-0e30-41d6-87bc-faf02f1a7d38",
   "metadata": {},
   "outputs": [],
   "source": [
    "params"
   ]
  },
  {
   "cell_type": "code",
   "execution_count": null,
   "id": "52994fa1-c5c6-4a44-9e7d-be8f87369800",
   "metadata": {},
   "outputs": [],
   "source": [
    "k = KalmanFilter(**params)"
   ]
  },
  {
   "cell_type": "code",
   "execution_count": null,
   "id": "7584e411-8872-46ab-9604-62355ca863bd",
   "metadata": {},
   "outputs": [],
   "source": [
    "pred = k.smooth(data, mask)"
   ]
  },
  {
   "cell_type": "markdown",
   "id": "160f49e8-1235-4271-9e49-aaec65842174",
   "metadata": {},
   "source": [
    "make a `pykalman` model using the same parameters"
   ]
  },
  {
   "cell_type": "code",
   "execution_count": null,
   "id": "8d147cbc-22fb-4094-bc36-e6fa8b13e0f1",
   "metadata": {},
   "outputs": [],
   "source": [
    "data_pyk = np.ma.masked_array(data.numpy(), mask = mask.numpy())"
   ]
  },
  {
   "cell_type": "code",
   "execution_count": null,
   "id": "fe57e59b-ace3-4b1f-b60f-61e56717e0ca",
   "metadata": {},
   "outputs": [],
   "source": [
    "pyk_k = pykalman.standard.KalmanFilter(\n",
    "\n",
    "    transition_matrices=k.transition_matrices.detach().numpy(),\n",
    "    transition_offsets=k.transition_offsets.detach().numpy(),\n",
    "    transition_covariance=k.transition_cov.detach().numpy(),\n",
    "    observation_matrices=k.obs_matrices.detach().numpy(),\n",
    "    observation_offsets=k.obs_offsets.detach().numpy(),\n",
    "    observation_covariance=k.obs_cov.detach().numpy(),\n",
    "    initial_state_mean=k.initial_state_mean.detach().numpy(),\n",
    "    initial_state_covariance=k.initial_state_cov.detach().numpy()\n",
    ")"
   ]
  },
  {
   "cell_type": "code",
   "execution_count": null,
   "id": "1f22416f-5c64-4a2a-a239-e74233a7a807",
   "metadata": {},
   "outputs": [],
   "source": [
    "pred_pyk = pyk_k.smooth(data_pyk)"
   ]
  },
  {
   "cell_type": "code",
   "execution_count": null,
   "id": "770582f6-ff2c-4b9d-9082-d7febda2b15a",
   "metadata": {},
   "outputs": [],
   "source": [
    "for p in params.keys():\n",
    "    print(p, getattr(k, p))"
   ]
  },
  {
   "cell_type": "code",
   "execution_count": null,
   "id": "3b53f0b6-7e86-4059-be51-11b5025896aa",
   "metadata": {},
   "outputs": [],
   "source": [
    "for p in params.keys():\n",
    "    print(p, getattr(pyk_k, params2pyk[p]))"
   ]
  },
  {
   "cell_type": "markdown",
   "id": "bbc06f87-be0a-4f4e-9027-ecea248dccad",
   "metadata": {},
   "source": [
    "### Compare Statsmodels"
   ]
  },
  {
   "cell_type": "code",
   "execution_count": null,
   "id": "1f4fdf23-2d75-4022-90e8-838ce44fb26c",
   "metadata": {},
   "outputs": [],
   "source": [
    "import statsmodels.api as sm\n",
    "import statsmodels"
   ]
  },
  {
   "cell_type": "code",
   "execution_count": null,
   "id": "9f3dd92e-27d0-4791-b790-bac0912014fc",
   "metadata": {},
   "outputs": [],
   "source": [
    "# sm_kf = statsmodels.tsa.statespace.kalman_filter.KalmanFilter(\n",
    "#     k_endog = 3,\n",
    "#     k_states = 3,\n",
    "#     initialization = 'known',\n",
    "#     initial_state = pyk_ncov.initial_state_mean,\n",
    "#     initial_state_cov = pyk_ncov.initial_state_covariance,\n",
    "#     design = pyk_ncov.observation_matrices,\n",
    "#     obs_cov = pyk_ncov.observation_covariance,\n",
    "#     transition = pyk_ncov.transition_matrices,\n",
    "#     state_cov = pyk_ncov.transition_covariance)"
   ]
  },
  {
   "cell_type": "code",
   "execution_count": null,
   "id": "f7db6e78-69cc-44b9-986e-174327d17269",
   "metadata": {},
   "outputs": [],
   "source": [
    "# sm_kf.bind(X_ncov.detach().numpy())"
   ]
  },
  {
   "cell_type": "code",
   "execution_count": null,
   "id": "c08ee714-ee6a-4318-bd06-d09274bdd8ca",
   "metadata": {},
   "outputs": [],
   "source": [
    "# sm_pred = sm_kf.filter() "
   ]
  },
  {
   "cell_type": "code",
   "execution_count": null,
   "id": "6da891b2-4e13-497b-9a30-8d690d1a6a37",
   "metadata": {},
   "outputs": [],
   "source": [
    "# sm_pred.predicted_state.shape"
   ]
  },
  {
   "cell_type": "code",
   "execution_count": null,
   "id": "0d469b65-b397-4d67-8779-0900ce87e33e",
   "metadata": {},
   "outputs": [],
   "source": [
    "# sm_pred.predicted_state_cov.shape"
   ]
  },
  {
   "cell_type": "code",
   "execution_count": null,
   "id": "1f56ded2-e5bb-454a-9aae-82a710e48131",
   "metadata": {},
   "outputs": [],
   "source": [
    "# mean = MultivariateNormal(torch.tensor(sm_pred.predicted_state[:, 0]), torch.tensor(sm_pred.predicted_state_cov[:, :, 0]))"
   ]
  },
  {
   "cell_type": "code",
   "execution_count": null,
   "id": "de6c187d-fc28-43df-9623-efe15d549282",
   "metadata": {},
   "outputs": [],
   "source": [
    "# sm_kf.loglikeobs()"
   ]
  }
 ],
 "metadata": {
  "kernelspec": {
   "display_name": "data_science",
   "language": "python",
   "name": "data_science"
  },
  "widgets": {
   "application/vnd.jupyter.widget-state+json": {
    "state": {},
    "version_major": 2,
    "version_minor": 0
   }
  }
 },
 "nbformat": 4,
 "nbformat_minor": 5
}
