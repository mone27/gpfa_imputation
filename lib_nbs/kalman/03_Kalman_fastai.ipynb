{
 "cells": [
  {
   "cell_type": "markdown",
   "id": "e8af5772-d828-4017-ae3b-5d530ac57586",
   "metadata": {},
   "source": [
    "# Implement Kalman model using FastAI\n",
    "\n",
    "> need to implement custom data preparation pipeline and loss function "
   ]
  },
  {
   "cell_type": "markdown",
   "id": "b0f3603c-74ec-41ba-a9dc-8fb08c2630cc",
   "metadata": {},
   "source": [
    "## Data Preparation"
   ]
  },
  {
   "cell_type": "markdown",
   "id": "df4ecbb3-f6ef-4344-95e7-5b566611d3f2",
   "metadata": {},
   "source": [
    "The aim of the data preparation pipeline is to:\n",
    "- take the original time series and split it into time blocks\n",
    "- for each block generate a random gap (need to figure out the properties of the gap)\n",
    "- split some time blocks for testing\n",
    "\n",
    "the input of the pipeline is:\n",
    "- a dataframe containing all observations\n",
    "\n",
    "the input of the model is:\n",
    "- observed data (potentially containing NaN where data is missing)\n",
    "- missing data mask (which is telling where the data is missing)\n",
    "- the data needs to be standardized"
   ]
  },
  {
   "cell_type": "code",
   "execution_count": null,
   "id": "b87acfa4-b43e-4cbe-9bc2-103a084ec5a2",
   "metadata": {},
   "outputs": [],
   "source": [
    "%load_ext autoreload\n",
    "%autoreload 2"
   ]
  },
  {
   "cell_type": "code",
   "execution_count": null,
   "id": "cca16380-45e6-479a-b8c3-e6f26ed9fdf3",
   "metadata": {},
   "outputs": [],
   "source": [
    "#| hide\n",
    "#| default_exp kalman.fastai"
   ]
  },
  {
   "cell_type": "code",
   "execution_count": null,
   "id": "6c8eade3",
   "metadata": {},
   "outputs": [],
   "source": [
    "from meteo_imp.utils import *"
   ]
  },
  {
   "cell_type": "code",
   "execution_count": null,
   "id": "c946534f",
   "metadata": {},
   "outputs": [],
   "source": [
    "reset_seed()"
   ]
  },
  {
   "cell_type": "code",
   "execution_count": null,
   "id": "bd2ec0dd-d8d3-4c64-91a7-909912be8087",
   "metadata": {},
   "outputs": [],
   "source": [
    "import torch"
   ]
  },
  {
   "cell_type": "code",
   "execution_count": null,
   "id": "131e1d0e-56f7-4c46-aadd-a9a9097bfe28",
   "metadata": {},
   "outputs": [],
   "source": [
    "from fastai.tabular.core import *\n",
    "from fastai.data.core import *"
   ]
  },
  {
   "cell_type": "code",
   "execution_count": null,
   "id": "f4d002d1-515b-4a2e-b402-e12919ca3b52",
   "metadata": {},
   "outputs": [],
   "source": [
    "from fastcore.transform import *\n",
    "from fastcore.basics import *\n",
    "from fastcore.foundation import *\n",
    "from fastcore.all import *"
   ]
  },
  {
   "cell_type": "code",
   "execution_count": null,
   "id": "61f7b6d7-df8f-41a7-9ac1-45add56ecb88",
   "metadata": {},
   "outputs": [],
   "source": [
    "from fastai.tabular import *"
   ]
  },
  {
   "cell_type": "code",
   "execution_count": null,
   "id": "03c20730-476f-4e75-ab71-08cefe625a78",
   "metadata": {},
   "outputs": [],
   "source": [
    "from meteo_imp.data import read_fluxnet_csv, hai_path"
   ]
  },
  {
   "cell_type": "code",
   "execution_count": null,
   "id": "e79e1f7b-bd8d-4c98-93cf-980917e00662",
   "metadata": {},
   "outputs": [],
   "source": [
    "from collections import namedtuple"
   ]
  },
  {
   "cell_type": "code",
   "execution_count": null,
   "id": "d7f48bb9-58ab-4d1a-97d9-b242f6542148",
   "metadata": {},
   "outputs": [],
   "source": [
    "@cache_disk(\"full_hai\")\n",
    "def load_data():\n",
    "    return read_fluxnet_csv(hai_path, None)\n",
    "\n",
    "hai = load_data()"
   ]
  },
  {
   "cell_type": "code",
   "execution_count": null,
   "id": "27ef7f1a-b815-40b4-96fb-201142dd5074",
   "metadata": {},
   "outputs": [],
   "source": [
    "import pandas as pd\n",
    "import numpy as np\n",
    "import matplotlib.pyplot as plt"
   ]
  },
  {
   "cell_type": "markdown",
   "id": "d17c4e2b-6175-4674-9437-9e8a75cadb35",
   "metadata": {},
   "source": [
    "### Blocks"
   ]
  },
  {
   "cell_type": "markdown",
   "id": "09346517-48ae-4872-b572-a095b7adcd19",
   "metadata": {},
   "source": [
    "the first step is to transfrom the original dataframe into blocks of a specified `block_len`\n",
    "\n",
    "two different strategies are possible:\n",
    "\n",
    "- contigous blocks\n",
    "- random block in the dataframe"
   ]
  },
  {
   "cell_type": "code",
   "execution_count": null,
   "id": "e4d73d6c-a82f-43c3-a8ff-cd6cfe644fac",
   "metadata": {},
   "outputs": [],
   "source": [
    "class BlockDfTransform(ItemTransform):\n",
    "    \"\"\"divide timeseries DataFrame into blocks\"\"\"\n",
    "    def __init__(self, df, block_len=200): \n",
    "        self.df = df \n",
    "        self.block_len = block_len\n",
    "        self.n = len(df)\n",
    "        \n",
    "    def encodes(self, i:int) -> pd.DataFrame:       \n",
    "        start = i * self.block_len\n",
    "        end = (i+1) * self.block_len\n",
    "        assert end <= self.n \n",
    "        \n",
    "        block = self.df[start:end]\n",
    "        \n",
    "        return block"
   ]
  },
  {
   "cell_type": "code",
   "execution_count": null,
   "id": "4e51eaf9-d972-4960-b5b3-03ddf4b139fa",
   "metadata": {},
   "outputs": [],
   "source": [
    "m = BlockDfTransform(hai[:100], 10)"
   ]
  },
  {
   "cell_type": "code",
   "execution_count": null,
   "id": "71c4f834-fb0f-4fb3-a13a-da01198a970a",
   "metadata": {},
   "outputs": [
    {
     "data": {
      "text/plain": [
       "BlockDfTransform:\n",
       "encodes: (int,object) -> encodes\n",
       "decodes: "
      ]
     },
     "execution_count": null,
     "metadata": {},
     "output_type": "execute_result"
    }
   ],
   "source": [
    "m"
   ]
  },
  {
   "cell_type": "code",
   "execution_count": null,
   "id": "db372f33-785c-4e99-8fe0-e439c24b004b",
   "metadata": {},
   "outputs": [
    {
     "data": {
      "text/html": [
       "<div>\n",
       "<style scoped>\n",
       "    .dataframe tbody tr th:only-of-type {\n",
       "        vertical-align: middle;\n",
       "    }\n",
       "\n",
       "    .dataframe tbody tr th {\n",
       "        vertical-align: top;\n",
       "    }\n",
       "\n",
       "    .dataframe thead th {\n",
       "        text-align: right;\n",
       "    }\n",
       "</style>\n",
       "<table border=\"1\" class=\"dataframe\">\n",
       "  <thead>\n",
       "    <tr style=\"text-align: right;\">\n",
       "      <th></th>\n",
       "      <th>TA</th>\n",
       "      <th>SW_IN</th>\n",
       "      <th>VPD</th>\n",
       "    </tr>\n",
       "    <tr>\n",
       "      <th>time</th>\n",
       "      <th></th>\n",
       "      <th></th>\n",
       "      <th></th>\n",
       "    </tr>\n",
       "  </thead>\n",
       "  <tbody>\n",
       "    <tr>\n",
       "      <th>2000-01-01 05:30:00</th>\n",
       "      <td>-0.23</td>\n",
       "      <td>0.00</td>\n",
       "      <td>0.138</td>\n",
       "    </tr>\n",
       "    <tr>\n",
       "      <th>2000-01-01 06:00:00</th>\n",
       "      <td>-0.23</td>\n",
       "      <td>0.00</td>\n",
       "      <td>0.122</td>\n",
       "    </tr>\n",
       "    <tr>\n",
       "      <th>2000-01-01 06:30:00</th>\n",
       "      <td>-0.22</td>\n",
       "      <td>0.00</td>\n",
       "      <td>0.098</td>\n",
       "    </tr>\n",
       "    <tr>\n",
       "      <th>2000-01-01 07:00:00</th>\n",
       "      <td>-0.24</td>\n",
       "      <td>0.00</td>\n",
       "      <td>0.066</td>\n",
       "    </tr>\n",
       "    <tr>\n",
       "      <th>2000-01-01 07:30:00</th>\n",
       "      <td>-0.23</td>\n",
       "      <td>0.00</td>\n",
       "      <td>0.044</td>\n",
       "    </tr>\n",
       "    <tr>\n",
       "      <th>2000-01-01 08:00:00</th>\n",
       "      <td>-0.22</td>\n",
       "      <td>0.00</td>\n",
       "      <td>0.026</td>\n",
       "    </tr>\n",
       "    <tr>\n",
       "      <th>2000-01-01 08:30:00</th>\n",
       "      <td>-0.19</td>\n",
       "      <td>0.45</td>\n",
       "      <td>0.016</td>\n",
       "    </tr>\n",
       "    <tr>\n",
       "      <th>2000-01-01 09:00:00</th>\n",
       "      <td>-0.14</td>\n",
       "      <td>3.70</td>\n",
       "      <td>0.010</td>\n",
       "    </tr>\n",
       "    <tr>\n",
       "      <th>2000-01-01 09:30:00</th>\n",
       "      <td>-0.03</td>\n",
       "      <td>7.26</td>\n",
       "      <td>0.006</td>\n",
       "    </tr>\n",
       "    <tr>\n",
       "      <th>2000-01-01 10:00:00</th>\n",
       "      <td>0.04</td>\n",
       "      <td>12.24</td>\n",
       "      <td>0.006</td>\n",
       "    </tr>\n",
       "  </tbody>\n",
       "</table>\n",
       "</div>"
      ],
      "text/plain": [
       "                       TA  SW_IN    VPD\n",
       "time                                   \n",
       "2000-01-01 05:30:00 -0.23   0.00  0.138\n",
       "2000-01-01 06:00:00 -0.23   0.00  0.122\n",
       "2000-01-01 06:30:00 -0.22   0.00  0.098\n",
       "2000-01-01 07:00:00 -0.24   0.00  0.066\n",
       "2000-01-01 07:30:00 -0.23   0.00  0.044\n",
       "2000-01-01 08:00:00 -0.22   0.00  0.026\n",
       "2000-01-01 08:30:00 -0.19   0.45  0.016\n",
       "2000-01-01 09:00:00 -0.14   3.70  0.010\n",
       "2000-01-01 09:30:00 -0.03   7.26  0.006\n",
       "2000-01-01 10:00:00  0.04  12.24  0.006"
      ]
     },
     "execution_count": null,
     "metadata": {},
     "output_type": "execute_result"
    }
   ],
   "source": [
    "m(1)"
   ]
  },
  {
   "cell_type": "code",
   "execution_count": null,
   "id": "57479bbb-1a76-44d1-af82-0d3666d2ae7d",
   "metadata": {},
   "outputs": [
    {
     "data": {
      "text/html": [
       "<div>\n",
       "<style scoped>\n",
       "    .dataframe tbody tr th:only-of-type {\n",
       "        vertical-align: middle;\n",
       "    }\n",
       "\n",
       "    .dataframe tbody tr th {\n",
       "        vertical-align: top;\n",
       "    }\n",
       "\n",
       "    .dataframe thead th {\n",
       "        text-align: right;\n",
       "    }\n",
       "</style>\n",
       "<table border=\"1\" class=\"dataframe\">\n",
       "  <thead>\n",
       "    <tr style=\"text-align: right;\">\n",
       "      <th></th>\n",
       "      <th>TA</th>\n",
       "      <th>SW_IN</th>\n",
       "      <th>VPD</th>\n",
       "    </tr>\n",
       "    <tr>\n",
       "      <th>time</th>\n",
       "      <th></th>\n",
       "      <th></th>\n",
       "      <th></th>\n",
       "    </tr>\n",
       "  </thead>\n",
       "  <tbody>\n",
       "    <tr>\n",
       "      <th>2000-01-02 21:30:00</th>\n",
       "      <td>0.97</td>\n",
       "      <td>0.0</td>\n",
       "      <td>0.192</td>\n",
       "    </tr>\n",
       "    <tr>\n",
       "      <th>2000-01-02 22:00:00</th>\n",
       "      <td>0.85</td>\n",
       "      <td>0.0</td>\n",
       "      <td>0.149</td>\n",
       "    </tr>\n",
       "    <tr>\n",
       "      <th>2000-01-02 22:30:00</th>\n",
       "      <td>0.77</td>\n",
       "      <td>0.0</td>\n",
       "      <td>0.112</td>\n",
       "    </tr>\n",
       "    <tr>\n",
       "      <th>2000-01-02 23:00:00</th>\n",
       "      <td>0.63</td>\n",
       "      <td>0.0</td>\n",
       "      <td>0.075</td>\n",
       "    </tr>\n",
       "    <tr>\n",
       "      <th>2000-01-02 23:30:00</th>\n",
       "      <td>0.52</td>\n",
       "      <td>0.0</td>\n",
       "      <td>0.038</td>\n",
       "    </tr>\n",
       "    <tr>\n",
       "      <th>2000-01-03 00:00:00</th>\n",
       "      <td>0.48</td>\n",
       "      <td>0.0</td>\n",
       "      <td>0.021</td>\n",
       "    </tr>\n",
       "    <tr>\n",
       "      <th>2000-01-03 00:30:00</th>\n",
       "      <td>0.41</td>\n",
       "      <td>0.0</td>\n",
       "      <td>0.013</td>\n",
       "    </tr>\n",
       "    <tr>\n",
       "      <th>2000-01-03 01:00:00</th>\n",
       "      <td>0.29</td>\n",
       "      <td>0.0</td>\n",
       "      <td>0.004</td>\n",
       "    </tr>\n",
       "    <tr>\n",
       "      <th>2000-01-03 01:30:00</th>\n",
       "      <td>0.31</td>\n",
       "      <td>0.0</td>\n",
       "      <td>0.000</td>\n",
       "    </tr>\n",
       "    <tr>\n",
       "      <th>2000-01-03 02:00:00</th>\n",
       "      <td>0.42</td>\n",
       "      <td>0.0</td>\n",
       "      <td>0.000</td>\n",
       "    </tr>\n",
       "  </tbody>\n",
       "</table>\n",
       "</div>"
      ],
      "text/plain": [
       "                       TA  SW_IN    VPD\n",
       "time                                   \n",
       "2000-01-02 21:30:00  0.97    0.0  0.192\n",
       "2000-01-02 22:00:00  0.85    0.0  0.149\n",
       "2000-01-02 22:30:00  0.77    0.0  0.112\n",
       "2000-01-02 23:00:00  0.63    0.0  0.075\n",
       "2000-01-02 23:30:00  0.52    0.0  0.038\n",
       "2000-01-03 00:00:00  0.48    0.0  0.021\n",
       "2000-01-03 00:30:00  0.41    0.0  0.013\n",
       "2000-01-03 01:00:00  0.29    0.0  0.004\n",
       "2000-01-03 01:30:00  0.31    0.0  0.000\n",
       "2000-01-03 02:00:00  0.42    0.0  0.000"
      ]
     },
     "execution_count": null,
     "metadata": {},
     "output_type": "execute_result"
    }
   ],
   "source": [
    "m(9)"
   ]
  },
  {
   "cell_type": "markdown",
   "id": "cc7af1e4-516c-4536-ab92-a5d19eec00fc",
   "metadata": {},
   "source": [
    "### Gaps"
   ]
  },
  {
   "cell_type": "markdown",
   "id": "f2fe95d9-43bb-4174-8b9d-d5e87fdc3930",
   "metadata": {},
   "source": [
    "adds a mask which includes a random gap"
   ]
  },
  {
   "cell_type": "code",
   "execution_count": null,
   "id": "0c90ac7a-c0e8-4994-9268-8ae6c0739a84",
   "metadata": {},
   "outputs": [],
   "source": [
    "#| exports\n",
    "def _make_random_gap(\n",
    "    gap_length: int, # The length of the gap\n",
    "    total_length: int, # The total number of observations\n",
    "    gap_start: int = None # Optional start of gap\n",
    "): # (total_length) array of bools to indicicate if the data is missing or not\n",
    "    \"Add a continous gap of ginve length at random position\"\n",
    "    if(gap_length >= total_length):\n",
    "        return np.repeat(True, total_length)\n",
    "    gap_start = np.random.randint(total_length - gap_length) if gap_start is None else gap_start\n",
    "    return np.hstack([\n",
    "        np.repeat(False, gap_start),\n",
    "        np.repeat(True, gap_length),\n",
    "        np.repeat(False, total_length - (gap_length + gap_start))\n",
    "    ])"
   ]
  },
  {
   "cell_type": "code",
   "execution_count": null,
   "id": "0302d047-5adc-426e-94c2-1ced768a3a49",
   "metadata": {},
   "outputs": [],
   "source": [
    "from fastcore.basics import *"
   ]
  },
  {
   "cell_type": "code",
   "execution_count": null,
   "id": "54d55ad4-b9aa-41dd-bc26-d2bafa512311",
   "metadata": {},
   "outputs": [],
   "source": [
    "MaskedDf = namedtuple('MaskedDf', 'data mask')"
   ]
  },
  {
   "cell_type": "code",
   "execution_count": null,
   "id": "c71f35e5-ace8-41a6-806c-d5b14c520e7a",
   "metadata": {},
   "outputs": [],
   "source": [
    "class AddGapTransform(ItemTransform):\n",
    "    \"\"\"Adds a random gap to a `TimeSTensor`\"\"\"\n",
    "    def __init__(self,\n",
    "                variables,\n",
    "                gap_length,\n",
    "                ):\n",
    "        store_attr()\n",
    "    def encodes(self, df: pd.DataFrame):\n",
    "        gap = _make_random_gap(self.gap_length, df.shape[0])\n",
    "        mask = np.ones_like(df, dtype=bool)\n",
    "        col_sel = L(*df.columns).argwhere(lambda x: x in self.variables)\n",
    "        mask[np.argwhere(gap), col_sel] = False\n",
    "        return MaskedDf(df, pd.DataFrame(mask, index=df.index, columns=df.columns))"
   ]
  },
  {
   "cell_type": "code",
   "execution_count": null,
   "id": "47a56595-0fc1-4a7a-a9c6-38497079acb3",
   "metadata": {},
   "outputs": [
    {
     "data": {
      "text/plain": [
       "AddGapTransform:\n",
       "encodes: (DataFrame,object) -> encodes\n",
       "decodes: "
      ]
     },
     "execution_count": null,
     "metadata": {},
     "output_type": "execute_result"
    }
   ],
   "source": [
    "a_gap = AddGapTransform(['TA', 'VPD'], 5)\n",
    "a_gap"
   ]
  },
  {
   "cell_type": "code",
   "execution_count": null,
   "id": "27f2cc9f-4d0a-42a5-90bf-f4ca999918f7",
   "metadata": {},
   "outputs": [
    {
     "data": {
      "text/plain": [
       "MaskedDf(data=                       TA  SW_IN    VPD\n",
       "time                                   \n",
       "2000-01-01 05:30:00 -0.23   0.00  0.138\n",
       "2000-01-01 06:00:00 -0.23   0.00  0.122\n",
       "2000-01-01 06:30:00 -0.22   0.00  0.098\n",
       "2000-01-01 07:00:00 -0.24   0.00  0.066\n",
       "2000-01-01 07:30:00 -0.23   0.00  0.044\n",
       "2000-01-01 08:00:00 -0.22   0.00  0.026\n",
       "2000-01-01 08:30:00 -0.19   0.45  0.016\n",
       "2000-01-01 09:00:00 -0.14   3.70  0.010\n",
       "2000-01-01 09:30:00 -0.03   7.26  0.006\n",
       "2000-01-01 10:00:00  0.04  12.24  0.006, mask=                        TA  SW_IN    VPD\n",
       "time                                    \n",
       "2000-01-01 05:30:00   True   True   True\n",
       "2000-01-01 06:00:00   True   True   True\n",
       "2000-01-01 06:30:00   True   True   True\n",
       "2000-01-01 07:00:00  False   True  False\n",
       "2000-01-01 07:30:00  False   True  False\n",
       "2000-01-01 08:00:00  False   True  False\n",
       "2000-01-01 08:30:00  False   True  False\n",
       "2000-01-01 09:00:00  False   True  False\n",
       "2000-01-01 09:30:00   True   True   True\n",
       "2000-01-01 10:00:00   True   True   True)"
      ]
     },
     "execution_count": null,
     "metadata": {},
     "output_type": "execute_result"
    }
   ],
   "source": [
    "a_gap(m(1))"
   ]
  },
  {
   "cell_type": "code",
   "execution_count": null,
   "id": "2841762f-ad13-4165-975f-934f9a38d5b6",
   "metadata": {},
   "outputs": [],
   "source": [
    "m_df = a_gap(m(3))"
   ]
  },
  {
   "cell_type": "code",
   "execution_count": null,
   "id": "219da54b-55ed-4543-bbbb-5d144d089bed",
   "metadata": {},
   "outputs": [
    {
     "data": {
      "text/html": [
       "<div>\n",
       "<style scoped>\n",
       "    .dataframe tbody tr th:only-of-type {\n",
       "        vertical-align: middle;\n",
       "    }\n",
       "\n",
       "    .dataframe tbody tr th {\n",
       "        vertical-align: top;\n",
       "    }\n",
       "\n",
       "    .dataframe thead th {\n",
       "        text-align: right;\n",
       "    }\n",
       "</style>\n",
       "<table border=\"1\" class=\"dataframe\">\n",
       "  <thead>\n",
       "    <tr style=\"text-align: right;\">\n",
       "      <th></th>\n",
       "      <th>TA</th>\n",
       "      <th>SW_IN</th>\n",
       "      <th>VPD</th>\n",
       "    </tr>\n",
       "    <tr>\n",
       "      <th>time</th>\n",
       "      <th></th>\n",
       "      <th></th>\n",
       "      <th></th>\n",
       "    </tr>\n",
       "  </thead>\n",
       "  <tbody>\n",
       "    <tr>\n",
       "      <th>2000-01-01 15:30:00</th>\n",
       "      <td>0.52</td>\n",
       "      <td>8.09</td>\n",
       "      <td>0.000</td>\n",
       "    </tr>\n",
       "    <tr>\n",
       "      <th>2000-01-01 16:00:00</th>\n",
       "      <td>0.57</td>\n",
       "      <td>6.37</td>\n",
       "      <td>0.000</td>\n",
       "    </tr>\n",
       "    <tr>\n",
       "      <th>2000-01-01 16:30:00</th>\n",
       "      <td>0.73</td>\n",
       "      <td>1.72</td>\n",
       "      <td>0.000</td>\n",
       "    </tr>\n",
       "    <tr>\n",
       "      <th>2000-01-01 17:00:00</th>\n",
       "      <td>0.77</td>\n",
       "      <td>0.06</td>\n",
       "      <td>0.000</td>\n",
       "    </tr>\n",
       "    <tr>\n",
       "      <th>2000-01-01 17:30:00</th>\n",
       "      <td>0.84</td>\n",
       "      <td>0.00</td>\n",
       "      <td>0.000</td>\n",
       "    </tr>\n",
       "    <tr>\n",
       "      <th>2000-01-01 18:00:00</th>\n",
       "      <td>0.99</td>\n",
       "      <td>0.00</td>\n",
       "      <td>0.000</td>\n",
       "    </tr>\n",
       "    <tr>\n",
       "      <th>2000-01-01 18:30:00</th>\n",
       "      <td>1.35</td>\n",
       "      <td>0.00</td>\n",
       "      <td>0.000</td>\n",
       "    </tr>\n",
       "    <tr>\n",
       "      <th>2000-01-01 19:00:00</th>\n",
       "      <td>1.86</td>\n",
       "      <td>0.00</td>\n",
       "      <td>0.002</td>\n",
       "    </tr>\n",
       "    <tr>\n",
       "      <th>2000-01-01 19:30:00</th>\n",
       "      <td>2.01</td>\n",
       "      <td>0.00</td>\n",
       "      <td>0.009</td>\n",
       "    </tr>\n",
       "    <tr>\n",
       "      <th>2000-01-01 20:00:00</th>\n",
       "      <td>2.07</td>\n",
       "      <td>0.00</td>\n",
       "      <td>0.014</td>\n",
       "    </tr>\n",
       "  </tbody>\n",
       "</table>\n",
       "</div>"
      ],
      "text/plain": [
       "                       TA  SW_IN    VPD\n",
       "time                                   \n",
       "2000-01-01 15:30:00  0.52   8.09  0.000\n",
       "2000-01-01 16:00:00  0.57   6.37  0.000\n",
       "2000-01-01 16:30:00  0.73   1.72  0.000\n",
       "2000-01-01 17:00:00  0.77   0.06  0.000\n",
       "2000-01-01 17:30:00  0.84   0.00  0.000\n",
       "2000-01-01 18:00:00  0.99   0.00  0.000\n",
       "2000-01-01 18:30:00  1.35   0.00  0.000\n",
       "2000-01-01 19:00:00  1.86   0.00  0.002\n",
       "2000-01-01 19:30:00  2.01   0.00  0.009\n",
       "2000-01-01 20:00:00  2.07   0.00  0.014"
      ]
     },
     "execution_count": null,
     "metadata": {},
     "output_type": "execute_result"
    }
   ],
   "source": [
    "m_df.data"
   ]
  },
  {
   "cell_type": "code",
   "execution_count": null,
   "id": "68150c31-c394-42c5-8b1c-d4b3f3d48f93",
   "metadata": {},
   "outputs": [
    {
     "data": {
      "text/html": [
       "<div>\n",
       "<style scoped>\n",
       "    .dataframe tbody tr th:only-of-type {\n",
       "        vertical-align: middle;\n",
       "    }\n",
       "\n",
       "    .dataframe tbody tr th {\n",
       "        vertical-align: top;\n",
       "    }\n",
       "\n",
       "    .dataframe thead th {\n",
       "        text-align: right;\n",
       "    }\n",
       "</style>\n",
       "<table border=\"1\" class=\"dataframe\">\n",
       "  <thead>\n",
       "    <tr style=\"text-align: right;\">\n",
       "      <th></th>\n",
       "      <th>TA</th>\n",
       "      <th>SW_IN</th>\n",
       "      <th>VPD</th>\n",
       "    </tr>\n",
       "    <tr>\n",
       "      <th>time</th>\n",
       "      <th></th>\n",
       "      <th></th>\n",
       "      <th></th>\n",
       "    </tr>\n",
       "  </thead>\n",
       "  <tbody>\n",
       "    <tr>\n",
       "      <th>2000-01-01 15:30:00</th>\n",
       "      <td>False</td>\n",
       "      <td>True</td>\n",
       "      <td>False</td>\n",
       "    </tr>\n",
       "    <tr>\n",
       "      <th>2000-01-01 16:00:00</th>\n",
       "      <td>False</td>\n",
       "      <td>True</td>\n",
       "      <td>False</td>\n",
       "    </tr>\n",
       "    <tr>\n",
       "      <th>2000-01-01 16:30:00</th>\n",
       "      <td>False</td>\n",
       "      <td>True</td>\n",
       "      <td>False</td>\n",
       "    </tr>\n",
       "    <tr>\n",
       "      <th>2000-01-01 17:00:00</th>\n",
       "      <td>False</td>\n",
       "      <td>True</td>\n",
       "      <td>False</td>\n",
       "    </tr>\n",
       "    <tr>\n",
       "      <th>2000-01-01 17:30:00</th>\n",
       "      <td>False</td>\n",
       "      <td>True</td>\n",
       "      <td>False</td>\n",
       "    </tr>\n",
       "    <tr>\n",
       "      <th>2000-01-01 18:00:00</th>\n",
       "      <td>True</td>\n",
       "      <td>True</td>\n",
       "      <td>True</td>\n",
       "    </tr>\n",
       "    <tr>\n",
       "      <th>2000-01-01 18:30:00</th>\n",
       "      <td>True</td>\n",
       "      <td>True</td>\n",
       "      <td>True</td>\n",
       "    </tr>\n",
       "    <tr>\n",
       "      <th>2000-01-01 19:00:00</th>\n",
       "      <td>True</td>\n",
       "      <td>True</td>\n",
       "      <td>True</td>\n",
       "    </tr>\n",
       "    <tr>\n",
       "      <th>2000-01-01 19:30:00</th>\n",
       "      <td>True</td>\n",
       "      <td>True</td>\n",
       "      <td>True</td>\n",
       "    </tr>\n",
       "    <tr>\n",
       "      <th>2000-01-01 20:00:00</th>\n",
       "      <td>True</td>\n",
       "      <td>True</td>\n",
       "      <td>True</td>\n",
       "    </tr>\n",
       "  </tbody>\n",
       "</table>\n",
       "</div>"
      ],
      "text/plain": [
       "                        TA  SW_IN    VPD\n",
       "time                                    \n",
       "2000-01-01 15:30:00  False   True  False\n",
       "2000-01-01 16:00:00  False   True  False\n",
       "2000-01-01 16:30:00  False   True  False\n",
       "2000-01-01 17:00:00  False   True  False\n",
       "2000-01-01 17:30:00  False   True  False\n",
       "2000-01-01 18:00:00   True   True   True\n",
       "2000-01-01 18:30:00   True   True   True\n",
       "2000-01-01 19:00:00   True   True   True\n",
       "2000-01-01 19:30:00   True   True   True\n",
       "2000-01-01 20:00:00   True   True   True"
      ]
     },
     "execution_count": null,
     "metadata": {},
     "output_type": "execute_result"
    }
   ],
   "source": [
    "m_df.mask"
   ]
  },
  {
   "cell_type": "code",
   "execution_count": null,
   "id": "5952ccff-6433-48ca-8940-6ea872927cdc",
   "metadata": {},
   "outputs": [],
   "source": [
    "@patch\n",
    "def tidy(self: MaskedDf):\n",
    "    data = self.data.reset_index().melt(\"time\")\n",
    "    mask = self.mask.reset_index().melt(\"time\", value_name=\"is_present\")\n",
    "    \n",
    "    return pd.merge(data, mask, on=[\"time\", \"variable\"])"
   ]
  },
  {
   "cell_type": "code",
   "execution_count": null,
   "id": "c601c37c-a032-4edb-a522-50ce0af7b87d",
   "metadata": {},
   "outputs": [
    {
     "data": {
      "text/html": [
       "<div>\n",
       "<style scoped>\n",
       "    .dataframe tbody tr th:only-of-type {\n",
       "        vertical-align: middle;\n",
       "    }\n",
       "\n",
       "    .dataframe tbody tr th {\n",
       "        vertical-align: top;\n",
       "    }\n",
       "\n",
       "    .dataframe thead th {\n",
       "        text-align: right;\n",
       "    }\n",
       "</style>\n",
       "<table border=\"1\" class=\"dataframe\">\n",
       "  <thead>\n",
       "    <tr style=\"text-align: right;\">\n",
       "      <th></th>\n",
       "      <th>time</th>\n",
       "      <th>variable</th>\n",
       "      <th>value</th>\n",
       "      <th>is_present</th>\n",
       "    </tr>\n",
       "  </thead>\n",
       "  <tbody>\n",
       "    <tr>\n",
       "      <th>0</th>\n",
       "      <td>2000-01-01 15:30:00</td>\n",
       "      <td>TA</td>\n",
       "      <td>0.520</td>\n",
       "      <td>False</td>\n",
       "    </tr>\n",
       "    <tr>\n",
       "      <th>1</th>\n",
       "      <td>2000-01-01 16:00:00</td>\n",
       "      <td>TA</td>\n",
       "      <td>0.570</td>\n",
       "      <td>False</td>\n",
       "    </tr>\n",
       "    <tr>\n",
       "      <th>2</th>\n",
       "      <td>2000-01-01 16:30:00</td>\n",
       "      <td>TA</td>\n",
       "      <td>0.730</td>\n",
       "      <td>False</td>\n",
       "    </tr>\n",
       "    <tr>\n",
       "      <th>3</th>\n",
       "      <td>2000-01-01 17:00:00</td>\n",
       "      <td>TA</td>\n",
       "      <td>0.770</td>\n",
       "      <td>False</td>\n",
       "    </tr>\n",
       "    <tr>\n",
       "      <th>4</th>\n",
       "      <td>2000-01-01 17:30:00</td>\n",
       "      <td>TA</td>\n",
       "      <td>0.840</td>\n",
       "      <td>False</td>\n",
       "    </tr>\n",
       "    <tr>\n",
       "      <th>5</th>\n",
       "      <td>2000-01-01 18:00:00</td>\n",
       "      <td>TA</td>\n",
       "      <td>0.990</td>\n",
       "      <td>True</td>\n",
       "    </tr>\n",
       "    <tr>\n",
       "      <th>6</th>\n",
       "      <td>2000-01-01 18:30:00</td>\n",
       "      <td>TA</td>\n",
       "      <td>1.350</td>\n",
       "      <td>True</td>\n",
       "    </tr>\n",
       "    <tr>\n",
       "      <th>7</th>\n",
       "      <td>2000-01-01 19:00:00</td>\n",
       "      <td>TA</td>\n",
       "      <td>1.860</td>\n",
       "      <td>True</td>\n",
       "    </tr>\n",
       "    <tr>\n",
       "      <th>8</th>\n",
       "      <td>2000-01-01 19:30:00</td>\n",
       "      <td>TA</td>\n",
       "      <td>2.010</td>\n",
       "      <td>True</td>\n",
       "    </tr>\n",
       "    <tr>\n",
       "      <th>9</th>\n",
       "      <td>2000-01-01 20:00:00</td>\n",
       "      <td>TA</td>\n",
       "      <td>2.070</td>\n",
       "      <td>True</td>\n",
       "    </tr>\n",
       "    <tr>\n",
       "      <th>10</th>\n",
       "      <td>2000-01-01 15:30:00</td>\n",
       "      <td>SW_IN</td>\n",
       "      <td>8.090</td>\n",
       "      <td>True</td>\n",
       "    </tr>\n",
       "    <tr>\n",
       "      <th>11</th>\n",
       "      <td>2000-01-01 16:00:00</td>\n",
       "      <td>SW_IN</td>\n",
       "      <td>6.370</td>\n",
       "      <td>True</td>\n",
       "    </tr>\n",
       "    <tr>\n",
       "      <th>12</th>\n",
       "      <td>2000-01-01 16:30:00</td>\n",
       "      <td>SW_IN</td>\n",
       "      <td>1.720</td>\n",
       "      <td>True</td>\n",
       "    </tr>\n",
       "    <tr>\n",
       "      <th>13</th>\n",
       "      <td>2000-01-01 17:00:00</td>\n",
       "      <td>SW_IN</td>\n",
       "      <td>0.060</td>\n",
       "      <td>True</td>\n",
       "    </tr>\n",
       "    <tr>\n",
       "      <th>14</th>\n",
       "      <td>2000-01-01 17:30:00</td>\n",
       "      <td>SW_IN</td>\n",
       "      <td>0.000</td>\n",
       "      <td>True</td>\n",
       "    </tr>\n",
       "    <tr>\n",
       "      <th>15</th>\n",
       "      <td>2000-01-01 18:00:00</td>\n",
       "      <td>SW_IN</td>\n",
       "      <td>0.000</td>\n",
       "      <td>True</td>\n",
       "    </tr>\n",
       "    <tr>\n",
       "      <th>16</th>\n",
       "      <td>2000-01-01 18:30:00</td>\n",
       "      <td>SW_IN</td>\n",
       "      <td>0.000</td>\n",
       "      <td>True</td>\n",
       "    </tr>\n",
       "    <tr>\n",
       "      <th>17</th>\n",
       "      <td>2000-01-01 19:00:00</td>\n",
       "      <td>SW_IN</td>\n",
       "      <td>0.000</td>\n",
       "      <td>True</td>\n",
       "    </tr>\n",
       "    <tr>\n",
       "      <th>18</th>\n",
       "      <td>2000-01-01 19:30:00</td>\n",
       "      <td>SW_IN</td>\n",
       "      <td>0.000</td>\n",
       "      <td>True</td>\n",
       "    </tr>\n",
       "    <tr>\n",
       "      <th>19</th>\n",
       "      <td>2000-01-01 20:00:00</td>\n",
       "      <td>SW_IN</td>\n",
       "      <td>0.000</td>\n",
       "      <td>True</td>\n",
       "    </tr>\n",
       "    <tr>\n",
       "      <th>20</th>\n",
       "      <td>2000-01-01 15:30:00</td>\n",
       "      <td>VPD</td>\n",
       "      <td>0.000</td>\n",
       "      <td>False</td>\n",
       "    </tr>\n",
       "    <tr>\n",
       "      <th>21</th>\n",
       "      <td>2000-01-01 16:00:00</td>\n",
       "      <td>VPD</td>\n",
       "      <td>0.000</td>\n",
       "      <td>False</td>\n",
       "    </tr>\n",
       "    <tr>\n",
       "      <th>22</th>\n",
       "      <td>2000-01-01 16:30:00</td>\n",
       "      <td>VPD</td>\n",
       "      <td>0.000</td>\n",
       "      <td>False</td>\n",
       "    </tr>\n",
       "    <tr>\n",
       "      <th>23</th>\n",
       "      <td>2000-01-01 17:00:00</td>\n",
       "      <td>VPD</td>\n",
       "      <td>0.000</td>\n",
       "      <td>False</td>\n",
       "    </tr>\n",
       "    <tr>\n",
       "      <th>24</th>\n",
       "      <td>2000-01-01 17:30:00</td>\n",
       "      <td>VPD</td>\n",
       "      <td>0.000</td>\n",
       "      <td>False</td>\n",
       "    </tr>\n",
       "    <tr>\n",
       "      <th>25</th>\n",
       "      <td>2000-01-01 18:00:00</td>\n",
       "      <td>VPD</td>\n",
       "      <td>0.000</td>\n",
       "      <td>True</td>\n",
       "    </tr>\n",
       "    <tr>\n",
       "      <th>26</th>\n",
       "      <td>2000-01-01 18:30:00</td>\n",
       "      <td>VPD</td>\n",
       "      <td>0.000</td>\n",
       "      <td>True</td>\n",
       "    </tr>\n",
       "    <tr>\n",
       "      <th>27</th>\n",
       "      <td>2000-01-01 19:00:00</td>\n",
       "      <td>VPD</td>\n",
       "      <td>0.002</td>\n",
       "      <td>True</td>\n",
       "    </tr>\n",
       "    <tr>\n",
       "      <th>28</th>\n",
       "      <td>2000-01-01 19:30:00</td>\n",
       "      <td>VPD</td>\n",
       "      <td>0.009</td>\n",
       "      <td>True</td>\n",
       "    </tr>\n",
       "    <tr>\n",
       "      <th>29</th>\n",
       "      <td>2000-01-01 20:00:00</td>\n",
       "      <td>VPD</td>\n",
       "      <td>0.014</td>\n",
       "      <td>True</td>\n",
       "    </tr>\n",
       "  </tbody>\n",
       "</table>\n",
       "</div>"
      ],
      "text/plain": [
       "                  time variable  value  is_present\n",
       "0  2000-01-01 15:30:00       TA  0.520       False\n",
       "1  2000-01-01 16:00:00       TA  0.570       False\n",
       "2  2000-01-01 16:30:00       TA  0.730       False\n",
       "3  2000-01-01 17:00:00       TA  0.770       False\n",
       "4  2000-01-01 17:30:00       TA  0.840       False\n",
       "5  2000-01-01 18:00:00       TA  0.990        True\n",
       "6  2000-01-01 18:30:00       TA  1.350        True\n",
       "7  2000-01-01 19:00:00       TA  1.860        True\n",
       "8  2000-01-01 19:30:00       TA  2.010        True\n",
       "9  2000-01-01 20:00:00       TA  2.070        True\n",
       "10 2000-01-01 15:30:00    SW_IN  8.090        True\n",
       "11 2000-01-01 16:00:00    SW_IN  6.370        True\n",
       "12 2000-01-01 16:30:00    SW_IN  1.720        True\n",
       "13 2000-01-01 17:00:00    SW_IN  0.060        True\n",
       "14 2000-01-01 17:30:00    SW_IN  0.000        True\n",
       "15 2000-01-01 18:00:00    SW_IN  0.000        True\n",
       "16 2000-01-01 18:30:00    SW_IN  0.000        True\n",
       "17 2000-01-01 19:00:00    SW_IN  0.000        True\n",
       "18 2000-01-01 19:30:00    SW_IN  0.000        True\n",
       "19 2000-01-01 20:00:00    SW_IN  0.000        True\n",
       "20 2000-01-01 15:30:00      VPD  0.000       False\n",
       "21 2000-01-01 16:00:00      VPD  0.000       False\n",
       "22 2000-01-01 16:30:00      VPD  0.000       False\n",
       "23 2000-01-01 17:00:00      VPD  0.000       False\n",
       "24 2000-01-01 17:30:00      VPD  0.000       False\n",
       "25 2000-01-01 18:00:00      VPD  0.000        True\n",
       "26 2000-01-01 18:30:00      VPD  0.000        True\n",
       "27 2000-01-01 19:00:00      VPD  0.002        True\n",
       "28 2000-01-01 19:30:00      VPD  0.009        True\n",
       "29 2000-01-01 20:00:00      VPD  0.014        True"
      ]
     },
     "execution_count": null,
     "metadata": {},
     "output_type": "execute_result"
    }
   ],
   "source": [
    "m_df.tidy()"
   ]
  },
  {
   "cell_type": "code",
   "execution_count": null,
   "id": "f36f4825-52e4-49c7-92f1-14d64429e3ea",
   "metadata": {},
   "outputs": [],
   "source": [
    "import altair as alt\n",
    "from altair import datum"
   ]
  },
  {
   "cell_type": "code",
   "execution_count": null,
   "id": "51544d62-63ca-4e6c-b63e-943cc739fa5b",
   "metadata": {},
   "outputs": [],
   "source": [
    "def def_selection():\n",
    "    return alt.selection_interval(bind=\"scales\")"
   ]
  },
  {
   "cell_type": "code",
   "execution_count": null,
   "id": "7f1e483f-f250-4baf-82ee-3958f5cefba8",
   "metadata": {},
   "outputs": [],
   "source": [
    "def plot_rug(df, sel = def_selection(), props = {}):\n",
    "    if 'height' in props:\n",
    "        props = props.copy() \n",
    "        props.pop('height') # rug should have default heigth\n",
    "    return alt.Chart(df).mark_tick(\n",
    "            color='black',\n",
    "        ).encode(\n",
    "            x = \"time\",\n",
    "            color = alt.condition(datum.is_present, alt.value('white'), alt.value('black'))\n",
    "        ).add_selection(\n",
    "            sel\n",
    "        ).properties(**props) "
   ]
  },
  {
   "cell_type": "code",
   "execution_count": null,
   "id": "f9668bee-f4dd-48e6-92cd-4b96f1f3626e",
   "metadata": {},
   "outputs": [
    {
     "name": "stderr",
     "output_type": "stream",
     "text": [
      "/home/simone/.local/lib/python3.10/site-packages/altair/utils/core.py:317: FutureWarning: iteritems is deprecated and will be removed in a future version. Use .items instead.\n",
      "  for col_name, dtype in df.dtypes.iteritems():\n"
     ]
    },
    {
     "data": {
      "text/html": [
       "\n",
       "<div id=\"altair-viz-2dda0c0355c44a01bc7682418c6e1128\"></div>\n",
       "<script type=\"text/javascript\">\n",
       "  var VEGA_DEBUG = (typeof VEGA_DEBUG == \"undefined\") ? {} : VEGA_DEBUG;\n",
       "  (function(spec, embedOpt){\n",
       "    let outputDiv = document.currentScript.previousElementSibling;\n",
       "    if (outputDiv.id !== \"altair-viz-2dda0c0355c44a01bc7682418c6e1128\") {\n",
       "      outputDiv = document.getElementById(\"altair-viz-2dda0c0355c44a01bc7682418c6e1128\");\n",
       "    }\n",
       "    const paths = {\n",
       "      \"vega\": \"https://cdn.jsdelivr.net/npm//vega@5?noext\",\n",
       "      \"vega-lib\": \"https://cdn.jsdelivr.net/npm//vega-lib?noext\",\n",
       "      \"vega-lite\": \"https://cdn.jsdelivr.net/npm//vega-lite@4.17.0?noext\",\n",
       "      \"vega-embed\": \"https://cdn.jsdelivr.net/npm//vega-embed@6?noext\",\n",
       "    };\n",
       "\n",
       "    function maybeLoadScript(lib, version) {\n",
       "      var key = `${lib.replace(\"-\", \"\")}_version`;\n",
       "      return (VEGA_DEBUG[key] == version) ?\n",
       "        Promise.resolve(paths[lib]) :\n",
       "        new Promise(function(resolve, reject) {\n",
       "          var s = document.createElement('script');\n",
       "          document.getElementsByTagName(\"head\")[0].appendChild(s);\n",
       "          s.async = true;\n",
       "          s.onload = () => {\n",
       "            VEGA_DEBUG[key] = version;\n",
       "            return resolve(paths[lib]);\n",
       "          };\n",
       "          s.onerror = () => reject(`Error loading script: ${paths[lib]}`);\n",
       "          s.src = paths[lib];\n",
       "        });\n",
       "    }\n",
       "\n",
       "    function showError(err) {\n",
       "      outputDiv.innerHTML = `<div class=\"error\" style=\"color:red;\">${err}</div>`;\n",
       "      throw err;\n",
       "    }\n",
       "\n",
       "    function displayChart(vegaEmbed) {\n",
       "      vegaEmbed(outputDiv, spec, embedOpt)\n",
       "        .catch(err => showError(`Javascript Error: ${err.message}<br>This usually means there's a typo in your chart specification. See the javascript console for the full traceback.`));\n",
       "    }\n",
       "\n",
       "    if(typeof define === \"function\" && define.amd) {\n",
       "      requirejs.config({paths});\n",
       "      require([\"vega-embed\"], displayChart, err => showError(`Error loading script: ${err.message}`));\n",
       "    } else {\n",
       "      maybeLoadScript(\"vega\", \"5\")\n",
       "        .then(() => maybeLoadScript(\"vega-lite\", \"4.17.0\"))\n",
       "        .then(() => maybeLoadScript(\"vega-embed\", \"6\"))\n",
       "        .catch(showError)\n",
       "        .then(() => displayChart(vegaEmbed));\n",
       "    }\n",
       "  })({\"config\": {\"view\": {\"continuousWidth\": 400, \"continuousHeight\": 300}}, \"data\": {\"name\": \"data-8dbc285ff9e9a0880661cf5960fe4e06\"}, \"mark\": {\"type\": \"tick\", \"color\": \"black\"}, \"encoding\": {\"color\": {\"condition\": {\"value\": \"white\", \"test\": \"datum.is_present\"}, \"value\": \"black\"}, \"x\": {\"field\": \"time\", \"type\": \"temporal\"}}, \"selection\": {\"selector001\": {\"type\": \"interval\", \"bind\": \"scales\"}}, \"$schema\": \"https://vega.github.io/schema/vega-lite/v4.17.0.json\", \"datasets\": {\"data-8dbc285ff9e9a0880661cf5960fe4e06\": [{\"time\": \"2000-01-01T15:30:00\", \"variable\": \"TA\", \"value\": 0.5199999809265137, \"is_present\": false}, {\"time\": \"2000-01-01T16:00:00\", \"variable\": \"TA\", \"value\": 0.5699999928474426, \"is_present\": false}, {\"time\": \"2000-01-01T16:30:00\", \"variable\": \"TA\", \"value\": 0.7300000190734863, \"is_present\": false}, {\"time\": \"2000-01-01T17:00:00\", \"variable\": \"TA\", \"value\": 0.7699999809265137, \"is_present\": false}, {\"time\": \"2000-01-01T17:30:00\", \"variable\": \"TA\", \"value\": 0.8399999737739563, \"is_present\": false}, {\"time\": \"2000-01-01T18:00:00\", \"variable\": \"TA\", \"value\": 0.9900000095367432, \"is_present\": true}, {\"time\": \"2000-01-01T18:30:00\", \"variable\": \"TA\", \"value\": 1.350000023841858, \"is_present\": true}, {\"time\": \"2000-01-01T19:00:00\", \"variable\": \"TA\", \"value\": 1.8600000143051147, \"is_present\": true}, {\"time\": \"2000-01-01T19:30:00\", \"variable\": \"TA\", \"value\": 2.009999990463257, \"is_present\": true}, {\"time\": \"2000-01-01T20:00:00\", \"variable\": \"TA\", \"value\": 2.069999933242798, \"is_present\": true}, {\"time\": \"2000-01-01T15:30:00\", \"variable\": \"SW_IN\", \"value\": 8.09000015258789, \"is_present\": true}, {\"time\": \"2000-01-01T16:00:00\", \"variable\": \"SW_IN\", \"value\": 6.369999885559082, \"is_present\": true}, {\"time\": \"2000-01-01T16:30:00\", \"variable\": \"SW_IN\", \"value\": 1.7200000286102295, \"is_present\": true}, {\"time\": \"2000-01-01T17:00:00\", \"variable\": \"SW_IN\", \"value\": 0.05999999865889549, \"is_present\": true}, {\"time\": \"2000-01-01T17:30:00\", \"variable\": \"SW_IN\", \"value\": 0.0, \"is_present\": true}, {\"time\": \"2000-01-01T18:00:00\", \"variable\": \"SW_IN\", \"value\": 0.0, \"is_present\": true}, {\"time\": \"2000-01-01T18:30:00\", \"variable\": \"SW_IN\", \"value\": 0.0, \"is_present\": true}, {\"time\": \"2000-01-01T19:00:00\", \"variable\": \"SW_IN\", \"value\": 0.0, \"is_present\": true}, {\"time\": \"2000-01-01T19:30:00\", \"variable\": \"SW_IN\", \"value\": 0.0, \"is_present\": true}, {\"time\": \"2000-01-01T20:00:00\", \"variable\": \"SW_IN\", \"value\": 0.0, \"is_present\": true}, {\"time\": \"2000-01-01T15:30:00\", \"variable\": \"VPD\", \"value\": 0.0, \"is_present\": false}, {\"time\": \"2000-01-01T16:00:00\", \"variable\": \"VPD\", \"value\": 0.0, \"is_present\": false}, {\"time\": \"2000-01-01T16:30:00\", \"variable\": \"VPD\", \"value\": 0.0, \"is_present\": false}, {\"time\": \"2000-01-01T17:00:00\", \"variable\": \"VPD\", \"value\": 0.0, \"is_present\": false}, {\"time\": \"2000-01-01T17:30:00\", \"variable\": \"VPD\", \"value\": 0.0, \"is_present\": false}, {\"time\": \"2000-01-01T18:00:00\", \"variable\": \"VPD\", \"value\": 0.0, \"is_present\": true}, {\"time\": \"2000-01-01T18:30:00\", \"variable\": \"VPD\", \"value\": 0.0, \"is_present\": true}, {\"time\": \"2000-01-01T19:00:00\", \"variable\": \"VPD\", \"value\": 0.0020000000949949026, \"is_present\": true}, {\"time\": \"2000-01-01T19:30:00\", \"variable\": \"VPD\", \"value\": 0.008999999612569809, \"is_present\": true}, {\"time\": \"2000-01-01T20:00:00\", \"variable\": \"VPD\", \"value\": 0.014000000432133675, \"is_present\": true}]}}, {\"mode\": \"vega-lite\"});\n",
       "</script>"
      ],
      "text/plain": [
       "alt.Chart(...)"
      ]
     },
     "execution_count": null,
     "metadata": {},
     "output_type": "execute_result"
    }
   ],
   "source": [
    "plot_rug(m_df.tidy())"
   ]
  },
  {
   "cell_type": "code",
   "execution_count": null,
   "id": "52f438da-c85f-40e7-bdac-c08bce559cc3",
   "metadata": {},
   "outputs": [],
   "source": [
    "def plot_points(df, y_label = \"\", sel = def_selection(), props = {}):\n",
    "    return alt.Chart(df).mark_point(\n",
    "            color='black',\n",
    "            strokeWidth = 1,\n",
    "            fillOpacity = 1\n",
    "        ).encode(\n",
    "            x = alt.X(\"time\", axis=alt.Axis(domain=False, labels = False, ticks=False, title=None)),\n",
    "            y = alt.Y(\"value\", title = y_label, scale=alt.Scale(zero=False)),\n",
    "            fill= alt.Fill(\"is_present\", scale = alt.Scale(range=[\"black\", \"#ffffff00\"]),\n",
    "                           legend = alt.Legend(title =[\"Observed data\"])),\n",
    "            shape = \"is_present\",\n",
    "        )"
   ]
  },
  {
   "cell_type": "code",
   "execution_count": null,
   "id": "530d054b-120d-4883-9692-ff2518adabbf",
   "metadata": {},
   "outputs": [
    {
     "name": "stderr",
     "output_type": "stream",
     "text": [
      "/home/simone/.local/lib/python3.10/site-packages/altair/utils/core.py:317: FutureWarning: iteritems is deprecated and will be removed in a future version. Use .items instead.\n",
      "  for col_name, dtype in df.dtypes.iteritems():\n"
     ]
    },
    {
     "data": {
      "text/html": [
       "\n",
       "<div id=\"altair-viz-223d3cf5ba8d48be9ab5a1520bbb5265\"></div>\n",
       "<script type=\"text/javascript\">\n",
       "  var VEGA_DEBUG = (typeof VEGA_DEBUG == \"undefined\") ? {} : VEGA_DEBUG;\n",
       "  (function(spec, embedOpt){\n",
       "    let outputDiv = document.currentScript.previousElementSibling;\n",
       "    if (outputDiv.id !== \"altair-viz-223d3cf5ba8d48be9ab5a1520bbb5265\") {\n",
       "      outputDiv = document.getElementById(\"altair-viz-223d3cf5ba8d48be9ab5a1520bbb5265\");\n",
       "    }\n",
       "    const paths = {\n",
       "      \"vega\": \"https://cdn.jsdelivr.net/npm//vega@5?noext\",\n",
       "      \"vega-lib\": \"https://cdn.jsdelivr.net/npm//vega-lib?noext\",\n",
       "      \"vega-lite\": \"https://cdn.jsdelivr.net/npm//vega-lite@4.17.0?noext\",\n",
       "      \"vega-embed\": \"https://cdn.jsdelivr.net/npm//vega-embed@6?noext\",\n",
       "    };\n",
       "\n",
       "    function maybeLoadScript(lib, version) {\n",
       "      var key = `${lib.replace(\"-\", \"\")}_version`;\n",
       "      return (VEGA_DEBUG[key] == version) ?\n",
       "        Promise.resolve(paths[lib]) :\n",
       "        new Promise(function(resolve, reject) {\n",
       "          var s = document.createElement('script');\n",
       "          document.getElementsByTagName(\"head\")[0].appendChild(s);\n",
       "          s.async = true;\n",
       "          s.onload = () => {\n",
       "            VEGA_DEBUG[key] = version;\n",
       "            return resolve(paths[lib]);\n",
       "          };\n",
       "          s.onerror = () => reject(`Error loading script: ${paths[lib]}`);\n",
       "          s.src = paths[lib];\n",
       "        });\n",
       "    }\n",
       "\n",
       "    function showError(err) {\n",
       "      outputDiv.innerHTML = `<div class=\"error\" style=\"color:red;\">${err}</div>`;\n",
       "      throw err;\n",
       "    }\n",
       "\n",
       "    function displayChart(vegaEmbed) {\n",
       "      vegaEmbed(outputDiv, spec, embedOpt)\n",
       "        .catch(err => showError(`Javascript Error: ${err.message}<br>This usually means there's a typo in your chart specification. See the javascript console for the full traceback.`));\n",
       "    }\n",
       "\n",
       "    if(typeof define === \"function\" && define.amd) {\n",
       "      requirejs.config({paths});\n",
       "      require([\"vega-embed\"], displayChart, err => showError(`Error loading script: ${err.message}`));\n",
       "    } else {\n",
       "      maybeLoadScript(\"vega\", \"5\")\n",
       "        .then(() => maybeLoadScript(\"vega-lite\", \"4.17.0\"))\n",
       "        .then(() => maybeLoadScript(\"vega-embed\", \"6\"))\n",
       "        .catch(showError)\n",
       "        .then(() => displayChart(vegaEmbed));\n",
       "    }\n",
       "  })({\"config\": {\"view\": {\"continuousWidth\": 400, \"continuousHeight\": 300}}, \"data\": {\"name\": \"data-8dbc285ff9e9a0880661cf5960fe4e06\"}, \"mark\": {\"type\": \"point\", \"color\": \"black\", \"fillOpacity\": 1, \"strokeWidth\": 1}, \"encoding\": {\"fill\": {\"field\": \"is_present\", \"legend\": {\"title\": [\"Observed data\"]}, \"scale\": {\"range\": [\"black\", \"#ffffff00\"]}, \"type\": \"nominal\"}, \"shape\": {\"field\": \"is_present\", \"type\": \"nominal\"}, \"x\": {\"axis\": {\"domain\": false, \"labels\": false, \"ticks\": false, \"title\": null}, \"field\": \"time\", \"type\": \"temporal\"}, \"y\": {\"field\": \"value\", \"scale\": {\"zero\": false}, \"title\": \"\", \"type\": \"quantitative\"}}, \"$schema\": \"https://vega.github.io/schema/vega-lite/v4.17.0.json\", \"datasets\": {\"data-8dbc285ff9e9a0880661cf5960fe4e06\": [{\"time\": \"2000-01-01T15:30:00\", \"variable\": \"TA\", \"value\": 0.5199999809265137, \"is_present\": false}, {\"time\": \"2000-01-01T16:00:00\", \"variable\": \"TA\", \"value\": 0.5699999928474426, \"is_present\": false}, {\"time\": \"2000-01-01T16:30:00\", \"variable\": \"TA\", \"value\": 0.7300000190734863, \"is_present\": false}, {\"time\": \"2000-01-01T17:00:00\", \"variable\": \"TA\", \"value\": 0.7699999809265137, \"is_present\": false}, {\"time\": \"2000-01-01T17:30:00\", \"variable\": \"TA\", \"value\": 0.8399999737739563, \"is_present\": false}, {\"time\": \"2000-01-01T18:00:00\", \"variable\": \"TA\", \"value\": 0.9900000095367432, \"is_present\": true}, {\"time\": \"2000-01-01T18:30:00\", \"variable\": \"TA\", \"value\": 1.350000023841858, \"is_present\": true}, {\"time\": \"2000-01-01T19:00:00\", \"variable\": \"TA\", \"value\": 1.8600000143051147, \"is_present\": true}, {\"time\": \"2000-01-01T19:30:00\", \"variable\": \"TA\", \"value\": 2.009999990463257, \"is_present\": true}, {\"time\": \"2000-01-01T20:00:00\", \"variable\": \"TA\", \"value\": 2.069999933242798, \"is_present\": true}, {\"time\": \"2000-01-01T15:30:00\", \"variable\": \"SW_IN\", \"value\": 8.09000015258789, \"is_present\": true}, {\"time\": \"2000-01-01T16:00:00\", \"variable\": \"SW_IN\", \"value\": 6.369999885559082, \"is_present\": true}, {\"time\": \"2000-01-01T16:30:00\", \"variable\": \"SW_IN\", \"value\": 1.7200000286102295, \"is_present\": true}, {\"time\": \"2000-01-01T17:00:00\", \"variable\": \"SW_IN\", \"value\": 0.05999999865889549, \"is_present\": true}, {\"time\": \"2000-01-01T17:30:00\", \"variable\": \"SW_IN\", \"value\": 0.0, \"is_present\": true}, {\"time\": \"2000-01-01T18:00:00\", \"variable\": \"SW_IN\", \"value\": 0.0, \"is_present\": true}, {\"time\": \"2000-01-01T18:30:00\", \"variable\": \"SW_IN\", \"value\": 0.0, \"is_present\": true}, {\"time\": \"2000-01-01T19:00:00\", \"variable\": \"SW_IN\", \"value\": 0.0, \"is_present\": true}, {\"time\": \"2000-01-01T19:30:00\", \"variable\": \"SW_IN\", \"value\": 0.0, \"is_present\": true}, {\"time\": \"2000-01-01T20:00:00\", \"variable\": \"SW_IN\", \"value\": 0.0, \"is_present\": true}, {\"time\": \"2000-01-01T15:30:00\", \"variable\": \"VPD\", \"value\": 0.0, \"is_present\": false}, {\"time\": \"2000-01-01T16:00:00\", \"variable\": \"VPD\", \"value\": 0.0, \"is_present\": false}, {\"time\": \"2000-01-01T16:30:00\", \"variable\": \"VPD\", \"value\": 0.0, \"is_present\": false}, {\"time\": \"2000-01-01T17:00:00\", \"variable\": \"VPD\", \"value\": 0.0, \"is_present\": false}, {\"time\": \"2000-01-01T17:30:00\", \"variable\": \"VPD\", \"value\": 0.0, \"is_present\": false}, {\"time\": \"2000-01-01T18:00:00\", \"variable\": \"VPD\", \"value\": 0.0, \"is_present\": true}, {\"time\": \"2000-01-01T18:30:00\", \"variable\": \"VPD\", \"value\": 0.0, \"is_present\": true}, {\"time\": \"2000-01-01T19:00:00\", \"variable\": \"VPD\", \"value\": 0.0020000000949949026, \"is_present\": true}, {\"time\": \"2000-01-01T19:30:00\", \"variable\": \"VPD\", \"value\": 0.008999999612569809, \"is_present\": true}, {\"time\": \"2000-01-01T20:00:00\", \"variable\": \"VPD\", \"value\": 0.014000000432133675, \"is_present\": true}]}}, {\"mode\": \"vega-lite\"});\n",
       "</script>"
      ],
      "text/plain": [
       "alt.Chart(...)"
      ]
     },
     "execution_count": null,
     "metadata": {},
     "output_type": "execute_result"
    }
   ],
   "source": [
    "plot_points(m_df.tidy())"
   ]
  },
  {
   "cell_type": "code",
   "execution_count": null,
   "id": "e7f9912e-eee1-40a6-9eb3-4b010a5278c5",
   "metadata": {},
   "outputs": [],
   "source": [
    "def plot_line(df, only_present=True, y_label = \"\", sel = def_selection(), props = {}):\n",
    "    # df = df[df.is_present] if only_present else df\n",
    "    # TODO remove onle_present\n",
    "    return alt.Chart(df).mark_line().encode(\n",
    "        x = \"time\",    \n",
    "        y = alt.Y(\"value\", title = y_label, scale=alt.Scale(zero=False)),\n",
    "        color='variable'\n",
    "    ).add_selection(\n",
    "        sel\n",
    "    ).properties(\n",
    "        **props\n",
    "    )#.transform_filter(\n",
    "    #     datum.is_present\n",
    "    # )\n",
    "\n",
    "    "
   ]
  },
  {
   "cell_type": "code",
   "execution_count": null,
   "id": "c4723d86-f673-4cfa-ae8a-58fcc542930a",
   "metadata": {},
   "outputs": [
    {
     "name": "stderr",
     "output_type": "stream",
     "text": [
      "/home/simone/.local/lib/python3.10/site-packages/altair/utils/core.py:317: FutureWarning: iteritems is deprecated and will be removed in a future version. Use .items instead.\n",
      "  for col_name, dtype in df.dtypes.iteritems():\n"
     ]
    },
    {
     "data": {
      "text/html": [
       "\n",
       "<div id=\"altair-viz-067f34fb150f4493a1357b28ab710bde\"></div>\n",
       "<script type=\"text/javascript\">\n",
       "  var VEGA_DEBUG = (typeof VEGA_DEBUG == \"undefined\") ? {} : VEGA_DEBUG;\n",
       "  (function(spec, embedOpt){\n",
       "    let outputDiv = document.currentScript.previousElementSibling;\n",
       "    if (outputDiv.id !== \"altair-viz-067f34fb150f4493a1357b28ab710bde\") {\n",
       "      outputDiv = document.getElementById(\"altair-viz-067f34fb150f4493a1357b28ab710bde\");\n",
       "    }\n",
       "    const paths = {\n",
       "      \"vega\": \"https://cdn.jsdelivr.net/npm//vega@5?noext\",\n",
       "      \"vega-lib\": \"https://cdn.jsdelivr.net/npm//vega-lib?noext\",\n",
       "      \"vega-lite\": \"https://cdn.jsdelivr.net/npm//vega-lite@4.17.0?noext\",\n",
       "      \"vega-embed\": \"https://cdn.jsdelivr.net/npm//vega-embed@6?noext\",\n",
       "    };\n",
       "\n",
       "    function maybeLoadScript(lib, version) {\n",
       "      var key = `${lib.replace(\"-\", \"\")}_version`;\n",
       "      return (VEGA_DEBUG[key] == version) ?\n",
       "        Promise.resolve(paths[lib]) :\n",
       "        new Promise(function(resolve, reject) {\n",
       "          var s = document.createElement('script');\n",
       "          document.getElementsByTagName(\"head\")[0].appendChild(s);\n",
       "          s.async = true;\n",
       "          s.onload = () => {\n",
       "            VEGA_DEBUG[key] = version;\n",
       "            return resolve(paths[lib]);\n",
       "          };\n",
       "          s.onerror = () => reject(`Error loading script: ${paths[lib]}`);\n",
       "          s.src = paths[lib];\n",
       "        });\n",
       "    }\n",
       "\n",
       "    function showError(err) {\n",
       "      outputDiv.innerHTML = `<div class=\"error\" style=\"color:red;\">${err}</div>`;\n",
       "      throw err;\n",
       "    }\n",
       "\n",
       "    function displayChart(vegaEmbed) {\n",
       "      vegaEmbed(outputDiv, spec, embedOpt)\n",
       "        .catch(err => showError(`Javascript Error: ${err.message}<br>This usually means there's a typo in your chart specification. See the javascript console for the full traceback.`));\n",
       "    }\n",
       "\n",
       "    if(typeof define === \"function\" && define.amd) {\n",
       "      requirejs.config({paths});\n",
       "      require([\"vega-embed\"], displayChart, err => showError(`Error loading script: ${err.message}`));\n",
       "    } else {\n",
       "      maybeLoadScript(\"vega\", \"5\")\n",
       "        .then(() => maybeLoadScript(\"vega-lite\", \"4.17.0\"))\n",
       "        .then(() => maybeLoadScript(\"vega-embed\", \"6\"))\n",
       "        .catch(showError)\n",
       "        .then(() => displayChart(vegaEmbed));\n",
       "    }\n",
       "  })({\"config\": {\"view\": {\"continuousWidth\": 400, \"continuousHeight\": 300}}, \"data\": {\"name\": \"data-8dbc285ff9e9a0880661cf5960fe4e06\"}, \"mark\": \"line\", \"encoding\": {\"color\": {\"field\": \"variable\", \"type\": \"nominal\"}, \"x\": {\"field\": \"time\", \"type\": \"temporal\"}, \"y\": {\"field\": \"value\", \"scale\": {\"zero\": false}, \"title\": \"\", \"type\": \"quantitative\"}}, \"selection\": {\"selector003\": {\"type\": \"interval\", \"bind\": \"scales\"}}, \"$schema\": \"https://vega.github.io/schema/vega-lite/v4.17.0.json\", \"datasets\": {\"data-8dbc285ff9e9a0880661cf5960fe4e06\": [{\"time\": \"2000-01-01T15:30:00\", \"variable\": \"TA\", \"value\": 0.5199999809265137, \"is_present\": false}, {\"time\": \"2000-01-01T16:00:00\", \"variable\": \"TA\", \"value\": 0.5699999928474426, \"is_present\": false}, {\"time\": \"2000-01-01T16:30:00\", \"variable\": \"TA\", \"value\": 0.7300000190734863, \"is_present\": false}, {\"time\": \"2000-01-01T17:00:00\", \"variable\": \"TA\", \"value\": 0.7699999809265137, \"is_present\": false}, {\"time\": \"2000-01-01T17:30:00\", \"variable\": \"TA\", \"value\": 0.8399999737739563, \"is_present\": false}, {\"time\": \"2000-01-01T18:00:00\", \"variable\": \"TA\", \"value\": 0.9900000095367432, \"is_present\": true}, {\"time\": \"2000-01-01T18:30:00\", \"variable\": \"TA\", \"value\": 1.350000023841858, \"is_present\": true}, {\"time\": \"2000-01-01T19:00:00\", \"variable\": \"TA\", \"value\": 1.8600000143051147, \"is_present\": true}, {\"time\": \"2000-01-01T19:30:00\", \"variable\": \"TA\", \"value\": 2.009999990463257, \"is_present\": true}, {\"time\": \"2000-01-01T20:00:00\", \"variable\": \"TA\", \"value\": 2.069999933242798, \"is_present\": true}, {\"time\": \"2000-01-01T15:30:00\", \"variable\": \"SW_IN\", \"value\": 8.09000015258789, \"is_present\": true}, {\"time\": \"2000-01-01T16:00:00\", \"variable\": \"SW_IN\", \"value\": 6.369999885559082, \"is_present\": true}, {\"time\": \"2000-01-01T16:30:00\", \"variable\": \"SW_IN\", \"value\": 1.7200000286102295, \"is_present\": true}, {\"time\": \"2000-01-01T17:00:00\", \"variable\": \"SW_IN\", \"value\": 0.05999999865889549, \"is_present\": true}, {\"time\": \"2000-01-01T17:30:00\", \"variable\": \"SW_IN\", \"value\": 0.0, \"is_present\": true}, {\"time\": \"2000-01-01T18:00:00\", \"variable\": \"SW_IN\", \"value\": 0.0, \"is_present\": true}, {\"time\": \"2000-01-01T18:30:00\", \"variable\": \"SW_IN\", \"value\": 0.0, \"is_present\": true}, {\"time\": \"2000-01-01T19:00:00\", \"variable\": \"SW_IN\", \"value\": 0.0, \"is_present\": true}, {\"time\": \"2000-01-01T19:30:00\", \"variable\": \"SW_IN\", \"value\": 0.0, \"is_present\": true}, {\"time\": \"2000-01-01T20:00:00\", \"variable\": \"SW_IN\", \"value\": 0.0, \"is_present\": true}, {\"time\": \"2000-01-01T15:30:00\", \"variable\": \"VPD\", \"value\": 0.0, \"is_present\": false}, {\"time\": \"2000-01-01T16:00:00\", \"variable\": \"VPD\", \"value\": 0.0, \"is_present\": false}, {\"time\": \"2000-01-01T16:30:00\", \"variable\": \"VPD\", \"value\": 0.0, \"is_present\": false}, {\"time\": \"2000-01-01T17:00:00\", \"variable\": \"VPD\", \"value\": 0.0, \"is_present\": false}, {\"time\": \"2000-01-01T17:30:00\", \"variable\": \"VPD\", \"value\": 0.0, \"is_present\": false}, {\"time\": \"2000-01-01T18:00:00\", \"variable\": \"VPD\", \"value\": 0.0, \"is_present\": true}, {\"time\": \"2000-01-01T18:30:00\", \"variable\": \"VPD\", \"value\": 0.0, \"is_present\": true}, {\"time\": \"2000-01-01T19:00:00\", \"variable\": \"VPD\", \"value\": 0.0020000000949949026, \"is_present\": true}, {\"time\": \"2000-01-01T19:30:00\", \"variable\": \"VPD\", \"value\": 0.008999999612569809, \"is_present\": true}, {\"time\": \"2000-01-01T20:00:00\", \"variable\": \"VPD\", \"value\": 0.014000000432133675, \"is_present\": true}]}}, {\"mode\": \"vega-lite\"});\n",
       "</script>"
      ],
      "text/plain": [
       "alt.Chart(...)"
      ]
     },
     "execution_count": null,
     "metadata": {},
     "output_type": "execute_result"
    }
   ],
   "source": [
    "plot_line(m_df.tidy())"
   ]
  },
  {
   "cell_type": "code",
   "execution_count": null,
   "id": "a26f136e-c919-4083-bad9-e40f2b4996bd",
   "metadata": {},
   "outputs": [],
   "source": [
    "def plot_variable(df, variable, title=\"\", y_label=\"\", sel = None, props = {}):\n",
    "    df = df[df.variable == variable]\n",
    "    sel = ifnone(sel, def_selection())\n",
    "    # rug = plot_rug(df, sel, props)\n",
    "    points = plot_points(df, y_label, sel, props)\n",
    "    line = plot_line(df, True, y_label, sel, props)\n",
    "    \n",
    "    return (points + line).properties(title=title)\n",
    "    \n",
    "    # return alt.VConcatChart(vconcat=[(points + line), rug], spacing=-10).properties(title=title)"
   ]
  },
  {
   "cell_type": "code",
   "execution_count": null,
   "id": "fa1c1f39-0db0-4842-bada-da41eacd9ac6",
   "metadata": {},
   "outputs": [
    {
     "name": "stderr",
     "output_type": "stream",
     "text": [
      "/home/simone/.local/lib/python3.10/site-packages/altair/utils/core.py:317: FutureWarning: iteritems is deprecated and will be removed in a future version. Use .items instead.\n",
      "  for col_name, dtype in df.dtypes.iteritems():\n"
     ]
    },
    {
     "data": {
      "text/html": [
       "\n",
       "<div id=\"altair-viz-10edc17371c7479f8e5a276c0b9f3506\"></div>\n",
       "<script type=\"text/javascript\">\n",
       "  var VEGA_DEBUG = (typeof VEGA_DEBUG == \"undefined\") ? {} : VEGA_DEBUG;\n",
       "  (function(spec, embedOpt){\n",
       "    let outputDiv = document.currentScript.previousElementSibling;\n",
       "    if (outputDiv.id !== \"altair-viz-10edc17371c7479f8e5a276c0b9f3506\") {\n",
       "      outputDiv = document.getElementById(\"altair-viz-10edc17371c7479f8e5a276c0b9f3506\");\n",
       "    }\n",
       "    const paths = {\n",
       "      \"vega\": \"https://cdn.jsdelivr.net/npm//vega@5?noext\",\n",
       "      \"vega-lib\": \"https://cdn.jsdelivr.net/npm//vega-lib?noext\",\n",
       "      \"vega-lite\": \"https://cdn.jsdelivr.net/npm//vega-lite@4.17.0?noext\",\n",
       "      \"vega-embed\": \"https://cdn.jsdelivr.net/npm//vega-embed@6?noext\",\n",
       "    };\n",
       "\n",
       "    function maybeLoadScript(lib, version) {\n",
       "      var key = `${lib.replace(\"-\", \"\")}_version`;\n",
       "      return (VEGA_DEBUG[key] == version) ?\n",
       "        Promise.resolve(paths[lib]) :\n",
       "        new Promise(function(resolve, reject) {\n",
       "          var s = document.createElement('script');\n",
       "          document.getElementsByTagName(\"head\")[0].appendChild(s);\n",
       "          s.async = true;\n",
       "          s.onload = () => {\n",
       "            VEGA_DEBUG[key] = version;\n",
       "            return resolve(paths[lib]);\n",
       "          };\n",
       "          s.onerror = () => reject(`Error loading script: ${paths[lib]}`);\n",
       "          s.src = paths[lib];\n",
       "        });\n",
       "    }\n",
       "\n",
       "    function showError(err) {\n",
       "      outputDiv.innerHTML = `<div class=\"error\" style=\"color:red;\">${err}</div>`;\n",
       "      throw err;\n",
       "    }\n",
       "\n",
       "    function displayChart(vegaEmbed) {\n",
       "      vegaEmbed(outputDiv, spec, embedOpt)\n",
       "        .catch(err => showError(`Javascript Error: ${err.message}<br>This usually means there's a typo in your chart specification. See the javascript console for the full traceback.`));\n",
       "    }\n",
       "\n",
       "    if(typeof define === \"function\" && define.amd) {\n",
       "      requirejs.config({paths});\n",
       "      require([\"vega-embed\"], displayChart, err => showError(`Error loading script: ${err.message}`));\n",
       "    } else {\n",
       "      maybeLoadScript(\"vega\", \"5\")\n",
       "        .then(() => maybeLoadScript(\"vega-lite\", \"4.17.0\"))\n",
       "        .then(() => maybeLoadScript(\"vega-embed\", \"6\"))\n",
       "        .catch(showError)\n",
       "        .then(() => displayChart(vegaEmbed));\n",
       "    }\n",
       "  })({\"config\": {\"view\": {\"continuousWidth\": 400, \"continuousHeight\": 300}}, \"layer\": [{\"mark\": {\"type\": \"point\", \"color\": \"black\", \"fillOpacity\": 1, \"strokeWidth\": 1}, \"encoding\": {\"fill\": {\"field\": \"is_present\", \"legend\": {\"title\": [\"Observed data\"]}, \"scale\": {\"range\": [\"black\", \"#ffffff00\"]}, \"type\": \"nominal\"}, \"shape\": {\"field\": \"is_present\", \"type\": \"nominal\"}, \"x\": {\"axis\": {\"domain\": false, \"labels\": false, \"ticks\": false, \"title\": null}, \"field\": \"time\", \"type\": \"temporal\"}, \"y\": {\"field\": \"value\", \"scale\": {\"zero\": false}, \"title\": \"\", \"type\": \"quantitative\"}}}, {\"mark\": \"line\", \"encoding\": {\"color\": {\"field\": \"variable\", \"type\": \"nominal\"}, \"x\": {\"field\": \"time\", \"type\": \"temporal\"}, \"y\": {\"field\": \"value\", \"scale\": {\"zero\": false}, \"title\": \"\", \"type\": \"quantitative\"}}, \"selection\": {\"selector004\": {\"type\": \"interval\", \"bind\": \"scales\"}}}], \"data\": {\"name\": \"data-c216e5a4167f549263b7fefd6be27b9a\"}, \"title\": \"title TA\", \"$schema\": \"https://vega.github.io/schema/vega-lite/v4.17.0.json\", \"datasets\": {\"data-c216e5a4167f549263b7fefd6be27b9a\": [{\"time\": \"2000-01-01T15:30:00\", \"variable\": \"TA\", \"value\": 0.5199999809265137, \"is_present\": false}, {\"time\": \"2000-01-01T16:00:00\", \"variable\": \"TA\", \"value\": 0.5699999928474426, \"is_present\": false}, {\"time\": \"2000-01-01T16:30:00\", \"variable\": \"TA\", \"value\": 0.7300000190734863, \"is_present\": false}, {\"time\": \"2000-01-01T17:00:00\", \"variable\": \"TA\", \"value\": 0.7699999809265137, \"is_present\": false}, {\"time\": \"2000-01-01T17:30:00\", \"variable\": \"TA\", \"value\": 0.8399999737739563, \"is_present\": false}, {\"time\": \"2000-01-01T18:00:00\", \"variable\": \"TA\", \"value\": 0.9900000095367432, \"is_present\": true}, {\"time\": \"2000-01-01T18:30:00\", \"variable\": \"TA\", \"value\": 1.350000023841858, \"is_present\": true}, {\"time\": \"2000-01-01T19:00:00\", \"variable\": \"TA\", \"value\": 1.8600000143051147, \"is_present\": true}, {\"time\": \"2000-01-01T19:30:00\", \"variable\": \"TA\", \"value\": 2.009999990463257, \"is_present\": true}, {\"time\": \"2000-01-01T20:00:00\", \"variable\": \"TA\", \"value\": 2.069999933242798, \"is_present\": true}]}}, {\"mode\": \"vega-lite\"});\n",
       "</script>"
      ],
      "text/plain": [
       "alt.LayerChart(...)"
      ]
     },
     "execution_count": null,
     "metadata": {},
     "output_type": "execute_result"
    }
   ],
   "source": [
    "plot_variable(m_df.tidy(), \"TA\", title=\"title TA\")"
   ]
  },
  {
   "cell_type": "code",
   "execution_count": null,
   "id": "1787dc1e-cf5f-479b-9173-eaaf2643fd77",
   "metadata": {},
   "outputs": [],
   "source": [
    "@patch\n",
    "def show(self: MaskedDf, ax=None, ctx=None, \n",
    "        n_cols: int = 3,\n",
    "        bind_interaction: bool =True, # Whether the sub-plots for each variable should be connected for zooming/panning\n",
    "        props:dict = None # additional properties (eg. size) for altair plot\n",
    "       ) -> alt.Chart:\n",
    "    \n",
    "    df = self.tidy()\n",
    "    \n",
    "    props = ifnone(props, {'width': 180, 'height': 100})\n",
    "   \n",
    "    plot_list = [alt.hconcat() for _ in range(0, self.data.shape[0], n_cols)]\n",
    "    selection_scale = alt.selection_interval(bind=\"scales\", encodings=['x']) if bind_interaction else None\n",
    "    for idx, variable in enumerate(self.data.columns):\n",
    "        plot = plot_variable(df,\n",
    "                            variable,\n",
    "                            title = variable,\n",
    "                            y_label = variable,\n",
    "                            sel = selection_scale,\n",
    "                            props=props)\n",
    "        \n",
    "        plot_list[idx // n_cols] |= plot\n",
    "    \n",
    "    plot = alt.vconcat(*plot_list)\n",
    "    \n",
    "    return plot"
   ]
  },
  {
   "cell_type": "code",
   "execution_count": null,
   "id": "4b3200e8-9bdb-4882-a2c7-a241ef1c57c1",
   "metadata": {},
   "outputs": [
    {
     "name": "stderr",
     "output_type": "stream",
     "text": [
      "/home/simone/.local/lib/python3.10/site-packages/altair/utils/core.py:317: FutureWarning: iteritems is deprecated and will be removed in a future version. Use .items instead.\n",
      "  for col_name, dtype in df.dtypes.iteritems():\n"
     ]
    },
    {
     "data": {
      "text/html": [
       "\n",
       "<div id=\"altair-viz-2c287927b92d416eaafc4da4bec7c956\"></div>\n",
       "<script type=\"text/javascript\">\n",
       "  var VEGA_DEBUG = (typeof VEGA_DEBUG == \"undefined\") ? {} : VEGA_DEBUG;\n",
       "  (function(spec, embedOpt){\n",
       "    let outputDiv = document.currentScript.previousElementSibling;\n",
       "    if (outputDiv.id !== \"altair-viz-2c287927b92d416eaafc4da4bec7c956\") {\n",
       "      outputDiv = document.getElementById(\"altair-viz-2c287927b92d416eaafc4da4bec7c956\");\n",
       "    }\n",
       "    const paths = {\n",
       "      \"vega\": \"https://cdn.jsdelivr.net/npm//vega@5?noext\",\n",
       "      \"vega-lib\": \"https://cdn.jsdelivr.net/npm//vega-lib?noext\",\n",
       "      \"vega-lite\": \"https://cdn.jsdelivr.net/npm//vega-lite@4.17.0?noext\",\n",
       "      \"vega-embed\": \"https://cdn.jsdelivr.net/npm//vega-embed@6?noext\",\n",
       "    };\n",
       "\n",
       "    function maybeLoadScript(lib, version) {\n",
       "      var key = `${lib.replace(\"-\", \"\")}_version`;\n",
       "      return (VEGA_DEBUG[key] == version) ?\n",
       "        Promise.resolve(paths[lib]) :\n",
       "        new Promise(function(resolve, reject) {\n",
       "          var s = document.createElement('script');\n",
       "          document.getElementsByTagName(\"head\")[0].appendChild(s);\n",
       "          s.async = true;\n",
       "          s.onload = () => {\n",
       "            VEGA_DEBUG[key] = version;\n",
       "            return resolve(paths[lib]);\n",
       "          };\n",
       "          s.onerror = () => reject(`Error loading script: ${paths[lib]}`);\n",
       "          s.src = paths[lib];\n",
       "        });\n",
       "    }\n",
       "\n",
       "    function showError(err) {\n",
       "      outputDiv.innerHTML = `<div class=\"error\" style=\"color:red;\">${err}</div>`;\n",
       "      throw err;\n",
       "    }\n",
       "\n",
       "    function displayChart(vegaEmbed) {\n",
       "      vegaEmbed(outputDiv, spec, embedOpt)\n",
       "        .catch(err => showError(`Javascript Error: ${err.message}<br>This usually means there's a typo in your chart specification. See the javascript console for the full traceback.`));\n",
       "    }\n",
       "\n",
       "    if(typeof define === \"function\" && define.amd) {\n",
       "      requirejs.config({paths});\n",
       "      require([\"vega-embed\"], displayChart, err => showError(`Error loading script: ${err.message}`));\n",
       "    } else {\n",
       "      maybeLoadScript(\"vega\", \"5\")\n",
       "        .then(() => maybeLoadScript(\"vega-lite\", \"4.17.0\"))\n",
       "        .then(() => maybeLoadScript(\"vega-embed\", \"6\"))\n",
       "        .catch(showError)\n",
       "        .then(() => displayChart(vegaEmbed));\n",
       "    }\n",
       "  })({\"config\": {\"view\": {\"continuousWidth\": 400, \"continuousHeight\": 300}}, \"vconcat\": [{\"hconcat\": [{\"layer\": [{\"mark\": {\"type\": \"point\", \"color\": \"black\", \"fillOpacity\": 1, \"strokeWidth\": 1}, \"encoding\": {\"fill\": {\"field\": \"is_present\", \"legend\": {\"title\": [\"Observed data\"]}, \"scale\": {\"range\": [\"black\", \"#ffffff00\"]}, \"type\": \"nominal\"}, \"shape\": {\"field\": \"is_present\", \"type\": \"nominal\"}, \"x\": {\"axis\": {\"domain\": false, \"labels\": false, \"ticks\": false, \"title\": null}, \"field\": \"time\", \"type\": \"temporal\"}, \"y\": {\"field\": \"value\", \"scale\": {\"zero\": false}, \"title\": \"TA\", \"type\": \"quantitative\"}}}, {\"mark\": \"line\", \"encoding\": {\"color\": {\"field\": \"variable\", \"type\": \"nominal\"}, \"x\": {\"field\": \"time\", \"type\": \"temporal\"}, \"y\": {\"field\": \"value\", \"scale\": {\"zero\": false}, \"title\": \"TA\", \"type\": \"quantitative\"}}, \"height\": 100, \"selection\": {\"selector005\": {\"type\": \"interval\", \"bind\": \"scales\", \"encodings\": [\"x\"]}}, \"width\": 180}], \"title\": \"TA\"}, {\"layer\": [{\"mark\": {\"type\": \"point\", \"color\": \"black\", \"fillOpacity\": 1, \"strokeWidth\": 1}, \"encoding\": {\"fill\": {\"field\": \"is_present\", \"legend\": {\"title\": [\"Observed data\"]}, \"scale\": {\"range\": [\"black\", \"#ffffff00\"]}, \"type\": \"nominal\"}, \"shape\": {\"field\": \"is_present\", \"type\": \"nominal\"}, \"x\": {\"axis\": {\"domain\": false, \"labels\": false, \"ticks\": false, \"title\": null}, \"field\": \"time\", \"type\": \"temporal\"}, \"y\": {\"field\": \"value\", \"scale\": {\"zero\": false}, \"title\": \"SW_IN\", \"type\": \"quantitative\"}}}, {\"mark\": \"line\", \"encoding\": {\"color\": {\"field\": \"variable\", \"type\": \"nominal\"}, \"x\": {\"field\": \"time\", \"type\": \"temporal\"}, \"y\": {\"field\": \"value\", \"scale\": {\"zero\": false}, \"title\": \"SW_IN\", \"type\": \"quantitative\"}}, \"height\": 100, \"selection\": {\"selector005\": {\"type\": \"interval\", \"bind\": \"scales\", \"encodings\": [\"x\"]}}, \"width\": 180}], \"data\": {\"name\": \"data-c3a60f1c986b6caa7e65dff6e5822e40\"}, \"title\": \"SW_IN\"}, {\"layer\": [{\"mark\": {\"type\": \"point\", \"color\": \"black\", \"fillOpacity\": 1, \"strokeWidth\": 1}, \"encoding\": {\"fill\": {\"field\": \"is_present\", \"legend\": {\"title\": [\"Observed data\"]}, \"scale\": {\"range\": [\"black\", \"#ffffff00\"]}, \"type\": \"nominal\"}, \"shape\": {\"field\": \"is_present\", \"type\": \"nominal\"}, \"x\": {\"axis\": {\"domain\": false, \"labels\": false, \"ticks\": false, \"title\": null}, \"field\": \"time\", \"type\": \"temporal\"}, \"y\": {\"field\": \"value\", \"scale\": {\"zero\": false}, \"title\": \"VPD\", \"type\": \"quantitative\"}}}, {\"mark\": \"line\", \"encoding\": {\"color\": {\"field\": \"variable\", \"type\": \"nominal\"}, \"x\": {\"field\": \"time\", \"type\": \"temporal\"}, \"y\": {\"field\": \"value\", \"scale\": {\"zero\": false}, \"title\": \"VPD\", \"type\": \"quantitative\"}}, \"height\": 100, \"selection\": {\"selector005\": {\"type\": \"interval\", \"bind\": \"scales\", \"encodings\": [\"x\"]}}, \"width\": 180}], \"data\": {\"name\": \"data-b515775ddfb81c914376c617816a3fce\"}, \"title\": \"VPD\"}], \"data\": {\"name\": \"data-c216e5a4167f549263b7fefd6be27b9a\"}}, {\"hconcat\": []}, {\"hconcat\": []}, {\"hconcat\": []}], \"$schema\": \"https://vega.github.io/schema/vega-lite/v4.17.0.json\", \"datasets\": {\"data-c216e5a4167f549263b7fefd6be27b9a\": [{\"time\": \"2000-01-01T15:30:00\", \"variable\": \"TA\", \"value\": 0.5199999809265137, \"is_present\": false}, {\"time\": \"2000-01-01T16:00:00\", \"variable\": \"TA\", \"value\": 0.5699999928474426, \"is_present\": false}, {\"time\": \"2000-01-01T16:30:00\", \"variable\": \"TA\", \"value\": 0.7300000190734863, \"is_present\": false}, {\"time\": \"2000-01-01T17:00:00\", \"variable\": \"TA\", \"value\": 0.7699999809265137, \"is_present\": false}, {\"time\": \"2000-01-01T17:30:00\", \"variable\": \"TA\", \"value\": 0.8399999737739563, \"is_present\": false}, {\"time\": \"2000-01-01T18:00:00\", \"variable\": \"TA\", \"value\": 0.9900000095367432, \"is_present\": true}, {\"time\": \"2000-01-01T18:30:00\", \"variable\": \"TA\", \"value\": 1.350000023841858, \"is_present\": true}, {\"time\": \"2000-01-01T19:00:00\", \"variable\": \"TA\", \"value\": 1.8600000143051147, \"is_present\": true}, {\"time\": \"2000-01-01T19:30:00\", \"variable\": \"TA\", \"value\": 2.009999990463257, \"is_present\": true}, {\"time\": \"2000-01-01T20:00:00\", \"variable\": \"TA\", \"value\": 2.069999933242798, \"is_present\": true}], \"data-c3a60f1c986b6caa7e65dff6e5822e40\": [{\"time\": \"2000-01-01T15:30:00\", \"variable\": \"SW_IN\", \"value\": 8.09000015258789, \"is_present\": true}, {\"time\": \"2000-01-01T16:00:00\", \"variable\": \"SW_IN\", \"value\": 6.369999885559082, \"is_present\": true}, {\"time\": \"2000-01-01T16:30:00\", \"variable\": \"SW_IN\", \"value\": 1.7200000286102295, \"is_present\": true}, {\"time\": \"2000-01-01T17:00:00\", \"variable\": \"SW_IN\", \"value\": 0.05999999865889549, \"is_present\": true}, {\"time\": \"2000-01-01T17:30:00\", \"variable\": \"SW_IN\", \"value\": 0.0, \"is_present\": true}, {\"time\": \"2000-01-01T18:00:00\", \"variable\": \"SW_IN\", \"value\": 0.0, \"is_present\": true}, {\"time\": \"2000-01-01T18:30:00\", \"variable\": \"SW_IN\", \"value\": 0.0, \"is_present\": true}, {\"time\": \"2000-01-01T19:00:00\", \"variable\": \"SW_IN\", \"value\": 0.0, \"is_present\": true}, {\"time\": \"2000-01-01T19:30:00\", \"variable\": \"SW_IN\", \"value\": 0.0, \"is_present\": true}, {\"time\": \"2000-01-01T20:00:00\", \"variable\": \"SW_IN\", \"value\": 0.0, \"is_present\": true}], \"data-b515775ddfb81c914376c617816a3fce\": [{\"time\": \"2000-01-01T15:30:00\", \"variable\": \"VPD\", \"value\": 0.0, \"is_present\": false}, {\"time\": \"2000-01-01T16:00:00\", \"variable\": \"VPD\", \"value\": 0.0, \"is_present\": false}, {\"time\": \"2000-01-01T16:30:00\", \"variable\": \"VPD\", \"value\": 0.0, \"is_present\": false}, {\"time\": \"2000-01-01T17:00:00\", \"variable\": \"VPD\", \"value\": 0.0, \"is_present\": false}, {\"time\": \"2000-01-01T17:30:00\", \"variable\": \"VPD\", \"value\": 0.0, \"is_present\": false}, {\"time\": \"2000-01-01T18:00:00\", \"variable\": \"VPD\", \"value\": 0.0, \"is_present\": true}, {\"time\": \"2000-01-01T18:30:00\", \"variable\": \"VPD\", \"value\": 0.0, \"is_present\": true}, {\"time\": \"2000-01-01T19:00:00\", \"variable\": \"VPD\", \"value\": 0.0020000000949949026, \"is_present\": true}, {\"time\": \"2000-01-01T19:30:00\", \"variable\": \"VPD\", \"value\": 0.008999999612569809, \"is_present\": true}, {\"time\": \"2000-01-01T20:00:00\", \"variable\": \"VPD\", \"value\": 0.014000000432133675, \"is_present\": true}]}}, {\"mode\": \"vega-lite\"});\n",
       "</script>"
      ],
      "text/plain": [
       "alt.VConcatChart(...)"
      ]
     },
     "execution_count": null,
     "metadata": {},
     "output_type": "execute_result"
    }
   ],
   "source": [
    "m_df.show()"
   ]
  },
  {
   "cell_type": "code",
   "execution_count": null,
   "id": "c9284e47-6433-405f-8b0d-a2cd6595bf94",
   "metadata": {},
   "outputs": [
    {
     "name": "stderr",
     "output_type": "stream",
     "text": [
      "/home/simone/.local/lib/python3.10/site-packages/altair/utils/core.py:317: FutureWarning: iteritems is deprecated and will be removed in a future version. Use .items instead.\n",
      "  for col_name, dtype in df.dtypes.iteritems():\n"
     ]
    },
    {
     "data": {
      "text/html": [
       "\n",
       "<div id=\"altair-viz-b0a2fcf1d7424a2cb3b55a3cb3735612\"></div>\n",
       "<script type=\"text/javascript\">\n",
       "  var VEGA_DEBUG = (typeof VEGA_DEBUG == \"undefined\") ? {} : VEGA_DEBUG;\n",
       "  (function(spec, embedOpt){\n",
       "    let outputDiv = document.currentScript.previousElementSibling;\n",
       "    if (outputDiv.id !== \"altair-viz-b0a2fcf1d7424a2cb3b55a3cb3735612\") {\n",
       "      outputDiv = document.getElementById(\"altair-viz-b0a2fcf1d7424a2cb3b55a3cb3735612\");\n",
       "    }\n",
       "    const paths = {\n",
       "      \"vega\": \"https://cdn.jsdelivr.net/npm//vega@5?noext\",\n",
       "      \"vega-lib\": \"https://cdn.jsdelivr.net/npm//vega-lib?noext\",\n",
       "      \"vega-lite\": \"https://cdn.jsdelivr.net/npm//vega-lite@4.17.0?noext\",\n",
       "      \"vega-embed\": \"https://cdn.jsdelivr.net/npm//vega-embed@6?noext\",\n",
       "    };\n",
       "\n",
       "    function maybeLoadScript(lib, version) {\n",
       "      var key = `${lib.replace(\"-\", \"\")}_version`;\n",
       "      return (VEGA_DEBUG[key] == version) ?\n",
       "        Promise.resolve(paths[lib]) :\n",
       "        new Promise(function(resolve, reject) {\n",
       "          var s = document.createElement('script');\n",
       "          document.getElementsByTagName(\"head\")[0].appendChild(s);\n",
       "          s.async = true;\n",
       "          s.onload = () => {\n",
       "            VEGA_DEBUG[key] = version;\n",
       "            return resolve(paths[lib]);\n",
       "          };\n",
       "          s.onerror = () => reject(`Error loading script: ${paths[lib]}`);\n",
       "          s.src = paths[lib];\n",
       "        });\n",
       "    }\n",
       "\n",
       "    function showError(err) {\n",
       "      outputDiv.innerHTML = `<div class=\"error\" style=\"color:red;\">${err}</div>`;\n",
       "      throw err;\n",
       "    }\n",
       "\n",
       "    function displayChart(vegaEmbed) {\n",
       "      vegaEmbed(outputDiv, spec, embedOpt)\n",
       "        .catch(err => showError(`Javascript Error: ${err.message}<br>This usually means there's a typo in your chart specification. See the javascript console for the full traceback.`));\n",
       "    }\n",
       "\n",
       "    if(typeof define === \"function\" && define.amd) {\n",
       "      requirejs.config({paths});\n",
       "      require([\"vega-embed\"], displayChart, err => showError(`Error loading script: ${err.message}`));\n",
       "    } else {\n",
       "      maybeLoadScript(\"vega\", \"5\")\n",
       "        .then(() => maybeLoadScript(\"vega-lite\", \"4.17.0\"))\n",
       "        .then(() => maybeLoadScript(\"vega-embed\", \"6\"))\n",
       "        .catch(showError)\n",
       "        .then(() => displayChart(vegaEmbed));\n",
       "    }\n",
       "  })({\"config\": {\"view\": {\"continuousWidth\": 400, \"continuousHeight\": 300}}, \"vconcat\": [{\"hconcat\": [{\"layer\": [{\"mark\": {\"type\": \"point\", \"color\": \"black\", \"fillOpacity\": 1, \"strokeWidth\": 1}, \"encoding\": {\"fill\": {\"field\": \"is_present\", \"legend\": {\"title\": [\"Observed data\"]}, \"scale\": {\"range\": [\"black\", \"#ffffff00\"]}, \"type\": \"nominal\"}, \"shape\": {\"field\": \"is_present\", \"type\": \"nominal\"}, \"x\": {\"axis\": {\"domain\": false, \"labels\": false, \"ticks\": false, \"title\": null}, \"field\": \"time\", \"type\": \"temporal\"}, \"y\": {\"field\": \"value\", \"scale\": {\"zero\": false}, \"title\": \"TA\", \"type\": \"quantitative\"}}}, {\"mark\": \"line\", \"encoding\": {\"color\": {\"field\": \"variable\", \"type\": \"nominal\"}, \"x\": {\"field\": \"time\", \"type\": \"temporal\"}, \"y\": {\"field\": \"value\", \"scale\": {\"zero\": false}, \"title\": \"TA\", \"type\": \"quantitative\"}}, \"height\": 100, \"selection\": {\"selector009\": {\"type\": \"interval\", \"bind\": \"scales\", \"encodings\": [\"x\"]}}, \"width\": 180}], \"title\": \"TA\"}, {\"layer\": [{\"mark\": {\"type\": \"point\", \"color\": \"black\", \"fillOpacity\": 1, \"strokeWidth\": 1}, \"encoding\": {\"fill\": {\"field\": \"is_present\", \"legend\": {\"title\": [\"Observed data\"]}, \"scale\": {\"range\": [\"black\", \"#ffffff00\"]}, \"type\": \"nominal\"}, \"shape\": {\"field\": \"is_present\", \"type\": \"nominal\"}, \"x\": {\"axis\": {\"domain\": false, \"labels\": false, \"ticks\": false, \"title\": null}, \"field\": \"time\", \"type\": \"temporal\"}, \"y\": {\"field\": \"value\", \"scale\": {\"zero\": false}, \"title\": \"SW_IN\", \"type\": \"quantitative\"}}}, {\"mark\": \"line\", \"encoding\": {\"color\": {\"field\": \"variable\", \"type\": \"nominal\"}, \"x\": {\"field\": \"time\", \"type\": \"temporal\"}, \"y\": {\"field\": \"value\", \"scale\": {\"zero\": false}, \"title\": \"SW_IN\", \"type\": \"quantitative\"}}, \"height\": 100, \"selection\": {\"selector009\": {\"type\": \"interval\", \"bind\": \"scales\", \"encodings\": [\"x\"]}}, \"width\": 180}], \"data\": {\"name\": \"data-c3a60f1c986b6caa7e65dff6e5822e40\"}, \"title\": \"SW_IN\"}, {\"layer\": [{\"mark\": {\"type\": \"point\", \"color\": \"black\", \"fillOpacity\": 1, \"strokeWidth\": 1}, \"encoding\": {\"fill\": {\"field\": \"is_present\", \"legend\": {\"title\": [\"Observed data\"]}, \"scale\": {\"range\": [\"black\", \"#ffffff00\"]}, \"type\": \"nominal\"}, \"shape\": {\"field\": \"is_present\", \"type\": \"nominal\"}, \"x\": {\"axis\": {\"domain\": false, \"labels\": false, \"ticks\": false, \"title\": null}, \"field\": \"time\", \"type\": \"temporal\"}, \"y\": {\"field\": \"value\", \"scale\": {\"zero\": false}, \"title\": \"VPD\", \"type\": \"quantitative\"}}}, {\"mark\": \"line\", \"encoding\": {\"color\": {\"field\": \"variable\", \"type\": \"nominal\"}, \"x\": {\"field\": \"time\", \"type\": \"temporal\"}, \"y\": {\"field\": \"value\", \"scale\": {\"zero\": false}, \"title\": \"VPD\", \"type\": \"quantitative\"}}, \"height\": 100, \"selection\": {\"selector009\": {\"type\": \"interval\", \"bind\": \"scales\", \"encodings\": [\"x\"]}}, \"width\": 180}], \"data\": {\"name\": \"data-b515775ddfb81c914376c617816a3fce\"}, \"title\": \"VPD\"}], \"data\": {\"name\": \"data-c216e5a4167f549263b7fefd6be27b9a\"}}, {\"hconcat\": []}, {\"hconcat\": []}, {\"hconcat\": []}], \"$schema\": \"https://vega.github.io/schema/vega-lite/v4.17.0.json\", \"datasets\": {\"data-c216e5a4167f549263b7fefd6be27b9a\": [{\"time\": \"2000-01-01T15:30:00\", \"variable\": \"TA\", \"value\": 0.5199999809265137, \"is_present\": false}, {\"time\": \"2000-01-01T16:00:00\", \"variable\": \"TA\", \"value\": 0.5699999928474426, \"is_present\": false}, {\"time\": \"2000-01-01T16:30:00\", \"variable\": \"TA\", \"value\": 0.7300000190734863, \"is_present\": false}, {\"time\": \"2000-01-01T17:00:00\", \"variable\": \"TA\", \"value\": 0.7699999809265137, \"is_present\": false}, {\"time\": \"2000-01-01T17:30:00\", \"variable\": \"TA\", \"value\": 0.8399999737739563, \"is_present\": false}, {\"time\": \"2000-01-01T18:00:00\", \"variable\": \"TA\", \"value\": 0.9900000095367432, \"is_present\": true}, {\"time\": \"2000-01-01T18:30:00\", \"variable\": \"TA\", \"value\": 1.350000023841858, \"is_present\": true}, {\"time\": \"2000-01-01T19:00:00\", \"variable\": \"TA\", \"value\": 1.8600000143051147, \"is_present\": true}, {\"time\": \"2000-01-01T19:30:00\", \"variable\": \"TA\", \"value\": 2.009999990463257, \"is_present\": true}, {\"time\": \"2000-01-01T20:00:00\", \"variable\": \"TA\", \"value\": 2.069999933242798, \"is_present\": true}], \"data-c3a60f1c986b6caa7e65dff6e5822e40\": [{\"time\": \"2000-01-01T15:30:00\", \"variable\": \"SW_IN\", \"value\": 8.09000015258789, \"is_present\": true}, {\"time\": \"2000-01-01T16:00:00\", \"variable\": \"SW_IN\", \"value\": 6.369999885559082, \"is_present\": true}, {\"time\": \"2000-01-01T16:30:00\", \"variable\": \"SW_IN\", \"value\": 1.7200000286102295, \"is_present\": true}, {\"time\": \"2000-01-01T17:00:00\", \"variable\": \"SW_IN\", \"value\": 0.05999999865889549, \"is_present\": true}, {\"time\": \"2000-01-01T17:30:00\", \"variable\": \"SW_IN\", \"value\": 0.0, \"is_present\": true}, {\"time\": \"2000-01-01T18:00:00\", \"variable\": \"SW_IN\", \"value\": 0.0, \"is_present\": true}, {\"time\": \"2000-01-01T18:30:00\", \"variable\": \"SW_IN\", \"value\": 0.0, \"is_present\": true}, {\"time\": \"2000-01-01T19:00:00\", \"variable\": \"SW_IN\", \"value\": 0.0, \"is_present\": true}, {\"time\": \"2000-01-01T19:30:00\", \"variable\": \"SW_IN\", \"value\": 0.0, \"is_present\": true}, {\"time\": \"2000-01-01T20:00:00\", \"variable\": \"SW_IN\", \"value\": 0.0, \"is_present\": true}], \"data-b515775ddfb81c914376c617816a3fce\": [{\"time\": \"2000-01-01T15:30:00\", \"variable\": \"VPD\", \"value\": 0.0, \"is_present\": false}, {\"time\": \"2000-01-01T16:00:00\", \"variable\": \"VPD\", \"value\": 0.0, \"is_present\": false}, {\"time\": \"2000-01-01T16:30:00\", \"variable\": \"VPD\", \"value\": 0.0, \"is_present\": false}, {\"time\": \"2000-01-01T17:00:00\", \"variable\": \"VPD\", \"value\": 0.0, \"is_present\": false}, {\"time\": \"2000-01-01T17:30:00\", \"variable\": \"VPD\", \"value\": 0.0, \"is_present\": false}, {\"time\": \"2000-01-01T18:00:00\", \"variable\": \"VPD\", \"value\": 0.0, \"is_present\": true}, {\"time\": \"2000-01-01T18:30:00\", \"variable\": \"VPD\", \"value\": 0.0, \"is_present\": true}, {\"time\": \"2000-01-01T19:00:00\", \"variable\": \"VPD\", \"value\": 0.0020000000949949026, \"is_present\": true}, {\"time\": \"2000-01-01T19:30:00\", \"variable\": \"VPD\", \"value\": 0.008999999612569809, \"is_present\": true}, {\"time\": \"2000-01-01T20:00:00\", \"variable\": \"VPD\", \"value\": 0.014000000432133675, \"is_present\": true}]}}, {\"mode\": \"vega-lite\"});\n",
       "</script>"
      ],
      "text/plain": [
       "alt.VConcatChart(...)"
      ]
     },
     "execution_count": null,
     "metadata": {},
     "output_type": "execute_result"
    }
   ],
   "source": [
    "a_gap(m(3)).show()"
   ]
  },
  {
   "cell_type": "code",
   "execution_count": null,
   "id": "d1852e7e-4805-4884-9eac-37a327cec896",
   "metadata": {},
   "outputs": [
    {
     "name": "stderr",
     "output_type": "stream",
     "text": [
      "/home/simone/.local/lib/python3.10/site-packages/altair/utils/core.py:317: FutureWarning: iteritems is deprecated and will be removed in a future version. Use .items instead.\n",
      "  for col_name, dtype in df.dtypes.iteritems():\n"
     ]
    },
    {
     "data": {
      "text/html": [
       "\n",
       "<div id=\"altair-viz-9c5c931a669e426f92a2ec56d10e93f9\"></div>\n",
       "<script type=\"text/javascript\">\n",
       "  var VEGA_DEBUG = (typeof VEGA_DEBUG == \"undefined\") ? {} : VEGA_DEBUG;\n",
       "  (function(spec, embedOpt){\n",
       "    let outputDiv = document.currentScript.previousElementSibling;\n",
       "    if (outputDiv.id !== \"altair-viz-9c5c931a669e426f92a2ec56d10e93f9\") {\n",
       "      outputDiv = document.getElementById(\"altair-viz-9c5c931a669e426f92a2ec56d10e93f9\");\n",
       "    }\n",
       "    const paths = {\n",
       "      \"vega\": \"https://cdn.jsdelivr.net/npm//vega@5?noext\",\n",
       "      \"vega-lib\": \"https://cdn.jsdelivr.net/npm//vega-lib?noext\",\n",
       "      \"vega-lite\": \"https://cdn.jsdelivr.net/npm//vega-lite@4.17.0?noext\",\n",
       "      \"vega-embed\": \"https://cdn.jsdelivr.net/npm//vega-embed@6?noext\",\n",
       "    };\n",
       "\n",
       "    function maybeLoadScript(lib, version) {\n",
       "      var key = `${lib.replace(\"-\", \"\")}_version`;\n",
       "      return (VEGA_DEBUG[key] == version) ?\n",
       "        Promise.resolve(paths[lib]) :\n",
       "        new Promise(function(resolve, reject) {\n",
       "          var s = document.createElement('script');\n",
       "          document.getElementsByTagName(\"head\")[0].appendChild(s);\n",
       "          s.async = true;\n",
       "          s.onload = () => {\n",
       "            VEGA_DEBUG[key] = version;\n",
       "            return resolve(paths[lib]);\n",
       "          };\n",
       "          s.onerror = () => reject(`Error loading script: ${paths[lib]}`);\n",
       "          s.src = paths[lib];\n",
       "        });\n",
       "    }\n",
       "\n",
       "    function showError(err) {\n",
       "      outputDiv.innerHTML = `<div class=\"error\" style=\"color:red;\">${err}</div>`;\n",
       "      throw err;\n",
       "    }\n",
       "\n",
       "    function displayChart(vegaEmbed) {\n",
       "      vegaEmbed(outputDiv, spec, embedOpt)\n",
       "        .catch(err => showError(`Javascript Error: ${err.message}<br>This usually means there's a typo in your chart specification. See the javascript console for the full traceback.`));\n",
       "    }\n",
       "\n",
       "    if(typeof define === \"function\" && define.amd) {\n",
       "      requirejs.config({paths});\n",
       "      require([\"vega-embed\"], displayChart, err => showError(`Error loading script: ${err.message}`));\n",
       "    } else {\n",
       "      maybeLoadScript(\"vega\", \"5\")\n",
       "        .then(() => maybeLoadScript(\"vega-lite\", \"4.17.0\"))\n",
       "        .then(() => maybeLoadScript(\"vega-embed\", \"6\"))\n",
       "        .catch(showError)\n",
       "        .then(() => displayChart(vegaEmbed));\n",
       "    }\n",
       "  })({\"config\": {\"view\": {\"continuousWidth\": 400, \"continuousHeight\": 300}}, \"vconcat\": [{\"hconcat\": [{\"layer\": [{\"mark\": {\"type\": \"point\", \"color\": \"black\", \"fillOpacity\": 1, \"strokeWidth\": 1}, \"encoding\": {\"fill\": {\"field\": \"is_present\", \"legend\": {\"title\": [\"Observed data\"]}, \"scale\": {\"range\": [\"black\", \"#ffffff00\"]}, \"type\": \"nominal\"}, \"shape\": {\"field\": \"is_present\", \"type\": \"nominal\"}, \"x\": {\"axis\": {\"domain\": false, \"labels\": false, \"ticks\": false, \"title\": null}, \"field\": \"time\", \"type\": \"temporal\"}, \"y\": {\"field\": \"value\", \"scale\": {\"zero\": false}, \"title\": \"TA\", \"type\": \"quantitative\"}}}, {\"mark\": \"line\", \"encoding\": {\"color\": {\"field\": \"variable\", \"type\": \"nominal\"}, \"x\": {\"field\": \"time\", \"type\": \"temporal\"}, \"y\": {\"field\": \"value\", \"scale\": {\"zero\": false}, \"title\": \"TA\", \"type\": \"quantitative\"}}, \"height\": 100, \"selection\": {\"selector013\": {\"type\": \"interval\", \"bind\": \"scales\", \"encodings\": [\"x\"]}}, \"width\": 180}], \"title\": \"TA\"}, {\"layer\": [{\"mark\": {\"type\": \"point\", \"color\": \"black\", \"fillOpacity\": 1, \"strokeWidth\": 1}, \"encoding\": {\"fill\": {\"field\": \"is_present\", \"legend\": {\"title\": [\"Observed data\"]}, \"scale\": {\"range\": [\"black\", \"#ffffff00\"]}, \"type\": \"nominal\"}, \"shape\": {\"field\": \"is_present\", \"type\": \"nominal\"}, \"x\": {\"axis\": {\"domain\": false, \"labels\": false, \"ticks\": false, \"title\": null}, \"field\": \"time\", \"type\": \"temporal\"}, \"y\": {\"field\": \"value\", \"scale\": {\"zero\": false}, \"title\": \"SW_IN\", \"type\": \"quantitative\"}}}, {\"mark\": \"line\", \"encoding\": {\"color\": {\"field\": \"variable\", \"type\": \"nominal\"}, \"x\": {\"field\": \"time\", \"type\": \"temporal\"}, \"y\": {\"field\": \"value\", \"scale\": {\"zero\": false}, \"title\": \"SW_IN\", \"type\": \"quantitative\"}}, \"height\": 100, \"selection\": {\"selector013\": {\"type\": \"interval\", \"bind\": \"scales\", \"encodings\": [\"x\"]}}, \"width\": 180}], \"data\": {\"name\": \"data-7d75205178a55067427e2ccf76a0ab5a\"}, \"title\": \"SW_IN\"}, {\"layer\": [{\"mark\": {\"type\": \"point\", \"color\": \"black\", \"fillOpacity\": 1, \"strokeWidth\": 1}, \"encoding\": {\"fill\": {\"field\": \"is_present\", \"legend\": {\"title\": [\"Observed data\"]}, \"scale\": {\"range\": [\"black\", \"#ffffff00\"]}, \"type\": \"nominal\"}, \"shape\": {\"field\": \"is_present\", \"type\": \"nominal\"}, \"x\": {\"axis\": {\"domain\": false, \"labels\": false, \"ticks\": false, \"title\": null}, \"field\": \"time\", \"type\": \"temporal\"}, \"y\": {\"field\": \"value\", \"scale\": {\"zero\": false}, \"title\": \"VPD\", \"type\": \"quantitative\"}}}, {\"mark\": \"line\", \"encoding\": {\"color\": {\"field\": \"variable\", \"type\": \"nominal\"}, \"x\": {\"field\": \"time\", \"type\": \"temporal\"}, \"y\": {\"field\": \"value\", \"scale\": {\"zero\": false}, \"title\": \"VPD\", \"type\": \"quantitative\"}}, \"height\": 100, \"selection\": {\"selector013\": {\"type\": \"interval\", \"bind\": \"scales\", \"encodings\": [\"x\"]}}, \"width\": 180}], \"data\": {\"name\": \"data-c244b9024159e7863ea3c635f61b339c\"}, \"title\": \"VPD\"}], \"data\": {\"name\": \"data-72246db1d6a0fccd7bbc5eb0b4231bbf\"}}, {\"hconcat\": []}, {\"hconcat\": []}, {\"hconcat\": []}], \"$schema\": \"https://vega.github.io/schema/vega-lite/v4.17.0.json\", \"datasets\": {\"data-72246db1d6a0fccd7bbc5eb0b4231bbf\": [{\"time\": \"2000-01-01T20:30:00\", \"variable\": \"TA\", \"value\": 2.0, \"is_present\": false}, {\"time\": \"2000-01-01T21:00:00\", \"variable\": \"TA\", \"value\": 2.190000057220459, \"is_present\": false}, {\"time\": \"2000-01-01T21:30:00\", \"variable\": \"TA\", \"value\": 2.259999990463257, \"is_present\": false}, {\"time\": \"2000-01-01T22:00:00\", \"variable\": \"TA\", \"value\": 2.5299999713897705, \"is_present\": false}, {\"time\": \"2000-01-01T22:30:00\", \"variable\": \"TA\", \"value\": 2.5899999141693115, \"is_present\": false}, {\"time\": \"2000-01-01T23:00:00\", \"variable\": \"TA\", \"value\": 2.5999999046325684, \"is_present\": true}, {\"time\": \"2000-01-01T23:30:00\", \"variable\": \"TA\", \"value\": 2.5299999713897705, \"is_present\": true}, {\"time\": \"2000-01-02T00:00:00\", \"variable\": \"TA\", \"value\": 2.299999952316284, \"is_present\": true}, {\"time\": \"2000-01-02T00:30:00\", \"variable\": \"TA\", \"value\": 2.0799999237060547, \"is_present\": true}, {\"time\": \"2000-01-02T01:00:00\", \"variable\": \"TA\", \"value\": 1.9299999475479126, \"is_present\": true}], \"data-7d75205178a55067427e2ccf76a0ab5a\": [{\"time\": \"2000-01-01T20:30:00\", \"variable\": \"SW_IN\", \"value\": 0.0, \"is_present\": true}, {\"time\": \"2000-01-01T21:00:00\", \"variable\": \"SW_IN\", \"value\": 0.0, \"is_present\": true}, {\"time\": \"2000-01-01T21:30:00\", \"variable\": \"SW_IN\", \"value\": 0.0, \"is_present\": true}, {\"time\": \"2000-01-01T22:00:00\", \"variable\": \"SW_IN\", \"value\": 0.0, \"is_present\": true}, {\"time\": \"2000-01-01T22:30:00\", \"variable\": \"SW_IN\", \"value\": 0.0, \"is_present\": true}, {\"time\": \"2000-01-01T23:00:00\", \"variable\": \"SW_IN\", \"value\": 0.0, \"is_present\": true}, {\"time\": \"2000-01-01T23:30:00\", \"variable\": \"SW_IN\", \"value\": 0.0, \"is_present\": true}, {\"time\": \"2000-01-02T00:00:00\", \"variable\": \"SW_IN\", \"value\": 0.0, \"is_present\": true}, {\"time\": \"2000-01-02T00:30:00\", \"variable\": \"SW_IN\", \"value\": 0.0, \"is_present\": true}, {\"time\": \"2000-01-02T01:00:00\", \"variable\": \"SW_IN\", \"value\": 0.0, \"is_present\": true}], \"data-c244b9024159e7863ea3c635f61b339c\": [{\"time\": \"2000-01-01T20:30:00\", \"variable\": \"VPD\", \"value\": 0.014000000432133675, \"is_present\": false}, {\"time\": \"2000-01-01T21:00:00\", \"variable\": \"VPD\", \"value\": 0.03799999877810478, \"is_present\": false}, {\"time\": \"2000-01-01T21:30:00\", \"variable\": \"VPD\", \"value\": 0.07900000363588333, \"is_present\": false}, {\"time\": \"2000-01-01T22:00:00\", \"variable\": \"VPD\", \"value\": 0.25699999928474426, \"is_present\": false}, {\"time\": \"2000-01-01T22:30:00\", \"variable\": \"VPD\", \"value\": 0.3880000114440918, \"is_present\": false}, {\"time\": \"2000-01-01T23:00:00\", \"variable\": \"VPD\", \"value\": 0.5550000071525574, \"is_present\": true}, {\"time\": \"2000-01-01T23:30:00\", \"variable\": \"VPD\", \"value\": 0.4519999921321869, \"is_present\": true}, {\"time\": \"2000-01-02T00:00:00\", \"variable\": \"VPD\", \"value\": 0.4350000023841858, \"is_present\": true}, {\"time\": \"2000-01-02T00:30:00\", \"variable\": \"VPD\", \"value\": 0.24799999594688416, \"is_present\": true}, {\"time\": \"2000-01-02T01:00:00\", \"variable\": \"VPD\", \"value\": 0.23399999737739563, \"is_present\": true}]}}, {\"mode\": \"vega-lite\"});\n",
       "</script>"
      ],
      "text/plain": [
       "alt.VConcatChart(...)"
      ]
     },
     "execution_count": null,
     "metadata": {},
     "output_type": "execute_result"
    }
   ],
   "source": [
    "a_gap(m(4)).show()"
   ]
  },
  {
   "cell_type": "code",
   "execution_count": null,
   "id": "37358f56-f705-4d3c-b39f-ac810447a635",
   "metadata": {},
   "outputs": [],
   "source": [
    "idx = L(*m(1).columns).argwhere(lambda x: x in ['TA','SW_IN'])"
   ]
  },
  {
   "cell_type": "code",
   "execution_count": null,
   "id": "9126e8d1-3f99-40ba-b4ac-e5ac0f5cfd6c",
   "metadata": {},
   "outputs": [],
   "source": [
    "mask = np.ones_like(m(1), dtype=bool)"
   ]
  },
  {
   "cell_type": "code",
   "execution_count": null,
   "id": "a9bf7480-1580-490d-8ce9-a0c47ef6c2a3",
   "metadata": {},
   "outputs": [
    {
     "data": {
      "text/plain": [
       "array([[ True,  True,  True],\n",
       "       [ True,  True,  True],\n",
       "       [ True,  True,  True],\n",
       "       [ True,  True,  True],\n",
       "       [ True,  True,  True],\n",
       "       [ True,  True,  True],\n",
       "       [ True,  True,  True],\n",
       "       [ True,  True,  True],\n",
       "       [ True,  True,  True],\n",
       "       [ True,  True,  True]])"
      ]
     },
     "execution_count": null,
     "metadata": {},
     "output_type": "execute_result"
    }
   ],
   "source": [
    "mask"
   ]
  },
  {
   "cell_type": "code",
   "execution_count": null,
   "id": "7ba57b44-2632-4ada-af4d-20b2678e6798",
   "metadata": {},
   "outputs": [],
   "source": [
    "gap = _make_random_gap(2, 10, 2)"
   ]
  },
  {
   "cell_type": "code",
   "execution_count": null,
   "id": "614d77ee-5fa7-49bd-b0e2-2bd9539b3c67",
   "metadata": {},
   "outputs": [
    {
     "data": {
      "text/plain": [
       "array([False, False,  True,  True, False, False, False, False, False,\n",
       "       False])"
      ]
     },
     "execution_count": null,
     "metadata": {},
     "output_type": "execute_result"
    }
   ],
   "source": [
    "gap"
   ]
  },
  {
   "cell_type": "code",
   "execution_count": null,
   "id": "2cfdf0a8-6761-43fb-a716-af7d391bd36c",
   "metadata": {},
   "outputs": [
    {
     "data": {
      "text/plain": [
       "array([[2],\n",
       "       [3]])"
      ]
     },
     "execution_count": null,
     "metadata": {},
     "output_type": "execute_result"
    }
   ],
   "source": [
    "np.argwhere(gap)"
   ]
  },
  {
   "cell_type": "code",
   "execution_count": null,
   "id": "c4892a92-5850-4529-991d-24c9a1cebf14",
   "metadata": {},
   "outputs": [],
   "source": [
    "mask[np.argwhere(gap), idx] = False"
   ]
  },
  {
   "cell_type": "code",
   "execution_count": null,
   "id": "5cf78fa7-3c14-43e6-a370-085f74f48ffa",
   "metadata": {},
   "outputs": [
    {
     "data": {
      "text/plain": [
       "array([[ True,  True,  True],\n",
       "       [ True,  True,  True],\n",
       "       [False, False,  True],\n",
       "       [False, False,  True],\n",
       "       [ True,  True,  True],\n",
       "       [ True,  True,  True],\n",
       "       [ True,  True,  True],\n",
       "       [ True,  True,  True],\n",
       "       [ True,  True,  True],\n",
       "       [ True,  True,  True]])"
      ]
     },
     "execution_count": null,
     "metadata": {},
     "output_type": "execute_result"
    }
   ],
   "source": [
    "mask"
   ]
  },
  {
   "cell_type": "code",
   "execution_count": null,
   "id": "39d845e1-4869-4d99-ad55-d851e44bc5cc",
   "metadata": {},
   "outputs": [
    {
     "data": {
      "text/plain": [
       "array([[False, False,  True],\n",
       "       [False, False,  True]])"
      ]
     },
     "execution_count": null,
     "metadata": {},
     "output_type": "execute_result"
    }
   ],
   "source": [
    "mask[gap]"
   ]
  },
  {
   "cell_type": "markdown",
   "id": "9e70cf47-7a11-4806-93ba-f9bdf56dc671",
   "metadata": {},
   "source": [
    "### To Tensor"
   ]
  },
  {
   "cell_type": "code",
   "execution_count": null,
   "id": "752a8c17-d878-4140-9e5a-132abf543d98",
   "metadata": {},
   "outputs": [],
   "source": [
    "class MaskedTensor(fastuple):\n",
    "    pass"
   ]
  },
  {
   "cell_type": "code",
   "execution_count": null,
   "id": "49a73687-9272-44ad-84d5-0b845a63cd98",
   "metadata": {},
   "outputs": [],
   "source": [
    "class MaskedDf2Tensor(ItemTransform):\n",
    "    def setups(self, items):\n",
    "        self.columns = list(items[0].data.columns)\n",
    "    def encodes(self, df: MaskedDf) -> MaskedTensor:\n",
    "        data = torch.tensor(df[0].to_numpy())\n",
    "        mask = torch.tensor(df[1].to_numpy())\n",
    "        return MaskedTensor(data, mask)\n",
    "        \n",
    "    def decodes(self, x: MaskedTensor) -> MaskedDf:\n",
    "        data = pd.DataFrame(x[0].detach().cpu().numpy(), columns = self.columns)\n",
    "        mask = x[1].numpy()\n",
    "        return MaskedDf(mask, data)"
   ]
  },
  {
   "cell_type": "code",
   "execution_count": null,
   "id": "f2990cbe-babc-4f62-9b6f-2807edfa05b2",
   "metadata": {},
   "outputs": [],
   "source": [
    "tfms = TfmdLists([1,2,3], [BlockDfTransform(hai, 10), AddGapTransform(['TA','SW_IN'], 2), MaskedDf2Tensor ])"
   ]
  },
  {
   "cell_type": "code",
   "execution_count": null,
   "id": "755add1e-55d4-4408-8db2-ab28d804edd2",
   "metadata": {},
   "outputs": [
    {
     "data": {
      "text/plain": [
       "(tensor([[1.0000e-01, 1.6510e+01, 6.0000e-03],\n",
       "         [1.8000e-01, 2.4730e+01, 1.1000e-02],\n",
       "         [2.1000e-01, 4.7420e+01, 1.9000e-02],\n",
       "         [2.3000e-01, 2.2050e+01, 1.4000e-02],\n",
       "         [3.3000e-01, 1.8860e+01, 8.0000e-03],\n",
       "         [4.1000e-01, 2.1100e+01, 6.0000e-03],\n",
       "         [4.4000e-01, 2.8870e+01, 0.0000e+00],\n",
       "         [4.8000e-01, 2.4220e+01, 0.0000e+00],\n",
       "         [4.9000e-01, 2.4350e+01, 0.0000e+00],\n",
       "         [5.1000e-01, 1.5680e+01, 0.0000e+00]]),\n",
       " tensor([[False, False,  True],\n",
       "         [False, False,  True],\n",
       "         [ True,  True,  True],\n",
       "         [ True,  True,  True],\n",
       "         [ True,  True,  True],\n",
       "         [ True,  True,  True],\n",
       "         [ True,  True,  True],\n",
       "         [ True,  True,  True],\n",
       "         [ True,  True,  True],\n",
       "         [ True,  True,  True]]))"
      ]
     },
     "execution_count": null,
     "metadata": {},
     "output_type": "execute_result"
    }
   ],
   "source": [
    "tfms[1]"
   ]
  },
  {
   "cell_type": "code",
   "execution_count": null,
   "id": "324520e5-5979-4b7e-b52f-97e86788c187",
   "metadata": {},
   "outputs": [
    {
     "data": {
      "text/plain": [
       "__main__.MaskedTensor"
      ]
     },
     "execution_count": null,
     "metadata": {},
     "output_type": "execute_result"
    }
   ],
   "source": [
    "type(tfms[0])"
   ]
  },
  {
   "cell_type": "markdown",
   "id": "87e120fa-cf84-4e32-8c99-9af24a2755b1",
   "metadata": {},
   "source": [
    "### Normalize"
   ]
  },
  {
   "cell_type": "code",
   "execution_count": null,
   "id": "4076930e-6674-4b7e-ae58-8057503339d1",
   "metadata": {},
   "outputs": [],
   "source": [
    "from meteo_imp.utils import *"
   ]
  },
  {
   "cell_type": "code",
   "execution_count": null,
   "id": "12391222-52d1-49fd-bd31-5967ca8cfb51",
   "metadata": {},
   "outputs": [],
   "source": [
    "from torch import Tensor"
   ]
  },
  {
   "cell_type": "code",
   "execution_count": null,
   "id": "e75c7ecf-2785-49fc-b1ff-fe98c4e03843",
   "metadata": {},
   "outputs": [],
   "source": [
    "def get_stats(df):\n",
    "    return torch.tensor(df.mean(axis=0).to_numpy()), torch.tensor(df.std(axis=0).to_numpy())"
   ]
  },
  {
   "cell_type": "code",
   "execution_count": null,
   "id": "975601aa-1325-4ece-989c-0eb60a9d8d85",
   "metadata": {},
   "outputs": [],
   "source": [
    "class NormalizeMasked(ItemTransform):\n",
    "    \"Normalize/denorm MaskedTensor column-wise \"\n",
    "    parameters,order = L('mean', 'std'),99\n",
    "    def __init__(self, mean=None, std=None, axes=(0,)): store_attr()\n",
    "\n",
    "    def encodes(self, x:MaskedTensor):\n",
    "        return MaskedTensor((x[0]-self.mean) / self.std, x[1])\n",
    "\n",
    "    def encodes(self, x):\n",
    "        return MaskedTensor((x[0]-self.mean) / self.std, x[1])\n",
    "    \n",
    "    def decodes(self, x:ListNormal):\n",
    "        mean = (x.std-self.mean) / self.std\n",
    "        std = x.cov * self.std\n",
    "        \n",
    "        return ListNormal(mean, std)"
   ]
  },
  {
   "cell_type": "code",
   "execution_count": null,
   "id": "e05f9797-3d0b-49b9-9cbc-5e35346d2e32",
   "metadata": {},
   "outputs": [],
   "source": [
    "b = TfmdLists([0,1], [BlockDfTransform(hai, 10), AddGapTransform(['TA','SW_IN'], 2), MaskedDf2Tensor, NormalizeMasked(*get_stats(hai))]).dataloaders(bs=2).one_batch()[0]"
   ]
  },
  {
   "cell_type": "code",
   "execution_count": null,
   "id": "80d3ece7-dd4f-4995-ace4-b1471f5c5027",
   "metadata": {},
   "outputs": [
    {
     "data": {
      "text/plain": [
       "tensor([-1.1083, -0.5929, -0.7457])"
      ]
     },
     "execution_count": null,
     "metadata": {},
     "output_type": "execute_result"
    }
   ],
   "source": [
    "b[0].mean(0)"
   ]
  },
  {
   "cell_type": "code",
   "execution_count": null,
   "id": "26a02da1-dff7-4d2e-b8c0-f75196aff66b",
   "metadata": {},
   "outputs": [
    {
     "data": {
      "text/plain": [
       "tensor([-1.0730, -0.5813, -0.7617])"
      ]
     },
     "execution_count": null,
     "metadata": {},
     "output_type": "execute_result"
    }
   ],
   "source": [
    "b[1].mean(0)"
   ]
  },
  {
   "cell_type": "code",
   "execution_count": null,
   "id": "a5da1208-a1a9-41fa-958f-f4936c199b35",
   "metadata": {},
   "outputs": [
    {
     "data": {
      "text/plain": [
       "tensor([0.0232, 0.0154, 0.0128])"
      ]
     },
     "execution_count": null,
     "metadata": {},
     "output_type": "execute_result"
    }
   ],
   "source": [
    "b.std(axis=(0,1))"
   ]
  },
  {
   "cell_type": "markdown",
   "id": "81077302-18db-4010-9c88-ae8d48216353",
   "metadata": {},
   "source": [
    "### Pipeline"
   ]
  },
  {
   "cell_type": "code",
   "execution_count": null,
   "id": "0ad384f0-7912-4d40-9631-1e6e5294fb9f",
   "metadata": {},
   "outputs": [],
   "source": [
    "from fastai.data.transforms import *"
   ]
  },
  {
   "cell_type": "code",
   "execution_count": null,
   "id": "5c19d0b5-b78c-4a5f-a606-8a1cfe832e8d",
   "metadata": {},
   "outputs": [],
   "source": [
    "block_len = 10\n",
    "block_ids = list(range(0, (len(hai) // block_len) - 1))[:10]\n",
    "gap_len = 2"
   ]
  },
  {
   "cell_type": "code",
   "execution_count": null,
   "id": "9a7a2fc4-fa0d-4b22-b7ca-65feed7ffcdc",
   "metadata": {},
   "outputs": [],
   "source": [
    "def imp_pipeline(df,\n",
    "                 block_len,\n",
    "                 gap_len\n",
    "                ):\n",
    "    block_ids = list(range(0, (len(df) // block_len) - 1))\n",
    "    return [BlockDfTransform(df, block_len),\n",
    "            AddGapTransform(['TA','SW_IN'], gap_len),\n",
    "            MaskedDf2Tensor,\n",
    "            NormalizeMasked(*get_stats(df))], block_ids"
   ]
  },
  {
   "cell_type": "code",
   "execution_count": null,
   "id": "ae7c4bad-445a-4e2a-9d30-e0160106b678",
   "metadata": {},
   "outputs": [],
   "source": [
    "pipeline, block_ids = imp_pipeline(hai, block_len, gap_len)"
   ]
  },
  {
   "cell_type": "code",
   "execution_count": null,
   "id": "569ade0e-fb29-4929-9106-3ac010ce5db0",
   "metadata": {},
   "outputs": [
    {
     "data": {
      "text/plain": [
       "[BlockDfTransform:\n",
       " encodes: (int,object) -> encodes\n",
       " decodes: ,\n",
       " AddGapTransform:\n",
       " encodes: (DataFrame,object) -> encodes\n",
       " decodes: ,\n",
       " __main__.MaskedDf2Tensor,\n",
       " NormalizeMasked:\n",
       " encodes: (MaskedTensor,object) -> encodes\n",
       " (object,object) -> encodes\n",
       " decodes: (ListNormal,object) -> decodes]"
      ]
     },
     "execution_count": null,
     "metadata": {},
     "output_type": "execute_result"
    }
   ],
   "source": [
    "pipeline"
   ]
  },
  {
   "cell_type": "markdown",
   "id": "df9f46c5-7664-492e-8baa-62ed741033e1",
   "metadata": {},
   "source": [
    "### Dataloader"
   ]
  },
  {
   "cell_type": "markdown",
   "id": "b71760f8-6b1f-45be-a804-756a3946a585",
   "metadata": {},
   "source": [
    "random splitter for validation/training set"
   ]
  },
  {
   "cell_type": "code",
   "execution_count": null,
   "id": "322140fc-b896-4e38-b244-dc8525438cfa",
   "metadata": {},
   "outputs": [],
   "source": [
    "reset_seed()"
   ]
  },
  {
   "cell_type": "code",
   "execution_count": null,
   "id": "4aefcbc5-7675-4da8-9fa8-53efd933a5ce",
   "metadata": {},
   "outputs": [],
   "source": [
    "splits = RandomSplitter()(block_ids)"
   ]
  },
  {
   "cell_type": "markdown",
   "id": "ea416657-bd6b-4bd0-9970-1aee94d0b5ea",
   "metadata": {},
   "source": [
    "Repeat twice the pipeline since is the same pipeline both for training data and for labels"
   ]
  },
  {
   "cell_type": "code",
   "execution_count": null,
   "id": "a367a12b-df12-422d-9eb4-877eaafafc94",
   "metadata": {},
   "outputs": [],
   "source": [
    "ds = Datasets(block_ids, [pipeline, pipeline], splits=splits)"
   ]
  },
  {
   "cell_type": "code",
   "execution_count": null,
   "id": "f6d45118-0145-44ea-a796-a659ed93baa9",
   "metadata": {},
   "outputs": [],
   "source": [
    "dls = ds.dataloaders(bs=1)"
   ]
  },
  {
   "cell_type": "code",
   "execution_count": null,
   "id": "a7205642-c9ef-4e44-b273-262177d54e2f",
   "metadata": {},
   "outputs": [
    {
     "data": {
      "text/plain": [
       "((tensor([[[-0.4056,  1.1963, -0.1613],\n",
       "           [-0.2794,  1.5944, -0.0491],\n",
       "           [-0.1645,  1.9405,  0.0395],\n",
       "           [-0.0787,  2.2539,  0.0649],\n",
       "           [ 0.0866,  2.5091,  0.1937],\n",
       "           [ 0.1736,  2.7085,  0.2487],\n",
       "           [ 0.3074,  2.8381,  0.3661],\n",
       "           [ 0.4260,  2.9096,  0.4666],\n",
       "           [ 0.5017,  2.9231,  0.5785],\n",
       "           [ 0.6481,  2.9028,  0.9844]]]),\n",
       "  tensor([[[ True,  True,  True],\n",
       "           [ True,  True,  True],\n",
       "           [ True,  True,  True],\n",
       "           [ True,  True,  True],\n",
       "           [ True,  True,  True],\n",
       "           [False, False,  True],\n",
       "           [False, False,  True],\n",
       "           [ True,  True,  True],\n",
       "           [ True,  True,  True],\n",
       "           [ True,  True,  True]]])),\n",
       " (tensor([[[-0.4056,  1.1963, -0.1613],\n",
       "           [-0.2794,  1.5944, -0.0491],\n",
       "           [-0.1645,  1.9405,  0.0395],\n",
       "           [-0.0787,  2.2539,  0.0649],\n",
       "           [ 0.0866,  2.5091,  0.1937],\n",
       "           [ 0.1736,  2.7085,  0.2487],\n",
       "           [ 0.3074,  2.8381,  0.3661],\n",
       "           [ 0.4260,  2.9096,  0.4666],\n",
       "           [ 0.5017,  2.9231,  0.5785],\n",
       "           [ 0.6481,  2.9028,  0.9844]]]),\n",
       "  tensor([[[False, False,  True],\n",
       "           [False, False,  True],\n",
       "           [ True,  True,  True],\n",
       "           [ True,  True,  True],\n",
       "           [ True,  True,  True],\n",
       "           [ True,  True,  True],\n",
       "           [ True,  True,  True],\n",
       "           [ True,  True,  True],\n",
       "           [ True,  True,  True],\n",
       "           [ True,  True,  True]]])))"
      ]
     },
     "execution_count": null,
     "metadata": {},
     "output_type": "execute_result"
    }
   ],
   "source": [
    "dls.one_batch()"
   ]
  },
  {
   "cell_type": "code",
   "execution_count": null,
   "id": "2223f2ba-79e9-4a58-87ae-a848e8a779a7",
   "metadata": {},
   "outputs": [],
   "source": [
    "@typedispatch\n",
    "def show_batch(x: MaskedTensor, y, samples, ctxs=None, max_n=6):\n",
    "    print(x)"
   ]
  },
  {
   "cell_type": "code",
   "execution_count": null,
   "id": "f81d21cf-c3c3-4926-bb64-067b9928a0b2",
   "metadata": {},
   "outputs": [
    {
     "name": "stdout",
     "output_type": "stream",
     "text": [
      "(tensor([[[ 0.4841, -0.5929, -0.1936],\n",
      "         [ 0.4702, -0.5929, -0.2300],\n",
      "         [ 0.4601, -0.5929, -0.2607],\n",
      "         [ 0.4677, -0.5666, -0.2705],\n",
      "         [ 0.4891, -0.3408, -0.2506],\n",
      "         [ 0.5333, -0.0372, -0.1817],\n",
      "         [ 0.5787,  0.3613, -0.1222],\n",
      "         [ 0.6342,  0.7499, -0.0576],\n",
      "         [ 0.7150,  1.1600,  0.0486],\n",
      "         [ 0.7743,  1.5377,  0.1306]]]), tensor([[[ True,  True,  True],\n",
      "         [False, False,  True],\n",
      "         [False, False,  True],\n",
      "         [ True,  True,  True],\n",
      "         [ True,  True,  True],\n",
      "         [ True,  True,  True],\n",
      "         [ True,  True,  True],\n",
      "         [ True,  True,  True],\n",
      "         [ True,  True,  True],\n",
      "         [ True,  True,  True]]]))\n"
     ]
    }
   ],
   "source": [
    "dls.show_batch()"
   ]
  },
  {
   "cell_type": "code",
   "execution_count": null,
   "id": "6bbdab5e-2970-4326-99de-1d1cbdd1b9fa",
   "metadata": {},
   "outputs": [
    {
     "data": {
      "text/plain": [
       "{tuple: [{__main__.MaskedTensor: [torch.Tensor, torch.Tensor]},\n",
       "  {__main__.MaskedTensor: [torch.Tensor, torch.Tensor]}]}"
      ]
     },
     "execution_count": null,
     "metadata": {},
     "output_type": "execute_result"
    }
   ],
   "source": [
    "dls._types"
   ]
  },
  {
   "cell_type": "code",
   "execution_count": null,
   "id": "b445cfe5-3ad1-4667-8e4d-dea2e48c0001",
   "metadata": {},
   "outputs": [
    {
     "name": "stdout",
     "output_type": "stream",
     "text": [
      "(tensor([[[-0.8371, -0.5929, -0.7153],\n",
      "         [-0.8409, -0.5929, -0.7155],\n",
      "         [-0.8359, -0.5929, -0.7137],\n",
      "         [-0.8434, -0.5929, -0.7139],\n",
      "         [-0.8598, -0.5929, -0.7157],\n",
      "         [-0.8876, -0.5929, -0.7180],\n",
      "         [-0.8863, -0.5929, -0.7189],\n",
      "         [-0.8889, -0.5929, -0.7201],\n",
      "         [-0.9091, -0.5929, -0.7224],\n",
      "         [-0.9242, -0.5929, -0.7242]]]), tensor([[[ True,  True,  True],\n",
      "         [False, False,  True],\n",
      "         [False, False,  True],\n",
      "         [ True,  True,  True],\n",
      "         [ True,  True,  True],\n",
      "         [ True,  True,  True],\n",
      "         [ True,  True,  True],\n",
      "         [ True,  True,  True],\n",
      "         [ True,  True,  True],\n",
      "         [ True,  True,  True]]]))\n"
     ]
    }
   ],
   "source": [
    "dls.show_batch()"
   ]
  },
  {
   "cell_type": "code",
   "execution_count": null,
   "id": "9ec4f71f-607e-476e-a89e-8d6f2b8bcc19",
   "metadata": {},
   "outputs": [],
   "source": [
    "def make_dataloader(df, block_len, gap_len, bs=10):\n",
    "    pipeline, block_ids = imp_pipeline(df, block_len, gap_len)\n",
    "    \n",
    "    splits = RandomSplitter()(block_ids)\n",
    "    ds = Datasets(block_ids, [pipeline, pipeline], splits=splits)\n",
    "    \n",
    "    return ds.dataloaders(bs=bs)\n",
    "    "
   ]
  },
  {
   "cell_type": "code",
   "execution_count": null,
   "id": "cb1df190-83ba-4056-be7f-82d364e2dc87",
   "metadata": {},
   "outputs": [],
   "source": [
    "dls = make_dataloader(hai, 200, 10)"
   ]
  },
  {
   "cell_type": "code",
   "execution_count": null,
   "id": "3024300b-3f82-436d-ac6d-13ff7861dbf7",
   "metadata": {},
   "outputs": [
    {
     "data": {
      "text/plain": [
       "torch.Size([10, 200, 3])"
      ]
     },
     "execution_count": null,
     "metadata": {},
     "output_type": "execute_result"
    }
   ],
   "source": [
    "dls.one_batch()[0][0].shape"
   ]
  },
  {
   "cell_type": "markdown",
   "id": "64bb7e8b-178d-4ab6-a359-5bcc010a8767",
   "metadata": {},
   "source": [
    "## Model"
   ]
  },
  {
   "cell_type": "markdown",
   "id": "e4e0999c-d959-49fa-8e8a-0ed8e53f2f5d",
   "metadata": {},
   "source": [
    "### Forward Function"
   ]
  },
  {
   "cell_type": "markdown",
   "id": "dc64e0a2-b14b-4159-af4f-c6a9fb2a3f05",
   "metadata": {},
   "source": [
    "in order to the a pytorch module we need a forward method to the kalman filter"
   ]
  },
  {
   "cell_type": "code",
   "execution_count": null,
   "id": "42d40fc6-7b8d-4e9c-9f14-70ea54629826",
   "metadata": {},
   "outputs": [],
   "source": [
    "from meteo_imp.kalman.filter import *\n",
    "from torch.distributions import MultivariateNormal"
   ]
  },
  {
   "cell_type": "code",
   "execution_count": null,
   "id": "8a7fecca-9a5a-4f54-b16d-d15b8adab21a",
   "metadata": {},
   "outputs": [],
   "source": [
    "class ListNormal(fastuple):\n",
    "    pass"
   ]
  },
  {
   "cell_type": "code",
   "execution_count": null,
   "id": "737a9f2a-ce54-42a3-8490-acb988138ed4",
   "metadata": {},
   "outputs": [],
   "source": [
    "@patch\n",
    "def forward(self: KalmanFilter, masked_data: MaskedTensor):\n",
    "    data, mask = masked_data\n",
    "    means = torch.empty_like(data)\n",
    "    covs = torch.empty(data.shape[0], data.shape[1], data.shape[2], data.shape[2], device=data.device)\n",
    "    for i in range(data.shape[0]):\n",
    "        filter_data = data[i]\n",
    "        filter_mask = mask[i].all(1)\n",
    "        times = torch.arange(filter_data.shape[0]) # TODO can optimize this\n",
    "        # print(data.shape, mask.shape, means.shape, covs.shape, filter_data.shape, filter_mask.shape, times.shape)\n",
    "        mean, cov = self.predict(filter_data, mask=filter_mask, times=times)\n",
    "        \n",
    "        means[i], covs[i] = mean, cov\n",
    "    return ListNormal(means, covs)"
   ]
  },
  {
   "cell_type": "code",
   "execution_count": null,
   "id": "634980aa-b323-45cc-b2a3-bdd0ee95a4a9",
   "metadata": {},
   "outputs": [],
   "source": [
    "model = KalmanFilter(n_dim_state = hai.shape[1], n_dim_obs=hai.shape[1])"
   ]
  },
  {
   "cell_type": "code",
   "execution_count": null,
   "id": "2d34397d-7720-4127-83d1-f5137c94af46",
   "metadata": {},
   "outputs": [
    {
     "data": {
      "text/plain": [
       "OrderedDict([('transition_matrices',\n",
       "              tensor([[1., 0., 0.],\n",
       "                      [0., 1., 0.],\n",
       "                      [0., 0., 1.]])),\n",
       "             ('transition_offsets', tensor([0., 0., 0.])),\n",
       "             ('transition_cov_raw',\n",
       "              tensor([[1., 0., 0.],\n",
       "                      [0., 1., 0.],\n",
       "                      [0., 0., 1.]])),\n",
       "             ('obs_matrices',\n",
       "              tensor([[1., 0., 0.],\n",
       "                      [0., 1., 0.],\n",
       "                      [0., 0., 1.]])),\n",
       "             ('obs_offsets', tensor([0., 0., 0.])),\n",
       "             ('obs_cov_raw',\n",
       "              tensor([[1., 0., 0.],\n",
       "                      [0., 1., 0.],\n",
       "                      [0., 0., 1.]])),\n",
       "             ('initial_state_mean', tensor([0., 0., 0.])),\n",
       "             ('initial_state_cov_raw',\n",
       "              tensor([[1., 0., 0.],\n",
       "                      [0., 1., 0.],\n",
       "                      [0., 0., 1.]]))])"
      ]
     },
     "execution_count": null,
     "metadata": {},
     "output_type": "execute_result"
    }
   ],
   "source": [
    "model.state_dict()"
   ]
  },
  {
   "cell_type": "code",
   "execution_count": null,
   "id": "5696c62a-e455-4d86-9f10-e00ea93671ac",
   "metadata": {},
   "outputs": [
    {
     "data": {
      "text/plain": [
       "torch.Size([200, 3])"
      ]
     },
     "execution_count": null,
     "metadata": {},
     "output_type": "execute_result"
    }
   ],
   "source": [
    "data = input[0][0]\n",
    "data.shape"
   ]
  },
  {
   "cell_type": "code",
   "execution_count": null,
   "id": "9d1bdfc9-2fa3-4627-94d8-0a9dda444203",
   "metadata": {},
   "outputs": [],
   "source": [
    "mask = input[1][0].all(1)"
   ]
  },
  {
   "cell_type": "code",
   "execution_count": null,
   "id": "ec17c709-bfaa-4a0e-a45d-c067671a809c",
   "metadata": {},
   "outputs": [
    {
     "data": {
      "text/plain": [
       "torch.Size([200])"
      ]
     },
     "execution_count": null,
     "metadata": {},
     "output_type": "execute_result"
    }
   ],
   "source": [
    "mask.shape"
   ]
  },
  {
   "cell_type": "code",
   "execution_count": null,
   "id": "d3ba1aa7-ef52-4a85-b0c4-3763d621eb70",
   "metadata": {},
   "outputs": [
    {
     "ename": "_LinAlgError",
     "evalue": "torch.linalg.inv: The diagonal element 2 is zero, the inversion could not be completed because the input matrix is singular.",
     "output_type": "error",
     "traceback": [
      "\u001b[0;31m---------------------------------------------------------------------------\u001b[0m",
      "\u001b[0;31m_LinAlgError\u001b[0m                              Traceback (most recent call last)",
      "Input \u001b[0;32mIn [101]\u001b[0m, in \u001b[0;36m<cell line: 1>\u001b[0;34m()\u001b[0m\n\u001b[0;32m----> 1\u001b[0m \u001b[43mmodel\u001b[49m\u001b[38;5;241;43m.\u001b[39;49m\u001b[43mpredict\u001b[49m\u001b[43m(\u001b[49m\u001b[43mdata\u001b[49m\u001b[43m,\u001b[49m\u001b[43m \u001b[49m\u001b[43mtorch\u001b[49m\u001b[38;5;241;43m.\u001b[39;49m\u001b[43marange\u001b[49m\u001b[43m(\u001b[49m\u001b[38;5;241;43m100\u001b[39;49m\u001b[43m)\u001b[49m\u001b[43m,\u001b[49m\u001b[43m \u001b[49m\u001b[43mmask\u001b[49m\u001b[43m)\u001b[49m\n",
      "File \u001b[0;32m~/Documents/uni/Thesis/GPFA_imputation/meteo_imp/kalman/filter.py:674\u001b[0m, in \u001b[0;36mpredict\u001b[0;34m(self, X, times, mask, smooth)\u001b[0m\n\u001b[1;32m    672\u001b[0m \u001b[38;5;129m@patch\u001b[39m\n\u001b[1;32m    673\u001b[0m \u001b[38;5;28;01mdef\u001b[39;00m \u001b[38;5;21mpredict\u001b[39m(\u001b[38;5;28mself\u001b[39m: KalmanFilter, X, times, mask\u001b[38;5;241m=\u001b[39m\u001b[38;5;28;01mNone\u001b[39;00m, smooth\u001b[38;5;241m=\u001b[39m\u001b[38;5;28;01mTrue\u001b[39;00m):\n\u001b[0;32m--> 674\u001b[0m     state \u001b[38;5;241m=\u001b[39m \u001b[38;5;28;43mself\u001b[39;49m\u001b[38;5;241;43m.\u001b[39;49m\u001b[43msmooth\u001b[49m\u001b[43m(\u001b[49m\u001b[43mX\u001b[49m\u001b[43m,\u001b[49m\u001b[43m \u001b[49m\u001b[43mmask\u001b[49m\u001b[43m)\u001b[49m \u001b[38;5;28;01mif\u001b[39;00m smooth \u001b[38;5;28;01melse\u001b[39;00m \u001b[38;5;28mself\u001b[39m\u001b[38;5;241m.\u001b[39mfilter(X, mask)\n\u001b[1;32m    675\u001b[0m     times \u001b[38;5;241m=\u001b[39m array1d(times)\n\u001b[1;32m    677\u001b[0m     n_timesteps \u001b[38;5;241m=\u001b[39m X\u001b[38;5;241m.\u001b[39mshape[\u001b[38;5;241m0\u001b[39m]\n",
      "File \u001b[0;32m~/Documents/uni/Thesis/GPFA_imputation/meteo_imp/kalman/filter.py:650\u001b[0m, in \u001b[0;36msmooth\u001b[0;34m(self, X, mask)\u001b[0m\n\u001b[1;32m    646\u001b[0m \u001b[38;5;124;03m\"\"\"Smoothing for prediction (no gradients)\"\"\"\u001b[39;00m\n\u001b[1;32m    648\u001b[0m (pred_state_means, pred_state_covs, filt_state_means, filt_state_covs) \u001b[38;5;241m=\u001b[39m (\u001b[38;5;28mself\u001b[39m\u001b[38;5;241m.\u001b[39m_filter_all(X, mask))\n\u001b[0;32m--> 650\u001b[0m \u001b[38;5;28;01mreturn\u001b[39;00m \u001b[43m_smooth\u001b[49m\u001b[43m(\u001b[49m\n\u001b[1;32m    651\u001b[0m \u001b[43m        \u001b[49m\u001b[38;5;28;43mself\u001b[39;49m\u001b[38;5;241;43m.\u001b[39;49m\u001b[43mtransition_matrices\u001b[49m\u001b[43m,\u001b[49m\n\u001b[1;32m    652\u001b[0m \u001b[43m        \u001b[49m\u001b[43mListNormal\u001b[49m\u001b[43m(\u001b[49m\u001b[43mfilt_state_means\u001b[49m\u001b[43m,\u001b[49m\u001b[43m \u001b[49m\u001b[43mfilt_state_covs\u001b[49m\u001b[43m)\u001b[49m\u001b[43m,\u001b[49m\n\u001b[1;32m    653\u001b[0m \u001b[43m        \u001b[49m\u001b[43mListNormal\u001b[49m\u001b[43m(\u001b[49m\u001b[43mpred_state_means\u001b[49m\u001b[43m,\u001b[49m\u001b[43m \u001b[49m\u001b[43mpred_state_covs\u001b[49m\u001b[43m)\u001b[49m\n\u001b[1;32m    654\u001b[0m \u001b[43m    \u001b[49m\u001b[43m)\u001b[49m\n",
      "File \u001b[0;32m~/Documents/uni/Thesis/GPFA_imputation/meteo_imp/kalman/filter.py:626\u001b[0m, in \u001b[0;36m_smooth\u001b[0;34m(transition_matrices, filt_state, pred_state)\u001b[0m\n\u001b[1;32m    623\u001b[0m \u001b[38;5;28;01mfor\u001b[39;00m t \u001b[38;5;129;01min\u001b[39;00m \u001b[38;5;28mreversed\u001b[39m(\u001b[38;5;28mrange\u001b[39m(n_timesteps \u001b[38;5;241m-\u001b[39m \u001b[38;5;241m1\u001b[39m)):\n\u001b[1;32m    624\u001b[0m     transition_matrix \u001b[38;5;241m=\u001b[39m _last_dims(transition_matrices, t)\n\u001b[1;32m    625\u001b[0m     (smoothed_state\u001b[38;5;241m.\u001b[39mmean[t], smoothed_state\u001b[38;5;241m.\u001b[39mcov[t]) \u001b[38;5;241m=\u001b[39m (\n\u001b[0;32m--> 626\u001b[0m         \u001b[43m_smooth_update\u001b[49m\u001b[43m(\u001b[49m\n\u001b[1;32m    627\u001b[0m \u001b[43m            \u001b[49m\u001b[43mtransition_matrix\u001b[49m\u001b[43m,\u001b[49m\n\u001b[1;32m    628\u001b[0m \u001b[43m            \u001b[49m\u001b[43mfilt_state\u001b[49m\u001b[38;5;241;43m.\u001b[39;49m\u001b[43mget_nth\u001b[49m\u001b[43m(\u001b[49m\u001b[43mt\u001b[49m\u001b[43m)\u001b[49m\u001b[43m,\u001b[49m\n\u001b[1;32m    629\u001b[0m \u001b[43m            \u001b[49m\u001b[43mpred_state\u001b[49m\u001b[38;5;241;43m.\u001b[39;49m\u001b[43mget_nth\u001b[49m\u001b[43m(\u001b[49m\u001b[43mt\u001b[49m\u001b[43m \u001b[49m\u001b[38;5;241;43m+\u001b[39;49m\u001b[43m \u001b[49m\u001b[38;5;241;43m1\u001b[39;49m\u001b[43m)\u001b[49m\u001b[43m,\u001b[49m\n\u001b[1;32m    630\u001b[0m \u001b[43m            \u001b[49m\u001b[43msmoothed_state\u001b[49m\u001b[38;5;241;43m.\u001b[39;49m\u001b[43mget_nth\u001b[49m\u001b[43m(\u001b[49m\u001b[43mt\u001b[49m\u001b[38;5;241;43m+\u001b[39;49m\u001b[38;5;241;43m1\u001b[39;49m\u001b[43m)\u001b[49m\n\u001b[1;32m    631\u001b[0m \u001b[43m        \u001b[49m\u001b[43m)\u001b[49m\n\u001b[1;32m    632\u001b[0m     )\n\u001b[1;32m    633\u001b[0m \u001b[38;5;28;01mreturn\u001b[39;00m smoothed_state\n",
      "File \u001b[0;32m~/Documents/uni/Thesis/GPFA_imputation/meteo_imp/kalman/filter.py:596\u001b[0m, in \u001b[0;36m_smooth_update\u001b[0;34m(transition_matrix, filt_state, pred_state, next_smoothed_state)\u001b[0m\n\u001b[1;32m    587\u001b[0m \u001b[38;5;28;01mdef\u001b[39;00m \u001b[38;5;21m_smooth_update\u001b[39m(transition_matrix,      \u001b[38;5;66;03m# [n_dim_state, n_dim_state]\u001b[39;00m\n\u001b[1;32m    588\u001b[0m                    filt_state: Normal, \u001b[38;5;66;03m# [n_dim_state] filtered state at time `t`\u001b[39;00m\n\u001b[1;32m    589\u001b[0m                    pred_state: Normal,        \u001b[38;5;66;03m# [n_dim_state] state before filtering at time `t + 1` (= using the observation until time t)\u001b[39;00m\n\u001b[1;32m    590\u001b[0m                    next_smoothed_state: Normal, \u001b[38;5;66;03m# [n_dim_state] smoothed state at time  `t+1`\u001b[39;00m\n\u001b[1;32m    591\u001b[0m                    ) \u001b[38;5;241m-\u001b[39m\u001b[38;5;241m>\u001b[39m Normal: \u001b[38;5;66;03m# mean and cov of smoothed state at time `t`\u001b[39;00m\n\u001b[1;32m    592\u001b[0m     \u001b[38;5;124mr\u001b[39m\u001b[38;5;124;03m\"\"\"Correct a pred state with a Kalman Smoother update\u001b[39;00m\n\u001b[1;32m    593\u001b[0m \n\u001b[1;32m    594\u001b[0m \u001b[38;5;124;03m    Calculates posterior distribution of the hidden state at time `t` given the the observations via Kalman Smoothing.\u001b[39;00m\n\u001b[1;32m    595\u001b[0m \u001b[38;5;124;03m    \"\"\"\u001b[39;00m\n\u001b[0;32m--> 596\u001b[0m     kalman_smoothing_gain \u001b[38;5;241m=\u001b[39m filt_state\u001b[38;5;241m.\u001b[39mcov \u001b[38;5;241m@\u001b[39m transition_matrix\u001b[38;5;241m.\u001b[39mT \u001b[38;5;241m@\u001b[39m \u001b[43mtorch\u001b[49m\u001b[38;5;241;43m.\u001b[39;49m\u001b[43minverse\u001b[49m\u001b[43m(\u001b[49m\u001b[43mpred_state\u001b[49m\u001b[38;5;241;43m.\u001b[39;49m\u001b[43mcov\u001b[49m\u001b[43m)\u001b[49m\n\u001b[1;32m    598\u001b[0m     smoothed_state_mean \u001b[38;5;241m=\u001b[39m filt_state\u001b[38;5;241m.\u001b[39mmean \u001b[38;5;241m+\u001b[39m kalman_smoothing_gain \u001b[38;5;241m@\u001b[39m (next_smoothed_state\u001b[38;5;241m.\u001b[39mmean \u001b[38;5;241m-\u001b[39m pred_state\u001b[38;5;241m.\u001b[39mmean)\n\u001b[1;32m    599\u001b[0m     smoothed_state_cov \u001b[38;5;241m=\u001b[39m (filt_state\u001b[38;5;241m.\u001b[39mcov\n\u001b[1;32m    600\u001b[0m                       \u001b[38;5;241m+\u001b[39m kalman_smoothing_gain \u001b[38;5;241m@\u001b[39m (next_smoothed_state\u001b[38;5;241m.\u001b[39mcov \u001b[38;5;241m-\u001b[39m pred_state\u001b[38;5;241m.\u001b[39mcov) \u001b[38;5;241m@\u001b[39m kalman_smoothing_gain\u001b[38;5;241m.\u001b[39mT)\n",
      "\u001b[0;31m_LinAlgError\u001b[0m: torch.linalg.inv: The diagonal element 2 is zero, the inversion could not be completed because the input matrix is singular."
     ]
    }
   ],
   "source": [
    "model.predict(data, torch.arange(100), mask)"
   ]
  },
  {
   "cell_type": "code",
   "execution_count": null,
   "id": "f7ebde2f-19aa-4860-b665-b13865111506",
   "metadata": {},
   "outputs": [],
   "source": [
    "input = dls.one_batch()[0]\n",
    "target = dls.one_batch()[1]"
   ]
  },
  {
   "cell_type": "code",
   "execution_count": null,
   "id": "5d690cd5-44a1-45d6-9abb-ef4fb0a62314",
   "metadata": {},
   "outputs": [
    {
     "ename": "_LinAlgError",
     "evalue": "torch.linalg.inv: The diagonal element 2 is zero, the inversion could not be completed because the input matrix is singular.",
     "output_type": "error",
     "traceback": [
      "\u001b[0;31m---------------------------------------------------------------------------\u001b[0m",
      "\u001b[0;31m_LinAlgError\u001b[0m                              Traceback (most recent call last)",
      "Input \u001b[0;32mIn [91]\u001b[0m, in \u001b[0;36m<cell line: 1>\u001b[0;34m()\u001b[0m\n\u001b[0;32m----> 1\u001b[0m pred \u001b[38;5;241m=\u001b[39m \u001b[43mmodel\u001b[49m\u001b[43m(\u001b[49m\u001b[38;5;28;43minput\u001b[39;49m\u001b[43m)\u001b[49m\n",
      "File \u001b[0;32m~/anaconda3/envs/data-science/lib/python3.10/site-packages/torch/nn/modules/module.py:1130\u001b[0m, in \u001b[0;36mModule._call_impl\u001b[0;34m(self, *input, **kwargs)\u001b[0m\n\u001b[1;32m   1126\u001b[0m \u001b[38;5;66;03m# If we don't have any hooks, we want to skip the rest of the logic in\u001b[39;00m\n\u001b[1;32m   1127\u001b[0m \u001b[38;5;66;03m# this function, and just call forward.\u001b[39;00m\n\u001b[1;32m   1128\u001b[0m \u001b[38;5;28;01mif\u001b[39;00m \u001b[38;5;129;01mnot\u001b[39;00m (\u001b[38;5;28mself\u001b[39m\u001b[38;5;241m.\u001b[39m_backward_hooks \u001b[38;5;129;01mor\u001b[39;00m \u001b[38;5;28mself\u001b[39m\u001b[38;5;241m.\u001b[39m_forward_hooks \u001b[38;5;129;01mor\u001b[39;00m \u001b[38;5;28mself\u001b[39m\u001b[38;5;241m.\u001b[39m_forward_pre_hooks \u001b[38;5;129;01mor\u001b[39;00m _global_backward_hooks\n\u001b[1;32m   1129\u001b[0m         \u001b[38;5;129;01mor\u001b[39;00m _global_forward_hooks \u001b[38;5;129;01mor\u001b[39;00m _global_forward_pre_hooks):\n\u001b[0;32m-> 1130\u001b[0m     \u001b[38;5;28;01mreturn\u001b[39;00m \u001b[43mforward_call\u001b[49m\u001b[43m(\u001b[49m\u001b[38;5;241;43m*\u001b[39;49m\u001b[38;5;28;43minput\u001b[39;49m\u001b[43m,\u001b[49m\u001b[43m \u001b[49m\u001b[38;5;241;43m*\u001b[39;49m\u001b[38;5;241;43m*\u001b[39;49m\u001b[43mkwargs\u001b[49m\u001b[43m)\u001b[49m\n\u001b[1;32m   1131\u001b[0m \u001b[38;5;66;03m# Do not call functions when jit is used\u001b[39;00m\n\u001b[1;32m   1132\u001b[0m full_backward_hooks, non_full_backward_hooks \u001b[38;5;241m=\u001b[39m [], []\n",
      "Input \u001b[0;32mIn [84]\u001b[0m, in \u001b[0;36mforward\u001b[0;34m(self, masked_data)\u001b[0m\n\u001b[1;32m      9\u001b[0m     times \u001b[38;5;241m=\u001b[39m torch\u001b[38;5;241m.\u001b[39marange(filter_data\u001b[38;5;241m.\u001b[39mshape[\u001b[38;5;241m0\u001b[39m]) \u001b[38;5;66;03m# TODO can optimize this\u001b[39;00m\n\u001b[1;32m     10\u001b[0m     \u001b[38;5;66;03m# print(data.shape, mask.shape, means.shape, covs.shape, filter_data.shape, filter_mask.shape, times.shape)\u001b[39;00m\n\u001b[0;32m---> 11\u001b[0m     mean, cov \u001b[38;5;241m=\u001b[39m \u001b[38;5;28;43mself\u001b[39;49m\u001b[38;5;241;43m.\u001b[39;49m\u001b[43mpredict\u001b[49m\u001b[43m(\u001b[49m\u001b[43mfilter_data\u001b[49m\u001b[43m,\u001b[49m\u001b[43m \u001b[49m\u001b[43mmask\u001b[49m\u001b[38;5;241;43m=\u001b[39;49m\u001b[43mfilter_mask\u001b[49m\u001b[43m,\u001b[49m\u001b[43m \u001b[49m\u001b[43mtimes\u001b[49m\u001b[38;5;241;43m=\u001b[39;49m\u001b[43mtimes\u001b[49m\u001b[43m)\u001b[49m\n\u001b[1;32m     13\u001b[0m     means[i], covs[i] \u001b[38;5;241m=\u001b[39m mean, cov\n\u001b[1;32m     14\u001b[0m \u001b[38;5;28;01mreturn\u001b[39;00m ListNormal(means, covs)\n",
      "File \u001b[0;32m~/Documents/uni/Thesis/GPFA_imputation/meteo_imp/kalman/filter.py:674\u001b[0m, in \u001b[0;36mpredict\u001b[0;34m(self, X, times, mask, smooth)\u001b[0m\n\u001b[1;32m    672\u001b[0m \u001b[38;5;129m@patch\u001b[39m\n\u001b[1;32m    673\u001b[0m \u001b[38;5;28;01mdef\u001b[39;00m \u001b[38;5;21mpredict\u001b[39m(\u001b[38;5;28mself\u001b[39m: KalmanFilter, X, times, mask\u001b[38;5;241m=\u001b[39m\u001b[38;5;28;01mNone\u001b[39;00m, smooth\u001b[38;5;241m=\u001b[39m\u001b[38;5;28;01mTrue\u001b[39;00m):\n\u001b[0;32m--> 674\u001b[0m     state \u001b[38;5;241m=\u001b[39m \u001b[38;5;28;43mself\u001b[39;49m\u001b[38;5;241;43m.\u001b[39;49m\u001b[43msmooth\u001b[49m\u001b[43m(\u001b[49m\u001b[43mX\u001b[49m\u001b[43m,\u001b[49m\u001b[43m \u001b[49m\u001b[43mmask\u001b[49m\u001b[43m)\u001b[49m \u001b[38;5;28;01mif\u001b[39;00m smooth \u001b[38;5;28;01melse\u001b[39;00m \u001b[38;5;28mself\u001b[39m\u001b[38;5;241m.\u001b[39mfilter(X, mask)\n\u001b[1;32m    675\u001b[0m     times \u001b[38;5;241m=\u001b[39m array1d(times)\n\u001b[1;32m    677\u001b[0m     n_timesteps \u001b[38;5;241m=\u001b[39m X\u001b[38;5;241m.\u001b[39mshape[\u001b[38;5;241m0\u001b[39m]\n",
      "File \u001b[0;32m~/Documents/uni/Thesis/GPFA_imputation/meteo_imp/kalman/filter.py:650\u001b[0m, in \u001b[0;36msmooth\u001b[0;34m(self, X, mask)\u001b[0m\n\u001b[1;32m    646\u001b[0m \u001b[38;5;124;03m\"\"\"Smoothing for prediction (no gradients)\"\"\"\u001b[39;00m\n\u001b[1;32m    648\u001b[0m (pred_state_means, pred_state_covs, filt_state_means, filt_state_covs) \u001b[38;5;241m=\u001b[39m (\u001b[38;5;28mself\u001b[39m\u001b[38;5;241m.\u001b[39m_filter_all(X, mask))\n\u001b[0;32m--> 650\u001b[0m \u001b[38;5;28;01mreturn\u001b[39;00m \u001b[43m_smooth\u001b[49m\u001b[43m(\u001b[49m\n\u001b[1;32m    651\u001b[0m \u001b[43m        \u001b[49m\u001b[38;5;28;43mself\u001b[39;49m\u001b[38;5;241;43m.\u001b[39;49m\u001b[43mtransition_matrices\u001b[49m\u001b[43m,\u001b[49m\n\u001b[1;32m    652\u001b[0m \u001b[43m        \u001b[49m\u001b[43mListNormal\u001b[49m\u001b[43m(\u001b[49m\u001b[43mfilt_state_means\u001b[49m\u001b[43m,\u001b[49m\u001b[43m \u001b[49m\u001b[43mfilt_state_covs\u001b[49m\u001b[43m)\u001b[49m\u001b[43m,\u001b[49m\n\u001b[1;32m    653\u001b[0m \u001b[43m        \u001b[49m\u001b[43mListNormal\u001b[49m\u001b[43m(\u001b[49m\u001b[43mpred_state_means\u001b[49m\u001b[43m,\u001b[49m\u001b[43m \u001b[49m\u001b[43mpred_state_covs\u001b[49m\u001b[43m)\u001b[49m\n\u001b[1;32m    654\u001b[0m \u001b[43m    \u001b[49m\u001b[43m)\u001b[49m\n",
      "File \u001b[0;32m~/Documents/uni/Thesis/GPFA_imputation/meteo_imp/kalman/filter.py:626\u001b[0m, in \u001b[0;36m_smooth\u001b[0;34m(transition_matrices, filt_state, pred_state)\u001b[0m\n\u001b[1;32m    623\u001b[0m \u001b[38;5;28;01mfor\u001b[39;00m t \u001b[38;5;129;01min\u001b[39;00m \u001b[38;5;28mreversed\u001b[39m(\u001b[38;5;28mrange\u001b[39m(n_timesteps \u001b[38;5;241m-\u001b[39m \u001b[38;5;241m1\u001b[39m)):\n\u001b[1;32m    624\u001b[0m     transition_matrix \u001b[38;5;241m=\u001b[39m _last_dims(transition_matrices, t)\n\u001b[1;32m    625\u001b[0m     (smoothed_state\u001b[38;5;241m.\u001b[39mmean[t], smoothed_state\u001b[38;5;241m.\u001b[39mcov[t]) \u001b[38;5;241m=\u001b[39m (\n\u001b[0;32m--> 626\u001b[0m         \u001b[43m_smooth_update\u001b[49m\u001b[43m(\u001b[49m\n\u001b[1;32m    627\u001b[0m \u001b[43m            \u001b[49m\u001b[43mtransition_matrix\u001b[49m\u001b[43m,\u001b[49m\n\u001b[1;32m    628\u001b[0m \u001b[43m            \u001b[49m\u001b[43mfilt_state\u001b[49m\u001b[38;5;241;43m.\u001b[39;49m\u001b[43mget_nth\u001b[49m\u001b[43m(\u001b[49m\u001b[43mt\u001b[49m\u001b[43m)\u001b[49m\u001b[43m,\u001b[49m\n\u001b[1;32m    629\u001b[0m \u001b[43m            \u001b[49m\u001b[43mpred_state\u001b[49m\u001b[38;5;241;43m.\u001b[39;49m\u001b[43mget_nth\u001b[49m\u001b[43m(\u001b[49m\u001b[43mt\u001b[49m\u001b[43m \u001b[49m\u001b[38;5;241;43m+\u001b[39;49m\u001b[43m \u001b[49m\u001b[38;5;241;43m1\u001b[39;49m\u001b[43m)\u001b[49m\u001b[43m,\u001b[49m\n\u001b[1;32m    630\u001b[0m \u001b[43m            \u001b[49m\u001b[43msmoothed_state\u001b[49m\u001b[38;5;241;43m.\u001b[39;49m\u001b[43mget_nth\u001b[49m\u001b[43m(\u001b[49m\u001b[43mt\u001b[49m\u001b[38;5;241;43m+\u001b[39;49m\u001b[38;5;241;43m1\u001b[39;49m\u001b[43m)\u001b[49m\n\u001b[1;32m    631\u001b[0m \u001b[43m        \u001b[49m\u001b[43m)\u001b[49m\n\u001b[1;32m    632\u001b[0m     )\n\u001b[1;32m    633\u001b[0m \u001b[38;5;28;01mreturn\u001b[39;00m smoothed_state\n",
      "File \u001b[0;32m~/Documents/uni/Thesis/GPFA_imputation/meteo_imp/kalman/filter.py:596\u001b[0m, in \u001b[0;36m_smooth_update\u001b[0;34m(transition_matrix, filt_state, pred_state, next_smoothed_state)\u001b[0m\n\u001b[1;32m    587\u001b[0m \u001b[38;5;28;01mdef\u001b[39;00m \u001b[38;5;21m_smooth_update\u001b[39m(transition_matrix,      \u001b[38;5;66;03m# [n_dim_state, n_dim_state]\u001b[39;00m\n\u001b[1;32m    588\u001b[0m                    filt_state: Normal, \u001b[38;5;66;03m# [n_dim_state] filtered state at time `t`\u001b[39;00m\n\u001b[1;32m    589\u001b[0m                    pred_state: Normal,        \u001b[38;5;66;03m# [n_dim_state] state before filtering at time `t + 1` (= using the observation until time t)\u001b[39;00m\n\u001b[1;32m    590\u001b[0m                    next_smoothed_state: Normal, \u001b[38;5;66;03m# [n_dim_state] smoothed state at time  `t+1`\u001b[39;00m\n\u001b[1;32m    591\u001b[0m                    ) \u001b[38;5;241m-\u001b[39m\u001b[38;5;241m>\u001b[39m Normal: \u001b[38;5;66;03m# mean and cov of smoothed state at time `t`\u001b[39;00m\n\u001b[1;32m    592\u001b[0m     \u001b[38;5;124mr\u001b[39m\u001b[38;5;124;03m\"\"\"Correct a pred state with a Kalman Smoother update\u001b[39;00m\n\u001b[1;32m    593\u001b[0m \n\u001b[1;32m    594\u001b[0m \u001b[38;5;124;03m    Calculates posterior distribution of the hidden state at time `t` given the the observations via Kalman Smoothing.\u001b[39;00m\n\u001b[1;32m    595\u001b[0m \u001b[38;5;124;03m    \"\"\"\u001b[39;00m\n\u001b[0;32m--> 596\u001b[0m     kalman_smoothing_gain \u001b[38;5;241m=\u001b[39m filt_state\u001b[38;5;241m.\u001b[39mcov \u001b[38;5;241m@\u001b[39m transition_matrix\u001b[38;5;241m.\u001b[39mT \u001b[38;5;241m@\u001b[39m \u001b[43mtorch\u001b[49m\u001b[38;5;241;43m.\u001b[39;49m\u001b[43minverse\u001b[49m\u001b[43m(\u001b[49m\u001b[43mpred_state\u001b[49m\u001b[38;5;241;43m.\u001b[39;49m\u001b[43mcov\u001b[49m\u001b[43m)\u001b[49m\n\u001b[1;32m    598\u001b[0m     smoothed_state_mean \u001b[38;5;241m=\u001b[39m filt_state\u001b[38;5;241m.\u001b[39mmean \u001b[38;5;241m+\u001b[39m kalman_smoothing_gain \u001b[38;5;241m@\u001b[39m (next_smoothed_state\u001b[38;5;241m.\u001b[39mmean \u001b[38;5;241m-\u001b[39m pred_state\u001b[38;5;241m.\u001b[39mmean)\n\u001b[1;32m    599\u001b[0m     smoothed_state_cov \u001b[38;5;241m=\u001b[39m (filt_state\u001b[38;5;241m.\u001b[39mcov\n\u001b[1;32m    600\u001b[0m                       \u001b[38;5;241m+\u001b[39m kalman_smoothing_gain \u001b[38;5;241m@\u001b[39m (next_smoothed_state\u001b[38;5;241m.\u001b[39mcov \u001b[38;5;241m-\u001b[39m pred_state\u001b[38;5;241m.\u001b[39mcov) \u001b[38;5;241m@\u001b[39m kalman_smoothing_gain\u001b[38;5;241m.\u001b[39mT)\n",
      "\u001b[0;31m_LinAlgError\u001b[0m: torch.linalg.inv: The diagonal element 2 is zero, the inversion could not be completed because the input matrix is singular."
     ]
    }
   ],
   "source": [
    "pred = model(input)"
   ]
  },
  {
   "cell_type": "code",
   "execution_count": null,
   "id": "a7bc7df7-effd-41b0-bb90-6beaa874d1e1",
   "metadata": {},
   "outputs": [],
   "source": [
    "pred[0].shape"
   ]
  },
  {
   "cell_type": "code",
   "execution_count": null,
   "id": "ed03f415-567f-47ab-b019-b7291cee03f0",
   "metadata": {},
   "outputs": [],
   "source": [
    "pred[1].shape"
   ]
  },
  {
   "cell_type": "markdown",
   "id": "2051bf57-a2e3-4232-861b-fafe814b1825",
   "metadata": {},
   "source": [
    "### Loss Function"
   ]
  },
  {
   "cell_type": "markdown",
   "id": "9b68c540-4df1-4a2e-92da-3cd55782d73c",
   "metadata": {},
   "source": [
    "log the limit at which the covatiances matrices are not symmetric anymore"
   ]
  },
  {
   "cell_type": "code",
   "execution_count": null,
   "id": "c8f07b4a-79e6-42a7-9ef5-0b9784270f22",
   "metadata": {},
   "outputs": [],
   "source": [
    "exps = []"
   ]
  },
  {
   "cell_type": "code",
   "execution_count": null,
   "id": "33619106-823c-44c4-8f05-b90798fe15cc",
   "metadata": {},
   "outputs": [],
   "source": [
    "def imp_ll_loss_single(means, covs, data, mask):\n",
    "    \"Log Likelihood loss for imputation (with MaskedTensor)\"    \n",
    "    times = torch.argwhere(~mask.all(1))\n",
    "    \n",
    "    lls = torch.zeros(len(times))\n",
    "    for i, t in enumerate(times):\n",
    "        exps.append(symmetric_upto(covs[t]))\n",
    "        # check_posdef(covs[t])\n",
    "        lls[i] = MultivariateNormal(means[t], covs[t], validate_args=False).log_prob(data[t:t+1])\n",
    "    return -lls.sum() "
   ]
  },
  {
   "cell_type": "code",
   "execution_count": null,
   "id": "1171387a-08f5-4b01-a860-df42cab713ce",
   "metadata": {},
   "outputs": [],
   "source": [
    "def imp_ll_loss(pred: ListNormal, target: MaskedTensor):\n",
    "    \"Log Likelihood loss for imputation (with MaskedTensor)\"\n",
    "    data, mask = target\n",
    "    means, covs = pred\n",
    "    \n",
    "    losses = torch.empty(data.shape[0])\n",
    "    \n",
    "    for i in range(data.shape[0]):\n",
    "        losses[i] = imp_ll_loss_single(means[i], covs[i], data[i], mask[i])\n",
    "    return losses.sum()"
   ]
  },
  {
   "cell_type": "code",
   "execution_count": null,
   "id": "5b19537d-d697-4732-bfd8-1b624f19b006",
   "metadata": {},
   "outputs": [],
   "source": [
    "MultivariateNormal(pred[0][0], pred[1][0]).log_prob(target[0][0:1]).sum()"
   ]
  },
  {
   "cell_type": "code",
   "execution_count": null,
   "id": "8732b757-c2d9-4bb0-977b-f4b5f7656ab1",
   "metadata": {},
   "outputs": [],
   "source": [
    "imp_ll_loss(pred, target)"
   ]
  },
  {
   "cell_type": "code",
   "execution_count": null,
   "id": "e53bdccb-7ff4-47e6-a2be-536d599f720b",
   "metadata": {},
   "outputs": [],
   "source": [
    "imp_ll_loss(pred, target).backward()"
   ]
  },
  {
   "cell_type": "markdown",
   "id": "dbc02d69-7930-47b8-9543-d07998f3baa6",
   "metadata": {},
   "source": [
    "### Metrics"
   ]
  },
  {
   "cell_type": "markdown",
   "id": "6b485cfe-5fce-449b-810c-1884990f103b",
   "metadata": {},
   "source": [
    "Wrapper around fastai metrics to support masked tensors and normal distributions"
   ]
  },
  {
   "cell_type": "code",
   "execution_count": null,
   "id": "dad52498-03b4-4aac-a8d6-bf7dc6f1cab1",
   "metadata": {},
   "outputs": [],
   "source": [
    "def to_meteo_imp_metric(metric):\n",
    "    def meteo_imp_metric(inp, targ):\n",
    "        return metric(imp[0], targ[0]) # first element are the means, first element "
   ]
  },
  {
   "cell_type": "markdown",
   "id": "73470c88-47dc-4187-a208-789f24c23a3e",
   "metadata": {},
   "source": [
    "### Callback"
   ]
  },
  {
   "cell_type": "markdown",
   "id": "96c199ec-b21c-401d-bd3c-16670de8e372",
   "metadata": {},
   "source": [
    "save the model state "
   ]
  },
  {
   "cell_type": "code",
   "execution_count": null,
   "id": "c9f34e5c-1cf5-4c04-b7e0-89e2e33b9aa1",
   "metadata": {},
   "outputs": [],
   "source": [
    "from fastai.callback.all import *"
   ]
  },
  {
   "cell_type": "code",
   "execution_count": null,
   "id": "a928d1c7-405c-4536-8912-e1ec844e5f4c",
   "metadata": {},
   "outputs": [],
   "source": [
    "class SaveParams(Callback):\n",
    "    def __init__(self):\n",
    "        super().__init__()\n",
    "        self.params = []\n",
    "    def after_batch(self):\n",
    "        self.params.append(self.model.state_dict())"
   ]
  },
  {
   "cell_type": "code",
   "execution_count": null,
   "id": "c6bbe197-91eb-4fb2-ae15-f2d463914902",
   "metadata": {},
   "outputs": [],
   "source": [
    "class SaveParams(Callback):\n",
    "    def __init__(self, param_name):\n",
    "        super().__init__()\n",
    "        self.params = []\n",
    "        self.param_name = param_name\n",
    "    def after_batch(self):\n",
    "        param = getattr(self.model, self.param_name).detach()\n",
    "        self.params.append(param)"
   ]
  },
  {
   "cell_type": "markdown",
   "id": "99617495-ab91-4a00-8371-91011ba551ba",
   "metadata": {},
   "source": [
    "### Learner"
   ]
  },
  {
   "cell_type": "code",
   "execution_count": null,
   "id": "87ad92d0-4b9a-4f10-817d-c213366fe83a",
   "metadata": {},
   "outputs": [],
   "source": [
    "from fastai.learner import * \n",
    "\n",
    "from fastai.tabular.all import *\n",
    "\n",
    "from fastai.tabular.learner import *\n",
    "\n",
    "from fastai.callback.progress import ShowGraphCallback"
   ]
  },
  {
   "cell_type": "code",
   "execution_count": null,
   "id": "8bb68031-bc19-4c2f-b82b-201939013bbc",
   "metadata": {},
   "outputs": [],
   "source": [
    "obs_cov_history = SaveParams('obs_cov')"
   ]
  },
  {
   "cell_type": "code",
   "execution_count": null,
   "id": "fdb75dd6-f0af-4c50-bc80-2436b28b4db3",
   "metadata": {},
   "outputs": [],
   "source": [
    "all_data = CollectDataCallback()"
   ]
  },
  {
   "cell_type": "code",
   "execution_count": null,
   "id": "25efc678-791b-4599-87d3-820ace3f7263",
   "metadata": {},
   "outputs": [],
   "source": [
    "model = KalmanFilter(n_dim_state = hai.shape[1], n_dim_obs=hai.shape[1])"
   ]
  },
  {
   "cell_type": "code",
   "execution_count": null,
   "id": "81bc94fc-729b-4c61-815f-a36000396f27",
   "metadata": {},
   "outputs": [],
   "source": [
    "dls = make_dataloader(hai[:2000], 200, 10, bs=1) "
   ]
  },
  {
   "cell_type": "code",
   "execution_count": null,
   "id": "c508264f-ca12-4f8f-93cc-9245fa84e7d9",
   "metadata": {},
   "outputs": [],
   "source": [
    "learn = Learner(dls, model, loss_func=imp_ll_loss, cbs = [ShowGraphCallback, obs_cov_history, all_data] )"
   ]
  },
  {
   "cell_type": "code",
   "execution_count": null,
   "id": "eef1826f-78e6-4654-a92f-dca07b2ddb7e",
   "metadata": {},
   "outputs": [],
   "source": [
    "learn.fit(10, 1e-2)"
   ]
  },
  {
   "cell_type": "code",
   "execution_count": null,
   "id": "ff13d53e-5ded-48e0-a04e-65da28c2a797",
   "metadata": {},
   "outputs": [],
   "source": [
    "learn.model.transition_cov_raw"
   ]
  },
  {
   "cell_type": "code",
   "execution_count": null,
   "id": "b8e4a188-2aa2-4da4-b56a-f8a1fe82d46e",
   "metadata": {},
   "outputs": [],
   "source": [
    "posdef_log"
   ]
  },
  {
   "cell_type": "code",
   "execution_count": null,
   "id": "79b3d5da-7a8f-4fe1-a845-9245d7c32b1c",
   "metadata": {},
   "outputs": [],
   "source": [
    "len(obs_cov_history.params)"
   ]
  },
  {
   "cell_type": "code",
   "execution_count": null,
   "id": "fc41814b-ea5f-4b75-bc29-138c1a4c7e22",
   "metadata": {},
   "outputs": [],
   "source": [
    "obs_cov_history.params[-1]"
   ]
  },
  {
   "cell_type": "code",
   "execution_count": null,
   "id": "5c1f1269-34ed-4c40-a8e8-0b42298069d3",
   "metadata": {},
   "outputs": [],
   "source": [
    "torch.tensor(list(map(symmetric_upto, obs_cov_history.params)))"
   ]
  },
  {
   "cell_type": "code",
   "execution_count": null,
   "id": "92ea4785-e062-4f5f-a12f-964ea7e2fbff",
   "metadata": {},
   "outputs": [],
   "source": [
    "torch.linalg.eigvalsh(obs_cov_history.params[-1])"
   ]
  },
  {
   "cell_type": "code",
   "execution_count": null,
   "id": "94507f28-2e38-4ee1-9aee-080e6159cf48",
   "metadata": {},
   "outputs": [],
   "source": [
    "torch.linalg.cholesky_ex(obs_cov_history.params[-1])"
   ]
  },
  {
   "cell_type": "code",
   "execution_count": null,
   "id": "1f926f8b-81f6-4e7a-ae49-00d1dfce7f76",
   "metadata": {},
   "outputs": [],
   "source": [
    "tt = torch.tensor([[ 1.0696,  0.5199, -0.5249],\n",
    "        [ 0.5484,  1.1091,  0.5322],\n",
    "        [-0.5279,  0.5506,  1.0742]])"
   ]
  },
  {
   "cell_type": "code",
   "execution_count": null,
   "id": "0222db75-55c4-42e0-a238-9a6b500f503e",
   "metadata": {},
   "outputs": [],
   "source": [
    "torch.linalg.eigvalsh(tt)"
   ]
  },
  {
   "cell_type": "code",
   "execution_count": null,
   "id": "9ec6f82f-d981-4661-8dff-30060f2ab3a7",
   "metadata": {},
   "outputs": [],
   "source": [
    "symmetric_upto(tt)"
   ]
  },
  {
   "cell_type": "code",
   "execution_count": null,
   "id": "1078ee43-afa4-4045-9e44-7e12964135ea",
   "metadata": {},
   "outputs": [],
   "source": []
  },
  {
   "cell_type": "code",
   "execution_count": null,
   "id": "3c8b8689-7eb0-4439-8137-d9dd1cfc7d44",
   "metadata": {},
   "outputs": [],
   "source": [
    "texps = torch.tensor(exps).to(torch.float32)"
   ]
  },
  {
   "cell_type": "code",
   "execution_count": null,
   "id": "e86837f9-66db-43c2-a644-88946b2dfca0",
   "metadata": {},
   "outputs": [],
   "source": [
    "texps.mean()"
   ]
  },
  {
   "cell_type": "code",
   "execution_count": null,
   "id": "7aaa75c8-1623-43eb-945b-84ff2282ca29",
   "metadata": {},
   "outputs": [],
   "source": [
    "texps.max()"
   ]
  },
  {
   "cell_type": "code",
   "execution_count": null,
   "id": "2221e9b8-dbd7-423e-bfad-b9e274f15ee2",
   "metadata": {},
   "outputs": [],
   "source": [
    "plt.plot(texps[-1000:])"
   ]
  },
  {
   "cell_type": "code",
   "execution_count": null,
   "id": "a500af3d-2444-4cd2-8f9e-7955255b0e85",
   "metadata": {},
   "outputs": [],
   "source": [
    "plt.plot(texps)"
   ]
  },
  {
   "cell_type": "code",
   "execution_count": null,
   "id": "59a0e9c8-b06a-4688-b34f-8312b354396f",
   "metadata": {},
   "outputs": [],
   "source": [
    "is_posdef2(torch.tensor([[1.7827, 1.6112, 1.1352],\n",
    "        [1.6120, 1.4575, 1.0272],\n",
    "        [1.1364, 1.0269, 0.7395]]))"
   ]
  },
  {
   "cell_type": "code",
   "execution_count": null,
   "id": "56c3243e-765a-45a8-b610-aace958e92c5",
   "metadata": {},
   "outputs": [],
   "source": [
    "is_posdef2(learn.transition_cov)"
   ]
  },
  {
   "cell_type": "code",
   "execution_count": null,
   "id": "8973a9bb-5de6-413f-b9e1-95707dc58da1",
   "metadata": {},
   "outputs": [],
   "source": [
    "is_posdef2(learn.obs_cov)"
   ]
  },
  {
   "cell_type": "code",
   "execution_count": null,
   "id": "78c48204-b7ea-4856-b124-c1ef0be5422d",
   "metadata": {},
   "outputs": [],
   "source": [
    "is_posdef2(learn.initial_state_cov)"
   ]
  },
  {
   "cell_type": "markdown",
   "id": "06c0ee39-70a8-420e-aa70-33f5f5ef2263",
   "metadata": {},
   "source": [
    "this matrix makes no sense at all!!!"
   ]
  },
  {
   "cell_type": "code",
   "execution_count": null,
   "id": "d34bec9f-1a26-4df2-8f75-6a96501ec29c",
   "metadata": {},
   "outputs": [],
   "source": [
    "learn.obs_cov"
   ]
  },
  {
   "cell_type": "code",
   "execution_count": null,
   "id": "dc733f81-025e-4ab1-8010-09e0be83751c",
   "metadata": {},
   "outputs": [],
   "source": [
    "# torch.save(learn.model.state_dict(), \"partial_traning_15_dec_not_pos_def_error\")"
   ]
  },
  {
   "cell_type": "code",
   "execution_count": null,
   "id": "f33352c0-27c1-43ff-a201-3e5263630ef1",
   "metadata": {},
   "outputs": [],
   "source": [
    "learn.recorder.plot_loss()"
   ]
  },
  {
   "cell_type": "code",
   "execution_count": null,
   "id": "9d05ed56-987e-4583-9b88-360d60f9a900",
   "metadata": {},
   "outputs": [],
   "source": [
    "# learn.lr_find()"
   ]
  },
  {
   "cell_type": "code",
   "execution_count": null,
   "id": "ad2ae8e8",
   "metadata": {},
   "outputs": [],
   "source": [
    "display_as_row(learn.model.get_info())"
   ]
  },
  {
   "cell_type": "code",
   "execution_count": null,
   "id": "7e96647f-f8aa-4a37-a8ae-79c6dd10cae3",
   "metadata": {},
   "outputs": [],
   "source": [
    "learn.show_results()"
   ]
  },
  {
   "cell_type": "code",
   "execution_count": null,
   "id": "39aa7817-b919-4afe-9fac-1ec427f5f17b",
   "metadata": {},
   "outputs": [],
   "source": []
  }
 ],
 "metadata": {
  "kernelspec": {
   "display_name": "data_science",
   "language": "python",
   "name": "data_science"
  },
  "widgets": {
   "application/vnd.jupyter.widget-state+json": {
    "state": {},
    "version_major": 2,
    "version_minor": 0
   }
  }
 },
 "nbformat": 4,
 "nbformat_minor": 5
}
