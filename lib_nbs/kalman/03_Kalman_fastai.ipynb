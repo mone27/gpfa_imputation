{
 "cells": [
  {
   "cell_type": "markdown",
   "id": "e8af5772-d828-4017-ae3b-5d530ac57586",
   "metadata": {},
   "source": [
    "# Implement Kalman model using FastAI\n",
    "\n",
    "> need to implement custom data preparation pipeline and loss function "
   ]
  },
  {
   "cell_type": "markdown",
   "id": "b0f3603c-74ec-41ba-a9dc-8fb08c2630cc",
   "metadata": {},
   "source": [
    "## Data Preparation"
   ]
  },
  {
   "cell_type": "markdown",
   "id": "df4ecbb3-f6ef-4344-95e7-5b566611d3f2",
   "metadata": {},
   "source": [
    "The aim of the data preparation pipeline is to:\n",
    "- take the original time series and split it into time blocks\n",
    "- for each block generate a random gap (need to figure out the properties of the gap)\n",
    "- split some time blocks for testing\n",
    "\n",
    "the input of the pipeline is:\n",
    "- a dataframe containing all observations\n",
    "\n",
    "the input of the model is:\n",
    "- observed data (potentially containing NaN where data is missing)\n",
    "- missing data mask (which is telling where the data is missing)\n",
    "- the data needs to be standardized"
   ]
  },
  {
   "cell_type": "code",
   "execution_count": null,
   "id": "b87acfa4-b43e-4cbe-9bc2-103a084ec5a2",
   "metadata": {},
   "outputs": [],
   "source": [
    "%load_ext autoreload\n",
    "%autoreload 2"
   ]
  },
  {
   "cell_type": "code",
   "execution_count": null,
   "id": "cca16380-45e6-479a-b8c3-e6f26ed9fdf3",
   "metadata": {},
   "outputs": [],
   "source": [
    "#| hide\n",
    "#| default_exp kalman.fastai"
   ]
  },
  {
   "cell_type": "code",
   "execution_count": null,
   "id": "6c8eade3",
   "metadata": {},
   "outputs": [],
   "source": [
    "from meteo_imp.utils import *"
   ]
  },
  {
   "cell_type": "code",
   "execution_count": null,
   "id": "c946534f",
   "metadata": {},
   "outputs": [],
   "source": [
    "reset_seed()"
   ]
  },
  {
   "cell_type": "code",
   "execution_count": null,
   "id": "bd2ec0dd-d8d3-4c64-91a7-909912be8087",
   "metadata": {},
   "outputs": [],
   "source": [
    "import torch"
   ]
  },
  {
   "cell_type": "code",
   "execution_count": null,
   "id": "131e1d0e-56f7-4c46-aadd-a9a9097bfe28",
   "metadata": {},
   "outputs": [],
   "source": [
    "from fastai.tabular.core import *\n",
    "from fastai.data.core import *"
   ]
  },
  {
   "cell_type": "code",
   "execution_count": null,
   "id": "f4d002d1-515b-4a2e-b402-e12919ca3b52",
   "metadata": {},
   "outputs": [],
   "source": [
    "from fastcore.transform import *\n",
    "from fastcore.basics import *\n",
    "from fastcore.foundation import *\n",
    "from fastcore.all import *"
   ]
  },
  {
   "cell_type": "code",
   "execution_count": null,
   "id": "61f7b6d7-df8f-41a7-9ac1-45add56ecb88",
   "metadata": {},
   "outputs": [],
   "source": [
    "from fastai.tabular import *"
   ]
  },
  {
   "cell_type": "code",
   "execution_count": null,
   "id": "03c20730-476f-4e75-ab71-08cefe625a78",
   "metadata": {},
   "outputs": [],
   "source": [
    "from meteo_imp.data import read_fluxnet_csv, hai_path"
   ]
  },
  {
   "cell_type": "code",
   "execution_count": null,
   "id": "e79e1f7b-bd8d-4c98-93cf-980917e00662",
   "metadata": {},
   "outputs": [],
   "source": [
    "from collections import namedtuple"
   ]
  },
  {
   "cell_type": "code",
   "execution_count": null,
   "id": "d7f48bb9-58ab-4d1a-97d9-b242f6542148",
   "metadata": {},
   "outputs": [],
   "source": [
    "@cache_disk(\"full_hai\")\n",
    "def load_data():\n",
    "    return read_fluxnet_csv(hai_path, None)\n",
    "\n",
    "hai = load_data()"
   ]
  },
  {
   "cell_type": "code",
   "execution_count": null,
   "id": "27ef7f1a-b815-40b4-96fb-201142dd5074",
   "metadata": {},
   "outputs": [],
   "source": [
    "import pandas as pd\n",
    "import numpy as np\n",
    "import matplotlib.pyplot as plt"
   ]
  },
  {
   "cell_type": "markdown",
   "id": "d17c4e2b-6175-4674-9437-9e8a75cadb35",
   "metadata": {},
   "source": [
    "### Blocks"
   ]
  },
  {
   "cell_type": "markdown",
   "id": "09346517-48ae-4872-b572-a095b7adcd19",
   "metadata": {},
   "source": [
    "the first step is to transfrom the original dataframe into blocks of a specified `block_len`\n",
    "\n",
    "two different strategies are possible:\n",
    "\n",
    "- contigous blocks\n",
    "- random block in the dataframe"
   ]
  },
  {
   "cell_type": "code",
   "execution_count": null,
   "id": "e4d73d6c-a82f-43c3-a8ff-cd6cfe644fac",
   "metadata": {},
   "outputs": [],
   "source": [
    "class BlockDfTransform(ItemTransform):\n",
    "    \"\"\"divide timeseries DataFrame into blocks\"\"\"\n",
    "    def __init__(self, df, block_len=200): \n",
    "        self.df = df \n",
    "        self.block_len = block_len\n",
    "        self.n = len(df)\n",
    "        \n",
    "    def encodes(self, i:int) -> pd.DataFrame:       \n",
    "        start = i * self.block_len\n",
    "        end = (i+1) * self.block_len\n",
    "        assert end <= self.n \n",
    "        \n",
    "        block = self.df[start:end]\n",
    "        \n",
    "        return block"
   ]
  },
  {
   "cell_type": "code",
   "execution_count": null,
   "id": "4e51eaf9-d972-4960-b5b3-03ddf4b139fa",
   "metadata": {},
   "outputs": [],
   "source": [
    "m = BlockDfTransform(hai[:100], 10)"
   ]
  },
  {
   "cell_type": "code",
   "execution_count": null,
   "id": "71c4f834-fb0f-4fb3-a13a-da01198a970a",
   "metadata": {},
   "outputs": [
    {
     "data": {
      "text/plain": [
       "BlockDfTransform:\n",
       "encodes: (int,object) -> encodes\n",
       "decodes: "
      ]
     },
     "execution_count": null,
     "metadata": {},
     "output_type": "execute_result"
    }
   ],
   "source": [
    "m"
   ]
  },
  {
   "cell_type": "code",
   "execution_count": null,
   "id": "db372f33-785c-4e99-8fe0-e439c24b004b",
   "metadata": {},
   "outputs": [
    {
     "data": {
      "text/html": [
       "<div>\n",
       "<style scoped>\n",
       "    .dataframe tbody tr th:only-of-type {\n",
       "        vertical-align: middle;\n",
       "    }\n",
       "\n",
       "    .dataframe tbody tr th {\n",
       "        vertical-align: top;\n",
       "    }\n",
       "\n",
       "    .dataframe thead th {\n",
       "        text-align: right;\n",
       "    }\n",
       "</style>\n",
       "<table border=\"1\" class=\"dataframe\">\n",
       "  <thead>\n",
       "    <tr style=\"text-align: right;\">\n",
       "      <th></th>\n",
       "      <th>TA</th>\n",
       "      <th>SW_IN</th>\n",
       "      <th>VPD</th>\n",
       "    </tr>\n",
       "    <tr>\n",
       "      <th>time</th>\n",
       "      <th></th>\n",
       "      <th></th>\n",
       "      <th></th>\n",
       "    </tr>\n",
       "  </thead>\n",
       "  <tbody>\n",
       "    <tr>\n",
       "      <th>2000-01-01 05:30:00</th>\n",
       "      <td>-0.23</td>\n",
       "      <td>0.00</td>\n",
       "      <td>0.138</td>\n",
       "    </tr>\n",
       "    <tr>\n",
       "      <th>2000-01-01 06:00:00</th>\n",
       "      <td>-0.23</td>\n",
       "      <td>0.00</td>\n",
       "      <td>0.122</td>\n",
       "    </tr>\n",
       "    <tr>\n",
       "      <th>2000-01-01 06:30:00</th>\n",
       "      <td>-0.22</td>\n",
       "      <td>0.00</td>\n",
       "      <td>0.098</td>\n",
       "    </tr>\n",
       "    <tr>\n",
       "      <th>2000-01-01 07:00:00</th>\n",
       "      <td>-0.24</td>\n",
       "      <td>0.00</td>\n",
       "      <td>0.066</td>\n",
       "    </tr>\n",
       "    <tr>\n",
       "      <th>2000-01-01 07:30:00</th>\n",
       "      <td>-0.23</td>\n",
       "      <td>0.00</td>\n",
       "      <td>0.044</td>\n",
       "    </tr>\n",
       "    <tr>\n",
       "      <th>2000-01-01 08:00:00</th>\n",
       "      <td>-0.22</td>\n",
       "      <td>0.00</td>\n",
       "      <td>0.026</td>\n",
       "    </tr>\n",
       "    <tr>\n",
       "      <th>2000-01-01 08:30:00</th>\n",
       "      <td>-0.19</td>\n",
       "      <td>0.45</td>\n",
       "      <td>0.016</td>\n",
       "    </tr>\n",
       "    <tr>\n",
       "      <th>2000-01-01 09:00:00</th>\n",
       "      <td>-0.14</td>\n",
       "      <td>3.70</td>\n",
       "      <td>0.010</td>\n",
       "    </tr>\n",
       "    <tr>\n",
       "      <th>2000-01-01 09:30:00</th>\n",
       "      <td>-0.03</td>\n",
       "      <td>7.26</td>\n",
       "      <td>0.006</td>\n",
       "    </tr>\n",
       "    <tr>\n",
       "      <th>2000-01-01 10:00:00</th>\n",
       "      <td>0.04</td>\n",
       "      <td>12.24</td>\n",
       "      <td>0.006</td>\n",
       "    </tr>\n",
       "  </tbody>\n",
       "</table>\n",
       "</div>"
      ],
      "text/plain": [
       "                       TA  SW_IN    VPD\n",
       "time                                   \n",
       "2000-01-01 05:30:00 -0.23   0.00  0.138\n",
       "2000-01-01 06:00:00 -0.23   0.00  0.122\n",
       "2000-01-01 06:30:00 -0.22   0.00  0.098\n",
       "2000-01-01 07:00:00 -0.24   0.00  0.066\n",
       "2000-01-01 07:30:00 -0.23   0.00  0.044\n",
       "2000-01-01 08:00:00 -0.22   0.00  0.026\n",
       "2000-01-01 08:30:00 -0.19   0.45  0.016\n",
       "2000-01-01 09:00:00 -0.14   3.70  0.010\n",
       "2000-01-01 09:30:00 -0.03   7.26  0.006\n",
       "2000-01-01 10:00:00  0.04  12.24  0.006"
      ]
     },
     "execution_count": null,
     "metadata": {},
     "output_type": "execute_result"
    }
   ],
   "source": [
    "m(1)"
   ]
  },
  {
   "cell_type": "code",
   "execution_count": null,
   "id": "57479bbb-1a76-44d1-af82-0d3666d2ae7d",
   "metadata": {},
   "outputs": [
    {
     "data": {
      "text/html": [
       "<div>\n",
       "<style scoped>\n",
       "    .dataframe tbody tr th:only-of-type {\n",
       "        vertical-align: middle;\n",
       "    }\n",
       "\n",
       "    .dataframe tbody tr th {\n",
       "        vertical-align: top;\n",
       "    }\n",
       "\n",
       "    .dataframe thead th {\n",
       "        text-align: right;\n",
       "    }\n",
       "</style>\n",
       "<table border=\"1\" class=\"dataframe\">\n",
       "  <thead>\n",
       "    <tr style=\"text-align: right;\">\n",
       "      <th></th>\n",
       "      <th>TA</th>\n",
       "      <th>SW_IN</th>\n",
       "      <th>VPD</th>\n",
       "    </tr>\n",
       "    <tr>\n",
       "      <th>time</th>\n",
       "      <th></th>\n",
       "      <th></th>\n",
       "      <th></th>\n",
       "    </tr>\n",
       "  </thead>\n",
       "  <tbody>\n",
       "    <tr>\n",
       "      <th>2000-01-02 21:30:00</th>\n",
       "      <td>0.97</td>\n",
       "      <td>0.0</td>\n",
       "      <td>0.192</td>\n",
       "    </tr>\n",
       "    <tr>\n",
       "      <th>2000-01-02 22:00:00</th>\n",
       "      <td>0.85</td>\n",
       "      <td>0.0</td>\n",
       "      <td>0.149</td>\n",
       "    </tr>\n",
       "    <tr>\n",
       "      <th>2000-01-02 22:30:00</th>\n",
       "      <td>0.77</td>\n",
       "      <td>0.0</td>\n",
       "      <td>0.112</td>\n",
       "    </tr>\n",
       "    <tr>\n",
       "      <th>2000-01-02 23:00:00</th>\n",
       "      <td>0.63</td>\n",
       "      <td>0.0</td>\n",
       "      <td>0.075</td>\n",
       "    </tr>\n",
       "    <tr>\n",
       "      <th>2000-01-02 23:30:00</th>\n",
       "      <td>0.52</td>\n",
       "      <td>0.0</td>\n",
       "      <td>0.038</td>\n",
       "    </tr>\n",
       "    <tr>\n",
       "      <th>2000-01-03 00:00:00</th>\n",
       "      <td>0.48</td>\n",
       "      <td>0.0</td>\n",
       "      <td>0.021</td>\n",
       "    </tr>\n",
       "    <tr>\n",
       "      <th>2000-01-03 00:30:00</th>\n",
       "      <td>0.41</td>\n",
       "      <td>0.0</td>\n",
       "      <td>0.013</td>\n",
       "    </tr>\n",
       "    <tr>\n",
       "      <th>2000-01-03 01:00:00</th>\n",
       "      <td>0.29</td>\n",
       "      <td>0.0</td>\n",
       "      <td>0.004</td>\n",
       "    </tr>\n",
       "    <tr>\n",
       "      <th>2000-01-03 01:30:00</th>\n",
       "      <td>0.31</td>\n",
       "      <td>0.0</td>\n",
       "      <td>0.000</td>\n",
       "    </tr>\n",
       "    <tr>\n",
       "      <th>2000-01-03 02:00:00</th>\n",
       "      <td>0.42</td>\n",
       "      <td>0.0</td>\n",
       "      <td>0.000</td>\n",
       "    </tr>\n",
       "  </tbody>\n",
       "</table>\n",
       "</div>"
      ],
      "text/plain": [
       "                       TA  SW_IN    VPD\n",
       "time                                   \n",
       "2000-01-02 21:30:00  0.97    0.0  0.192\n",
       "2000-01-02 22:00:00  0.85    0.0  0.149\n",
       "2000-01-02 22:30:00  0.77    0.0  0.112\n",
       "2000-01-02 23:00:00  0.63    0.0  0.075\n",
       "2000-01-02 23:30:00  0.52    0.0  0.038\n",
       "2000-01-03 00:00:00  0.48    0.0  0.021\n",
       "2000-01-03 00:30:00  0.41    0.0  0.013\n",
       "2000-01-03 01:00:00  0.29    0.0  0.004\n",
       "2000-01-03 01:30:00  0.31    0.0  0.000\n",
       "2000-01-03 02:00:00  0.42    0.0  0.000"
      ]
     },
     "execution_count": null,
     "metadata": {},
     "output_type": "execute_result"
    }
   ],
   "source": [
    "m(9)"
   ]
  },
  {
   "cell_type": "markdown",
   "id": "cc7af1e4-516c-4536-ab92-a5d19eec00fc",
   "metadata": {},
   "source": [
    "### Gaps"
   ]
  },
  {
   "cell_type": "markdown",
   "id": "f2fe95d9-43bb-4174-8b9d-d5e87fdc3930",
   "metadata": {},
   "source": [
    "adds a mask which includes a random gap"
   ]
  },
  {
   "cell_type": "code",
   "execution_count": null,
   "id": "0c90ac7a-c0e8-4994-9268-8ae6c0739a84",
   "metadata": {},
   "outputs": [],
   "source": [
    "#| exports\n",
    "def _make_random_gap(\n",
    "    gap_length: int, # The length of the gap\n",
    "    total_length: int, # The total number of observations\n",
    "    gap_start: int = None # Optional start of gap\n",
    "): # (total_length) array of bools to indicicate if the data is missing or not\n",
    "    \"Add a continous gap of ginve length at random position\"\n",
    "    if(gap_length >= total_length):\n",
    "        return np.repeat(True, total_length)\n",
    "    gap_start = np.random.randint(total_length - gap_length) if gap_start is None else gap_start\n",
    "    return np.hstack([\n",
    "        np.repeat(False, gap_start),\n",
    "        np.repeat(True, gap_length),\n",
    "        np.repeat(False, total_length - (gap_length + gap_start))\n",
    "    ])"
   ]
  },
  {
   "cell_type": "code",
   "execution_count": null,
   "id": "0302d047-5adc-426e-94c2-1ced768a3a49",
   "metadata": {},
   "outputs": [],
   "source": [
    "from fastcore.basics import *"
   ]
  },
  {
   "cell_type": "code",
   "execution_count": null,
   "id": "54d55ad4-b9aa-41dd-bc26-d2bafa512311",
   "metadata": {},
   "outputs": [],
   "source": [
    "MaskedDf = namedtuple('MaskedDf', 'data mask')"
   ]
  },
  {
   "cell_type": "code",
   "execution_count": null,
   "id": "c71f35e5-ace8-41a6-806c-d5b14c520e7a",
   "metadata": {},
   "outputs": [],
   "source": [
    "class AddGapTransform(ItemTransform):\n",
    "    \"\"\"Adds a random gap to a `TimeSTensor`\"\"\"\n",
    "    def __init__(self,\n",
    "                variables,\n",
    "                gap_length,\n",
    "                ):\n",
    "        store_attr()\n",
    "    def encodes(self, df: pd.DataFrame):\n",
    "        gap = _make_random_gap(self.gap_length, df.shape[0])\n",
    "        mask = np.ones_like(df, dtype=bool)\n",
    "        col_sel = L(*df.columns).argwhere(lambda x: x in self.variables)\n",
    "        mask[np.argwhere(gap), col_sel] = False\n",
    "        return MaskedDf(df, pd.DataFrame(mask, index=df.index, columns=df.columns))"
   ]
  },
  {
   "cell_type": "code",
   "execution_count": null,
   "id": "47a56595-0fc1-4a7a-a9c6-38497079acb3",
   "metadata": {},
   "outputs": [
    {
     "data": {
      "text/plain": [
       "AddGapTransform:\n",
       "encodes: (DataFrame,object) -> encodes\n",
       "decodes: "
      ]
     },
     "execution_count": null,
     "metadata": {},
     "output_type": "execute_result"
    }
   ],
   "source": [
    "a_gap = AddGapTransform(['TA', 'VPD'], 5)\n",
    "a_gap"
   ]
  },
  {
   "cell_type": "code",
   "execution_count": null,
   "id": "27f2cc9f-4d0a-42a5-90bf-f4ca999918f7",
   "metadata": {},
   "outputs": [
    {
     "data": {
      "text/plain": [
       "MaskedDf(data=                       TA  SW_IN    VPD\n",
       "time                                   \n",
       "2000-01-01 05:30:00 -0.23   0.00  0.138\n",
       "2000-01-01 06:00:00 -0.23   0.00  0.122\n",
       "2000-01-01 06:30:00 -0.22   0.00  0.098\n",
       "2000-01-01 07:00:00 -0.24   0.00  0.066\n",
       "2000-01-01 07:30:00 -0.23   0.00  0.044\n",
       "2000-01-01 08:00:00 -0.22   0.00  0.026\n",
       "2000-01-01 08:30:00 -0.19   0.45  0.016\n",
       "2000-01-01 09:00:00 -0.14   3.70  0.010\n",
       "2000-01-01 09:30:00 -0.03   7.26  0.006\n",
       "2000-01-01 10:00:00  0.04  12.24  0.006, mask=                        TA  SW_IN    VPD\n",
       "time                                    \n",
       "2000-01-01 05:30:00   True   True   True\n",
       "2000-01-01 06:00:00   True   True   True\n",
       "2000-01-01 06:30:00   True   True   True\n",
       "2000-01-01 07:00:00  False   True  False\n",
       "2000-01-01 07:30:00  False   True  False\n",
       "2000-01-01 08:00:00  False   True  False\n",
       "2000-01-01 08:30:00  False   True  False\n",
       "2000-01-01 09:00:00  False   True  False\n",
       "2000-01-01 09:30:00   True   True   True\n",
       "2000-01-01 10:00:00   True   True   True)"
      ]
     },
     "execution_count": null,
     "metadata": {},
     "output_type": "execute_result"
    }
   ],
   "source": [
    "a_gap(m(1))"
   ]
  },
  {
   "cell_type": "code",
   "execution_count": null,
   "id": "2841762f-ad13-4165-975f-934f9a38d5b6",
   "metadata": {},
   "outputs": [],
   "source": [
    "m_df = a_gap(m(3))"
   ]
  },
  {
   "cell_type": "code",
   "execution_count": null,
   "id": "219da54b-55ed-4543-bbbb-5d144d089bed",
   "metadata": {},
   "outputs": [
    {
     "data": {
      "text/html": [
       "<div>\n",
       "<style scoped>\n",
       "    .dataframe tbody tr th:only-of-type {\n",
       "        vertical-align: middle;\n",
       "    }\n",
       "\n",
       "    .dataframe tbody tr th {\n",
       "        vertical-align: top;\n",
       "    }\n",
       "\n",
       "    .dataframe thead th {\n",
       "        text-align: right;\n",
       "    }\n",
       "</style>\n",
       "<table border=\"1\" class=\"dataframe\">\n",
       "  <thead>\n",
       "    <tr style=\"text-align: right;\">\n",
       "      <th></th>\n",
       "      <th>TA</th>\n",
       "      <th>SW_IN</th>\n",
       "      <th>VPD</th>\n",
       "    </tr>\n",
       "    <tr>\n",
       "      <th>time</th>\n",
       "      <th></th>\n",
       "      <th></th>\n",
       "      <th></th>\n",
       "    </tr>\n",
       "  </thead>\n",
       "  <tbody>\n",
       "    <tr>\n",
       "      <th>2000-01-01 15:30:00</th>\n",
       "      <td>0.52</td>\n",
       "      <td>8.09</td>\n",
       "      <td>0.000</td>\n",
       "    </tr>\n",
       "    <tr>\n",
       "      <th>2000-01-01 16:00:00</th>\n",
       "      <td>0.57</td>\n",
       "      <td>6.37</td>\n",
       "      <td>0.000</td>\n",
       "    </tr>\n",
       "    <tr>\n",
       "      <th>2000-01-01 16:30:00</th>\n",
       "      <td>0.73</td>\n",
       "      <td>1.72</td>\n",
       "      <td>0.000</td>\n",
       "    </tr>\n",
       "    <tr>\n",
       "      <th>2000-01-01 17:00:00</th>\n",
       "      <td>0.77</td>\n",
       "      <td>0.06</td>\n",
       "      <td>0.000</td>\n",
       "    </tr>\n",
       "    <tr>\n",
       "      <th>2000-01-01 17:30:00</th>\n",
       "      <td>0.84</td>\n",
       "      <td>0.00</td>\n",
       "      <td>0.000</td>\n",
       "    </tr>\n",
       "    <tr>\n",
       "      <th>2000-01-01 18:00:00</th>\n",
       "      <td>0.99</td>\n",
       "      <td>0.00</td>\n",
       "      <td>0.000</td>\n",
       "    </tr>\n",
       "    <tr>\n",
       "      <th>2000-01-01 18:30:00</th>\n",
       "      <td>1.35</td>\n",
       "      <td>0.00</td>\n",
       "      <td>0.000</td>\n",
       "    </tr>\n",
       "    <tr>\n",
       "      <th>2000-01-01 19:00:00</th>\n",
       "      <td>1.86</td>\n",
       "      <td>0.00</td>\n",
       "      <td>0.002</td>\n",
       "    </tr>\n",
       "    <tr>\n",
       "      <th>2000-01-01 19:30:00</th>\n",
       "      <td>2.01</td>\n",
       "      <td>0.00</td>\n",
       "      <td>0.009</td>\n",
       "    </tr>\n",
       "    <tr>\n",
       "      <th>2000-01-01 20:00:00</th>\n",
       "      <td>2.07</td>\n",
       "      <td>0.00</td>\n",
       "      <td>0.014</td>\n",
       "    </tr>\n",
       "  </tbody>\n",
       "</table>\n",
       "</div>"
      ],
      "text/plain": [
       "                       TA  SW_IN    VPD\n",
       "time                                   \n",
       "2000-01-01 15:30:00  0.52   8.09  0.000\n",
       "2000-01-01 16:00:00  0.57   6.37  0.000\n",
       "2000-01-01 16:30:00  0.73   1.72  0.000\n",
       "2000-01-01 17:00:00  0.77   0.06  0.000\n",
       "2000-01-01 17:30:00  0.84   0.00  0.000\n",
       "2000-01-01 18:00:00  0.99   0.00  0.000\n",
       "2000-01-01 18:30:00  1.35   0.00  0.000\n",
       "2000-01-01 19:00:00  1.86   0.00  0.002\n",
       "2000-01-01 19:30:00  2.01   0.00  0.009\n",
       "2000-01-01 20:00:00  2.07   0.00  0.014"
      ]
     },
     "execution_count": null,
     "metadata": {},
     "output_type": "execute_result"
    }
   ],
   "source": [
    "m_df.data"
   ]
  },
  {
   "cell_type": "code",
   "execution_count": null,
   "id": "68150c31-c394-42c5-8b1c-d4b3f3d48f93",
   "metadata": {},
   "outputs": [
    {
     "data": {
      "text/html": [
       "<div>\n",
       "<style scoped>\n",
       "    .dataframe tbody tr th:only-of-type {\n",
       "        vertical-align: middle;\n",
       "    }\n",
       "\n",
       "    .dataframe tbody tr th {\n",
       "        vertical-align: top;\n",
       "    }\n",
       "\n",
       "    .dataframe thead th {\n",
       "        text-align: right;\n",
       "    }\n",
       "</style>\n",
       "<table border=\"1\" class=\"dataframe\">\n",
       "  <thead>\n",
       "    <tr style=\"text-align: right;\">\n",
       "      <th></th>\n",
       "      <th>TA</th>\n",
       "      <th>SW_IN</th>\n",
       "      <th>VPD</th>\n",
       "    </tr>\n",
       "    <tr>\n",
       "      <th>time</th>\n",
       "      <th></th>\n",
       "      <th></th>\n",
       "      <th></th>\n",
       "    </tr>\n",
       "  </thead>\n",
       "  <tbody>\n",
       "    <tr>\n",
       "      <th>2000-01-01 15:30:00</th>\n",
       "      <td>False</td>\n",
       "      <td>True</td>\n",
       "      <td>False</td>\n",
       "    </tr>\n",
       "    <tr>\n",
       "      <th>2000-01-01 16:00:00</th>\n",
       "      <td>False</td>\n",
       "      <td>True</td>\n",
       "      <td>False</td>\n",
       "    </tr>\n",
       "    <tr>\n",
       "      <th>2000-01-01 16:30:00</th>\n",
       "      <td>False</td>\n",
       "      <td>True</td>\n",
       "      <td>False</td>\n",
       "    </tr>\n",
       "    <tr>\n",
       "      <th>2000-01-01 17:00:00</th>\n",
       "      <td>False</td>\n",
       "      <td>True</td>\n",
       "      <td>False</td>\n",
       "    </tr>\n",
       "    <tr>\n",
       "      <th>2000-01-01 17:30:00</th>\n",
       "      <td>False</td>\n",
       "      <td>True</td>\n",
       "      <td>False</td>\n",
       "    </tr>\n",
       "    <tr>\n",
       "      <th>2000-01-01 18:00:00</th>\n",
       "      <td>True</td>\n",
       "      <td>True</td>\n",
       "      <td>True</td>\n",
       "    </tr>\n",
       "    <tr>\n",
       "      <th>2000-01-01 18:30:00</th>\n",
       "      <td>True</td>\n",
       "      <td>True</td>\n",
       "      <td>True</td>\n",
       "    </tr>\n",
       "    <tr>\n",
       "      <th>2000-01-01 19:00:00</th>\n",
       "      <td>True</td>\n",
       "      <td>True</td>\n",
       "      <td>True</td>\n",
       "    </tr>\n",
       "    <tr>\n",
       "      <th>2000-01-01 19:30:00</th>\n",
       "      <td>True</td>\n",
       "      <td>True</td>\n",
       "      <td>True</td>\n",
       "    </tr>\n",
       "    <tr>\n",
       "      <th>2000-01-01 20:00:00</th>\n",
       "      <td>True</td>\n",
       "      <td>True</td>\n",
       "      <td>True</td>\n",
       "    </tr>\n",
       "  </tbody>\n",
       "</table>\n",
       "</div>"
      ],
      "text/plain": [
       "                        TA  SW_IN    VPD\n",
       "time                                    \n",
       "2000-01-01 15:30:00  False   True  False\n",
       "2000-01-01 16:00:00  False   True  False\n",
       "2000-01-01 16:30:00  False   True  False\n",
       "2000-01-01 17:00:00  False   True  False\n",
       "2000-01-01 17:30:00  False   True  False\n",
       "2000-01-01 18:00:00   True   True   True\n",
       "2000-01-01 18:30:00   True   True   True\n",
       "2000-01-01 19:00:00   True   True   True\n",
       "2000-01-01 19:30:00   True   True   True\n",
       "2000-01-01 20:00:00   True   True   True"
      ]
     },
     "execution_count": null,
     "metadata": {},
     "output_type": "execute_result"
    }
   ],
   "source": [
    "m_df.mask"
   ]
  },
  {
   "cell_type": "code",
   "execution_count": null,
   "id": "5952ccff-6433-48ca-8940-6ea872927cdc",
   "metadata": {},
   "outputs": [],
   "source": [
    "@patch\n",
    "def tidy(self: MaskedDf):\n",
    "    data = self.data.reset_index().melt(\"time\")\n",
    "    mask = self.mask.reset_index().melt(\"time\", value_name=\"is_present\")\n",
    "    \n",
    "    return pd.merge(data, mask, on=[\"time\", \"variable\"])"
   ]
  },
  {
   "cell_type": "code",
   "execution_count": null,
   "id": "c601c37c-a032-4edb-a522-50ce0af7b87d",
   "metadata": {},
   "outputs": [
    {
     "data": {
      "text/html": [
       "<div>\n",
       "<style scoped>\n",
       "    .dataframe tbody tr th:only-of-type {\n",
       "        vertical-align: middle;\n",
       "    }\n",
       "\n",
       "    .dataframe tbody tr th {\n",
       "        vertical-align: top;\n",
       "    }\n",
       "\n",
       "    .dataframe thead th {\n",
       "        text-align: right;\n",
       "    }\n",
       "</style>\n",
       "<table border=\"1\" class=\"dataframe\">\n",
       "  <thead>\n",
       "    <tr style=\"text-align: right;\">\n",
       "      <th></th>\n",
       "      <th>time</th>\n",
       "      <th>variable</th>\n",
       "      <th>value</th>\n",
       "      <th>is_present</th>\n",
       "    </tr>\n",
       "  </thead>\n",
       "  <tbody>\n",
       "    <tr>\n",
       "      <th>0</th>\n",
       "      <td>2000-01-01 15:30:00</td>\n",
       "      <td>TA</td>\n",
       "      <td>0.520</td>\n",
       "      <td>False</td>\n",
       "    </tr>\n",
       "    <tr>\n",
       "      <th>1</th>\n",
       "      <td>2000-01-01 16:00:00</td>\n",
       "      <td>TA</td>\n",
       "      <td>0.570</td>\n",
       "      <td>False</td>\n",
       "    </tr>\n",
       "    <tr>\n",
       "      <th>2</th>\n",
       "      <td>2000-01-01 16:30:00</td>\n",
       "      <td>TA</td>\n",
       "      <td>0.730</td>\n",
       "      <td>False</td>\n",
       "    </tr>\n",
       "    <tr>\n",
       "      <th>3</th>\n",
       "      <td>2000-01-01 17:00:00</td>\n",
       "      <td>TA</td>\n",
       "      <td>0.770</td>\n",
       "      <td>False</td>\n",
       "    </tr>\n",
       "    <tr>\n",
       "      <th>4</th>\n",
       "      <td>2000-01-01 17:30:00</td>\n",
       "      <td>TA</td>\n",
       "      <td>0.840</td>\n",
       "      <td>False</td>\n",
       "    </tr>\n",
       "    <tr>\n",
       "      <th>5</th>\n",
       "      <td>2000-01-01 18:00:00</td>\n",
       "      <td>TA</td>\n",
       "      <td>0.990</td>\n",
       "      <td>True</td>\n",
       "    </tr>\n",
       "    <tr>\n",
       "      <th>6</th>\n",
       "      <td>2000-01-01 18:30:00</td>\n",
       "      <td>TA</td>\n",
       "      <td>1.350</td>\n",
       "      <td>True</td>\n",
       "    </tr>\n",
       "    <tr>\n",
       "      <th>7</th>\n",
       "      <td>2000-01-01 19:00:00</td>\n",
       "      <td>TA</td>\n",
       "      <td>1.860</td>\n",
       "      <td>True</td>\n",
       "    </tr>\n",
       "    <tr>\n",
       "      <th>8</th>\n",
       "      <td>2000-01-01 19:30:00</td>\n",
       "      <td>TA</td>\n",
       "      <td>2.010</td>\n",
       "      <td>True</td>\n",
       "    </tr>\n",
       "    <tr>\n",
       "      <th>9</th>\n",
       "      <td>2000-01-01 20:00:00</td>\n",
       "      <td>TA</td>\n",
       "      <td>2.070</td>\n",
       "      <td>True</td>\n",
       "    </tr>\n",
       "    <tr>\n",
       "      <th>10</th>\n",
       "      <td>2000-01-01 15:30:00</td>\n",
       "      <td>SW_IN</td>\n",
       "      <td>8.090</td>\n",
       "      <td>True</td>\n",
       "    </tr>\n",
       "    <tr>\n",
       "      <th>11</th>\n",
       "      <td>2000-01-01 16:00:00</td>\n",
       "      <td>SW_IN</td>\n",
       "      <td>6.370</td>\n",
       "      <td>True</td>\n",
       "    </tr>\n",
       "    <tr>\n",
       "      <th>12</th>\n",
       "      <td>2000-01-01 16:30:00</td>\n",
       "      <td>SW_IN</td>\n",
       "      <td>1.720</td>\n",
       "      <td>True</td>\n",
       "    </tr>\n",
       "    <tr>\n",
       "      <th>13</th>\n",
       "      <td>2000-01-01 17:00:00</td>\n",
       "      <td>SW_IN</td>\n",
       "      <td>0.060</td>\n",
       "      <td>True</td>\n",
       "    </tr>\n",
       "    <tr>\n",
       "      <th>14</th>\n",
       "      <td>2000-01-01 17:30:00</td>\n",
       "      <td>SW_IN</td>\n",
       "      <td>0.000</td>\n",
       "      <td>True</td>\n",
       "    </tr>\n",
       "    <tr>\n",
       "      <th>15</th>\n",
       "      <td>2000-01-01 18:00:00</td>\n",
       "      <td>SW_IN</td>\n",
       "      <td>0.000</td>\n",
       "      <td>True</td>\n",
       "    </tr>\n",
       "    <tr>\n",
       "      <th>16</th>\n",
       "      <td>2000-01-01 18:30:00</td>\n",
       "      <td>SW_IN</td>\n",
       "      <td>0.000</td>\n",
       "      <td>True</td>\n",
       "    </tr>\n",
       "    <tr>\n",
       "      <th>17</th>\n",
       "      <td>2000-01-01 19:00:00</td>\n",
       "      <td>SW_IN</td>\n",
       "      <td>0.000</td>\n",
       "      <td>True</td>\n",
       "    </tr>\n",
       "    <tr>\n",
       "      <th>18</th>\n",
       "      <td>2000-01-01 19:30:00</td>\n",
       "      <td>SW_IN</td>\n",
       "      <td>0.000</td>\n",
       "      <td>True</td>\n",
       "    </tr>\n",
       "    <tr>\n",
       "      <th>19</th>\n",
       "      <td>2000-01-01 20:00:00</td>\n",
       "      <td>SW_IN</td>\n",
       "      <td>0.000</td>\n",
       "      <td>True</td>\n",
       "    </tr>\n",
       "    <tr>\n",
       "      <th>20</th>\n",
       "      <td>2000-01-01 15:30:00</td>\n",
       "      <td>VPD</td>\n",
       "      <td>0.000</td>\n",
       "      <td>False</td>\n",
       "    </tr>\n",
       "    <tr>\n",
       "      <th>21</th>\n",
       "      <td>2000-01-01 16:00:00</td>\n",
       "      <td>VPD</td>\n",
       "      <td>0.000</td>\n",
       "      <td>False</td>\n",
       "    </tr>\n",
       "    <tr>\n",
       "      <th>22</th>\n",
       "      <td>2000-01-01 16:30:00</td>\n",
       "      <td>VPD</td>\n",
       "      <td>0.000</td>\n",
       "      <td>False</td>\n",
       "    </tr>\n",
       "    <tr>\n",
       "      <th>23</th>\n",
       "      <td>2000-01-01 17:00:00</td>\n",
       "      <td>VPD</td>\n",
       "      <td>0.000</td>\n",
       "      <td>False</td>\n",
       "    </tr>\n",
       "    <tr>\n",
       "      <th>24</th>\n",
       "      <td>2000-01-01 17:30:00</td>\n",
       "      <td>VPD</td>\n",
       "      <td>0.000</td>\n",
       "      <td>False</td>\n",
       "    </tr>\n",
       "    <tr>\n",
       "      <th>25</th>\n",
       "      <td>2000-01-01 18:00:00</td>\n",
       "      <td>VPD</td>\n",
       "      <td>0.000</td>\n",
       "      <td>True</td>\n",
       "    </tr>\n",
       "    <tr>\n",
       "      <th>26</th>\n",
       "      <td>2000-01-01 18:30:00</td>\n",
       "      <td>VPD</td>\n",
       "      <td>0.000</td>\n",
       "      <td>True</td>\n",
       "    </tr>\n",
       "    <tr>\n",
       "      <th>27</th>\n",
       "      <td>2000-01-01 19:00:00</td>\n",
       "      <td>VPD</td>\n",
       "      <td>0.002</td>\n",
       "      <td>True</td>\n",
       "    </tr>\n",
       "    <tr>\n",
       "      <th>28</th>\n",
       "      <td>2000-01-01 19:30:00</td>\n",
       "      <td>VPD</td>\n",
       "      <td>0.009</td>\n",
       "      <td>True</td>\n",
       "    </tr>\n",
       "    <tr>\n",
       "      <th>29</th>\n",
       "      <td>2000-01-01 20:00:00</td>\n",
       "      <td>VPD</td>\n",
       "      <td>0.014</td>\n",
       "      <td>True</td>\n",
       "    </tr>\n",
       "  </tbody>\n",
       "</table>\n",
       "</div>"
      ],
      "text/plain": [
       "                  time variable  value  is_present\n",
       "0  2000-01-01 15:30:00       TA  0.520       False\n",
       "1  2000-01-01 16:00:00       TA  0.570       False\n",
       "2  2000-01-01 16:30:00       TA  0.730       False\n",
       "3  2000-01-01 17:00:00       TA  0.770       False\n",
       "4  2000-01-01 17:30:00       TA  0.840       False\n",
       "5  2000-01-01 18:00:00       TA  0.990        True\n",
       "6  2000-01-01 18:30:00       TA  1.350        True\n",
       "7  2000-01-01 19:00:00       TA  1.860        True\n",
       "8  2000-01-01 19:30:00       TA  2.010        True\n",
       "9  2000-01-01 20:00:00       TA  2.070        True\n",
       "10 2000-01-01 15:30:00    SW_IN  8.090        True\n",
       "11 2000-01-01 16:00:00    SW_IN  6.370        True\n",
       "12 2000-01-01 16:30:00    SW_IN  1.720        True\n",
       "13 2000-01-01 17:00:00    SW_IN  0.060        True\n",
       "14 2000-01-01 17:30:00    SW_IN  0.000        True\n",
       "15 2000-01-01 18:00:00    SW_IN  0.000        True\n",
       "16 2000-01-01 18:30:00    SW_IN  0.000        True\n",
       "17 2000-01-01 19:00:00    SW_IN  0.000        True\n",
       "18 2000-01-01 19:30:00    SW_IN  0.000        True\n",
       "19 2000-01-01 20:00:00    SW_IN  0.000        True\n",
       "20 2000-01-01 15:30:00      VPD  0.000       False\n",
       "21 2000-01-01 16:00:00      VPD  0.000       False\n",
       "22 2000-01-01 16:30:00      VPD  0.000       False\n",
       "23 2000-01-01 17:00:00      VPD  0.000       False\n",
       "24 2000-01-01 17:30:00      VPD  0.000       False\n",
       "25 2000-01-01 18:00:00      VPD  0.000        True\n",
       "26 2000-01-01 18:30:00      VPD  0.000        True\n",
       "27 2000-01-01 19:00:00      VPD  0.002        True\n",
       "28 2000-01-01 19:30:00      VPD  0.009        True\n",
       "29 2000-01-01 20:00:00      VPD  0.014        True"
      ]
     },
     "execution_count": null,
     "metadata": {},
     "output_type": "execute_result"
    }
   ],
   "source": [
    "m_df.tidy()"
   ]
  },
  {
   "cell_type": "code",
   "execution_count": null,
   "id": "f36f4825-52e4-49c7-92f1-14d64429e3ea",
   "metadata": {},
   "outputs": [],
   "source": [
    "import altair as alt\n",
    "from altair import datum"
   ]
  },
  {
   "cell_type": "code",
   "execution_count": null,
   "id": "51544d62-63ca-4e6c-b63e-943cc739fa5b",
   "metadata": {},
   "outputs": [],
   "source": [
    "def def_selection():\n",
    "    return alt.selection_interval(bind=\"scales\")"
   ]
  },
  {
   "cell_type": "code",
   "execution_count": null,
   "id": "7f1e483f-f250-4baf-82ee-3958f5cefba8",
   "metadata": {},
   "outputs": [],
   "source": [
    "def plot_rug(df, sel = def_selection(), props = {}):\n",
    "    if 'height' in props:\n",
    "        props = props.copy() \n",
    "        props.pop('height') # rug should have default heigth\n",
    "    return alt.Chart(df).mark_tick(\n",
    "            color='black',\n",
    "        ).encode(\n",
    "            x = \"time\",\n",
    "            color = alt.condition(datum.is_present, alt.value('white'), alt.value('black'))\n",
    "        ).add_selection(\n",
    "            sel\n",
    "        ).properties(**props) "
   ]
  },
  {
   "cell_type": "code",
   "execution_count": null,
   "id": "f9668bee-f4dd-48e6-92cd-4b96f1f3626e",
   "metadata": {},
   "outputs": [
    {
     "name": "stderr",
     "output_type": "stream",
     "text": [
      "/home/simone/.local/lib/python3.10/site-packages/altair/utils/core.py:317: FutureWarning: iteritems is deprecated and will be removed in a future version. Use .items instead.\n",
      "  for col_name, dtype in df.dtypes.iteritems():\n"
     ]
    },
    {
     "data": {
      "text/html": [
       "\n",
       "<div id=\"altair-viz-1534cea4459d4c5e822ca648d3c2db25\"></div>\n",
       "<script type=\"text/javascript\">\n",
       "  var VEGA_DEBUG = (typeof VEGA_DEBUG == \"undefined\") ? {} : VEGA_DEBUG;\n",
       "  (function(spec, embedOpt){\n",
       "    let outputDiv = document.currentScript.previousElementSibling;\n",
       "    if (outputDiv.id !== \"altair-viz-1534cea4459d4c5e822ca648d3c2db25\") {\n",
       "      outputDiv = document.getElementById(\"altair-viz-1534cea4459d4c5e822ca648d3c2db25\");\n",
       "    }\n",
       "    const paths = {\n",
       "      \"vega\": \"https://cdn.jsdelivr.net/npm//vega@5?noext\",\n",
       "      \"vega-lib\": \"https://cdn.jsdelivr.net/npm//vega-lib?noext\",\n",
       "      \"vega-lite\": \"https://cdn.jsdelivr.net/npm//vega-lite@4.17.0?noext\",\n",
       "      \"vega-embed\": \"https://cdn.jsdelivr.net/npm//vega-embed@6?noext\",\n",
       "    };\n",
       "\n",
       "    function maybeLoadScript(lib, version) {\n",
       "      var key = `${lib.replace(\"-\", \"\")}_version`;\n",
       "      return (VEGA_DEBUG[key] == version) ?\n",
       "        Promise.resolve(paths[lib]) :\n",
       "        new Promise(function(resolve, reject) {\n",
       "          var s = document.createElement('script');\n",
       "          document.getElementsByTagName(\"head\")[0].appendChild(s);\n",
       "          s.async = true;\n",
       "          s.onload = () => {\n",
       "            VEGA_DEBUG[key] = version;\n",
       "            return resolve(paths[lib]);\n",
       "          };\n",
       "          s.onerror = () => reject(`Error loading script: ${paths[lib]}`);\n",
       "          s.src = paths[lib];\n",
       "        });\n",
       "    }\n",
       "\n",
       "    function showError(err) {\n",
       "      outputDiv.innerHTML = `<div class=\"error\" style=\"color:red;\">${err}</div>`;\n",
       "      throw err;\n",
       "    }\n",
       "\n",
       "    function displayChart(vegaEmbed) {\n",
       "      vegaEmbed(outputDiv, spec, embedOpt)\n",
       "        .catch(err => showError(`Javascript Error: ${err.message}<br>This usually means there's a typo in your chart specification. See the javascript console for the full traceback.`));\n",
       "    }\n",
       "\n",
       "    if(typeof define === \"function\" && define.amd) {\n",
       "      requirejs.config({paths});\n",
       "      require([\"vega-embed\"], displayChart, err => showError(`Error loading script: ${err.message}`));\n",
       "    } else {\n",
       "      maybeLoadScript(\"vega\", \"5\")\n",
       "        .then(() => maybeLoadScript(\"vega-lite\", \"4.17.0\"))\n",
       "        .then(() => maybeLoadScript(\"vega-embed\", \"6\"))\n",
       "        .catch(showError)\n",
       "        .then(() => displayChart(vegaEmbed));\n",
       "    }\n",
       "  })({\"config\": {\"view\": {\"continuousWidth\": 400, \"continuousHeight\": 300}}, \"data\": {\"name\": \"data-8dbc285ff9e9a0880661cf5960fe4e06\"}, \"mark\": {\"type\": \"tick\", \"color\": \"black\"}, \"encoding\": {\"color\": {\"condition\": {\"value\": \"white\", \"test\": \"datum.is_present\"}, \"value\": \"black\"}, \"x\": {\"field\": \"time\", \"type\": \"temporal\"}}, \"selection\": {\"selector001\": {\"type\": \"interval\", \"bind\": \"scales\"}}, \"$schema\": \"https://vega.github.io/schema/vega-lite/v4.17.0.json\", \"datasets\": {\"data-8dbc285ff9e9a0880661cf5960fe4e06\": [{\"time\": \"2000-01-01T15:30:00\", \"variable\": \"TA\", \"value\": 0.5199999809265137, \"is_present\": false}, {\"time\": \"2000-01-01T16:00:00\", \"variable\": \"TA\", \"value\": 0.5699999928474426, \"is_present\": false}, {\"time\": \"2000-01-01T16:30:00\", \"variable\": \"TA\", \"value\": 0.7300000190734863, \"is_present\": false}, {\"time\": \"2000-01-01T17:00:00\", \"variable\": \"TA\", \"value\": 0.7699999809265137, \"is_present\": false}, {\"time\": \"2000-01-01T17:30:00\", \"variable\": \"TA\", \"value\": 0.8399999737739563, \"is_present\": false}, {\"time\": \"2000-01-01T18:00:00\", \"variable\": \"TA\", \"value\": 0.9900000095367432, \"is_present\": true}, {\"time\": \"2000-01-01T18:30:00\", \"variable\": \"TA\", \"value\": 1.350000023841858, \"is_present\": true}, {\"time\": \"2000-01-01T19:00:00\", \"variable\": \"TA\", \"value\": 1.8600000143051147, \"is_present\": true}, {\"time\": \"2000-01-01T19:30:00\", \"variable\": \"TA\", \"value\": 2.009999990463257, \"is_present\": true}, {\"time\": \"2000-01-01T20:00:00\", \"variable\": \"TA\", \"value\": 2.069999933242798, \"is_present\": true}, {\"time\": \"2000-01-01T15:30:00\", \"variable\": \"SW_IN\", \"value\": 8.09000015258789, \"is_present\": true}, {\"time\": \"2000-01-01T16:00:00\", \"variable\": \"SW_IN\", \"value\": 6.369999885559082, \"is_present\": true}, {\"time\": \"2000-01-01T16:30:00\", \"variable\": \"SW_IN\", \"value\": 1.7200000286102295, \"is_present\": true}, {\"time\": \"2000-01-01T17:00:00\", \"variable\": \"SW_IN\", \"value\": 0.05999999865889549, \"is_present\": true}, {\"time\": \"2000-01-01T17:30:00\", \"variable\": \"SW_IN\", \"value\": 0.0, \"is_present\": true}, {\"time\": \"2000-01-01T18:00:00\", \"variable\": \"SW_IN\", \"value\": 0.0, \"is_present\": true}, {\"time\": \"2000-01-01T18:30:00\", \"variable\": \"SW_IN\", \"value\": 0.0, \"is_present\": true}, {\"time\": \"2000-01-01T19:00:00\", \"variable\": \"SW_IN\", \"value\": 0.0, \"is_present\": true}, {\"time\": \"2000-01-01T19:30:00\", \"variable\": \"SW_IN\", \"value\": 0.0, \"is_present\": true}, {\"time\": \"2000-01-01T20:00:00\", \"variable\": \"SW_IN\", \"value\": 0.0, \"is_present\": true}, {\"time\": \"2000-01-01T15:30:00\", \"variable\": \"VPD\", \"value\": 0.0, \"is_present\": false}, {\"time\": \"2000-01-01T16:00:00\", \"variable\": \"VPD\", \"value\": 0.0, \"is_present\": false}, {\"time\": \"2000-01-01T16:30:00\", \"variable\": \"VPD\", \"value\": 0.0, \"is_present\": false}, {\"time\": \"2000-01-01T17:00:00\", \"variable\": \"VPD\", \"value\": 0.0, \"is_present\": false}, {\"time\": \"2000-01-01T17:30:00\", \"variable\": \"VPD\", \"value\": 0.0, \"is_present\": false}, {\"time\": \"2000-01-01T18:00:00\", \"variable\": \"VPD\", \"value\": 0.0, \"is_present\": true}, {\"time\": \"2000-01-01T18:30:00\", \"variable\": \"VPD\", \"value\": 0.0, \"is_present\": true}, {\"time\": \"2000-01-01T19:00:00\", \"variable\": \"VPD\", \"value\": 0.0020000000949949026, \"is_present\": true}, {\"time\": \"2000-01-01T19:30:00\", \"variable\": \"VPD\", \"value\": 0.008999999612569809, \"is_present\": true}, {\"time\": \"2000-01-01T20:00:00\", \"variable\": \"VPD\", \"value\": 0.014000000432133675, \"is_present\": true}]}}, {\"mode\": \"vega-lite\"});\n",
       "</script>"
      ],
      "text/plain": [
       "alt.Chart(...)"
      ]
     },
     "execution_count": null,
     "metadata": {},
     "output_type": "execute_result"
    }
   ],
   "source": [
    "plot_rug(m_df.tidy())"
   ]
  },
  {
   "cell_type": "code",
   "execution_count": null,
   "id": "52f438da-c85f-40e7-bdac-c08bce559cc3",
   "metadata": {},
   "outputs": [],
   "source": [
    "def plot_points(df, y_label = \"\", sel = def_selection(), props = {}):\n",
    "    return alt.Chart(df).mark_point(\n",
    "            color='black',\n",
    "            strokeWidth = 1,\n",
    "            fillOpacity = 1\n",
    "        ).encode(\n",
    "            x = alt.X(\"time\", axis=alt.Axis(domain=False, labels = False, ticks=False, title=None)),\n",
    "            y = alt.Y(\"value\", title = y_label, scale=alt.Scale(zero=False)),\n",
    "            fill= alt.Fill(\"is_present\", scale = alt.Scale(range=[\"black\", \"#ffffff00\"]),\n",
    "                           legend = alt.Legend(title =[\"Observed data\"])),\n",
    "            shape = \"is_present\",\n",
    "        )"
   ]
  },
  {
   "cell_type": "code",
   "execution_count": null,
   "id": "530d054b-120d-4883-9692-ff2518adabbf",
   "metadata": {},
   "outputs": [
    {
     "name": "stderr",
     "output_type": "stream",
     "text": [
      "/home/simone/.local/lib/python3.10/site-packages/altair/utils/core.py:317: FutureWarning: iteritems is deprecated and will be removed in a future version. Use .items instead.\n",
      "  for col_name, dtype in df.dtypes.iteritems():\n"
     ]
    },
    {
     "data": {
      "text/html": [
       "\n",
       "<div id=\"altair-viz-e1ddb539791e4e7cbb70e34609049c70\"></div>\n",
       "<script type=\"text/javascript\">\n",
       "  var VEGA_DEBUG = (typeof VEGA_DEBUG == \"undefined\") ? {} : VEGA_DEBUG;\n",
       "  (function(spec, embedOpt){\n",
       "    let outputDiv = document.currentScript.previousElementSibling;\n",
       "    if (outputDiv.id !== \"altair-viz-e1ddb539791e4e7cbb70e34609049c70\") {\n",
       "      outputDiv = document.getElementById(\"altair-viz-e1ddb539791e4e7cbb70e34609049c70\");\n",
       "    }\n",
       "    const paths = {\n",
       "      \"vega\": \"https://cdn.jsdelivr.net/npm//vega@5?noext\",\n",
       "      \"vega-lib\": \"https://cdn.jsdelivr.net/npm//vega-lib?noext\",\n",
       "      \"vega-lite\": \"https://cdn.jsdelivr.net/npm//vega-lite@4.17.0?noext\",\n",
       "      \"vega-embed\": \"https://cdn.jsdelivr.net/npm//vega-embed@6?noext\",\n",
       "    };\n",
       "\n",
       "    function maybeLoadScript(lib, version) {\n",
       "      var key = `${lib.replace(\"-\", \"\")}_version`;\n",
       "      return (VEGA_DEBUG[key] == version) ?\n",
       "        Promise.resolve(paths[lib]) :\n",
       "        new Promise(function(resolve, reject) {\n",
       "          var s = document.createElement('script');\n",
       "          document.getElementsByTagName(\"head\")[0].appendChild(s);\n",
       "          s.async = true;\n",
       "          s.onload = () => {\n",
       "            VEGA_DEBUG[key] = version;\n",
       "            return resolve(paths[lib]);\n",
       "          };\n",
       "          s.onerror = () => reject(`Error loading script: ${paths[lib]}`);\n",
       "          s.src = paths[lib];\n",
       "        });\n",
       "    }\n",
       "\n",
       "    function showError(err) {\n",
       "      outputDiv.innerHTML = `<div class=\"error\" style=\"color:red;\">${err}</div>`;\n",
       "      throw err;\n",
       "    }\n",
       "\n",
       "    function displayChart(vegaEmbed) {\n",
       "      vegaEmbed(outputDiv, spec, embedOpt)\n",
       "        .catch(err => showError(`Javascript Error: ${err.message}<br>This usually means there's a typo in your chart specification. See the javascript console for the full traceback.`));\n",
       "    }\n",
       "\n",
       "    if(typeof define === \"function\" && define.amd) {\n",
       "      requirejs.config({paths});\n",
       "      require([\"vega-embed\"], displayChart, err => showError(`Error loading script: ${err.message}`));\n",
       "    } else {\n",
       "      maybeLoadScript(\"vega\", \"5\")\n",
       "        .then(() => maybeLoadScript(\"vega-lite\", \"4.17.0\"))\n",
       "        .then(() => maybeLoadScript(\"vega-embed\", \"6\"))\n",
       "        .catch(showError)\n",
       "        .then(() => displayChart(vegaEmbed));\n",
       "    }\n",
       "  })({\"config\": {\"view\": {\"continuousWidth\": 400, \"continuousHeight\": 300}}, \"data\": {\"name\": \"data-8dbc285ff9e9a0880661cf5960fe4e06\"}, \"mark\": {\"type\": \"point\", \"color\": \"black\", \"fillOpacity\": 1, \"strokeWidth\": 1}, \"encoding\": {\"fill\": {\"field\": \"is_present\", \"legend\": {\"title\": [\"Observed data\"]}, \"scale\": {\"range\": [\"black\", \"#ffffff00\"]}, \"type\": \"nominal\"}, \"shape\": {\"field\": \"is_present\", \"type\": \"nominal\"}, \"x\": {\"axis\": {\"domain\": false, \"labels\": false, \"ticks\": false, \"title\": null}, \"field\": \"time\", \"type\": \"temporal\"}, \"y\": {\"field\": \"value\", \"scale\": {\"zero\": false}, \"title\": \"\", \"type\": \"quantitative\"}}, \"$schema\": \"https://vega.github.io/schema/vega-lite/v4.17.0.json\", \"datasets\": {\"data-8dbc285ff9e9a0880661cf5960fe4e06\": [{\"time\": \"2000-01-01T15:30:00\", \"variable\": \"TA\", \"value\": 0.5199999809265137, \"is_present\": false}, {\"time\": \"2000-01-01T16:00:00\", \"variable\": \"TA\", \"value\": 0.5699999928474426, \"is_present\": false}, {\"time\": \"2000-01-01T16:30:00\", \"variable\": \"TA\", \"value\": 0.7300000190734863, \"is_present\": false}, {\"time\": \"2000-01-01T17:00:00\", \"variable\": \"TA\", \"value\": 0.7699999809265137, \"is_present\": false}, {\"time\": \"2000-01-01T17:30:00\", \"variable\": \"TA\", \"value\": 0.8399999737739563, \"is_present\": false}, {\"time\": \"2000-01-01T18:00:00\", \"variable\": \"TA\", \"value\": 0.9900000095367432, \"is_present\": true}, {\"time\": \"2000-01-01T18:30:00\", \"variable\": \"TA\", \"value\": 1.350000023841858, \"is_present\": true}, {\"time\": \"2000-01-01T19:00:00\", \"variable\": \"TA\", \"value\": 1.8600000143051147, \"is_present\": true}, {\"time\": \"2000-01-01T19:30:00\", \"variable\": \"TA\", \"value\": 2.009999990463257, \"is_present\": true}, {\"time\": \"2000-01-01T20:00:00\", \"variable\": \"TA\", \"value\": 2.069999933242798, \"is_present\": true}, {\"time\": \"2000-01-01T15:30:00\", \"variable\": \"SW_IN\", \"value\": 8.09000015258789, \"is_present\": true}, {\"time\": \"2000-01-01T16:00:00\", \"variable\": \"SW_IN\", \"value\": 6.369999885559082, \"is_present\": true}, {\"time\": \"2000-01-01T16:30:00\", \"variable\": \"SW_IN\", \"value\": 1.7200000286102295, \"is_present\": true}, {\"time\": \"2000-01-01T17:00:00\", \"variable\": \"SW_IN\", \"value\": 0.05999999865889549, \"is_present\": true}, {\"time\": \"2000-01-01T17:30:00\", \"variable\": \"SW_IN\", \"value\": 0.0, \"is_present\": true}, {\"time\": \"2000-01-01T18:00:00\", \"variable\": \"SW_IN\", \"value\": 0.0, \"is_present\": true}, {\"time\": \"2000-01-01T18:30:00\", \"variable\": \"SW_IN\", \"value\": 0.0, \"is_present\": true}, {\"time\": \"2000-01-01T19:00:00\", \"variable\": \"SW_IN\", \"value\": 0.0, \"is_present\": true}, {\"time\": \"2000-01-01T19:30:00\", \"variable\": \"SW_IN\", \"value\": 0.0, \"is_present\": true}, {\"time\": \"2000-01-01T20:00:00\", \"variable\": \"SW_IN\", \"value\": 0.0, \"is_present\": true}, {\"time\": \"2000-01-01T15:30:00\", \"variable\": \"VPD\", \"value\": 0.0, \"is_present\": false}, {\"time\": \"2000-01-01T16:00:00\", \"variable\": \"VPD\", \"value\": 0.0, \"is_present\": false}, {\"time\": \"2000-01-01T16:30:00\", \"variable\": \"VPD\", \"value\": 0.0, \"is_present\": false}, {\"time\": \"2000-01-01T17:00:00\", \"variable\": \"VPD\", \"value\": 0.0, \"is_present\": false}, {\"time\": \"2000-01-01T17:30:00\", \"variable\": \"VPD\", \"value\": 0.0, \"is_present\": false}, {\"time\": \"2000-01-01T18:00:00\", \"variable\": \"VPD\", \"value\": 0.0, \"is_present\": true}, {\"time\": \"2000-01-01T18:30:00\", \"variable\": \"VPD\", \"value\": 0.0, \"is_present\": true}, {\"time\": \"2000-01-01T19:00:00\", \"variable\": \"VPD\", \"value\": 0.0020000000949949026, \"is_present\": true}, {\"time\": \"2000-01-01T19:30:00\", \"variable\": \"VPD\", \"value\": 0.008999999612569809, \"is_present\": true}, {\"time\": \"2000-01-01T20:00:00\", \"variable\": \"VPD\", \"value\": 0.014000000432133675, \"is_present\": true}]}}, {\"mode\": \"vega-lite\"});\n",
       "</script>"
      ],
      "text/plain": [
       "alt.Chart(...)"
      ]
     },
     "execution_count": null,
     "metadata": {},
     "output_type": "execute_result"
    }
   ],
   "source": [
    "plot_points(m_df.tidy())"
   ]
  },
  {
   "cell_type": "code",
   "execution_count": null,
   "id": "e7f9912e-eee1-40a6-9eb3-4b010a5278c5",
   "metadata": {},
   "outputs": [],
   "source": [
    "def plot_line(df, only_present=True, y_label = \"\", sel = def_selection(), props = {}):\n",
    "    # df = df[df.is_present] if only_present else df\n",
    "    # TODO remove onle_present\n",
    "    return alt.Chart(df).mark_line().encode(\n",
    "        x = \"time\",    \n",
    "        y = alt.Y(\"value\", title = y_label, scale=alt.Scale(zero=False)),\n",
    "        color='variable'\n",
    "    ).add_selection(\n",
    "        sel\n",
    "    ).properties(\n",
    "        **props\n",
    "    )#.transform_filter(\n",
    "    #     datum.is_present\n",
    "    # )\n",
    "\n",
    "    "
   ]
  },
  {
   "cell_type": "code",
   "execution_count": null,
   "id": "c4723d86-f673-4cfa-ae8a-58fcc542930a",
   "metadata": {},
   "outputs": [
    {
     "name": "stderr",
     "output_type": "stream",
     "text": [
      "/home/simone/.local/lib/python3.10/site-packages/altair/utils/core.py:317: FutureWarning: iteritems is deprecated and will be removed in a future version. Use .items instead.\n",
      "  for col_name, dtype in df.dtypes.iteritems():\n"
     ]
    },
    {
     "data": {
      "text/html": [
       "\n",
       "<div id=\"altair-viz-db8cb5d17af247b18285a3e6a639fac4\"></div>\n",
       "<script type=\"text/javascript\">\n",
       "  var VEGA_DEBUG = (typeof VEGA_DEBUG == \"undefined\") ? {} : VEGA_DEBUG;\n",
       "  (function(spec, embedOpt){\n",
       "    let outputDiv = document.currentScript.previousElementSibling;\n",
       "    if (outputDiv.id !== \"altair-viz-db8cb5d17af247b18285a3e6a639fac4\") {\n",
       "      outputDiv = document.getElementById(\"altair-viz-db8cb5d17af247b18285a3e6a639fac4\");\n",
       "    }\n",
       "    const paths = {\n",
       "      \"vega\": \"https://cdn.jsdelivr.net/npm//vega@5?noext\",\n",
       "      \"vega-lib\": \"https://cdn.jsdelivr.net/npm//vega-lib?noext\",\n",
       "      \"vega-lite\": \"https://cdn.jsdelivr.net/npm//vega-lite@4.17.0?noext\",\n",
       "      \"vega-embed\": \"https://cdn.jsdelivr.net/npm//vega-embed@6?noext\",\n",
       "    };\n",
       "\n",
       "    function maybeLoadScript(lib, version) {\n",
       "      var key = `${lib.replace(\"-\", \"\")}_version`;\n",
       "      return (VEGA_DEBUG[key] == version) ?\n",
       "        Promise.resolve(paths[lib]) :\n",
       "        new Promise(function(resolve, reject) {\n",
       "          var s = document.createElement('script');\n",
       "          document.getElementsByTagName(\"head\")[0].appendChild(s);\n",
       "          s.async = true;\n",
       "          s.onload = () => {\n",
       "            VEGA_DEBUG[key] = version;\n",
       "            return resolve(paths[lib]);\n",
       "          };\n",
       "          s.onerror = () => reject(`Error loading script: ${paths[lib]}`);\n",
       "          s.src = paths[lib];\n",
       "        });\n",
       "    }\n",
       "\n",
       "    function showError(err) {\n",
       "      outputDiv.innerHTML = `<div class=\"error\" style=\"color:red;\">${err}</div>`;\n",
       "      throw err;\n",
       "    }\n",
       "\n",
       "    function displayChart(vegaEmbed) {\n",
       "      vegaEmbed(outputDiv, spec, embedOpt)\n",
       "        .catch(err => showError(`Javascript Error: ${err.message}<br>This usually means there's a typo in your chart specification. See the javascript console for the full traceback.`));\n",
       "    }\n",
       "\n",
       "    if(typeof define === \"function\" && define.amd) {\n",
       "      requirejs.config({paths});\n",
       "      require([\"vega-embed\"], displayChart, err => showError(`Error loading script: ${err.message}`));\n",
       "    } else {\n",
       "      maybeLoadScript(\"vega\", \"5\")\n",
       "        .then(() => maybeLoadScript(\"vega-lite\", \"4.17.0\"))\n",
       "        .then(() => maybeLoadScript(\"vega-embed\", \"6\"))\n",
       "        .catch(showError)\n",
       "        .then(() => displayChart(vegaEmbed));\n",
       "    }\n",
       "  })({\"config\": {\"view\": {\"continuousWidth\": 400, \"continuousHeight\": 300}}, \"data\": {\"name\": \"data-8dbc285ff9e9a0880661cf5960fe4e06\"}, \"mark\": \"line\", \"encoding\": {\"color\": {\"field\": \"variable\", \"type\": \"nominal\"}, \"x\": {\"field\": \"time\", \"type\": \"temporal\"}, \"y\": {\"field\": \"value\", \"scale\": {\"zero\": false}, \"title\": \"\", \"type\": \"quantitative\"}}, \"selection\": {\"selector003\": {\"type\": \"interval\", \"bind\": \"scales\"}}, \"$schema\": \"https://vega.github.io/schema/vega-lite/v4.17.0.json\", \"datasets\": {\"data-8dbc285ff9e9a0880661cf5960fe4e06\": [{\"time\": \"2000-01-01T15:30:00\", \"variable\": \"TA\", \"value\": 0.5199999809265137, \"is_present\": false}, {\"time\": \"2000-01-01T16:00:00\", \"variable\": \"TA\", \"value\": 0.5699999928474426, \"is_present\": false}, {\"time\": \"2000-01-01T16:30:00\", \"variable\": \"TA\", \"value\": 0.7300000190734863, \"is_present\": false}, {\"time\": \"2000-01-01T17:00:00\", \"variable\": \"TA\", \"value\": 0.7699999809265137, \"is_present\": false}, {\"time\": \"2000-01-01T17:30:00\", \"variable\": \"TA\", \"value\": 0.8399999737739563, \"is_present\": false}, {\"time\": \"2000-01-01T18:00:00\", \"variable\": \"TA\", \"value\": 0.9900000095367432, \"is_present\": true}, {\"time\": \"2000-01-01T18:30:00\", \"variable\": \"TA\", \"value\": 1.350000023841858, \"is_present\": true}, {\"time\": \"2000-01-01T19:00:00\", \"variable\": \"TA\", \"value\": 1.8600000143051147, \"is_present\": true}, {\"time\": \"2000-01-01T19:30:00\", \"variable\": \"TA\", \"value\": 2.009999990463257, \"is_present\": true}, {\"time\": \"2000-01-01T20:00:00\", \"variable\": \"TA\", \"value\": 2.069999933242798, \"is_present\": true}, {\"time\": \"2000-01-01T15:30:00\", \"variable\": \"SW_IN\", \"value\": 8.09000015258789, \"is_present\": true}, {\"time\": \"2000-01-01T16:00:00\", \"variable\": \"SW_IN\", \"value\": 6.369999885559082, \"is_present\": true}, {\"time\": \"2000-01-01T16:30:00\", \"variable\": \"SW_IN\", \"value\": 1.7200000286102295, \"is_present\": true}, {\"time\": \"2000-01-01T17:00:00\", \"variable\": \"SW_IN\", \"value\": 0.05999999865889549, \"is_present\": true}, {\"time\": \"2000-01-01T17:30:00\", \"variable\": \"SW_IN\", \"value\": 0.0, \"is_present\": true}, {\"time\": \"2000-01-01T18:00:00\", \"variable\": \"SW_IN\", \"value\": 0.0, \"is_present\": true}, {\"time\": \"2000-01-01T18:30:00\", \"variable\": \"SW_IN\", \"value\": 0.0, \"is_present\": true}, {\"time\": \"2000-01-01T19:00:00\", \"variable\": \"SW_IN\", \"value\": 0.0, \"is_present\": true}, {\"time\": \"2000-01-01T19:30:00\", \"variable\": \"SW_IN\", \"value\": 0.0, \"is_present\": true}, {\"time\": \"2000-01-01T20:00:00\", \"variable\": \"SW_IN\", \"value\": 0.0, \"is_present\": true}, {\"time\": \"2000-01-01T15:30:00\", \"variable\": \"VPD\", \"value\": 0.0, \"is_present\": false}, {\"time\": \"2000-01-01T16:00:00\", \"variable\": \"VPD\", \"value\": 0.0, \"is_present\": false}, {\"time\": \"2000-01-01T16:30:00\", \"variable\": \"VPD\", \"value\": 0.0, \"is_present\": false}, {\"time\": \"2000-01-01T17:00:00\", \"variable\": \"VPD\", \"value\": 0.0, \"is_present\": false}, {\"time\": \"2000-01-01T17:30:00\", \"variable\": \"VPD\", \"value\": 0.0, \"is_present\": false}, {\"time\": \"2000-01-01T18:00:00\", \"variable\": \"VPD\", \"value\": 0.0, \"is_present\": true}, {\"time\": \"2000-01-01T18:30:00\", \"variable\": \"VPD\", \"value\": 0.0, \"is_present\": true}, {\"time\": \"2000-01-01T19:00:00\", \"variable\": \"VPD\", \"value\": 0.0020000000949949026, \"is_present\": true}, {\"time\": \"2000-01-01T19:30:00\", \"variable\": \"VPD\", \"value\": 0.008999999612569809, \"is_present\": true}, {\"time\": \"2000-01-01T20:00:00\", \"variable\": \"VPD\", \"value\": 0.014000000432133675, \"is_present\": true}]}}, {\"mode\": \"vega-lite\"});\n",
       "</script>"
      ],
      "text/plain": [
       "alt.Chart(...)"
      ]
     },
     "execution_count": null,
     "metadata": {},
     "output_type": "execute_result"
    }
   ],
   "source": [
    "plot_line(m_df.tidy())"
   ]
  },
  {
   "cell_type": "code",
   "execution_count": null,
   "id": "a26f136e-c919-4083-bad9-e40f2b4996bd",
   "metadata": {},
   "outputs": [],
   "source": [
    "def plot_variable(df, variable, title=\"\", y_label=\"\", sel = None, props = {}):\n",
    "    df = df[df.variable == variable]\n",
    "    sel = ifnone(sel, def_selection())\n",
    "    # rug = plot_rug(df, sel, props)\n",
    "    points = plot_points(df, y_label, sel, props)\n",
    "    line = plot_line(df, True, y_label, sel, props)\n",
    "    \n",
    "    return (points + line).properties(title=title)\n",
    "    \n",
    "    # return alt.VConcatChart(vconcat=[(points + line), rug], spacing=-10).properties(title=title)"
   ]
  },
  {
   "cell_type": "code",
   "execution_count": null,
   "id": "fa1c1f39-0db0-4842-bada-da41eacd9ac6",
   "metadata": {},
   "outputs": [
    {
     "name": "stderr",
     "output_type": "stream",
     "text": [
      "/home/simone/.local/lib/python3.10/site-packages/altair/utils/core.py:317: FutureWarning: iteritems is deprecated and will be removed in a future version. Use .items instead.\n",
      "  for col_name, dtype in df.dtypes.iteritems():\n"
     ]
    },
    {
     "data": {
      "text/html": [
       "\n",
       "<div id=\"altair-viz-292245db6d89483aaed013a67c3ed358\"></div>\n",
       "<script type=\"text/javascript\">\n",
       "  var VEGA_DEBUG = (typeof VEGA_DEBUG == \"undefined\") ? {} : VEGA_DEBUG;\n",
       "  (function(spec, embedOpt){\n",
       "    let outputDiv = document.currentScript.previousElementSibling;\n",
       "    if (outputDiv.id !== \"altair-viz-292245db6d89483aaed013a67c3ed358\") {\n",
       "      outputDiv = document.getElementById(\"altair-viz-292245db6d89483aaed013a67c3ed358\");\n",
       "    }\n",
       "    const paths = {\n",
       "      \"vega\": \"https://cdn.jsdelivr.net/npm//vega@5?noext\",\n",
       "      \"vega-lib\": \"https://cdn.jsdelivr.net/npm//vega-lib?noext\",\n",
       "      \"vega-lite\": \"https://cdn.jsdelivr.net/npm//vega-lite@4.17.0?noext\",\n",
       "      \"vega-embed\": \"https://cdn.jsdelivr.net/npm//vega-embed@6?noext\",\n",
       "    };\n",
       "\n",
       "    function maybeLoadScript(lib, version) {\n",
       "      var key = `${lib.replace(\"-\", \"\")}_version`;\n",
       "      return (VEGA_DEBUG[key] == version) ?\n",
       "        Promise.resolve(paths[lib]) :\n",
       "        new Promise(function(resolve, reject) {\n",
       "          var s = document.createElement('script');\n",
       "          document.getElementsByTagName(\"head\")[0].appendChild(s);\n",
       "          s.async = true;\n",
       "          s.onload = () => {\n",
       "            VEGA_DEBUG[key] = version;\n",
       "            return resolve(paths[lib]);\n",
       "          };\n",
       "          s.onerror = () => reject(`Error loading script: ${paths[lib]}`);\n",
       "          s.src = paths[lib];\n",
       "        });\n",
       "    }\n",
       "\n",
       "    function showError(err) {\n",
       "      outputDiv.innerHTML = `<div class=\"error\" style=\"color:red;\">${err}</div>`;\n",
       "      throw err;\n",
       "    }\n",
       "\n",
       "    function displayChart(vegaEmbed) {\n",
       "      vegaEmbed(outputDiv, spec, embedOpt)\n",
       "        .catch(err => showError(`Javascript Error: ${err.message}<br>This usually means there's a typo in your chart specification. See the javascript console for the full traceback.`));\n",
       "    }\n",
       "\n",
       "    if(typeof define === \"function\" && define.amd) {\n",
       "      requirejs.config({paths});\n",
       "      require([\"vega-embed\"], displayChart, err => showError(`Error loading script: ${err.message}`));\n",
       "    } else {\n",
       "      maybeLoadScript(\"vega\", \"5\")\n",
       "        .then(() => maybeLoadScript(\"vega-lite\", \"4.17.0\"))\n",
       "        .then(() => maybeLoadScript(\"vega-embed\", \"6\"))\n",
       "        .catch(showError)\n",
       "        .then(() => displayChart(vegaEmbed));\n",
       "    }\n",
       "  })({\"config\": {\"view\": {\"continuousWidth\": 400, \"continuousHeight\": 300}}, \"layer\": [{\"mark\": {\"type\": \"point\", \"color\": \"black\", \"fillOpacity\": 1, \"strokeWidth\": 1}, \"encoding\": {\"fill\": {\"field\": \"is_present\", \"legend\": {\"title\": [\"Observed data\"]}, \"scale\": {\"range\": [\"black\", \"#ffffff00\"]}, \"type\": \"nominal\"}, \"shape\": {\"field\": \"is_present\", \"type\": \"nominal\"}, \"x\": {\"axis\": {\"domain\": false, \"labels\": false, \"ticks\": false, \"title\": null}, \"field\": \"time\", \"type\": \"temporal\"}, \"y\": {\"field\": \"value\", \"scale\": {\"zero\": false}, \"title\": \"\", \"type\": \"quantitative\"}}}, {\"mark\": \"line\", \"encoding\": {\"color\": {\"field\": \"variable\", \"type\": \"nominal\"}, \"x\": {\"field\": \"time\", \"type\": \"temporal\"}, \"y\": {\"field\": \"value\", \"scale\": {\"zero\": false}, \"title\": \"\", \"type\": \"quantitative\"}}, \"selection\": {\"selector004\": {\"type\": \"interval\", \"bind\": \"scales\"}}}], \"data\": {\"name\": \"data-c216e5a4167f549263b7fefd6be27b9a\"}, \"title\": \"title TA\", \"$schema\": \"https://vega.github.io/schema/vega-lite/v4.17.0.json\", \"datasets\": {\"data-c216e5a4167f549263b7fefd6be27b9a\": [{\"time\": \"2000-01-01T15:30:00\", \"variable\": \"TA\", \"value\": 0.5199999809265137, \"is_present\": false}, {\"time\": \"2000-01-01T16:00:00\", \"variable\": \"TA\", \"value\": 0.5699999928474426, \"is_present\": false}, {\"time\": \"2000-01-01T16:30:00\", \"variable\": \"TA\", \"value\": 0.7300000190734863, \"is_present\": false}, {\"time\": \"2000-01-01T17:00:00\", \"variable\": \"TA\", \"value\": 0.7699999809265137, \"is_present\": false}, {\"time\": \"2000-01-01T17:30:00\", \"variable\": \"TA\", \"value\": 0.8399999737739563, \"is_present\": false}, {\"time\": \"2000-01-01T18:00:00\", \"variable\": \"TA\", \"value\": 0.9900000095367432, \"is_present\": true}, {\"time\": \"2000-01-01T18:30:00\", \"variable\": \"TA\", \"value\": 1.350000023841858, \"is_present\": true}, {\"time\": \"2000-01-01T19:00:00\", \"variable\": \"TA\", \"value\": 1.8600000143051147, \"is_present\": true}, {\"time\": \"2000-01-01T19:30:00\", \"variable\": \"TA\", \"value\": 2.009999990463257, \"is_present\": true}, {\"time\": \"2000-01-01T20:00:00\", \"variable\": \"TA\", \"value\": 2.069999933242798, \"is_present\": true}]}}, {\"mode\": \"vega-lite\"});\n",
       "</script>"
      ],
      "text/plain": [
       "alt.LayerChart(...)"
      ]
     },
     "execution_count": null,
     "metadata": {},
     "output_type": "execute_result"
    }
   ],
   "source": [
    "plot_variable(m_df.tidy(), \"TA\", title=\"title TA\")"
   ]
  },
  {
   "cell_type": "code",
   "execution_count": null,
   "id": "1787dc1e-cf5f-479b-9173-eaaf2643fd77",
   "metadata": {},
   "outputs": [],
   "source": [
    "@patch\n",
    "def show(self: MaskedDf, ax=None, ctx=None, \n",
    "        n_cols: int = 3,\n",
    "        bind_interaction: bool =True, # Whether the sub-plots for each variable should be connected for zooming/panning\n",
    "        props:dict = None # additional properties (eg. size) for altair plot\n",
    "       ) -> alt.Chart:\n",
    "    \n",
    "    df = self.tidy()\n",
    "    \n",
    "    props = ifnone(props, {'width': 180, 'height': 100})\n",
    "   \n",
    "    plot_list = [alt.hconcat() for _ in range(0, self.data.shape[0], n_cols)]\n",
    "    selection_scale = alt.selection_interval(bind=\"scales\", encodings=['x']) if bind_interaction else None\n",
    "    for idx, variable in enumerate(self.data.columns):\n",
    "        plot = plot_variable(df,\n",
    "                            variable,\n",
    "                            title = variable,\n",
    "                            y_label = variable,\n",
    "                            sel = selection_scale,\n",
    "                            props=props)\n",
    "        \n",
    "        plot_list[idx // n_cols] |= plot\n",
    "    \n",
    "    plot = alt.vconcat(*plot_list)\n",
    "    \n",
    "    return plot"
   ]
  },
  {
   "cell_type": "code",
   "execution_count": null,
   "id": "4b3200e8-9bdb-4882-a2c7-a241ef1c57c1",
   "metadata": {},
   "outputs": [
    {
     "name": "stderr",
     "output_type": "stream",
     "text": [
      "/home/simone/.local/lib/python3.10/site-packages/altair/utils/core.py:317: FutureWarning: iteritems is deprecated and will be removed in a future version. Use .items instead.\n",
      "  for col_name, dtype in df.dtypes.iteritems():\n"
     ]
    },
    {
     "data": {
      "text/html": [
       "\n",
       "<div id=\"altair-viz-67362875e232458d8d1ea8b060275082\"></div>\n",
       "<script type=\"text/javascript\">\n",
       "  var VEGA_DEBUG = (typeof VEGA_DEBUG == \"undefined\") ? {} : VEGA_DEBUG;\n",
       "  (function(spec, embedOpt){\n",
       "    let outputDiv = document.currentScript.previousElementSibling;\n",
       "    if (outputDiv.id !== \"altair-viz-67362875e232458d8d1ea8b060275082\") {\n",
       "      outputDiv = document.getElementById(\"altair-viz-67362875e232458d8d1ea8b060275082\");\n",
       "    }\n",
       "    const paths = {\n",
       "      \"vega\": \"https://cdn.jsdelivr.net/npm//vega@5?noext\",\n",
       "      \"vega-lib\": \"https://cdn.jsdelivr.net/npm//vega-lib?noext\",\n",
       "      \"vega-lite\": \"https://cdn.jsdelivr.net/npm//vega-lite@4.17.0?noext\",\n",
       "      \"vega-embed\": \"https://cdn.jsdelivr.net/npm//vega-embed@6?noext\",\n",
       "    };\n",
       "\n",
       "    function maybeLoadScript(lib, version) {\n",
       "      var key = `${lib.replace(\"-\", \"\")}_version`;\n",
       "      return (VEGA_DEBUG[key] == version) ?\n",
       "        Promise.resolve(paths[lib]) :\n",
       "        new Promise(function(resolve, reject) {\n",
       "          var s = document.createElement('script');\n",
       "          document.getElementsByTagName(\"head\")[0].appendChild(s);\n",
       "          s.async = true;\n",
       "          s.onload = () => {\n",
       "            VEGA_DEBUG[key] = version;\n",
       "            return resolve(paths[lib]);\n",
       "          };\n",
       "          s.onerror = () => reject(`Error loading script: ${paths[lib]}`);\n",
       "          s.src = paths[lib];\n",
       "        });\n",
       "    }\n",
       "\n",
       "    function showError(err) {\n",
       "      outputDiv.innerHTML = `<div class=\"error\" style=\"color:red;\">${err}</div>`;\n",
       "      throw err;\n",
       "    }\n",
       "\n",
       "    function displayChart(vegaEmbed) {\n",
       "      vegaEmbed(outputDiv, spec, embedOpt)\n",
       "        .catch(err => showError(`Javascript Error: ${err.message}<br>This usually means there's a typo in your chart specification. See the javascript console for the full traceback.`));\n",
       "    }\n",
       "\n",
       "    if(typeof define === \"function\" && define.amd) {\n",
       "      requirejs.config({paths});\n",
       "      require([\"vega-embed\"], displayChart, err => showError(`Error loading script: ${err.message}`));\n",
       "    } else {\n",
       "      maybeLoadScript(\"vega\", \"5\")\n",
       "        .then(() => maybeLoadScript(\"vega-lite\", \"4.17.0\"))\n",
       "        .then(() => maybeLoadScript(\"vega-embed\", \"6\"))\n",
       "        .catch(showError)\n",
       "        .then(() => displayChart(vegaEmbed));\n",
       "    }\n",
       "  })({\"config\": {\"view\": {\"continuousWidth\": 400, \"continuousHeight\": 300}}, \"vconcat\": [{\"hconcat\": [{\"layer\": [{\"mark\": {\"type\": \"point\", \"color\": \"black\", \"fillOpacity\": 1, \"strokeWidth\": 1}, \"encoding\": {\"fill\": {\"field\": \"is_present\", \"legend\": {\"title\": [\"Observed data\"]}, \"scale\": {\"range\": [\"black\", \"#ffffff00\"]}, \"type\": \"nominal\"}, \"shape\": {\"field\": \"is_present\", \"type\": \"nominal\"}, \"x\": {\"axis\": {\"domain\": false, \"labels\": false, \"ticks\": false, \"title\": null}, \"field\": \"time\", \"type\": \"temporal\"}, \"y\": {\"field\": \"value\", \"scale\": {\"zero\": false}, \"title\": \"TA\", \"type\": \"quantitative\"}}}, {\"mark\": \"line\", \"encoding\": {\"color\": {\"field\": \"variable\", \"type\": \"nominal\"}, \"x\": {\"field\": \"time\", \"type\": \"temporal\"}, \"y\": {\"field\": \"value\", \"scale\": {\"zero\": false}, \"title\": \"TA\", \"type\": \"quantitative\"}}, \"height\": 100, \"selection\": {\"selector005\": {\"type\": \"interval\", \"bind\": \"scales\", \"encodings\": [\"x\"]}}, \"width\": 180}], \"title\": \"TA\"}, {\"layer\": [{\"mark\": {\"type\": \"point\", \"color\": \"black\", \"fillOpacity\": 1, \"strokeWidth\": 1}, \"encoding\": {\"fill\": {\"field\": \"is_present\", \"legend\": {\"title\": [\"Observed data\"]}, \"scale\": {\"range\": [\"black\", \"#ffffff00\"]}, \"type\": \"nominal\"}, \"shape\": {\"field\": \"is_present\", \"type\": \"nominal\"}, \"x\": {\"axis\": {\"domain\": false, \"labels\": false, \"ticks\": false, \"title\": null}, \"field\": \"time\", \"type\": \"temporal\"}, \"y\": {\"field\": \"value\", \"scale\": {\"zero\": false}, \"title\": \"SW_IN\", \"type\": \"quantitative\"}}}, {\"mark\": \"line\", \"encoding\": {\"color\": {\"field\": \"variable\", \"type\": \"nominal\"}, \"x\": {\"field\": \"time\", \"type\": \"temporal\"}, \"y\": {\"field\": \"value\", \"scale\": {\"zero\": false}, \"title\": \"SW_IN\", \"type\": \"quantitative\"}}, \"height\": 100, \"selection\": {\"selector005\": {\"type\": \"interval\", \"bind\": \"scales\", \"encodings\": [\"x\"]}}, \"width\": 180}], \"data\": {\"name\": \"data-c3a60f1c986b6caa7e65dff6e5822e40\"}, \"title\": \"SW_IN\"}, {\"layer\": [{\"mark\": {\"type\": \"point\", \"color\": \"black\", \"fillOpacity\": 1, \"strokeWidth\": 1}, \"encoding\": {\"fill\": {\"field\": \"is_present\", \"legend\": {\"title\": [\"Observed data\"]}, \"scale\": {\"range\": [\"black\", \"#ffffff00\"]}, \"type\": \"nominal\"}, \"shape\": {\"field\": \"is_present\", \"type\": \"nominal\"}, \"x\": {\"axis\": {\"domain\": false, \"labels\": false, \"ticks\": false, \"title\": null}, \"field\": \"time\", \"type\": \"temporal\"}, \"y\": {\"field\": \"value\", \"scale\": {\"zero\": false}, \"title\": \"VPD\", \"type\": \"quantitative\"}}}, {\"mark\": \"line\", \"encoding\": {\"color\": {\"field\": \"variable\", \"type\": \"nominal\"}, \"x\": {\"field\": \"time\", \"type\": \"temporal\"}, \"y\": {\"field\": \"value\", \"scale\": {\"zero\": false}, \"title\": \"VPD\", \"type\": \"quantitative\"}}, \"height\": 100, \"selection\": {\"selector005\": {\"type\": \"interval\", \"bind\": \"scales\", \"encodings\": [\"x\"]}}, \"width\": 180}], \"data\": {\"name\": \"data-b515775ddfb81c914376c617816a3fce\"}, \"title\": \"VPD\"}], \"data\": {\"name\": \"data-c216e5a4167f549263b7fefd6be27b9a\"}}, {\"hconcat\": []}, {\"hconcat\": []}, {\"hconcat\": []}], \"$schema\": \"https://vega.github.io/schema/vega-lite/v4.17.0.json\", \"datasets\": {\"data-c216e5a4167f549263b7fefd6be27b9a\": [{\"time\": \"2000-01-01T15:30:00\", \"variable\": \"TA\", \"value\": 0.5199999809265137, \"is_present\": false}, {\"time\": \"2000-01-01T16:00:00\", \"variable\": \"TA\", \"value\": 0.5699999928474426, \"is_present\": false}, {\"time\": \"2000-01-01T16:30:00\", \"variable\": \"TA\", \"value\": 0.7300000190734863, \"is_present\": false}, {\"time\": \"2000-01-01T17:00:00\", \"variable\": \"TA\", \"value\": 0.7699999809265137, \"is_present\": false}, {\"time\": \"2000-01-01T17:30:00\", \"variable\": \"TA\", \"value\": 0.8399999737739563, \"is_present\": false}, {\"time\": \"2000-01-01T18:00:00\", \"variable\": \"TA\", \"value\": 0.9900000095367432, \"is_present\": true}, {\"time\": \"2000-01-01T18:30:00\", \"variable\": \"TA\", \"value\": 1.350000023841858, \"is_present\": true}, {\"time\": \"2000-01-01T19:00:00\", \"variable\": \"TA\", \"value\": 1.8600000143051147, \"is_present\": true}, {\"time\": \"2000-01-01T19:30:00\", \"variable\": \"TA\", \"value\": 2.009999990463257, \"is_present\": true}, {\"time\": \"2000-01-01T20:00:00\", \"variable\": \"TA\", \"value\": 2.069999933242798, \"is_present\": true}], \"data-c3a60f1c986b6caa7e65dff6e5822e40\": [{\"time\": \"2000-01-01T15:30:00\", \"variable\": \"SW_IN\", \"value\": 8.09000015258789, \"is_present\": true}, {\"time\": \"2000-01-01T16:00:00\", \"variable\": \"SW_IN\", \"value\": 6.369999885559082, \"is_present\": true}, {\"time\": \"2000-01-01T16:30:00\", \"variable\": \"SW_IN\", \"value\": 1.7200000286102295, \"is_present\": true}, {\"time\": \"2000-01-01T17:00:00\", \"variable\": \"SW_IN\", \"value\": 0.05999999865889549, \"is_present\": true}, {\"time\": \"2000-01-01T17:30:00\", \"variable\": \"SW_IN\", \"value\": 0.0, \"is_present\": true}, {\"time\": \"2000-01-01T18:00:00\", \"variable\": \"SW_IN\", \"value\": 0.0, \"is_present\": true}, {\"time\": \"2000-01-01T18:30:00\", \"variable\": \"SW_IN\", \"value\": 0.0, \"is_present\": true}, {\"time\": \"2000-01-01T19:00:00\", \"variable\": \"SW_IN\", \"value\": 0.0, \"is_present\": true}, {\"time\": \"2000-01-01T19:30:00\", \"variable\": \"SW_IN\", \"value\": 0.0, \"is_present\": true}, {\"time\": \"2000-01-01T20:00:00\", \"variable\": \"SW_IN\", \"value\": 0.0, \"is_present\": true}], \"data-b515775ddfb81c914376c617816a3fce\": [{\"time\": \"2000-01-01T15:30:00\", \"variable\": \"VPD\", \"value\": 0.0, \"is_present\": false}, {\"time\": \"2000-01-01T16:00:00\", \"variable\": \"VPD\", \"value\": 0.0, \"is_present\": false}, {\"time\": \"2000-01-01T16:30:00\", \"variable\": \"VPD\", \"value\": 0.0, \"is_present\": false}, {\"time\": \"2000-01-01T17:00:00\", \"variable\": \"VPD\", \"value\": 0.0, \"is_present\": false}, {\"time\": \"2000-01-01T17:30:00\", \"variable\": \"VPD\", \"value\": 0.0, \"is_present\": false}, {\"time\": \"2000-01-01T18:00:00\", \"variable\": \"VPD\", \"value\": 0.0, \"is_present\": true}, {\"time\": \"2000-01-01T18:30:00\", \"variable\": \"VPD\", \"value\": 0.0, \"is_present\": true}, {\"time\": \"2000-01-01T19:00:00\", \"variable\": \"VPD\", \"value\": 0.0020000000949949026, \"is_present\": true}, {\"time\": \"2000-01-01T19:30:00\", \"variable\": \"VPD\", \"value\": 0.008999999612569809, \"is_present\": true}, {\"time\": \"2000-01-01T20:00:00\", \"variable\": \"VPD\", \"value\": 0.014000000432133675, \"is_present\": true}]}}, {\"mode\": \"vega-lite\"});\n",
       "</script>"
      ],
      "text/plain": [
       "alt.VConcatChart(...)"
      ]
     },
     "execution_count": null,
     "metadata": {},
     "output_type": "execute_result"
    }
   ],
   "source": [
    "m_df.show()"
   ]
  },
  {
   "cell_type": "code",
   "execution_count": null,
   "id": "c9284e47-6433-405f-8b0d-a2cd6595bf94",
   "metadata": {},
   "outputs": [
    {
     "name": "stderr",
     "output_type": "stream",
     "text": [
      "/home/simone/.local/lib/python3.10/site-packages/altair/utils/core.py:317: FutureWarning: iteritems is deprecated and will be removed in a future version. Use .items instead.\n",
      "  for col_name, dtype in df.dtypes.iteritems():\n"
     ]
    },
    {
     "data": {
      "text/html": [
       "\n",
       "<div id=\"altair-viz-45e49fd7832e4a8a910f7e148d1eb04a\"></div>\n",
       "<script type=\"text/javascript\">\n",
       "  var VEGA_DEBUG = (typeof VEGA_DEBUG == \"undefined\") ? {} : VEGA_DEBUG;\n",
       "  (function(spec, embedOpt){\n",
       "    let outputDiv = document.currentScript.previousElementSibling;\n",
       "    if (outputDiv.id !== \"altair-viz-45e49fd7832e4a8a910f7e148d1eb04a\") {\n",
       "      outputDiv = document.getElementById(\"altair-viz-45e49fd7832e4a8a910f7e148d1eb04a\");\n",
       "    }\n",
       "    const paths = {\n",
       "      \"vega\": \"https://cdn.jsdelivr.net/npm//vega@5?noext\",\n",
       "      \"vega-lib\": \"https://cdn.jsdelivr.net/npm//vega-lib?noext\",\n",
       "      \"vega-lite\": \"https://cdn.jsdelivr.net/npm//vega-lite@4.17.0?noext\",\n",
       "      \"vega-embed\": \"https://cdn.jsdelivr.net/npm//vega-embed@6?noext\",\n",
       "    };\n",
       "\n",
       "    function maybeLoadScript(lib, version) {\n",
       "      var key = `${lib.replace(\"-\", \"\")}_version`;\n",
       "      return (VEGA_DEBUG[key] == version) ?\n",
       "        Promise.resolve(paths[lib]) :\n",
       "        new Promise(function(resolve, reject) {\n",
       "          var s = document.createElement('script');\n",
       "          document.getElementsByTagName(\"head\")[0].appendChild(s);\n",
       "          s.async = true;\n",
       "          s.onload = () => {\n",
       "            VEGA_DEBUG[key] = version;\n",
       "            return resolve(paths[lib]);\n",
       "          };\n",
       "          s.onerror = () => reject(`Error loading script: ${paths[lib]}`);\n",
       "          s.src = paths[lib];\n",
       "        });\n",
       "    }\n",
       "\n",
       "    function showError(err) {\n",
       "      outputDiv.innerHTML = `<div class=\"error\" style=\"color:red;\">${err}</div>`;\n",
       "      throw err;\n",
       "    }\n",
       "\n",
       "    function displayChart(vegaEmbed) {\n",
       "      vegaEmbed(outputDiv, spec, embedOpt)\n",
       "        .catch(err => showError(`Javascript Error: ${err.message}<br>This usually means there's a typo in your chart specification. See the javascript console for the full traceback.`));\n",
       "    }\n",
       "\n",
       "    if(typeof define === \"function\" && define.amd) {\n",
       "      requirejs.config({paths});\n",
       "      require([\"vega-embed\"], displayChart, err => showError(`Error loading script: ${err.message}`));\n",
       "    } else {\n",
       "      maybeLoadScript(\"vega\", \"5\")\n",
       "        .then(() => maybeLoadScript(\"vega-lite\", \"4.17.0\"))\n",
       "        .then(() => maybeLoadScript(\"vega-embed\", \"6\"))\n",
       "        .catch(showError)\n",
       "        .then(() => displayChart(vegaEmbed));\n",
       "    }\n",
       "  })({\"config\": {\"view\": {\"continuousWidth\": 400, \"continuousHeight\": 300}}, \"vconcat\": [{\"hconcat\": [{\"layer\": [{\"mark\": {\"type\": \"point\", \"color\": \"black\", \"fillOpacity\": 1, \"strokeWidth\": 1}, \"encoding\": {\"fill\": {\"field\": \"is_present\", \"legend\": {\"title\": [\"Observed data\"]}, \"scale\": {\"range\": [\"black\", \"#ffffff00\"]}, \"type\": \"nominal\"}, \"shape\": {\"field\": \"is_present\", \"type\": \"nominal\"}, \"x\": {\"axis\": {\"domain\": false, \"labels\": false, \"ticks\": false, \"title\": null}, \"field\": \"time\", \"type\": \"temporal\"}, \"y\": {\"field\": \"value\", \"scale\": {\"zero\": false}, \"title\": \"TA\", \"type\": \"quantitative\"}}}, {\"mark\": \"line\", \"encoding\": {\"color\": {\"field\": \"variable\", \"type\": \"nominal\"}, \"x\": {\"field\": \"time\", \"type\": \"temporal\"}, \"y\": {\"field\": \"value\", \"scale\": {\"zero\": false}, \"title\": \"TA\", \"type\": \"quantitative\"}}, \"height\": 100, \"selection\": {\"selector009\": {\"type\": \"interval\", \"bind\": \"scales\", \"encodings\": [\"x\"]}}, \"width\": 180}], \"title\": \"TA\"}, {\"layer\": [{\"mark\": {\"type\": \"point\", \"color\": \"black\", \"fillOpacity\": 1, \"strokeWidth\": 1}, \"encoding\": {\"fill\": {\"field\": \"is_present\", \"legend\": {\"title\": [\"Observed data\"]}, \"scale\": {\"range\": [\"black\", \"#ffffff00\"]}, \"type\": \"nominal\"}, \"shape\": {\"field\": \"is_present\", \"type\": \"nominal\"}, \"x\": {\"axis\": {\"domain\": false, \"labels\": false, \"ticks\": false, \"title\": null}, \"field\": \"time\", \"type\": \"temporal\"}, \"y\": {\"field\": \"value\", \"scale\": {\"zero\": false}, \"title\": \"SW_IN\", \"type\": \"quantitative\"}}}, {\"mark\": \"line\", \"encoding\": {\"color\": {\"field\": \"variable\", \"type\": \"nominal\"}, \"x\": {\"field\": \"time\", \"type\": \"temporal\"}, \"y\": {\"field\": \"value\", \"scale\": {\"zero\": false}, \"title\": \"SW_IN\", \"type\": \"quantitative\"}}, \"height\": 100, \"selection\": {\"selector009\": {\"type\": \"interval\", \"bind\": \"scales\", \"encodings\": [\"x\"]}}, \"width\": 180}], \"data\": {\"name\": \"data-c3a60f1c986b6caa7e65dff6e5822e40\"}, \"title\": \"SW_IN\"}, {\"layer\": [{\"mark\": {\"type\": \"point\", \"color\": \"black\", \"fillOpacity\": 1, \"strokeWidth\": 1}, \"encoding\": {\"fill\": {\"field\": \"is_present\", \"legend\": {\"title\": [\"Observed data\"]}, \"scale\": {\"range\": [\"black\", \"#ffffff00\"]}, \"type\": \"nominal\"}, \"shape\": {\"field\": \"is_present\", \"type\": \"nominal\"}, \"x\": {\"axis\": {\"domain\": false, \"labels\": false, \"ticks\": false, \"title\": null}, \"field\": \"time\", \"type\": \"temporal\"}, \"y\": {\"field\": \"value\", \"scale\": {\"zero\": false}, \"title\": \"VPD\", \"type\": \"quantitative\"}}}, {\"mark\": \"line\", \"encoding\": {\"color\": {\"field\": \"variable\", \"type\": \"nominal\"}, \"x\": {\"field\": \"time\", \"type\": \"temporal\"}, \"y\": {\"field\": \"value\", \"scale\": {\"zero\": false}, \"title\": \"VPD\", \"type\": \"quantitative\"}}, \"height\": 100, \"selection\": {\"selector009\": {\"type\": \"interval\", \"bind\": \"scales\", \"encodings\": [\"x\"]}}, \"width\": 180}], \"data\": {\"name\": \"data-b515775ddfb81c914376c617816a3fce\"}, \"title\": \"VPD\"}], \"data\": {\"name\": \"data-c216e5a4167f549263b7fefd6be27b9a\"}}, {\"hconcat\": []}, {\"hconcat\": []}, {\"hconcat\": []}], \"$schema\": \"https://vega.github.io/schema/vega-lite/v4.17.0.json\", \"datasets\": {\"data-c216e5a4167f549263b7fefd6be27b9a\": [{\"time\": \"2000-01-01T15:30:00\", \"variable\": \"TA\", \"value\": 0.5199999809265137, \"is_present\": false}, {\"time\": \"2000-01-01T16:00:00\", \"variable\": \"TA\", \"value\": 0.5699999928474426, \"is_present\": false}, {\"time\": \"2000-01-01T16:30:00\", \"variable\": \"TA\", \"value\": 0.7300000190734863, \"is_present\": false}, {\"time\": \"2000-01-01T17:00:00\", \"variable\": \"TA\", \"value\": 0.7699999809265137, \"is_present\": false}, {\"time\": \"2000-01-01T17:30:00\", \"variable\": \"TA\", \"value\": 0.8399999737739563, \"is_present\": false}, {\"time\": \"2000-01-01T18:00:00\", \"variable\": \"TA\", \"value\": 0.9900000095367432, \"is_present\": true}, {\"time\": \"2000-01-01T18:30:00\", \"variable\": \"TA\", \"value\": 1.350000023841858, \"is_present\": true}, {\"time\": \"2000-01-01T19:00:00\", \"variable\": \"TA\", \"value\": 1.8600000143051147, \"is_present\": true}, {\"time\": \"2000-01-01T19:30:00\", \"variable\": \"TA\", \"value\": 2.009999990463257, \"is_present\": true}, {\"time\": \"2000-01-01T20:00:00\", \"variable\": \"TA\", \"value\": 2.069999933242798, \"is_present\": true}], \"data-c3a60f1c986b6caa7e65dff6e5822e40\": [{\"time\": \"2000-01-01T15:30:00\", \"variable\": \"SW_IN\", \"value\": 8.09000015258789, \"is_present\": true}, {\"time\": \"2000-01-01T16:00:00\", \"variable\": \"SW_IN\", \"value\": 6.369999885559082, \"is_present\": true}, {\"time\": \"2000-01-01T16:30:00\", \"variable\": \"SW_IN\", \"value\": 1.7200000286102295, \"is_present\": true}, {\"time\": \"2000-01-01T17:00:00\", \"variable\": \"SW_IN\", \"value\": 0.05999999865889549, \"is_present\": true}, {\"time\": \"2000-01-01T17:30:00\", \"variable\": \"SW_IN\", \"value\": 0.0, \"is_present\": true}, {\"time\": \"2000-01-01T18:00:00\", \"variable\": \"SW_IN\", \"value\": 0.0, \"is_present\": true}, {\"time\": \"2000-01-01T18:30:00\", \"variable\": \"SW_IN\", \"value\": 0.0, \"is_present\": true}, {\"time\": \"2000-01-01T19:00:00\", \"variable\": \"SW_IN\", \"value\": 0.0, \"is_present\": true}, {\"time\": \"2000-01-01T19:30:00\", \"variable\": \"SW_IN\", \"value\": 0.0, \"is_present\": true}, {\"time\": \"2000-01-01T20:00:00\", \"variable\": \"SW_IN\", \"value\": 0.0, \"is_present\": true}], \"data-b515775ddfb81c914376c617816a3fce\": [{\"time\": \"2000-01-01T15:30:00\", \"variable\": \"VPD\", \"value\": 0.0, \"is_present\": false}, {\"time\": \"2000-01-01T16:00:00\", \"variable\": \"VPD\", \"value\": 0.0, \"is_present\": false}, {\"time\": \"2000-01-01T16:30:00\", \"variable\": \"VPD\", \"value\": 0.0, \"is_present\": false}, {\"time\": \"2000-01-01T17:00:00\", \"variable\": \"VPD\", \"value\": 0.0, \"is_present\": false}, {\"time\": \"2000-01-01T17:30:00\", \"variable\": \"VPD\", \"value\": 0.0, \"is_present\": false}, {\"time\": \"2000-01-01T18:00:00\", \"variable\": \"VPD\", \"value\": 0.0, \"is_present\": true}, {\"time\": \"2000-01-01T18:30:00\", \"variable\": \"VPD\", \"value\": 0.0, \"is_present\": true}, {\"time\": \"2000-01-01T19:00:00\", \"variable\": \"VPD\", \"value\": 0.0020000000949949026, \"is_present\": true}, {\"time\": \"2000-01-01T19:30:00\", \"variable\": \"VPD\", \"value\": 0.008999999612569809, \"is_present\": true}, {\"time\": \"2000-01-01T20:00:00\", \"variable\": \"VPD\", \"value\": 0.014000000432133675, \"is_present\": true}]}}, {\"mode\": \"vega-lite\"});\n",
       "</script>"
      ],
      "text/plain": [
       "alt.VConcatChart(...)"
      ]
     },
     "execution_count": null,
     "metadata": {},
     "output_type": "execute_result"
    }
   ],
   "source": [
    "a_gap(m(3)).show()"
   ]
  },
  {
   "cell_type": "code",
   "execution_count": null,
   "id": "d1852e7e-4805-4884-9eac-37a327cec896",
   "metadata": {},
   "outputs": [
    {
     "name": "stderr",
     "output_type": "stream",
     "text": [
      "/home/simone/.local/lib/python3.10/site-packages/altair/utils/core.py:317: FutureWarning: iteritems is deprecated and will be removed in a future version. Use .items instead.\n",
      "  for col_name, dtype in df.dtypes.iteritems():\n"
     ]
    },
    {
     "data": {
      "text/html": [
       "\n",
       "<div id=\"altair-viz-6caebcf649744acf92cde456136c0705\"></div>\n",
       "<script type=\"text/javascript\">\n",
       "  var VEGA_DEBUG = (typeof VEGA_DEBUG == \"undefined\") ? {} : VEGA_DEBUG;\n",
       "  (function(spec, embedOpt){\n",
       "    let outputDiv = document.currentScript.previousElementSibling;\n",
       "    if (outputDiv.id !== \"altair-viz-6caebcf649744acf92cde456136c0705\") {\n",
       "      outputDiv = document.getElementById(\"altair-viz-6caebcf649744acf92cde456136c0705\");\n",
       "    }\n",
       "    const paths = {\n",
       "      \"vega\": \"https://cdn.jsdelivr.net/npm//vega@5?noext\",\n",
       "      \"vega-lib\": \"https://cdn.jsdelivr.net/npm//vega-lib?noext\",\n",
       "      \"vega-lite\": \"https://cdn.jsdelivr.net/npm//vega-lite@4.17.0?noext\",\n",
       "      \"vega-embed\": \"https://cdn.jsdelivr.net/npm//vega-embed@6?noext\",\n",
       "    };\n",
       "\n",
       "    function maybeLoadScript(lib, version) {\n",
       "      var key = `${lib.replace(\"-\", \"\")}_version`;\n",
       "      return (VEGA_DEBUG[key] == version) ?\n",
       "        Promise.resolve(paths[lib]) :\n",
       "        new Promise(function(resolve, reject) {\n",
       "          var s = document.createElement('script');\n",
       "          document.getElementsByTagName(\"head\")[0].appendChild(s);\n",
       "          s.async = true;\n",
       "          s.onload = () => {\n",
       "            VEGA_DEBUG[key] = version;\n",
       "            return resolve(paths[lib]);\n",
       "          };\n",
       "          s.onerror = () => reject(`Error loading script: ${paths[lib]}`);\n",
       "          s.src = paths[lib];\n",
       "        });\n",
       "    }\n",
       "\n",
       "    function showError(err) {\n",
       "      outputDiv.innerHTML = `<div class=\"error\" style=\"color:red;\">${err}</div>`;\n",
       "      throw err;\n",
       "    }\n",
       "\n",
       "    function displayChart(vegaEmbed) {\n",
       "      vegaEmbed(outputDiv, spec, embedOpt)\n",
       "        .catch(err => showError(`Javascript Error: ${err.message}<br>This usually means there's a typo in your chart specification. See the javascript console for the full traceback.`));\n",
       "    }\n",
       "\n",
       "    if(typeof define === \"function\" && define.amd) {\n",
       "      requirejs.config({paths});\n",
       "      require([\"vega-embed\"], displayChart, err => showError(`Error loading script: ${err.message}`));\n",
       "    } else {\n",
       "      maybeLoadScript(\"vega\", \"5\")\n",
       "        .then(() => maybeLoadScript(\"vega-lite\", \"4.17.0\"))\n",
       "        .then(() => maybeLoadScript(\"vega-embed\", \"6\"))\n",
       "        .catch(showError)\n",
       "        .then(() => displayChart(vegaEmbed));\n",
       "    }\n",
       "  })({\"config\": {\"view\": {\"continuousWidth\": 400, \"continuousHeight\": 300}}, \"vconcat\": [{\"hconcat\": [{\"layer\": [{\"mark\": {\"type\": \"point\", \"color\": \"black\", \"fillOpacity\": 1, \"strokeWidth\": 1}, \"encoding\": {\"fill\": {\"field\": \"is_present\", \"legend\": {\"title\": [\"Observed data\"]}, \"scale\": {\"range\": [\"black\", \"#ffffff00\"]}, \"type\": \"nominal\"}, \"shape\": {\"field\": \"is_present\", \"type\": \"nominal\"}, \"x\": {\"axis\": {\"domain\": false, \"labels\": false, \"ticks\": false, \"title\": null}, \"field\": \"time\", \"type\": \"temporal\"}, \"y\": {\"field\": \"value\", \"scale\": {\"zero\": false}, \"title\": \"TA\", \"type\": \"quantitative\"}}}, {\"mark\": \"line\", \"encoding\": {\"color\": {\"field\": \"variable\", \"type\": \"nominal\"}, \"x\": {\"field\": \"time\", \"type\": \"temporal\"}, \"y\": {\"field\": \"value\", \"scale\": {\"zero\": false}, \"title\": \"TA\", \"type\": \"quantitative\"}}, \"height\": 100, \"selection\": {\"selector013\": {\"type\": \"interval\", \"bind\": \"scales\", \"encodings\": [\"x\"]}}, \"width\": 180}], \"title\": \"TA\"}, {\"layer\": [{\"mark\": {\"type\": \"point\", \"color\": \"black\", \"fillOpacity\": 1, \"strokeWidth\": 1}, \"encoding\": {\"fill\": {\"field\": \"is_present\", \"legend\": {\"title\": [\"Observed data\"]}, \"scale\": {\"range\": [\"black\", \"#ffffff00\"]}, \"type\": \"nominal\"}, \"shape\": {\"field\": \"is_present\", \"type\": \"nominal\"}, \"x\": {\"axis\": {\"domain\": false, \"labels\": false, \"ticks\": false, \"title\": null}, \"field\": \"time\", \"type\": \"temporal\"}, \"y\": {\"field\": \"value\", \"scale\": {\"zero\": false}, \"title\": \"SW_IN\", \"type\": \"quantitative\"}}}, {\"mark\": \"line\", \"encoding\": {\"color\": {\"field\": \"variable\", \"type\": \"nominal\"}, \"x\": {\"field\": \"time\", \"type\": \"temporal\"}, \"y\": {\"field\": \"value\", \"scale\": {\"zero\": false}, \"title\": \"SW_IN\", \"type\": \"quantitative\"}}, \"height\": 100, \"selection\": {\"selector013\": {\"type\": \"interval\", \"bind\": \"scales\", \"encodings\": [\"x\"]}}, \"width\": 180}], \"data\": {\"name\": \"data-7d75205178a55067427e2ccf76a0ab5a\"}, \"title\": \"SW_IN\"}, {\"layer\": [{\"mark\": {\"type\": \"point\", \"color\": \"black\", \"fillOpacity\": 1, \"strokeWidth\": 1}, \"encoding\": {\"fill\": {\"field\": \"is_present\", \"legend\": {\"title\": [\"Observed data\"]}, \"scale\": {\"range\": [\"black\", \"#ffffff00\"]}, \"type\": \"nominal\"}, \"shape\": {\"field\": \"is_present\", \"type\": \"nominal\"}, \"x\": {\"axis\": {\"domain\": false, \"labels\": false, \"ticks\": false, \"title\": null}, \"field\": \"time\", \"type\": \"temporal\"}, \"y\": {\"field\": \"value\", \"scale\": {\"zero\": false}, \"title\": \"VPD\", \"type\": \"quantitative\"}}}, {\"mark\": \"line\", \"encoding\": {\"color\": {\"field\": \"variable\", \"type\": \"nominal\"}, \"x\": {\"field\": \"time\", \"type\": \"temporal\"}, \"y\": {\"field\": \"value\", \"scale\": {\"zero\": false}, \"title\": \"VPD\", \"type\": \"quantitative\"}}, \"height\": 100, \"selection\": {\"selector013\": {\"type\": \"interval\", \"bind\": \"scales\", \"encodings\": [\"x\"]}}, \"width\": 180}], \"data\": {\"name\": \"data-c244b9024159e7863ea3c635f61b339c\"}, \"title\": \"VPD\"}], \"data\": {\"name\": \"data-72246db1d6a0fccd7bbc5eb0b4231bbf\"}}, {\"hconcat\": []}, {\"hconcat\": []}, {\"hconcat\": []}], \"$schema\": \"https://vega.github.io/schema/vega-lite/v4.17.0.json\", \"datasets\": {\"data-72246db1d6a0fccd7bbc5eb0b4231bbf\": [{\"time\": \"2000-01-01T20:30:00\", \"variable\": \"TA\", \"value\": 2.0, \"is_present\": false}, {\"time\": \"2000-01-01T21:00:00\", \"variable\": \"TA\", \"value\": 2.190000057220459, \"is_present\": false}, {\"time\": \"2000-01-01T21:30:00\", \"variable\": \"TA\", \"value\": 2.259999990463257, \"is_present\": false}, {\"time\": \"2000-01-01T22:00:00\", \"variable\": \"TA\", \"value\": 2.5299999713897705, \"is_present\": false}, {\"time\": \"2000-01-01T22:30:00\", \"variable\": \"TA\", \"value\": 2.5899999141693115, \"is_present\": false}, {\"time\": \"2000-01-01T23:00:00\", \"variable\": \"TA\", \"value\": 2.5999999046325684, \"is_present\": true}, {\"time\": \"2000-01-01T23:30:00\", \"variable\": \"TA\", \"value\": 2.5299999713897705, \"is_present\": true}, {\"time\": \"2000-01-02T00:00:00\", \"variable\": \"TA\", \"value\": 2.299999952316284, \"is_present\": true}, {\"time\": \"2000-01-02T00:30:00\", \"variable\": \"TA\", \"value\": 2.0799999237060547, \"is_present\": true}, {\"time\": \"2000-01-02T01:00:00\", \"variable\": \"TA\", \"value\": 1.9299999475479126, \"is_present\": true}], \"data-7d75205178a55067427e2ccf76a0ab5a\": [{\"time\": \"2000-01-01T20:30:00\", \"variable\": \"SW_IN\", \"value\": 0.0, \"is_present\": true}, {\"time\": \"2000-01-01T21:00:00\", \"variable\": \"SW_IN\", \"value\": 0.0, \"is_present\": true}, {\"time\": \"2000-01-01T21:30:00\", \"variable\": \"SW_IN\", \"value\": 0.0, \"is_present\": true}, {\"time\": \"2000-01-01T22:00:00\", \"variable\": \"SW_IN\", \"value\": 0.0, \"is_present\": true}, {\"time\": \"2000-01-01T22:30:00\", \"variable\": \"SW_IN\", \"value\": 0.0, \"is_present\": true}, {\"time\": \"2000-01-01T23:00:00\", \"variable\": \"SW_IN\", \"value\": 0.0, \"is_present\": true}, {\"time\": \"2000-01-01T23:30:00\", \"variable\": \"SW_IN\", \"value\": 0.0, \"is_present\": true}, {\"time\": \"2000-01-02T00:00:00\", \"variable\": \"SW_IN\", \"value\": 0.0, \"is_present\": true}, {\"time\": \"2000-01-02T00:30:00\", \"variable\": \"SW_IN\", \"value\": 0.0, \"is_present\": true}, {\"time\": \"2000-01-02T01:00:00\", \"variable\": \"SW_IN\", \"value\": 0.0, \"is_present\": true}], \"data-c244b9024159e7863ea3c635f61b339c\": [{\"time\": \"2000-01-01T20:30:00\", \"variable\": \"VPD\", \"value\": 0.014000000432133675, \"is_present\": false}, {\"time\": \"2000-01-01T21:00:00\", \"variable\": \"VPD\", \"value\": 0.03799999877810478, \"is_present\": false}, {\"time\": \"2000-01-01T21:30:00\", \"variable\": \"VPD\", \"value\": 0.07900000363588333, \"is_present\": false}, {\"time\": \"2000-01-01T22:00:00\", \"variable\": \"VPD\", \"value\": 0.25699999928474426, \"is_present\": false}, {\"time\": \"2000-01-01T22:30:00\", \"variable\": \"VPD\", \"value\": 0.3880000114440918, \"is_present\": false}, {\"time\": \"2000-01-01T23:00:00\", \"variable\": \"VPD\", \"value\": 0.5550000071525574, \"is_present\": true}, {\"time\": \"2000-01-01T23:30:00\", \"variable\": \"VPD\", \"value\": 0.4519999921321869, \"is_present\": true}, {\"time\": \"2000-01-02T00:00:00\", \"variable\": \"VPD\", \"value\": 0.4350000023841858, \"is_present\": true}, {\"time\": \"2000-01-02T00:30:00\", \"variable\": \"VPD\", \"value\": 0.24799999594688416, \"is_present\": true}, {\"time\": \"2000-01-02T01:00:00\", \"variable\": \"VPD\", \"value\": 0.23399999737739563, \"is_present\": true}]}}, {\"mode\": \"vega-lite\"});\n",
       "</script>"
      ],
      "text/plain": [
       "alt.VConcatChart(...)"
      ]
     },
     "execution_count": null,
     "metadata": {},
     "output_type": "execute_result"
    }
   ],
   "source": [
    "a_gap(m(4)).show()"
   ]
  },
  {
   "cell_type": "code",
   "execution_count": null,
   "id": "37358f56-f705-4d3c-b39f-ac810447a635",
   "metadata": {},
   "outputs": [],
   "source": [
    "idx = L(*m(1).columns).argwhere(lambda x: x in ['TA','SW_IN'])"
   ]
  },
  {
   "cell_type": "code",
   "execution_count": null,
   "id": "9126e8d1-3f99-40ba-b4ac-e5ac0f5cfd6c",
   "metadata": {},
   "outputs": [],
   "source": [
    "mask = np.ones_like(m(1), dtype=bool)"
   ]
  },
  {
   "cell_type": "code",
   "execution_count": null,
   "id": "a9bf7480-1580-490d-8ce9-a0c47ef6c2a3",
   "metadata": {},
   "outputs": [
    {
     "data": {
      "text/plain": [
       "array([[ True,  True,  True],\n",
       "       [ True,  True,  True],\n",
       "       [ True,  True,  True],\n",
       "       [ True,  True,  True],\n",
       "       [ True,  True,  True],\n",
       "       [ True,  True,  True],\n",
       "       [ True,  True,  True],\n",
       "       [ True,  True,  True],\n",
       "       [ True,  True,  True],\n",
       "       [ True,  True,  True]])"
      ]
     },
     "execution_count": null,
     "metadata": {},
     "output_type": "execute_result"
    }
   ],
   "source": [
    "mask"
   ]
  },
  {
   "cell_type": "code",
   "execution_count": null,
   "id": "7ba57b44-2632-4ada-af4d-20b2678e6798",
   "metadata": {},
   "outputs": [],
   "source": [
    "gap = _make_random_gap(2, 10, 2)"
   ]
  },
  {
   "cell_type": "code",
   "execution_count": null,
   "id": "614d77ee-5fa7-49bd-b0e2-2bd9539b3c67",
   "metadata": {},
   "outputs": [
    {
     "data": {
      "text/plain": [
       "array([False, False,  True,  True, False, False, False, False, False,\n",
       "       False])"
      ]
     },
     "execution_count": null,
     "metadata": {},
     "output_type": "execute_result"
    }
   ],
   "source": [
    "gap"
   ]
  },
  {
   "cell_type": "code",
   "execution_count": null,
   "id": "2cfdf0a8-6761-43fb-a716-af7d391bd36c",
   "metadata": {},
   "outputs": [
    {
     "data": {
      "text/plain": [
       "array([[2],\n",
       "       [3]])"
      ]
     },
     "execution_count": null,
     "metadata": {},
     "output_type": "execute_result"
    }
   ],
   "source": [
    "np.argwhere(gap)"
   ]
  },
  {
   "cell_type": "code",
   "execution_count": null,
   "id": "c4892a92-5850-4529-991d-24c9a1cebf14",
   "metadata": {},
   "outputs": [],
   "source": [
    "mask[np.argwhere(gap), idx] = False"
   ]
  },
  {
   "cell_type": "code",
   "execution_count": null,
   "id": "5cf78fa7-3c14-43e6-a370-085f74f48ffa",
   "metadata": {},
   "outputs": [
    {
     "data": {
      "text/plain": [
       "array([[ True,  True,  True],\n",
       "       [ True,  True,  True],\n",
       "       [False, False,  True],\n",
       "       [False, False,  True],\n",
       "       [ True,  True,  True],\n",
       "       [ True,  True,  True],\n",
       "       [ True,  True,  True],\n",
       "       [ True,  True,  True],\n",
       "       [ True,  True,  True],\n",
       "       [ True,  True,  True]])"
      ]
     },
     "execution_count": null,
     "metadata": {},
     "output_type": "execute_result"
    }
   ],
   "source": [
    "mask"
   ]
  },
  {
   "cell_type": "code",
   "execution_count": null,
   "id": "39d845e1-4869-4d99-ad55-d851e44bc5cc",
   "metadata": {},
   "outputs": [
    {
     "data": {
      "text/plain": [
       "array([[False, False,  True],\n",
       "       [False, False,  True]])"
      ]
     },
     "execution_count": null,
     "metadata": {},
     "output_type": "execute_result"
    }
   ],
   "source": [
    "mask[gap]"
   ]
  },
  {
   "cell_type": "markdown",
   "id": "9e70cf47-7a11-4806-93ba-f9bdf56dc671",
   "metadata": {},
   "source": [
    "### To Tensor"
   ]
  },
  {
   "cell_type": "code",
   "execution_count": null,
   "id": "752a8c17-d878-4140-9e5a-132abf543d98",
   "metadata": {},
   "outputs": [],
   "source": [
    "class MaskedTensor(fastuple):\n",
    "    pass"
   ]
  },
  {
   "cell_type": "code",
   "execution_count": null,
   "id": "49a73687-9272-44ad-84d5-0b845a63cd98",
   "metadata": {},
   "outputs": [],
   "source": [
    "class MaskedDf2Tensor(ItemTransform):\n",
    "    def setups(self, items):\n",
    "        self.columns = list(items[0].data.columns)\n",
    "    def encodes(self, df: MaskedDf) -> MaskedTensor:\n",
    "        data = torch.tensor(df[0].to_numpy())\n",
    "        mask = torch.tensor(df[1].to_numpy())\n",
    "        return MaskedTensor(data, mask)\n",
    "        \n",
    "    def decodes(self, x: MaskedTensor) -> MaskedDf:\n",
    "        data = pd.DataFrame(x[0].detach().cpu().numpy(), columns = self.columns)\n",
    "        mask = x[1].numpy()\n",
    "        return MaskedDf(mask, data)"
   ]
  },
  {
   "cell_type": "code",
   "execution_count": null,
   "id": "f2990cbe-babc-4f62-9b6f-2807edfa05b2",
   "metadata": {},
   "outputs": [],
   "source": [
    "tfms = TfmdLists([1,2,3], [BlockDfTransform(hai, 10), AddGapTransform(['TA','SW_IN'], 2), MaskedDf2Tensor ])"
   ]
  },
  {
   "cell_type": "code",
   "execution_count": null,
   "id": "755add1e-55d4-4408-8db2-ab28d804edd2",
   "metadata": {},
   "outputs": [
    {
     "data": {
      "text/plain": [
       "(tensor([[1.0000e-01, 1.6510e+01, 6.0000e-03],\n",
       "         [1.8000e-01, 2.4730e+01, 1.1000e-02],\n",
       "         [2.1000e-01, 4.7420e+01, 1.9000e-02],\n",
       "         [2.3000e-01, 2.2050e+01, 1.4000e-02],\n",
       "         [3.3000e-01, 1.8860e+01, 8.0000e-03],\n",
       "         [4.1000e-01, 2.1100e+01, 6.0000e-03],\n",
       "         [4.4000e-01, 2.8870e+01, 0.0000e+00],\n",
       "         [4.8000e-01, 2.4220e+01, 0.0000e+00],\n",
       "         [4.9000e-01, 2.4350e+01, 0.0000e+00],\n",
       "         [5.1000e-01, 1.5680e+01, 0.0000e+00]]),\n",
       " tensor([[False, False,  True],\n",
       "         [False, False,  True],\n",
       "         [ True,  True,  True],\n",
       "         [ True,  True,  True],\n",
       "         [ True,  True,  True],\n",
       "         [ True,  True,  True],\n",
       "         [ True,  True,  True],\n",
       "         [ True,  True,  True],\n",
       "         [ True,  True,  True],\n",
       "         [ True,  True,  True]]))"
      ]
     },
     "execution_count": null,
     "metadata": {},
     "output_type": "execute_result"
    }
   ],
   "source": [
    "tfms[1]"
   ]
  },
  {
   "cell_type": "code",
   "execution_count": null,
   "id": "324520e5-5979-4b7e-b52f-97e86788c187",
   "metadata": {},
   "outputs": [
    {
     "data": {
      "text/plain": [
       "__main__.MaskedTensor"
      ]
     },
     "execution_count": null,
     "metadata": {},
     "output_type": "execute_result"
    }
   ],
   "source": [
    "type(tfms[0])"
   ]
  },
  {
   "cell_type": "markdown",
   "id": "87e120fa-cf84-4e32-8c99-9af24a2755b1",
   "metadata": {},
   "source": [
    "### Normalize"
   ]
  },
  {
   "cell_type": "code",
   "execution_count": null,
   "id": "4076930e-6674-4b7e-ae58-8057503339d1",
   "metadata": {},
   "outputs": [],
   "source": [
    "from meteo_imp.utils import *"
   ]
  },
  {
   "cell_type": "code",
   "execution_count": null,
   "id": "12391222-52d1-49fd-bd31-5967ca8cfb51",
   "metadata": {},
   "outputs": [],
   "source": [
    "from torch import Tensor"
   ]
  },
  {
   "cell_type": "code",
   "execution_count": null,
   "id": "e75c7ecf-2785-49fc-b1ff-fe98c4e03843",
   "metadata": {},
   "outputs": [],
   "source": [
    "def get_stats(df):\n",
    "    return torch.tensor(df.mean(axis=0).to_numpy()), torch.tensor(df.std(axis=0).to_numpy())"
   ]
  },
  {
   "cell_type": "code",
   "execution_count": null,
   "id": "975601aa-1325-4ece-989c-0eb60a9d8d85",
   "metadata": {},
   "outputs": [],
   "source": [
    "class NormalizeMasked(ItemTransform):\n",
    "    \"Normalize/denorm MaskedTensor column-wise \"\n",
    "    parameters,order = L('mean', 'std'),99\n",
    "    def __init__(self, mean=None, std=None, axes=(0,)): store_attr()\n",
    "\n",
    "    def encodes(self, x:MaskedTensor):\n",
    "        return MaskedTensor((x[0]-self.mean) / self.std, x[1])\n",
    "\n",
    "    def encodes(self, x):\n",
    "        return MaskedTensor((x[0]-self.mean) / self.std, x[1])\n",
    "    \n",
    "    def decodes(self, x:ListNormal):\n",
    "        mean = (x.std-self.mean) / self.std\n",
    "        std = x.cov * self.std\n",
    "        \n",
    "        return ListNormal(mean, std)"
   ]
  },
  {
   "cell_type": "code",
   "execution_count": null,
   "id": "e05f9797-3d0b-49b9-9cbc-5e35346d2e32",
   "metadata": {},
   "outputs": [],
   "source": [
    "b = TfmdLists([0,1], [BlockDfTransform(hai, 10), AddGapTransform(['TA','SW_IN'], 2), MaskedDf2Tensor, NormalizeMasked(*get_stats(hai))]).dataloaders(bs=2).one_batch()[0]"
   ]
  },
  {
   "cell_type": "code",
   "execution_count": null,
   "id": "80d3ece7-dd4f-4995-ace4-b1471f5c5027",
   "metadata": {},
   "outputs": [
    {
     "data": {
      "text/plain": [
       "tensor([-1.1083, -0.5929, -0.7457])"
      ]
     },
     "execution_count": null,
     "metadata": {},
     "output_type": "execute_result"
    }
   ],
   "source": [
    "b[0].mean(0)"
   ]
  },
  {
   "cell_type": "code",
   "execution_count": null,
   "id": "26a02da1-dff7-4d2e-b8c0-f75196aff66b",
   "metadata": {},
   "outputs": [
    {
     "data": {
      "text/plain": [
       "tensor([-1.0730, -0.5813, -0.7617])"
      ]
     },
     "execution_count": null,
     "metadata": {},
     "output_type": "execute_result"
    }
   ],
   "source": [
    "b[1].mean(0)"
   ]
  },
  {
   "cell_type": "code",
   "execution_count": null,
   "id": "a5da1208-a1a9-41fa-958f-f4936c199b35",
   "metadata": {},
   "outputs": [
    {
     "data": {
      "text/plain": [
       "tensor([0.0232, 0.0154, 0.0128])"
      ]
     },
     "execution_count": null,
     "metadata": {},
     "output_type": "execute_result"
    }
   ],
   "source": [
    "b.std(axis=(0,1))"
   ]
  },
  {
   "cell_type": "markdown",
   "id": "81077302-18db-4010-9c88-ae8d48216353",
   "metadata": {},
   "source": [
    "### Pipeline"
   ]
  },
  {
   "cell_type": "code",
   "execution_count": null,
   "id": "0ad384f0-7912-4d40-9631-1e6e5294fb9f",
   "metadata": {},
   "outputs": [],
   "source": [
    "from fastai.data.transforms import *"
   ]
  },
  {
   "cell_type": "code",
   "execution_count": null,
   "id": "5c19d0b5-b78c-4a5f-a606-8a1cfe832e8d",
   "metadata": {},
   "outputs": [],
   "source": [
    "block_len = 10\n",
    "block_ids = list(range(0, (len(hai) // block_len) - 1))[:10]\n",
    "gap_len = 2"
   ]
  },
  {
   "cell_type": "code",
   "execution_count": null,
   "id": "9a7a2fc4-fa0d-4b22-b7ca-65feed7ffcdc",
   "metadata": {},
   "outputs": [],
   "source": [
    "def imp_pipeline(df,\n",
    "                 block_len,\n",
    "                 gap_len\n",
    "                ):\n",
    "    block_ids = list(range(0, (len(df) // block_len) - 1))\n",
    "    return [BlockDfTransform(df, block_len),\n",
    "            AddGapTransform(['TA','SW_IN'], gap_len),\n",
    "            MaskedDf2Tensor,\n",
    "            NormalizeMasked(*get_stats(df))], block_ids"
   ]
  },
  {
   "cell_type": "code",
   "execution_count": null,
   "id": "ae7c4bad-445a-4e2a-9d30-e0160106b678",
   "metadata": {},
   "outputs": [],
   "source": [
    "pipeline, block_ids = imp_pipeline(hai, block_len, gap_len)"
   ]
  },
  {
   "cell_type": "code",
   "execution_count": null,
   "id": "569ade0e-fb29-4929-9106-3ac010ce5db0",
   "metadata": {},
   "outputs": [
    {
     "data": {
      "text/plain": [
       "[BlockDfTransform:\n",
       " encodes: (int,object) -> encodes\n",
       " decodes: ,\n",
       " AddGapTransform:\n",
       " encodes: (DataFrame,object) -> encodes\n",
       " decodes: ,\n",
       " __main__.MaskedDf2Tensor,\n",
       " NormalizeMasked:\n",
       " encodes: (MaskedTensor,object) -> encodes\n",
       " (object,object) -> encodes\n",
       " decodes: (ListNormal,object) -> decodes]"
      ]
     },
     "execution_count": null,
     "metadata": {},
     "output_type": "execute_result"
    }
   ],
   "source": [
    "pipeline"
   ]
  },
  {
   "cell_type": "markdown",
   "id": "df9f46c5-7664-492e-8baa-62ed741033e1",
   "metadata": {},
   "source": [
    "### Dataloader"
   ]
  },
  {
   "cell_type": "markdown",
   "id": "b71760f8-6b1f-45be-a804-756a3946a585",
   "metadata": {},
   "source": [
    "random splitter for validation/training set"
   ]
  },
  {
   "cell_type": "code",
   "execution_count": null,
   "id": "322140fc-b896-4e38-b244-dc8525438cfa",
   "metadata": {},
   "outputs": [],
   "source": [
    "reset_seed()"
   ]
  },
  {
   "cell_type": "code",
   "execution_count": null,
   "id": "4aefcbc5-7675-4da8-9fa8-53efd933a5ce",
   "metadata": {},
   "outputs": [],
   "source": [
    "splits = RandomSplitter()(block_ids)"
   ]
  },
  {
   "cell_type": "markdown",
   "id": "ea416657-bd6b-4bd0-9970-1aee94d0b5ea",
   "metadata": {},
   "source": [
    "Repeat twice the pipeline since is the same pipeline both for training data and for labels"
   ]
  },
  {
   "cell_type": "code",
   "execution_count": null,
   "id": "a367a12b-df12-422d-9eb4-877eaafafc94",
   "metadata": {},
   "outputs": [],
   "source": [
    "ds = Datasets(block_ids, [pipeline, pipeline], splits=splits)"
   ]
  },
  {
   "cell_type": "code",
   "execution_count": null,
   "id": "f6d45118-0145-44ea-a796-a659ed93baa9",
   "metadata": {},
   "outputs": [],
   "source": [
    "dls = ds.dataloaders(bs=1)"
   ]
  },
  {
   "cell_type": "code",
   "execution_count": null,
   "id": "a7205642-c9ef-4e44-b273-262177d54e2f",
   "metadata": {},
   "outputs": [
    {
     "data": {
      "text/plain": [
       "((tensor([[[-0.6100, -0.5895, -0.7739],\n",
       "           [-0.5999, -0.5699, -0.7739],\n",
       "           [-0.6087, -0.5372, -0.7739],\n",
       "           [-0.6213, -0.5014, -0.7739],\n",
       "           [-0.6213, -0.4974, -0.7739],\n",
       "           [-0.6100, -0.5241, -0.7739],\n",
       "           [-0.5911, -0.5126, -0.7739],\n",
       "           [-0.5431, -0.4949, -0.7739],\n",
       "           [-0.4750, -0.5002, -0.7739],\n",
       "           [-0.4623, -0.5005, -0.7739]]]),\n",
       "  tensor([[[ True,  True,  True],\n",
       "           [ True,  True,  True],\n",
       "           [ True,  True,  True],\n",
       "           [ True,  True,  True],\n",
       "           [ True,  True,  True],\n",
       "           [False, False,  True],\n",
       "           [False, False,  True],\n",
       "           [ True,  True,  True],\n",
       "           [ True,  True,  True],\n",
       "           [ True,  True,  True]]])),\n",
       " (tensor([[[-0.6100, -0.5895, -0.7739],\n",
       "           [-0.5999, -0.5699, -0.7739],\n",
       "           [-0.6087, -0.5372, -0.7739],\n",
       "           [-0.6213, -0.5014, -0.7739],\n",
       "           [-0.6213, -0.4974, -0.7739],\n",
       "           [-0.6100, -0.5241, -0.7739],\n",
       "           [-0.5911, -0.5126, -0.7739],\n",
       "           [-0.5431, -0.4949, -0.7739],\n",
       "           [-0.4750, -0.5002, -0.7739],\n",
       "           [-0.4623, -0.5005, -0.7739]]]),\n",
       "  tensor([[[False, False,  True],\n",
       "           [False, False,  True],\n",
       "           [ True,  True,  True],\n",
       "           [ True,  True,  True],\n",
       "           [ True,  True,  True],\n",
       "           [ True,  True,  True],\n",
       "           [ True,  True,  True],\n",
       "           [ True,  True,  True],\n",
       "           [ True,  True,  True],\n",
       "           [ True,  True,  True]]])))"
      ]
     },
     "execution_count": null,
     "metadata": {},
     "output_type": "execute_result"
    }
   ],
   "source": [
    "dls.one_batch()"
   ]
  },
  {
   "cell_type": "code",
   "execution_count": null,
   "id": "2223f2ba-79e9-4a58-87ae-a848e8a779a7",
   "metadata": {},
   "outputs": [],
   "source": [
    "@typedispatch\n",
    "def show_batch(x: MaskedTensor, y, samples, ctxs=None, max_n=6):\n",
    "    print(x)"
   ]
  },
  {
   "cell_type": "code",
   "execution_count": null,
   "id": "f81d21cf-c3c3-4926-bb64-067b9928a0b2",
   "metadata": {},
   "outputs": [
    {
     "name": "stdout",
     "output_type": "stream",
     "text": [
      "(tensor([[[ 0.4815, -0.5929,  0.1937],\n",
      "         [ 0.4942, -0.5929,  0.2150],\n",
      "         [ 0.5434, -0.5929,  0.2926],\n",
      "         [ 0.5270, -0.5929,  0.2576],\n",
      "         [ 0.5446, -0.5929,  0.2780],\n",
      "         [ 0.5446, -0.5929,  0.2675],\n",
      "         [ 0.5585, -0.5389,  0.2821],\n",
      "         [ 0.5737, -0.4229,  0.2961],\n",
      "         [ 0.5623, -0.2667,  0.2606],\n",
      "         [ 0.5472, -0.1743,  0.2153]]]), tensor([[[ True,  True,  True],\n",
      "         [False, False,  True],\n",
      "         [False, False,  True],\n",
      "         [ True,  True,  True],\n",
      "         [ True,  True,  True],\n",
      "         [ True,  True,  True],\n",
      "         [ True,  True,  True],\n",
      "         [ True,  True,  True],\n",
      "         [ True,  True,  True],\n",
      "         [ True,  True,  True]]]))\n"
     ]
    }
   ],
   "source": [
    "dls.show_batch()"
   ]
  },
  {
   "cell_type": "code",
   "execution_count": null,
   "id": "6bbdab5e-2970-4326-99de-1d1cbdd1b9fa",
   "metadata": {},
   "outputs": [
    {
     "data": {
      "text/plain": [
       "{tuple: [{__main__.MaskedTensor: [torch.Tensor, torch.Tensor]},\n",
       "  {__main__.MaskedTensor: [torch.Tensor, torch.Tensor]}]}"
      ]
     },
     "execution_count": null,
     "metadata": {},
     "output_type": "execute_result"
    }
   ],
   "source": [
    "dls._types"
   ]
  },
  {
   "cell_type": "code",
   "execution_count": null,
   "id": "b445cfe5-3ad1-4667-8e4d-dea2e48c0001",
   "metadata": {},
   "outputs": [
    {
     "name": "stdout",
     "output_type": "stream",
     "text": [
      "(tensor([[[-0.7551, -0.5929, -0.6464],\n",
      "         [-0.7299, -0.5929, -0.6652],\n",
      "         [-0.7072, -0.5929, -0.6729],\n",
      "         [-0.6882, -0.5929, -0.6672],\n",
      "         [-0.6756, -0.5929, -0.6514],\n",
      "         [-0.7223, -0.5929, -0.6658],\n",
      "         [-0.7021, -0.5929, -0.6693],\n",
      "         [-0.6680, -0.5929, -0.6498],\n",
      "         [-0.6188, -0.5929, -0.6201],\n",
      "         [-0.5961, -0.5929, -0.6040]]]), tensor([[[ True,  True,  True],\n",
      "         [False, False,  True],\n",
      "         [False, False,  True],\n",
      "         [ True,  True,  True],\n",
      "         [ True,  True,  True],\n",
      "         [ True,  True,  True],\n",
      "         [ True,  True,  True],\n",
      "         [ True,  True,  True],\n",
      "         [ True,  True,  True],\n",
      "         [ True,  True,  True]]]))\n"
     ]
    }
   ],
   "source": [
    "dls.show_batch()"
   ]
  },
  {
   "cell_type": "code",
   "execution_count": null,
   "id": "9ec4f71f-607e-476e-a89e-8d6f2b8bcc19",
   "metadata": {},
   "outputs": [],
   "source": [
    "def make_dataloader(df, block_len, gap_len, bs=10):\n",
    "    pipeline, block_ids = imp_pipeline(df, block_len, gap_len)\n",
    "    \n",
    "    splits = RandomSplitter()(block_ids)\n",
    "    ds = Datasets(block_ids, [pipeline, pipeline], splits=splits)\n",
    "    \n",
    "    return ds.dataloaders(bs=bs)\n",
    "    "
   ]
  },
  {
   "cell_type": "code",
   "execution_count": null,
   "id": "cb1df190-83ba-4056-be7f-82d364e2dc87",
   "metadata": {},
   "outputs": [],
   "source": [
    "dls = make_dataloader(hai, 200, 10)"
   ]
  },
  {
   "cell_type": "code",
   "execution_count": null,
   "id": "3024300b-3f82-436d-ac6d-13ff7861dbf7",
   "metadata": {},
   "outputs": [
    {
     "data": {
      "text/plain": [
       "torch.Size([10, 200, 3])"
      ]
     },
     "execution_count": null,
     "metadata": {},
     "output_type": "execute_result"
    }
   ],
   "source": [
    "dls.one_batch()[0][0].shape"
   ]
  },
  {
   "cell_type": "markdown",
   "id": "64bb7e8b-178d-4ab6-a359-5bcc010a8767",
   "metadata": {},
   "source": [
    "## Model"
   ]
  },
  {
   "cell_type": "markdown",
   "id": "e4e0999c-d959-49fa-8e8a-0ed8e53f2f5d",
   "metadata": {},
   "source": [
    "### Forward Function"
   ]
  },
  {
   "cell_type": "markdown",
   "id": "dc64e0a2-b14b-4159-af4f-c6a9fb2a3f05",
   "metadata": {},
   "source": [
    "in order to the a pytorch module we need a forward method to the kalman filter"
   ]
  },
  {
   "cell_type": "code",
   "execution_count": null,
   "id": "42d40fc6-7b8d-4e9c-9f14-70ea54629826",
   "metadata": {},
   "outputs": [],
   "source": [
    "from meteo_imp.kalman.filter import *\n",
    "from torch.distributions import MultivariateNormal"
   ]
  },
  {
   "cell_type": "code",
   "execution_count": null,
   "id": "8a7fecca-9a5a-4f54-b16d-d15b8adab21a",
   "metadata": {},
   "outputs": [],
   "source": [
    "class ListNormal(fastuple):\n",
    "    pass"
   ]
  },
  {
   "cell_type": "code",
   "execution_count": null,
   "id": "737a9f2a-ce54-42a3-8490-acb988138ed4",
   "metadata": {},
   "outputs": [],
   "source": [
    "@patch\n",
    "def forward(self: KalmanFilter, masked_data: MaskedTensor):\n",
    "    data, mask = masked_data\n",
    "    means = torch.empty_like(data)\n",
    "    covs = torch.empty(data.shape[0], data.shape[1], data.shape[2], data.shape[2], device=data.device)\n",
    "    for i in range(data.shape[0]):\n",
    "        filter_data = data[i]\n",
    "        filter_mask = mask[i].all(1)\n",
    "        times = torch.arange(filter_data.shape[0]) # TODO can optimize this\n",
    "        # print(data.shape, mask.shape, means.shape, covs.shape, filter_data.shape, filter_mask.shape, times.shape)\n",
    "        mean, cov = self.predict(filter_data, mask=filter_mask, times=times)\n",
    "        \n",
    "        means[i], covs[i] = mean, cov\n",
    "    return ListNormal(means, covs)"
   ]
  },
  {
   "cell_type": "code",
   "execution_count": null,
   "id": "634980aa-b323-45cc-b2a3-bdd0ee95a4a9",
   "metadata": {},
   "outputs": [],
   "source": [
    "model = KalmanFilter(n_dim_state = hai.shape[1], n_dim_obs=hai.shape[1])"
   ]
  },
  {
   "cell_type": "code",
   "execution_count": null,
   "id": "f7ebde2f-19aa-4860-b665-b13865111506",
   "metadata": {},
   "outputs": [],
   "source": [
    "input = dls.one_batch()[0]\n",
    "target = dls.one_batch()[1]"
   ]
  },
  {
   "cell_type": "code",
   "execution_count": null,
   "id": "5d690cd5-44a1-45d6-9abb-ef4fb0a62314",
   "metadata": {},
   "outputs": [],
   "source": [
    "pred = model(input)"
   ]
  },
  {
   "cell_type": "code",
   "execution_count": null,
   "id": "a7bc7df7-effd-41b0-bb90-6beaa874d1e1",
   "metadata": {},
   "outputs": [
    {
     "data": {
      "text/plain": [
       "torch.Size([10, 200, 3])"
      ]
     },
     "execution_count": null,
     "metadata": {},
     "output_type": "execute_result"
    }
   ],
   "source": [
    "pred[0].shape"
   ]
  },
  {
   "cell_type": "code",
   "execution_count": null,
   "id": "ed03f415-567f-47ab-b019-b7291cee03f0",
   "metadata": {},
   "outputs": [
    {
     "data": {
      "text/plain": [
       "torch.Size([10, 200, 3, 3])"
      ]
     },
     "execution_count": null,
     "metadata": {},
     "output_type": "execute_result"
    }
   ],
   "source": [
    "pred[1].shape"
   ]
  },
  {
   "cell_type": "markdown",
   "id": "2051bf57-a2e3-4232-861b-fafe814b1825",
   "metadata": {},
   "source": [
    "### Loss Function"
   ]
  },
  {
   "cell_type": "markdown",
   "id": "9b68c540-4df1-4a2e-92da-3cd55782d73c",
   "metadata": {},
   "source": [
    "log the limit at which the covatiances matrices are not symmetric anymore"
   ]
  },
  {
   "cell_type": "code",
   "execution_count": null,
   "id": "c8f07b4a-79e6-42a7-9ef5-0b9784270f22",
   "metadata": {},
   "outputs": [],
   "source": [
    "exps = []"
   ]
  },
  {
   "cell_type": "code",
   "execution_count": null,
   "id": "33619106-823c-44c4-8f05-b90798fe15cc",
   "metadata": {},
   "outputs": [],
   "source": [
    "def imp_ll_loss_single(means, covs, data, mask):\n",
    "    \"Log Likelihood loss for imputation (with MaskedTensor)\"    \n",
    "    times = torch.argwhere(~mask.all(1))\n",
    "    \n",
    "    lls = torch.zeros(len(times))\n",
    "    for i, t in enumerate(times):\n",
    "        exps.append(symmetric_upto(covs[t]))\n",
    "        # check_posdef(covs[t])\n",
    "        lls[i] = MultivariateNormal(means[t], covs[t], validate_args=False).log_prob(data[t:t+1])\n",
    "    return -lls.sum() "
   ]
  },
  {
   "cell_type": "code",
   "execution_count": null,
   "id": "1171387a-08f5-4b01-a860-df42cab713ce",
   "metadata": {},
   "outputs": [],
   "source": [
    "def imp_ll_loss(pred: ListNormal, target: MaskedTensor):\n",
    "    \"Log Likelihood loss for imputation (with MaskedTensor)\"\n",
    "    data, mask = target\n",
    "    means, covs = pred\n",
    "    \n",
    "    losses = torch.empty(data.shape[0])\n",
    "    \n",
    "    for i in range(data.shape[0]):\n",
    "        losses[i] = imp_ll_loss_single(means[i], covs[i], data[i], mask[i])\n",
    "    return losses.sum()"
   ]
  },
  {
   "cell_type": "code",
   "execution_count": null,
   "id": "5b19537d-d697-4732-bfd8-1b624f19b006",
   "metadata": {},
   "outputs": [
    {
     "data": {
      "text/plain": [
       "tensor(-1243.3579, grad_fn=<SumBackward0>)"
      ]
     },
     "execution_count": null,
     "metadata": {},
     "output_type": "execute_result"
    }
   ],
   "source": [
    "MultivariateNormal(pred[0][0], pred[1][0]).log_prob(target[0][0:1]).sum()"
   ]
  },
  {
   "cell_type": "code",
   "execution_count": null,
   "id": "8732b757-c2d9-4bb0-977b-f4b5f7656ab1",
   "metadata": {},
   "outputs": [
    {
     "data": {
      "text/plain": [
       "tensor(612.4244, grad_fn=<SumBackward0>)"
      ]
     },
     "execution_count": null,
     "metadata": {},
     "output_type": "execute_result"
    }
   ],
   "source": [
    "imp_ll_loss(pred, target)"
   ]
  },
  {
   "cell_type": "code",
   "execution_count": null,
   "id": "e53bdccb-7ff4-47e6-a2be-536d599f720b",
   "metadata": {},
   "outputs": [],
   "source": [
    "imp_ll_loss(pred, target).backward()"
   ]
  },
  {
   "cell_type": "markdown",
   "id": "dbc02d69-7930-47b8-9543-d07998f3baa6",
   "metadata": {},
   "source": [
    "### Metrics"
   ]
  },
  {
   "cell_type": "markdown",
   "id": "6b485cfe-5fce-449b-810c-1884990f103b",
   "metadata": {},
   "source": [
    "Wrapper around fastai metrics to support masked tensors and normal distributions"
   ]
  },
  {
   "cell_type": "code",
   "execution_count": null,
   "id": "dad52498-03b4-4aac-a8d6-bf7dc6f1cab1",
   "metadata": {},
   "outputs": [],
   "source": [
    "def to_meteo_imp_metric(metric):\n",
    "    def meteo_imp_metric(inp, targ):\n",
    "        return metric(imp[0], targ[0]) # first element are the means, first element "
   ]
  },
  {
   "cell_type": "markdown",
   "id": "73470c88-47dc-4187-a208-789f24c23a3e",
   "metadata": {},
   "source": [
    "### Callback"
   ]
  },
  {
   "cell_type": "markdown",
   "id": "96c199ec-b21c-401d-bd3c-16670de8e372",
   "metadata": {},
   "source": [
    "save the model state "
   ]
  },
  {
   "cell_type": "code",
   "execution_count": null,
   "id": "c9f34e5c-1cf5-4c04-b7e0-89e2e33b9aa1",
   "metadata": {},
   "outputs": [],
   "source": [
    "from fastai.callback.all import *"
   ]
  },
  {
   "cell_type": "code",
   "execution_count": null,
   "id": "a928d1c7-405c-4536-8912-e1ec844e5f4c",
   "metadata": {},
   "outputs": [],
   "source": [
    "class SaveParams(Callback):\n",
    "    def __init__(self):\n",
    "        super().__init__()\n",
    "        self.params = []\n",
    "    def after_batch(self):\n",
    "        self.params.append(self.model.state_dict())"
   ]
  },
  {
   "cell_type": "code",
   "execution_count": null,
   "id": "c6bbe197-91eb-4fb2-ae15-f2d463914902",
   "metadata": {},
   "outputs": [],
   "source": [
    "class SaveParams(Callback):\n",
    "    def __init__(self, param_name):\n",
    "        super().__init__()\n",
    "        self.params = []\n",
    "        self.param_name = param_name\n",
    "    def after_batch(self):\n",
    "        param = getattr(self.model, self.param_name).detach()\n",
    "        self.params.append(param)"
   ]
  },
  {
   "cell_type": "markdown",
   "id": "99617495-ab91-4a00-8371-91011ba551ba",
   "metadata": {},
   "source": [
    "### Learner"
   ]
  },
  {
   "cell_type": "code",
   "execution_count": null,
   "id": "87ad92d0-4b9a-4f10-817d-c213366fe83a",
   "metadata": {},
   "outputs": [],
   "source": [
    "from fastai.learner import * \n",
    "\n",
    "from fastai.tabular.all import *\n",
    "\n",
    "from fastai.tabular.learner import *\n",
    "\n",
    "from fastai.callback.progress import ShowGraphCallback"
   ]
  },
  {
   "cell_type": "code",
   "execution_count": null,
   "id": "8bb68031-bc19-4c2f-b82b-201939013bbc",
   "metadata": {},
   "outputs": [],
   "source": [
    "obs_cov_history = SaveParams('obs_cov')"
   ]
  },
  {
   "cell_type": "code",
   "execution_count": null,
   "id": "25efc678-791b-4599-87d3-820ace3f7263",
   "metadata": {},
   "outputs": [],
   "source": [
    "model = KalmanFilter(n_dim_state = hai.shape[1], n_dim_obs=hai.shape[1])"
   ]
  },
  {
   "cell_type": "code",
   "execution_count": null,
   "id": "81bc94fc-729b-4c61-815f-a36000396f27",
   "metadata": {},
   "outputs": [],
   "source": [
    "dls = make_dataloader(hai[:2000], 200, 10, bs=1) "
   ]
  },
  {
   "cell_type": "code",
   "execution_count": null,
   "id": "c508264f-ca12-4f8f-93cc-9245fa84e7d9",
   "metadata": {},
   "outputs": [],
   "source": [
    "learn = Learner(dls, model, loss_func=imp_ll_loss, cbs = [ShowGraphCallback, obs_cov_history] )"
   ]
  },
  {
   "cell_type": "code",
   "execution_count": null,
   "id": "eef1826f-78e6-4654-a92f-dca07b2ddb7e",
   "metadata": {},
   "outputs": [
    {
     "data": {
      "text/html": [
       "\n",
       "<style>\n",
       "    /* Turns off some styling */\n",
       "    progress {\n",
       "        /* gets rid of default border in Firefox and Opera. */\n",
       "        border: none;\n",
       "        /* Needs to be in here for Safari polyfill so background images work as expected. */\n",
       "        background-size: auto;\n",
       "    }\n",
       "    progress:not([value]), progress:not([value])::-webkit-progress-bar {\n",
       "        background: repeating-linear-gradient(45deg, #7e7e7e, #7e7e7e 10px, #5c5c5c 10px, #5c5c5c 20px);\n",
       "    }\n",
       "    .progress-bar-interrupted, .progress-bar-interrupted::-webkit-progress-bar {\n",
       "        background: #F44336;\n",
       "    }\n",
       "</style>\n"
      ],
      "text/plain": [
       "<IPython.core.display.HTML object>"
      ]
     },
     "metadata": {},
     "output_type": "display_data"
    },
    {
     "data": {
      "text/html": [
       "\n",
       "    <div>\n",
       "      <progress value='7' class='' max='10' style='width:300px; height:20px; vertical-align: middle;'></progress>\n",
       "      70.00% [7/10 00:20&lt;00:08]\n",
       "    </div>\n",
       "    \n",
       "<table border=\"1\" class=\"dataframe\">\n",
       "  <thead>\n",
       "    <tr style=\"text-align: left;\">\n",
       "      <th>epoch</th>\n",
       "      <th>train_loss</th>\n",
       "      <th>valid_loss</th>\n",
       "      <th>time</th>\n",
       "    </tr>\n",
       "  </thead>\n",
       "  <tbody>\n",
       "    <tr>\n",
       "      <td>0</td>\n",
       "      <td>32.631718</td>\n",
       "      <td>30.120993</td>\n",
       "      <td>00:02</td>\n",
       "    </tr>\n",
       "    <tr>\n",
       "      <td>1</td>\n",
       "      <td>30.592110</td>\n",
       "      <td>26.432562</td>\n",
       "      <td>00:02</td>\n",
       "    </tr>\n",
       "    <tr>\n",
       "      <td>2</td>\n",
       "      <td>28.181692</td>\n",
       "      <td>21.431089</td>\n",
       "      <td>00:02</td>\n",
       "    </tr>\n",
       "    <tr>\n",
       "      <td>3</td>\n",
       "      <td>25.529070</td>\n",
       "      <td>14.141644</td>\n",
       "      <td>00:02</td>\n",
       "    </tr>\n",
       "    <tr>\n",
       "      <td>4</td>\n",
       "      <td>21.080959</td>\n",
       "      <td>-1.138896</td>\n",
       "      <td>00:02</td>\n",
       "    </tr>\n",
       "    <tr>\n",
       "      <td>5</td>\n",
       "      <td>11.320638</td>\n",
       "      <td>-41.864323</td>\n",
       "      <td>00:02</td>\n",
       "    </tr>\n",
       "    <tr>\n",
       "      <td>6</td>\n",
       "      <td>0.288462</td>\n",
       "      <td>-26.189541</td>\n",
       "      <td>00:02</td>\n",
       "    </tr>\n",
       "  </tbody>\n",
       "</table><p>\n",
       "\n",
       "    <div>\n",
       "      <progress value='0' class='' max='8' style='width:300px; height:20px; vertical-align: middle;'></progress>\n",
       "      0.00% [0/8 00:00&lt;?]\n",
       "    </div>\n",
       "    "
      ],
      "text/plain": [
       "<IPython.core.display.HTML object>"
      ]
     },
     "metadata": {},
     "output_type": "display_data"
    },
    {
     "data": {
      "image/png": "[encoded data removed]",
      "text/plain": [
       "<Figure size 432x288 with 1 Axes>"
      ]
     },
     "metadata": {},
     "output_type": "display_data"
    },
    {
     "name": "stderr",
     "output_type": "stream",
     "text": [
      "/home/simone/Documents/uni/Thesis/GPFA_imputation/meteo_imp/kalman/filter.py:178: UserWarning: Not symmetric, symmetric up to 1e-1\n",
      "Not pos definite with eigv tensor([-1.2297e-03,  1.0578e-02,  3.6801e+00], grad_fn=<LinalgEighBackward0>) \n",
      "force symmetric is not posdeftensor([[ 1.7441, -1.5602,  1.4013],\n",
      "        [-1.5602,  0.9713, -0.8622],\n",
      "        [ 0.9713, -0.8622,  0.5441]], grad_fn=<IndexPutBackward0>)\n",
      "  warn(msg)\n",
      "/home/simone/Documents/uni/Thesis/GPFA_imputation/meteo_imp/kalman/filter.py:178: UserWarning: Not symmetric, symmetric up to 1e0\n",
      "Not pos definite with eigv tensor([-0.0898,  0.3838,  6.7793], grad_fn=<LinalgEighBackward0>) \n",
      "forced symmetric is posdeftensor([[ 3.2304, -2.5537,  1.9203],\n",
      "        [-2.5537,  2.2584, -1.5892],\n",
      "        [ 2.2584, -1.5892,  1.9226]], grad_fn=<IndexPutBackward0>)\n",
      "  warn(msg)\n",
      "/home/simone/Documents/uni/Thesis/GPFA_imputation/meteo_imp/kalman/filter.py:178: UserWarning: Not symmetric, symmetric up to 1e0\n",
      "Not pos definite with eigv tensor([-1.3583, -0.0469,  0.5878], grad_fn=<LinalgEighBackward0>) \n",
      "force symmetric is not posdeftensor([[-0.2647, -0.8554, -0.6847],\n",
      "        [-0.8554,  0.1874, -0.2263],\n",
      "        [ 0.1874, -0.2263,  0.1321]], grad_fn=<IndexPutBackward0>)\n",
      "  warn(msg)\n",
      "/home/simone/Documents/uni/Thesis/GPFA_imputation/meteo_imp/kalman/filter.py:178: UserWarning: Not symmetric, symmetric up to 1e0\n",
      "Not pos definite with eigv tensor([-0.5199,  0.3855,  1.2596], grad_fn=<LinalgEighBackward0>) \n",
      "force symmetric is not posdeftensor([[ 0.1264, -0.8095,  0.5926],\n",
      "        [-0.8095,  0.2777, -0.0658],\n",
      "        [ 0.2777, -0.0658,  0.4063]], grad_fn=<IndexPutBackward0>)\n",
      "  warn(msg)\n",
      "/home/simone/Documents/uni/Thesis/GPFA_imputation/meteo_imp/kalman/filter.py:178: UserWarning: Not symmetric, symmetric up to 1e0\n",
      "Not pos definite with eigv tensor([-0.3618,  0.5484,  1.3166], grad_fn=<LinalgEighBackward0>) \n",
      "force symmetric is not posdeftensor([[ 0.3587, -0.7668,  0.6461],\n",
      "        [-0.7668,  0.3086,  0.0451],\n",
      "        [ 0.3086,  0.0451,  0.4985]], grad_fn=<IndexPutBackward0>)\n",
      "  warn(msg)\n",
      "/home/simone/Documents/uni/Thesis/GPFA_imputation/meteo_imp/kalman/filter.py:178: UserWarning: Not symmetric, symmetric up to 1e0\n",
      "Not pos definite with eigv tensor([-0.2664,  0.6595,  1.3306], grad_fn=<LinalgEighBackward0>) \n",
      "force symmetric is not posdeftensor([[ 0.5048, -0.7246,  0.6542],\n",
      "        [-0.7246,  0.3150,  0.1145],\n",
      "        [ 0.3150,  0.1145,  0.5647]], grad_fn=<IndexPutBackward0>)\n",
      "  warn(msg)\n",
      "/home/simone/Documents/uni/Thesis/GPFA_imputation/meteo_imp/kalman/filter.py:178: UserWarning: Not symmetric, symmetric up to 1e0\n",
      "Not pos definite with eigv tensor([-0.1989,  0.7260,  1.3156], grad_fn=<LinalgEighBackward0>) \n",
      "force symmetric is not posdeftensor([[ 0.5922, -0.6799,  0.6421],\n",
      "        [-0.6799,  0.3112,  0.1518],\n",
      "        [ 0.3112,  0.1518,  0.6083]], grad_fn=<IndexPutBackward0>)\n",
      "  warn(msg)\n",
      "/home/simone/Documents/uni/Thesis/GPFA_imputation/meteo_imp/kalman/filter.py:178: UserWarning: Not symmetric, symmetric up to 1e0\n",
      "Not pos definite with eigv tensor([-0.1440,  0.7582,  1.2827], grad_fn=<LinalgEighBackward0>) \n",
      "force symmetric is not posdeftensor([[ 0.6398, -0.6323,  0.6215],\n",
      "        [-0.6323,  0.3077,  0.1621],\n",
      "        [ 0.3077,  0.1621,  0.6356]], grad_fn=<IndexPutBackward0>)\n",
      "  warn(msg)\n",
      "/home/simone/Documents/uni/Thesis/GPFA_imputation/meteo_imp/kalman/filter.py:178: UserWarning: Not symmetric, symmetric up to 1e0\n",
      "Not pos definite with eigv tensor([-0.0943,  0.7581,  1.2411], grad_fn=<LinalgEighBackward0>) \n",
      "force symmetric is not posdeftensor([[ 0.6592, -0.5820,  0.6002],\n",
      "        [-0.5820,  0.3085,  0.1493],\n",
      "        [ 0.3085,  0.1493,  0.6456]], grad_fn=<IndexPutBackward0>)\n",
      "  warn(msg)\n",
      "/home/simone/Documents/uni/Thesis/GPFA_imputation/meteo_imp/kalman/filter.py:178: UserWarning: Not symmetric, symmetric up to 1e0\n",
      "Not pos definite with eigv tensor([-0.0475,  0.7218,  1.1976], grad_fn=<LinalgEighBackward0>) \n",
      "force symmetric is not posdeftensor([[ 0.6574, -0.5305,  0.5804],\n",
      "        [-0.5305,  0.3135,  0.1162],\n",
      "        [ 0.3135,  0.1162,  0.6342]], grad_fn=<IndexPutBackward0>)\n",
      "  warn(msg)\n",
      "/home/simone/Documents/uni/Thesis/GPFA_imputation/meteo_imp/kalman/filter.py:178: UserWarning: Not symmetric, symmetric up to 1e0\n",
      "Not pos definite with eigv tensor([-0.0058,  0.6436,  1.1551], grad_fn=<LinalgEighBackward0>) \n",
      "force symmetric is not posdeftensor([[ 0.6378, -0.4802,  0.5603],\n",
      "        [-0.4802,  0.3197,  0.0644],\n",
      "        [ 0.3197,  0.0644,  0.5948]], grad_fn=<IndexPutBackward0>)\n",
      "  warn(msg)\n",
      "/home/simone/Documents/uni/Thesis/GPFA_imputation/meteo_imp/kalman/filter.py:178: UserWarning: Not symmetric, symmetric up to 1e-1\n",
      "Not pos definite with eigv tensor([-0.0090,  0.2231,  2.6981], grad_fn=<LinalgEighBackward0>) \n",
      "forced symmetric is posdeftensor([[ 1.0248, -0.8255,  0.7716],\n",
      "        [-0.8255,  1.0233, -0.7006],\n",
      "        [ 1.0233, -0.7006,  1.1158]], grad_fn=<IndexPutBackward0>)\n",
      "  warn(msg)\n",
      "/home/simone/Documents/uni/Thesis/GPFA_imputation/meteo_imp/kalman/filter.py:178: UserWarning: Not symmetric, symmetric up to 1e-1\n",
      "Not pos definite with eigv tensor([-0.0286,  0.2410,  2.7111], grad_fn=<LinalgEighBackward0>) \n",
      "forced symmetric is posdeftensor([[ 1.0302, -0.8398,  0.7567],\n",
      "        [-0.8398,  1.0338, -0.6838],\n",
      "        [ 1.0338, -0.6838,  1.1367]], grad_fn=<IndexPutBackward0>)\n",
      "  warn(msg)\n",
      "/home/simone/Documents/uni/Thesis/GPFA_imputation/meteo_imp/kalman/filter.py:178: UserWarning: Not symmetric, symmetric up to 1e0\n",
      "Not pos definite with eigv tensor([-0.0518,  0.2475,  2.7178], grad_fn=<LinalgEighBackward0>) \n",
      "force symmetric is not posdeftensor([[ 1.0262, -0.8584,  0.7431],\n",
      "        [-0.8584,  1.0364, -0.6761],\n",
      "        [ 1.0364, -0.6761,  1.1442]], grad_fn=<IndexPutBackward0>)\n",
      "  warn(msg)\n",
      "/home/simone/Documents/uni/Thesis/GPFA_imputation/meteo_imp/kalman/filter.py:178: UserWarning: Not symmetric, symmetric up to 1e0\n",
      "Not pos definite with eigv tensor([-0.0777,  0.2446,  2.7211], grad_fn=<LinalgEighBackward0>) \n",
      "force symmetric is not posdeftensor([[ 1.0132, -0.8805,  0.7331],\n",
      "        [-0.8805,  1.0328, -0.6779],\n",
      "        [ 1.0328, -0.6779,  1.1417]], grad_fn=<IndexPutBackward0>)\n",
      "  warn(msg)\n",
      "/home/simone/Documents/uni/Thesis/GPFA_imputation/meteo_imp/kalman/filter.py:178: UserWarning: Not symmetric, symmetric up to 1e0\n",
      "Not pos definite with eigv tensor([-0.1074,  0.2318,  2.7216], grad_fn=<LinalgEighBackward0>) \n",
      "force symmetric is not posdeftensor([[ 0.9885, -0.9066,  0.7270],\n",
      "        [-0.9066,  1.0223, -0.6909],\n",
      "        [ 1.0223, -0.6909,  1.1305]], grad_fn=<IndexPutBackward0>)\n",
      "  warn(msg)\n",
      "/home/simone/Documents/uni/Thesis/GPFA_imputation/meteo_imp/kalman/filter.py:178: UserWarning: Not symmetric, symmetric up to 1e0\n",
      "Not pos definite with eigv tensor([-0.1455,  0.2066,  2.7163], grad_fn=<LinalgEighBackward0>) \n",
      "force symmetric is not posdeftensor([[ 0.9459, -0.9385,  0.7228],\n",
      "        [-0.9385,  1.0013, -0.7174],\n",
      "        [ 1.0013, -0.7174,  1.1087]], grad_fn=<IndexPutBackward0>)\n",
      "  warn(msg)\n",
      "/home/simone/Documents/uni/Thesis/GPFA_imputation/meteo_imp/kalman/filter.py:178: UserWarning: Not symmetric, symmetric up to 1e0\n",
      "Not pos definite with eigv tensor([-0.2044,  0.1661,  2.6971], grad_fn=<LinalgEighBackward0>) \n",
      "force symmetric is not posdeftensor([[ 0.8745, -0.9795,  0.7147],\n",
      "        [-0.9795,  0.9609, -0.7610],\n",
      "        [ 0.9609, -0.7610,  1.0696]], grad_fn=<IndexPutBackward0>)\n",
      "  warn(msg)\n",
      "/home/simone/Documents/uni/Thesis/GPFA_imputation/meteo_imp/kalman/filter.py:178: UserWarning: Not symmetric, symmetric up to 1e0\n",
      "Not pos definite with eigv tensor([-0.3119,  0.1119,  2.6567], grad_fn=<LinalgEighBackward0>) \n",
      "force symmetric is not posdeftensor([[ 0.7573, -1.0365,  0.6948],\n",
      "        [-1.0365,  0.8891, -0.8285],\n",
      "        [ 0.8891, -0.8285,  1.0046]], grad_fn=<IndexPutBackward0>)\n",
      "  warn(msg)\n",
      "/home/simone/Documents/uni/Thesis/GPFA_imputation/meteo_imp/kalman/filter.py:178: UserWarning: Not symmetric, symmetric up to 1e0\n",
      "Not pos definite with eigv tensor([-0.6492, -0.0591,  2.4135], grad_fn=<LinalgEighBackward0>) \n",
      "force symmetric is not posdeftensor([[ 0.3912, -1.1482,  0.6482],\n",
      "        [-1.1482,  0.6810, -0.9135],\n",
      "        [ 0.6810, -0.9135,  0.6658]], grad_fn=<IndexPutBackward0>)\n",
      "  warn(msg)\n",
      "/home/simone/Documents/uni/Thesis/GPFA_imputation/meteo_imp/kalman/filter.py:178: UserWarning: Not symmetric, symmetric up to 1e-1\n",
      "Not pos definite with eigv tensor([-0.0041,  0.0072,  3.8986], grad_fn=<LinalgEighBackward0>) \n",
      "force symmetric is not posdeftensor([[ 2.0726, -1.7085,  1.4029],\n",
      "        [-1.7085,  0.9343, -0.7649],\n",
      "        [ 0.9343, -0.7649,  0.4263]], grad_fn=<IndexPutBackward0>)\n",
      "  warn(msg)\n",
      "/home/simone/Documents/uni/Thesis/GPFA_imputation/meteo_imp/kalman/filter.py:178: UserWarning: Not symmetric, symmetric up to 1e0\n",
      "Not pos definite with eigv tensor([-0.1331,  0.3895,  7.0783], grad_fn=<LinalgEighBackward0>) \n",
      "forced symmetric is posdeftensor([[ 3.7851, -2.7610,  1.8515],\n",
      "        [-2.7610,  2.2580, -1.4473],\n",
      "        [ 2.2580, -1.4473,  1.6981]], grad_fn=<IndexPutBackward0>)\n",
      "  warn(msg)\n",
      "/home/simone/Documents/uni/Thesis/GPFA_imputation/meteo_imp/kalman/filter.py:178: UserWarning: Not symmetric, symmetric up to 1e0\n",
      "Not pos definite with eigv tensor([-1.5960, -0.0517,  0.5152], grad_fn=<LinalgEighBackward0>) \n",
      "force symmetric is not posdeftensor([[-0.2337, -0.9030, -0.9965],\n",
      "        [-0.9030,  0.1900, -0.1661],\n",
      "        [ 0.1900, -0.1661,  0.0977]], grad_fn=<IndexPutBackward0>)\n",
      "  warn(msg)\n",
      "/home/simone/Documents/uni/Thesis/GPFA_imputation/meteo_imp/kalman/filter.py:178: UserWarning: Not symmetric, symmetric up to 1e0\n",
      "Not pos definite with eigv tensor([-0.5523,  0.4064,  1.2877], grad_fn=<LinalgEighBackward0>) \n",
      "force symmetric is not posdeftensor([[ 0.1164, -0.8423,  0.6161],\n",
      "        [-0.8423,  0.2703, -0.0377],\n",
      "        [ 0.2703, -0.0377,  0.4093]], grad_fn=<IndexPutBackward0>)\n",
      "  warn(msg)\n",
      "/home/simone/Documents/uni/Thesis/GPFA_imputation/meteo_imp/kalman/filter.py:178: UserWarning: Not symmetric, symmetric up to 1e0\n",
      "Not pos definite with eigv tensor([-0.4060,  0.5656,  1.3328], grad_fn=<LinalgEighBackward0>) \n",
      "force symmetric is not posdeftensor([[ 0.3079, -0.7953,  0.6662],\n",
      "        [-0.7953,  0.3039,  0.0464],\n",
      "        [ 0.3039,  0.0464,  0.5183]], grad_fn=<IndexPutBackward0>)\n",
      "  warn(msg)\n",
      "/home/simone/Documents/uni/Thesis/GPFA_imputation/meteo_imp/kalman/filter.py:178: UserWarning: Not symmetric, symmetric up to 1e0\n",
      "Not pos definite with eigv tensor([-0.3116,  0.6690,  1.3431], grad_fn=<LinalgEighBackward0>) \n",
      "force symmetric is not posdeftensor([[ 0.4306, -0.7539,  0.6793],\n",
      "        [-0.7539,  0.3141,  0.0970],\n",
      "        [ 0.3141,  0.0970,  0.5907]], grad_fn=<IndexPutBackward0>)\n",
      "  warn(msg)\n",
      "/home/simone/Documents/uni/Thesis/GPFA_imputation/meteo_imp/kalman/filter.py:178: UserWarning: Not symmetric, symmetric up to 1e0\n",
      "Not pos definite with eigv tensor([-0.2428,  0.7294,  1.3341], grad_fn=<LinalgEighBackward0>) \n",
      "force symmetric is not posdeftensor([[ 0.5085, -0.7149,  0.6742],\n",
      "        [-0.7149,  0.3157,  0.1203],\n",
      "        [ 0.3157,  0.1203,  0.6379]], grad_fn=<IndexPutBackward0>)\n",
      "  warn(msg)\n",
      "/home/simone/Documents/uni/Thesis/GPFA_imputation/meteo_imp/kalman/filter.py:178: UserWarning: Not symmetric, symmetric up to 1e0\n",
      "Not pos definite with eigv tensor([-0.1864,  0.7543,  1.3136], grad_fn=<LinalgEighBackward0>) \n",
      "force symmetric is not posdeftensor([[ 0.5559, -0.6757,  0.6617],\n",
      "        [-0.6757,  0.3154,  0.1215],\n",
      "        [ 0.3154,  0.1215,  0.6638]], grad_fn=<IndexPutBackward0>)\n",
      "  warn(msg)\n",
      "/home/simone/Documents/uni/Thesis/GPFA_imputation/meteo_imp/kalman/filter.py:178: UserWarning: Not symmetric, symmetric up to 1e0\n",
      "Not pos definite with eigv tensor([-0.1360,  0.7470,  1.2864], grad_fn=<LinalgEighBackward0>) \n",
      "force symmetric is not posdeftensor([[ 0.5814, -0.6346,  0.6467],\n",
      "        [-0.6346,  0.3162,  0.1042],\n",
      "        [ 0.3162,  0.1042,  0.6693]], grad_fn=<IndexPutBackward0>)\n",
      "  warn(msg)\n",
      "/home/simone/Documents/uni/Thesis/GPFA_imputation/meteo_imp/kalman/filter.py:178: UserWarning: Not symmetric, symmetric up to 1e0\n",
      "Not pos definite with eigv tensor([-0.0888,  0.7060,  1.2540], grad_fn=<LinalgEighBackward0>) \n",
      "force symmetric is not posdeftensor([[ 0.5893, -0.5906,  0.6305],\n",
      "        [-0.5906,  0.3177,  0.0714],\n",
      "        [ 0.3177,  0.0714,  0.6514]], grad_fn=<IndexPutBackward0>)\n",
      "  warn(msg)\n",
      "/home/simone/Documents/uni/Thesis/GPFA_imputation/meteo_imp/kalman/filter.py:178: UserWarning: Not symmetric, symmetric up to 1e0\n",
      "Not pos definite with eigv tensor([-0.0451,  0.6275,  1.2112], grad_fn=<LinalgEighBackward0>) \n",
      "force symmetric is not posdeftensor([[ 0.5801, -0.5425,  0.6101],\n",
      "        [-0.5425,  0.3163,  0.0257],\n",
      "        [ 0.3163,  0.0257,  0.6035]], grad_fn=<IndexPutBackward0>)\n",
      "  warn(msg)\n",
      "/home/simone/Documents/uni/Thesis/GPFA_imputation/meteo_imp/kalman/filter.py:178: UserWarning: Not symmetric, symmetric up to 1e0\n",
      "Not pos definite with eigv tensor([-0.0079,  0.5050,  1.1406], grad_fn=<LinalgEighBackward0>) \n",
      "force symmetric is not posdeftensor([[ 0.5487, -0.4870,  0.5755],\n",
      "        [-0.4870,  0.3035, -0.0288],\n",
      "        [ 0.3035, -0.0288,  0.5136]], grad_fn=<IndexPutBackward0>)\n",
      "  warn(msg)\n",
      "/home/simone/Documents/uni/Thesis/GPFA_imputation/meteo_imp/kalman/filter.py:178: UserWarning: Not symmetric, symmetric up to 1e-1\n",
      "Not pos definite with eigv tensor([-0.0230,  0.1560,  2.6760], grad_fn=<LinalgEighBackward0>) \n",
      "forced symmetric is posdeftensor([[ 0.9636, -0.8451,  0.7588],\n",
      "        [-0.8451,  0.9830, -0.7550],\n",
      "        [ 0.9830, -0.7550,  1.0866]], grad_fn=<IndexPutBackward0>)\n",
      "  warn(msg)\n",
      "/home/simone/Documents/uni/Thesis/GPFA_imputation/meteo_imp/kalman/filter.py:178: UserWarning: Not symmetric, symmetric up to 1e0\n",
      "Not pos definite with eigv tensor([-0.0417,  0.1923,  2.7179], grad_fn=<LinalgEighBackward0>) \n",
      "forced symmetric is posdeftensor([[ 0.9783, -0.8585,  0.7537],\n",
      "        [-0.8585,  1.0113, -0.7381],\n",
      "        [ 1.0113, -0.7381,  1.1365]], grad_fn=<IndexPutBackward0>)\n",
      "  warn(msg)\n",
      "/home/simone/Documents/uni/Thesis/GPFA_imputation/meteo_imp/kalman/filter.py:178: UserWarning: Not symmetric, symmetric up to 1e0\n",
      "Not pos definite with eigv tensor([-0.0636,  0.2139,  2.7362], grad_fn=<LinalgEighBackward0>) \n",
      "force symmetric is not posdeftensor([[ 0.9805, -0.8725,  0.7438],\n",
      "        [-0.8725,  1.0244, -0.7245],\n",
      "        [ 1.0244, -0.7245,  1.1622]], grad_fn=<IndexPutBackward0>)\n",
      "  warn(msg)\n",
      "/home/simone/Documents/uni/Thesis/GPFA_imputation/meteo_imp/kalman/filter.py:178: UserWarning: Not symmetric, symmetric up to 1e0\n",
      "Not pos definite with eigv tensor([-0.0872,  0.2248,  2.7424], grad_fn=<LinalgEighBackward0>) \n",
      "force symmetric is not posdeftensor([[ 0.9743, -0.8877,  0.7336],\n",
      "        [-0.8877,  1.0283, -0.7164],\n",
      "        [ 1.0283, -0.7164,  1.1722]], grad_fn=<IndexPutBackward0>)\n",
      "  warn(msg)\n",
      "/home/simone/Documents/uni/Thesis/GPFA_imputation/meteo_imp/kalman/filter.py:178: UserWarning: Not symmetric, symmetric up to 1e0\n",
      "Not pos definite with eigv tensor([-0.1122,  0.2264,  2.7416], grad_fn=<LinalgEighBackward0>) \n",
      "force symmetric is not posdeftensor([[ 0.9604, -0.9050,  0.7249],\n",
      "        [-0.9050,  1.0249, -0.7154],\n",
      "        [ 1.0249, -0.7154,  1.1705]], grad_fn=<IndexPutBackward0>)\n",
      "  warn(msg)\n",
      "/home/simone/Documents/uni/Thesis/GPFA_imputation/meteo_imp/kalman/filter.py:178: UserWarning: Not symmetric, symmetric up to 1e0\n",
      "Not pos definite with eigv tensor([-0.1404,  0.2182,  2.7355], grad_fn=<LinalgEighBackward0>) \n",
      "force symmetric is not posdeftensor([[ 0.9369, -0.9255,  0.7181],\n",
      "        [-0.9255,  1.0139, -0.7232],\n",
      "        [ 1.0139, -0.7232,  1.1583]], grad_fn=<IndexPutBackward0>)\n",
      "  warn(msg)\n",
      "/home/simone/Documents/uni/Thesis/GPFA_imputation/meteo_imp/kalman/filter.py:178: UserWarning: Not symmetric, symmetric up to 1e0\n",
      "Not pos definite with eigv tensor([-0.1766,  0.1982,  2.7219], grad_fn=<LinalgEighBackward0>) \n",
      "force symmetric is not posdeftensor([[ 0.8991, -0.9514,  0.7112],\n",
      "        [-0.9514,  0.9921, -0.7423],\n",
      "        [ 0.9921, -0.7423,  1.1332]], grad_fn=<IndexPutBackward0>)\n",
      "  warn(msg)\n",
      "/home/simone/Documents/uni/Thesis/GPFA_imputation/meteo_imp/kalman/filter.py:178: UserWarning: Not symmetric, symmetric up to 1e0\n",
      "Not pos definite with eigv tensor([-0.2314,  0.1643,  2.6966], grad_fn=<LinalgEighBackward0>) \n",
      "force symmetric is not posdeftensor([[ 0.8387, -0.9866,  0.7005],\n",
      "        [-0.9866,  0.9531, -0.7764],\n",
      "        [ 0.9531, -0.7764,  1.0903]], grad_fn=<IndexPutBackward0>)\n",
      "  warn(msg)\n",
      "/home/simone/Documents/uni/Thesis/GPFA_imputation/meteo_imp/kalman/filter.py:178: UserWarning: Not symmetric, symmetric up to 1e0\n",
      "Not pos definite with eigv tensor([-0.3288,  0.1162,  2.6489], grad_fn=<LinalgEighBackward0>) \n",
      "force symmetric is not posdeftensor([[ 0.7411, -1.0369,  0.6774],\n",
      "        [-1.0369,  0.8846, -0.8304],\n",
      "        [ 0.8846, -0.8304,  1.0179]], grad_fn=<IndexPutBackward0>)\n",
      "  warn(msg)\n",
      "/home/simone/Documents/uni/Thesis/GPFA_imputation/meteo_imp/kalman/filter.py:178: UserWarning: Not symmetric, symmetric up to 1e0\n",
      "Not pos definite with eigv tensor([-0.6716, -0.0894,  2.3594], grad_fn=<LinalgEighBackward0>) \n",
      "force symmetric is not posdeftensor([[ 0.3668, -1.1507,  0.6340],\n",
      "        [-1.1507,  0.6634, -0.8955],\n",
      "        [ 0.6634, -0.8955,  0.5977]], grad_fn=<IndexPutBackward0>)\n",
      "  warn(msg)\n",
      "/home/simone/Documents/uni/Thesis/GPFA_imputation/meteo_imp/kalman/filter.py:178: UserWarning: Not symmetric, symmetric up to 1e-1\n",
      "Not pos definite with eigv tensor([-0.0047,  0.0296,  4.4018]) \n",
      "force symmetric is not posdeftensor([[ 2.6213, -1.9502,  1.4585],\n",
      "        [-1.9502,  0.9325, -0.6751],\n",
      "        [ 0.9325, -0.6751,  0.3469]])\n",
      "  warn(msg)\n",
      "/home/simone/Documents/uni/Thesis/GPFA_imputation/meteo_imp/kalman/filter.py:178: UserWarning: Not symmetric, symmetric up to 1e0\n",
      "Not pos definite with eigv tensor([-0.1690,  0.4320,  7.8340]) \n",
      "forced symmetric is posdeftensor([[ 4.7898, -3.0841,  1.7844],\n",
      "        [-3.0841,  2.3192, -1.2963],\n",
      "        [ 2.3192, -1.2963,  1.5228]])\n",
      "  warn(msg)\n",
      "/home/simone/Documents/uni/Thesis/GPFA_imputation/meteo_imp/kalman/filter.py:178: UserWarning: Not symmetric, symmetric up to 1e0\n",
      "Not pos definite with eigv tensor([-1.5306, -0.0534,  0.2915]) \n",
      "force symmetric is not posdeftensor([[-0.3081, -0.7630, -1.0535],\n",
      "        [-0.7630,  0.1575, -0.0600],\n",
      "        [ 0.1575, -0.0600,  0.0691]])\n",
      "  warn(msg)\n",
      "/home/simone/Documents/uni/Thesis/GPFA_imputation/meteo_imp/kalman/filter.py:178: UserWarning: Not symmetric, symmetric up to 1e0\n",
      "Not pos definite with eigv tensor([-0.5107,  0.4288,  1.1722]) \n",
      "force symmetric is not posdeftensor([[ 0.0353, -0.7422,  0.6448],\n",
      "        [-0.7422,  0.2565, -0.0063],\n",
      "        [ 0.2565, -0.0063,  0.4102]])\n",
      "  warn(msg)\n",
      "/home/simone/Documents/uni/Thesis/GPFA_imputation/meteo_imp/kalman/filter.py:178: UserWarning: Not symmetric, symmetric up to 1e0\n",
      "Not pos definite with eigv tensor([-0.4027,  0.5894,  1.2444]) \n",
      "force symmetric is not posdeftensor([[ 0.1698, -0.7242,  0.7117],\n",
      "        [-0.7242,  0.2914,  0.0307],\n",
      "        [ 0.2914,  0.0307,  0.5496]])\n",
      "  warn(msg)\n",
      "/home/simone/Documents/uni/Thesis/GPFA_imputation/meteo_imp/kalman/filter.py:178: UserWarning: Not symmetric, symmetric up to 1e0\n",
      "Not pos definite with eigv tensor([-0.3331,  0.6848,  1.2702]) \n",
      "force symmetric is not posdeftensor([[ 0.2550, -0.7079,  0.7301],\n",
      "        [-0.7079,  0.3017,  0.0516],\n",
      "        [ 0.3017,  0.0516,  0.6367]])\n",
      "  warn(msg)\n",
      "/home/simone/Documents/uni/Thesis/GPFA_imputation/meteo_imp/kalman/filter.py:178: UserWarning: Not symmetric, symmetric up to 1e0\n",
      "Not pos definite with eigv tensor([-0.2825,  0.7356,  1.2735]) \n",
      "force symmetric is not posdeftensor([[ 0.3083, -0.6907,  0.7294],\n",
      "        [-0.6907,  0.3002,  0.0583],\n",
      "        [ 0.3002,  0.0583,  0.6889]])\n",
      "  warn(msg)\n",
      "/home/simone/Documents/uni/Thesis/GPFA_imputation/meteo_imp/kalman/filter.py:178: UserWarning: Not symmetric, symmetric up to 1e0\n",
      "Not pos definite with eigv tensor([-0.2418,  0.7519,  1.2616]) \n",
      "force symmetric is not posdeftensor([[ 0.3399, -0.6699,  0.7186],\n",
      "        [-0.6699,  0.2931,  0.0531],\n",
      "        [ 0.2931,  0.0531,  0.7133]])\n",
      "  warn(msg)\n",
      "/home/simone/Documents/uni/Thesis/GPFA_imputation/meteo_imp/kalman/filter.py:178: UserWarning: Not symmetric, symmetric up to 1e0\n",
      "Not pos definite with eigv tensor([-0.2056,  0.7378,  1.2354]) \n",
      "force symmetric is not posdeftensor([[ 0.3540, -0.6428,  0.7017],\n",
      "        [-0.6428,  0.2821,  0.0379],\n",
      "        [ 0.2821,  0.0379,  0.7120]])\n",
      "  warn(msg)\n",
      "/home/simone/Documents/uni/Thesis/GPFA_imputation/meteo_imp/kalman/filter.py:178: UserWarning: Not symmetric, symmetric up to 1e0\n",
      "Not pos definite with eigv tensor([-0.1703,  0.6939,  1.1920]) \n",
      "force symmetric is not posdeftensor([[ 0.3533, -0.6061,  0.6787],\n",
      "        [-0.6061,  0.2677,  0.0150],\n",
      "        [ 0.2677,  0.0150,  0.6837]])\n",
      "  warn(msg)\n",
      "/home/simone/Documents/uni/Thesis/GPFA_imputation/meteo_imp/kalman/filter.py:178: UserWarning: Not symmetric, symmetric up to 1e0\n",
      "Not pos definite with eigv tensor([-0.1334,  0.6172,  1.1205]) \n",
      "force symmetric is not posdeftensor([[ 0.3359, -0.5544,  0.6460],\n",
      "        [-0.5544,  0.2468, -0.0122],\n",
      "        [ 0.2468, -0.0122,  0.6224]])\n",
      "  warn(msg)\n",
      "/home/simone/Documents/uni/Thesis/GPFA_imputation/meteo_imp/kalman/filter.py:178: UserWarning: Not symmetric, symmetric up to 1e0\n",
      "Not pos definite with eigv tensor([-0.0939,  0.4997,  0.9950]) \n",
      "force symmetric is not posdeftensor([[ 0.2944, -0.4765,  0.5912],\n",
      "        [-0.4765,  0.2121, -0.0378],\n",
      "        [ 0.2121, -0.0378,  0.5152]])\n",
      "  warn(msg)\n",
      "/home/simone/Documents/uni/Thesis/GPFA_imputation/meteo_imp/kalman/filter.py:178: UserWarning: Not symmetric, symmetric up to 1e0\n",
      "Not pos definite with eigv tensor([-0.0521,  0.3208,  0.7429]) \n",
      "force symmetric is not posdeftensor([[ 0.2060, -0.3418,  0.4700],\n",
      "        [-0.3418,  0.1467, -0.0491],\n",
      "        [ 0.1467, -0.0491,  0.3356]])\n",
      "  warn(msg)\n",
      "/home/simone/Documents/uni/Thesis/GPFA_imputation/meteo_imp/kalman/filter.py:178: UserWarning: Not symmetric, symmetric up to 1e-2\n",
      "Not pos definite with eigv tensor([-0.0264,  0.0009,  0.0039]) \n",
      "force symmetric is not posdeftensor([[-0.0195,  0.0119, -0.0051],\n",
      "        [ 0.0119, -0.0029,  0.0001],\n",
      "        [-0.0029,  0.0001,  0.0029]])\n",
      "  warn(msg)\n",
      "/home/simone/Documents/uni/Thesis/GPFA_imputation/meteo_imp/kalman/filter.py:178: UserWarning: Not symmetric, symmetric up to 1e0\n",
      "Not pos definite with eigv tensor([-0.0664,  0.0884,  2.4392]) \n",
      "force symmetric is not posdeftensor([[ 0.8093, -0.8109,  0.6867],\n",
      "        [-0.8109,  0.8455, -0.7613],\n",
      "        [ 0.8455, -0.7613,  0.9652]])\n",
      "  warn(msg)\n",
      "/home/simone/Documents/uni/Thesis/GPFA_imputation/meteo_imp/kalman/filter.py:178: UserWarning: Not symmetric, symmetric up to 1e0\n",
      "Not pos definite with eigv tensor([-0.0910,  0.1336,  2.5868]) \n",
      "force symmetric is not posdeftensor([[ 0.8423, -0.8549,  0.7020],\n",
      "        [-0.8549,  0.9103, -0.7806],\n",
      "        [ 0.9103, -0.7806,  1.0851]])\n",
      "  warn(msg)\n",
      "/home/simone/Documents/uni/Thesis/GPFA_imputation/meteo_imp/kalman/filter.py:178: UserWarning: Not symmetric, symmetric up to 1e0\n",
      "Not pos definite with eigv tensor([-0.1092,  0.1644,  2.6626]) \n",
      "force symmetric is not posdeftensor([[ 0.8578, -0.8787,  0.7079],\n",
      "        [-0.8787,  0.9474, -0.7824],\n",
      "        [ 0.9474, -0.7824,  1.1522]])\n",
      "  warn(msg)\n",
      "/home/simone/Documents/uni/Thesis/GPFA_imputation/meteo_imp/kalman/filter.py:178: UserWarning: Not symmetric, symmetric up to 1e0\n",
      "Not pos definite with eigv tensor([-0.1246,  0.1858,  2.7034]) \n",
      "force symmetric is not posdeftensor([[ 0.8643, -0.8939,  0.7098],\n",
      "        [-0.8939,  0.9695, -0.7785],\n",
      "        [ 0.9695, -0.7785,  1.1905]])\n",
      "  warn(msg)\n",
      "/home/simone/Documents/uni/Thesis/GPFA_imputation/meteo_imp/kalman/filter.py:178: UserWarning: Not symmetric, symmetric up to 1e0\n",
      "Not pos definite with eigv tensor([-0.1380,  0.1993,  2.7239]) \n",
      "force symmetric is not posdeftensor([[ 0.8649, -0.9047,  0.7105],\n",
      "        [-0.9047,  0.9817, -0.7738],\n",
      "        [ 0.9817, -0.7738,  1.2098]])\n",
      "  warn(msg)\n",
      "/home/simone/Documents/uni/Thesis/GPFA_imputation/meteo_imp/kalman/filter.py:178: UserWarning: Not symmetric, symmetric up to 1e0\n",
      "Not pos definite with eigv tensor([-0.1508,  0.2053,  2.7304]) \n",
      "force symmetric is not posdeftensor([[ 0.8597, -0.9136,  0.7111],\n",
      "        [-0.9136,  0.9857, -0.7709],\n",
      "        [ 0.9857, -0.7709,  1.2142]])\n",
      "  warn(msg)\n",
      "/home/simone/Documents/uni/Thesis/GPFA_imputation/meteo_imp/kalman/filter.py:178: UserWarning: Not symmetric, symmetric up to 1e0\n",
      "Not pos definite with eigv tensor([-0.1652,  0.2031,  2.7243]) \n",
      "force symmetric is not posdeftensor([[ 0.8470, -0.9225,  0.7111],\n",
      "        [-0.9225,  0.9809, -0.7718],\n",
      "        [ 0.9809, -0.7718,  1.2040]])\n",
      "  warn(msg)\n",
      "/home/simone/Documents/uni/Thesis/GPFA_imputation/meteo_imp/kalman/filter.py:178: UserWarning: Not symmetric, symmetric up to 1e0\n",
      "Not pos definite with eigv tensor([-0.1849,  0.1908,  2.7042]) \n",
      "force symmetric is not posdeftensor([[ 0.8239, -0.9335,  0.7090],\n",
      "        [-0.9335,  0.9650, -0.7780],\n",
      "        [ 0.9650, -0.7780,  1.1772]])\n",
      "  warn(msg)\n",
      "/home/simone/Documents/uni/Thesis/GPFA_imputation/meteo_imp/kalman/filter.py:178: UserWarning: Not symmetric, symmetric up to 1e0\n",
      "Not pos definite with eigv tensor([-0.2171,  0.1654,  2.6642]) \n",
      "force symmetric is not posdeftensor([[ 0.7842, -0.9495,  0.7012],\n",
      "        [-0.9495,  0.9325, -0.7916],\n",
      "        [ 0.9325, -0.7916,  1.1271]])\n",
      "  warn(msg)\n",
      "/home/simone/Documents/uni/Thesis/GPFA_imputation/meteo_imp/kalman/filter.py:178: UserWarning: Not symmetric, symmetric up to 1e0\n",
      "Not pos definite with eigv tensor([-0.2786,  0.1226,  2.5895]) \n",
      "force symmetric is not posdeftensor([[ 0.7154, -0.9748,  0.6803],\n",
      "        [-0.9748,  0.8716, -0.8144],\n",
      "        [ 0.8716, -0.8144,  1.0378]])\n",
      "  warn(msg)\n",
      "/home/simone/Documents/uni/Thesis/GPFA_imputation/meteo_imp/kalman/filter.py:178: UserWarning: Not symmetric, symmetric up to 1e0\n",
      "Not pos definite with eigv tensor([-0.5750, -0.0939,  2.2230]) \n",
      "force symmetric is not posdeftensor([[ 0.3661, -1.0568,  0.6295],\n",
      "        [-1.0568,  0.6413, -0.8314],\n",
      "        [ 0.6413, -0.8314,  0.5584]])\n",
      "  warn(msg)\n",
      "/home/simone/Documents/uni/Thesis/GPFA_imputation/meteo_imp/kalman/filter.py:178: UserWarning: Not symmetric, symmetric up to 1e-3\n",
      "Not pos definite with eigv tensor([-1.2665e-02,  2.0671e-03,  4.3464e+00], grad_fn=<LinalgEighBackward0>) \n",
      "force symmetric is not posdeftensor([[ 2.5865, -1.9449,  1.4578],\n",
      "        [-1.9449,  0.8763, -0.6672],\n",
      "        [ 0.8763, -0.6672,  0.2915]], grad_fn=<IndexPutBackward0>)\n",
      "  warn(msg)\n",
      "/home/simone/Documents/uni/Thesis/GPFA_imputation/meteo_imp/kalman/filter.py:178: UserWarning: Not symmetric, symmetric up to 1e0\n",
      "Not pos definite with eigv tensor([-0.2144,  0.3927,  7.6956], grad_fn=<LinalgEighBackward0>) \n",
      "forced symmetric is posdeftensor([[ 4.7304, -3.0728,  1.7108],\n",
      "        [-3.0728,  2.2245, -1.2817],\n",
      "        [ 2.2245, -1.2817,  1.4328]], grad_fn=<IndexPutBackward0>)\n",
      "  warn(msg)\n",
      "/home/simone/Documents/uni/Thesis/GPFA_imputation/meteo_imp/kalman/filter.py:178: UserWarning: Not symmetric, symmetric up to 1eFalse\n",
      "Not pos definite with eigv tensor([-2.1862, -0.1741,  0.2572], grad_fn=<LinalgEighBackward0>) \n",
      "force symmetric is not posdeftensor([[-0.4112, -0.8892, -1.7381],\n",
      "        [-0.8892,  0.1619, -0.1583],\n",
      "        [ 0.1619, -0.1583,  0.0460]], grad_fn=<IndexPutBackward0>)\n",
      "  warn(msg)\n",
      "/home/simone/Documents/uni/Thesis/GPFA_imputation/meteo_imp/kalman/filter.py:178: UserWarning: Not symmetric, symmetric up to 1eFalse\n",
      "Not pos definite with eigv tensor([-0.5991,  0.4011,  1.2536], grad_fn=<LinalgEighBackward0>) \n",
      "force symmetric is not posdeftensor([[-0.0136, -0.8239,  0.6501],\n",
      "        [-0.8239,  0.2511, -0.0672],\n",
      "        [ 0.2511, -0.0672,  0.4190]], grad_fn=<IndexPutBackward0>)\n",
      "  warn(msg)\n",
      "/home/simone/Documents/uni/Thesis/GPFA_imputation/meteo_imp/kalman/filter.py:178: UserWarning: Not symmetric, symmetric up to 1e0\n",
      "Not pos definite with eigv tensor([-0.4606,  0.5660,  1.2939], grad_fn=<LinalgEighBackward0>) \n",
      "force symmetric is not posdeftensor([[ 0.1362, -0.7783,  0.7096],\n",
      "        [-0.7783,  0.2884, -0.0080],\n",
      "        [ 0.2884, -0.0080,  0.5535]], grad_fn=<IndexPutBackward0>)\n",
      "  warn(msg)\n",
      "/home/simone/Documents/uni/Thesis/GPFA_imputation/meteo_imp/kalman/filter.py:178: UserWarning: Not symmetric, symmetric up to 1e0\n",
      "Not pos definite with eigv tensor([-0.3718,  0.6673,  1.3004], grad_fn=<LinalgEighBackward0>) \n",
      "force symmetric is not posdeftensor([[ 0.2290, -0.7431,  0.7295],\n",
      "        [-0.7431,  0.2982,  0.0274],\n",
      "        [ 0.2982,  0.0274,  0.6374]], grad_fn=<IndexPutBackward0>)\n",
      "  warn(msg)\n",
      "/home/simone/Documents/uni/Thesis/GPFA_imputation/meteo_imp/kalman/filter.py:178: UserWarning: Not symmetric, symmetric up to 1e0\n",
      "Not pos definite with eigv tensor([-0.3089,  0.7233,  1.2907], grad_fn=<LinalgEighBackward0>) \n",
      "force symmetric is not posdeftensor([[ 0.2891, -0.7132,  0.7281],\n",
      "        [-0.7132,  0.2972,  0.0435],\n",
      "        [ 0.2972,  0.0435,  0.6880]], grad_fn=<IndexPutBackward0>)\n",
      "  warn(msg)\n",
      "/home/simone/Documents/uni/Thesis/GPFA_imputation/meteo_imp/kalman/filter.py:178: UserWarning: Not symmetric, symmetric up to 1e0\n",
      "Not pos definite with eigv tensor([-0.2599,  0.7436,  1.2705], grad_fn=<LinalgEighBackward0>) \n",
      "force symmetric is not posdeftensor([[ 0.3250, -0.6839,  0.7174],\n",
      "        [-0.6839,  0.2902,  0.0442],\n",
      "        [ 0.2902,  0.0442,  0.7117]], grad_fn=<IndexPutBackward0>)\n",
      "  warn(msg)\n",
      "/home/simone/Documents/uni/Thesis/GPFA_imputation/meteo_imp/kalman/filter.py:178: UserWarning: Not symmetric, symmetric up to 1e0\n",
      "Not pos definite with eigv tensor([-0.2178,  0.7324,  1.2392], grad_fn=<LinalgEighBackward0>) \n",
      "force symmetric is not posdeftensor([[ 0.3427, -0.6511,  0.7006],\n",
      "        [-0.6511,  0.2796,  0.0327],\n",
      "        [ 0.2796,  0.0327,  0.7105]], grad_fn=<IndexPutBackward0>)\n",
      "  warn(msg)\n",
      "/home/simone/Documents/uni/Thesis/GPFA_imputation/meteo_imp/kalman/filter.py:178: UserWarning: Not symmetric, symmetric up to 1e0\n",
      "Not pos definite with eigv tensor([-0.1782,  0.6906,  1.1926], grad_fn=<LinalgEighBackward0>) \n",
      "force symmetric is not posdeftensor([[ 0.3447, -0.6106,  0.6778],\n",
      "        [-0.6106,  0.2656,  0.0121],\n",
      "        [ 0.2656,  0.0121,  0.6825]], grad_fn=<IndexPutBackward0>)\n",
      "  warn(msg)\n",
      "/home/simone/Documents/uni/Thesis/GPFA_imputation/meteo_imp/kalman/filter.py:178: UserWarning: Not symmetric, symmetric up to 1e0\n",
      "Not pos definite with eigv tensor([-0.1383,  0.6153,  1.1193], grad_fn=<LinalgEighBackward0>) \n",
      "force symmetric is not posdeftensor([[ 0.3294, -0.5563,  0.6454],\n",
      "        [-0.5563,  0.2450, -0.0136],\n",
      "        [ 0.2450, -0.0136,  0.6215]], grad_fn=<IndexPutBackward0>)\n",
      "  warn(msg)\n",
      "/home/simone/Documents/uni/Thesis/GPFA_imputation/meteo_imp/kalman/filter.py:178: UserWarning: Not symmetric, symmetric up to 1e0\n",
      "Not pos definite with eigv tensor([-0.0967,  0.4987,  0.9927], grad_fn=<LinalgEighBackward0>) \n",
      "force symmetric is not posdeftensor([[ 0.2894, -0.4767,  0.5907],\n",
      "        [-0.4767,  0.2106, -0.0383],\n",
      "        [ 0.2106, -0.0383,  0.5146]], grad_fn=<IndexPutBackward0>)\n",
      "  warn(msg)\n",
      "/home/simone/Documents/uni/Thesis/GPFA_imputation/meteo_imp/kalman/filter.py:178: UserWarning: Not symmetric, symmetric up to 1e0\n",
      "Not pos definite with eigv tensor([-0.0535,  0.3205,  0.7398], grad_fn=<LinalgEighBackward0>) \n",
      "force symmetric is not posdeftensor([[ 0.2022, -0.3408,  0.4694],\n",
      "        [-0.3408,  0.1456, -0.0488],\n",
      "        [ 0.1456, -0.0488,  0.3353]], grad_fn=<IndexPutBackward0>)\n",
      "  warn(msg)\n",
      "/home/simone/Documents/uni/Thesis/GPFA_imputation/meteo_imp/kalman/filter.py:178: UserWarning: Not symmetric, symmetric up to 1e-2\n",
      "Not pos definite with eigv tensor([-0.0312,  0.0009,  0.0037], grad_fn=<LinalgEighBackward0>) \n",
      "force symmetric is not posdeftensor([[-0.0225,  0.0141, -0.0067],\n",
      "        [ 0.0141, -0.0039,  0.0009],\n",
      "        [-0.0039,  0.0009,  0.0026]], grad_fn=<IndexPutBackward0>)\n",
      "  warn(msg)\n",
      "/home/simone/Documents/uni/Thesis/GPFA_imputation/meteo_imp/kalman/filter.py:178: UserWarning: Not symmetric, symmetric up to 1e0\n",
      "Not pos definite with eigv tensor([-0.0670,  0.0883,  2.4375], grad_fn=<LinalgEighBackward0>) \n",
      "force symmetric is not posdeftensor([[ 0.8081, -0.8107,  0.6861],\n",
      "        [-0.8107,  0.8445, -0.7611],\n",
      "        [ 0.8445, -0.7611,  0.9645]], grad_fn=<IndexPutBackward0>)\n",
      "  warn(msg)\n",
      "/home/simone/Documents/uni/Thesis/GPFA_imputation/meteo_imp/kalman/filter.py:178: UserWarning: Not symmetric, symmetric up to 1e0\n",
      "Not pos definite with eigv tensor([-0.0927,  0.1332,  2.5852], grad_fn=<LinalgEighBackward0>) \n",
      "force symmetric is not posdeftensor([[ 0.8404, -0.8555,  0.7011],\n",
      "        [-0.8555,  0.9089, -0.7810],\n",
      "        [ 0.9089, -0.7810,  1.0842]], grad_fn=<IndexPutBackward0>)\n",
      "  warn(msg)\n",
      "/home/simone/Documents/uni/Thesis/GPFA_imputation/meteo_imp/kalman/filter.py:178: UserWarning: Not symmetric, symmetric up to 1e0\n",
      "Not pos definite with eigv tensor([-0.1123,  0.1635,  2.6611], grad_fn=<LinalgEighBackward0>) \n",
      "force symmetric is not posdeftensor([[ 0.8548, -0.8804,  0.7066],\n",
      "        [-0.8804,  0.9455, -0.7837],\n",
      "        [ 0.9455, -0.7837,  1.1510]], grad_fn=<IndexPutBackward0>)\n",
      "  warn(msg)\n",
      "/home/simone/Documents/uni/Thesis/GPFA_imputation/meteo_imp/kalman/filter.py:178: UserWarning: Not symmetric, symmetric up to 1e0\n",
      "Not pos definite with eigv tensor([-0.1295,  0.1841,  2.7023], grad_fn=<LinalgEighBackward0>) \n",
      "force symmetric is not posdeftensor([[ 0.8600, -0.8970,  0.7080],\n",
      "        [-0.8970,  0.9668, -0.7811],\n",
      "        [ 0.9668, -0.7811,  1.1889]], grad_fn=<IndexPutBackward0>)\n",
      "  warn(msg)\n",
      "/home/simone/Documents/uni/Thesis/GPFA_imputation/meteo_imp/kalman/filter.py:178: UserWarning: Not symmetric, symmetric up to 1e0\n",
      "Not pos definite with eigv tensor([-0.1457,  0.1966,  2.7236], grad_fn=<LinalgEighBackward0>) \n",
      "force symmetric is not posdeftensor([[ 0.8586, -0.9101,  0.7081],\n",
      "        [-0.9101,  0.9779, -0.7783],\n",
      "        [ 0.9779, -0.7783,  1.2079]], grad_fn=<IndexPutBackward0>)\n",
      "  warn(msg)\n",
      "/home/simone/Documents/uni/Thesis/GPFA_imputation/meteo_imp/kalman/filter.py:178: UserWarning: Not symmetric, symmetric up to 1e0\n",
      "Not pos definite with eigv tensor([-0.1624,  0.2010,  2.7318], grad_fn=<LinalgEighBackward0>) \n",
      "force symmetric is not posdeftensor([[ 0.8506, -0.9222,  0.7078],\n",
      "        [-0.9222,  0.9805, -0.7785],\n",
      "        [ 0.9805, -0.7785,  1.2120]], grad_fn=<IndexPutBackward0>)\n",
      "  warn(msg)\n",
      "/home/simone/Documents/uni/Thesis/GPFA_imputation/meteo_imp/kalman/filter.py:178: UserWarning: Not symmetric, symmetric up to 1e0\n",
      "Not pos definite with eigv tensor([-0.1827,  0.1967,  2.7290], grad_fn=<LinalgEighBackward0>) \n",
      "force symmetric is not posdeftensor([[ 0.8343, -0.9361,  0.7067],\n",
      "        [-0.9361,  0.9740, -0.7841],\n",
      "        [ 0.9740, -0.7841,  1.2019]], grad_fn=<IndexPutBackward0>)\n",
      "  warn(msg)\n",
      "/home/simone/Documents/uni/Thesis/GPFA_imputation/meteo_imp/kalman/filter.py:178: UserWarning: Not symmetric, symmetric up to 1e0\n",
      "Not pos definite with eigv tensor([-0.2119,  0.1818,  2.7144], grad_fn=<LinalgEighBackward0>) \n",
      "force symmetric is not posdeftensor([[ 0.8058, -0.9545,  0.7030],\n",
      "        [-0.9545,  0.9556, -0.7977],\n",
      "        [ 0.9556, -0.7977,  1.1754]], grad_fn=<IndexPutBackward0>)\n",
      "  warn(msg)\n",
      "/home/simone/Documents/uni/Thesis/GPFA_imputation/meteo_imp/kalman/filter.py:178: UserWarning: Not symmetric, symmetric up to 1e0\n",
      "Not pos definite with eigv tensor([-0.2597,  0.1540,  2.6843], grad_fn=<LinalgEighBackward0>) \n",
      "force symmetric is not posdeftensor([[ 0.7586, -0.9814,  0.6935],\n",
      "        [-0.9814,  0.9200, -0.8223],\n",
      "        [ 0.9200, -0.8223,  1.1265]], grad_fn=<IndexPutBackward0>)\n",
      "  warn(msg)\n",
      "/home/simone/Documents/uni/Thesis/GPFA_imputation/meteo_imp/kalman/filter.py:178: UserWarning: Not symmetric, symmetric up to 1e0\n",
      "Not pos definite with eigv tensor([-0.3501,  0.1115,  2.6247], grad_fn=<LinalgEighBackward0>) \n",
      "force symmetric is not posdeftensor([[ 0.6782, -1.0232,  0.6683],\n",
      "        [-1.0232,  0.8532, -0.8623],\n",
      "        [ 0.8532, -0.8623,  1.0395]], grad_fn=<IndexPutBackward0>)\n",
      "  warn(msg)\n",
      "/home/simone/Documents/uni/Thesis/GPFA_imputation/meteo_imp/kalman/filter.py:178: UserWarning: Not symmetric, symmetric up to 1e0\n",
      "Not pos definite with eigv tensor([-0.7721, -0.1724,  2.2117], grad_fn=<LinalgEighBackward0>) \n",
      "force symmetric is not posdeftensor([[ 0.2176, -1.1471,  0.6211],\n",
      "        [-1.1471,  0.5720, -0.8985],\n",
      "        [ 0.5720, -0.8985,  0.4285]], grad_fn=<IndexPutBackward0>)\n",
      "  warn(msg)\n",
      "/home/simone/Documents/uni/Thesis/GPFA_imputation/meteo_imp/kalman/filter.py:178: UserWarning: Not symmetric, symmetric up to 1e-2\n",
      "Not pos definite with eigv tensor([-3.4400e-03, -1.6519e-03,  4.7002e+00], grad_fn=<LinalgEighBackward0>) \n",
      "force symmetric is not posdeftensor([[ 3.0087, -2.1048,  1.4688],\n",
      "        [-2.1048,  0.8138, -0.5699],\n",
      "        [ 0.8138, -0.5699,  0.2176]], grad_fn=<IndexPutBackward0>)\n",
      "  warn(msg)\n",
      "/home/simone/Documents/uni/Thesis/GPFA_imputation/meteo_imp/kalman/filter.py:178: UserWarning: Not symmetric, symmetric up to 1e0\n",
      "Not pos definite with eigv tensor([-0.2677,  0.4298,  8.1953], grad_fn=<LinalgEighBackward0>) \n",
      "forced symmetric is posdeftensor([[ 5.5028, -3.2740,  1.6020],\n",
      "        [-3.2740,  2.1307, -1.1148],\n",
      "        [ 2.1307, -1.1148,  1.2527]], grad_fn=<IndexPutBackward0>)\n",
      "  warn(msg)\n",
      "/home/simone/Documents/uni/Thesis/GPFA_imputation/meteo_imp/kalman/filter.py:178: UserWarning: Not symmetric, symmetric up to 1eFalse\n",
      "Not pos definite with eigv tensor([-3.0906, -0.2138,  0.1423], grad_fn=<LinalgEighBackward0>) \n",
      "force symmetric is not posdeftensor([[-0.5469, -1.0655, -2.6437],\n",
      "        [-1.0655,  0.1375, -0.1009],\n",
      "        [ 0.1375, -0.1009,  0.0285]], grad_fn=<IndexPutBackward0>)\n",
      "  warn(msg)\n",
      "/home/simone/Documents/uni/Thesis/GPFA_imputation/meteo_imp/kalman/filter.py:178: UserWarning: Not symmetric, symmetric up to 1eFalse\n",
      "Not pos definite with eigv tensor([-0.7475,  0.4604,  1.3237], grad_fn=<LinalgEighBackward0>) \n",
      "force symmetric is not posdeftensor([[-0.0970, -0.9300,  0.6686],\n",
      "        [-0.9300,  0.2428, -0.0357],\n",
      "        [ 0.2428, -0.0357,  0.4650]], grad_fn=<IndexPutBackward0>)\n",
      "  warn(msg)\n",
      "/home/simone/Documents/uni/Thesis/GPFA_imputation/meteo_imp/kalman/filter.py:178: UserWarning: Not symmetric, symmetric up to 1e0\n",
      "Not pos definite with eigv tensor([-0.5781,  0.6295,  1.3159], grad_fn=<LinalgEighBackward0>) \n",
      "force symmetric is not posdeftensor([[ 0.0178, -0.8303,  0.7349],\n",
      "        [-0.8303,  0.2873,  0.0054],\n",
      "        [ 0.2873,  0.0054,  0.6146]], grad_fn=<IndexPutBackward0>)\n",
      "  warn(msg)\n",
      "/home/simone/Documents/uni/Thesis/GPFA_imputation/meteo_imp/kalman/filter.py:178: UserWarning: Not symmetric, symmetric up to 1e0\n",
      "Not pos definite with eigv tensor([-0.4658,  0.7331,  1.2850], grad_fn=<LinalgEighBackward0>) \n",
      "force symmetric is not posdeftensor([[ 0.0875, -0.7546,  0.7569],\n",
      "        [-0.7546,  0.3028,  0.0286],\n",
      "        [ 0.3028,  0.0286,  0.7079]], grad_fn=<IndexPutBackward0>)\n",
      "  warn(msg)\n",
      "/home/simone/Documents/uni/Thesis/GPFA_imputation/meteo_imp/kalman/filter.py:178: UserWarning: Not symmetric, symmetric up to 1e0\n",
      "Not pos definite with eigv tensor([-0.3847,  0.7871,  1.2458], grad_fn=<LinalgEighBackward0>) \n",
      "force symmetric is not posdeftensor([[ 0.1311, -0.6948,  0.7564],\n",
      "        [-0.6948,  0.3027,  0.0381],\n",
      "        [ 0.3027,  0.0381,  0.7606]], grad_fn=<IndexPutBackward0>)\n",
      "  warn(msg)\n",
      "/home/simone/Documents/uni/Thesis/GPFA_imputation/meteo_imp/kalman/filter.py:178: UserWarning: Not symmetric, symmetric up to 1e0\n",
      "Not pos definite with eigv tensor([-0.3230,  0.8027,  1.2000], grad_fn=<LinalgEighBackward0>) \n",
      "force symmetric is not posdeftensor([[ 0.1556, -0.6433,  0.7426],\n",
      "        [-0.6433,  0.2931,  0.0371],\n",
      "        [ 0.2931,  0.0371,  0.7815]], grad_fn=<IndexPutBackward0>)\n",
      "  warn(msg)\n",
      "/home/simone/Documents/uni/Thesis/GPFA_imputation/meteo_imp/kalman/filter.py:178: UserWarning: Not symmetric, symmetric up to 1e0\n",
      "Not pos definite with eigv tensor([-0.2733,  0.7858,  1.1449], grad_fn=<LinalgEighBackward0>) \n",
      "force symmetric is not posdeftensor([[ 0.1646, -0.5939,  0.7190],\n",
      "        [-0.5939,  0.2765,  0.0284],\n",
      "        [ 0.2765,  0.0284,  0.7738]], grad_fn=<IndexPutBackward0>)\n",
      "  warn(msg)\n",
      "/home/simone/Documents/uni/Thesis/GPFA_imputation/meteo_imp/kalman/filter.py:178: UserWarning: Not symmetric, symmetric up to 1e0\n",
      "Not pos definite with eigv tensor([-0.2304,  0.7377,  1.0729], grad_fn=<LinalgEighBackward0>) \n",
      "force symmetric is not posdeftensor([[ 0.1590, -0.5402,  0.6851],\n",
      "        [-0.5402,  0.2529,  0.0144],\n",
      "        [ 0.2529,  0.0144,  0.7360]], grad_fn=<IndexPutBackward0>)\n",
      "  warn(msg)\n",
      "/home/simone/Documents/uni/Thesis/GPFA_imputation/meteo_imp/kalman/filter.py:178: UserWarning: Not symmetric, symmetric up to 1e0\n",
      "Not pos definite with eigv tensor([-0.1910,  0.6557,  0.9700], grad_fn=<LinalgEighBackward0>) \n",
      "force symmetric is not posdeftensor([[ 0.1365, -0.4739,  0.6366],\n",
      "        [-0.4739,  0.2197, -0.0016],\n",
      "        [ 0.2197, -0.0016,  0.6616]], grad_fn=<IndexPutBackward0>)\n",
      "  warn(msg)\n",
      "/home/simone/Documents/uni/Thesis/GPFA_imputation/meteo_imp/kalman/filter.py:178: UserWarning: Not symmetric, symmetric up to 1e0\n",
      "Not pos definite with eigv tensor([-0.1530,  0.5303,  0.8087], grad_fn=<LinalgEighBackward0>) \n",
      "force symmetric is not posdeftensor([[ 0.0894, -0.3811,  0.5597],\n",
      "        [-0.3811,  0.1705, -0.0140],\n",
      "        [ 0.1705, -0.0140,  0.5369]], grad_fn=<IndexPutBackward0>)\n",
      "  warn(msg)\n",
      "/home/simone/Documents/uni/Thesis/GPFA_imputation/meteo_imp/kalman/filter.py:178: UserWarning: Not symmetric, symmetric up to 1e0\n",
      "Not pos definite with eigv tensor([-0.1184,  0.3359,  0.5195], grad_fn=<LinalgEighBackward0>) \n",
      "force symmetric is not posdeftensor([[-0.0049, -0.2260,  0.4070],\n",
      "        [-0.2260,  0.0908, -0.0114],\n",
      "        [ 0.0908, -0.0114,  0.3349]], grad_fn=<IndexPutBackward0>)\n",
      "  warn(msg)\n",
      "/home/simone/Documents/uni/Thesis/GPFA_imputation/meteo_imp/kalman/filter.py:178: UserWarning: Not symmetric, symmetric up to 1e-4\n",
      "Not pos definite with eigv tensor([-3.6467e-01,  4.3684e-05,  8.2001e-05], grad_fn=<LinalgEighBackward0>) \n",
      "force symmetric is not posdeftensor([[-0.2340,  0.1630, -0.1135],\n",
      "        [ 0.1630, -0.0633,  0.0441],\n",
      "        [-0.0633,  0.0441, -0.0171]], grad_fn=<IndexPutBackward0>)\n",
      "  warn(msg)\n",
      "/home/simone/Documents/uni/Thesis/GPFA_imputation/meteo_imp/kalman/filter.py:178: UserWarning: Not symmetric, symmetric up to 1e-1\n",
      "Not pos definite with eigv tensor([-0.0046,  0.0220,  1.9120], grad_fn=<LinalgEighBackward0>) \n",
      "force symmetric is not posdeftensor([[ 0.6631, -0.6270,  0.6305],\n",
      "        [-0.6270,  0.6528, -0.6229],\n",
      "        [ 0.6528, -0.6229,  0.6358]], grad_fn=<IndexPutBackward0>)\n",
      "  warn(msg)\n",
      "/home/simone/Documents/uni/Thesis/GPFA_imputation/meteo_imp/kalman/filter.py:178: UserWarning: Not symmetric, symmetric up to 1e0\n",
      "Not pos definite with eigv tensor([-0.0628,  0.0920,  2.3202], grad_fn=<LinalgEighBackward0>) \n",
      "force symmetric is not posdeftensor([[ 0.7424, -0.7645,  0.6663],\n",
      "        [-0.7645,  0.7986, -0.7319],\n",
      "        [ 0.7986, -0.7319,  0.9407]], grad_fn=<IndexPutBackward0>)\n",
      "  warn(msg)\n",
      "/home/simone/Documents/uni/Thesis/GPFA_imputation/meteo_imp/kalman/filter.py:178: UserWarning: Not symmetric, symmetric up to 1e0\n",
      "Not pos definite with eigv tensor([-0.0897,  0.1393,  2.5003], grad_fn=<LinalgEighBackward0>) \n",
      "force symmetric is not posdeftensor([[ 0.7760, -0.8156,  0.6896],\n",
      "        [-0.8156,  0.8725, -0.7657],\n",
      "        [ 0.8725, -0.7657,  1.0843]], grad_fn=<IndexPutBackward0>)\n",
      "  warn(msg)\n",
      "/home/simone/Documents/uni/Thesis/GPFA_imputation/meteo_imp/kalman/filter.py:178: UserWarning: Not symmetric, symmetric up to 1e0\n",
      "Not pos definite with eigv tensor([-0.1079,  0.1707,  2.6027], grad_fn=<LinalgEighBackward0>) \n",
      "force symmetric is not posdeftensor([[ 0.7932, -0.8447,  0.7034],\n",
      "        [-0.8447,  0.9177, -0.7788],\n",
      "        [ 0.9177, -0.7788,  1.1688]], grad_fn=<IndexPutBackward0>)\n",
      "  warn(msg)\n",
      "/home/simone/Documents/uni/Thesis/GPFA_imputation/meteo_imp/kalman/filter.py:178: UserWarning: Not symmetric, symmetric up to 1e0\n",
      "Not pos definite with eigv tensor([-0.1242,  0.1919,  2.6649], grad_fn=<LinalgEighBackward0>) \n",
      "force symmetric is not posdeftensor([[ 0.8010, -0.8652,  0.7116],\n",
      "        [-0.8652,  0.9460, -0.7844],\n",
      "        [ 0.9460, -0.7844,  1.2200]], grad_fn=<IndexPutBackward0>)\n",
      "  warn(msg)\n",
      "/home/simone/Documents/uni/Thesis/GPFA_imputation/meteo_imp/kalman/filter.py:178: UserWarning: Not symmetric, symmetric up to 1e0\n",
      "Not pos definite with eigv tensor([-0.1415,  0.2048,  2.7027], grad_fn=<LinalgEighBackward0>) \n",
      "force symmetric is not posdeftensor([[ 0.8014, -0.8826,  0.7161],\n",
      "        [-0.8826,  0.9624, -0.7880],\n",
      "        [ 0.9624, -0.7880,  1.2485]], grad_fn=<IndexPutBackward0>)\n",
      "  warn(msg)\n",
      "/home/simone/Documents/uni/Thesis/GPFA_imputation/meteo_imp/kalman/filter.py:178: UserWarning: Not symmetric, symmetric up to 1e0\n",
      "Not pos definite with eigv tensor([-0.1623,  0.2096,  2.7233], grad_fn=<LinalgEighBackward0>) \n",
      "force symmetric is not posdeftensor([[ 0.7941, -0.9005,  0.7176],\n",
      "        [-0.9005,  0.9686, -0.7931],\n",
      "        [ 0.9686, -0.7931,  1.2588]], grad_fn=<IndexPutBackward0>)\n",
      "  warn(msg)\n",
      "/home/simone/Documents/uni/Thesis/GPFA_imputation/meteo_imp/kalman/filter.py:178: UserWarning: Not symmetric, symmetric up to 1e0\n",
      "Not pos definite with eigv tensor([-0.1905,  0.2057,  2.7296], grad_fn=<LinalgEighBackward0>) \n",
      "force symmetric is not posdeftensor([[ 0.7775, -0.9220,  0.7154],\n",
      "        [-0.9220,  0.9640, -0.8023],\n",
      "        [ 0.9640, -0.8023,  1.2519]], grad_fn=<IndexPutBackward0>)\n",
      "  warn(msg)\n",
      "/home/simone/Documents/uni/Thesis/GPFA_imputation/meteo_imp/kalman/filter.py:178: UserWarning: Not symmetric, symmetric up to 1e0\n",
      "Not pos definite with eigv tensor([-0.2327,  0.1914,  2.7212], grad_fn=<LinalgEighBackward0>) \n",
      "force symmetric is not posdeftensor([[ 0.7477, -0.9507,  0.7073],\n",
      "        [-0.9507,  0.9458, -0.8182],\n",
      "        [ 0.9458, -0.8182,  1.2248]], grad_fn=<IndexPutBackward0>)\n",
      "  warn(msg)\n",
      "/home/simone/Documents/uni/Thesis/GPFA_imputation/meteo_imp/kalman/filter.py:178: UserWarning: Not symmetric, symmetric up to 1e0\n",
      "Not pos definite with eigv tensor([-0.3006,  0.1647,  2.6938], grad_fn=<LinalgEighBackward0>) \n",
      "force symmetric is not posdeftensor([[ 0.6982, -0.9917,  0.6892],\n",
      "        [-0.9917,  0.9081, -0.8441],\n",
      "        [ 0.9081, -0.8441,  1.1705]], grad_fn=<IndexPutBackward0>)\n",
      "  warn(msg)\n",
      "/home/simone/Documents/uni/Thesis/GPFA_imputation/meteo_imp/kalman/filter.py:178: UserWarning: Not symmetric, symmetric up to 1e0\n",
      "Not pos definite with eigv tensor([-0.4186,  0.1243,  2.6365], grad_fn=<LinalgEighBackward0>) \n",
      "force symmetric is not posdeftensor([[ 0.6157, -1.0520,  0.6525],\n",
      "        [-1.0520,  0.8387, -0.8841],\n",
      "        [ 0.8387, -0.8841,  1.0739]], grad_fn=<IndexPutBackward0>)\n",
      "  warn(msg)\n",
      "/home/simone/Documents/uni/Thesis/GPFA_imputation/meteo_imp/kalman/filter.py:178: UserWarning: Not symmetric, symmetric up to 1e0\n",
      "Not pos definite with eigv tensor([-0.9955, -0.2664,  2.0912], grad_fn=<LinalgEighBackward0>) \n",
      "force symmetric is not posdeftensor([[ 0.0149, -1.2183,  0.5901],\n",
      "        [-1.2183,  0.4658, -0.9038],\n",
      "        [ 0.4658, -0.9038,  0.2243]], grad_fn=<IndexPutBackward0>)\n",
      "  warn(msg)\n",
      "/home/simone/Documents/uni/Thesis/GPFA_imputation/meteo_imp/kalman/filter.py:178: UserWarning: Not symmetric, symmetric up to 1e-1\n",
      "Not pos definite with eigv tensor([-0.0049,  0.0139,  4.5214], grad_fn=<LinalgEighBackward0>) \n",
      "force symmetric is not posdeftensor([[ 2.8770, -1.9880,  1.3718],\n",
      "        [-1.9880,  0.8869, -0.6033],\n",
      "        [ 0.8869, -0.6033,  0.2816]], grad_fn=<IndexPutBackward0>)\n",
      "  warn(msg)\n",
      "/home/simone/Documents/uni/Thesis/GPFA_imputation/meteo_imp/kalman/filter.py:178: UserWarning: Not symmetric, symmetric up to 1e0\n",
      "Not pos definite with eigv tensor([-0.1051,  0.4401,  8.0756], grad_fn=<LinalgEighBackward0>) \n",
      "forced symmetric is posdeftensor([[ 5.2838, -3.1529,  1.7662],\n",
      "        [-3.1529,  2.2216, -1.1787],\n",
      "        [ 2.2216, -1.1787,  1.3606]], grad_fn=<IndexPutBackward0>)\n",
      "  warn(msg)\n",
      "/home/simone/Documents/uni/Thesis/GPFA_imputation/meteo_imp/kalman/filter.py:178: UserWarning: Not symmetric, symmetric up to 1e0\n",
      "Not pos definite with eigv tensor([-1.2858, -0.0807,  0.2299], grad_fn=<LinalgEighBackward0>) \n",
      "force symmetric is not posdeftensor([[-0.1965, -0.5697, -0.9878],\n",
      "        [-0.5697,  0.1380, -0.0662],\n",
      "        [ 0.1380, -0.0662,  0.0477]], grad_fn=<IndexPutBackward0>)\n",
      "  warn(msg)\n",
      "/home/simone/Documents/uni/Thesis/GPFA_imputation/meteo_imp/kalman/filter.py:178: UserWarning: Not symmetric, symmetric up to 1e0\n",
      "Not pos definite with eigv tensor([-0.3297,  0.4220,  1.0509], grad_fn=<LinalgEighBackward0>) \n",
      "force symmetric is not posdeftensor([[ 0.0854, -0.5816,  0.6392],\n",
      "        [-0.5816,  0.2455, -0.0391],\n",
      "        [ 0.2455, -0.0391,  0.4186]], grad_fn=<IndexPutBackward0>)\n",
      "  warn(msg)\n",
      "/home/simone/Documents/uni/Thesis/GPFA_imputation/meteo_imp/kalman/filter.py:178: UserWarning: Not symmetric, symmetric up to 1e0\n",
      "Not pos definite with eigv tensor([-0.2731,  0.6054,  1.1347], grad_fn=<LinalgEighBackward0>) \n",
      "force symmetric is not posdeftensor([[ 0.1592, -0.5815,  0.7129],\n",
      "        [-0.5815,  0.2868, -0.0142],\n",
      "        [ 0.2868, -0.0142,  0.5950]], grad_fn=<IndexPutBackward0>)\n",
      "  warn(msg)\n",
      "/home/simone/Documents/uni/Thesis/GPFA_imputation/meteo_imp/kalman/filter.py:178: UserWarning: Not symmetric, symmetric up to 1e0\n",
      "Not pos definite with eigv tensor([-0.2371,  0.7151,  1.1637], grad_fn=<LinalgEighBackward0>) \n",
      "force symmetric is not posdeftensor([[ 0.1994, -0.5760,  0.7368],\n",
      "        [-0.5760,  0.2982,  0.0040],\n",
      "        [ 0.2982,  0.0040,  0.7055]], grad_fn=<IndexPutBackward0>)\n",
      "  warn(msg)\n",
      "/home/simone/Documents/uni/Thesis/GPFA_imputation/meteo_imp/kalman/filter.py:178: UserWarning: Not symmetric, symmetric up to 1e0\n",
      "Not pos definite with eigv tensor([-0.2111,  0.7749,  1.1637], grad_fn=<LinalgEighBackward0>) \n",
      "force symmetric is not posdeftensor([[ 0.2204, -0.5660,  0.7368],\n",
      "        [-0.5660,  0.2944,  0.0144],\n",
      "        [ 0.2944,  0.0144,  0.7702]], grad_fn=<IndexPutBackward0>)\n",
      "  warn(msg)\n",
      "/home/simone/Documents/uni/Thesis/GPFA_imputation/meteo_imp/kalman/filter.py:178: UserWarning: Not symmetric, symmetric up to 1e0\n",
      "Not pos definite with eigv tensor([-0.1892,  0.7962,  1.1444], grad_fn=<LinalgEighBackward0>) \n",
      "force symmetric is not posdeftensor([[ 0.2297, -0.5506,  0.7233],\n",
      "        [-0.5506,  0.2822,  0.0174],\n",
      "        [ 0.2822,  0.0174,  0.7984]], grad_fn=<IndexPutBackward0>)\n",
      "  warn(msg)\n",
      "/home/simone/Documents/uni/Thesis/GPFA_imputation/meteo_imp/kalman/filter.py:178: UserWarning: Not symmetric, symmetric up to 1e0\n",
      "Not pos definite with eigv tensor([-0.1683,  0.7844,  1.1092], grad_fn=<LinalgEighBackward0>) \n",
      "force symmetric is not posdeftensor([[ 0.2305, -0.5283,  0.7003],\n",
      "        [-0.5283,  0.2650,  0.0131],\n",
      "        [ 0.2650,  0.0131,  0.7945]], grad_fn=<IndexPutBackward0>)\n",
      "  warn(msg)\n",
      "/home/simone/Documents/uni/Thesis/GPFA_imputation/meteo_imp/kalman/filter.py:178: UserWarning: Not symmetric, symmetric up to 1e0\n",
      "Not pos definite with eigv tensor([-0.1458,  0.7406,  1.0547], grad_fn=<LinalgEighBackward0>) \n",
      "force symmetric is not posdeftensor([[ 0.2231, -0.4962,  0.6686],\n",
      "        [-0.4962,  0.2435,  0.0028],\n",
      "        [ 0.2435,  0.0028,  0.7578]], grad_fn=<IndexPutBackward0>)\n",
      "  warn(msg)\n",
      "/home/simone/Documents/uni/Thesis/GPFA_imputation/meteo_imp/kalman/filter.py:178: UserWarning: Not symmetric, symmetric up to 1e0\n",
      "Not pos definite with eigv tensor([-0.1198,  0.6612,  0.9718], grad_fn=<LinalgEighBackward0>) \n",
      "force symmetric is not posdeftensor([[ 0.2063, -0.4496,  0.6241],\n",
      "        [-0.4496,  0.2159, -0.0114],\n",
      "        [ 0.2159, -0.0114,  0.6828]], grad_fn=<IndexPutBackward0>)\n",
      "  warn(msg)\n",
      "/home/simone/Documents/uni/Thesis/GPFA_imputation/meteo_imp/kalman/filter.py:178: UserWarning: Not symmetric, symmetric up to 1e0\n",
      "Not pos definite with eigv tensor([-0.0891,  0.5364,  0.8388], grad_fn=<LinalgEighBackward0>) \n",
      "force symmetric is not posdeftensor([[ 0.1746, -0.3789,  0.5549],\n",
      "        [-0.3789,  0.1771, -0.0252],\n",
      "        [ 0.1771, -0.0252,  0.5565]], grad_fn=<IndexPutBackward0>)\n",
      "  warn(msg)\n",
      "/home/simone/Documents/uni/Thesis/GPFA_imputation/meteo_imp/kalman/filter.py:178: UserWarning: Not symmetric, symmetric up to 1e0\n",
      "Not pos definite with eigv tensor([-0.0535,  0.3421,  0.5994], grad_fn=<LinalgEighBackward0>) \n",
      "force symmetric is not posdeftensor([[ 0.1133, -0.2603,  0.4215],\n",
      "        [-0.2603,  0.1153, -0.0301],\n",
      "        [ 0.1153, -0.0301,  0.3532]], grad_fn=<IndexPutBackward0>)\n",
      "  warn(msg)\n",
      "/home/simone/Documents/uni/Thesis/GPFA_imputation/meteo_imp/kalman/filter.py:178: UserWarning: Not symmetric, symmetric up to 1e-2\n",
      "Not pos definite with eigv tensor([-0.0396,  0.0011,  0.0072], grad_fn=<LinalgEighBackward0>) \n",
      "force symmetric is not posdeftensor([[-0.0307,  0.0172, -0.0058],\n",
      "        [ 0.0172, -0.0039, -0.0012],\n",
      "        [-0.0039, -0.0012,  0.0050]], grad_fn=<IndexPutBackward0>)\n",
      "  warn(msg)\n",
      "/home/simone/Documents/uni/Thesis/GPFA_imputation/meteo_imp/kalman/filter.py:178: UserWarning: Not symmetric, symmetric up to 1e0\n",
      "Not pos definite with eigv tensor([-0.0511,  0.0949,  2.3600], grad_fn=<LinalgEighBackward0>) \n",
      "force symmetric is not posdeftensor([[ 0.7584, -0.7658,  0.6779],\n",
      "        [-0.7658,  0.8167, -0.7429],\n",
      "        [ 0.8167, -0.7429,  0.9675]], grad_fn=<IndexPutBackward0>)\n",
      "  warn(msg)\n",
      "/home/simone/Documents/uni/Thesis/GPFA_imputation/meteo_imp/kalman/filter.py:178: UserWarning: Not symmetric, symmetric up to 1e0\n",
      "Not pos definite with eigv tensor([-0.0726,  0.1442,  2.5135], grad_fn=<LinalgEighBackward0>) \n",
      "force symmetric is not posdeftensor([[ 0.7842, -0.8056,  0.6985],\n",
      "        [-0.8056,  0.8804, -0.7672],\n",
      "        [ 0.8804, -0.7672,  1.1025]], grad_fn=<IndexPutBackward0>)\n",
      "  warn(msg)\n",
      "/home/simone/Documents/uni/Thesis/GPFA_imputation/meteo_imp/kalman/filter.py:178: UserWarning: Not symmetric, symmetric up to 1e0\n",
      "Not pos definite with eigv tensor([-0.0865,  0.1765,  2.6027], grad_fn=<LinalgEighBackward0>) \n",
      "force symmetric is not posdeftensor([[ 0.7983, -0.8278,  0.7111],\n",
      "        [-0.8278,  0.9202, -0.7762],\n",
      "        [ 0.9202, -0.7762,  1.1833]], grad_fn=<IndexPutBackward0>)\n",
      "  warn(msg)\n",
      "/home/simone/Documents/uni/Thesis/GPFA_imputation/meteo_imp/kalman/filter.py:178: UserWarning: Not symmetric, symmetric up to 1e0\n",
      "Not pos definite with eigv tensor([-0.0961,  0.1980,  2.6574], grad_fn=<LinalgEighBackward0>) \n",
      "force symmetric is not posdeftensor([[ 0.8066, -0.8416,  0.7201],\n",
      "        [-0.8416,  0.9462, -0.7792],\n",
      "        [ 0.9462, -0.7792,  1.2326]], grad_fn=<IndexPutBackward0>)\n",
      "  warn(msg)\n",
      "/home/simone/Documents/uni/Thesis/GPFA_imputation/meteo_imp/kalman/filter.py:178: UserWarning: Not symmetric, symmetric up to 1e0\n",
      "Not pos definite with eigv tensor([-0.1027,  0.2109,  2.6903], grad_fn=<LinalgEighBackward0>) \n",
      "force symmetric is not posdeftensor([[ 0.8110, -0.8507,  0.7276],\n",
      "        [-0.8507,  0.9624, -0.7805],\n",
      "        [ 0.9624, -0.7805,  1.2598]], grad_fn=<IndexPutBackward0>)\n",
      "  warn(msg)\n",
      "/home/simone/Documents/uni/Thesis/GPFA_imputation/meteo_imp/kalman/filter.py:178: UserWarning: Not symmetric, symmetric up to 1e0\n",
      "Not pos definite with eigv tensor([-0.1078,  0.2156,  2.7064], grad_fn=<LinalgEighBackward0>) \n",
      "force symmetric is not posdeftensor([[ 0.8114, -0.8572,  0.7342],\n",
      "        [-0.8572,  0.9701, -0.7822],\n",
      "        [ 0.9701, -0.7822,  1.2687]], grad_fn=<IndexPutBackward0>)\n",
      "  warn(msg)\n",
      "/home/simone/Documents/uni/Thesis/GPFA_imputation/meteo_imp/kalman/filter.py:178: UserWarning: Not symmetric, symmetric up to 1e0\n",
      "Not pos definite with eigv tensor([-0.1129,  0.2117,  2.7067], grad_fn=<LinalgEighBackward0>) \n",
      "force symmetric is not posdeftensor([[ 0.8069, -0.8626,  0.7392],\n",
      "        [-0.8626,  0.9690, -0.7856],\n",
      "        [ 0.9690, -0.7856,  1.2595]], grad_fn=<IndexPutBackward0>)\n",
      "  warn(msg)\n",
      "/home/simone/Documents/uni/Thesis/GPFA_imputation/meteo_imp/kalman/filter.py:178: UserWarning: Not symmetric, symmetric up to 1e0\n",
      "Not pos definite with eigv tensor([-0.1209,  0.1971,  2.6875], grad_fn=<LinalgEighBackward0>) \n",
      "force symmetric is not posdeftensor([[ 0.7947, -0.8682,  0.7406],\n",
      "        [-0.8682,  0.9561, -0.7910],\n",
      "        [ 0.9561, -0.7910,  1.2284]], grad_fn=<IndexPutBackward0>)\n",
      "  warn(msg)\n",
      "/home/simone/Documents/uni/Thesis/GPFA_imputation/meteo_imp/kalman/filter.py:178: UserWarning: Not symmetric, symmetric up to 1e0\n",
      "Not pos definite with eigv tensor([-0.1370,  0.1682,  2.6407], grad_fn=<LinalgEighBackward0>) \n",
      "force symmetric is not posdeftensor([[ 0.7696, -0.8758,  0.7345],\n",
      "        [-0.8758,  0.9259, -0.7988],\n",
      "        [ 0.9259, -0.7988,  1.1678]], grad_fn=<IndexPutBackward0>)\n",
      "  warn(msg)\n",
      "/home/simone/Documents/uni/Thesis/GPFA_imputation/meteo_imp/kalman/filter.py:178: UserWarning: Not symmetric, symmetric up to 1e0\n",
      "Not pos definite with eigv tensor([-0.1740,  0.1201,  2.5478], grad_fn=<LinalgEighBackward0>) \n",
      "force symmetric is not posdeftensor([[ 0.7212, -0.8877,  0.7129],\n",
      "        [-0.8877,  0.8666, -0.8082],\n",
      "        [ 0.8666, -0.8082,  1.0599]], grad_fn=<IndexPutBackward0>)\n",
      "  warn(msg)\n",
      "/home/simone/Documents/uni/Thesis/GPFA_imputation/meteo_imp/kalman/filter.py:178: UserWarning: Not symmetric, symmetric up to 1e0\n",
      "Not pos definite with eigv tensor([-0.4142, -0.0970,  2.1414], grad_fn=<LinalgEighBackward0>) \n",
      "force symmetric is not posdeftensor([[ 0.4088, -0.9358,  0.6599],\n",
      "        [-0.9358,  0.6412, -0.7984],\n",
      "        [ 0.6412, -0.7984,  0.5615]], grad_fn=<IndexPutBackward0>)\n",
      "  warn(msg)\n",
      "/home/simone/Documents/uni/Thesis/GPFA_imputation/meteo_imp/kalman/filter.py:178: UserWarning: Not symmetric, symmetric up to 1e-2\n",
      "Not pos definite with eigv tensor([-0.0117,  0.0047,  4.3924], grad_fn=<LinalgEighBackward0>) \n",
      "force symmetric is not posdeftensor([[ 2.7910, -1.9299,  1.3262],\n",
      "        [-1.9299,  0.8632, -0.6056],\n",
      "        [ 0.8632, -0.6056,  0.2683]], grad_fn=<IndexPutBackward0>)\n",
      "  warn(msg)\n",
      "/home/simone/Documents/uni/Thesis/GPFA_imputation/meteo_imp/kalman/filter.py:178: UserWarning: Not symmetric, symmetric up to 1e0\n",
      "Not pos definite with eigv tensor([-0.0781,  0.4217,  7.8920], grad_fn=<LinalgEighBackward0>) \n",
      "forced symmetric is posdeftensor([[ 5.1242, -3.0830,  1.7671],\n",
      "        [-3.0830,  2.1721, -1.1906],\n",
      "        [ 2.1721, -1.1906,  1.3444]], grad_fn=<IndexPutBackward0>)\n",
      "  warn(msg)\n",
      "/home/simone/Documents/uni/Thesis/GPFA_imputation/meteo_imp/kalman/filter.py:178: UserWarning: Not symmetric, symmetric up to 1e0\n",
      "Not pos definite with eigv tensor([-1.2116, -0.1148,  0.2438], grad_fn=<LinalgEighBackward0>) \n",
      "force symmetric is not posdeftensor([[-0.1381, -0.4891, -0.9861],\n",
      "        [-0.4891,  0.1407, -0.1210],\n",
      "        [ 0.1407, -0.1210,  0.0416]], grad_fn=<IndexPutBackward0>)\n",
      "  warn(msg)\n",
      "/home/simone/Documents/uni/Thesis/GPFA_imputation/meteo_imp/kalman/filter.py:178: UserWarning: Not symmetric, symmetric up to 1e0\n",
      "Not pos definite with eigv tensor([-0.2338,  0.3894,  1.0217], grad_fn=<LinalgEighBackward0>) \n",
      "force symmetric is not posdeftensor([[ 0.1307, -0.5173,  0.6322],\n",
      "        [-0.5173,  0.2376, -0.0823],\n",
      "        [ 0.2376, -0.0823,  0.4145]], grad_fn=<IndexPutBackward0>)\n",
      "  warn(msg)\n",
      "/home/simone/Documents/uni/Thesis/GPFA_imputation/meteo_imp/kalman/filter.py:178: UserWarning: Not symmetric, symmetric up to 1e0\n",
      "Not pos definite with eigv tensor([-0.1962,  0.5796,  1.1136], grad_fn=<LinalgEighBackward0>) \n",
      "force symmetric is not posdeftensor([[ 0.1981, -0.5327,  0.7000],\n",
      "        [-0.5327,  0.2776, -0.0497],\n",
      "        [ 0.2776, -0.0497,  0.5989]], grad_fn=<IndexPutBackward0>)\n",
      "  warn(msg)\n",
      "/home/simone/Documents/uni/Thesis/GPFA_imputation/meteo_imp/kalman/filter.py:178: UserWarning: Not symmetric, symmetric up to 1e0\n",
      "Not pos definite with eigv tensor([-0.1730,  0.6950,  1.1475], grad_fn=<LinalgEighBackward0>) \n",
      "force symmetric is not posdeftensor([[ 0.2338, -0.5386,  0.7238],\n",
      "        [-0.5386,  0.2856, -0.0234],\n",
      "        [ 0.2856, -0.0234,  0.7118]], grad_fn=<IndexPutBackward0>)\n",
      "  warn(msg)\n",
      "/home/simone/Documents/uni/Thesis/GPFA_imputation/meteo_imp/kalman/filter.py:178: UserWarning: Not symmetric, symmetric up to 1e0\n",
      "Not pos definite with eigv tensor([-0.1578,  0.7600,  1.1503], grad_fn=<LinalgEighBackward0>) \n",
      "force symmetric is not posdeftensor([[ 0.2520, -0.5377,  0.7224],\n",
      "        [-0.5377,  0.2797, -0.0064],\n",
      "        [ 0.2797, -0.0064,  0.7781]], grad_fn=<IndexPutBackward0>)\n",
      "  warn(msg)\n",
      "/home/simone/Documents/uni/Thesis/GPFA_imputation/meteo_imp/kalman/filter.py:178: UserWarning: Not symmetric, symmetric up to 1e0\n",
      "Not pos definite with eigv tensor([-0.1447,  0.7861,  1.1343], grad_fn=<LinalgEighBackward0>) \n",
      "force symmetric is not posdeftensor([[ 0.2599, -0.5302,  0.7087],\n",
      "        [-0.5302,  0.2666,  0.0016],\n",
      "        [ 0.2666,  0.0016,  0.8071]], grad_fn=<IndexPutBackward0>)\n",
      "  warn(msg)\n",
      "/home/simone/Documents/uni/Thesis/GPFA_imputation/meteo_imp/kalman/filter.py:178: UserWarning: Not symmetric, symmetric up to 1e0\n",
      "Not pos definite with eigv tensor([-0.1306,  0.7785,  1.1031], grad_fn=<LinalgEighBackward0>) \n",
      "force symmetric is not posdeftensor([[ 0.2607, -0.5146,  0.6866],\n",
      "        [-0.5146,  0.2501,  0.0011],\n",
      "        [ 0.2501,  0.0011,  0.8036]], grad_fn=<IndexPutBackward0>)\n",
      "  warn(msg)\n",
      "/home/simone/Documents/uni/Thesis/GPFA_imputation/meteo_imp/kalman/filter.py:178: UserWarning: Not symmetric, symmetric up to 1e0\n",
      "Not pos definite with eigv tensor([-0.1132,  0.7378,  1.0543], grad_fn=<LinalgEighBackward0>) \n",
      "force symmetric is not posdeftensor([[ 0.2553, -0.4885,  0.6569],\n",
      "        [-0.4885,  0.2310, -0.0064],\n",
      "        [ 0.2310, -0.0064,  0.7668]], grad_fn=<IndexPutBackward0>)\n",
      "  warn(msg)\n",
      "/home/simone/Documents/uni/Thesis/GPFA_imputation/meteo_imp/kalman/filter.py:178: UserWarning: Not symmetric, symmetric up to 1e0\n",
      "Not pos definite with eigv tensor([-0.0907,  0.6605,  0.9796], grad_fn=<LinalgEighBackward0>) \n",
      "force symmetric is not posdeftensor([[ 0.2422, -0.4478,  0.6158],\n",
      "        [-0.4478,  0.2079, -0.0190],\n",
      "        [ 0.2079, -0.0190,  0.6914]], grad_fn=<IndexPutBackward0>)\n",
      "  warn(msg)\n",
      "/home/simone/Documents/uni/Thesis/GPFA_imputation/meteo_imp/kalman/filter.py:178: UserWarning: Not symmetric, symmetric up to 1e0\n",
      "Not pos definite with eigv tensor([-0.0623,  0.5370,  0.8593], grad_fn=<LinalgEighBackward0>) \n",
      "force symmetric is not posdeftensor([[ 0.2169, -0.3843,  0.5521],\n",
      "        [-0.3843,  0.1761, -0.0326],\n",
      "        [ 0.1761, -0.0326,  0.5650]], grad_fn=<IndexPutBackward0>)\n",
      "  warn(msg)\n",
      "/home/simone/Documents/uni/Thesis/GPFA_imputation/meteo_imp/kalman/filter.py:178: UserWarning: Not symmetric, symmetric up to 1e0\n",
      "Not pos definite with eigv tensor([-0.0284,  0.3437,  0.6427], grad_fn=<LinalgEighBackward0>) \n",
      "force symmetric is not posdeftensor([[ 0.1672, -0.2782,  0.4284],\n",
      "        [-0.2782,  0.1249, -0.0399],\n",
      "        [ 0.1249, -0.0399,  0.3625]], grad_fn=<IndexPutBackward0>)\n",
      "  warn(msg)\n",
      "/home/simone/Documents/uni/Thesis/GPFA_imputation/meteo_imp/kalman/filter.py:178: UserWarning: Not symmetric, symmetric up to 1e0\n",
      "Not pos definite with eigv tensor([-0.0479,  0.0967,  2.3802], grad_fn=<LinalgEighBackward0>) \n",
      "force symmetric is not posdeftensor([[ 0.7663, -0.7693,  0.6832],\n",
      "        [-0.7693,  0.8238, -0.7493],\n",
      "        [ 0.8238, -0.7493,  0.9795]], grad_fn=<IndexPutBackward0>)\n",
      "  warn(msg)\n",
      "/home/simone/Documents/uni/Thesis/GPFA_imputation/meteo_imp/kalman/filter.py:178: UserWarning: Not symmetric, symmetric up to 1e0\n",
      "Not pos definite with eigv tensor([-0.0695,  0.1462,  2.5212], grad_fn=<LinalgEighBackward0>) \n",
      "force symmetric is not posdeftensor([[ 0.7877, -0.8058,  0.7003],\n",
      "        [-0.8058,  0.8816, -0.7704],\n",
      "        [ 0.8816, -0.7704,  1.1098]], grad_fn=<IndexPutBackward0>)\n",
      "  warn(msg)\n",
      "/home/simone/Documents/uni/Thesis/GPFA_imputation/meteo_imp/kalman/filter.py:178: UserWarning: Not symmetric, symmetric up to 1e0\n",
      "Not pos definite with eigv tensor([-0.0836,  0.1781,  2.6035], grad_fn=<LinalgEighBackward0>) \n",
      "force symmetric is not posdeftensor([[ 0.7992, -0.8265,  0.7106],\n",
      "        [-0.8265,  0.9176, -0.7783],\n",
      "        [ 0.9176, -0.7783,  1.1882]], grad_fn=<IndexPutBackward0>)\n",
      "  warn(msg)\n",
      "/home/simone/Documents/uni/Thesis/GPFA_imputation/meteo_imp/kalman/filter.py:178: UserWarning: Not symmetric, symmetric up to 1e0\n",
      "Not pos definite with eigv tensor([-0.0925,  0.1988,  2.6542], grad_fn=<LinalgEighBackward0>) \n",
      "force symmetric is not posdeftensor([[ 0.8061, -0.8389,  0.7184],\n",
      "        [-0.8389,  0.9410, -0.7812],\n",
      "        [ 0.9410, -0.7812,  1.2361]], grad_fn=<IndexPutBackward0>)\n",
      "  warn(msg)\n",
      "/home/simone/Documents/uni/Thesis/GPFA_imputation/meteo_imp/kalman/filter.py:178: UserWarning: Not symmetric, symmetric up to 1e0\n",
      "Not pos definite with eigv tensor([-0.0971,  0.2106,  2.6848], grad_fn=<LinalgEighBackward0>) \n",
      "force symmetric is not posdeftensor([[ 0.8101, -0.8463,  0.7257],\n",
      "        [-0.8463,  0.9558, -0.7829],\n",
      "        [ 0.9558, -0.7829,  1.2624]], grad_fn=<IndexPutBackward0>)\n",
      "  warn(msg)\n",
      "/home/simone/Documents/uni/Thesis/GPFA_imputation/meteo_imp/kalman/filter.py:178: UserWarning: Not symmetric, symmetric up to 1e0\n",
      "Not pos definite with eigv tensor([-0.0988,  0.2142,  2.7000], grad_fn=<LinalgEighBackward0>) \n",
      "force symmetric is not posdeftensor([[ 0.8114, -0.8505,  0.7332],\n",
      "        [-0.8505,  0.9630, -0.7853],\n",
      "        [ 0.9630, -0.7853,  1.2708]], grad_fn=<IndexPutBackward0>)\n",
      "  warn(msg)\n",
      "/home/simone/Documents/uni/Thesis/GPFA_imputation/meteo_imp/kalman/filter.py:178: UserWarning: Not symmetric, symmetric up to 1e0\n",
      "Not pos definite with eigv tensor([-0.0992,  0.2090,  2.7005], grad_fn=<LinalgEighBackward0>) \n",
      "force symmetric is not posdeftensor([[ 0.8088, -0.8530,  0.7400],\n",
      "        [-0.8530,  0.9619, -0.7897],\n",
      "        [ 0.9619, -0.7897,  1.2614]], grad_fn=<IndexPutBackward0>)\n",
      "  warn(msg)\n",
      "/home/simone/Documents/uni/Thesis/GPFA_imputation/meteo_imp/kalman/filter.py:178: UserWarning: Not symmetric, symmetric up to 1e0\n",
      "Not pos definite with eigv tensor([-0.1010,  0.1927,  2.6824], grad_fn=<LinalgEighBackward0>) \n",
      "force symmetric is not posdeftensor([[ 0.7996, -0.8551,  0.7442],\n",
      "        [-0.8551,  0.9498, -0.7967],\n",
      "        [ 0.9498, -0.7967,  1.2303]], grad_fn=<IndexPutBackward0>)\n",
      "  warn(msg)\n",
      "/home/simone/Documents/uni/Thesis/GPFA_imputation/meteo_imp/kalman/filter.py:178: UserWarning: Not symmetric, symmetric up to 1e0\n",
      "Not pos definite with eigv tensor([-0.1092,  0.1619,  2.6370], grad_fn=<LinalgEighBackward0>) \n",
      "force symmetric is not posdeftensor([[ 0.7786, -0.8580,  0.7418],\n",
      "        [-0.8580,  0.9209, -0.8062],\n",
      "        [ 0.9209, -0.8062,  1.1693]], grad_fn=<IndexPutBackward0>)\n",
      "  warn(msg)\n",
      "/home/simone/Documents/uni/Thesis/GPFA_imputation/meteo_imp/kalman/filter.py:178: UserWarning: Not symmetric, symmetric up to 1e0\n",
      "Not pos definite with eigv tensor([-0.1361,  0.1114,  2.5426], grad_fn=<LinalgEighBackward0>) \n",
      "force symmetric is not posdeftensor([[ 0.7358, -0.8634,  0.7230],\n",
      "        [-0.8634,  0.8622, -0.8162],\n",
      "        [ 0.8622, -0.8162,  1.0591]], grad_fn=<IndexPutBackward0>)\n",
      "  warn(msg)\n",
      "/home/simone/Documents/uni/Thesis/GPFA_imputation/meteo_imp/kalman/filter.py:178: UserWarning: Not symmetric, symmetric up to 1e0\n",
      "Not pos definite with eigv tensor([-0.3583, -0.1052,  2.1435], grad_fn=<LinalgEighBackward0>) \n",
      "force symmetric is not posdeftensor([[ 0.4349, -0.9003,  0.6779],\n",
      "        [-0.9003,  0.6459, -0.8089],\n",
      "        [ 0.6459, -0.8089,  0.5673]], grad_fn=<IndexPutBackward0>)\n",
      "  warn(msg)\n",
      "/home/simone/Documents/uni/Thesis/GPFA_imputation/meteo_imp/kalman/filter.py:178: UserWarning: Not symmetric, symmetric up to 1e-2\n",
      "Not pos definite with eigv tensor([-2.5059e-04,  1.2734e-02,  4.1691e+00], grad_fn=<LinalgEighBackward0>) \n",
      "force symmetric is not posdeftensor([[ 2.6429, -1.7979,  1.2253],\n",
      "        [-1.7979,  0.8901, -0.6115],\n",
      "        [ 0.8901, -0.6115,  0.3134]], grad_fn=<IndexPutBackward0>)\n",
      "  warn(msg)\n",
      "/home/simone/Documents/uni/Thesis/GPFA_imputation/meteo_imp/kalman/filter.py:178: UserWarning: Not symmetric, symmetric up to 1eFalse\n",
      "Not pos definite with eigv tensor([-0.0142,  0.2235,  3.5255], grad_fn=<LinalgEighBackward0>) \n",
      "force symmetric is not posdeftensor([[ 0.2337, -0.4681,  3.4274],\n",
      "        [-0.4681,  0.1474, -0.3090],\n",
      "        [ 0.1474, -0.3090,  0.0738]], grad_fn=<IndexPutBackward0>)\n",
      "  warn(msg)\n",
      "/home/simone/Documents/uni/Thesis/GPFA_imputation/meteo_imp/kalman/filter.py:178: UserWarning: Not symmetric, symmetric up to 1eFalse\n",
      "Not pos definite with eigv tensor([-0.2241,  0.1303,  1.0189], grad_fn=<LinalgEighBackward0>) \n",
      "force symmetric is not posdeftensor([[ 0.0755, -0.4830,  0.6202],\n",
      "        [-0.4830,  0.2220, -0.2204],\n",
      "        [ 0.2220, -0.2204,  0.2294]], grad_fn=<IndexPutBackward0>)\n",
      "  warn(msg)\n",
      "/home/simone/Documents/uni/Thesis/GPFA_imputation/meteo_imp/kalman/filter.py:178: UserWarning: Not symmetric, symmetric up to 1e0\n",
      "Not pos definite with eigv tensor([-0.1689,  0.3900,  1.0971], grad_fn=<LinalgEighBackward0>) \n",
      "force symmetric is not posdeftensor([[ 0.1732, -0.4953,  0.6740],\n",
      "        [-0.4953,  0.2660, -0.1517],\n",
      "        [ 0.2660, -0.1517,  0.4710]], grad_fn=<IndexPutBackward0>)\n",
      "  warn(msg)\n",
      "/home/simone/Documents/uni/Thesis/GPFA_imputation/meteo_imp/kalman/filter.py:178: UserWarning: Not symmetric, symmetric up to 1e0\n",
      "Not pos definite with eigv tensor([-0.1302,  0.5627,  1.1373], grad_fn=<LinalgEighBackward0>) \n",
      "force symmetric is not posdeftensor([[ 0.2367, -0.5033,  0.7021],\n",
      "        [-0.5033,  0.2768, -0.0999],\n",
      "        [ 0.2768, -0.0999,  0.6309]], grad_fn=<IndexPutBackward0>)\n",
      "  warn(msg)\n",
      "/home/simone/Documents/uni/Thesis/GPFA_imputation/meteo_imp/kalman/filter.py:178: UserWarning: Not symmetric, symmetric up to 1e0\n",
      "Not pos definite with eigv tensor([-0.1048,  0.6692,  1.1467], grad_fn=<LinalgEighBackward0>) \n",
      "force symmetric is not posdeftensor([[ 0.2768, -0.5071,  0.7039],\n",
      "        [-0.5071,  0.2700, -0.0638],\n",
      "        [ 0.2700, -0.0638,  0.7303]], grad_fn=<IndexPutBackward0>)\n",
      "  warn(msg)\n",
      "/home/simone/Documents/uni/Thesis/GPFA_imputation/meteo_imp/kalman/filter.py:178: UserWarning: Not symmetric, symmetric up to 1e0\n",
      "Not pos definite with eigv tensor([-0.0863,  0.7257,  1.1386], grad_fn=<LinalgEighBackward0>) \n",
      "force symmetric is not posdeftensor([[ 0.3032, -0.5057,  0.6909],\n",
      "        [-0.5057,  0.2566, -0.0423],\n",
      "        [ 0.2566, -0.0423,  0.7839]], grad_fn=<IndexPutBackward0>)\n",
      "  warn(msg)\n",
      "/home/simone/Documents/uni/Thesis/GPFA_imputation/meteo_imp/kalman/filter.py:178: UserWarning: Not symmetric, symmetric up to 1e0\n",
      "Not pos definite with eigv tensor([-0.0696,  0.7403,  1.1166], grad_fn=<LinalgEighBackward0>) \n",
      "force symmetric is not posdeftensor([[ 0.3198, -0.4972,  0.6700],\n",
      "        [-0.4972,  0.2410, -0.0330],\n",
      "        [ 0.2410, -0.0330,  0.7974]], grad_fn=<IndexPutBackward0>)\n",
      "  warn(msg)\n",
      "/home/simone/Documents/uni/Thesis/GPFA_imputation/meteo_imp/kalman/filter.py:178: UserWarning: Not symmetric, symmetric up to 1e0\n",
      "Not pos definite with eigv tensor([-0.0516,  0.7156,  1.0795], grad_fn=<LinalgEighBackward0>) \n",
      "force symmetric is not posdeftensor([[ 0.3283, -0.4790,  0.6428],\n",
      "        [-0.4790,  0.2252, -0.0338],\n",
      "        [ 0.2252, -0.0338,  0.7723]], grad_fn=<IndexPutBackward0>)\n",
      "  warn(msg)\n",
      "/home/simone/Documents/uni/Thesis/GPFA_imputation/meteo_imp/kalman/filter.py:178: UserWarning: Not symmetric, symmetric up to 1e0\n",
      "Not pos definite with eigv tensor([-0.0303,  0.6495,  1.0201], grad_fn=<LinalgEighBackward0>) \n",
      "force symmetric is not posdeftensor([[ 0.3282, -0.4476,  0.6066],\n",
      "        [-0.4476,  0.2087, -0.0419],\n",
      "        [ 0.2087, -0.0419,  0.7045]], grad_fn=<IndexPutBackward0>)\n",
      "  warn(msg)\n",
      "/home/simone/Documents/uni/Thesis/GPFA_imputation/meteo_imp/kalman/filter.py:178: UserWarning: Not symmetric, symmetric up to 1e0\n",
      "Not pos definite with eigv tensor([-0.0053,  0.5333,  0.9216], grad_fn=<LinalgEighBackward0>) \n",
      "force symmetric is not posdeftensor([[ 0.3159, -0.3968,  0.5509],\n",
      "        [-0.3968,  0.1875, -0.0536],\n",
      "        [ 0.1875, -0.0536,  0.5828]], grad_fn=<IndexPutBackward0>)\n",
      "  warn(msg)\n",
      "/home/simone/Documents/uni/Thesis/GPFA_imputation/meteo_imp/kalman/filter.py:178: UserWarning: Not symmetric, symmetric up to 1e0\n",
      "Not pos definite with eigv tensor([-0.0570,  0.1532,  2.5538], grad_fn=<LinalgEighBackward0>) \n",
      "force symmetric is not posdeftensor([[ 0.8039, -0.8087,  0.7140],\n",
      "        [-0.8087,  0.8899, -0.7807],\n",
      "        [ 0.8899, -0.7807,  1.1321]], grad_fn=<IndexPutBackward0>)\n",
      "  warn(msg)\n",
      "/home/simone/Documents/uni/Thesis/GPFA_imputation/meteo_imp/kalman/filter.py:178: UserWarning: Not symmetric, symmetric up to 1e0\n",
      "Not pos definite with eigv tensor([-0.0714,  0.1843,  2.6234], grad_fn=<LinalgEighBackward0>) \n",
      "force symmetric is not posdeftensor([[ 0.8098, -0.8266,  0.7211],\n",
      "        [-0.8266,  0.9183, -0.7873],\n",
      "        [ 0.9183, -0.7873,  1.2054]], grad_fn=<IndexPutBackward0>)\n",
      "  warn(msg)\n",
      "/home/simone/Documents/uni/Thesis/GPFA_imputation/meteo_imp/kalman/filter.py:178: UserWarning: Not symmetric, symmetric up to 1e0\n",
      "Not pos definite with eigv tensor([-0.0805,  0.2025,  2.6642], grad_fn=<LinalgEighBackward0>) \n",
      "force symmetric is not posdeftensor([[ 0.8116, -0.8372,  0.7272],\n",
      "        [-0.8372,  0.9354, -0.7906],\n",
      "        [ 0.9354, -0.7906,  1.2474]], grad_fn=<IndexPutBackward0>)\n",
      "  warn(msg)\n",
      "/home/simone/Documents/uni/Thesis/GPFA_imputation/meteo_imp/kalman/filter.py:178: UserWarning: Not symmetric, symmetric up to 1e0\n",
      "Not pos definite with eigv tensor([-0.0848,  0.2101,  2.6862], grad_fn=<LinalgEighBackward0>) \n",
      "force symmetric is not posdeftensor([[ 0.8106, -0.8431,  0.7344],\n",
      "        [-0.8431,  0.9443, -0.7942],\n",
      "        [ 0.9443, -0.7942,  1.2666]], grad_fn=<IndexPutBackward0>)\n",
      "  warn(msg)\n",
      "/home/simone/Documents/uni/Thesis/GPFA_imputation/meteo_imp/kalman/filter.py:178: UserWarning: Not symmetric, symmetric up to 1e0\n",
      "Not pos definite with eigv tensor([-0.0859,  0.2074,  2.6933], grad_fn=<LinalgEighBackward0>) \n",
      "force symmetric is not posdeftensor([[ 0.8064, -0.8460,  0.7429],\n",
      "        [-0.8460,  0.9456, -0.8002],\n",
      "        [ 0.9456, -0.8002,  1.2655]], grad_fn=<IndexPutBackward0>)\n",
      "  warn(msg)\n",
      "/home/simone/Documents/uni/Thesis/GPFA_imputation/meteo_imp/kalman/filter.py:178: UserWarning: Not symmetric, symmetric up to 1e0\n",
      "Not pos definite with eigv tensor([-0.0863,  0.1928,  2.6847], grad_fn=<LinalgEighBackward0>) \n",
      "force symmetric is not posdeftensor([[ 0.7971, -0.8479,  0.7514],\n",
      "        [-0.8479,  0.9373, -0.8103],\n",
      "        [ 0.9373, -0.8103,  1.2427]], grad_fn=<IndexPutBackward0>)\n",
      "  warn(msg)\n",
      "/home/simone/Documents/uni/Thesis/GPFA_imputation/meteo_imp/kalman/filter.py:178: UserWarning: Not symmetric, symmetric up to 1e0\n",
      "Not pos definite with eigv tensor([-0.0903,  0.1635,  2.6566], grad_fn=<LinalgEighBackward0>) \n",
      "force symmetric is not posdeftensor([[ 0.7789, -0.8505,  0.7574],\n",
      "        [-0.8505,  0.9156, -0.8258],\n",
      "        [ 0.9156, -0.8258,  1.1934]], grad_fn=<IndexPutBackward0>)\n",
      "  warn(msg)\n",
      "/home/simone/Documents/uni/Thesis/GPFA_imputation/meteo_imp/kalman/filter.py:178: UserWarning: Not symmetric, symmetric up to 1e0\n",
      "Not pos definite with eigv tensor([-0.1078,  0.1159,  2.5976], grad_fn=<LinalgEighBackward0>) \n",
      "force symmetric is not posdeftensor([[ 0.7449, -0.8564,  0.7549],\n",
      "        [-0.8564,  0.8722, -0.8476],\n",
      "        [ 0.8722, -0.8476,  1.1059]], grad_fn=<IndexPutBackward0>)\n",
      "  warn(msg)\n",
      "/home/simone/Documents/uni/Thesis/GPFA_imputation/meteo_imp/kalman/filter.py:178: UserWarning: Not symmetric, symmetric up to 1e0\n",
      "Not pos definite with eigv tensor([-0.1620,  0.0561,  2.4959], grad_fn=<LinalgEighBackward0>) \n",
      "force symmetric is not posdeftensor([[ 0.6880, -0.8682,  0.7351],\n",
      "        [-0.8682,  0.7961, -0.8762],\n",
      "        [ 0.7961, -0.8762,  0.9669]], grad_fn=<IndexPutBackward0>)\n",
      "  warn(msg)\n",
      "/home/simone/Documents/uni/Thesis/GPFA_imputation/meteo_imp/kalman/filter.py:178: UserWarning: Not symmetric, symmetric up to 1eFalse\n",
      "Not pos definite with eigv tensor([-0.0586,  0.3014,  2.8480], grad_fn=<LinalgEighBackward0>) \n",
      "forced symmetric is posdeftensor([[ 1.0278, -0.8486,  0.6942],\n",
      "        [-0.8486,  0.8863, -0.9439],\n",
      "        [ 0.8863, -0.9439,  1.3688]], grad_fn=<IndexPutBackward0>)\n",
      "  warn(msg)\n",
      "/home/simone/Documents/uni/Thesis/GPFA_imputation/meteo_imp/kalman/filter.py:178: UserWarning: Not symmetric, symmetric up to 1e-1\n",
      "Not pos definite with eigv tensor([-0.0049,  0.0198,  4.0585]) \n",
      "force symmetric is not posdeftensor([[ 2.5793, -1.7402,  1.1836],\n",
      "        [-1.7402,  0.8741, -0.6067],\n",
      "        [ 0.8741, -0.6067,  0.3105]])\n",
      "  warn(msg)\n",
      "/home/simone/Documents/uni/Thesis/GPFA_imputation/meteo_imp/kalman/filter.py:178: UserWarning: Not symmetric, symmetric up to 1e-1\n",
      "Not pos definite with eigv tensor([-0.0179, -0.0065,  2.4672]) \n",
      "force symmetric is not posdeftensor([[ 1.5041, -1.0580,  0.7246],\n",
      "        [-1.0580,  0.5878, -0.4027],\n",
      "        [ 0.5878, -0.4027,  0.2141]])\n",
      "  warn(msg)\n",
      "/home/simone/Documents/uni/Thesis/GPFA_imputation/meteo_imp/kalman/filter.py:178: UserWarning: Not symmetric, symmetric up to 1e0\n",
      "Not pos definite with eigv tensor([-0.2712, -0.0161,  0.5532]) \n",
      "force symmetric is not posdeftensor([[ 0.3977, -0.2677, -0.1639],\n",
      "        [-0.2677,  0.1496, -0.0536],\n",
      "        [ 0.1496, -0.0536,  0.0321]])\n",
      "  warn(msg)\n",
      "/home/simone/Documents/uni/Thesis/GPFA_imputation/meteo_imp/kalman/filter.py:178: UserWarning: Not symmetric, symmetric up to 1eFalse\n",
      "Not pos definite with eigv tensor([-2.6516e-01,  7.7823e+00,  5.3729e+03]) \n",
      "force symmetric is not posdeftensor([[  54.2306, -495.9852, 5303.9688],\n",
      "        [-495.9852,   32.4252, -345.6021],\n",
      "        [  32.4252, -345.6021,   22.2543]])\n",
      "  warn(msg)\n",
      "/home/simone/Documents/uni/Thesis/GPFA_imputation/meteo_imp/kalman/filter.py:178: UserWarning: Not symmetric, symmetric up to 1eFalse\n",
      "Not pos definite with eigv tensor([-611.6405, -299.0284,  280.1137]) \n",
      "force symmetric is not posdeftensor([[-402.3208, -329.9813,   18.3338],\n",
      "        [-329.9813,   15.5730, -224.4232],\n",
      "        [  15.5730, -224.4232, -246.5682]])\n",
      "  warn(msg)\n",
      "/home/simone/Documents/uni/Thesis/GPFA_imputation/meteo_imp/kalman/filter.py:178: UserWarning: Not symmetric, symmetric up to 1eFalse\n",
      "Not pos definite with eigv tensor([-437.0053, -231.1840,  173.7917]) \n",
      "force symmetric is not posdeftensor([[-322.0020, -216.9219,    9.5076],\n",
      "        [-216.9219,   25.9505, -145.4335],\n",
      "        [  25.9505, -145.4335, -181.9031]])\n",
      "  warn(msg)\n",
      "/home/simone/Documents/uni/Thesis/GPFA_imputation/meteo_imp/kalman/filter.py:178: UserWarning: Not symmetric, symmetric up to 1eFalse\n",
      "Not pos definite with eigv tensor([-313.3190, -168.7478,  115.3240]) \n",
      "force symmetric is not posdeftensor([[-254.5949, -138.8537,   18.5228],\n",
      "        [-138.8537,   29.2048,  -93.3841],\n",
      "        [  29.2048,  -93.3841, -130.6706]])\n",
      "  warn(msg)\n",
      "/home/simone/Documents/uni/Thesis/GPFA_imputation/meteo_imp/kalman/filter.py:178: UserWarning: Not symmetric, symmetric up to 1eFalse\n",
      "Not pos definite with eigv tensor([-229.3796, -116.2320,   75.6171]) \n",
      "force symmetric is not posdeftensor([[-200.0222,  -85.1232,   21.2768],\n",
      "        [ -85.1232,   27.6135,  -59.3209],\n",
      "        [  27.6135,  -59.3209,  -91.2491]])\n",
      "  warn(msg)\n",
      "/home/simone/Documents/uni/Thesis/GPFA_imputation/meteo_imp/kalman/filter.py:178: UserWarning: Not symmetric, symmetric up to 1eFalse\n",
      "Not pos definite with eigv tensor([-169.9536,  -75.4960,   48.3390]) \n",
      "force symmetric is not posdeftensor([[-155.7864,  -48.3904,   19.8491],\n",
      "        [ -48.3904,   23.1067,  -37.1744],\n",
      "        [  23.1067,  -37.1744,  -61.1734]])\n",
      "  warn(msg)\n",
      "/home/simone/Documents/uni/Thesis/GPFA_imputation/meteo_imp/kalman/filter.py:178: UserWarning: Not symmetric, symmetric up to 1eFalse\n",
      "Not pos definite with eigv tensor([-125.8846,  -46.1217,   29.5192]) \n",
      "force symmetric is not posdeftensor([[-119.8290,  -23.5834,   15.9432],\n",
      "        [ -23.5834,   17.1525,  -22.8202],\n",
      "        [  17.1525,  -22.8202,  -38.6013]])\n",
      "  warn(msg)\n",
      "/home/simone/Documents/uni/Thesis/GPFA_imputation/meteo_imp/kalman/filter.py:178: UserWarning: Not symmetric, symmetric up to 1e0\n",
      "Not pos definite with eigv tensor([-92.4439, -26.0605,  16.6487]) \n",
      "force symmetric is not posdeftensor([[-90.5144,  -7.1935,  10.8373],\n",
      "        [ -7.1935,  10.8297, -13.4526],\n",
      "        [ 10.8297, -13.4526, -22.1785]])\n",
      "  warn(msg)\n",
      "/home/simone/Documents/uni/Thesis/GPFA_imputation/meteo_imp/kalman/filter.py:178: UserWarning: Not symmetric, symmetric up to 1e-2\n",
      "Not pos definite with eigv tensor([-67.2092, -13.0002,   8.1657]) \n",
      "force symmetric is not posdeftensor([[-66.5771,   3.1988,   5.4503],\n",
      "        [  3.1988,   4.9102,  -7.1652],\n",
      "        [  4.9102,  -7.1652, -10.9169]])\n",
      "  warn(msg)\n",
      "/home/simone/Documents/uni/Thesis/GPFA_imputation/meteo_imp/kalman/filter.py:178: UserWarning: Not symmetric, symmetric up to 1e0\n",
      "Not pos definite with eigv tensor([-48.8073,  -5.0623,   3.1007]) \n",
      "force symmetric is not posdeftensor([[-47.0631,   9.2523,   0.3924],\n",
      "        [  9.2523,  -0.0683,  -2.6728],\n",
      "        [ -0.0683,  -2.6728,  -4.0982]])\n",
      "  warn(msg)\n",
      "/home/simone/Documents/uni/Thesis/GPFA_imputation/meteo_imp/kalman/filter.py:178: UserWarning: Not symmetric, symmetric up to 1e0\n",
      "Not pos definite with eigv tensor([-36.2812,  -0.9750,   0.7143]) \n",
      "force symmetric is not posdeftensor([[-31.2763,  12.0836,  -4.0570],\n",
      "        [ 12.0836,  -3.7516,   0.8630],\n",
      "        [ -3.7516,   0.8630,  -1.2087]])\n",
      "  warn(msg)\n",
      "/home/simone/Documents/uni/Thesis/GPFA_imputation/meteo_imp/kalman/filter.py:178: UserWarning: Not symmetric, symmetric up to 1e-1\n",
      "Not pos definite with eigv tensor([-2.8673e+01, -9.2091e-04,  1.2078e-02]) \n",
      "force symmetric is not posdeftensor([[-18.6703,  12.3220,  -8.1302],\n",
      "        [ 12.3220,  -5.9137,   3.8965],\n",
      "        [ -5.9137,   3.8965,  -1.8609]])\n",
      "  warn(msg)\n",
      "/home/simone/Documents/uni/Thesis/GPFA_imputation/meteo_imp/kalman/filter.py:178: UserWarning: Not symmetric, symmetric up to 1e-1\n",
      "Not pos definite with eigv tensor([-1.3003e+01, -1.3506e-02, -4.8195e-03]) \n",
      "force symmetric is not posdeftensor([[-8.2678,  5.5772, -3.7818],\n",
      "        [ 5.5772, -2.8267,  1.9096],\n",
      "        [-2.8267,  1.9096, -0.9721]])\n",
      "  warn(msg)\n",
      "/home/simone/Documents/uni/Thesis/GPFA_imputation/meteo_imp/kalman/filter.py:178: UserWarning: Not symmetric, symmetric up to 1e-1\n",
      "Not pos definite with eigv tensor([-5.4691e+00, -4.8627e-03,  5.5380e-03]) \n",
      "force symmetric is not posdeftensor([[-3.4736,  2.3466, -1.5907],\n",
      "        [ 2.3466, -1.1935,  0.8032],\n",
      "        [-1.1935,  0.8032, -0.4041]])\n",
      "  warn(msg)\n",
      "/home/simone/Documents/uni/Thesis/GPFA_imputation/meteo_imp/kalman/filter.py:178: UserWarning: Not symmetric, symmetric up to 1e-1\n",
      "Not pos definite with eigv tensor([-2.1232e+00, -1.4692e-03,  1.0629e-02]) \n",
      "force symmetric is not posdeftensor([[-1.3527,  0.9124, -0.6146],\n",
      "        [ 0.9124, -0.4621,  0.3059],\n",
      "        [-0.4621,  0.3059, -0.1468]])\n",
      "  warn(msg)\n",
      "/home/simone/Documents/uni/Thesis/GPFA_imputation/meteo_imp/kalman/filter.py:178: UserWarning: Not symmetric, symmetric up to 1e-2\n",
      "Not pos definite with eigv tensor([-6.4807e-01, -3.1130e-05,  1.3090e-02]) \n",
      "force symmetric is not posdeftensor([[-0.4178,  0.2800, -0.1841],\n",
      "        [ 0.2800, -0.1393,  0.0865],\n",
      "        [-0.1393,  0.0865, -0.0331]])\n",
      "  warn(msg)\n",
      "/home/simone/Documents/uni/Thesis/GPFA_imputation/meteo_imp/kalman/filter.py:178: UserWarning: Not symmetric, symmetric up to 1e-2\n",
      "Not pos definite with eigv tensor([-0.0071,  0.0006,  0.0232]) \n",
      "force symmetric is not posdeftensor([[-0.0059,  0.0014,  0.0055],\n",
      "        [ 0.0014,  0.0029, -0.0103],\n",
      "        [ 0.0029, -0.0103,  0.0170]])\n",
      "  warn(msg)\n",
      "/home/simone/Documents/uni/Thesis/GPFA_imputation/meteo_imp/kalman/filter.py:178: UserWarning: Not symmetric, symmetric up to 1e-3\n",
      "Not pos definite with eigv tensor([-5.8775e-05,  6.6032e-03,  2.0347e+00]) \n",
      "forced symmetric is posdeftensor([[ 0.6910, -0.6630,  0.6402],\n",
      "        [-0.6630,  0.6939, -0.6731],\n",
      "        [ 0.6939, -0.6731,  0.7100]])\n",
      "  warn(msg)\n",
      "/home/simone/Documents/uni/Thesis/GPFA_imputation/meteo_imp/kalman/filter.py:178: UserWarning: Not symmetric, symmetric up to 1e-1\n",
      "Not pos definite with eigv tensor([-0.0093,  0.0693,  1.0774]) \n",
      "force symmetric is not posdeftensor([[ 0.3563, -0.3265,  0.4255],\n",
      "        [-0.3265,  0.3602, -0.3595],\n",
      "        [ 0.3602, -0.3595,  0.3556]])\n",
      "  warn(msg)\n",
      "/home/simone/Documents/uni/Thesis/GPFA_imputation/meteo_imp/kalman/filter.py:178: UserWarning: Not symmetric, symmetric up to 1e0\n",
      "Not pos definite with eigv tensor([-0.4561, -0.0330,  0.2042]) \n",
      "force symmetric is not posdeftensor([[-0.1708,  0.2034,  0.0880],\n",
      "        [ 0.2034, -0.1650,  0.1339],\n",
      "        [-0.1650,  0.1339, -0.2021]])\n",
      "  warn(msg)\n",
      "/home/simone/Documents/uni/Thesis/GPFA_imputation/meteo_imp/kalman/filter.py:178: UserWarning: Not symmetric, symmetric up to 1e0\n",
      "Not pos definite with eigv tensor([-3.8424, -0.0879,  0.4558]) \n",
      "force symmetric is not posdeftensor([[-1.3615,  1.3967, -0.6636],\n",
      "        [ 1.3967, -1.3448,  1.2381],\n",
      "        [-1.3448,  1.2381, -1.4494]])\n",
      "  warn(msg)\n",
      "/home/simone/Documents/uni/Thesis/GPFA_imputation/meteo_imp/kalman/filter.py:178: UserWarning: Not symmetric, symmetric up to 1e0\n",
      "Not pos definite with eigv tensor([-10.6624,  -0.2065,   1.0814]) \n",
      "force symmetric is not posdeftensor([[-3.9211,  3.8822, -2.0346],\n",
      "        [ 3.8822, -3.7344,  3.3666],\n",
      "        [-3.7344,  3.3666, -3.8318]])\n",
      "  warn(msg)\n",
      "/home/simone/Documents/uni/Thesis/GPFA_imputation/meteo_imp/kalman/filter.py:178: UserWarning: Not symmetric, symmetric up to 1e0\n",
      "Not pos definite with eigv tensor([-11.9754,  -0.3058,   0.7637]) \n",
      "force symmetric is not posdeftensor([[-7.6794,  3.3792, -0.7033],\n",
      "        [ 3.3792, -4.8453,  1.5814],\n",
      "        [-4.8453,  1.5814, -3.1348]])\n",
      "  warn(msg)\n",
      "/home/simone/Documents/uni/Thesis/GPFA_imputation/meteo_imp/kalman/filter.py:178: UserWarning: Not symmetric, symmetric up to 1e0\n",
      "Not pos definite with eigv tensor([-16.4929,  -1.5329,   2.2439]) \n",
      "force symmetric is not posdeftensor([[-13.0690,   1.8212,   1.3055],\n",
      "        [  1.8212,  -6.4308,  -0.8385],\n",
      "        [ -6.4308,  -0.8385,  -4.0185]])\n",
      "  warn(msg)\n",
      "/home/simone/Documents/uni/Thesis/GPFA_imputation/meteo_imp/kalman/filter.py:178: UserWarning: Not symmetric, symmetric up to 1e0\n",
      "Not pos definite with eigv tensor([-25.0792,  -3.7745,   5.5068]) \n",
      "force symmetric is not posdeftensor([[-20.5004,  -1.1733,   3.8458],\n",
      "        [ -1.1733,  -8.7993,  -4.2479],\n",
      "        [ -8.7993,  -4.2479,  -6.6923]])\n",
      "  warn(msg)\n",
      "/home/simone/Documents/uni/Thesis/GPFA_imputation/meteo_imp/kalman/filter.py:178: UserWarning: Not symmetric, symmetric up to 1e-2\n",
      "Not pos definite with eigv tensor([-38.9308,  -7.2044,  10.6153]) \n",
      "force symmetric is not posdeftensor([[-30.6736,  -6.2785,   6.6889],\n",
      "        [ -6.2785, -12.4537,  -9.2871],\n",
      "        [-12.4537,  -9.2871, -11.5353]])\n",
      "  warn(msg)\n",
      "/home/simone/Documents/uni/Thesis/GPFA_imputation/meteo_imp/kalman/filter.py:178: UserWarning: Not symmetric, symmetric up to 1e0\n",
      "Not pos definite with eigv tensor([-60.2957, -11.8982,  17.9420]) \n",
      "force symmetric is not posdeftensor([[-44.6259, -14.5020,   9.4917],\n",
      "        [-14.5020, -18.1437, -16.9263],\n",
      "        [-18.1437, -16.9263, -19.1177]])\n",
      "  warn(msg)\n",
      "/home/simone/Documents/uni/Thesis/GPFA_imputation/meteo_imp/kalman/filter.py:178: UserWarning: Not symmetric, symmetric up to 1eFalse\n",
      "Not pos definite with eigv tensor([-92.6698, -17.8899,  28.2550]) \n",
      "force symmetric is not posdeftensor([[-63.8300, -27.3138,  11.7627],\n",
      "        [-27.3138, -26.9388, -28.5978],\n",
      "        [-26.9388, -28.5978, -30.2373]])\n",
      "  warn(msg)\n",
      "/home/simone/Documents/uni/Thesis/GPFA_imputation/meteo_imp/kalman/filter.py:178: UserWarning: Not symmetric, symmetric up to 1eFalse\n",
      "Not pos definite with eigv tensor([-141.1310,  -25.2143,   42.8342]) \n",
      "force symmetric is not posdeftensor([[-90.3424, -46.8391,  12.8150],\n",
      "        [-46.8391, -40.3391, -46.3991],\n",
      "        [-40.3391, -46.3991, -45.9838]])\n",
      "  warn(msg)\n",
      "/home/simone/Documents/uni/Thesis/GPFA_imputation/meteo_imp/kalman/filter.py:178: UserWarning: Not symmetric, symmetric up to 1eFalse\n",
      "Not pos definite with eigv tensor([-212.8999,  -33.9215,   63.7112]) \n",
      "force symmetric is not posdeftensor([[-127.0050,  -76.1368,   11.7111],\n",
      "        [ -76.1368,  -60.4226,  -73.3971],\n",
      "        [ -60.4226,  -73.3971,  -67.8164]])\n",
      "  warn(msg)\n",
      "/home/simone/Documents/uni/Thesis/GPFA_imputation/meteo_imp/kalman/filter.py:178: UserWarning: Not symmetric, symmetric up to 1eFalse\n",
      "Not pos definite with eigv tensor([-318.1353,  -44.0668,   94.0941]) \n",
      "force symmetric is not posdeftensor([[-177.6973, -119.6033,    7.2091],\n",
      "        [-119.6033,  -90.0226, -114.0825],\n",
      "        [ -90.0226, -114.0825,  -97.6198]])\n",
      "  warn(msg)\n",
      "/home/simone/Documents/uni/Thesis/GPFA_imputation/meteo_imp/kalman/filter.py:178: UserWarning: Not symmetric, symmetric up to 1e0\n",
      "Not pos definite with eigv tensor([-466.1516,  -52.9820,  140.8228]) \n",
      "force symmetric is not posdeftensor([[-243.8045, -183.2383,   -2.2342],\n",
      "        [-183.2383, -131.0974, -175.3117],\n",
      "        [-131.0974, -175.3117, -132.2722]])\n",
      "  warn(msg)\n",
      "/home/simone/Documents/uni/Thesis/GPFA_imputation/meteo_imp/kalman/filter.py:178: UserWarning: Not symmetric, symmetric up to 1eFalse\n",
      "Not pos definite with eigv tensor([-147.2580,  390.6930, 1115.1340]) \n",
      "forced symmetric is posdeftensor([[ 436.1879, -212.7600,   -6.1067],\n",
      "        [-212.7600,  184.5111, -321.5903],\n",
      "        [ 184.5111, -321.5903,  928.4878]])\n",
      "  warn(msg)\n",
      "/home/simone/Documents/uni/Thesis/GPFA_imputation/meteo_imp/kalman/filter.py:178: UserWarning: Not symmetric, symmetric up to 1e0\n",
      "Not pos definite with eigv tensor([-0.0382, -0.0108,  2.2536]) \n",
      "force symmetric is not posdeftensor([[ 0.7585, -0.7573,  0.7064],\n",
      "        [-0.7573,  0.7848, -0.7349],\n",
      "        [ 0.7848, -0.7349,  0.7396]])\n",
      "  warn(msg)\n",
      "/home/simone/Documents/uni/Thesis/GPFA_imputation/meteo_imp/kalman/filter.py:178: UserWarning: Not symmetric, symmetric up to 1e-1\n",
      "Not pos definite with eigv tensor([-0.0095,  0.0210,  4.0486], grad_fn=<LinalgEighBackward0>) \n",
      "force symmetric is not posdeftensor([[ 2.5756, -1.7386,  1.1831],\n",
      "        [-1.7386,  0.8639, -0.6038],\n",
      "        [ 0.8639, -0.6038,  0.3013]], grad_fn=<IndexPutBackward0>)\n",
      "  warn(msg)\n",
      "/home/simone/Documents/uni/Thesis/GPFA_imputation/meteo_imp/kalman/filter.py:178: UserWarning: Not symmetric, symmetric up to 1e-1\n",
      "Not pos definite with eigv tensor([-0.0343, -0.0115,  2.5170], grad_fn=<LinalgEighBackward0>) \n",
      "force symmetric is not posdeftensor([[ 1.5161, -1.0810,  0.7374],\n",
      "        [-1.0810,  0.6162, -0.4184],\n",
      "        [ 0.6162, -0.4184,  0.2177]], grad_fn=<IndexPutBackward0>)\n",
      "  warn(msg)\n",
      "/home/simone/Documents/uni/Thesis/GPFA_imputation/meteo_imp/kalman/filter.py:178: UserWarning: Not symmetric, symmetric up to 1e0\n",
      "Not pos definite with eigv tensor([-0.2939, -0.0305,  0.5545], grad_fn=<LinalgEighBackward0>) \n",
      "force symmetric is not posdeftensor([[ 0.3985, -0.2798, -0.1712],\n",
      "        [-0.2798,  0.1575, -0.0135],\n",
      "        [ 0.1575, -0.0135,  0.0027]], grad_fn=<IndexPutBackward0>)\n",
      "  warn(msg)\n",
      "/home/simone/Documents/uni/Thesis/GPFA_imputation/meteo_imp/kalman/filter.py:178: UserWarning: Not symmetric, symmetric up to 1eFalse\n",
      "Not pos definite with eigv tensor([-4.0174e+00,  9.9257e-02,  8.6942e+02], grad_fn=<LinalgEighBackward0>) \n",
      "force symmetric is not posdeftensor([[  2.3526, -74.2378, 861.7136],\n",
      "        [-74.2378,   3.0433, -33.9926],\n",
      "        [  3.0433, -33.9926,   1.4372]], grad_fn=<IndexPutBackward0>)\n",
      "  warn(msg)\n",
      "/home/simone/Documents/uni/Thesis/GPFA_imputation/meteo_imp/kalman/filter.py:178: UserWarning: Not symmetric, symmetric up to 1eFalse\n",
      "Not pos definite with eigv tensor([-96.7956, -44.1405,  34.2284], grad_fn=<LinalgEighBackward0>) \n",
      "force symmetric is not posdeftensor([[-69.3376, -50.9140,   2.3479],\n",
      "        [-50.9140,   2.5965, -21.2210],\n",
      "        [  2.5965, -21.2210, -39.7180]], grad_fn=<IndexPutBackward0>)\n",
      "  warn(msg)\n",
      "/home/simone/Documents/uni/Thesis/GPFA_imputation/meteo_imp/kalman/filter.py:178: UserWarning: Not symmetric, symmetric up to 1e0\n",
      "Not pos definite with eigv tensor([-71.1053, -31.9021,  22.6022], grad_fn=<LinalgEighBackward0>) \n",
      "force symmetric is not posdeftensor([[-54.8478, -34.5479,   2.4153],\n",
      "        [-34.5479,   5.2132, -13.1626],\n",
      "        [  5.2132, -13.1626, -27.9727]], grad_fn=<IndexPutBackward0>)\n",
      "  warn(msg)\n",
      "/home/simone/Documents/uni/Thesis/GPFA_imputation/meteo_imp/kalman/filter.py:178: UserWarning: Not symmetric, symmetric up to 1eFalse\n",
      "Not pos definite with eigv tensor([-52.5851, -21.6723,  16.3040], grad_fn=<LinalgEighBackward0>) \n",
      "force symmetric is not posdeftensor([[-43.1583, -22.8912,   4.4222],\n",
      "        [-22.8912,   5.9834,  -8.0493],\n",
      "        [  5.9834,  -8.0493, -19.2173]], grad_fn=<IndexPutBackward0>)\n",
      "  warn(msg)\n",
      "/home/simone/Documents/uni/Thesis/GPFA_imputation/meteo_imp/kalman/filter.py:178: UserWarning: Not symmetric, symmetric up to 1eFalse\n",
      "Not pos definite with eigv tensor([-39.3317, -13.9388,  11.5433], grad_fn=<LinalgEighBackward0>) \n",
      "force symmetric is not posdeftensor([[-33.8796, -14.6166,   4.9412],\n",
      "        [-14.6166,   5.6474,  -4.8809],\n",
      "        [  5.6474,  -4.8809, -12.7887]], grad_fn=<IndexPutBackward0>)\n",
      "  warn(msg)\n",
      "/home/simone/Documents/uni/Thesis/GPFA_imputation/meteo_imp/kalman/filter.py:178: UserWarning: Not symmetric, symmetric up to 1e0\n",
      "Not pos definite with eigv tensor([-29.4227,  -8.4432,   7.9474], grad_fn=<LinalgEighBackward0>) \n",
      "force symmetric is not posdeftensor([[-26.4177,  -8.7775,   4.5749],\n",
      "        [ -8.7775,   4.7131,  -2.9656],\n",
      "        [  4.7131,  -2.9656,  -8.0757]], grad_fn=<IndexPutBackward0>)\n",
      "  warn(msg)\n",
      "/home/simone/Documents/uni/Thesis/GPFA_imputation/meteo_imp/kalman/filter.py:178: UserWarning: Not symmetric, symmetric up to 1e-1\n",
      "Not pos definite with eigv tensor([-21.8123,  -4.7221,   5.2453], grad_fn=<LinalgEighBackward0>) \n",
      "force symmetric is not posdeftensor([[-20.3548,  -4.6975,   3.7357],\n",
      "        [ -4.6975,   3.5142,  -1.8268],\n",
      "        [  3.5142,  -1.8268,  -4.6700]], grad_fn=<IndexPutBackward0>)\n",
      "  warn(msg)\n",
      "/home/simone/Documents/uni/Thesis/GPFA_imputation/meteo_imp/kalman/filter.py:178: UserWarning: Not symmetric, symmetric up to 1e0\n",
      "Not pos definite with eigv tensor([-15.9278,  -2.3105,   3.2421], grad_fn=<LinalgEighBackward0>) \n",
      "force symmetric is not posdeftensor([[-15.3924,  -1.8953,   2.6941],\n",
      "        [ -1.8953,   2.2709,  -1.1365],\n",
      "        [  2.2709,  -1.1365,  -2.2979]], grad_fn=<IndexPutBackward0>)\n",
      "  warn(msg)\n",
      "/home/simone/Documents/uni/Thesis/GPFA_imputation/meteo_imp/kalman/filter.py:178: UserWarning: Not symmetric, symmetric up to 1e0\n",
      "Not pos definite with eigv tensor([-11.4352,  -0.8375,   1.8058], grad_fn=<LinalgEighBackward0>) \n",
      "force symmetric is not posdeftensor([[-11.3159,  -0.0296,   1.6234],\n",
      "        [ -0.0296,   1.1273,  -0.6704],\n",
      "        [  1.1273,  -0.6704,  -0.7744]], grad_fn=<IndexPutBackward0>)\n",
      "  warn(msg)\n",
      "/home/simone/Documents/uni/Thesis/GPFA_imputation/meteo_imp/kalman/filter.py:178: UserWarning: Not symmetric, symmetric up to 1e0\n",
      "Not pos definite with eigv tensor([-8.1279, -0.0470,  0.8490], grad_fn=<LinalgEighBackward0>) \n",
      "force symmetric is not posdeftensor([[-7.9735,  1.1413,  0.6227],\n",
      "        [ 1.1413,  0.1755, -0.2768],\n",
      "        [ 0.1755, -0.2768,  0.0249]], grad_fn=<IndexPutBackward0>)\n",
      "  warn(msg)\n",
      "/home/simone/Documents/uni/Thesis/GPFA_imputation/meteo_imp/kalman/filter.py:178: UserWarning: Not symmetric, symmetric up to 1e0\n",
      "Not pos definite with eigv tensor([-5.8918,  0.2165,  0.2950], grad_fn=<LinalgEighBackward0>) \n",
      "force symmetric is not posdeftensor([[-5.2639,  1.7909, -0.2946],\n",
      "        [ 1.7909, -0.5316,  0.1424],\n",
      "        [-0.5316,  0.1424,  0.1782]], grad_fn=<IndexPutBackward0>)\n",
      "  warn(msg)\n",
      "/home/simone/Documents/uni/Thesis/GPFA_imputation/meteo_imp/kalman/filter.py:178: UserWarning: Not symmetric, symmetric up to 1e-2\n",
      "Not pos definite with eigv tensor([-4.7715e+00,  2.2156e-03,  1.8254e-02], grad_fn=<LinalgEighBackward0>) \n",
      "force symmetric is not posdeftensor([[-3.1236,  2.0531, -1.3412],\n",
      "        [ 2.0531, -0.9751,  0.6315],\n",
      "        [-0.9751,  0.6315, -0.2862]], grad_fn=<IndexPutBackward0>)\n",
      "  warn(msg)\n",
      "/home/simone/Documents/uni/Thesis/GPFA_imputation/meteo_imp/kalman/filter.py:178: UserWarning: Not symmetric, symmetric up to 1e-1\n",
      "Not pos definite with eigv tensor([-1.9388e+00, -1.2859e-03,  1.1017e-02], grad_fn=<LinalgEighBackward0>) \n",
      "force symmetric is not posdeftensor([[-1.2397,  0.8335, -0.5593],\n",
      "        [ 0.8335, -0.4188,  0.2757],\n",
      "        [-0.4188,  0.2757, -0.1300]], grad_fn=<IndexPutBackward0>)\n",
      "  warn(msg)\n",
      "/home/simone/Documents/uni/Thesis/GPFA_imputation/meteo_imp/kalman/filter.py:178: UserWarning: Not symmetric, symmetric up to 1e-2\n",
      "Not pos definite with eigv tensor([-5.7196e-01,  3.8595e-05,  1.3249e-02], grad_fn=<LinalgEighBackward0>) \n",
      "force symmetric is not posdeftensor([[-0.3697,  0.2474, -0.1619],\n",
      "        [ 0.2474, -0.1225,  0.0750],\n",
      "        [-0.1225,  0.0750, -0.0271]], grad_fn=<IndexPutBackward0>)\n",
      "  warn(msg)\n",
      "/home/simone/Documents/uni/Thesis/GPFA_imputation/meteo_imp/kalman/filter.py:178: UserWarning: Not symmetric, symmetric up to 1e-1\n",
      "Not pos definite with eigv tensor([-0.0081,  0.0643,  1.1625], grad_fn=<LinalgEighBackward0>) \n",
      "force symmetric is not posdeftensor([[ 0.3846, -0.3556,  0.4460],\n",
      "        [-0.3556,  0.3898, -0.3882],\n",
      "        [ 0.3898, -0.3882,  0.3882]], grad_fn=<IndexPutBackward0>)\n",
      "  warn(msg)\n",
      "/home/simone/Documents/uni/Thesis/GPFA_imputation/meteo_imp/kalman/filter.py:178: UserWarning: Not symmetric, symmetric up to 1e0\n",
      "Not pos definite with eigv tensor([-0.1246, -0.0231,  0.2289], grad_fn=<LinalgEighBackward0>) \n",
      "force symmetric is not posdeftensor([[-0.0786,  0.0935,  0.1993],\n",
      "        [ 0.0935, -0.0417, -0.0053],\n",
      "        [-0.0417, -0.0053, -0.0395]], grad_fn=<IndexPutBackward0>)\n",
      "  warn(msg)\n",
      "/home/simone/Documents/uni/Thesis/GPFA_imputation/meteo_imp/kalman/filter.py:178: UserWarning: Not symmetric, symmetric up to 1e-1\n",
      "Not pos definite with eigv tensor([-0.7433,  0.0692,  0.7411], grad_fn=<LinalgEighBackward0>) \n",
      "force symmetric is not posdeftensor([[-0.7102, -0.0755,  0.4503],\n",
      "        [-0.0755, -0.1440, -0.3462],\n",
      "        [-0.1440, -0.3462,  0.3268]], grad_fn=<IndexPutBackward0>)\n",
      "  warn(msg)\n",
      "/home/simone/Documents/uni/Thesis/GPFA_imputation/meteo_imp/kalman/filter.py:178: UserWarning: Not symmetric, symmetric up to 1e0\n",
      "Not pos definite with eigv tensor([-1.7674,  0.0024,  1.3370], grad_fn=<LinalgEighBackward0>) \n",
      "force symmetric is not posdeftensor([[-1.6222, -0.3816,  0.8142],\n",
      "        [-0.3816, -0.3130, -0.7018],\n",
      "        [-0.3130, -0.7018,  0.3801]], grad_fn=<IndexPutBackward0>)\n",
      "  warn(msg)\n",
      "/home/simone/Documents/uni/Thesis/GPFA_imputation/meteo_imp/kalman/filter.py:178: UserWarning: Not symmetric, symmetric up to 1e0\n",
      "Not pos definite with eigv tensor([-3.2368, -0.2189,  2.0095], grad_fn=<LinalgEighBackward0>) \n",
      "force symmetric is not posdeftensor([[-2.8561, -0.8926,  1.2727],\n",
      "        [-0.8926, -0.5726, -1.1221],\n",
      "        [-0.5726, -1.1221,  0.1371]], grad_fn=<IndexPutBackward0>)\n",
      "  warn(msg)\n",
      "/home/simone/Documents/uni/Thesis/GPFA_imputation/meteo_imp/kalman/filter.py:178: UserWarning: Not symmetric, symmetric up to 1e0\n",
      "Not pos definite with eigv tensor([-5.3538, -0.6794,  2.8562], grad_fn=<LinalgEighBackward0>) \n",
      "force symmetric is not posdeftensor([[-4.5117, -1.7083,  1.7897],\n",
      "        [-1.7083, -0.9926, -1.6896],\n",
      "        [-0.9926, -1.6896, -0.4550]], grad_fn=<IndexPutBackward0>)\n",
      "  warn(msg)\n",
      "/home/simone/Documents/uni/Thesis/GPFA_imputation/meteo_imp/kalman/filter.py:178: UserWarning: Not symmetric, symmetric up to 1e-1\n",
      "Not pos definite with eigv tensor([-8.4595, -1.4251,  3.9499], grad_fn=<LinalgEighBackward0>) \n",
      "force symmetric is not posdeftensor([[-6.7457, -2.9732,  2.3053],\n",
      "        [-2.9732, -1.6869, -2.5271],\n",
      "        [-1.6869, -2.5271, -1.4943]], grad_fn=<IndexPutBackward0>)\n",
      "  warn(msg)\n",
      "/home/simone/Documents/uni/Thesis/GPFA_imputation/meteo_imp/kalman/filter.py:178: UserWarning: Not symmetric, symmetric up to 1e-1\n",
      "Not pos definite with eigv tensor([-13.0806,  -2.4743,   5.3644], grad_fn=<LinalgEighBackward0>) \n",
      "force symmetric is not posdeftensor([[-9.7861, -4.8951,  2.7279],\n",
      "        [-4.8951, -2.8268, -3.8128],\n",
      "        [-2.8268, -3.8128, -3.1323]], grad_fn=<IndexPutBackward0>)\n",
      "  warn(msg)\n",
      "/home/simone/Documents/uni/Thesis/GPFA_imputation/meteo_imp/kalman/filter.py:178: UserWarning: Not symmetric, symmetric up to 1e0\n",
      "Not pos definite with eigv tensor([-19.9964,  -3.8350,   7.1962], grad_fn=<LinalgEighBackward0>) \n",
      "force symmetric is not posdeftensor([[-13.9597,  -7.7708,   2.9195],\n",
      "        [ -7.7708,  -4.6644,  -5.8036],\n",
      "        [ -4.6644,  -5.8036,  -5.5951]], grad_fn=<IndexPutBackward0>)\n",
      "  warn(msg)\n",
      "/home/simone/Documents/uni/Thesis/GPFA_imputation/meteo_imp/kalman/filter.py:178: UserWarning: Not symmetric, symmetric up to 1e0\n",
      "Not pos definite with eigv tensor([-30.3400,  -5.5208,   9.5776], grad_fn=<LinalgEighBackward0>) \n",
      "force symmetric is not posdeftensor([[-19.7350, -12.0233,   2.6738],\n",
      "        [-12.0233,  -7.5705,  -8.8689],\n",
      "        [ -7.5705,  -8.8689,  -9.2219]], grad_fn=<IndexPutBackward0>)\n",
      "  warn(msg)\n",
      "/home/simone/Documents/uni/Thesis/GPFA_imputation/meteo_imp/kalman/filter.py:178: UserWarning: Not symmetric, symmetric up to 1eFalse\n",
      "Not pos definite with eigv tensor([-45.7483,  -7.5568,  12.6842], grad_fn=<LinalgEighBackward0>) \n",
      "force symmetric is not posdeftensor([[-27.7833, -18.2536,   1.6806],\n",
      "        [-18.2536, -12.0924, -13.5378],\n",
      "        [-12.0924, -13.5378, -14.5182]], grad_fn=<IndexPutBackward0>)\n",
      "  warn(msg)\n",
      "/home/simone/Documents/uni/Thesis/GPFA_imputation/meteo_imp/kalman/filter.py:178: UserWarning: Not symmetric, symmetric up to 1e-1\n",
      "Not pos definite with eigv tensor([-67.7810,  -9.4839,  16.9599], grad_fn=<LinalgEighBackward0>) \n",
      "force symmetric is not posdeftensor([[-38.4378, -27.2640,  -0.5157],\n",
      "        [-27.2640, -18.7346, -20.6108],\n",
      "        [-18.7346, -20.6108, -21.3514]], grad_fn=<IndexPutBackward0>)\n",
      "  warn(msg)\n",
      "/home/simone/Documents/uni/Thesis/GPFA_imputation/meteo_imp/kalman/filter.py:178: UserWarning: Not symmetric, symmetric up to 1eFalse\n",
      "Not pos definite with eigv tensor([-18.0547,  62.9608, 174.0366], grad_fn=<LinalgEighBackward0>) \n",
      "forced symmetric is posdeftensor([[ 72.3506, -29.9229,  -2.5825],\n",
      "        [-29.9229,  32.2160, -40.1121],\n",
      "        [ 32.2160, -40.1121, 149.1745]], grad_fn=<IndexPutBackward0>)\n",
      "  warn(msg)\n",
      "/home/simone/Documents/uni/Thesis/GPFA_imputation/meteo_imp/kalman/filter.py:178: UserWarning: Not symmetric, symmetric up to 1e0\n",
      "Not pos definite with eigv tensor([-0.0525,  0.0045,  2.2386], grad_fn=<LinalgEighBackward0>) \n",
      "force symmetric is not posdeftensor([[ 0.7584, -0.7562,  0.7075],\n",
      "        [-0.7562,  0.7896, -0.7150],\n",
      "        [ 0.7896, -0.7150,  0.7247]], grad_fn=<IndexPutBackward0>)\n",
      "  warn(msg)\n"
     ]
    },
    {
     "ename": "_LinAlgError",
     "evalue": "torch.linalg_cholesky: (Batch element 0): The factorization could not be completed because the input is not positive-definite (the leading minor of order 3 is not positive-definite).",
     "output_type": "error",
     "traceback": [
      "\u001b[0;31m---------------------------------------------------------------------------\u001b[0m",
      "\u001b[0;31m_LinAlgError\u001b[0m                              Traceback (most recent call last)",
      "Input \u001b[0;32mIn [105]\u001b[0m, in \u001b[0;36m<cell line: 1>\u001b[0;34m()\u001b[0m\n\u001b[0;32m----> 1\u001b[0m \u001b[43mlearn\u001b[49m\u001b[38;5;241;43m.\u001b[39;49m\u001b[43mfit\u001b[49m\u001b[43m(\u001b[49m\u001b[38;5;241;43m10\u001b[39;49m\u001b[43m,\u001b[49m\u001b[43m \u001b[49m\u001b[38;5;241;43m1e-2\u001b[39;49m\u001b[43m)\u001b[49m\n",
      "File \u001b[0;32m~/anaconda3/envs/data-science/lib/python3.10/site-packages/fastai/learner.py:256\u001b[0m, in \u001b[0;36mLearner.fit\u001b[0;34m(self, n_epoch, lr, wd, cbs, reset_opt, start_epoch)\u001b[0m\n\u001b[1;32m    254\u001b[0m \u001b[38;5;28mself\u001b[39m\u001b[38;5;241m.\u001b[39mopt\u001b[38;5;241m.\u001b[39mset_hypers(lr\u001b[38;5;241m=\u001b[39m\u001b[38;5;28mself\u001b[39m\u001b[38;5;241m.\u001b[39mlr \u001b[38;5;28;01mif\u001b[39;00m lr \u001b[38;5;129;01mis\u001b[39;00m \u001b[38;5;28;01mNone\u001b[39;00m \u001b[38;5;28;01melse\u001b[39;00m lr)\n\u001b[1;32m    255\u001b[0m \u001b[38;5;28mself\u001b[39m\u001b[38;5;241m.\u001b[39mn_epoch \u001b[38;5;241m=\u001b[39m n_epoch\n\u001b[0;32m--> 256\u001b[0m \u001b[38;5;28;43mself\u001b[39;49m\u001b[38;5;241;43m.\u001b[39;49m\u001b[43m_with_events\u001b[49m\u001b[43m(\u001b[49m\u001b[38;5;28;43mself\u001b[39;49m\u001b[38;5;241;43m.\u001b[39;49m\u001b[43m_do_fit\u001b[49m\u001b[43m,\u001b[49m\u001b[43m \u001b[49m\u001b[38;5;124;43m'\u001b[39;49m\u001b[38;5;124;43mfit\u001b[39;49m\u001b[38;5;124;43m'\u001b[39;49m\u001b[43m,\u001b[49m\u001b[43m \u001b[49m\u001b[43mCancelFitException\u001b[49m\u001b[43m,\u001b[49m\u001b[43m \u001b[49m\u001b[38;5;28;43mself\u001b[39;49m\u001b[38;5;241;43m.\u001b[39;49m\u001b[43m_end_cleanup\u001b[49m\u001b[43m)\u001b[49m\n",
      "File \u001b[0;32m~/anaconda3/envs/data-science/lib/python3.10/site-packages/fastai/learner.py:193\u001b[0m, in \u001b[0;36mLearner._with_events\u001b[0;34m(self, f, event_type, ex, final)\u001b[0m\n\u001b[1;32m    192\u001b[0m \u001b[38;5;28;01mdef\u001b[39;00m \u001b[38;5;21m_with_events\u001b[39m(\u001b[38;5;28mself\u001b[39m, f, event_type, ex, final\u001b[38;5;241m=\u001b[39mnoop):\n\u001b[0;32m--> 193\u001b[0m     \u001b[38;5;28;01mtry\u001b[39;00m: \u001b[38;5;28mself\u001b[39m(\u001b[38;5;124mf\u001b[39m\u001b[38;5;124m'\u001b[39m\u001b[38;5;124mbefore_\u001b[39m\u001b[38;5;132;01m{\u001b[39;00mevent_type\u001b[38;5;132;01m}\u001b[39;00m\u001b[38;5;124m'\u001b[39m);  \u001b[43mf\u001b[49m\u001b[43m(\u001b[49m\u001b[43m)\u001b[49m\n\u001b[1;32m    194\u001b[0m     \u001b[38;5;28;01mexcept\u001b[39;00m ex: \u001b[38;5;28mself\u001b[39m(\u001b[38;5;124mf\u001b[39m\u001b[38;5;124m'\u001b[39m\u001b[38;5;124mafter_cancel_\u001b[39m\u001b[38;5;132;01m{\u001b[39;00mevent_type\u001b[38;5;132;01m}\u001b[39;00m\u001b[38;5;124m'\u001b[39m)\n\u001b[1;32m    195\u001b[0m     \u001b[38;5;28mself\u001b[39m(\u001b[38;5;124mf\u001b[39m\u001b[38;5;124m'\u001b[39m\u001b[38;5;124mafter_\u001b[39m\u001b[38;5;132;01m{\u001b[39;00mevent_type\u001b[38;5;132;01m}\u001b[39;00m\u001b[38;5;124m'\u001b[39m);  final()\n",
      "File \u001b[0;32m~/anaconda3/envs/data-science/lib/python3.10/site-packages/fastai/learner.py:245\u001b[0m, in \u001b[0;36mLearner._do_fit\u001b[0;34m(self)\u001b[0m\n\u001b[1;32m    243\u001b[0m \u001b[38;5;28;01mfor\u001b[39;00m epoch \u001b[38;5;129;01min\u001b[39;00m \u001b[38;5;28mrange\u001b[39m(\u001b[38;5;28mself\u001b[39m\u001b[38;5;241m.\u001b[39mn_epoch):\n\u001b[1;32m    244\u001b[0m     \u001b[38;5;28mself\u001b[39m\u001b[38;5;241m.\u001b[39mepoch\u001b[38;5;241m=\u001b[39mepoch\n\u001b[0;32m--> 245\u001b[0m     \u001b[38;5;28;43mself\u001b[39;49m\u001b[38;5;241;43m.\u001b[39;49m\u001b[43m_with_events\u001b[49m\u001b[43m(\u001b[49m\u001b[38;5;28;43mself\u001b[39;49m\u001b[38;5;241;43m.\u001b[39;49m\u001b[43m_do_epoch\u001b[49m\u001b[43m,\u001b[49m\u001b[43m \u001b[49m\u001b[38;5;124;43m'\u001b[39;49m\u001b[38;5;124;43mepoch\u001b[39;49m\u001b[38;5;124;43m'\u001b[39;49m\u001b[43m,\u001b[49m\u001b[43m \u001b[49m\u001b[43mCancelEpochException\u001b[49m\u001b[43m)\u001b[49m\n",
      "File \u001b[0;32m~/anaconda3/envs/data-science/lib/python3.10/site-packages/fastai/learner.py:193\u001b[0m, in \u001b[0;36mLearner._with_events\u001b[0;34m(self, f, event_type, ex, final)\u001b[0m\n\u001b[1;32m    192\u001b[0m \u001b[38;5;28;01mdef\u001b[39;00m \u001b[38;5;21m_with_events\u001b[39m(\u001b[38;5;28mself\u001b[39m, f, event_type, ex, final\u001b[38;5;241m=\u001b[39mnoop):\n\u001b[0;32m--> 193\u001b[0m     \u001b[38;5;28;01mtry\u001b[39;00m: \u001b[38;5;28mself\u001b[39m(\u001b[38;5;124mf\u001b[39m\u001b[38;5;124m'\u001b[39m\u001b[38;5;124mbefore_\u001b[39m\u001b[38;5;132;01m{\u001b[39;00mevent_type\u001b[38;5;132;01m}\u001b[39;00m\u001b[38;5;124m'\u001b[39m);  \u001b[43mf\u001b[49m\u001b[43m(\u001b[49m\u001b[43m)\u001b[49m\n\u001b[1;32m    194\u001b[0m     \u001b[38;5;28;01mexcept\u001b[39;00m ex: \u001b[38;5;28mself\u001b[39m(\u001b[38;5;124mf\u001b[39m\u001b[38;5;124m'\u001b[39m\u001b[38;5;124mafter_cancel_\u001b[39m\u001b[38;5;132;01m{\u001b[39;00mevent_type\u001b[38;5;132;01m}\u001b[39;00m\u001b[38;5;124m'\u001b[39m)\n\u001b[1;32m    195\u001b[0m     \u001b[38;5;28mself\u001b[39m(\u001b[38;5;124mf\u001b[39m\u001b[38;5;124m'\u001b[39m\u001b[38;5;124mafter_\u001b[39m\u001b[38;5;132;01m{\u001b[39;00mevent_type\u001b[38;5;132;01m}\u001b[39;00m\u001b[38;5;124m'\u001b[39m);  final()\n",
      "File \u001b[0;32m~/anaconda3/envs/data-science/lib/python3.10/site-packages/fastai/learner.py:239\u001b[0m, in \u001b[0;36mLearner._do_epoch\u001b[0;34m(self)\u001b[0m\n\u001b[1;32m    238\u001b[0m \u001b[38;5;28;01mdef\u001b[39;00m \u001b[38;5;21m_do_epoch\u001b[39m(\u001b[38;5;28mself\u001b[39m):\n\u001b[0;32m--> 239\u001b[0m     \u001b[38;5;28;43mself\u001b[39;49m\u001b[38;5;241;43m.\u001b[39;49m\u001b[43m_do_epoch_train\u001b[49m\u001b[43m(\u001b[49m\u001b[43m)\u001b[49m\n\u001b[1;32m    240\u001b[0m     \u001b[38;5;28mself\u001b[39m\u001b[38;5;241m.\u001b[39m_do_epoch_validate()\n",
      "File \u001b[0;32m~/anaconda3/envs/data-science/lib/python3.10/site-packages/fastai/learner.py:231\u001b[0m, in \u001b[0;36mLearner._do_epoch_train\u001b[0;34m(self)\u001b[0m\n\u001b[1;32m    229\u001b[0m \u001b[38;5;28;01mdef\u001b[39;00m \u001b[38;5;21m_do_epoch_train\u001b[39m(\u001b[38;5;28mself\u001b[39m):\n\u001b[1;32m    230\u001b[0m     \u001b[38;5;28mself\u001b[39m\u001b[38;5;241m.\u001b[39mdl \u001b[38;5;241m=\u001b[39m \u001b[38;5;28mself\u001b[39m\u001b[38;5;241m.\u001b[39mdls\u001b[38;5;241m.\u001b[39mtrain\n\u001b[0;32m--> 231\u001b[0m     \u001b[38;5;28;43mself\u001b[39;49m\u001b[38;5;241;43m.\u001b[39;49m\u001b[43m_with_events\u001b[49m\u001b[43m(\u001b[49m\u001b[38;5;28;43mself\u001b[39;49m\u001b[38;5;241;43m.\u001b[39;49m\u001b[43mall_batches\u001b[49m\u001b[43m,\u001b[49m\u001b[43m \u001b[49m\u001b[38;5;124;43m'\u001b[39;49m\u001b[38;5;124;43mtrain\u001b[39;49m\u001b[38;5;124;43m'\u001b[39;49m\u001b[43m,\u001b[49m\u001b[43m \u001b[49m\u001b[43mCancelTrainException\u001b[49m\u001b[43m)\u001b[49m\n",
      "File \u001b[0;32m~/anaconda3/envs/data-science/lib/python3.10/site-packages/fastai/learner.py:193\u001b[0m, in \u001b[0;36mLearner._with_events\u001b[0;34m(self, f, event_type, ex, final)\u001b[0m\n\u001b[1;32m    192\u001b[0m \u001b[38;5;28;01mdef\u001b[39;00m \u001b[38;5;21m_with_events\u001b[39m(\u001b[38;5;28mself\u001b[39m, f, event_type, ex, final\u001b[38;5;241m=\u001b[39mnoop):\n\u001b[0;32m--> 193\u001b[0m     \u001b[38;5;28;01mtry\u001b[39;00m: \u001b[38;5;28mself\u001b[39m(\u001b[38;5;124mf\u001b[39m\u001b[38;5;124m'\u001b[39m\u001b[38;5;124mbefore_\u001b[39m\u001b[38;5;132;01m{\u001b[39;00mevent_type\u001b[38;5;132;01m}\u001b[39;00m\u001b[38;5;124m'\u001b[39m);  \u001b[43mf\u001b[49m\u001b[43m(\u001b[49m\u001b[43m)\u001b[49m\n\u001b[1;32m    194\u001b[0m     \u001b[38;5;28;01mexcept\u001b[39;00m ex: \u001b[38;5;28mself\u001b[39m(\u001b[38;5;124mf\u001b[39m\u001b[38;5;124m'\u001b[39m\u001b[38;5;124mafter_cancel_\u001b[39m\u001b[38;5;132;01m{\u001b[39;00mevent_type\u001b[38;5;132;01m}\u001b[39;00m\u001b[38;5;124m'\u001b[39m)\n\u001b[1;32m    195\u001b[0m     \u001b[38;5;28mself\u001b[39m(\u001b[38;5;124mf\u001b[39m\u001b[38;5;124m'\u001b[39m\u001b[38;5;124mafter_\u001b[39m\u001b[38;5;132;01m{\u001b[39;00mevent_type\u001b[38;5;132;01m}\u001b[39;00m\u001b[38;5;124m'\u001b[39m);  final()\n",
      "File \u001b[0;32m~/anaconda3/envs/data-science/lib/python3.10/site-packages/fastai/learner.py:199\u001b[0m, in \u001b[0;36mLearner.all_batches\u001b[0;34m(self)\u001b[0m\n\u001b[1;32m    197\u001b[0m \u001b[38;5;28;01mdef\u001b[39;00m \u001b[38;5;21mall_batches\u001b[39m(\u001b[38;5;28mself\u001b[39m):\n\u001b[1;32m    198\u001b[0m     \u001b[38;5;28mself\u001b[39m\u001b[38;5;241m.\u001b[39mn_iter \u001b[38;5;241m=\u001b[39m \u001b[38;5;28mlen\u001b[39m(\u001b[38;5;28mself\u001b[39m\u001b[38;5;241m.\u001b[39mdl)\n\u001b[0;32m--> 199\u001b[0m     \u001b[38;5;28;01mfor\u001b[39;00m o \u001b[38;5;129;01min\u001b[39;00m \u001b[38;5;28menumerate\u001b[39m(\u001b[38;5;28mself\u001b[39m\u001b[38;5;241m.\u001b[39mdl): \u001b[38;5;28;43mself\u001b[39;49m\u001b[38;5;241;43m.\u001b[39;49m\u001b[43mone_batch\u001b[49m\u001b[43m(\u001b[49m\u001b[38;5;241;43m*\u001b[39;49m\u001b[43mo\u001b[49m\u001b[43m)\u001b[49m\n",
      "File \u001b[0;32m~/anaconda3/envs/data-science/lib/python3.10/site-packages/fastai/learner.py:227\u001b[0m, in \u001b[0;36mLearner.one_batch\u001b[0;34m(self, i, b)\u001b[0m\n\u001b[1;32m    225\u001b[0m b \u001b[38;5;241m=\u001b[39m \u001b[38;5;28mself\u001b[39m\u001b[38;5;241m.\u001b[39m_set_device(b)\n\u001b[1;32m    226\u001b[0m \u001b[38;5;28mself\u001b[39m\u001b[38;5;241m.\u001b[39m_split(b)\n\u001b[0;32m--> 227\u001b[0m \u001b[38;5;28;43mself\u001b[39;49m\u001b[38;5;241;43m.\u001b[39;49m\u001b[43m_with_events\u001b[49m\u001b[43m(\u001b[49m\u001b[38;5;28;43mself\u001b[39;49m\u001b[38;5;241;43m.\u001b[39;49m\u001b[43m_do_one_batch\u001b[49m\u001b[43m,\u001b[49m\u001b[43m \u001b[49m\u001b[38;5;124;43m'\u001b[39;49m\u001b[38;5;124;43mbatch\u001b[39;49m\u001b[38;5;124;43m'\u001b[39;49m\u001b[43m,\u001b[49m\u001b[43m \u001b[49m\u001b[43mCancelBatchException\u001b[49m\u001b[43m)\u001b[49m\n",
      "File \u001b[0;32m~/anaconda3/envs/data-science/lib/python3.10/site-packages/fastai/learner.py:193\u001b[0m, in \u001b[0;36mLearner._with_events\u001b[0;34m(self, f, event_type, ex, final)\u001b[0m\n\u001b[1;32m    192\u001b[0m \u001b[38;5;28;01mdef\u001b[39;00m \u001b[38;5;21m_with_events\u001b[39m(\u001b[38;5;28mself\u001b[39m, f, event_type, ex, final\u001b[38;5;241m=\u001b[39mnoop):\n\u001b[0;32m--> 193\u001b[0m     \u001b[38;5;28;01mtry\u001b[39;00m: \u001b[38;5;28mself\u001b[39m(\u001b[38;5;124mf\u001b[39m\u001b[38;5;124m'\u001b[39m\u001b[38;5;124mbefore_\u001b[39m\u001b[38;5;132;01m{\u001b[39;00mevent_type\u001b[38;5;132;01m}\u001b[39;00m\u001b[38;5;124m'\u001b[39m);  \u001b[43mf\u001b[49m\u001b[43m(\u001b[49m\u001b[43m)\u001b[49m\n\u001b[1;32m    194\u001b[0m     \u001b[38;5;28;01mexcept\u001b[39;00m ex: \u001b[38;5;28mself\u001b[39m(\u001b[38;5;124mf\u001b[39m\u001b[38;5;124m'\u001b[39m\u001b[38;5;124mafter_cancel_\u001b[39m\u001b[38;5;132;01m{\u001b[39;00mevent_type\u001b[38;5;132;01m}\u001b[39;00m\u001b[38;5;124m'\u001b[39m)\n\u001b[1;32m    195\u001b[0m     \u001b[38;5;28mself\u001b[39m(\u001b[38;5;124mf\u001b[39m\u001b[38;5;124m'\u001b[39m\u001b[38;5;124mafter_\u001b[39m\u001b[38;5;132;01m{\u001b[39;00mevent_type\u001b[38;5;132;01m}\u001b[39;00m\u001b[38;5;124m'\u001b[39m);  final()\n",
      "File \u001b[0;32m~/anaconda3/envs/data-science/lib/python3.10/site-packages/fastai/learner.py:208\u001b[0m, in \u001b[0;36mLearner._do_one_batch\u001b[0;34m(self)\u001b[0m\n\u001b[1;32m    206\u001b[0m \u001b[38;5;28mself\u001b[39m(\u001b[38;5;124m'\u001b[39m\u001b[38;5;124mafter_pred\u001b[39m\u001b[38;5;124m'\u001b[39m)\n\u001b[1;32m    207\u001b[0m \u001b[38;5;28;01mif\u001b[39;00m \u001b[38;5;28mlen\u001b[39m(\u001b[38;5;28mself\u001b[39m\u001b[38;5;241m.\u001b[39myb):\n\u001b[0;32m--> 208\u001b[0m     \u001b[38;5;28mself\u001b[39m\u001b[38;5;241m.\u001b[39mloss_grad \u001b[38;5;241m=\u001b[39m \u001b[38;5;28;43mself\u001b[39;49m\u001b[38;5;241;43m.\u001b[39;49m\u001b[43mloss_func\u001b[49m\u001b[43m(\u001b[49m\u001b[38;5;28;43mself\u001b[39;49m\u001b[38;5;241;43m.\u001b[39;49m\u001b[43mpred\u001b[49m\u001b[43m,\u001b[49m\u001b[43m \u001b[49m\u001b[38;5;241;43m*\u001b[39;49m\u001b[38;5;28;43mself\u001b[39;49m\u001b[38;5;241;43m.\u001b[39;49m\u001b[43myb\u001b[49m\u001b[43m)\u001b[49m\n\u001b[1;32m    209\u001b[0m     \u001b[38;5;28mself\u001b[39m\u001b[38;5;241m.\u001b[39mloss \u001b[38;5;241m=\u001b[39m \u001b[38;5;28mself\u001b[39m\u001b[38;5;241m.\u001b[39mloss_grad\u001b[38;5;241m.\u001b[39mclone()\n\u001b[1;32m    210\u001b[0m \u001b[38;5;28mself\u001b[39m(\u001b[38;5;124m'\u001b[39m\u001b[38;5;124mafter_loss\u001b[39m\u001b[38;5;124m'\u001b[39m)\n",
      "Input \u001b[0;32mIn [92]\u001b[0m, in \u001b[0;36mimp_ll_loss\u001b[0;34m(pred, target)\u001b[0m\n\u001b[1;32m      6\u001b[0m losses \u001b[38;5;241m=\u001b[39m torch\u001b[38;5;241m.\u001b[39mempty(data\u001b[38;5;241m.\u001b[39mshape[\u001b[38;5;241m0\u001b[39m])\n\u001b[1;32m      8\u001b[0m \u001b[38;5;28;01mfor\u001b[39;00m i \u001b[38;5;129;01min\u001b[39;00m \u001b[38;5;28mrange\u001b[39m(data\u001b[38;5;241m.\u001b[39mshape[\u001b[38;5;241m0\u001b[39m]):\n\u001b[0;32m----> 9\u001b[0m     losses[i] \u001b[38;5;241m=\u001b[39m \u001b[43mimp_ll_loss_single\u001b[49m\u001b[43m(\u001b[49m\u001b[43mmeans\u001b[49m\u001b[43m[\u001b[49m\u001b[43mi\u001b[49m\u001b[43m]\u001b[49m\u001b[43m,\u001b[49m\u001b[43m \u001b[49m\u001b[43mcovs\u001b[49m\u001b[43m[\u001b[49m\u001b[43mi\u001b[49m\u001b[43m]\u001b[49m\u001b[43m,\u001b[49m\u001b[43m \u001b[49m\u001b[43mdata\u001b[49m\u001b[43m[\u001b[49m\u001b[43mi\u001b[49m\u001b[43m]\u001b[49m\u001b[43m,\u001b[49m\u001b[43m \u001b[49m\u001b[43mmask\u001b[49m\u001b[43m[\u001b[49m\u001b[43mi\u001b[49m\u001b[43m]\u001b[49m\u001b[43m)\u001b[49m\n\u001b[1;32m     10\u001b[0m \u001b[38;5;28;01mreturn\u001b[39;00m losses\u001b[38;5;241m.\u001b[39msum()\n",
      "Input \u001b[0;32mIn [91]\u001b[0m, in \u001b[0;36mimp_ll_loss_single\u001b[0;34m(means, covs, data, mask)\u001b[0m\n\u001b[1;32m      7\u001b[0m     exps\u001b[38;5;241m.\u001b[39mappend(symmetric_upto(covs[t]))\n\u001b[1;32m      8\u001b[0m     \u001b[38;5;66;03m# check_posdef(covs[t])\u001b[39;00m\n\u001b[0;32m----> 9\u001b[0m     lls[i] \u001b[38;5;241m=\u001b[39m \u001b[43mMultivariateNormal\u001b[49m\u001b[43m(\u001b[49m\u001b[43mmeans\u001b[49m\u001b[43m[\u001b[49m\u001b[43mt\u001b[49m\u001b[43m]\u001b[49m\u001b[43m,\u001b[49m\u001b[43m \u001b[49m\u001b[43mcovs\u001b[49m\u001b[43m[\u001b[49m\u001b[43mt\u001b[49m\u001b[43m]\u001b[49m\u001b[43m,\u001b[49m\u001b[43m \u001b[49m\u001b[43mvalidate_args\u001b[49m\u001b[38;5;241;43m=\u001b[39;49m\u001b[38;5;28;43;01mFalse\u001b[39;49;00m\u001b[43m)\u001b[49m\u001b[38;5;241m.\u001b[39mlog_prob(data[t:t\u001b[38;5;241m+\u001b[39m\u001b[38;5;241m1\u001b[39m])\n\u001b[1;32m     10\u001b[0m \u001b[38;5;28;01mreturn\u001b[39;00m \u001b[38;5;241m-\u001b[39mlls\u001b[38;5;241m.\u001b[39msum()\n",
      "File \u001b[0;32m~/anaconda3/envs/data-science/lib/python3.10/site-packages/torch/distributions/multivariate_normal.py:151\u001b[0m, in \u001b[0;36mMultivariateNormal.__init__\u001b[0;34m(self, loc, covariance_matrix, precision_matrix, scale_tril, validate_args)\u001b[0m\n\u001b[1;32m    149\u001b[0m     \u001b[38;5;28mself\u001b[39m\u001b[38;5;241m.\u001b[39m_unbroadcasted_scale_tril \u001b[38;5;241m=\u001b[39m scale_tril\n\u001b[1;32m    150\u001b[0m \u001b[38;5;28;01melif\u001b[39;00m covariance_matrix \u001b[38;5;129;01mis\u001b[39;00m \u001b[38;5;129;01mnot\u001b[39;00m \u001b[38;5;28;01mNone\u001b[39;00m:\n\u001b[0;32m--> 151\u001b[0m     \u001b[38;5;28mself\u001b[39m\u001b[38;5;241m.\u001b[39m_unbroadcasted_scale_tril \u001b[38;5;241m=\u001b[39m \u001b[43mtorch\u001b[49m\u001b[38;5;241;43m.\u001b[39;49m\u001b[43mlinalg\u001b[49m\u001b[38;5;241;43m.\u001b[39;49m\u001b[43mcholesky\u001b[49m\u001b[43m(\u001b[49m\u001b[43mcovariance_matrix\u001b[49m\u001b[43m)\u001b[49m\n\u001b[1;32m    152\u001b[0m \u001b[38;5;28;01melse\u001b[39;00m:  \u001b[38;5;66;03m# precision_matrix is not None\u001b[39;00m\n\u001b[1;32m    153\u001b[0m     \u001b[38;5;28mself\u001b[39m\u001b[38;5;241m.\u001b[39m_unbroadcasted_scale_tril \u001b[38;5;241m=\u001b[39m _precision_to_scale_tril(precision_matrix)\n",
      "\u001b[0;31m_LinAlgError\u001b[0m: torch.linalg_cholesky: (Batch element 0): The factorization could not be completed because the input is not positive-definite (the leading minor of order 3 is not positive-definite)."
     ]
    },
    {
     "data": {
      "image/png": "[encoded data removed]",
      "text/plain": [
       "<Figure size 432x288 with 1 Axes>"
      ]
     },
     "metadata": {
      "needs_background": "light"
     },
     "output_type": "display_data"
    }
   ],
   "source": [
    "learn.fit(10, 1e-2)"
   ]
  },
  {
   "cell_type": "code",
   "execution_count": null,
   "id": "79b3d5da-7a8f-4fe1-a845-9245d7c32b1c",
   "metadata": {},
   "outputs": [
    {
     "data": {
      "text/plain": [
       "63"
      ]
     },
     "execution_count": null,
     "metadata": {},
     "output_type": "execute_result"
    }
   ],
   "source": [
    "len(obs_cov_history.params)"
   ]
  },
  {
   "cell_type": "code",
   "execution_count": null,
   "id": "fc41814b-ea5f-4b75-bc29-138c1a4c7e22",
   "metadata": {},
   "outputs": [
    {
     "data": {
      "text/plain": [
       "tensor([[ 0.6919, -0.6625,  0.6926],\n",
       "        [-0.6625,  0.6378, -0.6675],\n",
       "        [ 0.6926, -0.6675,  0.7004]])"
      ]
     },
     "execution_count": null,
     "metadata": {},
     "output_type": "execute_result"
    }
   ],
   "source": [
    "obs_cov_history.params[-1]"
   ]
  },
  {
   "cell_type": "code",
   "execution_count": null,
   "id": "5c1f1269-34ed-4c40-a8e8-0b42298069d3",
   "metadata": {},
   "outputs": [
    {
     "data": {
      "text/plain": [
       "tensor([-8, -8, -8, -8, -8, -8, -8, -8, -8, -8, -8, -8, -8, -8, -8, -8, -8, -8,\n",
       "        -8, -8, -8, -8, -8, -8, -8, -8, -8, -8, -8, -8, -8, -8, -8, -8, -8, -8,\n",
       "        -8, -8, -8, -8, -8, -8, -8, -8, -8, -8, -8, -8, -8, -8, -8, -8, -8, -8,\n",
       "        -8, -8, -8, -8, -8, -8, -8, -8, -8])"
      ]
     },
     "execution_count": null,
     "metadata": {},
     "output_type": "execute_result"
    }
   ],
   "source": [
    "torch.tensor(list(map(symmetric_upto, obs_cov_history.params)))"
   ]
  },
  {
   "cell_type": "code",
   "execution_count": null,
   "id": "92ea4785-e062-4f5f-a12f-964ea7e2fbff",
   "metadata": {},
   "outputs": [
    {
     "data": {
      "text/plain": [
       "tensor([5.9148e-04, 3.5714e-03, 2.0260e+00])"
      ]
     },
     "execution_count": null,
     "metadata": {},
     "output_type": "execute_result"
    }
   ],
   "source": [
    "torch.linalg.eigvalsh(obs_cov_history.params[-1])"
   ]
  },
  {
   "cell_type": "code",
   "execution_count": null,
   "id": "94507f28-2e38-4ee1-9aee-080e6159cf48",
   "metadata": {},
   "outputs": [
    {
     "data": {
      "text/plain": [
       "torch.return_types.linalg_cholesky_ex(\n",
       "L=tensor([[ 0.8318,  0.0000,  0.0000],\n",
       "        [-0.7965,  0.0587,  0.0000],\n",
       "        [ 0.8327, -0.0721,  0.0424]]),\n",
       "info=tensor(0, dtype=torch.int32))"
      ]
     },
     "execution_count": null,
     "metadata": {},
     "output_type": "execute_result"
    }
   ],
   "source": [
    "torch.linalg.cholesky_ex(obs_cov_history.params[-1])"
   ]
  },
  {
   "cell_type": "code",
   "execution_count": null,
   "id": "1f926f8b-81f6-4e7a-ae49-00d1dfce7f76",
   "metadata": {},
   "outputs": [],
   "source": [
    "tt = torch.tensor([[ 1.0696,  0.5199, -0.5249],\n",
    "        [ 0.5484,  1.1091,  0.5322],\n",
    "        [-0.5279,  0.5506,  1.0742]])"
   ]
  },
  {
   "cell_type": "code",
   "execution_count": null,
   "id": "0222db75-55c4-42e0-a238-9a6b500f503e",
   "metadata": {},
   "outputs": [
    {
     "data": {
      "text/plain": [
       "tensor([-3.3343e-04,  1.5997e+00,  1.6536e+00])"
      ]
     },
     "execution_count": null,
     "metadata": {},
     "output_type": "execute_result"
    }
   ],
   "source": [
    "torch.linalg.eigvalsh(tt)"
   ]
  },
  {
   "cell_type": "code",
   "execution_count": null,
   "id": "9ec6f82f-d981-4661-8dff-30060f2ab3a7",
   "metadata": {},
   "outputs": [
    {
     "data": {
      "text/plain": [
       "-1"
      ]
     },
     "execution_count": null,
     "metadata": {},
     "output_type": "execute_result"
    }
   ],
   "source": [
    "symmetric_upto(tt)"
   ]
  },
  {
   "cell_type": "code",
   "execution_count": null,
   "id": "1078ee43-afa4-4045-9e44-7e12964135ea",
   "metadata": {},
   "outputs": [],
   "source": []
  },
  {
   "cell_type": "code",
   "execution_count": null,
   "id": "3c8b8689-7eb0-4439-8137-d9dd1cfc7d44",
   "metadata": {},
   "outputs": [],
   "source": [
    "texps = torch.tensor(exps).to(torch.float32)"
   ]
  },
  {
   "cell_type": "code",
   "execution_count": null,
   "id": "e86837f9-66db-43c2-a644-88946b2dfca0",
   "metadata": {},
   "outputs": [
    {
     "data": {
      "text/plain": [
       "tensor(-7.9725)"
      ]
     },
     "execution_count": null,
     "metadata": {},
     "output_type": "execute_result"
    }
   ],
   "source": [
    "texps.mean()"
   ]
  },
  {
   "cell_type": "code",
   "execution_count": null,
   "id": "7aaa75c8-1623-43eb-945b-84ff2282ca29",
   "metadata": {},
   "outputs": [
    {
     "data": {
      "text/plain": [
       "tensor(-1.)"
      ]
     },
     "execution_count": null,
     "metadata": {},
     "output_type": "execute_result"
    }
   ],
   "source": [
    "texps.max()"
   ]
  },
  {
   "cell_type": "code",
   "execution_count": null,
   "id": "2221e9b8-dbd7-423e-bfad-b9e274f15ee2",
   "metadata": {},
   "outputs": [
    {
     "data": {
      "text/plain": [
       "[<matplotlib.lines.Line2D>]"
      ]
     },
     "execution_count": null,
     "metadata": {},
     "output_type": "execute_result"
    },
    {
     "data": {
      "image/png": "[encoded data removed]",
      "text/plain": [
       "<Figure size 432x288 with 1 Axes>"
      ]
     },
     "metadata": {
      "needs_background": "light"
     },
     "output_type": "display_data"
    }
   ],
   "source": [
    "plt.plot(texps[-1000:])"
   ]
  },
  {
   "cell_type": "code",
   "execution_count": null,
   "id": "a500af3d-2444-4cd2-8f9e-7955255b0e85",
   "metadata": {},
   "outputs": [],
   "source": [
    "plt.plot(texps)"
   ]
  },
  {
   "cell_type": "code",
   "execution_count": null,
   "id": "59a0e9c8-b06a-4688-b34f-8312b354396f",
   "metadata": {},
   "outputs": [],
   "source": [
    "is_posdef2(torch.tensor([[1.7827, 1.6112, 1.1352],\n",
    "        [1.6120, 1.4575, 1.0272],\n",
    "        [1.1364, 1.0269, 0.7395]]))"
   ]
  },
  {
   "cell_type": "code",
   "execution_count": null,
   "id": "56c3243e-765a-45a8-b610-aace958e92c5",
   "metadata": {},
   "outputs": [],
   "source": [
    "is_posdef2(learn.transition_cov)"
   ]
  },
  {
   "cell_type": "code",
   "execution_count": null,
   "id": "8973a9bb-5de6-413f-b9e1-95707dc58da1",
   "metadata": {},
   "outputs": [],
   "source": [
    "is_posdef2(learn.obs_cov)"
   ]
  },
  {
   "cell_type": "code",
   "execution_count": null,
   "id": "78c48204-b7ea-4856-b124-c1ef0be5422d",
   "metadata": {},
   "outputs": [],
   "source": [
    "is_posdef2(learn.initial_state_cov)"
   ]
  },
  {
   "cell_type": "markdown",
   "id": "06c0ee39-70a8-420e-aa70-33f5f5ef2263",
   "metadata": {},
   "source": [
    "this matrix makes no sense at all!!!"
   ]
  },
  {
   "cell_type": "code",
   "execution_count": null,
   "id": "d34bec9f-1a26-4df2-8f75-6a96501ec29c",
   "metadata": {},
   "outputs": [],
   "source": [
    "learn.obs_cov"
   ]
  },
  {
   "cell_type": "code",
   "execution_count": null,
   "id": "dc733f81-025e-4ab1-8010-09e0be83751c",
   "metadata": {},
   "outputs": [],
   "source": [
    "# torch.save(learn.model.state_dict(), \"partial_traning_15_dec_not_pos_def_error\")"
   ]
  },
  {
   "cell_type": "code",
   "execution_count": null,
   "id": "f33352c0-27c1-43ff-a201-3e5263630ef1",
   "metadata": {},
   "outputs": [],
   "source": [
    "learn.recorder.plot_loss()"
   ]
  },
  {
   "cell_type": "code",
   "execution_count": null,
   "id": "9d05ed56-987e-4583-9b88-360d60f9a900",
   "metadata": {},
   "outputs": [],
   "source": [
    "# learn.lr_find()"
   ]
  },
  {
   "cell_type": "code",
   "execution_count": null,
   "id": "ad2ae8e8",
   "metadata": {},
   "outputs": [],
   "source": [
    "display_as_row(learn.model.get_info())"
   ]
  },
  {
   "cell_type": "code",
   "execution_count": null,
   "id": "7e96647f-f8aa-4a37-a8ae-79c6dd10cae3",
   "metadata": {},
   "outputs": [],
   "source": [
    "learn.show_results()"
   ]
  },
  {
   "cell_type": "code",
   "execution_count": null,
   "id": "39aa7817-b919-4afe-9fac-1ec427f5f17b",
   "metadata": {},
   "outputs": [],
   "source": []
  }
 ],
 "metadata": {
  "kernelspec": {
   "display_name": "data_science",
   "language": "python",
   "name": "data_science"
  },
  "widgets": {
   "application/vnd.jupyter.widget-state+json": {
    "state": {},
    "version_major": 2,
    "version_minor": 0
   }
  }
 },
 "nbformat": 4,
 "nbformat_minor": 5
}
