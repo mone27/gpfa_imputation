{
 "cells": [
  {
   "cell_type": "markdown",
   "id": "e8af5772-d828-4017-ae3b-5d530ac57586",
   "metadata": {},
   "source": [
    "# Implement Kalman model using FastAI\n",
    "\n",
    "> need to implement custom data preparation pipeline and loss function "
   ]
  },
  {
   "cell_type": "code",
   "execution_count": null,
   "id": "b87acfa4-b43e-4cbe-9bc2-103a084ec5a2",
   "metadata": {},
   "outputs": [],
   "source": [
    "#| hide\n",
    "%load_ext autoreload\n",
    "%autoreload 2"
   ]
  },
  {
   "cell_type": "code",
   "execution_count": null,
   "id": "cca16380-45e6-479a-b8c3-e6f26ed9fdf3",
   "metadata": {},
   "outputs": [],
   "source": [
    "#| hide\n",
    "#| default_exp kalman.fastai"
   ]
  },
  {
   "cell_type": "code",
   "execution_count": null,
   "id": "22f63809-036e-42ad-93e9-afcb78c82568",
   "metadata": {},
   "outputs": [],
   "source": [
    "#| export\n",
    "from meteo_imp.utils import *\n",
    "from meteo_imp.gaussian import *\n",
    "from meteo_imp.data import *\n",
    "\n",
    "from fastcore.transform import *\n",
    "from fastcore.basics import *\n",
    "from fastcore.foundation import *\n",
    "from fastcore.all import *\n",
    "from fastai.tabular import *\n",
    "from fastai.tabular.core import *\n",
    "from fastai.data.core import *\n",
    "from fastai.data import *\n",
    "from fastai.torch_core import default_device, to_device\n",
    "from dataclasses import dataclass\n",
    "\n",
    "import torch\n",
    "\n",
    "import collections\n",
    "\n",
    "import pandas as pd\n",
    "import numpy as np\n",
    "import matplotlib.pyplot as plt"
   ]
  },
  {
   "cell_type": "code",
   "execution_count": null,
   "id": "c946534f",
   "metadata": {},
   "outputs": [],
   "source": [
    "reset_seed()"
   ]
  },
  {
   "cell_type": "code",
   "execution_count": null,
   "id": "1c3c3090-de05-4a9b-943d-10b285bf8d94",
   "metadata": {},
   "outputs": [
    {
     "data": {
      "text/plain": [
       "Path('/home/simone/Documents/uni/Thesis/GPFA_imputation/data/FLX_DE-Hai_FLUXNET2015_FULLSET_HH_2000-2012_1-4_float32.parquet')"
      ]
     },
     "execution_count": null,
     "metadata": {},
     "output_type": "execute_result"
    }
   ],
   "source": [
    "hai_path"
   ]
  },
  {
   "cell_type": "code",
   "execution_count": null,
   "id": "d7f48bb9-58ab-4d1a-97d9-b242f6542148",
   "metadata": {},
   "outputs": [],
   "source": [
    "hai = pd.read_parquet(hai_path)\n",
    "hai64 = pd.read_parquet(hai_path64)\n",
    "hai_era = pd.read_parquet(hai_era_path)\n",
    "hai_era64 = pd.read_parquet(hai_era_path64)"
   ]
  },
  {
   "cell_type": "markdown",
   "id": "b0f3603c-74ec-41ba-a9dc-8fb08c2630cc",
   "metadata": {},
   "source": [
    "## Data Preparation"
   ]
  },
  {
   "cell_type": "markdown",
   "id": "df4ecbb3-f6ef-4344-95e7-5b566611d3f2",
   "metadata": {},
   "source": [
    "The aim of the data preparation pipeline is to:\n",
    "- take the original time series and split it into time blocks\n",
    "- for each block generate a random gap (need to figure out the properties of the gap)\n",
    "- split some time blocks for testing\n",
    "\n",
    "the input of the pipeline is:\n",
    "- a dataframe containing all observations\n",
    "\n",
    "the input of the model is:\n",
    "- observed data (potentially containing NaN where data is missing)\n",
    "- missing data mask (which is telling where the data is missing)\n",
    "- the data needs to be standardized"
   ]
  },
  {
   "cell_type": "markdown",
   "id": "54b0ae41-b89d-4461-9a78-5cf7c6205df8",
   "metadata": {},
   "source": [
    "### Utils"
   ]
  },
  {
   "cell_type": "code",
   "execution_count": null,
   "id": "e4e1aa1b-e9d6-4a16-9eaf-524abf364cd7",
   "metadata": {},
   "outputs": [],
   "source": [
    "#| export\n",
    "from dominate.tags import *"
   ]
  },
  {
   "cell_type": "code",
   "execution_count": null,
   "id": "a0174c44-5647-4970-8c5f-3743fd7cd4fb",
   "metadata": {},
   "outputs": [],
   "source": [
    "#| export\n",
    "@patch\n",
    "def _repr_html_(self: Transform, as_str=True):\n",
    "    with div() as out:\n",
    "        p(strong(self.name))\n",
    "        p(repr(self.encodes))\n",
    "        p(repr(self.decodes))\n",
    "    out = str(out) if as_str else out\n",
    "    return out"
   ]
  },
  {
   "cell_type": "code",
   "execution_count": null,
   "id": "7c0eb220-009b-4529-b984-3590166557a5",
   "metadata": {},
   "outputs": [],
   "source": [
    "#| export\n",
    "@patch\n",
    "def _repr_html_(self: TfmdLists):\n",
    "    with div() as out:\n",
    "        span(\"TfmdLists. Items:\")\n",
    "        pre(coll_repr(self.items))\n",
    "        ol([li(f._repr_html_(as_str=False)) for f in self.fs], start=\"0\")\n",
    "    return str(out)"
   ]
  },
  {
   "cell_type": "markdown",
   "id": "d17c4e2b-6175-4674-9437-9e8a75cadb35",
   "metadata": {},
   "source": [
    "### 1) Block Index"
   ]
  },
  {
   "cell_type": "markdown",
   "id": "09346517-48ae-4872-b572-a095b7adcd19",
   "metadata": {},
   "source": [
    "the first step is to transfrom the original dataframe into blocks of a specified `block_len`\n",
    "\n",
    "two different strategies are possible:\n",
    "\n",
    "- contigous blocks\n",
    "- random block in the dataframe\n",
    "\n",
    "for now contigous blocks are used"
   ]
  },
  {
   "cell_type": "code",
   "execution_count": null,
   "id": "e4d73d6c-a82f-43c3-a8ff-cd6cfe644fac",
   "metadata": {},
   "outputs": [],
   "source": [
    "#| export\n",
    "class BlockIndexTransform(Transform):\n",
    "    \"\"\"divide timeseries DataFrame index into blocks\"\"\"\n",
    "    def __init__(self, idx: pd.DatetimeIndex, block_len:int =200, offset=1):\n",
    "        store_attr()\n",
    "        self.n = len(idx)\n",
    "        \n",
    "    def encodes(self, idx:list # i:int the block number, shift:int how much to shift \n",
    "               ) -> pd.DatetimeIndex:       \n",
    "        i, shift = idx\n",
    "        start = i * self.block_len + self.offset + shift\n",
    "        end = (i+1) * self.block_len + self.offset + shift\n",
    "        assert end <= self.n \n",
    "        \n",
    "        return self.idx[start:end] "
   ]
  },
  {
   "cell_type": "code",
   "execution_count": null,
   "id": "4e51eaf9-d972-4960-b5b3-03ddf4b139fa",
   "metadata": {},
   "outputs": [],
   "source": [
    "blk = BlockIndexTransform(hai.index, 10)"
   ]
  },
  {
   "cell_type": "code",
   "execution_count": null,
   "id": "71c4f834-fb0f-4fb3-a13a-da01198a970a",
   "metadata": {},
   "outputs": [
    {
     "data": {
      "text/html": [
       "<div>\n",
       "  <p>\n",
       "    <strong>BlockIndexTransform</strong>\n",
       "  </p>\n",
       "  <p>(list,object) -&gt; encodes\n",
       "</p>\n",
       "  <p></p>\n",
       "</div>"
      ],
      "text/plain": [
       "BlockIndexTransform:\n",
       "encodes: (list,object) -> encodes\n",
       "decodes: "
      ]
     },
     "execution_count": null,
     "metadata": {},
     "output_type": "execute_result"
    }
   ],
   "source": [
    "blk"
   ]
  },
  {
   "cell_type": "code",
   "execution_count": null,
   "id": "316f91e8-3861-46e5-b6d5-d9c17bccf80e",
   "metadata": {},
   "outputs": [
    {
     "data": {
      "text/plain": [
       "DatetimeIndex(['2000-01-01 00:30:00', '2000-01-01 01:00:00',\n",
       "               '2000-01-01 01:30:00', '2000-01-01 02:00:00',\n",
       "               '2000-01-01 02:30:00', '2000-01-01 03:00:00',\n",
       "               '2000-01-01 03:30:00', '2000-01-01 04:00:00',\n",
       "               '2000-01-01 04:30:00', '2000-01-01 05:00:00',\n",
       "               ...\n",
       "               '2012-12-31 19:30:00', '2012-12-31 20:00:00',\n",
       "               '2012-12-31 20:30:00', '2012-12-31 21:00:00',\n",
       "               '2012-12-31 21:30:00', '2012-12-31 22:00:00',\n",
       "               '2012-12-31 22:30:00', '2012-12-31 23:00:00',\n",
       "               '2012-12-31 23:30:00', '2013-01-01 00:00:00'],\n",
       "              dtype='datetime64[ns]', name='time', length=227952, freq=None)"
      ]
     },
     "execution_count": null,
     "metadata": {},
     "output_type": "execute_result"
    }
   ],
   "source": [
    "hai.index"
   ]
  },
  {
   "cell_type": "code",
   "execution_count": null,
   "id": "db372f33-785c-4e99-8fe0-e439c24b004b",
   "metadata": {},
   "outputs": [
    {
     "data": {
      "text/plain": [
       "DatetimeIndex(['2000-01-01 12:30:00', '2000-01-01 13:00:00',\n",
       "               '2000-01-01 13:30:00', '2000-01-01 14:00:00',\n",
       "               '2000-01-01 14:30:00', '2000-01-01 15:00:00',\n",
       "               '2000-01-01 15:30:00', '2000-01-01 16:00:00',\n",
       "               '2000-01-01 16:30:00', '2000-01-01 17:00:00'],\n",
       "              dtype='datetime64[ns]', name='time', freq=None)"
      ]
     },
     "execution_count": null,
     "metadata": {},
     "output_type": "execute_result"
    }
   ],
   "source": [
    "blk([2,3])"
   ]
  },
  {
   "cell_type": "code",
   "execution_count": null,
   "id": "707ac7b1-9730-4d81-9c40-27f7b2575c24",
   "metadata": {},
   "outputs": [
    {
     "data": {
      "text/plain": [
       "DatetimeIndex(['2000-01-01 12:00:00', '2000-01-01 12:30:00',\n",
       "               '2000-01-01 13:00:00', '2000-01-01 13:30:00',\n",
       "               '2000-01-01 14:00:00', '2000-01-01 14:30:00',\n",
       "               '2000-01-01 15:00:00', '2000-01-01 15:30:00',\n",
       "               '2000-01-01 16:00:00', '2000-01-01 16:30:00'],\n",
       "              dtype='datetime64[ns]', name='time', freq=None)"
      ]
     },
     "execution_count": null,
     "metadata": {},
     "output_type": "execute_result"
    }
   ],
   "source": [
    "blk([2,2])"
   ]
  },
  {
   "cell_type": "markdown",
   "id": "21c89d9e-4acc-4ffb-858c-7fccfd5e30d5",
   "metadata": {},
   "source": [
    "### 2) Meteo Imp Block DataFrames"
   ]
  },
  {
   "cell_type": "markdown",
   "id": "5d544b17-a5e4-4934-83fe-bbc22afc6ec3",
   "metadata": {},
   "source": [
    "Get a chunck out of dataframes given an index"
   ]
  },
  {
   "cell_type": "code",
   "execution_count": null,
   "id": "71f15928-f42a-4dd2-9159-cd683a067cdd",
   "metadata": {},
   "outputs": [],
   "source": [
    "#| export\n",
    "@dataclass\n",
    "class DataControl:\n",
    "    data: pd.DataFrame\n",
    "    control: pd.DataFrame\n",
    "    def _repr_html_(self):\n",
    "            return row_dfs({'data': self.data, 'control': self.control}, title=\"Data Control\", hide_idx=False)\n",
    "    def __iter__(self): return iter((self.data, self.control,))"
   ]
  },
  {
   "cell_type": "code",
   "execution_count": null,
   "id": "acb617f2-28cb-4aa8-8b08-5e15f2289153",
   "metadata": {},
   "outputs": [],
   "source": [
    "df = hai.loc[blk([1,0])]"
   ]
  },
  {
   "cell_type": "code",
   "execution_count": null,
   "id": "6ddc660c-de6c-4050-9ec6-4a87b6f53204",
   "metadata": {},
   "outputs": [],
   "source": [
    "#| export\n",
    "def _rename_lag(lag):\n",
    "    def _inner(col_name):\n",
    "        return f\"{col_name}_lag_{lag}\"\n",
    "    return _inner"
   ]
  },
  {
   "cell_type": "code",
   "execution_count": null,
   "id": "8598cd54-2460-4e04-a605-c0788a6c9715",
   "metadata": {},
   "outputs": [
    {
     "data": {
      "text/html": [
       "<div>\n",
       "<style scoped>\n",
       "    .dataframe tbody tr th:only-of-type {\n",
       "        vertical-align: middle;\n",
       "    }\n",
       "\n",
       "    .dataframe tbody tr th {\n",
       "        vertical-align: top;\n",
       "    }\n",
       "\n",
       "    .dataframe thead th {\n",
       "        text-align: right;\n",
       "    }\n",
       "</style>\n",
       "<table border=\"1\" class=\"dataframe\">\n",
       "  <thead>\n",
       "    <tr style=\"text-align: right;\">\n",
       "      <th></th>\n",
       "      <th>TA_lag_1</th>\n",
       "      <th>SW_IN_lag_1</th>\n",
       "      <th>VPD_lag_1</th>\n",
       "    </tr>\n",
       "    <tr>\n",
       "      <th>time</th>\n",
       "      <th></th>\n",
       "      <th></th>\n",
       "      <th></th>\n",
       "    </tr>\n",
       "  </thead>\n",
       "  <tbody>\n",
       "    <tr>\n",
       "      <th>2000-01-01 06:00:00</th>\n",
       "      <td>-0.23</td>\n",
       "      <td>0.00</td>\n",
       "      <td>0.122</td>\n",
       "    </tr>\n",
       "    <tr>\n",
       "      <th>2000-01-01 06:30:00</th>\n",
       "      <td>-0.22</td>\n",
       "      <td>0.00</td>\n",
       "      <td>0.098</td>\n",
       "    </tr>\n",
       "    <tr>\n",
       "      <th>2000-01-01 07:00:00</th>\n",
       "      <td>-0.24</td>\n",
       "      <td>0.00</td>\n",
       "      <td>0.066</td>\n",
       "    </tr>\n",
       "    <tr>\n",
       "      <th>2000-01-01 07:30:00</th>\n",
       "      <td>-0.23</td>\n",
       "      <td>0.00</td>\n",
       "      <td>0.044</td>\n",
       "    </tr>\n",
       "    <tr>\n",
       "      <th>2000-01-01 08:00:00</th>\n",
       "      <td>-0.22</td>\n",
       "      <td>0.00</td>\n",
       "      <td>0.026</td>\n",
       "    </tr>\n",
       "    <tr>\n",
       "      <th>2000-01-01 08:30:00</th>\n",
       "      <td>-0.19</td>\n",
       "      <td>0.45</td>\n",
       "      <td>0.016</td>\n",
       "    </tr>\n",
       "    <tr>\n",
       "      <th>2000-01-01 09:00:00</th>\n",
       "      <td>-0.14</td>\n",
       "      <td>3.70</td>\n",
       "      <td>0.010</td>\n",
       "    </tr>\n",
       "    <tr>\n",
       "      <th>2000-01-01 09:30:00</th>\n",
       "      <td>-0.03</td>\n",
       "      <td>7.26</td>\n",
       "      <td>0.006</td>\n",
       "    </tr>\n",
       "    <tr>\n",
       "      <th>2000-01-01 10:00:00</th>\n",
       "      <td>0.04</td>\n",
       "      <td>12.24</td>\n",
       "      <td>0.006</td>\n",
       "    </tr>\n",
       "    <tr>\n",
       "      <th>2000-01-01 10:30:00</th>\n",
       "      <td>0.10</td>\n",
       "      <td>16.51</td>\n",
       "      <td>0.006</td>\n",
       "    </tr>\n",
       "  </tbody>\n",
       "</table>\n",
       "</div>"
      ],
      "text/plain": [
       "                     TA_lag_1  SW_IN_lag_1  VPD_lag_1\n",
       "time                                                 \n",
       "2000-01-01 06:00:00     -0.23         0.00      0.122\n",
       "2000-01-01 06:30:00     -0.22         0.00      0.098\n",
       "2000-01-01 07:00:00     -0.24         0.00      0.066\n",
       "2000-01-01 07:30:00     -0.23         0.00      0.044\n",
       "2000-01-01 08:00:00     -0.22         0.00      0.026\n",
       "2000-01-01 08:30:00     -0.19         0.45      0.016\n",
       "2000-01-01 09:00:00     -0.14         3.70      0.010\n",
       "2000-01-01 09:30:00     -0.03         7.26      0.006\n",
       "2000-01-01 10:00:00      0.04        12.24      0.006\n",
       "2000-01-01 10:30:00      0.10        16.51      0.006"
      ]
     },
     "execution_count": null,
     "metadata": {},
     "output_type": "execute_result"
    }
   ],
   "source": [
    "df.rename(columns=_rename_lag(1))"
   ]
  },
  {
   "cell_type": "code",
   "execution_count": null,
   "id": "bb691e61-e8dc-4f30-9b62-a5bf1411f52c",
   "metadata": {},
   "outputs": [],
   "source": [
    "#| export\n",
    "def _lag_df(df, lag):\n",
    "    \"add lagged columns\"\n",
    "    df_lag = df.shift(lag).rename(columns = _rename_lag(lag))\n",
    "    return df_lag\n",
    "    "
   ]
  },
  {
   "cell_type": "code",
   "execution_count": null,
   "id": "887b0a9c-4602-4734-8816-044104f6eb74",
   "metadata": {},
   "outputs": [
    {
     "data": {
      "text/html": [
       "<div>\n",
       "<style scoped>\n",
       "    .dataframe tbody tr th:only-of-type {\n",
       "        vertical-align: middle;\n",
       "    }\n",
       "\n",
       "    .dataframe tbody tr th {\n",
       "        vertical-align: top;\n",
       "    }\n",
       "\n",
       "    .dataframe thead th {\n",
       "        text-align: right;\n",
       "    }\n",
       "</style>\n",
       "<table border=\"1\" class=\"dataframe\">\n",
       "  <thead>\n",
       "    <tr style=\"text-align: right;\">\n",
       "      <th></th>\n",
       "      <th>TA_lag_1</th>\n",
       "      <th>SW_IN_lag_1</th>\n",
       "      <th>VPD_lag_1</th>\n",
       "    </tr>\n",
       "    <tr>\n",
       "      <th>time</th>\n",
       "      <th></th>\n",
       "      <th></th>\n",
       "      <th></th>\n",
       "    </tr>\n",
       "  </thead>\n",
       "  <tbody>\n",
       "    <tr>\n",
       "      <th>2000-01-01 06:00:00</th>\n",
       "      <td>NaN</td>\n",
       "      <td>NaN</td>\n",
       "      <td>NaN</td>\n",
       "    </tr>\n",
       "    <tr>\n",
       "      <th>2000-01-01 06:30:00</th>\n",
       "      <td>-0.23</td>\n",
       "      <td>0.00</td>\n",
       "      <td>0.122</td>\n",
       "    </tr>\n",
       "    <tr>\n",
       "      <th>2000-01-01 07:00:00</th>\n",
       "      <td>-0.22</td>\n",
       "      <td>0.00</td>\n",
       "      <td>0.098</td>\n",
       "    </tr>\n",
       "    <tr>\n",
       "      <th>2000-01-01 07:30:00</th>\n",
       "      <td>-0.24</td>\n",
       "      <td>0.00</td>\n",
       "      <td>0.066</td>\n",
       "    </tr>\n",
       "    <tr>\n",
       "      <th>2000-01-01 08:00:00</th>\n",
       "      <td>-0.23</td>\n",
       "      <td>0.00</td>\n",
       "      <td>0.044</td>\n",
       "    </tr>\n",
       "    <tr>\n",
       "      <th>2000-01-01 08:30:00</th>\n",
       "      <td>-0.22</td>\n",
       "      <td>0.00</td>\n",
       "      <td>0.026</td>\n",
       "    </tr>\n",
       "    <tr>\n",
       "      <th>2000-01-01 09:00:00</th>\n",
       "      <td>-0.19</td>\n",
       "      <td>0.45</td>\n",
       "      <td>0.016</td>\n",
       "    </tr>\n",
       "    <tr>\n",
       "      <th>2000-01-01 09:30:00</th>\n",
       "      <td>-0.14</td>\n",
       "      <td>3.70</td>\n",
       "      <td>0.010</td>\n",
       "    </tr>\n",
       "    <tr>\n",
       "      <th>2000-01-01 10:00:00</th>\n",
       "      <td>-0.03</td>\n",
       "      <td>7.26</td>\n",
       "      <td>0.006</td>\n",
       "    </tr>\n",
       "    <tr>\n",
       "      <th>2000-01-01 10:30:00</th>\n",
       "      <td>0.04</td>\n",
       "      <td>12.24</td>\n",
       "      <td>0.006</td>\n",
       "    </tr>\n",
       "  </tbody>\n",
       "</table>\n",
       "</div>"
      ],
      "text/plain": [
       "                     TA_lag_1  SW_IN_lag_1  VPD_lag_1\n",
       "time                                                 \n",
       "2000-01-01 06:00:00       NaN          NaN        NaN\n",
       "2000-01-01 06:30:00     -0.23         0.00      0.122\n",
       "2000-01-01 07:00:00     -0.22         0.00      0.098\n",
       "2000-01-01 07:30:00     -0.24         0.00      0.066\n",
       "2000-01-01 08:00:00     -0.23         0.00      0.044\n",
       "2000-01-01 08:30:00     -0.22         0.00      0.026\n",
       "2000-01-01 09:00:00     -0.19         0.45      0.016\n",
       "2000-01-01 09:30:00     -0.14         3.70      0.010\n",
       "2000-01-01 10:00:00     -0.03         7.26      0.006\n",
       "2000-01-01 10:30:00      0.04        12.24      0.006"
      ]
     },
     "execution_count": null,
     "metadata": {},
     "output_type": "execute_result"
    }
   ],
   "source": [
    "_lag_df(df, 1)"
   ]
  },
  {
   "cell_type": "code",
   "execution_count": null,
   "id": "df948694-5ac9-4614-9fd3-3b865f2c68a9",
   "metadata": {},
   "outputs": [],
   "source": [
    "#| export\n",
    "def _add_lags_df(df, lags):\n",
    "    df_lagged = df\n",
    "    for lag in listify(lags):\n",
    "        df_lagged = pd.merge(df_lagged, _lag_df(df, lag), left_index=True, right_index=True)\n",
    "    return df_lagged"
   ]
  },
  {
   "cell_type": "code",
   "execution_count": null,
   "id": "07b4261a-defb-4d91-a59a-a94633efd040",
   "metadata": {},
   "outputs": [
    {
     "data": {
      "text/html": [
       "<div>\n",
       "<style scoped>\n",
       "    .dataframe tbody tr th:only-of-type {\n",
       "        vertical-align: middle;\n",
       "    }\n",
       "\n",
       "    .dataframe tbody tr th {\n",
       "        vertical-align: top;\n",
       "    }\n",
       "\n",
       "    .dataframe thead th {\n",
       "        text-align: right;\n",
       "    }\n",
       "</style>\n",
       "<table border=\"1\" class=\"dataframe\">\n",
       "  <thead>\n",
       "    <tr style=\"text-align: right;\">\n",
       "      <th></th>\n",
       "      <th>TA</th>\n",
       "      <th>SW_IN</th>\n",
       "      <th>VPD</th>\n",
       "      <th>TA_lag_1</th>\n",
       "      <th>SW_IN_lag_1</th>\n",
       "      <th>VPD_lag_1</th>\n",
       "      <th>TA_lag_2</th>\n",
       "      <th>SW_IN_lag_2</th>\n",
       "      <th>VPD_lag_2</th>\n",
       "    </tr>\n",
       "    <tr>\n",
       "      <th>time</th>\n",
       "      <th></th>\n",
       "      <th></th>\n",
       "      <th></th>\n",
       "      <th></th>\n",
       "      <th></th>\n",
       "      <th></th>\n",
       "      <th></th>\n",
       "      <th></th>\n",
       "      <th></th>\n",
       "    </tr>\n",
       "  </thead>\n",
       "  <tbody>\n",
       "    <tr>\n",
       "      <th>2000-01-01 06:00:00</th>\n",
       "      <td>-0.23</td>\n",
       "      <td>0.00</td>\n",
       "      <td>0.122</td>\n",
       "      <td>NaN</td>\n",
       "      <td>NaN</td>\n",
       "      <td>NaN</td>\n",
       "      <td>NaN</td>\n",
       "      <td>NaN</td>\n",
       "      <td>NaN</td>\n",
       "    </tr>\n",
       "    <tr>\n",
       "      <th>2000-01-01 06:30:00</th>\n",
       "      <td>-0.22</td>\n",
       "      <td>0.00</td>\n",
       "      <td>0.098</td>\n",
       "      <td>-0.23</td>\n",
       "      <td>0.00</td>\n",
       "      <td>0.122</td>\n",
       "      <td>NaN</td>\n",
       "      <td>NaN</td>\n",
       "      <td>NaN</td>\n",
       "    </tr>\n",
       "    <tr>\n",
       "      <th>2000-01-01 07:00:00</th>\n",
       "      <td>-0.24</td>\n",
       "      <td>0.00</td>\n",
       "      <td>0.066</td>\n",
       "      <td>-0.22</td>\n",
       "      <td>0.00</td>\n",
       "      <td>0.098</td>\n",
       "      <td>-0.23</td>\n",
       "      <td>0.00</td>\n",
       "      <td>0.122</td>\n",
       "    </tr>\n",
       "    <tr>\n",
       "      <th>2000-01-01 07:30:00</th>\n",
       "      <td>-0.23</td>\n",
       "      <td>0.00</td>\n",
       "      <td>0.044</td>\n",
       "      <td>-0.24</td>\n",
       "      <td>0.00</td>\n",
       "      <td>0.066</td>\n",
       "      <td>-0.22</td>\n",
       "      <td>0.00</td>\n",
       "      <td>0.098</td>\n",
       "    </tr>\n",
       "    <tr>\n",
       "      <th>2000-01-01 08:00:00</th>\n",
       "      <td>-0.22</td>\n",
       "      <td>0.00</td>\n",
       "      <td>0.026</td>\n",
       "      <td>-0.23</td>\n",
       "      <td>0.00</td>\n",
       "      <td>0.044</td>\n",
       "      <td>-0.24</td>\n",
       "      <td>0.00</td>\n",
       "      <td>0.066</td>\n",
       "    </tr>\n",
       "    <tr>\n",
       "      <th>2000-01-01 08:30:00</th>\n",
       "      <td>-0.19</td>\n",
       "      <td>0.45</td>\n",
       "      <td>0.016</td>\n",
       "      <td>-0.22</td>\n",
       "      <td>0.00</td>\n",
       "      <td>0.026</td>\n",
       "      <td>-0.23</td>\n",
       "      <td>0.00</td>\n",
       "      <td>0.044</td>\n",
       "    </tr>\n",
       "    <tr>\n",
       "      <th>2000-01-01 09:00:00</th>\n",
       "      <td>-0.14</td>\n",
       "      <td>3.70</td>\n",
       "      <td>0.010</td>\n",
       "      <td>-0.19</td>\n",
       "      <td>0.45</td>\n",
       "      <td>0.016</td>\n",
       "      <td>-0.22</td>\n",
       "      <td>0.00</td>\n",
       "      <td>0.026</td>\n",
       "    </tr>\n",
       "    <tr>\n",
       "      <th>2000-01-01 09:30:00</th>\n",
       "      <td>-0.03</td>\n",
       "      <td>7.26</td>\n",
       "      <td>0.006</td>\n",
       "      <td>-0.14</td>\n",
       "      <td>3.70</td>\n",
       "      <td>0.010</td>\n",
       "      <td>-0.19</td>\n",
       "      <td>0.45</td>\n",
       "      <td>0.016</td>\n",
       "    </tr>\n",
       "    <tr>\n",
       "      <th>2000-01-01 10:00:00</th>\n",
       "      <td>0.04</td>\n",
       "      <td>12.24</td>\n",
       "      <td>0.006</td>\n",
       "      <td>-0.03</td>\n",
       "      <td>7.26</td>\n",
       "      <td>0.006</td>\n",
       "      <td>-0.14</td>\n",
       "      <td>3.70</td>\n",
       "      <td>0.010</td>\n",
       "    </tr>\n",
       "    <tr>\n",
       "      <th>2000-01-01 10:30:00</th>\n",
       "      <td>0.10</td>\n",
       "      <td>16.51</td>\n",
       "      <td>0.006</td>\n",
       "      <td>0.04</td>\n",
       "      <td>12.24</td>\n",
       "      <td>0.006</td>\n",
       "      <td>-0.03</td>\n",
       "      <td>7.26</td>\n",
       "      <td>0.006</td>\n",
       "    </tr>\n",
       "  </tbody>\n",
       "</table>\n",
       "</div>"
      ],
      "text/plain": [
       "                       TA  SW_IN    VPD  TA_lag_1  SW_IN_lag_1  VPD_lag_1  \\\n",
       "time                                                                        \n",
       "2000-01-01 06:00:00 -0.23   0.00  0.122       NaN          NaN        NaN   \n",
       "2000-01-01 06:30:00 -0.22   0.00  0.098     -0.23         0.00      0.122   \n",
       "2000-01-01 07:00:00 -0.24   0.00  0.066     -0.22         0.00      0.098   \n",
       "2000-01-01 07:30:00 -0.23   0.00  0.044     -0.24         0.00      0.066   \n",
       "2000-01-01 08:00:00 -0.22   0.00  0.026     -0.23         0.00      0.044   \n",
       "2000-01-01 08:30:00 -0.19   0.45  0.016     -0.22         0.00      0.026   \n",
       "2000-01-01 09:00:00 -0.14   3.70  0.010     -0.19         0.45      0.016   \n",
       "2000-01-01 09:30:00 -0.03   7.26  0.006     -0.14         3.70      0.010   \n",
       "2000-01-01 10:00:00  0.04  12.24  0.006     -0.03         7.26      0.006   \n",
       "2000-01-01 10:30:00  0.10  16.51  0.006      0.04        12.24      0.006   \n",
       "\n",
       "                     TA_lag_2  SW_IN_lag_2  VPD_lag_2  \n",
       "time                                                   \n",
       "2000-01-01 06:00:00       NaN          NaN        NaN  \n",
       "2000-01-01 06:30:00       NaN          NaN        NaN  \n",
       "2000-01-01 07:00:00     -0.23         0.00      0.122  \n",
       "2000-01-01 07:30:00     -0.22         0.00      0.098  \n",
       "2000-01-01 08:00:00     -0.24         0.00      0.066  \n",
       "2000-01-01 08:30:00     -0.23         0.00      0.044  \n",
       "2000-01-01 09:00:00     -0.22         0.00      0.026  \n",
       "2000-01-01 09:30:00     -0.19         0.45      0.016  \n",
       "2000-01-01 10:00:00     -0.14         3.70      0.010  \n",
       "2000-01-01 10:30:00     -0.03         7.26      0.006  "
      ]
     },
     "execution_count": null,
     "metadata": {},
     "output_type": "execute_result"
    }
   ],
   "source": [
    "_add_lags_df(df, [1,2])"
   ]
  },
  {
   "cell_type": "code",
   "execution_count": null,
   "id": "6f4ad592-bf8d-4bb0-9dbe-e960124c6e18",
   "metadata": {},
   "outputs": [],
   "source": [
    "#| export\n",
    "class BlockDfTransform(Transform):\n",
    "    \"\"\"divide timeseries DataFrame index into blocks\"\"\"\n",
    "    def __init__(self, data: pd.DataFrame, control: pd.DataFrame, control_lags: int|Iterable[int]):\n",
    "        store_attr()\n",
    "        self.control = _add_lags_df(control, control_lags)\n",
    "    def encodes(self, idx: pd.DatetimeIndex) -> DataControl:\n",
    "        return DataControl(self.data.loc[idx], self.control.loc[idx])"
   ]
  },
  {
   "cell_type": "code",
   "execution_count": null,
   "id": "87df7d02-07ed-4e4a-8d41-c4346d00934e",
   "metadata": {},
   "outputs": [],
   "source": [
    "blkdf = BlockDfTransform(hai, hai_era, 1)"
   ]
  },
  {
   "cell_type": "code",
   "execution_count": null,
   "id": "d509607c-4d3c-470f-b235-80286dbabf19",
   "metadata": {},
   "outputs": [
    {
     "data": {
      "text/html": [
       "<p style='font-size: 1.5rem; font-decoration: bold'>Data Control<p><div style=\"display: flex; column-gap: 20px; flex-wrap: wrap;\" class='table table-striped table-sm'> <div> <p style='font-size: 1.3rem;'>data</p> <style type=\"text/css\">\n",
       "</style>\n",
       "<table id=\"T_e3e5e\">\n",
       "  <thead>\n",
       "    <tr>\n",
       "      <th class=\"blank level0\" >&nbsp;</th>\n",
       "      <th id=\"T_e3e5e_level0_col0\" class=\"col_heading level0 col0\" >TA</th>\n",
       "      <th id=\"T_e3e5e_level0_col1\" class=\"col_heading level0 col1\" >SW_IN</th>\n",
       "      <th id=\"T_e3e5e_level0_col2\" class=\"col_heading level0 col2\" >VPD</th>\n",
       "    </tr>\n",
       "    <tr>\n",
       "      <th class=\"index_name level0\" >time</th>\n",
       "      <th class=\"blank col0\" >&nbsp;</th>\n",
       "      <th class=\"blank col1\" >&nbsp;</th>\n",
       "      <th class=\"blank col2\" >&nbsp;</th>\n",
       "    </tr>\n",
       "  </thead>\n",
       "  <tbody>\n",
       "    <tr>\n",
       "      <th id=\"T_e3e5e_level0_row0\" class=\"row_heading level0 row0\" >2000-01-01 07:00:00</th>\n",
       "      <td id=\"T_e3e5e_row0_col0\" class=\"data row0 col0\" >-0.2400</td>\n",
       "      <td id=\"T_e3e5e_row0_col1\" class=\"data row0 col1\" >0.0000</td>\n",
       "      <td id=\"T_e3e5e_row0_col2\" class=\"data row0 col2\" >0.0660</td>\n",
       "    </tr>\n",
       "    <tr>\n",
       "      <th id=\"T_e3e5e_level0_row1\" class=\"row_heading level0 row1\" >2000-01-01 07:30:00</th>\n",
       "      <td id=\"T_e3e5e_row1_col0\" class=\"data row1 col0\" >-0.2300</td>\n",
       "      <td id=\"T_e3e5e_row1_col1\" class=\"data row1 col1\" >0.0000</td>\n",
       "      <td id=\"T_e3e5e_row1_col2\" class=\"data row1 col2\" >0.0440</td>\n",
       "    </tr>\n",
       "    <tr>\n",
       "      <th id=\"T_e3e5e_level0_row2\" class=\"row_heading level0 row2\" >2000-01-01 08:00:00</th>\n",
       "      <td id=\"T_e3e5e_row2_col0\" class=\"data row2 col0\" >-0.2200</td>\n",
       "      <td id=\"T_e3e5e_row2_col1\" class=\"data row2 col1\" >0.0000</td>\n",
       "      <td id=\"T_e3e5e_row2_col2\" class=\"data row2 col2\" >0.0260</td>\n",
       "    </tr>\n",
       "    <tr>\n",
       "      <th id=\"T_e3e5e_level0_row3\" class=\"row_heading level0 row3\" >2000-01-01 08:30:00</th>\n",
       "      <td id=\"T_e3e5e_row3_col0\" class=\"data row3 col0\" >-0.1900</td>\n",
       "      <td id=\"T_e3e5e_row3_col1\" class=\"data row3 col1\" >0.4500</td>\n",
       "      <td id=\"T_e3e5e_row3_col2\" class=\"data row3 col2\" >0.0160</td>\n",
       "    </tr>\n",
       "    <tr>\n",
       "      <th id=\"T_e3e5e_level0_row4\" class=\"row_heading level0 row4\" >2000-01-01 09:00:00</th>\n",
       "      <td id=\"T_e3e5e_row4_col0\" class=\"data row4 col0\" >-0.1400</td>\n",
       "      <td id=\"T_e3e5e_row4_col1\" class=\"data row4 col1\" >3.7000</td>\n",
       "      <td id=\"T_e3e5e_row4_col2\" class=\"data row4 col2\" >0.0100</td>\n",
       "    </tr>\n",
       "    <tr>\n",
       "      <th id=\"T_e3e5e_level0_row5\" class=\"row_heading level0 row5\" >2000-01-01 09:30:00</th>\n",
       "      <td id=\"T_e3e5e_row5_col0\" class=\"data row5 col0\" >-0.0300</td>\n",
       "      <td id=\"T_e3e5e_row5_col1\" class=\"data row5 col1\" >7.2600</td>\n",
       "      <td id=\"T_e3e5e_row5_col2\" class=\"data row5 col2\" >0.0060</td>\n",
       "    </tr>\n",
       "    <tr>\n",
       "      <th id=\"T_e3e5e_level0_row6\" class=\"row_heading level0 row6\" >2000-01-01 10:00:00</th>\n",
       "      <td id=\"T_e3e5e_row6_col0\" class=\"data row6 col0\" >0.0400</td>\n",
       "      <td id=\"T_e3e5e_row6_col1\" class=\"data row6 col1\" >12.2400</td>\n",
       "      <td id=\"T_e3e5e_row6_col2\" class=\"data row6 col2\" >0.0060</td>\n",
       "    </tr>\n",
       "    <tr>\n",
       "      <th id=\"T_e3e5e_level0_row7\" class=\"row_heading level0 row7\" >2000-01-01 10:30:00</th>\n",
       "      <td id=\"T_e3e5e_row7_col0\" class=\"data row7 col0\" >0.1000</td>\n",
       "      <td id=\"T_e3e5e_row7_col1\" class=\"data row7 col1\" >16.5100</td>\n",
       "      <td id=\"T_e3e5e_row7_col2\" class=\"data row7 col2\" >0.0060</td>\n",
       "    </tr>\n",
       "    <tr>\n",
       "      <th id=\"T_e3e5e_level0_row8\" class=\"row_heading level0 row8\" >2000-01-01 11:00:00</th>\n",
       "      <td id=\"T_e3e5e_row8_col0\" class=\"data row8 col0\" >0.1800</td>\n",
       "      <td id=\"T_e3e5e_row8_col1\" class=\"data row8 col1\" >24.7300</td>\n",
       "      <td id=\"T_e3e5e_row8_col2\" class=\"data row8 col2\" >0.0110</td>\n",
       "    </tr>\n",
       "    <tr>\n",
       "      <th id=\"T_e3e5e_level0_row9\" class=\"row_heading level0 row9\" >2000-01-01 11:30:00</th>\n",
       "      <td id=\"T_e3e5e_row9_col0\" class=\"data row9 col0\" >0.2100</td>\n",
       "      <td id=\"T_e3e5e_row9_col1\" class=\"data row9 col1\" >47.4200</td>\n",
       "      <td id=\"T_e3e5e_row9_col2\" class=\"data row9 col2\" >0.0190</td>\n",
       "    </tr>\n",
       "  </tbody>\n",
       "</table>\n",
       " </div><div> <p style='font-size: 1.3rem;'>control</p> <style type=\"text/css\">\n",
       "</style>\n",
       "<table id=\"T_75115\">\n",
       "  <thead>\n",
       "    <tr>\n",
       "      <th class=\"blank level0\" >&nbsp;</th>\n",
       "      <th id=\"T_75115_level0_col0\" class=\"col_heading level0 col0\" >TA_ERA</th>\n",
       "      <th id=\"T_75115_level0_col1\" class=\"col_heading level0 col1\" >SW_IN_ERA</th>\n",
       "      <th id=\"T_75115_level0_col2\" class=\"col_heading level0 col2\" >VPD_ERA</th>\n",
       "      <th id=\"T_75115_level0_col3\" class=\"col_heading level0 col3\" >TA_ERA_lag_1</th>\n",
       "      <th id=\"T_75115_level0_col4\" class=\"col_heading level0 col4\" >SW_IN_ERA_lag_1</th>\n",
       "      <th id=\"T_75115_level0_col5\" class=\"col_heading level0 col5\" >VPD_ERA_lag_1</th>\n",
       "    </tr>\n",
       "    <tr>\n",
       "      <th class=\"index_name level0\" >time</th>\n",
       "      <th class=\"blank col0\" >&nbsp;</th>\n",
       "      <th class=\"blank col1\" >&nbsp;</th>\n",
       "      <th class=\"blank col2\" >&nbsp;</th>\n",
       "      <th class=\"blank col3\" >&nbsp;</th>\n",
       "      <th class=\"blank col4\" >&nbsp;</th>\n",
       "      <th class=\"blank col5\" >&nbsp;</th>\n",
       "    </tr>\n",
       "  </thead>\n",
       "  <tbody>\n",
       "    <tr>\n",
       "      <th id=\"T_75115_level0_row0\" class=\"row_heading level0 row0\" >2000-01-01 07:00:00</th>\n",
       "      <td id=\"T_75115_row0_col0\" class=\"data row0 col0\" >-0.1420</td>\n",
       "      <td id=\"T_75115_row0_col1\" class=\"data row0 col1\" >0.0000</td>\n",
       "      <td id=\"T_75115_row0_col2\" class=\"data row0 col2\" >0.5100</td>\n",
       "      <td id=\"T_75115_row0_col3\" class=\"data row0 col3\" >-0.2110</td>\n",
       "      <td id=\"T_75115_row0_col4\" class=\"data row0 col4\" >0.0000</td>\n",
       "      <td id=\"T_75115_row0_col5\" class=\"data row0 col5\" >0.5060</td>\n",
       "    </tr>\n",
       "    <tr>\n",
       "      <th id=\"T_75115_level0_row1\" class=\"row_heading level0 row1\" >2000-01-01 07:30:00</th>\n",
       "      <td id=\"T_75115_row1_col0\" class=\"data row1 col0\" >-0.0740</td>\n",
       "      <td id=\"T_75115_row1_col1\" class=\"data row1 col1\" >0.0000</td>\n",
       "      <td id=\"T_75115_row1_col2\" class=\"data row1 col2\" >0.5150</td>\n",
       "      <td id=\"T_75115_row1_col3\" class=\"data row1 col3\" >-0.1420</td>\n",
       "      <td id=\"T_75115_row1_col4\" class=\"data row1 col4\" >0.0000</td>\n",
       "      <td id=\"T_75115_row1_col5\" class=\"data row1 col5\" >0.5100</td>\n",
       "    </tr>\n",
       "    <tr>\n",
       "      <th id=\"T_75115_level0_row2\" class=\"row_heading level0 row2\" >2000-01-01 08:00:00</th>\n",
       "      <td id=\"T_75115_row2_col0\" class=\"data row2 col0\" >0.0440</td>\n",
       "      <td id=\"T_75115_row2_col1\" class=\"data row2 col1\" >0.0000</td>\n",
       "      <td id=\"T_75115_row2_col2\" class=\"data row2 col2\" >0.5270</td>\n",
       "      <td id=\"T_75115_row2_col3\" class=\"data row2 col3\" >-0.0740</td>\n",
       "      <td id=\"T_75115_row2_col4\" class=\"data row2 col4\" >0.0000</td>\n",
       "      <td id=\"T_75115_row2_col5\" class=\"data row2 col5\" >0.5150</td>\n",
       "    </tr>\n",
       "    <tr>\n",
       "      <th id=\"T_75115_level0_row3\" class=\"row_heading level0 row3\" >2000-01-01 08:30:00</th>\n",
       "      <td id=\"T_75115_row3_col0\" class=\"data row3 col0\" >0.1610</td>\n",
       "      <td id=\"T_75115_row3_col1\" class=\"data row3 col1\" >0.0000</td>\n",
       "      <td id=\"T_75115_row3_col2\" class=\"data row3 col2\" >0.5390</td>\n",
       "      <td id=\"T_75115_row3_col3\" class=\"data row3 col3\" >0.0440</td>\n",
       "      <td id=\"T_75115_row3_col4\" class=\"data row3 col4\" >0.0000</td>\n",
       "      <td id=\"T_75115_row3_col5\" class=\"data row3 col5\" >0.5270</td>\n",
       "    </tr>\n",
       "    <tr>\n",
       "      <th id=\"T_75115_level0_row4\" class=\"row_heading level0 row4\" >2000-01-01 09:00:00</th>\n",
       "      <td id=\"T_75115_row4_col0\" class=\"data row4 col0\" >0.2790</td>\n",
       "      <td id=\"T_75115_row4_col1\" class=\"data row4 col1\" >2.6550</td>\n",
       "      <td id=\"T_75115_row4_col2\" class=\"data row4 col2\" >0.5510</td>\n",
       "      <td id=\"T_75115_row4_col3\" class=\"data row4 col3\" >0.1610</td>\n",
       "      <td id=\"T_75115_row4_col4\" class=\"data row4 col4\" >0.0000</td>\n",
       "      <td id=\"T_75115_row4_col5\" class=\"data row4 col5\" >0.5390</td>\n",
       "    </tr>\n",
       "    <tr>\n",
       "      <th id=\"T_75115_level0_row5\" class=\"row_heading level0 row5\" >2000-01-01 09:30:00</th>\n",
       "      <td id=\"T_75115_row5_col0\" class=\"data row5 col0\" >0.3960</td>\n",
       "      <td id=\"T_75115_row5_col1\" class=\"data row5 col1\" >7.0800</td>\n",
       "      <td id=\"T_75115_row5_col2\" class=\"data row5 col2\" >0.5630</td>\n",
       "      <td id=\"T_75115_row5_col3\" class=\"data row5 col3\" >0.2790</td>\n",
       "      <td id=\"T_75115_row5_col4\" class=\"data row5 col4\" >2.6550</td>\n",
       "      <td id=\"T_75115_row5_col5\" class=\"data row5 col5\" >0.5510</td>\n",
       "    </tr>\n",
       "    <tr>\n",
       "      <th id=\"T_75115_level0_row6\" class=\"row_heading level0 row6\" >2000-01-01 10:00:00</th>\n",
       "      <td id=\"T_75115_row6_col0\" class=\"data row6 col0\" >0.5140</td>\n",
       "      <td id=\"T_75115_row6_col1\" class=\"data row6 col1\" >10.9880</td>\n",
       "      <td id=\"T_75115_row6_col2\" class=\"data row6 col2\" >0.5750</td>\n",
       "      <td id=\"T_75115_row6_col3\" class=\"data row6 col3\" >0.3960</td>\n",
       "      <td id=\"T_75115_row6_col4\" class=\"data row6 col4\" >7.0800</td>\n",
       "      <td id=\"T_75115_row6_col5\" class=\"data row6 col5\" >0.5630</td>\n",
       "    </tr>\n",
       "    <tr>\n",
       "      <th id=\"T_75115_level0_row7\" class=\"row_heading level0 row7\" >2000-01-01 10:30:00</th>\n",
       "      <td id=\"T_75115_row7_col0\" class=\"data row7 col0\" >0.6310</td>\n",
       "      <td id=\"T_75115_row7_col1\" class=\"data row7 col1\" >18.0120</td>\n",
       "      <td id=\"T_75115_row7_col2\" class=\"data row7 col2\" >0.5860</td>\n",
       "      <td id=\"T_75115_row7_col3\" class=\"data row7 col3\" >0.5140</td>\n",
       "      <td id=\"T_75115_row7_col4\" class=\"data row7 col4\" >10.9880</td>\n",
       "      <td id=\"T_75115_row7_col5\" class=\"data row7 col5\" >0.5750</td>\n",
       "    </tr>\n",
       "    <tr>\n",
       "      <th id=\"T_75115_level0_row8\" class=\"row_heading level0 row8\" >2000-01-01 11:00:00</th>\n",
       "      <td id=\"T_75115_row8_col0\" class=\"data row8 col0\" >0.7520</td>\n",
       "      <td id=\"T_75115_row8_col1\" class=\"data row8 col1\" >21.3900</td>\n",
       "      <td id=\"T_75115_row8_col2\" class=\"data row8 col2\" >0.5880</td>\n",
       "      <td id=\"T_75115_row8_col3\" class=\"data row8 col3\" >0.6310</td>\n",
       "      <td id=\"T_75115_row8_col4\" class=\"data row8 col4\" >18.0120</td>\n",
       "      <td id=\"T_75115_row8_col5\" class=\"data row8 col5\" >0.5860</td>\n",
       "    </tr>\n",
       "    <tr>\n",
       "      <th id=\"T_75115_level0_row9\" class=\"row_heading level0 row9\" >2000-01-01 11:30:00</th>\n",
       "      <td id=\"T_75115_row9_col0\" class=\"data row9 col0\" >0.8730</td>\n",
       "      <td id=\"T_75115_row9_col1\" class=\"data row9 col1\" >23.9050</td>\n",
       "      <td id=\"T_75115_row9_col2\" class=\"data row9 col2\" >0.5900</td>\n",
       "      <td id=\"T_75115_row9_col3\" class=\"data row9 col3\" >0.7520</td>\n",
       "      <td id=\"T_75115_row9_col4\" class=\"data row9 col4\" >21.3900</td>\n",
       "      <td id=\"T_75115_row9_col5\" class=\"data row9 col5\" >0.5880</td>\n",
       "    </tr>\n",
       "  </tbody>\n",
       "</table>\n",
       " </div></div>"
      ],
      "text/plain": [
       "DataControl(data=                       TA      SW_IN    VPD\n",
       "time                                       \n",
       "2000-01-01 07:00:00 -0.24   0.000000  0.066\n",
       "2000-01-01 07:30:00 -0.23   0.000000  0.044\n",
       "2000-01-01 08:00:00 -0.22   0.000000  0.026\n",
       "2000-01-01 08:30:00 -0.19   0.450000  0.016\n",
       "2000-01-01 09:00:00 -0.14   3.700000  0.010\n",
       "2000-01-01 09:30:00 -0.03   7.260000  0.006\n",
       "2000-01-01 10:00:00  0.04  12.240000  0.006\n",
       "2000-01-01 10:30:00  0.10  16.510000  0.006\n",
       "2000-01-01 11:00:00  0.18  24.730000  0.011\n",
       "2000-01-01 11:30:00  0.21  47.419998  0.019, control=                     TA_ERA  SW_IN_ERA  VPD_ERA  TA_ERA_lag_1  \\\n",
       "time                                                            \n",
       "2000-01-01 07:00:00  -0.142   0.000000    0.510        -0.211   \n",
       "2000-01-01 07:30:00  -0.074   0.000000    0.515        -0.142   \n",
       "2000-01-01 08:00:00   0.044   0.000000    0.527        -0.074   \n",
       "2000-01-01 08:30:00   0.161   0.000000    0.539         0.044   \n",
       "2000-01-01 09:00:00   0.279   2.655000    0.551         0.161   \n",
       "2000-01-01 09:30:00   0.396   7.080000    0.563         0.279   \n",
       "2000-01-01 10:00:00   0.514  10.988000    0.575         0.396   \n",
       "2000-01-01 10:30:00   0.631  18.011999    0.586         0.514   \n",
       "2000-01-01 11:00:00   0.752  21.389999    0.588         0.631   \n",
       "2000-01-01 11:30:00   0.873  23.905001    0.590         0.752   \n",
       "\n",
       "                     SW_IN_ERA_lag_1  VPD_ERA_lag_1  \n",
       "time                                                 \n",
       "2000-01-01 07:00:00         0.000000          0.506  \n",
       "2000-01-01 07:30:00         0.000000          0.510  \n",
       "2000-01-01 08:00:00         0.000000          0.515  \n",
       "2000-01-01 08:30:00         0.000000          0.527  \n",
       "2000-01-01 09:00:00         0.000000          0.539  \n",
       "2000-01-01 09:30:00         2.655000          0.551  \n",
       "2000-01-01 10:00:00         7.080000          0.563  \n",
       "2000-01-01 10:30:00        10.988000          0.575  \n",
       "2000-01-01 11:00:00        18.011999          0.586  \n",
       "2000-01-01 11:30:00        21.389999          0.588  )"
      ]
     },
     "execution_count": null,
     "metadata": {},
     "output_type": "execute_result"
    }
   ],
   "source": [
    "blkdf(blk([1,2]))"
   ]
  },
  {
   "cell_type": "markdown",
   "id": "7b7c57e7-4ebb-46b9-a89d-ec980277ae67",
   "metadata": {},
   "source": [
    "taking a day in the summer so there is an higher values for the variables"
   ]
  },
  {
   "cell_type": "code",
   "execution_count": null,
   "id": "57479bbb-1a76-44d1-af82-0d3666d2ae7d",
   "metadata": {},
   "outputs": [
    {
     "data": {
      "text/html": [
       "<div>\n",
       "<style scoped>\n",
       "    .dataframe tbody tr th:only-of-type {\n",
       "        vertical-align: middle;\n",
       "    }\n",
       "\n",
       "    .dataframe tbody tr th {\n",
       "        vertical-align: top;\n",
       "    }\n",
       "\n",
       "    .dataframe thead th {\n",
       "        text-align: right;\n",
       "    }\n",
       "</style>\n",
       "<table border=\"1\" class=\"dataframe\">\n",
       "  <thead>\n",
       "    <tr style=\"text-align: right;\">\n",
       "      <th></th>\n",
       "      <th>TA</th>\n",
       "      <th>SW_IN</th>\n",
       "      <th>VPD</th>\n",
       "    </tr>\n",
       "    <tr>\n",
       "      <th>time</th>\n",
       "      <th></th>\n",
       "      <th></th>\n",
       "      <th></th>\n",
       "    </tr>\n",
       "  </thead>\n",
       "  <tbody>\n",
       "    <tr>\n",
       "      <th>2000-06-15 17:00:00</th>\n",
       "      <td>14.22</td>\n",
       "      <td>224.800003</td>\n",
       "      <td>5.799</td>\n",
       "    </tr>\n",
       "    <tr>\n",
       "      <th>2000-06-15 17:30:00</th>\n",
       "      <td>14.11</td>\n",
       "      <td>195.279999</td>\n",
       "      <td>6.577</td>\n",
       "    </tr>\n",
       "    <tr>\n",
       "      <th>2000-06-15 18:00:00</th>\n",
       "      <td>14.23</td>\n",
       "      <td>244.169998</td>\n",
       "      <td>6.931</td>\n",
       "    </tr>\n",
       "    <tr>\n",
       "      <th>2000-06-15 18:30:00</th>\n",
       "      <td>14.40</td>\n",
       "      <td>253.919998</td>\n",
       "      <td>7.286</td>\n",
       "    </tr>\n",
       "    <tr>\n",
       "      <th>2000-06-15 19:00:00</th>\n",
       "      <td>14.09</td>\n",
       "      <td>177.309998</td>\n",
       "      <td>7.251</td>\n",
       "    </tr>\n",
       "    <tr>\n",
       "      <th>2000-06-15 19:30:00</th>\n",
       "      <td>13.71</td>\n",
       "      <td>97.070000</td>\n",
       "      <td>6.683</td>\n",
       "    </tr>\n",
       "    <tr>\n",
       "      <th>2000-06-15 20:00:00</th>\n",
       "      <td>13.08</td>\n",
       "      <td>39.709999</td>\n",
       "      <td>5.851</td>\n",
       "    </tr>\n",
       "    <tr>\n",
       "      <th>2000-06-15 20:30:00</th>\n",
       "      <td>12.41</td>\n",
       "      <td>10.650000</td>\n",
       "      <td>5.254</td>\n",
       "    </tr>\n",
       "    <tr>\n",
       "      <th>2000-06-15 21:00:00</th>\n",
       "      <td>12.27</td>\n",
       "      <td>0.320000</td>\n",
       "      <td>5.164</td>\n",
       "    </tr>\n",
       "    <tr>\n",
       "      <th>2000-06-15 21:30:00</th>\n",
       "      <td>12.20</td>\n",
       "      <td>0.000000</td>\n",
       "      <td>5.037</td>\n",
       "    </tr>\n",
       "  </tbody>\n",
       "</table>\n",
       "</div>"
      ],
      "text/plain": [
       "                        TA       SW_IN    VPD\n",
       "time                                         \n",
       "2000-06-15 17:00:00  14.22  224.800003  5.799\n",
       "2000-06-15 17:30:00  14.11  195.279999  6.577\n",
       "2000-06-15 18:00:00  14.23  244.169998  6.931\n",
       "2000-06-15 18:30:00  14.40  253.919998  7.286\n",
       "2000-06-15 19:00:00  14.09  177.309998  7.251\n",
       "2000-06-15 19:30:00  13.71   97.070000  6.683\n",
       "2000-06-15 20:00:00  13.08   39.709999  5.851\n",
       "2000-06-15 20:30:00  12.41   10.650000  5.254\n",
       "2000-06-15 21:00:00  12.27    0.320000  5.164\n",
       "2000-06-15 21:30:00  12.20    0.000000  5.037"
      ]
     },
     "execution_count": null,
     "metadata": {},
     "output_type": "execute_result"
    }
   ],
   "source": [
    "blkdf(blk([800,0])).data"
   ]
  },
  {
   "cell_type": "code",
   "execution_count": null,
   "id": "0cf65769-4e52-4e14-be29-624cf4d82167",
   "metadata": {},
   "outputs": [],
   "source": [
    "tfms1 = TfmdLists([[800,0],[801,0],[802,0],[803,0]], [BlockIndexTransform(hai.index, 10), BlockDfTransform(hai, hai_era, control_lags=1)])"
   ]
  },
  {
   "cell_type": "code",
   "execution_count": null,
   "id": "c8c1ec1e-810f-477f-8bb9-4eaebc2102e3",
   "metadata": {},
   "outputs": [
    {
     "data": {
      "text/html": [
       "<p style='font-size: 1.5rem; font-decoration: bold'>Data Control<p><div style=\"display: flex; column-gap: 20px; flex-wrap: wrap;\" class='table table-striped table-sm'> <div> <p style='font-size: 1.3rem;'>data</p> <style type=\"text/css\">\n",
       "</style>\n",
       "<table id=\"T_671df\">\n",
       "  <thead>\n",
       "    <tr>\n",
       "      <th class=\"blank level0\" >&nbsp;</th>\n",
       "      <th id=\"T_671df_level0_col0\" class=\"col_heading level0 col0\" >TA</th>\n",
       "      <th id=\"T_671df_level0_col1\" class=\"col_heading level0 col1\" >SW_IN</th>\n",
       "      <th id=\"T_671df_level0_col2\" class=\"col_heading level0 col2\" >VPD</th>\n",
       "    </tr>\n",
       "    <tr>\n",
       "      <th class=\"index_name level0\" >time</th>\n",
       "      <th class=\"blank col0\" >&nbsp;</th>\n",
       "      <th class=\"blank col1\" >&nbsp;</th>\n",
       "      <th class=\"blank col2\" >&nbsp;</th>\n",
       "    </tr>\n",
       "  </thead>\n",
       "  <tbody>\n",
       "    <tr>\n",
       "      <th id=\"T_671df_level0_row0\" class=\"row_heading level0 row0\" >2000-06-15 17:00:00</th>\n",
       "      <td id=\"T_671df_row0_col0\" class=\"data row0 col0\" >14.2200</td>\n",
       "      <td id=\"T_671df_row0_col1\" class=\"data row0 col1\" >224.8000</td>\n",
       "      <td id=\"T_671df_row0_col2\" class=\"data row0 col2\" >5.7990</td>\n",
       "    </tr>\n",
       "    <tr>\n",
       "      <th id=\"T_671df_level0_row1\" class=\"row_heading level0 row1\" >2000-06-15 17:30:00</th>\n",
       "      <td id=\"T_671df_row1_col0\" class=\"data row1 col0\" >14.1100</td>\n",
       "      <td id=\"T_671df_row1_col1\" class=\"data row1 col1\" >195.2800</td>\n",
       "      <td id=\"T_671df_row1_col2\" class=\"data row1 col2\" >6.5770</td>\n",
       "    </tr>\n",
       "    <tr>\n",
       "      <th id=\"T_671df_level0_row2\" class=\"row_heading level0 row2\" >2000-06-15 18:00:00</th>\n",
       "      <td id=\"T_671df_row2_col0\" class=\"data row2 col0\" >14.2300</td>\n",
       "      <td id=\"T_671df_row2_col1\" class=\"data row2 col1\" >244.1700</td>\n",
       "      <td id=\"T_671df_row2_col2\" class=\"data row2 col2\" >6.9310</td>\n",
       "    </tr>\n",
       "    <tr>\n",
       "      <th id=\"T_671df_level0_row3\" class=\"row_heading level0 row3\" >2000-06-15 18:30:00</th>\n",
       "      <td id=\"T_671df_row3_col0\" class=\"data row3 col0\" >14.4000</td>\n",
       "      <td id=\"T_671df_row3_col1\" class=\"data row3 col1\" >253.9200</td>\n",
       "      <td id=\"T_671df_row3_col2\" class=\"data row3 col2\" >7.2860</td>\n",
       "    </tr>\n",
       "    <tr>\n",
       "      <th id=\"T_671df_level0_row4\" class=\"row_heading level0 row4\" >2000-06-15 19:00:00</th>\n",
       "      <td id=\"T_671df_row4_col0\" class=\"data row4 col0\" >14.0900</td>\n",
       "      <td id=\"T_671df_row4_col1\" class=\"data row4 col1\" >177.3100</td>\n",
       "      <td id=\"T_671df_row4_col2\" class=\"data row4 col2\" >7.2510</td>\n",
       "    </tr>\n",
       "    <tr>\n",
       "      <th id=\"T_671df_level0_row5\" class=\"row_heading level0 row5\" >2000-06-15 19:30:00</th>\n",
       "      <td id=\"T_671df_row5_col0\" class=\"data row5 col0\" >13.7100</td>\n",
       "      <td id=\"T_671df_row5_col1\" class=\"data row5 col1\" >97.0700</td>\n",
       "      <td id=\"T_671df_row5_col2\" class=\"data row5 col2\" >6.6830</td>\n",
       "    </tr>\n",
       "    <tr>\n",
       "      <th id=\"T_671df_level0_row6\" class=\"row_heading level0 row6\" >2000-06-15 20:00:00</th>\n",
       "      <td id=\"T_671df_row6_col0\" class=\"data row6 col0\" >13.0800</td>\n",
       "      <td id=\"T_671df_row6_col1\" class=\"data row6 col1\" >39.7100</td>\n",
       "      <td id=\"T_671df_row6_col2\" class=\"data row6 col2\" >5.8510</td>\n",
       "    </tr>\n",
       "    <tr>\n",
       "      <th id=\"T_671df_level0_row7\" class=\"row_heading level0 row7\" >2000-06-15 20:30:00</th>\n",
       "      <td id=\"T_671df_row7_col0\" class=\"data row7 col0\" >12.4100</td>\n",
       "      <td id=\"T_671df_row7_col1\" class=\"data row7 col1\" >10.6500</td>\n",
       "      <td id=\"T_671df_row7_col2\" class=\"data row7 col2\" >5.2540</td>\n",
       "    </tr>\n",
       "    <tr>\n",
       "      <th id=\"T_671df_level0_row8\" class=\"row_heading level0 row8\" >2000-06-15 21:00:00</th>\n",
       "      <td id=\"T_671df_row8_col0\" class=\"data row8 col0\" >12.2700</td>\n",
       "      <td id=\"T_671df_row8_col1\" class=\"data row8 col1\" >0.3200</td>\n",
       "      <td id=\"T_671df_row8_col2\" class=\"data row8 col2\" >5.1640</td>\n",
       "    </tr>\n",
       "    <tr>\n",
       "      <th id=\"T_671df_level0_row9\" class=\"row_heading level0 row9\" >2000-06-15 21:30:00</th>\n",
       "      <td id=\"T_671df_row9_col0\" class=\"data row9 col0\" >12.2000</td>\n",
       "      <td id=\"T_671df_row9_col1\" class=\"data row9 col1\" >0.0000</td>\n",
       "      <td id=\"T_671df_row9_col2\" class=\"data row9 col2\" >5.0370</td>\n",
       "    </tr>\n",
       "  </tbody>\n",
       "</table>\n",
       " </div><div> <p style='font-size: 1.3rem;'>control</p> <style type=\"text/css\">\n",
       "</style>\n",
       "<table id=\"T_404af\">\n",
       "  <thead>\n",
       "    <tr>\n",
       "      <th class=\"blank level0\" >&nbsp;</th>\n",
       "      <th id=\"T_404af_level0_col0\" class=\"col_heading level0 col0\" >TA_ERA</th>\n",
       "      <th id=\"T_404af_level0_col1\" class=\"col_heading level0 col1\" >SW_IN_ERA</th>\n",
       "      <th id=\"T_404af_level0_col2\" class=\"col_heading level0 col2\" >VPD_ERA</th>\n",
       "      <th id=\"T_404af_level0_col3\" class=\"col_heading level0 col3\" >TA_ERA_lag_1</th>\n",
       "      <th id=\"T_404af_level0_col4\" class=\"col_heading level0 col4\" >SW_IN_ERA_lag_1</th>\n",
       "      <th id=\"T_404af_level0_col5\" class=\"col_heading level0 col5\" >VPD_ERA_lag_1</th>\n",
       "    </tr>\n",
       "    <tr>\n",
       "      <th class=\"index_name level0\" >time</th>\n",
       "      <th class=\"blank col0\" >&nbsp;</th>\n",
       "      <th class=\"blank col1\" >&nbsp;</th>\n",
       "      <th class=\"blank col2\" >&nbsp;</th>\n",
       "      <th class=\"blank col3\" >&nbsp;</th>\n",
       "      <th class=\"blank col4\" >&nbsp;</th>\n",
       "      <th class=\"blank col5\" >&nbsp;</th>\n",
       "    </tr>\n",
       "  </thead>\n",
       "  <tbody>\n",
       "    <tr>\n",
       "      <th id=\"T_404af_level0_row0\" class=\"row_heading level0 row0\" >2000-06-15 17:00:00</th>\n",
       "      <td id=\"T_404af_row0_col0\" class=\"data row0 col0\" >15.0500</td>\n",
       "      <td id=\"T_404af_row0_col1\" class=\"data row0 col1\" >255.1930</td>\n",
       "      <td id=\"T_404af_row0_col2\" class=\"data row0 col2\" >5.1020</td>\n",
       "      <td id=\"T_404af_row0_col3\" class=\"data row0 col3\" >15.1390</td>\n",
       "      <td id=\"T_404af_row0_col4\" class=\"data row0 col4\" >287.1000</td>\n",
       "      <td id=\"T_404af_row0_col5\" class=\"data row0 col5\" >4.9000</td>\n",
       "    </tr>\n",
       "    <tr>\n",
       "      <th id=\"T_404af_level0_row1\" class=\"row_heading level0 row1\" >2000-06-15 17:30:00</th>\n",
       "      <td id=\"T_404af_row1_col0\" class=\"data row1 col0\" >14.9610</td>\n",
       "      <td id=\"T_404af_row1_col1\" class=\"data row1 col1\" >221.4270</td>\n",
       "      <td id=\"T_404af_row1_col2\" class=\"data row1 col2\" >5.3050</td>\n",
       "      <td id=\"T_404af_row1_col3\" class=\"data row1 col3\" >15.0500</td>\n",
       "      <td id=\"T_404af_row1_col4\" class=\"data row1 col4\" >255.1930</td>\n",
       "      <td id=\"T_404af_row1_col5\" class=\"data row1 col5\" >5.1020</td>\n",
       "    </tr>\n",
       "    <tr>\n",
       "      <th id=\"T_404af_level0_row2\" class=\"row_heading level0 row2\" >2000-06-15 18:00:00</th>\n",
       "      <td id=\"T_404af_row2_col0\" class=\"data row2 col0\" >14.8720</td>\n",
       "      <td id=\"T_404af_row2_col1\" class=\"data row2 col1\" >186.3800</td>\n",
       "      <td id=\"T_404af_row2_col2\" class=\"data row2 col2\" >5.5070</td>\n",
       "      <td id=\"T_404af_row2_col3\" class=\"data row2 col3\" >14.9610</td>\n",
       "      <td id=\"T_404af_row2_col4\" class=\"data row2 col4\" >221.4270</td>\n",
       "      <td id=\"T_404af_row2_col5\" class=\"data row2 col5\" >5.3050</td>\n",
       "    </tr>\n",
       "    <tr>\n",
       "      <th id=\"T_404af_level0_row3\" class=\"row_heading level0 row3\" >2000-06-15 18:30:00</th>\n",
       "      <td id=\"T_404af_row3_col0\" class=\"data row3 col0\" >14.7830</td>\n",
       "      <td id=\"T_404af_row3_col1\" class=\"data row3 col1\" >150.6500</td>\n",
       "      <td id=\"T_404af_row3_col2\" class=\"data row3 col2\" >5.7100</td>\n",
       "      <td id=\"T_404af_row3_col3\" class=\"data row3 col3\" >14.8720</td>\n",
       "      <td id=\"T_404af_row3_col4\" class=\"data row3 col4\" >186.3800</td>\n",
       "      <td id=\"T_404af_row3_col5\" class=\"data row3 col5\" >5.5070</td>\n",
       "    </tr>\n",
       "    <tr>\n",
       "      <th id=\"T_404af_level0_row4\" class=\"row_heading level0 row4\" >2000-06-15 19:00:00</th>\n",
       "      <td id=\"T_404af_row4_col0\" class=\"data row4 col0\" >14.6940</td>\n",
       "      <td id=\"T_404af_row4_col1\" class=\"data row4 col1\" >114.8490</td>\n",
       "      <td id=\"T_404af_row4_col2\" class=\"data row4 col2\" >5.9120</td>\n",
       "      <td id=\"T_404af_row4_col3\" class=\"data row4 col3\" >14.7830</td>\n",
       "      <td id=\"T_404af_row4_col4\" class=\"data row4 col4\" >150.6500</td>\n",
       "      <td id=\"T_404af_row4_col5\" class=\"data row4 col5\" >5.7100</td>\n",
       "    </tr>\n",
       "    <tr>\n",
       "      <th id=\"T_404af_level0_row5\" class=\"row_heading level0 row5\" >2000-06-15 19:30:00</th>\n",
       "      <td id=\"T_404af_row5_col0\" class=\"data row5 col0\" >14.6060</td>\n",
       "      <td id=\"T_404af_row5_col1\" class=\"data row5 col1\" >34.7280</td>\n",
       "      <td id=\"T_404af_row5_col2\" class=\"data row5 col2\" >6.1140</td>\n",
       "      <td id=\"T_404af_row5_col3\" class=\"data row5 col3\" >14.6940</td>\n",
       "      <td id=\"T_404af_row5_col4\" class=\"data row5 col4\" >114.8490</td>\n",
       "      <td id=\"T_404af_row5_col5\" class=\"data row5 col5\" >5.9120</td>\n",
       "    </tr>\n",
       "    <tr>\n",
       "      <th id=\"T_404af_level0_row6\" class=\"row_heading level0 row6\" >2000-06-15 20:00:00</th>\n",
       "      <td id=\"T_404af_row6_col0\" class=\"data row6 col0\" >14.3800</td>\n",
       "      <td id=\"T_404af_row6_col1\" class=\"data row6 col1\" >19.8430</td>\n",
       "      <td id=\"T_404af_row6_col2\" class=\"data row6 col2\" >6.0740</td>\n",
       "      <td id=\"T_404af_row6_col3\" class=\"data row6 col3\" >14.6060</td>\n",
       "      <td id=\"T_404af_row6_col4\" class=\"data row6 col4\" >34.7280</td>\n",
       "      <td id=\"T_404af_row6_col5\" class=\"data row6 col5\" >6.1140</td>\n",
       "    </tr>\n",
       "    <tr>\n",
       "      <th id=\"T_404af_level0_row7\" class=\"row_heading level0 row7\" >2000-06-15 20:30:00</th>\n",
       "      <td id=\"T_404af_row7_col0\" class=\"data row7 col0\" >14.1550</td>\n",
       "      <td id=\"T_404af_row7_col1\" class=\"data row7 col1\" >5.7120</td>\n",
       "      <td id=\"T_404af_row7_col2\" class=\"data row7 col2\" >6.0340</td>\n",
       "      <td id=\"T_404af_row7_col3\" class=\"data row7 col3\" >14.3800</td>\n",
       "      <td id=\"T_404af_row7_col4\" class=\"data row7 col4\" >19.8430</td>\n",
       "      <td id=\"T_404af_row7_col5\" class=\"data row7 col5\" >6.0740</td>\n",
       "    </tr>\n",
       "    <tr>\n",
       "      <th id=\"T_404af_level0_row8\" class=\"row_heading level0 row8\" >2000-06-15 21:00:00</th>\n",
       "      <td id=\"T_404af_row8_col0\" class=\"data row8 col0\" >13.9290</td>\n",
       "      <td id=\"T_404af_row8_col1\" class=\"data row8 col1\" >0.0000</td>\n",
       "      <td id=\"T_404af_row8_col2\" class=\"data row8 col2\" >5.9940</td>\n",
       "      <td id=\"T_404af_row8_col3\" class=\"data row8 col3\" >14.1550</td>\n",
       "      <td id=\"T_404af_row8_col4\" class=\"data row8 col4\" >5.7120</td>\n",
       "      <td id=\"T_404af_row8_col5\" class=\"data row8 col5\" >6.0340</td>\n",
       "    </tr>\n",
       "    <tr>\n",
       "      <th id=\"T_404af_level0_row9\" class=\"row_heading level0 row9\" >2000-06-15 21:30:00</th>\n",
       "      <td id=\"T_404af_row9_col0\" class=\"data row9 col0\" >13.7040</td>\n",
       "      <td id=\"T_404af_row9_col1\" class=\"data row9 col1\" >0.0000</td>\n",
       "      <td id=\"T_404af_row9_col2\" class=\"data row9 col2\" >5.9540</td>\n",
       "      <td id=\"T_404af_row9_col3\" class=\"data row9 col3\" >13.9290</td>\n",
       "      <td id=\"T_404af_row9_col4\" class=\"data row9 col4\" >0.0000</td>\n",
       "      <td id=\"T_404af_row9_col5\" class=\"data row9 col5\" >5.9940</td>\n",
       "    </tr>\n",
       "  </tbody>\n",
       "</table>\n",
       " </div></div>"
      ],
      "text/plain": [
       "DataControl(data=                        TA       SW_IN    VPD\n",
       "time                                         \n",
       "2000-06-15 17:00:00  14.22  224.800003  5.799\n",
       "2000-06-15 17:30:00  14.11  195.279999  6.577\n",
       "2000-06-15 18:00:00  14.23  244.169998  6.931\n",
       "2000-06-15 18:30:00  14.40  253.919998  7.286\n",
       "2000-06-15 19:00:00  14.09  177.309998  7.251\n",
       "2000-06-15 19:30:00  13.71   97.070000  6.683\n",
       "2000-06-15 20:00:00  13.08   39.709999  5.851\n",
       "2000-06-15 20:30:00  12.41   10.650000  5.254\n",
       "2000-06-15 21:00:00  12.27    0.320000  5.164\n",
       "2000-06-15 21:30:00  12.20    0.000000  5.037, control=                     TA_ERA   SW_IN_ERA  VPD_ERA  TA_ERA_lag_1  \\\n",
       "time                                                             \n",
       "2000-06-15 17:00:00  15.050  255.192993    5.102        15.139   \n",
       "2000-06-15 17:30:00  14.961  221.427002    5.305        15.050   \n",
       "2000-06-15 18:00:00  14.872  186.380005    5.507        14.961   \n",
       "2000-06-15 18:30:00  14.783  150.649994    5.710        14.872   \n",
       "2000-06-15 19:00:00  14.694  114.848999    5.912        14.783   \n",
       "2000-06-15 19:30:00  14.606   34.728001    6.114        14.694   \n",
       "2000-06-15 20:00:00  14.380   19.843000    6.074        14.606   \n",
       "2000-06-15 20:30:00  14.155    5.712000    6.034        14.380   \n",
       "2000-06-15 21:00:00  13.929    0.000000    5.994        14.155   \n",
       "2000-06-15 21:30:00  13.704    0.000000    5.954        13.929   \n",
       "\n",
       "                     SW_IN_ERA_lag_1  VPD_ERA_lag_1  \n",
       "time                                                 \n",
       "2000-06-15 17:00:00       287.100006          4.900  \n",
       "2000-06-15 17:30:00       255.192993          5.102  \n",
       "2000-06-15 18:00:00       221.427002          5.305  \n",
       "2000-06-15 18:30:00       186.380005          5.507  \n",
       "2000-06-15 19:00:00       150.649994          5.710  \n",
       "2000-06-15 19:30:00       114.848999          5.912  \n",
       "2000-06-15 20:00:00        34.728001          6.114  \n",
       "2000-06-15 20:30:00        19.843000          6.074  \n",
       "2000-06-15 21:00:00         5.712000          6.034  \n",
       "2000-06-15 21:30:00         0.000000          5.994  )"
      ]
     },
     "execution_count": null,
     "metadata": {},
     "output_type": "execute_result"
    }
   ],
   "source": [
    "tfms1[0]"
   ]
  },
  {
   "cell_type": "markdown",
   "id": "cc7af1e4-516c-4536-ab92-a5d19eec00fc",
   "metadata": {},
   "source": [
    "### 3) Gaps"
   ]
  },
  {
   "cell_type": "markdown",
   "id": "f2fe95d9-43bb-4174-8b9d-d5e87fdc3930",
   "metadata": {},
   "source": [
    "adds a mask which includes a random gap"
   ]
  },
  {
   "cell_type": "markdown",
   "id": "94bc9530-dd11-4606-a80b-77b9a2a353dc",
   "metadata": {},
   "source": [
    "#### Make random Gap"
   ]
  },
  {
   "cell_type": "code",
   "execution_count": null,
   "id": "37358f56-f705-4d3c-b39f-ac810447a635",
   "metadata": {},
   "outputs": [],
   "source": [
    "idx = L(*tfms1[0].data.columns).argwhere(lambda x: x in ['TA','SW_IN'])"
   ]
  },
  {
   "cell_type": "code",
   "execution_count": null,
   "id": "9126e8d1-3f99-40ba-b4ac-e5ac0f5cfd6c",
   "metadata": {},
   "outputs": [],
   "source": [
    "mask = np.ones_like(tfms1[0].data, dtype=bool)"
   ]
  },
  {
   "cell_type": "code",
   "execution_count": null,
   "id": "a9bf7480-1580-490d-8ce9-a0c47ef6c2a3",
   "metadata": {},
   "outputs": [
    {
     "data": {
      "text/plain": [
       "array([[ True,  True,  True],\n",
       "       [ True,  True,  True],\n",
       "       [ True,  True,  True],\n",
       "       [ True,  True,  True],\n",
       "       [ True,  True,  True],\n",
       "       [ True,  True,  True],\n",
       "       [ True,  True,  True],\n",
       "       [ True,  True,  True],\n",
       "       [ True,  True,  True],\n",
       "       [ True,  True,  True]])"
      ]
     },
     "execution_count": null,
     "metadata": {},
     "output_type": "execute_result"
    }
   ],
   "source": [
    "mask"
   ]
  },
  {
   "cell_type": "code",
   "execution_count": null,
   "id": "0c90ac7a-c0e8-4994-9268-8ae6c0739a84",
   "metadata": {},
   "outputs": [],
   "source": [
    "#| exports\n",
    "def _make_random_gap(\n",
    "    gap_length: int, # The length of the gap\n",
    "    total_length: int, # The total number of observations\n",
    "    gap_start: int # Optional start of gap\n",
    ")-> np.ndarray: # [total_length] array of bools to indicicate if the data is missing or not\n",
    "    \"Add a continous gap of given length at random position\"\n",
    "    if(gap_length >= total_length):\n",
    "        return np.repeat(True, total_length)\n",
    "    return np.hstack([\n",
    "        np.repeat(False, gap_start),\n",
    "        np.repeat(True, gap_length),\n",
    "        np.repeat(False, total_length - (gap_length + gap_start))\n",
    "    ])"
   ]
  },
  {
   "cell_type": "code",
   "execution_count": null,
   "id": "7ba57b44-2632-4ada-af4d-20b2678e6798",
   "metadata": {},
   "outputs": [],
   "source": [
    "gap = _make_random_gap(2, 10, 2)"
   ]
  },
  {
   "cell_type": "code",
   "execution_count": null,
   "id": "614d77ee-5fa7-49bd-b0e2-2bd9539b3c67",
   "metadata": {},
   "outputs": [
    {
     "data": {
      "text/plain": [
       "array([False, False,  True,  True, False, False, False, False, False,\n",
       "       False])"
      ]
     },
     "execution_count": null,
     "metadata": {},
     "output_type": "execute_result"
    }
   ],
   "source": [
    "gap"
   ]
  },
  {
   "cell_type": "code",
   "execution_count": null,
   "id": "2cfdf0a8-6761-43fb-a716-af7d391bd36c",
   "metadata": {},
   "outputs": [
    {
     "data": {
      "text/plain": [
       "array([[2],\n",
       "       [3]])"
      ]
     },
     "execution_count": null,
     "metadata": {},
     "output_type": "execute_result"
    }
   ],
   "source": [
    "np.argwhere(gap)"
   ]
  },
  {
   "cell_type": "code",
   "execution_count": null,
   "id": "c4892a92-5850-4529-991d-24c9a1cebf14",
   "metadata": {},
   "outputs": [],
   "source": [
    "mask[np.argwhere(gap), idx] = False"
   ]
  },
  {
   "cell_type": "code",
   "execution_count": null,
   "id": "5cf78fa7-3c14-43e6-a370-085f74f48ffa",
   "metadata": {},
   "outputs": [
    {
     "data": {
      "text/plain": [
       "array([[ True,  True,  True],\n",
       "       [ True,  True,  True],\n",
       "       [False, False,  True],\n",
       "       [False, False,  True],\n",
       "       [ True,  True,  True],\n",
       "       [ True,  True,  True],\n",
       "       [ True,  True,  True],\n",
       "       [ True,  True,  True],\n",
       "       [ True,  True,  True],\n",
       "       [ True,  True,  True]])"
      ]
     },
     "execution_count": null,
     "metadata": {},
     "output_type": "execute_result"
    }
   ],
   "source": [
    "mask"
   ]
  },
  {
   "cell_type": "code",
   "execution_count": null,
   "id": "39d845e1-4869-4d99-ad55-d851e44bc5cc",
   "metadata": {},
   "outputs": [
    {
     "data": {
      "text/plain": [
       "array([[False, False,  True],\n",
       "       [False, False,  True]])"
      ]
     },
     "execution_count": null,
     "metadata": {},
     "output_type": "execute_result"
    }
   ],
   "source": [
    "mask[gap]"
   ]
  },
  {
   "cell_type": "markdown",
   "id": "0c22883e-b015-46e6-85a3-981c7629301c",
   "metadata": {},
   "source": [
    "#### Gap Len Generator"
   ]
  },
  {
   "cell_type": "markdown",
   "id": "f1830bad-10d4-4e9d-b5a3-58b60f9506e1",
   "metadata": {},
   "source": [
    "The gap lengths are drawn from a gamma distribution, so we have a long tail and a min value of 0, but compared to an exponentail distributions we don't have many gaps of len 0\n",
    "\n",
    "\n",
    "$$ p(x)=\\frac{1}{\\Gamma(k) \\theta^k} x^{k - 1} e^{-\\frac{x}{\\theta}}$$"
   ]
  },
  {
   "cell_type": "markdown",
   "id": "5a2bc417-8be6-446e-8769-cfaa84db0013",
   "metadata": {},
   "source": [
    "$$\\begin{align}\\mu &= k\\theta\\\\\n",
    "m &= (k-1)\\theta \\end{align}$$\n",
    "where $m$ is the mode and $\\mu$ is the mean (for $k>1$), which is what we want"
   ]
  },
  {
   "cell_type": "code",
   "execution_count": null,
   "id": "5f47ee76-b055-450a-b198-55a414102c35",
   "metadata": {},
   "outputs": [
    {
     "data": {
      "image/png": "[encoded data removed]",
      "text/plain": [
       "<Figure size 432x288 with 1 Axes>"
      ]
     },
     "metadata": {
      "needs_background": "light"
     },
     "output_type": "display_data"
    }
   ],
   "source": [
    "import matplotlib.pyplot as plt\n",
    "\n",
    "import scipy.special as sps  \n",
    "\n",
    "mean = 10\n",
    "\n",
    "scale = mean * .6\n",
    "shape = mean/scale\n",
    "\n",
    "mode = (shape-1)*scale\n",
    "\n",
    "x = np.arange(0,100)\n",
    "\n",
    "y = x**(shape-1)*(np.exp(-x/scale) / (sps.gamma(shape)*scale**shape))\n",
    "\n",
    "plt.plot(x, y)  \n",
    "\n",
    "plt.show()"
   ]
  },
  {
   "cell_type": "markdown",
   "id": "c798886c-ab52-4c96-bcb6-453032fb4769",
   "metadata": {},
   "source": [
    "This is a very guessestimate of a good probability density distribution of the gap len. The actual measure should come from the fluxnet data"
   ]
  },
  {
   "cell_type": "code",
   "execution_count": null,
   "id": "0789a04b-cc08-41e6-96ee-bf8529f1bb40",
   "metadata": {},
   "outputs": [],
   "source": [
    "#| export\n",
    "def gen_gap_len(mean: float, min_v = 1): \n",
    "    scale = mean*.6\n",
    "    shape = mean/scale\n",
    "    while True:\n",
    "        yield max(int(np.random.gamma(scale=scale, shape=shape)), min_v)"
   ]
  },
  {
   "cell_type": "code",
   "execution_count": null,
   "id": "d640b016-b69e-4fdf-83c2-0ca816b0f6d2",
   "metadata": {},
   "outputs": [
    {
     "data": {
      "text/plain": [
       "2"
      ]
     },
     "execution_count": null,
     "metadata": {},
     "output_type": "execute_result"
    }
   ],
   "source": [
    "next(gen_gap_len(1))"
   ]
  },
  {
   "cell_type": "code",
   "execution_count": null,
   "id": "3f39f1e1-a7a3-42ac-9e05-236e55961893",
   "metadata": {},
   "outputs": [],
   "source": [
    "g_len = gen_gap_len(10)"
   ]
  },
  {
   "cell_type": "code",
   "execution_count": null,
   "id": "5df51631-3e2d-4a51-8335-3d02d30b8a42",
   "metadata": {},
   "outputs": [
    {
     "data": {
      "text/plain": [
       "array([[<AxesSubplot: title={'center': '0'}>]], dtype=object)"
      ]
     },
     "execution_count": null,
     "metadata": {},
     "output_type": "execute_result"
    },
    {
     "data": {
      "image/png": "[encoded data removed]",
      "text/plain": [
       "<Figure size 432x288 with 1 Axes>"
      ]
     },
     "metadata": {
      "needs_background": "light"
     },
     "output_type": "display_data"
    }
   ],
   "source": [
    "gap_lens_sample = pd.DataFrame([next(g_len) for _ in range(1000)])\n",
    "gap_lens_sample.hist(bins=gap_lens_sample[0].max()//2)"
   ]
  },
  {
   "cell_type": "markdown",
   "id": "8091cdec-15d2-4217-8b43-9249ea371271",
   "metadata": {},
   "source": [
    "#### Var Sel Generator "
   ]
  },
  {
   "cell_type": "markdown",
   "id": "92991f89-506d-4270-bda4-debdec843b95",
   "metadata": {},
   "source": [
    "draws a number of variables from a uniform distribution from 1 to the max n of vars and then select the variables with equal probability"
   ]
  },
  {
   "cell_type": "code",
   "execution_count": null,
   "id": "72965b56-7aeb-4764-994c-8f581bdc4921",
   "metadata": {},
   "outputs": [],
   "source": [
    "#| export\n",
    "def gen_var_sel(vars):\n",
    "    while True:\n",
    "        n_var = np.random.randint(1,1+len(vars))\n",
    "        yield np.random.choice(np.array(vars), size=n_var, replace=False)"
   ]
  },
  {
   "cell_type": "code",
   "execution_count": null,
   "id": "11c7a614-bd1a-44de-a39a-acaccc81d4da",
   "metadata": {},
   "outputs": [],
   "source": [
    "g_var = gen_var_sel(list(\"abcdefg\")) "
   ]
  },
  {
   "cell_type": "code",
   "execution_count": null,
   "id": "39e859cb-13e6-43b4-baa0-49d76cb0938a",
   "metadata": {},
   "outputs": [
    {
     "data": {
      "text/plain": [
       "[array(['e', 'a', 'c', 'f', 'd', 'g', 'b'], dtype='<U1'),\n",
       " array(['b', 'g', 'e', 'f', 'c'], dtype='<U1'),\n",
       " array(['e', 'a', 'b', 'g', 'c', 'd'], dtype='<U1'),\n",
       " array(['a'], dtype='<U1'),\n",
       " array(['e', 'd', 'c', 'g', 'b', 'f', 'a'], dtype='<U1')]"
      ]
     },
     "execution_count": null,
     "metadata": {},
     "output_type": "execute_result"
    }
   ],
   "source": [
    "[next(g_var) for _ in range(5)]"
   ]
  },
  {
   "cell_type": "code",
   "execution_count": null,
   "id": "bd812293-761e-4323-8377-8eab0de73c39",
   "metadata": {},
   "outputs": [],
   "source": [
    "g_var = gen_var_sel([\"a\", \"bb\", \"ccc\"]) "
   ]
  },
  {
   "cell_type": "code",
   "execution_count": null,
   "id": "4caf499a-260b-4c37-bfb3-bdcd06bcaae0",
   "metadata": {},
   "outputs": [
    {
     "data": {
      "text/plain": [
       "[array(['ccc', 'a'], dtype='<U3'),\n",
       " array(['bb', 'ccc'], dtype='<U3'),\n",
       " array(['bb', 'ccc'], dtype='<U3'),\n",
       " array(['a', 'bb', 'ccc'], dtype='<U3'),\n",
       " array(['a', 'bb', 'ccc'], dtype='<U3')]"
      ]
     },
     "execution_count": null,
     "metadata": {},
     "output_type": "execute_result"
    }
   ],
   "source": [
    "[next(g_var) for _ in range(5)]"
   ]
  },
  {
   "cell_type": "code",
   "execution_count": null,
   "id": "7302f3cf-c961-49fc-b84c-dde363c89c90",
   "metadata": {},
   "outputs": [],
   "source": [
    "g_var = gen_var_sel(['TA', 'VPD', 'SW_IN'])"
   ]
  },
  {
   "cell_type": "code",
   "execution_count": null,
   "id": "9045f4dc-be11-4a6f-8f04-49a768b47c7c",
   "metadata": {},
   "outputs": [
    {
     "data": {
      "text/plain": [
       "[array(['TA', 'VPD', 'SW_IN'], dtype='<U5'),\n",
       " array(['VPD', 'SW_IN'], dtype='<U5'),\n",
       " array(['TA'], dtype='<U5'),\n",
       " array(['SW_IN', 'VPD', 'TA'], dtype='<U5'),\n",
       " array(['SW_IN', 'VPD', 'TA'], dtype='<U5'),\n",
       " array(['TA', 'VPD'], dtype='<U5'),\n",
       " array(['VPD'], dtype='<U5'),\n",
       " array(['TA'], dtype='<U5'),\n",
       " array(['TA', 'SW_IN'], dtype='<U5'),\n",
       " array(['TA', 'VPD', 'SW_IN'], dtype='<U5')]"
      ]
     },
     "execution_count": null,
     "metadata": {},
     "output_type": "execute_result"
    }
   ],
   "source": [
    "[next(g_var) for _ in range(10)]"
   ]
  },
  {
   "cell_type": "markdown",
   "id": "437bd01a-3335-4946-a655-5a1ed3ee9a52",
   "metadata": {},
   "source": [
    "#### Add Gap Transform"
   ]
  },
  {
   "cell_type": "code",
   "execution_count": null,
   "id": "d5a40f54-63ff-4028-84d7-37ba2061afec",
   "metadata": {},
   "outputs": [],
   "source": [
    "#| export\n",
    "from collections.abc import Iterable, Generator"
   ]
  },
  {
   "cell_type": "code",
   "execution_count": null,
   "id": "4e28482a-f6d0-4ba4-a8e7-c67987ff0eaf",
   "metadata": {},
   "outputs": [],
   "source": [
    "#| export\n",
    "def as_generator(x: Generator|object):\n",
    "    \"\"\"Maybe convert iterable to generator\"\"\"\n",
    "    if isinstance(x, Generator): return x\n",
    "    else: return cycle((x,))"
   ]
  },
  {
   "cell_type": "code",
   "execution_count": null,
   "id": "ed99d217-beb5-444e-94a1-a617a69b93c5",
   "metadata": {},
   "outputs": [
    {
     "data": {
      "text/plain": [
       "True"
      ]
     },
     "execution_count": null,
     "metadata": {},
     "output_type": "execute_result"
    }
   ],
   "source": [
    "isinstance(g_var, Iterable)"
   ]
  },
  {
   "cell_type": "code",
   "execution_count": null,
   "id": "8ac16a8f-d155-4443-ace4-0a75f261d5ee",
   "metadata": {},
   "outputs": [
    {
     "data": {
      "text/plain": [
       "(<generator object gen_var_sel>,\n",
       " array(['SW_IN', 'VPD'], dtype='<U5'))"
      ]
     },
     "execution_count": null,
     "metadata": {},
     "output_type": "execute_result"
    }
   ],
   "source": [
    "as_generator(g_var), next(as_generator(g_var))"
   ]
  },
  {
   "cell_type": "code",
   "execution_count": null,
   "id": "ed71d5f0-addf-453d-83ef-89def84d9953",
   "metadata": {},
   "outputs": [
    {
     "data": {
      "text/plain": [
       "(<itertools.cycle>, [1, 2])"
      ]
     },
     "execution_count": null,
     "metadata": {},
     "output_type": "execute_result"
    }
   ],
   "source": [
    "as_generator([1,2]), next(as_generator([1,2]))"
   ]
  },
  {
   "cell_type": "code",
   "execution_count": null,
   "id": "94dcd2e0-9d32-471b-bebd-088d3e487a1f",
   "metadata": {},
   "outputs": [],
   "source": [
    "#| export\n",
    "class MeteoImpDf:\n",
    "    def __init__(self,*args):\n",
    "        self.data = args[0]\n",
    "        self.mask = args[1]\n",
    "        self.control = args[2]\n",
    "    def __iter__(self): return iter((self.data, self.mask, self.control,))\n",
    "    __repr__ = basic_repr(\"data, mask, control\")\n",
    "    def _repr_html_(self):\n",
    "        return row_dfs({'data': self.data, 'mask': self.mask, 'control': self.control}, title=\"Meteo Imp Df\", hide_idx=False)"
   ]
  },
  {
   "cell_type": "code",
   "execution_count": null,
   "id": "c71f35e5-ace8-41a6-806c-d5b14c520e7a",
   "metadata": {},
   "outputs": [],
   "source": [
    "#| export\n",
    "class AddGapTransform(Transform):\n",
    "    \"\"\"Adds a random gap to a dataframe\"\"\"\n",
    "    def __init__(self,\n",
    "                variables,\n",
    "                gap_length,\n",
    "                gap_start \n",
    "                ):\n",
    "        self.gen_var, self.gen_gap = as_generator(variables), as_generator(gap_length)\n",
    "        self.gap_start = gap_start\n",
    "    def _yield_gens(self):\n",
    "        self.variables, self.gap_length = next(self.gen_var), next(self.gen_gap)\n",
    "        return self\n",
    "    def encodes(self, dc: DataControl) -> MeteoImpDf:\n",
    "        df, control = dc\n",
    "        self._yield_gens()\n",
    "        gap = _make_random_gap(self.gap_length, df.shape[0], self.gap_start)\n",
    "        mask = np.ones_like(df, dtype=bool)\n",
    "        col_sel = L(*df.columns).argwhere(lambda x: x in self.variables)\n",
    "        mask[np.argwhere(gap), col_sel] = False\n",
    "        mask = pd.DataFrame(mask, index=df.index, columns=df.columns)\n",
    "        return MeteoImpDf(df, mask, control)"
   ]
  },
  {
   "cell_type": "code",
   "execution_count": null,
   "id": "47a56595-0fc1-4a7a-a9c6-38497079acb3",
   "metadata": {},
   "outputs": [
    {
     "data": {
      "text/html": [
       "<div>\n",
       "  <p>\n",
       "    <strong>AddGapTransform</strong>\n",
       "  </p>\n",
       "  <p>(DataControl,object) -&gt; encodes\n",
       "</p>\n",
       "  <p></p>\n",
       "</div>"
      ],
      "text/plain": [
       "AddGapTransform:\n",
       "encodes: (DataControl,object) -> encodes\n",
       "decodes: "
      ]
     },
     "execution_count": null,
     "metadata": {},
     "output_type": "execute_result"
    }
   ],
   "source": [
    "a_gap = AddGapTransform(['TA', 'VPD'], 5, 1)\n",
    "a_gap"
   ]
  },
  {
   "cell_type": "code",
   "execution_count": null,
   "id": "68be29fc-a920-491c-a726-f75ab204aa27",
   "metadata": {},
   "outputs": [
    {
     "data": {
      "text/plain": [
       "([['TA', 'VPD'], ['TA', 'VPD'], ['TA', 'VPD'], ['TA', 'VPD'], ['TA', 'VPD']],\n",
       " [5, 5, 5, 5, 5])"
      ]
     },
     "execution_count": null,
     "metadata": {},
     "output_type": "execute_result"
    }
   ],
   "source": [
    "[a_gap._yield_gens().variables for _ in range(5)], [a_gap._yield_gens().gap_length for _ in range(5)]"
   ]
  },
  {
   "cell_type": "code",
   "execution_count": null,
   "id": "4cccf855-1b03-43da-9318-da569a238bf1",
   "metadata": {},
   "outputs": [],
   "source": [
    "g_var = gen_var_sel(['TA', 'VPD'])"
   ]
  },
  {
   "cell_type": "code",
   "execution_count": null,
   "id": "11b951ba-6b09-4f37-870c-65f90302d903",
   "metadata": {},
   "outputs": [
    {
     "data": {
      "text/html": [
       "<div>\n",
       "  <p>\n",
       "    <strong>AddGapTransform</strong>\n",
       "  </p>\n",
       "  <p>(DataControl,object) -&gt; encodes\n",
       "</p>\n",
       "  <p></p>\n",
       "</div>"
      ],
      "text/plain": [
       "AddGapTransform:\n",
       "encodes: (DataControl,object) -> encodes\n",
       "decodes: "
      ]
     },
     "execution_count": null,
     "metadata": {},
     "output_type": "execute_result"
    }
   ],
   "source": [
    "a_gap2 = AddGapTransform(g_var, gen_gap_len(5), 1)\n",
    "a_gap2"
   ]
  },
  {
   "cell_type": "code",
   "execution_count": null,
   "id": "098ab15f-558a-48ac-b008-e5c86706a9d6",
   "metadata": {},
   "outputs": [
    {
     "data": {
      "text/plain": [
       "([array(['VPD'], dtype='<U3'),\n",
       "  array(['VPD', 'TA'], dtype='<U3'),\n",
       "  array(['TA', 'VPD'], dtype='<U3'),\n",
       "  array(['TA', 'VPD'], dtype='<U3'),\n",
       "  array(['VPD'], dtype='<U3')],\n",
       " [4, 2, 3, 2, 4])"
      ]
     },
     "execution_count": null,
     "metadata": {},
     "output_type": "execute_result"
    }
   ],
   "source": [
    "[a_gap2._yield_gens().variables for _ in range(5)], [a_gap2._yield_gens().gap_length for _ in range(5)]"
   ]
  },
  {
   "cell_type": "code",
   "execution_count": null,
   "id": "27f2cc9f-4d0a-42a5-90bf-f4ca999918f7",
   "metadata": {},
   "outputs": [
    {
     "data": {
      "text/html": [
       "<p style='font-size: 1.5rem; font-decoration: bold'>Meteo Imp Df<p><div style=\"display: flex; column-gap: 20px; flex-wrap: wrap;\" class='table table-striped table-sm'> <div> <p style='font-size: 1.3rem;'>data</p> <style type=\"text/css\">\n",
       "</style>\n",
       "<table id=\"T_d8c46\">\n",
       "  <thead>\n",
       "    <tr>\n",
       "      <th class=\"blank level0\" >&nbsp;</th>\n",
       "      <th id=\"T_d8c46_level0_col0\" class=\"col_heading level0 col0\" >TA</th>\n",
       "      <th id=\"T_d8c46_level0_col1\" class=\"col_heading level0 col1\" >SW_IN</th>\n",
       "      <th id=\"T_d8c46_level0_col2\" class=\"col_heading level0 col2\" >VPD</th>\n",
       "    </tr>\n",
       "    <tr>\n",
       "      <th class=\"index_name level0\" >time</th>\n",
       "      <th class=\"blank col0\" >&nbsp;</th>\n",
       "      <th class=\"blank col1\" >&nbsp;</th>\n",
       "      <th class=\"blank col2\" >&nbsp;</th>\n",
       "    </tr>\n",
       "  </thead>\n",
       "  <tbody>\n",
       "    <tr>\n",
       "      <th id=\"T_d8c46_level0_row0\" class=\"row_heading level0 row0\" >2000-06-15 17:00:00</th>\n",
       "      <td id=\"T_d8c46_row0_col0\" class=\"data row0 col0\" >14.2200</td>\n",
       "      <td id=\"T_d8c46_row0_col1\" class=\"data row0 col1\" >224.8000</td>\n",
       "      <td id=\"T_d8c46_row0_col2\" class=\"data row0 col2\" >5.7990</td>\n",
       "    </tr>\n",
       "    <tr>\n",
       "      <th id=\"T_d8c46_level0_row1\" class=\"row_heading level0 row1\" >2000-06-15 17:30:00</th>\n",
       "      <td id=\"T_d8c46_row1_col0\" class=\"data row1 col0\" >14.1100</td>\n",
       "      <td id=\"T_d8c46_row1_col1\" class=\"data row1 col1\" >195.2800</td>\n",
       "      <td id=\"T_d8c46_row1_col2\" class=\"data row1 col2\" >6.5770</td>\n",
       "    </tr>\n",
       "    <tr>\n",
       "      <th id=\"T_d8c46_level0_row2\" class=\"row_heading level0 row2\" >2000-06-15 18:00:00</th>\n",
       "      <td id=\"T_d8c46_row2_col0\" class=\"data row2 col0\" >14.2300</td>\n",
       "      <td id=\"T_d8c46_row2_col1\" class=\"data row2 col1\" >244.1700</td>\n",
       "      <td id=\"T_d8c46_row2_col2\" class=\"data row2 col2\" >6.9310</td>\n",
       "    </tr>\n",
       "    <tr>\n",
       "      <th id=\"T_d8c46_level0_row3\" class=\"row_heading level0 row3\" >2000-06-15 18:30:00</th>\n",
       "      <td id=\"T_d8c46_row3_col0\" class=\"data row3 col0\" >14.4000</td>\n",
       "      <td id=\"T_d8c46_row3_col1\" class=\"data row3 col1\" >253.9200</td>\n",
       "      <td id=\"T_d8c46_row3_col2\" class=\"data row3 col2\" >7.2860</td>\n",
       "    </tr>\n",
       "    <tr>\n",
       "      <th id=\"T_d8c46_level0_row4\" class=\"row_heading level0 row4\" >2000-06-15 19:00:00</th>\n",
       "      <td id=\"T_d8c46_row4_col0\" class=\"data row4 col0\" >14.0900</td>\n",
       "      <td id=\"T_d8c46_row4_col1\" class=\"data row4 col1\" >177.3100</td>\n",
       "      <td id=\"T_d8c46_row4_col2\" class=\"data row4 col2\" >7.2510</td>\n",
       "    </tr>\n",
       "    <tr>\n",
       "      <th id=\"T_d8c46_level0_row5\" class=\"row_heading level0 row5\" >2000-06-15 19:30:00</th>\n",
       "      <td id=\"T_d8c46_row5_col0\" class=\"data row5 col0\" >13.7100</td>\n",
       "      <td id=\"T_d8c46_row5_col1\" class=\"data row5 col1\" >97.0700</td>\n",
       "      <td id=\"T_d8c46_row5_col2\" class=\"data row5 col2\" >6.6830</td>\n",
       "    </tr>\n",
       "    <tr>\n",
       "      <th id=\"T_d8c46_level0_row6\" class=\"row_heading level0 row6\" >2000-06-15 20:00:00</th>\n",
       "      <td id=\"T_d8c46_row6_col0\" class=\"data row6 col0\" >13.0800</td>\n",
       "      <td id=\"T_d8c46_row6_col1\" class=\"data row6 col1\" >39.7100</td>\n",
       "      <td id=\"T_d8c46_row6_col2\" class=\"data row6 col2\" >5.8510</td>\n",
       "    </tr>\n",
       "    <tr>\n",
       "      <th id=\"T_d8c46_level0_row7\" class=\"row_heading level0 row7\" >2000-06-15 20:30:00</th>\n",
       "      <td id=\"T_d8c46_row7_col0\" class=\"data row7 col0\" >12.4100</td>\n",
       "      <td id=\"T_d8c46_row7_col1\" class=\"data row7 col1\" >10.6500</td>\n",
       "      <td id=\"T_d8c46_row7_col2\" class=\"data row7 col2\" >5.2540</td>\n",
       "    </tr>\n",
       "    <tr>\n",
       "      <th id=\"T_d8c46_level0_row8\" class=\"row_heading level0 row8\" >2000-06-15 21:00:00</th>\n",
       "      <td id=\"T_d8c46_row8_col0\" class=\"data row8 col0\" >12.2700</td>\n",
       "      <td id=\"T_d8c46_row8_col1\" class=\"data row8 col1\" >0.3200</td>\n",
       "      <td id=\"T_d8c46_row8_col2\" class=\"data row8 col2\" >5.1640</td>\n",
       "    </tr>\n",
       "    <tr>\n",
       "      <th id=\"T_d8c46_level0_row9\" class=\"row_heading level0 row9\" >2000-06-15 21:30:00</th>\n",
       "      <td id=\"T_d8c46_row9_col0\" class=\"data row9 col0\" >12.2000</td>\n",
       "      <td id=\"T_d8c46_row9_col1\" class=\"data row9 col1\" >0.0000</td>\n",
       "      <td id=\"T_d8c46_row9_col2\" class=\"data row9 col2\" >5.0370</td>\n",
       "    </tr>\n",
       "  </tbody>\n",
       "</table>\n",
       " </div><div> <p style='font-size: 1.3rem;'>mask</p> <style type=\"text/css\">\n",
       "</style>\n",
       "<table id=\"T_3a33a\">\n",
       "  <thead>\n",
       "    <tr>\n",
       "      <th class=\"blank level0\" >&nbsp;</th>\n",
       "      <th id=\"T_3a33a_level0_col0\" class=\"col_heading level0 col0\" >TA</th>\n",
       "      <th id=\"T_3a33a_level0_col1\" class=\"col_heading level0 col1\" >SW_IN</th>\n",
       "      <th id=\"T_3a33a_level0_col2\" class=\"col_heading level0 col2\" >VPD</th>\n",
       "    </tr>\n",
       "    <tr>\n",
       "      <th class=\"index_name level0\" >time</th>\n",
       "      <th class=\"blank col0\" >&nbsp;</th>\n",
       "      <th class=\"blank col1\" >&nbsp;</th>\n",
       "      <th class=\"blank col2\" >&nbsp;</th>\n",
       "    </tr>\n",
       "  </thead>\n",
       "  <tbody>\n",
       "    <tr>\n",
       "      <th id=\"T_3a33a_level0_row0\" class=\"row_heading level0 row0\" >2000-06-15 17:00:00</th>\n",
       "      <td id=\"T_3a33a_row0_col0\" class=\"data row0 col0\" >True</td>\n",
       "      <td id=\"T_3a33a_row0_col1\" class=\"data row0 col1\" >True</td>\n",
       "      <td id=\"T_3a33a_row0_col2\" class=\"data row0 col2\" >True</td>\n",
       "    </tr>\n",
       "    <tr>\n",
       "      <th id=\"T_3a33a_level0_row1\" class=\"row_heading level0 row1\" >2000-06-15 17:30:00</th>\n",
       "      <td id=\"T_3a33a_row1_col0\" class=\"data row1 col0\" >False</td>\n",
       "      <td id=\"T_3a33a_row1_col1\" class=\"data row1 col1\" >True</td>\n",
       "      <td id=\"T_3a33a_row1_col2\" class=\"data row1 col2\" >False</td>\n",
       "    </tr>\n",
       "    <tr>\n",
       "      <th id=\"T_3a33a_level0_row2\" class=\"row_heading level0 row2\" >2000-06-15 18:00:00</th>\n",
       "      <td id=\"T_3a33a_row2_col0\" class=\"data row2 col0\" >False</td>\n",
       "      <td id=\"T_3a33a_row2_col1\" class=\"data row2 col1\" >True</td>\n",
       "      <td id=\"T_3a33a_row2_col2\" class=\"data row2 col2\" >False</td>\n",
       "    </tr>\n",
       "    <tr>\n",
       "      <th id=\"T_3a33a_level0_row3\" class=\"row_heading level0 row3\" >2000-06-15 18:30:00</th>\n",
       "      <td id=\"T_3a33a_row3_col0\" class=\"data row3 col0\" >False</td>\n",
       "      <td id=\"T_3a33a_row3_col1\" class=\"data row3 col1\" >True</td>\n",
       "      <td id=\"T_3a33a_row3_col2\" class=\"data row3 col2\" >False</td>\n",
       "    </tr>\n",
       "    <tr>\n",
       "      <th id=\"T_3a33a_level0_row4\" class=\"row_heading level0 row4\" >2000-06-15 19:00:00</th>\n",
       "      <td id=\"T_3a33a_row4_col0\" class=\"data row4 col0\" >False</td>\n",
       "      <td id=\"T_3a33a_row4_col1\" class=\"data row4 col1\" >True</td>\n",
       "      <td id=\"T_3a33a_row4_col2\" class=\"data row4 col2\" >False</td>\n",
       "    </tr>\n",
       "    <tr>\n",
       "      <th id=\"T_3a33a_level0_row5\" class=\"row_heading level0 row5\" >2000-06-15 19:30:00</th>\n",
       "      <td id=\"T_3a33a_row5_col0\" class=\"data row5 col0\" >False</td>\n",
       "      <td id=\"T_3a33a_row5_col1\" class=\"data row5 col1\" >True</td>\n",
       "      <td id=\"T_3a33a_row5_col2\" class=\"data row5 col2\" >False</td>\n",
       "    </tr>\n",
       "    <tr>\n",
       "      <th id=\"T_3a33a_level0_row6\" class=\"row_heading level0 row6\" >2000-06-15 20:00:00</th>\n",
       "      <td id=\"T_3a33a_row6_col0\" class=\"data row6 col0\" >True</td>\n",
       "      <td id=\"T_3a33a_row6_col1\" class=\"data row6 col1\" >True</td>\n",
       "      <td id=\"T_3a33a_row6_col2\" class=\"data row6 col2\" >True</td>\n",
       "    </tr>\n",
       "    <tr>\n",
       "      <th id=\"T_3a33a_level0_row7\" class=\"row_heading level0 row7\" >2000-06-15 20:30:00</th>\n",
       "      <td id=\"T_3a33a_row7_col0\" class=\"data row7 col0\" >True</td>\n",
       "      <td id=\"T_3a33a_row7_col1\" class=\"data row7 col1\" >True</td>\n",
       "      <td id=\"T_3a33a_row7_col2\" class=\"data row7 col2\" >True</td>\n",
       "    </tr>\n",
       "    <tr>\n",
       "      <th id=\"T_3a33a_level0_row8\" class=\"row_heading level0 row8\" >2000-06-15 21:00:00</th>\n",
       "      <td id=\"T_3a33a_row8_col0\" class=\"data row8 col0\" >True</td>\n",
       "      <td id=\"T_3a33a_row8_col1\" class=\"data row8 col1\" >True</td>\n",
       "      <td id=\"T_3a33a_row8_col2\" class=\"data row8 col2\" >True</td>\n",
       "    </tr>\n",
       "    <tr>\n",
       "      <th id=\"T_3a33a_level0_row9\" class=\"row_heading level0 row9\" >2000-06-15 21:30:00</th>\n",
       "      <td id=\"T_3a33a_row9_col0\" class=\"data row9 col0\" >True</td>\n",
       "      <td id=\"T_3a33a_row9_col1\" class=\"data row9 col1\" >True</td>\n",
       "      <td id=\"T_3a33a_row9_col2\" class=\"data row9 col2\" >True</td>\n",
       "    </tr>\n",
       "  </tbody>\n",
       "</table>\n",
       " </div><div> <p style='font-size: 1.3rem;'>control</p> <style type=\"text/css\">\n",
       "</style>\n",
       "<table id=\"T_347a5\">\n",
       "  <thead>\n",
       "    <tr>\n",
       "      <th class=\"blank level0\" >&nbsp;</th>\n",
       "      <th id=\"T_347a5_level0_col0\" class=\"col_heading level0 col0\" >TA_ERA</th>\n",
       "      <th id=\"T_347a5_level0_col1\" class=\"col_heading level0 col1\" >SW_IN_ERA</th>\n",
       "      <th id=\"T_347a5_level0_col2\" class=\"col_heading level0 col2\" >VPD_ERA</th>\n",
       "      <th id=\"T_347a5_level0_col3\" class=\"col_heading level0 col3\" >TA_ERA_lag_1</th>\n",
       "      <th id=\"T_347a5_level0_col4\" class=\"col_heading level0 col4\" >SW_IN_ERA_lag_1</th>\n",
       "      <th id=\"T_347a5_level0_col5\" class=\"col_heading level0 col5\" >VPD_ERA_lag_1</th>\n",
       "    </tr>\n",
       "    <tr>\n",
       "      <th class=\"index_name level0\" >time</th>\n",
       "      <th class=\"blank col0\" >&nbsp;</th>\n",
       "      <th class=\"blank col1\" >&nbsp;</th>\n",
       "      <th class=\"blank col2\" >&nbsp;</th>\n",
       "      <th class=\"blank col3\" >&nbsp;</th>\n",
       "      <th class=\"blank col4\" >&nbsp;</th>\n",
       "      <th class=\"blank col5\" >&nbsp;</th>\n",
       "    </tr>\n",
       "  </thead>\n",
       "  <tbody>\n",
       "    <tr>\n",
       "      <th id=\"T_347a5_level0_row0\" class=\"row_heading level0 row0\" >2000-06-15 17:00:00</th>\n",
       "      <td id=\"T_347a5_row0_col0\" class=\"data row0 col0\" >15.0500</td>\n",
       "      <td id=\"T_347a5_row0_col1\" class=\"data row0 col1\" >255.1930</td>\n",
       "      <td id=\"T_347a5_row0_col2\" class=\"data row0 col2\" >5.1020</td>\n",
       "      <td id=\"T_347a5_row0_col3\" class=\"data row0 col3\" >15.1390</td>\n",
       "      <td id=\"T_347a5_row0_col4\" class=\"data row0 col4\" >287.1000</td>\n",
       "      <td id=\"T_347a5_row0_col5\" class=\"data row0 col5\" >4.9000</td>\n",
       "    </tr>\n",
       "    <tr>\n",
       "      <th id=\"T_347a5_level0_row1\" class=\"row_heading level0 row1\" >2000-06-15 17:30:00</th>\n",
       "      <td id=\"T_347a5_row1_col0\" class=\"data row1 col0\" >14.9610</td>\n",
       "      <td id=\"T_347a5_row1_col1\" class=\"data row1 col1\" >221.4270</td>\n",
       "      <td id=\"T_347a5_row1_col2\" class=\"data row1 col2\" >5.3050</td>\n",
       "      <td id=\"T_347a5_row1_col3\" class=\"data row1 col3\" >15.0500</td>\n",
       "      <td id=\"T_347a5_row1_col4\" class=\"data row1 col4\" >255.1930</td>\n",
       "      <td id=\"T_347a5_row1_col5\" class=\"data row1 col5\" >5.1020</td>\n",
       "    </tr>\n",
       "    <tr>\n",
       "      <th id=\"T_347a5_level0_row2\" class=\"row_heading level0 row2\" >2000-06-15 18:00:00</th>\n",
       "      <td id=\"T_347a5_row2_col0\" class=\"data row2 col0\" >14.8720</td>\n",
       "      <td id=\"T_347a5_row2_col1\" class=\"data row2 col1\" >186.3800</td>\n",
       "      <td id=\"T_347a5_row2_col2\" class=\"data row2 col2\" >5.5070</td>\n",
       "      <td id=\"T_347a5_row2_col3\" class=\"data row2 col3\" >14.9610</td>\n",
       "      <td id=\"T_347a5_row2_col4\" class=\"data row2 col4\" >221.4270</td>\n",
       "      <td id=\"T_347a5_row2_col5\" class=\"data row2 col5\" >5.3050</td>\n",
       "    </tr>\n",
       "    <tr>\n",
       "      <th id=\"T_347a5_level0_row3\" class=\"row_heading level0 row3\" >2000-06-15 18:30:00</th>\n",
       "      <td id=\"T_347a5_row3_col0\" class=\"data row3 col0\" >14.7830</td>\n",
       "      <td id=\"T_347a5_row3_col1\" class=\"data row3 col1\" >150.6500</td>\n",
       "      <td id=\"T_347a5_row3_col2\" class=\"data row3 col2\" >5.7100</td>\n",
       "      <td id=\"T_347a5_row3_col3\" class=\"data row3 col3\" >14.8720</td>\n",
       "      <td id=\"T_347a5_row3_col4\" class=\"data row3 col4\" >186.3800</td>\n",
       "      <td id=\"T_347a5_row3_col5\" class=\"data row3 col5\" >5.5070</td>\n",
       "    </tr>\n",
       "    <tr>\n",
       "      <th id=\"T_347a5_level0_row4\" class=\"row_heading level0 row4\" >2000-06-15 19:00:00</th>\n",
       "      <td id=\"T_347a5_row4_col0\" class=\"data row4 col0\" >14.6940</td>\n",
       "      <td id=\"T_347a5_row4_col1\" class=\"data row4 col1\" >114.8490</td>\n",
       "      <td id=\"T_347a5_row4_col2\" class=\"data row4 col2\" >5.9120</td>\n",
       "      <td id=\"T_347a5_row4_col3\" class=\"data row4 col3\" >14.7830</td>\n",
       "      <td id=\"T_347a5_row4_col4\" class=\"data row4 col4\" >150.6500</td>\n",
       "      <td id=\"T_347a5_row4_col5\" class=\"data row4 col5\" >5.7100</td>\n",
       "    </tr>\n",
       "    <tr>\n",
       "      <th id=\"T_347a5_level0_row5\" class=\"row_heading level0 row5\" >2000-06-15 19:30:00</th>\n",
       "      <td id=\"T_347a5_row5_col0\" class=\"data row5 col0\" >14.6060</td>\n",
       "      <td id=\"T_347a5_row5_col1\" class=\"data row5 col1\" >34.7280</td>\n",
       "      <td id=\"T_347a5_row5_col2\" class=\"data row5 col2\" >6.1140</td>\n",
       "      <td id=\"T_347a5_row5_col3\" class=\"data row5 col3\" >14.6940</td>\n",
       "      <td id=\"T_347a5_row5_col4\" class=\"data row5 col4\" >114.8490</td>\n",
       "      <td id=\"T_347a5_row5_col5\" class=\"data row5 col5\" >5.9120</td>\n",
       "    </tr>\n",
       "    <tr>\n",
       "      <th id=\"T_347a5_level0_row6\" class=\"row_heading level0 row6\" >2000-06-15 20:00:00</th>\n",
       "      <td id=\"T_347a5_row6_col0\" class=\"data row6 col0\" >14.3800</td>\n",
       "      <td id=\"T_347a5_row6_col1\" class=\"data row6 col1\" >19.8430</td>\n",
       "      <td id=\"T_347a5_row6_col2\" class=\"data row6 col2\" >6.0740</td>\n",
       "      <td id=\"T_347a5_row6_col3\" class=\"data row6 col3\" >14.6060</td>\n",
       "      <td id=\"T_347a5_row6_col4\" class=\"data row6 col4\" >34.7280</td>\n",
       "      <td id=\"T_347a5_row6_col5\" class=\"data row6 col5\" >6.1140</td>\n",
       "    </tr>\n",
       "    <tr>\n",
       "      <th id=\"T_347a5_level0_row7\" class=\"row_heading level0 row7\" >2000-06-15 20:30:00</th>\n",
       "      <td id=\"T_347a5_row7_col0\" class=\"data row7 col0\" >14.1550</td>\n",
       "      <td id=\"T_347a5_row7_col1\" class=\"data row7 col1\" >5.7120</td>\n",
       "      <td id=\"T_347a5_row7_col2\" class=\"data row7 col2\" >6.0340</td>\n",
       "      <td id=\"T_347a5_row7_col3\" class=\"data row7 col3\" >14.3800</td>\n",
       "      <td id=\"T_347a5_row7_col4\" class=\"data row7 col4\" >19.8430</td>\n",
       "      <td id=\"T_347a5_row7_col5\" class=\"data row7 col5\" >6.0740</td>\n",
       "    </tr>\n",
       "    <tr>\n",
       "      <th id=\"T_347a5_level0_row8\" class=\"row_heading level0 row8\" >2000-06-15 21:00:00</th>\n",
       "      <td id=\"T_347a5_row8_col0\" class=\"data row8 col0\" >13.9290</td>\n",
       "      <td id=\"T_347a5_row8_col1\" class=\"data row8 col1\" >0.0000</td>\n",
       "      <td id=\"T_347a5_row8_col2\" class=\"data row8 col2\" >5.9940</td>\n",
       "      <td id=\"T_347a5_row8_col3\" class=\"data row8 col3\" >14.1550</td>\n",
       "      <td id=\"T_347a5_row8_col4\" class=\"data row8 col4\" >5.7120</td>\n",
       "      <td id=\"T_347a5_row8_col5\" class=\"data row8 col5\" >6.0340</td>\n",
       "    </tr>\n",
       "    <tr>\n",
       "      <th id=\"T_347a5_level0_row9\" class=\"row_heading level0 row9\" >2000-06-15 21:30:00</th>\n",
       "      <td id=\"T_347a5_row9_col0\" class=\"data row9 col0\" >13.7040</td>\n",
       "      <td id=\"T_347a5_row9_col1\" class=\"data row9 col1\" >0.0000</td>\n",
       "      <td id=\"T_347a5_row9_col2\" class=\"data row9 col2\" >5.9540</td>\n",
       "      <td id=\"T_347a5_row9_col3\" class=\"data row9 col3\" >13.9290</td>\n",
       "      <td id=\"T_347a5_row9_col4\" class=\"data row9 col4\" >0.0000</td>\n",
       "      <td id=\"T_347a5_row9_col5\" class=\"data row9 col5\" >5.9940</td>\n",
       "    </tr>\n",
       "  </tbody>\n",
       "</table>\n",
       " </div></div>"
      ],
      "text/plain": [
       "__main__.MeteoImpDf(data=                        TA       SW_IN    VPD\n",
       "time                                         \n",
       "2000-06-15 17:00:00  14.22  224.800003  5.799\n",
       "2000-06-15 17:30:00  14.11  195.279999  6.577\n",
       "2000-06-15 18:00:00  14.23  244.169998  6.931\n",
       "2000-06-15 18:30:00  14.40  253.919998  7.286\n",
       "2000-06-15 19:00:00  14.09  177.309998  7.251\n",
       "2000-06-15 19:30:00  13.71   97.070000  6.683\n",
       "2000-06-15 20:00:00  13.08   39.709999  5.851\n",
       "2000-06-15 20:30:00  12.41   10.650000  5.254\n",
       "2000-06-15 21:00:00  12.27    0.320000  5.164\n",
       "2000-06-15 21:30:00  12.20    0.000000  5.037, mask=                        TA  SW_IN    VPD\n",
       "time                                    \n",
       "2000-06-15 17:00:00   True   True   True\n",
       "2000-06-15 17:30:00  False   True  False\n",
       "2000-06-15 18:00:00  False   True  False\n",
       "2000-06-15 18:30:00  False   True  False\n",
       "2000-06-15 19:00:00  False   True  False\n",
       "2000-06-15 19:30:00  False   True  False\n",
       "2000-06-15 20:00:00   True   True   True\n",
       "2000-06-15 20:30:00   True   True   True\n",
       "2000-06-15 21:00:00   True   True   True\n",
       "2000-06-15 21:30:00   True   True   True, control=                     TA_ERA   SW_IN_ERA  VPD_ERA  TA_ERA_lag_1  \\\n",
       "time                                                             \n",
       "2000-06-15 17:00:00  15.050  255.192993    5.102        15.139   \n",
       "2000-06-15 17:30:00  14.961  221.427002    5.305        15.050   \n",
       "2000-06-15 18:00:00  14.872  186.380005    5.507        14.961   \n",
       "2000-06-15 18:30:00  14.783  150.649994    5.710        14.872   \n",
       "2000-06-15 19:00:00  14.694  114.848999    5.912        14.783   \n",
       "2000-06-15 19:30:00  14.606   34.728001    6.114        14.694   \n",
       "2000-06-15 20:00:00  14.380   19.843000    6.074        14.606   \n",
       "2000-06-15 20:30:00  14.155    5.712000    6.034        14.380   \n",
       "2000-06-15 21:00:00  13.929    0.000000    5.994        14.155   \n",
       "2000-06-15 21:30:00  13.704    0.000000    5.954        13.929   \n",
       "\n",
       "                     SW_IN_ERA_lag_1  VPD_ERA_lag_1  \n",
       "time                                                 \n",
       "2000-06-15 17:00:00       287.100006          4.900  \n",
       "2000-06-15 17:30:00       255.192993          5.102  \n",
       "2000-06-15 18:00:00       221.427002          5.305  \n",
       "2000-06-15 18:30:00       186.380005          5.507  \n",
       "2000-06-15 19:00:00       150.649994          5.710  \n",
       "2000-06-15 19:30:00       114.848999          5.912  \n",
       "2000-06-15 20:00:00        34.728001          6.114  \n",
       "2000-06-15 20:30:00        19.843000          6.074  \n",
       "2000-06-15 21:00:00         5.712000          6.034  \n",
       "2000-06-15 21:30:00         0.000000          5.994  )"
      ]
     },
     "execution_count": null,
     "metadata": {},
     "output_type": "execute_result"
    }
   ],
   "source": [
    "a_gap(tfms1[0])"
   ]
  },
  {
   "cell_type": "code",
   "execution_count": null,
   "id": "38be4fa4-4d1f-465d-b176-0d71d921bb48",
   "metadata": {},
   "outputs": [
    {
     "data": {
      "text/html": [
       "<p style='font-size: 1.5rem; font-decoration: bold'>Meteo Imp Df<p><div style=\"display: flex; column-gap: 20px; flex-wrap: wrap;\" class='table table-striped table-sm'> <div> <p style='font-size: 1.3rem;'>data</p> <style type=\"text/css\">\n",
       "</style>\n",
       "<table id=\"T_79757\">\n",
       "  <thead>\n",
       "    <tr>\n",
       "      <th class=\"blank level0\" >&nbsp;</th>\n",
       "      <th id=\"T_79757_level0_col0\" class=\"col_heading level0 col0\" >TA</th>\n",
       "      <th id=\"T_79757_level0_col1\" class=\"col_heading level0 col1\" >SW_IN</th>\n",
       "      <th id=\"T_79757_level0_col2\" class=\"col_heading level0 col2\" >VPD</th>\n",
       "    </tr>\n",
       "    <tr>\n",
       "      <th class=\"index_name level0\" >time</th>\n",
       "      <th class=\"blank col0\" >&nbsp;</th>\n",
       "      <th class=\"blank col1\" >&nbsp;</th>\n",
       "      <th class=\"blank col2\" >&nbsp;</th>\n",
       "    </tr>\n",
       "  </thead>\n",
       "  <tbody>\n",
       "    <tr>\n",
       "      <th id=\"T_79757_level0_row0\" class=\"row_heading level0 row0\" >2000-06-15 17:00:00</th>\n",
       "      <td id=\"T_79757_row0_col0\" class=\"data row0 col0\" >14.2200</td>\n",
       "      <td id=\"T_79757_row0_col1\" class=\"data row0 col1\" >224.8000</td>\n",
       "      <td id=\"T_79757_row0_col2\" class=\"data row0 col2\" >5.7990</td>\n",
       "    </tr>\n",
       "    <tr>\n",
       "      <th id=\"T_79757_level0_row1\" class=\"row_heading level0 row1\" >2000-06-15 17:30:00</th>\n",
       "      <td id=\"T_79757_row1_col0\" class=\"data row1 col0\" >14.1100</td>\n",
       "      <td id=\"T_79757_row1_col1\" class=\"data row1 col1\" >195.2800</td>\n",
       "      <td id=\"T_79757_row1_col2\" class=\"data row1 col2\" >6.5770</td>\n",
       "    </tr>\n",
       "    <tr>\n",
       "      <th id=\"T_79757_level0_row2\" class=\"row_heading level0 row2\" >2000-06-15 18:00:00</th>\n",
       "      <td id=\"T_79757_row2_col0\" class=\"data row2 col0\" >14.2300</td>\n",
       "      <td id=\"T_79757_row2_col1\" class=\"data row2 col1\" >244.1700</td>\n",
       "      <td id=\"T_79757_row2_col2\" class=\"data row2 col2\" >6.9310</td>\n",
       "    </tr>\n",
       "    <tr>\n",
       "      <th id=\"T_79757_level0_row3\" class=\"row_heading level0 row3\" >2000-06-15 18:30:00</th>\n",
       "      <td id=\"T_79757_row3_col0\" class=\"data row3 col0\" >14.4000</td>\n",
       "      <td id=\"T_79757_row3_col1\" class=\"data row3 col1\" >253.9200</td>\n",
       "      <td id=\"T_79757_row3_col2\" class=\"data row3 col2\" >7.2860</td>\n",
       "    </tr>\n",
       "    <tr>\n",
       "      <th id=\"T_79757_level0_row4\" class=\"row_heading level0 row4\" >2000-06-15 19:00:00</th>\n",
       "      <td id=\"T_79757_row4_col0\" class=\"data row4 col0\" >14.0900</td>\n",
       "      <td id=\"T_79757_row4_col1\" class=\"data row4 col1\" >177.3100</td>\n",
       "      <td id=\"T_79757_row4_col2\" class=\"data row4 col2\" >7.2510</td>\n",
       "    </tr>\n",
       "    <tr>\n",
       "      <th id=\"T_79757_level0_row5\" class=\"row_heading level0 row5\" >2000-06-15 19:30:00</th>\n",
       "      <td id=\"T_79757_row5_col0\" class=\"data row5 col0\" >13.7100</td>\n",
       "      <td id=\"T_79757_row5_col1\" class=\"data row5 col1\" >97.0700</td>\n",
       "      <td id=\"T_79757_row5_col2\" class=\"data row5 col2\" >6.6830</td>\n",
       "    </tr>\n",
       "    <tr>\n",
       "      <th id=\"T_79757_level0_row6\" class=\"row_heading level0 row6\" >2000-06-15 20:00:00</th>\n",
       "      <td id=\"T_79757_row6_col0\" class=\"data row6 col0\" >13.0800</td>\n",
       "      <td id=\"T_79757_row6_col1\" class=\"data row6 col1\" >39.7100</td>\n",
       "      <td id=\"T_79757_row6_col2\" class=\"data row6 col2\" >5.8510</td>\n",
       "    </tr>\n",
       "    <tr>\n",
       "      <th id=\"T_79757_level0_row7\" class=\"row_heading level0 row7\" >2000-06-15 20:30:00</th>\n",
       "      <td id=\"T_79757_row7_col0\" class=\"data row7 col0\" >12.4100</td>\n",
       "      <td id=\"T_79757_row7_col1\" class=\"data row7 col1\" >10.6500</td>\n",
       "      <td id=\"T_79757_row7_col2\" class=\"data row7 col2\" >5.2540</td>\n",
       "    </tr>\n",
       "    <tr>\n",
       "      <th id=\"T_79757_level0_row8\" class=\"row_heading level0 row8\" >2000-06-15 21:00:00</th>\n",
       "      <td id=\"T_79757_row8_col0\" class=\"data row8 col0\" >12.2700</td>\n",
       "      <td id=\"T_79757_row8_col1\" class=\"data row8 col1\" >0.3200</td>\n",
       "      <td id=\"T_79757_row8_col2\" class=\"data row8 col2\" >5.1640</td>\n",
       "    </tr>\n",
       "    <tr>\n",
       "      <th id=\"T_79757_level0_row9\" class=\"row_heading level0 row9\" >2000-06-15 21:30:00</th>\n",
       "      <td id=\"T_79757_row9_col0\" class=\"data row9 col0\" >12.2000</td>\n",
       "      <td id=\"T_79757_row9_col1\" class=\"data row9 col1\" >0.0000</td>\n",
       "      <td id=\"T_79757_row9_col2\" class=\"data row9 col2\" >5.0370</td>\n",
       "    </tr>\n",
       "  </tbody>\n",
       "</table>\n",
       " </div><div> <p style='font-size: 1.3rem;'>mask</p> <style type=\"text/css\">\n",
       "</style>\n",
       "<table id=\"T_54916\">\n",
       "  <thead>\n",
       "    <tr>\n",
       "      <th class=\"blank level0\" >&nbsp;</th>\n",
       "      <th id=\"T_54916_level0_col0\" class=\"col_heading level0 col0\" >TA</th>\n",
       "      <th id=\"T_54916_level0_col1\" class=\"col_heading level0 col1\" >SW_IN</th>\n",
       "      <th id=\"T_54916_level0_col2\" class=\"col_heading level0 col2\" >VPD</th>\n",
       "    </tr>\n",
       "    <tr>\n",
       "      <th class=\"index_name level0\" >time</th>\n",
       "      <th class=\"blank col0\" >&nbsp;</th>\n",
       "      <th class=\"blank col1\" >&nbsp;</th>\n",
       "      <th class=\"blank col2\" >&nbsp;</th>\n",
       "    </tr>\n",
       "  </thead>\n",
       "  <tbody>\n",
       "    <tr>\n",
       "      <th id=\"T_54916_level0_row0\" class=\"row_heading level0 row0\" >2000-06-15 17:00:00</th>\n",
       "      <td id=\"T_54916_row0_col0\" class=\"data row0 col0\" >True</td>\n",
       "      <td id=\"T_54916_row0_col1\" class=\"data row0 col1\" >True</td>\n",
       "      <td id=\"T_54916_row0_col2\" class=\"data row0 col2\" >True</td>\n",
       "    </tr>\n",
       "    <tr>\n",
       "      <th id=\"T_54916_level0_row1\" class=\"row_heading level0 row1\" >2000-06-15 17:30:00</th>\n",
       "      <td id=\"T_54916_row1_col0\" class=\"data row1 col0\" >False</td>\n",
       "      <td id=\"T_54916_row1_col1\" class=\"data row1 col1\" >True</td>\n",
       "      <td id=\"T_54916_row1_col2\" class=\"data row1 col2\" >False</td>\n",
       "    </tr>\n",
       "    <tr>\n",
       "      <th id=\"T_54916_level0_row2\" class=\"row_heading level0 row2\" >2000-06-15 18:00:00</th>\n",
       "      <td id=\"T_54916_row2_col0\" class=\"data row2 col0\" >False</td>\n",
       "      <td id=\"T_54916_row2_col1\" class=\"data row2 col1\" >True</td>\n",
       "      <td id=\"T_54916_row2_col2\" class=\"data row2 col2\" >False</td>\n",
       "    </tr>\n",
       "    <tr>\n",
       "      <th id=\"T_54916_level0_row3\" class=\"row_heading level0 row3\" >2000-06-15 18:30:00</th>\n",
       "      <td id=\"T_54916_row3_col0\" class=\"data row3 col0\" >False</td>\n",
       "      <td id=\"T_54916_row3_col1\" class=\"data row3 col1\" >True</td>\n",
       "      <td id=\"T_54916_row3_col2\" class=\"data row3 col2\" >False</td>\n",
       "    </tr>\n",
       "    <tr>\n",
       "      <th id=\"T_54916_level0_row4\" class=\"row_heading level0 row4\" >2000-06-15 19:00:00</th>\n",
       "      <td id=\"T_54916_row4_col0\" class=\"data row4 col0\" >True</td>\n",
       "      <td id=\"T_54916_row4_col1\" class=\"data row4 col1\" >True</td>\n",
       "      <td id=\"T_54916_row4_col2\" class=\"data row4 col2\" >True</td>\n",
       "    </tr>\n",
       "    <tr>\n",
       "      <th id=\"T_54916_level0_row5\" class=\"row_heading level0 row5\" >2000-06-15 19:30:00</th>\n",
       "      <td id=\"T_54916_row5_col0\" class=\"data row5 col0\" >True</td>\n",
       "      <td id=\"T_54916_row5_col1\" class=\"data row5 col1\" >True</td>\n",
       "      <td id=\"T_54916_row5_col2\" class=\"data row5 col2\" >True</td>\n",
       "    </tr>\n",
       "    <tr>\n",
       "      <th id=\"T_54916_level0_row6\" class=\"row_heading level0 row6\" >2000-06-15 20:00:00</th>\n",
       "      <td id=\"T_54916_row6_col0\" class=\"data row6 col0\" >True</td>\n",
       "      <td id=\"T_54916_row6_col1\" class=\"data row6 col1\" >True</td>\n",
       "      <td id=\"T_54916_row6_col2\" class=\"data row6 col2\" >True</td>\n",
       "    </tr>\n",
       "    <tr>\n",
       "      <th id=\"T_54916_level0_row7\" class=\"row_heading level0 row7\" >2000-06-15 20:30:00</th>\n",
       "      <td id=\"T_54916_row7_col0\" class=\"data row7 col0\" >True</td>\n",
       "      <td id=\"T_54916_row7_col1\" class=\"data row7 col1\" >True</td>\n",
       "      <td id=\"T_54916_row7_col2\" class=\"data row7 col2\" >True</td>\n",
       "    </tr>\n",
       "    <tr>\n",
       "      <th id=\"T_54916_level0_row8\" class=\"row_heading level0 row8\" >2000-06-15 21:00:00</th>\n",
       "      <td id=\"T_54916_row8_col0\" class=\"data row8 col0\" >True</td>\n",
       "      <td id=\"T_54916_row8_col1\" class=\"data row8 col1\" >True</td>\n",
       "      <td id=\"T_54916_row8_col2\" class=\"data row8 col2\" >True</td>\n",
       "    </tr>\n",
       "    <tr>\n",
       "      <th id=\"T_54916_level0_row9\" class=\"row_heading level0 row9\" >2000-06-15 21:30:00</th>\n",
       "      <td id=\"T_54916_row9_col0\" class=\"data row9 col0\" >True</td>\n",
       "      <td id=\"T_54916_row9_col1\" class=\"data row9 col1\" >True</td>\n",
       "      <td id=\"T_54916_row9_col2\" class=\"data row9 col2\" >True</td>\n",
       "    </tr>\n",
       "  </tbody>\n",
       "</table>\n",
       " </div><div> <p style='font-size: 1.3rem;'>control</p> <style type=\"text/css\">\n",
       "</style>\n",
       "<table id=\"T_03405\">\n",
       "  <thead>\n",
       "    <tr>\n",
       "      <th class=\"blank level0\" >&nbsp;</th>\n",
       "      <th id=\"T_03405_level0_col0\" class=\"col_heading level0 col0\" >TA_ERA</th>\n",
       "      <th id=\"T_03405_level0_col1\" class=\"col_heading level0 col1\" >SW_IN_ERA</th>\n",
       "      <th id=\"T_03405_level0_col2\" class=\"col_heading level0 col2\" >VPD_ERA</th>\n",
       "      <th id=\"T_03405_level0_col3\" class=\"col_heading level0 col3\" >TA_ERA_lag_1</th>\n",
       "      <th id=\"T_03405_level0_col4\" class=\"col_heading level0 col4\" >SW_IN_ERA_lag_1</th>\n",
       "      <th id=\"T_03405_level0_col5\" class=\"col_heading level0 col5\" >VPD_ERA_lag_1</th>\n",
       "    </tr>\n",
       "    <tr>\n",
       "      <th class=\"index_name level0\" >time</th>\n",
       "      <th class=\"blank col0\" >&nbsp;</th>\n",
       "      <th class=\"blank col1\" >&nbsp;</th>\n",
       "      <th class=\"blank col2\" >&nbsp;</th>\n",
       "      <th class=\"blank col3\" >&nbsp;</th>\n",
       "      <th class=\"blank col4\" >&nbsp;</th>\n",
       "      <th class=\"blank col5\" >&nbsp;</th>\n",
       "    </tr>\n",
       "  </thead>\n",
       "  <tbody>\n",
       "    <tr>\n",
       "      <th id=\"T_03405_level0_row0\" class=\"row_heading level0 row0\" >2000-06-15 17:00:00</th>\n",
       "      <td id=\"T_03405_row0_col0\" class=\"data row0 col0\" >15.0500</td>\n",
       "      <td id=\"T_03405_row0_col1\" class=\"data row0 col1\" >255.1930</td>\n",
       "      <td id=\"T_03405_row0_col2\" class=\"data row0 col2\" >5.1020</td>\n",
       "      <td id=\"T_03405_row0_col3\" class=\"data row0 col3\" >15.1390</td>\n",
       "      <td id=\"T_03405_row0_col4\" class=\"data row0 col4\" >287.1000</td>\n",
       "      <td id=\"T_03405_row0_col5\" class=\"data row0 col5\" >4.9000</td>\n",
       "    </tr>\n",
       "    <tr>\n",
       "      <th id=\"T_03405_level0_row1\" class=\"row_heading level0 row1\" >2000-06-15 17:30:00</th>\n",
       "      <td id=\"T_03405_row1_col0\" class=\"data row1 col0\" >14.9610</td>\n",
       "      <td id=\"T_03405_row1_col1\" class=\"data row1 col1\" >221.4270</td>\n",
       "      <td id=\"T_03405_row1_col2\" class=\"data row1 col2\" >5.3050</td>\n",
       "      <td id=\"T_03405_row1_col3\" class=\"data row1 col3\" >15.0500</td>\n",
       "      <td id=\"T_03405_row1_col4\" class=\"data row1 col4\" >255.1930</td>\n",
       "      <td id=\"T_03405_row1_col5\" class=\"data row1 col5\" >5.1020</td>\n",
       "    </tr>\n",
       "    <tr>\n",
       "      <th id=\"T_03405_level0_row2\" class=\"row_heading level0 row2\" >2000-06-15 18:00:00</th>\n",
       "      <td id=\"T_03405_row2_col0\" class=\"data row2 col0\" >14.8720</td>\n",
       "      <td id=\"T_03405_row2_col1\" class=\"data row2 col1\" >186.3800</td>\n",
       "      <td id=\"T_03405_row2_col2\" class=\"data row2 col2\" >5.5070</td>\n",
       "      <td id=\"T_03405_row2_col3\" class=\"data row2 col3\" >14.9610</td>\n",
       "      <td id=\"T_03405_row2_col4\" class=\"data row2 col4\" >221.4270</td>\n",
       "      <td id=\"T_03405_row2_col5\" class=\"data row2 col5\" >5.3050</td>\n",
       "    </tr>\n",
       "    <tr>\n",
       "      <th id=\"T_03405_level0_row3\" class=\"row_heading level0 row3\" >2000-06-15 18:30:00</th>\n",
       "      <td id=\"T_03405_row3_col0\" class=\"data row3 col0\" >14.7830</td>\n",
       "      <td id=\"T_03405_row3_col1\" class=\"data row3 col1\" >150.6500</td>\n",
       "      <td id=\"T_03405_row3_col2\" class=\"data row3 col2\" >5.7100</td>\n",
       "      <td id=\"T_03405_row3_col3\" class=\"data row3 col3\" >14.8720</td>\n",
       "      <td id=\"T_03405_row3_col4\" class=\"data row3 col4\" >186.3800</td>\n",
       "      <td id=\"T_03405_row3_col5\" class=\"data row3 col5\" >5.5070</td>\n",
       "    </tr>\n",
       "    <tr>\n",
       "      <th id=\"T_03405_level0_row4\" class=\"row_heading level0 row4\" >2000-06-15 19:00:00</th>\n",
       "      <td id=\"T_03405_row4_col0\" class=\"data row4 col0\" >14.6940</td>\n",
       "      <td id=\"T_03405_row4_col1\" class=\"data row4 col1\" >114.8490</td>\n",
       "      <td id=\"T_03405_row4_col2\" class=\"data row4 col2\" >5.9120</td>\n",
       "      <td id=\"T_03405_row4_col3\" class=\"data row4 col3\" >14.7830</td>\n",
       "      <td id=\"T_03405_row4_col4\" class=\"data row4 col4\" >150.6500</td>\n",
       "      <td id=\"T_03405_row4_col5\" class=\"data row4 col5\" >5.7100</td>\n",
       "    </tr>\n",
       "    <tr>\n",
       "      <th id=\"T_03405_level0_row5\" class=\"row_heading level0 row5\" >2000-06-15 19:30:00</th>\n",
       "      <td id=\"T_03405_row5_col0\" class=\"data row5 col0\" >14.6060</td>\n",
       "      <td id=\"T_03405_row5_col1\" class=\"data row5 col1\" >34.7280</td>\n",
       "      <td id=\"T_03405_row5_col2\" class=\"data row5 col2\" >6.1140</td>\n",
       "      <td id=\"T_03405_row5_col3\" class=\"data row5 col3\" >14.6940</td>\n",
       "      <td id=\"T_03405_row5_col4\" class=\"data row5 col4\" >114.8490</td>\n",
       "      <td id=\"T_03405_row5_col5\" class=\"data row5 col5\" >5.9120</td>\n",
       "    </tr>\n",
       "    <tr>\n",
       "      <th id=\"T_03405_level0_row6\" class=\"row_heading level0 row6\" >2000-06-15 20:00:00</th>\n",
       "      <td id=\"T_03405_row6_col0\" class=\"data row6 col0\" >14.3800</td>\n",
       "      <td id=\"T_03405_row6_col1\" class=\"data row6 col1\" >19.8430</td>\n",
       "      <td id=\"T_03405_row6_col2\" class=\"data row6 col2\" >6.0740</td>\n",
       "      <td id=\"T_03405_row6_col3\" class=\"data row6 col3\" >14.6060</td>\n",
       "      <td id=\"T_03405_row6_col4\" class=\"data row6 col4\" >34.7280</td>\n",
       "      <td id=\"T_03405_row6_col5\" class=\"data row6 col5\" >6.1140</td>\n",
       "    </tr>\n",
       "    <tr>\n",
       "      <th id=\"T_03405_level0_row7\" class=\"row_heading level0 row7\" >2000-06-15 20:30:00</th>\n",
       "      <td id=\"T_03405_row7_col0\" class=\"data row7 col0\" >14.1550</td>\n",
       "      <td id=\"T_03405_row7_col1\" class=\"data row7 col1\" >5.7120</td>\n",
       "      <td id=\"T_03405_row7_col2\" class=\"data row7 col2\" >6.0340</td>\n",
       "      <td id=\"T_03405_row7_col3\" class=\"data row7 col3\" >14.3800</td>\n",
       "      <td id=\"T_03405_row7_col4\" class=\"data row7 col4\" >19.8430</td>\n",
       "      <td id=\"T_03405_row7_col5\" class=\"data row7 col5\" >6.0740</td>\n",
       "    </tr>\n",
       "    <tr>\n",
       "      <th id=\"T_03405_level0_row8\" class=\"row_heading level0 row8\" >2000-06-15 21:00:00</th>\n",
       "      <td id=\"T_03405_row8_col0\" class=\"data row8 col0\" >13.9290</td>\n",
       "      <td id=\"T_03405_row8_col1\" class=\"data row8 col1\" >0.0000</td>\n",
       "      <td id=\"T_03405_row8_col2\" class=\"data row8 col2\" >5.9940</td>\n",
       "      <td id=\"T_03405_row8_col3\" class=\"data row8 col3\" >14.1550</td>\n",
       "      <td id=\"T_03405_row8_col4\" class=\"data row8 col4\" >5.7120</td>\n",
       "      <td id=\"T_03405_row8_col5\" class=\"data row8 col5\" >6.0340</td>\n",
       "    </tr>\n",
       "    <tr>\n",
       "      <th id=\"T_03405_level0_row9\" class=\"row_heading level0 row9\" >2000-06-15 21:30:00</th>\n",
       "      <td id=\"T_03405_row9_col0\" class=\"data row9 col0\" >13.7040</td>\n",
       "      <td id=\"T_03405_row9_col1\" class=\"data row9 col1\" >0.0000</td>\n",
       "      <td id=\"T_03405_row9_col2\" class=\"data row9 col2\" >5.9540</td>\n",
       "      <td id=\"T_03405_row9_col3\" class=\"data row9 col3\" >13.9290</td>\n",
       "      <td id=\"T_03405_row9_col4\" class=\"data row9 col4\" >0.0000</td>\n",
       "      <td id=\"T_03405_row9_col5\" class=\"data row9 col5\" >5.9940</td>\n",
       "    </tr>\n",
       "  </tbody>\n",
       "</table>\n",
       " </div></div>"
      ],
      "text/plain": [
       "__main__.MeteoImpDf(data=                        TA       SW_IN    VPD\n",
       "time                                         \n",
       "2000-06-15 17:00:00  14.22  224.800003  5.799\n",
       "2000-06-15 17:30:00  14.11  195.279999  6.577\n",
       "2000-06-15 18:00:00  14.23  244.169998  6.931\n",
       "2000-06-15 18:30:00  14.40  253.919998  7.286\n",
       "2000-06-15 19:00:00  14.09  177.309998  7.251\n",
       "2000-06-15 19:30:00  13.71   97.070000  6.683\n",
       "2000-06-15 20:00:00  13.08   39.709999  5.851\n",
       "2000-06-15 20:30:00  12.41   10.650000  5.254\n",
       "2000-06-15 21:00:00  12.27    0.320000  5.164\n",
       "2000-06-15 21:30:00  12.20    0.000000  5.037, mask=                        TA  SW_IN    VPD\n",
       "time                                    \n",
       "2000-06-15 17:00:00   True   True   True\n",
       "2000-06-15 17:30:00  False   True  False\n",
       "2000-06-15 18:00:00  False   True  False\n",
       "2000-06-15 18:30:00  False   True  False\n",
       "2000-06-15 19:00:00   True   True   True\n",
       "2000-06-15 19:30:00   True   True   True\n",
       "2000-06-15 20:00:00   True   True   True\n",
       "2000-06-15 20:30:00   True   True   True\n",
       "2000-06-15 21:00:00   True   True   True\n",
       "2000-06-15 21:30:00   True   True   True, control=                     TA_ERA   SW_IN_ERA  VPD_ERA  TA_ERA_lag_1  \\\n",
       "time                                                             \n",
       "2000-06-15 17:00:00  15.050  255.192993    5.102        15.139   \n",
       "2000-06-15 17:30:00  14.961  221.427002    5.305        15.050   \n",
       "2000-06-15 18:00:00  14.872  186.380005    5.507        14.961   \n",
       "2000-06-15 18:30:00  14.783  150.649994    5.710        14.872   \n",
       "2000-06-15 19:00:00  14.694  114.848999    5.912        14.783   \n",
       "2000-06-15 19:30:00  14.606   34.728001    6.114        14.694   \n",
       "2000-06-15 20:00:00  14.380   19.843000    6.074        14.606   \n",
       "2000-06-15 20:30:00  14.155    5.712000    6.034        14.380   \n",
       "2000-06-15 21:00:00  13.929    0.000000    5.994        14.155   \n",
       "2000-06-15 21:30:00  13.704    0.000000    5.954        13.929   \n",
       "\n",
       "                     SW_IN_ERA_lag_1  VPD_ERA_lag_1  \n",
       "time                                                 \n",
       "2000-06-15 17:00:00       287.100006          4.900  \n",
       "2000-06-15 17:30:00       255.192993          5.102  \n",
       "2000-06-15 18:00:00       221.427002          5.305  \n",
       "2000-06-15 18:30:00       186.380005          5.507  \n",
       "2000-06-15 19:00:00       150.649994          5.710  \n",
       "2000-06-15 19:30:00       114.848999          5.912  \n",
       "2000-06-15 20:00:00        34.728001          6.114  \n",
       "2000-06-15 20:30:00        19.843000          6.074  \n",
       "2000-06-15 21:00:00         5.712000          6.034  \n",
       "2000-06-15 21:30:00         0.000000          5.994  )"
      ]
     },
     "execution_count": null,
     "metadata": {},
     "output_type": "execute_result"
    }
   ],
   "source": [
    "a_gap2(tfms1[0])"
   ]
  },
  {
   "cell_type": "code",
   "execution_count": null,
   "id": "21b74874-14ec-411a-afdc-4de5637daf75",
   "metadata": {},
   "outputs": [],
   "source": [
    "for i in range(800):\n",
    "    assert not a_gap2(blkdf(blk([i, 0]))).mask.to_numpy().all()"
   ]
  },
  {
   "cell_type": "code",
   "execution_count": null,
   "id": "8c9cc0f4-d22e-4bd9-ba89-00a9fbaae5cc",
   "metadata": {},
   "outputs": [
    {
     "data": {
      "text/plain": [
       "False"
      ]
     },
     "execution_count": null,
     "metadata": {},
     "output_type": "execute_result"
    }
   ],
   "source": [
    "a_gap2(blkdf(blk([i, 0]))).mask.to_numpy().all()"
   ]
  },
  {
   "cell_type": "code",
   "execution_count": null,
   "id": "d1e402e1-e9de-4667-bde2-482f2d3fef01",
   "metadata": {},
   "outputs": [
    {
     "data": {
      "text/plain": [
       "False"
      ]
     },
     "execution_count": null,
     "metadata": {},
     "output_type": "execute_result"
    }
   ],
   "source": [
    "a_gap2(tfms1[3]).mask.to_numpy().all()"
   ]
  },
  {
   "cell_type": "code",
   "execution_count": null,
   "id": "ebab31a7-a5b2-4fda-bd2e-c49858b4c972",
   "metadata": {},
   "outputs": [
    {
     "data": {
      "text/plain": [
       "799"
      ]
     },
     "execution_count": null,
     "metadata": {},
     "output_type": "execute_result"
    }
   ],
   "source": [
    "i"
   ]
  },
  {
   "cell_type": "code",
   "execution_count": null,
   "id": "465aab96-5f68-49c4-94bd-8c4fe4d5e8de",
   "metadata": {},
   "outputs": [],
   "source": [
    "tfms2 = TfmdLists(tfms1.items, [*tfms1.fs, AddGapTransform(['TA','SW_IN'], 2, 2)])"
   ]
  },
  {
   "cell_type": "code",
   "execution_count": null,
   "id": "3292befc-b05d-441b-9404-7d1aa24d657d",
   "metadata": {},
   "outputs": [
    {
     "data": {
      "text/html": [
       "<p style='font-size: 1.5rem; font-decoration: bold'>Meteo Imp Df<p><div style=\"display: flex; column-gap: 20px; flex-wrap: wrap;\" class='table table-striped table-sm'> <div> <p style='font-size: 1.3rem;'>data</p> <style type=\"text/css\">\n",
       "</style>\n",
       "<table id=\"T_395de\">\n",
       "  <thead>\n",
       "    <tr>\n",
       "      <th class=\"blank level0\" >&nbsp;</th>\n",
       "      <th id=\"T_395de_level0_col0\" class=\"col_heading level0 col0\" >TA</th>\n",
       "      <th id=\"T_395de_level0_col1\" class=\"col_heading level0 col1\" >SW_IN</th>\n",
       "      <th id=\"T_395de_level0_col2\" class=\"col_heading level0 col2\" >VPD</th>\n",
       "    </tr>\n",
       "    <tr>\n",
       "      <th class=\"index_name level0\" >time</th>\n",
       "      <th class=\"blank col0\" >&nbsp;</th>\n",
       "      <th class=\"blank col1\" >&nbsp;</th>\n",
       "      <th class=\"blank col2\" >&nbsp;</th>\n",
       "    </tr>\n",
       "  </thead>\n",
       "  <tbody>\n",
       "    <tr>\n",
       "      <th id=\"T_395de_level0_row0\" class=\"row_heading level0 row0\" >2000-06-15 17:00:00</th>\n",
       "      <td id=\"T_395de_row0_col0\" class=\"data row0 col0\" >14.2200</td>\n",
       "      <td id=\"T_395de_row0_col1\" class=\"data row0 col1\" >224.8000</td>\n",
       "      <td id=\"T_395de_row0_col2\" class=\"data row0 col2\" >5.7990</td>\n",
       "    </tr>\n",
       "    <tr>\n",
       "      <th id=\"T_395de_level0_row1\" class=\"row_heading level0 row1\" >2000-06-15 17:30:00</th>\n",
       "      <td id=\"T_395de_row1_col0\" class=\"data row1 col0\" >14.1100</td>\n",
       "      <td id=\"T_395de_row1_col1\" class=\"data row1 col1\" >195.2800</td>\n",
       "      <td id=\"T_395de_row1_col2\" class=\"data row1 col2\" >6.5770</td>\n",
       "    </tr>\n",
       "    <tr>\n",
       "      <th id=\"T_395de_level0_row2\" class=\"row_heading level0 row2\" >2000-06-15 18:00:00</th>\n",
       "      <td id=\"T_395de_row2_col0\" class=\"data row2 col0\" >14.2300</td>\n",
       "      <td id=\"T_395de_row2_col1\" class=\"data row2 col1\" >244.1700</td>\n",
       "      <td id=\"T_395de_row2_col2\" class=\"data row2 col2\" >6.9310</td>\n",
       "    </tr>\n",
       "    <tr>\n",
       "      <th id=\"T_395de_level0_row3\" class=\"row_heading level0 row3\" >2000-06-15 18:30:00</th>\n",
       "      <td id=\"T_395de_row3_col0\" class=\"data row3 col0\" >14.4000</td>\n",
       "      <td id=\"T_395de_row3_col1\" class=\"data row3 col1\" >253.9200</td>\n",
       "      <td id=\"T_395de_row3_col2\" class=\"data row3 col2\" >7.2860</td>\n",
       "    </tr>\n",
       "    <tr>\n",
       "      <th id=\"T_395de_level0_row4\" class=\"row_heading level0 row4\" >2000-06-15 19:00:00</th>\n",
       "      <td id=\"T_395de_row4_col0\" class=\"data row4 col0\" >14.0900</td>\n",
       "      <td id=\"T_395de_row4_col1\" class=\"data row4 col1\" >177.3100</td>\n",
       "      <td id=\"T_395de_row4_col2\" class=\"data row4 col2\" >7.2510</td>\n",
       "    </tr>\n",
       "    <tr>\n",
       "      <th id=\"T_395de_level0_row5\" class=\"row_heading level0 row5\" >2000-06-15 19:30:00</th>\n",
       "      <td id=\"T_395de_row5_col0\" class=\"data row5 col0\" >13.7100</td>\n",
       "      <td id=\"T_395de_row5_col1\" class=\"data row5 col1\" >97.0700</td>\n",
       "      <td id=\"T_395de_row5_col2\" class=\"data row5 col2\" >6.6830</td>\n",
       "    </tr>\n",
       "    <tr>\n",
       "      <th id=\"T_395de_level0_row6\" class=\"row_heading level0 row6\" >2000-06-15 20:00:00</th>\n",
       "      <td id=\"T_395de_row6_col0\" class=\"data row6 col0\" >13.0800</td>\n",
       "      <td id=\"T_395de_row6_col1\" class=\"data row6 col1\" >39.7100</td>\n",
       "      <td id=\"T_395de_row6_col2\" class=\"data row6 col2\" >5.8510</td>\n",
       "    </tr>\n",
       "    <tr>\n",
       "      <th id=\"T_395de_level0_row7\" class=\"row_heading level0 row7\" >2000-06-15 20:30:00</th>\n",
       "      <td id=\"T_395de_row7_col0\" class=\"data row7 col0\" >12.4100</td>\n",
       "      <td id=\"T_395de_row7_col1\" class=\"data row7 col1\" >10.6500</td>\n",
       "      <td id=\"T_395de_row7_col2\" class=\"data row7 col2\" >5.2540</td>\n",
       "    </tr>\n",
       "    <tr>\n",
       "      <th id=\"T_395de_level0_row8\" class=\"row_heading level0 row8\" >2000-06-15 21:00:00</th>\n",
       "      <td id=\"T_395de_row8_col0\" class=\"data row8 col0\" >12.2700</td>\n",
       "      <td id=\"T_395de_row8_col1\" class=\"data row8 col1\" >0.3200</td>\n",
       "      <td id=\"T_395de_row8_col2\" class=\"data row8 col2\" >5.1640</td>\n",
       "    </tr>\n",
       "    <tr>\n",
       "      <th id=\"T_395de_level0_row9\" class=\"row_heading level0 row9\" >2000-06-15 21:30:00</th>\n",
       "      <td id=\"T_395de_row9_col0\" class=\"data row9 col0\" >12.2000</td>\n",
       "      <td id=\"T_395de_row9_col1\" class=\"data row9 col1\" >0.0000</td>\n",
       "      <td id=\"T_395de_row9_col2\" class=\"data row9 col2\" >5.0370</td>\n",
       "    </tr>\n",
       "  </tbody>\n",
       "</table>\n",
       " </div><div> <p style='font-size: 1.3rem;'>mask</p> <style type=\"text/css\">\n",
       "</style>\n",
       "<table id=\"T_b1260\">\n",
       "  <thead>\n",
       "    <tr>\n",
       "      <th class=\"blank level0\" >&nbsp;</th>\n",
       "      <th id=\"T_b1260_level0_col0\" class=\"col_heading level0 col0\" >TA</th>\n",
       "      <th id=\"T_b1260_level0_col1\" class=\"col_heading level0 col1\" >SW_IN</th>\n",
       "      <th id=\"T_b1260_level0_col2\" class=\"col_heading level0 col2\" >VPD</th>\n",
       "    </tr>\n",
       "    <tr>\n",
       "      <th class=\"index_name level0\" >time</th>\n",
       "      <th class=\"blank col0\" >&nbsp;</th>\n",
       "      <th class=\"blank col1\" >&nbsp;</th>\n",
       "      <th class=\"blank col2\" >&nbsp;</th>\n",
       "    </tr>\n",
       "  </thead>\n",
       "  <tbody>\n",
       "    <tr>\n",
       "      <th id=\"T_b1260_level0_row0\" class=\"row_heading level0 row0\" >2000-06-15 17:00:00</th>\n",
       "      <td id=\"T_b1260_row0_col0\" class=\"data row0 col0\" >True</td>\n",
       "      <td id=\"T_b1260_row0_col1\" class=\"data row0 col1\" >True</td>\n",
       "      <td id=\"T_b1260_row0_col2\" class=\"data row0 col2\" >True</td>\n",
       "    </tr>\n",
       "    <tr>\n",
       "      <th id=\"T_b1260_level0_row1\" class=\"row_heading level0 row1\" >2000-06-15 17:30:00</th>\n",
       "      <td id=\"T_b1260_row1_col0\" class=\"data row1 col0\" >True</td>\n",
       "      <td id=\"T_b1260_row1_col1\" class=\"data row1 col1\" >True</td>\n",
       "      <td id=\"T_b1260_row1_col2\" class=\"data row1 col2\" >True</td>\n",
       "    </tr>\n",
       "    <tr>\n",
       "      <th id=\"T_b1260_level0_row2\" class=\"row_heading level0 row2\" >2000-06-15 18:00:00</th>\n",
       "      <td id=\"T_b1260_row2_col0\" class=\"data row2 col0\" >False</td>\n",
       "      <td id=\"T_b1260_row2_col1\" class=\"data row2 col1\" >False</td>\n",
       "      <td id=\"T_b1260_row2_col2\" class=\"data row2 col2\" >True</td>\n",
       "    </tr>\n",
       "    <tr>\n",
       "      <th id=\"T_b1260_level0_row3\" class=\"row_heading level0 row3\" >2000-06-15 18:30:00</th>\n",
       "      <td id=\"T_b1260_row3_col0\" class=\"data row3 col0\" >False</td>\n",
       "      <td id=\"T_b1260_row3_col1\" class=\"data row3 col1\" >False</td>\n",
       "      <td id=\"T_b1260_row3_col2\" class=\"data row3 col2\" >True</td>\n",
       "    </tr>\n",
       "    <tr>\n",
       "      <th id=\"T_b1260_level0_row4\" class=\"row_heading level0 row4\" >2000-06-15 19:00:00</th>\n",
       "      <td id=\"T_b1260_row4_col0\" class=\"data row4 col0\" >True</td>\n",
       "      <td id=\"T_b1260_row4_col1\" class=\"data row4 col1\" >True</td>\n",
       "      <td id=\"T_b1260_row4_col2\" class=\"data row4 col2\" >True</td>\n",
       "    </tr>\n",
       "    <tr>\n",
       "      <th id=\"T_b1260_level0_row5\" class=\"row_heading level0 row5\" >2000-06-15 19:30:00</th>\n",
       "      <td id=\"T_b1260_row5_col0\" class=\"data row5 col0\" >True</td>\n",
       "      <td id=\"T_b1260_row5_col1\" class=\"data row5 col1\" >True</td>\n",
       "      <td id=\"T_b1260_row5_col2\" class=\"data row5 col2\" >True</td>\n",
       "    </tr>\n",
       "    <tr>\n",
       "      <th id=\"T_b1260_level0_row6\" class=\"row_heading level0 row6\" >2000-06-15 20:00:00</th>\n",
       "      <td id=\"T_b1260_row6_col0\" class=\"data row6 col0\" >True</td>\n",
       "      <td id=\"T_b1260_row6_col1\" class=\"data row6 col1\" >True</td>\n",
       "      <td id=\"T_b1260_row6_col2\" class=\"data row6 col2\" >True</td>\n",
       "    </tr>\n",
       "    <tr>\n",
       "      <th id=\"T_b1260_level0_row7\" class=\"row_heading level0 row7\" >2000-06-15 20:30:00</th>\n",
       "      <td id=\"T_b1260_row7_col0\" class=\"data row7 col0\" >True</td>\n",
       "      <td id=\"T_b1260_row7_col1\" class=\"data row7 col1\" >True</td>\n",
       "      <td id=\"T_b1260_row7_col2\" class=\"data row7 col2\" >True</td>\n",
       "    </tr>\n",
       "    <tr>\n",
       "      <th id=\"T_b1260_level0_row8\" class=\"row_heading level0 row8\" >2000-06-15 21:00:00</th>\n",
       "      <td id=\"T_b1260_row8_col0\" class=\"data row8 col0\" >True</td>\n",
       "      <td id=\"T_b1260_row8_col1\" class=\"data row8 col1\" >True</td>\n",
       "      <td id=\"T_b1260_row8_col2\" class=\"data row8 col2\" >True</td>\n",
       "    </tr>\n",
       "    <tr>\n",
       "      <th id=\"T_b1260_level0_row9\" class=\"row_heading level0 row9\" >2000-06-15 21:30:00</th>\n",
       "      <td id=\"T_b1260_row9_col0\" class=\"data row9 col0\" >True</td>\n",
       "      <td id=\"T_b1260_row9_col1\" class=\"data row9 col1\" >True</td>\n",
       "      <td id=\"T_b1260_row9_col2\" class=\"data row9 col2\" >True</td>\n",
       "    </tr>\n",
       "  </tbody>\n",
       "</table>\n",
       " </div><div> <p style='font-size: 1.3rem;'>control</p> <style type=\"text/css\">\n",
       "</style>\n",
       "<table id=\"T_ff663\">\n",
       "  <thead>\n",
       "    <tr>\n",
       "      <th class=\"blank level0\" >&nbsp;</th>\n",
       "      <th id=\"T_ff663_level0_col0\" class=\"col_heading level0 col0\" >TA_ERA</th>\n",
       "      <th id=\"T_ff663_level0_col1\" class=\"col_heading level0 col1\" >SW_IN_ERA</th>\n",
       "      <th id=\"T_ff663_level0_col2\" class=\"col_heading level0 col2\" >VPD_ERA</th>\n",
       "      <th id=\"T_ff663_level0_col3\" class=\"col_heading level0 col3\" >TA_ERA_lag_1</th>\n",
       "      <th id=\"T_ff663_level0_col4\" class=\"col_heading level0 col4\" >SW_IN_ERA_lag_1</th>\n",
       "      <th id=\"T_ff663_level0_col5\" class=\"col_heading level0 col5\" >VPD_ERA_lag_1</th>\n",
       "    </tr>\n",
       "    <tr>\n",
       "      <th class=\"index_name level0\" >time</th>\n",
       "      <th class=\"blank col0\" >&nbsp;</th>\n",
       "      <th class=\"blank col1\" >&nbsp;</th>\n",
       "      <th class=\"blank col2\" >&nbsp;</th>\n",
       "      <th class=\"blank col3\" >&nbsp;</th>\n",
       "      <th class=\"blank col4\" >&nbsp;</th>\n",
       "      <th class=\"blank col5\" >&nbsp;</th>\n",
       "    </tr>\n",
       "  </thead>\n",
       "  <tbody>\n",
       "    <tr>\n",
       "      <th id=\"T_ff663_level0_row0\" class=\"row_heading level0 row0\" >2000-06-15 17:00:00</th>\n",
       "      <td id=\"T_ff663_row0_col0\" class=\"data row0 col0\" >15.0500</td>\n",
       "      <td id=\"T_ff663_row0_col1\" class=\"data row0 col1\" >255.1930</td>\n",
       "      <td id=\"T_ff663_row0_col2\" class=\"data row0 col2\" >5.1020</td>\n",
       "      <td id=\"T_ff663_row0_col3\" class=\"data row0 col3\" >15.1390</td>\n",
       "      <td id=\"T_ff663_row0_col4\" class=\"data row0 col4\" >287.1000</td>\n",
       "      <td id=\"T_ff663_row0_col5\" class=\"data row0 col5\" >4.9000</td>\n",
       "    </tr>\n",
       "    <tr>\n",
       "      <th id=\"T_ff663_level0_row1\" class=\"row_heading level0 row1\" >2000-06-15 17:30:00</th>\n",
       "      <td id=\"T_ff663_row1_col0\" class=\"data row1 col0\" >14.9610</td>\n",
       "      <td id=\"T_ff663_row1_col1\" class=\"data row1 col1\" >221.4270</td>\n",
       "      <td id=\"T_ff663_row1_col2\" class=\"data row1 col2\" >5.3050</td>\n",
       "      <td id=\"T_ff663_row1_col3\" class=\"data row1 col3\" >15.0500</td>\n",
       "      <td id=\"T_ff663_row1_col4\" class=\"data row1 col4\" >255.1930</td>\n",
       "      <td id=\"T_ff663_row1_col5\" class=\"data row1 col5\" >5.1020</td>\n",
       "    </tr>\n",
       "    <tr>\n",
       "      <th id=\"T_ff663_level0_row2\" class=\"row_heading level0 row2\" >2000-06-15 18:00:00</th>\n",
       "      <td id=\"T_ff663_row2_col0\" class=\"data row2 col0\" >14.8720</td>\n",
       "      <td id=\"T_ff663_row2_col1\" class=\"data row2 col1\" >186.3800</td>\n",
       "      <td id=\"T_ff663_row2_col2\" class=\"data row2 col2\" >5.5070</td>\n",
       "      <td id=\"T_ff663_row2_col3\" class=\"data row2 col3\" >14.9610</td>\n",
       "      <td id=\"T_ff663_row2_col4\" class=\"data row2 col4\" >221.4270</td>\n",
       "      <td id=\"T_ff663_row2_col5\" class=\"data row2 col5\" >5.3050</td>\n",
       "    </tr>\n",
       "    <tr>\n",
       "      <th id=\"T_ff663_level0_row3\" class=\"row_heading level0 row3\" >2000-06-15 18:30:00</th>\n",
       "      <td id=\"T_ff663_row3_col0\" class=\"data row3 col0\" >14.7830</td>\n",
       "      <td id=\"T_ff663_row3_col1\" class=\"data row3 col1\" >150.6500</td>\n",
       "      <td id=\"T_ff663_row3_col2\" class=\"data row3 col2\" >5.7100</td>\n",
       "      <td id=\"T_ff663_row3_col3\" class=\"data row3 col3\" >14.8720</td>\n",
       "      <td id=\"T_ff663_row3_col4\" class=\"data row3 col4\" >186.3800</td>\n",
       "      <td id=\"T_ff663_row3_col5\" class=\"data row3 col5\" >5.5070</td>\n",
       "    </tr>\n",
       "    <tr>\n",
       "      <th id=\"T_ff663_level0_row4\" class=\"row_heading level0 row4\" >2000-06-15 19:00:00</th>\n",
       "      <td id=\"T_ff663_row4_col0\" class=\"data row4 col0\" >14.6940</td>\n",
       "      <td id=\"T_ff663_row4_col1\" class=\"data row4 col1\" >114.8490</td>\n",
       "      <td id=\"T_ff663_row4_col2\" class=\"data row4 col2\" >5.9120</td>\n",
       "      <td id=\"T_ff663_row4_col3\" class=\"data row4 col3\" >14.7830</td>\n",
       "      <td id=\"T_ff663_row4_col4\" class=\"data row4 col4\" >150.6500</td>\n",
       "      <td id=\"T_ff663_row4_col5\" class=\"data row4 col5\" >5.7100</td>\n",
       "    </tr>\n",
       "    <tr>\n",
       "      <th id=\"T_ff663_level0_row5\" class=\"row_heading level0 row5\" >2000-06-15 19:30:00</th>\n",
       "      <td id=\"T_ff663_row5_col0\" class=\"data row5 col0\" >14.6060</td>\n",
       "      <td id=\"T_ff663_row5_col1\" class=\"data row5 col1\" >34.7280</td>\n",
       "      <td id=\"T_ff663_row5_col2\" class=\"data row5 col2\" >6.1140</td>\n",
       "      <td id=\"T_ff663_row5_col3\" class=\"data row5 col3\" >14.6940</td>\n",
       "      <td id=\"T_ff663_row5_col4\" class=\"data row5 col4\" >114.8490</td>\n",
       "      <td id=\"T_ff663_row5_col5\" class=\"data row5 col5\" >5.9120</td>\n",
       "    </tr>\n",
       "    <tr>\n",
       "      <th id=\"T_ff663_level0_row6\" class=\"row_heading level0 row6\" >2000-06-15 20:00:00</th>\n",
       "      <td id=\"T_ff663_row6_col0\" class=\"data row6 col0\" >14.3800</td>\n",
       "      <td id=\"T_ff663_row6_col1\" class=\"data row6 col1\" >19.8430</td>\n",
       "      <td id=\"T_ff663_row6_col2\" class=\"data row6 col2\" >6.0740</td>\n",
       "      <td id=\"T_ff663_row6_col3\" class=\"data row6 col3\" >14.6060</td>\n",
       "      <td id=\"T_ff663_row6_col4\" class=\"data row6 col4\" >34.7280</td>\n",
       "      <td id=\"T_ff663_row6_col5\" class=\"data row6 col5\" >6.1140</td>\n",
       "    </tr>\n",
       "    <tr>\n",
       "      <th id=\"T_ff663_level0_row7\" class=\"row_heading level0 row7\" >2000-06-15 20:30:00</th>\n",
       "      <td id=\"T_ff663_row7_col0\" class=\"data row7 col0\" >14.1550</td>\n",
       "      <td id=\"T_ff663_row7_col1\" class=\"data row7 col1\" >5.7120</td>\n",
       "      <td id=\"T_ff663_row7_col2\" class=\"data row7 col2\" >6.0340</td>\n",
       "      <td id=\"T_ff663_row7_col3\" class=\"data row7 col3\" >14.3800</td>\n",
       "      <td id=\"T_ff663_row7_col4\" class=\"data row7 col4\" >19.8430</td>\n",
       "      <td id=\"T_ff663_row7_col5\" class=\"data row7 col5\" >6.0740</td>\n",
       "    </tr>\n",
       "    <tr>\n",
       "      <th id=\"T_ff663_level0_row8\" class=\"row_heading level0 row8\" >2000-06-15 21:00:00</th>\n",
       "      <td id=\"T_ff663_row8_col0\" class=\"data row8 col0\" >13.9290</td>\n",
       "      <td id=\"T_ff663_row8_col1\" class=\"data row8 col1\" >0.0000</td>\n",
       "      <td id=\"T_ff663_row8_col2\" class=\"data row8 col2\" >5.9940</td>\n",
       "      <td id=\"T_ff663_row8_col3\" class=\"data row8 col3\" >14.1550</td>\n",
       "      <td id=\"T_ff663_row8_col4\" class=\"data row8 col4\" >5.7120</td>\n",
       "      <td id=\"T_ff663_row8_col5\" class=\"data row8 col5\" >6.0340</td>\n",
       "    </tr>\n",
       "    <tr>\n",
       "      <th id=\"T_ff663_level0_row9\" class=\"row_heading level0 row9\" >2000-06-15 21:30:00</th>\n",
       "      <td id=\"T_ff663_row9_col0\" class=\"data row9 col0\" >13.7040</td>\n",
       "      <td id=\"T_ff663_row9_col1\" class=\"data row9 col1\" >0.0000</td>\n",
       "      <td id=\"T_ff663_row9_col2\" class=\"data row9 col2\" >5.9540</td>\n",
       "      <td id=\"T_ff663_row9_col3\" class=\"data row9 col3\" >13.9290</td>\n",
       "      <td id=\"T_ff663_row9_col4\" class=\"data row9 col4\" >0.0000</td>\n",
       "      <td id=\"T_ff663_row9_col5\" class=\"data row9 col5\" >5.9940</td>\n",
       "    </tr>\n",
       "  </tbody>\n",
       "</table>\n",
       " </div></div>"
      ],
      "text/plain": [
       "__main__.MeteoImpDf(data=                        TA       SW_IN    VPD\n",
       "time                                         \n",
       "2000-06-15 17:00:00  14.22  224.800003  5.799\n",
       "2000-06-15 17:30:00  14.11  195.279999  6.577\n",
       "2000-06-15 18:00:00  14.23  244.169998  6.931\n",
       "2000-06-15 18:30:00  14.40  253.919998  7.286\n",
       "2000-06-15 19:00:00  14.09  177.309998  7.251\n",
       "2000-06-15 19:30:00  13.71   97.070000  6.683\n",
       "2000-06-15 20:00:00  13.08   39.709999  5.851\n",
       "2000-06-15 20:30:00  12.41   10.650000  5.254\n",
       "2000-06-15 21:00:00  12.27    0.320000  5.164\n",
       "2000-06-15 21:30:00  12.20    0.000000  5.037, mask=                        TA  SW_IN   VPD\n",
       "time                                   \n",
       "2000-06-15 17:00:00   True   True  True\n",
       "2000-06-15 17:30:00   True   True  True\n",
       "2000-06-15 18:00:00  False  False  True\n",
       "2000-06-15 18:30:00  False  False  True\n",
       "2000-06-15 19:00:00   True   True  True\n",
       "2000-06-15 19:30:00   True   True  True\n",
       "2000-06-15 20:00:00   True   True  True\n",
       "2000-06-15 20:30:00   True   True  True\n",
       "2000-06-15 21:00:00   True   True  True\n",
       "2000-06-15 21:30:00   True   True  True, control=                     TA_ERA   SW_IN_ERA  VPD_ERA  TA_ERA_lag_1  \\\n",
       "time                                                             \n",
       "2000-06-15 17:00:00  15.050  255.192993    5.102        15.139   \n",
       "2000-06-15 17:30:00  14.961  221.427002    5.305        15.050   \n",
       "2000-06-15 18:00:00  14.872  186.380005    5.507        14.961   \n",
       "2000-06-15 18:30:00  14.783  150.649994    5.710        14.872   \n",
       "2000-06-15 19:00:00  14.694  114.848999    5.912        14.783   \n",
       "2000-06-15 19:30:00  14.606   34.728001    6.114        14.694   \n",
       "2000-06-15 20:00:00  14.380   19.843000    6.074        14.606   \n",
       "2000-06-15 20:30:00  14.155    5.712000    6.034        14.380   \n",
       "2000-06-15 21:00:00  13.929    0.000000    5.994        14.155   \n",
       "2000-06-15 21:30:00  13.704    0.000000    5.954        13.929   \n",
       "\n",
       "                     SW_IN_ERA_lag_1  VPD_ERA_lag_1  \n",
       "time                                                 \n",
       "2000-06-15 17:00:00       287.100006          4.900  \n",
       "2000-06-15 17:30:00       255.192993          5.102  \n",
       "2000-06-15 18:00:00       221.427002          5.305  \n",
       "2000-06-15 18:30:00       186.380005          5.507  \n",
       "2000-06-15 19:00:00       150.649994          5.710  \n",
       "2000-06-15 19:30:00       114.848999          5.912  \n",
       "2000-06-15 20:00:00        34.728001          6.114  \n",
       "2000-06-15 20:30:00        19.843000          6.074  \n",
       "2000-06-15 21:00:00         5.712000          6.034  \n",
       "2000-06-15 21:30:00         0.000000          5.994  )"
      ]
     },
     "execution_count": null,
     "metadata": {},
     "output_type": "execute_result"
    }
   ],
   "source": [
    "tfms2[0]"
   ]
  },
  {
   "cell_type": "code",
   "execution_count": null,
   "id": "2f3cccff-2b4f-4817-9807-4d833f9f8b52",
   "metadata": {},
   "outputs": [],
   "source": [
    "m_df = tfms2[0]"
   ]
  },
  {
   "cell_type": "markdown",
   "id": "71e4eba0-adfd-46a6-9f1c-5f0402cc39fa",
   "metadata": {},
   "source": [
    "##### Tidy"
   ]
  },
  {
   "cell_type": "code",
   "execution_count": null,
   "id": "5952ccff-6433-48ca-8940-6ea872927cdc",
   "metadata": {},
   "outputs": [],
   "source": [
    "#| export\n",
    "@patch\n",
    "def tidy(self: MeteoImpDf,\n",
    "         control:Optional[dict[str, str]] = None # mapping from control var names to obs names\n",
    "        ):\n",
    "    data = self.data.reset_index().melt(\"time\")\n",
    "    mask = self.mask.reset_index().melt(\"time\", value_name=\"is_present\")\n",
    "    \n",
    "    if control is not None:\n",
    "        control = (self.control[control.keys()].rename(columns=control)\n",
    "                    .reset_index().melt(\"time\", value_name=\"control\"))\n",
    "        data = pd.merge(data, control, on=[\"time\", \"variable\"], how=\"left\")\n",
    "    \n",
    "    return pd.merge(data, mask, on=[\"time\", \"variable\"])"
   ]
  },
  {
   "cell_type": "code",
   "execution_count": null,
   "id": "cbf39408-6731-489a-9ec0-10ca1ca5e667",
   "metadata": {},
   "outputs": [],
   "source": [
    "#| export\n",
    "hai_control = {'TA_ERA': 'TA', 'SW_IN_ERA': 'SW_IN', 'VPD_ERA': 'VPD'}"
   ]
  },
  {
   "cell_type": "code",
   "execution_count": null,
   "id": "c601c37c-a032-4edb-a522-50ce0af7b87d",
   "metadata": {},
   "outputs": [
    {
     "data": {
      "text/html": [
       "<div>\n",
       "<style scoped>\n",
       "    .dataframe tbody tr th:only-of-type {\n",
       "        vertical-align: middle;\n",
       "    }\n",
       "\n",
       "    .dataframe tbody tr th {\n",
       "        vertical-align: top;\n",
       "    }\n",
       "\n",
       "    .dataframe thead th {\n",
       "        text-align: right;\n",
       "    }\n",
       "</style>\n",
       "<table border=\"1\" class=\"dataframe\">\n",
       "  <thead>\n",
       "    <tr style=\"text-align: right;\">\n",
       "      <th></th>\n",
       "      <th>time</th>\n",
       "      <th>variable</th>\n",
       "      <th>value</th>\n",
       "      <th>is_present</th>\n",
       "    </tr>\n",
       "  </thead>\n",
       "  <tbody>\n",
       "    <tr>\n",
       "      <th>0</th>\n",
       "      <td>2000-06-15 17:00:00</td>\n",
       "      <td>TA</td>\n",
       "      <td>14.220000</td>\n",
       "      <td>True</td>\n",
       "    </tr>\n",
       "    <tr>\n",
       "      <th>1</th>\n",
       "      <td>2000-06-15 17:30:00</td>\n",
       "      <td>TA</td>\n",
       "      <td>14.110000</td>\n",
       "      <td>True</td>\n",
       "    </tr>\n",
       "    <tr>\n",
       "      <th>2</th>\n",
       "      <td>2000-06-15 18:00:00</td>\n",
       "      <td>TA</td>\n",
       "      <td>14.230000</td>\n",
       "      <td>False</td>\n",
       "    </tr>\n",
       "    <tr>\n",
       "      <th>3</th>\n",
       "      <td>2000-06-15 18:30:00</td>\n",
       "      <td>TA</td>\n",
       "      <td>14.400000</td>\n",
       "      <td>False</td>\n",
       "    </tr>\n",
       "    <tr>\n",
       "      <th>4</th>\n",
       "      <td>2000-06-15 19:00:00</td>\n",
       "      <td>TA</td>\n",
       "      <td>14.090000</td>\n",
       "      <td>True</td>\n",
       "    </tr>\n",
       "    <tr>\n",
       "      <th>5</th>\n",
       "      <td>2000-06-15 19:30:00</td>\n",
       "      <td>TA</td>\n",
       "      <td>13.710000</td>\n",
       "      <td>True</td>\n",
       "    </tr>\n",
       "    <tr>\n",
       "      <th>6</th>\n",
       "      <td>2000-06-15 20:00:00</td>\n",
       "      <td>TA</td>\n",
       "      <td>13.080000</td>\n",
       "      <td>True</td>\n",
       "    </tr>\n",
       "    <tr>\n",
       "      <th>7</th>\n",
       "      <td>2000-06-15 20:30:00</td>\n",
       "      <td>TA</td>\n",
       "      <td>12.410000</td>\n",
       "      <td>True</td>\n",
       "    </tr>\n",
       "    <tr>\n",
       "      <th>8</th>\n",
       "      <td>2000-06-15 21:00:00</td>\n",
       "      <td>TA</td>\n",
       "      <td>12.270000</td>\n",
       "      <td>True</td>\n",
       "    </tr>\n",
       "    <tr>\n",
       "      <th>9</th>\n",
       "      <td>2000-06-15 21:30:00</td>\n",
       "      <td>TA</td>\n",
       "      <td>12.200000</td>\n",
       "      <td>True</td>\n",
       "    </tr>\n",
       "    <tr>\n",
       "      <th>10</th>\n",
       "      <td>2000-06-15 17:00:00</td>\n",
       "      <td>SW_IN</td>\n",
       "      <td>224.800003</td>\n",
       "      <td>True</td>\n",
       "    </tr>\n",
       "    <tr>\n",
       "      <th>11</th>\n",
       "      <td>2000-06-15 17:30:00</td>\n",
       "      <td>SW_IN</td>\n",
       "      <td>195.279999</td>\n",
       "      <td>True</td>\n",
       "    </tr>\n",
       "    <tr>\n",
       "      <th>12</th>\n",
       "      <td>2000-06-15 18:00:00</td>\n",
       "      <td>SW_IN</td>\n",
       "      <td>244.169998</td>\n",
       "      <td>False</td>\n",
       "    </tr>\n",
       "    <tr>\n",
       "      <th>13</th>\n",
       "      <td>2000-06-15 18:30:00</td>\n",
       "      <td>SW_IN</td>\n",
       "      <td>253.919998</td>\n",
       "      <td>False</td>\n",
       "    </tr>\n",
       "    <tr>\n",
       "      <th>14</th>\n",
       "      <td>2000-06-15 19:00:00</td>\n",
       "      <td>SW_IN</td>\n",
       "      <td>177.309998</td>\n",
       "      <td>True</td>\n",
       "    </tr>\n",
       "    <tr>\n",
       "      <th>15</th>\n",
       "      <td>2000-06-15 19:30:00</td>\n",
       "      <td>SW_IN</td>\n",
       "      <td>97.070000</td>\n",
       "      <td>True</td>\n",
       "    </tr>\n",
       "    <tr>\n",
       "      <th>16</th>\n",
       "      <td>2000-06-15 20:00:00</td>\n",
       "      <td>SW_IN</td>\n",
       "      <td>39.709999</td>\n",
       "      <td>True</td>\n",
       "    </tr>\n",
       "    <tr>\n",
       "      <th>17</th>\n",
       "      <td>2000-06-15 20:30:00</td>\n",
       "      <td>SW_IN</td>\n",
       "      <td>10.650000</td>\n",
       "      <td>True</td>\n",
       "    </tr>\n",
       "    <tr>\n",
       "      <th>18</th>\n",
       "      <td>2000-06-15 21:00:00</td>\n",
       "      <td>SW_IN</td>\n",
       "      <td>0.320000</td>\n",
       "      <td>True</td>\n",
       "    </tr>\n",
       "    <tr>\n",
       "      <th>19</th>\n",
       "      <td>2000-06-15 21:30:00</td>\n",
       "      <td>SW_IN</td>\n",
       "      <td>0.000000</td>\n",
       "      <td>True</td>\n",
       "    </tr>\n",
       "    <tr>\n",
       "      <th>20</th>\n",
       "      <td>2000-06-15 17:00:00</td>\n",
       "      <td>VPD</td>\n",
       "      <td>5.799000</td>\n",
       "      <td>True</td>\n",
       "    </tr>\n",
       "    <tr>\n",
       "      <th>21</th>\n",
       "      <td>2000-06-15 17:30:00</td>\n",
       "      <td>VPD</td>\n",
       "      <td>6.577000</td>\n",
       "      <td>True</td>\n",
       "    </tr>\n",
       "    <tr>\n",
       "      <th>22</th>\n",
       "      <td>2000-06-15 18:00:00</td>\n",
       "      <td>VPD</td>\n",
       "      <td>6.931000</td>\n",
       "      <td>True</td>\n",
       "    </tr>\n",
       "    <tr>\n",
       "      <th>23</th>\n",
       "      <td>2000-06-15 18:30:00</td>\n",
       "      <td>VPD</td>\n",
       "      <td>7.286000</td>\n",
       "      <td>True</td>\n",
       "    </tr>\n",
       "    <tr>\n",
       "      <th>24</th>\n",
       "      <td>2000-06-15 19:00:00</td>\n",
       "      <td>VPD</td>\n",
       "      <td>7.251000</td>\n",
       "      <td>True</td>\n",
       "    </tr>\n",
       "    <tr>\n",
       "      <th>25</th>\n",
       "      <td>2000-06-15 19:30:00</td>\n",
       "      <td>VPD</td>\n",
       "      <td>6.683000</td>\n",
       "      <td>True</td>\n",
       "    </tr>\n",
       "    <tr>\n",
       "      <th>26</th>\n",
       "      <td>2000-06-15 20:00:00</td>\n",
       "      <td>VPD</td>\n",
       "      <td>5.851000</td>\n",
       "      <td>True</td>\n",
       "    </tr>\n",
       "    <tr>\n",
       "      <th>27</th>\n",
       "      <td>2000-06-15 20:30:00</td>\n",
       "      <td>VPD</td>\n",
       "      <td>5.254000</td>\n",
       "      <td>True</td>\n",
       "    </tr>\n",
       "    <tr>\n",
       "      <th>28</th>\n",
       "      <td>2000-06-15 21:00:00</td>\n",
       "      <td>VPD</td>\n",
       "      <td>5.164000</td>\n",
       "      <td>True</td>\n",
       "    </tr>\n",
       "    <tr>\n",
       "      <th>29</th>\n",
       "      <td>2000-06-15 21:30:00</td>\n",
       "      <td>VPD</td>\n",
       "      <td>5.037000</td>\n",
       "      <td>True</td>\n",
       "    </tr>\n",
       "  </tbody>\n",
       "</table>\n",
       "</div>"
      ],
      "text/plain": [
       "                  time variable       value  is_present\n",
       "0  2000-06-15 17:00:00       TA   14.220000        True\n",
       "1  2000-06-15 17:30:00       TA   14.110000        True\n",
       "2  2000-06-15 18:00:00       TA   14.230000       False\n",
       "3  2000-06-15 18:30:00       TA   14.400000       False\n",
       "4  2000-06-15 19:00:00       TA   14.090000        True\n",
       "5  2000-06-15 19:30:00       TA   13.710000        True\n",
       "6  2000-06-15 20:00:00       TA   13.080000        True\n",
       "7  2000-06-15 20:30:00       TA   12.410000        True\n",
       "8  2000-06-15 21:00:00       TA   12.270000        True\n",
       "9  2000-06-15 21:30:00       TA   12.200000        True\n",
       "10 2000-06-15 17:00:00    SW_IN  224.800003        True\n",
       "11 2000-06-15 17:30:00    SW_IN  195.279999        True\n",
       "12 2000-06-15 18:00:00    SW_IN  244.169998       False\n",
       "13 2000-06-15 18:30:00    SW_IN  253.919998       False\n",
       "14 2000-06-15 19:00:00    SW_IN  177.309998        True\n",
       "15 2000-06-15 19:30:00    SW_IN   97.070000        True\n",
       "16 2000-06-15 20:00:00    SW_IN   39.709999        True\n",
       "17 2000-06-15 20:30:00    SW_IN   10.650000        True\n",
       "18 2000-06-15 21:00:00    SW_IN    0.320000        True\n",
       "19 2000-06-15 21:30:00    SW_IN    0.000000        True\n",
       "20 2000-06-15 17:00:00      VPD    5.799000        True\n",
       "21 2000-06-15 17:30:00      VPD    6.577000        True\n",
       "22 2000-06-15 18:00:00      VPD    6.931000        True\n",
       "23 2000-06-15 18:30:00      VPD    7.286000        True\n",
       "24 2000-06-15 19:00:00      VPD    7.251000        True\n",
       "25 2000-06-15 19:30:00      VPD    6.683000        True\n",
       "26 2000-06-15 20:00:00      VPD    5.851000        True\n",
       "27 2000-06-15 20:30:00      VPD    5.254000        True\n",
       "28 2000-06-15 21:00:00      VPD    5.164000        True\n",
       "29 2000-06-15 21:30:00      VPD    5.037000        True"
      ]
     },
     "execution_count": null,
     "metadata": {},
     "output_type": "execute_result"
    }
   ],
   "source": [
    "m_df.tidy()"
   ]
  },
  {
   "cell_type": "code",
   "execution_count": null,
   "id": "276279df-563d-427a-955d-52ed10477f48",
   "metadata": {},
   "outputs": [
    {
     "data": {
      "text/html": [
       "<div>\n",
       "<style scoped>\n",
       "    .dataframe tbody tr th:only-of-type {\n",
       "        vertical-align: middle;\n",
       "    }\n",
       "\n",
       "    .dataframe tbody tr th {\n",
       "        vertical-align: top;\n",
       "    }\n",
       "\n",
       "    .dataframe thead th {\n",
       "        text-align: right;\n",
       "    }\n",
       "</style>\n",
       "<table border=\"1\" class=\"dataframe\">\n",
       "  <thead>\n",
       "    <tr style=\"text-align: right;\">\n",
       "      <th></th>\n",
       "      <th>time</th>\n",
       "      <th>variable</th>\n",
       "      <th>value</th>\n",
       "      <th>control</th>\n",
       "      <th>is_present</th>\n",
       "    </tr>\n",
       "  </thead>\n",
       "  <tbody>\n",
       "    <tr>\n",
       "      <th>0</th>\n",
       "      <td>2000-06-15 17:00:00</td>\n",
       "      <td>TA</td>\n",
       "      <td>14.220000</td>\n",
       "      <td>15.050</td>\n",
       "      <td>True</td>\n",
       "    </tr>\n",
       "    <tr>\n",
       "      <th>1</th>\n",
       "      <td>2000-06-15 17:30:00</td>\n",
       "      <td>TA</td>\n",
       "      <td>14.110000</td>\n",
       "      <td>14.961</td>\n",
       "      <td>True</td>\n",
       "    </tr>\n",
       "    <tr>\n",
       "      <th>2</th>\n",
       "      <td>2000-06-15 18:00:00</td>\n",
       "      <td>TA</td>\n",
       "      <td>14.230000</td>\n",
       "      <td>14.872</td>\n",
       "      <td>False</td>\n",
       "    </tr>\n",
       "    <tr>\n",
       "      <th>3</th>\n",
       "      <td>2000-06-15 18:30:00</td>\n",
       "      <td>TA</td>\n",
       "      <td>14.400000</td>\n",
       "      <td>14.783</td>\n",
       "      <td>False</td>\n",
       "    </tr>\n",
       "    <tr>\n",
       "      <th>4</th>\n",
       "      <td>2000-06-15 19:00:00</td>\n",
       "      <td>TA</td>\n",
       "      <td>14.090000</td>\n",
       "      <td>14.694</td>\n",
       "      <td>True</td>\n",
       "    </tr>\n",
       "    <tr>\n",
       "      <th>5</th>\n",
       "      <td>2000-06-15 19:30:00</td>\n",
       "      <td>TA</td>\n",
       "      <td>13.710000</td>\n",
       "      <td>14.606</td>\n",
       "      <td>True</td>\n",
       "    </tr>\n",
       "    <tr>\n",
       "      <th>6</th>\n",
       "      <td>2000-06-15 20:00:00</td>\n",
       "      <td>TA</td>\n",
       "      <td>13.080000</td>\n",
       "      <td>14.380</td>\n",
       "      <td>True</td>\n",
       "    </tr>\n",
       "    <tr>\n",
       "      <th>7</th>\n",
       "      <td>2000-06-15 20:30:00</td>\n",
       "      <td>TA</td>\n",
       "      <td>12.410000</td>\n",
       "      <td>14.155</td>\n",
       "      <td>True</td>\n",
       "    </tr>\n",
       "    <tr>\n",
       "      <th>8</th>\n",
       "      <td>2000-06-15 21:00:00</td>\n",
       "      <td>TA</td>\n",
       "      <td>12.270000</td>\n",
       "      <td>13.929</td>\n",
       "      <td>True</td>\n",
       "    </tr>\n",
       "    <tr>\n",
       "      <th>9</th>\n",
       "      <td>2000-06-15 21:30:00</td>\n",
       "      <td>TA</td>\n",
       "      <td>12.200000</td>\n",
       "      <td>13.704</td>\n",
       "      <td>True</td>\n",
       "    </tr>\n",
       "    <tr>\n",
       "      <th>10</th>\n",
       "      <td>2000-06-15 17:00:00</td>\n",
       "      <td>SW_IN</td>\n",
       "      <td>224.800003</td>\n",
       "      <td>NaN</td>\n",
       "      <td>True</td>\n",
       "    </tr>\n",
       "    <tr>\n",
       "      <th>11</th>\n",
       "      <td>2000-06-15 17:30:00</td>\n",
       "      <td>SW_IN</td>\n",
       "      <td>195.279999</td>\n",
       "      <td>NaN</td>\n",
       "      <td>True</td>\n",
       "    </tr>\n",
       "    <tr>\n",
       "      <th>12</th>\n",
       "      <td>2000-06-15 18:00:00</td>\n",
       "      <td>SW_IN</td>\n",
       "      <td>244.169998</td>\n",
       "      <td>NaN</td>\n",
       "      <td>False</td>\n",
       "    </tr>\n",
       "    <tr>\n",
       "      <th>13</th>\n",
       "      <td>2000-06-15 18:30:00</td>\n",
       "      <td>SW_IN</td>\n",
       "      <td>253.919998</td>\n",
       "      <td>NaN</td>\n",
       "      <td>False</td>\n",
       "    </tr>\n",
       "    <tr>\n",
       "      <th>14</th>\n",
       "      <td>2000-06-15 19:00:00</td>\n",
       "      <td>SW_IN</td>\n",
       "      <td>177.309998</td>\n",
       "      <td>NaN</td>\n",
       "      <td>True</td>\n",
       "    </tr>\n",
       "    <tr>\n",
       "      <th>15</th>\n",
       "      <td>2000-06-15 19:30:00</td>\n",
       "      <td>SW_IN</td>\n",
       "      <td>97.070000</td>\n",
       "      <td>NaN</td>\n",
       "      <td>True</td>\n",
       "    </tr>\n",
       "    <tr>\n",
       "      <th>16</th>\n",
       "      <td>2000-06-15 20:00:00</td>\n",
       "      <td>SW_IN</td>\n",
       "      <td>39.709999</td>\n",
       "      <td>NaN</td>\n",
       "      <td>True</td>\n",
       "    </tr>\n",
       "    <tr>\n",
       "      <th>17</th>\n",
       "      <td>2000-06-15 20:30:00</td>\n",
       "      <td>SW_IN</td>\n",
       "      <td>10.650000</td>\n",
       "      <td>NaN</td>\n",
       "      <td>True</td>\n",
       "    </tr>\n",
       "    <tr>\n",
       "      <th>18</th>\n",
       "      <td>2000-06-15 21:00:00</td>\n",
       "      <td>SW_IN</td>\n",
       "      <td>0.320000</td>\n",
       "      <td>NaN</td>\n",
       "      <td>True</td>\n",
       "    </tr>\n",
       "    <tr>\n",
       "      <th>19</th>\n",
       "      <td>2000-06-15 21:30:00</td>\n",
       "      <td>SW_IN</td>\n",
       "      <td>0.000000</td>\n",
       "      <td>NaN</td>\n",
       "      <td>True</td>\n",
       "    </tr>\n",
       "    <tr>\n",
       "      <th>20</th>\n",
       "      <td>2000-06-15 17:00:00</td>\n",
       "      <td>VPD</td>\n",
       "      <td>5.799000</td>\n",
       "      <td>NaN</td>\n",
       "      <td>True</td>\n",
       "    </tr>\n",
       "    <tr>\n",
       "      <th>21</th>\n",
       "      <td>2000-06-15 17:30:00</td>\n",
       "      <td>VPD</td>\n",
       "      <td>6.577000</td>\n",
       "      <td>NaN</td>\n",
       "      <td>True</td>\n",
       "    </tr>\n",
       "    <tr>\n",
       "      <th>22</th>\n",
       "      <td>2000-06-15 18:00:00</td>\n",
       "      <td>VPD</td>\n",
       "      <td>6.931000</td>\n",
       "      <td>NaN</td>\n",
       "      <td>True</td>\n",
       "    </tr>\n",
       "    <tr>\n",
       "      <th>23</th>\n",
       "      <td>2000-06-15 18:30:00</td>\n",
       "      <td>VPD</td>\n",
       "      <td>7.286000</td>\n",
       "      <td>NaN</td>\n",
       "      <td>True</td>\n",
       "    </tr>\n",
       "    <tr>\n",
       "      <th>24</th>\n",
       "      <td>2000-06-15 19:00:00</td>\n",
       "      <td>VPD</td>\n",
       "      <td>7.251000</td>\n",
       "      <td>NaN</td>\n",
       "      <td>True</td>\n",
       "    </tr>\n",
       "    <tr>\n",
       "      <th>25</th>\n",
       "      <td>2000-06-15 19:30:00</td>\n",
       "      <td>VPD</td>\n",
       "      <td>6.683000</td>\n",
       "      <td>NaN</td>\n",
       "      <td>True</td>\n",
       "    </tr>\n",
       "    <tr>\n",
       "      <th>26</th>\n",
       "      <td>2000-06-15 20:00:00</td>\n",
       "      <td>VPD</td>\n",
       "      <td>5.851000</td>\n",
       "      <td>NaN</td>\n",
       "      <td>True</td>\n",
       "    </tr>\n",
       "    <tr>\n",
       "      <th>27</th>\n",
       "      <td>2000-06-15 20:30:00</td>\n",
       "      <td>VPD</td>\n",
       "      <td>5.254000</td>\n",
       "      <td>NaN</td>\n",
       "      <td>True</td>\n",
       "    </tr>\n",
       "    <tr>\n",
       "      <th>28</th>\n",
       "      <td>2000-06-15 21:00:00</td>\n",
       "      <td>VPD</td>\n",
       "      <td>5.164000</td>\n",
       "      <td>NaN</td>\n",
       "      <td>True</td>\n",
       "    </tr>\n",
       "    <tr>\n",
       "      <th>29</th>\n",
       "      <td>2000-06-15 21:30:00</td>\n",
       "      <td>VPD</td>\n",
       "      <td>5.037000</td>\n",
       "      <td>NaN</td>\n",
       "      <td>True</td>\n",
       "    </tr>\n",
       "  </tbody>\n",
       "</table>\n",
       "</div>"
      ],
      "text/plain": [
       "                  time variable       value  control  is_present\n",
       "0  2000-06-15 17:00:00       TA   14.220000   15.050        True\n",
       "1  2000-06-15 17:30:00       TA   14.110000   14.961        True\n",
       "2  2000-06-15 18:00:00       TA   14.230000   14.872       False\n",
       "3  2000-06-15 18:30:00       TA   14.400000   14.783       False\n",
       "4  2000-06-15 19:00:00       TA   14.090000   14.694        True\n",
       "5  2000-06-15 19:30:00       TA   13.710000   14.606        True\n",
       "6  2000-06-15 20:00:00       TA   13.080000   14.380        True\n",
       "7  2000-06-15 20:30:00       TA   12.410000   14.155        True\n",
       "8  2000-06-15 21:00:00       TA   12.270000   13.929        True\n",
       "9  2000-06-15 21:30:00       TA   12.200000   13.704        True\n",
       "10 2000-06-15 17:00:00    SW_IN  224.800003      NaN        True\n",
       "11 2000-06-15 17:30:00    SW_IN  195.279999      NaN        True\n",
       "12 2000-06-15 18:00:00    SW_IN  244.169998      NaN       False\n",
       "13 2000-06-15 18:30:00    SW_IN  253.919998      NaN       False\n",
       "14 2000-06-15 19:00:00    SW_IN  177.309998      NaN        True\n",
       "15 2000-06-15 19:30:00    SW_IN   97.070000      NaN        True\n",
       "16 2000-06-15 20:00:00    SW_IN   39.709999      NaN        True\n",
       "17 2000-06-15 20:30:00    SW_IN   10.650000      NaN        True\n",
       "18 2000-06-15 21:00:00    SW_IN    0.320000      NaN        True\n",
       "19 2000-06-15 21:30:00    SW_IN    0.000000      NaN        True\n",
       "20 2000-06-15 17:00:00      VPD    5.799000      NaN        True\n",
       "21 2000-06-15 17:30:00      VPD    6.577000      NaN        True\n",
       "22 2000-06-15 18:00:00      VPD    6.931000      NaN        True\n",
       "23 2000-06-15 18:30:00      VPD    7.286000      NaN        True\n",
       "24 2000-06-15 19:00:00      VPD    7.251000      NaN        True\n",
       "25 2000-06-15 19:30:00      VPD    6.683000      NaN        True\n",
       "26 2000-06-15 20:00:00      VPD    5.851000      NaN        True\n",
       "27 2000-06-15 20:30:00      VPD    5.254000      NaN        True\n",
       "28 2000-06-15 21:00:00      VPD    5.164000      NaN        True\n",
       "29 2000-06-15 21:30:00      VPD    5.037000      NaN        True"
      ]
     },
     "execution_count": null,
     "metadata": {},
     "output_type": "execute_result"
    }
   ],
   "source": [
    "m_df.tidy(control={'TA_ERA': 'TA'})"
   ]
  },
  {
   "cell_type": "markdown",
   "id": "9d2c8fbc-f1e1-4938-b4a6-d29d8bd8e6bd",
   "metadata": {},
   "source": [
    "#### Plotting"
   ]
  },
  {
   "cell_type": "code",
   "execution_count": null,
   "id": "f36f4825-52e4-49c7-92f1-14d64429e3ea",
   "metadata": {},
   "outputs": [],
   "source": [
    "#| export\n",
    "import altair as alt\n",
    "from altair import datum"
   ]
  },
  {
   "cell_type": "code",
   "execution_count": null,
   "id": "51544d62-63ca-4e6c-b63e-943cc739fa5b",
   "metadata": {},
   "outputs": [],
   "source": [
    "#| exporti\n",
    "def def_selection():\n",
    "    return alt.selection_interval(bind=\"scales\")"
   ]
  },
  {
   "cell_type": "markdown",
   "id": "fb225f9b-770d-4d41-941d-08c32cd65927",
   "metadata": {},
   "source": [
    "##### Rug"
   ]
  },
  {
   "cell_type": "code",
   "execution_count": null,
   "id": "7f1e483f-f250-4baf-82ee-3958f5cefba8",
   "metadata": {},
   "outputs": [],
   "source": [
    "#| exporti\n",
    "def plot_rug(df, sel = def_selection(), props = {}):\n",
    "    if 'height' in props:\n",
    "        props = props.copy() \n",
    "        props.pop('height') # rug should have default heigth\n",
    "    return alt.Chart(df).mark_tick(\n",
    "            color='black',\n",
    "        ).encode(\n",
    "            x = \"time\",\n",
    "            color = alt.condition(datum.is_present, alt.value('white'), alt.value('black'))\n",
    "        ).add_params(\n",
    "            sel\n",
    "        ).properties(**props) "
   ]
  },
  {
   "cell_type": "code",
   "execution_count": null,
   "id": "f9668bee-f4dd-48e6-92cd-4b96f1f3626e",
   "metadata": {},
   "outputs": [
    {
     "data": {
      "text/html": [
       "\n",
       "<div id=\"altair-viz-7cb696790b014274ac9601381c6bbdb4\"></div>\n",
       "<script type=\"text/javascript\">\n",
       "  var VEGA_DEBUG = (typeof VEGA_DEBUG == \"undefined\") ? {} : VEGA_DEBUG;\n",
       "  (function(spec, embedOpt){\n",
       "    let outputDiv = document.currentScript.previousElementSibling;\n",
       "    if (outputDiv.id !== \"altair-viz-7cb696790b014274ac9601381c6bbdb4\") {\n",
       "      outputDiv = document.getElementById(\"altair-viz-7cb696790b014274ac9601381c6bbdb4\");\n",
       "    }\n",
       "    const paths = {\n",
       "      \"vega\": \"https://cdn.jsdelivr.net/npm//vega@5?noext\",\n",
       "      \"vega-lib\": \"https://cdn.jsdelivr.net/npm//vega-lib?noext\",\n",
       "      \"vega-lite\": \"https://cdn.jsdelivr.net/npm//vega-lite@5.2.0?noext\",\n",
       "      \"vega-embed\": \"https://cdn.jsdelivr.net/npm//vega-embed@6?noext\",\n",
       "    };\n",
       "\n",
       "    function maybeLoadScript(lib, version) {\n",
       "      var key = `${lib.replace(\"-\", \"\")}_version`;\n",
       "      return (VEGA_DEBUG[key] == version) ?\n",
       "        Promise.resolve(paths[lib]) :\n",
       "        new Promise(function(resolve, reject) {\n",
       "          var s = document.createElement('script');\n",
       "          document.getElementsByTagName(\"head\")[0].appendChild(s);\n",
       "          s.async = true;\n",
       "          s.onload = () => {\n",
       "            VEGA_DEBUG[key] = version;\n",
       "            return resolve(paths[lib]);\n",
       "          };\n",
       "          s.onerror = () => reject(`Error loading script: ${paths[lib]}`);\n",
       "          s.src = paths[lib];\n",
       "        });\n",
       "    }\n",
       "\n",
       "    function showError(err) {\n",
       "      outputDiv.innerHTML = `<div class=\"error\" style=\"color:red;\">${err}</div>`;\n",
       "      throw err;\n",
       "    }\n",
       "\n",
       "    function displayChart(vegaEmbed) {\n",
       "      vegaEmbed(outputDiv, spec, embedOpt)\n",
       "        .catch(err => showError(`Javascript Error: ${err.message}<br>This usually means there's a typo in your chart specification. See the javascript console for the full traceback.`));\n",
       "    }\n",
       "\n",
       "    if(typeof define === \"function\" && define.amd) {\n",
       "      requirejs.config({paths});\n",
       "      require([\"vega-embed\"], displayChart, err => showError(`Error loading script: ${err.message}`));\n",
       "    } else {\n",
       "      maybeLoadScript(\"vega\", \"5\")\n",
       "        .then(() => maybeLoadScript(\"vega-lite\", \"5.2.0\"))\n",
       "        .then(() => maybeLoadScript(\"vega-embed\", \"6\"))\n",
       "        .catch(showError)\n",
       "        .then(() => displayChart(vegaEmbed));\n",
       "    }\n",
       "  })({\"config\": {\"view\": {\"continuousWidth\": 400, \"continuousHeight\": 300}}, \"data\": {\"name\": \"data-116cc6393c3280498ddad806716d336a\"}, \"mark\": {\"type\": \"tick\", \"color\": \"black\"}, \"encoding\": {\"color\": {\"condition\": {\"value\": \"white\", \"test\": \"datum.is_present\"}, \"value\": \"black\"}, \"x\": {\"field\": \"time\", \"type\": \"temporal\"}}, \"params\": [{\"name\": \"param_1\", \"select\": {\"type\": \"interval\"}, \"bind\": \"scales\"}], \"$schema\": \"https://vega.github.io/schema/vega-lite/v5.2.0.json\", \"datasets\": {\"data-116cc6393c3280498ddad806716d336a\": [{\"time\": \"2000-06-15T17:00:00\", \"variable\": \"TA\", \"value\": 14.220000267028809, \"is_present\": true}, {\"time\": \"2000-06-15T17:30:00\", \"variable\": \"TA\", \"value\": 14.109999656677246, \"is_present\": true}, {\"time\": \"2000-06-15T18:00:00\", \"variable\": \"TA\", \"value\": 14.229999542236328, \"is_present\": false}, {\"time\": \"2000-06-15T18:30:00\", \"variable\": \"TA\", \"value\": 14.399999618530273, \"is_present\": false}, {\"time\": \"2000-06-15T19:00:00\", \"variable\": \"TA\", \"value\": 14.09000015258789, \"is_present\": true}, {\"time\": \"2000-06-15T19:30:00\", \"variable\": \"TA\", \"value\": 13.710000038146973, \"is_present\": true}, {\"time\": \"2000-06-15T20:00:00\", \"variable\": \"TA\", \"value\": 13.079999923706055, \"is_present\": true}, {\"time\": \"2000-06-15T20:30:00\", \"variable\": \"TA\", \"value\": 12.40999984741211, \"is_present\": true}, {\"time\": \"2000-06-15T21:00:00\", \"variable\": \"TA\", \"value\": 12.270000457763672, \"is_present\": true}, {\"time\": \"2000-06-15T21:30:00\", \"variable\": \"TA\", \"value\": 12.199999809265137, \"is_present\": true}, {\"time\": \"2000-06-15T17:00:00\", \"variable\": \"SW_IN\", \"value\": 224.8000030517578, \"is_present\": true}, {\"time\": \"2000-06-15T17:30:00\", \"variable\": \"SW_IN\", \"value\": 195.27999877929688, \"is_present\": true}, {\"time\": \"2000-06-15T18:00:00\", \"variable\": \"SW_IN\", \"value\": 244.1699981689453, \"is_present\": false}, {\"time\": \"2000-06-15T18:30:00\", \"variable\": \"SW_IN\", \"value\": 253.9199981689453, \"is_present\": false}, {\"time\": \"2000-06-15T19:00:00\", \"variable\": \"SW_IN\", \"value\": 177.30999755859375, \"is_present\": true}, {\"time\": \"2000-06-15T19:30:00\", \"variable\": \"SW_IN\", \"value\": 97.06999969482422, \"is_present\": true}, {\"time\": \"2000-06-15T20:00:00\", \"variable\": \"SW_IN\", \"value\": 39.709999084472656, \"is_present\": true}, {\"time\": \"2000-06-15T20:30:00\", \"variable\": \"SW_IN\", \"value\": 10.649999618530273, \"is_present\": true}, {\"time\": \"2000-06-15T21:00:00\", \"variable\": \"SW_IN\", \"value\": 0.3199999928474426, \"is_present\": true}, {\"time\": \"2000-06-15T21:30:00\", \"variable\": \"SW_IN\", \"value\": 0.0, \"is_present\": true}, {\"time\": \"2000-06-15T17:00:00\", \"variable\": \"VPD\", \"value\": 5.798999786376953, \"is_present\": true}, {\"time\": \"2000-06-15T17:30:00\", \"variable\": \"VPD\", \"value\": 6.577000141143799, \"is_present\": true}, {\"time\": \"2000-06-15T18:00:00\", \"variable\": \"VPD\", \"value\": 6.931000232696533, \"is_present\": true}, {\"time\": \"2000-06-15T18:30:00\", \"variable\": \"VPD\", \"value\": 7.285999774932861, \"is_present\": true}, {\"time\": \"2000-06-15T19:00:00\", \"variable\": \"VPD\", \"value\": 7.250999927520752, \"is_present\": true}, {\"time\": \"2000-06-15T19:30:00\", \"variable\": \"VPD\", \"value\": 6.683000087738037, \"is_present\": true}, {\"time\": \"2000-06-15T20:00:00\", \"variable\": \"VPD\", \"value\": 5.85099983215332, \"is_present\": true}, {\"time\": \"2000-06-15T20:30:00\", \"variable\": \"VPD\", \"value\": 5.254000186920166, \"is_present\": true}, {\"time\": \"2000-06-15T21:00:00\", \"variable\": \"VPD\", \"value\": 5.164000034332275, \"is_present\": true}, {\"time\": \"2000-06-15T21:30:00\", \"variable\": \"VPD\", \"value\": 5.0370001792907715, \"is_present\": true}]}}, {\"mode\": \"vega-lite\"});\n",
       "</script>"
      ],
      "text/plain": [
       "alt.Chart(...)"
      ]
     },
     "execution_count": null,
     "metadata": {},
     "output_type": "execute_result"
    }
   ],
   "source": [
    "plot_rug(m_df.tidy())"
   ]
  },
  {
   "cell_type": "code",
   "execution_count": null,
   "id": "bdefec0f-d6f6-4567-a187-a005d585fde6",
   "metadata": {},
   "outputs": [],
   "source": [
    "df = m_df.tidy()"
   ]
  },
  {
   "cell_type": "code",
   "execution_count": null,
   "id": "d6b0071d-6545-475d-8230-f0855dfe541f",
   "metadata": {},
   "outputs": [],
   "source": [
    "df = df[df.variable==\"TA\"].copy()"
   ]
  },
  {
   "cell_type": "code",
   "execution_count": null,
   "id": "6ed27295-faac-42e7-9f06-449e7b247531",
   "metadata": {},
   "outputs": [],
   "source": [
    "df['row_number'] = df.reset_index().index"
   ]
  },
  {
   "cell_type": "code",
   "execution_count": null,
   "id": "21b363a1-fb47-4569-87e9-46b0c6b0c3d0",
   "metadata": {},
   "outputs": [
    {
     "data": {
      "text/html": [
       "<div>\n",
       "<style scoped>\n",
       "    .dataframe tbody tr th:only-of-type {\n",
       "        vertical-align: middle;\n",
       "    }\n",
       "\n",
       "    .dataframe tbody tr th {\n",
       "        vertical-align: top;\n",
       "    }\n",
       "\n",
       "    .dataframe thead th {\n",
       "        text-align: right;\n",
       "    }\n",
       "</style>\n",
       "<table border=\"1\" class=\"dataframe\">\n",
       "  <thead>\n",
       "    <tr style=\"text-align: right;\">\n",
       "      <th></th>\n",
       "      <th>time</th>\n",
       "      <th>variable</th>\n",
       "      <th>value</th>\n",
       "      <th>is_present</th>\n",
       "      <th>row_number</th>\n",
       "    </tr>\n",
       "  </thead>\n",
       "  <tbody>\n",
       "    <tr>\n",
       "      <th>0</th>\n",
       "      <td>2000-06-15 17:00:00</td>\n",
       "      <td>TA</td>\n",
       "      <td>14.22</td>\n",
       "      <td>True</td>\n",
       "      <td>0</td>\n",
       "    </tr>\n",
       "    <tr>\n",
       "      <th>1</th>\n",
       "      <td>2000-06-15 17:30:00</td>\n",
       "      <td>TA</td>\n",
       "      <td>14.11</td>\n",
       "      <td>True</td>\n",
       "      <td>1</td>\n",
       "    </tr>\n",
       "    <tr>\n",
       "      <th>2</th>\n",
       "      <td>2000-06-15 18:00:00</td>\n",
       "      <td>TA</td>\n",
       "      <td>14.23</td>\n",
       "      <td>False</td>\n",
       "      <td>2</td>\n",
       "    </tr>\n",
       "    <tr>\n",
       "      <th>3</th>\n",
       "      <td>2000-06-15 18:30:00</td>\n",
       "      <td>TA</td>\n",
       "      <td>14.40</td>\n",
       "      <td>False</td>\n",
       "      <td>3</td>\n",
       "    </tr>\n",
       "    <tr>\n",
       "      <th>4</th>\n",
       "      <td>2000-06-15 19:00:00</td>\n",
       "      <td>TA</td>\n",
       "      <td>14.09</td>\n",
       "      <td>True</td>\n",
       "      <td>4</td>\n",
       "    </tr>\n",
       "    <tr>\n",
       "      <th>5</th>\n",
       "      <td>2000-06-15 19:30:00</td>\n",
       "      <td>TA</td>\n",
       "      <td>13.71</td>\n",
       "      <td>True</td>\n",
       "      <td>5</td>\n",
       "    </tr>\n",
       "    <tr>\n",
       "      <th>6</th>\n",
       "      <td>2000-06-15 20:00:00</td>\n",
       "      <td>TA</td>\n",
       "      <td>13.08</td>\n",
       "      <td>True</td>\n",
       "      <td>6</td>\n",
       "    </tr>\n",
       "    <tr>\n",
       "      <th>7</th>\n",
       "      <td>2000-06-15 20:30:00</td>\n",
       "      <td>TA</td>\n",
       "      <td>12.41</td>\n",
       "      <td>True</td>\n",
       "      <td>7</td>\n",
       "    </tr>\n",
       "    <tr>\n",
       "      <th>8</th>\n",
       "      <td>2000-06-15 21:00:00</td>\n",
       "      <td>TA</td>\n",
       "      <td>12.27</td>\n",
       "      <td>True</td>\n",
       "      <td>8</td>\n",
       "    </tr>\n",
       "    <tr>\n",
       "      <th>9</th>\n",
       "      <td>2000-06-15 21:30:00</td>\n",
       "      <td>TA</td>\n",
       "      <td>12.20</td>\n",
       "      <td>True</td>\n",
       "      <td>9</td>\n",
       "    </tr>\n",
       "  </tbody>\n",
       "</table>\n",
       "</div>"
      ],
      "text/plain": [
       "                 time variable  value  is_present  row_number\n",
       "0 2000-06-15 17:00:00       TA  14.22        True           0\n",
       "1 2000-06-15 17:30:00       TA  14.11        True           1\n",
       "2 2000-06-15 18:00:00       TA  14.23       False           2\n",
       "3 2000-06-15 18:30:00       TA  14.40       False           3\n",
       "4 2000-06-15 19:00:00       TA  14.09        True           4\n",
       "5 2000-06-15 19:30:00       TA  13.71        True           5\n",
       "6 2000-06-15 20:00:00       TA  13.08        True           6\n",
       "7 2000-06-15 20:30:00       TA  12.41        True           7\n",
       "8 2000-06-15 21:00:00       TA  12.27        True           8\n",
       "9 2000-06-15 21:30:00       TA  12.20        True           9"
      ]
     },
     "execution_count": null,
     "metadata": {},
     "output_type": "execute_result"
    }
   ],
   "source": [
    "df"
   ]
  },
  {
   "cell_type": "code",
   "execution_count": null,
   "id": "f6c46a29-3900-4a8c-b80a-dfdf374591f8",
   "metadata": {},
   "outputs": [
    {
     "data": {
      "text/plain": [
       "time          2000-06-15 17:30:00\n",
       "variable                       TA\n",
       "value                       14.11\n",
       "is_present                   True\n",
       "row_number                      1\n",
       "Name: 1, dtype: object"
      ]
     },
     "execution_count": null,
     "metadata": {},
     "output_type": "execute_result"
    }
   ],
   "source": [
    "df.iloc[1]"
   ]
  },
  {
   "cell_type": "code",
   "execution_count": null,
   "id": "6571fccf-df94-4339-bd7d-6b7d8a485c84",
   "metadata": {},
   "outputs": [],
   "source": [
    "df.loc[2, \"is_present\"] = True"
   ]
  },
  {
   "cell_type": "code",
   "execution_count": null,
   "id": "02874424-e189-4097-bcce-e9a3018e5603",
   "metadata": {},
   "outputs": [
    {
     "data": {
      "text/html": [
       "<div>\n",
       "<style scoped>\n",
       "    .dataframe tbody tr th:only-of-type {\n",
       "        vertical-align: middle;\n",
       "    }\n",
       "\n",
       "    .dataframe tbody tr th {\n",
       "        vertical-align: top;\n",
       "    }\n",
       "\n",
       "    .dataframe thead th {\n",
       "        text-align: right;\n",
       "    }\n",
       "</style>\n",
       "<table border=\"1\" class=\"dataframe\">\n",
       "  <thead>\n",
       "    <tr style=\"text-align: right;\">\n",
       "      <th></th>\n",
       "      <th>time</th>\n",
       "      <th>variable</th>\n",
       "      <th>value</th>\n",
       "      <th>is_present</th>\n",
       "      <th>row_number</th>\n",
       "    </tr>\n",
       "  </thead>\n",
       "  <tbody>\n",
       "    <tr>\n",
       "      <th>0</th>\n",
       "      <td>2000-06-15 17:00:00</td>\n",
       "      <td>TA</td>\n",
       "      <td>14.22</td>\n",
       "      <td>True</td>\n",
       "      <td>0</td>\n",
       "    </tr>\n",
       "    <tr>\n",
       "      <th>1</th>\n",
       "      <td>2000-06-15 17:30:00</td>\n",
       "      <td>TA</td>\n",
       "      <td>14.11</td>\n",
       "      <td>True</td>\n",
       "      <td>1</td>\n",
       "    </tr>\n",
       "    <tr>\n",
       "      <th>2</th>\n",
       "      <td>2000-06-15 18:00:00</td>\n",
       "      <td>TA</td>\n",
       "      <td>14.23</td>\n",
       "      <td>True</td>\n",
       "      <td>2</td>\n",
       "    </tr>\n",
       "    <tr>\n",
       "      <th>3</th>\n",
       "      <td>2000-06-15 18:30:00</td>\n",
       "      <td>TA</td>\n",
       "      <td>14.40</td>\n",
       "      <td>False</td>\n",
       "      <td>3</td>\n",
       "    </tr>\n",
       "    <tr>\n",
       "      <th>4</th>\n",
       "      <td>2000-06-15 19:00:00</td>\n",
       "      <td>TA</td>\n",
       "      <td>14.09</td>\n",
       "      <td>True</td>\n",
       "      <td>4</td>\n",
       "    </tr>\n",
       "    <tr>\n",
       "      <th>5</th>\n",
       "      <td>2000-06-15 19:30:00</td>\n",
       "      <td>TA</td>\n",
       "      <td>13.71</td>\n",
       "      <td>True</td>\n",
       "      <td>5</td>\n",
       "    </tr>\n",
       "    <tr>\n",
       "      <th>6</th>\n",
       "      <td>2000-06-15 20:00:00</td>\n",
       "      <td>TA</td>\n",
       "      <td>13.08</td>\n",
       "      <td>True</td>\n",
       "      <td>6</td>\n",
       "    </tr>\n",
       "    <tr>\n",
       "      <th>7</th>\n",
       "      <td>2000-06-15 20:30:00</td>\n",
       "      <td>TA</td>\n",
       "      <td>12.41</td>\n",
       "      <td>True</td>\n",
       "      <td>7</td>\n",
       "    </tr>\n",
       "    <tr>\n",
       "      <th>8</th>\n",
       "      <td>2000-06-15 21:00:00</td>\n",
       "      <td>TA</td>\n",
       "      <td>12.27</td>\n",
       "      <td>True</td>\n",
       "      <td>8</td>\n",
       "    </tr>\n",
       "    <tr>\n",
       "      <th>9</th>\n",
       "      <td>2000-06-15 21:30:00</td>\n",
       "      <td>TA</td>\n",
       "      <td>12.20</td>\n",
       "      <td>True</td>\n",
       "      <td>9</td>\n",
       "    </tr>\n",
       "  </tbody>\n",
       "</table>\n",
       "</div>"
      ],
      "text/plain": [
       "                 time variable  value  is_present  row_number\n",
       "0 2000-06-15 17:00:00       TA  14.22        True           0\n",
       "1 2000-06-15 17:30:00       TA  14.11        True           1\n",
       "2 2000-06-15 18:00:00       TA  14.23        True           2\n",
       "3 2000-06-15 18:30:00       TA  14.40       False           3\n",
       "4 2000-06-15 19:00:00       TA  14.09        True           4\n",
       "5 2000-06-15 19:30:00       TA  13.71        True           5\n",
       "6 2000-06-15 20:00:00       TA  13.08        True           6\n",
       "7 2000-06-15 20:30:00       TA  12.41        True           7\n",
       "8 2000-06-15 21:00:00       TA  12.27        True           8\n",
       "9 2000-06-15 21:30:00       TA  12.20        True           9"
      ]
     },
     "execution_count": null,
     "metadata": {},
     "output_type": "execute_result"
    }
   ],
   "source": [
    "df"
   ]
  },
  {
   "cell_type": "code",
   "execution_count": null,
   "id": "6bc69f42-fbae-4393-a474-7dd845a2c469",
   "metadata": {},
   "outputs": [],
   "source": [
    "i = 1\n",
    "prev, curr, _next= df.iloc[i-1], df.iloc[i], df.iloc[i+1]"
   ]
  },
  {
   "cell_type": "code",
   "execution_count": null,
   "id": "091cedd6-11d6-4086-a0e3-69d2a2b0c3e6",
   "metadata": {},
   "outputs": [
    {
     "data": {
      "text/plain": [
       "(time          2000-06-15 17:00:00\n",
       " variable                       TA\n",
       " value                       14.22\n",
       " is_present                   True\n",
       " row_number                      0\n",
       " Name: 0, dtype: object,\n",
       " time          2000-06-15 17:30:00\n",
       " variable                       TA\n",
       " value                       14.11\n",
       " is_present                   True\n",
       " row_number                      1\n",
       " Name: 1, dtype: object,\n",
       " time          2000-06-15 18:00:00\n",
       " variable                       TA\n",
       " value                       14.23\n",
       " is_present                   True\n",
       " row_number                      2\n",
       " Name: 2, dtype: object)"
      ]
     },
     "execution_count": null,
     "metadata": {},
     "output_type": "execute_result"
    }
   ],
   "source": [
    "prev, curr, _next"
   ]
  },
  {
   "cell_type": "code",
   "execution_count": null,
   "id": "8ef120c9-d2f4-4b89-bfa5-e6a8758f16bd",
   "metadata": {},
   "outputs": [
    {
     "data": {
      "text/html": [
       "<div>\n",
       "<style scoped>\n",
       "    .dataframe tbody tr th:only-of-type {\n",
       "        vertical-align: middle;\n",
       "    }\n",
       "\n",
       "    .dataframe tbody tr th {\n",
       "        vertical-align: top;\n",
       "    }\n",
       "\n",
       "    .dataframe thead th {\n",
       "        text-align: right;\n",
       "    }\n",
       "</style>\n",
       "<table border=\"1\" class=\"dataframe\">\n",
       "  <thead>\n",
       "    <tr style=\"text-align: right;\">\n",
       "      <th></th>\n",
       "      <th>time</th>\n",
       "      <th>variable</th>\n",
       "      <th>value</th>\n",
       "      <th>is_present</th>\n",
       "      <th>row_number</th>\n",
       "    </tr>\n",
       "  </thead>\n",
       "  <tbody>\n",
       "    <tr>\n",
       "      <th>0</th>\n",
       "      <td>2000-06-15 17:00:00</td>\n",
       "      <td>TA</td>\n",
       "      <td>14.22</td>\n",
       "      <td>True</td>\n",
       "      <td>0</td>\n",
       "    </tr>\n",
       "    <tr>\n",
       "      <th>1</th>\n",
       "      <td>2000-06-15 17:30:00</td>\n",
       "      <td>TA</td>\n",
       "      <td>14.11</td>\n",
       "      <td>True</td>\n",
       "      <td>1</td>\n",
       "    </tr>\n",
       "    <tr>\n",
       "      <th>2</th>\n",
       "      <td>2000-06-15 18:00:00</td>\n",
       "      <td>TA</td>\n",
       "      <td>14.23</td>\n",
       "      <td>True</td>\n",
       "      <td>2</td>\n",
       "    </tr>\n",
       "    <tr>\n",
       "      <th>3</th>\n",
       "      <td>2000-06-15 18:30:00</td>\n",
       "      <td>TA</td>\n",
       "      <td>14.40</td>\n",
       "      <td>False</td>\n",
       "      <td>3</td>\n",
       "    </tr>\n",
       "    <tr>\n",
       "      <th>4</th>\n",
       "      <td>2000-06-15 19:00:00</td>\n",
       "      <td>TA</td>\n",
       "      <td>14.09</td>\n",
       "      <td>True</td>\n",
       "      <td>4</td>\n",
       "    </tr>\n",
       "    <tr>\n",
       "      <th>5</th>\n",
       "      <td>2000-06-15 19:30:00</td>\n",
       "      <td>TA</td>\n",
       "      <td>13.71</td>\n",
       "      <td>True</td>\n",
       "      <td>5</td>\n",
       "    </tr>\n",
       "    <tr>\n",
       "      <th>6</th>\n",
       "      <td>2000-06-15 20:00:00</td>\n",
       "      <td>TA</td>\n",
       "      <td>13.08</td>\n",
       "      <td>True</td>\n",
       "      <td>6</td>\n",
       "    </tr>\n",
       "    <tr>\n",
       "      <th>7</th>\n",
       "      <td>2000-06-15 20:30:00</td>\n",
       "      <td>TA</td>\n",
       "      <td>12.41</td>\n",
       "      <td>True</td>\n",
       "      <td>7</td>\n",
       "    </tr>\n",
       "    <tr>\n",
       "      <th>8</th>\n",
       "      <td>2000-06-15 21:00:00</td>\n",
       "      <td>TA</td>\n",
       "      <td>12.27</td>\n",
       "      <td>True</td>\n",
       "      <td>8</td>\n",
       "    </tr>\n",
       "    <tr>\n",
       "      <th>9</th>\n",
       "      <td>2000-06-15 21:30:00</td>\n",
       "      <td>TA</td>\n",
       "      <td>12.20</td>\n",
       "      <td>True</td>\n",
       "      <td>9</td>\n",
       "    </tr>\n",
       "  </tbody>\n",
       "</table>\n",
       "</div>"
      ],
      "text/plain": [
       "                 time variable  value  is_present  row_number\n",
       "0 2000-06-15 17:00:00       TA  14.22        True           0\n",
       "1 2000-06-15 17:30:00       TA  14.11        True           1\n",
       "2 2000-06-15 18:00:00       TA  14.23        True           2\n",
       "3 2000-06-15 18:30:00       TA  14.40       False           3\n",
       "4 2000-06-15 19:00:00       TA  14.09        True           4\n",
       "5 2000-06-15 19:30:00       TA  13.71        True           5\n",
       "6 2000-06-15 20:00:00       TA  13.08        True           6\n",
       "7 2000-06-15 20:30:00       TA  12.41        True           7\n",
       "8 2000-06-15 21:00:00       TA  12.27        True           8\n",
       "9 2000-06-15 21:30:00       TA  12.20        True           9"
      ]
     },
     "execution_count": null,
     "metadata": {},
     "output_type": "execute_result"
    }
   ],
   "source": [
    "df"
   ]
  },
  {
   "cell_type": "code",
   "execution_count": null,
   "id": "d9b58d08-3aab-4c42-8466-985aeb5abc54",
   "metadata": {},
   "outputs": [
    {
     "name": "stdout",
     "output_type": "stream",
     "text": [
      "gap start 2000-06-15 18:30:00\n",
      "gap end 2000-06-15 18:30:00\n"
     ]
    }
   ],
   "source": [
    "for i in range(len(df)):\n",
    "    # handle boundaries\n",
    "    prev = df.iloc[i-1].is_present if i>0 else True \n",
    "    _next = df.iloc[i+1].is_present if i<(len(df)-1) else True \n",
    "    curr = df.iloc[i]\n",
    "    if not curr.is_present and prev:\n",
    "        print(\"gap start\", curr.time)\n",
    "    if not curr.is_present and _next:\n",
    "        print(\"gap end\", curr.time)"
   ]
  },
  {
   "cell_type": "code",
   "execution_count": null,
   "id": "34b96982-b6f3-4405-8583-0e207978eac3",
   "metadata": {},
   "outputs": [],
   "source": [
    "#| export\n",
    "def find_gap_limits(df):\n",
    "    gap_starts, gap_ends = [], []\n",
    "    for i in range(len(df)):\n",
    "        prev = df.iloc[i-1].is_present if i>0 else True \n",
    "        _next = df.iloc[i+1].is_present if i<(len(df)-1) else True \n",
    "        curr = df.iloc[i]\n",
    "        if not curr.is_present and prev: gap_starts.append(curr.time)\n",
    "        if not curr.is_present and _next: gap_ends.append(curr.time)\n",
    "    return pd.DataFrame({'gap_start': gap_starts, 'gap_end': gap_ends})\n",
    "    "
   ]
  },
  {
   "cell_type": "code",
   "execution_count": null,
   "id": "1e634f1e-0d8e-4e9f-a843-a3c9ded54bae",
   "metadata": {},
   "outputs": [
    {
     "data": {
      "text/html": [
       "<div>\n",
       "<style scoped>\n",
       "    .dataframe tbody tr th:only-of-type {\n",
       "        vertical-align: middle;\n",
       "    }\n",
       "\n",
       "    .dataframe tbody tr th {\n",
       "        vertical-align: top;\n",
       "    }\n",
       "\n",
       "    .dataframe thead th {\n",
       "        text-align: right;\n",
       "    }\n",
       "</style>\n",
       "<table border=\"1\" class=\"dataframe\">\n",
       "  <thead>\n",
       "    <tr style=\"text-align: right;\">\n",
       "      <th></th>\n",
       "      <th>gap_start</th>\n",
       "      <th>gap_end</th>\n",
       "    </tr>\n",
       "  </thead>\n",
       "  <tbody>\n",
       "    <tr>\n",
       "      <th>0</th>\n",
       "      <td>2000-06-15 18:30:00</td>\n",
       "      <td>2000-06-15 18:30:00</td>\n",
       "    </tr>\n",
       "  </tbody>\n",
       "</table>\n",
       "</div>"
      ],
      "text/plain": [
       "            gap_start             gap_end\n",
       "0 2000-06-15 18:30:00 2000-06-15 18:30:00"
      ]
     },
     "execution_count": null,
     "metadata": {},
     "output_type": "execute_result"
    }
   ],
   "source": [
    "find_gap_limits(df)"
   ]
  },
  {
   "cell_type": "code",
   "execution_count": null,
   "id": "c8bf87ef-4401-4e69-97a4-67781c752b40",
   "metadata": {},
   "outputs": [],
   "source": [
    "#| export\n",
    "def plot_missing_area(df, sel = def_selection(), props={}):\n",
    "    gap_limits = find_gap_limits(df)\n",
    "    start = alt.Chart(gap_limits).mark_rule().encode(\n",
    "        x = alt.X('gap_start', axis=alt.Axis(domain=False, labels = False, ticks=False, title=None)),\n",
    "    )\n",
    "    end = alt.Chart(gap_limits).mark_rule().encode(\n",
    "        x = alt.X('gap_end', axis=alt.Axis(domain=False, labels = False, ticks=False, title=None))\n",
    "    )\n",
    "    area = alt.Chart(gap_limits).mark_rect(color='black', opacity=.15).encode(\n",
    "        x = alt.X('gap_start', axis=alt.Axis(domain=False, labels = False, ticks=False, title=None)),\n",
    "        x2 = 'gap_end'\n",
    "    )\n",
    "    return (start + end + area)#.add_params(sel).properties(**props)"
   ]
  },
  {
   "cell_type": "code",
   "execution_count": null,
   "id": "6df1e7d6-674e-465c-af15-ecfca892ef51",
   "metadata": {},
   "outputs": [
    {
     "data": {
      "text/html": [
       "\n",
       "<div id=\"altair-viz-944ac8229347423a87de22991377b8e4\"></div>\n",
       "<script type=\"text/javascript\">\n",
       "  var VEGA_DEBUG = (typeof VEGA_DEBUG == \"undefined\") ? {} : VEGA_DEBUG;\n",
       "  (function(spec, embedOpt){\n",
       "    let outputDiv = document.currentScript.previousElementSibling;\n",
       "    if (outputDiv.id !== \"altair-viz-944ac8229347423a87de22991377b8e4\") {\n",
       "      outputDiv = document.getElementById(\"altair-viz-944ac8229347423a87de22991377b8e4\");\n",
       "    }\n",
       "    const paths = {\n",
       "      \"vega\": \"https://cdn.jsdelivr.net/npm//vega@5?noext\",\n",
       "      \"vega-lib\": \"https://cdn.jsdelivr.net/npm//vega-lib?noext\",\n",
       "      \"vega-lite\": \"https://cdn.jsdelivr.net/npm//vega-lite@5.2.0?noext\",\n",
       "      \"vega-embed\": \"https://cdn.jsdelivr.net/npm//vega-embed@6?noext\",\n",
       "    };\n",
       "\n",
       "    function maybeLoadScript(lib, version) {\n",
       "      var key = `${lib.replace(\"-\", \"\")}_version`;\n",
       "      return (VEGA_DEBUG[key] == version) ?\n",
       "        Promise.resolve(paths[lib]) :\n",
       "        new Promise(function(resolve, reject) {\n",
       "          var s = document.createElement('script');\n",
       "          document.getElementsByTagName(\"head\")[0].appendChild(s);\n",
       "          s.async = true;\n",
       "          s.onload = () => {\n",
       "            VEGA_DEBUG[key] = version;\n",
       "            return resolve(paths[lib]);\n",
       "          };\n",
       "          s.onerror = () => reject(`Error loading script: ${paths[lib]}`);\n",
       "          s.src = paths[lib];\n",
       "        });\n",
       "    }\n",
       "\n",
       "    function showError(err) {\n",
       "      outputDiv.innerHTML = `<div class=\"error\" style=\"color:red;\">${err}</div>`;\n",
       "      throw err;\n",
       "    }\n",
       "\n",
       "    function displayChart(vegaEmbed) {\n",
       "      vegaEmbed(outputDiv, spec, embedOpt)\n",
       "        .catch(err => showError(`Javascript Error: ${err.message}<br>This usually means there's a typo in your chart specification. See the javascript console for the full traceback.`));\n",
       "    }\n",
       "\n",
       "    if(typeof define === \"function\" && define.amd) {\n",
       "      requirejs.config({paths});\n",
       "      require([\"vega-embed\"], displayChart, err => showError(`Error loading script: ${err.message}`));\n",
       "    } else {\n",
       "      maybeLoadScript(\"vega\", \"5\")\n",
       "        .then(() => maybeLoadScript(\"vega-lite\", \"5.2.0\"))\n",
       "        .then(() => maybeLoadScript(\"vega-embed\", \"6\"))\n",
       "        .catch(showError)\n",
       "        .then(() => displayChart(vegaEmbed));\n",
       "    }\n",
       "  })({\"config\": {\"view\": {\"continuousWidth\": 400, \"continuousHeight\": 300}}, \"layer\": [{\"mark\": \"rule\", \"encoding\": {\"x\": {\"axis\": {\"domain\": false, \"labels\": false, \"ticks\": false, \"title\": null}, \"field\": \"gap_start\", \"type\": \"temporal\"}}}, {\"mark\": \"rule\", \"encoding\": {\"x\": {\"axis\": {\"domain\": false, \"labels\": false, \"ticks\": false, \"title\": null}, \"field\": \"gap_end\", \"type\": \"temporal\"}}}, {\"mark\": {\"type\": \"rect\", \"color\": \"black\", \"opacity\": 0.15}, \"encoding\": {\"x\": {\"axis\": {\"domain\": false, \"labels\": false, \"ticks\": false, \"title\": null}, \"field\": \"gap_start\", \"type\": \"temporal\"}, \"x2\": {\"field\": \"gap_end\"}}}], \"data\": {\"name\": \"data-659c10d340f0c99d8c9e8162adc87433\"}, \"$schema\": \"https://vega.github.io/schema/vega-lite/v5.2.0.json\", \"datasets\": {\"data-659c10d340f0c99d8c9e8162adc87433\": [{\"gap_start\": \"2000-06-15T18:30:00\", \"gap_end\": \"2000-06-15T18:30:00\"}]}}, {\"mode\": \"vega-lite\"});\n",
       "</script>"
      ],
      "text/plain": [
       "alt.LayerChart(...)"
      ]
     },
     "execution_count": null,
     "metadata": {},
     "output_type": "execute_result"
    }
   ],
   "source": [
    "plot_missing_area(df)"
   ]
  },
  {
   "cell_type": "markdown",
   "id": "9ab60349-4e58-4fd7-bc85-ad85146af0a5",
   "metadata": {},
   "source": [
    "##### Points"
   ]
  },
  {
   "cell_type": "code",
   "execution_count": null,
   "id": "52f438da-c85f-40e7-bdac-c08bce559cc3",
   "metadata": {},
   "outputs": [],
   "source": [
    "#| export\n",
    "def plot_points(df, y = \"value\", y_label = \"\", sel = def_selection(), props = {}):\n",
    "    return alt.Chart(df).mark_point(\n",
    "            color='black',\n",
    "            strokeWidth = 1,\n",
    "            fillOpacity = 1\n",
    "        ).encode(\n",
    "            x = alt.X(\"time\", axis=alt.Axis(domain=True, labels = True, ticks=True, title=\"time\")),\n",
    "            y = alt.Y(y, title = y_label, scale=alt.Scale(zero=False)),\n",
    "            fill= alt.Fill(\"is_present\", scale = alt.Scale(range=[\"black\", \"#ffffff00\"]),\n",
    "                           legend = alt.Legend(title =[\"Observed data\"])),\n",
    "            shape = \"is_present\",\n",
    "        )"
   ]
  },
  {
   "cell_type": "code",
   "execution_count": null,
   "id": "530d054b-120d-4883-9692-ff2518adabbf",
   "metadata": {},
   "outputs": [
    {
     "data": {
      "text/html": [
       "\n",
       "<div id=\"altair-viz-195b88576b0a49d4bfb7c64dc1983b45\"></div>\n",
       "<script type=\"text/javascript\">\n",
       "  var VEGA_DEBUG = (typeof VEGA_DEBUG == \"undefined\") ? {} : VEGA_DEBUG;\n",
       "  (function(spec, embedOpt){\n",
       "    let outputDiv = document.currentScript.previousElementSibling;\n",
       "    if (outputDiv.id !== \"altair-viz-195b88576b0a49d4bfb7c64dc1983b45\") {\n",
       "      outputDiv = document.getElementById(\"altair-viz-195b88576b0a49d4bfb7c64dc1983b45\");\n",
       "    }\n",
       "    const paths = {\n",
       "      \"vega\": \"https://cdn.jsdelivr.net/npm//vega@5?noext\",\n",
       "      \"vega-lib\": \"https://cdn.jsdelivr.net/npm//vega-lib?noext\",\n",
       "      \"vega-lite\": \"https://cdn.jsdelivr.net/npm//vega-lite@5.2.0?noext\",\n",
       "      \"vega-embed\": \"https://cdn.jsdelivr.net/npm//vega-embed@6?noext\",\n",
       "    };\n",
       "\n",
       "    function maybeLoadScript(lib, version) {\n",
       "      var key = `${lib.replace(\"-\", \"\")}_version`;\n",
       "      return (VEGA_DEBUG[key] == version) ?\n",
       "        Promise.resolve(paths[lib]) :\n",
       "        new Promise(function(resolve, reject) {\n",
       "          var s = document.createElement('script');\n",
       "          document.getElementsByTagName(\"head\")[0].appendChild(s);\n",
       "          s.async = true;\n",
       "          s.onload = () => {\n",
       "            VEGA_DEBUG[key] = version;\n",
       "            return resolve(paths[lib]);\n",
       "          };\n",
       "          s.onerror = () => reject(`Error loading script: ${paths[lib]}`);\n",
       "          s.src = paths[lib];\n",
       "        });\n",
       "    }\n",
       "\n",
       "    function showError(err) {\n",
       "      outputDiv.innerHTML = `<div class=\"error\" style=\"color:red;\">${err}</div>`;\n",
       "      throw err;\n",
       "    }\n",
       "\n",
       "    function displayChart(vegaEmbed) {\n",
       "      vegaEmbed(outputDiv, spec, embedOpt)\n",
       "        .catch(err => showError(`Javascript Error: ${err.message}<br>This usually means there's a typo in your chart specification. See the javascript console for the full traceback.`));\n",
       "    }\n",
       "\n",
       "    if(typeof define === \"function\" && define.amd) {\n",
       "      requirejs.config({paths});\n",
       "      require([\"vega-embed\"], displayChart, err => showError(`Error loading script: ${err.message}`));\n",
       "    } else {\n",
       "      maybeLoadScript(\"vega\", \"5\")\n",
       "        .then(() => maybeLoadScript(\"vega-lite\", \"5.2.0\"))\n",
       "        .then(() => maybeLoadScript(\"vega-embed\", \"6\"))\n",
       "        .catch(showError)\n",
       "        .then(() => displayChart(vegaEmbed));\n",
       "    }\n",
       "  })({\"config\": {\"view\": {\"continuousWidth\": 400, \"continuousHeight\": 300}}, \"data\": {\"name\": \"data-116cc6393c3280498ddad806716d336a\"}, \"mark\": {\"type\": \"point\", \"color\": \"black\", \"fillOpacity\": 1, \"strokeWidth\": 1}, \"encoding\": {\"fill\": {\"field\": \"is_present\", \"legend\": {\"title\": [\"Observed data\"]}, \"scale\": {\"range\": [\"black\", \"#ffffff00\"]}, \"type\": \"nominal\"}, \"shape\": {\"field\": \"is_present\", \"type\": \"nominal\"}, \"x\": {\"axis\": {\"domain\": true, \"labels\": true, \"ticks\": true, \"title\": \"time\"}, \"field\": \"time\", \"type\": \"temporal\"}, \"y\": {\"field\": \"value\", \"scale\": {\"zero\": false}, \"title\": \"\", \"type\": \"quantitative\"}}, \"$schema\": \"https://vega.github.io/schema/vega-lite/v5.2.0.json\", \"datasets\": {\"data-116cc6393c3280498ddad806716d336a\": [{\"time\": \"2000-06-15T17:00:00\", \"variable\": \"TA\", \"value\": 14.220000267028809, \"is_present\": true}, {\"time\": \"2000-06-15T17:30:00\", \"variable\": \"TA\", \"value\": 14.109999656677246, \"is_present\": true}, {\"time\": \"2000-06-15T18:00:00\", \"variable\": \"TA\", \"value\": 14.229999542236328, \"is_present\": false}, {\"time\": \"2000-06-15T18:30:00\", \"variable\": \"TA\", \"value\": 14.399999618530273, \"is_present\": false}, {\"time\": \"2000-06-15T19:00:00\", \"variable\": \"TA\", \"value\": 14.09000015258789, \"is_present\": true}, {\"time\": \"2000-06-15T19:30:00\", \"variable\": \"TA\", \"value\": 13.710000038146973, \"is_present\": true}, {\"time\": \"2000-06-15T20:00:00\", \"variable\": \"TA\", \"value\": 13.079999923706055, \"is_present\": true}, {\"time\": \"2000-06-15T20:30:00\", \"variable\": \"TA\", \"value\": 12.40999984741211, \"is_present\": true}, {\"time\": \"2000-06-15T21:00:00\", \"variable\": \"TA\", \"value\": 12.270000457763672, \"is_present\": true}, {\"time\": \"2000-06-15T21:30:00\", \"variable\": \"TA\", \"value\": 12.199999809265137, \"is_present\": true}, {\"time\": \"2000-06-15T17:00:00\", \"variable\": \"SW_IN\", \"value\": 224.8000030517578, \"is_present\": true}, {\"time\": \"2000-06-15T17:30:00\", \"variable\": \"SW_IN\", \"value\": 195.27999877929688, \"is_present\": true}, {\"time\": \"2000-06-15T18:00:00\", \"variable\": \"SW_IN\", \"value\": 244.1699981689453, \"is_present\": false}, {\"time\": \"2000-06-15T18:30:00\", \"variable\": \"SW_IN\", \"value\": 253.9199981689453, \"is_present\": false}, {\"time\": \"2000-06-15T19:00:00\", \"variable\": \"SW_IN\", \"value\": 177.30999755859375, \"is_present\": true}, {\"time\": \"2000-06-15T19:30:00\", \"variable\": \"SW_IN\", \"value\": 97.06999969482422, \"is_present\": true}, {\"time\": \"2000-06-15T20:00:00\", \"variable\": \"SW_IN\", \"value\": 39.709999084472656, \"is_present\": true}, {\"time\": \"2000-06-15T20:30:00\", \"variable\": \"SW_IN\", \"value\": 10.649999618530273, \"is_present\": true}, {\"time\": \"2000-06-15T21:00:00\", \"variable\": \"SW_IN\", \"value\": 0.3199999928474426, \"is_present\": true}, {\"time\": \"2000-06-15T21:30:00\", \"variable\": \"SW_IN\", \"value\": 0.0, \"is_present\": true}, {\"time\": \"2000-06-15T17:00:00\", \"variable\": \"VPD\", \"value\": 5.798999786376953, \"is_present\": true}, {\"time\": \"2000-06-15T17:30:00\", \"variable\": \"VPD\", \"value\": 6.577000141143799, \"is_present\": true}, {\"time\": \"2000-06-15T18:00:00\", \"variable\": \"VPD\", \"value\": 6.931000232696533, \"is_present\": true}, {\"time\": \"2000-06-15T18:30:00\", \"variable\": \"VPD\", \"value\": 7.285999774932861, \"is_present\": true}, {\"time\": \"2000-06-15T19:00:00\", \"variable\": \"VPD\", \"value\": 7.250999927520752, \"is_present\": true}, {\"time\": \"2000-06-15T19:30:00\", \"variable\": \"VPD\", \"value\": 6.683000087738037, \"is_present\": true}, {\"time\": \"2000-06-15T20:00:00\", \"variable\": \"VPD\", \"value\": 5.85099983215332, \"is_present\": true}, {\"time\": \"2000-06-15T20:30:00\", \"variable\": \"VPD\", \"value\": 5.254000186920166, \"is_present\": true}, {\"time\": \"2000-06-15T21:00:00\", \"variable\": \"VPD\", \"value\": 5.164000034332275, \"is_present\": true}, {\"time\": \"2000-06-15T21:30:00\", \"variable\": \"VPD\", \"value\": 5.0370001792907715, \"is_present\": true}]}}, {\"mode\": \"vega-lite\"});\n",
       "</script>"
      ],
      "text/plain": [
       "alt.Chart(...)"
      ]
     },
     "execution_count": null,
     "metadata": {},
     "output_type": "execute_result"
    }
   ],
   "source": [
    "plot_points(m_df.tidy())"
   ]
  },
  {
   "cell_type": "markdown",
   "id": "ffc03c27-03d9-4a0f-9438-a6aaab415f8b",
   "metadata": {},
   "source": [
    "##### Line"
   ]
  },
  {
   "cell_type": "code",
   "execution_count": null,
   "id": "e7f9912e-eee1-40a6-9eb3-4b010a5278c5",
   "metadata": {},
   "outputs": [],
   "source": [
    "#| exporti\n",
    "def plot_line(df, only_present=True, y=\"value\", y_label = \"\", sel = def_selection(), props = {}):\n",
    "    # df = df[df.is_present] if only_present else df\n",
    "    # TODO remove onle_present\n",
    "    return alt.Chart(df).mark_line().encode(\n",
    "        x = \"time\",    \n",
    "        y = alt.Y(y, title = y_label, scale=alt.Scale(zero=False)),\n",
    "        color='variable'\n",
    "    ).add_params(\n",
    "        sel\n",
    "    ).properties(\n",
    "        **props\n",
    "    )#.transform_filter(\n",
    "    #     datum.is_present\n",
    "    # )\n",
    "\n",
    "    "
   ]
  },
  {
   "cell_type": "code",
   "execution_count": null,
   "id": "c4723d86-f673-4cfa-ae8a-58fcc542930a",
   "metadata": {},
   "outputs": [
    {
     "data": {
      "text/html": [
       "\n",
       "<div id=\"altair-viz-ee2d56468a7844dc8965de224ef0efdc\"></div>\n",
       "<script type=\"text/javascript\">\n",
       "  var VEGA_DEBUG = (typeof VEGA_DEBUG == \"undefined\") ? {} : VEGA_DEBUG;\n",
       "  (function(spec, embedOpt){\n",
       "    let outputDiv = document.currentScript.previousElementSibling;\n",
       "    if (outputDiv.id !== \"altair-viz-ee2d56468a7844dc8965de224ef0efdc\") {\n",
       "      outputDiv = document.getElementById(\"altair-viz-ee2d56468a7844dc8965de224ef0efdc\");\n",
       "    }\n",
       "    const paths = {\n",
       "      \"vega\": \"https://cdn.jsdelivr.net/npm//vega@5?noext\",\n",
       "      \"vega-lib\": \"https://cdn.jsdelivr.net/npm//vega-lib?noext\",\n",
       "      \"vega-lite\": \"https://cdn.jsdelivr.net/npm//vega-lite@5.2.0?noext\",\n",
       "      \"vega-embed\": \"https://cdn.jsdelivr.net/npm//vega-embed@6?noext\",\n",
       "    };\n",
       "\n",
       "    function maybeLoadScript(lib, version) {\n",
       "      var key = `${lib.replace(\"-\", \"\")}_version`;\n",
       "      return (VEGA_DEBUG[key] == version) ?\n",
       "        Promise.resolve(paths[lib]) :\n",
       "        new Promise(function(resolve, reject) {\n",
       "          var s = document.createElement('script');\n",
       "          document.getElementsByTagName(\"head\")[0].appendChild(s);\n",
       "          s.async = true;\n",
       "          s.onload = () => {\n",
       "            VEGA_DEBUG[key] = version;\n",
       "            return resolve(paths[lib]);\n",
       "          };\n",
       "          s.onerror = () => reject(`Error loading script: ${paths[lib]}`);\n",
       "          s.src = paths[lib];\n",
       "        });\n",
       "    }\n",
       "\n",
       "    function showError(err) {\n",
       "      outputDiv.innerHTML = `<div class=\"error\" style=\"color:red;\">${err}</div>`;\n",
       "      throw err;\n",
       "    }\n",
       "\n",
       "    function displayChart(vegaEmbed) {\n",
       "      vegaEmbed(outputDiv, spec, embedOpt)\n",
       "        .catch(err => showError(`Javascript Error: ${err.message}<br>This usually means there's a typo in your chart specification. See the javascript console for the full traceback.`));\n",
       "    }\n",
       "\n",
       "    if(typeof define === \"function\" && define.amd) {\n",
       "      requirejs.config({paths});\n",
       "      require([\"vega-embed\"], displayChart, err => showError(`Error loading script: ${err.message}`));\n",
       "    } else {\n",
       "      maybeLoadScript(\"vega\", \"5\")\n",
       "        .then(() => maybeLoadScript(\"vega-lite\", \"5.2.0\"))\n",
       "        .then(() => maybeLoadScript(\"vega-embed\", \"6\"))\n",
       "        .catch(showError)\n",
       "        .then(() => displayChart(vegaEmbed));\n",
       "    }\n",
       "  })({\"config\": {\"view\": {\"continuousWidth\": 400, \"continuousHeight\": 300}}, \"data\": {\"name\": \"data-116cc6393c3280498ddad806716d336a\"}, \"mark\": \"line\", \"encoding\": {\"color\": {\"field\": \"variable\", \"type\": \"nominal\"}, \"x\": {\"field\": \"time\", \"type\": \"temporal\"}, \"y\": {\"field\": \"value\", \"scale\": {\"zero\": false}, \"title\": \"\", \"type\": \"quantitative\"}}, \"params\": [{\"name\": \"param_4\", \"select\": {\"type\": \"interval\"}, \"bind\": \"scales\"}], \"$schema\": \"https://vega.github.io/schema/vega-lite/v5.2.0.json\", \"datasets\": {\"data-116cc6393c3280498ddad806716d336a\": [{\"time\": \"2000-06-15T17:00:00\", \"variable\": \"TA\", \"value\": 14.220000267028809, \"is_present\": true}, {\"time\": \"2000-06-15T17:30:00\", \"variable\": \"TA\", \"value\": 14.109999656677246, \"is_present\": true}, {\"time\": \"2000-06-15T18:00:00\", \"variable\": \"TA\", \"value\": 14.229999542236328, \"is_present\": false}, {\"time\": \"2000-06-15T18:30:00\", \"variable\": \"TA\", \"value\": 14.399999618530273, \"is_present\": false}, {\"time\": \"2000-06-15T19:00:00\", \"variable\": \"TA\", \"value\": 14.09000015258789, \"is_present\": true}, {\"time\": \"2000-06-15T19:30:00\", \"variable\": \"TA\", \"value\": 13.710000038146973, \"is_present\": true}, {\"time\": \"2000-06-15T20:00:00\", \"variable\": \"TA\", \"value\": 13.079999923706055, \"is_present\": true}, {\"time\": \"2000-06-15T20:30:00\", \"variable\": \"TA\", \"value\": 12.40999984741211, \"is_present\": true}, {\"time\": \"2000-06-15T21:00:00\", \"variable\": \"TA\", \"value\": 12.270000457763672, \"is_present\": true}, {\"time\": \"2000-06-15T21:30:00\", \"variable\": \"TA\", \"value\": 12.199999809265137, \"is_present\": true}, {\"time\": \"2000-06-15T17:00:00\", \"variable\": \"SW_IN\", \"value\": 224.8000030517578, \"is_present\": true}, {\"time\": \"2000-06-15T17:30:00\", \"variable\": \"SW_IN\", \"value\": 195.27999877929688, \"is_present\": true}, {\"time\": \"2000-06-15T18:00:00\", \"variable\": \"SW_IN\", \"value\": 244.1699981689453, \"is_present\": false}, {\"time\": \"2000-06-15T18:30:00\", \"variable\": \"SW_IN\", \"value\": 253.9199981689453, \"is_present\": false}, {\"time\": \"2000-06-15T19:00:00\", \"variable\": \"SW_IN\", \"value\": 177.30999755859375, \"is_present\": true}, {\"time\": \"2000-06-15T19:30:00\", \"variable\": \"SW_IN\", \"value\": 97.06999969482422, \"is_present\": true}, {\"time\": \"2000-06-15T20:00:00\", \"variable\": \"SW_IN\", \"value\": 39.709999084472656, \"is_present\": true}, {\"time\": \"2000-06-15T20:30:00\", \"variable\": \"SW_IN\", \"value\": 10.649999618530273, \"is_present\": true}, {\"time\": \"2000-06-15T21:00:00\", \"variable\": \"SW_IN\", \"value\": 0.3199999928474426, \"is_present\": true}, {\"time\": \"2000-06-15T21:30:00\", \"variable\": \"SW_IN\", \"value\": 0.0, \"is_present\": true}, {\"time\": \"2000-06-15T17:00:00\", \"variable\": \"VPD\", \"value\": 5.798999786376953, \"is_present\": true}, {\"time\": \"2000-06-15T17:30:00\", \"variable\": \"VPD\", \"value\": 6.577000141143799, \"is_present\": true}, {\"time\": \"2000-06-15T18:00:00\", \"variable\": \"VPD\", \"value\": 6.931000232696533, \"is_present\": true}, {\"time\": \"2000-06-15T18:30:00\", \"variable\": \"VPD\", \"value\": 7.285999774932861, \"is_present\": true}, {\"time\": \"2000-06-15T19:00:00\", \"variable\": \"VPD\", \"value\": 7.250999927520752, \"is_present\": true}, {\"time\": \"2000-06-15T19:30:00\", \"variable\": \"VPD\", \"value\": 6.683000087738037, \"is_present\": true}, {\"time\": \"2000-06-15T20:00:00\", \"variable\": \"VPD\", \"value\": 5.85099983215332, \"is_present\": true}, {\"time\": \"2000-06-15T20:30:00\", \"variable\": \"VPD\", \"value\": 5.254000186920166, \"is_present\": true}, {\"time\": \"2000-06-15T21:00:00\", \"variable\": \"VPD\", \"value\": 5.164000034332275, \"is_present\": true}, {\"time\": \"2000-06-15T21:30:00\", \"variable\": \"VPD\", \"value\": 5.0370001792907715, \"is_present\": true}]}}, {\"mode\": \"vega-lite\"});\n",
       "</script>"
      ],
      "text/plain": [
       "alt.Chart(...)"
      ]
     },
     "execution_count": null,
     "metadata": {},
     "output_type": "execute_result"
    }
   ],
   "source": [
    "plot_line(m_df.tidy())"
   ]
  },
  {
   "cell_type": "markdown",
   "id": "220b6be8-b302-4325-b115-884ac8f15d7d",
   "metadata": {},
   "source": [
    "##### Control"
   ]
  },
  {
   "cell_type": "code",
   "execution_count": null,
   "id": "4e32f1d7-3015-452a-9c29-a4346ba17258",
   "metadata": {},
   "outputs": [],
   "source": [
    "#| exporti\n",
    "def plot_control(df, only_present=True, y=\"control\", y_label = \"\", sel = def_selection(), props = {}):\n",
    "    # df = df[df.is_present] if only_present else df\n",
    "    # TODO remove onle_present\n",
    "    return alt.Chart(df).mark_line(strokeDash=[4,6], color=\"purple\").encode(\n",
    "        x = \"time\",    \n",
    "        y = alt.Y(y, title = y_label, scale=alt.Scale(zero=False)),\n",
    "    ).add_params(\n",
    "        sel\n",
    "    ).properties(\n",
    "        **props\n",
    "    )    "
   ]
  },
  {
   "cell_type": "code",
   "execution_count": null,
   "id": "c9eeaea9-d01b-474e-bd1e-38ba0f958304",
   "metadata": {},
   "outputs": [
    {
     "data": {
      "text/html": [
       "\n",
       "<div id=\"altair-viz-9ae36861ca724ffe971da238f51f5482\"></div>\n",
       "<script type=\"text/javascript\">\n",
       "  var VEGA_DEBUG = (typeof VEGA_DEBUG == \"undefined\") ? {} : VEGA_DEBUG;\n",
       "  (function(spec, embedOpt){\n",
       "    let outputDiv = document.currentScript.previousElementSibling;\n",
       "    if (outputDiv.id !== \"altair-viz-9ae36861ca724ffe971da238f51f5482\") {\n",
       "      outputDiv = document.getElementById(\"altair-viz-9ae36861ca724ffe971da238f51f5482\");\n",
       "    }\n",
       "    const paths = {\n",
       "      \"vega\": \"https://cdn.jsdelivr.net/npm//vega@5?noext\",\n",
       "      \"vega-lib\": \"https://cdn.jsdelivr.net/npm//vega-lib?noext\",\n",
       "      \"vega-lite\": \"https://cdn.jsdelivr.net/npm//vega-lite@5.2.0?noext\",\n",
       "      \"vega-embed\": \"https://cdn.jsdelivr.net/npm//vega-embed@6?noext\",\n",
       "    };\n",
       "\n",
       "    function maybeLoadScript(lib, version) {\n",
       "      var key = `${lib.replace(\"-\", \"\")}_version`;\n",
       "      return (VEGA_DEBUG[key] == version) ?\n",
       "        Promise.resolve(paths[lib]) :\n",
       "        new Promise(function(resolve, reject) {\n",
       "          var s = document.createElement('script');\n",
       "          document.getElementsByTagName(\"head\")[0].appendChild(s);\n",
       "          s.async = true;\n",
       "          s.onload = () => {\n",
       "            VEGA_DEBUG[key] = version;\n",
       "            return resolve(paths[lib]);\n",
       "          };\n",
       "          s.onerror = () => reject(`Error loading script: ${paths[lib]}`);\n",
       "          s.src = paths[lib];\n",
       "        });\n",
       "    }\n",
       "\n",
       "    function showError(err) {\n",
       "      outputDiv.innerHTML = `<div class=\"error\" style=\"color:red;\">${err}</div>`;\n",
       "      throw err;\n",
       "    }\n",
       "\n",
       "    function displayChart(vegaEmbed) {\n",
       "      vegaEmbed(outputDiv, spec, embedOpt)\n",
       "        .catch(err => showError(`Javascript Error: ${err.message}<br>This usually means there's a typo in your chart specification. See the javascript console for the full traceback.`));\n",
       "    }\n",
       "\n",
       "    if(typeof define === \"function\" && define.amd) {\n",
       "      requirejs.config({paths});\n",
       "      require([\"vega-embed\"], displayChart, err => showError(`Error loading script: ${err.message}`));\n",
       "    } else {\n",
       "      maybeLoadScript(\"vega\", \"5\")\n",
       "        .then(() => maybeLoadScript(\"vega-lite\", \"5.2.0\"))\n",
       "        .then(() => maybeLoadScript(\"vega-embed\", \"6\"))\n",
       "        .catch(showError)\n",
       "        .then(() => displayChart(vegaEmbed));\n",
       "    }\n",
       "  })({\"config\": {\"view\": {\"continuousWidth\": 400, \"continuousHeight\": 300}}, \"data\": {\"name\": \"data-116cc6393c3280498ddad806716d336a\"}, \"mark\": {\"type\": \"line\", \"strokeDash\": [4, 6]}, \"encoding\": {\"color\": {\"field\": \"variable\", \"type\": \"nominal\"}, \"x\": {\"field\": \"time\", \"type\": \"temporal\"}, \"y\": {\"field\": \"value\", \"scale\": {\"zero\": false}, \"title\": \"\", \"type\": \"quantitative\"}}, \"params\": [{\"name\": \"param_22\", \"select\": {\"type\": \"interval\"}, \"bind\": \"scales\"}], \"$schema\": \"https://vega.github.io/schema/vega-lite/v5.2.0.json\", \"datasets\": {\"data-116cc6393c3280498ddad806716d336a\": [{\"time\": \"2000-06-15T17:00:00\", \"variable\": \"TA\", \"value\": 14.220000267028809, \"is_present\": true}, {\"time\": \"2000-06-15T17:30:00\", \"variable\": \"TA\", \"value\": 14.109999656677246, \"is_present\": true}, {\"time\": \"2000-06-15T18:00:00\", \"variable\": \"TA\", \"value\": 14.229999542236328, \"is_present\": false}, {\"time\": \"2000-06-15T18:30:00\", \"variable\": \"TA\", \"value\": 14.399999618530273, \"is_present\": false}, {\"time\": \"2000-06-15T19:00:00\", \"variable\": \"TA\", \"value\": 14.09000015258789, \"is_present\": true}, {\"time\": \"2000-06-15T19:30:00\", \"variable\": \"TA\", \"value\": 13.710000038146973, \"is_present\": true}, {\"time\": \"2000-06-15T20:00:00\", \"variable\": \"TA\", \"value\": 13.079999923706055, \"is_present\": true}, {\"time\": \"2000-06-15T20:30:00\", \"variable\": \"TA\", \"value\": 12.40999984741211, \"is_present\": true}, {\"time\": \"2000-06-15T21:00:00\", \"variable\": \"TA\", \"value\": 12.270000457763672, \"is_present\": true}, {\"time\": \"2000-06-15T21:30:00\", \"variable\": \"TA\", \"value\": 12.199999809265137, \"is_present\": true}, {\"time\": \"2000-06-15T17:00:00\", \"variable\": \"SW_IN\", \"value\": 224.8000030517578, \"is_present\": true}, {\"time\": \"2000-06-15T17:30:00\", \"variable\": \"SW_IN\", \"value\": 195.27999877929688, \"is_present\": true}, {\"time\": \"2000-06-15T18:00:00\", \"variable\": \"SW_IN\", \"value\": 244.1699981689453, \"is_present\": false}, {\"time\": \"2000-06-15T18:30:00\", \"variable\": \"SW_IN\", \"value\": 253.9199981689453, \"is_present\": false}, {\"time\": \"2000-06-15T19:00:00\", \"variable\": \"SW_IN\", \"value\": 177.30999755859375, \"is_present\": true}, {\"time\": \"2000-06-15T19:30:00\", \"variable\": \"SW_IN\", \"value\": 97.06999969482422, \"is_present\": true}, {\"time\": \"2000-06-15T20:00:00\", \"variable\": \"SW_IN\", \"value\": 39.709999084472656, \"is_present\": true}, {\"time\": \"2000-06-15T20:30:00\", \"variable\": \"SW_IN\", \"value\": 10.649999618530273, \"is_present\": true}, {\"time\": \"2000-06-15T21:00:00\", \"variable\": \"SW_IN\", \"value\": 0.3199999928474426, \"is_present\": true}, {\"time\": \"2000-06-15T21:30:00\", \"variable\": \"SW_IN\", \"value\": 0.0, \"is_present\": true}, {\"time\": \"2000-06-15T17:00:00\", \"variable\": \"VPD\", \"value\": 5.798999786376953, \"is_present\": true}, {\"time\": \"2000-06-15T17:30:00\", \"variable\": \"VPD\", \"value\": 6.577000141143799, \"is_present\": true}, {\"time\": \"2000-06-15T18:00:00\", \"variable\": \"VPD\", \"value\": 6.931000232696533, \"is_present\": true}, {\"time\": \"2000-06-15T18:30:00\", \"variable\": \"VPD\", \"value\": 7.285999774932861, \"is_present\": true}, {\"time\": \"2000-06-15T19:00:00\", \"variable\": \"VPD\", \"value\": 7.250999927520752, \"is_present\": true}, {\"time\": \"2000-06-15T19:30:00\", \"variable\": \"VPD\", \"value\": 6.683000087738037, \"is_present\": true}, {\"time\": \"2000-06-15T20:00:00\", \"variable\": \"VPD\", \"value\": 5.85099983215332, \"is_present\": true}, {\"time\": \"2000-06-15T20:30:00\", \"variable\": \"VPD\", \"value\": 5.254000186920166, \"is_present\": true}, {\"time\": \"2000-06-15T21:00:00\", \"variable\": \"VPD\", \"value\": 5.164000034332275, \"is_present\": true}, {\"time\": \"2000-06-15T21:30:00\", \"variable\": \"VPD\", \"value\": 5.0370001792907715, \"is_present\": true}]}}, {\"mode\": \"vega-lite\"});\n",
       "</script>"
      ],
      "text/plain": [
       "alt.Chart(...)"
      ]
     },
     "execution_count": null,
     "metadata": {},
     "output_type": "execute_result"
    }
   ],
   "source": [
    "plot_control(m_df.tidy(), y=\"value\")"
   ]
  },
  {
   "cell_type": "markdown",
   "id": "78d98d63-401b-4a09-a0f1-665342fef64e",
   "metadata": {},
   "source": [
    "##### Errorband"
   ]
  },
  {
   "cell_type": "code",
   "execution_count": null,
   "id": "b31874c2-bc64-4c07-b67b-c67ecb0f3598",
   "metadata": {},
   "outputs": [],
   "source": [
    "#| exporti\n",
    "def plot_error(df, y = \"value\", y_label = \"\", sel = def_selection(), props = {}):\n",
    "    df.loc[:,'err_low'] = df[y] - 2 * df['std']\n",
    "    df.loc[:,'err_high'] = df[y] + 2 * df['std']\n",
    "    return alt.Chart(df).mark_errorband().encode(\n",
    "        x = \"time\",    \n",
    "        y = alt.Y(\"err_low:Q\", title = y_label, scale=alt.Scale(zero=False)),\n",
    "        y2 = \"err_high:Q\",\n",
    "        color=alt.Color(\"variable\",\n",
    "                        legend = alt.Legend(title=[\"Line: pred. mean\", \"area: +/- 2 std\"])\n",
    "                       )\n",
    "    ).add_params(\n",
    "        sel\n",
    "    ).properties(\n",
    "        **props\n",
    "    )\n",
    "    "
   ]
  },
  {
   "cell_type": "code",
   "execution_count": null,
   "id": "bbe34b69-dc5c-4b9e-bb24-dffcd7638686",
   "metadata": {},
   "outputs": [
    {
     "data": {
      "text/html": [
       "\n",
       "<div id=\"altair-viz-334bbf09ff904bf1b6a372fa1ca1d946\"></div>\n",
       "<script type=\"text/javascript\">\n",
       "  var VEGA_DEBUG = (typeof VEGA_DEBUG == \"undefined\") ? {} : VEGA_DEBUG;\n",
       "  (function(spec, embedOpt){\n",
       "    let outputDiv = document.currentScript.previousElementSibling;\n",
       "    if (outputDiv.id !== \"altair-viz-334bbf09ff904bf1b6a372fa1ca1d946\") {\n",
       "      outputDiv = document.getElementById(\"altair-viz-334bbf09ff904bf1b6a372fa1ca1d946\");\n",
       "    }\n",
       "    const paths = {\n",
       "      \"vega\": \"https://cdn.jsdelivr.net/npm//vega@5?noext\",\n",
       "      \"vega-lib\": \"https://cdn.jsdelivr.net/npm//vega-lib?noext\",\n",
       "      \"vega-lite\": \"https://cdn.jsdelivr.net/npm//vega-lite@5.2.0?noext\",\n",
       "      \"vega-embed\": \"https://cdn.jsdelivr.net/npm//vega-embed@6?noext\",\n",
       "    };\n",
       "\n",
       "    function maybeLoadScript(lib, version) {\n",
       "      var key = `${lib.replace(\"-\", \"\")}_version`;\n",
       "      return (VEGA_DEBUG[key] == version) ?\n",
       "        Promise.resolve(paths[lib]) :\n",
       "        new Promise(function(resolve, reject) {\n",
       "          var s = document.createElement('script');\n",
       "          document.getElementsByTagName(\"head\")[0].appendChild(s);\n",
       "          s.async = true;\n",
       "          s.onload = () => {\n",
       "            VEGA_DEBUG[key] = version;\n",
       "            return resolve(paths[lib]);\n",
       "          };\n",
       "          s.onerror = () => reject(`Error loading script: ${paths[lib]}`);\n",
       "          s.src = paths[lib];\n",
       "        });\n",
       "    }\n",
       "\n",
       "    function showError(err) {\n",
       "      outputDiv.innerHTML = `<div class=\"error\" style=\"color:red;\">${err}</div>`;\n",
       "      throw err;\n",
       "    }\n",
       "\n",
       "    function displayChart(vegaEmbed) {\n",
       "      vegaEmbed(outputDiv, spec, embedOpt)\n",
       "        .catch(err => showError(`Javascript Error: ${err.message}<br>This usually means there's a typo in your chart specification. See the javascript console for the full traceback.`));\n",
       "    }\n",
       "\n",
       "    if(typeof define === \"function\" && define.amd) {\n",
       "      requirejs.config({paths});\n",
       "      require([\"vega-embed\"], displayChart, err => showError(`Error loading script: ${err.message}`));\n",
       "    } else {\n",
       "      maybeLoadScript(\"vega\", \"5\")\n",
       "        .then(() => maybeLoadScript(\"vega-lite\", \"5.2.0\"))\n",
       "        .then(() => maybeLoadScript(\"vega-embed\", \"6\"))\n",
       "        .catch(showError)\n",
       "        .then(() => displayChart(vegaEmbed));\n",
       "    }\n",
       "  })({\"config\": {\"view\": {\"continuousWidth\": 400, \"continuousHeight\": 300}}, \"data\": {\"name\": \"data-493ef612c090791713c008f9f727e0f8\"}, \"mark\": \"errorband\", \"encoding\": {\"color\": {\"field\": \"variable\", \"legend\": {\"title\": [\"Line: pred. mean\", \"area: +/- 2 std\"]}, \"type\": \"nominal\"}, \"x\": {\"field\": \"time\", \"type\": \"temporal\"}, \"y\": {\"field\": \"err_low\", \"scale\": {\"zero\": false}, \"title\": \"\", \"type\": \"quantitative\"}, \"y2\": {\"field\": \"err_high\"}}, \"params\": [{\"name\": \"param_5\", \"select\": {\"type\": \"interval\"}, \"bind\": \"scales\"}], \"$schema\": \"https://vega.github.io/schema/vega-lite/v5.2.0.json\", \"datasets\": {\"data-493ef612c090791713c008f9f727e0f8\": [{\"time\": \"2000-06-15T17:00:00\", \"variable\": \"TA\", \"value\": 14.220000267028809, \"is_present\": true, \"std\": 5, \"err_low\": 4.220000267028809, \"err_high\": 24.22000026702881}, {\"time\": \"2000-06-15T17:30:00\", \"variable\": \"TA\", \"value\": 14.109999656677246, \"is_present\": true, \"std\": 5, \"err_low\": 4.109999656677246, \"err_high\": 24.109999656677246}, {\"time\": \"2000-06-15T18:00:00\", \"variable\": \"TA\", \"value\": 14.229999542236328, \"is_present\": false, \"std\": 5, \"err_low\": 4.229999542236328, \"err_high\": 24.229999542236328}, {\"time\": \"2000-06-15T18:30:00\", \"variable\": \"TA\", \"value\": 14.399999618530273, \"is_present\": false, \"std\": 5, \"err_low\": 4.399999618530273, \"err_high\": 24.399999618530273}, {\"time\": \"2000-06-15T19:00:00\", \"variable\": \"TA\", \"value\": 14.09000015258789, \"is_present\": true, \"std\": 5, \"err_low\": 4.090000152587891, \"err_high\": 24.09000015258789}, {\"time\": \"2000-06-15T19:30:00\", \"variable\": \"TA\", \"value\": 13.710000038146973, \"is_present\": true, \"std\": 5, \"err_low\": 3.7100000381469727, \"err_high\": 23.710000038146973}, {\"time\": \"2000-06-15T20:00:00\", \"variable\": \"TA\", \"value\": 13.079999923706055, \"is_present\": true, \"std\": 5, \"err_low\": 3.0799999237060547, \"err_high\": 23.079999923706055}, {\"time\": \"2000-06-15T20:30:00\", \"variable\": \"TA\", \"value\": 12.40999984741211, \"is_present\": true, \"std\": 5, \"err_low\": 2.4099998474121094, \"err_high\": 22.40999984741211}, {\"time\": \"2000-06-15T21:00:00\", \"variable\": \"TA\", \"value\": 12.270000457763672, \"is_present\": true, \"std\": 5, \"err_low\": 2.270000457763672, \"err_high\": 22.270000457763672}, {\"time\": \"2000-06-15T21:30:00\", \"variable\": \"TA\", \"value\": 12.199999809265137, \"is_present\": true, \"std\": 5, \"err_low\": 2.1999998092651367, \"err_high\": 22.199999809265137}, {\"time\": \"2000-06-15T17:00:00\", \"variable\": \"SW_IN\", \"value\": 224.8000030517578, \"is_present\": true, \"std\": 5, \"err_low\": 214.8000030517578, \"err_high\": 234.8000030517578}, {\"time\": \"2000-06-15T17:30:00\", \"variable\": \"SW_IN\", \"value\": 195.27999877929688, \"is_present\": true, \"std\": 5, \"err_low\": 185.27999877929688, \"err_high\": 205.27999877929688}, {\"time\": \"2000-06-15T18:00:00\", \"variable\": \"SW_IN\", \"value\": 244.1699981689453, \"is_present\": false, \"std\": 5, \"err_low\": 234.1699981689453, \"err_high\": 254.1699981689453}, {\"time\": \"2000-06-15T18:30:00\", \"variable\": \"SW_IN\", \"value\": 253.9199981689453, \"is_present\": false, \"std\": 5, \"err_low\": 243.9199981689453, \"err_high\": 263.9199981689453}, {\"time\": \"2000-06-15T19:00:00\", \"variable\": \"SW_IN\", \"value\": 177.30999755859375, \"is_present\": true, \"std\": 5, \"err_low\": 167.30999755859375, \"err_high\": 187.30999755859375}, {\"time\": \"2000-06-15T19:30:00\", \"variable\": \"SW_IN\", \"value\": 97.06999969482422, \"is_present\": true, \"std\": 5, \"err_low\": 87.06999969482422, \"err_high\": 107.06999969482422}, {\"time\": \"2000-06-15T20:00:00\", \"variable\": \"SW_IN\", \"value\": 39.709999084472656, \"is_present\": true, \"std\": 5, \"err_low\": 29.709999084472656, \"err_high\": 49.709999084472656}, {\"time\": \"2000-06-15T20:30:00\", \"variable\": \"SW_IN\", \"value\": 10.649999618530273, \"is_present\": true, \"std\": 5, \"err_low\": 0.6499996185302734, \"err_high\": 20.649999618530273}, {\"time\": \"2000-06-15T21:00:00\", \"variable\": \"SW_IN\", \"value\": 0.3199999928474426, \"is_present\": true, \"std\": 5, \"err_low\": -9.680000007152557, \"err_high\": 10.319999992847443}, {\"time\": \"2000-06-15T21:30:00\", \"variable\": \"SW_IN\", \"value\": 0.0, \"is_present\": true, \"std\": 5, \"err_low\": -10.0, \"err_high\": 10.0}, {\"time\": \"2000-06-15T17:00:00\", \"variable\": \"VPD\", \"value\": 5.798999786376953, \"is_present\": true, \"std\": 5, \"err_low\": -4.201000213623047, \"err_high\": 15.798999786376953}, {\"time\": \"2000-06-15T17:30:00\", \"variable\": \"VPD\", \"value\": 6.577000141143799, \"is_present\": true, \"std\": 5, \"err_low\": -3.422999858856201, \"err_high\": 16.5770001411438}, {\"time\": \"2000-06-15T18:00:00\", \"variable\": \"VPD\", \"value\": 6.931000232696533, \"is_present\": true, \"std\": 5, \"err_low\": -3.068999767303467, \"err_high\": 16.931000232696533}, {\"time\": \"2000-06-15T18:30:00\", \"variable\": \"VPD\", \"value\": 7.285999774932861, \"is_present\": true, \"std\": 5, \"err_low\": -2.7140002250671387, \"err_high\": 17.28599977493286}, {\"time\": \"2000-06-15T19:00:00\", \"variable\": \"VPD\", \"value\": 7.250999927520752, \"is_present\": true, \"std\": 5, \"err_low\": -2.749000072479248, \"err_high\": 17.250999927520752}, {\"time\": \"2000-06-15T19:30:00\", \"variable\": \"VPD\", \"value\": 6.683000087738037, \"is_present\": true, \"std\": 5, \"err_low\": -3.316999912261963, \"err_high\": 16.683000087738037}, {\"time\": \"2000-06-15T20:00:00\", \"variable\": \"VPD\", \"value\": 5.85099983215332, \"is_present\": true, \"std\": 5, \"err_low\": -4.14900016784668, \"err_high\": 15.85099983215332}, {\"time\": \"2000-06-15T20:30:00\", \"variable\": \"VPD\", \"value\": 5.254000186920166, \"is_present\": true, \"std\": 5, \"err_low\": -4.745999813079834, \"err_high\": 15.254000186920166}, {\"time\": \"2000-06-15T21:00:00\", \"variable\": \"VPD\", \"value\": 5.164000034332275, \"is_present\": true, \"std\": 5, \"err_low\": -4.835999965667725, \"err_high\": 15.164000034332275}, {\"time\": \"2000-06-15T21:30:00\", \"variable\": \"VPD\", \"value\": 5.0370001792907715, \"is_present\": true, \"std\": 5, \"err_low\": -4.9629998207092285, \"err_high\": 15.037000179290771}]}}, {\"mode\": \"vega-lite\"});\n",
       "</script>"
      ],
      "text/plain": [
       "alt.Chart(...)"
      ]
     },
     "execution_count": null,
     "metadata": {},
     "output_type": "execute_result"
    }
   ],
   "source": [
    "plot_error(m_df.tidy().assign(std=5))"
   ]
  },
  {
   "cell_type": "markdown",
   "id": "1fe0fa10-e1d7-44c1-8979-8f06bf243fc0",
   "metadata": {},
   "source": [
    "##### Variable"
   ]
  },
  {
   "cell_type": "code",
   "execution_count": null,
   "id": "a26f136e-c919-4083-bad9-e40f2b4996bd",
   "metadata": {},
   "outputs": [],
   "source": [
    "#| export\n",
    "def plot_variable(df,\n",
    "                  variable, ys=[\"value\", \"value\", \"control\"],\n",
    "                  title=\"\",\n",
    "                  y_label=\"\",\n",
    "                  sel = None,\n",
    "                  error=False,\n",
    "                  point=True,\n",
    "                  gap_area = True,\n",
    "                  control=False,\n",
    "                  props = {}):\n",
    "    df = df[df.variable == variable].copy()\n",
    "    sel = ifnone(sel, def_selection())\n",
    "    # rug = plot_rug(df, sel, props)\n",
    "    plots = []\n",
    "    if point: plots.append(plot_points(df, ys[0], y_label, sel, props))\n",
    "    if gap_area and not df.is_present.all():\n",
    "        plots.append(plot_missing_area(df, sel, props)) # there is a gap\n",
    "    if error: plots.append(plot_error(df, y=ys[1], y_label=y_label, sel=sel, props=props))\n",
    "    if control: plots.append(plot_control(df, y=ys[2], y_label=y_label, sel=sel, props=props))\n",
    "    plots.append(plot_line(df, True, ys[1], y_label, sel, props))\n",
    "    \n",
    "    return alt.layer(*plots).properties(title=title)\n",
    "    \n",
    "    # return alt.VConcatChart(vconcat=[(points + line), rug], spacing=-10).properties(title=title)"
   ]
  },
  {
   "cell_type": "code",
   "execution_count": null,
   "id": "fa1c1f39-0db0-4842-bada-da41eacd9ac6",
   "metadata": {},
   "outputs": [
    {
     "data": {
      "text/html": [
       "\n",
       "<div id=\"altair-viz-6a0e4f32aa7742438fcb6b6a9c87ddff\"></div>\n",
       "<script type=\"text/javascript\">\n",
       "  var VEGA_DEBUG = (typeof VEGA_DEBUG == \"undefined\") ? {} : VEGA_DEBUG;\n",
       "  (function(spec, embedOpt){\n",
       "    let outputDiv = document.currentScript.previousElementSibling;\n",
       "    if (outputDiv.id !== \"altair-viz-6a0e4f32aa7742438fcb6b6a9c87ddff\") {\n",
       "      outputDiv = document.getElementById(\"altair-viz-6a0e4f32aa7742438fcb6b6a9c87ddff\");\n",
       "    }\n",
       "    const paths = {\n",
       "      \"vega\": \"https://cdn.jsdelivr.net/npm//vega@5?noext\",\n",
       "      \"vega-lib\": \"https://cdn.jsdelivr.net/npm//vega-lib?noext\",\n",
       "      \"vega-lite\": \"https://cdn.jsdelivr.net/npm//vega-lite@5.2.0?noext\",\n",
       "      \"vega-embed\": \"https://cdn.jsdelivr.net/npm//vega-embed@6?noext\",\n",
       "    };\n",
       "\n",
       "    function maybeLoadScript(lib, version) {\n",
       "      var key = `${lib.replace(\"-\", \"\")}_version`;\n",
       "      return (VEGA_DEBUG[key] == version) ?\n",
       "        Promise.resolve(paths[lib]) :\n",
       "        new Promise(function(resolve, reject) {\n",
       "          var s = document.createElement('script');\n",
       "          document.getElementsByTagName(\"head\")[0].appendChild(s);\n",
       "          s.async = true;\n",
       "          s.onload = () => {\n",
       "            VEGA_DEBUG[key] = version;\n",
       "            return resolve(paths[lib]);\n",
       "          };\n",
       "          s.onerror = () => reject(`Error loading script: ${paths[lib]}`);\n",
       "          s.src = paths[lib];\n",
       "        });\n",
       "    }\n",
       "\n",
       "    function showError(err) {\n",
       "      outputDiv.innerHTML = `<div class=\"error\" style=\"color:red;\">${err}</div>`;\n",
       "      throw err;\n",
       "    }\n",
       "\n",
       "    function displayChart(vegaEmbed) {\n",
       "      vegaEmbed(outputDiv, spec, embedOpt)\n",
       "        .catch(err => showError(`Javascript Error: ${err.message}<br>This usually means there's a typo in your chart specification. See the javascript console for the full traceback.`));\n",
       "    }\n",
       "\n",
       "    if(typeof define === \"function\" && define.amd) {\n",
       "      requirejs.config({paths});\n",
       "      require([\"vega-embed\"], displayChart, err => showError(`Error loading script: ${err.message}`));\n",
       "    } else {\n",
       "      maybeLoadScript(\"vega\", \"5\")\n",
       "        .then(() => maybeLoadScript(\"vega-lite\", \"5.2.0\"))\n",
       "        .then(() => maybeLoadScript(\"vega-embed\", \"6\"))\n",
       "        .catch(showError)\n",
       "        .then(() => displayChart(vegaEmbed));\n",
       "    }\n",
       "  })({\"config\": {\"view\": {\"continuousWidth\": 400, \"continuousHeight\": 300}}, \"layer\": [{\"data\": {\"name\": \"data-d3522d54a15a85a858b8e6a3f806052a\"}, \"mark\": {\"type\": \"point\", \"color\": \"black\", \"fillOpacity\": 1, \"strokeWidth\": 1}, \"encoding\": {\"fill\": {\"field\": \"is_present\", \"legend\": {\"title\": [\"Observed data\"]}, \"scale\": {\"range\": [\"black\", \"#ffffff00\"]}, \"type\": \"nominal\"}, \"shape\": {\"field\": \"is_present\", \"type\": \"nominal\"}, \"x\": {\"axis\": {\"domain\": true, \"labels\": true, \"ticks\": true, \"title\": \"time\"}, \"field\": \"time\", \"type\": \"temporal\"}, \"y\": {\"field\": \"value\", \"scale\": {\"zero\": false}, \"title\": \"\", \"type\": \"quantitative\"}}}, {\"layer\": [{\"mark\": \"rule\", \"encoding\": {\"x\": {\"axis\": {\"domain\": false, \"labels\": false, \"ticks\": false, \"title\": null}, \"field\": \"gap_start\", \"type\": \"temporal\"}}}, {\"mark\": \"rule\", \"encoding\": {\"x\": {\"axis\": {\"domain\": false, \"labels\": false, \"ticks\": false, \"title\": null}, \"field\": \"gap_end\", \"type\": \"temporal\"}}}, {\"mark\": {\"type\": \"rect\", \"color\": \"black\", \"opacity\": 0.15}, \"encoding\": {\"x\": {\"axis\": {\"domain\": false, \"labels\": false, \"ticks\": false, \"title\": null}, \"field\": \"gap_start\", \"type\": \"temporal\"}, \"x2\": {\"field\": \"gap_end\"}}}], \"data\": {\"name\": \"data-3d8f1279455991cf43dd896051a908a7\"}}, {\"data\": {\"name\": \"data-d3522d54a15a85a858b8e6a3f806052a\"}, \"mark\": \"line\", \"encoding\": {\"color\": {\"field\": \"variable\", \"type\": \"nominal\"}, \"x\": {\"field\": \"time\", \"type\": \"temporal\"}, \"y\": {\"field\": \"value\", \"scale\": {\"zero\": false}, \"title\": \"\", \"type\": \"quantitative\"}}, \"name\": \"view_18\"}], \"params\": [{\"name\": \"param_28\", \"select\": {\"type\": \"interval\"}, \"bind\": \"scales\", \"views\": [\"view_18\"]}], \"title\": \"title TA\", \"$schema\": \"https://vega.github.io/schema/vega-lite/v5.2.0.json\", \"datasets\": {\"data-d3522d54a15a85a858b8e6a3f806052a\": [{\"time\": \"2000-06-15T17:00:00\", \"variable\": \"TA\", \"value\": 14.220000267028809, \"is_present\": true}, {\"time\": \"2000-06-15T17:30:00\", \"variable\": \"TA\", \"value\": 14.109999656677246, \"is_present\": true}, {\"time\": \"2000-06-15T18:00:00\", \"variable\": \"TA\", \"value\": 14.229999542236328, \"is_present\": false}, {\"time\": \"2000-06-15T18:30:00\", \"variable\": \"TA\", \"value\": 14.399999618530273, \"is_present\": false}, {\"time\": \"2000-06-15T19:00:00\", \"variable\": \"TA\", \"value\": 14.09000015258789, \"is_present\": true}, {\"time\": \"2000-06-15T19:30:00\", \"variable\": \"TA\", \"value\": 13.710000038146973, \"is_present\": true}, {\"time\": \"2000-06-15T20:00:00\", \"variable\": \"TA\", \"value\": 13.079999923706055, \"is_present\": true}, {\"time\": \"2000-06-15T20:30:00\", \"variable\": \"TA\", \"value\": 12.40999984741211, \"is_present\": true}, {\"time\": \"2000-06-15T21:00:00\", \"variable\": \"TA\", \"value\": 12.270000457763672, \"is_present\": true}, {\"time\": \"2000-06-15T21:30:00\", \"variable\": \"TA\", \"value\": 12.199999809265137, \"is_present\": true}], \"data-3d8f1279455991cf43dd896051a908a7\": [{\"gap_start\": \"2000-06-15T18:00:00\", \"gap_end\": \"2000-06-15T18:30:00\"}]}}, {\"mode\": \"vega-lite\"});\n",
       "</script>"
      ],
      "text/plain": [
       "alt.LayerChart(...)"
      ]
     },
     "execution_count": null,
     "metadata": {},
     "output_type": "execute_result"
    }
   ],
   "source": [
    "plot_variable(m_df.tidy(), \"TA\", title=\"title TA\")"
   ]
  },
  {
   "cell_type": "code",
   "execution_count": null,
   "id": "305b4253-aa27-4477-8ec4-0ab96d1db8ac",
   "metadata": {},
   "outputs": [
    {
     "data": {
      "text/html": [
       "\n",
       "<div id=\"altair-viz-1d32bcfe31b24fabaabb59135b91e2d2\"></div>\n",
       "<script type=\"text/javascript\">\n",
       "  var VEGA_DEBUG = (typeof VEGA_DEBUG == \"undefined\") ? {} : VEGA_DEBUG;\n",
       "  (function(spec, embedOpt){\n",
       "    let outputDiv = document.currentScript.previousElementSibling;\n",
       "    if (outputDiv.id !== \"altair-viz-1d32bcfe31b24fabaabb59135b91e2d2\") {\n",
       "      outputDiv = document.getElementById(\"altair-viz-1d32bcfe31b24fabaabb59135b91e2d2\");\n",
       "    }\n",
       "    const paths = {\n",
       "      \"vega\": \"https://cdn.jsdelivr.net/npm//vega@5?noext\",\n",
       "      \"vega-lib\": \"https://cdn.jsdelivr.net/npm//vega-lib?noext\",\n",
       "      \"vega-lite\": \"https://cdn.jsdelivr.net/npm//vega-lite@5.2.0?noext\",\n",
       "      \"vega-embed\": \"https://cdn.jsdelivr.net/npm//vega-embed@6?noext\",\n",
       "    };\n",
       "\n",
       "    function maybeLoadScript(lib, version) {\n",
       "      var key = `${lib.replace(\"-\", \"\")}_version`;\n",
       "      return (VEGA_DEBUG[key] == version) ?\n",
       "        Promise.resolve(paths[lib]) :\n",
       "        new Promise(function(resolve, reject) {\n",
       "          var s = document.createElement('script');\n",
       "          document.getElementsByTagName(\"head\")[0].appendChild(s);\n",
       "          s.async = true;\n",
       "          s.onload = () => {\n",
       "            VEGA_DEBUG[key] = version;\n",
       "            return resolve(paths[lib]);\n",
       "          };\n",
       "          s.onerror = () => reject(`Error loading script: ${paths[lib]}`);\n",
       "          s.src = paths[lib];\n",
       "        });\n",
       "    }\n",
       "\n",
       "    function showError(err) {\n",
       "      outputDiv.innerHTML = `<div class=\"error\" style=\"color:red;\">${err}</div>`;\n",
       "      throw err;\n",
       "    }\n",
       "\n",
       "    function displayChart(vegaEmbed) {\n",
       "      vegaEmbed(outputDiv, spec, embedOpt)\n",
       "        .catch(err => showError(`Javascript Error: ${err.message}<br>This usually means there's a typo in your chart specification. See the javascript console for the full traceback.`));\n",
       "    }\n",
       "\n",
       "    if(typeof define === \"function\" && define.amd) {\n",
       "      requirejs.config({paths});\n",
       "      require([\"vega-embed\"], displayChart, err => showError(`Error loading script: ${err.message}`));\n",
       "    } else {\n",
       "      maybeLoadScript(\"vega\", \"5\")\n",
       "        .then(() => maybeLoadScript(\"vega-lite\", \"5.2.0\"))\n",
       "        .then(() => maybeLoadScript(\"vega-embed\", \"6\"))\n",
       "        .catch(showError)\n",
       "        .then(() => displayChart(vegaEmbed));\n",
       "    }\n",
       "  })({\"config\": {\"view\": {\"continuousWidth\": 400, \"continuousHeight\": 300}}, \"layer\": [{\"data\": {\"name\": \"data-6e6ec3db0644b86898f31aee73937473\"}, \"mark\": {\"type\": \"point\", \"color\": \"black\", \"fillOpacity\": 1, \"strokeWidth\": 1}, \"encoding\": {\"fill\": {\"field\": \"is_present\", \"legend\": {\"title\": [\"Observed data\"]}, \"scale\": {\"range\": [\"black\", \"#ffffff00\"]}, \"type\": \"nominal\"}, \"shape\": {\"field\": \"is_present\", \"type\": \"nominal\"}, \"x\": {\"axis\": {\"domain\": true, \"labels\": true, \"ticks\": true, \"title\": \"time\"}, \"field\": \"time\", \"type\": \"temporal\"}, \"y\": {\"field\": \"value\", \"scale\": {\"zero\": false}, \"title\": \"\", \"type\": \"quantitative\"}}}, {\"layer\": [{\"mark\": \"rule\", \"encoding\": {\"x\": {\"axis\": {\"domain\": false, \"labels\": false, \"ticks\": false, \"title\": null}, \"field\": \"gap_start\", \"type\": \"temporal\"}}}, {\"mark\": \"rule\", \"encoding\": {\"x\": {\"axis\": {\"domain\": false, \"labels\": false, \"ticks\": false, \"title\": null}, \"field\": \"gap_end\", \"type\": \"temporal\"}}}, {\"mark\": {\"type\": \"rect\", \"color\": \"black\", \"opacity\": 0.15}, \"encoding\": {\"x\": {\"axis\": {\"domain\": false, \"labels\": false, \"ticks\": false, \"title\": null}, \"field\": \"gap_start\", \"type\": \"temporal\"}, \"x2\": {\"field\": \"gap_end\"}}}], \"data\": {\"name\": \"data-3d8f1279455991cf43dd896051a908a7\"}}, {\"data\": {\"name\": \"data-6e6ec3db0644b86898f31aee73937473\"}, \"mark\": {\"type\": \"line\", \"strokeDash\": [4, 6]}, \"encoding\": {\"color\": {\"field\": \"variable\", \"type\": \"nominal\"}, \"x\": {\"field\": \"time\", \"type\": \"temporal\"}, \"y\": {\"field\": \"control\", \"scale\": {\"zero\": false}, \"title\": \"\", \"type\": \"quantitative\"}}, \"name\": \"view_19\"}, {\"data\": {\"name\": \"data-6e6ec3db0644b86898f31aee73937473\"}, \"mark\": \"line\", \"encoding\": {\"color\": {\"field\": \"variable\", \"type\": \"nominal\"}, \"x\": {\"field\": \"time\", \"type\": \"temporal\"}, \"y\": {\"field\": \"value\", \"scale\": {\"zero\": false}, \"title\": \"\", \"type\": \"quantitative\"}}}], \"params\": [{\"name\": \"param_29\", \"select\": {\"type\": \"interval\"}, \"bind\": \"scales\", \"views\": [\"view_19\"]}], \"title\": \"title TA\", \"$schema\": \"https://vega.github.io/schema/vega-lite/v5.2.0.json\", \"datasets\": {\"data-6e6ec3db0644b86898f31aee73937473\": [{\"time\": \"2000-06-15T17:00:00\", \"variable\": \"TA\", \"value\": 14.220000267028809, \"control\": 15.050000190734863, \"is_present\": true}, {\"time\": \"2000-06-15T17:30:00\", \"variable\": \"TA\", \"value\": 14.109999656677246, \"control\": 14.961000442504883, \"is_present\": true}, {\"time\": \"2000-06-15T18:00:00\", \"variable\": \"TA\", \"value\": 14.229999542236328, \"control\": 14.871999740600586, \"is_present\": false}, {\"time\": \"2000-06-15T18:30:00\", \"variable\": \"TA\", \"value\": 14.399999618530273, \"control\": 14.782999992370605, \"is_present\": false}, {\"time\": \"2000-06-15T19:00:00\", \"variable\": \"TA\", \"value\": 14.09000015258789, \"control\": 14.694000244140625, \"is_present\": true}, {\"time\": \"2000-06-15T19:30:00\", \"variable\": \"TA\", \"value\": 13.710000038146973, \"control\": 14.605999946594238, \"is_present\": true}, {\"time\": \"2000-06-15T20:00:00\", \"variable\": \"TA\", \"value\": 13.079999923706055, \"control\": 14.380000114440918, \"is_present\": true}, {\"time\": \"2000-06-15T20:30:00\", \"variable\": \"TA\", \"value\": 12.40999984741211, \"control\": 14.154999732971191, \"is_present\": true}, {\"time\": \"2000-06-15T21:00:00\", \"variable\": \"TA\", \"value\": 12.270000457763672, \"control\": 13.928999900817871, \"is_present\": true}, {\"time\": \"2000-06-15T21:30:00\", \"variable\": \"TA\", \"value\": 12.199999809265137, \"control\": 13.704000473022461, \"is_present\": true}], \"data-3d8f1279455991cf43dd896051a908a7\": [{\"gap_start\": \"2000-06-15T18:00:00\", \"gap_end\": \"2000-06-15T18:30:00\"}]}}, {\"mode\": \"vega-lite\"});\n",
       "</script>"
      ],
      "text/plain": [
       "alt.LayerChart(...)"
      ]
     },
     "execution_count": null,
     "metadata": {},
     "output_type": "execute_result"
    }
   ],
   "source": [
    "plot_variable(m_df.tidy(control=hai_control), \"TA\", title=\"title TA\", control=True)"
   ]
  },
  {
   "cell_type": "code",
   "execution_count": null,
   "id": "a41576fd-91dc-44d9-bd01-f0877273a835",
   "metadata": {},
   "outputs": [
    {
     "data": {
      "text/html": [
       "\n",
       "<div id=\"altair-viz-d453d3418ad54f9fb04e8a948dd9df84\"></div>\n",
       "<script type=\"text/javascript\">\n",
       "  var VEGA_DEBUG = (typeof VEGA_DEBUG == \"undefined\") ? {} : VEGA_DEBUG;\n",
       "  (function(spec, embedOpt){\n",
       "    let outputDiv = document.currentScript.previousElementSibling;\n",
       "    if (outputDiv.id !== \"altair-viz-d453d3418ad54f9fb04e8a948dd9df84\") {\n",
       "      outputDiv = document.getElementById(\"altair-viz-d453d3418ad54f9fb04e8a948dd9df84\");\n",
       "    }\n",
       "    const paths = {\n",
       "      \"vega\": \"https://cdn.jsdelivr.net/npm//vega@5?noext\",\n",
       "      \"vega-lib\": \"https://cdn.jsdelivr.net/npm//vega-lib?noext\",\n",
       "      \"vega-lite\": \"https://cdn.jsdelivr.net/npm//vega-lite@5.2.0?noext\",\n",
       "      \"vega-embed\": \"https://cdn.jsdelivr.net/npm//vega-embed@6?noext\",\n",
       "    };\n",
       "\n",
       "    function maybeLoadScript(lib, version) {\n",
       "      var key = `${lib.replace(\"-\", \"\")}_version`;\n",
       "      return (VEGA_DEBUG[key] == version) ?\n",
       "        Promise.resolve(paths[lib]) :\n",
       "        new Promise(function(resolve, reject) {\n",
       "          var s = document.createElement('script');\n",
       "          document.getElementsByTagName(\"head\")[0].appendChild(s);\n",
       "          s.async = true;\n",
       "          s.onload = () => {\n",
       "            VEGA_DEBUG[key] = version;\n",
       "            return resolve(paths[lib]);\n",
       "          };\n",
       "          s.onerror = () => reject(`Error loading script: ${paths[lib]}`);\n",
       "          s.src = paths[lib];\n",
       "        });\n",
       "    }\n",
       "\n",
       "    function showError(err) {\n",
       "      outputDiv.innerHTML = `<div class=\"error\" style=\"color:red;\">${err}</div>`;\n",
       "      throw err;\n",
       "    }\n",
       "\n",
       "    function displayChart(vegaEmbed) {\n",
       "      vegaEmbed(outputDiv, spec, embedOpt)\n",
       "        .catch(err => showError(`Javascript Error: ${err.message}<br>This usually means there's a typo in your chart specification. See the javascript console for the full traceback.`));\n",
       "    }\n",
       "\n",
       "    if(typeof define === \"function\" && define.amd) {\n",
       "      requirejs.config({paths});\n",
       "      require([\"vega-embed\"], displayChart, err => showError(`Error loading script: ${err.message}`));\n",
       "    } else {\n",
       "      maybeLoadScript(\"vega\", \"5\")\n",
       "        .then(() => maybeLoadScript(\"vega-lite\", \"5.2.0\"))\n",
       "        .then(() => maybeLoadScript(\"vega-embed\", \"6\"))\n",
       "        .catch(showError)\n",
       "        .then(() => displayChart(vegaEmbed));\n",
       "    }\n",
       "  })({\"config\": {\"view\": {\"continuousWidth\": 400, \"continuousHeight\": 300}}, \"layer\": [{\"data\": {\"name\": \"data-949886b415eaa76139d63a0cedd7ea19\"}, \"mark\": {\"type\": \"point\", \"color\": \"black\", \"fillOpacity\": 1, \"strokeWidth\": 1}, \"encoding\": {\"fill\": {\"field\": \"is_present\", \"legend\": {\"title\": [\"Observed data\"]}, \"scale\": {\"range\": [\"black\", \"#ffffff00\"]}, \"type\": \"nominal\"}, \"shape\": {\"field\": \"is_present\", \"type\": \"nominal\"}, \"x\": {\"axis\": {\"domain\": true, \"labels\": true, \"ticks\": true, \"title\": \"time\"}, \"field\": \"time\", \"type\": \"temporal\"}, \"y\": {\"field\": \"value\", \"scale\": {\"zero\": false}, \"title\": \"\", \"type\": \"quantitative\"}}}, {\"layer\": [{\"mark\": \"rule\", \"encoding\": {\"x\": {\"axis\": {\"domain\": false, \"labels\": false, \"ticks\": false, \"title\": null}, \"field\": \"gap_start\", \"type\": \"temporal\"}}}, {\"mark\": \"rule\", \"encoding\": {\"x\": {\"axis\": {\"domain\": false, \"labels\": false, \"ticks\": false, \"title\": null}, \"field\": \"gap_end\", \"type\": \"temporal\"}}}, {\"mark\": {\"type\": \"rect\", \"color\": \"black\", \"opacity\": 0.15}, \"encoding\": {\"x\": {\"axis\": {\"domain\": false, \"labels\": false, \"ticks\": false, \"title\": null}, \"field\": \"gap_start\", \"type\": \"temporal\"}, \"x2\": {\"field\": \"gap_end\"}}}], \"data\": {\"name\": \"data-3d8f1279455991cf43dd896051a908a7\"}}, {\"data\": {\"name\": \"data-949886b415eaa76139d63a0cedd7ea19\"}, \"mark\": \"errorband\", \"encoding\": {\"color\": {\"field\": \"variable\", \"legend\": {\"title\": [\"Line: pred. mean\", \"area: +/- 2 std\"]}, \"type\": \"nominal\"}, \"x\": {\"field\": \"time\", \"type\": \"temporal\"}, \"y\": {\"field\": \"err_low\", \"scale\": {\"zero\": false}, \"title\": \"\", \"type\": \"quantitative\"}, \"y2\": {\"field\": \"err_high\"}}, \"name\": \"view_2\"}, {\"data\": {\"name\": \"data-949886b415eaa76139d63a0cedd7ea19\"}, \"mark\": \"line\", \"encoding\": {\"color\": {\"field\": \"variable\", \"type\": \"nominal\"}, \"x\": {\"field\": \"time\", \"type\": \"temporal\"}, \"y\": {\"field\": \"value\", \"scale\": {\"zero\": false}, \"title\": \"\", \"type\": \"quantitative\"}}}], \"params\": [{\"name\": \"param_7\", \"select\": {\"type\": \"interval\"}, \"bind\": \"scales\", \"views\": [\"view_2\"]}], \"title\": \"title TA\", \"$schema\": \"https://vega.github.io/schema/vega-lite/v5.2.0.json\", \"datasets\": {\"data-949886b415eaa76139d63a0cedd7ea19\": [{\"time\": \"2000-06-15T17:00:00\", \"variable\": \"TA\", \"value\": 14.220000267028809, \"is_present\": true, \"std\": 0.5, \"err_low\": 13.220000267028809, \"err_high\": 15.220000267028809}, {\"time\": \"2000-06-15T17:30:00\", \"variable\": \"TA\", \"value\": 14.109999656677246, \"is_present\": true, \"std\": 0.5, \"err_low\": 13.109999656677246, \"err_high\": 15.109999656677246}, {\"time\": \"2000-06-15T18:00:00\", \"variable\": \"TA\", \"value\": 14.229999542236328, \"is_present\": false, \"std\": 0.5, \"err_low\": 13.229999542236328, \"err_high\": 15.229999542236328}, {\"time\": \"2000-06-15T18:30:00\", \"variable\": \"TA\", \"value\": 14.399999618530273, \"is_present\": false, \"std\": 0.5, \"err_low\": 13.399999618530273, \"err_high\": 15.399999618530273}, {\"time\": \"2000-06-15T19:00:00\", \"variable\": \"TA\", \"value\": 14.09000015258789, \"is_present\": true, \"std\": 0.5, \"err_low\": 13.09000015258789, \"err_high\": 15.09000015258789}, {\"time\": \"2000-06-15T19:30:00\", \"variable\": \"TA\", \"value\": 13.710000038146973, \"is_present\": true, \"std\": 0.5, \"err_low\": 12.710000038146973, \"err_high\": 14.710000038146973}, {\"time\": \"2000-06-15T20:00:00\", \"variable\": \"TA\", \"value\": 13.079999923706055, \"is_present\": true, \"std\": 0.5, \"err_low\": 12.079999923706055, \"err_high\": 14.079999923706055}, {\"time\": \"2000-06-15T20:30:00\", \"variable\": \"TA\", \"value\": 12.40999984741211, \"is_present\": true, \"std\": 0.5, \"err_low\": 11.40999984741211, \"err_high\": 13.40999984741211}, {\"time\": \"2000-06-15T21:00:00\", \"variable\": \"TA\", \"value\": 12.270000457763672, \"is_present\": true, \"std\": 0.5, \"err_low\": 11.270000457763672, \"err_high\": 13.270000457763672}, {\"time\": \"2000-06-15T21:30:00\", \"variable\": \"TA\", \"value\": 12.199999809265137, \"is_present\": true, \"std\": 0.5, \"err_low\": 11.199999809265137, \"err_high\": 13.199999809265137}], \"data-3d8f1279455991cf43dd896051a908a7\": [{\"gap_start\": \"2000-06-15T18:00:00\", \"gap_end\": \"2000-06-15T18:30:00\"}]}}, {\"mode\": \"vega-lite\"});\n",
       "</script>"
      ],
      "text/plain": [
       "alt.LayerChart(...)"
      ]
     },
     "execution_count": null,
     "metadata": {},
     "output_type": "execute_result"
    }
   ],
   "source": [
    "plot_variable(m_df.tidy().assign(std=.5), \"TA\", title=\"title TA\", error=True)"
   ]
  },
  {
   "cell_type": "code",
   "execution_count": null,
   "id": "e1925001-c6a5-406f-8212-a7438059a873",
   "metadata": {},
   "outputs": [
    {
     "data": {
      "text/html": [
       "\n",
       "<div id=\"altair-viz-edf191573f3247848c660086bf37531d\"></div>\n",
       "<script type=\"text/javascript\">\n",
       "  var VEGA_DEBUG = (typeof VEGA_DEBUG == \"undefined\") ? {} : VEGA_DEBUG;\n",
       "  (function(spec, embedOpt){\n",
       "    let outputDiv = document.currentScript.previousElementSibling;\n",
       "    if (outputDiv.id !== \"altair-viz-edf191573f3247848c660086bf37531d\") {\n",
       "      outputDiv = document.getElementById(\"altair-viz-edf191573f3247848c660086bf37531d\");\n",
       "    }\n",
       "    const paths = {\n",
       "      \"vega\": \"https://cdn.jsdelivr.net/npm//vega@5?noext\",\n",
       "      \"vega-lib\": \"https://cdn.jsdelivr.net/npm//vega-lib?noext\",\n",
       "      \"vega-lite\": \"https://cdn.jsdelivr.net/npm//vega-lite@5.2.0?noext\",\n",
       "      \"vega-embed\": \"https://cdn.jsdelivr.net/npm//vega-embed@6?noext\",\n",
       "    };\n",
       "\n",
       "    function maybeLoadScript(lib, version) {\n",
       "      var key = `${lib.replace(\"-\", \"\")}_version`;\n",
       "      return (VEGA_DEBUG[key] == version) ?\n",
       "        Promise.resolve(paths[lib]) :\n",
       "        new Promise(function(resolve, reject) {\n",
       "          var s = document.createElement('script');\n",
       "          document.getElementsByTagName(\"head\")[0].appendChild(s);\n",
       "          s.async = true;\n",
       "          s.onload = () => {\n",
       "            VEGA_DEBUG[key] = version;\n",
       "            return resolve(paths[lib]);\n",
       "          };\n",
       "          s.onerror = () => reject(`Error loading script: ${paths[lib]}`);\n",
       "          s.src = paths[lib];\n",
       "        });\n",
       "    }\n",
       "\n",
       "    function showError(err) {\n",
       "      outputDiv.innerHTML = `<div class=\"error\" style=\"color:red;\">${err}</div>`;\n",
       "      throw err;\n",
       "    }\n",
       "\n",
       "    function displayChart(vegaEmbed) {\n",
       "      vegaEmbed(outputDiv, spec, embedOpt)\n",
       "        .catch(err => showError(`Javascript Error: ${err.message}<br>This usually means there's a typo in your chart specification. See the javascript console for the full traceback.`));\n",
       "    }\n",
       "\n",
       "    if(typeof define === \"function\" && define.amd) {\n",
       "      requirejs.config({paths});\n",
       "      require([\"vega-embed\"], displayChart, err => showError(`Error loading script: ${err.message}`));\n",
       "    } else {\n",
       "      maybeLoadScript(\"vega\", \"5\")\n",
       "        .then(() => maybeLoadScript(\"vega-lite\", \"5.2.0\"))\n",
       "        .then(() => maybeLoadScript(\"vega-embed\", \"6\"))\n",
       "        .catch(showError)\n",
       "        .then(() => displayChart(vegaEmbed));\n",
       "    }\n",
       "  })({\"config\": {\"view\": {\"continuousWidth\": 400, \"continuousHeight\": 300}}, \"layer\": [{\"mark\": \"errorband\", \"encoding\": {\"color\": {\"field\": \"variable\", \"legend\": {\"title\": [\"Line: pred. mean\", \"area: +/- 2 std\"]}, \"type\": \"nominal\"}, \"x\": {\"field\": \"time\", \"type\": \"temporal\"}, \"y\": {\"field\": \"err_low\", \"scale\": {\"zero\": false}, \"title\": \"\", \"type\": \"quantitative\"}, \"y2\": {\"field\": \"err_high\"}}, \"name\": \"view_3\"}, {\"mark\": \"line\", \"encoding\": {\"color\": {\"field\": \"variable\", \"type\": \"nominal\"}, \"x\": {\"field\": \"time\", \"type\": \"temporal\"}, \"y\": {\"field\": \"value\", \"scale\": {\"zero\": false}, \"title\": \"\", \"type\": \"quantitative\"}}}], \"data\": {\"name\": \"data-949886b415eaa76139d63a0cedd7ea19\"}, \"params\": [{\"name\": \"param_8\", \"select\": {\"type\": \"interval\"}, \"bind\": \"scales\", \"views\": [\"view_3\"]}], \"title\": \"title TA\", \"$schema\": \"https://vega.github.io/schema/vega-lite/v5.2.0.json\", \"datasets\": {\"data-949886b415eaa76139d63a0cedd7ea19\": [{\"time\": \"2000-06-15T17:00:00\", \"variable\": \"TA\", \"value\": 14.220000267028809, \"is_present\": true, \"std\": 0.5, \"err_low\": 13.220000267028809, \"err_high\": 15.220000267028809}, {\"time\": \"2000-06-15T17:30:00\", \"variable\": \"TA\", \"value\": 14.109999656677246, \"is_present\": true, \"std\": 0.5, \"err_low\": 13.109999656677246, \"err_high\": 15.109999656677246}, {\"time\": \"2000-06-15T18:00:00\", \"variable\": \"TA\", \"value\": 14.229999542236328, \"is_present\": false, \"std\": 0.5, \"err_low\": 13.229999542236328, \"err_high\": 15.229999542236328}, {\"time\": \"2000-06-15T18:30:00\", \"variable\": \"TA\", \"value\": 14.399999618530273, \"is_present\": false, \"std\": 0.5, \"err_low\": 13.399999618530273, \"err_high\": 15.399999618530273}, {\"time\": \"2000-06-15T19:00:00\", \"variable\": \"TA\", \"value\": 14.09000015258789, \"is_present\": true, \"std\": 0.5, \"err_low\": 13.09000015258789, \"err_high\": 15.09000015258789}, {\"time\": \"2000-06-15T19:30:00\", \"variable\": \"TA\", \"value\": 13.710000038146973, \"is_present\": true, \"std\": 0.5, \"err_low\": 12.710000038146973, \"err_high\": 14.710000038146973}, {\"time\": \"2000-06-15T20:00:00\", \"variable\": \"TA\", \"value\": 13.079999923706055, \"is_present\": true, \"std\": 0.5, \"err_low\": 12.079999923706055, \"err_high\": 14.079999923706055}, {\"time\": \"2000-06-15T20:30:00\", \"variable\": \"TA\", \"value\": 12.40999984741211, \"is_present\": true, \"std\": 0.5, \"err_low\": 11.40999984741211, \"err_high\": 13.40999984741211}, {\"time\": \"2000-06-15T21:00:00\", \"variable\": \"TA\", \"value\": 12.270000457763672, \"is_present\": true, \"std\": 0.5, \"err_low\": 11.270000457763672, \"err_high\": 13.270000457763672}, {\"time\": \"2000-06-15T21:30:00\", \"variable\": \"TA\", \"value\": 12.199999809265137, \"is_present\": true, \"std\": 0.5, \"err_low\": 11.199999809265137, \"err_high\": 13.199999809265137}]}}, {\"mode\": \"vega-lite\"});\n",
       "</script>"
      ],
      "text/plain": [
       "alt.LayerChart(...)"
      ]
     },
     "execution_count": null,
     "metadata": {},
     "output_type": "execute_result"
    }
   ],
   "source": [
    "plot_variable(m_df.tidy().assign(std=.5), \"TA\", title=\"title TA\", error=True, point=False, gap_area=False)"
   ]
  },
  {
   "cell_type": "markdown",
   "id": "1533116a-d9a2-4a23-9329-9f9357397e34",
   "metadata": {},
   "source": [
    "##### Facet"
   ]
  },
  {
   "cell_type": "code",
   "execution_count": null,
   "id": "df1cf2d7-d9de-48ff-9017-c20e31b7dd21",
   "metadata": {},
   "outputs": [
    {
     "ename": "NameError",
     "evalue": "name 'plot_variable' is not defined",
     "output_type": "error",
     "traceback": [
      "\u001b[0;31m---------------------------------------------------------------------------\u001b[0m",
      "\u001b[0;31mNameError\u001b[0m                                 Traceback (most recent call last)",
      "Input \u001b[0;32mIn [2]\u001b[0m, in \u001b[0;36m<cell line: 2>\u001b[0;34m()\u001b[0m\n\u001b[1;32m      1\u001b[0m \u001b[38;5;66;03m#| export\u001b[39;00m\n\u001b[0;32m----> 2\u001b[0m \u001b[38;5;129m@delegates\u001b[39m(\u001b[43mplot_variable\u001b[49m, but\u001b[38;5;241m=\u001b[39m\u001b[38;5;124m\"\u001b[39m\u001b[38;5;124my_label\u001b[39m\u001b[38;5;124m\"\u001b[39m)\n\u001b[1;32m      3\u001b[0m \u001b[38;5;28;01mdef\u001b[39;00m \u001b[38;5;21mfacet_variable\u001b[39m(df, \u001b[38;5;66;03m# tidy dataframe\u001b[39;00m\n\u001b[1;32m      4\u001b[0m                    n_cols: \u001b[38;5;28mint\u001b[39m \u001b[38;5;241m=\u001b[39m \u001b[38;5;241m3\u001b[39m,\n\u001b[1;32m      5\u001b[0m                    bind_interaction: \u001b[38;5;28mbool\u001b[39m \u001b[38;5;241m=\u001b[39m\u001b[38;5;28;01mTrue\u001b[39;00m, \u001b[38;5;66;03m# Whether the sub-plots for each variable should be connected for zooming/panning\u001b[39;00m\n\u001b[1;32m      6\u001b[0m                    units \u001b[38;5;241m=\u001b[39m \u001b[38;5;28;01mNone\u001b[39;00m\n\u001b[1;32m      7\u001b[0m                     \u001b[38;5;241m*\u001b[39m\u001b[38;5;241m*\u001b[39mkwargs\n\u001b[1;32m      8\u001b[0m                    ) \u001b[38;5;241m-\u001b[39m\u001b[38;5;241m>\u001b[39m alt\u001b[38;5;241m.\u001b[39mChart:\n\u001b[1;32m      9\u001b[0m     \u001b[38;5;124;03m\"\"\"Plot all values of the column `variable` in different subplots\"\"\"\u001b[39;00m\n\u001b[1;32m     10\u001b[0m     kwargs[\u001b[38;5;124m'\u001b[39m\u001b[38;5;124mprops\u001b[39m\u001b[38;5;124m'\u001b[39m] \u001b[38;5;241m=\u001b[39m ifnone(kwargs\u001b[38;5;241m.\u001b[39mget(\u001b[38;5;124m'\u001b[39m\u001b[38;5;124mprops\u001b[39m\u001b[38;5;124m'\u001b[39m, \u001b[38;5;28;01mNone\u001b[39;00m), {\u001b[38;5;124m'\u001b[39m\u001b[38;5;124mwidth\u001b[39m\u001b[38;5;124m'\u001b[39m: \u001b[38;5;241m200\u001b[39m, \u001b[38;5;124m'\u001b[39m\u001b[38;5;124mheight\u001b[39m\u001b[38;5;124m'\u001b[39m: \u001b[38;5;241m150\u001b[39m})\n",
      "\u001b[0;31mNameError\u001b[0m: name 'plot_variable' is not defined"
     ]
    }
   ],
   "source": [
    "#| export\n",
    "@delegates(plot_variable, but=\"y_label\")\n",
    "def facet_variable(df, # tidy dataframe\n",
    "                   n_cols: int = 3,\n",
    "                   bind_interaction: bool =True, # Whether the sub-plots for each variable should be connected for zooming/panning\n",
    "                   units = None,\n",
    "                    **kwargs\n",
    "                   ) -> alt.Chart:\n",
    "    \"\"\"Plot all values of the column `variable` in different subplots\"\"\"\n",
    "    kwargs['props'] = ifnone(kwargs.get('props', None), {'width': 200, 'height': 150})\n",
    "    vars = df.variable.unique()\n",
    "    plot_list = [alt.hconcat() for _ in range(0, len(vars), n_cols)]\n",
    "    selection_scale = alt.selection_interval(bind=\"scales\", encodings=['x']) if bind_interaction else None\n",
    "    for idx, variable in enumerate(vars):\n",
    "        kwargs['y_label'] =  kwargs.get(\"y_label\", f\"{variable} [{units[idx]}]\" if units is not None else variable)\n",
    "        plot = plot_variable(df,\n",
    "                            variable,\n",
    "                            sel = selection_scale,\n",
    "                            **kwargs)\n",
    "        \n",
    "        plot_list[idx // n_cols] |= plot\n",
    "    \n",
    "    plot = alt.vconcat(*plot_list)\n",
    "    \n",
    "    return plot"
   ]
  },
  {
   "cell_type": "markdown",
   "id": "14d74f32-66a2-4002-a3a0-41bd6b5e2957",
   "metadata": {},
   "source": [
    "##### Show"
   ]
  },
  {
   "cell_type": "code",
   "execution_count": null,
   "id": "1787dc1e-cf5f-479b-9173-eaaf2643fd77",
   "metadata": {},
   "outputs": [],
   "source": [
    "#| export\n",
    "@patch\n",
    "def show(self: MeteoImpDf, ax=None, ctx=None, \n",
    "        n_cols: int = 3,\n",
    "        bind_interaction: bool =True, # Whether the sub-plots for each variable should be connected for zooming/panning\n",
    "        props:dict = None # additional properties (eg. size) for altair plot\n",
    "       ) -> alt.Chart:\n",
    "    \n",
    "    df = self.tidy()\n",
    "    return facet_variable(df, n_cols, bind_interaction, props=props)"
   ]
  },
  {
   "cell_type": "code",
   "execution_count": null,
   "id": "6c56115a-5127-473f-be9e-57df2f958496",
   "metadata": {},
   "outputs": [
    {
     "data": {
      "text/html": [
       "\n",
       "<div id=\"altair-viz-84303e40bceb4651bbad5082e20505e0\"></div>\n",
       "<script type=\"text/javascript\">\n",
       "  var VEGA_DEBUG = (typeof VEGA_DEBUG == \"undefined\") ? {} : VEGA_DEBUG;\n",
       "  (function(spec, embedOpt){\n",
       "    let outputDiv = document.currentScript.previousElementSibling;\n",
       "    if (outputDiv.id !== \"altair-viz-84303e40bceb4651bbad5082e20505e0\") {\n",
       "      outputDiv = document.getElementById(\"altair-viz-84303e40bceb4651bbad5082e20505e0\");\n",
       "    }\n",
       "    const paths = {\n",
       "      \"vega\": \"https://cdn.jsdelivr.net/npm//vega@5?noext\",\n",
       "      \"vega-lib\": \"https://cdn.jsdelivr.net/npm//vega-lib?noext\",\n",
       "      \"vega-lite\": \"https://cdn.jsdelivr.net/npm//vega-lite@5.2.0?noext\",\n",
       "      \"vega-embed\": \"https://cdn.jsdelivr.net/npm//vega-embed@6?noext\",\n",
       "    };\n",
       "\n",
       "    function maybeLoadScript(lib, version) {\n",
       "      var key = `${lib.replace(\"-\", \"\")}_version`;\n",
       "      return (VEGA_DEBUG[key] == version) ?\n",
       "        Promise.resolve(paths[lib]) :\n",
       "        new Promise(function(resolve, reject) {\n",
       "          var s = document.createElement('script');\n",
       "          document.getElementsByTagName(\"head\")[0].appendChild(s);\n",
       "          s.async = true;\n",
       "          s.onload = () => {\n",
       "            VEGA_DEBUG[key] = version;\n",
       "            return resolve(paths[lib]);\n",
       "          };\n",
       "          s.onerror = () => reject(`Error loading script: ${paths[lib]}`);\n",
       "          s.src = paths[lib];\n",
       "        });\n",
       "    }\n",
       "\n",
       "    function showError(err) {\n",
       "      outputDiv.innerHTML = `<div class=\"error\" style=\"color:red;\">${err}</div>`;\n",
       "      throw err;\n",
       "    }\n",
       "\n",
       "    function displayChart(vegaEmbed) {\n",
       "      vegaEmbed(outputDiv, spec, embedOpt)\n",
       "        .catch(err => showError(`Javascript Error: ${err.message}<br>This usually means there's a typo in your chart specification. See the javascript console for the full traceback.`));\n",
       "    }\n",
       "\n",
       "    if(typeof define === \"function\" && define.amd) {\n",
       "      requirejs.config({paths});\n",
       "      require([\"vega-embed\"], displayChart, err => showError(`Error loading script: ${err.message}`));\n",
       "    } else {\n",
       "      maybeLoadScript(\"vega\", \"5\")\n",
       "        .then(() => maybeLoadScript(\"vega-lite\", \"5.2.0\"))\n",
       "        .then(() => maybeLoadScript(\"vega-embed\", \"6\"))\n",
       "        .catch(showError)\n",
       "        .then(() => displayChart(vegaEmbed));\n",
       "    }\n",
       "  })({\"config\": {\"view\": {\"continuousWidth\": 400, \"continuousHeight\": 300}}, \"vconcat\": [{\"hconcat\": [{\"layer\": [{\"data\": {\"name\": \"data-d3522d54a15a85a858b8e6a3f806052a\"}, \"mark\": {\"type\": \"point\", \"color\": \"black\", \"fillOpacity\": 1, \"strokeWidth\": 1}, \"encoding\": {\"fill\": {\"field\": \"is_present\", \"legend\": {\"title\": [\"Observed data\"]}, \"scale\": {\"range\": [\"black\", \"#ffffff00\"]}, \"type\": \"nominal\"}, \"shape\": {\"field\": \"is_present\", \"type\": \"nominal\"}, \"x\": {\"axis\": {\"domain\": true, \"labels\": true, \"ticks\": true, \"title\": \"time\"}, \"field\": \"time\", \"type\": \"temporal\"}, \"y\": {\"field\": \"value\", \"scale\": {\"zero\": false}, \"title\": \"\", \"type\": \"quantitative\"}}}, {\"layer\": [{\"mark\": \"rule\", \"encoding\": {\"x\": {\"axis\": {\"domain\": false, \"labels\": false, \"ticks\": false, \"title\": null}, \"field\": \"gap_start\", \"type\": \"temporal\"}}}, {\"mark\": \"rule\", \"encoding\": {\"x\": {\"axis\": {\"domain\": false, \"labels\": false, \"ticks\": false, \"title\": null}, \"field\": \"gap_end\", \"type\": \"temporal\"}}}, {\"mark\": {\"type\": \"rect\", \"color\": \"black\", \"opacity\": 0.15}, \"encoding\": {\"x\": {\"axis\": {\"domain\": false, \"labels\": false, \"ticks\": false, \"title\": null}, \"field\": \"gap_start\", \"type\": \"temporal\"}, \"x2\": {\"field\": \"gap_end\"}}}], \"data\": {\"name\": \"data-3d8f1279455991cf43dd896051a908a7\"}}, {\"data\": {\"name\": \"data-d3522d54a15a85a858b8e6a3f806052a\"}, \"mark\": \"line\", \"encoding\": {\"color\": {\"field\": \"variable\", \"type\": \"nominal\"}, \"x\": {\"field\": \"time\", \"type\": \"temporal\"}, \"y\": {\"field\": \"value\", \"scale\": {\"zero\": false}, \"title\": \"\", \"type\": \"quantitative\"}}, \"name\": \"view_4\"}], \"height\": 150, \"title\": \"\", \"width\": 200}, {\"layer\": [{\"data\": {\"name\": \"data-ba91082466fb229ed1d96bd2562685ce\"}, \"mark\": {\"type\": \"point\", \"color\": \"black\", \"fillOpacity\": 1, \"strokeWidth\": 1}, \"encoding\": {\"fill\": {\"field\": \"is_present\", \"legend\": {\"title\": [\"Observed data\"]}, \"scale\": {\"range\": [\"black\", \"#ffffff00\"]}, \"type\": \"nominal\"}, \"shape\": {\"field\": \"is_present\", \"type\": \"nominal\"}, \"x\": {\"axis\": {\"domain\": true, \"labels\": true, \"ticks\": true, \"title\": \"time\"}, \"field\": \"time\", \"type\": \"temporal\"}, \"y\": {\"field\": \"value\", \"scale\": {\"zero\": false}, \"title\": \"\", \"type\": \"quantitative\"}}}, {\"layer\": [{\"mark\": \"rule\", \"encoding\": {\"x\": {\"axis\": {\"domain\": false, \"labels\": false, \"ticks\": false, \"title\": null}, \"field\": \"gap_start\", \"type\": \"temporal\"}}}, {\"mark\": \"rule\", \"encoding\": {\"x\": {\"axis\": {\"domain\": false, \"labels\": false, \"ticks\": false, \"title\": null}, \"field\": \"gap_end\", \"type\": \"temporal\"}}}, {\"mark\": {\"type\": \"rect\", \"color\": \"black\", \"opacity\": 0.15}, \"encoding\": {\"x\": {\"axis\": {\"domain\": false, \"labels\": false, \"ticks\": false, \"title\": null}, \"field\": \"gap_start\", \"type\": \"temporal\"}, \"x2\": {\"field\": \"gap_end\"}}}], \"data\": {\"name\": \"data-3d8f1279455991cf43dd896051a908a7\"}}, {\"data\": {\"name\": \"data-ba91082466fb229ed1d96bd2562685ce\"}, \"mark\": \"line\", \"encoding\": {\"color\": {\"field\": \"variable\", \"type\": \"nominal\"}, \"x\": {\"field\": \"time\", \"type\": \"temporal\"}, \"y\": {\"field\": \"value\", \"scale\": {\"zero\": false}, \"title\": \"\", \"type\": \"quantitative\"}}, \"name\": \"view_5\"}], \"height\": 150, \"title\": \"\", \"width\": 200}, {\"layer\": [{\"mark\": {\"type\": \"point\", \"color\": \"black\", \"fillOpacity\": 1, \"strokeWidth\": 1}, \"encoding\": {\"fill\": {\"field\": \"is_present\", \"legend\": {\"title\": [\"Observed data\"]}, \"scale\": {\"range\": [\"black\", \"#ffffff00\"]}, \"type\": \"nominal\"}, \"shape\": {\"field\": \"is_present\", \"type\": \"nominal\"}, \"x\": {\"axis\": {\"domain\": true, \"labels\": true, \"ticks\": true, \"title\": \"time\"}, \"field\": \"time\", \"type\": \"temporal\"}, \"y\": {\"field\": \"value\", \"scale\": {\"zero\": false}, \"title\": \"\", \"type\": \"quantitative\"}}}, {\"mark\": \"line\", \"encoding\": {\"color\": {\"field\": \"variable\", \"type\": \"nominal\"}, \"x\": {\"field\": \"time\", \"type\": \"temporal\"}, \"y\": {\"field\": \"value\", \"scale\": {\"zero\": false}, \"title\": \"\", \"type\": \"quantitative\"}}, \"name\": \"view_6\"}], \"data\": {\"name\": \"data-87566384334aba3c379fa0e38b728291\"}, \"height\": 150, \"title\": \"\", \"width\": 200}]}], \"params\": [{\"name\": \"param_9\", \"select\": {\"type\": \"interval\"}, \"bind\": \"scales\", \"views\": [\"view_4\"]}, {\"name\": \"param_10\", \"select\": {\"type\": \"interval\"}, \"bind\": \"scales\", \"views\": [\"view_5\"]}, {\"name\": \"param_11\", \"select\": {\"type\": \"interval\"}, \"bind\": \"scales\", \"views\": [\"view_6\"]}], \"$schema\": \"https://vega.github.io/schema/vega-lite/v5.2.0.json\", \"datasets\": {\"data-d3522d54a15a85a858b8e6a3f806052a\": [{\"time\": \"2000-06-15T17:00:00\", \"variable\": \"TA\", \"value\": 14.220000267028809, \"is_present\": true}, {\"time\": \"2000-06-15T17:30:00\", \"variable\": \"TA\", \"value\": 14.109999656677246, \"is_present\": true}, {\"time\": \"2000-06-15T18:00:00\", \"variable\": \"TA\", \"value\": 14.229999542236328, \"is_present\": false}, {\"time\": \"2000-06-15T18:30:00\", \"variable\": \"TA\", \"value\": 14.399999618530273, \"is_present\": false}, {\"time\": \"2000-06-15T19:00:00\", \"variable\": \"TA\", \"value\": 14.09000015258789, \"is_present\": true}, {\"time\": \"2000-06-15T19:30:00\", \"variable\": \"TA\", \"value\": 13.710000038146973, \"is_present\": true}, {\"time\": \"2000-06-15T20:00:00\", \"variable\": \"TA\", \"value\": 13.079999923706055, \"is_present\": true}, {\"time\": \"2000-06-15T20:30:00\", \"variable\": \"TA\", \"value\": 12.40999984741211, \"is_present\": true}, {\"time\": \"2000-06-15T21:00:00\", \"variable\": \"TA\", \"value\": 12.270000457763672, \"is_present\": true}, {\"time\": \"2000-06-15T21:30:00\", \"variable\": \"TA\", \"value\": 12.199999809265137, \"is_present\": true}], \"data-3d8f1279455991cf43dd896051a908a7\": [{\"gap_start\": \"2000-06-15T18:00:00\", \"gap_end\": \"2000-06-15T18:30:00\"}], \"data-ba91082466fb229ed1d96bd2562685ce\": [{\"time\": \"2000-06-15T17:00:00\", \"variable\": \"SW_IN\", \"value\": 224.8000030517578, \"is_present\": true}, {\"time\": \"2000-06-15T17:30:00\", \"variable\": \"SW_IN\", \"value\": 195.27999877929688, \"is_present\": true}, {\"time\": \"2000-06-15T18:00:00\", \"variable\": \"SW_IN\", \"value\": 244.1699981689453, \"is_present\": false}, {\"time\": \"2000-06-15T18:30:00\", \"variable\": \"SW_IN\", \"value\": 253.9199981689453, \"is_present\": false}, {\"time\": \"2000-06-15T19:00:00\", \"variable\": \"SW_IN\", \"value\": 177.30999755859375, \"is_present\": true}, {\"time\": \"2000-06-15T19:30:00\", \"variable\": \"SW_IN\", \"value\": 97.06999969482422, \"is_present\": true}, {\"time\": \"2000-06-15T20:00:00\", \"variable\": \"SW_IN\", \"value\": 39.709999084472656, \"is_present\": true}, {\"time\": \"2000-06-15T20:30:00\", \"variable\": \"SW_IN\", \"value\": 10.649999618530273, \"is_present\": true}, {\"time\": \"2000-06-15T21:00:00\", \"variable\": \"SW_IN\", \"value\": 0.3199999928474426, \"is_present\": true}, {\"time\": \"2000-06-15T21:30:00\", \"variable\": \"SW_IN\", \"value\": 0.0, \"is_present\": true}], \"data-87566384334aba3c379fa0e38b728291\": [{\"time\": \"2000-06-15T17:00:00\", \"variable\": \"VPD\", \"value\": 5.798999786376953, \"is_present\": true}, {\"time\": \"2000-06-15T17:30:00\", \"variable\": \"VPD\", \"value\": 6.577000141143799, \"is_present\": true}, {\"time\": \"2000-06-15T18:00:00\", \"variable\": \"VPD\", \"value\": 6.931000232696533, \"is_present\": true}, {\"time\": \"2000-06-15T18:30:00\", \"variable\": \"VPD\", \"value\": 7.285999774932861, \"is_present\": true}, {\"time\": \"2000-06-15T19:00:00\", \"variable\": \"VPD\", \"value\": 7.250999927520752, \"is_present\": true}, {\"time\": \"2000-06-15T19:30:00\", \"variable\": \"VPD\", \"value\": 6.683000087738037, \"is_present\": true}, {\"time\": \"2000-06-15T20:00:00\", \"variable\": \"VPD\", \"value\": 5.85099983215332, \"is_present\": true}, {\"time\": \"2000-06-15T20:30:00\", \"variable\": \"VPD\", \"value\": 5.254000186920166, \"is_present\": true}, {\"time\": \"2000-06-15T21:00:00\", \"variable\": \"VPD\", \"value\": 5.164000034332275, \"is_present\": true}, {\"time\": \"2000-06-15T21:30:00\", \"variable\": \"VPD\", \"value\": 5.0370001792907715, \"is_present\": true}]}}, {\"mode\": \"vega-lite\"});\n",
       "</script>"
      ],
      "text/plain": [
       "alt.VConcatChart(...)"
      ]
     },
     "execution_count": null,
     "metadata": {},
     "output_type": "execute_result"
    }
   ],
   "source": [
    "m_df.show(bind_interaction = False)"
   ]
  },
  {
   "cell_type": "code",
   "execution_count": null,
   "id": "c9284e47-6433-405f-8b0d-a2cd6595bf94",
   "metadata": {},
   "outputs": [
    {
     "data": {
      "text/html": [
       "\n",
       "<div id=\"altair-viz-9e9883012afe48de8a5fca83abddbcf8\"></div>\n",
       "<script type=\"text/javascript\">\n",
       "  var VEGA_DEBUG = (typeof VEGA_DEBUG == \"undefined\") ? {} : VEGA_DEBUG;\n",
       "  (function(spec, embedOpt){\n",
       "    let outputDiv = document.currentScript.previousElementSibling;\n",
       "    if (outputDiv.id !== \"altair-viz-9e9883012afe48de8a5fca83abddbcf8\") {\n",
       "      outputDiv = document.getElementById(\"altair-viz-9e9883012afe48de8a5fca83abddbcf8\");\n",
       "    }\n",
       "    const paths = {\n",
       "      \"vega\": \"https://cdn.jsdelivr.net/npm//vega@5?noext\",\n",
       "      \"vega-lib\": \"https://cdn.jsdelivr.net/npm//vega-lib?noext\",\n",
       "      \"vega-lite\": \"https://cdn.jsdelivr.net/npm//vega-lite@5.2.0?noext\",\n",
       "      \"vega-embed\": \"https://cdn.jsdelivr.net/npm//vega-embed@6?noext\",\n",
       "    };\n",
       "\n",
       "    function maybeLoadScript(lib, version) {\n",
       "      var key = `${lib.replace(\"-\", \"\")}_version`;\n",
       "      return (VEGA_DEBUG[key] == version) ?\n",
       "        Promise.resolve(paths[lib]) :\n",
       "        new Promise(function(resolve, reject) {\n",
       "          var s = document.createElement('script');\n",
       "          document.getElementsByTagName(\"head\")[0].appendChild(s);\n",
       "          s.async = true;\n",
       "          s.onload = () => {\n",
       "            VEGA_DEBUG[key] = version;\n",
       "            return resolve(paths[lib]);\n",
       "          };\n",
       "          s.onerror = () => reject(`Error loading script: ${paths[lib]}`);\n",
       "          s.src = paths[lib];\n",
       "        });\n",
       "    }\n",
       "\n",
       "    function showError(err) {\n",
       "      outputDiv.innerHTML = `<div class=\"error\" style=\"color:red;\">${err}</div>`;\n",
       "      throw err;\n",
       "    }\n",
       "\n",
       "    function displayChart(vegaEmbed) {\n",
       "      vegaEmbed(outputDiv, spec, embedOpt)\n",
       "        .catch(err => showError(`Javascript Error: ${err.message}<br>This usually means there's a typo in your chart specification. See the javascript console for the full traceback.`));\n",
       "    }\n",
       "\n",
       "    if(typeof define === \"function\" && define.amd) {\n",
       "      requirejs.config({paths});\n",
       "      require([\"vega-embed\"], displayChart, err => showError(`Error loading script: ${err.message}`));\n",
       "    } else {\n",
       "      maybeLoadScript(\"vega\", \"5\")\n",
       "        .then(() => maybeLoadScript(\"vega-lite\", \"5.2.0\"))\n",
       "        .then(() => maybeLoadScript(\"vega-embed\", \"6\"))\n",
       "        .catch(showError)\n",
       "        .then(() => displayChart(vegaEmbed));\n",
       "    }\n",
       "  })({\"config\": {\"view\": {\"continuousWidth\": 400, \"continuousHeight\": 300}}, \"vconcat\": [{\"hconcat\": [{\"layer\": [{\"data\": {\"name\": \"data-d3522d54a15a85a858b8e6a3f806052a\"}, \"mark\": {\"type\": \"point\", \"color\": \"black\", \"fillOpacity\": 1, \"strokeWidth\": 1}, \"encoding\": {\"fill\": {\"field\": \"is_present\", \"legend\": {\"title\": [\"Observed data\"]}, \"scale\": {\"range\": [\"black\", \"#ffffff00\"]}, \"type\": \"nominal\"}, \"shape\": {\"field\": \"is_present\", \"type\": \"nominal\"}, \"x\": {\"axis\": {\"domain\": true, \"labels\": true, \"ticks\": true, \"title\": \"time\"}, \"field\": \"time\", \"type\": \"temporal\"}, \"y\": {\"field\": \"value\", \"scale\": {\"zero\": false}, \"title\": \"\", \"type\": \"quantitative\"}}}, {\"layer\": [{\"mark\": \"rule\", \"encoding\": {\"x\": {\"axis\": {\"domain\": false, \"labels\": false, \"ticks\": false, \"title\": null}, \"field\": \"gap_start\", \"type\": \"temporal\"}}}, {\"mark\": \"rule\", \"encoding\": {\"x\": {\"axis\": {\"domain\": false, \"labels\": false, \"ticks\": false, \"title\": null}, \"field\": \"gap_end\", \"type\": \"temporal\"}}}, {\"mark\": {\"type\": \"rect\", \"color\": \"black\", \"opacity\": 0.15}, \"encoding\": {\"x\": {\"axis\": {\"domain\": false, \"labels\": false, \"ticks\": false, \"title\": null}, \"field\": \"gap_start\", \"type\": \"temporal\"}, \"x2\": {\"field\": \"gap_end\"}}}], \"data\": {\"name\": \"data-3d8f1279455991cf43dd896051a908a7\"}}, {\"data\": {\"name\": \"data-d3522d54a15a85a858b8e6a3f806052a\"}, \"mark\": \"line\", \"encoding\": {\"color\": {\"field\": \"variable\", \"type\": \"nominal\"}, \"x\": {\"field\": \"time\", \"type\": \"temporal\"}, \"y\": {\"field\": \"value\", \"scale\": {\"zero\": false}, \"title\": \"\", \"type\": \"quantitative\"}}, \"name\": \"view_7\"}], \"height\": 150, \"title\": \"\", \"width\": 200}, {\"layer\": [{\"data\": {\"name\": \"data-ba91082466fb229ed1d96bd2562685ce\"}, \"mark\": {\"type\": \"point\", \"color\": \"black\", \"fillOpacity\": 1, \"strokeWidth\": 1}, \"encoding\": {\"fill\": {\"field\": \"is_present\", \"legend\": {\"title\": [\"Observed data\"]}, \"scale\": {\"range\": [\"black\", \"#ffffff00\"]}, \"type\": \"nominal\"}, \"shape\": {\"field\": \"is_present\", \"type\": \"nominal\"}, \"x\": {\"axis\": {\"domain\": true, \"labels\": true, \"ticks\": true, \"title\": \"time\"}, \"field\": \"time\", \"type\": \"temporal\"}, \"y\": {\"field\": \"value\", \"scale\": {\"zero\": false}, \"title\": \"\", \"type\": \"quantitative\"}}}, {\"layer\": [{\"mark\": \"rule\", \"encoding\": {\"x\": {\"axis\": {\"domain\": false, \"labels\": false, \"ticks\": false, \"title\": null}, \"field\": \"gap_start\", \"type\": \"temporal\"}}}, {\"mark\": \"rule\", \"encoding\": {\"x\": {\"axis\": {\"domain\": false, \"labels\": false, \"ticks\": false, \"title\": null}, \"field\": \"gap_end\", \"type\": \"temporal\"}}}, {\"mark\": {\"type\": \"rect\", \"color\": \"black\", \"opacity\": 0.15}, \"encoding\": {\"x\": {\"axis\": {\"domain\": false, \"labels\": false, \"ticks\": false, \"title\": null}, \"field\": \"gap_start\", \"type\": \"temporal\"}, \"x2\": {\"field\": \"gap_end\"}}}], \"data\": {\"name\": \"data-3d8f1279455991cf43dd896051a908a7\"}}, {\"data\": {\"name\": \"data-ba91082466fb229ed1d96bd2562685ce\"}, \"mark\": \"line\", \"encoding\": {\"color\": {\"field\": \"variable\", \"type\": \"nominal\"}, \"x\": {\"field\": \"time\", \"type\": \"temporal\"}, \"y\": {\"field\": \"value\", \"scale\": {\"zero\": false}, \"title\": \"\", \"type\": \"quantitative\"}}, \"name\": \"view_8\"}], \"height\": 150, \"title\": \"\", \"width\": 200}, {\"layer\": [{\"mark\": {\"type\": \"point\", \"color\": \"black\", \"fillOpacity\": 1, \"strokeWidth\": 1}, \"encoding\": {\"fill\": {\"field\": \"is_present\", \"legend\": {\"title\": [\"Observed data\"]}, \"scale\": {\"range\": [\"black\", \"#ffffff00\"]}, \"type\": \"nominal\"}, \"shape\": {\"field\": \"is_present\", \"type\": \"nominal\"}, \"x\": {\"axis\": {\"domain\": true, \"labels\": true, \"ticks\": true, \"title\": \"time\"}, \"field\": \"time\", \"type\": \"temporal\"}, \"y\": {\"field\": \"value\", \"scale\": {\"zero\": false}, \"title\": \"\", \"type\": \"quantitative\"}}}, {\"mark\": \"line\", \"encoding\": {\"color\": {\"field\": \"variable\", \"type\": \"nominal\"}, \"x\": {\"field\": \"time\", \"type\": \"temporal\"}, \"y\": {\"field\": \"value\", \"scale\": {\"zero\": false}, \"title\": \"\", \"type\": \"quantitative\"}}, \"name\": \"view_9\"}], \"data\": {\"name\": \"data-87566384334aba3c379fa0e38b728291\"}, \"height\": 150, \"title\": \"\", \"width\": 200}]}], \"params\": [{\"name\": \"param_12\", \"select\": {\"type\": \"interval\", \"encodings\": [\"x\"]}, \"bind\": \"scales\", \"views\": [\"view_7\", \"view_8\", \"view_9\"]}], \"$schema\": \"https://vega.github.io/schema/vega-lite/v5.2.0.json\", \"datasets\": {\"data-d3522d54a15a85a858b8e6a3f806052a\": [{\"time\": \"2000-06-15T17:00:00\", \"variable\": \"TA\", \"value\": 14.220000267028809, \"is_present\": true}, {\"time\": \"2000-06-15T17:30:00\", \"variable\": \"TA\", \"value\": 14.109999656677246, \"is_present\": true}, {\"time\": \"2000-06-15T18:00:00\", \"variable\": \"TA\", \"value\": 14.229999542236328, \"is_present\": false}, {\"time\": \"2000-06-15T18:30:00\", \"variable\": \"TA\", \"value\": 14.399999618530273, \"is_present\": false}, {\"time\": \"2000-06-15T19:00:00\", \"variable\": \"TA\", \"value\": 14.09000015258789, \"is_present\": true}, {\"time\": \"2000-06-15T19:30:00\", \"variable\": \"TA\", \"value\": 13.710000038146973, \"is_present\": true}, {\"time\": \"2000-06-15T20:00:00\", \"variable\": \"TA\", \"value\": 13.079999923706055, \"is_present\": true}, {\"time\": \"2000-06-15T20:30:00\", \"variable\": \"TA\", \"value\": 12.40999984741211, \"is_present\": true}, {\"time\": \"2000-06-15T21:00:00\", \"variable\": \"TA\", \"value\": 12.270000457763672, \"is_present\": true}, {\"time\": \"2000-06-15T21:30:00\", \"variable\": \"TA\", \"value\": 12.199999809265137, \"is_present\": true}], \"data-3d8f1279455991cf43dd896051a908a7\": [{\"gap_start\": \"2000-06-15T18:00:00\", \"gap_end\": \"2000-06-15T18:30:00\"}], \"data-ba91082466fb229ed1d96bd2562685ce\": [{\"time\": \"2000-06-15T17:00:00\", \"variable\": \"SW_IN\", \"value\": 224.8000030517578, \"is_present\": true}, {\"time\": \"2000-06-15T17:30:00\", \"variable\": \"SW_IN\", \"value\": 195.27999877929688, \"is_present\": true}, {\"time\": \"2000-06-15T18:00:00\", \"variable\": \"SW_IN\", \"value\": 244.1699981689453, \"is_present\": false}, {\"time\": \"2000-06-15T18:30:00\", \"variable\": \"SW_IN\", \"value\": 253.9199981689453, \"is_present\": false}, {\"time\": \"2000-06-15T19:00:00\", \"variable\": \"SW_IN\", \"value\": 177.30999755859375, \"is_present\": true}, {\"time\": \"2000-06-15T19:30:00\", \"variable\": \"SW_IN\", \"value\": 97.06999969482422, \"is_present\": true}, {\"time\": \"2000-06-15T20:00:00\", \"variable\": \"SW_IN\", \"value\": 39.709999084472656, \"is_present\": true}, {\"time\": \"2000-06-15T20:30:00\", \"variable\": \"SW_IN\", \"value\": 10.649999618530273, \"is_present\": true}, {\"time\": \"2000-06-15T21:00:00\", \"variable\": \"SW_IN\", \"value\": 0.3199999928474426, \"is_present\": true}, {\"time\": \"2000-06-15T21:30:00\", \"variable\": \"SW_IN\", \"value\": 0.0, \"is_present\": true}], \"data-87566384334aba3c379fa0e38b728291\": [{\"time\": \"2000-06-15T17:00:00\", \"variable\": \"VPD\", \"value\": 5.798999786376953, \"is_present\": true}, {\"time\": \"2000-06-15T17:30:00\", \"variable\": \"VPD\", \"value\": 6.577000141143799, \"is_present\": true}, {\"time\": \"2000-06-15T18:00:00\", \"variable\": \"VPD\", \"value\": 6.931000232696533, \"is_present\": true}, {\"time\": \"2000-06-15T18:30:00\", \"variable\": \"VPD\", \"value\": 7.285999774932861, \"is_present\": true}, {\"time\": \"2000-06-15T19:00:00\", \"variable\": \"VPD\", \"value\": 7.250999927520752, \"is_present\": true}, {\"time\": \"2000-06-15T19:30:00\", \"variable\": \"VPD\", \"value\": 6.683000087738037, \"is_present\": true}, {\"time\": \"2000-06-15T20:00:00\", \"variable\": \"VPD\", \"value\": 5.85099983215332, \"is_present\": true}, {\"time\": \"2000-06-15T20:30:00\", \"variable\": \"VPD\", \"value\": 5.254000186920166, \"is_present\": true}, {\"time\": \"2000-06-15T21:00:00\", \"variable\": \"VPD\", \"value\": 5.164000034332275, \"is_present\": true}, {\"time\": \"2000-06-15T21:30:00\", \"variable\": \"VPD\", \"value\": 5.0370001792907715, \"is_present\": true}]}}, {\"mode\": \"vega-lite\"});\n",
       "</script>"
      ],
      "text/plain": [
       "alt.VConcatChart(...)"
      ]
     },
     "execution_count": null,
     "metadata": {},
     "output_type": "execute_result"
    }
   ],
   "source": [
    "tfms2[0].show()"
   ]
  },
  {
   "cell_type": "code",
   "execution_count": null,
   "id": "416677b9-11ee-4700-b495-0a625209d43b",
   "metadata": {},
   "outputs": [
    {
     "data": {
      "text/html": [
       "\n",
       "<div id=\"altair-viz-0abeebea14b14f4fa3113a04f386e0d8\"></div>\n",
       "<script type=\"text/javascript\">\n",
       "  var VEGA_DEBUG = (typeof VEGA_DEBUG == \"undefined\") ? {} : VEGA_DEBUG;\n",
       "  (function(spec, embedOpt){\n",
       "    let outputDiv = document.currentScript.previousElementSibling;\n",
       "    if (outputDiv.id !== \"altair-viz-0abeebea14b14f4fa3113a04f386e0d8\") {\n",
       "      outputDiv = document.getElementById(\"altair-viz-0abeebea14b14f4fa3113a04f386e0d8\");\n",
       "    }\n",
       "    const paths = {\n",
       "      \"vega\": \"https://cdn.jsdelivr.net/npm//vega@5?noext\",\n",
       "      \"vega-lib\": \"https://cdn.jsdelivr.net/npm//vega-lib?noext\",\n",
       "      \"vega-lite\": \"https://cdn.jsdelivr.net/npm//vega-lite@5.2.0?noext\",\n",
       "      \"vega-embed\": \"https://cdn.jsdelivr.net/npm//vega-embed@6?noext\",\n",
       "    };\n",
       "\n",
       "    function maybeLoadScript(lib, version) {\n",
       "      var key = `${lib.replace(\"-\", \"\")}_version`;\n",
       "      return (VEGA_DEBUG[key] == version) ?\n",
       "        Promise.resolve(paths[lib]) :\n",
       "        new Promise(function(resolve, reject) {\n",
       "          var s = document.createElement('script');\n",
       "          document.getElementsByTagName(\"head\")[0].appendChild(s);\n",
       "          s.async = true;\n",
       "          s.onload = () => {\n",
       "            VEGA_DEBUG[key] = version;\n",
       "            return resolve(paths[lib]);\n",
       "          };\n",
       "          s.onerror = () => reject(`Error loading script: ${paths[lib]}`);\n",
       "          s.src = paths[lib];\n",
       "        });\n",
       "    }\n",
       "\n",
       "    function showError(err) {\n",
       "      outputDiv.innerHTML = `<div class=\"error\" style=\"color:red;\">${err}</div>`;\n",
       "      throw err;\n",
       "    }\n",
       "\n",
       "    function displayChart(vegaEmbed) {\n",
       "      vegaEmbed(outputDiv, spec, embedOpt)\n",
       "        .catch(err => showError(`Javascript Error: ${err.message}<br>This usually means there's a typo in your chart specification. See the javascript console for the full traceback.`));\n",
       "    }\n",
       "\n",
       "    if(typeof define === \"function\" && define.amd) {\n",
       "      requirejs.config({paths});\n",
       "      require([\"vega-embed\"], displayChart, err => showError(`Error loading script: ${err.message}`));\n",
       "    } else {\n",
       "      maybeLoadScript(\"vega\", \"5\")\n",
       "        .then(() => maybeLoadScript(\"vega-lite\", \"5.2.0\"))\n",
       "        .then(() => maybeLoadScript(\"vega-embed\", \"6\"))\n",
       "        .catch(showError)\n",
       "        .then(() => displayChart(vegaEmbed));\n",
       "    }\n",
       "  })({\"config\": {\"view\": {\"continuousWidth\": 400, \"continuousHeight\": 300}}, \"vconcat\": [{\"hconcat\": [{\"layer\": [{\"data\": {\"name\": \"data-ab6f2550198bae81eff022e4d2802f6f\"}, \"mark\": {\"type\": \"point\", \"color\": \"black\", \"fillOpacity\": 1, \"strokeWidth\": 1}, \"encoding\": {\"fill\": {\"field\": \"is_present\", \"legend\": {\"title\": [\"Observed data\"]}, \"scale\": {\"range\": [\"black\", \"#ffffff00\"]}, \"type\": \"nominal\"}, \"shape\": {\"field\": \"is_present\", \"type\": \"nominal\"}, \"x\": {\"axis\": {\"domain\": true, \"labels\": true, \"ticks\": true, \"title\": \"time\"}, \"field\": \"time\", \"type\": \"temporal\"}, \"y\": {\"field\": \"value\", \"scale\": {\"zero\": false}, \"title\": \"\", \"type\": \"quantitative\"}}}, {\"layer\": [{\"mark\": \"rule\", \"encoding\": {\"x\": {\"axis\": {\"domain\": false, \"labels\": false, \"ticks\": false, \"title\": null}, \"field\": \"gap_start\", \"type\": \"temporal\"}}}, {\"mark\": \"rule\", \"encoding\": {\"x\": {\"axis\": {\"domain\": false, \"labels\": false, \"ticks\": false, \"title\": null}, \"field\": \"gap_end\", \"type\": \"temporal\"}}}, {\"mark\": {\"type\": \"rect\", \"color\": \"black\", \"opacity\": 0.15}, \"encoding\": {\"x\": {\"axis\": {\"domain\": false, \"labels\": false, \"ticks\": false, \"title\": null}, \"field\": \"gap_start\", \"type\": \"temporal\"}, \"x2\": {\"field\": \"gap_end\"}}}], \"data\": {\"name\": \"data-7abd4e4a3459d6f581062531aa9e5dc7\"}}, {\"data\": {\"name\": \"data-ab6f2550198bae81eff022e4d2802f6f\"}, \"mark\": \"line\", \"encoding\": {\"color\": {\"field\": \"variable\", \"type\": \"nominal\"}, \"x\": {\"field\": \"time\", \"type\": \"temporal\"}, \"y\": {\"field\": \"value\", \"scale\": {\"zero\": false}, \"title\": \"\", \"type\": \"quantitative\"}}, \"name\": \"view_10\"}], \"height\": 150, \"title\": \"\", \"width\": 200}, {\"layer\": [{\"data\": {\"name\": \"data-0e24e746637fe86fbe97cac7aeaf242e\"}, \"mark\": {\"type\": \"point\", \"color\": \"black\", \"fillOpacity\": 1, \"strokeWidth\": 1}, \"encoding\": {\"fill\": {\"field\": \"is_present\", \"legend\": {\"title\": [\"Observed data\"]}, \"scale\": {\"range\": [\"black\", \"#ffffff00\"]}, \"type\": \"nominal\"}, \"shape\": {\"field\": \"is_present\", \"type\": \"nominal\"}, \"x\": {\"axis\": {\"domain\": true, \"labels\": true, \"ticks\": true, \"title\": \"time\"}, \"field\": \"time\", \"type\": \"temporal\"}, \"y\": {\"field\": \"value\", \"scale\": {\"zero\": false}, \"title\": \"\", \"type\": \"quantitative\"}}}, {\"layer\": [{\"mark\": \"rule\", \"encoding\": {\"x\": {\"axis\": {\"domain\": false, \"labels\": false, \"ticks\": false, \"title\": null}, \"field\": \"gap_start\", \"type\": \"temporal\"}}}, {\"mark\": \"rule\", \"encoding\": {\"x\": {\"axis\": {\"domain\": false, \"labels\": false, \"ticks\": false, \"title\": null}, \"field\": \"gap_end\", \"type\": \"temporal\"}}}, {\"mark\": {\"type\": \"rect\", \"color\": \"black\", \"opacity\": 0.15}, \"encoding\": {\"x\": {\"axis\": {\"domain\": false, \"labels\": false, \"ticks\": false, \"title\": null}, \"field\": \"gap_start\", \"type\": \"temporal\"}, \"x2\": {\"field\": \"gap_end\"}}}], \"data\": {\"name\": \"data-7abd4e4a3459d6f581062531aa9e5dc7\"}}, {\"data\": {\"name\": \"data-0e24e746637fe86fbe97cac7aeaf242e\"}, \"mark\": \"line\", \"encoding\": {\"color\": {\"field\": \"variable\", \"type\": \"nominal\"}, \"x\": {\"field\": \"time\", \"type\": \"temporal\"}, \"y\": {\"field\": \"value\", \"scale\": {\"zero\": false}, \"title\": \"\", \"type\": \"quantitative\"}}, \"name\": \"view_11\"}], \"height\": 150, \"title\": \"\", \"width\": 200}, {\"layer\": [{\"mark\": {\"type\": \"point\", \"color\": \"black\", \"fillOpacity\": 1, \"strokeWidth\": 1}, \"encoding\": {\"fill\": {\"field\": \"is_present\", \"legend\": {\"title\": [\"Observed data\"]}, \"scale\": {\"range\": [\"black\", \"#ffffff00\"]}, \"type\": \"nominal\"}, \"shape\": {\"field\": \"is_present\", \"type\": \"nominal\"}, \"x\": {\"axis\": {\"domain\": true, \"labels\": true, \"ticks\": true, \"title\": \"time\"}, \"field\": \"time\", \"type\": \"temporal\"}, \"y\": {\"field\": \"value\", \"scale\": {\"zero\": false}, \"title\": \"\", \"type\": \"quantitative\"}}}, {\"mark\": \"line\", \"encoding\": {\"color\": {\"field\": \"variable\", \"type\": \"nominal\"}, \"x\": {\"field\": \"time\", \"type\": \"temporal\"}, \"y\": {\"field\": \"value\", \"scale\": {\"zero\": false}, \"title\": \"\", \"type\": \"quantitative\"}}, \"name\": \"view_12\"}], \"data\": {\"name\": \"data-0758420d5d1e1a0a6b4da55e8a5b3610\"}, \"height\": 150, \"title\": \"\", \"width\": 200}]}], \"params\": [{\"name\": \"param_16\", \"select\": {\"type\": \"interval\", \"encodings\": [\"x\"]}, \"bind\": \"scales\", \"views\": [\"view_10\", \"view_11\", \"view_12\"]}], \"$schema\": \"https://vega.github.io/schema/vega-lite/v5.2.0.json\", \"datasets\": {\"data-ab6f2550198bae81eff022e4d2802f6f\": [{\"time\": \"2000-06-16T08:00:00\", \"variable\": \"TA\", \"value\": 8.899999618530273, \"is_present\": true}, {\"time\": \"2000-06-16T08:30:00\", \"variable\": \"TA\", \"value\": 9.569999694824219, \"is_present\": true}, {\"time\": \"2000-06-16T09:00:00\", \"variable\": \"TA\", \"value\": 9.739999771118164, \"is_present\": false}, {\"time\": \"2000-06-16T09:30:00\", \"variable\": \"TA\", \"value\": 10.020000457763672, \"is_present\": false}, {\"time\": \"2000-06-16T10:00:00\", \"variable\": \"TA\", \"value\": 10.5, \"is_present\": true}, {\"time\": \"2000-06-16T10:30:00\", \"variable\": \"TA\", \"value\": 10.529999732971191, \"is_present\": true}, {\"time\": \"2000-06-16T11:00:00\", \"variable\": \"TA\", \"value\": 10.729999542236328, \"is_present\": true}, {\"time\": \"2000-06-16T11:30:00\", \"variable\": \"TA\", \"value\": 10.770000457763672, \"is_present\": true}, {\"time\": \"2000-06-16T12:00:00\", \"variable\": \"TA\", \"value\": 10.850000381469727, \"is_present\": true}, {\"time\": \"2000-06-16T12:30:00\", \"variable\": \"TA\", \"value\": 11.399999618530273, \"is_present\": true}], \"data-7abd4e4a3459d6f581062531aa9e5dc7\": [{\"gap_start\": \"2000-06-16T09:00:00\", \"gap_end\": \"2000-06-16T09:30:00\"}], \"data-0e24e746637fe86fbe97cac7aeaf242e\": [{\"time\": \"2000-06-16T08:00:00\", \"variable\": \"SW_IN\", \"value\": 467.94000244140625, \"is_present\": true}, {\"time\": \"2000-06-16T08:30:00\", \"variable\": \"SW_IN\", \"value\": 526.6400146484375, \"is_present\": true}, {\"time\": \"2000-06-16T09:00:00\", \"variable\": \"SW_IN\", \"value\": 463.1000061035156, \"is_present\": false}, {\"time\": \"2000-06-16T09:30:00\", \"variable\": \"SW_IN\", \"value\": 676.3599853515625, \"is_present\": false}, {\"time\": \"2000-06-16T10:00:00\", \"variable\": \"SW_IN\", \"value\": 689.47998046875, \"is_present\": true}, {\"time\": \"2000-06-16T10:30:00\", \"variable\": \"SW_IN\", \"value\": 503.30999755859375, \"is_present\": true}, {\"time\": \"2000-06-16T11:00:00\", \"variable\": \"SW_IN\", \"value\": 583.1699829101562, \"is_present\": true}, {\"time\": \"2000-06-16T11:30:00\", \"variable\": \"SW_IN\", \"value\": 329.6400146484375, \"is_present\": true}, {\"time\": \"2000-06-16T12:00:00\", \"variable\": \"SW_IN\", \"value\": 503.57000732421875, \"is_present\": true}, {\"time\": \"2000-06-16T12:30:00\", \"variable\": \"SW_IN\", \"value\": 567.5599975585938, \"is_present\": true}], \"data-0758420d5d1e1a0a6b4da55e8a5b3610\": [{\"time\": \"2000-06-16T08:00:00\", \"variable\": \"VPD\", \"value\": 3.5490000247955322, \"is_present\": true}, {\"time\": \"2000-06-16T08:30:00\", \"variable\": \"VPD\", \"value\": 4.1529998779296875, \"is_present\": true}, {\"time\": \"2000-06-16T09:00:00\", \"variable\": \"VPD\", \"value\": 4.705999851226807, \"is_present\": true}, {\"time\": \"2000-06-16T09:30:00\", \"variable\": \"VPD\", \"value\": 5.374000072479248, \"is_present\": true}, {\"time\": \"2000-06-16T10:00:00\", \"variable\": \"VPD\", \"value\": 5.7129998207092285, \"is_present\": true}, {\"time\": \"2000-06-16T10:30:00\", \"variable\": \"VPD\", \"value\": 5.677000045776367, \"is_present\": true}, {\"time\": \"2000-06-16T11:00:00\", \"variable\": \"VPD\", \"value\": 5.386000156402588, \"is_present\": true}, {\"time\": \"2000-06-16T11:30:00\", \"variable\": \"VPD\", \"value\": 5.355000019073486, \"is_present\": true}, {\"time\": \"2000-06-16T12:00:00\", \"variable\": \"VPD\", \"value\": 5.065999984741211, \"is_present\": true}, {\"time\": \"2000-06-16T12:30:00\", \"variable\": \"VPD\", \"value\": 5.794000148773193, \"is_present\": true}]}}, {\"mode\": \"vega-lite\"});\n",
       "</script>"
      ],
      "text/plain": [
       "alt.VConcatChart(...)"
      ]
     },
     "execution_count": null,
     "metadata": {},
     "output_type": "execute_result"
    }
   ],
   "source": [
    "tfms2[3].show()"
   ]
  },
  {
   "cell_type": "markdown",
   "id": "9e70cf47-7a11-4806-93ba-f9bdf56dc671",
   "metadata": {},
   "source": [
    "### 4) To Tensor"
   ]
  },
  {
   "cell_type": "markdown",
   "id": "a632c649-a391-4513-bcad-c5217ce001ef",
   "metadata": {},
   "source": [
    "this needs to handle both the init with a list of items and when the first item is a sequence of list of items"
   ]
  },
  {
   "cell_type": "code",
   "execution_count": null,
   "id": "1c157b15-d2e4-468b-9505-34478c196d34",
   "metadata": {},
   "outputs": [],
   "source": [
    "#| export\n",
    "class MeteoImpTensor(collections.abc.Sequence):\n",
    "    def __init__(self,*args):\n",
    "        if len(args)==3:\n",
    "            self.data = args[0]\n",
    "            self.mask = args[1]\n",
    "            self.control = args[2]\n",
    "        elif len(args)==1 and len(args[0])==2:\n",
    "            self.data = args[0][0]\n",
    "            self.mask = args[0][1]\n",
    "            self.control = args[0][2]\n",
    "        else:\n",
    "            raise ValueError(f\"Incorrect number of arguments. got {len(args)} args\")\n",
    "\n",
    "    def __iter__(self): return iter((self.data, self.mask,self.control))\n",
    "    __len__ = 3\n",
    "    def __getitem__(self, key):\n",
    "        if key == 0: return self.data\n",
    "        elif key == 1: return self.mask\n",
    "        elif key == 2: return self.control\n",
    "        else: raise IndexError(\"index bigger than 2\")\n",
    "    __repr__ = basic_repr('data, mask, control')\n",
    "    def _repr_html_(self):\n",
    "        return row_items(data = self.data, mask = self.mask, control = self.control)"
   ]
  },
  {
   "cell_type": "code",
   "execution_count": null,
   "id": "49a73687-9272-44ad-84d5-0b845a63cd98",
   "metadata": {},
   "outputs": [],
   "source": [
    "#| export\n",
    "class MeteoImpDf2Tensor(Transform):\n",
    "    def setups(self, items):\n",
    "        self.columns = list(items[0].data.columns)\n",
    "    def encodes(self, df: MeteoImpDf) -> MeteoImpTensor:\n",
    "        data = torch.tensor(df.data.to_numpy())\n",
    "        mask = torch.tensor(df.mask.to_numpy())\n",
    "        control = torch.tensor(df.control.to_numpy())\n",
    "        return MeteoImpTensor(data, mask, control)\n",
    "        \n",
    "    # def decodes(self, x: MeteoImpTensor) -> MeteoImpDf:\n",
    "    #     data = pd.DataFrame(x.data.detach().cpu().numpy(), columns = self.columns)\n",
    "    #     mask = pd.DataFrame(x.mask.cpu().numpy(), columns = self.columns)\n",
    "    #     control = pd.DataFrame(x.control.cpu().numpy(), columns = self.columns)\n",
    "    #     return MeteoImpDf(data, mask, control)"
   ]
  },
  {
   "cell_type": "code",
   "execution_count": null,
   "id": "f144e2e3-93b2-4b53-86ac-eeed6b483e61",
   "metadata": {},
   "outputs": [],
   "source": [
    "to_t = MeteoImpDf2Tensor()"
   ]
  },
  {
   "cell_type": "code",
   "execution_count": null,
   "id": "70d0c5f6-741a-4687-896a-deeb0d58c201",
   "metadata": {},
   "outputs": [],
   "source": [
    "to_t.setup(tfms2)"
   ]
  },
  {
   "cell_type": "code",
   "execution_count": null,
   "id": "2a4f7ca8-df98-42a4-97a7-cd04a61d1304",
   "metadata": {},
   "outputs": [
    {
     "data": {
      "text/html": [
       "<div style=\"display: flex; column-gap: 20px; flex-wrap: wrap;\" class='table table-striped table-sm'> <div><p style='font-size: 1.2rem;'>data</p> <pre>tensor([[ 14.2200, 224.8000,   5.7990],\n",
       "        [ 14.1100, 195.2800,   6.5770],\n",
       "        [ 14.2300, 244.1700,   6.9310],\n",
       "        [ 14.4000, 253.9200,   7.2860],\n",
       "        [ 14.0900, 177.3100,   7.2510],\n",
       "        [ 13.7100,  97.0700,   6.6830],\n",
       "        [ 13.0800,  39.7100,   5.8510],\n",
       "        [ 12.4100,  10.6500,   5.2540],\n",
       "        [ 12.2700,   0.3200,   5.1640],\n",
       "        [ 12.2000,   0.0000,   5.0370]])</pre> </div><div><p style='font-size: 1.2rem;'>mask</p> <pre>tensor([[ True,  True,  True],\n",
       "        [ True,  True,  True],\n",
       "        [False, False,  True],\n",
       "        [False, False,  True],\n",
       "        [ True,  True,  True],\n",
       "        [ True,  True,  True],\n",
       "        [ True,  True,  True],\n",
       "        [ True,  True,  True],\n",
       "        [ True,  True,  True],\n",
       "        [ True,  True,  True]])</pre> </div><div><p style='font-size: 1.2rem;'>control</p> <pre>tensor([[ 15.0500, 255.1930,   5.1020,  15.1390, 287.1000,   4.9000],\n",
       "        [ 14.9610, 221.4270,   5.3050,  15.0500, 255.1930,   5.1020],\n",
       "        [ 14.8720, 186.3800,   5.5070,  14.9610, 221.4270,   5.3050],\n",
       "        [ 14.7830, 150.6500,   5.7100,  14.8720, 186.3800,   5.5070],\n",
       "        [ 14.6940, 114.8490,   5.9120,  14.7830, 150.6500,   5.7100],\n",
       "        [ 14.6060,  34.7280,   6.1140,  14.6940, 114.8490,   5.9120],\n",
       "        [ 14.3800,  19.8430,   6.0740,  14.6060,  34.7280,   6.1140],\n",
       "        [ 14.1550,   5.7120,   6.0340,  14.3800,  19.8430,   6.0740],\n",
       "        [ 13.9290,   0.0000,   5.9940,  14.1550,   5.7120,   6.0340],\n",
       "        [ 13.7040,   0.0000,   5.9540,  13.9290,   0.0000,   5.9940]])</pre> </div></div>"
      ],
      "text/plain": [
       "__main__.MeteoImpTensor(data=tensor([[ 14.2200, 224.8000,   5.7990],\n",
       "        [ 14.1100, 195.2800,   6.5770],\n",
       "        [ 14.2300, 244.1700,   6.9310],\n",
       "        [ 14.4000, 253.9200,   7.2860],\n",
       "        [ 14.0900, 177.3100,   7.2510],\n",
       "        [ 13.7100,  97.0700,   6.6830],\n",
       "        [ 13.0800,  39.7100,   5.8510],\n",
       "        [ 12.4100,  10.6500,   5.2540],\n",
       "        [ 12.2700,   0.3200,   5.1640],\n",
       "        [ 12.2000,   0.0000,   5.0370]]), mask=tensor([[ True,  True,  True],\n",
       "        [ True,  True,  True],\n",
       "        [False, False,  True],\n",
       "        [False, False,  True],\n",
       "        [ True,  True,  True],\n",
       "        [ True,  True,  True],\n",
       "        [ True,  True,  True],\n",
       "        [ True,  True,  True],\n",
       "        [ True,  True,  True],\n",
       "        [ True,  True,  True]]), control=tensor([[ 15.0500, 255.1930,   5.1020,  15.1390, 287.1000,   4.9000],\n",
       "        [ 14.9610, 221.4270,   5.3050,  15.0500, 255.1930,   5.1020],\n",
       "        [ 14.8720, 186.3800,   5.5070,  14.9610, 221.4270,   5.3050],\n",
       "        [ 14.7830, 150.6500,   5.7100,  14.8720, 186.3800,   5.5070],\n",
       "        [ 14.6940, 114.8490,   5.9120,  14.7830, 150.6500,   5.7100],\n",
       "        [ 14.6060,  34.7280,   6.1140,  14.6940, 114.8490,   5.9120],\n",
       "        [ 14.3800,  19.8430,   6.0740,  14.6060,  34.7280,   6.1140],\n",
       "        [ 14.1550,   5.7120,   6.0340,  14.3800,  19.8430,   6.0740],\n",
       "        [ 13.9290,   0.0000,   5.9940,  14.1550,   5.7120,   6.0340],\n",
       "        [ 13.7040,   0.0000,   5.9540,  13.9290,   0.0000,   5.9940]]))"
      ]
     },
     "execution_count": null,
     "metadata": {},
     "output_type": "execute_result"
    }
   ],
   "source": [
    "to_t(tfms2[0])"
   ]
  },
  {
   "cell_type": "code",
   "execution_count": null,
   "id": "786af7c1-edb5-40ef-bbd3-b9f1b1220f11",
   "metadata": {},
   "outputs": [],
   "source": [
    "to_t.decode(to_t(tfms2[0]));"
   ]
  },
  {
   "cell_type": "code",
   "execution_count": null,
   "id": "d2e84c50-5ecd-43a7-881e-80e53bc55aa0",
   "metadata": {},
   "outputs": [
    {
     "data": {
      "text/html": [
       "<p style='font-size: 1.5rem; font-decoration: bold'>Meteo Imp Df<p><div style=\"display: flex; column-gap: 20px; flex-wrap: wrap;\" class='table table-striped table-sm'> <div> <p style='font-size: 1.3rem;'>data</p> <style type=\"text/css\">\n",
       "</style>\n",
       "<table id=\"T_aa9b5\">\n",
       "  <thead>\n",
       "    <tr>\n",
       "      <th class=\"blank level0\" >&nbsp;</th>\n",
       "      <th id=\"T_aa9b5_level0_col0\" class=\"col_heading level0 col0\" >TA</th>\n",
       "      <th id=\"T_aa9b5_level0_col1\" class=\"col_heading level0 col1\" >SW_IN</th>\n",
       "      <th id=\"T_aa9b5_level0_col2\" class=\"col_heading level0 col2\" >VPD</th>\n",
       "    </tr>\n",
       "    <tr>\n",
       "      <th class=\"index_name level0\" >time</th>\n",
       "      <th class=\"blank col0\" >&nbsp;</th>\n",
       "      <th class=\"blank col1\" >&nbsp;</th>\n",
       "      <th class=\"blank col2\" >&nbsp;</th>\n",
       "    </tr>\n",
       "  </thead>\n",
       "  <tbody>\n",
       "    <tr>\n",
       "      <th id=\"T_aa9b5_level0_row0\" class=\"row_heading level0 row0\" >2000-06-15 17:00:00</th>\n",
       "      <td id=\"T_aa9b5_row0_col0\" class=\"data row0 col0\" >14.2200</td>\n",
       "      <td id=\"T_aa9b5_row0_col1\" class=\"data row0 col1\" >224.8000</td>\n",
       "      <td id=\"T_aa9b5_row0_col2\" class=\"data row0 col2\" >5.7990</td>\n",
       "    </tr>\n",
       "    <tr>\n",
       "      <th id=\"T_aa9b5_level0_row1\" class=\"row_heading level0 row1\" >2000-06-15 17:30:00</th>\n",
       "      <td id=\"T_aa9b5_row1_col0\" class=\"data row1 col0\" >14.1100</td>\n",
       "      <td id=\"T_aa9b5_row1_col1\" class=\"data row1 col1\" >195.2800</td>\n",
       "      <td id=\"T_aa9b5_row1_col2\" class=\"data row1 col2\" >6.5770</td>\n",
       "    </tr>\n",
       "    <tr>\n",
       "      <th id=\"T_aa9b5_level0_row2\" class=\"row_heading level0 row2\" >2000-06-15 18:00:00</th>\n",
       "      <td id=\"T_aa9b5_row2_col0\" class=\"data row2 col0\" >14.2300</td>\n",
       "      <td id=\"T_aa9b5_row2_col1\" class=\"data row2 col1\" >244.1700</td>\n",
       "      <td id=\"T_aa9b5_row2_col2\" class=\"data row2 col2\" >6.9310</td>\n",
       "    </tr>\n",
       "    <tr>\n",
       "      <th id=\"T_aa9b5_level0_row3\" class=\"row_heading level0 row3\" >2000-06-15 18:30:00</th>\n",
       "      <td id=\"T_aa9b5_row3_col0\" class=\"data row3 col0\" >14.4000</td>\n",
       "      <td id=\"T_aa9b5_row3_col1\" class=\"data row3 col1\" >253.9200</td>\n",
       "      <td id=\"T_aa9b5_row3_col2\" class=\"data row3 col2\" >7.2860</td>\n",
       "    </tr>\n",
       "    <tr>\n",
       "      <th id=\"T_aa9b5_level0_row4\" class=\"row_heading level0 row4\" >2000-06-15 19:00:00</th>\n",
       "      <td id=\"T_aa9b5_row4_col0\" class=\"data row4 col0\" >14.0900</td>\n",
       "      <td id=\"T_aa9b5_row4_col1\" class=\"data row4 col1\" >177.3100</td>\n",
       "      <td id=\"T_aa9b5_row4_col2\" class=\"data row4 col2\" >7.2510</td>\n",
       "    </tr>\n",
       "    <tr>\n",
       "      <th id=\"T_aa9b5_level0_row5\" class=\"row_heading level0 row5\" >2000-06-15 19:30:00</th>\n",
       "      <td id=\"T_aa9b5_row5_col0\" class=\"data row5 col0\" >13.7100</td>\n",
       "      <td id=\"T_aa9b5_row5_col1\" class=\"data row5 col1\" >97.0700</td>\n",
       "      <td id=\"T_aa9b5_row5_col2\" class=\"data row5 col2\" >6.6830</td>\n",
       "    </tr>\n",
       "    <tr>\n",
       "      <th id=\"T_aa9b5_level0_row6\" class=\"row_heading level0 row6\" >2000-06-15 20:00:00</th>\n",
       "      <td id=\"T_aa9b5_row6_col0\" class=\"data row6 col0\" >13.0800</td>\n",
       "      <td id=\"T_aa9b5_row6_col1\" class=\"data row6 col1\" >39.7100</td>\n",
       "      <td id=\"T_aa9b5_row6_col2\" class=\"data row6 col2\" >5.8510</td>\n",
       "    </tr>\n",
       "    <tr>\n",
       "      <th id=\"T_aa9b5_level0_row7\" class=\"row_heading level0 row7\" >2000-06-15 20:30:00</th>\n",
       "      <td id=\"T_aa9b5_row7_col0\" class=\"data row7 col0\" >12.4100</td>\n",
       "      <td id=\"T_aa9b5_row7_col1\" class=\"data row7 col1\" >10.6500</td>\n",
       "      <td id=\"T_aa9b5_row7_col2\" class=\"data row7 col2\" >5.2540</td>\n",
       "    </tr>\n",
       "    <tr>\n",
       "      <th id=\"T_aa9b5_level0_row8\" class=\"row_heading level0 row8\" >2000-06-15 21:00:00</th>\n",
       "      <td id=\"T_aa9b5_row8_col0\" class=\"data row8 col0\" >12.2700</td>\n",
       "      <td id=\"T_aa9b5_row8_col1\" class=\"data row8 col1\" >0.3200</td>\n",
       "      <td id=\"T_aa9b5_row8_col2\" class=\"data row8 col2\" >5.1640</td>\n",
       "    </tr>\n",
       "    <tr>\n",
       "      <th id=\"T_aa9b5_level0_row9\" class=\"row_heading level0 row9\" >2000-06-15 21:30:00</th>\n",
       "      <td id=\"T_aa9b5_row9_col0\" class=\"data row9 col0\" >12.2000</td>\n",
       "      <td id=\"T_aa9b5_row9_col1\" class=\"data row9 col1\" >0.0000</td>\n",
       "      <td id=\"T_aa9b5_row9_col2\" class=\"data row9 col2\" >5.0370</td>\n",
       "    </tr>\n",
       "  </tbody>\n",
       "</table>\n",
       " </div><div> <p style='font-size: 1.3rem;'>mask</p> <style type=\"text/css\">\n",
       "</style>\n",
       "<table id=\"T_90c74\">\n",
       "  <thead>\n",
       "    <tr>\n",
       "      <th class=\"blank level0\" >&nbsp;</th>\n",
       "      <th id=\"T_90c74_level0_col0\" class=\"col_heading level0 col0\" >TA</th>\n",
       "      <th id=\"T_90c74_level0_col1\" class=\"col_heading level0 col1\" >SW_IN</th>\n",
       "      <th id=\"T_90c74_level0_col2\" class=\"col_heading level0 col2\" >VPD</th>\n",
       "    </tr>\n",
       "    <tr>\n",
       "      <th class=\"index_name level0\" >time</th>\n",
       "      <th class=\"blank col0\" >&nbsp;</th>\n",
       "      <th class=\"blank col1\" >&nbsp;</th>\n",
       "      <th class=\"blank col2\" >&nbsp;</th>\n",
       "    </tr>\n",
       "  </thead>\n",
       "  <tbody>\n",
       "    <tr>\n",
       "      <th id=\"T_90c74_level0_row0\" class=\"row_heading level0 row0\" >2000-06-15 17:00:00</th>\n",
       "      <td id=\"T_90c74_row0_col0\" class=\"data row0 col0\" >True</td>\n",
       "      <td id=\"T_90c74_row0_col1\" class=\"data row0 col1\" >True</td>\n",
       "      <td id=\"T_90c74_row0_col2\" class=\"data row0 col2\" >True</td>\n",
       "    </tr>\n",
       "    <tr>\n",
       "      <th id=\"T_90c74_level0_row1\" class=\"row_heading level0 row1\" >2000-06-15 17:30:00</th>\n",
       "      <td id=\"T_90c74_row1_col0\" class=\"data row1 col0\" >True</td>\n",
       "      <td id=\"T_90c74_row1_col1\" class=\"data row1 col1\" >True</td>\n",
       "      <td id=\"T_90c74_row1_col2\" class=\"data row1 col2\" >True</td>\n",
       "    </tr>\n",
       "    <tr>\n",
       "      <th id=\"T_90c74_level0_row2\" class=\"row_heading level0 row2\" >2000-06-15 18:00:00</th>\n",
       "      <td id=\"T_90c74_row2_col0\" class=\"data row2 col0\" >False</td>\n",
       "      <td id=\"T_90c74_row2_col1\" class=\"data row2 col1\" >False</td>\n",
       "      <td id=\"T_90c74_row2_col2\" class=\"data row2 col2\" >True</td>\n",
       "    </tr>\n",
       "    <tr>\n",
       "      <th id=\"T_90c74_level0_row3\" class=\"row_heading level0 row3\" >2000-06-15 18:30:00</th>\n",
       "      <td id=\"T_90c74_row3_col0\" class=\"data row3 col0\" >False</td>\n",
       "      <td id=\"T_90c74_row3_col1\" class=\"data row3 col1\" >False</td>\n",
       "      <td id=\"T_90c74_row3_col2\" class=\"data row3 col2\" >True</td>\n",
       "    </tr>\n",
       "    <tr>\n",
       "      <th id=\"T_90c74_level0_row4\" class=\"row_heading level0 row4\" >2000-06-15 19:00:00</th>\n",
       "      <td id=\"T_90c74_row4_col0\" class=\"data row4 col0\" >True</td>\n",
       "      <td id=\"T_90c74_row4_col1\" class=\"data row4 col1\" >True</td>\n",
       "      <td id=\"T_90c74_row4_col2\" class=\"data row4 col2\" >True</td>\n",
       "    </tr>\n",
       "    <tr>\n",
       "      <th id=\"T_90c74_level0_row5\" class=\"row_heading level0 row5\" >2000-06-15 19:30:00</th>\n",
       "      <td id=\"T_90c74_row5_col0\" class=\"data row5 col0\" >True</td>\n",
       "      <td id=\"T_90c74_row5_col1\" class=\"data row5 col1\" >True</td>\n",
       "      <td id=\"T_90c74_row5_col2\" class=\"data row5 col2\" >True</td>\n",
       "    </tr>\n",
       "    <tr>\n",
       "      <th id=\"T_90c74_level0_row6\" class=\"row_heading level0 row6\" >2000-06-15 20:00:00</th>\n",
       "      <td id=\"T_90c74_row6_col0\" class=\"data row6 col0\" >True</td>\n",
       "      <td id=\"T_90c74_row6_col1\" class=\"data row6 col1\" >True</td>\n",
       "      <td id=\"T_90c74_row6_col2\" class=\"data row6 col2\" >True</td>\n",
       "    </tr>\n",
       "    <tr>\n",
       "      <th id=\"T_90c74_level0_row7\" class=\"row_heading level0 row7\" >2000-06-15 20:30:00</th>\n",
       "      <td id=\"T_90c74_row7_col0\" class=\"data row7 col0\" >True</td>\n",
       "      <td id=\"T_90c74_row7_col1\" class=\"data row7 col1\" >True</td>\n",
       "      <td id=\"T_90c74_row7_col2\" class=\"data row7 col2\" >True</td>\n",
       "    </tr>\n",
       "    <tr>\n",
       "      <th id=\"T_90c74_level0_row8\" class=\"row_heading level0 row8\" >2000-06-15 21:00:00</th>\n",
       "      <td id=\"T_90c74_row8_col0\" class=\"data row8 col0\" >True</td>\n",
       "      <td id=\"T_90c74_row8_col1\" class=\"data row8 col1\" >True</td>\n",
       "      <td id=\"T_90c74_row8_col2\" class=\"data row8 col2\" >True</td>\n",
       "    </tr>\n",
       "    <tr>\n",
       "      <th id=\"T_90c74_level0_row9\" class=\"row_heading level0 row9\" >2000-06-15 21:30:00</th>\n",
       "      <td id=\"T_90c74_row9_col0\" class=\"data row9 col0\" >True</td>\n",
       "      <td id=\"T_90c74_row9_col1\" class=\"data row9 col1\" >True</td>\n",
       "      <td id=\"T_90c74_row9_col2\" class=\"data row9 col2\" >True</td>\n",
       "    </tr>\n",
       "  </tbody>\n",
       "</table>\n",
       " </div><div> <p style='font-size: 1.3rem;'>control</p> <style type=\"text/css\">\n",
       "</style>\n",
       "<table id=\"T_3e76c\">\n",
       "  <thead>\n",
       "    <tr>\n",
       "      <th class=\"blank level0\" >&nbsp;</th>\n",
       "      <th id=\"T_3e76c_level0_col0\" class=\"col_heading level0 col0\" >TA_ERA</th>\n",
       "      <th id=\"T_3e76c_level0_col1\" class=\"col_heading level0 col1\" >SW_IN_ERA</th>\n",
       "      <th id=\"T_3e76c_level0_col2\" class=\"col_heading level0 col2\" >VPD_ERA</th>\n",
       "      <th id=\"T_3e76c_level0_col3\" class=\"col_heading level0 col3\" >TA_ERA_lag_1</th>\n",
       "      <th id=\"T_3e76c_level0_col4\" class=\"col_heading level0 col4\" >SW_IN_ERA_lag_1</th>\n",
       "      <th id=\"T_3e76c_level0_col5\" class=\"col_heading level0 col5\" >VPD_ERA_lag_1</th>\n",
       "    </tr>\n",
       "    <tr>\n",
       "      <th class=\"index_name level0\" >time</th>\n",
       "      <th class=\"blank col0\" >&nbsp;</th>\n",
       "      <th class=\"blank col1\" >&nbsp;</th>\n",
       "      <th class=\"blank col2\" >&nbsp;</th>\n",
       "      <th class=\"blank col3\" >&nbsp;</th>\n",
       "      <th class=\"blank col4\" >&nbsp;</th>\n",
       "      <th class=\"blank col5\" >&nbsp;</th>\n",
       "    </tr>\n",
       "  </thead>\n",
       "  <tbody>\n",
       "    <tr>\n",
       "      <th id=\"T_3e76c_level0_row0\" class=\"row_heading level0 row0\" >2000-06-15 17:00:00</th>\n",
       "      <td id=\"T_3e76c_row0_col0\" class=\"data row0 col0\" >15.0500</td>\n",
       "      <td id=\"T_3e76c_row0_col1\" class=\"data row0 col1\" >255.1930</td>\n",
       "      <td id=\"T_3e76c_row0_col2\" class=\"data row0 col2\" >5.1020</td>\n",
       "      <td id=\"T_3e76c_row0_col3\" class=\"data row0 col3\" >15.1390</td>\n",
       "      <td id=\"T_3e76c_row0_col4\" class=\"data row0 col4\" >287.1000</td>\n",
       "      <td id=\"T_3e76c_row0_col5\" class=\"data row0 col5\" >4.9000</td>\n",
       "    </tr>\n",
       "    <tr>\n",
       "      <th id=\"T_3e76c_level0_row1\" class=\"row_heading level0 row1\" >2000-06-15 17:30:00</th>\n",
       "      <td id=\"T_3e76c_row1_col0\" class=\"data row1 col0\" >14.9610</td>\n",
       "      <td id=\"T_3e76c_row1_col1\" class=\"data row1 col1\" >221.4270</td>\n",
       "      <td id=\"T_3e76c_row1_col2\" class=\"data row1 col2\" >5.3050</td>\n",
       "      <td id=\"T_3e76c_row1_col3\" class=\"data row1 col3\" >15.0500</td>\n",
       "      <td id=\"T_3e76c_row1_col4\" class=\"data row1 col4\" >255.1930</td>\n",
       "      <td id=\"T_3e76c_row1_col5\" class=\"data row1 col5\" >5.1020</td>\n",
       "    </tr>\n",
       "    <tr>\n",
       "      <th id=\"T_3e76c_level0_row2\" class=\"row_heading level0 row2\" >2000-06-15 18:00:00</th>\n",
       "      <td id=\"T_3e76c_row2_col0\" class=\"data row2 col0\" >14.8720</td>\n",
       "      <td id=\"T_3e76c_row2_col1\" class=\"data row2 col1\" >186.3800</td>\n",
       "      <td id=\"T_3e76c_row2_col2\" class=\"data row2 col2\" >5.5070</td>\n",
       "      <td id=\"T_3e76c_row2_col3\" class=\"data row2 col3\" >14.9610</td>\n",
       "      <td id=\"T_3e76c_row2_col4\" class=\"data row2 col4\" >221.4270</td>\n",
       "      <td id=\"T_3e76c_row2_col5\" class=\"data row2 col5\" >5.3050</td>\n",
       "    </tr>\n",
       "    <tr>\n",
       "      <th id=\"T_3e76c_level0_row3\" class=\"row_heading level0 row3\" >2000-06-15 18:30:00</th>\n",
       "      <td id=\"T_3e76c_row3_col0\" class=\"data row3 col0\" >14.7830</td>\n",
       "      <td id=\"T_3e76c_row3_col1\" class=\"data row3 col1\" >150.6500</td>\n",
       "      <td id=\"T_3e76c_row3_col2\" class=\"data row3 col2\" >5.7100</td>\n",
       "      <td id=\"T_3e76c_row3_col3\" class=\"data row3 col3\" >14.8720</td>\n",
       "      <td id=\"T_3e76c_row3_col4\" class=\"data row3 col4\" >186.3800</td>\n",
       "      <td id=\"T_3e76c_row3_col5\" class=\"data row3 col5\" >5.5070</td>\n",
       "    </tr>\n",
       "    <tr>\n",
       "      <th id=\"T_3e76c_level0_row4\" class=\"row_heading level0 row4\" >2000-06-15 19:00:00</th>\n",
       "      <td id=\"T_3e76c_row4_col0\" class=\"data row4 col0\" >14.6940</td>\n",
       "      <td id=\"T_3e76c_row4_col1\" class=\"data row4 col1\" >114.8490</td>\n",
       "      <td id=\"T_3e76c_row4_col2\" class=\"data row4 col2\" >5.9120</td>\n",
       "      <td id=\"T_3e76c_row4_col3\" class=\"data row4 col3\" >14.7830</td>\n",
       "      <td id=\"T_3e76c_row4_col4\" class=\"data row4 col4\" >150.6500</td>\n",
       "      <td id=\"T_3e76c_row4_col5\" class=\"data row4 col5\" >5.7100</td>\n",
       "    </tr>\n",
       "    <tr>\n",
       "      <th id=\"T_3e76c_level0_row5\" class=\"row_heading level0 row5\" >2000-06-15 19:30:00</th>\n",
       "      <td id=\"T_3e76c_row5_col0\" class=\"data row5 col0\" >14.6060</td>\n",
       "      <td id=\"T_3e76c_row5_col1\" class=\"data row5 col1\" >34.7280</td>\n",
       "      <td id=\"T_3e76c_row5_col2\" class=\"data row5 col2\" >6.1140</td>\n",
       "      <td id=\"T_3e76c_row5_col3\" class=\"data row5 col3\" >14.6940</td>\n",
       "      <td id=\"T_3e76c_row5_col4\" class=\"data row5 col4\" >114.8490</td>\n",
       "      <td id=\"T_3e76c_row5_col5\" class=\"data row5 col5\" >5.9120</td>\n",
       "    </tr>\n",
       "    <tr>\n",
       "      <th id=\"T_3e76c_level0_row6\" class=\"row_heading level0 row6\" >2000-06-15 20:00:00</th>\n",
       "      <td id=\"T_3e76c_row6_col0\" class=\"data row6 col0\" >14.3800</td>\n",
       "      <td id=\"T_3e76c_row6_col1\" class=\"data row6 col1\" >19.8430</td>\n",
       "      <td id=\"T_3e76c_row6_col2\" class=\"data row6 col2\" >6.0740</td>\n",
       "      <td id=\"T_3e76c_row6_col3\" class=\"data row6 col3\" >14.6060</td>\n",
       "      <td id=\"T_3e76c_row6_col4\" class=\"data row6 col4\" >34.7280</td>\n",
       "      <td id=\"T_3e76c_row6_col5\" class=\"data row6 col5\" >6.1140</td>\n",
       "    </tr>\n",
       "    <tr>\n",
       "      <th id=\"T_3e76c_level0_row7\" class=\"row_heading level0 row7\" >2000-06-15 20:30:00</th>\n",
       "      <td id=\"T_3e76c_row7_col0\" class=\"data row7 col0\" >14.1550</td>\n",
       "      <td id=\"T_3e76c_row7_col1\" class=\"data row7 col1\" >5.7120</td>\n",
       "      <td id=\"T_3e76c_row7_col2\" class=\"data row7 col2\" >6.0340</td>\n",
       "      <td id=\"T_3e76c_row7_col3\" class=\"data row7 col3\" >14.3800</td>\n",
       "      <td id=\"T_3e76c_row7_col4\" class=\"data row7 col4\" >19.8430</td>\n",
       "      <td id=\"T_3e76c_row7_col5\" class=\"data row7 col5\" >6.0740</td>\n",
       "    </tr>\n",
       "    <tr>\n",
       "      <th id=\"T_3e76c_level0_row8\" class=\"row_heading level0 row8\" >2000-06-15 21:00:00</th>\n",
       "      <td id=\"T_3e76c_row8_col0\" class=\"data row8 col0\" >13.9290</td>\n",
       "      <td id=\"T_3e76c_row8_col1\" class=\"data row8 col1\" >0.0000</td>\n",
       "      <td id=\"T_3e76c_row8_col2\" class=\"data row8 col2\" >5.9940</td>\n",
       "      <td id=\"T_3e76c_row8_col3\" class=\"data row8 col3\" >14.1550</td>\n",
       "      <td id=\"T_3e76c_row8_col4\" class=\"data row8 col4\" >5.7120</td>\n",
       "      <td id=\"T_3e76c_row8_col5\" class=\"data row8 col5\" >6.0340</td>\n",
       "    </tr>\n",
       "    <tr>\n",
       "      <th id=\"T_3e76c_level0_row9\" class=\"row_heading level0 row9\" >2000-06-15 21:30:00</th>\n",
       "      <td id=\"T_3e76c_row9_col0\" class=\"data row9 col0\" >13.7040</td>\n",
       "      <td id=\"T_3e76c_row9_col1\" class=\"data row9 col1\" >0.0000</td>\n",
       "      <td id=\"T_3e76c_row9_col2\" class=\"data row9 col2\" >5.9540</td>\n",
       "      <td id=\"T_3e76c_row9_col3\" class=\"data row9 col3\" >13.9290</td>\n",
       "      <td id=\"T_3e76c_row9_col4\" class=\"data row9 col4\" >0.0000</td>\n",
       "      <td id=\"T_3e76c_row9_col5\" class=\"data row9 col5\" >5.9940</td>\n",
       "    </tr>\n",
       "  </tbody>\n",
       "</table>\n",
       " </div></div>"
      ],
      "text/plain": [
       "__main__.MeteoImpDf(data=                        TA       SW_IN    VPD\n",
       "time                                         \n",
       "2000-06-15 17:00:00  14.22  224.800003  5.799\n",
       "2000-06-15 17:30:00  14.11  195.279999  6.577\n",
       "2000-06-15 18:00:00  14.23  244.169998  6.931\n",
       "2000-06-15 18:30:00  14.40  253.919998  7.286\n",
       "2000-06-15 19:00:00  14.09  177.309998  7.251\n",
       "2000-06-15 19:30:00  13.71   97.070000  6.683\n",
       "2000-06-15 20:00:00  13.08   39.709999  5.851\n",
       "2000-06-15 20:30:00  12.41   10.650000  5.254\n",
       "2000-06-15 21:00:00  12.27    0.320000  5.164\n",
       "2000-06-15 21:30:00  12.20    0.000000  5.037, mask=                        TA  SW_IN   VPD\n",
       "time                                   \n",
       "2000-06-15 17:00:00   True   True  True\n",
       "2000-06-15 17:30:00   True   True  True\n",
       "2000-06-15 18:00:00  False  False  True\n",
       "2000-06-15 18:30:00  False  False  True\n",
       "2000-06-15 19:00:00   True   True  True\n",
       "2000-06-15 19:30:00   True   True  True\n",
       "2000-06-15 20:00:00   True   True  True\n",
       "2000-06-15 20:30:00   True   True  True\n",
       "2000-06-15 21:00:00   True   True  True\n",
       "2000-06-15 21:30:00   True   True  True, control=                     TA_ERA   SW_IN_ERA  VPD_ERA  TA_ERA_lag_1  \\\n",
       "time                                                             \n",
       "2000-06-15 17:00:00  15.050  255.192993    5.102        15.139   \n",
       "2000-06-15 17:30:00  14.961  221.427002    5.305        15.050   \n",
       "2000-06-15 18:00:00  14.872  186.380005    5.507        14.961   \n",
       "2000-06-15 18:30:00  14.783  150.649994    5.710        14.872   \n",
       "2000-06-15 19:00:00  14.694  114.848999    5.912        14.783   \n",
       "2000-06-15 19:30:00  14.606   34.728001    6.114        14.694   \n",
       "2000-06-15 20:00:00  14.380   19.843000    6.074        14.606   \n",
       "2000-06-15 20:30:00  14.155    5.712000    6.034        14.380   \n",
       "2000-06-15 21:00:00  13.929    0.000000    5.994        14.155   \n",
       "2000-06-15 21:30:00  13.704    0.000000    5.954        13.929   \n",
       "\n",
       "                     SW_IN_ERA_lag_1  VPD_ERA_lag_1  \n",
       "time                                                 \n",
       "2000-06-15 17:00:00       287.100006          4.900  \n",
       "2000-06-15 17:30:00       255.192993          5.102  \n",
       "2000-06-15 18:00:00       221.427002          5.305  \n",
       "2000-06-15 18:30:00       186.380005          5.507  \n",
       "2000-06-15 19:00:00       150.649994          5.710  \n",
       "2000-06-15 19:30:00       114.848999          5.912  \n",
       "2000-06-15 20:00:00        34.728001          6.114  \n",
       "2000-06-15 20:30:00        19.843000          6.074  \n",
       "2000-06-15 21:00:00         5.712000          6.034  \n",
       "2000-06-15 21:30:00         0.000000          5.994  )"
      ]
     },
     "execution_count": null,
     "metadata": {},
     "output_type": "execute_result"
    }
   ],
   "source": [
    "tfms2[0]"
   ]
  },
  {
   "cell_type": "code",
   "execution_count": null,
   "id": "f2990cbe-babc-4f62-9b6f-2807edfa05b2",
   "metadata": {},
   "outputs": [],
   "source": [
    "tfms3 = TfmdLists(tfms1.items, [*tfms2.fs, MeteoImpDf2Tensor()])"
   ]
  },
  {
   "cell_type": "code",
   "execution_count": null,
   "id": "755add1e-55d4-4408-8db2-ab28d804edd2",
   "metadata": {},
   "outputs": [
    {
     "data": {
      "text/html": [
       "<div style=\"display: flex; column-gap: 20px; flex-wrap: wrap;\" class='table table-striped table-sm'> <div><p style='font-size: 1.2rem;'>data</p> <pre>tensor([[ 14.2200, 224.8000,   5.7990],\n",
       "        [ 14.1100, 195.2800,   6.5770],\n",
       "        [ 14.2300, 244.1700,   6.9310],\n",
       "        [ 14.4000, 253.9200,   7.2860],\n",
       "        [ 14.0900, 177.3100,   7.2510],\n",
       "        [ 13.7100,  97.0700,   6.6830],\n",
       "        [ 13.0800,  39.7100,   5.8510],\n",
       "        [ 12.4100,  10.6500,   5.2540],\n",
       "        [ 12.2700,   0.3200,   5.1640],\n",
       "        [ 12.2000,   0.0000,   5.0370]])</pre> </div><div><p style='font-size: 1.2rem;'>mask</p> <pre>tensor([[ True,  True,  True],\n",
       "        [ True,  True,  True],\n",
       "        [False, False,  True],\n",
       "        [False, False,  True],\n",
       "        [ True,  True,  True],\n",
       "        [ True,  True,  True],\n",
       "        [ True,  True,  True],\n",
       "        [ True,  True,  True],\n",
       "        [ True,  True,  True],\n",
       "        [ True,  True,  True]])</pre> </div><div><p style='font-size: 1.2rem;'>control</p> <pre>tensor([[ 15.0500, 255.1930,   5.1020,  15.1390, 287.1000,   4.9000],\n",
       "        [ 14.9610, 221.4270,   5.3050,  15.0500, 255.1930,   5.1020],\n",
       "        [ 14.8720, 186.3800,   5.5070,  14.9610, 221.4270,   5.3050],\n",
       "        [ 14.7830, 150.6500,   5.7100,  14.8720, 186.3800,   5.5070],\n",
       "        [ 14.6940, 114.8490,   5.9120,  14.7830, 150.6500,   5.7100],\n",
       "        [ 14.6060,  34.7280,   6.1140,  14.6940, 114.8490,   5.9120],\n",
       "        [ 14.3800,  19.8430,   6.0740,  14.6060,  34.7280,   6.1140],\n",
       "        [ 14.1550,   5.7120,   6.0340,  14.3800,  19.8430,   6.0740],\n",
       "        [ 13.9290,   0.0000,   5.9940,  14.1550,   5.7120,   6.0340],\n",
       "        [ 13.7040,   0.0000,   5.9540,  13.9290,   0.0000,   5.9940]])</pre> </div></div>"
      ],
      "text/plain": [
       "__main__.MeteoImpTensor(data=tensor([[ 14.2200, 224.8000,   5.7990],\n",
       "        [ 14.1100, 195.2800,   6.5770],\n",
       "        [ 14.2300, 244.1700,   6.9310],\n",
       "        [ 14.4000, 253.9200,   7.2860],\n",
       "        [ 14.0900, 177.3100,   7.2510],\n",
       "        [ 13.7100,  97.0700,   6.6830],\n",
       "        [ 13.0800,  39.7100,   5.8510],\n",
       "        [ 12.4100,  10.6500,   5.2540],\n",
       "        [ 12.2700,   0.3200,   5.1640],\n",
       "        [ 12.2000,   0.0000,   5.0370]]), mask=tensor([[ True,  True,  True],\n",
       "        [ True,  True,  True],\n",
       "        [False, False,  True],\n",
       "        [False, False,  True],\n",
       "        [ True,  True,  True],\n",
       "        [ True,  True,  True],\n",
       "        [ True,  True,  True],\n",
       "        [ True,  True,  True],\n",
       "        [ True,  True,  True],\n",
       "        [ True,  True,  True]]), control=tensor([[ 15.0500, 255.1930,   5.1020,  15.1390, 287.1000,   4.9000],\n",
       "        [ 14.9610, 221.4270,   5.3050,  15.0500, 255.1930,   5.1020],\n",
       "        [ 14.8720, 186.3800,   5.5070,  14.9610, 221.4270,   5.3050],\n",
       "        [ 14.7830, 150.6500,   5.7100,  14.8720, 186.3800,   5.5070],\n",
       "        [ 14.6940, 114.8490,   5.9120,  14.7830, 150.6500,   5.7100],\n",
       "        [ 14.6060,  34.7280,   6.1140,  14.6940, 114.8490,   5.9120],\n",
       "        [ 14.3800,  19.8430,   6.0740,  14.6060,  34.7280,   6.1140],\n",
       "        [ 14.1550,   5.7120,   6.0340,  14.3800,  19.8430,   6.0740],\n",
       "        [ 13.9290,   0.0000,   5.9940,  14.1550,   5.7120,   6.0340],\n",
       "        [ 13.7040,   0.0000,   5.9540,  13.9290,   0.0000,   5.9940]]))"
      ]
     },
     "execution_count": null,
     "metadata": {},
     "output_type": "execute_result"
    }
   ],
   "source": [
    "tfms3[0]"
   ]
  },
  {
   "cell_type": "code",
   "execution_count": null,
   "id": "324520e5-5979-4b7e-b52f-97e86788c187",
   "metadata": {},
   "outputs": [
    {
     "data": {
      "text/plain": [
       "__main__.MeteoImpTensor"
      ]
     },
     "execution_count": null,
     "metadata": {},
     "output_type": "execute_result"
    }
   ],
   "source": [
    "type(tfms3[0])"
   ]
  },
  {
   "cell_type": "code",
   "execution_count": null,
   "id": "56477320-5c88-48c8-90a8-ceda644dffb9",
   "metadata": {},
   "outputs": [],
   "source": [
    "# tfms3.decode(tfms3[0])"
   ]
  },
  {
   "cell_type": "markdown",
   "id": "87e120fa-cf84-4e32-8c99-9af24a2755b1",
   "metadata": {},
   "source": [
    "### 5) Normalize"
   ]
  },
  {
   "cell_type": "code",
   "execution_count": null,
   "id": "3ba23250-9b69-43c2-b2f6-db4ef5658e6a",
   "metadata": {},
   "outputs": [],
   "source": [
    "#| export\n",
    "from meteo_imp.utils import *\n",
    "from fastai.torch_core import to_cpu\n",
    "\n",
    "from torch import Tensor"
   ]
  },
  {
   "cell_type": "code",
   "execution_count": null,
   "id": "da858473-9de5-4abf-8a32-eb24bfb6b054",
   "metadata": {},
   "outputs": [
    {
     "data": {
      "text/plain": [
       "<function collections.namedtuple(typename, field_names, *, rename=False, defaults=None, module=None)>"
      ]
     },
     "execution_count": null,
     "metadata": {},
     "output_type": "execute_result"
    }
   ],
   "source": [
    "collections.namedtuple"
   ]
  },
  {
   "cell_type": "code",
   "execution_count": null,
   "id": "0505fab1-5a53-4879-9d0d-7cc918bd5bdf",
   "metadata": {},
   "outputs": [],
   "source": [
    "nt = collections.namedtuple(\"nt\", \"a\")"
   ]
  },
  {
   "cell_type": "code",
   "execution_count": null,
   "id": "6ad97a8b-4da1-4c88-9b49-8ca0f3ce4a13",
   "metadata": {},
   "outputs": [
    {
     "data": {
      "text/plain": [
       "True"
      ]
     },
     "execution_count": null,
     "metadata": {},
     "output_type": "execute_result"
    }
   ],
   "source": [
    "isinstance(nt(1), tuple)"
   ]
  },
  {
   "cell_type": "code",
   "execution_count": null,
   "id": "f1ac4c68-5abf-41c0-b754-889ad3af0999",
   "metadata": {},
   "outputs": [],
   "source": [
    "#| export\n",
    "class NormalsParams(list):\n",
    "    def __init__(self,*args):\n",
    "        if len(args)==2:\n",
    "            self.mean = args[0]\n",
    "            self.std = args[1]\n",
    "        elif isinstance(args[0], Generator):\n",
    "            args = list(args[0])\n",
    "            self.mean = args[0]\n",
    "            self.std = args[1]\n",
    "        elif len(args)==1 and len(args[0])==2:\n",
    "            self.mean = tuple(args[0])[0]\n",
    "            self.std = tuple(args[0])[1]                     \n",
    "        else:\n",
    "            raise ValueError(f\"Incorrect number of arguments. got {len(args)} args\")\n",
    "    def __iter__(self): return iter((self.mean, self.std,))\n",
    "    def __next__(self): return next(self.__iter__())\n",
    "    def __len__(self): return 2\n",
    "    def __getitem__(self, key):\n",
    "        if key == 0: return self.mean\n",
    "        elif key == 1: return self.std\n",
    "        else: raise IndexError(\"index bigger than 2\")\n",
    "    __repr__ = basic_repr('mean, std')"
   ]
  },
  {
   "cell_type": "code",
   "execution_count": null,
   "id": "bd093319-c16b-494c-9431-1c7d5d8869a8",
   "metadata": {},
   "outputs": [
    {
     "data": {
      "text/plain": [
       "__main__.NormalsParams(mean=0, std=1)"
      ]
     },
     "execution_count": null,
     "metadata": {},
     "output_type": "execute_result"
    }
   ],
   "source": [
    "NormalsParams(0,1)"
   ]
  },
  {
   "cell_type": "code",
   "execution_count": null,
   "id": "e75c7ecf-2785-49fc-b1ff-fe98c4e03843",
   "metadata": {},
   "outputs": [],
   "source": [
    "#| export\n",
    "def get_stats(df, repeat=1, device='cpu'):\n",
    "    return torch.tensor(df.mean(axis=0).to_numpy(), device=device).repeat(repeat), torch.tensor(df.std(axis=0).to_numpy(), device=device).repeat(repeat)"
   ]
  },
  {
   "cell_type": "code",
   "execution_count": null,
   "id": "975601aa-1325-4ece-989c-0eb60a9d8d85",
   "metadata": {},
   "outputs": [],
   "source": [
    "#| export\n",
    "class MeteoImpNormalize(Transform):\n",
    "    \"Normalize/denorm MeteoImpTensor column-wise \"\n",
    "    @property\n",
    "    def name(self): return f\"{super().name} -- {getattr(self,'__stored_args__',{})}\"\n",
    "\n",
    "    def __init__(self, mean_data, std_data, mean_control, std_control): store_attr()\n",
    "\n",
    "    def encodes(self, x:MeteoImpTensor)-> MeteoImpTensor:\n",
    "        return MeteoImpTensor((x.data -self.mean_data) / self.std_data, x.mask, (x.control - self.mean_control)/self.std_control)\n",
    "\n",
    "    def decodes(self, x:MeteoImpTensor)->MeteoImpTensor:\n",
    "        f = partial(to_device, device=(x[0].device))\n",
    "        return MeteoImpTensor(x.data * f(self.std_data) + f(self.mean_data), x.mask, x.control * f(self.std_control) + f(self.mean_control))\n",
    "    \n",
    "    def decodes(self, x:NormalsParams):\n",
    "        f = partial(to_device, device=(x[0].device))\n",
    "        mean = x.mean * f(self.std_data) + f(self.mean_data)\n",
    "        std = x.std * f(self.std_data)\n",
    "        \n",
    "        return NormalsParams(mean, std)"
   ]
  },
  {
   "cell_type": "code",
   "execution_count": null,
   "id": "81c896b6-86c0-407b-8f4b-da4bdc366c27",
   "metadata": {},
   "outputs": [],
   "source": [
    "norm = MeteoImpNormalize(*get_stats(hai), *get_stats(hai_era,2))"
   ]
  },
  {
   "cell_type": "code",
   "execution_count": null,
   "id": "7e8c0fab-da94-400f-8486-0253b05a6a96",
   "metadata": {},
   "outputs": [
    {
     "data": {
      "text/html": [
       "<div style=\"display: flex; column-gap: 20px; flex-wrap: wrap;\" class='table table-striped table-sm'> <div><p style='font-size: 1.2rem;'>data</p> <pre>tensor([[ 14.2200, 224.8000,   5.7990],\n",
       "        [ 14.1100, 195.2800,   6.5770],\n",
       "        [ 14.2300, 244.1700,   6.9310],\n",
       "        [ 14.4000, 253.9200,   7.2860],\n",
       "        [ 14.0900, 177.3100,   7.2510],\n",
       "        [ 13.7100,  97.0700,   6.6830],\n",
       "        [ 13.0800,  39.7100,   5.8510],\n",
       "        [ 12.4100,  10.6500,   5.2540],\n",
       "        [ 12.2700,   0.3200,   5.1640],\n",
       "        [ 12.2000,   0.0000,   5.0370]])</pre> </div><div><p style='font-size: 1.2rem;'>mask</p> <pre>tensor([[ True,  True,  True],\n",
       "        [ True,  True,  True],\n",
       "        [False, False,  True],\n",
       "        [False, False,  True],\n",
       "        [ True,  True,  True],\n",
       "        [ True,  True,  True],\n",
       "        [ True,  True,  True],\n",
       "        [ True,  True,  True],\n",
       "        [ True,  True,  True],\n",
       "        [ True,  True,  True]])</pre> </div><div><p style='font-size: 1.2rem;'>control</p> <pre>tensor([[ 15.0500, 255.1930,   5.1020,  15.1390, 287.1000,   4.9000],\n",
       "        [ 14.9610, 221.4270,   5.3050,  15.0500, 255.1930,   5.1020],\n",
       "        [ 14.8720, 186.3800,   5.5070,  14.9610, 221.4270,   5.3050],\n",
       "        [ 14.7830, 150.6500,   5.7100,  14.8720, 186.3800,   5.5070],\n",
       "        [ 14.6940, 114.8490,   5.9120,  14.7830, 150.6500,   5.7100],\n",
       "        [ 14.6060,  34.7280,   6.1140,  14.6940, 114.8490,   5.9120],\n",
       "        [ 14.3800,  19.8430,   6.0740,  14.6060,  34.7280,   6.1140],\n",
       "        [ 14.1550,   5.7120,   6.0340,  14.3800,  19.8430,   6.0740],\n",
       "        [ 13.9290,   0.0000,   5.9940,  14.1550,   5.7120,   6.0340],\n",
       "        [ 13.7040,   0.0000,   5.9540,  13.9290,   0.0000,   5.9940]])</pre> </div></div>"
      ],
      "text/plain": [
       "__main__.MeteoImpTensor(data=tensor([[ 14.2200, 224.8000,   5.7990],\n",
       "        [ 14.1100, 195.2800,   6.5770],\n",
       "        [ 14.2300, 244.1700,   6.9310],\n",
       "        [ 14.4000, 253.9200,   7.2860],\n",
       "        [ 14.0900, 177.3100,   7.2510],\n",
       "        [ 13.7100,  97.0700,   6.6830],\n",
       "        [ 13.0800,  39.7100,   5.8510],\n",
       "        [ 12.4100,  10.6500,   5.2540],\n",
       "        [ 12.2700,   0.3200,   5.1640],\n",
       "        [ 12.2000,   0.0000,   5.0370]]), mask=tensor([[ True,  True,  True],\n",
       "        [ True,  True,  True],\n",
       "        [False, False,  True],\n",
       "        [False, False,  True],\n",
       "        [ True,  True,  True],\n",
       "        [ True,  True,  True],\n",
       "        [ True,  True,  True],\n",
       "        [ True,  True,  True],\n",
       "        [ True,  True,  True],\n",
       "        [ True,  True,  True]]), control=tensor([[ 15.0500, 255.1930,   5.1020,  15.1390, 287.1000,   4.9000],\n",
       "        [ 14.9610, 221.4270,   5.3050,  15.0500, 255.1930,   5.1020],\n",
       "        [ 14.8720, 186.3800,   5.5070,  14.9610, 221.4270,   5.3050],\n",
       "        [ 14.7830, 150.6500,   5.7100,  14.8720, 186.3800,   5.5070],\n",
       "        [ 14.6940, 114.8490,   5.9120,  14.7830, 150.6500,   5.7100],\n",
       "        [ 14.6060,  34.7280,   6.1140,  14.6940, 114.8490,   5.9120],\n",
       "        [ 14.3800,  19.8430,   6.0740,  14.6060,  34.7280,   6.1140],\n",
       "        [ 14.1550,   5.7120,   6.0340,  14.3800,  19.8430,   6.0740],\n",
       "        [ 13.9290,   0.0000,   5.9940,  14.1550,   5.7120,   6.0340],\n",
       "        [ 13.7040,   0.0000,   5.9540,  13.9290,   0.0000,   5.9940]]))"
      ]
     },
     "execution_count": null,
     "metadata": {},
     "output_type": "execute_result"
    }
   ],
   "source": [
    "tfms3[0]"
   ]
  },
  {
   "cell_type": "code",
   "execution_count": null,
   "id": "ac2ff9bb-9a90-468e-a079-27e383eb5e0a",
   "metadata": {},
   "outputs": [
    {
     "data": {
      "text/html": [
       "<div>\n",
       "  <p>\n",
       "    <strong>MeteoImpNormalize -- {'mean_data': tensor([  8.3339, 120.9578,   3.3807]), 'std_data': tensor([  7.9246, 204.0026,   4.3684]), 'mean_control': tensor([  8.1948, 120.6864,   3.3253,   8.1948, 120.6864,   3.3253]), 'std_control': tensor([  7.5459, 187.1730,   3.6871,   7.5459, 187.1730,   3.6871])}</strong>\n",
       "  </p>\n",
       "  <p>(MeteoImpTensor,object) -&gt; encodes\n",
       "</p>\n",
       "  <p>(MeteoImpTensor,object) -&gt; decodes\n",
       "(NormalsParams,object) -&gt; decodes\n",
       "</p>\n",
       "</div>"
      ],
      "text/plain": [
       "MeteoImpNormalize -- {'mean_data': tensor([  8.3339, 120.9578,   3.3807]), 'std_data': tensor([  7.9246, 204.0026,   4.3684]), 'mean_control': tensor([  8.1948, 120.6864,   3.3253,   8.1948, 120.6864,   3.3253]), 'std_control': tensor([  7.5459, 187.1730,   3.6871,   7.5459, 187.1730,   3.6871])}:\n",
       "encodes: (MeteoImpTensor,object) -> encodes\n",
       "decodes: (MeteoImpTensor,object) -> decodes\n",
       "(NormalsParams,object) -> decodes"
      ]
     },
     "execution_count": null,
     "metadata": {},
     "output_type": "execute_result"
    }
   ],
   "source": [
    "norm"
   ]
  },
  {
   "cell_type": "code",
   "execution_count": null,
   "id": "fb5acd9c-2c5c-4ff0-beaf-3cdf0bc15bcd",
   "metadata": {},
   "outputs": [
    {
     "data": {
      "text/html": [
       "<div style=\"display: flex; column-gap: 20px; flex-wrap: wrap;\" class='table table-striped table-sm'> <div><p style='font-size: 1.2rem;'>data</p> <pre>tensor([[ 0.7428,  0.5090,  0.5536],\n",
       "        [ 0.7289,  0.3643,  0.7317],\n",
       "        [ 0.7440,  0.6040,  0.8127],\n",
       "        [ 0.7655,  0.6518,  0.8940],\n",
       "        [ 0.7264,  0.2762,  0.8860],\n",
       "        [ 0.6784, -0.1171,  0.7560],\n",
       "        [ 0.5989, -0.3983,  0.5655],\n",
       "        [ 0.5144, -0.5407,  0.4288],\n",
       "        [ 0.4967, -0.5914,  0.4082],\n",
       "        [ 0.4879, -0.5929,  0.3792]])</pre> </div><div><p style='font-size: 1.2rem;'>mask</p> <pre>tensor([[ True,  True,  True],\n",
       "        [ True,  True,  True],\n",
       "        [False, False,  True],\n",
       "        [False, False,  True],\n",
       "        [ True,  True,  True],\n",
       "        [ True,  True,  True],\n",
       "        [ True,  True,  True],\n",
       "        [ True,  True,  True],\n",
       "        [ True,  True,  True],\n",
       "        [ True,  True,  True]])</pre> </div><div><p style='font-size: 1.2rem;'>control</p> <pre>tensor([[ 0.9085,  0.7186,  0.4819,  0.9203,  0.8891,  0.4271],\n",
       "        [ 0.8967,  0.5382,  0.5369,  0.9085,  0.7186,  0.4819],\n",
       "        [ 0.8849,  0.3510,  0.5917,  0.8967,  0.5382,  0.5369],\n",
       "        [ 0.8731,  0.1601,  0.6468,  0.8849,  0.3510,  0.5917],\n",
       "        [ 0.8613, -0.0312,  0.7015,  0.8731,  0.1601,  0.6468],\n",
       "        [ 0.8496, -0.4592,  0.7563,  0.8613, -0.0312,  0.7015],\n",
       "        [ 0.8197, -0.5388,  0.7455,  0.8496, -0.4592,  0.7563],\n",
       "        [ 0.7899, -0.6143,  0.7346,  0.8197, -0.5388,  0.7455],\n",
       "        [ 0.7599, -0.6448,  0.7238,  0.7899, -0.6143,  0.7346],\n",
       "        [ 0.7301, -0.6448,  0.7129,  0.7599, -0.6448,  0.7238]])</pre> </div></div>"
      ],
      "text/plain": [
       "__main__.MeteoImpTensor(data=tensor([[ 0.7428,  0.5090,  0.5536],\n",
       "        [ 0.7289,  0.3643,  0.7317],\n",
       "        [ 0.7440,  0.6040,  0.8127],\n",
       "        [ 0.7655,  0.6518,  0.8940],\n",
       "        [ 0.7264,  0.2762,  0.8860],\n",
       "        [ 0.6784, -0.1171,  0.7560],\n",
       "        [ 0.5989, -0.3983,  0.5655],\n",
       "        [ 0.5144, -0.5407,  0.4288],\n",
       "        [ 0.4967, -0.5914,  0.4082],\n",
       "        [ 0.4879, -0.5929,  0.3792]]), mask=tensor([[ True,  True,  True],\n",
       "        [ True,  True,  True],\n",
       "        [False, False,  True],\n",
       "        [False, False,  True],\n",
       "        [ True,  True,  True],\n",
       "        [ True,  True,  True],\n",
       "        [ True,  True,  True],\n",
       "        [ True,  True,  True],\n",
       "        [ True,  True,  True],\n",
       "        [ True,  True,  True]]), control=tensor([[ 0.9085,  0.7186,  0.4819,  0.9203,  0.8891,  0.4271],\n",
       "        [ 0.8967,  0.5382,  0.5369,  0.9085,  0.7186,  0.4819],\n",
       "        [ 0.8849,  0.3510,  0.5917,  0.8967,  0.5382,  0.5369],\n",
       "        [ 0.8731,  0.1601,  0.6468,  0.8849,  0.3510,  0.5917],\n",
       "        [ 0.8613, -0.0312,  0.7015,  0.8731,  0.1601,  0.6468],\n",
       "        [ 0.8496, -0.4592,  0.7563,  0.8613, -0.0312,  0.7015],\n",
       "        [ 0.8197, -0.5388,  0.7455,  0.8496, -0.4592,  0.7563],\n",
       "        [ 0.7899, -0.6143,  0.7346,  0.8197, -0.5388,  0.7455],\n",
       "        [ 0.7599, -0.6448,  0.7238,  0.7899, -0.6143,  0.7346],\n",
       "        [ 0.7301, -0.6448,  0.7129,  0.7599, -0.6448,  0.7238]]))"
      ]
     },
     "execution_count": null,
     "metadata": {},
     "output_type": "execute_result"
    }
   ],
   "source": [
    "norm(tfms3[0])"
   ]
  },
  {
   "cell_type": "code",
   "execution_count": null,
   "id": "bd4747c3-be04-483d-b9e4-730ec7912543",
   "metadata": {},
   "outputs": [],
   "source": [
    "test_close(norm.decode(norm(tfms3[0]))[0], tfms3[0][0], eps=2e-5)"
   ]
  },
  {
   "cell_type": "markdown",
   "id": "9c6f8385-7a2d-46b7-9f8b-a25f8833febf",
   "metadata": {},
   "source": [
    "Test that NormalsParams decode actually works"
   ]
  },
  {
   "cell_type": "code",
   "execution_count": null,
   "id": "cb935fb9-c3bb-456e-bcf4-12ad6f8f5933",
   "metadata": {},
   "outputs": [],
   "source": [
    "Npars = NormalsParams(torch.tensor(1), torch.tensor(.1))"
   ]
  },
  {
   "cell_type": "code",
   "execution_count": null,
   "id": "1b6737ba-596e-47cf-9f79-0c5a83ce6fe8",
   "metadata": {},
   "outputs": [
    {
     "data": {
      "text/plain": [
       "__main__.NormalsParams(mean=tensor([ 16.2585, 324.9604,   7.7491]), std=tensor([ 0.7925, 20.4003,  0.4368]))"
      ]
     },
     "execution_count": null,
     "metadata": {},
     "output_type": "execute_result"
    }
   ],
   "source": [
    "norm.decode(Npars)"
   ]
  },
  {
   "cell_type": "code",
   "execution_count": null,
   "id": "3ba86749-5fe4-49b6-8ca2-48c225d4cfcd",
   "metadata": {},
   "outputs": [],
   "source": [
    "tfms4 = TfmdLists(tfms3.items, [*tfms3.fs,MeteoImpNormalize(*get_stats(hai),*get_stats(hai_era, 2) ) ])"
   ]
  },
  {
   "cell_type": "code",
   "execution_count": null,
   "id": "7ecb095d-5e4b-48c6-ad85-93396b8f42af",
   "metadata": {},
   "outputs": [
    {
     "data": {
      "text/html": [
       "<div style=\"display: flex; column-gap: 20px; flex-wrap: wrap;\" class='table table-striped table-sm'> <div><p style='font-size: 1.2rem;'>data</p> <pre>tensor([[ 0.7428,  0.5090,  0.5536],\n",
       "        [ 0.7289,  0.3643,  0.7317],\n",
       "        [ 0.7440,  0.6040,  0.8127],\n",
       "        [ 0.7655,  0.6518,  0.8940],\n",
       "        [ 0.7264,  0.2762,  0.8860],\n",
       "        [ 0.6784, -0.1171,  0.7560],\n",
       "        [ 0.5989, -0.3983,  0.5655],\n",
       "        [ 0.5144, -0.5407,  0.4288],\n",
       "        [ 0.4967, -0.5914,  0.4082],\n",
       "        [ 0.4879, -0.5929,  0.3792]])</pre> </div><div><p style='font-size: 1.2rem;'>mask</p> <pre>tensor([[ True,  True,  True],\n",
       "        [ True,  True,  True],\n",
       "        [False, False,  True],\n",
       "        [False, False,  True],\n",
       "        [ True,  True,  True],\n",
       "        [ True,  True,  True],\n",
       "        [ True,  True,  True],\n",
       "        [ True,  True,  True],\n",
       "        [ True,  True,  True],\n",
       "        [ True,  True,  True]])</pre> </div><div><p style='font-size: 1.2rem;'>control</p> <pre>tensor([[ 0.9085,  0.7186,  0.4819,  0.9203,  0.8891,  0.4271],\n",
       "        [ 0.8967,  0.5382,  0.5369,  0.9085,  0.7186,  0.4819],\n",
       "        [ 0.8849,  0.3510,  0.5917,  0.8967,  0.5382,  0.5369],\n",
       "        [ 0.8731,  0.1601,  0.6468,  0.8849,  0.3510,  0.5917],\n",
       "        [ 0.8613, -0.0312,  0.7015,  0.8731,  0.1601,  0.6468],\n",
       "        [ 0.8496, -0.4592,  0.7563,  0.8613, -0.0312,  0.7015],\n",
       "        [ 0.8197, -0.5388,  0.7455,  0.8496, -0.4592,  0.7563],\n",
       "        [ 0.7899, -0.6143,  0.7346,  0.8197, -0.5388,  0.7455],\n",
       "        [ 0.7599, -0.6448,  0.7238,  0.7899, -0.6143,  0.7346],\n",
       "        [ 0.7301, -0.6448,  0.7129,  0.7599, -0.6448,  0.7238]])</pre> </div></div>"
      ],
      "text/plain": [
       "__main__.MeteoImpTensor(data=tensor([[ 0.7428,  0.5090,  0.5536],\n",
       "        [ 0.7289,  0.3643,  0.7317],\n",
       "        [ 0.7440,  0.6040,  0.8127],\n",
       "        [ 0.7655,  0.6518,  0.8940],\n",
       "        [ 0.7264,  0.2762,  0.8860],\n",
       "        [ 0.6784, -0.1171,  0.7560],\n",
       "        [ 0.5989, -0.3983,  0.5655],\n",
       "        [ 0.5144, -0.5407,  0.4288],\n",
       "        [ 0.4967, -0.5914,  0.4082],\n",
       "        [ 0.4879, -0.5929,  0.3792]]), mask=tensor([[ True,  True,  True],\n",
       "        [ True,  True,  True],\n",
       "        [False, False,  True],\n",
       "        [False, False,  True],\n",
       "        [ True,  True,  True],\n",
       "        [ True,  True,  True],\n",
       "        [ True,  True,  True],\n",
       "        [ True,  True,  True],\n",
       "        [ True,  True,  True],\n",
       "        [ True,  True,  True]]), control=tensor([[ 0.9085,  0.7186,  0.4819,  0.9203,  0.8891,  0.4271],\n",
       "        [ 0.8967,  0.5382,  0.5369,  0.9085,  0.7186,  0.4819],\n",
       "        [ 0.8849,  0.3510,  0.5917,  0.8967,  0.5382,  0.5369],\n",
       "        [ 0.8731,  0.1601,  0.6468,  0.8849,  0.3510,  0.5917],\n",
       "        [ 0.8613, -0.0312,  0.7015,  0.8731,  0.1601,  0.6468],\n",
       "        [ 0.8496, -0.4592,  0.7563,  0.8613, -0.0312,  0.7015],\n",
       "        [ 0.8197, -0.5388,  0.7455,  0.8496, -0.4592,  0.7563],\n",
       "        [ 0.7899, -0.6143,  0.7346,  0.8197, -0.5388,  0.7455],\n",
       "        [ 0.7599, -0.6448,  0.7238,  0.7899, -0.6143,  0.7346],\n",
       "        [ 0.7301, -0.6448,  0.7129,  0.7599, -0.6448,  0.7238]]))"
      ]
     },
     "execution_count": null,
     "metadata": {},
     "output_type": "execute_result"
    }
   ],
   "source": [
    "tfms4[0]"
   ]
  },
  {
   "cell_type": "code",
   "execution_count": null,
   "id": "7f1d4c1d-65b1-4804-aa7e-7193cfadf4e1",
   "metadata": {},
   "outputs": [
    {
     "data": {
      "text/html": [
       "<div style=\"display: flex; column-gap: 20px; flex-wrap: wrap;\" class='table table-striped table-sm'> <div><p style='font-size: 1.2rem;'>data</p> <pre>tensor([[ 14.2200, 224.8000,   5.7990],\n",
       "        [ 14.1100, 195.2800,   6.5770],\n",
       "        [ 14.2300, 244.1700,   6.9310],\n",
       "        [ 14.4000, 253.9200,   7.2860],\n",
       "        [ 14.0900, 177.3100,   7.2510],\n",
       "        [ 13.7100,  97.0700,   6.6830],\n",
       "        [ 13.0800,  39.7100,   5.8510],\n",
       "        [ 12.4100,  10.6500,   5.2540],\n",
       "        [ 12.2700,   0.3200,   5.1640],\n",
       "        [ 12.2000,   0.0000,   5.0370]])</pre> </div><div><p style='font-size: 1.2rem;'>mask</p> <pre>tensor([[ True,  True,  True],\n",
       "        [ True,  True,  True],\n",
       "        [False, False,  True],\n",
       "        [False, False,  True],\n",
       "        [ True,  True,  True],\n",
       "        [ True,  True,  True],\n",
       "        [ True,  True,  True],\n",
       "        [ True,  True,  True],\n",
       "        [ True,  True,  True],\n",
       "        [ True,  True,  True]])</pre> </div><div><p style='font-size: 1.2rem;'>control</p> <pre>tensor([[ 1.5050e+01,  2.5519e+02,  5.1020e+00,  1.5139e+01,  2.8710e+02,\n",
       "          4.9000e+00],\n",
       "        [ 1.4961e+01,  2.2143e+02,  5.3050e+00,  1.5050e+01,  2.5519e+02,\n",
       "          5.1020e+00],\n",
       "        [ 1.4872e+01,  1.8638e+02,  5.5070e+00,  1.4961e+01,  2.2143e+02,\n",
       "          5.3050e+00],\n",
       "        [ 1.4783e+01,  1.5065e+02,  5.7100e+00,  1.4872e+01,  1.8638e+02,\n",
       "          5.5070e+00],\n",
       "        [ 1.4694e+01,  1.1485e+02,  5.9120e+00,  1.4783e+01,  1.5065e+02,\n",
       "          5.7100e+00],\n",
       "        [ 1.4606e+01,  3.4728e+01,  6.1140e+00,  1.4694e+01,  1.1485e+02,\n",
       "          5.9120e+00],\n",
       "        [ 1.4380e+01,  1.9843e+01,  6.0740e+00,  1.4606e+01,  3.4728e+01,\n",
       "          6.1140e+00],\n",
       "        [ 1.4155e+01,  5.7120e+00,  6.0340e+00,  1.4380e+01,  1.9843e+01,\n",
       "          6.0740e+00],\n",
       "        [ 1.3929e+01, -7.6294e-06,  5.9940e+00,  1.4155e+01,  5.7120e+00,\n",
       "          6.0340e+00],\n",
       "        [ 1.3704e+01, -7.6294e-06,  5.9540e+00,  1.3929e+01, -7.6294e-06,\n",
       "          5.9940e+00]])</pre> </div></div>"
      ],
      "text/plain": [
       "__main__.MeteoImpTensor(data=tensor([[ 14.2200, 224.8000,   5.7990],\n",
       "        [ 14.1100, 195.2800,   6.5770],\n",
       "        [ 14.2300, 244.1700,   6.9310],\n",
       "        [ 14.4000, 253.9200,   7.2860],\n",
       "        [ 14.0900, 177.3100,   7.2510],\n",
       "        [ 13.7100,  97.0700,   6.6830],\n",
       "        [ 13.0800,  39.7100,   5.8510],\n",
       "        [ 12.4100,  10.6500,   5.2540],\n",
       "        [ 12.2700,   0.3200,   5.1640],\n",
       "        [ 12.2000,   0.0000,   5.0370]]), mask=tensor([[ True,  True,  True],\n",
       "        [ True,  True,  True],\n",
       "        [False, False,  True],\n",
       "        [False, False,  True],\n",
       "        [ True,  True,  True],\n",
       "        [ True,  True,  True],\n",
       "        [ True,  True,  True],\n",
       "        [ True,  True,  True],\n",
       "        [ True,  True,  True],\n",
       "        [ True,  True,  True]]), control=tensor([[ 1.5050e+01,  2.5519e+02,  5.1020e+00,  1.5139e+01,  2.8710e+02,\n",
       "          4.9000e+00],\n",
       "        [ 1.4961e+01,  2.2143e+02,  5.3050e+00,  1.5050e+01,  2.5519e+02,\n",
       "          5.1020e+00],\n",
       "        [ 1.4872e+01,  1.8638e+02,  5.5070e+00,  1.4961e+01,  2.2143e+02,\n",
       "          5.3050e+00],\n",
       "        [ 1.4783e+01,  1.5065e+02,  5.7100e+00,  1.4872e+01,  1.8638e+02,\n",
       "          5.5070e+00],\n",
       "        [ 1.4694e+01,  1.1485e+02,  5.9120e+00,  1.4783e+01,  1.5065e+02,\n",
       "          5.7100e+00],\n",
       "        [ 1.4606e+01,  3.4728e+01,  6.1140e+00,  1.4694e+01,  1.1485e+02,\n",
       "          5.9120e+00],\n",
       "        [ 1.4380e+01,  1.9843e+01,  6.0740e+00,  1.4606e+01,  3.4728e+01,\n",
       "          6.1140e+00],\n",
       "        [ 1.4155e+01,  5.7120e+00,  6.0340e+00,  1.4380e+01,  1.9843e+01,\n",
       "          6.0740e+00],\n",
       "        [ 1.3929e+01, -7.6294e-06,  5.9940e+00,  1.4155e+01,  5.7120e+00,\n",
       "          6.0340e+00],\n",
       "        [ 1.3704e+01, -7.6294e-06,  5.9540e+00,  1.3929e+01, -7.6294e-06,\n",
       "          5.9940e+00]]))"
      ]
     },
     "execution_count": null,
     "metadata": {},
     "output_type": "execute_result"
    }
   ],
   "source": [
    "tfms4.decode(tfms4[0])"
   ]
  },
  {
   "cell_type": "markdown",
   "id": "996ccbf6-0e81-4fd5-97ff-9ee2ab8eb42d",
   "metadata": {},
   "source": [
    "is workinggggggggggggggggg "
   ]
  },
  {
   "cell_type": "markdown",
   "id": "b0054d0c-1aba-4d7e-8bca-be55853b4388",
   "metadata": {},
   "source": [
    "### 6) To Tuple"
   ]
  },
  {
   "cell_type": "markdown",
   "id": "9e74011f-f689-4f39-8e9d-ec88e0487928",
   "metadata": {},
   "source": [
    "Fastai likes to work with tuples (in particular for collating)... for now convert to a tuple. Maybe find a way to mimic a tuple in `MeteoImpTensor`\n",
    "\n",
    "also duplicate the data, so it becomes training and label"
   ]
  },
  {
   "cell_type": "code",
   "execution_count": null,
   "id": "d1c3ff30-1e9e-4d83-a6ea-66df2924e04a",
   "metadata": {},
   "outputs": [],
   "source": [
    "#| export\n",
    "class ToTuple(Transform):\n",
    "    def encodes(self, x): return tuple(x),  tuple(x)\n",
    "    def decodes(self, x): return NormalsParams(x)"
   ]
  },
  {
   "cell_type": "code",
   "execution_count": null,
   "id": "d80ba90d-eecf-46e5-b0dc-4f141879b9ac",
   "metadata": {},
   "outputs": [
    {
     "data": {
      "text/html": [
       "<div>\n",
       "  <p>\n",
       "    <strong>ToTuple</strong>\n",
       "  </p>\n",
       "  <p>(object,object) -&gt; encodes\n",
       "</p>\n",
       "  <p>(object,object) -&gt; decodes\n",
       "</p>\n",
       "</div>"
      ],
      "text/plain": [
       "ToTuple:\n",
       "encodes: (object,object) -> encodes\n",
       "decodes: (object,object) -> decodes"
      ]
     },
     "execution_count": null,
     "metadata": {},
     "output_type": "execute_result"
    }
   ],
   "source": [
    "ToTuple()"
   ]
  },
  {
   "cell_type": "code",
   "execution_count": null,
   "id": "b34cf6b9-3dec-42ba-802b-12fad01f1684",
   "metadata": {},
   "outputs": [],
   "source": [
    "tfms5 = TfmdLists(tfms4.items, [*tfms4.fs,ToTuple])"
   ]
  },
  {
   "cell_type": "code",
   "execution_count": null,
   "id": "8ceb861e-16d5-444a-bbbd-1ec5cf5c40f9",
   "metadata": {},
   "outputs": [],
   "source": [
    "tfms5[0];"
   ]
  },
  {
   "cell_type": "markdown",
   "id": "81077302-18db-4010-9c88-ae8d48216353",
   "metadata": {},
   "source": [
    "### Pipeline"
   ]
  },
  {
   "cell_type": "code",
   "execution_count": null,
   "id": "0ad384f0-7912-4d40-9631-1e6e5294fb9f",
   "metadata": {},
   "outputs": [],
   "source": [
    "#| export\n",
    "from fastai.data.transforms import *"
   ]
  },
  {
   "cell_type": "code",
   "execution_count": null,
   "id": "5c19d0b5-b78c-4a5f-a606-8a1cfe832e8d",
   "metadata": {},
   "outputs": [],
   "source": [
    "block_len = 10\n",
    "control_lags = [1]\n",
    "control_repeat = 1 + len(control_lags)\n",
    "block_ids = list(range(max(control_lags), (len(hai) // block_len) - 1))[:10]\n",
    "gap_len = 2\n",
    "var_sel = ['TA','SW_IN']"
   ]
  },
  {
   "cell_type": "code",
   "execution_count": null,
   "id": "9a7a2fc4-fa0d-4b22-b7ca-65feed7ffcdc",
   "metadata": {},
   "outputs": [],
   "source": [
    "#| export\n",
    "def imp_pipeline(df,\n",
    "                 control,\n",
    "                 var_sel,\n",
    "                 gap_len,\n",
    "                 block_len,\n",
    "                 control_lags,\n",
    "                 n_rep\n",
    "                ):\n",
    "    offset = max(control_lags)\n",
    "    i_s = list(range(offset, (len(df) // block_len) - 1))\n",
    "    shifts = list(range(-block_len//2, block_len//2, block_len//n_rep)) \n",
    "    block_ids  = [[i, shift] for i in i_s for shift in shifts]\n",
    "    return [BlockIndexTransform(df.index, block_len=block_len, offset=offset),\n",
    "            BlockDfTransform(data = df, control = control,  control_lags = control_lags),\n",
    "            AddGapTransform(var_sel, gap_len, block_len//2),\n",
    "            MeteoImpDf2Tensor,\n",
    "            MeteoImpNormalize(*get_stats(df), *get_stats(control, 1+len(control_lags))),\n",
    "            ToTuple\n",
    "           ], block_ids"
   ]
  },
  {
   "cell_type": "code",
   "execution_count": null,
   "id": "ae7c4bad-445a-4e2a-9d30-e0160106b678",
   "metadata": {},
   "outputs": [],
   "source": [
    "pipeline, block_ids = imp_pipeline(hai, hai_era, var_sel, gap_len, block_len, control_lags, n_rep=10)"
   ]
  },
  {
   "cell_type": "code",
   "execution_count": null,
   "id": "569ade0e-fb29-4929-9106-3ac010ce5db0",
   "metadata": {},
   "outputs": [
    {
     "data": {
      "text/plain": [
       "[BlockIndexTransform:\n",
       " encodes: (list,object) -> encodes\n",
       " decodes: ,\n",
       " BlockDfTransform:\n",
       " encodes: (DatetimeIndex,object) -> encodes\n",
       " decodes: ,\n",
       " AddGapTransform:\n",
       " encodes: (DataControl,object) -> encodes\n",
       " decodes: ,\n",
       " __main__.MeteoImpDf2Tensor,\n",
       " MeteoImpNormalize -- {'mean_data': tensor([  8.3339, 120.9578,   3.3807]), 'std_data': tensor([  7.9246, 204.0026,   4.3684]), 'mean_control': tensor([  8.1948, 120.6864,   3.3253,   8.1948, 120.6864,   3.3253]), 'std_control': tensor([  7.5459, 187.1730,   3.6871,   7.5459, 187.1730,   3.6871])}:\n",
       " encodes: (MeteoImpTensor,object) -> encodes\n",
       " decodes: (MeteoImpTensor,object) -> decodes\n",
       " (NormalsParams,object) -> decodes,\n",
       " __main__.ToTuple]"
      ]
     },
     "execution_count": null,
     "metadata": {},
     "output_type": "execute_result"
    }
   ],
   "source": [
    "pipeline"
   ]
  },
  {
   "cell_type": "code",
   "execution_count": null,
   "id": "5cc0fa4f-801d-4d04-a3a7-7012d11e3709",
   "metadata": {},
   "outputs": [],
   "source": [
    "pp = Pipeline(pipeline)"
   ]
  },
  {
   "cell_type": "code",
   "execution_count": null,
   "id": "7b7be91d-d0d2-4b85-9ab5-ece0cbaf6616",
   "metadata": {},
   "outputs": [
    {
     "data": {
      "text/plain": [
       "Pipeline: BlockIndexTransform -> BlockDfTransform -> AddGapTransform -> MeteoImpDf2Tensor -> MeteoImpNormalize -- {'mean_data': tensor([  8.3339, 120.9578,   3.3807]), 'std_data': tensor([  7.9246, 204.0026,   4.3684]), 'mean_control': tensor([  8.1948, 120.6864,   3.3253,   8.1948, 120.6864,   3.3253]), 'std_control': tensor([  7.5459, 187.1730,   3.6871,   7.5459, 187.1730,   3.6871])} -> ToTuple"
      ]
     },
     "execution_count": null,
     "metadata": {},
     "output_type": "execute_result"
    }
   ],
   "source": [
    "pp"
   ]
  },
  {
   "cell_type": "markdown",
   "id": "df9f46c5-7664-492e-8baa-62ed741033e1",
   "metadata": {},
   "source": [
    "### Dataloader"
   ]
  },
  {
   "cell_type": "markdown",
   "id": "b71760f8-6b1f-45be-a804-756a3946a585",
   "metadata": {},
   "source": [
    "random splitter for validation/training set"
   ]
  },
  {
   "cell_type": "code",
   "execution_count": null,
   "id": "322140fc-b896-4e38-b244-dc8525438cfa",
   "metadata": {},
   "outputs": [],
   "source": [
    "reset_seed()"
   ]
  },
  {
   "cell_type": "code",
   "execution_count": null,
   "id": "4aefcbc5-7675-4da8-9fa8-53efd933a5ce",
   "metadata": {},
   "outputs": [],
   "source": [
    "splits = EndSplitter()(block_ids) # last 80% is test data"
   ]
  },
  {
   "cell_type": "markdown",
   "id": "ea416657-bd6b-4bd0-9970-1aee94d0b5ea",
   "metadata": {},
   "source": [
    "Repeat twice the pipeline since is the same pipeline both for training data and for labels.\n",
    "\n",
    "In theory could optimize the label creation and get the data only from the gap and not the control, but for now it works and the overhead is minimal"
   ]
  },
  {
   "cell_type": "code",
   "execution_count": null,
   "id": "81f7a4a2-88d7-4fd7-9a30-af7912fe66d9",
   "metadata": {},
   "outputs": [],
   "source": [
    "dls = TfmdLists(block_ids, pipeline, splits=splits).dataloaders(bs=2)"
   ]
  },
  {
   "cell_type": "code",
   "execution_count": null,
   "id": "68dc9b4d-28f5-4a4e-b61b-2544bfa1fcc9",
   "metadata": {},
   "outputs": [
    {
     "data": {
      "text/plain": [
       "((tensor([[[-0.3298, -0.5929, -0.5640],\n",
       "           [-0.3563, -0.5929, -0.6420],\n",
       "           [-0.3387, -0.5929, -0.6720],\n",
       "           [-0.3261, -0.5929, -0.6722],\n",
       "           [-0.3248, -0.5929, -0.6924],\n",
       "           [-0.3172, -0.5929, -0.7105],\n",
       "           [-0.3071, -0.5929, -0.7066],\n",
       "           [-0.2933, -0.5929, -0.6883],\n",
       "           [-0.2907, -0.5767, -0.6901],\n",
       "           [-0.2882, -0.5386, -0.6929]],\n",
       "  \n",
       "          [[-0.7097, -0.3020, -0.7189],\n",
       "           [-0.6971, -0.3474, -0.7192],\n",
       "           [-0.6857, -0.2052, -0.7045],\n",
       "           [-0.6630, -0.0902, -0.6656],\n",
       "           [-0.6390,  0.0122, -0.6276],\n",
       "           [-0.6062,  0.4852, -0.5859],\n",
       "           [-0.5709,  0.7880, -0.5388],\n",
       "           [-0.5406,  0.5899, -0.5024],\n",
       "           [-0.5267,  0.4234, -0.5015],\n",
       "           [-0.4901,  0.7530, -0.4832]]], device='cuda:0'),\n",
       "  tensor([[[ True,  True,  True],\n",
       "           [ True,  True,  True],\n",
       "           [ True,  True,  True],\n",
       "           [ True,  True,  True],\n",
       "           [ True,  True,  True],\n",
       "           [False, False,  True],\n",
       "           [False, False,  True],\n",
       "           [ True,  True,  True],\n",
       "           [ True,  True,  True],\n",
       "           [ True,  True,  True]],\n",
       "  \n",
       "          [[ True,  True,  True],\n",
       "           [ True,  True,  True],\n",
       "           [ True,  True,  True],\n",
       "           [ True,  True,  True],\n",
       "           [ True,  True,  True],\n",
       "           [False, False,  True],\n",
       "           [False, False,  True],\n",
       "           [ True,  True,  True],\n",
       "           [ True,  True,  True],\n",
       "           [ True,  True,  True]]], device='cuda:0'),\n",
       "  tensor([[[-0.3028, -0.6448, -0.5905, -0.2960, -0.6448, -0.5485],\n",
       "           [-0.3097, -0.6448, -0.6326, -0.3028, -0.6448, -0.5905],\n",
       "           [-0.3166, -0.6448, -0.6743, -0.3097, -0.6448, -0.6326],\n",
       "           [-0.3235, -0.6448, -0.7164, -0.3166, -0.6448, -0.6743],\n",
       "           [-0.3224, -0.6448, -0.7188, -0.3235, -0.6448, -0.7164],\n",
       "           [-0.3213, -0.6448, -0.7213, -0.3224, -0.6448, -0.7188],\n",
       "           [-0.3203, -0.6448, -0.7240, -0.3213, -0.6448, -0.7213],\n",
       "           [-0.3192, -0.6448, -0.7264, -0.3203, -0.6448, -0.7240],\n",
       "           [-0.3182, -0.6401, -0.7288, -0.3192, -0.6448, -0.7264],\n",
       "           [-0.3171, -0.6114, -0.7313, -0.3182, -0.6401, -0.7288]],\n",
       "  \n",
       "          [[-0.5342, -0.5229, -0.6567, -0.5343, -0.5707, -0.6594],\n",
       "           [-0.5342, -0.2773, -0.6540, -0.5342, -0.5229, -0.6567],\n",
       "           [-0.5021, -0.1783, -0.6084, -0.5342, -0.2773, -0.6540],\n",
       "           [-0.4702, -0.0844, -0.5629, -0.5021, -0.1783, -0.6084],\n",
       "           [-0.4381,  0.0029, -0.5173, -0.4702, -0.0844, -0.5629],\n",
       "           [-0.4060,  0.0821, -0.4717, -0.4381,  0.0029, -0.5173],\n",
       "           [-0.3741,  0.1518, -0.4262, -0.4060,  0.0821, -0.4717],\n",
       "           [-0.3420,  0.4581, -0.3806, -0.3741,  0.1518, -0.4262],\n",
       "           [-0.3166,  0.5191, -0.3532, -0.3420,  0.4581, -0.3806],\n",
       "           [-0.2911,  0.5640, -0.3261, -0.3166,  0.5191, -0.3532]]],\n",
       "         device='cuda:0')),\n",
       " (tensor([[[-0.3298, -0.5929, -0.5640],\n",
       "           [-0.3563, -0.5929, -0.6420],\n",
       "           [-0.3387, -0.5929, -0.6720],\n",
       "           [-0.3261, -0.5929, -0.6722],\n",
       "           [-0.3248, -0.5929, -0.6924],\n",
       "           [-0.3172, -0.5929, -0.7105],\n",
       "           [-0.3071, -0.5929, -0.7066],\n",
       "           [-0.2933, -0.5929, -0.6883],\n",
       "           [-0.2907, -0.5767, -0.6901],\n",
       "           [-0.2882, -0.5386, -0.6929]],\n",
       "  \n",
       "          [[-0.7097, -0.3020, -0.7189],\n",
       "           [-0.6971, -0.3474, -0.7192],\n",
       "           [-0.6857, -0.2052, -0.7045],\n",
       "           [-0.6630, -0.0902, -0.6656],\n",
       "           [-0.6390,  0.0122, -0.6276],\n",
       "           [-0.6062,  0.4852, -0.5859],\n",
       "           [-0.5709,  0.7880, -0.5388],\n",
       "           [-0.5406,  0.5899, -0.5024],\n",
       "           [-0.5267,  0.4234, -0.5015],\n",
       "           [-0.4901,  0.7530, -0.4832]]], device='cuda:0'),\n",
       "  tensor([[[ True,  True,  True],\n",
       "           [ True,  True,  True],\n",
       "           [ True,  True,  True],\n",
       "           [ True,  True,  True],\n",
       "           [ True,  True,  True],\n",
       "           [False, False,  True],\n",
       "           [False, False,  True],\n",
       "           [ True,  True,  True],\n",
       "           [ True,  True,  True],\n",
       "           [ True,  True,  True]],\n",
       "  \n",
       "          [[ True,  True,  True],\n",
       "           [ True,  True,  True],\n",
       "           [ True,  True,  True],\n",
       "           [ True,  True,  True],\n",
       "           [ True,  True,  True],\n",
       "           [False, False,  True],\n",
       "           [False, False,  True],\n",
       "           [ True,  True,  True],\n",
       "           [ True,  True,  True],\n",
       "           [ True,  True,  True]]], device='cuda:0'),\n",
       "  tensor([[[-0.3028, -0.6448, -0.5905, -0.2960, -0.6448, -0.5485],\n",
       "           [-0.3097, -0.6448, -0.6326, -0.3028, -0.6448, -0.5905],\n",
       "           [-0.3166, -0.6448, -0.6743, -0.3097, -0.6448, -0.6326],\n",
       "           [-0.3235, -0.6448, -0.7164, -0.3166, -0.6448, -0.6743],\n",
       "           [-0.3224, -0.6448, -0.7188, -0.3235, -0.6448, -0.7164],\n",
       "           [-0.3213, -0.6448, -0.7213, -0.3224, -0.6448, -0.7188],\n",
       "           [-0.3203, -0.6448, -0.7240, -0.3213, -0.6448, -0.7213],\n",
       "           [-0.3192, -0.6448, -0.7264, -0.3203, -0.6448, -0.7240],\n",
       "           [-0.3182, -0.6401, -0.7288, -0.3192, -0.6448, -0.7264],\n",
       "           [-0.3171, -0.6114, -0.7313, -0.3182, -0.6401, -0.7288]],\n",
       "  \n",
       "          [[-0.5342, -0.5229, -0.6567, -0.5343, -0.5707, -0.6594],\n",
       "           [-0.5342, -0.2773, -0.6540, -0.5342, -0.5229, -0.6567],\n",
       "           [-0.5021, -0.1783, -0.6084, -0.5342, -0.2773, -0.6540],\n",
       "           [-0.4702, -0.0844, -0.5629, -0.5021, -0.1783, -0.6084],\n",
       "           [-0.4381,  0.0029, -0.5173, -0.4702, -0.0844, -0.5629],\n",
       "           [-0.4060,  0.0821, -0.4717, -0.4381,  0.0029, -0.5173],\n",
       "           [-0.3741,  0.1518, -0.4262, -0.4060,  0.0821, -0.4717],\n",
       "           [-0.3420,  0.4581, -0.3806, -0.3741,  0.1518, -0.4262],\n",
       "           [-0.3166,  0.5191, -0.3532, -0.3420,  0.4581, -0.3806],\n",
       "           [-0.2911,  0.5640, -0.3261, -0.3166,  0.5191, -0.3532]]],\n",
       "         device='cuda:0')))"
      ]
     },
     "execution_count": null,
     "metadata": {},
     "output_type": "execute_result"
    }
   ],
   "source": [
    "dls.one_batch()"
   ]
  },
  {
   "cell_type": "code",
   "execution_count": null,
   "id": "f1ee5a56-067d-4383-9f20-e0c4bc78d4ca",
   "metadata": {},
   "outputs": [
    {
     "data": {
      "text/plain": [
       "device(type='cuda', index=0)"
      ]
     },
     "execution_count": null,
     "metadata": {},
     "output_type": "execute_result"
    }
   ],
   "source": [
    "dls.device"
   ]
  },
  {
   "cell_type": "code",
   "execution_count": null,
   "id": "2223f2ba-79e9-4a58-87ae-a848e8a779a7",
   "metadata": {},
   "outputs": [],
   "source": [
    "@typedispatch\n",
    "def show_batch(x: tuple, y, samples, ctxs=None, max_n=6):\n",
    "    return x"
   ]
  },
  {
   "cell_type": "code",
   "execution_count": null,
   "id": "f81d21cf-c3c3-4926-bb64-067b9928a0b2",
   "metadata": {},
   "outputs": [],
   "source": [
    "# dls.show_batch()"
   ]
  },
  {
   "cell_type": "code",
   "execution_count": null,
   "id": "6bbdab5e-2970-4326-99de-1d1cbdd1b9fa",
   "metadata": {},
   "outputs": [
    {
     "data": {
      "text/plain": [
       "{tuple: [{tuple: [torch.Tensor, torch.Tensor, torch.Tensor]},\n",
       "  {tuple: [torch.Tensor, torch.Tensor, torch.Tensor]}]}"
      ]
     },
     "execution_count": null,
     "metadata": {},
     "output_type": "execute_result"
    }
   ],
   "source": [
    "dls._types"
   ]
  },
  {
   "cell_type": "code",
   "execution_count": null,
   "id": "22219b39-71a5-4ea6-a0dc-059f7fea6ffe",
   "metadata": {},
   "outputs": [],
   "source": [
    "from fastcore.foundation import *"
   ]
  },
  {
   "cell_type": "code",
   "execution_count": null,
   "id": "0fd3c5db-d210-4eba-b61c-b9007f6905e5",
   "metadata": {},
   "outputs": [
    {
     "data": {
      "text/plain": [
       "<function fastcore.meta.delegates(to: function = None, keep=False, but: list = None)>"
      ]
     },
     "execution_count": null,
     "metadata": {},
     "output_type": "execute_result"
    }
   ],
   "source": [
    "delegates"
   ]
  },
  {
   "cell_type": "code",
   "execution_count": null,
   "id": "9ec4f71f-607e-476e-a89e-8d6f2b8bcc19",
   "metadata": {},
   "outputs": [],
   "source": [
    "#| export\n",
    "def imp_dataloader(df,\n",
    "                 control,\n",
    "                 var_sel,\n",
    "                 gap_len,\n",
    "                 block_len,\n",
    "                 control_lags,\n",
    "                 n_rep,  \n",
    "                 bs):\n",
    "    pipeline, block_ids = imp_pipeline(df, control, var_sel, gap_len, block_len, control_lags, n_rep)\n",
    "    splits = EndSplitter()(block_ids)\n",
    "    ds = TfmdLists(block_ids, pipeline, splits=splits)\n",
    "    \n",
    "    return ds.dataloaders(bs=bs)\n",
    "    "
   ]
  },
  {
   "cell_type": "code",
   "execution_count": null,
   "id": "c64c8c89-fd3e-4c36-893f-ff937ad8eba8",
   "metadata": {},
   "outputs": [
    {
     "data": {
      "text/plain": [
       "<function __main__.imp_dataloader(df, control, var_sel, gap_len, block_len, control_lags, n_rep, bs)>"
      ]
     },
     "execution_count": null,
     "metadata": {},
     "output_type": "execute_result"
    }
   ],
   "source": [
    "imp_dataloader"
   ]
  },
  {
   "cell_type": "code",
   "execution_count": null,
   "id": "cb1df190-83ba-4056-be7f-82d364e2dc87",
   "metadata": {},
   "outputs": [],
   "source": [
    "dls = imp_dataloader(hai, hai_era, var_sel, gap_len=10, block_len=200, control_lags=[1], n_rep = 20, bs=10)"
   ]
  },
  {
   "cell_type": "code",
   "execution_count": null,
   "id": "3024300b-3f82-436d-ac6d-13ff7861dbf7",
   "metadata": {},
   "outputs": [
    {
     "data": {
      "text/plain": [
       "torch.Size([10, 200, 3])"
      ]
     },
     "execution_count": null,
     "metadata": {},
     "output_type": "execute_result"
    }
   ],
   "source": [
    "dls.one_batch()[0][0].shape"
   ]
  },
  {
   "cell_type": "code",
   "execution_count": null,
   "id": "1a7c86d2-e054-4dd4-89c9-26165e558390",
   "metadata": {},
   "outputs": [],
   "source": [
    "dls = dls.cpu()"
   ]
  },
  {
   "cell_type": "markdown",
   "id": "64bb7e8b-178d-4ab6-a359-5bcc010a8767",
   "metadata": {},
   "source": [
    "## Model"
   ]
  },
  {
   "cell_type": "markdown",
   "id": "e4e0999c-d959-49fa-8e8a-0ed8e53f2f5d",
   "metadata": {},
   "source": [
    "### Forward Function"
   ]
  },
  {
   "cell_type": "markdown",
   "id": "dc64e0a2-b14b-4159-af4f-c6a9fb2a3f05",
   "metadata": {},
   "source": [
    "in order to the a pytorch module we need a forward method to the kalman filter"
   ]
  },
  {
   "cell_type": "code",
   "execution_count": null,
   "id": "42d40fc6-7b8d-4e9c-9f14-70ea54629826",
   "metadata": {},
   "outputs": [],
   "source": [
    "#| export\n",
    "from meteo_imp.kalman.filter import *\n",
    "from torch.distributions import MultivariateNormal"
   ]
  },
  {
   "cell_type": "code",
   "execution_count": null,
   "id": "0ebded29-5194-4ca4-808a-fe115d705495",
   "metadata": {},
   "outputs": [],
   "source": [
    "#| export\n",
    "@patch\n",
    "def _predict_filter(self: KalmanFilter, data, mask, control):\n",
    "    \"\"\"Predict every obsevation using only the filter step\"\"\"\n",
    "    # use the predicted state not the filtered state!\n",
    "    pred_state_mean, pred_state_cov, _, _ = self._filter_all(data, mask, control)\n",
    "    mean, cov = self._obs_from_state(ListMNormal(pred_state_mean.squeeze(-1), pred_state_cov))\n",
    "    \n",
    "    return ListNormal(mean, cov2std(cov))"
   ]
  },
  {
   "cell_type": "code",
   "execution_count": null,
   "id": "634980aa-b323-45cc-b2a3-bdd0ee95a4a9",
   "metadata": {},
   "outputs": [],
   "source": [
    "model = KalmanFilter.init_random(n_dim_obs = hai.shape[-1], n_dim_state = hai.shape[-1], n_dim_contr = hai_era.shape[-1]*control_repeat)"
   ]
  },
  {
   "cell_type": "code",
   "execution_count": null,
   "id": "5d188012-ee7c-4e3f-8c99-883a56752d65",
   "metadata": {},
   "outputs": [
    {
     "data": {
      "text/plain": [
       "2"
      ]
     },
     "execution_count": null,
     "metadata": {},
     "output_type": "execute_result"
    }
   ],
   "source": [
    "control_repeat"
   ]
  },
  {
   "cell_type": "code",
   "execution_count": null,
   "id": "68a511ea-26aa-4eb3-90e1-2a0fba057d60",
   "metadata": {},
   "outputs": [
    {
     "data": {
      "text/html": [
       "<p style='font-size: 1.5rem; font-decoration: bold'>Kalman Filter (3 obs, 3 state, 6 contr)<p><div style=\"display: flex; column-gap: 20px; flex-wrap: wrap;\" class='table table-striped table-sm'> <div> <p style='font-size: 1.3rem;'>trans matrix (A)</p> <style type=\"text/css\">\n",
       "</style>\n",
       "<table id=\"T_bcab1\">\n",
       "  <thead>\n",
       "    <tr>\n",
       "      <th id=\"T_bcab1_level0_col0\" class=\"col_heading level0 col0\" >state</th>\n",
       "      <th id=\"T_bcab1_level0_col1\" class=\"col_heading level0 col1\" >x_0</th>\n",
       "      <th id=\"T_bcab1_level0_col2\" class=\"col_heading level0 col2\" >x_1</th>\n",
       "      <th id=\"T_bcab1_level0_col3\" class=\"col_heading level0 col3\" >x_2</th>\n",
       "    </tr>\n",
       "  </thead>\n",
       "  <tbody>\n",
       "    <tr>\n",
       "      <td id=\"T_bcab1_row0_col0\" class=\"data row0 col0\" >x_0</td>\n",
       "      <td id=\"T_bcab1_row0_col1\" class=\"data row0 col1\" >0.2617</td>\n",
       "      <td id=\"T_bcab1_row0_col2\" class=\"data row0 col2\" >0.7972</td>\n",
       "      <td id=\"T_bcab1_row0_col3\" class=\"data row0 col3\" >0.2088</td>\n",
       "    </tr>\n",
       "    <tr>\n",
       "      <td id=\"T_bcab1_row1_col0\" class=\"data row1 col0\" >x_1</td>\n",
       "      <td id=\"T_bcab1_row1_col1\" class=\"data row1 col1\" >0.4545</td>\n",
       "      <td id=\"T_bcab1_row1_col2\" class=\"data row1 col2\" >0.1455</td>\n",
       "      <td id=\"T_bcab1_row1_col3\" class=\"data row1 col3\" >0.2249</td>\n",
       "    </tr>\n",
       "    <tr>\n",
       "      <td id=\"T_bcab1_row2_col0\" class=\"data row2 col0\" >x_2</td>\n",
       "      <td id=\"T_bcab1_row2_col1\" class=\"data row2 col1\" >0.7409</td>\n",
       "      <td id=\"T_bcab1_row2_col2\" class=\"data row2 col2\" >0.2881</td>\n",
       "      <td id=\"T_bcab1_row2_col3\" class=\"data row2 col3\" >0.6578</td>\n",
       "    </tr>\n",
       "  </tbody>\n",
       "</table>\n",
       " </div><div> <p style='font-size: 1.3rem;'>trans cov (Q)</p> <style type=\"text/css\">\n",
       "</style>\n",
       "<table id=\"T_99b09\">\n",
       "  <thead>\n",
       "    <tr>\n",
       "      <th id=\"T_99b09_level0_col0\" class=\"col_heading level0 col0\" >state</th>\n",
       "      <th id=\"T_99b09_level0_col1\" class=\"col_heading level0 col1\" >x_0</th>\n",
       "      <th id=\"T_99b09_level0_col2\" class=\"col_heading level0 col2\" >x_1</th>\n",
       "      <th id=\"T_99b09_level0_col3\" class=\"col_heading level0 col3\" >x_2</th>\n",
       "    </tr>\n",
       "  </thead>\n",
       "  <tbody>\n",
       "    <tr>\n",
       "      <td id=\"T_99b09_row0_col0\" class=\"data row0 col0\" >x_0</td>\n",
       "      <td id=\"T_99b09_row0_col1\" class=\"data row0 col1\" >1.4719</td>\n",
       "      <td id=\"T_99b09_row0_col2\" class=\"data row0 col2\" >0.8886</td>\n",
       "      <td id=\"T_99b09_row0_col3\" class=\"data row0 col3\" >1.3107</td>\n",
       "    </tr>\n",
       "    <tr>\n",
       "      <td id=\"T_99b09_row1_col0\" class=\"data row1 col0\" >x_1</td>\n",
       "      <td id=\"T_99b09_row1_col1\" class=\"data row1 col1\" >0.8886</td>\n",
       "      <td id=\"T_99b09_row1_col2\" class=\"data row1 col2\" >0.6666</td>\n",
       "      <td id=\"T_99b09_row1_col3\" class=\"data row1 col3\" >0.7005</td>\n",
       "    </tr>\n",
       "    <tr>\n",
       "      <td id=\"T_99b09_row2_col0\" class=\"data row2 col0\" >x_2</td>\n",
       "      <td id=\"T_99b09_row2_col1\" class=\"data row2 col1\" >1.3107</td>\n",
       "      <td id=\"T_99b09_row2_col2\" class=\"data row2 col2\" >0.7005</td>\n",
       "      <td id=\"T_99b09_row2_col3\" class=\"data row2 col3\" >1.2385</td>\n",
       "    </tr>\n",
       "  </tbody>\n",
       "</table>\n",
       " </div><div> <p style='font-size: 1.3rem;'>trans off</p> <style type=\"text/css\">\n",
       "</style>\n",
       "<table id=\"T_e1908\">\n",
       "  <thead>\n",
       "    <tr>\n",
       "      <th id=\"T_e1908_level0_col0\" class=\"col_heading level0 col0\" >state</th>\n",
       "      <th id=\"T_e1908_level0_col1\" class=\"col_heading level0 col1\" >offset</th>\n",
       "    </tr>\n",
       "  </thead>\n",
       "  <tbody>\n",
       "    <tr>\n",
       "      <td id=\"T_e1908_row0_col0\" class=\"data row0 col0\" >x_0</td>\n",
       "      <td id=\"T_e1908_row0_col1\" class=\"data row0 col1\" >0.9087</td>\n",
       "    </tr>\n",
       "    <tr>\n",
       "      <td id=\"T_e1908_row1_col0\" class=\"data row1 col0\" >x_1</td>\n",
       "      <td id=\"T_e1908_row1_col1\" class=\"data row1 col1\" >0.6871</td>\n",
       "    </tr>\n",
       "    <tr>\n",
       "      <td id=\"T_e1908_row2_col0\" class=\"data row2 col0\" >x_2</td>\n",
       "      <td id=\"T_e1908_row2_col1\" class=\"data row2 col1\" >0.5610</td>\n",
       "    </tr>\n",
       "  </tbody>\n",
       "</table>\n",
       " </div><div> <p style='font-size: 1.3rem;'>obs matrix (H)</p> <style type=\"text/css\">\n",
       "</style>\n",
       "<table id=\"T_a3ee9\">\n",
       "  <thead>\n",
       "    <tr>\n",
       "      <th id=\"T_a3ee9_level0_col0\" class=\"col_heading level0 col0\" >variable</th>\n",
       "      <th id=\"T_a3ee9_level0_col1\" class=\"col_heading level0 col1\" >x_0</th>\n",
       "      <th id=\"T_a3ee9_level0_col2\" class=\"col_heading level0 col2\" >x_1</th>\n",
       "      <th id=\"T_a3ee9_level0_col3\" class=\"col_heading level0 col3\" >x_2</th>\n",
       "    </tr>\n",
       "  </thead>\n",
       "  <tbody>\n",
       "    <tr>\n",
       "      <td id=\"T_a3ee9_row0_col0\" class=\"data row0 col0\" >y_0</td>\n",
       "      <td id=\"T_a3ee9_row0_col1\" class=\"data row0 col1\" >0.1391</td>\n",
       "      <td id=\"T_a3ee9_row0_col2\" class=\"data row0 col2\" >0.5222</td>\n",
       "      <td id=\"T_a3ee9_row0_col3\" class=\"data row0 col3\" >0.8191</td>\n",
       "    </tr>\n",
       "    <tr>\n",
       "      <td id=\"T_a3ee9_row1_col0\" class=\"data row1 col0\" >y_1</td>\n",
       "      <td id=\"T_a3ee9_row1_col1\" class=\"data row1 col1\" >0.7040</td>\n",
       "      <td id=\"T_a3ee9_row1_col2\" class=\"data row1 col2\" >0.3264</td>\n",
       "      <td id=\"T_a3ee9_row1_col3\" class=\"data row1 col3\" >0.0842</td>\n",
       "    </tr>\n",
       "    <tr>\n",
       "      <td id=\"T_a3ee9_row2_col0\" class=\"data row2 col0\" >y_2</td>\n",
       "      <td id=\"T_a3ee9_row2_col1\" class=\"data row2 col1\" >0.5963</td>\n",
       "      <td id=\"T_a3ee9_row2_col2\" class=\"data row2 col2\" >0.4742</td>\n",
       "      <td id=\"T_a3ee9_row2_col3\" class=\"data row2 col3\" >0.9001</td>\n",
       "    </tr>\n",
       "  </tbody>\n",
       "</table>\n",
       " </div><div> <p style='font-size: 1.3rem;'>obs cov (R)</p> <style type=\"text/css\">\n",
       "</style>\n",
       "<table id=\"T_a50e6\">\n",
       "  <thead>\n",
       "    <tr>\n",
       "      <th id=\"T_a50e6_level0_col0\" class=\"col_heading level0 col0\" >variable</th>\n",
       "      <th id=\"T_a50e6_level0_col1\" class=\"col_heading level0 col1\" >y_0</th>\n",
       "      <th id=\"T_a50e6_level0_col2\" class=\"col_heading level0 col2\" >y_1</th>\n",
       "      <th id=\"T_a50e6_level0_col3\" class=\"col_heading level0 col3\" >y_2</th>\n",
       "    </tr>\n",
       "  </thead>\n",
       "  <tbody>\n",
       "    <tr>\n",
       "      <td id=\"T_a50e6_row0_col0\" class=\"data row0 col0\" >y_0</td>\n",
       "      <td id=\"T_a50e6_row0_col1\" class=\"data row0 col1\" >0.1128</td>\n",
       "      <td id=\"T_a50e6_row0_col2\" class=\"data row0 col2\" >0.0000</td>\n",
       "      <td id=\"T_a50e6_row0_col3\" class=\"data row0 col3\" >0.0000</td>\n",
       "    </tr>\n",
       "    <tr>\n",
       "      <td id=\"T_a50e6_row1_col0\" class=\"data row1 col0\" >y_1</td>\n",
       "      <td id=\"T_a50e6_row1_col1\" class=\"data row1 col1\" >0.0000</td>\n",
       "      <td id=\"T_a50e6_row1_col2\" class=\"data row1 col2\" >1.2363</td>\n",
       "      <td id=\"T_a50e6_row1_col3\" class=\"data row1 col3\" >0.0000</td>\n",
       "    </tr>\n",
       "    <tr>\n",
       "      <td id=\"T_a50e6_row2_col0\" class=\"data row2 col0\" >y_2</td>\n",
       "      <td id=\"T_a50e6_row2_col1\" class=\"data row2 col1\" >0.0000</td>\n",
       "      <td id=\"T_a50e6_row2_col2\" class=\"data row2 col2\" >0.0000</td>\n",
       "      <td id=\"T_a50e6_row2_col3\" class=\"data row2 col3\" >1.1188</td>\n",
       "    </tr>\n",
       "  </tbody>\n",
       "</table>\n",
       " </div><div> <p style='font-size: 1.3rem;'>obs off</p> <style type=\"text/css\">\n",
       "</style>\n",
       "<table id=\"T_02147\">\n",
       "  <thead>\n",
       "    <tr>\n",
       "      <th id=\"T_02147_level0_col0\" class=\"col_heading level0 col0\" >variable</th>\n",
       "      <th id=\"T_02147_level0_col1\" class=\"col_heading level0 col1\" >offset</th>\n",
       "    </tr>\n",
       "  </thead>\n",
       "  <tbody>\n",
       "    <tr>\n",
       "      <td id=\"T_02147_row0_col0\" class=\"data row0 col0\" >y_0</td>\n",
       "      <td id=\"T_02147_row0_col1\" class=\"data row0 col1\" >0.3308</td>\n",
       "    </tr>\n",
       "    <tr>\n",
       "      <td id=\"T_02147_row1_col0\" class=\"data row1 col0\" >y_1</td>\n",
       "      <td id=\"T_02147_row1_col1\" class=\"data row1 col1\" >0.7610</td>\n",
       "    </tr>\n",
       "    <tr>\n",
       "      <td id=\"T_02147_row2_col0\" class=\"data row2 col0\" >y_2</td>\n",
       "      <td id=\"T_02147_row2_col1\" class=\"data row2 col1\" >0.3228</td>\n",
       "    </tr>\n",
       "  </tbody>\n",
       "</table>\n",
       " </div><div> <p style='font-size: 1.3rem;'>contr matrix (B)</p> <style type=\"text/css\">\n",
       "</style>\n",
       "<table id=\"T_701e4\">\n",
       "  <thead>\n",
       "    <tr>\n",
       "      <th id=\"T_701e4_level0_col0\" class=\"col_heading level0 col0\" >state</th>\n",
       "      <th id=\"T_701e4_level0_col1\" class=\"col_heading level0 col1\" >c_0</th>\n",
       "      <th id=\"T_701e4_level0_col2\" class=\"col_heading level0 col2\" >c_1</th>\n",
       "      <th id=\"T_701e4_level0_col3\" class=\"col_heading level0 col3\" >c_2</th>\n",
       "      <th id=\"T_701e4_level0_col4\" class=\"col_heading level0 col4\" >c_3</th>\n",
       "      <th id=\"T_701e4_level0_col5\" class=\"col_heading level0 col5\" >c_4</th>\n",
       "      <th id=\"T_701e4_level0_col6\" class=\"col_heading level0 col6\" >c_5</th>\n",
       "    </tr>\n",
       "  </thead>\n",
       "  <tbody>\n",
       "    <tr>\n",
       "      <td id=\"T_701e4_row0_col0\" class=\"data row0 col0\" >x_0</td>\n",
       "      <td id=\"T_701e4_row0_col1\" class=\"data row0 col1\" >0.2558</td>\n",
       "      <td id=\"T_701e4_row0_col2\" class=\"data row0 col2\" >0.7570</td>\n",
       "      <td id=\"T_701e4_row0_col3\" class=\"data row0 col3\" >0.3952</td>\n",
       "      <td id=\"T_701e4_row0_col4\" class=\"data row0 col4\" >0.8095</td>\n",
       "      <td id=\"T_701e4_row0_col5\" class=\"data row0 col5\" >0.3729</td>\n",
       "      <td id=\"T_701e4_row0_col6\" class=\"data row0 col6\" >0.3451</td>\n",
       "    </tr>\n",
       "    <tr>\n",
       "      <td id=\"T_701e4_row1_col0\" class=\"data row1 col0\" >x_1</td>\n",
       "      <td id=\"T_701e4_row1_col1\" class=\"data row1 col1\" >0.2511</td>\n",
       "      <td id=\"T_701e4_row1_col2\" class=\"data row1 col2\" >0.4720</td>\n",
       "      <td id=\"T_701e4_row1_col3\" class=\"data row1 col3\" >0.6684</td>\n",
       "      <td id=\"T_701e4_row1_col4\" class=\"data row1 col4\" >0.1905</td>\n",
       "      <td id=\"T_701e4_row1_col5\" class=\"data row1 col5\" >0.1489</td>\n",
       "      <td id=\"T_701e4_row1_col6\" class=\"data row1 col6\" >0.6714</td>\n",
       "    </tr>\n",
       "    <tr>\n",
       "      <td id=\"T_701e4_row2_col0\" class=\"data row2 col0\" >x_2</td>\n",
       "      <td id=\"T_701e4_row2_col1\" class=\"data row2 col1\" >0.4719</td>\n",
       "      <td id=\"T_701e4_row2_col2\" class=\"data row2 col2\" >0.5053</td>\n",
       "      <td id=\"T_701e4_row2_col3\" class=\"data row2 col3\" >0.4909</td>\n",
       "      <td id=\"T_701e4_row2_col4\" class=\"data row2 col4\" >0.7793</td>\n",
       "      <td id=\"T_701e4_row2_col5\" class=\"data row2 col5\" >0.3246</td>\n",
       "      <td id=\"T_701e4_row2_col6\" class=\"data row2 col6\" >0.1249</td>\n",
       "    </tr>\n",
       "  </tbody>\n",
       "</table>\n",
       " </div><div> <p style='font-size: 1.3rem;'>init state mean</p> <style type=\"text/css\">\n",
       "</style>\n",
       "<table id=\"T_2fa53\">\n",
       "  <thead>\n",
       "    <tr>\n",
       "      <th id=\"T_2fa53_level0_col0\" class=\"col_heading level0 col0\" >state</th>\n",
       "      <th id=\"T_2fa53_level0_col1\" class=\"col_heading level0 col1\" >mean</th>\n",
       "    </tr>\n",
       "  </thead>\n",
       "  <tbody>\n",
       "    <tr>\n",
       "      <td id=\"T_2fa53_row0_col0\" class=\"data row0 col0\" >x_0</td>\n",
       "      <td id=\"T_2fa53_row0_col1\" class=\"data row0 col1\" >0.4553</td>\n",
       "    </tr>\n",
       "    <tr>\n",
       "      <td id=\"T_2fa53_row1_col0\" class=\"data row1 col0\" >x_1</td>\n",
       "      <td id=\"T_2fa53_row1_col1\" class=\"data row1 col1\" >0.5508</td>\n",
       "    </tr>\n",
       "    <tr>\n",
       "      <td id=\"T_2fa53_row2_col0\" class=\"data row2 col0\" >x_2</td>\n",
       "      <td id=\"T_2fa53_row2_col1\" class=\"data row2 col1\" >0.7966</td>\n",
       "    </tr>\n",
       "  </tbody>\n",
       "</table>\n",
       " </div><div> <p style='font-size: 1.3rem;'>init state cov</p> <style type=\"text/css\">\n",
       "</style>\n",
       "<table id=\"T_d8ae3\">\n",
       "  <thead>\n",
       "    <tr>\n",
       "      <th id=\"T_d8ae3_level0_col0\" class=\"col_heading level0 col0\" >state</th>\n",
       "      <th id=\"T_d8ae3_level0_col1\" class=\"col_heading level0 col1\" >x_0</th>\n",
       "      <th id=\"T_d8ae3_level0_col2\" class=\"col_heading level0 col2\" >x_1</th>\n",
       "      <th id=\"T_d8ae3_level0_col3\" class=\"col_heading level0 col3\" >x_2</th>\n",
       "    </tr>\n",
       "  </thead>\n",
       "  <tbody>\n",
       "    <tr>\n",
       "      <td id=\"T_d8ae3_row0_col0\" class=\"data row0 col0\" >x_0</td>\n",
       "      <td id=\"T_d8ae3_row0_col1\" class=\"data row0 col1\" >0.3718</td>\n",
       "      <td id=\"T_d8ae3_row0_col2\" class=\"data row0 col2\" >0.1513</td>\n",
       "      <td id=\"T_d8ae3_row0_col3\" class=\"data row0 col3\" >0.3717</td>\n",
       "    </tr>\n",
       "    <tr>\n",
       "      <td id=\"T_d8ae3_row1_col0\" class=\"data row1 col0\" >x_1</td>\n",
       "      <td id=\"T_d8ae3_row1_col1\" class=\"data row1 col1\" >0.1513</td>\n",
       "      <td id=\"T_d8ae3_row1_col2\" class=\"data row1 col2\" >0.1655</td>\n",
       "      <td id=\"T_d8ae3_row1_col3\" class=\"data row1 col3\" >0.1530</td>\n",
       "    </tr>\n",
       "    <tr>\n",
       "      <td id=\"T_d8ae3_row2_col0\" class=\"data row2 col0\" >x_2</td>\n",
       "      <td id=\"T_d8ae3_row2_col1\" class=\"data row2 col1\" >0.3717</td>\n",
       "      <td id=\"T_d8ae3_row2_col2\" class=\"data row2 col2\" >0.1530</td>\n",
       "      <td id=\"T_d8ae3_row2_col3\" class=\"data row2 col3\" >0.6116</td>\n",
       "    </tr>\n",
       "  </tbody>\n",
       "</table>\n",
       " </div></div>"
      ],
      "text/plain": [
       "Kalman Filter\n",
       "        N dim obs: 3, N dim state: 3, N dim contr: 6"
      ]
     },
     "execution_count": null,
     "metadata": {},
     "output_type": "execute_result"
    }
   ],
   "source": [
    "model"
   ]
  },
  {
   "cell_type": "code",
   "execution_count": null,
   "id": "cbbc44e6-3b50-4972-80b0-b3ff7b8e44b4",
   "metadata": {},
   "outputs": [],
   "source": [
    "model._predict_filter(*dls.one_batch()[0]);"
   ]
  },
  {
   "cell_type": "code",
   "execution_count": null,
   "id": "737a9f2a-ce54-42a3-8490-acb988138ed4",
   "metadata": {},
   "outputs": [],
   "source": [
    "#| export\n",
    "@patch\n",
    "def forward(self: KalmanFilter, meteo_data: MeteoImpTensor):\n",
    "    data, mask, control = meteo_data\n",
    "    assert not data.isnan().any()\n",
    "    use_smooth = self.use_smooth if hasattr(self, 'use_smooth') else True\n",
    "    \n",
    "    mean, std = (self.predict(obs=data, mask=mask, control=control, smooth=True) if use_smooth\n",
    "                        else self._predict_filter(data, mask, control))\n",
    "    return NormalsParams(mean, std) # to have fastai working this needs to be a tuple subclass"
   ]
  },
  {
   "cell_type": "code",
   "execution_count": null,
   "id": "f7ebde2f-19aa-4860-b665-b13865111506",
   "metadata": {},
   "outputs": [],
   "source": [
    "input = dls.one_batch()[0]\n",
    "target = dls.one_batch()[1]"
   ]
  },
  {
   "cell_type": "code",
   "execution_count": null,
   "id": "2d34397d-7720-4127-83d1-f5137c94af46",
   "metadata": {},
   "outputs": [
    {
     "data": {
      "text/plain": [
       "OrderedDict([('trans_matrix',\n",
       "              tensor([[0.2617, 0.7972, 0.2088],\n",
       "                      [0.4545, 0.1455, 0.2249],\n",
       "                      [0.7409, 0.2881, 0.6578]])),\n",
       "             ('trans_off', tensor([0.9087, 0.6871, 0.5610])),\n",
       "             ('trans_cov_raw',\n",
       "              tensor([[ 1.2132,  0.0000,  0.0000],\n",
       "                      [ 0.7324,  0.3607,  0.0000],\n",
       "                      [ 1.0803, -0.2516,  0.0897]])),\n",
       "             ('contr_matrix',\n",
       "              tensor([[0.2558, 0.7570, 0.3952, 0.8095, 0.3729, 0.3451],\n",
       "                      [0.2511, 0.4720, 0.6684, 0.1905, 0.1489, 0.6714],\n",
       "                      [0.4719, 0.5053, 0.4909, 0.7793, 0.3246, 0.1249]])),\n",
       "             ('obs_matrix',\n",
       "              tensor([[0.1391, 0.5222, 0.8191],\n",
       "                      [0.7040, 0.3264, 0.0842],\n",
       "                      [0.5963, 0.4742, 0.9001]])),\n",
       "             ('obs_off', tensor([0.3308, 0.7610, 0.3228])),\n",
       "             ('obs_cov_raw', tensor([-2.1824,  0.2121,  0.1123])),\n",
       "             ('init_state_mean', tensor([0.4553, 0.5508, 0.7966])),\n",
       "             ('init_state_cov_raw',\n",
       "              tensor([[0.6097, 0.0000, 0.0000],\n",
       "                      [0.2482, 0.3223, 0.0000],\n",
       "                      [0.6097, 0.0050, 0.4897]]))])"
      ]
     },
     "execution_count": null,
     "metadata": {},
     "output_type": "execute_result"
    }
   ],
   "source": [
    "model.state_dict()"
   ]
  },
  {
   "cell_type": "code",
   "execution_count": null,
   "id": "5696c62a-e455-4d86-9f10-e00ea93671ac",
   "metadata": {},
   "outputs": [
    {
     "data": {
      "text/plain": [
       "torch.Size([200, 3])"
      ]
     },
     "execution_count": null,
     "metadata": {},
     "output_type": "execute_result"
    }
   ],
   "source": [
    "data = input[0][0]\n",
    "data.shape"
   ]
  },
  {
   "cell_type": "code",
   "execution_count": null,
   "id": "9d1bdfc9-2fa3-4627-94d8-0a9dda444203",
   "metadata": {},
   "outputs": [],
   "source": [
    "mask = input[1][0]\n",
    "control = input[2][0]"
   ]
  },
  {
   "cell_type": "code",
   "execution_count": null,
   "id": "ec17c709-bfaa-4a0e-a45d-c067671a809c",
   "metadata": {},
   "outputs": [
    {
     "data": {
      "text/plain": [
       "torch.Size([200, 3])"
      ]
     },
     "execution_count": null,
     "metadata": {},
     "output_type": "execute_result"
    }
   ],
   "source": [
    "mask.shape"
   ]
  },
  {
   "cell_type": "code",
   "execution_count": null,
   "id": "26934279-9c81-447b-8506-01b5abd7b72a",
   "metadata": {},
   "outputs": [
    {
     "data": {
      "text/plain": [
       "device(type='cpu')"
      ]
     },
     "execution_count": null,
     "metadata": {},
     "output_type": "execute_result"
    }
   ],
   "source": [
    "data.device"
   ]
  },
  {
   "cell_type": "code",
   "execution_count": null,
   "id": "83e3bbd9-8e03-440a-b13b-8b6aba7ba341",
   "metadata": {},
   "outputs": [
    {
     "data": {
      "text/plain": [
       "torch.device"
      ]
     },
     "execution_count": null,
     "metadata": {},
     "output_type": "execute_result"
    }
   ],
   "source": [
    "torch.device"
   ]
  },
  {
   "cell_type": "code",
   "execution_count": null,
   "id": "3b6b1ed8-048a-4755-8201-57eec8654cdb",
   "metadata": {},
   "outputs": [
    {
     "data": {
      "text/plain": [
       "(torch.Size([200, 3]), torch.Size([200, 3]))"
      ]
     },
     "execution_count": null,
     "metadata": {},
     "output_type": "execute_result"
    }
   ],
   "source": [
    "data.shape, mask.shape"
   ]
  },
  {
   "cell_type": "code",
   "execution_count": null,
   "id": "d3ba1aa7-ef52-4a85-b0c4-3763d621eb70",
   "metadata": {},
   "outputs": [],
   "source": [
    "model.predict(data.unsqueeze(0), mask.unsqueeze(0), control.unsqueeze(0));"
   ]
  },
  {
   "cell_type": "code",
   "execution_count": null,
   "id": "9ef72fbc-cdef-4146-b294-8fd261c0e2c4",
   "metadata": {},
   "outputs": [],
   "source": [
    "model.use_smooth = True"
   ]
  },
  {
   "cell_type": "code",
   "execution_count": null,
   "id": "5d690cd5-44a1-45d6-9abb-ef4fb0a62314",
   "metadata": {},
   "outputs": [],
   "source": [
    "pred = model(input)"
   ]
  },
  {
   "cell_type": "code",
   "execution_count": null,
   "id": "a7bc7df7-effd-41b0-bb90-6beaa874d1e1",
   "metadata": {},
   "outputs": [
    {
     "data": {
      "text/plain": [
       "torch.Size([10, 200, 3])"
      ]
     },
     "execution_count": null,
     "metadata": {},
     "output_type": "execute_result"
    }
   ],
   "source": [
    "pred[0].shape"
   ]
  },
  {
   "cell_type": "code",
   "execution_count": null,
   "id": "ed03f415-567f-47ab-b019-b7291cee03f0",
   "metadata": {},
   "outputs": [
    {
     "data": {
      "text/plain": [
       "torch.Size([10, 200, 3])"
      ]
     },
     "execution_count": null,
     "metadata": {},
     "output_type": "execute_result"
    }
   ],
   "source": [
    "pred[1].shape"
   ]
  },
  {
   "cell_type": "code",
   "execution_count": null,
   "id": "856e7d79-e0ab-4562-aa6b-bbb68e3928d0",
   "metadata": {},
   "outputs": [],
   "source": [
    "model.use_smooth = False"
   ]
  },
  {
   "cell_type": "code",
   "execution_count": null,
   "id": "f804c6a9-34d6-48de-a5fe-c99142f5c7d5",
   "metadata": {},
   "outputs": [],
   "source": [
    "pred_filt = model(input)"
   ]
  },
  {
   "cell_type": "code",
   "execution_count": null,
   "id": "844f78fa-d55b-42c7-a46d-28831f712e94",
   "metadata": {},
   "outputs": [
    {
     "data": {
      "text/plain": [
       "torch.Size([10, 200, 3])"
      ]
     },
     "execution_count": null,
     "metadata": {},
     "output_type": "execute_result"
    }
   ],
   "source": [
    "pred_filt[1].shape"
   ]
  },
  {
   "cell_type": "code",
   "execution_count": null,
   "id": "5e89cd79-45ce-44dc-b5e1-f46e120e9a13",
   "metadata": {},
   "outputs": [
    {
     "data": {
      "text/plain": [
       "__main__.NormalsParams(mean=tensor([[[-1.0853e+00, -9.6977e-02, -1.6318e+00],\n",
       "         [-1.6371e+00,  2.1869e-01, -1.8844e+00],\n",
       "         [-1.6023e+00,  5.3288e-02, -1.9876e+00],\n",
       "         ...,\n",
       "         [-9.9819e-01,  3.6522e-01, -1.2074e+00],\n",
       "         [-9.6037e-01,  4.0569e-01, -1.1560e+00],\n",
       "         [-8.9643e-01,  4.6237e-01, -1.0614e+00]],\n",
       "\n",
       "        [[-6.0812e-01,  1.5683e-01, -1.0101e+00],\n",
       "         [-1.0547e+00,  4.1022e-01, -1.1796e+00],\n",
       "         [-1.0146e+00,  2.0531e-01, -1.2966e+00],\n",
       "         ...,\n",
       "         [-7.8597e-01,  3.2919e-01, -9.8214e-01],\n",
       "         [-7.5823e-01,  3.4013e-01, -9.3208e-01],\n",
       "         [-8.4632e-01,  2.2772e-01, -1.0880e+00]],\n",
       "\n",
       "        [[-1.6702e+00, -3.9161e-01, -2.3861e+00],\n",
       "         [-2.3548e+00,  4.9082e-02, -2.7635e+00],\n",
       "         [-2.3357e+00,  3.3406e-03, -2.8112e+00],\n",
       "         ...,\n",
       "         [-1.1320e+00,  2.5534e-01, -1.3752e+00],\n",
       "         [-1.1150e+00,  2.5718e-01, -1.3406e+00],\n",
       "         [-1.2732e+00,  8.3460e-02, -1.5935e+00]],\n",
       "\n",
       "        ...,\n",
       "\n",
       "        [[ 1.7310e-01,  5.5769e-01,  5.6446e-05],\n",
       "         [-9.9485e-02,  6.7268e-01, -5.0982e-02],\n",
       "         [-5.9461e-02,  4.1679e-01, -1.9211e-01],\n",
       "         ...,\n",
       "         [-9.8248e-01,  2.6596e-01, -1.2264e+00],\n",
       "         [-9.8716e-01,  2.7125e-01, -1.2140e+00],\n",
       "         [-1.1072e+00,  1.4848e-01, -1.4036e+00]],\n",
       "\n",
       "        [[ 1.7675e-01,  6.0039e-01,  2.1625e-02],\n",
       "         [-5.6660e-02,  7.4941e-01, -1.9557e-02],\n",
       "         [-4.7743e-02,  5.3824e-01, -1.5286e-01],\n",
       "         ...,\n",
       "         [-7.9205e-01,  3.8394e-01, -1.0350e+00],\n",
       "         [-8.0940e-01,  3.8856e-01, -1.0419e+00],\n",
       "         [-8.9815e-01,  3.1428e-01, -1.1720e+00]],\n",
       "\n",
       "        [[ 6.7865e-01,  8.3563e-01,  6.6250e-01],\n",
       "         [ 5.9507e-01,  9.3269e-01,  7.0435e-01],\n",
       "         [ 6.5674e-01,  8.3923e-01,  6.9882e-01],\n",
       "         ...,\n",
       "         [-2.3054e-01,  3.5551e-01, -3.5493e-01],\n",
       "         [-2.1713e-01,  3.6480e-01, -3.2844e-01],\n",
       "         [-2.7460e-01,  3.1484e-01, -4.3022e-01]]], grad_fn=<SqueezeBackward1>), std=tensor([[[0.4361, 1.1451, 1.1246],\n",
       "         [0.4393, 1.1508, 1.1318],\n",
       "         [0.4395, 1.1530, 1.1323],\n",
       "         ...,\n",
       "         [0.4396, 1.1532, 1.1324],\n",
       "         [0.4397, 1.1532, 1.1325],\n",
       "         [0.4469, 1.1565, 1.1400]],\n",
       "\n",
       "        [[0.4361, 1.1451, 1.1246],\n",
       "         [0.4393, 1.1508, 1.1318],\n",
       "         [0.4395, 1.1530, 1.1323],\n",
       "         ...,\n",
       "         [0.4396, 1.1532, 1.1324],\n",
       "         [0.4397, 1.1532, 1.1325],\n",
       "         [0.4469, 1.1565, 1.1400]],\n",
       "\n",
       "        [[0.4361, 1.1451, 1.1246],\n",
       "         [0.4393, 1.1508, 1.1318],\n",
       "         [0.4395, 1.1530, 1.1323],\n",
       "         ...,\n",
       "         [0.4396, 1.1532, 1.1324],\n",
       "         [0.4397, 1.1532, 1.1325],\n",
       "         [0.4469, 1.1565, 1.1400]],\n",
       "\n",
       "        ...,\n",
       "\n",
       "        [[0.4361, 1.1451, 1.1246],\n",
       "         [0.4393, 1.1508, 1.1318],\n",
       "         [0.4395, 1.1530, 1.1323],\n",
       "         ...,\n",
       "         [0.4396, 1.1532, 1.1324],\n",
       "         [0.4397, 1.1532, 1.1325],\n",
       "         [0.4469, 1.1565, 1.1400]],\n",
       "\n",
       "        [[0.4361, 1.1451, 1.1246],\n",
       "         [0.4393, 1.1508, 1.1318],\n",
       "         [0.4395, 1.1530, 1.1323],\n",
       "         ...,\n",
       "         [0.4396, 1.1532, 1.1324],\n",
       "         [0.4397, 1.1532, 1.1325],\n",
       "         [0.4469, 1.1565, 1.1400]],\n",
       "\n",
       "        [[0.4361, 1.1451, 1.1246],\n",
       "         [0.4393, 1.1508, 1.1318],\n",
       "         [0.4395, 1.1530, 1.1323],\n",
       "         ...,\n",
       "         [0.4396, 1.1532, 1.1324],\n",
       "         [0.4397, 1.1532, 1.1325],\n",
       "         [0.4469, 1.1565, 1.1400]]], grad_fn=<SqrtBackward0>))"
      ]
     },
     "execution_count": null,
     "metadata": {},
     "output_type": "execute_result"
    }
   ],
   "source": [
    "pred"
   ]
  },
  {
   "cell_type": "code",
   "execution_count": null,
   "id": "85d82759-dae4-4d48-a213-150c8fa3d8f2",
   "metadata": {},
   "outputs": [
    {
     "data": {
      "text/plain": [
       "(__main__.NormalsParams, __main__.NormalsParams)"
      ]
     },
     "execution_count": null,
     "metadata": {},
     "output_type": "execute_result"
    }
   ],
   "source": [
    "type(pred), type(pred_filt)"
   ]
  },
  {
   "cell_type": "code",
   "execution_count": null,
   "id": "65bab279-dc65-4259-bd1f-39b5c6028cb8",
   "metadata": {},
   "outputs": [],
   "source": [
    "test_ne(pred, pred_filt)"
   ]
  },
  {
   "cell_type": "markdown",
   "id": "2051bf57-a2e3-4232-861b-fafe814b1825",
   "metadata": {},
   "source": [
    "### Loss Function"
   ]
  },
  {
   "cell_type": "markdown",
   "id": "6e75817f-2abb-4e9f-b54a-edb7ea33dc1b",
   "metadata": {},
   "source": [
    "add support for complete loss (also outside gap) and for filter loss (don't run the smooher)"
   ]
  },
  {
   "cell_type": "markdown",
   "id": "c793e684-8ce9-4393-af4d-0268f3710b7a",
   "metadata": {},
   "source": [
    "There are two ways to compute the loss, one is to do it for all predictions the other is for doing it for only the gap\n",
    "- only_gap"
   ]
  },
  {
   "cell_type": "markdown",
   "id": "2b04cee3-9086-41cb-ac08-6b908626c587",
   "metadata": {},
   "source": [
    "Play around with flatting + diagonal"
   ]
  },
  {
   "cell_type": "code",
   "execution_count": null,
   "id": "559fc5e0-3554-4efa-89a7-08a6dd44f310",
   "metadata": {},
   "outputs": [
    {
     "data": {
      "text/plain": [
       "tensor([[[ 1,  0,  0],\n",
       "         [ 0,  2,  0],\n",
       "         [ 0,  0,  3]],\n",
       "\n",
       "        [[10,  0,  0],\n",
       "         [ 0, 20,  0],\n",
       "         [ 0,  0, 30]]])"
      ]
     },
     "execution_count": null,
     "metadata": {},
     "output_type": "execute_result"
    }
   ],
   "source": [
    "a = torch.diag(torch.tensor([1,2,3]))\n",
    "d = torch.stack([a, a*10])\n",
    "m = torch.stack([a.diag(), a.diag()*10])\n",
    "d"
   ]
  },
  {
   "cell_type": "code",
   "execution_count": null,
   "id": "773c90fa-3672-43a5-b7bf-2de9b068ebe3",
   "metadata": {},
   "outputs": [
    {
     "data": {
      "text/plain": [
       "tensor([ 1,  2,  3, 10, 20, 30])"
      ]
     },
     "execution_count": null,
     "metadata": {},
     "output_type": "execute_result"
    }
   ],
   "source": [
    "m.flatten()"
   ]
  },
  {
   "cell_type": "code",
   "execution_count": null,
   "id": "c5851886-313c-4eac-87a4-4684ff9c438f",
   "metadata": {},
   "outputs": [
    {
     "data": {
      "text/plain": [
       "tensor([[[ 1,  0,  0],\n",
       "         [ 0,  2,  0],\n",
       "         [ 0,  0,  3]],\n",
       "\n",
       "        [[10,  0,  0],\n",
       "         [ 0, 20,  0],\n",
       "         [ 0,  0, 30]]])"
      ]
     },
     "execution_count": null,
     "metadata": {},
     "output_type": "execute_result"
    }
   ],
   "source": [
    "d"
   ]
  },
  {
   "cell_type": "code",
   "execution_count": null,
   "id": "72af60ed-b471-47f3-90be-2be51eb18bb0",
   "metadata": {},
   "outputs": [
    {
     "data": {
      "text/plain": [
       "tensor([ 1,  2,  3, 10, 20, 30])"
      ]
     },
     "execution_count": null,
     "metadata": {},
     "output_type": "execute_result"
    }
   ],
   "source": [
    "torch.diagonal(d, dim1=1, dim2=2).flatten()"
   ]
  },
  {
   "cell_type": "code",
   "execution_count": null,
   "id": "09c58fef-a8d8-48b1-a837-335a67158ed4",
   "metadata": {},
   "outputs": [],
   "source": [
    "means, stds = pred\n",
    "data, mask, contr = target"
   ]
  },
  {
   "cell_type": "code",
   "execution_count": null,
   "id": "5a6bd159-499d-42b3-a8b2-9e54c98a8659",
   "metadata": {},
   "outputs": [
    {
     "data": {
      "text/plain": [
       "tensor(-4817.6538, grad_fn=<SubBackward0>)"
      ]
     },
     "execution_count": null,
     "metadata": {},
     "output_type": "execute_result"
    }
   ],
   "source": [
    "# make a big matrix with all variables and observations and compute ll\n",
    "mask = mask.flatten() \n",
    "obs = data.flatten()[mask]\n",
    "means = data.flatten()[mask]\n",
    "stds = stds.flatten()[mask] # need to support batches\n",
    "\n",
    "MultivariateNormal(means, torch.diag(stds)).log_prob(obs)"
   ]
  },
  {
   "cell_type": "code",
   "execution_count": null,
   "id": "28c38f87-5a72-42bd-847f-fb1e76ec7490",
   "metadata": {},
   "outputs": [],
   "source": [
    "#| export\n",
    "class KalmanLoss():\n",
    "    def __init__(self,\n",
    "                 only_gap:bool=True, # loss for all predictions or only gap\n",
    "                 reduction:str='mean' # one of ['sum', 'mean', 'none']\n",
    "                ):\n",
    "        store_attr()\n",
    "    \n",
    "    def __call__(self, pred: NormalsParams, target: MeteoImpTensor):\n",
    "        data, mask, contr = target\n",
    "        means, stds = pred        \n",
    "        assert not stds.isnan().any()\n",
    "        losses = torch.empty(data.shape[0], device=data.device, dtype=data.dtype)\n",
    "        for i, (d, m, mean, std) in enumerate(zip(data, mask, means, stds)):\n",
    "            losses[i] = self._loss_batch(d,m,mean, std)\n",
    "        if self.reduction == 'none': return losses\n",
    "        elif self.reduction == 'mean': return losses.mean()\n",
    "        elif self.reduction == 'sum': return losses.sum()\n",
    "    \n",
    "    def _loss_batch(self, data, mask, mean, std):\n",
    "        # make a big vector with all variables and observations and compute ll\n",
    "        mask = ~mask.flatten() if self.only_gap else torch.fill(mask, True).flatten()\n",
    "        obs = data.flatten()[mask]\n",
    "        mean = mean.flatten()[mask]\n",
    "        std = std.flatten()[mask] \n",
    "        \n",
    "        return - MultivariateNormal(mean, torch.diag(std)).log_prob(obs)\n",
    "        "
   ]
  },
  {
   "cell_type": "code",
   "execution_count": null,
   "id": "c8654b5f-bb61-416d-966c-3f798249eee6",
   "metadata": {},
   "outputs": [],
   "source": [
    "pred = model(input)"
   ]
  },
  {
   "cell_type": "code",
   "execution_count": null,
   "id": "42ef4ee6-3337-415e-9497-2c1acce5be35",
   "metadata": {},
   "outputs": [],
   "source": [
    "data, mask, contr = input"
   ]
  },
  {
   "cell_type": "code",
   "execution_count": null,
   "id": "7c8039ba-8807-47cb-9d7c-0ea119d01527",
   "metadata": {},
   "outputs": [
    {
     "data": {
      "text/plain": [
       "(torch.Size([10, 200, 3]), torch.Size([10, 200, 3]))"
      ]
     },
     "execution_count": null,
     "metadata": {},
     "output_type": "execute_result"
    }
   ],
   "source": [
    "data.shape, mask.shape"
   ]
  },
  {
   "cell_type": "code",
   "execution_count": null,
   "id": "17310899-b8a2-4cc5-bec8-4f7695eb2fd8",
   "metadata": {},
   "outputs": [
    {
     "data": {
      "text/plain": [
       "torch.Size([10, 200, 3])"
      ]
     },
     "execution_count": null,
     "metadata": {},
     "output_type": "execute_result"
    }
   ],
   "source": [
    "pred.mean.shape"
   ]
  },
  {
   "cell_type": "code",
   "execution_count": null,
   "id": "62e1cfdd-e80b-4ddc-9313-fd357c7ba7e2",
   "metadata": {},
   "outputs": [],
   "source": [
    "means, stds = pred"
   ]
  },
  {
   "cell_type": "code",
   "execution_count": null,
   "id": "3dcc340f-387f-4767-9ad5-10c40425e0b0",
   "metadata": {},
   "outputs": [
    {
     "data": {
      "text/plain": [
       "torch.Size([10, 200, 3])"
      ]
     },
     "execution_count": null,
     "metadata": {},
     "output_type": "execute_result"
    }
   ],
   "source": [
    "stds.shape"
   ]
  },
  {
   "cell_type": "code",
   "execution_count": null,
   "id": "43d3532f-a95e-437a-b90e-11ebb4bb2406",
   "metadata": {},
   "outputs": [
    {
     "data": {
      "text/plain": [
       "torch.Size([10, 200, 3])"
      ]
     },
     "execution_count": null,
     "metadata": {},
     "output_type": "execute_result"
    }
   ],
   "source": [
    "means.shape"
   ]
  },
  {
   "cell_type": "code",
   "execution_count": null,
   "id": "b41d785a-ba19-461e-b64d-cc7e12153cb6",
   "metadata": {},
   "outputs": [
    {
     "data": {
      "text/plain": [
       "tensor(False)"
      ]
     },
     "execution_count": null,
     "metadata": {},
     "output_type": "execute_result"
    }
   ],
   "source": [
    "data.isnan().any()"
   ]
  },
  {
   "cell_type": "code",
   "execution_count": null,
   "id": "08aa8d54-0c7a-47c0-8970-ecd4999ffd1e",
   "metadata": {},
   "outputs": [
    {
     "data": {
      "text/plain": [
       "tensor(False)"
      ]
     },
     "execution_count": null,
     "metadata": {},
     "output_type": "execute_result"
    }
   ],
   "source": [
    "mask.isnan().any()"
   ]
  },
  {
   "cell_type": "code",
   "execution_count": null,
   "id": "38b07b67-9543-4800-b566-949c542422bf",
   "metadata": {},
   "outputs": [
    {
     "data": {
      "text/plain": [
       "tensor(False)"
      ]
     },
     "execution_count": null,
     "metadata": {},
     "output_type": "execute_result"
    }
   ],
   "source": [
    "means.isnan().any()"
   ]
  },
  {
   "cell_type": "code",
   "execution_count": null,
   "id": "b473b2be-4392-4cb2-9575-1a7a057cdc1e",
   "metadata": {},
   "outputs": [
    {
     "data": {
      "text/plain": [
       "tensor(0)"
      ]
     },
     "execution_count": null,
     "metadata": {},
     "output_type": "execute_result"
    }
   ],
   "source": [
    "stds.isnan().sum()"
   ]
  },
  {
   "cell_type": "code",
   "execution_count": null,
   "id": "cb6d9dfc-1bb4-4c23-a291-d73cf9aefdfd",
   "metadata": {},
   "outputs": [
    {
     "data": {
      "text/plain": [
       "torch.Size([10, 200, 3])"
      ]
     },
     "execution_count": null,
     "metadata": {},
     "output_type": "execute_result"
    }
   ],
   "source": [
    "stds.shape"
   ]
  },
  {
   "cell_type": "code",
   "execution_count": null,
   "id": "51ea7a4b-b7b5-4182-abed-b5542cdaff48",
   "metadata": {},
   "outputs": [
    {
     "data": {
      "text/plain": [
       "(tensor(True),\n",
       " tensor([0.9017, 0.9017, 0.9017,  ..., 2.6384, 2.6384, 2.6384],\n",
       "        grad_fn=<LinalgEighBackward0>))"
      ]
     },
     "execution_count": null,
     "metadata": {},
     "output_type": "execute_result"
    }
   ],
   "source": [
    "is_posdef_eigv(torch.diag(stds.flatten()))"
   ]
  },
  {
   "cell_type": "code",
   "execution_count": null,
   "id": "72fa95ce-9fc1-4b61-855d-a27eb5ba4994",
   "metadata": {},
   "outputs": [
    {
     "data": {
      "text/plain": [
       "tensor(114.6033, grad_fn=<MeanBackward0>)"
      ]
     },
     "execution_count": null,
     "metadata": {},
     "output_type": "execute_result"
    }
   ],
   "source": [
    "KalmanLoss(only_gap=True)(pred, target)"
   ]
  },
  {
   "cell_type": "code",
   "execution_count": null,
   "id": "83f8aae6-eb06-4772-a611-d62af0395ef3",
   "metadata": {},
   "outputs": [
    {
     "data": {
      "text/plain": [
       "tensor(3449.2515, grad_fn=<MeanBackward0>)"
      ]
     },
     "execution_count": null,
     "metadata": {},
     "output_type": "execute_result"
    }
   ],
   "source": [
    "KalmanLoss(only_gap=False)(pred, target)"
   ]
  },
  {
   "cell_type": "code",
   "execution_count": null,
   "id": "c6fa6718-c26b-48a0-bb7d-efedb0f40086",
   "metadata": {},
   "outputs": [
    {
     "data": {
      "text/plain": [
       "(device(type='cpu'), device(type='cpu'))"
      ]
     },
     "execution_count": null,
     "metadata": {},
     "output_type": "execute_result"
    }
   ],
   "source": [
    "pred.mean.device, target[0].device"
   ]
  },
  {
   "cell_type": "code",
   "execution_count": null,
   "id": "0004c085-0e0c-4914-b3fc-ed66a319d1a8",
   "metadata": {},
   "outputs": [
    {
     "data": {
      "text/plain": [
       "(torch.Size([10, 200, 3]), torch.Size([10, 200, 3]))"
      ]
     },
     "execution_count": null,
     "metadata": {},
     "output_type": "execute_result"
    }
   ],
   "source": [
    "pred.mean.shape, target[0].shape"
   ]
  },
  {
   "cell_type": "code",
   "execution_count": null,
   "id": "7a5c8b20-50f2-4a5a-b291-69e91f466480",
   "metadata": {},
   "outputs": [
    {
     "data": {
      "text/plain": [
       "torch.Size([10, 200, 3])"
      ]
     },
     "execution_count": null,
     "metadata": {},
     "output_type": "execute_result"
    }
   ],
   "source": [
    "target[0].shape"
   ]
  },
  {
   "cell_type": "code",
   "execution_count": null,
   "id": "b4ae234a-f1de-401b-9197-ffe5952d6ff0",
   "metadata": {},
   "outputs": [
    {
     "data": {
      "text/plain": [
       "tensor(3449.2515, grad_fn=<MeanBackward0>)"
      ]
     },
     "execution_count": null,
     "metadata": {},
     "output_type": "execute_result"
    }
   ],
   "source": [
    "KalmanLoss(only_gap=False, reduction='mean')(pred, target)"
   ]
  },
  {
   "cell_type": "markdown",
   "id": "dbc02d69-7930-47b8-9543-d07998f3baa6",
   "metadata": {},
   "source": [
    "### Metrics"
   ]
  },
  {
   "cell_type": "code",
   "execution_count": null,
   "id": "ecb56cca-0278-4882-85d6-ce4ea1758aa4",
   "metadata": {},
   "outputs": [],
   "source": [
    "#| export\n",
    "from sklearn.metrics import r2_score, mean_squared_error"
   ]
  },
  {
   "cell_type": "code",
   "execution_count": null,
   "id": "48c59f82-5aa9-48b7-9222-1e656dd81701",
   "metadata": {},
   "outputs": [],
   "source": [
    "pred0, targ = target[0][0].detach().cpu(), pred[0][0].detach().cpu() "
   ]
  },
  {
   "cell_type": "code",
   "execution_count": null,
   "id": "e9761278-d151-42c8-9bdb-e2c2c63069c0",
   "metadata": {},
   "outputs": [
    {
     "data": {
      "text/plain": [
       "(torch.Size([200, 3]), torch.Size([200, 3]))"
      ]
     },
     "execution_count": null,
     "metadata": {},
     "output_type": "execute_result"
    }
   ],
   "source": [
    "pred0.shape, targ.shape"
   ]
  },
  {
   "cell_type": "markdown",
   "id": "e09871de-8a2a-408e-b6fc-8a6c5214642b",
   "metadata": {},
   "source": [
    "The shape of the input is very important for the r2score, which cannot be batched and requires a needs to keep the multidimensional input"
   ]
  },
  {
   "cell_type": "markdown",
   "id": "9541db7f-eff5-4a59-b4c9-d243215870bf",
   "metadata": {},
   "source": [
    "$$ R^2(y, \\hat{y}) = 1 - \\frac{\\sum_{i=1}^{n} (y_i - \\hat{y}_i)^2}{\\sum_{i=1}^{n} (y_i - \\bar{y})^2} $$"
   ]
  },
  {
   "cell_type": "code",
   "execution_count": null,
   "id": "08ac0606-5a5d-4124-a310-e9040d96189c",
   "metadata": {},
   "outputs": [
    {
     "data": {
      "text/plain": [
       "-44.859557160462295"
      ]
     },
     "execution_count": null,
     "metadata": {},
     "output_type": "execute_result"
    }
   ],
   "source": [
    "r2_score(pred0, targ)"
   ]
  },
  {
   "cell_type": "code",
   "execution_count": null,
   "id": "a59a18e0-7f58-4d04-a682-43502f2d6f6c",
   "metadata": {},
   "outputs": [
    {
     "data": {
      "text/plain": [
       "array([-82.40850349,  -2.52230802, -49.64785997])"
      ]
     },
     "execution_count": null,
     "metadata": {},
     "output_type": "execute_result"
    }
   ],
   "source": [
    "r2_score(pred0, targ, multioutput=\"raw_values\")"
   ]
  },
  {
   "cell_type": "code",
   "execution_count": null,
   "id": "baee4bb3-5a6d-48dd-b954-4ded0673fee5",
   "metadata": {},
   "outputs": [
    {
     "data": {
      "text/plain": [
       "-15.672803450819654"
      ]
     },
     "execution_count": null,
     "metadata": {},
     "output_type": "execute_result"
    }
   ],
   "source": [
    "r2_score(pred0.flatten(), targ.flatten())"
   ]
  },
  {
   "cell_type": "markdown",
   "id": "4b4c5bb8-f144-4147-91bc-0e3ea661aac7",
   "metadata": {},
   "source": [
    "While for the `rmse` is okay to batch and flatten input. The only difference is how the mean is computed, which is a minor difference"
   ]
  },
  {
   "cell_type": "code",
   "execution_count": null,
   "id": "41819d28-6f3d-4850-97ac-d1ea6ff7c27e",
   "metadata": {},
   "outputs": [
    {
     "data": {
      "text/plain": [
       "12.148896"
      ]
     },
     "execution_count": null,
     "metadata": {},
     "output_type": "execute_result"
    }
   ],
   "source": [
    "mean_squared_error(pred0, targ)"
   ]
  },
  {
   "cell_type": "code",
   "execution_count": null,
   "id": "390f64f9-3b2c-4709-9440-933fd7878a81",
   "metadata": {},
   "outputs": [
    {
     "data": {
      "text/plain": [
       "12.148896"
      ]
     },
     "execution_count": null,
     "metadata": {},
     "output_type": "execute_result"
    }
   ],
   "source": [
    "mean_squared_error(pred0.flatten(), targ.flatten())"
   ]
  },
  {
   "cell_type": "markdown",
   "id": "6b485cfe-5fce-449b-810c-1884990f103b",
   "metadata": {},
   "source": [
    "Wrapper around fastai metrics to support masked tensors and normal distributions"
   ]
  },
  {
   "cell_type": "code",
   "execution_count": null,
   "id": "6e28f7a2-436a-4e7a-9e76-0ae778015e95",
   "metadata": {},
   "outputs": [],
   "source": [
    "#| export\n",
    "from fastai.metrics import *"
   ]
  },
  {
   "cell_type": "markdown",
   "id": "9cb98720-0cd6-4f8d-84fb-69ffb5639b14",
   "metadata": {},
   "source": [
    "The problem is that fastai metrics by default flatten everything ... so need to reimplement them"
   ]
  },
  {
   "cell_type": "code",
   "execution_count": null,
   "id": "ad179e7a-674e-4476-aec9-9ec4076999c3",
   "metadata": {},
   "outputs": [],
   "source": [
    "myr2 = skm_to_fastai(r2_score, flatten=False)"
   ]
  },
  {
   "cell_type": "code",
   "execution_count": null,
   "id": "b07424ce-d750-46e0-a479-a1ae8419eb44",
   "metadata": {},
   "outputs": [
    {
     "data": {
      "text/plain": [
       "-44.859557160462295"
      ]
     },
     "execution_count": null,
     "metadata": {},
     "output_type": "execute_result"
    }
   ],
   "source": [
    "myr2(pred[0][0], target[0][0])"
   ]
  },
  {
   "cell_type": "markdown",
   "id": "2e064d37-69f3-44c2-b06a-5f372ddc8596",
   "metadata": {},
   "source": [
    "but the mask is still flattening the data ...."
   ]
  },
  {
   "cell_type": "code",
   "execution_count": null,
   "id": "872976b7-d566-4d15-8723-2da96afbf6a0",
   "metadata": {},
   "outputs": [
    {
     "data": {
      "text/plain": [
       "torch.Size([200, 3])"
      ]
     },
     "execution_count": null,
     "metadata": {},
     "output_type": "execute_result"
    }
   ],
   "source": [
    "m = target[1][0]\n",
    "m.shape"
   ]
  },
  {
   "cell_type": "markdown",
   "id": "657a657c-4dfc-477b-9418-d35bbb7355fa",
   "metadata": {},
   "source": [
    "need to get the mask as a matrix and not as a vector, so drop columns and rows that are all true and then check the resulting mask is all False"
   ]
  },
  {
   "cell_type": "code",
   "execution_count": null,
   "id": "157aed50-3721-4981-ae13-b9136e2f783a",
   "metadata": {},
   "outputs": [
    {
     "data": {
      "text/plain": [
       "tensor([[False, False],\n",
       "        [False, False],\n",
       "        [False, False],\n",
       "        [False, False],\n",
       "        [False, False],\n",
       "        [False, False],\n",
       "        [False, False],\n",
       "        [False, False],\n",
       "        [False, False],\n",
       "        [False, False]])"
      ]
     },
     "execution_count": null,
     "metadata": {},
     "output_type": "execute_result"
    }
   ],
   "source": [
    "mask_sub = m[:, ~m.all(0)][~m.all(1),:]\n",
    "mask_sub"
   ]
  },
  {
   "cell_type": "code",
   "execution_count": null,
   "id": "937fbd11-1ff7-4178-8349-e019c69f55d9",
   "metadata": {},
   "outputs": [
    {
     "data": {
      "text/plain": [
       "tensor(True)"
      ]
     },
     "execution_count": null,
     "metadata": {},
     "output_type": "execute_result"
    }
   ],
   "source": [
    "~mask_sub.any()"
   ]
  },
  {
   "cell_type": "code",
   "execution_count": null,
   "id": "631b14a5-59da-4129-bc27-8df3ff112d0b",
   "metadata": {},
   "outputs": [
    {
     "data": {
      "text/plain": [
       "tensor([[False,  True],\n",
       "        [False, False],\n",
       "        [False, False],\n",
       "        [False, False],\n",
       "        [False, False],\n",
       "        [False, False],\n",
       "        [False, False],\n",
       "        [False, False],\n",
       "        [False, False],\n",
       "        [False, False],\n",
       "        [False, False]])"
      ]
     },
     "execution_count": null,
     "metadata": {},
     "output_type": "execute_result"
    }
   ],
   "source": [
    "m2 = m.clone()\n",
    "m2[0,0] = False\n",
    "m2[:, ~m2.all(0)][~m2.all(1),:]"
   ]
  },
  {
   "cell_type": "code",
   "execution_count": null,
   "id": "dad52498-03b4-4aac-a8d6-bf7dc6f1cab1",
   "metadata": {},
   "outputs": [],
   "source": [
    "#| export\n",
    "class ImpMetric:\n",
    "    def __init__(self, metric, name, only_gap=False, flatten=False):\n",
    "        store_attr()\n",
    "    @property\n",
    "    def __name__(self): return  self.name + (\"_gap\" if self.only_gap else \"\")\n",
    "    def _metric_batch(self, pred, targ):\n",
    "        return self.metric(pred, targ)\n",
    "    def _metric_batch_gap(self, pred, targ, mask):\n",
    "        row_sel, col_sel = ~mask.all(1), ~mask.all(0)\n",
    "        assert not mask[:, col_sel][row_sel, :].any() # all data is missing in mask\n",
    "        return self.metric(pred[:, col_sel][row_sel, :], targ[:, col_sel][row_sel, :])\n",
    "    def __call__(self, pred: NormalsParams, targ: MeteoImpTensor):\n",
    "        mean, _ = pred\n",
    "        data, mask, _ = targ\n",
    "        metric_values = torch.empty(mean.shape[0])\n",
    "        for i in range(metric_values.shape[0]):\n",
    "            metric_values[i] = (self._metric_batch_gap(mean[i], data[i], mask[i]) if self.only_gap\n",
    "            else self._metric_batch(mean[i], data[i]))\n",
    "        return metric_values.mean().item()\n",
    "    "
   ]
  },
  {
   "cell_type": "code",
   "execution_count": null,
   "id": "2cf5ca04-9708-44ba-b030-b6a00618717b",
   "metadata": {},
   "outputs": [],
   "source": [
    "#| export\n",
    "rmse_mask = ImpMetric(rmse, 'rmse')\n",
    "rmse_gap = ImpMetric(rmse, 'rmse', only_gap=True)"
   ]
  },
  {
   "cell_type": "code",
   "execution_count": null,
   "id": "03400da3-5edb-4503-bd71-45bc5f374645",
   "metadata": {},
   "outputs": [
    {
     "data": {
      "text/plain": [
       "('rmse', 'rmse')"
      ]
     },
     "execution_count": null,
     "metadata": {},
     "output_type": "execute_result"
    }
   ],
   "source": [
    "rmse_mask.name, rmse_gap.name"
   ]
  },
  {
   "cell_type": "code",
   "execution_count": null,
   "id": "c9625669-a704-4e74-94c6-9d4b2034f91b",
   "metadata": {},
   "outputs": [
    {
     "data": {
      "text/plain": [
       "3.771059036254883"
      ]
     },
     "execution_count": null,
     "metadata": {},
     "output_type": "execute_result"
    }
   ],
   "source": [
    "rmse_mask(pred, target)"
   ]
  },
  {
   "cell_type": "code",
   "execution_count": null,
   "id": "855b68f5-41a7-4fe9-baa1-1996242883b3",
   "metadata": {},
   "outputs": [
    {
     "data": {
      "text/plain": [
       "3.2700576782226562"
      ]
     },
     "execution_count": null,
     "metadata": {},
     "output_type": "execute_result"
    }
   ],
   "source": [
    "rmse_gap(pred, target)"
   ]
  },
  {
   "cell_type": "code",
   "execution_count": null,
   "id": "5a00fcc0-9561-4000-8ea5-71423671d4e4",
   "metadata": {},
   "outputs": [],
   "source": [
    "#| export\n",
    "multi_r2 = skm_to_fastai(r2_score, flatten=False)\n",
    "r2_mask = ImpMetric(multi_r2, 'r2')\n",
    "r2_gap = ImpMetric(multi_r2, 'r2', only_gap=True)"
   ]
  },
  {
   "cell_type": "code",
   "execution_count": null,
   "id": "00ce801a-1a26-4c54-9d9b-e642b884539e",
   "metadata": {},
   "outputs": [
    {
     "data": {
      "text/plain": [
       "('r2', 'r2')"
      ]
     },
     "execution_count": null,
     "metadata": {},
     "output_type": "execute_result"
    }
   ],
   "source": [
    "r2_mask.name, r2_gap.name"
   ]
  },
  {
   "cell_type": "code",
   "execution_count": null,
   "id": "17d103a8-9d3e-4e5f-b109-a3bc233da651",
   "metadata": {},
   "outputs": [
    {
     "data": {
      "text/plain": [
       "(-308.00872802734375, -3104.080322265625)"
      ]
     },
     "execution_count": null,
     "metadata": {},
     "output_type": "execute_result"
    }
   ],
   "source": [
    "r2_mask(pred, target), r2_gap(pred, target)"
   ]
  },
  {
   "cell_type": "code",
   "execution_count": null,
   "id": "c86c0fb8-e80f-4140-8d0b-68bdd66ab144",
   "metadata": {},
   "outputs": [],
   "source": [
    "#| export\n",
    "imp_metrics =  [rmse_mask, rmse_gap, r2_mask, r2_gap]"
   ]
  },
  {
   "cell_type": "markdown",
   "id": "73470c88-47dc-4187-a208-789f24c23a3e",
   "metadata": {},
   "source": [
    "### Callback"
   ]
  },
  {
   "cell_type": "markdown",
   "id": "96c199ec-b21c-401d-bd3c-16670de8e372",
   "metadata": {},
   "source": [
    "save the model state "
   ]
  },
  {
   "cell_type": "code",
   "execution_count": null,
   "id": "c9f34e5c-1cf5-4c04-b7e0-89e2e33b9aa1",
   "metadata": {},
   "outputs": [],
   "source": [
    "#| export\n",
    "from fastai.callback.all import *"
   ]
  },
  {
   "cell_type": "code",
   "execution_count": null,
   "id": "c6bbe197-91eb-4fb2-ae15-f2d463914902",
   "metadata": {},
   "outputs": [],
   "source": [
    "#| export\n",
    "class SaveParams(Callback):\n",
    "    def __init__(self, param_name):\n",
    "        super().__init__()\n",
    "        self.params = []\n",
    "        self.param_name = param_name\n",
    "    def after_batch(self):\n",
    "        param = getattr(self.model, self.param_name).detach()\n",
    "        self.params.append(param)"
   ]
  },
  {
   "cell_type": "code",
   "execution_count": null,
   "id": "206b2efc-a26e-4ed7-b9a8-df1ce7a605b4",
   "metadata": {},
   "outputs": [],
   "source": [
    "#| export\n",
    "class SaveParams(Callback):\n",
    "    def __init__(self, param_name):\n",
    "        super().__init__()\n",
    "        self.params = []\n",
    "        self.param_name = param_name\n",
    "    def after_batch(self):\n",
    "        param = getattr(self.model, self.param_name).detach()\n",
    "        self.params.append(param)"
   ]
  },
  {
   "cell_type": "code",
   "execution_count": null,
   "id": "c2d2eb9e-eea2-40eb-918a-e8575cb20323",
   "metadata": {},
   "outputs": [],
   "source": [
    "debug_preds = []"
   ]
  },
  {
   "cell_type": "code",
   "execution_count": null,
   "id": "26d2f05f-fd23-4393-b5e8-f9800cc36f78",
   "metadata": {},
   "outputs": [],
   "source": [
    "class DebugPredCallback(Callback):\n",
    "    order = 0\n",
    "    def after_validate(self):\n",
    "        if hasattr(self, 'gather_preds'):\n",
    "            debug_preds.append(self.gather_preds.preds)"
   ]
  },
  {
   "cell_type": "markdown",
   "id": "99617495-ab91-4a00-8371-91011ba551ba",
   "metadata": {},
   "source": [
    "### Learner"
   ]
  },
  {
   "cell_type": "code",
   "execution_count": null,
   "id": "87ad92d0-4b9a-4f10-817d-c213366fe83a",
   "metadata": {},
   "outputs": [],
   "source": [
    "#| export\n",
    "from fastai.learner import * \n",
    "\n",
    "from fastai.tabular.all import *\n",
    "\n",
    "from fastai.tabular.learner import *\n",
    "\n",
    "from fastai.callback.progress import ShowGraphCallback"
   ]
  },
  {
   "cell_type": "code",
   "execution_count": null,
   "id": "8bb68031-bc19-4c2f-b82b-201939013bbc",
   "metadata": {},
   "outputs": [],
   "source": [
    "obs_cov_history = SaveParams('obs_cov')"
   ]
  },
  {
   "cell_type": "code",
   "execution_count": null,
   "id": "fdb75dd6-f0af-4c50-bc80-2436b28b4db3",
   "metadata": {},
   "outputs": [],
   "source": [
    "all_data = CollectDataCallback()"
   ]
  },
  {
   "cell_type": "code",
   "execution_count": null,
   "id": "25efc678-791b-4599-87d3-820ace3f7263",
   "metadata": {},
   "outputs": [],
   "source": [
    "model = KalmanFilter.init_random(n_dim_obs = hai.shape[1], n_dim_state = hai.shape[1], n_dim_contr = hai_era.shape[-1]*control_repeat).cuda()"
   ]
  },
  {
   "cell_type": "code",
   "execution_count": null,
   "id": "cb235adb-78de-430e-8eb4-c279347e4045",
   "metadata": {},
   "outputs": [],
   "source": [
    "# model._set_constraint('obs_cov', model.obs_cov, train=False)"
   ]
  },
  {
   "cell_type": "code",
   "execution_count": null,
   "id": "84eb6fff-dbce-4d24-a796-558e03f9e306",
   "metadata": {},
   "outputs": [],
   "source": [
    "dls = imp_dataloader(hai[:20000], hai_era, var_sel, gap_len, block_len, control_lags, 2, bs=2)"
   ]
  },
  {
   "cell_type": "code",
   "execution_count": null,
   "id": "db0f5e59-de01-4c9c-acc0-becfe69866a2",
   "metadata": {},
   "outputs": [
    {
     "data": {
      "text/plain": [
       "device(type='cuda', index=0)"
      ]
     },
     "execution_count": null,
     "metadata": {},
     "output_type": "execute_result"
    }
   ],
   "source": [
    "dls.one_batch()[0][0].device"
   ]
  },
  {
   "cell_type": "code",
   "execution_count": null,
   "id": "5b218c03-1a48-43a2-8822-7f6ee03cf7be",
   "metadata": {},
   "outputs": [],
   "source": [
    "input, target = dls.one_batch()"
   ]
  },
  {
   "cell_type": "code",
   "execution_count": null,
   "id": "e780d5ce-a904-4fc6-a60b-6ab6e28dc05e",
   "metadata": {},
   "outputs": [
    {
     "data": {
      "text/plain": [
       "tensor(4.8269, device='cuda:0', grad_fn=<MeanBackward0>)"
      ]
     },
     "execution_count": null,
     "metadata": {},
     "output_type": "execute_result"
    }
   ],
   "source": [
    "pred = model(input)\n",
    "KalmanLoss()(pred, target)"
   ]
  },
  {
   "cell_type": "code",
   "execution_count": null,
   "id": "c508264f-ca12-4f8f-93cc-9245fa84e7d9",
   "metadata": {},
   "outputs": [],
   "source": [
    "learn = Learner(dls, model, loss_func=KalmanLoss(only_gap=False), cbs = [DebugPredCallback] , metrics = imp_metrics)"
   ]
  },
  {
   "cell_type": "code",
   "execution_count": null,
   "id": "eef1826f-78e6-4654-a92f-dca07b2ddb7e",
   "metadata": {},
   "outputs": [
    {
     "data": {
      "text/html": [
       "\n",
       "<style>\n",
       "    /* Turns off some styling */\n",
       "    progress {\n",
       "        /* gets rid of default border in Firefox and Opera. */\n",
       "        border: none;\n",
       "        /* Needs to be in here for Safari polyfill so background images work as expected. */\n",
       "        background-size: auto;\n",
       "    }\n",
       "    progress:not([value]), progress:not([value])::-webkit-progress-bar {\n",
       "        background: repeating-linear-gradient(45deg, #7e7e7e, #7e7e7e 10px, #5c5c5c 10px, #5c5c5c 20px);\n",
       "    }\n",
       "    .progress-bar-interrupted, .progress-bar-interrupted::-webkit-progress-bar {\n",
       "        background: #F44336;\n",
       "    }\n",
       "</style>\n"
      ],
      "text/plain": [
       "<IPython.core.display.HTML object>"
      ]
     },
     "metadata": {},
     "output_type": "display_data"
    },
    {
     "data": {
      "text/html": [
       "<table border=\"1\" class=\"dataframe\">\n",
       "  <thead>\n",
       "    <tr style=\"text-align: left;\">\n",
       "      <th>epoch</th>\n",
       "      <th>train_loss</th>\n",
       "      <th>valid_loss</th>\n",
       "      <th>rmse</th>\n",
       "      <th>rmse_gap</th>\n",
       "      <th>r2</th>\n",
       "      <th>r2_gap</th>\n",
       "      <th>time</th>\n",
       "    </tr>\n",
       "  </thead>\n",
       "  <tbody>\n",
       "    <tr>\n",
       "      <td>0</td>\n",
       "      <td>20.619263</td>\n",
       "      <td>19.848585</td>\n",
       "      <td>0.150341</td>\n",
       "      <td>0.167943</td>\n",
       "      <td>-1027.213139</td>\n",
       "      <td>-12404.165356</td>\n",
       "      <td>01:35</td>\n",
       "    </tr>\n",
       "  </tbody>\n",
       "</table>"
      ],
      "text/plain": [
       "<IPython.core.display.HTML object>"
      ]
     },
     "metadata": {},
     "output_type": "display_data"
    }
   ],
   "source": [
    "learn.fit(1, 1e-3)"
   ]
  },
  {
   "cell_type": "code",
   "execution_count": null,
   "id": "38669d4e-30cc-434b-b175-03542454be95",
   "metadata": {},
   "outputs": [],
   "source": [
    "learn = Learner(dls, model, loss_func=KalmanLoss(only_gap=True), cbs = [DebugPredCallback] , metrics = imp_metrics)"
   ]
  },
  {
   "cell_type": "code",
   "execution_count": null,
   "id": "b19f6072-7c7d-46b5-9ff6-50dafe002e4c",
   "metadata": {},
   "outputs": [
    {
     "data": {
      "text/html": [
       "\n",
       "<style>\n",
       "    /* Turns off some styling */\n",
       "    progress {\n",
       "        /* gets rid of default border in Firefox and Opera. */\n",
       "        border: none;\n",
       "        /* Needs to be in here for Safari polyfill so background images work as expected. */\n",
       "        background-size: auto;\n",
       "    }\n",
       "    progress:not([value]), progress:not([value])::-webkit-progress-bar {\n",
       "        background: repeating-linear-gradient(45deg, #7e7e7e, #7e7e7e 10px, #5c5c5c 10px, #5c5c5c 20px);\n",
       "    }\n",
       "    .progress-bar-interrupted, .progress-bar-interrupted::-webkit-progress-bar {\n",
       "        background: #F44336;\n",
       "    }\n",
       "</style>\n"
      ],
      "text/plain": [
       "<IPython.core.display.HTML object>"
      ]
     },
     "metadata": {},
     "output_type": "display_data"
    },
    {
     "data": {
      "text/html": [
       "<table border=\"1\" class=\"dataframe\">\n",
       "  <thead>\n",
       "    <tr style=\"text-align: left;\">\n",
       "      <th>epoch</th>\n",
       "      <th>train_loss</th>\n",
       "      <th>valid_loss</th>\n",
       "      <th>rmse</th>\n",
       "      <th>rmse_gap</th>\n",
       "      <th>r2</th>\n",
       "      <th>r2_gap</th>\n",
       "      <th>time</th>\n",
       "    </tr>\n",
       "  </thead>\n",
       "  <tbody>\n",
       "    <tr>\n",
       "      <td>0</td>\n",
       "      <td>1.752472</td>\n",
       "      <td>1.391766</td>\n",
       "      <td>0.136404</td>\n",
       "      <td>0.145466</td>\n",
       "      <td>-576.202639</td>\n",
       "      <td>-10002.387744</td>\n",
       "      <td>01:46</td>\n",
       "    </tr>\n",
       "  </tbody>\n",
       "</table>"
      ],
      "text/plain": [
       "<IPython.core.display.HTML object>"
      ]
     },
     "metadata": {},
     "output_type": "display_data"
    }
   ],
   "source": [
    "learn.fit(1, 1e-3)"
   ]
  },
  {
   "cell_type": "markdown",
   "id": "84002608-9491-4335-86fb-d40d3946f2ae",
   "metadata": {},
   "source": [
    "#### Float64"
   ]
  },
  {
   "cell_type": "code",
   "execution_count": null,
   "id": "69191be7-ac68-4616-8e4b-460fb786769f",
   "metadata": {},
   "outputs": [],
   "source": [
    "model64 = KalmanFilter.init_random(hai.shape[1], hai.shape[1], n_dim_contr = hai_era.shape[-1]*control_repeat, dtype=torch.float64).cuda()"
   ]
  },
  {
   "cell_type": "code",
   "execution_count": null,
   "id": "5bfcc6cf-a46d-4e69-a570-47adb86251d9",
   "metadata": {},
   "outputs": [],
   "source": [
    "#| export\n",
    "class Float64Callback(Callback):\n",
    "    order = Recorder.order + 10 # run after Recorder \n",
    "    def before_fit(self):\n",
    "        self.recorder.smooth_loss.val = torch.tensor(0, dtype=torch.float64) # default is a float 32"
   ]
  },
  {
   "cell_type": "code",
   "execution_count": null,
   "id": "69e1f814-b1f8-48e1-a098-e37234d4b451",
   "metadata": {},
   "outputs": [],
   "source": [
    "dls64 = imp_dataloader(hai64[:20000], hai_era64, var_sel = var_sel, block_len = 10, gap_len = 2, control_lags = [1], bs=10, n_rep=2)"
   ]
  },
  {
   "cell_type": "code",
   "execution_count": null,
   "id": "a0142fdc-5c85-45d1-a13f-b2f0839b0636",
   "metadata": {},
   "outputs": [],
   "source": [
    "input64 = dls64.one_batch()[0]\n",
    "target64 = dls64.one_batch()[1]"
   ]
  },
  {
   "cell_type": "code",
   "execution_count": null,
   "id": "06e93c8b-f74d-4382-8fb2-54d83aec5fcb",
   "metadata": {},
   "outputs": [],
   "source": [
    "data64, mask64, contr64 = input64"
   ]
  },
  {
   "cell_type": "code",
   "execution_count": null,
   "id": "1cc98d35-4a67-496d-acc7-a9bd5d884a52",
   "metadata": {},
   "outputs": [
    {
     "data": {
      "text/plain": [
       "(torch.float64, torch.float64, torch.float64, device(type='cuda', index=0))"
      ]
     },
     "execution_count": null,
     "metadata": {},
     "output_type": "execute_result"
    }
   ],
   "source": [
    "data64.dtype, data64.dtype, contr64.dtype, data64.device"
   ]
  },
  {
   "cell_type": "code",
   "execution_count": null,
   "id": "59d35c5d-ce51-476d-85ce-8502ae6d17e6",
   "metadata": {},
   "outputs": [],
   "source": [
    "model64.predict(data64, mask64, contr64);"
   ]
  },
  {
   "cell_type": "code",
   "execution_count": null,
   "id": "30e0a335-4e18-42a1-a847-baacdab94ee5",
   "metadata": {},
   "outputs": [],
   "source": [
    "pred = model64(input64)"
   ]
  },
  {
   "cell_type": "code",
   "execution_count": null,
   "id": "4931c465-98fa-4a47-bd1d-4abc91cd739f",
   "metadata": {},
   "outputs": [
    {
     "data": {
      "text/plain": [
       "tensor(4.5162, device='cuda:0', grad_fn=<MeanBackward0>)"
      ]
     },
     "execution_count": null,
     "metadata": {},
     "output_type": "execute_result"
    }
   ],
   "source": [
    "KalmanLoss()(pred, target)"
   ]
  },
  {
   "cell_type": "code",
   "execution_count": null,
   "id": "59fc2923-1419-4036-b05e-c73c34465bb6",
   "metadata": {},
   "outputs": [],
   "source": [
    "learn64 = Learner(dls64, model64, loss_func=KalmanLoss(), cbs = [Float64Callback] , metrics = imp_metrics)"
   ]
  },
  {
   "cell_type": "code",
   "execution_count": null,
   "id": "8f8f50e9-133a-4dfe-966d-2c5650fa416a",
   "metadata": {},
   "outputs": [
    {
     "data": {
      "text/html": [
       "\n",
       "<style>\n",
       "    /* Turns off some styling */\n",
       "    progress {\n",
       "        /* gets rid of default border in Firefox and Opera. */\n",
       "        border: none;\n",
       "        /* Needs to be in here for Safari polyfill so background images work as expected. */\n",
       "        background-size: auto;\n",
       "    }\n",
       "    progress:not([value]), progress:not([value])::-webkit-progress-bar {\n",
       "        background: repeating-linear-gradient(45deg, #7e7e7e, #7e7e7e 10px, #5c5c5c 10px, #5c5c5c 20px);\n",
       "    }\n",
       "    .progress-bar-interrupted, .progress-bar-interrupted::-webkit-progress-bar {\n",
       "        background: #F44336;\n",
       "    }\n",
       "</style>\n"
      ],
      "text/plain": [
       "<IPython.core.display.HTML object>"
      ]
     },
     "metadata": {},
     "output_type": "display_data"
    },
    {
     "data": {
      "text/html": [
       "<table border=\"1\" class=\"dataframe\">\n",
       "  <thead>\n",
       "    <tr style=\"text-align: left;\">\n",
       "      <th>epoch</th>\n",
       "      <th>train_loss</th>\n",
       "      <th>valid_loss</th>\n",
       "      <th>rmse</th>\n",
       "      <th>rmse_gap</th>\n",
       "      <th>r2</th>\n",
       "      <th>r2_gap</th>\n",
       "      <th>time</th>\n",
       "    </tr>\n",
       "  </thead>\n",
       "  <tbody>\n",
       "    <tr>\n",
       "      <td>0</td>\n",
       "      <td>4.509624</td>\n",
       "      <td>4.509314</td>\n",
       "      <td>0.469744</td>\n",
       "      <td>0.480389</td>\n",
       "      <td>-1271816046246544181264654532608.000000</td>\n",
       "      <td>-48821.499965</td>\n",
       "      <td>00:31</td>\n",
       "    </tr>\n",
       "  </tbody>\n",
       "</table>"
      ],
      "text/plain": [
       "<IPython.core.display.HTML object>"
      ]
     },
     "metadata": {},
     "output_type": "display_data"
    }
   ],
   "source": [
    "learn64.fit(1, 1e-3)"
   ]
  },
  {
   "cell_type": "markdown",
   "id": "748bb675-4e1a-4f1d-bf5b-b31bcf8d76e3",
   "metadata": {},
   "source": [
    "### Predictions"
   ]
  },
  {
   "cell_type": "markdown",
   "id": "6fd471c0-9266-4a63-bf13-e28742c3419c",
   "metadata": {},
   "source": [
    "The transformation pipeline is not working properly (there is a problem in `decode_batch` as the `_types` are more nested than the predictions, which results in an error) + the pipeline is anyway not reproducible + the test dataloaders seems that they are actually not deterministic .....\n",
    "soo reimplement everything almost from scratch\n",
    "\n",
    "see https://github.com/mone27/meteo_imp/blob/0335003405ec9bd3e3bd2641bc6d7924f34a0788/lib_nbs/kalman/10_fastai.ipynb for all details"
   ]
  },
  {
   "cell_type": "code",
   "execution_count": null,
   "id": "06b53296-e81d-463a-ab60-2150f99fc724",
   "metadata": {},
   "outputs": [],
   "source": [
    "#| export\n",
    "class NormalsDf:\n",
    "    \"\"\"DataFrames of Normal parameters (mean and std)\"\"\"\n",
    "    def __init__(self, mean, std): store_attr()\n",
    "    def tidy(self, prefix=\"\"):\n",
    "        \"\"\"Tidy version\"\"\"\n",
    "        mean = self.mean.reset_index().melt(\"time\", value_name=prefix + \"mean\")\n",
    "        std = self.std.reset_index().melt(\"time\", value_name=prefix + \"std\")\n",
    "        return pd.merge(mean, std, on=[\"time\", \"variable\"])\n",
    "    __repr__ = basic_repr(\"mean, std\")"
   ]
  },
  {
   "cell_type": "code",
   "execution_count": null,
   "id": "58fa359e-7abc-4605-81d6-c00a698f3307",
   "metadata": {},
   "outputs": [
    {
     "data": {
      "text/html": [
       "<div>\n",
       "  <p>\n",
       "    <strong>BlockIndexTransform</strong>\n",
       "  </p>\n",
       "  <p>(list,object) -&gt; encodes\n",
       "</p>\n",
       "  <p></p>\n",
       "</div>"
      ],
      "text/plain": [
       "BlockIndexTransform:\n",
       "encodes: (list,object) -> encodes\n",
       "decodes: "
      ]
     },
     "execution_count": null,
     "metadata": {},
     "output_type": "execute_result"
    }
   ],
   "source": [
    "tfms5.fs[0]"
   ]
  },
  {
   "cell_type": "code",
   "execution_count": null,
   "id": "a51638b1-2820-4642-a8ac-921a443b3558",
   "metadata": {},
   "outputs": [
    {
     "data": {
      "text/html": [
       "<div>\n",
       "  <span>TfmdLists. Items:</span>\n",
       "  <pre>(#4) [[800, 0],[801, 0],[802, 0],[803, 0]]</pre>\n",
       "  <ol start=\"0\">\n",
       "    <li>\n",
       "      <div>\n",
       "        <p>\n",
       "          <strong>BlockIndexTransform</strong>\n",
       "        </p>\n",
       "        <p>(list,object) -&gt; encodes\n",
       "</p>\n",
       "        <p></p>\n",
       "      </div>\n",
       "    </li>\n",
       "    <li>\n",
       "      <div>\n",
       "        <p>\n",
       "          <strong>BlockDfTransform</strong>\n",
       "        </p>\n",
       "        <p>(DatetimeIndex,object) -&gt; encodes\n",
       "</p>\n",
       "        <p></p>\n",
       "      </div>\n",
       "    </li>\n",
       "    <li>\n",
       "      <div>\n",
       "        <p>\n",
       "          <strong>AddGapTransform</strong>\n",
       "        </p>\n",
       "        <p>(DataControl,object) -&gt; encodes\n",
       "</p>\n",
       "        <p></p>\n",
       "      </div>\n",
       "    </li>\n",
       "    <li>\n",
       "      <div>\n",
       "        <p>\n",
       "          <strong>MeteoImpDf2Tensor</strong>\n",
       "        </p>\n",
       "        <p>(MeteoImpDf,object) -&gt; encodes\n",
       "</p>\n",
       "        <p></p>\n",
       "      </div>\n",
       "    </li>\n",
       "    <li>\n",
       "      <div>\n",
       "        <p>\n",
       "          <strong>MeteoImpNormalize -- {'mean_data': tensor([  8.3339, 120.9578,   3.3807]), 'std_data': tensor([  7.9246, 204.0026,   4.3684]), 'mean_control': tensor([  8.1948, 120.6864,   3.3253,   8.1948, 120.6864,   3.3253]), 'std_control': tensor([  7.5459, 187.1730,   3.6871,   7.5459, 187.1730,   3.6871])}</strong>\n",
       "        </p>\n",
       "        <p>(MeteoImpTensor,object) -&gt; encodes\n",
       "</p>\n",
       "        <p>(MeteoImpTensor,object) -&gt; decodes\n",
       "(NormalsParams,object) -&gt; decodes\n",
       "</p>\n",
       "      </div>\n",
       "    </li>\n",
       "    <li>\n",
       "      <div>\n",
       "        <p>\n",
       "          <strong>ToTuple</strong>\n",
       "        </p>\n",
       "        <p>(object,object) -&gt; encodes\n",
       "</p>\n",
       "        <p>(object,object) -&gt; decodes\n",
       "</p>\n",
       "      </div>\n",
       "    </li>\n",
       "  </ol>\n",
       "</div>"
      ],
      "text/plain": [
       "TfmdLists: [[800, 0], [801, 0], [802, 0], [803, 0]]\n",
       "tfms - [BlockIndexTransform:\n",
       "encodes: (list,object) -> encodes\n",
       "decodes: , BlockDfTransform:\n",
       "encodes: (DatetimeIndex,object) -> encodes\n",
       "decodes: , AddGapTransform:\n",
       "encodes: (DataControl,object) -> encodes\n",
       "decodes: , MeteoImpDf2Tensor:\n",
       "encodes: (MeteoImpDf,object) -> encodes\n",
       "decodes: , MeteoImpNormalize -- {'mean_data': tensor([  8.3339, 120.9578,   3.3807]), 'std_data': tensor([  7.9246, 204.0026,   4.3684]), 'mean_control': tensor([  8.1948, 120.6864,   3.3253,   8.1948, 120.6864,   3.3253]), 'std_control': tensor([  7.5459, 187.1730,   3.6871,   7.5459, 187.1730,   3.6871])}:\n",
       "encodes: (MeteoImpTensor,object) -> encodes\n",
       "decodes: (MeteoImpTensor,object) -> decodes\n",
       "(NormalsParams,object) -> decodes\n",
       ", ToTuple:\n",
       "encodes: (object,object) -> encodes\n",
       "decodes: (object,object) -> decodes\n",
       "]"
      ]
     },
     "execution_count": null,
     "metadata": {},
     "output_type": "execute_result"
    }
   ],
   "source": [
    "tfms5"
   ]
  },
  {
   "cell_type": "code",
   "execution_count": null,
   "id": "b4e97479-86d5-4198-932a-69c48568e6df",
   "metadata": {},
   "outputs": [
    {
     "data": {
      "text/plain": [
       "((#3) [BlockIndexTransform:\n",
       "encodes: (list,object) -> encodes\n",
       "decodes: ,BlockDfTransform:\n",
       "encodes: (DatetimeIndex,object) -> encodes\n",
       "decodes: ,AddGapTransform:\n",
       "encodes: (DataControl,object) -> encodes\n",
       "decodes: ],\n",
       " (#2) [MeteoImpDf2Tensor:\n",
       "encodes: (MeteoImpDf,object) -> encodes\n",
       "decodes: ,MeteoImpNormalize -- {'mean_data': tensor([  8.3339, 120.9578,   3.3807]), 'std_data': tensor([  7.9246, 204.0026,   4.3684]), 'mean_control': tensor([  8.1948, 120.6864,   3.3253,   8.1948, 120.6864,   3.3253]), 'std_control': tensor([  7.5459, 187.1730,   3.6871,   7.5459, 187.1730,   3.6871])}:\n",
       "encodes: (MeteoImpTensor,object) -> encodes\n",
       "decodes: (MeteoImpTensor,object) -> decodes\n",
       "(NormalsParams,object) -> decodes\n",
       "])"
      ]
     },
     "execution_count": null,
     "metadata": {},
     "output_type": "execute_result"
    }
   ],
   "source": [
    "pipe0, pipe1 = tfms5.fs[0,1,2], tfms5.fs[3,4] \n",
    "\n",
    "pipe0, pipe1"
   ]
  },
  {
   "cell_type": "code",
   "execution_count": null,
   "id": "43fc7416-d6a1-4376-8d2b-1948b525fee1",
   "metadata": {},
   "outputs": [],
   "source": [
    "#| export\n",
    "def preds2df(preds, targs):\n",
    "    \"\"\"Final step to decode preds by getting a dataframe\"\"\"\n",
    "    # preds this is a tuple (data, mask)\n",
    "    out = []\n",
    "    for pred, targ in zip(preds, targs):\n",
    "        # convert to dataframe using structure for\n",
    "        mean = pd.DataFrame(pred[0].squeeze(0).detach().cpu().numpy(), columns = targ.data.columns, index=targ.data.index)\n",
    "        std = pd.DataFrame(pred[1].squeeze(0).detach().cpu().numpy(), columns = targ.data.columns, index=targ.data.index)\n",
    "        out.append(NormalsDf(mean, std))\n",
    "    return out"
   ]
  },
  {
   "cell_type": "code",
   "execution_count": null,
   "id": "b45a64ab-60b0-4f48-8df8-6ee40055ba14",
   "metadata": {},
   "outputs": [],
   "source": [
    "#| export\n",
    "def predict_items(items, learn, pipe0, pipe1):\n",
    "    pipe0, pipe1 = Pipeline(pipe0), Pipeline(pipe1)\n",
    "    preds, targs, losses, metrics, controls = [], [], [], [], []\n",
    "    for item in items:\n",
    "        targ = pipe0(item)\n",
    "        data, mask, control = pipe1(targ)\n",
    "        input = MeteoImpTensor(data.cuda().unsqueeze(0), mask.cuda().unsqueeze(0), control.cuda().unsqueeze(0))\n",
    "        pred = learn.model(input)\n",
    "        loss = learn.loss_func(pred, input) # the `input` is the actually transformed data, while `targ` isn't\n",
    "        metrics.append({metric.name: metric.func(pred, input) for metric in learn.metrics})\n",
    "        # denormalize\n",
    "        pred = pipe1.decode(pred)\n",
    "        preds.append(pred), targs.append(targ), losses.append(loss)\n",
    "        \n",
    "    return preds2df(preds, targs), targs, losses, metrics\n",
    "        "
   ]
  },
  {
   "cell_type": "code",
   "execution_count": null,
   "id": "b69146c1-1df0-407f-8746-5997f297b687",
   "metadata": {},
   "outputs": [],
   "source": [
    "preds, targs, losses, metrics = predict_items([[0,0],[1,0],[3,0]], learn, pipe0, pipe1)"
   ]
  },
  {
   "cell_type": "code",
   "execution_count": null,
   "id": "0b1c488f-cec4-41c0-985b-08ef798eb689",
   "metadata": {},
   "outputs": [
    {
     "data": {
      "text/html": [
       "<div>\n",
       "<style scoped>\n",
       "    .dataframe tbody tr th:only-of-type {\n",
       "        vertical-align: middle;\n",
       "    }\n",
       "\n",
       "    .dataframe tbody tr th {\n",
       "        vertical-align: top;\n",
       "    }\n",
       "\n",
       "    .dataframe thead th {\n",
       "        text-align: right;\n",
       "    }\n",
       "</style>\n",
       "<table border=\"1\" class=\"dataframe\">\n",
       "  <thead>\n",
       "    <tr style=\"text-align: right;\">\n",
       "      <th></th>\n",
       "      <th>TA</th>\n",
       "      <th>SW_IN</th>\n",
       "      <th>VPD</th>\n",
       "    </tr>\n",
       "    <tr>\n",
       "      <th>time</th>\n",
       "      <th></th>\n",
       "      <th></th>\n",
       "      <th></th>\n",
       "    </tr>\n",
       "  </thead>\n",
       "  <tbody>\n",
       "    <tr>\n",
       "      <th>2000-01-01 01:00:00</th>\n",
       "      <td>True</td>\n",
       "      <td>True</td>\n",
       "      <td>True</td>\n",
       "    </tr>\n",
       "    <tr>\n",
       "      <th>2000-01-01 01:30:00</th>\n",
       "      <td>True</td>\n",
       "      <td>True</td>\n",
       "      <td>True</td>\n",
       "    </tr>\n",
       "    <tr>\n",
       "      <th>2000-01-01 02:00:00</th>\n",
       "      <td>True</td>\n",
       "      <td>True</td>\n",
       "      <td>True</td>\n",
       "    </tr>\n",
       "    <tr>\n",
       "      <th>2000-01-01 02:30:00</th>\n",
       "      <td>True</td>\n",
       "      <td>True</td>\n",
       "      <td>True</td>\n",
       "    </tr>\n",
       "    <tr>\n",
       "      <th>2000-01-01 03:00:00</th>\n",
       "      <td>True</td>\n",
       "      <td>True</td>\n",
       "      <td>True</td>\n",
       "    </tr>\n",
       "    <tr>\n",
       "      <th>2000-01-01 03:30:00</th>\n",
       "      <td>True</td>\n",
       "      <td>True</td>\n",
       "      <td>True</td>\n",
       "    </tr>\n",
       "    <tr>\n",
       "      <th>2000-01-01 04:00:00</th>\n",
       "      <td>True</td>\n",
       "      <td>True</td>\n",
       "      <td>True</td>\n",
       "    </tr>\n",
       "    <tr>\n",
       "      <th>2000-01-01 04:30:00</th>\n",
       "      <td>True</td>\n",
       "      <td>True</td>\n",
       "      <td>True</td>\n",
       "    </tr>\n",
       "    <tr>\n",
       "      <th>2000-01-01 05:00:00</th>\n",
       "      <td>True</td>\n",
       "      <td>True</td>\n",
       "      <td>True</td>\n",
       "    </tr>\n",
       "    <tr>\n",
       "      <th>2000-01-01 05:30:00</th>\n",
       "      <td>True</td>\n",
       "      <td>True</td>\n",
       "      <td>True</td>\n",
       "    </tr>\n",
       "  </tbody>\n",
       "</table>\n",
       "</div>"
      ],
      "text/plain": [
       "                       TA  SW_IN   VPD\n",
       "time                                  \n",
       "2000-01-01 01:00:00  True   True  True\n",
       "2000-01-01 01:30:00  True   True  True\n",
       "2000-01-01 02:00:00  True   True  True\n",
       "2000-01-01 02:30:00  True   True  True\n",
       "2000-01-01 03:00:00  True   True  True\n",
       "2000-01-01 03:30:00  True   True  True\n",
       "2000-01-01 04:00:00  True   True  True\n",
       "2000-01-01 04:30:00  True   True  True\n",
       "2000-01-01 05:00:00  True   True  True\n",
       "2000-01-01 05:30:00  True   True  True"
      ]
     },
     "execution_count": null,
     "metadata": {},
     "output_type": "execute_result"
    }
   ],
   "source": [
    "predict_items([[0,0]], learn, pipe0, pipe1)[1][0].data == predict_items([[0,0]], learn, pipe0, pipe1)[1][0].data"
   ]
  },
  {
   "cell_type": "code",
   "execution_count": null,
   "id": "2491c1db-42f7-4ef0-97c4-1215a0848d60",
   "metadata": {},
   "outputs": [
    {
     "data": {
      "text/plain": [
       "[{'rmse': 0.10065293312072754,\n",
       "  'rmse_gap': 0.0664796307682991,\n",
       "  'r2': -63.429805755615234,\n",
       "  'r2_gap': -1717.8394775390625},\n",
       " {'rmse': 0.08947934955358505,\n",
       "  'rmse_gap': 0.06449507176876068,\n",
       "  'r2': -26.80200958251953,\n",
       "  'r2_gap': -7142.291015625},\n",
       " {'rmse': 0.08320702612400055,\n",
       "  'rmse_gap': 0.06998797506093979,\n",
       "  'r2': -266.775634765625,\n",
       "  'r2_gap': -165805.09375}]"
      ]
     },
     "execution_count": null,
     "metadata": {},
     "output_type": "execute_result"
    }
   ],
   "source": [
    "metrics"
   ]
  },
  {
   "cell_type": "markdown",
   "id": "9a1606c2-ee54-46be-8f57-dd5173134605",
   "metadata": {},
   "source": [
    "#### Plot results"
   ]
  },
  {
   "cell_type": "code",
   "execution_count": null,
   "id": "9b147d09-4d25-403f-a805-232773acac40",
   "metadata": {},
   "outputs": [
    {
     "data": {
      "text/html": [
       "<div>\n",
       "<style scoped>\n",
       "    .dataframe tbody tr th:only-of-type {\n",
       "        vertical-align: middle;\n",
       "    }\n",
       "\n",
       "    .dataframe tbody tr th {\n",
       "        vertical-align: top;\n",
       "    }\n",
       "\n",
       "    .dataframe thead th {\n",
       "        text-align: right;\n",
       "    }\n",
       "</style>\n",
       "<table border=\"1\" class=\"dataframe\">\n",
       "  <thead>\n",
       "    <tr style=\"text-align: right;\">\n",
       "      <th></th>\n",
       "      <th>TA_ERA</th>\n",
       "      <th>SW_IN_ERA</th>\n",
       "      <th>VPD_ERA</th>\n",
       "      <th>TA_ERA_lag_1</th>\n",
       "      <th>SW_IN_ERA_lag_1</th>\n",
       "      <th>VPD_ERA_lag_1</th>\n",
       "    </tr>\n",
       "    <tr>\n",
       "      <th>time</th>\n",
       "      <th></th>\n",
       "      <th></th>\n",
       "      <th></th>\n",
       "      <th></th>\n",
       "      <th></th>\n",
       "      <th></th>\n",
       "    </tr>\n",
       "  </thead>\n",
       "  <tbody>\n",
       "    <tr>\n",
       "      <th>2000-01-01 01:00:00</th>\n",
       "      <td>-0.390</td>\n",
       "      <td>0.0</td>\n",
       "      <td>0.399</td>\n",
       "      <td>-0.349</td>\n",
       "      <td>0.0</td>\n",
       "      <td>0.403</td>\n",
       "    </tr>\n",
       "    <tr>\n",
       "      <th>2000-01-01 01:30:00</th>\n",
       "      <td>-0.430</td>\n",
       "      <td>0.0</td>\n",
       "      <td>0.396</td>\n",
       "      <td>-0.390</td>\n",
       "      <td>0.0</td>\n",
       "      <td>0.399</td>\n",
       "    </tr>\n",
       "    <tr>\n",
       "      <th>2000-01-01 02:00:00</th>\n",
       "      <td>-0.439</td>\n",
       "      <td>0.0</td>\n",
       "      <td>0.411</td>\n",
       "      <td>-0.430</td>\n",
       "      <td>0.0</td>\n",
       "      <td>0.396</td>\n",
       "    </tr>\n",
       "    <tr>\n",
       "      <th>2000-01-01 02:30:00</th>\n",
       "      <td>-0.449</td>\n",
       "      <td>0.0</td>\n",
       "      <td>0.426</td>\n",
       "      <td>-0.439</td>\n",
       "      <td>0.0</td>\n",
       "      <td>0.411</td>\n",
       "    </tr>\n",
       "    <tr>\n",
       "      <th>2000-01-01 03:00:00</th>\n",
       "      <td>-0.458</td>\n",
       "      <td>0.0</td>\n",
       "      <td>0.442</td>\n",
       "      <td>-0.449</td>\n",
       "      <td>0.0</td>\n",
       "      <td>0.426</td>\n",
       "    </tr>\n",
       "    <tr>\n",
       "      <th>2000-01-01 03:30:00</th>\n",
       "      <td>-0.467</td>\n",
       "      <td>0.0</td>\n",
       "      <td>0.457</td>\n",
       "      <td>-0.458</td>\n",
       "      <td>0.0</td>\n",
       "      <td>0.442</td>\n",
       "    </tr>\n",
       "    <tr>\n",
       "      <th>2000-01-01 04:00:00</th>\n",
       "      <td>-0.477</td>\n",
       "      <td>0.0</td>\n",
       "      <td>0.472</td>\n",
       "      <td>-0.467</td>\n",
       "      <td>0.0</td>\n",
       "      <td>0.457</td>\n",
       "    </tr>\n",
       "    <tr>\n",
       "      <th>2000-01-01 04:30:00</th>\n",
       "      <td>-0.486</td>\n",
       "      <td>0.0</td>\n",
       "      <td>0.488</td>\n",
       "      <td>-0.477</td>\n",
       "      <td>0.0</td>\n",
       "      <td>0.472</td>\n",
       "    </tr>\n",
       "    <tr>\n",
       "      <th>2000-01-01 05:00:00</th>\n",
       "      <td>-0.417</td>\n",
       "      <td>0.0</td>\n",
       "      <td>0.492</td>\n",
       "      <td>-0.486</td>\n",
       "      <td>0.0</td>\n",
       "      <td>0.488</td>\n",
       "    </tr>\n",
       "    <tr>\n",
       "      <th>2000-01-01 05:30:00</th>\n",
       "      <td>-0.349</td>\n",
       "      <td>0.0</td>\n",
       "      <td>0.497</td>\n",
       "      <td>-0.417</td>\n",
       "      <td>0.0</td>\n",
       "      <td>0.492</td>\n",
       "    </tr>\n",
       "  </tbody>\n",
       "</table>\n",
       "</div>"
      ],
      "text/plain": [
       "                     TA_ERA  SW_IN_ERA  VPD_ERA  TA_ERA_lag_1  \\\n",
       "time                                                            \n",
       "2000-01-01 01:00:00  -0.390        0.0    0.399        -0.349   \n",
       "2000-01-01 01:30:00  -0.430        0.0    0.396        -0.390   \n",
       "2000-01-01 02:00:00  -0.439        0.0    0.411        -0.430   \n",
       "2000-01-01 02:30:00  -0.449        0.0    0.426        -0.439   \n",
       "2000-01-01 03:00:00  -0.458        0.0    0.442        -0.449   \n",
       "2000-01-01 03:30:00  -0.467        0.0    0.457        -0.458   \n",
       "2000-01-01 04:00:00  -0.477        0.0    0.472        -0.467   \n",
       "2000-01-01 04:30:00  -0.486        0.0    0.488        -0.477   \n",
       "2000-01-01 05:00:00  -0.417        0.0    0.492        -0.486   \n",
       "2000-01-01 05:30:00  -0.349        0.0    0.497        -0.417   \n",
       "\n",
       "                     SW_IN_ERA_lag_1  VPD_ERA_lag_1  \n",
       "time                                                 \n",
       "2000-01-01 01:00:00              0.0          0.403  \n",
       "2000-01-01 01:30:00              0.0          0.399  \n",
       "2000-01-01 02:00:00              0.0          0.396  \n",
       "2000-01-01 02:30:00              0.0          0.411  \n",
       "2000-01-01 03:00:00              0.0          0.426  \n",
       "2000-01-01 03:30:00              0.0          0.442  \n",
       "2000-01-01 04:00:00              0.0          0.457  \n",
       "2000-01-01 04:30:00              0.0          0.472  \n",
       "2000-01-01 05:00:00              0.0          0.488  \n",
       "2000-01-01 05:30:00              0.0          0.492  "
      ]
     },
     "execution_count": null,
     "metadata": {},
     "output_type": "execute_result"
    }
   ],
   "source": [
    "targs[0].control"
   ]
  },
  {
   "cell_type": "code",
   "execution_count": null,
   "id": "765716c9-d6c3-48b1-97da-40eef78c00fb",
   "metadata": {},
   "outputs": [],
   "source": [
    "#| export\n",
    "def format_metric(name, val):\n",
    "    val = f\"{val:.5}\" if abs(val) <1 else f\"{val:.5E}\"\n",
    "    return f\"{name}: {val}\""
   ]
  },
  {
   "cell_type": "code",
   "execution_count": null,
   "id": "7799bf37-003f-419a-a410-6e7b1c25719c",
   "metadata": {},
   "outputs": [],
   "source": [
    "#| export\n",
    "@delegates(facet_variable)\n",
    "def plot_result(pred, targ, loss, metrics, control=None, show_metric=True, **kwargs):\n",
    "    df = pd.merge(targ.tidy(control), pred.tidy(), on=[\"time\", \"variable\"])\n",
    "\n",
    "    title = [f\"loss: {loss.item():.6f}\"] + [format_metric(name, val) for name, val in metrics.items()]\n",
    "    return facet_variable(df, ys=[\"value\", \"mean\", \"control\"], error=True, control=bool(control), **kwargs).properties(title=title if show_metric else \"\")"
   ]
  },
  {
   "cell_type": "code",
   "execution_count": null,
   "id": "7881fd41-e876-42a1-ba94-bfc1efd18700",
   "metadata": {},
   "outputs": [],
   "source": [
    "y = \"mean\""
   ]
  },
  {
   "cell_type": "code",
   "execution_count": null,
   "id": "f4bd8f4e-a59e-4b1a-8e30-1cb2f0fab6f6",
   "metadata": {},
   "outputs": [
    {
     "data": {
      "text/html": [
       "\n",
       "<div id=\"altair-viz-32040d3a3269401cb5b937b71ed0e52b\"></div>\n",
       "<script type=\"text/javascript\">\n",
       "  var VEGA_DEBUG = (typeof VEGA_DEBUG == \"undefined\") ? {} : VEGA_DEBUG;\n",
       "  (function(spec, embedOpt){\n",
       "    let outputDiv = document.currentScript.previousElementSibling;\n",
       "    if (outputDiv.id !== \"altair-viz-32040d3a3269401cb5b937b71ed0e52b\") {\n",
       "      outputDiv = document.getElementById(\"altair-viz-32040d3a3269401cb5b937b71ed0e52b\");\n",
       "    }\n",
       "    const paths = {\n",
       "      \"vega\": \"https://cdn.jsdelivr.net/npm//vega@5?noext\",\n",
       "      \"vega-lib\": \"https://cdn.jsdelivr.net/npm//vega-lib?noext\",\n",
       "      \"vega-lite\": \"https://cdn.jsdelivr.net/npm//vega-lite@5.2.0?noext\",\n",
       "      \"vega-embed\": \"https://cdn.jsdelivr.net/npm//vega-embed@6?noext\",\n",
       "    };\n",
       "\n",
       "    function maybeLoadScript(lib, version) {\n",
       "      var key = `${lib.replace(\"-\", \"\")}_version`;\n",
       "      return (VEGA_DEBUG[key] == version) ?\n",
       "        Promise.resolve(paths[lib]) :\n",
       "        new Promise(function(resolve, reject) {\n",
       "          var s = document.createElement('script');\n",
       "          document.getElementsByTagName(\"head\")[0].appendChild(s);\n",
       "          s.async = true;\n",
       "          s.onload = () => {\n",
       "            VEGA_DEBUG[key] = version;\n",
       "            return resolve(paths[lib]);\n",
       "          };\n",
       "          s.onerror = () => reject(`Error loading script: ${paths[lib]}`);\n",
       "          s.src = paths[lib];\n",
       "        });\n",
       "    }\n",
       "\n",
       "    function showError(err) {\n",
       "      outputDiv.innerHTML = `<div class=\"error\" style=\"color:red;\">${err}</div>`;\n",
       "      throw err;\n",
       "    }\n",
       "\n",
       "    function displayChart(vegaEmbed) {\n",
       "      vegaEmbed(outputDiv, spec, embedOpt)\n",
       "        .catch(err => showError(`Javascript Error: ${err.message}<br>This usually means there's a typo in your chart specification. See the javascript console for the full traceback.`));\n",
       "    }\n",
       "\n",
       "    if(typeof define === \"function\" && define.amd) {\n",
       "      requirejs.config({paths});\n",
       "      require([\"vega-embed\"], displayChart, err => showError(`Error loading script: ${err.message}`));\n",
       "    } else {\n",
       "      maybeLoadScript(\"vega\", \"5\")\n",
       "        .then(() => maybeLoadScript(\"vega-lite\", \"5.2.0\"))\n",
       "        .then(() => maybeLoadScript(\"vega-embed\", \"6\"))\n",
       "        .catch(showError)\n",
       "        .then(() => displayChart(vegaEmbed));\n",
       "    }\n",
       "  })({\"config\": {\"view\": {\"continuousWidth\": 400, \"continuousHeight\": 300}}, \"vconcat\": [{\"hconcat\": [{\"layer\": [{\"data\": {\"name\": \"data-4385b809e056975c12bb0067e10712ea\"}, \"mark\": {\"type\": \"point\", \"color\": \"black\", \"fillOpacity\": 1, \"strokeWidth\": 1}, \"encoding\": {\"fill\": {\"field\": \"is_present\", \"legend\": {\"title\": [\"Observed data\"]}, \"scale\": {\"range\": [\"black\", \"#ffffff00\"]}, \"type\": \"nominal\"}, \"shape\": {\"field\": \"is_present\", \"type\": \"nominal\"}, \"x\": {\"axis\": {\"domain\": true, \"labels\": true, \"ticks\": true, \"title\": \"time\"}, \"field\": \"time\", \"type\": \"temporal\"}, \"y\": {\"field\": \"value\", \"scale\": {\"zero\": false}, \"title\": \"\", \"type\": \"quantitative\"}}}, {\"layer\": [{\"mark\": \"rule\", \"encoding\": {\"x\": {\"axis\": {\"domain\": false, \"labels\": false, \"ticks\": false, \"title\": null}, \"field\": \"gap_start\", \"type\": \"temporal\"}}}, {\"mark\": \"rule\", \"encoding\": {\"x\": {\"axis\": {\"domain\": false, \"labels\": false, \"ticks\": false, \"title\": null}, \"field\": \"gap_end\", \"type\": \"temporal\"}}}, {\"mark\": {\"type\": \"rect\", \"color\": \"black\", \"opacity\": 0.15}, \"encoding\": {\"x\": {\"axis\": {\"domain\": false, \"labels\": false, \"ticks\": false, \"title\": null}, \"field\": \"gap_start\", \"type\": \"temporal\"}, \"x2\": {\"field\": \"gap_end\"}}}], \"data\": {\"name\": \"data-d3647b7bf826706d87b620948e73edb1\"}}, {\"data\": {\"name\": \"data-4385b809e056975c12bb0067e10712ea\"}, \"mark\": \"errorband\", \"encoding\": {\"color\": {\"field\": \"variable\", \"legend\": {\"title\": [\"Line: pred. mean\", \"area: +/- 2 std\"]}, \"type\": \"nominal\"}, \"x\": {\"field\": \"time\", \"type\": \"temporal\"}, \"y\": {\"field\": \"err_low\", \"scale\": {\"zero\": false}, \"title\": \"\", \"type\": \"quantitative\"}, \"y2\": {\"field\": \"err_high\"}}, \"name\": \"view_23\"}, {\"data\": {\"name\": \"data-4385b809e056975c12bb0067e10712ea\"}, \"mark\": \"line\", \"encoding\": {\"color\": {\"field\": \"variable\", \"type\": \"nominal\"}, \"x\": {\"field\": \"time\", \"type\": \"temporal\"}, \"y\": {\"field\": \"mean\", \"scale\": {\"zero\": false}, \"title\": \"\", \"type\": \"quantitative\"}}}], \"height\": 150, \"title\": \"\", \"width\": 200}, {\"layer\": [{\"data\": {\"name\": \"data-cc01da4f090398b6bba008e0b867584d\"}, \"mark\": {\"type\": \"point\", \"color\": \"black\", \"fillOpacity\": 1, \"strokeWidth\": 1}, \"encoding\": {\"fill\": {\"field\": \"is_present\", \"legend\": {\"title\": [\"Observed data\"]}, \"scale\": {\"range\": [\"black\", \"#ffffff00\"]}, \"type\": \"nominal\"}, \"shape\": {\"field\": \"is_present\", \"type\": \"nominal\"}, \"x\": {\"axis\": {\"domain\": true, \"labels\": true, \"ticks\": true, \"title\": \"time\"}, \"field\": \"time\", \"type\": \"temporal\"}, \"y\": {\"field\": \"value\", \"scale\": {\"zero\": false}, \"title\": \"\", \"type\": \"quantitative\"}}}, {\"layer\": [{\"mark\": \"rule\", \"encoding\": {\"x\": {\"axis\": {\"domain\": false, \"labels\": false, \"ticks\": false, \"title\": null}, \"field\": \"gap_start\", \"type\": \"temporal\"}}}, {\"mark\": \"rule\", \"encoding\": {\"x\": {\"axis\": {\"domain\": false, \"labels\": false, \"ticks\": false, \"title\": null}, \"field\": \"gap_end\", \"type\": \"temporal\"}}}, {\"mark\": {\"type\": \"rect\", \"color\": \"black\", \"opacity\": 0.15}, \"encoding\": {\"x\": {\"axis\": {\"domain\": false, \"labels\": false, \"ticks\": false, \"title\": null}, \"field\": \"gap_start\", \"type\": \"temporal\"}, \"x2\": {\"field\": \"gap_end\"}}}], \"data\": {\"name\": \"data-d3647b7bf826706d87b620948e73edb1\"}}, {\"data\": {\"name\": \"data-cc01da4f090398b6bba008e0b867584d\"}, \"mark\": \"errorband\", \"encoding\": {\"color\": {\"field\": \"variable\", \"legend\": {\"title\": [\"Line: pred. mean\", \"area: +/- 2 std\"]}, \"type\": \"nominal\"}, \"x\": {\"field\": \"time\", \"type\": \"temporal\"}, \"y\": {\"field\": \"err_low\", \"scale\": {\"zero\": false}, \"title\": \"\", \"type\": \"quantitative\"}, \"y2\": {\"field\": \"err_high\"}}, \"name\": \"view_24\"}, {\"data\": {\"name\": \"data-cc01da4f090398b6bba008e0b867584d\"}, \"mark\": \"line\", \"encoding\": {\"color\": {\"field\": \"variable\", \"type\": \"nominal\"}, \"x\": {\"field\": \"time\", \"type\": \"temporal\"}, \"y\": {\"field\": \"mean\", \"scale\": {\"zero\": false}, \"title\": \"\", \"type\": \"quantitative\"}}}], \"height\": 150, \"title\": \"\", \"width\": 200}, {\"layer\": [{\"mark\": {\"type\": \"point\", \"color\": \"black\", \"fillOpacity\": 1, \"strokeWidth\": 1}, \"encoding\": {\"fill\": {\"field\": \"is_present\", \"legend\": {\"title\": [\"Observed data\"]}, \"scale\": {\"range\": [\"black\", \"#ffffff00\"]}, \"type\": \"nominal\"}, \"shape\": {\"field\": \"is_present\", \"type\": \"nominal\"}, \"x\": {\"axis\": {\"domain\": true, \"labels\": true, \"ticks\": true, \"title\": \"time\"}, \"field\": \"time\", \"type\": \"temporal\"}, \"y\": {\"field\": \"value\", \"scale\": {\"zero\": false}, \"title\": \"\", \"type\": \"quantitative\"}}}, {\"mark\": \"errorband\", \"encoding\": {\"color\": {\"field\": \"variable\", \"legend\": {\"title\": [\"Line: pred. mean\", \"area: +/- 2 std\"]}, \"type\": \"nominal\"}, \"x\": {\"field\": \"time\", \"type\": \"temporal\"}, \"y\": {\"field\": \"err_low\", \"scale\": {\"zero\": false}, \"title\": \"\", \"type\": \"quantitative\"}, \"y2\": {\"field\": \"err_high\"}}, \"name\": \"view_25\"}, {\"mark\": \"line\", \"encoding\": {\"color\": {\"field\": \"variable\", \"type\": \"nominal\"}, \"x\": {\"field\": \"time\", \"type\": \"temporal\"}, \"y\": {\"field\": \"mean\", \"scale\": {\"zero\": false}, \"title\": \"\", \"type\": \"quantitative\"}}}], \"data\": {\"name\": \"data-c59bb4f171f6bdbc4ea5d4228dec3dbc\"}, \"height\": 150, \"title\": \"\", \"width\": 200}]}], \"params\": [{\"name\": \"param_36\", \"select\": {\"type\": \"interval\", \"encodings\": [\"x\"]}, \"bind\": \"scales\", \"views\": [\"view_23\", \"view_24\", \"view_25\"]}], \"title\": [\"loss: 1.000000\", \"a: 1.000000\"], \"$schema\": \"https://vega.github.io/schema/vega-lite/v5.2.0.json\", \"datasets\": {\"data-4385b809e056975c12bb0067e10712ea\": [{\"time\": \"2000-01-01T01:00:00\", \"variable\": \"TA\", \"value\": -0.6499999761581421, \"is_present\": true, \"mean\": 2.021482467651367, \"std\": 2.2792186737060547, \"err_low\": -2.536954879760742, \"err_high\": 6.579919815063477}, {\"time\": \"2000-01-01T01:30:00\", \"variable\": \"TA\", \"value\": -0.5799999833106995, \"is_present\": true, \"mean\": -0.7873735427856445, \"std\": 1.8224880695343018, \"err_low\": -4.432349681854248, \"err_high\": 2.857602596282959}, {\"time\": \"2000-01-01T02:00:00\", \"variable\": \"TA\", \"value\": -0.5099999904632568, \"is_present\": false, \"mean\": -1.0720272064208984, \"std\": 1.7987185716629028, \"err_low\": -4.669464111328125, \"err_high\": 2.5254099369049072}, {\"time\": \"2000-01-01T02:30:00\", \"variable\": \"TA\", \"value\": -0.49000000953674316, \"is_present\": false, \"mean\": -1.0994739532470703, \"std\": 1.7984693050384521, \"err_low\": -4.696412563323975, \"err_high\": 2.497464656829834}, {\"time\": \"2000-01-01T03:00:00\", \"variable\": \"TA\", \"value\": -0.4000000059604645, \"is_present\": true, \"mean\": -1.0712080001831055, \"std\": 1.7966855764389038, \"err_low\": -4.664579391479492, \"err_high\": 2.522163152694702}, {\"time\": \"2000-01-01T03:30:00\", \"variable\": \"TA\", \"value\": -0.36000001430511475, \"is_present\": true, \"mean\": -1.058609962463379, \"std\": 1.7932419776916504, \"err_low\": -4.64509391784668, \"err_high\": 2.527873992919922}, {\"time\": \"2000-01-01T04:00:00\", \"variable\": \"TA\", \"value\": -0.3499999940395355, \"is_present\": true, \"mean\": -1.0617523193359375, \"std\": 1.7927089929580688, \"err_low\": -4.647170066833496, \"err_high\": 2.5236656665802}, {\"time\": \"2000-01-01T04:30:00\", \"variable\": \"TA\", \"value\": -0.2800000011920929, \"is_present\": true, \"mean\": -1.066253662109375, \"std\": 1.7926561832427979, \"err_low\": -4.651566028594971, \"err_high\": 2.5190587043762207}, {\"time\": \"2000-01-01T05:00:00\", \"variable\": \"TA\", \"value\": -0.27000001072883606, \"is_present\": true, \"mean\": -1.046773910522461, \"std\": 1.7928084135055542, \"err_low\": -4.632390975952148, \"err_high\": 2.5388429164886475}, {\"time\": \"2000-01-01T05:30:00\", \"variable\": \"TA\", \"value\": -0.23000000417232513, \"is_present\": true, \"mean\": -1.035207748413086, \"std\": 1.7942185401916504, \"err_low\": -4.623644828796387, \"err_high\": 2.553229331970215}], \"data-d3647b7bf826706d87b620948e73edb1\": [{\"gap_start\": \"2000-01-01T02:00:00\", \"gap_end\": \"2000-01-01T02:30:00\"}], \"data-cc01da4f090398b6bba008e0b867584d\": [{\"time\": \"2000-01-01T01:00:00\", \"variable\": \"SW_IN\", \"value\": 0.0, \"is_present\": true, \"mean\": 62.65424728393555, \"std\": 72.92684173583984, \"err_low\": -83.19943237304688, \"err_high\": 208.5079345703125}, {\"time\": \"2000-01-01T01:30:00\", \"variable\": \"SW_IN\", \"value\": 0.0, \"is_present\": true, \"mean\": 19.291580200195312, \"std\": 66.76834106445312, \"err_low\": -114.24510192871094, \"err_high\": 152.82826232910156}, {\"time\": \"2000-01-01T02:00:00\", \"variable\": \"SW_IN\", \"value\": 0.0, \"is_present\": false, \"mean\": 13.993194580078125, \"std\": 70.6077651977539, \"err_low\": -127.22233581542969, \"err_high\": 155.20872497558594}, {\"time\": \"2000-01-01T02:30:00\", \"variable\": \"SW_IN\", \"value\": 0.0, \"is_present\": false, \"mean\": 9.18743896484375, \"std\": 70.31156158447266, \"err_low\": -131.43568420410156, \"err_high\": 149.81056213378906}, {\"time\": \"2000-01-01T03:00:00\", \"variable\": \"SW_IN\", \"value\": 0.0, \"is_present\": true, \"mean\": 5.129119873046875, \"std\": 65.77459716796875, \"err_low\": -126.42007446289062, \"err_high\": 136.67831420898438}, {\"time\": \"2000-01-01T03:30:00\", \"variable\": \"SW_IN\", \"value\": 0.0, \"is_present\": true, \"mean\": 3.4213333129882812, \"std\": 65.54722595214844, \"err_low\": -127.6731185913086, \"err_high\": 134.51577758789062}, {\"time\": \"2000-01-01T04:00:00\", \"variable\": \"SW_IN\", \"value\": 0.0, \"is_present\": true, \"mean\": 2.6744461059570312, \"std\": 65.52386474609375, \"err_low\": -128.373291015625, \"err_high\": 133.72216796875}, {\"time\": \"2000-01-01T04:30:00\", \"variable\": \"SW_IN\", \"value\": 0.0, \"is_present\": true, \"mean\": 2.7286148071289062, \"std\": 65.52470397949219, \"err_low\": -128.32080078125, \"err_high\": 133.77801513671875}, {\"time\": \"2000-01-01T05:00:00\", \"variable\": \"SW_IN\", \"value\": 0.0, \"is_present\": true, \"mean\": 3.3744735717773438, \"std\": 65.5591049194336, \"err_low\": -127.74373626708984, \"err_high\": 134.49267578125}, {\"time\": \"2000-01-01T05:30:00\", \"variable\": \"SW_IN\", \"value\": 0.0, \"is_present\": true, \"mean\": 2.4483642578125, \"std\": 65.86611938476562, \"err_low\": -129.28387451171875, \"err_high\": 134.18060302734375}], \"data-c59bb4f171f6bdbc4ea5d4228dec3dbc\": [{\"time\": \"2000-01-01T01:00:00\", \"variable\": \"VPD\", \"value\": 0.12200000137090683, \"is_present\": true, \"mean\": -0.3708653450012207, \"std\": 1.2578855752944946, \"err_low\": -2.88663649559021, \"err_high\": 2.1449058055877686}, {\"time\": \"2000-01-01T01:30:00\", \"variable\": \"VPD\", \"value\": 0.09000000357627869, \"is_present\": true, \"mean\": 0.021699190139770508, \"std\": 1.261460542678833, \"err_low\": -2.5012218952178955, \"err_high\": 2.5446202754974365}, {\"time\": \"2000-01-01T02:00:00\", \"variable\": \"VPD\", \"value\": 0.10999999940395355, \"is_present\": true, \"mean\": 0.11522173881530762, \"std\": 1.2884418964385986, \"err_low\": -2.4616620540618896, \"err_high\": 2.692105531692505}, {\"time\": \"2000-01-01T02:30:00\", \"variable\": \"VPD\", \"value\": 0.10199999809265137, \"is_present\": true, \"mean\": 0.11627769470214844, \"std\": 1.287011742591858, \"err_low\": -2.4577457904815674, \"err_high\": 2.6903011798858643}, {\"time\": \"2000-01-01T03:00:00\", \"variable\": \"VPD\", \"value\": 0.11100000143051147, \"is_present\": true, \"mean\": 0.15901756286621094, \"std\": 1.2578859329223633, \"err_low\": -2.3567543029785156, \"err_high\": 2.6747894287109375}, {\"time\": \"2000-01-01T03:30:00\", \"variable\": \"VPD\", \"value\": 0.10899999737739563, \"is_present\": true, \"mean\": 0.1667330265045166, \"std\": 1.257826805114746, \"err_low\": -2.3489205837249756, \"err_high\": 2.682386636734009}, {\"time\": \"2000-01-01T04:00:00\", \"variable\": \"VPD\", \"value\": 0.10700000077486038, \"is_present\": true, \"mean\": 0.1686701774597168, \"std\": 1.25785493850708, \"err_low\": -2.3470396995544434, \"err_high\": 2.684380054473877}, {\"time\": \"2000-01-01T04:30:00\", \"variable\": \"VPD\", \"value\": 0.12200000137090683, \"is_present\": true, \"mean\": 0.18788385391235352, \"std\": 1.2578831911087036, \"err_low\": -2.3278825283050537, \"err_high\": 2.7036502361297607}, {\"time\": \"2000-01-01T05:00:00\", \"variable\": \"VPD\", \"value\": 0.1379999965429306, \"is_present\": true, \"mean\": 0.1941988468170166, \"std\": 1.2583062648773193, \"err_low\": -2.322413682937622, \"err_high\": 2.7108113765716553}, {\"time\": \"2000-01-01T05:30:00\", \"variable\": \"VPD\", \"value\": 0.1379999965429306, \"is_present\": true, \"mean\": 0.06104016304016113, \"std\": 1.2641608715057373, \"err_low\": -2.4672815799713135, \"err_high\": 2.5893619060516357}]}}, {\"mode\": \"vega-lite\"});\n",
       "</script>"
      ],
      "text/plain": [
       "alt.VConcatChart(...)"
      ]
     },
     "execution_count": null,
     "metadata": {},
     "output_type": "execute_result"
    }
   ],
   "source": [
    "plot_result(preds[0], targs[0], torch.tensor(1), {\"a\": 1})"
   ]
  },
  {
   "cell_type": "code",
   "execution_count": null,
   "id": "dd0981fb-8353-4511-b9d3-e3e53e54d9bf",
   "metadata": {},
   "outputs": [
    {
     "data": {
      "text/html": [
       "\n",
       "<div id=\"altair-viz-0bf17bfa7d97476b8efd35b6713f1710\"></div>\n",
       "<script type=\"text/javascript\">\n",
       "  var VEGA_DEBUG = (typeof VEGA_DEBUG == \"undefined\") ? {} : VEGA_DEBUG;\n",
       "  (function(spec, embedOpt){\n",
       "    let outputDiv = document.currentScript.previousElementSibling;\n",
       "    if (outputDiv.id !== \"altair-viz-0bf17bfa7d97476b8efd35b6713f1710\") {\n",
       "      outputDiv = document.getElementById(\"altair-viz-0bf17bfa7d97476b8efd35b6713f1710\");\n",
       "    }\n",
       "    const paths = {\n",
       "      \"vega\": \"https://cdn.jsdelivr.net/npm//vega@5?noext\",\n",
       "      \"vega-lib\": \"https://cdn.jsdelivr.net/npm//vega-lib?noext\",\n",
       "      \"vega-lite\": \"https://cdn.jsdelivr.net/npm//vega-lite@5.2.0?noext\",\n",
       "      \"vega-embed\": \"https://cdn.jsdelivr.net/npm//vega-embed@6?noext\",\n",
       "    };\n",
       "\n",
       "    function maybeLoadScript(lib, version) {\n",
       "      var key = `${lib.replace(\"-\", \"\")}_version`;\n",
       "      return (VEGA_DEBUG[key] == version) ?\n",
       "        Promise.resolve(paths[lib]) :\n",
       "        new Promise(function(resolve, reject) {\n",
       "          var s = document.createElement('script');\n",
       "          document.getElementsByTagName(\"head\")[0].appendChild(s);\n",
       "          s.async = true;\n",
       "          s.onload = () => {\n",
       "            VEGA_DEBUG[key] = version;\n",
       "            return resolve(paths[lib]);\n",
       "          };\n",
       "          s.onerror = () => reject(`Error loading script: ${paths[lib]}`);\n",
       "          s.src = paths[lib];\n",
       "        });\n",
       "    }\n",
       "\n",
       "    function showError(err) {\n",
       "      outputDiv.innerHTML = `<div class=\"error\" style=\"color:red;\">${err}</div>`;\n",
       "      throw err;\n",
       "    }\n",
       "\n",
       "    function displayChart(vegaEmbed) {\n",
       "      vegaEmbed(outputDiv, spec, embedOpt)\n",
       "        .catch(err => showError(`Javascript Error: ${err.message}<br>This usually means there's a typo in your chart specification. See the javascript console for the full traceback.`));\n",
       "    }\n",
       "\n",
       "    if(typeof define === \"function\" && define.amd) {\n",
       "      requirejs.config({paths});\n",
       "      require([\"vega-embed\"], displayChart, err => showError(`Error loading script: ${err.message}`));\n",
       "    } else {\n",
       "      maybeLoadScript(\"vega\", \"5\")\n",
       "        .then(() => maybeLoadScript(\"vega-lite\", \"5.2.0\"))\n",
       "        .then(() => maybeLoadScript(\"vega-embed\", \"6\"))\n",
       "        .catch(showError)\n",
       "        .then(() => displayChart(vegaEmbed));\n",
       "    }\n",
       "  })({\"config\": {\"view\": {\"continuousWidth\": 400, \"continuousHeight\": 300}}, \"vconcat\": [{\"hconcat\": [{\"layer\": [{\"data\": {\"name\": \"data-bf85f16ffc45b934704998448c765560\"}, \"mark\": {\"type\": \"point\", \"color\": \"black\", \"fillOpacity\": 1, \"strokeWidth\": 1}, \"encoding\": {\"fill\": {\"field\": \"is_present\", \"legend\": {\"title\": [\"Observed data\"]}, \"scale\": {\"range\": [\"black\", \"#ffffff00\"]}, \"type\": \"nominal\"}, \"shape\": {\"field\": \"is_present\", \"type\": \"nominal\"}, \"x\": {\"axis\": {\"domain\": true, \"labels\": true, \"ticks\": true, \"title\": \"time\"}, \"field\": \"time\", \"type\": \"temporal\"}, \"y\": {\"field\": \"value\", \"scale\": {\"zero\": false}, \"title\": \"\", \"type\": \"quantitative\"}}}, {\"layer\": [{\"mark\": \"rule\", \"encoding\": {\"x\": {\"axis\": {\"domain\": false, \"labels\": false, \"ticks\": false, \"title\": null}, \"field\": \"gap_start\", \"type\": \"temporal\"}}}, {\"mark\": \"rule\", \"encoding\": {\"x\": {\"axis\": {\"domain\": false, \"labels\": false, \"ticks\": false, \"title\": null}, \"field\": \"gap_end\", \"type\": \"temporal\"}}}, {\"mark\": {\"type\": \"rect\", \"color\": \"black\", \"opacity\": 0.15}, \"encoding\": {\"x\": {\"axis\": {\"domain\": false, \"labels\": false, \"ticks\": false, \"title\": null}, \"field\": \"gap_start\", \"type\": \"temporal\"}, \"x2\": {\"field\": \"gap_end\"}}}], \"data\": {\"name\": \"data-d3647b7bf826706d87b620948e73edb1\"}}, {\"data\": {\"name\": \"data-bf85f16ffc45b934704998448c765560\"}, \"mark\": \"errorband\", \"encoding\": {\"color\": {\"field\": \"variable\", \"legend\": {\"title\": [\"Line: pred. mean\", \"area: +/- 2 std\"]}, \"type\": \"nominal\"}, \"x\": {\"field\": \"time\", \"type\": \"temporal\"}, \"y\": {\"field\": \"err_low\", \"scale\": {\"zero\": false}, \"title\": \"\", \"type\": \"quantitative\"}, \"y2\": {\"field\": \"err_high\"}}, \"name\": \"view_26\"}, {\"data\": {\"name\": \"data-bf85f16ffc45b934704998448c765560\"}, \"mark\": {\"type\": \"line\", \"strokeDash\": [4, 6]}, \"encoding\": {\"color\": {\"field\": \"variable\", \"type\": \"nominal\"}, \"x\": {\"field\": \"time\", \"type\": \"temporal\"}, \"y\": {\"field\": \"control\", \"scale\": {\"zero\": false}, \"title\": \"\", \"type\": \"quantitative\"}}}, {\"data\": {\"name\": \"data-bf85f16ffc45b934704998448c765560\"}, \"mark\": \"line\", \"encoding\": {\"color\": {\"field\": \"variable\", \"type\": \"nominal\"}, \"x\": {\"field\": \"time\", \"type\": \"temporal\"}, \"y\": {\"field\": \"mean\", \"scale\": {\"zero\": false}, \"title\": \"\", \"type\": \"quantitative\"}}}], \"height\": 150, \"title\": \"\", \"width\": 200}, {\"layer\": [{\"data\": {\"name\": \"data-5c8217d1500dcd72649ce36ae24ec889\"}, \"mark\": {\"type\": \"point\", \"color\": \"black\", \"fillOpacity\": 1, \"strokeWidth\": 1}, \"encoding\": {\"fill\": {\"field\": \"is_present\", \"legend\": {\"title\": [\"Observed data\"]}, \"scale\": {\"range\": [\"black\", \"#ffffff00\"]}, \"type\": \"nominal\"}, \"shape\": {\"field\": \"is_present\", \"type\": \"nominal\"}, \"x\": {\"axis\": {\"domain\": true, \"labels\": true, \"ticks\": true, \"title\": \"time\"}, \"field\": \"time\", \"type\": \"temporal\"}, \"y\": {\"field\": \"value\", \"scale\": {\"zero\": false}, \"title\": \"\", \"type\": \"quantitative\"}}}, {\"layer\": [{\"mark\": \"rule\", \"encoding\": {\"x\": {\"axis\": {\"domain\": false, \"labels\": false, \"ticks\": false, \"title\": null}, \"field\": \"gap_start\", \"type\": \"temporal\"}}}, {\"mark\": \"rule\", \"encoding\": {\"x\": {\"axis\": {\"domain\": false, \"labels\": false, \"ticks\": false, \"title\": null}, \"field\": \"gap_end\", \"type\": \"temporal\"}}}, {\"mark\": {\"type\": \"rect\", \"color\": \"black\", \"opacity\": 0.15}, \"encoding\": {\"x\": {\"axis\": {\"domain\": false, \"labels\": false, \"ticks\": false, \"title\": null}, \"field\": \"gap_start\", \"type\": \"temporal\"}, \"x2\": {\"field\": \"gap_end\"}}}], \"data\": {\"name\": \"data-d3647b7bf826706d87b620948e73edb1\"}}, {\"data\": {\"name\": \"data-5c8217d1500dcd72649ce36ae24ec889\"}, \"mark\": \"errorband\", \"encoding\": {\"color\": {\"field\": \"variable\", \"legend\": {\"title\": [\"Line: pred. mean\", \"area: +/- 2 std\"]}, \"type\": \"nominal\"}, \"x\": {\"field\": \"time\", \"type\": \"temporal\"}, \"y\": {\"field\": \"err_low\", \"scale\": {\"zero\": false}, \"title\": \"\", \"type\": \"quantitative\"}, \"y2\": {\"field\": \"err_high\"}}, \"name\": \"view_27\"}, {\"data\": {\"name\": \"data-5c8217d1500dcd72649ce36ae24ec889\"}, \"mark\": {\"type\": \"line\", \"strokeDash\": [4, 6]}, \"encoding\": {\"color\": {\"field\": \"variable\", \"type\": \"nominal\"}, \"x\": {\"field\": \"time\", \"type\": \"temporal\"}, \"y\": {\"field\": \"control\", \"scale\": {\"zero\": false}, \"title\": \"\", \"type\": \"quantitative\"}}}, {\"data\": {\"name\": \"data-5c8217d1500dcd72649ce36ae24ec889\"}, \"mark\": \"line\", \"encoding\": {\"color\": {\"field\": \"variable\", \"type\": \"nominal\"}, \"x\": {\"field\": \"time\", \"type\": \"temporal\"}, \"y\": {\"field\": \"mean\", \"scale\": {\"zero\": false}, \"title\": \"\", \"type\": \"quantitative\"}}}], \"height\": 150, \"title\": \"\", \"width\": 200}, {\"layer\": [{\"mark\": {\"type\": \"point\", \"color\": \"black\", \"fillOpacity\": 1, \"strokeWidth\": 1}, \"encoding\": {\"fill\": {\"field\": \"is_present\", \"legend\": {\"title\": [\"Observed data\"]}, \"scale\": {\"range\": [\"black\", \"#ffffff00\"]}, \"type\": \"nominal\"}, \"shape\": {\"field\": \"is_present\", \"type\": \"nominal\"}, \"x\": {\"axis\": {\"domain\": true, \"labels\": true, \"ticks\": true, \"title\": \"time\"}, \"field\": \"time\", \"type\": \"temporal\"}, \"y\": {\"field\": \"value\", \"scale\": {\"zero\": false}, \"title\": \"\", \"type\": \"quantitative\"}}}, {\"mark\": \"errorband\", \"encoding\": {\"color\": {\"field\": \"variable\", \"legend\": {\"title\": [\"Line: pred. mean\", \"area: +/- 2 std\"]}, \"type\": \"nominal\"}, \"x\": {\"field\": \"time\", \"type\": \"temporal\"}, \"y\": {\"field\": \"err_low\", \"scale\": {\"zero\": false}, \"title\": \"\", \"type\": \"quantitative\"}, \"y2\": {\"field\": \"err_high\"}}, \"name\": \"view_28\"}, {\"mark\": {\"type\": \"line\", \"strokeDash\": [4, 6]}, \"encoding\": {\"color\": {\"field\": \"variable\", \"type\": \"nominal\"}, \"x\": {\"field\": \"time\", \"type\": \"temporal\"}, \"y\": {\"field\": \"control\", \"scale\": {\"zero\": false}, \"title\": \"\", \"type\": \"quantitative\"}}}, {\"mark\": \"line\", \"encoding\": {\"color\": {\"field\": \"variable\", \"type\": \"nominal\"}, \"x\": {\"field\": \"time\", \"type\": \"temporal\"}, \"y\": {\"field\": \"mean\", \"scale\": {\"zero\": false}, \"title\": \"\", \"type\": \"quantitative\"}}}], \"data\": {\"name\": \"data-edf84a60d35e33e2536dded9424852cf\"}, \"height\": 150, \"title\": \"\", \"width\": 200}]}], \"params\": [{\"name\": \"param_40\", \"select\": {\"type\": \"interval\", \"encodings\": [\"x\"]}, \"bind\": \"scales\", \"views\": [\"view_26\", \"view_27\", \"view_28\"]}], \"title\": [\"loss: 1.000000\", \"a: 1.000000\"], \"$schema\": \"https://vega.github.io/schema/vega-lite/v5.2.0.json\", \"datasets\": {\"data-bf85f16ffc45b934704998448c765560\": [{\"time\": \"2000-01-01T01:00:00\", \"variable\": \"TA\", \"value\": -0.6499999761581421, \"control\": -0.38999998569488525, \"is_present\": true, \"mean\": 2.021482467651367, \"std\": 2.2792186737060547, \"err_low\": -2.536954879760742, \"err_high\": 6.579919815063477}, {\"time\": \"2000-01-01T01:30:00\", \"variable\": \"TA\", \"value\": -0.5799999833106995, \"control\": -0.4300000071525574, \"is_present\": true, \"mean\": -0.7873735427856445, \"std\": 1.8224880695343018, \"err_low\": -4.432349681854248, \"err_high\": 2.857602596282959}, {\"time\": \"2000-01-01T02:00:00\", \"variable\": \"TA\", \"value\": -0.5099999904632568, \"control\": -0.4390000104904175, \"is_present\": false, \"mean\": -1.0720272064208984, \"std\": 1.7987185716629028, \"err_low\": -4.669464111328125, \"err_high\": 2.5254099369049072}, {\"time\": \"2000-01-01T02:30:00\", \"variable\": \"TA\", \"value\": -0.49000000953674316, \"control\": -0.4490000009536743, \"is_present\": false, \"mean\": -1.0994739532470703, \"std\": 1.7984693050384521, \"err_low\": -4.696412563323975, \"err_high\": 2.497464656829834}, {\"time\": \"2000-01-01T03:00:00\", \"variable\": \"TA\", \"value\": -0.4000000059604645, \"control\": -0.4580000042915344, \"is_present\": true, \"mean\": -1.0712080001831055, \"std\": 1.7966855764389038, \"err_low\": -4.664579391479492, \"err_high\": 2.522163152694702}, {\"time\": \"2000-01-01T03:30:00\", \"variable\": \"TA\", \"value\": -0.36000001430511475, \"control\": -0.46700000762939453, \"is_present\": true, \"mean\": -1.058609962463379, \"std\": 1.7932419776916504, \"err_low\": -4.64509391784668, \"err_high\": 2.527873992919922}, {\"time\": \"2000-01-01T04:00:00\", \"variable\": \"TA\", \"value\": -0.3499999940395355, \"control\": -0.47699999809265137, \"is_present\": true, \"mean\": -1.0617523193359375, \"std\": 1.7927089929580688, \"err_low\": -4.647170066833496, \"err_high\": 2.5236656665802}, {\"time\": \"2000-01-01T04:30:00\", \"variable\": \"TA\", \"value\": -0.2800000011920929, \"control\": -0.4860000014305115, \"is_present\": true, \"mean\": -1.066253662109375, \"std\": 1.7926561832427979, \"err_low\": -4.651566028594971, \"err_high\": 2.5190587043762207}, {\"time\": \"2000-01-01T05:00:00\", \"variable\": \"TA\", \"value\": -0.27000001072883606, \"control\": -0.4169999957084656, \"is_present\": true, \"mean\": -1.046773910522461, \"std\": 1.7928084135055542, \"err_low\": -4.632390975952148, \"err_high\": 2.5388429164886475}, {\"time\": \"2000-01-01T05:30:00\", \"variable\": \"TA\", \"value\": -0.23000000417232513, \"control\": -0.3490000069141388, \"is_present\": true, \"mean\": -1.035207748413086, \"std\": 1.7942185401916504, \"err_low\": -4.623644828796387, \"err_high\": 2.553229331970215}], \"data-d3647b7bf826706d87b620948e73edb1\": [{\"gap_start\": \"2000-01-01T02:00:00\", \"gap_end\": \"2000-01-01T02:30:00\"}], \"data-5c8217d1500dcd72649ce36ae24ec889\": [{\"time\": \"2000-01-01T01:00:00\", \"variable\": \"SW_IN\", \"value\": 0.0, \"control\": 0.0, \"is_present\": true, \"mean\": 62.65424728393555, \"std\": 72.92684173583984, \"err_low\": -83.19943237304688, \"err_high\": 208.5079345703125}, {\"time\": \"2000-01-01T01:30:00\", \"variable\": \"SW_IN\", \"value\": 0.0, \"control\": 0.0, \"is_present\": true, \"mean\": 19.291580200195312, \"std\": 66.76834106445312, \"err_low\": -114.24510192871094, \"err_high\": 152.82826232910156}, {\"time\": \"2000-01-01T02:00:00\", \"variable\": \"SW_IN\", \"value\": 0.0, \"control\": 0.0, \"is_present\": false, \"mean\": 13.993194580078125, \"std\": 70.6077651977539, \"err_low\": -127.22233581542969, \"err_high\": 155.20872497558594}, {\"time\": \"2000-01-01T02:30:00\", \"variable\": \"SW_IN\", \"value\": 0.0, \"control\": 0.0, \"is_present\": false, \"mean\": 9.18743896484375, \"std\": 70.31156158447266, \"err_low\": -131.43568420410156, \"err_high\": 149.81056213378906}, {\"time\": \"2000-01-01T03:00:00\", \"variable\": \"SW_IN\", \"value\": 0.0, \"control\": 0.0, \"is_present\": true, \"mean\": 5.129119873046875, \"std\": 65.77459716796875, \"err_low\": -126.42007446289062, \"err_high\": 136.67831420898438}, {\"time\": \"2000-01-01T03:30:00\", \"variable\": \"SW_IN\", \"value\": 0.0, \"control\": 0.0, \"is_present\": true, \"mean\": 3.4213333129882812, \"std\": 65.54722595214844, \"err_low\": -127.6731185913086, \"err_high\": 134.51577758789062}, {\"time\": \"2000-01-01T04:00:00\", \"variable\": \"SW_IN\", \"value\": 0.0, \"control\": 0.0, \"is_present\": true, \"mean\": 2.6744461059570312, \"std\": 65.52386474609375, \"err_low\": -128.373291015625, \"err_high\": 133.72216796875}, {\"time\": \"2000-01-01T04:30:00\", \"variable\": \"SW_IN\", \"value\": 0.0, \"control\": 0.0, \"is_present\": true, \"mean\": 2.7286148071289062, \"std\": 65.52470397949219, \"err_low\": -128.32080078125, \"err_high\": 133.77801513671875}, {\"time\": \"2000-01-01T05:00:00\", \"variable\": \"SW_IN\", \"value\": 0.0, \"control\": 0.0, \"is_present\": true, \"mean\": 3.3744735717773438, \"std\": 65.5591049194336, \"err_low\": -127.74373626708984, \"err_high\": 134.49267578125}, {\"time\": \"2000-01-01T05:30:00\", \"variable\": \"SW_IN\", \"value\": 0.0, \"control\": 0.0, \"is_present\": true, \"mean\": 2.4483642578125, \"std\": 65.86611938476562, \"err_low\": -129.28387451171875, \"err_high\": 134.18060302734375}], \"data-edf84a60d35e33e2536dded9424852cf\": [{\"time\": \"2000-01-01T01:00:00\", \"variable\": \"VPD\", \"value\": 0.12200000137090683, \"control\": 0.39899998903274536, \"is_present\": true, \"mean\": -0.3708653450012207, \"std\": 1.2578855752944946, \"err_low\": -2.88663649559021, \"err_high\": 2.1449058055877686}, {\"time\": \"2000-01-01T01:30:00\", \"variable\": \"VPD\", \"value\": 0.09000000357627869, \"control\": 0.3959999978542328, \"is_present\": true, \"mean\": 0.021699190139770508, \"std\": 1.261460542678833, \"err_low\": -2.5012218952178955, \"err_high\": 2.5446202754974365}, {\"time\": \"2000-01-01T02:00:00\", \"variable\": \"VPD\", \"value\": 0.10999999940395355, \"control\": 0.41100001335144043, \"is_present\": true, \"mean\": 0.11522173881530762, \"std\": 1.2884418964385986, \"err_low\": -2.4616620540618896, \"err_high\": 2.692105531692505}, {\"time\": \"2000-01-01T02:30:00\", \"variable\": \"VPD\", \"value\": 0.10199999809265137, \"control\": 0.4259999990463257, \"is_present\": true, \"mean\": 0.11627769470214844, \"std\": 1.287011742591858, \"err_low\": -2.4577457904815674, \"err_high\": 2.6903011798858643}, {\"time\": \"2000-01-01T03:00:00\", \"variable\": \"VPD\", \"value\": 0.11100000143051147, \"control\": 0.44200000166893005, \"is_present\": true, \"mean\": 0.15901756286621094, \"std\": 1.2578859329223633, \"err_low\": -2.3567543029785156, \"err_high\": 2.6747894287109375}, {\"time\": \"2000-01-01T03:30:00\", \"variable\": \"VPD\", \"value\": 0.10899999737739563, \"control\": 0.4569999873638153, \"is_present\": true, \"mean\": 0.1667330265045166, \"std\": 1.257826805114746, \"err_low\": -2.3489205837249756, \"err_high\": 2.682386636734009}, {\"time\": \"2000-01-01T04:00:00\", \"variable\": \"VPD\", \"value\": 0.10700000077486038, \"control\": 0.47200000286102295, \"is_present\": true, \"mean\": 0.1686701774597168, \"std\": 1.25785493850708, \"err_low\": -2.3470396995544434, \"err_high\": 2.684380054473877}, {\"time\": \"2000-01-01T04:30:00\", \"variable\": \"VPD\", \"value\": 0.12200000137090683, \"control\": 0.4880000054836273, \"is_present\": true, \"mean\": 0.18788385391235352, \"std\": 1.2578831911087036, \"err_low\": -2.3278825283050537, \"err_high\": 2.7036502361297607}, {\"time\": \"2000-01-01T05:00:00\", \"variable\": \"VPD\", \"value\": 0.1379999965429306, \"control\": 0.492000013589859, \"is_present\": true, \"mean\": 0.1941988468170166, \"std\": 1.2583062648773193, \"err_low\": -2.322413682937622, \"err_high\": 2.7108113765716553}, {\"time\": \"2000-01-01T05:30:00\", \"variable\": \"VPD\", \"value\": 0.1379999965429306, \"control\": 0.4970000088214874, \"is_present\": true, \"mean\": 0.06104016304016113, \"std\": 1.2641608715057373, \"err_low\": -2.4672815799713135, \"err_high\": 2.5893619060516357}]}}, {\"mode\": \"vega-lite\"});\n",
       "</script>"
      ],
      "text/plain": [
       "alt.VConcatChart(...)"
      ]
     },
     "execution_count": null,
     "metadata": {},
     "output_type": "execute_result"
    }
   ],
   "source": [
    "plot_result(preds[0], targs[0], torch.tensor(1), {\"a\": 1}, control=hai_control)"
   ]
  },
  {
   "cell_type": "code",
   "execution_count": null,
   "id": "15082351-51f0-4139-9426-4ae2c64a94cb",
   "metadata": {},
   "outputs": [],
   "source": [
    "#| export\n",
    "def plot_results(preds, targs, losses, metrics, n_cols=1, **kwargs):\n",
    "    plots = [plot_result(targ, pred, loss, metric, n_cols=n_cols, **kwargs) for targ, pred, loss, metric in zip(preds, targs, losses, metrics)]\n",
    "    return alt.hconcat(*plots)"
   ]
  },
  {
   "cell_type": "code",
   "execution_count": null,
   "id": "6eb4485c-8e03-437e-8ed5-bc61a5c170af",
   "metadata": {},
   "outputs": [
    {
     "data": {
      "text/html": [
       "\n",
       "<div id=\"altair-viz-c9d2aeb466124abf9066e7193aacd66a\"></div>\n",
       "<script type=\"text/javascript\">\n",
       "  var VEGA_DEBUG = (typeof VEGA_DEBUG == \"undefined\") ? {} : VEGA_DEBUG;\n",
       "  (function(spec, embedOpt){\n",
       "    let outputDiv = document.currentScript.previousElementSibling;\n",
       "    if (outputDiv.id !== \"altair-viz-c9d2aeb466124abf9066e7193aacd66a\") {\n",
       "      outputDiv = document.getElementById(\"altair-viz-c9d2aeb466124abf9066e7193aacd66a\");\n",
       "    }\n",
       "    const paths = {\n",
       "      \"vega\": \"https://cdn.jsdelivr.net/npm//vega@5?noext\",\n",
       "      \"vega-lib\": \"https://cdn.jsdelivr.net/npm//vega-lib?noext\",\n",
       "      \"vega-lite\": \"https://cdn.jsdelivr.net/npm//vega-lite@5.2.0?noext\",\n",
       "      \"vega-embed\": \"https://cdn.jsdelivr.net/npm//vega-embed@6?noext\",\n",
       "    };\n",
       "\n",
       "    function maybeLoadScript(lib, version) {\n",
       "      var key = `${lib.replace(\"-\", \"\")}_version`;\n",
       "      return (VEGA_DEBUG[key] == version) ?\n",
       "        Promise.resolve(paths[lib]) :\n",
       "        new Promise(function(resolve, reject) {\n",
       "          var s = document.createElement('script');\n",
       "          document.getElementsByTagName(\"head\")[0].appendChild(s);\n",
       "          s.async = true;\n",
       "          s.onload = () => {\n",
       "            VEGA_DEBUG[key] = version;\n",
       "            return resolve(paths[lib]);\n",
       "          };\n",
       "          s.onerror = () => reject(`Error loading script: ${paths[lib]}`);\n",
       "          s.src = paths[lib];\n",
       "        });\n",
       "    }\n",
       "\n",
       "    function showError(err) {\n",
       "      outputDiv.innerHTML = `<div class=\"error\" style=\"color:red;\">${err}</div>`;\n",
       "      throw err;\n",
       "    }\n",
       "\n",
       "    function displayChart(vegaEmbed) {\n",
       "      vegaEmbed(outputDiv, spec, embedOpt)\n",
       "        .catch(err => showError(`Javascript Error: ${err.message}<br>This usually means there's a typo in your chart specification. See the javascript console for the full traceback.`));\n",
       "    }\n",
       "\n",
       "    if(typeof define === \"function\" && define.amd) {\n",
       "      requirejs.config({paths});\n",
       "      require([\"vega-embed\"], displayChart, err => showError(`Error loading script: ${err.message}`));\n",
       "    } else {\n",
       "      maybeLoadScript(\"vega\", \"5\")\n",
       "        .then(() => maybeLoadScript(\"vega-lite\", \"5.2.0\"))\n",
       "        .then(() => maybeLoadScript(\"vega-embed\", \"6\"))\n",
       "        .catch(showError)\n",
       "        .then(() => displayChart(vegaEmbed));\n",
       "    }\n",
       "  })({\"config\": {\"view\": {\"continuousWidth\": 400, \"continuousHeight\": 300}}, \"hconcat\": [{\"vconcat\": [{\"hconcat\": [{\"layer\": [{\"data\": {\"name\": \"data-4385b809e056975c12bb0067e10712ea\"}, \"mark\": {\"type\": \"point\", \"color\": \"black\", \"fillOpacity\": 1, \"strokeWidth\": 1}, \"encoding\": {\"fill\": {\"field\": \"is_present\", \"legend\": {\"title\": [\"Observed data\"]}, \"scale\": {\"range\": [\"black\", \"#ffffff00\"]}, \"type\": \"nominal\"}, \"shape\": {\"field\": \"is_present\", \"type\": \"nominal\"}, \"x\": {\"axis\": {\"domain\": true, \"labels\": true, \"ticks\": true, \"title\": \"time\"}, \"field\": \"time\", \"type\": \"temporal\"}, \"y\": {\"field\": \"value\", \"scale\": {\"zero\": false}, \"title\": \"\", \"type\": \"quantitative\"}}}, {\"layer\": [{\"mark\": \"rule\", \"encoding\": {\"x\": {\"axis\": {\"domain\": false, \"labels\": false, \"ticks\": false, \"title\": null}, \"field\": \"gap_start\", \"type\": \"temporal\"}}}, {\"mark\": \"rule\", \"encoding\": {\"x\": {\"axis\": {\"domain\": false, \"labels\": false, \"ticks\": false, \"title\": null}, \"field\": \"gap_end\", \"type\": \"temporal\"}}}, {\"mark\": {\"type\": \"rect\", \"color\": \"black\", \"opacity\": 0.15}, \"encoding\": {\"x\": {\"axis\": {\"domain\": false, \"labels\": false, \"ticks\": false, \"title\": null}, \"field\": \"gap_start\", \"type\": \"temporal\"}, \"x2\": {\"field\": \"gap_end\"}}}], \"data\": {\"name\": \"data-d3647b7bf826706d87b620948e73edb1\"}}, {\"data\": {\"name\": \"data-4385b809e056975c12bb0067e10712ea\"}, \"mark\": \"errorband\", \"encoding\": {\"color\": {\"field\": \"variable\", \"legend\": {\"title\": [\"Line: pred. mean\", \"area: +/- 2 std\"]}, \"type\": \"nominal\"}, \"x\": {\"field\": \"time\", \"type\": \"temporal\"}, \"y\": {\"field\": \"err_low\", \"scale\": {\"zero\": false}, \"title\": \"\", \"type\": \"quantitative\"}, \"y2\": {\"field\": \"err_high\"}}, \"name\": \"view_29\"}, {\"data\": {\"name\": \"data-4385b809e056975c12bb0067e10712ea\"}, \"mark\": \"line\", \"encoding\": {\"color\": {\"field\": \"variable\", \"type\": \"nominal\"}, \"x\": {\"field\": \"time\", \"type\": \"temporal\"}, \"y\": {\"field\": \"mean\", \"scale\": {\"zero\": false}, \"title\": \"\", \"type\": \"quantitative\"}}}], \"height\": 150, \"title\": \"\", \"width\": 200}]}, {\"hconcat\": [{\"layer\": [{\"data\": {\"name\": \"data-cc01da4f090398b6bba008e0b867584d\"}, \"mark\": {\"type\": \"point\", \"color\": \"black\", \"fillOpacity\": 1, \"strokeWidth\": 1}, \"encoding\": {\"fill\": {\"field\": \"is_present\", \"legend\": {\"title\": [\"Observed data\"]}, \"scale\": {\"range\": [\"black\", \"#ffffff00\"]}, \"type\": \"nominal\"}, \"shape\": {\"field\": \"is_present\", \"type\": \"nominal\"}, \"x\": {\"axis\": {\"domain\": true, \"labels\": true, \"ticks\": true, \"title\": \"time\"}, \"field\": \"time\", \"type\": \"temporal\"}, \"y\": {\"field\": \"value\", \"scale\": {\"zero\": false}, \"title\": \"\", \"type\": \"quantitative\"}}}, {\"layer\": [{\"mark\": \"rule\", \"encoding\": {\"x\": {\"axis\": {\"domain\": false, \"labels\": false, \"ticks\": false, \"title\": null}, \"field\": \"gap_start\", \"type\": \"temporal\"}}}, {\"mark\": \"rule\", \"encoding\": {\"x\": {\"axis\": {\"domain\": false, \"labels\": false, \"ticks\": false, \"title\": null}, \"field\": \"gap_end\", \"type\": \"temporal\"}}}, {\"mark\": {\"type\": \"rect\", \"color\": \"black\", \"opacity\": 0.15}, \"encoding\": {\"x\": {\"axis\": {\"domain\": false, \"labels\": false, \"ticks\": false, \"title\": null}, \"field\": \"gap_start\", \"type\": \"temporal\"}, \"x2\": {\"field\": \"gap_end\"}}}], \"data\": {\"name\": \"data-d3647b7bf826706d87b620948e73edb1\"}}, {\"data\": {\"name\": \"data-cc01da4f090398b6bba008e0b867584d\"}, \"mark\": \"errorband\", \"encoding\": {\"color\": {\"field\": \"variable\", \"legend\": {\"title\": [\"Line: pred. mean\", \"area: +/- 2 std\"]}, \"type\": \"nominal\"}, \"x\": {\"field\": \"time\", \"type\": \"temporal\"}, \"y\": {\"field\": \"err_low\", \"scale\": {\"zero\": false}, \"title\": \"\", \"type\": \"quantitative\"}, \"y2\": {\"field\": \"err_high\"}}, \"name\": \"view_30\"}, {\"data\": {\"name\": \"data-cc01da4f090398b6bba008e0b867584d\"}, \"mark\": \"line\", \"encoding\": {\"color\": {\"field\": \"variable\", \"type\": \"nominal\"}, \"x\": {\"field\": \"time\", \"type\": \"temporal\"}, \"y\": {\"field\": \"mean\", \"scale\": {\"zero\": false}, \"title\": \"\", \"type\": \"quantitative\"}}}], \"height\": 150, \"title\": \"\", \"width\": 200}]}, {\"hconcat\": [{\"layer\": [{\"mark\": {\"type\": \"point\", \"color\": \"black\", \"fillOpacity\": 1, \"strokeWidth\": 1}, \"encoding\": {\"fill\": {\"field\": \"is_present\", \"legend\": {\"title\": [\"Observed data\"]}, \"scale\": {\"range\": [\"black\", \"#ffffff00\"]}, \"type\": \"nominal\"}, \"shape\": {\"field\": \"is_present\", \"type\": \"nominal\"}, \"x\": {\"axis\": {\"domain\": true, \"labels\": true, \"ticks\": true, \"title\": \"time\"}, \"field\": \"time\", \"type\": \"temporal\"}, \"y\": {\"field\": \"value\", \"scale\": {\"zero\": false}, \"title\": \"\", \"type\": \"quantitative\"}}}, {\"mark\": \"errorband\", \"encoding\": {\"color\": {\"field\": \"variable\", \"legend\": {\"title\": [\"Line: pred. mean\", \"area: +/- 2 std\"]}, \"type\": \"nominal\"}, \"x\": {\"field\": \"time\", \"type\": \"temporal\"}, \"y\": {\"field\": \"err_low\", \"scale\": {\"zero\": false}, \"title\": \"\", \"type\": \"quantitative\"}, \"y2\": {\"field\": \"err_high\"}}, \"name\": \"view_31\"}, {\"mark\": \"line\", \"encoding\": {\"color\": {\"field\": \"variable\", \"type\": \"nominal\"}, \"x\": {\"field\": \"time\", \"type\": \"temporal\"}, \"y\": {\"field\": \"mean\", \"scale\": {\"zero\": false}, \"title\": \"\", \"type\": \"quantitative\"}}}], \"height\": 150, \"title\": \"\", \"width\": 200}], \"data\": {\"name\": \"data-c59bb4f171f6bdbc4ea5d4228dec3dbc\"}}], \"title\": [\"loss: 1.163543\", \"rmse: 0.100653\", \"rmse_gap: 0.066480\", \"r2: -63.429806\", \"r2_gap: -1717.839478\"]}, {\"vconcat\": [{\"hconcat\": [{\"layer\": [{\"data\": {\"name\": \"data-56b122029defdca34c5262a59af02299\"}, \"mark\": {\"type\": \"point\", \"color\": \"black\", \"fillOpacity\": 1, \"strokeWidth\": 1}, \"encoding\": {\"fill\": {\"field\": \"is_present\", \"legend\": {\"title\": [\"Observed data\"]}, \"scale\": {\"range\": [\"black\", \"#ffffff00\"]}, \"type\": \"nominal\"}, \"shape\": {\"field\": \"is_present\", \"type\": \"nominal\"}, \"x\": {\"axis\": {\"domain\": true, \"labels\": true, \"ticks\": true, \"title\": \"time\"}, \"field\": \"time\", \"type\": \"temporal\"}, \"y\": {\"field\": \"value\", \"scale\": {\"zero\": false}, \"title\": \"\", \"type\": \"quantitative\"}}}, {\"layer\": [{\"mark\": \"rule\", \"encoding\": {\"x\": {\"axis\": {\"domain\": false, \"labels\": false, \"ticks\": false, \"title\": null}, \"field\": \"gap_start\", \"type\": \"temporal\"}}}, {\"mark\": \"rule\", \"encoding\": {\"x\": {\"axis\": {\"domain\": false, \"labels\": false, \"ticks\": false, \"title\": null}, \"field\": \"gap_end\", \"type\": \"temporal\"}}}, {\"mark\": {\"type\": \"rect\", \"color\": \"black\", \"opacity\": 0.15}, \"encoding\": {\"x\": {\"axis\": {\"domain\": false, \"labels\": false, \"ticks\": false, \"title\": null}, \"field\": \"gap_start\", \"type\": \"temporal\"}, \"x2\": {\"field\": \"gap_end\"}}}], \"data\": {\"name\": \"data-22b514a72148b05dd7be146caaa527e7\"}}, {\"data\": {\"name\": \"data-56b122029defdca34c5262a59af02299\"}, \"mark\": \"errorband\", \"encoding\": {\"color\": {\"field\": \"variable\", \"legend\": {\"title\": [\"Line: pred. mean\", \"area: +/- 2 std\"]}, \"type\": \"nominal\"}, \"x\": {\"field\": \"time\", \"type\": \"temporal\"}, \"y\": {\"field\": \"err_low\", \"scale\": {\"zero\": false}, \"title\": \"\", \"type\": \"quantitative\"}, \"y2\": {\"field\": \"err_high\"}}, \"name\": \"view_32\"}, {\"data\": {\"name\": \"data-56b122029defdca34c5262a59af02299\"}, \"mark\": \"line\", \"encoding\": {\"color\": {\"field\": \"variable\", \"type\": \"nominal\"}, \"x\": {\"field\": \"time\", \"type\": \"temporal\"}, \"y\": {\"field\": \"mean\", \"scale\": {\"zero\": false}, \"title\": \"\", \"type\": \"quantitative\"}}}], \"height\": 150, \"title\": \"\", \"width\": 200}]}, {\"hconcat\": [{\"layer\": [{\"data\": {\"name\": \"data-476481c3c1dc74f0f84b722404d63596\"}, \"mark\": {\"type\": \"point\", \"color\": \"black\", \"fillOpacity\": 1, \"strokeWidth\": 1}, \"encoding\": {\"fill\": {\"field\": \"is_present\", \"legend\": {\"title\": [\"Observed data\"]}, \"scale\": {\"range\": [\"black\", \"#ffffff00\"]}, \"type\": \"nominal\"}, \"shape\": {\"field\": \"is_present\", \"type\": \"nominal\"}, \"x\": {\"axis\": {\"domain\": true, \"labels\": true, \"ticks\": true, \"title\": \"time\"}, \"field\": \"time\", \"type\": \"temporal\"}, \"y\": {\"field\": \"value\", \"scale\": {\"zero\": false}, \"title\": \"\", \"type\": \"quantitative\"}}}, {\"layer\": [{\"mark\": \"rule\", \"encoding\": {\"x\": {\"axis\": {\"domain\": false, \"labels\": false, \"ticks\": false, \"title\": null}, \"field\": \"gap_start\", \"type\": \"temporal\"}}}, {\"mark\": \"rule\", \"encoding\": {\"x\": {\"axis\": {\"domain\": false, \"labels\": false, \"ticks\": false, \"title\": null}, \"field\": \"gap_end\", \"type\": \"temporal\"}}}, {\"mark\": {\"type\": \"rect\", \"color\": \"black\", \"opacity\": 0.15}, \"encoding\": {\"x\": {\"axis\": {\"domain\": false, \"labels\": false, \"ticks\": false, \"title\": null}, \"field\": \"gap_start\", \"type\": \"temporal\"}, \"x2\": {\"field\": \"gap_end\"}}}], \"data\": {\"name\": \"data-22b514a72148b05dd7be146caaa527e7\"}}, {\"data\": {\"name\": \"data-476481c3c1dc74f0f84b722404d63596\"}, \"mark\": \"errorband\", \"encoding\": {\"color\": {\"field\": \"variable\", \"legend\": {\"title\": [\"Line: pred. mean\", \"area: +/- 2 std\"]}, \"type\": \"nominal\"}, \"x\": {\"field\": \"time\", \"type\": \"temporal\"}, \"y\": {\"field\": \"err_low\", \"scale\": {\"zero\": false}, \"title\": \"\", \"type\": \"quantitative\"}, \"y2\": {\"field\": \"err_high\"}}, \"name\": \"view_33\"}, {\"data\": {\"name\": \"data-476481c3c1dc74f0f84b722404d63596\"}, \"mark\": \"line\", \"encoding\": {\"color\": {\"field\": \"variable\", \"type\": \"nominal\"}, \"x\": {\"field\": \"time\", \"type\": \"temporal\"}, \"y\": {\"field\": \"mean\", \"scale\": {\"zero\": false}, \"title\": \"\", \"type\": \"quantitative\"}}}], \"height\": 150, \"title\": \"\", \"width\": 200}]}, {\"hconcat\": [{\"layer\": [{\"mark\": {\"type\": \"point\", \"color\": \"black\", \"fillOpacity\": 1, \"strokeWidth\": 1}, \"encoding\": {\"fill\": {\"field\": \"is_present\", \"legend\": {\"title\": [\"Observed data\"]}, \"scale\": {\"range\": [\"black\", \"#ffffff00\"]}, \"type\": \"nominal\"}, \"shape\": {\"field\": \"is_present\", \"type\": \"nominal\"}, \"x\": {\"axis\": {\"domain\": true, \"labels\": true, \"ticks\": true, \"title\": \"time\"}, \"field\": \"time\", \"type\": \"temporal\"}, \"y\": {\"field\": \"value\", \"scale\": {\"zero\": false}, \"title\": \"\", \"type\": \"quantitative\"}}}, {\"mark\": \"errorband\", \"encoding\": {\"color\": {\"field\": \"variable\", \"legend\": {\"title\": [\"Line: pred. mean\", \"area: +/- 2 std\"]}, \"type\": \"nominal\"}, \"x\": {\"field\": \"time\", \"type\": \"temporal\"}, \"y\": {\"field\": \"err_low\", \"scale\": {\"zero\": false}, \"title\": \"\", \"type\": \"quantitative\"}, \"y2\": {\"field\": \"err_high\"}}, \"name\": \"view_34\"}, {\"mark\": \"line\", \"encoding\": {\"color\": {\"field\": \"variable\", \"type\": \"nominal\"}, \"x\": {\"field\": \"time\", \"type\": \"temporal\"}, \"y\": {\"field\": \"mean\", \"scale\": {\"zero\": false}, \"title\": \"\", \"type\": \"quantitative\"}}}], \"height\": 150, \"title\": \"\", \"width\": 200}], \"data\": {\"name\": \"data-20be0175e33b8bc5980e6e2e8a500d11\"}}], \"title\": [\"loss: 1.162365\", \"rmse: 0.089479\", \"rmse_gap: 0.064495\", \"r2: -26.802010\", \"r2_gap: -7142.291016\"]}, {\"vconcat\": [{\"hconcat\": [{\"layer\": [{\"data\": {\"name\": \"data-b6a9e996982bbfe9ec248f65fbddcb20\"}, \"mark\": {\"type\": \"point\", \"color\": \"black\", \"fillOpacity\": 1, \"strokeWidth\": 1}, \"encoding\": {\"fill\": {\"field\": \"is_present\", \"legend\": {\"title\": [\"Observed data\"]}, \"scale\": {\"range\": [\"black\", \"#ffffff00\"]}, \"type\": \"nominal\"}, \"shape\": {\"field\": \"is_present\", \"type\": \"nominal\"}, \"x\": {\"axis\": {\"domain\": true, \"labels\": true, \"ticks\": true, \"title\": \"time\"}, \"field\": \"time\", \"type\": \"temporal\"}, \"y\": {\"field\": \"value\", \"scale\": {\"zero\": false}, \"title\": \"\", \"type\": \"quantitative\"}}}, {\"layer\": [{\"mark\": \"rule\", \"encoding\": {\"x\": {\"axis\": {\"domain\": false, \"labels\": false, \"ticks\": false, \"title\": null}, \"field\": \"gap_start\", \"type\": \"temporal\"}}}, {\"mark\": \"rule\", \"encoding\": {\"x\": {\"axis\": {\"domain\": false, \"labels\": false, \"ticks\": false, \"title\": null}, \"field\": \"gap_end\", \"type\": \"temporal\"}}}, {\"mark\": {\"type\": \"rect\", \"color\": \"black\", \"opacity\": 0.15}, \"encoding\": {\"x\": {\"axis\": {\"domain\": false, \"labels\": false, \"ticks\": false, \"title\": null}, \"field\": \"gap_start\", \"type\": \"temporal\"}, \"x2\": {\"field\": \"gap_end\"}}}], \"data\": {\"name\": \"data-d2f3eefc95043ed43f1d38fc833e8633\"}}, {\"data\": {\"name\": \"data-b6a9e996982bbfe9ec248f65fbddcb20\"}, \"mark\": \"errorband\", \"encoding\": {\"color\": {\"field\": \"variable\", \"legend\": {\"title\": [\"Line: pred. mean\", \"area: +/- 2 std\"]}, \"type\": \"nominal\"}, \"x\": {\"field\": \"time\", \"type\": \"temporal\"}, \"y\": {\"field\": \"err_low\", \"scale\": {\"zero\": false}, \"title\": \"\", \"type\": \"quantitative\"}, \"y2\": {\"field\": \"err_high\"}}, \"name\": \"view_35\"}, {\"data\": {\"name\": \"data-b6a9e996982bbfe9ec248f65fbddcb20\"}, \"mark\": \"line\", \"encoding\": {\"color\": {\"field\": \"variable\", \"type\": \"nominal\"}, \"x\": {\"field\": \"time\", \"type\": \"temporal\"}, \"y\": {\"field\": \"mean\", \"scale\": {\"zero\": false}, \"title\": \"\", \"type\": \"quantitative\"}}}], \"height\": 150, \"title\": \"\", \"width\": 200}]}, {\"hconcat\": [{\"layer\": [{\"data\": {\"name\": \"data-9e646d0b866f416e3f89eec212808365\"}, \"mark\": {\"type\": \"point\", \"color\": \"black\", \"fillOpacity\": 1, \"strokeWidth\": 1}, \"encoding\": {\"fill\": {\"field\": \"is_present\", \"legend\": {\"title\": [\"Observed data\"]}, \"scale\": {\"range\": [\"black\", \"#ffffff00\"]}, \"type\": \"nominal\"}, \"shape\": {\"field\": \"is_present\", \"type\": \"nominal\"}, \"x\": {\"axis\": {\"domain\": true, \"labels\": true, \"ticks\": true, \"title\": \"time\"}, \"field\": \"time\", \"type\": \"temporal\"}, \"y\": {\"field\": \"value\", \"scale\": {\"zero\": false}, \"title\": \"\", \"type\": \"quantitative\"}}}, {\"layer\": [{\"mark\": \"rule\", \"encoding\": {\"x\": {\"axis\": {\"domain\": false, \"labels\": false, \"ticks\": false, \"title\": null}, \"field\": \"gap_start\", \"type\": \"temporal\"}}}, {\"mark\": \"rule\", \"encoding\": {\"x\": {\"axis\": {\"domain\": false, \"labels\": false, \"ticks\": false, \"title\": null}, \"field\": \"gap_end\", \"type\": \"temporal\"}}}, {\"mark\": {\"type\": \"rect\", \"color\": \"black\", \"opacity\": 0.15}, \"encoding\": {\"x\": {\"axis\": {\"domain\": false, \"labels\": false, \"ticks\": false, \"title\": null}, \"field\": \"gap_start\", \"type\": \"temporal\"}, \"x2\": {\"field\": \"gap_end\"}}}], \"data\": {\"name\": \"data-d2f3eefc95043ed43f1d38fc833e8633\"}}, {\"data\": {\"name\": \"data-9e646d0b866f416e3f89eec212808365\"}, \"mark\": \"errorband\", \"encoding\": {\"color\": {\"field\": \"variable\", \"legend\": {\"title\": [\"Line: pred. mean\", \"area: +/- 2 std\"]}, \"type\": \"nominal\"}, \"x\": {\"field\": \"time\", \"type\": \"temporal\"}, \"y\": {\"field\": \"err_low\", \"scale\": {\"zero\": false}, \"title\": \"\", \"type\": \"quantitative\"}, \"y2\": {\"field\": \"err_high\"}}, \"name\": \"view_36\"}, {\"data\": {\"name\": \"data-9e646d0b866f416e3f89eec212808365\"}, \"mark\": \"line\", \"encoding\": {\"color\": {\"field\": \"variable\", \"type\": \"nominal\"}, \"x\": {\"field\": \"time\", \"type\": \"temporal\"}, \"y\": {\"field\": \"mean\", \"scale\": {\"zero\": false}, \"title\": \"\", \"type\": \"quantitative\"}}}], \"height\": 150, \"title\": \"\", \"width\": 200}]}, {\"hconcat\": [{\"layer\": [{\"mark\": {\"type\": \"point\", \"color\": \"black\", \"fillOpacity\": 1, \"strokeWidth\": 1}, \"encoding\": {\"fill\": {\"field\": \"is_present\", \"legend\": {\"title\": [\"Observed data\"]}, \"scale\": {\"range\": [\"black\", \"#ffffff00\"]}, \"type\": \"nominal\"}, \"shape\": {\"field\": \"is_present\", \"type\": \"nominal\"}, \"x\": {\"axis\": {\"domain\": true, \"labels\": true, \"ticks\": true, \"title\": \"time\"}, \"field\": \"time\", \"type\": \"temporal\"}, \"y\": {\"field\": \"value\", \"scale\": {\"zero\": false}, \"title\": \"\", \"type\": \"quantitative\"}}}, {\"mark\": \"errorband\", \"encoding\": {\"color\": {\"field\": \"variable\", \"legend\": {\"title\": [\"Line: pred. mean\", \"area: +/- 2 std\"]}, \"type\": \"nominal\"}, \"x\": {\"field\": \"time\", \"type\": \"temporal\"}, \"y\": {\"field\": \"err_low\", \"scale\": {\"zero\": false}, \"title\": \"\", \"type\": \"quantitative\"}, \"y2\": {\"field\": \"err_high\"}}, \"name\": \"view_37\"}, {\"mark\": \"line\", \"encoding\": {\"color\": {\"field\": \"variable\", \"type\": \"nominal\"}, \"x\": {\"field\": \"time\", \"type\": \"temporal\"}, \"y\": {\"field\": \"mean\", \"scale\": {\"zero\": false}, \"title\": \"\", \"type\": \"quantitative\"}}}], \"height\": 150, \"title\": \"\", \"width\": 200}], \"data\": {\"name\": \"data-1e05d38cb01a3392ccf80a126bba469f\"}}], \"title\": [\"loss: 1.162020\", \"rmse: 0.083207\", \"rmse_gap: 0.069988\", \"r2: -266.775635\", \"r2_gap: -165805.093750\"]}], \"params\": [{\"name\": \"param_44\", \"select\": {\"type\": \"interval\", \"encodings\": [\"x\"]}, \"bind\": \"scales\", \"views\": [\"view_29\", \"view_30\", \"view_31\"]}, {\"name\": \"param_48\", \"select\": {\"type\": \"interval\", \"encodings\": [\"x\"]}, \"bind\": \"scales\", \"views\": [\"view_32\", \"view_33\", \"view_34\"]}, {\"name\": \"param_52\", \"select\": {\"type\": \"interval\", \"encodings\": [\"x\"]}, \"bind\": \"scales\", \"views\": [\"view_35\", \"view_36\", \"view_37\"]}], \"$schema\": \"https://vega.github.io/schema/vega-lite/v5.2.0.json\", \"datasets\": {\"data-4385b809e056975c12bb0067e10712ea\": [{\"time\": \"2000-01-01T01:00:00\", \"variable\": \"TA\", \"value\": -0.6499999761581421, \"is_present\": true, \"mean\": 2.021482467651367, \"std\": 2.2792186737060547, \"err_low\": -2.536954879760742, \"err_high\": 6.579919815063477}, {\"time\": \"2000-01-01T01:30:00\", \"variable\": \"TA\", \"value\": -0.5799999833106995, \"is_present\": true, \"mean\": -0.7873735427856445, \"std\": 1.8224880695343018, \"err_low\": -4.432349681854248, \"err_high\": 2.857602596282959}, {\"time\": \"2000-01-01T02:00:00\", \"variable\": \"TA\", \"value\": -0.5099999904632568, \"is_present\": false, \"mean\": -1.0720272064208984, \"std\": 1.7987185716629028, \"err_low\": -4.669464111328125, \"err_high\": 2.5254099369049072}, {\"time\": \"2000-01-01T02:30:00\", \"variable\": \"TA\", \"value\": -0.49000000953674316, \"is_present\": false, \"mean\": -1.0994739532470703, \"std\": 1.7984693050384521, \"err_low\": -4.696412563323975, \"err_high\": 2.497464656829834}, {\"time\": \"2000-01-01T03:00:00\", \"variable\": \"TA\", \"value\": -0.4000000059604645, \"is_present\": true, \"mean\": -1.0712080001831055, \"std\": 1.7966855764389038, \"err_low\": -4.664579391479492, \"err_high\": 2.522163152694702}, {\"time\": \"2000-01-01T03:30:00\", \"variable\": \"TA\", \"value\": -0.36000001430511475, \"is_present\": true, \"mean\": -1.058609962463379, \"std\": 1.7932419776916504, \"err_low\": -4.64509391784668, \"err_high\": 2.527873992919922}, {\"time\": \"2000-01-01T04:00:00\", \"variable\": \"TA\", \"value\": -0.3499999940395355, \"is_present\": true, \"mean\": -1.0617523193359375, \"std\": 1.7927089929580688, \"err_low\": -4.647170066833496, \"err_high\": 2.5236656665802}, {\"time\": \"2000-01-01T04:30:00\", \"variable\": \"TA\", \"value\": -0.2800000011920929, \"is_present\": true, \"mean\": -1.066253662109375, \"std\": 1.7926561832427979, \"err_low\": -4.651566028594971, \"err_high\": 2.5190587043762207}, {\"time\": \"2000-01-01T05:00:00\", \"variable\": \"TA\", \"value\": -0.27000001072883606, \"is_present\": true, \"mean\": -1.046773910522461, \"std\": 1.7928084135055542, \"err_low\": -4.632390975952148, \"err_high\": 2.5388429164886475}, {\"time\": \"2000-01-01T05:30:00\", \"variable\": \"TA\", \"value\": -0.23000000417232513, \"is_present\": true, \"mean\": -1.035207748413086, \"std\": 1.7942185401916504, \"err_low\": -4.623644828796387, \"err_high\": 2.553229331970215}], \"data-d3647b7bf826706d87b620948e73edb1\": [{\"gap_start\": \"2000-01-01T02:00:00\", \"gap_end\": \"2000-01-01T02:30:00\"}], \"data-cc01da4f090398b6bba008e0b867584d\": [{\"time\": \"2000-01-01T01:00:00\", \"variable\": \"SW_IN\", \"value\": 0.0, \"is_present\": true, \"mean\": 62.65424728393555, \"std\": 72.92684173583984, \"err_low\": -83.19943237304688, \"err_high\": 208.5079345703125}, {\"time\": \"2000-01-01T01:30:00\", \"variable\": \"SW_IN\", \"value\": 0.0, \"is_present\": true, \"mean\": 19.291580200195312, \"std\": 66.76834106445312, \"err_low\": -114.24510192871094, \"err_high\": 152.82826232910156}, {\"time\": \"2000-01-01T02:00:00\", \"variable\": \"SW_IN\", \"value\": 0.0, \"is_present\": false, \"mean\": 13.993194580078125, \"std\": 70.6077651977539, \"err_low\": -127.22233581542969, \"err_high\": 155.20872497558594}, {\"time\": \"2000-01-01T02:30:00\", \"variable\": \"SW_IN\", \"value\": 0.0, \"is_present\": false, \"mean\": 9.18743896484375, \"std\": 70.31156158447266, \"err_low\": -131.43568420410156, \"err_high\": 149.81056213378906}, {\"time\": \"2000-01-01T03:00:00\", \"variable\": \"SW_IN\", \"value\": 0.0, \"is_present\": true, \"mean\": 5.129119873046875, \"std\": 65.77459716796875, \"err_low\": -126.42007446289062, \"err_high\": 136.67831420898438}, {\"time\": \"2000-01-01T03:30:00\", \"variable\": \"SW_IN\", \"value\": 0.0, \"is_present\": true, \"mean\": 3.4213333129882812, \"std\": 65.54722595214844, \"err_low\": -127.6731185913086, \"err_high\": 134.51577758789062}, {\"time\": \"2000-01-01T04:00:00\", \"variable\": \"SW_IN\", \"value\": 0.0, \"is_present\": true, \"mean\": 2.6744461059570312, \"std\": 65.52386474609375, \"err_low\": -128.373291015625, \"err_high\": 133.72216796875}, {\"time\": \"2000-01-01T04:30:00\", \"variable\": \"SW_IN\", \"value\": 0.0, \"is_present\": true, \"mean\": 2.7286148071289062, \"std\": 65.52470397949219, \"err_low\": -128.32080078125, \"err_high\": 133.77801513671875}, {\"time\": \"2000-01-01T05:00:00\", \"variable\": \"SW_IN\", \"value\": 0.0, \"is_present\": true, \"mean\": 3.3744735717773438, \"std\": 65.5591049194336, \"err_low\": -127.74373626708984, \"err_high\": 134.49267578125}, {\"time\": \"2000-01-01T05:30:00\", \"variable\": \"SW_IN\", \"value\": 0.0, \"is_present\": true, \"mean\": 2.4483642578125, \"std\": 65.86611938476562, \"err_low\": -129.28387451171875, \"err_high\": 134.18060302734375}], \"data-c59bb4f171f6bdbc4ea5d4228dec3dbc\": [{\"time\": \"2000-01-01T01:00:00\", \"variable\": \"VPD\", \"value\": 0.12200000137090683, \"is_present\": true, \"mean\": -0.3708653450012207, \"std\": 1.2578855752944946, \"err_low\": -2.88663649559021, \"err_high\": 2.1449058055877686}, {\"time\": \"2000-01-01T01:30:00\", \"variable\": \"VPD\", \"value\": 0.09000000357627869, \"is_present\": true, \"mean\": 0.021699190139770508, \"std\": 1.261460542678833, \"err_low\": -2.5012218952178955, \"err_high\": 2.5446202754974365}, {\"time\": \"2000-01-01T02:00:00\", \"variable\": \"VPD\", \"value\": 0.10999999940395355, \"is_present\": true, \"mean\": 0.11522173881530762, \"std\": 1.2884418964385986, \"err_low\": -2.4616620540618896, \"err_high\": 2.692105531692505}, {\"time\": \"2000-01-01T02:30:00\", \"variable\": \"VPD\", \"value\": 0.10199999809265137, \"is_present\": true, \"mean\": 0.11627769470214844, \"std\": 1.287011742591858, \"err_low\": -2.4577457904815674, \"err_high\": 2.6903011798858643}, {\"time\": \"2000-01-01T03:00:00\", \"variable\": \"VPD\", \"value\": 0.11100000143051147, \"is_present\": true, \"mean\": 0.15901756286621094, \"std\": 1.2578859329223633, \"err_low\": -2.3567543029785156, \"err_high\": 2.6747894287109375}, {\"time\": \"2000-01-01T03:30:00\", \"variable\": \"VPD\", \"value\": 0.10899999737739563, \"is_present\": true, \"mean\": 0.1667330265045166, \"std\": 1.257826805114746, \"err_low\": -2.3489205837249756, \"err_high\": 2.682386636734009}, {\"time\": \"2000-01-01T04:00:00\", \"variable\": \"VPD\", \"value\": 0.10700000077486038, \"is_present\": true, \"mean\": 0.1686701774597168, \"std\": 1.25785493850708, \"err_low\": -2.3470396995544434, \"err_high\": 2.684380054473877}, {\"time\": \"2000-01-01T04:30:00\", \"variable\": \"VPD\", \"value\": 0.12200000137090683, \"is_present\": true, \"mean\": 0.18788385391235352, \"std\": 1.2578831911087036, \"err_low\": -2.3278825283050537, \"err_high\": 2.7036502361297607}, {\"time\": \"2000-01-01T05:00:00\", \"variable\": \"VPD\", \"value\": 0.1379999965429306, \"is_present\": true, \"mean\": 0.1941988468170166, \"std\": 1.2583062648773193, \"err_low\": -2.322413682937622, \"err_high\": 2.7108113765716553}, {\"time\": \"2000-01-01T05:30:00\", \"variable\": \"VPD\", \"value\": 0.1379999965429306, \"is_present\": true, \"mean\": 0.06104016304016113, \"std\": 1.2641608715057373, \"err_low\": -2.4672815799713135, \"err_high\": 2.5893619060516357}], \"data-56b122029defdca34c5262a59af02299\": [{\"time\": \"2000-01-01T06:00:00\", \"variable\": \"TA\", \"value\": -0.23000000417232513, \"is_present\": true, \"mean\": 2.3367366790771484, \"std\": 2.2792186737060547, \"err_low\": -2.221700668334961, \"err_high\": 6.895174026489258}, {\"time\": \"2000-01-01T06:30:00\", \"variable\": \"TA\", \"value\": -0.2199999988079071, \"is_present\": true, \"mean\": -0.59454345703125, \"std\": 1.8224880695343018, \"err_low\": -4.2395195960998535, \"err_high\": 3.0504326820373535}, {\"time\": \"2000-01-01T07:00:00\", \"variable\": \"TA\", \"value\": -0.23999999463558197, \"is_present\": false, \"mean\": -0.8529644012451172, \"std\": 1.7987185716629028, \"err_low\": -4.450401306152344, \"err_high\": 2.7444727420806885}, {\"time\": \"2000-01-01T07:30:00\", \"variable\": \"TA\", \"value\": -0.23000000417232513, \"is_present\": false, \"mean\": -0.8119087219238281, \"std\": 1.7984693050384521, \"err_low\": -4.408847332000732, \"err_high\": 2.785029888153076}, {\"time\": \"2000-01-01T08:00:00\", \"variable\": \"TA\", \"value\": -0.2199999988079071, \"is_present\": true, \"mean\": -0.7012357711791992, \"std\": 1.7966855764389038, \"err_low\": -4.294607162475586, \"err_high\": 2.8921353816986084}, {\"time\": \"2000-01-01T08:30:00\", \"variable\": \"TA\", \"value\": -0.1899999976158142, \"is_present\": true, \"mean\": -0.5749883651733398, \"std\": 1.7932419776916504, \"err_low\": -4.161472320556641, \"err_high\": 3.011495590209961}, {\"time\": \"2000-01-01T09:00:00\", \"variable\": \"TA\", \"value\": -0.14000000059604645, \"is_present\": true, \"mean\": -0.422332763671875, \"std\": 1.7927089929580688, \"err_low\": -4.007750511169434, \"err_high\": 3.1630852222442627}, {\"time\": \"2000-01-01T09:30:00\", \"variable\": \"TA\", \"value\": -0.029999999329447746, \"is_present\": true, \"mean\": -0.27406978607177734, \"std\": 1.7926561832427979, \"err_low\": -3.859382152557373, \"err_high\": 3.3112425804138184}, {\"time\": \"2000-01-01T10:00:00\", \"variable\": \"TA\", \"value\": 0.03999999910593033, \"is_present\": true, \"mean\": -0.15576457977294922, \"std\": 1.7928084135055542, \"err_low\": -3.7413814067840576, \"err_high\": 3.429852247238159}, {\"time\": \"2000-01-01T10:30:00\", \"variable\": \"TA\", \"value\": 0.10000000149011612, \"is_present\": true, \"mean\": -0.0411224365234375, \"std\": 1.7942185401916504, \"err_low\": -3.6295595169067383, \"err_high\": 3.5473146438598633}], \"data-22b514a72148b05dd7be146caaa527e7\": [{\"gap_start\": \"2000-01-01T07:00:00\", \"gap_end\": \"2000-01-01T07:30:00\"}], \"data-476481c3c1dc74f0f84b722404d63596\": [{\"time\": \"2000-01-01T06:00:00\", \"variable\": \"SW_IN\", \"value\": 0.0, \"is_present\": true, \"mean\": 59.85215759277344, \"std\": 72.92684173583984, \"err_low\": -86.00152587890625, \"err_high\": 205.70584106445312}, {\"time\": \"2000-01-01T06:30:00\", \"variable\": \"SW_IN\", \"value\": 0.0, \"is_present\": true, \"mean\": 17.410995483398438, \"std\": 66.76834106445312, \"err_low\": -116.12568664550781, \"err_high\": 150.9476776123047}, {\"time\": \"2000-01-01T07:00:00\", \"variable\": \"SW_IN\", \"value\": 0.0, \"is_present\": false, \"mean\": 11.970458984375, \"std\": 70.6077651977539, \"err_low\": -129.2450714111328, \"err_high\": 153.1859893798828}, {\"time\": \"2000-01-01T07:30:00\", \"variable\": \"SW_IN\", \"value\": 0.0, \"is_present\": false, \"mean\": 8.703857421875, \"std\": 70.31156158447266, \"err_low\": -131.9192657470703, \"err_high\": 149.3269805908203}, {\"time\": \"2000-01-01T08:00:00\", \"variable\": \"SW_IN\", \"value\": 0.0, \"is_present\": true, \"mean\": 5.413482666015625, \"std\": 65.77459716796875, \"err_low\": -126.13571166992188, \"err_high\": 136.96267700195312}, {\"time\": \"2000-01-01T08:30:00\", \"variable\": \"SW_IN\", \"value\": 0.44999998807907104, \"is_present\": true, \"mean\": 4.88775634765625, \"std\": 65.54722595214844, \"err_low\": -126.20669555664062, \"err_high\": 135.98220825195312}, {\"time\": \"2000-01-01T09:00:00\", \"variable\": \"SW_IN\", \"value\": 3.700000047683716, \"is_present\": true, \"mean\": 6.377128601074219, \"std\": 65.52386474609375, \"err_low\": -124.67060089111328, \"err_high\": 137.42486572265625}, {\"time\": \"2000-01-01T09:30:00\", \"variable\": \"SW_IN\", \"value\": 7.260000228881836, \"is_present\": true, \"mean\": 9.48834228515625, \"std\": 65.52470397949219, \"err_low\": -121.56106567382812, \"err_high\": 140.53775024414062}, {\"time\": \"2000-01-01T10:00:00\", \"variable\": \"SW_IN\", \"value\": 12.239999771118164, \"is_present\": true, \"mean\": 13.917221069335938, \"std\": 65.5591049194336, \"err_low\": -117.20098876953125, \"err_high\": 145.03543090820312}, {\"time\": \"2000-01-01T10:30:00\", \"variable\": \"SW_IN\", \"value\": 16.510000228881836, \"is_present\": true, \"mean\": 16.698814392089844, \"std\": 65.86611938476562, \"err_low\": -115.0334243774414, \"err_high\": 148.43106079101562}], \"data-20be0175e33b8bc5980e6e2e8a500d11\": [{\"time\": \"2000-01-01T06:00:00\", \"variable\": \"VPD\", \"value\": 0.12200000137090683, \"is_present\": true, \"mean\": -0.3462998867034912, \"std\": 1.2578855752944946, \"err_low\": -2.8620710372924805, \"err_high\": 2.169471263885498}, {\"time\": \"2000-01-01T06:30:00\", \"variable\": \"VPD\", \"value\": 0.09799999743700027, \"is_present\": true, \"mean\": 0.0510408878326416, \"std\": 1.261460542678833, \"err_low\": -2.4718801975250244, \"err_high\": 2.5739619731903076}, {\"time\": \"2000-01-01T07:00:00\", \"variable\": \"VPD\", \"value\": 0.06599999964237213, \"is_present\": true, \"mean\": 0.06720948219299316, \"std\": 1.2884418964385986, \"err_low\": -2.509674310684204, \"err_high\": 2.6440932750701904}, {\"time\": \"2000-01-01T07:30:00\", \"variable\": \"VPD\", \"value\": 0.04399999976158142, \"is_present\": true, \"mean\": 0.05135345458984375, \"std\": 1.287011742591858, \"err_low\": -2.522670030593872, \"err_high\": 2.6253769397735596}, {\"time\": \"2000-01-01T08:00:00\", \"variable\": \"VPD\", \"value\": 0.026000000536441803, \"is_present\": true, \"mean\": 0.046900033950805664, \"std\": 1.2578859329223633, \"err_low\": -2.468871831893921, \"err_high\": 2.5626718997955322}, {\"time\": \"2000-01-01T08:30:00\", \"variable\": \"VPD\", \"value\": 0.01600000075995922, \"is_present\": true, \"mean\": 0.02837204933166504, \"std\": 1.257826805114746, \"err_low\": -2.487281560897827, \"err_high\": 2.5440256595611572}, {\"time\": \"2000-01-01T09:00:00\", \"variable\": \"VPD\", \"value\": 0.009999999776482582, \"is_present\": true, \"mean\": 0.018536090850830078, \"std\": 1.25785493850708, \"err_low\": -2.49717378616333, \"err_high\": 2.5342459678649902}, {\"time\": \"2000-01-01T09:30:00\", \"variable\": \"VPD\", \"value\": 0.006000000052154064, \"is_present\": true, \"mean\": 0.011316061019897461, \"std\": 1.2578831911087036, \"err_low\": -2.5044503211975098, \"err_high\": 2.5270824432373047}, {\"time\": \"2000-01-01T10:00:00\", \"variable\": \"VPD\", \"value\": 0.006000000052154064, \"is_present\": true, \"mean\": 0.009427070617675781, \"std\": 1.2583062648773193, \"err_low\": -2.507185459136963, \"err_high\": 2.5260396003723145}, {\"time\": \"2000-01-01T10:30:00\", \"variable\": \"VPD\", \"value\": 0.006000000052154064, \"is_present\": true, \"mean\": -0.10770845413208008, \"std\": 1.2641608715057373, \"err_low\": -2.6360301971435547, \"err_high\": 2.4206132888793945}], \"data-b6a9e996982bbfe9ec248f65fbddcb20\": [{\"time\": \"2000-01-01T16:00:00\", \"variable\": \"TA\", \"value\": 0.5699999928474426, \"is_present\": true, \"mean\": 2.740248680114746, \"std\": 2.2792186737060547, \"err_low\": -1.8181886672973633, \"err_high\": 7.2986860275268555}, {\"time\": \"2000-01-01T16:30:00\", \"variable\": \"TA\", \"value\": 0.7300000190734863, \"is_present\": true, \"mean\": 1.049889087677002, \"std\": 1.8224880695343018, \"err_low\": -2.5950870513916016, \"err_high\": 4.6948652267456055}, {\"time\": \"2000-01-01T17:00:00\", \"variable\": \"TA\", \"value\": 0.7699999809265137, \"is_present\": false, \"mean\": 1.103198528289795, \"std\": 1.7987185716629028, \"err_low\": -2.4942386150360107, \"err_high\": 4.70063591003418}, {\"time\": \"2000-01-01T17:30:00\", \"variable\": \"TA\", \"value\": 0.8399999737739563, \"is_present\": false, \"mean\": 1.3082165718078613, \"std\": 1.7984693050384521, \"err_low\": -2.288722038269043, \"err_high\": 4.905155181884766}, {\"time\": \"2000-01-01T18:00:00\", \"variable\": \"TA\", \"value\": 0.9900000095367432, \"is_present\": true, \"mean\": 1.5040969848632812, \"std\": 1.7966855764389038, \"err_low\": -2.0892741680145264, \"err_high\": 5.097468376159668}, {\"time\": \"2000-01-01T18:30:00\", \"variable\": \"TA\", \"value\": 1.350000023841858, \"is_present\": true, \"mean\": 1.7364153861999512, \"std\": 1.7932419776916504, \"err_low\": -1.8500685691833496, \"err_high\": 5.322899341583252}, {\"time\": \"2000-01-01T19:00:00\", \"variable\": \"TA\", \"value\": 1.8600000143051147, \"is_present\": true, \"mean\": 1.958282470703125, \"std\": 1.7927089929580688, \"err_low\": -1.6271355152130127, \"err_high\": 5.543700218200684}, {\"time\": \"2000-01-01T19:30:00\", \"variable\": \"TA\", \"value\": 2.009999990463257, \"is_present\": true, \"mean\": 2.1626501083374023, \"std\": 1.7926561832427979, \"err_low\": -1.4226622581481934, \"err_high\": 5.747962474822998}, {\"time\": \"2000-01-01T20:00:00\", \"variable\": \"TA\", \"value\": 2.069999933242798, \"is_present\": true, \"mean\": 2.3103904724121094, \"std\": 1.7928084135055542, \"err_low\": -1.275226354598999, \"err_high\": 5.896007537841797}, {\"time\": \"2000-01-01T20:30:00\", \"variable\": \"TA\", \"value\": 2.0, \"is_present\": true, \"mean\": 2.357977867126465, \"std\": 1.7942185401916504, \"err_low\": -1.230459213256836, \"err_high\": 5.946414947509766}], \"data-d2f3eefc95043ed43f1d38fc833e8633\": [{\"gap_start\": \"2000-01-01T17:00:00\", \"gap_end\": \"2000-01-01T17:30:00\"}], \"data-9e646d0b866f416e3f89eec212808365\": [{\"time\": \"2000-01-01T16:00:00\", \"variable\": \"SW_IN\", \"value\": 6.369999885559082, \"is_present\": true, \"mean\": 60.4833984375, \"std\": 72.92684173583984, \"err_low\": -85.37028503417969, \"err_high\": 206.3370819091797}, {\"time\": \"2000-01-01T16:30:00\", \"variable\": \"SW_IN\", \"value\": 1.7200000286102295, \"is_present\": true, \"mean\": 23.143394470214844, \"std\": 66.76834106445312, \"err_low\": -110.3932876586914, \"err_high\": 156.68008422851562}, {\"time\": \"2000-01-01T17:00:00\", \"variable\": \"SW_IN\", \"value\": 0.05999999865889549, \"is_present\": false, \"mean\": 18.86042022705078, \"std\": 70.6077651977539, \"err_low\": -122.35511016845703, \"err_high\": 160.07595825195312}, {\"time\": \"2000-01-01T17:30:00\", \"variable\": \"SW_IN\", \"value\": 0.0, \"is_present\": false, \"mean\": 15.591773986816406, \"std\": 70.31156158447266, \"err_low\": -125.0313491821289, \"err_high\": 156.21490478515625}, {\"time\": \"2000-01-01T18:00:00\", \"variable\": \"SW_IN\", \"value\": 0.0, \"is_present\": true, \"mean\": 9.208030700683594, \"std\": 65.77459716796875, \"err_low\": -122.3411636352539, \"err_high\": 140.75723266601562}, {\"time\": \"2000-01-01T18:30:00\", \"variable\": \"SW_IN\", \"value\": 0.0, \"is_present\": true, \"mean\": 7.874786376953125, \"std\": 65.54722595214844, \"err_low\": -123.21966552734375, \"err_high\": 138.96923828125}, {\"time\": \"2000-01-01T19:00:00\", \"variable\": \"SW_IN\", \"value\": 0.0, \"is_present\": true, \"mean\": 7.587028503417969, \"std\": 65.52386474609375, \"err_low\": -123.46070098876953, \"err_high\": 138.634765625}, {\"time\": \"2000-01-01T19:30:00\", \"variable\": \"SW_IN\", \"value\": 0.0, \"is_present\": true, \"mean\": 7.543449401855469, \"std\": 65.52470397949219, \"err_low\": -123.5059585571289, \"err_high\": 138.59286499023438}, {\"time\": \"2000-01-01T20:00:00\", \"variable\": \"SW_IN\", \"value\": 0.0, \"is_present\": true, \"mean\": 7.6258697509765625, \"std\": 65.5591049194336, \"err_low\": -123.49234008789062, \"err_high\": 138.74407958984375}, {\"time\": \"2000-01-01T20:30:00\", \"variable\": \"SW_IN\", \"value\": 0.0, \"is_present\": true, \"mean\": 5.370841979980469, \"std\": 65.86611938476562, \"err_low\": -126.36139678955078, \"err_high\": 137.10308837890625}], \"data-1e05d38cb01a3392ccf80a126bba469f\": [{\"time\": \"2000-01-01T16:00:00\", \"variable\": \"VPD\", \"value\": 0.0, \"is_present\": true, \"mean\": -0.39362382888793945, \"std\": 1.2578855752944946, \"err_low\": -2.9093949794769287, \"err_high\": 2.12214732170105}, {\"time\": \"2000-01-01T16:30:00\", \"variable\": \"VPD\", \"value\": 0.0, \"is_present\": true, \"mean\": -0.13465523719787598, \"std\": 1.261460542678833, \"err_low\": -2.657576322555542, \"err_high\": 2.38826584815979}, {\"time\": \"2000-01-01T17:00:00\", \"variable\": \"VPD\", \"value\": 0.0, \"is_present\": true, \"mean\": -0.007746458053588867, \"std\": 1.2884418964385986, \"err_low\": -2.584630250930786, \"err_high\": 2.5691373348236084}, {\"time\": \"2000-01-01T17:30:00\", \"variable\": \"VPD\", \"value\": 0.0, \"is_present\": true, \"mean\": 0.0056040287017822266, \"std\": 1.287011742591858, \"err_low\": -2.5684194564819336, \"err_high\": 2.579627513885498}, {\"time\": \"2000-01-01T18:00:00\", \"variable\": \"VPD\", \"value\": 0.0, \"is_present\": true, \"mean\": -0.08444595336914062, \"std\": 1.2578859329223633, \"err_low\": -2.600217819213867, \"err_high\": 2.431325912475586}, {\"time\": \"2000-01-01T18:30:00\", \"variable\": \"VPD\", \"value\": 0.0, \"is_present\": true, \"mean\": -0.06829118728637695, \"std\": 1.257826805114746, \"err_low\": -2.583944797515869, \"err_high\": 2.4473624229431152}, {\"time\": \"2000-01-01T19:00:00\", \"variable\": \"VPD\", \"value\": 0.0020000000949949026, \"is_present\": true, \"mean\": -0.039962053298950195, \"std\": 1.25785493850708, \"err_low\": -2.5556719303131104, \"err_high\": 2.47574782371521}, {\"time\": \"2000-01-01T19:30:00\", \"variable\": \"VPD\", \"value\": 0.008999999612569809, \"is_present\": true, \"mean\": -0.03877878189086914, \"std\": 1.2578831911087036, \"err_low\": -2.5545451641082764, \"err_high\": 2.476987600326538}, {\"time\": \"2000-01-01T20:00:00\", \"variable\": \"VPD\", \"value\": 0.014000000432133675, \"is_present\": true, \"mean\": -0.04281187057495117, \"std\": 1.2583062648773193, \"err_low\": -2.55942440032959, \"err_high\": 2.4738006591796875}, {\"time\": \"2000-01-01T20:30:00\", \"variable\": \"VPD\", \"value\": 0.014000000432133675, \"is_present\": true, \"mean\": -0.15938973426818848, \"std\": 1.2641608715057373, \"err_low\": -2.687711477279663, \"err_high\": 2.368932008743286}]}}, {\"mode\": \"vega-lite\"});\n",
       "</script>"
      ],
      "text/plain": [
       "alt.HConcatChart(...)"
      ]
     },
     "execution_count": null,
     "metadata": {},
     "output_type": "execute_result"
    }
   ],
   "source": [
    "plot_results(preds, targs, losses, metrics)"
   ]
  },
  {
   "cell_type": "markdown",
   "id": "32cb6c99-004e-4235-82d5-1617e79b7097",
   "metadata": {},
   "source": [
    "#### Show Results"
   ]
  },
  {
   "cell_type": "code",
   "execution_count": null,
   "id": "5f6a1a9f-2a79-4b27-960b-4a8a446de9ac",
   "metadata": {},
   "outputs": [],
   "source": [
    "random.choices(learn.dls.items, k=3)"
   ]
  },
  {
   "cell_type": "code",
   "execution_count": null,
   "id": "0e1ffd2a-4ca6-4200-a44a-26b2a5c6a5d3",
   "metadata": {},
   "outputs": [],
   "source": [
    "learn.metrics"
   ]
  },
  {
   "cell_type": "code",
   "execution_count": null,
   "id": "5b86232f-ada2-443c-b00c-8f7379608085",
   "metadata": {},
   "outputs": [],
   "source": [
    "#|export\n",
    "def get_results(learn, n=3, items=None, dls=None):\n",
    "    dls = ifnone(dls, learn.dls)\n",
    "    dls = dls.valid if len(dls.valid.items) > 0 else dls\n",
    "    items = ifnone(items, random.choices(dls.items, k=3))\n",
    "    pipe0, pipe1 = dls.fs[0,1,2], dls.fs[3,4]\n",
    "    return predict_items(items, learn, pipe0, pipe1)"
   ]
  },
  {
   "cell_type": "code",
   "execution_count": null,
   "id": "ec86db59-0ee4-46c1-af35-290ba45284c0",
   "metadata": {},
   "outputs": [],
   "source": [
    "#| export\n",
    "def show_results(learn, n=3, items=None, **kwargs):\n",
    "    return plot_results(*get_results(learn,n,items), **kwargs)\n",
    "    "
   ]
  },
  {
   "cell_type": "code",
   "execution_count": null,
   "id": "25bc78ec-1348-4af5-ad48-89575654ff01",
   "metadata": {},
   "outputs": [],
   "source": [
    "learn.model.use_smooth = False"
   ]
  },
  {
   "cell_type": "code",
   "execution_count": null,
   "id": "38bb0979-c84d-45ff-8b25-6e737816204b",
   "metadata": {},
   "outputs": [],
   "source": [
    "show_results(learn)"
   ]
  },
  {
   "cell_type": "code",
   "execution_count": null,
   "id": "4b36ddaf-759c-4b42-be6e-4ad2843088c0",
   "metadata": {},
   "outputs": [],
   "source": [
    "show_results(learn, items=[1,2,3])"
   ]
  },
  {
   "cell_type": "code",
   "execution_count": null,
   "id": "6127a4ef-4559-4d5d-9aea-ce3fb210bf93",
   "metadata": {},
   "outputs": [],
   "source": [
    "learn"
   ]
  },
  {
   "cell_type": "markdown",
   "id": "d09f23d4-5d1b-40cb-adf7-0985b452f42b",
   "metadata": {},
   "source": [
    "#### Interactive"
   ]
  },
  {
   "cell_type": "code",
   "execution_count": null,
   "id": "c9bea97c-c708-45af-8b06-a058f0e6c1f8",
   "metadata": {},
   "outputs": [],
   "source": [
    "#| export\n",
    "from ipywidgets import IntSlider, interact_manual, Text"
   ]
  },
  {
   "cell_type": "code",
   "execution_count": null,
   "id": "f701cf43-72a7-47bd-bf6e-4d2c051fd3ef",
   "metadata": {},
   "outputs": [],
   "source": [
    "#| export\n",
    "def results_custom_gap(learn, df, control, items_idx, var_sel, gap_len, block_len, shift, control_lags):\n",
    "    pipeline,_ = imp_pipeline(df, control, var_sel, gap_len, block_len, control_lags, n_rep=1)\n",
    "    items_idx = [[i, shift] for i in items_idx]\n",
    "    dls = TfmdLists(items_idx,pipeline).dataloaders(bs=len(items_idx))\n",
    "    return get_results(learn, items=items_idx, dls=dls)"
   ]
  },
  {
   "cell_type": "code",
   "execution_count": null,
   "id": "eba864dd-5b28-4a18-a88b-a70ab4a36aa7",
   "metadata": {},
   "outputs": [],
   "source": [
    "plot_results(*results_custom_gap(learn64, df=hai64, control=hai_era64,\n",
    "                                 items_idx = [800, 801, 804],\n",
    "                                 var_sel=['TA'], gap_len=10,\n",
    "                                 block_len=200, control_lags=[1]))"
   ]
  },
  {
   "cell_type": "code",
   "execution_count": null,
   "id": "f9c1abdc-91bd-4adf-81a7-c552924024a7",
   "metadata": {},
   "outputs": [],
   "source": [
    "#| export\n",
    "def interact_results(learn, df, control):\n",
    "    interact_args = {\n",
    "        'gap_len': IntSlider(10, 1, 100),\n",
    "        'items_idx': Text(value='10, 100', placeholder=\"comma separated indices\"),\n",
    "        'control_lags': Text(value='1', label=\"comma lag control\"),\n",
    "        'block_len': IntSlider(200, 10, 1000, 10),\n",
    "        'shift': IntSlider(0, -100, 100, 1),\n",
    "        **{var_name: True for var_name in df.columns}\n",
    "    }\n",
    "    \n",
    "    def _inner(gap_len, items_idx, control_lags, block_len, shift, **var_names):\n",
    "        var_sel = [var_name for var_name, var_use in var_names.items() if var_use]\n",
    "        items_idx = list(map(int, items_idx.split(\",\")))\n",
    "        control_lags = list(map(int, control_lags.split(\",\")))\n",
    "        return plot_results(*results_custom_gap(learn=learn, df=df, control=control, var_sel=var_sel,\n",
    "                                                gap_len=gap_len, items_idx=items_idx, block_len=block_len,\n",
    "                                                control_lags=control_lags, shift=shift))\n",
    "    return interact_manual(_inner, **interact_args)"
   ]
  },
  {
   "cell_type": "code",
   "execution_count": null,
   "id": "a92467ac-d417-4205-9fb7-19afe2605fe8",
   "metadata": {},
   "outputs": [],
   "source": [
    "learn64.model.use_smooth = True"
   ]
  },
  {
   "cell_type": "code",
   "execution_count": null,
   "id": "ee2143d8-021a-40f2-ba6d-d86d5e99ae63",
   "metadata": {},
   "outputs": [],
   "source": [
    "interact_results(learn64, hai64, hai_era64)"
   ]
  },
  {
   "cell_type": "markdown",
   "id": "25ee98b3-1618-49fc-86b1-4f4c922a28a4",
   "metadata": {},
   "source": [
    "## Export "
   ]
  },
  {
   "cell_type": "code",
   "execution_count": null,
   "id": "be47bac6-1bac-4b5d-a880-7ddfe17cca68",
   "metadata": {},
   "outputs": [],
   "source": [
    "#| hide\n",
    "from nbdev import nbdev_export\n",
    "nbdev_export()"
   ]
  }
 ],
 "metadata": {
  "kernelspec": {
   "display_name": "data_science",
   "language": "python",
   "name": "data_science"
  },
  "widgets": {
   "application/vnd.jupyter.widget-state+json": {
    "state": {},
    "version_major": 2,
    "version_minor": 0
   }
  }
 },
 "nbformat": 4,
 "nbformat_minor": 5
}
