{
 "cells": [
  {
   "cell_type": "markdown",
   "id": "e8af5772-d828-4017-ae3b-5d530ac57586",
   "metadata": {},
   "source": [
    "# Implement Kalman model using FastAI\n",
    "\n",
    "> need to implement custom data preparation pipeline and loss function "
   ]
  },
  {
   "cell_type": "markdown",
   "id": "b0f3603c-74ec-41ba-a9dc-8fb08c2630cc",
   "metadata": {},
   "source": [
    "## Data Preparation"
   ]
  },
  {
   "cell_type": "markdown",
   "id": "df4ecbb3-f6ef-4344-95e7-5b566611d3f2",
   "metadata": {},
   "source": [
    "The aim of the data preparation pipeline is to:\n",
    "- take the original time series and split it into time blocks\n",
    "- for each block generate a random gap (need to figure out the properties of the gap)\n",
    "- split some time blocks for testing\n",
    "\n",
    "the input of the pipeline is:\n",
    "- a dataframe containing all observations\n",
    "\n",
    "the input of the model is:\n",
    "- observed data (potentially containing NaN where data is missing)\n",
    "- missing data mask (which is telling where the data is missing)\n",
    "- the data needs to be standardized"
   ]
  },
  {
   "cell_type": "code",
   "execution_count": null,
   "id": "b87acfa4-b43e-4cbe-9bc2-103a084ec5a2",
   "metadata": {},
   "outputs": [],
   "source": [
    "%load_ext autoreload\n",
    "%autoreload 2"
   ]
  },
  {
   "cell_type": "code",
   "execution_count": null,
   "id": "cca16380-45e6-479a-b8c3-e6f26ed9fdf3",
   "metadata": {},
   "outputs": [],
   "source": [
    "#| hide\n",
    "#| default_exp kalman.fastai"
   ]
  },
  {
   "cell_type": "code",
   "execution_count": null,
   "id": "6c8eade3",
   "metadata": {},
   "outputs": [],
   "source": [
    "#| export\n",
    "from meteo_imp.utils import *\n",
    "from meteo_imp.gaussian import *"
   ]
  },
  {
   "cell_type": "code",
   "execution_count": null,
   "id": "c946534f",
   "metadata": {},
   "outputs": [],
   "source": [
    "reset_seed()"
   ]
  },
  {
   "cell_type": "code",
   "execution_count": null,
   "id": "bd2ec0dd-d8d3-4c64-91a7-909912be8087",
   "metadata": {},
   "outputs": [],
   "source": [
    "import torch"
   ]
  },
  {
   "cell_type": "code",
   "execution_count": null,
   "id": "131e1d0e-56f7-4c46-aadd-a9a9097bfe28",
   "metadata": {},
   "outputs": [],
   "source": [
    "from fastai.tabular.core import *\n",
    "from fastai.data.core import *"
   ]
  },
  {
   "cell_type": "code",
   "execution_count": null,
   "id": "c153595b-be12-4538-a621-bb9ef2b114ac",
   "metadata": {},
   "outputs": [],
   "source": [
    "#| export\n",
    "from fastcore.transform import *\n",
    "from fastcore.basics import *\n",
    "from fastcore.foundation import *\n",
    "from fastcore.all import *\n",
    "from fastai.tabular import *\n",
    "from fastai.torch_core import default_device, to_cpu\n",
    "\n",
    "from meteo_imp.data import read_fluxnet_csv, hai_path\n",
    "\n",
    "import collections\n",
    "\n",
    "import pandas as pd\n",
    "import numpy as np\n",
    "import matplotlib.pyplot as plt"
   ]
  },
  {
   "cell_type": "code",
   "execution_count": null,
   "id": "d7f48bb9-58ab-4d1a-97d9-b242f6542148",
   "metadata": {},
   "outputs": [],
   "source": [
    "@cache_disk(cache_dir / \"full_hai\")\n",
    "def load_data(dtype=np.float32):\n",
    "    return read_fluxnet_csv(hai_path, None, num_dtype=dtype)\n",
    "\n",
    "hai = load_data()\n",
    "hai64 = load_data(np.float64)"
   ]
  },
  {
   "cell_type": "markdown",
   "id": "d17c4e2b-6175-4674-9437-9e8a75cadb35",
   "metadata": {},
   "source": [
    "### 1) Blocks"
   ]
  },
  {
   "cell_type": "markdown",
   "id": "09346517-48ae-4872-b572-a095b7adcd19",
   "metadata": {},
   "source": [
    "the first step is to transfrom the original dataframe into blocks of a specified `block_len`\n",
    "\n",
    "two different strategies are possible:\n",
    "\n",
    "- contigous blocks\n",
    "- random block in the dataframe"
   ]
  },
  {
   "cell_type": "code",
   "execution_count": null,
   "id": "e4d73d6c-a82f-43c3-a8ff-cd6cfe644fac",
   "metadata": {},
   "outputs": [],
   "source": [
    "#| export\n",
    "class BlockDfTransform(Transform):\n",
    "    \"\"\"divide timeseries DataFrame into blocks\"\"\"\n",
    "    def __init__(self, df, block_len=200): \n",
    "        self.df = df \n",
    "        self.block_len = block_len\n",
    "        self.n = len(df)\n",
    "        \n",
    "    def encodes(self, i:int) -> pd.DataFrame:       \n",
    "        start = i * self.block_len\n",
    "        end = (i+1) * self.block_len\n",
    "        assert end <= self.n \n",
    "        \n",
    "        block = self.df[start:end]\n",
    "        \n",
    "        return block"
   ]
  },
  {
   "cell_type": "code",
   "execution_count": null,
   "id": "4e51eaf9-d972-4960-b5b3-03ddf4b139fa",
   "metadata": {},
   "outputs": [],
   "source": [
    "blk = BlockDfTransform(hai, 10)"
   ]
  },
  {
   "cell_type": "code",
   "execution_count": null,
   "id": "71c4f834-fb0f-4fb3-a13a-da01198a970a",
   "metadata": {},
   "outputs": [
    {
     "data": {
      "text/plain": [
       "BlockDfTransform:\n",
       "encodes: (int,object) -> encodes\n",
       "decodes: "
      ]
     },
     "execution_count": null,
     "metadata": {},
     "output_type": "execute_result"
    }
   ],
   "source": [
    "blk"
   ]
  },
  {
   "cell_type": "code",
   "execution_count": null,
   "id": "db372f33-785c-4e99-8fe0-e439c24b004b",
   "metadata": {},
   "outputs": [
    {
     "data": {
      "text/html": [
       "<div>\n",
       "<style scoped>\n",
       "    .dataframe tbody tr th:only-of-type {\n",
       "        vertical-align: middle;\n",
       "    }\n",
       "\n",
       "    .dataframe tbody tr th {\n",
       "        vertical-align: top;\n",
       "    }\n",
       "\n",
       "    .dataframe thead th {\n",
       "        text-align: right;\n",
       "    }\n",
       "</style>\n",
       "<table border=\"1\" class=\"dataframe\">\n",
       "  <thead>\n",
       "    <tr style=\"text-align: right;\">\n",
       "      <th></th>\n",
       "      <th>TA</th>\n",
       "      <th>SW_IN</th>\n",
       "      <th>VPD</th>\n",
       "    </tr>\n",
       "    <tr>\n",
       "      <th>time</th>\n",
       "      <th></th>\n",
       "      <th></th>\n",
       "      <th></th>\n",
       "    </tr>\n",
       "  </thead>\n",
       "  <tbody>\n",
       "    <tr>\n",
       "      <th>2000-01-01 05:30:00</th>\n",
       "      <td>-0.23</td>\n",
       "      <td>0.00</td>\n",
       "      <td>0.138</td>\n",
       "    </tr>\n",
       "    <tr>\n",
       "      <th>2000-01-01 06:00:00</th>\n",
       "      <td>-0.23</td>\n",
       "      <td>0.00</td>\n",
       "      <td>0.122</td>\n",
       "    </tr>\n",
       "    <tr>\n",
       "      <th>2000-01-01 06:30:00</th>\n",
       "      <td>-0.22</td>\n",
       "      <td>0.00</td>\n",
       "      <td>0.098</td>\n",
       "    </tr>\n",
       "    <tr>\n",
       "      <th>2000-01-01 07:00:00</th>\n",
       "      <td>-0.24</td>\n",
       "      <td>0.00</td>\n",
       "      <td>0.066</td>\n",
       "    </tr>\n",
       "    <tr>\n",
       "      <th>2000-01-01 07:30:00</th>\n",
       "      <td>-0.23</td>\n",
       "      <td>0.00</td>\n",
       "      <td>0.044</td>\n",
       "    </tr>\n",
       "    <tr>\n",
       "      <th>2000-01-01 08:00:00</th>\n",
       "      <td>-0.22</td>\n",
       "      <td>0.00</td>\n",
       "      <td>0.026</td>\n",
       "    </tr>\n",
       "    <tr>\n",
       "      <th>2000-01-01 08:30:00</th>\n",
       "      <td>-0.19</td>\n",
       "      <td>0.45</td>\n",
       "      <td>0.016</td>\n",
       "    </tr>\n",
       "    <tr>\n",
       "      <th>2000-01-01 09:00:00</th>\n",
       "      <td>-0.14</td>\n",
       "      <td>3.70</td>\n",
       "      <td>0.010</td>\n",
       "    </tr>\n",
       "    <tr>\n",
       "      <th>2000-01-01 09:30:00</th>\n",
       "      <td>-0.03</td>\n",
       "      <td>7.26</td>\n",
       "      <td>0.006</td>\n",
       "    </tr>\n",
       "    <tr>\n",
       "      <th>2000-01-01 10:00:00</th>\n",
       "      <td>0.04</td>\n",
       "      <td>12.24</td>\n",
       "      <td>0.006</td>\n",
       "    </tr>\n",
       "  </tbody>\n",
       "</table>\n",
       "</div>"
      ],
      "text/plain": [
       "                       TA  SW_IN    VPD\n",
       "time                                   \n",
       "2000-01-01 05:30:00 -0.23   0.00  0.138\n",
       "2000-01-01 06:00:00 -0.23   0.00  0.122\n",
       "2000-01-01 06:30:00 -0.22   0.00  0.098\n",
       "2000-01-01 07:00:00 -0.24   0.00  0.066\n",
       "2000-01-01 07:30:00 -0.23   0.00  0.044\n",
       "2000-01-01 08:00:00 -0.22   0.00  0.026\n",
       "2000-01-01 08:30:00 -0.19   0.45  0.016\n",
       "2000-01-01 09:00:00 -0.14   3.70  0.010\n",
       "2000-01-01 09:30:00 -0.03   7.26  0.006\n",
       "2000-01-01 10:00:00  0.04  12.24  0.006"
      ]
     },
     "execution_count": null,
     "metadata": {},
     "output_type": "execute_result"
    }
   ],
   "source": [
    "blk(1)"
   ]
  },
  {
   "cell_type": "code",
   "execution_count": null,
   "id": "2342e9e6-0e13-430e-9c4e-25d1c0ec19a3",
   "metadata": {},
   "outputs": [
    {
     "data": {
      "text/plain": [
       "864.0"
      ]
     },
     "execution_count": null,
     "metadata": {},
     "output_type": "execute_result"
    }
   ],
   "source": [
    "180 * 24 * 2 / 10"
   ]
  },
  {
   "cell_type": "markdown",
   "id": "7b7c57e7-4ebb-46b9-a89d-ec980277ae67",
   "metadata": {},
   "source": [
    "we are taking a day in the summer so there is an higher values for the variables"
   ]
  },
  {
   "cell_type": "code",
   "execution_count": null,
   "id": "57479bbb-1a76-44d1-af82-0d3666d2ae7d",
   "metadata": {},
   "outputs": [
    {
     "data": {
      "text/html": [
       "<div>\n",
       "<style scoped>\n",
       "    .dataframe tbody tr th:only-of-type {\n",
       "        vertical-align: middle;\n",
       "    }\n",
       "\n",
       "    .dataframe tbody tr th {\n",
       "        vertical-align: top;\n",
       "    }\n",
       "\n",
       "    .dataframe thead th {\n",
       "        text-align: right;\n",
       "    }\n",
       "</style>\n",
       "<table border=\"1\" class=\"dataframe\">\n",
       "  <thead>\n",
       "    <tr style=\"text-align: right;\">\n",
       "      <th></th>\n",
       "      <th>TA</th>\n",
       "      <th>SW_IN</th>\n",
       "      <th>VPD</th>\n",
       "    </tr>\n",
       "    <tr>\n",
       "      <th>time</th>\n",
       "      <th></th>\n",
       "      <th></th>\n",
       "      <th></th>\n",
       "    </tr>\n",
       "  </thead>\n",
       "  <tbody>\n",
       "    <tr>\n",
       "      <th>2000-06-15 16:30:00</th>\n",
       "      <td>14.65</td>\n",
       "      <td>468.190002</td>\n",
       "      <td>6.454</td>\n",
       "    </tr>\n",
       "    <tr>\n",
       "      <th>2000-06-15 17:00:00</th>\n",
       "      <td>14.22</td>\n",
       "      <td>224.800003</td>\n",
       "      <td>5.799</td>\n",
       "    </tr>\n",
       "    <tr>\n",
       "      <th>2000-06-15 17:30:00</th>\n",
       "      <td>14.11</td>\n",
       "      <td>195.279999</td>\n",
       "      <td>6.577</td>\n",
       "    </tr>\n",
       "    <tr>\n",
       "      <th>2000-06-15 18:00:00</th>\n",
       "      <td>14.23</td>\n",
       "      <td>244.169998</td>\n",
       "      <td>6.931</td>\n",
       "    </tr>\n",
       "    <tr>\n",
       "      <th>2000-06-15 18:30:00</th>\n",
       "      <td>14.40</td>\n",
       "      <td>253.919998</td>\n",
       "      <td>7.286</td>\n",
       "    </tr>\n",
       "    <tr>\n",
       "      <th>2000-06-15 19:00:00</th>\n",
       "      <td>14.09</td>\n",
       "      <td>177.309998</td>\n",
       "      <td>7.251</td>\n",
       "    </tr>\n",
       "    <tr>\n",
       "      <th>2000-06-15 19:30:00</th>\n",
       "      <td>13.71</td>\n",
       "      <td>97.070000</td>\n",
       "      <td>6.683</td>\n",
       "    </tr>\n",
       "    <tr>\n",
       "      <th>2000-06-15 20:00:00</th>\n",
       "      <td>13.08</td>\n",
       "      <td>39.709999</td>\n",
       "      <td>5.851</td>\n",
       "    </tr>\n",
       "    <tr>\n",
       "      <th>2000-06-15 20:30:00</th>\n",
       "      <td>12.41</td>\n",
       "      <td>10.650000</td>\n",
       "      <td>5.254</td>\n",
       "    </tr>\n",
       "    <tr>\n",
       "      <th>2000-06-15 21:00:00</th>\n",
       "      <td>12.27</td>\n",
       "      <td>0.320000</td>\n",
       "      <td>5.164</td>\n",
       "    </tr>\n",
       "  </tbody>\n",
       "</table>\n",
       "</div>"
      ],
      "text/plain": [
       "                        TA       SW_IN    VPD\n",
       "time                                         \n",
       "2000-06-15 16:30:00  14.65  468.190002  6.454\n",
       "2000-06-15 17:00:00  14.22  224.800003  5.799\n",
       "2000-06-15 17:30:00  14.11  195.279999  6.577\n",
       "2000-06-15 18:00:00  14.23  244.169998  6.931\n",
       "2000-06-15 18:30:00  14.40  253.919998  7.286\n",
       "2000-06-15 19:00:00  14.09  177.309998  7.251\n",
       "2000-06-15 19:30:00  13.71   97.070000  6.683\n",
       "2000-06-15 20:00:00  13.08   39.709999  5.851\n",
       "2000-06-15 20:30:00  12.41   10.650000  5.254\n",
       "2000-06-15 21:00:00  12.27    0.320000  5.164"
      ]
     },
     "execution_count": null,
     "metadata": {},
     "output_type": "execute_result"
    }
   ],
   "source": [
    "blk(800)"
   ]
  },
  {
   "cell_type": "code",
   "execution_count": null,
   "id": "0cf65769-4e52-4e14-be29-624cf4d82167",
   "metadata": {},
   "outputs": [],
   "source": [
    "tfms1 = TfmdLists([800,801,802,803], [BlockDfTransform(hai, 10)])"
   ]
  },
  {
   "cell_type": "code",
   "execution_count": null,
   "id": "c8c1ec1e-810f-477f-8bb9-4eaebc2102e3",
   "metadata": {},
   "outputs": [
    {
     "data": {
      "text/html": [
       "<div>\n",
       "<style scoped>\n",
       "    .dataframe tbody tr th:only-of-type {\n",
       "        vertical-align: middle;\n",
       "    }\n",
       "\n",
       "    .dataframe tbody tr th {\n",
       "        vertical-align: top;\n",
       "    }\n",
       "\n",
       "    .dataframe thead th {\n",
       "        text-align: right;\n",
       "    }\n",
       "</style>\n",
       "<table border=\"1\" class=\"dataframe\">\n",
       "  <thead>\n",
       "    <tr style=\"text-align: right;\">\n",
       "      <th></th>\n",
       "      <th>TA</th>\n",
       "      <th>SW_IN</th>\n",
       "      <th>VPD</th>\n",
       "    </tr>\n",
       "    <tr>\n",
       "      <th>time</th>\n",
       "      <th></th>\n",
       "      <th></th>\n",
       "      <th></th>\n",
       "    </tr>\n",
       "  </thead>\n",
       "  <tbody>\n",
       "    <tr>\n",
       "      <th>2000-06-15 16:30:00</th>\n",
       "      <td>14.65</td>\n",
       "      <td>468.190002</td>\n",
       "      <td>6.454</td>\n",
       "    </tr>\n",
       "    <tr>\n",
       "      <th>2000-06-15 17:00:00</th>\n",
       "      <td>14.22</td>\n",
       "      <td>224.800003</td>\n",
       "      <td>5.799</td>\n",
       "    </tr>\n",
       "    <tr>\n",
       "      <th>2000-06-15 17:30:00</th>\n",
       "      <td>14.11</td>\n",
       "      <td>195.279999</td>\n",
       "      <td>6.577</td>\n",
       "    </tr>\n",
       "    <tr>\n",
       "      <th>2000-06-15 18:00:00</th>\n",
       "      <td>14.23</td>\n",
       "      <td>244.169998</td>\n",
       "      <td>6.931</td>\n",
       "    </tr>\n",
       "    <tr>\n",
       "      <th>2000-06-15 18:30:00</th>\n",
       "      <td>14.40</td>\n",
       "      <td>253.919998</td>\n",
       "      <td>7.286</td>\n",
       "    </tr>\n",
       "    <tr>\n",
       "      <th>2000-06-15 19:00:00</th>\n",
       "      <td>14.09</td>\n",
       "      <td>177.309998</td>\n",
       "      <td>7.251</td>\n",
       "    </tr>\n",
       "    <tr>\n",
       "      <th>2000-06-15 19:30:00</th>\n",
       "      <td>13.71</td>\n",
       "      <td>97.070000</td>\n",
       "      <td>6.683</td>\n",
       "    </tr>\n",
       "    <tr>\n",
       "      <th>2000-06-15 20:00:00</th>\n",
       "      <td>13.08</td>\n",
       "      <td>39.709999</td>\n",
       "      <td>5.851</td>\n",
       "    </tr>\n",
       "    <tr>\n",
       "      <th>2000-06-15 20:30:00</th>\n",
       "      <td>12.41</td>\n",
       "      <td>10.650000</td>\n",
       "      <td>5.254</td>\n",
       "    </tr>\n",
       "    <tr>\n",
       "      <th>2000-06-15 21:00:00</th>\n",
       "      <td>12.27</td>\n",
       "      <td>0.320000</td>\n",
       "      <td>5.164</td>\n",
       "    </tr>\n",
       "  </tbody>\n",
       "</table>\n",
       "</div>"
      ],
      "text/plain": [
       "                        TA       SW_IN    VPD\n",
       "time                                         \n",
       "2000-06-15 16:30:00  14.65  468.190002  6.454\n",
       "2000-06-15 17:00:00  14.22  224.800003  5.799\n",
       "2000-06-15 17:30:00  14.11  195.279999  6.577\n",
       "2000-06-15 18:00:00  14.23  244.169998  6.931\n",
       "2000-06-15 18:30:00  14.40  253.919998  7.286\n",
       "2000-06-15 19:00:00  14.09  177.309998  7.251\n",
       "2000-06-15 19:30:00  13.71   97.070000  6.683\n",
       "2000-06-15 20:00:00  13.08   39.709999  5.851\n",
       "2000-06-15 20:30:00  12.41   10.650000  5.254\n",
       "2000-06-15 21:00:00  12.27    0.320000  5.164"
      ]
     },
     "execution_count": null,
     "metadata": {},
     "output_type": "execute_result"
    }
   ],
   "source": [
    "tfms1[0]"
   ]
  },
  {
   "cell_type": "markdown",
   "id": "cc7af1e4-516c-4536-ab92-a5d19eec00fc",
   "metadata": {},
   "source": [
    "### 2) Gaps"
   ]
  },
  {
   "cell_type": "markdown",
   "id": "f2fe95d9-43bb-4174-8b9d-d5e87fdc3930",
   "metadata": {},
   "source": [
    "adds a mask which includes a random gap"
   ]
  },
  {
   "cell_type": "code",
   "execution_count": null,
   "id": "94dcd2e0-9d32-471b-bebd-088d3e487a1f",
   "metadata": {},
   "outputs": [],
   "source": [
    "class MaskedDf:\n",
    "    def __init__(self,*args):\n",
    "        self.data = args[0]\n",
    "        self.mask = args[1]\n",
    "    def __iter__(self): return iter((self.data, self.mask,))\n",
    "    __repr__ = basic_repr(\"data, mask\")\n",
    "    def _repr_html_(self):\n",
    "        return row_dfs({'data': self.data, 'mask': self.mask}, title=\"Masked Df\")"
   ]
  },
  {
   "cell_type": "code",
   "execution_count": null,
   "id": "0c90ac7a-c0e8-4994-9268-8ae6c0739a84",
   "metadata": {},
   "outputs": [],
   "source": [
    "#| exports\n",
    "def _make_random_gap(\n",
    "    gap_length: int, # The length of the gap\n",
    "    total_length: int, # The total number of observations\n",
    "    gap_start: int = None # Optional start of gap\n",
    "): # (total_length) array of bools to indicicate if the data is missing or not\n",
    "    \"Add a continous gap of ginve length at random position\"\n",
    "    if(gap_length >= total_length):\n",
    "        return np.repeat(True, total_length)\n",
    "    gap_start = np.random.randint(total_length - gap_length) if gap_start is None else gap_start\n",
    "    return np.hstack([\n",
    "        np.repeat(False, gap_start),\n",
    "        np.repeat(True, gap_length),\n",
    "        np.repeat(False, total_length - (gap_length + gap_start))\n",
    "    ])"
   ]
  },
  {
   "cell_type": "code",
   "execution_count": null,
   "id": "0302d047-5adc-426e-94c2-1ced768a3a49",
   "metadata": {},
   "outputs": [],
   "source": [
    "#| export\n",
    "from fastcore.basics import *"
   ]
  },
  {
   "cell_type": "code",
   "execution_count": null,
   "id": "c71f35e5-ace8-41a6-806c-d5b14c520e7a",
   "metadata": {},
   "outputs": [],
   "source": [
    "#| export\n",
    "class AddGapTransform(Transform):\n",
    "    \"\"\"Adds a random gap to a `TimeSTensor`\"\"\"\n",
    "    def __init__(self,\n",
    "                variables,\n",
    "                gap_length,\n",
    "                ):\n",
    "        store_attr()\n",
    "    def encodes(self, df: pd.DataFrame):\n",
    "        gap = _make_random_gap(self.gap_length, df.shape[0])\n",
    "        mask = np.ones_like(df, dtype=bool)\n",
    "        col_sel = L(*df.columns).argwhere(lambda x: x in self.variables)\n",
    "        mask[np.argwhere(gap), col_sel] = False\n",
    "        return MaskedDf(df, pd.DataFrame(mask, index=df.index, columns=df.columns))"
   ]
  },
  {
   "cell_type": "code",
   "execution_count": null,
   "id": "47a56595-0fc1-4a7a-a9c6-38497079acb3",
   "metadata": {},
   "outputs": [
    {
     "data": {
      "text/plain": [
       "AddGapTransform:\n",
       "encodes: (DataFrame,object) -> encodes\n",
       "decodes: "
      ]
     },
     "execution_count": null,
     "metadata": {},
     "output_type": "execute_result"
    }
   ],
   "source": [
    "a_gap = AddGapTransform(['TA', 'VPD'], 5)\n",
    "a_gap"
   ]
  },
  {
   "cell_type": "code",
   "execution_count": null,
   "id": "27f2cc9f-4d0a-42a5-90bf-f4ca999918f7",
   "metadata": {},
   "outputs": [
    {
     "data": {
      "text/html": [
       "<p style='font-size: 1.5rem; font-decoration: bold'>Masked Df<p><div style=\"display: flex; column-gap: 20px; flex-wrap: wrap;\" class='table table-striped table-sm'> <div> <p style='font-size: 1.3rem;'>data</p> <style type=\"text/css\">\n",
       "</style>\n",
       "<table id=\"T_51a97\">\n",
       "  <thead>\n",
       "    <tr>\n",
       "      <th id=\"T_51a97_level0_col0\" class=\"col_heading level0 col0\" >TA</th>\n",
       "      <th id=\"T_51a97_level0_col1\" class=\"col_heading level0 col1\" >SW_IN</th>\n",
       "      <th id=\"T_51a97_level0_col2\" class=\"col_heading level0 col2\" >VPD</th>\n",
       "    </tr>\n",
       "  </thead>\n",
       "  <tbody>\n",
       "    <tr>\n",
       "      <td id=\"T_51a97_row0_col0\" class=\"data row0 col0\" >14.6500</td>\n",
       "      <td id=\"T_51a97_row0_col1\" class=\"data row0 col1\" >468.1900</td>\n",
       "      <td id=\"T_51a97_row0_col2\" class=\"data row0 col2\" >6.4540</td>\n",
       "    </tr>\n",
       "    <tr>\n",
       "      <td id=\"T_51a97_row1_col0\" class=\"data row1 col0\" >14.2200</td>\n",
       "      <td id=\"T_51a97_row1_col1\" class=\"data row1 col1\" >224.8000</td>\n",
       "      <td id=\"T_51a97_row1_col2\" class=\"data row1 col2\" >5.7990</td>\n",
       "    </tr>\n",
       "    <tr>\n",
       "      <td id=\"T_51a97_row2_col0\" class=\"data row2 col0\" >14.1100</td>\n",
       "      <td id=\"T_51a97_row2_col1\" class=\"data row2 col1\" >195.2800</td>\n",
       "      <td id=\"T_51a97_row2_col2\" class=\"data row2 col2\" >6.5770</td>\n",
       "    </tr>\n",
       "    <tr>\n",
       "      <td id=\"T_51a97_row3_col0\" class=\"data row3 col0\" >14.2300</td>\n",
       "      <td id=\"T_51a97_row3_col1\" class=\"data row3 col1\" >244.1700</td>\n",
       "      <td id=\"T_51a97_row3_col2\" class=\"data row3 col2\" >6.9310</td>\n",
       "    </tr>\n",
       "    <tr>\n",
       "      <td id=\"T_51a97_row4_col0\" class=\"data row4 col0\" >14.4000</td>\n",
       "      <td id=\"T_51a97_row4_col1\" class=\"data row4 col1\" >253.9200</td>\n",
       "      <td id=\"T_51a97_row4_col2\" class=\"data row4 col2\" >7.2860</td>\n",
       "    </tr>\n",
       "    <tr>\n",
       "      <td id=\"T_51a97_row5_col0\" class=\"data row5 col0\" >14.0900</td>\n",
       "      <td id=\"T_51a97_row5_col1\" class=\"data row5 col1\" >177.3100</td>\n",
       "      <td id=\"T_51a97_row5_col2\" class=\"data row5 col2\" >7.2510</td>\n",
       "    </tr>\n",
       "    <tr>\n",
       "      <td id=\"T_51a97_row6_col0\" class=\"data row6 col0\" >13.7100</td>\n",
       "      <td id=\"T_51a97_row6_col1\" class=\"data row6 col1\" >97.0700</td>\n",
       "      <td id=\"T_51a97_row6_col2\" class=\"data row6 col2\" >6.6830</td>\n",
       "    </tr>\n",
       "    <tr>\n",
       "      <td id=\"T_51a97_row7_col0\" class=\"data row7 col0\" >13.0800</td>\n",
       "      <td id=\"T_51a97_row7_col1\" class=\"data row7 col1\" >39.7100</td>\n",
       "      <td id=\"T_51a97_row7_col2\" class=\"data row7 col2\" >5.8510</td>\n",
       "    </tr>\n",
       "    <tr>\n",
       "      <td id=\"T_51a97_row8_col0\" class=\"data row8 col0\" >12.4100</td>\n",
       "      <td id=\"T_51a97_row8_col1\" class=\"data row8 col1\" >10.6500</td>\n",
       "      <td id=\"T_51a97_row8_col2\" class=\"data row8 col2\" >5.2540</td>\n",
       "    </tr>\n",
       "    <tr>\n",
       "      <td id=\"T_51a97_row9_col0\" class=\"data row9 col0\" >12.2700</td>\n",
       "      <td id=\"T_51a97_row9_col1\" class=\"data row9 col1\" >0.3200</td>\n",
       "      <td id=\"T_51a97_row9_col2\" class=\"data row9 col2\" >5.1640</td>\n",
       "    </tr>\n",
       "  </tbody>\n",
       "</table>\n",
       " </div><div> <p style='font-size: 1.3rem;'>mask</p> <style type=\"text/css\">\n",
       "</style>\n",
       "<table id=\"T_8b329\">\n",
       "  <thead>\n",
       "    <tr>\n",
       "      <th id=\"T_8b329_level0_col0\" class=\"col_heading level0 col0\" >TA</th>\n",
       "      <th id=\"T_8b329_level0_col1\" class=\"col_heading level0 col1\" >SW_IN</th>\n",
       "      <th id=\"T_8b329_level0_col2\" class=\"col_heading level0 col2\" >VPD</th>\n",
       "    </tr>\n",
       "  </thead>\n",
       "  <tbody>\n",
       "    <tr>\n",
       "      <td id=\"T_8b329_row0_col0\" class=\"data row0 col0\" >True</td>\n",
       "      <td id=\"T_8b329_row0_col1\" class=\"data row0 col1\" >True</td>\n",
       "      <td id=\"T_8b329_row0_col2\" class=\"data row0 col2\" >True</td>\n",
       "    </tr>\n",
       "    <tr>\n",
       "      <td id=\"T_8b329_row1_col0\" class=\"data row1 col0\" >True</td>\n",
       "      <td id=\"T_8b329_row1_col1\" class=\"data row1 col1\" >True</td>\n",
       "      <td id=\"T_8b329_row1_col2\" class=\"data row1 col2\" >True</td>\n",
       "    </tr>\n",
       "    <tr>\n",
       "      <td id=\"T_8b329_row2_col0\" class=\"data row2 col0\" >True</td>\n",
       "      <td id=\"T_8b329_row2_col1\" class=\"data row2 col1\" >True</td>\n",
       "      <td id=\"T_8b329_row2_col2\" class=\"data row2 col2\" >True</td>\n",
       "    </tr>\n",
       "    <tr>\n",
       "      <td id=\"T_8b329_row3_col0\" class=\"data row3 col0\" >False</td>\n",
       "      <td id=\"T_8b329_row3_col1\" class=\"data row3 col1\" >True</td>\n",
       "      <td id=\"T_8b329_row3_col2\" class=\"data row3 col2\" >False</td>\n",
       "    </tr>\n",
       "    <tr>\n",
       "      <td id=\"T_8b329_row4_col0\" class=\"data row4 col0\" >False</td>\n",
       "      <td id=\"T_8b329_row4_col1\" class=\"data row4 col1\" >True</td>\n",
       "      <td id=\"T_8b329_row4_col2\" class=\"data row4 col2\" >False</td>\n",
       "    </tr>\n",
       "    <tr>\n",
       "      <td id=\"T_8b329_row5_col0\" class=\"data row5 col0\" >False</td>\n",
       "      <td id=\"T_8b329_row5_col1\" class=\"data row5 col1\" >True</td>\n",
       "      <td id=\"T_8b329_row5_col2\" class=\"data row5 col2\" >False</td>\n",
       "    </tr>\n",
       "    <tr>\n",
       "      <td id=\"T_8b329_row6_col0\" class=\"data row6 col0\" >False</td>\n",
       "      <td id=\"T_8b329_row6_col1\" class=\"data row6 col1\" >True</td>\n",
       "      <td id=\"T_8b329_row6_col2\" class=\"data row6 col2\" >False</td>\n",
       "    </tr>\n",
       "    <tr>\n",
       "      <td id=\"T_8b329_row7_col0\" class=\"data row7 col0\" >False</td>\n",
       "      <td id=\"T_8b329_row7_col1\" class=\"data row7 col1\" >True</td>\n",
       "      <td id=\"T_8b329_row7_col2\" class=\"data row7 col2\" >False</td>\n",
       "    </tr>\n",
       "    <tr>\n",
       "      <td id=\"T_8b329_row8_col0\" class=\"data row8 col0\" >True</td>\n",
       "      <td id=\"T_8b329_row8_col1\" class=\"data row8 col1\" >True</td>\n",
       "      <td id=\"T_8b329_row8_col2\" class=\"data row8 col2\" >True</td>\n",
       "    </tr>\n",
       "    <tr>\n",
       "      <td id=\"T_8b329_row9_col0\" class=\"data row9 col0\" >True</td>\n",
       "      <td id=\"T_8b329_row9_col1\" class=\"data row9 col1\" >True</td>\n",
       "      <td id=\"T_8b329_row9_col2\" class=\"data row9 col2\" >True</td>\n",
       "    </tr>\n",
       "  </tbody>\n",
       "</table>\n",
       " </div></div>"
      ],
      "text/plain": [
       "__main__.MaskedDf(data=                        TA       SW_IN    VPD\n",
       "time                                         \n",
       "2000-06-15 16:30:00  14.65  468.190002  6.454\n",
       "2000-06-15 17:00:00  14.22  224.800003  5.799\n",
       "2000-06-15 17:30:00  14.11  195.279999  6.577\n",
       "2000-06-15 18:00:00  14.23  244.169998  6.931\n",
       "2000-06-15 18:30:00  14.40  253.919998  7.286\n",
       "2000-06-15 19:00:00  14.09  177.309998  7.251\n",
       "2000-06-15 19:30:00  13.71   97.070000  6.683\n",
       "2000-06-15 20:00:00  13.08   39.709999  5.851\n",
       "2000-06-15 20:30:00  12.41   10.650000  5.254\n",
       "2000-06-15 21:00:00  12.27    0.320000  5.164, mask=                        TA  SW_IN    VPD\n",
       "time                                    \n",
       "2000-06-15 16:30:00   True   True   True\n",
       "2000-06-15 17:00:00   True   True   True\n",
       "2000-06-15 17:30:00   True   True   True\n",
       "2000-06-15 18:00:00  False   True  False\n",
       "2000-06-15 18:30:00  False   True  False\n",
       "2000-06-15 19:00:00  False   True  False\n",
       "2000-06-15 19:30:00  False   True  False\n",
       "2000-06-15 20:00:00  False   True  False\n",
       "2000-06-15 20:30:00   True   True   True\n",
       "2000-06-15 21:00:00   True   True   True)"
      ]
     },
     "execution_count": null,
     "metadata": {},
     "output_type": "execute_result"
    }
   ],
   "source": [
    "a_gap(blk(800))"
   ]
  },
  {
   "cell_type": "code",
   "execution_count": null,
   "id": "2f3cccff-2b4f-4817-9807-4d833f9f8b52",
   "metadata": {},
   "outputs": [],
   "source": [
    "m_df = a_gap(blk(800))"
   ]
  },
  {
   "cell_type": "code",
   "execution_count": null,
   "id": "219da54b-55ed-4543-bbbb-5d144d089bed",
   "metadata": {},
   "outputs": [
    {
     "data": {
      "text/html": [
       "<p style='font-size: 1.5rem; font-decoration: bold'><p><div style=\"display: flex; column-gap: 20px; flex-wrap: wrap;\" class='table table-striped table-sm'> <div> <p style='font-size: 1.3rem;'>data</p> <style type=\"text/css\">\n",
       "</style>\n",
       "<table id=\"T_c5b67\">\n",
       "  <thead>\n",
       "    <tr>\n",
       "      <th id=\"T_c5b67_level0_col0\" class=\"col_heading level0 col0\" >TA</th>\n",
       "      <th id=\"T_c5b67_level0_col1\" class=\"col_heading level0 col1\" >SW_IN</th>\n",
       "      <th id=\"T_c5b67_level0_col2\" class=\"col_heading level0 col2\" >VPD</th>\n",
       "    </tr>\n",
       "  </thead>\n",
       "  <tbody>\n",
       "    <tr>\n",
       "      <td id=\"T_c5b67_row0_col0\" class=\"data row0 col0\" >14.6500</td>\n",
       "      <td id=\"T_c5b67_row0_col1\" class=\"data row0 col1\" >468.1900</td>\n",
       "      <td id=\"T_c5b67_row0_col2\" class=\"data row0 col2\" >6.4540</td>\n",
       "    </tr>\n",
       "    <tr>\n",
       "      <td id=\"T_c5b67_row1_col0\" class=\"data row1 col0\" >14.2200</td>\n",
       "      <td id=\"T_c5b67_row1_col1\" class=\"data row1 col1\" >224.8000</td>\n",
       "      <td id=\"T_c5b67_row1_col2\" class=\"data row1 col2\" >5.7990</td>\n",
       "    </tr>\n",
       "    <tr>\n",
       "      <td id=\"T_c5b67_row2_col0\" class=\"data row2 col0\" >14.1100</td>\n",
       "      <td id=\"T_c5b67_row2_col1\" class=\"data row2 col1\" >195.2800</td>\n",
       "      <td id=\"T_c5b67_row2_col2\" class=\"data row2 col2\" >6.5770</td>\n",
       "    </tr>\n",
       "    <tr>\n",
       "      <td id=\"T_c5b67_row3_col0\" class=\"data row3 col0\" >14.2300</td>\n",
       "      <td id=\"T_c5b67_row3_col1\" class=\"data row3 col1\" >244.1700</td>\n",
       "      <td id=\"T_c5b67_row3_col2\" class=\"data row3 col2\" >6.9310</td>\n",
       "    </tr>\n",
       "    <tr>\n",
       "      <td id=\"T_c5b67_row4_col0\" class=\"data row4 col0\" >14.4000</td>\n",
       "      <td id=\"T_c5b67_row4_col1\" class=\"data row4 col1\" >253.9200</td>\n",
       "      <td id=\"T_c5b67_row4_col2\" class=\"data row4 col2\" >7.2860</td>\n",
       "    </tr>\n",
       "    <tr>\n",
       "      <td id=\"T_c5b67_row5_col0\" class=\"data row5 col0\" >14.0900</td>\n",
       "      <td id=\"T_c5b67_row5_col1\" class=\"data row5 col1\" >177.3100</td>\n",
       "      <td id=\"T_c5b67_row5_col2\" class=\"data row5 col2\" >7.2510</td>\n",
       "    </tr>\n",
       "    <tr>\n",
       "      <td id=\"T_c5b67_row6_col0\" class=\"data row6 col0\" >13.7100</td>\n",
       "      <td id=\"T_c5b67_row6_col1\" class=\"data row6 col1\" >97.0700</td>\n",
       "      <td id=\"T_c5b67_row6_col2\" class=\"data row6 col2\" >6.6830</td>\n",
       "    </tr>\n",
       "    <tr>\n",
       "      <td id=\"T_c5b67_row7_col0\" class=\"data row7 col0\" >13.0800</td>\n",
       "      <td id=\"T_c5b67_row7_col1\" class=\"data row7 col1\" >39.7100</td>\n",
       "      <td id=\"T_c5b67_row7_col2\" class=\"data row7 col2\" >5.8510</td>\n",
       "    </tr>\n",
       "    <tr>\n",
       "      <td id=\"T_c5b67_row8_col0\" class=\"data row8 col0\" >12.4100</td>\n",
       "      <td id=\"T_c5b67_row8_col1\" class=\"data row8 col1\" >10.6500</td>\n",
       "      <td id=\"T_c5b67_row8_col2\" class=\"data row8 col2\" >5.2540</td>\n",
       "    </tr>\n",
       "    <tr>\n",
       "      <td id=\"T_c5b67_row9_col0\" class=\"data row9 col0\" >12.2700</td>\n",
       "      <td id=\"T_c5b67_row9_col1\" class=\"data row9 col1\" >0.3200</td>\n",
       "      <td id=\"T_c5b67_row9_col2\" class=\"data row9 col2\" >5.1640</td>\n",
       "    </tr>\n",
       "  </tbody>\n",
       "</table>\n",
       " </div><div> <p style='font-size: 1.3rem;'>mask</p> <style type=\"text/css\">\n",
       "</style>\n",
       "<table id=\"T_848aa\">\n",
       "  <thead>\n",
       "    <tr>\n",
       "      <th id=\"T_848aa_level0_col0\" class=\"col_heading level0 col0\" >TA</th>\n",
       "      <th id=\"T_848aa_level0_col1\" class=\"col_heading level0 col1\" >SW_IN</th>\n",
       "      <th id=\"T_848aa_level0_col2\" class=\"col_heading level0 col2\" >VPD</th>\n",
       "    </tr>\n",
       "  </thead>\n",
       "  <tbody>\n",
       "    <tr>\n",
       "      <td id=\"T_848aa_row0_col0\" class=\"data row0 col0\" >False</td>\n",
       "      <td id=\"T_848aa_row0_col1\" class=\"data row0 col1\" >True</td>\n",
       "      <td id=\"T_848aa_row0_col2\" class=\"data row0 col2\" >False</td>\n",
       "    </tr>\n",
       "    <tr>\n",
       "      <td id=\"T_848aa_row1_col0\" class=\"data row1 col0\" >False</td>\n",
       "      <td id=\"T_848aa_row1_col1\" class=\"data row1 col1\" >True</td>\n",
       "      <td id=\"T_848aa_row1_col2\" class=\"data row1 col2\" >False</td>\n",
       "    </tr>\n",
       "    <tr>\n",
       "      <td id=\"T_848aa_row2_col0\" class=\"data row2 col0\" >False</td>\n",
       "      <td id=\"T_848aa_row2_col1\" class=\"data row2 col1\" >True</td>\n",
       "      <td id=\"T_848aa_row2_col2\" class=\"data row2 col2\" >False</td>\n",
       "    </tr>\n",
       "    <tr>\n",
       "      <td id=\"T_848aa_row3_col0\" class=\"data row3 col0\" >False</td>\n",
       "      <td id=\"T_848aa_row3_col1\" class=\"data row3 col1\" >True</td>\n",
       "      <td id=\"T_848aa_row3_col2\" class=\"data row3 col2\" >False</td>\n",
       "    </tr>\n",
       "    <tr>\n",
       "      <td id=\"T_848aa_row4_col0\" class=\"data row4 col0\" >False</td>\n",
       "      <td id=\"T_848aa_row4_col1\" class=\"data row4 col1\" >True</td>\n",
       "      <td id=\"T_848aa_row4_col2\" class=\"data row4 col2\" >False</td>\n",
       "    </tr>\n",
       "    <tr>\n",
       "      <td id=\"T_848aa_row5_col0\" class=\"data row5 col0\" >True</td>\n",
       "      <td id=\"T_848aa_row5_col1\" class=\"data row5 col1\" >True</td>\n",
       "      <td id=\"T_848aa_row5_col2\" class=\"data row5 col2\" >True</td>\n",
       "    </tr>\n",
       "    <tr>\n",
       "      <td id=\"T_848aa_row6_col0\" class=\"data row6 col0\" >True</td>\n",
       "      <td id=\"T_848aa_row6_col1\" class=\"data row6 col1\" >True</td>\n",
       "      <td id=\"T_848aa_row6_col2\" class=\"data row6 col2\" >True</td>\n",
       "    </tr>\n",
       "    <tr>\n",
       "      <td id=\"T_848aa_row7_col0\" class=\"data row7 col0\" >True</td>\n",
       "      <td id=\"T_848aa_row7_col1\" class=\"data row7 col1\" >True</td>\n",
       "      <td id=\"T_848aa_row7_col2\" class=\"data row7 col2\" >True</td>\n",
       "    </tr>\n",
       "    <tr>\n",
       "      <td id=\"T_848aa_row8_col0\" class=\"data row8 col0\" >True</td>\n",
       "      <td id=\"T_848aa_row8_col1\" class=\"data row8 col1\" >True</td>\n",
       "      <td id=\"T_848aa_row8_col2\" class=\"data row8 col2\" >True</td>\n",
       "    </tr>\n",
       "    <tr>\n",
       "      <td id=\"T_848aa_row9_col0\" class=\"data row9 col0\" >True</td>\n",
       "      <td id=\"T_848aa_row9_col1\" class=\"data row9 col1\" >True</td>\n",
       "      <td id=\"T_848aa_row9_col2\" class=\"data row9 col2\" >True</td>\n",
       "    </tr>\n",
       "  </tbody>\n",
       "</table>\n",
       " </div></div>"
      ],
      "text/plain": [
       "<IPython.core.display.HTML object>"
      ]
     },
     "metadata": {},
     "output_type": "display_data"
    }
   ],
   "source": [
    "display_as_row({'data': m_df.data, 'mask': m_df.mask})"
   ]
  },
  {
   "cell_type": "code",
   "execution_count": null,
   "id": "465aab96-5f68-49c4-94bd-8c4fe4d5e8de",
   "metadata": {},
   "outputs": [],
   "source": [
    "tfms2 = TfmdLists([800,801,802,803], [BlockDfTransform(hai, 10), AddGapTransform(['TA','SW_IN'], 2)])"
   ]
  },
  {
   "cell_type": "code",
   "execution_count": null,
   "id": "3292befc-b05d-441b-9404-7d1aa24d657d",
   "metadata": {},
   "outputs": [
    {
     "data": {
      "text/html": [
       "<p style='font-size: 1.5rem; font-decoration: bold'>Masked Df<p><div style=\"display: flex; column-gap: 20px; flex-wrap: wrap;\" class='table table-striped table-sm'> <div> <p style='font-size: 1.3rem;'>data</p> <style type=\"text/css\">\n",
       "</style>\n",
       "<table id=\"T_84704\">\n",
       "  <thead>\n",
       "    <tr>\n",
       "      <th id=\"T_84704_level0_col0\" class=\"col_heading level0 col0\" >TA</th>\n",
       "      <th id=\"T_84704_level0_col1\" class=\"col_heading level0 col1\" >SW_IN</th>\n",
       "      <th id=\"T_84704_level0_col2\" class=\"col_heading level0 col2\" >VPD</th>\n",
       "    </tr>\n",
       "  </thead>\n",
       "  <tbody>\n",
       "    <tr>\n",
       "      <td id=\"T_84704_row0_col0\" class=\"data row0 col0\" >14.6500</td>\n",
       "      <td id=\"T_84704_row0_col1\" class=\"data row0 col1\" >468.1900</td>\n",
       "      <td id=\"T_84704_row0_col2\" class=\"data row0 col2\" >6.4540</td>\n",
       "    </tr>\n",
       "    <tr>\n",
       "      <td id=\"T_84704_row1_col0\" class=\"data row1 col0\" >14.2200</td>\n",
       "      <td id=\"T_84704_row1_col1\" class=\"data row1 col1\" >224.8000</td>\n",
       "      <td id=\"T_84704_row1_col2\" class=\"data row1 col2\" >5.7990</td>\n",
       "    </tr>\n",
       "    <tr>\n",
       "      <td id=\"T_84704_row2_col0\" class=\"data row2 col0\" >14.1100</td>\n",
       "      <td id=\"T_84704_row2_col1\" class=\"data row2 col1\" >195.2800</td>\n",
       "      <td id=\"T_84704_row2_col2\" class=\"data row2 col2\" >6.5770</td>\n",
       "    </tr>\n",
       "    <tr>\n",
       "      <td id=\"T_84704_row3_col0\" class=\"data row3 col0\" >14.2300</td>\n",
       "      <td id=\"T_84704_row3_col1\" class=\"data row3 col1\" >244.1700</td>\n",
       "      <td id=\"T_84704_row3_col2\" class=\"data row3 col2\" >6.9310</td>\n",
       "    </tr>\n",
       "    <tr>\n",
       "      <td id=\"T_84704_row4_col0\" class=\"data row4 col0\" >14.4000</td>\n",
       "      <td id=\"T_84704_row4_col1\" class=\"data row4 col1\" >253.9200</td>\n",
       "      <td id=\"T_84704_row4_col2\" class=\"data row4 col2\" >7.2860</td>\n",
       "    </tr>\n",
       "    <tr>\n",
       "      <td id=\"T_84704_row5_col0\" class=\"data row5 col0\" >14.0900</td>\n",
       "      <td id=\"T_84704_row5_col1\" class=\"data row5 col1\" >177.3100</td>\n",
       "      <td id=\"T_84704_row5_col2\" class=\"data row5 col2\" >7.2510</td>\n",
       "    </tr>\n",
       "    <tr>\n",
       "      <td id=\"T_84704_row6_col0\" class=\"data row6 col0\" >13.7100</td>\n",
       "      <td id=\"T_84704_row6_col1\" class=\"data row6 col1\" >97.0700</td>\n",
       "      <td id=\"T_84704_row6_col2\" class=\"data row6 col2\" >6.6830</td>\n",
       "    </tr>\n",
       "    <tr>\n",
       "      <td id=\"T_84704_row7_col0\" class=\"data row7 col0\" >13.0800</td>\n",
       "      <td id=\"T_84704_row7_col1\" class=\"data row7 col1\" >39.7100</td>\n",
       "      <td id=\"T_84704_row7_col2\" class=\"data row7 col2\" >5.8510</td>\n",
       "    </tr>\n",
       "    <tr>\n",
       "      <td id=\"T_84704_row8_col0\" class=\"data row8 col0\" >12.4100</td>\n",
       "      <td id=\"T_84704_row8_col1\" class=\"data row8 col1\" >10.6500</td>\n",
       "      <td id=\"T_84704_row8_col2\" class=\"data row8 col2\" >5.2540</td>\n",
       "    </tr>\n",
       "    <tr>\n",
       "      <td id=\"T_84704_row9_col0\" class=\"data row9 col0\" >12.2700</td>\n",
       "      <td id=\"T_84704_row9_col1\" class=\"data row9 col1\" >0.3200</td>\n",
       "      <td id=\"T_84704_row9_col2\" class=\"data row9 col2\" >5.1640</td>\n",
       "    </tr>\n",
       "  </tbody>\n",
       "</table>\n",
       " </div><div> <p style='font-size: 1.3rem;'>mask</p> <style type=\"text/css\">\n",
       "</style>\n",
       "<table id=\"T_bbf1e\">\n",
       "  <thead>\n",
       "    <tr>\n",
       "      <th id=\"T_bbf1e_level0_col0\" class=\"col_heading level0 col0\" >TA</th>\n",
       "      <th id=\"T_bbf1e_level0_col1\" class=\"col_heading level0 col1\" >SW_IN</th>\n",
       "      <th id=\"T_bbf1e_level0_col2\" class=\"col_heading level0 col2\" >VPD</th>\n",
       "    </tr>\n",
       "  </thead>\n",
       "  <tbody>\n",
       "    <tr>\n",
       "      <td id=\"T_bbf1e_row0_col0\" class=\"data row0 col0\" >True</td>\n",
       "      <td id=\"T_bbf1e_row0_col1\" class=\"data row0 col1\" >True</td>\n",
       "      <td id=\"T_bbf1e_row0_col2\" class=\"data row0 col2\" >True</td>\n",
       "    </tr>\n",
       "    <tr>\n",
       "      <td id=\"T_bbf1e_row1_col0\" class=\"data row1 col0\" >True</td>\n",
       "      <td id=\"T_bbf1e_row1_col1\" class=\"data row1 col1\" >True</td>\n",
       "      <td id=\"T_bbf1e_row1_col2\" class=\"data row1 col2\" >True</td>\n",
       "    </tr>\n",
       "    <tr>\n",
       "      <td id=\"T_bbf1e_row2_col0\" class=\"data row2 col0\" >True</td>\n",
       "      <td id=\"T_bbf1e_row2_col1\" class=\"data row2 col1\" >True</td>\n",
       "      <td id=\"T_bbf1e_row2_col2\" class=\"data row2 col2\" >True</td>\n",
       "    </tr>\n",
       "    <tr>\n",
       "      <td id=\"T_bbf1e_row3_col0\" class=\"data row3 col0\" >True</td>\n",
       "      <td id=\"T_bbf1e_row3_col1\" class=\"data row3 col1\" >True</td>\n",
       "      <td id=\"T_bbf1e_row3_col2\" class=\"data row3 col2\" >True</td>\n",
       "    </tr>\n",
       "    <tr>\n",
       "      <td id=\"T_bbf1e_row4_col0\" class=\"data row4 col0\" >True</td>\n",
       "      <td id=\"T_bbf1e_row4_col1\" class=\"data row4 col1\" >True</td>\n",
       "      <td id=\"T_bbf1e_row4_col2\" class=\"data row4 col2\" >True</td>\n",
       "    </tr>\n",
       "    <tr>\n",
       "      <td id=\"T_bbf1e_row5_col0\" class=\"data row5 col0\" >True</td>\n",
       "      <td id=\"T_bbf1e_row5_col1\" class=\"data row5 col1\" >True</td>\n",
       "      <td id=\"T_bbf1e_row5_col2\" class=\"data row5 col2\" >True</td>\n",
       "    </tr>\n",
       "    <tr>\n",
       "      <td id=\"T_bbf1e_row6_col0\" class=\"data row6 col0\" >True</td>\n",
       "      <td id=\"T_bbf1e_row6_col1\" class=\"data row6 col1\" >True</td>\n",
       "      <td id=\"T_bbf1e_row6_col2\" class=\"data row6 col2\" >True</td>\n",
       "    </tr>\n",
       "    <tr>\n",
       "      <td id=\"T_bbf1e_row7_col0\" class=\"data row7 col0\" >False</td>\n",
       "      <td id=\"T_bbf1e_row7_col1\" class=\"data row7 col1\" >False</td>\n",
       "      <td id=\"T_bbf1e_row7_col2\" class=\"data row7 col2\" >True</td>\n",
       "    </tr>\n",
       "    <tr>\n",
       "      <td id=\"T_bbf1e_row8_col0\" class=\"data row8 col0\" >False</td>\n",
       "      <td id=\"T_bbf1e_row8_col1\" class=\"data row8 col1\" >False</td>\n",
       "      <td id=\"T_bbf1e_row8_col2\" class=\"data row8 col2\" >True</td>\n",
       "    </tr>\n",
       "    <tr>\n",
       "      <td id=\"T_bbf1e_row9_col0\" class=\"data row9 col0\" >True</td>\n",
       "      <td id=\"T_bbf1e_row9_col1\" class=\"data row9 col1\" >True</td>\n",
       "      <td id=\"T_bbf1e_row9_col2\" class=\"data row9 col2\" >True</td>\n",
       "    </tr>\n",
       "  </tbody>\n",
       "</table>\n",
       " </div></div>"
      ],
      "text/plain": [
       "__main__.MaskedDf(data=                        TA       SW_IN    VPD\n",
       "time                                         \n",
       "2000-06-15 16:30:00  14.65  468.190002  6.454\n",
       "2000-06-15 17:00:00  14.22  224.800003  5.799\n",
       "2000-06-15 17:30:00  14.11  195.279999  6.577\n",
       "2000-06-15 18:00:00  14.23  244.169998  6.931\n",
       "2000-06-15 18:30:00  14.40  253.919998  7.286\n",
       "2000-06-15 19:00:00  14.09  177.309998  7.251\n",
       "2000-06-15 19:30:00  13.71   97.070000  6.683\n",
       "2000-06-15 20:00:00  13.08   39.709999  5.851\n",
       "2000-06-15 20:30:00  12.41   10.650000  5.254\n",
       "2000-06-15 21:00:00  12.27    0.320000  5.164, mask=                        TA  SW_IN   VPD\n",
       "time                                   \n",
       "2000-06-15 16:30:00   True   True  True\n",
       "2000-06-15 17:00:00   True   True  True\n",
       "2000-06-15 17:30:00   True   True  True\n",
       "2000-06-15 18:00:00   True   True  True\n",
       "2000-06-15 18:30:00   True   True  True\n",
       "2000-06-15 19:00:00   True   True  True\n",
       "2000-06-15 19:30:00   True   True  True\n",
       "2000-06-15 20:00:00  False  False  True\n",
       "2000-06-15 20:30:00  False  False  True\n",
       "2000-06-15 21:00:00   True   True  True)"
      ]
     },
     "execution_count": null,
     "metadata": {},
     "output_type": "execute_result"
    }
   ],
   "source": [
    "tfms2[0]"
   ]
  },
  {
   "cell_type": "code",
   "execution_count": null,
   "id": "5952ccff-6433-48ca-8940-6ea872927cdc",
   "metadata": {},
   "outputs": [],
   "source": [
    "#| export\n",
    "@patch\n",
    "def tidy(self: MaskedDf):\n",
    "    data = self.data.reset_index().melt(\"time\")\n",
    "    mask = self.mask.reset_index().melt(\"time\", value_name=\"is_present\")\n",
    "    \n",
    "    return pd.merge(data, mask, on=[\"time\", \"variable\"])"
   ]
  },
  {
   "cell_type": "code",
   "execution_count": null,
   "id": "c601c37c-a032-4edb-a522-50ce0af7b87d",
   "metadata": {},
   "outputs": [
    {
     "data": {
      "text/html": [
       "<div>\n",
       "<style scoped>\n",
       "    .dataframe tbody tr th:only-of-type {\n",
       "        vertical-align: middle;\n",
       "    }\n",
       "\n",
       "    .dataframe tbody tr th {\n",
       "        vertical-align: top;\n",
       "    }\n",
       "\n",
       "    .dataframe thead th {\n",
       "        text-align: right;\n",
       "    }\n",
       "</style>\n",
       "<table border=\"1\" class=\"dataframe\">\n",
       "  <thead>\n",
       "    <tr style=\"text-align: right;\">\n",
       "      <th></th>\n",
       "      <th>time</th>\n",
       "      <th>variable</th>\n",
       "      <th>value</th>\n",
       "      <th>is_present</th>\n",
       "    </tr>\n",
       "  </thead>\n",
       "  <tbody>\n",
       "    <tr>\n",
       "      <th>0</th>\n",
       "      <td>2000-06-15 16:30:00</td>\n",
       "      <td>TA</td>\n",
       "      <td>14.650000</td>\n",
       "      <td>False</td>\n",
       "    </tr>\n",
       "    <tr>\n",
       "      <th>1</th>\n",
       "      <td>2000-06-15 17:00:00</td>\n",
       "      <td>TA</td>\n",
       "      <td>14.220000</td>\n",
       "      <td>False</td>\n",
       "    </tr>\n",
       "    <tr>\n",
       "      <th>2</th>\n",
       "      <td>2000-06-15 17:30:00</td>\n",
       "      <td>TA</td>\n",
       "      <td>14.110000</td>\n",
       "      <td>False</td>\n",
       "    </tr>\n",
       "    <tr>\n",
       "      <th>3</th>\n",
       "      <td>2000-06-15 18:00:00</td>\n",
       "      <td>TA</td>\n",
       "      <td>14.230000</td>\n",
       "      <td>False</td>\n",
       "    </tr>\n",
       "    <tr>\n",
       "      <th>4</th>\n",
       "      <td>2000-06-15 18:30:00</td>\n",
       "      <td>TA</td>\n",
       "      <td>14.400000</td>\n",
       "      <td>False</td>\n",
       "    </tr>\n",
       "    <tr>\n",
       "      <th>5</th>\n",
       "      <td>2000-06-15 19:00:00</td>\n",
       "      <td>TA</td>\n",
       "      <td>14.090000</td>\n",
       "      <td>True</td>\n",
       "    </tr>\n",
       "    <tr>\n",
       "      <th>6</th>\n",
       "      <td>2000-06-15 19:30:00</td>\n",
       "      <td>TA</td>\n",
       "      <td>13.710000</td>\n",
       "      <td>True</td>\n",
       "    </tr>\n",
       "    <tr>\n",
       "      <th>7</th>\n",
       "      <td>2000-06-15 20:00:00</td>\n",
       "      <td>TA</td>\n",
       "      <td>13.080000</td>\n",
       "      <td>True</td>\n",
       "    </tr>\n",
       "    <tr>\n",
       "      <th>8</th>\n",
       "      <td>2000-06-15 20:30:00</td>\n",
       "      <td>TA</td>\n",
       "      <td>12.410000</td>\n",
       "      <td>True</td>\n",
       "    </tr>\n",
       "    <tr>\n",
       "      <th>9</th>\n",
       "      <td>2000-06-15 21:00:00</td>\n",
       "      <td>TA</td>\n",
       "      <td>12.270000</td>\n",
       "      <td>True</td>\n",
       "    </tr>\n",
       "    <tr>\n",
       "      <th>10</th>\n",
       "      <td>2000-06-15 16:30:00</td>\n",
       "      <td>SW_IN</td>\n",
       "      <td>468.190002</td>\n",
       "      <td>True</td>\n",
       "    </tr>\n",
       "    <tr>\n",
       "      <th>11</th>\n",
       "      <td>2000-06-15 17:00:00</td>\n",
       "      <td>SW_IN</td>\n",
       "      <td>224.800003</td>\n",
       "      <td>True</td>\n",
       "    </tr>\n",
       "    <tr>\n",
       "      <th>12</th>\n",
       "      <td>2000-06-15 17:30:00</td>\n",
       "      <td>SW_IN</td>\n",
       "      <td>195.279999</td>\n",
       "      <td>True</td>\n",
       "    </tr>\n",
       "    <tr>\n",
       "      <th>13</th>\n",
       "      <td>2000-06-15 18:00:00</td>\n",
       "      <td>SW_IN</td>\n",
       "      <td>244.169998</td>\n",
       "      <td>True</td>\n",
       "    </tr>\n",
       "    <tr>\n",
       "      <th>14</th>\n",
       "      <td>2000-06-15 18:30:00</td>\n",
       "      <td>SW_IN</td>\n",
       "      <td>253.919998</td>\n",
       "      <td>True</td>\n",
       "    </tr>\n",
       "    <tr>\n",
       "      <th>15</th>\n",
       "      <td>2000-06-15 19:00:00</td>\n",
       "      <td>SW_IN</td>\n",
       "      <td>177.309998</td>\n",
       "      <td>True</td>\n",
       "    </tr>\n",
       "    <tr>\n",
       "      <th>16</th>\n",
       "      <td>2000-06-15 19:30:00</td>\n",
       "      <td>SW_IN</td>\n",
       "      <td>97.070000</td>\n",
       "      <td>True</td>\n",
       "    </tr>\n",
       "    <tr>\n",
       "      <th>17</th>\n",
       "      <td>2000-06-15 20:00:00</td>\n",
       "      <td>SW_IN</td>\n",
       "      <td>39.709999</td>\n",
       "      <td>True</td>\n",
       "    </tr>\n",
       "    <tr>\n",
       "      <th>18</th>\n",
       "      <td>2000-06-15 20:30:00</td>\n",
       "      <td>SW_IN</td>\n",
       "      <td>10.650000</td>\n",
       "      <td>True</td>\n",
       "    </tr>\n",
       "    <tr>\n",
       "      <th>19</th>\n",
       "      <td>2000-06-15 21:00:00</td>\n",
       "      <td>SW_IN</td>\n",
       "      <td>0.320000</td>\n",
       "      <td>True</td>\n",
       "    </tr>\n",
       "    <tr>\n",
       "      <th>20</th>\n",
       "      <td>2000-06-15 16:30:00</td>\n",
       "      <td>VPD</td>\n",
       "      <td>6.454000</td>\n",
       "      <td>False</td>\n",
       "    </tr>\n",
       "    <tr>\n",
       "      <th>21</th>\n",
       "      <td>2000-06-15 17:00:00</td>\n",
       "      <td>VPD</td>\n",
       "      <td>5.799000</td>\n",
       "      <td>False</td>\n",
       "    </tr>\n",
       "    <tr>\n",
       "      <th>22</th>\n",
       "      <td>2000-06-15 17:30:00</td>\n",
       "      <td>VPD</td>\n",
       "      <td>6.577000</td>\n",
       "      <td>False</td>\n",
       "    </tr>\n",
       "    <tr>\n",
       "      <th>23</th>\n",
       "      <td>2000-06-15 18:00:00</td>\n",
       "      <td>VPD</td>\n",
       "      <td>6.931000</td>\n",
       "      <td>False</td>\n",
       "    </tr>\n",
       "    <tr>\n",
       "      <th>24</th>\n",
       "      <td>2000-06-15 18:30:00</td>\n",
       "      <td>VPD</td>\n",
       "      <td>7.286000</td>\n",
       "      <td>False</td>\n",
       "    </tr>\n",
       "    <tr>\n",
       "      <th>25</th>\n",
       "      <td>2000-06-15 19:00:00</td>\n",
       "      <td>VPD</td>\n",
       "      <td>7.251000</td>\n",
       "      <td>True</td>\n",
       "    </tr>\n",
       "    <tr>\n",
       "      <th>26</th>\n",
       "      <td>2000-06-15 19:30:00</td>\n",
       "      <td>VPD</td>\n",
       "      <td>6.683000</td>\n",
       "      <td>True</td>\n",
       "    </tr>\n",
       "    <tr>\n",
       "      <th>27</th>\n",
       "      <td>2000-06-15 20:00:00</td>\n",
       "      <td>VPD</td>\n",
       "      <td>5.851000</td>\n",
       "      <td>True</td>\n",
       "    </tr>\n",
       "    <tr>\n",
       "      <th>28</th>\n",
       "      <td>2000-06-15 20:30:00</td>\n",
       "      <td>VPD</td>\n",
       "      <td>5.254000</td>\n",
       "      <td>True</td>\n",
       "    </tr>\n",
       "    <tr>\n",
       "      <th>29</th>\n",
       "      <td>2000-06-15 21:00:00</td>\n",
       "      <td>VPD</td>\n",
       "      <td>5.164000</td>\n",
       "      <td>True</td>\n",
       "    </tr>\n",
       "  </tbody>\n",
       "</table>\n",
       "</div>"
      ],
      "text/plain": [
       "                  time variable       value  is_present\n",
       "0  2000-06-15 16:30:00       TA   14.650000       False\n",
       "1  2000-06-15 17:00:00       TA   14.220000       False\n",
       "2  2000-06-15 17:30:00       TA   14.110000       False\n",
       "3  2000-06-15 18:00:00       TA   14.230000       False\n",
       "4  2000-06-15 18:30:00       TA   14.400000       False\n",
       "5  2000-06-15 19:00:00       TA   14.090000        True\n",
       "6  2000-06-15 19:30:00       TA   13.710000        True\n",
       "7  2000-06-15 20:00:00       TA   13.080000        True\n",
       "8  2000-06-15 20:30:00       TA   12.410000        True\n",
       "9  2000-06-15 21:00:00       TA   12.270000        True\n",
       "10 2000-06-15 16:30:00    SW_IN  468.190002        True\n",
       "11 2000-06-15 17:00:00    SW_IN  224.800003        True\n",
       "12 2000-06-15 17:30:00    SW_IN  195.279999        True\n",
       "13 2000-06-15 18:00:00    SW_IN  244.169998        True\n",
       "14 2000-06-15 18:30:00    SW_IN  253.919998        True\n",
       "15 2000-06-15 19:00:00    SW_IN  177.309998        True\n",
       "16 2000-06-15 19:30:00    SW_IN   97.070000        True\n",
       "17 2000-06-15 20:00:00    SW_IN   39.709999        True\n",
       "18 2000-06-15 20:30:00    SW_IN   10.650000        True\n",
       "19 2000-06-15 21:00:00    SW_IN    0.320000        True\n",
       "20 2000-06-15 16:30:00      VPD    6.454000       False\n",
       "21 2000-06-15 17:00:00      VPD    5.799000       False\n",
       "22 2000-06-15 17:30:00      VPD    6.577000       False\n",
       "23 2000-06-15 18:00:00      VPD    6.931000       False\n",
       "24 2000-06-15 18:30:00      VPD    7.286000       False\n",
       "25 2000-06-15 19:00:00      VPD    7.251000        True\n",
       "26 2000-06-15 19:30:00      VPD    6.683000        True\n",
       "27 2000-06-15 20:00:00      VPD    5.851000        True\n",
       "28 2000-06-15 20:30:00      VPD    5.254000        True\n",
       "29 2000-06-15 21:00:00      VPD    5.164000        True"
      ]
     },
     "execution_count": null,
     "metadata": {},
     "output_type": "execute_result"
    }
   ],
   "source": [
    "m_df.tidy()"
   ]
  },
  {
   "cell_type": "markdown",
   "id": "9d2c8fbc-f1e1-4938-b4a6-d29d8bd8e6bd",
   "metadata": {},
   "source": [
    "#### Plotting"
   ]
  },
  {
   "cell_type": "code",
   "execution_count": null,
   "id": "f36f4825-52e4-49c7-92f1-14d64429e3ea",
   "metadata": {},
   "outputs": [],
   "source": [
    "#| export\n",
    "import altair as alt\n",
    "from altair import datum"
   ]
  },
  {
   "cell_type": "code",
   "execution_count": null,
   "id": "51544d62-63ca-4e6c-b63e-943cc739fa5b",
   "metadata": {},
   "outputs": [],
   "source": [
    "#| exporti\n",
    "def def_selection():\n",
    "    return alt.selection_interval(bind=\"scales\")"
   ]
  },
  {
   "cell_type": "code",
   "execution_count": null,
   "id": "7f1e483f-f250-4baf-82ee-3958f5cefba8",
   "metadata": {},
   "outputs": [],
   "source": [
    "#| exporti\n",
    "def plot_rug(df, sel = def_selection(), props = {}):\n",
    "    if 'height' in props:\n",
    "        props = props.copy() \n",
    "        props.pop('height') # rug should have default heigth\n",
    "    return alt.Chart(df).mark_tick(\n",
    "            color='black',\n",
    "        ).encode(\n",
    "            x = \"time\",\n",
    "            color = alt.condition(datum.is_present, alt.value('white'), alt.value('black'))\n",
    "        ).add_params(\n",
    "            sel\n",
    "        ).properties(**props) "
   ]
  },
  {
   "cell_type": "code",
   "execution_count": null,
   "id": "f9668bee-f4dd-48e6-92cd-4b96f1f3626e",
   "metadata": {},
   "outputs": [
    {
     "data": {
      "text/html": [
       "\n",
       "<div id=\"altair-viz-5208a66c4b2141c2822ab97abadcbff2\"></div>\n",
       "<script type=\"text/javascript\">\n",
       "  var VEGA_DEBUG = (typeof VEGA_DEBUG == \"undefined\") ? {} : VEGA_DEBUG;\n",
       "  (function(spec, embedOpt){\n",
       "    let outputDiv = document.currentScript.previousElementSibling;\n",
       "    if (outputDiv.id !== \"altair-viz-5208a66c4b2141c2822ab97abadcbff2\") {\n",
       "      outputDiv = document.getElementById(\"altair-viz-5208a66c4b2141c2822ab97abadcbff2\");\n",
       "    }\n",
       "    const paths = {\n",
       "      \"vega\": \"https://cdn.jsdelivr.net/npm//vega@5?noext\",\n",
       "      \"vega-lib\": \"https://cdn.jsdelivr.net/npm//vega-lib?noext\",\n",
       "      \"vega-lite\": \"https://cdn.jsdelivr.net/npm//vega-lite@5.2.0?noext\",\n",
       "      \"vega-embed\": \"https://cdn.jsdelivr.net/npm//vega-embed@6?noext\",\n",
       "    };\n",
       "\n",
       "    function maybeLoadScript(lib, version) {\n",
       "      var key = `${lib.replace(\"-\", \"\")}_version`;\n",
       "      return (VEGA_DEBUG[key] == version) ?\n",
       "        Promise.resolve(paths[lib]) :\n",
       "        new Promise(function(resolve, reject) {\n",
       "          var s = document.createElement('script');\n",
       "          document.getElementsByTagName(\"head\")[0].appendChild(s);\n",
       "          s.async = true;\n",
       "          s.onload = () => {\n",
       "            VEGA_DEBUG[key] = version;\n",
       "            return resolve(paths[lib]);\n",
       "          };\n",
       "          s.onerror = () => reject(`Error loading script: ${paths[lib]}`);\n",
       "          s.src = paths[lib];\n",
       "        });\n",
       "    }\n",
       "\n",
       "    function showError(err) {\n",
       "      outputDiv.innerHTML = `<div class=\"error\" style=\"color:red;\">${err}</div>`;\n",
       "      throw err;\n",
       "    }\n",
       "\n",
       "    function displayChart(vegaEmbed) {\n",
       "      vegaEmbed(outputDiv, spec, embedOpt)\n",
       "        .catch(err => showError(`Javascript Error: ${err.message}<br>This usually means there's a typo in your chart specification. See the javascript console for the full traceback.`));\n",
       "    }\n",
       "\n",
       "    if(typeof define === \"function\" && define.amd) {\n",
       "      requirejs.config({paths});\n",
       "      require([\"vega-embed\"], displayChart, err => showError(`Error loading script: ${err.message}`));\n",
       "    } else {\n",
       "      maybeLoadScript(\"vega\", \"5\")\n",
       "        .then(() => maybeLoadScript(\"vega-lite\", \"5.2.0\"))\n",
       "        .then(() => maybeLoadScript(\"vega-embed\", \"6\"))\n",
       "        .catch(showError)\n",
       "        .then(() => displayChart(vegaEmbed));\n",
       "    }\n",
       "  })({\"config\": {\"view\": {\"continuousWidth\": 400, \"continuousHeight\": 300}}, \"data\": {\"name\": \"data-78793625ad331c69629763c17f6779c5\"}, \"mark\": {\"type\": \"tick\", \"color\": \"black\"}, \"encoding\": {\"color\": {\"condition\": {\"value\": \"white\", \"test\": \"datum.is_present\"}, \"value\": \"black\"}, \"x\": {\"field\": \"time\", \"type\": \"temporal\"}}, \"params\": [{\"name\": \"param_1\", \"select\": {\"type\": \"interval\"}, \"bind\": \"scales\"}], \"$schema\": \"https://vega.github.io/schema/vega-lite/v5.2.0.json\", \"datasets\": {\"data-78793625ad331c69629763c17f6779c5\": [{\"time\": \"2000-06-15T16:30:00\", \"variable\": \"TA\", \"value\": 14.649999618530273, \"is_present\": false}, {\"time\": \"2000-06-15T17:00:00\", \"variable\": \"TA\", \"value\": 14.220000267028809, \"is_present\": false}, {\"time\": \"2000-06-15T17:30:00\", \"variable\": \"TA\", \"value\": 14.109999656677246, \"is_present\": false}, {\"time\": \"2000-06-15T18:00:00\", \"variable\": \"TA\", \"value\": 14.229999542236328, \"is_present\": false}, {\"time\": \"2000-06-15T18:30:00\", \"variable\": \"TA\", \"value\": 14.399999618530273, \"is_present\": false}, {\"time\": \"2000-06-15T19:00:00\", \"variable\": \"TA\", \"value\": 14.09000015258789, \"is_present\": true}, {\"time\": \"2000-06-15T19:30:00\", \"variable\": \"TA\", \"value\": 13.710000038146973, \"is_present\": true}, {\"time\": \"2000-06-15T20:00:00\", \"variable\": \"TA\", \"value\": 13.079999923706055, \"is_present\": true}, {\"time\": \"2000-06-15T20:30:00\", \"variable\": \"TA\", \"value\": 12.40999984741211, \"is_present\": true}, {\"time\": \"2000-06-15T21:00:00\", \"variable\": \"TA\", \"value\": 12.270000457763672, \"is_present\": true}, {\"time\": \"2000-06-15T16:30:00\", \"variable\": \"SW_IN\", \"value\": 468.19000244140625, \"is_present\": true}, {\"time\": \"2000-06-15T17:00:00\", \"variable\": \"SW_IN\", \"value\": 224.8000030517578, \"is_present\": true}, {\"time\": \"2000-06-15T17:30:00\", \"variable\": \"SW_IN\", \"value\": 195.27999877929688, \"is_present\": true}, {\"time\": \"2000-06-15T18:00:00\", \"variable\": \"SW_IN\", \"value\": 244.1699981689453, \"is_present\": true}, {\"time\": \"2000-06-15T18:30:00\", \"variable\": \"SW_IN\", \"value\": 253.9199981689453, \"is_present\": true}, {\"time\": \"2000-06-15T19:00:00\", \"variable\": \"SW_IN\", \"value\": 177.30999755859375, \"is_present\": true}, {\"time\": \"2000-06-15T19:30:00\", \"variable\": \"SW_IN\", \"value\": 97.06999969482422, \"is_present\": true}, {\"time\": \"2000-06-15T20:00:00\", \"variable\": \"SW_IN\", \"value\": 39.709999084472656, \"is_present\": true}, {\"time\": \"2000-06-15T20:30:00\", \"variable\": \"SW_IN\", \"value\": 10.649999618530273, \"is_present\": true}, {\"time\": \"2000-06-15T21:00:00\", \"variable\": \"SW_IN\", \"value\": 0.3199999928474426, \"is_present\": true}, {\"time\": \"2000-06-15T16:30:00\", \"variable\": \"VPD\", \"value\": 6.453999996185303, \"is_present\": false}, {\"time\": \"2000-06-15T17:00:00\", \"variable\": \"VPD\", \"value\": 5.798999786376953, \"is_present\": false}, {\"time\": \"2000-06-15T17:30:00\", \"variable\": \"VPD\", \"value\": 6.577000141143799, \"is_present\": false}, {\"time\": \"2000-06-15T18:00:00\", \"variable\": \"VPD\", \"value\": 6.931000232696533, \"is_present\": false}, {\"time\": \"2000-06-15T18:30:00\", \"variable\": \"VPD\", \"value\": 7.285999774932861, \"is_present\": false}, {\"time\": \"2000-06-15T19:00:00\", \"variable\": \"VPD\", \"value\": 7.250999927520752, \"is_present\": true}, {\"time\": \"2000-06-15T19:30:00\", \"variable\": \"VPD\", \"value\": 6.683000087738037, \"is_present\": true}, {\"time\": \"2000-06-15T20:00:00\", \"variable\": \"VPD\", \"value\": 5.85099983215332, \"is_present\": true}, {\"time\": \"2000-06-15T20:30:00\", \"variable\": \"VPD\", \"value\": 5.254000186920166, \"is_present\": true}, {\"time\": \"2000-06-15T21:00:00\", \"variable\": \"VPD\", \"value\": 5.164000034332275, \"is_present\": true}]}}, {\"mode\": \"vega-lite\"});\n",
       "</script>"
      ],
      "text/plain": [
       "alt.Chart(...)"
      ]
     },
     "execution_count": null,
     "metadata": {},
     "output_type": "execute_result"
    }
   ],
   "source": [
    "plot_rug(m_df.tidy())"
   ]
  },
  {
   "cell_type": "code",
   "execution_count": null,
   "id": "52f438da-c85f-40e7-bdac-c08bce559cc3",
   "metadata": {},
   "outputs": [],
   "source": [
    "def plot_points(df, y_label = \"\", sel = def_selection(), props = {}):\n",
    "    return alt.Chart(df).mark_point(\n",
    "            color='black',\n",
    "            strokeWidth = 1,\n",
    "            fillOpacity = 1\n",
    "        ).encode(\n",
    "            x = alt.X(\"time\"),\n",
    "            y = alt.Y(\"value\", title = y_label, scale=alt.Scale(zero=False)),\n",
    "            fill= alt.Fill(\"is_present\", scale = alt.Scale(range=[\"black\", \"#ffffff00\"]),\n",
    "                           legend = alt.Legend(title =[\"Observed data\"])),\n",
    "            shape = \"is_present\",\n",
    "        )"
   ]
  },
  {
   "cell_type": "code",
   "execution_count": null,
   "id": "530d054b-120d-4883-9692-ff2518adabbf",
   "metadata": {},
   "outputs": [
    {
     "data": {
      "text/html": [
       "\n",
       "<div id=\"altair-viz-c12a51fce9d44d5ea2ac880522326464\"></div>\n",
       "<script type=\"text/javascript\">\n",
       "  var VEGA_DEBUG = (typeof VEGA_DEBUG == \"undefined\") ? {} : VEGA_DEBUG;\n",
       "  (function(spec, embedOpt){\n",
       "    let outputDiv = document.currentScript.previousElementSibling;\n",
       "    if (outputDiv.id !== \"altair-viz-c12a51fce9d44d5ea2ac880522326464\") {\n",
       "      outputDiv = document.getElementById(\"altair-viz-c12a51fce9d44d5ea2ac880522326464\");\n",
       "    }\n",
       "    const paths = {\n",
       "      \"vega\": \"https://cdn.jsdelivr.net/npm//vega@5?noext\",\n",
       "      \"vega-lib\": \"https://cdn.jsdelivr.net/npm//vega-lib?noext\",\n",
       "      \"vega-lite\": \"https://cdn.jsdelivr.net/npm//vega-lite@5.2.0?noext\",\n",
       "      \"vega-embed\": \"https://cdn.jsdelivr.net/npm//vega-embed@6?noext\",\n",
       "    };\n",
       "\n",
       "    function maybeLoadScript(lib, version) {\n",
       "      var key = `${lib.replace(\"-\", \"\")}_version`;\n",
       "      return (VEGA_DEBUG[key] == version) ?\n",
       "        Promise.resolve(paths[lib]) :\n",
       "        new Promise(function(resolve, reject) {\n",
       "          var s = document.createElement('script');\n",
       "          document.getElementsByTagName(\"head\")[0].appendChild(s);\n",
       "          s.async = true;\n",
       "          s.onload = () => {\n",
       "            VEGA_DEBUG[key] = version;\n",
       "            return resolve(paths[lib]);\n",
       "          };\n",
       "          s.onerror = () => reject(`Error loading script: ${paths[lib]}`);\n",
       "          s.src = paths[lib];\n",
       "        });\n",
       "    }\n",
       "\n",
       "    function showError(err) {\n",
       "      outputDiv.innerHTML = `<div class=\"error\" style=\"color:red;\">${err}</div>`;\n",
       "      throw err;\n",
       "    }\n",
       "\n",
       "    function displayChart(vegaEmbed) {\n",
       "      vegaEmbed(outputDiv, spec, embedOpt)\n",
       "        .catch(err => showError(`Javascript Error: ${err.message}<br>This usually means there's a typo in your chart specification. See the javascript console for the full traceback.`));\n",
       "    }\n",
       "\n",
       "    if(typeof define === \"function\" && define.amd) {\n",
       "      requirejs.config({paths});\n",
       "      require([\"vega-embed\"], displayChart, err => showError(`Error loading script: ${err.message}`));\n",
       "    } else {\n",
       "      maybeLoadScript(\"vega\", \"5\")\n",
       "        .then(() => maybeLoadScript(\"vega-lite\", \"5.2.0\"))\n",
       "        .then(() => maybeLoadScript(\"vega-embed\", \"6\"))\n",
       "        .catch(showError)\n",
       "        .then(() => displayChart(vegaEmbed));\n",
       "    }\n",
       "  })({\"config\": {\"view\": {\"continuousWidth\": 400, \"continuousHeight\": 300}}, \"data\": {\"name\": \"data-78793625ad331c69629763c17f6779c5\"}, \"mark\": {\"type\": \"point\", \"color\": \"black\", \"fillOpacity\": 1, \"strokeWidth\": 1}, \"encoding\": {\"fill\": {\"field\": \"is_present\", \"legend\": {\"title\": [\"Observed data\"]}, \"scale\": {\"range\": [\"black\", \"#ffffff00\"]}, \"type\": \"nominal\"}, \"shape\": {\"field\": \"is_present\", \"type\": \"nominal\"}, \"x\": {\"field\": \"time\", \"type\": \"temporal\"}, \"y\": {\"field\": \"value\", \"scale\": {\"zero\": false}, \"title\": \"\", \"type\": \"quantitative\"}}, \"$schema\": \"https://vega.github.io/schema/vega-lite/v5.2.0.json\", \"datasets\": {\"data-78793625ad331c69629763c17f6779c5\": [{\"time\": \"2000-06-15T16:30:00\", \"variable\": \"TA\", \"value\": 14.649999618530273, \"is_present\": false}, {\"time\": \"2000-06-15T17:00:00\", \"variable\": \"TA\", \"value\": 14.220000267028809, \"is_present\": false}, {\"time\": \"2000-06-15T17:30:00\", \"variable\": \"TA\", \"value\": 14.109999656677246, \"is_present\": false}, {\"time\": \"2000-06-15T18:00:00\", \"variable\": \"TA\", \"value\": 14.229999542236328, \"is_present\": false}, {\"time\": \"2000-06-15T18:30:00\", \"variable\": \"TA\", \"value\": 14.399999618530273, \"is_present\": false}, {\"time\": \"2000-06-15T19:00:00\", \"variable\": \"TA\", \"value\": 14.09000015258789, \"is_present\": true}, {\"time\": \"2000-06-15T19:30:00\", \"variable\": \"TA\", \"value\": 13.710000038146973, \"is_present\": true}, {\"time\": \"2000-06-15T20:00:00\", \"variable\": \"TA\", \"value\": 13.079999923706055, \"is_present\": true}, {\"time\": \"2000-06-15T20:30:00\", \"variable\": \"TA\", \"value\": 12.40999984741211, \"is_present\": true}, {\"time\": \"2000-06-15T21:00:00\", \"variable\": \"TA\", \"value\": 12.270000457763672, \"is_present\": true}, {\"time\": \"2000-06-15T16:30:00\", \"variable\": \"SW_IN\", \"value\": 468.19000244140625, \"is_present\": true}, {\"time\": \"2000-06-15T17:00:00\", \"variable\": \"SW_IN\", \"value\": 224.8000030517578, \"is_present\": true}, {\"time\": \"2000-06-15T17:30:00\", \"variable\": \"SW_IN\", \"value\": 195.27999877929688, \"is_present\": true}, {\"time\": \"2000-06-15T18:00:00\", \"variable\": \"SW_IN\", \"value\": 244.1699981689453, \"is_present\": true}, {\"time\": \"2000-06-15T18:30:00\", \"variable\": \"SW_IN\", \"value\": 253.9199981689453, \"is_present\": true}, {\"time\": \"2000-06-15T19:00:00\", \"variable\": \"SW_IN\", \"value\": 177.30999755859375, \"is_present\": true}, {\"time\": \"2000-06-15T19:30:00\", \"variable\": \"SW_IN\", \"value\": 97.06999969482422, \"is_present\": true}, {\"time\": \"2000-06-15T20:00:00\", \"variable\": \"SW_IN\", \"value\": 39.709999084472656, \"is_present\": true}, {\"time\": \"2000-06-15T20:30:00\", \"variable\": \"SW_IN\", \"value\": 10.649999618530273, \"is_present\": true}, {\"time\": \"2000-06-15T21:00:00\", \"variable\": \"SW_IN\", \"value\": 0.3199999928474426, \"is_present\": true}, {\"time\": \"2000-06-15T16:30:00\", \"variable\": \"VPD\", \"value\": 6.453999996185303, \"is_present\": false}, {\"time\": \"2000-06-15T17:00:00\", \"variable\": \"VPD\", \"value\": 5.798999786376953, \"is_present\": false}, {\"time\": \"2000-06-15T17:30:00\", \"variable\": \"VPD\", \"value\": 6.577000141143799, \"is_present\": false}, {\"time\": \"2000-06-15T18:00:00\", \"variable\": \"VPD\", \"value\": 6.931000232696533, \"is_present\": false}, {\"time\": \"2000-06-15T18:30:00\", \"variable\": \"VPD\", \"value\": 7.285999774932861, \"is_present\": false}, {\"time\": \"2000-06-15T19:00:00\", \"variable\": \"VPD\", \"value\": 7.250999927520752, \"is_present\": true}, {\"time\": \"2000-06-15T19:30:00\", \"variable\": \"VPD\", \"value\": 6.683000087738037, \"is_present\": true}, {\"time\": \"2000-06-15T20:00:00\", \"variable\": \"VPD\", \"value\": 5.85099983215332, \"is_present\": true}, {\"time\": \"2000-06-15T20:30:00\", \"variable\": \"VPD\", \"value\": 5.254000186920166, \"is_present\": true}, {\"time\": \"2000-06-15T21:00:00\", \"variable\": \"VPD\", \"value\": 5.164000034332275, \"is_present\": true}]}}, {\"mode\": \"vega-lite\"});\n",
       "</script>"
      ],
      "text/plain": [
       "alt.Chart(...)"
      ]
     },
     "execution_count": null,
     "metadata": {},
     "output_type": "execute_result"
    }
   ],
   "source": [
    "plot_points(m_df.tidy())"
   ]
  },
  {
   "cell_type": "code",
   "execution_count": null,
   "id": "bdefec0f-d6f6-4567-a187-a005d585fde6",
   "metadata": {},
   "outputs": [],
   "source": [
    "df = m_df.tidy()"
   ]
  },
  {
   "cell_type": "code",
   "execution_count": null,
   "id": "d6b0071d-6545-475d-8230-f0855dfe541f",
   "metadata": {},
   "outputs": [],
   "source": [
    "df = df[df.variable==\"TA\"].copy()"
   ]
  },
  {
   "cell_type": "code",
   "execution_count": null,
   "id": "6ed27295-faac-42e7-9f06-449e7b247531",
   "metadata": {},
   "outputs": [],
   "source": [
    "df['row_number'] = df.reset_index().index"
   ]
  },
  {
   "cell_type": "code",
   "execution_count": null,
   "id": "d9b58d08-3aab-4c42-8466-985aeb5abc54",
   "metadata": {},
   "outputs": [
    {
     "data": {
      "text/html": [
       "<div>\n",
       "<style scoped>\n",
       "    .dataframe tbody tr th:only-of-type {\n",
       "        vertical-align: middle;\n",
       "    }\n",
       "\n",
       "    .dataframe tbody tr th {\n",
       "        vertical-align: top;\n",
       "    }\n",
       "\n",
       "    .dataframe thead th {\n",
       "        text-align: right;\n",
       "    }\n",
       "</style>\n",
       "<table border=\"1\" class=\"dataframe\">\n",
       "  <thead>\n",
       "    <tr style=\"text-align: right;\">\n",
       "      <th></th>\n",
       "      <th>time</th>\n",
       "      <th>variable</th>\n",
       "      <th>value</th>\n",
       "      <th>is_present</th>\n",
       "      <th>row_number</th>\n",
       "    </tr>\n",
       "  </thead>\n",
       "  <tbody>\n",
       "    <tr>\n",
       "      <th>0</th>\n",
       "      <td>2000-06-15 16:30:00</td>\n",
       "      <td>TA</td>\n",
       "      <td>14.65</td>\n",
       "      <td>False</td>\n",
       "      <td>0</td>\n",
       "    </tr>\n",
       "    <tr>\n",
       "      <th>1</th>\n",
       "      <td>2000-06-15 17:00:00</td>\n",
       "      <td>TA</td>\n",
       "      <td>14.22</td>\n",
       "      <td>False</td>\n",
       "      <td>1</td>\n",
       "    </tr>\n",
       "    <tr>\n",
       "      <th>2</th>\n",
       "      <td>2000-06-15 17:30:00</td>\n",
       "      <td>TA</td>\n",
       "      <td>14.11</td>\n",
       "      <td>False</td>\n",
       "      <td>2</td>\n",
       "    </tr>\n",
       "    <tr>\n",
       "      <th>3</th>\n",
       "      <td>2000-06-15 18:00:00</td>\n",
       "      <td>TA</td>\n",
       "      <td>14.23</td>\n",
       "      <td>False</td>\n",
       "      <td>3</td>\n",
       "    </tr>\n",
       "    <tr>\n",
       "      <th>4</th>\n",
       "      <td>2000-06-15 18:30:00</td>\n",
       "      <td>TA</td>\n",
       "      <td>14.40</td>\n",
       "      <td>False</td>\n",
       "      <td>4</td>\n",
       "    </tr>\n",
       "    <tr>\n",
       "      <th>5</th>\n",
       "      <td>2000-06-15 19:00:00</td>\n",
       "      <td>TA</td>\n",
       "      <td>14.09</td>\n",
       "      <td>True</td>\n",
       "      <td>5</td>\n",
       "    </tr>\n",
       "    <tr>\n",
       "      <th>6</th>\n",
       "      <td>2000-06-15 19:30:00</td>\n",
       "      <td>TA</td>\n",
       "      <td>13.71</td>\n",
       "      <td>True</td>\n",
       "      <td>6</td>\n",
       "    </tr>\n",
       "    <tr>\n",
       "      <th>7</th>\n",
       "      <td>2000-06-15 20:00:00</td>\n",
       "      <td>TA</td>\n",
       "      <td>13.08</td>\n",
       "      <td>True</td>\n",
       "      <td>7</td>\n",
       "    </tr>\n",
       "    <tr>\n",
       "      <th>8</th>\n",
       "      <td>2000-06-15 20:30:00</td>\n",
       "      <td>TA</td>\n",
       "      <td>12.41</td>\n",
       "      <td>True</td>\n",
       "      <td>8</td>\n",
       "    </tr>\n",
       "    <tr>\n",
       "      <th>9</th>\n",
       "      <td>2000-06-15 21:00:00</td>\n",
       "      <td>TA</td>\n",
       "      <td>12.27</td>\n",
       "      <td>True</td>\n",
       "      <td>9</td>\n",
       "    </tr>\n",
       "  </tbody>\n",
       "</table>\n",
       "</div>"
      ],
      "text/plain": [
       "                 time variable  value  is_present  row_number\n",
       "0 2000-06-15 16:30:00       TA  14.65       False           0\n",
       "1 2000-06-15 17:00:00       TA  14.22       False           1\n",
       "2 2000-06-15 17:30:00       TA  14.11       False           2\n",
       "3 2000-06-15 18:00:00       TA  14.23       False           3\n",
       "4 2000-06-15 18:30:00       TA  14.40       False           4\n",
       "5 2000-06-15 19:00:00       TA  14.09        True           5\n",
       "6 2000-06-15 19:30:00       TA  13.71        True           6\n",
       "7 2000-06-15 20:00:00       TA  13.08        True           7\n",
       "8 2000-06-15 20:30:00       TA  12.41        True           8\n",
       "9 2000-06-15 21:00:00       TA  12.27        True           9"
      ]
     },
     "execution_count": null,
     "metadata": {},
     "output_type": "execute_result"
    }
   ],
   "source": [
    "df"
   ]
  },
  {
   "cell_type": "code",
   "execution_count": null,
   "id": "1e634f1e-0d8e-4e9f-a843-a3c9ded54bae",
   "metadata": {},
   "outputs": [
    {
     "data": {
      "text/html": [
       "<div>\n",
       "<style scoped>\n",
       "    .dataframe tbody tr th:only-of-type {\n",
       "        vertical-align: middle;\n",
       "    }\n",
       "\n",
       "    .dataframe tbody tr th {\n",
       "        vertical-align: top;\n",
       "    }\n",
       "\n",
       "    .dataframe thead th {\n",
       "        text-align: right;\n",
       "    }\n",
       "</style>\n",
       "<table border=\"1\" class=\"dataframe\">\n",
       "  <thead>\n",
       "    <tr style=\"text-align: right;\">\n",
       "      <th></th>\n",
       "      <th>time</th>\n",
       "      <th>variable</th>\n",
       "      <th>value</th>\n",
       "      <th>is_present</th>\n",
       "      <th>row_number</th>\n",
       "    </tr>\n",
       "  </thead>\n",
       "  <tbody>\n",
       "    <tr>\n",
       "      <th>0</th>\n",
       "      <td>2000-06-15 16:30:00</td>\n",
       "      <td>TA</td>\n",
       "      <td>14.65</td>\n",
       "      <td>False</td>\n",
       "      <td>0</td>\n",
       "    </tr>\n",
       "    <tr>\n",
       "      <th>1</th>\n",
       "      <td>2000-06-15 17:00:00</td>\n",
       "      <td>TA</td>\n",
       "      <td>14.22</td>\n",
       "      <td>False</td>\n",
       "      <td>1</td>\n",
       "    </tr>\n",
       "    <tr>\n",
       "      <th>2</th>\n",
       "      <td>2000-06-15 17:30:00</td>\n",
       "      <td>TA</td>\n",
       "      <td>14.11</td>\n",
       "      <td>False</td>\n",
       "      <td>2</td>\n",
       "    </tr>\n",
       "    <tr>\n",
       "      <th>3</th>\n",
       "      <td>2000-06-15 18:00:00</td>\n",
       "      <td>TA</td>\n",
       "      <td>14.23</td>\n",
       "      <td>False</td>\n",
       "      <td>3</td>\n",
       "    </tr>\n",
       "    <tr>\n",
       "      <th>4</th>\n",
       "      <td>2000-06-15 18:30:00</td>\n",
       "      <td>TA</td>\n",
       "      <td>14.40</td>\n",
       "      <td>False</td>\n",
       "      <td>4</td>\n",
       "    </tr>\n",
       "  </tbody>\n",
       "</table>\n",
       "</div>"
      ],
      "text/plain": [
       "                 time variable  value  is_present  row_number\n",
       "0 2000-06-15 16:30:00       TA  14.65       False           0\n",
       "1 2000-06-15 17:00:00       TA  14.22       False           1\n",
       "2 2000-06-15 17:30:00       TA  14.11       False           2\n",
       "3 2000-06-15 18:00:00       TA  14.23       False           3\n",
       "4 2000-06-15 18:30:00       TA  14.40       False           4"
      ]
     },
     "execution_count": null,
     "metadata": {},
     "output_type": "execute_result"
    }
   ],
   "source": [
    "df[~df.is_present]"
   ]
  },
  {
   "cell_type": "code",
   "execution_count": null,
   "id": "d647f795-8684-4028-b72c-ccc3419d4a81",
   "metadata": {},
   "outputs": [],
   "source": [
    "def _find_gaps_limits(df):\n",
    "    \"\"\"\"\"\"\n",
    "    \n",
    "    "
   ]
  },
  {
   "cell_type": "code",
   "execution_count": null,
   "id": "c8bf87ef-4401-4e69-97a4-67781c752b40",
   "metadata": {},
   "outputs": [
    {
     "ename": "SyntaxError",
     "evalue": "incomplete input (749152740.py, line 2)",
     "output_type": "error",
     "traceback": [
      "\u001b[0;36m  Input \u001b[0;32mIn [49]\u001b[0;36m\u001b[0m\n\u001b[0;31m    \u001b[0m\n\u001b[0m    ^\u001b[0m\n\u001b[0;31mSyntaxError\u001b[0m\u001b[0;31m:\u001b[0m incomplete input\n"
     ]
    }
   ],
   "source": [
    "def plot_missing_area(df, sel = def_selection(), props={}):\n",
    "    "
   ]
  },
  {
   "cell_type": "code",
   "execution_count": null,
   "id": "e7f9912e-eee1-40a6-9eb3-4b010a5278c5",
   "metadata": {},
   "outputs": [],
   "source": [
    "#| exporti\n",
    "def plot_line(df, only_present=True, y_label = \"\", sel = def_selection(), props = {}):\n",
    "    # df = df[df.is_present] if only_present else df\n",
    "    # TODO remove onle_present\n",
    "    return alt.Chart(df).mark_line().encode(\n",
    "        x = \"time\",    \n",
    "        y = alt.Y(\"value\", title = y_label, scale=alt.Scale(zero=False)),\n",
    "        color='variable'\n",
    "    ).add_params(\n",
    "        sel\n",
    "    ).properties(\n",
    "        **props\n",
    "    )#.transform_filter(\n",
    "    #     datum.is_present\n",
    "    # )\n",
    "\n",
    "    "
   ]
  },
  {
   "cell_type": "code",
   "execution_count": null,
   "id": "c4723d86-f673-4cfa-ae8a-58fcc542930a",
   "metadata": {},
   "outputs": [
    {
     "data": {
      "text/html": [
       "\n",
       "<div id=\"altair-viz-95aacc51f4434e3480d2ce89d464503b\"></div>\n",
       "<script type=\"text/javascript\">\n",
       "  var VEGA_DEBUG = (typeof VEGA_DEBUG == \"undefined\") ? {} : VEGA_DEBUG;\n",
       "  (function(spec, embedOpt){\n",
       "    let outputDiv = document.currentScript.previousElementSibling;\n",
       "    if (outputDiv.id !== \"altair-viz-95aacc51f4434e3480d2ce89d464503b\") {\n",
       "      outputDiv = document.getElementById(\"altair-viz-95aacc51f4434e3480d2ce89d464503b\");\n",
       "    }\n",
       "    const paths = {\n",
       "      \"vega\": \"https://cdn.jsdelivr.net/npm//vega@5?noext\",\n",
       "      \"vega-lib\": \"https://cdn.jsdelivr.net/npm//vega-lib?noext\",\n",
       "      \"vega-lite\": \"https://cdn.jsdelivr.net/npm//vega-lite@5.2.0?noext\",\n",
       "      \"vega-embed\": \"https://cdn.jsdelivr.net/npm//vega-embed@6?noext\",\n",
       "    };\n",
       "\n",
       "    function maybeLoadScript(lib, version) {\n",
       "      var key = `${lib.replace(\"-\", \"\")}_version`;\n",
       "      return (VEGA_DEBUG[key] == version) ?\n",
       "        Promise.resolve(paths[lib]) :\n",
       "        new Promise(function(resolve, reject) {\n",
       "          var s = document.createElement('script');\n",
       "          document.getElementsByTagName(\"head\")[0].appendChild(s);\n",
       "          s.async = true;\n",
       "          s.onload = () => {\n",
       "            VEGA_DEBUG[key] = version;\n",
       "            return resolve(paths[lib]);\n",
       "          };\n",
       "          s.onerror = () => reject(`Error loading script: ${paths[lib]}`);\n",
       "          s.src = paths[lib];\n",
       "        });\n",
       "    }\n",
       "\n",
       "    function showError(err) {\n",
       "      outputDiv.innerHTML = `<div class=\"error\" style=\"color:red;\">${err}</div>`;\n",
       "      throw err;\n",
       "    }\n",
       "\n",
       "    function displayChart(vegaEmbed) {\n",
       "      vegaEmbed(outputDiv, spec, embedOpt)\n",
       "        .catch(err => showError(`Javascript Error: ${err.message}<br>This usually means there's a typo in your chart specification. See the javascript console for the full traceback.`));\n",
       "    }\n",
       "\n",
       "    if(typeof define === \"function\" && define.amd) {\n",
       "      requirejs.config({paths});\n",
       "      require([\"vega-embed\"], displayChart, err => showError(`Error loading script: ${err.message}`));\n",
       "    } else {\n",
       "      maybeLoadScript(\"vega\", \"5\")\n",
       "        .then(() => maybeLoadScript(\"vega-lite\", \"5.2.0\"))\n",
       "        .then(() => maybeLoadScript(\"vega-embed\", \"6\"))\n",
       "        .catch(showError)\n",
       "        .then(() => displayChart(vegaEmbed));\n",
       "    }\n",
       "  })({\"config\": {\"view\": {\"continuousWidth\": 400, \"continuousHeight\": 300}}, \"data\": {\"name\": \"data-78793625ad331c69629763c17f6779c5\"}, \"mark\": \"line\", \"encoding\": {\"color\": {\"field\": \"variable\", \"type\": \"nominal\"}, \"x\": {\"field\": \"time\", \"type\": \"temporal\"}, \"y\": {\"field\": \"value\", \"scale\": {\"zero\": false}, \"title\": \"\", \"type\": \"quantitative\"}}, \"params\": [{\"name\": \"param_3\", \"select\": {\"type\": \"interval\"}, \"bind\": \"scales\"}], \"$schema\": \"https://vega.github.io/schema/vega-lite/v5.2.0.json\", \"datasets\": {\"data-78793625ad331c69629763c17f6779c5\": [{\"time\": \"2000-06-15T16:30:00\", \"variable\": \"TA\", \"value\": 14.649999618530273, \"is_present\": false}, {\"time\": \"2000-06-15T17:00:00\", \"variable\": \"TA\", \"value\": 14.220000267028809, \"is_present\": false}, {\"time\": \"2000-06-15T17:30:00\", \"variable\": \"TA\", \"value\": 14.109999656677246, \"is_present\": false}, {\"time\": \"2000-06-15T18:00:00\", \"variable\": \"TA\", \"value\": 14.229999542236328, \"is_present\": false}, {\"time\": \"2000-06-15T18:30:00\", \"variable\": \"TA\", \"value\": 14.399999618530273, \"is_present\": false}, {\"time\": \"2000-06-15T19:00:00\", \"variable\": \"TA\", \"value\": 14.09000015258789, \"is_present\": true}, {\"time\": \"2000-06-15T19:30:00\", \"variable\": \"TA\", \"value\": 13.710000038146973, \"is_present\": true}, {\"time\": \"2000-06-15T20:00:00\", \"variable\": \"TA\", \"value\": 13.079999923706055, \"is_present\": true}, {\"time\": \"2000-06-15T20:30:00\", \"variable\": \"TA\", \"value\": 12.40999984741211, \"is_present\": true}, {\"time\": \"2000-06-15T21:00:00\", \"variable\": \"TA\", \"value\": 12.270000457763672, \"is_present\": true}, {\"time\": \"2000-06-15T16:30:00\", \"variable\": \"SW_IN\", \"value\": 468.19000244140625, \"is_present\": true}, {\"time\": \"2000-06-15T17:00:00\", \"variable\": \"SW_IN\", \"value\": 224.8000030517578, \"is_present\": true}, {\"time\": \"2000-06-15T17:30:00\", \"variable\": \"SW_IN\", \"value\": 195.27999877929688, \"is_present\": true}, {\"time\": \"2000-06-15T18:00:00\", \"variable\": \"SW_IN\", \"value\": 244.1699981689453, \"is_present\": true}, {\"time\": \"2000-06-15T18:30:00\", \"variable\": \"SW_IN\", \"value\": 253.9199981689453, \"is_present\": true}, {\"time\": \"2000-06-15T19:00:00\", \"variable\": \"SW_IN\", \"value\": 177.30999755859375, \"is_present\": true}, {\"time\": \"2000-06-15T19:30:00\", \"variable\": \"SW_IN\", \"value\": 97.06999969482422, \"is_present\": true}, {\"time\": \"2000-06-15T20:00:00\", \"variable\": \"SW_IN\", \"value\": 39.709999084472656, \"is_present\": true}, {\"time\": \"2000-06-15T20:30:00\", \"variable\": \"SW_IN\", \"value\": 10.649999618530273, \"is_present\": true}, {\"time\": \"2000-06-15T21:00:00\", \"variable\": \"SW_IN\", \"value\": 0.3199999928474426, \"is_present\": true}, {\"time\": \"2000-06-15T16:30:00\", \"variable\": \"VPD\", \"value\": 6.453999996185303, \"is_present\": false}, {\"time\": \"2000-06-15T17:00:00\", \"variable\": \"VPD\", \"value\": 5.798999786376953, \"is_present\": false}, {\"time\": \"2000-06-15T17:30:00\", \"variable\": \"VPD\", \"value\": 6.577000141143799, \"is_present\": false}, {\"time\": \"2000-06-15T18:00:00\", \"variable\": \"VPD\", \"value\": 6.931000232696533, \"is_present\": false}, {\"time\": \"2000-06-15T18:30:00\", \"variable\": \"VPD\", \"value\": 7.285999774932861, \"is_present\": false}, {\"time\": \"2000-06-15T19:00:00\", \"variable\": \"VPD\", \"value\": 7.250999927520752, \"is_present\": true}, {\"time\": \"2000-06-15T19:30:00\", \"variable\": \"VPD\", \"value\": 6.683000087738037, \"is_present\": true}, {\"time\": \"2000-06-15T20:00:00\", \"variable\": \"VPD\", \"value\": 5.85099983215332, \"is_present\": true}, {\"time\": \"2000-06-15T20:30:00\", \"variable\": \"VPD\", \"value\": 5.254000186920166, \"is_present\": true}, {\"time\": \"2000-06-15T21:00:00\", \"variable\": \"VPD\", \"value\": 5.164000034332275, \"is_present\": true}]}}, {\"mode\": \"vega-lite\"});\n",
       "</script>"
      ],
      "text/plain": [
       "alt.Chart(...)"
      ]
     },
     "execution_count": null,
     "metadata": {},
     "output_type": "execute_result"
    }
   ],
   "source": [
    "plot_line(m_df.tidy())"
   ]
  },
  {
   "cell_type": "code",
   "execution_count": null,
   "id": "b31874c2-bc64-4c07-b67b-c67ecb0f3598",
   "metadata": {},
   "outputs": [],
   "source": [
    "#| exporti\n",
    "def plot_error(df, y_label = \"\", sel = def_selection(), props = {}):\n",
    "    df.loc[:,'err_low'] = df.value - 2 * df['std']\n",
    "    df.loc[:,'err_high'] = df.value + 2 * df['std']\n",
    "    return alt.Chart(df).mark_errorband().encode(\n",
    "        x = \"time\",    \n",
    "        y = alt.Y(\"err_low:Q\", title = y_label, scale=alt.Scale(zero=False)),\n",
    "        y2 = \"err_high:Q\",\n",
    "        color=alt.Color(\"variable\",\n",
    "                        legend = alt.Legend(title=[\"Line: pred. mean\", \"area: +/- 2 std\"])\n",
    "                       )\n",
    "    ).add_params(\n",
    "        sel\n",
    "    ).properties(\n",
    "        **props\n",
    "    )\n",
    "    "
   ]
  },
  {
   "cell_type": "code",
   "execution_count": null,
   "id": "bbe34b69-dc5c-4b9e-bb24-dffcd7638686",
   "metadata": {},
   "outputs": [
    {
     "data": {
      "text/html": [
       "\n",
       "<div id=\"altair-viz-ecb6dfc875764007b2bb383ad610c7dc\"></div>\n",
       "<script type=\"text/javascript\">\n",
       "  var VEGA_DEBUG = (typeof VEGA_DEBUG == \"undefined\") ? {} : VEGA_DEBUG;\n",
       "  (function(spec, embedOpt){\n",
       "    let outputDiv = document.currentScript.previousElementSibling;\n",
       "    if (outputDiv.id !== \"altair-viz-ecb6dfc875764007b2bb383ad610c7dc\") {\n",
       "      outputDiv = document.getElementById(\"altair-viz-ecb6dfc875764007b2bb383ad610c7dc\");\n",
       "    }\n",
       "    const paths = {\n",
       "      \"vega\": \"https://cdn.jsdelivr.net/npm//vega@5?noext\",\n",
       "      \"vega-lib\": \"https://cdn.jsdelivr.net/npm//vega-lib?noext\",\n",
       "      \"vega-lite\": \"https://cdn.jsdelivr.net/npm//vega-lite@5.2.0?noext\",\n",
       "      \"vega-embed\": \"https://cdn.jsdelivr.net/npm//vega-embed@6?noext\",\n",
       "    };\n",
       "\n",
       "    function maybeLoadScript(lib, version) {\n",
       "      var key = `${lib.replace(\"-\", \"\")}_version`;\n",
       "      return (VEGA_DEBUG[key] == version) ?\n",
       "        Promise.resolve(paths[lib]) :\n",
       "        new Promise(function(resolve, reject) {\n",
       "          var s = document.createElement('script');\n",
       "          document.getElementsByTagName(\"head\")[0].appendChild(s);\n",
       "          s.async = true;\n",
       "          s.onload = () => {\n",
       "            VEGA_DEBUG[key] = version;\n",
       "            return resolve(paths[lib]);\n",
       "          };\n",
       "          s.onerror = () => reject(`Error loading script: ${paths[lib]}`);\n",
       "          s.src = paths[lib];\n",
       "        });\n",
       "    }\n",
       "\n",
       "    function showError(err) {\n",
       "      outputDiv.innerHTML = `<div class=\"error\" style=\"color:red;\">${err}</div>`;\n",
       "      throw err;\n",
       "    }\n",
       "\n",
       "    function displayChart(vegaEmbed) {\n",
       "      vegaEmbed(outputDiv, spec, embedOpt)\n",
       "        .catch(err => showError(`Javascript Error: ${err.message}<br>This usually means there's a typo in your chart specification. See the javascript console for the full traceback.`));\n",
       "    }\n",
       "\n",
       "    if(typeof define === \"function\" && define.amd) {\n",
       "      requirejs.config({paths});\n",
       "      require([\"vega-embed\"], displayChart, err => showError(`Error loading script: ${err.message}`));\n",
       "    } else {\n",
       "      maybeLoadScript(\"vega\", \"5\")\n",
       "        .then(() => maybeLoadScript(\"vega-lite\", \"5.2.0\"))\n",
       "        .then(() => maybeLoadScript(\"vega-embed\", \"6\"))\n",
       "        .catch(showError)\n",
       "        .then(() => displayChart(vegaEmbed));\n",
       "    }\n",
       "  })({\"config\": {\"view\": {\"continuousWidth\": 400, \"continuousHeight\": 300}}, \"data\": {\"name\": \"data-3e9fa0af9a02d4afccf35c1ba0bd0673\"}, \"mark\": \"errorband\", \"encoding\": {\"color\": {\"field\": \"variable\", \"legend\": {\"title\": [\"Line: pred. mean\", \"area: +/- 2 std\"]}, \"type\": \"nominal\"}, \"x\": {\"field\": \"time\", \"type\": \"temporal\"}, \"y\": {\"field\": \"err_low\", \"scale\": {\"zero\": false}, \"title\": \"\", \"type\": \"quantitative\"}, \"y2\": {\"field\": \"err_high\"}}, \"params\": [{\"name\": \"param_4\", \"select\": {\"type\": \"interval\"}, \"bind\": \"scales\"}], \"$schema\": \"https://vega.github.io/schema/vega-lite/v5.2.0.json\", \"datasets\": {\"data-3e9fa0af9a02d4afccf35c1ba0bd0673\": [{\"time\": \"2000-06-15T16:30:00\", \"variable\": \"TA\", \"value\": 14.649999618530273, \"is_present\": false, \"std\": 5, \"err_low\": 4.649999618530273, \"err_high\": 24.649999618530273}, {\"time\": \"2000-06-15T17:00:00\", \"variable\": \"TA\", \"value\": 14.220000267028809, \"is_present\": false, \"std\": 5, \"err_low\": 4.220000267028809, \"err_high\": 24.22000026702881}, {\"time\": \"2000-06-15T17:30:00\", \"variable\": \"TA\", \"value\": 14.109999656677246, \"is_present\": false, \"std\": 5, \"err_low\": 4.109999656677246, \"err_high\": 24.109999656677246}, {\"time\": \"2000-06-15T18:00:00\", \"variable\": \"TA\", \"value\": 14.229999542236328, \"is_present\": false, \"std\": 5, \"err_low\": 4.229999542236328, \"err_high\": 24.229999542236328}, {\"time\": \"2000-06-15T18:30:00\", \"variable\": \"TA\", \"value\": 14.399999618530273, \"is_present\": false, \"std\": 5, \"err_low\": 4.399999618530273, \"err_high\": 24.399999618530273}, {\"time\": \"2000-06-15T19:00:00\", \"variable\": \"TA\", \"value\": 14.09000015258789, \"is_present\": true, \"std\": 5, \"err_low\": 4.090000152587891, \"err_high\": 24.09000015258789}, {\"time\": \"2000-06-15T19:30:00\", \"variable\": \"TA\", \"value\": 13.710000038146973, \"is_present\": true, \"std\": 5, \"err_low\": 3.7100000381469727, \"err_high\": 23.710000038146973}, {\"time\": \"2000-06-15T20:00:00\", \"variable\": \"TA\", \"value\": 13.079999923706055, \"is_present\": true, \"std\": 5, \"err_low\": 3.0799999237060547, \"err_high\": 23.079999923706055}, {\"time\": \"2000-06-15T20:30:00\", \"variable\": \"TA\", \"value\": 12.40999984741211, \"is_present\": true, \"std\": 5, \"err_low\": 2.4099998474121094, \"err_high\": 22.40999984741211}, {\"time\": \"2000-06-15T21:00:00\", \"variable\": \"TA\", \"value\": 12.270000457763672, \"is_present\": true, \"std\": 5, \"err_low\": 2.270000457763672, \"err_high\": 22.270000457763672}, {\"time\": \"2000-06-15T16:30:00\", \"variable\": \"SW_IN\", \"value\": 468.19000244140625, \"is_present\": true, \"std\": 5, \"err_low\": 458.19000244140625, \"err_high\": 478.19000244140625}, {\"time\": \"2000-06-15T17:00:00\", \"variable\": \"SW_IN\", \"value\": 224.8000030517578, \"is_present\": true, \"std\": 5, \"err_low\": 214.8000030517578, \"err_high\": 234.8000030517578}, {\"time\": \"2000-06-15T17:30:00\", \"variable\": \"SW_IN\", \"value\": 195.27999877929688, \"is_present\": true, \"std\": 5, \"err_low\": 185.27999877929688, \"err_high\": 205.27999877929688}, {\"time\": \"2000-06-15T18:00:00\", \"variable\": \"SW_IN\", \"value\": 244.1699981689453, \"is_present\": true, \"std\": 5, \"err_low\": 234.1699981689453, \"err_high\": 254.1699981689453}, {\"time\": \"2000-06-15T18:30:00\", \"variable\": \"SW_IN\", \"value\": 253.9199981689453, \"is_present\": true, \"std\": 5, \"err_low\": 243.9199981689453, \"err_high\": 263.9199981689453}, {\"time\": \"2000-06-15T19:00:00\", \"variable\": \"SW_IN\", \"value\": 177.30999755859375, \"is_present\": true, \"std\": 5, \"err_low\": 167.30999755859375, \"err_high\": 187.30999755859375}, {\"time\": \"2000-06-15T19:30:00\", \"variable\": \"SW_IN\", \"value\": 97.06999969482422, \"is_present\": true, \"std\": 5, \"err_low\": 87.06999969482422, \"err_high\": 107.06999969482422}, {\"time\": \"2000-06-15T20:00:00\", \"variable\": \"SW_IN\", \"value\": 39.709999084472656, \"is_present\": true, \"std\": 5, \"err_low\": 29.709999084472656, \"err_high\": 49.709999084472656}, {\"time\": \"2000-06-15T20:30:00\", \"variable\": \"SW_IN\", \"value\": 10.649999618530273, \"is_present\": true, \"std\": 5, \"err_low\": 0.6499996185302734, \"err_high\": 20.649999618530273}, {\"time\": \"2000-06-15T21:00:00\", \"variable\": \"SW_IN\", \"value\": 0.3199999928474426, \"is_present\": true, \"std\": 5, \"err_low\": -9.680000007152557, \"err_high\": 10.319999992847443}, {\"time\": \"2000-06-15T16:30:00\", \"variable\": \"VPD\", \"value\": 6.453999996185303, \"is_present\": false, \"std\": 5, \"err_low\": -3.5460000038146973, \"err_high\": 16.453999996185303}, {\"time\": \"2000-06-15T17:00:00\", \"variable\": \"VPD\", \"value\": 5.798999786376953, \"is_present\": false, \"std\": 5, \"err_low\": -4.201000213623047, \"err_high\": 15.798999786376953}, {\"time\": \"2000-06-15T17:30:00\", \"variable\": \"VPD\", \"value\": 6.577000141143799, \"is_present\": false, \"std\": 5, \"err_low\": -3.422999858856201, \"err_high\": 16.5770001411438}, {\"time\": \"2000-06-15T18:00:00\", \"variable\": \"VPD\", \"value\": 6.931000232696533, \"is_present\": false, \"std\": 5, \"err_low\": -3.068999767303467, \"err_high\": 16.931000232696533}, {\"time\": \"2000-06-15T18:30:00\", \"variable\": \"VPD\", \"value\": 7.285999774932861, \"is_present\": false, \"std\": 5, \"err_low\": -2.7140002250671387, \"err_high\": 17.28599977493286}, {\"time\": \"2000-06-15T19:00:00\", \"variable\": \"VPD\", \"value\": 7.250999927520752, \"is_present\": true, \"std\": 5, \"err_low\": -2.749000072479248, \"err_high\": 17.250999927520752}, {\"time\": \"2000-06-15T19:30:00\", \"variable\": \"VPD\", \"value\": 6.683000087738037, \"is_present\": true, \"std\": 5, \"err_low\": -3.316999912261963, \"err_high\": 16.683000087738037}, {\"time\": \"2000-06-15T20:00:00\", \"variable\": \"VPD\", \"value\": 5.85099983215332, \"is_present\": true, \"std\": 5, \"err_low\": -4.14900016784668, \"err_high\": 15.85099983215332}, {\"time\": \"2000-06-15T20:30:00\", \"variable\": \"VPD\", \"value\": 5.254000186920166, \"is_present\": true, \"std\": 5, \"err_low\": -4.745999813079834, \"err_high\": 15.254000186920166}, {\"time\": \"2000-06-15T21:00:00\", \"variable\": \"VPD\", \"value\": 5.164000034332275, \"is_present\": true, \"std\": 5, \"err_low\": -4.835999965667725, \"err_high\": 15.164000034332275}]}}, {\"mode\": \"vega-lite\"});\n",
       "</script>"
      ],
      "text/plain": [
       "alt.Chart(...)"
      ]
     },
     "execution_count": null,
     "metadata": {},
     "output_type": "execute_result"
    }
   ],
   "source": [
    "plot_error(m_df.tidy().assign(std=5))"
   ]
  },
  {
   "cell_type": "code",
   "execution_count": null,
   "id": "a26f136e-c919-4083-bad9-e40f2b4996bd",
   "metadata": {},
   "outputs": [],
   "source": [
    "#| exporti\n",
    "def plot_variable(df, variable, title=\"\", y_label=\"\", sel = None, error=False, props = {}):\n",
    "    df = df[df.variable == variable].copy()\n",
    "    sel = ifnone(sel, def_selection())\n",
    "    # rug = plot_rug(df, sel, props)\n",
    "    points = plot_points(df, y_label, sel, props)\n",
    "    line = plot_line(df, True, y_label, sel, props)\n",
    "    if error: line = plot_error(df, y_label, sel, props) + line\n",
    "    \n",
    "    return (points + line).properties(title=title)\n",
    "    \n",
    "    # return alt.VConcatChart(vconcat=[(points + line), rug], spacing=-10).properties(title=title)"
   ]
  },
  {
   "cell_type": "code",
   "execution_count": null,
   "id": "fa1c1f39-0db0-4842-bada-da41eacd9ac6",
   "metadata": {},
   "outputs": [
    {
     "data": {
      "text/html": [
       "\n",
       "<div id=\"altair-viz-84a6843fa38f48f68c594408b7a2e364\"></div>\n",
       "<script type=\"text/javascript\">\n",
       "  var VEGA_DEBUG = (typeof VEGA_DEBUG == \"undefined\") ? {} : VEGA_DEBUG;\n",
       "  (function(spec, embedOpt){\n",
       "    let outputDiv = document.currentScript.previousElementSibling;\n",
       "    if (outputDiv.id !== \"altair-viz-84a6843fa38f48f68c594408b7a2e364\") {\n",
       "      outputDiv = document.getElementById(\"altair-viz-84a6843fa38f48f68c594408b7a2e364\");\n",
       "    }\n",
       "    const paths = {\n",
       "      \"vega\": \"https://cdn.jsdelivr.net/npm//vega@5?noext\",\n",
       "      \"vega-lib\": \"https://cdn.jsdelivr.net/npm//vega-lib?noext\",\n",
       "      \"vega-lite\": \"https://cdn.jsdelivr.net/npm//vega-lite@5.2.0?noext\",\n",
       "      \"vega-embed\": \"https://cdn.jsdelivr.net/npm//vega-embed@6?noext\",\n",
       "    };\n",
       "\n",
       "    function maybeLoadScript(lib, version) {\n",
       "      var key = `${lib.replace(\"-\", \"\")}_version`;\n",
       "      return (VEGA_DEBUG[key] == version) ?\n",
       "        Promise.resolve(paths[lib]) :\n",
       "        new Promise(function(resolve, reject) {\n",
       "          var s = document.createElement('script');\n",
       "          document.getElementsByTagName(\"head\")[0].appendChild(s);\n",
       "          s.async = true;\n",
       "          s.onload = () => {\n",
       "            VEGA_DEBUG[key] = version;\n",
       "            return resolve(paths[lib]);\n",
       "          };\n",
       "          s.onerror = () => reject(`Error loading script: ${paths[lib]}`);\n",
       "          s.src = paths[lib];\n",
       "        });\n",
       "    }\n",
       "\n",
       "    function showError(err) {\n",
       "      outputDiv.innerHTML = `<div class=\"error\" style=\"color:red;\">${err}</div>`;\n",
       "      throw err;\n",
       "    }\n",
       "\n",
       "    function displayChart(vegaEmbed) {\n",
       "      vegaEmbed(outputDiv, spec, embedOpt)\n",
       "        .catch(err => showError(`Javascript Error: ${err.message}<br>This usually means there's a typo in your chart specification. See the javascript console for the full traceback.`));\n",
       "    }\n",
       "\n",
       "    if(typeof define === \"function\" && define.amd) {\n",
       "      requirejs.config({paths});\n",
       "      require([\"vega-embed\"], displayChart, err => showError(`Error loading script: ${err.message}`));\n",
       "    } else {\n",
       "      maybeLoadScript(\"vega\", \"5\")\n",
       "        .then(() => maybeLoadScript(\"vega-lite\", \"5.2.0\"))\n",
       "        .then(() => maybeLoadScript(\"vega-embed\", \"6\"))\n",
       "        .catch(showError)\n",
       "        .then(() => displayChart(vegaEmbed));\n",
       "    }\n",
       "  })({\"config\": {\"view\": {\"continuousWidth\": 400, \"continuousHeight\": 300}}, \"layer\": [{\"mark\": {\"type\": \"point\", \"color\": \"black\", \"fillOpacity\": 1, \"strokeWidth\": 1}, \"encoding\": {\"fill\": {\"field\": \"is_present\", \"legend\": {\"title\": [\"Observed data\"]}, \"scale\": {\"range\": [\"black\", \"#ffffff00\"]}, \"type\": \"nominal\"}, \"shape\": {\"field\": \"is_present\", \"type\": \"nominal\"}, \"x\": {\"field\": \"time\", \"type\": \"temporal\"}, \"y\": {\"field\": \"value\", \"scale\": {\"zero\": false}, \"title\": \"\", \"type\": \"quantitative\"}}}, {\"mark\": \"line\", \"encoding\": {\"color\": {\"field\": \"variable\", \"type\": \"nominal\"}, \"x\": {\"field\": \"time\", \"type\": \"temporal\"}, \"y\": {\"field\": \"value\", \"scale\": {\"zero\": false}, \"title\": \"\", \"type\": \"quantitative\"}}, \"name\": \"view_1\"}], \"data\": {\"name\": \"data-56120284c98ea45ee642dd5b510147c7\"}, \"params\": [{\"name\": \"param_5\", \"select\": {\"type\": \"interval\"}, \"bind\": \"scales\", \"views\": [\"view_1\"]}], \"title\": \"title TA\", \"$schema\": \"https://vega.github.io/schema/vega-lite/v5.2.0.json\", \"datasets\": {\"data-56120284c98ea45ee642dd5b510147c7\": [{\"time\": \"2000-06-15T16:30:00\", \"variable\": \"TA\", \"value\": 14.649999618530273, \"is_present\": false}, {\"time\": \"2000-06-15T17:00:00\", \"variable\": \"TA\", \"value\": 14.220000267028809, \"is_present\": false}, {\"time\": \"2000-06-15T17:30:00\", \"variable\": \"TA\", \"value\": 14.109999656677246, \"is_present\": false}, {\"time\": \"2000-06-15T18:00:00\", \"variable\": \"TA\", \"value\": 14.229999542236328, \"is_present\": false}, {\"time\": \"2000-06-15T18:30:00\", \"variable\": \"TA\", \"value\": 14.399999618530273, \"is_present\": false}, {\"time\": \"2000-06-15T19:00:00\", \"variable\": \"TA\", \"value\": 14.09000015258789, \"is_present\": true}, {\"time\": \"2000-06-15T19:30:00\", \"variable\": \"TA\", \"value\": 13.710000038146973, \"is_present\": true}, {\"time\": \"2000-06-15T20:00:00\", \"variable\": \"TA\", \"value\": 13.079999923706055, \"is_present\": true}, {\"time\": \"2000-06-15T20:30:00\", \"variable\": \"TA\", \"value\": 12.40999984741211, \"is_present\": true}, {\"time\": \"2000-06-15T21:00:00\", \"variable\": \"TA\", \"value\": 12.270000457763672, \"is_present\": true}]}}, {\"mode\": \"vega-lite\"});\n",
       "</script>"
      ],
      "text/plain": [
       "alt.LayerChart(...)"
      ]
     },
     "execution_count": null,
     "metadata": {},
     "output_type": "execute_result"
    }
   ],
   "source": [
    "plot_variable(m_df.tidy(), \"TA\", title=\"title TA\")"
   ]
  },
  {
   "cell_type": "code",
   "execution_count": null,
   "id": "a41576fd-91dc-44d9-bd01-f0877273a835",
   "metadata": {},
   "outputs": [
    {
     "data": {
      "text/html": [
       "\n",
       "<div id=\"altair-viz-91ad72c6ec3e43acbb369ae096559be7\"></div>\n",
       "<script type=\"text/javascript\">\n",
       "  var VEGA_DEBUG = (typeof VEGA_DEBUG == \"undefined\") ? {} : VEGA_DEBUG;\n",
       "  (function(spec, embedOpt){\n",
       "    let outputDiv = document.currentScript.previousElementSibling;\n",
       "    if (outputDiv.id !== \"altair-viz-91ad72c6ec3e43acbb369ae096559be7\") {\n",
       "      outputDiv = document.getElementById(\"altair-viz-91ad72c6ec3e43acbb369ae096559be7\");\n",
       "    }\n",
       "    const paths = {\n",
       "      \"vega\": \"https://cdn.jsdelivr.net/npm//vega@5?noext\",\n",
       "      \"vega-lib\": \"https://cdn.jsdelivr.net/npm//vega-lib?noext\",\n",
       "      \"vega-lite\": \"https://cdn.jsdelivr.net/npm//vega-lite@5.2.0?noext\",\n",
       "      \"vega-embed\": \"https://cdn.jsdelivr.net/npm//vega-embed@6?noext\",\n",
       "    };\n",
       "\n",
       "    function maybeLoadScript(lib, version) {\n",
       "      var key = `${lib.replace(\"-\", \"\")}_version`;\n",
       "      return (VEGA_DEBUG[key] == version) ?\n",
       "        Promise.resolve(paths[lib]) :\n",
       "        new Promise(function(resolve, reject) {\n",
       "          var s = document.createElement('script');\n",
       "          document.getElementsByTagName(\"head\")[0].appendChild(s);\n",
       "          s.async = true;\n",
       "          s.onload = () => {\n",
       "            VEGA_DEBUG[key] = version;\n",
       "            return resolve(paths[lib]);\n",
       "          };\n",
       "          s.onerror = () => reject(`Error loading script: ${paths[lib]}`);\n",
       "          s.src = paths[lib];\n",
       "        });\n",
       "    }\n",
       "\n",
       "    function showError(err) {\n",
       "      outputDiv.innerHTML = `<div class=\"error\" style=\"color:red;\">${err}</div>`;\n",
       "      throw err;\n",
       "    }\n",
       "\n",
       "    function displayChart(vegaEmbed) {\n",
       "      vegaEmbed(outputDiv, spec, embedOpt)\n",
       "        .catch(err => showError(`Javascript Error: ${err.message}<br>This usually means there's a typo in your chart specification. See the javascript console for the full traceback.`));\n",
       "    }\n",
       "\n",
       "    if(typeof define === \"function\" && define.amd) {\n",
       "      requirejs.config({paths});\n",
       "      require([\"vega-embed\"], displayChart, err => showError(`Error loading script: ${err.message}`));\n",
       "    } else {\n",
       "      maybeLoadScript(\"vega\", \"5\")\n",
       "        .then(() => maybeLoadScript(\"vega-lite\", \"5.2.0\"))\n",
       "        .then(() => maybeLoadScript(\"vega-embed\", \"6\"))\n",
       "        .catch(showError)\n",
       "        .then(() => displayChart(vegaEmbed));\n",
       "    }\n",
       "  })({\"config\": {\"view\": {\"continuousWidth\": 400, \"continuousHeight\": 300}}, \"layer\": [{\"mark\": {\"type\": \"point\", \"color\": \"black\", \"fillOpacity\": 1, \"strokeWidth\": 1}, \"encoding\": {\"fill\": {\"field\": \"is_present\", \"legend\": {\"title\": [\"Observed data\"]}, \"scale\": {\"range\": [\"black\", \"#ffffff00\"]}, \"type\": \"nominal\"}, \"shape\": {\"field\": \"is_present\", \"type\": \"nominal\"}, \"x\": {\"field\": \"time\", \"type\": \"temporal\"}, \"y\": {\"field\": \"value\", \"scale\": {\"zero\": false}, \"title\": \"\", \"type\": \"quantitative\"}}}, {\"layer\": [{\"mark\": \"errorband\", \"encoding\": {\"color\": {\"field\": \"variable\", \"legend\": {\"title\": [\"Line: pred. mean\", \"area: +/- 2 std\"]}, \"type\": \"nominal\"}, \"x\": {\"field\": \"time\", \"type\": \"temporal\"}, \"y\": {\"field\": \"err_low\", \"scale\": {\"zero\": false}, \"title\": \"\", \"type\": \"quantitative\"}, \"y2\": {\"field\": \"err_high\"}}, \"name\": \"view_2\"}, {\"mark\": \"line\", \"encoding\": {\"color\": {\"field\": \"variable\", \"type\": \"nominal\"}, \"x\": {\"field\": \"time\", \"type\": \"temporal\"}, \"y\": {\"field\": \"value\", \"scale\": {\"zero\": false}, \"title\": \"\", \"type\": \"quantitative\"}}}]}], \"data\": {\"name\": \"data-fd216a9f02cde58db5f8d533d8c02952\"}, \"params\": [{\"name\": \"param_6\", \"select\": {\"type\": \"interval\"}, \"bind\": \"scales\", \"views\": [\"view_2\"]}], \"title\": \"title TA\", \"$schema\": \"https://vega.github.io/schema/vega-lite/v5.2.0.json\", \"datasets\": {\"data-fd216a9f02cde58db5f8d533d8c02952\": [{\"time\": \"2000-06-15T16:30:00\", \"variable\": \"TA\", \"value\": 14.649999618530273, \"is_present\": false, \"std\": 0.5, \"err_low\": 13.649999618530273, \"err_high\": 15.649999618530273}, {\"time\": \"2000-06-15T17:00:00\", \"variable\": \"TA\", \"value\": 14.220000267028809, \"is_present\": false, \"std\": 0.5, \"err_low\": 13.220000267028809, \"err_high\": 15.220000267028809}, {\"time\": \"2000-06-15T17:30:00\", \"variable\": \"TA\", \"value\": 14.109999656677246, \"is_present\": false, \"std\": 0.5, \"err_low\": 13.109999656677246, \"err_high\": 15.109999656677246}, {\"time\": \"2000-06-15T18:00:00\", \"variable\": \"TA\", \"value\": 14.229999542236328, \"is_present\": false, \"std\": 0.5, \"err_low\": 13.229999542236328, \"err_high\": 15.229999542236328}, {\"time\": \"2000-06-15T18:30:00\", \"variable\": \"TA\", \"value\": 14.399999618530273, \"is_present\": false, \"std\": 0.5, \"err_low\": 13.399999618530273, \"err_high\": 15.399999618530273}, {\"time\": \"2000-06-15T19:00:00\", \"variable\": \"TA\", \"value\": 14.09000015258789, \"is_present\": true, \"std\": 0.5, \"err_low\": 13.09000015258789, \"err_high\": 15.09000015258789}, {\"time\": \"2000-06-15T19:30:00\", \"variable\": \"TA\", \"value\": 13.710000038146973, \"is_present\": true, \"std\": 0.5, \"err_low\": 12.710000038146973, \"err_high\": 14.710000038146973}, {\"time\": \"2000-06-15T20:00:00\", \"variable\": \"TA\", \"value\": 13.079999923706055, \"is_present\": true, \"std\": 0.5, \"err_low\": 12.079999923706055, \"err_high\": 14.079999923706055}, {\"time\": \"2000-06-15T20:30:00\", \"variable\": \"TA\", \"value\": 12.40999984741211, \"is_present\": true, \"std\": 0.5, \"err_low\": 11.40999984741211, \"err_high\": 13.40999984741211}, {\"time\": \"2000-06-15T21:00:00\", \"variable\": \"TA\", \"value\": 12.270000457763672, \"is_present\": true, \"std\": 0.5, \"err_low\": 11.270000457763672, \"err_high\": 13.270000457763672}]}}, {\"mode\": \"vega-lite\"});\n",
       "</script>"
      ],
      "text/plain": [
       "alt.LayerChart(...)"
      ]
     },
     "execution_count": null,
     "metadata": {},
     "output_type": "execute_result"
    }
   ],
   "source": [
    "plot_variable(m_df.tidy().assign(std=.5), \"TA\", title=\"title TA\", error=True)"
   ]
  },
  {
   "cell_type": "code",
   "execution_count": null,
   "id": "df1cf2d7-d9de-48ff-9017-c20e31b7dd21",
   "metadata": {},
   "outputs": [],
   "source": [
    "def facet_variable(df, # tidy dataframe\n",
    "                   n_cols: int = 3,\n",
    "                   bind_interaction: bool =True, # Whether the sub-plots for each variable should be connected for zooming/panning\n",
    "                   props:dict = None, # additional properties for altair plot (eg. size)\n",
    "                   error:bool=False # plot error bar\n",
    "                   ) -> alt.Chart:\n",
    "    \"\"\"Plot all values of the column `variable` in different subplots\"\"\"\n",
    "    props = ifnone(props, {'width': 200, 'height': 150})\n",
    "    vars = df.variable.unique()\n",
    "    plot_list = [alt.hconcat() for _ in range(0, len(vars), n_cols)]\n",
    "    selection_scale = alt.selection_interval(bind=\"scales\", encodings=['x']) if bind_interaction else None\n",
    "    for idx, variable in enumerate(vars):\n",
    "        plot = plot_variable(df,\n",
    "                            variable,\n",
    "                            title = variable,\n",
    "                            y_label = variable,\n",
    "                            sel = selection_scale,\n",
    "                            props=props,\n",
    "                            error=error)\n",
    "        \n",
    "        plot_list[idx // n_cols] |= plot\n",
    "    \n",
    "    plot = alt.vconcat(*plot_list)\n",
    "    \n",
    "    return plot"
   ]
  },
  {
   "cell_type": "code",
   "execution_count": null,
   "id": "1787dc1e-cf5f-479b-9173-eaaf2643fd77",
   "metadata": {},
   "outputs": [],
   "source": [
    "#| export\n",
    "@patch\n",
    "def show(self: MaskedDf, ax=None, ctx=None, \n",
    "        n_cols: int = 3,\n",
    "        bind_interaction: bool =True, # Whether the sub-plots for each variable should be connected for zooming/panning\n",
    "        props:dict = None # additional properties (eg. size) for altair plot\n",
    "       ) -> alt.Chart:\n",
    "    \n",
    "    df = self.tidy()\n",
    "    return facet_variable(df, n_cols, bind_interaction, props)"
   ]
  },
  {
   "cell_type": "code",
   "execution_count": null,
   "id": "4b3200e8-9bdb-4882-a2c7-a241ef1c57c1",
   "metadata": {},
   "outputs": [
    {
     "data": {
      "text/html": [
       "\n",
       "<div id=\"altair-viz-8882ea92c3d744ccb32f2241c5b53371\"></div>\n",
       "<script type=\"text/javascript\">\n",
       "  var VEGA_DEBUG = (typeof VEGA_DEBUG == \"undefined\") ? {} : VEGA_DEBUG;\n",
       "  (function(spec, embedOpt){\n",
       "    let outputDiv = document.currentScript.previousElementSibling;\n",
       "    if (outputDiv.id !== \"altair-viz-8882ea92c3d744ccb32f2241c5b53371\") {\n",
       "      outputDiv = document.getElementById(\"altair-viz-8882ea92c3d744ccb32f2241c5b53371\");\n",
       "    }\n",
       "    const paths = {\n",
       "      \"vega\": \"https://cdn.jsdelivr.net/npm//vega@5?noext\",\n",
       "      \"vega-lib\": \"https://cdn.jsdelivr.net/npm//vega-lib?noext\",\n",
       "      \"vega-lite\": \"https://cdn.jsdelivr.net/npm//vega-lite@5.2.0?noext\",\n",
       "      \"vega-embed\": \"https://cdn.jsdelivr.net/npm//vega-embed@6?noext\",\n",
       "    };\n",
       "\n",
       "    function maybeLoadScript(lib, version) {\n",
       "      var key = `${lib.replace(\"-\", \"\")}_version`;\n",
       "      return (VEGA_DEBUG[key] == version) ?\n",
       "        Promise.resolve(paths[lib]) :\n",
       "        new Promise(function(resolve, reject) {\n",
       "          var s = document.createElement('script');\n",
       "          document.getElementsByTagName(\"head\")[0].appendChild(s);\n",
       "          s.async = true;\n",
       "          s.onload = () => {\n",
       "            VEGA_DEBUG[key] = version;\n",
       "            return resolve(paths[lib]);\n",
       "          };\n",
       "          s.onerror = () => reject(`Error loading script: ${paths[lib]}`);\n",
       "          s.src = paths[lib];\n",
       "        });\n",
       "    }\n",
       "\n",
       "    function showError(err) {\n",
       "      outputDiv.innerHTML = `<div class=\"error\" style=\"color:red;\">${err}</div>`;\n",
       "      throw err;\n",
       "    }\n",
       "\n",
       "    function displayChart(vegaEmbed) {\n",
       "      vegaEmbed(outputDiv, spec, embedOpt)\n",
       "        .catch(err => showError(`Javascript Error: ${err.message}<br>This usually means there's a typo in your chart specification. See the javascript console for the full traceback.`));\n",
       "    }\n",
       "\n",
       "    if(typeof define === \"function\" && define.amd) {\n",
       "      requirejs.config({paths});\n",
       "      require([\"vega-embed\"], displayChart, err => showError(`Error loading script: ${err.message}`));\n",
       "    } else {\n",
       "      maybeLoadScript(\"vega\", \"5\")\n",
       "        .then(() => maybeLoadScript(\"vega-lite\", \"5.2.0\"))\n",
       "        .then(() => maybeLoadScript(\"vega-embed\", \"6\"))\n",
       "        .catch(showError)\n",
       "        .then(() => displayChart(vegaEmbed));\n",
       "    }\n",
       "  })({\"config\": {\"view\": {\"continuousWidth\": 400, \"continuousHeight\": 300}}, \"vconcat\": [{\"hconcat\": [{\"layer\": [{\"mark\": {\"type\": \"point\", \"color\": \"black\", \"fillOpacity\": 1, \"strokeWidth\": 1}, \"encoding\": {\"fill\": {\"field\": \"is_present\", \"legend\": {\"title\": [\"Observed data\"]}, \"scale\": {\"range\": [\"black\", \"#ffffff00\"]}, \"type\": \"nominal\"}, \"shape\": {\"field\": \"is_present\", \"type\": \"nominal\"}, \"x\": {\"field\": \"time\", \"type\": \"temporal\"}, \"y\": {\"field\": \"value\", \"scale\": {\"zero\": false}, \"title\": \"TA\", \"type\": \"quantitative\"}}}, {\"mark\": \"line\", \"encoding\": {\"color\": {\"field\": \"variable\", \"type\": \"nominal\"}, \"x\": {\"field\": \"time\", \"type\": \"temporal\"}, \"y\": {\"field\": \"value\", \"scale\": {\"zero\": false}, \"title\": \"TA\", \"type\": \"quantitative\"}}, \"name\": \"view_3\"}], \"height\": 150, \"title\": \"TA\", \"width\": 200}, {\"layer\": [{\"mark\": {\"type\": \"point\", \"color\": \"black\", \"fillOpacity\": 1, \"strokeWidth\": 1}, \"encoding\": {\"fill\": {\"field\": \"is_present\", \"legend\": {\"title\": [\"Observed data\"]}, \"scale\": {\"range\": [\"black\", \"#ffffff00\"]}, \"type\": \"nominal\"}, \"shape\": {\"field\": \"is_present\", \"type\": \"nominal\"}, \"x\": {\"field\": \"time\", \"type\": \"temporal\"}, \"y\": {\"field\": \"value\", \"scale\": {\"zero\": false}, \"title\": \"SW_IN\", \"type\": \"quantitative\"}}}, {\"mark\": \"line\", \"encoding\": {\"color\": {\"field\": \"variable\", \"type\": \"nominal\"}, \"x\": {\"field\": \"time\", \"type\": \"temporal\"}, \"y\": {\"field\": \"value\", \"scale\": {\"zero\": false}, \"title\": \"SW_IN\", \"type\": \"quantitative\"}}, \"name\": \"view_4\"}], \"data\": {\"name\": \"data-5a1f3fac3d9df47c6d1f6f3a5658ee3a\"}, \"height\": 150, \"title\": \"SW_IN\", \"width\": 200}, {\"layer\": [{\"mark\": {\"type\": \"point\", \"color\": \"black\", \"fillOpacity\": 1, \"strokeWidth\": 1}, \"encoding\": {\"fill\": {\"field\": \"is_present\", \"legend\": {\"title\": [\"Observed data\"]}, \"scale\": {\"range\": [\"black\", \"#ffffff00\"]}, \"type\": \"nominal\"}, \"shape\": {\"field\": \"is_present\", \"type\": \"nominal\"}, \"x\": {\"field\": \"time\", \"type\": \"temporal\"}, \"y\": {\"field\": \"value\", \"scale\": {\"zero\": false}, \"title\": \"VPD\", \"type\": \"quantitative\"}}}, {\"mark\": \"line\", \"encoding\": {\"color\": {\"field\": \"variable\", \"type\": \"nominal\"}, \"x\": {\"field\": \"time\", \"type\": \"temporal\"}, \"y\": {\"field\": \"value\", \"scale\": {\"zero\": false}, \"title\": \"VPD\", \"type\": \"quantitative\"}}, \"name\": \"view_5\"}], \"data\": {\"name\": \"data-d31baa6ca74e0aff36d178089e8b875a\"}, \"height\": 150, \"title\": \"VPD\", \"width\": 200}]}], \"data\": {\"name\": \"data-56120284c98ea45ee642dd5b510147c7\"}, \"params\": [{\"name\": \"param_7\", \"select\": {\"type\": \"interval\", \"encodings\": [\"x\"]}, \"bind\": \"scales\", \"views\": [\"view_3\", \"view_4\", \"view_5\"]}], \"$schema\": \"https://vega.github.io/schema/vega-lite/v5.2.0.json\", \"datasets\": {\"data-56120284c98ea45ee642dd5b510147c7\": [{\"time\": \"2000-06-15T16:30:00\", \"variable\": \"TA\", \"value\": 14.649999618530273, \"is_present\": false}, {\"time\": \"2000-06-15T17:00:00\", \"variable\": \"TA\", \"value\": 14.220000267028809, \"is_present\": false}, {\"time\": \"2000-06-15T17:30:00\", \"variable\": \"TA\", \"value\": 14.109999656677246, \"is_present\": false}, {\"time\": \"2000-06-15T18:00:00\", \"variable\": \"TA\", \"value\": 14.229999542236328, \"is_present\": false}, {\"time\": \"2000-06-15T18:30:00\", \"variable\": \"TA\", \"value\": 14.399999618530273, \"is_present\": false}, {\"time\": \"2000-06-15T19:00:00\", \"variable\": \"TA\", \"value\": 14.09000015258789, \"is_present\": true}, {\"time\": \"2000-06-15T19:30:00\", \"variable\": \"TA\", \"value\": 13.710000038146973, \"is_present\": true}, {\"time\": \"2000-06-15T20:00:00\", \"variable\": \"TA\", \"value\": 13.079999923706055, \"is_present\": true}, {\"time\": \"2000-06-15T20:30:00\", \"variable\": \"TA\", \"value\": 12.40999984741211, \"is_present\": true}, {\"time\": \"2000-06-15T21:00:00\", \"variable\": \"TA\", \"value\": 12.270000457763672, \"is_present\": true}], \"data-5a1f3fac3d9df47c6d1f6f3a5658ee3a\": [{\"time\": \"2000-06-15T16:30:00\", \"variable\": \"SW_IN\", \"value\": 468.19000244140625, \"is_present\": true}, {\"time\": \"2000-06-15T17:00:00\", \"variable\": \"SW_IN\", \"value\": 224.8000030517578, \"is_present\": true}, {\"time\": \"2000-06-15T17:30:00\", \"variable\": \"SW_IN\", \"value\": 195.27999877929688, \"is_present\": true}, {\"time\": \"2000-06-15T18:00:00\", \"variable\": \"SW_IN\", \"value\": 244.1699981689453, \"is_present\": true}, {\"time\": \"2000-06-15T18:30:00\", \"variable\": \"SW_IN\", \"value\": 253.9199981689453, \"is_present\": true}, {\"time\": \"2000-06-15T19:00:00\", \"variable\": \"SW_IN\", \"value\": 177.30999755859375, \"is_present\": true}, {\"time\": \"2000-06-15T19:30:00\", \"variable\": \"SW_IN\", \"value\": 97.06999969482422, \"is_present\": true}, {\"time\": \"2000-06-15T20:00:00\", \"variable\": \"SW_IN\", \"value\": 39.709999084472656, \"is_present\": true}, {\"time\": \"2000-06-15T20:30:00\", \"variable\": \"SW_IN\", \"value\": 10.649999618530273, \"is_present\": true}, {\"time\": \"2000-06-15T21:00:00\", \"variable\": \"SW_IN\", \"value\": 0.3199999928474426, \"is_present\": true}], \"data-d31baa6ca74e0aff36d178089e8b875a\": [{\"time\": \"2000-06-15T16:30:00\", \"variable\": \"VPD\", \"value\": 6.453999996185303, \"is_present\": false}, {\"time\": \"2000-06-15T17:00:00\", \"variable\": \"VPD\", \"value\": 5.798999786376953, \"is_present\": false}, {\"time\": \"2000-06-15T17:30:00\", \"variable\": \"VPD\", \"value\": 6.577000141143799, \"is_present\": false}, {\"time\": \"2000-06-15T18:00:00\", \"variable\": \"VPD\", \"value\": 6.931000232696533, \"is_present\": false}, {\"time\": \"2000-06-15T18:30:00\", \"variable\": \"VPD\", \"value\": 7.285999774932861, \"is_present\": false}, {\"time\": \"2000-06-15T19:00:00\", \"variable\": \"VPD\", \"value\": 7.250999927520752, \"is_present\": true}, {\"time\": \"2000-06-15T19:30:00\", \"variable\": \"VPD\", \"value\": 6.683000087738037, \"is_present\": true}, {\"time\": \"2000-06-15T20:00:00\", \"variable\": \"VPD\", \"value\": 5.85099983215332, \"is_present\": true}, {\"time\": \"2000-06-15T20:30:00\", \"variable\": \"VPD\", \"value\": 5.254000186920166, \"is_present\": true}, {\"time\": \"2000-06-15T21:00:00\", \"variable\": \"VPD\", \"value\": 5.164000034332275, \"is_present\": true}]}}, {\"mode\": \"vega-lite\"});\n",
       "</script>"
      ],
      "text/plain": [
       "alt.VConcatChart(...)"
      ]
     },
     "execution_count": null,
     "metadata": {},
     "output_type": "execute_result"
    }
   ],
   "source": [
    "m_df.show()"
   ]
  },
  {
   "cell_type": "code",
   "execution_count": null,
   "id": "c9284e47-6433-405f-8b0d-a2cd6595bf94",
   "metadata": {},
   "outputs": [
    {
     "data": {
      "text/html": [
       "\n",
       "<div id=\"altair-viz-28adf3c9faba4a09a964dd80c69b076b\"></div>\n",
       "<script type=\"text/javascript\">\n",
       "  var VEGA_DEBUG = (typeof VEGA_DEBUG == \"undefined\") ? {} : VEGA_DEBUG;\n",
       "  (function(spec, embedOpt){\n",
       "    let outputDiv = document.currentScript.previousElementSibling;\n",
       "    if (outputDiv.id !== \"altair-viz-28adf3c9faba4a09a964dd80c69b076b\") {\n",
       "      outputDiv = document.getElementById(\"altair-viz-28adf3c9faba4a09a964dd80c69b076b\");\n",
       "    }\n",
       "    const paths = {\n",
       "      \"vega\": \"https://cdn.jsdelivr.net/npm//vega@5?noext\",\n",
       "      \"vega-lib\": \"https://cdn.jsdelivr.net/npm//vega-lib?noext\",\n",
       "      \"vega-lite\": \"https://cdn.jsdelivr.net/npm//vega-lite@5.2.0?noext\",\n",
       "      \"vega-embed\": \"https://cdn.jsdelivr.net/npm//vega-embed@6?noext\",\n",
       "    };\n",
       "\n",
       "    function maybeLoadScript(lib, version) {\n",
       "      var key = `${lib.replace(\"-\", \"\")}_version`;\n",
       "      return (VEGA_DEBUG[key] == version) ?\n",
       "        Promise.resolve(paths[lib]) :\n",
       "        new Promise(function(resolve, reject) {\n",
       "          var s = document.createElement('script');\n",
       "          document.getElementsByTagName(\"head\")[0].appendChild(s);\n",
       "          s.async = true;\n",
       "          s.onload = () => {\n",
       "            VEGA_DEBUG[key] = version;\n",
       "            return resolve(paths[lib]);\n",
       "          };\n",
       "          s.onerror = () => reject(`Error loading script: ${paths[lib]}`);\n",
       "          s.src = paths[lib];\n",
       "        });\n",
       "    }\n",
       "\n",
       "    function showError(err) {\n",
       "      outputDiv.innerHTML = `<div class=\"error\" style=\"color:red;\">${err}</div>`;\n",
       "      throw err;\n",
       "    }\n",
       "\n",
       "    function displayChart(vegaEmbed) {\n",
       "      vegaEmbed(outputDiv, spec, embedOpt)\n",
       "        .catch(err => showError(`Javascript Error: ${err.message}<br>This usually means there's a typo in your chart specification. See the javascript console for the full traceback.`));\n",
       "    }\n",
       "\n",
       "    if(typeof define === \"function\" && define.amd) {\n",
       "      requirejs.config({paths});\n",
       "      require([\"vega-embed\"], displayChart, err => showError(`Error loading script: ${err.message}`));\n",
       "    } else {\n",
       "      maybeLoadScript(\"vega\", \"5\")\n",
       "        .then(() => maybeLoadScript(\"vega-lite\", \"5.2.0\"))\n",
       "        .then(() => maybeLoadScript(\"vega-embed\", \"6\"))\n",
       "        .catch(showError)\n",
       "        .then(() => displayChart(vegaEmbed));\n",
       "    }\n",
       "  })({\"config\": {\"view\": {\"continuousWidth\": 400, \"continuousHeight\": 300}}, \"vconcat\": [{\"hconcat\": [{\"layer\": [{\"mark\": {\"type\": \"point\", \"color\": \"black\", \"fillOpacity\": 1, \"strokeWidth\": 1}, \"encoding\": {\"fill\": {\"field\": \"is_present\", \"legend\": {\"title\": [\"Observed data\"]}, \"scale\": {\"range\": [\"black\", \"#ffffff00\"]}, \"type\": \"nominal\"}, \"shape\": {\"field\": \"is_present\", \"type\": \"nominal\"}, \"x\": {\"field\": \"time\", \"type\": \"temporal\"}, \"y\": {\"field\": \"value\", \"scale\": {\"zero\": false}, \"title\": \"TA\", \"type\": \"quantitative\"}}}, {\"mark\": \"line\", \"encoding\": {\"color\": {\"field\": \"variable\", \"type\": \"nominal\"}, \"x\": {\"field\": \"time\", \"type\": \"temporal\"}, \"y\": {\"field\": \"value\", \"scale\": {\"zero\": false}, \"title\": \"TA\", \"type\": \"quantitative\"}}, \"name\": \"view_6\"}], \"height\": 150, \"title\": \"TA\", \"width\": 200}, {\"layer\": [{\"mark\": {\"type\": \"point\", \"color\": \"black\", \"fillOpacity\": 1, \"strokeWidth\": 1}, \"encoding\": {\"fill\": {\"field\": \"is_present\", \"legend\": {\"title\": [\"Observed data\"]}, \"scale\": {\"range\": [\"black\", \"#ffffff00\"]}, \"type\": \"nominal\"}, \"shape\": {\"field\": \"is_present\", \"type\": \"nominal\"}, \"x\": {\"field\": \"time\", \"type\": \"temporal\"}, \"y\": {\"field\": \"value\", \"scale\": {\"zero\": false}, \"title\": \"SW_IN\", \"type\": \"quantitative\"}}}, {\"mark\": \"line\", \"encoding\": {\"color\": {\"field\": \"variable\", \"type\": \"nominal\"}, \"x\": {\"field\": \"time\", \"type\": \"temporal\"}, \"y\": {\"field\": \"value\", \"scale\": {\"zero\": false}, \"title\": \"SW_IN\", \"type\": \"quantitative\"}}, \"name\": \"view_7\"}], \"data\": {\"name\": \"data-c927eb5cf250cf0872c3a170980e7a6e\"}, \"height\": 150, \"title\": \"SW_IN\", \"width\": 200}, {\"layer\": [{\"mark\": {\"type\": \"point\", \"color\": \"black\", \"fillOpacity\": 1, \"strokeWidth\": 1}, \"encoding\": {\"fill\": {\"field\": \"is_present\", \"legend\": {\"title\": [\"Observed data\"]}, \"scale\": {\"range\": [\"black\", \"#ffffff00\"]}, \"type\": \"nominal\"}, \"shape\": {\"field\": \"is_present\", \"type\": \"nominal\"}, \"x\": {\"field\": \"time\", \"type\": \"temporal\"}, \"y\": {\"field\": \"value\", \"scale\": {\"zero\": false}, \"title\": \"VPD\", \"type\": \"quantitative\"}}}, {\"mark\": \"line\", \"encoding\": {\"color\": {\"field\": \"variable\", \"type\": \"nominal\"}, \"x\": {\"field\": \"time\", \"type\": \"temporal\"}, \"y\": {\"field\": \"value\", \"scale\": {\"zero\": false}, \"title\": \"VPD\", \"type\": \"quantitative\"}}, \"name\": \"view_8\"}], \"data\": {\"name\": \"data-12861b3dc0b0f8b0a5bdb5fdd3cc307d\"}, \"height\": 150, \"title\": \"VPD\", \"width\": 200}]}], \"data\": {\"name\": \"data-cd838a9cf208b8a9ec8b15ddaf517649\"}, \"params\": [{\"name\": \"param_11\", \"select\": {\"type\": \"interval\", \"encodings\": [\"x\"]}, \"bind\": \"scales\", \"views\": [\"view_6\", \"view_7\", \"view_8\"]}], \"$schema\": \"https://vega.github.io/schema/vega-lite/v5.2.0.json\", \"datasets\": {\"data-cd838a9cf208b8a9ec8b15ddaf517649\": [{\"time\": \"2000-06-15T11:30:00\", \"variable\": \"TA\", \"value\": 15.109999656677246, \"is_present\": false}, {\"time\": \"2000-06-15T12:00:00\", \"variable\": \"TA\", \"value\": 13.1899995803833, \"is_present\": false}, {\"time\": \"2000-06-15T12:30:00\", \"variable\": \"TA\", \"value\": 14.430000305175781, \"is_present\": false}, {\"time\": \"2000-06-15T13:00:00\", \"variable\": \"TA\", \"value\": 14.609999656677246, \"is_present\": false}, {\"time\": \"2000-06-15T13:30:00\", \"variable\": \"TA\", \"value\": 13.529999732971191, \"is_present\": false}, {\"time\": \"2000-06-15T14:00:00\", \"variable\": \"TA\", \"value\": 13.430000305175781, \"is_present\": true}, {\"time\": \"2000-06-15T14:30:00\", \"variable\": \"TA\", \"value\": 13.079999923706055, \"is_present\": true}, {\"time\": \"2000-06-15T15:00:00\", \"variable\": \"TA\", \"value\": 13.369999885559082, \"is_present\": true}, {\"time\": \"2000-06-15T15:30:00\", \"variable\": \"TA\", \"value\": 14.319999694824219, \"is_present\": true}, {\"time\": \"2000-06-15T16:00:00\", \"variable\": \"TA\", \"value\": 15.0, \"is_present\": true}], \"data-c927eb5cf250cf0872c3a170980e7a6e\": [{\"time\": \"2000-06-15T11:30:00\", \"variable\": \"SW_IN\", \"value\": 151.3000030517578, \"is_present\": true}, {\"time\": \"2000-06-15T12:00:00\", \"variable\": \"SW_IN\", \"value\": 697.1300048828125, \"is_present\": true}, {\"time\": \"2000-06-15T12:30:00\", \"variable\": \"SW_IN\", \"value\": 744.6799926757812, \"is_present\": true}, {\"time\": \"2000-06-15T13:00:00\", \"variable\": \"SW_IN\", \"value\": 357.739990234375, \"is_present\": true}, {\"time\": \"2000-06-15T13:30:00\", \"variable\": \"SW_IN\", \"value\": 158.25, \"is_present\": true}, {\"time\": \"2000-06-15T14:00:00\", \"variable\": \"SW_IN\", \"value\": 105.04000091552734, \"is_present\": true}, {\"time\": \"2000-06-15T14:30:00\", \"variable\": \"SW_IN\", \"value\": 142.63999938964844, \"is_present\": true}, {\"time\": \"2000-06-15T15:00:00\", \"variable\": \"SW_IN\", \"value\": 412.42999267578125, \"is_present\": true}, {\"time\": \"2000-06-15T15:30:00\", \"variable\": \"SW_IN\", \"value\": 600.510009765625, \"is_present\": true}, {\"time\": \"2000-06-15T16:00:00\", \"variable\": \"SW_IN\", \"value\": 635.8800048828125, \"is_present\": true}], \"data-12861b3dc0b0f8b0a5bdb5fdd3cc307d\": [{\"time\": \"2000-06-15T11:30:00\", \"variable\": \"VPD\", \"value\": 2.7709999084472656, \"is_present\": false}, {\"time\": \"2000-06-15T12:00:00\", \"variable\": \"VPD\", \"value\": 1.6490000486373901, \"is_present\": false}, {\"time\": \"2000-06-15T12:30:00\", \"variable\": \"VPD\", \"value\": 2.569999933242798, \"is_present\": false}, {\"time\": \"2000-06-15T13:00:00\", \"variable\": \"VPD\", \"value\": 2.7160000801086426, \"is_present\": false}, {\"time\": \"2000-06-15T13:30:00\", \"variable\": \"VPD\", \"value\": 3.0759999752044678, \"is_present\": false}, {\"time\": \"2000-06-15T14:00:00\", \"variable\": \"VPD\", \"value\": 2.809000015258789, \"is_present\": true}, {\"time\": \"2000-06-15T14:30:00\", \"variable\": \"VPD\", \"value\": 2.359999895095825, \"is_present\": true}, {\"time\": \"2000-06-15T15:00:00\", \"variable\": \"VPD\", \"value\": 4.0370001792907715, \"is_present\": true}, {\"time\": \"2000-06-15T15:30:00\", \"variable\": \"VPD\", \"value\": 5.583000183105469, \"is_present\": true}, {\"time\": \"2000-06-15T16:00:00\", \"variable\": \"VPD\", \"value\": 6.328999996185303, \"is_present\": true}]}}, {\"mode\": \"vega-lite\"});\n",
       "</script>"
      ],
      "text/plain": [
       "alt.VConcatChart(...)"
      ]
     },
     "execution_count": null,
     "metadata": {},
     "output_type": "execute_result"
    }
   ],
   "source": [
    "a_gap(blk(799)).show()"
   ]
  },
  {
   "cell_type": "code",
   "execution_count": null,
   "id": "37358f56-f705-4d3c-b39f-ac810447a635",
   "metadata": {},
   "outputs": [],
   "source": [
    "idx = L(*blk(1).columns).argwhere(lambda x: x in ['TA','SW_IN'])"
   ]
  },
  {
   "cell_type": "code",
   "execution_count": null,
   "id": "9126e8d1-3f99-40ba-b4ac-e5ac0f5cfd6c",
   "metadata": {},
   "outputs": [],
   "source": [
    "mask = np.ones_like(blk(1), dtype=bool)"
   ]
  },
  {
   "cell_type": "code",
   "execution_count": null,
   "id": "a9bf7480-1580-490d-8ce9-a0c47ef6c2a3",
   "metadata": {},
   "outputs": [
    {
     "data": {
      "text/plain": [
       "array([[ True,  True,  True],\n",
       "       [ True,  True,  True],\n",
       "       [ True,  True,  True],\n",
       "       [ True,  True,  True],\n",
       "       [ True,  True,  True],\n",
       "       [ True,  True,  True],\n",
       "       [ True,  True,  True],\n",
       "       [ True,  True,  True],\n",
       "       [ True,  True,  True],\n",
       "       [ True,  True,  True]])"
      ]
     },
     "execution_count": null,
     "metadata": {},
     "output_type": "execute_result"
    }
   ],
   "source": [
    "mask"
   ]
  },
  {
   "cell_type": "code",
   "execution_count": null,
   "id": "7ba57b44-2632-4ada-af4d-20b2678e6798",
   "metadata": {},
   "outputs": [],
   "source": [
    "gap = _make_random_gap(2, 10, 2)"
   ]
  },
  {
   "cell_type": "code",
   "execution_count": null,
   "id": "614d77ee-5fa7-49bd-b0e2-2bd9539b3c67",
   "metadata": {},
   "outputs": [
    {
     "data": {
      "text/plain": [
       "array([False, False,  True,  True, False, False, False, False, False,\n",
       "       False])"
      ]
     },
     "execution_count": null,
     "metadata": {},
     "output_type": "execute_result"
    }
   ],
   "source": [
    "gap"
   ]
  },
  {
   "cell_type": "code",
   "execution_count": null,
   "id": "2cfdf0a8-6761-43fb-a716-af7d391bd36c",
   "metadata": {},
   "outputs": [
    {
     "data": {
      "text/plain": [
       "array([[2],\n",
       "       [3]])"
      ]
     },
     "execution_count": null,
     "metadata": {},
     "output_type": "execute_result"
    }
   ],
   "source": [
    "np.argwhere(gap)"
   ]
  },
  {
   "cell_type": "code",
   "execution_count": null,
   "id": "c4892a92-5850-4529-991d-24c9a1cebf14",
   "metadata": {},
   "outputs": [],
   "source": [
    "mask[np.argwhere(gap), idx] = False"
   ]
  },
  {
   "cell_type": "code",
   "execution_count": null,
   "id": "5cf78fa7-3c14-43e6-a370-085f74f48ffa",
   "metadata": {},
   "outputs": [
    {
     "data": {
      "text/plain": [
       "array([[ True,  True,  True],\n",
       "       [ True,  True,  True],\n",
       "       [False, False,  True],\n",
       "       [False, False,  True],\n",
       "       [ True,  True,  True],\n",
       "       [ True,  True,  True],\n",
       "       [ True,  True,  True],\n",
       "       [ True,  True,  True],\n",
       "       [ True,  True,  True],\n",
       "       [ True,  True,  True]])"
      ]
     },
     "execution_count": null,
     "metadata": {},
     "output_type": "execute_result"
    }
   ],
   "source": [
    "mask"
   ]
  },
  {
   "cell_type": "code",
   "execution_count": null,
   "id": "39d845e1-4869-4d99-ad55-d851e44bc5cc",
   "metadata": {},
   "outputs": [
    {
     "data": {
      "text/plain": [
       "array([[False, False,  True],\n",
       "       [False, False,  True]])"
      ]
     },
     "execution_count": null,
     "metadata": {},
     "output_type": "execute_result"
    }
   ],
   "source": [
    "mask[gap]"
   ]
  },
  {
   "cell_type": "markdown",
   "id": "9e70cf47-7a11-4806-93ba-f9bdf56dc671",
   "metadata": {},
   "source": [
    "### To Tensor"
   ]
  },
  {
   "cell_type": "markdown",
   "id": "a632c649-a391-4513-bcad-c5217ce001ef",
   "metadata": {},
   "source": [
    "this needs to handle both the init with a list of items and when the first item is a sequence of list of items"
   ]
  },
  {
   "cell_type": "code",
   "execution_count": null,
   "id": "1c157b15-d2e4-468b-9505-34478c196d34",
   "metadata": {},
   "outputs": [],
   "source": [
    "class MaskedTensor(collections.abc.Sequence):\n",
    "    def __init__(self,*args):\n",
    "        if len(args)==2:\n",
    "            self.data = args[0]\n",
    "            self.mask = args[1]\n",
    "        elif len(args)==1 and len(args[0])==2:\n",
    "            self.data = args[0][0]\n",
    "            self.mask = args[0][1]\n",
    "        else:\n",
    "            raise ValueError(f\"Incorrect number of arguments. got {len(args)} args\")\n",
    "\n",
    "    def __iter__(self): return iter((self.data, self.mask,))\n",
    "    __len__ = 2\n",
    "    def __getitem__(self, key):\n",
    "        if key == 0: return self.data\n",
    "        elif key == 1: return self.mask\n",
    "        else: raise IndexError(\"index bigger than 2\")\n",
    "    __repr__ = basic_repr('data, mask')"
   ]
  },
  {
   "cell_type": "code",
   "execution_count": null,
   "id": "49a73687-9272-44ad-84d5-0b845a63cd98",
   "metadata": {},
   "outputs": [],
   "source": [
    "#| export\n",
    "class MaskedDf2Tensor(Transform):\n",
    "    def setups(self, items):\n",
    "        self.columns = list(items[0].data.columns)\n",
    "    def encodes(self, df: MaskedDf) -> MaskedTensor:\n",
    "        data = torch.tensor(df.data.to_numpy())\n",
    "        mask = torch.tensor(df.mask.to_numpy())\n",
    "        return MaskedTensor(data, mask)\n",
    "        \n",
    "    def decodes(self, x: MaskedTensor) -> MaskedDf:\n",
    "        data = pd.DataFrame(x.data.detach().cpu().numpy(), columns = self.columns)\n",
    "        mask = pd.DataFrame(x.mask.cpu().numpy(), columns = self.columns)\n",
    "        return MaskedDf(data, mask)"
   ]
  },
  {
   "cell_type": "code",
   "execution_count": null,
   "id": "f144e2e3-93b2-4b53-86ac-eeed6b483e61",
   "metadata": {},
   "outputs": [],
   "source": [
    "to_t = MaskedDf2Tensor()"
   ]
  },
  {
   "cell_type": "code",
   "execution_count": null,
   "id": "70d0c5f6-741a-4687-896a-deeb0d58c201",
   "metadata": {},
   "outputs": [],
   "source": [
    "to_t.setup(tfms2)"
   ]
  },
  {
   "cell_type": "code",
   "execution_count": null,
   "id": "2a4f7ca8-df98-42a4-97a7-cd04a61d1304",
   "metadata": {},
   "outputs": [
    {
     "data": {
      "text/plain": [
       "__main__.MaskedTensor(data=tensor([[1.4650e+01, 4.6819e+02, 6.4540e+00],\n",
       "        [1.4220e+01, 2.2480e+02, 5.7990e+00],\n",
       "        [1.4110e+01, 1.9528e+02, 6.5770e+00],\n",
       "        [1.4230e+01, 2.4417e+02, 6.9310e+00],\n",
       "        [1.4400e+01, 2.5392e+02, 7.2860e+00],\n",
       "        [1.4090e+01, 1.7731e+02, 7.2510e+00],\n",
       "        [1.3710e+01, 9.7070e+01, 6.6830e+00],\n",
       "        [1.3080e+01, 3.9710e+01, 5.8510e+00],\n",
       "        [1.2410e+01, 1.0650e+01, 5.2540e+00],\n",
       "        [1.2270e+01, 3.2000e-01, 5.1640e+00]]), mask=tensor([[ True,  True,  True],\n",
       "        [ True,  True,  True],\n",
       "        [ True,  True,  True],\n",
       "        [ True,  True,  True],\n",
       "        [ True,  True,  True],\n",
       "        [False, False,  True],\n",
       "        [False, False,  True],\n",
       "        [ True,  True,  True],\n",
       "        [ True,  True,  True],\n",
       "        [ True,  True,  True]]))"
      ]
     },
     "execution_count": null,
     "metadata": {},
     "output_type": "execute_result"
    }
   ],
   "source": [
    "to_t(tfms2[0])"
   ]
  },
  {
   "cell_type": "code",
   "execution_count": null,
   "id": "786af7c1-edb5-40ef-bbd3-b9f1b1220f11",
   "metadata": {},
   "outputs": [],
   "source": [
    "to_t.decode(to_t(tfms2[0]));"
   ]
  },
  {
   "cell_type": "code",
   "execution_count": null,
   "id": "d2e84c50-5ecd-43a7-881e-80e53bc55aa0",
   "metadata": {},
   "outputs": [
    {
     "data": {
      "text/html": [
       "<p style='font-size: 1.5rem; font-decoration: bold'>Masked Df<p><div style=\"display: flex; column-gap: 20px; flex-wrap: wrap;\" class='table table-striped table-sm'> <div> <p style='font-size: 1.3rem;'>data</p> <style type=\"text/css\">\n",
       "</style>\n",
       "<table id=\"T_4c8e5\">\n",
       "  <thead>\n",
       "    <tr>\n",
       "      <th id=\"T_4c8e5_level0_col0\" class=\"col_heading level0 col0\" >TA</th>\n",
       "      <th id=\"T_4c8e5_level0_col1\" class=\"col_heading level0 col1\" >SW_IN</th>\n",
       "      <th id=\"T_4c8e5_level0_col2\" class=\"col_heading level0 col2\" >VPD</th>\n",
       "    </tr>\n",
       "  </thead>\n",
       "  <tbody>\n",
       "    <tr>\n",
       "      <td id=\"T_4c8e5_row0_col0\" class=\"data row0 col0\" >14.6500</td>\n",
       "      <td id=\"T_4c8e5_row0_col1\" class=\"data row0 col1\" >468.1900</td>\n",
       "      <td id=\"T_4c8e5_row0_col2\" class=\"data row0 col2\" >6.4540</td>\n",
       "    </tr>\n",
       "    <tr>\n",
       "      <td id=\"T_4c8e5_row1_col0\" class=\"data row1 col0\" >14.2200</td>\n",
       "      <td id=\"T_4c8e5_row1_col1\" class=\"data row1 col1\" >224.8000</td>\n",
       "      <td id=\"T_4c8e5_row1_col2\" class=\"data row1 col2\" >5.7990</td>\n",
       "    </tr>\n",
       "    <tr>\n",
       "      <td id=\"T_4c8e5_row2_col0\" class=\"data row2 col0\" >14.1100</td>\n",
       "      <td id=\"T_4c8e5_row2_col1\" class=\"data row2 col1\" >195.2800</td>\n",
       "      <td id=\"T_4c8e5_row2_col2\" class=\"data row2 col2\" >6.5770</td>\n",
       "    </tr>\n",
       "    <tr>\n",
       "      <td id=\"T_4c8e5_row3_col0\" class=\"data row3 col0\" >14.2300</td>\n",
       "      <td id=\"T_4c8e5_row3_col1\" class=\"data row3 col1\" >244.1700</td>\n",
       "      <td id=\"T_4c8e5_row3_col2\" class=\"data row3 col2\" >6.9310</td>\n",
       "    </tr>\n",
       "    <tr>\n",
       "      <td id=\"T_4c8e5_row4_col0\" class=\"data row4 col0\" >14.4000</td>\n",
       "      <td id=\"T_4c8e5_row4_col1\" class=\"data row4 col1\" >253.9200</td>\n",
       "      <td id=\"T_4c8e5_row4_col2\" class=\"data row4 col2\" >7.2860</td>\n",
       "    </tr>\n",
       "    <tr>\n",
       "      <td id=\"T_4c8e5_row5_col0\" class=\"data row5 col0\" >14.0900</td>\n",
       "      <td id=\"T_4c8e5_row5_col1\" class=\"data row5 col1\" >177.3100</td>\n",
       "      <td id=\"T_4c8e5_row5_col2\" class=\"data row5 col2\" >7.2510</td>\n",
       "    </tr>\n",
       "    <tr>\n",
       "      <td id=\"T_4c8e5_row6_col0\" class=\"data row6 col0\" >13.7100</td>\n",
       "      <td id=\"T_4c8e5_row6_col1\" class=\"data row6 col1\" >97.0700</td>\n",
       "      <td id=\"T_4c8e5_row6_col2\" class=\"data row6 col2\" >6.6830</td>\n",
       "    </tr>\n",
       "    <tr>\n",
       "      <td id=\"T_4c8e5_row7_col0\" class=\"data row7 col0\" >13.0800</td>\n",
       "      <td id=\"T_4c8e5_row7_col1\" class=\"data row7 col1\" >39.7100</td>\n",
       "      <td id=\"T_4c8e5_row7_col2\" class=\"data row7 col2\" >5.8510</td>\n",
       "    </tr>\n",
       "    <tr>\n",
       "      <td id=\"T_4c8e5_row8_col0\" class=\"data row8 col0\" >12.4100</td>\n",
       "      <td id=\"T_4c8e5_row8_col1\" class=\"data row8 col1\" >10.6500</td>\n",
       "      <td id=\"T_4c8e5_row8_col2\" class=\"data row8 col2\" >5.2540</td>\n",
       "    </tr>\n",
       "    <tr>\n",
       "      <td id=\"T_4c8e5_row9_col0\" class=\"data row9 col0\" >12.2700</td>\n",
       "      <td id=\"T_4c8e5_row9_col1\" class=\"data row9 col1\" >0.3200</td>\n",
       "      <td id=\"T_4c8e5_row9_col2\" class=\"data row9 col2\" >5.1640</td>\n",
       "    </tr>\n",
       "  </tbody>\n",
       "</table>\n",
       " </div><div> <p style='font-size: 1.3rem;'>mask</p> <style type=\"text/css\">\n",
       "</style>\n",
       "<table id=\"T_30ccc\">\n",
       "  <thead>\n",
       "    <tr>\n",
       "      <th id=\"T_30ccc_level0_col0\" class=\"col_heading level0 col0\" >TA</th>\n",
       "      <th id=\"T_30ccc_level0_col1\" class=\"col_heading level0 col1\" >SW_IN</th>\n",
       "      <th id=\"T_30ccc_level0_col2\" class=\"col_heading level0 col2\" >VPD</th>\n",
       "    </tr>\n",
       "  </thead>\n",
       "  <tbody>\n",
       "    <tr>\n",
       "      <td id=\"T_30ccc_row0_col0\" class=\"data row0 col0\" >True</td>\n",
       "      <td id=\"T_30ccc_row0_col1\" class=\"data row0 col1\" >True</td>\n",
       "      <td id=\"T_30ccc_row0_col2\" class=\"data row0 col2\" >True</td>\n",
       "    </tr>\n",
       "    <tr>\n",
       "      <td id=\"T_30ccc_row1_col0\" class=\"data row1 col0\" >False</td>\n",
       "      <td id=\"T_30ccc_row1_col1\" class=\"data row1 col1\" >False</td>\n",
       "      <td id=\"T_30ccc_row1_col2\" class=\"data row1 col2\" >True</td>\n",
       "    </tr>\n",
       "    <tr>\n",
       "      <td id=\"T_30ccc_row2_col0\" class=\"data row2 col0\" >False</td>\n",
       "      <td id=\"T_30ccc_row2_col1\" class=\"data row2 col1\" >False</td>\n",
       "      <td id=\"T_30ccc_row2_col2\" class=\"data row2 col2\" >True</td>\n",
       "    </tr>\n",
       "    <tr>\n",
       "      <td id=\"T_30ccc_row3_col0\" class=\"data row3 col0\" >True</td>\n",
       "      <td id=\"T_30ccc_row3_col1\" class=\"data row3 col1\" >True</td>\n",
       "      <td id=\"T_30ccc_row3_col2\" class=\"data row3 col2\" >True</td>\n",
       "    </tr>\n",
       "    <tr>\n",
       "      <td id=\"T_30ccc_row4_col0\" class=\"data row4 col0\" >True</td>\n",
       "      <td id=\"T_30ccc_row4_col1\" class=\"data row4 col1\" >True</td>\n",
       "      <td id=\"T_30ccc_row4_col2\" class=\"data row4 col2\" >True</td>\n",
       "    </tr>\n",
       "    <tr>\n",
       "      <td id=\"T_30ccc_row5_col0\" class=\"data row5 col0\" >True</td>\n",
       "      <td id=\"T_30ccc_row5_col1\" class=\"data row5 col1\" >True</td>\n",
       "      <td id=\"T_30ccc_row5_col2\" class=\"data row5 col2\" >True</td>\n",
       "    </tr>\n",
       "    <tr>\n",
       "      <td id=\"T_30ccc_row6_col0\" class=\"data row6 col0\" >True</td>\n",
       "      <td id=\"T_30ccc_row6_col1\" class=\"data row6 col1\" >True</td>\n",
       "      <td id=\"T_30ccc_row6_col2\" class=\"data row6 col2\" >True</td>\n",
       "    </tr>\n",
       "    <tr>\n",
       "      <td id=\"T_30ccc_row7_col0\" class=\"data row7 col0\" >True</td>\n",
       "      <td id=\"T_30ccc_row7_col1\" class=\"data row7 col1\" >True</td>\n",
       "      <td id=\"T_30ccc_row7_col2\" class=\"data row7 col2\" >True</td>\n",
       "    </tr>\n",
       "    <tr>\n",
       "      <td id=\"T_30ccc_row8_col0\" class=\"data row8 col0\" >True</td>\n",
       "      <td id=\"T_30ccc_row8_col1\" class=\"data row8 col1\" >True</td>\n",
       "      <td id=\"T_30ccc_row8_col2\" class=\"data row8 col2\" >True</td>\n",
       "    </tr>\n",
       "    <tr>\n",
       "      <td id=\"T_30ccc_row9_col0\" class=\"data row9 col0\" >True</td>\n",
       "      <td id=\"T_30ccc_row9_col1\" class=\"data row9 col1\" >True</td>\n",
       "      <td id=\"T_30ccc_row9_col2\" class=\"data row9 col2\" >True</td>\n",
       "    </tr>\n",
       "  </tbody>\n",
       "</table>\n",
       " </div></div>"
      ],
      "text/plain": [
       "__main__.MaskedDf(data=                        TA       SW_IN    VPD\n",
       "time                                         \n",
       "2000-06-15 16:30:00  14.65  468.190002  6.454\n",
       "2000-06-15 17:00:00  14.22  224.800003  5.799\n",
       "2000-06-15 17:30:00  14.11  195.279999  6.577\n",
       "2000-06-15 18:00:00  14.23  244.169998  6.931\n",
       "2000-06-15 18:30:00  14.40  253.919998  7.286\n",
       "2000-06-15 19:00:00  14.09  177.309998  7.251\n",
       "2000-06-15 19:30:00  13.71   97.070000  6.683\n",
       "2000-06-15 20:00:00  13.08   39.709999  5.851\n",
       "2000-06-15 20:30:00  12.41   10.650000  5.254\n",
       "2000-06-15 21:00:00  12.27    0.320000  5.164, mask=                        TA  SW_IN   VPD\n",
       "time                                   \n",
       "2000-06-15 16:30:00   True   True  True\n",
       "2000-06-15 17:00:00  False  False  True\n",
       "2000-06-15 17:30:00  False  False  True\n",
       "2000-06-15 18:00:00   True   True  True\n",
       "2000-06-15 18:30:00   True   True  True\n",
       "2000-06-15 19:00:00   True   True  True\n",
       "2000-06-15 19:30:00   True   True  True\n",
       "2000-06-15 20:00:00   True   True  True\n",
       "2000-06-15 20:30:00   True   True  True\n",
       "2000-06-15 21:00:00   True   True  True)"
      ]
     },
     "execution_count": null,
     "metadata": {},
     "output_type": "execute_result"
    }
   ],
   "source": [
    "tfms2[0]"
   ]
  },
  {
   "cell_type": "code",
   "execution_count": null,
   "id": "baae314c-ced7-4901-b48f-bee6e879cf7c",
   "metadata": {},
   "outputs": [
    {
     "data": {
      "text/plain": [
       "__main__.MaskedDf2Tensor"
      ]
     },
     "execution_count": null,
     "metadata": {},
     "output_type": "execute_result"
    }
   ],
   "source": [
    "type(MaskedDf2Tensor())"
   ]
  },
  {
   "cell_type": "code",
   "execution_count": null,
   "id": "f2990cbe-babc-4f62-9b6f-2807edfa05b2",
   "metadata": {},
   "outputs": [],
   "source": [
    "tfms3 = TfmdLists([800, 801, 802], [BlockDfTransform(hai, 10), AddGapTransform(['TA','SW_IN'], 2), MaskedDf2Tensor()])"
   ]
  },
  {
   "cell_type": "code",
   "execution_count": null,
   "id": "755add1e-55d4-4408-8db2-ab28d804edd2",
   "metadata": {},
   "outputs": [
    {
     "data": {
      "text/plain": [
       "__main__.MaskedTensor(data=tensor([[1.4650e+01, 4.6819e+02, 6.4540e+00],\n",
       "        [1.4220e+01, 2.2480e+02, 5.7990e+00],\n",
       "        [1.4110e+01, 1.9528e+02, 6.5770e+00],\n",
       "        [1.4230e+01, 2.4417e+02, 6.9310e+00],\n",
       "        [1.4400e+01, 2.5392e+02, 7.2860e+00],\n",
       "        [1.4090e+01, 1.7731e+02, 7.2510e+00],\n",
       "        [1.3710e+01, 9.7070e+01, 6.6830e+00],\n",
       "        [1.3080e+01, 3.9710e+01, 5.8510e+00],\n",
       "        [1.2410e+01, 1.0650e+01, 5.2540e+00],\n",
       "        [1.2270e+01, 3.2000e-01, 5.1640e+00]]), mask=tensor([[ True,  True,  True],\n",
       "        [ True,  True,  True],\n",
       "        [False, False,  True],\n",
       "        [False, False,  True],\n",
       "        [ True,  True,  True],\n",
       "        [ True,  True,  True],\n",
       "        [ True,  True,  True],\n",
       "        [ True,  True,  True],\n",
       "        [ True,  True,  True],\n",
       "        [ True,  True,  True]]))"
      ]
     },
     "execution_count": null,
     "metadata": {},
     "output_type": "execute_result"
    }
   ],
   "source": [
    "tfms3[0]"
   ]
  },
  {
   "cell_type": "code",
   "execution_count": null,
   "id": "324520e5-5979-4b7e-b52f-97e86788c187",
   "metadata": {},
   "outputs": [
    {
     "data": {
      "text/plain": [
       "__main__.MaskedTensor"
      ]
     },
     "execution_count": null,
     "metadata": {},
     "output_type": "execute_result"
    }
   ],
   "source": [
    "type(tfms3[0])"
   ]
  },
  {
   "cell_type": "code",
   "execution_count": null,
   "id": "56477320-5c88-48c8-90a8-ceda644dffb9",
   "metadata": {},
   "outputs": [
    {
     "data": {
      "text/html": [
       "<p style='font-size: 1.5rem; font-decoration: bold'>Masked Df<p><div style=\"display: flex; column-gap: 20px; flex-wrap: wrap;\" class='table table-striped table-sm'> <div> <p style='font-size: 1.3rem;'>data</p> <style type=\"text/css\">\n",
       "</style>\n",
       "<table id=\"T_fe6f4\">\n",
       "  <thead>\n",
       "    <tr>\n",
       "      <th id=\"T_fe6f4_level0_col0\" class=\"col_heading level0 col0\" >TA</th>\n",
       "      <th id=\"T_fe6f4_level0_col1\" class=\"col_heading level0 col1\" >SW_IN</th>\n",
       "      <th id=\"T_fe6f4_level0_col2\" class=\"col_heading level0 col2\" >VPD</th>\n",
       "    </tr>\n",
       "  </thead>\n",
       "  <tbody>\n",
       "    <tr>\n",
       "      <td id=\"T_fe6f4_row0_col0\" class=\"data row0 col0\" >14.6500</td>\n",
       "      <td id=\"T_fe6f4_row0_col1\" class=\"data row0 col1\" >468.1900</td>\n",
       "      <td id=\"T_fe6f4_row0_col2\" class=\"data row0 col2\" >6.4540</td>\n",
       "    </tr>\n",
       "    <tr>\n",
       "      <td id=\"T_fe6f4_row1_col0\" class=\"data row1 col0\" >14.2200</td>\n",
       "      <td id=\"T_fe6f4_row1_col1\" class=\"data row1 col1\" >224.8000</td>\n",
       "      <td id=\"T_fe6f4_row1_col2\" class=\"data row1 col2\" >5.7990</td>\n",
       "    </tr>\n",
       "    <tr>\n",
       "      <td id=\"T_fe6f4_row2_col0\" class=\"data row2 col0\" >14.1100</td>\n",
       "      <td id=\"T_fe6f4_row2_col1\" class=\"data row2 col1\" >195.2800</td>\n",
       "      <td id=\"T_fe6f4_row2_col2\" class=\"data row2 col2\" >6.5770</td>\n",
       "    </tr>\n",
       "    <tr>\n",
       "      <td id=\"T_fe6f4_row3_col0\" class=\"data row3 col0\" >14.2300</td>\n",
       "      <td id=\"T_fe6f4_row3_col1\" class=\"data row3 col1\" >244.1700</td>\n",
       "      <td id=\"T_fe6f4_row3_col2\" class=\"data row3 col2\" >6.9310</td>\n",
       "    </tr>\n",
       "    <tr>\n",
       "      <td id=\"T_fe6f4_row4_col0\" class=\"data row4 col0\" >14.4000</td>\n",
       "      <td id=\"T_fe6f4_row4_col1\" class=\"data row4 col1\" >253.9200</td>\n",
       "      <td id=\"T_fe6f4_row4_col2\" class=\"data row4 col2\" >7.2860</td>\n",
       "    </tr>\n",
       "    <tr>\n",
       "      <td id=\"T_fe6f4_row5_col0\" class=\"data row5 col0\" >14.0900</td>\n",
       "      <td id=\"T_fe6f4_row5_col1\" class=\"data row5 col1\" >177.3100</td>\n",
       "      <td id=\"T_fe6f4_row5_col2\" class=\"data row5 col2\" >7.2510</td>\n",
       "    </tr>\n",
       "    <tr>\n",
       "      <td id=\"T_fe6f4_row6_col0\" class=\"data row6 col0\" >13.7100</td>\n",
       "      <td id=\"T_fe6f4_row6_col1\" class=\"data row6 col1\" >97.0700</td>\n",
       "      <td id=\"T_fe6f4_row6_col2\" class=\"data row6 col2\" >6.6830</td>\n",
       "    </tr>\n",
       "    <tr>\n",
       "      <td id=\"T_fe6f4_row7_col0\" class=\"data row7 col0\" >13.0800</td>\n",
       "      <td id=\"T_fe6f4_row7_col1\" class=\"data row7 col1\" >39.7100</td>\n",
       "      <td id=\"T_fe6f4_row7_col2\" class=\"data row7 col2\" >5.8510</td>\n",
       "    </tr>\n",
       "    <tr>\n",
       "      <td id=\"T_fe6f4_row8_col0\" class=\"data row8 col0\" >12.4100</td>\n",
       "      <td id=\"T_fe6f4_row8_col1\" class=\"data row8 col1\" >10.6500</td>\n",
       "      <td id=\"T_fe6f4_row8_col2\" class=\"data row8 col2\" >5.2540</td>\n",
       "    </tr>\n",
       "    <tr>\n",
       "      <td id=\"T_fe6f4_row9_col0\" class=\"data row9 col0\" >12.2700</td>\n",
       "      <td id=\"T_fe6f4_row9_col1\" class=\"data row9 col1\" >0.3200</td>\n",
       "      <td id=\"T_fe6f4_row9_col2\" class=\"data row9 col2\" >5.1640</td>\n",
       "    </tr>\n",
       "  </tbody>\n",
       "</table>\n",
       " </div><div> <p style='font-size: 1.3rem;'>mask</p> <style type=\"text/css\">\n",
       "</style>\n",
       "<table id=\"T_970ec\">\n",
       "  <thead>\n",
       "    <tr>\n",
       "      <th id=\"T_970ec_level0_col0\" class=\"col_heading level0 col0\" >TA</th>\n",
       "      <th id=\"T_970ec_level0_col1\" class=\"col_heading level0 col1\" >SW_IN</th>\n",
       "      <th id=\"T_970ec_level0_col2\" class=\"col_heading level0 col2\" >VPD</th>\n",
       "    </tr>\n",
       "  </thead>\n",
       "  <tbody>\n",
       "    <tr>\n",
       "      <td id=\"T_970ec_row0_col0\" class=\"data row0 col0\" >True</td>\n",
       "      <td id=\"T_970ec_row0_col1\" class=\"data row0 col1\" >True</td>\n",
       "      <td id=\"T_970ec_row0_col2\" class=\"data row0 col2\" >True</td>\n",
       "    </tr>\n",
       "    <tr>\n",
       "      <td id=\"T_970ec_row1_col0\" class=\"data row1 col0\" >True</td>\n",
       "      <td id=\"T_970ec_row1_col1\" class=\"data row1 col1\" >True</td>\n",
       "      <td id=\"T_970ec_row1_col2\" class=\"data row1 col2\" >True</td>\n",
       "    </tr>\n",
       "    <tr>\n",
       "      <td id=\"T_970ec_row2_col0\" class=\"data row2 col0\" >True</td>\n",
       "      <td id=\"T_970ec_row2_col1\" class=\"data row2 col1\" >True</td>\n",
       "      <td id=\"T_970ec_row2_col2\" class=\"data row2 col2\" >True</td>\n",
       "    </tr>\n",
       "    <tr>\n",
       "      <td id=\"T_970ec_row3_col0\" class=\"data row3 col0\" >True</td>\n",
       "      <td id=\"T_970ec_row3_col1\" class=\"data row3 col1\" >True</td>\n",
       "      <td id=\"T_970ec_row3_col2\" class=\"data row3 col2\" >True</td>\n",
       "    </tr>\n",
       "    <tr>\n",
       "      <td id=\"T_970ec_row4_col0\" class=\"data row4 col0\" >True</td>\n",
       "      <td id=\"T_970ec_row4_col1\" class=\"data row4 col1\" >True</td>\n",
       "      <td id=\"T_970ec_row4_col2\" class=\"data row4 col2\" >True</td>\n",
       "    </tr>\n",
       "    <tr>\n",
       "      <td id=\"T_970ec_row5_col0\" class=\"data row5 col0\" >True</td>\n",
       "      <td id=\"T_970ec_row5_col1\" class=\"data row5 col1\" >True</td>\n",
       "      <td id=\"T_970ec_row5_col2\" class=\"data row5 col2\" >True</td>\n",
       "    </tr>\n",
       "    <tr>\n",
       "      <td id=\"T_970ec_row6_col0\" class=\"data row6 col0\" >True</td>\n",
       "      <td id=\"T_970ec_row6_col1\" class=\"data row6 col1\" >True</td>\n",
       "      <td id=\"T_970ec_row6_col2\" class=\"data row6 col2\" >True</td>\n",
       "    </tr>\n",
       "    <tr>\n",
       "      <td id=\"T_970ec_row7_col0\" class=\"data row7 col0\" >False</td>\n",
       "      <td id=\"T_970ec_row7_col1\" class=\"data row7 col1\" >False</td>\n",
       "      <td id=\"T_970ec_row7_col2\" class=\"data row7 col2\" >True</td>\n",
       "    </tr>\n",
       "    <tr>\n",
       "      <td id=\"T_970ec_row8_col0\" class=\"data row8 col0\" >False</td>\n",
       "      <td id=\"T_970ec_row8_col1\" class=\"data row8 col1\" >False</td>\n",
       "      <td id=\"T_970ec_row8_col2\" class=\"data row8 col2\" >True</td>\n",
       "    </tr>\n",
       "    <tr>\n",
       "      <td id=\"T_970ec_row9_col0\" class=\"data row9 col0\" >True</td>\n",
       "      <td id=\"T_970ec_row9_col1\" class=\"data row9 col1\" >True</td>\n",
       "      <td id=\"T_970ec_row9_col2\" class=\"data row9 col2\" >True</td>\n",
       "    </tr>\n",
       "  </tbody>\n",
       "</table>\n",
       " </div></div>"
      ],
      "text/plain": [
       "__main__.MaskedDf(data=      TA       SW_IN    VPD\n",
       "0  14.65  468.190002  6.454\n",
       "1  14.22  224.800003  5.799\n",
       "2  14.11  195.279999  6.577\n",
       "3  14.23  244.169998  6.931\n",
       "4  14.40  253.919998  7.286\n",
       "5  14.09  177.309998  7.251\n",
       "6  13.71   97.070000  6.683\n",
       "7  13.08   39.709999  5.851\n",
       "8  12.41   10.650000  5.254\n",
       "9  12.27    0.320000  5.164, mask=      TA  SW_IN   VPD\n",
       "0   True   True  True\n",
       "1   True   True  True\n",
       "2   True   True  True\n",
       "3   True   True  True\n",
       "4   True   True  True\n",
       "5   True   True  True\n",
       "6   True   True  True\n",
       "7  False  False  True\n",
       "8  False  False  True\n",
       "9   True   True  True)"
      ]
     },
     "execution_count": null,
     "metadata": {},
     "output_type": "execute_result"
    }
   ],
   "source": [
    "tfms3.decode(tfms3[0])"
   ]
  },
  {
   "cell_type": "markdown",
   "id": "87e120fa-cf84-4e32-8c99-9af24a2755b1",
   "metadata": {},
   "source": [
    "### Normalize"
   ]
  },
  {
   "cell_type": "code",
   "execution_count": null,
   "id": "3ba23250-9b69-43c2-b2f6-db4ef5658e6a",
   "metadata": {},
   "outputs": [],
   "source": [
    "#| export\n",
    "from meteo_imp.utils import *\n",
    "from fastai.torch_core import to_cpu\n",
    "\n",
    "from torch import Tensor"
   ]
  },
  {
   "cell_type": "code",
   "execution_count": null,
   "id": "da858473-9de5-4abf-8a32-eb24bfb6b054",
   "metadata": {},
   "outputs": [
    {
     "data": {
      "text/plain": [
       "<function collections.namedtuple(typename, field_names, *, rename=False, defaults=None, module=None)>"
      ]
     },
     "execution_count": null,
     "metadata": {},
     "output_type": "execute_result"
    }
   ],
   "source": [
    "collections.namedtuple"
   ]
  },
  {
   "cell_type": "code",
   "execution_count": null,
   "id": "0505fab1-5a53-4879-9d0d-7cc918bd5bdf",
   "metadata": {},
   "outputs": [],
   "source": [
    "nt = collections.namedtuple(\"nt\", \"a\")"
   ]
  },
  {
   "cell_type": "code",
   "execution_count": null,
   "id": "6ad97a8b-4da1-4c88-9b49-8ca0f3ce4a13",
   "metadata": {},
   "outputs": [
    {
     "data": {
      "text/plain": [
       "True"
      ]
     },
     "execution_count": null,
     "metadata": {},
     "output_type": "execute_result"
    }
   ],
   "source": [
    "isinstance(nt(1), tuple)"
   ]
  },
  {
   "cell_type": "code",
   "execution_count": null,
   "id": "f1ac4c68-5abf-41c0-b754-889ad3af0999",
   "metadata": {},
   "outputs": [],
   "source": [
    "class NormalsParams(list):\n",
    "    def __init__(self,*args):\n",
    "        if len(args)==2:\n",
    "            self.mean = args[0]\n",
    "            self.std = args[1]\n",
    "        elif isinstance(args[0], Generator):\n",
    "            args = list(args[0])\n",
    "            self.mean = args[0]\n",
    "            self.std = args[1]\n",
    "        elif len(args)==1 and len(args[0])==2:\n",
    "            self.mean = tuple(args[0])[0]\n",
    "            self.std = tuple(args[0])[1]                     \n",
    "        else:\n",
    "            raise ValueError(f\"Incorrect number of arguments. got {len(args)} args\")\n",
    "    def __iter__(self): return iter((self.mean, self.std,))\n",
    "    def __next__(self): return next(self.__iter__())\n",
    "    def __len__(self): return 2\n",
    "    def __getitem__(self, key):\n",
    "        if key == 0: return self.mean\n",
    "        elif key == 1: return self.std\n",
    "        else: raise IndexError(\"index bigger than 2\")\n",
    "    __repr__ = basic_repr('mean, std')"
   ]
  },
  {
   "cell_type": "code",
   "execution_count": null,
   "id": "bd093319-c16b-494c-9431-1c7d5d8869a8",
   "metadata": {},
   "outputs": [
    {
     "data": {
      "text/plain": [
       "__main__.NormalsParams(mean=0, std=1)"
      ]
     },
     "execution_count": null,
     "metadata": {},
     "output_type": "execute_result"
    }
   ],
   "source": [
    "NormalsParams(0,1)"
   ]
  },
  {
   "cell_type": "code",
   "execution_count": null,
   "id": "e75c7ecf-2785-49fc-b1ff-fe98c4e03843",
   "metadata": {},
   "outputs": [],
   "source": [
    "#| export\n",
    "def get_stats(df, device='cpu'):\n",
    "    return torch.tensor(df.mean(axis=0).to_numpy(), device=device), torch.tensor(df.std(axis=0).to_numpy(), device=device)"
   ]
  },
  {
   "cell_type": "code",
   "execution_count": null,
   "id": "975601aa-1325-4ece-989c-0eb60a9d8d85",
   "metadata": {},
   "outputs": [],
   "source": [
    "#| export\n",
    "class NormalizeMasked(Transform):\n",
    "    \"Normalize/denorm MaskedTensor column-wise \"\n",
    "    @property\n",
    "    def name(self): return f\"{super().name} -- {getattr(self,'__stored_args__',{})}\"\n",
    "\n",
    "    def __init__(self, mean=None, std=None): store_attr()\n",
    "\n",
    "    def encodes(self, x:MaskedTensor)-> MaskedTensor:\n",
    "        return MaskedTensor((x.data -self.mean) / self.std, x.mask)\n",
    "\n",
    "    def decodes(self, x:MaskedTensor)->MaskedTensor:\n",
    "        f = to_cpu if x[0].device.type=='cpu' else noop\n",
    "        return MaskedTensor(x[0] * f(self.std) + f(self.mean), x[1])\n",
    "    \n",
    "    def decodes(self, x:NormalsParams):\n",
    "        print(\"decoding\")\n",
    "        f = partial(to_device, device=(x[0].device))\n",
    "        mean = x.mean * f(self.std) + f(self.mean)\n",
    "        std = x.std * f(self.std)\n",
    "        \n",
    "        return NormalsParams(mean, std)"
   ]
  },
  {
   "cell_type": "code",
   "execution_count": null,
   "id": "81c896b6-86c0-407b-8f4b-da4bdc366c27",
   "metadata": {},
   "outputs": [],
   "source": [
    "norm = NormalizeMasked(*get_stats(hai))"
   ]
  },
  {
   "cell_type": "code",
   "execution_count": null,
   "id": "7e8c0fab-da94-400f-8486-0253b05a6a96",
   "metadata": {},
   "outputs": [
    {
     "data": {
      "text/plain": [
       "__main__.MaskedTensor(data=tensor([[1.4650e+01, 4.6819e+02, 6.4540e+00],\n",
       "        [1.4220e+01, 2.2480e+02, 5.7990e+00],\n",
       "        [1.4110e+01, 1.9528e+02, 6.5770e+00],\n",
       "        [1.4230e+01, 2.4417e+02, 6.9310e+00],\n",
       "        [1.4400e+01, 2.5392e+02, 7.2860e+00],\n",
       "        [1.4090e+01, 1.7731e+02, 7.2510e+00],\n",
       "        [1.3710e+01, 9.7070e+01, 6.6830e+00],\n",
       "        [1.3080e+01, 3.9710e+01, 5.8510e+00],\n",
       "        [1.2410e+01, 1.0650e+01, 5.2540e+00],\n",
       "        [1.2270e+01, 3.2000e-01, 5.1640e+00]]), mask=tensor([[ True,  True,  True],\n",
       "        [ True,  True,  True],\n",
       "        [False, False,  True],\n",
       "        [False, False,  True],\n",
       "        [ True,  True,  True],\n",
       "        [ True,  True,  True],\n",
       "        [ True,  True,  True],\n",
       "        [ True,  True,  True],\n",
       "        [ True,  True,  True],\n",
       "        [ True,  True,  True]]))"
      ]
     },
     "execution_count": null,
     "metadata": {},
     "output_type": "execute_result"
    }
   ],
   "source": [
    "tfms3[0]"
   ]
  },
  {
   "cell_type": "code",
   "execution_count": null,
   "id": "bd4747c3-be04-483d-b9e4-730ec7912543",
   "metadata": {},
   "outputs": [],
   "source": [
    "test_close(norm.decode(norm(tfms3[0]))[0], tfms3[0][0], eps=2e-5)"
   ]
  },
  {
   "cell_type": "markdown",
   "id": "9c6f8385-7a2d-46b7-9f8b-a25f8833febf",
   "metadata": {},
   "source": [
    "Test that NormalsParams decode actually works"
   ]
  },
  {
   "cell_type": "code",
   "execution_count": null,
   "id": "cb935fb9-c3bb-456e-bcf4-12ad6f8f5933",
   "metadata": {},
   "outputs": [],
   "source": [
    "Npars = NormalsParams(torch.tensor(1), torch.tensor(.1))"
   ]
  },
  {
   "cell_type": "code",
   "execution_count": null,
   "id": "1b6737ba-596e-47cf-9f79-0c5a83ce6fe8",
   "metadata": {},
   "outputs": [
    {
     "name": "stdout",
     "output_type": "stream",
     "text": [
      "decoding\n"
     ]
    },
    {
     "data": {
      "text/plain": [
       "__main__.NormalsParams(mean=tensor([ 16.2585, 324.9604,   7.7491]), std=tensor([ 0.7925, 20.4003,  0.4368]))"
      ]
     },
     "execution_count": null,
     "metadata": {},
     "output_type": "execute_result"
    }
   ],
   "source": [
    "norm.decode(Npars)"
   ]
  },
  {
   "cell_type": "code",
   "execution_count": null,
   "id": "3ba86749-5fe4-49b6-8ca2-48c225d4cfcd",
   "metadata": {},
   "outputs": [],
   "source": [
    "tfms4 = TfmdLists([800,801,803], [BlockDfTransform(hai, 10), \n",
    "                           AddGapTransform(['TA','SW_IN'], 2),\n",
    "                           MaskedDf2Tensor(),\n",
    "                           NormalizeMasked(*get_stats(hai,device='cpu'), ) ])"
   ]
  },
  {
   "cell_type": "code",
   "execution_count": null,
   "id": "7ecb095d-5e4b-48c6-ad85-93396b8f42af",
   "metadata": {},
   "outputs": [
    {
     "data": {
      "text/plain": [
       "__main__.MaskedTensor(data=tensor([[ 0.7970,  1.7021,  0.7035],\n",
       "        [ 0.7428,  0.5090,  0.5536],\n",
       "        [ 0.7289,  0.3643,  0.7317],\n",
       "        [ 0.7440,  0.6040,  0.8127],\n",
       "        [ 0.7655,  0.6518,  0.8940],\n",
       "        [ 0.7264,  0.2762,  0.8860],\n",
       "        [ 0.6784, -0.1171,  0.7560],\n",
       "        [ 0.5989, -0.3983,  0.5655],\n",
       "        [ 0.5144, -0.5407,  0.4288],\n",
       "        [ 0.4967, -0.5914,  0.4082]]), mask=tensor([[ True,  True,  True],\n",
       "        [ True,  True,  True],\n",
       "        [False, False,  True],\n",
       "        [False, False,  True],\n",
       "        [ True,  True,  True],\n",
       "        [ True,  True,  True],\n",
       "        [ True,  True,  True],\n",
       "        [ True,  True,  True],\n",
       "        [ True,  True,  True],\n",
       "        [ True,  True,  True]]))"
      ]
     },
     "execution_count": null,
     "metadata": {},
     "output_type": "execute_result"
    }
   ],
   "source": [
    "tfms4[0]"
   ]
  },
  {
   "cell_type": "code",
   "execution_count": null,
   "id": "7f1d4c1d-65b1-4804-aa7e-7193cfadf4e1",
   "metadata": {},
   "outputs": [
    {
     "data": {
      "text/html": [
       "<p style='font-size: 1.5rem; font-decoration: bold'>Masked Df<p><div style=\"display: flex; column-gap: 20px; flex-wrap: wrap;\" class='table table-striped table-sm'> <div> <p style='font-size: 1.3rem;'>data</p> <style type=\"text/css\">\n",
       "</style>\n",
       "<table id=\"T_81e66\">\n",
       "  <thead>\n",
       "    <tr>\n",
       "      <th id=\"T_81e66_level0_col0\" class=\"col_heading level0 col0\" >TA</th>\n",
       "      <th id=\"T_81e66_level0_col1\" class=\"col_heading level0 col1\" >SW_IN</th>\n",
       "      <th id=\"T_81e66_level0_col2\" class=\"col_heading level0 col2\" >VPD</th>\n",
       "    </tr>\n",
       "  </thead>\n",
       "  <tbody>\n",
       "    <tr>\n",
       "      <td id=\"T_81e66_row0_col0\" class=\"data row0 col0\" >14.6500</td>\n",
       "      <td id=\"T_81e66_row0_col1\" class=\"data row0 col1\" >468.1900</td>\n",
       "      <td id=\"T_81e66_row0_col2\" class=\"data row0 col2\" >6.4540</td>\n",
       "    </tr>\n",
       "    <tr>\n",
       "      <td id=\"T_81e66_row1_col0\" class=\"data row1 col0\" >14.2200</td>\n",
       "      <td id=\"T_81e66_row1_col1\" class=\"data row1 col1\" >224.8000</td>\n",
       "      <td id=\"T_81e66_row1_col2\" class=\"data row1 col2\" >5.7990</td>\n",
       "    </tr>\n",
       "    <tr>\n",
       "      <td id=\"T_81e66_row2_col0\" class=\"data row2 col0\" >14.1100</td>\n",
       "      <td id=\"T_81e66_row2_col1\" class=\"data row2 col1\" >195.2800</td>\n",
       "      <td id=\"T_81e66_row2_col2\" class=\"data row2 col2\" >6.5770</td>\n",
       "    </tr>\n",
       "    <tr>\n",
       "      <td id=\"T_81e66_row3_col0\" class=\"data row3 col0\" >14.2300</td>\n",
       "      <td id=\"T_81e66_row3_col1\" class=\"data row3 col1\" >244.1700</td>\n",
       "      <td id=\"T_81e66_row3_col2\" class=\"data row3 col2\" >6.9310</td>\n",
       "    </tr>\n",
       "    <tr>\n",
       "      <td id=\"T_81e66_row4_col0\" class=\"data row4 col0\" >14.4000</td>\n",
       "      <td id=\"T_81e66_row4_col1\" class=\"data row4 col1\" >253.9200</td>\n",
       "      <td id=\"T_81e66_row4_col2\" class=\"data row4 col2\" >7.2860</td>\n",
       "    </tr>\n",
       "    <tr>\n",
       "      <td id=\"T_81e66_row5_col0\" class=\"data row5 col0\" >14.0900</td>\n",
       "      <td id=\"T_81e66_row5_col1\" class=\"data row5 col1\" >177.3100</td>\n",
       "      <td id=\"T_81e66_row5_col2\" class=\"data row5 col2\" >7.2510</td>\n",
       "    </tr>\n",
       "    <tr>\n",
       "      <td id=\"T_81e66_row6_col0\" class=\"data row6 col0\" >13.7100</td>\n",
       "      <td id=\"T_81e66_row6_col1\" class=\"data row6 col1\" >97.0700</td>\n",
       "      <td id=\"T_81e66_row6_col2\" class=\"data row6 col2\" >6.6830</td>\n",
       "    </tr>\n",
       "    <tr>\n",
       "      <td id=\"T_81e66_row7_col0\" class=\"data row7 col0\" >13.0800</td>\n",
       "      <td id=\"T_81e66_row7_col1\" class=\"data row7 col1\" >39.7100</td>\n",
       "      <td id=\"T_81e66_row7_col2\" class=\"data row7 col2\" >5.8510</td>\n",
       "    </tr>\n",
       "    <tr>\n",
       "      <td id=\"T_81e66_row8_col0\" class=\"data row8 col0\" >12.4100</td>\n",
       "      <td id=\"T_81e66_row8_col1\" class=\"data row8 col1\" >10.6500</td>\n",
       "      <td id=\"T_81e66_row8_col2\" class=\"data row8 col2\" >5.2540</td>\n",
       "    </tr>\n",
       "    <tr>\n",
       "      <td id=\"T_81e66_row9_col0\" class=\"data row9 col0\" >12.2700</td>\n",
       "      <td id=\"T_81e66_row9_col1\" class=\"data row9 col1\" >0.3200</td>\n",
       "      <td id=\"T_81e66_row9_col2\" class=\"data row9 col2\" >5.1640</td>\n",
       "    </tr>\n",
       "  </tbody>\n",
       "</table>\n",
       " </div><div> <p style='font-size: 1.3rem;'>mask</p> <style type=\"text/css\">\n",
       "</style>\n",
       "<table id=\"T_1a632\">\n",
       "  <thead>\n",
       "    <tr>\n",
       "      <th id=\"T_1a632_level0_col0\" class=\"col_heading level0 col0\" >TA</th>\n",
       "      <th id=\"T_1a632_level0_col1\" class=\"col_heading level0 col1\" >SW_IN</th>\n",
       "      <th id=\"T_1a632_level0_col2\" class=\"col_heading level0 col2\" >VPD</th>\n",
       "    </tr>\n",
       "  </thead>\n",
       "  <tbody>\n",
       "    <tr>\n",
       "      <td id=\"T_1a632_row0_col0\" class=\"data row0 col0\" >True</td>\n",
       "      <td id=\"T_1a632_row0_col1\" class=\"data row0 col1\" >True</td>\n",
       "      <td id=\"T_1a632_row0_col2\" class=\"data row0 col2\" >True</td>\n",
       "    </tr>\n",
       "    <tr>\n",
       "      <td id=\"T_1a632_row1_col0\" class=\"data row1 col0\" >True</td>\n",
       "      <td id=\"T_1a632_row1_col1\" class=\"data row1 col1\" >True</td>\n",
       "      <td id=\"T_1a632_row1_col2\" class=\"data row1 col2\" >True</td>\n",
       "    </tr>\n",
       "    <tr>\n",
       "      <td id=\"T_1a632_row2_col0\" class=\"data row2 col0\" >False</td>\n",
       "      <td id=\"T_1a632_row2_col1\" class=\"data row2 col1\" >False</td>\n",
       "      <td id=\"T_1a632_row2_col2\" class=\"data row2 col2\" >True</td>\n",
       "    </tr>\n",
       "    <tr>\n",
       "      <td id=\"T_1a632_row3_col0\" class=\"data row3 col0\" >False</td>\n",
       "      <td id=\"T_1a632_row3_col1\" class=\"data row3 col1\" >False</td>\n",
       "      <td id=\"T_1a632_row3_col2\" class=\"data row3 col2\" >True</td>\n",
       "    </tr>\n",
       "    <tr>\n",
       "      <td id=\"T_1a632_row4_col0\" class=\"data row4 col0\" >True</td>\n",
       "      <td id=\"T_1a632_row4_col1\" class=\"data row4 col1\" >True</td>\n",
       "      <td id=\"T_1a632_row4_col2\" class=\"data row4 col2\" >True</td>\n",
       "    </tr>\n",
       "    <tr>\n",
       "      <td id=\"T_1a632_row5_col0\" class=\"data row5 col0\" >True</td>\n",
       "      <td id=\"T_1a632_row5_col1\" class=\"data row5 col1\" >True</td>\n",
       "      <td id=\"T_1a632_row5_col2\" class=\"data row5 col2\" >True</td>\n",
       "    </tr>\n",
       "    <tr>\n",
       "      <td id=\"T_1a632_row6_col0\" class=\"data row6 col0\" >True</td>\n",
       "      <td id=\"T_1a632_row6_col1\" class=\"data row6 col1\" >True</td>\n",
       "      <td id=\"T_1a632_row6_col2\" class=\"data row6 col2\" >True</td>\n",
       "    </tr>\n",
       "    <tr>\n",
       "      <td id=\"T_1a632_row7_col0\" class=\"data row7 col0\" >True</td>\n",
       "      <td id=\"T_1a632_row7_col1\" class=\"data row7 col1\" >True</td>\n",
       "      <td id=\"T_1a632_row7_col2\" class=\"data row7 col2\" >True</td>\n",
       "    </tr>\n",
       "    <tr>\n",
       "      <td id=\"T_1a632_row8_col0\" class=\"data row8 col0\" >True</td>\n",
       "      <td id=\"T_1a632_row8_col1\" class=\"data row8 col1\" >True</td>\n",
       "      <td id=\"T_1a632_row8_col2\" class=\"data row8 col2\" >True</td>\n",
       "    </tr>\n",
       "    <tr>\n",
       "      <td id=\"T_1a632_row9_col0\" class=\"data row9 col0\" >True</td>\n",
       "      <td id=\"T_1a632_row9_col1\" class=\"data row9 col1\" >True</td>\n",
       "      <td id=\"T_1a632_row9_col2\" class=\"data row9 col2\" >True</td>\n",
       "    </tr>\n",
       "  </tbody>\n",
       "</table>\n",
       " </div></div>"
      ],
      "text/plain": [
       "__main__.MaskedDf(data=      TA       SW_IN    VPD\n",
       "0  14.65  468.190002  6.454\n",
       "1  14.22  224.800003  5.799\n",
       "2  14.11  195.279999  6.577\n",
       "3  14.23  244.170013  6.931\n",
       "4  14.40  253.920013  7.286\n",
       "5  14.09  177.309998  7.251\n",
       "6  13.71   97.070000  6.683\n",
       "7  13.08   39.709999  5.851\n",
       "8  12.41   10.650002  5.254\n",
       "9  12.27    0.320007  5.164, mask=      TA  SW_IN   VPD\n",
       "0   True   True  True\n",
       "1   True   True  True\n",
       "2  False  False  True\n",
       "3  False  False  True\n",
       "4   True   True  True\n",
       "5   True   True  True\n",
       "6   True   True  True\n",
       "7   True   True  True\n",
       "8   True   True  True\n",
       "9   True   True  True)"
      ]
     },
     "execution_count": null,
     "metadata": {},
     "output_type": "execute_result"
    }
   ],
   "source": [
    "tfms4.decode(tfms4[0])"
   ]
  },
  {
   "cell_type": "markdown",
   "id": "996ccbf6-0e81-4fd5-97ff-9ee2ab8eb42d",
   "metadata": {},
   "source": [
    "is workinggggggggggggggggg "
   ]
  },
  {
   "cell_type": "markdown",
   "id": "81077302-18db-4010-9c88-ae8d48216353",
   "metadata": {},
   "source": [
    "### Pipeline"
   ]
  },
  {
   "cell_type": "code",
   "execution_count": null,
   "id": "0ad384f0-7912-4d40-9631-1e6e5294fb9f",
   "metadata": {},
   "outputs": [],
   "source": [
    "#| export\n",
    "from fastai.data.transforms import *"
   ]
  },
  {
   "cell_type": "code",
   "execution_count": null,
   "id": "5c19d0b5-b78c-4a5f-a606-8a1cfe832e8d",
   "metadata": {},
   "outputs": [],
   "source": [
    "block_len = 10\n",
    "block_ids = list(range(0, (len(hai) // block_len) - 1))[:10]\n",
    "gap_len = 2"
   ]
  },
  {
   "cell_type": "code",
   "execution_count": null,
   "id": "9a7a2fc4-fa0d-4b22-b7ca-65feed7ffcdc",
   "metadata": {},
   "outputs": [],
   "source": [
    "#| export\n",
    "def imp_pipeline(df,\n",
    "                 block_len,\n",
    "                 gap_len\n",
    "                ):\n",
    "    block_ids = list(range(0, (len(df) // block_len) - 1))\n",
    "    return [BlockDfTransform(df, block_len),\n",
    "            AddGapTransform(['TA','SW_IN'], gap_len),\n",
    "            MaskedDf2Tensor,\n",
    "            NormalizeMasked(*get_stats(df))], block_ids"
   ]
  },
  {
   "cell_type": "code",
   "execution_count": null,
   "id": "ae7c4bad-445a-4e2a-9d30-e0160106b678",
   "metadata": {},
   "outputs": [],
   "source": [
    "pipeline, block_ids = imp_pipeline(hai, block_len, gap_len)"
   ]
  },
  {
   "cell_type": "code",
   "execution_count": null,
   "id": "569ade0e-fb29-4929-9106-3ac010ce5db0",
   "metadata": {},
   "outputs": [
    {
     "data": {
      "text/plain": [
       "[BlockDfTransform:\n",
       " encodes: (int,object) -> encodes\n",
       " decodes: ,\n",
       " AddGapTransform:\n",
       " encodes: (DataFrame,object) -> encodes\n",
       " decodes: ,\n",
       " __main__.MaskedDf2Tensor,\n",
       " NormalizeMasked -- {'mean': tensor([  8.3339, 120.9578,   3.3807]), 'std': tensor([  7.9246, 204.0026,   4.3684])}:\n",
       " encodes: (MaskedTensor,object) -> encodes\n",
       " decodes: (MaskedTensor,object) -> decodes\n",
       " (NormalsParams,object) -> decodes]"
      ]
     },
     "execution_count": null,
     "metadata": {},
     "output_type": "execute_result"
    }
   ],
   "source": [
    "pipeline"
   ]
  },
  {
   "cell_type": "code",
   "execution_count": null,
   "id": "5cc0fa4f-801d-4d04-a3a7-7012d11e3709",
   "metadata": {},
   "outputs": [],
   "source": [
    "pp = Pipeline(pipeline)"
   ]
  },
  {
   "cell_type": "code",
   "execution_count": null,
   "id": "7b7be91d-d0d2-4b85-9ab5-ece0cbaf6616",
   "metadata": {},
   "outputs": [
    {
     "data": {
      "text/plain": [
       "Pipeline: BlockDfTransform -> AddGapTransform -> MaskedDf2Tensor -> NormalizeMasked -- {'mean': tensor([  8.3339, 120.9578,   3.3807]), 'std': tensor([  7.9246, 204.0026,   4.3684])}"
      ]
     },
     "execution_count": null,
     "metadata": {},
     "output_type": "execute_result"
    }
   ],
   "source": [
    "pp"
   ]
  },
  {
   "cell_type": "markdown",
   "id": "df9f46c5-7664-492e-8baa-62ed741033e1",
   "metadata": {},
   "source": [
    "### Dataloader"
   ]
  },
  {
   "cell_type": "markdown",
   "id": "b71760f8-6b1f-45be-a804-756a3946a585",
   "metadata": {},
   "source": [
    "random splitter for validation/training set"
   ]
  },
  {
   "cell_type": "code",
   "execution_count": null,
   "id": "322140fc-b896-4e38-b244-dc8525438cfa",
   "metadata": {},
   "outputs": [],
   "source": [
    "reset_seed()"
   ]
  },
  {
   "cell_type": "code",
   "execution_count": null,
   "id": "4aefcbc5-7675-4da8-9fa8-53efd933a5ce",
   "metadata": {},
   "outputs": [],
   "source": [
    "splits = RandomSplitter()(block_ids)"
   ]
  },
  {
   "cell_type": "markdown",
   "id": "ea416657-bd6b-4bd0-9970-1aee94d0b5ea",
   "metadata": {},
   "source": [
    "Repeat twice the pipeline since is the same pipeline both for training data and for labels"
   ]
  },
  {
   "cell_type": "code",
   "execution_count": null,
   "id": "2a2aea15-e568-42df-b1aa-2e72727ead1f",
   "metadata": {},
   "outputs": [],
   "source": [
    "import collections"
   ]
  },
  {
   "cell_type": "code",
   "execution_count": null,
   "id": "ef748c7f-4030-4269-b078-57834442914c",
   "metadata": {},
   "outputs": [],
   "source": [
    "def to_tuple(x):\n",
    "    return tuple(x)"
   ]
  },
  {
   "cell_type": "code",
   "execution_count": null,
   "id": "f610af8b-0ee6-41f4-8387-d5c46754de9c",
   "metadata": {},
   "outputs": [
    {
     "data": {
      "text/plain": [
       "True"
      ]
     },
     "execution_count": null,
     "metadata": {},
     "output_type": "execute_result"
    }
   ],
   "source": [
    "isinstance(tfms4[0], Sequence)"
   ]
  },
  {
   "cell_type": "code",
   "execution_count": null,
   "id": "a367a12b-df12-422d-9eb4-877eaafafc94",
   "metadata": {},
   "outputs": [],
   "source": [
    "ds = Datasets(block_ids, [pipeline, pipeline], splits=splits)"
   ]
  },
  {
   "cell_type": "code",
   "execution_count": null,
   "id": "f6d45118-0145-44ea-a796-a659ed93baa9",
   "metadata": {},
   "outputs": [],
   "source": [
    "dls = ds.dataloaders(bs=1)"
   ]
  },
  {
   "cell_type": "code",
   "execution_count": null,
   "id": "f1ee5a56-067d-4383-9f20-e0c4bc78d4ca",
   "metadata": {},
   "outputs": [
    {
     "data": {
      "text/plain": [
       "device(type='cuda', index=0)"
      ]
     },
     "execution_count": null,
     "metadata": {},
     "output_type": "execute_result"
    }
   ],
   "source": [
    "dls.device"
   ]
  },
  {
   "cell_type": "code",
   "execution_count": null,
   "id": "a7205642-c9ef-4e44-b273-262177d54e2f",
   "metadata": {},
   "outputs": [
    {
     "data": {
      "text/plain": [
       "(__main__.MaskedTensor(data=tensor([[[-0.8699,  1.3344, -0.3412],\n",
       "          [-0.8409,  1.2619, -0.2879],\n",
       "          [-0.8346,  1.2847, -0.2613],\n",
       "          [-0.8182,  1.0670, -0.2641],\n",
       "          [-0.8157,  1.1563, -0.2545],\n",
       "          [-0.8068,  0.8649, -0.2430],\n",
       "          [-0.8245,  0.5183, -0.2559],\n",
       "          [-0.8169,  0.2609, -0.2588],\n",
       "          [-0.8258, -0.0481, -0.2609],\n",
       "          [-0.8586, -0.3811, -0.2852]]]), mask=tensor([[[False, False,  True],\n",
       "          [False, False,  True],\n",
       "          [ True,  True,  True],\n",
       "          [ True,  True,  True],\n",
       "          [ True,  True,  True],\n",
       "          [ True,  True,  True],\n",
       "          [ True,  True,  True],\n",
       "          [ True,  True,  True],\n",
       "          [ True,  True,  True],\n",
       "          [ True,  True,  True]]])),\n",
       " __main__.MaskedTensor(data=tensor([[[-0.8699,  1.3344, -0.3412],\n",
       "          [-0.8409,  1.2619, -0.2879],\n",
       "          [-0.8346,  1.2847, -0.2613],\n",
       "          [-0.8182,  1.0670, -0.2641],\n",
       "          [-0.8157,  1.1563, -0.2545],\n",
       "          [-0.8068,  0.8649, -0.2430],\n",
       "          [-0.8245,  0.5183, -0.2559],\n",
       "          [-0.8169,  0.2609, -0.2588],\n",
       "          [-0.8258, -0.0481, -0.2609],\n",
       "          [-0.8586, -0.3811, -0.2852]]]), mask=tensor([[[ True,  True,  True],\n",
       "          [False, False,  True],\n",
       "          [False, False,  True],\n",
       "          [ True,  True,  True],\n",
       "          [ True,  True,  True],\n",
       "          [ True,  True,  True],\n",
       "          [ True,  True,  True],\n",
       "          [ True,  True,  True],\n",
       "          [ True,  True,  True],\n",
       "          [ True,  True,  True]]])))"
      ]
     },
     "execution_count": null,
     "metadata": {},
     "output_type": "execute_result"
    }
   ],
   "source": [
    "dls.one_batch()"
   ]
  },
  {
   "cell_type": "code",
   "execution_count": null,
   "id": "2223f2ba-79e9-4a58-87ae-a848e8a779a7",
   "metadata": {},
   "outputs": [],
   "source": [
    "@typedispatch\n",
    "def show_batch(x: MaskedDf, y, samples, ctxs=None, max_n=6):\n",
    "    return x"
   ]
  },
  {
   "cell_type": "code",
   "execution_count": null,
   "id": "f81d21cf-c3c3-4926-bb64-067b9928a0b2",
   "metadata": {},
   "outputs": [],
   "source": [
    "# dls.show_batch()"
   ]
  },
  {
   "cell_type": "code",
   "execution_count": null,
   "id": "6bbdab5e-2970-4326-99de-1d1cbdd1b9fa",
   "metadata": {},
   "outputs": [
    {
     "data": {
      "text/plain": [
       "{tuple: [__main__.MaskedTensor, __main__.MaskedTensor]}"
      ]
     },
     "execution_count": null,
     "metadata": {},
     "output_type": "execute_result"
    }
   ],
   "source": [
    "dls._types"
   ]
  },
  {
   "cell_type": "code",
   "execution_count": null,
   "id": "b42bde9b-5c83-42b5-8f35-8de14472c41e",
   "metadata": {},
   "outputs": [
    {
     "data": {
      "text/plain": [
       "fastai.data.core.Datasets"
      ]
     },
     "execution_count": null,
     "metadata": {},
     "output_type": "execute_result"
    }
   ],
   "source": [
    "Datasets"
   ]
  },
  {
   "cell_type": "code",
   "execution_count": null,
   "id": "9ec4f71f-607e-476e-a89e-8d6f2b8bcc19",
   "metadata": {},
   "outputs": [],
   "source": [
    "#| export\n",
    "def make_dataloader(df, block_len, gap_len, bs=10):\n",
    "    pipeline, block_ids = imp_pipeline(df, block_len, gap_len)\n",
    "    \n",
    "    splits = RandomSplitter()(block_ids)\n",
    "    ds = Datasets(block_ids, [pipeline, pipeline], splits=splits)\n",
    "    \n",
    "    return ds.dataloaders(bs=bs)\n",
    "    "
   ]
  },
  {
   "cell_type": "code",
   "execution_count": null,
   "id": "cb1df190-83ba-4056-be7f-82d364e2dc87",
   "metadata": {},
   "outputs": [],
   "source": [
    "dls = make_dataloader(hai, 200, 10)"
   ]
  },
  {
   "cell_type": "code",
   "execution_count": null,
   "id": "3024300b-3f82-436d-ac6d-13ff7861dbf7",
   "metadata": {},
   "outputs": [
    {
     "data": {
      "text/plain": [
       "torch.Size([10, 200, 3])"
      ]
     },
     "execution_count": null,
     "metadata": {},
     "output_type": "execute_result"
    }
   ],
   "source": [
    "dls.one_batch()[0][0].shape"
   ]
  },
  {
   "cell_type": "code",
   "execution_count": null,
   "id": "1a7c86d2-e054-4dd4-89c9-26165e558390",
   "metadata": {},
   "outputs": [],
   "source": [
    "dls = dls.cpu()"
   ]
  },
  {
   "cell_type": "markdown",
   "id": "64bb7e8b-178d-4ab6-a359-5bcc010a8767",
   "metadata": {},
   "source": [
    "## Model"
   ]
  },
  {
   "cell_type": "markdown",
   "id": "e4e0999c-d959-49fa-8e8a-0ed8e53f2f5d",
   "metadata": {},
   "source": [
    "### Forward Function"
   ]
  },
  {
   "cell_type": "markdown",
   "id": "dc64e0a2-b14b-4159-af4f-c6a9fb2a3f05",
   "metadata": {},
   "source": [
    "in order to the a pytorch module we need a forward method to the kalman filter"
   ]
  },
  {
   "cell_type": "code",
   "execution_count": null,
   "id": "42d40fc6-7b8d-4e9c-9f14-70ea54629826",
   "metadata": {},
   "outputs": [],
   "source": [
    "#| export\n",
    "from meteo_imp.kalman.filter import *\n",
    "from torch.distributions import MultivariateNormal"
   ]
  },
  {
   "cell_type": "code",
   "execution_count": null,
   "id": "0ebded29-5194-4ca4-808a-fe115d705495",
   "metadata": {},
   "outputs": [],
   "source": [
    "#| export\n",
    "@patch\n",
    "def _predict_filter(self: KalmanFilter, data, mask):\n",
    "    \"\"\"Predict every obsevation using only the filter step\"\"\"\n",
    "    # use the predicted state not the filtered state!\n",
    "    obs, mask = self._parse_obs(data, mask)\n",
    "    pred_state_mean, pred_state_cov, _, _ = self._filter_all(obs, mask)\n",
    "    mean, cov = self._obs_from_state(ListMNormal(pred_state_mean.squeeze(-1), pred_state_cov))\n",
    "    \n",
    "    return ListNormal(mean, cov2std(cov))"
   ]
  },
  {
   "cell_type": "code",
   "execution_count": null,
   "id": "634980aa-b323-45cc-b2a3-bdd0ee95a4a9",
   "metadata": {},
   "outputs": [],
   "source": [
    "model = KalmanFilter.init_simple(n_dim = hai.shape[-1])"
   ]
  },
  {
   "cell_type": "code",
   "execution_count": null,
   "id": "079593f4-14c9-4123-8da9-ac7967b3f1f2",
   "metadata": {},
   "outputs": [],
   "source": [
    "obs, mask = model._parse_obs(data)\n",
    "pred_state_mean, pred_state_cov, _, _ = model._filter_all(obs, mask)"
   ]
  },
  {
   "cell_type": "code",
   "execution_count": null,
   "id": "0f83d52a-f6de-4a3c-9cdf-0233a80cf9a3",
   "metadata": {},
   "outputs": [
    {
     "data": {
      "text/plain": [
       "torch.Size([10, 200, 3, 1])"
      ]
     },
     "execution_count": null,
     "metadata": {},
     "output_type": "execute_result"
    }
   ],
   "source": [
    "pred_state_mean.shape"
   ]
  },
  {
   "cell_type": "code",
   "execution_count": null,
   "id": "fc14a7f3-a94b-4e17-b4b8-c5782989bc6b",
   "metadata": {},
   "outputs": [
    {
     "data": {
      "text/plain": [
       "tensor(-0.0437, grad_fn=<MeanBackward0>)"
      ]
     },
     "execution_count": null,
     "metadata": {},
     "output_type": "execute_result"
    }
   ],
   "source": [
    "(pred_state_mean[0] - pred_state_mean[1]).mean()"
   ]
  },
  {
   "cell_type": "code",
   "execution_count": null,
   "id": "0f56e0a1-7ec8-4da7-9618-d12689645375",
   "metadata": {},
   "outputs": [],
   "source": [
    "dls = make_dataloader(hai, 200, 10, bs=3).cpu()"
   ]
  },
  {
   "cell_type": "code",
   "execution_count": null,
   "id": "bc4f8156-3dff-4218-a968-18f8bfe9416d",
   "metadata": {},
   "outputs": [],
   "source": [
    "inputs = dls.one_batch()[0]"
   ]
  },
  {
   "cell_type": "code",
   "execution_count": null,
   "id": "f65bc104-67c1-44f7-85bd-8b820cb749f6",
   "metadata": {},
   "outputs": [],
   "source": [
    "pred_filter = model._predict_filter(*inputs) "
   ]
  },
  {
   "cell_type": "code",
   "execution_count": null,
   "id": "b479340c-fb99-42df-9d56-1fa8fc8baa62",
   "metadata": {},
   "outputs": [],
   "source": [
    "pred = model.predict(*inputs) "
   ]
  },
  {
   "cell_type": "code",
   "execution_count": null,
   "id": "6d1c9df3-8c8d-4e86-b85e-5097b3350d32",
   "metadata": {},
   "outputs": [
    {
     "data": {
      "text/plain": [
       "[<matplotlib.lines.Line2D>]"
      ]
     },
     "execution_count": null,
     "metadata": {},
     "output_type": "execute_result"
    },
    {
     "data": {
      "image/png": "[encoded data removed]",
      "text/plain": [
       "<Figure size 432x288 with 1 Axes>"
      ]
     },
     "metadata": {
      "needs_background": "light"
     },
     "output_type": "display_data"
    }
   ],
   "source": [
    "plt.plot((pred_filter.mean[0] - pred_filter.mean[1]).mean(axis=1).detach().numpy())"
   ]
  },
  {
   "cell_type": "code",
   "execution_count": null,
   "id": "5bdcb160-f882-4685-8653-2429a3c144e5",
   "metadata": {},
   "outputs": [
    {
     "data": {
      "text/plain": [
       "[<matplotlib.lines.Line2D>]"
      ]
     },
     "execution_count": null,
     "metadata": {},
     "output_type": "execute_result"
    },
    {
     "data": {
      "image/png": "[encoded data removed]",
      "text/plain": [
       "<Figure size 432x288 with 1 Axes>"
      ]
     },
     "metadata": {
      "needs_background": "light"
     },
     "output_type": "display_data"
    }
   ],
   "source": [
    "plt.plot((pred_filter.std[0] - pred_filter.std[1]).mean(axis=1).detach().numpy())"
   ]
  },
  {
   "cell_type": "code",
   "execution_count": null,
   "id": "da7e71e0-c4b8-4ab2-b457-75671890e4b8",
   "metadata": {},
   "outputs": [
    {
     "data": {
      "text/plain": [
       "[<matplotlib.lines.Line2D>]"
      ]
     },
     "execution_count": null,
     "metadata": {},
     "output_type": "execute_result"
    },
    {
     "data": {
      "image/png": "[encoded data removed]",
      "text/plain": [
       "<Figure size 432x288 with 1 Axes>"
      ]
     },
     "metadata": {
      "needs_background": "light"
     },
     "output_type": "display_data"
    }
   ],
   "source": [
    "plt.plot((pred_filter.mean[1] - pred_filter.mean[2]).mean(axis=1).detach().numpy())"
   ]
  },
  {
   "cell_type": "markdown",
   "id": "434cb3b5-b260-46d5-949d-3fcf60b1aa78",
   "metadata": {},
   "source": [
    "with the smoother the data has a bigger impact"
   ]
  },
  {
   "cell_type": "code",
   "execution_count": null,
   "id": "63b7e0de-b5b4-49b0-95b5-06a272d609b2",
   "metadata": {},
   "outputs": [
    {
     "data": {
      "text/plain": [
       "[<matplotlib.lines.Line2D>]"
      ]
     },
     "execution_count": null,
     "metadata": {},
     "output_type": "execute_result"
    },
    {
     "data": {
      "image/png": "[encoded data removed]",
      "text/plain": [
       "<Figure size 432x288 with 1 Axes>"
      ]
     },
     "metadata": {
      "needs_background": "light"
     },
     "output_type": "display_data"
    }
   ],
   "source": [
    "plt.plot((pred.mean[0] - pred.mean[1]).mean(axis=1).detach().numpy())"
   ]
  },
  {
   "cell_type": "code",
   "execution_count": null,
   "id": "50a2f8b0-acf3-4995-a2bf-44e8cab04125",
   "metadata": {},
   "outputs": [
    {
     "data": {
      "text/plain": [
       "[<matplotlib.lines.Line2D>]"
      ]
     },
     "execution_count": null,
     "metadata": {},
     "output_type": "execute_result"
    },
    {
     "data": {
      "image/png": "[encoded data removed]",
      "text/plain": [
       "<Figure size 432x288 with 1 Axes>"
      ]
     },
     "metadata": {
      "needs_background": "light"
     },
     "output_type": "display_data"
    }
   ],
   "source": [
    "plt.plot((pred.std[0] - pred.std[1]).mean(axis=1).detach().numpy())"
   ]
  },
  {
   "cell_type": "code",
   "execution_count": null,
   "id": "f01abb4a-e01f-42b9-8926-d0d57ff1a9cb",
   "metadata": {},
   "outputs": [
    {
     "data": {
      "text/plain": [
       "[<matplotlib.lines.Line2D>]"
      ]
     },
     "execution_count": null,
     "metadata": {},
     "output_type": "execute_result"
    },
    {
     "data": {
      "image/png": "[encoded data removed]",
      "text/plain": [
       "<Figure size 432x288 with 1 Axes>"
      ]
     },
     "metadata": {
      "needs_background": "light"
     },
     "output_type": "display_data"
    }
   ],
   "source": [
    "plt.plot((pred.std[1] - pred.std[2]).mean(axis=1).detach().numpy())"
   ]
  },
  {
   "cell_type": "code",
   "execution_count": null,
   "id": "ddba986a-3320-4372-8ab7-f3f54215befa",
   "metadata": {},
   "outputs": [
    {
     "data": {
      "text/plain": [
       "[<matplotlib.lines.Line2D>]"
      ]
     },
     "execution_count": null,
     "metadata": {},
     "output_type": "execute_result"
    },
    {
     "data": {
      "image/png": "[encoded data removed]",
      "text/plain": [
       "<Figure size 432x288 with 1 Axes>"
      ]
     },
     "metadata": {
      "needs_background": "light"
     },
     "output_type": "display_data"
    }
   ],
   "source": [
    "plt.plot(pred.std[0].detach().numpy())\n",
    "plt.plot(inputs.mask[0].all(1))"
   ]
  },
  {
   "cell_type": "code",
   "execution_count": null,
   "id": "e495776f-41a6-486a-a699-92b82ddc5a04",
   "metadata": {},
   "outputs": [
    {
     "data": {
      "text/plain": [
       "tensor([ True,  True,  True,  True,  True,  True,  True,  True,  True,  True,\n",
       "         True,  True,  True,  True,  True,  True,  True,  True,  True,  True,\n",
       "         True,  True,  True,  True,  True,  True,  True,  True,  True,  True,\n",
       "         True,  True,  True,  True,  True,  True,  True,  True,  True,  True,\n",
       "         True,  True,  True,  True,  True,  True,  True,  True,  True,  True,\n",
       "         True,  True,  True,  True,  True,  True,  True,  True,  True,  True,\n",
       "         True,  True,  True,  True,  True,  True,  True,  True,  True,  True,\n",
       "         True,  True,  True,  True,  True,  True,  True,  True,  True,  True,\n",
       "         True,  True,  True,  True,  True,  True,  True,  True,  True,  True,\n",
       "         True,  True,  True,  True,  True,  True,  True,  True,  True,  True,\n",
       "         True,  True,  True,  True,  True,  True,  True,  True,  True,  True,\n",
       "         True,  True,  True,  True,  True,  True,  True,  True,  True,  True,\n",
       "         True,  True,  True,  True,  True,  True,  True,  True,  True,  True,\n",
       "         True,  True,  True,  True,  True,  True,  True,  True,  True,  True,\n",
       "         True,  True,  True,  True,  True,  True,  True,  True,  True,  True,\n",
       "         True,  True,  True,  True,  True,  True,  True,  True,  True,  True,\n",
       "         True,  True,  True,  True,  True,  True,  True,  True,  True,  True,\n",
       "         True,  True,  True,  True,  True,  True,  True,  True,  True,  True,\n",
       "         True,  True,  True,  True,  True,  True, False, False, False, False,\n",
       "        False, False, False, False, False, False,  True,  True,  True,  True])"
      ]
     },
     "execution_count": null,
     "metadata": {},
     "output_type": "execute_result"
    }
   ],
   "source": [
    "inputs.mask[0].all(1)"
   ]
  },
  {
   "cell_type": "code",
   "execution_count": null,
   "id": "68eca301-4973-45a6-af7e-6e53ecc82bea",
   "metadata": {},
   "outputs": [
    {
     "data": {
      "text/plain": [
       "tensor([[[True, True, True],\n",
       "         [True, True, True],\n",
       "         [True, True, True],\n",
       "         ...,\n",
       "         [True, True, True],\n",
       "         [True, True, True],\n",
       "         [True, True, True]],\n",
       "\n",
       "        [[True, True, True],\n",
       "         [True, True, True],\n",
       "         [True, True, True],\n",
       "         ...,\n",
       "         [True, True, True],\n",
       "         [True, True, True],\n",
       "         [True, True, True]],\n",
       "\n",
       "        [[True, True, True],\n",
       "         [True, True, True],\n",
       "         [True, True, True],\n",
       "         ...,\n",
       "         [True, True, True],\n",
       "         [True, True, True],\n",
       "         [True, True, True]]])"
      ]
     },
     "execution_count": null,
     "metadata": {},
     "output_type": "execute_result"
    }
   ],
   "source": [
    "inputs.mask"
   ]
  },
  {
   "cell_type": "code",
   "execution_count": null,
   "id": "15df5acc-ebba-43bc-bc0f-e8ba5d732c3b",
   "metadata": {},
   "outputs": [
    {
     "data": {
      "text/plain": [
       "torch.Size([3, 200, 3])"
      ]
     },
     "execution_count": null,
     "metadata": {},
     "output_type": "execute_result"
    }
   ],
   "source": [
    "model._predict_filter(*dls.one_batch()[0]).mean.shape"
   ]
  },
  {
   "cell_type": "code",
   "execution_count": null,
   "id": "66895593-9006-41a2-8f79-c93a4e2ad799",
   "metadata": {},
   "outputs": [
    {
     "data": {
      "text/plain": [
       "tensor([[[ 0.0000,  0.0000,  0.0000],\n",
       "         [ 0.9664,  1.5392,  1.2632],\n",
       "         [ 1.5946,  2.5220,  2.2439],\n",
       "         ...,\n",
       "         [ 0.6360,  2.8465,  0.7519],\n",
       "         [ 0.6607,  2.9757,  0.7987],\n",
       "         [ 0.7223,  3.1920,  0.9015]],\n",
       "\n",
       "        [[ 0.0000,  0.0000,  0.0000],\n",
       "         [ 0.1998, -0.2805, -0.0618],\n",
       "         [ 0.3113, -0.3554, -0.1157],\n",
       "         ...,\n",
       "         [ 1.1949,  0.2849,  1.4004],\n",
       "         [ 1.1525,  0.6199,  1.0876],\n",
       "         [ 1.2526,  0.9968,  1.2575]],\n",
       "\n",
       "        [[ 0.0000,  0.0000,  0.0000],\n",
       "         [ 0.3947, -0.0867, -0.0966],\n",
       "         [ 0.6618, -0.0530, -0.1112],\n",
       "         ...,\n",
       "         [ 1.6150,  3.0145,  2.1963],\n",
       "         [ 1.6866,  3.0246,  2.5161],\n",
       "         [ 1.7833,  3.3088,  2.9261]]], grad_fn=<SqueezeBackward1>)"
      ]
     },
     "execution_count": null,
     "metadata": {},
     "output_type": "execute_result"
    }
   ],
   "source": [
    "model._predict_filter(*dls.one_batch()[0]).mean"
   ]
  },
  {
   "cell_type": "code",
   "execution_count": null,
   "id": "cbbc44e6-3b50-4972-80b0-b3ff7b8e44b4",
   "metadata": {},
   "outputs": [
    {
     "data": {
      "text/plain": [
       "ListNormal(mean=tensor([[[ 0.0000,  0.0000,  0.0000],\n",
       "         [ 0.4572,  0.7817,  0.2992],\n",
       "         [ 0.6210,  0.8838,  0.2554],\n",
       "         ...,\n",
       "         [ 0.8017,  0.0841,  0.0780],\n",
       "         [ 0.7887,  0.0355, -0.0491],\n",
       "         [ 0.7525, -0.2149, -0.2159]],\n",
       "\n",
       "        [[ 0.0000,  0.0000,  0.0000],\n",
       "         [ 0.0000,  0.0000,  0.0000],\n",
       "         [ 0.0000,  0.0000,  0.0000],\n",
       "         ...,\n",
       "         [-1.3412, -0.5929, -0.7739],\n",
       "         [-1.3502, -0.5929, -0.7739],\n",
       "         [-1.3614, -0.5929, -0.7732]],\n",
       "\n",
       "        [[ 0.0000,  0.0000,  0.0000],\n",
       "         [-0.1088, -0.2965, -0.2957],\n",
       "         [-0.2020, -0.4743, -0.4881],\n",
       "         ...,\n",
       "         [ 0.2156, -0.5929, -0.6037],\n",
       "         [ 0.2341, -0.5929, -0.5968],\n",
       "         [ 0.2537, -0.5929, -0.5827]]], grad_fn=<SqueezeBackward1>), std=tensor([[[1.4142, 1.4142, 1.4142],\n",
       "         [1.5811, 1.5811, 1.5811],\n",
       "         [1.6125, 1.6125, 1.6125],\n",
       "         ...,\n",
       "         [1.6180, 1.6180, 1.6180],\n",
       "         [1.6180, 1.6180, 1.6180],\n",
       "         [1.6180, 1.6180, 1.6180]],\n",
       "\n",
       "        [[1.4142, 1.4142, 1.4142],\n",
       "         [1.7321, 1.7321, 1.7321],\n",
       "         [2.0000, 2.0000, 2.0000],\n",
       "         ...,\n",
       "         [1.6180, 1.6180, 1.6180],\n",
       "         [1.6180, 1.6180, 1.6180],\n",
       "         [1.6180, 1.6180, 1.6180]],\n",
       "\n",
       "        [[1.4142, 1.4142, 1.4142],\n",
       "         [1.5811, 1.5811, 1.5811],\n",
       "         [1.6125, 1.6125, 1.6125],\n",
       "         ...,\n",
       "         [1.6180, 1.6180, 1.6180],\n",
       "         [1.6180, 1.6180, 1.6180],\n",
       "         [1.6180, 1.6180, 1.6180]]], grad_fn=<SqrtBackward0>))"
      ]
     },
     "execution_count": null,
     "metadata": {},
     "output_type": "execute_result"
    }
   ],
   "source": [
    "model._predict_filter(*dls.one_batch()[0])"
   ]
  },
  {
   "cell_type": "code",
   "execution_count": null,
   "id": "737a9f2a-ce54-42a3-8490-acb988138ed4",
   "metadata": {},
   "outputs": [],
   "source": [
    "#| export\n",
    "@patch\n",
    "def forward(self: KalmanFilter, masked_data: MaskedTensor):\n",
    "    data, mask = masked_data\n",
    "    assert not data.isnan().any()\n",
    "    use_smooth = self.use_smooth if hasattr(self, 'use_smooth') else True\n",
    "    \n",
    "    mean, std = (self.predict(obs=data, mask=mask, smooth=True) if use_smooth\n",
    "                        else self._predict_filter(data, mask))\n",
    "    return NormalsParams(mean, std) # to have fastai working this needs to be a tuple subclass"
   ]
  },
  {
   "cell_type": "code",
   "execution_count": null,
   "id": "f7ebde2f-19aa-4860-b665-b13865111506",
   "metadata": {},
   "outputs": [],
   "source": [
    "input = dls.one_batch()[0]\n",
    "target = dls.one_batch()[1]"
   ]
  },
  {
   "cell_type": "code",
   "execution_count": null,
   "id": "2d34397d-7720-4127-83d1-f5137c94af46",
   "metadata": {},
   "outputs": [
    {
     "data": {
      "text/plain": [
       "OrderedDict([('trans_matrix',\n",
       "              tensor([[1., 0., 0.],\n",
       "                      [0., 1., 0.],\n",
       "                      [0., 0., 1.]])),\n",
       "             ('trans_off', tensor([0., 0., 0.])),\n",
       "             ('trans_cov_raw',\n",
       "              tensor([[1., 0., 0.],\n",
       "                      [0., 1., 0.],\n",
       "                      [0., 0., 1.]])),\n",
       "             ('obs_matrix',\n",
       "              tensor([[1., 0., 0.],\n",
       "                      [0., 1., 0.],\n",
       "                      [0., 0., 1.]])),\n",
       "             ('obs_off', tensor([0., 0., 0.])),\n",
       "             ('obs_cov_raw',\n",
       "              tensor([[1., 0., 0.],\n",
       "                      [0., 1., 0.],\n",
       "                      [0., 0., 1.]])),\n",
       "             ('init_state_mean', tensor([0., 0., 0.])),\n",
       "             ('init_state_cov_raw',\n",
       "              tensor([[1., 0., 0.],\n",
       "                      [0., 1., 0.],\n",
       "                      [0., 0., 1.]]))])"
      ]
     },
     "execution_count": null,
     "metadata": {},
     "output_type": "execute_result"
    }
   ],
   "source": [
    "model.state_dict()"
   ]
  },
  {
   "cell_type": "code",
   "execution_count": null,
   "id": "5696c62a-e455-4d86-9f10-e00ea93671ac",
   "metadata": {},
   "outputs": [
    {
     "data": {
      "text/plain": [
       "torch.Size([200, 3])"
      ]
     },
     "execution_count": null,
     "metadata": {},
     "output_type": "execute_result"
    }
   ],
   "source": [
    "data = input[0][0]\n",
    "data.shape"
   ]
  },
  {
   "cell_type": "code",
   "execution_count": null,
   "id": "9d1bdfc9-2fa3-4627-94d8-0a9dda444203",
   "metadata": {},
   "outputs": [],
   "source": [
    "mask = input[1][0]"
   ]
  },
  {
   "cell_type": "code",
   "execution_count": null,
   "id": "ec17c709-bfaa-4a0e-a45d-c067671a809c",
   "metadata": {},
   "outputs": [
    {
     "data": {
      "text/plain": [
       "torch.Size([200, 3])"
      ]
     },
     "execution_count": null,
     "metadata": {},
     "output_type": "execute_result"
    }
   ],
   "source": [
    "mask.shape"
   ]
  },
  {
   "cell_type": "code",
   "execution_count": null,
   "id": "26934279-9c81-447b-8506-01b5abd7b72a",
   "metadata": {},
   "outputs": [
    {
     "data": {
      "text/plain": [
       "device(type='cpu')"
      ]
     },
     "execution_count": null,
     "metadata": {},
     "output_type": "execute_result"
    }
   ],
   "source": [
    "data.device"
   ]
  },
  {
   "cell_type": "code",
   "execution_count": null,
   "id": "83e3bbd9-8e03-440a-b13b-8b6aba7ba341",
   "metadata": {},
   "outputs": [
    {
     "data": {
      "text/plain": [
       "torch.device"
      ]
     },
     "execution_count": null,
     "metadata": {},
     "output_type": "execute_result"
    }
   ],
   "source": [
    "torch.device"
   ]
  },
  {
   "cell_type": "code",
   "execution_count": null,
   "id": "3b6b1ed8-048a-4755-8201-57eec8654cdb",
   "metadata": {},
   "outputs": [
    {
     "data": {
      "text/plain": [
       "(torch.Size([200, 3]), torch.Size([200, 3]))"
      ]
     },
     "execution_count": null,
     "metadata": {},
     "output_type": "execute_result"
    }
   ],
   "source": [
    "data.shape, mask.shape"
   ]
  },
  {
   "cell_type": "code",
   "execution_count": null,
   "id": "d3ba1aa7-ef52-4a85-b0c4-3763d621eb70",
   "metadata": {},
   "outputs": [],
   "source": [
    "model.predict(data, mask);"
   ]
  },
  {
   "cell_type": "code",
   "execution_count": null,
   "id": "9ef72fbc-cdef-4146-b294-8fd261c0e2c4",
   "metadata": {},
   "outputs": [],
   "source": [
    "model.use_smooth = True"
   ]
  },
  {
   "cell_type": "code",
   "execution_count": null,
   "id": "5d690cd5-44a1-45d6-9abb-ef4fb0a62314",
   "metadata": {},
   "outputs": [],
   "source": [
    "pred = model(input)"
   ]
  },
  {
   "cell_type": "code",
   "execution_count": null,
   "id": "a7bc7df7-effd-41b0-bb90-6beaa874d1e1",
   "metadata": {},
   "outputs": [
    {
     "data": {
      "text/plain": [
       "torch.Size([10, 200, 3])"
      ]
     },
     "execution_count": null,
     "metadata": {},
     "output_type": "execute_result"
    }
   ],
   "source": [
    "pred[0].shape"
   ]
  },
  {
   "cell_type": "code",
   "execution_count": null,
   "id": "ed03f415-567f-47ab-b019-b7291cee03f0",
   "metadata": {},
   "outputs": [
    {
     "data": {
      "text/plain": [
       "torch.Size([10, 200, 3])"
      ]
     },
     "execution_count": null,
     "metadata": {},
     "output_type": "execute_result"
    }
   ],
   "source": [
    "pred[1].shape"
   ]
  },
  {
   "cell_type": "code",
   "execution_count": null,
   "id": "856e7d79-e0ab-4562-aa6b-bbb68e3928d0",
   "metadata": {},
   "outputs": [],
   "source": [
    "model.use_smooth = False"
   ]
  },
  {
   "cell_type": "code",
   "execution_count": null,
   "id": "f804c6a9-34d6-48de-a5fe-c99142f5c7d5",
   "metadata": {},
   "outputs": [],
   "source": [
    "pred_filt = model(input)"
   ]
  },
  {
   "cell_type": "code",
   "execution_count": null,
   "id": "844f78fa-d55b-42c7-a46d-28831f712e94",
   "metadata": {},
   "outputs": [
    {
     "data": {
      "text/plain": [
       "torch.Size([10, 200, 3])"
      ]
     },
     "execution_count": null,
     "metadata": {},
     "output_type": "execute_result"
    }
   ],
   "source": [
    "pred_filt[1].shape"
   ]
  },
  {
   "cell_type": "code",
   "execution_count": null,
   "id": "5e89cd79-45ce-44dc-b5e1-f46e120e9a13",
   "metadata": {},
   "outputs": [
    {
     "data": {
      "text/plain": [
       "__main__.NormalsParams(mean=tensor([[[ 0.4737, -0.0487, -0.2008],\n",
       "         [ 0.6706, -0.0631, -0.2460],\n",
       "         [ 0.7475, -0.1832, -0.2590],\n",
       "         ...,\n",
       "         [ 0.9275, -0.2909,  0.5635],\n",
       "         [ 0.9110, -0.4073,  0.5321],\n",
       "         [ 0.8963, -0.4559,  0.5021]],\n",
       "\n",
       "        [[ 0.1227, -0.3664, -0.4393],\n",
       "         [ 0.1795, -0.5064, -0.6033],\n",
       "         [ 0.2129, -0.5598, -0.6583],\n",
       "         ...,\n",
       "         [ 1.4202, -0.5929,  0.2652],\n",
       "         [ 1.3988, -0.5929,  0.2330],\n",
       "         [ 1.3636, -0.5929,  0.1535]],\n",
       "\n",
       "        [[-0.5659, -0.3664, -0.2559],\n",
       "         [-0.7747, -0.5064, -0.3414],\n",
       "         [-0.8518, -0.5599, -0.3801],\n",
       "         ...,\n",
       "         [-0.9845, -0.5929, -0.7477],\n",
       "         [-0.9948, -0.5929, -0.7617],\n",
       "         [-0.9872, -0.5929, -0.7634]],\n",
       "\n",
       "        ...,\n",
       "\n",
       "        [[ 0.2619, -0.3649, -0.4030],\n",
       "         [ 0.3573, -0.5019, -0.5654],\n",
       "         [ 0.3953, -0.5478, -0.6267],\n",
       "         ...,\n",
       "         [ 0.3412, -0.5201, -0.7109],\n",
       "         [ 0.3391, -0.4359, -0.7046],\n",
       "         [ 0.3409, -0.3670, -0.7011]],\n",
       "\n",
       "        [[ 0.3131, -0.3664, -0.3544],\n",
       "         [ 0.4376, -0.5064, -0.5112],\n",
       "         [ 0.4905, -0.5599, -0.5764],\n",
       "         ...,\n",
       "         [ 1.4926, -0.5925,  1.9192],\n",
       "         [ 1.4008, -0.5928,  1.6263],\n",
       "         [ 1.3551, -0.5928,  1.4782]],\n",
       "\n",
       "        [[-0.5794, -0.1059, -0.2990],\n",
       "         [-0.8053, -0.1439, -0.4154],\n",
       "         [-0.9085, -0.1719, -0.4891],\n",
       "         ...,\n",
       "         [-0.9103,  2.0018, -0.2309],\n",
       "         [-0.8934,  1.7826, -0.2224],\n",
       "         [-0.8810,  1.5963, -0.2175]]], grad_fn=<SqueezeBackward1>), std=tensor([[[1.1756, 1.1756, 1.1756],\n",
       "         [1.1990, 1.1990, 1.1990],\n",
       "         [1.2024, 1.2024, 1.2024],\n",
       "         ...,\n",
       "         [1.2045, 1.2045, 1.2045],\n",
       "         [1.2133, 1.2133, 1.2133],\n",
       "         [1.2720, 1.2720, 1.2720]],\n",
       "\n",
       "        [[1.1756, 1.1756, 1.1756],\n",
       "         [1.1990, 1.1990, 1.1990],\n",
       "         [1.2024, 1.2024, 1.2024],\n",
       "         ...,\n",
       "         [1.2045, 1.2045, 1.2045],\n",
       "         [1.2133, 1.2133, 1.2133],\n",
       "         [1.2720, 1.2720, 1.2720]],\n",
       "\n",
       "        [[1.1756, 1.1756, 1.1756],\n",
       "         [1.1990, 1.1990, 1.1990],\n",
       "         [1.2024, 1.2024, 1.2024],\n",
       "         ...,\n",
       "         [1.2045, 1.2045, 1.2045],\n",
       "         [1.2133, 1.2133, 1.2133],\n",
       "         [1.2720, 1.2720, 1.2720]],\n",
       "\n",
       "        ...,\n",
       "\n",
       "        [[1.1756, 1.1756, 1.1756],\n",
       "         [1.1990, 1.1990, 1.1990],\n",
       "         [1.2024, 1.2024, 1.2024],\n",
       "         ...,\n",
       "         [1.2045, 1.2045, 1.2045],\n",
       "         [1.2133, 1.2133, 1.2133],\n",
       "         [1.2720, 1.2720, 1.2720]],\n",
       "\n",
       "        [[1.1756, 1.1756, 1.1756],\n",
       "         [1.1990, 1.1990, 1.1990],\n",
       "         [1.2024, 1.2024, 1.2024],\n",
       "         ...,\n",
       "         [1.2045, 1.2045, 1.2045],\n",
       "         [1.2133, 1.2133, 1.2133],\n",
       "         [1.2720, 1.2720, 1.2720]],\n",
       "\n",
       "        [[1.1756, 1.1756, 1.1756],\n",
       "         [1.1990, 1.1990, 1.1990],\n",
       "         [1.2024, 1.2024, 1.2024],\n",
       "         ...,\n",
       "         [1.2045, 1.2045, 1.2045],\n",
       "         [1.2133, 1.2133, 1.2133],\n",
       "         [1.2720, 1.2720, 1.2720]]], grad_fn=<SqrtBackward0>))"
      ]
     },
     "execution_count": null,
     "metadata": {},
     "output_type": "execute_result"
    }
   ],
   "source": [
    "pred"
   ]
  },
  {
   "cell_type": "code",
   "execution_count": null,
   "id": "85d82759-dae4-4d48-a213-150c8fa3d8f2",
   "metadata": {},
   "outputs": [
    {
     "data": {
      "text/plain": [
       "(__main__.NormalsParams, __main__.NormalsParams)"
      ]
     },
     "execution_count": null,
     "metadata": {},
     "output_type": "execute_result"
    }
   ],
   "source": [
    "type(pred), type(pred_filt)"
   ]
  },
  {
   "cell_type": "code",
   "execution_count": null,
   "id": "65bab279-dc65-4259-bd1f-39b5c6028cb8",
   "metadata": {},
   "outputs": [],
   "source": [
    "test_ne(pred, pred_filt)"
   ]
  },
  {
   "cell_type": "markdown",
   "id": "2051bf57-a2e3-4232-861b-fafe814b1825",
   "metadata": {},
   "source": [
    "### Loss Function"
   ]
  },
  {
   "cell_type": "markdown",
   "id": "6e75817f-2abb-4e9f-b54a-edb7ea33dc1b",
   "metadata": {},
   "source": [
    "add support for complete loss (also outside gap) and for filter loss (don't run the smooher)"
   ]
  },
  {
   "cell_type": "markdown",
   "id": "c793e684-8ce9-4393-af4d-0268f3710b7a",
   "metadata": {},
   "source": [
    "There are two ways to compute the loss, one is to do it for all predictions the other is for doing it for only the gap\n",
    "- only_gap"
   ]
  },
  {
   "cell_type": "markdown",
   "id": "2b04cee3-9086-41cb-ac08-6b908626c587",
   "metadata": {},
   "source": [
    "Play around with flatting + diagonal"
   ]
  },
  {
   "cell_type": "code",
   "execution_count": null,
   "id": "559fc5e0-3554-4efa-89a7-08a6dd44f310",
   "metadata": {},
   "outputs": [
    {
     "data": {
      "text/plain": [
       "tensor([[[ 1,  0,  0],\n",
       "         [ 0,  2,  0],\n",
       "         [ 0,  0,  3]],\n",
       "\n",
       "        [[10,  0,  0],\n",
       "         [ 0, 20,  0],\n",
       "         [ 0,  0, 30]]])"
      ]
     },
     "execution_count": null,
     "metadata": {},
     "output_type": "execute_result"
    }
   ],
   "source": [
    "a = torch.diag(torch.tensor([1,2,3]))\n",
    "d = torch.stack([a, a*10])\n",
    "m = torch.stack([a.diag(), a.diag()*10])\n",
    "d"
   ]
  },
  {
   "cell_type": "code",
   "execution_count": null,
   "id": "773c90fa-3672-43a5-b7bf-2de9b068ebe3",
   "metadata": {},
   "outputs": [
    {
     "data": {
      "text/plain": [
       "tensor([ 1,  2,  3, 10, 20, 30])"
      ]
     },
     "execution_count": null,
     "metadata": {},
     "output_type": "execute_result"
    }
   ],
   "source": [
    "m.flatten()"
   ]
  },
  {
   "cell_type": "code",
   "execution_count": null,
   "id": "c5851886-313c-4eac-87a4-4684ff9c438f",
   "metadata": {},
   "outputs": [
    {
     "data": {
      "text/plain": [
       "tensor([[[ 1,  0,  0],\n",
       "         [ 0,  2,  0],\n",
       "         [ 0,  0,  3]],\n",
       "\n",
       "        [[10,  0,  0],\n",
       "         [ 0, 20,  0],\n",
       "         [ 0,  0, 30]]])"
      ]
     },
     "execution_count": null,
     "metadata": {},
     "output_type": "execute_result"
    }
   ],
   "source": [
    "d"
   ]
  },
  {
   "cell_type": "code",
   "execution_count": null,
   "id": "72af60ed-b471-47f3-90be-2be51eb18bb0",
   "metadata": {},
   "outputs": [
    {
     "data": {
      "text/plain": [
       "tensor([ 1,  2,  3, 10, 20, 30])"
      ]
     },
     "execution_count": null,
     "metadata": {},
     "output_type": "execute_result"
    }
   ],
   "source": [
    "torch.diagonal(d, dim1=1, dim2=2).flatten()"
   ]
  },
  {
   "cell_type": "code",
   "execution_count": null,
   "id": "09c58fef-a8d8-48b1-a837-335a67158ed4",
   "metadata": {},
   "outputs": [],
   "source": [
    "means, stds = pred\n",
    "data, mask = target"
   ]
  },
  {
   "cell_type": "code",
   "execution_count": null,
   "id": "5a6bd159-499d-42b3-a8b2-9e54c98a8659",
   "metadata": {},
   "outputs": [
    {
     "data": {
      "text/plain": [
       "tensor(-5929.3633, grad_fn=<SubBackward0>)"
      ]
     },
     "execution_count": null,
     "metadata": {},
     "output_type": "execute_result"
    }
   ],
   "source": [
    "# make a big matrix with all variables and observations and compute ll\n",
    "mask = mask.flatten() \n",
    "obs = data.flatten()[mask]\n",
    "means = data.flatten()[mask]\n",
    "stds = stds.flatten()[mask] # need to support batches\n",
    "\n",
    "MultivariateNormal(means, torch.diag(stds)).log_prob(obs)"
   ]
  },
  {
   "cell_type": "code",
   "execution_count": null,
   "id": "28c38f87-5a72-42bd-847f-fb1e76ec7490",
   "metadata": {},
   "outputs": [],
   "source": [
    "#| export\n",
    "class KalmanLoss():\n",
    "    def __init__(self,\n",
    "                 only_gap:bool=True, # loss for all predictions or only gap\n",
    "                 reduction:str='sum' # one of ['sum', 'mean', 'none']\n",
    "                ):\n",
    "        store_attr()\n",
    "    \n",
    "    def __call__(self, pred: NormalsParams, target: MaskedTensor):\n",
    "        data, mask = target\n",
    "        means, stds = pred        \n",
    "        assert not stds.isnan().any()\n",
    "        losses = torch.empty(data.shape[0], device=data.device, dtype=data.dtype)\n",
    "        for i, (d, m, mean, std) in enumerate(zip(data, mask, means, stds)):\n",
    "            losses[i] = self._loss_batch(d,m,mean, std)\n",
    "        if self.reduction == 'none': return losses\n",
    "        elif self.reduction == 'mean': return losses.mean()\n",
    "        elif self.reduction == 'sum': return losses.sum()\n",
    "    \n",
    "    def _loss_batch(self, data, mask, mean, std):\n",
    "        # make a big vector with all variables and observations and compute ll\n",
    "        mask = mask.flatten() if self.only_gap else torch.fill(mask, True).flatten()\n",
    "        obs = data.flatten()[mask]\n",
    "        mean = data.flatten()[mask]\n",
    "        std = std.flatten()[mask] \n",
    "        \n",
    "        return MultivariateNormal(mean, torch.diag(std)).log_prob(obs)\n",
    "        "
   ]
  },
  {
   "cell_type": "code",
   "execution_count": null,
   "id": "62e1cfdd-e80b-4ddc-9313-fd357c7ba7e2",
   "metadata": {},
   "outputs": [],
   "source": [
    "means, stds = pred"
   ]
  },
  {
   "cell_type": "code",
   "execution_count": null,
   "id": "3dcc340f-387f-4767-9ad5-10c40425e0b0",
   "metadata": {},
   "outputs": [
    {
     "data": {
      "text/plain": [
       "torch.Size([10, 200, 3])"
      ]
     },
     "execution_count": null,
     "metadata": {},
     "output_type": "execute_result"
    }
   ],
   "source": [
    "stds.shape"
   ]
  },
  {
   "cell_type": "code",
   "execution_count": null,
   "id": "43d3532f-a95e-437a-b90e-11ebb4bb2406",
   "metadata": {},
   "outputs": [
    {
     "data": {
      "text/plain": [
       "torch.Size([10, 200, 3])"
      ]
     },
     "execution_count": null,
     "metadata": {},
     "output_type": "execute_result"
    }
   ],
   "source": [
    "means.shape"
   ]
  },
  {
   "cell_type": "code",
   "execution_count": null,
   "id": "b41d785a-ba19-461e-b64d-cc7e12153cb6",
   "metadata": {},
   "outputs": [
    {
     "data": {
      "text/plain": [
       "tensor(False)"
      ]
     },
     "execution_count": null,
     "metadata": {},
     "output_type": "execute_result"
    }
   ],
   "source": [
    "data.isnan().any()"
   ]
  },
  {
   "cell_type": "code",
   "execution_count": null,
   "id": "08aa8d54-0c7a-47c0-8970-ecd4999ffd1e",
   "metadata": {},
   "outputs": [
    {
     "data": {
      "text/plain": [
       "tensor(False)"
      ]
     },
     "execution_count": null,
     "metadata": {},
     "output_type": "execute_result"
    }
   ],
   "source": [
    "mask.isnan().any()"
   ]
  },
  {
   "cell_type": "code",
   "execution_count": null,
   "id": "38b07b67-9543-4800-b566-949c542422bf",
   "metadata": {},
   "outputs": [
    {
     "data": {
      "text/plain": [
       "tensor(False)"
      ]
     },
     "execution_count": null,
     "metadata": {},
     "output_type": "execute_result"
    }
   ],
   "source": [
    "means.isnan().any()"
   ]
  },
  {
   "cell_type": "code",
   "execution_count": null,
   "id": "b473b2be-4392-4cb2-9575-1a7a057cdc1e",
   "metadata": {},
   "outputs": [
    {
     "data": {
      "text/plain": [
       "tensor(0)"
      ]
     },
     "execution_count": null,
     "metadata": {},
     "output_type": "execute_result"
    }
   ],
   "source": [
    "stds.isnan().sum()"
   ]
  },
  {
   "cell_type": "code",
   "execution_count": null,
   "id": "cb6d9dfc-1bb4-4c23-a291-d73cf9aefdfd",
   "metadata": {},
   "outputs": [
    {
     "data": {
      "text/plain": [
       "tensor([[[1.1756, 1.1756, 1.1756],\n",
       "         [1.1990, 1.1990, 1.1990],\n",
       "         [1.2024, 1.2024, 1.2024],\n",
       "         ...,\n",
       "         [1.2045, 1.2045, 1.2045],\n",
       "         [1.2133, 1.2133, 1.2133],\n",
       "         [1.2720, 1.2720, 1.2720]],\n",
       "\n",
       "        [[1.1756, 1.1756, 1.1756],\n",
       "         [1.1990, 1.1990, 1.1990],\n",
       "         [1.2024, 1.2024, 1.2024],\n",
       "         ...,\n",
       "         [1.2045, 1.2045, 1.2045],\n",
       "         [1.2133, 1.2133, 1.2133],\n",
       "         [1.2720, 1.2720, 1.2720]],\n",
       "\n",
       "        [[1.1756, 1.1756, 1.1756],\n",
       "         [1.1990, 1.1990, 1.1990],\n",
       "         [1.2024, 1.2024, 1.2024],\n",
       "         ...,\n",
       "         [1.2045, 1.2045, 1.2045],\n",
       "         [1.2133, 1.2133, 1.2133],\n",
       "         [1.2720, 1.2720, 1.2720]],\n",
       "\n",
       "        ...,\n",
       "\n",
       "        [[1.1756, 1.1756, 1.1756],\n",
       "         [1.1990, 1.1990, 1.1990],\n",
       "         [1.2024, 1.2024, 1.2024],\n",
       "         ...,\n",
       "         [1.2045, 1.2045, 1.2045],\n",
       "         [1.2133, 1.2133, 1.2133],\n",
       "         [1.2720, 1.2720, 1.2720]],\n",
       "\n",
       "        [[1.1756, 1.1756, 1.1756],\n",
       "         [1.1990, 1.1990, 1.1990],\n",
       "         [1.2024, 1.2024, 1.2024],\n",
       "         ...,\n",
       "         [1.2045, 1.2045, 1.2045],\n",
       "         [1.2133, 1.2133, 1.2133],\n",
       "         [1.2720, 1.2720, 1.2720]],\n",
       "\n",
       "        [[1.1756, 1.1756, 1.1756],\n",
       "         [1.1990, 1.1990, 1.1990],\n",
       "         [1.2024, 1.2024, 1.2024],\n",
       "         ...,\n",
       "         [1.2045, 1.2045, 1.2045],\n",
       "         [1.2133, 1.2133, 1.2133],\n",
       "         [1.2720, 1.2720, 1.2720]]], grad_fn=<SqrtBackward0>)"
      ]
     },
     "execution_count": null,
     "metadata": {},
     "output_type": "execute_result"
    }
   ],
   "source": [
    "stds"
   ]
  },
  {
   "cell_type": "code",
   "execution_count": null,
   "id": "51ea7a4b-b7b5-4182-abed-b5542cdaff48",
   "metadata": {},
   "outputs": [
    {
     "data": {
      "text/plain": [
       "(tensor(True),\n",
       " tensor([1.1756, 1.1756, 1.1756,  ..., 2.0096, 2.0096, 2.0096],\n",
       "        grad_fn=<LinalgEighBackward0>))"
      ]
     },
     "execution_count": null,
     "metadata": {},
     "output_type": "execute_result"
    }
   ],
   "source": [
    "is_posdef_eigv(torch.diag(stds.flatten()))"
   ]
  },
  {
   "cell_type": "code",
   "execution_count": null,
   "id": "72fa95ce-9fc1-4b61-855d-a27eb5ba4994",
   "metadata": {},
   "outputs": [
    {
     "data": {
      "text/plain": [
       "tensor(-5929.3633, grad_fn=<SumBackward0>)"
      ]
     },
     "execution_count": null,
     "metadata": {},
     "output_type": "execute_result"
    }
   ],
   "source": [
    "KalmanLoss(only_gap=True)(pred, target)"
   ]
  },
  {
   "cell_type": "code",
   "execution_count": null,
   "id": "83f8aae6-eb06-4772-a611-d62af0395ef3",
   "metadata": {},
   "outputs": [
    {
     "data": {
      "text/plain": [
       "tensor(-6132.7690, grad_fn=<SumBackward0>)"
      ]
     },
     "execution_count": null,
     "metadata": {},
     "output_type": "execute_result"
    }
   ],
   "source": [
    "KalmanLoss(only_gap=False)(pred, target)"
   ]
  },
  {
   "cell_type": "markdown",
   "id": "dbc02d69-7930-47b8-9543-d07998f3baa6",
   "metadata": {},
   "source": [
    "### Metrics"
   ]
  },
  {
   "cell_type": "markdown",
   "id": "6b485cfe-5fce-449b-810c-1884990f103b",
   "metadata": {},
   "source": [
    "Wrapper around fastai metrics to support masked tensors and normal distributions"
   ]
  },
  {
   "cell_type": "code",
   "execution_count": null,
   "id": "dad52498-03b4-4aac-a8d6-bf7dc6f1cab1",
   "metadata": {},
   "outputs": [],
   "source": [
    "#| export\n",
    "def to_msk_metric(metric, name):\n",
    "    def msk_metric(imp, targ):\n",
    "        return metric(imp[0], targ[0]) # first element are the means\n",
    "    msk_metric.__name__ = name\n",
    "    return msk_metric"
   ]
  },
  {
   "cell_type": "code",
   "execution_count": null,
   "id": "6e28f7a2-436a-4e7a-9e76-0ae778015e95",
   "metadata": {},
   "outputs": [],
   "source": [
    "from fastai.metrics import *"
   ]
  },
  {
   "cell_type": "code",
   "execution_count": null,
   "id": "2cf5ca04-9708-44ba-b030-b6a00618717b",
   "metadata": {},
   "outputs": [],
   "source": [
    "msk_rmse = to_msk_metric(rmse, 'rmse')"
   ]
  },
  {
   "cell_type": "code",
   "execution_count": null,
   "id": "5f5aab4a-cde7-4bcb-b883-9c44c6b6e8ff",
   "metadata": {},
   "outputs": [
    {
     "data": {
      "text/plain": [
       "'rmse'"
      ]
     },
     "execution_count": null,
     "metadata": {},
     "output_type": "execute_result"
    }
   ],
   "source": [
    "msk_rmse.__name__"
   ]
  },
  {
   "cell_type": "code",
   "execution_count": null,
   "id": "974d85e7-c02c-4ebe-9d50-7fea96ab5815",
   "metadata": {},
   "outputs": [
    {
     "data": {
      "text/plain": [
       "TensorBase(1.1492)"
      ]
     },
     "execution_count": null,
     "metadata": {},
     "output_type": "execute_result"
    }
   ],
   "source": [
    "msk_rmse(pred, target)"
   ]
  },
  {
   "cell_type": "code",
   "execution_count": null,
   "id": "5a00fcc0-9561-4000-8ea5-71423671d4e4",
   "metadata": {},
   "outputs": [],
   "source": [
    "msk_r2 = to_msk_metric(R2Score(), 'r2')"
   ]
  },
  {
   "cell_type": "code",
   "execution_count": null,
   "id": "a8003a5d-4c63-4174-acb9-75c00d063bac",
   "metadata": {},
   "outputs": [
    {
     "data": {
      "text/plain": [
       "-1.2005627677868254"
      ]
     },
     "execution_count": null,
     "metadata": {},
     "output_type": "execute_result"
    }
   ],
   "source": [
    "msk_r2(pred, target)"
   ]
  },
  {
   "cell_type": "markdown",
   "id": "73470c88-47dc-4187-a208-789f24c23a3e",
   "metadata": {},
   "source": [
    "### Callback"
   ]
  },
  {
   "cell_type": "markdown",
   "id": "96c199ec-b21c-401d-bd3c-16670de8e372",
   "metadata": {},
   "source": [
    "save the model state "
   ]
  },
  {
   "cell_type": "code",
   "execution_count": null,
   "id": "c9f34e5c-1cf5-4c04-b7e0-89e2e33b9aa1",
   "metadata": {},
   "outputs": [],
   "source": [
    "#| export\n",
    "from fastai.callback.all import *"
   ]
  },
  {
   "cell_type": "code",
   "execution_count": null,
   "id": "c6bbe197-91eb-4fb2-ae15-f2d463914902",
   "metadata": {},
   "outputs": [],
   "source": [
    "#| export\n",
    "class SaveParams(Callback):\n",
    "    def __init__(self, param_name):\n",
    "        super().__init__()\n",
    "        self.params = []\n",
    "        self.param_name = param_name\n",
    "    def after_batch(self):\n",
    "        param = getattr(self.model, self.param_name).detach()\n",
    "        self.params.append(param)"
   ]
  },
  {
   "cell_type": "code",
   "execution_count": null,
   "id": "206b2efc-a26e-4ed7-b9a8-df1ce7a605b4",
   "metadata": {},
   "outputs": [],
   "source": [
    "#| export\n",
    "class SaveParams(Callback):\n",
    "    def __init__(self, param_name):\n",
    "        super().__init__()\n",
    "        self.params = []\n",
    "        self.param_name = param_name\n",
    "    def after_batch(self):\n",
    "        param = getattr(self.model, self.param_name).detach()\n",
    "        self.params.append(param)"
   ]
  },
  {
   "cell_type": "code",
   "execution_count": null,
   "id": "c2d2eb9e-eea2-40eb-918a-e8575cb20323",
   "metadata": {},
   "outputs": [],
   "source": [
    "debug_preds = []"
   ]
  },
  {
   "cell_type": "code",
   "execution_count": null,
   "id": "26d2f05f-fd23-4393-b5e8-f9800cc36f78",
   "metadata": {},
   "outputs": [],
   "source": [
    "class DebugPredCallback(Callback):\n",
    "    order = 0\n",
    "    def after_validate(self):\n",
    "        if hasattr(self, 'gather_preds'):\n",
    "            debug_preds.append(self.gather_preds.preds)"
   ]
  },
  {
   "cell_type": "markdown",
   "id": "99617495-ab91-4a00-8371-91011ba551ba",
   "metadata": {},
   "source": [
    "### Learner"
   ]
  },
  {
   "cell_type": "code",
   "execution_count": null,
   "id": "87ad92d0-4b9a-4f10-817d-c213366fe83a",
   "metadata": {},
   "outputs": [],
   "source": [
    "#| export\n",
    "from fastai.learner import * \n",
    "\n",
    "from fastai.tabular.all import *\n",
    "\n",
    "from fastai.tabular.learner import *\n",
    "\n",
    "from fastai.callback.progress import ShowGraphCallback"
   ]
  },
  {
   "cell_type": "code",
   "execution_count": null,
   "id": "8bb68031-bc19-4c2f-b82b-201939013bbc",
   "metadata": {},
   "outputs": [],
   "source": [
    "obs_cov_history = SaveParams('obs_cov')"
   ]
  },
  {
   "cell_type": "code",
   "execution_count": null,
   "id": "fdb75dd6-f0af-4c50-bc80-2436b28b4db3",
   "metadata": {},
   "outputs": [],
   "source": [
    "all_data = CollectDataCallback()"
   ]
  },
  {
   "cell_type": "code",
   "execution_count": null,
   "id": "25efc678-791b-4599-87d3-820ace3f7263",
   "metadata": {},
   "outputs": [],
   "source": [
    "model = KalmanFilter.init_random(n_dim_obs = hai.shape[1], n_dim_state = hai.shape[1]).cuda()"
   ]
  },
  {
   "cell_type": "code",
   "execution_count": null,
   "id": "be28a411-098a-4788-9e98-6b455a43f296",
   "metadata": {},
   "outputs": [],
   "source": [
    "model.use_smooth = False"
   ]
  },
  {
   "cell_type": "code",
   "execution_count": null,
   "id": "cb235adb-78de-430e-8eb4-c279347e4045",
   "metadata": {},
   "outputs": [],
   "source": [
    "# model._set_constraint('obs_cov', model.obs_cov, train=False)"
   ]
  },
  {
   "cell_type": "code",
   "execution_count": null,
   "id": "2cfc46b8-3ffd-4080-92ad-ad52e3d4a9e9",
   "metadata": {},
   "outputs": [],
   "source": [
    "pipeline, block_ids = imp_pipeline(hai[:20000], block_len, gap_len)\n",
    "    \n",
    "splits = RandomSplitter()(block_ids)\n",
    "ds = Datasets(block_ids, [pipeline + [to_tuple], pipeline + [to_tuple]], splits=splits)"
   ]
  },
  {
   "cell_type": "code",
   "execution_count": null,
   "id": "84eb6fff-dbce-4d24-a796-558e03f9e306",
   "metadata": {},
   "outputs": [],
   "source": [
    "dls = ds.dataloaders(bs=10, device='cuda')"
   ]
  },
  {
   "cell_type": "code",
   "execution_count": null,
   "id": "db0f5e59-de01-4c9c-acc0-becfe69866a2",
   "metadata": {},
   "outputs": [
    {
     "data": {
      "text/plain": [
       "device(type='cuda', index=0)"
      ]
     },
     "execution_count": null,
     "metadata": {},
     "output_type": "execute_result"
    }
   ],
   "source": [
    "dls.one_batch()[0][0].device"
   ]
  },
  {
   "cell_type": "code",
   "execution_count": null,
   "id": "9ac388e4-e37d-40ef-ba53-7b2445e2636f",
   "metadata": {},
   "outputs": [
    {
     "data": {
      "text/plain": [
       "tensor(-305.7042, device='cuda:0', grad_fn=<SumBackward0>)"
      ]
     },
     "execution_count": null,
     "metadata": {},
     "output_type": "execute_result"
    }
   ],
   "source": [
    "input, target = dls.one_batch()\n",
    "pred = model(input)\n",
    "KalmanLoss()(pred, target)"
   ]
  },
  {
   "cell_type": "code",
   "execution_count": null,
   "id": "c508264f-ca12-4f8f-93cc-9245fa84e7d9",
   "metadata": {},
   "outputs": [],
   "source": [
    "learn = Learner(dls, model, loss_func=KalmanLoss(only_gap=False), cbs = [DebugPredCallback] , metrics = [msk_rmse, msk_r2])"
   ]
  },
  {
   "cell_type": "code",
   "execution_count": null,
   "id": "eef1826f-78e6-4654-a92f-dca07b2ddb7e",
   "metadata": {},
   "outputs": [
    {
     "data": {
      "text/html": [
       "\n",
       "<style>\n",
       "    /* Turns off some styling */\n",
       "    progress {\n",
       "        /* gets rid of default border in Firefox and Opera. */\n",
       "        border: none;\n",
       "        /* Needs to be in here for Safari polyfill so background images work as expected. */\n",
       "        background-size: auto;\n",
       "    }\n",
       "    progress:not([value]), progress:not([value])::-webkit-progress-bar {\n",
       "        background: repeating-linear-gradient(45deg, #7e7e7e, #7e7e7e 10px, #5c5c5c 10px, #5c5c5c 20px);\n",
       "    }\n",
       "    .progress-bar-interrupted, .progress-bar-interrupted::-webkit-progress-bar {\n",
       "        background: #F44336;\n",
       "    }\n",
       "</style>\n"
      ],
      "text/plain": [
       "<IPython.core.display.HTML object>"
      ]
     },
     "metadata": {},
     "output_type": "display_data"
    },
    {
     "data": {
      "text/html": [
       "<table border=\"1\" class=\"dataframe\">\n",
       "  <thead>\n",
       "    <tr style=\"text-align: left;\">\n",
       "      <th>epoch</th>\n",
       "      <th>train_loss</th>\n",
       "      <th>valid_loss</th>\n",
       "      <th>rmse</th>\n",
       "      <th>r2</th>\n",
       "      <th>time</th>\n",
       "    </tr>\n",
       "  </thead>\n",
       "  <tbody>\n",
       "    <tr>\n",
       "      <td>0</td>\n",
       "      <td>-419.399567</td>\n",
       "      <td>-440.761749</td>\n",
       "      <td>3.342487</td>\n",
       "      <td>-13.898747</td>\n",
       "      <td>00:08</td>\n",
       "    </tr>\n",
       "  </tbody>\n",
       "</table>"
      ],
      "text/plain": [
       "<IPython.core.display.HTML object>"
      ]
     },
     "metadata": {},
     "output_type": "display_data"
    }
   ],
   "source": [
    "learn.fit(1, 1e-3)"
   ]
  },
  {
   "cell_type": "code",
   "execution_count": null,
   "id": "38995e24-4d86-4bda-b112-50f952f9b8e4",
   "metadata": {},
   "outputs": [
    {
     "data": {
      "text/plain": [
       "'gather_preds'"
      ]
     },
     "execution_count": null,
     "metadata": {},
     "output_type": "execute_result"
    }
   ],
   "source": [
    "GatherPredsCallback().name"
   ]
  },
  {
   "cell_type": "code",
   "execution_count": null,
   "id": "3d12c41b-d146-4ca9-9830-3f4dda62a5a9",
   "metadata": {},
   "outputs": [
    {
     "data": {
      "text/html": [
       "\n",
       "<style>\n",
       "    /* Turns off some styling */\n",
       "    progress {\n",
       "        /* gets rid of default border in Firefox and Opera. */\n",
       "        border: none;\n",
       "        /* Needs to be in here for Safari polyfill so background images work as expected. */\n",
       "        background-size: auto;\n",
       "    }\n",
       "    progress:not([value]), progress:not([value])::-webkit-progress-bar {\n",
       "        background: repeating-linear-gradient(45deg, #7e7e7e, #7e7e7e 10px, #5c5c5c 10px, #5c5c5c 20px);\n",
       "    }\n",
       "    .progress-bar-interrupted, .progress-bar-interrupted::-webkit-progress-bar {\n",
       "        background: #F44336;\n",
       "    }\n",
       "</style>\n"
      ],
      "text/plain": [
       "<IPython.core.display.HTML object>"
      ]
     },
     "metadata": {},
     "output_type": "display_data"
    },
    {
     "data": {
      "text/html": [],
      "text/plain": [
       "<IPython.core.display.HTML object>"
      ]
     },
     "metadata": {},
     "output_type": "display_data"
    }
   ],
   "source": [
    "pred = learn.get_preds(with_targs=False, with_decoded=True)"
   ]
  },
  {
   "cell_type": "code",
   "execution_count": null,
   "id": "46703d6e-0338-4afc-bb7c-33a320bc868a",
   "metadata": {},
   "outputs": [
    {
     "data": {
      "text/plain": [
       "2"
      ]
     },
     "execution_count": null,
     "metadata": {},
     "output_type": "execute_result"
    }
   ],
   "source": [
    "len(tuplify(pred[2]))"
   ]
  },
  {
   "cell_type": "code",
   "execution_count": null,
   "id": "1558903e-e493-4476-ae08-2702b64ca082",
   "metadata": {},
   "outputs": [
    {
     "data": {
      "text/plain": [
       "((tensor([[[-1.1405, -0.5702, -0.7476],\n",
       "           [-1.1405, -0.5702, -0.7520],\n",
       "           [-1.1391, -0.5702, -0.7586],\n",
       "           [-1.1419, -0.5702, -0.7674],\n",
       "           [-1.1405, -0.5702, -0.7735],\n",
       "           [-1.1391, -0.5702, -0.7784],\n",
       "           [-1.1349, -0.5678, -0.7812],\n",
       "           [-1.1279, -0.5506, -0.7828],\n",
       "           [-1.1125, -0.5319, -0.7839],\n",
       "           [-1.1026, -0.5056, -0.7839]]], device='cuda:0'),\n",
       "  tensor([[[ True,  True,  True],\n",
       "           [False, False,  True],\n",
       "           [False, False,  True],\n",
       "           [ True,  True,  True],\n",
       "           [ True,  True,  True],\n",
       "           [ True,  True,  True],\n",
       "           [ True,  True,  True],\n",
       "           [ True,  True,  True],\n",
       "           [ True,  True,  True],\n",
       "           [ True,  True,  True]]], device='cuda:0')),)"
      ]
     },
     "execution_count": null,
     "metadata": {},
     "output_type": "execute_result"
    }
   ],
   "source": [
    "learn.dls.test_dl([1]).one_batch()"
   ]
  },
  {
   "cell_type": "code",
   "execution_count": null,
   "id": "956e21ef-f9cf-4526-99d2-8e59500f2520",
   "metadata": {},
   "outputs": [],
   "source": [
    "dl = dls.test_dl([1,2], with_labels=True)"
   ]
  },
  {
   "cell_type": "code",
   "execution_count": null,
   "id": "78194066-4318-46fe-85f6-820a0261c8c4",
   "metadata": {},
   "outputs": [
    {
     "data": {
      "text/html": [
       "\n",
       "<style>\n",
       "    /* Turns off some styling */\n",
       "    progress {\n",
       "        /* gets rid of default border in Firefox and Opera. */\n",
       "        border: none;\n",
       "        /* Needs to be in here for Safari polyfill so background images work as expected. */\n",
       "        background-size: auto;\n",
       "    }\n",
       "    progress:not([value]), progress:not([value])::-webkit-progress-bar {\n",
       "        background: repeating-linear-gradient(45deg, #7e7e7e, #7e7e7e 10px, #5c5c5c 10px, #5c5c5c 20px);\n",
       "    }\n",
       "    .progress-bar-interrupted, .progress-bar-interrupted::-webkit-progress-bar {\n",
       "        background: #F44336;\n",
       "    }\n",
       "</style>\n"
      ],
      "text/plain": [
       "<IPython.core.display.HTML object>"
      ]
     },
     "metadata": {},
     "output_type": "display_data"
    },
    {
     "data": {
      "text/html": [],
      "text/plain": [
       "<IPython.core.display.HTML object>"
      ]
     },
     "metadata": {},
     "output_type": "display_data"
    },
    {
     "data": {
      "text/plain": [
       "(__main__.NormalsParams(mean=tensor([[[ 1.0845,  1.5834,  0.5826],\n",
       "          [-2.0406, -1.5340, -0.6335],\n",
       "          [-2.0107, -1.3459, -0.6058],\n",
       "          [-1.9418, -1.2663, -0.5702],\n",
       "          [-1.9313, -1.2526, -0.5650],\n",
       "          [-2.5698, -2.0371, -0.8713],\n",
       "          [-4.2385, -3.7844, -1.6032],\n",
       "          [-1.9990, -1.4044, -0.6044],\n",
       "          [-1.9074, -1.2301, -0.5556],\n",
       "          [-1.8488, -1.1662, -0.5286]],\n",
       " \n",
       "         [[ 1.0845,  1.5834,  0.5826],\n",
       "          [-1.8904, -1.3707, -0.5664],\n",
       "          [-1.8062, -1.1233, -0.5136],\n",
       "          [-1.6458, -0.9289, -0.4334],\n",
       "          [-1.7084, -1.0170, -0.4653],\n",
       "          [-1.7076, -1.0232, -0.4669],\n",
       "          [-2.0386, -1.4971, -0.6416],\n",
       "          [-2.9869, -2.5162, -1.0628],\n",
       "          [-1.7457, -1.1439, -0.4935],\n",
       "          [-1.6724, -0.9925, -0.4532]]]), std=tensor([[[ 2.9874,  2.9823,  1.7969],\n",
       "          [ 2.6119,  2.6208,  1.7767],\n",
       "          [ 2.6634,  2.7117,  1.7933],\n",
       "          [ 2.6638,  2.7120,  1.7934],\n",
       "          [ 2.6638,  2.7120,  1.7934],\n",
       "          [ 6.7237,  6.9196,  3.2179],\n",
       "          [16.0926, 16.3718,  7.0920],\n",
       "          [ 2.6659,  2.7190,  1.7943],\n",
       "          [ 2.6641,  2.7124,  1.7935],\n",
       "          [ 2.6639,  2.7120,  1.7934]],\n",
       " \n",
       "         [[ 2.9874,  2.9823,  1.7969],\n",
       "          [ 2.6119,  2.6208,  1.7767],\n",
       "          [ 2.6634,  2.7117,  1.7933],\n",
       "          [ 2.6638,  2.7120,  1.7934],\n",
       "          [ 2.6638,  2.7120,  1.7934],\n",
       "          [ 2.6638,  2.7120,  1.7934],\n",
       "          [ 6.7237,  6.9196,  3.2179],\n",
       "          [16.0926, 16.3718,  7.0920],\n",
       "          [ 2.6603,  2.7130,  1.7926],\n",
       "          [ 2.6641,  2.7124,  1.7935]]])),\n",
       " (tensor([[[-1.1405, -0.5702, -0.7476],\n",
       "           [-1.1405, -0.5702, -0.7520],\n",
       "           [-1.1391, -0.5702, -0.7586],\n",
       "           [-1.1419, -0.5702, -0.7674],\n",
       "           [-1.1405, -0.5702, -0.7735],\n",
       "           [-1.1391, -0.5702, -0.7784],\n",
       "           [-1.1349, -0.5678, -0.7812],\n",
       "           [-1.1279, -0.5506, -0.7828],\n",
       "           [-1.1125, -0.5319, -0.7839],\n",
       "           [-1.1026, -0.5056, -0.7839]],\n",
       "  \n",
       "          [[-1.0942, -0.4831, -0.7839],\n",
       "           [-1.0830, -0.4397, -0.7826],\n",
       "           [-1.0787, -0.3200, -0.7804],\n",
       "           [-1.0759, -0.4538, -0.7817],\n",
       "           [-1.0619, -0.4707, -0.7834],\n",
       "           [-1.0507, -0.4589, -0.7839],\n",
       "           [-1.0464, -0.4179, -0.7856],\n",
       "           [-1.0408, -0.4424, -0.7856],\n",
       "           [-1.0394, -0.4417, -0.7856],\n",
       "           [-1.0366, -0.4874, -0.7856]]]),\n",
       "  tensor([[[ True,  True,  True],\n",
       "           [ True,  True,  True],\n",
       "           [ True,  True,  True],\n",
       "           [False, False,  True],\n",
       "           [False, False,  True],\n",
       "           [ True,  True,  True],\n",
       "           [ True,  True,  True],\n",
       "           [ True,  True,  True],\n",
       "           [ True,  True,  True],\n",
       "           [ True,  True,  True]],\n",
       "  \n",
       "          [[ True,  True,  True],\n",
       "           [ True,  True,  True],\n",
       "           [ True,  True,  True],\n",
       "           [ True,  True,  True],\n",
       "           [ True,  True,  True],\n",
       "           [False, False,  True],\n",
       "           [False, False,  True],\n",
       "           [ True,  True,  True],\n",
       "           [ True,  True,  True],\n",
       "           [ True,  True,  True]]])),\n",
       " tensor([-44.1613, -44.1587]))"
      ]
     },
     "execution_count": null,
     "metadata": {},
     "output_type": "execute_result"
    }
   ],
   "source": [
    "learn.get_preds(dl=dl, with_targs=True, with_loss=True)"
   ]
  },
  {
   "cell_type": "code",
   "execution_count": null,
   "id": "ff941379-f519-4236-a895-76c9f96d2622",
   "metadata": {},
   "outputs": [],
   "source": []
  },
  {
   "cell_type": "code",
   "execution_count": null,
   "id": "fdcdedef-600d-41f6-9a67-90baa78c149c",
   "metadata": {},
   "outputs": [
    {
     "data": {
      "text/html": [
       "\n",
       "<style>\n",
       "    /* Turns off some styling */\n",
       "    progress {\n",
       "        /* gets rid of default border in Firefox and Opera. */\n",
       "        border: none;\n",
       "        /* Needs to be in here for Safari polyfill so background images work as expected. */\n",
       "        background-size: auto;\n",
       "    }\n",
       "    progress:not([value]), progress:not([value])::-webkit-progress-bar {\n",
       "        background: repeating-linear-gradient(45deg, #7e7e7e, #7e7e7e 10px, #5c5c5c 10px, #5c5c5c 20px);\n",
       "    }\n",
       "    .progress-bar-interrupted, .progress-bar-interrupted::-webkit-progress-bar {\n",
       "        background: #F44336;\n",
       "    }\n",
       "</style>\n"
      ],
      "text/plain": [
       "<IPython.core.display.HTML object>"
      ]
     },
     "metadata": {},
     "output_type": "display_data"
    },
    {
     "data": {
      "text/html": [],
      "text/plain": [
       "<IPython.core.display.HTML object>"
      ]
     },
     "metadata": {},
     "output_type": "display_data"
    }
   ],
   "source": [
    "item = 1\n",
    "dl = learn.dls.test_dl([item],num_workers=0)\n",
    "inp,preds,_,dec_preds = learn.get_preds(dl=dl, with_input=True, with_decoded=True)\n",
    "i = getattr(learn.dls, 'n_inp', -1)"
   ]
  },
  {
   "cell_type": "code",
   "execution_count": null,
   "id": "7168234a-bd14-4bfc-92cd-cf10f52de732",
   "metadata": {},
   "outputs": [
    {
     "data": {
      "text/plain": [
       "(tensor([[[-1.1405, -0.5702, -0.7476],\n",
       "          [-1.1405, -0.5702, -0.7520],\n",
       "          [-1.1391, -0.5702, -0.7586],\n",
       "          [-1.1419, -0.5702, -0.7674],\n",
       "          [-1.1405, -0.5702, -0.7735],\n",
       "          [-1.1391, -0.5702, -0.7784],\n",
       "          [-1.1349, -0.5678, -0.7812],\n",
       "          [-1.1279, -0.5506, -0.7828],\n",
       "          [-1.1125, -0.5319, -0.7839],\n",
       "          [-1.1026, -0.5056, -0.7839]]], device='cuda:0'),\n",
       " tensor([[[ True,  True,  True],\n",
       "          [ True,  True,  True],\n",
       "          [False, False,  True],\n",
       "          [False, False,  True],\n",
       "          [ True,  True,  True],\n",
       "          [ True,  True,  True],\n",
       "          [ True,  True,  True],\n",
       "          [ True,  True,  True],\n",
       "          [ True,  True,  True],\n",
       "          [ True,  True,  True]]], device='cuda:0'))"
      ]
     },
     "execution_count": null,
     "metadata": {},
     "output_type": "execute_result"
    }
   ],
   "source": [
    "dl.one_batch()[0]"
   ]
  },
  {
   "cell_type": "code",
   "execution_count": null,
   "id": "fdff7d08-bf23-4300-abcc-e172de023b87",
   "metadata": {},
   "outputs": [
    {
     "data": {
      "text/html": [
       "\n",
       "<style>\n",
       "    /* Turns off some styling */\n",
       "    progress {\n",
       "        /* gets rid of default border in Firefox and Opera. */\n",
       "        border: none;\n",
       "        /* Needs to be in here for Safari polyfill so background images work as expected. */\n",
       "        background-size: auto;\n",
       "    }\n",
       "    progress:not([value]), progress:not([value])::-webkit-progress-bar {\n",
       "        background: repeating-linear-gradient(45deg, #7e7e7e, #7e7e7e 10px, #5c5c5c 10px, #5c5c5c 20px);\n",
       "    }\n",
       "    .progress-bar-interrupted, .progress-bar-interrupted::-webkit-progress-bar {\n",
       "        background: #F44336;\n",
       "    }\n",
       "</style>\n"
      ],
      "text/plain": [
       "<IPython.core.display.HTML object>"
      ]
     },
     "metadata": {},
     "output_type": "display_data"
    },
    {
     "data": {
      "text/html": [],
      "text/plain": [
       "<IPython.core.display.HTML object>"
      ]
     },
     "metadata": {},
     "output_type": "display_data"
    }
   ],
   "source": [
    "a,b = learn.get_preds(dl=dl)"
   ]
  },
  {
   "cell_type": "code",
   "execution_count": null,
   "id": "15cf95ac-9249-41eb-af32-76deb45be0b0",
   "metadata": {},
   "outputs": [
    {
     "data": {
      "text/plain": [
       "[__main__.MaskedDf(data=                       TA  SW_IN    VPD\n",
       " time                                   \n",
       " 2000-01-01 00:30:00 -0.60    0.0  0.222\n",
       " 2000-01-01 01:00:00 -0.65    0.0  0.122\n",
       " 2000-01-01 01:30:00 -0.58    0.0  0.090\n",
       " 2000-01-01 02:00:00 -0.51    0.0  0.110\n",
       " 2000-01-01 02:30:00 -0.49    0.0  0.102\n",
       " 2000-01-01 03:00:00 -0.40    0.0  0.111\n",
       " 2000-01-01 03:30:00 -0.36    0.0  0.109\n",
       " 2000-01-01 04:00:00 -0.35    0.0  0.107\n",
       " 2000-01-01 04:30:00 -0.28    0.0  0.122\n",
       " 2000-01-01 05:00:00 -0.27    0.0  0.138, mask=                        TA  SW_IN   VPD\n",
       " time                                   \n",
       " 2000-01-01 00:30:00   True   True  True\n",
       " 2000-01-01 01:00:00   True   True  True\n",
       " 2000-01-01 01:30:00   True   True  True\n",
       " 2000-01-01 02:00:00   True   True  True\n",
       " 2000-01-01 02:30:00   True   True  True\n",
       " 2000-01-01 03:00:00  False  False  True\n",
       " 2000-01-01 03:30:00  False  False  True\n",
       " 2000-01-01 04:00:00   True   True  True\n",
       " 2000-01-01 04:30:00   True   True  True\n",
       " 2000-01-01 05:00:00   True   True  True),\n",
       " __main__.MaskedDf(data=                       TA  SW_IN    VPD\n",
       " time                                   \n",
       " 2000-01-01 05:30:00 -0.23   0.00  0.138\n",
       " 2000-01-01 06:00:00 -0.23   0.00  0.122\n",
       " 2000-01-01 06:30:00 -0.22   0.00  0.098\n",
       " 2000-01-01 07:00:00 -0.24   0.00  0.066\n",
       " 2000-01-01 07:30:00 -0.23   0.00  0.044\n",
       " 2000-01-01 08:00:00 -0.22   0.00  0.026\n",
       " 2000-01-01 08:30:00 -0.19   0.45  0.016\n",
       " 2000-01-01 09:00:00 -0.14   3.70  0.010\n",
       " 2000-01-01 09:30:00 -0.03   7.26  0.006\n",
       " 2000-01-01 10:00:00  0.04  12.24  0.006, mask=                        TA  SW_IN   VPD\n",
       " time                                   \n",
       " 2000-01-01 05:30:00   True   True  True\n",
       " 2000-01-01 06:00:00   True   True  True\n",
       " 2000-01-01 06:30:00   True   True  True\n",
       " 2000-01-01 07:00:00  False  False  True\n",
       " 2000-01-01 07:30:00  False  False  True\n",
       " 2000-01-01 08:00:00   True   True  True\n",
       " 2000-01-01 08:30:00   True   True  True\n",
       " 2000-01-01 09:00:00   True   True  True\n",
       " 2000-01-01 09:30:00   True   True  True\n",
       " 2000-01-01 10:00:00   True   True  True)]"
      ]
     },
     "execution_count": null,
     "metadata": {},
     "output_type": "execute_result"
    }
   ],
   "source": [
    "list(TfmdLists([0,1], learn.dls.fs[0][0,1]))"
   ]
  },
  {
   "cell_type": "markdown",
   "id": "748bb675-4e1a-4f1d-bf5b-b31bcf8d76e3",
   "metadata": {},
   "source": [
    "### Predictions"
   ]
  },
  {
   "cell_type": "code",
   "execution_count": null,
   "id": "06b53296-e81d-463a-ab60-2150f99fc724",
   "metadata": {},
   "outputs": [],
   "source": [
    "#| export\n",
    "class NormalsDf:\n",
    "    \"\"\"DataFrames of Normal parameters (mean and std)\"\"\"\n",
    "    def __init__(self, mean, std): store_attr()\n",
    "    def tidy(self, prefix=\"\"):\n",
    "        \"\"\"Tidy version\"\"\"\n",
    "        mean = self.mean.reset_index().melt(\"time\", value_name=prefix + \"mean\")\n",
    "        std = self.std.reset_index().melt(\"time\", value_name=prefix + \"std\")\n",
    "        return pd.merge(mean, std, on=[\"time\", \"variable\"])\n",
    "    __repr__ = basic_repr(\"mean, std\")"
   ]
  },
  {
   "cell_type": "code",
   "execution_count": null,
   "id": "af0e2b1c-927a-494c-850e-af499e7ef465",
   "metadata": {},
   "outputs": [],
   "source": [
    "from nbdev import show_doc"
   ]
  },
  {
   "cell_type": "markdown",
   "id": "ea7a0571-034b-4c23-a16c-f74f889923f9",
   "metadata": {},
   "source": [
    "is in this in the wrong order?????"
   ]
  },
  {
   "cell_type": "code",
   "execution_count": null,
   "id": "ed922730-77f1-420c-ba3a-60a4fdac8a2c",
   "metadata": {},
   "outputs": [],
   "source": [
    "def custom_predict(learn, items):\n",
    "    dl = learn.dls.test_dl(items, with_labels = True, num_workers=0)\n",
    "    targs = list(TfmdLists(items, learn.dls.fs[0][0,1])) # don't need to decoded them after \n",
    "    preds, _, loss = learn.get_preds(dl=dl, with_loss=True)\n",
    "    # denormalize predictions\n",
    "    preds = learn.dls.fs[0][-2].decode(preds)\n",
    "    # return preds, targs, loss\n",
    "    return preds2df(preds, targs), targs, loss"
   ]
  },
  {
   "cell_type": "code",
   "execution_count": null,
   "id": "fd571f49-03d7-4a0d-a880-14b25552b04c",
   "metadata": {},
   "outputs": [],
   "source": [
    "def preds_items(items):\n",
    "    dl = learn.dls.test_dl(items, with_labels = True, num_workers=0)\n",
    "    preds, _, loss = learn.get_preds(dl=dl, with_loss=True)\n",
    "    return preds"
   ]
  },
  {
   "cell_type": "code",
   "execution_count": null,
   "id": "91ecf0d6-3787-47ea-9ff7-c952a286c489",
   "metadata": {},
   "outputs": [],
   "source": [
    "input = learn.dls.test_dl(items, with_labels = True, num_workers=0).one_batch()[0]"
   ]
  },
  {
   "cell_type": "code",
   "execution_count": null,
   "id": "0bbd0eb9-8f7d-45ae-8658-0daaa89acf82",
   "metadata": {},
   "outputs": [
    {
     "data": {
      "text/html": [
       "\n",
       "<style>\n",
       "    /* Turns off some styling */\n",
       "    progress {\n",
       "        /* gets rid of default border in Firefox and Opera. */\n",
       "        border: none;\n",
       "        /* Needs to be in here for Safari polyfill so background images work as expected. */\n",
       "        background-size: auto;\n",
       "    }\n",
       "    progress:not([value]), progress:not([value])::-webkit-progress-bar {\n",
       "        background: repeating-linear-gradient(45deg, #7e7e7e, #7e7e7e 10px, #5c5c5c 10px, #5c5c5c 20px);\n",
       "    }\n",
       "    .progress-bar-interrupted, .progress-bar-interrupted::-webkit-progress-bar {\n",
       "        background: #F44336;\n",
       "    }\n",
       "</style>\n"
      ],
      "text/plain": [
       "<IPython.core.display.HTML object>"
      ]
     },
     "metadata": {},
     "output_type": "display_data"
    },
    {
     "data": {
      "text/html": [],
      "text/plain": [
       "<IPython.core.display.HTML object>"
      ]
     },
     "metadata": {},
     "output_type": "display_data"
    },
    {
     "data": {
      "text/html": [
       "\n",
       "<style>\n",
       "    /* Turns off some styling */\n",
       "    progress {\n",
       "        /* gets rid of default border in Firefox and Opera. */\n",
       "        border: none;\n",
       "        /* Needs to be in here for Safari polyfill so background images work as expected. */\n",
       "        background-size: auto;\n",
       "    }\n",
       "    progress:not([value]), progress:not([value])::-webkit-progress-bar {\n",
       "        background: repeating-linear-gradient(45deg, #7e7e7e, #7e7e7e 10px, #5c5c5c 10px, #5c5c5c 20px);\n",
       "    }\n",
       "    .progress-bar-interrupted, .progress-bar-interrupted::-webkit-progress-bar {\n",
       "        background: #F44336;\n",
       "    }\n",
       "</style>\n"
      ],
      "text/plain": [
       "<IPython.core.display.HTML object>"
      ]
     },
     "metadata": {},
     "output_type": "display_data"
    },
    {
     "data": {
      "text/html": [],
      "text/plain": [
       "<IPython.core.display.HTML object>"
      ]
     },
     "metadata": {},
     "output_type": "display_data"
    },
    {
     "data": {
      "text/plain": [
       "tensor([[[ 0.0000,  0.0000,  0.0000],\n",
       "         [ 0.0000,  0.0000,  0.0000],\n",
       "         [ 0.0000,  0.0000,  0.0000],\n",
       "         [ 0.0000,  0.0000,  0.0000],\n",
       "         [ 0.0000,  0.0000,  0.0000],\n",
       "         [ 0.0000,  0.0000,  0.0000],\n",
       "         [ 0.7252,  0.8758,  0.3443],\n",
       "         [ 2.5638,  2.7951,  1.1497],\n",
       "         [-0.5833, -0.6469, -0.2725],\n",
       "         [-2.4119, -2.6355, -1.0821]]])"
      ]
     },
     "execution_count": null,
     "metadata": {},
     "output_type": "execute_result"
    }
   ],
   "source": [
    "preds_items([0]).mean - preds_items([0]).mean"
   ]
  },
  {
   "cell_type": "code",
   "execution_count": null,
   "id": "c9333c05-6e80-4c44-b56d-56eb8c161226",
   "metadata": {},
   "outputs": [],
   "source": [
    "test_close(learn.model(input).mean, learn.model(input).mean)"
   ]
  },
  {
   "cell_type": "code",
   "execution_count": null,
   "id": "0248a8b9-d3d3-4e69-8865-26fd508acf54",
   "metadata": {},
   "outputs": [
    {
     "data": {
      "text/html": [
       "\n",
       "<style>\n",
       "    /* Turns off some styling */\n",
       "    progress {\n",
       "        /* gets rid of default border in Firefox and Opera. */\n",
       "        border: none;\n",
       "        /* Needs to be in here for Safari polyfill so background images work as expected. */\n",
       "        background-size: auto;\n",
       "    }\n",
       "    progress:not([value]), progress:not([value])::-webkit-progress-bar {\n",
       "        background: repeating-linear-gradient(45deg, #7e7e7e, #7e7e7e 10px, #5c5c5c 10px, #5c5c5c 20px);\n",
       "    }\n",
       "    .progress-bar-interrupted, .progress-bar-interrupted::-webkit-progress-bar {\n",
       "        background: #F44336;\n",
       "    }\n",
       "</style>\n"
      ],
      "text/plain": [
       "<IPython.core.display.HTML object>"
      ]
     },
     "metadata": {},
     "output_type": "display_data"
    },
    {
     "data": {
      "text/html": [],
      "text/plain": [
       "<IPython.core.display.HTML object>"
      ]
     },
     "metadata": {},
     "output_type": "display_data"
    },
    {
     "data": {
      "text/plain": [
       "__main__.NormalsParams(mean=tensor([[[ 1.0845,  1.5834,  0.5826],\n",
       "         [-2.1368, -1.6244, -0.6735],\n",
       "         [-2.1112, -1.4332, -0.6464],\n",
       "         [-2.0226, -1.3335, -0.6023],\n",
       "         [-1.9934, -1.3043, -0.5897],\n",
       "         [-1.9881, -1.3006, -0.5876],\n",
       "         [-2.6924, -2.1574, -0.9234],\n",
       "         [-4.5224, -4.0704, -1.7255],\n",
       "         [-2.0450, -1.4475, -0.6236],\n",
       "         [-1.9620, -1.2853, -0.5795]]]), std=tensor([[[ 2.9874,  2.9823,  1.7969],\n",
       "         [ 2.6119,  2.6208,  1.7767],\n",
       "         [ 2.6634,  2.7117,  1.7933],\n",
       "         [ 2.6638,  2.7120,  1.7934],\n",
       "         [ 2.6638,  2.7120,  1.7934],\n",
       "         [ 2.6638,  2.7120,  1.7934],\n",
       "         [ 6.7237,  6.9196,  3.2179],\n",
       "         [16.0926, 16.3718,  7.0920],\n",
       "         [ 2.6622,  2.7148,  1.7932],\n",
       "         [ 2.6641,  2.7124,  1.7935]]]))"
      ]
     },
     "execution_count": null,
     "metadata": {},
     "output_type": "execute_result"
    }
   ],
   "source": [
    "preds_items([0])"
   ]
  },
  {
   "cell_type": "code",
   "execution_count": null,
   "id": "00d55f46-1b3f-4ed0-b75a-526a95801a90",
   "metadata": {},
   "outputs": [
    {
     "data": {
      "text/html": [
       "\n",
       "<style>\n",
       "    /* Turns off some styling */\n",
       "    progress {\n",
       "        /* gets rid of default border in Firefox and Opera. */\n",
       "        border: none;\n",
       "        /* Needs to be in here for Safari polyfill so background images work as expected. */\n",
       "        background-size: auto;\n",
       "    }\n",
       "    progress:not([value]), progress:not([value])::-webkit-progress-bar {\n",
       "        background: repeating-linear-gradient(45deg, #7e7e7e, #7e7e7e 10px, #5c5c5c 10px, #5c5c5c 20px);\n",
       "    }\n",
       "    .progress-bar-interrupted, .progress-bar-interrupted::-webkit-progress-bar {\n",
       "        background: #F44336;\n",
       "    }\n",
       "</style>\n"
      ],
      "text/plain": [
       "<IPython.core.display.HTML object>"
      ]
     },
     "metadata": {},
     "output_type": "display_data"
    },
    {
     "data": {
      "text/html": [],
      "text/plain": [
       "<IPython.core.display.HTML object>"
      ]
     },
     "metadata": {},
     "output_type": "display_data"
    },
    {
     "name": "stdout",
     "output_type": "stream",
     "text": [
      "decoding\n"
     ]
    }
   ],
   "source": [
    "preds, targs, losses = custom_predict(learn, [0,110,200])"
   ]
  },
  {
   "cell_type": "code",
   "execution_count": null,
   "id": "de2b3d5a-88f8-463d-8cec-4a71d8df1675",
   "metadata": {},
   "outputs": [
    {
     "data": {
      "text/html": [
       "<div>\n",
       "<style scoped>\n",
       "    .dataframe tbody tr th:only-of-type {\n",
       "        vertical-align: middle;\n",
       "    }\n",
       "\n",
       "    .dataframe tbody tr th {\n",
       "        vertical-align: top;\n",
       "    }\n",
       "\n",
       "    .dataframe thead th {\n",
       "        text-align: right;\n",
       "    }\n",
       "</style>\n",
       "<table border=\"1\" class=\"dataframe\">\n",
       "  <thead>\n",
       "    <tr style=\"text-align: right;\">\n",
       "      <th></th>\n",
       "      <th>TA</th>\n",
       "      <th>SW_IN</th>\n",
       "      <th>VPD</th>\n",
       "    </tr>\n",
       "    <tr>\n",
       "      <th>time</th>\n",
       "      <th></th>\n",
       "      <th></th>\n",
       "      <th></th>\n",
       "    </tr>\n",
       "  </thead>\n",
       "  <tbody>\n",
       "    <tr>\n",
       "      <th>2000-01-23 22:30:00</th>\n",
       "      <td>21.271610</td>\n",
       "      <td>565.400269</td>\n",
       "      <td>6.531728</td>\n",
       "    </tr>\n",
       "    <tr>\n",
       "      <th>2000-01-23 23:00:00</th>\n",
       "      <td>18.597784</td>\n",
       "      <td>496.855865</td>\n",
       "      <td>6.458384</td>\n",
       "    </tr>\n",
       "    <tr>\n",
       "      <th>2000-01-23 23:30:00</th>\n",
       "      <td>18.964550</td>\n",
       "      <td>514.089478</td>\n",
       "      <td>6.518624</td>\n",
       "    </tr>\n",
       "    <tr>\n",
       "      <th>2000-01-24 00:00:00</th>\n",
       "      <td>18.967861</td>\n",
       "      <td>514.141602</td>\n",
       "      <td>6.519216</td>\n",
       "    </tr>\n",
       "    <tr>\n",
       "      <th>2000-01-24 00:30:00</th>\n",
       "      <td>18.967855</td>\n",
       "      <td>514.140808</td>\n",
       "      <td>6.519212</td>\n",
       "    </tr>\n",
       "    <tr>\n",
       "      <th>2000-01-24 01:00:00</th>\n",
       "      <td>18.967848</td>\n",
       "      <td>514.140747</td>\n",
       "      <td>6.519211</td>\n",
       "    </tr>\n",
       "    <tr>\n",
       "      <th>2000-01-24 01:30:00</th>\n",
       "      <td>18.967836</td>\n",
       "      <td>514.140381</td>\n",
       "      <td>6.519209</td>\n",
       "    </tr>\n",
       "    <tr>\n",
       "      <th>2000-01-24 02:00:00</th>\n",
       "      <td>47.876350</td>\n",
       "      <td>1311.831665</td>\n",
       "      <td>11.697318</td>\n",
       "    </tr>\n",
       "    <tr>\n",
       "      <th>2000-01-24 02:30:00</th>\n",
       "      <td>114.587265</td>\n",
       "      <td>3103.807617</td>\n",
       "      <td>25.779840</td>\n",
       "    </tr>\n",
       "    <tr>\n",
       "      <th>2000-01-24 03:00:00</th>\n",
       "      <td>18.983639</td>\n",
       "      <td>515.534485</td>\n",
       "      <td>6.522296</td>\n",
       "    </tr>\n",
       "  </tbody>\n",
       "</table>\n",
       "</div>"
      ],
      "text/plain": [
       "                             TA        SW_IN        VPD\n",
       "time                                                   \n",
       "2000-01-23 22:30:00   21.271610   565.400269   6.531728\n",
       "2000-01-23 23:00:00   18.597784   496.855865   6.458384\n",
       "2000-01-23 23:30:00   18.964550   514.089478   6.518624\n",
       "2000-01-24 00:00:00   18.967861   514.141602   6.519216\n",
       "2000-01-24 00:30:00   18.967855   514.140808   6.519212\n",
       "2000-01-24 01:00:00   18.967848   514.140747   6.519211\n",
       "2000-01-24 01:30:00   18.967836   514.140381   6.519209\n",
       "2000-01-24 02:00:00   47.876350  1311.831665  11.697318\n",
       "2000-01-24 02:30:00  114.587265  3103.807617  25.779840\n",
       "2000-01-24 03:00:00   18.983639   515.534485   6.522296"
      ]
     },
     "execution_count": null,
     "metadata": {},
     "output_type": "execute_result"
    }
   ],
   "source": [
    "preds[1].mean"
   ]
  },
  {
   "cell_type": "code",
   "execution_count": null,
   "id": "0a57924c-feb6-47af-9fe3-4ce5983d6db9",
   "metadata": {},
   "outputs": [
    {
     "data": {
      "text/plain": [
       "array([[-5.6584826e+00, -1.5712631e+02, -1.5584517e+00],\n",
       "       [-2.5921778e+01, -6.9673059e+02, -6.0508251e+00],\n",
       "       [-2.6105961e+01, -6.7771338e+02, -6.0127811e+00],\n",
       "       [-2.5478497e+01, -6.5886072e+02, -5.8529940e+00],\n",
       "       [-2.5270941e+01, -6.5331506e+02, -5.8073034e+00],\n",
       "       [-2.5233042e+01, -6.5262305e+02, -5.7996802e+00],\n",
       "       [-2.5083574e+01, -6.4902661e+02, -5.7687454e+00],\n",
       "       [-5.8824921e+01, -1.6040135e+03, -1.2126036e+01],\n",
       "       [-1.3812679e+02, -3.7466855e+03, -2.9026869e+01],\n",
       "       [-2.5544104e+01, -6.7928162e+02, -5.9111185e+00]], dtype=float32)"
      ]
     },
     "execution_count": null,
     "metadata": {},
     "output_type": "execute_result"
    }
   ],
   "source": [
    "preds[0].mean.to_numpy() - preds[1].mean.to_numpy()"
   ]
  },
  {
   "cell_type": "code",
   "execution_count": null,
   "id": "22da5a29-3cd0-4ac8-a472-57a39456fc3f",
   "metadata": {},
   "outputs": [],
   "source": []
  },
  {
   "cell_type": "code",
   "execution_count": null,
   "id": "01c273e7-e10f-476e-8b97-b9da33fbce9c",
   "metadata": {},
   "outputs": [
    {
     "ename": "NameError",
     "evalue": "name 'tfms_targs' is not defined",
     "output_type": "error",
     "traceback": [
      "\u001b[0;31m---------------------------------------------------------------------------\u001b[0m",
      "\u001b[0;31mNameError\u001b[0m                                 Traceback (most recent call last)",
      "Input \u001b[0;32mIn [752]\u001b[0m, in \u001b[0;36m<cell line: 1>\u001b[0;34m()\u001b[0m\n\u001b[0;32m----> 1\u001b[0m \u001b[43mtfms_targs\u001b[49m, tfms\n",
      "\u001b[0;31mNameError\u001b[0m: name 'tfms_targs' is not defined"
     ]
    }
   ],
   "source": [
    "tfms_targs, tfms"
   ]
  },
  {
   "cell_type": "code",
   "execution_count": null,
   "id": "e11a8167-671e-45cb-898c-b7b793f6b797",
   "metadata": {},
   "outputs": [
    {
     "data": {
      "text/plain": [
       "tensor([[ True,  True,  True],\n",
       "        [ True,  True,  True],\n",
       "        [ True,  True,  True],\n",
       "        [False, False,  True],\n",
       "        [False, False,  True],\n",
       "        [False, False,  True],\n",
       "        [False, False,  True],\n",
       "        [ True,  True,  True],\n",
       "        [ True,  True,  True],\n",
       "        [ True,  True,  True]])"
      ]
     },
     "execution_count": null,
     "metadata": {},
     "output_type": "execute_result"
    }
   ],
   "source": [
    "tfms4(0).mask == tfms4(0).mask"
   ]
  },
  {
   "cell_type": "markdown",
   "id": "65d7dbe0-51c6-4ccf-967a-9f3e1fc5c250",
   "metadata": {},
   "source": [
    "This was an Horrible idea!!!!!"
   ]
  },
  {
   "cell_type": "code",
   "execution_count": null,
   "id": "036aa755-553a-439a-9c11-350f4573969d",
   "metadata": {},
   "outputs": [],
   "source": [
    "pipe0, pipe1 = tfms4.fs[0,1], tfms4.fs[2,3] "
   ]
  },
  {
   "cell_type": "code",
   "execution_count": null,
   "id": "5cf9d9b7-ac34-4696-b25f-278d531c0cfa",
   "metadata": {},
   "outputs": [
    {
     "data": {
      "text/plain": [
       "((#2) [BlockDfTransform:\n",
       "encodes: (int,object) -> encodes\n",
       "decodes: ,AddGapTransform:\n",
       "encodes: (DataFrame,object) -> encodes\n",
       "decodes: ],\n",
       " (#2) [MaskedDf2Tensor:\n",
       "encodes: (MaskedDf,object) -> encodes\n",
       "decodes: (MaskedTensor,object) -> decodes\n",
       ",NormalizeMasked -- {'mean': tensor([  8.3339, 120.9578,   3.3807]), 'std': tensor([  7.9246, 204.0026,   4.3684])}:\n",
       "encodes: (MaskedTensor,object) -> encodes\n",
       "decodes: (MaskedTensor,object) -> decodes\n",
       "(NormalsParams,object) -> decodes\n",
       "])"
      ]
     },
     "execution_count": null,
     "metadata": {},
     "output_type": "execute_result"
    }
   ],
   "source": [
    "pipe0, pipe1"
   ]
  },
  {
   "cell_type": "code",
   "execution_count": null,
   "id": "cf960d43-fb33-4c48-af07-32ec9a765b2a",
   "metadata": {},
   "outputs": [],
   "source": [
    "item = 1"
   ]
  },
  {
   "cell_type": "code",
   "execution_count": null,
   "id": "43fc7416-d6a1-4376-8d2b-1948b525fee1",
   "metadata": {},
   "outputs": [],
   "source": [
    "def preds2df(preds, targs):\n",
    "    \"\"\"Final step to decode preds by getting a dataframe\"\"\"\n",
    "    # preds this is a tuple (data, mask)\n",
    "    out = []\n",
    "    for pred, targ in zip(preds, targs):\n",
    "        # convert to dataframe using structure for\n",
    "        mean = pd.DataFrame(pred[0].squeeze(0).detach().cpu().numpy(), columns = targ.data.columns, index=targ.data.index)\n",
    "        std = pd.DataFrame(pred[1].squeeze(0).detach().cpu().numpy(), columns = targ.data.columns, index=targ.data.index)\n",
    "        out.append(NormalsDf(mean, std))\n",
    "    return out"
   ]
  },
  {
   "cell_type": "code",
   "execution_count": null,
   "id": "b45a64ab-60b0-4f48-8df8-6ee40055ba14",
   "metadata": {},
   "outputs": [],
   "source": [
    "def predict_items(items, learn, pipe0, pipe1):\n",
    "    pipe0, pipe1 = Pipeline(pipe0), Pipeline(pipe1)\n",
    "    preds, targs, losses = [], [], []\n",
    "    for item in items:\n",
    "        targ = pipe0(item)\n",
    "        data, mask = pipe1(targ)\n",
    "        input = MaskedTensor(data.cuda().unsqueeze(0), mask.cuda().unsqueeze(0))\n",
    "        pred = model(input)\n",
    "        loss = learn.loss_func(pred, input)\n",
    "        # denormalize\n",
    "        pred = pipe1.decode(pred)\n",
    "        preds.append(pred), targs.append(targ), losses.append(loss)\n",
    "        \n",
    "    return preds2df(preds, targs), targs, losses\n",
    "        "
   ]
  },
  {
   "cell_type": "code",
   "execution_count": null,
   "id": "b69146c1-1df0-407f-8746-5997f297b687",
   "metadata": {},
   "outputs": [
    {
     "name": "stdout",
     "output_type": "stream",
     "text": [
      "decoding\n",
      "decoding\n",
      "decoding\n"
     ]
    }
   ],
   "source": [
    "preds, targs, losses = predict_items([0,1,3], learn, pipe0, pipe1)"
   ]
  },
  {
   "cell_type": "markdown",
   "id": "cccfc6c6-b667-4448-83b1-ac5826e5b76c",
   "metadata": {},
   "source": [
    "this is the same dataaaaaa"
   ]
  },
  {
   "cell_type": "code",
   "execution_count": null,
   "id": "0b1c488f-cec4-41c0-985b-08ef798eb689",
   "metadata": {},
   "outputs": [
    {
     "name": "stdout",
     "output_type": "stream",
     "text": [
      "decoding\n",
      "decoding\n"
     ]
    },
    {
     "data": {
      "text/html": [
       "<div>\n",
       "<style scoped>\n",
       "    .dataframe tbody tr th:only-of-type {\n",
       "        vertical-align: middle;\n",
       "    }\n",
       "\n",
       "    .dataframe tbody tr th {\n",
       "        vertical-align: top;\n",
       "    }\n",
       "\n",
       "    .dataframe thead th {\n",
       "        text-align: right;\n",
       "    }\n",
       "</style>\n",
       "<table border=\"1\" class=\"dataframe\">\n",
       "  <thead>\n",
       "    <tr style=\"text-align: right;\">\n",
       "      <th></th>\n",
       "      <th>TA</th>\n",
       "      <th>SW_IN</th>\n",
       "      <th>VPD</th>\n",
       "    </tr>\n",
       "    <tr>\n",
       "      <th>time</th>\n",
       "      <th></th>\n",
       "      <th></th>\n",
       "      <th></th>\n",
       "    </tr>\n",
       "  </thead>\n",
       "  <tbody>\n",
       "    <tr>\n",
       "      <th>2000-01-01 00:30:00</th>\n",
       "      <td>True</td>\n",
       "      <td>True</td>\n",
       "      <td>True</td>\n",
       "    </tr>\n",
       "    <tr>\n",
       "      <th>2000-01-01 01:00:00</th>\n",
       "      <td>True</td>\n",
       "      <td>True</td>\n",
       "      <td>True</td>\n",
       "    </tr>\n",
       "    <tr>\n",
       "      <th>2000-01-01 01:30:00</th>\n",
       "      <td>True</td>\n",
       "      <td>True</td>\n",
       "      <td>True</td>\n",
       "    </tr>\n",
       "    <tr>\n",
       "      <th>2000-01-01 02:00:00</th>\n",
       "      <td>True</td>\n",
       "      <td>True</td>\n",
       "      <td>True</td>\n",
       "    </tr>\n",
       "    <tr>\n",
       "      <th>2000-01-01 02:30:00</th>\n",
       "      <td>True</td>\n",
       "      <td>True</td>\n",
       "      <td>True</td>\n",
       "    </tr>\n",
       "    <tr>\n",
       "      <th>2000-01-01 03:00:00</th>\n",
       "      <td>True</td>\n",
       "      <td>True</td>\n",
       "      <td>True</td>\n",
       "    </tr>\n",
       "    <tr>\n",
       "      <th>2000-01-01 03:30:00</th>\n",
       "      <td>True</td>\n",
       "      <td>True</td>\n",
       "      <td>True</td>\n",
       "    </tr>\n",
       "    <tr>\n",
       "      <th>2000-01-01 04:00:00</th>\n",
       "      <td>True</td>\n",
       "      <td>True</td>\n",
       "      <td>True</td>\n",
       "    </tr>\n",
       "    <tr>\n",
       "      <th>2000-01-01 04:30:00</th>\n",
       "      <td>True</td>\n",
       "      <td>True</td>\n",
       "      <td>True</td>\n",
       "    </tr>\n",
       "    <tr>\n",
       "      <th>2000-01-01 05:00:00</th>\n",
       "      <td>True</td>\n",
       "      <td>True</td>\n",
       "      <td>True</td>\n",
       "    </tr>\n",
       "  </tbody>\n",
       "</table>\n",
       "</div>"
      ],
      "text/plain": [
       "                       TA  SW_IN   VPD\n",
       "time                                  \n",
       "2000-01-01 00:30:00  True   True  True\n",
       "2000-01-01 01:00:00  True   True  True\n",
       "2000-01-01 01:30:00  True   True  True\n",
       "2000-01-01 02:00:00  True   True  True\n",
       "2000-01-01 02:30:00  True   True  True\n",
       "2000-01-01 03:00:00  True   True  True\n",
       "2000-01-01 03:30:00  True   True  True\n",
       "2000-01-01 04:00:00  True   True  True\n",
       "2000-01-01 04:30:00  True   True  True\n",
       "2000-01-01 05:00:00  True   True  True"
      ]
     },
     "execution_count": null,
     "metadata": {},
     "output_type": "execute_result"
    }
   ],
   "source": [
    "predict_items([0], learn, pipe0, pipe1)[1][0].data == predict_items([0], learn, pipe0, pipe1)[1][0].data"
   ]
  },
  {
   "cell_type": "code",
   "execution_count": null,
   "id": "3a02bd75-d6cb-460a-b05a-0835b75bdffb",
   "metadata": {},
   "outputs": [
    {
     "data": {
      "text/plain": [
       "tensor([[[ 1.6928e+01,  4.4397e+02,  5.9255e+00],\n",
       "         [-7.8420e+00, -1.9373e+02,  6.0494e-01],\n",
       "         [-7.6738e+00, -1.5710e+02,  7.0982e-01],\n",
       "         [-7.0250e+00, -1.3825e+02,  8.8854e-01],\n",
       "         [-6.8115e+00, -1.3269e+02,  9.3944e-01],\n",
       "         [-1.1764e+01, -2.8860e+02, -3.6598e-01],\n",
       "         [-2.4670e+01, -6.3621e+02, -3.4856e+00],\n",
       "         [-7.2074e+00, -1.6005e+02,  7.9891e-01],\n",
       "         [-6.7074e+00, -1.3211e+02,  9.5261e-01],\n",
       "         [-6.4650e+00, -1.2542e+02,  1.0145e+00]]], device='cuda:0',\n",
       "       grad_fn=<AddBackward0>)"
      ]
     },
     "execution_count": null,
     "metadata": {},
     "output_type": "execute_result"
    }
   ],
   "source": [
    "preds[0][0]"
   ]
  },
  {
   "cell_type": "code",
   "execution_count": null,
   "id": "389d1968-2b1c-4940-a52c-a8556ab45aad",
   "metadata": {},
   "outputs": [
    {
     "data": {
      "text/plain": [
       "tensor(-44.1597, device='cuda:0', grad_fn=<SumBackward0>)"
      ]
     },
     "execution_count": null,
     "metadata": {},
     "output_type": "execute_result"
    }
   ],
   "source": [
    "loss"
   ]
  },
  {
   "cell_type": "code",
   "execution_count": null,
   "id": "ff8b8229-95e0-4fdd-93db-e0d03171729b",
   "metadata": {},
   "outputs": [
    {
     "data": {
      "text/plain": [
       "torch.Size([1, 10, 3])"
      ]
     },
     "execution_count": null,
     "metadata": {},
     "output_type": "execute_result"
    }
   ],
   "source": [
    "pred.mean.shape"
   ]
  },
  {
   "cell_type": "code",
   "execution_count": null,
   "id": "95499019-6ec0-4c0a-a012-c927c4e2c8d6",
   "metadata": {},
   "outputs": [
    {
     "data": {
      "text/plain": [
       "torch.Size([1, 10, 3])"
      ]
     },
     "execution_count": null,
     "metadata": {},
     "output_type": "execute_result"
    }
   ],
   "source": [
    "pred.std.shape"
   ]
  },
  {
   "cell_type": "code",
   "execution_count": null,
   "id": "c2e02f56-a88e-4c93-adbf-d7ab28242ecc",
   "metadata": {},
   "outputs": [
    {
     "data": {
      "text/plain": [
       "(__main__.MaskedDf(data=                       TA  SW_IN    VPD\n",
       " time                                   \n",
       " 2000-01-01 05:30:00 -0.23   0.00  0.138\n",
       " 2000-01-01 06:00:00 -0.23   0.00  0.122\n",
       " 2000-01-01 06:30:00 -0.22   0.00  0.098\n",
       " 2000-01-01 07:00:00 -0.24   0.00  0.066\n",
       " 2000-01-01 07:30:00 -0.23   0.00  0.044\n",
       " 2000-01-01 08:00:00 -0.22   0.00  0.026\n",
       " 2000-01-01 08:30:00 -0.19   0.45  0.016\n",
       " 2000-01-01 09:00:00 -0.14   3.70  0.010\n",
       " 2000-01-01 09:30:00 -0.03   7.26  0.006\n",
       " 2000-01-01 10:00:00  0.04  12.24  0.006, mask=                        TA  SW_IN   VPD\n",
       " time                                   \n",
       " 2000-01-01 05:30:00   True   True  True\n",
       " 2000-01-01 06:00:00   True   True  True\n",
       " 2000-01-01 06:30:00   True   True  True\n",
       " 2000-01-01 07:00:00  False  False  True\n",
       " 2000-01-01 07:30:00  False  False  True\n",
       " 2000-01-01 08:00:00   True   True  True\n",
       " 2000-01-01 08:30:00   True   True  True\n",
       " 2000-01-01 09:00:00   True   True  True\n",
       " 2000-01-01 09:30:00   True   True  True\n",
       " 2000-01-01 10:00:00   True   True  True),\n",
       " __main__.MaskedTensor(data=tensor([[[-1.0807, -0.5929, -0.7423],\n",
       "          [-1.0807, -0.5929, -0.7460],\n",
       "          [-1.0794, -0.5929, -0.7515],\n",
       "          [-1.0819, -0.5929, -0.7588],\n",
       "          [-1.0807, -0.5929, -0.7638],\n",
       "          [-1.0794, -0.5929, -0.7679],\n",
       "          [-1.0756, -0.5907, -0.7702],\n",
       "          [-1.0693, -0.5748, -0.7716],\n",
       "          [-1.0554, -0.5573, -0.7725],\n",
       "          [-1.0466, -0.5329, -0.7725]]], device='cuda:0'), mask=tensor([[[ True,  True,  True],\n",
       "          [ True,  True,  True],\n",
       "          [ True,  True,  True],\n",
       "          [False, False,  True],\n",
       "          [False, False,  True],\n",
       "          [ True,  True,  True],\n",
       "          [ True,  True,  True],\n",
       "          [ True,  True,  True],\n",
       "          [ True,  True,  True],\n",
       "          [ True,  True,  True]]], device='cuda:0')))"
      ]
     },
     "execution_count": null,
     "metadata": {},
     "output_type": "execute_result"
    }
   ],
   "source": [
    "targs, input"
   ]
  },
  {
   "cell_type": "code",
   "execution_count": null,
   "id": "88372193-8b09-4e18-93c4-9fbda84b1bdd",
   "metadata": {},
   "outputs": [
    {
     "data": {
      "text/plain": [
       "\u001b[0;31mSignature:\u001b[0m \u001b[0mfa_collate\u001b[0m\u001b[0;34m(\u001b[0m\u001b[0mt\u001b[0m\u001b[0;34m)\u001b[0m\u001b[0;34m\u001b[0m\u001b[0;34m\u001b[0m\u001b[0m\n",
       "\u001b[0;31mSource:\u001b[0m   \n",
       "\u001b[0;32mdef\u001b[0m \u001b[0mfa_collate\u001b[0m\u001b[0;34m(\u001b[0m\u001b[0mt\u001b[0m\u001b[0;34m)\u001b[0m\u001b[0;34m:\u001b[0m\u001b[0;34m\u001b[0m\n",
       "\u001b[0;34m\u001b[0m    \u001b[0;34m\"A replacement for PyTorch `default_collate` which maintains types and handles `Sequence`s\"\u001b[0m\u001b[0;34m\u001b[0m\n",
       "\u001b[0;34m\u001b[0m    \u001b[0mb\u001b[0m \u001b[0;34m=\u001b[0m \u001b[0mt\u001b[0m\u001b[0;34m[\u001b[0m\u001b[0;36m0\u001b[0m\u001b[0;34m]\u001b[0m\u001b[0;34m\u001b[0m\n",
       "\u001b[0;34m\u001b[0m    \u001b[0;32mreturn\u001b[0m \u001b[0;34m(\u001b[0m\u001b[0mdefault_collate\u001b[0m\u001b[0;34m(\u001b[0m\u001b[0mt\u001b[0m\u001b[0;34m)\u001b[0m \u001b[0;32mif\u001b[0m \u001b[0misinstance\u001b[0m\u001b[0;34m(\u001b[0m\u001b[0mb\u001b[0m\u001b[0;34m,\u001b[0m \u001b[0m_collate_types\u001b[0m\u001b[0;34m)\u001b[0m\u001b[0;34m\u001b[0m\n",
       "\u001b[0;34m\u001b[0m            \u001b[0;32melse\u001b[0m \u001b[0mtype\u001b[0m\u001b[0;34m(\u001b[0m\u001b[0mt\u001b[0m\u001b[0;34m[\u001b[0m\u001b[0;36m0\u001b[0m\u001b[0;34m]\u001b[0m\u001b[0;34m)\u001b[0m\u001b[0;34m(\u001b[0m\u001b[0;34m[\u001b[0m\u001b[0mfa_collate\u001b[0m\u001b[0;34m(\u001b[0m\u001b[0ms\u001b[0m\u001b[0;34m)\u001b[0m \u001b[0;32mfor\u001b[0m \u001b[0ms\u001b[0m \u001b[0;32min\u001b[0m \u001b[0mzip\u001b[0m\u001b[0;34m(\u001b[0m\u001b[0;34m*\u001b[0m\u001b[0mt\u001b[0m\u001b[0;34m)\u001b[0m\u001b[0;34m]\u001b[0m\u001b[0;34m)\u001b[0m \u001b[0;32mif\u001b[0m \u001b[0misinstance\u001b[0m\u001b[0;34m(\u001b[0m\u001b[0mb\u001b[0m\u001b[0;34m,\u001b[0m \u001b[0mSequence\u001b[0m\u001b[0;34m)\u001b[0m\u001b[0;34m\u001b[0m\n",
       "\u001b[0;34m\u001b[0m            \u001b[0;32melse\u001b[0m \u001b[0mdefault_collate\u001b[0m\u001b[0;34m(\u001b[0m\u001b[0mt\u001b[0m\u001b[0;34m)\u001b[0m\u001b[0;34m)\u001b[0m\u001b[0;34m\u001b[0m\u001b[0;34m\u001b[0m\u001b[0m\n",
       "\u001b[0;31mFile:\u001b[0m      ~/anaconda3/envs/data-science/lib/python3.10/site-packages/fastai/data/load.py\n",
       "\u001b[0;31mType:\u001b[0m      function\n"
      ]
     },
     "metadata": {},
     "output_type": "display_data"
    }
   ],
   "source": [
    "fa_collate??"
   ]
  },
  {
   "cell_type": "code",
   "execution_count": null,
   "id": "d6981562-dfdb-4dbb-946e-48fa7e28306b",
   "metadata": {},
   "outputs": [],
   "source": [
    "def custom_predict2(learn, items):\n",
    "    targs = list(TfmdLists(items, learn.dls.fs[1][0,1])) # no need to decode\n",
    "    dl = learn.dls.test_dl(items, with_labels=True, num_workers=0)\n",
    "    inputs, loss_targs = dl.one_batch() \n",
    "    preds = learn.model(inputs)\n",
    "    with learn.loss_not_reduced():\n",
    "        losses = learn.loss_func(preds, loss_targs)\n",
    "    \n",
    "    preds = learn.dls.fs[0][-2].decode(preds)\n",
    "    return preds, loss\n",
    "    return preds2df(preds, targs), targs, losses"
   ]
  },
  {
   "cell_type": "code",
   "execution_count": null,
   "id": "5f1b465e-fb01-491c-a6c4-6a843639d310",
   "metadata": {},
   "outputs": [
    {
     "name": "stdout",
     "output_type": "stream",
     "text": [
      "decoding\n"
     ]
    }
   ],
   "source": [
    "preds, targs, losses = custom_predict2(learn, [0,110,200])"
   ]
  },
  {
   "cell_type": "code",
   "execution_count": null,
   "id": "26a7f40b-5c99-48bf-8356-da7c369d71e8",
   "metadata": {},
   "outputs": [],
   "source": [
    "items = [1,100]"
   ]
  },
  {
   "cell_type": "code",
   "execution_count": null,
   "id": "976b22f0-2195-4b9a-830e-f1e53bf0f34a",
   "metadata": {},
   "outputs": [],
   "source": [
    "inputs, loss_targs = dl.one_batch()"
   ]
  },
  {
   "cell_type": "code",
   "execution_count": null,
   "id": "4009fc94-00ca-48e2-b27b-b3130bfaf57c",
   "metadata": {},
   "outputs": [
    {
     "data": {
      "text/plain": [
       "__main__.NormalsParams(mean=tensor([[[-1.7114, -0.8861, -1.2593],\n",
       "         [-1.1359, -0.5130, -2.0515],\n",
       "         [-0.5994, -0.5551, -1.4270],\n",
       "         [-1.2965, -0.7579, -0.9387],\n",
       "         [-1.5294, -0.7284, -1.2223],\n",
       "         [-1.4666, -0.7303, -1.1573],\n",
       "         [-1.4804, -0.7346, -1.1799],\n",
       "         [-1.4842, -0.7376, -1.1964],\n",
       "         [-1.5438, -0.7937, -1.2960],\n",
       "         [-1.7521, -0.9268, -1.5685]],\n",
       "\n",
       "        [[-2.4304, -0.8768, -1.5493],\n",
       "         [-1.6591, -0.6981, -0.6923],\n",
       "         [-1.5964, -0.6694, -0.6369],\n",
       "         [-1.6627, -0.7449, -0.7344],\n",
       "         [-1.8259, -0.8049, -0.8953],\n",
       "         [-0.9698, -0.3807, -1.8680],\n",
       "         [-0.4263, -0.5096, -1.2325],\n",
       "         [-1.4205, -0.7730, -0.5457],\n",
       "         [-1.8093, -0.8115, -1.1088],\n",
       "         [-1.9225, -0.9265, -1.2887]]], device='cuda:0',\n",
       "       grad_fn=<SqueezeBackward1>), std=tensor([[[1.2225, 1.1840, 1.6276],\n",
       "         [1.5016, 1.2724, 2.0035],\n",
       "         [1.4686, 1.2079, 1.9739],\n",
       "         [1.2554, 1.1582, 1.6938],\n",
       "         [1.2362, 1.1562, 1.6709],\n",
       "         [1.2359, 1.1561, 1.6705],\n",
       "         [1.2359, 1.1561, 1.6705],\n",
       "         [1.2361, 1.1563, 1.6707],\n",
       "         [1.2379, 1.1572, 1.6735],\n",
       "         [1.4264, 1.3063, 1.9290]],\n",
       "\n",
       "        [[1.1830, 1.1499, 1.5739],\n",
       "         [1.2342, 1.1559, 1.6685],\n",
       "         [1.2358, 1.1562, 1.6704],\n",
       "         [1.2361, 1.1563, 1.6709],\n",
       "         [1.2789, 1.1937, 1.7275],\n",
       "         [1.5108, 1.2745, 2.0149],\n",
       "         [1.4703, 1.2081, 1.9759],\n",
       "         [1.2547, 1.1579, 1.6929],\n",
       "         [1.2383, 1.1573, 1.6740],\n",
       "         [1.4264, 1.3063, 1.9291]]], device='cuda:0', grad_fn=<SqrtBackward0>))"
      ]
     },
     "execution_count": null,
     "metadata": {},
     "output_type": "execute_result"
    }
   ],
   "source": [
    "learn.model(inputs)"
   ]
  },
  {
   "cell_type": "code",
   "execution_count": null,
   "id": "62decb7f-ea69-4b43-9251-9abf6d8ab4ea",
   "metadata": {},
   "outputs": [
    {
     "data": {
      "text/plain": [
       "__main__.NormalsParams(mean=tensor([[[-1.5372, -0.7658, -1.0604],\n",
       "         [-1.5186, -0.7225, -1.1955],\n",
       "         [-1.4665, -0.7288, -1.1409],\n",
       "         [-1.4799, -0.7291, -1.1611],\n",
       "         [-1.5297, -0.7777, -1.2348],\n",
       "         [-1.6486, -0.8343, -1.3761],\n",
       "         [-1.0602, -0.5132, -1.9576],\n",
       "         [-0.6387, -0.5718, -1.4714],\n",
       "         [-1.3740, -0.8243, -1.0856],\n",
       "         [-1.7910, -0.9128, -1.6092]],\n",
       "\n",
       "        [[-2.4331, -0.8792, -1.5528],\n",
       "         [-1.6594, -0.6962, -0.6937],\n",
       "         [-1.6795, -0.7467, -0.7479],\n",
       "         [-1.8170, -0.8012, -0.9061],\n",
       "         [-0.9426, -0.3630, -1.8333],\n",
       "         [-0.3904, -0.4925, -1.1905],\n",
       "         [-1.4118, -0.7552, -0.4231],\n",
       "         [-1.7220, -0.7194, -0.9124],\n",
       "         [-1.7146, -0.8121, -1.0015],\n",
       "         [-1.9293, -0.9189, -1.2938]]], device='cuda:0',\n",
       "       grad_fn=<SqueezeBackward1>), std=tensor([[[1.1830, 1.1499, 1.5739],\n",
       "         [1.2342, 1.1559, 1.6685],\n",
       "         [1.2358, 1.1561, 1.6704],\n",
       "         [1.2359, 1.1562, 1.6705],\n",
       "         [1.2361, 1.1563, 1.6709],\n",
       "         [1.2789, 1.1937, 1.7275],\n",
       "         [1.5107, 1.2744, 2.0147],\n",
       "         [1.4694, 1.2076, 1.9750],\n",
       "         [1.2553, 1.1586, 1.6940],\n",
       "         [1.4269, 1.3065, 1.9297]],\n",
       "\n",
       "        [[1.1830, 1.1499, 1.5740],\n",
       "         [1.2342, 1.1559, 1.6686],\n",
       "         [1.2360, 1.1563, 1.6707],\n",
       "         [1.2789, 1.1937, 1.7275],\n",
       "         [1.5105, 1.2743, 2.0144],\n",
       "         [1.4685, 1.2071, 1.9735],\n",
       "         [1.2524, 1.1572, 1.6899],\n",
       "         [1.2363, 1.1563, 1.6710],\n",
       "         [1.2379, 1.1572, 1.6735],\n",
       "         [1.4264, 1.3063, 1.9290]]], device='cuda:0', grad_fn=<SqrtBackward0>))"
      ]
     },
     "execution_count": null,
     "metadata": {},
     "output_type": "execute_result"
    }
   ],
   "source": [
    "custom_predict2(learn, [1,100])"
   ]
  },
  {
   "cell_type": "code",
   "execution_count": null,
   "id": "c4e448fe-c780-4f1d-ae5d-542768aea2b3",
   "metadata": {},
   "outputs": [],
   "source": [
    "targs = list(TfmdLists(items, learn.dls.fs[1][0,1])) # no need to decode\n",
    "dl = learn.dls.test_dl(items, with_labels=True, num_workers=0)\n",
    "inputs, loss_targs = dl.one_batch() "
   ]
  },
  {
   "cell_type": "code",
   "execution_count": null,
   "id": "69a9d126-2f99-4dc9-81d8-4d80dcef510a",
   "metadata": {},
   "outputs": [
    {
     "data": {
      "text/plain": [
       "ListNormal(mean=tensor([[[-1.0498, -0.6091, -0.6871],\n",
       "         [-1.0529, -0.5194, -1.0048],\n",
       "         [-1.2414, -0.7677, -1.2048]],\n",
       "\n",
       "        [[-1.0498, -0.6091, -0.6871],\n",
       "         [-1.0533, -0.5198, -1.0054],\n",
       "         [-1.2448, -0.7702, -1.2080]],\n",
       "\n",
       "        [[-1.0490, -0.6088, -0.6864],\n",
       "         [-1.0537, -0.5203, -1.0060],\n",
       "         [-1.2500, -0.7739, -1.2128]],\n",
       "\n",
       "        [[-1.0507, -0.6094, -0.6878],\n",
       "         [-1.0550, -0.5211, -1.0078],\n",
       "         [-1.2569, -0.7789, -1.2193]],\n",
       "\n",
       "        [[-1.0499, -0.6091, -0.6871],\n",
       "         [-1.0553, -0.5216, -1.0083],\n",
       "         [-1.2616, -0.7822, -1.2236]],\n",
       "\n",
       "        [[-1.0490, -0.6088, -0.6864],\n",
       "         [-1.0556, -0.5220, -1.0087],\n",
       "         [-1.2654, -0.7850, -1.2272]],\n",
       "\n",
       "        [[-1.0462, -0.6076, -0.6841],\n",
       "         [-1.0543, -0.5216, -1.0079],\n",
       "         [-1.2672, -0.7865, -1.2287]],\n",
       "\n",
       "        [[-0.3913, -0.3265, -0.1204],\n",
       "         [-0.5732, -0.3722, -1.3540],\n",
       "         [-1.1949, -0.8926, -1.1536]],\n",
       "\n",
       "        [[-0.3913, -0.3266, -0.1205],\n",
       "         [-0.5734, -0.3724, -1.3543],\n",
       "         [-1.1958, -0.8933, -1.1545]],\n",
       "\n",
       "        [[-1.0224, -0.5962, -0.6624],\n",
       "         [-1.0277, -0.5088, -0.9926],\n",
       "         [-1.2596, -0.7871, -1.2186]]], device='cuda:0',\n",
       "       grad_fn=<SqueezeBackward1>), std=tensor([[[1.1832, 1.1500, 1.5742],\n",
       "         [1.2362, 1.1570, 1.6715],\n",
       "         [1.4262, 1.3062, 1.9289]],\n",
       "\n",
       "        [[1.1832, 1.1500, 1.5742],\n",
       "         [1.2362, 1.1570, 1.6715],\n",
       "         [1.4262, 1.3062, 1.9289]],\n",
       "\n",
       "        [[1.1832, 1.1500, 1.5742],\n",
       "         [1.2362, 1.1570, 1.6715],\n",
       "         [1.4262, 1.3062, 1.9289]],\n",
       "\n",
       "        [[1.1832, 1.1500, 1.5742],\n",
       "         [1.2362, 1.1570, 1.6715],\n",
       "         [1.4262, 1.3062, 1.9289]],\n",
       "\n",
       "        [[1.1832, 1.1500, 1.5742],\n",
       "         [1.2362, 1.1570, 1.6715],\n",
       "         [1.4262, 1.3062, 1.9289]],\n",
       "\n",
       "        [[1.1832, 1.1500, 1.5742],\n",
       "         [1.2362, 1.1570, 1.6715],\n",
       "         [1.4262, 1.3062, 1.9289]],\n",
       "\n",
       "        [[1.1832, 1.1500, 1.5742],\n",
       "         [1.2362, 1.1570, 1.6715],\n",
       "         [1.4262, 1.3062, 1.9289]],\n",
       "\n",
       "        [[1.5959, 1.2639, 1.8526],\n",
       "         [1.4692, 1.2085, 1.9840],\n",
       "         [1.4543, 1.3139, 1.9624]],\n",
       "\n",
       "        [[1.5959, 1.2639, 1.8526],\n",
       "         [1.4692, 1.2085, 1.9840],\n",
       "         [1.4543, 1.3139, 1.9624]],\n",
       "\n",
       "        [[1.1832, 1.1500, 1.5742],\n",
       "         [1.2362, 1.1570, 1.6715],\n",
       "         [1.4262, 1.3062, 1.9289]]], device='cuda:0', grad_fn=<SqrtBackward0>))"
      ]
     },
     "execution_count": null,
     "metadata": {},
     "output_type": "execute_result"
    }
   ],
   "source": [
    "learn.model.predict(inputs[0][0], inputs[1][0])"
   ]
  },
  {
   "cell_type": "code",
   "execution_count": null,
   "id": "b087e44c-d2aa-44f3-a29b-63d8a3ed2ba0",
   "metadata": {},
   "outputs": [],
   "source": [
    "model.use_smooth = True"
   ]
  },
  {
   "cell_type": "code",
   "execution_count": null,
   "id": "ee612ef4-93f7-4f72-88da-ef151c52eaa6",
   "metadata": {},
   "outputs": [
    {
     "data": {
      "text/plain": [
       "__main__.NormalsParams(mean=tensor([[[-1.5372, -0.7658, -1.0604],\n",
       "         [-1.5186, -0.7225, -1.1955],\n",
       "         [-1.4665, -0.7288, -1.1409],\n",
       "         [-1.4799, -0.7291, -1.1611],\n",
       "         [-1.5297, -0.7777, -1.2348],\n",
       "         [-1.6486, -0.8343, -1.3761],\n",
       "         [-1.0602, -0.5132, -1.9576],\n",
       "         [-0.6387, -0.5718, -1.4714],\n",
       "         [-1.3740, -0.8243, -1.0856],\n",
       "         [-1.7910, -0.9128, -1.6092]],\n",
       "\n",
       "        [[-2.4304, -0.8769, -1.5493],\n",
       "         [-1.6565, -0.6957, -0.6889],\n",
       "         [-1.5933, -0.6688, -0.6319],\n",
       "         [-1.5795, -0.6699, -0.6223],\n",
       "         [-1.5885, -0.6710, -0.6123],\n",
       "         [-1.6823, -0.7548, -0.7520],\n",
       "         [-1.8588, -0.8315, -0.9737],\n",
       "         [-1.0878, -0.4684, -2.0227],\n",
       "         [-0.6853, -0.6717, -1.5725],\n",
       "         [-1.9326, -1.1321, -1.3170]]], device='cuda:0',\n",
       "       grad_fn=<SqueezeBackward1>), std=tensor([[[1.1830, 1.1499, 1.5739],\n",
       "         [1.2342, 1.1559, 1.6685],\n",
       "         [1.2358, 1.1561, 1.6704],\n",
       "         [1.2359, 1.1562, 1.6705],\n",
       "         [1.2361, 1.1563, 1.6709],\n",
       "         [1.2789, 1.1937, 1.7275],\n",
       "         [1.5107, 1.2744, 2.0147],\n",
       "         [1.4694, 1.2076, 1.9750],\n",
       "         [1.2553, 1.1586, 1.6940],\n",
       "         [1.4269, 1.3065, 1.9297]],\n",
       "\n",
       "        [[1.1830, 1.1499, 1.5739],\n",
       "         [1.2342, 1.1559, 1.6685],\n",
       "         [1.2358, 1.1561, 1.6704],\n",
       "         [1.2359, 1.1561, 1.6705],\n",
       "         [1.2359, 1.1562, 1.6705],\n",
       "         [1.2361, 1.1563, 1.6709],\n",
       "         [1.2791, 1.1939, 1.7278],\n",
       "         [1.5147, 1.2768, 2.0194],\n",
       "         [1.4800, 1.2121, 1.9922],\n",
       "         [1.4596, 1.3162, 1.9738]]], device='cuda:0', grad_fn=<SqrtBackward0>))"
      ]
     },
     "execution_count": null,
     "metadata": {},
     "output_type": "execute_result"
    }
   ],
   "source": [
    "learn.model(inputs)"
   ]
  },
  {
   "cell_type": "code",
   "execution_count": null,
   "id": "bfca6c01-9f3a-4725-bb72-9bada4ac1bad",
   "metadata": {},
   "outputs": [
    {
     "ename": "NameError",
     "evalue": "name 'items' is not defined",
     "output_type": "error",
     "traceback": [
      "\u001b[0;31m---------------------------------------------------------------------------\u001b[0m",
      "\u001b[0;31mNameError\u001b[0m                                 Traceback (most recent call last)",
      "Input \u001b[0;32mIn [439]\u001b[0m, in \u001b[0;36m<cell line: 1>\u001b[0;34m()\u001b[0m\n\u001b[0;32m----> 1\u001b[0m dl \u001b[38;5;241m=\u001b[39m learn\u001b[38;5;241m.\u001b[39mdls\u001b[38;5;241m.\u001b[39mtest_dl(\u001b[43mitems\u001b[49m,with_labels\u001b[38;5;241m=\u001b[39m\u001b[38;5;28;01mTrue\u001b[39;00m, num_workers\u001b[38;5;241m=\u001b[39m\u001b[38;5;241m0\u001b[39m)\n",
      "\u001b[0;31mNameError\u001b[0m: name 'items' is not defined"
     ]
    }
   ],
   "source": [
    "dl = learn.dls.test_dl(items,with_labels=True, num_workers=0)"
   ]
  },
  {
   "cell_type": "code",
   "execution_count": null,
   "id": "5647b59f-2c20-4d8b-a69a-fbf3480ed155",
   "metadata": {},
   "outputs": [],
   "source": [
    "preds, _, loss = learn.get_preds(dl=dl, with_loss=True)"
   ]
  },
  {
   "cell_type": "code",
   "execution_count": null,
   "id": "543f3267-8c85-4b84-bc20-27a91c689a34",
   "metadata": {},
   "outputs": [],
   "source": [
    "preds"
   ]
  },
  {
   "cell_type": "code",
   "execution_count": null,
   "id": "b57e4a20-30f7-4c06-938c-4796512fc1d2",
   "metadata": {},
   "outputs": [],
   "source": [
    "dls.test_dl??"
   ]
  },
  {
   "cell_type": "code",
   "execution_count": null,
   "id": "a926f529-5638-40c2-934a-4f79027960c9",
   "metadata": {},
   "outputs": [],
   "source": [
    "items = [0, 800]"
   ]
  },
  {
   "cell_type": "code",
   "execution_count": null,
   "id": "c4812f43-4460-4d5e-a4c0-bb4925efff8e",
   "metadata": {},
   "outputs": [],
   "source": [
    "test_ds = test_set(dls.valid_ds, items) if isinstance(dls.valid_ds, (Datasets, TfmdLists)) else test_items"
   ]
  },
  {
   "cell_type": "code",
   "execution_count": null,
   "id": "9fa521b2-1e51-4cf7-88d0-948a63d4a6b2",
   "metadata": {},
   "outputs": [],
   "source": [
    "dls.valid.new(test_ds).one_batch()"
   ]
  },
  {
   "cell_type": "code",
   "execution_count": null,
   "id": "5dceec45-38d5-41c1-9f40-978773ee18d8",
   "metadata": {},
   "outputs": [],
   "source": [
    "dls.valid.new??"
   ]
  },
  {
   "cell_type": "code",
   "execution_count": null,
   "id": "e211696c-de23-491b-a61b-75e080134be5",
   "metadata": {},
   "outputs": [],
   "source": [
    "learn.dls.test_dl([0, 800],with_labels=True, num_workers=0).one_batch()"
   ]
  },
  {
   "cell_type": "code",
   "execution_count": null,
   "id": "ca6d0690-8c63-44fa-b9cc-dbd0a7aaf7c4",
   "metadata": {},
   "outputs": [],
   "source": [
    "custom_predict(learn, 0)"
   ]
  },
  {
   "cell_type": "code",
   "execution_count": null,
   "id": "a08c2934-aa1b-4008-8c32-97e2c535a57f",
   "metadata": {},
   "outputs": [],
   "source": [
    "preds, targs, loss = custom_predict(learn, 1)\n",
    "preds[0], targs[0], loss"
   ]
  },
  {
   "cell_type": "markdown",
   "id": "9a1606c2-ee54-46be-8f57-dd5173134605",
   "metadata": {},
   "source": [
    "#### Show results"
   ]
  },
  {
   "cell_type": "code",
   "execution_count": null,
   "id": "7799bf37-003f-419a-a410-6e7b1c25719c",
   "metadata": {},
   "outputs": [],
   "source": [
    "def plot_result(pred, targ, loss, **kwargs):\n",
    "    df = pd.merge(targ.tidy(), pred.tidy(), on=[\"time\", \"variable\"])\n",
    "    return facet_variable(df, error=True, **kwargs).properties(title=f\"loss: {loss.item():.6f}\")"
   ]
  },
  {
   "cell_type": "code",
   "execution_count": null,
   "id": "f4bd8f4e-a59e-4b1a-8e30-1cb2f0fab6f6",
   "metadata": {},
   "outputs": [
    {
     "data": {
      "text/html": [
       "\n",
       "<div id=\"altair-viz-581adb53c32341ba9d8e39c3ce602fb5\"></div>\n",
       "<script type=\"text/javascript\">\n",
       "  var VEGA_DEBUG = (typeof VEGA_DEBUG == \"undefined\") ? {} : VEGA_DEBUG;\n",
       "  (function(spec, embedOpt){\n",
       "    let outputDiv = document.currentScript.previousElementSibling;\n",
       "    if (outputDiv.id !== \"altair-viz-581adb53c32341ba9d8e39c3ce602fb5\") {\n",
       "      outputDiv = document.getElementById(\"altair-viz-581adb53c32341ba9d8e39c3ce602fb5\");\n",
       "    }\n",
       "    const paths = {\n",
       "      \"vega\": \"https://cdn.jsdelivr.net/npm//vega@5?noext\",\n",
       "      \"vega-lib\": \"https://cdn.jsdelivr.net/npm//vega-lib?noext\",\n",
       "      \"vega-lite\": \"https://cdn.jsdelivr.net/npm//vega-lite@5.2.0?noext\",\n",
       "      \"vega-embed\": \"https://cdn.jsdelivr.net/npm//vega-embed@6?noext\",\n",
       "    };\n",
       "\n",
       "    function maybeLoadScript(lib, version) {\n",
       "      var key = `${lib.replace(\"-\", \"\")}_version`;\n",
       "      return (VEGA_DEBUG[key] == version) ?\n",
       "        Promise.resolve(paths[lib]) :\n",
       "        new Promise(function(resolve, reject) {\n",
       "          var s = document.createElement('script');\n",
       "          document.getElementsByTagName(\"head\")[0].appendChild(s);\n",
       "          s.async = true;\n",
       "          s.onload = () => {\n",
       "            VEGA_DEBUG[key] = version;\n",
       "            return resolve(paths[lib]);\n",
       "          };\n",
       "          s.onerror = () => reject(`Error loading script: ${paths[lib]}`);\n",
       "          s.src = paths[lib];\n",
       "        });\n",
       "    }\n",
       "\n",
       "    function showError(err) {\n",
       "      outputDiv.innerHTML = `<div class=\"error\" style=\"color:red;\">${err}</div>`;\n",
       "      throw err;\n",
       "    }\n",
       "\n",
       "    function displayChart(vegaEmbed) {\n",
       "      vegaEmbed(outputDiv, spec, embedOpt)\n",
       "        .catch(err => showError(`Javascript Error: ${err.message}<br>This usually means there's a typo in your chart specification. See the javascript console for the full traceback.`));\n",
       "    }\n",
       "\n",
       "    if(typeof define === \"function\" && define.amd) {\n",
       "      requirejs.config({paths});\n",
       "      require([\"vega-embed\"], displayChart, err => showError(`Error loading script: ${err.message}`));\n",
       "    } else {\n",
       "      maybeLoadScript(\"vega\", \"5\")\n",
       "        .then(() => maybeLoadScript(\"vega-lite\", \"5.2.0\"))\n",
       "        .then(() => maybeLoadScript(\"vega-embed\", \"6\"))\n",
       "        .catch(showError)\n",
       "        .then(() => displayChart(vegaEmbed));\n",
       "    }\n",
       "  })({\"config\": {\"view\": {\"continuousWidth\": 400, \"continuousHeight\": 300}}, \"vconcat\": [{\"hconcat\": [{\"layer\": [{\"mark\": {\"type\": \"point\", \"color\": \"black\", \"fillOpacity\": 1, \"strokeWidth\": 1}, \"encoding\": {\"fill\": {\"field\": \"is_present\", \"legend\": {\"title\": [\"Observed data\"]}, \"scale\": {\"range\": [\"black\", \"#ffffff00\"]}, \"type\": \"nominal\"}, \"shape\": {\"field\": \"is_present\", \"type\": \"nominal\"}, \"x\": {\"field\": \"time\", \"type\": \"temporal\"}, \"y\": {\"field\": \"value\", \"scale\": {\"zero\": false}, \"title\": \"TA\", \"type\": \"quantitative\"}}}, {\"layer\": [{\"mark\": \"errorband\", \"encoding\": {\"color\": {\"field\": \"variable\", \"legend\": {\"title\": [\"Line: pred. mean\", \"area: +/- 2 std\"]}, \"type\": \"nominal\"}, \"x\": {\"field\": \"time\", \"type\": \"temporal\"}, \"y\": {\"field\": \"err_low\", \"scale\": {\"zero\": false}, \"title\": \"TA\", \"type\": \"quantitative\"}, \"y2\": {\"field\": \"err_high\"}}, \"name\": \"view_36\"}, {\"mark\": \"line\", \"encoding\": {\"color\": {\"field\": \"variable\", \"type\": \"nominal\"}, \"x\": {\"field\": \"time\", \"type\": \"temporal\"}, \"y\": {\"field\": \"value\", \"scale\": {\"zero\": false}, \"title\": \"TA\", \"type\": \"quantitative\"}}}]}], \"height\": 150, \"title\": \"TA\", \"width\": 200}, {\"layer\": [{\"mark\": {\"type\": \"point\", \"color\": \"black\", \"fillOpacity\": 1, \"strokeWidth\": 1}, \"encoding\": {\"fill\": {\"field\": \"is_present\", \"legend\": {\"title\": [\"Observed data\"]}, \"scale\": {\"range\": [\"black\", \"#ffffff00\"]}, \"type\": \"nominal\"}, \"shape\": {\"field\": \"is_present\", \"type\": \"nominal\"}, \"x\": {\"field\": \"time\", \"type\": \"temporal\"}, \"y\": {\"field\": \"value\", \"scale\": {\"zero\": false}, \"title\": \"SW_IN\", \"type\": \"quantitative\"}}}, {\"layer\": [{\"mark\": \"errorband\", \"encoding\": {\"color\": {\"field\": \"variable\", \"legend\": {\"title\": [\"Line: pred. mean\", \"area: +/- 2 std\"]}, \"type\": \"nominal\"}, \"x\": {\"field\": \"time\", \"type\": \"temporal\"}, \"y\": {\"field\": \"err_low\", \"scale\": {\"zero\": false}, \"title\": \"SW_IN\", \"type\": \"quantitative\"}, \"y2\": {\"field\": \"err_high\"}}, \"name\": \"view_37\"}, {\"mark\": \"line\", \"encoding\": {\"color\": {\"field\": \"variable\", \"type\": \"nominal\"}, \"x\": {\"field\": \"time\", \"type\": \"temporal\"}, \"y\": {\"field\": \"value\", \"scale\": {\"zero\": false}, \"title\": \"SW_IN\", \"type\": \"quantitative\"}}}]}], \"data\": {\"name\": \"data-55510837a95fed8c0509c7cc37342498\"}, \"height\": 150, \"title\": \"SW_IN\", \"width\": 200}, {\"layer\": [{\"mark\": {\"type\": \"point\", \"color\": \"black\", \"fillOpacity\": 1, \"strokeWidth\": 1}, \"encoding\": {\"fill\": {\"field\": \"is_present\", \"legend\": {\"title\": [\"Observed data\"]}, \"scale\": {\"range\": [\"black\", \"#ffffff00\"]}, \"type\": \"nominal\"}, \"shape\": {\"field\": \"is_present\", \"type\": \"nominal\"}, \"x\": {\"field\": \"time\", \"type\": \"temporal\"}, \"y\": {\"field\": \"value\", \"scale\": {\"zero\": false}, \"title\": \"VPD\", \"type\": \"quantitative\"}}}, {\"layer\": [{\"mark\": \"errorband\", \"encoding\": {\"color\": {\"field\": \"variable\", \"legend\": {\"title\": [\"Line: pred. mean\", \"area: +/- 2 std\"]}, \"type\": \"nominal\"}, \"x\": {\"field\": \"time\", \"type\": \"temporal\"}, \"y\": {\"field\": \"err_low\", \"scale\": {\"zero\": false}, \"title\": \"VPD\", \"type\": \"quantitative\"}, \"y2\": {\"field\": \"err_high\"}}, \"name\": \"view_38\"}, {\"mark\": \"line\", \"encoding\": {\"color\": {\"field\": \"variable\", \"type\": \"nominal\"}, \"x\": {\"field\": \"time\", \"type\": \"temporal\"}, \"y\": {\"field\": \"value\", \"scale\": {\"zero\": false}, \"title\": \"VPD\", \"type\": \"quantitative\"}}}]}], \"data\": {\"name\": \"data-5b10e106f3618c3197437450422b47da\"}, \"height\": 150, \"title\": \"VPD\", \"width\": 200}]}], \"data\": {\"name\": \"data-1e14319e58cf8e15d2d1322c2609f63b\"}, \"params\": [{\"name\": \"param_51\", \"select\": {\"type\": \"interval\", \"encodings\": [\"x\"]}, \"bind\": \"scales\", \"views\": [\"view_36\", \"view_37\", \"view_38\"]}], \"title\": \"loss: 1.000000\", \"$schema\": \"https://vega.github.io/schema/vega-lite/v5.2.0.json\", \"datasets\": {\"data-1e14319e58cf8e15d2d1322c2609f63b\": [{\"time\": \"2000-01-01T00:30:00\", \"variable\": \"TA\", \"value\": -0.6000000238418579, \"is_present\": true, \"mean\": 16.927814483642578, \"std\": 23.673755645751953, \"err_low\": -47.947509765625, \"err_high\": 46.74751281738281}, {\"time\": \"2000-01-01T01:00:00\", \"variable\": \"TA\", \"value\": -0.6499999761581421, \"is_present\": true, \"mean\": -7.842044830322266, \"std\": 20.697980880737305, \"err_low\": -42.045963287353516, \"err_high\": 40.7459602355957}, {\"time\": \"2000-01-01T01:30:00\", \"variable\": \"TA\", \"value\": -0.5799999833106995, \"is_present\": true, \"mean\": -7.673789978027344, \"std\": 21.106040954589844, \"err_low\": -42.792083740234375, \"err_high\": 41.632080078125}, {\"time\": \"2000-01-01T02:00:00\", \"variable\": \"TA\", \"value\": -0.5099999904632568, \"is_present\": true, \"mean\": -7.024960517883301, \"std\": 21.109813690185547, \"err_low\": -42.7296257019043, \"err_high\": 41.70962905883789}, {\"time\": \"2000-01-01T02:30:00\", \"variable\": \"TA\", \"value\": -0.49000000953674316, \"is_present\": true, \"mean\": -6.811457633972168, \"std\": 21.109935760498047, \"err_low\": -42.70987319946289, \"err_high\": 41.7298698425293}, {\"time\": \"2000-01-01T03:00:00\", \"variable\": \"TA\", \"value\": -0.4000000059604645, \"is_present\": false, \"mean\": -6.773200035095215, \"std\": 21.10984992980957, \"err_low\": -42.61970138549805, \"err_high\": 41.819698333740234}, {\"time\": \"2000-01-01T03:30:00\", \"variable\": \"TA\", \"value\": -0.36000001430511475, \"is_present\": false, \"mean\": -11.686054229736328, \"std\": 53.282955169677734, \"err_low\": -106.92591094970703, \"err_high\": 106.2059097290039}, {\"time\": \"2000-01-01T04:00:00\", \"variable\": \"TA\", \"value\": -0.3499999940395355, \"is_present\": true, \"mean\": -24.492380142211914, \"std\": 127.52742767333984, \"err_low\": -255.4048614501953, \"err_high\": 254.70484924316406}, {\"time\": \"2000-01-01T04:30:00\", \"variable\": \"TA\", \"value\": -0.2800000011920929, \"is_present\": true, \"mean\": -7.188302993774414, \"std\": 21.09693145751953, \"err_low\": -42.47386169433594, \"err_high\": 41.91386413574219}, {\"time\": \"2000-01-01T05:00:00\", \"variable\": \"TA\", \"value\": -0.27000001072883606, \"is_present\": true, \"mean\": -6.589978218078613, \"std\": 21.111801147460938, \"err_low\": -42.49360275268555, \"err_high\": 41.9536018371582}], \"data-55510837a95fed8c0509c7cc37342498\": [{\"time\": \"2000-01-01T00:30:00\", \"variable\": \"SW_IN\", \"value\": 0.0, \"is_present\": true, \"mean\": 443.9718933105469, \"std\": 608.4035034179688, \"err_low\": -1216.8070068359375, \"err_high\": 1216.8070068359375}, {\"time\": \"2000-01-01T01:00:00\", \"variable\": \"SW_IN\", \"value\": 0.0, \"is_present\": true, \"mean\": -193.73471069335938, \"std\": 534.645751953125, \"err_low\": -1069.29150390625, \"err_high\": 1069.29150390625}, {\"time\": \"2000-01-01T01:30:00\", \"variable\": \"SW_IN\", \"value\": 0.0, \"is_present\": true, \"mean\": -157.09585571289062, \"std\": 553.1868896484375, \"err_low\": -1106.373779296875, \"err_high\": 1106.373779296875}, {\"time\": \"2000-01-01T02:00:00\", \"variable\": \"SW_IN\", \"value\": 0.0, \"is_present\": true, \"mean\": -138.24716186523438, \"std\": 553.2449340820312, \"err_low\": -1106.4898681640625, \"err_high\": 1106.4898681640625}, {\"time\": \"2000-01-01T02:30:00\", \"variable\": \"SW_IN\", \"value\": 0.0, \"is_present\": true, \"mean\": -132.69302368164062, \"std\": 553.248046875, \"err_low\": -1106.49609375, \"err_high\": 1106.49609375}, {\"time\": \"2000-01-01T03:00:00\", \"variable\": \"SW_IN\", \"value\": 0.0, \"is_present\": false, \"mean\": -132.01693725585938, \"std\": 553.2454833984375, \"err_low\": -1106.490966796875, \"err_high\": 1106.490966796875}, {\"time\": \"2000-01-01T03:30:00\", \"variable\": \"SW_IN\", \"value\": 0.0, \"is_present\": false, \"mean\": -286.6795349121094, \"std\": 1411.6083984375, \"err_low\": -2823.216796875, \"err_high\": 2823.216796875}, {\"time\": \"2000-01-01T04:00:00\", \"variable\": \"SW_IN\", \"value\": 0.0, \"is_present\": true, \"mean\": -631.6259765625, \"std\": 3339.880615234375, \"err_low\": -6679.76123046875, \"err_high\": 6679.76123046875}, {\"time\": \"2000-01-01T04:30:00\", \"variable\": \"SW_IN\", \"value\": 0.0, \"is_present\": true, \"mean\": -159.61407470703125, \"std\": 553.8168334960938, \"err_low\": -1107.6336669921875, \"err_high\": 1107.6336669921875}, {\"time\": \"2000-01-01T05:00:00\", \"variable\": \"SW_IN\", \"value\": 0.0, \"is_present\": true, \"mean\": -129.29074096679688, \"std\": 553.3269653320312, \"err_low\": -1106.6539306640625, \"err_high\": 1106.6539306640625}], \"data-5b10e106f3618c3197437450422b47da\": [{\"time\": \"2000-01-01T00:30:00\", \"variable\": \"VPD\", \"value\": 0.22200000286102295, \"is_present\": true, \"mean\": 5.925518035888672, \"std\": 7.849498748779297, \"err_low\": -15.476997375488281, \"err_high\": 15.920997619628906}, {\"time\": \"2000-01-01T01:00:00\", \"variable\": \"VPD\", \"value\": 0.12200000137090683, \"is_present\": true, \"mean\": 0.6049354076385498, \"std\": 7.761356830596924, \"err_low\": -15.400713920593262, \"err_high\": 15.644713401794434}, {\"time\": \"2000-01-01T01:30:00\", \"variable\": \"VPD\", \"value\": 0.09000000357627869, \"is_present\": true, \"mean\": 0.7098186016082764, \"std\": 7.833732604980469, \"err_low\": -15.577465057373047, \"err_high\": 15.757465362548828}, {\"time\": \"2000-01-01T02:00:00\", \"variable\": \"VPD\", \"value\": 0.10999999940395355, \"is_present\": true, \"mean\": 0.8885419368743896, \"std\": 7.8344550132751465, \"err_low\": -15.558910369873047, \"err_high\": 15.778909683227539}, {\"time\": \"2000-01-01T02:30:00\", \"variable\": \"VPD\", \"value\": 0.10199999809265137, \"is_present\": true, \"mean\": 0.9394357204437256, \"std\": 7.834472179412842, \"err_low\": -15.566944122314453, \"err_high\": 15.770944595336914}, {\"time\": \"2000-01-01T03:00:00\", \"variable\": \"VPD\", \"value\": 0.11100000143051147, \"is_present\": true, \"mean\": 0.9477617740631104, \"std\": 7.834457874298096, \"err_low\": -15.557915687561035, \"err_high\": 15.779915809631348}, {\"time\": \"2000-01-01T03:30:00\", \"variable\": \"VPD\", \"value\": 0.10899999737739563, \"is_present\": true, \"mean\": -0.34804534912109375, \"std\": 14.057252883911133, \"err_low\": -28.00550651550293, \"err_high\": 28.2235050201416}, {\"time\": \"2000-01-01T04:00:00\", \"variable\": \"VPD\", \"value\": 0.10700000077486038, \"is_present\": true, \"mean\": -3.443514585494995, \"std\": 30.980928421020508, \"err_low\": -61.8548583984375, \"err_high\": 62.06885528564453}, {\"time\": \"2000-01-01T04:30:00\", \"variable\": \"VPD\", \"value\": 0.12200000137090683, \"is_present\": true, \"mean\": 0.8031949996948242, \"std\": 7.833464622497559, \"err_low\": -15.544929504394531, \"err_high\": 15.788928985595703}, {\"time\": \"2000-01-01T05:00:00\", \"variable\": \"VPD\", \"value\": 0.1379999965429306, \"is_present\": true, \"mean\": 0.9790737628936768, \"std\": 7.834909439086914, \"err_low\": -15.531819343566895, \"err_high\": 15.807818412780762}]}}, {\"mode\": \"vega-lite\"});\n",
       "</script>"
      ],
      "text/plain": [
       "alt.VConcatChart(...)"
      ]
     },
     "execution_count": null,
     "metadata": {},
     "output_type": "execute_result"
    }
   ],
   "source": [
    "plot_result(preds[0], targs[0], torch.tensor(1))"
   ]
  },
  {
   "cell_type": "code",
   "execution_count": null,
   "id": "15082351-51f0-4139-9426-4ae2c64a94cb",
   "metadata": {},
   "outputs": [],
   "source": [
    "def plot_results(preds, targs, losses):\n",
    "    plots = [plot_result(targ, pred, loss, n_cols=1) for targ, pred, loss in zip(preds, targs, losses)]\n",
    "    return alt.hconcat(*plots)"
   ]
  },
  {
   "cell_type": "code",
   "execution_count": null,
   "id": "6eb4485c-8e03-437e-8ed5-bc61a5c170af",
   "metadata": {},
   "outputs": [
    {
     "data": {
      "text/html": [
       "\n",
       "<div id=\"altair-viz-34772132be1c43979bef31ee027b0b55\"></div>\n",
       "<script type=\"text/javascript\">\n",
       "  var VEGA_DEBUG = (typeof VEGA_DEBUG == \"undefined\") ? {} : VEGA_DEBUG;\n",
       "  (function(spec, embedOpt){\n",
       "    let outputDiv = document.currentScript.previousElementSibling;\n",
       "    if (outputDiv.id !== \"altair-viz-34772132be1c43979bef31ee027b0b55\") {\n",
       "      outputDiv = document.getElementById(\"altair-viz-34772132be1c43979bef31ee027b0b55\");\n",
       "    }\n",
       "    const paths = {\n",
       "      \"vega\": \"https://cdn.jsdelivr.net/npm//vega@5?noext\",\n",
       "      \"vega-lib\": \"https://cdn.jsdelivr.net/npm//vega-lib?noext\",\n",
       "      \"vega-lite\": \"https://cdn.jsdelivr.net/npm//vega-lite@5.2.0?noext\",\n",
       "      \"vega-embed\": \"https://cdn.jsdelivr.net/npm//vega-embed@6?noext\",\n",
       "    };\n",
       "\n",
       "    function maybeLoadScript(lib, version) {\n",
       "      var key = `${lib.replace(\"-\", \"\")}_version`;\n",
       "      return (VEGA_DEBUG[key] == version) ?\n",
       "        Promise.resolve(paths[lib]) :\n",
       "        new Promise(function(resolve, reject) {\n",
       "          var s = document.createElement('script');\n",
       "          document.getElementsByTagName(\"head\")[0].appendChild(s);\n",
       "          s.async = true;\n",
       "          s.onload = () => {\n",
       "            VEGA_DEBUG[key] = version;\n",
       "            return resolve(paths[lib]);\n",
       "          };\n",
       "          s.onerror = () => reject(`Error loading script: ${paths[lib]}`);\n",
       "          s.src = paths[lib];\n",
       "        });\n",
       "    }\n",
       "\n",
       "    function showError(err) {\n",
       "      outputDiv.innerHTML = `<div class=\"error\" style=\"color:red;\">${err}</div>`;\n",
       "      throw err;\n",
       "    }\n",
       "\n",
       "    function displayChart(vegaEmbed) {\n",
       "      vegaEmbed(outputDiv, spec, embedOpt)\n",
       "        .catch(err => showError(`Javascript Error: ${err.message}<br>This usually means there's a typo in your chart specification. See the javascript console for the full traceback.`));\n",
       "    }\n",
       "\n",
       "    if(typeof define === \"function\" && define.amd) {\n",
       "      requirejs.config({paths});\n",
       "      require([\"vega-embed\"], displayChart, err => showError(`Error loading script: ${err.message}`));\n",
       "    } else {\n",
       "      maybeLoadScript(\"vega\", \"5\")\n",
       "        .then(() => maybeLoadScript(\"vega-lite\", \"5.2.0\"))\n",
       "        .then(() => maybeLoadScript(\"vega-embed\", \"6\"))\n",
       "        .catch(showError)\n",
       "        .then(() => displayChart(vegaEmbed));\n",
       "    }\n",
       "  })({\"config\": {\"view\": {\"continuousWidth\": 400, \"continuousHeight\": 300}}, \"hconcat\": [{\"vconcat\": [{\"hconcat\": [{\"layer\": [{\"mark\": {\"type\": \"point\", \"color\": \"black\", \"fillOpacity\": 1, \"strokeWidth\": 1}, \"encoding\": {\"fill\": {\"field\": \"is_present\", \"legend\": {\"title\": [\"Observed data\"]}, \"scale\": {\"range\": [\"black\", \"#ffffff00\"]}, \"type\": \"nominal\"}, \"shape\": {\"field\": \"is_present\", \"type\": \"nominal\"}, \"x\": {\"field\": \"time\", \"type\": \"temporal\"}, \"y\": {\"field\": \"value\", \"scale\": {\"zero\": false}, \"title\": \"TA\", \"type\": \"quantitative\"}}}, {\"layer\": [{\"mark\": \"errorband\", \"encoding\": {\"color\": {\"field\": \"variable\", \"legend\": {\"title\": [\"Line: pred. mean\", \"area: +/- 2 std\"]}, \"type\": \"nominal\"}, \"x\": {\"field\": \"time\", \"type\": \"temporal\"}, \"y\": {\"field\": \"err_low\", \"scale\": {\"zero\": false}, \"title\": \"TA\", \"type\": \"quantitative\"}, \"y2\": {\"field\": \"err_high\"}}, \"name\": \"view_42\"}, {\"mark\": \"line\", \"encoding\": {\"color\": {\"field\": \"variable\", \"type\": \"nominal\"}, \"x\": {\"field\": \"time\", \"type\": \"temporal\"}, \"y\": {\"field\": \"value\", \"scale\": {\"zero\": false}, \"title\": \"TA\", \"type\": \"quantitative\"}}}]}], \"height\": 150, \"title\": \"TA\", \"width\": 200}], \"data\": {\"name\": \"data-1e14319e58cf8e15d2d1322c2609f63b\"}}, {\"hconcat\": [{\"layer\": [{\"mark\": {\"type\": \"point\", \"color\": \"black\", \"fillOpacity\": 1, \"strokeWidth\": 1}, \"encoding\": {\"fill\": {\"field\": \"is_present\", \"legend\": {\"title\": [\"Observed data\"]}, \"scale\": {\"range\": [\"black\", \"#ffffff00\"]}, \"type\": \"nominal\"}, \"shape\": {\"field\": \"is_present\", \"type\": \"nominal\"}, \"x\": {\"field\": \"time\", \"type\": \"temporal\"}, \"y\": {\"field\": \"value\", \"scale\": {\"zero\": false}, \"title\": \"SW_IN\", \"type\": \"quantitative\"}}}, {\"layer\": [{\"mark\": \"errorband\", \"encoding\": {\"color\": {\"field\": \"variable\", \"legend\": {\"title\": [\"Line: pred. mean\", \"area: +/- 2 std\"]}, \"type\": \"nominal\"}, \"x\": {\"field\": \"time\", \"type\": \"temporal\"}, \"y\": {\"field\": \"err_low\", \"scale\": {\"zero\": false}, \"title\": \"SW_IN\", \"type\": \"quantitative\"}, \"y2\": {\"field\": \"err_high\"}}, \"name\": \"view_43\"}, {\"mark\": \"line\", \"encoding\": {\"color\": {\"field\": \"variable\", \"type\": \"nominal\"}, \"x\": {\"field\": \"time\", \"type\": \"temporal\"}, \"y\": {\"field\": \"value\", \"scale\": {\"zero\": false}, \"title\": \"SW_IN\", \"type\": \"quantitative\"}}}]}], \"height\": 150, \"title\": \"SW_IN\", \"width\": 200}], \"data\": {\"name\": \"data-55510837a95fed8c0509c7cc37342498\"}}, {\"hconcat\": [{\"layer\": [{\"mark\": {\"type\": \"point\", \"color\": \"black\", \"fillOpacity\": 1, \"strokeWidth\": 1}, \"encoding\": {\"fill\": {\"field\": \"is_present\", \"legend\": {\"title\": [\"Observed data\"]}, \"scale\": {\"range\": [\"black\", \"#ffffff00\"]}, \"type\": \"nominal\"}, \"shape\": {\"field\": \"is_present\", \"type\": \"nominal\"}, \"x\": {\"field\": \"time\", \"type\": \"temporal\"}, \"y\": {\"field\": \"value\", \"scale\": {\"zero\": false}, \"title\": \"VPD\", \"type\": \"quantitative\"}}}, {\"layer\": [{\"mark\": \"errorband\", \"encoding\": {\"color\": {\"field\": \"variable\", \"legend\": {\"title\": [\"Line: pred. mean\", \"area: +/- 2 std\"]}, \"type\": \"nominal\"}, \"x\": {\"field\": \"time\", \"type\": \"temporal\"}, \"y\": {\"field\": \"err_low\", \"scale\": {\"zero\": false}, \"title\": \"VPD\", \"type\": \"quantitative\"}, \"y2\": {\"field\": \"err_high\"}}, \"name\": \"view_44\"}, {\"mark\": \"line\", \"encoding\": {\"color\": {\"field\": \"variable\", \"type\": \"nominal\"}, \"x\": {\"field\": \"time\", \"type\": \"temporal\"}, \"y\": {\"field\": \"value\", \"scale\": {\"zero\": false}, \"title\": \"VPD\", \"type\": \"quantitative\"}}}]}], \"height\": 150, \"title\": \"VPD\", \"width\": 200}], \"data\": {\"name\": \"data-5b10e106f3618c3197437450422b47da\"}}], \"title\": \"loss: -44.159496\"}, {\"vconcat\": [{\"hconcat\": [{\"layer\": [{\"mark\": {\"type\": \"point\", \"color\": \"black\", \"fillOpacity\": 1, \"strokeWidth\": 1}, \"encoding\": {\"fill\": {\"field\": \"is_present\", \"legend\": {\"title\": [\"Observed data\"]}, \"scale\": {\"range\": [\"black\", \"#ffffff00\"]}, \"type\": \"nominal\"}, \"shape\": {\"field\": \"is_present\", \"type\": \"nominal\"}, \"x\": {\"field\": \"time\", \"type\": \"temporal\"}, \"y\": {\"field\": \"value\", \"scale\": {\"zero\": false}, \"title\": \"TA\", \"type\": \"quantitative\"}}}, {\"layer\": [{\"mark\": \"errorband\", \"encoding\": {\"color\": {\"field\": \"variable\", \"legend\": {\"title\": [\"Line: pred. mean\", \"area: +/- 2 std\"]}, \"type\": \"nominal\"}, \"x\": {\"field\": \"time\", \"type\": \"temporal\"}, \"y\": {\"field\": \"err_low\", \"scale\": {\"zero\": false}, \"title\": \"TA\", \"type\": \"quantitative\"}, \"y2\": {\"field\": \"err_high\"}}, \"name\": \"view_45\"}, {\"mark\": \"line\", \"encoding\": {\"color\": {\"field\": \"variable\", \"type\": \"nominal\"}, \"x\": {\"field\": \"time\", \"type\": \"temporal\"}, \"y\": {\"field\": \"value\", \"scale\": {\"zero\": false}, \"title\": \"TA\", \"type\": \"quantitative\"}}}]}], \"height\": 150, \"title\": \"TA\", \"width\": 200}], \"data\": {\"name\": \"data-e04f040417fa21517bc0defffcd4dcfe\"}}, {\"hconcat\": [{\"layer\": [{\"mark\": {\"type\": \"point\", \"color\": \"black\", \"fillOpacity\": 1, \"strokeWidth\": 1}, \"encoding\": {\"fill\": {\"field\": \"is_present\", \"legend\": {\"title\": [\"Observed data\"]}, \"scale\": {\"range\": [\"black\", \"#ffffff00\"]}, \"type\": \"nominal\"}, \"shape\": {\"field\": \"is_present\", \"type\": \"nominal\"}, \"x\": {\"field\": \"time\", \"type\": \"temporal\"}, \"y\": {\"field\": \"value\", \"scale\": {\"zero\": false}, \"title\": \"SW_IN\", \"type\": \"quantitative\"}}}, {\"layer\": [{\"mark\": \"errorband\", \"encoding\": {\"color\": {\"field\": \"variable\", \"legend\": {\"title\": [\"Line: pred. mean\", \"area: +/- 2 std\"]}, \"type\": \"nominal\"}, \"x\": {\"field\": \"time\", \"type\": \"temporal\"}, \"y\": {\"field\": \"err_low\", \"scale\": {\"zero\": false}, \"title\": \"SW_IN\", \"type\": \"quantitative\"}, \"y2\": {\"field\": \"err_high\"}}, \"name\": \"view_46\"}, {\"mark\": \"line\", \"encoding\": {\"color\": {\"field\": \"variable\", \"type\": \"nominal\"}, \"x\": {\"field\": \"time\", \"type\": \"temporal\"}, \"y\": {\"field\": \"value\", \"scale\": {\"zero\": false}, \"title\": \"SW_IN\", \"type\": \"quantitative\"}}}]}], \"height\": 150, \"title\": \"SW_IN\", \"width\": 200}], \"data\": {\"name\": \"data-efb446477c84f7704e93c5278d734735\"}}, {\"hconcat\": [{\"layer\": [{\"mark\": {\"type\": \"point\", \"color\": \"black\", \"fillOpacity\": 1, \"strokeWidth\": 1}, \"encoding\": {\"fill\": {\"field\": \"is_present\", \"legend\": {\"title\": [\"Observed data\"]}, \"scale\": {\"range\": [\"black\", \"#ffffff00\"]}, \"type\": \"nominal\"}, \"shape\": {\"field\": \"is_present\", \"type\": \"nominal\"}, \"x\": {\"field\": \"time\", \"type\": \"temporal\"}, \"y\": {\"field\": \"value\", \"scale\": {\"zero\": false}, \"title\": \"VPD\", \"type\": \"quantitative\"}}}, {\"layer\": [{\"mark\": \"errorband\", \"encoding\": {\"color\": {\"field\": \"variable\", \"legend\": {\"title\": [\"Line: pred. mean\", \"area: +/- 2 std\"]}, \"type\": \"nominal\"}, \"x\": {\"field\": \"time\", \"type\": \"temporal\"}, \"y\": {\"field\": \"err_low\", \"scale\": {\"zero\": false}, \"title\": \"VPD\", \"type\": \"quantitative\"}, \"y2\": {\"field\": \"err_high\"}}, \"name\": \"view_47\"}, {\"mark\": \"line\", \"encoding\": {\"color\": {\"field\": \"variable\", \"type\": \"nominal\"}, \"x\": {\"field\": \"time\", \"type\": \"temporal\"}, \"y\": {\"field\": \"value\", \"scale\": {\"zero\": false}, \"title\": \"VPD\", \"type\": \"quantitative\"}}}]}], \"height\": 150, \"title\": \"VPD\", \"width\": 200}], \"data\": {\"name\": \"data-def9cfd738b3c8318c22e047f5aa4a2f\"}}], \"title\": \"loss: -44.095703\"}, {\"vconcat\": [{\"hconcat\": [{\"layer\": [{\"mark\": {\"type\": \"point\", \"color\": \"black\", \"fillOpacity\": 1, \"strokeWidth\": 1}, \"encoding\": {\"fill\": {\"field\": \"is_present\", \"legend\": {\"title\": [\"Observed data\"]}, \"scale\": {\"range\": [\"black\", \"#ffffff00\"]}, \"type\": \"nominal\"}, \"shape\": {\"field\": \"is_present\", \"type\": \"nominal\"}, \"x\": {\"field\": \"time\", \"type\": \"temporal\"}, \"y\": {\"field\": \"value\", \"scale\": {\"zero\": false}, \"title\": \"TA\", \"type\": \"quantitative\"}}}, {\"layer\": [{\"mark\": \"errorband\", \"encoding\": {\"color\": {\"field\": \"variable\", \"legend\": {\"title\": [\"Line: pred. mean\", \"area: +/- 2 std\"]}, \"type\": \"nominal\"}, \"x\": {\"field\": \"time\", \"type\": \"temporal\"}, \"y\": {\"field\": \"err_low\", \"scale\": {\"zero\": false}, \"title\": \"TA\", \"type\": \"quantitative\"}, \"y2\": {\"field\": \"err_high\"}}, \"name\": \"view_48\"}, {\"mark\": \"line\", \"encoding\": {\"color\": {\"field\": \"variable\", \"type\": \"nominal\"}, \"x\": {\"field\": \"time\", \"type\": \"temporal\"}, \"y\": {\"field\": \"value\", \"scale\": {\"zero\": false}, \"title\": \"TA\", \"type\": \"quantitative\"}}}]}], \"height\": 150, \"title\": \"TA\", \"width\": 200}], \"data\": {\"name\": \"data-59238f6e871d51d2bc83ea9767edbe95\"}}, {\"hconcat\": [{\"layer\": [{\"mark\": {\"type\": \"point\", \"color\": \"black\", \"fillOpacity\": 1, \"strokeWidth\": 1}, \"encoding\": {\"fill\": {\"field\": \"is_present\", \"legend\": {\"title\": [\"Observed data\"]}, \"scale\": {\"range\": [\"black\", \"#ffffff00\"]}, \"type\": \"nominal\"}, \"shape\": {\"field\": \"is_present\", \"type\": \"nominal\"}, \"x\": {\"field\": \"time\", \"type\": \"temporal\"}, \"y\": {\"field\": \"value\", \"scale\": {\"zero\": false}, \"title\": \"SW_IN\", \"type\": \"quantitative\"}}}, {\"layer\": [{\"mark\": \"errorband\", \"encoding\": {\"color\": {\"field\": \"variable\", \"legend\": {\"title\": [\"Line: pred. mean\", \"area: +/- 2 std\"]}, \"type\": \"nominal\"}, \"x\": {\"field\": \"time\", \"type\": \"temporal\"}, \"y\": {\"field\": \"err_low\", \"scale\": {\"zero\": false}, \"title\": \"SW_IN\", \"type\": \"quantitative\"}, \"y2\": {\"field\": \"err_high\"}}, \"name\": \"view_49\"}, {\"mark\": \"line\", \"encoding\": {\"color\": {\"field\": \"variable\", \"type\": \"nominal\"}, \"x\": {\"field\": \"time\", \"type\": \"temporal\"}, \"y\": {\"field\": \"value\", \"scale\": {\"zero\": false}, \"title\": \"SW_IN\", \"type\": \"quantitative\"}}}]}], \"height\": 150, \"title\": \"SW_IN\", \"width\": 200}], \"data\": {\"name\": \"data-d6b47cc930662cfaece05cd24029a454\"}}, {\"hconcat\": [{\"layer\": [{\"mark\": {\"type\": \"point\", \"color\": \"black\", \"fillOpacity\": 1, \"strokeWidth\": 1}, \"encoding\": {\"fill\": {\"field\": \"is_present\", \"legend\": {\"title\": [\"Observed data\"]}, \"scale\": {\"range\": [\"black\", \"#ffffff00\"]}, \"type\": \"nominal\"}, \"shape\": {\"field\": \"is_present\", \"type\": \"nominal\"}, \"x\": {\"field\": \"time\", \"type\": \"temporal\"}, \"y\": {\"field\": \"value\", \"scale\": {\"zero\": false}, \"title\": \"VPD\", \"type\": \"quantitative\"}}}, {\"layer\": [{\"mark\": \"errorband\", \"encoding\": {\"color\": {\"field\": \"variable\", \"legend\": {\"title\": [\"Line: pred. mean\", \"area: +/- 2 std\"]}, \"type\": \"nominal\"}, \"x\": {\"field\": \"time\", \"type\": \"temporal\"}, \"y\": {\"field\": \"err_low\", \"scale\": {\"zero\": false}, \"title\": \"VPD\", \"type\": \"quantitative\"}, \"y2\": {\"field\": \"err_high\"}}, \"name\": \"view_50\"}, {\"mark\": \"line\", \"encoding\": {\"color\": {\"field\": \"variable\", \"type\": \"nominal\"}, \"x\": {\"field\": \"time\", \"type\": \"temporal\"}, \"y\": {\"field\": \"value\", \"scale\": {\"zero\": false}, \"title\": \"VPD\", \"type\": \"quantitative\"}}}]}], \"height\": 150, \"title\": \"VPD\", \"width\": 200}], \"data\": {\"name\": \"data-0eb9c8ccd36991245082224143ff7978\"}}], \"title\": \"loss: -44.095703\"}], \"params\": [{\"name\": \"param_59\", \"select\": {\"type\": \"interval\", \"encodings\": [\"x\"]}, \"bind\": \"scales\", \"views\": [\"view_42\", \"view_43\", \"view_44\"]}, {\"name\": \"param_63\", \"select\": {\"type\": \"interval\", \"encodings\": [\"x\"]}, \"bind\": \"scales\", \"views\": [\"view_45\", \"view_46\", \"view_47\"]}, {\"name\": \"param_67\", \"select\": {\"type\": \"interval\", \"encodings\": [\"x\"]}, \"bind\": \"scales\", \"views\": [\"view_48\", \"view_49\", \"view_50\"]}], \"$schema\": \"https://vega.github.io/schema/vega-lite/v5.2.0.json\", \"datasets\": {\"data-1e14319e58cf8e15d2d1322c2609f63b\": [{\"time\": \"2000-01-01T00:30:00\", \"variable\": \"TA\", \"value\": -0.6000000238418579, \"is_present\": true, \"mean\": 16.927814483642578, \"std\": 23.673755645751953, \"err_low\": -47.947509765625, \"err_high\": 46.74751281738281}, {\"time\": \"2000-01-01T01:00:00\", \"variable\": \"TA\", \"value\": -0.6499999761581421, \"is_present\": true, \"mean\": -7.842044830322266, \"std\": 20.697980880737305, \"err_low\": -42.045963287353516, \"err_high\": 40.7459602355957}, {\"time\": \"2000-01-01T01:30:00\", \"variable\": \"TA\", \"value\": -0.5799999833106995, \"is_present\": true, \"mean\": -7.673789978027344, \"std\": 21.106040954589844, \"err_low\": -42.792083740234375, \"err_high\": 41.632080078125}, {\"time\": \"2000-01-01T02:00:00\", \"variable\": \"TA\", \"value\": -0.5099999904632568, \"is_present\": true, \"mean\": -7.024960517883301, \"std\": 21.109813690185547, \"err_low\": -42.7296257019043, \"err_high\": 41.70962905883789}, {\"time\": \"2000-01-01T02:30:00\", \"variable\": \"TA\", \"value\": -0.49000000953674316, \"is_present\": true, \"mean\": -6.811457633972168, \"std\": 21.109935760498047, \"err_low\": -42.70987319946289, \"err_high\": 41.7298698425293}, {\"time\": \"2000-01-01T03:00:00\", \"variable\": \"TA\", \"value\": -0.4000000059604645, \"is_present\": false, \"mean\": -6.773200035095215, \"std\": 21.10984992980957, \"err_low\": -42.61970138549805, \"err_high\": 41.819698333740234}, {\"time\": \"2000-01-01T03:30:00\", \"variable\": \"TA\", \"value\": -0.36000001430511475, \"is_present\": false, \"mean\": -11.686054229736328, \"std\": 53.282955169677734, \"err_low\": -106.92591094970703, \"err_high\": 106.2059097290039}, {\"time\": \"2000-01-01T04:00:00\", \"variable\": \"TA\", \"value\": -0.3499999940395355, \"is_present\": true, \"mean\": -24.492380142211914, \"std\": 127.52742767333984, \"err_low\": -255.4048614501953, \"err_high\": 254.70484924316406}, {\"time\": \"2000-01-01T04:30:00\", \"variable\": \"TA\", \"value\": -0.2800000011920929, \"is_present\": true, \"mean\": -7.188302993774414, \"std\": 21.09693145751953, \"err_low\": -42.47386169433594, \"err_high\": 41.91386413574219}, {\"time\": \"2000-01-01T05:00:00\", \"variable\": \"TA\", \"value\": -0.27000001072883606, \"is_present\": true, \"mean\": -6.589978218078613, \"std\": 21.111801147460938, \"err_low\": -42.49360275268555, \"err_high\": 41.9536018371582}], \"data-55510837a95fed8c0509c7cc37342498\": [{\"time\": \"2000-01-01T00:30:00\", \"variable\": \"SW_IN\", \"value\": 0.0, \"is_present\": true, \"mean\": 443.9718933105469, \"std\": 608.4035034179688, \"err_low\": -1216.8070068359375, \"err_high\": 1216.8070068359375}, {\"time\": \"2000-01-01T01:00:00\", \"variable\": \"SW_IN\", \"value\": 0.0, \"is_present\": true, \"mean\": -193.73471069335938, \"std\": 534.645751953125, \"err_low\": -1069.29150390625, \"err_high\": 1069.29150390625}, {\"time\": \"2000-01-01T01:30:00\", \"variable\": \"SW_IN\", \"value\": 0.0, \"is_present\": true, \"mean\": -157.09585571289062, \"std\": 553.1868896484375, \"err_low\": -1106.373779296875, \"err_high\": 1106.373779296875}, {\"time\": \"2000-01-01T02:00:00\", \"variable\": \"SW_IN\", \"value\": 0.0, \"is_present\": true, \"mean\": -138.24716186523438, \"std\": 553.2449340820312, \"err_low\": -1106.4898681640625, \"err_high\": 1106.4898681640625}, {\"time\": \"2000-01-01T02:30:00\", \"variable\": \"SW_IN\", \"value\": 0.0, \"is_present\": true, \"mean\": -132.69302368164062, \"std\": 553.248046875, \"err_low\": -1106.49609375, \"err_high\": 1106.49609375}, {\"time\": \"2000-01-01T03:00:00\", \"variable\": \"SW_IN\", \"value\": 0.0, \"is_present\": false, \"mean\": -132.01693725585938, \"std\": 553.2454833984375, \"err_low\": -1106.490966796875, \"err_high\": 1106.490966796875}, {\"time\": \"2000-01-01T03:30:00\", \"variable\": \"SW_IN\", \"value\": 0.0, \"is_present\": false, \"mean\": -286.6795349121094, \"std\": 1411.6083984375, \"err_low\": -2823.216796875, \"err_high\": 2823.216796875}, {\"time\": \"2000-01-01T04:00:00\", \"variable\": \"SW_IN\", \"value\": 0.0, \"is_present\": true, \"mean\": -631.6259765625, \"std\": 3339.880615234375, \"err_low\": -6679.76123046875, \"err_high\": 6679.76123046875}, {\"time\": \"2000-01-01T04:30:00\", \"variable\": \"SW_IN\", \"value\": 0.0, \"is_present\": true, \"mean\": -159.61407470703125, \"std\": 553.8168334960938, \"err_low\": -1107.6336669921875, \"err_high\": 1107.6336669921875}, {\"time\": \"2000-01-01T05:00:00\", \"variable\": \"SW_IN\", \"value\": 0.0, \"is_present\": true, \"mean\": -129.29074096679688, \"std\": 553.3269653320312, \"err_low\": -1106.6539306640625, \"err_high\": 1106.6539306640625}], \"data-5b10e106f3618c3197437450422b47da\": [{\"time\": \"2000-01-01T00:30:00\", \"variable\": \"VPD\", \"value\": 0.22200000286102295, \"is_present\": true, \"mean\": 5.925518035888672, \"std\": 7.849498748779297, \"err_low\": -15.476997375488281, \"err_high\": 15.920997619628906}, {\"time\": \"2000-01-01T01:00:00\", \"variable\": \"VPD\", \"value\": 0.12200000137090683, \"is_present\": true, \"mean\": 0.6049354076385498, \"std\": 7.761356830596924, \"err_low\": -15.400713920593262, \"err_high\": 15.644713401794434}, {\"time\": \"2000-01-01T01:30:00\", \"variable\": \"VPD\", \"value\": 0.09000000357627869, \"is_present\": true, \"mean\": 0.7098186016082764, \"std\": 7.833732604980469, \"err_low\": -15.577465057373047, \"err_high\": 15.757465362548828}, {\"time\": \"2000-01-01T02:00:00\", \"variable\": \"VPD\", \"value\": 0.10999999940395355, \"is_present\": true, \"mean\": 0.8885419368743896, \"std\": 7.8344550132751465, \"err_low\": -15.558910369873047, \"err_high\": 15.778909683227539}, {\"time\": \"2000-01-01T02:30:00\", \"variable\": \"VPD\", \"value\": 0.10199999809265137, \"is_present\": true, \"mean\": 0.9394357204437256, \"std\": 7.834472179412842, \"err_low\": -15.566944122314453, \"err_high\": 15.770944595336914}, {\"time\": \"2000-01-01T03:00:00\", \"variable\": \"VPD\", \"value\": 0.11100000143051147, \"is_present\": true, \"mean\": 0.9477617740631104, \"std\": 7.834457874298096, \"err_low\": -15.557915687561035, \"err_high\": 15.779915809631348}, {\"time\": \"2000-01-01T03:30:00\", \"variable\": \"VPD\", \"value\": 0.10899999737739563, \"is_present\": true, \"mean\": -0.34804534912109375, \"std\": 14.057252883911133, \"err_low\": -28.00550651550293, \"err_high\": 28.2235050201416}, {\"time\": \"2000-01-01T04:00:00\", \"variable\": \"VPD\", \"value\": 0.10700000077486038, \"is_present\": true, \"mean\": -3.443514585494995, \"std\": 30.980928421020508, \"err_low\": -61.8548583984375, \"err_high\": 62.06885528564453}, {\"time\": \"2000-01-01T04:30:00\", \"variable\": \"VPD\", \"value\": 0.12200000137090683, \"is_present\": true, \"mean\": 0.8031949996948242, \"std\": 7.833464622497559, \"err_low\": -15.544929504394531, \"err_high\": 15.788928985595703}, {\"time\": \"2000-01-01T05:00:00\", \"variable\": \"VPD\", \"value\": 0.1379999965429306, \"is_present\": true, \"mean\": 0.9790737628936768, \"std\": 7.834909439086914, \"err_low\": -15.531819343566895, \"err_high\": 15.807818412780762}], \"data-e04f040417fa21517bc0defffcd4dcfe\": [{\"time\": \"2000-01-01T05:30:00\", \"variable\": \"TA\", \"value\": -0.23000000417232513, \"is_present\": true, \"mean\": 16.927814483642578, \"std\": 23.673755645751953, \"err_low\": -47.577510833740234, \"err_high\": 47.11751174926758}, {\"time\": \"2000-01-01T06:00:00\", \"variable\": \"TA\", \"value\": -0.23000000417232513, \"is_present\": false, \"mean\": -7.160828590393066, \"std\": 20.697980880737305, \"err_low\": -41.62596130371094, \"err_high\": 41.16596221923828}, {\"time\": \"2000-01-01T06:30:00\", \"variable\": \"TA\", \"value\": -0.2199999988079071, \"is_present\": false, \"mean\": -13.99319076538086, \"std\": 52.11751174926758, \"err_low\": -104.45502471923828, \"err_high\": 104.01502227783203}, {\"time\": \"2000-01-01T07:00:00\", \"variable\": \"TA\", \"value\": -0.23999999463558197, \"is_present\": true, \"mean\": -30.468923568725586, \"std\": 124.72657012939453, \"err_low\": -249.69314575195312, \"err_high\": 249.213134765625}, {\"time\": \"2000-01-01T07:30:00\", \"variable\": \"TA\", \"value\": -0.23000000417232513, \"is_present\": true, \"mean\": -7.064993858337402, \"std\": 21.110151290893555, \"err_low\": -42.45030212402344, \"err_high\": 41.99030303955078}, {\"time\": \"2000-01-01T08:00:00\", \"variable\": \"TA\", \"value\": -0.2199999988079071, \"is_present\": true, \"mean\": -6.490338325500488, \"std\": 21.11181640625, \"err_low\": -42.443634033203125, \"err_high\": 42.003631591796875}, {\"time\": \"2000-01-01T08:30:00\", \"variable\": \"TA\", \"value\": -0.1899999976158142, \"is_present\": true, \"mean\": -6.328749656677246, \"std\": 21.10997200012207, \"err_low\": -42.409942626953125, \"err_high\": 42.029945373535156}, {\"time\": \"2000-01-01T09:00:00\", \"variable\": \"TA\", \"value\": -0.14000000059604645, \"is_present\": true, \"mean\": -6.23496150970459, \"std\": 21.109880447387695, \"err_low\": -42.35976028442383, \"err_high\": 42.07976150512695}, {\"time\": \"2000-01-01T09:30:00\", \"variable\": \"TA\", \"value\": -0.029999999329447746, \"is_present\": true, \"mean\": -6.0542497634887695, \"std\": 21.109886169433594, \"err_low\": -42.24977111816406, \"err_high\": 42.18977355957031}, {\"time\": \"2000-01-01T10:00:00\", \"variable\": \"TA\", \"value\": 0.03999999910593033, \"is_present\": true, \"mean\": -5.75341796875, \"std\": 21.109874725341797, \"err_low\": -42.17974853515625, \"err_high\": 42.25975036621094}], \"data-efb446477c84f7704e93c5278d734735\": [{\"time\": \"2000-01-01T05:30:00\", \"variable\": \"SW_IN\", \"value\": 0.0, \"is_present\": true, \"mean\": 443.9718933105469, \"std\": 608.4035034179688, \"err_low\": -1216.8070068359375, \"err_high\": 1216.8070068359375}, {\"time\": \"2000-01-01T06:00:00\", \"variable\": \"SW_IN\", \"value\": 0.0, \"is_present\": false, \"mean\": -177.27783203125, \"std\": 534.645751953125, \"err_low\": -1069.29150390625, \"err_high\": 1069.29150390625}, {\"time\": \"2000-01-01T06:30:00\", \"variable\": \"SW_IN\", \"value\": 0.0, \"is_present\": false, \"mean\": -358.3397216796875, \"std\": 1379.45947265625, \"err_low\": -2758.9189453125, \"err_high\": 2758.9189453125}, {\"time\": \"2000-01-01T07:00:00\", \"variable\": \"SW_IN\", \"value\": 0.0, \"is_present\": true, \"mean\": -792.3352661132812, \"std\": 3266.22265625, \"err_low\": -6532.4453125, \"err_high\": 6532.4453125}, {\"time\": \"2000-01-01T07:30:00\", \"variable\": \"SW_IN\", \"value\": 0.0, \"is_present\": true, \"mean\": -157.59674072265625, \"std\": 554.3125610351562, \"err_low\": -1108.6251220703125, \"err_high\": 1108.6251220703125}, {\"time\": \"2000-01-01T08:00:00\", \"variable\": \"SW_IN\", \"value\": 0.0, \"is_present\": true, \"mean\": -127.09517669677734, \"std\": 553.3280639648438, \"err_low\": -1106.6561279296875, \"err_high\": 1106.6561279296875}, {\"time\": \"2000-01-01T08:30:00\", \"variable\": \"SW_IN\", \"value\": 0.44999998807907104, \"is_present\": true, \"mean\": -122.24999237060547, \"std\": 553.2500610351562, \"err_low\": -1106.0501708984375, \"err_high\": 1106.9500732421875}, {\"time\": \"2000-01-01T09:00:00\", \"variable\": \"SW_IN\", \"value\": 3.700000047683716, \"is_present\": true, \"mean\": -119.7299575805664, \"std\": 553.2464599609375, \"err_low\": -1102.79296875, \"err_high\": 1110.19287109375}, {\"time\": \"2000-01-01T09:30:00\", \"variable\": \"SW_IN\", \"value\": 7.260000228881836, \"is_present\": true, \"mean\": -114.61481475830078, \"std\": 553.2466430664062, \"err_low\": -1099.2332763671875, \"err_high\": 1113.7532958984375}, {\"time\": \"2000-01-01T10:00:00\", \"variable\": \"SW_IN\", \"value\": 12.239999771118164, \"is_present\": true, \"mean\": -106.55182647705078, \"std\": 553.2462768554688, \"err_low\": -1094.2525634765625, \"err_high\": 1118.7325439453125}], \"data-def9cfd738b3c8318c22e047f5aa4a2f\": [{\"time\": \"2000-01-01T05:30:00\", \"variable\": \"VPD\", \"value\": 0.1379999965429306, \"is_present\": true, \"mean\": 5.925518035888672, \"std\": 7.849498748779297, \"err_low\": -15.56099796295166, \"err_high\": 15.836997032165527}, {\"time\": \"2000-01-01T06:00:00\", \"variable\": \"VPD\", \"value\": 0.12200000137090683, \"is_present\": true, \"mean\": 0.760955810546875, \"std\": 7.761356830596924, \"err_low\": -15.400713920593262, \"err_high\": 15.644713401794434}, {\"time\": \"2000-01-01T06:30:00\", \"variable\": \"VPD\", \"value\": 0.09799999743700027, \"is_present\": true, \"mean\": -0.9542639255523682, \"std\": 13.79709243774414, \"err_low\": -27.496185302734375, \"err_high\": 27.692184448242188}, {\"time\": \"2000-01-01T07:00:00\", \"variable\": \"VPD\", \"value\": 0.06599999964237213, \"is_present\": true, \"mean\": -4.886713981628418, \"std\": 30.32422637939453, \"err_low\": -60.58245086669922, \"err_high\": 60.714454650878906}, {\"time\": \"2000-01-01T07:30:00\", \"variable\": \"VPD\", \"value\": 0.04399999976158142, \"is_present\": true, \"mean\": 0.8272037506103516, \"std\": 7.8354716300964355, \"err_low\": -15.626943588256836, \"err_high\": 15.714942932128906}, {\"time\": \"2000-01-01T08:00:00\", \"variable\": \"VPD\", \"value\": 0.026000000536441803, \"is_present\": true, \"mean\": 1.0015480518341064, \"std\": 7.834912300109863, \"err_low\": -15.643824577331543, \"err_high\": 15.69582462310791}, {\"time\": \"2000-01-01T08:30:00\", \"variable\": \"VPD\", \"value\": 0.01600000075995922, \"is_present\": true, \"mean\": 1.0459699630737305, \"std\": 7.834481716156006, \"err_low\": -15.652963638305664, \"err_high\": 15.68496322631836}, {\"time\": \"2000-01-01T09:00:00\", \"variable\": \"VPD\", \"value\": 0.009999999776482582, \"is_present\": true, \"mean\": 1.0687267780303955, \"std\": 7.834463119506836, \"err_low\": -15.658926010131836, \"err_high\": 15.678926467895508}, {\"time\": \"2000-01-01T09:30:00\", \"variable\": \"VPD\", \"value\": 0.006000000052154064, \"is_present\": true, \"mean\": 1.113781213760376, \"std\": 7.8344645500183105, \"err_low\": -15.66292953491211, \"err_high\": 15.674928665161133}, {\"time\": \"2000-01-01T10:00:00\", \"variable\": \"VPD\", \"value\": 0.006000000052154064, \"is_present\": true, \"mean\": 1.1866378784179688, \"std\": 7.8344621658325195, \"err_low\": -15.662924766540527, \"err_high\": 15.67492389678955}], \"data-59238f6e871d51d2bc83ea9767edbe95\": [{\"time\": \"2000-01-01T15:30:00\", \"variable\": \"TA\", \"value\": 0.5199999809265137, \"is_present\": true, \"mean\": 16.927814483642578, \"std\": 23.673755645751953, \"err_low\": -46.827510833740234, \"err_high\": 47.86751174926758}, {\"time\": \"2000-01-01T16:00:00\", \"variable\": \"TA\", \"value\": 0.5699999928474426, \"is_present\": false, \"mean\": -5.583282470703125, \"std\": 20.697980880737305, \"err_low\": -40.82596206665039, \"err_high\": 41.96596145629883}, {\"time\": \"2000-01-01T16:30:00\", \"variable\": \"TA\", \"value\": 0.7300000190734863, \"is_present\": false, \"mean\": -10.340213775634766, \"std\": 52.11751174926758, \"err_low\": -103.50502014160156, \"err_high\": 104.96502685546875}, {\"time\": \"2000-01-01T17:00:00\", \"variable\": \"TA\", \"value\": 0.7699999809265137, \"is_present\": true, \"mean\": -21.900327682495117, \"std\": 124.72657012939453, \"err_low\": -248.68313598632812, \"err_high\": 250.22314453125}, {\"time\": \"2000-01-01T17:30:00\", \"variable\": \"TA\", \"value\": 0.8399999737739563, \"is_present\": true, \"mean\": -5.295488357543945, \"std\": 21.110151290893555, \"err_low\": -41.38030242919922, \"err_high\": 43.060302734375}, {\"time\": \"2000-01-01T18:00:00\", \"variable\": \"TA\", \"value\": 0.9900000095367432, \"is_present\": true, \"mean\": -4.704068183898926, \"std\": 21.11181640625, \"err_low\": -41.2336311340332, \"err_high\": 43.2136344909668}, {\"time\": \"2000-01-01T18:30:00\", \"variable\": \"TA\", \"value\": 1.350000023841858, \"is_present\": true, \"mean\": -4.332566261291504, \"std\": 21.10997200012207, \"err_low\": -40.86994552612305, \"err_high\": 43.569942474365234}, {\"time\": \"2000-01-01T19:00:00\", \"variable\": \"TA\", \"value\": 1.8600000143051147, \"is_present\": true, \"mean\": -3.6958885192871094, \"std\": 21.109880447387695, \"err_low\": -40.35976028442383, \"err_high\": 44.07976150512695}, {\"time\": \"2000-01-01T19:30:00\", \"variable\": \"TA\", \"value\": 2.009999990463257, \"is_present\": true, \"mean\": -2.8387298583984375, \"std\": 21.109886169433594, \"err_low\": -40.209774017333984, \"err_high\": 44.22977066040039}, {\"time\": \"2000-01-01T20:00:00\", \"variable\": \"TA\", \"value\": 2.069999933242798, \"is_present\": true, \"mean\": -2.642245292663574, \"std\": 21.109874725341797, \"err_low\": -40.149749755859375, \"err_high\": 44.28974914550781}], \"data-d6b47cc930662cfaece05cd24029a454\": [{\"time\": \"2000-01-01T15:30:00\", \"variable\": \"SW_IN\", \"value\": 8.09000015258789, \"is_present\": true, \"mean\": 443.9718933105469, \"std\": 608.4035034179688, \"err_low\": -1208.717041015625, \"err_high\": 1224.89697265625}, {\"time\": \"2000-01-01T16:00:00\", \"variable\": \"SW_IN\", \"value\": 6.369999885559082, \"is_present\": false, \"mean\": -137.35140991210938, \"std\": 534.645751953125, \"err_low\": -1062.9215087890625, \"err_high\": 1075.6614990234375}, {\"time\": \"2000-01-01T16:30:00\", \"variable\": \"SW_IN\", \"value\": 1.7200000286102295, \"is_present\": false, \"mean\": -263.6116943359375, \"std\": 1379.45947265625, \"err_low\": -2757.198974609375, \"err_high\": 2760.638916015625}, {\"time\": \"2000-01-01T17:00:00\", \"variable\": \"SW_IN\", \"value\": 0.05999999865889549, \"is_present\": true, \"mean\": -569.1424560546875, \"std\": 3266.22265625, \"err_low\": -6532.38525390625, \"err_high\": 6532.50537109375}, {\"time\": \"2000-01-01T17:30:00\", \"variable\": \"SW_IN\", \"value\": 0.0, \"is_present\": true, \"mean\": -115.93218231201172, \"std\": 554.3125610351562, \"err_low\": -1108.6251220703125, \"err_high\": 1108.6251220703125}, {\"time\": \"2000-01-01T18:00:00\", \"variable\": \"SW_IN\", \"value\": 0.0, \"is_present\": true, \"mean\": -87.45532989501953, \"std\": 553.3280639648438, \"err_low\": -1106.6561279296875, \"err_high\": 1106.6561279296875}, {\"time\": \"2000-01-01T18:30:00\", \"variable\": \"SW_IN\", \"value\": 0.0, \"is_present\": true, \"mean\": -77.96015167236328, \"std\": 553.2500610351562, \"err_low\": -1106.5001220703125, \"err_high\": 1106.5001220703125}, {\"time\": \"2000-01-01T19:00:00\", \"variable\": \"SW_IN\", \"value\": 0.0, \"is_present\": true, \"mean\": -63.006202697753906, \"std\": 553.2464599609375, \"err_low\": -1106.492919921875, \"err_high\": 1106.492919921875}, {\"time\": \"2000-01-01T19:30:00\", \"variable\": \"SW_IN\", \"value\": 0.0, \"is_present\": true, \"mean\": -43.59918975830078, \"std\": 553.2466430664062, \"err_low\": -1106.4932861328125, \"err_high\": 1106.4932861328125}, {\"time\": \"2000-01-01T20:00:00\", \"variable\": \"SW_IN\", \"value\": 0.0, \"is_present\": true, \"mean\": -40.72216033935547, \"std\": 553.2462768554688, \"err_low\": -1106.4925537109375, \"err_high\": 1106.4925537109375}], \"data-0eb9c8ccd36991245082224143ff7978\": [{\"time\": \"2000-01-01T15:30:00\", \"variable\": \"VPD\", \"value\": 0.0, \"is_present\": true, \"mean\": 5.925518035888672, \"std\": 7.849498748779297, \"err_low\": -15.698997497558594, \"err_high\": 15.698997497558594}, {\"time\": \"2000-01-01T16:00:00\", \"variable\": \"VPD\", \"value\": 0.0, \"is_present\": true, \"mean\": 1.1304395198822021, \"std\": 7.761356830596924, \"err_low\": -15.522713661193848, \"err_high\": 15.522713661193848}, {\"time\": \"2000-01-01T16:30:00\", \"variable\": \"VPD\", \"value\": 0.0, \"is_present\": true, \"mean\": -0.08710479736328125, \"std\": 13.79709243774414, \"err_low\": -27.59418487548828, \"err_high\": 27.59418487548828}, {\"time\": \"2000-01-01T17:00:00\", \"variable\": \"VPD\", \"value\": 0.0, \"is_present\": true, \"mean\": -2.8484485149383545, \"std\": 30.32422637939453, \"err_low\": -60.64845275878906, \"err_high\": 60.64845275878906}, {\"time\": \"2000-01-01T17:30:00\", \"variable\": \"VPD\", \"value\": 0.0, \"is_present\": true, \"mean\": 1.2265980243682861, \"std\": 7.8354716300964355, \"err_low\": -15.670943260192871, \"err_high\": 15.670943260192871}, {\"time\": \"2000-01-01T18:00:00\", \"variable\": \"VPD\", \"value\": 0.0, \"is_present\": true, \"mean\": 1.397937536239624, \"std\": 7.834912300109863, \"err_low\": -15.669824600219727, \"err_high\": 15.669824600219727}, {\"time\": \"2000-01-01T18:30:00\", \"variable\": \"VPD\", \"value\": 0.0, \"is_present\": true, \"mean\": 1.4879971742630005, \"std\": 7.834481716156006, \"err_low\": -15.668963432312012, \"err_high\": 15.668963432312012}, {\"time\": \"2000-01-01T19:00:00\", \"variable\": \"VPD\", \"value\": 0.0020000000949949026, \"is_present\": true, \"mean\": 1.6317764520645142, \"std\": 7.834463119506836, \"err_low\": -15.666926383972168, \"err_high\": 15.670926094055176}, {\"time\": \"2000-01-01T19:30:00\", \"variable\": \"VPD\", \"value\": 0.008999999612569809, \"is_present\": true, \"mean\": 1.8229504823684692, \"std\": 7.8344645500183105, \"err_low\": -15.659929275512695, \"err_high\": 15.677928924560547}, {\"time\": \"2000-01-01T20:00:00\", \"variable\": \"VPD\", \"value\": 0.014000000432133675, \"is_present\": true, \"mean\": 1.8621522188186646, \"std\": 7.8344621658325195, \"err_low\": -15.654924392700195, \"err_high\": 15.682924270629883}]}}, {\"mode\": \"vega-lite\"});\n",
       "</script>"
      ],
      "text/plain": [
       "alt.HConcatChart(...)"
      ]
     },
     "execution_count": null,
     "metadata": {},
     "output_type": "execute_result"
    }
   ],
   "source": [
    "plot_results(preds, targs, losses)"
   ]
  },
  {
   "cell_type": "code",
   "execution_count": null,
   "id": "5f6a1a9f-2a79-4b27-960b-4a8a446de9ac",
   "metadata": {},
   "outputs": [
    {
     "data": {
      "text/plain": [
       "[1590, 438, 1980]"
      ]
     },
     "execution_count": null,
     "metadata": {},
     "output_type": "execute_result"
    }
   ],
   "source": [
    "random.choices(learn.dls.items, k=3)"
   ]
  },
  {
   "cell_type": "code",
   "execution_count": null,
   "id": "ec86db59-0ee4-46c1-af35-290ba45284c0",
   "metadata": {},
   "outputs": [],
   "source": [
    "def show_results(learn, n=3):\n",
    "    items = random.choices(learn.dls.items, k=3)\n",
    "    pipe0, pipe1 = learn.dls.fs[0][0,1], learn.dls.fs[0][2,3]\n",
    "    return plot_results(*predict_items(items, learn, pipe0, pipe1))\n",
    "    "
   ]
  },
  {
   "cell_type": "code",
   "execution_count": null,
   "id": "38bb0979-c84d-45ff-8b25-6e737816204b",
   "metadata": {},
   "outputs": [
    {
     "name": "stdout",
     "output_type": "stream",
     "text": [
      "decoding\n",
      "decoding\n",
      "decoding\n"
     ]
    },
    {
     "data": {
      "text/html": [
       "\n",
       "<div id=\"altair-viz-885d2b7d8dbf43a3808862b1e45e25a8\"></div>\n",
       "<script type=\"text/javascript\">\n",
       "  var VEGA_DEBUG = (typeof VEGA_DEBUG == \"undefined\") ? {} : VEGA_DEBUG;\n",
       "  (function(spec, embedOpt){\n",
       "    let outputDiv = document.currentScript.previousElementSibling;\n",
       "    if (outputDiv.id !== \"altair-viz-885d2b7d8dbf43a3808862b1e45e25a8\") {\n",
       "      outputDiv = document.getElementById(\"altair-viz-885d2b7d8dbf43a3808862b1e45e25a8\");\n",
       "    }\n",
       "    const paths = {\n",
       "      \"vega\": \"https://cdn.jsdelivr.net/npm//vega@5?noext\",\n",
       "      \"vega-lib\": \"https://cdn.jsdelivr.net/npm//vega-lib?noext\",\n",
       "      \"vega-lite\": \"https://cdn.jsdelivr.net/npm//vega-lite@5.2.0?noext\",\n",
       "      \"vega-embed\": \"https://cdn.jsdelivr.net/npm//vega-embed@6?noext\",\n",
       "    };\n",
       "\n",
       "    function maybeLoadScript(lib, version) {\n",
       "      var key = `${lib.replace(\"-\", \"\")}_version`;\n",
       "      return (VEGA_DEBUG[key] == version) ?\n",
       "        Promise.resolve(paths[lib]) :\n",
       "        new Promise(function(resolve, reject) {\n",
       "          var s = document.createElement('script');\n",
       "          document.getElementsByTagName(\"head\")[0].appendChild(s);\n",
       "          s.async = true;\n",
       "          s.onload = () => {\n",
       "            VEGA_DEBUG[key] = version;\n",
       "            return resolve(paths[lib]);\n",
       "          };\n",
       "          s.onerror = () => reject(`Error loading script: ${paths[lib]}`);\n",
       "          s.src = paths[lib];\n",
       "        });\n",
       "    }\n",
       "\n",
       "    function showError(err) {\n",
       "      outputDiv.innerHTML = `<div class=\"error\" style=\"color:red;\">${err}</div>`;\n",
       "      throw err;\n",
       "    }\n",
       "\n",
       "    function displayChart(vegaEmbed) {\n",
       "      vegaEmbed(outputDiv, spec, embedOpt)\n",
       "        .catch(err => showError(`Javascript Error: ${err.message}<br>This usually means there's a typo in your chart specification. See the javascript console for the full traceback.`));\n",
       "    }\n",
       "\n",
       "    if(typeof define === \"function\" && define.amd) {\n",
       "      requirejs.config({paths});\n",
       "      require([\"vega-embed\"], displayChart, err => showError(`Error loading script: ${err.message}`));\n",
       "    } else {\n",
       "      maybeLoadScript(\"vega\", \"5\")\n",
       "        .then(() => maybeLoadScript(\"vega-lite\", \"5.2.0\"))\n",
       "        .then(() => maybeLoadScript(\"vega-embed\", \"6\"))\n",
       "        .catch(showError)\n",
       "        .then(() => displayChart(vegaEmbed));\n",
       "    }\n",
       "  })({\"config\": {\"view\": {\"continuousWidth\": 400, \"continuousHeight\": 300}}, \"hconcat\": [{\"vconcat\": [{\"hconcat\": [{\"layer\": [{\"mark\": {\"type\": \"point\", \"color\": \"black\", \"fillOpacity\": 1, \"strokeWidth\": 1}, \"encoding\": {\"fill\": {\"field\": \"is_present\", \"legend\": {\"title\": [\"Observed data\"]}, \"scale\": {\"range\": [\"black\", \"#ffffff00\"]}, \"type\": \"nominal\"}, \"shape\": {\"field\": \"is_present\", \"type\": \"nominal\"}, \"x\": {\"field\": \"time\", \"type\": \"temporal\"}, \"y\": {\"field\": \"value\", \"scale\": {\"zero\": false}, \"title\": \"TA\", \"type\": \"quantitative\"}}}, {\"layer\": [{\"mark\": \"errorband\", \"encoding\": {\"color\": {\"field\": \"variable\", \"legend\": {\"title\": [\"Line: pred. mean\", \"area: +/- 2 std\"]}, \"type\": \"nominal\"}, \"x\": {\"field\": \"time\", \"type\": \"temporal\"}, \"y\": {\"field\": \"err_low\", \"scale\": {\"zero\": false}, \"title\": \"TA\", \"type\": \"quantitative\"}, \"y2\": {\"field\": \"err_high\"}}, \"name\": \"view_51\"}, {\"mark\": \"line\", \"encoding\": {\"color\": {\"field\": \"variable\", \"type\": \"nominal\"}, \"x\": {\"field\": \"time\", \"type\": \"temporal\"}, \"y\": {\"field\": \"value\", \"scale\": {\"zero\": false}, \"title\": \"TA\", \"type\": \"quantitative\"}}}]}], \"height\": 150, \"title\": \"TA\", \"width\": 200}], \"data\": {\"name\": \"data-4912773811ab63a09221f97acb3dd1d0\"}}, {\"hconcat\": [{\"layer\": [{\"mark\": {\"type\": \"point\", \"color\": \"black\", \"fillOpacity\": 1, \"strokeWidth\": 1}, \"encoding\": {\"fill\": {\"field\": \"is_present\", \"legend\": {\"title\": [\"Observed data\"]}, \"scale\": {\"range\": [\"black\", \"#ffffff00\"]}, \"type\": \"nominal\"}, \"shape\": {\"field\": \"is_present\", \"type\": \"nominal\"}, \"x\": {\"field\": \"time\", \"type\": \"temporal\"}, \"y\": {\"field\": \"value\", \"scale\": {\"zero\": false}, \"title\": \"SW_IN\", \"type\": \"quantitative\"}}}, {\"layer\": [{\"mark\": \"errorband\", \"encoding\": {\"color\": {\"field\": \"variable\", \"legend\": {\"title\": [\"Line: pred. mean\", \"area: +/- 2 std\"]}, \"type\": \"nominal\"}, \"x\": {\"field\": \"time\", \"type\": \"temporal\"}, \"y\": {\"field\": \"err_low\", \"scale\": {\"zero\": false}, \"title\": \"SW_IN\", \"type\": \"quantitative\"}, \"y2\": {\"field\": \"err_high\"}}, \"name\": \"view_52\"}, {\"mark\": \"line\", \"encoding\": {\"color\": {\"field\": \"variable\", \"type\": \"nominal\"}, \"x\": {\"field\": \"time\", \"type\": \"temporal\"}, \"y\": {\"field\": \"value\", \"scale\": {\"zero\": false}, \"title\": \"SW_IN\", \"type\": \"quantitative\"}}}]}], \"height\": 150, \"title\": \"SW_IN\", \"width\": 200}], \"data\": {\"name\": \"data-18a197dde8de537e1a0a9ffba864aaab\"}}, {\"hconcat\": [{\"layer\": [{\"mark\": {\"type\": \"point\", \"color\": \"black\", \"fillOpacity\": 1, \"strokeWidth\": 1}, \"encoding\": {\"fill\": {\"field\": \"is_present\", \"legend\": {\"title\": [\"Observed data\"]}, \"scale\": {\"range\": [\"black\", \"#ffffff00\"]}, \"type\": \"nominal\"}, \"shape\": {\"field\": \"is_present\", \"type\": \"nominal\"}, \"x\": {\"field\": \"time\", \"type\": \"temporal\"}, \"y\": {\"field\": \"value\", \"scale\": {\"zero\": false}, \"title\": \"VPD\", \"type\": \"quantitative\"}}}, {\"layer\": [{\"mark\": \"errorband\", \"encoding\": {\"color\": {\"field\": \"variable\", \"legend\": {\"title\": [\"Line: pred. mean\", \"area: +/- 2 std\"]}, \"type\": \"nominal\"}, \"x\": {\"field\": \"time\", \"type\": \"temporal\"}, \"y\": {\"field\": \"err_low\", \"scale\": {\"zero\": false}, \"title\": \"VPD\", \"type\": \"quantitative\"}, \"y2\": {\"field\": \"err_high\"}}, \"name\": \"view_53\"}, {\"mark\": \"line\", \"encoding\": {\"color\": {\"field\": \"variable\", \"type\": \"nominal\"}, \"x\": {\"field\": \"time\", \"type\": \"temporal\"}, \"y\": {\"field\": \"value\", \"scale\": {\"zero\": false}, \"title\": \"VPD\", \"type\": \"quantitative\"}}}]}], \"height\": 150, \"title\": \"VPD\", \"width\": 200}], \"data\": {\"name\": \"data-dd6d773b9e2aa591b7a8e6c2eec7c504\"}}], \"title\": \"loss: -44.159195\"}, {\"vconcat\": [{\"hconcat\": [{\"layer\": [{\"mark\": {\"type\": \"point\", \"color\": \"black\", \"fillOpacity\": 1, \"strokeWidth\": 1}, \"encoding\": {\"fill\": {\"field\": \"is_present\", \"legend\": {\"title\": [\"Observed data\"]}, \"scale\": {\"range\": [\"black\", \"#ffffff00\"]}, \"type\": \"nominal\"}, \"shape\": {\"field\": \"is_present\", \"type\": \"nominal\"}, \"x\": {\"field\": \"time\", \"type\": \"temporal\"}, \"y\": {\"field\": \"value\", \"scale\": {\"zero\": false}, \"title\": \"TA\", \"type\": \"quantitative\"}}}, {\"layer\": [{\"mark\": \"errorband\", \"encoding\": {\"color\": {\"field\": \"variable\", \"legend\": {\"title\": [\"Line: pred. mean\", \"area: +/- 2 std\"]}, \"type\": \"nominal\"}, \"x\": {\"field\": \"time\", \"type\": \"temporal\"}, \"y\": {\"field\": \"err_low\", \"scale\": {\"zero\": false}, \"title\": \"TA\", \"type\": \"quantitative\"}, \"y2\": {\"field\": \"err_high\"}}, \"name\": \"view_54\"}, {\"mark\": \"line\", \"encoding\": {\"color\": {\"field\": \"variable\", \"type\": \"nominal\"}, \"x\": {\"field\": \"time\", \"type\": \"temporal\"}, \"y\": {\"field\": \"value\", \"scale\": {\"zero\": false}, \"title\": \"TA\", \"type\": \"quantitative\"}}}]}], \"height\": 150, \"title\": \"TA\", \"width\": 200}], \"data\": {\"name\": \"data-0364d283aa371ca68aad78789d5965f7\"}}, {\"hconcat\": [{\"layer\": [{\"mark\": {\"type\": \"point\", \"color\": \"black\", \"fillOpacity\": 1, \"strokeWidth\": 1}, \"encoding\": {\"fill\": {\"field\": \"is_present\", \"legend\": {\"title\": [\"Observed data\"]}, \"scale\": {\"range\": [\"black\", \"#ffffff00\"]}, \"type\": \"nominal\"}, \"shape\": {\"field\": \"is_present\", \"type\": \"nominal\"}, \"x\": {\"field\": \"time\", \"type\": \"temporal\"}, \"y\": {\"field\": \"value\", \"scale\": {\"zero\": false}, \"title\": \"SW_IN\", \"type\": \"quantitative\"}}}, {\"layer\": [{\"mark\": \"errorband\", \"encoding\": {\"color\": {\"field\": \"variable\", \"legend\": {\"title\": [\"Line: pred. mean\", \"area: +/- 2 std\"]}, \"type\": \"nominal\"}, \"x\": {\"field\": \"time\", \"type\": \"temporal\"}, \"y\": {\"field\": \"err_low\", \"scale\": {\"zero\": false}, \"title\": \"SW_IN\", \"type\": \"quantitative\"}, \"y2\": {\"field\": \"err_high\"}}, \"name\": \"view_55\"}, {\"mark\": \"line\", \"encoding\": {\"color\": {\"field\": \"variable\", \"type\": \"nominal\"}, \"x\": {\"field\": \"time\", \"type\": \"temporal\"}, \"y\": {\"field\": \"value\", \"scale\": {\"zero\": false}, \"title\": \"SW_IN\", \"type\": \"quantitative\"}}}]}], \"height\": 150, \"title\": \"SW_IN\", \"width\": 200}], \"data\": {\"name\": \"data-841233a476c094280eac70a6818ee127\"}}, {\"hconcat\": [{\"layer\": [{\"mark\": {\"type\": \"point\", \"color\": \"black\", \"fillOpacity\": 1, \"strokeWidth\": 1}, \"encoding\": {\"fill\": {\"field\": \"is_present\", \"legend\": {\"title\": [\"Observed data\"]}, \"scale\": {\"range\": [\"black\", \"#ffffff00\"]}, \"type\": \"nominal\"}, \"shape\": {\"field\": \"is_present\", \"type\": \"nominal\"}, \"x\": {\"field\": \"time\", \"type\": \"temporal\"}, \"y\": {\"field\": \"value\", \"scale\": {\"zero\": false}, \"title\": \"VPD\", \"type\": \"quantitative\"}}}, {\"layer\": [{\"mark\": \"errorband\", \"encoding\": {\"color\": {\"field\": \"variable\", \"legend\": {\"title\": [\"Line: pred. mean\", \"area: +/- 2 std\"]}, \"type\": \"nominal\"}, \"x\": {\"field\": \"time\", \"type\": \"temporal\"}, \"y\": {\"field\": \"err_low\", \"scale\": {\"zero\": false}, \"title\": \"VPD\", \"type\": \"quantitative\"}, \"y2\": {\"field\": \"err_high\"}}, \"name\": \"view_56\"}, {\"mark\": \"line\", \"encoding\": {\"color\": {\"field\": \"variable\", \"type\": \"nominal\"}, \"x\": {\"field\": \"time\", \"type\": \"temporal\"}, \"y\": {\"field\": \"value\", \"scale\": {\"zero\": false}, \"title\": \"VPD\", \"type\": \"quantitative\"}}}]}], \"height\": 150, \"title\": \"VPD\", \"width\": 200}], \"data\": {\"name\": \"data-51a15b529451894f1ecc192fec1dcbdb\"}}], \"title\": \"loss: -44.162331\"}, {\"vconcat\": [{\"hconcat\": [{\"layer\": [{\"mark\": {\"type\": \"point\", \"color\": \"black\", \"fillOpacity\": 1, \"strokeWidth\": 1}, \"encoding\": {\"fill\": {\"field\": \"is_present\", \"legend\": {\"title\": [\"Observed data\"]}, \"scale\": {\"range\": [\"black\", \"#ffffff00\"]}, \"type\": \"nominal\"}, \"shape\": {\"field\": \"is_present\", \"type\": \"nominal\"}, \"x\": {\"field\": \"time\", \"type\": \"temporal\"}, \"y\": {\"field\": \"value\", \"scale\": {\"zero\": false}, \"title\": \"TA\", \"type\": \"quantitative\"}}}, {\"layer\": [{\"mark\": \"errorband\", \"encoding\": {\"color\": {\"field\": \"variable\", \"legend\": {\"title\": [\"Line: pred. mean\", \"area: +/- 2 std\"]}, \"type\": \"nominal\"}, \"x\": {\"field\": \"time\", \"type\": \"temporal\"}, \"y\": {\"field\": \"err_low\", \"scale\": {\"zero\": false}, \"title\": \"TA\", \"type\": \"quantitative\"}, \"y2\": {\"field\": \"err_high\"}}, \"name\": \"view_57\"}, {\"mark\": \"line\", \"encoding\": {\"color\": {\"field\": \"variable\", \"type\": \"nominal\"}, \"x\": {\"field\": \"time\", \"type\": \"temporal\"}, \"y\": {\"field\": \"value\", \"scale\": {\"zero\": false}, \"title\": \"TA\", \"type\": \"quantitative\"}}}]}], \"height\": 150, \"title\": \"TA\", \"width\": 200}], \"data\": {\"name\": \"data-2fddf56504688767b556f2597ed30a34\"}}, {\"hconcat\": [{\"layer\": [{\"mark\": {\"type\": \"point\", \"color\": \"black\", \"fillOpacity\": 1, \"strokeWidth\": 1}, \"encoding\": {\"fill\": {\"field\": \"is_present\", \"legend\": {\"title\": [\"Observed data\"]}, \"scale\": {\"range\": [\"black\", \"#ffffff00\"]}, \"type\": \"nominal\"}, \"shape\": {\"field\": \"is_present\", \"type\": \"nominal\"}, \"x\": {\"field\": \"time\", \"type\": \"temporal\"}, \"y\": {\"field\": \"value\", \"scale\": {\"zero\": false}, \"title\": \"SW_IN\", \"type\": \"quantitative\"}}}, {\"layer\": [{\"mark\": \"errorband\", \"encoding\": {\"color\": {\"field\": \"variable\", \"legend\": {\"title\": [\"Line: pred. mean\", \"area: +/- 2 std\"]}, \"type\": \"nominal\"}, \"x\": {\"field\": \"time\", \"type\": \"temporal\"}, \"y\": {\"field\": \"err_low\", \"scale\": {\"zero\": false}, \"title\": \"SW_IN\", \"type\": \"quantitative\"}, \"y2\": {\"field\": \"err_high\"}}, \"name\": \"view_58\"}, {\"mark\": \"line\", \"encoding\": {\"color\": {\"field\": \"variable\", \"type\": \"nominal\"}, \"x\": {\"field\": \"time\", \"type\": \"temporal\"}, \"y\": {\"field\": \"value\", \"scale\": {\"zero\": false}, \"title\": \"SW_IN\", \"type\": \"quantitative\"}}}]}], \"height\": 150, \"title\": \"SW_IN\", \"width\": 200}], \"data\": {\"name\": \"data-9bffc77a5aee77673d4008b0d7271acd\"}}, {\"hconcat\": [{\"layer\": [{\"mark\": {\"type\": \"point\", \"color\": \"black\", \"fillOpacity\": 1, \"strokeWidth\": 1}, \"encoding\": {\"fill\": {\"field\": \"is_present\", \"legend\": {\"title\": [\"Observed data\"]}, \"scale\": {\"range\": [\"black\", \"#ffffff00\"]}, \"type\": \"nominal\"}, \"shape\": {\"field\": \"is_present\", \"type\": \"nominal\"}, \"x\": {\"field\": \"time\", \"type\": \"temporal\"}, \"y\": {\"field\": \"value\", \"scale\": {\"zero\": false}, \"title\": \"VPD\", \"type\": \"quantitative\"}}}, {\"layer\": [{\"mark\": \"errorband\", \"encoding\": {\"color\": {\"field\": \"variable\", \"legend\": {\"title\": [\"Line: pred. mean\", \"area: +/- 2 std\"]}, \"type\": \"nominal\"}, \"x\": {\"field\": \"time\", \"type\": \"temporal\"}, \"y\": {\"field\": \"err_low\", \"scale\": {\"zero\": false}, \"title\": \"VPD\", \"type\": \"quantitative\"}, \"y2\": {\"field\": \"err_high\"}}, \"name\": \"view_59\"}, {\"mark\": \"line\", \"encoding\": {\"color\": {\"field\": \"variable\", \"type\": \"nominal\"}, \"x\": {\"field\": \"time\", \"type\": \"temporal\"}, \"y\": {\"field\": \"value\", \"scale\": {\"zero\": false}, \"title\": \"VPD\", \"type\": \"quantitative\"}}}]}], \"height\": 150, \"title\": \"VPD\", \"width\": 200}], \"data\": {\"name\": \"data-69ac421c3ce372257909813f2bf3399c\"}}], \"title\": \"loss: -44.356705\"}], \"params\": [{\"name\": \"param_71\", \"select\": {\"type\": \"interval\", \"encodings\": [\"x\"]}, \"bind\": \"scales\", \"views\": [\"view_51\", \"view_52\", \"view_53\"]}, {\"name\": \"param_75\", \"select\": {\"type\": \"interval\", \"encodings\": [\"x\"]}, \"bind\": \"scales\", \"views\": [\"view_54\", \"view_55\", \"view_56\"]}, {\"name\": \"param_79\", \"select\": {\"type\": \"interval\", \"encodings\": [\"x\"]}, \"bind\": \"scales\", \"views\": [\"view_57\", \"view_58\", \"view_59\"]}], \"$schema\": \"https://vega.github.io/schema/vega-lite/v5.2.0.json\", \"datasets\": {\"data-4912773811ab63a09221f97acb3dd1d0\": [{\"time\": \"2000-02-02T22:30:00\", \"variable\": \"TA\", \"value\": 3.549999952316284, \"is_present\": true, \"mean\": 15.613127708435059, \"std\": 21.271610260009766, \"err_low\": -38.993221282958984, \"err_high\": 46.09321975708008}, {\"time\": \"2000-02-02T23:00:00\", \"variable\": \"TA\", \"value\": 3.4700000286102295, \"is_present\": true, \"mean\": -1.219409465789795, \"std\": 18.5977840423584, \"err_low\": -33.72556686401367, \"err_high\": 40.66556930541992}, {\"time\": \"2000-02-02T23:30:00\", \"variable\": \"TA\", \"value\": 3.4700000286102295, \"is_present\": true, \"mean\": -1.1929497718811035, \"std\": 18.96443748474121, \"err_low\": -34.4588737487793, \"err_high\": 41.39887619018555}, {\"time\": \"2000-02-03T00:00:00\", \"variable\": \"TA\", \"value\": 3.450000047683716, \"is_present\": true, \"mean\": -1.047558307647705, \"std\": 18.96782875061035, \"err_low\": -34.48565673828125, \"err_high\": 41.385658264160156}, {\"time\": \"2000-02-03T00:30:00\", \"variable\": \"TA\", \"value\": 3.4100000858306885, \"is_present\": true, \"mean\": -1.0383925437927246, \"std\": 18.967937469482422, \"err_low\": -34.525875091552734, \"err_high\": 41.34587478637695}, {\"time\": \"2000-02-03T01:00:00\", \"variable\": \"TA\", \"value\": 3.1500000953674316, \"is_present\": true, \"mean\": -1.0833287239074707, \"std\": 18.967859268188477, \"err_low\": -34.78571701049805, \"err_high\": 41.08572006225586}, {\"time\": \"2000-02-03T01:30:00\", \"variable\": \"TA\", \"value\": 2.5899999141693115, \"is_present\": true, \"mean\": -1.3487544059753418, \"std\": 18.967824935913086, \"err_low\": -35.34564971923828, \"err_high\": 40.52565002441406}, {\"time\": \"2000-02-03T02:00:00\", \"variable\": \"TA\", \"value\": 1.9600000381469727, \"is_present\": false, \"mean\": -1.952892780303955, \"std\": 18.96784019470215, \"err_low\": -35.97568130493164, \"err_high\": 39.89567947387695}, {\"time\": \"2000-02-03T02:30:00\", \"variable\": \"TA\", \"value\": 1.899999976158142, \"is_present\": false, \"mean\": -2.3026366233825684, \"std\": 47.876365661621094, \"err_low\": -93.85272979736328, \"err_high\": 97.6527328491211}, {\"time\": \"2000-02-03T03:00:00\", \"variable\": \"TA\", \"value\": 1.850000023841858, \"is_present\": true, \"mean\": -3.6633658409118652, \"std\": 114.58728790283203, \"err_low\": -227.32456970214844, \"err_high\": 231.0245819091797}], \"data-18a197dde8de537e1a0a9ffba864aaab\": [{\"time\": \"2000-02-02T22:30:00\", \"variable\": \"SW_IN\", \"value\": 0.0, \"is_present\": true, \"mean\": 408.2739562988281, \"std\": 565.4002685546875, \"err_low\": -1130.800537109375, \"err_high\": 1130.800537109375}, {\"time\": \"2000-02-02T23:00:00\", \"variable\": \"SW_IN\", \"value\": 0.0, \"is_present\": true, \"mean\": -58.47321319580078, \"std\": 496.8558654785156, \"err_low\": -993.7117309570312, \"err_high\": 993.7117309570312}, {\"time\": \"2000-02-02T23:30:00\", \"variable\": \"SW_IN\", \"value\": 0.0, \"is_present\": true, \"mean\": -36.383216857910156, \"std\": 514.0864868164062, \"err_low\": -1028.1729736328125, \"err_high\": 1028.1729736328125}, {\"time\": \"2000-02-03T00:00:00\", \"variable\": \"SW_IN\", \"value\": 0.0, \"is_present\": true, \"mean\": -31.731101989746094, \"std\": 514.140380859375, \"err_low\": -1028.28076171875, \"err_high\": 1028.28076171875}, {\"time\": \"2000-02-03T00:30:00\", \"variable\": \"SW_IN\", \"value\": 0.0, \"is_present\": true, \"mean\": -31.08324432373047, \"std\": 514.1433715820312, \"err_low\": -1028.2867431640625, \"err_high\": 1028.2867431640625}, {\"time\": \"2000-02-03T01:00:00\", \"variable\": \"SW_IN\", \"value\": 0.0, \"is_present\": true, \"mean\": -31.995521545410156, \"std\": 514.1409301757812, \"err_low\": -1028.2818603515625, \"err_high\": 1028.2818603515625}, {\"time\": \"2000-02-03T01:30:00\", \"variable\": \"SW_IN\", \"value\": 0.0, \"is_present\": true, \"mean\": -37.09607696533203, \"std\": 514.1400146484375, \"err_low\": -1028.280029296875, \"err_high\": 1028.280029296875}, {\"time\": \"2000-02-03T02:00:00\", \"variable\": \"SW_IN\", \"value\": 0.0, \"is_present\": false, \"mean\": -48.74199676513672, \"std\": 514.140625, \"err_low\": -1028.28125, \"err_high\": 1028.28125}, {\"time\": \"2000-02-03T02:30:00\", \"variable\": \"SW_IN\", \"value\": 0.0, \"is_present\": false, \"mean\": -69.37787628173828, \"std\": 1311.83203125, \"err_low\": -2623.6640625, \"err_high\": 2623.6640625}, {\"time\": \"2000-02-03T03:00:00\", \"variable\": \"SW_IN\", \"value\": 0.0, \"is_present\": true, \"mean\": -111.08519744873047, \"std\": 3103.80859375, \"err_low\": -6207.6171875, \"err_high\": 6207.6171875}], \"data-dd6d773b9e2aa591b7a8e6c2eec7c504\": [{\"time\": \"2000-02-02T22:30:00\", \"variable\": \"VPD\", \"value\": 1.8760000467300415, \"is_present\": true, \"mean\": 4.973276138305664, \"std\": 6.5317277908325195, \"err_low\": -11.187455177307129, \"err_high\": 14.93945598602295}, {\"time\": \"2000-02-02T23:00:00\", \"variable\": \"VPD\", \"value\": 1.8669999837875366, \"is_present\": true, \"mean\": 1.6573652029037476, \"std\": 6.458383560180664, \"err_low\": -11.04976749420166, \"err_high\": 14.783766746520996}, {\"time\": \"2000-02-02T23:30:00\", \"variable\": \"VPD\", \"value\": 2.0510001182556152, \"is_present\": true, \"mean\": 1.6914608478546143, \"std\": 6.518609046936035, \"err_low\": -10.986217498779297, \"err_high\": 15.088218688964844}, {\"time\": \"2000-02-03T00:00:00\", \"variable\": \"VPD\", \"value\": 2.055999994277954, \"is_present\": true, \"mean\": 1.7340232133865356, \"std\": 6.519209861755371, \"err_low\": -10.982419967651367, \"err_high\": 15.094419479370117}, {\"time\": \"2000-02-03T00:30:00\", \"variable\": \"VPD\", \"value\": 2.0190000534057617, \"is_present\": true, \"mean\": 1.7373270988464355, \"std\": 6.519224166870117, \"err_low\": -11.019448280334473, \"err_high\": 15.057448387145996}, {\"time\": \"2000-02-03T01:00:00\", \"variable\": \"VPD\", \"value\": 1.6549999713897705, \"is_present\": true, \"mean\": 1.7288860082626343, \"std\": 6.51921272277832, \"err_low\": -11.38342571258545, \"err_high\": 14.693425178527832}, {\"time\": \"2000-02-03T01:30:00\", \"variable\": \"VPD\", \"value\": 1.0010000467300415, \"is_present\": true, \"mean\": 1.6801303625106812, \"std\": 6.519207954406738, \"err_low\": -12.037415504455566, \"err_high\": 14.039416313171387}, {\"time\": \"2000-02-03T02:00:00\", \"variable\": \"VPD\", \"value\": 0.44600000977516174, \"is_present\": true, \"mean\": 1.5678454637527466, \"std\": 6.519209861755371, \"err_low\": -12.592419624328613, \"err_high\": 13.484419822692871}, {\"time\": \"2000-02-03T02:30:00\", \"variable\": \"VPD\", \"value\": 0.43700000643730164, \"is_present\": true, \"mean\": 1.4356701374053955, \"std\": 11.697320938110352, \"err_low\": -22.9576416015625, \"err_high\": 23.831642150878906}, {\"time\": \"2000-02-03T03:00:00\", \"variable\": \"VPD\", \"value\": 0.4099999964237213, \"is_present\": true, \"mean\": 1.1171232461929321, \"std\": 25.77984619140625, \"err_low\": -51.14969253540039, \"err_high\": 51.96969223022461}], \"data-0364d283aa371ca68aad78789d5965f7\": [{\"time\": \"2001-02-12T03:30:00\", \"variable\": \"TA\", \"value\": 5.610000133514404, \"is_present\": true, \"mean\": 15.613127708435059, \"std\": 21.271610260009766, \"err_low\": -36.93321990966797, \"err_high\": 48.153221130371094}, {\"time\": \"2001-02-12T04:00:00\", \"variable\": \"TA\", \"value\": 5.599999904632568, \"is_present\": true, \"mean\": 2.9039783477783203, \"std\": 18.5977840423584, \"err_low\": -31.59556770324707, \"err_high\": 42.79556655883789}, {\"time\": \"2001-02-12T04:30:00\", \"variable\": \"TA\", \"value\": 5.659999847412109, \"is_present\": false, \"mean\": 2.997044563293457, \"std\": 18.96443748474121, \"err_low\": -32.26887512207031, \"err_high\": 43.58887481689453}, {\"time\": \"2001-02-12T05:00:00\", \"variable\": \"TA\", \"value\": 5.550000190734863, \"is_present\": false, \"mean\": 8.460204124450684, \"std\": 47.869354248046875, \"err_low\": -90.18870544433594, \"err_high\": 101.28871154785156}, {\"time\": \"2001-02-12T05:30:00\", \"variable\": \"TA\", \"value\": 5.389999866485596, \"is_present\": true, \"mean\": 21.297273635864258, \"std\": 114.57122039794922, \"err_low\": -223.75244140625, \"err_high\": 234.53244018554688}, {\"time\": \"2001-02-12T06:00:00\", \"variable\": \"TA\", \"value\": 5.230000019073486, \"is_present\": true, \"mean\": 2.762362480163574, \"std\": 19.008150100708008, \"err_low\": -32.78630065917969, \"err_high\": 43.246299743652344}, {\"time\": \"2001-02-12T06:30:00\", \"variable\": \"TA\", \"value\": 5.079999923706055, \"is_present\": true, \"mean\": 2.5515432357788086, \"std\": 18.96965217590332, \"err_low\": -32.85930633544922, \"err_high\": 43.01930236816406}, {\"time\": \"2001-02-12T07:00:00\", \"variable\": \"TA\", \"value\": 4.909999847412109, \"is_present\": true, \"mean\": 2.26883602142334, \"std\": 18.967988967895508, \"err_low\": -33.025978088378906, \"err_high\": 42.845977783203125}, {\"time\": \"2001-02-12T07:30:00\", \"variable\": \"TA\", \"value\": 4.860000133514404, \"is_present\": true, \"mean\": 1.902219295501709, \"std\": 18.967859268188477, \"err_low\": -33.07571792602539, \"err_high\": 42.795719146728516}, {\"time\": \"2001-02-12T08:00:00\", \"variable\": \"TA\", \"value\": 4.829999923706055, \"is_present\": true, \"mean\": 1.8735637664794922, \"std\": 18.96786117553711, \"err_low\": -33.10572052001953, \"err_high\": 42.765724182128906}], \"data-841233a476c094280eac70a6818ee127\": [{\"time\": \"2001-02-12T03:30:00\", \"variable\": \"SW_IN\", \"value\": 0.0, \"is_present\": true, \"mean\": 408.2739562988281, \"std\": 565.4002685546875, \"err_low\": -1130.800537109375, \"err_high\": 1130.800537109375}, {\"time\": \"2001-02-12T04:00:00\", \"variable\": \"SW_IN\", \"value\": 0.0, \"is_present\": true, \"mean\": 46.94819641113281, \"std\": 496.8558654785156, \"err_low\": -993.7117309570312, \"err_high\": 993.7117309570312}, {\"time\": \"2001-02-12T04:30:00\", \"variable\": \"SW_IN\", \"value\": 0.0, \"is_present\": false, \"mean\": 65.1364517211914, \"std\": 514.0864868164062, \"err_low\": -1028.1729736328125, \"err_high\": 1028.1729736328125}, {\"time\": \"2001-02-12T05:00:00\", \"variable\": \"SW_IN\", \"value\": 0.0, \"is_present\": false, \"mean\": 212.8363494873047, \"std\": 1311.646484375, \"err_low\": -2623.29296875, \"err_high\": 2623.29296875}, {\"time\": \"2001-02-12T05:30:00\", \"variable\": \"SW_IN\", \"value\": 0.0, \"is_present\": true, \"mean\": 558.77294921875, \"std\": 3103.37890625, \"err_low\": -6206.7578125, \"err_high\": 6206.7578125}, {\"time\": \"2001-02-12T06:00:00\", \"variable\": \"SW_IN\", \"value\": 0.0, \"is_present\": true, \"mean\": 59.126564025878906, \"std\": 516.02587890625, \"err_low\": -1032.0517578125, \"err_high\": 1032.0517578125}, {\"time\": \"2001-02-12T06:30:00\", \"variable\": \"SW_IN\", \"value\": 0.0, \"is_present\": true, \"mean\": 56.0333251953125, \"std\": 514.2247924804688, \"err_low\": -1028.4495849609375, \"err_high\": 1028.4495849609375}, {\"time\": \"2001-02-12T07:00:00\", \"variable\": \"SW_IN\", \"value\": 0.0, \"is_present\": true, \"mean\": 49.2447624206543, \"std\": 514.14599609375, \"err_low\": -1028.2919921875, \"err_high\": 1028.2919921875}, {\"time\": \"2001-02-12T07:30:00\", \"variable\": \"SW_IN\", \"value\": 0.0, \"is_present\": true, \"mean\": 40.04210662841797, \"std\": 514.1409301757812, \"err_low\": -1028.2818603515625, \"err_high\": 1028.2818603515625}, {\"time\": \"2001-02-12T08:00:00\", \"variable\": \"SW_IN\", \"value\": 1.5299999713897705, \"is_present\": true, \"mean\": 40.300941467285156, \"std\": 514.1409912109375, \"err_low\": -1026.751953125, \"err_high\": 1029.81201171875}], \"data-51a15b529451894f1ecc192fec1dcbdb\": [{\"time\": \"2001-02-12T03:30:00\", \"variable\": \"VPD\", \"value\": 0.8989999890327454, \"is_present\": true, \"mean\": 4.973276138305664, \"std\": 6.5317277908325195, \"err_low\": -12.16445541381836, \"err_high\": 13.962455749511719}, {\"time\": \"2001-02-12T04:00:00\", \"variable\": \"VPD\", \"value\": 0.7620000243186951, \"is_present\": true, \"mean\": 2.541638135910034, \"std\": 6.458383560180664, \"err_low\": -12.154767036437988, \"err_high\": 13.678767204284668}, {\"time\": \"2001-02-12T04:30:00\", \"variable\": \"VPD\", \"value\": 0.6759999990463257, \"is_present\": true, \"mean\": 2.5784871578216553, \"std\": 6.518609046936035, \"err_low\": -12.361218452453613, \"err_high\": 13.713217735290527}, {\"time\": \"2001-02-12T05:00:00\", \"variable\": \"VPD\", \"value\": 0.6620000004768372, \"is_present\": true, \"mean\": 3.77642822265625, \"std\": 11.695956230163574, \"err_low\": -22.72991180419922, \"err_high\": 24.053913116455078}, {\"time\": \"2001-02-12T05:30:00\", \"variable\": \"VPD\", \"value\": 0.7200000286102295, \"is_present\": true, \"mean\": 6.605592727661133, \"std\": 25.77638053894043, \"err_low\": -50.832759857177734, \"err_high\": 52.272762298583984}, {\"time\": \"2001-02-12T06:00:00\", \"variable\": \"VPD\", \"value\": 0.7649999856948853, \"is_present\": true, \"mean\": 2.537557363510132, \"std\": 6.525506973266602, \"err_low\": -12.28601360321045, \"err_high\": 13.816014289855957}, {\"time\": \"2001-02-12T06:30:00\", \"variable\": \"VPD\", \"value\": 0.8510000109672546, \"is_present\": true, \"mean\": 2.4978175163269043, \"std\": 6.519598007202148, \"err_low\": -12.188196182250977, \"err_high\": 13.890195846557617}, {\"time\": \"2001-02-12T07:00:00\", \"variable\": \"VPD\", \"value\": 1.0169999599456787, \"is_present\": true, \"mean\": 2.438520908355713, \"std\": 6.519235134124756, \"err_low\": -12.021470069885254, \"err_high\": 14.05547046661377}, {\"time\": \"2001-02-12T07:30:00\", \"variable\": \"VPD\", \"value\": 0.925000011920929, \"is_present\": true, \"mean\": 2.3598146438598633, \"std\": 6.51921272277832, \"err_low\": -12.113425254821777, \"err_high\": 13.963425636291504}, {\"time\": \"2001-02-12T08:00:00\", \"variable\": \"VPD\", \"value\": 0.8420000076293945, \"is_present\": true, \"mean\": 2.3568668365478516, \"std\": 6.51921272277832, \"err_low\": -12.196425437927246, \"err_high\": 13.880425453186035}], \"data-2fddf56504688767b556f2597ed30a34\": [{\"time\": \"2000-09-07T10:30:00\", \"variable\": \"TA\", \"value\": 10.34000015258789, \"is_present\": false, \"mean\": 15.613127708435059, \"std\": 21.271610260009766, \"err_low\": -32.20322036743164, \"err_high\": 52.88322067260742}, {\"time\": \"2000-09-07T11:00:00\", \"variable\": \"TA\", \"value\": 10.899999618530273, \"is_present\": false, \"mean\": 36.73554229736328, \"std\": 51.13701248168945, \"err_low\": -91.3740234375, \"err_high\": 113.17402648925781}, {\"time\": \"2000-09-07T11:30:00\", \"variable\": \"TA\", \"value\": 11.489999771118164, \"is_present\": true, \"mean\": 87.17092895507812, \"std\": 121.28014373779297, \"err_low\": -231.07028198242188, \"err_high\": 254.05029296875}, {\"time\": \"2000-09-07T12:00:00\", \"variable\": \"TA\", \"value\": 11.649999618530273, \"is_present\": true, \"mean\": 20.09406280517578, \"std\": 18.977272033691406, \"err_low\": -26.30454444885254, \"err_high\": 49.60454559326172}, {\"time\": \"2000-09-07T12:30:00\", \"variable\": \"TA\", \"value\": 11.920000076293945, \"is_present\": true, \"mean\": 24.112571716308594, \"std\": 18.96969223022461, \"err_low\": -26.019384384155273, \"err_high\": 49.85938262939453}, {\"time\": \"2000-09-07T13:00:00\", \"variable\": \"TA\", \"value\": 13.449999809265137, \"is_present\": true, \"mean\": 24.85751724243164, \"std\": 18.967926025390625, \"err_low\": -24.485851287841797, \"err_high\": 51.3858528137207}, {\"time\": \"2000-09-07T13:30:00\", \"variable\": \"TA\", \"value\": 13.430000305175781, \"is_present\": true, \"mean\": 35.327640533447266, \"std\": 18.967859268188477, \"err_low\": -24.505718231201172, \"err_high\": 51.365718841552734}, {\"time\": \"2000-09-07T14:00:00\", \"variable\": \"TA\", \"value\": 13.520000457763672, \"is_present\": true, \"mean\": 26.654069900512695, \"std\": 18.967897415161133, \"err_low\": -24.415794372558594, \"err_high\": 51.45579528808594}, {\"time\": \"2000-09-07T14:30:00\", \"variable\": \"TA\", \"value\": 13.699999809265137, \"is_present\": true, \"mean\": 25.85236167907715, \"std\": 18.9679012298584, \"err_low\": -24.235801696777344, \"err_high\": 51.63580322265625}, {\"time\": \"2000-09-07T15:00:00\", \"variable\": \"TA\", \"value\": 14.170000076293945, \"is_present\": true, \"mean\": 23.362071990966797, \"std\": 18.967859268188477, \"err_low\": -23.765718460083008, \"err_high\": 52.10572052001953}], \"data-9bffc77a5aee77673d4008b0d7271acd\": [{\"time\": \"2000-09-07T10:30:00\", \"variable\": \"SW_IN\", \"value\": 124.5999984741211, \"is_present\": false, \"mean\": 408.2739562988281, \"std\": 565.4002685546875, \"err_low\": -1006.2005615234375, \"err_high\": 1255.4005126953125}, {\"time\": \"2000-09-07T11:00:00\", \"variable\": \"SW_IN\", \"value\": 309.3699951171875, \"is_present\": false, \"mean\": 957.4099731445312, \"std\": 1375.1356201171875, \"err_low\": -2440.9013671875, \"err_high\": 3059.64111328125}, {\"time\": \"2000-09-07T11:30:00\", \"variable\": \"SW_IN\", \"value\": 263.2900085449219, \"is_present\": true, \"mean\": 2329.883056640625, \"std\": 3276.255126953125, \"err_low\": -6289.22021484375, \"err_high\": 6815.80029296875}, {\"time\": \"2000-09-07T12:00:00\", \"variable\": \"SW_IN\", \"value\": 390.95001220703125, \"is_present\": true, \"mean\": 541.0993041992188, \"std\": 515.335205078125, \"err_low\": -639.7203979492188, \"err_high\": 1421.620361328125}, {\"time\": \"2000-09-07T12:30:00\", \"variable\": \"SW_IN\", \"value\": 393.30999755859375, \"is_present\": true, \"mean\": 673.6854858398438, \"std\": 514.2223510742188, \"err_low\": -635.1347045898438, \"err_high\": 1421.754638671875}, {\"time\": \"2000-09-07T13:00:00\", \"variable\": \"SW_IN\", \"value\": 713.8900146484375, \"is_present\": true, \"mean\": 691.7678833007812, \"std\": 514.1441650390625, \"err_low\": -314.3983154296875, \"err_high\": 1742.1783447265625}, {\"time\": \"2000-09-07T13:30:00\", \"variable\": \"SW_IN\", \"value\": 346.7799987792969, \"is_present\": true, \"mean\": 1029.3184814453125, \"std\": 514.1409912109375, \"err_low\": -681.501953125, \"err_high\": 1375.06201171875}, {\"time\": \"2000-09-07T14:00:00\", \"variable\": \"SW_IN\", \"value\": 376.2900085449219, \"is_present\": true, \"mean\": 718.361572265625, \"std\": 514.1421508789062, \"err_low\": -651.9942626953125, \"err_high\": 1404.5743408203125}, {\"time\": \"2000-09-07T14:30:00\", \"variable\": \"SW_IN\", \"value\": 278.20001220703125, \"is_present\": true, \"mean\": 697.03515625, \"std\": 514.1421508789062, \"err_low\": -750.0842895507812, \"err_high\": 1306.484375}, {\"time\": \"2000-09-07T15:00:00\", \"variable\": \"SW_IN\", \"value\": 368.3900146484375, \"is_present\": true, \"mean\": 608.4492797851562, \"std\": 514.1407470703125, \"err_low\": -659.8914794921875, \"err_high\": 1396.6715087890625}], \"data-69ac421c3ce372257909813f2bf3399c\": [{\"time\": \"2000-09-07T10:30:00\", \"variable\": \"VPD\", \"value\": 0.6200000047683716, \"is_present\": true, \"mean\": 4.973276138305664, \"std\": 6.5317277908325195, \"err_low\": -12.443455696105957, \"err_high\": 13.683455467224121}, {\"time\": \"2000-09-07T11:00:00\", \"variable\": \"VPD\", \"value\": 0.7440000176429749, \"is_present\": true, \"mean\": 9.97968578338623, \"std\": 12.304930686950684, \"err_low\": -23.865861892700195, \"err_high\": 25.35386085510254}, {\"time\": \"2000-09-07T11:30:00\", \"variable\": \"VPD\", \"value\": 1.24399995803833, \"is_present\": true, \"mean\": 21.09881591796875, \"std\": 27.193803787231445, \"err_low\": -53.14360809326172, \"err_high\": 55.63160705566406}, {\"time\": \"2000-09-07T12:00:00\", \"variable\": \"VPD\", \"value\": 1.5670000314712524, \"is_present\": true, \"mean\": 6.43922758102417, \"std\": 6.521303653717041, \"err_low\": -11.475606918334961, \"err_high\": 14.609607696533203}, {\"time\": \"2000-09-07T12:30:00\", \"variable\": \"VPD\", \"value\": 2.046999931335449, \"is_present\": true, \"mean\": 7.436244964599609, \"std\": 6.519604206085205, \"err_low\": -10.992208480834961, \"err_high\": 15.08620834350586}, {\"time\": \"2000-09-07T13:00:00\", \"variable\": \"VPD\", \"value\": 3.305999994277954, \"is_present\": true, \"mean\": 7.598726272583008, \"std\": 6.51922607421875, \"err_low\": -9.732452392578125, \"err_high\": 16.344451904296875}, {\"time\": \"2000-09-07T13:30:00\", \"variable\": \"VPD\", \"value\": 3.440999984741211, \"is_present\": true, \"mean\": 10.131551742553711, \"std\": 6.51921272277832, \"err_low\": -9.59742546081543, \"err_high\": 16.47942543029785}, {\"time\": \"2000-09-07T14:00:00\", \"variable\": \"VPD\", \"value\": 4.019000053405762, \"is_present\": true, \"mean\": 7.9290666580200195, \"std\": 6.5192179679870605, \"err_low\": -9.01943588256836, \"err_high\": 17.057435989379883}, {\"time\": \"2000-09-07T14:30:00\", \"variable\": \"VPD\", \"value\": 4.261000156402588, \"is_present\": true, \"mean\": 7.727569580078125, \"std\": 6.519218444824219, \"err_low\": -8.777437210083008, \"err_high\": 17.299436569213867}, {\"time\": \"2000-09-07T15:00:00\", \"variable\": \"VPD\", \"value\": 4.757999897003174, \"is_present\": true, \"mean\": 7.088737487792969, \"std\": 6.519212245941162, \"err_low\": -8.280424118041992, \"err_high\": 17.796424865722656}]}}, {\"mode\": \"vega-lite\"});\n",
       "</script>"
      ],
      "text/plain": [
       "alt.HConcatChart(...)"
      ]
     },
     "execution_count": null,
     "metadata": {},
     "output_type": "execute_result"
    }
   ],
   "source": [
    "show_results(learn)"
   ]
  },
  {
   "cell_type": "code",
   "execution_count": null,
   "id": "6151f414-4031-4ba3-905c-1306677920ca",
   "metadata": {},
   "outputs": [
    {
     "data": {
      "text/plain": [
       "torch.Size([10, 10, 3])"
      ]
     },
     "execution_count": null,
     "metadata": {},
     "output_type": "execute_result"
    }
   ],
   "source": [
    "dls.one_batch()[0][0].shape"
   ]
  },
  {
   "cell_type": "code",
   "execution_count": null,
   "id": "5ac22fb4-c7f6-4659-9fbe-2fceedb9f54f",
   "metadata": {},
   "outputs": [
    {
     "data": {
      "text/html": [
       "\n",
       "<style>\n",
       "    /* Turns off some styling */\n",
       "    progress {\n",
       "        /* gets rid of default border in Firefox and Opera. */\n",
       "        border: none;\n",
       "        /* Needs to be in here for Safari polyfill so background images work as expected. */\n",
       "        background-size: auto;\n",
       "    }\n",
       "    progress:not([value]), progress:not([value])::-webkit-progress-bar {\n",
       "        background: repeating-linear-gradient(45deg, #7e7e7e, #7e7e7e 10px, #5c5c5c 10px, #5c5c5c 20px);\n",
       "    }\n",
       "    .progress-bar-interrupted, .progress-bar-interrupted::-webkit-progress-bar {\n",
       "        background: #F44336;\n",
       "    }\n",
       "</style>\n"
      ],
      "text/plain": [
       "<IPython.core.display.HTML object>"
      ]
     },
     "metadata": {},
     "output_type": "display_data"
    },
    {
     "data": {
      "text/html": [],
      "text/plain": [
       "<IPython.core.display.HTML object>"
      ]
     },
     "metadata": {},
     "output_type": "display_data"
    },
    {
     "name": "stdout",
     "output_type": "stream",
     "text": [
      "decoding\n"
     ]
    },
    {
     "data": {
      "text/html": [
       "\n",
       "<div id=\"altair-viz-eed15b1ae3574c758b11fa51166dd019\"></div>\n",
       "<script type=\"text/javascript\">\n",
       "  var VEGA_DEBUG = (typeof VEGA_DEBUG == \"undefined\") ? {} : VEGA_DEBUG;\n",
       "  (function(spec, embedOpt){\n",
       "    let outputDiv = document.currentScript.previousElementSibling;\n",
       "    if (outputDiv.id !== \"altair-viz-eed15b1ae3574c758b11fa51166dd019\") {\n",
       "      outputDiv = document.getElementById(\"altair-viz-eed15b1ae3574c758b11fa51166dd019\");\n",
       "    }\n",
       "    const paths = {\n",
       "      \"vega\": \"https://cdn.jsdelivr.net/npm//vega@5?noext\",\n",
       "      \"vega-lib\": \"https://cdn.jsdelivr.net/npm//vega-lib?noext\",\n",
       "      \"vega-lite\": \"https://cdn.jsdelivr.net/npm//vega-lite@5.2.0?noext\",\n",
       "      \"vega-embed\": \"https://cdn.jsdelivr.net/npm//vega-embed@6?noext\",\n",
       "    };\n",
       "\n",
       "    function maybeLoadScript(lib, version) {\n",
       "      var key = `${lib.replace(\"-\", \"\")}_version`;\n",
       "      return (VEGA_DEBUG[key] == version) ?\n",
       "        Promise.resolve(paths[lib]) :\n",
       "        new Promise(function(resolve, reject) {\n",
       "          var s = document.createElement('script');\n",
       "          document.getElementsByTagName(\"head\")[0].appendChild(s);\n",
       "          s.async = true;\n",
       "          s.onload = () => {\n",
       "            VEGA_DEBUG[key] = version;\n",
       "            return resolve(paths[lib]);\n",
       "          };\n",
       "          s.onerror = () => reject(`Error loading script: ${paths[lib]}`);\n",
       "          s.src = paths[lib];\n",
       "        });\n",
       "    }\n",
       "\n",
       "    function showError(err) {\n",
       "      outputDiv.innerHTML = `<div class=\"error\" style=\"color:red;\">${err}</div>`;\n",
       "      throw err;\n",
       "    }\n",
       "\n",
       "    function displayChart(vegaEmbed) {\n",
       "      vegaEmbed(outputDiv, spec, embedOpt)\n",
       "        .catch(err => showError(`Javascript Error: ${err.message}<br>This usually means there's a typo in your chart specification. See the javascript console for the full traceback.`));\n",
       "    }\n",
       "\n",
       "    if(typeof define === \"function\" && define.amd) {\n",
       "      requirejs.config({paths});\n",
       "      require([\"vega-embed\"], displayChart, err => showError(`Error loading script: ${err.message}`));\n",
       "    } else {\n",
       "      maybeLoadScript(\"vega\", \"5\")\n",
       "        .then(() => maybeLoadScript(\"vega-lite\", \"5.2.0\"))\n",
       "        .then(() => maybeLoadScript(\"vega-embed\", \"6\"))\n",
       "        .catch(showError)\n",
       "        .then(() => displayChart(vegaEmbed));\n",
       "    }\n",
       "  })({\"config\": {\"view\": {\"continuousWidth\": 400, \"continuousHeight\": 300}}, \"hconcat\": [{\"vconcat\": [{\"hconcat\": [{\"layer\": [{\"mark\": {\"type\": \"point\", \"color\": \"black\", \"fillOpacity\": 1, \"strokeWidth\": 1}, \"encoding\": {\"fill\": {\"field\": \"is_present\", \"legend\": {\"title\": [\"Observed data\"]}, \"scale\": {\"range\": [\"black\", \"#ffffff00\"]}, \"type\": \"nominal\"}, \"shape\": {\"field\": \"is_present\", \"type\": \"nominal\"}, \"x\": {\"field\": \"time\", \"type\": \"temporal\"}, \"y\": {\"field\": \"value\", \"scale\": {\"zero\": false}, \"title\": \"TA\", \"type\": \"quantitative\"}}}, {\"layer\": [{\"mark\": \"errorband\", \"encoding\": {\"color\": {\"field\": \"variable\", \"legend\": {\"title\": [\"Line: pred. mean\", \"area: +/- 2 std\"]}, \"type\": \"nominal\"}, \"x\": {\"field\": \"time\", \"type\": \"temporal\"}, \"y\": {\"field\": \"err_low\", \"scale\": {\"zero\": false}, \"title\": \"TA\", \"type\": \"quantitative\"}, \"y2\": {\"field\": \"err_high\"}}, \"name\": \"view_30\"}, {\"mark\": \"line\", \"encoding\": {\"color\": {\"field\": \"variable\", \"type\": \"nominal\"}, \"x\": {\"field\": \"time\", \"type\": \"temporal\"}, \"y\": {\"field\": \"value\", \"scale\": {\"zero\": false}, \"title\": \"TA\", \"type\": \"quantitative\"}}}]}], \"height\": 150, \"title\": \"TA\", \"width\": 200}], \"data\": {\"name\": \"data-4c0fd0895cb98171fe805d82ebf961b3\"}}, {\"hconcat\": [{\"layer\": [{\"mark\": {\"type\": \"point\", \"color\": \"black\", \"fillOpacity\": 1, \"strokeWidth\": 1}, \"encoding\": {\"fill\": {\"field\": \"is_present\", \"legend\": {\"title\": [\"Observed data\"]}, \"scale\": {\"range\": [\"black\", \"#ffffff00\"]}, \"type\": \"nominal\"}, \"shape\": {\"field\": \"is_present\", \"type\": \"nominal\"}, \"x\": {\"field\": \"time\", \"type\": \"temporal\"}, \"y\": {\"field\": \"value\", \"scale\": {\"zero\": false}, \"title\": \"SW_IN\", \"type\": \"quantitative\"}}}, {\"layer\": [{\"mark\": \"errorband\", \"encoding\": {\"color\": {\"field\": \"variable\", \"legend\": {\"title\": [\"Line: pred. mean\", \"area: +/- 2 std\"]}, \"type\": \"nominal\"}, \"x\": {\"field\": \"time\", \"type\": \"temporal\"}, \"y\": {\"field\": \"err_low\", \"scale\": {\"zero\": false}, \"title\": \"SW_IN\", \"type\": \"quantitative\"}, \"y2\": {\"field\": \"err_high\"}}, \"name\": \"view_31\"}, {\"mark\": \"line\", \"encoding\": {\"color\": {\"field\": \"variable\", \"type\": \"nominal\"}, \"x\": {\"field\": \"time\", \"type\": \"temporal\"}, \"y\": {\"field\": \"value\", \"scale\": {\"zero\": false}, \"title\": \"SW_IN\", \"type\": \"quantitative\"}}}]}], \"height\": 150, \"title\": \"SW_IN\", \"width\": 200}], \"data\": {\"name\": \"data-f203baec86dca3bf53b6873da5ecfd40\"}}, {\"hconcat\": [{\"layer\": [{\"mark\": {\"type\": \"point\", \"color\": \"black\", \"fillOpacity\": 1, \"strokeWidth\": 1}, \"encoding\": {\"fill\": {\"field\": \"is_present\", \"legend\": {\"title\": [\"Observed data\"]}, \"scale\": {\"range\": [\"black\", \"#ffffff00\"]}, \"type\": \"nominal\"}, \"shape\": {\"field\": \"is_present\", \"type\": \"nominal\"}, \"x\": {\"field\": \"time\", \"type\": \"temporal\"}, \"y\": {\"field\": \"value\", \"scale\": {\"zero\": false}, \"title\": \"VPD\", \"type\": \"quantitative\"}}}, {\"layer\": [{\"mark\": \"errorband\", \"encoding\": {\"color\": {\"field\": \"variable\", \"legend\": {\"title\": [\"Line: pred. mean\", \"area: +/- 2 std\"]}, \"type\": \"nominal\"}, \"x\": {\"field\": \"time\", \"type\": \"temporal\"}, \"y\": {\"field\": \"err_low\", \"scale\": {\"zero\": false}, \"title\": \"VPD\", \"type\": \"quantitative\"}, \"y2\": {\"field\": \"err_high\"}}, \"name\": \"view_32\"}, {\"mark\": \"line\", \"encoding\": {\"color\": {\"field\": \"variable\", \"type\": \"nominal\"}, \"x\": {\"field\": \"time\", \"type\": \"temporal\"}, \"y\": {\"field\": \"value\", \"scale\": {\"zero\": false}, \"title\": \"VPD\", \"type\": \"quantitative\"}}}]}], \"height\": 150, \"title\": \"VPD\", \"width\": 200}], \"data\": {\"name\": \"data-8d680dc6ec1c93e8b00cbc3f10982dda\"}}], \"title\": \"loss: -44.098816\"}, {\"vconcat\": [{\"hconcat\": [{\"layer\": [{\"mark\": {\"type\": \"point\", \"color\": \"black\", \"fillOpacity\": 1, \"strokeWidth\": 1}, \"encoding\": {\"fill\": {\"field\": \"is_present\", \"legend\": {\"title\": [\"Observed data\"]}, \"scale\": {\"range\": [\"black\", \"#ffffff00\"]}, \"type\": \"nominal\"}, \"shape\": {\"field\": \"is_present\", \"type\": \"nominal\"}, \"x\": {\"field\": \"time\", \"type\": \"temporal\"}, \"y\": {\"field\": \"value\", \"scale\": {\"zero\": false}, \"title\": \"TA\", \"type\": \"quantitative\"}}}, {\"layer\": [{\"mark\": \"errorband\", \"encoding\": {\"color\": {\"field\": \"variable\", \"legend\": {\"title\": [\"Line: pred. mean\", \"area: +/- 2 std\"]}, \"type\": \"nominal\"}, \"x\": {\"field\": \"time\", \"type\": \"temporal\"}, \"y\": {\"field\": \"err_low\", \"scale\": {\"zero\": false}, \"title\": \"TA\", \"type\": \"quantitative\"}, \"y2\": {\"field\": \"err_high\"}}, \"name\": \"view_33\"}, {\"mark\": \"line\", \"encoding\": {\"color\": {\"field\": \"variable\", \"type\": \"nominal\"}, \"x\": {\"field\": \"time\", \"type\": \"temporal\"}, \"y\": {\"field\": \"value\", \"scale\": {\"zero\": false}, \"title\": \"TA\", \"type\": \"quantitative\"}}}]}], \"height\": 150, \"title\": \"TA\", \"width\": 200}], \"data\": {\"name\": \"data-f4d81895e44e3ea357ed32b1b77a31d4\"}}, {\"hconcat\": [{\"layer\": [{\"mark\": {\"type\": \"point\", \"color\": \"black\", \"fillOpacity\": 1, \"strokeWidth\": 1}, \"encoding\": {\"fill\": {\"field\": \"is_present\", \"legend\": {\"title\": [\"Observed data\"]}, \"scale\": {\"range\": [\"black\", \"#ffffff00\"]}, \"type\": \"nominal\"}, \"shape\": {\"field\": \"is_present\", \"type\": \"nominal\"}, \"x\": {\"field\": \"time\", \"type\": \"temporal\"}, \"y\": {\"field\": \"value\", \"scale\": {\"zero\": false}, \"title\": \"SW_IN\", \"type\": \"quantitative\"}}}, {\"layer\": [{\"mark\": \"errorband\", \"encoding\": {\"color\": {\"field\": \"variable\", \"legend\": {\"title\": [\"Line: pred. mean\", \"area: +/- 2 std\"]}, \"type\": \"nominal\"}, \"x\": {\"field\": \"time\", \"type\": \"temporal\"}, \"y\": {\"field\": \"err_low\", \"scale\": {\"zero\": false}, \"title\": \"SW_IN\", \"type\": \"quantitative\"}, \"y2\": {\"field\": \"err_high\"}}, \"name\": \"view_34\"}, {\"mark\": \"line\", \"encoding\": {\"color\": {\"field\": \"variable\", \"type\": \"nominal\"}, \"x\": {\"field\": \"time\", \"type\": \"temporal\"}, \"y\": {\"field\": \"value\", \"scale\": {\"zero\": false}, \"title\": \"SW_IN\", \"type\": \"quantitative\"}}}]}], \"height\": 150, \"title\": \"SW_IN\", \"width\": 200}], \"data\": {\"name\": \"data-91a3df18bd70b5d555fad164254a1a85\"}}, {\"hconcat\": [{\"layer\": [{\"mark\": {\"type\": \"point\", \"color\": \"black\", \"fillOpacity\": 1, \"strokeWidth\": 1}, \"encoding\": {\"fill\": {\"field\": \"is_present\", \"legend\": {\"title\": [\"Observed data\"]}, \"scale\": {\"range\": [\"black\", \"#ffffff00\"]}, \"type\": \"nominal\"}, \"shape\": {\"field\": \"is_present\", \"type\": \"nominal\"}, \"x\": {\"field\": \"time\", \"type\": \"temporal\"}, \"y\": {\"field\": \"value\", \"scale\": {\"zero\": false}, \"title\": \"VPD\", \"type\": \"quantitative\"}}}, {\"layer\": [{\"mark\": \"errorband\", \"encoding\": {\"color\": {\"field\": \"variable\", \"legend\": {\"title\": [\"Line: pred. mean\", \"area: +/- 2 std\"]}, \"type\": \"nominal\"}, \"x\": {\"field\": \"time\", \"type\": \"temporal\"}, \"y\": {\"field\": \"err_low\", \"scale\": {\"zero\": false}, \"title\": \"VPD\", \"type\": \"quantitative\"}, \"y2\": {\"field\": \"err_high\"}}, \"name\": \"view_35\"}, {\"mark\": \"line\", \"encoding\": {\"color\": {\"field\": \"variable\", \"type\": \"nominal\"}, \"x\": {\"field\": \"time\", \"type\": \"temporal\"}, \"y\": {\"field\": \"value\", \"scale\": {\"zero\": false}, \"title\": \"VPD\", \"type\": \"quantitative\"}}}]}], \"height\": 150, \"title\": \"VPD\", \"width\": 200}], \"data\": {\"name\": \"data-5f95261de995175a046c56f9e532651b\"}}], \"title\": \"loss: -44.159199\"}], \"params\": [{\"name\": \"param_43\", \"select\": {\"type\": \"interval\", \"encodings\": [\"x\"]}, \"bind\": \"scales\", \"views\": [\"view_30\", \"view_31\", \"view_32\"]}, {\"name\": \"param_47\", \"select\": {\"type\": \"interval\", \"encodings\": [\"x\"]}, \"bind\": \"scales\", \"views\": [\"view_33\", \"view_34\", \"view_35\"]}], \"$schema\": \"https://vega.github.io/schema/vega-lite/v5.2.0.json\", \"datasets\": {\"data-4c0fd0895cb98171fe805d82ebf961b3\": [{\"time\": \"2000-01-01T10:30:00\", \"variable\": \"TA\", \"value\": 0.10000000149011612, \"is_present\": true, \"mean\": 15.613127708435059, \"std\": 21.271610260009766, \"err_low\": -42.44322204589844, \"err_high\": 42.643218994140625}, {\"time\": \"2000-01-01T11:00:00\", \"variable\": \"TA\", \"value\": 0.18000000715255737, \"is_present\": true, \"mean\": -5.569370746612549, \"std\": 18.5977840423584, \"err_low\": -37.015567779541016, \"err_high\": 37.37556838989258}, {\"time\": \"2000-01-01T11:30:00\", \"variable\": \"TA\", \"value\": 0.20999999344348907, \"is_present\": true, \"mean\": -10.868330001831055, \"std\": 46.82921600341797, \"err_low\": -93.44843292236328, \"err_high\": 93.8684310913086}, {\"time\": \"2000-01-01T12:00:00\", \"variable\": \"TA\", \"value\": 0.23000000417232513, \"is_present\": true, \"mean\": -23.825397491455078, \"std\": 112.07072448730469, \"err_low\": -223.9114532470703, \"err_high\": 224.37144470214844}, {\"time\": \"2000-01-01T12:30:00\", \"variable\": \"TA\", \"value\": 0.33000001311302185, \"is_present\": false, \"mean\": -5.105273723602295, \"std\": 19.019865036010742, \"err_low\": -37.7097282409668, \"err_high\": 38.36973190307617}, {\"time\": \"2000-01-01T13:00:00\", \"variable\": \"TA\", \"value\": 0.4099999964237213, \"is_present\": false, \"mean\": -4.440701007843018, \"std\": 18.96963882446289, \"err_low\": -37.52927780151367, \"err_high\": 38.34927749633789}, {\"time\": \"2000-01-01T13:30:00\", \"variable\": \"TA\", \"value\": 0.4399999976158142, \"is_present\": true, \"mean\": -4.128174304962158, \"std\": 18.968021392822266, \"err_low\": -37.49604415893555, \"err_high\": 38.376041412353516}, {\"time\": \"2000-01-01T14:00:00\", \"variable\": \"TA\", \"value\": 0.47999998927116394, \"is_present\": true, \"mean\": -3.8481316566467285, \"std\": 18.96787452697754, \"err_low\": -37.45574951171875, \"err_high\": 38.415748596191406}, {\"time\": \"2000-01-01T14:30:00\", \"variable\": \"TA\", \"value\": 0.49000000953674316, \"is_present\": true, \"mean\": -3.8712449073791504, \"std\": 18.96786117553711, \"err_low\": -37.44572067260742, \"err_high\": 38.425724029541016}, {\"time\": \"2000-01-01T15:00:00\", \"variable\": \"TA\", \"value\": 0.5099999904632568, \"is_present\": true, \"mean\": -3.871335506439209, \"std\": 18.9678897857666, \"err_low\": -37.42578125, \"err_high\": 38.445777893066406}], \"data-f203baec86dca3bf53b6873da5ecfd40\": [{\"time\": \"2000-01-01T10:30:00\", \"variable\": \"SW_IN\", \"value\": 16.510000228881836, \"is_present\": true, \"mean\": 408.2739562988281, \"std\": 565.4002685546875, \"err_low\": -1114.29052734375, \"err_high\": 1147.310546875}, {\"time\": \"2000-01-01T11:00:00\", \"variable\": \"SW_IN\", \"value\": 24.729999542236328, \"is_present\": true, \"mean\": -151.76531982421875, \"std\": 496.8558654785156, \"err_low\": -968.9817504882812, \"err_high\": 1018.4417114257812}, {\"time\": \"2000-01-01T11:30:00\", \"variable\": \"SW_IN\", \"value\": 47.41999816894531, \"is_present\": true, \"mean\": -300.26312255859375, \"std\": 1281.956298828125, \"err_low\": -2516.49267578125, \"err_high\": 2611.33251953125}, {\"time\": \"2000-01-01T12:00:00\", \"variable\": \"SW_IN\", \"value\": 22.049999237060547, \"is_present\": true, \"mean\": -654.9552612304688, \"std\": 3035.359375, \"err_low\": -6048.6689453125, \"err_high\": 6092.7685546875}, {\"time\": \"2000-01-01T12:30:00\", \"variable\": \"SW_IN\", \"value\": 18.860000610351562, \"is_present\": false, \"mean\": -123.78612518310547, \"std\": 516.365478515625, \"err_low\": -1013.8709716796875, \"err_high\": 1051.5909423828125}, {\"time\": \"2000-01-01T13:00:00\", \"variable\": \"SW_IN\", \"value\": 21.100000381469727, \"is_present\": false, \"mean\": -91.35565948486328, \"std\": 514.2254028320312, \"err_low\": -1007.350830078125, \"err_high\": 1049.55078125}, {\"time\": \"2000-01-01T13:30:00\", \"variable\": \"SW_IN\", \"value\": 28.8700008392334, \"is_present\": true, \"mean\": -82.41242218017578, \"std\": 514.14697265625, \"err_low\": -999.4239501953125, \"err_high\": 1057.1639404296875}, {\"time\": \"2000-01-01T14:00:00\", \"variable\": \"SW_IN\", \"value\": 24.219999313354492, \"is_present\": true, \"mean\": -73.54552459716797, \"std\": 514.1414794921875, \"err_low\": -1004.06298828125, \"err_high\": 1052.5029296875}, {\"time\": \"2000-01-01T14:30:00\", \"variable\": \"SW_IN\", \"value\": 24.350000381469727, \"is_present\": true, \"mean\": -75.31108856201172, \"std\": 514.1409912109375, \"err_low\": -1003.9320068359375, \"err_high\": 1052.6319580078125}, {\"time\": \"2000-01-01T15:00:00\", \"variable\": \"SW_IN\", \"value\": 15.680000305175781, \"is_present\": true, \"mean\": -75.51107025146484, \"std\": 514.1419677734375, \"err_low\": -1012.6039428710938, \"err_high\": 1043.9639892578125}], \"data-8d680dc6ec1c93e8b00cbc3f10982dda\": [{\"time\": \"2000-01-01T10:30:00\", \"variable\": \"VPD\", \"value\": 0.006000000052154064, \"is_present\": true, \"mean\": 4.973276138305664, \"std\": 6.5317277908325195, \"err_low\": -13.057456016540527, \"err_high\": 13.06945514678955}, {\"time\": \"2000-01-01T11:00:00\", \"variable\": \"VPD\", \"value\": 0.010999999940395355, \"is_present\": true, \"mean\": 0.7969369888305664, \"std\": 6.458383560180664, \"err_low\": -12.905767440795898, \"err_high\": 12.927766799926758}, {\"time\": \"2000-01-01T11:30:00\", \"variable\": \"VPD\", \"value\": 0.01899999938905239, \"is_present\": true, \"mean\": -0.4568767547607422, \"std\": 11.480842590332031, \"err_low\": -22.942686080932617, \"err_high\": 22.980684280395508}, {\"time\": \"2000-01-01T12:00:00\", \"variable\": \"VPD\", \"value\": 0.014000000432133675, \"is_present\": true, \"mean\": -3.326709508895874, \"std\": 25.233407974243164, \"err_low\": -50.452816009521484, \"err_high\": 50.48081588745117}, {\"time\": \"2000-01-01T12:30:00\", \"variable\": \"VPD\", \"value\": 0.00800000037997961, \"is_present\": true, \"mean\": 0.9377038478851318, \"std\": 6.527177333831787, \"err_low\": -13.046354293823242, \"err_high\": 13.062355041503906}, {\"time\": \"2000-01-01T13:00:00\", \"variable\": \"VPD\", \"value\": 0.006000000052154064, \"is_present\": true, \"mean\": 1.1140838861465454, \"std\": 6.519596576690674, \"err_low\": -13.033193588256836, \"err_high\": 13.04519271850586}, {\"time\": \"2000-01-01T13:30:00\", \"variable\": \"VPD\", \"value\": 0.0, \"is_present\": true, \"mean\": 1.187854290008545, \"std\": 6.519239902496338, \"err_low\": -13.038479804992676, \"err_high\": 13.038479804992676}, {\"time\": \"2000-01-01T14:00:00\", \"variable\": \"VPD\", \"value\": 0.0, \"is_present\": true, \"mean\": 1.25565767288208, \"std\": 6.519215106964111, \"err_low\": -13.038430213928223, \"err_high\": 13.038430213928223}, {\"time\": \"2000-01-01T14:30:00\", \"variable\": \"VPD\", \"value\": 0.0, \"is_present\": true, \"mean\": 1.2464269399642944, \"std\": 6.51921272277832, \"err_low\": -13.03842544555664, \"err_high\": 13.03842544555664}, {\"time\": \"2000-01-01T15:00:00\", \"variable\": \"VPD\", \"value\": 0.0, \"is_present\": true, \"mean\": 1.2455244064331055, \"std\": 6.519217491149902, \"err_low\": -13.038434982299805, \"err_high\": 13.038434982299805}], \"data-f4d81895e44e3ea357ed32b1b77a31d4\": [{\"time\": \"2000-01-01T15:30:00\", \"variable\": \"TA\", \"value\": 0.5199999809265137, \"is_present\": true, \"mean\": 15.613127708435059, \"std\": 21.271610260009766, \"err_low\": -42.02322006225586, \"err_high\": 43.0632209777832}, {\"time\": \"2000-01-01T16:00:00\", \"variable\": \"TA\", \"value\": 0.5699999928474426, \"is_present\": true, \"mean\": -5.062370777130127, \"std\": 18.5977840423584, \"err_low\": -36.62556838989258, \"err_high\": 37.765567779541016}, {\"time\": \"2000-01-01T16:30:00\", \"variable\": \"TA\", \"value\": 0.7300000190734863, \"is_present\": true, \"mean\": -4.814210414886475, \"std\": 18.964550018310547, \"err_low\": -37.199100494384766, \"err_high\": 38.65909957885742}, {\"time\": \"2000-01-01T17:00:00\", \"variable\": \"TA\", \"value\": 0.7699999809265137, \"is_present\": true, \"mean\": -4.236898899078369, \"std\": 18.96786117553711, \"err_low\": -37.16572189331055, \"err_high\": 38.70572280883789}, {\"time\": \"2000-01-01T17:30:00\", \"variable\": \"TA\", \"value\": 0.8399999737739563, \"is_present\": true, \"mean\": -4.16039514541626, \"std\": 18.96785545349121, \"err_low\": -37.09571075439453, \"err_high\": 38.77571105957031}, {\"time\": \"2000-01-01T18:00:00\", \"variable\": \"TA\", \"value\": 0.9900000095367432, \"is_present\": true, \"mean\": -4.050565242767334, \"std\": 18.96784782409668, \"err_low\": -36.94569396972656, \"err_high\": 38.925697326660156}, {\"time\": \"2000-01-01T18:30:00\", \"variable\": \"TA\", \"value\": 1.350000023841858, \"is_present\": true, \"mean\": -3.7970213890075684, \"std\": 18.967836380004883, \"err_low\": -36.58567428588867, \"err_high\": 39.28567123413086}, {\"time\": \"2000-01-01T19:00:00\", \"variable\": \"TA\", \"value\": 1.8600000143051147, \"is_present\": false, \"mean\": -3.181532382965088, \"std\": 18.96783447265625, \"err_low\": -36.07566833496094, \"err_high\": 39.79566955566406}, {\"time\": \"2000-01-01T19:30:00\", \"variable\": \"TA\", \"value\": 2.009999990463257, \"is_present\": false, \"mean\": -4.536118030548096, \"std\": 47.876346588134766, \"err_low\": -93.74269104003906, \"err_high\": 97.7626953125}, {\"time\": \"2000-01-01T20:00:00\", \"variable\": \"TA\", \"value\": 2.069999933242798, \"is_present\": true, \"mean\": -8.653430938720703, \"std\": 114.58724975585938, \"err_low\": -227.1044921875, \"err_high\": 231.2445068359375}], \"data-91a3df18bd70b5d555fad164254a1a85\": [{\"time\": \"2000-01-01T15:30:00\", \"variable\": \"SW_IN\", \"value\": 8.09000015258789, \"is_present\": true, \"mean\": 408.2739562988281, \"std\": 565.4002685546875, \"err_low\": -1122.7105712890625, \"err_high\": 1138.8905029296875}, {\"time\": \"2000-01-01T16:00:00\", \"variable\": \"SW_IN\", \"value\": 6.369999885559082, \"is_present\": true, \"mean\": -141.48236083984375, \"std\": 496.8558654785156, \"err_low\": -987.3417358398438, \"err_high\": 1000.0817260742188}, {\"time\": \"2000-01-01T16:30:00\", \"variable\": \"SW_IN\", \"value\": 1.7200000286102295, \"is_present\": true, \"mean\": -107.27820587158203, \"std\": 514.0894775390625, \"err_low\": -1026.458984375, \"err_high\": 1029.89892578125}, {\"time\": \"2000-01-01T17:00:00\", \"variable\": \"SW_IN\", \"value\": 0.05999999865889549, \"is_present\": true, \"mean\": -91.69693756103516, \"std\": 514.1416015625, \"err_low\": -1028.22314453125, \"err_high\": 1028.34326171875}, {\"time\": \"2000-01-01T17:30:00\", \"variable\": \"SW_IN\", \"value\": 0.0, \"is_present\": true, \"mean\": -90.2696304321289, \"std\": 514.1408081054688, \"err_low\": -1028.2816162109375, \"err_high\": 1028.2816162109375}, {\"time\": \"2000-01-01T18:00:00\", \"variable\": \"SW_IN\", \"value\": 0.0, \"is_present\": true, \"mean\": -87.78752899169922, \"std\": 514.1407470703125, \"err_low\": -1028.281494140625, \"err_high\": 1028.281494140625}, {\"time\": \"2000-01-01T18:30:00\", \"variable\": \"SW_IN\", \"value\": 0.0, \"is_present\": true, \"mean\": -81.73120880126953, \"std\": 514.140380859375, \"err_low\": -1028.28076171875, \"err_high\": 1028.28076171875}, {\"time\": \"2000-01-01T19:00:00\", \"variable\": \"SW_IN\", \"value\": 0.0, \"is_present\": false, \"mean\": -66.92269134521484, \"std\": 514.1401977539062, \"err_low\": -1028.2803955078125, \"err_high\": 1028.2803955078125}, {\"time\": \"2000-01-01T19:30:00\", \"variable\": \"SW_IN\", \"value\": 0.0, \"is_present\": false, \"mean\": -123.68001556396484, \"std\": 1311.83154296875, \"err_low\": -2623.6630859375, \"err_high\": 2623.6630859375}, {\"time\": \"2000-01-01T20:00:00\", \"variable\": \"SW_IN\", \"value\": 0.0, \"is_present\": true, \"mean\": -243.256103515625, \"std\": 3103.80712890625, \"err_low\": -6207.6142578125, \"err_high\": 6207.6142578125}], \"data-5f95261de995175a046c56f9e532651b\": [{\"time\": \"2000-01-01T15:30:00\", \"variable\": \"VPD\", \"value\": 0.0, \"is_present\": true, \"mean\": 4.973276138305664, \"std\": 6.5317277908325195, \"err_low\": -13.063455581665039, \"err_high\": 13.063455581665039}, {\"time\": \"2000-01-01T16:00:00\", \"variable\": \"VPD\", \"value\": 0.0, \"is_present\": true, \"mean\": 0.8948527574539185, \"std\": 6.458383560180664, \"err_low\": -12.916767120361328, \"err_high\": 12.916767120361328}, {\"time\": \"2000-01-01T16:30:00\", \"variable\": \"VPD\", \"value\": 0.0, \"is_present\": true, \"mean\": 0.9974910020828247, \"std\": 6.518624305725098, \"err_low\": -13.037248611450195, \"err_high\": 13.037248611450195}, {\"time\": \"2000-01-01T17:00:00\", \"variable\": \"VPD\", \"value\": 0.0, \"is_present\": true, \"mean\": 1.1369409561157227, \"std\": 6.5192155838012695, \"err_low\": -13.038431167602539, \"err_high\": 13.038431167602539}, {\"time\": \"2000-01-01T17:30:00\", \"variable\": \"VPD\", \"value\": 0.0, \"is_present\": true, \"mean\": 1.1516046524047852, \"std\": 6.519212245941162, \"err_low\": -13.038424491882324, \"err_high\": 13.038424491882324}, {\"time\": \"2000-01-01T18:00:00\", \"variable\": \"VPD\", \"value\": 0.0, \"is_present\": true, \"mean\": 1.173876166343689, \"std\": 6.519211292266846, \"err_low\": -13.038422584533691, \"err_high\": 13.038422584533691}, {\"time\": \"2000-01-01T18:30:00\", \"variable\": \"VPD\", \"value\": 0.0, \"is_present\": true, \"mean\": 1.2264658212661743, \"std\": 6.519209384918213, \"err_low\": -13.038418769836426, \"err_high\": 13.038418769836426}, {\"time\": \"2000-01-01T19:00:00\", \"variable\": \"VPD\", \"value\": 0.0020000000949949026, \"is_present\": true, \"mean\": 1.354522943496704, \"std\": 6.519208908081055, \"err_low\": -13.036417961120605, \"err_high\": 13.040417671203613}, {\"time\": \"2000-01-01T19:30:00\", \"variable\": \"VPD\", \"value\": 0.008999999612569809, \"is_present\": true, \"mean\": 0.9669800996780396, \"std\": 11.69731616973877, \"err_low\": -23.385631561279297, \"err_high\": 23.40363311767578}, {\"time\": \"2000-01-01T20:00:00\", \"variable\": \"VPD\", \"value\": 0.014000000432133675, \"is_present\": true, \"mean\": 0.026749849319458008, \"std\": 25.77983856201172, \"err_low\": -51.545677185058594, \"err_high\": 51.57367706298828}]}}, {\"mode\": \"vega-lite\"});\n",
       "</script>"
      ],
      "text/plain": [
       "alt.HConcatChart(...)"
      ]
     },
     "execution_count": null,
     "metadata": {},
     "output_type": "execute_result"
    }
   ],
   "source": [
    "plot_results(*custom_predict(learn, [2,3]))"
   ]
  },
  {
   "cell_type": "code",
   "execution_count": null,
   "id": "6eb49b03-1d9b-406c-a3ff-9b25353e934a",
   "metadata": {},
   "outputs": [
    {
     "data": {
      "text/html": [
       "<div>\n",
       "<style scoped>\n",
       "    .dataframe tbody tr th:only-of-type {\n",
       "        vertical-align: middle;\n",
       "    }\n",
       "\n",
       "    .dataframe tbody tr th {\n",
       "        vertical-align: top;\n",
       "    }\n",
       "\n",
       "    .dataframe thead th {\n",
       "        text-align: right;\n",
       "    }\n",
       "</style>\n",
       "<table border=\"1\" class=\"dataframe\">\n",
       "  <thead>\n",
       "    <tr style=\"text-align: right;\">\n",
       "      <th></th>\n",
       "      <th>TA</th>\n",
       "      <th>SW_IN</th>\n",
       "      <th>VPD</th>\n",
       "    </tr>\n",
       "    <tr>\n",
       "      <th>time</th>\n",
       "      <th></th>\n",
       "      <th></th>\n",
       "      <th></th>\n",
       "    </tr>\n",
       "  </thead>\n",
       "  <tbody>\n",
       "    <tr>\n",
       "      <th>2000-01-01 00:30:00</th>\n",
       "      <td>21.271610</td>\n",
       "      <td>565.400269</td>\n",
       "      <td>6.531728</td>\n",
       "    </tr>\n",
       "    <tr>\n",
       "      <th>2000-01-01 01:00:00</th>\n",
       "      <td>18.597784</td>\n",
       "      <td>496.855865</td>\n",
       "      <td>6.458384</td>\n",
       "    </tr>\n",
       "    <tr>\n",
       "      <th>2000-01-01 01:30:00</th>\n",
       "      <td>46.829216</td>\n",
       "      <td>1281.956299</td>\n",
       "      <td>11.480843</td>\n",
       "    </tr>\n",
       "    <tr>\n",
       "      <th>2000-01-01 02:00:00</th>\n",
       "      <td>112.070724</td>\n",
       "      <td>3035.359375</td>\n",
       "      <td>25.233408</td>\n",
       "    </tr>\n",
       "    <tr>\n",
       "      <th>2000-01-01 02:30:00</th>\n",
       "      <td>19.019865</td>\n",
       "      <td>516.365479</td>\n",
       "      <td>6.527177</td>\n",
       "    </tr>\n",
       "    <tr>\n",
       "      <th>2000-01-01 03:00:00</th>\n",
       "      <td>18.969639</td>\n",
       "      <td>514.225403</td>\n",
       "      <td>6.519597</td>\n",
       "    </tr>\n",
       "    <tr>\n",
       "      <th>2000-01-01 03:30:00</th>\n",
       "      <td>18.968021</td>\n",
       "      <td>514.146973</td>\n",
       "      <td>6.519240</td>\n",
       "    </tr>\n",
       "    <tr>\n",
       "      <th>2000-01-01 04:00:00</th>\n",
       "      <td>18.967875</td>\n",
       "      <td>514.141479</td>\n",
       "      <td>6.519215</td>\n",
       "    </tr>\n",
       "    <tr>\n",
       "      <th>2000-01-01 04:30:00</th>\n",
       "      <td>18.967861</td>\n",
       "      <td>514.140991</td>\n",
       "      <td>6.519213</td>\n",
       "    </tr>\n",
       "    <tr>\n",
       "      <th>2000-01-01 05:00:00</th>\n",
       "      <td>18.967890</td>\n",
       "      <td>514.141968</td>\n",
       "      <td>6.519217</td>\n",
       "    </tr>\n",
       "  </tbody>\n",
       "</table>\n",
       "</div>"
      ],
      "text/plain": [
       "                             TA        SW_IN        VPD\n",
       "time                                                   \n",
       "2000-01-01 00:30:00   21.271610   565.400269   6.531728\n",
       "2000-01-01 01:00:00   18.597784   496.855865   6.458384\n",
       "2000-01-01 01:30:00   46.829216  1281.956299  11.480843\n",
       "2000-01-01 02:00:00  112.070724  3035.359375  25.233408\n",
       "2000-01-01 02:30:00   19.019865   516.365479   6.527177\n",
       "2000-01-01 03:00:00   18.969639   514.225403   6.519597\n",
       "2000-01-01 03:30:00   18.968021   514.146973   6.519240\n",
       "2000-01-01 04:00:00   18.967875   514.141479   6.519215\n",
       "2000-01-01 04:30:00   18.967861   514.140991   6.519213\n",
       "2000-01-01 05:00:00   18.967890   514.141968   6.519217"
      ]
     },
     "execution_count": null,
     "metadata": {},
     "output_type": "execute_result"
    }
   ],
   "source": [
    "preds[0].std"
   ]
  },
  {
   "cell_type": "code",
   "execution_count": null,
   "id": "6127a4ef-4559-4d5d-9aea-ce3fb210bf93",
   "metadata": {},
   "outputs": [
    {
     "data": {
      "text/html": [
       "<p style='font-size: 1.5rem; font-decoration: bold'><p><div style=\"display: flex; column-gap: 20px; flex-wrap: wrap;\" class='table table-striped table-sm'> <div> <p style='font-size: 1.3rem;'>trans_matrix (A)</p> <style type=\"text/css\">\n",
       "</style>\n",
       "<table id=\"T_12182\">\n",
       "  <thead>\n",
       "    <tr>\n",
       "      <th id=\"T_12182_level0_col0\" class=\"col_heading level0 col0\" >latent</th>\n",
       "      <th id=\"T_12182_level0_col1\" class=\"col_heading level0 col1\" >z_0</th>\n",
       "      <th id=\"T_12182_level0_col2\" class=\"col_heading level0 col2\" >z_1</th>\n",
       "      <th id=\"T_12182_level0_col3\" class=\"col_heading level0 col3\" >z_2</th>\n",
       "    </tr>\n",
       "  </thead>\n",
       "  <tbody>\n",
       "    <tr>\n",
       "      <td id=\"T_12182_row0_col0\" class=\"data row0 col0\" >z_0</td>\n",
       "      <td id=\"T_12182_row0_col1\" class=\"data row0 col1\" >0.9187</td>\n",
       "      <td id=\"T_12182_row0_col2\" class=\"data row0 col2\" >0.3704</td>\n",
       "      <td id=\"T_12182_row0_col3\" class=\"data row0 col3\" >0.4885</td>\n",
       "    </tr>\n",
       "    <tr>\n",
       "      <td id=\"T_12182_row1_col0\" class=\"data row1 col0\" >z_1</td>\n",
       "      <td id=\"T_12182_row1_col1\" class=\"data row1 col1\" >0.6929</td>\n",
       "      <td id=\"T_12182_row1_col2\" class=\"data row1 col2\" >0.8136</td>\n",
       "      <td id=\"T_12182_row1_col3\" class=\"data row1 col3\" >0.8968</td>\n",
       "    </tr>\n",
       "    <tr>\n",
       "      <td id=\"T_12182_row2_col0\" class=\"data row2 col0\" >z_2</td>\n",
       "      <td id=\"T_12182_row2_col1\" class=\"data row2 col1\" >1.1128</td>\n",
       "      <td id=\"T_12182_row2_col2\" class=\"data row2 col2\" >0.9816</td>\n",
       "      <td id=\"T_12182_row2_col3\" class=\"data row2 col3\" >0.9149</td>\n",
       "    </tr>\n",
       "  </tbody>\n",
       "</table>\n",
       " </div><div> <p style='font-size: 1.3rem;'>trans_cov (Q)</p> <style type=\"text/css\">\n",
       "</style>\n",
       "<table id=\"T_210ff\">\n",
       "  <thead>\n",
       "    <tr>\n",
       "      <th id=\"T_210ff_level0_col0\" class=\"col_heading level0 col0\" >latent</th>\n",
       "      <th id=\"T_210ff_level0_col1\" class=\"col_heading level0 col1\" >z_0</th>\n",
       "      <th id=\"T_210ff_level0_col2\" class=\"col_heading level0 col2\" >z_1</th>\n",
       "      <th id=\"T_210ff_level0_col3\" class=\"col_heading level0 col3\" >z_2</th>\n",
       "    </tr>\n",
       "  </thead>\n",
       "  <tbody>\n",
       "    <tr>\n",
       "      <td id=\"T_210ff_row0_col0\" class=\"data row0 col0\" >z_0</td>\n",
       "      <td id=\"T_210ff_row0_col1\" class=\"data row0 col1\" >1.2534</td>\n",
       "      <td id=\"T_210ff_row0_col2\" class=\"data row0 col2\" >1.4461</td>\n",
       "      <td id=\"T_210ff_row0_col3\" class=\"data row0 col3\" >0.4448</td>\n",
       "    </tr>\n",
       "    <tr>\n",
       "      <td id=\"T_210ff_row1_col0\" class=\"data row1 col0\" >z_1</td>\n",
       "      <td id=\"T_210ff_row1_col1\" class=\"data row1 col1\" >1.4461</td>\n",
       "      <td id=\"T_210ff_row1_col2\" class=\"data row1 col2\" >2.3961</td>\n",
       "      <td id=\"T_210ff_row1_col3\" class=\"data row1 col3\" >0.8393</td>\n",
       "    </tr>\n",
       "    <tr>\n",
       "      <td id=\"T_210ff_row2_col0\" class=\"data row2 col0\" >z_2</td>\n",
       "      <td id=\"T_210ff_row2_col1\" class=\"data row2 col1\" >0.4448</td>\n",
       "      <td id=\"T_210ff_row2_col2\" class=\"data row2 col2\" >0.8393</td>\n",
       "      <td id=\"T_210ff_row2_col3\" class=\"data row2 col3\" >0.3956</td>\n",
       "    </tr>\n",
       "  </tbody>\n",
       "</table>\n",
       " </div><div> <p style='font-size: 1.3rem;'>trans_off</p> <style type=\"text/css\">\n",
       "</style>\n",
       "<table id=\"T_1378e\">\n",
       "  <thead>\n",
       "    <tr>\n",
       "      <th id=\"T_1378e_level0_col0\" class=\"col_heading level0 col0\" >latent</th>\n",
       "      <th id=\"T_1378e_level0_col1\" class=\"col_heading level0 col1\" >offset</th>\n",
       "    </tr>\n",
       "  </thead>\n",
       "  <tbody>\n",
       "    <tr>\n",
       "      <td id=\"T_1378e_row0_col0\" class=\"data row0 col0\" >z_0</td>\n",
       "      <td id=\"T_1378e_row0_col1\" class=\"data row0 col1\" >0.7589</td>\n",
       "    </tr>\n",
       "    <tr>\n",
       "      <td id=\"T_1378e_row1_col0\" class=\"data row1 col0\" >z_1</td>\n",
       "      <td id=\"T_1378e_row1_col1\" class=\"data row1 col1\" >0.6338</td>\n",
       "    </tr>\n",
       "    <tr>\n",
       "      <td id=\"T_1378e_row2_col0\" class=\"data row2 col0\" >z_2</td>\n",
       "      <td id=\"T_1378e_row2_col1\" class=\"data row2 col1\" >0.0893</td>\n",
       "    </tr>\n",
       "  </tbody>\n",
       "</table>\n",
       " </div><div> <p style='font-size: 1.3rem;'>obs_matrix (H)</p> <style type=\"text/css\">\n",
       "</style>\n",
       "<table id=\"T_396f1\">\n",
       "  <thead>\n",
       "    <tr>\n",
       "      <th id=\"T_396f1_level0_col0\" class=\"col_heading level0 col0\" >variable</th>\n",
       "      <th id=\"T_396f1_level0_col1\" class=\"col_heading level0 col1\" >z_0</th>\n",
       "      <th id=\"T_396f1_level0_col2\" class=\"col_heading level0 col2\" >z_1</th>\n",
       "      <th id=\"T_396f1_level0_col3\" class=\"col_heading level0 col3\" >z_2</th>\n",
       "    </tr>\n",
       "  </thead>\n",
       "  <tbody>\n",
       "    <tr>\n",
       "      <td id=\"T_396f1_row0_col0\" class=\"data row0 col0\" >x_0</td>\n",
       "      <td id=\"T_396f1_row0_col1\" class=\"data row0 col1\" >0.3383</td>\n",
       "      <td id=\"T_396f1_row0_col2\" class=\"data row0 col2\" >0.9015</td>\n",
       "      <td id=\"T_396f1_row0_col3\" class=\"data row0 col3\" >0.8004</td>\n",
       "    </tr>\n",
       "    <tr>\n",
       "      <td id=\"T_396f1_row1_col0\" class=\"data row1 col0\" >x_1</td>\n",
       "      <td id=\"T_396f1_row1_col1\" class=\"data row1 col1\" >1.0824</td>\n",
       "      <td id=\"T_396f1_row1_col2\" class=\"data row1 col2\" >0.2780</td>\n",
       "      <td id=\"T_396f1_row1_col3\" class=\"data row1 col3\" >0.9284</td>\n",
       "    </tr>\n",
       "    <tr>\n",
       "      <td id=\"T_396f1_row2_col0\" class=\"data row2 col0\" >x_2</td>\n",
       "      <td id=\"T_396f1_row2_col1\" class=\"data row2 col1\" >0.3788</td>\n",
       "      <td id=\"T_396f1_row2_col2\" class=\"data row2 col2\" >0.3975</td>\n",
       "      <td id=\"T_396f1_row2_col3\" class=\"data row2 col3\" >0.2092</td>\n",
       "    </tr>\n",
       "  </tbody>\n",
       "</table>\n",
       " </div><div> <p style='font-size: 1.3rem;'>obs_cov (R)</p> <style type=\"text/css\">\n",
       "</style>\n",
       "<table id=\"T_d45ae\">\n",
       "  <thead>\n",
       "    <tr>\n",
       "      <th id=\"T_d45ae_level0_col0\" class=\"col_heading level0 col0\" >variable</th>\n",
       "      <th id=\"T_d45ae_level0_col1\" class=\"col_heading level0 col1\" >x_0</th>\n",
       "      <th id=\"T_d45ae_level0_col2\" class=\"col_heading level0 col2\" >x_1</th>\n",
       "      <th id=\"T_d45ae_level0_col3\" class=\"col_heading level0 col3\" >x_2</th>\n",
       "    </tr>\n",
       "  </thead>\n",
       "  <tbody>\n",
       "    <tr>\n",
       "      <td id=\"T_d45ae_row0_col0\" class=\"data row0 col0\" >x_0</td>\n",
       "      <td id=\"T_d45ae_row0_col1\" class=\"data row0 col1\" >0.3310</td>\n",
       "      <td id=\"T_d45ae_row0_col2\" class=\"data row0 col2\" >0.3174</td>\n",
       "      <td id=\"T_d45ae_row0_col3\" class=\"data row0 col3\" >0.1975</td>\n",
       "    </tr>\n",
       "    <tr>\n",
       "      <td id=\"T_d45ae_row1_col0\" class=\"data row1 col0\" >x_1</td>\n",
       "      <td id=\"T_d45ae_row1_col1\" class=\"data row1 col1\" >0.3174</td>\n",
       "      <td id=\"T_d45ae_row1_col2\" class=\"data row1 col2\" >0.7163</td>\n",
       "      <td id=\"T_d45ae_row1_col3\" class=\"data row1 col3\" >0.7224</td>\n",
       "    </tr>\n",
       "    <tr>\n",
       "      <td id=\"T_d45ae_row2_col0\" class=\"data row2 col0\" >x_2</td>\n",
       "      <td id=\"T_d45ae_row2_col1\" class=\"data row2 col1\" >0.1975</td>\n",
       "      <td id=\"T_d45ae_row2_col2\" class=\"data row2 col2\" >0.7224</td>\n",
       "      <td id=\"T_d45ae_row2_col3\" class=\"data row2 col3\" >1.5905</td>\n",
       "    </tr>\n",
       "  </tbody>\n",
       "</table>\n",
       " </div><div> <p style='font-size: 1.3rem;'>obs_off</p> <style type=\"text/css\">\n",
       "</style>\n",
       "<table id=\"T_771ec\">\n",
       "  <thead>\n",
       "    <tr>\n",
       "      <th id=\"T_771ec_level0_col0\" class=\"col_heading level0 col0\" >variable</th>\n",
       "      <th id=\"T_771ec_level0_col1\" class=\"col_heading level0 col1\" >offset</th>\n",
       "    </tr>\n",
       "  </thead>\n",
       "  <tbody>\n",
       "    <tr>\n",
       "      <td id=\"T_771ec_row0_col0\" class=\"data row0 col0\" >x_0</td>\n",
       "      <td id=\"T_771ec_row0_col1\" class=\"data row0 col1\" >0.7374</td>\n",
       "    </tr>\n",
       "    <tr>\n",
       "      <td id=\"T_771ec_row1_col0\" class=\"data row1 col0\" >x_1</td>\n",
       "      <td id=\"T_771ec_row1_col1\" class=\"data row1 col1\" >0.1368</td>\n",
       "    </tr>\n",
       "    <tr>\n",
       "      <td id=\"T_771ec_row2_col0\" class=\"data row2 col0\" >x_2</td>\n",
       "      <td id=\"T_771ec_row2_col1\" class=\"data row2 col1\" >0.4420</td>\n",
       "    </tr>\n",
       "  </tbody>\n",
       "</table>\n",
       " </div><div> <p style='font-size: 1.3rem;'>init_state_mean</p> <style type=\"text/css\">\n",
       "</style>\n",
       "<table id=\"T_9e970\">\n",
       "  <thead>\n",
       "    <tr>\n",
       "      <th id=\"T_9e970_level0_col0\" class=\"col_heading level0 col0\" >latent</th>\n",
       "      <th id=\"T_9e970_level0_col1\" class=\"col_heading level0 col1\" >mean</th>\n",
       "    </tr>\n",
       "  </thead>\n",
       "  <tbody>\n",
       "    <tr>\n",
       "      <td id=\"T_9e970_row0_col0\" class=\"data row0 col0\" >z_0</td>\n",
       "      <td id=\"T_9e970_row0_col1\" class=\"data row0 col1\" >0.8438</td>\n",
       "    </tr>\n",
       "    <tr>\n",
       "      <td id=\"T_9e970_row1_col0\" class=\"data row1 col0\" >z_1</td>\n",
       "      <td id=\"T_9e970_row1_col1\" class=\"data row1 col1\" >0.3344</td>\n",
       "    </tr>\n",
       "    <tr>\n",
       "      <td id=\"T_9e970_row2_col0\" class=\"data row2 col0\" >z_2</td>\n",
       "      <td id=\"T_9e970_row2_col1\" class=\"data row2 col1\" >0.6216</td>\n",
       "    </tr>\n",
       "  </tbody>\n",
       "</table>\n",
       " </div><div> <p style='font-size: 1.3rem;'>init_state_cov</p> <style type=\"text/css\">\n",
       "</style>\n",
       "<table id=\"T_cdc76\">\n",
       "  <thead>\n",
       "    <tr>\n",
       "      <th id=\"T_cdc76_level0_col0\" class=\"col_heading level0 col0\" >latent</th>\n",
       "      <th id=\"T_cdc76_level0_col1\" class=\"col_heading level0 col1\" >z_0</th>\n",
       "      <th id=\"T_cdc76_level0_col2\" class=\"col_heading level0 col2\" >z_1</th>\n",
       "      <th id=\"T_cdc76_level0_col3\" class=\"col_heading level0 col3\" >z_2</th>\n",
       "    </tr>\n",
       "  </thead>\n",
       "  <tbody>\n",
       "    <tr>\n",
       "      <td id=\"T_cdc76_row0_col0\" class=\"data row0 col0\" >z_0</td>\n",
       "      <td id=\"T_cdc76_row0_col1\" class=\"data row0 col1\" >0.9825</td>\n",
       "      <td id=\"T_cdc76_row0_col2\" class=\"data row0 col2\" >1.2978</td>\n",
       "      <td id=\"T_cdc76_row0_col3\" class=\"data row0 col3\" >1.3882</td>\n",
       "    </tr>\n",
       "    <tr>\n",
       "      <td id=\"T_cdc76_row1_col0\" class=\"data row1 col0\" >z_1</td>\n",
       "      <td id=\"T_cdc76_row1_col1\" class=\"data row1 col1\" >1.2978</td>\n",
       "      <td id=\"T_cdc76_row1_col2\" class=\"data row1 col2\" >2.4604</td>\n",
       "      <td id=\"T_cdc76_row1_col3\" class=\"data row1 col3\" >2.3696</td>\n",
       "    </tr>\n",
       "    <tr>\n",
       "      <td id=\"T_cdc76_row2_col0\" class=\"data row2 col0\" >z_2</td>\n",
       "      <td id=\"T_cdc76_row2_col1\" class=\"data row2 col1\" >1.3882</td>\n",
       "      <td id=\"T_cdc76_row2_col2\" class=\"data row2 col2\" >2.3696</td>\n",
       "      <td id=\"T_cdc76_row2_col3\" class=\"data row2 col3\" >2.3699</td>\n",
       "    </tr>\n",
       "  </tbody>\n",
       "</table>\n",
       " </div></div>"
      ],
      "text/plain": [
       "<IPython.core.display.HTML object>"
      ]
     },
     "metadata": {},
     "output_type": "display_data"
    }
   ],
   "source": [
    "display_as_row(learn.model.get_info())"
   ]
  },
  {
   "cell_type": "code",
   "execution_count": null,
   "id": "5577e4a5-3d26-47fb-9297-55d0cab5c47e",
   "metadata": {},
   "outputs": [
    {
     "data": {
      "text/html": [
       "<div>\n",
       "<style scoped>\n",
       "    .dataframe tbody tr th:only-of-type {\n",
       "        vertical-align: middle;\n",
       "    }\n",
       "\n",
       "    .dataframe tbody tr th {\n",
       "        vertical-align: top;\n",
       "    }\n",
       "\n",
       "    .dataframe thead th {\n",
       "        text-align: right;\n",
       "    }\n",
       "</style>\n",
       "<table border=\"1\" class=\"dataframe\">\n",
       "  <thead>\n",
       "    <tr style=\"text-align: right;\">\n",
       "      <th></th>\n",
       "      <th>TA</th>\n",
       "      <th>SW_IN</th>\n",
       "      <th>VPD</th>\n",
       "    </tr>\n",
       "    <tr>\n",
       "      <th>time</th>\n",
       "      <th></th>\n",
       "      <th></th>\n",
       "      <th></th>\n",
       "    </tr>\n",
       "  </thead>\n",
       "  <tbody>\n",
       "    <tr>\n",
       "      <th>2000-01-23 22:30:00</th>\n",
       "      <td>21.271610</td>\n",
       "      <td>565.400269</td>\n",
       "      <td>6.531728</td>\n",
       "    </tr>\n",
       "    <tr>\n",
       "      <th>2000-01-23 23:00:00</th>\n",
       "      <td>18.597784</td>\n",
       "      <td>496.855865</td>\n",
       "      <td>6.458384</td>\n",
       "    </tr>\n",
       "    <tr>\n",
       "      <th>2000-01-23 23:30:00</th>\n",
       "      <td>46.829216</td>\n",
       "      <td>1281.956299</td>\n",
       "      <td>11.480843</td>\n",
       "    </tr>\n",
       "    <tr>\n",
       "      <th>2000-01-24 00:00:00</th>\n",
       "      <td>112.070724</td>\n",
       "      <td>3035.359375</td>\n",
       "      <td>25.233408</td>\n",
       "    </tr>\n",
       "    <tr>\n",
       "      <th>2000-01-24 00:30:00</th>\n",
       "      <td>19.019865</td>\n",
       "      <td>516.365479</td>\n",
       "      <td>6.527177</td>\n",
       "    </tr>\n",
       "    <tr>\n",
       "      <th>2000-01-24 01:00:00</th>\n",
       "      <td>18.969639</td>\n",
       "      <td>514.225403</td>\n",
       "      <td>6.519597</td>\n",
       "    </tr>\n",
       "    <tr>\n",
       "      <th>2000-01-24 01:30:00</th>\n",
       "      <td>18.968021</td>\n",
       "      <td>514.146973</td>\n",
       "      <td>6.519240</td>\n",
       "    </tr>\n",
       "    <tr>\n",
       "      <th>2000-01-24 02:00:00</th>\n",
       "      <td>18.967875</td>\n",
       "      <td>514.141479</td>\n",
       "      <td>6.519215</td>\n",
       "    </tr>\n",
       "    <tr>\n",
       "      <th>2000-01-24 02:30:00</th>\n",
       "      <td>18.967861</td>\n",
       "      <td>514.140991</td>\n",
       "      <td>6.519213</td>\n",
       "    </tr>\n",
       "    <tr>\n",
       "      <th>2000-01-24 03:00:00</th>\n",
       "      <td>18.967890</td>\n",
       "      <td>514.141968</td>\n",
       "      <td>6.519217</td>\n",
       "    </tr>\n",
       "  </tbody>\n",
       "</table>\n",
       "</div>"
      ],
      "text/plain": [
       "                             TA        SW_IN        VPD\n",
       "time                                                   \n",
       "2000-01-23 22:30:00   21.271610   565.400269   6.531728\n",
       "2000-01-23 23:00:00   18.597784   496.855865   6.458384\n",
       "2000-01-23 23:30:00   46.829216  1281.956299  11.480843\n",
       "2000-01-24 00:00:00  112.070724  3035.359375  25.233408\n",
       "2000-01-24 00:30:00   19.019865   516.365479   6.527177\n",
       "2000-01-24 01:00:00   18.969639   514.225403   6.519597\n",
       "2000-01-24 01:30:00   18.968021   514.146973   6.519240\n",
       "2000-01-24 02:00:00   18.967875   514.141479   6.519215\n",
       "2000-01-24 02:30:00   18.967861   514.140991   6.519213\n",
       "2000-01-24 03:00:00   18.967890   514.141968   6.519217"
      ]
     },
     "execution_count": null,
     "metadata": {},
     "output_type": "execute_result"
    }
   ],
   "source": [
    "preds[1].std"
   ]
  },
  {
   "cell_type": "code",
   "execution_count": null,
   "id": "eb6ceef2-ef86-4aa7-9391-d0d3bd6b592e",
   "metadata": {},
   "outputs": [
    {
     "data": {
      "text/html": [
       "\n",
       "<div id=\"altair-viz-961f29433401438eb0b33073b7444910\"></div>\n",
       "<script type=\"text/javascript\">\n",
       "  var VEGA_DEBUG = (typeof VEGA_DEBUG == \"undefined\") ? {} : VEGA_DEBUG;\n",
       "  (function(spec, embedOpt){\n",
       "    let outputDiv = document.currentScript.previousElementSibling;\n",
       "    if (outputDiv.id !== \"altair-viz-961f29433401438eb0b33073b7444910\") {\n",
       "      outputDiv = document.getElementById(\"altair-viz-961f29433401438eb0b33073b7444910\");\n",
       "    }\n",
       "    const paths = {\n",
       "      \"vega\": \"https://cdn.jsdelivr.net/npm//vega@5?noext\",\n",
       "      \"vega-lib\": \"https://cdn.jsdelivr.net/npm//vega-lib?noext\",\n",
       "      \"vega-lite\": \"https://cdn.jsdelivr.net/npm//vega-lite@5.2.0?noext\",\n",
       "      \"vega-embed\": \"https://cdn.jsdelivr.net/npm//vega-embed@6?noext\",\n",
       "    };\n",
       "\n",
       "    function maybeLoadScript(lib, version) {\n",
       "      var key = `${lib.replace(\"-\", \"\")}_version`;\n",
       "      return (VEGA_DEBUG[key] == version) ?\n",
       "        Promise.resolve(paths[lib]) :\n",
       "        new Promise(function(resolve, reject) {\n",
       "          var s = document.createElement('script');\n",
       "          document.getElementsByTagName(\"head\")[0].appendChild(s);\n",
       "          s.async = true;\n",
       "          s.onload = () => {\n",
       "            VEGA_DEBUG[key] = version;\n",
       "            return resolve(paths[lib]);\n",
       "          };\n",
       "          s.onerror = () => reject(`Error loading script: ${paths[lib]}`);\n",
       "          s.src = paths[lib];\n",
       "        });\n",
       "    }\n",
       "\n",
       "    function showError(err) {\n",
       "      outputDiv.innerHTML = `<div class=\"error\" style=\"color:red;\">${err}</div>`;\n",
       "      throw err;\n",
       "    }\n",
       "\n",
       "    function displayChart(vegaEmbed) {\n",
       "      vegaEmbed(outputDiv, spec, embedOpt)\n",
       "        .catch(err => showError(`Javascript Error: ${err.message}<br>This usually means there's a typo in your chart specification. See the javascript console for the full traceback.`));\n",
       "    }\n",
       "\n",
       "    if(typeof define === \"function\" && define.amd) {\n",
       "      requirejs.config({paths});\n",
       "      require([\"vega-embed\"], displayChart, err => showError(`Error loading script: ${err.message}`));\n",
       "    } else {\n",
       "      maybeLoadScript(\"vega\", \"5\")\n",
       "        .then(() => maybeLoadScript(\"vega-lite\", \"5.2.0\"))\n",
       "        .then(() => maybeLoadScript(\"vega-embed\", \"6\"))\n",
       "        .catch(showError)\n",
       "        .then(() => displayChart(vegaEmbed));\n",
       "    }\n",
       "  })({\"config\": {\"view\": {\"continuousWidth\": 400, \"continuousHeight\": 300}}, \"hconcat\": [{\"vconcat\": [{\"hconcat\": [{\"layer\": [{\"mark\": {\"type\": \"point\", \"color\": \"black\", \"fillOpacity\": 1, \"strokeWidth\": 1}, \"encoding\": {\"fill\": {\"field\": \"is_present\", \"legend\": {\"title\": [\"Observed data\"]}, \"scale\": {\"range\": [\"black\", \"#ffffff00\"]}, \"type\": \"nominal\"}, \"shape\": {\"field\": \"is_present\", \"type\": \"nominal\"}, \"x\": {\"field\": \"time\", \"type\": \"temporal\"}, \"y\": {\"field\": \"value\", \"scale\": {\"zero\": false}, \"title\": \"TA\", \"type\": \"quantitative\"}}}, {\"layer\": [{\"mark\": \"errorband\", \"encoding\": {\"color\": {\"field\": \"variable\", \"legend\": {\"title\": [\"Line: pred. mean\", \"area: +/- 2 std\"]}, \"type\": \"nominal\"}, \"x\": {\"field\": \"time\", \"type\": \"temporal\"}, \"y\": {\"field\": \"err_low\", \"scale\": {\"zero\": false}, \"title\": \"TA\", \"type\": \"quantitative\"}, \"y2\": {\"field\": \"err_high\"}}, \"name\": \"view_15\"}, {\"mark\": \"line\", \"encoding\": {\"color\": {\"field\": \"variable\", \"type\": \"nominal\"}, \"x\": {\"field\": \"time\", \"type\": \"temporal\"}, \"y\": {\"field\": \"value\", \"scale\": {\"zero\": false}, \"title\": \"TA\", \"type\": \"quantitative\"}}}]}], \"height\": 150, \"title\": \"TA\", \"width\": 200}], \"data\": {\"name\": \"data-2889649be23b5b27cfbe242c2ef4bb64\"}}, {\"hconcat\": [{\"layer\": [{\"mark\": {\"type\": \"point\", \"color\": \"black\", \"fillOpacity\": 1, \"strokeWidth\": 1}, \"encoding\": {\"fill\": {\"field\": \"is_present\", \"legend\": {\"title\": [\"Observed data\"]}, \"scale\": {\"range\": [\"black\", \"#ffffff00\"]}, \"type\": \"nominal\"}, \"shape\": {\"field\": \"is_present\", \"type\": \"nominal\"}, \"x\": {\"field\": \"time\", \"type\": \"temporal\"}, \"y\": {\"field\": \"value\", \"scale\": {\"zero\": false}, \"title\": \"SW_IN\", \"type\": \"quantitative\"}}}, {\"layer\": [{\"mark\": \"errorband\", \"encoding\": {\"color\": {\"field\": \"variable\", \"legend\": {\"title\": [\"Line: pred. mean\", \"area: +/- 2 std\"]}, \"type\": \"nominal\"}, \"x\": {\"field\": \"time\", \"type\": \"temporal\"}, \"y\": {\"field\": \"err_low\", \"scale\": {\"zero\": false}, \"title\": \"SW_IN\", \"type\": \"quantitative\"}, \"y2\": {\"field\": \"err_high\"}}, \"name\": \"view_16\"}, {\"mark\": \"line\", \"encoding\": {\"color\": {\"field\": \"variable\", \"type\": \"nominal\"}, \"x\": {\"field\": \"time\", \"type\": \"temporal\"}, \"y\": {\"field\": \"value\", \"scale\": {\"zero\": false}, \"title\": \"SW_IN\", \"type\": \"quantitative\"}}}]}], \"height\": 150, \"title\": \"SW_IN\", \"width\": 200}], \"data\": {\"name\": \"data-8a8ecc2690cbe014bbb5dc0ad3f70601\"}}, {\"hconcat\": [{\"layer\": [{\"mark\": {\"type\": \"point\", \"color\": \"black\", \"fillOpacity\": 1, \"strokeWidth\": 1}, \"encoding\": {\"fill\": {\"field\": \"is_present\", \"legend\": {\"title\": [\"Observed data\"]}, \"scale\": {\"range\": [\"black\", \"#ffffff00\"]}, \"type\": \"nominal\"}, \"shape\": {\"field\": \"is_present\", \"type\": \"nominal\"}, \"x\": {\"field\": \"time\", \"type\": \"temporal\"}, \"y\": {\"field\": \"value\", \"scale\": {\"zero\": false}, \"title\": \"VPD\", \"type\": \"quantitative\"}}}, {\"layer\": [{\"mark\": \"errorband\", \"encoding\": {\"color\": {\"field\": \"variable\", \"legend\": {\"title\": [\"Line: pred. mean\", \"area: +/- 2 std\"]}, \"type\": \"nominal\"}, \"x\": {\"field\": \"time\", \"type\": \"temporal\"}, \"y\": {\"field\": \"err_low\", \"scale\": {\"zero\": false}, \"title\": \"VPD\", \"type\": \"quantitative\"}, \"y2\": {\"field\": \"err_high\"}}, \"name\": \"view_17\"}, {\"mark\": \"line\", \"encoding\": {\"color\": {\"field\": \"variable\", \"type\": \"nominal\"}, \"x\": {\"field\": \"time\", \"type\": \"temporal\"}, \"y\": {\"field\": \"value\", \"scale\": {\"zero\": false}, \"title\": \"VPD\", \"type\": \"quantitative\"}}}]}], \"height\": 150, \"title\": \"VPD\", \"width\": 200}], \"data\": {\"name\": \"data-d82cf278c7f05a85397f8030cee5afd5\"}}], \"title\": \"loss: -44.098816\"}, {\"vconcat\": [{\"hconcat\": [{\"layer\": [{\"mark\": {\"type\": \"point\", \"color\": \"black\", \"fillOpacity\": 1, \"strokeWidth\": 1}, \"encoding\": {\"fill\": {\"field\": \"is_present\", \"legend\": {\"title\": [\"Observed data\"]}, \"scale\": {\"range\": [\"black\", \"#ffffff00\"]}, \"type\": \"nominal\"}, \"shape\": {\"field\": \"is_present\", \"type\": \"nominal\"}, \"x\": {\"field\": \"time\", \"type\": \"temporal\"}, \"y\": {\"field\": \"value\", \"scale\": {\"zero\": false}, \"title\": \"TA\", \"type\": \"quantitative\"}}}, {\"layer\": [{\"mark\": \"errorband\", \"encoding\": {\"color\": {\"field\": \"variable\", \"legend\": {\"title\": [\"Line: pred. mean\", \"area: +/- 2 std\"]}, \"type\": \"nominal\"}, \"x\": {\"field\": \"time\", \"type\": \"temporal\"}, \"y\": {\"field\": \"err_low\", \"scale\": {\"zero\": false}, \"title\": \"TA\", \"type\": \"quantitative\"}, \"y2\": {\"field\": \"err_high\"}}, \"name\": \"view_18\"}, {\"mark\": \"line\", \"encoding\": {\"color\": {\"field\": \"variable\", \"type\": \"nominal\"}, \"x\": {\"field\": \"time\", \"type\": \"temporal\"}, \"y\": {\"field\": \"value\", \"scale\": {\"zero\": false}, \"title\": \"TA\", \"type\": \"quantitative\"}}}]}], \"height\": 150, \"title\": \"TA\", \"width\": 200}], \"data\": {\"name\": \"data-5a170feb5a2ddcd75d6202b2273d7721\"}}, {\"hconcat\": [{\"layer\": [{\"mark\": {\"type\": \"point\", \"color\": \"black\", \"fillOpacity\": 1, \"strokeWidth\": 1}, \"encoding\": {\"fill\": {\"field\": \"is_present\", \"legend\": {\"title\": [\"Observed data\"]}, \"scale\": {\"range\": [\"black\", \"#ffffff00\"]}, \"type\": \"nominal\"}, \"shape\": {\"field\": \"is_present\", \"type\": \"nominal\"}, \"x\": {\"field\": \"time\", \"type\": \"temporal\"}, \"y\": {\"field\": \"value\", \"scale\": {\"zero\": false}, \"title\": \"SW_IN\", \"type\": \"quantitative\"}}}, {\"layer\": [{\"mark\": \"errorband\", \"encoding\": {\"color\": {\"field\": \"variable\", \"legend\": {\"title\": [\"Line: pred. mean\", \"area: +/- 2 std\"]}, \"type\": \"nominal\"}, \"x\": {\"field\": \"time\", \"type\": \"temporal\"}, \"y\": {\"field\": \"err_low\", \"scale\": {\"zero\": false}, \"title\": \"SW_IN\", \"type\": \"quantitative\"}, \"y2\": {\"field\": \"err_high\"}}, \"name\": \"view_19\"}, {\"mark\": \"line\", \"encoding\": {\"color\": {\"field\": \"variable\", \"type\": \"nominal\"}, \"x\": {\"field\": \"time\", \"type\": \"temporal\"}, \"y\": {\"field\": \"value\", \"scale\": {\"zero\": false}, \"title\": \"SW_IN\", \"type\": \"quantitative\"}}}]}], \"height\": 150, \"title\": \"SW_IN\", \"width\": 200}], \"data\": {\"name\": \"data-9770e1e2f5d67108f091f851cad74317\"}}, {\"hconcat\": [{\"layer\": [{\"mark\": {\"type\": \"point\", \"color\": \"black\", \"fillOpacity\": 1, \"strokeWidth\": 1}, \"encoding\": {\"fill\": {\"field\": \"is_present\", \"legend\": {\"title\": [\"Observed data\"]}, \"scale\": {\"range\": [\"black\", \"#ffffff00\"]}, \"type\": \"nominal\"}, \"shape\": {\"field\": \"is_present\", \"type\": \"nominal\"}, \"x\": {\"field\": \"time\", \"type\": \"temporal\"}, \"y\": {\"field\": \"value\", \"scale\": {\"zero\": false}, \"title\": \"VPD\", \"type\": \"quantitative\"}}}, {\"layer\": [{\"mark\": \"errorband\", \"encoding\": {\"color\": {\"field\": \"variable\", \"legend\": {\"title\": [\"Line: pred. mean\", \"area: +/- 2 std\"]}, \"type\": \"nominal\"}, \"x\": {\"field\": \"time\", \"type\": \"temporal\"}, \"y\": {\"field\": \"err_low\", \"scale\": {\"zero\": false}, \"title\": \"VPD\", \"type\": \"quantitative\"}, \"y2\": {\"field\": \"err_high\"}}, \"name\": \"view_20\"}, {\"mark\": \"line\", \"encoding\": {\"color\": {\"field\": \"variable\", \"type\": \"nominal\"}, \"x\": {\"field\": \"time\", \"type\": \"temporal\"}, \"y\": {\"field\": \"value\", \"scale\": {\"zero\": false}, \"title\": \"VPD\", \"type\": \"quantitative\"}}}]}], \"height\": 150, \"title\": \"VPD\", \"width\": 200}], \"data\": {\"name\": \"data-6d1ec9f354ff455bbcab2402bdb0463e\"}}], \"title\": \"loss: -44.098816\"}, {\"vconcat\": [{\"hconcat\": [{\"layer\": [{\"mark\": {\"type\": \"point\", \"color\": \"black\", \"fillOpacity\": 1, \"strokeWidth\": 1}, \"encoding\": {\"fill\": {\"field\": \"is_present\", \"legend\": {\"title\": [\"Observed data\"]}, \"scale\": {\"range\": [\"black\", \"#ffffff00\"]}, \"type\": \"nominal\"}, \"shape\": {\"field\": \"is_present\", \"type\": \"nominal\"}, \"x\": {\"field\": \"time\", \"type\": \"temporal\"}, \"y\": {\"field\": \"value\", \"scale\": {\"zero\": false}, \"title\": \"TA\", \"type\": \"quantitative\"}}}, {\"layer\": [{\"mark\": \"errorband\", \"encoding\": {\"color\": {\"field\": \"variable\", \"legend\": {\"title\": [\"Line: pred. mean\", \"area: +/- 2 std\"]}, \"type\": \"nominal\"}, \"x\": {\"field\": \"time\", \"type\": \"temporal\"}, \"y\": {\"field\": \"err_low\", \"scale\": {\"zero\": false}, \"title\": \"TA\", \"type\": \"quantitative\"}, \"y2\": {\"field\": \"err_high\"}}, \"name\": \"view_21\"}, {\"mark\": \"line\", \"encoding\": {\"color\": {\"field\": \"variable\", \"type\": \"nominal\"}, \"x\": {\"field\": \"time\", \"type\": \"temporal\"}, \"y\": {\"field\": \"value\", \"scale\": {\"zero\": false}, \"title\": \"TA\", \"type\": \"quantitative\"}}}]}], \"height\": 150, \"title\": \"TA\", \"width\": 200}], \"data\": {\"name\": \"data-f6ddf730f59db85fe038d4f0fa3cdc1b\"}}, {\"hconcat\": [{\"layer\": [{\"mark\": {\"type\": \"point\", \"color\": \"black\", \"fillOpacity\": 1, \"strokeWidth\": 1}, \"encoding\": {\"fill\": {\"field\": \"is_present\", \"legend\": {\"title\": [\"Observed data\"]}, \"scale\": {\"range\": [\"black\", \"#ffffff00\"]}, \"type\": \"nominal\"}, \"shape\": {\"field\": \"is_present\", \"type\": \"nominal\"}, \"x\": {\"field\": \"time\", \"type\": \"temporal\"}, \"y\": {\"field\": \"value\", \"scale\": {\"zero\": false}, \"title\": \"SW_IN\", \"type\": \"quantitative\"}}}, {\"layer\": [{\"mark\": \"errorband\", \"encoding\": {\"color\": {\"field\": \"variable\", \"legend\": {\"title\": [\"Line: pred. mean\", \"area: +/- 2 std\"]}, \"type\": \"nominal\"}, \"x\": {\"field\": \"time\", \"type\": \"temporal\"}, \"y\": {\"field\": \"err_low\", \"scale\": {\"zero\": false}, \"title\": \"SW_IN\", \"type\": \"quantitative\"}, \"y2\": {\"field\": \"err_high\"}}, \"name\": \"view_22\"}, {\"mark\": \"line\", \"encoding\": {\"color\": {\"field\": \"variable\", \"type\": \"nominal\"}, \"x\": {\"field\": \"time\", \"type\": \"temporal\"}, \"y\": {\"field\": \"value\", \"scale\": {\"zero\": false}, \"title\": \"SW_IN\", \"type\": \"quantitative\"}}}]}], \"height\": 150, \"title\": \"SW_IN\", \"width\": 200}], \"data\": {\"name\": \"data-75fd8a3f9afa1b002e35f3c0645d56d1\"}}, {\"hconcat\": [{\"layer\": [{\"mark\": {\"type\": \"point\", \"color\": \"black\", \"fillOpacity\": 1, \"strokeWidth\": 1}, \"encoding\": {\"fill\": {\"field\": \"is_present\", \"legend\": {\"title\": [\"Observed data\"]}, \"scale\": {\"range\": [\"black\", \"#ffffff00\"]}, \"type\": \"nominal\"}, \"shape\": {\"field\": \"is_present\", \"type\": \"nominal\"}, \"x\": {\"field\": \"time\", \"type\": \"temporal\"}, \"y\": {\"field\": \"value\", \"scale\": {\"zero\": false}, \"title\": \"VPD\", \"type\": \"quantitative\"}}}, {\"layer\": [{\"mark\": \"errorband\", \"encoding\": {\"color\": {\"field\": \"variable\", \"legend\": {\"title\": [\"Line: pred. mean\", \"area: +/- 2 std\"]}, \"type\": \"nominal\"}, \"x\": {\"field\": \"time\", \"type\": \"temporal\"}, \"y\": {\"field\": \"err_low\", \"scale\": {\"zero\": false}, \"title\": \"VPD\", \"type\": \"quantitative\"}, \"y2\": {\"field\": \"err_high\"}}, \"name\": \"view_23\"}, {\"mark\": \"line\", \"encoding\": {\"color\": {\"field\": \"variable\", \"type\": \"nominal\"}, \"x\": {\"field\": \"time\", \"type\": \"temporal\"}, \"y\": {\"field\": \"value\", \"scale\": {\"zero\": false}, \"title\": \"VPD\", \"type\": \"quantitative\"}}}]}], \"height\": 150, \"title\": \"VPD\", \"width\": 200}], \"data\": {\"name\": \"data-7767e224e489fab2fce48b4aeb45b676\"}}], \"title\": \"loss: -44.159199\"}], \"params\": [{\"name\": \"param_23\", \"select\": {\"type\": \"interval\", \"encodings\": [\"x\"]}, \"bind\": \"scales\", \"views\": [\"view_15\", \"view_16\", \"view_17\"]}, {\"name\": \"param_27\", \"select\": {\"type\": \"interval\", \"encodings\": [\"x\"]}, \"bind\": \"scales\", \"views\": [\"view_18\", \"view_19\", \"view_20\"]}, {\"name\": \"param_31\", \"select\": {\"type\": \"interval\", \"encodings\": [\"x\"]}, \"bind\": \"scales\", \"views\": [\"view_21\", \"view_22\", \"view_23\"]}], \"$schema\": \"https://vega.github.io/schema/vega-lite/v5.2.0.json\", \"datasets\": {\"data-2889649be23b5b27cfbe242c2ef4bb64\": [{\"time\": \"2000-01-01T00:30:00\", \"variable\": \"TA\", \"value\": -0.6000000238418579, \"is_present\": true, \"mean\": 15.613127708435059, \"std\": 21.271610260009766, \"err_low\": -43.143218994140625, \"err_high\": 41.94322204589844}, {\"time\": \"2000-01-01T01:00:00\", \"variable\": \"TA\", \"value\": -0.6499999761581421, \"is_present\": false, \"mean\": -7.323994159698486, \"std\": 18.5977840423584, \"err_low\": -37.8455696105957, \"err_high\": 36.54556655883789}, {\"time\": \"2000-01-01T01:30:00\", \"variable\": \"TA\", \"value\": -0.5799999833106995, \"is_present\": false, \"mean\": -15.028636932373047, \"std\": 46.82921600341797, \"err_low\": -94.23843383789062, \"err_high\": 93.07843017578125}, {\"time\": \"2000-01-01T02:00:00\", \"variable\": \"TA\", \"value\": -0.5099999904632568, \"is_present\": true, \"mean\": -33.62369155883789, \"std\": 112.07072448730469, \"err_low\": -224.6514434814453, \"err_high\": 223.63145446777344}, {\"time\": \"2000-01-01T02:30:00\", \"variable\": \"TA\", \"value\": -0.49000000953674316, \"is_present\": true, \"mean\": -7.0240797996521, \"std\": 19.019865036010742, \"err_low\": -38.52973175048828, \"err_high\": 37.54972839355469}, {\"time\": \"2000-01-01T03:00:00\", \"variable\": \"TA\", \"value\": -0.4000000059604645, \"is_present\": true, \"mean\": -6.433483600616455, \"std\": 18.96963882446289, \"err_low\": -38.33927917480469, \"err_high\": 37.539276123046875}, {\"time\": \"2000-01-01T03:30:00\", \"variable\": \"TA\", \"value\": -0.36000001430511475, \"is_present\": true, \"mean\": -6.143823146820068, \"std\": 18.968021392822266, \"err_low\": -38.296043395996094, \"err_high\": 37.57604217529297}, {\"time\": \"2000-01-01T04:00:00\", \"variable\": \"TA\", \"value\": -0.3499999940395355, \"is_present\": true, \"mean\": -6.057565212249756, \"std\": 18.96787452697754, \"err_low\": -38.28574752807617, \"err_high\": 37.585750579833984}, {\"time\": \"2000-01-01T04:30:00\", \"variable\": \"TA\", \"value\": -0.2800000011920929, \"is_present\": true, \"mean\": -6.044025897979736, \"std\": 18.96786117553711, \"err_low\": -38.215721130371094, \"err_high\": 37.655723571777344}, {\"time\": \"2000-01-01T05:00:00\", \"variable\": \"TA\", \"value\": -0.27000001072883606, \"is_present\": true, \"mean\": -5.93153715133667, \"std\": 18.9678897857666, \"err_low\": -38.205780029296875, \"err_high\": 37.66577911376953}], \"data-8a8ecc2690cbe014bbb5dc0ad3f70601\": [{\"time\": \"2000-01-01T00:30:00\", \"variable\": \"SW_IN\", \"value\": 0.0, \"is_present\": true, \"mean\": 408.2739562988281, \"std\": 565.4002685546875, \"err_low\": -1130.800537109375, \"err_high\": 1130.800537109375}, {\"time\": \"2000-01-01T01:00:00\", \"variable\": \"SW_IN\", \"value\": 0.0, \"is_present\": false, \"mean\": -199.87469482421875, \"std\": 496.8558654785156, \"err_low\": -993.7117309570312, \"err_high\": 993.7117309570312}, {\"time\": \"2000-01-01T01:30:00\", \"variable\": \"SW_IN\", \"value\": 0.0, \"is_present\": false, \"mean\": -412.7411804199219, \"std\": 1281.956298828125, \"err_low\": -2563.91259765625, \"err_high\": 2563.91259765625}, {\"time\": \"2000-01-01T02:00:00\", \"variable\": \"SW_IN\", \"value\": 0.0, \"is_present\": true, \"mean\": -919.2837524414062, \"std\": 3035.359375, \"err_low\": -6070.71875, \"err_high\": 6070.71875}, {\"time\": \"2000-01-01T02:30:00\", \"variable\": \"SW_IN\", \"value\": 0.0, \"is_present\": true, \"mean\": -175.7413330078125, \"std\": 516.365478515625, \"err_low\": -1032.73095703125, \"err_high\": 1032.73095703125}, {\"time\": \"2000-01-01T03:00:00\", \"variable\": \"SW_IN\", \"value\": 0.0, \"is_present\": true, \"mean\": -143.89541625976562, \"std\": 514.2254028320312, \"err_low\": -1028.4508056640625, \"err_high\": 1028.4508056640625}, {\"time\": \"2000-01-01T03:30:00\", \"variable\": \"SW_IN\", \"value\": 0.0, \"is_present\": true, \"mean\": -135.74188232421875, \"std\": 514.14697265625, \"err_low\": -1028.2939453125, \"err_high\": 1028.2939453125}, {\"time\": \"2000-01-01T04:00:00\", \"variable\": \"SW_IN\", \"value\": 0.0, \"is_present\": true, \"mean\": -133.7508544921875, \"std\": 514.1414794921875, \"err_low\": -1028.282958984375, \"err_high\": 1028.282958984375}, {\"time\": \"2000-01-01T04:30:00\", \"variable\": \"SW_IN\", \"value\": 0.0, \"is_present\": true, \"mean\": -133.57696533203125, \"std\": 514.1409912109375, \"err_low\": -1028.281982421875, \"err_high\": 1028.281982421875}, {\"time\": \"2000-01-01T05:00:00\", \"variable\": \"SW_IN\", \"value\": 0.0, \"is_present\": true, \"mean\": -130.8809814453125, \"std\": 514.1419677734375, \"err_low\": -1028.283935546875, \"err_high\": 1028.283935546875}], \"data-d82cf278c7f05a85397f8030cee5afd5\": [{\"time\": \"2000-01-01T00:30:00\", \"variable\": \"VPD\", \"value\": 0.22200000286102295, \"is_present\": true, \"mean\": 4.973276138305664, \"std\": 6.5317277908325195, \"err_low\": -12.841455459594727, \"err_high\": 13.285455703735352}, {\"time\": \"2000-01-01T01:00:00\", \"variable\": \"VPD\", \"value\": 0.12200000137090683, \"is_present\": true, \"mean\": 0.4075586795806885, \"std\": 6.458383560180664, \"err_low\": -12.794767379760742, \"err_high\": 13.038766860961914}, {\"time\": \"2000-01-01T01:30:00\", \"variable\": \"VPD\", \"value\": 0.09000000357627869, \"is_present\": true, \"mean\": -1.3749973773956299, \"std\": 11.480842590332031, \"err_low\": -22.871685028076172, \"err_high\": 23.051685333251953}, {\"time\": \"2000-01-01T02:00:00\", \"variable\": \"VPD\", \"value\": 0.10999999940395355, \"is_present\": true, \"mean\": -5.48664665222168, \"std\": 25.233407974243164, \"err_low\": -50.356815338134766, \"err_high\": 50.57681655883789}, {\"time\": \"2000-01-01T02:30:00\", \"variable\": \"VPD\", \"value\": 0.10199999809265137, \"is_present\": true, \"mean\": 0.5113668441772461, \"std\": 6.527177333831787, \"err_low\": -12.952354431152344, \"err_high\": 13.156354904174805}, {\"time\": \"2000-01-01T03:00:00\", \"variable\": \"VPD\", \"value\": 0.11100000143051147, \"is_present\": true, \"mean\": 0.6760199069976807, \"std\": 6.519596576690674, \"err_low\": -12.928193092346191, \"err_high\": 13.150193214416504}, {\"time\": \"2000-01-01T03:30:00\", \"variable\": \"VPD\", \"value\": 0.10899999737739563, \"is_present\": true, \"mean\": 0.743710994720459, \"std\": 6.519239902496338, \"err_low\": -12.929479598999023, \"err_high\": 13.147480010986328}, {\"time\": \"2000-01-01T04:00:00\", \"variable\": \"VPD\", \"value\": 0.10700000077486038, \"is_present\": true, \"mean\": 0.7618718147277832, \"std\": 6.519215106964111, \"err_low\": -12.931429862976074, \"err_high\": 13.145430564880371}, {\"time\": \"2000-01-01T04:30:00\", \"variable\": \"VPD\", \"value\": 0.12200000137090683, \"is_present\": true, \"mean\": 0.7642970085144043, \"std\": 6.51921272277832, \"err_low\": -12.916425704956055, \"err_high\": 13.160425186157227}, {\"time\": \"2000-01-01T05:00:00\", \"variable\": \"VPD\", \"value\": 0.1379999965429306, \"is_present\": true, \"mean\": 0.7874860763549805, \"std\": 6.519217491149902, \"err_low\": -12.900435447692871, \"err_high\": 13.176434516906738}], \"data-5a170feb5a2ddcd75d6202b2273d7721\": [{\"time\": \"2000-01-23T22:30:00\", \"variable\": \"TA\", \"value\": -9.649999618530273, \"is_present\": true, \"mean\": 15.613127708435059, \"std\": 21.271610260009766, \"err_low\": -52.19322204589844, \"err_high\": 32.893218994140625}, {\"time\": \"2000-01-23T23:00:00\", \"variable\": \"TA\", \"value\": -9.699999809265137, \"is_present\": true, \"mean\": -22.81048011779785, \"std\": 18.5977840423584, \"err_low\": -46.89556884765625, \"err_high\": 27.495567321777344}, {\"time\": \"2000-01-23T23:30:00\", \"variable\": \"TA\", \"value\": -9.619999885559082, \"is_present\": true, \"mean\": -49.68616485595703, \"std\": 46.82921600341797, \"err_low\": -103.27843475341797, \"err_high\": 84.0384292602539}, {\"time\": \"2000-01-24T00:00:00\", \"variable\": \"TA\", \"value\": -9.569999694824219, \"is_present\": false, \"mean\": -114.42723846435547, \"std\": 112.07072448730469, \"err_low\": -233.71145629882812, \"err_high\": 214.57144165039062}, {\"time\": \"2000-01-24T00:30:00\", \"variable\": \"TA\", \"value\": -9.569999694824219, \"is_present\": false, \"mean\": -22.550533294677734, \"std\": 19.019865036010742, \"err_low\": -47.6097297668457, \"err_high\": 28.469730377197266}, {\"time\": \"2000-01-24T01:00:00\", \"variable\": \"TA\", \"value\": -9.640000343322754, \"is_present\": true, \"mean\": -21.363216400146484, \"std\": 18.96963882446289, \"err_low\": -47.57927703857422, \"err_high\": 28.299278259277344}, {\"time\": \"2000-01-24T01:30:00\", \"variable\": \"TA\", \"value\": -9.720000267028809, \"is_present\": true, \"mean\": -21.17267417907715, \"std\": 18.968021392822266, \"err_low\": -47.656044006347656, \"err_high\": 28.216041564941406}, {\"time\": \"2000-01-24T02:00:00\", \"variable\": \"TA\", \"value\": -9.779999732971191, \"is_present\": true, \"mean\": -21.249584197998047, \"std\": 18.96787452697754, \"err_low\": -47.71574783325195, \"err_high\": 28.155750274658203}, {\"time\": \"2000-01-24T02:30:00\", \"variable\": \"TA\", \"value\": -9.65999984741211, \"is_present\": true, \"mean\": -21.339632034301758, \"std\": 18.96786117553711, \"err_low\": -47.59572219848633, \"err_high\": 28.27572250366211}, {\"time\": \"2000-01-24T03:00:00\", \"variable\": \"TA\", \"value\": -9.489999771118164, \"is_present\": true, \"mean\": -21.11786651611328, \"std\": 18.9678897857666, \"err_low\": -47.42578125, \"err_high\": 28.44577980041504}], \"data-9770e1e2f5d67108f091f851cad74317\": [{\"time\": \"2000-01-23T22:30:00\", \"variable\": \"SW_IN\", \"value\": 0.0, \"is_present\": true, \"mean\": 408.2739562988281, \"std\": 565.4002685546875, \"err_low\": -1130.800537109375, \"err_high\": 1130.800537109375}, {\"time\": \"2000-01-23T23:00:00\", \"variable\": \"SW_IN\", \"value\": 0.0, \"is_present\": true, \"mean\": -578.3010864257812, \"std\": 496.8558654785156, \"err_low\": -993.7117309570312, \"err_high\": 993.7117309570312}, {\"time\": \"2000-01-23T23:30:00\", \"variable\": \"SW_IN\", \"value\": 0.0, \"is_present\": true, \"mean\": -1331.1639404296875, \"std\": 1281.956298828125, \"err_low\": -2563.91259765625, \"err_high\": 2563.91259765625}, {\"time\": \"2000-01-24T00:00:00\", \"variable\": \"SW_IN\", \"value\": 0.0, \"is_present\": false, \"mean\": -3091.69921875, \"std\": 3035.359375, \"err_low\": -6070.71875, \"err_high\": 6070.71875}, {\"time\": \"2000-01-24T00:30:00\", \"variable\": \"SW_IN\", \"value\": 0.0, \"is_present\": false, \"mean\": -550.914794921875, \"std\": 516.365478515625, \"err_low\": -1032.73095703125, \"err_high\": 1032.73095703125}, {\"time\": \"2000-01-24T01:00:00\", \"variable\": \"SW_IN\", \"value\": 0.0, \"is_present\": true, \"mean\": -483.3208923339844, \"std\": 514.2254028320312, \"err_low\": -1028.4508056640625, \"err_high\": 1028.4508056640625}, {\"time\": \"2000-01-24T01:30:00\", \"variable\": \"SW_IN\", \"value\": 0.0, \"is_present\": true, \"mean\": -476.1269836425781, \"std\": 514.14697265625, \"err_low\": -1028.2939453125, \"err_high\": 1028.2939453125}, {\"time\": \"2000-01-24T02:00:00\", \"variable\": \"SW_IN\", \"value\": 0.0, \"is_present\": true, \"mean\": -477.4471740722656, \"std\": 514.1414794921875, \"err_low\": -1028.282958984375, \"err_high\": 1028.282958984375}, {\"time\": \"2000-01-24T02:30:00\", \"variable\": \"SW_IN\", \"value\": 0.0, \"is_present\": true, \"mean\": -479.3977966308594, \"std\": 514.1409912109375, \"err_low\": -1028.281982421875, \"err_high\": 1028.281982421875}, {\"time\": \"2000-01-24T03:00:00\", \"variable\": \"SW_IN\", \"value\": 0.0, \"is_present\": true, \"mean\": -473.6205749511719, \"std\": 514.1419677734375, \"err_low\": -1028.283935546875, \"err_high\": 1028.283935546875}], \"data-6d1ec9f354ff455bbcab2402bdb0463e\": [{\"time\": \"2000-01-23T22:30:00\", \"variable\": \"VPD\", \"value\": 0.19099999964237213, \"is_present\": true, \"mean\": 4.973276138305664, \"std\": 6.5317277908325195, \"err_low\": -12.872455596923828, \"err_high\": 13.25445556640625}, {\"time\": \"2000-01-23T23:00:00\", \"variable\": \"VPD\", \"value\": 0.18799999356269836, \"is_present\": true, \"mean\": -2.842742681503296, \"std\": 6.458383560180664, \"err_low\": -12.728767395019531, \"err_high\": 13.104766845703125}, {\"time\": \"2000-01-23T23:30:00\", \"variable\": \"VPD\", \"value\": 0.1889999955892563, \"is_present\": true, \"mean\": -8.95051383972168, \"std\": 11.480842590332031, \"err_low\": -22.772686004638672, \"err_high\": 23.150684356689453}, {\"time\": \"2000-01-24T00:00:00\", \"variable\": \"VPD\", \"value\": 0.1899999976158142, \"is_present\": true, \"mean\": -23.269643783569336, \"std\": 25.233407974243164, \"err_low\": -50.276817321777344, \"err_high\": 50.65681457519531}, {\"time\": \"2000-01-24T00:30:00\", \"variable\": \"VPD\", \"value\": 0.19099999964237213, \"is_present\": true, \"mean\": -2.7201802730560303, \"std\": 6.527177333831787, \"err_low\": -12.863354682922363, \"err_high\": 13.245354652404785}, {\"time\": \"2000-01-24T01:00:00\", \"variable\": \"VPD\", \"value\": 0.19200000166893005, \"is_present\": true, \"mean\": -2.38086199760437, \"std\": 6.519596576690674, \"err_low\": -12.847192764282227, \"err_high\": 13.231193542480469}, {\"time\": \"2000-01-24T01:30:00\", \"variable\": \"VPD\", \"value\": 0.19300000369548798, \"is_present\": true, \"mean\": -2.3244245052337646, \"std\": 6.519239902496338, \"err_low\": -12.845479965209961, \"err_high\": 13.23147964477539}, {\"time\": \"2000-01-24T02:00:00\", \"variable\": \"VPD\", \"value\": 0.1940000057220459, \"is_present\": true, \"mean\": -2.338252305984497, \"std\": 6.519215106964111, \"err_low\": -12.844429969787598, \"err_high\": 13.232430458068848}, {\"time\": \"2000-01-24T02:30:00\", \"variable\": \"VPD\", \"value\": 0.19200000166893005, \"is_present\": true, \"mean\": -2.3562700748443604, \"std\": 6.51921272277832, \"err_low\": -12.84642505645752, \"err_high\": 13.230425834655762}, {\"time\": \"2000-01-24T03:00:00\", \"variable\": \"VPD\", \"value\": 0.19300000369548798, \"is_present\": true, \"mean\": -2.3089373111724854, \"std\": 6.519217491149902, \"err_low\": -12.84543514251709, \"err_high\": 13.23143482208252}], \"data-f6ddf730f59db85fe038d4f0fa3cdc1b\": [{\"time\": \"2000-02-11T16:30:00\", \"variable\": \"TA\", \"value\": 4.630000114440918, \"is_present\": false, \"mean\": 15.613127708435059, \"std\": 21.271610260009766, \"err_low\": -37.9132194519043, \"err_high\": 47.173221588134766}, {\"time\": \"2000-02-11T17:00:00\", \"variable\": \"TA\", \"value\": 4.230000019073486, \"is_present\": false, \"mean\": 2.518728256225586, \"std\": 18.5977840423584, \"err_low\": -32.96556854248047, \"err_high\": 41.425567626953125}, {\"time\": \"2000-02-11T17:30:00\", \"variable\": \"TA\", \"value\": 3.6700000762939453, \"is_present\": true, \"mean\": 0.9738922119140625, \"std\": 18.964550018310547, \"err_low\": -34.25910186767578, \"err_high\": 41.599098205566406}, {\"time\": \"2000-02-11T18:00:00\", \"variable\": \"TA\", \"value\": 3.069999933242798, \"is_present\": true, \"mean\": -0.9039750099182129, \"std\": 18.96786117553711, \"err_low\": -34.86572265625, \"err_high\": 41.00572204589844}, {\"time\": \"2000-02-11T18:30:00\", \"variable\": \"TA\", \"value\": 2.6700000762939453, \"is_present\": true, \"mean\": -2.0063443183898926, \"std\": 18.96785545349121, \"err_low\": -35.265708923339844, \"err_high\": 40.605712890625}, {\"time\": \"2000-02-11T19:00:00\", \"variable\": \"TA\", \"value\": 2.380000114440918, \"is_present\": true, \"mean\": -2.5261969566345215, \"std\": 18.96784782409668, \"err_low\": -35.555694580078125, \"err_high\": 40.315696716308594}, {\"time\": \"2000-02-11T19:30:00\", \"variable\": \"TA\", \"value\": 2.0199999809265137, \"is_present\": true, \"mean\": -2.8550772666931152, \"std\": 18.967836380004883, \"err_low\": -35.915672302246094, \"err_high\": 39.95567321777344}, {\"time\": \"2000-02-11T20:00:00\", \"variable\": \"TA\", \"value\": 1.899999976158142, \"is_present\": true, \"mean\": -3.31370210647583, \"std\": 18.96783447265625, \"err_low\": -36.035667419433594, \"err_high\": 39.835670471191406}, {\"time\": \"2000-02-11T20:30:00\", \"variable\": \"TA\", \"value\": 1.559999942779541, \"is_present\": true, \"mean\": -5.413572788238525, \"std\": 47.876346588134766, \"err_low\": -94.19269561767578, \"err_high\": 97.31269073486328}, {\"time\": \"2000-02-11T21:00:00\", \"variable\": \"TA\", \"value\": 1.3899999856948853, \"is_present\": true, \"mean\": -10.944982528686523, \"std\": 114.58724975585938, \"err_low\": -227.7845001220703, \"err_high\": 230.5644989013672}], \"data-75fd8a3f9afa1b002e35f3c0645d56d1\": [{\"time\": \"2000-02-11T16:30:00\", \"variable\": \"SW_IN\", \"value\": 112.05000305175781, \"is_present\": false, \"mean\": 408.2739562988281, \"std\": 565.4002685546875, \"err_low\": -1018.7505493164062, \"err_high\": 1242.8505859375}, {\"time\": \"2000-02-11T17:00:00\", \"variable\": \"SW_IN\", \"value\": 49.900001525878906, \"is_present\": false, \"mean\": 53.6714973449707, \"std\": 496.8558654785156, \"err_low\": -943.8117065429688, \"err_high\": 1043.6116943359375}, {\"time\": \"2000-02-11T17:30:00\", \"variable\": \"SW_IN\", \"value\": 7.400000095367432, \"is_present\": true, \"mean\": 22.882057189941406, \"std\": 514.0894775390625, \"err_low\": -1020.7789306640625, \"err_high\": 1035.5789794921875}, {\"time\": \"2000-02-11T18:00:00\", \"variable\": \"SW_IN\", \"value\": 0.0, \"is_present\": true, \"mean\": -31.77283477783203, \"std\": 514.1416015625, \"err_low\": -1028.283203125, \"err_high\": 1028.283203125}, {\"time\": \"2000-02-11T18:30:00\", \"variable\": \"SW_IN\", \"value\": 0.0, \"is_present\": true, \"mean\": -57.94823455810547, \"std\": 514.1408081054688, \"err_low\": -1028.2816162109375, \"err_high\": 1028.2816162109375}, {\"time\": \"2000-02-11T19:00:00\", \"variable\": \"SW_IN\", \"value\": 0.0, \"is_present\": true, \"mean\": -67.83454132080078, \"std\": 514.1407470703125, \"err_low\": -1028.281494140625, \"err_high\": 1028.281494140625}, {\"time\": \"2000-02-11T19:30:00\", \"variable\": \"SW_IN\", \"value\": 0.0, \"is_present\": true, \"mean\": -73.62914276123047, \"std\": 514.140380859375, \"err_low\": -1028.28076171875, \"err_high\": 1028.28076171875}, {\"time\": \"2000-02-11T20:00:00\", \"variable\": \"SW_IN\", \"value\": 0.0, \"is_present\": true, \"mean\": -83.03754425048828, \"std\": 514.1401977539062, \"err_low\": -1028.2803955078125, \"err_high\": 1028.2803955078125}, {\"time\": \"2000-02-11T20:30:00\", \"variable\": \"SW_IN\", \"value\": 0.0, \"is_present\": true, \"mean\": -152.50759887695312, \"std\": 1311.83154296875, \"err_low\": -2623.6630859375, \"err_high\": 2623.6630859375}, {\"time\": \"2000-02-11T21:00:00\", \"variable\": \"SW_IN\", \"value\": 0.0, \"is_present\": true, \"mean\": -307.1060791015625, \"std\": 3103.80712890625, \"err_low\": -6207.6142578125, \"err_high\": 6207.6142578125}], \"data-7767e224e489fab2fce48b4aeb45b676\": [{\"time\": \"2000-02-11T16:30:00\", \"variable\": \"VPD\", \"value\": 3.503999948501587, \"is_present\": true, \"mean\": 4.973276138305664, \"std\": 6.5317277908325195, \"err_low\": -9.559455871582031, \"err_high\": 16.567455291748047}, {\"time\": \"2000-02-11T17:00:00\", \"variable\": \"VPD\", \"value\": 3.2769999504089355, \"is_present\": true, \"mean\": 2.5257232189178467, \"std\": 6.458383560180664, \"err_low\": -9.639766693115234, \"err_high\": 16.193767547607422}, {\"time\": \"2000-02-11T17:30:00\", \"variable\": \"VPD\", \"value\": 2.933000087738037, \"is_present\": true, \"mean\": 2.18084716796875, \"std\": 6.518624305725098, \"err_low\": -10.104248046875, \"err_high\": 15.97024917602539}, {\"time\": \"2000-02-11T18:00:00\", \"variable\": \"VPD\", \"value\": 2.5209999084472656, \"is_present\": true, \"mean\": 1.7536303997039795, \"std\": 6.5192155838012695, \"err_low\": -10.517431259155273, \"err_high\": 15.559431076049805}, {\"time\": \"2000-02-11T18:30:00\", \"variable\": \"VPD\", \"value\": 2.2820000648498535, \"is_present\": true, \"mean\": 1.5216166973114014, \"std\": 6.519212245941162, \"err_low\": -10.756423950195312, \"err_high\": 15.320425033569336}, {\"time\": \"2000-02-11T19:00:00\", \"variable\": \"VPD\", \"value\": 2.0820000171661377, \"is_present\": true, \"mean\": 1.4221811294555664, \"std\": 6.519211292266846, \"err_low\": -10.956422805786133, \"err_high\": 15.12042236328125}, {\"time\": \"2000-02-11T19:30:00\", \"variable\": \"VPD\", \"value\": 1.8609999418258667, \"is_present\": true, \"mean\": 1.36174476146698, \"std\": 6.519209384918213, \"err_low\": -11.17741870880127, \"err_high\": 14.899418830871582}, {\"time\": \"2000-02-11T20:00:00\", \"variable\": \"VPD\", \"value\": 1.774999976158142, \"is_present\": true, \"mean\": 1.2730891704559326, \"std\": 6.519208908081055, \"err_low\": -11.263418197631836, \"err_high\": 14.813417434692383}, {\"time\": \"2000-02-11T20:30:00\", \"variable\": \"VPD\", \"value\": 1.5920000076293945, \"is_present\": true, \"mean\": 0.7534852027893066, \"std\": 11.69731616973877, \"err_low\": -21.802631378173828, \"err_high\": 24.98663330078125}, {\"time\": \"2000-02-11T21:00:00\", \"variable\": \"VPD\", \"value\": 1.5219999551773071, \"is_present\": true, \"mean\": -0.4864506721496582, \"std\": 25.77983856201172, \"err_low\": -50.03767776489258, \"err_high\": 53.0816764831543}]}}, {\"mode\": \"vega-lite\"});\n",
       "</script>"
      ],
      "text/plain": [
       "alt.HConcatChart(...)"
      ]
     },
     "execution_count": null,
     "metadata": {},
     "output_type": "execute_result"
    }
   ],
   "source": [
    "plot_results(preds, targs, losses)"
   ]
  },
  {
   "cell_type": "code",
   "execution_count": null,
   "id": "5ed9ce9e-f2f1-47f7-8695-22952ff59658",
   "metadata": {},
   "outputs": [],
   "source": [
    "def show_results(items):\n",
    "    plots = [plot_result(targ, pred, loss, n_cols=1) for targ, pred, loss in custom_predict(learn, item) for item in items]\n",
    "    return alt.hconcat(*plots)"
   ]
  },
  {
   "cell_type": "code",
   "execution_count": null,
   "id": "b41a1ab0-aa27-402f-98dc-460755842fbd",
   "metadata": {},
   "outputs": [],
   "source": [
    "show_results(items=[0])"
   ]
  },
  {
   "cell_type": "code",
   "execution_count": null,
   "id": "a9f70c7d-8fda-47bd-873b-641e4105f5ec",
   "metadata": {},
   "outputs": [],
   "source": [
    "len(targs)"
   ]
  },
  {
   "cell_type": "code",
   "execution_count": null,
   "id": "518b7eb7-ae73-4947-bca9-964d3521a80d",
   "metadata": {},
   "outputs": [],
   "source": [
    "learn.dls.fs[0][-2].decode(preds)"
   ]
  },
  {
   "cell_type": "code",
   "execution_count": null,
   "id": "5f8529d6-a3a3-4482-aa35-213956d673f1",
   "metadata": {},
   "outputs": [],
   "source": [
    "tfms4.fs[0].encodes([1,2])"
   ]
  },
  {
   "cell_type": "code",
   "execution_count": null,
   "id": "4fdcf1c5-3a4e-4463-9c82-0d976aae56f5",
   "metadata": {},
   "outputs": [],
   "source": [
    "decode_preds(targs, [1,2,3])"
   ]
  },
  {
   "cell_type": "code",
   "execution_count": null,
   "id": "c1e9e81e-60d2-419f-912d-a8c3c3f851a0",
   "metadata": {},
   "outputs": [],
   "source": [
    "preds"
   ]
  },
  {
   "cell_type": "code",
   "execution_count": null,
   "id": "cf2348cc-4c03-4ed4-b1d2-4624babd7940",
   "metadata": {},
   "outputs": [],
   "source": [
    "batch_to_samples(preds)[0]"
   ]
  },
  {
   "cell_type": "code",
   "execution_count": null,
   "id": "3d771cbd-2503-4950-a4d7-5af07b6794d9",
   "metadata": {},
   "outputs": [],
   "source": [
    "dl._decode_batch??"
   ]
  },
  {
   "cell_type": "code",
   "execution_count": null,
   "id": "b25cdab9-76d9-4bf1-978b-87593926d14a",
   "metadata": {},
   "outputs": [],
   "source": [
    "tfms4.decode(MaskedTensor(targs))"
   ]
  },
  {
   "cell_type": "code",
   "execution_count": null,
   "id": "8e1e2dd4-c6fe-4486-8dcd-caf989bce981",
   "metadata": {},
   "outputs": [],
   "source": [
    "tfms4.decode(tfms4[0])"
   ]
  },
  {
   "cell_type": "code",
   "execution_count": null,
   "id": "86114f0f-bdc0-4714-9698-4fcad0201784",
   "metadata": {},
   "outputs": [],
   "source": [
    "b"
   ]
  },
  {
   "cell_type": "code",
   "execution_count": null,
   "id": "3c12fd0c-ebcd-43eb-b6a8-c01d6f68102a",
   "metadata": {},
   "outputs": [],
   "source": [
    "preds"
   ]
  },
  {
   "cell_type": "markdown",
   "id": "72464143-4298-466c-9b7e-8c311f876992",
   "metadata": {},
   "source": [
    "this is not really working as intended .... so mnaully rebuilding the decoding pipeline"
   ]
  },
  {
   "cell_type": "code",
   "execution_count": null,
   "id": "8b9b442a-f9f7-4ace-af69-894054b67635",
   "metadata": {},
   "outputs": [],
   "source": [
    "dls.decode((preds,))"
   ]
  },
  {
   "cell_type": "code",
   "execution_count": null,
   "id": "cfaf9914-d7fd-4da8-ab67-6b7c02bc884c",
   "metadata": {},
   "outputs": [],
   "source": [
    "norm"
   ]
  },
  {
   "cell_type": "code",
   "execution_count": null,
   "id": "aafab1c4-ec60-46db-8dcd-d8d28017f46d",
   "metadata": {},
   "outputs": [],
   "source": [
    "preds[1] * norm.std"
   ]
  },
  {
   "cell_type": "code",
   "execution_count": null,
   "id": "4b29ec45-c94c-477d-84bf-71eb6558081c",
   "metadata": {},
   "outputs": [],
   "source": [
    "tfms4.decode(preds)"
   ]
  },
  {
   "cell_type": "code",
   "execution_count": null,
   "id": "c4b76ce4-1d19-4730-aa77-72e582e548d3",
   "metadata": {},
   "outputs": [],
   "source": [
    "learn.get_preds()"
   ]
  },
  {
   "cell_type": "code",
   "execution_count": null,
   "id": "e4785c60-3b7b-4036-b9a5-19835116f1a4",
   "metadata": {},
   "outputs": [],
   "source": [
    "len([*learn.yb])"
   ]
  },
  {
   "cell_type": "code",
   "execution_count": null,
   "id": "c611968b-3a1a-4bf9-a35d-967e4f4dd846",
   "metadata": {},
   "outputs": [],
   "source": [
    "learn.get_preds(dl=dl, with_targs=True)"
   ]
  },
  {
   "cell_type": "code",
   "execution_count": null,
   "id": "b5f7d6e0-f634-4c01-b68b-d7d28f180162",
   "metadata": {},
   "outputs": [],
   "source": [
    "dl.one_batch()"
   ]
  },
  {
   "cell_type": "code",
   "execution_count": null,
   "id": "76b50a75-d93b-4875-bb28-0389936c6c0d",
   "metadata": {},
   "outputs": [],
   "source": [
    "%debug"
   ]
  },
  {
   "cell_type": "code",
   "execution_count": null,
   "id": "6ce6f62d-c486-4176-bc25-7d2c0f9c0fc3",
   "metadata": {},
   "outputs": [],
   "source": [
    "learn._do_one_batch??"
   ]
  },
  {
   "cell_type": "code",
   "execution_count": null,
   "id": "b1e55f1c-0dba-4fe5-8b26-496ca3aa72e5",
   "metadata": {},
   "outputs": [],
   "source": [
    "dls.test_dl??"
   ]
  },
  {
   "cell_type": "code",
   "execution_count": null,
   "id": "a0a789e7-ab93-44de-a646-a21df0d61b0e",
   "metadata": {},
   "outputs": [],
   "source": [
    "dls"
   ]
  },
  {
   "cell_type": "code",
   "execution_count": null,
   "id": "e97c37b3-b2f3-4383-8865-a26b78728f22",
   "metadata": {},
   "outputs": [],
   "source": [
    "dl.one_batch()"
   ]
  },
  {
   "cell_type": "code",
   "execution_count": null,
   "id": "45db6eff-5704-44dd-8db6-c202ed5d232e",
   "metadata": {},
   "outputs": [],
   "source": [
    "%debug"
   ]
  },
  {
   "cell_type": "code",
   "execution_count": null,
   "id": "ec189a57-57e6-4aac-afcc-0f69d8d4c67c",
   "metadata": {},
   "outputs": [],
   "source": [
    "custom_predict(learn, [1,2], tfms4)"
   ]
  },
  {
   "cell_type": "code",
   "execution_count": null,
   "id": "b00c61e3-425d-4ec6-9966-dca157061990",
   "metadata": {},
   "outputs": [],
   "source": [
    "def show_results(preds, targets):"
   ]
  },
  {
   "cell_type": "code",
   "execution_count": null,
   "id": "3c92fdbe-1d47-4214-9ff9-bc04efebdd48",
   "metadata": {},
   "outputs": [],
   "source": [
    "ii = inp + tuplify(dec_preds)"
   ]
  },
  {
   "cell_type": "code",
   "execution_count": null,
   "id": "a2c56de7-b104-4996-bdfb-517daf5fafce",
   "metadata": {},
   "outputs": [],
   "source": [
    "is_listy(ii)"
   ]
  },
  {
   "cell_type": "code",
   "execution_count": null,
   "id": "a94a3e6b-b6b9-4f1b-a2f9-69f0a301d4df",
   "metadata": {},
   "outputs": [],
   "source": [
    "dec = learn.dls.decode_batch(ii)[0]"
   ]
  },
  {
   "cell_type": "code",
   "execution_count": null,
   "id": "4977c072-c0c6-4bb3-8445-2bf9684e5a67",
   "metadata": {},
   "outputs": [],
   "source": [
    "%debug"
   ]
  },
  {
   "cell_type": "code",
   "execution_count": null,
   "id": "53dcb0c4-d95f-4106-a031-8269cbda208e",
   "metadata": {},
   "outputs": [],
   "source": [
    "dls._types[tuple]"
   ]
  },
  {
   "cell_type": "code",
   "execution_count": null,
   "id": "41265479-f4f4-49e1-9256-7ac96d94c18f",
   "metadata": {},
   "outputs": [],
   "source": [
    "typs = dls._types"
   ]
  },
  {
   "cell_type": "code",
   "execution_count": null,
   "id": "d89e23ff-c5e5-4679-b08a-81cbcbd604f7",
   "metadata": {},
   "outputs": [],
   "source": [
    "t = first(typs.keys())\n",
    "typs = typs[t]"
   ]
  },
  {
   "cell_type": "code",
   "execution_count": null,
   "id": "85ba4f0f-ff80-46bf-adc6-b1abd92dc24c",
   "metadata": {},
   "outputs": [],
   "source": [
    "def debug(new, old, typ):\n",
    "    print(is_listy(new))\n",
    "    print(typ)"
   ]
  },
  {
   "cell_type": "code",
   "execution_count": null,
   "id": "fd66a07d-85c0-49b3-a093-b92116be9cdb",
   "metadata": {},
   "outputs": [],
   "source": [
    "L(ii, None, typs).map_zip(debug, cycled=True)"
   ]
  },
  {
   "cell_type": "code",
   "execution_count": null,
   "id": "4aefc0be-0bb7-48f3-98ae-d2a60a899ddf",
   "metadata": {},
   "outputs": [],
   "source": [
    "ii[0]"
   ]
  },
  {
   "cell_type": "code",
   "execution_count": null,
   "id": "7b5ba100-445d-4025-8360-602b47757d7d",
   "metadata": {},
   "outputs": [],
   "source": [
    "len(ii)"
   ]
  },
  {
   "cell_type": "code",
   "execution_count": null,
   "id": "93769623-4ff6-473b-81bd-96311c6b4f97",
   "metadata": {},
   "outputs": [],
   "source": [
    "typs"
   ]
  },
  {
   "cell_type": "code",
   "execution_count": null,
   "id": "aa654833-c8be-4e2a-8cb1-63c58df23c0a",
   "metadata": {},
   "outputs": [],
   "source": [
    "L(ii, )"
   ]
  },
  {
   "cell_type": "code",
   "execution_count": null,
   "id": "8b922c04-c826-4970-831f-892ae0e9a884",
   "metadata": {},
   "outputs": [],
   "source": [
    "learn.dls._retain_dl??"
   ]
  },
  {
   "cell_type": "code",
   "execution_count": null,
   "id": "1f903be0-019c-4128-a4fa-2afb55cb52e1",
   "metadata": {},
   "outputs": [],
   "source": [
    "retain_types??"
   ]
  },
  {
   "cell_type": "code",
   "execution_count": null,
   "id": "7dc5725d-067f-4959-8403-3fc0cfa62f40",
   "metadata": {},
   "outputs": [],
   "source": [
    "is_listy(ii)"
   ]
  },
  {
   "cell_type": "code",
   "execution_count": null,
   "id": "6bc19e11-55ec-47f1-9a3e-4694ef855528",
   "metadata": {},
   "outputs": [],
   "source": [
    "retain_type??"
   ]
  },
  {
   "cell_type": "code",
   "execution_count": null,
   "id": "90b72a6e-8622-4331-868a-1069cb90215d",
   "metadata": {},
   "outputs": [],
   "source": [
    "learn.dls.decode(ii)"
   ]
  },
  {
   "cell_type": "code",
   "execution_count": null,
   "id": "b9b54b2c-71e8-49e2-9d19-63565a329c4d",
   "metadata": {},
   "outputs": [],
   "source": [
    "learn.dls._decode_batch??"
   ]
  },
  {
   "cell_type": "code",
   "execution_count": null,
   "id": "efba46c8-fbbb-4542-98fa-31635a9236e2",
   "metadata": {},
   "outputs": [],
   "source": [
    "inp = (inp,) if i==1 else tuplify(inp)"
   ]
  },
  {
   "cell_type": "code",
   "execution_count": null,
   "id": "df25a36f-e075-4da9-8850-126ecedf06ae",
   "metadata": {},
   "outputs": [],
   "source": [
    "dec = learn.dls.decode_batch(inp + tuplify(dec_preds))[0]"
   ]
  },
  {
   "cell_type": "code",
   "execution_count": null,
   "id": "0f026615-7ab7-463c-b68f-e3eec02f551a",
   "metadata": {},
   "outputs": [],
   "source": [
    "dec_preds"
   ]
  },
  {
   "cell_type": "code",
   "execution_count": null,
   "id": "c3526bb5-df6e-48ae-81d3-029ffd3aead2",
   "metadata": {},
   "outputs": [],
   "source": [
    "learn.predict(1)"
   ]
  },
  {
   "cell_type": "code",
   "execution_count": null,
   "id": "fed2a19e-f969-4c9b-a78a-95a7ad48b2bb",
   "metadata": {},
   "outputs": [],
   "source": [
    "pred"
   ]
  },
  {
   "cell_type": "code",
   "execution_count": null,
   "id": "b28e3bbe-ce44-4313-b53f-7f34864d1cb6",
   "metadata": {},
   "outputs": [],
   "source": [
    "dls.decode"
   ]
  },
  {
   "cell_type": "code",
   "execution_count": null,
   "id": "5d9d305d-e699-421f-9df3-eacd754931d0",
   "metadata": {},
   "outputs": [],
   "source": [
    "dls.train._retain_dl??"
   ]
  },
  {
   "cell_type": "code",
   "execution_count": null,
   "id": "f4738766-47a5-4c3b-aebf-4f30babdef54",
   "metadata": {},
   "outputs": [],
   "source": [
    "dls.after_batch??"
   ]
  },
  {
   "cell_type": "code",
   "execution_count": null,
   "id": "06462877-f465-4c6a-ac0c-7f8cc75ac6ab",
   "metadata": {},
   "outputs": [],
   "source": [
    "dls._one_pass()"
   ]
  },
  {
   "cell_type": "code",
   "execution_count": null,
   "id": "e64de21e-430d-45dd-9bcf-260871a8bc69",
   "metadata": {},
   "outputs": [],
   "source": [
    "dls._types"
   ]
  },
  {
   "cell_type": "code",
   "execution_count": null,
   "id": "d2f87fac-6261-41ac-9c24-d2c8a945416b",
   "metadata": {},
   "outputs": [],
   "source": [
    "dls.decode(pred[0])"
   ]
  },
  {
   "cell_type": "code",
   "execution_count": null,
   "id": "f9c7b2e4-d291-4754-980c-6e7405a4ba5c",
   "metadata": {},
   "outputs": [],
   "source": [
    "%debug"
   ]
  },
  {
   "cell_type": "code",
   "execution_count": null,
   "id": "efd8be68-bec4-4be5-bb1c-9472f9904dac",
   "metadata": {},
   "outputs": [],
   "source": [
    "dls._types"
   ]
  },
  {
   "cell_type": "code",
   "execution_count": null,
   "id": "cb04cdbd-dbb1-4488-9a89-66be04c7a650",
   "metadata": {},
   "outputs": [],
   "source": [
    "preds = learn.get_preds(with_decoded=True)"
   ]
  },
  {
   "cell_type": "code",
   "execution_count": null,
   "id": "ad00442b-cb89-49e5-949d-89d6ca24471b",
   "metadata": {},
   "outputs": [],
   "source": [
    "preds[0].mean.shape"
   ]
  },
  {
   "cell_type": "code",
   "execution_count": null,
   "id": "f6194144-d2e3-4807-a2e1-749af5a17622",
   "metadata": {},
   "outputs": [],
   "source": [
    "preds[0].mean"
   ]
  },
  {
   "cell_type": "code",
   "execution_count": null,
   "id": "247e1434-413a-48dd-ab67-9263e2a1663d",
   "metadata": {},
   "outputs": [],
   "source": [
    "learn.show_results()"
   ]
  },
  {
   "cell_type": "code",
   "execution_count": null,
   "id": "0e0569cb-9e17-41fa-9200-b4aec364a8b9",
   "metadata": {},
   "outputs": [],
   "source": [
    "tfms4[0]"
   ]
  },
  {
   "cell_type": "code",
   "execution_count": null,
   "id": "0fddaed1-cd50-4980-ac3a-4baa699f63d7",
   "metadata": {},
   "outputs": [],
   "source": []
  },
  {
   "cell_type": "code",
   "execution_count": null,
   "id": "44c5629c-63a7-4637-80ae-5af8daf722f8",
   "metadata": {},
   "outputs": [],
   "source": [
    "dls.decode(to_tuple(tfms4[0]))"
   ]
  },
  {
   "cell_type": "code",
   "execution_count": null,
   "id": "41890844-3eab-4602-ab17-5d730f69bdbc",
   "metadata": {},
   "outputs": [],
   "source": [
    "learn.predict(tfms4[0])"
   ]
  },
  {
   "cell_type": "code",
   "execution_count": null,
   "id": "f1da5394-bf70-4405-81ab-c728fea080af",
   "metadata": {},
   "outputs": [],
   "source": [
    "len(preds)"
   ]
  },
  {
   "cell_type": "code",
   "execution_count": null,
   "id": "6b753023-4836-489f-b9db-6e8283d96b93",
   "metadata": {},
   "outputs": [],
   "source": [
    "type(preds[1])"
   ]
  },
  {
   "cell_type": "code",
   "execution_count": null,
   "id": "8c8aa7b7-3877-40ae-aa6b-5a893f699d00",
   "metadata": {},
   "outputs": [],
   "source": [
    "def gen():\n",
    "    for i in range(3):\n",
    "        yield i"
   ]
  },
  {
   "cell_type": "code",
   "execution_count": null,
   "id": "fb07f75e-710f-4b88-b2d8-21dffa4a450d",
   "metadata": {},
   "outputs": [],
   "source": [
    "isinstance(gen(), Generator)"
   ]
  },
  {
   "cell_type": "code",
   "execution_count": null,
   "id": "1ddd2559-5664-4bdb-8aa9-6431b068d89f",
   "metadata": {},
   "outputs": [],
   "source": [
    "list((1,2,))"
   ]
  },
  {
   "cell_type": "code",
   "execution_count": null,
   "id": "9398b6bf-7a0f-4dc1-b80f-b259964f1d26",
   "metadata": {},
   "outputs": [],
   "source": [
    "tuple(gen())"
   ]
  },
  {
   "cell_type": "code",
   "execution_count": null,
   "id": "10b77cbc-4da2-4933-93cb-7b9bbb4c3113",
   "metadata": {},
   "outputs": [],
   "source": [
    "nested_reorder??"
   ]
  },
  {
   "cell_type": "code",
   "execution_count": null,
   "id": "472a76ab-a371-4307-8454-3c1b84f9635e",
   "metadata": {},
   "outputs": [],
   "source": [
    "type(preds[0][0])"
   ]
  },
  {
   "cell_type": "code",
   "execution_count": null,
   "id": "c2028566-f31b-4a7f-a4f5-bcaf885529ba",
   "metadata": {},
   "outputs": [],
   "source": [
    "xs = preds[0][0]"
   ]
  },
  {
   "cell_type": "code",
   "execution_count": null,
   "id": "45586929-eecd-4d07-823b-c03d9baf2e89",
   "metadata": {},
   "outputs": [],
   "source": [
    "def to_concat(xs, dim=0):\n",
    "    \"Concat the element in `xs` (recursively if they are tuples/lists of tensors)\"\n",
    "    if not xs: return xs\n",
    "    if is_listy(xs[0]): return type(xs[0])([to_concat([x[i] for x in xs], dim=dim) for i in range_of(xs[0])])\n",
    "    if isinstance(xs[0],dict):  return {k: to_concat([x[k] for x in xs], dim=dim) for k in xs[0].keys()}\n",
    "    #We may receive xs that are not concatenable (inputs of a text classifier for instance),\n",
    "    #   in this case we return a big list\n",
    "    try:    return retain_type(torch.cat(xs, dim=dim), xs[0])\n",
    "    except: return sum([L(retain_type(o_.index_select(dim, tensor(i)).squeeze(dim), xs[0])\n",
    "                          for i in range_of(o_)) for o_ in xs], L())"
   ]
  },
  {
   "cell_type": "code",
   "execution_count": null,
   "id": "d88d2814-b445-41da-8328-57a37437389d",
   "metadata": {},
   "outputs": [],
   "source": [
    "to_concat(xs)"
   ]
  },
  {
   "cell_type": "code",
   "execution_count": null,
   "id": "61d3e7af-9325-43a2-a10a-cac4a4a56f90",
   "metadata": {},
   "outputs": [],
   "source": [
    "xs.__len__()"
   ]
  },
  {
   "cell_type": "code",
   "execution_count": null,
   "id": "6f908903-7541-4c59-9334-ebac122dfe28",
   "metadata": {},
   "outputs": [],
   "source": [
    "bool(xs)"
   ]
  },
  {
   "cell_type": "code",
   "execution_count": null,
   "id": "fa07c07d-32f5-4230-97ee-6a95d7325282",
   "metadata": {},
   "outputs": [],
   "source": [
    "is_coll??"
   ]
  },
  {
   "cell_type": "code",
   "execution_count": null,
   "id": "136ba96c-9720-4475-81ff-8cc7ca0f7d50",
   "metadata": {},
   "outputs": [],
   "source": []
  },
  {
   "cell_type": "code",
   "execution_count": null,
   "id": "4ce50d6c-a38b-44dd-804f-aa332326d487",
   "metadata": {},
   "outputs": [],
   "source": [
    "learn.gather_preds"
   ]
  },
  {
   "cell_type": "code",
   "execution_count": null,
   "id": "1a175ca5-0ec2-46a3-b55f-634f819a275f",
   "metadata": {},
   "outputs": [],
   "source": [
    "learn.model.state_dict()"
   ]
  },
  {
   "cell_type": "code",
   "execution_count": null,
   "id": "4b071bfb-873f-42fd-8c0e-9ab0085a4889",
   "metadata": {},
   "outputs": [],
   "source": [
    "display_as_row(learn.model.get_info())"
   ]
  },
  {
   "cell_type": "code",
   "execution_count": null,
   "id": "56b20c82-f15f-4fce-8ea5-90592782a628",
   "metadata": {},
   "outputs": [],
   "source": []
  },
  {
   "cell_type": "code",
   "execution_count": null,
   "id": "66e2838a-6a6f-4539-a3c6-0070862ea6c1",
   "metadata": {},
   "outputs": [],
   "source": [
    "to_concat??"
   ]
  },
  {
   "cell_type": "code",
   "execution_count": null,
   "id": "3fa5231b-ef95-4fbe-95f9-3236c52fc3cd",
   "metadata": {},
   "outputs": [],
   "source": [
    "is_listy??"
   ]
  },
  {
   "cell_type": "code",
   "execution_count": null,
   "id": "fd99c0b7-4e9f-45ae-a489-99c8a7522176",
   "metadata": {},
   "outputs": [],
   "source": [
    "is_listy(pred)"
   ]
  },
  {
   "cell_type": "code",
   "execution_count": null,
   "id": "61aa7a55-9a08-45f4-a1a1-1f69899ace56",
   "metadata": {},
   "outputs": [],
   "source": [
    "learn.pred"
   ]
  },
  {
   "cell_type": "code",
   "execution_count": null,
   "id": "b7bfe104-a42a-47a7-bf12-270e508baa3c",
   "metadata": {},
   "outputs": [],
   "source": [
    "from pyprojroot import here"
   ]
  },
  {
   "cell_type": "code",
   "execution_count": null,
   "id": "cf00ceea-f858-48a3-9a64-f96bab1a355d",
   "metadata": {},
   "outputs": [],
   "source": [
    "# torch.save(learn.model, here('trained_models'))"
   ]
  },
  {
   "cell_type": "code",
   "execution_count": null,
   "id": "b6cc1918-94f8-4759-af69-aa6635505e7d",
   "metadata": {},
   "outputs": [],
   "source": [
    "learn.model.obs_cov"
   ]
  },
  {
   "cell_type": "code",
   "execution_count": null,
   "id": "ff13d53e-5ded-48e0-a04e-65da28c2a797",
   "metadata": {},
   "outputs": [],
   "source": [
    "learn.model.trans_cov_raw"
   ]
  },
  {
   "cell_type": "code",
   "execution_count": null,
   "id": "dc733f81-025e-4ab1-8010-09e0be83751c",
   "metadata": {},
   "outputs": [],
   "source": [
    "# torch.save(learn.model.state_dict(), \"partial_traning_15_dec_not_pos_def_error\")"
   ]
  },
  {
   "cell_type": "code",
   "execution_count": null,
   "id": "f33352c0-27c1-43ff-a201-3e5263630ef1",
   "metadata": {},
   "outputs": [],
   "source": [
    "learn.recorder.plot_loss()"
   ]
  },
  {
   "cell_type": "code",
   "execution_count": null,
   "id": "9d05ed56-987e-4583-9b88-360d60f9a900",
   "metadata": {},
   "outputs": [],
   "source": [
    "# learn.lr_find()"
   ]
  },
  {
   "cell_type": "code",
   "execution_count": null,
   "id": "ad2ae8e8",
   "metadata": {},
   "outputs": [],
   "source": [
    "display_as_row(learn.model.get_info())"
   ]
  },
  {
   "cell_type": "code",
   "execution_count": null,
   "id": "7e96647f-f8aa-4a37-a8ae-79c6dd10cae3",
   "metadata": {},
   "outputs": [],
   "source": [
    "learn.show_results()"
   ]
  },
  {
   "cell_type": "markdown",
   "id": "84002608-9491-4335-86fb-d40d3946f2ae",
   "metadata": {},
   "source": [
    "## Float64"
   ]
  },
  {
   "cell_type": "code",
   "execution_count": null,
   "id": "69191be7-ac68-4616-8e4b-460fb786769f",
   "metadata": {},
   "outputs": [],
   "source": [
    "model64 = KalmanFilter.init_random(hai.shape[1], hai.shape[1], dtype=torch.float64).cuda()"
   ]
  },
  {
   "cell_type": "code",
   "execution_count": null,
   "id": "69e1f814-b1f8-48e1-a098-e37234d4b451",
   "metadata": {},
   "outputs": [],
   "source": [
    "dls64 = make_dataloader(hai64, 200, 10, bs=100) "
   ]
  },
  {
   "cell_type": "code",
   "execution_count": null,
   "id": "a0142fdc-5c85-45d1-a13f-b2f0839b0636",
   "metadata": {},
   "outputs": [],
   "source": [
    "input = dls64.one_batch()[0]\n",
    "target = dls64.one_batch()[1]"
   ]
  },
  {
   "cell_type": "code",
   "execution_count": null,
   "id": "06e93c8b-f74d-4382-8fb2-54d83aec5fcb",
   "metadata": {},
   "outputs": [],
   "source": [
    "data, mask = input"
   ]
  },
  {
   "cell_type": "code",
   "execution_count": null,
   "id": "1cc98d35-4a67-496d-acc7-a9bd5d884a52",
   "metadata": {},
   "outputs": [],
   "source": [
    "data.device"
   ]
  },
  {
   "cell_type": "code",
   "execution_count": null,
   "id": "2698453f-3e47-428d-8028-da95a55b2228",
   "metadata": {},
   "outputs": [],
   "source": [
    "data.dtype"
   ]
  },
  {
   "cell_type": "code",
   "execution_count": null,
   "id": "59d35c5d-ce51-476d-85ce-8502ae6d17e6",
   "metadata": {},
   "outputs": [],
   "source": [
    "model64.predict(data);"
   ]
  },
  {
   "cell_type": "code",
   "execution_count": null,
   "id": "30e0a335-4e18-42a1-a847-baacdab94ee5",
   "metadata": {},
   "outputs": [],
   "source": [
    "pred = model64(input)"
   ]
  },
  {
   "cell_type": "code",
   "execution_count": null,
   "id": "4931c465-98fa-4a47-bd1d-4abc91cd739f",
   "metadata": {},
   "outputs": [],
   "source": [
    "KalmanLoss()(pred, target)"
   ]
  },
  {
   "cell_type": "code",
   "execution_count": null,
   "id": "5bfcc6cf-a46d-4e69-a570-47adb86251d9",
   "metadata": {},
   "outputs": [],
   "source": [
    "#| export\n",
    "class Float64Callback(Callback):\n",
    "    order = Recorder.order + 10 # run after Recorder \n",
    "    def before_fit(self):\n",
    "        self.recorder.smooth_loss.val = torch.tensor(0, dtype=torch.float64) # default is a float 32"
   ]
  },
  {
   "cell_type": "code",
   "execution_count": null,
   "id": "ed760e90-eda7-40cb-99c6-9754b39076a7",
   "metadata": {},
   "outputs": [],
   "source": [
    "model64.use_smooth = False"
   ]
  },
  {
   "cell_type": "code",
   "execution_count": null,
   "id": "59fc2923-1419-4036-b05e-c73c34465bb6",
   "metadata": {},
   "outputs": [],
   "source": [
    "learn64 = Learner(dls64, model64, loss_func=KalmanLoss(), cbs = [Float64Callback] )"
   ]
  },
  {
   "cell_type": "code",
   "execution_count": null,
   "id": "8f8f50e9-133a-4dfe-966d-2c5650fa416a",
   "metadata": {},
   "outputs": [],
   "source": [
    "learn64.fit(1, 1e-3)"
   ]
  },
  {
   "cell_type": "code",
   "execution_count": null,
   "id": "bb1360c5-47c0-4365-9177-9723e66cb7a2",
   "metadata": {},
   "outputs": [],
   "source": [
    "input[0].device"
   ]
  },
  {
   "cell_type": "code",
   "execution_count": null,
   "id": "42cb10fa-1bb6-4c55-86a2-228996f97373",
   "metadata": {},
   "outputs": [],
   "source": [
    "learn64.predict(input)"
   ]
  },
  {
   "cell_type": "code",
   "execution_count": null,
   "id": "7db99b37-0bcf-40c1-aa59-95362a7271ce",
   "metadata": {},
   "outputs": [],
   "source": [
    "dls.show_results()"
   ]
  },
  {
   "cell_type": "code",
   "execution_count": null,
   "id": "4259a20b-0148-4ebc-a271-c2b6ae63b122",
   "metadata": {},
   "outputs": [],
   "source": [
    "learn64.show_results()"
   ]
  },
  {
   "cell_type": "code",
   "execution_count": null,
   "id": "755a8137-b585-4f2b-812c-2b0603a04460",
   "metadata": {},
   "outputs": [],
   "source": []
  }
 ],
 "metadata": {
  "kernelspec": {
   "display_name": "data_science",
   "language": "python",
   "name": "data_science"
  },
  "widgets": {
   "application/vnd.jupyter.widget-state+json": {
    "state": {},
    "version_major": 2,
    "version_minor": 0
   }
  }
 },
 "nbformat": 4,
 "nbformat_minor": 5
}
