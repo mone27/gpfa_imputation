{
 "cells": [
  {
   "cell_type": "markdown",
   "id": "e8af5772-d828-4017-ae3b-5d530ac57586",
   "metadata": {},
   "source": [
    "# Implement Kalman model using FastAI\n",
    "\n",
    "> need to implement custom data preparation pipeline and loss function "
   ]
  },
  {
   "cell_type": "code",
   "execution_count": null,
   "id": "b87acfa4-b43e-4cbe-9bc2-103a084ec5a2",
   "metadata": {},
   "outputs": [],
   "source": [
    "#| hide\n",
    "%load_ext autoreload\n",
    "%autoreload 2"
   ]
  },
  {
   "cell_type": "code",
   "execution_count": null,
   "id": "cca16380-45e6-479a-b8c3-e6f26ed9fdf3",
   "metadata": {},
   "outputs": [],
   "source": [
    "#| hide\n",
    "#| default_exp kalman.fastai"
   ]
  },
  {
   "cell_type": "code",
   "execution_count": null,
   "id": "22f63809-036e-42ad-93e9-afcb78c82568",
   "metadata": {},
   "outputs": [],
   "source": [
    "#| export\n",
    "from meteo_imp.utils import *\n",
    "from meteo_imp.gaussian import *\n",
    "from meteo_imp.data import *\n",
    "\n",
    "from fastcore.transform import *\n",
    "from fastcore.basics import *\n",
    "from fastcore.foundation import *\n",
    "from fastcore.all import *\n",
    "from fastai.tabular import *\n",
    "from fastai.tabular.core import *\n",
    "from fastai.data.core import *\n",
    "from fastai.data import *\n",
    "from fastai.torch_core import default_device, to_device\n",
    "from dataclasses import dataclass\n",
    "\n",
    "import torch\n",
    "\n",
    "import collections\n",
    "\n",
    "import pandas as pd\n",
    "import numpy as np\n",
    "import matplotlib.pyplot as plt"
   ]
  },
  {
   "cell_type": "code",
   "execution_count": null,
   "id": "c946534f",
   "metadata": {},
   "outputs": [],
   "source": [
    "reset_seed()"
   ]
  },
  {
   "cell_type": "code",
   "execution_count": null,
   "id": "1c3c3090-de05-4a9b-943d-10b285bf8d94",
   "metadata": {},
   "outputs": [
    {
     "data": {
      "text/plain": [
       "Path('/home/simone/Documents/uni/Thesis/GPFA_imputation/data/FLX_DE-Hai_FLUXNET2015_FULLSET_HH_2000-2012_1-4_float32.parquet')"
      ]
     },
     "execution_count": null,
     "metadata": {},
     "output_type": "execute_result"
    }
   ],
   "source": [
    "hai_path"
   ]
  },
  {
   "cell_type": "code",
   "execution_count": null,
   "id": "d7f48bb9-58ab-4d1a-97d9-b242f6542148",
   "metadata": {},
   "outputs": [],
   "source": [
    "hai = pd.read_parquet(hai_path)\n",
    "hai64 = pd.read_parquet(hai_path64)\n",
    "hai_era = pd.read_parquet(hai_era_path)\n",
    "hai_era64 = pd.read_parquet(hai_era_path64)"
   ]
  },
  {
   "cell_type": "markdown",
   "id": "b0f3603c-74ec-41ba-a9dc-8fb08c2630cc",
   "metadata": {},
   "source": [
    "## Data Preparation"
   ]
  },
  {
   "cell_type": "markdown",
   "id": "df4ecbb3-f6ef-4344-95e7-5b566611d3f2",
   "metadata": {},
   "source": [
    "The aim of the data preparation pipeline is to:\n",
    "- take the original time series and split it into time blocks\n",
    "- for each block generate a random gap (need to figure out the properties of the gap)\n",
    "- split some time blocks for testing\n",
    "\n",
    "the input of the pipeline is:\n",
    "- a dataframe containing all observations\n",
    "\n",
    "the input of the model is:\n",
    "- observed data (potentially containing NaN where data is missing)\n",
    "- missing data mask (which is telling where the data is missing)\n",
    "- the data needs to be standardized"
   ]
  },
  {
   "cell_type": "markdown",
   "id": "54b0ae41-b89d-4461-9a78-5cf7c6205df8",
   "metadata": {},
   "source": [
    "### Utils"
   ]
  },
  {
   "cell_type": "code",
   "execution_count": null,
   "id": "e4e1aa1b-e9d6-4a16-9eaf-524abf364cd7",
   "metadata": {},
   "outputs": [],
   "source": [
    "#| export\n",
    "from dominate.tags import *"
   ]
  },
  {
   "cell_type": "code",
   "execution_count": null,
   "id": "a0174c44-5647-4970-8c5f-3743fd7cd4fb",
   "metadata": {},
   "outputs": [],
   "source": [
    "#| export\n",
    "@patch\n",
    "def _repr_html_(self: Transform, as_str=True):\n",
    "    with div() as out:\n",
    "        p(strong(self.name))\n",
    "        p(repr(self.encodes))\n",
    "        p(repr(self.decodes))\n",
    "    out = str(out) if as_str else out\n",
    "    return out"
   ]
  },
  {
   "cell_type": "code",
   "execution_count": null,
   "id": "7c0eb220-009b-4529-b984-3590166557a5",
   "metadata": {},
   "outputs": [],
   "source": [
    "#| export\n",
    "@patch\n",
    "def _repr_html_(self: TfmdLists):\n",
    "    with div() as out:\n",
    "        span(\"TfmdLists. Items:\")\n",
    "        pre(repr(self.items))\n",
    "        ol([li(f._repr_html_(as_str=False)) for f in self.fs], start=\"0\")\n",
    "    return str(out)"
   ]
  },
  {
   "cell_type": "markdown",
   "id": "d17c4e2b-6175-4674-9437-9e8a75cadb35",
   "metadata": {},
   "source": [
    "### 1) Block Index"
   ]
  },
  {
   "cell_type": "markdown",
   "id": "09346517-48ae-4872-b572-a095b7adcd19",
   "metadata": {},
   "source": [
    "the first step is to transfrom the original dataframe into blocks of a specified `block_len`\n",
    "\n",
    "two different strategies are possible:\n",
    "\n",
    "- contigous blocks\n",
    "- random block in the dataframe\n",
    "\n",
    "for now contigous blocks are used"
   ]
  },
  {
   "cell_type": "code",
   "execution_count": null,
   "id": "e4d73d6c-a82f-43c3-a8ff-cd6cfe644fac",
   "metadata": {},
   "outputs": [],
   "source": [
    "#| export\n",
    "class BlockIndexTransform(Transform):\n",
    "    \"\"\"divide timeseries DataFrame index into blocks\"\"\"\n",
    "    def __init__(self, idx: pd.DatetimeIndex, block_len:int =200, offset=1):\n",
    "        store_attr()\n",
    "        self.n = len(idx)\n",
    "        \n",
    "    def encodes(self, i:int) -> pd.DatetimeIndex:       \n",
    "        start = i * self.block_len + self.offset\n",
    "        end = (i+1) * self.block_len + self.offset\n",
    "        assert end <= self.n \n",
    "        \n",
    "        return self.idx[start:end] "
   ]
  },
  {
   "cell_type": "code",
   "execution_count": null,
   "id": "4e51eaf9-d972-4960-b5b3-03ddf4b139fa",
   "metadata": {},
   "outputs": [],
   "source": [
    "blk = BlockIndexTransform(hai.index, 10)"
   ]
  },
  {
   "cell_type": "code",
   "execution_count": null,
   "id": "71c4f834-fb0f-4fb3-a13a-da01198a970a",
   "metadata": {},
   "outputs": [
    {
     "data": {
      "text/html": [
       "<div>\n",
       "  <p>\n",
       "    <strong>BlockIndexTransform</strong>\n",
       "  </p>\n",
       "  <p>(int,object) -&gt; encodes\n",
       "</p>\n",
       "  <p></p>\n",
       "</div>"
      ],
      "text/plain": [
       "BlockIndexTransform:\n",
       "encodes: (int,object) -> encodes\n",
       "decodes: "
      ]
     },
     "execution_count": null,
     "metadata": {},
     "output_type": "execute_result"
    }
   ],
   "source": [
    "blk"
   ]
  },
  {
   "cell_type": "code",
   "execution_count": null,
   "id": "316f91e8-3861-46e5-b6d5-d9c17bccf80e",
   "metadata": {},
   "outputs": [
    {
     "data": {
      "text/plain": [
       "DatetimeIndex(['2000-01-01 00:30:00', '2000-01-01 01:00:00',\n",
       "               '2000-01-01 01:30:00', '2000-01-01 02:00:00',\n",
       "               '2000-01-01 02:30:00', '2000-01-01 03:00:00',\n",
       "               '2000-01-01 03:30:00', '2000-01-01 04:00:00',\n",
       "               '2000-01-01 04:30:00', '2000-01-01 05:00:00',\n",
       "               ...\n",
       "               '2012-12-31 19:30:00', '2012-12-31 20:00:00',\n",
       "               '2012-12-31 20:30:00', '2012-12-31 21:00:00',\n",
       "               '2012-12-31 21:30:00', '2012-12-31 22:00:00',\n",
       "               '2012-12-31 22:30:00', '2012-12-31 23:00:00',\n",
       "               '2012-12-31 23:30:00', '2013-01-01 00:00:00'],\n",
       "              dtype='datetime64[ns]', name='time', length=227952, freq=None)"
      ]
     },
     "execution_count": null,
     "metadata": {},
     "output_type": "execute_result"
    }
   ],
   "source": [
    "hai.index"
   ]
  },
  {
   "cell_type": "code",
   "execution_count": null,
   "id": "db372f33-785c-4e99-8fe0-e439c24b004b",
   "metadata": {},
   "outputs": [
    {
     "data": {
      "text/plain": [
       "DatetimeIndex(['2000-01-01 11:00:00', '2000-01-01 11:30:00',\n",
       "               '2000-01-01 12:00:00', '2000-01-01 12:30:00',\n",
       "               '2000-01-01 13:00:00', '2000-01-01 13:30:00',\n",
       "               '2000-01-01 14:00:00', '2000-01-01 14:30:00',\n",
       "               '2000-01-01 15:00:00', '2000-01-01 15:30:00'],\n",
       "              dtype='datetime64[ns]', name='time', freq=None)"
      ]
     },
     "execution_count": null,
     "metadata": {},
     "output_type": "execute_result"
    }
   ],
   "source": [
    "blk(2)"
   ]
  },
  {
   "cell_type": "markdown",
   "id": "21c89d9e-4acc-4ffb-858c-7fccfd5e30d5",
   "metadata": {},
   "source": [
    "### 2) Meteo Imp Block DataFrames"
   ]
  },
  {
   "cell_type": "markdown",
   "id": "5d544b17-a5e4-4934-83fe-bbc22afc6ec3",
   "metadata": {},
   "source": [
    "Get a chunck out of dataframes given an index"
   ]
  },
  {
   "cell_type": "code",
   "execution_count": null,
   "id": "71f15928-f42a-4dd2-9159-cd683a067cdd",
   "metadata": {},
   "outputs": [],
   "source": [
    "#| export\n",
    "@dataclass\n",
    "class DataControl:\n",
    "    data: pd.DataFrame\n",
    "    control: pd.DataFrame\n",
    "    def _repr_html_(self):\n",
    "            return row_dfs({'data': self.data, 'control': self.control}, title=\"Data Control\", hide_idx=False)\n",
    "    def __iter__(self): return iter((self.data, self.control,))"
   ]
  },
  {
   "cell_type": "code",
   "execution_count": null,
   "id": "acb617f2-28cb-4aa8-8b08-5e15f2289153",
   "metadata": {},
   "outputs": [],
   "source": [
    "df = hai.loc[blk(1)]"
   ]
  },
  {
   "cell_type": "code",
   "execution_count": null,
   "id": "6ddc660c-de6c-4050-9ec6-4a87b6f53204",
   "metadata": {},
   "outputs": [],
   "source": [
    "#| export\n",
    "def _rename_lag(lag):\n",
    "    def _inner(col_name):\n",
    "        return f\"{col_name}_lag_{lag}\"\n",
    "    return _inner"
   ]
  },
  {
   "cell_type": "code",
   "execution_count": null,
   "id": "8598cd54-2460-4e04-a605-c0788a6c9715",
   "metadata": {},
   "outputs": [
    {
     "data": {
      "text/html": [
       "<div>\n",
       "<style scoped>\n",
       "    .dataframe tbody tr th:only-of-type {\n",
       "        vertical-align: middle;\n",
       "    }\n",
       "\n",
       "    .dataframe tbody tr th {\n",
       "        vertical-align: top;\n",
       "    }\n",
       "\n",
       "    .dataframe thead th {\n",
       "        text-align: right;\n",
       "    }\n",
       "</style>\n",
       "<table border=\"1\" class=\"dataframe\">\n",
       "  <thead>\n",
       "    <tr style=\"text-align: right;\">\n",
       "      <th></th>\n",
       "      <th>TA_lag_1</th>\n",
       "      <th>SW_IN_lag_1</th>\n",
       "      <th>VPD_lag_1</th>\n",
       "    </tr>\n",
       "    <tr>\n",
       "      <th>time</th>\n",
       "      <th></th>\n",
       "      <th></th>\n",
       "      <th></th>\n",
       "    </tr>\n",
       "  </thead>\n",
       "  <tbody>\n",
       "    <tr>\n",
       "      <th>2000-01-01 06:00:00</th>\n",
       "      <td>-0.23</td>\n",
       "      <td>0.00</td>\n",
       "      <td>0.122</td>\n",
       "    </tr>\n",
       "    <tr>\n",
       "      <th>2000-01-01 06:30:00</th>\n",
       "      <td>-0.22</td>\n",
       "      <td>0.00</td>\n",
       "      <td>0.098</td>\n",
       "    </tr>\n",
       "    <tr>\n",
       "      <th>2000-01-01 07:00:00</th>\n",
       "      <td>-0.24</td>\n",
       "      <td>0.00</td>\n",
       "      <td>0.066</td>\n",
       "    </tr>\n",
       "    <tr>\n",
       "      <th>2000-01-01 07:30:00</th>\n",
       "      <td>-0.23</td>\n",
       "      <td>0.00</td>\n",
       "      <td>0.044</td>\n",
       "    </tr>\n",
       "    <tr>\n",
       "      <th>2000-01-01 08:00:00</th>\n",
       "      <td>-0.22</td>\n",
       "      <td>0.00</td>\n",
       "      <td>0.026</td>\n",
       "    </tr>\n",
       "    <tr>\n",
       "      <th>2000-01-01 08:30:00</th>\n",
       "      <td>-0.19</td>\n",
       "      <td>0.45</td>\n",
       "      <td>0.016</td>\n",
       "    </tr>\n",
       "    <tr>\n",
       "      <th>2000-01-01 09:00:00</th>\n",
       "      <td>-0.14</td>\n",
       "      <td>3.70</td>\n",
       "      <td>0.010</td>\n",
       "    </tr>\n",
       "    <tr>\n",
       "      <th>2000-01-01 09:30:00</th>\n",
       "      <td>-0.03</td>\n",
       "      <td>7.26</td>\n",
       "      <td>0.006</td>\n",
       "    </tr>\n",
       "    <tr>\n",
       "      <th>2000-01-01 10:00:00</th>\n",
       "      <td>0.04</td>\n",
       "      <td>12.24</td>\n",
       "      <td>0.006</td>\n",
       "    </tr>\n",
       "    <tr>\n",
       "      <th>2000-01-01 10:30:00</th>\n",
       "      <td>0.10</td>\n",
       "      <td>16.51</td>\n",
       "      <td>0.006</td>\n",
       "    </tr>\n",
       "  </tbody>\n",
       "</table>\n",
       "</div>"
      ],
      "text/plain": [
       "                     TA_lag_1  SW_IN_lag_1  VPD_lag_1\n",
       "time                                                 \n",
       "2000-01-01 06:00:00     -0.23         0.00      0.122\n",
       "2000-01-01 06:30:00     -0.22         0.00      0.098\n",
       "2000-01-01 07:00:00     -0.24         0.00      0.066\n",
       "2000-01-01 07:30:00     -0.23         0.00      0.044\n",
       "2000-01-01 08:00:00     -0.22         0.00      0.026\n",
       "2000-01-01 08:30:00     -0.19         0.45      0.016\n",
       "2000-01-01 09:00:00     -0.14         3.70      0.010\n",
       "2000-01-01 09:30:00     -0.03         7.26      0.006\n",
       "2000-01-01 10:00:00      0.04        12.24      0.006\n",
       "2000-01-01 10:30:00      0.10        16.51      0.006"
      ]
     },
     "execution_count": null,
     "metadata": {},
     "output_type": "execute_result"
    }
   ],
   "source": [
    "df.rename(columns=_rename_lag(1))"
   ]
  },
  {
   "cell_type": "code",
   "execution_count": null,
   "id": "bb691e61-e8dc-4f30-9b62-a5bf1411f52c",
   "metadata": {},
   "outputs": [],
   "source": [
    "#| export\n",
    "def _lag_df(df, lag):\n",
    "    \"add lagged columns\"\n",
    "    df_lag = df.shift(lag).rename(columns = _rename_lag(lag))\n",
    "    return df_lag\n",
    "    "
   ]
  },
  {
   "cell_type": "code",
   "execution_count": null,
   "id": "887b0a9c-4602-4734-8816-044104f6eb74",
   "metadata": {},
   "outputs": [
    {
     "data": {
      "text/html": [
       "<div>\n",
       "<style scoped>\n",
       "    .dataframe tbody tr th:only-of-type {\n",
       "        vertical-align: middle;\n",
       "    }\n",
       "\n",
       "    .dataframe tbody tr th {\n",
       "        vertical-align: top;\n",
       "    }\n",
       "\n",
       "    .dataframe thead th {\n",
       "        text-align: right;\n",
       "    }\n",
       "</style>\n",
       "<table border=\"1\" class=\"dataframe\">\n",
       "  <thead>\n",
       "    <tr style=\"text-align: right;\">\n",
       "      <th></th>\n",
       "      <th>TA_lag_1</th>\n",
       "      <th>SW_IN_lag_1</th>\n",
       "      <th>VPD_lag_1</th>\n",
       "    </tr>\n",
       "    <tr>\n",
       "      <th>time</th>\n",
       "      <th></th>\n",
       "      <th></th>\n",
       "      <th></th>\n",
       "    </tr>\n",
       "  </thead>\n",
       "  <tbody>\n",
       "    <tr>\n",
       "      <th>2000-01-01 06:00:00</th>\n",
       "      <td>NaN</td>\n",
       "      <td>NaN</td>\n",
       "      <td>NaN</td>\n",
       "    </tr>\n",
       "    <tr>\n",
       "      <th>2000-01-01 06:30:00</th>\n",
       "      <td>-0.23</td>\n",
       "      <td>0.00</td>\n",
       "      <td>0.122</td>\n",
       "    </tr>\n",
       "    <tr>\n",
       "      <th>2000-01-01 07:00:00</th>\n",
       "      <td>-0.22</td>\n",
       "      <td>0.00</td>\n",
       "      <td>0.098</td>\n",
       "    </tr>\n",
       "    <tr>\n",
       "      <th>2000-01-01 07:30:00</th>\n",
       "      <td>-0.24</td>\n",
       "      <td>0.00</td>\n",
       "      <td>0.066</td>\n",
       "    </tr>\n",
       "    <tr>\n",
       "      <th>2000-01-01 08:00:00</th>\n",
       "      <td>-0.23</td>\n",
       "      <td>0.00</td>\n",
       "      <td>0.044</td>\n",
       "    </tr>\n",
       "    <tr>\n",
       "      <th>2000-01-01 08:30:00</th>\n",
       "      <td>-0.22</td>\n",
       "      <td>0.00</td>\n",
       "      <td>0.026</td>\n",
       "    </tr>\n",
       "    <tr>\n",
       "      <th>2000-01-01 09:00:00</th>\n",
       "      <td>-0.19</td>\n",
       "      <td>0.45</td>\n",
       "      <td>0.016</td>\n",
       "    </tr>\n",
       "    <tr>\n",
       "      <th>2000-01-01 09:30:00</th>\n",
       "      <td>-0.14</td>\n",
       "      <td>3.70</td>\n",
       "      <td>0.010</td>\n",
       "    </tr>\n",
       "    <tr>\n",
       "      <th>2000-01-01 10:00:00</th>\n",
       "      <td>-0.03</td>\n",
       "      <td>7.26</td>\n",
       "      <td>0.006</td>\n",
       "    </tr>\n",
       "    <tr>\n",
       "      <th>2000-01-01 10:30:00</th>\n",
       "      <td>0.04</td>\n",
       "      <td>12.24</td>\n",
       "      <td>0.006</td>\n",
       "    </tr>\n",
       "  </tbody>\n",
       "</table>\n",
       "</div>"
      ],
      "text/plain": [
       "                     TA_lag_1  SW_IN_lag_1  VPD_lag_1\n",
       "time                                                 \n",
       "2000-01-01 06:00:00       NaN          NaN        NaN\n",
       "2000-01-01 06:30:00     -0.23         0.00      0.122\n",
       "2000-01-01 07:00:00     -0.22         0.00      0.098\n",
       "2000-01-01 07:30:00     -0.24         0.00      0.066\n",
       "2000-01-01 08:00:00     -0.23         0.00      0.044\n",
       "2000-01-01 08:30:00     -0.22         0.00      0.026\n",
       "2000-01-01 09:00:00     -0.19         0.45      0.016\n",
       "2000-01-01 09:30:00     -0.14         3.70      0.010\n",
       "2000-01-01 10:00:00     -0.03         7.26      0.006\n",
       "2000-01-01 10:30:00      0.04        12.24      0.006"
      ]
     },
     "execution_count": null,
     "metadata": {},
     "output_type": "execute_result"
    }
   ],
   "source": [
    "_lag_df(df, 1)"
   ]
  },
  {
   "cell_type": "code",
   "execution_count": null,
   "id": "df948694-5ac9-4614-9fd3-3b865f2c68a9",
   "metadata": {},
   "outputs": [],
   "source": [
    "#| export\n",
    "def _add_lags_df(df, lags):\n",
    "    df_lagged = df\n",
    "    for lag in listify(lags):\n",
    "        df_lagged = pd.merge(df_lagged, _lag_df(df, lag), left_index=True, right_index=True)\n",
    "    return df_lagged"
   ]
  },
  {
   "cell_type": "code",
   "execution_count": null,
   "id": "07b4261a-defb-4d91-a59a-a94633efd040",
   "metadata": {},
   "outputs": [
    {
     "data": {
      "text/html": [
       "<div>\n",
       "<style scoped>\n",
       "    .dataframe tbody tr th:only-of-type {\n",
       "        vertical-align: middle;\n",
       "    }\n",
       "\n",
       "    .dataframe tbody tr th {\n",
       "        vertical-align: top;\n",
       "    }\n",
       "\n",
       "    .dataframe thead th {\n",
       "        text-align: right;\n",
       "    }\n",
       "</style>\n",
       "<table border=\"1\" class=\"dataframe\">\n",
       "  <thead>\n",
       "    <tr style=\"text-align: right;\">\n",
       "      <th></th>\n",
       "      <th>TA</th>\n",
       "      <th>SW_IN</th>\n",
       "      <th>VPD</th>\n",
       "      <th>TA_lag_1</th>\n",
       "      <th>SW_IN_lag_1</th>\n",
       "      <th>VPD_lag_1</th>\n",
       "      <th>TA_lag_2</th>\n",
       "      <th>SW_IN_lag_2</th>\n",
       "      <th>VPD_lag_2</th>\n",
       "    </tr>\n",
       "    <tr>\n",
       "      <th>time</th>\n",
       "      <th></th>\n",
       "      <th></th>\n",
       "      <th></th>\n",
       "      <th></th>\n",
       "      <th></th>\n",
       "      <th></th>\n",
       "      <th></th>\n",
       "      <th></th>\n",
       "      <th></th>\n",
       "    </tr>\n",
       "  </thead>\n",
       "  <tbody>\n",
       "    <tr>\n",
       "      <th>2000-01-01 06:00:00</th>\n",
       "      <td>-0.23</td>\n",
       "      <td>0.00</td>\n",
       "      <td>0.122</td>\n",
       "      <td>NaN</td>\n",
       "      <td>NaN</td>\n",
       "      <td>NaN</td>\n",
       "      <td>NaN</td>\n",
       "      <td>NaN</td>\n",
       "      <td>NaN</td>\n",
       "    </tr>\n",
       "    <tr>\n",
       "      <th>2000-01-01 06:30:00</th>\n",
       "      <td>-0.22</td>\n",
       "      <td>0.00</td>\n",
       "      <td>0.098</td>\n",
       "      <td>-0.23</td>\n",
       "      <td>0.00</td>\n",
       "      <td>0.122</td>\n",
       "      <td>NaN</td>\n",
       "      <td>NaN</td>\n",
       "      <td>NaN</td>\n",
       "    </tr>\n",
       "    <tr>\n",
       "      <th>2000-01-01 07:00:00</th>\n",
       "      <td>-0.24</td>\n",
       "      <td>0.00</td>\n",
       "      <td>0.066</td>\n",
       "      <td>-0.22</td>\n",
       "      <td>0.00</td>\n",
       "      <td>0.098</td>\n",
       "      <td>-0.23</td>\n",
       "      <td>0.00</td>\n",
       "      <td>0.122</td>\n",
       "    </tr>\n",
       "    <tr>\n",
       "      <th>2000-01-01 07:30:00</th>\n",
       "      <td>-0.23</td>\n",
       "      <td>0.00</td>\n",
       "      <td>0.044</td>\n",
       "      <td>-0.24</td>\n",
       "      <td>0.00</td>\n",
       "      <td>0.066</td>\n",
       "      <td>-0.22</td>\n",
       "      <td>0.00</td>\n",
       "      <td>0.098</td>\n",
       "    </tr>\n",
       "    <tr>\n",
       "      <th>2000-01-01 08:00:00</th>\n",
       "      <td>-0.22</td>\n",
       "      <td>0.00</td>\n",
       "      <td>0.026</td>\n",
       "      <td>-0.23</td>\n",
       "      <td>0.00</td>\n",
       "      <td>0.044</td>\n",
       "      <td>-0.24</td>\n",
       "      <td>0.00</td>\n",
       "      <td>0.066</td>\n",
       "    </tr>\n",
       "    <tr>\n",
       "      <th>2000-01-01 08:30:00</th>\n",
       "      <td>-0.19</td>\n",
       "      <td>0.45</td>\n",
       "      <td>0.016</td>\n",
       "      <td>-0.22</td>\n",
       "      <td>0.00</td>\n",
       "      <td>0.026</td>\n",
       "      <td>-0.23</td>\n",
       "      <td>0.00</td>\n",
       "      <td>0.044</td>\n",
       "    </tr>\n",
       "    <tr>\n",
       "      <th>2000-01-01 09:00:00</th>\n",
       "      <td>-0.14</td>\n",
       "      <td>3.70</td>\n",
       "      <td>0.010</td>\n",
       "      <td>-0.19</td>\n",
       "      <td>0.45</td>\n",
       "      <td>0.016</td>\n",
       "      <td>-0.22</td>\n",
       "      <td>0.00</td>\n",
       "      <td>0.026</td>\n",
       "    </tr>\n",
       "    <tr>\n",
       "      <th>2000-01-01 09:30:00</th>\n",
       "      <td>-0.03</td>\n",
       "      <td>7.26</td>\n",
       "      <td>0.006</td>\n",
       "      <td>-0.14</td>\n",
       "      <td>3.70</td>\n",
       "      <td>0.010</td>\n",
       "      <td>-0.19</td>\n",
       "      <td>0.45</td>\n",
       "      <td>0.016</td>\n",
       "    </tr>\n",
       "    <tr>\n",
       "      <th>2000-01-01 10:00:00</th>\n",
       "      <td>0.04</td>\n",
       "      <td>12.24</td>\n",
       "      <td>0.006</td>\n",
       "      <td>-0.03</td>\n",
       "      <td>7.26</td>\n",
       "      <td>0.006</td>\n",
       "      <td>-0.14</td>\n",
       "      <td>3.70</td>\n",
       "      <td>0.010</td>\n",
       "    </tr>\n",
       "    <tr>\n",
       "      <th>2000-01-01 10:30:00</th>\n",
       "      <td>0.10</td>\n",
       "      <td>16.51</td>\n",
       "      <td>0.006</td>\n",
       "      <td>0.04</td>\n",
       "      <td>12.24</td>\n",
       "      <td>0.006</td>\n",
       "      <td>-0.03</td>\n",
       "      <td>7.26</td>\n",
       "      <td>0.006</td>\n",
       "    </tr>\n",
       "  </tbody>\n",
       "</table>\n",
       "</div>"
      ],
      "text/plain": [
       "                       TA  SW_IN    VPD  TA_lag_1  SW_IN_lag_1  VPD_lag_1  \\\n",
       "time                                                                        \n",
       "2000-01-01 06:00:00 -0.23   0.00  0.122       NaN          NaN        NaN   \n",
       "2000-01-01 06:30:00 -0.22   0.00  0.098     -0.23         0.00      0.122   \n",
       "2000-01-01 07:00:00 -0.24   0.00  0.066     -0.22         0.00      0.098   \n",
       "2000-01-01 07:30:00 -0.23   0.00  0.044     -0.24         0.00      0.066   \n",
       "2000-01-01 08:00:00 -0.22   0.00  0.026     -0.23         0.00      0.044   \n",
       "2000-01-01 08:30:00 -0.19   0.45  0.016     -0.22         0.00      0.026   \n",
       "2000-01-01 09:00:00 -0.14   3.70  0.010     -0.19         0.45      0.016   \n",
       "2000-01-01 09:30:00 -0.03   7.26  0.006     -0.14         3.70      0.010   \n",
       "2000-01-01 10:00:00  0.04  12.24  0.006     -0.03         7.26      0.006   \n",
       "2000-01-01 10:30:00  0.10  16.51  0.006      0.04        12.24      0.006   \n",
       "\n",
       "                     TA_lag_2  SW_IN_lag_2  VPD_lag_2  \n",
       "time                                                   \n",
       "2000-01-01 06:00:00       NaN          NaN        NaN  \n",
       "2000-01-01 06:30:00       NaN          NaN        NaN  \n",
       "2000-01-01 07:00:00     -0.23         0.00      0.122  \n",
       "2000-01-01 07:30:00     -0.22         0.00      0.098  \n",
       "2000-01-01 08:00:00     -0.24         0.00      0.066  \n",
       "2000-01-01 08:30:00     -0.23         0.00      0.044  \n",
       "2000-01-01 09:00:00     -0.22         0.00      0.026  \n",
       "2000-01-01 09:30:00     -0.19         0.45      0.016  \n",
       "2000-01-01 10:00:00     -0.14         3.70      0.010  \n",
       "2000-01-01 10:30:00     -0.03         7.26      0.006  "
      ]
     },
     "execution_count": null,
     "metadata": {},
     "output_type": "execute_result"
    }
   ],
   "source": [
    "_add_lags_df(df, [1,2])"
   ]
  },
  {
   "cell_type": "code",
   "execution_count": null,
   "id": "6f4ad592-bf8d-4bb0-9dbe-e960124c6e18",
   "metadata": {},
   "outputs": [],
   "source": [
    "#| export\n",
    "class BlockDfTransform(Transform):\n",
    "    \"\"\"divide timeseries DataFrame index into blocks\"\"\"\n",
    "    def __init__(self, data: pd.DataFrame, control: pd.DataFrame, control_lags: int|Iterable[int]):\n",
    "        store_attr()\n",
    "        self.control = _add_lags_df(control, control_lags)\n",
    "    def encodes(self, idx: pd.DatetimeIndex) -> DataControl:\n",
    "        return DataControl(self.data.loc[idx], self.control.loc[idx])"
   ]
  },
  {
   "cell_type": "code",
   "execution_count": null,
   "id": "87df7d02-07ed-4e4a-8d41-c4346d00934e",
   "metadata": {},
   "outputs": [],
   "source": [
    "blkdf = BlockDfTransform(hai, hai_era, 1)"
   ]
  },
  {
   "cell_type": "code",
   "execution_count": null,
   "id": "d509607c-4d3c-470f-b235-80286dbabf19",
   "metadata": {},
   "outputs": [
    {
     "data": {
      "text/html": [
       "<p style='font-size: 1.5rem; font-decoration: bold'>Data Control<p><div style=\"display: flex; column-gap: 20px; flex-wrap: wrap;\" class='table table-striped table-sm'> <div> <p style='font-size: 1.3rem;'>data</p> <style type=\"text/css\">\n",
       "</style>\n",
       "<table id=\"T_555d1\">\n",
       "  <thead>\n",
       "    <tr>\n",
       "      <th class=\"blank level0\" >&nbsp;</th>\n",
       "      <th id=\"T_555d1_level0_col0\" class=\"col_heading level0 col0\" >TA</th>\n",
       "      <th id=\"T_555d1_level0_col1\" class=\"col_heading level0 col1\" >SW_IN</th>\n",
       "      <th id=\"T_555d1_level0_col2\" class=\"col_heading level0 col2\" >VPD</th>\n",
       "    </tr>\n",
       "    <tr>\n",
       "      <th class=\"index_name level0\" >time</th>\n",
       "      <th class=\"blank col0\" >&nbsp;</th>\n",
       "      <th class=\"blank col1\" >&nbsp;</th>\n",
       "      <th class=\"blank col2\" >&nbsp;</th>\n",
       "    </tr>\n",
       "  </thead>\n",
       "  <tbody>\n",
       "    <tr>\n",
       "      <th id=\"T_555d1_level0_row0\" class=\"row_heading level0 row0\" >2000-01-01 06:00:00</th>\n",
       "      <td id=\"T_555d1_row0_col0\" class=\"data row0 col0\" >-0.2300</td>\n",
       "      <td id=\"T_555d1_row0_col1\" class=\"data row0 col1\" >0.0000</td>\n",
       "      <td id=\"T_555d1_row0_col2\" class=\"data row0 col2\" >0.1220</td>\n",
       "    </tr>\n",
       "    <tr>\n",
       "      <th id=\"T_555d1_level0_row1\" class=\"row_heading level0 row1\" >2000-01-01 06:30:00</th>\n",
       "      <td id=\"T_555d1_row1_col0\" class=\"data row1 col0\" >-0.2200</td>\n",
       "      <td id=\"T_555d1_row1_col1\" class=\"data row1 col1\" >0.0000</td>\n",
       "      <td id=\"T_555d1_row1_col2\" class=\"data row1 col2\" >0.0980</td>\n",
       "    </tr>\n",
       "    <tr>\n",
       "      <th id=\"T_555d1_level0_row2\" class=\"row_heading level0 row2\" >2000-01-01 07:00:00</th>\n",
       "      <td id=\"T_555d1_row2_col0\" class=\"data row2 col0\" >-0.2400</td>\n",
       "      <td id=\"T_555d1_row2_col1\" class=\"data row2 col1\" >0.0000</td>\n",
       "      <td id=\"T_555d1_row2_col2\" class=\"data row2 col2\" >0.0660</td>\n",
       "    </tr>\n",
       "    <tr>\n",
       "      <th id=\"T_555d1_level0_row3\" class=\"row_heading level0 row3\" >2000-01-01 07:30:00</th>\n",
       "      <td id=\"T_555d1_row3_col0\" class=\"data row3 col0\" >-0.2300</td>\n",
       "      <td id=\"T_555d1_row3_col1\" class=\"data row3 col1\" >0.0000</td>\n",
       "      <td id=\"T_555d1_row3_col2\" class=\"data row3 col2\" >0.0440</td>\n",
       "    </tr>\n",
       "    <tr>\n",
       "      <th id=\"T_555d1_level0_row4\" class=\"row_heading level0 row4\" >2000-01-01 08:00:00</th>\n",
       "      <td id=\"T_555d1_row4_col0\" class=\"data row4 col0\" >-0.2200</td>\n",
       "      <td id=\"T_555d1_row4_col1\" class=\"data row4 col1\" >0.0000</td>\n",
       "      <td id=\"T_555d1_row4_col2\" class=\"data row4 col2\" >0.0260</td>\n",
       "    </tr>\n",
       "    <tr>\n",
       "      <th id=\"T_555d1_level0_row5\" class=\"row_heading level0 row5\" >2000-01-01 08:30:00</th>\n",
       "      <td id=\"T_555d1_row5_col0\" class=\"data row5 col0\" >-0.1900</td>\n",
       "      <td id=\"T_555d1_row5_col1\" class=\"data row5 col1\" >0.4500</td>\n",
       "      <td id=\"T_555d1_row5_col2\" class=\"data row5 col2\" >0.0160</td>\n",
       "    </tr>\n",
       "    <tr>\n",
       "      <th id=\"T_555d1_level0_row6\" class=\"row_heading level0 row6\" >2000-01-01 09:00:00</th>\n",
       "      <td id=\"T_555d1_row6_col0\" class=\"data row6 col0\" >-0.1400</td>\n",
       "      <td id=\"T_555d1_row6_col1\" class=\"data row6 col1\" >3.7000</td>\n",
       "      <td id=\"T_555d1_row6_col2\" class=\"data row6 col2\" >0.0100</td>\n",
       "    </tr>\n",
       "    <tr>\n",
       "      <th id=\"T_555d1_level0_row7\" class=\"row_heading level0 row7\" >2000-01-01 09:30:00</th>\n",
       "      <td id=\"T_555d1_row7_col0\" class=\"data row7 col0\" >-0.0300</td>\n",
       "      <td id=\"T_555d1_row7_col1\" class=\"data row7 col1\" >7.2600</td>\n",
       "      <td id=\"T_555d1_row7_col2\" class=\"data row7 col2\" >0.0060</td>\n",
       "    </tr>\n",
       "    <tr>\n",
       "      <th id=\"T_555d1_level0_row8\" class=\"row_heading level0 row8\" >2000-01-01 10:00:00</th>\n",
       "      <td id=\"T_555d1_row8_col0\" class=\"data row8 col0\" >0.0400</td>\n",
       "      <td id=\"T_555d1_row8_col1\" class=\"data row8 col1\" >12.2400</td>\n",
       "      <td id=\"T_555d1_row8_col2\" class=\"data row8 col2\" >0.0060</td>\n",
       "    </tr>\n",
       "    <tr>\n",
       "      <th id=\"T_555d1_level0_row9\" class=\"row_heading level0 row9\" >2000-01-01 10:30:00</th>\n",
       "      <td id=\"T_555d1_row9_col0\" class=\"data row9 col0\" >0.1000</td>\n",
       "      <td id=\"T_555d1_row9_col1\" class=\"data row9 col1\" >16.5100</td>\n",
       "      <td id=\"T_555d1_row9_col2\" class=\"data row9 col2\" >0.0060</td>\n",
       "    </tr>\n",
       "  </tbody>\n",
       "</table>\n",
       " </div><div> <p style='font-size: 1.3rem;'>control</p> <style type=\"text/css\">\n",
       "</style>\n",
       "<table id=\"T_44433\">\n",
       "  <thead>\n",
       "    <tr>\n",
       "      <th class=\"blank level0\" >&nbsp;</th>\n",
       "      <th id=\"T_44433_level0_col0\" class=\"col_heading level0 col0\" >TA_ERA</th>\n",
       "      <th id=\"T_44433_level0_col1\" class=\"col_heading level0 col1\" >SW_IN_ERA</th>\n",
       "      <th id=\"T_44433_level0_col2\" class=\"col_heading level0 col2\" >VPD_ERA</th>\n",
       "      <th id=\"T_44433_level0_col3\" class=\"col_heading level0 col3\" >TA_ERA_lag_1</th>\n",
       "      <th id=\"T_44433_level0_col4\" class=\"col_heading level0 col4\" >SW_IN_ERA_lag_1</th>\n",
       "      <th id=\"T_44433_level0_col5\" class=\"col_heading level0 col5\" >VPD_ERA_lag_1</th>\n",
       "    </tr>\n",
       "    <tr>\n",
       "      <th class=\"index_name level0\" >time</th>\n",
       "      <th class=\"blank col0\" >&nbsp;</th>\n",
       "      <th class=\"blank col1\" >&nbsp;</th>\n",
       "      <th class=\"blank col2\" >&nbsp;</th>\n",
       "      <th class=\"blank col3\" >&nbsp;</th>\n",
       "      <th class=\"blank col4\" >&nbsp;</th>\n",
       "      <th class=\"blank col5\" >&nbsp;</th>\n",
       "    </tr>\n",
       "  </thead>\n",
       "  <tbody>\n",
       "    <tr>\n",
       "      <th id=\"T_44433_level0_row0\" class=\"row_heading level0 row0\" >2000-01-01 06:00:00</th>\n",
       "      <td id=\"T_44433_row0_col0\" class=\"data row0 col0\" >-0.2800</td>\n",
       "      <td id=\"T_44433_row0_col1\" class=\"data row0 col1\" >0.0000</td>\n",
       "      <td id=\"T_44433_row0_col2\" class=\"data row0 col2\" >0.5010</td>\n",
       "      <td id=\"T_44433_row0_col3\" class=\"data row0 col3\" >-0.3490</td>\n",
       "      <td id=\"T_44433_row0_col4\" class=\"data row0 col4\" >0.0000</td>\n",
       "      <td id=\"T_44433_row0_col5\" class=\"data row0 col5\" >0.4970</td>\n",
       "    </tr>\n",
       "    <tr>\n",
       "      <th id=\"T_44433_level0_row1\" class=\"row_heading level0 row1\" >2000-01-01 06:30:00</th>\n",
       "      <td id=\"T_44433_row1_col0\" class=\"data row1 col0\" >-0.2110</td>\n",
       "      <td id=\"T_44433_row1_col1\" class=\"data row1 col1\" >0.0000</td>\n",
       "      <td id=\"T_44433_row1_col2\" class=\"data row1 col2\" >0.5060</td>\n",
       "      <td id=\"T_44433_row1_col3\" class=\"data row1 col3\" >-0.2800</td>\n",
       "      <td id=\"T_44433_row1_col4\" class=\"data row1 col4\" >0.0000</td>\n",
       "      <td id=\"T_44433_row1_col5\" class=\"data row1 col5\" >0.5010</td>\n",
       "    </tr>\n",
       "    <tr>\n",
       "      <th id=\"T_44433_level0_row2\" class=\"row_heading level0 row2\" >2000-01-01 07:00:00</th>\n",
       "      <td id=\"T_44433_row2_col0\" class=\"data row2 col0\" >-0.1420</td>\n",
       "      <td id=\"T_44433_row2_col1\" class=\"data row2 col1\" >0.0000</td>\n",
       "      <td id=\"T_44433_row2_col2\" class=\"data row2 col2\" >0.5100</td>\n",
       "      <td id=\"T_44433_row2_col3\" class=\"data row2 col3\" >-0.2110</td>\n",
       "      <td id=\"T_44433_row2_col4\" class=\"data row2 col4\" >0.0000</td>\n",
       "      <td id=\"T_44433_row2_col5\" class=\"data row2 col5\" >0.5060</td>\n",
       "    </tr>\n",
       "    <tr>\n",
       "      <th id=\"T_44433_level0_row3\" class=\"row_heading level0 row3\" >2000-01-01 07:30:00</th>\n",
       "      <td id=\"T_44433_row3_col0\" class=\"data row3 col0\" >-0.0740</td>\n",
       "      <td id=\"T_44433_row3_col1\" class=\"data row3 col1\" >0.0000</td>\n",
       "      <td id=\"T_44433_row3_col2\" class=\"data row3 col2\" >0.5150</td>\n",
       "      <td id=\"T_44433_row3_col3\" class=\"data row3 col3\" >-0.1420</td>\n",
       "      <td id=\"T_44433_row3_col4\" class=\"data row3 col4\" >0.0000</td>\n",
       "      <td id=\"T_44433_row3_col5\" class=\"data row3 col5\" >0.5100</td>\n",
       "    </tr>\n",
       "    <tr>\n",
       "      <th id=\"T_44433_level0_row4\" class=\"row_heading level0 row4\" >2000-01-01 08:00:00</th>\n",
       "      <td id=\"T_44433_row4_col0\" class=\"data row4 col0\" >0.0440</td>\n",
       "      <td id=\"T_44433_row4_col1\" class=\"data row4 col1\" >0.0000</td>\n",
       "      <td id=\"T_44433_row4_col2\" class=\"data row4 col2\" >0.5270</td>\n",
       "      <td id=\"T_44433_row4_col3\" class=\"data row4 col3\" >-0.0740</td>\n",
       "      <td id=\"T_44433_row4_col4\" class=\"data row4 col4\" >0.0000</td>\n",
       "      <td id=\"T_44433_row4_col5\" class=\"data row4 col5\" >0.5150</td>\n",
       "    </tr>\n",
       "    <tr>\n",
       "      <th id=\"T_44433_level0_row5\" class=\"row_heading level0 row5\" >2000-01-01 08:30:00</th>\n",
       "      <td id=\"T_44433_row5_col0\" class=\"data row5 col0\" >0.1610</td>\n",
       "      <td id=\"T_44433_row5_col1\" class=\"data row5 col1\" >0.0000</td>\n",
       "      <td id=\"T_44433_row5_col2\" class=\"data row5 col2\" >0.5390</td>\n",
       "      <td id=\"T_44433_row5_col3\" class=\"data row5 col3\" >0.0440</td>\n",
       "      <td id=\"T_44433_row5_col4\" class=\"data row5 col4\" >0.0000</td>\n",
       "      <td id=\"T_44433_row5_col5\" class=\"data row5 col5\" >0.5270</td>\n",
       "    </tr>\n",
       "    <tr>\n",
       "      <th id=\"T_44433_level0_row6\" class=\"row_heading level0 row6\" >2000-01-01 09:00:00</th>\n",
       "      <td id=\"T_44433_row6_col0\" class=\"data row6 col0\" >0.2790</td>\n",
       "      <td id=\"T_44433_row6_col1\" class=\"data row6 col1\" >2.6550</td>\n",
       "      <td id=\"T_44433_row6_col2\" class=\"data row6 col2\" >0.5510</td>\n",
       "      <td id=\"T_44433_row6_col3\" class=\"data row6 col3\" >0.1610</td>\n",
       "      <td id=\"T_44433_row6_col4\" class=\"data row6 col4\" >0.0000</td>\n",
       "      <td id=\"T_44433_row6_col5\" class=\"data row6 col5\" >0.5390</td>\n",
       "    </tr>\n",
       "    <tr>\n",
       "      <th id=\"T_44433_level0_row7\" class=\"row_heading level0 row7\" >2000-01-01 09:30:00</th>\n",
       "      <td id=\"T_44433_row7_col0\" class=\"data row7 col0\" >0.3960</td>\n",
       "      <td id=\"T_44433_row7_col1\" class=\"data row7 col1\" >7.0800</td>\n",
       "      <td id=\"T_44433_row7_col2\" class=\"data row7 col2\" >0.5630</td>\n",
       "      <td id=\"T_44433_row7_col3\" class=\"data row7 col3\" >0.2790</td>\n",
       "      <td id=\"T_44433_row7_col4\" class=\"data row7 col4\" >2.6550</td>\n",
       "      <td id=\"T_44433_row7_col5\" class=\"data row7 col5\" >0.5510</td>\n",
       "    </tr>\n",
       "    <tr>\n",
       "      <th id=\"T_44433_level0_row8\" class=\"row_heading level0 row8\" >2000-01-01 10:00:00</th>\n",
       "      <td id=\"T_44433_row8_col0\" class=\"data row8 col0\" >0.5140</td>\n",
       "      <td id=\"T_44433_row8_col1\" class=\"data row8 col1\" >10.9880</td>\n",
       "      <td id=\"T_44433_row8_col2\" class=\"data row8 col2\" >0.5750</td>\n",
       "      <td id=\"T_44433_row8_col3\" class=\"data row8 col3\" >0.3960</td>\n",
       "      <td id=\"T_44433_row8_col4\" class=\"data row8 col4\" >7.0800</td>\n",
       "      <td id=\"T_44433_row8_col5\" class=\"data row8 col5\" >0.5630</td>\n",
       "    </tr>\n",
       "    <tr>\n",
       "      <th id=\"T_44433_level0_row9\" class=\"row_heading level0 row9\" >2000-01-01 10:30:00</th>\n",
       "      <td id=\"T_44433_row9_col0\" class=\"data row9 col0\" >0.6310</td>\n",
       "      <td id=\"T_44433_row9_col1\" class=\"data row9 col1\" >18.0120</td>\n",
       "      <td id=\"T_44433_row9_col2\" class=\"data row9 col2\" >0.5860</td>\n",
       "      <td id=\"T_44433_row9_col3\" class=\"data row9 col3\" >0.5140</td>\n",
       "      <td id=\"T_44433_row9_col4\" class=\"data row9 col4\" >10.9880</td>\n",
       "      <td id=\"T_44433_row9_col5\" class=\"data row9 col5\" >0.5750</td>\n",
       "    </tr>\n",
       "  </tbody>\n",
       "</table>\n",
       " </div></div>"
      ],
      "text/plain": [
       "DataControl(data=                       TA  SW_IN    VPD\n",
       "time                                   \n",
       "2000-01-01 06:00:00 -0.23   0.00  0.122\n",
       "2000-01-01 06:30:00 -0.22   0.00  0.098\n",
       "2000-01-01 07:00:00 -0.24   0.00  0.066\n",
       "2000-01-01 07:30:00 -0.23   0.00  0.044\n",
       "2000-01-01 08:00:00 -0.22   0.00  0.026\n",
       "2000-01-01 08:30:00 -0.19   0.45  0.016\n",
       "2000-01-01 09:00:00 -0.14   3.70  0.010\n",
       "2000-01-01 09:30:00 -0.03   7.26  0.006\n",
       "2000-01-01 10:00:00  0.04  12.24  0.006\n",
       "2000-01-01 10:30:00  0.10  16.51  0.006, control=                     TA_ERA  SW_IN_ERA  VPD_ERA  TA_ERA_lag_1  \\\n",
       "time                                                            \n",
       "2000-01-01 06:00:00  -0.280   0.000000    0.501        -0.349   \n",
       "2000-01-01 06:30:00  -0.211   0.000000    0.506        -0.280   \n",
       "2000-01-01 07:00:00  -0.142   0.000000    0.510        -0.211   \n",
       "2000-01-01 07:30:00  -0.074   0.000000    0.515        -0.142   \n",
       "2000-01-01 08:00:00   0.044   0.000000    0.527        -0.074   \n",
       "2000-01-01 08:30:00   0.161   0.000000    0.539         0.044   \n",
       "2000-01-01 09:00:00   0.279   2.655000    0.551         0.161   \n",
       "2000-01-01 09:30:00   0.396   7.080000    0.563         0.279   \n",
       "2000-01-01 10:00:00   0.514  10.988000    0.575         0.396   \n",
       "2000-01-01 10:30:00   0.631  18.011999    0.586         0.514   \n",
       "\n",
       "                     SW_IN_ERA_lag_1  VPD_ERA_lag_1  \n",
       "time                                                 \n",
       "2000-01-01 06:00:00            0.000          0.497  \n",
       "2000-01-01 06:30:00            0.000          0.501  \n",
       "2000-01-01 07:00:00            0.000          0.506  \n",
       "2000-01-01 07:30:00            0.000          0.510  \n",
       "2000-01-01 08:00:00            0.000          0.515  \n",
       "2000-01-01 08:30:00            0.000          0.527  \n",
       "2000-01-01 09:00:00            0.000          0.539  \n",
       "2000-01-01 09:30:00            2.655          0.551  \n",
       "2000-01-01 10:00:00            7.080          0.563  \n",
       "2000-01-01 10:30:00           10.988          0.575  )"
      ]
     },
     "execution_count": null,
     "metadata": {},
     "output_type": "execute_result"
    }
   ],
   "source": [
    "blkdf(blk(1))"
   ]
  },
  {
   "cell_type": "markdown",
   "id": "7b7c57e7-4ebb-46b9-a89d-ec980277ae67",
   "metadata": {},
   "source": [
    "taking a day in the summer so there is an higher values for the variables"
   ]
  },
  {
   "cell_type": "code",
   "execution_count": null,
   "id": "57479bbb-1a76-44d1-af82-0d3666d2ae7d",
   "metadata": {},
   "outputs": [
    {
     "data": {
      "text/html": [
       "<div>\n",
       "<style scoped>\n",
       "    .dataframe tbody tr th:only-of-type {\n",
       "        vertical-align: middle;\n",
       "    }\n",
       "\n",
       "    .dataframe tbody tr th {\n",
       "        vertical-align: top;\n",
       "    }\n",
       "\n",
       "    .dataframe thead th {\n",
       "        text-align: right;\n",
       "    }\n",
       "</style>\n",
       "<table border=\"1\" class=\"dataframe\">\n",
       "  <thead>\n",
       "    <tr style=\"text-align: right;\">\n",
       "      <th></th>\n",
       "      <th>TA</th>\n",
       "      <th>SW_IN</th>\n",
       "      <th>VPD</th>\n",
       "    </tr>\n",
       "    <tr>\n",
       "      <th>time</th>\n",
       "      <th></th>\n",
       "      <th></th>\n",
       "      <th></th>\n",
       "    </tr>\n",
       "  </thead>\n",
       "  <tbody>\n",
       "    <tr>\n",
       "      <th>2000-06-15 17:00:00</th>\n",
       "      <td>14.22</td>\n",
       "      <td>224.800003</td>\n",
       "      <td>5.799</td>\n",
       "    </tr>\n",
       "    <tr>\n",
       "      <th>2000-06-15 17:30:00</th>\n",
       "      <td>14.11</td>\n",
       "      <td>195.279999</td>\n",
       "      <td>6.577</td>\n",
       "    </tr>\n",
       "    <tr>\n",
       "      <th>2000-06-15 18:00:00</th>\n",
       "      <td>14.23</td>\n",
       "      <td>244.169998</td>\n",
       "      <td>6.931</td>\n",
       "    </tr>\n",
       "    <tr>\n",
       "      <th>2000-06-15 18:30:00</th>\n",
       "      <td>14.40</td>\n",
       "      <td>253.919998</td>\n",
       "      <td>7.286</td>\n",
       "    </tr>\n",
       "    <tr>\n",
       "      <th>2000-06-15 19:00:00</th>\n",
       "      <td>14.09</td>\n",
       "      <td>177.309998</td>\n",
       "      <td>7.251</td>\n",
       "    </tr>\n",
       "    <tr>\n",
       "      <th>2000-06-15 19:30:00</th>\n",
       "      <td>13.71</td>\n",
       "      <td>97.070000</td>\n",
       "      <td>6.683</td>\n",
       "    </tr>\n",
       "    <tr>\n",
       "      <th>2000-06-15 20:00:00</th>\n",
       "      <td>13.08</td>\n",
       "      <td>39.709999</td>\n",
       "      <td>5.851</td>\n",
       "    </tr>\n",
       "    <tr>\n",
       "      <th>2000-06-15 20:30:00</th>\n",
       "      <td>12.41</td>\n",
       "      <td>10.650000</td>\n",
       "      <td>5.254</td>\n",
       "    </tr>\n",
       "    <tr>\n",
       "      <th>2000-06-15 21:00:00</th>\n",
       "      <td>12.27</td>\n",
       "      <td>0.320000</td>\n",
       "      <td>5.164</td>\n",
       "    </tr>\n",
       "    <tr>\n",
       "      <th>2000-06-15 21:30:00</th>\n",
       "      <td>12.20</td>\n",
       "      <td>0.000000</td>\n",
       "      <td>5.037</td>\n",
       "    </tr>\n",
       "  </tbody>\n",
       "</table>\n",
       "</div>"
      ],
      "text/plain": [
       "                        TA       SW_IN    VPD\n",
       "time                                         \n",
       "2000-06-15 17:00:00  14.22  224.800003  5.799\n",
       "2000-06-15 17:30:00  14.11  195.279999  6.577\n",
       "2000-06-15 18:00:00  14.23  244.169998  6.931\n",
       "2000-06-15 18:30:00  14.40  253.919998  7.286\n",
       "2000-06-15 19:00:00  14.09  177.309998  7.251\n",
       "2000-06-15 19:30:00  13.71   97.070000  6.683\n",
       "2000-06-15 20:00:00  13.08   39.709999  5.851\n",
       "2000-06-15 20:30:00  12.41   10.650000  5.254\n",
       "2000-06-15 21:00:00  12.27    0.320000  5.164\n",
       "2000-06-15 21:30:00  12.20    0.000000  5.037"
      ]
     },
     "execution_count": null,
     "metadata": {},
     "output_type": "execute_result"
    }
   ],
   "source": [
    "blkdf(blk(800)).data"
   ]
  },
  {
   "cell_type": "code",
   "execution_count": null,
   "id": "0cf65769-4e52-4e14-be29-624cf4d82167",
   "metadata": {},
   "outputs": [],
   "source": [
    "tfms1 = TfmdLists([800,801,802,803], [BlockIndexTransform(hai.index, 10), BlockDfTransform(hai, hai_era, control_lags=1)])"
   ]
  },
  {
   "cell_type": "code",
   "execution_count": null,
   "id": "c8c1ec1e-810f-477f-8bb9-4eaebc2102e3",
   "metadata": {},
   "outputs": [
    {
     "data": {
      "text/html": [
       "<p style='font-size: 1.5rem; font-decoration: bold'>Data Control<p><div style=\"display: flex; column-gap: 20px; flex-wrap: wrap;\" class='table table-striped table-sm'> <div> <p style='font-size: 1.3rem;'>data</p> <style type=\"text/css\">\n",
       "</style>\n",
       "<table id=\"T_06c88\">\n",
       "  <thead>\n",
       "    <tr>\n",
       "      <th class=\"blank level0\" >&nbsp;</th>\n",
       "      <th id=\"T_06c88_level0_col0\" class=\"col_heading level0 col0\" >TA</th>\n",
       "      <th id=\"T_06c88_level0_col1\" class=\"col_heading level0 col1\" >SW_IN</th>\n",
       "      <th id=\"T_06c88_level0_col2\" class=\"col_heading level0 col2\" >VPD</th>\n",
       "    </tr>\n",
       "    <tr>\n",
       "      <th class=\"index_name level0\" >time</th>\n",
       "      <th class=\"blank col0\" >&nbsp;</th>\n",
       "      <th class=\"blank col1\" >&nbsp;</th>\n",
       "      <th class=\"blank col2\" >&nbsp;</th>\n",
       "    </tr>\n",
       "  </thead>\n",
       "  <tbody>\n",
       "    <tr>\n",
       "      <th id=\"T_06c88_level0_row0\" class=\"row_heading level0 row0\" >2000-06-15 17:00:00</th>\n",
       "      <td id=\"T_06c88_row0_col0\" class=\"data row0 col0\" >14.2200</td>\n",
       "      <td id=\"T_06c88_row0_col1\" class=\"data row0 col1\" >224.8000</td>\n",
       "      <td id=\"T_06c88_row0_col2\" class=\"data row0 col2\" >5.7990</td>\n",
       "    </tr>\n",
       "    <tr>\n",
       "      <th id=\"T_06c88_level0_row1\" class=\"row_heading level0 row1\" >2000-06-15 17:30:00</th>\n",
       "      <td id=\"T_06c88_row1_col0\" class=\"data row1 col0\" >14.1100</td>\n",
       "      <td id=\"T_06c88_row1_col1\" class=\"data row1 col1\" >195.2800</td>\n",
       "      <td id=\"T_06c88_row1_col2\" class=\"data row1 col2\" >6.5770</td>\n",
       "    </tr>\n",
       "    <tr>\n",
       "      <th id=\"T_06c88_level0_row2\" class=\"row_heading level0 row2\" >2000-06-15 18:00:00</th>\n",
       "      <td id=\"T_06c88_row2_col0\" class=\"data row2 col0\" >14.2300</td>\n",
       "      <td id=\"T_06c88_row2_col1\" class=\"data row2 col1\" >244.1700</td>\n",
       "      <td id=\"T_06c88_row2_col2\" class=\"data row2 col2\" >6.9310</td>\n",
       "    </tr>\n",
       "    <tr>\n",
       "      <th id=\"T_06c88_level0_row3\" class=\"row_heading level0 row3\" >2000-06-15 18:30:00</th>\n",
       "      <td id=\"T_06c88_row3_col0\" class=\"data row3 col0\" >14.4000</td>\n",
       "      <td id=\"T_06c88_row3_col1\" class=\"data row3 col1\" >253.9200</td>\n",
       "      <td id=\"T_06c88_row3_col2\" class=\"data row3 col2\" >7.2860</td>\n",
       "    </tr>\n",
       "    <tr>\n",
       "      <th id=\"T_06c88_level0_row4\" class=\"row_heading level0 row4\" >2000-06-15 19:00:00</th>\n",
       "      <td id=\"T_06c88_row4_col0\" class=\"data row4 col0\" >14.0900</td>\n",
       "      <td id=\"T_06c88_row4_col1\" class=\"data row4 col1\" >177.3100</td>\n",
       "      <td id=\"T_06c88_row4_col2\" class=\"data row4 col2\" >7.2510</td>\n",
       "    </tr>\n",
       "    <tr>\n",
       "      <th id=\"T_06c88_level0_row5\" class=\"row_heading level0 row5\" >2000-06-15 19:30:00</th>\n",
       "      <td id=\"T_06c88_row5_col0\" class=\"data row5 col0\" >13.7100</td>\n",
       "      <td id=\"T_06c88_row5_col1\" class=\"data row5 col1\" >97.0700</td>\n",
       "      <td id=\"T_06c88_row5_col2\" class=\"data row5 col2\" >6.6830</td>\n",
       "    </tr>\n",
       "    <tr>\n",
       "      <th id=\"T_06c88_level0_row6\" class=\"row_heading level0 row6\" >2000-06-15 20:00:00</th>\n",
       "      <td id=\"T_06c88_row6_col0\" class=\"data row6 col0\" >13.0800</td>\n",
       "      <td id=\"T_06c88_row6_col1\" class=\"data row6 col1\" >39.7100</td>\n",
       "      <td id=\"T_06c88_row6_col2\" class=\"data row6 col2\" >5.8510</td>\n",
       "    </tr>\n",
       "    <tr>\n",
       "      <th id=\"T_06c88_level0_row7\" class=\"row_heading level0 row7\" >2000-06-15 20:30:00</th>\n",
       "      <td id=\"T_06c88_row7_col0\" class=\"data row7 col0\" >12.4100</td>\n",
       "      <td id=\"T_06c88_row7_col1\" class=\"data row7 col1\" >10.6500</td>\n",
       "      <td id=\"T_06c88_row7_col2\" class=\"data row7 col2\" >5.2540</td>\n",
       "    </tr>\n",
       "    <tr>\n",
       "      <th id=\"T_06c88_level0_row8\" class=\"row_heading level0 row8\" >2000-06-15 21:00:00</th>\n",
       "      <td id=\"T_06c88_row8_col0\" class=\"data row8 col0\" >12.2700</td>\n",
       "      <td id=\"T_06c88_row8_col1\" class=\"data row8 col1\" >0.3200</td>\n",
       "      <td id=\"T_06c88_row8_col2\" class=\"data row8 col2\" >5.1640</td>\n",
       "    </tr>\n",
       "    <tr>\n",
       "      <th id=\"T_06c88_level0_row9\" class=\"row_heading level0 row9\" >2000-06-15 21:30:00</th>\n",
       "      <td id=\"T_06c88_row9_col0\" class=\"data row9 col0\" >12.2000</td>\n",
       "      <td id=\"T_06c88_row9_col1\" class=\"data row9 col1\" >0.0000</td>\n",
       "      <td id=\"T_06c88_row9_col2\" class=\"data row9 col2\" >5.0370</td>\n",
       "    </tr>\n",
       "  </tbody>\n",
       "</table>\n",
       " </div><div> <p style='font-size: 1.3rem;'>control</p> <style type=\"text/css\">\n",
       "</style>\n",
       "<table id=\"T_e7aaa\">\n",
       "  <thead>\n",
       "    <tr>\n",
       "      <th class=\"blank level0\" >&nbsp;</th>\n",
       "      <th id=\"T_e7aaa_level0_col0\" class=\"col_heading level0 col0\" >TA_ERA</th>\n",
       "      <th id=\"T_e7aaa_level0_col1\" class=\"col_heading level0 col1\" >SW_IN_ERA</th>\n",
       "      <th id=\"T_e7aaa_level0_col2\" class=\"col_heading level0 col2\" >VPD_ERA</th>\n",
       "      <th id=\"T_e7aaa_level0_col3\" class=\"col_heading level0 col3\" >TA_ERA_lag_1</th>\n",
       "      <th id=\"T_e7aaa_level0_col4\" class=\"col_heading level0 col4\" >SW_IN_ERA_lag_1</th>\n",
       "      <th id=\"T_e7aaa_level0_col5\" class=\"col_heading level0 col5\" >VPD_ERA_lag_1</th>\n",
       "    </tr>\n",
       "    <tr>\n",
       "      <th class=\"index_name level0\" >time</th>\n",
       "      <th class=\"blank col0\" >&nbsp;</th>\n",
       "      <th class=\"blank col1\" >&nbsp;</th>\n",
       "      <th class=\"blank col2\" >&nbsp;</th>\n",
       "      <th class=\"blank col3\" >&nbsp;</th>\n",
       "      <th class=\"blank col4\" >&nbsp;</th>\n",
       "      <th class=\"blank col5\" >&nbsp;</th>\n",
       "    </tr>\n",
       "  </thead>\n",
       "  <tbody>\n",
       "    <tr>\n",
       "      <th id=\"T_e7aaa_level0_row0\" class=\"row_heading level0 row0\" >2000-06-15 17:00:00</th>\n",
       "      <td id=\"T_e7aaa_row0_col0\" class=\"data row0 col0\" >15.0500</td>\n",
       "      <td id=\"T_e7aaa_row0_col1\" class=\"data row0 col1\" >255.1930</td>\n",
       "      <td id=\"T_e7aaa_row0_col2\" class=\"data row0 col2\" >5.1020</td>\n",
       "      <td id=\"T_e7aaa_row0_col3\" class=\"data row0 col3\" >15.1390</td>\n",
       "      <td id=\"T_e7aaa_row0_col4\" class=\"data row0 col4\" >287.1000</td>\n",
       "      <td id=\"T_e7aaa_row0_col5\" class=\"data row0 col5\" >4.9000</td>\n",
       "    </tr>\n",
       "    <tr>\n",
       "      <th id=\"T_e7aaa_level0_row1\" class=\"row_heading level0 row1\" >2000-06-15 17:30:00</th>\n",
       "      <td id=\"T_e7aaa_row1_col0\" class=\"data row1 col0\" >14.9610</td>\n",
       "      <td id=\"T_e7aaa_row1_col1\" class=\"data row1 col1\" >221.4270</td>\n",
       "      <td id=\"T_e7aaa_row1_col2\" class=\"data row1 col2\" >5.3050</td>\n",
       "      <td id=\"T_e7aaa_row1_col3\" class=\"data row1 col3\" >15.0500</td>\n",
       "      <td id=\"T_e7aaa_row1_col4\" class=\"data row1 col4\" >255.1930</td>\n",
       "      <td id=\"T_e7aaa_row1_col5\" class=\"data row1 col5\" >5.1020</td>\n",
       "    </tr>\n",
       "    <tr>\n",
       "      <th id=\"T_e7aaa_level0_row2\" class=\"row_heading level0 row2\" >2000-06-15 18:00:00</th>\n",
       "      <td id=\"T_e7aaa_row2_col0\" class=\"data row2 col0\" >14.8720</td>\n",
       "      <td id=\"T_e7aaa_row2_col1\" class=\"data row2 col1\" >186.3800</td>\n",
       "      <td id=\"T_e7aaa_row2_col2\" class=\"data row2 col2\" >5.5070</td>\n",
       "      <td id=\"T_e7aaa_row2_col3\" class=\"data row2 col3\" >14.9610</td>\n",
       "      <td id=\"T_e7aaa_row2_col4\" class=\"data row2 col4\" >221.4270</td>\n",
       "      <td id=\"T_e7aaa_row2_col5\" class=\"data row2 col5\" >5.3050</td>\n",
       "    </tr>\n",
       "    <tr>\n",
       "      <th id=\"T_e7aaa_level0_row3\" class=\"row_heading level0 row3\" >2000-06-15 18:30:00</th>\n",
       "      <td id=\"T_e7aaa_row3_col0\" class=\"data row3 col0\" >14.7830</td>\n",
       "      <td id=\"T_e7aaa_row3_col1\" class=\"data row3 col1\" >150.6500</td>\n",
       "      <td id=\"T_e7aaa_row3_col2\" class=\"data row3 col2\" >5.7100</td>\n",
       "      <td id=\"T_e7aaa_row3_col3\" class=\"data row3 col3\" >14.8720</td>\n",
       "      <td id=\"T_e7aaa_row3_col4\" class=\"data row3 col4\" >186.3800</td>\n",
       "      <td id=\"T_e7aaa_row3_col5\" class=\"data row3 col5\" >5.5070</td>\n",
       "    </tr>\n",
       "    <tr>\n",
       "      <th id=\"T_e7aaa_level0_row4\" class=\"row_heading level0 row4\" >2000-06-15 19:00:00</th>\n",
       "      <td id=\"T_e7aaa_row4_col0\" class=\"data row4 col0\" >14.6940</td>\n",
       "      <td id=\"T_e7aaa_row4_col1\" class=\"data row4 col1\" >114.8490</td>\n",
       "      <td id=\"T_e7aaa_row4_col2\" class=\"data row4 col2\" >5.9120</td>\n",
       "      <td id=\"T_e7aaa_row4_col3\" class=\"data row4 col3\" >14.7830</td>\n",
       "      <td id=\"T_e7aaa_row4_col4\" class=\"data row4 col4\" >150.6500</td>\n",
       "      <td id=\"T_e7aaa_row4_col5\" class=\"data row4 col5\" >5.7100</td>\n",
       "    </tr>\n",
       "    <tr>\n",
       "      <th id=\"T_e7aaa_level0_row5\" class=\"row_heading level0 row5\" >2000-06-15 19:30:00</th>\n",
       "      <td id=\"T_e7aaa_row5_col0\" class=\"data row5 col0\" >14.6060</td>\n",
       "      <td id=\"T_e7aaa_row5_col1\" class=\"data row5 col1\" >34.7280</td>\n",
       "      <td id=\"T_e7aaa_row5_col2\" class=\"data row5 col2\" >6.1140</td>\n",
       "      <td id=\"T_e7aaa_row5_col3\" class=\"data row5 col3\" >14.6940</td>\n",
       "      <td id=\"T_e7aaa_row5_col4\" class=\"data row5 col4\" >114.8490</td>\n",
       "      <td id=\"T_e7aaa_row5_col5\" class=\"data row5 col5\" >5.9120</td>\n",
       "    </tr>\n",
       "    <tr>\n",
       "      <th id=\"T_e7aaa_level0_row6\" class=\"row_heading level0 row6\" >2000-06-15 20:00:00</th>\n",
       "      <td id=\"T_e7aaa_row6_col0\" class=\"data row6 col0\" >14.3800</td>\n",
       "      <td id=\"T_e7aaa_row6_col1\" class=\"data row6 col1\" >19.8430</td>\n",
       "      <td id=\"T_e7aaa_row6_col2\" class=\"data row6 col2\" >6.0740</td>\n",
       "      <td id=\"T_e7aaa_row6_col3\" class=\"data row6 col3\" >14.6060</td>\n",
       "      <td id=\"T_e7aaa_row6_col4\" class=\"data row6 col4\" >34.7280</td>\n",
       "      <td id=\"T_e7aaa_row6_col5\" class=\"data row6 col5\" >6.1140</td>\n",
       "    </tr>\n",
       "    <tr>\n",
       "      <th id=\"T_e7aaa_level0_row7\" class=\"row_heading level0 row7\" >2000-06-15 20:30:00</th>\n",
       "      <td id=\"T_e7aaa_row7_col0\" class=\"data row7 col0\" >14.1550</td>\n",
       "      <td id=\"T_e7aaa_row7_col1\" class=\"data row7 col1\" >5.7120</td>\n",
       "      <td id=\"T_e7aaa_row7_col2\" class=\"data row7 col2\" >6.0340</td>\n",
       "      <td id=\"T_e7aaa_row7_col3\" class=\"data row7 col3\" >14.3800</td>\n",
       "      <td id=\"T_e7aaa_row7_col4\" class=\"data row7 col4\" >19.8430</td>\n",
       "      <td id=\"T_e7aaa_row7_col5\" class=\"data row7 col5\" >6.0740</td>\n",
       "    </tr>\n",
       "    <tr>\n",
       "      <th id=\"T_e7aaa_level0_row8\" class=\"row_heading level0 row8\" >2000-06-15 21:00:00</th>\n",
       "      <td id=\"T_e7aaa_row8_col0\" class=\"data row8 col0\" >13.9290</td>\n",
       "      <td id=\"T_e7aaa_row8_col1\" class=\"data row8 col1\" >0.0000</td>\n",
       "      <td id=\"T_e7aaa_row8_col2\" class=\"data row8 col2\" >5.9940</td>\n",
       "      <td id=\"T_e7aaa_row8_col3\" class=\"data row8 col3\" >14.1550</td>\n",
       "      <td id=\"T_e7aaa_row8_col4\" class=\"data row8 col4\" >5.7120</td>\n",
       "      <td id=\"T_e7aaa_row8_col5\" class=\"data row8 col5\" >6.0340</td>\n",
       "    </tr>\n",
       "    <tr>\n",
       "      <th id=\"T_e7aaa_level0_row9\" class=\"row_heading level0 row9\" >2000-06-15 21:30:00</th>\n",
       "      <td id=\"T_e7aaa_row9_col0\" class=\"data row9 col0\" >13.7040</td>\n",
       "      <td id=\"T_e7aaa_row9_col1\" class=\"data row9 col1\" >0.0000</td>\n",
       "      <td id=\"T_e7aaa_row9_col2\" class=\"data row9 col2\" >5.9540</td>\n",
       "      <td id=\"T_e7aaa_row9_col3\" class=\"data row9 col3\" >13.9290</td>\n",
       "      <td id=\"T_e7aaa_row9_col4\" class=\"data row9 col4\" >0.0000</td>\n",
       "      <td id=\"T_e7aaa_row9_col5\" class=\"data row9 col5\" >5.9940</td>\n",
       "    </tr>\n",
       "  </tbody>\n",
       "</table>\n",
       " </div></div>"
      ],
      "text/plain": [
       "DataControl(data=                        TA       SW_IN    VPD\n",
       "time                                         \n",
       "2000-06-15 17:00:00  14.22  224.800003  5.799\n",
       "2000-06-15 17:30:00  14.11  195.279999  6.577\n",
       "2000-06-15 18:00:00  14.23  244.169998  6.931\n",
       "2000-06-15 18:30:00  14.40  253.919998  7.286\n",
       "2000-06-15 19:00:00  14.09  177.309998  7.251\n",
       "2000-06-15 19:30:00  13.71   97.070000  6.683\n",
       "2000-06-15 20:00:00  13.08   39.709999  5.851\n",
       "2000-06-15 20:30:00  12.41   10.650000  5.254\n",
       "2000-06-15 21:00:00  12.27    0.320000  5.164\n",
       "2000-06-15 21:30:00  12.20    0.000000  5.037, control=                     TA_ERA   SW_IN_ERA  VPD_ERA  TA_ERA_lag_1  \\\n",
       "time                                                             \n",
       "2000-06-15 17:00:00  15.050  255.192993    5.102        15.139   \n",
       "2000-06-15 17:30:00  14.961  221.427002    5.305        15.050   \n",
       "2000-06-15 18:00:00  14.872  186.380005    5.507        14.961   \n",
       "2000-06-15 18:30:00  14.783  150.649994    5.710        14.872   \n",
       "2000-06-15 19:00:00  14.694  114.848999    5.912        14.783   \n",
       "2000-06-15 19:30:00  14.606   34.728001    6.114        14.694   \n",
       "2000-06-15 20:00:00  14.380   19.843000    6.074        14.606   \n",
       "2000-06-15 20:30:00  14.155    5.712000    6.034        14.380   \n",
       "2000-06-15 21:00:00  13.929    0.000000    5.994        14.155   \n",
       "2000-06-15 21:30:00  13.704    0.000000    5.954        13.929   \n",
       "\n",
       "                     SW_IN_ERA_lag_1  VPD_ERA_lag_1  \n",
       "time                                                 \n",
       "2000-06-15 17:00:00       287.100006          4.900  \n",
       "2000-06-15 17:30:00       255.192993          5.102  \n",
       "2000-06-15 18:00:00       221.427002          5.305  \n",
       "2000-06-15 18:30:00       186.380005          5.507  \n",
       "2000-06-15 19:00:00       150.649994          5.710  \n",
       "2000-06-15 19:30:00       114.848999          5.912  \n",
       "2000-06-15 20:00:00        34.728001          6.114  \n",
       "2000-06-15 20:30:00        19.843000          6.074  \n",
       "2000-06-15 21:00:00         5.712000          6.034  \n",
       "2000-06-15 21:30:00         0.000000          5.994  )"
      ]
     },
     "execution_count": null,
     "metadata": {},
     "output_type": "execute_result"
    }
   ],
   "source": [
    "tfms1[0]"
   ]
  },
  {
   "cell_type": "markdown",
   "id": "cc7af1e4-516c-4536-ab92-a5d19eec00fc",
   "metadata": {},
   "source": [
    "### 3) Gaps"
   ]
  },
  {
   "cell_type": "markdown",
   "id": "f2fe95d9-43bb-4174-8b9d-d5e87fdc3930",
   "metadata": {},
   "source": [
    "adds a mask which includes a random gap"
   ]
  },
  {
   "cell_type": "markdown",
   "id": "94bc9530-dd11-4606-a80b-77b9a2a353dc",
   "metadata": {},
   "source": [
    "#### Make random Gap"
   ]
  },
  {
   "cell_type": "code",
   "execution_count": null,
   "id": "37358f56-f705-4d3c-b39f-ac810447a635",
   "metadata": {},
   "outputs": [],
   "source": [
    "idx = L(*tfms1[0].data.columns).argwhere(lambda x: x in ['TA','SW_IN'])"
   ]
  },
  {
   "cell_type": "code",
   "execution_count": null,
   "id": "9126e8d1-3f99-40ba-b4ac-e5ac0f5cfd6c",
   "metadata": {},
   "outputs": [],
   "source": [
    "mask = np.ones_like(tfms1[0].data, dtype=bool)"
   ]
  },
  {
   "cell_type": "code",
   "execution_count": null,
   "id": "a9bf7480-1580-490d-8ce9-a0c47ef6c2a3",
   "metadata": {},
   "outputs": [
    {
     "data": {
      "text/plain": [
       "array([[ True,  True,  True],\n",
       "       [ True,  True,  True],\n",
       "       [ True,  True,  True],\n",
       "       [ True,  True,  True],\n",
       "       [ True,  True,  True],\n",
       "       [ True,  True,  True],\n",
       "       [ True,  True,  True],\n",
       "       [ True,  True,  True],\n",
       "       [ True,  True,  True],\n",
       "       [ True,  True,  True]])"
      ]
     },
     "execution_count": null,
     "metadata": {},
     "output_type": "execute_result"
    }
   ],
   "source": [
    "mask"
   ]
  },
  {
   "cell_type": "code",
   "execution_count": null,
   "id": "0c90ac7a-c0e8-4994-9268-8ae6c0739a84",
   "metadata": {},
   "outputs": [],
   "source": [
    "#| exports\n",
    "def _make_random_gap(\n",
    "    gap_length: int, # The length of the gap\n",
    "    total_length: int, # The total number of observations\n",
    "    gap_start: Optional[int] = None # Optional start of gap\n",
    ")-> np.ndarray: # [total_length] array of bools to indicicate if the data is missing or not\n",
    "    \"Add a continous gap of given length at random position\"\n",
    "    if(gap_length >= total_length):\n",
    "        return np.repeat(True, total_length)\n",
    "    gap_start = np.random.randint(total_length - gap_length) if gap_start is None else gap_start\n",
    "    return np.hstack([\n",
    "        np.repeat(False, gap_start),\n",
    "        np.repeat(True, gap_length),\n",
    "        np.repeat(False, total_length - (gap_length + gap_start))\n",
    "    ])"
   ]
  },
  {
   "cell_type": "code",
   "execution_count": null,
   "id": "7ba57b44-2632-4ada-af4d-20b2678e6798",
   "metadata": {},
   "outputs": [],
   "source": [
    "gap = _make_random_gap(2, 10, 2)"
   ]
  },
  {
   "cell_type": "code",
   "execution_count": null,
   "id": "614d77ee-5fa7-49bd-b0e2-2bd9539b3c67",
   "metadata": {},
   "outputs": [
    {
     "data": {
      "text/plain": [
       "array([False, False,  True,  True, False, False, False, False, False,\n",
       "       False])"
      ]
     },
     "execution_count": null,
     "metadata": {},
     "output_type": "execute_result"
    }
   ],
   "source": [
    "gap"
   ]
  },
  {
   "cell_type": "code",
   "execution_count": null,
   "id": "2cfdf0a8-6761-43fb-a716-af7d391bd36c",
   "metadata": {},
   "outputs": [
    {
     "data": {
      "text/plain": [
       "array([[2],\n",
       "       [3]])"
      ]
     },
     "execution_count": null,
     "metadata": {},
     "output_type": "execute_result"
    }
   ],
   "source": [
    "np.argwhere(gap)"
   ]
  },
  {
   "cell_type": "code",
   "execution_count": null,
   "id": "c4892a92-5850-4529-991d-24c9a1cebf14",
   "metadata": {},
   "outputs": [],
   "source": [
    "mask[np.argwhere(gap), idx] = False"
   ]
  },
  {
   "cell_type": "code",
   "execution_count": null,
   "id": "5cf78fa7-3c14-43e6-a370-085f74f48ffa",
   "metadata": {},
   "outputs": [
    {
     "data": {
      "text/plain": [
       "array([[ True,  True,  True],\n",
       "       [ True,  True,  True],\n",
       "       [False, False,  True],\n",
       "       [False, False,  True],\n",
       "       [ True,  True,  True],\n",
       "       [ True,  True,  True],\n",
       "       [ True,  True,  True],\n",
       "       [ True,  True,  True],\n",
       "       [ True,  True,  True],\n",
       "       [ True,  True,  True]])"
      ]
     },
     "execution_count": null,
     "metadata": {},
     "output_type": "execute_result"
    }
   ],
   "source": [
    "mask"
   ]
  },
  {
   "cell_type": "code",
   "execution_count": null,
   "id": "39d845e1-4869-4d99-ad55-d851e44bc5cc",
   "metadata": {},
   "outputs": [
    {
     "data": {
      "text/plain": [
       "array([[False, False,  True],\n",
       "       [False, False,  True]])"
      ]
     },
     "execution_count": null,
     "metadata": {},
     "output_type": "execute_result"
    }
   ],
   "source": [
    "mask[gap]"
   ]
  },
  {
   "cell_type": "markdown",
   "id": "0c22883e-b015-46e6-85a3-981c7629301c",
   "metadata": {},
   "source": [
    "#### Gap Len Generator"
   ]
  },
  {
   "cell_type": "markdown",
   "id": "f1830bad-10d4-4e9d-b5a3-58b60f9506e1",
   "metadata": {},
   "source": [
    "The gap lengths are drawn from a gamma distribution, so we have a long tail and a min value of 0, but compared to an exponentail distributions we don't have many gaps of len 0\n",
    "\n",
    "\n",
    "$$ p(x)=\\frac{1}{\\Gamma(k) \\theta^k} x^{k - 1} e^{-\\frac{x}{\\theta}}$$"
   ]
  },
  {
   "cell_type": "markdown",
   "id": "5a2bc417-8be6-446e-8769-cfaa84db0013",
   "metadata": {},
   "source": [
    "$$\\begin{align}\\mu &= k\\theta\\\\\n",
    "m &= (k-1)\\theta \\end{align}$$\n",
    "where $m$ is the mode and $\\mu$ is the mean (for $k>1$), which is what we want"
   ]
  },
  {
   "cell_type": "code",
   "execution_count": null,
   "id": "5f47ee76-b055-450a-b198-55a414102c35",
   "metadata": {},
   "outputs": [
    {
     "data": {
      "image/png": "[encoded data removed]",
      "text/plain": [
       "<Figure size 432x288 with 1 Axes>"
      ]
     },
     "metadata": {
      "needs_background": "light"
     },
     "output_type": "display_data"
    }
   ],
   "source": [
    "import matplotlib.pyplot as plt\n",
    "\n",
    "import scipy.special as sps  \n",
    "\n",
    "mean = 10\n",
    "\n",
    "scale = mean * .6\n",
    "shape = mean/scale\n",
    "\n",
    "mode = (shape-1)*scale\n",
    "\n",
    "x = np.arange(0,100)\n",
    "\n",
    "y = x**(shape-1)*(np.exp(-x/scale) / (sps.gamma(shape)*scale**shape))\n",
    "\n",
    "plt.plot(x, y)  \n",
    "\n",
    "plt.show()"
   ]
  },
  {
   "cell_type": "markdown",
   "id": "c798886c-ab52-4c96-bcb6-453032fb4769",
   "metadata": {},
   "source": [
    "This is a very guessestimate of a good probability density distribution of the gap len. The actual measure should come from the fluxnet data"
   ]
  },
  {
   "cell_type": "code",
   "execution_count": null,
   "id": "0789a04b-cc08-41e6-96ee-bf8529f1bb40",
   "metadata": {},
   "outputs": [],
   "source": [
    "#| export\n",
    "def gen_gap_len(mean: float, min_v = 1): \n",
    "    scale = mean*.6\n",
    "    shape = mean/scale\n",
    "    while True:\n",
    "        yield max(int(np.random.gamma(scale=scale, shape=shape)), min_v)"
   ]
  },
  {
   "cell_type": "code",
   "execution_count": null,
   "id": "d640b016-b69e-4fdf-83c2-0ca816b0f6d2",
   "metadata": {},
   "outputs": [
    {
     "data": {
      "text/plain": [
       "0"
      ]
     },
     "execution_count": null,
     "metadata": {},
     "output_type": "execute_result"
    }
   ],
   "source": [
    "next(gen_gap_len(1))"
   ]
  },
  {
   "cell_type": "code",
   "execution_count": null,
   "id": "3f39f1e1-a7a3-42ac-9e05-236e55961893",
   "metadata": {},
   "outputs": [],
   "source": [
    "g_len = gen_gap_len(10)"
   ]
  },
  {
   "cell_type": "code",
   "execution_count": null,
   "id": "5df51631-3e2d-4a51-8335-3d02d30b8a42",
   "metadata": {},
   "outputs": [
    {
     "data": {
      "text/plain": [
       "array([[<AxesSubplot: title={'center': '0'}>]], dtype=object)"
      ]
     },
     "execution_count": null,
     "metadata": {},
     "output_type": "execute_result"
    },
    {
     "data": {
      "image/png": "[encoded data removed]",
      "text/plain": [
       "<Figure size 432x288 with 1 Axes>"
      ]
     },
     "metadata": {
      "needs_background": "light"
     },
     "output_type": "display_data"
    }
   ],
   "source": [
    "gap_lens_sample = pd.DataFrame([next(g_len) for _ in range(1000)])\n",
    "gap_lens_sample.hist(bins=gap_lens_sample[0].max()//2)"
   ]
  },
  {
   "cell_type": "markdown",
   "id": "8091cdec-15d2-4217-8b43-9249ea371271",
   "metadata": {},
   "source": [
    "#### Var Sel Generator "
   ]
  },
  {
   "cell_type": "markdown",
   "id": "92991f89-506d-4270-bda4-debdec843b95",
   "metadata": {},
   "source": [
    "draws a number of variables from a uniform distribution from 1 to the max n of vars and then select the variables with equal probability"
   ]
  },
  {
   "cell_type": "code",
   "execution_count": null,
   "id": "72965b56-7aeb-4764-994c-8f581bdc4921",
   "metadata": {},
   "outputs": [],
   "source": [
    "#| export\n",
    "def gen_var_sel(vars):\n",
    "    while True:\n",
    "        n_var = np.random.randint(1,1+len(vars))\n",
    "        yield np.random.choice(np.array(vars), size=n_var, replace=False)"
   ]
  },
  {
   "cell_type": "code",
   "execution_count": null,
   "id": "11c7a614-bd1a-44de-a39a-acaccc81d4da",
   "metadata": {},
   "outputs": [],
   "source": [
    "g_var = gen_var_sel(list(\"abcdefg\")) "
   ]
  },
  {
   "cell_type": "code",
   "execution_count": null,
   "id": "39e859cb-13e6-43b4-baa0-49d76cb0938a",
   "metadata": {},
   "outputs": [
    {
     "data": {
      "text/plain": [
       "[array(['d', 'c', 'e', 'a', 'g'], dtype='<U1'),\n",
       " array(['c', 'f', 'b'], dtype='<U1'),\n",
       " array(['g', 'b', 'd', 'c'], dtype='<U1'),\n",
       " array(['e', 'f', 'b', 'd', 'c', 'g'], dtype='<U1'),\n",
       " array(['d', 'f', 'g', 'a', 'e'], dtype='<U1')]"
      ]
     },
     "execution_count": null,
     "metadata": {},
     "output_type": "execute_result"
    }
   ],
   "source": [
    "[next(g_var) for _ in range(5)]"
   ]
  },
  {
   "cell_type": "code",
   "execution_count": null,
   "id": "bd812293-761e-4323-8377-8eab0de73c39",
   "metadata": {},
   "outputs": [],
   "source": [
    "g_var = gen_var_sel([\"a\", \"bb\", \"ccc\"]) "
   ]
  },
  {
   "cell_type": "code",
   "execution_count": null,
   "id": "4caf499a-260b-4c37-bfb3-bdcd06bcaae0",
   "metadata": {},
   "outputs": [
    {
     "data": {
      "text/plain": [
       "[array(['a'], dtype='<U3'),\n",
       " array(['bb', 'a', 'ccc'], dtype='<U3'),\n",
       " array(['ccc', 'bb'], dtype='<U3'),\n",
       " array(['a'], dtype='<U3'),\n",
       " array(['ccc'], dtype='<U3')]"
      ]
     },
     "execution_count": null,
     "metadata": {},
     "output_type": "execute_result"
    }
   ],
   "source": [
    "[next(g_var) for _ in range(5)]"
   ]
  },
  {
   "cell_type": "code",
   "execution_count": null,
   "id": "7302f3cf-c961-49fc-b84c-dde363c89c90",
   "metadata": {},
   "outputs": [],
   "source": [
    "g_var = gen_var_sel(['TA', 'VPD', 'SW_IN'])"
   ]
  },
  {
   "cell_type": "code",
   "execution_count": null,
   "id": "9045f4dc-be11-4a6f-8f04-49a768b47c7c",
   "metadata": {},
   "outputs": [
    {
     "data": {
      "text/plain": [
       "[array(['SW_IN', 'VPD', 'TA'], dtype='<U5'),\n",
       " array(['VPD', 'TA'], dtype='<U5'),\n",
       " array(['SW_IN', 'VPD', 'TA'], dtype='<U5'),\n",
       " array(['TA'], dtype='<U5'),\n",
       " array(['TA'], dtype='<U5'),\n",
       " array(['SW_IN'], dtype='<U5'),\n",
       " array(['VPD', 'SW_IN', 'TA'], dtype='<U5'),\n",
       " array(['TA', 'VPD', 'SW_IN'], dtype='<U5'),\n",
       " array(['SW_IN', 'VPD'], dtype='<U5'),\n",
       " array(['TA'], dtype='<U5')]"
      ]
     },
     "execution_count": null,
     "metadata": {},
     "output_type": "execute_result"
    }
   ],
   "source": [
    "[next(g_var) for _ in range(10)]"
   ]
  },
  {
   "cell_type": "markdown",
   "id": "437bd01a-3335-4946-a655-5a1ed3ee9a52",
   "metadata": {},
   "source": [
    "#### Add Gap Transform"
   ]
  },
  {
   "cell_type": "code",
   "execution_count": null,
   "id": "d5a40f54-63ff-4028-84d7-37ba2061afec",
   "metadata": {},
   "outputs": [],
   "source": [
    "#| export\n",
    "from collections.abc import Iterable, Generator"
   ]
  },
  {
   "cell_type": "code",
   "execution_count": null,
   "id": "4e28482a-f6d0-4ba4-a8e7-c67987ff0eaf",
   "metadata": {},
   "outputs": [],
   "source": [
    "#| export\n",
    "def as_generator(x: Generator|object):\n",
    "    \"\"\"Maybe convert iterable to generator\"\"\"\n",
    "    if isinstance(x, Generator): return x\n",
    "    else: return cycle((x,))"
   ]
  },
  {
   "cell_type": "code",
   "execution_count": null,
   "id": "ed99d217-beb5-444e-94a1-a617a69b93c5",
   "metadata": {},
   "outputs": [
    {
     "data": {
      "text/plain": [
       "True"
      ]
     },
     "execution_count": null,
     "metadata": {},
     "output_type": "execute_result"
    }
   ],
   "source": [
    "isinstance(v_sel, Iterable)"
   ]
  },
  {
   "cell_type": "code",
   "execution_count": null,
   "id": "8ac16a8f-d155-4443-ace4-0a75f261d5ee",
   "metadata": {},
   "outputs": [
    {
     "data": {
      "text/plain": [
       "(<generator object gen_var_sel>, array(['VPD'], dtype='<U5'))"
      ]
     },
     "execution_count": null,
     "metadata": {},
     "output_type": "execute_result"
    }
   ],
   "source": [
    "as_generator(g_var), next(as_generator(g_var))"
   ]
  },
  {
   "cell_type": "code",
   "execution_count": null,
   "id": "ed71d5f0-addf-453d-83ef-89def84d9953",
   "metadata": {},
   "outputs": [
    {
     "data": {
      "text/plain": [
       "(<itertools.cycle>, [1, 2])"
      ]
     },
     "execution_count": null,
     "metadata": {},
     "output_type": "execute_result"
    }
   ],
   "source": [
    "as_generator([1,2]), next(as_generator([1,2]))"
   ]
  },
  {
   "cell_type": "code",
   "execution_count": null,
   "id": "94dcd2e0-9d32-471b-bebd-088d3e487a1f",
   "metadata": {},
   "outputs": [],
   "source": [
    "#| export\n",
    "class MeteoImpDf:\n",
    "    def __init__(self,*args):\n",
    "        self.data = args[0]\n",
    "        self.mask = args[1]\n",
    "        self.control = args[2]\n",
    "    def __iter__(self): return iter((self.data, self.mask, self.control,))\n",
    "    __repr__ = basic_repr(\"data, mask, control\")\n",
    "    def _repr_html_(self):\n",
    "        return row_dfs({'data': self.data, 'mask': self.mask, 'control': self.control}, title=\"Meteo Imp Df\", hide_idx=False)"
   ]
  },
  {
   "cell_type": "code",
   "execution_count": null,
   "id": "c71f35e5-ace8-41a6-806c-d5b14c520e7a",
   "metadata": {},
   "outputs": [],
   "source": [
    "#| export\n",
    "class AddGapTransform(Transform):\n",
    "    \"\"\"Adds a random gap to a dataframe\"\"\"\n",
    "    def __init__(self,\n",
    "                variables,\n",
    "                gap_length,\n",
    "                ):\n",
    "        self.variables, self.gap_length = as_generator(variables), as_generator(gap_length)\n",
    "    def encodes(self, dc: DataControl) -> MeteoImpDf:\n",
    "        df, control = dc\n",
    "        gap = _make_random_gap(next(self.gap_length), df.shape[0])\n",
    "        mask = np.ones_like(df, dtype=bool)\n",
    "        col_sel = L(*df.columns).argwhere(lambda x: x in next(self.variables))\n",
    "        mask[np.argwhere(gap), col_sel] = False\n",
    "        mask = pd.DataFrame(mask, index=df.index, columns=df.columns)\n",
    "        return MeteoImpDf(df, mask, control)"
   ]
  },
  {
   "cell_type": "code",
   "execution_count": null,
   "id": "47a56595-0fc1-4a7a-a9c6-38497079acb3",
   "metadata": {},
   "outputs": [
    {
     "data": {
      "text/html": [
       "<div>\n",
       "  <p>\n",
       "    <strong>AddGapTransform</strong>\n",
       "  </p>\n",
       "  <p>(DataControl,object) -&gt; encodes\n",
       "</p>\n",
       "  <p></p>\n",
       "</div>"
      ],
      "text/plain": [
       "AddGapTransform:\n",
       "encodes: (DataControl,object) -> encodes\n",
       "decodes: "
      ]
     },
     "execution_count": null,
     "metadata": {},
     "output_type": "execute_result"
    }
   ],
   "source": [
    "a_gap = AddGapTransform(['TA', 'VPD'], 5)\n",
    "a_gap"
   ]
  },
  {
   "cell_type": "code",
   "execution_count": null,
   "id": "68be29fc-a920-491c-a726-f75ab204aa27",
   "metadata": {},
   "outputs": [
    {
     "data": {
      "text/plain": [
       "([['TA', 'VPD'], ['TA', 'VPD'], ['TA', 'VPD'], ['TA', 'VPD'], ['TA', 'VPD']],\n",
       " [5, 5, 5, 5, 5])"
      ]
     },
     "execution_count": null,
     "metadata": {},
     "output_type": "execute_result"
    }
   ],
   "source": [
    "[next(a_gap.variables) for _ in range(5)], [next(a_gap.gap_length) for _ in range(5)]"
   ]
  },
  {
   "cell_type": "code",
   "execution_count": null,
   "id": "4cccf855-1b03-43da-9318-da569a238bf1",
   "metadata": {},
   "outputs": [],
   "source": [
    "g_var = gen_var_sel(['TA', 'VPD'])"
   ]
  },
  {
   "cell_type": "code",
   "execution_count": null,
   "id": "11b951ba-6b09-4f37-870c-65f90302d903",
   "metadata": {},
   "outputs": [
    {
     "data": {
      "text/html": [
       "<div>\n",
       "  <p>\n",
       "    <strong>AddGapTransform</strong>\n",
       "  </p>\n",
       "  <p>(DataControl,object) -&gt; encodes\n",
       "</p>\n",
       "  <p></p>\n",
       "</div>"
      ],
      "text/plain": [
       "AddGapTransform:\n",
       "encodes: (DataControl,object) -> encodes\n",
       "decodes: "
      ]
     },
     "execution_count": null,
     "metadata": {},
     "output_type": "execute_result"
    }
   ],
   "source": [
    "a_gap2 = AddGapTransform(g_var, gen_gap_len(5))\n",
    "a_gap2"
   ]
  },
  {
   "cell_type": "code",
   "execution_count": null,
   "id": "aff2c6d1-dd58-4696-af27-861bbf3d1832",
   "metadata": {},
   "outputs": [
    {
     "data": {
      "text/plain": [
       "([array(['VPD'], dtype='<U3'),\n",
       "  array(['TA'], dtype='<U3'),\n",
       "  array(['VPD', 'TA'], dtype='<U3'),\n",
       "  array(['VPD', 'TA'], dtype='<U3'),\n",
       "  array(['VPD', 'TA'], dtype='<U3')],\n",
       " [5, 6, 9, 2, 1])"
      ]
     },
     "execution_count": null,
     "metadata": {},
     "output_type": "execute_result"
    }
   ],
   "source": [
    "[next(a_gap2.variables) for _ in range(5)], [next(a_gap2.gap_length) for _ in range(5)]"
   ]
  },
  {
   "cell_type": "code",
   "execution_count": null,
   "id": "27f2cc9f-4d0a-42a5-90bf-f4ca999918f7",
   "metadata": {},
   "outputs": [
    {
     "data": {
      "text/html": [
       "<p style='font-size: 1.5rem; font-decoration: bold'>Meteo Imp Df<p><div style=\"display: flex; column-gap: 20px; flex-wrap: wrap;\" class='table table-striped table-sm'> <div> <p style='font-size: 1.3rem;'>data</p> <style type=\"text/css\">\n",
       "</style>\n",
       "<table id=\"T_39d14\">\n",
       "  <thead>\n",
       "    <tr>\n",
       "      <th class=\"blank level0\" >&nbsp;</th>\n",
       "      <th id=\"T_39d14_level0_col0\" class=\"col_heading level0 col0\" >TA</th>\n",
       "      <th id=\"T_39d14_level0_col1\" class=\"col_heading level0 col1\" >SW_IN</th>\n",
       "      <th id=\"T_39d14_level0_col2\" class=\"col_heading level0 col2\" >VPD</th>\n",
       "    </tr>\n",
       "    <tr>\n",
       "      <th class=\"index_name level0\" >time</th>\n",
       "      <th class=\"blank col0\" >&nbsp;</th>\n",
       "      <th class=\"blank col1\" >&nbsp;</th>\n",
       "      <th class=\"blank col2\" >&nbsp;</th>\n",
       "    </tr>\n",
       "  </thead>\n",
       "  <tbody>\n",
       "    <tr>\n",
       "      <th id=\"T_39d14_level0_row0\" class=\"row_heading level0 row0\" >2000-06-15 17:00:00</th>\n",
       "      <td id=\"T_39d14_row0_col0\" class=\"data row0 col0\" >14.2200</td>\n",
       "      <td id=\"T_39d14_row0_col1\" class=\"data row0 col1\" >224.8000</td>\n",
       "      <td id=\"T_39d14_row0_col2\" class=\"data row0 col2\" >5.7990</td>\n",
       "    </tr>\n",
       "    <tr>\n",
       "      <th id=\"T_39d14_level0_row1\" class=\"row_heading level0 row1\" >2000-06-15 17:30:00</th>\n",
       "      <td id=\"T_39d14_row1_col0\" class=\"data row1 col0\" >14.1100</td>\n",
       "      <td id=\"T_39d14_row1_col1\" class=\"data row1 col1\" >195.2800</td>\n",
       "      <td id=\"T_39d14_row1_col2\" class=\"data row1 col2\" >6.5770</td>\n",
       "    </tr>\n",
       "    <tr>\n",
       "      <th id=\"T_39d14_level0_row2\" class=\"row_heading level0 row2\" >2000-06-15 18:00:00</th>\n",
       "      <td id=\"T_39d14_row2_col0\" class=\"data row2 col0\" >14.2300</td>\n",
       "      <td id=\"T_39d14_row2_col1\" class=\"data row2 col1\" >244.1700</td>\n",
       "      <td id=\"T_39d14_row2_col2\" class=\"data row2 col2\" >6.9310</td>\n",
       "    </tr>\n",
       "    <tr>\n",
       "      <th id=\"T_39d14_level0_row3\" class=\"row_heading level0 row3\" >2000-06-15 18:30:00</th>\n",
       "      <td id=\"T_39d14_row3_col0\" class=\"data row3 col0\" >14.4000</td>\n",
       "      <td id=\"T_39d14_row3_col1\" class=\"data row3 col1\" >253.9200</td>\n",
       "      <td id=\"T_39d14_row3_col2\" class=\"data row3 col2\" >7.2860</td>\n",
       "    </tr>\n",
       "    <tr>\n",
       "      <th id=\"T_39d14_level0_row4\" class=\"row_heading level0 row4\" >2000-06-15 19:00:00</th>\n",
       "      <td id=\"T_39d14_row4_col0\" class=\"data row4 col0\" >14.0900</td>\n",
       "      <td id=\"T_39d14_row4_col1\" class=\"data row4 col1\" >177.3100</td>\n",
       "      <td id=\"T_39d14_row4_col2\" class=\"data row4 col2\" >7.2510</td>\n",
       "    </tr>\n",
       "    <tr>\n",
       "      <th id=\"T_39d14_level0_row5\" class=\"row_heading level0 row5\" >2000-06-15 19:30:00</th>\n",
       "      <td id=\"T_39d14_row5_col0\" class=\"data row5 col0\" >13.7100</td>\n",
       "      <td id=\"T_39d14_row5_col1\" class=\"data row5 col1\" >97.0700</td>\n",
       "      <td id=\"T_39d14_row5_col2\" class=\"data row5 col2\" >6.6830</td>\n",
       "    </tr>\n",
       "    <tr>\n",
       "      <th id=\"T_39d14_level0_row6\" class=\"row_heading level0 row6\" >2000-06-15 20:00:00</th>\n",
       "      <td id=\"T_39d14_row6_col0\" class=\"data row6 col0\" >13.0800</td>\n",
       "      <td id=\"T_39d14_row6_col1\" class=\"data row6 col1\" >39.7100</td>\n",
       "      <td id=\"T_39d14_row6_col2\" class=\"data row6 col2\" >5.8510</td>\n",
       "    </tr>\n",
       "    <tr>\n",
       "      <th id=\"T_39d14_level0_row7\" class=\"row_heading level0 row7\" >2000-06-15 20:30:00</th>\n",
       "      <td id=\"T_39d14_row7_col0\" class=\"data row7 col0\" >12.4100</td>\n",
       "      <td id=\"T_39d14_row7_col1\" class=\"data row7 col1\" >10.6500</td>\n",
       "      <td id=\"T_39d14_row7_col2\" class=\"data row7 col2\" >5.2540</td>\n",
       "    </tr>\n",
       "    <tr>\n",
       "      <th id=\"T_39d14_level0_row8\" class=\"row_heading level0 row8\" >2000-06-15 21:00:00</th>\n",
       "      <td id=\"T_39d14_row8_col0\" class=\"data row8 col0\" >12.2700</td>\n",
       "      <td id=\"T_39d14_row8_col1\" class=\"data row8 col1\" >0.3200</td>\n",
       "      <td id=\"T_39d14_row8_col2\" class=\"data row8 col2\" >5.1640</td>\n",
       "    </tr>\n",
       "    <tr>\n",
       "      <th id=\"T_39d14_level0_row9\" class=\"row_heading level0 row9\" >2000-06-15 21:30:00</th>\n",
       "      <td id=\"T_39d14_row9_col0\" class=\"data row9 col0\" >12.2000</td>\n",
       "      <td id=\"T_39d14_row9_col1\" class=\"data row9 col1\" >0.0000</td>\n",
       "      <td id=\"T_39d14_row9_col2\" class=\"data row9 col2\" >5.0370</td>\n",
       "    </tr>\n",
       "  </tbody>\n",
       "</table>\n",
       " </div><div> <p style='font-size: 1.3rem;'>mask</p> <style type=\"text/css\">\n",
       "</style>\n",
       "<table id=\"T_8f53f\">\n",
       "  <thead>\n",
       "    <tr>\n",
       "      <th class=\"blank level0\" >&nbsp;</th>\n",
       "      <th id=\"T_8f53f_level0_col0\" class=\"col_heading level0 col0\" >TA</th>\n",
       "      <th id=\"T_8f53f_level0_col1\" class=\"col_heading level0 col1\" >SW_IN</th>\n",
       "      <th id=\"T_8f53f_level0_col2\" class=\"col_heading level0 col2\" >VPD</th>\n",
       "    </tr>\n",
       "    <tr>\n",
       "      <th class=\"index_name level0\" >time</th>\n",
       "      <th class=\"blank col0\" >&nbsp;</th>\n",
       "      <th class=\"blank col1\" >&nbsp;</th>\n",
       "      <th class=\"blank col2\" >&nbsp;</th>\n",
       "    </tr>\n",
       "  </thead>\n",
       "  <tbody>\n",
       "    <tr>\n",
       "      <th id=\"T_8f53f_level0_row0\" class=\"row_heading level0 row0\" >2000-06-15 17:00:00</th>\n",
       "      <td id=\"T_8f53f_row0_col0\" class=\"data row0 col0\" >True</td>\n",
       "      <td id=\"T_8f53f_row0_col1\" class=\"data row0 col1\" >True</td>\n",
       "      <td id=\"T_8f53f_row0_col2\" class=\"data row0 col2\" >False</td>\n",
       "    </tr>\n",
       "    <tr>\n",
       "      <th id=\"T_8f53f_level0_row1\" class=\"row_heading level0 row1\" >2000-06-15 17:30:00</th>\n",
       "      <td id=\"T_8f53f_row1_col0\" class=\"data row1 col0\" >True</td>\n",
       "      <td id=\"T_8f53f_row1_col1\" class=\"data row1 col1\" >True</td>\n",
       "      <td id=\"T_8f53f_row1_col2\" class=\"data row1 col2\" >False</td>\n",
       "    </tr>\n",
       "    <tr>\n",
       "      <th id=\"T_8f53f_level0_row2\" class=\"row_heading level0 row2\" >2000-06-15 18:00:00</th>\n",
       "      <td id=\"T_8f53f_row2_col0\" class=\"data row2 col0\" >True</td>\n",
       "      <td id=\"T_8f53f_row2_col1\" class=\"data row2 col1\" >True</td>\n",
       "      <td id=\"T_8f53f_row2_col2\" class=\"data row2 col2\" >False</td>\n",
       "    </tr>\n",
       "    <tr>\n",
       "      <th id=\"T_8f53f_level0_row3\" class=\"row_heading level0 row3\" >2000-06-15 18:30:00</th>\n",
       "      <td id=\"T_8f53f_row3_col0\" class=\"data row3 col0\" >True</td>\n",
       "      <td id=\"T_8f53f_row3_col1\" class=\"data row3 col1\" >True</td>\n",
       "      <td id=\"T_8f53f_row3_col2\" class=\"data row3 col2\" >False</td>\n",
       "    </tr>\n",
       "    <tr>\n",
       "      <th id=\"T_8f53f_level0_row4\" class=\"row_heading level0 row4\" >2000-06-15 19:00:00</th>\n",
       "      <td id=\"T_8f53f_row4_col0\" class=\"data row4 col0\" >True</td>\n",
       "      <td id=\"T_8f53f_row4_col1\" class=\"data row4 col1\" >True</td>\n",
       "      <td id=\"T_8f53f_row4_col2\" class=\"data row4 col2\" >False</td>\n",
       "    </tr>\n",
       "    <tr>\n",
       "      <th id=\"T_8f53f_level0_row5\" class=\"row_heading level0 row5\" >2000-06-15 19:30:00</th>\n",
       "      <td id=\"T_8f53f_row5_col0\" class=\"data row5 col0\" >True</td>\n",
       "      <td id=\"T_8f53f_row5_col1\" class=\"data row5 col1\" >True</td>\n",
       "      <td id=\"T_8f53f_row5_col2\" class=\"data row5 col2\" >False</td>\n",
       "    </tr>\n",
       "    <tr>\n",
       "      <th id=\"T_8f53f_level0_row6\" class=\"row_heading level0 row6\" >2000-06-15 20:00:00</th>\n",
       "      <td id=\"T_8f53f_row6_col0\" class=\"data row6 col0\" >True</td>\n",
       "      <td id=\"T_8f53f_row6_col1\" class=\"data row6 col1\" >True</td>\n",
       "      <td id=\"T_8f53f_row6_col2\" class=\"data row6 col2\" >True</td>\n",
       "    </tr>\n",
       "    <tr>\n",
       "      <th id=\"T_8f53f_level0_row7\" class=\"row_heading level0 row7\" >2000-06-15 20:30:00</th>\n",
       "      <td id=\"T_8f53f_row7_col0\" class=\"data row7 col0\" >True</td>\n",
       "      <td id=\"T_8f53f_row7_col1\" class=\"data row7 col1\" >True</td>\n",
       "      <td id=\"T_8f53f_row7_col2\" class=\"data row7 col2\" >True</td>\n",
       "    </tr>\n",
       "    <tr>\n",
       "      <th id=\"T_8f53f_level0_row8\" class=\"row_heading level0 row8\" >2000-06-15 21:00:00</th>\n",
       "      <td id=\"T_8f53f_row8_col0\" class=\"data row8 col0\" >True</td>\n",
       "      <td id=\"T_8f53f_row8_col1\" class=\"data row8 col1\" >True</td>\n",
       "      <td id=\"T_8f53f_row8_col2\" class=\"data row8 col2\" >True</td>\n",
       "    </tr>\n",
       "    <tr>\n",
       "      <th id=\"T_8f53f_level0_row9\" class=\"row_heading level0 row9\" >2000-06-15 21:30:00</th>\n",
       "      <td id=\"T_8f53f_row9_col0\" class=\"data row9 col0\" >True</td>\n",
       "      <td id=\"T_8f53f_row9_col1\" class=\"data row9 col1\" >True</td>\n",
       "      <td id=\"T_8f53f_row9_col2\" class=\"data row9 col2\" >True</td>\n",
       "    </tr>\n",
       "  </tbody>\n",
       "</table>\n",
       " </div><div> <p style='font-size: 1.3rem;'>control</p> <style type=\"text/css\">\n",
       "</style>\n",
       "<table id=\"T_c39a2\">\n",
       "  <thead>\n",
       "    <tr>\n",
       "      <th class=\"blank level0\" >&nbsp;</th>\n",
       "      <th id=\"T_c39a2_level0_col0\" class=\"col_heading level0 col0\" >TA_ERA</th>\n",
       "      <th id=\"T_c39a2_level0_col1\" class=\"col_heading level0 col1\" >SW_IN_ERA</th>\n",
       "      <th id=\"T_c39a2_level0_col2\" class=\"col_heading level0 col2\" >VPD_ERA</th>\n",
       "      <th id=\"T_c39a2_level0_col3\" class=\"col_heading level0 col3\" >TA_ERA_lag_1</th>\n",
       "      <th id=\"T_c39a2_level0_col4\" class=\"col_heading level0 col4\" >SW_IN_ERA_lag_1</th>\n",
       "      <th id=\"T_c39a2_level0_col5\" class=\"col_heading level0 col5\" >VPD_ERA_lag_1</th>\n",
       "    </tr>\n",
       "    <tr>\n",
       "      <th class=\"index_name level0\" >time</th>\n",
       "      <th class=\"blank col0\" >&nbsp;</th>\n",
       "      <th class=\"blank col1\" >&nbsp;</th>\n",
       "      <th class=\"blank col2\" >&nbsp;</th>\n",
       "      <th class=\"blank col3\" >&nbsp;</th>\n",
       "      <th class=\"blank col4\" >&nbsp;</th>\n",
       "      <th class=\"blank col5\" >&nbsp;</th>\n",
       "    </tr>\n",
       "  </thead>\n",
       "  <tbody>\n",
       "    <tr>\n",
       "      <th id=\"T_c39a2_level0_row0\" class=\"row_heading level0 row0\" >2000-06-15 17:00:00</th>\n",
       "      <td id=\"T_c39a2_row0_col0\" class=\"data row0 col0\" >15.0500</td>\n",
       "      <td id=\"T_c39a2_row0_col1\" class=\"data row0 col1\" >255.1930</td>\n",
       "      <td id=\"T_c39a2_row0_col2\" class=\"data row0 col2\" >5.1020</td>\n",
       "      <td id=\"T_c39a2_row0_col3\" class=\"data row0 col3\" >15.1390</td>\n",
       "      <td id=\"T_c39a2_row0_col4\" class=\"data row0 col4\" >287.1000</td>\n",
       "      <td id=\"T_c39a2_row0_col5\" class=\"data row0 col5\" >4.9000</td>\n",
       "    </tr>\n",
       "    <tr>\n",
       "      <th id=\"T_c39a2_level0_row1\" class=\"row_heading level0 row1\" >2000-06-15 17:30:00</th>\n",
       "      <td id=\"T_c39a2_row1_col0\" class=\"data row1 col0\" >14.9610</td>\n",
       "      <td id=\"T_c39a2_row1_col1\" class=\"data row1 col1\" >221.4270</td>\n",
       "      <td id=\"T_c39a2_row1_col2\" class=\"data row1 col2\" >5.3050</td>\n",
       "      <td id=\"T_c39a2_row1_col3\" class=\"data row1 col3\" >15.0500</td>\n",
       "      <td id=\"T_c39a2_row1_col4\" class=\"data row1 col4\" >255.1930</td>\n",
       "      <td id=\"T_c39a2_row1_col5\" class=\"data row1 col5\" >5.1020</td>\n",
       "    </tr>\n",
       "    <tr>\n",
       "      <th id=\"T_c39a2_level0_row2\" class=\"row_heading level0 row2\" >2000-06-15 18:00:00</th>\n",
       "      <td id=\"T_c39a2_row2_col0\" class=\"data row2 col0\" >14.8720</td>\n",
       "      <td id=\"T_c39a2_row2_col1\" class=\"data row2 col1\" >186.3800</td>\n",
       "      <td id=\"T_c39a2_row2_col2\" class=\"data row2 col2\" >5.5070</td>\n",
       "      <td id=\"T_c39a2_row2_col3\" class=\"data row2 col3\" >14.9610</td>\n",
       "      <td id=\"T_c39a2_row2_col4\" class=\"data row2 col4\" >221.4270</td>\n",
       "      <td id=\"T_c39a2_row2_col5\" class=\"data row2 col5\" >5.3050</td>\n",
       "    </tr>\n",
       "    <tr>\n",
       "      <th id=\"T_c39a2_level0_row3\" class=\"row_heading level0 row3\" >2000-06-15 18:30:00</th>\n",
       "      <td id=\"T_c39a2_row3_col0\" class=\"data row3 col0\" >14.7830</td>\n",
       "      <td id=\"T_c39a2_row3_col1\" class=\"data row3 col1\" >150.6500</td>\n",
       "      <td id=\"T_c39a2_row3_col2\" class=\"data row3 col2\" >5.7100</td>\n",
       "      <td id=\"T_c39a2_row3_col3\" class=\"data row3 col3\" >14.8720</td>\n",
       "      <td id=\"T_c39a2_row3_col4\" class=\"data row3 col4\" >186.3800</td>\n",
       "      <td id=\"T_c39a2_row3_col5\" class=\"data row3 col5\" >5.5070</td>\n",
       "    </tr>\n",
       "    <tr>\n",
       "      <th id=\"T_c39a2_level0_row4\" class=\"row_heading level0 row4\" >2000-06-15 19:00:00</th>\n",
       "      <td id=\"T_c39a2_row4_col0\" class=\"data row4 col0\" >14.6940</td>\n",
       "      <td id=\"T_c39a2_row4_col1\" class=\"data row4 col1\" >114.8490</td>\n",
       "      <td id=\"T_c39a2_row4_col2\" class=\"data row4 col2\" >5.9120</td>\n",
       "      <td id=\"T_c39a2_row4_col3\" class=\"data row4 col3\" >14.7830</td>\n",
       "      <td id=\"T_c39a2_row4_col4\" class=\"data row4 col4\" >150.6500</td>\n",
       "      <td id=\"T_c39a2_row4_col5\" class=\"data row4 col5\" >5.7100</td>\n",
       "    </tr>\n",
       "    <tr>\n",
       "      <th id=\"T_c39a2_level0_row5\" class=\"row_heading level0 row5\" >2000-06-15 19:30:00</th>\n",
       "      <td id=\"T_c39a2_row5_col0\" class=\"data row5 col0\" >14.6060</td>\n",
       "      <td id=\"T_c39a2_row5_col1\" class=\"data row5 col1\" >34.7280</td>\n",
       "      <td id=\"T_c39a2_row5_col2\" class=\"data row5 col2\" >6.1140</td>\n",
       "      <td id=\"T_c39a2_row5_col3\" class=\"data row5 col3\" >14.6940</td>\n",
       "      <td id=\"T_c39a2_row5_col4\" class=\"data row5 col4\" >114.8490</td>\n",
       "      <td id=\"T_c39a2_row5_col5\" class=\"data row5 col5\" >5.9120</td>\n",
       "    </tr>\n",
       "    <tr>\n",
       "      <th id=\"T_c39a2_level0_row6\" class=\"row_heading level0 row6\" >2000-06-15 20:00:00</th>\n",
       "      <td id=\"T_c39a2_row6_col0\" class=\"data row6 col0\" >14.3800</td>\n",
       "      <td id=\"T_c39a2_row6_col1\" class=\"data row6 col1\" >19.8430</td>\n",
       "      <td id=\"T_c39a2_row6_col2\" class=\"data row6 col2\" >6.0740</td>\n",
       "      <td id=\"T_c39a2_row6_col3\" class=\"data row6 col3\" >14.6060</td>\n",
       "      <td id=\"T_c39a2_row6_col4\" class=\"data row6 col4\" >34.7280</td>\n",
       "      <td id=\"T_c39a2_row6_col5\" class=\"data row6 col5\" >6.1140</td>\n",
       "    </tr>\n",
       "    <tr>\n",
       "      <th id=\"T_c39a2_level0_row7\" class=\"row_heading level0 row7\" >2000-06-15 20:30:00</th>\n",
       "      <td id=\"T_c39a2_row7_col0\" class=\"data row7 col0\" >14.1550</td>\n",
       "      <td id=\"T_c39a2_row7_col1\" class=\"data row7 col1\" >5.7120</td>\n",
       "      <td id=\"T_c39a2_row7_col2\" class=\"data row7 col2\" >6.0340</td>\n",
       "      <td id=\"T_c39a2_row7_col3\" class=\"data row7 col3\" >14.3800</td>\n",
       "      <td id=\"T_c39a2_row7_col4\" class=\"data row7 col4\" >19.8430</td>\n",
       "      <td id=\"T_c39a2_row7_col5\" class=\"data row7 col5\" >6.0740</td>\n",
       "    </tr>\n",
       "    <tr>\n",
       "      <th id=\"T_c39a2_level0_row8\" class=\"row_heading level0 row8\" >2000-06-15 21:00:00</th>\n",
       "      <td id=\"T_c39a2_row8_col0\" class=\"data row8 col0\" >13.9290</td>\n",
       "      <td id=\"T_c39a2_row8_col1\" class=\"data row8 col1\" >0.0000</td>\n",
       "      <td id=\"T_c39a2_row8_col2\" class=\"data row8 col2\" >5.9940</td>\n",
       "      <td id=\"T_c39a2_row8_col3\" class=\"data row8 col3\" >14.1550</td>\n",
       "      <td id=\"T_c39a2_row8_col4\" class=\"data row8 col4\" >5.7120</td>\n",
       "      <td id=\"T_c39a2_row8_col5\" class=\"data row8 col5\" >6.0340</td>\n",
       "    </tr>\n",
       "    <tr>\n",
       "      <th id=\"T_c39a2_level0_row9\" class=\"row_heading level0 row9\" >2000-06-15 21:30:00</th>\n",
       "      <td id=\"T_c39a2_row9_col0\" class=\"data row9 col0\" >13.7040</td>\n",
       "      <td id=\"T_c39a2_row9_col1\" class=\"data row9 col1\" >0.0000</td>\n",
       "      <td id=\"T_c39a2_row9_col2\" class=\"data row9 col2\" >5.9540</td>\n",
       "      <td id=\"T_c39a2_row9_col3\" class=\"data row9 col3\" >13.9290</td>\n",
       "      <td id=\"T_c39a2_row9_col4\" class=\"data row9 col4\" >0.0000</td>\n",
       "      <td id=\"T_c39a2_row9_col5\" class=\"data row9 col5\" >5.9940</td>\n",
       "    </tr>\n",
       "  </tbody>\n",
       "</table>\n",
       " </div></div>"
      ],
      "text/plain": [
       "__main__.MeteoImpDf(data=                        TA       SW_IN    VPD\n",
       "time                                         \n",
       "2000-06-15 17:00:00  14.22  224.800003  5.799\n",
       "2000-06-15 17:30:00  14.11  195.279999  6.577\n",
       "2000-06-15 18:00:00  14.23  244.169998  6.931\n",
       "2000-06-15 18:30:00  14.40  253.919998  7.286\n",
       "2000-06-15 19:00:00  14.09  177.309998  7.251\n",
       "2000-06-15 19:30:00  13.71   97.070000  6.683\n",
       "2000-06-15 20:00:00  13.08   39.709999  5.851\n",
       "2000-06-15 20:30:00  12.41   10.650000  5.254\n",
       "2000-06-15 21:00:00  12.27    0.320000  5.164\n",
       "2000-06-15 21:30:00  12.20    0.000000  5.037, mask=                       TA  SW_IN    VPD\n",
       "time                                   \n",
       "2000-06-15 17:00:00  True   True  False\n",
       "2000-06-15 17:30:00  True   True  False\n",
       "2000-06-15 18:00:00  True   True  False\n",
       "2000-06-15 18:30:00  True   True  False\n",
       "2000-06-15 19:00:00  True   True  False\n",
       "2000-06-15 19:30:00  True   True  False\n",
       "2000-06-15 20:00:00  True   True   True\n",
       "2000-06-15 20:30:00  True   True   True\n",
       "2000-06-15 21:00:00  True   True   True\n",
       "2000-06-15 21:30:00  True   True   True, control=                     TA_ERA   SW_IN_ERA  VPD_ERA  TA_ERA_lag_1  \\\n",
       "time                                                             \n",
       "2000-06-15 17:00:00  15.050  255.192993    5.102        15.139   \n",
       "2000-06-15 17:30:00  14.961  221.427002    5.305        15.050   \n",
       "2000-06-15 18:00:00  14.872  186.380005    5.507        14.961   \n",
       "2000-06-15 18:30:00  14.783  150.649994    5.710        14.872   \n",
       "2000-06-15 19:00:00  14.694  114.848999    5.912        14.783   \n",
       "2000-06-15 19:30:00  14.606   34.728001    6.114        14.694   \n",
       "2000-06-15 20:00:00  14.380   19.843000    6.074        14.606   \n",
       "2000-06-15 20:30:00  14.155    5.712000    6.034        14.380   \n",
       "2000-06-15 21:00:00  13.929    0.000000    5.994        14.155   \n",
       "2000-06-15 21:30:00  13.704    0.000000    5.954        13.929   \n",
       "\n",
       "                     SW_IN_ERA_lag_1  VPD_ERA_lag_1  \n",
       "time                                                 \n",
       "2000-06-15 17:00:00       287.100006          4.900  \n",
       "2000-06-15 17:30:00       255.192993          5.102  \n",
       "2000-06-15 18:00:00       221.427002          5.305  \n",
       "2000-06-15 18:30:00       186.380005          5.507  \n",
       "2000-06-15 19:00:00       150.649994          5.710  \n",
       "2000-06-15 19:30:00       114.848999          5.912  \n",
       "2000-06-15 20:00:00        34.728001          6.114  \n",
       "2000-06-15 20:30:00        19.843000          6.074  \n",
       "2000-06-15 21:00:00         5.712000          6.034  \n",
       "2000-06-15 21:30:00         0.000000          5.994  )"
      ]
     },
     "execution_count": null,
     "metadata": {},
     "output_type": "execute_result"
    }
   ],
   "source": [
    "a_gap(tfms1[0])"
   ]
  },
  {
   "cell_type": "code",
   "execution_count": null,
   "id": "38be4fa4-4d1f-465d-b176-0d71d921bb48",
   "metadata": {},
   "outputs": [
    {
     "data": {
      "text/html": [
       "<p style='font-size: 1.5rem; font-decoration: bold'>Meteo Imp Df<p><div style=\"display: flex; column-gap: 20px; flex-wrap: wrap;\" class='table table-striped table-sm'> <div> <p style='font-size: 1.3rem;'>data</p> <style type=\"text/css\">\n",
       "</style>\n",
       "<table id=\"T_95dd3\">\n",
       "  <thead>\n",
       "    <tr>\n",
       "      <th class=\"blank level0\" >&nbsp;</th>\n",
       "      <th id=\"T_95dd3_level0_col0\" class=\"col_heading level0 col0\" >TA</th>\n",
       "      <th id=\"T_95dd3_level0_col1\" class=\"col_heading level0 col1\" >SW_IN</th>\n",
       "      <th id=\"T_95dd3_level0_col2\" class=\"col_heading level0 col2\" >VPD</th>\n",
       "    </tr>\n",
       "    <tr>\n",
       "      <th class=\"index_name level0\" >time</th>\n",
       "      <th class=\"blank col0\" >&nbsp;</th>\n",
       "      <th class=\"blank col1\" >&nbsp;</th>\n",
       "      <th class=\"blank col2\" >&nbsp;</th>\n",
       "    </tr>\n",
       "  </thead>\n",
       "  <tbody>\n",
       "    <tr>\n",
       "      <th id=\"T_95dd3_level0_row0\" class=\"row_heading level0 row0\" >2000-06-15 17:00:00</th>\n",
       "      <td id=\"T_95dd3_row0_col0\" class=\"data row0 col0\" >14.2200</td>\n",
       "      <td id=\"T_95dd3_row0_col1\" class=\"data row0 col1\" >224.8000</td>\n",
       "      <td id=\"T_95dd3_row0_col2\" class=\"data row0 col2\" >5.7990</td>\n",
       "    </tr>\n",
       "    <tr>\n",
       "      <th id=\"T_95dd3_level0_row1\" class=\"row_heading level0 row1\" >2000-06-15 17:30:00</th>\n",
       "      <td id=\"T_95dd3_row1_col0\" class=\"data row1 col0\" >14.1100</td>\n",
       "      <td id=\"T_95dd3_row1_col1\" class=\"data row1 col1\" >195.2800</td>\n",
       "      <td id=\"T_95dd3_row1_col2\" class=\"data row1 col2\" >6.5770</td>\n",
       "    </tr>\n",
       "    <tr>\n",
       "      <th id=\"T_95dd3_level0_row2\" class=\"row_heading level0 row2\" >2000-06-15 18:00:00</th>\n",
       "      <td id=\"T_95dd3_row2_col0\" class=\"data row2 col0\" >14.2300</td>\n",
       "      <td id=\"T_95dd3_row2_col1\" class=\"data row2 col1\" >244.1700</td>\n",
       "      <td id=\"T_95dd3_row2_col2\" class=\"data row2 col2\" >6.9310</td>\n",
       "    </tr>\n",
       "    <tr>\n",
       "      <th id=\"T_95dd3_level0_row3\" class=\"row_heading level0 row3\" >2000-06-15 18:30:00</th>\n",
       "      <td id=\"T_95dd3_row3_col0\" class=\"data row3 col0\" >14.4000</td>\n",
       "      <td id=\"T_95dd3_row3_col1\" class=\"data row3 col1\" >253.9200</td>\n",
       "      <td id=\"T_95dd3_row3_col2\" class=\"data row3 col2\" >7.2860</td>\n",
       "    </tr>\n",
       "    <tr>\n",
       "      <th id=\"T_95dd3_level0_row4\" class=\"row_heading level0 row4\" >2000-06-15 19:00:00</th>\n",
       "      <td id=\"T_95dd3_row4_col0\" class=\"data row4 col0\" >14.0900</td>\n",
       "      <td id=\"T_95dd3_row4_col1\" class=\"data row4 col1\" >177.3100</td>\n",
       "      <td id=\"T_95dd3_row4_col2\" class=\"data row4 col2\" >7.2510</td>\n",
       "    </tr>\n",
       "    <tr>\n",
       "      <th id=\"T_95dd3_level0_row5\" class=\"row_heading level0 row5\" >2000-06-15 19:30:00</th>\n",
       "      <td id=\"T_95dd3_row5_col0\" class=\"data row5 col0\" >13.7100</td>\n",
       "      <td id=\"T_95dd3_row5_col1\" class=\"data row5 col1\" >97.0700</td>\n",
       "      <td id=\"T_95dd3_row5_col2\" class=\"data row5 col2\" >6.6830</td>\n",
       "    </tr>\n",
       "    <tr>\n",
       "      <th id=\"T_95dd3_level0_row6\" class=\"row_heading level0 row6\" >2000-06-15 20:00:00</th>\n",
       "      <td id=\"T_95dd3_row6_col0\" class=\"data row6 col0\" >13.0800</td>\n",
       "      <td id=\"T_95dd3_row6_col1\" class=\"data row6 col1\" >39.7100</td>\n",
       "      <td id=\"T_95dd3_row6_col2\" class=\"data row6 col2\" >5.8510</td>\n",
       "    </tr>\n",
       "    <tr>\n",
       "      <th id=\"T_95dd3_level0_row7\" class=\"row_heading level0 row7\" >2000-06-15 20:30:00</th>\n",
       "      <td id=\"T_95dd3_row7_col0\" class=\"data row7 col0\" >12.4100</td>\n",
       "      <td id=\"T_95dd3_row7_col1\" class=\"data row7 col1\" >10.6500</td>\n",
       "      <td id=\"T_95dd3_row7_col2\" class=\"data row7 col2\" >5.2540</td>\n",
       "    </tr>\n",
       "    <tr>\n",
       "      <th id=\"T_95dd3_level0_row8\" class=\"row_heading level0 row8\" >2000-06-15 21:00:00</th>\n",
       "      <td id=\"T_95dd3_row8_col0\" class=\"data row8 col0\" >12.2700</td>\n",
       "      <td id=\"T_95dd3_row8_col1\" class=\"data row8 col1\" >0.3200</td>\n",
       "      <td id=\"T_95dd3_row8_col2\" class=\"data row8 col2\" >5.1640</td>\n",
       "    </tr>\n",
       "    <tr>\n",
       "      <th id=\"T_95dd3_level0_row9\" class=\"row_heading level0 row9\" >2000-06-15 21:30:00</th>\n",
       "      <td id=\"T_95dd3_row9_col0\" class=\"data row9 col0\" >12.2000</td>\n",
       "      <td id=\"T_95dd3_row9_col1\" class=\"data row9 col1\" >0.0000</td>\n",
       "      <td id=\"T_95dd3_row9_col2\" class=\"data row9 col2\" >5.0370</td>\n",
       "    </tr>\n",
       "  </tbody>\n",
       "</table>\n",
       " </div><div> <p style='font-size: 1.3rem;'>mask</p> <style type=\"text/css\">\n",
       "</style>\n",
       "<table id=\"T_00ee5\">\n",
       "  <thead>\n",
       "    <tr>\n",
       "      <th class=\"blank level0\" >&nbsp;</th>\n",
       "      <th id=\"T_00ee5_level0_col0\" class=\"col_heading level0 col0\" >TA</th>\n",
       "      <th id=\"T_00ee5_level0_col1\" class=\"col_heading level0 col1\" >SW_IN</th>\n",
       "      <th id=\"T_00ee5_level0_col2\" class=\"col_heading level0 col2\" >VPD</th>\n",
       "    </tr>\n",
       "    <tr>\n",
       "      <th class=\"index_name level0\" >time</th>\n",
       "      <th class=\"blank col0\" >&nbsp;</th>\n",
       "      <th class=\"blank col1\" >&nbsp;</th>\n",
       "      <th class=\"blank col2\" >&nbsp;</th>\n",
       "    </tr>\n",
       "  </thead>\n",
       "  <tbody>\n",
       "    <tr>\n",
       "      <th id=\"T_00ee5_level0_row0\" class=\"row_heading level0 row0\" >2000-06-15 17:00:00</th>\n",
       "      <td id=\"T_00ee5_row0_col0\" class=\"data row0 col0\" >True</td>\n",
       "      <td id=\"T_00ee5_row0_col1\" class=\"data row0 col1\" >True</td>\n",
       "      <td id=\"T_00ee5_row0_col2\" class=\"data row0 col2\" >True</td>\n",
       "    </tr>\n",
       "    <tr>\n",
       "      <th id=\"T_00ee5_level0_row1\" class=\"row_heading level0 row1\" >2000-06-15 17:30:00</th>\n",
       "      <td id=\"T_00ee5_row1_col0\" class=\"data row1 col0\" >True</td>\n",
       "      <td id=\"T_00ee5_row1_col1\" class=\"data row1 col1\" >True</td>\n",
       "      <td id=\"T_00ee5_row1_col2\" class=\"data row1 col2\" >True</td>\n",
       "    </tr>\n",
       "    <tr>\n",
       "      <th id=\"T_00ee5_level0_row2\" class=\"row_heading level0 row2\" >2000-06-15 18:00:00</th>\n",
       "      <td id=\"T_00ee5_row2_col0\" class=\"data row2 col0\" >True</td>\n",
       "      <td id=\"T_00ee5_row2_col1\" class=\"data row2 col1\" >True</td>\n",
       "      <td id=\"T_00ee5_row2_col2\" class=\"data row2 col2\" >True</td>\n",
       "    </tr>\n",
       "    <tr>\n",
       "      <th id=\"T_00ee5_level0_row3\" class=\"row_heading level0 row3\" >2000-06-15 18:30:00</th>\n",
       "      <td id=\"T_00ee5_row3_col0\" class=\"data row3 col0\" >True</td>\n",
       "      <td id=\"T_00ee5_row3_col1\" class=\"data row3 col1\" >True</td>\n",
       "      <td id=\"T_00ee5_row3_col2\" class=\"data row3 col2\" >True</td>\n",
       "    </tr>\n",
       "    <tr>\n",
       "      <th id=\"T_00ee5_level0_row4\" class=\"row_heading level0 row4\" >2000-06-15 19:00:00</th>\n",
       "      <td id=\"T_00ee5_row4_col0\" class=\"data row4 col0\" >True</td>\n",
       "      <td id=\"T_00ee5_row4_col1\" class=\"data row4 col1\" >True</td>\n",
       "      <td id=\"T_00ee5_row4_col2\" class=\"data row4 col2\" >True</td>\n",
       "    </tr>\n",
       "    <tr>\n",
       "      <th id=\"T_00ee5_level0_row5\" class=\"row_heading level0 row5\" >2000-06-15 19:30:00</th>\n",
       "      <td id=\"T_00ee5_row5_col0\" class=\"data row5 col0\" >True</td>\n",
       "      <td id=\"T_00ee5_row5_col1\" class=\"data row5 col1\" >True</td>\n",
       "      <td id=\"T_00ee5_row5_col2\" class=\"data row5 col2\" >True</td>\n",
       "    </tr>\n",
       "    <tr>\n",
       "      <th id=\"T_00ee5_level0_row6\" class=\"row_heading level0 row6\" >2000-06-15 20:00:00</th>\n",
       "      <td id=\"T_00ee5_row6_col0\" class=\"data row6 col0\" >True</td>\n",
       "      <td id=\"T_00ee5_row6_col1\" class=\"data row6 col1\" >True</td>\n",
       "      <td id=\"T_00ee5_row6_col2\" class=\"data row6 col2\" >False</td>\n",
       "    </tr>\n",
       "    <tr>\n",
       "      <th id=\"T_00ee5_level0_row7\" class=\"row_heading level0 row7\" >2000-06-15 20:30:00</th>\n",
       "      <td id=\"T_00ee5_row7_col0\" class=\"data row7 col0\" >True</td>\n",
       "      <td id=\"T_00ee5_row7_col1\" class=\"data row7 col1\" >True</td>\n",
       "      <td id=\"T_00ee5_row7_col2\" class=\"data row7 col2\" >False</td>\n",
       "    </tr>\n",
       "    <tr>\n",
       "      <th id=\"T_00ee5_level0_row8\" class=\"row_heading level0 row8\" >2000-06-15 21:00:00</th>\n",
       "      <td id=\"T_00ee5_row8_col0\" class=\"data row8 col0\" >True</td>\n",
       "      <td id=\"T_00ee5_row8_col1\" class=\"data row8 col1\" >True</td>\n",
       "      <td id=\"T_00ee5_row8_col2\" class=\"data row8 col2\" >False</td>\n",
       "    </tr>\n",
       "    <tr>\n",
       "      <th id=\"T_00ee5_level0_row9\" class=\"row_heading level0 row9\" >2000-06-15 21:30:00</th>\n",
       "      <td id=\"T_00ee5_row9_col0\" class=\"data row9 col0\" >True</td>\n",
       "      <td id=\"T_00ee5_row9_col1\" class=\"data row9 col1\" >True</td>\n",
       "      <td id=\"T_00ee5_row9_col2\" class=\"data row9 col2\" >True</td>\n",
       "    </tr>\n",
       "  </tbody>\n",
       "</table>\n",
       " </div><div> <p style='font-size: 1.3rem;'>control</p> <style type=\"text/css\">\n",
       "</style>\n",
       "<table id=\"T_05737\">\n",
       "  <thead>\n",
       "    <tr>\n",
       "      <th class=\"blank level0\" >&nbsp;</th>\n",
       "      <th id=\"T_05737_level0_col0\" class=\"col_heading level0 col0\" >TA_ERA</th>\n",
       "      <th id=\"T_05737_level0_col1\" class=\"col_heading level0 col1\" >SW_IN_ERA</th>\n",
       "      <th id=\"T_05737_level0_col2\" class=\"col_heading level0 col2\" >VPD_ERA</th>\n",
       "      <th id=\"T_05737_level0_col3\" class=\"col_heading level0 col3\" >TA_ERA_lag_1</th>\n",
       "      <th id=\"T_05737_level0_col4\" class=\"col_heading level0 col4\" >SW_IN_ERA_lag_1</th>\n",
       "      <th id=\"T_05737_level0_col5\" class=\"col_heading level0 col5\" >VPD_ERA_lag_1</th>\n",
       "    </tr>\n",
       "    <tr>\n",
       "      <th class=\"index_name level0\" >time</th>\n",
       "      <th class=\"blank col0\" >&nbsp;</th>\n",
       "      <th class=\"blank col1\" >&nbsp;</th>\n",
       "      <th class=\"blank col2\" >&nbsp;</th>\n",
       "      <th class=\"blank col3\" >&nbsp;</th>\n",
       "      <th class=\"blank col4\" >&nbsp;</th>\n",
       "      <th class=\"blank col5\" >&nbsp;</th>\n",
       "    </tr>\n",
       "  </thead>\n",
       "  <tbody>\n",
       "    <tr>\n",
       "      <th id=\"T_05737_level0_row0\" class=\"row_heading level0 row0\" >2000-06-15 17:00:00</th>\n",
       "      <td id=\"T_05737_row0_col0\" class=\"data row0 col0\" >15.0500</td>\n",
       "      <td id=\"T_05737_row0_col1\" class=\"data row0 col1\" >255.1930</td>\n",
       "      <td id=\"T_05737_row0_col2\" class=\"data row0 col2\" >5.1020</td>\n",
       "      <td id=\"T_05737_row0_col3\" class=\"data row0 col3\" >15.1390</td>\n",
       "      <td id=\"T_05737_row0_col4\" class=\"data row0 col4\" >287.1000</td>\n",
       "      <td id=\"T_05737_row0_col5\" class=\"data row0 col5\" >4.9000</td>\n",
       "    </tr>\n",
       "    <tr>\n",
       "      <th id=\"T_05737_level0_row1\" class=\"row_heading level0 row1\" >2000-06-15 17:30:00</th>\n",
       "      <td id=\"T_05737_row1_col0\" class=\"data row1 col0\" >14.9610</td>\n",
       "      <td id=\"T_05737_row1_col1\" class=\"data row1 col1\" >221.4270</td>\n",
       "      <td id=\"T_05737_row1_col2\" class=\"data row1 col2\" >5.3050</td>\n",
       "      <td id=\"T_05737_row1_col3\" class=\"data row1 col3\" >15.0500</td>\n",
       "      <td id=\"T_05737_row1_col4\" class=\"data row1 col4\" >255.1930</td>\n",
       "      <td id=\"T_05737_row1_col5\" class=\"data row1 col5\" >5.1020</td>\n",
       "    </tr>\n",
       "    <tr>\n",
       "      <th id=\"T_05737_level0_row2\" class=\"row_heading level0 row2\" >2000-06-15 18:00:00</th>\n",
       "      <td id=\"T_05737_row2_col0\" class=\"data row2 col0\" >14.8720</td>\n",
       "      <td id=\"T_05737_row2_col1\" class=\"data row2 col1\" >186.3800</td>\n",
       "      <td id=\"T_05737_row2_col2\" class=\"data row2 col2\" >5.5070</td>\n",
       "      <td id=\"T_05737_row2_col3\" class=\"data row2 col3\" >14.9610</td>\n",
       "      <td id=\"T_05737_row2_col4\" class=\"data row2 col4\" >221.4270</td>\n",
       "      <td id=\"T_05737_row2_col5\" class=\"data row2 col5\" >5.3050</td>\n",
       "    </tr>\n",
       "    <tr>\n",
       "      <th id=\"T_05737_level0_row3\" class=\"row_heading level0 row3\" >2000-06-15 18:30:00</th>\n",
       "      <td id=\"T_05737_row3_col0\" class=\"data row3 col0\" >14.7830</td>\n",
       "      <td id=\"T_05737_row3_col1\" class=\"data row3 col1\" >150.6500</td>\n",
       "      <td id=\"T_05737_row3_col2\" class=\"data row3 col2\" >5.7100</td>\n",
       "      <td id=\"T_05737_row3_col3\" class=\"data row3 col3\" >14.8720</td>\n",
       "      <td id=\"T_05737_row3_col4\" class=\"data row3 col4\" >186.3800</td>\n",
       "      <td id=\"T_05737_row3_col5\" class=\"data row3 col5\" >5.5070</td>\n",
       "    </tr>\n",
       "    <tr>\n",
       "      <th id=\"T_05737_level0_row4\" class=\"row_heading level0 row4\" >2000-06-15 19:00:00</th>\n",
       "      <td id=\"T_05737_row4_col0\" class=\"data row4 col0\" >14.6940</td>\n",
       "      <td id=\"T_05737_row4_col1\" class=\"data row4 col1\" >114.8490</td>\n",
       "      <td id=\"T_05737_row4_col2\" class=\"data row4 col2\" >5.9120</td>\n",
       "      <td id=\"T_05737_row4_col3\" class=\"data row4 col3\" >14.7830</td>\n",
       "      <td id=\"T_05737_row4_col4\" class=\"data row4 col4\" >150.6500</td>\n",
       "      <td id=\"T_05737_row4_col5\" class=\"data row4 col5\" >5.7100</td>\n",
       "    </tr>\n",
       "    <tr>\n",
       "      <th id=\"T_05737_level0_row5\" class=\"row_heading level0 row5\" >2000-06-15 19:30:00</th>\n",
       "      <td id=\"T_05737_row5_col0\" class=\"data row5 col0\" >14.6060</td>\n",
       "      <td id=\"T_05737_row5_col1\" class=\"data row5 col1\" >34.7280</td>\n",
       "      <td id=\"T_05737_row5_col2\" class=\"data row5 col2\" >6.1140</td>\n",
       "      <td id=\"T_05737_row5_col3\" class=\"data row5 col3\" >14.6940</td>\n",
       "      <td id=\"T_05737_row5_col4\" class=\"data row5 col4\" >114.8490</td>\n",
       "      <td id=\"T_05737_row5_col5\" class=\"data row5 col5\" >5.9120</td>\n",
       "    </tr>\n",
       "    <tr>\n",
       "      <th id=\"T_05737_level0_row6\" class=\"row_heading level0 row6\" >2000-06-15 20:00:00</th>\n",
       "      <td id=\"T_05737_row6_col0\" class=\"data row6 col0\" >14.3800</td>\n",
       "      <td id=\"T_05737_row6_col1\" class=\"data row6 col1\" >19.8430</td>\n",
       "      <td id=\"T_05737_row6_col2\" class=\"data row6 col2\" >6.0740</td>\n",
       "      <td id=\"T_05737_row6_col3\" class=\"data row6 col3\" >14.6060</td>\n",
       "      <td id=\"T_05737_row6_col4\" class=\"data row6 col4\" >34.7280</td>\n",
       "      <td id=\"T_05737_row6_col5\" class=\"data row6 col5\" >6.1140</td>\n",
       "    </tr>\n",
       "    <tr>\n",
       "      <th id=\"T_05737_level0_row7\" class=\"row_heading level0 row7\" >2000-06-15 20:30:00</th>\n",
       "      <td id=\"T_05737_row7_col0\" class=\"data row7 col0\" >14.1550</td>\n",
       "      <td id=\"T_05737_row7_col1\" class=\"data row7 col1\" >5.7120</td>\n",
       "      <td id=\"T_05737_row7_col2\" class=\"data row7 col2\" >6.0340</td>\n",
       "      <td id=\"T_05737_row7_col3\" class=\"data row7 col3\" >14.3800</td>\n",
       "      <td id=\"T_05737_row7_col4\" class=\"data row7 col4\" >19.8430</td>\n",
       "      <td id=\"T_05737_row7_col5\" class=\"data row7 col5\" >6.0740</td>\n",
       "    </tr>\n",
       "    <tr>\n",
       "      <th id=\"T_05737_level0_row8\" class=\"row_heading level0 row8\" >2000-06-15 21:00:00</th>\n",
       "      <td id=\"T_05737_row8_col0\" class=\"data row8 col0\" >13.9290</td>\n",
       "      <td id=\"T_05737_row8_col1\" class=\"data row8 col1\" >0.0000</td>\n",
       "      <td id=\"T_05737_row8_col2\" class=\"data row8 col2\" >5.9940</td>\n",
       "      <td id=\"T_05737_row8_col3\" class=\"data row8 col3\" >14.1550</td>\n",
       "      <td id=\"T_05737_row8_col4\" class=\"data row8 col4\" >5.7120</td>\n",
       "      <td id=\"T_05737_row8_col5\" class=\"data row8 col5\" >6.0340</td>\n",
       "    </tr>\n",
       "    <tr>\n",
       "      <th id=\"T_05737_level0_row9\" class=\"row_heading level0 row9\" >2000-06-15 21:30:00</th>\n",
       "      <td id=\"T_05737_row9_col0\" class=\"data row9 col0\" >13.7040</td>\n",
       "      <td id=\"T_05737_row9_col1\" class=\"data row9 col1\" >0.0000</td>\n",
       "      <td id=\"T_05737_row9_col2\" class=\"data row9 col2\" >5.9540</td>\n",
       "      <td id=\"T_05737_row9_col3\" class=\"data row9 col3\" >13.9290</td>\n",
       "      <td id=\"T_05737_row9_col4\" class=\"data row9 col4\" >0.0000</td>\n",
       "      <td id=\"T_05737_row9_col5\" class=\"data row9 col5\" >5.9940</td>\n",
       "    </tr>\n",
       "  </tbody>\n",
       "</table>\n",
       " </div></div>"
      ],
      "text/plain": [
       "__main__.MeteoImpDf(data=                        TA       SW_IN    VPD\n",
       "time                                         \n",
       "2000-06-15 17:00:00  14.22  224.800003  5.799\n",
       "2000-06-15 17:30:00  14.11  195.279999  6.577\n",
       "2000-06-15 18:00:00  14.23  244.169998  6.931\n",
       "2000-06-15 18:30:00  14.40  253.919998  7.286\n",
       "2000-06-15 19:00:00  14.09  177.309998  7.251\n",
       "2000-06-15 19:30:00  13.71   97.070000  6.683\n",
       "2000-06-15 20:00:00  13.08   39.709999  5.851\n",
       "2000-06-15 20:30:00  12.41   10.650000  5.254\n",
       "2000-06-15 21:00:00  12.27    0.320000  5.164\n",
       "2000-06-15 21:30:00  12.20    0.000000  5.037, mask=                       TA  SW_IN    VPD\n",
       "time                                   \n",
       "2000-06-15 17:00:00  True   True   True\n",
       "2000-06-15 17:30:00  True   True   True\n",
       "2000-06-15 18:00:00  True   True   True\n",
       "2000-06-15 18:30:00  True   True   True\n",
       "2000-06-15 19:00:00  True   True   True\n",
       "2000-06-15 19:30:00  True   True   True\n",
       "2000-06-15 20:00:00  True   True  False\n",
       "2000-06-15 20:30:00  True   True  False\n",
       "2000-06-15 21:00:00  True   True  False\n",
       "2000-06-15 21:30:00  True   True   True, control=                     TA_ERA   SW_IN_ERA  VPD_ERA  TA_ERA_lag_1  \\\n",
       "time                                                             \n",
       "2000-06-15 17:00:00  15.050  255.192993    5.102        15.139   \n",
       "2000-06-15 17:30:00  14.961  221.427002    5.305        15.050   \n",
       "2000-06-15 18:00:00  14.872  186.380005    5.507        14.961   \n",
       "2000-06-15 18:30:00  14.783  150.649994    5.710        14.872   \n",
       "2000-06-15 19:00:00  14.694  114.848999    5.912        14.783   \n",
       "2000-06-15 19:30:00  14.606   34.728001    6.114        14.694   \n",
       "2000-06-15 20:00:00  14.380   19.843000    6.074        14.606   \n",
       "2000-06-15 20:30:00  14.155    5.712000    6.034        14.380   \n",
       "2000-06-15 21:00:00  13.929    0.000000    5.994        14.155   \n",
       "2000-06-15 21:30:00  13.704    0.000000    5.954        13.929   \n",
       "\n",
       "                     SW_IN_ERA_lag_1  VPD_ERA_lag_1  \n",
       "time                                                 \n",
       "2000-06-15 17:00:00       287.100006          4.900  \n",
       "2000-06-15 17:30:00       255.192993          5.102  \n",
       "2000-06-15 18:00:00       221.427002          5.305  \n",
       "2000-06-15 18:30:00       186.380005          5.507  \n",
       "2000-06-15 19:00:00       150.649994          5.710  \n",
       "2000-06-15 19:30:00       114.848999          5.912  \n",
       "2000-06-15 20:00:00        34.728001          6.114  \n",
       "2000-06-15 20:30:00        19.843000          6.074  \n",
       "2000-06-15 21:00:00         5.712000          6.034  \n",
       "2000-06-15 21:30:00         0.000000          5.994  )"
      ]
     },
     "execution_count": null,
     "metadata": {},
     "output_type": "execute_result"
    }
   ],
   "source": [
    "a_gap2(tfms1[0])"
   ]
  },
  {
   "cell_type": "code",
   "execution_count": null,
   "id": "465aab96-5f68-49c4-94bd-8c4fe4d5e8de",
   "metadata": {},
   "outputs": [],
   "source": [
    "tfms2 = TfmdLists([800,801,802,803], [*tfms1.fs, AddGapTransform(['TA','SW_IN'], 2)])"
   ]
  },
  {
   "cell_type": "code",
   "execution_count": null,
   "id": "3292befc-b05d-441b-9404-7d1aa24d657d",
   "metadata": {},
   "outputs": [
    {
     "data": {
      "text/html": [
       "<p style='font-size: 1.5rem; font-decoration: bold'>Meteo Imp Df<p><div style=\"display: flex; column-gap: 20px; flex-wrap: wrap;\" class='table table-striped table-sm'> <div> <p style='font-size: 1.3rem;'>data</p> <style type=\"text/css\">\n",
       "</style>\n",
       "<table id=\"T_b539e\">\n",
       "  <thead>\n",
       "    <tr>\n",
       "      <th class=\"blank level0\" >&nbsp;</th>\n",
       "      <th id=\"T_b539e_level0_col0\" class=\"col_heading level0 col0\" >TA</th>\n",
       "      <th id=\"T_b539e_level0_col1\" class=\"col_heading level0 col1\" >SW_IN</th>\n",
       "      <th id=\"T_b539e_level0_col2\" class=\"col_heading level0 col2\" >VPD</th>\n",
       "    </tr>\n",
       "    <tr>\n",
       "      <th class=\"index_name level0\" >time</th>\n",
       "      <th class=\"blank col0\" >&nbsp;</th>\n",
       "      <th class=\"blank col1\" >&nbsp;</th>\n",
       "      <th class=\"blank col2\" >&nbsp;</th>\n",
       "    </tr>\n",
       "  </thead>\n",
       "  <tbody>\n",
       "    <tr>\n",
       "      <th id=\"T_b539e_level0_row0\" class=\"row_heading level0 row0\" >2000-06-15 17:00:00</th>\n",
       "      <td id=\"T_b539e_row0_col0\" class=\"data row0 col0\" >14.2200</td>\n",
       "      <td id=\"T_b539e_row0_col1\" class=\"data row0 col1\" >224.8000</td>\n",
       "      <td id=\"T_b539e_row0_col2\" class=\"data row0 col2\" >5.7990</td>\n",
       "    </tr>\n",
       "    <tr>\n",
       "      <th id=\"T_b539e_level0_row1\" class=\"row_heading level0 row1\" >2000-06-15 17:30:00</th>\n",
       "      <td id=\"T_b539e_row1_col0\" class=\"data row1 col0\" >14.1100</td>\n",
       "      <td id=\"T_b539e_row1_col1\" class=\"data row1 col1\" >195.2800</td>\n",
       "      <td id=\"T_b539e_row1_col2\" class=\"data row1 col2\" >6.5770</td>\n",
       "    </tr>\n",
       "    <tr>\n",
       "      <th id=\"T_b539e_level0_row2\" class=\"row_heading level0 row2\" >2000-06-15 18:00:00</th>\n",
       "      <td id=\"T_b539e_row2_col0\" class=\"data row2 col0\" >14.2300</td>\n",
       "      <td id=\"T_b539e_row2_col1\" class=\"data row2 col1\" >244.1700</td>\n",
       "      <td id=\"T_b539e_row2_col2\" class=\"data row2 col2\" >6.9310</td>\n",
       "    </tr>\n",
       "    <tr>\n",
       "      <th id=\"T_b539e_level0_row3\" class=\"row_heading level0 row3\" >2000-06-15 18:30:00</th>\n",
       "      <td id=\"T_b539e_row3_col0\" class=\"data row3 col0\" >14.4000</td>\n",
       "      <td id=\"T_b539e_row3_col1\" class=\"data row3 col1\" >253.9200</td>\n",
       "      <td id=\"T_b539e_row3_col2\" class=\"data row3 col2\" >7.2860</td>\n",
       "    </tr>\n",
       "    <tr>\n",
       "      <th id=\"T_b539e_level0_row4\" class=\"row_heading level0 row4\" >2000-06-15 19:00:00</th>\n",
       "      <td id=\"T_b539e_row4_col0\" class=\"data row4 col0\" >14.0900</td>\n",
       "      <td id=\"T_b539e_row4_col1\" class=\"data row4 col1\" >177.3100</td>\n",
       "      <td id=\"T_b539e_row4_col2\" class=\"data row4 col2\" >7.2510</td>\n",
       "    </tr>\n",
       "    <tr>\n",
       "      <th id=\"T_b539e_level0_row5\" class=\"row_heading level0 row5\" >2000-06-15 19:30:00</th>\n",
       "      <td id=\"T_b539e_row5_col0\" class=\"data row5 col0\" >13.7100</td>\n",
       "      <td id=\"T_b539e_row5_col1\" class=\"data row5 col1\" >97.0700</td>\n",
       "      <td id=\"T_b539e_row5_col2\" class=\"data row5 col2\" >6.6830</td>\n",
       "    </tr>\n",
       "    <tr>\n",
       "      <th id=\"T_b539e_level0_row6\" class=\"row_heading level0 row6\" >2000-06-15 20:00:00</th>\n",
       "      <td id=\"T_b539e_row6_col0\" class=\"data row6 col0\" >13.0800</td>\n",
       "      <td id=\"T_b539e_row6_col1\" class=\"data row6 col1\" >39.7100</td>\n",
       "      <td id=\"T_b539e_row6_col2\" class=\"data row6 col2\" >5.8510</td>\n",
       "    </tr>\n",
       "    <tr>\n",
       "      <th id=\"T_b539e_level0_row7\" class=\"row_heading level0 row7\" >2000-06-15 20:30:00</th>\n",
       "      <td id=\"T_b539e_row7_col0\" class=\"data row7 col0\" >12.4100</td>\n",
       "      <td id=\"T_b539e_row7_col1\" class=\"data row7 col1\" >10.6500</td>\n",
       "      <td id=\"T_b539e_row7_col2\" class=\"data row7 col2\" >5.2540</td>\n",
       "    </tr>\n",
       "    <tr>\n",
       "      <th id=\"T_b539e_level0_row8\" class=\"row_heading level0 row8\" >2000-06-15 21:00:00</th>\n",
       "      <td id=\"T_b539e_row8_col0\" class=\"data row8 col0\" >12.2700</td>\n",
       "      <td id=\"T_b539e_row8_col1\" class=\"data row8 col1\" >0.3200</td>\n",
       "      <td id=\"T_b539e_row8_col2\" class=\"data row8 col2\" >5.1640</td>\n",
       "    </tr>\n",
       "    <tr>\n",
       "      <th id=\"T_b539e_level0_row9\" class=\"row_heading level0 row9\" >2000-06-15 21:30:00</th>\n",
       "      <td id=\"T_b539e_row9_col0\" class=\"data row9 col0\" >12.2000</td>\n",
       "      <td id=\"T_b539e_row9_col1\" class=\"data row9 col1\" >0.0000</td>\n",
       "      <td id=\"T_b539e_row9_col2\" class=\"data row9 col2\" >5.0370</td>\n",
       "    </tr>\n",
       "  </tbody>\n",
       "</table>\n",
       " </div><div> <p style='font-size: 1.3rem;'>mask</p> <style type=\"text/css\">\n",
       "</style>\n",
       "<table id=\"T_20907\">\n",
       "  <thead>\n",
       "    <tr>\n",
       "      <th class=\"blank level0\" >&nbsp;</th>\n",
       "      <th id=\"T_20907_level0_col0\" class=\"col_heading level0 col0\" >TA</th>\n",
       "      <th id=\"T_20907_level0_col1\" class=\"col_heading level0 col1\" >SW_IN</th>\n",
       "      <th id=\"T_20907_level0_col2\" class=\"col_heading level0 col2\" >VPD</th>\n",
       "    </tr>\n",
       "    <tr>\n",
       "      <th class=\"index_name level0\" >time</th>\n",
       "      <th class=\"blank col0\" >&nbsp;</th>\n",
       "      <th class=\"blank col1\" >&nbsp;</th>\n",
       "      <th class=\"blank col2\" >&nbsp;</th>\n",
       "    </tr>\n",
       "  </thead>\n",
       "  <tbody>\n",
       "    <tr>\n",
       "      <th id=\"T_20907_level0_row0\" class=\"row_heading level0 row0\" >2000-06-15 17:00:00</th>\n",
       "      <td id=\"T_20907_row0_col0\" class=\"data row0 col0\" >True</td>\n",
       "      <td id=\"T_20907_row0_col1\" class=\"data row0 col1\" >True</td>\n",
       "      <td id=\"T_20907_row0_col2\" class=\"data row0 col2\" >True</td>\n",
       "    </tr>\n",
       "    <tr>\n",
       "      <th id=\"T_20907_level0_row1\" class=\"row_heading level0 row1\" >2000-06-15 17:30:00</th>\n",
       "      <td id=\"T_20907_row1_col0\" class=\"data row1 col0\" >True</td>\n",
       "      <td id=\"T_20907_row1_col1\" class=\"data row1 col1\" >True</td>\n",
       "      <td id=\"T_20907_row1_col2\" class=\"data row1 col2\" >True</td>\n",
       "    </tr>\n",
       "    <tr>\n",
       "      <th id=\"T_20907_level0_row2\" class=\"row_heading level0 row2\" >2000-06-15 18:00:00</th>\n",
       "      <td id=\"T_20907_row2_col0\" class=\"data row2 col0\" >True</td>\n",
       "      <td id=\"T_20907_row2_col1\" class=\"data row2 col1\" >True</td>\n",
       "      <td id=\"T_20907_row2_col2\" class=\"data row2 col2\" >True</td>\n",
       "    </tr>\n",
       "    <tr>\n",
       "      <th id=\"T_20907_level0_row3\" class=\"row_heading level0 row3\" >2000-06-15 18:30:00</th>\n",
       "      <td id=\"T_20907_row3_col0\" class=\"data row3 col0\" >False</td>\n",
       "      <td id=\"T_20907_row3_col1\" class=\"data row3 col1\" >False</td>\n",
       "      <td id=\"T_20907_row3_col2\" class=\"data row3 col2\" >True</td>\n",
       "    </tr>\n",
       "    <tr>\n",
       "      <th id=\"T_20907_level0_row4\" class=\"row_heading level0 row4\" >2000-06-15 19:00:00</th>\n",
       "      <td id=\"T_20907_row4_col0\" class=\"data row4 col0\" >False</td>\n",
       "      <td id=\"T_20907_row4_col1\" class=\"data row4 col1\" >False</td>\n",
       "      <td id=\"T_20907_row4_col2\" class=\"data row4 col2\" >True</td>\n",
       "    </tr>\n",
       "    <tr>\n",
       "      <th id=\"T_20907_level0_row5\" class=\"row_heading level0 row5\" >2000-06-15 19:30:00</th>\n",
       "      <td id=\"T_20907_row5_col0\" class=\"data row5 col0\" >True</td>\n",
       "      <td id=\"T_20907_row5_col1\" class=\"data row5 col1\" >True</td>\n",
       "      <td id=\"T_20907_row5_col2\" class=\"data row5 col2\" >True</td>\n",
       "    </tr>\n",
       "    <tr>\n",
       "      <th id=\"T_20907_level0_row6\" class=\"row_heading level0 row6\" >2000-06-15 20:00:00</th>\n",
       "      <td id=\"T_20907_row6_col0\" class=\"data row6 col0\" >True</td>\n",
       "      <td id=\"T_20907_row6_col1\" class=\"data row6 col1\" >True</td>\n",
       "      <td id=\"T_20907_row6_col2\" class=\"data row6 col2\" >True</td>\n",
       "    </tr>\n",
       "    <tr>\n",
       "      <th id=\"T_20907_level0_row7\" class=\"row_heading level0 row7\" >2000-06-15 20:30:00</th>\n",
       "      <td id=\"T_20907_row7_col0\" class=\"data row7 col0\" >True</td>\n",
       "      <td id=\"T_20907_row7_col1\" class=\"data row7 col1\" >True</td>\n",
       "      <td id=\"T_20907_row7_col2\" class=\"data row7 col2\" >True</td>\n",
       "    </tr>\n",
       "    <tr>\n",
       "      <th id=\"T_20907_level0_row8\" class=\"row_heading level0 row8\" >2000-06-15 21:00:00</th>\n",
       "      <td id=\"T_20907_row8_col0\" class=\"data row8 col0\" >True</td>\n",
       "      <td id=\"T_20907_row8_col1\" class=\"data row8 col1\" >True</td>\n",
       "      <td id=\"T_20907_row8_col2\" class=\"data row8 col2\" >True</td>\n",
       "    </tr>\n",
       "    <tr>\n",
       "      <th id=\"T_20907_level0_row9\" class=\"row_heading level0 row9\" >2000-06-15 21:30:00</th>\n",
       "      <td id=\"T_20907_row9_col0\" class=\"data row9 col0\" >True</td>\n",
       "      <td id=\"T_20907_row9_col1\" class=\"data row9 col1\" >True</td>\n",
       "      <td id=\"T_20907_row9_col2\" class=\"data row9 col2\" >True</td>\n",
       "    </tr>\n",
       "  </tbody>\n",
       "</table>\n",
       " </div><div> <p style='font-size: 1.3rem;'>control</p> <style type=\"text/css\">\n",
       "</style>\n",
       "<table id=\"T_b6219\">\n",
       "  <thead>\n",
       "    <tr>\n",
       "      <th class=\"blank level0\" >&nbsp;</th>\n",
       "      <th id=\"T_b6219_level0_col0\" class=\"col_heading level0 col0\" >TA_ERA</th>\n",
       "      <th id=\"T_b6219_level0_col1\" class=\"col_heading level0 col1\" >SW_IN_ERA</th>\n",
       "      <th id=\"T_b6219_level0_col2\" class=\"col_heading level0 col2\" >VPD_ERA</th>\n",
       "      <th id=\"T_b6219_level0_col3\" class=\"col_heading level0 col3\" >TA_ERA_lag_1</th>\n",
       "      <th id=\"T_b6219_level0_col4\" class=\"col_heading level0 col4\" >SW_IN_ERA_lag_1</th>\n",
       "      <th id=\"T_b6219_level0_col5\" class=\"col_heading level0 col5\" >VPD_ERA_lag_1</th>\n",
       "    </tr>\n",
       "    <tr>\n",
       "      <th class=\"index_name level0\" >time</th>\n",
       "      <th class=\"blank col0\" >&nbsp;</th>\n",
       "      <th class=\"blank col1\" >&nbsp;</th>\n",
       "      <th class=\"blank col2\" >&nbsp;</th>\n",
       "      <th class=\"blank col3\" >&nbsp;</th>\n",
       "      <th class=\"blank col4\" >&nbsp;</th>\n",
       "      <th class=\"blank col5\" >&nbsp;</th>\n",
       "    </tr>\n",
       "  </thead>\n",
       "  <tbody>\n",
       "    <tr>\n",
       "      <th id=\"T_b6219_level0_row0\" class=\"row_heading level0 row0\" >2000-06-15 17:00:00</th>\n",
       "      <td id=\"T_b6219_row0_col0\" class=\"data row0 col0\" >15.0500</td>\n",
       "      <td id=\"T_b6219_row0_col1\" class=\"data row0 col1\" >255.1930</td>\n",
       "      <td id=\"T_b6219_row0_col2\" class=\"data row0 col2\" >5.1020</td>\n",
       "      <td id=\"T_b6219_row0_col3\" class=\"data row0 col3\" >15.1390</td>\n",
       "      <td id=\"T_b6219_row0_col4\" class=\"data row0 col4\" >287.1000</td>\n",
       "      <td id=\"T_b6219_row0_col5\" class=\"data row0 col5\" >4.9000</td>\n",
       "    </tr>\n",
       "    <tr>\n",
       "      <th id=\"T_b6219_level0_row1\" class=\"row_heading level0 row1\" >2000-06-15 17:30:00</th>\n",
       "      <td id=\"T_b6219_row1_col0\" class=\"data row1 col0\" >14.9610</td>\n",
       "      <td id=\"T_b6219_row1_col1\" class=\"data row1 col1\" >221.4270</td>\n",
       "      <td id=\"T_b6219_row1_col2\" class=\"data row1 col2\" >5.3050</td>\n",
       "      <td id=\"T_b6219_row1_col3\" class=\"data row1 col3\" >15.0500</td>\n",
       "      <td id=\"T_b6219_row1_col4\" class=\"data row1 col4\" >255.1930</td>\n",
       "      <td id=\"T_b6219_row1_col5\" class=\"data row1 col5\" >5.1020</td>\n",
       "    </tr>\n",
       "    <tr>\n",
       "      <th id=\"T_b6219_level0_row2\" class=\"row_heading level0 row2\" >2000-06-15 18:00:00</th>\n",
       "      <td id=\"T_b6219_row2_col0\" class=\"data row2 col0\" >14.8720</td>\n",
       "      <td id=\"T_b6219_row2_col1\" class=\"data row2 col1\" >186.3800</td>\n",
       "      <td id=\"T_b6219_row2_col2\" class=\"data row2 col2\" >5.5070</td>\n",
       "      <td id=\"T_b6219_row2_col3\" class=\"data row2 col3\" >14.9610</td>\n",
       "      <td id=\"T_b6219_row2_col4\" class=\"data row2 col4\" >221.4270</td>\n",
       "      <td id=\"T_b6219_row2_col5\" class=\"data row2 col5\" >5.3050</td>\n",
       "    </tr>\n",
       "    <tr>\n",
       "      <th id=\"T_b6219_level0_row3\" class=\"row_heading level0 row3\" >2000-06-15 18:30:00</th>\n",
       "      <td id=\"T_b6219_row3_col0\" class=\"data row3 col0\" >14.7830</td>\n",
       "      <td id=\"T_b6219_row3_col1\" class=\"data row3 col1\" >150.6500</td>\n",
       "      <td id=\"T_b6219_row3_col2\" class=\"data row3 col2\" >5.7100</td>\n",
       "      <td id=\"T_b6219_row3_col3\" class=\"data row3 col3\" >14.8720</td>\n",
       "      <td id=\"T_b6219_row3_col4\" class=\"data row3 col4\" >186.3800</td>\n",
       "      <td id=\"T_b6219_row3_col5\" class=\"data row3 col5\" >5.5070</td>\n",
       "    </tr>\n",
       "    <tr>\n",
       "      <th id=\"T_b6219_level0_row4\" class=\"row_heading level0 row4\" >2000-06-15 19:00:00</th>\n",
       "      <td id=\"T_b6219_row4_col0\" class=\"data row4 col0\" >14.6940</td>\n",
       "      <td id=\"T_b6219_row4_col1\" class=\"data row4 col1\" >114.8490</td>\n",
       "      <td id=\"T_b6219_row4_col2\" class=\"data row4 col2\" >5.9120</td>\n",
       "      <td id=\"T_b6219_row4_col3\" class=\"data row4 col3\" >14.7830</td>\n",
       "      <td id=\"T_b6219_row4_col4\" class=\"data row4 col4\" >150.6500</td>\n",
       "      <td id=\"T_b6219_row4_col5\" class=\"data row4 col5\" >5.7100</td>\n",
       "    </tr>\n",
       "    <tr>\n",
       "      <th id=\"T_b6219_level0_row5\" class=\"row_heading level0 row5\" >2000-06-15 19:30:00</th>\n",
       "      <td id=\"T_b6219_row5_col0\" class=\"data row5 col0\" >14.6060</td>\n",
       "      <td id=\"T_b6219_row5_col1\" class=\"data row5 col1\" >34.7280</td>\n",
       "      <td id=\"T_b6219_row5_col2\" class=\"data row5 col2\" >6.1140</td>\n",
       "      <td id=\"T_b6219_row5_col3\" class=\"data row5 col3\" >14.6940</td>\n",
       "      <td id=\"T_b6219_row5_col4\" class=\"data row5 col4\" >114.8490</td>\n",
       "      <td id=\"T_b6219_row5_col5\" class=\"data row5 col5\" >5.9120</td>\n",
       "    </tr>\n",
       "    <tr>\n",
       "      <th id=\"T_b6219_level0_row6\" class=\"row_heading level0 row6\" >2000-06-15 20:00:00</th>\n",
       "      <td id=\"T_b6219_row6_col0\" class=\"data row6 col0\" >14.3800</td>\n",
       "      <td id=\"T_b6219_row6_col1\" class=\"data row6 col1\" >19.8430</td>\n",
       "      <td id=\"T_b6219_row6_col2\" class=\"data row6 col2\" >6.0740</td>\n",
       "      <td id=\"T_b6219_row6_col3\" class=\"data row6 col3\" >14.6060</td>\n",
       "      <td id=\"T_b6219_row6_col4\" class=\"data row6 col4\" >34.7280</td>\n",
       "      <td id=\"T_b6219_row6_col5\" class=\"data row6 col5\" >6.1140</td>\n",
       "    </tr>\n",
       "    <tr>\n",
       "      <th id=\"T_b6219_level0_row7\" class=\"row_heading level0 row7\" >2000-06-15 20:30:00</th>\n",
       "      <td id=\"T_b6219_row7_col0\" class=\"data row7 col0\" >14.1550</td>\n",
       "      <td id=\"T_b6219_row7_col1\" class=\"data row7 col1\" >5.7120</td>\n",
       "      <td id=\"T_b6219_row7_col2\" class=\"data row7 col2\" >6.0340</td>\n",
       "      <td id=\"T_b6219_row7_col3\" class=\"data row7 col3\" >14.3800</td>\n",
       "      <td id=\"T_b6219_row7_col4\" class=\"data row7 col4\" >19.8430</td>\n",
       "      <td id=\"T_b6219_row7_col5\" class=\"data row7 col5\" >6.0740</td>\n",
       "    </tr>\n",
       "    <tr>\n",
       "      <th id=\"T_b6219_level0_row8\" class=\"row_heading level0 row8\" >2000-06-15 21:00:00</th>\n",
       "      <td id=\"T_b6219_row8_col0\" class=\"data row8 col0\" >13.9290</td>\n",
       "      <td id=\"T_b6219_row8_col1\" class=\"data row8 col1\" >0.0000</td>\n",
       "      <td id=\"T_b6219_row8_col2\" class=\"data row8 col2\" >5.9940</td>\n",
       "      <td id=\"T_b6219_row8_col3\" class=\"data row8 col3\" >14.1550</td>\n",
       "      <td id=\"T_b6219_row8_col4\" class=\"data row8 col4\" >5.7120</td>\n",
       "      <td id=\"T_b6219_row8_col5\" class=\"data row8 col5\" >6.0340</td>\n",
       "    </tr>\n",
       "    <tr>\n",
       "      <th id=\"T_b6219_level0_row9\" class=\"row_heading level0 row9\" >2000-06-15 21:30:00</th>\n",
       "      <td id=\"T_b6219_row9_col0\" class=\"data row9 col0\" >13.7040</td>\n",
       "      <td id=\"T_b6219_row9_col1\" class=\"data row9 col1\" >0.0000</td>\n",
       "      <td id=\"T_b6219_row9_col2\" class=\"data row9 col2\" >5.9540</td>\n",
       "      <td id=\"T_b6219_row9_col3\" class=\"data row9 col3\" >13.9290</td>\n",
       "      <td id=\"T_b6219_row9_col4\" class=\"data row9 col4\" >0.0000</td>\n",
       "      <td id=\"T_b6219_row9_col5\" class=\"data row9 col5\" >5.9940</td>\n",
       "    </tr>\n",
       "  </tbody>\n",
       "</table>\n",
       " </div></div>"
      ],
      "text/plain": [
       "__main__.MeteoImpDf(data=                        TA       SW_IN    VPD\n",
       "time                                         \n",
       "2000-06-15 17:00:00  14.22  224.800003  5.799\n",
       "2000-06-15 17:30:00  14.11  195.279999  6.577\n",
       "2000-06-15 18:00:00  14.23  244.169998  6.931\n",
       "2000-06-15 18:30:00  14.40  253.919998  7.286\n",
       "2000-06-15 19:00:00  14.09  177.309998  7.251\n",
       "2000-06-15 19:30:00  13.71   97.070000  6.683\n",
       "2000-06-15 20:00:00  13.08   39.709999  5.851\n",
       "2000-06-15 20:30:00  12.41   10.650000  5.254\n",
       "2000-06-15 21:00:00  12.27    0.320000  5.164\n",
       "2000-06-15 21:30:00  12.20    0.000000  5.037, mask=                        TA  SW_IN   VPD\n",
       "time                                   \n",
       "2000-06-15 17:00:00   True   True  True\n",
       "2000-06-15 17:30:00   True   True  True\n",
       "2000-06-15 18:00:00   True   True  True\n",
       "2000-06-15 18:30:00  False  False  True\n",
       "2000-06-15 19:00:00  False  False  True\n",
       "2000-06-15 19:30:00   True   True  True\n",
       "2000-06-15 20:00:00   True   True  True\n",
       "2000-06-15 20:30:00   True   True  True\n",
       "2000-06-15 21:00:00   True   True  True\n",
       "2000-06-15 21:30:00   True   True  True, control=                     TA_ERA   SW_IN_ERA  VPD_ERA  TA_ERA_lag_1  \\\n",
       "time                                                             \n",
       "2000-06-15 17:00:00  15.050  255.192993    5.102        15.139   \n",
       "2000-06-15 17:30:00  14.961  221.427002    5.305        15.050   \n",
       "2000-06-15 18:00:00  14.872  186.380005    5.507        14.961   \n",
       "2000-06-15 18:30:00  14.783  150.649994    5.710        14.872   \n",
       "2000-06-15 19:00:00  14.694  114.848999    5.912        14.783   \n",
       "2000-06-15 19:30:00  14.606   34.728001    6.114        14.694   \n",
       "2000-06-15 20:00:00  14.380   19.843000    6.074        14.606   \n",
       "2000-06-15 20:30:00  14.155    5.712000    6.034        14.380   \n",
       "2000-06-15 21:00:00  13.929    0.000000    5.994        14.155   \n",
       "2000-06-15 21:30:00  13.704    0.000000    5.954        13.929   \n",
       "\n",
       "                     SW_IN_ERA_lag_1  VPD_ERA_lag_1  \n",
       "time                                                 \n",
       "2000-06-15 17:00:00       287.100006          4.900  \n",
       "2000-06-15 17:30:00       255.192993          5.102  \n",
       "2000-06-15 18:00:00       221.427002          5.305  \n",
       "2000-06-15 18:30:00       186.380005          5.507  \n",
       "2000-06-15 19:00:00       150.649994          5.710  \n",
       "2000-06-15 19:30:00       114.848999          5.912  \n",
       "2000-06-15 20:00:00        34.728001          6.114  \n",
       "2000-06-15 20:30:00        19.843000          6.074  \n",
       "2000-06-15 21:00:00         5.712000          6.034  \n",
       "2000-06-15 21:30:00         0.000000          5.994  )"
      ]
     },
     "execution_count": null,
     "metadata": {},
     "output_type": "execute_result"
    }
   ],
   "source": [
    "tfms2[0]"
   ]
  },
  {
   "cell_type": "code",
   "execution_count": null,
   "id": "2f3cccff-2b4f-4817-9807-4d833f9f8b52",
   "metadata": {},
   "outputs": [],
   "source": [
    "m_df = tfms2[0]"
   ]
  },
  {
   "cell_type": "code",
   "execution_count": null,
   "id": "5952ccff-6433-48ca-8940-6ea872927cdc",
   "metadata": {},
   "outputs": [],
   "source": [
    "#| export\n",
    "@patch\n",
    "def tidy(self: MeteoImpDf):\n",
    "    data = self.data.reset_index().melt(\"time\")\n",
    "    mask = self.mask.reset_index().melt(\"time\", value_name=\"is_present\")\n",
    "    \n",
    "    return pd.merge(data, mask, on=[\"time\", \"variable\"])"
   ]
  },
  {
   "cell_type": "code",
   "execution_count": null,
   "id": "c601c37c-a032-4edb-a522-50ce0af7b87d",
   "metadata": {},
   "outputs": [
    {
     "data": {
      "text/html": [
       "<div>\n",
       "<style scoped>\n",
       "    .dataframe tbody tr th:only-of-type {\n",
       "        vertical-align: middle;\n",
       "    }\n",
       "\n",
       "    .dataframe tbody tr th {\n",
       "        vertical-align: top;\n",
       "    }\n",
       "\n",
       "    .dataframe thead th {\n",
       "        text-align: right;\n",
       "    }\n",
       "</style>\n",
       "<table border=\"1\" class=\"dataframe\">\n",
       "  <thead>\n",
       "    <tr style=\"text-align: right;\">\n",
       "      <th></th>\n",
       "      <th>time</th>\n",
       "      <th>variable</th>\n",
       "      <th>value</th>\n",
       "      <th>is_present</th>\n",
       "    </tr>\n",
       "  </thead>\n",
       "  <tbody>\n",
       "    <tr>\n",
       "      <th>0</th>\n",
       "      <td>2000-06-15 17:00:00</td>\n",
       "      <td>TA</td>\n",
       "      <td>14.220000</td>\n",
       "      <td>True</td>\n",
       "    </tr>\n",
       "    <tr>\n",
       "      <th>1</th>\n",
       "      <td>2000-06-15 17:30:00</td>\n",
       "      <td>TA</td>\n",
       "      <td>14.110000</td>\n",
       "      <td>False</td>\n",
       "    </tr>\n",
       "    <tr>\n",
       "      <th>2</th>\n",
       "      <td>2000-06-15 18:00:00</td>\n",
       "      <td>TA</td>\n",
       "      <td>14.230000</td>\n",
       "      <td>False</td>\n",
       "    </tr>\n",
       "    <tr>\n",
       "      <th>3</th>\n",
       "      <td>2000-06-15 18:30:00</td>\n",
       "      <td>TA</td>\n",
       "      <td>14.400000</td>\n",
       "      <td>True</td>\n",
       "    </tr>\n",
       "    <tr>\n",
       "      <th>4</th>\n",
       "      <td>2000-06-15 19:00:00</td>\n",
       "      <td>TA</td>\n",
       "      <td>14.090000</td>\n",
       "      <td>True</td>\n",
       "    </tr>\n",
       "    <tr>\n",
       "      <th>5</th>\n",
       "      <td>2000-06-15 19:30:00</td>\n",
       "      <td>TA</td>\n",
       "      <td>13.710000</td>\n",
       "      <td>True</td>\n",
       "    </tr>\n",
       "    <tr>\n",
       "      <th>6</th>\n",
       "      <td>2000-06-15 20:00:00</td>\n",
       "      <td>TA</td>\n",
       "      <td>13.080000</td>\n",
       "      <td>True</td>\n",
       "    </tr>\n",
       "    <tr>\n",
       "      <th>7</th>\n",
       "      <td>2000-06-15 20:30:00</td>\n",
       "      <td>TA</td>\n",
       "      <td>12.410000</td>\n",
       "      <td>True</td>\n",
       "    </tr>\n",
       "    <tr>\n",
       "      <th>8</th>\n",
       "      <td>2000-06-15 21:00:00</td>\n",
       "      <td>TA</td>\n",
       "      <td>12.270000</td>\n",
       "      <td>True</td>\n",
       "    </tr>\n",
       "    <tr>\n",
       "      <th>9</th>\n",
       "      <td>2000-06-15 21:30:00</td>\n",
       "      <td>TA</td>\n",
       "      <td>12.200000</td>\n",
       "      <td>True</td>\n",
       "    </tr>\n",
       "    <tr>\n",
       "      <th>10</th>\n",
       "      <td>2000-06-15 17:00:00</td>\n",
       "      <td>SW_IN</td>\n",
       "      <td>224.800003</td>\n",
       "      <td>True</td>\n",
       "    </tr>\n",
       "    <tr>\n",
       "      <th>11</th>\n",
       "      <td>2000-06-15 17:30:00</td>\n",
       "      <td>SW_IN</td>\n",
       "      <td>195.279999</td>\n",
       "      <td>False</td>\n",
       "    </tr>\n",
       "    <tr>\n",
       "      <th>12</th>\n",
       "      <td>2000-06-15 18:00:00</td>\n",
       "      <td>SW_IN</td>\n",
       "      <td>244.169998</td>\n",
       "      <td>False</td>\n",
       "    </tr>\n",
       "    <tr>\n",
       "      <th>13</th>\n",
       "      <td>2000-06-15 18:30:00</td>\n",
       "      <td>SW_IN</td>\n",
       "      <td>253.919998</td>\n",
       "      <td>True</td>\n",
       "    </tr>\n",
       "    <tr>\n",
       "      <th>14</th>\n",
       "      <td>2000-06-15 19:00:00</td>\n",
       "      <td>SW_IN</td>\n",
       "      <td>177.309998</td>\n",
       "      <td>True</td>\n",
       "    </tr>\n",
       "    <tr>\n",
       "      <th>15</th>\n",
       "      <td>2000-06-15 19:30:00</td>\n",
       "      <td>SW_IN</td>\n",
       "      <td>97.070000</td>\n",
       "      <td>True</td>\n",
       "    </tr>\n",
       "    <tr>\n",
       "      <th>16</th>\n",
       "      <td>2000-06-15 20:00:00</td>\n",
       "      <td>SW_IN</td>\n",
       "      <td>39.709999</td>\n",
       "      <td>True</td>\n",
       "    </tr>\n",
       "    <tr>\n",
       "      <th>17</th>\n",
       "      <td>2000-06-15 20:30:00</td>\n",
       "      <td>SW_IN</td>\n",
       "      <td>10.650000</td>\n",
       "      <td>True</td>\n",
       "    </tr>\n",
       "    <tr>\n",
       "      <th>18</th>\n",
       "      <td>2000-06-15 21:00:00</td>\n",
       "      <td>SW_IN</td>\n",
       "      <td>0.320000</td>\n",
       "      <td>True</td>\n",
       "    </tr>\n",
       "    <tr>\n",
       "      <th>19</th>\n",
       "      <td>2000-06-15 21:30:00</td>\n",
       "      <td>SW_IN</td>\n",
       "      <td>0.000000</td>\n",
       "      <td>True</td>\n",
       "    </tr>\n",
       "    <tr>\n",
       "      <th>20</th>\n",
       "      <td>2000-06-15 17:00:00</td>\n",
       "      <td>VPD</td>\n",
       "      <td>5.799000</td>\n",
       "      <td>True</td>\n",
       "    </tr>\n",
       "    <tr>\n",
       "      <th>21</th>\n",
       "      <td>2000-06-15 17:30:00</td>\n",
       "      <td>VPD</td>\n",
       "      <td>6.577000</td>\n",
       "      <td>True</td>\n",
       "    </tr>\n",
       "    <tr>\n",
       "      <th>22</th>\n",
       "      <td>2000-06-15 18:00:00</td>\n",
       "      <td>VPD</td>\n",
       "      <td>6.931000</td>\n",
       "      <td>True</td>\n",
       "    </tr>\n",
       "    <tr>\n",
       "      <th>23</th>\n",
       "      <td>2000-06-15 18:30:00</td>\n",
       "      <td>VPD</td>\n",
       "      <td>7.286000</td>\n",
       "      <td>True</td>\n",
       "    </tr>\n",
       "    <tr>\n",
       "      <th>24</th>\n",
       "      <td>2000-06-15 19:00:00</td>\n",
       "      <td>VPD</td>\n",
       "      <td>7.251000</td>\n",
       "      <td>True</td>\n",
       "    </tr>\n",
       "    <tr>\n",
       "      <th>25</th>\n",
       "      <td>2000-06-15 19:30:00</td>\n",
       "      <td>VPD</td>\n",
       "      <td>6.683000</td>\n",
       "      <td>True</td>\n",
       "    </tr>\n",
       "    <tr>\n",
       "      <th>26</th>\n",
       "      <td>2000-06-15 20:00:00</td>\n",
       "      <td>VPD</td>\n",
       "      <td>5.851000</td>\n",
       "      <td>True</td>\n",
       "    </tr>\n",
       "    <tr>\n",
       "      <th>27</th>\n",
       "      <td>2000-06-15 20:30:00</td>\n",
       "      <td>VPD</td>\n",
       "      <td>5.254000</td>\n",
       "      <td>True</td>\n",
       "    </tr>\n",
       "    <tr>\n",
       "      <th>28</th>\n",
       "      <td>2000-06-15 21:00:00</td>\n",
       "      <td>VPD</td>\n",
       "      <td>5.164000</td>\n",
       "      <td>True</td>\n",
       "    </tr>\n",
       "    <tr>\n",
       "      <th>29</th>\n",
       "      <td>2000-06-15 21:30:00</td>\n",
       "      <td>VPD</td>\n",
       "      <td>5.037000</td>\n",
       "      <td>True</td>\n",
       "    </tr>\n",
       "  </tbody>\n",
       "</table>\n",
       "</div>"
      ],
      "text/plain": [
       "                  time variable       value  is_present\n",
       "0  2000-06-15 17:00:00       TA   14.220000        True\n",
       "1  2000-06-15 17:30:00       TA   14.110000       False\n",
       "2  2000-06-15 18:00:00       TA   14.230000       False\n",
       "3  2000-06-15 18:30:00       TA   14.400000        True\n",
       "4  2000-06-15 19:00:00       TA   14.090000        True\n",
       "5  2000-06-15 19:30:00       TA   13.710000        True\n",
       "6  2000-06-15 20:00:00       TA   13.080000        True\n",
       "7  2000-06-15 20:30:00       TA   12.410000        True\n",
       "8  2000-06-15 21:00:00       TA   12.270000        True\n",
       "9  2000-06-15 21:30:00       TA   12.200000        True\n",
       "10 2000-06-15 17:00:00    SW_IN  224.800003        True\n",
       "11 2000-06-15 17:30:00    SW_IN  195.279999       False\n",
       "12 2000-06-15 18:00:00    SW_IN  244.169998       False\n",
       "13 2000-06-15 18:30:00    SW_IN  253.919998        True\n",
       "14 2000-06-15 19:00:00    SW_IN  177.309998        True\n",
       "15 2000-06-15 19:30:00    SW_IN   97.070000        True\n",
       "16 2000-06-15 20:00:00    SW_IN   39.709999        True\n",
       "17 2000-06-15 20:30:00    SW_IN   10.650000        True\n",
       "18 2000-06-15 21:00:00    SW_IN    0.320000        True\n",
       "19 2000-06-15 21:30:00    SW_IN    0.000000        True\n",
       "20 2000-06-15 17:00:00      VPD    5.799000        True\n",
       "21 2000-06-15 17:30:00      VPD    6.577000        True\n",
       "22 2000-06-15 18:00:00      VPD    6.931000        True\n",
       "23 2000-06-15 18:30:00      VPD    7.286000        True\n",
       "24 2000-06-15 19:00:00      VPD    7.251000        True\n",
       "25 2000-06-15 19:30:00      VPD    6.683000        True\n",
       "26 2000-06-15 20:00:00      VPD    5.851000        True\n",
       "27 2000-06-15 20:30:00      VPD    5.254000        True\n",
       "28 2000-06-15 21:00:00      VPD    5.164000        True\n",
       "29 2000-06-15 21:30:00      VPD    5.037000        True"
      ]
     },
     "execution_count": null,
     "metadata": {},
     "output_type": "execute_result"
    }
   ],
   "source": [
    "m_df.tidy()"
   ]
  },
  {
   "cell_type": "markdown",
   "id": "9d2c8fbc-f1e1-4938-b4a6-d29d8bd8e6bd",
   "metadata": {},
   "source": [
    "#### Plotting"
   ]
  },
  {
   "cell_type": "code",
   "execution_count": null,
   "id": "f36f4825-52e4-49c7-92f1-14d64429e3ea",
   "metadata": {},
   "outputs": [],
   "source": [
    "#| export\n",
    "import altair as alt\n",
    "from altair import datum"
   ]
  },
  {
   "cell_type": "code",
   "execution_count": null,
   "id": "51544d62-63ca-4e6c-b63e-943cc739fa5b",
   "metadata": {},
   "outputs": [],
   "source": [
    "#| exporti\n",
    "def def_selection():\n",
    "    return alt.selection_interval(bind=\"scales\")"
   ]
  },
  {
   "cell_type": "markdown",
   "id": "fb225f9b-770d-4d41-941d-08c32cd65927",
   "metadata": {},
   "source": [
    "##### Rug"
   ]
  },
  {
   "cell_type": "code",
   "execution_count": null,
   "id": "7f1e483f-f250-4baf-82ee-3958f5cefba8",
   "metadata": {},
   "outputs": [],
   "source": [
    "#| exporti\n",
    "def plot_rug(df, sel = def_selection(), props = {}):\n",
    "    if 'height' in props:\n",
    "        props = props.copy() \n",
    "        props.pop('height') # rug should have default heigth\n",
    "    return alt.Chart(df).mark_tick(\n",
    "            color='black',\n",
    "        ).encode(\n",
    "            x = \"time\",\n",
    "            color = alt.condition(datum.is_present, alt.value('white'), alt.value('black'))\n",
    "        ).add_params(\n",
    "            sel\n",
    "        ).properties(**props) "
   ]
  },
  {
   "cell_type": "code",
   "execution_count": null,
   "id": "f9668bee-f4dd-48e6-92cd-4b96f1f3626e",
   "metadata": {},
   "outputs": [
    {
     "data": {
      "text/html": [
       "\n",
       "<div id=\"altair-viz-d4f7fad3303848bf84e665428a5e57db\"></div>\n",
       "<script type=\"text/javascript\">\n",
       "  var VEGA_DEBUG = (typeof VEGA_DEBUG == \"undefined\") ? {} : VEGA_DEBUG;\n",
       "  (function(spec, embedOpt){\n",
       "    let outputDiv = document.currentScript.previousElementSibling;\n",
       "    if (outputDiv.id !== \"altair-viz-d4f7fad3303848bf84e665428a5e57db\") {\n",
       "      outputDiv = document.getElementById(\"altair-viz-d4f7fad3303848bf84e665428a5e57db\");\n",
       "    }\n",
       "    const paths = {\n",
       "      \"vega\": \"https://cdn.jsdelivr.net/npm//vega@5?noext\",\n",
       "      \"vega-lib\": \"https://cdn.jsdelivr.net/npm//vega-lib?noext\",\n",
       "      \"vega-lite\": \"https://cdn.jsdelivr.net/npm//vega-lite@5.2.0?noext\",\n",
       "      \"vega-embed\": \"https://cdn.jsdelivr.net/npm//vega-embed@6?noext\",\n",
       "    };\n",
       "\n",
       "    function maybeLoadScript(lib, version) {\n",
       "      var key = `${lib.replace(\"-\", \"\")}_version`;\n",
       "      return (VEGA_DEBUG[key] == version) ?\n",
       "        Promise.resolve(paths[lib]) :\n",
       "        new Promise(function(resolve, reject) {\n",
       "          var s = document.createElement('script');\n",
       "          document.getElementsByTagName(\"head\")[0].appendChild(s);\n",
       "          s.async = true;\n",
       "          s.onload = () => {\n",
       "            VEGA_DEBUG[key] = version;\n",
       "            return resolve(paths[lib]);\n",
       "          };\n",
       "          s.onerror = () => reject(`Error loading script: ${paths[lib]}`);\n",
       "          s.src = paths[lib];\n",
       "        });\n",
       "    }\n",
       "\n",
       "    function showError(err) {\n",
       "      outputDiv.innerHTML = `<div class=\"error\" style=\"color:red;\">${err}</div>`;\n",
       "      throw err;\n",
       "    }\n",
       "\n",
       "    function displayChart(vegaEmbed) {\n",
       "      vegaEmbed(outputDiv, spec, embedOpt)\n",
       "        .catch(err => showError(`Javascript Error: ${err.message}<br>This usually means there's a typo in your chart specification. See the javascript console for the full traceback.`));\n",
       "    }\n",
       "\n",
       "    if(typeof define === \"function\" && define.amd) {\n",
       "      requirejs.config({paths});\n",
       "      require([\"vega-embed\"], displayChart, err => showError(`Error loading script: ${err.message}`));\n",
       "    } else {\n",
       "      maybeLoadScript(\"vega\", \"5\")\n",
       "        .then(() => maybeLoadScript(\"vega-lite\", \"5.2.0\"))\n",
       "        .then(() => maybeLoadScript(\"vega-embed\", \"6\"))\n",
       "        .catch(showError)\n",
       "        .then(() => displayChart(vegaEmbed));\n",
       "    }\n",
       "  })({\"config\": {\"view\": {\"continuousWidth\": 400, \"continuousHeight\": 300}}, \"data\": {\"name\": \"data-3db2996ac3d1e25158d36823c9230040\"}, \"mark\": {\"type\": \"tick\", \"color\": \"black\"}, \"encoding\": {\"color\": {\"condition\": {\"value\": \"white\", \"test\": \"datum.is_present\"}, \"value\": \"black\"}, \"x\": {\"field\": \"time\", \"type\": \"temporal\"}}, \"params\": [{\"name\": \"param_1\", \"select\": {\"type\": \"interval\"}, \"bind\": \"scales\"}], \"$schema\": \"https://vega.github.io/schema/vega-lite/v5.2.0.json\", \"datasets\": {\"data-3db2996ac3d1e25158d36823c9230040\": [{\"time\": \"2000-06-15T17:00:00\", \"variable\": \"TA\", \"value\": 14.220000267028809, \"is_present\": true}, {\"time\": \"2000-06-15T17:30:00\", \"variable\": \"TA\", \"value\": 14.109999656677246, \"is_present\": false}, {\"time\": \"2000-06-15T18:00:00\", \"variable\": \"TA\", \"value\": 14.229999542236328, \"is_present\": false}, {\"time\": \"2000-06-15T18:30:00\", \"variable\": \"TA\", \"value\": 14.399999618530273, \"is_present\": true}, {\"time\": \"2000-06-15T19:00:00\", \"variable\": \"TA\", \"value\": 14.09000015258789, \"is_present\": true}, {\"time\": \"2000-06-15T19:30:00\", \"variable\": \"TA\", \"value\": 13.710000038146973, \"is_present\": true}, {\"time\": \"2000-06-15T20:00:00\", \"variable\": \"TA\", \"value\": 13.079999923706055, \"is_present\": true}, {\"time\": \"2000-06-15T20:30:00\", \"variable\": \"TA\", \"value\": 12.40999984741211, \"is_present\": true}, {\"time\": \"2000-06-15T21:00:00\", \"variable\": \"TA\", \"value\": 12.270000457763672, \"is_present\": true}, {\"time\": \"2000-06-15T21:30:00\", \"variable\": \"TA\", \"value\": 12.199999809265137, \"is_present\": true}, {\"time\": \"2000-06-15T17:00:00\", \"variable\": \"SW_IN\", \"value\": 224.8000030517578, \"is_present\": true}, {\"time\": \"2000-06-15T17:30:00\", \"variable\": \"SW_IN\", \"value\": 195.27999877929688, \"is_present\": false}, {\"time\": \"2000-06-15T18:00:00\", \"variable\": \"SW_IN\", \"value\": 244.1699981689453, \"is_present\": false}, {\"time\": \"2000-06-15T18:30:00\", \"variable\": \"SW_IN\", \"value\": 253.9199981689453, \"is_present\": true}, {\"time\": \"2000-06-15T19:00:00\", \"variable\": \"SW_IN\", \"value\": 177.30999755859375, \"is_present\": true}, {\"time\": \"2000-06-15T19:30:00\", \"variable\": \"SW_IN\", \"value\": 97.06999969482422, \"is_present\": true}, {\"time\": \"2000-06-15T20:00:00\", \"variable\": \"SW_IN\", \"value\": 39.709999084472656, \"is_present\": true}, {\"time\": \"2000-06-15T20:30:00\", \"variable\": \"SW_IN\", \"value\": 10.649999618530273, \"is_present\": true}, {\"time\": \"2000-06-15T21:00:00\", \"variable\": \"SW_IN\", \"value\": 0.3199999928474426, \"is_present\": true}, {\"time\": \"2000-06-15T21:30:00\", \"variable\": \"SW_IN\", \"value\": 0.0, \"is_present\": true}, {\"time\": \"2000-06-15T17:00:00\", \"variable\": \"VPD\", \"value\": 5.798999786376953, \"is_present\": true}, {\"time\": \"2000-06-15T17:30:00\", \"variable\": \"VPD\", \"value\": 6.577000141143799, \"is_present\": true}, {\"time\": \"2000-06-15T18:00:00\", \"variable\": \"VPD\", \"value\": 6.931000232696533, \"is_present\": true}, {\"time\": \"2000-06-15T18:30:00\", \"variable\": \"VPD\", \"value\": 7.285999774932861, \"is_present\": true}, {\"time\": \"2000-06-15T19:00:00\", \"variable\": \"VPD\", \"value\": 7.250999927520752, \"is_present\": true}, {\"time\": \"2000-06-15T19:30:00\", \"variable\": \"VPD\", \"value\": 6.683000087738037, \"is_present\": true}, {\"time\": \"2000-06-15T20:00:00\", \"variable\": \"VPD\", \"value\": 5.85099983215332, \"is_present\": true}, {\"time\": \"2000-06-15T20:30:00\", \"variable\": \"VPD\", \"value\": 5.254000186920166, \"is_present\": true}, {\"time\": \"2000-06-15T21:00:00\", \"variable\": \"VPD\", \"value\": 5.164000034332275, \"is_present\": true}, {\"time\": \"2000-06-15T21:30:00\", \"variable\": \"VPD\", \"value\": 5.0370001792907715, \"is_present\": true}]}}, {\"mode\": \"vega-lite\"});\n",
       "</script>"
      ],
      "text/plain": [
       "alt.Chart(...)"
      ]
     },
     "execution_count": null,
     "metadata": {},
     "output_type": "execute_result"
    }
   ],
   "source": [
    "plot_rug(m_df.tidy())"
   ]
  },
  {
   "cell_type": "code",
   "execution_count": null,
   "id": "bdefec0f-d6f6-4567-a187-a005d585fde6",
   "metadata": {},
   "outputs": [],
   "source": [
    "df = m_df.tidy()"
   ]
  },
  {
   "cell_type": "code",
   "execution_count": null,
   "id": "d6b0071d-6545-475d-8230-f0855dfe541f",
   "metadata": {},
   "outputs": [],
   "source": [
    "df = df[df.variable==\"TA\"].copy()"
   ]
  },
  {
   "cell_type": "code",
   "execution_count": null,
   "id": "6ed27295-faac-42e7-9f06-449e7b247531",
   "metadata": {},
   "outputs": [],
   "source": [
    "df['row_number'] = df.reset_index().index"
   ]
  },
  {
   "cell_type": "code",
   "execution_count": null,
   "id": "21b363a1-fb47-4569-87e9-46b0c6b0c3d0",
   "metadata": {},
   "outputs": [
    {
     "data": {
      "text/html": [
       "<div>\n",
       "<style scoped>\n",
       "    .dataframe tbody tr th:only-of-type {\n",
       "        vertical-align: middle;\n",
       "    }\n",
       "\n",
       "    .dataframe tbody tr th {\n",
       "        vertical-align: top;\n",
       "    }\n",
       "\n",
       "    .dataframe thead th {\n",
       "        text-align: right;\n",
       "    }\n",
       "</style>\n",
       "<table border=\"1\" class=\"dataframe\">\n",
       "  <thead>\n",
       "    <tr style=\"text-align: right;\">\n",
       "      <th></th>\n",
       "      <th>time</th>\n",
       "      <th>variable</th>\n",
       "      <th>value</th>\n",
       "      <th>is_present</th>\n",
       "      <th>row_number</th>\n",
       "    </tr>\n",
       "  </thead>\n",
       "  <tbody>\n",
       "    <tr>\n",
       "      <th>0</th>\n",
       "      <td>2000-06-15 17:00:00</td>\n",
       "      <td>TA</td>\n",
       "      <td>14.22</td>\n",
       "      <td>True</td>\n",
       "      <td>0</td>\n",
       "    </tr>\n",
       "    <tr>\n",
       "      <th>1</th>\n",
       "      <td>2000-06-15 17:30:00</td>\n",
       "      <td>TA</td>\n",
       "      <td>14.11</td>\n",
       "      <td>False</td>\n",
       "      <td>1</td>\n",
       "    </tr>\n",
       "    <tr>\n",
       "      <th>2</th>\n",
       "      <td>2000-06-15 18:00:00</td>\n",
       "      <td>TA</td>\n",
       "      <td>14.23</td>\n",
       "      <td>False</td>\n",
       "      <td>2</td>\n",
       "    </tr>\n",
       "    <tr>\n",
       "      <th>3</th>\n",
       "      <td>2000-06-15 18:30:00</td>\n",
       "      <td>TA</td>\n",
       "      <td>14.40</td>\n",
       "      <td>True</td>\n",
       "      <td>3</td>\n",
       "    </tr>\n",
       "    <tr>\n",
       "      <th>4</th>\n",
       "      <td>2000-06-15 19:00:00</td>\n",
       "      <td>TA</td>\n",
       "      <td>14.09</td>\n",
       "      <td>True</td>\n",
       "      <td>4</td>\n",
       "    </tr>\n",
       "    <tr>\n",
       "      <th>5</th>\n",
       "      <td>2000-06-15 19:30:00</td>\n",
       "      <td>TA</td>\n",
       "      <td>13.71</td>\n",
       "      <td>True</td>\n",
       "      <td>5</td>\n",
       "    </tr>\n",
       "    <tr>\n",
       "      <th>6</th>\n",
       "      <td>2000-06-15 20:00:00</td>\n",
       "      <td>TA</td>\n",
       "      <td>13.08</td>\n",
       "      <td>True</td>\n",
       "      <td>6</td>\n",
       "    </tr>\n",
       "    <tr>\n",
       "      <th>7</th>\n",
       "      <td>2000-06-15 20:30:00</td>\n",
       "      <td>TA</td>\n",
       "      <td>12.41</td>\n",
       "      <td>True</td>\n",
       "      <td>7</td>\n",
       "    </tr>\n",
       "    <tr>\n",
       "      <th>8</th>\n",
       "      <td>2000-06-15 21:00:00</td>\n",
       "      <td>TA</td>\n",
       "      <td>12.27</td>\n",
       "      <td>True</td>\n",
       "      <td>8</td>\n",
       "    </tr>\n",
       "    <tr>\n",
       "      <th>9</th>\n",
       "      <td>2000-06-15 21:30:00</td>\n",
       "      <td>TA</td>\n",
       "      <td>12.20</td>\n",
       "      <td>True</td>\n",
       "      <td>9</td>\n",
       "    </tr>\n",
       "  </tbody>\n",
       "</table>\n",
       "</div>"
      ],
      "text/plain": [
       "                 time variable  value  is_present  row_number\n",
       "0 2000-06-15 17:00:00       TA  14.22        True           0\n",
       "1 2000-06-15 17:30:00       TA  14.11       False           1\n",
       "2 2000-06-15 18:00:00       TA  14.23       False           2\n",
       "3 2000-06-15 18:30:00       TA  14.40        True           3\n",
       "4 2000-06-15 19:00:00       TA  14.09        True           4\n",
       "5 2000-06-15 19:30:00       TA  13.71        True           5\n",
       "6 2000-06-15 20:00:00       TA  13.08        True           6\n",
       "7 2000-06-15 20:30:00       TA  12.41        True           7\n",
       "8 2000-06-15 21:00:00       TA  12.27        True           8\n",
       "9 2000-06-15 21:30:00       TA  12.20        True           9"
      ]
     },
     "execution_count": null,
     "metadata": {},
     "output_type": "execute_result"
    }
   ],
   "source": [
    "df"
   ]
  },
  {
   "cell_type": "code",
   "execution_count": null,
   "id": "f6c46a29-3900-4a8c-b80a-dfdf374591f8",
   "metadata": {},
   "outputs": [
    {
     "data": {
      "text/plain": [
       "time          2000-06-15 17:30:00\n",
       "variable                       TA\n",
       "value                       14.11\n",
       "is_present                  False\n",
       "row_number                      1\n",
       "Name: 1, dtype: object"
      ]
     },
     "execution_count": null,
     "metadata": {},
     "output_type": "execute_result"
    }
   ],
   "source": [
    "df.iloc[1]"
   ]
  },
  {
   "cell_type": "code",
   "execution_count": null,
   "id": "6571fccf-df94-4339-bd7d-6b7d8a485c84",
   "metadata": {},
   "outputs": [],
   "source": [
    "df.loc[2, \"is_present\"] = True"
   ]
  },
  {
   "cell_type": "code",
   "execution_count": null,
   "id": "02874424-e189-4097-bcce-e9a3018e5603",
   "metadata": {},
   "outputs": [
    {
     "data": {
      "text/html": [
       "<div>\n",
       "<style scoped>\n",
       "    .dataframe tbody tr th:only-of-type {\n",
       "        vertical-align: middle;\n",
       "    }\n",
       "\n",
       "    .dataframe tbody tr th {\n",
       "        vertical-align: top;\n",
       "    }\n",
       "\n",
       "    .dataframe thead th {\n",
       "        text-align: right;\n",
       "    }\n",
       "</style>\n",
       "<table border=\"1\" class=\"dataframe\">\n",
       "  <thead>\n",
       "    <tr style=\"text-align: right;\">\n",
       "      <th></th>\n",
       "      <th>time</th>\n",
       "      <th>variable</th>\n",
       "      <th>value</th>\n",
       "      <th>is_present</th>\n",
       "      <th>row_number</th>\n",
       "    </tr>\n",
       "  </thead>\n",
       "  <tbody>\n",
       "    <tr>\n",
       "      <th>0</th>\n",
       "      <td>2000-06-15 17:00:00</td>\n",
       "      <td>TA</td>\n",
       "      <td>14.22</td>\n",
       "      <td>True</td>\n",
       "      <td>0</td>\n",
       "    </tr>\n",
       "    <tr>\n",
       "      <th>1</th>\n",
       "      <td>2000-06-15 17:30:00</td>\n",
       "      <td>TA</td>\n",
       "      <td>14.11</td>\n",
       "      <td>False</td>\n",
       "      <td>1</td>\n",
       "    </tr>\n",
       "    <tr>\n",
       "      <th>2</th>\n",
       "      <td>2000-06-15 18:00:00</td>\n",
       "      <td>TA</td>\n",
       "      <td>14.23</td>\n",
       "      <td>True</td>\n",
       "      <td>2</td>\n",
       "    </tr>\n",
       "    <tr>\n",
       "      <th>3</th>\n",
       "      <td>2000-06-15 18:30:00</td>\n",
       "      <td>TA</td>\n",
       "      <td>14.40</td>\n",
       "      <td>True</td>\n",
       "      <td>3</td>\n",
       "    </tr>\n",
       "    <tr>\n",
       "      <th>4</th>\n",
       "      <td>2000-06-15 19:00:00</td>\n",
       "      <td>TA</td>\n",
       "      <td>14.09</td>\n",
       "      <td>True</td>\n",
       "      <td>4</td>\n",
       "    </tr>\n",
       "    <tr>\n",
       "      <th>5</th>\n",
       "      <td>2000-06-15 19:30:00</td>\n",
       "      <td>TA</td>\n",
       "      <td>13.71</td>\n",
       "      <td>True</td>\n",
       "      <td>5</td>\n",
       "    </tr>\n",
       "    <tr>\n",
       "      <th>6</th>\n",
       "      <td>2000-06-15 20:00:00</td>\n",
       "      <td>TA</td>\n",
       "      <td>13.08</td>\n",
       "      <td>True</td>\n",
       "      <td>6</td>\n",
       "    </tr>\n",
       "    <tr>\n",
       "      <th>7</th>\n",
       "      <td>2000-06-15 20:30:00</td>\n",
       "      <td>TA</td>\n",
       "      <td>12.41</td>\n",
       "      <td>True</td>\n",
       "      <td>7</td>\n",
       "    </tr>\n",
       "    <tr>\n",
       "      <th>8</th>\n",
       "      <td>2000-06-15 21:00:00</td>\n",
       "      <td>TA</td>\n",
       "      <td>12.27</td>\n",
       "      <td>True</td>\n",
       "      <td>8</td>\n",
       "    </tr>\n",
       "    <tr>\n",
       "      <th>9</th>\n",
       "      <td>2000-06-15 21:30:00</td>\n",
       "      <td>TA</td>\n",
       "      <td>12.20</td>\n",
       "      <td>True</td>\n",
       "      <td>9</td>\n",
       "    </tr>\n",
       "  </tbody>\n",
       "</table>\n",
       "</div>"
      ],
      "text/plain": [
       "                 time variable  value  is_present  row_number\n",
       "0 2000-06-15 17:00:00       TA  14.22        True           0\n",
       "1 2000-06-15 17:30:00       TA  14.11       False           1\n",
       "2 2000-06-15 18:00:00       TA  14.23        True           2\n",
       "3 2000-06-15 18:30:00       TA  14.40        True           3\n",
       "4 2000-06-15 19:00:00       TA  14.09        True           4\n",
       "5 2000-06-15 19:30:00       TA  13.71        True           5\n",
       "6 2000-06-15 20:00:00       TA  13.08        True           6\n",
       "7 2000-06-15 20:30:00       TA  12.41        True           7\n",
       "8 2000-06-15 21:00:00       TA  12.27        True           8\n",
       "9 2000-06-15 21:30:00       TA  12.20        True           9"
      ]
     },
     "execution_count": null,
     "metadata": {},
     "output_type": "execute_result"
    }
   ],
   "source": [
    "df"
   ]
  },
  {
   "cell_type": "code",
   "execution_count": null,
   "id": "6bc69f42-fbae-4393-a474-7dd845a2c469",
   "metadata": {},
   "outputs": [],
   "source": [
    "i = 1\n",
    "prev, curr, _next= df.iloc[i-1], df.iloc[i], df.iloc[i+1]"
   ]
  },
  {
   "cell_type": "code",
   "execution_count": null,
   "id": "091cedd6-11d6-4086-a0e3-69d2a2b0c3e6",
   "metadata": {},
   "outputs": [
    {
     "data": {
      "text/plain": [
       "(time          2000-06-15 17:00:00\n",
       " variable                       TA\n",
       " value                       14.22\n",
       " is_present                   True\n",
       " row_number                      0\n",
       " Name: 0, dtype: object,\n",
       " time          2000-06-15 17:30:00\n",
       " variable                       TA\n",
       " value                       14.11\n",
       " is_present                  False\n",
       " row_number                      1\n",
       " Name: 1, dtype: object,\n",
       " time          2000-06-15 18:00:00\n",
       " variable                       TA\n",
       " value                       14.23\n",
       " is_present                   True\n",
       " row_number                      2\n",
       " Name: 2, dtype: object)"
      ]
     },
     "execution_count": null,
     "metadata": {},
     "output_type": "execute_result"
    }
   ],
   "source": [
    "prev, curr, _next"
   ]
  },
  {
   "cell_type": "code",
   "execution_count": null,
   "id": "8ef120c9-d2f4-4b89-bfa5-e6a8758f16bd",
   "metadata": {},
   "outputs": [
    {
     "data": {
      "text/html": [
       "<div>\n",
       "<style scoped>\n",
       "    .dataframe tbody tr th:only-of-type {\n",
       "        vertical-align: middle;\n",
       "    }\n",
       "\n",
       "    .dataframe tbody tr th {\n",
       "        vertical-align: top;\n",
       "    }\n",
       "\n",
       "    .dataframe thead th {\n",
       "        text-align: right;\n",
       "    }\n",
       "</style>\n",
       "<table border=\"1\" class=\"dataframe\">\n",
       "  <thead>\n",
       "    <tr style=\"text-align: right;\">\n",
       "      <th></th>\n",
       "      <th>time</th>\n",
       "      <th>variable</th>\n",
       "      <th>value</th>\n",
       "      <th>is_present</th>\n",
       "      <th>row_number</th>\n",
       "    </tr>\n",
       "  </thead>\n",
       "  <tbody>\n",
       "    <tr>\n",
       "      <th>0</th>\n",
       "      <td>2000-06-15 17:00:00</td>\n",
       "      <td>TA</td>\n",
       "      <td>14.22</td>\n",
       "      <td>True</td>\n",
       "      <td>0</td>\n",
       "    </tr>\n",
       "    <tr>\n",
       "      <th>1</th>\n",
       "      <td>2000-06-15 17:30:00</td>\n",
       "      <td>TA</td>\n",
       "      <td>14.11</td>\n",
       "      <td>False</td>\n",
       "      <td>1</td>\n",
       "    </tr>\n",
       "    <tr>\n",
       "      <th>2</th>\n",
       "      <td>2000-06-15 18:00:00</td>\n",
       "      <td>TA</td>\n",
       "      <td>14.23</td>\n",
       "      <td>True</td>\n",
       "      <td>2</td>\n",
       "    </tr>\n",
       "    <tr>\n",
       "      <th>3</th>\n",
       "      <td>2000-06-15 18:30:00</td>\n",
       "      <td>TA</td>\n",
       "      <td>14.40</td>\n",
       "      <td>True</td>\n",
       "      <td>3</td>\n",
       "    </tr>\n",
       "    <tr>\n",
       "      <th>4</th>\n",
       "      <td>2000-06-15 19:00:00</td>\n",
       "      <td>TA</td>\n",
       "      <td>14.09</td>\n",
       "      <td>True</td>\n",
       "      <td>4</td>\n",
       "    </tr>\n",
       "    <tr>\n",
       "      <th>5</th>\n",
       "      <td>2000-06-15 19:30:00</td>\n",
       "      <td>TA</td>\n",
       "      <td>13.71</td>\n",
       "      <td>True</td>\n",
       "      <td>5</td>\n",
       "    </tr>\n",
       "    <tr>\n",
       "      <th>6</th>\n",
       "      <td>2000-06-15 20:00:00</td>\n",
       "      <td>TA</td>\n",
       "      <td>13.08</td>\n",
       "      <td>True</td>\n",
       "      <td>6</td>\n",
       "    </tr>\n",
       "    <tr>\n",
       "      <th>7</th>\n",
       "      <td>2000-06-15 20:30:00</td>\n",
       "      <td>TA</td>\n",
       "      <td>12.41</td>\n",
       "      <td>True</td>\n",
       "      <td>7</td>\n",
       "    </tr>\n",
       "    <tr>\n",
       "      <th>8</th>\n",
       "      <td>2000-06-15 21:00:00</td>\n",
       "      <td>TA</td>\n",
       "      <td>12.27</td>\n",
       "      <td>True</td>\n",
       "      <td>8</td>\n",
       "    </tr>\n",
       "    <tr>\n",
       "      <th>9</th>\n",
       "      <td>2000-06-15 21:30:00</td>\n",
       "      <td>TA</td>\n",
       "      <td>12.20</td>\n",
       "      <td>True</td>\n",
       "      <td>9</td>\n",
       "    </tr>\n",
       "  </tbody>\n",
       "</table>\n",
       "</div>"
      ],
      "text/plain": [
       "                 time variable  value  is_present  row_number\n",
       "0 2000-06-15 17:00:00       TA  14.22        True           0\n",
       "1 2000-06-15 17:30:00       TA  14.11       False           1\n",
       "2 2000-06-15 18:00:00       TA  14.23        True           2\n",
       "3 2000-06-15 18:30:00       TA  14.40        True           3\n",
       "4 2000-06-15 19:00:00       TA  14.09        True           4\n",
       "5 2000-06-15 19:30:00       TA  13.71        True           5\n",
       "6 2000-06-15 20:00:00       TA  13.08        True           6\n",
       "7 2000-06-15 20:30:00       TA  12.41        True           7\n",
       "8 2000-06-15 21:00:00       TA  12.27        True           8\n",
       "9 2000-06-15 21:30:00       TA  12.20        True           9"
      ]
     },
     "execution_count": null,
     "metadata": {},
     "output_type": "execute_result"
    }
   ],
   "source": [
    "df"
   ]
  },
  {
   "cell_type": "code",
   "execution_count": null,
   "id": "d9b58d08-3aab-4c42-8466-985aeb5abc54",
   "metadata": {},
   "outputs": [
    {
     "name": "stdout",
     "output_type": "stream",
     "text": [
      "gap start 2000-06-15 17:30:00\n",
      "gap end 2000-06-15 17:30:00\n"
     ]
    }
   ],
   "source": [
    "for i in range(len(df)):\n",
    "    # handle boundaries\n",
    "    prev = df.iloc[i-1].is_present if i>0 else True \n",
    "    _next = df.iloc[i+1].is_present if i<(len(df)-1) else True \n",
    "    curr = df.iloc[i]\n",
    "    if not curr.is_present and prev:\n",
    "        print(\"gap start\", curr.time)\n",
    "    if not curr.is_present and _next:\n",
    "        print(\"gap end\", curr.time)"
   ]
  },
  {
   "cell_type": "code",
   "execution_count": null,
   "id": "34b96982-b6f3-4405-8583-0e207978eac3",
   "metadata": {},
   "outputs": [],
   "source": [
    "#| export\n",
    "def find_gap_limits(df):\n",
    "    gap_starts, gap_ends = [], []\n",
    "    for i in range(len(df)):\n",
    "        prev = df.iloc[i-1].is_present if i>0 else True \n",
    "        _next = df.iloc[i+1].is_present if i<(len(df)-1) else True \n",
    "        curr = df.iloc[i]\n",
    "        if not curr.is_present and prev: gap_starts.append(curr.time)\n",
    "        if not curr.is_present and _next: gap_ends.append(curr.time)\n",
    "    return pd.DataFrame({'gap_start': gap_starts, 'gap_end': gap_ends})\n",
    "    "
   ]
  },
  {
   "cell_type": "code",
   "execution_count": null,
   "id": "1e634f1e-0d8e-4e9f-a843-a3c9ded54bae",
   "metadata": {},
   "outputs": [
    {
     "data": {
      "text/html": [
       "<div>\n",
       "<style scoped>\n",
       "    .dataframe tbody tr th:only-of-type {\n",
       "        vertical-align: middle;\n",
       "    }\n",
       "\n",
       "    .dataframe tbody tr th {\n",
       "        vertical-align: top;\n",
       "    }\n",
       "\n",
       "    .dataframe thead th {\n",
       "        text-align: right;\n",
       "    }\n",
       "</style>\n",
       "<table border=\"1\" class=\"dataframe\">\n",
       "  <thead>\n",
       "    <tr style=\"text-align: right;\">\n",
       "      <th></th>\n",
       "      <th>gap_start</th>\n",
       "      <th>gap_end</th>\n",
       "    </tr>\n",
       "  </thead>\n",
       "  <tbody>\n",
       "    <tr>\n",
       "      <th>0</th>\n",
       "      <td>2000-06-15 17:30:00</td>\n",
       "      <td>2000-06-15 17:30:00</td>\n",
       "    </tr>\n",
       "  </tbody>\n",
       "</table>\n",
       "</div>"
      ],
      "text/plain": [
       "            gap_start             gap_end\n",
       "0 2000-06-15 17:30:00 2000-06-15 17:30:00"
      ]
     },
     "execution_count": null,
     "metadata": {},
     "output_type": "execute_result"
    }
   ],
   "source": [
    "find_gap_limits(df)"
   ]
  },
  {
   "cell_type": "code",
   "execution_count": null,
   "id": "c8bf87ef-4401-4e69-97a4-67781c752b40",
   "metadata": {},
   "outputs": [],
   "source": [
    "#| export\n",
    "def plot_missing_area(df, sel = def_selection(), props={}):\n",
    "    gap_limits = find_gap_limits(df)\n",
    "    start = alt.Chart(gap_limits).mark_rule().encode(\n",
    "        x = alt.X('gap_start', axis=alt.Axis(domain=False, labels = False, ticks=False, title=None)),\n",
    "    )\n",
    "    end = alt.Chart(gap_limits).mark_rule().encode(\n",
    "        x = alt.X('gap_end', axis=alt.Axis(domain=False, labels = False, ticks=False, title=None))\n",
    "    )\n",
    "    area = alt.Chart(gap_limits).mark_rect(color='black', opacity=.15).encode(\n",
    "        x = alt.X('gap_start', axis=alt.Axis(domain=False, labels = False, ticks=False, title=None)),\n",
    "        x2 = 'gap_end'\n",
    "    )\n",
    "    return (start + end + area)#.add_params(sel).properties(**props)"
   ]
  },
  {
   "cell_type": "code",
   "execution_count": null,
   "id": "6df1e7d6-674e-465c-af15-ecfca892ef51",
   "metadata": {},
   "outputs": [
    {
     "data": {
      "text/html": [
       "\n",
       "<div id=\"altair-viz-1ce37945f44247ccbbc301d076fe851c\"></div>\n",
       "<script type=\"text/javascript\">\n",
       "  var VEGA_DEBUG = (typeof VEGA_DEBUG == \"undefined\") ? {} : VEGA_DEBUG;\n",
       "  (function(spec, embedOpt){\n",
       "    let outputDiv = document.currentScript.previousElementSibling;\n",
       "    if (outputDiv.id !== \"altair-viz-1ce37945f44247ccbbc301d076fe851c\") {\n",
       "      outputDiv = document.getElementById(\"altair-viz-1ce37945f44247ccbbc301d076fe851c\");\n",
       "    }\n",
       "    const paths = {\n",
       "      \"vega\": \"https://cdn.jsdelivr.net/npm//vega@5?noext\",\n",
       "      \"vega-lib\": \"https://cdn.jsdelivr.net/npm//vega-lib?noext\",\n",
       "      \"vega-lite\": \"https://cdn.jsdelivr.net/npm//vega-lite@5.2.0?noext\",\n",
       "      \"vega-embed\": \"https://cdn.jsdelivr.net/npm//vega-embed@6?noext\",\n",
       "    };\n",
       "\n",
       "    function maybeLoadScript(lib, version) {\n",
       "      var key = `${lib.replace(\"-\", \"\")}_version`;\n",
       "      return (VEGA_DEBUG[key] == version) ?\n",
       "        Promise.resolve(paths[lib]) :\n",
       "        new Promise(function(resolve, reject) {\n",
       "          var s = document.createElement('script');\n",
       "          document.getElementsByTagName(\"head\")[0].appendChild(s);\n",
       "          s.async = true;\n",
       "          s.onload = () => {\n",
       "            VEGA_DEBUG[key] = version;\n",
       "            return resolve(paths[lib]);\n",
       "          };\n",
       "          s.onerror = () => reject(`Error loading script: ${paths[lib]}`);\n",
       "          s.src = paths[lib];\n",
       "        });\n",
       "    }\n",
       "\n",
       "    function showError(err) {\n",
       "      outputDiv.innerHTML = `<div class=\"error\" style=\"color:red;\">${err}</div>`;\n",
       "      throw err;\n",
       "    }\n",
       "\n",
       "    function displayChart(vegaEmbed) {\n",
       "      vegaEmbed(outputDiv, spec, embedOpt)\n",
       "        .catch(err => showError(`Javascript Error: ${err.message}<br>This usually means there's a typo in your chart specification. See the javascript console for the full traceback.`));\n",
       "    }\n",
       "\n",
       "    if(typeof define === \"function\" && define.amd) {\n",
       "      requirejs.config({paths});\n",
       "      require([\"vega-embed\"], displayChart, err => showError(`Error loading script: ${err.message}`));\n",
       "    } else {\n",
       "      maybeLoadScript(\"vega\", \"5\")\n",
       "        .then(() => maybeLoadScript(\"vega-lite\", \"5.2.0\"))\n",
       "        .then(() => maybeLoadScript(\"vega-embed\", \"6\"))\n",
       "        .catch(showError)\n",
       "        .then(() => displayChart(vegaEmbed));\n",
       "    }\n",
       "  })({\"config\": {\"view\": {\"continuousWidth\": 400, \"continuousHeight\": 300}}, \"layer\": [{\"mark\": \"rule\", \"encoding\": {\"x\": {\"axis\": {\"domain\": false, \"labels\": false, \"ticks\": false, \"title\": null}, \"field\": \"gap_start\", \"type\": \"temporal\"}}}, {\"mark\": \"rule\", \"encoding\": {\"x\": {\"axis\": {\"domain\": false, \"labels\": false, \"ticks\": false, \"title\": null}, \"field\": \"gap_end\", \"type\": \"temporal\"}}}, {\"mark\": {\"type\": \"rect\", \"color\": \"black\", \"opacity\": 0.2}, \"encoding\": {\"x\": {\"axis\": {\"domain\": false, \"labels\": false, \"ticks\": false, \"title\": null}, \"field\": \"gap_start\", \"type\": \"temporal\"}, \"x2\": {\"field\": \"gap_end\"}}}], \"data\": {\"name\": \"data-14f6376536514b3594d32d3ce6351134\"}, \"$schema\": \"https://vega.github.io/schema/vega-lite/v5.2.0.json\", \"datasets\": {\"data-14f6376536514b3594d32d3ce6351134\": [{\"gap_start\": \"2000-06-15T17:30:00\", \"gap_end\": \"2000-06-15T17:30:00\"}]}}, {\"mode\": \"vega-lite\"});\n",
       "</script>"
      ],
      "text/plain": [
       "alt.LayerChart(...)"
      ]
     },
     "execution_count": null,
     "metadata": {},
     "output_type": "execute_result"
    }
   ],
   "source": [
    "plot_missing_area(df)"
   ]
  },
  {
   "cell_type": "markdown",
   "id": "9ab60349-4e58-4fd7-bc85-ad85146af0a5",
   "metadata": {},
   "source": [
    "##### Points"
   ]
  },
  {
   "cell_type": "code",
   "execution_count": null,
   "id": "52f438da-c85f-40e7-bdac-c08bce559cc3",
   "metadata": {},
   "outputs": [],
   "source": [
    "#| export\n",
    "def plot_points(df, y = \"value\", y_label = \"\", sel = def_selection(), props = {}):\n",
    "    return alt.Chart(df).mark_point(\n",
    "            color='black',\n",
    "            strokeWidth = 1,\n",
    "            fillOpacity = 1\n",
    "        ).encode(\n",
    "            x = alt.X(\"time\", axis=alt.Axis(domain=True, labels = True, ticks=True, title=\"time\")),\n",
    "            y = alt.Y(y, title = y_label, scale=alt.Scale(zero=False)),\n",
    "            fill= alt.Fill(\"is_present\", scale = alt.Scale(range=[\"black\", \"#ffffff00\"]),\n",
    "                           legend = alt.Legend(title =[\"Observed data\"])),\n",
    "            shape = \"is_present\",\n",
    "        )"
   ]
  },
  {
   "cell_type": "code",
   "execution_count": null,
   "id": "530d054b-120d-4883-9692-ff2518adabbf",
   "metadata": {},
   "outputs": [
    {
     "data": {
      "text/html": [
       "\n",
       "<div id=\"altair-viz-80e82c5de3704a6297ee288c6e62a069\"></div>\n",
       "<script type=\"text/javascript\">\n",
       "  var VEGA_DEBUG = (typeof VEGA_DEBUG == \"undefined\") ? {} : VEGA_DEBUG;\n",
       "  (function(spec, embedOpt){\n",
       "    let outputDiv = document.currentScript.previousElementSibling;\n",
       "    if (outputDiv.id !== \"altair-viz-80e82c5de3704a6297ee288c6e62a069\") {\n",
       "      outputDiv = document.getElementById(\"altair-viz-80e82c5de3704a6297ee288c6e62a069\");\n",
       "    }\n",
       "    const paths = {\n",
       "      \"vega\": \"https://cdn.jsdelivr.net/npm//vega@5?noext\",\n",
       "      \"vega-lib\": \"https://cdn.jsdelivr.net/npm//vega-lib?noext\",\n",
       "      \"vega-lite\": \"https://cdn.jsdelivr.net/npm//vega-lite@5.2.0?noext\",\n",
       "      \"vega-embed\": \"https://cdn.jsdelivr.net/npm//vega-embed@6?noext\",\n",
       "    };\n",
       "\n",
       "    function maybeLoadScript(lib, version) {\n",
       "      var key = `${lib.replace(\"-\", \"\")}_version`;\n",
       "      return (VEGA_DEBUG[key] == version) ?\n",
       "        Promise.resolve(paths[lib]) :\n",
       "        new Promise(function(resolve, reject) {\n",
       "          var s = document.createElement('script');\n",
       "          document.getElementsByTagName(\"head\")[0].appendChild(s);\n",
       "          s.async = true;\n",
       "          s.onload = () => {\n",
       "            VEGA_DEBUG[key] = version;\n",
       "            return resolve(paths[lib]);\n",
       "          };\n",
       "          s.onerror = () => reject(`Error loading script: ${paths[lib]}`);\n",
       "          s.src = paths[lib];\n",
       "        });\n",
       "    }\n",
       "\n",
       "    function showError(err) {\n",
       "      outputDiv.innerHTML = `<div class=\"error\" style=\"color:red;\">${err}</div>`;\n",
       "      throw err;\n",
       "    }\n",
       "\n",
       "    function displayChart(vegaEmbed) {\n",
       "      vegaEmbed(outputDiv, spec, embedOpt)\n",
       "        .catch(err => showError(`Javascript Error: ${err.message}<br>This usually means there's a typo in your chart specification. See the javascript console for the full traceback.`));\n",
       "    }\n",
       "\n",
       "    if(typeof define === \"function\" && define.amd) {\n",
       "      requirejs.config({paths});\n",
       "      require([\"vega-embed\"], displayChart, err => showError(`Error loading script: ${err.message}`));\n",
       "    } else {\n",
       "      maybeLoadScript(\"vega\", \"5\")\n",
       "        .then(() => maybeLoadScript(\"vega-lite\", \"5.2.0\"))\n",
       "        .then(() => maybeLoadScript(\"vega-embed\", \"6\"))\n",
       "        .catch(showError)\n",
       "        .then(() => displayChart(vegaEmbed));\n",
       "    }\n",
       "  })({\"config\": {\"view\": {\"continuousWidth\": 400, \"continuousHeight\": 300}}, \"data\": {\"name\": \"data-3db2996ac3d1e25158d36823c9230040\"}, \"mark\": {\"type\": \"point\", \"color\": \"black\", \"fillOpacity\": 1, \"strokeWidth\": 1}, \"encoding\": {\"fill\": {\"field\": \"is_present\", \"legend\": {\"title\": [\"Observed data\"]}, \"scale\": {\"range\": [\"black\", \"#ffffff00\"]}, \"type\": \"nominal\"}, \"shape\": {\"field\": \"is_present\", \"type\": \"nominal\"}, \"x\": {\"axis\": {\"domain\": true, \"labels\": true, \"ticks\": true, \"title\": \"time\"}, \"field\": \"time\", \"type\": \"temporal\"}, \"y\": {\"field\": \"value\", \"scale\": {\"zero\": false}, \"title\": \"\", \"type\": \"quantitative\"}}, \"$schema\": \"https://vega.github.io/schema/vega-lite/v5.2.0.json\", \"datasets\": {\"data-3db2996ac3d1e25158d36823c9230040\": [{\"time\": \"2000-06-15T17:00:00\", \"variable\": \"TA\", \"value\": 14.220000267028809, \"is_present\": true}, {\"time\": \"2000-06-15T17:30:00\", \"variable\": \"TA\", \"value\": 14.109999656677246, \"is_present\": false}, {\"time\": \"2000-06-15T18:00:00\", \"variable\": \"TA\", \"value\": 14.229999542236328, \"is_present\": false}, {\"time\": \"2000-06-15T18:30:00\", \"variable\": \"TA\", \"value\": 14.399999618530273, \"is_present\": true}, {\"time\": \"2000-06-15T19:00:00\", \"variable\": \"TA\", \"value\": 14.09000015258789, \"is_present\": true}, {\"time\": \"2000-06-15T19:30:00\", \"variable\": \"TA\", \"value\": 13.710000038146973, \"is_present\": true}, {\"time\": \"2000-06-15T20:00:00\", \"variable\": \"TA\", \"value\": 13.079999923706055, \"is_present\": true}, {\"time\": \"2000-06-15T20:30:00\", \"variable\": \"TA\", \"value\": 12.40999984741211, \"is_present\": true}, {\"time\": \"2000-06-15T21:00:00\", \"variable\": \"TA\", \"value\": 12.270000457763672, \"is_present\": true}, {\"time\": \"2000-06-15T21:30:00\", \"variable\": \"TA\", \"value\": 12.199999809265137, \"is_present\": true}, {\"time\": \"2000-06-15T17:00:00\", \"variable\": \"SW_IN\", \"value\": 224.8000030517578, \"is_present\": true}, {\"time\": \"2000-06-15T17:30:00\", \"variable\": \"SW_IN\", \"value\": 195.27999877929688, \"is_present\": false}, {\"time\": \"2000-06-15T18:00:00\", \"variable\": \"SW_IN\", \"value\": 244.1699981689453, \"is_present\": false}, {\"time\": \"2000-06-15T18:30:00\", \"variable\": \"SW_IN\", \"value\": 253.9199981689453, \"is_present\": true}, {\"time\": \"2000-06-15T19:00:00\", \"variable\": \"SW_IN\", \"value\": 177.30999755859375, \"is_present\": true}, {\"time\": \"2000-06-15T19:30:00\", \"variable\": \"SW_IN\", \"value\": 97.06999969482422, \"is_present\": true}, {\"time\": \"2000-06-15T20:00:00\", \"variable\": \"SW_IN\", \"value\": 39.709999084472656, \"is_present\": true}, {\"time\": \"2000-06-15T20:30:00\", \"variable\": \"SW_IN\", \"value\": 10.649999618530273, \"is_present\": true}, {\"time\": \"2000-06-15T21:00:00\", \"variable\": \"SW_IN\", \"value\": 0.3199999928474426, \"is_present\": true}, {\"time\": \"2000-06-15T21:30:00\", \"variable\": \"SW_IN\", \"value\": 0.0, \"is_present\": true}, {\"time\": \"2000-06-15T17:00:00\", \"variable\": \"VPD\", \"value\": 5.798999786376953, \"is_present\": true}, {\"time\": \"2000-06-15T17:30:00\", \"variable\": \"VPD\", \"value\": 6.577000141143799, \"is_present\": true}, {\"time\": \"2000-06-15T18:00:00\", \"variable\": \"VPD\", \"value\": 6.931000232696533, \"is_present\": true}, {\"time\": \"2000-06-15T18:30:00\", \"variable\": \"VPD\", \"value\": 7.285999774932861, \"is_present\": true}, {\"time\": \"2000-06-15T19:00:00\", \"variable\": \"VPD\", \"value\": 7.250999927520752, \"is_present\": true}, {\"time\": \"2000-06-15T19:30:00\", \"variable\": \"VPD\", \"value\": 6.683000087738037, \"is_present\": true}, {\"time\": \"2000-06-15T20:00:00\", \"variable\": \"VPD\", \"value\": 5.85099983215332, \"is_present\": true}, {\"time\": \"2000-06-15T20:30:00\", \"variable\": \"VPD\", \"value\": 5.254000186920166, \"is_present\": true}, {\"time\": \"2000-06-15T21:00:00\", \"variable\": \"VPD\", \"value\": 5.164000034332275, \"is_present\": true}, {\"time\": \"2000-06-15T21:30:00\", \"variable\": \"VPD\", \"value\": 5.0370001792907715, \"is_present\": true}]}}, {\"mode\": \"vega-lite\"});\n",
       "</script>"
      ],
      "text/plain": [
       "alt.Chart(...)"
      ]
     },
     "execution_count": null,
     "metadata": {},
     "output_type": "execute_result"
    }
   ],
   "source": [
    "plot_points(m_df.tidy())"
   ]
  },
  {
   "cell_type": "markdown",
   "id": "ffc03c27-03d9-4a0f-9438-a6aaab415f8b",
   "metadata": {},
   "source": [
    "##### Line"
   ]
  },
  {
   "cell_type": "code",
   "execution_count": null,
   "id": "e7f9912e-eee1-40a6-9eb3-4b010a5278c5",
   "metadata": {},
   "outputs": [],
   "source": [
    "#| exporti\n",
    "def plot_line(df, only_present=True, y=\"value\", y_label = \"\", sel = def_selection(), props = {}):\n",
    "    # df = df[df.is_present] if only_present else df\n",
    "    # TODO remove onle_present\n",
    "    return alt.Chart(df).mark_line().encode(\n",
    "        x = \"time\",    \n",
    "        y = alt.Y(y, title = y_label, scale=alt.Scale(zero=False)),\n",
    "        color='variable'\n",
    "    ).add_params(\n",
    "        sel\n",
    "    ).properties(\n",
    "        **props\n",
    "    )#.transform_filter(\n",
    "    #     datum.is_present\n",
    "    # )\n",
    "\n",
    "    "
   ]
  },
  {
   "cell_type": "code",
   "execution_count": null,
   "id": "c4723d86-f673-4cfa-ae8a-58fcc542930a",
   "metadata": {},
   "outputs": [
    {
     "data": {
      "text/html": [
       "\n",
       "<div id=\"altair-viz-3a6f963ca26247b6a5504111d6fb2177\"></div>\n",
       "<script type=\"text/javascript\">\n",
       "  var VEGA_DEBUG = (typeof VEGA_DEBUG == \"undefined\") ? {} : VEGA_DEBUG;\n",
       "  (function(spec, embedOpt){\n",
       "    let outputDiv = document.currentScript.previousElementSibling;\n",
       "    if (outputDiv.id !== \"altair-viz-3a6f963ca26247b6a5504111d6fb2177\") {\n",
       "      outputDiv = document.getElementById(\"altair-viz-3a6f963ca26247b6a5504111d6fb2177\");\n",
       "    }\n",
       "    const paths = {\n",
       "      \"vega\": \"https://cdn.jsdelivr.net/npm//vega@5?noext\",\n",
       "      \"vega-lib\": \"https://cdn.jsdelivr.net/npm//vega-lib?noext\",\n",
       "      \"vega-lite\": \"https://cdn.jsdelivr.net/npm//vega-lite@5.2.0?noext\",\n",
       "      \"vega-embed\": \"https://cdn.jsdelivr.net/npm//vega-embed@6?noext\",\n",
       "    };\n",
       "\n",
       "    function maybeLoadScript(lib, version) {\n",
       "      var key = `${lib.replace(\"-\", \"\")}_version`;\n",
       "      return (VEGA_DEBUG[key] == version) ?\n",
       "        Promise.resolve(paths[lib]) :\n",
       "        new Promise(function(resolve, reject) {\n",
       "          var s = document.createElement('script');\n",
       "          document.getElementsByTagName(\"head\")[0].appendChild(s);\n",
       "          s.async = true;\n",
       "          s.onload = () => {\n",
       "            VEGA_DEBUG[key] = version;\n",
       "            return resolve(paths[lib]);\n",
       "          };\n",
       "          s.onerror = () => reject(`Error loading script: ${paths[lib]}`);\n",
       "          s.src = paths[lib];\n",
       "        });\n",
       "    }\n",
       "\n",
       "    function showError(err) {\n",
       "      outputDiv.innerHTML = `<div class=\"error\" style=\"color:red;\">${err}</div>`;\n",
       "      throw err;\n",
       "    }\n",
       "\n",
       "    function displayChart(vegaEmbed) {\n",
       "      vegaEmbed(outputDiv, spec, embedOpt)\n",
       "        .catch(err => showError(`Javascript Error: ${err.message}<br>This usually means there's a typo in your chart specification. See the javascript console for the full traceback.`));\n",
       "    }\n",
       "\n",
       "    if(typeof define === \"function\" && define.amd) {\n",
       "      requirejs.config({paths});\n",
       "      require([\"vega-embed\"], displayChart, err => showError(`Error loading script: ${err.message}`));\n",
       "    } else {\n",
       "      maybeLoadScript(\"vega\", \"5\")\n",
       "        .then(() => maybeLoadScript(\"vega-lite\", \"5.2.0\"))\n",
       "        .then(() => maybeLoadScript(\"vega-embed\", \"6\"))\n",
       "        .catch(showError)\n",
       "        .then(() => displayChart(vegaEmbed));\n",
       "    }\n",
       "  })({\"config\": {\"view\": {\"continuousWidth\": 400, \"continuousHeight\": 300}}, \"data\": {\"name\": \"data-3db2996ac3d1e25158d36823c9230040\"}, \"mark\": \"line\", \"encoding\": {\"color\": {\"field\": \"variable\", \"type\": \"nominal\"}, \"x\": {\"field\": \"time\", \"type\": \"temporal\"}, \"y\": {\"field\": \"value\", \"scale\": {\"zero\": false}, \"title\": \"\", \"type\": \"quantitative\"}}, \"params\": [{\"name\": \"param_4\", \"select\": {\"type\": \"interval\"}, \"bind\": \"scales\"}], \"$schema\": \"https://vega.github.io/schema/vega-lite/v5.2.0.json\", \"datasets\": {\"data-3db2996ac3d1e25158d36823c9230040\": [{\"time\": \"2000-06-15T17:00:00\", \"variable\": \"TA\", \"value\": 14.220000267028809, \"is_present\": true}, {\"time\": \"2000-06-15T17:30:00\", \"variable\": \"TA\", \"value\": 14.109999656677246, \"is_present\": false}, {\"time\": \"2000-06-15T18:00:00\", \"variable\": \"TA\", \"value\": 14.229999542236328, \"is_present\": false}, {\"time\": \"2000-06-15T18:30:00\", \"variable\": \"TA\", \"value\": 14.399999618530273, \"is_present\": true}, {\"time\": \"2000-06-15T19:00:00\", \"variable\": \"TA\", \"value\": 14.09000015258789, \"is_present\": true}, {\"time\": \"2000-06-15T19:30:00\", \"variable\": \"TA\", \"value\": 13.710000038146973, \"is_present\": true}, {\"time\": \"2000-06-15T20:00:00\", \"variable\": \"TA\", \"value\": 13.079999923706055, \"is_present\": true}, {\"time\": \"2000-06-15T20:30:00\", \"variable\": \"TA\", \"value\": 12.40999984741211, \"is_present\": true}, {\"time\": \"2000-06-15T21:00:00\", \"variable\": \"TA\", \"value\": 12.270000457763672, \"is_present\": true}, {\"time\": \"2000-06-15T21:30:00\", \"variable\": \"TA\", \"value\": 12.199999809265137, \"is_present\": true}, {\"time\": \"2000-06-15T17:00:00\", \"variable\": \"SW_IN\", \"value\": 224.8000030517578, \"is_present\": true}, {\"time\": \"2000-06-15T17:30:00\", \"variable\": \"SW_IN\", \"value\": 195.27999877929688, \"is_present\": false}, {\"time\": \"2000-06-15T18:00:00\", \"variable\": \"SW_IN\", \"value\": 244.1699981689453, \"is_present\": false}, {\"time\": \"2000-06-15T18:30:00\", \"variable\": \"SW_IN\", \"value\": 253.9199981689453, \"is_present\": true}, {\"time\": \"2000-06-15T19:00:00\", \"variable\": \"SW_IN\", \"value\": 177.30999755859375, \"is_present\": true}, {\"time\": \"2000-06-15T19:30:00\", \"variable\": \"SW_IN\", \"value\": 97.06999969482422, \"is_present\": true}, {\"time\": \"2000-06-15T20:00:00\", \"variable\": \"SW_IN\", \"value\": 39.709999084472656, \"is_present\": true}, {\"time\": \"2000-06-15T20:30:00\", \"variable\": \"SW_IN\", \"value\": 10.649999618530273, \"is_present\": true}, {\"time\": \"2000-06-15T21:00:00\", \"variable\": \"SW_IN\", \"value\": 0.3199999928474426, \"is_present\": true}, {\"time\": \"2000-06-15T21:30:00\", \"variable\": \"SW_IN\", \"value\": 0.0, \"is_present\": true}, {\"time\": \"2000-06-15T17:00:00\", \"variable\": \"VPD\", \"value\": 5.798999786376953, \"is_present\": true}, {\"time\": \"2000-06-15T17:30:00\", \"variable\": \"VPD\", \"value\": 6.577000141143799, \"is_present\": true}, {\"time\": \"2000-06-15T18:00:00\", \"variable\": \"VPD\", \"value\": 6.931000232696533, \"is_present\": true}, {\"time\": \"2000-06-15T18:30:00\", \"variable\": \"VPD\", \"value\": 7.285999774932861, \"is_present\": true}, {\"time\": \"2000-06-15T19:00:00\", \"variable\": \"VPD\", \"value\": 7.250999927520752, \"is_present\": true}, {\"time\": \"2000-06-15T19:30:00\", \"variable\": \"VPD\", \"value\": 6.683000087738037, \"is_present\": true}, {\"time\": \"2000-06-15T20:00:00\", \"variable\": \"VPD\", \"value\": 5.85099983215332, \"is_present\": true}, {\"time\": \"2000-06-15T20:30:00\", \"variable\": \"VPD\", \"value\": 5.254000186920166, \"is_present\": true}, {\"time\": \"2000-06-15T21:00:00\", \"variable\": \"VPD\", \"value\": 5.164000034332275, \"is_present\": true}, {\"time\": \"2000-06-15T21:30:00\", \"variable\": \"VPD\", \"value\": 5.0370001792907715, \"is_present\": true}]}}, {\"mode\": \"vega-lite\"});\n",
       "</script>"
      ],
      "text/plain": [
       "alt.Chart(...)"
      ]
     },
     "execution_count": null,
     "metadata": {},
     "output_type": "execute_result"
    }
   ],
   "source": [
    "plot_line(m_df.tidy())"
   ]
  },
  {
   "cell_type": "markdown",
   "id": "78d98d63-401b-4a09-a0f1-665342fef64e",
   "metadata": {},
   "source": [
    "##### Errorband"
   ]
  },
  {
   "cell_type": "code",
   "execution_count": null,
   "id": "b31874c2-bc64-4c07-b67b-c67ecb0f3598",
   "metadata": {},
   "outputs": [],
   "source": [
    "#| exporti\n",
    "def plot_error(df, y = \"value\", y_label = \"\", sel = def_selection(), props = {}):\n",
    "    df.loc[:,'err_low'] = df[y] - 2 * df['std']\n",
    "    df.loc[:,'err_high'] = df[y] + 2 * df['std']\n",
    "    return alt.Chart(df).mark_errorband().encode(\n",
    "        x = \"time\",    \n",
    "        y = alt.Y(\"err_low:Q\", title = y_label, scale=alt.Scale(zero=False)),\n",
    "        y2 = \"err_high:Q\",\n",
    "        color=alt.Color(\"variable\",\n",
    "                        legend = alt.Legend(title=[\"Line: pred. mean\", \"area: +/- 2 std\"])\n",
    "                       )\n",
    "    ).add_params(\n",
    "        sel\n",
    "    ).properties(\n",
    "        **props\n",
    "    )\n",
    "    "
   ]
  },
  {
   "cell_type": "code",
   "execution_count": null,
   "id": "bbe34b69-dc5c-4b9e-bb24-dffcd7638686",
   "metadata": {},
   "outputs": [
    {
     "data": {
      "text/html": [
       "\n",
       "<div id=\"altair-viz-1d2d8cb95679436a9b5f70e9fba212b8\"></div>\n",
       "<script type=\"text/javascript\">\n",
       "  var VEGA_DEBUG = (typeof VEGA_DEBUG == \"undefined\") ? {} : VEGA_DEBUG;\n",
       "  (function(spec, embedOpt){\n",
       "    let outputDiv = document.currentScript.previousElementSibling;\n",
       "    if (outputDiv.id !== \"altair-viz-1d2d8cb95679436a9b5f70e9fba212b8\") {\n",
       "      outputDiv = document.getElementById(\"altair-viz-1d2d8cb95679436a9b5f70e9fba212b8\");\n",
       "    }\n",
       "    const paths = {\n",
       "      \"vega\": \"https://cdn.jsdelivr.net/npm//vega@5?noext\",\n",
       "      \"vega-lib\": \"https://cdn.jsdelivr.net/npm//vega-lib?noext\",\n",
       "      \"vega-lite\": \"https://cdn.jsdelivr.net/npm//vega-lite@5.2.0?noext\",\n",
       "      \"vega-embed\": \"https://cdn.jsdelivr.net/npm//vega-embed@6?noext\",\n",
       "    };\n",
       "\n",
       "    function maybeLoadScript(lib, version) {\n",
       "      var key = `${lib.replace(\"-\", \"\")}_version`;\n",
       "      return (VEGA_DEBUG[key] == version) ?\n",
       "        Promise.resolve(paths[lib]) :\n",
       "        new Promise(function(resolve, reject) {\n",
       "          var s = document.createElement('script');\n",
       "          document.getElementsByTagName(\"head\")[0].appendChild(s);\n",
       "          s.async = true;\n",
       "          s.onload = () => {\n",
       "            VEGA_DEBUG[key] = version;\n",
       "            return resolve(paths[lib]);\n",
       "          };\n",
       "          s.onerror = () => reject(`Error loading script: ${paths[lib]}`);\n",
       "          s.src = paths[lib];\n",
       "        });\n",
       "    }\n",
       "\n",
       "    function showError(err) {\n",
       "      outputDiv.innerHTML = `<div class=\"error\" style=\"color:red;\">${err}</div>`;\n",
       "      throw err;\n",
       "    }\n",
       "\n",
       "    function displayChart(vegaEmbed) {\n",
       "      vegaEmbed(outputDiv, spec, embedOpt)\n",
       "        .catch(err => showError(`Javascript Error: ${err.message}<br>This usually means there's a typo in your chart specification. See the javascript console for the full traceback.`));\n",
       "    }\n",
       "\n",
       "    if(typeof define === \"function\" && define.amd) {\n",
       "      requirejs.config({paths});\n",
       "      require([\"vega-embed\"], displayChart, err => showError(`Error loading script: ${err.message}`));\n",
       "    } else {\n",
       "      maybeLoadScript(\"vega\", \"5\")\n",
       "        .then(() => maybeLoadScript(\"vega-lite\", \"5.2.0\"))\n",
       "        .then(() => maybeLoadScript(\"vega-embed\", \"6\"))\n",
       "        .catch(showError)\n",
       "        .then(() => displayChart(vegaEmbed));\n",
       "    }\n",
       "  })({\"config\": {\"view\": {\"continuousWidth\": 400, \"continuousHeight\": 300}}, \"data\": {\"name\": \"data-b3bfeadaa3f4605e201a73bafd4517b4\"}, \"mark\": \"errorband\", \"encoding\": {\"color\": {\"field\": \"variable\", \"legend\": {\"title\": [\"Line: pred. mean\", \"area: +/- 2 std\"]}, \"type\": \"nominal\"}, \"x\": {\"field\": \"time\", \"type\": \"temporal\"}, \"y\": {\"field\": \"err_low\", \"scale\": {\"zero\": false}, \"title\": \"\", \"type\": \"quantitative\"}, \"y2\": {\"field\": \"err_high\"}}, \"params\": [{\"name\": \"param_5\", \"select\": {\"type\": \"interval\"}, \"bind\": \"scales\"}], \"$schema\": \"https://vega.github.io/schema/vega-lite/v5.2.0.json\", \"datasets\": {\"data-b3bfeadaa3f4605e201a73bafd4517b4\": [{\"time\": \"2000-06-15T17:00:00\", \"variable\": \"TA\", \"value\": 14.220000267028809, \"is_present\": true, \"std\": 5, \"err_low\": 4.220000267028809, \"err_high\": 24.22000026702881}, {\"time\": \"2000-06-15T17:30:00\", \"variable\": \"TA\", \"value\": 14.109999656677246, \"is_present\": false, \"std\": 5, \"err_low\": 4.109999656677246, \"err_high\": 24.109999656677246}, {\"time\": \"2000-06-15T18:00:00\", \"variable\": \"TA\", \"value\": 14.229999542236328, \"is_present\": false, \"std\": 5, \"err_low\": 4.229999542236328, \"err_high\": 24.229999542236328}, {\"time\": \"2000-06-15T18:30:00\", \"variable\": \"TA\", \"value\": 14.399999618530273, \"is_present\": true, \"std\": 5, \"err_low\": 4.399999618530273, \"err_high\": 24.399999618530273}, {\"time\": \"2000-06-15T19:00:00\", \"variable\": \"TA\", \"value\": 14.09000015258789, \"is_present\": true, \"std\": 5, \"err_low\": 4.090000152587891, \"err_high\": 24.09000015258789}, {\"time\": \"2000-06-15T19:30:00\", \"variable\": \"TA\", \"value\": 13.710000038146973, \"is_present\": true, \"std\": 5, \"err_low\": 3.7100000381469727, \"err_high\": 23.710000038146973}, {\"time\": \"2000-06-15T20:00:00\", \"variable\": \"TA\", \"value\": 13.079999923706055, \"is_present\": true, \"std\": 5, \"err_low\": 3.0799999237060547, \"err_high\": 23.079999923706055}, {\"time\": \"2000-06-15T20:30:00\", \"variable\": \"TA\", \"value\": 12.40999984741211, \"is_present\": true, \"std\": 5, \"err_low\": 2.4099998474121094, \"err_high\": 22.40999984741211}, {\"time\": \"2000-06-15T21:00:00\", \"variable\": \"TA\", \"value\": 12.270000457763672, \"is_present\": true, \"std\": 5, \"err_low\": 2.270000457763672, \"err_high\": 22.270000457763672}, {\"time\": \"2000-06-15T21:30:00\", \"variable\": \"TA\", \"value\": 12.199999809265137, \"is_present\": true, \"std\": 5, \"err_low\": 2.1999998092651367, \"err_high\": 22.199999809265137}, {\"time\": \"2000-06-15T17:00:00\", \"variable\": \"SW_IN\", \"value\": 224.8000030517578, \"is_present\": true, \"std\": 5, \"err_low\": 214.8000030517578, \"err_high\": 234.8000030517578}, {\"time\": \"2000-06-15T17:30:00\", \"variable\": \"SW_IN\", \"value\": 195.27999877929688, \"is_present\": false, \"std\": 5, \"err_low\": 185.27999877929688, \"err_high\": 205.27999877929688}, {\"time\": \"2000-06-15T18:00:00\", \"variable\": \"SW_IN\", \"value\": 244.1699981689453, \"is_present\": false, \"std\": 5, \"err_low\": 234.1699981689453, \"err_high\": 254.1699981689453}, {\"time\": \"2000-06-15T18:30:00\", \"variable\": \"SW_IN\", \"value\": 253.9199981689453, \"is_present\": true, \"std\": 5, \"err_low\": 243.9199981689453, \"err_high\": 263.9199981689453}, {\"time\": \"2000-06-15T19:00:00\", \"variable\": \"SW_IN\", \"value\": 177.30999755859375, \"is_present\": true, \"std\": 5, \"err_low\": 167.30999755859375, \"err_high\": 187.30999755859375}, {\"time\": \"2000-06-15T19:30:00\", \"variable\": \"SW_IN\", \"value\": 97.06999969482422, \"is_present\": true, \"std\": 5, \"err_low\": 87.06999969482422, \"err_high\": 107.06999969482422}, {\"time\": \"2000-06-15T20:00:00\", \"variable\": \"SW_IN\", \"value\": 39.709999084472656, \"is_present\": true, \"std\": 5, \"err_low\": 29.709999084472656, \"err_high\": 49.709999084472656}, {\"time\": \"2000-06-15T20:30:00\", \"variable\": \"SW_IN\", \"value\": 10.649999618530273, \"is_present\": true, \"std\": 5, \"err_low\": 0.6499996185302734, \"err_high\": 20.649999618530273}, {\"time\": \"2000-06-15T21:00:00\", \"variable\": \"SW_IN\", \"value\": 0.3199999928474426, \"is_present\": true, \"std\": 5, \"err_low\": -9.680000007152557, \"err_high\": 10.319999992847443}, {\"time\": \"2000-06-15T21:30:00\", \"variable\": \"SW_IN\", \"value\": 0.0, \"is_present\": true, \"std\": 5, \"err_low\": -10.0, \"err_high\": 10.0}, {\"time\": \"2000-06-15T17:00:00\", \"variable\": \"VPD\", \"value\": 5.798999786376953, \"is_present\": true, \"std\": 5, \"err_low\": -4.201000213623047, \"err_high\": 15.798999786376953}, {\"time\": \"2000-06-15T17:30:00\", \"variable\": \"VPD\", \"value\": 6.577000141143799, \"is_present\": true, \"std\": 5, \"err_low\": -3.422999858856201, \"err_high\": 16.5770001411438}, {\"time\": \"2000-06-15T18:00:00\", \"variable\": \"VPD\", \"value\": 6.931000232696533, \"is_present\": true, \"std\": 5, \"err_low\": -3.068999767303467, \"err_high\": 16.931000232696533}, {\"time\": \"2000-06-15T18:30:00\", \"variable\": \"VPD\", \"value\": 7.285999774932861, \"is_present\": true, \"std\": 5, \"err_low\": -2.7140002250671387, \"err_high\": 17.28599977493286}, {\"time\": \"2000-06-15T19:00:00\", \"variable\": \"VPD\", \"value\": 7.250999927520752, \"is_present\": true, \"std\": 5, \"err_low\": -2.749000072479248, \"err_high\": 17.250999927520752}, {\"time\": \"2000-06-15T19:30:00\", \"variable\": \"VPD\", \"value\": 6.683000087738037, \"is_present\": true, \"std\": 5, \"err_low\": -3.316999912261963, \"err_high\": 16.683000087738037}, {\"time\": \"2000-06-15T20:00:00\", \"variable\": \"VPD\", \"value\": 5.85099983215332, \"is_present\": true, \"std\": 5, \"err_low\": -4.14900016784668, \"err_high\": 15.85099983215332}, {\"time\": \"2000-06-15T20:30:00\", \"variable\": \"VPD\", \"value\": 5.254000186920166, \"is_present\": true, \"std\": 5, \"err_low\": -4.745999813079834, \"err_high\": 15.254000186920166}, {\"time\": \"2000-06-15T21:00:00\", \"variable\": \"VPD\", \"value\": 5.164000034332275, \"is_present\": true, \"std\": 5, \"err_low\": -4.835999965667725, \"err_high\": 15.164000034332275}, {\"time\": \"2000-06-15T21:30:00\", \"variable\": \"VPD\", \"value\": 5.0370001792907715, \"is_present\": true, \"std\": 5, \"err_low\": -4.9629998207092285, \"err_high\": 15.037000179290771}]}}, {\"mode\": \"vega-lite\"});\n",
       "</script>"
      ],
      "text/plain": [
       "alt.Chart(...)"
      ]
     },
     "execution_count": null,
     "metadata": {},
     "output_type": "execute_result"
    }
   ],
   "source": [
    "plot_error(m_df.tidy().assign(std=5))"
   ]
  },
  {
   "cell_type": "markdown",
   "id": "1fe0fa10-e1d7-44c1-8979-8f06bf243fc0",
   "metadata": {},
   "source": [
    "##### Variable"
   ]
  },
  {
   "cell_type": "code",
   "execution_count": null,
   "id": "a26f136e-c919-4083-bad9-e40f2b4996bd",
   "metadata": {},
   "outputs": [],
   "source": [
    "#| exporti\n",
    "def plot_variable(df, variable, ys=[\"value\", \"value\"], title=\"\", y_label=\"\", sel = None, error=False, props = {}):\n",
    "    df = df[df.variable == variable].copy()\n",
    "    sel = ifnone(sel, def_selection())\n",
    "    # rug = plot_rug(df, sel, props)\n",
    "    points = plot_points(df, ys[0], y_label, sel, props)\n",
    "    if not df.is_present.all(): points += plot_missing_area(df, sel, props) # there is a gap\n",
    "    line = plot_line(df, True, ys[1], y_label, sel, props)\n",
    "    if error: line = plot_error(df, y=ys[1], y_label=y_label, sel=sel, props=props) + line\n",
    "    \n",
    "    return (points + line).properties(title=title)\n",
    "    \n",
    "    # return alt.VConcatChart(vconcat=[(points + line), rug], spacing=-10).properties(title=title)"
   ]
  },
  {
   "cell_type": "code",
   "execution_count": null,
   "id": "fa1c1f39-0db0-4842-bada-da41eacd9ac6",
   "metadata": {},
   "outputs": [
    {
     "data": {
      "text/html": [
       "\n",
       "<div id=\"altair-viz-389c18c9f35f4e91b3417bd165550e10\"></div>\n",
       "<script type=\"text/javascript\">\n",
       "  var VEGA_DEBUG = (typeof VEGA_DEBUG == \"undefined\") ? {} : VEGA_DEBUG;\n",
       "  (function(spec, embedOpt){\n",
       "    let outputDiv = document.currentScript.previousElementSibling;\n",
       "    if (outputDiv.id !== \"altair-viz-389c18c9f35f4e91b3417bd165550e10\") {\n",
       "      outputDiv = document.getElementById(\"altair-viz-389c18c9f35f4e91b3417bd165550e10\");\n",
       "    }\n",
       "    const paths = {\n",
       "      \"vega\": \"https://cdn.jsdelivr.net/npm//vega@5?noext\",\n",
       "      \"vega-lib\": \"https://cdn.jsdelivr.net/npm//vega-lib?noext\",\n",
       "      \"vega-lite\": \"https://cdn.jsdelivr.net/npm//vega-lite@5.2.0?noext\",\n",
       "      \"vega-embed\": \"https://cdn.jsdelivr.net/npm//vega-embed@6?noext\",\n",
       "    };\n",
       "\n",
       "    function maybeLoadScript(lib, version) {\n",
       "      var key = `${lib.replace(\"-\", \"\")}_version`;\n",
       "      return (VEGA_DEBUG[key] == version) ?\n",
       "        Promise.resolve(paths[lib]) :\n",
       "        new Promise(function(resolve, reject) {\n",
       "          var s = document.createElement('script');\n",
       "          document.getElementsByTagName(\"head\")[0].appendChild(s);\n",
       "          s.async = true;\n",
       "          s.onload = () => {\n",
       "            VEGA_DEBUG[key] = version;\n",
       "            return resolve(paths[lib]);\n",
       "          };\n",
       "          s.onerror = () => reject(`Error loading script: ${paths[lib]}`);\n",
       "          s.src = paths[lib];\n",
       "        });\n",
       "    }\n",
       "\n",
       "    function showError(err) {\n",
       "      outputDiv.innerHTML = `<div class=\"error\" style=\"color:red;\">${err}</div>`;\n",
       "      throw err;\n",
       "    }\n",
       "\n",
       "    function displayChart(vegaEmbed) {\n",
       "      vegaEmbed(outputDiv, spec, embedOpt)\n",
       "        .catch(err => showError(`Javascript Error: ${err.message}<br>This usually means there's a typo in your chart specification. See the javascript console for the full traceback.`));\n",
       "    }\n",
       "\n",
       "    if(typeof define === \"function\" && define.amd) {\n",
       "      requirejs.config({paths});\n",
       "      require([\"vega-embed\"], displayChart, err => showError(`Error loading script: ${err.message}`));\n",
       "    } else {\n",
       "      maybeLoadScript(\"vega\", \"5\")\n",
       "        .then(() => maybeLoadScript(\"vega-lite\", \"5.2.0\"))\n",
       "        .then(() => maybeLoadScript(\"vega-embed\", \"6\"))\n",
       "        .catch(showError)\n",
       "        .then(() => displayChart(vegaEmbed));\n",
       "    }\n",
       "  })({\"config\": {\"view\": {\"continuousWidth\": 400, \"continuousHeight\": 300}}, \"layer\": [{\"data\": {\"name\": \"data-68ea87d77c85fcd128943e4946aabb22\"}, \"mark\": {\"type\": \"point\", \"color\": \"black\", \"fillOpacity\": 1, \"strokeWidth\": 1}, \"encoding\": {\"fill\": {\"field\": \"is_present\", \"legend\": {\"title\": [\"Observed data\"]}, \"scale\": {\"range\": [\"black\", \"#ffffff00\"]}, \"type\": \"nominal\"}, \"shape\": {\"field\": \"is_present\", \"type\": \"nominal\"}, \"x\": {\"axis\": {\"domain\": true, \"labels\": true, \"ticks\": true, \"title\": \"time\"}, \"field\": \"time\", \"type\": \"temporal\"}, \"y\": {\"field\": \"value\", \"scale\": {\"zero\": false}, \"title\": \"\", \"type\": \"quantitative\"}}}, {\"layer\": [{\"mark\": \"rule\", \"encoding\": {\"x\": {\"axis\": {\"domain\": false, \"labels\": false, \"ticks\": false, \"title\": null}, \"field\": \"gap_start\", \"type\": \"temporal\"}}}, {\"mark\": \"rule\", \"encoding\": {\"x\": {\"axis\": {\"domain\": false, \"labels\": false, \"ticks\": false, \"title\": null}, \"field\": \"gap_end\", \"type\": \"temporal\"}}}, {\"mark\": {\"type\": \"rect\", \"color\": \"black\", \"opacity\": 0.2}, \"encoding\": {\"x\": {\"axis\": {\"domain\": false, \"labels\": false, \"ticks\": false, \"title\": null}, \"field\": \"gap_start\", \"type\": \"temporal\"}, \"x2\": {\"field\": \"gap_end\"}}}], \"data\": {\"name\": \"data-c8182dc3db8067cf5aaf76e1a132f712\"}}, {\"data\": {\"name\": \"data-68ea87d77c85fcd128943e4946aabb22\"}, \"mark\": \"line\", \"encoding\": {\"color\": {\"field\": \"variable\", \"type\": \"nominal\"}, \"x\": {\"field\": \"time\", \"type\": \"temporal\"}, \"y\": {\"field\": \"value\", \"scale\": {\"zero\": false}, \"title\": \"\", \"type\": \"quantitative\"}}, \"name\": \"view_1\"}], \"params\": [{\"name\": \"param_6\", \"select\": {\"type\": \"interval\"}, \"bind\": \"scales\", \"views\": [\"view_1\"]}], \"title\": \"title TA\", \"$schema\": \"https://vega.github.io/schema/vega-lite/v5.2.0.json\", \"datasets\": {\"data-68ea87d77c85fcd128943e4946aabb22\": [{\"time\": \"2000-06-15T17:00:00\", \"variable\": \"TA\", \"value\": 14.220000267028809, \"is_present\": true}, {\"time\": \"2000-06-15T17:30:00\", \"variable\": \"TA\", \"value\": 14.109999656677246, \"is_present\": false}, {\"time\": \"2000-06-15T18:00:00\", \"variable\": \"TA\", \"value\": 14.229999542236328, \"is_present\": false}, {\"time\": \"2000-06-15T18:30:00\", \"variable\": \"TA\", \"value\": 14.399999618530273, \"is_present\": true}, {\"time\": \"2000-06-15T19:00:00\", \"variable\": \"TA\", \"value\": 14.09000015258789, \"is_present\": true}, {\"time\": \"2000-06-15T19:30:00\", \"variable\": \"TA\", \"value\": 13.710000038146973, \"is_present\": true}, {\"time\": \"2000-06-15T20:00:00\", \"variable\": \"TA\", \"value\": 13.079999923706055, \"is_present\": true}, {\"time\": \"2000-06-15T20:30:00\", \"variable\": \"TA\", \"value\": 12.40999984741211, \"is_present\": true}, {\"time\": \"2000-06-15T21:00:00\", \"variable\": \"TA\", \"value\": 12.270000457763672, \"is_present\": true}, {\"time\": \"2000-06-15T21:30:00\", \"variable\": \"TA\", \"value\": 12.199999809265137, \"is_present\": true}], \"data-c8182dc3db8067cf5aaf76e1a132f712\": [{\"gap_start\": \"2000-06-15T17:30:00\", \"gap_end\": \"2000-06-15T18:00:00\"}]}}, {\"mode\": \"vega-lite\"});\n",
       "</script>"
      ],
      "text/plain": [
       "alt.LayerChart(...)"
      ]
     },
     "execution_count": null,
     "metadata": {},
     "output_type": "execute_result"
    }
   ],
   "source": [
    "plot_variable(m_df.tidy(), \"TA\", title=\"title TA\")"
   ]
  },
  {
   "cell_type": "code",
   "execution_count": null,
   "id": "a41576fd-91dc-44d9-bd01-f0877273a835",
   "metadata": {},
   "outputs": [
    {
     "data": {
      "text/html": [
       "\n",
       "<div id=\"altair-viz-c2ad7911f3854df99edfaa8840bbe9e9\"></div>\n",
       "<script type=\"text/javascript\">\n",
       "  var VEGA_DEBUG = (typeof VEGA_DEBUG == \"undefined\") ? {} : VEGA_DEBUG;\n",
       "  (function(spec, embedOpt){\n",
       "    let outputDiv = document.currentScript.previousElementSibling;\n",
       "    if (outputDiv.id !== \"altair-viz-c2ad7911f3854df99edfaa8840bbe9e9\") {\n",
       "      outputDiv = document.getElementById(\"altair-viz-c2ad7911f3854df99edfaa8840bbe9e9\");\n",
       "    }\n",
       "    const paths = {\n",
       "      \"vega\": \"https://cdn.jsdelivr.net/npm//vega@5?noext\",\n",
       "      \"vega-lib\": \"https://cdn.jsdelivr.net/npm//vega-lib?noext\",\n",
       "      \"vega-lite\": \"https://cdn.jsdelivr.net/npm//vega-lite@5.2.0?noext\",\n",
       "      \"vega-embed\": \"https://cdn.jsdelivr.net/npm//vega-embed@6?noext\",\n",
       "    };\n",
       "\n",
       "    function maybeLoadScript(lib, version) {\n",
       "      var key = `${lib.replace(\"-\", \"\")}_version`;\n",
       "      return (VEGA_DEBUG[key] == version) ?\n",
       "        Promise.resolve(paths[lib]) :\n",
       "        new Promise(function(resolve, reject) {\n",
       "          var s = document.createElement('script');\n",
       "          document.getElementsByTagName(\"head\")[0].appendChild(s);\n",
       "          s.async = true;\n",
       "          s.onload = () => {\n",
       "            VEGA_DEBUG[key] = version;\n",
       "            return resolve(paths[lib]);\n",
       "          };\n",
       "          s.onerror = () => reject(`Error loading script: ${paths[lib]}`);\n",
       "          s.src = paths[lib];\n",
       "        });\n",
       "    }\n",
       "\n",
       "    function showError(err) {\n",
       "      outputDiv.innerHTML = `<div class=\"error\" style=\"color:red;\">${err}</div>`;\n",
       "      throw err;\n",
       "    }\n",
       "\n",
       "    function displayChart(vegaEmbed) {\n",
       "      vegaEmbed(outputDiv, spec, embedOpt)\n",
       "        .catch(err => showError(`Javascript Error: ${err.message}<br>This usually means there's a typo in your chart specification. See the javascript console for the full traceback.`));\n",
       "    }\n",
       "\n",
       "    if(typeof define === \"function\" && define.amd) {\n",
       "      requirejs.config({paths});\n",
       "      require([\"vega-embed\"], displayChart, err => showError(`Error loading script: ${err.message}`));\n",
       "    } else {\n",
       "      maybeLoadScript(\"vega\", \"5\")\n",
       "        .then(() => maybeLoadScript(\"vega-lite\", \"5.2.0\"))\n",
       "        .then(() => maybeLoadScript(\"vega-embed\", \"6\"))\n",
       "        .catch(showError)\n",
       "        .then(() => displayChart(vegaEmbed));\n",
       "    }\n",
       "  })({\"config\": {\"view\": {\"continuousWidth\": 400, \"continuousHeight\": 300}}, \"layer\": [{\"data\": {\"name\": \"data-12f9ba415d1edade6081ec703f6f8683\"}, \"mark\": {\"type\": \"point\", \"color\": \"black\", \"fillOpacity\": 1, \"strokeWidth\": 1}, \"encoding\": {\"fill\": {\"field\": \"is_present\", \"legend\": {\"title\": [\"Observed data\"]}, \"scale\": {\"range\": [\"black\", \"#ffffff00\"]}, \"type\": \"nominal\"}, \"shape\": {\"field\": \"is_present\", \"type\": \"nominal\"}, \"x\": {\"axis\": {\"domain\": true, \"labels\": true, \"ticks\": true, \"title\": \"time\"}, \"field\": \"time\", \"type\": \"temporal\"}, \"y\": {\"field\": \"value\", \"scale\": {\"zero\": false}, \"title\": \"\", \"type\": \"quantitative\"}}}, {\"layer\": [{\"mark\": \"rule\", \"encoding\": {\"x\": {\"axis\": {\"domain\": false, \"labels\": false, \"ticks\": false, \"title\": null}, \"field\": \"gap_start\", \"type\": \"temporal\"}}}, {\"mark\": \"rule\", \"encoding\": {\"x\": {\"axis\": {\"domain\": false, \"labels\": false, \"ticks\": false, \"title\": null}, \"field\": \"gap_end\", \"type\": \"temporal\"}}}, {\"mark\": {\"type\": \"rect\", \"color\": \"black\", \"opacity\": 0.2}, \"encoding\": {\"x\": {\"axis\": {\"domain\": false, \"labels\": false, \"ticks\": false, \"title\": null}, \"field\": \"gap_start\", \"type\": \"temporal\"}, \"x2\": {\"field\": \"gap_end\"}}}], \"data\": {\"name\": \"data-c8182dc3db8067cf5aaf76e1a132f712\"}}, {\"layer\": [{\"mark\": \"errorband\", \"encoding\": {\"color\": {\"field\": \"variable\", \"legend\": {\"title\": [\"Line: pred. mean\", \"area: +/- 2 std\"]}, \"type\": \"nominal\"}, \"x\": {\"field\": \"time\", \"type\": \"temporal\"}, \"y\": {\"field\": \"err_low\", \"scale\": {\"zero\": false}, \"title\": \"\", \"type\": \"quantitative\"}, \"y2\": {\"field\": \"err_high\"}}, \"name\": \"view_2\"}, {\"mark\": \"line\", \"encoding\": {\"color\": {\"field\": \"variable\", \"type\": \"nominal\"}, \"x\": {\"field\": \"time\", \"type\": \"temporal\"}, \"y\": {\"field\": \"value\", \"scale\": {\"zero\": false}, \"title\": \"\", \"type\": \"quantitative\"}}}], \"data\": {\"name\": \"data-12f9ba415d1edade6081ec703f6f8683\"}}], \"params\": [{\"name\": \"param_7\", \"select\": {\"type\": \"interval\"}, \"bind\": \"scales\", \"views\": [\"view_2\"]}], \"title\": \"title TA\", \"$schema\": \"https://vega.github.io/schema/vega-lite/v5.2.0.json\", \"datasets\": {\"data-12f9ba415d1edade6081ec703f6f8683\": [{\"time\": \"2000-06-15T17:00:00\", \"variable\": \"TA\", \"value\": 14.220000267028809, \"is_present\": true, \"std\": 0.5, \"err_low\": 13.220000267028809, \"err_high\": 15.220000267028809}, {\"time\": \"2000-06-15T17:30:00\", \"variable\": \"TA\", \"value\": 14.109999656677246, \"is_present\": false, \"std\": 0.5, \"err_low\": 13.109999656677246, \"err_high\": 15.109999656677246}, {\"time\": \"2000-06-15T18:00:00\", \"variable\": \"TA\", \"value\": 14.229999542236328, \"is_present\": false, \"std\": 0.5, \"err_low\": 13.229999542236328, \"err_high\": 15.229999542236328}, {\"time\": \"2000-06-15T18:30:00\", \"variable\": \"TA\", \"value\": 14.399999618530273, \"is_present\": true, \"std\": 0.5, \"err_low\": 13.399999618530273, \"err_high\": 15.399999618530273}, {\"time\": \"2000-06-15T19:00:00\", \"variable\": \"TA\", \"value\": 14.09000015258789, \"is_present\": true, \"std\": 0.5, \"err_low\": 13.09000015258789, \"err_high\": 15.09000015258789}, {\"time\": \"2000-06-15T19:30:00\", \"variable\": \"TA\", \"value\": 13.710000038146973, \"is_present\": true, \"std\": 0.5, \"err_low\": 12.710000038146973, \"err_high\": 14.710000038146973}, {\"time\": \"2000-06-15T20:00:00\", \"variable\": \"TA\", \"value\": 13.079999923706055, \"is_present\": true, \"std\": 0.5, \"err_low\": 12.079999923706055, \"err_high\": 14.079999923706055}, {\"time\": \"2000-06-15T20:30:00\", \"variable\": \"TA\", \"value\": 12.40999984741211, \"is_present\": true, \"std\": 0.5, \"err_low\": 11.40999984741211, \"err_high\": 13.40999984741211}, {\"time\": \"2000-06-15T21:00:00\", \"variable\": \"TA\", \"value\": 12.270000457763672, \"is_present\": true, \"std\": 0.5, \"err_low\": 11.270000457763672, \"err_high\": 13.270000457763672}, {\"time\": \"2000-06-15T21:30:00\", \"variable\": \"TA\", \"value\": 12.199999809265137, \"is_present\": true, \"std\": 0.5, \"err_low\": 11.199999809265137, \"err_high\": 13.199999809265137}], \"data-c8182dc3db8067cf5aaf76e1a132f712\": [{\"gap_start\": \"2000-06-15T17:30:00\", \"gap_end\": \"2000-06-15T18:00:00\"}]}}, {\"mode\": \"vega-lite\"});\n",
       "</script>"
      ],
      "text/plain": [
       "alt.LayerChart(...)"
      ]
     },
     "execution_count": null,
     "metadata": {},
     "output_type": "execute_result"
    }
   ],
   "source": [
    "plot_variable(m_df.tidy().assign(std=.5), \"TA\", title=\"title TA\", error=True)"
   ]
  },
  {
   "cell_type": "markdown",
   "id": "1533116a-d9a2-4a23-9329-9f9357397e34",
   "metadata": {},
   "source": [
    "##### Facet"
   ]
  },
  {
   "cell_type": "code",
   "execution_count": null,
   "id": "df1cf2d7-d9de-48ff-9017-c20e31b7dd21",
   "metadata": {},
   "outputs": [],
   "source": [
    "#| export\n",
    "def facet_variable(df, # tidy dataframe\n",
    "                   n_cols: int = 3,\n",
    "                   bind_interaction: bool =True, # Whether the sub-plots for each variable should be connected for zooming/panning\n",
    "                   error:bool=False, # plot error bar\n",
    "                   ys:list=[\"value\", \"value\"],\n",
    "                   props:dict|None = None, # additional properties for altair plot (eg. size)\n",
    "                   ) -> alt.Chart:\n",
    "    \"\"\"Plot all values of the column `variable` in different subplots\"\"\"\n",
    "    props = ifnone(props, {'width': 200, 'height': 150})\n",
    "    vars = df.variable.unique()\n",
    "    plot_list = [alt.hconcat() for _ in range(0, len(vars), n_cols)]\n",
    "    selection_scale = alt.selection_interval(bind=\"scales\", encodings=['x']) if bind_interaction else None\n",
    "    for idx, variable in enumerate(vars):\n",
    "        plot = plot_variable(df,\n",
    "                            variable,\n",
    "                            ys = ys,\n",
    "                            title = variable,\n",
    "                            y_label = variable,\n",
    "                            sel = selection_scale,\n",
    "                            props=props,\n",
    "                            error=error)\n",
    "        \n",
    "        plot_list[idx // n_cols] |= plot\n",
    "    \n",
    "    plot = alt.vconcat(*plot_list)\n",
    "    \n",
    "    return plot"
   ]
  },
  {
   "cell_type": "markdown",
   "id": "14d74f32-66a2-4002-a3a0-41bd6b5e2957",
   "metadata": {},
   "source": [
    "##### Show"
   ]
  },
  {
   "cell_type": "code",
   "execution_count": null,
   "id": "1787dc1e-cf5f-479b-9173-eaaf2643fd77",
   "metadata": {},
   "outputs": [],
   "source": [
    "#| export\n",
    "@patch\n",
    "def show(self: MeteoImpDf, ax=None, ctx=None, \n",
    "        n_cols: int = 3,\n",
    "        bind_interaction: bool =True, # Whether the sub-plots for each variable should be connected for zooming/panning\n",
    "        props:dict = None # additional properties (eg. size) for altair plot\n",
    "       ) -> alt.Chart:\n",
    "    \n",
    "    df = self.tidy()\n",
    "    return facet_variable(df, n_cols, bind_interaction, props)"
   ]
  },
  {
   "cell_type": "code",
   "execution_count": null,
   "id": "6c56115a-5127-473f-be9e-57df2f958496",
   "metadata": {},
   "outputs": [
    {
     "data": {
      "text/html": [
       "\n",
       "<div id=\"altair-viz-0de92a20fdba40ceb194feb59c98463b\"></div>\n",
       "<script type=\"text/javascript\">\n",
       "  var VEGA_DEBUG = (typeof VEGA_DEBUG == \"undefined\") ? {} : VEGA_DEBUG;\n",
       "  (function(spec, embedOpt){\n",
       "    let outputDiv = document.currentScript.previousElementSibling;\n",
       "    if (outputDiv.id !== \"altair-viz-0de92a20fdba40ceb194feb59c98463b\") {\n",
       "      outputDiv = document.getElementById(\"altair-viz-0de92a20fdba40ceb194feb59c98463b\");\n",
       "    }\n",
       "    const paths = {\n",
       "      \"vega\": \"https://cdn.jsdelivr.net/npm//vega@5?noext\",\n",
       "      \"vega-lib\": \"https://cdn.jsdelivr.net/npm//vega-lib?noext\",\n",
       "      \"vega-lite\": \"https://cdn.jsdelivr.net/npm//vega-lite@5.2.0?noext\",\n",
       "      \"vega-embed\": \"https://cdn.jsdelivr.net/npm//vega-embed@6?noext\",\n",
       "    };\n",
       "\n",
       "    function maybeLoadScript(lib, version) {\n",
       "      var key = `${lib.replace(\"-\", \"\")}_version`;\n",
       "      return (VEGA_DEBUG[key] == version) ?\n",
       "        Promise.resolve(paths[lib]) :\n",
       "        new Promise(function(resolve, reject) {\n",
       "          var s = document.createElement('script');\n",
       "          document.getElementsByTagName(\"head\")[0].appendChild(s);\n",
       "          s.async = true;\n",
       "          s.onload = () => {\n",
       "            VEGA_DEBUG[key] = version;\n",
       "            return resolve(paths[lib]);\n",
       "          };\n",
       "          s.onerror = () => reject(`Error loading script: ${paths[lib]}`);\n",
       "          s.src = paths[lib];\n",
       "        });\n",
       "    }\n",
       "\n",
       "    function showError(err) {\n",
       "      outputDiv.innerHTML = `<div class=\"error\" style=\"color:red;\">${err}</div>`;\n",
       "      throw err;\n",
       "    }\n",
       "\n",
       "    function displayChart(vegaEmbed) {\n",
       "      vegaEmbed(outputDiv, spec, embedOpt)\n",
       "        .catch(err => showError(`Javascript Error: ${err.message}<br>This usually means there's a typo in your chart specification. See the javascript console for the full traceback.`));\n",
       "    }\n",
       "\n",
       "    if(typeof define === \"function\" && define.amd) {\n",
       "      requirejs.config({paths});\n",
       "      require([\"vega-embed\"], displayChart, err => showError(`Error loading script: ${err.message}`));\n",
       "    } else {\n",
       "      maybeLoadScript(\"vega\", \"5\")\n",
       "        .then(() => maybeLoadScript(\"vega-lite\", \"5.2.0\"))\n",
       "        .then(() => maybeLoadScript(\"vega-embed\", \"6\"))\n",
       "        .catch(showError)\n",
       "        .then(() => displayChart(vegaEmbed));\n",
       "    }\n",
       "  })({\"config\": {\"view\": {\"continuousWidth\": 400, \"continuousHeight\": 300}}, \"vconcat\": [{\"hconcat\": [{\"layer\": [{\"data\": {\"name\": \"data-68ea87d77c85fcd128943e4946aabb22\"}, \"mark\": {\"type\": \"point\", \"color\": \"black\", \"fillOpacity\": 1, \"strokeWidth\": 1}, \"encoding\": {\"fill\": {\"field\": \"is_present\", \"legend\": {\"title\": [\"Observed data\"]}, \"scale\": {\"range\": [\"black\", \"#ffffff00\"]}, \"type\": \"nominal\"}, \"shape\": {\"field\": \"is_present\", \"type\": \"nominal\"}, \"x\": {\"axis\": {\"domain\": true, \"labels\": true, \"ticks\": true, \"title\": \"time\"}, \"field\": \"time\", \"type\": \"temporal\"}, \"y\": {\"field\": \"value\", \"scale\": {\"zero\": false}, \"title\": \"TA\", \"type\": \"quantitative\"}}}, {\"layer\": [{\"mark\": \"rule\", \"encoding\": {\"x\": {\"axis\": {\"domain\": false, \"labels\": false, \"ticks\": false, \"title\": null}, \"field\": \"gap_start\", \"type\": \"temporal\"}}}, {\"mark\": \"rule\", \"encoding\": {\"x\": {\"axis\": {\"domain\": false, \"labels\": false, \"ticks\": false, \"title\": null}, \"field\": \"gap_end\", \"type\": \"temporal\"}}}, {\"mark\": {\"type\": \"rect\", \"color\": \"black\", \"opacity\": 0.2}, \"encoding\": {\"x\": {\"axis\": {\"domain\": false, \"labels\": false, \"ticks\": false, \"title\": null}, \"field\": \"gap_start\", \"type\": \"temporal\"}, \"x2\": {\"field\": \"gap_end\"}}}], \"data\": {\"name\": \"data-c8182dc3db8067cf5aaf76e1a132f712\"}}, {\"data\": {\"name\": \"data-68ea87d77c85fcd128943e4946aabb22\"}, \"mark\": \"line\", \"encoding\": {\"color\": {\"field\": \"variable\", \"type\": \"nominal\"}, \"x\": {\"field\": \"time\", \"type\": \"temporal\"}, \"y\": {\"field\": \"value\", \"scale\": {\"zero\": false}, \"title\": \"TA\", \"type\": \"quantitative\"}}, \"name\": \"view_3\"}], \"height\": 150, \"title\": \"TA\", \"width\": 200}, {\"layer\": [{\"data\": {\"name\": \"data-89237cbe188f05ebcca2d6d5d93729f0\"}, \"mark\": {\"type\": \"point\", \"color\": \"black\", \"fillOpacity\": 1, \"strokeWidth\": 1}, \"encoding\": {\"fill\": {\"field\": \"is_present\", \"legend\": {\"title\": [\"Observed data\"]}, \"scale\": {\"range\": [\"black\", \"#ffffff00\"]}, \"type\": \"nominal\"}, \"shape\": {\"field\": \"is_present\", \"type\": \"nominal\"}, \"x\": {\"axis\": {\"domain\": true, \"labels\": true, \"ticks\": true, \"title\": \"time\"}, \"field\": \"time\", \"type\": \"temporal\"}, \"y\": {\"field\": \"value\", \"scale\": {\"zero\": false}, \"title\": \"SW_IN\", \"type\": \"quantitative\"}}}, {\"layer\": [{\"mark\": \"rule\", \"encoding\": {\"x\": {\"axis\": {\"domain\": false, \"labels\": false, \"ticks\": false, \"title\": null}, \"field\": \"gap_start\", \"type\": \"temporal\"}}}, {\"mark\": \"rule\", \"encoding\": {\"x\": {\"axis\": {\"domain\": false, \"labels\": false, \"ticks\": false, \"title\": null}, \"field\": \"gap_end\", \"type\": \"temporal\"}}}, {\"mark\": {\"type\": \"rect\", \"color\": \"black\", \"opacity\": 0.2}, \"encoding\": {\"x\": {\"axis\": {\"domain\": false, \"labels\": false, \"ticks\": false, \"title\": null}, \"field\": \"gap_start\", \"type\": \"temporal\"}, \"x2\": {\"field\": \"gap_end\"}}}], \"data\": {\"name\": \"data-c8182dc3db8067cf5aaf76e1a132f712\"}}, {\"data\": {\"name\": \"data-89237cbe188f05ebcca2d6d5d93729f0\"}, \"mark\": \"line\", \"encoding\": {\"color\": {\"field\": \"variable\", \"type\": \"nominal\"}, \"x\": {\"field\": \"time\", \"type\": \"temporal\"}, \"y\": {\"field\": \"value\", \"scale\": {\"zero\": false}, \"title\": \"SW_IN\", \"type\": \"quantitative\"}}, \"name\": \"view_4\"}], \"height\": 150, \"title\": \"SW_IN\", \"width\": 200}, {\"layer\": [{\"mark\": {\"type\": \"point\", \"color\": \"black\", \"fillOpacity\": 1, \"strokeWidth\": 1}, \"encoding\": {\"fill\": {\"field\": \"is_present\", \"legend\": {\"title\": [\"Observed data\"]}, \"scale\": {\"range\": [\"black\", \"#ffffff00\"]}, \"type\": \"nominal\"}, \"shape\": {\"field\": \"is_present\", \"type\": \"nominal\"}, \"x\": {\"axis\": {\"domain\": true, \"labels\": true, \"ticks\": true, \"title\": \"time\"}, \"field\": \"time\", \"type\": \"temporal\"}, \"y\": {\"field\": \"value\", \"scale\": {\"zero\": false}, \"title\": \"VPD\", \"type\": \"quantitative\"}}}, {\"mark\": \"line\", \"encoding\": {\"color\": {\"field\": \"variable\", \"type\": \"nominal\"}, \"x\": {\"field\": \"time\", \"type\": \"temporal\"}, \"y\": {\"field\": \"value\", \"scale\": {\"zero\": false}, \"title\": \"VPD\", \"type\": \"quantitative\"}}, \"name\": \"view_5\"}], \"data\": {\"name\": \"data-87566384334aba3c379fa0e38b728291\"}, \"height\": 150, \"title\": \"VPD\", \"width\": 200}]}], \"params\": [{\"name\": \"param_8\", \"select\": {\"type\": \"interval\"}, \"bind\": \"scales\", \"views\": [\"view_3\"]}, {\"name\": \"param_9\", \"select\": {\"type\": \"interval\"}, \"bind\": \"scales\", \"views\": [\"view_4\"]}, {\"name\": \"param_10\", \"select\": {\"type\": \"interval\"}, \"bind\": \"scales\", \"views\": [\"view_5\"]}], \"$schema\": \"https://vega.github.io/schema/vega-lite/v5.2.0.json\", \"datasets\": {\"data-68ea87d77c85fcd128943e4946aabb22\": [{\"time\": \"2000-06-15T17:00:00\", \"variable\": \"TA\", \"value\": 14.220000267028809, \"is_present\": true}, {\"time\": \"2000-06-15T17:30:00\", \"variable\": \"TA\", \"value\": 14.109999656677246, \"is_present\": false}, {\"time\": \"2000-06-15T18:00:00\", \"variable\": \"TA\", \"value\": 14.229999542236328, \"is_present\": false}, {\"time\": \"2000-06-15T18:30:00\", \"variable\": \"TA\", \"value\": 14.399999618530273, \"is_present\": true}, {\"time\": \"2000-06-15T19:00:00\", \"variable\": \"TA\", \"value\": 14.09000015258789, \"is_present\": true}, {\"time\": \"2000-06-15T19:30:00\", \"variable\": \"TA\", \"value\": 13.710000038146973, \"is_present\": true}, {\"time\": \"2000-06-15T20:00:00\", \"variable\": \"TA\", \"value\": 13.079999923706055, \"is_present\": true}, {\"time\": \"2000-06-15T20:30:00\", \"variable\": \"TA\", \"value\": 12.40999984741211, \"is_present\": true}, {\"time\": \"2000-06-15T21:00:00\", \"variable\": \"TA\", \"value\": 12.270000457763672, \"is_present\": true}, {\"time\": \"2000-06-15T21:30:00\", \"variable\": \"TA\", \"value\": 12.199999809265137, \"is_present\": true}], \"data-c8182dc3db8067cf5aaf76e1a132f712\": [{\"gap_start\": \"2000-06-15T17:30:00\", \"gap_end\": \"2000-06-15T18:00:00\"}], \"data-89237cbe188f05ebcca2d6d5d93729f0\": [{\"time\": \"2000-06-15T17:00:00\", \"variable\": \"SW_IN\", \"value\": 224.8000030517578, \"is_present\": true}, {\"time\": \"2000-06-15T17:30:00\", \"variable\": \"SW_IN\", \"value\": 195.27999877929688, \"is_present\": false}, {\"time\": \"2000-06-15T18:00:00\", \"variable\": \"SW_IN\", \"value\": 244.1699981689453, \"is_present\": false}, {\"time\": \"2000-06-15T18:30:00\", \"variable\": \"SW_IN\", \"value\": 253.9199981689453, \"is_present\": true}, {\"time\": \"2000-06-15T19:00:00\", \"variable\": \"SW_IN\", \"value\": 177.30999755859375, \"is_present\": true}, {\"time\": \"2000-06-15T19:30:00\", \"variable\": \"SW_IN\", \"value\": 97.06999969482422, \"is_present\": true}, {\"time\": \"2000-06-15T20:00:00\", \"variable\": \"SW_IN\", \"value\": 39.709999084472656, \"is_present\": true}, {\"time\": \"2000-06-15T20:30:00\", \"variable\": \"SW_IN\", \"value\": 10.649999618530273, \"is_present\": true}, {\"time\": \"2000-06-15T21:00:00\", \"variable\": \"SW_IN\", \"value\": 0.3199999928474426, \"is_present\": true}, {\"time\": \"2000-06-15T21:30:00\", \"variable\": \"SW_IN\", \"value\": 0.0, \"is_present\": true}], \"data-87566384334aba3c379fa0e38b728291\": [{\"time\": \"2000-06-15T17:00:00\", \"variable\": \"VPD\", \"value\": 5.798999786376953, \"is_present\": true}, {\"time\": \"2000-06-15T17:30:00\", \"variable\": \"VPD\", \"value\": 6.577000141143799, \"is_present\": true}, {\"time\": \"2000-06-15T18:00:00\", \"variable\": \"VPD\", \"value\": 6.931000232696533, \"is_present\": true}, {\"time\": \"2000-06-15T18:30:00\", \"variable\": \"VPD\", \"value\": 7.285999774932861, \"is_present\": true}, {\"time\": \"2000-06-15T19:00:00\", \"variable\": \"VPD\", \"value\": 7.250999927520752, \"is_present\": true}, {\"time\": \"2000-06-15T19:30:00\", \"variable\": \"VPD\", \"value\": 6.683000087738037, \"is_present\": true}, {\"time\": \"2000-06-15T20:00:00\", \"variable\": \"VPD\", \"value\": 5.85099983215332, \"is_present\": true}, {\"time\": \"2000-06-15T20:30:00\", \"variable\": \"VPD\", \"value\": 5.254000186920166, \"is_present\": true}, {\"time\": \"2000-06-15T21:00:00\", \"variable\": \"VPD\", \"value\": 5.164000034332275, \"is_present\": true}, {\"time\": \"2000-06-15T21:30:00\", \"variable\": \"VPD\", \"value\": 5.0370001792907715, \"is_present\": true}]}}, {\"mode\": \"vega-lite\"});\n",
       "</script>"
      ],
      "text/plain": [
       "alt.VConcatChart(...)"
      ]
     },
     "execution_count": null,
     "metadata": {},
     "output_type": "execute_result"
    }
   ],
   "source": [
    "m_df.show(bind_interaction = False)"
   ]
  },
  {
   "cell_type": "code",
   "execution_count": null,
   "id": "c9284e47-6433-405f-8b0d-a2cd6595bf94",
   "metadata": {},
   "outputs": [
    {
     "data": {
      "text/html": [
       "\n",
       "<div id=\"altair-viz-8757712dc3fb4fa7b5ede516b4cfcb73\"></div>\n",
       "<script type=\"text/javascript\">\n",
       "  var VEGA_DEBUG = (typeof VEGA_DEBUG == \"undefined\") ? {} : VEGA_DEBUG;\n",
       "  (function(spec, embedOpt){\n",
       "    let outputDiv = document.currentScript.previousElementSibling;\n",
       "    if (outputDiv.id !== \"altair-viz-8757712dc3fb4fa7b5ede516b4cfcb73\") {\n",
       "      outputDiv = document.getElementById(\"altair-viz-8757712dc3fb4fa7b5ede516b4cfcb73\");\n",
       "    }\n",
       "    const paths = {\n",
       "      \"vega\": \"https://cdn.jsdelivr.net/npm//vega@5?noext\",\n",
       "      \"vega-lib\": \"https://cdn.jsdelivr.net/npm//vega-lib?noext\",\n",
       "      \"vega-lite\": \"https://cdn.jsdelivr.net/npm//vega-lite@5.2.0?noext\",\n",
       "      \"vega-embed\": \"https://cdn.jsdelivr.net/npm//vega-embed@6?noext\",\n",
       "    };\n",
       "\n",
       "    function maybeLoadScript(lib, version) {\n",
       "      var key = `${lib.replace(\"-\", \"\")}_version`;\n",
       "      return (VEGA_DEBUG[key] == version) ?\n",
       "        Promise.resolve(paths[lib]) :\n",
       "        new Promise(function(resolve, reject) {\n",
       "          var s = document.createElement('script');\n",
       "          document.getElementsByTagName(\"head\")[0].appendChild(s);\n",
       "          s.async = true;\n",
       "          s.onload = () => {\n",
       "            VEGA_DEBUG[key] = version;\n",
       "            return resolve(paths[lib]);\n",
       "          };\n",
       "          s.onerror = () => reject(`Error loading script: ${paths[lib]}`);\n",
       "          s.src = paths[lib];\n",
       "        });\n",
       "    }\n",
       "\n",
       "    function showError(err) {\n",
       "      outputDiv.innerHTML = `<div class=\"error\" style=\"color:red;\">${err}</div>`;\n",
       "      throw err;\n",
       "    }\n",
       "\n",
       "    function displayChart(vegaEmbed) {\n",
       "      vegaEmbed(outputDiv, spec, embedOpt)\n",
       "        .catch(err => showError(`Javascript Error: ${err.message}<br>This usually means there's a typo in your chart specification. See the javascript console for the full traceback.`));\n",
       "    }\n",
       "\n",
       "    if(typeof define === \"function\" && define.amd) {\n",
       "      requirejs.config({paths});\n",
       "      require([\"vega-embed\"], displayChart, err => showError(`Error loading script: ${err.message}`));\n",
       "    } else {\n",
       "      maybeLoadScript(\"vega\", \"5\")\n",
       "        .then(() => maybeLoadScript(\"vega-lite\", \"5.2.0\"))\n",
       "        .then(() => maybeLoadScript(\"vega-embed\", \"6\"))\n",
       "        .catch(showError)\n",
       "        .then(() => displayChart(vegaEmbed));\n",
       "    }\n",
       "  })({\"config\": {\"view\": {\"continuousWidth\": 400, \"continuousHeight\": 300}}, \"vconcat\": [{\"hconcat\": [{\"layer\": [{\"data\": {\"name\": \"data-d3522d54a15a85a858b8e6a3f806052a\"}, \"mark\": {\"type\": \"point\", \"color\": \"black\", \"fillOpacity\": 1, \"strokeWidth\": 1}, \"encoding\": {\"fill\": {\"field\": \"is_present\", \"legend\": {\"title\": [\"Observed data\"]}, \"scale\": {\"range\": [\"black\", \"#ffffff00\"]}, \"type\": \"nominal\"}, \"shape\": {\"field\": \"is_present\", \"type\": \"nominal\"}, \"x\": {\"axis\": {\"domain\": true, \"labels\": true, \"ticks\": true, \"title\": \"time\"}, \"field\": \"time\", \"type\": \"temporal\"}, \"y\": {\"field\": \"value\", \"scale\": {\"zero\": false}, \"title\": \"TA\", \"type\": \"quantitative\"}}}, {\"layer\": [{\"mark\": \"rule\", \"encoding\": {\"x\": {\"axis\": {\"domain\": false, \"labels\": false, \"ticks\": false, \"title\": null}, \"field\": \"gap_start\", \"type\": \"temporal\"}}}, {\"mark\": \"rule\", \"encoding\": {\"x\": {\"axis\": {\"domain\": false, \"labels\": false, \"ticks\": false, \"title\": null}, \"field\": \"gap_end\", \"type\": \"temporal\"}}}, {\"mark\": {\"type\": \"rect\", \"color\": \"black\", \"opacity\": 0.2}, \"encoding\": {\"x\": {\"axis\": {\"domain\": false, \"labels\": false, \"ticks\": false, \"title\": null}, \"field\": \"gap_start\", \"type\": \"temporal\"}, \"x2\": {\"field\": \"gap_end\"}}}], \"data\": {\"name\": \"data-3d8f1279455991cf43dd896051a908a7\"}}, {\"data\": {\"name\": \"data-d3522d54a15a85a858b8e6a3f806052a\"}, \"mark\": \"line\", \"encoding\": {\"color\": {\"field\": \"variable\", \"type\": \"nominal\"}, \"x\": {\"field\": \"time\", \"type\": \"temporal\"}, \"y\": {\"field\": \"value\", \"scale\": {\"zero\": false}, \"title\": \"TA\", \"type\": \"quantitative\"}}, \"name\": \"view_6\"}], \"height\": 150, \"title\": \"TA\", \"width\": 200}, {\"layer\": [{\"data\": {\"name\": \"data-ba91082466fb229ed1d96bd2562685ce\"}, \"mark\": {\"type\": \"point\", \"color\": \"black\", \"fillOpacity\": 1, \"strokeWidth\": 1}, \"encoding\": {\"fill\": {\"field\": \"is_present\", \"legend\": {\"title\": [\"Observed data\"]}, \"scale\": {\"range\": [\"black\", \"#ffffff00\"]}, \"type\": \"nominal\"}, \"shape\": {\"field\": \"is_present\", \"type\": \"nominal\"}, \"x\": {\"axis\": {\"domain\": true, \"labels\": true, \"ticks\": true, \"title\": \"time\"}, \"field\": \"time\", \"type\": \"temporal\"}, \"y\": {\"field\": \"value\", \"scale\": {\"zero\": false}, \"title\": \"SW_IN\", \"type\": \"quantitative\"}}}, {\"layer\": [{\"mark\": \"rule\", \"encoding\": {\"x\": {\"axis\": {\"domain\": false, \"labels\": false, \"ticks\": false, \"title\": null}, \"field\": \"gap_start\", \"type\": \"temporal\"}}}, {\"mark\": \"rule\", \"encoding\": {\"x\": {\"axis\": {\"domain\": false, \"labels\": false, \"ticks\": false, \"title\": null}, \"field\": \"gap_end\", \"type\": \"temporal\"}}}, {\"mark\": {\"type\": \"rect\", \"color\": \"black\", \"opacity\": 0.2}, \"encoding\": {\"x\": {\"axis\": {\"domain\": false, \"labels\": false, \"ticks\": false, \"title\": null}, \"field\": \"gap_start\", \"type\": \"temporal\"}, \"x2\": {\"field\": \"gap_end\"}}}], \"data\": {\"name\": \"data-3d8f1279455991cf43dd896051a908a7\"}}, {\"data\": {\"name\": \"data-ba91082466fb229ed1d96bd2562685ce\"}, \"mark\": \"line\", \"encoding\": {\"color\": {\"field\": \"variable\", \"type\": \"nominal\"}, \"x\": {\"field\": \"time\", \"type\": \"temporal\"}, \"y\": {\"field\": \"value\", \"scale\": {\"zero\": false}, \"title\": \"SW_IN\", \"type\": \"quantitative\"}}, \"name\": \"view_7\"}], \"height\": 150, \"title\": \"SW_IN\", \"width\": 200}, {\"layer\": [{\"mark\": {\"type\": \"point\", \"color\": \"black\", \"fillOpacity\": 1, \"strokeWidth\": 1}, \"encoding\": {\"fill\": {\"field\": \"is_present\", \"legend\": {\"title\": [\"Observed data\"]}, \"scale\": {\"range\": [\"black\", \"#ffffff00\"]}, \"type\": \"nominal\"}, \"shape\": {\"field\": \"is_present\", \"type\": \"nominal\"}, \"x\": {\"axis\": {\"domain\": true, \"labels\": true, \"ticks\": true, \"title\": \"time\"}, \"field\": \"time\", \"type\": \"temporal\"}, \"y\": {\"field\": \"value\", \"scale\": {\"zero\": false}, \"title\": \"VPD\", \"type\": \"quantitative\"}}}, {\"mark\": \"line\", \"encoding\": {\"color\": {\"field\": \"variable\", \"type\": \"nominal\"}, \"x\": {\"field\": \"time\", \"type\": \"temporal\"}, \"y\": {\"field\": \"value\", \"scale\": {\"zero\": false}, \"title\": \"VPD\", \"type\": \"quantitative\"}}, \"name\": \"view_8\"}], \"data\": {\"name\": \"data-87566384334aba3c379fa0e38b728291\"}, \"height\": 150, \"title\": \"VPD\", \"width\": 200}]}], \"params\": [{\"name\": \"param_11\", \"select\": {\"type\": \"interval\", \"encodings\": [\"x\"]}, \"bind\": \"scales\", \"views\": [\"view_6\", \"view_7\", \"view_8\"]}], \"$schema\": \"https://vega.github.io/schema/vega-lite/v5.2.0.json\", \"datasets\": {\"data-d3522d54a15a85a858b8e6a3f806052a\": [{\"time\": \"2000-06-15T17:00:00\", \"variable\": \"TA\", \"value\": 14.220000267028809, \"is_present\": true}, {\"time\": \"2000-06-15T17:30:00\", \"variable\": \"TA\", \"value\": 14.109999656677246, \"is_present\": true}, {\"time\": \"2000-06-15T18:00:00\", \"variable\": \"TA\", \"value\": 14.229999542236328, \"is_present\": false}, {\"time\": \"2000-06-15T18:30:00\", \"variable\": \"TA\", \"value\": 14.399999618530273, \"is_present\": false}, {\"time\": \"2000-06-15T19:00:00\", \"variable\": \"TA\", \"value\": 14.09000015258789, \"is_present\": true}, {\"time\": \"2000-06-15T19:30:00\", \"variable\": \"TA\", \"value\": 13.710000038146973, \"is_present\": true}, {\"time\": \"2000-06-15T20:00:00\", \"variable\": \"TA\", \"value\": 13.079999923706055, \"is_present\": true}, {\"time\": \"2000-06-15T20:30:00\", \"variable\": \"TA\", \"value\": 12.40999984741211, \"is_present\": true}, {\"time\": \"2000-06-15T21:00:00\", \"variable\": \"TA\", \"value\": 12.270000457763672, \"is_present\": true}, {\"time\": \"2000-06-15T21:30:00\", \"variable\": \"TA\", \"value\": 12.199999809265137, \"is_present\": true}], \"data-3d8f1279455991cf43dd896051a908a7\": [{\"gap_start\": \"2000-06-15T18:00:00\", \"gap_end\": \"2000-06-15T18:30:00\"}], \"data-ba91082466fb229ed1d96bd2562685ce\": [{\"time\": \"2000-06-15T17:00:00\", \"variable\": \"SW_IN\", \"value\": 224.8000030517578, \"is_present\": true}, {\"time\": \"2000-06-15T17:30:00\", \"variable\": \"SW_IN\", \"value\": 195.27999877929688, \"is_present\": true}, {\"time\": \"2000-06-15T18:00:00\", \"variable\": \"SW_IN\", \"value\": 244.1699981689453, \"is_present\": false}, {\"time\": \"2000-06-15T18:30:00\", \"variable\": \"SW_IN\", \"value\": 253.9199981689453, \"is_present\": false}, {\"time\": \"2000-06-15T19:00:00\", \"variable\": \"SW_IN\", \"value\": 177.30999755859375, \"is_present\": true}, {\"time\": \"2000-06-15T19:30:00\", \"variable\": \"SW_IN\", \"value\": 97.06999969482422, \"is_present\": true}, {\"time\": \"2000-06-15T20:00:00\", \"variable\": \"SW_IN\", \"value\": 39.709999084472656, \"is_present\": true}, {\"time\": \"2000-06-15T20:30:00\", \"variable\": \"SW_IN\", \"value\": 10.649999618530273, \"is_present\": true}, {\"time\": \"2000-06-15T21:00:00\", \"variable\": \"SW_IN\", \"value\": 0.3199999928474426, \"is_present\": true}, {\"time\": \"2000-06-15T21:30:00\", \"variable\": \"SW_IN\", \"value\": 0.0, \"is_present\": true}], \"data-87566384334aba3c379fa0e38b728291\": [{\"time\": \"2000-06-15T17:00:00\", \"variable\": \"VPD\", \"value\": 5.798999786376953, \"is_present\": true}, {\"time\": \"2000-06-15T17:30:00\", \"variable\": \"VPD\", \"value\": 6.577000141143799, \"is_present\": true}, {\"time\": \"2000-06-15T18:00:00\", \"variable\": \"VPD\", \"value\": 6.931000232696533, \"is_present\": true}, {\"time\": \"2000-06-15T18:30:00\", \"variable\": \"VPD\", \"value\": 7.285999774932861, \"is_present\": true}, {\"time\": \"2000-06-15T19:00:00\", \"variable\": \"VPD\", \"value\": 7.250999927520752, \"is_present\": true}, {\"time\": \"2000-06-15T19:30:00\", \"variable\": \"VPD\", \"value\": 6.683000087738037, \"is_present\": true}, {\"time\": \"2000-06-15T20:00:00\", \"variable\": \"VPD\", \"value\": 5.85099983215332, \"is_present\": true}, {\"time\": \"2000-06-15T20:30:00\", \"variable\": \"VPD\", \"value\": 5.254000186920166, \"is_present\": true}, {\"time\": \"2000-06-15T21:00:00\", \"variable\": \"VPD\", \"value\": 5.164000034332275, \"is_present\": true}, {\"time\": \"2000-06-15T21:30:00\", \"variable\": \"VPD\", \"value\": 5.0370001792907715, \"is_present\": true}]}}, {\"mode\": \"vega-lite\"});\n",
       "</script>"
      ],
      "text/plain": [
       "alt.VConcatChart(...)"
      ]
     },
     "execution_count": null,
     "metadata": {},
     "output_type": "execute_result"
    }
   ],
   "source": [
    "tfms2[0].show()"
   ]
  },
  {
   "cell_type": "code",
   "execution_count": null,
   "id": "416677b9-11ee-4700-b495-0a625209d43b",
   "metadata": {},
   "outputs": [
    {
     "data": {
      "text/html": [
       "\n",
       "<div id=\"altair-viz-95fe6829308c43658ed08199276c3a31\"></div>\n",
       "<script type=\"text/javascript\">\n",
       "  var VEGA_DEBUG = (typeof VEGA_DEBUG == \"undefined\") ? {} : VEGA_DEBUG;\n",
       "  (function(spec, embedOpt){\n",
       "    let outputDiv = document.currentScript.previousElementSibling;\n",
       "    if (outputDiv.id !== \"altair-viz-95fe6829308c43658ed08199276c3a31\") {\n",
       "      outputDiv = document.getElementById(\"altair-viz-95fe6829308c43658ed08199276c3a31\");\n",
       "    }\n",
       "    const paths = {\n",
       "      \"vega\": \"https://cdn.jsdelivr.net/npm//vega@5?noext\",\n",
       "      \"vega-lib\": \"https://cdn.jsdelivr.net/npm//vega-lib?noext\",\n",
       "      \"vega-lite\": \"https://cdn.jsdelivr.net/npm//vega-lite@5.2.0?noext\",\n",
       "      \"vega-embed\": \"https://cdn.jsdelivr.net/npm//vega-embed@6?noext\",\n",
       "    };\n",
       "\n",
       "    function maybeLoadScript(lib, version) {\n",
       "      var key = `${lib.replace(\"-\", \"\")}_version`;\n",
       "      return (VEGA_DEBUG[key] == version) ?\n",
       "        Promise.resolve(paths[lib]) :\n",
       "        new Promise(function(resolve, reject) {\n",
       "          var s = document.createElement('script');\n",
       "          document.getElementsByTagName(\"head\")[0].appendChild(s);\n",
       "          s.async = true;\n",
       "          s.onload = () => {\n",
       "            VEGA_DEBUG[key] = version;\n",
       "            return resolve(paths[lib]);\n",
       "          };\n",
       "          s.onerror = () => reject(`Error loading script: ${paths[lib]}`);\n",
       "          s.src = paths[lib];\n",
       "        });\n",
       "    }\n",
       "\n",
       "    function showError(err) {\n",
       "      outputDiv.innerHTML = `<div class=\"error\" style=\"color:red;\">${err}</div>`;\n",
       "      throw err;\n",
       "    }\n",
       "\n",
       "    function displayChart(vegaEmbed) {\n",
       "      vegaEmbed(outputDiv, spec, embedOpt)\n",
       "        .catch(err => showError(`Javascript Error: ${err.message}<br>This usually means there's a typo in your chart specification. See the javascript console for the full traceback.`));\n",
       "    }\n",
       "\n",
       "    if(typeof define === \"function\" && define.amd) {\n",
       "      requirejs.config({paths});\n",
       "      require([\"vega-embed\"], displayChart, err => showError(`Error loading script: ${err.message}`));\n",
       "    } else {\n",
       "      maybeLoadScript(\"vega\", \"5\")\n",
       "        .then(() => maybeLoadScript(\"vega-lite\", \"5.2.0\"))\n",
       "        .then(() => maybeLoadScript(\"vega-embed\", \"6\"))\n",
       "        .catch(showError)\n",
       "        .then(() => displayChart(vegaEmbed));\n",
       "    }\n",
       "  })({\"config\": {\"view\": {\"continuousWidth\": 400, \"continuousHeight\": 300}}, \"vconcat\": [{\"hconcat\": [{\"layer\": [{\"data\": {\"name\": \"data-51ab4deb9e20f409154ecdc6a82d5792\"}, \"mark\": {\"type\": \"point\", \"color\": \"black\", \"fillOpacity\": 1, \"strokeWidth\": 1}, \"encoding\": {\"fill\": {\"field\": \"is_present\", \"legend\": {\"title\": [\"Observed data\"]}, \"scale\": {\"range\": [\"black\", \"#ffffff00\"]}, \"type\": \"nominal\"}, \"shape\": {\"field\": \"is_present\", \"type\": \"nominal\"}, \"x\": {\"axis\": {\"domain\": true, \"labels\": true, \"ticks\": true, \"title\": \"time\"}, \"field\": \"time\", \"type\": \"temporal\"}, \"y\": {\"field\": \"value\", \"scale\": {\"zero\": false}, \"title\": \"TA\", \"type\": \"quantitative\"}}}, {\"layer\": [{\"mark\": \"rule\", \"encoding\": {\"x\": {\"axis\": {\"domain\": false, \"labels\": false, \"ticks\": false, \"title\": null}, \"field\": \"gap_start\", \"type\": \"temporal\"}}}, {\"mark\": \"rule\", \"encoding\": {\"x\": {\"axis\": {\"domain\": false, \"labels\": false, \"ticks\": false, \"title\": null}, \"field\": \"gap_end\", \"type\": \"temporal\"}}}, {\"mark\": {\"type\": \"rect\", \"color\": \"black\", \"opacity\": 0.2}, \"encoding\": {\"x\": {\"axis\": {\"domain\": false, \"labels\": false, \"ticks\": false, \"title\": null}, \"field\": \"gap_start\", \"type\": \"temporal\"}, \"x2\": {\"field\": \"gap_end\"}}}], \"data\": {\"name\": \"data-1bd453d94a6c560bbdf35162e0deb797\"}}, {\"data\": {\"name\": \"data-51ab4deb9e20f409154ecdc6a82d5792\"}, \"mark\": \"line\", \"encoding\": {\"color\": {\"field\": \"variable\", \"type\": \"nominal\"}, \"x\": {\"field\": \"time\", \"type\": \"temporal\"}, \"y\": {\"field\": \"value\", \"scale\": {\"zero\": false}, \"title\": \"TA\", \"type\": \"quantitative\"}}, \"name\": \"view_9\"}], \"height\": 150, \"title\": \"TA\", \"width\": 200}, {\"layer\": [{\"data\": {\"name\": \"data-2a98879bc4ad3b341f61308fb98621c4\"}, \"mark\": {\"type\": \"point\", \"color\": \"black\", \"fillOpacity\": 1, \"strokeWidth\": 1}, \"encoding\": {\"fill\": {\"field\": \"is_present\", \"legend\": {\"title\": [\"Observed data\"]}, \"scale\": {\"range\": [\"black\", \"#ffffff00\"]}, \"type\": \"nominal\"}, \"shape\": {\"field\": \"is_present\", \"type\": \"nominal\"}, \"x\": {\"axis\": {\"domain\": true, \"labels\": true, \"ticks\": true, \"title\": \"time\"}, \"field\": \"time\", \"type\": \"temporal\"}, \"y\": {\"field\": \"value\", \"scale\": {\"zero\": false}, \"title\": \"SW_IN\", \"type\": \"quantitative\"}}}, {\"layer\": [{\"mark\": \"rule\", \"encoding\": {\"x\": {\"axis\": {\"domain\": false, \"labels\": false, \"ticks\": false, \"title\": null}, \"field\": \"gap_start\", \"type\": \"temporal\"}}}, {\"mark\": \"rule\", \"encoding\": {\"x\": {\"axis\": {\"domain\": false, \"labels\": false, \"ticks\": false, \"title\": null}, \"field\": \"gap_end\", \"type\": \"temporal\"}}}, {\"mark\": {\"type\": \"rect\", \"color\": \"black\", \"opacity\": 0.2}, \"encoding\": {\"x\": {\"axis\": {\"domain\": false, \"labels\": false, \"ticks\": false, \"title\": null}, \"field\": \"gap_start\", \"type\": \"temporal\"}, \"x2\": {\"field\": \"gap_end\"}}}], \"data\": {\"name\": \"data-1bd453d94a6c560bbdf35162e0deb797\"}}, {\"data\": {\"name\": \"data-2a98879bc4ad3b341f61308fb98621c4\"}, \"mark\": \"line\", \"encoding\": {\"color\": {\"field\": \"variable\", \"type\": \"nominal\"}, \"x\": {\"field\": \"time\", \"type\": \"temporal\"}, \"y\": {\"field\": \"value\", \"scale\": {\"zero\": false}, \"title\": \"SW_IN\", \"type\": \"quantitative\"}}, \"name\": \"view_10\"}], \"height\": 150, \"title\": \"SW_IN\", \"width\": 200}, {\"layer\": [{\"mark\": {\"type\": \"point\", \"color\": \"black\", \"fillOpacity\": 1, \"strokeWidth\": 1}, \"encoding\": {\"fill\": {\"field\": \"is_present\", \"legend\": {\"title\": [\"Observed data\"]}, \"scale\": {\"range\": [\"black\", \"#ffffff00\"]}, \"type\": \"nominal\"}, \"shape\": {\"field\": \"is_present\", \"type\": \"nominal\"}, \"x\": {\"axis\": {\"domain\": true, \"labels\": true, \"ticks\": true, \"title\": \"time\"}, \"field\": \"time\", \"type\": \"temporal\"}, \"y\": {\"field\": \"value\", \"scale\": {\"zero\": false}, \"title\": \"VPD\", \"type\": \"quantitative\"}}}, {\"mark\": \"line\", \"encoding\": {\"color\": {\"field\": \"variable\", \"type\": \"nominal\"}, \"x\": {\"field\": \"time\", \"type\": \"temporal\"}, \"y\": {\"field\": \"value\", \"scale\": {\"zero\": false}, \"title\": \"VPD\", \"type\": \"quantitative\"}}, \"name\": \"view_11\"}], \"data\": {\"name\": \"data-0758420d5d1e1a0a6b4da55e8a5b3610\"}, \"height\": 150, \"title\": \"VPD\", \"width\": 200}]}], \"params\": [{\"name\": \"param_15\", \"select\": {\"type\": \"interval\", \"encodings\": [\"x\"]}, \"bind\": \"scales\", \"views\": [\"view_9\", \"view_10\", \"view_11\"]}], \"$schema\": \"https://vega.github.io/schema/vega-lite/v5.2.0.json\", \"datasets\": {\"data-51ab4deb9e20f409154ecdc6a82d5792\": [{\"time\": \"2000-06-16T08:00:00\", \"variable\": \"TA\", \"value\": 8.899999618530273, \"is_present\": false}, {\"time\": \"2000-06-16T08:30:00\", \"variable\": \"TA\", \"value\": 9.569999694824219, \"is_present\": false}, {\"time\": \"2000-06-16T09:00:00\", \"variable\": \"TA\", \"value\": 9.739999771118164, \"is_present\": true}, {\"time\": \"2000-06-16T09:30:00\", \"variable\": \"TA\", \"value\": 10.020000457763672, \"is_present\": true}, {\"time\": \"2000-06-16T10:00:00\", \"variable\": \"TA\", \"value\": 10.5, \"is_present\": true}, {\"time\": \"2000-06-16T10:30:00\", \"variable\": \"TA\", \"value\": 10.529999732971191, \"is_present\": true}, {\"time\": \"2000-06-16T11:00:00\", \"variable\": \"TA\", \"value\": 10.729999542236328, \"is_present\": true}, {\"time\": \"2000-06-16T11:30:00\", \"variable\": \"TA\", \"value\": 10.770000457763672, \"is_present\": true}, {\"time\": \"2000-06-16T12:00:00\", \"variable\": \"TA\", \"value\": 10.850000381469727, \"is_present\": true}, {\"time\": \"2000-06-16T12:30:00\", \"variable\": \"TA\", \"value\": 11.399999618530273, \"is_present\": true}], \"data-1bd453d94a6c560bbdf35162e0deb797\": [{\"gap_start\": \"2000-06-16T08:00:00\", \"gap_end\": \"2000-06-16T08:30:00\"}], \"data-2a98879bc4ad3b341f61308fb98621c4\": [{\"time\": \"2000-06-16T08:00:00\", \"variable\": \"SW_IN\", \"value\": 467.94000244140625, \"is_present\": false}, {\"time\": \"2000-06-16T08:30:00\", \"variable\": \"SW_IN\", \"value\": 526.6400146484375, \"is_present\": false}, {\"time\": \"2000-06-16T09:00:00\", \"variable\": \"SW_IN\", \"value\": 463.1000061035156, \"is_present\": true}, {\"time\": \"2000-06-16T09:30:00\", \"variable\": \"SW_IN\", \"value\": 676.3599853515625, \"is_present\": true}, {\"time\": \"2000-06-16T10:00:00\", \"variable\": \"SW_IN\", \"value\": 689.47998046875, \"is_present\": true}, {\"time\": \"2000-06-16T10:30:00\", \"variable\": \"SW_IN\", \"value\": 503.30999755859375, \"is_present\": true}, {\"time\": \"2000-06-16T11:00:00\", \"variable\": \"SW_IN\", \"value\": 583.1699829101562, \"is_present\": true}, {\"time\": \"2000-06-16T11:30:00\", \"variable\": \"SW_IN\", \"value\": 329.6400146484375, \"is_present\": true}, {\"time\": \"2000-06-16T12:00:00\", \"variable\": \"SW_IN\", \"value\": 503.57000732421875, \"is_present\": true}, {\"time\": \"2000-06-16T12:30:00\", \"variable\": \"SW_IN\", \"value\": 567.5599975585938, \"is_present\": true}], \"data-0758420d5d1e1a0a6b4da55e8a5b3610\": [{\"time\": \"2000-06-16T08:00:00\", \"variable\": \"VPD\", \"value\": 3.5490000247955322, \"is_present\": true}, {\"time\": \"2000-06-16T08:30:00\", \"variable\": \"VPD\", \"value\": 4.1529998779296875, \"is_present\": true}, {\"time\": \"2000-06-16T09:00:00\", \"variable\": \"VPD\", \"value\": 4.705999851226807, \"is_present\": true}, {\"time\": \"2000-06-16T09:30:00\", \"variable\": \"VPD\", \"value\": 5.374000072479248, \"is_present\": true}, {\"time\": \"2000-06-16T10:00:00\", \"variable\": \"VPD\", \"value\": 5.7129998207092285, \"is_present\": true}, {\"time\": \"2000-06-16T10:30:00\", \"variable\": \"VPD\", \"value\": 5.677000045776367, \"is_present\": true}, {\"time\": \"2000-06-16T11:00:00\", \"variable\": \"VPD\", \"value\": 5.386000156402588, \"is_present\": true}, {\"time\": \"2000-06-16T11:30:00\", \"variable\": \"VPD\", \"value\": 5.355000019073486, \"is_present\": true}, {\"time\": \"2000-06-16T12:00:00\", \"variable\": \"VPD\", \"value\": 5.065999984741211, \"is_present\": true}, {\"time\": \"2000-06-16T12:30:00\", \"variable\": \"VPD\", \"value\": 5.794000148773193, \"is_present\": true}]}}, {\"mode\": \"vega-lite\"});\n",
       "</script>"
      ],
      "text/plain": [
       "alt.VConcatChart(...)"
      ]
     },
     "execution_count": null,
     "metadata": {},
     "output_type": "execute_result"
    }
   ],
   "source": [
    "tfms2[3].show()"
   ]
  },
  {
   "cell_type": "markdown",
   "id": "9e70cf47-7a11-4806-93ba-f9bdf56dc671",
   "metadata": {},
   "source": [
    "### 4) To Tensor"
   ]
  },
  {
   "cell_type": "markdown",
   "id": "a632c649-a391-4513-bcad-c5217ce001ef",
   "metadata": {},
   "source": [
    "this needs to handle both the init with a list of items and when the first item is a sequence of list of items"
   ]
  },
  {
   "cell_type": "code",
   "execution_count": null,
   "id": "1c157b15-d2e4-468b-9505-34478c196d34",
   "metadata": {},
   "outputs": [],
   "source": [
    "#| export\n",
    "class MeteoImpTensor(collections.abc.Sequence):\n",
    "    def __init__(self,*args):\n",
    "        if len(args)==3:\n",
    "            self.data = args[0]\n",
    "            self.mask = args[1]\n",
    "            self.control = args[2]\n",
    "        elif len(args)==1 and len(args[0])==2:\n",
    "            self.data = args[0][0]\n",
    "            self.mask = args[0][1]\n",
    "        else:\n",
    "            raise ValueError(f\"Incorrect number of arguments. got {len(args)} args\")\n",
    "\n",
    "    def __iter__(self): return iter((self.data, self.mask,self.control))\n",
    "    __len__ = 3\n",
    "    def __getitem__(self, key):\n",
    "        if key == 0: return self.data\n",
    "        elif key == 1: return self.mask\n",
    "        elif key == 2: return self.control\n",
    "        else: raise IndexError(\"index bigger than 2\")\n",
    "    __repr__ = basic_repr('data, mask, control')\n",
    "    def _repr_html_(self):\n",
    "        return row_items(data = self.data, mask = self.mask, control = self.control)"
   ]
  },
  {
   "cell_type": "code",
   "execution_count": null,
   "id": "49a73687-9272-44ad-84d5-0b845a63cd98",
   "metadata": {},
   "outputs": [],
   "source": [
    "#| export\n",
    "class MeteoImpDf2Tensor(Transform):\n",
    "    def setups(self, items):\n",
    "        self.columns = list(items[0].data.columns)\n",
    "    def encodes(self, df: MeteoImpDf) -> MeteoImpTensor:\n",
    "        data = torch.tensor(df.data.to_numpy())\n",
    "        mask = torch.tensor(df.mask.to_numpy())\n",
    "        control = torch.tensor(df.control.to_numpy())\n",
    "        return MeteoImpTensor(data, mask, control)\n",
    "        \n",
    "    # def decodes(self, x: MeteoImpTensor) -> MeteoImpDf:\n",
    "    #     data = pd.DataFrame(x.data.detach().cpu().numpy(), columns = self.columns)\n",
    "    #     mask = pd.DataFrame(x.mask.cpu().numpy(), columns = self.columns)\n",
    "    #     control = pd.DataFrame(x.control.cpu().numpy(), columns = self.columns)\n",
    "    #     return MeteoImpDf(data, mask, control)"
   ]
  },
  {
   "cell_type": "code",
   "execution_count": null,
   "id": "f144e2e3-93b2-4b53-86ac-eeed6b483e61",
   "metadata": {},
   "outputs": [],
   "source": [
    "to_t = MeteoImpDf2Tensor()"
   ]
  },
  {
   "cell_type": "code",
   "execution_count": null,
   "id": "70d0c5f6-741a-4687-896a-deeb0d58c201",
   "metadata": {},
   "outputs": [],
   "source": [
    "to_t.setup(tfms2)"
   ]
  },
  {
   "cell_type": "code",
   "execution_count": null,
   "id": "2a4f7ca8-df98-42a4-97a7-cd04a61d1304",
   "metadata": {},
   "outputs": [
    {
     "data": {
      "text/html": [
       "<div style=\"display: flex; column-gap: 20px; flex-wrap: wrap;\" class='table table-striped table-sm'> <div><p style='font-size: 1.2rem;'>data</p> <pre>tensor([[ 14.2200, 224.8000,   5.7990],\n",
       "        [ 14.1100, 195.2800,   6.5770],\n",
       "        [ 14.2300, 244.1700,   6.9310],\n",
       "        [ 14.4000, 253.9200,   7.2860],\n",
       "        [ 14.0900, 177.3100,   7.2510],\n",
       "        [ 13.7100,  97.0700,   6.6830],\n",
       "        [ 13.0800,  39.7100,   5.8510],\n",
       "        [ 12.4100,  10.6500,   5.2540],\n",
       "        [ 12.2700,   0.3200,   5.1640],\n",
       "        [ 12.2000,   0.0000,   5.0370]])</pre> </div><div><p style='font-size: 1.2rem;'>mask</p> <pre>tensor([[ True,  True,  True],\n",
       "        [False, False,  True],\n",
       "        [False, False,  True],\n",
       "        [ True,  True,  True],\n",
       "        [ True,  True,  True],\n",
       "        [ True,  True,  True],\n",
       "        [ True,  True,  True],\n",
       "        [ True,  True,  True],\n",
       "        [ True,  True,  True],\n",
       "        [ True,  True,  True]])</pre> </div><div><p style='font-size: 1.2rem;'>control</p> <pre>tensor([[ 15.0500, 255.1930,   5.1020,  15.1390, 287.1000,   4.9000],\n",
       "        [ 14.9610, 221.4270,   5.3050,  15.0500, 255.1930,   5.1020],\n",
       "        [ 14.8720, 186.3800,   5.5070,  14.9610, 221.4270,   5.3050],\n",
       "        [ 14.7830, 150.6500,   5.7100,  14.8720, 186.3800,   5.5070],\n",
       "        [ 14.6940, 114.8490,   5.9120,  14.7830, 150.6500,   5.7100],\n",
       "        [ 14.6060,  34.7280,   6.1140,  14.6940, 114.8490,   5.9120],\n",
       "        [ 14.3800,  19.8430,   6.0740,  14.6060,  34.7280,   6.1140],\n",
       "        [ 14.1550,   5.7120,   6.0340,  14.3800,  19.8430,   6.0740],\n",
       "        [ 13.9290,   0.0000,   5.9940,  14.1550,   5.7120,   6.0340],\n",
       "        [ 13.7040,   0.0000,   5.9540,  13.9290,   0.0000,   5.9940]])</pre> </div></div>"
      ],
      "text/plain": [
       "__main__.MeteoImpTensor(data=tensor([[ 14.2200, 224.8000,   5.7990],\n",
       "        [ 14.1100, 195.2800,   6.5770],\n",
       "        [ 14.2300, 244.1700,   6.9310],\n",
       "        [ 14.4000, 253.9200,   7.2860],\n",
       "        [ 14.0900, 177.3100,   7.2510],\n",
       "        [ 13.7100,  97.0700,   6.6830],\n",
       "        [ 13.0800,  39.7100,   5.8510],\n",
       "        [ 12.4100,  10.6500,   5.2540],\n",
       "        [ 12.2700,   0.3200,   5.1640],\n",
       "        [ 12.2000,   0.0000,   5.0370]]), mask=tensor([[ True,  True,  True],\n",
       "        [False, False,  True],\n",
       "        [False, False,  True],\n",
       "        [ True,  True,  True],\n",
       "        [ True,  True,  True],\n",
       "        [ True,  True,  True],\n",
       "        [ True,  True,  True],\n",
       "        [ True,  True,  True],\n",
       "        [ True,  True,  True],\n",
       "        [ True,  True,  True]]), control=tensor([[ 15.0500, 255.1930,   5.1020,  15.1390, 287.1000,   4.9000],\n",
       "        [ 14.9610, 221.4270,   5.3050,  15.0500, 255.1930,   5.1020],\n",
       "        [ 14.8720, 186.3800,   5.5070,  14.9610, 221.4270,   5.3050],\n",
       "        [ 14.7830, 150.6500,   5.7100,  14.8720, 186.3800,   5.5070],\n",
       "        [ 14.6940, 114.8490,   5.9120,  14.7830, 150.6500,   5.7100],\n",
       "        [ 14.6060,  34.7280,   6.1140,  14.6940, 114.8490,   5.9120],\n",
       "        [ 14.3800,  19.8430,   6.0740,  14.6060,  34.7280,   6.1140],\n",
       "        [ 14.1550,   5.7120,   6.0340,  14.3800,  19.8430,   6.0740],\n",
       "        [ 13.9290,   0.0000,   5.9940,  14.1550,   5.7120,   6.0340],\n",
       "        [ 13.7040,   0.0000,   5.9540,  13.9290,   0.0000,   5.9940]]))"
      ]
     },
     "execution_count": null,
     "metadata": {},
     "output_type": "execute_result"
    }
   ],
   "source": [
    "to_t(tfms2[0])"
   ]
  },
  {
   "cell_type": "code",
   "execution_count": null,
   "id": "786af7c1-edb5-40ef-bbd3-b9f1b1220f11",
   "metadata": {},
   "outputs": [],
   "source": [
    "to_t.decode(to_t(tfms2[0]));"
   ]
  },
  {
   "cell_type": "code",
   "execution_count": null,
   "id": "d2e84c50-5ecd-43a7-881e-80e53bc55aa0",
   "metadata": {},
   "outputs": [
    {
     "data": {
      "text/html": [
       "<p style='font-size: 1.5rem; font-decoration: bold'>Meteo Imp Df<p><div style=\"display: flex; column-gap: 20px; flex-wrap: wrap;\" class='table table-striped table-sm'> <div> <p style='font-size: 1.3rem;'>data</p> <style type=\"text/css\">\n",
       "</style>\n",
       "<table id=\"T_311f3\">\n",
       "  <thead>\n",
       "    <tr>\n",
       "      <th class=\"blank level0\" >&nbsp;</th>\n",
       "      <th id=\"T_311f3_level0_col0\" class=\"col_heading level0 col0\" >TA</th>\n",
       "      <th id=\"T_311f3_level0_col1\" class=\"col_heading level0 col1\" >SW_IN</th>\n",
       "      <th id=\"T_311f3_level0_col2\" class=\"col_heading level0 col2\" >VPD</th>\n",
       "    </tr>\n",
       "    <tr>\n",
       "      <th class=\"index_name level0\" >time</th>\n",
       "      <th class=\"blank col0\" >&nbsp;</th>\n",
       "      <th class=\"blank col1\" >&nbsp;</th>\n",
       "      <th class=\"blank col2\" >&nbsp;</th>\n",
       "    </tr>\n",
       "  </thead>\n",
       "  <tbody>\n",
       "    <tr>\n",
       "      <th id=\"T_311f3_level0_row0\" class=\"row_heading level0 row0\" >2000-06-15 17:00:00</th>\n",
       "      <td id=\"T_311f3_row0_col0\" class=\"data row0 col0\" >14.2200</td>\n",
       "      <td id=\"T_311f3_row0_col1\" class=\"data row0 col1\" >224.8000</td>\n",
       "      <td id=\"T_311f3_row0_col2\" class=\"data row0 col2\" >5.7990</td>\n",
       "    </tr>\n",
       "    <tr>\n",
       "      <th id=\"T_311f3_level0_row1\" class=\"row_heading level0 row1\" >2000-06-15 17:30:00</th>\n",
       "      <td id=\"T_311f3_row1_col0\" class=\"data row1 col0\" >14.1100</td>\n",
       "      <td id=\"T_311f3_row1_col1\" class=\"data row1 col1\" >195.2800</td>\n",
       "      <td id=\"T_311f3_row1_col2\" class=\"data row1 col2\" >6.5770</td>\n",
       "    </tr>\n",
       "    <tr>\n",
       "      <th id=\"T_311f3_level0_row2\" class=\"row_heading level0 row2\" >2000-06-15 18:00:00</th>\n",
       "      <td id=\"T_311f3_row2_col0\" class=\"data row2 col0\" >14.2300</td>\n",
       "      <td id=\"T_311f3_row2_col1\" class=\"data row2 col1\" >244.1700</td>\n",
       "      <td id=\"T_311f3_row2_col2\" class=\"data row2 col2\" >6.9310</td>\n",
       "    </tr>\n",
       "    <tr>\n",
       "      <th id=\"T_311f3_level0_row3\" class=\"row_heading level0 row3\" >2000-06-15 18:30:00</th>\n",
       "      <td id=\"T_311f3_row3_col0\" class=\"data row3 col0\" >14.4000</td>\n",
       "      <td id=\"T_311f3_row3_col1\" class=\"data row3 col1\" >253.9200</td>\n",
       "      <td id=\"T_311f3_row3_col2\" class=\"data row3 col2\" >7.2860</td>\n",
       "    </tr>\n",
       "    <tr>\n",
       "      <th id=\"T_311f3_level0_row4\" class=\"row_heading level0 row4\" >2000-06-15 19:00:00</th>\n",
       "      <td id=\"T_311f3_row4_col0\" class=\"data row4 col0\" >14.0900</td>\n",
       "      <td id=\"T_311f3_row4_col1\" class=\"data row4 col1\" >177.3100</td>\n",
       "      <td id=\"T_311f3_row4_col2\" class=\"data row4 col2\" >7.2510</td>\n",
       "    </tr>\n",
       "    <tr>\n",
       "      <th id=\"T_311f3_level0_row5\" class=\"row_heading level0 row5\" >2000-06-15 19:30:00</th>\n",
       "      <td id=\"T_311f3_row5_col0\" class=\"data row5 col0\" >13.7100</td>\n",
       "      <td id=\"T_311f3_row5_col1\" class=\"data row5 col1\" >97.0700</td>\n",
       "      <td id=\"T_311f3_row5_col2\" class=\"data row5 col2\" >6.6830</td>\n",
       "    </tr>\n",
       "    <tr>\n",
       "      <th id=\"T_311f3_level0_row6\" class=\"row_heading level0 row6\" >2000-06-15 20:00:00</th>\n",
       "      <td id=\"T_311f3_row6_col0\" class=\"data row6 col0\" >13.0800</td>\n",
       "      <td id=\"T_311f3_row6_col1\" class=\"data row6 col1\" >39.7100</td>\n",
       "      <td id=\"T_311f3_row6_col2\" class=\"data row6 col2\" >5.8510</td>\n",
       "    </tr>\n",
       "    <tr>\n",
       "      <th id=\"T_311f3_level0_row7\" class=\"row_heading level0 row7\" >2000-06-15 20:30:00</th>\n",
       "      <td id=\"T_311f3_row7_col0\" class=\"data row7 col0\" >12.4100</td>\n",
       "      <td id=\"T_311f3_row7_col1\" class=\"data row7 col1\" >10.6500</td>\n",
       "      <td id=\"T_311f3_row7_col2\" class=\"data row7 col2\" >5.2540</td>\n",
       "    </tr>\n",
       "    <tr>\n",
       "      <th id=\"T_311f3_level0_row8\" class=\"row_heading level0 row8\" >2000-06-15 21:00:00</th>\n",
       "      <td id=\"T_311f3_row8_col0\" class=\"data row8 col0\" >12.2700</td>\n",
       "      <td id=\"T_311f3_row8_col1\" class=\"data row8 col1\" >0.3200</td>\n",
       "      <td id=\"T_311f3_row8_col2\" class=\"data row8 col2\" >5.1640</td>\n",
       "    </tr>\n",
       "    <tr>\n",
       "      <th id=\"T_311f3_level0_row9\" class=\"row_heading level0 row9\" >2000-06-15 21:30:00</th>\n",
       "      <td id=\"T_311f3_row9_col0\" class=\"data row9 col0\" >12.2000</td>\n",
       "      <td id=\"T_311f3_row9_col1\" class=\"data row9 col1\" >0.0000</td>\n",
       "      <td id=\"T_311f3_row9_col2\" class=\"data row9 col2\" >5.0370</td>\n",
       "    </tr>\n",
       "  </tbody>\n",
       "</table>\n",
       " </div><div> <p style='font-size: 1.3rem;'>mask</p> <style type=\"text/css\">\n",
       "</style>\n",
       "<table id=\"T_7eeba\">\n",
       "  <thead>\n",
       "    <tr>\n",
       "      <th class=\"blank level0\" >&nbsp;</th>\n",
       "      <th id=\"T_7eeba_level0_col0\" class=\"col_heading level0 col0\" >TA</th>\n",
       "      <th id=\"T_7eeba_level0_col1\" class=\"col_heading level0 col1\" >SW_IN</th>\n",
       "      <th id=\"T_7eeba_level0_col2\" class=\"col_heading level0 col2\" >VPD</th>\n",
       "    </tr>\n",
       "    <tr>\n",
       "      <th class=\"index_name level0\" >time</th>\n",
       "      <th class=\"blank col0\" >&nbsp;</th>\n",
       "      <th class=\"blank col1\" >&nbsp;</th>\n",
       "      <th class=\"blank col2\" >&nbsp;</th>\n",
       "    </tr>\n",
       "  </thead>\n",
       "  <tbody>\n",
       "    <tr>\n",
       "      <th id=\"T_7eeba_level0_row0\" class=\"row_heading level0 row0\" >2000-06-15 17:00:00</th>\n",
       "      <td id=\"T_7eeba_row0_col0\" class=\"data row0 col0\" >True</td>\n",
       "      <td id=\"T_7eeba_row0_col1\" class=\"data row0 col1\" >True</td>\n",
       "      <td id=\"T_7eeba_row0_col2\" class=\"data row0 col2\" >True</td>\n",
       "    </tr>\n",
       "    <tr>\n",
       "      <th id=\"T_7eeba_level0_row1\" class=\"row_heading level0 row1\" >2000-06-15 17:30:00</th>\n",
       "      <td id=\"T_7eeba_row1_col0\" class=\"data row1 col0\" >True</td>\n",
       "      <td id=\"T_7eeba_row1_col1\" class=\"data row1 col1\" >True</td>\n",
       "      <td id=\"T_7eeba_row1_col2\" class=\"data row1 col2\" >True</td>\n",
       "    </tr>\n",
       "    <tr>\n",
       "      <th id=\"T_7eeba_level0_row2\" class=\"row_heading level0 row2\" >2000-06-15 18:00:00</th>\n",
       "      <td id=\"T_7eeba_row2_col0\" class=\"data row2 col0\" >False</td>\n",
       "      <td id=\"T_7eeba_row2_col1\" class=\"data row2 col1\" >False</td>\n",
       "      <td id=\"T_7eeba_row2_col2\" class=\"data row2 col2\" >True</td>\n",
       "    </tr>\n",
       "    <tr>\n",
       "      <th id=\"T_7eeba_level0_row3\" class=\"row_heading level0 row3\" >2000-06-15 18:30:00</th>\n",
       "      <td id=\"T_7eeba_row3_col0\" class=\"data row3 col0\" >False</td>\n",
       "      <td id=\"T_7eeba_row3_col1\" class=\"data row3 col1\" >False</td>\n",
       "      <td id=\"T_7eeba_row3_col2\" class=\"data row3 col2\" >True</td>\n",
       "    </tr>\n",
       "    <tr>\n",
       "      <th id=\"T_7eeba_level0_row4\" class=\"row_heading level0 row4\" >2000-06-15 19:00:00</th>\n",
       "      <td id=\"T_7eeba_row4_col0\" class=\"data row4 col0\" >True</td>\n",
       "      <td id=\"T_7eeba_row4_col1\" class=\"data row4 col1\" >True</td>\n",
       "      <td id=\"T_7eeba_row4_col2\" class=\"data row4 col2\" >True</td>\n",
       "    </tr>\n",
       "    <tr>\n",
       "      <th id=\"T_7eeba_level0_row5\" class=\"row_heading level0 row5\" >2000-06-15 19:30:00</th>\n",
       "      <td id=\"T_7eeba_row5_col0\" class=\"data row5 col0\" >True</td>\n",
       "      <td id=\"T_7eeba_row5_col1\" class=\"data row5 col1\" >True</td>\n",
       "      <td id=\"T_7eeba_row5_col2\" class=\"data row5 col2\" >True</td>\n",
       "    </tr>\n",
       "    <tr>\n",
       "      <th id=\"T_7eeba_level0_row6\" class=\"row_heading level0 row6\" >2000-06-15 20:00:00</th>\n",
       "      <td id=\"T_7eeba_row6_col0\" class=\"data row6 col0\" >True</td>\n",
       "      <td id=\"T_7eeba_row6_col1\" class=\"data row6 col1\" >True</td>\n",
       "      <td id=\"T_7eeba_row6_col2\" class=\"data row6 col2\" >True</td>\n",
       "    </tr>\n",
       "    <tr>\n",
       "      <th id=\"T_7eeba_level0_row7\" class=\"row_heading level0 row7\" >2000-06-15 20:30:00</th>\n",
       "      <td id=\"T_7eeba_row7_col0\" class=\"data row7 col0\" >True</td>\n",
       "      <td id=\"T_7eeba_row7_col1\" class=\"data row7 col1\" >True</td>\n",
       "      <td id=\"T_7eeba_row7_col2\" class=\"data row7 col2\" >True</td>\n",
       "    </tr>\n",
       "    <tr>\n",
       "      <th id=\"T_7eeba_level0_row8\" class=\"row_heading level0 row8\" >2000-06-15 21:00:00</th>\n",
       "      <td id=\"T_7eeba_row8_col0\" class=\"data row8 col0\" >True</td>\n",
       "      <td id=\"T_7eeba_row8_col1\" class=\"data row8 col1\" >True</td>\n",
       "      <td id=\"T_7eeba_row8_col2\" class=\"data row8 col2\" >True</td>\n",
       "    </tr>\n",
       "    <tr>\n",
       "      <th id=\"T_7eeba_level0_row9\" class=\"row_heading level0 row9\" >2000-06-15 21:30:00</th>\n",
       "      <td id=\"T_7eeba_row9_col0\" class=\"data row9 col0\" >True</td>\n",
       "      <td id=\"T_7eeba_row9_col1\" class=\"data row9 col1\" >True</td>\n",
       "      <td id=\"T_7eeba_row9_col2\" class=\"data row9 col2\" >True</td>\n",
       "    </tr>\n",
       "  </tbody>\n",
       "</table>\n",
       " </div><div> <p style='font-size: 1.3rem;'>control</p> <style type=\"text/css\">\n",
       "</style>\n",
       "<table id=\"T_e3cc1\">\n",
       "  <thead>\n",
       "    <tr>\n",
       "      <th class=\"blank level0\" >&nbsp;</th>\n",
       "      <th id=\"T_e3cc1_level0_col0\" class=\"col_heading level0 col0\" >TA_ERA</th>\n",
       "      <th id=\"T_e3cc1_level0_col1\" class=\"col_heading level0 col1\" >SW_IN_ERA</th>\n",
       "      <th id=\"T_e3cc1_level0_col2\" class=\"col_heading level0 col2\" >VPD_ERA</th>\n",
       "      <th id=\"T_e3cc1_level0_col3\" class=\"col_heading level0 col3\" >TA_ERA_lag_1</th>\n",
       "      <th id=\"T_e3cc1_level0_col4\" class=\"col_heading level0 col4\" >SW_IN_ERA_lag_1</th>\n",
       "      <th id=\"T_e3cc1_level0_col5\" class=\"col_heading level0 col5\" >VPD_ERA_lag_1</th>\n",
       "    </tr>\n",
       "    <tr>\n",
       "      <th class=\"index_name level0\" >time</th>\n",
       "      <th class=\"blank col0\" >&nbsp;</th>\n",
       "      <th class=\"blank col1\" >&nbsp;</th>\n",
       "      <th class=\"blank col2\" >&nbsp;</th>\n",
       "      <th class=\"blank col3\" >&nbsp;</th>\n",
       "      <th class=\"blank col4\" >&nbsp;</th>\n",
       "      <th class=\"blank col5\" >&nbsp;</th>\n",
       "    </tr>\n",
       "  </thead>\n",
       "  <tbody>\n",
       "    <tr>\n",
       "      <th id=\"T_e3cc1_level0_row0\" class=\"row_heading level0 row0\" >2000-06-15 17:00:00</th>\n",
       "      <td id=\"T_e3cc1_row0_col0\" class=\"data row0 col0\" >15.0500</td>\n",
       "      <td id=\"T_e3cc1_row0_col1\" class=\"data row0 col1\" >255.1930</td>\n",
       "      <td id=\"T_e3cc1_row0_col2\" class=\"data row0 col2\" >5.1020</td>\n",
       "      <td id=\"T_e3cc1_row0_col3\" class=\"data row0 col3\" >15.1390</td>\n",
       "      <td id=\"T_e3cc1_row0_col4\" class=\"data row0 col4\" >287.1000</td>\n",
       "      <td id=\"T_e3cc1_row0_col5\" class=\"data row0 col5\" >4.9000</td>\n",
       "    </tr>\n",
       "    <tr>\n",
       "      <th id=\"T_e3cc1_level0_row1\" class=\"row_heading level0 row1\" >2000-06-15 17:30:00</th>\n",
       "      <td id=\"T_e3cc1_row1_col0\" class=\"data row1 col0\" >14.9610</td>\n",
       "      <td id=\"T_e3cc1_row1_col1\" class=\"data row1 col1\" >221.4270</td>\n",
       "      <td id=\"T_e3cc1_row1_col2\" class=\"data row1 col2\" >5.3050</td>\n",
       "      <td id=\"T_e3cc1_row1_col3\" class=\"data row1 col3\" >15.0500</td>\n",
       "      <td id=\"T_e3cc1_row1_col4\" class=\"data row1 col4\" >255.1930</td>\n",
       "      <td id=\"T_e3cc1_row1_col5\" class=\"data row1 col5\" >5.1020</td>\n",
       "    </tr>\n",
       "    <tr>\n",
       "      <th id=\"T_e3cc1_level0_row2\" class=\"row_heading level0 row2\" >2000-06-15 18:00:00</th>\n",
       "      <td id=\"T_e3cc1_row2_col0\" class=\"data row2 col0\" >14.8720</td>\n",
       "      <td id=\"T_e3cc1_row2_col1\" class=\"data row2 col1\" >186.3800</td>\n",
       "      <td id=\"T_e3cc1_row2_col2\" class=\"data row2 col2\" >5.5070</td>\n",
       "      <td id=\"T_e3cc1_row2_col3\" class=\"data row2 col3\" >14.9610</td>\n",
       "      <td id=\"T_e3cc1_row2_col4\" class=\"data row2 col4\" >221.4270</td>\n",
       "      <td id=\"T_e3cc1_row2_col5\" class=\"data row2 col5\" >5.3050</td>\n",
       "    </tr>\n",
       "    <tr>\n",
       "      <th id=\"T_e3cc1_level0_row3\" class=\"row_heading level0 row3\" >2000-06-15 18:30:00</th>\n",
       "      <td id=\"T_e3cc1_row3_col0\" class=\"data row3 col0\" >14.7830</td>\n",
       "      <td id=\"T_e3cc1_row3_col1\" class=\"data row3 col1\" >150.6500</td>\n",
       "      <td id=\"T_e3cc1_row3_col2\" class=\"data row3 col2\" >5.7100</td>\n",
       "      <td id=\"T_e3cc1_row3_col3\" class=\"data row3 col3\" >14.8720</td>\n",
       "      <td id=\"T_e3cc1_row3_col4\" class=\"data row3 col4\" >186.3800</td>\n",
       "      <td id=\"T_e3cc1_row3_col5\" class=\"data row3 col5\" >5.5070</td>\n",
       "    </tr>\n",
       "    <tr>\n",
       "      <th id=\"T_e3cc1_level0_row4\" class=\"row_heading level0 row4\" >2000-06-15 19:00:00</th>\n",
       "      <td id=\"T_e3cc1_row4_col0\" class=\"data row4 col0\" >14.6940</td>\n",
       "      <td id=\"T_e3cc1_row4_col1\" class=\"data row4 col1\" >114.8490</td>\n",
       "      <td id=\"T_e3cc1_row4_col2\" class=\"data row4 col2\" >5.9120</td>\n",
       "      <td id=\"T_e3cc1_row4_col3\" class=\"data row4 col3\" >14.7830</td>\n",
       "      <td id=\"T_e3cc1_row4_col4\" class=\"data row4 col4\" >150.6500</td>\n",
       "      <td id=\"T_e3cc1_row4_col5\" class=\"data row4 col5\" >5.7100</td>\n",
       "    </tr>\n",
       "    <tr>\n",
       "      <th id=\"T_e3cc1_level0_row5\" class=\"row_heading level0 row5\" >2000-06-15 19:30:00</th>\n",
       "      <td id=\"T_e3cc1_row5_col0\" class=\"data row5 col0\" >14.6060</td>\n",
       "      <td id=\"T_e3cc1_row5_col1\" class=\"data row5 col1\" >34.7280</td>\n",
       "      <td id=\"T_e3cc1_row5_col2\" class=\"data row5 col2\" >6.1140</td>\n",
       "      <td id=\"T_e3cc1_row5_col3\" class=\"data row5 col3\" >14.6940</td>\n",
       "      <td id=\"T_e3cc1_row5_col4\" class=\"data row5 col4\" >114.8490</td>\n",
       "      <td id=\"T_e3cc1_row5_col5\" class=\"data row5 col5\" >5.9120</td>\n",
       "    </tr>\n",
       "    <tr>\n",
       "      <th id=\"T_e3cc1_level0_row6\" class=\"row_heading level0 row6\" >2000-06-15 20:00:00</th>\n",
       "      <td id=\"T_e3cc1_row6_col0\" class=\"data row6 col0\" >14.3800</td>\n",
       "      <td id=\"T_e3cc1_row6_col1\" class=\"data row6 col1\" >19.8430</td>\n",
       "      <td id=\"T_e3cc1_row6_col2\" class=\"data row6 col2\" >6.0740</td>\n",
       "      <td id=\"T_e3cc1_row6_col3\" class=\"data row6 col3\" >14.6060</td>\n",
       "      <td id=\"T_e3cc1_row6_col4\" class=\"data row6 col4\" >34.7280</td>\n",
       "      <td id=\"T_e3cc1_row6_col5\" class=\"data row6 col5\" >6.1140</td>\n",
       "    </tr>\n",
       "    <tr>\n",
       "      <th id=\"T_e3cc1_level0_row7\" class=\"row_heading level0 row7\" >2000-06-15 20:30:00</th>\n",
       "      <td id=\"T_e3cc1_row7_col0\" class=\"data row7 col0\" >14.1550</td>\n",
       "      <td id=\"T_e3cc1_row7_col1\" class=\"data row7 col1\" >5.7120</td>\n",
       "      <td id=\"T_e3cc1_row7_col2\" class=\"data row7 col2\" >6.0340</td>\n",
       "      <td id=\"T_e3cc1_row7_col3\" class=\"data row7 col3\" >14.3800</td>\n",
       "      <td id=\"T_e3cc1_row7_col4\" class=\"data row7 col4\" >19.8430</td>\n",
       "      <td id=\"T_e3cc1_row7_col5\" class=\"data row7 col5\" >6.0740</td>\n",
       "    </tr>\n",
       "    <tr>\n",
       "      <th id=\"T_e3cc1_level0_row8\" class=\"row_heading level0 row8\" >2000-06-15 21:00:00</th>\n",
       "      <td id=\"T_e3cc1_row8_col0\" class=\"data row8 col0\" >13.9290</td>\n",
       "      <td id=\"T_e3cc1_row8_col1\" class=\"data row8 col1\" >0.0000</td>\n",
       "      <td id=\"T_e3cc1_row8_col2\" class=\"data row8 col2\" >5.9940</td>\n",
       "      <td id=\"T_e3cc1_row8_col3\" class=\"data row8 col3\" >14.1550</td>\n",
       "      <td id=\"T_e3cc1_row8_col4\" class=\"data row8 col4\" >5.7120</td>\n",
       "      <td id=\"T_e3cc1_row8_col5\" class=\"data row8 col5\" >6.0340</td>\n",
       "    </tr>\n",
       "    <tr>\n",
       "      <th id=\"T_e3cc1_level0_row9\" class=\"row_heading level0 row9\" >2000-06-15 21:30:00</th>\n",
       "      <td id=\"T_e3cc1_row9_col0\" class=\"data row9 col0\" >13.7040</td>\n",
       "      <td id=\"T_e3cc1_row9_col1\" class=\"data row9 col1\" >0.0000</td>\n",
       "      <td id=\"T_e3cc1_row9_col2\" class=\"data row9 col2\" >5.9540</td>\n",
       "      <td id=\"T_e3cc1_row9_col3\" class=\"data row9 col3\" >13.9290</td>\n",
       "      <td id=\"T_e3cc1_row9_col4\" class=\"data row9 col4\" >0.0000</td>\n",
       "      <td id=\"T_e3cc1_row9_col5\" class=\"data row9 col5\" >5.9940</td>\n",
       "    </tr>\n",
       "  </tbody>\n",
       "</table>\n",
       " </div></div>"
      ],
      "text/plain": [
       "__main__.MeteoImpDf(data=                        TA       SW_IN    VPD\n",
       "time                                         \n",
       "2000-06-15 17:00:00  14.22  224.800003  5.799\n",
       "2000-06-15 17:30:00  14.11  195.279999  6.577\n",
       "2000-06-15 18:00:00  14.23  244.169998  6.931\n",
       "2000-06-15 18:30:00  14.40  253.919998  7.286\n",
       "2000-06-15 19:00:00  14.09  177.309998  7.251\n",
       "2000-06-15 19:30:00  13.71   97.070000  6.683\n",
       "2000-06-15 20:00:00  13.08   39.709999  5.851\n",
       "2000-06-15 20:30:00  12.41   10.650000  5.254\n",
       "2000-06-15 21:00:00  12.27    0.320000  5.164\n",
       "2000-06-15 21:30:00  12.20    0.000000  5.037, mask=                        TA  SW_IN   VPD\n",
       "time                                   \n",
       "2000-06-15 17:00:00   True   True  True\n",
       "2000-06-15 17:30:00   True   True  True\n",
       "2000-06-15 18:00:00  False  False  True\n",
       "2000-06-15 18:30:00  False  False  True\n",
       "2000-06-15 19:00:00   True   True  True\n",
       "2000-06-15 19:30:00   True   True  True\n",
       "2000-06-15 20:00:00   True   True  True\n",
       "2000-06-15 20:30:00   True   True  True\n",
       "2000-06-15 21:00:00   True   True  True\n",
       "2000-06-15 21:30:00   True   True  True, control=                     TA_ERA   SW_IN_ERA  VPD_ERA  TA_ERA_lag_1  \\\n",
       "time                                                             \n",
       "2000-06-15 17:00:00  15.050  255.192993    5.102        15.139   \n",
       "2000-06-15 17:30:00  14.961  221.427002    5.305        15.050   \n",
       "2000-06-15 18:00:00  14.872  186.380005    5.507        14.961   \n",
       "2000-06-15 18:30:00  14.783  150.649994    5.710        14.872   \n",
       "2000-06-15 19:00:00  14.694  114.848999    5.912        14.783   \n",
       "2000-06-15 19:30:00  14.606   34.728001    6.114        14.694   \n",
       "2000-06-15 20:00:00  14.380   19.843000    6.074        14.606   \n",
       "2000-06-15 20:30:00  14.155    5.712000    6.034        14.380   \n",
       "2000-06-15 21:00:00  13.929    0.000000    5.994        14.155   \n",
       "2000-06-15 21:30:00  13.704    0.000000    5.954        13.929   \n",
       "\n",
       "                     SW_IN_ERA_lag_1  VPD_ERA_lag_1  \n",
       "time                                                 \n",
       "2000-06-15 17:00:00       287.100006          4.900  \n",
       "2000-06-15 17:30:00       255.192993          5.102  \n",
       "2000-06-15 18:00:00       221.427002          5.305  \n",
       "2000-06-15 18:30:00       186.380005          5.507  \n",
       "2000-06-15 19:00:00       150.649994          5.710  \n",
       "2000-06-15 19:30:00       114.848999          5.912  \n",
       "2000-06-15 20:00:00        34.728001          6.114  \n",
       "2000-06-15 20:30:00        19.843000          6.074  \n",
       "2000-06-15 21:00:00         5.712000          6.034  \n",
       "2000-06-15 21:30:00         0.000000          5.994  )"
      ]
     },
     "execution_count": null,
     "metadata": {},
     "output_type": "execute_result"
    }
   ],
   "source": [
    "tfms2[0]"
   ]
  },
  {
   "cell_type": "code",
   "execution_count": null,
   "id": "f2990cbe-babc-4f62-9b6f-2807edfa05b2",
   "metadata": {},
   "outputs": [],
   "source": [
    "tfms3 = TfmdLists([800, 801, 802], [*tfms2.fs, MeteoImpDf2Tensor()])"
   ]
  },
  {
   "cell_type": "code",
   "execution_count": null,
   "id": "755add1e-55d4-4408-8db2-ab28d804edd2",
   "metadata": {},
   "outputs": [
    {
     "data": {
      "text/html": [
       "<div style=\"display: flex; column-gap: 20px; flex-wrap: wrap;\" class='table table-striped table-sm'> <div><p style='font-size: 1.2rem;'>data</p> <pre>tensor([[ 14.2200, 224.8000,   5.7990],\n",
       "        [ 14.1100, 195.2800,   6.5770],\n",
       "        [ 14.2300, 244.1700,   6.9310],\n",
       "        [ 14.4000, 253.9200,   7.2860],\n",
       "        [ 14.0900, 177.3100,   7.2510],\n",
       "        [ 13.7100,  97.0700,   6.6830],\n",
       "        [ 13.0800,  39.7100,   5.8510],\n",
       "        [ 12.4100,  10.6500,   5.2540],\n",
       "        [ 12.2700,   0.3200,   5.1640],\n",
       "        [ 12.2000,   0.0000,   5.0370]])</pre> </div><div><p style='font-size: 1.2rem;'>mask</p> <pre>tensor([[ True,  True,  True],\n",
       "        [ True,  True,  True],\n",
       "        [ True,  True,  True],\n",
       "        [ True,  True,  True],\n",
       "        [ True,  True,  True],\n",
       "        [ True,  True,  True],\n",
       "        [False, False,  True],\n",
       "        [False, False,  True],\n",
       "        [ True,  True,  True],\n",
       "        [ True,  True,  True]])</pre> </div><div><p style='font-size: 1.2rem;'>control</p> <pre>tensor([[ 15.0500, 255.1930,   5.1020,  15.1390, 287.1000,   4.9000],\n",
       "        [ 14.9610, 221.4270,   5.3050,  15.0500, 255.1930,   5.1020],\n",
       "        [ 14.8720, 186.3800,   5.5070,  14.9610, 221.4270,   5.3050],\n",
       "        [ 14.7830, 150.6500,   5.7100,  14.8720, 186.3800,   5.5070],\n",
       "        [ 14.6940, 114.8490,   5.9120,  14.7830, 150.6500,   5.7100],\n",
       "        [ 14.6060,  34.7280,   6.1140,  14.6940, 114.8490,   5.9120],\n",
       "        [ 14.3800,  19.8430,   6.0740,  14.6060,  34.7280,   6.1140],\n",
       "        [ 14.1550,   5.7120,   6.0340,  14.3800,  19.8430,   6.0740],\n",
       "        [ 13.9290,   0.0000,   5.9940,  14.1550,   5.7120,   6.0340],\n",
       "        [ 13.7040,   0.0000,   5.9540,  13.9290,   0.0000,   5.9940]])</pre> </div></div>"
      ],
      "text/plain": [
       "__main__.MeteoImpTensor(data=tensor([[ 14.2200, 224.8000,   5.7990],\n",
       "        [ 14.1100, 195.2800,   6.5770],\n",
       "        [ 14.2300, 244.1700,   6.9310],\n",
       "        [ 14.4000, 253.9200,   7.2860],\n",
       "        [ 14.0900, 177.3100,   7.2510],\n",
       "        [ 13.7100,  97.0700,   6.6830],\n",
       "        [ 13.0800,  39.7100,   5.8510],\n",
       "        [ 12.4100,  10.6500,   5.2540],\n",
       "        [ 12.2700,   0.3200,   5.1640],\n",
       "        [ 12.2000,   0.0000,   5.0370]]), mask=tensor([[ True,  True,  True],\n",
       "        [ True,  True,  True],\n",
       "        [ True,  True,  True],\n",
       "        [ True,  True,  True],\n",
       "        [ True,  True,  True],\n",
       "        [ True,  True,  True],\n",
       "        [False, False,  True],\n",
       "        [False, False,  True],\n",
       "        [ True,  True,  True],\n",
       "        [ True,  True,  True]]), control=tensor([[ 15.0500, 255.1930,   5.1020,  15.1390, 287.1000,   4.9000],\n",
       "        [ 14.9610, 221.4270,   5.3050,  15.0500, 255.1930,   5.1020],\n",
       "        [ 14.8720, 186.3800,   5.5070,  14.9610, 221.4270,   5.3050],\n",
       "        [ 14.7830, 150.6500,   5.7100,  14.8720, 186.3800,   5.5070],\n",
       "        [ 14.6940, 114.8490,   5.9120,  14.7830, 150.6500,   5.7100],\n",
       "        [ 14.6060,  34.7280,   6.1140,  14.6940, 114.8490,   5.9120],\n",
       "        [ 14.3800,  19.8430,   6.0740,  14.6060,  34.7280,   6.1140],\n",
       "        [ 14.1550,   5.7120,   6.0340,  14.3800,  19.8430,   6.0740],\n",
       "        [ 13.9290,   0.0000,   5.9940,  14.1550,   5.7120,   6.0340],\n",
       "        [ 13.7040,   0.0000,   5.9540,  13.9290,   0.0000,   5.9940]]))"
      ]
     },
     "execution_count": null,
     "metadata": {},
     "output_type": "execute_result"
    }
   ],
   "source": [
    "tfms3[0]"
   ]
  },
  {
   "cell_type": "code",
   "execution_count": null,
   "id": "324520e5-5979-4b7e-b52f-97e86788c187",
   "metadata": {},
   "outputs": [
    {
     "data": {
      "text/plain": [
       "__main__.MeteoImpTensor"
      ]
     },
     "execution_count": null,
     "metadata": {},
     "output_type": "execute_result"
    }
   ],
   "source": [
    "type(tfms3[0])"
   ]
  },
  {
   "cell_type": "code",
   "execution_count": null,
   "id": "56477320-5c88-48c8-90a8-ceda644dffb9",
   "metadata": {},
   "outputs": [],
   "source": [
    "# tfms3.decode(tfms3[0])"
   ]
  },
  {
   "cell_type": "markdown",
   "id": "87e120fa-cf84-4e32-8c99-9af24a2755b1",
   "metadata": {},
   "source": [
    "### 5) Normalize"
   ]
  },
  {
   "cell_type": "code",
   "execution_count": null,
   "id": "3ba23250-9b69-43c2-b2f6-db4ef5658e6a",
   "metadata": {},
   "outputs": [],
   "source": [
    "#| export\n",
    "from meteo_imp.utils import *\n",
    "from fastai.torch_core import to_cpu\n",
    "\n",
    "from torch import Tensor"
   ]
  },
  {
   "cell_type": "code",
   "execution_count": null,
   "id": "da858473-9de5-4abf-8a32-eb24bfb6b054",
   "metadata": {},
   "outputs": [
    {
     "data": {
      "text/plain": [
       "<function collections.namedtuple(typename, field_names, *, rename=False, defaults=None, module=None)>"
      ]
     },
     "execution_count": null,
     "metadata": {},
     "output_type": "execute_result"
    }
   ],
   "source": [
    "collections.namedtuple"
   ]
  },
  {
   "cell_type": "code",
   "execution_count": null,
   "id": "0505fab1-5a53-4879-9d0d-7cc918bd5bdf",
   "metadata": {},
   "outputs": [],
   "source": [
    "nt = collections.namedtuple(\"nt\", \"a\")"
   ]
  },
  {
   "cell_type": "code",
   "execution_count": null,
   "id": "6ad97a8b-4da1-4c88-9b49-8ca0f3ce4a13",
   "metadata": {},
   "outputs": [
    {
     "data": {
      "text/plain": [
       "True"
      ]
     },
     "execution_count": null,
     "metadata": {},
     "output_type": "execute_result"
    }
   ],
   "source": [
    "isinstance(nt(1), tuple)"
   ]
  },
  {
   "cell_type": "code",
   "execution_count": null,
   "id": "f1ac4c68-5abf-41c0-b754-889ad3af0999",
   "metadata": {},
   "outputs": [],
   "source": [
    "#| export\n",
    "class NormalsParams(list):\n",
    "    def __init__(self,*args):\n",
    "        if len(args)==2:\n",
    "            self.mean = args[0]\n",
    "            self.std = args[1]\n",
    "        elif isinstance(args[0], Generator):\n",
    "            args = list(args[0])\n",
    "            self.mean = args[0]\n",
    "            self.std = args[1]\n",
    "        elif len(args)==1 and len(args[0])==2:\n",
    "            self.mean = tuple(args[0])[0]\n",
    "            self.std = tuple(args[0])[1]                     \n",
    "        else:\n",
    "            raise ValueError(f\"Incorrect number of arguments. got {len(args)} args\")\n",
    "    def __iter__(self): return iter((self.mean, self.std,))\n",
    "    def __next__(self): return next(self.__iter__())\n",
    "    def __len__(self): return 2\n",
    "    def __getitem__(self, key):\n",
    "        if key == 0: return self.mean\n",
    "        elif key == 1: return self.std\n",
    "        else: raise IndexError(\"index bigger than 2\")\n",
    "    __repr__ = basic_repr('mean, std')"
   ]
  },
  {
   "cell_type": "code",
   "execution_count": null,
   "id": "bd093319-c16b-494c-9431-1c7d5d8869a8",
   "metadata": {},
   "outputs": [
    {
     "data": {
      "text/plain": [
       "__main__.NormalsParams(mean=0, std=1)"
      ]
     },
     "execution_count": null,
     "metadata": {},
     "output_type": "execute_result"
    }
   ],
   "source": [
    "NormalsParams(0,1)"
   ]
  },
  {
   "cell_type": "code",
   "execution_count": null,
   "id": "e75c7ecf-2785-49fc-b1ff-fe98c4e03843",
   "metadata": {},
   "outputs": [],
   "source": [
    "#| export\n",
    "def get_stats(df, repeat=1, device='cpu'):\n",
    "    return torch.tensor(df.mean(axis=0).to_numpy(), device=device).repeat(repeat), torch.tensor(df.std(axis=0).to_numpy(), device=device).repeat(repeat)"
   ]
  },
  {
   "cell_type": "code",
   "execution_count": null,
   "id": "975601aa-1325-4ece-989c-0eb60a9d8d85",
   "metadata": {},
   "outputs": [],
   "source": [
    "#| export\n",
    "class MeteoImpNormalize(Transform):\n",
    "    \"Normalize/denorm MeteoImpTensor column-wise \"\n",
    "    @property\n",
    "    def name(self): return f\"{super().name} -- {getattr(self,'__stored_args__',{})}\"\n",
    "\n",
    "    def __init__(self, mean_data, std_data, mean_control, std_control): store_attr()\n",
    "\n",
    "    def encodes(self, x:MeteoImpTensor)-> MeteoImpTensor:\n",
    "        return MeteoImpTensor((x.data -self.mean_data) / self.std_data, x.mask, (x.control - self.mean_control)/self.std_control)\n",
    "\n",
    "    def decodes(self, x:MeteoImpTensor)->MeteoImpTensor:\n",
    "        f = partial(to_device, device=(x[0].device))\n",
    "        return MeteoImpTensor(x.data * f(self.std_data) + f(self.mean_data), x.mask, x.control * f(self.std_control) + f(self.mean_control))\n",
    "    \n",
    "    def decodes(self, x:NormalsParams):\n",
    "        f = partial(to_device, device=(x[0].device))\n",
    "        mean = x.mean * f(self.std_data) + f(self.mean_data)\n",
    "        std = x.std * f(self.std_data)\n",
    "        \n",
    "        return NormalsParams(mean, std)"
   ]
  },
  {
   "cell_type": "code",
   "execution_count": null,
   "id": "81c896b6-86c0-407b-8f4b-da4bdc366c27",
   "metadata": {},
   "outputs": [],
   "source": [
    "norm = MeteoImpNormalize(*get_stats(hai), *get_stats(hai_era,2))"
   ]
  },
  {
   "cell_type": "code",
   "execution_count": null,
   "id": "7e8c0fab-da94-400f-8486-0253b05a6a96",
   "metadata": {},
   "outputs": [
    {
     "data": {
      "text/html": [
       "<div style=\"display: flex; column-gap: 20px; flex-wrap: wrap;\" class='table table-striped table-sm'> <div><p style='font-size: 1.2rem;'>data</p> <pre>tensor([[ 14.2200, 224.8000,   5.7990],\n",
       "        [ 14.1100, 195.2800,   6.5770],\n",
       "        [ 14.2300, 244.1700,   6.9310],\n",
       "        [ 14.4000, 253.9200,   7.2860],\n",
       "        [ 14.0900, 177.3100,   7.2510],\n",
       "        [ 13.7100,  97.0700,   6.6830],\n",
       "        [ 13.0800,  39.7100,   5.8510],\n",
       "        [ 12.4100,  10.6500,   5.2540],\n",
       "        [ 12.2700,   0.3200,   5.1640],\n",
       "        [ 12.2000,   0.0000,   5.0370]])</pre> </div><div><p style='font-size: 1.2rem;'>mask</p> <pre>tensor([[ True,  True,  True],\n",
       "        [ True,  True,  True],\n",
       "        [ True,  True,  True],\n",
       "        [ True,  True,  True],\n",
       "        [ True,  True,  True],\n",
       "        [False, False,  True],\n",
       "        [False, False,  True],\n",
       "        [ True,  True,  True],\n",
       "        [ True,  True,  True],\n",
       "        [ True,  True,  True]])</pre> </div><div><p style='font-size: 1.2rem;'>control</p> <pre>tensor([[ 15.0500, 255.1930,   5.1020,  15.1390, 287.1000,   4.9000],\n",
       "        [ 14.9610, 221.4270,   5.3050,  15.0500, 255.1930,   5.1020],\n",
       "        [ 14.8720, 186.3800,   5.5070,  14.9610, 221.4270,   5.3050],\n",
       "        [ 14.7830, 150.6500,   5.7100,  14.8720, 186.3800,   5.5070],\n",
       "        [ 14.6940, 114.8490,   5.9120,  14.7830, 150.6500,   5.7100],\n",
       "        [ 14.6060,  34.7280,   6.1140,  14.6940, 114.8490,   5.9120],\n",
       "        [ 14.3800,  19.8430,   6.0740,  14.6060,  34.7280,   6.1140],\n",
       "        [ 14.1550,   5.7120,   6.0340,  14.3800,  19.8430,   6.0740],\n",
       "        [ 13.9290,   0.0000,   5.9940,  14.1550,   5.7120,   6.0340],\n",
       "        [ 13.7040,   0.0000,   5.9540,  13.9290,   0.0000,   5.9940]])</pre> </div></div>"
      ],
      "text/plain": [
       "__main__.MeteoImpTensor(data=tensor([[ 14.2200, 224.8000,   5.7990],\n",
       "        [ 14.1100, 195.2800,   6.5770],\n",
       "        [ 14.2300, 244.1700,   6.9310],\n",
       "        [ 14.4000, 253.9200,   7.2860],\n",
       "        [ 14.0900, 177.3100,   7.2510],\n",
       "        [ 13.7100,  97.0700,   6.6830],\n",
       "        [ 13.0800,  39.7100,   5.8510],\n",
       "        [ 12.4100,  10.6500,   5.2540],\n",
       "        [ 12.2700,   0.3200,   5.1640],\n",
       "        [ 12.2000,   0.0000,   5.0370]]), mask=tensor([[ True,  True,  True],\n",
       "        [ True,  True,  True],\n",
       "        [ True,  True,  True],\n",
       "        [ True,  True,  True],\n",
       "        [ True,  True,  True],\n",
       "        [False, False,  True],\n",
       "        [False, False,  True],\n",
       "        [ True,  True,  True],\n",
       "        [ True,  True,  True],\n",
       "        [ True,  True,  True]]), control=tensor([[ 15.0500, 255.1930,   5.1020,  15.1390, 287.1000,   4.9000],\n",
       "        [ 14.9610, 221.4270,   5.3050,  15.0500, 255.1930,   5.1020],\n",
       "        [ 14.8720, 186.3800,   5.5070,  14.9610, 221.4270,   5.3050],\n",
       "        [ 14.7830, 150.6500,   5.7100,  14.8720, 186.3800,   5.5070],\n",
       "        [ 14.6940, 114.8490,   5.9120,  14.7830, 150.6500,   5.7100],\n",
       "        [ 14.6060,  34.7280,   6.1140,  14.6940, 114.8490,   5.9120],\n",
       "        [ 14.3800,  19.8430,   6.0740,  14.6060,  34.7280,   6.1140],\n",
       "        [ 14.1550,   5.7120,   6.0340,  14.3800,  19.8430,   6.0740],\n",
       "        [ 13.9290,   0.0000,   5.9940,  14.1550,   5.7120,   6.0340],\n",
       "        [ 13.7040,   0.0000,   5.9540,  13.9290,   0.0000,   5.9940]]))"
      ]
     },
     "execution_count": null,
     "metadata": {},
     "output_type": "execute_result"
    }
   ],
   "source": [
    "tfms3[0]"
   ]
  },
  {
   "cell_type": "code",
   "execution_count": null,
   "id": "ac2ff9bb-9a90-468e-a079-27e383eb5e0a",
   "metadata": {},
   "outputs": [
    {
     "data": {
      "text/html": [
       "<div>\n",
       "  <p>\n",
       "    <strong>MeteoImpNormalize -- {'mean_data': tensor([  8.3339, 120.9578,   3.3807]), 'std_data': tensor([  7.9246, 204.0026,   4.3684]), 'mean_control': tensor([  8.1948, 120.6864,   3.3253,   8.1948, 120.6864,   3.3253]), 'std_control': tensor([  7.5459, 187.1730,   3.6871,   7.5459, 187.1730,   3.6871])}</strong>\n",
       "  </p>\n",
       "  <p>(MeteoImpTensor,object) -&gt; encodes\n",
       "</p>\n",
       "  <p>(MeteoImpTensor,object) -&gt; decodes\n",
       "(NormalsParams,object) -&gt; decodes\n",
       "</p>\n",
       "</div>"
      ],
      "text/plain": [
       "MeteoImpNormalize -- {'mean_data': tensor([  8.3339, 120.9578,   3.3807]), 'std_data': tensor([  7.9246, 204.0026,   4.3684]), 'mean_control': tensor([  8.1948, 120.6864,   3.3253,   8.1948, 120.6864,   3.3253]), 'std_control': tensor([  7.5459, 187.1730,   3.6871,   7.5459, 187.1730,   3.6871])}:\n",
       "encodes: (MeteoImpTensor,object) -> encodes\n",
       "decodes: (MeteoImpTensor,object) -> decodes\n",
       "(NormalsParams,object) -> decodes"
      ]
     },
     "execution_count": null,
     "metadata": {},
     "output_type": "execute_result"
    }
   ],
   "source": [
    "norm"
   ]
  },
  {
   "cell_type": "code",
   "execution_count": null,
   "id": "fb5acd9c-2c5c-4ff0-beaf-3cdf0bc15bcd",
   "metadata": {},
   "outputs": [
    {
     "data": {
      "text/html": [
       "<div style=\"display: flex; column-gap: 20px; flex-wrap: wrap;\" class='table table-striped table-sm'> <div><p style='font-size: 1.2rem;'>data</p> <pre>tensor([[ 0.7428,  0.5090,  0.5536],\n",
       "        [ 0.7289,  0.3643,  0.7317],\n",
       "        [ 0.7440,  0.6040,  0.8127],\n",
       "        [ 0.7655,  0.6518,  0.8940],\n",
       "        [ 0.7264,  0.2762,  0.8860],\n",
       "        [ 0.6784, -0.1171,  0.7560],\n",
       "        [ 0.5989, -0.3983,  0.5655],\n",
       "        [ 0.5144, -0.5407,  0.4288],\n",
       "        [ 0.4967, -0.5914,  0.4082],\n",
       "        [ 0.4879, -0.5929,  0.3792]])</pre> </div><div><p style='font-size: 1.2rem;'>mask</p> <pre>tensor([[ True,  True,  True],\n",
       "        [ True,  True,  True],\n",
       "        [ True,  True,  True],\n",
       "        [ True,  True,  True],\n",
       "        [ True,  True,  True],\n",
       "        [ True,  True,  True],\n",
       "        [ True,  True,  True],\n",
       "        [False, False,  True],\n",
       "        [False, False,  True],\n",
       "        [ True,  True,  True]])</pre> </div><div><p style='font-size: 1.2rem;'>control</p> <pre>tensor([[ 0.9085,  0.7186,  0.4819,  0.9203,  0.8891,  0.4271],\n",
       "        [ 0.8967,  0.5382,  0.5369,  0.9085,  0.7186,  0.4819],\n",
       "        [ 0.8849,  0.3510,  0.5917,  0.8967,  0.5382,  0.5369],\n",
       "        [ 0.8731,  0.1601,  0.6468,  0.8849,  0.3510,  0.5917],\n",
       "        [ 0.8613, -0.0312,  0.7015,  0.8731,  0.1601,  0.6468],\n",
       "        [ 0.8496, -0.4592,  0.7563,  0.8613, -0.0312,  0.7015],\n",
       "        [ 0.8197, -0.5388,  0.7455,  0.8496, -0.4592,  0.7563],\n",
       "        [ 0.7899, -0.6143,  0.7346,  0.8197, -0.5388,  0.7455],\n",
       "        [ 0.7599, -0.6448,  0.7238,  0.7899, -0.6143,  0.7346],\n",
       "        [ 0.7301, -0.6448,  0.7129,  0.7599, -0.6448,  0.7238]])</pre> </div></div>"
      ],
      "text/plain": [
       "__main__.MeteoImpTensor(data=tensor([[ 0.7428,  0.5090,  0.5536],\n",
       "        [ 0.7289,  0.3643,  0.7317],\n",
       "        [ 0.7440,  0.6040,  0.8127],\n",
       "        [ 0.7655,  0.6518,  0.8940],\n",
       "        [ 0.7264,  0.2762,  0.8860],\n",
       "        [ 0.6784, -0.1171,  0.7560],\n",
       "        [ 0.5989, -0.3983,  0.5655],\n",
       "        [ 0.5144, -0.5407,  0.4288],\n",
       "        [ 0.4967, -0.5914,  0.4082],\n",
       "        [ 0.4879, -0.5929,  0.3792]]), mask=tensor([[ True,  True,  True],\n",
       "        [ True,  True,  True],\n",
       "        [ True,  True,  True],\n",
       "        [ True,  True,  True],\n",
       "        [ True,  True,  True],\n",
       "        [ True,  True,  True],\n",
       "        [ True,  True,  True],\n",
       "        [False, False,  True],\n",
       "        [False, False,  True],\n",
       "        [ True,  True,  True]]), control=tensor([[ 0.9085,  0.7186,  0.4819,  0.9203,  0.8891,  0.4271],\n",
       "        [ 0.8967,  0.5382,  0.5369,  0.9085,  0.7186,  0.4819],\n",
       "        [ 0.8849,  0.3510,  0.5917,  0.8967,  0.5382,  0.5369],\n",
       "        [ 0.8731,  0.1601,  0.6468,  0.8849,  0.3510,  0.5917],\n",
       "        [ 0.8613, -0.0312,  0.7015,  0.8731,  0.1601,  0.6468],\n",
       "        [ 0.8496, -0.4592,  0.7563,  0.8613, -0.0312,  0.7015],\n",
       "        [ 0.8197, -0.5388,  0.7455,  0.8496, -0.4592,  0.7563],\n",
       "        [ 0.7899, -0.6143,  0.7346,  0.8197, -0.5388,  0.7455],\n",
       "        [ 0.7599, -0.6448,  0.7238,  0.7899, -0.6143,  0.7346],\n",
       "        [ 0.7301, -0.6448,  0.7129,  0.7599, -0.6448,  0.7238]]))"
      ]
     },
     "execution_count": null,
     "metadata": {},
     "output_type": "execute_result"
    }
   ],
   "source": [
    "norm(tfms3[0])"
   ]
  },
  {
   "cell_type": "code",
   "execution_count": null,
   "id": "bd4747c3-be04-483d-b9e4-730ec7912543",
   "metadata": {},
   "outputs": [],
   "source": [
    "test_close(norm.decode(norm(tfms3[0]))[0], tfms3[0][0], eps=2e-5)"
   ]
  },
  {
   "cell_type": "markdown",
   "id": "9c6f8385-7a2d-46b7-9f8b-a25f8833febf",
   "metadata": {},
   "source": [
    "Test that NormalsParams decode actually works"
   ]
  },
  {
   "cell_type": "code",
   "execution_count": null,
   "id": "cb935fb9-c3bb-456e-bcf4-12ad6f8f5933",
   "metadata": {},
   "outputs": [],
   "source": [
    "Npars = NormalsParams(torch.tensor(1), torch.tensor(.1))"
   ]
  },
  {
   "cell_type": "code",
   "execution_count": null,
   "id": "1b6737ba-596e-47cf-9f79-0c5a83ce6fe8",
   "metadata": {},
   "outputs": [
    {
     "data": {
      "text/plain": [
       "__main__.NormalsParams(mean=tensor([ 16.2585, 324.9604,   7.7491]), std=tensor([ 0.7925, 20.4003,  0.4368]))"
      ]
     },
     "execution_count": null,
     "metadata": {},
     "output_type": "execute_result"
    }
   ],
   "source": [
    "norm.decode(Npars)"
   ]
  },
  {
   "cell_type": "code",
   "execution_count": null,
   "id": "3ba86749-5fe4-49b6-8ca2-48c225d4cfcd",
   "metadata": {},
   "outputs": [],
   "source": [
    "tfms4 = TfmdLists([800,801,803], [*tfms3.fs,MeteoImpNormalize(*get_stats(hai),*get_stats(hai_era, 2) ) ])"
   ]
  },
  {
   "cell_type": "code",
   "execution_count": null,
   "id": "7ecb095d-5e4b-48c6-ad85-93396b8f42af",
   "metadata": {},
   "outputs": [
    {
     "data": {
      "text/html": [
       "<div style=\"display: flex; column-gap: 20px; flex-wrap: wrap;\" class='table table-striped table-sm'> <div><p style='font-size: 1.2rem;'>data</p> <pre>tensor([[ 0.7428,  0.5090,  0.5536],\n",
       "        [ 0.7289,  0.3643,  0.7317],\n",
       "        [ 0.7440,  0.6040,  0.8127],\n",
       "        [ 0.7655,  0.6518,  0.8940],\n",
       "        [ 0.7264,  0.2762,  0.8860],\n",
       "        [ 0.6784, -0.1171,  0.7560],\n",
       "        [ 0.5989, -0.3983,  0.5655],\n",
       "        [ 0.5144, -0.5407,  0.4288],\n",
       "        [ 0.4967, -0.5914,  0.4082],\n",
       "        [ 0.4879, -0.5929,  0.3792]])</pre> </div><div><p style='font-size: 1.2rem;'>mask</p> <pre>tensor([[ True,  True,  True],\n",
       "        [False, False,  True],\n",
       "        [False, False,  True],\n",
       "        [ True,  True,  True],\n",
       "        [ True,  True,  True],\n",
       "        [ True,  True,  True],\n",
       "        [ True,  True,  True],\n",
       "        [ True,  True,  True],\n",
       "        [ True,  True,  True],\n",
       "        [ True,  True,  True]])</pre> </div><div><p style='font-size: 1.2rem;'>control</p> <pre>tensor([[ 0.9085,  0.7186,  0.4819,  0.9203,  0.8891,  0.4271],\n",
       "        [ 0.8967,  0.5382,  0.5369,  0.9085,  0.7186,  0.4819],\n",
       "        [ 0.8849,  0.3510,  0.5917,  0.8967,  0.5382,  0.5369],\n",
       "        [ 0.8731,  0.1601,  0.6468,  0.8849,  0.3510,  0.5917],\n",
       "        [ 0.8613, -0.0312,  0.7015,  0.8731,  0.1601,  0.6468],\n",
       "        [ 0.8496, -0.4592,  0.7563,  0.8613, -0.0312,  0.7015],\n",
       "        [ 0.8197, -0.5388,  0.7455,  0.8496, -0.4592,  0.7563],\n",
       "        [ 0.7899, -0.6143,  0.7346,  0.8197, -0.5388,  0.7455],\n",
       "        [ 0.7599, -0.6448,  0.7238,  0.7899, -0.6143,  0.7346],\n",
       "        [ 0.7301, -0.6448,  0.7129,  0.7599, -0.6448,  0.7238]])</pre> </div></div>"
      ],
      "text/plain": [
       "__main__.MeteoImpTensor(data=tensor([[ 0.7428,  0.5090,  0.5536],\n",
       "        [ 0.7289,  0.3643,  0.7317],\n",
       "        [ 0.7440,  0.6040,  0.8127],\n",
       "        [ 0.7655,  0.6518,  0.8940],\n",
       "        [ 0.7264,  0.2762,  0.8860],\n",
       "        [ 0.6784, -0.1171,  0.7560],\n",
       "        [ 0.5989, -0.3983,  0.5655],\n",
       "        [ 0.5144, -0.5407,  0.4288],\n",
       "        [ 0.4967, -0.5914,  0.4082],\n",
       "        [ 0.4879, -0.5929,  0.3792]]), mask=tensor([[ True,  True,  True],\n",
       "        [False, False,  True],\n",
       "        [False, False,  True],\n",
       "        [ True,  True,  True],\n",
       "        [ True,  True,  True],\n",
       "        [ True,  True,  True],\n",
       "        [ True,  True,  True],\n",
       "        [ True,  True,  True],\n",
       "        [ True,  True,  True],\n",
       "        [ True,  True,  True]]), control=tensor([[ 0.9085,  0.7186,  0.4819,  0.9203,  0.8891,  0.4271],\n",
       "        [ 0.8967,  0.5382,  0.5369,  0.9085,  0.7186,  0.4819],\n",
       "        [ 0.8849,  0.3510,  0.5917,  0.8967,  0.5382,  0.5369],\n",
       "        [ 0.8731,  0.1601,  0.6468,  0.8849,  0.3510,  0.5917],\n",
       "        [ 0.8613, -0.0312,  0.7015,  0.8731,  0.1601,  0.6468],\n",
       "        [ 0.8496, -0.4592,  0.7563,  0.8613, -0.0312,  0.7015],\n",
       "        [ 0.8197, -0.5388,  0.7455,  0.8496, -0.4592,  0.7563],\n",
       "        [ 0.7899, -0.6143,  0.7346,  0.8197, -0.5388,  0.7455],\n",
       "        [ 0.7599, -0.6448,  0.7238,  0.7899, -0.6143,  0.7346],\n",
       "        [ 0.7301, -0.6448,  0.7129,  0.7599, -0.6448,  0.7238]]))"
      ]
     },
     "execution_count": null,
     "metadata": {},
     "output_type": "execute_result"
    }
   ],
   "source": [
    "tfms4[0]"
   ]
  },
  {
   "cell_type": "code",
   "execution_count": null,
   "id": "7f1d4c1d-65b1-4804-aa7e-7193cfadf4e1",
   "metadata": {},
   "outputs": [
    {
     "data": {
      "text/html": [
       "<div style=\"display: flex; column-gap: 20px; flex-wrap: wrap;\" class='table table-striped table-sm'> <div><p style='font-size: 1.2rem;'>data</p> <pre>tensor([[ 14.2200, 224.8000,   5.7990],\n",
       "        [ 14.1100, 195.2800,   6.5770],\n",
       "        [ 14.2300, 244.1700,   6.9310],\n",
       "        [ 14.4000, 253.9200,   7.2860],\n",
       "        [ 14.0900, 177.3100,   7.2510],\n",
       "        [ 13.7100,  97.0700,   6.6830],\n",
       "        [ 13.0800,  39.7100,   5.8510],\n",
       "        [ 12.4100,  10.6500,   5.2540],\n",
       "        [ 12.2700,   0.3200,   5.1640],\n",
       "        [ 12.2000,   0.0000,   5.0370]])</pre> </div><div><p style='font-size: 1.2rem;'>mask</p> <pre>tensor([[ True,  True,  True],\n",
       "        [False, False,  True],\n",
       "        [False, False,  True],\n",
       "        [ True,  True,  True],\n",
       "        [ True,  True,  True],\n",
       "        [ True,  True,  True],\n",
       "        [ True,  True,  True],\n",
       "        [ True,  True,  True],\n",
       "        [ True,  True,  True],\n",
       "        [ True,  True,  True]])</pre> </div><div><p style='font-size: 1.2rem;'>control</p> <pre>tensor([[ 1.5050e+01,  2.5519e+02,  5.1020e+00,  1.5139e+01,  2.8710e+02,\n",
       "          4.9000e+00],\n",
       "        [ 1.4961e+01,  2.2143e+02,  5.3050e+00,  1.5050e+01,  2.5519e+02,\n",
       "          5.1020e+00],\n",
       "        [ 1.4872e+01,  1.8638e+02,  5.5070e+00,  1.4961e+01,  2.2143e+02,\n",
       "          5.3050e+00],\n",
       "        [ 1.4783e+01,  1.5065e+02,  5.7100e+00,  1.4872e+01,  1.8638e+02,\n",
       "          5.5070e+00],\n",
       "        [ 1.4694e+01,  1.1485e+02,  5.9120e+00,  1.4783e+01,  1.5065e+02,\n",
       "          5.7100e+00],\n",
       "        [ 1.4606e+01,  3.4728e+01,  6.1140e+00,  1.4694e+01,  1.1485e+02,\n",
       "          5.9120e+00],\n",
       "        [ 1.4380e+01,  1.9843e+01,  6.0740e+00,  1.4606e+01,  3.4728e+01,\n",
       "          6.1140e+00],\n",
       "        [ 1.4155e+01,  5.7120e+00,  6.0340e+00,  1.4380e+01,  1.9843e+01,\n",
       "          6.0740e+00],\n",
       "        [ 1.3929e+01, -7.6294e-06,  5.9940e+00,  1.4155e+01,  5.7120e+00,\n",
       "          6.0340e+00],\n",
       "        [ 1.3704e+01, -7.6294e-06,  5.9540e+00,  1.3929e+01, -7.6294e-06,\n",
       "          5.9940e+00]])</pre> </div></div>"
      ],
      "text/plain": [
       "__main__.MeteoImpTensor(data=tensor([[ 14.2200, 224.8000,   5.7990],\n",
       "        [ 14.1100, 195.2800,   6.5770],\n",
       "        [ 14.2300, 244.1700,   6.9310],\n",
       "        [ 14.4000, 253.9200,   7.2860],\n",
       "        [ 14.0900, 177.3100,   7.2510],\n",
       "        [ 13.7100,  97.0700,   6.6830],\n",
       "        [ 13.0800,  39.7100,   5.8510],\n",
       "        [ 12.4100,  10.6500,   5.2540],\n",
       "        [ 12.2700,   0.3200,   5.1640],\n",
       "        [ 12.2000,   0.0000,   5.0370]]), mask=tensor([[ True,  True,  True],\n",
       "        [False, False,  True],\n",
       "        [False, False,  True],\n",
       "        [ True,  True,  True],\n",
       "        [ True,  True,  True],\n",
       "        [ True,  True,  True],\n",
       "        [ True,  True,  True],\n",
       "        [ True,  True,  True],\n",
       "        [ True,  True,  True],\n",
       "        [ True,  True,  True]]), control=tensor([[ 1.5050e+01,  2.5519e+02,  5.1020e+00,  1.5139e+01,  2.8710e+02,\n",
       "          4.9000e+00],\n",
       "        [ 1.4961e+01,  2.2143e+02,  5.3050e+00,  1.5050e+01,  2.5519e+02,\n",
       "          5.1020e+00],\n",
       "        [ 1.4872e+01,  1.8638e+02,  5.5070e+00,  1.4961e+01,  2.2143e+02,\n",
       "          5.3050e+00],\n",
       "        [ 1.4783e+01,  1.5065e+02,  5.7100e+00,  1.4872e+01,  1.8638e+02,\n",
       "          5.5070e+00],\n",
       "        [ 1.4694e+01,  1.1485e+02,  5.9120e+00,  1.4783e+01,  1.5065e+02,\n",
       "          5.7100e+00],\n",
       "        [ 1.4606e+01,  3.4728e+01,  6.1140e+00,  1.4694e+01,  1.1485e+02,\n",
       "          5.9120e+00],\n",
       "        [ 1.4380e+01,  1.9843e+01,  6.0740e+00,  1.4606e+01,  3.4728e+01,\n",
       "          6.1140e+00],\n",
       "        [ 1.4155e+01,  5.7120e+00,  6.0340e+00,  1.4380e+01,  1.9843e+01,\n",
       "          6.0740e+00],\n",
       "        [ 1.3929e+01, -7.6294e-06,  5.9940e+00,  1.4155e+01,  5.7120e+00,\n",
       "          6.0340e+00],\n",
       "        [ 1.3704e+01, -7.6294e-06,  5.9540e+00,  1.3929e+01, -7.6294e-06,\n",
       "          5.9940e+00]]))"
      ]
     },
     "execution_count": null,
     "metadata": {},
     "output_type": "execute_result"
    }
   ],
   "source": [
    "tfms4.decode(tfms4[0])"
   ]
  },
  {
   "cell_type": "markdown",
   "id": "996ccbf6-0e81-4fd5-97ff-9ee2ab8eb42d",
   "metadata": {},
   "source": [
    "is workinggggggggggggggggg "
   ]
  },
  {
   "cell_type": "markdown",
   "id": "b0054d0c-1aba-4d7e-8bca-be55853b4388",
   "metadata": {},
   "source": [
    "### 6) To Tuple"
   ]
  },
  {
   "cell_type": "markdown",
   "id": "9e74011f-f689-4f39-8e9d-ec88e0487928",
   "metadata": {},
   "source": [
    "Fastai likes to work with tuples (in particular for collating)... for now convert to a tuple. Maybe find a way to mimic a tuple in `MeteoImpTensor`"
   ]
  },
  {
   "cell_type": "code",
   "execution_count": null,
   "id": "d1c3ff30-1e9e-4d83-a6ea-66df2924e04a",
   "metadata": {},
   "outputs": [],
   "source": [
    "#| export\n",
    "class ToTuple(Transform):\n",
    "    def encodes(self, x): return tuple(x)\n",
    "    def decodes(self, x): return MeteoImpTensor(x)"
   ]
  },
  {
   "cell_type": "code",
   "execution_count": null,
   "id": "d80ba90d-eecf-46e5-b0dc-4f141879b9ac",
   "metadata": {},
   "outputs": [
    {
     "data": {
      "text/html": [
       "<div>\n",
       "  <p>\n",
       "    <strong>ToTuple</strong>\n",
       "  </p>\n",
       "  <p>(object,object) -&gt; encodes\n",
       "</p>\n",
       "  <p>(object,object) -&gt; decodes\n",
       "</p>\n",
       "</div>"
      ],
      "text/plain": [
       "ToTuple:\n",
       "encodes: (object,object) -> encodes\n",
       "decodes: (object,object) -> decodes"
      ]
     },
     "execution_count": null,
     "metadata": {},
     "output_type": "execute_result"
    }
   ],
   "source": [
    "ToTuple()"
   ]
  },
  {
   "cell_type": "code",
   "execution_count": null,
   "id": "b34cf6b9-3dec-42ba-802b-12fad01f1684",
   "metadata": {},
   "outputs": [],
   "source": [
    "tfms5 = TfmdLists([800,801,803], [*tfms4.fs,ToTuple])"
   ]
  },
  {
   "cell_type": "code",
   "execution_count": null,
   "id": "8ceb861e-16d5-444a-bbbd-1ec5cf5c40f9",
   "metadata": {},
   "outputs": [],
   "source": [
    "tfms5[0];"
   ]
  },
  {
   "cell_type": "markdown",
   "id": "81077302-18db-4010-9c88-ae8d48216353",
   "metadata": {},
   "source": [
    "### Pipeline"
   ]
  },
  {
   "cell_type": "code",
   "execution_count": null,
   "id": "0ad384f0-7912-4d40-9631-1e6e5294fb9f",
   "metadata": {},
   "outputs": [],
   "source": [
    "#| export\n",
    "from fastai.data.transforms import *"
   ]
  },
  {
   "cell_type": "code",
   "execution_count": null,
   "id": "5c19d0b5-b78c-4a5f-a606-8a1cfe832e8d",
   "metadata": {},
   "outputs": [],
   "source": [
    "block_len = 10\n",
    "control_lags = [1]\n",
    "control_repeat = 1 + len(control_lags)\n",
    "block_ids = list(range(max(control_lags), (len(hai) // block_len) - 1))[:10]\n",
    "gap_len = 2\n",
    "var_sel = ['TA','SW_IN']"
   ]
  },
  {
   "cell_type": "code",
   "execution_count": null,
   "id": "9a7a2fc4-fa0d-4b22-b7ca-65feed7ffcdc",
   "metadata": {},
   "outputs": [],
   "source": [
    "#| export\n",
    "def imp_pipeline(df,\n",
    "                 control,\n",
    "                 var_sel,\n",
    "                 gap_len,\n",
    "                 block_len,\n",
    "                 control_lags\n",
    "                ):\n",
    "    offset = max(control_lags)\n",
    "    block_ids = list(range(offset, (len(df) // block_len) - 1))\n",
    "    return [BlockIndexTransform(df.index, block_len=block_len, offset=offset),\n",
    "            BlockDfTransform(data = df, control = control,  control_lags = control_lags),\n",
    "            AddGapTransform(var_sel, gap_len),\n",
    "            MeteoImpDf2Tensor,\n",
    "            MeteoImpNormalize(*get_stats(df), *get_stats(control, 1+len(control_lags))),\n",
    "            ToTuple\n",
    "           ], block_ids"
   ]
  },
  {
   "cell_type": "code",
   "execution_count": null,
   "id": "ae7c4bad-445a-4e2a-9d30-e0160106b678",
   "metadata": {},
   "outputs": [],
   "source": [
    "pipeline, block_ids = imp_pipeline(hai, hai_era, var_sel, gap_len, block_len, control_lags)"
   ]
  },
  {
   "cell_type": "code",
   "execution_count": null,
   "id": "569ade0e-fb29-4929-9106-3ac010ce5db0",
   "metadata": {},
   "outputs": [
    {
     "data": {
      "text/plain": [
       "[BlockIndexTransform:\n",
       " encodes: (int,object) -> encodes\n",
       " decodes: ,\n",
       " BlockDfTransform:\n",
       " encodes: (DatetimeIndex,object) -> encodes\n",
       " decodes: ,\n",
       " AddGapTransform:\n",
       " encodes: (DataControl,object) -> encodes\n",
       " decodes: ,\n",
       " __main__.MeteoImpDf2Tensor,\n",
       " MeteoImpNormalize -- {'mean_data': tensor([  8.3339, 120.9578,   3.3807]), 'std_data': tensor([  7.9246, 204.0026,   4.3684]), 'mean_control': tensor([  8.1948, 120.6864,   3.3253,   8.1948, 120.6864,   3.3253]), 'std_control': tensor([  7.5459, 187.1730,   3.6871,   7.5459, 187.1730,   3.6871])}:\n",
       " encodes: (MeteoImpTensor,object) -> encodes\n",
       " decodes: (MeteoImpTensor,object) -> decodes\n",
       " (NormalsParams,object) -> decodes,\n",
       " __main__.ToTuple]"
      ]
     },
     "execution_count": null,
     "metadata": {},
     "output_type": "execute_result"
    }
   ],
   "source": [
    "pipeline"
   ]
  },
  {
   "cell_type": "code",
   "execution_count": null,
   "id": "5cc0fa4f-801d-4d04-a3a7-7012d11e3709",
   "metadata": {},
   "outputs": [],
   "source": [
    "pp = Pipeline(pipeline)"
   ]
  },
  {
   "cell_type": "code",
   "execution_count": null,
   "id": "7b7be91d-d0d2-4b85-9ab5-ece0cbaf6616",
   "metadata": {},
   "outputs": [
    {
     "data": {
      "text/plain": [
       "Pipeline: BlockIndexTransform -> BlockDfTransform -> AddGapTransform -> MeteoImpDf2Tensor -> MeteoImpNormalize -- {'mean_data': tensor([  8.3339, 120.9578,   3.3807]), 'std_data': tensor([  7.9246, 204.0026,   4.3684]), 'mean_control': tensor([  8.1948, 120.6864,   3.3253,   8.1948, 120.6864,   3.3253]), 'std_control': tensor([  7.5459, 187.1730,   3.6871,   7.5459, 187.1730,   3.6871])} -> ToTuple"
      ]
     },
     "execution_count": null,
     "metadata": {},
     "output_type": "execute_result"
    }
   ],
   "source": [
    "pp"
   ]
  },
  {
   "cell_type": "markdown",
   "id": "df9f46c5-7664-492e-8baa-62ed741033e1",
   "metadata": {},
   "source": [
    "### Dataloader"
   ]
  },
  {
   "cell_type": "markdown",
   "id": "b71760f8-6b1f-45be-a804-756a3946a585",
   "metadata": {},
   "source": [
    "random splitter for validation/training set"
   ]
  },
  {
   "cell_type": "code",
   "execution_count": null,
   "id": "322140fc-b896-4e38-b244-dc8525438cfa",
   "metadata": {},
   "outputs": [],
   "source": [
    "reset_seed()"
   ]
  },
  {
   "cell_type": "code",
   "execution_count": null,
   "id": "4aefcbc5-7675-4da8-9fa8-53efd933a5ce",
   "metadata": {},
   "outputs": [],
   "source": [
    "splits = RandomSplitter()(block_ids)"
   ]
  },
  {
   "cell_type": "markdown",
   "id": "ea416657-bd6b-4bd0-9970-1aee94d0b5ea",
   "metadata": {},
   "source": [
    "Repeat twice the pipeline since is the same pipeline both for training data and for labels.\n",
    "\n",
    "In theory could optimize the label creation and get the data only from the gap and not the control, but for now it works and the overhead is minimal"
   ]
  },
  {
   "cell_type": "code",
   "execution_count": null,
   "id": "a367a12b-df12-422d-9eb4-877eaafafc94",
   "metadata": {},
   "outputs": [],
   "source": [
    "ds = Datasets(block_ids, [pipeline, pipeline], splits=splits)"
   ]
  },
  {
   "cell_type": "code",
   "execution_count": null,
   "id": "f6d45118-0145-44ea-a796-a659ed93baa9",
   "metadata": {},
   "outputs": [],
   "source": [
    "dls = ds.dataloaders(bs=1)"
   ]
  },
  {
   "cell_type": "code",
   "execution_count": null,
   "id": "f1ee5a56-067d-4383-9f20-e0c4bc78d4ca",
   "metadata": {},
   "outputs": [
    {
     "data": {
      "text/plain": [
       "device(type='cuda', index=0)"
      ]
     },
     "execution_count": null,
     "metadata": {},
     "output_type": "execute_result"
    }
   ],
   "source": [
    "dls.device"
   ]
  },
  {
   "cell_type": "code",
   "execution_count": null,
   "id": "a7205642-c9ef-4e44-b273-262177d54e2f",
   "metadata": {},
   "outputs": [
    {
     "data": {
      "text/plain": [
       "((tensor([[[-0.3639, -0.5929, -0.7100],\n",
       "           [-0.3702, -0.5929, -0.7116],\n",
       "           [-0.3917, -0.5929, -0.7251],\n",
       "           [-0.3841, -0.5929, -0.7290],\n",
       "           [-0.3311, -0.5929, -0.7130],\n",
       "           [-0.2756, -0.5929, -0.6425],\n",
       "           [-0.2996, -0.5929, -0.6592],\n",
       "           [-0.3538, -0.5929, -0.6924],\n",
       "           [-0.3993, -0.5929, -0.7233],\n",
       "           [-0.4157, -0.5929, -0.7359]]], device='cuda:0'),\n",
       "  tensor([[[ True,  True,  True],\n",
       "           [ True,  True,  True],\n",
       "           [ True,  True,  True],\n",
       "           [ True,  True,  True],\n",
       "           [ True,  True,  True],\n",
       "           [False, False,  True],\n",
       "           [False, False,  True],\n",
       "           [ True,  True,  True],\n",
       "           [ True,  True,  True],\n",
       "           [ True,  True,  True]]], device='cuda:0'),\n",
       "  tensor([[[-0.2722, -0.6448, -0.7383, -0.2547, -0.6448, -0.7370],\n",
       "           [-0.2897, -0.6448, -0.7397, -0.2722, -0.6448, -0.7383],\n",
       "           [-0.3072, -0.6448, -0.7413, -0.2897, -0.6448, -0.7397],\n",
       "           [-0.3247, -0.6448, -0.7427, -0.3072, -0.6448, -0.7413],\n",
       "           [-0.3422, -0.6448, -0.7443, -0.3247, -0.6448, -0.7427],\n",
       "           [-0.3598, -0.6448, -0.7457, -0.3422, -0.6448, -0.7443],\n",
       "           [-0.3604, -0.6448, -0.7405, -0.3598, -0.6448, -0.7457],\n",
       "           [-0.3611, -0.6448, -0.7351, -0.3604, -0.6448, -0.7405],\n",
       "           [-0.3618, -0.6448, -0.7299, -0.3611, -0.6448, -0.7351],\n",
       "           [-0.3624, -0.6448, -0.7245, -0.3618, -0.6448, -0.7299]]],\n",
       "         device='cuda:0')),\n",
       " (tensor([[[-0.3639, -0.5929, -0.7100],\n",
       "           [-0.3702, -0.5929, -0.7116],\n",
       "           [-0.3917, -0.5929, -0.7251],\n",
       "           [-0.3841, -0.5929, -0.7290],\n",
       "           [-0.3311, -0.5929, -0.7130],\n",
       "           [-0.2756, -0.5929, -0.6425],\n",
       "           [-0.2996, -0.5929, -0.6592],\n",
       "           [-0.3538, -0.5929, -0.6924],\n",
       "           [-0.3993, -0.5929, -0.7233],\n",
       "           [-0.4157, -0.5929, -0.7359]]], device='cuda:0'),\n",
       "  tensor([[[False, False,  True],\n",
       "           [False, False,  True],\n",
       "           [ True,  True,  True],\n",
       "           [ True,  True,  True],\n",
       "           [ True,  True,  True],\n",
       "           [ True,  True,  True],\n",
       "           [ True,  True,  True],\n",
       "           [ True,  True,  True],\n",
       "           [ True,  True,  True],\n",
       "           [ True,  True,  True]]], device='cuda:0'),\n",
       "  tensor([[[-0.2722, -0.6448, -0.7383, -0.2547, -0.6448, -0.7370],\n",
       "           [-0.2897, -0.6448, -0.7397, -0.2722, -0.6448, -0.7383],\n",
       "           [-0.3072, -0.6448, -0.7413, -0.2897, -0.6448, -0.7397],\n",
       "           [-0.3247, -0.6448, -0.7427, -0.3072, -0.6448, -0.7413],\n",
       "           [-0.3422, -0.6448, -0.7443, -0.3247, -0.6448, -0.7427],\n",
       "           [-0.3598, -0.6448, -0.7457, -0.3422, -0.6448, -0.7443],\n",
       "           [-0.3604, -0.6448, -0.7405, -0.3598, -0.6448, -0.7457],\n",
       "           [-0.3611, -0.6448, -0.7351, -0.3604, -0.6448, -0.7405],\n",
       "           [-0.3618, -0.6448, -0.7299, -0.3611, -0.6448, -0.7351],\n",
       "           [-0.3624, -0.6448, -0.7245, -0.3618, -0.6448, -0.7299]]],\n",
       "         device='cuda:0')))"
      ]
     },
     "execution_count": null,
     "metadata": {},
     "output_type": "execute_result"
    }
   ],
   "source": [
    "dls.one_batch()"
   ]
  },
  {
   "cell_type": "code",
   "execution_count": null,
   "id": "2223f2ba-79e9-4a58-87ae-a848e8a779a7",
   "metadata": {},
   "outputs": [],
   "source": [
    "@typedispatch\n",
    "def show_batch(x: tuple, y, samples, ctxs=None, max_n=6):\n",
    "    return x"
   ]
  },
  {
   "cell_type": "code",
   "execution_count": null,
   "id": "f81d21cf-c3c3-4926-bb64-067b9928a0b2",
   "metadata": {},
   "outputs": [],
   "source": [
    "# dls.show_batch()"
   ]
  },
  {
   "cell_type": "code",
   "execution_count": null,
   "id": "6bbdab5e-2970-4326-99de-1d1cbdd1b9fa",
   "metadata": {},
   "outputs": [
    {
     "data": {
      "text/plain": [
       "{tuple: [{tuple: [torch.Tensor, torch.Tensor, torch.Tensor]},\n",
       "  {tuple: [torch.Tensor, torch.Tensor, torch.Tensor]}]}"
      ]
     },
     "execution_count": null,
     "metadata": {},
     "output_type": "execute_result"
    }
   ],
   "source": [
    "dls._types"
   ]
  },
  {
   "cell_type": "code",
   "execution_count": null,
   "id": "22219b39-71a5-4ea6-a0dc-059f7fea6ffe",
   "metadata": {},
   "outputs": [],
   "source": [
    "from fastcore.foundation import *"
   ]
  },
  {
   "cell_type": "code",
   "execution_count": null,
   "id": "0fd3c5db-d210-4eba-b61c-b9007f6905e5",
   "metadata": {},
   "outputs": [
    {
     "data": {
      "text/plain": [
       "<function fastcore.meta.delegates(to: function = None, keep=False, but: list = None)>"
      ]
     },
     "execution_count": null,
     "metadata": {},
     "output_type": "execute_result"
    }
   ],
   "source": [
    "delegates"
   ]
  },
  {
   "cell_type": "code",
   "execution_count": null,
   "id": "9ec4f71f-607e-476e-a89e-8d6f2b8bcc19",
   "metadata": {},
   "outputs": [],
   "source": [
    "#| export\n",
    "def imp_dataloader(df,\n",
    "                 control,\n",
    "                 var_sel,\n",
    "                 gap_len,\n",
    "                 block_len,\n",
    "                 control_lags,\n",
    "                 bs):\n",
    "    pipeline, block_ids = imp_pipeline(df, control, var_sel, gap_len, block_len, control_lags)\n",
    "    splits = RandomSplitter()(block_ids)\n",
    "    ds = Datasets(block_ids, [pipeline, pipeline], splits=splits)\n",
    "    \n",
    "    return ds.dataloaders(bs=bs)\n",
    "    "
   ]
  },
  {
   "cell_type": "code",
   "execution_count": null,
   "id": "c64c8c89-fd3e-4c36-893f-ff937ad8eba8",
   "metadata": {},
   "outputs": [
    {
     "data": {
      "text/plain": [
       "<function __main__.imp_dataloader(df, control, var_sel, gap_len, block_len, control_lags, bs)>"
      ]
     },
     "execution_count": null,
     "metadata": {},
     "output_type": "execute_result"
    }
   ],
   "source": [
    "imp_dataloader"
   ]
  },
  {
   "cell_type": "code",
   "execution_count": null,
   "id": "cb1df190-83ba-4056-be7f-82d364e2dc87",
   "metadata": {},
   "outputs": [],
   "source": [
    "dls = imp_dataloader(hai, hai_era, var_sel, gap_len=10, block_len=200, control_lags=[1], bs=10)"
   ]
  },
  {
   "cell_type": "code",
   "execution_count": null,
   "id": "3024300b-3f82-436d-ac6d-13ff7861dbf7",
   "metadata": {},
   "outputs": [
    {
     "data": {
      "text/plain": [
       "torch.Size([10, 200, 3])"
      ]
     },
     "execution_count": null,
     "metadata": {},
     "output_type": "execute_result"
    }
   ],
   "source": [
    "dls.one_batch()[0][0].shape"
   ]
  },
  {
   "cell_type": "code",
   "execution_count": null,
   "id": "1a7c86d2-e054-4dd4-89c9-26165e558390",
   "metadata": {},
   "outputs": [],
   "source": [
    "dls = dls.cpu()"
   ]
  },
  {
   "cell_type": "markdown",
   "id": "64bb7e8b-178d-4ab6-a359-5bcc010a8767",
   "metadata": {},
   "source": [
    "## Model"
   ]
  },
  {
   "cell_type": "markdown",
   "id": "e4e0999c-d959-49fa-8e8a-0ed8e53f2f5d",
   "metadata": {},
   "source": [
    "### Forward Function"
   ]
  },
  {
   "cell_type": "markdown",
   "id": "dc64e0a2-b14b-4159-af4f-c6a9fb2a3f05",
   "metadata": {},
   "source": [
    "in order to the a pytorch module we need a forward method to the kalman filter"
   ]
  },
  {
   "cell_type": "code",
   "execution_count": null,
   "id": "42d40fc6-7b8d-4e9c-9f14-70ea54629826",
   "metadata": {},
   "outputs": [],
   "source": [
    "#| export\n",
    "from meteo_imp.kalman.filter import *\n",
    "from torch.distributions import MultivariateNormal"
   ]
  },
  {
   "cell_type": "code",
   "execution_count": null,
   "id": "0ebded29-5194-4ca4-808a-fe115d705495",
   "metadata": {},
   "outputs": [],
   "source": [
    "#| export\n",
    "@patch\n",
    "def _predict_filter(self: KalmanFilter, data, mask, control):\n",
    "    \"\"\"Predict every obsevation using only the filter step\"\"\"\n",
    "    # use the predicted state not the filtered state!\n",
    "    pred_state_mean, pred_state_cov, _, _ = self._filter_all(data, mask, control)\n",
    "    mean, cov = self._obs_from_state(ListMNormal(pred_state_mean.squeeze(-1), pred_state_cov))\n",
    "    \n",
    "    return ListNormal(mean, cov2std(cov))"
   ]
  },
  {
   "cell_type": "code",
   "execution_count": null,
   "id": "634980aa-b323-45cc-b2a3-bdd0ee95a4a9",
   "metadata": {},
   "outputs": [],
   "source": [
    "model = KalmanFilter.init_random(n_dim_obs = hai.shape[-1], n_dim_state = hai.shape[-1], n_dim_contr = hai_era.shape[-1]*control_repeat)"
   ]
  },
  {
   "cell_type": "code",
   "execution_count": null,
   "id": "5d188012-ee7c-4e3f-8c99-883a56752d65",
   "metadata": {},
   "outputs": [
    {
     "data": {
      "text/plain": [
       "2"
      ]
     },
     "execution_count": null,
     "metadata": {},
     "output_type": "execute_result"
    }
   ],
   "source": [
    "control_repeat"
   ]
  },
  {
   "cell_type": "code",
   "execution_count": null,
   "id": "68a511ea-26aa-4eb3-90e1-2a0fba057d60",
   "metadata": {},
   "outputs": [
    {
     "data": {
      "text/html": [
       "<p style='font-size: 1.5rem; font-decoration: bold'>Kalman Filter (3 obs, 3 state, 6 contr)<p><div style=\"display: flex; column-gap: 20px; flex-wrap: wrap;\" class='table table-striped table-sm'> <div> <p style='font-size: 1.3rem;'>trans matrix (A)</p> <style type=\"text/css\">\n",
       "</style>\n",
       "<table id=\"T_dbea4\">\n",
       "  <thead>\n",
       "    <tr>\n",
       "      <th id=\"T_dbea4_level0_col0\" class=\"col_heading level0 col0\" >state</th>\n",
       "      <th id=\"T_dbea4_level0_col1\" class=\"col_heading level0 col1\" >x_0</th>\n",
       "      <th id=\"T_dbea4_level0_col2\" class=\"col_heading level0 col2\" >x_1</th>\n",
       "      <th id=\"T_dbea4_level0_col3\" class=\"col_heading level0 col3\" >x_2</th>\n",
       "    </tr>\n",
       "  </thead>\n",
       "  <tbody>\n",
       "    <tr>\n",
       "      <td id=\"T_dbea4_row0_col0\" class=\"data row0 col0\" >x_0</td>\n",
       "      <td id=\"T_dbea4_row0_col1\" class=\"data row0 col1\" >0.9391</td>\n",
       "      <td id=\"T_dbea4_row0_col2\" class=\"data row0 col2\" >0.5536</td>\n",
       "      <td id=\"T_dbea4_row0_col3\" class=\"data row0 col3\" >0.3457</td>\n",
       "    </tr>\n",
       "    <tr>\n",
       "      <td id=\"T_dbea4_row1_col0\" class=\"data row1 col0\" >x_1</td>\n",
       "      <td id=\"T_dbea4_row1_col1\" class=\"data row1 col1\" >0.0279</td>\n",
       "      <td id=\"T_dbea4_row1_col2\" class=\"data row1 col2\" >0.0230</td>\n",
       "      <td id=\"T_dbea4_row1_col3\" class=\"data row1 col3\" >0.3678</td>\n",
       "    </tr>\n",
       "    <tr>\n",
       "      <td id=\"T_dbea4_row2_col0\" class=\"data row2 col0\" >x_2</td>\n",
       "      <td id=\"T_dbea4_row2_col1\" class=\"data row2 col1\" >0.7279</td>\n",
       "      <td id=\"T_dbea4_row2_col2\" class=\"data row2 col2\" >0.2933</td>\n",
       "      <td id=\"T_dbea4_row2_col3\" class=\"data row2 col3\" >0.8148</td>\n",
       "    </tr>\n",
       "  </tbody>\n",
       "</table>\n",
       " </div><div> <p style='font-size: 1.3rem;'>trans cov (Q)</p> <style type=\"text/css\">\n",
       "</style>\n",
       "<table id=\"T_cfa50\">\n",
       "  <thead>\n",
       "    <tr>\n",
       "      <th id=\"T_cfa50_level0_col0\" class=\"col_heading level0 col0\" >state</th>\n",
       "      <th id=\"T_cfa50_level0_col1\" class=\"col_heading level0 col1\" >x_0</th>\n",
       "      <th id=\"T_cfa50_level0_col2\" class=\"col_heading level0 col2\" >x_1</th>\n",
       "      <th id=\"T_cfa50_level0_col3\" class=\"col_heading level0 col3\" >x_2</th>\n",
       "    </tr>\n",
       "  </thead>\n",
       "  <tbody>\n",
       "    <tr>\n",
       "      <td id=\"T_cfa50_row0_col0\" class=\"data row0 col0\" >x_0</td>\n",
       "      <td id=\"T_cfa50_row0_col1\" class=\"data row0 col1\" >0.2811</td>\n",
       "      <td id=\"T_cfa50_row0_col2\" class=\"data row0 col2\" >0.3998</td>\n",
       "      <td id=\"T_cfa50_row0_col3\" class=\"data row0 col3\" >0.4784</td>\n",
       "    </tr>\n",
       "    <tr>\n",
       "      <td id=\"T_cfa50_row1_col0\" class=\"data row1 col0\" >x_1</td>\n",
       "      <td id=\"T_cfa50_row1_col1\" class=\"data row1 col1\" >0.3998</td>\n",
       "      <td id=\"T_cfa50_row1_col2\" class=\"data row1 col2\" >1.2545</td>\n",
       "      <td id=\"T_cfa50_row1_col3\" class=\"data row1 col3\" >0.6403</td>\n",
       "    </tr>\n",
       "    <tr>\n",
       "      <td id=\"T_cfa50_row2_col0\" class=\"data row2 col0\" >x_2</td>\n",
       "      <td id=\"T_cfa50_row2_col1\" class=\"data row2 col1\" >0.4784</td>\n",
       "      <td id=\"T_cfa50_row2_col2\" class=\"data row2 col2\" >0.6403</td>\n",
       "      <td id=\"T_cfa50_row2_col3\" class=\"data row2 col3\" >0.8191</td>\n",
       "    </tr>\n",
       "  </tbody>\n",
       "</table>\n",
       " </div><div> <p style='font-size: 1.3rem;'>trans off</p> <style type=\"text/css\">\n",
       "</style>\n",
       "<table id=\"T_850ce\">\n",
       "  <thead>\n",
       "    <tr>\n",
       "      <th id=\"T_850ce_level0_col0\" class=\"col_heading level0 col0\" >state</th>\n",
       "      <th id=\"T_850ce_level0_col1\" class=\"col_heading level0 col1\" >offset</th>\n",
       "    </tr>\n",
       "  </thead>\n",
       "  <tbody>\n",
       "    <tr>\n",
       "      <td id=\"T_850ce_row0_col0\" class=\"data row0 col0\" >x_0</td>\n",
       "      <td id=\"T_850ce_row0_col1\" class=\"data row0 col1\" >0.9163</td>\n",
       "    </tr>\n",
       "    <tr>\n",
       "      <td id=\"T_850ce_row1_col0\" class=\"data row1 col0\" >x_1</td>\n",
       "      <td id=\"T_850ce_row1_col1\" class=\"data row1 col1\" >0.3011</td>\n",
       "    </tr>\n",
       "    <tr>\n",
       "      <td id=\"T_850ce_row2_col0\" class=\"data row2 col0\" >x_2</td>\n",
       "      <td id=\"T_850ce_row2_col1\" class=\"data row2 col1\" >0.8537</td>\n",
       "    </tr>\n",
       "  </tbody>\n",
       "</table>\n",
       " </div><div> <p style='font-size: 1.3rem;'>obs matrix (H)</p> <style type=\"text/css\">\n",
       "</style>\n",
       "<table id=\"T_11e6e\">\n",
       "  <thead>\n",
       "    <tr>\n",
       "      <th id=\"T_11e6e_level0_col0\" class=\"col_heading level0 col0\" >variable</th>\n",
       "      <th id=\"T_11e6e_level0_col1\" class=\"col_heading level0 col1\" >x_0</th>\n",
       "      <th id=\"T_11e6e_level0_col2\" class=\"col_heading level0 col2\" >x_1</th>\n",
       "      <th id=\"T_11e6e_level0_col3\" class=\"col_heading level0 col3\" >x_2</th>\n",
       "    </tr>\n",
       "  </thead>\n",
       "  <tbody>\n",
       "    <tr>\n",
       "      <td id=\"T_11e6e_row0_col0\" class=\"data row0 col0\" >y_0</td>\n",
       "      <td id=\"T_11e6e_row0_col1\" class=\"data row0 col1\" >0.5088</td>\n",
       "      <td id=\"T_11e6e_row0_col2\" class=\"data row0 col2\" >0.5328</td>\n",
       "      <td id=\"T_11e6e_row0_col3\" class=\"data row0 col3\" >0.4943</td>\n",
       "    </tr>\n",
       "    <tr>\n",
       "      <td id=\"T_11e6e_row1_col0\" class=\"data row1 col0\" >y_1</td>\n",
       "      <td id=\"T_11e6e_row1_col1\" class=\"data row1 col1\" >0.8335</td>\n",
       "      <td id=\"T_11e6e_row1_col2\" class=\"data row1 col2\" >0.3526</td>\n",
       "      <td id=\"T_11e6e_row1_col3\" class=\"data row1 col3\" >0.5773</td>\n",
       "    </tr>\n",
       "    <tr>\n",
       "      <td id=\"T_11e6e_row2_col0\" class=\"data row2 col0\" >y_2</td>\n",
       "      <td id=\"T_11e6e_row2_col1\" class=\"data row2 col1\" >0.7732</td>\n",
       "      <td id=\"T_11e6e_row2_col2\" class=\"data row2 col2\" >0.5858</td>\n",
       "      <td id=\"T_11e6e_row2_col3\" class=\"data row2 col3\" >0.7828</td>\n",
       "    </tr>\n",
       "  </tbody>\n",
       "</table>\n",
       " </div><div> <p style='font-size: 1.3rem;'>obs cov (R)</p> <style type=\"text/css\">\n",
       "</style>\n",
       "<table id=\"T_2ae44\">\n",
       "  <thead>\n",
       "    <tr>\n",
       "      <th id=\"T_2ae44_level0_col0\" class=\"col_heading level0 col0\" >variable</th>\n",
       "      <th id=\"T_2ae44_level0_col1\" class=\"col_heading level0 col1\" >y_0</th>\n",
       "      <th id=\"T_2ae44_level0_col2\" class=\"col_heading level0 col2\" >y_1</th>\n",
       "      <th id=\"T_2ae44_level0_col3\" class=\"col_heading level0 col3\" >y_2</th>\n",
       "    </tr>\n",
       "  </thead>\n",
       "  <tbody>\n",
       "    <tr>\n",
       "      <td id=\"T_2ae44_row0_col0\" class=\"data row0 col0\" >y_0</td>\n",
       "      <td id=\"T_2ae44_row0_col1\" class=\"data row0 col1\" >1.9850</td>\n",
       "      <td id=\"T_2ae44_row0_col2\" class=\"data row0 col2\" >0.0000</td>\n",
       "      <td id=\"T_2ae44_row0_col3\" class=\"data row0 col3\" >0.0000</td>\n",
       "    </tr>\n",
       "    <tr>\n",
       "      <td id=\"T_2ae44_row1_col0\" class=\"data row1 col0\" >y_1</td>\n",
       "      <td id=\"T_2ae44_row1_col1\" class=\"data row1 col1\" >0.0000</td>\n",
       "      <td id=\"T_2ae44_row1_col2\" class=\"data row1 col2\" >0.5512</td>\n",
       "      <td id=\"T_2ae44_row1_col3\" class=\"data row1 col3\" >0.0000</td>\n",
       "    </tr>\n",
       "    <tr>\n",
       "      <td id=\"T_2ae44_row2_col0\" class=\"data row2 col0\" >y_2</td>\n",
       "      <td id=\"T_2ae44_row2_col1\" class=\"data row2 col1\" >0.0000</td>\n",
       "      <td id=\"T_2ae44_row2_col2\" class=\"data row2 col2\" >0.0000</td>\n",
       "      <td id=\"T_2ae44_row2_col3\" class=\"data row2 col3\" >0.8488</td>\n",
       "    </tr>\n",
       "  </tbody>\n",
       "</table>\n",
       " </div><div> <p style='font-size: 1.3rem;'>obs off</p> <style type=\"text/css\">\n",
       "</style>\n",
       "<table id=\"T_24dde\">\n",
       "  <thead>\n",
       "    <tr>\n",
       "      <th id=\"T_24dde_level0_col0\" class=\"col_heading level0 col0\" >variable</th>\n",
       "      <th id=\"T_24dde_level0_col1\" class=\"col_heading level0 col1\" >offset</th>\n",
       "    </tr>\n",
       "  </thead>\n",
       "  <tbody>\n",
       "    <tr>\n",
       "      <td id=\"T_24dde_row0_col0\" class=\"data row0 col0\" >y_0</td>\n",
       "      <td id=\"T_24dde_row0_col1\" class=\"data row0 col1\" >0.4884</td>\n",
       "    </tr>\n",
       "    <tr>\n",
       "      <td id=\"T_24dde_row1_col0\" class=\"data row1 col0\" >y_1</td>\n",
       "      <td id=\"T_24dde_row1_col1\" class=\"data row1 col1\" >0.7967</td>\n",
       "    </tr>\n",
       "    <tr>\n",
       "      <td id=\"T_24dde_row2_col0\" class=\"data row2 col0\" >y_2</td>\n",
       "      <td id=\"T_24dde_row2_col1\" class=\"data row2 col1\" >0.1926</td>\n",
       "    </tr>\n",
       "  </tbody>\n",
       "</table>\n",
       " </div><div> <p style='font-size: 1.3rem;'>contr matrix (B)</p> <style type=\"text/css\">\n",
       "</style>\n",
       "<table id=\"T_1d43f\">\n",
       "  <thead>\n",
       "    <tr>\n",
       "      <th id=\"T_1d43f_level0_col0\" class=\"col_heading level0 col0\" >state</th>\n",
       "      <th id=\"T_1d43f_level0_col1\" class=\"col_heading level0 col1\" >c_0</th>\n",
       "      <th id=\"T_1d43f_level0_col2\" class=\"col_heading level0 col2\" >c_1</th>\n",
       "      <th id=\"T_1d43f_level0_col3\" class=\"col_heading level0 col3\" >c_2</th>\n",
       "      <th id=\"T_1d43f_level0_col4\" class=\"col_heading level0 col4\" >c_3</th>\n",
       "      <th id=\"T_1d43f_level0_col5\" class=\"col_heading level0 col5\" >c_4</th>\n",
       "      <th id=\"T_1d43f_level0_col6\" class=\"col_heading level0 col6\" >c_5</th>\n",
       "    </tr>\n",
       "  </thead>\n",
       "  <tbody>\n",
       "    <tr>\n",
       "      <td id=\"T_1d43f_row0_col0\" class=\"data row0 col0\" >x_0</td>\n",
       "      <td id=\"T_1d43f_row0_col1\" class=\"data row0 col1\" >0.3175</td>\n",
       "      <td id=\"T_1d43f_row0_col2\" class=\"data row0 col2\" >0.1518</td>\n",
       "      <td id=\"T_1d43f_row0_col3\" class=\"data row0 col3\" >0.9008</td>\n",
       "      <td id=\"T_1d43f_row0_col4\" class=\"data row0 col4\" >0.5866</td>\n",
       "      <td id=\"T_1d43f_row0_col5\" class=\"data row0 col5\" >0.6492</td>\n",
       "      <td id=\"T_1d43f_row0_col6\" class=\"data row0 col6\" >0.8186</td>\n",
       "    </tr>\n",
       "    <tr>\n",
       "      <td id=\"T_1d43f_row1_col0\" class=\"data row1 col0\" >x_1</td>\n",
       "      <td id=\"T_1d43f_row1_col1\" class=\"data row1 col1\" >0.9876</td>\n",
       "      <td id=\"T_1d43f_row1_col2\" class=\"data row1 col2\" >0.2021</td>\n",
       "      <td id=\"T_1d43f_row1_col3\" class=\"data row1 col3\" >0.2210</td>\n",
       "      <td id=\"T_1d43f_row1_col4\" class=\"data row1 col4\" >0.3510</td>\n",
       "      <td id=\"T_1d43f_row1_col5\" class=\"data row1 col5\" >0.0602</td>\n",
       "      <td id=\"T_1d43f_row1_col6\" class=\"data row1 col6\" >0.2807</td>\n",
       "    </tr>\n",
       "    <tr>\n",
       "      <td id=\"T_1d43f_row2_col0\" class=\"data row2 col0\" >x_2</td>\n",
       "      <td id=\"T_1d43f_row2_col1\" class=\"data row2 col1\" >0.5818</td>\n",
       "      <td id=\"T_1d43f_row2_col2\" class=\"data row2 col2\" >0.9470</td>\n",
       "      <td id=\"T_1d43f_row2_col3\" class=\"data row2 col3\" >0.1274</td>\n",
       "      <td id=\"T_1d43f_row2_col4\" class=\"data row2 col4\" >0.8603</td>\n",
       "      <td id=\"T_1d43f_row2_col5\" class=\"data row2 col5\" >0.9713</td>\n",
       "      <td id=\"T_1d43f_row2_col6\" class=\"data row2 col6\" >0.8441</td>\n",
       "    </tr>\n",
       "  </tbody>\n",
       "</table>\n",
       " </div><div> <p style='font-size: 1.3rem;'>init state mean</p> <style type=\"text/css\">\n",
       "</style>\n",
       "<table id=\"T_301d2\">\n",
       "  <thead>\n",
       "    <tr>\n",
       "      <th id=\"T_301d2_level0_col0\" class=\"col_heading level0 col0\" >state</th>\n",
       "      <th id=\"T_301d2_level0_col1\" class=\"col_heading level0 col1\" >mean</th>\n",
       "    </tr>\n",
       "  </thead>\n",
       "  <tbody>\n",
       "    <tr>\n",
       "      <td id=\"T_301d2_row0_col0\" class=\"data row0 col0\" >x_0</td>\n",
       "      <td id=\"T_301d2_row0_col1\" class=\"data row0 col1\" >0.6314</td>\n",
       "    </tr>\n",
       "    <tr>\n",
       "      <td id=\"T_301d2_row1_col0\" class=\"data row1 col0\" >x_1</td>\n",
       "      <td id=\"T_301d2_row1_col1\" class=\"data row1 col1\" >0.9924</td>\n",
       "    </tr>\n",
       "    <tr>\n",
       "      <td id=\"T_301d2_row2_col0\" class=\"data row2 col0\" >x_2</td>\n",
       "      <td id=\"T_301d2_row2_col1\" class=\"data row2 col1\" >0.3158</td>\n",
       "    </tr>\n",
       "  </tbody>\n",
       "</table>\n",
       " </div><div> <p style='font-size: 1.3rem;'>init state cov</p> <style type=\"text/css\">\n",
       "</style>\n",
       "<table id=\"T_1deba\">\n",
       "  <thead>\n",
       "    <tr>\n",
       "      <th id=\"T_1deba_level0_col0\" class=\"col_heading level0 col0\" >state</th>\n",
       "      <th id=\"T_1deba_level0_col1\" class=\"col_heading level0 col1\" >x_0</th>\n",
       "      <th id=\"T_1deba_level0_col2\" class=\"col_heading level0 col2\" >x_1</th>\n",
       "      <th id=\"T_1deba_level0_col3\" class=\"col_heading level0 col3\" >x_2</th>\n",
       "    </tr>\n",
       "  </thead>\n",
       "  <tbody>\n",
       "    <tr>\n",
       "      <td id=\"T_1deba_row0_col0\" class=\"data row0 col0\" >x_0</td>\n",
       "      <td id=\"T_1deba_row0_col1\" class=\"data row0 col1\" >0.5125</td>\n",
       "      <td id=\"T_1deba_row0_col2\" class=\"data row0 col2\" >0.2180</td>\n",
       "      <td id=\"T_1deba_row0_col3\" class=\"data row0 col3\" >0.3987</td>\n",
       "    </tr>\n",
       "    <tr>\n",
       "      <td id=\"T_1deba_row1_col0\" class=\"data row1 col0\" >x_1</td>\n",
       "      <td id=\"T_1deba_row1_col1\" class=\"data row1 col1\" >0.2180</td>\n",
       "      <td id=\"T_1deba_row1_col2\" class=\"data row1 col2\" >0.5781</td>\n",
       "      <td id=\"T_1deba_row1_col3\" class=\"data row1 col3\" >0.3081</td>\n",
       "    </tr>\n",
       "    <tr>\n",
       "      <td id=\"T_1deba_row2_col0\" class=\"data row2 col0\" >x_2</td>\n",
       "      <td id=\"T_1deba_row2_col1\" class=\"data row2 col1\" >0.3987</td>\n",
       "      <td id=\"T_1deba_row2_col2\" class=\"data row2 col2\" >0.3081</td>\n",
       "      <td id=\"T_1deba_row2_col3\" class=\"data row2 col3\" >0.3524</td>\n",
       "    </tr>\n",
       "  </tbody>\n",
       "</table>\n",
       " </div></div>"
      ],
      "text/plain": [
       "Kalman Filter\n",
       "        N dim obs: 3, N dim state: 3, N dim contr: 6"
      ]
     },
     "execution_count": null,
     "metadata": {},
     "output_type": "execute_result"
    }
   ],
   "source": [
    "model"
   ]
  },
  {
   "cell_type": "code",
   "execution_count": null,
   "id": "cbbc44e6-3b50-4972-80b0-b3ff7b8e44b4",
   "metadata": {},
   "outputs": [],
   "source": [
    "model._predict_filter(*dls.one_batch()[0]);"
   ]
  },
  {
   "cell_type": "code",
   "execution_count": null,
   "id": "737a9f2a-ce54-42a3-8490-acb988138ed4",
   "metadata": {},
   "outputs": [],
   "source": [
    "#| export\n",
    "@patch\n",
    "def forward(self: KalmanFilter, meteo_data: MeteoImpTensor):\n",
    "    data, mask, control = meteo_data\n",
    "    assert not data.isnan().any()\n",
    "    use_smooth = self.use_smooth if hasattr(self, 'use_smooth') else True\n",
    "    \n",
    "    mean, std = (self.predict(obs=data, mask=mask, control=control, smooth=True) if use_smooth\n",
    "                        else self._predict_filter(data, mask, control))\n",
    "    return NormalsParams(mean, std) # to have fastai working this needs to be a tuple subclass"
   ]
  },
  {
   "cell_type": "code",
   "execution_count": null,
   "id": "f7ebde2f-19aa-4860-b665-b13865111506",
   "metadata": {},
   "outputs": [],
   "source": [
    "input = dls.one_batch()[0]\n",
    "target = dls.one_batch()[1]"
   ]
  },
  {
   "cell_type": "code",
   "execution_count": null,
   "id": "2d34397d-7720-4127-83d1-f5137c94af46",
   "metadata": {},
   "outputs": [
    {
     "data": {
      "text/plain": [
       "OrderedDict([('trans_matrix',\n",
       "              tensor([[0.9391, 0.5536, 0.3457],\n",
       "                      [0.0279, 0.0230, 0.3678],\n",
       "                      [0.7279, 0.2933, 0.8148]])),\n",
       "             ('trans_off', tensor([0.9163, 0.3011, 0.8537])),\n",
       "             ('trans_cov_raw',\n",
       "              tensor([[ 0.5302,  0.0000,  0.0000],\n",
       "                      [ 0.7541,  0.8282,  0.0000],\n",
       "                      [ 0.9023, -0.0484,  0.0508]])),\n",
       "             ('contr_matrix',\n",
       "              tensor([[0.3175, 0.1518, 0.9008, 0.5866, 0.6492, 0.8186],\n",
       "                      [0.9876, 0.2021, 0.2210, 0.3510, 0.0602, 0.2807],\n",
       "                      [0.5818, 0.9470, 0.1274, 0.8603, 0.9713, 0.8441]])),\n",
       "             ('obs_matrix',\n",
       "              tensor([[0.5088, 0.5328, 0.4943],\n",
       "                      [0.8335, 0.3526, 0.5773],\n",
       "                      [0.7732, 0.5858, 0.7828]])),\n",
       "             ('obs_off', tensor([0.4884, 0.7967, 0.1926])),\n",
       "             ('obs_cov_raw', tensor([ 0.6856, -0.5957, -0.1639])),\n",
       "             ('init_state_mean', tensor([0.6314, 0.9924, 0.3158])),\n",
       "             ('init_state_cov_raw',\n",
       "              tensor([[0.7159, 0.0000, 0.0000],\n",
       "                      [0.3045, 0.6967, 0.0000],\n",
       "                      [0.5570, 0.1988, 0.0507]]))])"
      ]
     },
     "execution_count": null,
     "metadata": {},
     "output_type": "execute_result"
    }
   ],
   "source": [
    "model.state_dict()"
   ]
  },
  {
   "cell_type": "code",
   "execution_count": null,
   "id": "5696c62a-e455-4d86-9f10-e00ea93671ac",
   "metadata": {},
   "outputs": [
    {
     "data": {
      "text/plain": [
       "torch.Size([200, 3])"
      ]
     },
     "execution_count": null,
     "metadata": {},
     "output_type": "execute_result"
    }
   ],
   "source": [
    "data = input[0][0]\n",
    "data.shape"
   ]
  },
  {
   "cell_type": "code",
   "execution_count": null,
   "id": "9d1bdfc9-2fa3-4627-94d8-0a9dda444203",
   "metadata": {},
   "outputs": [],
   "source": [
    "mask = input[1][0]\n",
    "control = input[2][0]"
   ]
  },
  {
   "cell_type": "code",
   "execution_count": null,
   "id": "ec17c709-bfaa-4a0e-a45d-c067671a809c",
   "metadata": {},
   "outputs": [
    {
     "data": {
      "text/plain": [
       "torch.Size([200, 3])"
      ]
     },
     "execution_count": null,
     "metadata": {},
     "output_type": "execute_result"
    }
   ],
   "source": [
    "mask.shape"
   ]
  },
  {
   "cell_type": "code",
   "execution_count": null,
   "id": "26934279-9c81-447b-8506-01b5abd7b72a",
   "metadata": {},
   "outputs": [
    {
     "data": {
      "text/plain": [
       "device(type='cpu')"
      ]
     },
     "execution_count": null,
     "metadata": {},
     "output_type": "execute_result"
    }
   ],
   "source": [
    "data.device"
   ]
  },
  {
   "cell_type": "code",
   "execution_count": null,
   "id": "83e3bbd9-8e03-440a-b13b-8b6aba7ba341",
   "metadata": {},
   "outputs": [
    {
     "data": {
      "text/plain": [
       "torch.device"
      ]
     },
     "execution_count": null,
     "metadata": {},
     "output_type": "execute_result"
    }
   ],
   "source": [
    "torch.device"
   ]
  },
  {
   "cell_type": "code",
   "execution_count": null,
   "id": "3b6b1ed8-048a-4755-8201-57eec8654cdb",
   "metadata": {},
   "outputs": [
    {
     "data": {
      "text/plain": [
       "(torch.Size([200, 3]), torch.Size([200, 3]))"
      ]
     },
     "execution_count": null,
     "metadata": {},
     "output_type": "execute_result"
    }
   ],
   "source": [
    "data.shape, mask.shape"
   ]
  },
  {
   "cell_type": "code",
   "execution_count": null,
   "id": "d3ba1aa7-ef52-4a85-b0c4-3763d621eb70",
   "metadata": {},
   "outputs": [],
   "source": [
    "model.predict(data.unsqueeze(0), mask.unsqueeze(0), control.unsqueeze(0));"
   ]
  },
  {
   "cell_type": "code",
   "execution_count": null,
   "id": "9ef72fbc-cdef-4146-b294-8fd261c0e2c4",
   "metadata": {},
   "outputs": [],
   "source": [
    "model.use_smooth = True"
   ]
  },
  {
   "cell_type": "code",
   "execution_count": null,
   "id": "5d690cd5-44a1-45d6-9abb-ef4fb0a62314",
   "metadata": {},
   "outputs": [],
   "source": [
    "pred = model(input)"
   ]
  },
  {
   "cell_type": "code",
   "execution_count": null,
   "id": "a7bc7df7-effd-41b0-bb90-6beaa874d1e1",
   "metadata": {},
   "outputs": [
    {
     "data": {
      "text/plain": [
       "torch.Size([10, 200, 3])"
      ]
     },
     "execution_count": null,
     "metadata": {},
     "output_type": "execute_result"
    }
   ],
   "source": [
    "pred[0].shape"
   ]
  },
  {
   "cell_type": "code",
   "execution_count": null,
   "id": "ed03f415-567f-47ab-b019-b7291cee03f0",
   "metadata": {},
   "outputs": [
    {
     "data": {
      "text/plain": [
       "torch.Size([10, 200, 3])"
      ]
     },
     "execution_count": null,
     "metadata": {},
     "output_type": "execute_result"
    }
   ],
   "source": [
    "pred[1].shape"
   ]
  },
  {
   "cell_type": "code",
   "execution_count": null,
   "id": "856e7d79-e0ab-4562-aa6b-bbb68e3928d0",
   "metadata": {},
   "outputs": [],
   "source": [
    "model.use_smooth = False"
   ]
  },
  {
   "cell_type": "code",
   "execution_count": null,
   "id": "f804c6a9-34d6-48de-a5fe-c99142f5c7d5",
   "metadata": {},
   "outputs": [],
   "source": [
    "pred_filt = model(input)"
   ]
  },
  {
   "cell_type": "code",
   "execution_count": null,
   "id": "844f78fa-d55b-42c7-a46d-28831f712e94",
   "metadata": {},
   "outputs": [
    {
     "data": {
      "text/plain": [
       "torch.Size([10, 200, 3])"
      ]
     },
     "execution_count": null,
     "metadata": {},
     "output_type": "execute_result"
    }
   ],
   "source": [
    "pred_filt[1].shape"
   ]
  },
  {
   "cell_type": "code",
   "execution_count": null,
   "id": "5e89cd79-45ce-44dc-b5e1-f46e120e9a13",
   "metadata": {},
   "outputs": [
    {
     "data": {
      "text/plain": [
       "__main__.NormalsParams(mean=tensor([[[ 0.3249,  0.4697, -0.1391],\n",
       "         [ 0.0231,  0.0908, -0.6021],\n",
       "         [ 0.0265,  0.0099, -0.6490],\n",
       "         ...,\n",
       "         [-0.0043, -0.1163, -0.7340],\n",
       "         [-0.0843, -0.2228, -0.8548],\n",
       "         [-0.4630, -0.6666, -1.3973]],\n",
       "\n",
       "        [[ 0.4212,  0.6046,  0.0070],\n",
       "         [ 0.0280, -0.0066, -0.6318],\n",
       "         [ 0.0461, -0.1489, -0.6970],\n",
       "         ...,\n",
       "         [-0.0694, -0.1465, -0.8111],\n",
       "         [-0.1329, -0.2338, -0.9071],\n",
       "         [-0.4436, -0.6076, -1.3563]],\n",
       "\n",
       "        [[ 0.0859,  0.1939, -0.4723],\n",
       "         [-0.2130, -0.0935, -0.8249],\n",
       "         [-0.2642, -0.2619, -0.9357],\n",
       "         ...,\n",
       "         [-0.2027, -0.0544, -0.6508],\n",
       "         [-0.2126, -0.0274, -0.6418],\n",
       "         [ 0.1704,  0.4451, -0.0817]],\n",
       "\n",
       "        ...,\n",
       "\n",
       "        [[ 0.0218,  0.0923, -0.5755],\n",
       "         [-0.1604,  0.2918, -0.5938],\n",
       "         [-0.0506,  0.3431, -0.4598],\n",
       "         ...,\n",
       "         [-0.1931,  0.3689, -0.6427],\n",
       "         [-0.1841,  0.3185, -0.6819],\n",
       "         [ 0.0042,  0.4687, -0.4743]],\n",
       "\n",
       "        [[ 0.6641,  0.9093,  0.3578],\n",
       "         [ 0.1358,  0.1074, -0.4800],\n",
       "         [ 0.1649, -0.0824, -0.5598],\n",
       "         ...,\n",
       "         [ 0.0453, -0.1215, -0.6980],\n",
       "         [-0.0656, -0.2426, -0.8519],\n",
       "         [-0.6035, -0.8522, -1.6064]],\n",
       "\n",
       "        [[ 0.0635,  0.1445, -0.5154],\n",
       "         [ 0.1277,  0.2798, -0.4279],\n",
       "         [ 0.1831,  0.3509, -0.3454],\n",
       "         ...,\n",
       "         [-0.2567, -0.1996, -1.0112],\n",
       "         [-0.2687, -0.2375, -1.0375],\n",
       "         [-0.3850, -0.4024, -1.2162]]], grad_fn=<SqueezeBackward1>), std=tensor([[[1.4564, 0.8509, 1.0457],\n",
       "         [1.4647, 0.8531, 1.0595],\n",
       "         [1.4649, 0.8532, 1.0601],\n",
       "         ...,\n",
       "         [1.4649, 0.8533, 1.0602],\n",
       "         [1.4654, 0.8542, 1.0614],\n",
       "         [1.4776, 0.8813, 1.0946]],\n",
       "\n",
       "        [[1.4564, 0.8509, 1.0457],\n",
       "         [1.4647, 0.8531, 1.0595],\n",
       "         [1.4649, 0.8532, 1.0601],\n",
       "         ...,\n",
       "         [1.4649, 0.8533, 1.0602],\n",
       "         [1.4654, 0.8542, 1.0614],\n",
       "         [1.4776, 0.8813, 1.0946]],\n",
       "\n",
       "        [[1.4564, 0.8509, 1.0457],\n",
       "         [1.4647, 0.8531, 1.0595],\n",
       "         [1.4649, 0.8532, 1.0601],\n",
       "         ...,\n",
       "         [1.4649, 0.8533, 1.0602],\n",
       "         [1.4654, 0.8542, 1.0614],\n",
       "         [1.4776, 0.8813, 1.0946]],\n",
       "\n",
       "        ...,\n",
       "\n",
       "        [[1.4564, 0.8509, 1.0457],\n",
       "         [1.4647, 0.8531, 1.0595],\n",
       "         [1.4649, 0.8532, 1.0601],\n",
       "         ...,\n",
       "         [1.4649, 0.8533, 1.0602],\n",
       "         [1.4654, 0.8542, 1.0614],\n",
       "         [1.4776, 0.8813, 1.0946]],\n",
       "\n",
       "        [[1.4564, 0.8509, 1.0457],\n",
       "         [1.4647, 0.8531, 1.0595],\n",
       "         [1.4649, 0.8532, 1.0601],\n",
       "         ...,\n",
       "         [1.4649, 0.8533, 1.0602],\n",
       "         [1.4654, 0.8542, 1.0614],\n",
       "         [1.4776, 0.8813, 1.0946]],\n",
       "\n",
       "        [[1.4577, 0.8541, 1.0494],\n",
       "         [1.4968, 0.9225, 1.1450],\n",
       "         [1.4973, 0.9318, 1.1492],\n",
       "         ...,\n",
       "         [1.4649, 0.8533, 1.0602],\n",
       "         [1.4654, 0.8542, 1.0614],\n",
       "         [1.4776, 0.8813, 1.0946]]], grad_fn=<SqrtBackward0>))"
      ]
     },
     "execution_count": null,
     "metadata": {},
     "output_type": "execute_result"
    }
   ],
   "source": [
    "pred"
   ]
  },
  {
   "cell_type": "code",
   "execution_count": null,
   "id": "85d82759-dae4-4d48-a213-150c8fa3d8f2",
   "metadata": {},
   "outputs": [
    {
     "data": {
      "text/plain": [
       "(__main__.NormalsParams, __main__.NormalsParams)"
      ]
     },
     "execution_count": null,
     "metadata": {},
     "output_type": "execute_result"
    }
   ],
   "source": [
    "type(pred), type(pred_filt)"
   ]
  },
  {
   "cell_type": "code",
   "execution_count": null,
   "id": "65bab279-dc65-4259-bd1f-39b5c6028cb8",
   "metadata": {},
   "outputs": [],
   "source": [
    "test_ne(pred, pred_filt)"
   ]
  },
  {
   "cell_type": "markdown",
   "id": "2051bf57-a2e3-4232-861b-fafe814b1825",
   "metadata": {},
   "source": [
    "### Loss Function"
   ]
  },
  {
   "cell_type": "markdown",
   "id": "6e75817f-2abb-4e9f-b54a-edb7ea33dc1b",
   "metadata": {},
   "source": [
    "add support for complete loss (also outside gap) and for filter loss (don't run the smooher)"
   ]
  },
  {
   "cell_type": "markdown",
   "id": "c793e684-8ce9-4393-af4d-0268f3710b7a",
   "metadata": {},
   "source": [
    "There are two ways to compute the loss, one is to do it for all predictions the other is for doing it for only the gap\n",
    "- only_gap"
   ]
  },
  {
   "cell_type": "markdown",
   "id": "2b04cee3-9086-41cb-ac08-6b908626c587",
   "metadata": {},
   "source": [
    "Play around with flatting + diagonal"
   ]
  },
  {
   "cell_type": "code",
   "execution_count": null,
   "id": "559fc5e0-3554-4efa-89a7-08a6dd44f310",
   "metadata": {},
   "outputs": [
    {
     "data": {
      "text/plain": [
       "tensor([[[ 1,  0,  0],\n",
       "         [ 0,  2,  0],\n",
       "         [ 0,  0,  3]],\n",
       "\n",
       "        [[10,  0,  0],\n",
       "         [ 0, 20,  0],\n",
       "         [ 0,  0, 30]]])"
      ]
     },
     "execution_count": null,
     "metadata": {},
     "output_type": "execute_result"
    }
   ],
   "source": [
    "a = torch.diag(torch.tensor([1,2,3]))\n",
    "d = torch.stack([a, a*10])\n",
    "m = torch.stack([a.diag(), a.diag()*10])\n",
    "d"
   ]
  },
  {
   "cell_type": "code",
   "execution_count": null,
   "id": "773c90fa-3672-43a5-b7bf-2de9b068ebe3",
   "metadata": {},
   "outputs": [
    {
     "data": {
      "text/plain": [
       "tensor([ 1,  2,  3, 10, 20, 30])"
      ]
     },
     "execution_count": null,
     "metadata": {},
     "output_type": "execute_result"
    }
   ],
   "source": [
    "m.flatten()"
   ]
  },
  {
   "cell_type": "code",
   "execution_count": null,
   "id": "c5851886-313c-4eac-87a4-4684ff9c438f",
   "metadata": {},
   "outputs": [
    {
     "data": {
      "text/plain": [
       "tensor([[[ 1,  0,  0],\n",
       "         [ 0,  2,  0],\n",
       "         [ 0,  0,  3]],\n",
       "\n",
       "        [[10,  0,  0],\n",
       "         [ 0, 20,  0],\n",
       "         [ 0,  0, 30]]])"
      ]
     },
     "execution_count": null,
     "metadata": {},
     "output_type": "execute_result"
    }
   ],
   "source": [
    "d"
   ]
  },
  {
   "cell_type": "code",
   "execution_count": null,
   "id": "72af60ed-b471-47f3-90be-2be51eb18bb0",
   "metadata": {},
   "outputs": [
    {
     "data": {
      "text/plain": [
       "tensor([ 1,  2,  3, 10, 20, 30])"
      ]
     },
     "execution_count": null,
     "metadata": {},
     "output_type": "execute_result"
    }
   ],
   "source": [
    "torch.diagonal(d, dim1=1, dim2=2).flatten()"
   ]
  },
  {
   "cell_type": "code",
   "execution_count": null,
   "id": "09c58fef-a8d8-48b1-a837-335a67158ed4",
   "metadata": {},
   "outputs": [],
   "source": [
    "means, stds = pred\n",
    "data, mask, contr = target"
   ]
  },
  {
   "cell_type": "code",
   "execution_count": null,
   "id": "5a6bd159-499d-42b3-a8b2-9e54c98a8659",
   "metadata": {},
   "outputs": [
    {
     "data": {
      "text/plain": [
       "tensor(-5609.0015, grad_fn=<SubBackward0>)"
      ]
     },
     "execution_count": null,
     "metadata": {},
     "output_type": "execute_result"
    }
   ],
   "source": [
    "# make a big matrix with all variables and observations and compute ll\n",
    "mask = mask.flatten() \n",
    "obs = data.flatten()[mask]\n",
    "means = data.flatten()[mask]\n",
    "stds = stds.flatten()[mask] # need to support batches\n",
    "\n",
    "MultivariateNormal(means, torch.diag(stds)).log_prob(obs)"
   ]
  },
  {
   "cell_type": "code",
   "execution_count": null,
   "id": "28c38f87-5a72-42bd-847f-fb1e76ec7490",
   "metadata": {},
   "outputs": [],
   "source": [
    "#| export\n",
    "class KalmanLoss():\n",
    "    def __init__(self,\n",
    "                 only_gap:bool=True, # loss for all predictions or only gap\n",
    "                 reduction:str='mean' # one of ['sum', 'mean', 'none']\n",
    "                ):\n",
    "        store_attr()\n",
    "    \n",
    "    def __call__(self, pred: NormalsParams, target: MeteoImpTensor):\n",
    "        data, mask, contr = target\n",
    "        means, stds = pred        \n",
    "        assert not stds.isnan().any()\n",
    "        losses = torch.empty(data.shape[0], device=data.device, dtype=data.dtype)\n",
    "        for i, (d, m, mean, std) in enumerate(zip(data, mask, means, stds)):\n",
    "            losses[i] = self._loss_batch(d,m,mean, std)\n",
    "        if self.reduction == 'none': return losses\n",
    "        elif self.reduction == 'mean': return losses.mean()\n",
    "        elif self.reduction == 'sum': return losses.sum()\n",
    "    \n",
    "    def _loss_batch(self, data, mask, mean, std):\n",
    "        # make a big vector with all variables and observations and compute ll\n",
    "        mask = ~mask.flatten() if self.only_gap else torch.fill(mask, True).flatten()\n",
    "        obs = data.flatten()[mask]\n",
    "        mean = mean.flatten()[mask]\n",
    "        std = std.flatten()[mask] \n",
    "        \n",
    "        return - MultivariateNormal(mean, torch.diag(std)).log_prob(obs)\n",
    "        "
   ]
  },
  {
   "cell_type": "code",
   "execution_count": null,
   "id": "c8654b5f-bb61-416d-966c-3f798249eee6",
   "metadata": {},
   "outputs": [],
   "source": [
    "pred = model(input)"
   ]
  },
  {
   "cell_type": "code",
   "execution_count": null,
   "id": "42ef4ee6-3337-415e-9497-2c1acce5be35",
   "metadata": {},
   "outputs": [],
   "source": [
    "data, mask, contr = input"
   ]
  },
  {
   "cell_type": "code",
   "execution_count": null,
   "id": "7c8039ba-8807-47cb-9d7c-0ea119d01527",
   "metadata": {},
   "outputs": [
    {
     "data": {
      "text/plain": [
       "(torch.Size([10, 200, 3]), torch.Size([10, 200, 3]))"
      ]
     },
     "execution_count": null,
     "metadata": {},
     "output_type": "execute_result"
    }
   ],
   "source": [
    "data.shape, mask.shape"
   ]
  },
  {
   "cell_type": "code",
   "execution_count": null,
   "id": "17310899-b8a2-4cc5-bec8-4f7695eb2fd8",
   "metadata": {},
   "outputs": [
    {
     "data": {
      "text/plain": [
       "torch.Size([10, 200, 3])"
      ]
     },
     "execution_count": null,
     "metadata": {},
     "output_type": "execute_result"
    }
   ],
   "source": [
    "pred.mean.shape"
   ]
  },
  {
   "cell_type": "code",
   "execution_count": null,
   "id": "62e1cfdd-e80b-4ddc-9313-fd357c7ba7e2",
   "metadata": {},
   "outputs": [],
   "source": [
    "means, stds = pred"
   ]
  },
  {
   "cell_type": "code",
   "execution_count": null,
   "id": "3dcc340f-387f-4767-9ad5-10c40425e0b0",
   "metadata": {},
   "outputs": [
    {
     "data": {
      "text/plain": [
       "torch.Size([10, 200, 3])"
      ]
     },
     "execution_count": null,
     "metadata": {},
     "output_type": "execute_result"
    }
   ],
   "source": [
    "stds.shape"
   ]
  },
  {
   "cell_type": "code",
   "execution_count": null,
   "id": "43d3532f-a95e-437a-b90e-11ebb4bb2406",
   "metadata": {},
   "outputs": [
    {
     "data": {
      "text/plain": [
       "torch.Size([10, 200, 3])"
      ]
     },
     "execution_count": null,
     "metadata": {},
     "output_type": "execute_result"
    }
   ],
   "source": [
    "means.shape"
   ]
  },
  {
   "cell_type": "code",
   "execution_count": null,
   "id": "b41d785a-ba19-461e-b64d-cc7e12153cb6",
   "metadata": {},
   "outputs": [
    {
     "data": {
      "text/plain": [
       "tensor(False)"
      ]
     },
     "execution_count": null,
     "metadata": {},
     "output_type": "execute_result"
    }
   ],
   "source": [
    "data.isnan().any()"
   ]
  },
  {
   "cell_type": "code",
   "execution_count": null,
   "id": "08aa8d54-0c7a-47c0-8970-ecd4999ffd1e",
   "metadata": {},
   "outputs": [
    {
     "data": {
      "text/plain": [
       "tensor(False)"
      ]
     },
     "execution_count": null,
     "metadata": {},
     "output_type": "execute_result"
    }
   ],
   "source": [
    "mask.isnan().any()"
   ]
  },
  {
   "cell_type": "code",
   "execution_count": null,
   "id": "38b07b67-9543-4800-b566-949c542422bf",
   "metadata": {},
   "outputs": [
    {
     "data": {
      "text/plain": [
       "tensor(False)"
      ]
     },
     "execution_count": null,
     "metadata": {},
     "output_type": "execute_result"
    }
   ],
   "source": [
    "means.isnan().any()"
   ]
  },
  {
   "cell_type": "code",
   "execution_count": null,
   "id": "b473b2be-4392-4cb2-9575-1a7a057cdc1e",
   "metadata": {},
   "outputs": [
    {
     "data": {
      "text/plain": [
       "tensor(0)"
      ]
     },
     "execution_count": null,
     "metadata": {},
     "output_type": "execute_result"
    }
   ],
   "source": [
    "stds.isnan().sum()"
   ]
  },
  {
   "cell_type": "code",
   "execution_count": null,
   "id": "cb6d9dfc-1bb4-4c23-a291-d73cf9aefdfd",
   "metadata": {},
   "outputs": [
    {
     "data": {
      "text/plain": [
       "torch.Size([10, 200, 3])"
      ]
     },
     "execution_count": null,
     "metadata": {},
     "output_type": "execute_result"
    }
   ],
   "source": [
    "stds.shape"
   ]
  },
  {
   "cell_type": "code",
   "execution_count": null,
   "id": "51ea7a4b-b7b5-4182-abed-b5542cdaff48",
   "metadata": {},
   "outputs": [
    {
     "data": {
      "text/plain": [
       "(tensor(True),\n",
       " tensor([1.3168, 1.3168, 1.3168,  ..., 2.2295, 2.2295, 2.2295],\n",
       "        grad_fn=<LinalgEighBackward0>))"
      ]
     },
     "execution_count": null,
     "metadata": {},
     "output_type": "execute_result"
    }
   ],
   "source": [
    "is_posdef_eigv(torch.diag(stds.flatten()))"
   ]
  },
  {
   "cell_type": "code",
   "execution_count": null,
   "id": "72fa95ce-9fc1-4b61-855d-a27eb5ba4994",
   "metadata": {},
   "outputs": [
    {
     "data": {
      "text/plain": [
       "tensor(219.4481, grad_fn=<MeanBackward0>)"
      ]
     },
     "execution_count": null,
     "metadata": {},
     "output_type": "execute_result"
    }
   ],
   "source": [
    "KalmanLoss(only_gap=True)(pred, target)"
   ]
  },
  {
   "cell_type": "code",
   "execution_count": null,
   "id": "83f8aae6-eb06-4772-a611-d62af0395ef3",
   "metadata": {},
   "outputs": [
    {
     "data": {
      "text/plain": [
       "tensor(8661.9629, grad_fn=<MeanBackward0>)"
      ]
     },
     "execution_count": null,
     "metadata": {},
     "output_type": "execute_result"
    }
   ],
   "source": [
    "KalmanLoss(only_gap=False)(pred, target)"
   ]
  },
  {
   "cell_type": "code",
   "execution_count": null,
   "id": "c6fa6718-c26b-48a0-bb7d-efedb0f40086",
   "metadata": {},
   "outputs": [
    {
     "data": {
      "text/plain": [
       "(device(type='cpu'), device(type='cpu'))"
      ]
     },
     "execution_count": null,
     "metadata": {},
     "output_type": "execute_result"
    }
   ],
   "source": [
    "pred.mean.device, target[0].device"
   ]
  },
  {
   "cell_type": "code",
   "execution_count": null,
   "id": "0004c085-0e0c-4914-b3fc-ed66a319d1a8",
   "metadata": {},
   "outputs": [
    {
     "data": {
      "text/plain": [
       "(torch.Size([10, 200, 3]), torch.Size([10, 200, 3]))"
      ]
     },
     "execution_count": null,
     "metadata": {},
     "output_type": "execute_result"
    }
   ],
   "source": [
    "pred.mean.shape, target[0].shape"
   ]
  },
  {
   "cell_type": "code",
   "execution_count": null,
   "id": "7a5c8b20-50f2-4a5a-b291-69e91f466480",
   "metadata": {},
   "outputs": [
    {
     "data": {
      "text/plain": [
       "torch.Size([10, 200, 3])"
      ]
     },
     "execution_count": null,
     "metadata": {},
     "output_type": "execute_result"
    }
   ],
   "source": [
    "target[0].shape"
   ]
  },
  {
   "cell_type": "code",
   "execution_count": null,
   "id": "b4ae234a-f1de-401b-9197-ffe5952d6ff0",
   "metadata": {},
   "outputs": [
    {
     "data": {
      "text/plain": [
       "tensor(8661.9629, grad_fn=<MeanBackward0>)"
      ]
     },
     "execution_count": null,
     "metadata": {},
     "output_type": "execute_result"
    }
   ],
   "source": [
    "KalmanLoss(only_gap=False, reduction='mean')(pred, target)"
   ]
  },
  {
   "cell_type": "markdown",
   "id": "dbc02d69-7930-47b8-9543-d07998f3baa6",
   "metadata": {},
   "source": [
    "### Metrics"
   ]
  },
  {
   "cell_type": "code",
   "execution_count": null,
   "id": "ecb56cca-0278-4882-85d6-ce4ea1758aa4",
   "metadata": {},
   "outputs": [],
   "source": [
    "#| export\n",
    "from sklearn.metrics import r2_score, mean_squared_error"
   ]
  },
  {
   "cell_type": "code",
   "execution_count": null,
   "id": "48c59f82-5aa9-48b7-9222-1e656dd81701",
   "metadata": {},
   "outputs": [],
   "source": [
    "pred0, targ = target[0][0].detach().cpu(), pred[0][0].detach().cpu() "
   ]
  },
  {
   "cell_type": "code",
   "execution_count": null,
   "id": "e9761278-d151-42c8-9bdb-e2c2c63069c0",
   "metadata": {},
   "outputs": [
    {
     "data": {
      "text/plain": [
       "(torch.Size([200, 3]), torch.Size([200, 3]))"
      ]
     },
     "execution_count": null,
     "metadata": {},
     "output_type": "execute_result"
    }
   ],
   "source": [
    "pred0.shape, targ.shape"
   ]
  },
  {
   "cell_type": "markdown",
   "id": "e09871de-8a2a-408e-b6fc-8a6c5214642b",
   "metadata": {},
   "source": [
    "The shape of the input is very important for the r2score, which cannot be batched and requires a needs to keep the multidimensional input"
   ]
  },
  {
   "cell_type": "markdown",
   "id": "9541db7f-eff5-4a59-b4c9-d243215870bf",
   "metadata": {},
   "source": [
    "$$ R^2(y, \\hat{y}) = 1 - \\frac{\\sum_{i=1}^{n} (y_i - \\hat{y}_i)^2}{\\sum_{i=1}^{n} (y_i - \\bar{y})^2} $$"
   ]
  },
  {
   "cell_type": "code",
   "execution_count": null,
   "id": "08ac0606-5a5d-4124-a310-e9040d96189c",
   "metadata": {},
   "outputs": [
    {
     "data": {
      "text/plain": [
       "-93.36332061202921"
      ]
     },
     "execution_count": null,
     "metadata": {},
     "output_type": "execute_result"
    }
   ],
   "source": [
    "r2_score(pred0, targ)"
   ]
  },
  {
   "cell_type": "code",
   "execution_count": null,
   "id": "a59a18e0-7f58-4d04-a682-43502f2d6f6c",
   "metadata": {},
   "outputs": [
    {
     "data": {
      "text/plain": [
       "array([ -36.84502807,  -17.2818086 , -225.96312517])"
      ]
     },
     "execution_count": null,
     "metadata": {},
     "output_type": "execute_result"
    }
   ],
   "source": [
    "r2_score(pred0, targ, multioutput=\"raw_values\")"
   ]
  },
  {
   "cell_type": "code",
   "execution_count": null,
   "id": "baee4bb3-5a6d-48dd-b954-4ded0673fee5",
   "metadata": {},
   "outputs": [
    {
     "data": {
      "text/plain": [
       "-31.402016952486704"
      ]
     },
     "execution_count": null,
     "metadata": {},
     "output_type": "execute_result"
    }
   ],
   "source": [
    "r2_score(pred0.flatten(), targ.flatten())"
   ]
  },
  {
   "cell_type": "markdown",
   "id": "4b4c5bb8-f144-4147-91bc-0e3ea661aac7",
   "metadata": {},
   "source": [
    "While for the `rmse` is okay to batch and flatten input. The only difference is how the mean is computed, which is a minor difference"
   ]
  },
  {
   "cell_type": "code",
   "execution_count": null,
   "id": "41819d28-6f3d-4850-97ac-d1ea6ff7c27e",
   "metadata": {},
   "outputs": [
    {
     "data": {
      "text/plain": [
       "4.073789"
      ]
     },
     "execution_count": null,
     "metadata": {},
     "output_type": "execute_result"
    }
   ],
   "source": [
    "mean_squared_error(pred0, targ)"
   ]
  },
  {
   "cell_type": "code",
   "execution_count": null,
   "id": "390f64f9-3b2c-4709-9440-933fd7878a81",
   "metadata": {},
   "outputs": [
    {
     "data": {
      "text/plain": [
       "4.073788"
      ]
     },
     "execution_count": null,
     "metadata": {},
     "output_type": "execute_result"
    }
   ],
   "source": [
    "mean_squared_error(pred0.flatten(), targ.flatten())"
   ]
  },
  {
   "cell_type": "markdown",
   "id": "6b485cfe-5fce-449b-810c-1884990f103b",
   "metadata": {},
   "source": [
    "Wrapper around fastai metrics to support masked tensors and normal distributions"
   ]
  },
  {
   "cell_type": "code",
   "execution_count": null,
   "id": "6e28f7a2-436a-4e7a-9e76-0ae778015e95",
   "metadata": {},
   "outputs": [],
   "source": [
    "#| export\n",
    "from fastai.metrics import *"
   ]
  },
  {
   "cell_type": "markdown",
   "id": "9cb98720-0cd6-4f8d-84fb-69ffb5639b14",
   "metadata": {},
   "source": [
    "The problem is that fastai metrics by default flatten everything ... so need to reimplement them"
   ]
  },
  {
   "cell_type": "code",
   "execution_count": null,
   "id": "ad179e7a-674e-4476-aec9-9ec4076999c3",
   "metadata": {},
   "outputs": [],
   "source": [
    "myr2 = skm_to_fastai(r2_score, flatten=False)"
   ]
  },
  {
   "cell_type": "code",
   "execution_count": null,
   "id": "b07424ce-d750-46e0-a479-a1ae8419eb44",
   "metadata": {},
   "outputs": [
    {
     "data": {
      "text/plain": [
       "-93.36332061202921"
      ]
     },
     "execution_count": null,
     "metadata": {},
     "output_type": "execute_result"
    }
   ],
   "source": [
    "myr2(pred[0][0], target[0][0])"
   ]
  },
  {
   "cell_type": "markdown",
   "id": "2e064d37-69f3-44c2-b06a-5f372ddc8596",
   "metadata": {},
   "source": [
    "but the mask is still flattening the data ...."
   ]
  },
  {
   "cell_type": "code",
   "execution_count": null,
   "id": "872976b7-d566-4d15-8723-2da96afbf6a0",
   "metadata": {},
   "outputs": [
    {
     "data": {
      "text/plain": [
       "torch.Size([200, 3])"
      ]
     },
     "execution_count": null,
     "metadata": {},
     "output_type": "execute_result"
    }
   ],
   "source": [
    "m = target[1][0]\n",
    "m.shape"
   ]
  },
  {
   "cell_type": "markdown",
   "id": "657a657c-4dfc-477b-9418-d35bbb7355fa",
   "metadata": {},
   "source": [
    "need to get the mask as a matrix and not as a vector, so drop columns and rows that are all true and then check the resulting mask is all False"
   ]
  },
  {
   "cell_type": "code",
   "execution_count": null,
   "id": "157aed50-3721-4981-ae13-b9136e2f783a",
   "metadata": {},
   "outputs": [
    {
     "data": {
      "text/plain": [
       "tensor([[False, False],\n",
       "        [False, False],\n",
       "        [False, False],\n",
       "        [False, False],\n",
       "        [False, False],\n",
       "        [False, False],\n",
       "        [False, False],\n",
       "        [False, False],\n",
       "        [False, False],\n",
       "        [False, False]])"
      ]
     },
     "execution_count": null,
     "metadata": {},
     "output_type": "execute_result"
    }
   ],
   "source": [
    "mask_sub = m[:, ~m.all(0)][~m.all(1),:]\n",
    "mask_sub"
   ]
  },
  {
   "cell_type": "code",
   "execution_count": null,
   "id": "937fbd11-1ff7-4178-8349-e019c69f55d9",
   "metadata": {},
   "outputs": [
    {
     "data": {
      "text/plain": [
       "tensor(True)"
      ]
     },
     "execution_count": null,
     "metadata": {},
     "output_type": "execute_result"
    }
   ],
   "source": [
    "~mask_sub.any()"
   ]
  },
  {
   "cell_type": "code",
   "execution_count": null,
   "id": "631b14a5-59da-4129-bc27-8df3ff112d0b",
   "metadata": {},
   "outputs": [
    {
     "data": {
      "text/plain": [
       "tensor([[False,  True],\n",
       "        [False, False],\n",
       "        [False, False],\n",
       "        [False, False],\n",
       "        [False, False],\n",
       "        [False, False],\n",
       "        [False, False],\n",
       "        [False, False],\n",
       "        [False, False],\n",
       "        [False, False],\n",
       "        [False, False]])"
      ]
     },
     "execution_count": null,
     "metadata": {},
     "output_type": "execute_result"
    }
   ],
   "source": [
    "m2 = m.clone()\n",
    "m2[0,0] = False\n",
    "m2[:, ~m2.all(0)][~m2.all(1),:]"
   ]
  },
  {
   "cell_type": "code",
   "execution_count": null,
   "id": "dad52498-03b4-4aac-a8d6-bf7dc6f1cab1",
   "metadata": {},
   "outputs": [],
   "source": [
    "#| export\n",
    "class ImpMetric:\n",
    "    def __init__(self, metric, name, only_gap=False, flatten=False):\n",
    "        store_attr()\n",
    "    @property\n",
    "    def __name__(self): return  self.name + (\"_gap\" if self.only_gap else \"\")\n",
    "    def _metric_batch(self, pred, targ):\n",
    "        return self.metric(pred, targ)\n",
    "    def _metric_batch_gap(self, pred, targ, mask):\n",
    "        row_sel, col_sel = ~mask.all(1), ~mask.all(0)\n",
    "        assert not mask[:, col_sel][row_sel, :].any() # all data is missing in mask\n",
    "        return self.metric(pred[:, col_sel][row_sel, :], targ[:, col_sel][row_sel, :])\n",
    "    def __call__(self, pred: NormalsParams, targ: MeteoImpTensor):\n",
    "        mean, _ = pred\n",
    "        data, mask, _ = targ\n",
    "        metric_values = torch.empty(mean.shape[0])\n",
    "        for i in range(metric_values.shape[0]):\n",
    "            metric_values[i] = (self._metric_batch_gap(mean[i], data[i], mask[i]) if self.only_gap\n",
    "            else self._metric_batch(mean[i], data[i]))\n",
    "        return metric_values.mean().item()\n",
    "    "
   ]
  },
  {
   "cell_type": "code",
   "execution_count": null,
   "id": "2cf5ca04-9708-44ba-b030-b6a00618717b",
   "metadata": {},
   "outputs": [],
   "source": [
    "#| export\n",
    "rmse_mask = ImpMetric(rmse, 'rmse')\n",
    "rmse_gap = ImpMetric(rmse, 'rmse', only_gap=True)"
   ]
  },
  {
   "cell_type": "code",
   "execution_count": null,
   "id": "03400da3-5edb-4503-bd71-45bc5f374645",
   "metadata": {},
   "outputs": [
    {
     "data": {
      "text/plain": [
       "('rmse', 'rmse')"
      ]
     },
     "execution_count": null,
     "metadata": {},
     "output_type": "execute_result"
    }
   ],
   "source": [
    "rmse_mask.name, rmse_gap.name"
   ]
  },
  {
   "cell_type": "code",
   "execution_count": null,
   "id": "c9625669-a704-4e74-94c6-9d4b2034f91b",
   "metadata": {},
   "outputs": [
    {
     "data": {
      "text/plain": [
       "6.056613445281982"
      ]
     },
     "execution_count": null,
     "metadata": {},
     "output_type": "execute_result"
    }
   ],
   "source": [
    "rmse_mask(pred, target)"
   ]
  },
  {
   "cell_type": "code",
   "execution_count": null,
   "id": "855b68f5-41a7-4fe9-baa1-1996242883b3",
   "metadata": {},
   "outputs": [
    {
     "data": {
      "text/plain": [
       "5.064552307128906"
      ]
     },
     "execution_count": null,
     "metadata": {},
     "output_type": "execute_result"
    }
   ],
   "source": [
    "rmse_gap(pred, target)"
   ]
  },
  {
   "cell_type": "code",
   "execution_count": null,
   "id": "5a00fcc0-9561-4000-8ea5-71423671d4e4",
   "metadata": {},
   "outputs": [],
   "source": [
    "#| export\n",
    "multi_r2 = skm_to_fastai(r2_score, flatten=False)\n",
    "r2_mask = ImpMetric(multi_r2, 'r2')\n",
    "r2_gap = ImpMetric(multi_r2, 'r2', only_gap=True)"
   ]
  },
  {
   "cell_type": "code",
   "execution_count": null,
   "id": "00ce801a-1a26-4c54-9d9b-e642b884539e",
   "metadata": {},
   "outputs": [
    {
     "data": {
      "text/plain": [
       "('r2', 'r2')"
      ]
     },
     "execution_count": null,
     "metadata": {},
     "output_type": "execute_result"
    }
   ],
   "source": [
    "r2_mask.name, r2_gap.name"
   ]
  },
  {
   "cell_type": "code",
   "execution_count": null,
   "id": "17d103a8-9d3e-4e5f-b109-a3bc233da651",
   "metadata": {},
   "outputs": [
    {
     "data": {
      "text/plain": [
       "(-477.294921875, -17360.36328125)"
      ]
     },
     "execution_count": null,
     "metadata": {},
     "output_type": "execute_result"
    }
   ],
   "source": [
    "r2_mask(pred, target), r2_gap(pred, target)"
   ]
  },
  {
   "cell_type": "code",
   "execution_count": null,
   "id": "c86c0fb8-e80f-4140-8d0b-68bdd66ab144",
   "metadata": {},
   "outputs": [],
   "source": [
    "#| export\n",
    "imp_metrics =  [rmse_mask, rmse_gap, r2_mask, r2_gap]"
   ]
  },
  {
   "cell_type": "markdown",
   "id": "73470c88-47dc-4187-a208-789f24c23a3e",
   "metadata": {},
   "source": [
    "### Callback"
   ]
  },
  {
   "cell_type": "markdown",
   "id": "96c199ec-b21c-401d-bd3c-16670de8e372",
   "metadata": {},
   "source": [
    "save the model state "
   ]
  },
  {
   "cell_type": "code",
   "execution_count": null,
   "id": "c9f34e5c-1cf5-4c04-b7e0-89e2e33b9aa1",
   "metadata": {},
   "outputs": [],
   "source": [
    "#| export\n",
    "from fastai.callback.all import *"
   ]
  },
  {
   "cell_type": "code",
   "execution_count": null,
   "id": "c6bbe197-91eb-4fb2-ae15-f2d463914902",
   "metadata": {},
   "outputs": [],
   "source": [
    "#| export\n",
    "class SaveParams(Callback):\n",
    "    def __init__(self, param_name):\n",
    "        super().__init__()\n",
    "        self.params = []\n",
    "        self.param_name = param_name\n",
    "    def after_batch(self):\n",
    "        param = getattr(self.model, self.param_name).detach()\n",
    "        self.params.append(param)"
   ]
  },
  {
   "cell_type": "code",
   "execution_count": null,
   "id": "206b2efc-a26e-4ed7-b9a8-df1ce7a605b4",
   "metadata": {},
   "outputs": [],
   "source": [
    "#| export\n",
    "class SaveParams(Callback):\n",
    "    def __init__(self, param_name):\n",
    "        super().__init__()\n",
    "        self.params = []\n",
    "        self.param_name = param_name\n",
    "    def after_batch(self):\n",
    "        param = getattr(self.model, self.param_name).detach()\n",
    "        self.params.append(param)"
   ]
  },
  {
   "cell_type": "code",
   "execution_count": null,
   "id": "c2d2eb9e-eea2-40eb-918a-e8575cb20323",
   "metadata": {},
   "outputs": [],
   "source": [
    "debug_preds = []"
   ]
  },
  {
   "cell_type": "code",
   "execution_count": null,
   "id": "26d2f05f-fd23-4393-b5e8-f9800cc36f78",
   "metadata": {},
   "outputs": [],
   "source": [
    "class DebugPredCallback(Callback):\n",
    "    order = 0\n",
    "    def after_validate(self):\n",
    "        if hasattr(self, 'gather_preds'):\n",
    "            debug_preds.append(self.gather_preds.preds)"
   ]
  },
  {
   "cell_type": "markdown",
   "id": "99617495-ab91-4a00-8371-91011ba551ba",
   "metadata": {},
   "source": [
    "### Learner"
   ]
  },
  {
   "cell_type": "code",
   "execution_count": null,
   "id": "87ad92d0-4b9a-4f10-817d-c213366fe83a",
   "metadata": {},
   "outputs": [],
   "source": [
    "#| export\n",
    "from fastai.learner import * \n",
    "\n",
    "from fastai.tabular.all import *\n",
    "\n",
    "from fastai.tabular.learner import *\n",
    "\n",
    "from fastai.callback.progress import ShowGraphCallback"
   ]
  },
  {
   "cell_type": "code",
   "execution_count": null,
   "id": "8bb68031-bc19-4c2f-b82b-201939013bbc",
   "metadata": {},
   "outputs": [],
   "source": [
    "obs_cov_history = SaveParams('obs_cov')"
   ]
  },
  {
   "cell_type": "code",
   "execution_count": null,
   "id": "fdb75dd6-f0af-4c50-bc80-2436b28b4db3",
   "metadata": {},
   "outputs": [],
   "source": [
    "all_data = CollectDataCallback()"
   ]
  },
  {
   "cell_type": "code",
   "execution_count": null,
   "id": "25efc678-791b-4599-87d3-820ace3f7263",
   "metadata": {},
   "outputs": [],
   "source": [
    "model = KalmanFilter.init_random(n_dim_obs = hai.shape[1], n_dim_state = hai.shape[1], n_dim_contr = hai_era.shape[-1]*control_repeat).cuda()"
   ]
  },
  {
   "cell_type": "code",
   "execution_count": null,
   "id": "cb235adb-78de-430e-8eb4-c279347e4045",
   "metadata": {},
   "outputs": [],
   "source": [
    "# model._set_constraint('obs_cov', model.obs_cov, train=False)"
   ]
  },
  {
   "cell_type": "code",
   "execution_count": null,
   "id": "2cfc46b8-3ffd-4080-92ad-ad52e3d4a9e9",
   "metadata": {},
   "outputs": [],
   "source": [
    "pipeline, block_ids = imp_pipeline(hai[:20000], hai_era, var_sel, gap_len, block_len, control_lags)\n",
    "    \n",
    "splits = RandomSplitter()(block_ids)\n",
    "ds = Datasets(block_ids, [pipeline, pipeline], splits=splits)"
   ]
  },
  {
   "cell_type": "code",
   "execution_count": null,
   "id": "84eb6fff-dbce-4d24-a796-558e03f9e306",
   "metadata": {},
   "outputs": [],
   "source": [
    "dls = ds.dataloaders(bs=10, device='cuda')"
   ]
  },
  {
   "cell_type": "code",
   "execution_count": null,
   "id": "db0f5e59-de01-4c9c-acc0-becfe69866a2",
   "metadata": {},
   "outputs": [
    {
     "data": {
      "text/plain": [
       "device(type='cuda', index=0)"
      ]
     },
     "execution_count": null,
     "metadata": {},
     "output_type": "execute_result"
    }
   ],
   "source": [
    "dls.one_batch()[0][0].device"
   ]
  },
  {
   "cell_type": "code",
   "execution_count": null,
   "id": "5b218c03-1a48-43a2-8822-7f6ee03cf7be",
   "metadata": {},
   "outputs": [],
   "source": [
    "input, target = dls.one_batch()"
   ]
  },
  {
   "cell_type": "code",
   "execution_count": null,
   "id": "e780d5ce-a904-4fc6-a60b-6ab6e28dc05e",
   "metadata": {},
   "outputs": [
    {
     "data": {
      "text/plain": [
       "tensor(16.0409, device='cuda:0', grad_fn=<MeanBackward0>)"
      ]
     },
     "execution_count": null,
     "metadata": {},
     "output_type": "execute_result"
    }
   ],
   "source": [
    "pred = model(input)\n",
    "KalmanLoss()(pred, target)"
   ]
  },
  {
   "cell_type": "code",
   "execution_count": null,
   "id": "c508264f-ca12-4f8f-93cc-9245fa84e7d9",
   "metadata": {},
   "outputs": [],
   "source": [
    "learn = Learner(dls, model, loss_func=KalmanLoss(only_gap=False), cbs = [DebugPredCallback] , metrics = imp_metrics)"
   ]
  },
  {
   "cell_type": "code",
   "execution_count": null,
   "id": "eef1826f-78e6-4654-a92f-dca07b2ddb7e",
   "metadata": {},
   "outputs": [
    {
     "data": {
      "text/html": [
       "\n",
       "<style>\n",
       "    /* Turns off some styling */\n",
       "    progress {\n",
       "        /* gets rid of default border in Firefox and Opera. */\n",
       "        border: none;\n",
       "        /* Needs to be in here for Safari polyfill so background images work as expected. */\n",
       "        background-size: auto;\n",
       "    }\n",
       "    progress:not([value]), progress:not([value])::-webkit-progress-bar {\n",
       "        background: repeating-linear-gradient(45deg, #7e7e7e, #7e7e7e 10px, #5c5c5c 10px, #5c5c5c 20px);\n",
       "    }\n",
       "    .progress-bar-interrupted, .progress-bar-interrupted::-webkit-progress-bar {\n",
       "        background: #F44336;\n",
       "    }\n",
       "</style>\n"
      ],
      "text/plain": [
       "<IPython.core.display.HTML object>"
      ]
     },
     "metadata": {},
     "output_type": "display_data"
    },
    {
     "data": {
      "text/html": [
       "<table border=\"1\" class=\"dataframe\">\n",
       "  <thead>\n",
       "    <tr style=\"text-align: left;\">\n",
       "      <th>epoch</th>\n",
       "      <th>train_loss</th>\n",
       "      <th>valid_loss</th>\n",
       "      <th>rmse</th>\n",
       "      <th>rmse_gap</th>\n",
       "      <th>r2</th>\n",
       "      <th>r2_gap</th>\n",
       "      <th>time</th>\n",
       "    </tr>\n",
       "  </thead>\n",
       "  <tbody>\n",
       "    <tr>\n",
       "      <td>0</td>\n",
       "      <td>140.460220</td>\n",
       "      <td>108.523933</td>\n",
       "      <td>2.750638</td>\n",
       "      <td>1.575208</td>\n",
       "      <td>-3614121718453.017578</td>\n",
       "      <td>-148706.575726</td>\n",
       "      <td>00:18</td>\n",
       "    </tr>\n",
       "  </tbody>\n",
       "</table>"
      ],
      "text/plain": [
       "<IPython.core.display.HTML object>"
      ]
     },
     "metadata": {},
     "output_type": "display_data"
    }
   ],
   "source": [
    "learn.fit(1, 1e-3)"
   ]
  },
  {
   "cell_type": "markdown",
   "id": "84002608-9491-4335-86fb-d40d3946f2ae",
   "metadata": {},
   "source": [
    "#### Float64"
   ]
  },
  {
   "cell_type": "code",
   "execution_count": null,
   "id": "69191be7-ac68-4616-8e4b-460fb786769f",
   "metadata": {},
   "outputs": [],
   "source": [
    "model64 = KalmanFilter.init_random(hai.shape[1], hai.shape[1], n_dim_contr = hai_era.shape[-1]*control_repeat, dtype=torch.float64).cuda()"
   ]
  },
  {
   "cell_type": "code",
   "execution_count": null,
   "id": "5bfcc6cf-a46d-4e69-a570-47adb86251d9",
   "metadata": {},
   "outputs": [],
   "source": [
    "#| export\n",
    "class Float64Callback(Callback):\n",
    "    order = Recorder.order + 10 # run after Recorder \n",
    "    def before_fit(self):\n",
    "        self.recorder.smooth_loss.val = torch.tensor(0, dtype=torch.float64) # default is a float 32"
   ]
  },
  {
   "cell_type": "code",
   "execution_count": null,
   "id": "69e1f814-b1f8-48e1-a098-e37234d4b451",
   "metadata": {},
   "outputs": [],
   "source": [
    "dls64 = imp_dataloader(hai64[:20000], hai_era64, var_sel = var_sel, block_len = 10, gap_len = 2, control_lags = [1], bs=10)"
   ]
  },
  {
   "cell_type": "code",
   "execution_count": null,
   "id": "a0142fdc-5c85-45d1-a13f-b2f0839b0636",
   "metadata": {},
   "outputs": [],
   "source": [
    "input64 = dls64.one_batch()[0]\n",
    "target64 = dls64.one_batch()[1]"
   ]
  },
  {
   "cell_type": "code",
   "execution_count": null,
   "id": "06e93c8b-f74d-4382-8fb2-54d83aec5fcb",
   "metadata": {},
   "outputs": [],
   "source": [
    "data64, mask64, contr64 = input64"
   ]
  },
  {
   "cell_type": "code",
   "execution_count": null,
   "id": "1cc98d35-4a67-496d-acc7-a9bd5d884a52",
   "metadata": {},
   "outputs": [
    {
     "data": {
      "text/plain": [
       "(torch.float64, torch.float64, torch.float64, device(type='cuda', index=0))"
      ]
     },
     "execution_count": null,
     "metadata": {},
     "output_type": "execute_result"
    }
   ],
   "source": [
    "data64.dtype, data64.dtype, contr64.dtype, data64.device"
   ]
  },
  {
   "cell_type": "code",
   "execution_count": null,
   "id": "59d35c5d-ce51-476d-85ce-8502ae6d17e6",
   "metadata": {},
   "outputs": [],
   "source": [
    "model64.predict(data64, mask64, contr64);"
   ]
  },
  {
   "cell_type": "code",
   "execution_count": null,
   "id": "30e0a335-4e18-42a1-a847-baacdab94ee5",
   "metadata": {},
   "outputs": [],
   "source": [
    "pred = model64(input64)"
   ]
  },
  {
   "cell_type": "code",
   "execution_count": null,
   "id": "4931c465-98fa-4a47-bd1d-4abc91cd739f",
   "metadata": {},
   "outputs": [
    {
     "data": {
      "text/plain": [
       "tensor(8.9886, device='cuda:0', grad_fn=<MeanBackward0>)"
      ]
     },
     "execution_count": null,
     "metadata": {},
     "output_type": "execute_result"
    }
   ],
   "source": [
    "KalmanLoss()(pred, target)"
   ]
  },
  {
   "cell_type": "code",
   "execution_count": null,
   "id": "59fc2923-1419-4036-b05e-c73c34465bb6",
   "metadata": {},
   "outputs": [],
   "source": [
    "learn64 = Learner(dls64, model64, loss_func=KalmanLoss(), cbs = [Float64Callback] , metrics = imp_metrics)"
   ]
  },
  {
   "cell_type": "code",
   "execution_count": null,
   "id": "8f8f50e9-133a-4dfe-966d-2c5650fa416a",
   "metadata": {},
   "outputs": [
    {
     "data": {
      "text/html": [
       "\n",
       "<style>\n",
       "    /* Turns off some styling */\n",
       "    progress {\n",
       "        /* gets rid of default border in Firefox and Opera. */\n",
       "        border: none;\n",
       "        /* Needs to be in here for Safari polyfill so background images work as expected. */\n",
       "        background-size: auto;\n",
       "    }\n",
       "    progress:not([value]), progress:not([value])::-webkit-progress-bar {\n",
       "        background: repeating-linear-gradient(45deg, #7e7e7e, #7e7e7e 10px, #5c5c5c 10px, #5c5c5c 20px);\n",
       "    }\n",
       "    .progress-bar-interrupted, .progress-bar-interrupted::-webkit-progress-bar {\n",
       "        background: #F44336;\n",
       "    }\n",
       "</style>\n"
      ],
      "text/plain": [
       "<IPython.core.display.HTML object>"
      ]
     },
     "metadata": {},
     "output_type": "display_data"
    },
    {
     "data": {
      "text/html": [
       "<table border=\"1\" class=\"dataframe\">\n",
       "  <thead>\n",
       "    <tr style=\"text-align: left;\">\n",
       "      <th>epoch</th>\n",
       "      <th>train_loss</th>\n",
       "      <th>valid_loss</th>\n",
       "      <th>rmse</th>\n",
       "      <th>rmse_gap</th>\n",
       "      <th>r2</th>\n",
       "      <th>r2_gap</th>\n",
       "      <th>time</th>\n",
       "    </tr>\n",
       "  </thead>\n",
       "  <tbody>\n",
       "    <tr>\n",
       "      <td>0</td>\n",
       "      <td>14.136009</td>\n",
       "      <td>12.354730</td>\n",
       "      <td>2.556878</td>\n",
       "      <td>1.907995</td>\n",
       "      <td>-24781648082374533442234585448448.000000</td>\n",
       "      <td>-240477.342258</td>\n",
       "      <td>00:17</td>\n",
       "    </tr>\n",
       "  </tbody>\n",
       "</table>"
      ],
      "text/plain": [
       "<IPython.core.display.HTML object>"
      ]
     },
     "metadata": {},
     "output_type": "display_data"
    }
   ],
   "source": [
    "learn64.fit(1, 1e-3)"
   ]
  },
  {
   "cell_type": "markdown",
   "id": "748bb675-4e1a-4f1d-bf5b-b31bcf8d76e3",
   "metadata": {},
   "source": [
    "### Predictions"
   ]
  },
  {
   "cell_type": "markdown",
   "id": "6fd471c0-9266-4a63-bf13-e28742c3419c",
   "metadata": {},
   "source": [
    "The transformation pipeline is not working properly (there is a problem in `decode_batch` as the `_types` are more nested than the predictions, which results in an error) + the pipeline is anyway not reproducible + the test dataloaders seems that they are actually not deterministic .....\n",
    "soo reimplement everything almost from scratch\n",
    "\n",
    "see https://github.com/mone27/meteo_imp/blob/0335003405ec9bd3e3bd2641bc6d7924f34a0788/lib_nbs/kalman/10_fastai.ipynb for all details"
   ]
  },
  {
   "cell_type": "code",
   "execution_count": null,
   "id": "06b53296-e81d-463a-ab60-2150f99fc724",
   "metadata": {},
   "outputs": [],
   "source": [
    "#| export\n",
    "class NormalsDf:\n",
    "    \"\"\"DataFrames of Normal parameters (mean and std)\"\"\"\n",
    "    def __init__(self, mean, std): store_attr()\n",
    "    def tidy(self, prefix=\"\"):\n",
    "        \"\"\"Tidy version\"\"\"\n",
    "        mean = self.mean.reset_index().melt(\"time\", value_name=prefix + \"mean\")\n",
    "        std = self.std.reset_index().melt(\"time\", value_name=prefix + \"std\")\n",
    "        return pd.merge(mean, std, on=[\"time\", \"variable\"])\n",
    "    __repr__ = basic_repr(\"mean, std\")"
   ]
  },
  {
   "cell_type": "code",
   "execution_count": null,
   "id": "58fa359e-7abc-4605-81d6-c00a698f3307",
   "metadata": {},
   "outputs": [
    {
     "data": {
      "text/html": [
       "<div>\n",
       "  <p>\n",
       "    <strong>BlockIndexTransform</strong>\n",
       "  </p>\n",
       "  <p>(int,object) -&gt; encodes\n",
       "</p>\n",
       "  <p></p>\n",
       "</div>"
      ],
      "text/plain": [
       "BlockIndexTransform:\n",
       "encodes: (int,object) -> encodes\n",
       "decodes: "
      ]
     },
     "execution_count": null,
     "metadata": {},
     "output_type": "execute_result"
    }
   ],
   "source": [
    "tfms5.fs[0]"
   ]
  },
  {
   "cell_type": "code",
   "execution_count": null,
   "id": "a51638b1-2820-4642-a8ac-921a443b3558",
   "metadata": {},
   "outputs": [
    {
     "data": {
      "text/html": [
       "<div>\n",
       "  <span>TfmdLists. Items:</span>\n",
       "  <pre>[800, 801, 803]</pre>\n",
       "  <ol start=\"0\">\n",
       "    <li>\n",
       "      <div>\n",
       "        <p>\n",
       "          <strong>BlockIndexTransform</strong>\n",
       "        </p>\n",
       "        <p>(int,object) -&gt; encodes\n",
       "</p>\n",
       "        <p></p>\n",
       "      </div>\n",
       "    </li>\n",
       "    <li>\n",
       "      <div>\n",
       "        <p>\n",
       "          <strong>BlockDfTransform</strong>\n",
       "        </p>\n",
       "        <p>(DatetimeIndex,object) -&gt; encodes\n",
       "</p>\n",
       "        <p></p>\n",
       "      </div>\n",
       "    </li>\n",
       "    <li>\n",
       "      <div>\n",
       "        <p>\n",
       "          <strong>AddGapTransform</strong>\n",
       "        </p>\n",
       "        <p>(DataControl,object) -&gt; encodes\n",
       "</p>\n",
       "        <p></p>\n",
       "      </div>\n",
       "    </li>\n",
       "    <li>\n",
       "      <div>\n",
       "        <p>\n",
       "          <strong>MeteoImpDf2Tensor</strong>\n",
       "        </p>\n",
       "        <p>(MeteoImpDf,object) -&gt; encodes\n",
       "</p>\n",
       "        <p></p>\n",
       "      </div>\n",
       "    </li>\n",
       "    <li>\n",
       "      <div>\n",
       "        <p>\n",
       "          <strong>MeteoImpNormalize -- {'mean_data': tensor([  8.3339, 120.9578,   3.3807]), 'std_data': tensor([  7.9246, 204.0026,   4.3684]), 'mean_control': tensor([  8.1948, 120.6864,   3.3253,   8.1948, 120.6864,   3.3253]), 'std_control': tensor([  7.5459, 187.1730,   3.6871,   7.5459, 187.1730,   3.6871])}</strong>\n",
       "        </p>\n",
       "        <p>(MeteoImpTensor,object) -&gt; encodes\n",
       "</p>\n",
       "        <p>(MeteoImpTensor,object) -&gt; decodes\n",
       "(NormalsParams,object) -&gt; decodes\n",
       "</p>\n",
       "      </div>\n",
       "    </li>\n",
       "    <li>\n",
       "      <div>\n",
       "        <p>\n",
       "          <strong>ToTuple</strong>\n",
       "        </p>\n",
       "        <p>(object,object) -&gt; encodes\n",
       "</p>\n",
       "        <p>(object,object) -&gt; decodes\n",
       "</p>\n",
       "      </div>\n",
       "    </li>\n",
       "  </ol>\n",
       "</div>"
      ],
      "text/plain": [
       "TfmdLists: [800, 801, 803]\n",
       "tfms - [BlockIndexTransform:\n",
       "encodes: (int,object) -> encodes\n",
       "decodes: , BlockDfTransform:\n",
       "encodes: (DatetimeIndex,object) -> encodes\n",
       "decodes: , AddGapTransform:\n",
       "encodes: (DataControl,object) -> encodes\n",
       "decodes: , MeteoImpDf2Tensor:\n",
       "encodes: (MeteoImpDf,object) -> encodes\n",
       "decodes: , MeteoImpNormalize -- {'mean_data': tensor([  8.3339, 120.9578,   3.3807]), 'std_data': tensor([  7.9246, 204.0026,   4.3684]), 'mean_control': tensor([  8.1948, 120.6864,   3.3253,   8.1948, 120.6864,   3.3253]), 'std_control': tensor([  7.5459, 187.1730,   3.6871,   7.5459, 187.1730,   3.6871])}:\n",
       "encodes: (MeteoImpTensor,object) -> encodes\n",
       "decodes: (MeteoImpTensor,object) -> decodes\n",
       "(NormalsParams,object) -> decodes\n",
       ", ToTuple:\n",
       "encodes: (object,object) -> encodes\n",
       "decodes: (object,object) -> decodes\n",
       "]"
      ]
     },
     "execution_count": null,
     "metadata": {},
     "output_type": "execute_result"
    }
   ],
   "source": [
    "tfms5"
   ]
  },
  {
   "cell_type": "code",
   "execution_count": null,
   "id": "b4e97479-86d5-4198-932a-69c48568e6df",
   "metadata": {},
   "outputs": [
    {
     "data": {
      "text/plain": [
       "((#3) [BlockIndexTransform:\n",
       "encodes: (int,object) -> encodes\n",
       "decodes: ,BlockDfTransform:\n",
       "encodes: (DatetimeIndex,object) -> encodes\n",
       "decodes: ,AddGapTransform:\n",
       "encodes: (DataControl,object) -> encodes\n",
       "decodes: ],\n",
       " (#2) [MeteoImpDf2Tensor:\n",
       "encodes: (MeteoImpDf,object) -> encodes\n",
       "decodes: ,MeteoImpNormalize -- {'mean_data': tensor([  8.3339, 120.9578,   3.3807]), 'std_data': tensor([  7.9246, 204.0026,   4.3684]), 'mean_control': tensor([  8.1948, 120.6864,   3.3253,   8.1948, 120.6864,   3.3253]), 'std_control': tensor([  7.5459, 187.1730,   3.6871,   7.5459, 187.1730,   3.6871])}:\n",
       "encodes: (MeteoImpTensor,object) -> encodes\n",
       "decodes: (MeteoImpTensor,object) -> decodes\n",
       "(NormalsParams,object) -> decodes\n",
       "])"
      ]
     },
     "execution_count": null,
     "metadata": {},
     "output_type": "execute_result"
    }
   ],
   "source": [
    "pipe0, pipe1 = tfms5.fs[0,1,2], tfms5.fs[3,4] \n",
    "\n",
    "pipe0, pipe1"
   ]
  },
  {
   "cell_type": "code",
   "execution_count": null,
   "id": "43fc7416-d6a1-4376-8d2b-1948b525fee1",
   "metadata": {},
   "outputs": [],
   "source": [
    "#| export\n",
    "def preds2df(preds, targs):\n",
    "    \"\"\"Final step to decode preds by getting a dataframe\"\"\"\n",
    "    # preds this is a tuple (data, mask)\n",
    "    out = []\n",
    "    for pred, targ in zip(preds, targs):\n",
    "        # convert to dataframe using structure for\n",
    "        mean = pd.DataFrame(pred[0].squeeze(0).detach().cpu().numpy(), columns = targ.data.columns, index=targ.data.index)\n",
    "        std = pd.DataFrame(pred[1].squeeze(0).detach().cpu().numpy(), columns = targ.data.columns, index=targ.data.index)\n",
    "        out.append(NormalsDf(mean, std))\n",
    "    return out"
   ]
  },
  {
   "cell_type": "code",
   "execution_count": null,
   "id": "b45a64ab-60b0-4f48-8df8-6ee40055ba14",
   "metadata": {},
   "outputs": [],
   "source": [
    "#| export\n",
    "def predict_items(items, learn, pipe0, pipe1):\n",
    "    pipe0, pipe1 = Pipeline(pipe0), Pipeline(pipe1)\n",
    "    preds, targs, losses = [], [], []\n",
    "    for item in items:\n",
    "        targ = pipe0(item)\n",
    "        data, mask, control = pipe1(targ)\n",
    "        input = MeteoImpTensor(data.cuda().unsqueeze(0), mask.cuda().unsqueeze(0), control.cuda().unsqueeze(0))\n",
    "        pred = learn.model(input)\n",
    "        loss = learn.loss_func(pred, input)\n",
    "        # denormalize\n",
    "        pred = pipe1.decode(pred)\n",
    "        preds.append(pred), targs.append(targ), losses.append(loss)\n",
    "        \n",
    "    return preds2df(preds, targs), targs, losses\n",
    "        "
   ]
  },
  {
   "cell_type": "code",
   "execution_count": null,
   "id": "b69146c1-1df0-407f-8746-5997f297b687",
   "metadata": {},
   "outputs": [],
   "source": [
    "preds, targs, losses = predict_items([0,1,3], learn, pipe0, pipe1)"
   ]
  },
  {
   "cell_type": "code",
   "execution_count": null,
   "id": "0b1c488f-cec4-41c0-985b-08ef798eb689",
   "metadata": {},
   "outputs": [
    {
     "data": {
      "text/html": [
       "<div>\n",
       "<style scoped>\n",
       "    .dataframe tbody tr th:only-of-type {\n",
       "        vertical-align: middle;\n",
       "    }\n",
       "\n",
       "    .dataframe tbody tr th {\n",
       "        vertical-align: top;\n",
       "    }\n",
       "\n",
       "    .dataframe thead th {\n",
       "        text-align: right;\n",
       "    }\n",
       "</style>\n",
       "<table border=\"1\" class=\"dataframe\">\n",
       "  <thead>\n",
       "    <tr style=\"text-align: right;\">\n",
       "      <th></th>\n",
       "      <th>TA</th>\n",
       "      <th>SW_IN</th>\n",
       "      <th>VPD</th>\n",
       "    </tr>\n",
       "    <tr>\n",
       "      <th>time</th>\n",
       "      <th></th>\n",
       "      <th></th>\n",
       "      <th></th>\n",
       "    </tr>\n",
       "  </thead>\n",
       "  <tbody>\n",
       "    <tr>\n",
       "      <th>2000-01-01 01:00:00</th>\n",
       "      <td>True</td>\n",
       "      <td>True</td>\n",
       "      <td>True</td>\n",
       "    </tr>\n",
       "    <tr>\n",
       "      <th>2000-01-01 01:30:00</th>\n",
       "      <td>True</td>\n",
       "      <td>True</td>\n",
       "      <td>True</td>\n",
       "    </tr>\n",
       "    <tr>\n",
       "      <th>2000-01-01 02:00:00</th>\n",
       "      <td>True</td>\n",
       "      <td>True</td>\n",
       "      <td>True</td>\n",
       "    </tr>\n",
       "    <tr>\n",
       "      <th>2000-01-01 02:30:00</th>\n",
       "      <td>True</td>\n",
       "      <td>True</td>\n",
       "      <td>True</td>\n",
       "    </tr>\n",
       "    <tr>\n",
       "      <th>2000-01-01 03:00:00</th>\n",
       "      <td>True</td>\n",
       "      <td>True</td>\n",
       "      <td>True</td>\n",
       "    </tr>\n",
       "    <tr>\n",
       "      <th>2000-01-01 03:30:00</th>\n",
       "      <td>True</td>\n",
       "      <td>True</td>\n",
       "      <td>True</td>\n",
       "    </tr>\n",
       "    <tr>\n",
       "      <th>2000-01-01 04:00:00</th>\n",
       "      <td>True</td>\n",
       "      <td>True</td>\n",
       "      <td>True</td>\n",
       "    </tr>\n",
       "    <tr>\n",
       "      <th>2000-01-01 04:30:00</th>\n",
       "      <td>True</td>\n",
       "      <td>True</td>\n",
       "      <td>True</td>\n",
       "    </tr>\n",
       "    <tr>\n",
       "      <th>2000-01-01 05:00:00</th>\n",
       "      <td>True</td>\n",
       "      <td>True</td>\n",
       "      <td>True</td>\n",
       "    </tr>\n",
       "    <tr>\n",
       "      <th>2000-01-01 05:30:00</th>\n",
       "      <td>True</td>\n",
       "      <td>True</td>\n",
       "      <td>True</td>\n",
       "    </tr>\n",
       "  </tbody>\n",
       "</table>\n",
       "</div>"
      ],
      "text/plain": [
       "                       TA  SW_IN   VPD\n",
       "time                                  \n",
       "2000-01-01 01:00:00  True   True  True\n",
       "2000-01-01 01:30:00  True   True  True\n",
       "2000-01-01 02:00:00  True   True  True\n",
       "2000-01-01 02:30:00  True   True  True\n",
       "2000-01-01 03:00:00  True   True  True\n",
       "2000-01-01 03:30:00  True   True  True\n",
       "2000-01-01 04:00:00  True   True  True\n",
       "2000-01-01 04:30:00  True   True  True\n",
       "2000-01-01 05:00:00  True   True  True\n",
       "2000-01-01 05:30:00  True   True  True"
      ]
     },
     "execution_count": null,
     "metadata": {},
     "output_type": "execute_result"
    }
   ],
   "source": [
    "predict_items([0], learn, pipe0, pipe1)[1][0].data == predict_items([0], learn, pipe0, pipe1)[1][0].data"
   ]
  },
  {
   "cell_type": "markdown",
   "id": "9a1606c2-ee54-46be-8f57-dd5173134605",
   "metadata": {},
   "source": [
    "#### Plot results"
   ]
  },
  {
   "cell_type": "code",
   "execution_count": null,
   "id": "7799bf37-003f-419a-a410-6e7b1c25719c",
   "metadata": {},
   "outputs": [],
   "source": [
    "#| export\n",
    "def plot_result(pred, targ, loss, **kwargs):\n",
    "    df = pd.merge(targ.tidy(), pred.tidy(), on=[\"time\", \"variable\"])\n",
    "    # return df\n",
    "    return facet_variable(df, ys=[\"value\", \"mean\"], error=True, **kwargs).properties(title=f\"loss: {loss.item():.6f}\")"
   ]
  },
  {
   "cell_type": "code",
   "execution_count": null,
   "id": "7881fd41-e876-42a1-ba94-bfc1efd18700",
   "metadata": {},
   "outputs": [],
   "source": [
    "y = \"mean\""
   ]
  },
  {
   "cell_type": "code",
   "execution_count": null,
   "id": "f4bd8f4e-a59e-4b1a-8e30-1cb2f0fab6f6",
   "metadata": {},
   "outputs": [
    {
     "data": {
      "text/html": [
       "\n",
       "<div id=\"altair-viz-7b5d8eb11cd6495396ad1c9e200f2225\"></div>\n",
       "<script type=\"text/javascript\">\n",
       "  var VEGA_DEBUG = (typeof VEGA_DEBUG == \"undefined\") ? {} : VEGA_DEBUG;\n",
       "  (function(spec, embedOpt){\n",
       "    let outputDiv = document.currentScript.previousElementSibling;\n",
       "    if (outputDiv.id !== \"altair-viz-7b5d8eb11cd6495396ad1c9e200f2225\") {\n",
       "      outputDiv = document.getElementById(\"altair-viz-7b5d8eb11cd6495396ad1c9e200f2225\");\n",
       "    }\n",
       "    const paths = {\n",
       "      \"vega\": \"https://cdn.jsdelivr.net/npm//vega@5?noext\",\n",
       "      \"vega-lib\": \"https://cdn.jsdelivr.net/npm//vega-lib?noext\",\n",
       "      \"vega-lite\": \"https://cdn.jsdelivr.net/npm//vega-lite@5.2.0?noext\",\n",
       "      \"vega-embed\": \"https://cdn.jsdelivr.net/npm//vega-embed@6?noext\",\n",
       "    };\n",
       "\n",
       "    function maybeLoadScript(lib, version) {\n",
       "      var key = `${lib.replace(\"-\", \"\")}_version`;\n",
       "      return (VEGA_DEBUG[key] == version) ?\n",
       "        Promise.resolve(paths[lib]) :\n",
       "        new Promise(function(resolve, reject) {\n",
       "          var s = document.createElement('script');\n",
       "          document.getElementsByTagName(\"head\")[0].appendChild(s);\n",
       "          s.async = true;\n",
       "          s.onload = () => {\n",
       "            VEGA_DEBUG[key] = version;\n",
       "            return resolve(paths[lib]);\n",
       "          };\n",
       "          s.onerror = () => reject(`Error loading script: ${paths[lib]}`);\n",
       "          s.src = paths[lib];\n",
       "        });\n",
       "    }\n",
       "\n",
       "    function showError(err) {\n",
       "      outputDiv.innerHTML = `<div class=\"error\" style=\"color:red;\">${err}</div>`;\n",
       "      throw err;\n",
       "    }\n",
       "\n",
       "    function displayChart(vegaEmbed) {\n",
       "      vegaEmbed(outputDiv, spec, embedOpt)\n",
       "        .catch(err => showError(`Javascript Error: ${err.message}<br>This usually means there's a typo in your chart specification. See the javascript console for the full traceback.`));\n",
       "    }\n",
       "\n",
       "    if(typeof define === \"function\" && define.amd) {\n",
       "      requirejs.config({paths});\n",
       "      require([\"vega-embed\"], displayChart, err => showError(`Error loading script: ${err.message}`));\n",
       "    } else {\n",
       "      maybeLoadScript(\"vega\", \"5\")\n",
       "        .then(() => maybeLoadScript(\"vega-lite\", \"5.2.0\"))\n",
       "        .then(() => maybeLoadScript(\"vega-embed\", \"6\"))\n",
       "        .catch(showError)\n",
       "        .then(() => displayChart(vegaEmbed));\n",
       "    }\n",
       "  })({\"config\": {\"view\": {\"continuousWidth\": 400, \"continuousHeight\": 300}}, \"vconcat\": [{\"hconcat\": [{\"layer\": [{\"data\": {\"name\": \"data-c316e04a886575a60c2f6168c607d1b3\"}, \"mark\": {\"type\": \"point\", \"color\": \"black\", \"fillOpacity\": 1, \"strokeWidth\": 1}, \"encoding\": {\"fill\": {\"field\": \"is_present\", \"legend\": {\"title\": [\"Observed data\"]}, \"scale\": {\"range\": [\"black\", \"#ffffff00\"]}, \"type\": \"nominal\"}, \"shape\": {\"field\": \"is_present\", \"type\": \"nominal\"}, \"x\": {\"axis\": {\"domain\": true, \"labels\": true, \"ticks\": true, \"title\": \"time\"}, \"field\": \"time\", \"type\": \"temporal\"}, \"y\": {\"field\": \"value\", \"scale\": {\"zero\": false}, \"title\": \"TA\", \"type\": \"quantitative\"}}}, {\"layer\": [{\"mark\": \"rule\", \"encoding\": {\"x\": {\"axis\": {\"domain\": false, \"labels\": false, \"ticks\": false, \"title\": null}, \"field\": \"gap_start\", \"type\": \"temporal\"}}}, {\"mark\": \"rule\", \"encoding\": {\"x\": {\"axis\": {\"domain\": false, \"labels\": false, \"ticks\": false, \"title\": null}, \"field\": \"gap_end\", \"type\": \"temporal\"}}}, {\"mark\": {\"type\": \"rect\", \"color\": \"black\", \"opacity\": 0.2}, \"encoding\": {\"x\": {\"axis\": {\"domain\": false, \"labels\": false, \"ticks\": false, \"title\": null}, \"field\": \"gap_start\", \"type\": \"temporal\"}, \"x2\": {\"field\": \"gap_end\"}}}], \"data\": {\"name\": \"data-34eac91d2688565214968a36dc4c99e5\"}}, {\"layer\": [{\"mark\": \"errorband\", \"encoding\": {\"color\": {\"field\": \"variable\", \"legend\": {\"title\": [\"Line: pred. mean\", \"area: +/- 2 std\"]}, \"type\": \"nominal\"}, \"x\": {\"field\": \"time\", \"type\": \"temporal\"}, \"y\": {\"field\": \"err_low\", \"scale\": {\"zero\": false}, \"title\": \"TA\", \"type\": \"quantitative\"}, \"y2\": {\"field\": \"err_high\"}}, \"name\": \"view_12\"}, {\"mark\": \"line\", \"encoding\": {\"color\": {\"field\": \"variable\", \"type\": \"nominal\"}, \"x\": {\"field\": \"time\", \"type\": \"temporal\"}, \"y\": {\"field\": \"mean\", \"scale\": {\"zero\": false}, \"title\": \"TA\", \"type\": \"quantitative\"}}}], \"data\": {\"name\": \"data-c316e04a886575a60c2f6168c607d1b3\"}}], \"height\": 150, \"title\": \"TA\", \"width\": 200}, {\"layer\": [{\"data\": {\"name\": \"data-c3b2b97a1270338bc45c2afcc5144d59\"}, \"mark\": {\"type\": \"point\", \"color\": \"black\", \"fillOpacity\": 1, \"strokeWidth\": 1}, \"encoding\": {\"fill\": {\"field\": \"is_present\", \"legend\": {\"title\": [\"Observed data\"]}, \"scale\": {\"range\": [\"black\", \"#ffffff00\"]}, \"type\": \"nominal\"}, \"shape\": {\"field\": \"is_present\", \"type\": \"nominal\"}, \"x\": {\"axis\": {\"domain\": true, \"labels\": true, \"ticks\": true, \"title\": \"time\"}, \"field\": \"time\", \"type\": \"temporal\"}, \"y\": {\"field\": \"value\", \"scale\": {\"zero\": false}, \"title\": \"SW_IN\", \"type\": \"quantitative\"}}}, {\"layer\": [{\"mark\": \"rule\", \"encoding\": {\"x\": {\"axis\": {\"domain\": false, \"labels\": false, \"ticks\": false, \"title\": null}, \"field\": \"gap_start\", \"type\": \"temporal\"}}}, {\"mark\": \"rule\", \"encoding\": {\"x\": {\"axis\": {\"domain\": false, \"labels\": false, \"ticks\": false, \"title\": null}, \"field\": \"gap_end\", \"type\": \"temporal\"}}}, {\"mark\": {\"type\": \"rect\", \"color\": \"black\", \"opacity\": 0.2}, \"encoding\": {\"x\": {\"axis\": {\"domain\": false, \"labels\": false, \"ticks\": false, \"title\": null}, \"field\": \"gap_start\", \"type\": \"temporal\"}, \"x2\": {\"field\": \"gap_end\"}}}], \"data\": {\"name\": \"data-34eac91d2688565214968a36dc4c99e5\"}}, {\"layer\": [{\"mark\": \"errorband\", \"encoding\": {\"color\": {\"field\": \"variable\", \"legend\": {\"title\": [\"Line: pred. mean\", \"area: +/- 2 std\"]}, \"type\": \"nominal\"}, \"x\": {\"field\": \"time\", \"type\": \"temporal\"}, \"y\": {\"field\": \"err_low\", \"scale\": {\"zero\": false}, \"title\": \"SW_IN\", \"type\": \"quantitative\"}, \"y2\": {\"field\": \"err_high\"}}, \"name\": \"view_13\"}, {\"mark\": \"line\", \"encoding\": {\"color\": {\"field\": \"variable\", \"type\": \"nominal\"}, \"x\": {\"field\": \"time\", \"type\": \"temporal\"}, \"y\": {\"field\": \"mean\", \"scale\": {\"zero\": false}, \"title\": \"SW_IN\", \"type\": \"quantitative\"}}}], \"data\": {\"name\": \"data-c3b2b97a1270338bc45c2afcc5144d59\"}}], \"height\": 150, \"title\": \"SW_IN\", \"width\": 200}, {\"layer\": [{\"mark\": {\"type\": \"point\", \"color\": \"black\", \"fillOpacity\": 1, \"strokeWidth\": 1}, \"encoding\": {\"fill\": {\"field\": \"is_present\", \"legend\": {\"title\": [\"Observed data\"]}, \"scale\": {\"range\": [\"black\", \"#ffffff00\"]}, \"type\": \"nominal\"}, \"shape\": {\"field\": \"is_present\", \"type\": \"nominal\"}, \"x\": {\"axis\": {\"domain\": true, \"labels\": true, \"ticks\": true, \"title\": \"time\"}, \"field\": \"time\", \"type\": \"temporal\"}, \"y\": {\"field\": \"value\", \"scale\": {\"zero\": false}, \"title\": \"VPD\", \"type\": \"quantitative\"}}}, {\"layer\": [{\"mark\": \"errorband\", \"encoding\": {\"color\": {\"field\": \"variable\", \"legend\": {\"title\": [\"Line: pred. mean\", \"area: +/- 2 std\"]}, \"type\": \"nominal\"}, \"x\": {\"field\": \"time\", \"type\": \"temporal\"}, \"y\": {\"field\": \"err_low\", \"scale\": {\"zero\": false}, \"title\": \"VPD\", \"type\": \"quantitative\"}, \"y2\": {\"field\": \"err_high\"}}, \"name\": \"view_14\"}, {\"mark\": \"line\", \"encoding\": {\"color\": {\"field\": \"variable\", \"type\": \"nominal\"}, \"x\": {\"field\": \"time\", \"type\": \"temporal\"}, \"y\": {\"field\": \"mean\", \"scale\": {\"zero\": false}, \"title\": \"VPD\", \"type\": \"quantitative\"}}}]}], \"data\": {\"name\": \"data-fe035f45dfc943d1db474742e0c6f836\"}, \"height\": 150, \"title\": \"VPD\", \"width\": 200}]}], \"params\": [{\"name\": \"param_19\", \"select\": {\"type\": \"interval\", \"encodings\": [\"x\"]}, \"bind\": \"scales\", \"views\": [\"view_12\", \"view_13\", \"view_14\"]}], \"title\": \"loss: 1.000000\", \"$schema\": \"https://vega.github.io/schema/vega-lite/v5.2.0.json\", \"datasets\": {\"data-c316e04a886575a60c2f6168c607d1b3\": [{\"time\": \"2000-01-01T01:00:00\", \"variable\": \"TA\", \"value\": -0.6499999761581421, \"is_present\": true, \"mean\": 10.753302574157715, \"std\": 10.899338722229004, \"err_low\": -11.045374870300293, \"err_high\": 32.551979064941406}, {\"time\": \"2000-01-01T01:30:00\", \"variable\": \"TA\", \"value\": -0.5799999833106995, \"is_present\": true, \"mean\": -14.893173217773438, \"std\": 13.592729568481445, \"err_low\": -42.07863235473633, \"err_high\": 12.292285919189453}, {\"time\": \"2000-01-01T02:00:00\", \"variable\": \"TA\", \"value\": -0.5099999904632568, \"is_present\": true, \"mean\": -20.37444305419922, \"std\": 13.913605690002441, \"err_low\": -48.20165252685547, \"err_high\": 7.452768325805664}, {\"time\": \"2000-01-01T02:30:00\", \"variable\": \"TA\", \"value\": -0.49000000953674316, \"is_present\": true, \"mean\": -20.907899856567383, \"std\": 13.913154602050781, \"err_low\": -48.73420715332031, \"err_high\": 6.91840934753418}, {\"time\": \"2000-01-01T03:00:00\", \"variable\": \"TA\", \"value\": -0.4000000059604645, \"is_present\": false, \"mean\": -21.112707138061523, \"std\": 13.913232803344727, \"err_low\": -48.939170837402344, \"err_high\": 6.71375846862793}, {\"time\": \"2000-01-01T03:30:00\", \"variable\": \"TA\", \"value\": -0.36000001430511475, \"is_present\": false, \"mean\": -21.66693878173828, \"std\": 14.112079620361328, \"err_low\": -49.89109802246094, \"err_high\": 6.557220458984375}, {\"time\": \"2000-01-01T04:00:00\", \"variable\": \"TA\", \"value\": -0.3499999940395355, \"is_present\": true, \"mean\": -21.752660751342773, \"std\": 14.113028526306152, \"err_low\": -49.97871780395508, \"err_high\": 6.473396301269531}, {\"time\": \"2000-01-01T04:30:00\", \"variable\": \"TA\", \"value\": -0.2800000011920929, \"is_present\": true, \"mean\": -21.146535873413086, \"std\": 13.913485527038574, \"err_low\": -48.973506927490234, \"err_high\": 6.6804351806640625}, {\"time\": \"2000-01-01T05:00:00\", \"variable\": \"TA\", \"value\": -0.27000001072883606, \"is_present\": true, \"mean\": -21.066120147705078, \"std\": 13.913177490234375, \"err_low\": -48.89247512817383, \"err_high\": 6.760234832763672}, {\"time\": \"2000-01-01T05:30:00\", \"variable\": \"TA\", \"value\": -0.23000000417232513, \"is_present\": true, \"mean\": -20.957521438598633, \"std\": 13.91317081451416, \"err_low\": -48.78386306762695, \"err_high\": 6.8688201904296875}], \"data-34eac91d2688565214968a36dc4c99e5\": [{\"gap_start\": \"2000-01-01T03:00:00\", \"gap_end\": \"2000-01-01T03:30:00\"}], \"data-c3b2b97a1270338bc45c2afcc5144d59\": [{\"time\": \"2000-01-01T01:00:00\", \"variable\": \"SW_IN\", \"value\": 0.0, \"is_present\": true, \"mean\": 272.7411193847656, \"std\": 176.08224487304688, \"err_low\": -79.42337036132812, \"err_high\": 624.9056396484375}, {\"time\": \"2000-01-01T01:30:00\", \"variable\": \"SW_IN\", \"value\": 0.0, \"is_present\": true, \"mean\": 88.3035888671875, \"std\": 184.62355041503906, \"err_low\": -280.9435119628906, \"err_high\": 457.5506896972656}, {\"time\": \"2000-01-01T02:00:00\", \"variable\": \"SW_IN\", \"value\": 0.0, \"is_present\": true, \"mean\": 33.43830108642578, \"std\": 185.60415649414062, \"err_low\": -337.77001953125, \"err_high\": 404.6466064453125}, {\"time\": \"2000-01-01T02:30:00\", \"variable\": \"SW_IN\", \"value\": 0.0, \"is_present\": true, \"mean\": 17.899017333984375, \"std\": 185.5577850341797, \"err_low\": -353.216552734375, \"err_high\": 389.01458740234375}, {\"time\": \"2000-01-01T03:00:00\", \"variable\": \"SW_IN\", \"value\": 0.0, \"is_present\": false, \"mean\": 9.929069519042969, \"std\": 185.54281616210938, \"err_low\": -361.15655517578125, \"err_high\": 381.01470947265625}, {\"time\": \"2000-01-01T03:30:00\", \"variable\": \"SW_IN\", \"value\": 0.0, \"is_present\": false, \"mean\": 3.7429275512695312, \"std\": 185.87355041503906, \"err_low\": -368.0041809082031, \"err_high\": 375.4900207519531}, {\"time\": \"2000-01-01T04:00:00\", \"variable\": \"SW_IN\", \"value\": 0.0, \"is_present\": true, \"mean\": 1.3069381713867188, \"std\": 185.87127685546875, \"err_low\": -370.43560791015625, \"err_high\": 373.04949951171875}, {\"time\": \"2000-01-01T04:30:00\", \"variable\": \"SW_IN\", \"value\": 0.0, \"is_present\": true, \"mean\": 2.82354736328125, \"std\": 185.53610229492188, \"err_low\": -368.2486572265625, \"err_high\": 373.895751953125}, {\"time\": \"2000-01-01T05:00:00\", \"variable\": \"SW_IN\", \"value\": 0.0, \"is_present\": true, \"mean\": 2.8092727661132812, \"std\": 185.53570556640625, \"err_low\": -368.26214599609375, \"err_high\": 373.88067626953125}, {\"time\": \"2000-01-01T05:30:00\", \"variable\": \"SW_IN\", \"value\": 0.0, \"is_present\": true, \"mean\": 3.2690505981445312, \"std\": 185.53497314453125, \"err_low\": -367.8009033203125, \"err_high\": 374.3389892578125}], \"data-fe035f45dfc943d1db474742e0c6f836\": [{\"time\": \"2000-01-01T01:00:00\", \"variable\": \"VPD\", \"value\": 0.12200000137090683, \"is_present\": true, \"mean\": 4.527900695800781, \"std\": 9.250343322753906, \"err_low\": -13.972785949707031, \"err_high\": 23.028587341308594}, {\"time\": \"2000-01-01T01:30:00\", \"variable\": \"VPD\", \"value\": 0.09000000357627869, \"is_present\": true, \"mean\": -19.769268035888672, \"std\": 13.252365112304688, \"err_low\": -46.27399826049805, \"err_high\": 6.735462188720703}, {\"time\": \"2000-01-01T02:00:00\", \"variable\": \"VPD\", \"value\": 0.10999999940395355, \"is_present\": true, \"mean\": -23.2598819732666, \"std\": 13.484752655029297, \"err_low\": -50.22938537597656, \"err_high\": 3.709623336791992}, {\"time\": \"2000-01-01T02:30:00\", \"variable\": \"VPD\", \"value\": 0.10199999809265137, \"is_present\": true, \"mean\": -22.669269561767578, \"std\": 13.481244087219238, \"err_low\": -49.63175964355469, \"err_high\": 4.293218612670898}, {\"time\": \"2000-01-01T03:00:00\", \"variable\": \"VPD\", \"value\": 0.11100000143051147, \"is_present\": true, \"mean\": -22.227754592895508, \"std\": 13.480134010314941, \"err_low\": -49.18802261352539, \"err_high\": 4.732513427734375}, {\"time\": \"2000-01-01T03:30:00\", \"variable\": \"VPD\", \"value\": 0.10899999737739563, \"is_present\": true, \"mean\": -22.51129722595215, \"std\": 13.740640640258789, \"err_low\": -49.992576599121094, \"err_high\": 4.96998405456543}, {\"time\": \"2000-01-01T04:00:00\", \"variable\": \"VPD\", \"value\": 0.10700000077486038, \"is_present\": true, \"mean\": -22.40441131591797, \"std\": 13.743937492370605, \"err_low\": -49.89228820800781, \"err_high\": 5.083463668823242}, {\"time\": \"2000-01-01T04:30:00\", \"variable\": \"VPD\", \"value\": 0.12200000137090683, \"is_present\": true, \"mean\": -21.58225440979004, \"std\": 13.481677055358887, \"err_low\": -48.54560852050781, \"err_high\": 5.381099700927734}, {\"time\": \"2000-01-01T05:00:00\", \"variable\": \"VPD\", \"value\": 0.1379999965429306, \"is_present\": true, \"mean\": -21.4400577545166, \"std\": 13.479964256286621, \"err_low\": -48.399986267089844, \"err_high\": 5.519870758056641}, {\"time\": \"2000-01-01T05:30:00\", \"variable\": \"VPD\", \"value\": 0.1379999965429306, \"is_present\": true, \"mean\": -21.313156127929688, \"std\": 13.479785919189453, \"err_low\": -48.272727966308594, \"err_high\": 5.646415710449219}]}}, {\"mode\": \"vega-lite\"});\n",
       "</script>"
      ],
      "text/plain": [
       "alt.VConcatChart(...)"
      ]
     },
     "execution_count": null,
     "metadata": {},
     "output_type": "execute_result"
    }
   ],
   "source": [
    "plot_result(preds[0], targs[0], torch.tensor(1))"
   ]
  },
  {
   "cell_type": "code",
   "execution_count": null,
   "id": "15082351-51f0-4139-9426-4ae2c64a94cb",
   "metadata": {},
   "outputs": [],
   "source": [
    "#| export\n",
    "def plot_results(preds, targs, losses, **kwargs):\n",
    "    plots = [plot_result(targ, pred, loss, n_cols=1, **kwargs) for targ, pred, loss in zip(preds, targs, losses)]\n",
    "    return alt.hconcat(*plots)"
   ]
  },
  {
   "cell_type": "code",
   "execution_count": null,
   "id": "6eb4485c-8e03-437e-8ed5-bc61a5c170af",
   "metadata": {},
   "outputs": [
    {
     "data": {
      "text/html": [
       "\n",
       "<div id=\"altair-viz-9b5addea76ab4765bedb5e8730af0619\"></div>\n",
       "<script type=\"text/javascript\">\n",
       "  var VEGA_DEBUG = (typeof VEGA_DEBUG == \"undefined\") ? {} : VEGA_DEBUG;\n",
       "  (function(spec, embedOpt){\n",
       "    let outputDiv = document.currentScript.previousElementSibling;\n",
       "    if (outputDiv.id !== \"altair-viz-9b5addea76ab4765bedb5e8730af0619\") {\n",
       "      outputDiv = document.getElementById(\"altair-viz-9b5addea76ab4765bedb5e8730af0619\");\n",
       "    }\n",
       "    const paths = {\n",
       "      \"vega\": \"https://cdn.jsdelivr.net/npm//vega@5?noext\",\n",
       "      \"vega-lib\": \"https://cdn.jsdelivr.net/npm//vega-lib?noext\",\n",
       "      \"vega-lite\": \"https://cdn.jsdelivr.net/npm//vega-lite@5.2.0?noext\",\n",
       "      \"vega-embed\": \"https://cdn.jsdelivr.net/npm//vega-embed@6?noext\",\n",
       "    };\n",
       "\n",
       "    function maybeLoadScript(lib, version) {\n",
       "      var key = `${lib.replace(\"-\", \"\")}_version`;\n",
       "      return (VEGA_DEBUG[key] == version) ?\n",
       "        Promise.resolve(paths[lib]) :\n",
       "        new Promise(function(resolve, reject) {\n",
       "          var s = document.createElement('script');\n",
       "          document.getElementsByTagName(\"head\")[0].appendChild(s);\n",
       "          s.async = true;\n",
       "          s.onload = () => {\n",
       "            VEGA_DEBUG[key] = version;\n",
       "            return resolve(paths[lib]);\n",
       "          };\n",
       "          s.onerror = () => reject(`Error loading script: ${paths[lib]}`);\n",
       "          s.src = paths[lib];\n",
       "        });\n",
       "    }\n",
       "\n",
       "    function showError(err) {\n",
       "      outputDiv.innerHTML = `<div class=\"error\" style=\"color:red;\">${err}</div>`;\n",
       "      throw err;\n",
       "    }\n",
       "\n",
       "    function displayChart(vegaEmbed) {\n",
       "      vegaEmbed(outputDiv, spec, embedOpt)\n",
       "        .catch(err => showError(`Javascript Error: ${err.message}<br>This usually means there's a typo in your chart specification. See the javascript console for the full traceback.`));\n",
       "    }\n",
       "\n",
       "    if(typeof define === \"function\" && define.amd) {\n",
       "      requirejs.config({paths});\n",
       "      require([\"vega-embed\"], displayChart, err => showError(`Error loading script: ${err.message}`));\n",
       "    } else {\n",
       "      maybeLoadScript(\"vega\", \"5\")\n",
       "        .then(() => maybeLoadScript(\"vega-lite\", \"5.2.0\"))\n",
       "        .then(() => maybeLoadScript(\"vega-embed\", \"6\"))\n",
       "        .catch(showError)\n",
       "        .then(() => displayChart(vegaEmbed));\n",
       "    }\n",
       "  })({\"config\": {\"view\": {\"continuousWidth\": 400, \"continuousHeight\": 300}}, \"hconcat\": [{\"vconcat\": [{\"hconcat\": [{\"layer\": [{\"data\": {\"name\": \"data-c316e04a886575a60c2f6168c607d1b3\"}, \"mark\": {\"type\": \"point\", \"color\": \"black\", \"fillOpacity\": 1, \"strokeWidth\": 1}, \"encoding\": {\"fill\": {\"field\": \"is_present\", \"legend\": {\"title\": [\"Observed data\"]}, \"scale\": {\"range\": [\"black\", \"#ffffff00\"]}, \"type\": \"nominal\"}, \"shape\": {\"field\": \"is_present\", \"type\": \"nominal\"}, \"x\": {\"axis\": {\"domain\": true, \"labels\": true, \"ticks\": true, \"title\": \"time\"}, \"field\": \"time\", \"type\": \"temporal\"}, \"y\": {\"field\": \"value\", \"scale\": {\"zero\": false}, \"title\": \"TA\", \"type\": \"quantitative\"}}}, {\"layer\": [{\"mark\": \"rule\", \"encoding\": {\"x\": {\"axis\": {\"domain\": false, \"labels\": false, \"ticks\": false, \"title\": null}, \"field\": \"gap_start\", \"type\": \"temporal\"}}}, {\"mark\": \"rule\", \"encoding\": {\"x\": {\"axis\": {\"domain\": false, \"labels\": false, \"ticks\": false, \"title\": null}, \"field\": \"gap_end\", \"type\": \"temporal\"}}}, {\"mark\": {\"type\": \"rect\", \"color\": \"black\", \"opacity\": 0.2}, \"encoding\": {\"x\": {\"axis\": {\"domain\": false, \"labels\": false, \"ticks\": false, \"title\": null}, \"field\": \"gap_start\", \"type\": \"temporal\"}, \"x2\": {\"field\": \"gap_end\"}}}], \"data\": {\"name\": \"data-34eac91d2688565214968a36dc4c99e5\"}}, {\"layer\": [{\"mark\": \"errorband\", \"encoding\": {\"color\": {\"field\": \"variable\", \"legend\": {\"title\": [\"Line: pred. mean\", \"area: +/- 2 std\"]}, \"type\": \"nominal\"}, \"x\": {\"field\": \"time\", \"type\": \"temporal\"}, \"y\": {\"field\": \"err_low\", \"scale\": {\"zero\": false}, \"title\": \"TA\", \"type\": \"quantitative\"}, \"y2\": {\"field\": \"err_high\"}}, \"name\": \"view_15\"}, {\"mark\": \"line\", \"encoding\": {\"color\": {\"field\": \"variable\", \"type\": \"nominal\"}, \"x\": {\"field\": \"time\", \"type\": \"temporal\"}, \"y\": {\"field\": \"mean\", \"scale\": {\"zero\": false}, \"title\": \"TA\", \"type\": \"quantitative\"}}}], \"data\": {\"name\": \"data-c316e04a886575a60c2f6168c607d1b3\"}}], \"height\": 150, \"title\": \"TA\", \"width\": 200}]}, {\"hconcat\": [{\"layer\": [{\"data\": {\"name\": \"data-c3b2b97a1270338bc45c2afcc5144d59\"}, \"mark\": {\"type\": \"point\", \"color\": \"black\", \"fillOpacity\": 1, \"strokeWidth\": 1}, \"encoding\": {\"fill\": {\"field\": \"is_present\", \"legend\": {\"title\": [\"Observed data\"]}, \"scale\": {\"range\": [\"black\", \"#ffffff00\"]}, \"type\": \"nominal\"}, \"shape\": {\"field\": \"is_present\", \"type\": \"nominal\"}, \"x\": {\"axis\": {\"domain\": true, \"labels\": true, \"ticks\": true, \"title\": \"time\"}, \"field\": \"time\", \"type\": \"temporal\"}, \"y\": {\"field\": \"value\", \"scale\": {\"zero\": false}, \"title\": \"SW_IN\", \"type\": \"quantitative\"}}}, {\"layer\": [{\"mark\": \"rule\", \"encoding\": {\"x\": {\"axis\": {\"domain\": false, \"labels\": false, \"ticks\": false, \"title\": null}, \"field\": \"gap_start\", \"type\": \"temporal\"}}}, {\"mark\": \"rule\", \"encoding\": {\"x\": {\"axis\": {\"domain\": false, \"labels\": false, \"ticks\": false, \"title\": null}, \"field\": \"gap_end\", \"type\": \"temporal\"}}}, {\"mark\": {\"type\": \"rect\", \"color\": \"black\", \"opacity\": 0.2}, \"encoding\": {\"x\": {\"axis\": {\"domain\": false, \"labels\": false, \"ticks\": false, \"title\": null}, \"field\": \"gap_start\", \"type\": \"temporal\"}, \"x2\": {\"field\": \"gap_end\"}}}], \"data\": {\"name\": \"data-34eac91d2688565214968a36dc4c99e5\"}}, {\"layer\": [{\"mark\": \"errorband\", \"encoding\": {\"color\": {\"field\": \"variable\", \"legend\": {\"title\": [\"Line: pred. mean\", \"area: +/- 2 std\"]}, \"type\": \"nominal\"}, \"x\": {\"field\": \"time\", \"type\": \"temporal\"}, \"y\": {\"field\": \"err_low\", \"scale\": {\"zero\": false}, \"title\": \"SW_IN\", \"type\": \"quantitative\"}, \"y2\": {\"field\": \"err_high\"}}, \"name\": \"view_16\"}, {\"mark\": \"line\", \"encoding\": {\"color\": {\"field\": \"variable\", \"type\": \"nominal\"}, \"x\": {\"field\": \"time\", \"type\": \"temporal\"}, \"y\": {\"field\": \"mean\", \"scale\": {\"zero\": false}, \"title\": \"SW_IN\", \"type\": \"quantitative\"}}}], \"data\": {\"name\": \"data-c3b2b97a1270338bc45c2afcc5144d59\"}}], \"height\": 150, \"title\": \"SW_IN\", \"width\": 200}]}, {\"hconcat\": [{\"layer\": [{\"mark\": {\"type\": \"point\", \"color\": \"black\", \"fillOpacity\": 1, \"strokeWidth\": 1}, \"encoding\": {\"fill\": {\"field\": \"is_present\", \"legend\": {\"title\": [\"Observed data\"]}, \"scale\": {\"range\": [\"black\", \"#ffffff00\"]}, \"type\": \"nominal\"}, \"shape\": {\"field\": \"is_present\", \"type\": \"nominal\"}, \"x\": {\"axis\": {\"domain\": true, \"labels\": true, \"ticks\": true, \"title\": \"time\"}, \"field\": \"time\", \"type\": \"temporal\"}, \"y\": {\"field\": \"value\", \"scale\": {\"zero\": false}, \"title\": \"VPD\", \"type\": \"quantitative\"}}}, {\"layer\": [{\"mark\": \"errorband\", \"encoding\": {\"color\": {\"field\": \"variable\", \"legend\": {\"title\": [\"Line: pred. mean\", \"area: +/- 2 std\"]}, \"type\": \"nominal\"}, \"x\": {\"field\": \"time\", \"type\": \"temporal\"}, \"y\": {\"field\": \"err_low\", \"scale\": {\"zero\": false}, \"title\": \"VPD\", \"type\": \"quantitative\"}, \"y2\": {\"field\": \"err_high\"}}, \"name\": \"view_17\"}, {\"mark\": \"line\", \"encoding\": {\"color\": {\"field\": \"variable\", \"type\": \"nominal\"}, \"x\": {\"field\": \"time\", \"type\": \"temporal\"}, \"y\": {\"field\": \"mean\", \"scale\": {\"zero\": false}, \"title\": \"VPD\", \"type\": \"quantitative\"}}}]}], \"height\": 150, \"title\": \"VPD\", \"width\": 200}], \"data\": {\"name\": \"data-fe035f45dfc943d1db474742e0c6f836\"}}], \"title\": \"loss: 90.933754\"}, {\"vconcat\": [{\"hconcat\": [{\"layer\": [{\"data\": {\"name\": \"data-90db4efcd0f9815f3715d44a935eff3a\"}, \"mark\": {\"type\": \"point\", \"color\": \"black\", \"fillOpacity\": 1, \"strokeWidth\": 1}, \"encoding\": {\"fill\": {\"field\": \"is_present\", \"legend\": {\"title\": [\"Observed data\"]}, \"scale\": {\"range\": [\"black\", \"#ffffff00\"]}, \"type\": \"nominal\"}, \"shape\": {\"field\": \"is_present\", \"type\": \"nominal\"}, \"x\": {\"axis\": {\"domain\": true, \"labels\": true, \"ticks\": true, \"title\": \"time\"}, \"field\": \"time\", \"type\": \"temporal\"}, \"y\": {\"field\": \"value\", \"scale\": {\"zero\": false}, \"title\": \"TA\", \"type\": \"quantitative\"}}}, {\"layer\": [{\"mark\": \"rule\", \"encoding\": {\"x\": {\"axis\": {\"domain\": false, \"labels\": false, \"ticks\": false, \"title\": null}, \"field\": \"gap_start\", \"type\": \"temporal\"}}}, {\"mark\": \"rule\", \"encoding\": {\"x\": {\"axis\": {\"domain\": false, \"labels\": false, \"ticks\": false, \"title\": null}, \"field\": \"gap_end\", \"type\": \"temporal\"}}}, {\"mark\": {\"type\": \"rect\", \"color\": \"black\", \"opacity\": 0.2}, \"encoding\": {\"x\": {\"axis\": {\"domain\": false, \"labels\": false, \"ticks\": false, \"title\": null}, \"field\": \"gap_start\", \"type\": \"temporal\"}, \"x2\": {\"field\": \"gap_end\"}}}], \"data\": {\"name\": \"data-e6e820f072592936810064d9fa1ac4f9\"}}, {\"layer\": [{\"mark\": \"errorband\", \"encoding\": {\"color\": {\"field\": \"variable\", \"legend\": {\"title\": [\"Line: pred. mean\", \"area: +/- 2 std\"]}, \"type\": \"nominal\"}, \"x\": {\"field\": \"time\", \"type\": \"temporal\"}, \"y\": {\"field\": \"err_low\", \"scale\": {\"zero\": false}, \"title\": \"TA\", \"type\": \"quantitative\"}, \"y2\": {\"field\": \"err_high\"}}, \"name\": \"view_18\"}, {\"mark\": \"line\", \"encoding\": {\"color\": {\"field\": \"variable\", \"type\": \"nominal\"}, \"x\": {\"field\": \"time\", \"type\": \"temporal\"}, \"y\": {\"field\": \"mean\", \"scale\": {\"zero\": false}, \"title\": \"TA\", \"type\": \"quantitative\"}}}], \"data\": {\"name\": \"data-90db4efcd0f9815f3715d44a935eff3a\"}}], \"height\": 150, \"title\": \"TA\", \"width\": 200}]}, {\"hconcat\": [{\"layer\": [{\"data\": {\"name\": \"data-5e884970aab24dd8d1e58d8d3f1d6075\"}, \"mark\": {\"type\": \"point\", \"color\": \"black\", \"fillOpacity\": 1, \"strokeWidth\": 1}, \"encoding\": {\"fill\": {\"field\": \"is_present\", \"legend\": {\"title\": [\"Observed data\"]}, \"scale\": {\"range\": [\"black\", \"#ffffff00\"]}, \"type\": \"nominal\"}, \"shape\": {\"field\": \"is_present\", \"type\": \"nominal\"}, \"x\": {\"axis\": {\"domain\": true, \"labels\": true, \"ticks\": true, \"title\": \"time\"}, \"field\": \"time\", \"type\": \"temporal\"}, \"y\": {\"field\": \"value\", \"scale\": {\"zero\": false}, \"title\": \"SW_IN\", \"type\": \"quantitative\"}}}, {\"layer\": [{\"mark\": \"rule\", \"encoding\": {\"x\": {\"axis\": {\"domain\": false, \"labels\": false, \"ticks\": false, \"title\": null}, \"field\": \"gap_start\", \"type\": \"temporal\"}}}, {\"mark\": \"rule\", \"encoding\": {\"x\": {\"axis\": {\"domain\": false, \"labels\": false, \"ticks\": false, \"title\": null}, \"field\": \"gap_end\", \"type\": \"temporal\"}}}, {\"mark\": {\"type\": \"rect\", \"color\": \"black\", \"opacity\": 0.2}, \"encoding\": {\"x\": {\"axis\": {\"domain\": false, \"labels\": false, \"ticks\": false, \"title\": null}, \"field\": \"gap_start\", \"type\": \"temporal\"}, \"x2\": {\"field\": \"gap_end\"}}}], \"data\": {\"name\": \"data-e6e820f072592936810064d9fa1ac4f9\"}}, {\"layer\": [{\"mark\": \"errorband\", \"encoding\": {\"color\": {\"field\": \"variable\", \"legend\": {\"title\": [\"Line: pred. mean\", \"area: +/- 2 std\"]}, \"type\": \"nominal\"}, \"x\": {\"field\": \"time\", \"type\": \"temporal\"}, \"y\": {\"field\": \"err_low\", \"scale\": {\"zero\": false}, \"title\": \"SW_IN\", \"type\": \"quantitative\"}, \"y2\": {\"field\": \"err_high\"}}, \"name\": \"view_19\"}, {\"mark\": \"line\", \"encoding\": {\"color\": {\"field\": \"variable\", \"type\": \"nominal\"}, \"x\": {\"field\": \"time\", \"type\": \"temporal\"}, \"y\": {\"field\": \"mean\", \"scale\": {\"zero\": false}, \"title\": \"SW_IN\", \"type\": \"quantitative\"}}}], \"data\": {\"name\": \"data-5e884970aab24dd8d1e58d8d3f1d6075\"}}], \"height\": 150, \"title\": \"SW_IN\", \"width\": 200}]}, {\"hconcat\": [{\"layer\": [{\"mark\": {\"type\": \"point\", \"color\": \"black\", \"fillOpacity\": 1, \"strokeWidth\": 1}, \"encoding\": {\"fill\": {\"field\": \"is_present\", \"legend\": {\"title\": [\"Observed data\"]}, \"scale\": {\"range\": [\"black\", \"#ffffff00\"]}, \"type\": \"nominal\"}, \"shape\": {\"field\": \"is_present\", \"type\": \"nominal\"}, \"x\": {\"axis\": {\"domain\": true, \"labels\": true, \"ticks\": true, \"title\": \"time\"}, \"field\": \"time\", \"type\": \"temporal\"}, \"y\": {\"field\": \"value\", \"scale\": {\"zero\": false}, \"title\": \"VPD\", \"type\": \"quantitative\"}}}, {\"layer\": [{\"mark\": \"errorband\", \"encoding\": {\"color\": {\"field\": \"variable\", \"legend\": {\"title\": [\"Line: pred. mean\", \"area: +/- 2 std\"]}, \"type\": \"nominal\"}, \"x\": {\"field\": \"time\", \"type\": \"temporal\"}, \"y\": {\"field\": \"err_low\", \"scale\": {\"zero\": false}, \"title\": \"VPD\", \"type\": \"quantitative\"}, \"y2\": {\"field\": \"err_high\"}}, \"name\": \"view_20\"}, {\"mark\": \"line\", \"encoding\": {\"color\": {\"field\": \"variable\", \"type\": \"nominal\"}, \"x\": {\"field\": \"time\", \"type\": \"temporal\"}, \"y\": {\"field\": \"mean\", \"scale\": {\"zero\": false}, \"title\": \"VPD\", \"type\": \"quantitative\"}}}]}], \"height\": 150, \"title\": \"VPD\", \"width\": 200}], \"data\": {\"name\": \"data-da68e3ba65188d95743ef7fd9baac5d0\"}}], \"title\": \"loss: 86.249367\"}, {\"vconcat\": [{\"hconcat\": [{\"layer\": [{\"data\": {\"name\": \"data-0c27dc37dd92d0c101b5a5a44906e712\"}, \"mark\": {\"type\": \"point\", \"color\": \"black\", \"fillOpacity\": 1, \"strokeWidth\": 1}, \"encoding\": {\"fill\": {\"field\": \"is_present\", \"legend\": {\"title\": [\"Observed data\"]}, \"scale\": {\"range\": [\"black\", \"#ffffff00\"]}, \"type\": \"nominal\"}, \"shape\": {\"field\": \"is_present\", \"type\": \"nominal\"}, \"x\": {\"axis\": {\"domain\": true, \"labels\": true, \"ticks\": true, \"title\": \"time\"}, \"field\": \"time\", \"type\": \"temporal\"}, \"y\": {\"field\": \"value\", \"scale\": {\"zero\": false}, \"title\": \"TA\", \"type\": \"quantitative\"}}}, {\"layer\": [{\"mark\": \"rule\", \"encoding\": {\"x\": {\"axis\": {\"domain\": false, \"labels\": false, \"ticks\": false, \"title\": null}, \"field\": \"gap_start\", \"type\": \"temporal\"}}}, {\"mark\": \"rule\", \"encoding\": {\"x\": {\"axis\": {\"domain\": false, \"labels\": false, \"ticks\": false, \"title\": null}, \"field\": \"gap_end\", \"type\": \"temporal\"}}}, {\"mark\": {\"type\": \"rect\", \"color\": \"black\", \"opacity\": 0.2}, \"encoding\": {\"x\": {\"axis\": {\"domain\": false, \"labels\": false, \"ticks\": false, \"title\": null}, \"field\": \"gap_start\", \"type\": \"temporal\"}, \"x2\": {\"field\": \"gap_end\"}}}], \"data\": {\"name\": \"data-43bacbe21c0bb29df168cd09ba85594c\"}}, {\"layer\": [{\"mark\": \"errorband\", \"encoding\": {\"color\": {\"field\": \"variable\", \"legend\": {\"title\": [\"Line: pred. mean\", \"area: +/- 2 std\"]}, \"type\": \"nominal\"}, \"x\": {\"field\": \"time\", \"type\": \"temporal\"}, \"y\": {\"field\": \"err_low\", \"scale\": {\"zero\": false}, \"title\": \"TA\", \"type\": \"quantitative\"}, \"y2\": {\"field\": \"err_high\"}}, \"name\": \"view_21\"}, {\"mark\": \"line\", \"encoding\": {\"color\": {\"field\": \"variable\", \"type\": \"nominal\"}, \"x\": {\"field\": \"time\", \"type\": \"temporal\"}, \"y\": {\"field\": \"mean\", \"scale\": {\"zero\": false}, \"title\": \"TA\", \"type\": \"quantitative\"}}}], \"data\": {\"name\": \"data-0c27dc37dd92d0c101b5a5a44906e712\"}}], \"height\": 150, \"title\": \"TA\", \"width\": 200}]}, {\"hconcat\": [{\"layer\": [{\"data\": {\"name\": \"data-98c0f18c7ddae56565e94bdce0d6c940\"}, \"mark\": {\"type\": \"point\", \"color\": \"black\", \"fillOpacity\": 1, \"strokeWidth\": 1}, \"encoding\": {\"fill\": {\"field\": \"is_present\", \"legend\": {\"title\": [\"Observed data\"]}, \"scale\": {\"range\": [\"black\", \"#ffffff00\"]}, \"type\": \"nominal\"}, \"shape\": {\"field\": \"is_present\", \"type\": \"nominal\"}, \"x\": {\"axis\": {\"domain\": true, \"labels\": true, \"ticks\": true, \"title\": \"time\"}, \"field\": \"time\", \"type\": \"temporal\"}, \"y\": {\"field\": \"value\", \"scale\": {\"zero\": false}, \"title\": \"SW_IN\", \"type\": \"quantitative\"}}}, {\"layer\": [{\"mark\": \"rule\", \"encoding\": {\"x\": {\"axis\": {\"domain\": false, \"labels\": false, \"ticks\": false, \"title\": null}, \"field\": \"gap_start\", \"type\": \"temporal\"}}}, {\"mark\": \"rule\", \"encoding\": {\"x\": {\"axis\": {\"domain\": false, \"labels\": false, \"ticks\": false, \"title\": null}, \"field\": \"gap_end\", \"type\": \"temporal\"}}}, {\"mark\": {\"type\": \"rect\", \"color\": \"black\", \"opacity\": 0.2}, \"encoding\": {\"x\": {\"axis\": {\"domain\": false, \"labels\": false, \"ticks\": false, \"title\": null}, \"field\": \"gap_start\", \"type\": \"temporal\"}, \"x2\": {\"field\": \"gap_end\"}}}], \"data\": {\"name\": \"data-43bacbe21c0bb29df168cd09ba85594c\"}}, {\"layer\": [{\"mark\": \"errorband\", \"encoding\": {\"color\": {\"field\": \"variable\", \"legend\": {\"title\": [\"Line: pred. mean\", \"area: +/- 2 std\"]}, \"type\": \"nominal\"}, \"x\": {\"field\": \"time\", \"type\": \"temporal\"}, \"y\": {\"field\": \"err_low\", \"scale\": {\"zero\": false}, \"title\": \"SW_IN\", \"type\": \"quantitative\"}, \"y2\": {\"field\": \"err_high\"}}, \"name\": \"view_22\"}, {\"mark\": \"line\", \"encoding\": {\"color\": {\"field\": \"variable\", \"type\": \"nominal\"}, \"x\": {\"field\": \"time\", \"type\": \"temporal\"}, \"y\": {\"field\": \"mean\", \"scale\": {\"zero\": false}, \"title\": \"SW_IN\", \"type\": \"quantitative\"}}}], \"data\": {\"name\": \"data-98c0f18c7ddae56565e94bdce0d6c940\"}}], \"height\": 150, \"title\": \"SW_IN\", \"width\": 200}]}, {\"hconcat\": [{\"layer\": [{\"mark\": {\"type\": \"point\", \"color\": \"black\", \"fillOpacity\": 1, \"strokeWidth\": 1}, \"encoding\": {\"fill\": {\"field\": \"is_present\", \"legend\": {\"title\": [\"Observed data\"]}, \"scale\": {\"range\": [\"black\", \"#ffffff00\"]}, \"type\": \"nominal\"}, \"shape\": {\"field\": \"is_present\", \"type\": \"nominal\"}, \"x\": {\"axis\": {\"domain\": true, \"labels\": true, \"ticks\": true, \"title\": \"time\"}, \"field\": \"time\", \"type\": \"temporal\"}, \"y\": {\"field\": \"value\", \"scale\": {\"zero\": false}, \"title\": \"VPD\", \"type\": \"quantitative\"}}}, {\"layer\": [{\"mark\": \"errorband\", \"encoding\": {\"color\": {\"field\": \"variable\", \"legend\": {\"title\": [\"Line: pred. mean\", \"area: +/- 2 std\"]}, \"type\": \"nominal\"}, \"x\": {\"field\": \"time\", \"type\": \"temporal\"}, \"y\": {\"field\": \"err_low\", \"scale\": {\"zero\": false}, \"title\": \"VPD\", \"type\": \"quantitative\"}, \"y2\": {\"field\": \"err_high\"}}, \"name\": \"view_23\"}, {\"mark\": \"line\", \"encoding\": {\"color\": {\"field\": \"variable\", \"type\": \"nominal\"}, \"x\": {\"field\": \"time\", \"type\": \"temporal\"}, \"y\": {\"field\": \"mean\", \"scale\": {\"zero\": false}, \"title\": \"VPD\", \"type\": \"quantitative\"}}}]}], \"height\": 150, \"title\": \"VPD\", \"width\": 200}], \"data\": {\"name\": \"data-0e7851722c447ca6d5dff673c470d25d\"}}], \"title\": \"loss: 78.682693\"}], \"params\": [{\"name\": \"param_23\", \"select\": {\"type\": \"interval\", \"encodings\": [\"x\"]}, \"bind\": \"scales\", \"views\": [\"view_15\", \"view_16\", \"view_17\"]}, {\"name\": \"param_27\", \"select\": {\"type\": \"interval\", \"encodings\": [\"x\"]}, \"bind\": \"scales\", \"views\": [\"view_18\", \"view_19\", \"view_20\"]}, {\"name\": \"param_31\", \"select\": {\"type\": \"interval\", \"encodings\": [\"x\"]}, \"bind\": \"scales\", \"views\": [\"view_21\", \"view_22\", \"view_23\"]}], \"$schema\": \"https://vega.github.io/schema/vega-lite/v5.2.0.json\", \"datasets\": {\"data-c316e04a886575a60c2f6168c607d1b3\": [{\"time\": \"2000-01-01T01:00:00\", \"variable\": \"TA\", \"value\": -0.6499999761581421, \"is_present\": true, \"mean\": 10.753302574157715, \"std\": 10.899338722229004, \"err_low\": -11.045374870300293, \"err_high\": 32.551979064941406}, {\"time\": \"2000-01-01T01:30:00\", \"variable\": \"TA\", \"value\": -0.5799999833106995, \"is_present\": true, \"mean\": -14.893173217773438, \"std\": 13.592729568481445, \"err_low\": -42.07863235473633, \"err_high\": 12.292285919189453}, {\"time\": \"2000-01-01T02:00:00\", \"variable\": \"TA\", \"value\": -0.5099999904632568, \"is_present\": true, \"mean\": -20.37444305419922, \"std\": 13.913605690002441, \"err_low\": -48.20165252685547, \"err_high\": 7.452768325805664}, {\"time\": \"2000-01-01T02:30:00\", \"variable\": \"TA\", \"value\": -0.49000000953674316, \"is_present\": true, \"mean\": -20.907899856567383, \"std\": 13.913154602050781, \"err_low\": -48.73420715332031, \"err_high\": 6.91840934753418}, {\"time\": \"2000-01-01T03:00:00\", \"variable\": \"TA\", \"value\": -0.4000000059604645, \"is_present\": false, \"mean\": -21.112707138061523, \"std\": 13.913232803344727, \"err_low\": -48.939170837402344, \"err_high\": 6.71375846862793}, {\"time\": \"2000-01-01T03:30:00\", \"variable\": \"TA\", \"value\": -0.36000001430511475, \"is_present\": false, \"mean\": -21.66693878173828, \"std\": 14.112079620361328, \"err_low\": -49.89109802246094, \"err_high\": 6.557220458984375}, {\"time\": \"2000-01-01T04:00:00\", \"variable\": \"TA\", \"value\": -0.3499999940395355, \"is_present\": true, \"mean\": -21.752660751342773, \"std\": 14.113028526306152, \"err_low\": -49.97871780395508, \"err_high\": 6.473396301269531}, {\"time\": \"2000-01-01T04:30:00\", \"variable\": \"TA\", \"value\": -0.2800000011920929, \"is_present\": true, \"mean\": -21.146535873413086, \"std\": 13.913485527038574, \"err_low\": -48.973506927490234, \"err_high\": 6.6804351806640625}, {\"time\": \"2000-01-01T05:00:00\", \"variable\": \"TA\", \"value\": -0.27000001072883606, \"is_present\": true, \"mean\": -21.066120147705078, \"std\": 13.913177490234375, \"err_low\": -48.89247512817383, \"err_high\": 6.760234832763672}, {\"time\": \"2000-01-01T05:30:00\", \"variable\": \"TA\", \"value\": -0.23000000417232513, \"is_present\": true, \"mean\": -20.957521438598633, \"std\": 13.91317081451416, \"err_low\": -48.78386306762695, \"err_high\": 6.8688201904296875}], \"data-34eac91d2688565214968a36dc4c99e5\": [{\"gap_start\": \"2000-01-01T03:00:00\", \"gap_end\": \"2000-01-01T03:30:00\"}], \"data-c3b2b97a1270338bc45c2afcc5144d59\": [{\"time\": \"2000-01-01T01:00:00\", \"variable\": \"SW_IN\", \"value\": 0.0, \"is_present\": true, \"mean\": 272.7411193847656, \"std\": 176.08224487304688, \"err_low\": -79.42337036132812, \"err_high\": 624.9056396484375}, {\"time\": \"2000-01-01T01:30:00\", \"variable\": \"SW_IN\", \"value\": 0.0, \"is_present\": true, \"mean\": 88.3035888671875, \"std\": 184.62355041503906, \"err_low\": -280.9435119628906, \"err_high\": 457.5506896972656}, {\"time\": \"2000-01-01T02:00:00\", \"variable\": \"SW_IN\", \"value\": 0.0, \"is_present\": true, \"mean\": 33.43830108642578, \"std\": 185.60415649414062, \"err_low\": -337.77001953125, \"err_high\": 404.6466064453125}, {\"time\": \"2000-01-01T02:30:00\", \"variable\": \"SW_IN\", \"value\": 0.0, \"is_present\": true, \"mean\": 17.899017333984375, \"std\": 185.5577850341797, \"err_low\": -353.216552734375, \"err_high\": 389.01458740234375}, {\"time\": \"2000-01-01T03:00:00\", \"variable\": \"SW_IN\", \"value\": 0.0, \"is_present\": false, \"mean\": 9.929069519042969, \"std\": 185.54281616210938, \"err_low\": -361.15655517578125, \"err_high\": 381.01470947265625}, {\"time\": \"2000-01-01T03:30:00\", \"variable\": \"SW_IN\", \"value\": 0.0, \"is_present\": false, \"mean\": 3.7429275512695312, \"std\": 185.87355041503906, \"err_low\": -368.0041809082031, \"err_high\": 375.4900207519531}, {\"time\": \"2000-01-01T04:00:00\", \"variable\": \"SW_IN\", \"value\": 0.0, \"is_present\": true, \"mean\": 1.3069381713867188, \"std\": 185.87127685546875, \"err_low\": -370.43560791015625, \"err_high\": 373.04949951171875}, {\"time\": \"2000-01-01T04:30:00\", \"variable\": \"SW_IN\", \"value\": 0.0, \"is_present\": true, \"mean\": 2.82354736328125, \"std\": 185.53610229492188, \"err_low\": -368.2486572265625, \"err_high\": 373.895751953125}, {\"time\": \"2000-01-01T05:00:00\", \"variable\": \"SW_IN\", \"value\": 0.0, \"is_present\": true, \"mean\": 2.8092727661132812, \"std\": 185.53570556640625, \"err_low\": -368.26214599609375, \"err_high\": 373.88067626953125}, {\"time\": \"2000-01-01T05:30:00\", \"variable\": \"SW_IN\", \"value\": 0.0, \"is_present\": true, \"mean\": 3.2690505981445312, \"std\": 185.53497314453125, \"err_low\": -367.8009033203125, \"err_high\": 374.3389892578125}], \"data-fe035f45dfc943d1db474742e0c6f836\": [{\"time\": \"2000-01-01T01:00:00\", \"variable\": \"VPD\", \"value\": 0.12200000137090683, \"is_present\": true, \"mean\": 4.527900695800781, \"std\": 9.250343322753906, \"err_low\": -13.972785949707031, \"err_high\": 23.028587341308594}, {\"time\": \"2000-01-01T01:30:00\", \"variable\": \"VPD\", \"value\": 0.09000000357627869, \"is_present\": true, \"mean\": -19.769268035888672, \"std\": 13.252365112304688, \"err_low\": -46.27399826049805, \"err_high\": 6.735462188720703}, {\"time\": \"2000-01-01T02:00:00\", \"variable\": \"VPD\", \"value\": 0.10999999940395355, \"is_present\": true, \"mean\": -23.2598819732666, \"std\": 13.484752655029297, \"err_low\": -50.22938537597656, \"err_high\": 3.709623336791992}, {\"time\": \"2000-01-01T02:30:00\", \"variable\": \"VPD\", \"value\": 0.10199999809265137, \"is_present\": true, \"mean\": -22.669269561767578, \"std\": 13.481244087219238, \"err_low\": -49.63175964355469, \"err_high\": 4.293218612670898}, {\"time\": \"2000-01-01T03:00:00\", \"variable\": \"VPD\", \"value\": 0.11100000143051147, \"is_present\": true, \"mean\": -22.227754592895508, \"std\": 13.480134010314941, \"err_low\": -49.18802261352539, \"err_high\": 4.732513427734375}, {\"time\": \"2000-01-01T03:30:00\", \"variable\": \"VPD\", \"value\": 0.10899999737739563, \"is_present\": true, \"mean\": -22.51129722595215, \"std\": 13.740640640258789, \"err_low\": -49.992576599121094, \"err_high\": 4.96998405456543}, {\"time\": \"2000-01-01T04:00:00\", \"variable\": \"VPD\", \"value\": 0.10700000077486038, \"is_present\": true, \"mean\": -22.40441131591797, \"std\": 13.743937492370605, \"err_low\": -49.89228820800781, \"err_high\": 5.083463668823242}, {\"time\": \"2000-01-01T04:30:00\", \"variable\": \"VPD\", \"value\": 0.12200000137090683, \"is_present\": true, \"mean\": -21.58225440979004, \"std\": 13.481677055358887, \"err_low\": -48.54560852050781, \"err_high\": 5.381099700927734}, {\"time\": \"2000-01-01T05:00:00\", \"variable\": \"VPD\", \"value\": 0.1379999965429306, \"is_present\": true, \"mean\": -21.4400577545166, \"std\": 13.479964256286621, \"err_low\": -48.399986267089844, \"err_high\": 5.519870758056641}, {\"time\": \"2000-01-01T05:30:00\", \"variable\": \"VPD\", \"value\": 0.1379999965429306, \"is_present\": true, \"mean\": -21.313156127929688, \"std\": 13.479785919189453, \"err_low\": -48.272727966308594, \"err_high\": 5.646415710449219}], \"data-90db4efcd0f9815f3715d44a935eff3a\": [{\"time\": \"2000-01-01T06:00:00\", \"variable\": \"TA\", \"value\": -0.23000000417232513, \"is_present\": true, \"mean\": 10.753302574157715, \"std\": 10.899338722229004, \"err_low\": -11.045374870300293, \"err_high\": 32.551979064941406}, {\"time\": \"2000-01-01T06:30:00\", \"variable\": \"TA\", \"value\": -0.2199999988079071, \"is_present\": true, \"mean\": -14.37374496459961, \"std\": 13.592729568481445, \"err_low\": -41.5592041015625, \"err_high\": 12.811714172363281}, {\"time\": \"2000-01-01T07:00:00\", \"variable\": \"TA\", \"value\": -0.23999999463558197, \"is_present\": true, \"mean\": -19.628559112548828, \"std\": 13.913605690002441, \"err_low\": -47.455772399902344, \"err_high\": 8.198652267456055}, {\"time\": \"2000-01-01T07:30:00\", \"variable\": \"TA\", \"value\": -0.23000000417232513, \"is_present\": true, \"mean\": -20.17060089111328, \"std\": 13.913154602050781, \"err_low\": -47.996910095214844, \"err_high\": 7.655708312988281}, {\"time\": \"2000-01-01T08:00:00\", \"variable\": \"TA\", \"value\": -0.2199999988079071, \"is_present\": true, \"mean\": -20.291648864746094, \"std\": 13.913232803344727, \"err_low\": -48.11811447143555, \"err_high\": 7.534816741943359}, {\"time\": \"2000-01-01T08:30:00\", \"variable\": \"TA\", \"value\": -0.1899999976158142, \"is_present\": true, \"mean\": -20.233810424804688, \"std\": 13.913187026977539, \"err_low\": -48.060184478759766, \"err_high\": 7.592563629150391}, {\"time\": \"2000-01-01T09:00:00\", \"variable\": \"TA\", \"value\": -0.14000000059604645, \"is_present\": false, \"mean\": -20.05574607849121, \"std\": 13.91317367553711, \"err_low\": -47.88209533691406, \"err_high\": 7.770601272583008}, {\"time\": \"2000-01-01T09:30:00\", \"variable\": \"TA\", \"value\": -0.029999999329447746, \"is_present\": false, \"mean\": -20.328899383544922, \"std\": 14.111968040466309, \"err_low\": -48.552833557128906, \"err_high\": 7.895036697387695}, {\"time\": \"2000-01-01T10:00:00\", \"variable\": \"TA\", \"value\": 0.03999999910593033, \"is_present\": true, \"mean\": -19.94635581970215, \"std\": 14.112985610961914, \"err_low\": -48.172325134277344, \"err_high\": 8.27961540222168}, {\"time\": \"2000-01-01T10:30:00\", \"variable\": \"TA\", \"value\": 0.10000000149011612, \"is_present\": true, \"mean\": -18.819808959960938, \"std\": 13.913483619689941, \"err_low\": -46.64677429199219, \"err_high\": 9.007158279418945}], \"data-e6e820f072592936810064d9fa1ac4f9\": [{\"gap_start\": \"2000-01-01T09:00:00\", \"gap_end\": \"2000-01-01T09:30:00\"}], \"data-5e884970aab24dd8d1e58d8d3f1d6075\": [{\"time\": \"2000-01-01T06:00:00\", \"variable\": \"SW_IN\", \"value\": 0.0, \"is_present\": true, \"mean\": 272.7411193847656, \"std\": 176.08224487304688, \"err_low\": -79.42337036132812, \"err_high\": 624.9056396484375}, {\"time\": \"2000-01-01T06:30:00\", \"variable\": \"SW_IN\", \"value\": 0.0, \"is_present\": true, \"mean\": 92.44823455810547, \"std\": 184.62355041503906, \"err_low\": -276.7988586425781, \"err_high\": 461.6953430175781}, {\"time\": \"2000-01-01T07:00:00\", \"variable\": \"SW_IN\", \"value\": 0.0, \"is_present\": true, \"mean\": 39.46612548828125, \"std\": 185.60415649414062, \"err_low\": -331.7421875, \"err_high\": 410.6744384765625}, {\"time\": \"2000-01-01T07:30:00\", \"variable\": \"SW_IN\", \"value\": 0.0, \"is_present\": true, \"mean\": 24.40795135498047, \"std\": 185.5577850341797, \"err_low\": -346.7076110839844, \"err_high\": 395.5235290527344}, {\"time\": \"2000-01-01T08:00:00\", \"variable\": \"SW_IN\", \"value\": 0.0, \"is_present\": true, \"mean\": 17.470733642578125, \"std\": 185.54281616210938, \"err_low\": -353.6148986816406, \"err_high\": 388.5563659667969}, {\"time\": \"2000-01-01T08:30:00\", \"variable\": \"SW_IN\", \"value\": 0.44999998807907104, \"is_present\": true, \"mean\": 14.538543701171875, \"std\": 185.53709411621094, \"err_low\": -356.53564453125, \"err_high\": 385.61273193359375}, {\"time\": \"2000-01-01T09:00:00\", \"variable\": \"SW_IN\", \"value\": 3.700000047683716, \"is_present\": false, \"mean\": 14.144721984863281, \"std\": 185.5352783203125, \"err_low\": -356.92584228515625, \"err_high\": 385.21527099609375}, {\"time\": \"2000-01-01T09:30:00\", \"variable\": \"SW_IN\", \"value\": 7.260000228881836, \"is_present\": false, \"mean\": 13.015251159667969, \"std\": 185.87022399902344, \"err_low\": -358.7251892089844, \"err_high\": 384.7557067871094}, {\"time\": \"2000-01-01T10:00:00\", \"variable\": \"SW_IN\", \"value\": 12.239999771118164, \"is_present\": true, \"mean\": 15.315879821777344, \"std\": 185.87017822265625, \"err_low\": -356.4244689941406, \"err_high\": 387.0562438964844}, {\"time\": \"2000-01-01T10:30:00\", \"variable\": \"SW_IN\", \"value\": 16.510000228881836, \"is_present\": true, \"mean\": 21.281837463378906, \"std\": 185.53585815429688, \"err_low\": -349.7898864746094, \"err_high\": 392.3535461425781}], \"data-da68e3ba65188d95743ef7fd9baac5d0\": [{\"time\": \"2000-01-01T06:00:00\", \"variable\": \"VPD\", \"value\": 0.12200000137090683, \"is_present\": true, \"mean\": 4.527900695800781, \"std\": 9.250343322753906, \"err_low\": -13.972785949707031, \"err_high\": 23.028587341308594}, {\"time\": \"2000-01-01T06:30:00\", \"variable\": \"VPD\", \"value\": 0.09799999743700027, \"is_present\": true, \"mean\": -19.26510238647461, \"std\": 13.252365112304688, \"err_low\": -45.769832611083984, \"err_high\": 7.239627838134766}, {\"time\": \"2000-01-01T07:00:00\", \"variable\": \"VPD\", \"value\": 0.06599999964237213, \"is_present\": true, \"mean\": -22.597057342529297, \"std\": 13.484752655029297, \"err_low\": -49.56656265258789, \"err_high\": 4.372447967529297}, {\"time\": \"2000-01-01T07:30:00\", \"variable\": \"VPD\", \"value\": 0.04399999976158142, \"is_present\": true, \"mean\": -22.069969177246094, \"std\": 13.481244087219238, \"err_low\": -49.03245544433594, \"err_high\": 4.892518997192383}, {\"time\": \"2000-01-01T08:00:00\", \"variable\": \"VPD\", \"value\": 0.026000000536441803, \"is_present\": true, \"mean\": -21.590511322021484, \"std\": 13.480134010314941, \"err_low\": -48.55078125, \"err_high\": 5.369756698608398}, {\"time\": \"2000-01-01T08:30:00\", \"variable\": \"VPD\", \"value\": 0.01600000075995922, \"is_present\": true, \"mean\": -21.221900939941406, \"std\": 13.479884147644043, \"err_low\": -48.181671142578125, \"err_high\": 5.73786735534668}, {\"time\": \"2000-01-01T09:00:00\", \"variable\": \"VPD\", \"value\": 0.009999999776482582, \"is_present\": true, \"mean\": -20.879085540771484, \"std\": 13.47979736328125, \"err_low\": -47.838680267333984, \"err_high\": 6.080509185791016}, {\"time\": \"2000-01-01T09:30:00\", \"variable\": \"VPD\", \"value\": 0.006000000052154064, \"is_present\": true, \"mean\": -21.15721893310547, \"std\": 13.740631103515625, \"err_low\": -48.63848114013672, \"err_high\": 6.324043273925781}, {\"time\": \"2000-01-01T10:00:00\", \"variable\": \"VPD\", \"value\": 0.006000000052154064, \"is_present\": true, \"mean\": -20.720430374145508, \"std\": 13.743934631347656, \"err_low\": -48.20829772949219, \"err_high\": 6.767438888549805}, {\"time\": \"2000-01-01T10:30:00\", \"variable\": \"VPD\", \"value\": 0.006000000052154064, \"is_present\": true, \"mean\": -19.43426513671875, \"std\": 13.481671333312988, \"err_low\": -46.397605895996094, \"err_high\": 7.529077529907227}], \"data-0c27dc37dd92d0c101b5a5a44906e712\": [{\"time\": \"2000-01-01T16:00:00\", \"variable\": \"TA\", \"value\": 0.5699999928474426, \"is_present\": true, \"mean\": 10.753302574157715, \"std\": 10.899338722229004, \"err_low\": -11.045374870300293, \"err_high\": 32.551979064941406}, {\"time\": \"2000-01-01T16:30:00\", \"variable\": \"TA\", \"value\": 0.7300000190734863, \"is_present\": true, \"mean\": -12.222166061401367, \"std\": 13.592729568481445, \"err_low\": -39.407623291015625, \"err_high\": 14.963293075561523}, {\"time\": \"2000-01-01T17:00:00\", \"variable\": \"TA\", \"value\": 0.7699999809265137, \"is_present\": true, \"mean\": -17.29306411743164, \"std\": 13.913605690002441, \"err_low\": -45.120277404785156, \"err_high\": 10.534147262573242}, {\"time\": \"2000-01-01T17:30:00\", \"variable\": \"TA\", \"value\": 0.8399999737739563, \"is_present\": false, \"mean\": -17.61827850341797, \"std\": 13.913154602050781, \"err_low\": -45.44458770751953, \"err_high\": 10.208030700683594}, {\"time\": \"2000-01-01T18:00:00\", \"variable\": \"TA\", \"value\": 0.9900000095367432, \"is_present\": false, \"mean\": -17.900392532348633, \"std\": 14.11233901977539, \"err_low\": -46.12506866455078, \"err_high\": 10.324285507202148}, {\"time\": \"2000-01-01T18:30:00\", \"variable\": \"TA\", \"value\": 1.350000023841858, \"is_present\": true, \"mean\": -17.867128372192383, \"std\": 14.113126754760742, \"err_low\": -46.0933837890625, \"err_high\": 10.359125137329102}, {\"time\": \"2000-01-01T19:00:00\", \"variable\": \"TA\", \"value\": 1.8600000143051147, \"is_present\": true, \"mean\": -17.200885772705078, \"std\": 13.913490295410156, \"err_low\": -45.02786636352539, \"err_high\": 10.626094818115234}, {\"time\": \"2000-01-01T19:30:00\", \"variable\": \"TA\", \"value\": 2.009999990463257, \"is_present\": true, \"mean\": -16.908090591430664, \"std\": 13.913177490234375, \"err_low\": -44.73444366455078, \"err_high\": 10.918264389038086}, {\"time\": \"2000-01-01T20:00:00\", \"variable\": \"TA\", \"value\": 2.069999933242798, \"is_present\": true, \"mean\": -16.73907470703125, \"std\": 13.91317081451416, \"err_low\": -44.56541442871094, \"err_high\": 11.08726692199707}, {\"time\": \"2000-01-01T20:30:00\", \"variable\": \"TA\", \"value\": 2.0, \"is_present\": true, \"mean\": -16.645936965942383, \"std\": 13.913169860839844, \"err_low\": -44.47227478027344, \"err_high\": 11.180402755737305}], \"data-43bacbe21c0bb29df168cd09ba85594c\": [{\"gap_start\": \"2000-01-01T17:30:00\", \"gap_end\": \"2000-01-01T18:00:00\"}], \"data-98c0f18c7ddae56565e94bdce0d6c940\": [{\"time\": \"2000-01-01T16:00:00\", \"variable\": \"SW_IN\", \"value\": 6.369999885559082, \"is_present\": true, \"mean\": 272.7411193847656, \"std\": 176.08224487304688, \"err_low\": -79.42337036132812, \"err_high\": 624.9056396484375}, {\"time\": \"2000-01-01T16:30:00\", \"variable\": \"SW_IN\", \"value\": 1.7200000286102295, \"is_present\": true, \"mean\": 107.7623062133789, \"std\": 184.62355041503906, \"err_low\": -261.48480224609375, \"err_high\": 477.0093994140625}, {\"time\": \"2000-01-01T17:00:00\", \"variable\": \"SW_IN\", \"value\": 0.05999999865889549, \"is_present\": true, \"mean\": 58.414981842041016, \"std\": 185.60415649414062, \"err_low\": -312.7933349609375, \"err_high\": 429.623291015625}, {\"time\": \"2000-01-01T17:30:00\", \"variable\": \"SW_IN\", \"value\": 0.0, \"is_present\": false, \"mean\": 45.945465087890625, \"std\": 185.5577850341797, \"err_low\": -325.17010498046875, \"err_high\": 417.06103515625}, {\"time\": \"2000-01-01T18:00:00\", \"variable\": \"SW_IN\", \"value\": 0.0, \"is_present\": false, \"mean\": 39.45698547363281, \"std\": 185.8813018798828, \"err_low\": -332.30560302734375, \"err_high\": 411.2196044921875}, {\"time\": \"2000-01-01T18:30:00\", \"variable\": \"SW_IN\", \"value\": 0.0, \"is_present\": true, \"mean\": 37.004241943359375, \"std\": 185.87380981445312, \"err_low\": -334.7433776855469, \"err_high\": 408.7518615722656}, {\"time\": \"2000-01-01T19:00:00\", \"variable\": \"SW_IN\", \"value\": 0.0, \"is_present\": true, \"mean\": 38.765350341796875, \"std\": 185.5366668701172, \"err_low\": -332.3079833984375, \"err_high\": 409.83868408203125}, {\"time\": \"2000-01-01T19:30:00\", \"variable\": \"SW_IN\", \"value\": 0.0, \"is_present\": true, \"mean\": 39.844749450683594, \"std\": 185.535888671875, \"err_low\": -331.2270202636719, \"err_high\": 410.9165344238281}, {\"time\": \"2000-01-01T20:00:00\", \"variable\": \"SW_IN\", \"value\": 0.0, \"is_present\": true, \"mean\": 40.49530792236328, \"std\": 185.5350341796875, \"err_low\": -330.57476806640625, \"err_high\": 411.56536865234375}, {\"time\": \"2000-01-01T20:30:00\", \"variable\": \"SW_IN\", \"value\": 0.0, \"is_present\": true, \"mean\": 41.063690185546875, \"std\": 185.53460693359375, \"err_low\": -330.0055236816406, \"err_high\": 412.1329040527344}], \"data-0e7851722c447ca6d5dff673c470d25d\": [{\"time\": \"2000-01-01T16:00:00\", \"variable\": \"VPD\", \"value\": 0.0, \"is_present\": true, \"mean\": 4.527900695800781, \"std\": 9.250343322753906, \"err_low\": -13.972785949707031, \"err_high\": 23.028587341308594}, {\"time\": \"2000-01-01T16:30:00\", \"variable\": \"VPD\", \"value\": 0.0, \"is_present\": true, \"mean\": -17.387516021728516, \"std\": 13.252365112304688, \"err_low\": -43.89224624633789, \"err_high\": 9.11721420288086}, {\"time\": \"2000-01-01T17:00:00\", \"variable\": \"VPD\", \"value\": 0.0, \"is_present\": true, \"mean\": -20.735198974609375, \"std\": 13.484752655029297, \"err_low\": -47.70470428466797, \"err_high\": 6.234306335449219}, {\"time\": \"2000-01-01T17:30:00\", \"variable\": \"VPD\", \"value\": 0.0, \"is_present\": true, \"mean\": -20.122482299804688, \"std\": 13.481244087219238, \"err_low\": -47.08496856689453, \"err_high\": 6.840005874633789}, {\"time\": \"2000-01-01T18:00:00\", \"variable\": \"VPD\", \"value\": 0.0, \"is_present\": true, \"mean\": -19.959766387939453, \"std\": 13.740666389465332, \"err_low\": -47.44110107421875, \"err_high\": 7.521566390991211}, {\"time\": \"2000-01-01T18:30:00\", \"variable\": \"VPD\", \"value\": 0.0, \"is_present\": true, \"mean\": -19.67634391784668, \"std\": 13.743939399719238, \"err_low\": -47.164222717285156, \"err_high\": 7.811534881591797}, {\"time\": \"2000-01-01T19:00:00\", \"variable\": \"VPD\", \"value\": 0.0020000000949949026, \"is_present\": true, \"mean\": -18.796714782714844, \"std\": 13.481696128845215, \"err_low\": -45.760108947753906, \"err_high\": 8.166677474975586}, {\"time\": \"2000-01-01T19:30:00\", \"variable\": \"VPD\", \"value\": 0.008999999612569809, \"is_present\": true, \"mean\": -18.445226669311523, \"std\": 13.47996997833252, \"err_low\": -45.40516662597656, \"err_high\": 8.514713287353516}, {\"time\": \"2000-01-01T20:00:00\", \"variable\": \"VPD\", \"value\": 0.014000000432133675, \"is_present\": true, \"mean\": -18.262250900268555, \"std\": 13.479789733886719, \"err_low\": -45.221832275390625, \"err_high\": 8.697328567504883}, {\"time\": \"2000-01-01T20:30:00\", \"variable\": \"VPD\", \"value\": 0.014000000432133675, \"is_present\": true, \"mean\": -18.165468215942383, \"std\": 13.47977066040039, \"err_low\": -45.12500762939453, \"err_high\": 8.794073104858398}]}}, {\"mode\": \"vega-lite\"});\n",
       "</script>"
      ],
      "text/plain": [
       "alt.HConcatChart(...)"
      ]
     },
     "execution_count": null,
     "metadata": {},
     "output_type": "execute_result"
    }
   ],
   "source": [
    "plot_results(preds, targs, losses)"
   ]
  },
  {
   "cell_type": "markdown",
   "id": "32cb6c99-004e-4235-82d5-1617e79b7097",
   "metadata": {},
   "source": [
    "#### Show Results"
   ]
  },
  {
   "cell_type": "code",
   "execution_count": null,
   "id": "5f6a1a9f-2a79-4b27-960b-4a8a446de9ac",
   "metadata": {},
   "outputs": [
    {
     "data": {
      "text/plain": [
       "[1237, 725, 1171]"
      ]
     },
     "execution_count": null,
     "metadata": {},
     "output_type": "execute_result"
    }
   ],
   "source": [
    "random.choices(learn.dls.items, k=3)"
   ]
  },
  {
   "cell_type": "code",
   "execution_count": null,
   "id": "5b86232f-ada2-443c-b00c-8f7379608085",
   "metadata": {},
   "outputs": [],
   "source": [
    "#|export\n",
    "def get_results(learn, n=3, items=None, dls=None):\n",
    "    dls = ifnone(dls, learn.dls)\n",
    "    items = ifnone(items, random.choices(dls.items, k=3))\n",
    "    pipe0, pipe1 = dls.fs[0][0,1,2], dls.fs[0][3,4]\n",
    "    return predict_items(items, learn, pipe0, pipe1)"
   ]
  },
  {
   "cell_type": "code",
   "execution_count": null,
   "id": "ec86db59-0ee4-46c1-af35-290ba45284c0",
   "metadata": {},
   "outputs": [],
   "source": [
    "#| export\n",
    "def show_results(learn, n=3, items=None, **kwargs):\n",
    "    return plot_results(*get_results(learn,n,items), **kwargs)\n",
    "    "
   ]
  },
  {
   "cell_type": "code",
   "execution_count": null,
   "id": "25bc78ec-1348-4af5-ad48-89575654ff01",
   "metadata": {},
   "outputs": [],
   "source": [
    "learn.model.use_smooth = False"
   ]
  },
  {
   "cell_type": "code",
   "execution_count": null,
   "id": "38bb0979-c84d-45ff-8b25-6e737816204b",
   "metadata": {},
   "outputs": [
    {
     "data": {
      "text/html": [
       "\n",
       "<div id=\"altair-viz-ce97c07bc96849c280b3a74d61cbf911\"></div>\n",
       "<script type=\"text/javascript\">\n",
       "  var VEGA_DEBUG = (typeof VEGA_DEBUG == \"undefined\") ? {} : VEGA_DEBUG;\n",
       "  (function(spec, embedOpt){\n",
       "    let outputDiv = document.currentScript.previousElementSibling;\n",
       "    if (outputDiv.id !== \"altair-viz-ce97c07bc96849c280b3a74d61cbf911\") {\n",
       "      outputDiv = document.getElementById(\"altair-viz-ce97c07bc96849c280b3a74d61cbf911\");\n",
       "    }\n",
       "    const paths = {\n",
       "      \"vega\": \"https://cdn.jsdelivr.net/npm//vega@5?noext\",\n",
       "      \"vega-lib\": \"https://cdn.jsdelivr.net/npm//vega-lib?noext\",\n",
       "      \"vega-lite\": \"https://cdn.jsdelivr.net/npm//vega-lite@5.2.0?noext\",\n",
       "      \"vega-embed\": \"https://cdn.jsdelivr.net/npm//vega-embed@6?noext\",\n",
       "    };\n",
       "\n",
       "    function maybeLoadScript(lib, version) {\n",
       "      var key = `${lib.replace(\"-\", \"\")}_version`;\n",
       "      return (VEGA_DEBUG[key] == version) ?\n",
       "        Promise.resolve(paths[lib]) :\n",
       "        new Promise(function(resolve, reject) {\n",
       "          var s = document.createElement('script');\n",
       "          document.getElementsByTagName(\"head\")[0].appendChild(s);\n",
       "          s.async = true;\n",
       "          s.onload = () => {\n",
       "            VEGA_DEBUG[key] = version;\n",
       "            return resolve(paths[lib]);\n",
       "          };\n",
       "          s.onerror = () => reject(`Error loading script: ${paths[lib]}`);\n",
       "          s.src = paths[lib];\n",
       "        });\n",
       "    }\n",
       "\n",
       "    function showError(err) {\n",
       "      outputDiv.innerHTML = `<div class=\"error\" style=\"color:red;\">${err}</div>`;\n",
       "      throw err;\n",
       "    }\n",
       "\n",
       "    function displayChart(vegaEmbed) {\n",
       "      vegaEmbed(outputDiv, spec, embedOpt)\n",
       "        .catch(err => showError(`Javascript Error: ${err.message}<br>This usually means there's a typo in your chart specification. See the javascript console for the full traceback.`));\n",
       "    }\n",
       "\n",
       "    if(typeof define === \"function\" && define.amd) {\n",
       "      requirejs.config({paths});\n",
       "      require([\"vega-embed\"], displayChart, err => showError(`Error loading script: ${err.message}`));\n",
       "    } else {\n",
       "      maybeLoadScript(\"vega\", \"5\")\n",
       "        .then(() => maybeLoadScript(\"vega-lite\", \"5.2.0\"))\n",
       "        .then(() => maybeLoadScript(\"vega-embed\", \"6\"))\n",
       "        .catch(showError)\n",
       "        .then(() => displayChart(vegaEmbed));\n",
       "    }\n",
       "  })({\"config\": {\"view\": {\"continuousWidth\": 400, \"continuousHeight\": 300}}, \"hconcat\": [{\"vconcat\": [{\"hconcat\": [{\"layer\": [{\"data\": {\"name\": \"data-9ac7840fd9c5dc6110ac11356853713b\"}, \"mark\": {\"type\": \"point\", \"color\": \"black\", \"fillOpacity\": 1, \"strokeWidth\": 1}, \"encoding\": {\"fill\": {\"field\": \"is_present\", \"legend\": {\"title\": [\"Observed data\"]}, \"scale\": {\"range\": [\"black\", \"#ffffff00\"]}, \"type\": \"nominal\"}, \"shape\": {\"field\": \"is_present\", \"type\": \"nominal\"}, \"x\": {\"axis\": {\"domain\": true, \"labels\": true, \"ticks\": true, \"title\": \"time\"}, \"field\": \"time\", \"type\": \"temporal\"}, \"y\": {\"field\": \"value\", \"scale\": {\"zero\": false}, \"title\": \"TA\", \"type\": \"quantitative\"}}}, {\"layer\": [{\"mark\": \"rule\", \"encoding\": {\"x\": {\"axis\": {\"domain\": false, \"labels\": false, \"ticks\": false, \"title\": null}, \"field\": \"gap_start\", \"type\": \"temporal\"}}}, {\"mark\": \"rule\", \"encoding\": {\"x\": {\"axis\": {\"domain\": false, \"labels\": false, \"ticks\": false, \"title\": null}, \"field\": \"gap_end\", \"type\": \"temporal\"}}}, {\"mark\": {\"type\": \"rect\", \"color\": \"black\", \"opacity\": 0.2}, \"encoding\": {\"x\": {\"axis\": {\"domain\": false, \"labels\": false, \"ticks\": false, \"title\": null}, \"field\": \"gap_start\", \"type\": \"temporal\"}, \"x2\": {\"field\": \"gap_end\"}}}], \"data\": {\"name\": \"data-bbb6f35e444b2129e56ea9fab89485cb\"}}, {\"layer\": [{\"mark\": \"errorband\", \"encoding\": {\"color\": {\"field\": \"variable\", \"legend\": {\"title\": [\"Line: pred. mean\", \"area: +/- 2 std\"]}, \"type\": \"nominal\"}, \"x\": {\"field\": \"time\", \"type\": \"temporal\"}, \"y\": {\"field\": \"err_low\", \"scale\": {\"zero\": false}, \"title\": \"TA\", \"type\": \"quantitative\"}, \"y2\": {\"field\": \"err_high\"}}, \"name\": \"view_24\"}, {\"mark\": \"line\", \"encoding\": {\"color\": {\"field\": \"variable\", \"type\": \"nominal\"}, \"x\": {\"field\": \"time\", \"type\": \"temporal\"}, \"y\": {\"field\": \"mean\", \"scale\": {\"zero\": false}, \"title\": \"TA\", \"type\": \"quantitative\"}}}], \"data\": {\"name\": \"data-9ac7840fd9c5dc6110ac11356853713b\"}}], \"height\": 150, \"title\": \"TA\", \"width\": 200}]}, {\"hconcat\": [{\"layer\": [{\"data\": {\"name\": \"data-bdbc18e8952dc676363247b177cef77e\"}, \"mark\": {\"type\": \"point\", \"color\": \"black\", \"fillOpacity\": 1, \"strokeWidth\": 1}, \"encoding\": {\"fill\": {\"field\": \"is_present\", \"legend\": {\"title\": [\"Observed data\"]}, \"scale\": {\"range\": [\"black\", \"#ffffff00\"]}, \"type\": \"nominal\"}, \"shape\": {\"field\": \"is_present\", \"type\": \"nominal\"}, \"x\": {\"axis\": {\"domain\": true, \"labels\": true, \"ticks\": true, \"title\": \"time\"}, \"field\": \"time\", \"type\": \"temporal\"}, \"y\": {\"field\": \"value\", \"scale\": {\"zero\": false}, \"title\": \"SW_IN\", \"type\": \"quantitative\"}}}, {\"layer\": [{\"mark\": \"rule\", \"encoding\": {\"x\": {\"axis\": {\"domain\": false, \"labels\": false, \"ticks\": false, \"title\": null}, \"field\": \"gap_start\", \"type\": \"temporal\"}}}, {\"mark\": \"rule\", \"encoding\": {\"x\": {\"axis\": {\"domain\": false, \"labels\": false, \"ticks\": false, \"title\": null}, \"field\": \"gap_end\", \"type\": \"temporal\"}}}, {\"mark\": {\"type\": \"rect\", \"color\": \"black\", \"opacity\": 0.2}, \"encoding\": {\"x\": {\"axis\": {\"domain\": false, \"labels\": false, \"ticks\": false, \"title\": null}, \"field\": \"gap_start\", \"type\": \"temporal\"}, \"x2\": {\"field\": \"gap_end\"}}}], \"data\": {\"name\": \"data-bbb6f35e444b2129e56ea9fab89485cb\"}}, {\"layer\": [{\"mark\": \"errorband\", \"encoding\": {\"color\": {\"field\": \"variable\", \"legend\": {\"title\": [\"Line: pred. mean\", \"area: +/- 2 std\"]}, \"type\": \"nominal\"}, \"x\": {\"field\": \"time\", \"type\": \"temporal\"}, \"y\": {\"field\": \"err_low\", \"scale\": {\"zero\": false}, \"title\": \"SW_IN\", \"type\": \"quantitative\"}, \"y2\": {\"field\": \"err_high\"}}, \"name\": \"view_25\"}, {\"mark\": \"line\", \"encoding\": {\"color\": {\"field\": \"variable\", \"type\": \"nominal\"}, \"x\": {\"field\": \"time\", \"type\": \"temporal\"}, \"y\": {\"field\": \"mean\", \"scale\": {\"zero\": false}, \"title\": \"SW_IN\", \"type\": \"quantitative\"}}}], \"data\": {\"name\": \"data-bdbc18e8952dc676363247b177cef77e\"}}], \"height\": 150, \"title\": \"SW_IN\", \"width\": 200}]}, {\"hconcat\": [{\"layer\": [{\"mark\": {\"type\": \"point\", \"color\": \"black\", \"fillOpacity\": 1, \"strokeWidth\": 1}, \"encoding\": {\"fill\": {\"field\": \"is_present\", \"legend\": {\"title\": [\"Observed data\"]}, \"scale\": {\"range\": [\"black\", \"#ffffff00\"]}, \"type\": \"nominal\"}, \"shape\": {\"field\": \"is_present\", \"type\": \"nominal\"}, \"x\": {\"axis\": {\"domain\": true, \"labels\": true, \"ticks\": true, \"title\": \"time\"}, \"field\": \"time\", \"type\": \"temporal\"}, \"y\": {\"field\": \"value\", \"scale\": {\"zero\": false}, \"title\": \"VPD\", \"type\": \"quantitative\"}}}, {\"layer\": [{\"mark\": \"errorband\", \"encoding\": {\"color\": {\"field\": \"variable\", \"legend\": {\"title\": [\"Line: pred. mean\", \"area: +/- 2 std\"]}, \"type\": \"nominal\"}, \"x\": {\"field\": \"time\", \"type\": \"temporal\"}, \"y\": {\"field\": \"err_low\", \"scale\": {\"zero\": false}, \"title\": \"VPD\", \"type\": \"quantitative\"}, \"y2\": {\"field\": \"err_high\"}}, \"name\": \"view_26\"}, {\"mark\": \"line\", \"encoding\": {\"color\": {\"field\": \"variable\", \"type\": \"nominal\"}, \"x\": {\"field\": \"time\", \"type\": \"temporal\"}, \"y\": {\"field\": \"mean\", \"scale\": {\"zero\": false}, \"title\": \"VPD\", \"type\": \"quantitative\"}}}]}], \"height\": 150, \"title\": \"VPD\", \"width\": 200}], \"data\": {\"name\": \"data-a29733a6ffd5618edd87c18c36923645\"}}], \"title\": \"loss: 76.154518\"}, {\"vconcat\": [{\"hconcat\": [{\"layer\": [{\"data\": {\"name\": \"data-f8d852173edeaf36ba55fb44ba0e63d5\"}, \"mark\": {\"type\": \"point\", \"color\": \"black\", \"fillOpacity\": 1, \"strokeWidth\": 1}, \"encoding\": {\"fill\": {\"field\": \"is_present\", \"legend\": {\"title\": [\"Observed data\"]}, \"scale\": {\"range\": [\"black\", \"#ffffff00\"]}, \"type\": \"nominal\"}, \"shape\": {\"field\": \"is_present\", \"type\": \"nominal\"}, \"x\": {\"axis\": {\"domain\": true, \"labels\": true, \"ticks\": true, \"title\": \"time\"}, \"field\": \"time\", \"type\": \"temporal\"}, \"y\": {\"field\": \"value\", \"scale\": {\"zero\": false}, \"title\": \"TA\", \"type\": \"quantitative\"}}}, {\"layer\": [{\"mark\": \"rule\", \"encoding\": {\"x\": {\"axis\": {\"domain\": false, \"labels\": false, \"ticks\": false, \"title\": null}, \"field\": \"gap_start\", \"type\": \"temporal\"}}}, {\"mark\": \"rule\", \"encoding\": {\"x\": {\"axis\": {\"domain\": false, \"labels\": false, \"ticks\": false, \"title\": null}, \"field\": \"gap_end\", \"type\": \"temporal\"}}}, {\"mark\": {\"type\": \"rect\", \"color\": \"black\", \"opacity\": 0.2}, \"encoding\": {\"x\": {\"axis\": {\"domain\": false, \"labels\": false, \"ticks\": false, \"title\": null}, \"field\": \"gap_start\", \"type\": \"temporal\"}, \"x2\": {\"field\": \"gap_end\"}}}], \"data\": {\"name\": \"data-3422468b0ab45c022c88ff8da33725ce\"}}, {\"layer\": [{\"mark\": \"errorband\", \"encoding\": {\"color\": {\"field\": \"variable\", \"legend\": {\"title\": [\"Line: pred. mean\", \"area: +/- 2 std\"]}, \"type\": \"nominal\"}, \"x\": {\"field\": \"time\", \"type\": \"temporal\"}, \"y\": {\"field\": \"err_low\", \"scale\": {\"zero\": false}, \"title\": \"TA\", \"type\": \"quantitative\"}, \"y2\": {\"field\": \"err_high\"}}, \"name\": \"view_27\"}, {\"mark\": \"line\", \"encoding\": {\"color\": {\"field\": \"variable\", \"type\": \"nominal\"}, \"x\": {\"field\": \"time\", \"type\": \"temporal\"}, \"y\": {\"field\": \"mean\", \"scale\": {\"zero\": false}, \"title\": \"TA\", \"type\": \"quantitative\"}}}], \"data\": {\"name\": \"data-f8d852173edeaf36ba55fb44ba0e63d5\"}}], \"height\": 150, \"title\": \"TA\", \"width\": 200}]}, {\"hconcat\": [{\"layer\": [{\"data\": {\"name\": \"data-1efa81ea9f5465f009bcb0626326f8c3\"}, \"mark\": {\"type\": \"point\", \"color\": \"black\", \"fillOpacity\": 1, \"strokeWidth\": 1}, \"encoding\": {\"fill\": {\"field\": \"is_present\", \"legend\": {\"title\": [\"Observed data\"]}, \"scale\": {\"range\": [\"black\", \"#ffffff00\"]}, \"type\": \"nominal\"}, \"shape\": {\"field\": \"is_present\", \"type\": \"nominal\"}, \"x\": {\"axis\": {\"domain\": true, \"labels\": true, \"ticks\": true, \"title\": \"time\"}, \"field\": \"time\", \"type\": \"temporal\"}, \"y\": {\"field\": \"value\", \"scale\": {\"zero\": false}, \"title\": \"SW_IN\", \"type\": \"quantitative\"}}}, {\"layer\": [{\"mark\": \"rule\", \"encoding\": {\"x\": {\"axis\": {\"domain\": false, \"labels\": false, \"ticks\": false, \"title\": null}, \"field\": \"gap_start\", \"type\": \"temporal\"}}}, {\"mark\": \"rule\", \"encoding\": {\"x\": {\"axis\": {\"domain\": false, \"labels\": false, \"ticks\": false, \"title\": null}, \"field\": \"gap_end\", \"type\": \"temporal\"}}}, {\"mark\": {\"type\": \"rect\", \"color\": \"black\", \"opacity\": 0.2}, \"encoding\": {\"x\": {\"axis\": {\"domain\": false, \"labels\": false, \"ticks\": false, \"title\": null}, \"field\": \"gap_start\", \"type\": \"temporal\"}, \"x2\": {\"field\": \"gap_end\"}}}], \"data\": {\"name\": \"data-3422468b0ab45c022c88ff8da33725ce\"}}, {\"layer\": [{\"mark\": \"errorband\", \"encoding\": {\"color\": {\"field\": \"variable\", \"legend\": {\"title\": [\"Line: pred. mean\", \"area: +/- 2 std\"]}, \"type\": \"nominal\"}, \"x\": {\"field\": \"time\", \"type\": \"temporal\"}, \"y\": {\"field\": \"err_low\", \"scale\": {\"zero\": false}, \"title\": \"SW_IN\", \"type\": \"quantitative\"}, \"y2\": {\"field\": \"err_high\"}}, \"name\": \"view_28\"}, {\"mark\": \"line\", \"encoding\": {\"color\": {\"field\": \"variable\", \"type\": \"nominal\"}, \"x\": {\"field\": \"time\", \"type\": \"temporal\"}, \"y\": {\"field\": \"mean\", \"scale\": {\"zero\": false}, \"title\": \"SW_IN\", \"type\": \"quantitative\"}}}], \"data\": {\"name\": \"data-1efa81ea9f5465f009bcb0626326f8c3\"}}], \"height\": 150, \"title\": \"SW_IN\", \"width\": 200}]}, {\"hconcat\": [{\"layer\": [{\"mark\": {\"type\": \"point\", \"color\": \"black\", \"fillOpacity\": 1, \"strokeWidth\": 1}, \"encoding\": {\"fill\": {\"field\": \"is_present\", \"legend\": {\"title\": [\"Observed data\"]}, \"scale\": {\"range\": [\"black\", \"#ffffff00\"]}, \"type\": \"nominal\"}, \"shape\": {\"field\": \"is_present\", \"type\": \"nominal\"}, \"x\": {\"axis\": {\"domain\": true, \"labels\": true, \"ticks\": true, \"title\": \"time\"}, \"field\": \"time\", \"type\": \"temporal\"}, \"y\": {\"field\": \"value\", \"scale\": {\"zero\": false}, \"title\": \"VPD\", \"type\": \"quantitative\"}}}, {\"layer\": [{\"mark\": \"errorband\", \"encoding\": {\"color\": {\"field\": \"variable\", \"legend\": {\"title\": [\"Line: pred. mean\", \"area: +/- 2 std\"]}, \"type\": \"nominal\"}, \"x\": {\"field\": \"time\", \"type\": \"temporal\"}, \"y\": {\"field\": \"err_low\", \"scale\": {\"zero\": false}, \"title\": \"VPD\", \"type\": \"quantitative\"}, \"y2\": {\"field\": \"err_high\"}}, \"name\": \"view_29\"}, {\"mark\": \"line\", \"encoding\": {\"color\": {\"field\": \"variable\", \"type\": \"nominal\"}, \"x\": {\"field\": \"time\", \"type\": \"temporal\"}, \"y\": {\"field\": \"mean\", \"scale\": {\"zero\": false}, \"title\": \"VPD\", \"type\": \"quantitative\"}}}]}], \"height\": 150, \"title\": \"VPD\", \"width\": 200}], \"data\": {\"name\": \"data-c36308f8f9c09254999f92419bd09652\"}}], \"title\": \"loss: 45.825085\"}, {\"vconcat\": [{\"hconcat\": [{\"layer\": [{\"data\": {\"name\": \"data-f8913cc89ddc4b6bc6aa7a05b502810e\"}, \"mark\": {\"type\": \"point\", \"color\": \"black\", \"fillOpacity\": 1, \"strokeWidth\": 1}, \"encoding\": {\"fill\": {\"field\": \"is_present\", \"legend\": {\"title\": [\"Observed data\"]}, \"scale\": {\"range\": [\"black\", \"#ffffff00\"]}, \"type\": \"nominal\"}, \"shape\": {\"field\": \"is_present\", \"type\": \"nominal\"}, \"x\": {\"axis\": {\"domain\": true, \"labels\": true, \"ticks\": true, \"title\": \"time\"}, \"field\": \"time\", \"type\": \"temporal\"}, \"y\": {\"field\": \"value\", \"scale\": {\"zero\": false}, \"title\": \"TA\", \"type\": \"quantitative\"}}}, {\"layer\": [{\"mark\": \"rule\", \"encoding\": {\"x\": {\"axis\": {\"domain\": false, \"labels\": false, \"ticks\": false, \"title\": null}, \"field\": \"gap_start\", \"type\": \"temporal\"}}}, {\"mark\": \"rule\", \"encoding\": {\"x\": {\"axis\": {\"domain\": false, \"labels\": false, \"ticks\": false, \"title\": null}, \"field\": \"gap_end\", \"type\": \"temporal\"}}}, {\"mark\": {\"type\": \"rect\", \"color\": \"black\", \"opacity\": 0.2}, \"encoding\": {\"x\": {\"axis\": {\"domain\": false, \"labels\": false, \"ticks\": false, \"title\": null}, \"field\": \"gap_start\", \"type\": \"temporal\"}, \"x2\": {\"field\": \"gap_end\"}}}], \"data\": {\"name\": \"data-57e8b0f7ee37aceabdf1fc93a9a3bc66\"}}, {\"layer\": [{\"mark\": \"errorband\", \"encoding\": {\"color\": {\"field\": \"variable\", \"legend\": {\"title\": [\"Line: pred. mean\", \"area: +/- 2 std\"]}, \"type\": \"nominal\"}, \"x\": {\"field\": \"time\", \"type\": \"temporal\"}, \"y\": {\"field\": \"err_low\", \"scale\": {\"zero\": false}, \"title\": \"TA\", \"type\": \"quantitative\"}, \"y2\": {\"field\": \"err_high\"}}, \"name\": \"view_30\"}, {\"mark\": \"line\", \"encoding\": {\"color\": {\"field\": \"variable\", \"type\": \"nominal\"}, \"x\": {\"field\": \"time\", \"type\": \"temporal\"}, \"y\": {\"field\": \"mean\", \"scale\": {\"zero\": false}, \"title\": \"TA\", \"type\": \"quantitative\"}}}], \"data\": {\"name\": \"data-f8913cc89ddc4b6bc6aa7a05b502810e\"}}], \"height\": 150, \"title\": \"TA\", \"width\": 200}]}, {\"hconcat\": [{\"layer\": [{\"data\": {\"name\": \"data-f1a69ca46ed94535a7e8837f9c319f1b\"}, \"mark\": {\"type\": \"point\", \"color\": \"black\", \"fillOpacity\": 1, \"strokeWidth\": 1}, \"encoding\": {\"fill\": {\"field\": \"is_present\", \"legend\": {\"title\": [\"Observed data\"]}, \"scale\": {\"range\": [\"black\", \"#ffffff00\"]}, \"type\": \"nominal\"}, \"shape\": {\"field\": \"is_present\", \"type\": \"nominal\"}, \"x\": {\"axis\": {\"domain\": true, \"labels\": true, \"ticks\": true, \"title\": \"time\"}, \"field\": \"time\", \"type\": \"temporal\"}, \"y\": {\"field\": \"value\", \"scale\": {\"zero\": false}, \"title\": \"SW_IN\", \"type\": \"quantitative\"}}}, {\"layer\": [{\"mark\": \"rule\", \"encoding\": {\"x\": {\"axis\": {\"domain\": false, \"labels\": false, \"ticks\": false, \"title\": null}, \"field\": \"gap_start\", \"type\": \"temporal\"}}}, {\"mark\": \"rule\", \"encoding\": {\"x\": {\"axis\": {\"domain\": false, \"labels\": false, \"ticks\": false, \"title\": null}, \"field\": \"gap_end\", \"type\": \"temporal\"}}}, {\"mark\": {\"type\": \"rect\", \"color\": \"black\", \"opacity\": 0.2}, \"encoding\": {\"x\": {\"axis\": {\"domain\": false, \"labels\": false, \"ticks\": false, \"title\": null}, \"field\": \"gap_start\", \"type\": \"temporal\"}, \"x2\": {\"field\": \"gap_end\"}}}], \"data\": {\"name\": \"data-57e8b0f7ee37aceabdf1fc93a9a3bc66\"}}, {\"layer\": [{\"mark\": \"errorband\", \"encoding\": {\"color\": {\"field\": \"variable\", \"legend\": {\"title\": [\"Line: pred. mean\", \"area: +/- 2 std\"]}, \"type\": \"nominal\"}, \"x\": {\"field\": \"time\", \"type\": \"temporal\"}, \"y\": {\"field\": \"err_low\", \"scale\": {\"zero\": false}, \"title\": \"SW_IN\", \"type\": \"quantitative\"}, \"y2\": {\"field\": \"err_high\"}}, \"name\": \"view_31\"}, {\"mark\": \"line\", \"encoding\": {\"color\": {\"field\": \"variable\", \"type\": \"nominal\"}, \"x\": {\"field\": \"time\", \"type\": \"temporal\"}, \"y\": {\"field\": \"mean\", \"scale\": {\"zero\": false}, \"title\": \"SW_IN\", \"type\": \"quantitative\"}}}], \"data\": {\"name\": \"data-f1a69ca46ed94535a7e8837f9c319f1b\"}}], \"height\": 150, \"title\": \"SW_IN\", \"width\": 200}]}, {\"hconcat\": [{\"layer\": [{\"mark\": {\"type\": \"point\", \"color\": \"black\", \"fillOpacity\": 1, \"strokeWidth\": 1}, \"encoding\": {\"fill\": {\"field\": \"is_present\", \"legend\": {\"title\": [\"Observed data\"]}, \"scale\": {\"range\": [\"black\", \"#ffffff00\"]}, \"type\": \"nominal\"}, \"shape\": {\"field\": \"is_present\", \"type\": \"nominal\"}, \"x\": {\"axis\": {\"domain\": true, \"labels\": true, \"ticks\": true, \"title\": \"time\"}, \"field\": \"time\", \"type\": \"temporal\"}, \"y\": {\"field\": \"value\", \"scale\": {\"zero\": false}, \"title\": \"VPD\", \"type\": \"quantitative\"}}}, {\"layer\": [{\"mark\": \"errorband\", \"encoding\": {\"color\": {\"field\": \"variable\", \"legend\": {\"title\": [\"Line: pred. mean\", \"area: +/- 2 std\"]}, \"type\": \"nominal\"}, \"x\": {\"field\": \"time\", \"type\": \"temporal\"}, \"y\": {\"field\": \"err_low\", \"scale\": {\"zero\": false}, \"title\": \"VPD\", \"type\": \"quantitative\"}, \"y2\": {\"field\": \"err_high\"}}, \"name\": \"view_32\"}, {\"mark\": \"line\", \"encoding\": {\"color\": {\"field\": \"variable\", \"type\": \"nominal\"}, \"x\": {\"field\": \"time\", \"type\": \"temporal\"}, \"y\": {\"field\": \"mean\", \"scale\": {\"zero\": false}, \"title\": \"VPD\", \"type\": \"quantitative\"}}}]}], \"height\": 150, \"title\": \"VPD\", \"width\": 200}], \"data\": {\"name\": \"data-82c724a35025f143dd24fc9765b42a75\"}}], \"title\": \"loss: 40.720901\"}], \"params\": [{\"name\": \"param_35\", \"select\": {\"type\": \"interval\", \"encodings\": [\"x\"]}, \"bind\": \"scales\", \"views\": [\"view_24\", \"view_25\", \"view_26\"]}, {\"name\": \"param_39\", \"select\": {\"type\": \"interval\", \"encodings\": [\"x\"]}, \"bind\": \"scales\", \"views\": [\"view_27\", \"view_28\", \"view_29\"]}, {\"name\": \"param_43\", \"select\": {\"type\": \"interval\", \"encodings\": [\"x\"]}, \"bind\": \"scales\", \"views\": [\"view_30\", \"view_31\", \"view_32\"]}], \"$schema\": \"https://vega.github.io/schema/vega-lite/v5.2.0.json\", \"datasets\": {\"data-9ac7840fd9c5dc6110ac11356853713b\": [{\"time\": \"2000-01-06T06:00:00\", \"variable\": \"TA\", \"value\": 1.8799999952316284, \"is_present\": true, \"mean\": 10.065136909484863, \"std\": 9.793396949768066, \"err_low\": -9.52165699005127, \"err_high\": 29.651931762695312}, {\"time\": \"2000-01-06T06:30:00\", \"variable\": \"TA\", \"value\": 1.9500000476837158, \"is_present\": true, \"mean\": -11.184671401977539, \"std\": 12.213493347167969, \"err_low\": -35.611656188964844, \"err_high\": 13.242315292358398}, {\"time\": \"2000-01-06T07:00:00\", \"variable\": \"TA\", \"value\": 0.75, \"is_present\": true, \"mean\": -15.592449188232422, \"std\": 12.501810073852539, \"err_low\": -40.5960693359375, \"err_high\": 9.411170959472656}, {\"time\": \"2000-01-06T07:30:00\", \"variable\": \"TA\", \"value\": 0.2800000011920929, \"is_present\": true, \"mean\": -16.67320442199707, \"std\": 12.501404762268066, \"err_low\": -41.6760139465332, \"err_high\": 8.329605102539062}, {\"time\": \"2000-01-06T08:00:00\", \"variable\": \"TA\", \"value\": 0.09000000357627869, \"is_present\": false, \"mean\": -17.006118774414062, \"std\": 12.50147533416748, \"err_low\": -42.009071350097656, \"err_high\": 7.996831893920898}, {\"time\": \"2000-01-06T08:30:00\", \"variable\": \"TA\", \"value\": -0.09000000357627869, \"is_present\": false, \"mean\": -17.254825592041016, \"std\": 12.680145263671875, \"err_low\": -42.615116119384766, \"err_high\": 8.105464935302734}, {\"time\": \"2000-01-06T09:00:00\", \"variable\": \"TA\", \"value\": -0.09000000357627869, \"is_present\": true, \"mean\": -16.670347213745117, \"std\": 12.680997848510742, \"err_low\": -42.03234100341797, \"err_high\": 8.691648483276367}, {\"time\": \"2000-01-06T09:30:00\", \"variable\": \"TA\", \"value\": -0.019999999552965164, \"is_present\": true, \"mean\": -14.980167388916016, \"std\": 12.501702308654785, \"err_low\": -39.98357391357422, \"err_high\": 10.023237228393555}, {\"time\": \"2000-01-06T10:00:00\", \"variable\": \"TA\", \"value\": 0.0, \"is_present\": true, \"mean\": -13.373960494995117, \"std\": 12.501424789428711, \"err_low\": -38.376808166503906, \"err_high\": 11.628889083862305}, {\"time\": \"2000-01-06T10:30:00\", \"variable\": \"TA\", \"value\": 0.07000000029802322, \"is_present\": true, \"mean\": -11.128032684326172, \"std\": 12.501419067382812, \"err_low\": -36.1308708190918, \"err_high\": 13.874805450439453}], \"data-bbb6f35e444b2129e56ea9fab89485cb\": [{\"gap_start\": \"2000-01-06T08:00:00\", \"gap_end\": \"2000-01-06T08:30:00\"}], \"data-bdbc18e8952dc676363247b177cef77e\": [{\"time\": \"2000-01-06T06:00:00\", \"variable\": \"SW_IN\", \"value\": 0.0, \"is_present\": true, \"mean\": 249.1461181640625, \"std\": 163.63638305664062, \"err_low\": -78.12664794921875, \"err_high\": 576.4188842773438}, {\"time\": \"2000-01-06T06:30:00\", \"variable\": \"SW_IN\", \"value\": 0.0, \"is_present\": true, \"mean\": 90.57998657226562, \"std\": 171.573974609375, \"err_low\": -252.56796264648438, \"err_high\": 433.7279357910156}, {\"time\": \"2000-01-06T07:00:00\", \"variable\": \"SW_IN\", \"value\": 0.0, \"is_present\": true, \"mean\": 43.59075927734375, \"std\": 172.4852752685547, \"err_low\": -301.3797912597656, \"err_high\": 388.5613098144531}, {\"time\": \"2000-01-06T07:30:00\", \"variable\": \"SW_IN\", \"value\": 0.0, \"is_present\": true, \"mean\": 26.68944549560547, \"std\": 172.44216918945312, \"err_low\": -318.19488525390625, \"err_high\": 371.57379150390625}, {\"time\": \"2000-01-06T08:00:00\", \"variable\": \"SW_IN\", \"value\": 0.0, \"is_present\": false, \"mean\": 19.651123046875, \"std\": 172.42825317382812, \"err_low\": -325.20538330078125, \"err_high\": 364.50762939453125}, {\"time\": \"2000-01-06T08:30:00\", \"variable\": \"SW_IN\", \"value\": 2.2899999618530273, \"is_present\": false, \"mean\": 16.26793670654297, \"std\": 172.73562622070312, \"err_low\": -329.20330810546875, \"err_high\": 361.73919677734375}, {\"time\": \"2000-01-06T09:00:00\", \"variable\": \"SW_IN\", \"value\": 14.210000038146973, \"is_present\": true, \"mean\": 19.73279571533203, \"std\": 172.73350524902344, \"err_low\": -325.7342224121094, \"err_high\": 365.1997985839844}, {\"time\": \"2000-01-06T09:30:00\", \"variable\": \"SW_IN\", \"value\": 27.149999618530273, \"is_present\": true, \"mean\": 30.016876220703125, \"std\": 172.42202758789062, \"err_low\": -314.8271789550781, \"err_high\": 374.8609313964844}, {\"time\": \"2000-01-06T10:00:00\", \"variable\": \"SW_IN\", \"value\": 45.70000076293945, \"is_present\": true, \"mean\": 40.09014129638672, \"std\": 172.42166137695312, \"err_low\": -304.753173828125, \"err_high\": 384.9334716796875}, {\"time\": \"2000-01-06T10:30:00\", \"variable\": \"SW_IN\", \"value\": 88.8499984741211, \"is_present\": true, \"mean\": 55.36788558959961, \"std\": 172.4209747314453, \"err_low\": -289.47406005859375, \"err_high\": 400.2098388671875}], \"data-a29733a6ffd5618edd87c18c36923645\": [{\"time\": \"2000-01-06T06:00:00\", \"variable\": \"VPD\", \"value\": 0.33799999952316284, \"is_present\": true, \"mean\": 3.8102903366088867, \"std\": 7.697399616241455, \"err_low\": -11.584508895874023, \"err_high\": 19.205089569091797}, {\"time\": \"2000-01-06T06:30:00\", \"variable\": \"VPD\", \"value\": 0.4059999883174896, \"is_present\": true, \"mean\": -14.751208305358887, \"std\": 11.02756404876709, \"err_low\": -36.80633544921875, \"err_high\": 7.303919792175293}, {\"time\": \"2000-01-06T07:00:00\", \"variable\": \"VPD\", \"value\": 0.1550000011920929, \"is_present\": true, \"mean\": -17.259525299072266, \"std\": 11.220937728881836, \"err_low\": -39.70140075683594, \"err_high\": 5.182350158691406}, {\"time\": \"2000-01-06T07:30:00\", \"variable\": \"VPD\", \"value\": 0.0560000017285347, \"is_present\": true, \"mean\": -17.439987182617188, \"std\": 11.218018531799316, \"err_low\": -39.87602233886719, \"err_high\": 4.996049880981445}, {\"time\": \"2000-01-06T08:00:00\", \"variable\": \"VPD\", \"value\": 0.03099999949336052, \"is_present\": true, \"mean\": -17.296403884887695, \"std\": 11.217094421386719, \"err_low\": -39.7305908203125, \"err_high\": 5.137784957885742}, {\"time\": \"2000-01-06T08:30:00\", \"variable\": \"VPD\", \"value\": 0.019999999552965164, \"is_present\": true, \"mean\": -17.37795066833496, \"std\": 11.433867454528809, \"err_low\": -40.24568557739258, \"err_high\": 5.489784240722656}, {\"time\": \"2000-01-06T09:00:00\", \"variable\": \"VPD\", \"value\": 0.012000000104308128, \"is_present\": true, \"mean\": -16.677778244018555, \"std\": 11.436610221862793, \"err_low\": -39.55099868774414, \"err_high\": 6.195442199707031}, {\"time\": \"2000-01-06T09:30:00\", \"variable\": \"VPD\", \"value\": 0.012000000104308128, \"is_present\": true, \"mean\": -14.815442085266113, \"std\": 11.218379020690918, \"err_low\": -37.252201080322266, \"err_high\": 7.621315956115723}, {\"time\": \"2000-01-06T10:00:00\", \"variable\": \"VPD\", \"value\": 0.006000000052154064, \"is_present\": true, \"mean\": -13.055500030517578, \"std\": 11.21695327758789, \"err_low\": -35.48940658569336, \"err_high\": 9.378406524658203}, {\"time\": \"2000-01-06T10:30:00\", \"variable\": \"VPD\", \"value\": 0.006000000052154064, \"is_present\": true, \"mean\": -10.605499267578125, \"std\": 11.216805458068848, \"err_low\": -33.03910827636719, \"err_high\": 11.82811164855957}], \"data-f8d852173edeaf36ba55fb44ba0e63d5\": [{\"time\": \"2000-11-02T07:00:00\", \"variable\": \"TA\", \"value\": 3.940000057220459, \"is_present\": true, \"mean\": 10.065136909484863, \"std\": 9.793396949768066, \"err_low\": -9.52165699005127, \"err_high\": 29.651931762695312}, {\"time\": \"2000-11-02T07:30:00\", \"variable\": \"TA\", \"value\": 4.400000095367432, \"is_present\": false, \"mean\": -5.472280025482178, \"std\": 12.213493347167969, \"err_low\": -29.899267196655273, \"err_high\": 18.9547061920166}, {\"time\": \"2000-11-02T08:00:00\", \"variable\": \"TA\", \"value\": 4.650000095367432, \"is_present\": false, \"mean\": -7.59071683883667, \"std\": 12.678725242614746, \"err_low\": -32.94816589355469, \"err_high\": 17.766733169555664}, {\"time\": \"2000-11-02T08:30:00\", \"variable\": \"TA\", \"value\": 4.980000019073486, \"is_present\": true, \"mean\": -5.62018346786499, \"std\": 12.681705474853516, \"err_low\": -30.98359489440918, \"err_high\": 19.743227005004883}, {\"time\": \"2000-11-02T09:00:00\", \"variable\": \"TA\", \"value\": 5.489999771118164, \"is_present\": true, \"mean\": -2.991584300994873, \"std\": 12.501773834228516, \"err_low\": -27.995132446289062, \"err_high\": 22.011962890625}, {\"time\": \"2000-11-02T09:30:00\", \"variable\": \"TA\", \"value\": 5.880000114440918, \"is_present\": true, \"mean\": -0.472445011138916, \"std\": 12.501443862915039, \"err_low\": -25.475332260131836, \"err_high\": 24.53044319152832}, {\"time\": \"2000-11-02T10:00:00\", \"variable\": \"TA\", \"value\": 6.349999904632568, \"is_present\": true, \"mean\": 2.0039143562316895, \"std\": 12.501424789428711, \"err_low\": -22.99893569946289, \"err_high\": 27.006763458251953}, {\"time\": \"2000-11-02T10:30:00\", \"variable\": \"TA\", \"value\": 6.699999809265137, \"is_present\": true, \"mean\": 4.616649627685547, \"std\": 12.50141716003418, \"err_low\": -20.386184692382812, \"err_high\": 29.619483947753906}, {\"time\": \"2000-11-02T11:00:00\", \"variable\": \"TA\", \"value\": 6.96999979019165, \"is_present\": true, \"mean\": 7.004215717315674, \"std\": 12.501416206359863, \"err_low\": -17.99861717224121, \"err_high\": 32.007049560546875}, {\"time\": \"2000-11-02T11:30:00\", \"variable\": \"TA\", \"value\": 7.510000228881836, \"is_present\": true, \"mean\": 9.446208953857422, \"std\": 12.501416206359863, \"err_low\": -15.556623458862305, \"err_high\": 34.44904327392578}], \"data-3422468b0ab45c022c88ff8da33725ce\": [{\"gap_start\": \"2000-11-02T07:30:00\", \"gap_end\": \"2000-11-02T08:00:00\"}], \"data-1efa81ea9f5465f009bcb0626326f8c3\": [{\"time\": \"2000-11-02T07:00:00\", \"variable\": \"SW_IN\", \"value\": 0.0, \"is_present\": true, \"mean\": 249.1461181640625, \"std\": 163.63638305664062, \"err_low\": -78.12664794921875, \"err_high\": 576.4188842773438}, {\"time\": \"2000-11-02T07:30:00\", \"variable\": \"SW_IN\", \"value\": 1.340000033378601, \"is_present\": false, \"mean\": 131.55340576171875, \"std\": 171.573974609375, \"err_low\": -211.59454345703125, \"err_high\": 474.70135498046875}, {\"time\": \"2000-11-02T08:00:00\", \"variable\": \"SW_IN\", \"value\": 15.229999542236328, \"is_present\": false, \"mean\": 107.40833282470703, \"std\": 172.80250549316406, \"err_low\": -238.19668579101562, \"err_high\": 453.0133361816406}, {\"time\": \"2000-11-02T08:30:00\", \"variable\": \"SW_IN\", \"value\": 40.72999954223633, \"is_present\": true, \"mean\": 113.8165283203125, \"std\": 172.76324462890625, \"err_low\": -231.7099609375, \"err_high\": 459.343017578125}, {\"time\": \"2000-11-02T09:00:00\", \"variable\": \"SW_IN\", \"value\": 75.83999633789062, \"is_present\": true, \"mean\": 126.9537353515625, \"std\": 172.4293975830078, \"err_low\": -217.90505981445312, \"err_high\": 471.8125305175781}, {\"time\": \"2000-11-02T09:30:00\", \"variable\": \"SW_IN\", \"value\": 117.45999908447266, \"is_present\": true, \"mean\": 141.55381774902344, \"std\": 172.4239501953125, \"err_low\": -203.29408264160156, \"err_high\": 486.4017333984375}, {\"time\": \"2000-11-02T10:00:00\", \"variable\": \"SW_IN\", \"value\": 143.77999877929688, \"is_present\": true, \"mean\": 156.82476806640625, \"std\": 172.4217071533203, \"err_low\": -188.01864624023438, \"err_high\": 501.6681823730469}, {\"time\": \"2000-11-02T10:30:00\", \"variable\": \"SW_IN\", \"value\": 73.36000061035156, \"is_present\": true, \"mean\": 174.8397216796875, \"std\": 172.4208526611328, \"err_low\": -170.00198364257812, \"err_high\": 519.681396484375}, {\"time\": \"2000-11-02T11:00:00\", \"variable\": \"SW_IN\", \"value\": 148.25, \"is_present\": true, \"mean\": 191.42926025390625, \"std\": 172.42056274414062, \"err_low\": -153.411865234375, \"err_high\": 536.2703857421875}, {\"time\": \"2000-11-02T11:30:00\", \"variable\": \"SW_IN\", \"value\": 136.64999389648438, \"is_present\": true, \"mean\": 209.32298278808594, \"std\": 172.42047119140625, \"err_low\": -135.51795959472656, \"err_high\": 554.1639404296875}], \"data-c36308f8f9c09254999f92419bd09652\": [{\"time\": \"2000-11-02T07:00:00\", \"variable\": \"VPD\", \"value\": 0.7480000257492065, \"is_present\": true, \"mean\": 3.8102903366088867, \"std\": 7.697399616241455, \"err_low\": -11.584508895874023, \"err_high\": 19.205089569091797}, {\"time\": \"2000-11-02T07:30:00\", \"variable\": \"VPD\", \"value\": 0.9150000214576721, \"is_present\": true, \"mean\": -9.969090461730957, \"std\": 11.02756404876709, \"err_low\": -32.02421951293945, \"err_high\": 12.086037635803223}, {\"time\": \"2000-11-02T08:00:00\", \"variable\": \"VPD\", \"value\": 1.0529999732971191, \"is_present\": true, \"mean\": -10.618060111999512, \"std\": 11.432899475097656, \"err_low\": -33.48386001586914, \"err_high\": 12.2477388381958}, {\"time\": \"2000-11-02T08:30:00\", \"variable\": \"VPD\", \"value\": 1.0399999618530273, \"is_present\": true, \"mean\": -7.90714168548584, \"std\": 11.436600685119629, \"err_low\": -30.78034210205078, \"err_high\": 14.966059684753418}, {\"time\": \"2000-11-02T09:00:00\", \"variable\": \"VPD\", \"value\": 1.0110000371932983, \"is_present\": true, \"mean\": -4.7876996994018555, \"std\": 11.218608856201172, \"err_low\": -27.224918365478516, \"err_high\": 17.649517059326172}, {\"time\": \"2000-11-02T09:30:00\", \"variable\": \"VPD\", \"value\": 1.0920000076293945, \"is_present\": true, \"mean\": -1.989431619644165, \"std\": 11.217042922973633, \"err_low\": -24.42351722717285, \"err_high\": 20.44465446472168}, {\"time\": \"2000-11-02T10:00:00\", \"variable\": \"VPD\", \"value\": 0.984000027179718, \"is_present\": true, \"mean\": 0.6544086933135986, \"std\": 11.216835021972656, \"err_low\": -21.779260635375977, \"err_high\": 23.08807945251465}, {\"time\": \"2000-11-02T10:30:00\", \"variable\": \"VPD\", \"value\": 0.9819999933242798, \"is_present\": true, \"mean\": 3.3872246742248535, \"std\": 11.216796875, \"err_low\": -19.046369552612305, \"err_high\": 25.820817947387695}, {\"time\": \"2000-11-02T11:00:00\", \"variable\": \"VPD\", \"value\": 0.8199999928474426, \"is_present\": true, \"mean\": 5.882907867431641, \"std\": 11.21678638458252, \"err_low\": -16.5506649017334, \"err_high\": 28.31648063659668}, {\"time\": \"2000-11-02T11:30:00\", \"variable\": \"VPD\", \"value\": 1.2690000534057617, \"is_present\": true, \"mean\": 8.206687927246094, \"std\": 11.216784477233887, \"err_low\": -14.22688102722168, \"err_high\": 30.640256881713867}], \"data-f8913cc89ddc4b6bc6aa7a05b502810e\": [{\"time\": \"2000-02-15T11:00:00\", \"variable\": \"TA\", \"value\": 4.710000038146973, \"is_present\": true, \"mean\": 10.065136909484863, \"std\": 9.793396949768066, \"err_low\": -9.52165699005127, \"err_high\": 29.651931762695312}, {\"time\": \"2000-02-15T11:30:00\", \"variable\": \"TA\", \"value\": 4.920000076293945, \"is_present\": true, \"mean\": 0.07375717163085938, \"std\": 12.213493347167969, \"err_low\": -24.353229522705078, \"err_high\": 24.500743865966797}, {\"time\": \"2000-02-15T12:00:00\", \"variable\": \"TA\", \"value\": 5.019999980926514, \"is_present\": true, \"mean\": -1.3283991813659668, \"std\": 12.501810073852539, \"err_low\": -26.332019805908203, \"err_high\": 23.675220489501953}, {\"time\": \"2000-02-15T12:30:00\", \"variable\": \"TA\", \"value\": 4.980000019073486, \"is_present\": true, \"mean\": -1.1297411918640137, \"std\": 12.501404762268066, \"err_low\": -26.132551193237305, \"err_high\": 23.87306785583496}, {\"time\": \"2000-02-15T13:00:00\", \"variable\": \"TA\", \"value\": 4.949999809265137, \"is_present\": true, \"mean\": -0.9756979942321777, \"std\": 12.50147533416748, \"err_low\": -25.978649139404297, \"err_high\": 24.027252197265625}, {\"time\": \"2000-02-15T13:30:00\", \"variable\": \"TA\", \"value\": 5.010000228881836, \"is_present\": true, \"mean\": -0.35921335220336914, \"std\": 12.501433372497559, \"err_low\": -25.362079620361328, \"err_high\": 24.643653869628906}, {\"time\": \"2000-02-15T14:00:00\", \"variable\": \"TA\", \"value\": 5.150000095367432, \"is_present\": true, \"mean\": 0.08445453643798828, \"std\": 12.501421928405762, \"err_low\": -24.91838836669922, \"err_high\": 25.087299346923828}, {\"time\": \"2000-02-15T14:30:00\", \"variable\": \"TA\", \"value\": 5.230000019073486, \"is_present\": false, \"mean\": -0.1920790672302246, \"std\": 12.501418113708496, \"err_low\": -25.194915771484375, \"err_high\": 24.81075668334961}, {\"time\": \"2000-02-15T15:00:00\", \"variable\": \"TA\", \"value\": 5.199999809265137, \"is_present\": false, \"mean\": -1.4367146492004395, \"std\": 12.680036544799805, \"err_low\": -26.79678726196289, \"err_high\": 23.923358917236328}, {\"time\": \"2000-02-15T15:30:00\", \"variable\": \"TA\", \"value\": 5.079999923706055, \"is_present\": true, \"mean\": -2.270974636077881, \"std\": 12.68095588684082, \"err_low\": -27.63288688659668, \"err_high\": 23.0909366607666}], \"data-57e8b0f7ee37aceabdf1fc93a9a3bc66\": [{\"gap_start\": \"2000-02-15T14:30:00\", \"gap_end\": \"2000-02-15T15:00:00\"}], \"data-f1a69ca46ed94535a7e8837f9c319f1b\": [{\"time\": \"2000-02-15T11:00:00\", \"variable\": \"SW_IN\", \"value\": 29.25, \"is_present\": true, \"mean\": 249.1461181640625, \"std\": 163.63638305664062, \"err_low\": -78.12664794921875, \"err_high\": 576.4188842773438}, {\"time\": \"2000-02-15T11:30:00\", \"variable\": \"SW_IN\", \"value\": 30.90999984741211, \"is_present\": true, \"mean\": 168.213134765625, \"std\": 171.573974609375, \"err_low\": -174.934814453125, \"err_high\": 511.361083984375}, {\"time\": \"2000-02-15T12:00:00\", \"variable\": \"SW_IN\", \"value\": 22.43000030517578, \"is_present\": true, \"mean\": 143.58103942871094, \"std\": 172.4852752685547, \"err_low\": -201.38951110839844, \"err_high\": 488.55157470703125}, {\"time\": \"2000-02-15T12:30:00\", \"variable\": \"SW_IN\", \"value\": 29.889999389648438, \"is_present\": true, \"mean\": 136.1724090576172, \"std\": 172.44216918945312, \"err_low\": -208.71192932128906, \"err_high\": 481.0567626953125}, {\"time\": \"2000-02-15T13:00:00\", \"variable\": \"SW_IN\", \"value\": 19.25, \"is_present\": true, \"mean\": 132.7288818359375, \"std\": 172.42825317382812, \"err_low\": -212.12762451171875, \"err_high\": 477.58538818359375}, {\"time\": \"2000-02-15T13:30:00\", \"variable\": \"SW_IN\", \"value\": 13.449999809265137, \"is_present\": true, \"mean\": 135.59706115722656, \"std\": 172.42294311523438, \"err_low\": -209.2488250732422, \"err_high\": 480.44293212890625}, {\"time\": \"2000-02-15T14:00:00\", \"variable\": \"SW_IN\", \"value\": 17.530000686645508, \"is_present\": true, \"mean\": 136.39083862304688, \"std\": 172.42124938964844, \"err_low\": -208.45166015625, \"err_high\": 481.23333740234375}, {\"time\": \"2000-02-15T14:30:00\", \"variable\": \"SW_IN\", \"value\": 35.18000030517578, \"is_present\": false, \"mean\": 133.59861755371094, \"std\": 172.4207000732422, \"err_low\": -211.24278259277344, \"err_high\": 478.44000244140625}, {\"time\": \"2000-02-15T15:00:00\", \"variable\": \"SW_IN\", \"value\": 24.40999984741211, \"is_present\": false, \"mean\": 126.61121368408203, \"std\": 172.73228454589844, \"err_low\": -218.85336303710938, \"err_high\": 472.0757751464844}, {\"time\": \"2000-02-15T15:30:00\", \"variable\": \"SW_IN\", \"value\": 22.43000030517578, \"is_present\": true, \"mean\": 121.8487319946289, \"std\": 172.73240661621094, \"err_low\": -223.6160888671875, \"err_high\": 467.31353759765625}], \"data-82c724a35025f143dd24fc9765b42a75\": [{\"time\": \"2000-02-15T11:00:00\", \"variable\": \"VPD\", \"value\": 0.37599998712539673, \"is_present\": true, \"mean\": 3.8102903366088867, \"std\": 7.697399616241455, \"err_low\": -11.584508895874023, \"err_high\": 19.205089569091797}, {\"time\": \"2000-02-15T11:30:00\", \"variable\": \"VPD\", \"value\": 0.4659999907016754, \"is_present\": true, \"mean\": -3.4111826419830322, \"std\": 11.02756404876709, \"err_low\": -25.466310501098633, \"err_high\": 18.643945693969727}, {\"time\": \"2000-02-15T12:00:00\", \"variable\": \"VPD\", \"value\": 0.4480000138282776, \"is_present\": true, \"mean\": -3.3321940898895264, \"std\": 11.220937728881836, \"err_low\": -25.77406883239746, \"err_high\": 19.109682083129883}, {\"time\": \"2000-02-15T12:30:00\", \"variable\": \"VPD\", \"value\": 0.3140000104904175, \"is_present\": true, \"mean\": -2.3454864025115967, \"std\": 11.218018531799316, \"err_low\": -24.781522750854492, \"err_high\": 20.090551376342773}, {\"time\": \"2000-02-15T13:00:00\", \"variable\": \"VPD\", \"value\": 0.23499999940395355, \"is_present\": true, \"mean\": -1.7889769077301025, \"std\": 11.217094421386719, \"err_low\": -24.22316551208496, \"err_high\": 20.645212173461914}, {\"time\": \"2000-02-15T13:30:00\", \"variable\": \"VPD\", \"value\": 0.22100000083446503, \"is_present\": true, \"mean\": -0.951958179473877, \"std\": 11.216886520385742, \"err_low\": -23.385730743408203, \"err_high\": 21.481815338134766}, {\"time\": \"2000-02-15T14:00:00\", \"variable\": \"VPD\", \"value\": 0.24699999392032623, \"is_present\": true, \"mean\": -0.37329840660095215, \"std\": 11.216814994812012, \"err_low\": -22.806928634643555, \"err_high\": 22.060331344604492}, {\"time\": \"2000-02-15T14:30:00\", \"variable\": \"VPD\", \"value\": 0.29499998688697815, \"is_present\": true, \"mean\": -0.6399881839752197, \"std\": 11.216793060302734, \"err_low\": -23.07357406616211, \"err_high\": 21.793598175048828}, {\"time\": \"2000-02-15T15:00:00\", \"variable\": \"VPD\", \"value\": 0.32100000977516174, \"is_present\": true, \"mean\": -2.0092837810516357, \"std\": 11.433858871459961, \"err_low\": -24.87700080871582, \"err_high\": 20.858434677124023}, {\"time\": \"2000-02-15T15:30:00\", \"variable\": \"VPD\", \"value\": 0.39500001072883606, \"is_present\": true, \"mean\": -3.0134427547454834, \"std\": 11.436609268188477, \"err_low\": -25.886661529541016, \"err_high\": 19.85977554321289}]}}, {\"mode\": \"vega-lite\"});\n",
       "</script>"
      ],
      "text/plain": [
       "alt.HConcatChart(...)"
      ]
     },
     "execution_count": null,
     "metadata": {},
     "output_type": "execute_result"
    }
   ],
   "source": [
    "show_results(learn)"
   ]
  },
  {
   "cell_type": "code",
   "execution_count": null,
   "id": "4b36ddaf-759c-4b42-be6e-4ad2843088c0",
   "metadata": {},
   "outputs": [
    {
     "data": {
      "text/html": [
       "\n",
       "<div id=\"altair-viz-0293899a3ab4474694d427cfa3313ea1\"></div>\n",
       "<script type=\"text/javascript\">\n",
       "  var VEGA_DEBUG = (typeof VEGA_DEBUG == \"undefined\") ? {} : VEGA_DEBUG;\n",
       "  (function(spec, embedOpt){\n",
       "    let outputDiv = document.currentScript.previousElementSibling;\n",
       "    if (outputDiv.id !== \"altair-viz-0293899a3ab4474694d427cfa3313ea1\") {\n",
       "      outputDiv = document.getElementById(\"altair-viz-0293899a3ab4474694d427cfa3313ea1\");\n",
       "    }\n",
       "    const paths = {\n",
       "      \"vega\": \"https://cdn.jsdelivr.net/npm//vega@5?noext\",\n",
       "      \"vega-lib\": \"https://cdn.jsdelivr.net/npm//vega-lib?noext\",\n",
       "      \"vega-lite\": \"https://cdn.jsdelivr.net/npm//vega-lite@5.2.0?noext\",\n",
       "      \"vega-embed\": \"https://cdn.jsdelivr.net/npm//vega-embed@6?noext\",\n",
       "    };\n",
       "\n",
       "    function maybeLoadScript(lib, version) {\n",
       "      var key = `${lib.replace(\"-\", \"\")}_version`;\n",
       "      return (VEGA_DEBUG[key] == version) ?\n",
       "        Promise.resolve(paths[lib]) :\n",
       "        new Promise(function(resolve, reject) {\n",
       "          var s = document.createElement('script');\n",
       "          document.getElementsByTagName(\"head\")[0].appendChild(s);\n",
       "          s.async = true;\n",
       "          s.onload = () => {\n",
       "            VEGA_DEBUG[key] = version;\n",
       "            return resolve(paths[lib]);\n",
       "          };\n",
       "          s.onerror = () => reject(`Error loading script: ${paths[lib]}`);\n",
       "          s.src = paths[lib];\n",
       "        });\n",
       "    }\n",
       "\n",
       "    function showError(err) {\n",
       "      outputDiv.innerHTML = `<div class=\"error\" style=\"color:red;\">${err}</div>`;\n",
       "      throw err;\n",
       "    }\n",
       "\n",
       "    function displayChart(vegaEmbed) {\n",
       "      vegaEmbed(outputDiv, spec, embedOpt)\n",
       "        .catch(err => showError(`Javascript Error: ${err.message}<br>This usually means there's a typo in your chart specification. See the javascript console for the full traceback.`));\n",
       "    }\n",
       "\n",
       "    if(typeof define === \"function\" && define.amd) {\n",
       "      requirejs.config({paths});\n",
       "      require([\"vega-embed\"], displayChart, err => showError(`Error loading script: ${err.message}`));\n",
       "    } else {\n",
       "      maybeLoadScript(\"vega\", \"5\")\n",
       "        .then(() => maybeLoadScript(\"vega-lite\", \"5.2.0\"))\n",
       "        .then(() => maybeLoadScript(\"vega-embed\", \"6\"))\n",
       "        .catch(showError)\n",
       "        .then(() => displayChart(vegaEmbed));\n",
       "    }\n",
       "  })({\"config\": {\"view\": {\"continuousWidth\": 400, \"continuousHeight\": 300}}, \"hconcat\": [{\"vconcat\": [{\"hconcat\": [{\"layer\": [{\"data\": {\"name\": \"data-46c44b7410bc99c56ca8947eddde06ff\"}, \"mark\": {\"type\": \"point\", \"color\": \"black\", \"fillOpacity\": 1, \"strokeWidth\": 1}, \"encoding\": {\"fill\": {\"field\": \"is_present\", \"legend\": {\"title\": [\"Observed data\"]}, \"scale\": {\"range\": [\"black\", \"#ffffff00\"]}, \"type\": \"nominal\"}, \"shape\": {\"field\": \"is_present\", \"type\": \"nominal\"}, \"x\": {\"axis\": {\"domain\": true, \"labels\": true, \"ticks\": true, \"title\": \"time\"}, \"field\": \"time\", \"type\": \"temporal\"}, \"y\": {\"field\": \"value\", \"scale\": {\"zero\": false}, \"title\": \"TA\", \"type\": \"quantitative\"}}}, {\"layer\": [{\"mark\": \"rule\", \"encoding\": {\"x\": {\"axis\": {\"domain\": false, \"labels\": false, \"ticks\": false, \"title\": null}, \"field\": \"gap_start\", \"type\": \"temporal\"}}}, {\"mark\": \"rule\", \"encoding\": {\"x\": {\"axis\": {\"domain\": false, \"labels\": false, \"ticks\": false, \"title\": null}, \"field\": \"gap_end\", \"type\": \"temporal\"}}}, {\"mark\": {\"type\": \"rect\", \"color\": \"black\", \"opacity\": 0.2}, \"encoding\": {\"x\": {\"axis\": {\"domain\": false, \"labels\": false, \"ticks\": false, \"title\": null}, \"field\": \"gap_start\", \"type\": \"temporal\"}, \"x2\": {\"field\": \"gap_end\"}}}], \"data\": {\"name\": \"data-98dec86aa208c87fa35b941f906be3f1\"}}, {\"layer\": [{\"mark\": \"errorband\", \"encoding\": {\"color\": {\"field\": \"variable\", \"legend\": {\"title\": [\"Line: pred. mean\", \"area: +/- 2 std\"]}, \"type\": \"nominal\"}, \"x\": {\"field\": \"time\", \"type\": \"temporal\"}, \"y\": {\"field\": \"err_low\", \"scale\": {\"zero\": false}, \"title\": \"TA\", \"type\": \"quantitative\"}, \"y2\": {\"field\": \"err_high\"}}, \"name\": \"view_33\"}, {\"mark\": \"line\", \"encoding\": {\"color\": {\"field\": \"variable\", \"type\": \"nominal\"}, \"x\": {\"field\": \"time\", \"type\": \"temporal\"}, \"y\": {\"field\": \"mean\", \"scale\": {\"zero\": false}, \"title\": \"TA\", \"type\": \"quantitative\"}}}], \"data\": {\"name\": \"data-46c44b7410bc99c56ca8947eddde06ff\"}}], \"height\": 150, \"title\": \"TA\", \"width\": 200}]}, {\"hconcat\": [{\"layer\": [{\"data\": {\"name\": \"data-598a851361c0f6501f695a4da890bc6f\"}, \"mark\": {\"type\": \"point\", \"color\": \"black\", \"fillOpacity\": 1, \"strokeWidth\": 1}, \"encoding\": {\"fill\": {\"field\": \"is_present\", \"legend\": {\"title\": [\"Observed data\"]}, \"scale\": {\"range\": [\"black\", \"#ffffff00\"]}, \"type\": \"nominal\"}, \"shape\": {\"field\": \"is_present\", \"type\": \"nominal\"}, \"x\": {\"axis\": {\"domain\": true, \"labels\": true, \"ticks\": true, \"title\": \"time\"}, \"field\": \"time\", \"type\": \"temporal\"}, \"y\": {\"field\": \"value\", \"scale\": {\"zero\": false}, \"title\": \"SW_IN\", \"type\": \"quantitative\"}}}, {\"layer\": [{\"mark\": \"rule\", \"encoding\": {\"x\": {\"axis\": {\"domain\": false, \"labels\": false, \"ticks\": false, \"title\": null}, \"field\": \"gap_start\", \"type\": \"temporal\"}}}, {\"mark\": \"rule\", \"encoding\": {\"x\": {\"axis\": {\"domain\": false, \"labels\": false, \"ticks\": false, \"title\": null}, \"field\": \"gap_end\", \"type\": \"temporal\"}}}, {\"mark\": {\"type\": \"rect\", \"color\": \"black\", \"opacity\": 0.2}, \"encoding\": {\"x\": {\"axis\": {\"domain\": false, \"labels\": false, \"ticks\": false, \"title\": null}, \"field\": \"gap_start\", \"type\": \"temporal\"}, \"x2\": {\"field\": \"gap_end\"}}}], \"data\": {\"name\": \"data-98dec86aa208c87fa35b941f906be3f1\"}}, {\"layer\": [{\"mark\": \"errorband\", \"encoding\": {\"color\": {\"field\": \"variable\", \"legend\": {\"title\": [\"Line: pred. mean\", \"area: +/- 2 std\"]}, \"type\": \"nominal\"}, \"x\": {\"field\": \"time\", \"type\": \"temporal\"}, \"y\": {\"field\": \"err_low\", \"scale\": {\"zero\": false}, \"title\": \"SW_IN\", \"type\": \"quantitative\"}, \"y2\": {\"field\": \"err_high\"}}, \"name\": \"view_34\"}, {\"mark\": \"line\", \"encoding\": {\"color\": {\"field\": \"variable\", \"type\": \"nominal\"}, \"x\": {\"field\": \"time\", \"type\": \"temporal\"}, \"y\": {\"field\": \"mean\", \"scale\": {\"zero\": false}, \"title\": \"SW_IN\", \"type\": \"quantitative\"}}}], \"data\": {\"name\": \"data-598a851361c0f6501f695a4da890bc6f\"}}], \"height\": 150, \"title\": \"SW_IN\", \"width\": 200}]}, {\"hconcat\": [{\"layer\": [{\"mark\": {\"type\": \"point\", \"color\": \"black\", \"fillOpacity\": 1, \"strokeWidth\": 1}, \"encoding\": {\"fill\": {\"field\": \"is_present\", \"legend\": {\"title\": [\"Observed data\"]}, \"scale\": {\"range\": [\"black\", \"#ffffff00\"]}, \"type\": \"nominal\"}, \"shape\": {\"field\": \"is_present\", \"type\": \"nominal\"}, \"x\": {\"axis\": {\"domain\": true, \"labels\": true, \"ticks\": true, \"title\": \"time\"}, \"field\": \"time\", \"type\": \"temporal\"}, \"y\": {\"field\": \"value\", \"scale\": {\"zero\": false}, \"title\": \"VPD\", \"type\": \"quantitative\"}}}, {\"layer\": [{\"mark\": \"errorband\", \"encoding\": {\"color\": {\"field\": \"variable\", \"legend\": {\"title\": [\"Line: pred. mean\", \"area: +/- 2 std\"]}, \"type\": \"nominal\"}, \"x\": {\"field\": \"time\", \"type\": \"temporal\"}, \"y\": {\"field\": \"err_low\", \"scale\": {\"zero\": false}, \"title\": \"VPD\", \"type\": \"quantitative\"}, \"y2\": {\"field\": \"err_high\"}}, \"name\": \"view_35\"}, {\"mark\": \"line\", \"encoding\": {\"color\": {\"field\": \"variable\", \"type\": \"nominal\"}, \"x\": {\"field\": \"time\", \"type\": \"temporal\"}, \"y\": {\"field\": \"mean\", \"scale\": {\"zero\": false}, \"title\": \"VPD\", \"type\": \"quantitative\"}}}]}], \"height\": 150, \"title\": \"VPD\", \"width\": 200}], \"data\": {\"name\": \"data-ffdd0ff10a5fa8657e8884bed001ba69\"}}], \"title\": \"loss: 84.012863\"}, {\"vconcat\": [{\"hconcat\": [{\"layer\": [{\"data\": {\"name\": \"data-c2c4d781d9f4e5805838c81f0e20efa5\"}, \"mark\": {\"type\": \"point\", \"color\": \"black\", \"fillOpacity\": 1, \"strokeWidth\": 1}, \"encoding\": {\"fill\": {\"field\": \"is_present\", \"legend\": {\"title\": [\"Observed data\"]}, \"scale\": {\"range\": [\"black\", \"#ffffff00\"]}, \"type\": \"nominal\"}, \"shape\": {\"field\": \"is_present\", \"type\": \"nominal\"}, \"x\": {\"axis\": {\"domain\": true, \"labels\": true, \"ticks\": true, \"title\": \"time\"}, \"field\": \"time\", \"type\": \"temporal\"}, \"y\": {\"field\": \"value\", \"scale\": {\"zero\": false}, \"title\": \"TA\", \"type\": \"quantitative\"}}}, {\"layer\": [{\"mark\": \"rule\", \"encoding\": {\"x\": {\"axis\": {\"domain\": false, \"labels\": false, \"ticks\": false, \"title\": null}, \"field\": \"gap_start\", \"type\": \"temporal\"}}}, {\"mark\": \"rule\", \"encoding\": {\"x\": {\"axis\": {\"domain\": false, \"labels\": false, \"ticks\": false, \"title\": null}, \"field\": \"gap_end\", \"type\": \"temporal\"}}}, {\"mark\": {\"type\": \"rect\", \"color\": \"black\", \"opacity\": 0.2}, \"encoding\": {\"x\": {\"axis\": {\"domain\": false, \"labels\": false, \"ticks\": false, \"title\": null}, \"field\": \"gap_start\", \"type\": \"temporal\"}, \"x2\": {\"field\": \"gap_end\"}}}], \"data\": {\"name\": \"data-98babda14f8c3f8e59dd647b6bd0412e\"}}, {\"layer\": [{\"mark\": \"errorband\", \"encoding\": {\"color\": {\"field\": \"variable\", \"legend\": {\"title\": [\"Line: pred. mean\", \"area: +/- 2 std\"]}, \"type\": \"nominal\"}, \"x\": {\"field\": \"time\", \"type\": \"temporal\"}, \"y\": {\"field\": \"err_low\", \"scale\": {\"zero\": false}, \"title\": \"TA\", \"type\": \"quantitative\"}, \"y2\": {\"field\": \"err_high\"}}, \"name\": \"view_36\"}, {\"mark\": \"line\", \"encoding\": {\"color\": {\"field\": \"variable\", \"type\": \"nominal\"}, \"x\": {\"field\": \"time\", \"type\": \"temporal\"}, \"y\": {\"field\": \"mean\", \"scale\": {\"zero\": false}, \"title\": \"TA\", \"type\": \"quantitative\"}}}], \"data\": {\"name\": \"data-c2c4d781d9f4e5805838c81f0e20efa5\"}}], \"height\": 150, \"title\": \"TA\", \"width\": 200}]}, {\"hconcat\": [{\"layer\": [{\"data\": {\"name\": \"data-fffae18f157eaf106218ac22ce84c0c0\"}, \"mark\": {\"type\": \"point\", \"color\": \"black\", \"fillOpacity\": 1, \"strokeWidth\": 1}, \"encoding\": {\"fill\": {\"field\": \"is_present\", \"legend\": {\"title\": [\"Observed data\"]}, \"scale\": {\"range\": [\"black\", \"#ffffff00\"]}, \"type\": \"nominal\"}, \"shape\": {\"field\": \"is_present\", \"type\": \"nominal\"}, \"x\": {\"axis\": {\"domain\": true, \"labels\": true, \"ticks\": true, \"title\": \"time\"}, \"field\": \"time\", \"type\": \"temporal\"}, \"y\": {\"field\": \"value\", \"scale\": {\"zero\": false}, \"title\": \"SW_IN\", \"type\": \"quantitative\"}}}, {\"layer\": [{\"mark\": \"rule\", \"encoding\": {\"x\": {\"axis\": {\"domain\": false, \"labels\": false, \"ticks\": false, \"title\": null}, \"field\": \"gap_start\", \"type\": \"temporal\"}}}, {\"mark\": \"rule\", \"encoding\": {\"x\": {\"axis\": {\"domain\": false, \"labels\": false, \"ticks\": false, \"title\": null}, \"field\": \"gap_end\", \"type\": \"temporal\"}}}, {\"mark\": {\"type\": \"rect\", \"color\": \"black\", \"opacity\": 0.2}, \"encoding\": {\"x\": {\"axis\": {\"domain\": false, \"labels\": false, \"ticks\": false, \"title\": null}, \"field\": \"gap_start\", \"type\": \"temporal\"}, \"x2\": {\"field\": \"gap_end\"}}}], \"data\": {\"name\": \"data-98babda14f8c3f8e59dd647b6bd0412e\"}}, {\"layer\": [{\"mark\": \"errorband\", \"encoding\": {\"color\": {\"field\": \"variable\", \"legend\": {\"title\": [\"Line: pred. mean\", \"area: +/- 2 std\"]}, \"type\": \"nominal\"}, \"x\": {\"field\": \"time\", \"type\": \"temporal\"}, \"y\": {\"field\": \"err_low\", \"scale\": {\"zero\": false}, \"title\": \"SW_IN\", \"type\": \"quantitative\"}, \"y2\": {\"field\": \"err_high\"}}, \"name\": \"view_37\"}, {\"mark\": \"line\", \"encoding\": {\"color\": {\"field\": \"variable\", \"type\": \"nominal\"}, \"x\": {\"field\": \"time\", \"type\": \"temporal\"}, \"y\": {\"field\": \"mean\", \"scale\": {\"zero\": false}, \"title\": \"SW_IN\", \"type\": \"quantitative\"}}}], \"data\": {\"name\": \"data-fffae18f157eaf106218ac22ce84c0c0\"}}], \"height\": 150, \"title\": \"SW_IN\", \"width\": 200}]}, {\"hconcat\": [{\"layer\": [{\"mark\": {\"type\": \"point\", \"color\": \"black\", \"fillOpacity\": 1, \"strokeWidth\": 1}, \"encoding\": {\"fill\": {\"field\": \"is_present\", \"legend\": {\"title\": [\"Observed data\"]}, \"scale\": {\"range\": [\"black\", \"#ffffff00\"]}, \"type\": \"nominal\"}, \"shape\": {\"field\": \"is_present\", \"type\": \"nominal\"}, \"x\": {\"axis\": {\"domain\": true, \"labels\": true, \"ticks\": true, \"title\": \"time\"}, \"field\": \"time\", \"type\": \"temporal\"}, \"y\": {\"field\": \"value\", \"scale\": {\"zero\": false}, \"title\": \"VPD\", \"type\": \"quantitative\"}}}, {\"layer\": [{\"mark\": \"errorband\", \"encoding\": {\"color\": {\"field\": \"variable\", \"legend\": {\"title\": [\"Line: pred. mean\", \"area: +/- 2 std\"]}, \"type\": \"nominal\"}, \"x\": {\"field\": \"time\", \"type\": \"temporal\"}, \"y\": {\"field\": \"err_low\", \"scale\": {\"zero\": false}, \"title\": \"VPD\", \"type\": \"quantitative\"}, \"y2\": {\"field\": \"err_high\"}}, \"name\": \"view_38\"}, {\"mark\": \"line\", \"encoding\": {\"color\": {\"field\": \"variable\", \"type\": \"nominal\"}, \"x\": {\"field\": \"time\", \"type\": \"temporal\"}, \"y\": {\"field\": \"mean\", \"scale\": {\"zero\": false}, \"title\": \"VPD\", \"type\": \"quantitative\"}}}]}], \"height\": 150, \"title\": \"VPD\", \"width\": 200}], \"data\": {\"name\": \"data-7af08d5c098e13eaf8c1c8311bcc9907\"}}], \"title\": \"loss: 76.095108\"}, {\"vconcat\": [{\"hconcat\": [{\"layer\": [{\"data\": {\"name\": \"data-f596476be78842f44055ebb42da790ee\"}, \"mark\": {\"type\": \"point\", \"color\": \"black\", \"fillOpacity\": 1, \"strokeWidth\": 1}, \"encoding\": {\"fill\": {\"field\": \"is_present\", \"legend\": {\"title\": [\"Observed data\"]}, \"scale\": {\"range\": [\"black\", \"#ffffff00\"]}, \"type\": \"nominal\"}, \"shape\": {\"field\": \"is_present\", \"type\": \"nominal\"}, \"x\": {\"axis\": {\"domain\": true, \"labels\": true, \"ticks\": true, \"title\": \"time\"}, \"field\": \"time\", \"type\": \"temporal\"}, \"y\": {\"field\": \"value\", \"scale\": {\"zero\": false}, \"title\": \"TA\", \"type\": \"quantitative\"}}}, {\"layer\": [{\"mark\": \"rule\", \"encoding\": {\"x\": {\"axis\": {\"domain\": false, \"labels\": false, \"ticks\": false, \"title\": null}, \"field\": \"gap_start\", \"type\": \"temporal\"}}}, {\"mark\": \"rule\", \"encoding\": {\"x\": {\"axis\": {\"domain\": false, \"labels\": false, \"ticks\": false, \"title\": null}, \"field\": \"gap_end\", \"type\": \"temporal\"}}}, {\"mark\": {\"type\": \"rect\", \"color\": \"black\", \"opacity\": 0.2}, \"encoding\": {\"x\": {\"axis\": {\"domain\": false, \"labels\": false, \"ticks\": false, \"title\": null}, \"field\": \"gap_start\", \"type\": \"temporal\"}, \"x2\": {\"field\": \"gap_end\"}}}], \"data\": {\"name\": \"data-92b2b14a497eb7a4a84b75868a097ce2\"}}, {\"layer\": [{\"mark\": \"errorband\", \"encoding\": {\"color\": {\"field\": \"variable\", \"legend\": {\"title\": [\"Line: pred. mean\", \"area: +/- 2 std\"]}, \"type\": \"nominal\"}, \"x\": {\"field\": \"time\", \"type\": \"temporal\"}, \"y\": {\"field\": \"err_low\", \"scale\": {\"zero\": false}, \"title\": \"TA\", \"type\": \"quantitative\"}, \"y2\": {\"field\": \"err_high\"}}, \"name\": \"view_39\"}, {\"mark\": \"line\", \"encoding\": {\"color\": {\"field\": \"variable\", \"type\": \"nominal\"}, \"x\": {\"field\": \"time\", \"type\": \"temporal\"}, \"y\": {\"field\": \"mean\", \"scale\": {\"zero\": false}, \"title\": \"TA\", \"type\": \"quantitative\"}}}], \"data\": {\"name\": \"data-f596476be78842f44055ebb42da790ee\"}}], \"height\": 150, \"title\": \"TA\", \"width\": 200}]}, {\"hconcat\": [{\"layer\": [{\"data\": {\"name\": \"data-6db45bb1cfacc1377968d8590a64ea66\"}, \"mark\": {\"type\": \"point\", \"color\": \"black\", \"fillOpacity\": 1, \"strokeWidth\": 1}, \"encoding\": {\"fill\": {\"field\": \"is_present\", \"legend\": {\"title\": [\"Observed data\"]}, \"scale\": {\"range\": [\"black\", \"#ffffff00\"]}, \"type\": \"nominal\"}, \"shape\": {\"field\": \"is_present\", \"type\": \"nominal\"}, \"x\": {\"axis\": {\"domain\": true, \"labels\": true, \"ticks\": true, \"title\": \"time\"}, \"field\": \"time\", \"type\": \"temporal\"}, \"y\": {\"field\": \"value\", \"scale\": {\"zero\": false}, \"title\": \"SW_IN\", \"type\": \"quantitative\"}}}, {\"layer\": [{\"mark\": \"rule\", \"encoding\": {\"x\": {\"axis\": {\"domain\": false, \"labels\": false, \"ticks\": false, \"title\": null}, \"field\": \"gap_start\", \"type\": \"temporal\"}}}, {\"mark\": \"rule\", \"encoding\": {\"x\": {\"axis\": {\"domain\": false, \"labels\": false, \"ticks\": false, \"title\": null}, \"field\": \"gap_end\", \"type\": \"temporal\"}}}, {\"mark\": {\"type\": \"rect\", \"color\": \"black\", \"opacity\": 0.2}, \"encoding\": {\"x\": {\"axis\": {\"domain\": false, \"labels\": false, \"ticks\": false, \"title\": null}, \"field\": \"gap_start\", \"type\": \"temporal\"}, \"x2\": {\"field\": \"gap_end\"}}}], \"data\": {\"name\": \"data-92b2b14a497eb7a4a84b75868a097ce2\"}}, {\"layer\": [{\"mark\": \"errorband\", \"encoding\": {\"color\": {\"field\": \"variable\", \"legend\": {\"title\": [\"Line: pred. mean\", \"area: +/- 2 std\"]}, \"type\": \"nominal\"}, \"x\": {\"field\": \"time\", \"type\": \"temporal\"}, \"y\": {\"field\": \"err_low\", \"scale\": {\"zero\": false}, \"title\": \"SW_IN\", \"type\": \"quantitative\"}, \"y2\": {\"field\": \"err_high\"}}, \"name\": \"view_40\"}, {\"mark\": \"line\", \"encoding\": {\"color\": {\"field\": \"variable\", \"type\": \"nominal\"}, \"x\": {\"field\": \"time\", \"type\": \"temporal\"}, \"y\": {\"field\": \"mean\", \"scale\": {\"zero\": false}, \"title\": \"SW_IN\", \"type\": \"quantitative\"}}}], \"data\": {\"name\": \"data-6db45bb1cfacc1377968d8590a64ea66\"}}], \"height\": 150, \"title\": \"SW_IN\", \"width\": 200}]}, {\"hconcat\": [{\"layer\": [{\"mark\": {\"type\": \"point\", \"color\": \"black\", \"fillOpacity\": 1, \"strokeWidth\": 1}, \"encoding\": {\"fill\": {\"field\": \"is_present\", \"legend\": {\"title\": [\"Observed data\"]}, \"scale\": {\"range\": [\"black\", \"#ffffff00\"]}, \"type\": \"nominal\"}, \"shape\": {\"field\": \"is_present\", \"type\": \"nominal\"}, \"x\": {\"axis\": {\"domain\": true, \"labels\": true, \"ticks\": true, \"title\": \"time\"}, \"field\": \"time\", \"type\": \"temporal\"}, \"y\": {\"field\": \"value\", \"scale\": {\"zero\": false}, \"title\": \"VPD\", \"type\": \"quantitative\"}}}, {\"layer\": [{\"mark\": \"errorband\", \"encoding\": {\"color\": {\"field\": \"variable\", \"legend\": {\"title\": [\"Line: pred. mean\", \"area: +/- 2 std\"]}, \"type\": \"nominal\"}, \"x\": {\"field\": \"time\", \"type\": \"temporal\"}, \"y\": {\"field\": \"err_low\", \"scale\": {\"zero\": false}, \"title\": \"VPD\", \"type\": \"quantitative\"}, \"y2\": {\"field\": \"err_high\"}}, \"name\": \"view_41\"}, {\"mark\": \"line\", \"encoding\": {\"color\": {\"field\": \"variable\", \"type\": \"nominal\"}, \"x\": {\"field\": \"time\", \"type\": \"temporal\"}, \"y\": {\"field\": \"mean\", \"scale\": {\"zero\": false}, \"title\": \"VPD\", \"type\": \"quantitative\"}}}]}], \"height\": 150, \"title\": \"VPD\", \"width\": 200}], \"data\": {\"name\": \"data-aaf8f81fa64c46002fd715114e6310db\"}}], \"title\": \"loss: 79.009766\"}], \"params\": [{\"name\": \"param_47\", \"select\": {\"type\": \"interval\", \"encodings\": [\"x\"]}, \"bind\": \"scales\", \"views\": [\"view_33\", \"view_34\", \"view_35\"]}, {\"name\": \"param_51\", \"select\": {\"type\": \"interval\", \"encodings\": [\"x\"]}, \"bind\": \"scales\", \"views\": [\"view_36\", \"view_37\", \"view_38\"]}, {\"name\": \"param_55\", \"select\": {\"type\": \"interval\", \"encodings\": [\"x\"]}, \"bind\": \"scales\", \"views\": [\"view_39\", \"view_40\", \"view_41\"]}], \"$schema\": \"https://vega.github.io/schema/vega-lite/v5.2.0.json\", \"datasets\": {\"data-46c44b7410bc99c56ca8947eddde06ff\": [{\"time\": \"2000-01-01T06:00:00\", \"variable\": \"TA\", \"value\": -0.23000000417232513, \"is_present\": false, \"mean\": 10.065136909484863, \"std\": 9.793396949768066, \"err_low\": -9.52165699005127, \"err_high\": 29.651931762695312}, {\"time\": \"2000-01-01T06:30:00\", \"variable\": \"TA\", \"value\": -0.2199999988079071, \"is_present\": false, \"mean\": -11.105201721191406, \"std\": 12.289020538330078, \"err_low\": -35.68324279785156, \"err_high\": 13.47283935546875}, {\"time\": \"2000-01-01T07:00:00\", \"variable\": \"TA\", \"value\": -0.23999999463558197, \"is_present\": true, \"mean\": -16.478092193603516, \"std\": 12.679423332214355, \"err_low\": -41.836936950683594, \"err_high\": 8.880754470825195}, {\"time\": \"2000-01-01T07:30:00\", \"variable\": \"TA\", \"value\": -0.23000000417232513, \"is_present\": true, \"mean\": -17.77128028869629, \"std\": 12.501668930053711, \"err_low\": -42.774620056152344, \"err_high\": 7.232057571411133}, {\"time\": \"2000-01-01T08:00:00\", \"variable\": \"TA\", \"value\": -0.2199999988079071, \"is_present\": true, \"mean\": -17.944631576538086, \"std\": 12.501484870910645, \"err_low\": -42.947601318359375, \"err_high\": 7.058338165283203}, {\"time\": \"2000-01-01T08:30:00\", \"variable\": \"TA\", \"value\": -0.1899999976158142, \"is_present\": true, \"mean\": -17.910795211791992, \"std\": 12.501435279846191, \"err_low\": -42.913665771484375, \"err_high\": 7.092075347900391}, {\"time\": \"2000-01-01T09:00:00\", \"variable\": \"TA\", \"value\": -0.14000000059604645, \"is_present\": true, \"mean\": -17.74931526184082, \"std\": 12.501420974731445, \"err_low\": -42.752159118652344, \"err_high\": 7.25352668762207}, {\"time\": \"2000-01-01T09:30:00\", \"variable\": \"TA\", \"value\": -0.029999999329447746, \"is_present\": true, \"mean\": -17.446725845336914, \"std\": 12.501418113708496, \"err_low\": -42.449562072753906, \"err_high\": 7.556110382080078}, {\"time\": \"2000-01-01T10:00:00\", \"variable\": \"TA\", \"value\": 0.03999999910593033, \"is_present\": true, \"mean\": -17.077299118041992, \"std\": 12.50141716003418, \"err_low\": -42.08013153076172, \"err_high\": 7.925535202026367}, {\"time\": \"2000-01-01T10:30:00\", \"variable\": \"TA\", \"value\": 0.10000000149011612, \"is_present\": true, \"mean\": -16.637788772583008, \"std\": 12.501416206359863, \"err_low\": -41.640621185302734, \"err_high\": 8.365043640136719}], \"data-98dec86aa208c87fa35b941f906be3f1\": [{\"gap_start\": \"2000-01-01T06:00:00\", \"gap_end\": \"2000-01-01T06:30:00\"}], \"data-598a851361c0f6501f695a4da890bc6f\": [{\"time\": \"2000-01-01T06:00:00\", \"variable\": \"SW_IN\", \"value\": 0.0, \"is_present\": false, \"mean\": 249.1461181640625, \"std\": 163.63638305664062, \"err_low\": -78.12664794921875, \"err_high\": 576.4188842773438}, {\"time\": \"2000-01-01T06:30:00\", \"variable\": \"SW_IN\", \"value\": 0.0, \"is_present\": false, \"mean\": 89.10699462890625, \"std\": 171.69671630859375, \"err_low\": -254.28643798828125, \"err_high\": 432.50042724609375}, {\"time\": \"2000-01-01T07:00:00\", \"variable\": \"SW_IN\", \"value\": 0.0, \"is_present\": true, \"mean\": 36.358665466308594, \"std\": 172.80307006835938, \"err_low\": -309.2474670410156, \"err_high\": 381.9648132324219}, {\"time\": \"2000-01-01T07:30:00\", \"variable\": \"SW_IN\", \"value\": 0.0, \"is_present\": true, \"mean\": 17.78179931640625, \"std\": 172.44334411621094, \"err_low\": -327.1048889160156, \"err_high\": 362.6684875488281}, {\"time\": \"2000-01-01T08:00:00\", \"variable\": \"SW_IN\", \"value\": 0.0, \"is_present\": true, \"mean\": 11.153312683105469, \"std\": 172.4291534423828, \"err_low\": -333.7049865722656, \"err_high\": 356.0116271972656}, {\"time\": \"2000-01-01T08:30:00\", \"variable\": \"SW_IN\", \"value\": 0.44999998807907104, \"is_present\": true, \"mean\": 8.497505187988281, \"std\": 172.42337036132812, \"err_low\": -336.3492431640625, \"err_high\": 353.34423828125}, {\"time\": \"2000-01-01T09:00:00\", \"variable\": \"SW_IN\", \"value\": 3.700000047683716, \"is_present\": true, \"mean\": 8.237762451171875, \"std\": 172.42138671875, \"err_low\": -336.6050109863281, \"err_high\": 353.0805358886719}, {\"time\": \"2000-01-01T09:30:00\", \"variable\": \"SW_IN\", \"value\": 7.260000228881836, \"is_present\": true, \"mean\": 9.676979064941406, \"std\": 172.4207305908203, \"err_low\": -335.16448974609375, \"err_high\": 354.5184326171875}, {\"time\": \"2000-01-01T10:00:00\", \"variable\": \"SW_IN\", \"value\": 12.239999771118164, \"is_present\": true, \"mean\": 11.86627197265625, \"std\": 172.4205322265625, \"err_low\": -332.97479248046875, \"err_high\": 356.70733642578125}, {\"time\": \"2000-01-01T10:30:00\", \"variable\": \"SW_IN\", \"value\": 16.510000228881836, \"is_present\": true, \"mean\": 14.833168029785156, \"std\": 172.4204559326172, \"err_low\": -330.00775146484375, \"err_high\": 359.674072265625}], \"data-ffdd0ff10a5fa8657e8884bed001ba69\": [{\"time\": \"2000-01-01T06:00:00\", \"variable\": \"VPD\", \"value\": 0.12200000137090683, \"is_present\": true, \"mean\": 3.8102903366088867, \"std\": 7.697399616241455, \"err_low\": -11.584508895874023, \"err_high\": 19.205089569091797}, {\"time\": \"2000-01-01T06:30:00\", \"variable\": \"VPD\", \"value\": 0.09799999743700027, \"is_present\": true, \"mean\": -14.514666557312012, \"std\": 11.126591682434082, \"err_low\": -36.76784896850586, \"err_high\": 7.738516807556152}, {\"time\": \"2000-01-01T07:00:00\", \"variable\": \"VPD\", \"value\": 0.06599999964237213, \"is_present\": true, \"mean\": -17.98744773864746, \"std\": 11.43464183807373, \"err_low\": -40.85673141479492, \"err_high\": 4.8818359375}, {\"time\": \"2000-01-01T07:30:00\", \"variable\": \"VPD\", \"value\": 0.04399999976158142, \"is_present\": true, \"mean\": -18.330778121948242, \"std\": 11.219372749328613, \"err_low\": -40.76952362060547, \"err_high\": 4.107967376708984}, {\"time\": \"2000-01-01T08:00:00\", \"variable\": \"VPD\", \"value\": 0.026000000536441803, \"is_present\": true, \"mean\": -18.028413772583008, \"std\": 11.217242240905762, \"err_low\": -40.46289825439453, \"err_high\": 4.406070709228516}, {\"time\": \"2000-01-01T08:30:00\", \"variable\": \"VPD\", \"value\": 0.01600000075995922, \"is_present\": true, \"mean\": -17.75298309326172, \"std\": 11.216901779174805, \"err_low\": -40.18678665161133, \"err_high\": 4.680820465087891}, {\"time\": \"2000-01-01T09:00:00\", \"variable\": \"VPD\", \"value\": 0.009999999776482582, \"is_present\": true, \"mean\": -17.47491455078125, \"std\": 11.216819763183594, \"err_low\": -39.90855407714844, \"err_high\": 4.9587249755859375}, {\"time\": \"2000-01-01T09:30:00\", \"variable\": \"VPD\", \"value\": 0.006000000052154064, \"is_present\": true, \"mean\": -17.115480422973633, \"std\": 11.216795921325684, \"err_low\": -39.549072265625, \"err_high\": 5.318111419677734}, {\"time\": \"2000-01-01T10:00:00\", \"variable\": \"VPD\", \"value\": 0.006000000052154064, \"is_present\": true, \"mean\": -16.72003173828125, \"std\": 11.21678638458252, \"err_low\": -39.153602600097656, \"err_high\": 5.713541030883789}, {\"time\": \"2000-01-01T10:30:00\", \"variable\": \"VPD\", \"value\": 0.006000000052154064, \"is_present\": true, \"mean\": -16.26898765563965, \"std\": 11.21678352355957, \"err_low\": -38.702552795410156, \"err_high\": 6.164579391479492}], \"data-c2c4d781d9f4e5805838c81f0e20efa5\": [{\"time\": \"2000-01-01T11:00:00\", \"variable\": \"TA\", \"value\": 0.18000000715255737, \"is_present\": true, \"mean\": 10.065136909484863, \"std\": 9.793396949768066, \"err_low\": -9.52165699005127, \"err_high\": 29.651931762695312}, {\"time\": \"2000-01-01T11:30:00\", \"variable\": \"TA\", \"value\": 0.20999999344348907, \"is_present\": true, \"mean\": -10.533435821533203, \"std\": 12.213493347167969, \"err_low\": -34.96042251586914, \"err_high\": 13.893550872802734}, {\"time\": \"2000-01-01T12:00:00\", \"variable\": \"TA\", \"value\": 0.23000000417232513, \"is_present\": true, \"mean\": -14.634933471679688, \"std\": 12.501810073852539, \"err_low\": -39.638553619384766, \"err_high\": 10.36868667602539}, {\"time\": \"2000-01-01T12:30:00\", \"variable\": \"TA\", \"value\": 0.33000001311302185, \"is_present\": true, \"mean\": -15.041032791137695, \"std\": 12.501404762268066, \"err_low\": -40.04384231567383, \"err_high\": 9.961776733398438}, {\"time\": \"2000-01-01T13:00:00\", \"variable\": \"TA\", \"value\": 0.4099999964237213, \"is_present\": true, \"mean\": -15.092674255371094, \"std\": 12.50147533416748, \"err_low\": -40.09562683105469, \"err_high\": 9.910276412963867}, {\"time\": \"2000-01-01T13:30:00\", \"variable\": \"TA\", \"value\": 0.4399999976158142, \"is_present\": false, \"mean\": -15.259912490844727, \"std\": 12.501433372497559, \"err_low\": -40.262779235839844, \"err_high\": 9.74295425415039}, {\"time\": \"2000-01-01T14:00:00\", \"variable\": \"TA\", \"value\": 0.47999998927116394, \"is_present\": false, \"mean\": -15.934913635253906, \"std\": 12.680068016052246, \"err_low\": -41.29505157470703, \"err_high\": 9.425222396850586}, {\"time\": \"2000-01-01T14:30:00\", \"variable\": \"TA\", \"value\": 0.49000000953674316, \"is_present\": true, \"mean\": -16.079320907592773, \"std\": 12.68096923828125, \"err_low\": -41.441261291503906, \"err_high\": 9.282617568969727}, {\"time\": \"2000-01-01T15:00:00\", \"variable\": \"TA\", \"value\": 0.5099999904632568, \"is_present\": true, \"mean\": -15.684366226196289, \"std\": 12.501697540283203, \"err_low\": -40.68775939941406, \"err_high\": 9.319028854370117}, {\"time\": \"2000-01-01T15:30:00\", \"variable\": \"TA\", \"value\": 0.5199999809265137, \"is_present\": true, \"mean\": -15.83662223815918, \"std\": 12.501423835754395, \"err_low\": -40.83946990966797, \"err_high\": 9.16622543334961}], \"data-98babda14f8c3f8e59dd647b6bd0412e\": [{\"gap_start\": \"2000-01-01T13:30:00\", \"gap_end\": \"2000-01-01T14:00:00\"}], \"data-fffae18f157eaf106218ac22ce84c0c0\": [{\"time\": \"2000-01-01T11:00:00\", \"variable\": \"SW_IN\", \"value\": 24.729999542236328, \"is_present\": true, \"mean\": 249.1461181640625, \"std\": 163.63638305664062, \"err_low\": -78.12664794921875, \"err_high\": 576.4188842773438}, {\"time\": \"2000-01-01T11:30:00\", \"variable\": \"SW_IN\", \"value\": 47.41999816894531, \"is_present\": true, \"mean\": 96.34870910644531, \"std\": 171.573974609375, \"err_low\": -246.7992401123047, \"err_high\": 439.49664306640625}, {\"time\": \"2000-01-01T12:00:00\", \"variable\": \"SW_IN\", \"value\": 22.049999237060547, \"is_present\": true, \"mean\": 52.080841064453125, \"std\": 172.4852752685547, \"err_low\": -292.88970947265625, \"err_high\": 397.0513916015625}, {\"time\": \"2000-01-01T12:30:00\", \"variable\": \"SW_IN\", \"value\": 18.860000610351562, \"is_present\": true, \"mean\": 39.19804382324219, \"std\": 172.44216918945312, \"err_low\": -305.686279296875, \"err_high\": 384.0823974609375}, {\"time\": \"2000-01-01T13:00:00\", \"variable\": \"SW_IN\", \"value\": 21.100000381469727, \"is_present\": true, \"mean\": 33.23243713378906, \"std\": 172.42825317382812, \"err_low\": -311.62408447265625, \"err_high\": 378.08892822265625}, {\"time\": \"2000-01-01T13:30:00\", \"variable\": \"SW_IN\", \"value\": 28.8700008392334, \"is_present\": false, \"mean\": 28.76636505126953, \"std\": 172.42294311523438, \"err_low\": -316.07952880859375, \"err_high\": 373.61224365234375}, {\"time\": \"2000-01-01T14:00:00\", \"variable\": \"SW_IN\", \"value\": 24.219999313354492, \"is_present\": false, \"mean\": 23.867935180664062, \"std\": 172.73329162597656, \"err_low\": -321.5986328125, \"err_high\": 369.33453369140625}, {\"time\": \"2000-01-01T14:30:00\", \"variable\": \"SW_IN\", \"value\": 24.350000381469727, \"is_present\": true, \"mean\": 22.293724060058594, \"std\": 172.7327423095703, \"err_low\": -323.1717529296875, \"err_high\": 367.75921630859375}, {\"time\": \"2000-01-01T15:00:00\", \"variable\": \"SW_IN\", \"value\": 15.680000305175781, \"is_present\": true, \"mean\": 23.444114685058594, \"std\": 172.42185974121094, \"err_low\": -321.39959716796875, \"err_high\": 368.287841796875}, {\"time\": \"2000-01-01T15:30:00\", \"variable\": \"SW_IN\", \"value\": 8.09000015258789, \"is_present\": true, \"mean\": 22.213653564453125, \"std\": 172.42160034179688, \"err_low\": -322.6295471191406, \"err_high\": 367.0568542480469}], \"data-7af08d5c098e13eaf8c1c8311bcc9907\": [{\"time\": \"2000-01-01T11:00:00\", \"variable\": \"VPD\", \"value\": 0.010999999940395355, \"is_present\": true, \"mean\": 3.8102903366088867, \"std\": 7.697399616241455, \"err_low\": -11.584508895874023, \"err_high\": 19.205089569091797}, {\"time\": \"2000-01-01T11:30:00\", \"variable\": \"VPD\", \"value\": 0.01899999938905239, \"is_present\": true, \"mean\": -14.108515739440918, \"std\": 11.02756404876709, \"err_low\": -36.16364288330078, \"err_high\": 7.946612358093262}, {\"time\": \"2000-01-01T12:00:00\", \"variable\": \"VPD\", \"value\": 0.014000000432133675, \"is_present\": true, \"mean\": -16.384048461914062, \"std\": 11.220937728881836, \"err_low\": -38.825923919677734, \"err_high\": 6.057826995849609}, {\"time\": \"2000-01-01T12:30:00\", \"variable\": \"VPD\", \"value\": 0.00800000037997961, \"is_present\": true, \"mean\": -15.90990924835205, \"std\": 11.218018531799316, \"err_low\": -38.345947265625, \"err_high\": 6.526127815246582}, {\"time\": \"2000-01-01T13:00:00\", \"variable\": \"VPD\", \"value\": 0.006000000052154064, \"is_present\": true, \"mean\": -15.48254108428955, \"std\": 11.217094421386719, \"err_low\": -37.91672897338867, \"err_high\": 6.951647758483887}, {\"time\": \"2000-01-01T13:30:00\", \"variable\": \"VPD\", \"value\": 0.0, \"is_present\": true, \"mean\": -15.421072959899902, \"std\": 11.216886520385742, \"err_low\": -37.8548469543457, \"err_high\": 7.012700080871582}, {\"time\": \"2000-01-01T14:00:00\", \"variable\": \"VPD\", \"value\": 0.0, \"is_present\": true, \"mean\": -16.050174713134766, \"std\": 11.43386173248291, \"err_low\": -38.91790008544922, \"err_high\": 6.817548751831055}, {\"time\": \"2000-01-01T14:30:00\", \"variable\": \"VPD\", \"value\": 0.0, \"is_present\": true, \"mean\": -16.1483097076416, \"std\": 11.436610221862793, \"err_low\": -39.02153015136719, \"err_high\": 6.724910736083984}, {\"time\": \"2000-01-01T15:00:00\", \"variable\": \"VPD\", \"value\": 0.0, \"is_present\": true, \"mean\": -15.69776439666748, \"std\": 11.218371391296387, \"err_low\": -38.13450622558594, \"err_high\": 6.738978385925293}, {\"time\": \"2000-01-01T15:30:00\", \"variable\": \"VPD\", \"value\": 0.0, \"is_present\": true, \"mean\": -15.851336479187012, \"std\": 11.216951370239258, \"err_low\": -38.285240173339844, \"err_high\": 6.582566261291504}], \"data-f596476be78842f44055ebb42da790ee\": [{\"time\": \"2000-01-01T16:00:00\", \"variable\": \"TA\", \"value\": 0.5699999928474426, \"is_present\": true, \"mean\": 10.065136909484863, \"std\": 9.793396949768066, \"err_low\": -9.52165699005127, \"err_high\": 29.651931762695312}, {\"time\": \"2000-01-01T16:30:00\", \"variable\": \"TA\", \"value\": 0.7300000190734863, \"is_present\": true, \"mean\": -10.662317276000977, \"std\": 12.213493347167969, \"err_low\": -35.08930206298828, \"err_high\": 13.764669418334961}, {\"time\": \"2000-01-01T17:00:00\", \"variable\": \"TA\", \"value\": 0.7699999809265137, \"is_present\": true, \"mean\": -15.243759155273438, \"std\": 12.501810073852539, \"err_low\": -40.247379302978516, \"err_high\": 9.75986099243164}, {\"time\": \"2000-01-01T17:30:00\", \"variable\": \"TA\", \"value\": 0.8399999737739563, \"is_present\": true, \"mean\": -15.535520553588867, \"std\": 12.501404762268066, \"err_low\": -40.538330078125, \"err_high\": 9.467288970947266}, {\"time\": \"2000-01-01T18:00:00\", \"variable\": \"TA\", \"value\": 0.9900000095367432, \"is_present\": true, \"mean\": -15.530092239379883, \"std\": 12.50147533416748, \"err_low\": -40.533042907714844, \"err_high\": 9.472858428955078}, {\"time\": \"2000-01-01T18:30:00\", \"variable\": \"TA\", \"value\": 1.350000023841858, \"is_present\": true, \"mean\": -15.391834259033203, \"std\": 12.501433372497559, \"err_low\": -40.39469909667969, \"err_high\": 9.611032485961914}, {\"time\": \"2000-01-01T19:00:00\", \"variable\": \"TA\", \"value\": 1.8600000143051147, \"is_present\": true, \"mean\": -15.163515090942383, \"std\": 12.501421928405762, \"err_low\": -40.166358947753906, \"err_high\": 9.83932876586914}, {\"time\": \"2000-01-01T19:30:00\", \"variable\": \"TA\", \"value\": 2.009999990463257, \"is_present\": false, \"mean\": -14.874094009399414, \"std\": 12.501418113708496, \"err_low\": -39.876930236816406, \"err_high\": 10.128742218017578}, {\"time\": \"2000-01-01T20:00:00\", \"variable\": \"TA\", \"value\": 2.069999933242798, \"is_present\": false, \"mean\": -15.35574722290039, \"std\": 12.680036544799805, \"err_low\": -40.7158203125, \"err_high\": 10.004325866699219}, {\"time\": \"2000-01-01T20:30:00\", \"variable\": \"TA\", \"value\": 2.0, \"is_present\": true, \"mean\": -15.272571563720703, \"std\": 12.68095588684082, \"err_low\": -40.634483337402344, \"err_high\": 10.089340209960938}], \"data-92b2b14a497eb7a4a84b75868a097ce2\": [{\"gap_start\": \"2000-01-01T19:30:00\", \"gap_end\": \"2000-01-01T20:00:00\"}], \"data-6db45bb1cfacc1377968d8590a64ea66\": [{\"time\": \"2000-01-01T16:00:00\", \"variable\": \"SW_IN\", \"value\": 6.369999885559082, \"is_present\": true, \"mean\": 249.1461181640625, \"std\": 163.63638305664062, \"err_low\": -78.12664794921875, \"err_high\": 576.4188842773438}, {\"time\": \"2000-01-01T16:30:00\", \"variable\": \"SW_IN\", \"value\": 1.7200000286102295, \"is_present\": true, \"mean\": 95.49479675292969, \"std\": 171.573974609375, \"err_low\": -247.6531524658203, \"err_high\": 438.64276123046875}, {\"time\": \"2000-01-01T17:00:00\", \"variable\": \"SW_IN\", \"value\": 0.05999999865889549, \"is_present\": true, \"mean\": 49.544883728027344, \"std\": 172.4852752685547, \"err_low\": -295.4256591796875, \"err_high\": 394.51544189453125}, {\"time\": \"2000-01-01T17:30:00\", \"variable\": \"SW_IN\", \"value\": 0.0, \"is_present\": true, \"mean\": 37.98308563232422, \"std\": 172.44216918945312, \"err_low\": -306.9012451171875, \"err_high\": 382.867431640625}, {\"time\": \"2000-01-01T18:00:00\", \"variable\": \"SW_IN\", \"value\": 0.0, \"is_present\": true, \"mean\": 32.92042541503906, \"std\": 172.42825317382812, \"err_low\": -311.93609619140625, \"err_high\": 377.77691650390625}, {\"time\": \"2000-01-01T18:30:00\", \"variable\": \"SW_IN\", \"value\": 0.0, \"is_present\": true, \"mean\": 31.133407592773438, \"std\": 172.42294311523438, \"err_low\": -313.71246337890625, \"err_high\": 375.97930908203125}, {\"time\": \"2000-01-01T19:00:00\", \"variable\": \"SW_IN\", \"value\": 0.0, \"is_present\": true, \"mean\": 31.237258911132812, \"std\": 172.42124938964844, \"err_low\": -313.605224609375, \"err_high\": 376.07977294921875}, {\"time\": \"2000-01-01T19:30:00\", \"variable\": \"SW_IN\", \"value\": 0.0, \"is_present\": false, \"mean\": 32.43153381347656, \"std\": 172.4207000732422, \"err_low\": -312.40985107421875, \"err_high\": 377.27294921875}, {\"time\": \"2000-01-01T20:00:00\", \"variable\": \"SW_IN\", \"value\": 0.0, \"is_present\": false, \"mean\": 30.229835510253906, \"std\": 172.73228454589844, \"err_low\": -315.2347412109375, \"err_high\": 375.69439697265625}, {\"time\": \"2000-01-01T20:30:00\", \"variable\": \"SW_IN\", \"value\": 0.0, \"is_present\": true, \"mean\": 30.948562622070312, \"std\": 172.73240661621094, \"err_low\": -314.5162353515625, \"err_high\": 376.41339111328125}], \"data-aaf8f81fa64c46002fd715114e6310db\": [{\"time\": \"2000-01-01T16:00:00\", \"variable\": \"VPD\", \"value\": 0.0, \"is_present\": true, \"mean\": 3.8102903366088867, \"std\": 7.697399616241455, \"err_low\": -11.584508895874023, \"err_high\": 19.205089569091797}, {\"time\": \"2000-01-01T16:30:00\", \"variable\": \"VPD\", \"value\": 0.0, \"is_present\": true, \"mean\": -14.52087116241455, \"std\": 11.02756404876709, \"err_low\": -36.57600021362305, \"err_high\": 7.534256935119629}, {\"time\": \"2000-01-01T17:00:00\", \"variable\": \"VPD\", \"value\": 0.0, \"is_present\": true, \"mean\": -17.334732055664062, \"std\": 11.220937728881836, \"err_low\": -39.776607513427734, \"err_high\": 5.107143402099609}, {\"time\": \"2000-01-01T17:30:00\", \"variable\": \"VPD\", \"value\": 0.0, \"is_present\": true, \"mean\": -16.826868057250977, \"std\": 11.218018531799316, \"err_low\": -39.26290512084961, \"err_high\": 5.609169006347656}, {\"time\": \"2000-01-01T18:00:00\", \"variable\": \"VPD\", \"value\": 0.0, \"is_present\": true, \"mean\": -16.393232345581055, \"std\": 11.217094421386719, \"err_low\": -38.827423095703125, \"err_high\": 6.040956497192383}, {\"time\": \"2000-01-01T18:30:00\", \"variable\": \"VPD\", \"value\": 0.0, \"is_present\": true, \"mean\": -16.045106887817383, \"std\": 11.216886520385742, \"err_low\": -38.4788818359375, \"err_high\": 6.388666152954102}, {\"time\": \"2000-01-01T19:00:00\", \"variable\": \"VPD\", \"value\": 0.0020000000949949026, \"is_present\": true, \"mean\": -15.724596977233887, \"std\": 11.216814994812012, \"err_low\": -38.158226013183594, \"err_high\": 6.709033012390137}, {\"time\": \"2000-01-01T19:30:00\", \"variable\": \"VPD\", \"value\": 0.008999999612569809, \"is_present\": true, \"mean\": -15.406844139099121, \"std\": 11.216793060302734, \"err_low\": -37.840431213378906, \"err_high\": 7.026741981506348}, {\"time\": \"2000-01-01T20:00:00\", \"variable\": \"VPD\", \"value\": 0.014000000432133675, \"is_present\": true, \"mean\": -15.943629264831543, \"std\": 11.433858871459961, \"err_low\": -38.81134796142578, \"err_high\": 6.924088478088379}, {\"time\": \"2000-01-01T20:30:00\", \"variable\": \"VPD\", \"value\": 0.014000000432133675, \"is_present\": true, \"mean\": -15.880545616149902, \"std\": 11.436609268188477, \"err_low\": -38.75376510620117, \"err_high\": 6.992672920227051}]}}, {\"mode\": \"vega-lite\"});\n",
       "</script>"
      ],
      "text/plain": [
       "alt.HConcatChart(...)"
      ]
     },
     "execution_count": null,
     "metadata": {},
     "output_type": "execute_result"
    }
   ],
   "source": [
    "show_results(learn, items=[1,2,3])"
   ]
  },
  {
   "cell_type": "code",
   "execution_count": null,
   "id": "6127a4ef-4559-4d5d-9aea-ce3fb210bf93",
   "metadata": {},
   "outputs": [
    {
     "data": {
      "text/html": [
       "<p style='font-size: 1.5rem; font-decoration: bold'>Kalman Filter (3 obs, 3 state, 6 contr)<p><div style=\"display: flex; column-gap: 20px; flex-wrap: wrap;\" class='table table-striped table-sm'> <div> <p style='font-size: 1.3rem;'>trans matrix (A)</p> <style type=\"text/css\">\n",
       "</style>\n",
       "<table id=\"T_79245\">\n",
       "  <thead>\n",
       "    <tr>\n",
       "      <th id=\"T_79245_level0_col0\" class=\"col_heading level0 col0\" >state</th>\n",
       "      <th id=\"T_79245_level0_col1\" class=\"col_heading level0 col1\" >x_0</th>\n",
       "      <th id=\"T_79245_level0_col2\" class=\"col_heading level0 col2\" >x_1</th>\n",
       "      <th id=\"T_79245_level0_col3\" class=\"col_heading level0 col3\" >x_2</th>\n",
       "    </tr>\n",
       "  </thead>\n",
       "  <tbody>\n",
       "    <tr>\n",
       "      <td id=\"T_79245_row0_col0\" class=\"data row0 col0\" >x_0</td>\n",
       "      <td id=\"T_79245_row0_col1\" class=\"data row0 col1\" >0.4464</td>\n",
       "      <td id=\"T_79245_row0_col2\" class=\"data row0 col2\" >0.7899</td>\n",
       "      <td id=\"T_79245_row0_col3\" class=\"data row0 col3\" >0.7726</td>\n",
       "    </tr>\n",
       "    <tr>\n",
       "      <td id=\"T_79245_row1_col0\" class=\"data row1 col0\" >x_1</td>\n",
       "      <td id=\"T_79245_row1_col1\" class=\"data row1 col1\" >0.1302</td>\n",
       "      <td id=\"T_79245_row1_col2\" class=\"data row1 col2\" >0.6510</td>\n",
       "      <td id=\"T_79245_row1_col3\" class=\"data row1 col3\" >0.0992</td>\n",
       "    </tr>\n",
       "    <tr>\n",
       "      <td id=\"T_79245_row2_col0\" class=\"data row2 col0\" >x_2</td>\n",
       "      <td id=\"T_79245_row2_col1\" class=\"data row2 col1\" >0.5580</td>\n",
       "      <td id=\"T_79245_row2_col2\" class=\"data row2 col2\" >0.2089</td>\n",
       "      <td id=\"T_79245_row2_col3\" class=\"data row2 col3\" >0.7374</td>\n",
       "    </tr>\n",
       "  </tbody>\n",
       "</table>\n",
       " </div><div> <p style='font-size: 1.3rem;'>trans cov (Q)</p> <style type=\"text/css\">\n",
       "</style>\n",
       "<table id=\"T_1a22f\">\n",
       "  <thead>\n",
       "    <tr>\n",
       "      <th id=\"T_1a22f_level0_col0\" class=\"col_heading level0 col0\" >state</th>\n",
       "      <th id=\"T_1a22f_level0_col1\" class=\"col_heading level0 col1\" >x_0</th>\n",
       "      <th id=\"T_1a22f_level0_col2\" class=\"col_heading level0 col2\" >x_1</th>\n",
       "      <th id=\"T_1a22f_level0_col3\" class=\"col_heading level0 col3\" >x_2</th>\n",
       "    </tr>\n",
       "  </thead>\n",
       "  <tbody>\n",
       "    <tr>\n",
       "      <td id=\"T_1a22f_row0_col0\" class=\"data row0 col0\" >x_0</td>\n",
       "      <td id=\"T_1a22f_row0_col1\" class=\"data row0 col1\" >1.5365</td>\n",
       "      <td id=\"T_1a22f_row0_col2\" class=\"data row0 col2\" >1.0537</td>\n",
       "      <td id=\"T_1a22f_row0_col3\" class=\"data row0 col3\" >1.7783</td>\n",
       "    </tr>\n",
       "    <tr>\n",
       "      <td id=\"T_1a22f_row1_col0\" class=\"data row1 col0\" >x_1</td>\n",
       "      <td id=\"T_1a22f_row1_col1\" class=\"data row1 col1\" >1.0537</td>\n",
       "      <td id=\"T_1a22f_row1_col2\" class=\"data row1 col2\" >0.7544</td>\n",
       "      <td id=\"T_1a22f_row1_col3\" class=\"data row1 col3\" >1.2189</td>\n",
       "    </tr>\n",
       "    <tr>\n",
       "      <td id=\"T_1a22f_row2_col0\" class=\"data row2 col0\" >x_2</td>\n",
       "      <td id=\"T_1a22f_row2_col1\" class=\"data row2 col1\" >1.7783</td>\n",
       "      <td id=\"T_1a22f_row2_col2\" class=\"data row2 col2\" >1.2189</td>\n",
       "      <td id=\"T_1a22f_row2_col3\" class=\"data row2 col3\" >2.1134</td>\n",
       "    </tr>\n",
       "  </tbody>\n",
       "</table>\n",
       " </div><div> <p style='font-size: 1.3rem;'>trans off</p> <style type=\"text/css\">\n",
       "</style>\n",
       "<table id=\"T_0dba3\">\n",
       "  <thead>\n",
       "    <tr>\n",
       "      <th id=\"T_0dba3_level0_col0\" class=\"col_heading level0 col0\" >state</th>\n",
       "      <th id=\"T_0dba3_level0_col1\" class=\"col_heading level0 col1\" >offset</th>\n",
       "    </tr>\n",
       "  </thead>\n",
       "  <tbody>\n",
       "    <tr>\n",
       "      <td id=\"T_0dba3_row0_col0\" class=\"data row0 col0\" >x_0</td>\n",
       "      <td id=\"T_0dba3_row0_col1\" class=\"data row0 col1\" >0.1451</td>\n",
       "    </tr>\n",
       "    <tr>\n",
       "      <td id=\"T_0dba3_row1_col0\" class=\"data row1 col0\" >x_1</td>\n",
       "      <td id=\"T_0dba3_row1_col1\" class=\"data row1 col1\" >0.0107</td>\n",
       "    </tr>\n",
       "    <tr>\n",
       "      <td id=\"T_0dba3_row2_col0\" class=\"data row2 col0\" >x_2</td>\n",
       "      <td id=\"T_0dba3_row2_col1\" class=\"data row2 col1\" >0.9182</td>\n",
       "    </tr>\n",
       "  </tbody>\n",
       "</table>\n",
       " </div><div> <p style='font-size: 1.3rem;'>obs matrix (H)</p> <style type=\"text/css\">\n",
       "</style>\n",
       "<table id=\"T_8e318\">\n",
       "  <thead>\n",
       "    <tr>\n",
       "      <th id=\"T_8e318_level0_col0\" class=\"col_heading level0 col0\" >variable</th>\n",
       "      <th id=\"T_8e318_level0_col1\" class=\"col_heading level0 col1\" >x_0</th>\n",
       "      <th id=\"T_8e318_level0_col2\" class=\"col_heading level0 col2\" >x_1</th>\n",
       "      <th id=\"T_8e318_level0_col3\" class=\"col_heading level0 col3\" >x_2</th>\n",
       "    </tr>\n",
       "  </thead>\n",
       "  <tbody>\n",
       "    <tr>\n",
       "      <td id=\"T_8e318_row0_col0\" class=\"data row0 col0\" >y_0</td>\n",
       "      <td id=\"T_8e318_row0_col1\" class=\"data row0 col1\" >0.5383</td>\n",
       "      <td id=\"T_8e318_row0_col2\" class=\"data row0 col2\" >0.6198</td>\n",
       "      <td id=\"T_8e318_row0_col3\" class=\"data row0 col3\" >0.0148</td>\n",
       "    </tr>\n",
       "    <tr>\n",
       "      <td id=\"T_8e318_row1_col0\" class=\"data row1 col0\" >y_1</td>\n",
       "      <td id=\"T_8e318_row1_col1\" class=\"data row1 col1\" >0.0488</td>\n",
       "      <td id=\"T_8e318_row1_col2\" class=\"data row1 col2\" >0.3357</td>\n",
       "      <td id=\"T_8e318_row1_col3\" class=\"data row1 col3\" >-0.0414</td>\n",
       "    </tr>\n",
       "    <tr>\n",
       "      <td id=\"T_8e318_row2_col0\" class=\"data row2 col0\" >y_2</td>\n",
       "      <td id=\"T_8e318_row2_col1\" class=\"data row2 col1\" >0.8056</td>\n",
       "      <td id=\"T_8e318_row2_col2\" class=\"data row2 col2\" >0.7290</td>\n",
       "      <td id=\"T_8e318_row2_col3\" class=\"data row2 col3\" >0.6516</td>\n",
       "    </tr>\n",
       "  </tbody>\n",
       "</table>\n",
       " </div><div> <p style='font-size: 1.3rem;'>obs cov (R)</p> <style type=\"text/css\">\n",
       "</style>\n",
       "<table id=\"T_7d898\">\n",
       "  <thead>\n",
       "    <tr>\n",
       "      <th id=\"T_7d898_level0_col0\" class=\"col_heading level0 col0\" >variable</th>\n",
       "      <th id=\"T_7d898_level0_col1\" class=\"col_heading level0 col1\" >y_0</th>\n",
       "      <th id=\"T_7d898_level0_col2\" class=\"col_heading level0 col2\" >y_1</th>\n",
       "      <th id=\"T_7d898_level0_col3\" class=\"col_heading level0 col3\" >y_2</th>\n",
       "    </tr>\n",
       "  </thead>\n",
       "  <tbody>\n",
       "    <tr>\n",
       "      <td id=\"T_7d898_row0_col0\" class=\"data row0 col0\" >y_0</td>\n",
       "      <td id=\"T_7d898_row0_col1\" class=\"data row0 col1\" >1.1757</td>\n",
       "      <td id=\"T_7d898_row0_col2\" class=\"data row0 col2\" >0.0000</td>\n",
       "      <td id=\"T_7d898_row0_col3\" class=\"data row0 col3\" >0.0000</td>\n",
       "    </tr>\n",
       "    <tr>\n",
       "      <td id=\"T_7d898_row1_col0\" class=\"data row1 col0\" >y_1</td>\n",
       "      <td id=\"T_7d898_row1_col1\" class=\"data row1 col1\" >0.0000</td>\n",
       "      <td id=\"T_7d898_row1_col2\" class=\"data row1 col2\" >0.7272</td>\n",
       "      <td id=\"T_7d898_row1_col3\" class=\"data row1 col3\" >0.0000</td>\n",
       "    </tr>\n",
       "    <tr>\n",
       "      <td id=\"T_7d898_row2_col0\" class=\"data row2 col0\" >y_2</td>\n",
       "      <td id=\"T_7d898_row2_col1\" class=\"data row2 col1\" >0.0000</td>\n",
       "      <td id=\"T_7d898_row2_col2\" class=\"data row2 col2\" >0.0000</td>\n",
       "      <td id=\"T_7d898_row2_col3\" class=\"data row2 col3\" >1.1596</td>\n",
       "    </tr>\n",
       "  </tbody>\n",
       "</table>\n",
       " </div><div> <p style='font-size: 1.3rem;'>obs off</p> <style type=\"text/css\">\n",
       "</style>\n",
       "<table id=\"T_8e7e0\">\n",
       "  <thead>\n",
       "    <tr>\n",
       "      <th id=\"T_8e7e0_level0_col0\" class=\"col_heading level0 col0\" >variable</th>\n",
       "      <th id=\"T_8e7e0_level0_col1\" class=\"col_heading level0 col1\" >offset</th>\n",
       "    </tr>\n",
       "  </thead>\n",
       "  <tbody>\n",
       "    <tr>\n",
       "      <td id=\"T_8e7e0_row0_col0\" class=\"data row0 col0\" >y_0</td>\n",
       "      <td id=\"T_8e7e0_row0_col1\" class=\"data row0 col1\" >0.2134</td>\n",
       "    </tr>\n",
       "    <tr>\n",
       "      <td id=\"T_8e7e0_row1_col0\" class=\"data row1 col0\" >y_1</td>\n",
       "      <td id=\"T_8e7e0_row1_col1\" class=\"data row1 col1\" >0.7376</td>\n",
       "    </tr>\n",
       "    <tr>\n",
       "      <td id=\"T_8e7e0_row2_col0\" class=\"data row2 col0\" >y_2</td>\n",
       "      <td id=\"T_8e7e0_row2_col1\" class=\"data row2 col1\" >0.0416</td>\n",
       "    </tr>\n",
       "  </tbody>\n",
       "</table>\n",
       " </div><div> <p style='font-size: 1.3rem;'>contr matrix (B)</p> <style type=\"text/css\">\n",
       "</style>\n",
       "<table id=\"T_86f29\">\n",
       "  <thead>\n",
       "    <tr>\n",
       "      <th id=\"T_86f29_level0_col0\" class=\"col_heading level0 col0\" >state</th>\n",
       "      <th id=\"T_86f29_level0_col1\" class=\"col_heading level0 col1\" >c_0</th>\n",
       "      <th id=\"T_86f29_level0_col2\" class=\"col_heading level0 col2\" >c_1</th>\n",
       "      <th id=\"T_86f29_level0_col3\" class=\"col_heading level0 col3\" >c_2</th>\n",
       "      <th id=\"T_86f29_level0_col4\" class=\"col_heading level0 col4\" >c_3</th>\n",
       "      <th id=\"T_86f29_level0_col5\" class=\"col_heading level0 col5\" >c_4</th>\n",
       "      <th id=\"T_86f29_level0_col6\" class=\"col_heading level0 col6\" >c_5</th>\n",
       "    </tr>\n",
       "  </thead>\n",
       "  <tbody>\n",
       "    <tr>\n",
       "      <td id=\"T_86f29_row0_col0\" class=\"data row0 col0\" >x_0</td>\n",
       "      <td id=\"T_86f29_row0_col1\" class=\"data row0 col1\" >0.2899</td>\n",
       "      <td id=\"T_86f29_row0_col2\" class=\"data row0 col2\" >0.4228</td>\n",
       "      <td id=\"T_86f29_row0_col3\" class=\"data row0 col3\" >0.1451</td>\n",
       "      <td id=\"T_86f29_row0_col4\" class=\"data row0 col4\" >0.7358</td>\n",
       "      <td id=\"T_86f29_row0_col5\" class=\"data row0 col5\" >0.4746</td>\n",
       "      <td id=\"T_86f29_row0_col6\" class=\"data row0 col6\" >0.6877</td>\n",
       "    </tr>\n",
       "    <tr>\n",
       "      <td id=\"T_86f29_row1_col0\" class=\"data row1 col0\" >x_1</td>\n",
       "      <td id=\"T_86f29_row1_col1\" class=\"data row1 col1\" >0.7316</td>\n",
       "      <td id=\"T_86f29_row1_col2\" class=\"data row1 col2\" >0.5597</td>\n",
       "      <td id=\"T_86f29_row1_col3\" class=\"data row1 col3\" >0.6148</td>\n",
       "      <td id=\"T_86f29_row1_col4\" class=\"data row1 col4\" >0.0029</td>\n",
       "      <td id=\"T_86f29_row1_col5\" class=\"data row1 col5\" >0.1921</td>\n",
       "      <td id=\"T_86f29_row1_col6\" class=\"data row1 col6\" >0.5328</td>\n",
       "    </tr>\n",
       "    <tr>\n",
       "      <td id=\"T_86f29_row2_col0\" class=\"data row2 col0\" >x_2</td>\n",
       "      <td id=\"T_86f29_row2_col1\" class=\"data row2 col1\" >0.3489</td>\n",
       "      <td id=\"T_86f29_row2_col2\" class=\"data row2 col2\" >0.7573</td>\n",
       "      <td id=\"T_86f29_row2_col3\" class=\"data row2 col3\" >0.6132</td>\n",
       "      <td id=\"T_86f29_row2_col4\" class=\"data row2 col4\" >-0.0402</td>\n",
       "      <td id=\"T_86f29_row2_col5\" class=\"data row2 col5\" >0.7675</td>\n",
       "      <td id=\"T_86f29_row2_col6\" class=\"data row2 col6\" >0.2951</td>\n",
       "    </tr>\n",
       "  </tbody>\n",
       "</table>\n",
       " </div><div> <p style='font-size: 1.3rem;'>init state mean</p> <style type=\"text/css\">\n",
       "</style>\n",
       "<table id=\"T_e681a\">\n",
       "  <thead>\n",
       "    <tr>\n",
       "      <th id=\"T_e681a_level0_col0\" class=\"col_heading level0 col0\" >state</th>\n",
       "      <th id=\"T_e681a_level0_col1\" class=\"col_heading level0 col1\" >mean</th>\n",
       "    </tr>\n",
       "  </thead>\n",
       "  <tbody>\n",
       "    <tr>\n",
       "      <td id=\"T_e681a_row0_col0\" class=\"data row0 col0\" >x_0</td>\n",
       "      <td id=\"T_e681a_row0_col1\" class=\"data row0 col1\" >0.1506</td>\n",
       "    </tr>\n",
       "    <tr>\n",
       "      <td id=\"T_e681a_row1_col0\" class=\"data row1 col0\" >x_1</td>\n",
       "      <td id=\"T_e681a_row1_col1\" class=\"data row1 col1\" >0.0142</td>\n",
       "    </tr>\n",
       "    <tr>\n",
       "      <td id=\"T_e681a_row2_col0\" class=\"data row2 col0\" >x_2</td>\n",
       "      <td id=\"T_e681a_row2_col1\" class=\"data row2 col1\" >0.1370</td>\n",
       "    </tr>\n",
       "  </tbody>\n",
       "</table>\n",
       " </div><div> <p style='font-size: 1.3rem;'>init state cov</p> <style type=\"text/css\">\n",
       "</style>\n",
       "<table id=\"T_ba3a0\">\n",
       "  <thead>\n",
       "    <tr>\n",
       "      <th id=\"T_ba3a0_level0_col0\" class=\"col_heading level0 col0\" >state</th>\n",
       "      <th id=\"T_ba3a0_level0_col1\" class=\"col_heading level0 col1\" >x_0</th>\n",
       "      <th id=\"T_ba3a0_level0_col2\" class=\"col_heading level0 col2\" >x_1</th>\n",
       "      <th id=\"T_ba3a0_level0_col3\" class=\"col_heading level0 col3\" >x_2</th>\n",
       "    </tr>\n",
       "  </thead>\n",
       "  <tbody>\n",
       "    <tr>\n",
       "      <td id=\"T_ba3a0_row0_col0\" class=\"data row0 col0\" >x_0</td>\n",
       "      <td id=\"T_ba3a0_row0_col1\" class=\"data row0 col1\" >1.5550</td>\n",
       "      <td id=\"T_ba3a0_row0_col2\" class=\"data row0 col2\" >0.3154</td>\n",
       "      <td id=\"T_ba3a0_row0_col3\" class=\"data row0 col3\" >1.1289</td>\n",
       "    </tr>\n",
       "    <tr>\n",
       "      <td id=\"T_ba3a0_row1_col0\" class=\"data row1 col0\" >x_1</td>\n",
       "      <td id=\"T_ba3a0_row1_col1\" class=\"data row1 col1\" >0.3154</td>\n",
       "      <td id=\"T_ba3a0_row1_col2\" class=\"data row1 col2\" >0.0885</td>\n",
       "      <td id=\"T_ba3a0_row1_col3\" class=\"data row1 col3\" >0.1441</td>\n",
       "    </tr>\n",
       "    <tr>\n",
       "      <td id=\"T_ba3a0_row2_col0\" class=\"data row2 col0\" >x_2</td>\n",
       "      <td id=\"T_ba3a0_row2_col1\" class=\"data row2 col1\" >1.1289</td>\n",
       "      <td id=\"T_ba3a0_row2_col2\" class=\"data row2 col2\" >0.1441</td>\n",
       "      <td id=\"T_ba3a0_row2_col3\" class=\"data row2 col3\" >1.3553</td>\n",
       "    </tr>\n",
       "  </tbody>\n",
       "</table>\n",
       " </div></div>"
      ],
      "text/plain": [
       "<fastai.learner.Learner>"
      ]
     },
     "execution_count": null,
     "metadata": {},
     "output_type": "execute_result"
    }
   ],
   "source": [
    "learn"
   ]
  },
  {
   "cell_type": "markdown",
   "id": "d09f23d4-5d1b-40cb-adf7-0985b452f42b",
   "metadata": {},
   "source": [
    "#### Interactive"
   ]
  },
  {
   "cell_type": "code",
   "execution_count": null,
   "id": "c9bea97c-c708-45af-8b06-a058f0e6c1f8",
   "metadata": {},
   "outputs": [],
   "source": [
    "#| export\n",
    "from ipywidgets import IntSlider, interact_manual, Text"
   ]
  },
  {
   "cell_type": "code",
   "execution_count": null,
   "id": "f701cf43-72a7-47bd-bf6e-4d2c051fd3ef",
   "metadata": {},
   "outputs": [],
   "source": [
    "#| export\n",
    "def results_custom_gap(learn, df, control, items_idx, var_sel, gap_len, block_len, control_lags):\n",
    "    pipeline,_ = imp_pipeline(df, control, var_sel, gap_len, block_len, control_lags)\n",
    "    \n",
    "    dls = Datasets(items_idx, [pipeline, pipeline]).dataloaders(bs=len(items_idx))\n",
    "    return get_results(learn, items=items_idx, dls=dls)"
   ]
  },
  {
   "cell_type": "code",
   "execution_count": null,
   "id": "eba864dd-5b28-4a18-a88b-a70ab4a36aa7",
   "metadata": {},
   "outputs": [
    {
     "data": {
      "text/html": [
       "\n",
       "<div id=\"altair-viz-80eaab98e8fa4e92b3b20c7a0e4b0a97\"></div>\n",
       "<script type=\"text/javascript\">\n",
       "  var VEGA_DEBUG = (typeof VEGA_DEBUG == \"undefined\") ? {} : VEGA_DEBUG;\n",
       "  (function(spec, embedOpt){\n",
       "    let outputDiv = document.currentScript.previousElementSibling;\n",
       "    if (outputDiv.id !== \"altair-viz-80eaab98e8fa4e92b3b20c7a0e4b0a97\") {\n",
       "      outputDiv = document.getElementById(\"altair-viz-80eaab98e8fa4e92b3b20c7a0e4b0a97\");\n",
       "    }\n",
       "    const paths = {\n",
       "      \"vega\": \"https://cdn.jsdelivr.net/npm//vega@5?noext\",\n",
       "      \"vega-lib\": \"https://cdn.jsdelivr.net/npm//vega-lib?noext\",\n",
       "      \"vega-lite\": \"https://cdn.jsdelivr.net/npm//vega-lite@5.2.0?noext\",\n",
       "      \"vega-embed\": \"https://cdn.jsdelivr.net/npm//vega-embed@6?noext\",\n",
       "    };\n",
       "\n",
       "    function maybeLoadScript(lib, version) {\n",
       "      var key = `${lib.replace(\"-\", \"\")}_version`;\n",
       "      return (VEGA_DEBUG[key] == version) ?\n",
       "        Promise.resolve(paths[lib]) :\n",
       "        new Promise(function(resolve, reject) {\n",
       "          var s = document.createElement('script');\n",
       "          document.getElementsByTagName(\"head\")[0].appendChild(s);\n",
       "          s.async = true;\n",
       "          s.onload = () => {\n",
       "            VEGA_DEBUG[key] = version;\n",
       "            return resolve(paths[lib]);\n",
       "          };\n",
       "          s.onerror = () => reject(`Error loading script: ${paths[lib]}`);\n",
       "          s.src = paths[lib];\n",
       "        });\n",
       "    }\n",
       "\n",
       "    function showError(err) {\n",
       "      outputDiv.innerHTML = `<div class=\"error\" style=\"color:red;\">${err}</div>`;\n",
       "      throw err;\n",
       "    }\n",
       "\n",
       "    function displayChart(vegaEmbed) {\n",
       "      vegaEmbed(outputDiv, spec, embedOpt)\n",
       "        .catch(err => showError(`Javascript Error: ${err.message}<br>This usually means there's a typo in your chart specification. See the javascript console for the full traceback.`));\n",
       "    }\n",
       "\n",
       "    if(typeof define === \"function\" && define.amd) {\n",
       "      requirejs.config({paths});\n",
       "      require([\"vega-embed\"], displayChart, err => showError(`Error loading script: ${err.message}`));\n",
       "    } else {\n",
       "      maybeLoadScript(\"vega\", \"5\")\n",
       "        .then(() => maybeLoadScript(\"vega-lite\", \"5.2.0\"))\n",
       "        .then(() => maybeLoadScript(\"vega-embed\", \"6\"))\n",
       "        .catch(showError)\n",
       "        .then(() => displayChart(vegaEmbed));\n",
       "    }\n",
       "  })({\"config\": {\"view\": {\"continuousWidth\": 400, \"continuousHeight\": 300}}, \"hconcat\": [{\"vconcat\": [{\"hconcat\": [{\"layer\": [{\"data\": {\"name\": \"data-5dc4520811d5f4723f0c4b69b9509fb0\"}, \"mark\": {\"type\": \"point\", \"color\": \"black\", \"fillOpacity\": 1, \"strokeWidth\": 1}, \"encoding\": {\"fill\": {\"field\": \"is_present\", \"legend\": {\"title\": [\"Observed data\"]}, \"scale\": {\"range\": [\"black\", \"#ffffff00\"]}, \"type\": \"nominal\"}, \"shape\": {\"field\": \"is_present\", \"type\": \"nominal\"}, \"x\": {\"axis\": {\"domain\": true, \"labels\": true, \"ticks\": true, \"title\": \"time\"}, \"field\": \"time\", \"type\": \"temporal\"}, \"y\": {\"field\": \"value\", \"scale\": {\"zero\": false}, \"title\": \"TA\", \"type\": \"quantitative\"}}}, {\"layer\": [{\"mark\": \"rule\", \"encoding\": {\"x\": {\"axis\": {\"domain\": false, \"labels\": false, \"ticks\": false, \"title\": null}, \"field\": \"gap_start\", \"type\": \"temporal\"}}}, {\"mark\": \"rule\", \"encoding\": {\"x\": {\"axis\": {\"domain\": false, \"labels\": false, \"ticks\": false, \"title\": null}, \"field\": \"gap_end\", \"type\": \"temporal\"}}}, {\"mark\": {\"type\": \"rect\", \"color\": \"black\", \"opacity\": 0.2}, \"encoding\": {\"x\": {\"axis\": {\"domain\": false, \"labels\": false, \"ticks\": false, \"title\": null}, \"field\": \"gap_start\", \"type\": \"temporal\"}, \"x2\": {\"field\": \"gap_end\"}}}], \"data\": {\"name\": \"data-1d6c5a571a1f24050ebd001dbe5dfa4d\"}}, {\"layer\": [{\"mark\": \"errorband\", \"encoding\": {\"color\": {\"field\": \"variable\", \"legend\": {\"title\": [\"Line: pred. mean\", \"area: +/- 2 std\"]}, \"type\": \"nominal\"}, \"x\": {\"field\": \"time\", \"type\": \"temporal\"}, \"y\": {\"field\": \"err_low\", \"scale\": {\"zero\": false}, \"title\": \"TA\", \"type\": \"quantitative\"}, \"y2\": {\"field\": \"err_high\"}}, \"name\": \"view_42\"}, {\"mark\": \"line\", \"encoding\": {\"color\": {\"field\": \"variable\", \"type\": \"nominal\"}, \"x\": {\"field\": \"time\", \"type\": \"temporal\"}, \"y\": {\"field\": \"mean\", \"scale\": {\"zero\": false}, \"title\": \"TA\", \"type\": \"quantitative\"}}}], \"data\": {\"name\": \"data-5dc4520811d5f4723f0c4b69b9509fb0\"}}], \"height\": 150, \"title\": \"TA\", \"width\": 200}]}, {\"hconcat\": [{\"layer\": [{\"mark\": {\"type\": \"point\", \"color\": \"black\", \"fillOpacity\": 1, \"strokeWidth\": 1}, \"encoding\": {\"fill\": {\"field\": \"is_present\", \"legend\": {\"title\": [\"Observed data\"]}, \"scale\": {\"range\": [\"black\", \"#ffffff00\"]}, \"type\": \"nominal\"}, \"shape\": {\"field\": \"is_present\", \"type\": \"nominal\"}, \"x\": {\"axis\": {\"domain\": true, \"labels\": true, \"ticks\": true, \"title\": \"time\"}, \"field\": \"time\", \"type\": \"temporal\"}, \"y\": {\"field\": \"value\", \"scale\": {\"zero\": false}, \"title\": \"SW_IN\", \"type\": \"quantitative\"}}}, {\"layer\": [{\"mark\": \"errorband\", \"encoding\": {\"color\": {\"field\": \"variable\", \"legend\": {\"title\": [\"Line: pred. mean\", \"area: +/- 2 std\"]}, \"type\": \"nominal\"}, \"x\": {\"field\": \"time\", \"type\": \"temporal\"}, \"y\": {\"field\": \"err_low\", \"scale\": {\"zero\": false}, \"title\": \"SW_IN\", \"type\": \"quantitative\"}, \"y2\": {\"field\": \"err_high\"}}, \"name\": \"view_43\"}, {\"mark\": \"line\", \"encoding\": {\"color\": {\"field\": \"variable\", \"type\": \"nominal\"}, \"x\": {\"field\": \"time\", \"type\": \"temporal\"}, \"y\": {\"field\": \"mean\", \"scale\": {\"zero\": false}, \"title\": \"SW_IN\", \"type\": \"quantitative\"}}}]}], \"height\": 150, \"title\": \"SW_IN\", \"width\": 200}], \"data\": {\"name\": \"data-f4bad92193b248129c8093f841cc94c3\"}}, {\"hconcat\": [{\"layer\": [{\"mark\": {\"type\": \"point\", \"color\": \"black\", \"fillOpacity\": 1, \"strokeWidth\": 1}, \"encoding\": {\"fill\": {\"field\": \"is_present\", \"legend\": {\"title\": [\"Observed data\"]}, \"scale\": {\"range\": [\"black\", \"#ffffff00\"]}, \"type\": \"nominal\"}, \"shape\": {\"field\": \"is_present\", \"type\": \"nominal\"}, \"x\": {\"axis\": {\"domain\": true, \"labels\": true, \"ticks\": true, \"title\": \"time\"}, \"field\": \"time\", \"type\": \"temporal\"}, \"y\": {\"field\": \"value\", \"scale\": {\"zero\": false}, \"title\": \"VPD\", \"type\": \"quantitative\"}}}, {\"layer\": [{\"mark\": \"errorband\", \"encoding\": {\"color\": {\"field\": \"variable\", \"legend\": {\"title\": [\"Line: pred. mean\", \"area: +/- 2 std\"]}, \"type\": \"nominal\"}, \"x\": {\"field\": \"time\", \"type\": \"temporal\"}, \"y\": {\"field\": \"err_low\", \"scale\": {\"zero\": false}, \"title\": \"VPD\", \"type\": \"quantitative\"}, \"y2\": {\"field\": \"err_high\"}}, \"name\": \"view_44\"}, {\"mark\": \"line\", \"encoding\": {\"color\": {\"field\": \"variable\", \"type\": \"nominal\"}, \"x\": {\"field\": \"time\", \"type\": \"temporal\"}, \"y\": {\"field\": \"mean\", \"scale\": {\"zero\": false}, \"title\": \"VPD\", \"type\": \"quantitative\"}}}]}], \"height\": 150, \"title\": \"VPD\", \"width\": 200}], \"data\": {\"name\": \"data-eb0d538de2459f53a8e0952265834120\"}}], \"title\": \"loss: 10.200410\"}, {\"vconcat\": [{\"hconcat\": [{\"layer\": [{\"data\": {\"name\": \"data-d0fa0190573eb637c0ec76626f20940d\"}, \"mark\": {\"type\": \"point\", \"color\": \"black\", \"fillOpacity\": 1, \"strokeWidth\": 1}, \"encoding\": {\"fill\": {\"field\": \"is_present\", \"legend\": {\"title\": [\"Observed data\"]}, \"scale\": {\"range\": [\"black\", \"#ffffff00\"]}, \"type\": \"nominal\"}, \"shape\": {\"field\": \"is_present\", \"type\": \"nominal\"}, \"x\": {\"axis\": {\"domain\": true, \"labels\": true, \"ticks\": true, \"title\": \"time\"}, \"field\": \"time\", \"type\": \"temporal\"}, \"y\": {\"field\": \"value\", \"scale\": {\"zero\": false}, \"title\": \"TA\", \"type\": \"quantitative\"}}}, {\"layer\": [{\"mark\": \"rule\", \"encoding\": {\"x\": {\"axis\": {\"domain\": false, \"labels\": false, \"ticks\": false, \"title\": null}, \"field\": \"gap_start\", \"type\": \"temporal\"}}}, {\"mark\": \"rule\", \"encoding\": {\"x\": {\"axis\": {\"domain\": false, \"labels\": false, \"ticks\": false, \"title\": null}, \"field\": \"gap_end\", \"type\": \"temporal\"}}}, {\"mark\": {\"type\": \"rect\", \"color\": \"black\", \"opacity\": 0.2}, \"encoding\": {\"x\": {\"axis\": {\"domain\": false, \"labels\": false, \"ticks\": false, \"title\": null}, \"field\": \"gap_start\", \"type\": \"temporal\"}, \"x2\": {\"field\": \"gap_end\"}}}], \"data\": {\"name\": \"data-a22b92627e11f383ec713a8f7793640a\"}}, {\"layer\": [{\"mark\": \"errorband\", \"encoding\": {\"color\": {\"field\": \"variable\", \"legend\": {\"title\": [\"Line: pred. mean\", \"area: +/- 2 std\"]}, \"type\": \"nominal\"}, \"x\": {\"field\": \"time\", \"type\": \"temporal\"}, \"y\": {\"field\": \"err_low\", \"scale\": {\"zero\": false}, \"title\": \"TA\", \"type\": \"quantitative\"}, \"y2\": {\"field\": \"err_high\"}}, \"name\": \"view_45\"}, {\"mark\": \"line\", \"encoding\": {\"color\": {\"field\": \"variable\", \"type\": \"nominal\"}, \"x\": {\"field\": \"time\", \"type\": \"temporal\"}, \"y\": {\"field\": \"mean\", \"scale\": {\"zero\": false}, \"title\": \"TA\", \"type\": \"quantitative\"}}}], \"data\": {\"name\": \"data-d0fa0190573eb637c0ec76626f20940d\"}}], \"height\": 150, \"title\": \"TA\", \"width\": 200}]}, {\"hconcat\": [{\"layer\": [{\"mark\": {\"type\": \"point\", \"color\": \"black\", \"fillOpacity\": 1, \"strokeWidth\": 1}, \"encoding\": {\"fill\": {\"field\": \"is_present\", \"legend\": {\"title\": [\"Observed data\"]}, \"scale\": {\"range\": [\"black\", \"#ffffff00\"]}, \"type\": \"nominal\"}, \"shape\": {\"field\": \"is_present\", \"type\": \"nominal\"}, \"x\": {\"axis\": {\"domain\": true, \"labels\": true, \"ticks\": true, \"title\": \"time\"}, \"field\": \"time\", \"type\": \"temporal\"}, \"y\": {\"field\": \"value\", \"scale\": {\"zero\": false}, \"title\": \"SW_IN\", \"type\": \"quantitative\"}}}, {\"layer\": [{\"mark\": \"errorband\", \"encoding\": {\"color\": {\"field\": \"variable\", \"legend\": {\"title\": [\"Line: pred. mean\", \"area: +/- 2 std\"]}, \"type\": \"nominal\"}, \"x\": {\"field\": \"time\", \"type\": \"temporal\"}, \"y\": {\"field\": \"err_low\", \"scale\": {\"zero\": false}, \"title\": \"SW_IN\", \"type\": \"quantitative\"}, \"y2\": {\"field\": \"err_high\"}}, \"name\": \"view_46\"}, {\"mark\": \"line\", \"encoding\": {\"color\": {\"field\": \"variable\", \"type\": \"nominal\"}, \"x\": {\"field\": \"time\", \"type\": \"temporal\"}, \"y\": {\"field\": \"mean\", \"scale\": {\"zero\": false}, \"title\": \"SW_IN\", \"type\": \"quantitative\"}}}]}], \"height\": 150, \"title\": \"SW_IN\", \"width\": 200}], \"data\": {\"name\": \"data-78da5fd68b656c36d8954f9d1518449a\"}}, {\"hconcat\": [{\"layer\": [{\"mark\": {\"type\": \"point\", \"color\": \"black\", \"fillOpacity\": 1, \"strokeWidth\": 1}, \"encoding\": {\"fill\": {\"field\": \"is_present\", \"legend\": {\"title\": [\"Observed data\"]}, \"scale\": {\"range\": [\"black\", \"#ffffff00\"]}, \"type\": \"nominal\"}, \"shape\": {\"field\": \"is_present\", \"type\": \"nominal\"}, \"x\": {\"axis\": {\"domain\": true, \"labels\": true, \"ticks\": true, \"title\": \"time\"}, \"field\": \"time\", \"type\": \"temporal\"}, \"y\": {\"field\": \"value\", \"scale\": {\"zero\": false}, \"title\": \"VPD\", \"type\": \"quantitative\"}}}, {\"layer\": [{\"mark\": \"errorband\", \"encoding\": {\"color\": {\"field\": \"variable\", \"legend\": {\"title\": [\"Line: pred. mean\", \"area: +/- 2 std\"]}, \"type\": \"nominal\"}, \"x\": {\"field\": \"time\", \"type\": \"temporal\"}, \"y\": {\"field\": \"err_low\", \"scale\": {\"zero\": false}, \"title\": \"VPD\", \"type\": \"quantitative\"}, \"y2\": {\"field\": \"err_high\"}}, \"name\": \"view_47\"}, {\"mark\": \"line\", \"encoding\": {\"color\": {\"field\": \"variable\", \"type\": \"nominal\"}, \"x\": {\"field\": \"time\", \"type\": \"temporal\"}, \"y\": {\"field\": \"mean\", \"scale\": {\"zero\": false}, \"title\": \"VPD\", \"type\": \"quantitative\"}}}]}], \"height\": 150, \"title\": \"VPD\", \"width\": 200}], \"data\": {\"name\": \"data-9cabf636876a8b566299cef4371cc984\"}}], \"title\": \"loss: 10.404292\"}], \"params\": [{\"name\": \"param_59\", \"select\": {\"type\": \"interval\", \"encodings\": [\"x\"]}, \"bind\": \"scales\", \"views\": [\"view_42\", \"view_43\", \"view_44\"]}, {\"name\": \"param_63\", \"select\": {\"type\": \"interval\", \"encodings\": [\"x\"]}, \"bind\": \"scales\", \"views\": [\"view_45\", \"view_46\", \"view_47\"]}], \"$schema\": \"https://vega.github.io/schema/vega-lite/v5.2.0.json\", \"datasets\": {\"data-5dc4520811d5f4723f0c4b69b9509fb0\": [{\"time\": \"2009-02-15T09:00:00\", \"variable\": \"TA\", \"value\": -5.97, \"is_present\": true, \"mean\": 15.623978901217324, \"std\": 6.825823975547766, \"err_low\": 1.9723309501217923, \"err_high\": 29.275626852312854}, {\"time\": \"2009-02-15T09:30:00\", \"variable\": \"TA\", \"value\": -6.05, \"is_present\": true, \"mean\": -7.426648333962136, \"std\": 9.315447874964327, \"err_low\": -26.05754408389079, \"err_high\": 11.204247415966519}, {\"time\": \"2009-02-15T10:00:00\", \"variable\": \"TA\", \"value\": -5.75, \"is_present\": true, \"mean\": -6.619653071584738, \"std\": 9.362197083707887, \"err_low\": -25.34404723900051, \"err_high\": 12.104741095831036}, {\"time\": \"2009-02-15T10:30:00\", \"variable\": \"TA\", \"value\": -5.28, \"is_present\": true, \"mean\": -4.056231943085457, \"std\": 9.356704555522509, \"err_low\": -22.769641054130474, \"err_high\": 14.65717716795956}, {\"time\": \"2009-02-15T11:00:00\", \"variable\": \"TA\", \"value\": -4.52, \"is_present\": true, \"mean\": -1.6073933795703415, \"std\": 9.355427820551169, \"err_low\": -20.31824902067268, \"err_high\": 17.103462261531995}, {\"time\": \"2009-02-15T11:30:00\", \"variable\": \"TA\", \"value\": -3.78, \"is_present\": true, \"mean\": 0.7828229216740521, \"std\": 9.355189913292323, \"err_low\": -17.927556904910595, \"err_high\": 19.493202748258696}, {\"time\": \"2009-02-15T12:00:00\", \"variable\": \"TA\", \"value\": -3.45, \"is_present\": true, \"mean\": 2.669605199788431, \"std\": 9.355147131782362, \"err_low\": -16.04068906377629, \"err_high\": 21.379899463353155}, {\"time\": \"2009-02-15T12:30:00\", \"variable\": \"TA\", \"value\": -3.44, \"is_present\": true, \"mean\": 3.6296023899336314, \"std\": 9.355139488532238, \"err_low\": -15.080676587130846, \"err_high\": 22.339881366998107}, {\"time\": \"2009-02-15T13:00:00\", \"variable\": \"TA\", \"value\": -3.55, \"is_present\": true, \"mean\": 4.268957491570629, \"std\": 9.35513812571289, \"err_low\": -14.44131875985515, \"err_high\": 22.979233742996406}, {\"time\": \"2009-02-15T13:30:00\", \"variable\": \"TA\", \"value\": -3.25, \"is_present\": true, \"mean\": 5.682198731769583, \"std\": 9.355137882754034, \"err_low\": -13.028077033738485, \"err_high\": 24.392474497277654}, {\"time\": \"2009-02-15T14:00:00\", \"variable\": \"TA\", \"value\": -3.43, \"is_present\": true, \"mean\": 4.261199549066652, \"std\": 9.355137839449855, \"err_low\": -14.449076129833056, \"err_high\": 22.971475227966362}, {\"time\": \"2009-02-15T14:30:00\", \"variable\": \"TA\", \"value\": -3.41, \"is_present\": true, \"mean\": 2.799657851422511, \"std\": 9.355137831730952, \"err_low\": -15.910617812039392, \"err_high\": 21.509933514884416}, {\"time\": \"2009-02-15T15:00:00\", \"variable\": \"TA\", \"value\": -3.31, \"is_present\": true, \"mean\": 2.244502554753793, \"std\": 9.355137830355146, \"err_low\": -16.465773105956497, \"err_high\": 20.954778215464085}, {\"time\": \"2009-02-15T15:30:00\", \"variable\": \"TA\", \"value\": -3.36, \"is_present\": true, \"mean\": 2.505050714437002, \"std\": 9.35513783010992, \"err_low\": -16.205224945782838, \"err_high\": 21.21532637465684}, {\"time\": \"2009-02-15T16:00:00\", \"variable\": \"TA\", \"value\": -3.5, \"is_present\": true, \"mean\": 1.6742823971996712, \"std\": 9.355137830066209, \"err_low\": -17.035993262932745, \"err_high\": 20.38455805733209}, {\"time\": \"2009-02-15T16:30:00\", \"variable\": \"TA\", \"value\": -3.57, \"is_present\": true, \"mean\": 1.351318348758519, \"std\": 9.355137830058412, \"err_low\": -17.358957311358306, \"err_high\": 20.061594008875343}, {\"time\": \"2009-02-15T17:00:00\", \"variable\": \"TA\", \"value\": -3.68, \"is_present\": true, \"mean\": -0.3088056725259598, \"std\": 9.355137830057036, \"err_low\": -19.01908133264003, \"err_high\": 18.40146998758811}, {\"time\": \"2009-02-15T17:30:00\", \"variable\": \"TA\", \"value\": -3.63, \"is_present\": true, \"mean\": -1.0400940284384568, \"std\": 9.355137830056785, \"err_low\": -19.750369688552027, \"err_high\": 17.670181631675113}, {\"time\": \"2009-02-15T18:00:00\", \"variable\": \"TA\", \"value\": -3.57, \"is_present\": true, \"mean\": -1.6823566400846168, \"std\": 9.355137830056751, \"err_low\": -20.39263230019812, \"err_high\": 17.027919020028886}, {\"time\": \"2009-02-15T18:30:00\", \"variable\": \"TA\", \"value\": -3.55, \"is_present\": true, \"mean\": -2.1347949946471836, \"std\": 9.355137830056727, \"err_low\": -20.845070654760637, \"err_high\": 16.57548066546627}, {\"time\": \"2009-02-15T19:00:00\", \"variable\": \"TA\", \"value\": -3.66, \"is_present\": true, \"mean\": -2.4972137450674747, \"std\": 9.355137830056737, \"err_low\": -21.20748940518095, \"err_high\": 16.213061915045998}, {\"time\": \"2009-02-15T19:30:00\", \"variable\": \"TA\", \"value\": -3.79, \"is_present\": true, \"mean\": -2.9434943002725493, \"std\": 9.355137830056742, \"err_low\": -21.653769960386036, \"err_high\": 15.766781359840936}, {\"time\": \"2009-02-15T20:00:00\", \"variable\": \"TA\", \"value\": -3.86, \"is_present\": true, \"mean\": -3.19996775498975, \"std\": 9.355137830056728, \"err_low\": -21.910243415103206, \"err_high\": 15.510307905123707}, {\"time\": \"2009-02-15T20:30:00\", \"variable\": \"TA\", \"value\": -3.8, \"is_present\": true, \"mean\": -3.3138124039422348, \"std\": 9.355137830056734, \"err_low\": -22.024088064055704, \"err_high\": 15.396463256171232}, {\"time\": \"2009-02-15T21:00:00\", \"variable\": \"TA\", \"value\": -3.67, \"is_present\": true, \"mean\": -3.374959370514011, \"std\": 9.355137830056728, \"err_low\": -22.085235030627466, \"err_high\": 15.335316289599445}, {\"time\": \"2009-02-15T21:30:00\", \"variable\": \"TA\", \"value\": -3.56, \"is_present\": true, \"mean\": -3.406502454816728, \"std\": 9.355137830056737, \"err_low\": -22.116778114930202, \"err_high\": 15.303773205296746}, {\"time\": \"2009-02-15T22:00:00\", \"variable\": \"TA\", \"value\": -3.52, \"is_present\": true, \"mean\": -3.4349972406491514, \"std\": 9.355137830056734, \"err_low\": -22.14527290076262, \"err_high\": 15.275278419464316}, {\"time\": \"2009-02-15T22:30:00\", \"variable\": \"TA\", \"value\": -3.48, \"is_present\": true, \"mean\": -3.501833711570635, \"std\": 9.355137830056732, \"err_low\": -22.2121093716841, \"err_high\": 15.208441948542829}, {\"time\": \"2009-02-15T23:00:00\", \"variable\": \"TA\", \"value\": -3.45, \"is_present\": true, \"mean\": -3.55073516921245, \"std\": 9.355137830056718, \"err_low\": -22.261010829325883, \"err_high\": 15.159540490900985}, {\"time\": \"2009-02-15T23:30:00\", \"variable\": \"TA\", \"value\": -3.43, \"is_present\": true, \"mean\": -3.5732567491803877, \"std\": 9.355137830056734, \"err_low\": -22.283532409293855, \"err_high\": 15.13701891093308}, {\"time\": \"2009-02-16T00:00:00\", \"variable\": \"TA\", \"value\": -3.39, \"is_present\": true, \"mean\": -3.613928985526508, \"std\": 9.355137830056725, \"err_low\": -22.32420464563996, \"err_high\": 15.096346674586941}, {\"time\": \"2009-02-16T00:30:00\", \"variable\": \"TA\", \"value\": -3.33, \"is_present\": true, \"mean\": -3.6461475926153533, \"std\": 9.355137830056737, \"err_low\": -22.356423252728828, \"err_high\": 15.064128067498121}, {\"time\": \"2009-02-16T01:00:00\", \"variable\": \"TA\", \"value\": -3.29, \"is_present\": true, \"mean\": -3.6643191061934477, \"std\": 9.355137830056723, \"err_low\": -22.374594766306892, \"err_high\": 15.045956553919998}, {\"time\": \"2009-02-16T01:30:00\", \"variable\": \"TA\", \"value\": -3.23, \"is_present\": true, \"mean\": -3.690009415946575, \"std\": 9.355137830056728, \"err_low\": -22.40028507606003, \"err_high\": 15.020266244166882}, {\"time\": \"2009-02-16T02:00:00\", \"variable\": \"TA\", \"value\": -3.2, \"is_present\": true, \"mean\": -3.73744365783641, \"std\": 9.355137830056723, \"err_low\": -22.447719317949854, \"err_high\": 14.972832002277036}, {\"time\": \"2009-02-16T02:30:00\", \"variable\": \"TA\", \"value\": -3.18, \"is_present\": true, \"mean\": -3.7967809012222027, \"std\": 9.355137830056727, \"err_low\": -22.507056561335656, \"err_high\": 14.91349475889125}, {\"time\": \"2009-02-16T03:00:00\", \"variable\": \"TA\", \"value\": -3.11, \"is_present\": true, \"mean\": -3.863729114225773, \"std\": 9.355137830056732, \"err_low\": -22.574004774339237, \"err_high\": 14.84654654588769}, {\"time\": \"2009-02-16T03:30:00\", \"variable\": \"TA\", \"value\": -3.04, \"is_present\": true, \"mean\": -3.9173512947535922, \"std\": 9.355137830056734, \"err_low\": -22.62762695486706, \"err_high\": 14.792924365359875}, {\"time\": \"2009-02-16T04:00:00\", \"variable\": \"TA\", \"value\": -3.0, \"is_present\": true, \"mean\": -3.964489631753551, \"std\": 9.355137830056732, \"err_low\": -22.674765291867015, \"err_high\": 14.745786028359912}, {\"time\": \"2009-02-16T04:30:00\", \"variable\": \"TA\", \"value\": -2.94, \"is_present\": true, \"mean\": -4.020826317186007, \"std\": 9.355137830056732, \"err_low\": -22.73110197729947, \"err_high\": 14.689449342927457}, {\"time\": \"2009-02-16T05:00:00\", \"variable\": \"TA\", \"value\": -2.89, \"is_present\": true, \"mean\": -3.9998279560181285, \"std\": 9.355137830056735, \"err_low\": -22.710103616131597, \"err_high\": 14.710447704095342}, {\"time\": \"2009-02-16T05:30:00\", \"variable\": \"TA\", \"value\": -2.83, \"is_present\": true, \"mean\": -3.9398068603861063, \"std\": 9.355137830056727, \"err_low\": -22.65008252049956, \"err_high\": 14.770468799727347}, {\"time\": \"2009-02-16T06:00:00\", \"variable\": \"TA\", \"value\": -2.78, \"is_present\": true, \"mean\": -3.8855646721455397, \"std\": 9.355137830056732, \"err_low\": -22.595840332259, \"err_high\": 14.824710987967924}, {\"time\": \"2009-02-16T06:30:00\", \"variable\": \"TA\", \"value\": -2.71, \"is_present\": true, \"mean\": -3.8381797696610693, \"std\": 9.355137830056732, \"err_low\": -22.548455429774535, \"err_high\": 14.872095890452394}, {\"time\": \"2009-02-16T07:00:00\", \"variable\": \"TA\", \"value\": -2.61, \"is_present\": true, \"mean\": -3.790217289002584, \"std\": 9.35513783005674, \"err_low\": -22.500492949116065, \"err_high\": 14.920058371110898}, {\"time\": \"2009-02-16T07:30:00\", \"variable\": \"TA\", \"value\": -2.55, \"is_present\": true, \"mean\": -3.7395946356820637, \"std\": 9.355137830056734, \"err_low\": -22.44987029579553, \"err_high\": 14.970681024431403}, {\"time\": \"2009-02-16T08:00:00\", \"variable\": \"TA\", \"value\": -2.45, \"is_present\": true, \"mean\": -3.6423828665825866, \"std\": 9.355137830056737, \"err_low\": -22.35265852669606, \"err_high\": 15.067892793530888}, {\"time\": \"2009-02-16T08:30:00\", \"variable\": \"TA\", \"value\": -2.38, \"is_present\": true, \"mean\": -3.4475388408959127, \"std\": 9.355137830056732, \"err_low\": -22.157814501009376, \"err_high\": 15.262736819217551}, {\"time\": \"2009-02-16T09:00:00\", \"variable\": \"TA\", \"value\": -2.24, \"is_present\": true, \"mean\": -3.1100975254255587, \"std\": 9.355137830056734, \"err_low\": -21.820373185539026, \"err_high\": 15.600178134687908}, {\"time\": \"2009-02-16T09:30:00\", \"variable\": \"TA\", \"value\": -2.11, \"is_present\": true, \"mean\": -2.691737668365967, \"std\": 9.355137830056734, \"err_low\": -21.402013328479434, \"err_high\": 16.0185379917475}, {\"time\": \"2009-02-16T10:00:00\", \"variable\": \"TA\", \"value\": -1.94, \"is_present\": true, \"mean\": -2.336005609978983, \"std\": 9.35513783005672, \"err_low\": -21.046281270092422, \"err_high\": 16.374270050134456}, {\"time\": \"2009-02-16T10:30:00\", \"variable\": \"TA\", \"value\": -1.73, \"is_present\": true, \"mean\": -1.929850624322805, \"std\": 9.355137830056728, \"err_low\": -20.640126284436263, \"err_high\": 16.78042503579065}, {\"time\": \"2009-02-16T11:00:00\", \"variable\": \"TA\", \"value\": -1.45, \"is_present\": true, \"mean\": -0.9989020575587766, \"std\": 9.355137830056732, \"err_low\": -19.70917771767224, \"err_high\": 17.711373602554687}, {\"time\": \"2009-02-16T11:30:00\", \"variable\": \"TA\", \"value\": -1.13, \"is_present\": true, \"mean\": 0.09207365564131287, \"std\": 9.355137830056734, \"err_low\": -18.618202004472153, \"err_high\": 18.802349315754782}, {\"time\": \"2009-02-16T12:00:00\", \"variable\": \"TA\", \"value\": -0.93, \"is_present\": true, \"mean\": 0.5242217138569423, \"std\": 9.35513783005674, \"err_low\": -18.18605394625654, \"err_high\": 19.234497373970424}, {\"time\": \"2009-02-16T12:30:00\", \"variable\": \"TA\", \"value\": -0.92, \"is_present\": true, \"mean\": 0.7223335037527798, \"std\": 9.355137830056725, \"err_low\": -17.98794215636067, \"err_high\": 19.43260916386623}, {\"time\": \"2009-02-16T13:00:00\", \"variable\": \"TA\", \"value\": -0.65, \"is_present\": true, \"mean\": 0.5575970707136166, \"std\": 9.35513783005673, \"err_low\": -18.152678589399844, \"err_high\": 19.267872730827076}, {\"time\": \"2009-02-16T13:30:00\", \"variable\": \"TA\", \"value\": -0.46, \"is_present\": true, \"mean\": 0.7883403636925115, \"std\": 9.35513783005673, \"err_low\": -17.921935296420948, \"err_high\": 19.498616023805972}, {\"time\": \"2009-02-16T14:00:00\", \"variable\": \"TA\", \"value\": -0.37, \"is_present\": true, \"mean\": 1.3528714725829358, \"std\": 9.355137830056728, \"err_low\": -17.35740418753052, \"err_high\": 20.063147132696393}, {\"time\": \"2009-02-16T14:30:00\", \"variable\": \"TA\", \"value\": -0.32, \"is_present\": true, \"mean\": 1.326354513411296, \"std\": 9.355137830056735, \"err_low\": -17.383921146702175, \"err_high\": 20.036630173524767}, {\"time\": \"2009-02-16T15:00:00\", \"variable\": \"TA\", \"value\": -0.27, \"is_present\": true, \"mean\": 0.9977037779090017, \"std\": 9.355137830056737, \"err_low\": -17.71257188220447, \"err_high\": 19.707979438022477}, {\"time\": \"2009-02-16T15:30:00\", \"variable\": \"TA\", \"value\": -0.2, \"is_present\": true, \"mean\": 0.523459849788174, \"std\": 9.355137830056728, \"err_low\": -18.18681581032528, \"err_high\": 19.23373550990163}, {\"time\": \"2009-02-16T16:00:00\", \"variable\": \"TA\", \"value\": -0.23, \"is_present\": true, \"mean\": 0.27435063631536316, \"std\": 9.355137830056734, \"err_low\": -18.435925023798106, \"err_high\": 18.98462629642883}, {\"time\": \"2009-02-16T16:30:00\", \"variable\": \"TA\", \"value\": -0.12, \"is_present\": true, \"mean\": 0.14979045340342445, \"std\": 9.355137830056735, \"err_low\": -18.560485206710048, \"err_high\": 18.860066113516893}, {\"time\": \"2009-02-16T17:00:00\", \"variable\": \"TA\", \"value\": -0.05, \"is_present\": true, \"mean\": -0.8617193615874399, \"std\": 9.355137830056732, \"err_low\": -19.571995021700904, \"err_high\": 17.848556298526024}, {\"time\": \"2009-02-16T17:30:00\", \"variable\": \"TA\", \"value\": -0.06, \"is_present\": true, \"mean\": -1.269384166731756, \"std\": 9.355137830056737, \"err_low\": -19.97965982684523, \"err_high\": 17.44089149338172}, {\"time\": \"2009-02-16T18:00:00\", \"variable\": \"TA\", \"value\": -0.09, \"is_present\": true, \"mean\": -1.6142704156681322, \"std\": 9.35513783005673, \"err_low\": -20.32454607578159, \"err_high\": 17.09600524444533}, {\"time\": \"2009-02-16T18:30:00\", \"variable\": \"TA\", \"value\": -0.06, \"is_present\": true, \"mean\": -1.85380272191947, \"std\": 9.355137830056735, \"err_low\": -20.56407838203294, \"err_high\": 16.856472938194003}, {\"time\": \"2009-02-16T19:00:00\", \"variable\": \"TA\", \"value\": -0.01, \"is_present\": true, \"mean\": -2.014989770898202, \"std\": 9.355137830056735, \"err_low\": -20.72526543101167, \"err_high\": 16.69528588921527}, {\"time\": \"2009-02-16T19:30:00\", \"variable\": \"TA\", \"value\": 0.03, \"is_present\": true, \"mean\": -2.1748585069500326, \"std\": 9.355137830056737, \"err_low\": -20.885134167063505, \"err_high\": 16.535417153163444}, {\"time\": \"2009-02-16T20:00:00\", \"variable\": \"TA\", \"value\": 0.03, \"is_present\": true, \"mean\": -2.2463665355705373, \"std\": 9.355137830056728, \"err_low\": -20.956642195683994, \"err_high\": 16.46390912454292}, {\"time\": \"2009-02-16T20:30:00\", \"variable\": \"TA\", \"value\": 0.03, \"is_present\": true, \"mean\": -2.266875515650895, \"std\": 9.355137830056734, \"err_low\": -20.977151175764362, \"err_high\": 16.443400144462572}, {\"time\": \"2009-02-16T21:00:00\", \"variable\": \"TA\", \"value\": 0.03, \"is_present\": true, \"mean\": -2.2943780765721478, \"std\": 9.355137830056728, \"err_low\": -21.004653736685604, \"err_high\": 16.41589758354131}, {\"time\": \"2009-02-16T21:30:00\", \"variable\": \"TA\", \"value\": -0.04, \"is_present\": true, \"mean\": -2.3262101309015826, \"std\": 9.355137830056735, \"err_low\": -21.036485791015053, \"err_high\": 16.384065529211888}, {\"time\": \"2009-02-16T22:00:00\", \"variable\": \"TA\", \"value\": -0.08, \"is_present\": true, \"mean\": -2.3740334164622574, \"std\": 9.355137830056732, \"err_low\": -21.08430907657572, \"err_high\": 16.336242243651206}, {\"time\": \"2009-02-16T22:30:00\", \"variable\": \"TA\", \"value\": -0.09, \"is_present\": true, \"mean\": -2.4177311486561894, \"std\": 9.355137830056735, \"err_low\": -21.128006808769662, \"err_high\": 16.29254451145728}, {\"time\": \"2009-02-16T23:00:00\", \"variable\": \"TA\", \"value\": -0.09, \"is_present\": true, \"mean\": -2.453875105944494, \"std\": 9.355137830056725, \"err_low\": -21.164150766057944, \"err_high\": 16.256400554168955}, {\"time\": \"2009-02-16T23:30:00\", \"variable\": \"TA\", \"value\": -0.02, \"is_present\": true, \"mean\": -2.4849743464883325, \"std\": 9.35513783005674, \"err_low\": -21.195250006601814, \"err_high\": 16.22530131362515}, {\"time\": \"2009-02-17T00:00:00\", \"variable\": \"TA\", \"value\": 0.01, \"is_present\": true, \"mean\": -2.5040321733047683, \"std\": 9.355137830056732, \"err_low\": -21.214307833418232, \"err_high\": 16.206243486808695}, {\"time\": \"2009-02-17T00:30:00\", \"variable\": \"TA\", \"value\": 0.05, \"is_present\": true, \"mean\": -2.530565939789861, \"std\": 9.355137830056737, \"err_low\": -21.240841599903334, \"err_high\": 16.179709720323615}, {\"time\": \"2009-02-17T01:00:00\", \"variable\": \"TA\", \"value\": 0.07, \"is_present\": true, \"mean\": -2.5543295397358676, \"std\": 9.355137830056727, \"err_low\": -21.26460519984932, \"err_high\": 16.155946120377585}, {\"time\": \"2009-02-17T01:30:00\", \"variable\": \"TA\", \"value\": 0.11, \"is_present\": true, \"mean\": -2.581885187816992, \"std\": 9.355137830056737, \"err_low\": -21.292160847930468, \"err_high\": 16.12839047229648}, {\"time\": \"2009-02-17T02:00:00\", \"variable\": \"TA\", \"value\": 0.14, \"is_present\": true, \"mean\": -2.669750245577731, \"std\": 9.355137830056734, \"err_low\": -21.3800259056912, \"err_high\": 16.040525414535736}, {\"time\": \"2009-02-17T02:30:00\", \"variable\": \"TA\", \"value\": 0.27, \"is_present\": true, \"mean\": -2.786151757990753, \"std\": 9.355137830056732, \"err_low\": -21.49642741810422, \"err_high\": 15.92412390212271}, {\"time\": \"2009-02-17T03:00:00\", \"variable\": \"TA\", \"value\": 0.46, \"is_present\": true, \"mean\": -2.8753574622414817, \"std\": 9.355137830056732, \"err_low\": -21.585633122354945, \"err_high\": 15.834918197871982}, {\"time\": \"2009-02-17T03:30:00\", \"variable\": \"TA\", \"value\": 0.74, \"is_present\": true, \"mean\": -2.947872027026408, \"std\": 9.355137830056742, \"err_low\": -21.658147687139895, \"err_high\": 15.762403633087077}, {\"time\": \"2009-02-17T04:00:00\", \"variable\": \"TA\", \"value\": 0.95, \"is_present\": true, \"mean\": -3.0035325971590368, \"std\": 9.35513783005673, \"err_low\": -21.713808257272497, \"err_high\": 15.706743062954423}, {\"time\": \"2009-02-17T04:30:00\", \"variable\": \"TA\", \"value\": 1.06, \"is_present\": true, \"mean\": -3.0709560013984802, \"std\": 9.355137830056737, \"err_low\": -21.781231661511953, \"err_high\": 15.639319658714994}, {\"time\": \"2009-02-17T05:00:00\", \"variable\": \"TA\", \"value\": 1.08, \"is_present\": true, \"mean\": -3.164528437278401, \"std\": 9.355137830056725, \"err_low\": -21.874804097391852, \"err_high\": 15.545747222835049}, {\"time\": \"2009-02-17T05:30:00\", \"variable\": \"TA\", \"value\": 1.15, \"is_present\": true, \"mean\": -3.271391707791345, \"std\": 9.35513783005673, \"err_low\": -21.981667367904805, \"err_high\": 15.438883952322115}, {\"time\": \"2009-02-17T06:00:00\", \"variable\": \"TA\", \"value\": 1.18, \"is_present\": true, \"mean\": -3.365154740969272, \"std\": 9.355137830056725, \"err_low\": -22.07543040108272, \"err_high\": 15.345120919144177}, {\"time\": \"2009-02-17T06:30:00\", \"variable\": \"TA\", \"value\": 1.05, \"is_present\": true, \"mean\": -3.463104107305675, \"std\": 9.355137830056728, \"err_low\": -22.17337976741913, \"err_high\": 15.247171552807782}, {\"time\": \"2009-02-17T07:00:00\", \"variable\": \"TA\", \"value\": 0.22, \"is_present\": true, \"mean\": -3.5875211105032268, \"std\": 9.355137830056727, \"err_low\": -22.297796770616678, \"err_high\": 15.122754549610226}, {\"time\": \"2009-02-17T07:30:00\", \"variable\": \"TA\", \"value\": -0.26, \"is_present\": true, \"mean\": -3.830863255766479, \"std\": 9.355137830056732, \"err_low\": -22.54113891587994, \"err_high\": 14.879412404346985}, {\"time\": \"2009-02-17T08:00:00\", \"variable\": \"TA\", \"value\": -0.76, \"is_present\": true, \"mean\": -3.995039044060187, \"std\": 9.355137830056728, \"err_low\": -22.705314704173645, \"err_high\": 14.71523661605327}, {\"time\": \"2009-02-17T08:30:00\", \"variable\": \"TA\", \"value\": -1.68, \"is_present\": true, \"mean\": -4.065296967878519, \"std\": 9.355137830056732, \"err_low\": -22.775572627991984, \"err_high\": 14.644978692234945}, {\"time\": \"2009-02-17T09:00:00\", \"variable\": \"TA\", \"value\": -2.0, \"is_present\": true, \"mean\": -4.046513082912602, \"std\": 9.355137830056723, \"err_low\": -22.75678874302605, \"err_high\": 14.663762577200844}, {\"time\": \"2009-02-17T09:30:00\", \"variable\": \"TA\", \"value\": -2.59, \"is_present\": true, \"mean\": -3.925666811083781, \"std\": 9.355137830056734, \"err_low\": -22.635942471197247, \"err_high\": 14.784608849029686}, {\"time\": \"2009-02-17T10:00:00\", \"variable\": \"TA\", \"value\": -2.89, \"is_present\": true, \"mean\": -3.816831563104232, \"std\": 9.355137830056732, \"err_low\": -22.527107223217698, \"err_high\": 14.893444097009231}, {\"time\": \"2009-02-17T10:30:00\", \"variable\": \"TA\", \"value\": -3.35, \"is_present\": true, \"mean\": -4.265246196293111, \"std\": 9.355137830056735, \"err_low\": -22.97552185640658, \"err_high\": 14.44502946382036}, {\"time\": \"2009-02-17T11:00:00\", \"variable\": \"TA\", \"value\": -3.72, \"is_present\": true, \"mean\": -1.0968899612721437, \"std\": 9.355137830056739, \"err_low\": -19.80716562138562, \"err_high\": 17.613385698841334}, {\"time\": \"2009-02-17T11:30:00\", \"variable\": \"TA\", \"value\": -4.0, \"is_present\": true, \"mean\": -0.15946787148507724, \"std\": 9.35513783005674, \"err_low\": -18.86974353159856, \"err_high\": 18.550807788628404}, {\"time\": \"2009-02-17T12:00:00\", \"variable\": \"TA\", \"value\": -4.1, \"is_present\": true, \"mean\": 0.8382315902722306, \"std\": 9.35513783005672, \"err_low\": -17.87204406984121, \"err_high\": 19.54850725038567}, {\"time\": \"2009-02-17T12:30:00\", \"variable\": \"TA\", \"value\": -4.09, \"is_present\": true, \"mean\": 1.700543442802421, \"std\": 9.355137830056744, \"err_low\": -17.00973221731107, \"err_high\": 20.41081910291591}, {\"time\": \"2009-02-17T13:00:00\", \"variable\": \"TA\", \"value\": -4.25, \"is_present\": true, \"mean\": 2.854837930926209, \"std\": 9.355137830056737, \"err_low\": -15.855437729187265, \"err_high\": 21.565113591039683}, {\"time\": \"2009-02-17T13:30:00\", \"variable\": \"TA\", \"value\": -4.13, \"is_present\": true, \"mean\": 3.5295415324693877, \"std\": 9.355137830056728, \"err_low\": -15.180734127644069, \"err_high\": 22.239817192582844}, {\"time\": \"2009-02-17T14:00:00\", \"variable\": \"TA\", \"value\": -4.16, \"is_present\": true, \"mean\": 4.381190614801117, \"std\": 9.355137830056737, \"err_low\": -14.329085045312357, \"err_high\": 23.09146627491459}, {\"time\": \"2009-02-17T14:30:00\", \"variable\": \"TA\", \"value\": -3.99, \"is_present\": true, \"mean\": 4.489696806542466, \"std\": 9.355137830056723, \"err_low\": -14.22057885357098, \"err_high\": 23.19997246665591}, {\"time\": \"2009-02-17T15:00:00\", \"variable\": \"TA\", \"value\": -3.91, \"is_present\": true, \"mean\": 4.581561692507509, \"std\": 9.355137830056721, \"err_low\": -14.128713967605933, \"err_high\": 23.291837352620952}, {\"time\": \"2009-02-17T15:30:00\", \"variable\": \"TA\", \"value\": -3.77, \"is_present\": true, \"mean\": 4.002827003772064, \"std\": 9.355137830056716, \"err_low\": -14.707448656341366, \"err_high\": 22.713102663885497}, {\"time\": \"2009-02-17T16:00:00\", \"variable\": \"TA\", \"value\": -3.83, \"is_present\": true, \"mean\": 3.049624648220317, \"std\": 9.355137830056718, \"err_low\": -15.660651011893119, \"err_high\": 21.75990030833375}, {\"time\": \"2009-02-17T16:30:00\", \"variable\": \"TA\", \"value\": -3.93, \"is_present\": true, \"mean\": 2.3846938272310387, \"std\": 9.355137830056725, \"err_low\": -16.32558183288241, \"err_high\": 21.09496948734449}, {\"time\": \"2009-02-17T17:00:00\", \"variable\": \"TA\", \"value\": -4.07, \"is_present\": true, \"mean\": 0.04497594700696972, \"std\": 9.355137830056723, \"err_low\": -18.665299713106478, \"err_high\": 18.755251607120414}, {\"time\": \"2009-02-17T17:30:00\", \"variable\": \"TA\", \"value\": -4.27, \"is_present\": false, \"mean\": -1.3790643951909072, \"std\": 9.355137830056735, \"err_low\": -20.089340055304376, \"err_high\": 17.331211264922565}, {\"time\": \"2009-02-17T18:00:00\", \"variable\": \"TA\", \"value\": -4.66, \"is_present\": false, \"mean\": -1.7835672486395566, \"std\": 9.405555484841457, \"err_low\": -20.59467821832247, \"err_high\": 17.027543721043358}, {\"time\": \"2009-02-17T18:30:00\", \"variable\": \"TA\", \"value\": -4.9, \"is_present\": false, \"mean\": -3.119002534307759, \"std\": 9.405560706460685, \"err_low\": -21.930123947229127, \"err_high\": 15.692118878613611}, {\"time\": \"2009-02-17T19:00:00\", \"variable\": \"TA\", \"value\": -5.11, \"is_present\": false, \"mean\": -3.9022573110222165, \"std\": 9.405617559480078, \"err_low\": -22.713492429982374, \"err_high\": 14.908977807937939}, {\"time\": \"2009-02-17T19:30:00\", \"variable\": \"TA\", \"value\": -5.3, \"is_present\": false, \"mean\": -4.7279911618754475, \"std\": 9.405644441915442, \"err_low\": -23.53928004570633, \"err_high\": 14.083297721955436}, {\"time\": \"2009-02-17T20:00:00\", \"variable\": \"TA\", \"value\": -5.48, \"is_present\": false, \"mean\": -5.320556890083559, \"std\": 9.4056493763651, \"err_low\": -24.131855642813758, \"err_high\": 13.49074186264664}, {\"time\": \"2009-02-17T20:30:00\", \"variable\": \"TA\", \"value\": -5.62, \"is_present\": false, \"mean\": -5.6703264254337515, \"std\": 9.405650558719103, \"err_low\": -24.481627542871955, \"err_high\": 13.140974692004454}, {\"time\": \"2009-02-17T21:00:00\", \"variable\": \"TA\", \"value\": -5.64, \"is_present\": false, \"mean\": -6.04750393009841, \"std\": 9.40565078683463, \"err_low\": -24.85880550376767, \"err_high\": 12.763797643570852}, {\"time\": \"2009-02-17T21:30:00\", \"variable\": \"TA\", \"value\": -5.69, \"is_present\": false, \"mean\": -6.42634486335359, \"std\": 9.405650836583002, \"err_low\": -25.23764653651959, \"err_high\": 12.384956809812413}, {\"time\": \"2009-02-17T22:00:00\", \"variable\": \"TA\", \"value\": -5.8, \"is_present\": false, \"mean\": -6.819807753396063, \"std\": 9.405650846609428, \"err_low\": -25.631109446614918, \"err_high\": 11.991493939822792}, {\"time\": \"2009-02-17T22:30:00\", \"variable\": \"TA\", \"value\": -5.88, \"is_present\": true, \"mean\": -7.224695535862114, \"std\": 9.405650848730598, \"err_low\": -26.03599723332331, \"err_high\": 11.586606161599082}, {\"time\": \"2009-02-17T23:00:00\", \"variable\": \"TA\", \"value\": -5.96, \"is_present\": true, \"mean\": -8.53498718258844, \"std\": 9.355358868153518, \"err_low\": -27.245704918895477, \"err_high\": 10.175730553718596}, {\"time\": \"2009-02-17T23:30:00\", \"variable\": \"TA\", \"value\": -6.02, \"is_present\": true, \"mean\": -8.610112927951233, \"std\": 9.355326130089484, \"err_low\": -27.320765188130203, \"err_high\": 10.100539332227735}, {\"time\": \"2009-02-18T00:00:00\", \"variable\": \"TA\", \"value\": -6.07, \"is_present\": true, \"mean\": -8.66168208851971, \"std\": 9.35518254297811, \"err_low\": -27.37204717447593, \"err_high\": 10.04868299743651}, {\"time\": \"2009-02-18T00:30:00\", \"variable\": \"TA\", \"value\": -6.07, \"is_present\": true, \"mean\": -8.787349609531075, \"std\": 9.355146261290352, \"err_low\": -27.49764213211178, \"err_high\": 9.92294291304963}, {\"time\": \"2009-02-18T01:00:00\", \"variable\": \"TA\", \"value\": -6.05, \"is_present\": true, \"mean\": -8.919334385545353, \"std\": 9.355139357038789, \"err_low\": -27.62961309962293, \"err_high\": 9.790944328532225}, {\"time\": \"2009-02-18T01:30:00\", \"variable\": \"TA\", \"value\": -6.11, \"is_present\": true, \"mean\": -9.039832176056633, \"std\": 9.355138102681627, \"err_low\": -27.750108381419885, \"err_high\": 9.670444029306621}, {\"time\": \"2009-02-18T02:00:00\", \"variable\": \"TA\", \"value\": -6.34, \"is_present\": true, \"mean\": -9.04036929055111, \"std\": 9.355137878729247, \"err_low\": -27.750645048009602, \"err_high\": 9.669906466907383}, {\"time\": \"2009-02-18T02:30:00\", \"variable\": \"TA\", \"value\": -6.37, \"is_present\": true, \"mean\": -9.011443222743244, \"std\": 9.35513783872867, \"err_low\": -27.721718900200585, \"err_high\": 9.698832454714095}, {\"time\": \"2009-02-18T03:00:00\", \"variable\": \"TA\", \"value\": -6.46, \"is_present\": true, \"mean\": -8.899954386239637, \"std\": 9.355137831603034, \"err_low\": -27.610230049445704, \"err_high\": 9.810321276966432}, {\"time\": \"2009-02-18T03:30:00\", \"variable\": \"TA\", \"value\": -6.41, \"is_present\": true, \"mean\": -8.833624466115646, \"std\": 9.355137830332295, \"err_low\": -27.543900126780237, \"err_high\": 9.876651194548943}, {\"time\": \"2009-02-18T04:00:00\", \"variable\": \"TA\", \"value\": -6.56, \"is_present\": true, \"mean\": -8.733687683272501, \"std\": 9.35513783010585, \"err_low\": -27.4439633434842, \"err_high\": 9.976587976939198}, {\"time\": \"2009-02-18T04:30:00\", \"variable\": \"TA\", \"value\": -6.55, \"is_present\": true, \"mean\": -8.73802916279376, \"std\": 9.355137830065486, \"err_low\": -27.448304822924733, \"err_high\": 9.972246497337212}, {\"time\": \"2009-02-18T05:00:00\", \"variable\": \"TA\", \"value\": -6.47, \"is_present\": true, \"mean\": -8.786342752610816, \"std\": 9.35513783005829, \"err_low\": -27.496618412727393, \"err_high\": 9.923932907505764}, {\"time\": \"2009-02-18T05:30:00\", \"variable\": \"TA\", \"value\": -6.49, \"is_present\": true, \"mean\": -8.827450278420647, \"std\": 9.355137830057002, \"err_low\": -27.53772593853465, \"err_high\": 9.882825381693356}, {\"time\": \"2009-02-18T06:00:00\", \"variable\": \"TA\", \"value\": -6.61, \"is_present\": true, \"mean\": -8.8820801470173, \"std\": 9.355137830056782, \"err_low\": -27.592355807130865, \"err_high\": 9.828195513096263}, {\"time\": \"2009-02-18T06:30:00\", \"variable\": \"TA\", \"value\": -6.51, \"is_present\": true, \"mean\": -9.015442623274081, \"std\": 9.355137830056742, \"err_low\": -27.725718283387565, \"err_high\": 9.694833036839404}, {\"time\": \"2009-02-18T07:00:00\", \"variable\": \"TA\", \"value\": -6.56, \"is_present\": true, \"mean\": -9.061862010721063, \"std\": 9.355137830056735, \"err_low\": -27.77213767083453, \"err_high\": 9.648413649392408}, {\"time\": \"2009-02-18T07:30:00\", \"variable\": \"TA\", \"value\": -6.64, \"is_present\": true, \"mean\": -9.057013967903218, \"std\": 9.355137830056728, \"err_low\": -27.767289628016677, \"err_high\": 9.653261692210238}, {\"time\": \"2009-02-18T08:00:00\", \"variable\": \"TA\", \"value\": -6.54, \"is_present\": true, \"mean\": -8.708204841633043, \"std\": 9.35513783005673, \"err_low\": -27.4184805017465, \"err_high\": 10.002070818480417}, {\"time\": \"2009-02-18T08:30:00\", \"variable\": \"TA\", \"value\": -6.19, \"is_present\": true, \"mean\": -7.697475805118794, \"std\": 9.355137830056727, \"err_low\": -26.407751465232245, \"err_high\": 11.01279985499466}, {\"time\": \"2009-02-18T09:00:00\", \"variable\": \"TA\", \"value\": -4.97, \"is_present\": true, \"mean\": -6.002594350179951, \"std\": 9.355137830056732, \"err_low\": -24.712870010293415, \"err_high\": 12.707681309933513}, {\"time\": \"2009-02-18T09:30:00\", \"variable\": \"TA\", \"value\": -4.18, \"is_present\": true, \"mean\": -3.7201249190694714, \"std\": 9.355137830056727, \"err_low\": -22.430400579182923, \"err_high\": 14.990150741043982}, {\"time\": \"2009-02-18T10:00:00\", \"variable\": \"TA\", \"value\": -3.86, \"is_present\": true, \"mean\": -1.7829495162448907, \"std\": 9.355137830056732, \"err_low\": -20.493225176358354, \"err_high\": 16.927326143868573}, {\"time\": \"2009-02-18T10:30:00\", \"variable\": \"TA\", \"value\": -3.33, \"is_present\": true, \"mean\": -0.39633723326167924, \"std\": 9.355137830056734, \"err_low\": -19.106612893375146, \"err_high\": 18.313938426851788}, {\"time\": \"2009-02-18T11:00:00\", \"variable\": \"TA\", \"value\": -3.26, \"is_present\": true, \"mean\": 2.3784931357833177, \"std\": 9.355137830056737, \"err_low\": -16.33178252433016, \"err_high\": 21.08876879589679}, {\"time\": \"2009-02-18T11:30:00\", \"variable\": \"TA\", \"value\": -3.47, \"is_present\": true, \"mean\": 4.0449668951738476, \"std\": 9.355137830056734, \"err_low\": -14.66530876493962, \"err_high\": 22.755242555287314}, {\"time\": \"2009-02-18T12:00:00\", \"variable\": \"TA\", \"value\": -3.17, \"is_present\": true, \"mean\": 5.493160792597031, \"std\": 9.355137830056732, \"err_low\": -13.217114867516432, \"err_high\": 24.203436452710495}, {\"time\": \"2009-02-18T12:30:00\", \"variable\": \"TA\", \"value\": -2.49, \"is_present\": true, \"mean\": 6.792991477542893, \"std\": 9.355137830056718, \"err_low\": -11.917284182570542, \"err_high\": 25.50326713765633}, {\"time\": \"2009-02-18T13:00:00\", \"variable\": \"TA\", \"value\": -2.88, \"is_present\": true, \"mean\": 7.6451605548869095, \"std\": 9.355137830056732, \"err_low\": -11.065115105226553, \"err_high\": 26.355436215000374}, {\"time\": \"2009-02-18T13:30:00\", \"variable\": \"TA\", \"value\": -2.33, \"is_present\": true, \"mean\": 8.505388775704725, \"std\": 9.355137830056742, \"err_low\": -10.20488688440876, \"err_high\": 27.215664435818212}, {\"time\": \"2009-02-18T14:00:00\", \"variable\": \"TA\", \"value\": -2.72, \"is_present\": true, \"mean\": 9.45384582787035, \"std\": 9.355137830056727, \"err_low\": -9.256429832243104, \"err_high\": 28.164121487983802}, {\"time\": \"2009-02-18T14:30:00\", \"variable\": \"TA\", \"value\": -2.59, \"is_present\": true, \"mean\": 8.735794931110638, \"std\": 9.355137830056732, \"err_low\": -9.974480729002826, \"err_high\": 27.4460705912241}, {\"time\": \"2009-02-18T15:00:00\", \"variable\": \"TA\", \"value\": -2.24, \"is_present\": true, \"mean\": 8.124783890885931, \"std\": 9.355137830056737, \"err_low\": -10.585491769227543, \"err_high\": 26.835059550999404}, {\"time\": \"2009-02-18T15:30:00\", \"variable\": \"TA\", \"value\": -2.58, \"is_present\": true, \"mean\": 7.481563038504124, \"std\": 9.355137830056718, \"err_low\": -11.228712621609311, \"err_high\": 26.19183869861756}, {\"time\": \"2009-02-18T16:00:00\", \"variable\": \"TA\", \"value\": -3.23, \"is_present\": true, \"mean\": 6.223334401956872, \"std\": 9.355137830056728, \"err_low\": -12.486941258156584, \"err_high\": 24.93361006207033}, {\"time\": \"2009-02-18T16:30:00\", \"variable\": \"TA\", \"value\": -3.26, \"is_present\": true, \"mean\": 5.209120713905699, \"std\": 9.355137830056727, \"err_low\": -13.501154946207754, \"err_high\": 23.91939637401915}, {\"time\": \"2009-02-18T17:00:00\", \"variable\": \"TA\", \"value\": -3.77, \"is_present\": true, \"mean\": 2.2828377794265364, \"std\": 9.355137830056718, \"err_low\": -16.4274378806869, \"err_high\": 20.99311343953997}, {\"time\": \"2009-02-18T17:30:00\", \"variable\": \"TA\", \"value\": -4.07, \"is_present\": true, \"mean\": 0.13610463941821926, \"std\": 9.355137830056735, \"err_low\": -18.574171020695253, \"err_high\": 18.84638029953169}, {\"time\": \"2009-02-18T18:00:00\", \"variable\": \"TA\", \"value\": -4.61, \"is_present\": true, \"mean\": -1.8918341288813973, \"std\": 9.355137830056728, \"err_low\": -20.602109788994852, \"err_high\": 16.81844153123206}, {\"time\": \"2009-02-18T18:30:00\", \"variable\": \"TA\", \"value\": -4.82, \"is_present\": true, \"mean\": -3.654503835656877, \"std\": 9.355137830056728, \"err_low\": -22.364779495770335, \"err_high\": 15.05577182445658}, {\"time\": \"2009-02-18T19:00:00\", \"variable\": \"TA\", \"value\": -4.87, \"is_present\": true, \"mean\": -4.808528378855529, \"std\": 9.355137830056739, \"err_low\": -23.51880403896901, \"err_high\": 13.901747281257949}, {\"time\": \"2009-02-18T19:30:00\", \"variable\": \"TA\", \"value\": -4.91, \"is_present\": true, \"mean\": -5.858831446427564, \"std\": 9.355137830056721, \"err_low\": -24.569107106541004, \"err_high\": 12.851444213685879}, {\"time\": \"2009-02-18T20:00:00\", \"variable\": \"TA\", \"value\": -5.08, \"is_present\": true, \"mean\": -6.244560294392544, \"std\": 9.35513783005673, \"err_low\": -24.954835954506002, \"err_high\": 12.465715365720916}, {\"time\": \"2009-02-18T20:30:00\", \"variable\": \"TA\", \"value\": -5.21, \"is_present\": true, \"mean\": -6.22966055348498, \"std\": 9.355137830056725, \"err_low\": -24.93993621359843, \"err_high\": 12.48061510662847}, {\"time\": \"2009-02-18T21:00:00\", \"variable\": \"TA\", \"value\": -5.4, \"is_present\": true, \"mean\": -6.206000062488545, \"std\": 9.35513783005673, \"err_low\": -24.916275722602006, \"err_high\": 12.504275597624915}, {\"time\": \"2009-02-18T21:30:00\", \"variable\": \"TA\", \"value\": -5.34, \"is_present\": true, \"mean\": -6.242973111732065, \"std\": 9.355137830056734, \"err_low\": -24.95324877184553, \"err_high\": 12.467302548381403}, {\"time\": \"2009-02-18T22:00:00\", \"variable\": \"TA\", \"value\": -5.41, \"is_present\": true, \"mean\": -6.260588774253105, \"std\": 9.355137830056728, \"err_low\": -24.97086443436656, \"err_high\": 12.449686885860352}, {\"time\": \"2009-02-18T22:30:00\", \"variable\": \"TA\", \"value\": -5.51, \"is_present\": true, \"mean\": -6.350174527198556, \"std\": 9.355137830056737, \"err_low\": -25.06045018731203, \"err_high\": 12.360101132914918}, {\"time\": \"2009-02-18T23:00:00\", \"variable\": \"TA\", \"value\": -5.75, \"is_present\": true, \"mean\": -6.519712395870966, \"std\": 9.355137830056725, \"err_low\": -25.229988055984414, \"err_high\": 12.190563264242483}, {\"time\": \"2009-02-18T23:30:00\", \"variable\": \"TA\", \"value\": -5.68, \"is_present\": true, \"mean\": -6.807111876470877, \"std\": 9.355137830056728, \"err_low\": -25.517387536584334, \"err_high\": 11.90316378364258}, {\"time\": \"2009-02-19T00:00:00\", \"variable\": \"TA\", \"value\": -5.73, \"is_present\": true, \"mean\": -6.984393807887251, \"std\": 9.355137830056742, \"err_low\": -25.694669468000736, \"err_high\": 11.725881852226234}, {\"time\": \"2009-02-19T00:30:00\", \"variable\": \"TA\", \"value\": -5.69, \"is_present\": true, \"mean\": -7.2065700341030965, \"std\": 9.355137830056737, \"err_low\": -25.91684569421657, \"err_high\": 11.503705626010378}, {\"time\": \"2009-02-19T01:00:00\", \"variable\": \"TA\", \"value\": -5.61, \"is_present\": true, \"mean\": -7.3412510622931055, \"std\": 9.355137830056718, \"err_low\": -26.051526722406543, \"err_high\": 11.36902459782033}, {\"time\": \"2009-02-19T01:30:00\", \"variable\": \"TA\", \"value\": -5.71, \"is_present\": true, \"mean\": -7.463672428159912, \"std\": 9.355137830056734, \"err_low\": -26.173948088273377, \"err_high\": 11.246603231953555}, {\"time\": \"2009-02-19T02:00:00\", \"variable\": \"TA\", \"value\": -6.35, \"is_present\": true, \"mean\": -7.533438954473912, \"std\": 9.355137830056737, \"err_low\": -26.243714614587386, \"err_high\": 11.176836705639563}, {\"time\": \"2009-02-19T02:30:00\", \"variable\": \"TA\", \"value\": -6.57, \"is_present\": true, \"mean\": -7.751071070793339, \"std\": 9.355137830056737, \"err_low\": -26.46134673090681, \"err_high\": 10.959204589320136}, {\"time\": \"2009-02-19T03:00:00\", \"variable\": \"TA\", \"value\": -6.86, \"is_present\": true, \"mean\": -7.841181811250445, \"std\": 9.355137830056728, \"err_low\": -26.551457471363904, \"err_high\": 10.869093848863011}, {\"time\": \"2009-02-19T03:30:00\", \"variable\": \"TA\", \"value\": -7.21, \"is_present\": true, \"mean\": -7.9488874257175315, \"std\": 9.355137830056727, \"err_low\": -26.659163085830983, \"err_high\": 10.761388234395922}, {\"time\": \"2009-02-19T04:00:00\", \"variable\": \"TA\", \"value\": -7.01, \"is_present\": true, \"mean\": -8.102792849394723, \"std\": 9.355137830056732, \"err_low\": -26.813068509508184, \"err_high\": 10.607482810718741}, {\"time\": \"2009-02-19T04:30:00\", \"variable\": \"TA\", \"value\": -6.99, \"is_present\": true, \"mean\": -7.999924500602008, \"std\": 9.355137830056728, \"err_low\": -26.710200160715466, \"err_high\": 10.710351159511449}, {\"time\": \"2009-02-19T05:00:00\", \"variable\": \"TA\", \"value\": -7.05, \"is_present\": true, \"mean\": -7.965299933882671, \"std\": 9.355137830056737, \"err_low\": -26.675575593996143, \"err_high\": 10.744975726230804}, {\"time\": \"2009-02-19T05:30:00\", \"variable\": \"TA\", \"value\": -6.74, \"is_present\": true, \"mean\": -7.9494296322995535, \"std\": 9.355137830056728, \"err_low\": -26.65970529241301, \"err_high\": 10.760846027813903}, {\"time\": \"2009-02-19T06:00:00\", \"variable\": \"TA\", \"value\": -6.54, \"is_present\": true, \"mean\": -7.817994009861499, \"std\": 9.355137830056737, \"err_low\": -26.528269669974975, \"err_high\": 10.892281650251975}, {\"time\": \"2009-02-19T06:30:00\", \"variable\": \"TA\", \"value\": -6.79, \"is_present\": true, \"mean\": -7.711577930030844, \"std\": 9.355137830056732, \"err_low\": -26.42185359014431, \"err_high\": 10.99869773008262}, {\"time\": \"2009-02-19T07:00:00\", \"variable\": \"TA\", \"value\": -6.76, \"is_present\": true, \"mean\": -7.790802407275409, \"std\": 9.355137830056728, \"err_low\": -26.501078067388868, \"err_high\": 10.919473252838047}, {\"time\": \"2009-02-19T07:30:00\", \"variable\": \"TA\", \"value\": -6.86, \"is_present\": true, \"mean\": -7.771172297577719, \"std\": 9.355137830056734, \"err_low\": -26.481447957691188, \"err_high\": 10.939103362535748}, {\"time\": \"2009-02-19T08:00:00\", \"variable\": \"TA\", \"value\": -7.25, \"is_present\": true, \"mean\": -7.347703350233411, \"std\": 9.355137830056737, \"err_low\": -26.057979010346884, \"err_high\": 11.362572309880063}, {\"time\": \"2009-02-19T08:30:00\", \"variable\": \"TA\", \"value\": -7.38, \"is_present\": true, \"mean\": -6.2865738696378735, \"std\": 9.355137830056723, \"err_low\": -24.99684952975132, \"err_high\": 12.423701790475572}, {\"time\": \"2009-02-19T09:00:00\", \"variable\": \"TA\", \"value\": -7.33, \"is_present\": true, \"mean\": -4.677959229243028, \"std\": 9.35513783005674, \"err_low\": -23.38823488935651, \"err_high\": 14.032316430870454}, {\"time\": \"2009-02-19T09:30:00\", \"variable\": \"TA\", \"value\": -6.66, \"is_present\": true, \"mean\": -2.8518299399096083, \"std\": 9.355137830056721, \"err_low\": -21.562105600023052, \"err_high\": 15.858445720203834}, {\"time\": \"2009-02-19T10:00:00\", \"variable\": \"TA\", \"value\": -5.8, \"is_present\": true, \"mean\": -0.6220895324302607, \"std\": 9.355137830056735, \"err_low\": -19.332365192543733, \"err_high\": 18.08818612768321}, {\"time\": \"2009-02-19T10:30:00\", \"variable\": \"TA\", \"value\": -5.17, \"is_present\": true, \"mean\": 1.2739495804360814, \"std\": 9.355137830056735, \"err_low\": -17.43632607967739, \"err_high\": 19.984225240549552}, {\"time\": \"2009-02-19T11:00:00\", \"variable\": \"TA\", \"value\": -4.36, \"is_present\": true, \"mean\": 4.204029310580712, \"std\": 9.355137830056721, \"err_low\": -14.50624634953273, \"err_high\": 22.914304970694154}, {\"time\": \"2009-02-19T11:30:00\", \"variable\": \"TA\", \"value\": -3.54, \"is_present\": true, \"mean\": 6.180293421615138, \"std\": 9.355137830056739, \"err_low\": -12.52998223849834, \"err_high\": 24.890569081728614}, {\"time\": \"2009-02-19T12:00:00\", \"variable\": \"TA\", \"value\": -3.01, \"is_present\": true, \"mean\": 7.956742237974591, \"std\": 9.355137830056723, \"err_low\": -10.753533422138855, \"err_high\": 26.667017898088037}, {\"time\": \"2009-02-19T12:30:00\", \"variable\": \"TA\", \"value\": -2.6, \"is_present\": true, \"mean\": 9.439974356537203, \"std\": 9.355137830056728, \"err_low\": -9.270301303576254, \"err_high\": 28.15025001665066}], \"data-1d6c5a571a1f24050ebd001dbe5dfa4d\": [{\"gap_start\": \"2009-02-17T17:30:00\", \"gap_end\": \"2009-02-17T22:00:00\"}], \"data-f4bad92193b248129c8093f841cc94c3\": [{\"time\": \"2009-02-15T09:00:00\", \"variable\": \"SW_IN\", \"value\": 99.68, \"is_present\": true, \"mean\": 433.5358011579756, \"std\": 392.51013982774566, \"err_low\": -351.48447849751574, \"err_high\": 1218.556080813467}, {\"time\": \"2009-02-15T09:30:00\", \"variable\": \"SW_IN\", \"value\": 119.34, \"is_present\": true, \"mean\": -437.27570209417996, \"std\": 506.5181530797109, \"err_low\": -1450.3120082536018, \"err_high\": 575.7606040652418}, {\"time\": \"2009-02-15T10:00:00\", \"variable\": \"SW_IN\", \"value\": 149.78, \"is_present\": true, \"mean\": -345.0109044154929, \"std\": 512.0626334569278, \"err_low\": -1369.1361713293484, \"err_high\": 679.1143624983627}, {\"time\": \"2009-02-15T10:30:00\", \"variable\": \"SW_IN\", \"value\": 198.38, \"is_present\": true, \"mean\": -103.54852706416024, \"std\": 510.98618120756055, \"err_low\": -1125.5208894792813, \"err_high\": 918.4238353509609}, {\"time\": \"2009-02-15T11:00:00\", \"variable\": \"SW_IN\", \"value\": 312.32, \"is_present\": true, \"mean\": 50.335764762041364, \"std\": 510.79360111279044, \"err_low\": -971.2514374635396, \"err_high\": 1071.9229669876222}, {\"time\": \"2009-02-15T11:30:00\", \"variable\": \"SW_IN\", \"value\": 376.19, \"is_present\": true, \"mean\": 191.78595192383995, \"std\": 510.75666461277586, \"err_low\": -829.7273773017118, \"err_high\": 1213.2992811493916}, {\"time\": \"2009-02-15T12:00:00\", \"variable\": \"SW_IN\", \"value\": 344.522, \"is_present\": true, \"mean\": 289.35915226796897, \"std\": 510.75015489598655, \"err_low\": -732.1411575240041, \"err_high\": 1310.859462059942}, {\"time\": \"2009-02-15T12:30:00\", \"variable\": \"SW_IN\", \"value\": 311.83, \"is_present\": true, \"mean\": 326.88378727551395, \"std\": 510.748980095005, \"err_low\": -694.6141729144961, \"err_high\": 1348.3817474655239}, {\"time\": \"2009-02-15T13:00:00\", \"variable\": \"SW_IN\", \"value\": 377.75, \"is_present\": true, \"mean\": 341.3216420351199, \"std\": 510.74877194318015, \"err_low\": -680.1759018512404, \"err_high\": 1362.8191859214803}, {\"time\": \"2009-02-15T13:30:00\", \"variable\": \"SW_IN\", \"value\": 382.8, \"is_present\": true, \"mean\": 295.15252844161824, \"std\": 510.74873468698803, \"err_low\": -726.3449409323578, \"err_high\": 1316.6499978155944}, {\"time\": \"2009-02-15T14:00:00\", \"variable\": \"SW_IN\", \"value\": 210.62, \"is_present\": true, \"mean\": 209.33654278370955, \"std\": 510.74872806279416, \"err_low\": -812.1609133418788, \"err_high\": 1230.8339989092979}, {\"time\": \"2009-02-15T14:30:00\", \"variable\": \"SW_IN\", \"value\": 165.86, \"is_present\": true, \"mean\": 109.56296583273625, \"std\": 510.7487268802104, \"err_low\": -911.9344879276846, \"err_high\": 1131.0604195931571}, {\"time\": \"2009-02-15T15:00:00\", \"variable\": \"SW_IN\", \"value\": 240.06, \"is_present\": true, \"mean\": 68.08168251163991, \"std\": 510.7487266696315, \"err_low\": -953.4157708276231, \"err_high\": 1089.579135850903}, {\"time\": \"2009-02-15T15:30:00\", \"variable\": \"SW_IN\", \"value\": 141.59, \"is_present\": true, \"mean\": 68.52417989117222, \"std\": 510.74872663207424, \"err_low\": -952.9732733729762, \"err_high\": 1090.0216331553206}, {\"time\": \"2009-02-15T16:00:00\", \"variable\": \"SW_IN\", \"value\": 128.46, \"is_present\": true, \"mean\": 3.020230415228724, \"std\": 510.74872662538263, \"err_low\": -1018.4772228355365, \"err_high\": 1024.517683665994}, {\"time\": \"2009-02-15T16:30:00\", \"variable\": \"SW_IN\", \"value\": 75.99, \"is_present\": true, \"mean\": -76.76738724870408, \"std\": 510.7487266241892, \"err_low\": -1098.2648404970826, \"err_high\": 944.7300659996744}, {\"time\": \"2009-02-15T17:00:00\", \"variable\": \"SW_IN\", \"value\": 42.91, \"is_present\": true, \"mean\": -167.20056454913868, \"std\": 510.7487266239773, \"err_low\": -1188.6980177970931, \"err_high\": 854.2968886988159}, {\"time\": \"2009-02-15T17:30:00\", \"variable\": \"SW_IN\", \"value\": 13.13, \"is_present\": true, \"mean\": -212.7396924712391, \"std\": 510.7487266239393, \"err_low\": -1234.2371457191177, \"err_high\": 808.7577607766395}, {\"time\": \"2009-02-15T18:00:00\", \"variable\": \"SW_IN\", \"value\": 0.69, \"is_present\": true, \"mean\": -244.19453249410884, \"std\": 510.74872662393307, \"err_low\": -1265.691985741975, \"err_high\": 777.3029207537572}, {\"time\": \"2009-02-15T18:30:00\", \"variable\": \"SW_IN\", \"value\": 0.0, \"is_present\": true, \"mean\": -262.45124231789146, \"std\": 510.74872662393074, \"err_low\": -1283.948695565753, \"err_high\": 759.04621092997}, {\"time\": \"2009-02-15T19:00:00\", \"variable\": \"SW_IN\", \"value\": 0.0, \"is_present\": true, \"mean\": -276.6006942220231, \"std\": 510.74872662393136, \"err_low\": -1298.0981474698858, \"err_high\": 744.8967590258396}, {\"time\": \"2009-02-15T19:30:00\", \"variable\": \"SW_IN\", \"value\": 0.0, \"is_present\": true, \"mean\": -296.04395584177126, \"std\": 510.74872662393165, \"err_low\": -1317.5414090896345, \"err_high\": 725.4534974060921}, {\"time\": \"2009-02-15T20:00:00\", \"variable\": \"SW_IN\", \"value\": 0.0, \"is_present\": true, \"mean\": -306.203477308991, \"std\": 510.74872662393085, \"err_low\": -1327.7009305568527, \"err_high\": 715.2939759388707}, {\"time\": \"2009-02-15T20:30:00\", \"variable\": \"SW_IN\", \"value\": 0.0, \"is_present\": true, \"mean\": -310.8153945454154, \"std\": 510.7487266239311, \"err_low\": -1332.3128477932776, \"err_high\": 710.6820587024467}, {\"time\": \"2009-02-15T21:00:00\", \"variable\": \"SW_IN\", \"value\": 0.0, \"is_present\": true, \"mean\": -312.8986475182094, \"std\": 510.74872662393074, \"err_low\": -1334.396100766071, \"err_high\": 708.5988057296521}, {\"time\": \"2009-02-15T21:30:00\", \"variable\": \"SW_IN\", \"value\": 0.0, \"is_present\": true, \"mean\": -313.9918513128695, \"std\": 510.74872662393136, \"err_low\": -1335.4893045607323, \"err_high\": 707.5056019349931}, {\"time\": \"2009-02-15T22:00:00\", \"variable\": \"SW_IN\", \"value\": 0.0, \"is_present\": true, \"mean\": -315.3234986255161, \"std\": 510.7487266239313, \"err_low\": -1336.8209518733788, \"err_high\": 706.1739546223465}, {\"time\": \"2009-02-15T22:30:00\", \"variable\": \"SW_IN\", \"value\": 0.0, \"is_present\": true, \"mean\": -319.1319343293175, \"std\": 510.7487266239311, \"err_low\": -1340.6293875771796, \"err_high\": 702.3655189185447}, {\"time\": \"2009-02-15T23:00:00\", \"variable\": \"SW_IN\", \"value\": 0.0, \"is_present\": true, \"mean\": -322.1616248620333, \"std\": 510.74872662393017, \"err_low\": -1343.6590781098937, \"err_high\": 699.335828385827}, {\"time\": \"2009-02-15T23:30:00\", \"variable\": \"SW_IN\", \"value\": 0.0, \"is_present\": true, \"mean\": -324.1366224603337, \"std\": 510.7487266239312, \"err_low\": -1345.6340757081962, \"err_high\": 697.3608307875287}, {\"time\": \"2009-02-16T00:00:00\", \"variable\": \"SW_IN\", \"value\": 0.0, \"is_present\": true, \"mean\": -327.2549718715567, \"std\": 510.74872662393057, \"err_low\": -1348.7524251194177, \"err_high\": 694.2424813763045}, {\"time\": \"2009-02-16T00:30:00\", \"variable\": \"SW_IN\", \"value\": 0.0, \"is_present\": true, \"mean\": -329.897210007637, \"std\": 510.7487266239315, \"err_low\": -1351.3946632554998, \"err_high\": 691.600243240226}, {\"time\": \"2009-02-16T01:00:00\", \"variable\": \"SW_IN\", \"value\": 0.0, \"is_present\": true, \"mean\": -331.753682740618, \"std\": 510.74872662393045, \"err_low\": -1353.2511359884788, \"err_high\": 689.743770507243}, {\"time\": \"2009-02-16T01:30:00\", \"variable\": \"SW_IN\", \"value\": 0.0, \"is_present\": true, \"mean\": -334.14712215036883, \"std\": 510.74872662393074, \"err_low\": -1355.6445753982302, \"err_high\": 687.3503310974927}, {\"time\": \"2009-02-16T02:00:00\", \"variable\": \"SW_IN\", \"value\": 0.0, \"is_present\": true, \"mean\": -337.42585475898136, \"std\": 510.74872662393045, \"err_low\": -1358.9233080068423, \"err_high\": 684.0715984888795}, {\"time\": \"2009-02-16T02:30:00\", \"variable\": \"SW_IN\", \"value\": 0.0, \"is_present\": true, \"mean\": -340.53769925978605, \"std\": 510.7487266239306, \"err_low\": -1362.0351525076474, \"err_high\": 680.9597539880751}, {\"time\": \"2009-02-16T03:00:00\", \"variable\": \"SW_IN\", \"value\": 0.0, \"is_present\": true, \"mean\": -343.94376772142215, \"std\": 510.7487266239311, \"err_low\": -1365.4412209692844, \"err_high\": 677.55368552644}, {\"time\": \"2009-02-16T03:30:00\", \"variable\": \"SW_IN\", \"value\": 0.0, \"is_present\": true, \"mean\": -346.36384029210217, \"std\": 510.7487266239312, \"err_low\": -1367.8612935399647, \"err_high\": 675.1336129557602}, {\"time\": \"2009-02-16T04:00:00\", \"variable\": \"SW_IN\", \"value\": 0.0, \"is_present\": true, \"mean\": -348.44179351790893, \"std\": 510.7487266239311, \"err_low\": -1369.939246765771, \"err_high\": 673.0556597299533}, {\"time\": \"2009-02-16T04:30:00\", \"variable\": \"SW_IN\", \"value\": 0.0, \"is_present\": true, \"mean\": -351.0531871353844, \"std\": 510.748726623931, \"err_low\": -1372.5506403832464, \"err_high\": 670.4442661124776}, {\"time\": \"2009-02-16T05:00:00\", \"variable\": \"SW_IN\", \"value\": 0.0, \"is_present\": true, \"mean\": -350.04798164779777, \"std\": 510.7487266239313, \"err_low\": -1371.5454348956605, \"err_high\": 671.4494716000648}, {\"time\": \"2009-02-16T05:30:00\", \"variable\": \"SW_IN\", \"value\": 0.0, \"is_present\": true, \"mean\": -348.5057501729804, \"std\": 510.7487266239306, \"err_low\": -1370.0032034208416, \"err_high\": 672.9917030748809}, {\"time\": \"2009-02-16T06:00:00\", \"variable\": \"SW_IN\", \"value\": 0.0, \"is_present\": true, \"mean\": -347.5249076447312, \"std\": 510.748726623931, \"err_low\": -1369.0223608925933, \"err_high\": 673.9725456031308}, {\"time\": \"2009-02-16T06:30:00\", \"variable\": \"SW_IN\", \"value\": 0.0, \"is_present\": true, \"mean\": -347.23326216966063, \"std\": 510.7487266239311, \"err_low\": -1368.7307154175228, \"err_high\": 674.2641910782015}, {\"time\": \"2009-02-16T07:00:00\", \"variable\": \"SW_IN\", \"value\": 0.0, \"is_present\": true, \"mean\": -346.96404203207874, \"std\": 510.74872662393153, \"err_low\": -1368.4614952799418, \"err_high\": 674.5334112157843}, {\"time\": \"2009-02-16T07:30:00\", \"variable\": \"SW_IN\", \"value\": 0.0, \"is_present\": true, \"mean\": -346.56421266670554, \"std\": 510.7487266239311, \"err_low\": -1368.0616659145676, \"err_high\": 674.9332405811566}, {\"time\": \"2009-02-16T08:00:00\", \"variable\": \"SW_IN\", \"value\": 4.38, \"is_present\": true, \"mean\": -341.65219551742064, \"std\": 510.74872662393136, \"err_low\": -1363.1496487652835, \"err_high\": 679.8452577304421}, {\"time\": \"2009-02-16T08:30:00\", \"variable\": \"SW_IN\", \"value\": 14.95, \"is_present\": true, \"mean\": -326.46464174229357, \"std\": 510.7487266239311, \"err_low\": -1347.9620949901557, \"err_high\": 695.0328115055686}, {\"time\": \"2009-02-16T09:00:00\", \"variable\": \"SW_IN\", \"value\": 38.04, \"is_present\": true, \"mean\": -305.0112881622704, \"std\": 510.7487266239311, \"err_low\": -1326.5087414101326, \"err_high\": 716.4861650855918}, {\"time\": \"2009-02-16T09:30:00\", \"variable\": \"SW_IN\", \"value\": 53.39, \"is_present\": true, \"mean\": -279.80900290997226, \"std\": 510.7487266239312, \"err_low\": -1301.3064561578346, \"err_high\": 741.6884503378901}, {\"time\": \"2009-02-16T10:00:00\", \"variable\": \"SW_IN\", \"value\": 95.84, \"is_present\": true, \"mean\": -259.45313923861227, \"std\": 510.74872662393017, \"err_low\": -1280.9505924864725, \"err_high\": 762.0443140092481}, {\"time\": \"2009-02-16T10:30:00\", \"variable\": \"SW_IN\", \"value\": 113.16, \"is_present\": true, \"mean\": -208.04718162217034, \"std\": 510.7487266239309, \"err_low\": -1229.544634870032, \"err_high\": 813.4502716256915}, {\"time\": \"2009-02-16T11:00:00\", \"variable\": \"SW_IN\", \"value\": 217.72, \"is_present\": true, \"mean\": -159.10958549106203, \"std\": 510.748726623931, \"err_low\": -1180.607038738924, \"err_high\": 862.3878677568}, {\"time\": \"2009-02-16T11:30:00\", \"variable\": \"SW_IN\", \"value\": 219.17, \"is_present\": true, \"mean\": -99.253128243038, \"std\": 510.7487266239312, \"err_low\": -1120.7505814909005, \"err_high\": 922.2443250048244}, {\"time\": \"2009-02-16T12:00:00\", \"variable\": \"SW_IN\", \"value\": 195.61, \"is_present\": true, \"mean\": -80.94863441828132, \"std\": 510.7487266239315, \"err_low\": -1102.4460876661442, \"err_high\": 940.5488188295816}, {\"time\": \"2009-02-16T12:30:00\", \"variable\": \"SW_IN\", \"value\": 121.39, \"is_present\": true, \"mean\": -76.49642955398399, \"std\": 510.7487266239306, \"err_low\": -1097.9938828018453, \"err_high\": 945.0010236938773}, {\"time\": \"2009-02-16T13:00:00\", \"variable\": \"SW_IN\", \"value\": 120.26, \"is_present\": true, \"mean\": -93.55641177585365, \"std\": 510.7487266239309, \"err_low\": -1115.0538650237154, \"err_high\": 927.9410414720081}, {\"time\": \"2009-02-16T13:30:00\", \"variable\": \"SW_IN\", \"value\": 147.82, \"is_present\": true, \"mean\": -70.88874970490905, \"std\": 510.748726623931, \"err_low\": -1092.386202952771, \"err_high\": 950.608703542953}, {\"time\": \"2009-02-16T14:00:00\", \"variable\": \"SW_IN\", \"value\": 156.28, \"is_present\": true, \"mean\": -50.81202159684979, \"std\": 510.74872662393074, \"err_low\": -1072.3094748447113, \"err_high\": 970.6854316510116}, {\"time\": \"2009-02-16T14:30:00\", \"variable\": \"SW_IN\", \"value\": 124.41, \"is_present\": true, \"mean\": -60.35599741092041, \"std\": 510.7487266239313, \"err_low\": -1081.853450658783, \"err_high\": 961.1414558369422}, {\"time\": \"2009-02-16T15:00:00\", \"variable\": \"SW_IN\", \"value\": 73.05, \"is_present\": true, \"mean\": -89.09452561759024, \"std\": 510.7487266239313, \"err_low\": -1110.5919788654528, \"err_high\": 932.4029276302724}, {\"time\": \"2009-02-16T15:30:00\", \"variable\": \"SW_IN\", \"value\": 61.73, \"is_present\": true, \"mean\": -126.08965630189913, \"std\": 510.7487266239309, \"err_low\": -1147.587109549761, \"err_high\": 895.4077969459627}, {\"time\": \"2009-02-16T16:00:00\", \"variable\": \"SW_IN\", \"value\": 56.36, \"is_present\": true, \"mean\": -151.20047414154232, \"std\": 510.7487266239311, \"err_low\": -1172.6979273894044, \"err_high\": 870.2969791063199}, {\"time\": \"2009-02-16T16:30:00\", \"variable\": \"SW_IN\", \"value\": 43.99, \"is_present\": true, \"mean\": -204.24040749392515, \"std\": 510.7487266239312, \"err_low\": -1225.7378607417875, \"err_high\": 817.2570457539373}, {\"time\": \"2009-02-16T17:00:00\", \"variable\": \"SW_IN\", \"value\": 20.81, \"is_present\": true, \"mean\": -256.3344224776957, \"std\": 510.748726623931, \"err_low\": -1277.8318757255577, \"err_high\": 765.1630307701664}, {\"time\": \"2009-02-16T17:30:00\", \"variable\": \"SW_IN\", \"value\": 4.36, \"is_present\": true, \"mean\": -280.6133831779157, \"std\": 510.7487266239313, \"err_low\": -1302.1108364257784, \"err_high\": 740.8840700699469}, {\"time\": \"2009-02-16T18:00:00\", \"variable\": \"SW_IN\", \"value\": 0.0, \"is_present\": true, \"mean\": -296.8240842386956, \"std\": 510.7487266239309, \"err_low\": -1318.3215374865574, \"err_high\": 724.6733690091662}, {\"time\": \"2009-02-16T18:30:00\", \"variable\": \"SW_IN\", \"value\": 0.0, \"is_present\": true, \"mean\": -305.9534650342747, \"std\": 510.7487266239312, \"err_low\": -1327.450918282137, \"err_high\": 715.5439882135877}, {\"time\": \"2009-02-16T19:00:00\", \"variable\": \"SW_IN\", \"value\": 0.0, \"is_present\": true, \"mean\": -310.98930310239984, \"std\": 510.7487266239312, \"err_low\": -1332.486756350262, \"err_high\": 710.5081501454625}, {\"time\": \"2009-02-16T19:30:00\", \"variable\": \"SW_IN\", \"value\": 0.0, \"is_present\": true, \"mean\": -316.2438553754708, \"std\": 510.7487266239313, \"err_low\": -1337.7413086233335, \"err_high\": 705.2535978723918}, {\"time\": \"2009-02-16T20:00:00\", \"variable\": \"SW_IN\", \"value\": 0.0, \"is_present\": true, \"mean\": -317.7784621302268, \"std\": 510.74872662393085, \"err_low\": -1339.2759153780885, \"err_high\": 703.7189911176349}, {\"time\": \"2009-02-16T20:30:00\", \"variable\": \"SW_IN\", \"value\": 0.0, \"is_present\": true, \"mean\": -318.14737458374896, \"std\": 510.7487266239311, \"err_low\": -1339.644827831611, \"err_high\": 703.3500786641132}, {\"time\": \"2009-02-16T21:00:00\", \"variable\": \"SW_IN\", \"value\": 0.0, \"is_present\": true, \"mean\": -319.15200043595615, \"std\": 510.74872662393074, \"err_low\": -1340.6494536838177, \"err_high\": 702.3454528119053}, {\"time\": \"2009-02-16T21:30:00\", \"variable\": \"SW_IN\", \"value\": 0.0, \"is_present\": true, \"mean\": -320.70181899407066, \"std\": 510.7487266239313, \"err_low\": -1342.1992722419332, \"err_high\": 700.795634253792}, {\"time\": \"2009-02-16T22:00:00\", \"variable\": \"SW_IN\", \"value\": 0.0, \"is_present\": true, \"mean\": -323.2898839746454, \"std\": 510.748726623931, \"err_low\": -1344.7873372225074, \"err_high\": 698.2075692732167}, {\"time\": \"2009-02-16T22:30:00\", \"variable\": \"SW_IN\", \"value\": 0.0, \"is_present\": true, \"mean\": -325.57126731663925, \"std\": 510.7487266239312, \"err_low\": -1347.0687205645017, \"err_high\": 695.9261859312231}, {\"time\": \"2009-02-16T23:00:00\", \"variable\": \"SW_IN\", \"value\": 0.0, \"is_present\": true, \"mean\": -327.4431122272465, \"std\": 510.74872662393057, \"err_low\": -1348.9405654751076, \"err_high\": 694.0543410206146}, {\"time\": \"2009-02-16T23:30:00\", \"variable\": \"SW_IN\", \"value\": 0.0, \"is_present\": true, \"mean\": -328.9760219124942, \"std\": 510.74872662393153, \"err_low\": -1350.4734751603573, \"err_high\": 692.5214313353688}, {\"time\": \"2009-02-17T00:00:00\", \"variable\": \"SW_IN\", \"value\": 0.0, \"is_present\": true, \"mean\": -329.79321430528324, \"std\": 510.748726623931, \"err_low\": -1351.2906675531453, \"err_high\": 691.7042389425787}, {\"time\": \"2009-02-17T00:30:00\", \"variable\": \"SW_IN\", \"value\": 0.0, \"is_present\": true, \"mean\": -331.14511423181943, \"std\": 510.74872662393136, \"err_low\": -1352.6425674796822, \"err_high\": 690.3523390160433}, {\"time\": \"2009-02-17T01:00:00\", \"variable\": \"SW_IN\", \"value\": 0.0, \"is_present\": true, \"mean\": -332.31868396958674, \"std\": 510.7487266239306, \"err_low\": -1353.816137217448, \"err_high\": 689.1787692782746}, {\"time\": \"2009-02-17T01:30:00\", \"variable\": \"SW_IN\", \"value\": 0.0, \"is_present\": true, \"mean\": -333.74013190416196, \"std\": 510.7487266239315, \"err_low\": -1355.2375851520248, \"err_high\": 687.757321343701}, {\"time\": \"2009-02-17T02:00:00\", \"variable\": \"SW_IN\", \"value\": 0.0, \"is_present\": true, \"mean\": -337.7056265036229, \"std\": 510.7487266239311, \"err_low\": -1359.2030797514851, \"err_high\": 683.7918267442392}, {\"time\": \"2009-02-17T02:30:00\", \"variable\": \"SW_IN\", \"value\": 0.0, \"is_present\": true, \"mean\": -341.4179140179665, \"std\": 510.7487266239311, \"err_low\": -1362.9153672658285, \"err_high\": 680.0795392298957}, {\"time\": \"2009-02-17T03:00:00\", \"variable\": \"SW_IN\", \"value\": 0.0, \"is_present\": true, \"mean\": -343.243998125463, \"std\": 510.7487266239311, \"err_low\": -1364.7414513733252, \"err_high\": 678.2534551223991}, {\"time\": \"2009-02-17T03:30:00\", \"variable\": \"SW_IN\", \"value\": 0.0, \"is_present\": true, \"mean\": -343.9180824035939, \"std\": 510.74872662393153, \"err_low\": -1365.415535651457, \"err_high\": 677.5793708442691}, {\"time\": \"2009-02-17T04:00:00\", \"variable\": \"SW_IN\", \"value\": 0.0, \"is_present\": true, \"mean\": -343.5717348277666, \"std\": 510.7487266239309, \"err_low\": -1365.0691880756285, \"err_high\": 677.9257184200952}, {\"time\": \"2009-02-17T04:30:00\", \"variable\": \"SW_IN\", \"value\": 0.0, \"is_present\": true, \"mean\": -344.0615736439658, \"std\": 510.7487266239315, \"err_low\": -1365.5590268918288, \"err_high\": 677.4358796038971}, {\"time\": \"2009-02-17T05:00:00\", \"variable\": \"SW_IN\", \"value\": 0.0, \"is_present\": true, \"mean\": -345.9227154612388, \"std\": 510.7487266239306, \"err_low\": -1367.4201687091, \"err_high\": 675.5747377866224}, {\"time\": \"2009-02-17T05:30:00\", \"variable\": \"SW_IN\", \"value\": 0.0, \"is_present\": true, \"mean\": -347.95504358352, \"std\": 510.7487266239309, \"err_low\": -1369.4524968313817, \"err_high\": 673.5424096643418}, {\"time\": \"2009-02-17T06:00:00\", \"variable\": \"SW_IN\", \"value\": 0.0, \"is_present\": true, \"mean\": -348.99301391387263, \"std\": 510.7487266239306, \"err_low\": -1370.490467161734, \"err_high\": 672.5044393339886}, {\"time\": \"2009-02-17T06:30:00\", \"variable\": \"SW_IN\", \"value\": 0.0, \"is_present\": true, \"mean\": -350.2466835601045, \"std\": 510.7487266239309, \"err_low\": -1371.7441368079662, \"err_high\": 671.2507696877574}, {\"time\": \"2009-02-17T07:00:00\", \"variable\": \"SW_IN\", \"value\": 0.0, \"is_present\": true, \"mean\": -353.05282801454536, \"std\": 510.7487266239306, \"err_low\": -1374.5502812624065, \"err_high\": 668.444625233316}, {\"time\": \"2009-02-17T07:30:00\", \"variable\": \"SW_IN\", \"value\": 0.0, \"is_present\": true, \"mean\": -362.96254577759123, \"std\": 510.748726623931, \"err_low\": -1384.4599990254533, \"err_high\": 658.5349074702708}, {\"time\": \"2009-02-17T08:00:00\", \"variable\": \"SW_IN\", \"value\": 1.9, \"is_present\": true, \"mean\": -363.35628704561947, \"std\": 510.74872662393074, \"err_low\": -1384.853740293481, \"err_high\": 658.141166202242}, {\"time\": \"2009-02-17T08:30:00\", \"variable\": \"SW_IN\", \"value\": 8.66, \"is_present\": true, \"mean\": -351.9577137839028, \"std\": 510.748726623931, \"err_low\": -1373.4551670317649, \"err_high\": 669.5397394639592}, {\"time\": \"2009-02-17T09:00:00\", \"variable\": \"SW_IN\", \"value\": 15.41, \"is_present\": true, \"mean\": -337.4717381316609, \"std\": 510.74872662393045, \"err_low\": -1358.9691913795218, \"err_high\": 684.0257151162}, {\"time\": \"2009-02-17T09:30:00\", \"variable\": \"SW_IN\", \"value\": 30.3, \"is_present\": true, \"mean\": -316.9672378188597, \"std\": 510.7487266239311, \"err_low\": -1338.4646910667218, \"err_high\": 704.5302154290025}, {\"time\": \"2009-02-17T10:00:00\", \"variable\": \"SW_IN\", \"value\": 42.19, \"is_present\": true, \"mean\": -299.1617650556173, \"std\": 510.7487266239311, \"err_low\": -1320.6592183034795, \"err_high\": 722.3356881922448}, {\"time\": \"2009-02-17T10:30:00\", \"variable\": \"SW_IN\", \"value\": 55.41, \"is_present\": true, \"mean\": -151.24005970597142, \"std\": 510.7487266239313, \"err_low\": -1172.737512953834, \"err_high\": 870.2573935418911}, {\"time\": \"2009-02-17T11:00:00\", \"variable\": \"SW_IN\", \"value\": 52.76, \"is_present\": true, \"mean\": 28.573830784524986, \"std\": 510.7487266239315, \"err_low\": -992.923622463338, \"err_high\": 1050.071284032388}, {\"time\": \"2009-02-17T11:30:00\", \"variable\": \"SW_IN\", \"value\": 102.05, \"is_present\": true, \"mean\": 95.73536090771125, \"std\": 510.7487266239315, \"err_low\": -925.7620923401516, \"err_high\": 1117.2328141555743}, {\"time\": \"2009-02-17T12:00:00\", \"variable\": \"SW_IN\", \"value\": 137.63, \"is_present\": true, \"mean\": 153.2395718119233, \"std\": 510.7487266239303, \"err_low\": -868.2578814359373, \"err_high\": 1174.737025059784}, {\"time\": \"2009-02-17T12:30:00\", \"variable\": \"SW_IN\", \"value\": 235.5, \"is_present\": true, \"mean\": 199.29477738477397, \"std\": 510.74872662393176, \"err_low\": -822.2026758630896, \"err_high\": 1220.7922306326375}, {\"time\": \"2009-02-17T13:00:00\", \"variable\": \"SW_IN\", \"value\": 291.2, \"is_present\": true, \"mean\": 255.61110761160137, \"std\": 510.7487266239315, \"err_low\": -765.8863456362616, \"err_high\": 1277.1085608594644}, {\"time\": \"2009-02-17T13:30:00\", \"variable\": \"SW_IN\", \"value\": 316.403, \"is_present\": true, \"mean\": 311.0972864202051, \"std\": 510.7487266239309, \"err_low\": -710.4001668276567, \"err_high\": 1332.594739668067}, {\"time\": \"2009-02-17T14:00:00\", \"variable\": \"SW_IN\", \"value\": 364.367, \"is_present\": true, \"mean\": 335.7792608895556, \"std\": 510.7487266239313, \"err_low\": -685.7181923583071, \"err_high\": 1357.2767141374181}, {\"time\": \"2009-02-17T14:30:00\", \"variable\": \"SW_IN\", \"value\": 422.51, \"is_present\": true, \"mean\": 322.58941410161117, \"std\": 510.7487266239304, \"err_low\": -698.9080391462496, \"err_high\": 1344.086867349472}, {\"time\": \"2009-02-17T15:00:00\", \"variable\": \"SW_IN\", \"value\": 379.39, \"is_present\": true, \"mean\": 302.49659000741576, \"std\": 510.7487266239304, \"err_low\": -719.000863240445, \"err_high\": 1323.9940432552767}, {\"time\": \"2009-02-17T15:30:00\", \"variable\": \"SW_IN\", \"value\": 281.53, \"is_present\": true, \"mean\": 240.7383722233218, \"std\": 510.74872662393, \"err_low\": -780.7590810245382, \"err_high\": 1262.2358254711817}, {\"time\": \"2009-02-17T16:00:00\", \"variable\": \"SW_IN\", \"value\": 220.95, \"is_present\": true, \"mean\": 155.12286843425122, \"std\": 510.7487266239301, \"err_low\": -866.374584813609, \"err_high\": 1176.6203216821114}, {\"time\": \"2009-02-17T16:30:00\", \"variable\": \"SW_IN\", \"value\": 126.67, \"is_present\": true, \"mean\": 41.360599151727456, \"std\": 510.74872662393057, \"err_low\": -980.1368540961337, \"err_high\": 1062.8580523995886}, {\"time\": \"2009-02-17T17:00:00\", \"variable\": \"SW_IN\", \"value\": 98.24, \"is_present\": true, \"mean\": -100.76074767361713, \"std\": 510.74872662393057, \"err_low\": -1122.2582009214782, \"err_high\": 920.736705574244}, {\"time\": \"2009-02-17T17:30:00\", \"variable\": \"SW_IN\", \"value\": 22.8, \"is_present\": true, \"mean\": -194.0411450981078, \"std\": 510.7487266239312, \"err_low\": -1215.53859834597, \"err_high\": 827.4563081497546}, {\"time\": \"2009-02-17T18:00:00\", \"variable\": \"SW_IN\", \"value\": 0.0, \"is_present\": true, \"mean\": -204.4456246140258, \"std\": 514.2455643944918, \"err_low\": -1232.9367534030093, \"err_high\": 824.0455041749578}, {\"time\": \"2009-02-17T18:30:00\", \"variable\": \"SW_IN\", \"value\": 0.0, \"is_present\": true, \"mean\": -267.17665696169036, \"std\": 514.3020441696001, \"err_low\": -1295.7807453008904, \"err_high\": 761.4274313775098}, {\"time\": \"2009-02-17T19:00:00\", \"variable\": \"SW_IN\", \"value\": 0.0, \"is_present\": true, \"mean\": -292.783794930734, \"std\": 514.3128777398607, \"err_low\": -1321.4095504104555, \"err_high\": 735.8419605489873}, {\"time\": \"2009-02-17T19:30:00\", \"variable\": \"SW_IN\", \"value\": 0.0, \"is_present\": true, \"mean\": -321.1828012141137, \"std\": 514.3191048693325, \"err_low\": -1349.8210109527786, \"err_high\": 707.4554085245513}, {\"time\": \"2009-02-17T20:00:00\", \"variable\": \"SW_IN\", \"value\": 0.0, \"is_present\": true, \"mean\": -338.48258355612063, \"std\": 514.320005911693, \"err_low\": -1367.1225953795065, \"err_high\": 690.1574282672653}, {\"time\": \"2009-02-17T20:30:00\", \"variable\": \"SW_IN\", \"value\": 0.0, \"is_present\": true, \"mean\": -344.86367043323185, \"std\": 514.3202511285812, \"err_low\": -1373.5041726903942, \"err_high\": 683.7768318239305}, {\"time\": \"2009-02-17T21:00:00\", \"variable\": \"SW_IN\", \"value\": 0.0, \"is_present\": true, \"mean\": -353.50321799147576, \"std\": 514.3202947207602, \"err_low\": -1382.1438074329963, \"err_high\": 675.1373714500446}, {\"time\": \"2009-02-17T21:30:00\", \"variable\": \"SW_IN\", \"value\": 0.0, \"is_present\": true, \"mean\": -362.85609899599615, \"std\": 514.3203047231174, \"err_low\": -1391.496708442231, \"err_high\": 665.7845104502386}, {\"time\": \"2009-02-17T22:00:00\", \"variable\": \"SW_IN\", \"value\": 0.0, \"is_present\": true, \"mean\": -373.2676124834663, \"std\": 514.3203066765743, \"err_low\": -1401.908225836615, \"err_high\": 655.3730008696823}, {\"time\": \"2009-02-17T22:30:00\", \"variable\": \"SW_IN\", \"value\": 0.0, \"is_present\": true, \"mean\": -384.43870109772644, \"std\": 514.3203070980683, \"err_low\": -1413.079315293863, \"err_high\": 644.2019130984102}, {\"time\": \"2009-02-17T23:00:00\", \"variable\": \"SW_IN\", \"value\": 0.0, \"is_present\": true, \"mean\": -454.09428937825663, \"std\": 510.8477689491209, \"err_low\": -1475.7898272764985, \"err_high\": 567.6012485199851}, {\"time\": \"2009-02-17T23:30:00\", \"variable\": \"SW_IN\", \"value\": 0.0, \"is_present\": true, \"mean\": -443.4918979766598, \"std\": 510.7757296258748, \"err_low\": -1465.0433572284094, \"err_high\": 578.0595612750899}, {\"time\": \"2009-02-18T00:00:00\", \"variable\": \"SW_IN\", \"value\": 0.0, \"is_present\": true, \"mean\": -439.4040800261868, \"std\": 510.75654021130833, \"err_low\": -1460.9171604488035, \"err_high\": 582.1090003964298}, {\"time\": \"2009-02-18T00:30:00\", \"variable\": \"SW_IN\", \"value\": 0.0, \"is_present\": true, \"mean\": -440.7338160412756, \"std\": 510.74994054532453, \"err_low\": -1462.2336971319246, \"err_high\": 580.7660650493735}, {\"time\": \"2009-02-18T01:00:00\", \"variable\": \"SW_IN\", \"value\": 0.0, \"is_present\": true, \"mean\": -443.42539670070124, \"std\": 510.7489706493567, \"err_low\": -1464.9233379994146, \"err_high\": 578.0725445980122}, {\"time\": \"2009-02-18T01:30:00\", \"variable\": \"SW_IN\", \"value\": 0.0, \"is_present\": true, \"mean\": -445.7855492159633, \"std\": 510.74876730275156, \"err_low\": -1467.2830838214663, \"err_high\": 575.7119853895399}, {\"time\": \"2009-02-18T02:00:00\", \"variable\": \"SW_IN\", \"value\": 0.0, \"is_present\": true, \"mean\": -443.18704519255976, \"std\": 510.7487341993735, \"err_low\": -1464.6845135913068, \"err_high\": 578.3104232061871}, {\"time\": \"2009-02-18T02:30:00\", \"variable\": \"SW_IN\", \"value\": 0.0, \"is_present\": true, \"mean\": -441.9390123834094, \"std\": 510.7487279382604, \"err_low\": -1463.4364682599303, \"err_high\": 579.5584434931113}, {\"time\": \"2009-02-18T03:00:00\", \"variable\": \"SW_IN\", \"value\": 0.0, \"is_present\": true, \"mean\": -435.9457928511179, \"std\": 510.7487268622145, \"err_low\": -1457.443246575547, \"err_high\": 585.551660873311}, {\"time\": \"2009-02-18T03:30:00\", \"variable\": \"SW_IN\", \"value\": 0.0, \"is_present\": true, \"mean\": -433.47815187050736, \"std\": 510.74872666595513, \"err_low\": -1454.9756052024177, \"err_high\": 588.0193014614028}, {\"time\": \"2009-02-18T04:00:00\", \"variable\": \"SW_IN\", \"value\": 0.0, \"is_present\": true, \"mean\": -429.0085352640114, \"std\": 510.748726631471, \"err_low\": -1450.5059885269534, \"err_high\": 592.4889179989307}, {\"time\": \"2009-02-18T04:30:00\", \"variable\": \"SW_IN\", \"value\": 0.0, \"is_present\": true, \"mean\": -431.0676477240017, \"std\": 510.74872662526946, \"err_low\": -1452.5651009745407, \"err_high\": 590.4298055265372}, {\"time\": \"2009-02-18T05:00:00\", \"variable\": \"SW_IN\", \"value\": 0.0, \"is_present\": true, \"mean\": -434.12542050706696, \"std\": 510.7487266241701, \"err_low\": -1455.6228737554072, \"err_high\": 587.3720327412732}, {\"time\": \"2009-02-18T05:30:00\", \"variable\": \"SW_IN\", \"value\": 0.0, \"is_present\": true, \"mean\": -435.0108680651795, \"std\": 510.74872662397314, \"err_low\": -1456.5083213131259, \"err_high\": 586.4865851827667}, {\"time\": \"2009-02-18T06:00:00\", \"variable\": \"SW_IN\", \"value\": 0.0, \"is_present\": true, \"mean\": -436.6950259284195, \"std\": 510.74872662393864, \"err_low\": -1458.1924791762967, \"err_high\": 584.8024273194578}, {\"time\": \"2009-02-18T06:30:00\", \"variable\": \"SW_IN\", \"value\": 0.0, \"is_present\": true, \"mean\": -442.67287413655623, \"std\": 510.74872662393255, \"err_low\": -1464.1703273844214, \"err_high\": 578.8245791113088}, {\"time\": \"2009-02-18T07:00:00\", \"variable\": \"SW_IN\", \"value\": 0.0, \"is_present\": true, \"mean\": -443.0440774387611, \"std\": 510.7487266239313, \"err_low\": -1464.5415306866237, \"err_high\": 578.4533758091015}, {\"time\": \"2009-02-18T07:30:00\", \"variable\": \"SW_IN\", \"value\": 0.0, \"is_present\": true, \"mean\": -440.77536805120536, \"std\": 510.74872662393085, \"err_low\": -1462.2728212990671, \"err_high\": 580.7220851966563}, {\"time\": \"2009-02-18T08:00:00\", \"variable\": \"SW_IN\", \"value\": 12.06, \"is_present\": true, \"mean\": -403.4513850584862, \"std\": 510.7487266239309, \"err_low\": -1424.948838306348, \"err_high\": 618.0460681893755}, {\"time\": \"2009-02-18T08:30:00\", \"variable\": \"SW_IN\", \"value\": 44.19, \"is_present\": true, \"mean\": -314.5075417761754, \"std\": 510.7487266239306, \"err_low\": -1336.0049950240366, \"err_high\": 706.9899114716859}, {\"time\": \"2009-02-18T09:00:00\", \"variable\": \"SW_IN\", \"value\": 135.27, \"is_present\": true, \"mean\": -195.43986136905113, \"std\": 510.748726623931, \"err_low\": -1216.9373146169132, \"err_high\": 826.0575918788109}, {\"time\": \"2009-02-18T09:30:00\", \"variable\": \"SW_IN\", \"value\": 209.87, \"is_present\": true, \"mean\": -48.30442413052363, \"std\": 510.74872662393074, \"err_low\": -1069.8018773783851, \"err_high\": 973.1930291173378}, {\"time\": \"2009-02-18T10:00:00\", \"variable\": \"SW_IN\", \"value\": 286.38, \"is_present\": true, \"mean\": 70.70209916145922, \"std\": 510.7487266239311, \"err_low\": -950.795354086403, \"err_high\": 1092.1995524093213}, {\"time\": \"2009-02-18T10:30:00\", \"variable\": \"SW_IN\", \"value\": 344.39, \"is_present\": true, \"mean\": 217.12593280089868, \"std\": 510.7487266239312, \"err_low\": -804.3715204469637, \"err_high\": 1238.623386048761}, {\"time\": \"2009-02-18T11:00:00\", \"variable\": \"SW_IN\", \"value\": 372.21, \"is_present\": true, \"mean\": 370.5987131250075, \"std\": 510.7487266239313, \"err_low\": -650.8987401228551, \"err_high\": 1392.0961663728701}, {\"time\": \"2009-02-18T11:30:00\", \"variable\": \"SW_IN\", \"value\": 427.62, \"is_present\": true, \"mean\": 464.530785115236, \"std\": 510.7487266239311, \"err_low\": -556.9666681326262, \"err_high\": 1486.0282383630981}, {\"time\": \"2009-02-18T12:00:00\", \"variable\": \"SW_IN\", \"value\": 440.89, \"is_present\": true, \"mean\": 536.7548184360129, \"std\": 510.748726623931, \"err_low\": -484.74263481184914, \"err_high\": 1558.2522716838748}, {\"time\": \"2009-02-18T12:30:00\", \"variable\": \"SW_IN\", \"value\": 361.76, \"is_present\": true, \"mean\": 596.0900024617697, \"std\": 510.74872662393017, \"err_low\": -425.40745078609064, \"err_high\": 1617.58745570963}, {\"time\": \"2009-02-18T13:00:00\", \"variable\": \"SW_IN\", \"value\": 322.51, \"is_present\": true, \"mean\": 623.3130795601381, \"std\": 510.7487266239311, \"err_low\": -398.184373687724, \"err_high\": 1644.8105328080003}, {\"time\": \"2009-02-18T13:30:00\", \"variable\": \"SW_IN\", \"value\": 479.54, \"is_present\": true, \"mean\": 619.5694306998935, \"std\": 510.74872662393176, \"err_low\": -401.92802254797004, \"err_high\": 1641.066883947757}, {\"time\": \"2009-02-18T14:00:00\", \"variable\": \"SW_IN\", \"value\": 446.35, \"is_present\": true, \"mean\": 650.0805805148333, \"std\": 510.74872662393074, \"err_low\": -371.4168727330282, \"err_high\": 1671.5780337626948}, {\"time\": \"2009-02-18T14:30:00\", \"variable\": \"SW_IN\", \"value\": 402.19, \"is_present\": true, \"mean\": 580.0756382509742, \"std\": 510.748726623931, \"err_low\": -441.42181499688786, \"err_high\": 1601.5730914988362}, {\"time\": \"2009-02-18T15:00:00\", \"variable\": \"SW_IN\", \"value\": 366.58, \"is_present\": true, \"mean\": 516.9903919653888, \"std\": 510.7487266239313, \"err_low\": -504.50706128247384, \"err_high\": 1538.4878452132514}, {\"time\": \"2009-02-18T15:30:00\", \"variable\": \"SW_IN\", \"value\": 252.27, \"is_present\": true, \"mean\": 447.6486467474443, \"std\": 510.74872662393017, \"err_low\": -573.848806500416, \"err_high\": 1469.1460999953047}, {\"time\": \"2009-02-18T16:00:00\", \"variable\": \"SW_IN\", \"value\": 197.69, \"is_present\": true, \"mean\": 338.78191049130527, \"std\": 510.74872662393074, \"err_low\": -682.7155427565563, \"err_high\": 1360.2793637391667}, {\"time\": \"2009-02-18T16:30:00\", \"variable\": \"SW_IN\", \"value\": 136.19, \"is_present\": true, \"mean\": 178.63831614094468, \"std\": 510.74872662393074, \"err_low\": -842.8591371069168, \"err_high\": 1200.1357693888062}, {\"time\": \"2009-02-18T17:00:00\", \"variable\": \"SW_IN\", \"value\": 77.66, \"is_present\": true, \"mean\": 10.299186820439246, \"std\": 510.74872662393017, \"err_low\": -1011.1982664274211, \"err_high\": 1031.7966400682997}, {\"time\": \"2009-02-18T17:30:00\", \"variable\": \"SW_IN\", \"value\": 25.57, \"is_present\": true, \"mean\": -118.36800149970044, \"std\": 510.7487266239313, \"err_low\": -1139.865454747563, \"err_high\": 903.1294517481622}, {\"time\": \"2009-02-18T18:00:00\", \"variable\": \"SW_IN\", \"value\": 0.0, \"is_present\": true, \"mean\": -221.1258288005423, \"std\": 510.7487266239309, \"err_low\": -1242.6232820484042, \"err_high\": 800.3716244473195}, {\"time\": \"2009-02-18T18:30:00\", \"variable\": \"SW_IN\", \"value\": 0.0, \"is_present\": true, \"mean\": -289.93790970782953, \"std\": 510.74872662393085, \"err_low\": -1311.4353629556913, \"err_high\": 731.5595435400321}, {\"time\": \"2009-02-18T19:00:00\", \"variable\": \"SW_IN\", \"value\": 0.0, \"is_present\": true, \"mean\": -326.3804114632139, \"std\": 510.7487266239315, \"err_low\": -1347.8778647110769, \"err_high\": 695.117041784649}, {\"time\": \"2009-02-18T19:30:00\", \"variable\": \"SW_IN\", \"value\": 0.0, \"is_present\": true, \"mean\": -357.49324839502685, \"std\": 510.7487266239303, \"err_low\": -1378.9907016428874, \"err_high\": 664.0042048528337}, {\"time\": \"2009-02-18T20:00:00\", \"variable\": \"SW_IN\", \"value\": 0.0, \"is_present\": true, \"mean\": -359.7703414134191, \"std\": 510.7487266239309, \"err_low\": -1381.267794661281, \"err_high\": 661.7271118344427}, {\"time\": \"2009-02-18T20:30:00\", \"variable\": \"SW_IN\", \"value\": 0.0, \"is_present\": true, \"mean\": -351.6586857178267, \"std\": 510.74872662393057, \"err_low\": -1373.156138965688, \"err_high\": 669.8387675300344}, {\"time\": \"2009-02-18T21:00:00\", \"variable\": \"SW_IN\", \"value\": 0.0, \"is_present\": true, \"mean\": -344.93119432030977, \"std\": 510.748726623931, \"err_low\": -1366.4286475681718, \"err_high\": 676.5662589275523}, {\"time\": \"2009-02-18T21:30:00\", \"variable\": \"SW_IN\", \"value\": 0.0, \"is_present\": true, \"mean\": -344.0524638020275, \"std\": 510.7487266239311, \"err_low\": -1365.5499170498897, \"err_high\": 677.4449894458346}, {\"time\": \"2009-02-18T22:00:00\", \"variable\": \"SW_IN\", \"value\": 0.0, \"is_present\": true, \"mean\": -342.4176359375849, \"std\": 510.7487266239306, \"err_low\": -1363.915089185446, \"err_high\": 679.0798173102763}, {\"time\": \"2009-02-18T22:30:00\", \"variable\": \"SW_IN\", \"value\": 0.0, \"is_present\": true, \"mean\": -345.73051720766927, \"std\": 510.7487266239313, \"err_low\": -1367.227970455532, \"err_high\": 675.7669360401933}, {\"time\": \"2009-02-18T23:00:00\", \"variable\": \"SW_IN\", \"value\": 0.0, \"is_present\": true, \"mean\": -352.44325210944, \"std\": 510.74872662393057, \"err_low\": -1373.940705357301, \"err_high\": 669.0542011384211}, {\"time\": \"2009-02-18T23:30:00\", \"variable\": \"SW_IN\", \"value\": 0.0, \"is_present\": true, \"mean\": -364.2249654656406, \"std\": 510.74872662393085, \"err_low\": -1385.7224187135023, \"err_high\": 657.2724877822211}, {\"time\": \"2009-02-19T00:00:00\", \"variable\": \"SW_IN\", \"value\": 0.0, \"is_present\": true, \"mean\": -368.83093583747353, \"std\": 510.74872662393153, \"err_low\": -1390.3283890853365, \"err_high\": 652.6665174103896}, {\"time\": \"2009-02-19T00:30:00\", \"variable\": \"SW_IN\", \"value\": 0.0, \"is_present\": true, \"mean\": -376.2826585618253, \"std\": 510.74872662393136, \"err_low\": -1397.7801118096882, \"err_high\": 645.2147946860374}, {\"time\": \"2009-02-19T01:00:00\", \"variable\": \"SW_IN\", \"value\": 0.0, \"is_present\": true, \"mean\": -378.3196588861611, \"std\": 510.74872662393, \"err_low\": -1399.817112134021, \"err_high\": 643.177794361699}, {\"time\": \"2009-02-19T01:30:00\", \"variable\": \"SW_IN\", \"value\": 0.0, \"is_present\": true, \"mean\": -379.9141170016021, \"std\": 510.7487266239312, \"err_low\": -1401.4115702494646, \"err_high\": 641.5833362462603}, {\"time\": \"2009-02-19T02:00:00\", \"variable\": \"SW_IN\", \"value\": 0.0, \"is_present\": true, \"mean\": -380.1786256361225, \"std\": 510.7487266239313, \"err_low\": -1401.6760788839852, \"err_high\": 641.3188276117401}, {\"time\": \"2009-02-19T02:30:00\", \"variable\": \"SW_IN\", \"value\": 0.0, \"is_present\": true, \"mean\": -391.7398268043078, \"std\": 510.7487266239313, \"err_low\": -1413.2372800521705, \"err_high\": 629.7576264435547}, {\"time\": \"2009-02-19T03:00:00\", \"variable\": \"SW_IN\", \"value\": 0.0, \"is_present\": true, \"mean\": -394.8814570346007, \"std\": 510.74872662393085, \"err_low\": -1416.3789102824624, \"err_high\": 626.615996213261}, {\"time\": \"2009-02-19T03:30:00\", \"variable\": \"SW_IN\", \"value\": 0.0, \"is_present\": true, \"mean\": -399.90669017514386, \"std\": 510.7487266239306, \"err_low\": -1421.404143423005, \"err_high\": 621.5907630727174}, {\"time\": \"2009-02-19T04:00:00\", \"variable\": \"SW_IN\", \"value\": 0.0, \"is_present\": true, \"mean\": -407.67471620135706, \"std\": 510.7487266239311, \"err_low\": -1429.1721694492192, \"err_high\": 613.8227370465052}, {\"time\": \"2009-02-19T04:30:00\", \"variable\": \"SW_IN\", \"value\": 0.0, \"is_present\": true, \"mean\": -400.0521041825098, \"std\": 510.74872662393074, \"err_low\": -1421.5495574303714, \"err_high\": 621.4453490653516}, {\"time\": \"2009-02-19T05:00:00\", \"variable\": \"SW_IN\", \"value\": 0.0, \"is_present\": true, \"mean\": -398.0740964709083, \"std\": 510.7487266239313, \"err_low\": -1419.571549718771, \"err_high\": 623.4233567769543}, {\"time\": \"2009-02-19T05:30:00\", \"variable\": \"SW_IN\", \"value\": 0.0, \"is_present\": true, \"mean\": -397.7450299404234, \"std\": 510.74872662393085, \"err_low\": -1419.2424831882852, \"err_high\": 623.7524233074382}, {\"time\": \"2009-02-19T06:00:00\", \"variable\": \"SW_IN\", \"value\": 0.0, \"is_present\": true, \"mean\": -390.4907295171847, \"std\": 510.7487266239313, \"err_low\": -1411.9881827650474, \"err_high\": 631.0067237306779}, {\"time\": \"2009-02-19T06:30:00\", \"variable\": \"SW_IN\", \"value\": 0.0, \"is_present\": true, \"mean\": -385.4606441542344, \"std\": 510.7487266239311, \"err_low\": -1406.9580974020964, \"err_high\": 636.0368090936278}, {\"time\": \"2009-02-19T07:00:00\", \"variable\": \"SW_IN\", \"value\": 0.0, \"is_present\": true, \"mean\": -391.53751411077764, \"std\": 510.7487266239309, \"err_low\": -1413.0349673586395, \"err_high\": 629.9599391370841}, {\"time\": \"2009-02-19T07:30:00\", \"variable\": \"SW_IN\", \"value\": 0.87, \"is_present\": true, \"mean\": -390.8690181783557, \"std\": 510.7487266239311, \"err_low\": -1412.366471426218, \"err_high\": 630.6284350695064}, {\"time\": \"2009-02-19T08:00:00\", \"variable\": \"SW_IN\", \"value\": 21.3, \"is_present\": true, \"mean\": -348.1974791222211, \"std\": 510.74872662393136, \"err_low\": -1369.6949323700837, \"err_high\": 673.2999741256416}, {\"time\": \"2009-02-19T08:30:00\", \"variable\": \"SW_IN\", \"value\": 46.35, \"is_present\": true, \"mean\": -259.1583012687426, \"std\": 510.74872662393057, \"err_low\": -1280.6557545166038, \"err_high\": 762.3391519791185}, {\"time\": \"2009-02-19T09:00:00\", \"variable\": \"SW_IN\", \"value\": 104.24, \"is_present\": true, \"mean\": -146.71072711613527, \"std\": 510.74872662393153, \"err_low\": -1168.2081803639983, \"err_high\": 874.7867261317278}, {\"time\": \"2009-02-19T09:30:00\", \"variable\": \"SW_IN\", \"value\": 207.85, \"is_present\": true, \"mean\": -27.801121757347758, \"std\": 510.7487266239303, \"err_low\": -1049.2985750052082, \"err_high\": 993.6963314905128}, {\"time\": \"2009-02-19T10:00:00\", \"variable\": \"SW_IN\", \"value\": 289.46, \"is_present\": true, \"mean\": 108.18518095683045, \"std\": 510.7487266239313, \"err_low\": -913.3122722910322, \"err_high\": 1129.6826342046932}, {\"time\": \"2009-02-19T10:30:00\", \"variable\": \"SW_IN\", \"value\": 350.51, \"is_present\": true, \"mean\": 281.8504265548043, \"std\": 510.7487266239312, \"err_low\": -739.647026693058, \"err_high\": 1303.3478798026667}, {\"time\": \"2009-02-19T11:00:00\", \"variable\": \"SW_IN\", \"value\": 399.6, \"is_present\": true, \"mean\": 441.6088542695305, \"std\": 510.74872662393017, \"err_low\": -579.8885989783298, \"err_high\": 1463.1063075173909}, {\"time\": \"2009-02-19T11:30:00\", \"variable\": \"SW_IN\", \"value\": 438.38, \"is_present\": true, \"mean\": 552.1929457441233, \"std\": 510.74872662393136, \"err_low\": -469.3045075037394, \"err_high\": 1573.690398991986}, {\"time\": \"2009-02-19T12:00:00\", \"variable\": \"SW_IN\", \"value\": 468.46, \"is_present\": true, \"mean\": 641.5671642329327, \"std\": 510.74872662393045, \"err_low\": -379.93028901492823, \"err_high\": 1663.0646174807935}, {\"time\": \"2009-02-19T12:30:00\", \"variable\": \"SW_IN\", \"value\": 476.37, \"is_present\": true, \"mean\": 708.0504850552538, \"std\": 510.74872662393085, \"err_low\": -313.44696819260787, \"err_high\": 1729.5479383031156}], \"data-eb0d538de2459f53a8e0952265834120\": [{\"time\": \"2009-02-15T09:00:00\", \"variable\": \"VPD\", \"value\": 0.16, \"is_present\": true, \"mean\": 7.969097051352772, \"std\": 8.988545819112067, \"err_low\": -10.007994586871362, \"err_high\": 25.946188689576907}, {\"time\": \"2009-02-15T09:30:00\", \"variable\": \"VPD\", \"value\": 0.162, \"is_present\": true, \"mean\": -17.257341641906994, \"std\": 13.379646315582018, \"err_low\": -44.016634273071034, \"err_high\": 9.501950989257043}, {\"time\": \"2009-02-15T10:00:00\", \"variable\": \"VPD\", \"value\": 0.174, \"is_present\": true, \"mean\": -13.677145422172938, \"std\": 13.501907490334006, \"err_low\": -40.68096040284095, \"err_high\": 13.326669558495073}, {\"time\": \"2009-02-15T10:30:00\", \"variable\": \"VPD\", \"value\": 0.271, \"is_present\": true, \"mean\": -7.002596145387984, \"std\": 13.46715723954602, \"err_low\": -33.93691062448003, \"err_high\": 19.931718333704058}, {\"time\": \"2009-02-15T11:00:00\", \"variable\": \"VPD\", \"value\": 0.447, \"is_present\": true, \"mean\": -2.6261741160932646, \"std\": 13.460702982704275, \"err_low\": -29.547580081501813, \"err_high\": 24.295231849315286}, {\"time\": \"2009-02-15T11:30:00\", \"variable\": \"VPD\", \"value\": 0.688, \"is_present\": true, \"mean\": 1.2789386393736106, \"std\": 13.459484224988397, \"err_low\": -25.640029810603185, \"err_high\": 28.197907089350405}, {\"time\": \"2009-02-15T12:00:00\", \"variable\": \"VPD\", \"value\": 0.808, \"is_present\": true, \"mean\": 3.966882324437789, \"std\": 13.459268413867147, \"err_low\": -22.951654503296503, \"err_high\": 30.885419152172084}, {\"time\": \"2009-02-15T12:30:00\", \"variable\": \"VPD\", \"value\": 0.782, \"is_present\": true, \"mean\": 4.98760834673897, \"std\": 13.459229598177979, \"err_low\": -21.930850849616988, \"err_high\": 31.906067543094927}, {\"time\": \"2009-02-15T13:00:00\", \"variable\": \"VPD\", \"value\": 0.675, \"is_present\": true, \"mean\": 5.392766494749092, \"std\": 13.45922270838655, \"err_low\": -21.525678922024007, \"err_high\": 32.31121191152219}, {\"time\": \"2009-02-15T13:30:00\", \"variable\": \"VPD\", \"value\": 0.792, \"is_present\": true, \"mean\": 4.532400123198506, \"std\": 13.459221476712512, \"err_low\": -22.38604283022652, \"err_high\": 31.45084307662353}, {\"time\": \"2009-02-15T14:00:00\", \"variable\": \"VPD\", \"value\": 0.711, \"is_present\": true, \"mean\": 1.9977297216511247, \"std\": 13.459221257560616, \"err_low\": -24.920712793470106, \"err_high\": 28.916172236772358}, {\"time\": \"2009-02-15T14:30:00\", \"variable\": \"VPD\", \"value\": 0.681, \"is_present\": true, \"mean\": -0.7381547353424942, \"std\": 13.459221218454818, \"err_low\": -27.65659717225213, \"err_high\": 26.180287701567142}, {\"time\": \"2009-02-15T15:00:00\", \"variable\": \"VPD\", \"value\": 0.719, \"is_present\": true, \"mean\": -1.8521446188184578, \"std\": 13.459221211489371, \"err_low\": -28.7705870417972, \"err_high\": 25.066297804160286}, {\"time\": \"2009-02-15T15:30:00\", \"variable\": \"VPD\", \"value\": 0.757, \"is_present\": true, \"mean\": -1.7745846198307849, \"std\": 13.459221210247296, \"err_low\": -28.693027040325376, \"err_high\": 25.14385780066381}, {\"time\": \"2009-02-15T16:00:00\", \"variable\": \"VPD\", \"value\": 0.742, \"is_present\": true, \"mean\": -3.5391885195014474, \"std\": 13.45922121002597, \"err_low\": -30.457630939553386, \"err_high\": 23.37925390055049}, {\"time\": \"2009-02-15T16:30:00\", \"variable\": \"VPD\", \"value\": 0.721, \"is_present\": true, \"mean\": -5.516971613646041, \"std\": 13.4592212099865, \"err_low\": -32.43541403361904, \"err_high\": 21.40147080632696}, {\"time\": \"2009-02-15T17:00:00\", \"variable\": \"VPD\", \"value\": 0.684, \"is_present\": true, \"mean\": -8.08953048964187, \"std\": 13.45922120997949, \"err_low\": -35.00797290960085, \"err_high\": 18.82891193031711}, {\"time\": \"2009-02-15T17:30:00\", \"variable\": \"VPD\", \"value\": 0.648, \"is_present\": true, \"mean\": -9.308344340314935, \"std\": 13.459221209978233, \"err_low\": -36.2267867602714, \"err_high\": 17.61009807964153}, {\"time\": \"2009-02-15T18:00:00\", \"variable\": \"VPD\", \"value\": 0.604, \"is_present\": true, \"mean\": -10.182696542287985, \"std\": 13.459221209978027, \"err_low\": -37.101138962244036, \"err_high\": 16.73574587766807}, {\"time\": \"2009-02-15T18:30:00\", \"variable\": \"VPD\", \"value\": 0.487, \"is_present\": true, \"mean\": -10.693933762655288, \"std\": 13.459221209977953, \"err_low\": -37.61237618261119, \"err_high\": 16.224508657300618}, {\"time\": \"2009-02-15T19:00:00\", \"variable\": \"VPD\", \"value\": 0.292, \"is_present\": true, \"mean\": -11.088367621882206, \"std\": 13.459221209977969, \"err_low\": -38.00681004183814, \"err_high\": 15.830074798073731}, {\"time\": \"2009-02-15T19:30:00\", \"variable\": \"VPD\", \"value\": 0.166, \"is_present\": true, \"mean\": -11.630442837239915, \"std\": 13.459221209977978, \"err_low\": -38.54888525719587, \"err_high\": 15.28799958271604}, {\"time\": \"2009-02-15T20:00:00\", \"variable\": \"VPD\", \"value\": 0.087, \"is_present\": true, \"mean\": -11.910231462148673, \"std\": 13.459221209977953, \"err_low\": -38.82867388210458, \"err_high\": 15.008210957807233}, {\"time\": \"2009-02-15T20:30:00\", \"variable\": \"VPD\", \"value\": 0.057, \"is_present\": true, \"mean\": -12.031102915603778, \"std\": 13.459221209977963, \"err_low\": -38.949545335559705, \"err_high\": 14.887339504352148}, {\"time\": \"2009-02-15T21:00:00\", \"variable\": \"VPD\", \"value\": 0.062, \"is_present\": true, \"mean\": -12.090056079180659, \"std\": 13.459221209977951, \"err_low\": -39.008498499136564, \"err_high\": 14.828386340775243}, {\"time\": \"2009-02-15T21:30:00\", \"variable\": \"VPD\", \"value\": 0.083, \"is_present\": true, \"mean\": -12.124289454716976, \"std\": 13.459221209977969, \"err_low\": -39.04273187467291, \"err_high\": 14.794152965238961}, {\"time\": \"2009-02-15T22:00:00\", \"variable\": \"VPD\", \"value\": 0.077, \"is_present\": true, \"mean\": -12.166726108655169, \"std\": 13.459221209977965, \"err_low\": -39.0851685286111, \"err_high\": 14.751716311300761}, {\"time\": \"2009-02-15T22:30:00\", \"variable\": \"VPD\", \"value\": 0.066, \"is_present\": true, \"mean\": -12.277796742020218, \"std\": 13.459221209977962, \"err_low\": -39.19623916197614, \"err_high\": 14.640645677935705}, {\"time\": \"2009-02-15T23:00:00\", \"variable\": \"VPD\", \"value\": 0.07, \"is_present\": true, \"mean\": -12.366766528438742, \"std\": 13.459221209977935, \"err_low\": -39.28520894839461, \"err_high\": 14.551675891517128}, {\"time\": \"2009-02-15T23:30:00\", \"variable\": \"VPD\", \"value\": 0.055, \"is_present\": true, \"mean\": -12.425089169722245, \"std\": 13.459221209977963, \"err_low\": -39.34353158967817, \"err_high\": 14.493353250233682}, {\"time\": \"2009-02-16T00:00:00\", \"variable\": \"VPD\", \"value\": 0.049, \"is_present\": true, \"mean\": -12.516098318306646, \"std\": 13.459221209977946, \"err_low\": -39.43454073826254, \"err_high\": 14.402344101649245}, {\"time\": \"2009-02-16T00:30:00\", \"variable\": \"VPD\", \"value\": 0.056, \"is_present\": true, \"mean\": -12.594253867138196, \"std\": 13.459221209977969, \"err_low\": -39.51269628709413, \"err_high\": 14.324188552817741}, {\"time\": \"2009-02-16T01:00:00\", \"variable\": \"VPD\", \"value\": 0.058, \"is_present\": true, \"mean\": -12.651043677733863, \"std\": 13.459221209977942, \"err_low\": -39.56948609768975, \"err_high\": 14.26739874222202}, {\"time\": \"2009-02-16T01:30:00\", \"variable\": \"VPD\", \"value\": 0.058, \"is_present\": true, \"mean\": -12.722578282087163, \"std\": 13.459221209977951, \"err_low\": -39.641020702043065, \"err_high\": 14.195864137868739}, {\"time\": \"2009-02-16T02:00:00\", \"variable\": \"VPD\", \"value\": 0.055, \"is_present\": true, \"mean\": -12.818081006166572, \"std\": 13.459221209977942, \"err_low\": -39.73652342612246, \"err_high\": 14.100361413789312}, {\"time\": \"2009-02-16T02:30:00\", \"variable\": \"VPD\", \"value\": 0.039, \"is_present\": true, \"mean\": -12.909680951842429, \"std\": 13.459221209977947, \"err_low\": -39.82812337179833, \"err_high\": 14.008761468113466}, {\"time\": \"2009-02-16T03:00:00\", \"variable\": \"VPD\", \"value\": 0.026, \"is_present\": true, \"mean\": -13.007463153963748, \"std\": 13.459221209977963, \"err_low\": -39.92590557391968, \"err_high\": 13.910979265992179}, {\"time\": \"2009-02-16T03:30:00\", \"variable\": \"VPD\", \"value\": 0.018, \"is_present\": true, \"mean\": -13.078210275434031, \"std\": 13.459221209977963, \"err_low\": -39.996652695389955, \"err_high\": 13.840232144521895}, {\"time\": \"2009-02-16T04:00:00\", \"variable\": \"VPD\", \"value\": 0.005, \"is_present\": true, \"mean\": -13.139002820271418, \"std\": 13.459221209977962, \"err_low\": -40.05744524022734, \"err_high\": 13.779439599684505}, {\"time\": \"2009-02-16T04:30:00\", \"variable\": \"VPD\", \"value\": 0.0, \"is_present\": true, \"mean\": -13.214338268951213, \"std\": 13.45922120997796, \"err_low\": -40.13278068890713, \"err_high\": 13.704104151004707}, {\"time\": \"2009-02-16T05:00:00\", \"variable\": \"VPD\", \"value\": 0.0, \"is_present\": true, \"mean\": -13.188764597948438, \"std\": 13.459221209977965, \"err_low\": -40.10720701790437, \"err_high\": 13.729677822007492}, {\"time\": \"2009-02-16T05:30:00\", \"variable\": \"VPD\", \"value\": 0.0, \"is_present\": true, \"mean\": -13.144970223226156, \"std\": 13.459221209977947, \"err_low\": -40.06341264318205, \"err_high\": 13.773472196729738}, {\"time\": \"2009-02-16T06:00:00\", \"variable\": \"VPD\", \"value\": 0.0, \"is_present\": true, \"mean\": -13.120609503991442, \"std\": 13.45922120997796, \"err_low\": -40.03905192394736, \"err_high\": 13.797832915964477}, {\"time\": \"2009-02-16T06:30:00\", \"variable\": \"VPD\", \"value\": 0.0, \"is_present\": true, \"mean\": -13.115802048170323, \"std\": 13.459221209977963, \"err_low\": -40.034244468126246, \"err_high\": 13.802640371785603}, {\"time\": \"2009-02-16T07:00:00\", \"variable\": \"VPD\", \"value\": 0.0, \"is_present\": true, \"mean\": -13.112419745249845, \"std\": 13.459221209977976, \"err_low\": -40.0308621652058, \"err_high\": 13.806022674706107}, {\"time\": \"2009-02-16T07:30:00\", \"variable\": \"VPD\", \"value\": 0.0, \"is_present\": true, \"mean\": -13.106085146516051, \"std\": 13.459221209977962, \"err_low\": -40.024527566471974, \"err_high\": 13.812357273439872}, {\"time\": \"2009-02-16T08:00:00\", \"variable\": \"VPD\", \"value\": 0.0, \"is_present\": true, \"mean\": -12.982716819396384, \"std\": 13.459221209977969, \"err_low\": -39.901159239352324, \"err_high\": 13.935725600559554}, {\"time\": \"2009-02-16T08:30:00\", \"variable\": \"VPD\", \"value\": 0.0, \"is_present\": true, \"mean\": -12.591977874227688, \"std\": 13.45922120997796, \"err_low\": -39.510420294183604, \"err_high\": 14.326464545728232}, {\"time\": \"2009-02-16T09:00:00\", \"variable\": \"VPD\", \"value\": 0.0, \"is_present\": true, \"mean\": -12.018634281992291, \"std\": 13.459221209977963, \"err_low\": -38.937076701948214, \"err_high\": 14.899808137963635}, {\"time\": \"2009-02-16T09:30:00\", \"variable\": \"VPD\", \"value\": 0.0, \"is_present\": true, \"mean\": -11.343184837075661, \"std\": 13.459221209977963, \"err_low\": -38.26162725703159, \"err_high\": 15.575257582880266}, {\"time\": \"2009-02-16T10:00:00\", \"variable\": \"VPD\", \"value\": 0.0, \"is_present\": true, \"mean\": -10.801748569100546, \"std\": 13.459221209977933, \"err_low\": -37.72019098905641, \"err_high\": 16.11669385085532}, {\"time\": \"2009-02-16T10:30:00\", \"variable\": \"VPD\", \"value\": 0.0, \"is_present\": true, \"mean\": -9.507798621570064, \"std\": 13.459221209977954, \"err_low\": -36.42624104152597, \"err_high\": 17.410643798385845}, {\"time\": \"2009-02-16T11:00:00\", \"variable\": \"VPD\", \"value\": 0.0, \"is_present\": true, \"mean\": -8.13377865881608, \"std\": 13.45922120997796, \"err_low\": -35.052221078772, \"err_high\": 18.78466376113984}, {\"time\": \"2009-02-16T11:30:00\", \"variable\": \"VPD\", \"value\": 0.0, \"is_present\": true, \"mean\": -6.494255781388898, \"std\": 13.459221209977963, \"err_low\": -33.412698201344824, \"err_high\": 20.42418663856703}, {\"time\": \"2009-02-16T12:00:00\", \"variable\": \"VPD\", \"value\": 0.0, \"is_present\": true, \"mean\": -6.005885755478839, \"std\": 13.459221209977972, \"err_low\": -32.92432817543478, \"err_high\": 20.912556664477105}, {\"time\": \"2009-02-16T12:30:00\", \"variable\": \"VPD\", \"value\": 0.0, \"is_present\": true, \"mean\": -5.895663810011411, \"std\": 13.459221209977947, \"err_low\": -32.81410622996731, \"err_high\": 21.022778609944485}, {\"time\": \"2009-02-16T13:00:00\", \"variable\": \"VPD\", \"value\": 0.0, \"is_present\": true, \"mean\": -6.373062953434574, \"std\": 13.459221209977954, \"err_low\": -33.291505373390486, \"err_high\": 20.545379466521336}, {\"time\": \"2009-02-16T13:30:00\", \"variable\": \"VPD\", \"value\": 0.0, \"is_present\": true, \"mean\": -5.803345910145128, \"std\": 13.45922120997796, \"err_low\": -32.72178833010105, \"err_high\": 21.11509650981079}, {\"time\": \"2009-02-16T14:00:00\", \"variable\": \"VPD\", \"value\": 0.0, \"is_present\": true, \"mean\": -5.205237794381648, \"std\": 13.459221209977951, \"err_low\": -32.12368021433755, \"err_high\": 21.713204625574253}, {\"time\": \"2009-02-16T14:30:00\", \"variable\": \"VPD\", \"value\": 0.0, \"is_present\": true, \"mean\": -5.469770872388939, \"std\": 13.459221209977965, \"err_low\": -32.38821329234487, \"err_high\": 21.448671547566992}, {\"time\": \"2009-02-16T15:00:00\", \"variable\": \"VPD\", \"value\": 0.0, \"is_present\": true, \"mean\": -6.247087662041408, \"std\": 13.459221209977967, \"err_low\": -33.16553008199734, \"err_high\": 20.671354757914525}, {\"time\": \"2009-02-16T15:30:00\", \"variable\": \"VPD\", \"value\": 0.0, \"is_present\": true, \"mean\": -7.246473831900574, \"std\": 13.459221209977954, \"err_low\": -34.16491625185648, \"err_high\": 19.671968588055336}, {\"time\": \"2009-02-16T16:00:00\", \"variable\": \"VPD\", \"value\": 0.0, \"is_present\": true, \"mean\": -7.903429997241406, \"std\": 13.459221209977963, \"err_low\": -34.82187241719733, \"err_high\": 19.01501242271452}, {\"time\": \"2009-02-16T16:30:00\", \"variable\": \"VPD\", \"value\": 0.0, \"is_present\": true, \"mean\": -9.200814622898271, \"std\": 13.459221209977965, \"err_low\": -36.1192570428542, \"err_high\": 17.71762779705766}, {\"time\": \"2009-02-16T17:00:00\", \"variable\": \"VPD\", \"value\": 0.0, \"is_present\": true, \"mean\": -10.706423108314844, \"std\": 13.45922120997796, \"err_low\": -37.62486552827076, \"err_high\": 16.212019311641075}, {\"time\": \"2009-02-16T17:30:00\", \"variable\": \"VPD\", \"value\": 0.0, \"is_present\": true, \"mean\": -11.35827364500052, \"std\": 13.459221209977965, \"err_low\": -38.276716064956446, \"err_high\": 15.560168774955411}, {\"time\": \"2009-02-16T18:00:00\", \"variable\": \"VPD\", \"value\": 0.0, \"is_present\": true, \"mean\": -11.80965070381323, \"std\": 13.459221209977954, \"err_low\": -38.72809312376914, \"err_high\": 15.10879171614268}, {\"time\": \"2009-02-16T18:30:00\", \"variable\": \"VPD\", \"value\": 0.0, \"is_present\": true, \"mean\": -12.065009636941792, \"std\": 13.459221209977965, \"err_low\": -38.98345205689772, \"err_high\": 14.853432783014139}, {\"time\": \"2009-02-16T19:00:00\", \"variable\": \"VPD\", \"value\": 0.0, \"is_present\": true, \"mean\": -12.206856960539557, \"std\": 13.459221209977965, \"err_low\": -39.12529938049549, \"err_high\": 14.711585459416373}, {\"time\": \"2009-02-16T19:30:00\", \"variable\": \"VPD\", \"value\": 0.0, \"is_present\": true, \"mean\": -12.356578578232156, \"std\": 13.459221209977967, \"err_low\": -39.27502099818809, \"err_high\": 14.561863841723778}, {\"time\": \"2009-02-16T20:00:00\", \"variable\": \"VPD\", \"value\": 0.0, \"is_present\": true, \"mean\": -12.400287986584345, \"std\": 13.459221209977953, \"err_low\": -39.318730406540254, \"err_high\": 14.51815443337156}, {\"time\": \"2009-02-16T20:30:00\", \"variable\": \"VPD\", \"value\": 0.0, \"is_present\": true, \"mean\": -12.407629215926992, \"std\": 13.459221209977963, \"err_low\": -39.32607163588292, \"err_high\": 14.510813204028935}, {\"time\": \"2009-02-16T21:00:00\", \"variable\": \"VPD\", \"value\": 0.0, \"is_present\": true, \"mean\": -12.436540325380165, \"std\": 13.459221209977951, \"err_low\": -39.354982745336066, \"err_high\": 14.481902094575737}, {\"time\": \"2009-02-16T21:30:00\", \"variable\": \"VPD\", \"value\": 0.0, \"is_present\": true, \"mean\": -12.481076809074327, \"std\": 13.459221209977965, \"err_low\": -39.39951922903026, \"err_high\": 14.437365610881603}, {\"time\": \"2009-02-16T22:00:00\", \"variable\": \"VPD\", \"value\": 0.0, \"is_present\": true, \"mean\": -12.554139679939816, \"std\": 13.45922120997796, \"err_low\": -39.47258209989573, \"err_high\": 14.364302740016104}, {\"time\": \"2009-02-16T22:30:00\", \"variable\": \"VPD\", \"value\": 0.0, \"is_present\": true, \"mean\": -12.619229173536745, \"std\": 13.459221209977965, \"err_low\": -39.537671593492675, \"err_high\": 14.299213246419185}, {\"time\": \"2009-02-16T23:00:00\", \"variable\": \"VPD\", \"value\": 0.0, \"is_present\": true, \"mean\": -12.672732364676776, \"std\": 13.459221209977946, \"err_low\": -39.59117478463267, \"err_high\": 14.245710055279115}, {\"time\": \"2009-02-16T23:30:00\", \"variable\": \"VPD\", \"value\": 0.0, \"is_present\": true, \"mean\": -12.71706660749912, \"std\": 13.459221209977974, \"err_low\": -39.63550902745507, \"err_high\": 14.201375812456828}, {\"time\": \"2009-02-17T00:00:00\", \"variable\": \"VPD\", \"value\": 0.0, \"is_present\": true, \"mean\": -12.74237648590416, \"std\": 13.45922120997796, \"err_low\": -39.66081890586008, \"err_high\": 14.17606593405176}, {\"time\": \"2009-02-17T00:30:00\", \"variable\": \"VPD\", \"value\": 0.0, \"is_present\": true, \"mean\": -12.782096683984545, \"std\": 13.459221209977969, \"err_low\": -39.700539103940486, \"err_high\": 14.136345735971393}, {\"time\": \"2009-02-17T01:00:00\", \"variable\": \"VPD\", \"value\": 0.0, \"is_present\": true, \"mean\": -12.817063739153546, \"std\": 13.459221209977947, \"err_low\": -39.73550615910944, \"err_high\": 14.101378680802348}, {\"time\": \"2009-02-17T01:30:00\", \"variable\": \"VPD\", \"value\": 0.0, \"is_present\": true, \"mean\": -12.858610788402316, \"std\": 13.45922120997797, \"err_low\": -39.777053208358254, \"err_high\": 14.059831631553624}, {\"time\": \"2009-02-17T02:00:00\", \"variable\": \"VPD\", \"value\": 0.0, \"is_present\": true, \"mean\": -12.970533066778344, \"std\": 13.459221209977963, \"err_low\": -39.88897548673427, \"err_high\": 13.947909353177582}, {\"time\": \"2009-02-17T02:30:00\", \"variable\": \"VPD\", \"value\": 0.0, \"is_present\": true, \"mean\": -13.078388370397146, \"std\": 13.45922120997796, \"err_low\": -39.996830790353066, \"err_high\": 13.840054049558773}, {\"time\": \"2009-02-17T03:00:00\", \"variable\": \"VPD\", \"value\": 0.0, \"is_present\": true, \"mean\": -13.131170554962704, \"std\": 13.459221209977963, \"err_low\": -40.04961297491863, \"err_high\": 13.787271864993222}, {\"time\": \"2009-02-17T03:30:00\", \"variable\": \"VPD\", \"value\": 0.0, \"is_present\": true, \"mean\": -13.152117915497325, \"std\": 13.459221209977976, \"err_low\": -40.07056033545328, \"err_high\": 13.766324504458627}, {\"time\": \"2009-02-17T04:00:00\", \"variable\": \"VPD\", \"value\": 0.0, \"is_present\": true, \"mean\": -13.145713719564938, \"std\": 13.459221209977954, \"err_low\": -40.06415613952085, \"err_high\": 13.77272870039097}, {\"time\": \"2009-02-17T04:30:00\", \"variable\": \"VPD\", \"value\": 0.0, \"is_present\": true, \"mean\": -13.161631367165569, \"std\": 13.459221209977969, \"err_low\": -40.080073787121506, \"err_high\": 13.756811052790368}, {\"time\": \"2009-02-17T05:00:00\", \"variable\": \"VPD\", \"value\": 0.0, \"is_present\": true, \"mean\": -13.213395392587906, \"std\": 13.459221209977947, \"err_low\": -40.1318378125438, \"err_high\": 13.70504702736799}, {\"time\": \"2009-02-17T05:30:00\", \"variable\": \"VPD\", \"value\": 0.0, \"is_present\": true, \"mean\": -13.269167171167858, \"std\": 13.459221209977954, \"err_low\": -40.18760959112377, \"err_high\": 13.64927524878805}, {\"time\": \"2009-02-17T06:00:00\", \"variable\": \"VPD\", \"value\": 0.0, \"is_present\": true, \"mean\": -13.296658661206006, \"std\": 13.459221209977947, \"err_low\": -40.215101081161905, \"err_high\": 13.621783758749888}, {\"time\": \"2009-02-17T06:30:00\", \"variable\": \"VPD\", \"value\": 0.0, \"is_present\": true, \"mean\": -13.329175827479457, \"std\": 13.459221209977954, \"err_low\": -40.24761824743537, \"err_high\": 13.589266592476452}, {\"time\": \"2009-02-17T07:00:00\", \"variable\": \"VPD\", \"value\": 0.0, \"is_present\": true, \"mean\": -13.402527247887885, \"std\": 13.459221209977947, \"err_low\": -40.320969667843784, \"err_high\": 13.51591517206801}, {\"time\": \"2009-02-17T07:30:00\", \"variable\": \"VPD\", \"value\": 0.0, \"is_present\": true, \"mean\": -13.663467363589483, \"std\": 13.45922120997796, \"err_low\": -40.5819097835454, \"err_high\": 13.254975056366437}, {\"time\": \"2009-02-17T08:00:00\", \"variable\": \"VPD\", \"value\": 0.0, \"is_present\": true, \"mean\": -13.675798405874698, \"std\": 13.459221209977951, \"err_low\": -40.594240825830596, \"err_high\": 13.242644014081204}, {\"time\": \"2009-02-17T08:30:00\", \"variable\": \"VPD\", \"value\": 0.0, \"is_present\": true, \"mean\": -13.378590672298191, \"std\": 13.459221209977956, \"err_low\": -40.297033092254104, \"err_high\": 13.539851747657721}, {\"time\": \"2009-02-17T09:00:00\", \"variable\": \"VPD\", \"value\": 0.0, \"is_present\": true, \"mean\": -12.978061538950584, \"std\": 13.459221209977942, \"err_low\": -39.896503958906465, \"err_high\": 13.9403808810053}, {\"time\": \"2009-02-17T09:30:00\", \"variable\": \"VPD\", \"value\": 0.0, \"is_present\": true, \"mean\": -12.419290343748177, \"std\": 13.459221209977962, \"err_low\": -39.337732763704096, \"err_high\": 14.499152076207746}, {\"time\": \"2009-02-17T10:00:00\", \"variable\": \"VPD\", \"value\": 0.0, \"is_present\": true, \"mean\": -11.927789028499003, \"std\": 13.459221209977963, \"err_low\": -38.84623144845493, \"err_high\": 14.990653391456924}, {\"time\": \"2009-02-17T10:30:00\", \"variable\": \"VPD\", \"value\": 0.0, \"is_present\": true, \"mean\": -8.455869823394, \"std\": 13.459221209977965, \"err_low\": -35.374312243349934, \"err_high\": 18.46257259656193}, {\"time\": \"2009-02-17T11:00:00\", \"variable\": \"VPD\", \"value\": 0.0, \"is_present\": true, \"mean\": -3.2749453533769346, \"std\": 13.459221209977972, \"err_low\": -30.19338777333288, \"err_high\": 23.64349706657901}, {\"time\": \"2009-02-17T11:30:00\", \"variable\": \"VPD\", \"value\": 0.005, \"is_present\": true, \"mean\": -1.4813804844547453, \"std\": 13.459221209977972, \"err_low\": -28.39982290441069, \"err_high\": 25.437061935501198}, {\"time\": \"2009-02-17T12:00:00\", \"variable\": \"VPD\", \"value\": 0.014, \"is_present\": true, \"mean\": 0.11302690315718422, \"std\": 13.459221209977938, \"err_low\": -26.805415516798693, \"err_high\": 27.03146932311306}, {\"time\": \"2009-02-17T12:30:00\", \"variable\": \"VPD\", \"value\": 0.018, \"is_present\": true, \"mean\": 1.388150894525674, \"std\": 13.459221209977981, \"err_low\": -25.53029152543029, \"err_high\": 28.306593314481635}, {\"time\": \"2009-02-17T13:00:00\", \"variable\": \"VPD\", \"value\": 0.027, \"is_present\": true, \"mean\": 2.9721152935442428, \"std\": 13.45922120997797, \"err_low\": -23.9463271264117, \"err_high\": 29.890557713500183}, {\"time\": \"2009-02-17T13:30:00\", \"variable\": \"VPD\", \"value\": 0.045, \"is_present\": true, \"mean\": 4.4184954758142885, \"std\": 13.459221209977954, \"err_low\": -22.49994694414162, \"err_high\": 31.3369378957702}, {\"time\": \"2009-02-17T14:00:00\", \"variable\": \"VPD\", \"value\": 0.063, \"is_present\": true, \"mean\": 5.193699633061007, \"std\": 13.459221209977965, \"err_low\": -21.72474278689492, \"err_high\": 32.11214205301694}, {\"time\": \"2009-02-17T14:30:00\", \"variable\": \"VPD\", \"value\": 0.085, \"is_present\": true, \"mean\": 4.865141066014523, \"std\": 13.459221209977942, \"err_low\": -22.05330135394136, \"err_high\": 31.783583485970407}, {\"time\": \"2009-02-17T15:00:00\", \"variable\": \"VPD\", \"value\": 0.146, \"is_present\": true, \"mean\": 4.385182347152467, \"std\": 13.45922120997794, \"err_low\": -22.533260072803415, \"err_high\": 31.303624767108346}, {\"time\": \"2009-02-17T15:30:00\", \"variable\": \"VPD\", \"value\": 0.259, \"is_present\": true, \"mean\": 2.758232531974935, \"std\": 13.45922120997793, \"err_low\": -24.160209887980926, \"err_high\": 29.676674951930792}, {\"time\": \"2009-02-17T16:00:00\", \"variable\": \"VPD\", \"value\": 0.397, \"is_present\": true, \"mean\": 0.4872474628138441, \"std\": 13.459221209977933, \"err_low\": -26.431194957142022, \"err_high\": 27.40568988276971}, {\"time\": \"2009-02-17T16:30:00\", \"variable\": \"VPD\", \"value\": 0.529, \"is_present\": true, \"mean\": -2.3781523615389686, \"std\": 13.459221209977947, \"err_low\": -29.296594781494864, \"err_high\": 24.540290058416925}, {\"time\": \"2009-02-17T17:00:00\", \"variable\": \"VPD\", \"value\": 0.603, \"is_present\": true, \"mean\": -6.32831178945962, \"std\": 13.459221209977944, \"err_low\": -33.246754209415506, \"err_high\": 20.59013063049627}, {\"time\": \"2009-02-17T17:30:00\", \"variable\": \"VPD\", \"value\": 0.625, \"is_present\": true, \"mean\": -8.82258176985965, \"std\": 13.459221209977963, \"err_low\": -35.741024189815576, \"err_high\": 18.095860650096277}, {\"time\": \"2009-02-17T18:00:00\", \"variable\": \"VPD\", \"value\": 0.579, \"is_present\": true, \"mean\": -9.192743958754605, \"std\": 13.552333685115595, \"err_low\": -36.297411328985795, \"err_high\": 17.911923411476586}, {\"time\": \"2009-02-17T18:30:00\", \"variable\": \"VPD\", \"value\": 0.642, \"is_present\": true, \"mean\": -10.94954842252962, \"std\": 13.554022594001346, \"err_low\": -38.05759361053231, \"err_high\": 16.15849676547307}, {\"time\": \"2009-02-17T19:00:00\", \"variable\": \"VPD\", \"value\": 0.599, \"is_present\": true, \"mean\": -11.670617079709423, \"std\": 13.554458828561996, \"err_low\": -38.77953473683341, \"err_high\": 15.43830057741457}, {\"time\": \"2009-02-17T19:30:00\", \"variable\": \"VPD\", \"value\": 0.542, \"is_present\": true, \"mean\": -12.460668336727629, \"std\": 13.55466027945185, \"err_low\": -39.569988895631326, \"err_high\": 14.648652222176072}, {\"time\": \"2009-02-17T20:00:00\", \"variable\": \"VPD\", \"value\": 0.544, \"is_present\": true, \"mean\": -12.930321694912479, \"std\": 13.554692351965235, \"err_low\": -40.03970639884295, \"err_high\": 14.179063009017991}, {\"time\": \"2009-02-17T20:30:00\", \"variable\": \"VPD\", \"value\": 0.509, \"is_present\": true, \"mean\": -13.087557662991319, \"std\": 13.554700533934621, \"err_low\": -40.19695873086056, \"err_high\": 14.021843404877924}, {\"time\": \"2009-02-17T21:00:00\", \"variable\": \"VPD\", \"value\": 0.484, \"is_present\": true, \"mean\": -13.315953153794698, \"std\": 13.554702044593327, \"err_low\": -40.42535724298135, \"err_high\": 13.793450935391956}, {\"time\": \"2009-02-17T21:30:00\", \"variable\": \"VPD\", \"value\": 0.448, \"is_present\": true, \"mean\": -13.565755776309206, \"std\": 13.55470238290323, \"err_low\": -40.67516054211566, \"err_high\": 13.543648989497253}, {\"time\": \"2009-02-17T22:00:00\", \"variable\": \"VPD\", \"value\": 0.402, \"is_present\": true, \"mean\": -13.846312711068261, \"std\": 13.554702449963242, \"err_low\": -40.955717610994746, \"err_high\": 13.263092188858224}, {\"time\": \"2009-02-17T22:30:00\", \"variable\": \"VPD\", \"value\": 0.391, \"is_present\": true, \"mean\": -14.148298897143682, \"std\": 13.554702464298106, \"err_low\": -41.257703825739895, \"err_high\": 12.96110603145253}, {\"time\": \"2009-02-17T23:00:00\", \"variable\": \"VPD\", \"value\": 0.368, \"is_present\": true, \"mean\": -15.985761928384616, \"std\": 13.462311048128411, \"err_low\": -42.91038402464144, \"err_high\": 10.938860167872207}, {\"time\": \"2009-02-17T23:30:00\", \"variable\": \"VPD\", \"value\": 0.354, \"is_present\": true, \"mean\": -15.674477465368046, \"std\": 13.46017526499216, \"err_low\": -42.59482799535236, \"err_high\": 11.245873064616273}, {\"time\": \"2009-02-18T00:00:00\", \"variable\": \"VPD\", \"value\": 0.304, \"is_present\": true, \"mean\": -15.537450673728774, \"std\": 13.45947204050428, \"err_low\": -42.45639475473733, \"err_high\": 11.381493407279788}, {\"time\": \"2009-02-18T00:30:00\", \"variable\": \"VPD\", \"value\": 0.267, \"is_present\": true, \"mean\": -15.566648553607113, \"std\": 13.459262198687883, \"err_low\": -42.48517295098288, \"err_high\": 11.351875843768653}, {\"time\": \"2009-02-18T01:00:00\", \"variable\": \"VPD\", \"value\": 0.252, \"is_present\": true, \"mean\": -15.63662847556217, \"std\": 13.459229182240167, \"err_low\": -42.555086840042506, \"err_high\": 11.281829888918164}, {\"time\": \"2009-02-18T01:30:00\", \"variable\": \"VPD\", \"value\": 0.254, \"is_present\": true, \"mean\": -15.699909913584019, \"std\": 13.459222566014896, \"err_low\": -42.61835504561381, \"err_high\": 11.218535218445773}, {\"time\": \"2009-02-18T02:00:00\", \"variable\": \"VPD\", \"value\": 0.245, \"is_present\": true, \"mean\": -15.623261388038106, \"std\": 13.459221459309775, \"err_low\": -42.54170430665766, \"err_high\": 11.295181530581445}, {\"time\": \"2009-02-18T02:30:00\", \"variable\": \"VPD\", \"value\": 0.311, \"is_present\": true, \"mean\": -15.576773573424525, \"std\": 13.459221253581486, \"err_low\": -42.4952160805875, \"err_high\": 11.341668933738447}, {\"time\": \"2009-02-18T03:00:00\", \"variable\": \"VPD\", \"value\": 0.343, \"is_present\": true, \"mean\": -15.407792434400594, \"std\": 13.459221217843846, \"err_low\": -42.326234870088285, \"err_high\": 11.510650001287097}, {\"time\": \"2009-02-18T03:30:00\", \"variable\": \"VPD\", \"value\": 0.396, \"is_present\": true, \"mean\": -15.336658373288579, \"std\": 13.459221211369528, \"err_low\": -42.255100796027634, \"err_high\": 11.581784049450476}, {\"time\": \"2009-02-18T04:00:00\", \"variable\": \"VPD\", \"value\": 0.366, \"is_present\": true, \"mean\": -15.213494845635413, \"std\": 13.459221210227149, \"err_low\": -42.13193726608971, \"err_high\": 11.704947574818885}, {\"time\": \"2009-02-18T04:30:00\", \"variable\": \"VPD\", \"value\": 0.348, \"is_present\": true, \"mean\": -15.268810586438182, \"std\": 13.459221210022248, \"err_low\": -42.18725300648268, \"err_high\": 11.649631833606314}, {\"time\": \"2009-02-18T05:00:00\", \"variable\": \"VPD\", \"value\": 0.373, \"is_present\": true, \"mean\": -15.355431922410506, \"std\": 13.459221209985865, \"err_low\": -42.273874342382236, \"err_high\": 11.563010497561223}, {\"time\": \"2009-02-18T05:30:00\", \"variable\": \"VPD\", \"value\": 0.391, \"is_present\": true, \"mean\": -15.38561346694792, \"std\": 13.459221209979352, \"err_low\": -42.304055886906625, \"err_high\": 11.532828953010785}, {\"time\": \"2009-02-18T06:00:00\", \"variable\": \"VPD\", \"value\": 0.328, \"is_present\": true, \"mean\": -15.433006534393186, \"std\": 13.459221209978208, \"err_low\": -42.35144895434961, \"err_high\": 11.48543588556323}, {\"time\": \"2009-02-18T06:30:00\", \"variable\": \"VPD\", \"value\": 0.325, \"is_present\": true, \"mean\": -15.59781960071339, \"std\": 13.459221209978006, \"err_low\": -42.5162620206694, \"err_high\": 11.320622819242622}, {\"time\": \"2009-02-18T07:00:00\", \"variable\": \"VPD\", \"value\": 0.41, \"is_present\": true, \"mean\": -15.609066086642216, \"std\": 13.459221209977969, \"err_low\": -42.52750850659815, \"err_high\": 11.309376333313722}, {\"time\": \"2009-02-18T07:30:00\", \"variable\": \"VPD\", \"value\": 0.455, \"is_present\": true, \"mean\": -15.544709158604128, \"std\": 13.459221209977953, \"err_low\": -42.46315157856003, \"err_high\": 11.373733261351777}, {\"time\": \"2009-02-18T08:00:00\", \"variable\": \"VPD\", \"value\": 0.549, \"is_present\": true, \"mean\": -14.583830544315454, \"std\": 13.459221209977956, \"err_low\": -41.50227296427137, \"err_high\": 12.334611875640459}, {\"time\": \"2009-02-18T08:30:00\", \"variable\": \"VPD\", \"value\": 0.707, \"is_present\": true, \"mean\": -12.245485811356268, \"std\": 13.459221209977947, \"err_low\": -39.16392823131216, \"err_high\": 14.672956608599627}, {\"time\": \"2009-02-18T09:00:00\", \"variable\": \"VPD\", \"value\": 1.036, \"is_present\": true, \"mean\": -9.051885040204539, \"std\": 13.45922120997796, \"err_low\": -35.97032746016046, \"err_high\": 17.86655737975138}, {\"time\": \"2009-02-18T09:30:00\", \"variable\": \"VPD\", \"value\": 1.251, \"is_present\": true, \"mean\": -5.094967991169958, \"std\": 13.45922120997795, \"err_low\": -32.013410411125854, \"err_high\": 21.82347442878594}, {\"time\": \"2009-02-18T10:00:00\", \"variable\": \"VPD\", \"value\": 1.284, \"is_present\": true, \"mean\": -1.9115180426417808, \"std\": 13.45922120997796, \"err_low\": -28.8299604625977, \"err_high\": 25.00692437731414}, {\"time\": \"2009-02-18T10:30:00\", \"variable\": \"VPD\", \"value\": 1.415, \"is_present\": true, \"mean\": 1.7992675411826788, \"std\": 13.459221209977963, \"err_low\": -25.119174878773247, \"err_high\": 28.717709961138606}, {\"time\": \"2009-02-18T11:00:00\", \"variable\": \"VPD\", \"value\": 1.536, \"is_present\": true, \"mean\": 6.054280328011449, \"std\": 13.459221209977969, \"err_low\": -20.864162091944486, \"err_high\": 32.97272274796739}, {\"time\": \"2009-02-18T11:30:00\", \"variable\": \"VPD\", \"value\": 1.448, \"is_present\": true, \"mean\": 8.575560438343395, \"std\": 13.459221209977963, \"err_low\": -18.342881981612532, \"err_high\": 35.494002858299325}, {\"time\": \"2009-02-18T12:00:00\", \"variable\": \"VPD\", \"value\": 1.509, \"is_present\": true, \"mean\": 10.550356235548012, \"std\": 13.45922120997796, \"err_low\": -16.368086184407908, \"err_high\": 37.46879865550393}, {\"time\": \"2009-02-18T12:30:00\", \"variable\": \"VPD\", \"value\": 1.768, \"is_present\": true, \"mean\": 12.178684027641609, \"std\": 13.459221209977935, \"err_low\": -14.739758392314261, \"err_high\": 39.097126447597475}, {\"time\": \"2009-02-18T13:00:00\", \"variable\": \"VPD\", \"value\": 2.028, \"is_present\": true, \"mean\": 12.93373996747195, \"std\": 13.459221209977962, \"err_low\": -13.984702452483972, \"err_high\": 39.852182387427874}, {\"time\": \"2009-02-18T13:30:00\", \"variable\": \"VPD\", \"value\": 2.189, \"is_present\": true, \"mean\": 12.967046674901415, \"std\": 13.459221209977981, \"err_low\": -13.951395745054548, \"err_high\": 39.88548909485738}, {\"time\": \"2009-02-18T14:00:00\", \"variable\": \"VPD\", \"value\": 1.99, \"is_present\": true, \"mean\": 13.81997893025206, \"std\": 13.459221209977951, \"err_low\": -13.098463489703843, \"err_high\": 40.73842135020796}, {\"time\": \"2009-02-18T14:30:00\", \"variable\": \"VPD\", \"value\": 2.046, \"is_present\": true, \"mean\": 11.921595149258053, \"std\": 13.45922120997796, \"err_low\": -14.996847270697867, \"err_high\": 38.840037569213976}, {\"time\": \"2009-02-18T15:00:00\", \"variable\": \"VPD\", \"value\": 2.013, \"is_present\": true, \"mean\": 10.24270144871888, \"std\": 13.459221209977965, \"err_low\": -16.67574097123705, \"err_high\": 37.16114386867481}, {\"time\": \"2009-02-18T15:30:00\", \"variable\": \"VPD\", \"value\": 2.051, \"is_present\": true, \"mean\": 8.41969628557749, \"std\": 13.459221209977935, \"err_low\": -18.49874613437838, \"err_high\": 35.33813870553336}, {\"time\": \"2009-02-18T16:00:00\", \"variable\": \"VPD\", \"value\": 1.857, \"is_present\": true, \"mean\": 5.522613882339964, \"std\": 13.459221209977951, \"err_low\": -21.395828537615937, \"err_high\": 32.44105630229586}, {\"time\": \"2009-02-18T16:30:00\", \"variable\": \"VPD\", \"value\": 1.838, \"is_present\": true, \"mean\": 1.4719944467320316, \"std\": 13.459221209977951, \"err_low\": -25.44644797322387, \"err_high\": 28.390436866687935}, {\"time\": \"2009-02-18T17:00:00\", \"variable\": \"VPD\", \"value\": 1.728, \"is_present\": true, \"mean\": -3.248277961534284, \"std\": 13.459221209977933, \"err_low\": -30.16672038149015, \"err_high\": 23.67016445842158}, {\"time\": \"2009-02-18T17:30:00\", \"variable\": \"VPD\", \"value\": 1.61, \"is_present\": true, \"mean\": -6.725818178863537, \"std\": 13.459221209977967, \"err_low\": -33.64426059881947, \"err_high\": 20.192624241092396}, {\"time\": \"2009-02-18T18:00:00\", \"variable\": \"VPD\", \"value\": 1.449, \"is_present\": true, \"mean\": -9.546635813837163, \"std\": 13.459221209977954, \"err_low\": -36.46507823379307, \"err_high\": 17.371806606118746}, {\"time\": \"2009-02-18T18:30:00\", \"variable\": \"VPD\", \"value\": 1.289, \"is_present\": true, \"mean\": -11.471028922264747, \"std\": 13.459221209977953, \"err_low\": -38.38947134222065, \"err_high\": 15.447413497691159}, {\"time\": \"2009-02-18T19:00:00\", \"variable\": \"VPD\", \"value\": 1.196, \"is_present\": true, \"mean\": -12.473329349671928, \"std\": 13.459221209977972, \"err_low\": -39.39177176962787, \"err_high\": 14.445113070284016}, {\"time\": \"2009-02-18T19:30:00\", \"variable\": \"VPD\", \"value\": 1.13, \"is_present\": true, \"mean\": -13.339212094259729, \"std\": 13.459221209977938, \"err_low\": -40.2576545142156, \"err_high\": 13.579230325696148}, {\"time\": \"2009-02-18T20:00:00\", \"variable\": \"VPD\", \"value\": 1.079, \"is_present\": true, \"mean\": -13.385408618554475, \"std\": 13.459221209977956, \"err_low\": -40.30385103851039, \"err_high\": 13.533033801401437}, {\"time\": \"2009-02-18T20:30:00\", \"variable\": \"VPD\", \"value\": 1.092, \"is_present\": true, \"mean\": -13.116707953035974, \"std\": 13.459221209977946, \"err_low\": -40.035150372991865, \"err_high\": 13.801734466919918}, {\"time\": \"2009-02-18T21:00:00\", \"variable\": \"VPD\", \"value\": 1.094, \"is_present\": true, \"mean\": -12.915413865781847, \"std\": 13.459221209977956, \"err_low\": -39.83385628573776, \"err_high\": 14.003028554174065}, {\"time\": \"2009-02-18T21:30:00\", \"variable\": \"VPD\", \"value\": 1.095, \"is_present\": true, \"mean\": -12.880455605405725, \"std\": 13.459221209977963, \"err_low\": -39.79889802536165, \"err_high\": 14.037986814550202}, {\"time\": \"2009-02-18T22:00:00\", \"variable\": \"VPD\", \"value\": 1.047, \"is_present\": true, \"mean\": -12.832564347978753, \"std\": 13.45922120997795, \"err_low\": -39.751006767934655, \"err_high\": 14.085878071977145}, {\"time\": \"2009-02-18T22:30:00\", \"variable\": \"VPD\", \"value\": 1.018, \"is_present\": true, \"mean\": -12.92118338569438, \"std\": 13.459221209977967, \"err_low\": -39.839625805650314, \"err_high\": 13.997259034261553}, {\"time\": \"2009-02-18T23:00:00\", \"variable\": \"VPD\", \"value\": 0.934, \"is_present\": true, \"mean\": -13.106563512022895, \"std\": 13.459221209977947, \"err_low\": -40.02500593197879, \"err_high\": 13.811878907933}, {\"time\": \"2009-02-18T23:30:00\", \"variable\": \"VPD\", \"value\": 0.911, \"is_present\": true, \"mean\": -13.434281575619863, \"std\": 13.459221209977951, \"err_low\": -40.352723995575765, \"err_high\": 13.484160844336039}, {\"time\": \"2009-02-19T00:00:00\", \"variable\": \"VPD\", \"value\": 0.848, \"is_present\": true, \"mean\": -13.562767162321528, \"std\": 13.459221209977976, \"err_low\": -40.48120958227748, \"err_high\": 13.355675257634424}, {\"time\": \"2009-02-19T00:30:00\", \"variable\": \"VPD\", \"value\": 0.873, \"is_present\": true, \"mean\": -13.76761660696307, \"std\": 13.459221209977969, \"err_low\": -40.68605902691901, \"err_high\": 13.150825812992867}, {\"time\": \"2009-02-19T01:00:00\", \"variable\": \"VPD\", \"value\": 0.901, \"is_present\": true, \"mean\": -13.823781873530756, \"std\": 13.459221209977931, \"err_low\": -40.742224293486615, \"err_high\": 13.094660546425107}, {\"time\": \"2009-02-19T01:30:00\", \"variable\": \"VPD\", \"value\": 0.899, \"is_present\": true, \"mean\": -13.8680873735739, \"std\": 13.459221209977965, \"err_low\": -40.78652979352983, \"err_high\": 13.05035504638203}, {\"time\": \"2009-02-19T02:00:00\", \"variable\": \"VPD\", \"value\": 0.754, \"is_present\": true, \"mean\": -13.871694681748789, \"std\": 13.459221209977967, \"err_low\": -40.79013710170472, \"err_high\": 13.046747738207145}, {\"time\": \"2009-02-19T02:30:00\", \"variable\": \"VPD\", \"value\": 0.69, \"is_present\": true, \"mean\": -14.17622749068607, \"std\": 13.459221209977965, \"err_low\": -41.094669910642, \"err_high\": 12.74221492926986}, {\"time\": \"2009-02-19T03:00:00\", \"variable\": \"VPD\", \"value\": 0.62, \"is_present\": true, \"mean\": -14.257218673799944, \"std\": 13.459221209977951, \"err_low\": -41.17566109375585, \"err_high\": 12.661223746155958}, {\"time\": \"2009-02-19T03:30:00\", \"variable\": \"VPD\", \"value\": 0.511, \"is_present\": true, \"mean\": -14.388666567593294, \"std\": 13.45922120997795, \"err_low\": -41.30710898754919, \"err_high\": 12.529775852362604}, {\"time\": \"2009-02-19T04:00:00\", \"variable\": \"VPD\", \"value\": 0.603, \"is_present\": true, \"mean\": -14.596914893953077, \"std\": 13.459221209977962, \"err_low\": -41.515357313909, \"err_high\": 12.321527526002846}, {\"time\": \"2009-02-19T04:30:00\", \"variable\": \"VPD\", \"value\": 0.611, \"is_present\": true, \"mean\": -14.385752618550537, \"std\": 13.459221209977951, \"err_low\": -41.304195038506435, \"err_high\": 12.532689801405365}, {\"time\": \"2009-02-19T05:00:00\", \"variable\": \"VPD\", \"value\": 0.605, \"is_present\": true, \"mean\": -14.328921879794027, \"std\": 13.459221209977967, \"err_low\": -41.24736429974996, \"err_high\": 12.589520540161907}, {\"time\": \"2009-02-19T05:30:00\", \"variable\": \"VPD\", \"value\": 0.668, \"is_present\": true, \"mean\": -14.317520887145257, \"std\": 13.459221209977951, \"err_low\": -41.23596330710116, \"err_high\": 12.600921532810645}, {\"time\": \"2009-02-19T06:00:00\", \"variable\": \"VPD\", \"value\": 0.724, \"is_present\": true, \"mean\": -14.120076799232045, \"std\": 13.459221209977967, \"err_low\": -41.038519219187975, \"err_high\": 12.798365620723889}, {\"time\": \"2009-02-19T06:30:00\", \"variable\": \"VPD\", \"value\": 0.653, \"is_present\": true, \"mean\": -13.983286020999703, \"std\": 13.459221209977962, \"err_low\": -40.90172844095562, \"err_high\": 12.93515639895622}, {\"time\": \"2009-02-19T07:00:00\", \"variable\": \"VPD\", \"value\": 0.649, \"is_present\": true, \"mean\": -14.149774142824949, \"std\": 13.459221209977954, \"err_low\": -41.06821656278086, \"err_high\": 12.76866827713096}, {\"time\": \"2009-02-19T07:30:00\", \"variable\": \"VPD\", \"value\": 0.647, \"is_present\": true, \"mean\": -14.132408505008161, \"std\": 13.459221209977962, \"err_low\": -41.05085092496408, \"err_high\": 12.786033914947762}, {\"time\": \"2009-02-19T08:00:00\", \"variable\": \"VPD\", \"value\": 0.553, \"is_present\": true, \"mean\": -13.035440824438705, \"std\": 13.459221209977969, \"err_low\": -39.953883244394646, \"err_high\": 13.883001595517232}, {\"time\": \"2009-02-19T08:30:00\", \"variable\": \"VPD\", \"value\": 0.511, \"is_present\": true, \"mean\": -10.682736640269972, \"std\": 13.459221209977942, \"err_low\": -37.60117906022586, \"err_high\": 16.23570577968591}, {\"time\": \"2009-02-19T09:00:00\", \"variable\": \"VPD\", \"value\": 0.529, \"is_present\": true, \"mean\": -7.667807807609534, \"std\": 13.459221209977974, \"err_low\": -34.58625022756548, \"err_high\": 19.250634612346413}, {\"time\": \"2009-02-19T09:30:00\", \"variable\": \"VPD\", \"value\": 0.673, \"is_present\": true, \"mean\": -4.477683941259898, \"std\": 13.45922120997794, \"err_low\": -31.396126361215778, \"err_high\": 22.440758478695983}, {\"time\": \"2009-02-19T10:00:00\", \"variable\": \"VPD\", \"value\": 0.905, \"is_present\": true, \"mean\": -0.8136652422714867, \"std\": 13.459221209977965, \"err_low\": -27.732107662227417, \"err_high\": 26.104777177684444}, {\"time\": \"2009-02-19T10:30:00\", \"variable\": \"VPD\", \"value\": 1.086, \"is_present\": true, \"mean\": 3.652958140301566, \"std\": 13.459221209977963, \"err_low\": -23.26548427965436, \"err_high\": 30.571400560257494}, {\"time\": \"2009-02-19T11:00:00\", \"variable\": \"VPD\", \"value\": 1.313, \"is_present\": true, \"mean\": 8.073892240109231, \"std\": 13.459221209977938, \"err_low\": -18.844550179846646, \"err_high\": 34.99233466006511}, {\"time\": \"2009-02-19T11:30:00\", \"variable\": \"VPD\", \"value\": 1.573, \"is_present\": true, \"mean\": 11.035778651385584, \"std\": 13.459221209977969, \"err_low\": -15.882663768570353, \"err_high\": 37.95422107134152}, {\"time\": \"2009-02-19T12:00:00\", \"variable\": \"VPD\", \"value\": 1.74, \"is_present\": true, \"mean\": 13.460284615888689, \"std\": 13.459221209977942, \"err_low\": -13.458157804067195, \"err_high\": 40.37872703584458}, {\"time\": \"2009-02-19T12:30:00\", \"variable\": \"VPD\", \"value\": 1.827, \"is_present\": true, \"mean\": 15.273942685861414, \"std\": 13.459221209977953, \"err_low\": -11.644499734094492, \"err_high\": 42.19238510581732}], \"data-d0fa0190573eb637c0ec76626f20940d\": [{\"time\": \"2009-02-19T13:00:00\", \"variable\": \"TA\", \"value\": -2.02, \"is_present\": true, \"mean\": 15.623978901217324, \"std\": 6.825823975547766, \"err_low\": 1.9723309501217923, \"err_high\": 29.275626852312854}, {\"time\": \"2009-02-19T13:30:00\", \"variable\": \"TA\", \"value\": -1.71, \"is_present\": true, \"mean\": 9.720993672523557, \"std\": 9.315447874964327, \"err_low\": -8.909902077405098, \"err_high\": 28.35188942245221}, {\"time\": \"2009-02-19T14:00:00\", \"variable\": \"TA\", \"value\": -1.37, \"is_present\": true, \"mean\": 9.457959829730903, \"std\": 9.362197083707887, \"err_low\": -9.26643433768487, \"err_high\": 28.182353997146677}, {\"time\": \"2009-02-19T14:30:00\", \"variable\": \"TA\", \"value\": -1.02, \"is_present\": true, \"mean\": 10.223852086094588, \"std\": 9.356704555522509, \"err_low\": -8.489557024950429, \"err_high\": 28.937261197139605}, {\"time\": \"2009-02-19T15:00:00\", \"variable\": \"TA\", \"value\": -0.83, \"is_present\": true, \"mean\": 10.339190350128888, \"std\": 9.355427820551169, \"err_low\": -8.37166529097345, \"err_high\": 29.050045991231226}, {\"time\": \"2009-02-19T15:30:00\", \"variable\": \"TA\", \"value\": -1.02, \"is_present\": true, \"mean\": 9.810350813652875, \"std\": 9.355189913292323, \"err_low\": -8.900029012931771, \"err_high\": 28.52073064023752}, {\"time\": \"2009-02-19T16:00:00\", \"variable\": \"TA\", \"value\": -0.91, \"is_present\": true, \"mean\": 8.672536248801155, \"std\": 9.355147131782362, \"err_low\": -10.037758014763568, \"err_high\": 27.382830512365878}, {\"time\": \"2009-02-19T16:30:00\", \"variable\": \"TA\", \"value\": -0.39, \"is_present\": true, \"mean\": 8.086723210892231, \"std\": 9.355139488532238, \"err_low\": -10.623555766172245, \"err_high\": 26.797002187956707}, {\"time\": \"2009-02-19T17:00:00\", \"variable\": \"TA\", \"value\": -0.55, \"is_present\": true, \"mean\": 6.28481521864332, \"std\": 9.35513812571289, \"err_low\": -12.425461032782458, \"err_high\": 24.9950914700691}, {\"time\": \"2009-02-19T17:30:00\", \"variable\": \"TA\", \"value\": -0.79, \"is_present\": true, \"mean\": 4.383945117435445, \"std\": 9.355137882754034, \"err_low\": -14.326330648072624, \"err_high\": 23.094220882943514}, {\"time\": \"2009-02-19T18:00:00\", \"variable\": \"TA\", \"value\": -1.27, \"is_present\": true, \"mean\": 2.73559498986398, \"std\": 9.355137839449855, \"err_low\": -15.97468068903573, \"err_high\": 21.44587066876369}, {\"time\": \"2009-02-19T18:30:00\", \"variable\": \"TA\", \"value\": -1.48, \"is_present\": true, \"mean\": 1.3438752724926237, \"std\": 9.355137831730952, \"err_low\": -17.36640039096928, \"err_high\": 20.054150935954528}, {\"time\": \"2009-02-19T19:00:00\", \"variable\": \"TA\", \"value\": -1.49, \"is_present\": true, \"mean\": 0.46401184512545957, \"std\": 9.355137830355146, \"err_low\": -18.246263815584832, \"err_high\": 19.17428750583575}, {\"time\": \"2009-02-19T19:30:00\", \"variable\": \"TA\", \"value\": -1.55, \"is_present\": true, \"mean\": -0.16217325054306286, \"std\": 9.35513783010992, \"err_low\": -18.872448910762902, \"err_high\": 18.548102409676776}, {\"time\": \"2009-02-19T20:00:00\", \"variable\": \"TA\", \"value\": -1.65, \"is_present\": true, \"mean\": -0.5001146496115645, \"std\": 9.355137830066209, \"err_low\": -19.210390309743982, \"err_high\": 18.210161010520853}, {\"time\": \"2009-02-19T20:30:00\", \"variable\": \"TA\", \"value\": -1.75, \"is_present\": true, \"mean\": -0.669207265770293, \"std\": 9.355137830058412, \"err_low\": -19.379482925887118, \"err_high\": 18.04106839434653}, {\"time\": \"2009-02-19T21:00:00\", \"variable\": \"TA\", \"value\": -1.82, \"is_present\": true, \"mean\": -0.9313166817820662, \"std\": 9.355137830057036, \"err_low\": -19.641592341896136, \"err_high\": 17.778958978332007}, {\"time\": \"2009-02-19T21:30:00\", \"variable\": \"TA\", \"value\": -2.09, \"is_present\": true, \"mean\": -1.166885924491801, \"std\": 9.355137830056785, \"err_low\": -19.87716158460537, \"err_high\": 17.54338973562177}, {\"time\": \"2009-02-19T22:00:00\", \"variable\": \"TA\", \"value\": -2.67, \"is_present\": true, \"mean\": -1.5752056842799913, \"std\": 9.355137830056751, \"err_low\": -20.285481344393496, \"err_high\": 17.13506997583351}, {\"time\": \"2009-02-19T22:30:00\", \"variable\": \"TA\", \"value\": -3.05, \"is_present\": true, \"mean\": -2.21020823393056, \"std\": 9.355137830056727, \"err_low\": -20.92048389404401, \"err_high\": 16.500067426182895}, {\"time\": \"2009-02-19T23:00:00\", \"variable\": \"TA\", \"value\": -3.06, \"is_present\": true, \"mean\": -2.7017826605776634, \"std\": 9.355137830056737, \"err_low\": -21.412058320691138, \"err_high\": 16.00849299953581}, {\"time\": \"2009-02-19T23:30:00\", \"variable\": \"TA\", \"value\": -3.11, \"is_present\": true, \"mean\": -2.9187617550787053, \"std\": 9.355137830056742, \"err_low\": -21.62903741519219, \"err_high\": 15.79151390503478}, {\"time\": \"2009-02-20T00:00:00\", \"variable\": \"TA\", \"value\": -3.15, \"is_present\": true, \"mean\": -3.1386208788643213, \"std\": 9.355137830056728, \"err_low\": -21.848896538977776, \"err_high\": 15.571654781249135}, {\"time\": \"2009-02-20T00:30:00\", \"variable\": \"TA\", \"value\": -3.09, \"is_present\": true, \"mean\": -3.355963081847664, \"std\": 9.355137830056734, \"err_low\": -22.06623874196113, \"err_high\": 15.354312578265803}, {\"time\": \"2009-02-20T01:00:00\", \"variable\": \"TA\", \"value\": -3.0, \"is_present\": true, \"mean\": -3.544514101349506, \"std\": 9.355137830056728, \"err_low\": -22.254789761462963, \"err_high\": 15.16576155876395}, {\"time\": \"2009-02-20T01:30:00\", \"variable\": \"TA\", \"value\": -2.92, \"is_present\": true, \"mean\": -3.724820297640207, \"std\": 9.355137830056737, \"err_low\": -22.43509595775368, \"err_high\": 14.985455362473267}, {\"time\": \"2009-02-20T02:00:00\", \"variable\": \"TA\", \"value\": -2.83, \"is_present\": true, \"mean\": -3.7882980624327516, \"std\": 9.355137830056734, \"err_low\": -22.49857372254622, \"err_high\": 14.921977597680716}, {\"time\": \"2009-02-20T02:30:00\", \"variable\": \"TA\", \"value\": -2.73, \"is_present\": true, \"mean\": -3.7580798936104056, \"std\": 9.355137830056732, \"err_low\": -22.468355553723868, \"err_high\": 14.952195766503058}, {\"time\": \"2009-02-20T03:00:00\", \"variable\": \"TA\", \"value\": -2.67, \"is_present\": true, \"mean\": -3.7252916693158404, \"std\": 9.355137830056718, \"err_low\": -22.435567329429276, \"err_high\": 14.984983990797595}, {\"time\": \"2009-02-20T03:30:00\", \"variable\": \"TA\", \"value\": -2.57, \"is_present\": true, \"mean\": -3.7007656267943077, \"std\": 9.355137830056734, \"err_low\": -22.411041286907775, \"err_high\": 15.00951003331916}, {\"time\": \"2009-02-20T04:00:00\", \"variable\": \"TA\", \"value\": -2.44, \"is_present\": true, \"mean\": -3.671517110377538, \"std\": 9.355137830056725, \"err_low\": -22.38179277049099, \"err_high\": 15.038758549735912}, {\"time\": \"2009-02-20T04:30:00\", \"variable\": \"TA\", \"value\": -2.27, \"is_present\": true, \"mean\": -3.6383427511471407, \"std\": 9.355137830056737, \"err_low\": -22.348618411260617, \"err_high\": 15.071932908966334}, {\"time\": \"2009-02-20T05:00:00\", \"variable\": \"TA\", \"value\": -2.19, \"is_present\": true, \"mean\": -3.557762243311256, \"std\": 9.355137830056723, \"err_low\": -22.268037903424702, \"err_high\": 15.15251341680219}, {\"time\": \"2009-02-20T05:30:00\", \"variable\": \"TA\", \"value\": -2.16, \"is_present\": true, \"mean\": -3.473413028190624, \"std\": 9.355137830056728, \"err_low\": -22.18368868830408, \"err_high\": 15.236862631922833}, {\"time\": \"2009-02-20T06:00:00\", \"variable\": \"TA\", \"value\": -1.99, \"is_present\": true, \"mean\": -3.4025166020531206, \"std\": 9.355137830056723, \"err_low\": -22.112792262166565, \"err_high\": 15.307759058060325}, {\"time\": \"2009-02-20T06:30:00\", \"variable\": \"TA\", \"value\": -1.89, \"is_present\": true, \"mean\": -3.310409776769239, \"std\": 9.355137830056727, \"err_low\": -22.020685436882694, \"err_high\": 15.399865883344214}, {\"time\": \"2009-02-20T07:00:00\", \"variable\": \"TA\", \"value\": -1.84, \"is_present\": true, \"mean\": -3.2319477753025705, \"std\": 9.355137830056732, \"err_low\": -21.942223435416032, \"err_high\": 15.478327884810893}, {\"time\": \"2009-02-20T07:30:00\", \"variable\": \"TA\", \"value\": -1.79, \"is_present\": true, \"mean\": -3.162887797939666, \"std\": 9.355137830056734, \"err_low\": -21.873163458053135, \"err_high\": 15.547387862173801}, {\"time\": \"2009-02-20T08:00:00\", \"variable\": \"TA\", \"value\": -1.69, \"is_present\": true, \"mean\": -3.071754752774975, \"std\": 9.355137830056732, \"err_low\": -21.78203041288844, \"err_high\": 15.638520907338489}, {\"time\": \"2009-02-20T08:30:00\", \"variable\": \"TA\", \"value\": -1.59, \"is_present\": true, \"mean\": -2.812078606529294, \"std\": 9.355137830056732, \"err_low\": -21.522354266642758, \"err_high\": 15.89819705358417}, {\"time\": \"2009-02-20T09:00:00\", \"variable\": \"TA\", \"value\": -1.5, \"is_present\": true, \"mean\": -2.3954920371652992, \"std\": 9.355137830056735, \"err_low\": -21.105767697278772, \"err_high\": 16.31478362294817}, {\"time\": \"2009-02-20T09:30:00\", \"variable\": \"TA\", \"value\": -1.44, \"is_present\": true, \"mean\": -2.0395177037613053, \"std\": 9.355137830056727, \"err_low\": -20.74979336387476, \"err_high\": 16.670757956352148}, {\"time\": \"2009-02-20T10:00:00\", \"variable\": \"TA\", \"value\": -1.27, \"is_present\": true, \"mean\": -1.7215696224610557, \"std\": 9.355137830056732, \"err_low\": -20.43184528257452, \"err_high\": 16.988706037652406}, {\"time\": \"2009-02-20T10:30:00\", \"variable\": \"TA\", \"value\": -1.03, \"is_present\": true, \"mean\": -1.4645723994469542, \"std\": 9.355137830056732, \"err_low\": -20.174848059560418, \"err_high\": 17.24570326066651}, {\"time\": \"2009-02-20T11:00:00\", \"variable\": \"TA\", \"value\": -0.89, \"is_present\": true, \"mean\": -0.9713997596328898, \"std\": 9.35513783005674, \"err_low\": -19.68167541974637, \"err_high\": 17.738875900480593}, {\"time\": \"2009-02-20T11:30:00\", \"variable\": \"TA\", \"value\": -0.68, \"is_present\": true, \"mean\": -0.6415196335058919, \"std\": 9.355137830056734, \"err_low\": -19.35179529361936, \"err_high\": 18.068756026607574}, {\"time\": \"2009-02-20T12:00:00\", \"variable\": \"TA\", \"value\": -0.51, \"is_present\": true, \"mean\": -0.4213298547394011, \"std\": 9.355137830056737, \"err_low\": -19.131605514852875, \"err_high\": 18.288945805374073}, {\"time\": \"2009-02-20T12:30:00\", \"variable\": \"TA\", \"value\": -0.4, \"is_present\": true, \"mean\": -0.3188984226919729, \"std\": 9.355137830056732, \"err_low\": -19.029174082805437, \"err_high\": 18.39137723742149}, {\"time\": \"2009-02-20T13:00:00\", \"variable\": \"TA\", \"value\": -0.3, \"is_present\": true, \"mean\": -0.18960392007801197, \"std\": 9.355137830056734, \"err_low\": -18.89987958019148, \"err_high\": 18.520671740035453}, {\"time\": \"2009-02-20T13:30:00\", \"variable\": \"TA\", \"value\": -0.14, \"is_present\": true, \"mean\": -0.485880568792167, \"std\": 9.355137830056734, \"err_low\": -19.196156228905636, \"err_high\": 18.2243950913213}, {\"time\": \"2009-02-20T14:00:00\", \"variable\": \"TA\", \"value\": -0.02, \"is_present\": true, \"mean\": 0.6819989698688147, \"std\": 9.35513783005672, \"err_low\": -18.028276690244624, \"err_high\": 19.392274629982253}, {\"time\": \"2009-02-20T14:30:00\", \"variable\": \"TA\", \"value\": 0.02, \"is_present\": true, \"mean\": 0.5792822354815019, \"std\": 9.355137830056728, \"err_low\": -18.130993424631953, \"err_high\": 19.28955789559496}, {\"time\": \"2009-02-20T15:00:00\", \"variable\": \"TA\", \"value\": 0.06, \"is_present\": true, \"mean\": 0.45569968557564344, \"std\": 9.355137830056732, \"err_low\": -18.254575974537822, \"err_high\": 19.165975345689105}, {\"time\": \"2009-02-20T15:30:00\", \"variable\": \"TA\", \"value\": 0.16, \"is_present\": true, \"mean\": 0.3728451261526491, \"std\": 9.355137830056734, \"err_low\": -18.33743053396082, \"err_high\": 19.083120786266115}, {\"time\": \"2009-02-20T16:00:00\", \"variable\": \"TA\", \"value\": 0.43, \"is_present\": true, \"mean\": 0.23817532086604665, \"std\": 9.35513783005674, \"err_low\": -18.472100339247433, \"err_high\": 18.94845098097953}, {\"time\": \"2009-02-20T16:30:00\", \"variable\": \"TA\", \"value\": 0.72, \"is_present\": true, \"mean\": 0.3579631378439352, \"std\": 9.355137830056725, \"err_low\": -18.352312522269514, \"err_high\": 19.068238797957385}, {\"time\": \"2009-02-20T17:00:00\", \"variable\": \"TA\", \"value\": 0.77, \"is_present\": false, \"mean\": -0.6097197345233862, \"std\": 9.35513783005673, \"err_low\": -19.319995394636848, \"err_high\": 18.100555925590072}, {\"time\": \"2009-02-20T17:30:00\", \"variable\": \"TA\", \"value\": 0.53, \"is_present\": false, \"mean\": -0.3797289427775663, \"std\": 9.405555484841447, \"err_low\": -19.19083991246046, \"err_high\": 18.431382026905325}, {\"time\": \"2009-02-20T18:00:00\", \"variable\": \"TA\", \"value\": 0.33, \"is_present\": false, \"mean\": -0.8210449640556181, \"std\": 9.405560706460685, \"err_low\": -19.63216637697699, \"err_high\": 17.99007644886575}, {\"time\": \"2009-02-20T18:30:00\", \"variable\": \"TA\", \"value\": 0.39, \"is_present\": false, \"mean\": -1.2095577960471164, \"std\": 9.405617559480074, \"err_low\": -20.020792915007263, \"err_high\": 17.601677322913034}, {\"time\": \"2009-02-20T19:00:00\", \"variable\": \"TA\", \"value\": 0.63, \"is_present\": false, \"mean\": -1.4767213593805302, \"std\": 9.405644441915435, \"err_low\": -20.2880102432114, \"err_high\": 17.33456752445034}, {\"time\": \"2009-02-20T19:30:00\", \"variable\": \"TA\", \"value\": 0.79, \"is_present\": false, \"mean\": -1.7247332375467952, \"std\": 9.405649376365092, \"err_low\": -20.53603199027698, \"err_high\": 17.086565515183388}, {\"time\": \"2009-02-20T20:00:00\", \"variable\": \"TA\", \"value\": 1.01, \"is_present\": false, \"mean\": -1.8611025440917697, \"std\": 9.405650558719103, \"err_low\": -20.672403661529977, \"err_high\": 16.950198573346434}, {\"time\": \"2009-02-20T20:30:00\", \"variable\": \"TA\", \"value\": 1.05, \"is_present\": false, \"mean\": -1.9181403175660972, \"std\": 9.405650786834627, \"err_low\": -20.729441891235354, \"err_high\": 16.893161256103156}, {\"time\": \"2009-02-20T21:00:00\", \"variable\": \"TA\", \"value\": 1.08, \"is_present\": false, \"mean\": -1.9746871393626204, \"std\": 9.40565083658301, \"err_low\": -20.785988812528643, \"err_high\": 16.8366145338034}, {\"time\": \"2009-02-20T21:30:00\", \"variable\": \"TA\", \"value\": 1.13, \"is_present\": false, \"mean\": -2.0373952862791285, \"std\": 9.405650846609424, \"err_low\": -20.848696979497976, \"err_high\": 16.77390640693972}, {\"time\": \"2009-02-20T22:00:00\", \"variable\": \"TA\", \"value\": 1.15, \"is_present\": true, \"mean\": -2.102572021023107, \"std\": 9.405650848730609, \"err_low\": -20.913873718484325, \"err_high\": 16.70872967643811}, {\"time\": \"2009-02-20T22:30:00\", \"variable\": \"TA\", \"value\": 1.15, \"is_present\": true, \"mean\": -2.707871147238805, \"std\": 9.355358868153516, \"err_low\": -21.418588883545837, \"err_high\": 16.002846589068227}, {\"time\": \"2009-02-20T23:00:00\", \"variable\": \"TA\", \"value\": 1.18, \"is_present\": true, \"mean\": -2.7611009925254937, \"std\": 9.355326130089482, \"err_low\": -21.47175325270446, \"err_high\": 15.94955126765347}, {\"time\": \"2009-02-20T23:30:00\", \"variable\": \"TA\", \"value\": 1.18, \"is_present\": true, \"mean\": -2.788613231852997, \"std\": 9.355182542978113, \"err_low\": -21.498978317809225, \"err_high\": 15.92175185410323}, {\"time\": \"2009-02-21T00:00:00\", \"variable\": \"TA\", \"value\": 1.1, \"is_present\": true, \"mean\": -2.835363530606596, \"std\": 9.355146261290349, \"err_low\": -21.545656053187294, \"err_high\": 15.874928991974102}, {\"time\": \"2009-02-21T00:30:00\", \"variable\": \"TA\", \"value\": 1.06, \"is_present\": true, \"mean\": -2.90363135664683, \"std\": 9.355139357038787, \"err_low\": -21.613910070724405, \"err_high\": 15.806647357430744}, {\"time\": \"2009-02-21T01:00:00\", \"variable\": \"TA\", \"value\": 0.98, \"is_present\": true, \"mean\": -2.9682082575051254, \"std\": 9.355138102681623, \"err_low\": -21.678484462868372, \"err_high\": 15.742067947858121}, {\"time\": \"2009-02-21T01:30:00\", \"variable\": \"TA\", \"value\": 0.94, \"is_present\": true, \"mean\": -3.040269147495863, \"std\": 9.35513787872924, \"err_low\": -21.750544904954342, \"err_high\": 15.670006609962616}, {\"time\": \"2009-02-21T02:00:00\", \"variable\": \"TA\", \"value\": 0.8, \"is_present\": true, \"mean\": -3.0903991164929483, \"std\": 9.355137838728675, \"err_low\": -21.8006747939503, \"err_high\": 15.619876560964402}, {\"time\": \"2009-02-21T02:30:00\", \"variable\": \"TA\", \"value\": 0.64, \"is_present\": true, \"mean\": -3.13614242778959, \"std\": 9.35513783160304, \"err_low\": -21.84641809099567, \"err_high\": 15.57413323541649}, {\"time\": \"2009-02-21T03:00:00\", \"variable\": \"TA\", \"value\": 0.4, \"is_present\": true, \"mean\": -3.1815544003745586, \"std\": 9.355137830332284, \"err_low\": -21.891830061039126, \"err_high\": 15.528721260290009}, {\"time\": \"2009-02-21T03:30:00\", \"variable\": \"TA\", \"value\": 0.12, \"is_present\": true, \"mean\": -3.239942152585744, \"std\": 9.355137830105862, \"err_low\": -21.95021781279747, \"err_high\": 15.47033350762598}, {\"time\": \"2009-02-21T04:00:00\", \"variable\": \"TA\", \"value\": -0.04, \"is_present\": true, \"mean\": -3.3042901570275376, \"std\": 9.35513783006548, \"err_low\": -22.0145658171585, \"err_high\": 15.405985503103423}, {\"time\": \"2009-02-21T04:30:00\", \"variable\": \"TA\", \"value\": -0.24, \"is_present\": true, \"mean\": -3.3472013542013936, \"std\": 9.355137830058295, \"err_low\": -22.057477014317982, \"err_high\": 15.363074305915196}, {\"time\": \"2009-02-21T05:00:00\", \"variable\": \"TA\", \"value\": -0.66, \"is_present\": true, \"mean\": -3.397964833656003, \"std\": 9.355137830057012, \"err_low\": -22.108240493770026, \"err_high\": 15.312310826458022}, {\"time\": \"2009-02-21T05:30:00\", \"variable\": \"TA\", \"value\": -0.86, \"is_present\": true, \"mean\": -3.49226247187109, \"std\": 9.355137830056785, \"err_low\": -22.20253813198466, \"err_high\": 15.21801318824248}, {\"time\": \"2009-02-21T06:00:00\", \"variable\": \"TA\", \"value\": -0.99, \"is_present\": true, \"mean\": -3.5490587085149023, \"std\": 9.355137830056739, \"err_low\": -22.25933436862838, \"err_high\": 15.161216951598576}, {\"time\": \"2009-02-21T06:30:00\", \"variable\": \"TA\", \"value\": -0.86, \"is_present\": true, \"mean\": -3.5927729880102444, \"std\": 9.355137830056727, \"err_low\": -22.3030486481237, \"err_high\": 15.117502672103209}, {\"time\": \"2009-02-21T07:00:00\", \"variable\": \"TA\", \"value\": -0.73, \"is_present\": true, \"mean\": -3.593309421485623, \"std\": 9.355137830056728, \"err_low\": -22.30358508159908, \"err_high\": 15.116966238627834}, {\"time\": \"2009-02-21T07:30:00\", \"variable\": \"TA\", \"value\": -0.66, \"is_present\": true, \"mean\": -3.596591913088691, \"std\": 9.355137830056723, \"err_low\": -22.306867573202137, \"err_high\": 15.113683747024755}, {\"time\": \"2009-02-21T08:00:00\", \"variable\": \"TA\", \"value\": -0.52, \"is_present\": true, \"mean\": -3.50505122723985, \"std\": 9.355137830056725, \"err_low\": -22.2153268873533, \"err_high\": 15.2052244328736}, {\"time\": \"2009-02-21T08:30:00\", \"variable\": \"TA\", \"value\": -0.46, \"is_present\": true, \"mean\": -3.1393932824895927, \"std\": 9.355137830056735, \"err_low\": -21.849668942603063, \"err_high\": 15.570882377623878}, {\"time\": \"2009-02-21T09:00:00\", \"variable\": \"TA\", \"value\": -0.49, \"is_present\": true, \"mean\": -2.617984175036728, \"std\": 9.355137830056725, \"err_low\": -21.328259835150178, \"err_high\": 16.09229148507672}, {\"time\": \"2009-02-21T09:30:00\", \"variable\": \"TA\", \"value\": -0.46, \"is_present\": true, \"mean\": -2.1146799009216117, \"std\": 9.35513783005673, \"err_low\": -20.824955561035072, \"err_high\": 16.59559575919185}, {\"time\": \"2009-02-21T10:00:00\", \"variable\": \"TA\", \"value\": -0.38, \"is_present\": true, \"mean\": -1.813635894601589, \"std\": 9.355137830056734, \"err_low\": -20.523911554715056, \"err_high\": 16.89663976551188}, {\"time\": \"2009-02-21T10:30:00\", \"variable\": \"TA\", \"value\": -0.28, \"is_present\": true, \"mean\": -1.668870865081578, \"std\": 9.355137830056739, \"err_low\": -20.379146525195054, \"err_high\": 17.0414047950319}, {\"time\": \"2009-02-21T11:00:00\", \"variable\": \"TA\", \"value\": -0.09, \"is_present\": true, \"mean\": 0.3220870127190274, \"std\": 9.355137830056728, \"err_low\": -18.38818864739443, \"err_high\": 19.032362672832484}, {\"time\": \"2009-02-21T11:30:00\", \"variable\": \"TA\", \"value\": 0.17, \"is_present\": true, \"mean\": 1.4538668101859598, \"std\": 9.355137830056737, \"err_low\": -17.256408849927514, \"err_high\": 20.164142470299435}, {\"time\": \"2009-02-21T12:00:00\", \"variable\": \"TA\", \"value\": 0.58, \"is_present\": true, \"mean\": 2.3247425140690883, \"std\": 9.355137830056735, \"err_low\": -16.38553314604438, \"err_high\": 21.03501817418256}, {\"time\": \"2009-02-21T12:30:00\", \"variable\": \"TA\", \"value\": 1.1, \"is_present\": true, \"mean\": 3.0855779269233263, \"std\": 9.35513783005673, \"err_low\": -15.624697733190134, \"err_high\": 21.795853587036788}, {\"time\": \"2009-02-21T13:00:00\", \"variable\": \"TA\", \"value\": 1.54, \"is_present\": true, \"mean\": 3.9618314758221995, \"std\": 9.355137830056737, \"err_low\": -14.748444184291275, \"err_high\": 22.672107135935676}, {\"time\": \"2009-02-21T13:30:00\", \"variable\": \"TA\", \"value\": 1.68, \"is_present\": true, \"mean\": 5.0110411625776, \"std\": 9.355137830056723, \"err_low\": -13.699234497535846, \"err_high\": 23.721316822691044}, {\"time\": \"2009-02-21T14:00:00\", \"variable\": \"TA\", \"value\": 1.58, \"is_present\": true, \"mean\": 4.170235970849631, \"std\": 9.355137830056735, \"err_low\": -14.540039689263839, \"err_high\": 22.880511630963102}, {\"time\": \"2009-02-21T14:30:00\", \"variable\": \"TA\", \"value\": 1.71, \"is_present\": true, \"mean\": 3.3557888368187294, \"std\": 9.35513783005672, \"err_low\": -15.35448682329471, \"err_high\": 22.066064496932167}, {\"time\": \"2009-02-21T15:00:00\", \"variable\": \"TA\", \"value\": 1.76, \"is_present\": true, \"mean\": 3.1207593059953247, \"std\": 9.355137830056732, \"err_low\": -15.589516354118139, \"err_high\": 21.83103496610879}, {\"time\": \"2009-02-21T15:30:00\", \"variable\": \"TA\", \"value\": 1.55, \"is_present\": true, \"mean\": 2.628181261094989, \"std\": 9.355137830056737, \"err_low\": -16.082094399018487, \"err_high\": 21.33845692120846}, {\"time\": \"2009-02-21T16:00:00\", \"variable\": \"TA\", \"value\": 1.37, \"is_present\": true, \"mean\": 1.9538742934882682, \"std\": 9.35513783005673, \"err_low\": -16.75640136662519, \"err_high\": 20.66414995360173}, {\"time\": \"2009-02-21T16:30:00\", \"variable\": \"TA\", \"value\": 1.25, \"is_present\": true, \"mean\": 1.3273751425608182, \"std\": 9.355137830056723, \"err_low\": -17.382900517552628, \"err_high\": 20.037650802674264}, {\"time\": \"2009-02-21T17:00:00\", \"variable\": \"TA\", \"value\": 1.06, \"is_present\": true, \"mean\": -0.06304208107190767, \"std\": 9.355137830056734, \"err_low\": -18.773317741185373, \"err_high\": 18.64723357904156}, {\"time\": \"2009-02-21T17:30:00\", \"variable\": \"TA\", \"value\": 0.91, \"is_present\": true, \"mean\": -0.8767439366091256, \"std\": 9.355137830056734, \"err_low\": -19.58701959672259, \"err_high\": 17.833531723504343}, {\"time\": \"2009-02-21T18:00:00\", \"variable\": \"TA\", \"value\": 0.87, \"is_present\": true, \"mean\": -1.4899661198863363, \"std\": 9.35513783005674, \"err_low\": -20.200241779999818, \"err_high\": 17.220309540227145}, {\"time\": \"2009-02-21T18:30:00\", \"variable\": \"TA\", \"value\": 0.88, \"is_present\": true, \"mean\": -2.022074731687619, \"std\": 9.355137830056725, \"err_low\": -20.73235039180107, \"err_high\": 16.68820092842583}, {\"time\": \"2009-02-21T19:00:00\", \"variable\": \"TA\", \"value\": 0.9, \"is_present\": true, \"mean\": -2.3274709616915583, \"std\": 9.35513783005673, \"err_low\": -21.03774662180502, \"err_high\": 16.3828046984219}, {\"time\": \"2009-02-21T19:30:00\", \"variable\": \"TA\", \"value\": 0.94, \"is_present\": true, \"mean\": -2.6036233382162948, \"std\": 9.355137830056734, \"err_low\": -21.313898998329762, \"err_high\": 16.106652321897172}, {\"time\": \"2009-02-21T20:00:00\", \"variable\": \"TA\", \"value\": 0.87, \"is_present\": true, \"mean\": -2.6797638274138844, \"std\": 9.355137830056727, \"err_low\": -21.39003948752734, \"err_high\": 16.030511832699567}, {\"time\": \"2009-02-21T20:30:00\", \"variable\": \"TA\", \"value\": 0.93, \"is_present\": true, \"mean\": -2.732014163697267, \"std\": 9.355137830056737, \"err_low\": -21.44228982381074, \"err_high\": 15.978261496416208}, {\"time\": \"2009-02-21T21:00:00\", \"variable\": \"TA\", \"value\": 0.94, \"is_present\": true, \"mean\": -2.7410555467182967, \"std\": 9.355137830056728, \"err_low\": -21.451331206831753, \"err_high\": 15.96922011339516}, {\"time\": \"2009-02-21T21:30:00\", \"variable\": \"TA\", \"value\": 0.85, \"is_present\": true, \"mean\": -2.7843170673323154, \"std\": 9.355137830056716, \"err_low\": -21.49459272744575, \"err_high\": 15.925958592781116}, {\"time\": \"2009-02-21T22:00:00\", \"variable\": \"TA\", \"value\": 0.68, \"is_present\": true, \"mean\": -2.913449473909205, \"std\": 9.355137830056725, \"err_low\": -21.623725134022656, \"err_high\": 15.796826186204244}, {\"time\": \"2009-02-21T22:30:00\", \"variable\": \"TA\", \"value\": 0.28, \"is_present\": true, \"mean\": -3.012758723150636, \"std\": 9.355137830056737, \"err_low\": -21.72303438326411, \"err_high\": 15.697516936962838}, {\"time\": \"2009-02-21T23:00:00\", \"variable\": \"TA\", \"value\": 0.15, \"is_present\": true, \"mean\": -3.189283523125745, \"std\": 9.355137830056721, \"err_low\": -21.899559183239187, \"err_high\": 15.520992136987697}, {\"time\": \"2009-02-21T23:30:00\", \"variable\": \"TA\", \"value\": 0.0, \"is_present\": true, \"mean\": -3.2053417981935013, \"std\": 9.355137830056737, \"err_low\": -21.915617458306976, \"err_high\": 15.504933861919973}, {\"time\": \"2009-02-22T00:00:00\", \"variable\": \"TA\", \"value\": -0.23, \"is_present\": true, \"mean\": -3.208121586248014, \"std\": 9.355137830056728, \"err_low\": -21.918397246361472, \"err_high\": 15.502154073865443}, {\"time\": \"2009-02-22T00:30:00\", \"variable\": \"TA\", \"value\": -0.4, \"is_present\": true, \"mean\": -3.2426853427233553, \"std\": 9.355137830056737, \"err_low\": -21.95296100283683, \"err_high\": 15.467590317390119}, {\"time\": \"2009-02-22T01:00:00\", \"variable\": \"TA\", \"value\": -0.52, \"is_present\": true, \"mean\": -3.2423444679657347, \"std\": 9.355137830056728, \"err_low\": -21.95262012807919, \"err_high\": 15.467931192147722}, {\"time\": \"2009-02-22T01:30:00\", \"variable\": \"TA\", \"value\": -0.53, \"is_present\": true, \"mean\": -3.2240836600801135, \"std\": 9.35513783005674, \"err_low\": -21.934359320193593, \"err_high\": 15.486192000033368}, {\"time\": \"2009-02-22T02:00:00\", \"variable\": \"TA\", \"value\": -0.63, \"is_present\": true, \"mean\": -3.165169034907116, \"std\": 9.355137830056728, \"err_low\": -21.875444695020573, \"err_high\": 15.54510662520634}, {\"time\": \"2009-02-22T02:30:00\", \"variable\": \"TA\", \"value\": -0.61, \"is_present\": true, \"mean\": -3.1033891819463637, \"std\": 9.355137830056721, \"err_low\": -21.813664842059808, \"err_high\": 15.606886478167079}, {\"time\": \"2009-02-22T03:00:00\", \"variable\": \"TA\", \"value\": -0.49, \"is_present\": true, \"mean\": -3.0227950014891007, \"std\": 9.355137830056725, \"err_low\": -21.73307066160255, \"err_high\": 15.687480658624349}, {\"time\": \"2009-02-22T03:30:00\", \"variable\": \"TA\", \"value\": -0.43, \"is_present\": true, \"mean\": -2.9262932428029487, \"std\": 9.355137830056732, \"err_low\": -21.636568902916412, \"err_high\": 15.783982417310515}, {\"time\": \"2009-02-22T04:00:00\", \"variable\": \"TA\", \"value\": -0.35, \"is_present\": true, \"mean\": -2.8408461558884515, \"std\": 9.355137830056735, \"err_low\": -21.551121816001924, \"err_high\": 15.86942950422502}, {\"time\": \"2009-02-22T04:30:00\", \"variable\": \"TA\", \"value\": -0.24, \"is_present\": true, \"mean\": -2.7534252644427664, \"std\": 9.35513783005674, \"err_low\": -21.46370092455625, \"err_high\": 15.956850395670715}, {\"time\": \"2009-02-22T05:00:00\", \"variable\": \"TA\", \"value\": -0.21, \"is_present\": true, \"mean\": -2.6632224312486255, \"std\": 9.355137830056725, \"err_low\": -21.373498091362073, \"err_high\": 16.047053228864826}, {\"time\": \"2009-02-22T05:30:00\", \"variable\": \"TA\", \"value\": -0.13, \"is_present\": true, \"mean\": -2.6010081500898075, \"std\": 9.355137830056737, \"err_low\": -21.31128381020328, \"err_high\": 16.109267510023667}, {\"time\": \"2009-02-22T06:00:00\", \"variable\": \"TA\", \"value\": -0.1, \"is_present\": true, \"mean\": -2.534748890330439, \"std\": 9.355137830056737, \"err_low\": -21.245024550443915, \"err_high\": 16.175526769783033}, {\"time\": \"2009-02-22T06:30:00\", \"variable\": \"TA\", \"value\": -0.07, \"is_present\": true, \"mean\": -2.479168890439979, \"std\": 9.35513783005673, \"err_low\": -21.18944455055344, \"err_high\": 16.23110676967348}, {\"time\": \"2009-02-22T07:00:00\", \"variable\": \"TA\", \"value\": -0.08, \"is_present\": true, \"mean\": -2.4244243660061464, \"std\": 9.355137830056725, \"err_low\": -21.134700026119596, \"err_high\": 16.285851294107303}, {\"time\": \"2009-02-22T07:30:00\", \"variable\": \"TA\", \"value\": -0.08, \"is_present\": true, \"mean\": -2.37581724310499, \"std\": 9.355137830056737, \"err_low\": -21.086092903218464, \"err_high\": 16.334458417008484}, {\"time\": \"2009-02-22T08:00:00\", \"variable\": \"TA\", \"value\": -0.05, \"is_present\": true, \"mean\": -2.2968336615122507, \"std\": 9.355137830056728, \"err_low\": -21.007109321625705, \"err_high\": 16.413441998601208}, {\"time\": \"2009-02-22T08:30:00\", \"variable\": \"TA\", \"value\": -0.01, \"is_present\": true, \"mean\": -2.056381181271675, \"std\": 9.355137830056735, \"err_low\": -20.766656841385146, \"err_high\": 16.653894478841796}, {\"time\": \"2009-02-22T09:00:00\", \"variable\": \"TA\", \"value\": 0.03, \"is_present\": true, \"mean\": -1.7276788828062628, \"std\": 9.355137830056728, \"err_low\": -20.43795454291972, \"err_high\": 16.982596777307194}, {\"time\": \"2009-02-22T09:30:00\", \"variable\": \"TA\", \"value\": 0.07, \"is_present\": true, \"mean\": -1.3725466745520851, \"std\": 9.355137830056735, \"err_low\": -20.082822334665558, \"err_high\": 17.337728985561384}, {\"time\": \"2009-02-22T10:00:00\", \"variable\": \"TA\", \"value\": 0.1, \"is_present\": true, \"mean\": -1.141399234252141, \"std\": 9.355137830056737, \"err_low\": -19.851674894365615, \"err_high\": 17.568876425861333}, {\"time\": \"2009-02-22T10:30:00\", \"variable\": \"TA\", \"value\": 0.18, \"is_present\": true, \"mean\": -0.7219835071306946, \"std\": 9.355137830056732, \"err_low\": -19.43225916724416, \"err_high\": 17.98829215298277}, {\"time\": \"2009-02-22T11:00:00\", \"variable\": \"TA\", \"value\": 0.39, \"is_present\": true, \"mean\": -0.4297894407872551, \"std\": 9.355137830056712, \"err_low\": -19.140065100900678, \"err_high\": 18.28048621932617}, {\"time\": \"2009-02-22T11:30:00\", \"variable\": \"TA\", \"value\": 0.51, \"is_present\": true, \"mean\": -0.20987654284694202, \"std\": 9.355137830056734, \"err_low\": -18.92015220296041, \"err_high\": 18.500399117266525}, {\"time\": \"2009-02-22T12:00:00\", \"variable\": \"TA\", \"value\": 0.73, \"is_present\": true, \"mean\": 0.08285681485744512, \"std\": 9.355137830056732, \"err_low\": -18.627418845256017, \"err_high\": 18.79313247497091}, {\"time\": \"2009-02-22T12:30:00\", \"variable\": \"TA\", \"value\": 0.89, \"is_present\": true, \"mean\": 0.08274959586608333, \"std\": 9.355137830056742, \"err_low\": -18.6275260642474, \"err_high\": 18.79302525597957}, {\"time\": \"2009-02-22T13:00:00\", \"variable\": \"TA\", \"value\": 1.12, \"is_present\": true, \"mean\": 0.25760551382599495, \"std\": 9.355137830056727, \"err_low\": -18.45267014628746, \"err_high\": 18.967881173939446}, {\"time\": \"2009-02-22T13:30:00\", \"variable\": \"TA\", \"value\": 1.4, \"is_present\": true, \"mean\": 0.5607642249543732, \"std\": 9.355137830056737, \"err_low\": -18.149511435159102, \"err_high\": 19.271039885067847}, {\"time\": \"2009-02-22T14:00:00\", \"variable\": \"TA\", \"value\": 1.62, \"is_present\": true, \"mean\": 0.4727577398656839, \"std\": 9.355137830056735, \"err_low\": -18.237517920247786, \"err_high\": 19.183033399979156}, {\"time\": \"2009-02-22T14:30:00\", \"variable\": \"TA\", \"value\": 1.72, \"is_present\": true, \"mean\": 0.4039060953427489, \"std\": 9.35513783005673, \"err_low\": -18.306369564770712, \"err_high\": 19.114181755456208}, {\"time\": \"2009-02-22T15:00:00\", \"variable\": \"TA\", \"value\": 1.75, \"is_present\": true, \"mean\": 0.09764061205749286, \"std\": 9.355137830056725, \"err_low\": -18.612635048055957, \"err_high\": 18.807916272170942}, {\"time\": \"2009-02-22T15:30:00\", \"variable\": \"TA\", \"value\": 1.91, \"is_present\": true, \"mean\": -0.0526060384877578, \"std\": 9.355137830056739, \"err_low\": -18.762881698601234, \"err_high\": 18.657669621625722}, {\"time\": \"2009-02-22T16:00:00\", \"variable\": \"TA\", \"value\": 2.22, \"is_present\": true, \"mean\": -0.07513906969768769, \"std\": 9.355137830056732, \"err_low\": -18.78541472981115, \"err_high\": 18.635136590415776}, {\"time\": \"2009-02-22T16:30:00\", \"variable\": \"TA\", \"value\": 2.33, \"is_present\": true, \"mean\": -0.23453045979116283, \"std\": 9.355137830056732, \"err_low\": -18.944806119904626, \"err_high\": 18.4757452003223}, {\"time\": \"2009-02-22T17:00:00\", \"variable\": \"TA\", \"value\": 2.47, \"is_present\": true, \"mean\": -0.7078229652021051, \"std\": 9.355137830056727, \"err_low\": -19.418098625315558, \"err_high\": 18.002452694911348}, {\"time\": \"2009-02-22T17:30:00\", \"variable\": \"TA\", \"value\": 2.47, \"is_present\": true, \"mean\": -0.8654896519415232, \"std\": 9.35513783005673, \"err_low\": -19.575765312054983, \"err_high\": 17.844786008171937}, {\"time\": \"2009-02-22T18:00:00\", \"variable\": \"TA\", \"value\": 2.47, \"is_present\": true, \"mean\": -0.9969781363595622, \"std\": 9.355137830056732, \"err_low\": -19.707253796473026, \"err_high\": 17.7132975237539}, {\"time\": \"2009-02-22T18:30:00\", \"variable\": \"TA\", \"value\": 2.52, \"is_present\": true, \"mean\": -1.0593949984242048, \"std\": 9.355137830056732, \"err_low\": -19.76967065853767, \"err_high\": 17.650880661689257}, {\"time\": \"2009-02-22T19:00:00\", \"variable\": \"TA\", \"value\": 2.53, \"is_present\": true, \"mean\": -1.060566926157902, \"std\": 9.355137830056737, \"err_low\": -19.770842586271378, \"err_high\": 17.64970873395557}, {\"time\": \"2009-02-22T19:30:00\", \"variable\": \"TA\", \"value\": 2.57, \"is_present\": true, \"mean\": -1.0706020247422945, \"std\": 9.355137830056732, \"err_low\": -19.78087768485576, \"err_high\": 17.639673635371167}, {\"time\": \"2009-02-22T20:00:00\", \"variable\": \"TA\", \"value\": 2.62, \"is_present\": true, \"mean\": -1.104630331524902, \"std\": 9.355137830056737, \"err_low\": -19.814905991638376, \"err_high\": 17.605645328588572}, {\"time\": \"2009-02-22T20:30:00\", \"variable\": \"TA\", \"value\": 2.71, \"is_present\": true, \"mean\": -1.1448918353027313, \"std\": 9.355137830056725, \"err_low\": -19.855167495416183, \"err_high\": 17.565383824810716}, {\"time\": \"2009-02-22T21:00:00\", \"variable\": \"TA\", \"value\": 2.75, \"is_present\": true, \"mean\": -1.1738983274299848, \"std\": 9.355137830056723, \"err_low\": -19.88417398754343, \"err_high\": 17.53637733268346}, {\"time\": \"2009-02-22T21:30:00\", \"variable\": \"TA\", \"value\": 2.69, \"is_present\": true, \"mean\": -1.2091040900080063, \"std\": 9.35513783005672, \"err_low\": -19.919379750121443, \"err_high\": 17.501171570105434}, {\"time\": \"2009-02-22T22:00:00\", \"variable\": \"TA\", \"value\": 2.06, \"is_present\": true, \"mean\": -1.2605088552072399, \"std\": 9.355137830056734, \"err_low\": -19.97078451532071, \"err_high\": 17.449766804906226}, {\"time\": \"2009-02-22T22:30:00\", \"variable\": \"TA\", \"value\": 1.95, \"is_present\": true, \"mean\": -1.4086867917931052, \"std\": 9.355137830056728, \"err_low\": -20.11896245190656, \"err_high\": 17.30158886832035}, {\"time\": \"2009-02-22T23:00:00\", \"variable\": \"TA\", \"value\": 1.92, \"is_present\": true, \"mean\": -1.4944162741399278, \"std\": 9.355137830056728, \"err_low\": -20.204691934253383, \"err_high\": 17.21585938597353}, {\"time\": \"2009-02-22T23:30:00\", \"variable\": \"TA\", \"value\": 1.71, \"is_present\": true, \"mean\": -1.576749144061294, \"std\": 9.355137830056721, \"err_low\": -20.287024804174735, \"err_high\": 17.13352651605215}, {\"time\": \"2009-02-23T00:00:00\", \"variable\": \"TA\", \"value\": 1.42, \"is_present\": true, \"mean\": -1.6892034497753183, \"std\": 9.355137830056721, \"err_low\": -20.39947910988876, \"err_high\": 17.021072210338126}, {\"time\": \"2009-02-23T00:30:00\", \"variable\": \"TA\", \"value\": 1.32, \"is_present\": true, \"mean\": -1.8135342955821976, \"std\": 9.35513783005673, \"err_low\": -20.523809955695658, \"err_high\": 16.896741364531263}, {\"time\": \"2009-02-23T01:00:00\", \"variable\": \"TA\", \"value\": 1.12, \"is_present\": true, \"mean\": -1.8814461625071797, \"std\": 9.355137830056728, \"err_low\": -20.591721822620634, \"err_high\": 16.82882949760628}, {\"time\": \"2009-02-23T01:30:00\", \"variable\": \"TA\", \"value\": 0.73, \"is_present\": true, \"mean\": -1.9362117302844855, \"std\": 9.355137830056728, \"err_low\": -20.646487390397944, \"err_high\": 16.77406392982897}, {\"time\": \"2009-02-23T02:00:00\", \"variable\": \"TA\", \"value\": 0.29, \"is_present\": true, \"mean\": -2.0526908376719994, \"std\": 9.355137830056737, \"err_low\": -20.762966497785474, \"err_high\": 16.657584822441475}, {\"time\": \"2009-02-23T02:30:00\", \"variable\": \"TA\", \"value\": 0.43, \"is_present\": true, \"mean\": -2.1824957934169653, \"std\": 9.355137830056728, \"err_low\": -20.892771453530422, \"err_high\": 16.52777986669649}, {\"time\": \"2009-02-23T03:00:00\", \"variable\": \"TA\", \"value\": 0.69, \"is_present\": true, \"mean\": -2.1822616376800568, \"std\": 9.35513783005674, \"err_low\": -20.892537297793538, \"err_high\": 16.528014022433425}, {\"time\": \"2009-02-23T03:30:00\", \"variable\": \"TA\", \"value\": 0.82, \"is_present\": true, \"mean\": -2.1550352437959557, \"std\": 9.355137830056732, \"err_low\": -20.865310903909418, \"err_high\": 16.55524041631751}, {\"time\": \"2009-02-23T04:00:00\", \"variable\": \"TA\", \"value\": 0.87, \"is_present\": true, \"mean\": -2.1269289168599634, \"std\": 9.355137830056735, \"err_low\": -20.837204576973434, \"err_high\": 16.583346743253507}, {\"time\": \"2009-02-23T04:30:00\", \"variable\": \"TA\", \"value\": 0.86, \"is_present\": true, \"mean\": -2.1185505192531053, \"std\": 9.355137830056727, \"err_low\": -20.82882617936656, \"err_high\": 16.591725140860348}, {\"time\": \"2009-02-23T05:00:00\", \"variable\": \"TA\", \"value\": 0.85, \"is_present\": true, \"mean\": -2.139148499175949, \"std\": 9.355137830056718, \"err_low\": -20.849424159289384, \"err_high\": 16.571127160937486}, {\"time\": \"2009-02-23T05:30:00\", \"variable\": \"TA\", \"value\": 0.94, \"is_present\": true, \"mean\": -2.1563810075491663, \"std\": 9.355137830056737, \"err_low\": -20.86665666766264, \"err_high\": 16.55389465256431}, {\"time\": \"2009-02-23T06:00:00\", \"variable\": \"TA\", \"value\": 0.91, \"is_present\": true, \"mean\": -2.1491560277050983, \"std\": 9.355137830056737, \"err_low\": -20.85943168781857, \"err_high\": 16.561119632408378}, {\"time\": \"2009-02-23T06:30:00\", \"variable\": \"TA\", \"value\": 0.62, \"is_present\": true, \"mean\": -2.1762222840240018, \"std\": 9.355137830056728, \"err_low\": -20.88649794413746, \"err_high\": 16.534053376089453}, {\"time\": \"2009-02-23T07:00:00\", \"variable\": \"TA\", \"value\": 0.52, \"is_present\": true, \"mean\": -2.274491173254974, \"std\": 9.355137830056728, \"err_low\": -20.984766833368433, \"err_high\": 16.43578448685848}, {\"time\": \"2009-02-23T07:30:00\", \"variable\": \"TA\", \"value\": 0.56, \"is_present\": true, \"mean\": -2.358281791526551, \"std\": 9.355137830056728, \"err_low\": -21.068557451640007, \"err_high\": 16.351993868586906}, {\"time\": \"2009-02-23T08:00:00\", \"variable\": \"TA\", \"value\": 0.58, \"is_present\": true, \"mean\": -2.365100502647243, \"std\": 9.355137830056732, \"err_low\": -21.075376162760705, \"err_high\": 16.345175157466223}, {\"time\": \"2009-02-23T08:30:00\", \"variable\": \"TA\", \"value\": 0.49, \"is_present\": true, \"mean\": -2.1814406189393925, \"std\": 9.355137830056737, \"err_low\": -20.891716279052865, \"err_high\": 16.528835041174084}, {\"time\": \"2009-02-23T09:00:00\", \"variable\": \"TA\", \"value\": 0.51, \"is_present\": true, \"mean\": -1.9250654128904827, \"std\": 9.355137830056728, \"err_low\": -20.63534107300394, \"err_high\": 16.785210247222974}, {\"time\": \"2009-02-23T09:30:00\", \"variable\": \"TA\", \"value\": 0.36, \"is_present\": true, \"mean\": -1.5233769335782021, \"std\": 9.355137830056728, \"err_low\": -20.23365259369166, \"err_high\": 17.186898726535254}, {\"time\": \"2009-02-23T10:00:00\", \"variable\": \"TA\", \"value\": 0.45, \"is_present\": true, \"mean\": -1.2492646234216007, \"std\": 9.35513783005674, \"err_low\": -19.959540283535084, \"err_high\": 17.46101103669188}, {\"time\": \"2009-02-23T10:30:00\", \"variable\": \"TA\", \"value\": 0.75, \"is_present\": true, \"mean\": -1.4994907262036747, \"std\": 9.355137830056728, \"err_low\": -20.20976638631713, \"err_high\": 17.210784933909782}, {\"time\": \"2009-02-23T11:00:00\", \"variable\": \"TA\", \"value\": 0.97, \"is_present\": true, \"mean\": 0.1305960771734842, \"std\": 9.355137830056728, \"err_low\": -18.579679582939974, \"err_high\": 18.84087173728694}, {\"time\": \"2009-02-23T11:30:00\", \"variable\": \"TA\", \"value\": 1.16, \"is_present\": true, \"mean\": 0.8239943730255206, \"std\": 9.355137830056728, \"err_low\": -17.886281287087936, \"err_high\": 19.534270033138977}, {\"time\": \"2009-02-23T12:00:00\", \"variable\": \"TA\", \"value\": 1.42, \"is_present\": true, \"mean\": 1.3095925171763199, \"std\": 9.355137830056728, \"err_low\": -17.400683142937137, \"err_high\": 20.019868177289776}, {\"time\": \"2009-02-23T12:30:00\", \"variable\": \"TA\", \"value\": 1.44, \"is_present\": true, \"mean\": 1.7395726248546861, \"std\": 9.35513783005673, \"err_low\": -16.970703035258772, \"err_high\": 20.449848284968148}, {\"time\": \"2009-02-23T13:00:00\", \"variable\": \"TA\", \"value\": 1.64, \"is_present\": true, \"mean\": 2.240505581438086, \"std\": 9.355137830056728, \"err_low\": -16.46977007867537, \"err_high\": 20.950781241551542}, {\"time\": \"2009-02-23T13:30:00\", \"variable\": \"TA\", \"value\": 1.65, \"is_present\": true, \"mean\": 3.0903974611084477, \"std\": 9.355137830056734, \"err_low\": -15.619878199005019, \"err_high\": 21.800673121221916}, {\"time\": \"2009-02-23T14:00:00\", \"variable\": \"TA\", \"value\": 1.79, \"is_present\": true, \"mean\": 2.1309763725536666, \"std\": 9.355137830056727, \"err_low\": -16.579299287559785, \"err_high\": 20.84125203266712}, {\"time\": \"2009-02-23T14:30:00\", \"variable\": \"TA\", \"value\": 1.82, \"is_present\": true, \"mean\": 1.3700406322378278, \"std\": 9.355137830056728, \"err_low\": -17.34023502787563, \"err_high\": 20.080316292351284}, {\"time\": \"2009-02-23T15:00:00\", \"variable\": \"TA\", \"value\": 1.91, \"is_present\": true, \"mean\": 1.041644916887729, \"std\": 9.355137830056723, \"err_low\": -17.668630743225716, \"err_high\": 19.751920577001176}, {\"time\": \"2009-02-23T15:30:00\", \"variable\": \"TA\", \"value\": 1.9, \"is_present\": true, \"mean\": 0.9312553830160297, \"std\": 9.355137830056727, \"err_low\": -17.779020277097423, \"err_high\": 19.641531043129483}, {\"time\": \"2009-02-23T16:00:00\", \"variable\": \"TA\", \"value\": 1.86, \"is_present\": true, \"mean\": 0.5081798600735965, \"std\": 9.355137830056732, \"err_low\": -18.202095800039867, \"err_high\": 19.21845552018706}, {\"time\": \"2009-02-23T16:30:00\", \"variable\": \"TA\", \"value\": 1.85, \"is_present\": true, \"mean\": 0.24112573102350687, \"std\": 9.355137830056725, \"err_low\": -18.469149929089944, \"err_high\": 18.951401391136955}], \"data-a22b92627e11f383ec713a8f7793640a\": [{\"gap_start\": \"2009-02-20T17:00:00\", \"gap_end\": \"2009-02-20T21:30:00\"}], \"data-78da5fd68b656c36d8954f9d1518449a\": [{\"time\": \"2009-02-19T13:00:00\", \"variable\": \"SW_IN\", \"value\": 482.88, \"is_present\": true, \"mean\": 433.5358011579756, \"std\": 392.51013982774566, \"err_low\": -351.48447849751574, \"err_high\": 1218.556080813467}, {\"time\": \"2009-02-19T13:30:00\", \"variable\": \"SW_IN\", \"value\": 468.57, \"is_present\": true, \"mean\": 551.122678114282, \"std\": 506.5181530797109, \"err_low\": -461.9136280451397, \"err_high\": 1564.158984273704}, {\"time\": \"2009-02-19T14:00:00\", \"variable\": \"SW_IN\", \"value\": 452.47, \"is_present\": true, \"mean\": 490.2954810746626, \"std\": 512.0626334569278, \"err_low\": -533.8297858391929, \"err_high\": 1514.420747988518}, {\"time\": \"2009-02-19T14:30:00\", \"variable\": \"SW_IN\", \"value\": 412.21, \"is_present\": true, \"mean\": 574.3464271283516, \"std\": 510.98618120756055, \"err_low\": -447.6259352867695, \"err_high\": 1596.3187895434726}, {\"time\": \"2009-02-19T15:00:00\", \"variable\": \"SW_IN\", \"value\": 335.56, \"is_present\": true, \"mean\": 560.2557599795564, \"std\": 510.79360111279044, \"err_low\": -461.3314422460245, \"err_high\": 1581.8429622051372}, {\"time\": \"2009-02-19T15:30:00\", \"variable\": \"SW_IN\", \"value\": 229.24, \"is_present\": true, \"mean\": 504.75227974723384, \"std\": 510.75666461277586, \"err_low\": -516.7610494783179, \"err_high\": 1526.2656089727857}, {\"time\": \"2009-02-19T16:00:00\", \"variable\": \"SW_IN\", \"value\": 181.01, \"is_present\": true, \"mean\": 404.0912805072825, \"std\": 510.75015489598655, \"err_low\": -617.4090292846906, \"err_high\": 1425.5915902992556}, {\"time\": \"2009-02-19T16:30:00\", \"variable\": \"SW_IN\", \"value\": 208.48, \"is_present\": true, \"mean\": 263.4035100966225, \"std\": 510.748980095005, \"err_low\": -758.0944500933874, \"err_high\": 1284.9014702866325}, {\"time\": \"2009-02-19T17:00:00\", \"variable\": \"SW_IN\", \"value\": 92.64, \"is_present\": true, \"mean\": 158.1758974422666, \"std\": 510.74877194318015, \"err_low\": -863.3216464440936, \"err_high\": 1179.673441328627}, {\"time\": \"2009-02-19T17:30:00\", \"variable\": \"SW_IN\", \"value\": 23.61, \"is_present\": true, \"mean\": 35.496634782309584, \"std\": 510.74873468698803, \"err_low\": -986.0008345916665, \"err_high\": 1056.9941041562856}, {\"time\": \"2009-02-19T18:00:00\", \"variable\": \"SW_IN\", \"value\": 1.36, \"is_present\": true, \"mean\": -55.89472317399181, \"std\": 510.74872806279416, \"err_low\": -1077.3921792995802, \"err_high\": 965.6027329515965}, {\"time\": \"2009-02-19T18:30:00\", \"variable\": \"SW_IN\", \"value\": 0.0, \"is_present\": true, \"mean\": -114.29154064141359, \"std\": 510.7487268802104, \"err_low\": -1135.7889944018345, \"err_high\": 907.2059131190073}, {\"time\": \"2009-02-19T19:00:00\", \"variable\": \"SW_IN\", \"value\": 0.0, \"is_present\": true, \"mean\": -145.91767804778078, \"std\": 510.7487266696315, \"err_low\": -1167.4151313870439, \"err_high\": 875.5797752914822}, {\"time\": \"2009-02-19T19:30:00\", \"variable\": \"SW_IN\", \"value\": 0.0, \"is_present\": true, \"mean\": -163.1392180924965, \"std\": 510.74872663207424, \"err_low\": -1184.636671356645, \"err_high\": 858.358235171652}, {\"time\": \"2009-02-19T20:00:00\", \"variable\": \"SW_IN\", \"value\": 0.0, \"is_present\": true, \"mean\": -171.2803775544582, \"std\": 510.74872662538263, \"err_low\": -1192.7778308052234, \"err_high\": 850.2170756963071}, {\"time\": \"2009-02-19T20:30:00\", \"variable\": \"SW_IN\", \"value\": 0.0, \"is_present\": true, \"mean\": -178.15119844145624, \"std\": 510.7487266241892, \"err_low\": -1199.6486516898347, \"err_high\": 843.3462548069222}, {\"time\": \"2009-02-19T21:00:00\", \"variable\": \"SW_IN\", \"value\": 0.0, \"is_present\": true, \"mean\": -191.45111204600823, \"std\": 510.7487266239773, \"err_low\": -1212.948565293963, \"err_high\": 830.0463412019463}, {\"time\": \"2009-02-19T21:30:00\", \"variable\": \"SW_IN\", \"value\": 0.0, \"is_present\": true, \"mean\": -204.26072391685005, \"std\": 510.7487266239393, \"err_low\": -1225.7581771647287, \"err_high\": 817.2367293310285}, {\"time\": \"2009-02-19T22:00:00\", \"variable\": \"SW_IN\", \"value\": 0.0, \"is_present\": true, \"mean\": -227.75160488352367, \"std\": 510.74872662393307, \"err_low\": -1249.2490581313898, \"err_high\": 793.7458483643425}, {\"time\": \"2009-02-19T22:30:00\", \"variable\": \"SW_IN\", \"value\": 0.0, \"is_present\": true, \"mean\": -264.2373953007199, \"std\": 510.74872662393074, \"err_low\": -1285.7348485485813, \"err_high\": 757.2600579471416}, {\"time\": \"2009-02-19T23:00:00\", \"variable\": \"SW_IN\", \"value\": 0.0, \"is_present\": true, \"mean\": -290.0862539615575, \"std\": 510.74872662393136, \"err_low\": -1311.5837072094203, \"err_high\": 731.4111992863052}, {\"time\": \"2009-02-19T23:30:00\", \"variable\": \"SW_IN\", \"value\": 0.0, \"is_present\": true, \"mean\": -299.12931950030975, \"std\": 510.74872662393165, \"err_low\": -1320.6267727481732, \"err_high\": 722.3681337475535}, {\"time\": \"2009-02-20T00:00:00\", \"variable\": \"SW_IN\", \"value\": 0.0, \"is_present\": true, \"mean\": -309.54001109364174, \"std\": 510.74872662393085, \"err_low\": -1331.0374643415034, \"err_high\": 711.95744215422}, {\"time\": \"2009-02-20T00:30:00\", \"variable\": \"SW_IN\", \"value\": 0.0, \"is_present\": true, \"mean\": -319.9877641583514, \"std\": 510.7487266239311, \"err_low\": -1341.4852174062135, \"err_high\": 701.5096890895107}, {\"time\": \"2009-02-20T01:00:00\", \"variable\": \"SW_IN\", \"value\": 0.0, \"is_present\": true, \"mean\": -328.91530145655923, \"std\": 510.74872662393074, \"err_low\": -1350.4127547044206, \"err_high\": 692.5821517913023}, {\"time\": \"2009-02-20T01:30:00\", \"variable\": \"SW_IN\", \"value\": 0.0, \"is_present\": true, \"mean\": -337.59343366736874, \"std\": 510.74872662393136, \"err_low\": -1359.0908869152315, \"err_high\": 683.9040195804939}, {\"time\": \"2009-02-20T02:00:00\", \"variable\": \"SW_IN\", \"value\": 0.0, \"is_present\": true, \"mean\": -341.0255004419989, \"std\": 510.7487266239313, \"err_low\": -1362.5229536898614, \"err_high\": 680.4719528058638}, {\"time\": \"2009-02-20T02:30:00\", \"variable\": \"SW_IN\", \"value\": 0.0, \"is_present\": true, \"mean\": -340.3971967098552, \"std\": 510.7487266239311, \"err_low\": -1361.8946499577173, \"err_high\": 681.100256538007}, {\"time\": \"2009-02-20T03:00:00\", \"variable\": \"SW_IN\", \"value\": 0.0, \"is_present\": true, \"mean\": -339.8796723719747, \"std\": 510.74872662393017, \"err_low\": -1361.3771256198352, \"err_high\": 681.6177808758856}, {\"time\": \"2009-02-20T03:30:00\", \"variable\": \"SW_IN\", \"value\": 0.0, \"is_present\": true, \"mean\": -340.1645830588503, \"std\": 510.7487266239312, \"err_low\": -1361.6620363067127, \"err_high\": 681.332870189012}, {\"time\": \"2009-02-20T04:00:00\", \"variable\": \"SW_IN\", \"value\": 0.0, \"is_present\": true, \"mean\": -340.1954758247753, \"std\": 510.74872662393057, \"err_low\": -1361.6929290726364, \"err_high\": 681.3019774230859}, {\"time\": \"2009-02-20T04:30:00\", \"variable\": \"SW_IN\", \"value\": 0.0, \"is_present\": true, \"mean\": -340.06826969417097, \"std\": 510.7487266239315, \"err_low\": -1361.565722942034, \"err_high\": 681.4291835536919}, {\"time\": \"2009-02-20T05:00:00\", \"variable\": \"SW_IN\", \"value\": 0.0, \"is_present\": true, \"mean\": -337.79370146385855, \"std\": 510.74872662393045, \"err_low\": -1359.2911547117194, \"err_high\": 683.7037517840024}, {\"time\": \"2009-02-20T05:30:00\", \"variable\": \"SW_IN\", \"value\": 0.0, \"is_present\": true, \"mean\": -336.4746305690866, \"std\": 510.74872662393074, \"err_low\": -1357.972083816948, \"err_high\": 685.0228226787749}, {\"time\": \"2009-02-20T06:00:00\", \"variable\": \"SW_IN\", \"value\": 0.0, \"is_present\": true, \"mean\": -336.00860447993534, \"std\": 510.74872662393045, \"err_low\": -1357.5060577277964, \"err_high\": 685.4888487679256}, {\"time\": \"2009-02-20T06:30:00\", \"variable\": \"SW_IN\", \"value\": 0.0, \"is_present\": true, \"mean\": -334.31887167844957, \"std\": 510.7487266239306, \"err_low\": -1355.8163249263107, \"err_high\": 687.1785815694117}, {\"time\": \"2009-02-20T07:00:00\", \"variable\": \"SW_IN\", \"value\": 0.0, \"is_present\": true, \"mean\": -333.64456732197465, \"std\": 510.7487266239311, \"err_low\": -1355.1420205698369, \"err_high\": 687.8528859258874}, {\"time\": \"2009-02-20T07:30:00\", \"variable\": \"SW_IN\", \"value\": 0.0, \"is_present\": true, \"mean\": -333.5107208852563, \"std\": 510.7487266239312, \"err_low\": -1355.0081741331187, \"err_high\": 687.9867323626061}, {\"time\": \"2009-02-20T08:00:00\", \"variable\": \"SW_IN\", \"value\": 8.6, \"is_present\": true, \"mean\": -327.6234515807782, \"std\": 510.7487266239311, \"err_low\": -1349.1209048286403, \"err_high\": 693.874001667084}, {\"time\": \"2009-02-20T08:30:00\", \"variable\": \"SW_IN\", \"value\": 31.2, \"is_present\": true, \"mean\": -309.32834668894174, \"std\": 510.748726623931, \"err_low\": -1330.8257999368038, \"err_high\": 712.1691065589202}, {\"time\": \"2009-02-20T09:00:00\", \"variable\": \"SW_IN\", \"value\": 44.88, \"is_present\": true, \"mean\": -283.4087508460959, \"std\": 510.7487266239313, \"err_low\": -1304.9062040939584, \"err_high\": 738.0887024017667}, {\"time\": \"2009-02-20T09:30:00\", \"variable\": \"SW_IN\", \"value\": 55.99, \"is_present\": true, \"mean\": -261.8767417954487, \"std\": 510.7487266239306, \"err_low\": -1283.37419504331, \"err_high\": 759.6207114524125}, {\"time\": \"2009-02-20T10:00:00\", \"variable\": \"SW_IN\", \"value\": 56.54, \"is_present\": true, \"mean\": -243.33903097300487, \"std\": 510.748726623931, \"err_low\": -1264.8364842208669, \"err_high\": 778.1584222748572}, {\"time\": \"2009-02-20T10:30:00\", \"variable\": \"SW_IN\", \"value\": 99.74, \"is_present\": true, \"mean\": -227.53296766247786, \"std\": 510.7487266239311, \"err_low\": -1249.0304209103401, \"err_high\": 793.9644855853843}, {\"time\": \"2009-02-20T11:00:00\", \"variable\": \"SW_IN\", \"value\": 127.73, \"is_present\": true, \"mean\": -200.03490881464705, \"std\": 510.74872662393153, \"err_low\": -1221.5323620625102, \"err_high\": 821.462544433216}, {\"time\": \"2009-02-20T11:30:00\", \"variable\": \"SW_IN\", \"value\": 139.22, \"is_present\": true, \"mean\": -182.30699471361038, \"std\": 510.7487266239311, \"err_low\": -1203.8044479614725, \"err_high\": 839.1904585342518}, {\"time\": \"2009-02-20T12:00:00\", \"variable\": \"SW_IN\", \"value\": 135.15, \"is_present\": true, \"mean\": -171.56765738700017, \"std\": 510.74872662393136, \"err_low\": -1193.0651106348628, \"err_high\": 849.9297958608626}, {\"time\": \"2009-02-20T12:30:00\", \"variable\": \"SW_IN\", \"value\": 139.83, \"is_present\": true, \"mean\": -168.18287082456538, \"std\": 510.7487266239311, \"err_low\": -1189.6803240724275, \"err_high\": 853.3145824232968}, {\"time\": \"2009-02-20T13:00:00\", \"variable\": \"SW_IN\", \"value\": 103.2, \"is_present\": true, \"mean\": -163.94265900469236, \"std\": 510.7487266239311, \"err_low\": -1185.4401122525546, \"err_high\": 857.5547942431698}, {\"time\": \"2009-02-20T13:30:00\", \"variable\": \"SW_IN\", \"value\": 147.91, \"is_present\": true, \"mean\": -138.39905468560931, \"std\": 510.7487266239312, \"err_low\": -1159.8965079334716, \"err_high\": 883.0983985622531}, {\"time\": \"2009-02-20T14:00:00\", \"variable\": \"SW_IN\", \"value\": 111.98, \"is_present\": true, \"mean\": -85.67552015669376, \"std\": 510.74872662393017, \"err_low\": -1107.172973404554, \"err_high\": 935.8219330911666}, {\"time\": \"2009-02-20T14:30:00\", \"variable\": \"SW_IN\", \"value\": 92.38, \"is_present\": true, \"mean\": -99.2061581939639, \"std\": 510.7487266239309, \"err_low\": -1120.7036114418256, \"err_high\": 922.2912950538979}, {\"time\": \"2009-02-20T15:00:00\", \"variable\": \"SW_IN\", \"value\": 81.79, \"is_present\": true, \"mean\": -117.04815175971935, \"std\": 510.748726623931, \"err_low\": -1138.5456050075813, \"err_high\": 904.4493014881427}, {\"time\": \"2009-02-20T15:30:00\", \"variable\": \"SW_IN\", \"value\": 64.01, \"is_present\": true, \"mean\": -132.77763951250182, \"std\": 510.7487266239312, \"err_low\": -1154.2750927603643, \"err_high\": 888.7198137353605}, {\"time\": \"2009-02-20T16:00:00\", \"variable\": \"SW_IN\", \"value\": 71.72, \"is_present\": true, \"mean\": -152.83309123673484, \"std\": 510.7487266239315, \"err_low\": -1174.3305444845978, \"err_high\": 868.6643620111281}, {\"time\": \"2009-02-20T16:30:00\", \"variable\": \"SW_IN\", \"value\": 37.98, \"is_present\": true, \"mean\": -187.0126906978793, \"std\": 510.7487266239306, \"err_low\": -1208.5101439457405, \"err_high\": 834.484762549982}, {\"time\": \"2009-02-20T17:00:00\", \"variable\": \"SW_IN\", \"value\": 20.95, \"is_present\": true, \"mean\": -240.56740943538347, \"std\": 510.7487266239309, \"err_low\": -1262.0648626832453, \"err_high\": 780.9300438124783}, {\"time\": \"2009-02-20T17:30:00\", \"variable\": \"SW_IN\", \"value\": 5.89, \"is_present\": true, \"mean\": -225.83312755259385, \"std\": 514.2455643944911, \"err_low\": -1254.324256341576, \"err_high\": 802.6580012363884}, {\"time\": \"2009-02-20T18:00:00\", \"variable\": \"SW_IN\", \"value\": 0.0, \"is_present\": true, \"mean\": -254.54052948579584, \"std\": 514.3020441696, \"err_low\": -1283.1446178249957, \"err_high\": 774.0635588534042}, {\"time\": \"2009-02-20T18:30:00\", \"variable\": \"SW_IN\", \"value\": 0.0, \"is_present\": true, \"mean\": -271.71144754779556, \"std\": 514.3128777398604, \"err_low\": -1300.3372030275164, \"err_high\": 756.9143079319251}, {\"time\": \"2009-02-20T19:00:00\", \"variable\": \"SW_IN\", \"value\": 0.0, \"is_present\": true, \"mean\": -282.40684490671845, \"std\": 514.319104869332, \"err_low\": -1311.0450546453826, \"err_high\": 746.2313648319456}, {\"time\": \"2009-02-20T19:30:00\", \"variable\": \"SW_IN\", \"value\": 0.0, \"is_present\": true, \"mean\": -291.3960393580026, \"std\": 514.3200059116925, \"err_low\": -1320.0360511813876, \"err_high\": 737.2439724653825}, {\"time\": \"2009-02-20T20:00:00\", \"variable\": \"SW_IN\", \"value\": 0.0, \"is_present\": true, \"mean\": -295.3694939311566, \"std\": 514.320251128581, \"err_low\": -1324.0099961883188, \"err_high\": 733.2710083260055}, {\"time\": \"2009-02-20T20:30:00\", \"variable\": \"SW_IN\", \"value\": 0.0, \"is_present\": true, \"mean\": -296.6595348452539, \"std\": 514.32029472076, \"err_low\": -1325.300124286774, \"err_high\": 731.9810545962661}, {\"time\": \"2009-02-20T21:00:00\", \"variable\": \"SW_IN\", \"value\": 0.0, \"is_present\": true, \"mean\": -298.24688061111476, \"std\": 514.3203047231177, \"err_low\": -1326.88749005735, \"err_high\": 730.3937288351207}, {\"time\": \"2009-02-20T21:30:00\", \"variable\": \"SW_IN\", \"value\": 0.0, \"is_present\": true, \"mean\": -300.5547968181057, \"std\": 514.320306676574, \"err_low\": -1329.1954101712536, \"err_high\": 728.0858165350423}, {\"time\": \"2009-02-20T22:00:00\", \"variable\": \"SW_IN\", \"value\": 0.0, \"is_present\": true, \"mean\": -303.112643519496, \"std\": 514.3203070980688, \"err_low\": -1331.7532577156337, \"err_high\": 725.5279706766416}, {\"time\": \"2009-02-20T22:30:00\", \"variable\": \"SW_IN\", \"value\": 0.0, \"is_present\": true, \"mean\": -338.9064104887272, \"std\": 510.84776894912085, \"err_low\": -1360.6019483869688, \"err_high\": 682.7891274095145}, {\"time\": \"2009-02-20T23:00:00\", \"variable\": \"SW_IN\", \"value\": 0.0, \"is_present\": true, \"mean\": -336.1475836036666, \"std\": 510.77572962587465, \"err_low\": -1357.6990428554159, \"err_high\": 685.4038756480827}, {\"time\": \"2009-02-20T23:30:00\", \"variable\": \"SW_IN\", \"value\": 0.0, \"is_present\": true, \"mean\": -335.1944321331432, \"std\": 510.7565402113086, \"err_low\": -1356.7075125557603, \"err_high\": 686.318648289474}, {\"time\": \"2009-02-21T00:00:00\", \"variable\": \"SW_IN\", \"value\": 0.0, \"is_present\": true, \"mean\": -335.60207688069636, \"std\": 510.74994054532436, \"err_low\": -1357.1019579713452, \"err_high\": 685.8978042099524}, {\"time\": \"2009-02-21T00:30:00\", \"variable\": \"SW_IN\", \"value\": 0.0, \"is_present\": true, \"mean\": -337.6733640917839, \"std\": 510.7489706493565, \"err_low\": -1359.1713053904969, \"err_high\": 683.8245772069291}, {\"time\": \"2009-02-21T01:00:00\", \"variable\": \"SW_IN\", \"value\": 0.0, \"is_present\": true, \"mean\": -339.4945488050369, \"std\": 510.7487673027515, \"err_low\": -1360.9920834105399, \"err_high\": 682.0029858004661}, {\"time\": \"2009-02-21T01:30:00\", \"variable\": \"SW_IN\", \"value\": 0.0, \"is_present\": true, \"mean\": -341.8518618214685, \"std\": 510.748734199373, \"err_low\": -1363.3493302202146, \"err_high\": 679.6456065772775}, {\"time\": \"2009-02-21T02:00:00\", \"variable\": \"SW_IN\", \"value\": 0.0, \"is_present\": true, \"mean\": -343.0248164120873, \"std\": 510.7487279382608, \"err_low\": -1364.522272288609, \"err_high\": 678.4726394644342}, {\"time\": \"2009-02-21T02:30:00\", \"variable\": \"SW_IN\", \"value\": 0.0, \"is_present\": true, \"mean\": -343.81016527088485, \"std\": 510.74872686221477, \"err_low\": -1365.3076189953144, \"err_high\": 677.6872884535446}, {\"time\": \"2009-02-21T03:00:00\", \"variable\": \"SW_IN\", \"value\": 0.0, \"is_present\": true, \"mean\": -344.4663188075742, \"std\": 510.74872666595445, \"err_low\": -1365.9637721394831, \"err_high\": 677.0311345243347}, {\"time\": \"2009-02-21T03:30:00\", \"variable\": \"SW_IN\", \"value\": 0.0, \"is_present\": true, \"mean\": -345.85542310008753, \"std\": 510.74872663147187, \"err_low\": -1367.3528763630313, \"err_high\": 675.6420301628561}, {\"time\": \"2009-02-21T04:00:00\", \"variable\": \"SW_IN\", \"value\": 0.0, \"is_present\": true, \"mean\": -347.50232364091573, \"std\": 510.748726625269, \"err_low\": -1368.9997768914536, \"err_high\": 673.9951296096223}, {\"time\": \"2009-02-21T04:30:00\", \"variable\": \"SW_IN\", \"value\": 0.0, \"is_present\": true, \"mean\": -347.7320776594912, \"std\": 510.7487266241704, \"err_low\": -1369.229530907832, \"err_high\": 673.7653755888496}, {\"time\": \"2009-02-21T05:00:00\", \"variable\": \"SW_IN\", \"value\": 0.0, \"is_present\": true, \"mean\": -348.5707419051916, \"std\": 510.7487266239739, \"err_low\": -1370.0681951531394, \"err_high\": 672.9267113427561}, {\"time\": \"2009-02-21T05:30:00\", \"variable\": \"SW_IN\", \"value\": 0.0, \"is_present\": true, \"mean\": -352.1758145593523, \"std\": 510.74872662393886, \"err_low\": -1373.67326780723, \"err_high\": 669.3216386885254}, {\"time\": \"2009-02-21T06:00:00\", \"variable\": \"SW_IN\", \"value\": 0.0, \"is_present\": true, \"mean\": -353.207414579921, \"std\": 510.74872662393227, \"err_low\": -1374.7048678277856, \"err_high\": 668.2900386679435}, {\"time\": \"2009-02-21T06:30:00\", \"variable\": \"SW_IN\", \"value\": 0.0, \"is_present\": true, \"mean\": -353.67394246910135, \"std\": 510.7487266239309, \"err_low\": -1375.1713957169632, \"err_high\": 667.8235107787605}, {\"time\": \"2009-02-21T07:00:00\", \"variable\": \"SW_IN\", \"value\": 0.0, \"is_present\": true, \"mean\": -351.5938351199778, \"std\": 510.74872662393085, \"err_low\": -1373.0912883678395, \"err_high\": 669.9036181278839}, {\"time\": \"2009-02-21T07:30:00\", \"variable\": \"SW_IN\", \"value\": 0.84, \"is_present\": true, \"mean\": -350.0319223239465, \"std\": 510.74872662393057, \"err_low\": -1371.5293755718076, \"err_high\": 671.4655309239147}, {\"time\": \"2009-02-21T08:00:00\", \"variable\": \"SW_IN\", \"value\": 9.52, \"is_present\": true, \"mean\": -336.40738944088093, \"std\": 510.74872662393057, \"err_low\": -1357.904842688742, \"err_high\": 685.0900638069802}, {\"time\": \"2009-02-21T08:30:00\", \"variable\": \"SW_IN\", \"value\": 32.21, \"is_present\": true, \"mean\": -306.0868967084649, \"std\": 510.7487266239312, \"err_low\": -1327.5843499563273, \"err_high\": 715.4105565393975}, {\"time\": \"2009-02-21T09:00:00\", \"variable\": \"SW_IN\", \"value\": 57.2, \"is_present\": true, \"mean\": -269.0117139325555, \"std\": 510.7487266239306, \"err_low\": -1290.5091671804166, \"err_high\": 752.4857393153058}, {\"time\": \"2009-02-21T09:30:00\", \"variable\": \"SW_IN\", \"value\": 50.73, \"is_present\": true, \"mean\": -234.67495390275957, \"std\": 510.748726623931, \"err_low\": -1256.1724071506217, \"err_high\": 786.8224993451024}, {\"time\": \"2009-02-21T10:00:00\", \"variable\": \"SW_IN\", \"value\": 70.1, \"is_present\": true, \"mean\": -213.0607450406178, \"std\": 510.7487266239311, \"err_low\": -1234.55819828848, \"err_high\": 808.4367082072444}, {\"time\": \"2009-02-21T10:30:00\", \"variable\": \"SW_IN\", \"value\": 88.69, \"is_present\": true, \"mean\": -117.62148387174277, \"std\": 510.7487266239315, \"err_low\": -1139.1189371196058, \"err_high\": 903.8759693761202}, {\"time\": \"2009-02-21T11:00:00\", \"variable\": \"SW_IN\", \"value\": 153.07, \"is_present\": true, \"mean\": -7.7374615059146805, \"std\": 510.7487266239306, \"err_low\": -1029.234914753776, \"err_high\": 1013.7599917419466}, {\"time\": \"2009-02-21T11:30:00\", \"variable\": \"SW_IN\", \"value\": 195.93, \"is_present\": true, \"mean\": 59.91266636371042, \"std\": 510.7487266239313, \"err_low\": -961.5847868841522, \"err_high\": 1081.410119611573}, {\"time\": \"2009-02-21T12:00:00\", \"variable\": \"SW_IN\", \"value\": 228.6, \"is_present\": true, \"mean\": 104.5446724207889, \"std\": 510.7487266239312, \"err_low\": -916.9527808270735, \"err_high\": 1126.0421256686514}, {\"time\": \"2009-02-21T12:30:00\", \"variable\": \"SW_IN\", \"value\": 285.74, \"is_present\": true, \"mean\": 140.63684329298724, \"std\": 510.7487266239309, \"err_low\": -880.8606099548746, \"err_high\": 1162.134296540849}, {\"time\": \"2009-02-21T13:00:00\", \"variable\": \"SW_IN\", \"value\": 315.04, \"is_present\": true, \"mean\": 179.51014914031623, \"std\": 510.7487266239315, \"err_low\": -841.9873041075467, \"err_high\": 1201.0076023881793}, {\"time\": \"2009-02-21T13:30:00\", \"variable\": \"SW_IN\", \"value\": 271.2, \"is_present\": true, \"mean\": 182.52824105044755, \"std\": 510.74872662393057, \"err_low\": -838.9692121974135, \"err_high\": 1204.0256942983087}, {\"time\": \"2009-02-21T14:00:00\", \"variable\": \"SW_IN\", \"value\": 195.84, \"is_present\": true, \"mean\": 128.14213437965583, \"std\": 510.7487266239313, \"err_low\": -893.3553188682067, \"err_high\": 1149.6395876275185}, {\"time\": \"2009-02-21T14:30:00\", \"variable\": \"SW_IN\", \"value\": 202.31, \"is_present\": true, \"mean\": 70.89901729238007, \"std\": 510.7487266239303, \"err_low\": -950.5984359554805, \"err_high\": 1092.3964705402407}, {\"time\": \"2009-02-21T15:00:00\", \"variable\": \"SW_IN\", \"value\": 163.9, \"is_present\": true, \"mean\": 48.77137764058503, \"std\": 510.748726623931, \"err_low\": -972.726075607277, \"err_high\": 1070.2688308884472}, {\"time\": \"2009-02-21T15:30:00\", \"variable\": \"SW_IN\", \"value\": 120.32, \"is_present\": true, \"mean\": 8.890727564654611, \"std\": 510.7487266239313, \"err_low\": -1012.606725683208, \"err_high\": 1030.3881808125172}, {\"time\": \"2009-02-21T16:00:00\", \"variable\": \"SW_IN\", \"value\": 75.01, \"is_present\": true, \"mean\": -42.9797568049414, \"std\": 510.7487266239309, \"err_low\": -1064.4772100528032, \"err_high\": 978.5176964429204}, {\"time\": \"2009-02-21T16:30:00\", \"variable\": \"SW_IN\", \"value\": 48.8, \"is_present\": true, \"mean\": -126.27050140661628, \"std\": 510.74872662393057, \"err_low\": -1147.7679546544773, \"err_high\": 895.2269518412448}, {\"time\": \"2009-02-21T17:00:00\", \"variable\": \"SW_IN\", \"value\": 15.36, \"is_present\": true, \"mean\": -202.85656397068414, \"std\": 510.7487266239311, \"err_low\": -1224.3540172185462, \"err_high\": 818.6408892771781}, {\"time\": \"2009-02-21T17:30:00\", \"variable\": \"SW_IN\", \"value\": 6.9, \"is_present\": true, \"mean\": -251.35596399034506, \"std\": 510.7487266239311, \"err_low\": -1272.8534172382072, \"err_high\": 770.1414892575172}, {\"time\": \"2009-02-21T18:00:00\", \"variable\": \"SW_IN\", \"value\": 0.0, \"is_present\": true, \"mean\": -283.93638095862116, \"std\": 510.74872662393153, \"err_low\": -1305.4338342064843, \"err_high\": 737.5610722892419}, {\"time\": \"2009-02-21T18:30:00\", \"variable\": \"SW_IN\", \"value\": 0.0, \"is_present\": true, \"mean\": -303.79921767649125, \"std\": 510.7487266239306, \"err_low\": -1325.2966709243524, \"err_high\": 717.69823557137}, {\"time\": \"2009-02-21T19:00:00\", \"variable\": \"SW_IN\", \"value\": 0.0, \"is_present\": true, \"mean\": -312.4046176119913, \"std\": 510.7487266239309, \"err_low\": -1333.9020708598532, \"err_high\": 709.0928356358705}, {\"time\": \"2009-02-21T19:30:00\", \"variable\": \"SW_IN\", \"value\": 0.0, \"is_present\": true, \"mean\": -319.6124314617273, \"std\": 510.7487266239312, \"err_low\": -1341.1098847095896, \"err_high\": 701.8850217861351}, {\"time\": \"2009-02-21T20:00:00\", \"variable\": \"SW_IN\", \"value\": 0.0, \"is_present\": true, \"mean\": -317.91074343523263, \"std\": 510.74872662393074, \"err_low\": -1339.408196683094, \"err_high\": 703.5867098126289}, {\"time\": \"2009-02-21T20:30:00\", \"variable\": \"SW_IN\", \"value\": 0.0, \"is_present\": true, \"mean\": -318.41914180408577, \"std\": 510.7487266239315, \"err_low\": -1339.9165950519487, \"err_high\": 703.0783114437772}, {\"time\": \"2009-02-21T21:00:00\", \"variable\": \"SW_IN\", \"value\": 0.0, \"is_present\": true, \"mean\": -316.58465064063125, \"std\": 510.74872662393085, \"err_low\": -1338.0821038884928, \"err_high\": 704.9128026072304}, {\"time\": \"2009-02-21T21:30:00\", \"variable\": \"SW_IN\", \"value\": 0.0, \"is_present\": true, \"mean\": -317.5254105847064, \"std\": 510.74872662393, \"err_low\": -1339.0228638325664, \"err_high\": 703.9720426631536}, {\"time\": \"2009-02-21T22:00:00\", \"variable\": \"SW_IN\", \"value\": 0.0, \"is_present\": true, \"mean\": -323.6093143354119, \"std\": 510.7487266239306, \"err_low\": -1345.1067675832733, \"err_high\": 697.8881389124493}, {\"time\": \"2009-02-21T22:30:00\", \"variable\": \"SW_IN\", \"value\": 0.0, \"is_present\": true, \"mean\": -327.7416396141196, \"std\": 510.74872662393136, \"err_low\": -1349.2390928619823, \"err_high\": 693.7558136337432}, {\"time\": \"2009-02-21T23:00:00\", \"variable\": \"SW_IN\", \"value\": 0.0, \"is_present\": true, \"mean\": -337.36985905761276, \"std\": 510.7487266239303, \"err_low\": -1358.8673123054732, \"err_high\": 684.1275941902478}, {\"time\": \"2009-02-21T23:30:00\", \"variable\": \"SW_IN\", \"value\": 0.0, \"is_present\": true, \"mean\": -338.0427901928562, \"std\": 510.7487266239313, \"err_low\": -1359.5402434407188, \"err_high\": 683.4546630550064}, {\"time\": \"2009-02-22T00:00:00\", \"variable\": \"SW_IN\", \"value\": 0.0, \"is_present\": true, \"mean\": -338.4995230737537, \"std\": 510.7487266239309, \"err_low\": -1359.9969763216154, \"err_high\": 682.9979301741081}, {\"time\": \"2009-02-22T00:30:00\", \"variable\": \"SW_IN\", \"value\": 0.0, \"is_present\": true, \"mean\": -341.11820224568936, \"std\": 510.7487266239315, \"err_low\": -1362.6156554935524, \"err_high\": 680.3792510021735}, {\"time\": \"2009-02-22T01:00:00\", \"variable\": \"SW_IN\", \"value\": 0.0, \"is_present\": true, \"mean\": -341.64492413697457, \"std\": 510.7487266239309, \"err_low\": -1363.1423773848364, \"err_high\": 679.8525291108872}, {\"time\": \"2009-02-22T01:30:00\", \"variable\": \"SW_IN\", \"value\": 0.0, \"is_present\": true, \"mean\": -341.2649258488379, \"std\": 510.74872662393153, \"err_low\": -1362.762379096701, \"err_high\": 680.2325273990252}, {\"time\": \"2009-02-22T02:00:00\", \"variable\": \"SW_IN\", \"value\": 0.0, \"is_present\": true, \"mean\": -338.88028983065766, \"std\": 510.74872662393074, \"err_low\": -1360.3777430785192, \"err_high\": 682.6171634172038}, {\"time\": \"2009-02-22T02:30:00\", \"variable\": \"SW_IN\", \"value\": 0.0, \"is_present\": true, \"mean\": -336.73354559799463, \"std\": 510.7487266239303, \"err_low\": -1358.230998845855, \"err_high\": 684.7639076498659}, {\"time\": \"2009-02-22T03:00:00\", \"variable\": \"SW_IN\", \"value\": 0.0, \"is_present\": true, \"mean\": -333.4066300791923, \"std\": 510.7487266239306, \"err_low\": -1354.9040833270535, \"err_high\": 688.090823168669}, {\"time\": \"2009-02-22T03:30:00\", \"variable\": \"SW_IN\", \"value\": 0.0, \"is_present\": true, \"mean\": -329.2936945377712, \"std\": 510.7487266239311, \"err_low\": -1350.7911477856333, \"err_high\": 692.2037587100909}, {\"time\": \"2009-02-22T04:00:00\", \"variable\": \"SW_IN\", \"value\": 0.0, \"is_present\": true, \"mean\": -326.03292627597347, \"std\": 510.7487266239312, \"err_low\": -1347.5303795238358, \"err_high\": 695.464526971889}, {\"time\": \"2009-02-22T04:30:00\", \"variable\": \"SW_IN\", \"value\": 0.0, \"is_present\": true, \"mean\": -322.61755599383343, \"std\": 510.74872662393153, \"err_low\": -1344.1150092416965, \"err_high\": 698.8798972540296}, {\"time\": \"2009-02-22T05:00:00\", \"variable\": \"SW_IN\", \"value\": 0.0, \"is_present\": true, \"mean\": -319.11587591535454, \"std\": 510.74872662393057, \"err_low\": -1340.6133291632157, \"err_high\": 702.3815773325066}, {\"time\": \"2009-02-22T05:30:00\", \"variable\": \"SW_IN\", \"value\": 0.0, \"is_present\": true, \"mean\": -317.97369884571856, \"std\": 510.7487266239315, \"err_low\": -1339.4711520935816, \"err_high\": 703.5237544021444}, {\"time\": \"2009-02-22T06:00:00\", \"variable\": \"SW_IN\", \"value\": 0.0, \"is_present\": true, \"mean\": -316.53745082175016, \"std\": 510.7487266239313, \"err_low\": -1338.0349040696128, \"err_high\": 704.9600024261124}, {\"time\": \"2009-02-22T06:30:00\", \"variable\": \"SW_IN\", \"value\": 0.0, \"is_present\": true, \"mean\": -315.87456318066677, \"std\": 510.748726623931, \"err_low\": -1337.3720164285287, \"err_high\": 705.6228900671953}, {\"time\": \"2009-02-22T07:00:00\", \"variable\": \"SW_IN\", \"value\": 0.0, \"is_present\": true, \"mean\": -315.228351074662, \"std\": 510.74872662393057, \"err_low\": -1336.7258043225231, \"err_high\": 706.2691021731991}, {\"time\": \"2009-02-22T07:30:00\", \"variable\": \"SW_IN\", \"value\": 0.0, \"is_present\": true, \"mean\": -314.96154321481623, \"std\": 510.74872662393136, \"err_low\": -1336.458996462679, \"err_high\": 706.5359100330465}, {\"time\": \"2009-02-22T08:00:00\", \"variable\": \"SW_IN\", \"value\": 3.29, \"is_present\": true, \"mean\": -306.8745104684379, \"std\": 510.74872662393085, \"err_low\": -1328.3719637162997, \"err_high\": 714.6229427794237}, {\"time\": \"2009-02-22T08:30:00\", \"variable\": \"SW_IN\", \"value\": 12.32, \"is_present\": true, \"mean\": -289.05536738502855, \"std\": 510.7487266239313, \"err_low\": -1310.552820632891, \"err_high\": 732.4420858628341}, {\"time\": \"2009-02-22T09:00:00\", \"variable\": \"SW_IN\", \"value\": 27.51, \"is_present\": true, \"mean\": -267.37202036801824, \"std\": 510.7487266239309, \"err_low\": -1288.86947361588, \"err_high\": 754.1254328798436}, {\"time\": \"2009-02-22T09:30:00\", \"variable\": \"SW_IN\", \"value\": 24.67, \"is_present\": true, \"mean\": -245.29055028912666, \"std\": 510.7487266239312, \"err_low\": -1266.788003536989, \"err_high\": 776.2069029587358}, {\"time\": \"2009-02-22T10:00:00\", \"variable\": \"SW_IN\", \"value\": 60.11, \"is_present\": true, \"mean\": -231.26065107804493, \"std\": 510.7487266239313, \"err_low\": -1252.7581043259074, \"err_high\": 790.2368021698177}, {\"time\": \"2009-02-22T10:30:00\", \"variable\": \"SW_IN\", \"value\": 56.82, \"is_present\": true, \"mean\": -201.03881623045123, \"std\": 510.7487266239311, \"err_low\": -1222.5362694783134, \"err_high\": 820.4586370174109}, {\"time\": \"2009-02-22T11:00:00\", \"variable\": \"SW_IN\", \"value\": 60.29, \"is_present\": true, \"mean\": -185.59747289062585, \"std\": 510.7487266239298, \"err_low\": -1207.0949261384856, \"err_high\": 835.8999803572337}, {\"time\": \"2009-02-22T11:30:00\", \"variable\": \"SW_IN\", \"value\": 81.65, \"is_present\": true, \"mean\": -173.50012948157115, \"std\": 510.7487266239311, \"err_low\": -1194.9975827294334, \"err_high\": 847.997323766291}, {\"time\": \"2009-02-22T12:00:00\", \"variable\": \"SW_IN\", \"value\": 53.88, \"is_present\": true, \"mean\": -158.89481713317798, \"std\": 510.748726623931, \"err_low\": -1180.39227038104, \"err_high\": 862.6026361146841}, {\"time\": \"2009-02-22T12:30:00\", \"variable\": \"SW_IN\", \"value\": 61.94, \"is_present\": true, \"mean\": -161.87624875908432, \"std\": 510.74872662393165, \"err_low\": -1183.3737020069475, \"err_high\": 859.621204488779}, {\"time\": \"2009-02-22T13:00:00\", \"variable\": \"SW_IN\", \"value\": 82.63, \"is_present\": true, \"mean\": -155.8257661055814, \"std\": 510.74872662393074, \"err_low\": -1177.323219353443, \"err_high\": 865.67168714228}, {\"time\": \"2009-02-22T13:30:00\", \"variable\": \"SW_IN\", \"value\": 105.6, \"is_present\": true, \"mean\": -158.0291134748772, \"std\": 510.7487266239315, \"err_low\": -1179.5265667227402, \"err_high\": 863.4683397729857}, {\"time\": \"2009-02-22T14:00:00\", \"variable\": \"SW_IN\", \"value\": 105.14, \"is_present\": true, \"mean\": -165.8817482500785, \"std\": 510.7487266239312, \"err_low\": -1187.3792014979408, \"err_high\": 855.615704997784}, {\"time\": \"2009-02-22T14:30:00\", \"variable\": \"SW_IN\", \"value\": 68.08, \"is_present\": true, \"mean\": -174.0375474008295, \"std\": 510.748726623931, \"err_low\": -1195.5350006486915, \"err_high\": 847.4599058470326}, {\"time\": \"2009-02-22T15:00:00\", \"variable\": \"SW_IN\", \"value\": 61.01, \"is_present\": true, \"mean\": -195.24491518605174, \"std\": 510.7487266239306, \"err_low\": -1216.742368433913, \"err_high\": 826.2525380618094}, {\"time\": \"2009-02-22T15:30:00\", \"variable\": \"SW_IN\", \"value\": 71.02, \"is_present\": true, \"mean\": -207.66393098668135, \"std\": 510.7487266239315, \"err_low\": -1229.1613842345444, \"err_high\": 813.8335222611815}, {\"time\": \"2009-02-22T16:00:00\", \"variable\": \"SW_IN\", \"value\": 46.38, \"is_present\": true, \"mean\": -213.38184158258525, \"std\": 510.7487266239311, \"err_low\": -1234.8792948304474, \"err_high\": 808.1156116652769}, {\"time\": \"2009-02-22T16:30:00\", \"variable\": \"SW_IN\", \"value\": 34.63, \"is_present\": true, \"mean\": -243.50525261878659, \"std\": 510.748726623931, \"err_low\": -1265.0027058666487, \"err_high\": 777.9922006290755}, {\"time\": \"2009-02-22T17:00:00\", \"variable\": \"SW_IN\", \"value\": 15.3, \"is_present\": true, \"mean\": -268.724209454829, \"std\": 510.7487266239306, \"err_low\": -1290.2216627026903, \"err_high\": 752.7732437930322}, {\"time\": \"2009-02-22T17:30:00\", \"variable\": \"SW_IN\", \"value\": 1.59, \"is_present\": true, \"mean\": -279.6925104765887, \"std\": 510.7487266239309, \"err_low\": -1301.1899637244505, \"err_high\": 741.8049427712731}, {\"time\": \"2009-02-22T18:00:00\", \"variable\": \"SW_IN\", \"value\": 0.0, \"is_present\": true, \"mean\": -288.103176984494, \"std\": 510.7487266239311, \"err_low\": -1309.6006302323563, \"err_high\": 733.3942762633682}, {\"time\": \"2009-02-22T18:30:00\", \"variable\": \"SW_IN\", \"value\": 0.0, \"is_present\": true, \"mean\": -290.6546032975439, \"std\": 510.7487266239311, \"err_low\": -1312.1520565454061, \"err_high\": 730.8428499503183}, {\"time\": \"2009-02-22T19:00:00\", \"variable\": \"SW_IN\", \"value\": 0.0, \"is_present\": true, \"mean\": -290.24375868577266, \"std\": 510.74872662393136, \"err_low\": -1311.7412119336354, \"err_high\": 731.25369456209}, {\"time\": \"2009-02-22T19:30:00\", \"variable\": \"SW_IN\", \"value\": 0.0, \"is_present\": true, \"mean\": -290.55145214640726, \"std\": 510.7487266239311, \"err_low\": -1312.0489053942695, \"err_high\": 730.9460011014548}, {\"time\": \"2009-02-22T20:00:00\", \"variable\": \"SW_IN\", \"value\": 0.0, \"is_present\": true, \"mean\": -291.9154739168002, \"std\": 510.74872662393136, \"err_low\": -1313.412927164663, \"err_high\": 729.5819793310625}, {\"time\": \"2009-02-22T20:30:00\", \"variable\": \"SW_IN\", \"value\": 0.0, \"is_present\": true, \"mean\": -292.74611322956594, \"std\": 510.74872662393074, \"err_low\": -1314.2435664774275, \"err_high\": 728.7513400182955}, {\"time\": \"2009-02-22T21:00:00\", \"variable\": \"SW_IN\", \"value\": 0.0, \"is_present\": true, \"mean\": -292.81453227088895, \"std\": 510.74872662393057, \"err_low\": -1314.3119855187501, \"err_high\": 728.6829209769721}, {\"time\": \"2009-02-22T21:30:00\", \"variable\": \"SW_IN\", \"value\": 0.0, \"is_present\": true, \"mean\": -293.1994211136039, \"std\": 510.74872662393017, \"err_low\": -1314.6968743614643, \"err_high\": 728.2980321342565}, {\"time\": \"2009-02-22T22:00:00\", \"variable\": \"SW_IN\", \"value\": 0.0, \"is_present\": true, \"mean\": -294.5016489159807, \"std\": 510.7487266239311, \"err_low\": -1315.999102163843, \"err_high\": 726.9958043318815}, {\"time\": \"2009-02-22T22:30:00\", \"variable\": \"SW_IN\", \"value\": 0.0, \"is_present\": true, \"mean\": -301.61544282199293, \"std\": 510.74872662393085, \"err_low\": -1323.1128960698547, \"err_high\": 719.8820104258688}, {\"time\": \"2009-02-22T23:00:00\", \"variable\": \"SW_IN\", \"value\": 0.0, \"is_present\": true, \"mean\": -303.5976995969178, \"std\": 510.74872662393074, \"err_low\": -1325.0951528447792, \"err_high\": 717.8997536509437}, {\"time\": \"2009-02-22T23:30:00\", \"variable\": \"SW_IN\", \"value\": 0.0, \"is_present\": true, \"mean\": -304.92855682035605, \"std\": 510.7487266239304, \"err_low\": -1326.4260100682168, \"err_high\": 716.5688964275048}, {\"time\": \"2009-02-23T00:00:00\", \"variable\": \"SW_IN\", \"value\": 0.0, \"is_present\": true, \"mean\": -308.0881679590614, \"std\": 510.7487266239304, \"err_low\": -1329.5856212069223, \"err_high\": 713.4092852887993}, {\"time\": \"2009-02-23T00:30:00\", \"variable\": \"SW_IN\", \"value\": 0.0, \"is_present\": true, \"mean\": -311.7113377182806, \"std\": 510.7487266239309, \"err_low\": -1333.2087909661425, \"err_high\": 709.7861155295811}, {\"time\": \"2009-02-23T01:00:00\", \"variable\": \"SW_IN\", \"value\": 0.0, \"is_present\": true, \"mean\": -311.7832568560216, \"std\": 510.74872662393085, \"err_low\": -1333.2807101038834, \"err_high\": 709.7141963918401}, {\"time\": \"2009-02-23T01:30:00\", \"variable\": \"SW_IN\", \"value\": 0.0, \"is_present\": true, \"mean\": -311.3719878204863, \"std\": 510.7487266239309, \"err_low\": -1332.8694410683481, \"err_high\": 710.1254654273755}, {\"time\": \"2009-02-23T02:00:00\", \"variable\": \"SW_IN\", \"value\": 0.0, \"is_present\": true, \"mean\": -315.2871688794705, \"std\": 510.7487266239313, \"err_low\": -1336.784622127333, \"err_high\": 706.2102843683921}, {\"time\": \"2009-02-23T02:30:00\", \"variable\": \"SW_IN\", \"value\": 0.0, \"is_present\": true, \"mean\": -320.75833397108994, \"std\": 510.74872662393085, \"err_low\": -1342.2557872189516, \"err_high\": 700.7391192767718}, {\"time\": \"2009-02-23T03:00:00\", \"variable\": \"SW_IN\", \"value\": 0.0, \"is_present\": true, \"mean\": -318.2305783137084, \"std\": 510.74872662393153, \"err_low\": -1339.7280315615715, \"err_high\": 703.2668749341547}, {\"time\": \"2009-02-23T03:30:00\", \"variable\": \"SW_IN\", \"value\": 0.0, \"is_present\": true, \"mean\": -314.9675527293072, \"std\": 510.7487266239311, \"err_low\": -1336.4650059771693, \"err_high\": 706.529900518555}, {\"time\": \"2009-02-23T04:00:00\", \"variable\": \"SW_IN\", \"value\": 0.0, \"is_present\": true, \"mean\": -312.06184270842, \"std\": 510.7487266239313, \"err_low\": -1333.5592959562825, \"err_high\": 709.4356105394427}, {\"time\": \"2009-02-23T04:30:00\", \"variable\": \"SW_IN\", \"value\": 0.0, \"is_present\": true, \"mean\": -310.4630910210804, \"std\": 510.7487266239306, \"err_low\": -1331.9605442689417, \"err_high\": 711.0343622267808}, {\"time\": \"2009-02-23T05:00:00\", \"variable\": \"SW_IN\", \"value\": 0.0, \"is_present\": true, \"mean\": -310.67386799856615, \"std\": 510.7487266239301, \"err_low\": -1332.1713212464265, \"err_high\": 710.8235852492941}, {\"time\": \"2009-02-23T05:30:00\", \"variable\": \"SW_IN\", \"value\": 0.0, \"is_present\": true, \"mean\": -310.8062469677186, \"std\": 510.7487266239313, \"err_low\": -1332.303700215581, \"err_high\": 710.691206280144}, {\"time\": \"2009-02-23T06:00:00\", \"variable\": \"SW_IN\", \"value\": 0.0, \"is_present\": true, \"mean\": -309.4607649694545, \"std\": 510.74872662393136, \"err_low\": -1330.9582182173172, \"err_high\": 712.0366882784083}, {\"time\": \"2009-02-23T06:30:00\", \"variable\": \"SW_IN\", \"value\": 0.0, \"is_present\": true, \"mean\": -310.34377881660623, \"std\": 510.74872662393085, \"err_low\": -1331.841232064468, \"err_high\": 711.1536744312555}, {\"time\": \"2009-02-23T07:00:00\", \"variable\": \"SW_IN\", \"value\": 0.0, \"is_present\": true, \"mean\": -315.36647180694314, \"std\": 510.74872662393085, \"err_low\": -1336.863925054805, \"err_high\": 706.1309814409185}, {\"time\": \"2009-02-23T07:30:00\", \"variable\": \"SW_IN\", \"value\": 0.75, \"is_present\": true, \"mean\": -319.0355175340315, \"std\": 510.74872662393085, \"err_low\": -1340.5329707818933, \"err_high\": 702.4619357138301}, {\"time\": \"2009-02-23T08:00:00\", \"variable\": \"SW_IN\", \"value\": 6.0, \"is_present\": true, \"mean\": -310.5034791559516, \"std\": 510.748726623931, \"err_low\": -1332.0009324038137, \"err_high\": 710.9939740919104}, {\"time\": \"2009-02-23T08:30:00\", \"variable\": \"SW_IN\", \"value\": 19.02, \"is_present\": true, \"mean\": -291.22359280192563, \"std\": 510.74872662393136, \"err_low\": -1312.7210460497884, \"err_high\": 730.2738604459371}, {\"time\": \"2009-02-23T09:00:00\", \"variable\": \"SW_IN\", \"value\": 54.83, \"is_present\": true, \"mean\": -269.0542400674804, \"std\": 510.74872662393074, \"err_low\": -1290.551693315342, \"err_high\": 752.443213180381}, {\"time\": \"2009-02-23T09:30:00\", \"variable\": \"SW_IN\", \"value\": 76.25, \"is_present\": true, \"mean\": -239.70651258707034, \"std\": 510.74872662393074, \"err_low\": -1261.2039658349318, \"err_high\": 781.7909406607912}, {\"time\": \"2009-02-23T10:00:00\", \"variable\": \"SW_IN\", \"value\": 50.22, \"is_present\": true, \"mean\": -219.24458315872442, \"std\": 510.74872662393165, \"err_low\": -1240.7420364065877, \"err_high\": 802.2528700891389}, {\"time\": \"2009-02-23T10:30:00\", \"variable\": \"SW_IN\", \"value\": 63.29, \"is_present\": true, \"mean\": -156.24353968210983, \"std\": 510.74872662393085, \"err_low\": -1177.7409929299715, \"err_high\": 865.2539135657519}, {\"time\": \"2009-02-23T11:00:00\", \"variable\": \"SW_IN\", \"value\": 86.03, \"is_present\": true, \"mean\": -64.66918903868476, \"std\": 510.74872662393074, \"err_low\": -1086.1666422865462, \"err_high\": 956.8282642091767}, {\"time\": \"2009-02-23T11:30:00\", \"variable\": \"SW_IN\", \"value\": 97.32, \"is_present\": true, \"mean\": -21.125159190670743, \"std\": 510.74872662393074, \"err_low\": -1042.6226124385323, \"err_high\": 1000.3722940571907}, {\"time\": \"2009-02-23T12:00:00\", \"variable\": \"SW_IN\", \"value\": 106.75, \"is_present\": true, \"mean\": 4.012754344778855, \"std\": 510.7487266239309, \"err_low\": -1017.484698903083, \"err_high\": 1025.5102075926407}, {\"time\": \"2009-02-23T12:30:00\", \"variable\": \"SW_IN\", \"value\": 142.63, \"is_present\": true, \"mean\": 24.207840104238954, \"std\": 510.748726623931, \"err_low\": -997.2896131436231, \"err_high\": 1045.705293352101}, {\"time\": \"2009-02-23T13:00:00\", \"variable\": \"SW_IN\", \"value\": 206.0, \"is_present\": true, \"mean\": 45.0131874618167, \"std\": 510.74872662393074, \"err_low\": -976.4842657860447, \"err_high\": 1066.5106407096782}, {\"time\": \"2009-02-23T13:30:00\", \"variable\": \"SW_IN\", \"value\": 195.47, \"is_present\": true, \"mean\": 32.18573995093749, \"std\": 510.7487266239312, \"err_low\": -989.3117132969248, \"err_high\": 1053.6831931988}, {\"time\": \"2009-02-23T14:00:00\", \"variable\": \"SW_IN\", \"value\": 104.56, \"is_present\": true, \"mean\": -24.11023175770994, \"std\": 510.74872662393057, \"err_low\": -1045.607685005571, \"err_high\": 997.3872214901512}, {\"time\": \"2009-02-23T14:30:00\", \"variable\": \"SW_IN\", \"value\": 83.98, \"is_present\": true, \"mean\": -75.45933314624979, \"std\": 510.74872662393085, \"err_low\": -1096.9567863941115, \"err_high\": 946.0381201016119}, {\"time\": \"2009-02-23T15:00:00\", \"variable\": \"SW_IN\", \"value\": 92.06, \"is_present\": true, \"mean\": -99.9421168985567, \"std\": 510.74872662393057, \"err_low\": -1121.4395701464177, \"err_high\": 921.5553363493044}, {\"time\": \"2009-02-23T15:30:00\", \"variable\": \"SW_IN\", \"value\": 57.84, \"is_present\": true, \"mean\": -114.44284251133065, \"std\": 510.74872662393074, \"err_low\": -1135.9402957591922, \"err_high\": 907.0546107365308}, {\"time\": \"2009-02-23T16:00:00\", \"variable\": \"SW_IN\", \"value\": 40.63, \"is_present\": true, \"mean\": -148.72959968114372, \"std\": 510.7487266239311, \"err_low\": -1170.2270529290058, \"err_high\": 872.7678535667185}, {\"time\": \"2009-02-23T16:30:00\", \"variable\": \"SW_IN\", \"value\": 57.78, \"is_present\": true, \"mean\": -203.6928239674114, \"std\": 510.74872662393057, \"err_low\": -1225.1902772152725, \"err_high\": 817.8046292804497}], \"data-9cabf636876a8b566299cef4371cc984\": [{\"time\": \"2009-02-19T13:00:00\", \"variable\": \"VPD\", \"value\": 1.951, \"is_present\": true, \"mean\": 7.969097051352772, \"std\": 8.988545819112067, \"err_low\": -10.007994586871362, \"err_high\": 25.946188689576907}, {\"time\": \"2009-02-19T13:30:00\", \"variable\": \"VPD\", \"value\": 2.085, \"is_present\": true, \"mean\": 9.852729301973248, \"std\": 13.379646315582018, \"err_low\": -16.90656332919079, \"err_high\": 36.612021933137285}, {\"time\": \"2009-02-19T14:00:00\", \"variable\": \"VPD\", \"value\": 2.271, \"is_present\": true, \"mean\": 9.226562421788664, \"std\": 13.501907490334006, \"err_low\": -17.777252558879347, \"err_high\": 36.230377402456675}, {\"time\": \"2009-02-19T14:30:00\", \"variable\": \"VPD\", \"value\": 2.442, \"is_present\": true, \"mean\": 11.586764176702083, \"std\": 13.46715723954602, \"err_low\": -15.347550302389958, \"err_high\": 38.52107865579413}, {\"time\": \"2009-02-19T15:00:00\", \"variable\": \"VPD\", \"value\": 2.549, \"is_present\": true, \"mean\": 11.393659862949296, \"std\": 13.460702982704275, \"err_low\": -15.527746102459254, \"err_high\": 38.315065828357845}, {\"time\": \"2009-02-19T15:30:00\", \"variable\": \"VPD\", \"value\": 2.464, \"is_present\": true, \"mean\": 9.9643031286272, \"std\": 13.459484224988397, \"err_low\": -16.954665321349594, \"err_high\": 36.883271578603996}, {\"time\": \"2009-02-19T16:00:00\", \"variable\": \"VPD\", \"value\": 2.43, \"is_present\": true, \"mean\": 7.304327519094696, \"std\": 13.459268413867147, \"err_low\": -19.614209308639598, \"err_high\": 34.22286434682899}, {\"time\": \"2009-02-19T16:30:00\", \"variable\": \"VPD\", \"value\": 2.814, \"is_present\": true, \"mean\": 3.8041174023937296, \"std\": 13.459229598177979, \"err_low\": -23.11434179396223, \"err_high\": 30.722576598749686}, {\"time\": \"2009-02-19T17:00:00\", \"variable\": \"VPD\", \"value\": 2.86, \"is_present\": true, \"mean\": 0.8143820985733603, \"std\": 13.45922270838655, \"err_low\": -26.10406331819974, \"err_high\": 27.73282751534646}, {\"time\": \"2009-02-19T17:30:00\", \"variable\": \"VPD\", \"value\": 2.884, \"is_present\": true, \"mean\": -2.5136139693187456, \"std\": 13.459221476712512, \"err_low\": -29.43205692274377, \"err_high\": 24.40482898410628}, {\"time\": \"2009-02-19T18:00:00\", \"variable\": \"VPD\", \"value\": 2.761, \"is_present\": true, \"mean\": -5.02295894215906, \"std\": 13.459221257560616, \"err_low\": -31.941401457280293, \"err_high\": 21.89548357296217}, {\"time\": \"2009-02-19T18:30:00\", \"variable\": \"VPD\", \"value\": 2.582, \"is_present\": true, \"mean\": -6.662090815127457, \"std\": 13.459221218454818, \"err_low\": -33.58053325203709, \"err_high\": 20.25635162178218}, {\"time\": \"2009-02-19T19:00:00\", \"variable\": \"VPD\", \"value\": 2.639, \"is_present\": true, \"mean\": -7.534515781602567, \"std\": 13.459221211489371, \"err_low\": -34.45295820458131, \"err_high\": 19.383926641376174}, {\"time\": \"2009-02-19T19:30:00\", \"variable\": \"VPD\", \"value\": 2.508, \"is_present\": true, \"mean\": -8.018965867360272, \"std\": 13.459221210247296, \"err_low\": -34.937408287854865, \"err_high\": 18.89947655313432}, {\"time\": \"2009-02-19T20:00:00\", \"variable\": \"VPD\", \"value\": 2.251, \"is_present\": true, \"mean\": -8.236991449670686, \"std\": 13.45922121002597, \"err_low\": -35.15543386972263, \"err_high\": 18.681450970381253}, {\"time\": \"2009-02-19T20:30:00\", \"variable\": \"VPD\", \"value\": 1.925, \"is_present\": true, \"mean\": -8.40218607899623, \"std\": 13.4592212099865, \"err_low\": -35.32062849896923, \"err_high\": 18.51625634097677}, {\"time\": \"2009-02-19T21:00:00\", \"variable\": \"VPD\", \"value\": 1.659, \"is_present\": true, \"mean\": -8.763730039445957, \"std\": 13.45922120997949, \"err_low\": -35.68217245940494, \"err_high\": 18.154712380513022}, {\"time\": \"2009-02-19T21:30:00\", \"variable\": \"VPD\", \"value\": 1.235, \"is_present\": true, \"mean\": -9.114432925050824, \"std\": 13.459221209978233, \"err_low\": -36.03287534500729, \"err_high\": 17.804009494905642}, {\"time\": \"2009-02-19T22:00:00\", \"variable\": \"VPD\", \"value\": 0.609, \"is_present\": true, \"mean\": -9.760804984437474, \"std\": 13.459221209978027, \"err_low\": -36.67924740439353, \"err_high\": 17.15763743551858}, {\"time\": \"2009-02-19T22:30:00\", \"variable\": \"VPD\", \"value\": 0.228, \"is_present\": true, \"mean\": -10.763355940754785, \"std\": 13.459221209977953, \"err_low\": -37.68179836071069, \"err_high\": 16.15508647920112}, {\"time\": \"2009-02-19T23:00:00\", \"variable\": \"VPD\", \"value\": 0.174, \"is_present\": true, \"mean\": -11.47757359266269, \"std\": 13.459221209977969, \"err_low\": -38.39601601261863, \"err_high\": 15.440868827293247}, {\"time\": \"2009-02-19T23:30:00\", \"variable\": \"VPD\", \"value\": 0.118, \"is_present\": true, \"mean\": -11.733657892061693, \"std\": 13.459221209977978, \"err_low\": -38.65210031201765, \"err_high\": 15.184784527894262}, {\"time\": \"2009-02-20T00:00:00\", \"variable\": \"VPD\", \"value\": 0.074, \"is_present\": true, \"mean\": -12.027352622595753, \"std\": 13.459221209977953, \"err_low\": -38.94579504255166, \"err_high\": 14.891089797360152}, {\"time\": \"2009-02-20T00:30:00\", \"variable\": \"VPD\", \"value\": 0.049, \"is_present\": true, \"mean\": -12.324775775063557, \"std\": 13.459221209977963, \"err_low\": -39.24321819501948, \"err_high\": 14.59366664489237}, {\"time\": \"2009-02-20T01:00:00\", \"variable\": \"VPD\", \"value\": 0.029, \"is_present\": true, \"mean\": -12.581886457562224, \"std\": 13.459221209977951, \"err_low\": -39.50032887751813, \"err_high\": 14.336555962393678}, {\"time\": \"2009-02-20T01:30:00\", \"variable\": \"VPD\", \"value\": 0.016, \"is_present\": true, \"mean\": -12.832956463014025, \"std\": 13.459221209977969, \"err_low\": -39.751398882969966, \"err_high\": 14.085485956941913}, {\"time\": \"2009-02-20T02:00:00\", \"variable\": \"VPD\", \"value\": 0.006, \"is_present\": true, \"mean\": -12.931869687334132, \"std\": 13.459221209977965, \"err_low\": -39.850312107290065, \"err_high\": 13.986572732621799}, {\"time\": \"2009-02-20T02:30:00\", \"variable\": \"VPD\", \"value\": 0.001, \"is_present\": true, \"mean\": -12.914156820282695, \"std\": 13.459221209977962, \"err_low\": -39.83259924023862, \"err_high\": 14.004285599673228}, {\"time\": \"2009-02-20T03:00:00\", \"variable\": \"VPD\", \"value\": 0.0, \"is_present\": true, \"mean\": -12.903039177844196, \"std\": 13.459221209977935, \"err_low\": -39.821481597800066, \"err_high\": 14.015403242111674}, {\"time\": \"2009-02-20T03:30:00\", \"variable\": \"VPD\", \"value\": 0.0, \"is_present\": true, \"mean\": -12.91432025275687, \"std\": 13.459221209977963, \"err_low\": -39.832762672712796, \"err_high\": 14.004122167199057}, {\"time\": \"2009-02-20T04:00:00\", \"variable\": \"VPD\", \"value\": 0.0, \"is_present\": true, \"mean\": -12.91969246173915, \"std\": 13.459221209977946, \"err_low\": -39.83813488169504, \"err_high\": 13.998749958216742}, {\"time\": \"2009-02-20T04:30:00\", \"variable\": \"VPD\", \"value\": 0.0, \"is_present\": true, \"mean\": -12.921203263334395, \"std\": 13.459221209977969, \"err_low\": -39.83964568329033, \"err_high\": 13.997239156621543}, {\"time\": \"2009-02-20T05:00:00\", \"variable\": \"VPD\", \"value\": 0.0, \"is_present\": true, \"mean\": -12.863474375422165, \"std\": 13.459221209977942, \"err_low\": -39.78191679537805, \"err_high\": 14.05496804453372}, {\"time\": \"2009-02-20T05:30:00\", \"variable\": \"VPD\", \"value\": 0.0, \"is_present\": true, \"mean\": -12.829325989489863, \"std\": 13.459221209977951, \"err_low\": -39.74776840944577, \"err_high\": 14.089116430466039}, {\"time\": \"2009-02-20T06:00:00\", \"variable\": \"VPD\", \"value\": 0.0, \"is_present\": true, \"mean\": -12.820588090790341, \"std\": 13.459221209977942, \"err_low\": -39.739030510746225, \"err_high\": 14.097854329165543}, {\"time\": \"2009-02-20T06:30:00\", \"variable\": \"VPD\", \"value\": 0.0, \"is_present\": true, \"mean\": -12.779841996823695, \"std\": 13.459221209977947, \"err_low\": -39.698284416779586, \"err_high\": 14.1386004231322}, {\"time\": \"2009-02-20T07:00:00\", \"variable\": \"VPD\", \"value\": 0.0, \"is_present\": true, \"mean\": -12.766590135046822, \"std\": 13.459221209977963, \"err_low\": -39.68503255500275, \"err_high\": 14.151852284909104}, {\"time\": \"2009-02-20T07:30:00\", \"variable\": \"VPD\", \"value\": 0.0, \"is_present\": true, \"mean\": -12.7680278725893, \"std\": 13.459221209977963, \"err_low\": -39.68647029254522, \"err_high\": 14.150414547366626}, {\"time\": \"2009-02-20T08:00:00\", \"variable\": \"VPD\", \"value\": 0.0, \"is_present\": true, \"mean\": -12.624990110601928, \"std\": 13.459221209977962, \"err_low\": -39.54343253055785, \"err_high\": 14.293452309353995}, {\"time\": \"2009-02-20T08:30:00\", \"variable\": \"VPD\", \"value\": 0.0, \"is_present\": true, \"mean\": -12.142943715534528, \"std\": 13.45922120997796, \"err_low\": -39.06138613549045, \"err_high\": 14.775498704421391}, {\"time\": \"2009-02-20T09:00:00\", \"variable\": \"VPD\", \"value\": 0.0, \"is_present\": true, \"mean\": -11.443555789174404, \"std\": 13.459221209977965, \"err_low\": -38.361998209130334, \"err_high\": 15.474886630781526}, {\"time\": \"2009-02-20T09:30:00\", \"variable\": \"VPD\", \"value\": 0.0, \"is_present\": true, \"mean\": -10.867597468286526, \"std\": 13.459221209977947, \"err_low\": -37.78603988824242, \"err_high\": 16.05084495166937}, {\"time\": \"2009-02-20T10:00:00\", \"variable\": \"VPD\", \"value\": 0.0, \"is_present\": true, \"mean\": -10.372735822623731, \"std\": 13.45922120997796, \"err_low\": -37.29117824257965, \"err_high\": 16.545706597332188}, {\"time\": \"2009-02-20T10:30:00\", \"variable\": \"VPD\", \"value\": 0.0, \"is_present\": true, \"mean\": -9.958574663569838, \"std\": 13.459221209977963, \"err_low\": -36.877017083525764, \"err_high\": 16.95986775638609}, {\"time\": \"2009-02-20T11:00:00\", \"variable\": \"VPD\", \"value\": 0.0, \"is_present\": true, \"mean\": -9.208930718627869, \"std\": 13.459221209977976, \"err_low\": -36.12737313858382, \"err_high\": 17.709511701328083}, {\"time\": \"2009-02-20T11:30:00\", \"variable\": \"VPD\", \"value\": 0.0, \"is_present\": true, \"mean\": -8.73389820073142, \"std\": 13.459221209977962, \"err_low\": -35.65234062068734, \"err_high\": 18.184544219224502}, {\"time\": \"2009-02-20T12:00:00\", \"variable\": \"VPD\", \"value\": 0.0, \"is_present\": true, \"mean\": -8.449631886442369, \"std\": 13.459221209977969, \"err_low\": -35.368074306398306, \"err_high\": 18.46881053351357}, {\"time\": \"2009-02-20T12:30:00\", \"variable\": \"VPD\", \"value\": 0.0, \"is_present\": true, \"mean\": -8.36536146230031, \"std\": 13.45922120997796, \"err_low\": -35.28380388225623, \"err_high\": 18.55308095765561}, {\"time\": \"2009-02-20T13:00:00\", \"variable\": \"VPD\", \"value\": 0.0, \"is_present\": true, \"mean\": -8.250869277854623, \"std\": 13.459221209977963, \"err_low\": -35.16931169781055, \"err_high\": 18.667573142101304}, {\"time\": \"2009-02-20T13:30:00\", \"variable\": \"VPD\", \"value\": 0.0, \"is_present\": true, \"mean\": -7.72275163184618, \"std\": 13.459221209977963, \"err_low\": -34.64119405180211, \"err_high\": 19.195690788109747}, {\"time\": \"2009-02-20T14:00:00\", \"variable\": \"VPD\", \"value\": 0.0, \"is_present\": true, \"mean\": -6.16835223694977, \"std\": 13.459221209977933, \"err_low\": -33.08679465690564, \"err_high\": 20.750090183006098}, {\"time\": \"2009-02-20T14:30:00\", \"variable\": \"VPD\", \"value\": 0.0, \"is_present\": true, \"mean\": -6.548516853194241, \"std\": 13.459221209977954, \"err_low\": -33.46695927315015, \"err_high\": 20.36992556676167}, {\"time\": \"2009-02-20T15:00:00\", \"variable\": \"VPD\", \"value\": 0.0, \"is_present\": true, \"mean\": -7.016848828958376, \"std\": 13.45922120997796, \"err_low\": -33.9352912489143, \"err_high\": 19.901593590997543}, {\"time\": \"2009-02-20T15:30:00\", \"variable\": \"VPD\", \"value\": 0.0, \"is_present\": true, \"mean\": -7.422849345888619, \"std\": 13.459221209977963, \"err_low\": -34.341291765844545, \"err_high\": 19.49559307406731}, {\"time\": \"2009-02-20T16:00:00\", \"variable\": \"VPD\", \"value\": 0.0, \"is_present\": true, \"mean\": -7.9433219213881605, \"std\": 13.459221209977972, \"err_low\": -34.861764341344106, \"err_high\": 18.975120498567783}, {\"time\": \"2009-02-20T16:30:00\", \"variable\": \"VPD\", \"value\": 0.0, \"is_present\": true, \"mean\": -8.745386441773256, \"std\": 13.459221209977947, \"err_low\": -35.66382886172915, \"err_high\": 18.17305597818264}, {\"time\": \"2009-02-20T17:00:00\", \"variable\": \"VPD\", \"value\": 0.0, \"is_present\": true, \"mean\": -10.282192580365471, \"std\": 13.459221209977954, \"err_low\": -37.200635000321384, \"err_high\": 16.636249839590437}, {\"time\": \"2009-02-20T17:30:00\", \"variable\": \"VPD\", \"value\": 0.0, \"is_present\": true, \"mean\": -9.911350053888718, \"std\": 13.552333685115574, \"err_low\": -37.016017424119866, \"err_high\": 17.19331731634243}, {\"time\": \"2009-02-20T18:00:00\", \"variable\": \"VPD\", \"value\": 0.0, \"is_present\": true, \"mean\": -10.705984843476315, \"std\": 13.554022594001344, \"err_low\": -37.81403003147901, \"err_high\": 16.402060344526372}, {\"time\": \"2009-02-20T18:30:00\", \"variable\": \"VPD\", \"value\": 0.0, \"is_present\": true, \"mean\": -11.20138359589026, \"std\": 13.55445882856199, \"err_low\": -38.31030125301424, \"err_high\": 15.907534061233719}, {\"time\": \"2009-02-20T19:00:00\", \"variable\": \"VPD\", \"value\": 0.0, \"is_present\": true, \"mean\": -11.50084724713355, \"std\": 13.554660279451836, \"err_low\": -38.610167806037225, \"err_high\": 15.608473311770123}, {\"time\": \"2009-02-20T19:30:00\", \"variable\": \"VPD\", \"value\": 0.0, \"is_present\": true, \"mean\": -11.754469469903203, \"std\": 13.55469235196522, \"err_low\": -38.863854173833644, \"err_high\": 15.354915234027239}, {\"time\": \"2009-02-20T20:00:00\", \"variable\": \"VPD\", \"value\": 0.0, \"is_present\": true, \"mean\": -11.86377307050762, \"std\": 13.554700533934618, \"err_low\": -38.973174138376855, \"err_high\": 15.245627997361616}, {\"time\": \"2009-02-20T20:30:00\", \"variable\": \"VPD\", \"value\": 0.0, \"is_present\": true, \"mean\": -11.894475332538224, \"std\": 13.554702044593318, \"err_low\": -39.00387942172486, \"err_high\": 15.214928756648412}, {\"time\": \"2009-02-20T21:00:00\", \"variable\": \"VPD\", \"value\": 0.0, \"is_present\": true, \"mean\": -11.93814700195826, \"std\": 13.554702382903246, \"err_low\": -39.04755176776475, \"err_high\": 15.171257763848232}, {\"time\": \"2009-02-20T21:30:00\", \"variable\": \"VPD\", \"value\": 0.0, \"is_present\": true, \"mean\": -12.002743810949497, \"std\": 13.554702449963234, \"err_low\": -39.112148710875964, \"err_high\": 15.10666108897697}, {\"time\": \"2009-02-20T22:00:00\", \"variable\": \"VPD\", \"value\": 0.0, \"is_present\": true, \"mean\": -12.075134084059542, \"std\": 13.554702464298128, \"err_low\": -39.1845390126558, \"err_high\": 15.034270844536714}, {\"time\": \"2009-02-20T22:30:00\", \"variable\": \"VPD\", \"value\": 0.0, \"is_present\": true, \"mean\": -13.028158762399745, \"std\": 13.462311048128408, \"err_low\": -39.95278085865656, \"err_high\": 13.89646333385707}, {\"time\": \"2009-02-20T23:00:00\", \"variable\": \"VPD\", \"value\": 0.0, \"is_present\": true, \"mean\": -12.951520666964608, \"std\": 13.460175264992154, \"err_low\": -39.871871196948916, \"err_high\": 13.9688298630197}, {\"time\": \"2009-02-20T23:30:00\", \"variable\": \"VPD\", \"value\": 0.0, \"is_present\": true, \"mean\": -12.917861269279925, \"std\": 13.459472040504288, \"err_low\": -39.8368053502885, \"err_high\": 14.00108281172865}, {\"time\": \"2009-02-21T00:00:00\", \"variable\": \"VPD\", \"value\": 0.0, \"is_present\": true, \"mean\": -12.92794311722816, \"std\": 13.459262198687878, \"err_low\": -39.846467514603916, \"err_high\": 13.990581280147595}, {\"time\": \"2009-02-21T00:30:00\", \"variable\": \"VPD\", \"value\": 0.0, \"is_present\": true, \"mean\": -12.983723987965245, \"std\": 13.459229182240163, \"err_low\": -39.90218235244557, \"err_high\": 13.934734376515081}, {\"time\": \"2009-02-21T01:00:00\", \"variable\": \"VPD\", \"value\": 0.0, \"is_present\": true, \"mean\": -13.033757160097359, \"std\": 13.459222566014889, \"err_low\": -39.95220229212714, \"err_high\": 13.884687971932419}, {\"time\": \"2009-02-21T01:30:00\", \"variable\": \"VPD\", \"value\": 0.0, \"is_present\": true, \"mean\": -13.098160571140536, \"std\": 13.459221459309765, \"err_low\": -40.016603489760065, \"err_high\": 13.820282347478994}, {\"time\": \"2009-02-21T02:00:00\", \"variable\": \"VPD\", \"value\": 0.0, \"is_present\": true, \"mean\": -13.127809085331545, \"std\": 13.459221253581497, \"err_low\": -40.04625159249454, \"err_high\": 13.790633421831448}, {\"time\": \"2009-02-21T02:30:00\", \"variable\": \"VPD\", \"value\": 0.0, \"is_present\": true, \"mean\": -13.14492678338372, \"std\": 13.459221217843854, \"err_low\": -40.06336921907143, \"err_high\": 13.773515652303988}, {\"time\": \"2009-02-21T03:00:00\", \"variable\": \"VPD\", \"value\": 0.0, \"is_present\": true, \"mean\": -13.157817853855107, \"std\": 13.459221211369508, \"err_low\": -40.07626027659413, \"err_high\": 13.760624568883909}, {\"time\": \"2009-02-21T03:30:00\", \"variable\": \"VPD\", \"value\": 0.0, \"is_present\": true, \"mean\": -13.189824700211709, \"std\": 13.459221210227176, \"err_low\": -40.108267120666056, \"err_high\": 13.728617720242642}, {\"time\": \"2009-02-21T04:00:00\", \"variable\": \"VPD\", \"value\": 0.0, \"is_present\": true, \"mean\": -13.22822933006129, \"std\": 13.459221210022234, \"err_low\": -40.14667175010575, \"err_high\": 13.690213089983178}, {\"time\": \"2009-02-21T04:30:00\", \"variable\": \"VPD\", \"value\": 0.0, \"is_present\": true, \"mean\": -13.228721083916412, \"std\": 13.459221209985872, \"err_low\": -40.14716350388815, \"err_high\": 13.689721336055332}, {\"time\": \"2009-02-21T05:00:00\", \"variable\": \"VPD\", \"value\": 0.0, \"is_present\": true, \"mean\": -13.246111874370516, \"std\": 13.459221209979374, \"err_low\": -40.164554294329264, \"err_high\": 13.672330545588231}, {\"time\": \"2009-02-21T05:30:00\", \"variable\": \"VPD\", \"value\": 0.0, \"is_present\": true, \"mean\": -13.33756247148374, \"std\": 13.45922120997822, \"err_low\": -40.25600489144018, \"err_high\": 13.580879948472699}, {\"time\": \"2009-02-21T06:00:00\", \"variable\": \"VPD\", \"value\": 0.0, \"is_present\": true, \"mean\": -13.360686897209636, \"std\": 13.459221209977997, \"err_low\": -40.279129317165626, \"err_high\": 13.557755522746358}, {\"time\": \"2009-02-21T06:30:00\", \"variable\": \"VPD\", \"value\": 0.0, \"is_present\": true, \"mean\": -13.36859660709425, \"std\": 13.459221209977954, \"err_low\": -40.287039027050156, \"err_high\": 13.549845812861658}, {\"time\": \"2009-02-21T07:00:00\", \"variable\": \"VPD\", \"value\": 0.0, \"is_present\": true, \"mean\": -13.309742821350419, \"std\": 13.459221209977951, \"err_low\": -40.22818524130632, \"err_high\": 13.608699598605483}, {\"time\": \"2009-02-21T07:30:00\", \"variable\": \"VPD\", \"value\": 0.0, \"is_present\": true, \"mean\": -13.26563993598717, \"std\": 13.459221209977944, \"err_low\": -40.18408235594306, \"err_high\": 13.652802483968717}, {\"time\": \"2009-02-21T08:00:00\", \"variable\": \"VPD\", \"value\": 0.0, \"is_present\": true, \"mean\": -12.914387469489466, \"std\": 13.459221209977946, \"err_low\": -39.83282988944536, \"err_high\": 14.004054950466426}, {\"time\": \"2009-02-21T08:30:00\", \"variable\": \"VPD\", \"value\": 0.0, \"is_present\": true, \"mean\": -12.100020297737867, \"std\": 13.459221209977965, \"err_low\": -39.018462717693794, \"err_high\": 14.818422122218063}, {\"time\": \"2009-02-21T09:00:00\", \"variable\": \"VPD\", \"value\": 0.0, \"is_present\": true, \"mean\": -11.095090878409582, \"std\": 13.459221209977947, \"err_low\": -38.01353329836547, \"err_high\": 15.823351541546312}, {\"time\": \"2009-02-21T09:30:00\", \"variable\": \"VPD\", \"value\": 0.0, \"is_present\": true, \"mean\": -10.166140548730848, \"std\": 13.45922120997796, \"err_low\": -37.08458296868677, \"err_high\": 16.75230187122507}, {\"time\": \"2009-02-21T10:00:00\", \"variable\": \"VPD\", \"value\": 0.0, \"is_present\": true, \"mean\": -9.591616353361225, \"std\": 13.459221209977963, \"err_low\": -36.510058773317155, \"err_high\": 17.326826066594702}, {\"time\": \"2009-02-21T10:30:00\", \"variable\": \"VPD\", \"value\": 0.0, \"is_present\": true, \"mean\": -7.2854263980089415, \"std\": 13.459221209977972, \"err_low\": -34.20386881796489, \"err_high\": 19.633016021947004}, {\"time\": \"2009-02-21T11:00:00\", \"variable\": \"VPD\", \"value\": 0.0, \"is_present\": true, \"mean\": -4.1533010294271975, \"std\": 13.45922120997795, \"err_low\": -31.071743449383096, \"err_high\": 22.7651413905287}, {\"time\": \"2009-02-21T11:30:00\", \"variable\": \"VPD\", \"value\": 0.0, \"is_present\": true, \"mean\": -2.3243065088380366, \"std\": 13.459221209977967, \"err_low\": -29.242748928793972, \"err_high\": 24.594135911117895}, {\"time\": \"2009-02-21T12:00:00\", \"variable\": \"VPD\", \"value\": 0.0, \"is_present\": true, \"mean\": -1.1023793886576767, \"std\": 13.459221209977965, \"err_low\": -28.020821808613608, \"err_high\": 25.816063031298253}, {\"time\": \"2009-02-21T12:30:00\", \"variable\": \"VPD\", \"value\": 0.013, \"is_present\": true, \"mean\": -0.11603964851225612, \"std\": 13.459221209977954, \"err_low\": -27.034482068468165, \"err_high\": 26.802402771443653}, {\"time\": \"2009-02-21T13:00:00\", \"variable\": \"VPD\", \"value\": 0.348, \"is_present\": true, \"mean\": 0.9621085174574846, \"std\": 13.459221209977969, \"err_low\": -25.956333902498454, \"err_high\": 27.88055093741342}, {\"time\": \"2009-02-21T13:30:00\", \"variable\": \"VPD\", \"value\": 0.529, \"is_present\": true, \"mean\": 1.2162836964293633, \"std\": 13.459221209977944, \"err_low\": -25.702158723526523, \"err_high\": 28.134726116385252}, {\"time\": \"2009-02-21T14:00:00\", \"variable\": \"VPD\", \"value\": 0.516, \"is_present\": true, \"mean\": -0.3646241437741651, \"std\": 13.459221209977967, \"err_low\": -27.2830665637301, \"err_high\": 26.55381827618177}, {\"time\": \"2009-02-21T14:30:00\", \"variable\": \"VPD\", \"value\": 0.532, \"is_present\": true, \"mean\": -1.9377092914760343, \"std\": 13.45922120997794, \"err_low\": -28.856151711431913, \"err_high\": 24.980733128479848}, {\"time\": \"2009-02-21T15:00:00\", \"variable\": \"VPD\", \"value\": 0.578, \"is_present\": true, \"mean\": -2.527358339586229, \"std\": 13.45922120997796, \"err_low\": -29.44580075954215, \"err_high\": 24.39108408036969}, {\"time\": \"2009-02-21T15:30:00\", \"variable\": \"VPD\", \"value\": 0.554, \"is_present\": true, \"mean\": -3.6001410808787124, \"std\": 13.459221209977969, \"err_low\": -30.51858350083465, \"err_high\": 23.318301339077223}, {\"time\": \"2009-02-21T16:00:00\", \"variable\": \"VPD\", \"value\": 0.493, \"is_present\": true, \"mean\": -4.99546365548147, \"std\": 13.459221209977954, \"err_low\": -31.913906075437378, \"err_high\": 21.92297876447444}, {\"time\": \"2009-02-21T16:30:00\", \"variable\": \"VPD\", \"value\": 0.441, \"is_present\": true, \"mean\": -7.127243389006874, \"std\": 13.459221209977946, \"err_low\": -34.045685808962766, \"err_high\": 19.791199030949016}, {\"time\": \"2009-02-21T17:00:00\", \"variable\": \"VPD\", \"value\": 0.363, \"is_present\": true, \"mean\": -9.289878557978252, \"std\": 13.459221209977963, \"err_low\": -36.20832097793418, \"err_high\": 17.628563861977675}, {\"time\": \"2009-02-21T17:30:00\", \"variable\": \"VPD\", \"value\": 0.289, \"is_present\": true, \"mean\": -10.594977661824093, \"std\": 13.45922120997796, \"err_low\": -37.51342008178001, \"err_high\": 16.323464758131827}, {\"time\": \"2009-02-21T18:00:00\", \"variable\": \"VPD\", \"value\": 0.262, \"is_present\": true, \"mean\": -11.476894221180384, \"std\": 13.459221209977972, \"err_low\": -38.395336641136325, \"err_high\": 15.44154819877556}, {\"time\": \"2009-02-21T18:30:00\", \"variable\": \"VPD\", \"value\": 0.256, \"is_present\": true, \"mean\": -12.036529780217137, \"std\": 13.459221209977947, \"err_low\": -38.95497220017303, \"err_high\": 14.881912639738758}, {\"time\": \"2009-02-21T19:00:00\", \"variable\": \"VPD\", \"value\": 0.278, \"is_present\": true, \"mean\": -12.27268887664625, \"std\": 13.459221209977954, \"err_low\": -39.19113129660216, \"err_high\": 14.64575354330966}, {\"time\": \"2009-02-21T19:30:00\", \"variable\": \"VPD\", \"value\": 0.338, \"is_present\": true, \"mean\": -12.47525648416416, \"std\": 13.459221209977963, \"err_low\": -39.393698904120086, \"err_high\": 14.443185935791767}, {\"time\": \"2009-02-21T20:00:00\", \"variable\": \"VPD\", \"value\": 0.319, \"is_present\": true, \"mean\": -12.426068931204298, \"std\": 13.459221209977947, \"err_low\": -39.34451135116019, \"err_high\": 14.492373488751596}, {\"time\": \"2009-02-21T20:30:00\", \"variable\": \"VPD\", \"value\": 0.346, \"is_present\": true, \"mean\": -12.430472474020984, \"std\": 13.45922120997797, \"err_low\": -39.348914893976925, \"err_high\": 14.487969945934957}, {\"time\": \"2009-02-21T21:00:00\", \"variable\": \"VPD\", \"value\": 0.353, \"is_present\": true, \"mean\": -12.379052703814182, \"std\": 13.459221209977951, \"err_low\": -39.297495123770084, \"err_high\": 14.53938971614172}, {\"time\": \"2009-02-21T21:30:00\", \"variable\": \"VPD\", \"value\": 0.284, \"is_present\": true, \"mean\": -12.404871436594679, \"std\": 13.45922120997793, \"err_low\": -39.32331385655054, \"err_high\": 14.51357098336118}, {\"time\": \"2009-02-21T22:00:00\", \"variable\": \"VPD\", \"value\": 0.274, \"is_present\": true, \"mean\": -12.5732875905322, \"std\": 13.45922120997795, \"err_low\": -39.4917300104881, \"err_high\": 14.345154829423699}, {\"time\": \"2009-02-21T22:30:00\", \"variable\": \"VPD\", \"value\": 0.135, \"is_present\": true, \"mean\": -12.68653510232058, \"std\": 13.459221209977969, \"err_low\": -39.60497752227651, \"err_high\": 14.231907317635358}, {\"time\": \"2009-02-21T23:00:00\", \"variable\": \"VPD\", \"value\": 0.086, \"is_present\": true, \"mean\": -12.94627514737072, \"std\": 13.459221209977938, \"err_low\": -39.86471756732659, \"err_high\": 13.972167272585157}, {\"time\": \"2009-02-21T23:30:00\", \"variable\": \"VPD\", \"value\": 0.057, \"is_present\": true, \"mean\": -12.957979732671326, \"std\": 13.459221209977965, \"err_low\": -39.876422152627256, \"err_high\": 13.960462687284604}, {\"time\": \"2009-02-22T00:00:00\", \"variable\": \"VPD\", \"value\": 0.012, \"is_present\": true, \"mean\": -12.965362297448777, \"std\": 13.459221209977954, \"err_low\": -39.883804717404686, \"err_high\": 13.953080122507131}, {\"time\": \"2009-02-22T00:30:00\", \"variable\": \"VPD\", \"value\": 0.0, \"is_present\": true, \"mean\": -13.032893798181867, \"std\": 13.45922120997797, \"err_low\": -39.95133621813781, \"err_high\": 13.885548621774074}, {\"time\": \"2009-02-22T01:00:00\", \"variable\": \"VPD\", \"value\": 0.0, \"is_present\": true, \"mean\": -13.043668557605049, \"std\": 13.459221209977954, \"err_low\": -39.962110977560954, \"err_high\": 13.87477386235086}, {\"time\": \"2009-02-22T01:30:00\", \"variable\": \"VPD\", \"value\": 0.0, \"is_present\": true, \"mean\": -13.03019646605328, \"std\": 13.459221209977974, \"err_low\": -39.94863888600923, \"err_high\": 13.888245953902668}, {\"time\": \"2009-02-22T02:00:00\", \"variable\": \"VPD\", \"value\": 0.0, \"is_present\": true, \"mean\": -12.961160482583246, \"std\": 13.459221209977951, \"err_low\": -39.87960290253915, \"err_high\": 13.957281937372656}, {\"time\": \"2009-02-22T02:30:00\", \"variable\": \"VPD\", \"value\": 0.0, \"is_present\": true, \"mean\": -12.897107895444034, \"std\": 13.459221209977938, \"err_low\": -39.81555031539991, \"err_high\": 14.021334524511843}, {\"time\": \"2009-02-22T03:00:00\", \"variable\": \"VPD\", \"value\": 0.0, \"is_present\": true, \"mean\": -12.802739104956505, \"std\": 13.459221209977947, \"err_low\": -39.721181524912396, \"err_high\": 14.11570331499939}, {\"time\": \"2009-02-22T03:30:00\", \"variable\": \"VPD\", \"value\": 0.0, \"is_present\": true, \"mean\": -12.687905094424792, \"std\": 13.45922120997796, \"err_low\": -39.606347514380715, \"err_high\": 14.230537325531127}, {\"time\": \"2009-02-22T04:00:00\", \"variable\": \"VPD\", \"value\": 0.0, \"is_present\": true, \"mean\": -12.596258907860424, \"std\": 13.459221209977963, \"err_low\": -39.514701327816354, \"err_high\": 14.322183512095503}, {\"time\": \"2009-02-22T04:30:00\", \"variable\": \"VPD\", \"value\": 0.0, \"is_present\": true, \"mean\": -12.500962743004575, \"std\": 13.459221209977972, \"err_low\": -39.419405162960516, \"err_high\": 14.41747967695137}, {\"time\": \"2009-02-22T05:00:00\", \"variable\": \"VPD\", \"value\": 0.0, \"is_present\": true, \"mean\": -12.406184737904397, \"std\": 13.459221209977946, \"err_low\": -39.32462715786029, \"err_high\": 14.512257682051494}, {\"time\": \"2009-02-22T05:30:00\", \"variable\": \"VPD\", \"value\": 0.0, \"is_present\": true, \"mean\": -12.375530932380748, \"std\": 13.459221209977969, \"err_low\": -39.293973352336685, \"err_high\": 14.54291148757519}, {\"time\": \"2009-02-22T06:00:00\", \"variable\": \"VPD\", \"value\": 0.0, \"is_present\": true, \"mean\": -12.338690624416774, \"std\": 13.459221209977967, \"err_low\": -39.25713304437271, \"err_high\": 14.57975179553916}, {\"time\": \"2009-02-22T06:30:00\", \"variable\": \"VPD\", \"value\": 0.0, \"is_present\": true, \"mean\": -12.322701404930605, \"std\": 13.45922120997796, \"err_low\": -39.24114382488652, \"err_high\": 14.595741015025315}, {\"time\": \"2009-02-22T07:00:00\", \"variable\": \"VPD\", \"value\": 0.0, \"is_present\": true, \"mean\": -12.30734713277364, \"std\": 13.459221209977946, \"err_low\": -39.22578955272953, \"err_high\": 14.611095287182252}, {\"time\": \"2009-02-22T07:30:00\", \"variable\": \"VPD\", \"value\": 0.0, \"is_present\": true, \"mean\": -12.301892550982913, \"std\": 13.459221209977969, \"err_low\": -39.22033497093885, \"err_high\": 14.616549868973024}, {\"time\": \"2009-02-22T08:00:00\", \"variable\": \"VPD\", \"value\": 0.0, \"is_present\": true, \"mean\": -12.104308888986399, \"std\": 13.459221209977954, \"err_low\": -39.022751308942304, \"err_high\": 14.81413353096951}, {\"time\": \"2009-02-22T08:30:00\", \"variable\": \"VPD\", \"value\": 0.0, \"is_present\": true, \"mean\": -11.634508587425799, \"std\": 13.459221209977965, \"err_low\": -38.55295100738173, \"err_high\": 15.283933832530131}, {\"time\": \"2009-02-22T09:00:00\", \"variable\": \"VPD\", \"value\": 0.0, \"is_present\": true, \"mean\": -11.056223219244018, \"std\": 13.459221209977954, \"err_low\": -37.97466563919993, \"err_high\": 15.862219200711891}, {\"time\": \"2009-02-22T09:30:00\", \"variable\": \"VPD\", \"value\": 0.0, \"is_present\": true, \"mean\": -10.466547683241266, \"std\": 13.459221209977963, \"err_low\": -37.3849901031972, \"err_high\": 16.45189473671466}, {\"time\": \"2009-02-22T10:00:00\", \"variable\": \"VPD\", \"value\": 0.0, \"is_present\": true, \"mean\": -10.100526486597133, \"std\": 13.459221209977967, \"err_low\": -37.01896890655307, \"err_high\": 16.8179159333588}, {\"time\": \"2009-02-22T10:30:00\", \"variable\": \"VPD\", \"value\": 0.0, \"is_present\": true, \"mean\": -9.303631436029317, \"std\": 13.45922120997796, \"err_low\": -36.222073855985236, \"err_high\": 17.614810983926603}, {\"time\": \"2009-02-22T11:00:00\", \"variable\": \"VPD\", \"value\": 0.0, \"is_present\": true, \"mean\": -8.887955604020181, \"std\": 13.459221209977926, \"err_low\": -35.80639802397603, \"err_high\": 18.03048681593567}, {\"time\": \"2009-02-22T11:30:00\", \"variable\": \"VPD\", \"value\": 0.0, \"is_present\": true, \"mean\": -8.574106534425269, \"std\": 13.459221209977962, \"err_low\": -35.49254895438119, \"err_high\": 18.344335885530654}, {\"time\": \"2009-02-22T12:00:00\", \"variable\": \"VPD\", \"value\": 0.0, \"is_present\": true, \"mean\": -8.180159556811049, \"std\": 13.45922120997796, \"err_low\": -35.09860197676697, \"err_high\": 18.73828286314487}, {\"time\": \"2009-02-22T12:30:00\", \"variable\": \"VPD\", \"value\": 0.0, \"is_present\": true, \"mean\": -8.276436465405347, \"std\": 13.459221209977978, \"err_low\": -35.194878885361305, \"err_high\": 18.64200595455061}, {\"time\": \"2009-02-22T13:00:00\", \"variable\": \"VPD\", \"value\": 0.0, \"is_present\": true, \"mean\": -8.111756780985168, \"std\": 13.45922120997795, \"err_low\": -35.03019920094107, \"err_high\": 18.80668563897073}, {\"time\": \"2009-02-22T13:30:00\", \"variable\": \"VPD\", \"value\": 0.0, \"is_present\": true, \"mean\": -8.118105494399263, \"std\": 13.459221209977969, \"err_low\": -35.0365479143552, \"err_high\": 18.800336925556675}, {\"time\": \"2009-02-22T14:00:00\", \"variable\": \"VPD\", \"value\": 0.0, \"is_present\": true, \"mean\": -8.35923625289728, \"std\": 13.459221209977965, \"err_low\": -35.27767867285321, \"err_high\": 18.55920616705865}, {\"time\": \"2009-02-22T14:30:00\", \"variable\": \"VPD\", \"value\": 0.0, \"is_present\": true, \"mean\": -8.583048891716064, \"std\": 13.45922120997796, \"err_low\": -35.501491311671984, \"err_high\": 18.335393528239855}, {\"time\": \"2009-02-22T15:00:00\", \"variable\": \"VPD\", \"value\": 0.0, \"is_present\": true, \"mean\": -9.16765097940608, \"std\": 13.459221209977947, \"err_low\": -36.08609339936197, \"err_high\": 17.750791440549815}, {\"time\": \"2009-02-22T15:30:00\", \"variable\": \"VPD\", \"value\": 0.0, \"is_present\": true, \"mean\": -9.49802405918718, \"std\": 13.459221209977972, \"err_low\": -36.416466479143125, \"err_high\": 17.420418360768764}, {\"time\": \"2009-02-22T16:00:00\", \"variable\": \"VPD\", \"value\": 0.0, \"is_present\": true, \"mean\": -9.64028365325425, \"std\": 13.459221209977962, \"err_low\": -36.558726073210174, \"err_high\": 17.278158766701672}, {\"time\": \"2009-02-22T16:30:00\", \"variable\": \"VPD\", \"value\": 0.0, \"is_present\": true, \"mean\": -10.402044202567197, \"std\": 13.45922120997796, \"err_low\": -37.32048662252312, \"err_high\": 16.516398217388723}, {\"time\": \"2009-02-22T17:00:00\", \"variable\": \"VPD\", \"value\": 0.0, \"is_present\": true, \"mean\": -11.127050461914155, \"std\": 13.45922120997795, \"err_low\": -38.045492881870054, \"err_high\": 15.791391958041743}, {\"time\": \"2009-02-22T17:30:00\", \"variable\": \"VPD\", \"value\": 0.0, \"is_present\": true, \"mean\": -11.4174866280154, \"std\": 13.459221209977954, \"err_low\": -38.335929047971305, \"err_high\": 15.500955791940509}, {\"time\": \"2009-02-22T18:00:00\", \"variable\": \"VPD\", \"value\": 0.0, \"is_present\": true, \"mean\": -11.644942045272924, \"std\": 13.45922120997796, \"err_low\": -38.56338446522884, \"err_high\": 15.273500374682996}, {\"time\": \"2009-02-22T18:30:00\", \"variable\": \"VPD\", \"value\": 0.0, \"is_present\": true, \"mean\": -11.716636894205834, \"std\": 13.45922120997796, \"err_low\": -38.63507931416176, \"err_high\": 15.201805525750085}, {\"time\": \"2009-02-22T19:00:00\", \"variable\": \"VPD\", \"value\": 0.0, \"is_present\": true, \"mean\": -11.704497196497638, \"std\": 13.459221209977969, \"err_low\": -38.62293961645358, \"err_high\": 15.2139452234583}, {\"time\": \"2009-02-22T19:30:00\", \"variable\": \"VPD\", \"value\": 0.0, \"is_present\": true, \"mean\": -11.713370339437052, \"std\": 13.459221209977962, \"err_low\": -38.63181275939297, \"err_high\": 15.205072080518871}, {\"time\": \"2009-02-22T20:00:00\", \"variable\": \"VPD\", \"value\": 0.0, \"is_present\": true, \"mean\": -11.7515325899227, \"std\": 13.459221209977969, \"err_low\": -38.66997500987864, \"err_high\": 15.166909830033237}, {\"time\": \"2009-02-22T20:30:00\", \"variable\": \"VPD\", \"value\": 0.0, \"is_present\": true, \"mean\": -11.77652254586, \"std\": 13.45922120997795, \"err_low\": -38.6949649658159, \"err_high\": 15.141919874095898}, {\"time\": \"2009-02-22T21:00:00\", \"variable\": \"VPD\", \"value\": 0.0, \"is_present\": true, \"mean\": -11.77905005715705, \"std\": 13.459221209977944, \"err_low\": -38.69749247711294, \"err_high\": 15.139392362798837}, {\"time\": \"2009-02-22T21:30:00\", \"variable\": \"VPD\", \"value\": 0.0, \"is_present\": true, \"mean\": -11.78949399953791, \"std\": 13.459221209977938, \"err_low\": -38.70793641949379, \"err_high\": 15.128948420417967}, {\"time\": \"2009-02-22T22:00:00\", \"variable\": \"VPD\", \"value\": 0.0, \"is_present\": true, \"mean\": -11.82390416394012, \"std\": 13.459221209977963, \"err_low\": -38.74234658389605, \"err_high\": 15.094538256015806}, {\"time\": \"2009-02-22T22:30:00\", \"variable\": \"VPD\", \"value\": 0.0, \"is_present\": true, \"mean\": -12.011790186768756, \"std\": 13.459221209977951, \"err_low\": -38.93023260672466, \"err_high\": 14.906652233187145}, {\"time\": \"2009-02-22T23:00:00\", \"variable\": \"VPD\", \"value\": 0.0, \"is_present\": true, \"mean\": -12.063632453401063, \"std\": 13.459221209977951, \"err_low\": -38.982074873356964, \"err_high\": 14.85480996655484}, {\"time\": \"2009-02-22T23:30:00\", \"variable\": \"VPD\", \"value\": 0.0, \"is_present\": true, \"mean\": -12.098507372795655, \"std\": 13.45922120997794, \"err_low\": -39.01694979275153, \"err_high\": 14.819935047160225}, {\"time\": \"2009-02-23T00:00:00\", \"variable\": \"VPD\", \"value\": 0.0, \"is_present\": true, \"mean\": -12.180971362091036, \"std\": 13.459221209977942, \"err_low\": -39.09941378204692, \"err_high\": 14.737471057864848}, {\"time\": \"2009-02-23T00:30:00\", \"variable\": \"VPD\", \"value\": 0.025, \"is_present\": true, \"mean\": -12.275088294025437, \"std\": 13.459221209977954, \"err_low\": -39.193530713981346, \"err_high\": 14.643354125930472}, {\"time\": \"2009-02-23T01:00:00\", \"variable\": \"VPD\", \"value\": 0.086, \"is_present\": true, \"mean\": -12.27261423881276, \"std\": 13.459221209977953, \"err_low\": -39.191056658768666, \"err_high\": 14.645828181143145}, {\"time\": \"2009-02-23T01:30:00\", \"variable\": \"VPD\", \"value\": 0.062, \"is_present\": true, \"mean\": -12.255436215331482, \"std\": 13.459221209977954, \"err_low\": -39.173878635287394, \"err_high\": 14.663006204624427}, {\"time\": \"2009-02-23T02:00:00\", \"variable\": \"VPD\", \"value\": 0.011, \"is_present\": true, \"mean\": -12.356162463370694, \"std\": 13.459221209977967, \"err_low\": -39.27460488332663, \"err_high\": 14.56227995658524}, {\"time\": \"2009-02-23T02:30:00\", \"variable\": \"VPD\", \"value\": 0.0, \"is_present\": true, \"mean\": -12.496980440416102, \"std\": 13.459221209977953, \"err_low\": -39.415422860372004, \"err_high\": 14.421461979539803}, {\"time\": \"2009-02-23T03:00:00\", \"variable\": \"VPD\", \"value\": 0.0, \"is_present\": true, \"mean\": -12.425120091101611, \"std\": 13.459221209977972, \"err_low\": -39.343562511057556, \"err_high\": 14.493322328854333}, {\"time\": \"2009-02-23T03:30:00\", \"variable\": \"VPD\", \"value\": 0.037, \"is_present\": true, \"mean\": -12.334625697610768, \"std\": 13.459221209977963, \"err_low\": -39.2530681175667, \"err_high\": 14.583816722345158}, {\"time\": \"2009-02-23T04:00:00\", \"variable\": \"VPD\", \"value\": 0.07, \"is_present\": true, \"mean\": -12.254413401753332, \"std\": 13.459221209977965, \"err_low\": -39.17285582170926, \"err_high\": 14.664029018202598}, {\"time\": \"2009-02-23T04:30:00\", \"variable\": \"VPD\", \"value\": 0.073, \"is_present\": true, \"mean\": -12.210258213030254, \"std\": 13.459221209977947, \"err_low\": -39.12870063298615, \"err_high\": 14.70818420692564}, {\"time\": \"2009-02-23T05:00:00\", \"variable\": \"VPD\", \"value\": 0.08, \"is_present\": true, \"mean\": -12.215903400550733, \"std\": 13.459221209977933, \"err_low\": -39.134345820506596, \"err_high\": 14.702539019405133}, {\"time\": \"2009-02-23T05:30:00\", \"variable\": \"VPD\", \"value\": 0.096, \"is_present\": true, \"mean\": -12.218876526380988, \"std\": 13.459221209977965, \"err_low\": -39.13731894633692, \"err_high\": 14.699565893574942}, {\"time\": \"2009-02-23T06:00:00\", \"variable\": \"VPD\", \"value\": 0.096, \"is_present\": true, \"mean\": -12.182425630619285, \"std\": 13.459221209977969, \"err_low\": -39.10086805057522, \"err_high\": 14.736016789336652}, {\"time\": \"2009-02-23T06:30:00\", \"variable\": \"VPD\", \"value\": 0.066, \"is_present\": true, \"mean\": -12.206272300538096, \"std\": 13.459221209977953, \"err_low\": -39.124714720494, \"err_high\": 14.71217011941781}, {\"time\": \"2009-02-23T07:00:00\", \"variable\": \"VPD\", \"value\": 0.011, \"is_present\": true, \"mean\": -12.341739035906606, \"std\": 13.459221209977953, \"err_low\": -39.26018145586251, \"err_high\": 14.5767033840493}, {\"time\": \"2009-02-23T07:30:00\", \"variable\": \"VPD\", \"value\": 0.0, \"is_present\": true, \"mean\": -12.44147700562429, \"std\": 13.459221209977953, \"err_low\": -39.359919425580195, \"err_high\": 14.476965414331616}, {\"time\": \"2009-02-23T08:00:00\", \"variable\": \"VPD\", \"value\": 0.0, \"is_present\": true, \"mean\": -12.234449030861668, \"std\": 13.45922120997796, \"err_low\": -39.15289145081759, \"err_high\": 14.683993389094251}, {\"time\": \"2009-02-23T08:30:00\", \"variable\": \"VPD\", \"value\": 0.0, \"is_present\": true, \"mean\": -11.723396621189284, \"std\": 13.459221209977969, \"err_low\": -38.64183904114522, \"err_high\": 15.195045798766653}, {\"time\": \"2009-02-23T09:00:00\", \"variable\": \"VPD\", \"value\": 0.0, \"is_present\": true, \"mean\": -11.13025854171168, \"std\": 13.45922120997795, \"err_low\": -38.04870096166758, \"err_high\": 15.788183878244219}, {\"time\": \"2009-02-23T09:30:00\", \"variable\": \"VPD\", \"value\": 0.0, \"is_present\": true, \"mean\": -10.337524892434441, \"std\": 13.459221209977951, \"err_low\": -37.25596731239034, \"err_high\": 16.58091752752146}, {\"time\": \"2009-02-23T10:00:00\", \"variable\": \"VPD\", \"value\": 0.0, \"is_present\": true, \"mean\": -9.78943605431558, \"std\": 13.459221209977976, \"err_low\": -36.70787847427153, \"err_high\": 17.12900636564037}, {\"time\": \"2009-02-23T10:30:00\", \"variable\": \"VPD\", \"value\": 0.0, \"is_present\": true, \"mean\": -8.346109964691848, \"std\": 13.459221209977951, \"err_low\": -35.26455238464775, \"err_high\": 18.572332455264053}, {\"time\": \"2009-02-23T11:00:00\", \"variable\": \"VPD\", \"value\": 0.0, \"is_present\": true, \"mean\": -5.735143449604462, \"std\": 13.45922120997795, \"err_low\": -32.65358586956036, \"err_high\": 21.183298970351437}, {\"time\": \"2009-02-23T11:30:00\", \"variable\": \"VPD\", \"value\": 0.0, \"is_present\": true, \"mean\": -4.571987314086879, \"std\": 13.45922120997795, \"err_low\": -31.490429734042777, \"err_high\": 22.34645510586902}, {\"time\": \"2009-02-23T12:00:00\", \"variable\": \"VPD\", \"value\": 0.0, \"is_present\": true, \"mean\": -3.890757728267971, \"std\": 13.459221209977954, \"err_low\": -30.80920014822388, \"err_high\": 23.027684691687938}, {\"time\": \"2009-02-23T12:30:00\", \"variable\": \"VPD\", \"value\": 0.0, \"is_present\": true, \"mean\": -3.343964391231296, \"std\": 13.459221209977956, \"err_low\": -30.26240681118721, \"err_high\": 23.574478028724617}, {\"time\": \"2009-02-23T13:00:00\", \"variable\": \"VPD\", \"value\": 0.021, \"is_present\": true, \"mean\": -2.763161379463787, \"std\": 13.459221209977951, \"err_low\": -29.68160379941969, \"err_high\": 24.155281040492113}, {\"time\": \"2009-02-23T13:30:00\", \"variable\": \"VPD\", \"value\": 0.028, \"is_present\": true, \"mean\": -2.9126927782757255, \"std\": 13.459221209977963, \"err_low\": -29.831135198231653, \"err_high\": 24.0057496416802}, {\"time\": \"2009-02-23T14:00:00\", \"variable\": \"VPD\", \"value\": 0.037, \"is_present\": true, \"mean\": -4.555913649449811, \"std\": 13.459221209977946, \"err_low\": -31.4743560694057, \"err_high\": 22.36252877050608}, {\"time\": \"2009-02-23T14:30:00\", \"variable\": \"VPD\", \"value\": 0.042, \"is_present\": true, \"mean\": -5.965954455413118, \"std\": 13.459221209977951, \"err_low\": -32.88439687536902, \"err_high\": 20.952487964542783}, {\"time\": \"2009-02-23T15:00:00\", \"variable\": \"VPD\", \"value\": 0.084, \"is_present\": true, \"mean\": -6.626576320646753, \"std\": 13.459221209977944, \"err_low\": -33.54501874060264, \"err_high\": 20.291866099309136}, {\"time\": \"2009-02-23T15:30:00\", \"variable\": \"VPD\", \"value\": 0.105, \"is_present\": true, \"mean\": -6.999297011922921, \"std\": 13.45922120997795, \"err_low\": -33.91773943187882, \"err_high\": 19.91914540803298}, {\"time\": \"2009-02-23T16:00:00\", \"variable\": \"VPD\", \"value\": 0.124, \"is_present\": true, \"mean\": -7.921376357792398, \"std\": 13.459221209977962, \"err_low\": -34.83981877774832, \"err_high\": 18.997066062163526}, {\"time\": \"2009-02-23T16:30:00\", \"variable\": \"VPD\", \"value\": 0.145, \"is_present\": true, \"mean\": -9.29961636494263, \"std\": 13.459221209977946, \"err_low\": -36.21805878489852, \"err_high\": 17.618826055013262}]}}, {\"mode\": \"vega-lite\"});\n",
       "</script>"
      ],
      "text/plain": [
       "alt.HConcatChart(...)"
      ]
     },
     "execution_count": null,
     "metadata": {},
     "output_type": "execute_result"
    }
   ],
   "source": [
    "plot_results(*results_custom_gap(learn64, df=hai64, control=hai_era64,\n",
    "                                 items_idx = [800, 801],\n",
    "                                 var_sel=['TA'], gap_len=10,\n",
    "                                 block_len=200, control_lags=[1]))"
   ]
  },
  {
   "cell_type": "code",
   "execution_count": null,
   "id": "f9c1abdc-91bd-4adf-81a7-c552924024a7",
   "metadata": {},
   "outputs": [],
   "source": [
    "#| export\n",
    "def interact_results(learn, df, control):\n",
    "    interact_args = {\n",
    "        'gap_len': IntSlider(10, 1, 100),\n",
    "        'items_idx': Text(value='10, 100', placeholder=\"comma separated indices\"),\n",
    "        'control_lags': Text(value='1', label=\"comma lag control\"),\n",
    "        'block_len': IntSlider(200, 10, 1000, 10),\n",
    "        **{var_name: True for var_name in df.columns}\n",
    "    }\n",
    "    \n",
    "    def _inner(gap_len, items_idx, control_lags, block_len, **var_names):\n",
    "        var_sel = [var_name for var_name, var_use in var_names.items() if var_use]\n",
    "        items_idx = list(map(int, items_idx.split(\",\")))\n",
    "        control_lags = list(map(int, control_lags.split(\",\")))\n",
    "        return plot_results(*results_custom_gap(learn=learn, df=df, control=control, var_sel=var_sel, gap_len=gap_len, items_idx=items_idx, block_len=block_len, control_lags=control_lags))\n",
    "    return interact_manual(_inner, **interact_args)"
   ]
  },
  {
   "cell_type": "code",
   "execution_count": null,
   "id": "a92467ac-d417-4205-9fb7-19afe2605fe8",
   "metadata": {},
   "outputs": [],
   "source": [
    "learn64.model.use_smooth = True"
   ]
  },
  {
   "cell_type": "code",
   "execution_count": null,
   "id": "ee2143d8-021a-40f2-ba6d-d86d5e99ae63",
   "metadata": {},
   "outputs": [
    {
     "data": {
      "application/vnd.jupyter.widget-view+json": {
       "model_id": "c18cda62e5534d02bd6e44f945b9dc69",
       "version_major": 2,
       "version_minor": 0
      },
      "text/plain": [
       "interactive(children=(IntSlider(value=10, description='gap_len', min=1), Text(value='10, 100', description='it…"
      ]
     },
     "metadata": {},
     "output_type": "display_data"
    },
    {
     "data": {
      "text/plain": [
       "<function __main__.interact_results.<locals>._inner(gap_len, items_idx, control_lags, block_len, **var_names)>"
      ]
     },
     "execution_count": null,
     "metadata": {},
     "output_type": "execute_result"
    }
   ],
   "source": [
    "interact_results(learn64, hai64, hai_era64)"
   ]
  },
  {
   "cell_type": "markdown",
   "id": "25ee98b3-1618-49fc-86b1-4f4c922a28a4",
   "metadata": {},
   "source": [
    "## Export "
   ]
  },
  {
   "cell_type": "code",
   "execution_count": null,
   "id": "be47bac6-1bac-4b5d-a880-7ddfe17cca68",
   "metadata": {},
   "outputs": [],
   "source": [
    "#| hide\n",
    "from nbdev import nbdev_export\n",
    "nbdev_export()"
   ]
  }
 ],
 "metadata": {
  "kernelspec": {
   "display_name": "data_science",
   "language": "python",
   "name": "data_science"
  },
  "widgets": {
   "application/vnd.jupyter.widget-state+json": {
    "state": {},
    "version_major": 2,
    "version_minor": 0
   }
  }
 },
 "nbformat": 4,
 "nbformat_minor": 5
}
