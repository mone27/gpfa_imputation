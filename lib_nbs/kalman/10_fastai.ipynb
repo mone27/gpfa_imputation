{
 "cells": [
  {
   "cell_type": "markdown",
   "id": "e8af5772-d828-4017-ae3b-5d530ac57586",
   "metadata": {},
   "source": [
    "# Implement Kalman model using FastAI\n",
    "\n",
    "> need to implement custom data preparation pipeline and loss function "
   ]
  },
  {
   "cell_type": "markdown",
   "id": "b0f3603c-74ec-41ba-a9dc-8fb08c2630cc",
   "metadata": {},
   "source": [
    "## Data Preparation"
   ]
  },
  {
   "cell_type": "markdown",
   "id": "df4ecbb3-f6ef-4344-95e7-5b566611d3f2",
   "metadata": {},
   "source": [
    "The aim of the data preparation pipeline is to:\n",
    "- take the original time series and split it into time blocks\n",
    "- for each block generate a random gap (need to figure out the properties of the gap)\n",
    "- split some time blocks for testing\n",
    "\n",
    "the input of the pipeline is:\n",
    "- a dataframe containing all observations\n",
    "\n",
    "the input of the model is:\n",
    "- observed data (potentially containing NaN where data is missing)\n",
    "- missing data mask (which is telling where the data is missing)\n",
    "- the data needs to be standardized"
   ]
  },
  {
   "cell_type": "code",
   "execution_count": null,
   "id": "b87acfa4-b43e-4cbe-9bc2-103a084ec5a2",
   "metadata": {},
   "outputs": [],
   "source": [
    "%load_ext autoreload\n",
    "%autoreload 2"
   ]
  },
  {
   "cell_type": "code",
   "execution_count": null,
   "id": "cca16380-45e6-479a-b8c3-e6f26ed9fdf3",
   "metadata": {},
   "outputs": [],
   "source": [
    "#| hide\n",
    "#| default_exp kalman.fastai"
   ]
  },
  {
   "cell_type": "code",
   "execution_count": null,
   "id": "6c8eade3",
   "metadata": {},
   "outputs": [],
   "source": [
    "from meteo_imp.utils import *\n",
    "from meteo_imp.gaussian import *"
   ]
  },
  {
   "cell_type": "code",
   "execution_count": null,
   "id": "c946534f",
   "metadata": {},
   "outputs": [],
   "source": [
    "reset_seed()"
   ]
  },
  {
   "cell_type": "code",
   "execution_count": null,
   "id": "bd2ec0dd-d8d3-4c64-91a7-909912be8087",
   "metadata": {},
   "outputs": [],
   "source": [
    "import torch"
   ]
  },
  {
   "cell_type": "code",
   "execution_count": null,
   "id": "131e1d0e-56f7-4c46-aadd-a9a9097bfe28",
   "metadata": {},
   "outputs": [],
   "source": [
    "from fastai.tabular.core import *\n",
    "from fastai.data.core import *"
   ]
  },
  {
   "cell_type": "code",
   "execution_count": null,
   "id": "fa3e153a-7aab-4edb-92a6-8cf91a732a6e",
   "metadata": {},
   "outputs": [],
   "source": [
    "#| export\n",
    "from fastcore.transform import *\n",
    "from fastcore.basics import *\n",
    "from fastcore.foundation import *\n",
    "from fastcore.all import *\n",
    "\n",
    "from fastai.tabular import *\n",
    "\n",
    "from meteo_imp.data import read_fluxnet_csv, hai_path\n",
    "\n",
    "from collections import namedtuple"
   ]
  },
  {
   "cell_type": "code",
   "execution_count": null,
   "id": "d7f48bb9-58ab-4d1a-97d9-b242f6542148",
   "metadata": {},
   "outputs": [],
   "source": [
    "@cache_disk(\"full_hai\")\n",
    "def load_data():\n",
    "    return read_fluxnet_csv(hai_path, None)\n",
    "\n",
    "hai = load_data()"
   ]
  },
  {
   "cell_type": "code",
   "execution_count": null,
   "id": "27ef7f1a-b815-40b4-96fb-201142dd5074",
   "metadata": {},
   "outputs": [],
   "source": [
    "#| export\n",
    "import pandas as pd\n",
    "import numpy as np\n",
    "import matplotlib.pyplot as plt"
   ]
  },
  {
   "cell_type": "markdown",
   "id": "d17c4e2b-6175-4674-9437-9e8a75cadb35",
   "metadata": {},
   "source": [
    "### Blocks"
   ]
  },
  {
   "cell_type": "markdown",
   "id": "09346517-48ae-4872-b572-a095b7adcd19",
   "metadata": {},
   "source": [
    "the first step is to transfrom the original dataframe into blocks of a specified `block_len`\n",
    "\n",
    "two different strategies are possible:\n",
    "\n",
    "- contigous blocks\n",
    "- random block in the dataframe"
   ]
  },
  {
   "cell_type": "code",
   "execution_count": null,
   "id": "e4d73d6c-a82f-43c3-a8ff-cd6cfe644fac",
   "metadata": {},
   "outputs": [],
   "source": [
    "#| export\n",
    "class BlockDfTransform(ItemTransform):\n",
    "    \"\"\"divide timeseries DataFrame into blocks\"\"\"\n",
    "    def __init__(self, df, block_len=200): \n",
    "        self.df = df \n",
    "        self.block_len = block_len\n",
    "        self.n = len(df)\n",
    "        \n",
    "    def encodes(self, i:int) -> pd.DataFrame:       \n",
    "        start = i * self.block_len\n",
    "        end = (i+1) * self.block_len\n",
    "        assert end <= self.n \n",
    "        \n",
    "        block = self.df[start:end]\n",
    "        \n",
    "        return block"
   ]
  },
  {
   "cell_type": "code",
   "execution_count": null,
   "id": "4e51eaf9-d972-4960-b5b3-03ddf4b139fa",
   "metadata": {},
   "outputs": [],
   "source": [
    "m = BlockDfTransform(hai[:100], 10)"
   ]
  },
  {
   "cell_type": "code",
   "execution_count": null,
   "id": "71c4f834-fb0f-4fb3-a13a-da01198a970a",
   "metadata": {},
   "outputs": [
    {
     "data": {
      "text/plain": [
       "BlockDfTransform:\n",
       "encodes: (int,object) -> encodes\n",
       "decodes: "
      ]
     },
     "execution_count": null,
     "metadata": {},
     "output_type": "execute_result"
    }
   ],
   "source": [
    "m"
   ]
  },
  {
   "cell_type": "code",
   "execution_count": null,
   "id": "db372f33-785c-4e99-8fe0-e439c24b004b",
   "metadata": {},
   "outputs": [
    {
     "data": {
      "text/html": [
       "<div>\n",
       "<style scoped>\n",
       "    .dataframe tbody tr th:only-of-type {\n",
       "        vertical-align: middle;\n",
       "    }\n",
       "\n",
       "    .dataframe tbody tr th {\n",
       "        vertical-align: top;\n",
       "    }\n",
       "\n",
       "    .dataframe thead th {\n",
       "        text-align: right;\n",
       "    }\n",
       "</style>\n",
       "<table border=\"1\" class=\"dataframe\">\n",
       "  <thead>\n",
       "    <tr style=\"text-align: right;\">\n",
       "      <th></th>\n",
       "      <th>TA</th>\n",
       "      <th>SW_IN</th>\n",
       "      <th>VPD</th>\n",
       "    </tr>\n",
       "    <tr>\n",
       "      <th>time</th>\n",
       "      <th></th>\n",
       "      <th></th>\n",
       "      <th></th>\n",
       "    </tr>\n",
       "  </thead>\n",
       "  <tbody>\n",
       "    <tr>\n",
       "      <th>2000-01-01 05:30:00</th>\n",
       "      <td>-0.23</td>\n",
       "      <td>0.00</td>\n",
       "      <td>0.138</td>\n",
       "    </tr>\n",
       "    <tr>\n",
       "      <th>2000-01-01 06:00:00</th>\n",
       "      <td>-0.23</td>\n",
       "      <td>0.00</td>\n",
       "      <td>0.122</td>\n",
       "    </tr>\n",
       "    <tr>\n",
       "      <th>2000-01-01 06:30:00</th>\n",
       "      <td>-0.22</td>\n",
       "      <td>0.00</td>\n",
       "      <td>0.098</td>\n",
       "    </tr>\n",
       "    <tr>\n",
       "      <th>2000-01-01 07:00:00</th>\n",
       "      <td>-0.24</td>\n",
       "      <td>0.00</td>\n",
       "      <td>0.066</td>\n",
       "    </tr>\n",
       "    <tr>\n",
       "      <th>2000-01-01 07:30:00</th>\n",
       "      <td>-0.23</td>\n",
       "      <td>0.00</td>\n",
       "      <td>0.044</td>\n",
       "    </tr>\n",
       "    <tr>\n",
       "      <th>2000-01-01 08:00:00</th>\n",
       "      <td>-0.22</td>\n",
       "      <td>0.00</td>\n",
       "      <td>0.026</td>\n",
       "    </tr>\n",
       "    <tr>\n",
       "      <th>2000-01-01 08:30:00</th>\n",
       "      <td>-0.19</td>\n",
       "      <td>0.45</td>\n",
       "      <td>0.016</td>\n",
       "    </tr>\n",
       "    <tr>\n",
       "      <th>2000-01-01 09:00:00</th>\n",
       "      <td>-0.14</td>\n",
       "      <td>3.70</td>\n",
       "      <td>0.010</td>\n",
       "    </tr>\n",
       "    <tr>\n",
       "      <th>2000-01-01 09:30:00</th>\n",
       "      <td>-0.03</td>\n",
       "      <td>7.26</td>\n",
       "      <td>0.006</td>\n",
       "    </tr>\n",
       "    <tr>\n",
       "      <th>2000-01-01 10:00:00</th>\n",
       "      <td>0.04</td>\n",
       "      <td>12.24</td>\n",
       "      <td>0.006</td>\n",
       "    </tr>\n",
       "  </tbody>\n",
       "</table>\n",
       "</div>"
      ],
      "text/plain": [
       "                       TA  SW_IN    VPD\n",
       "time                                   \n",
       "2000-01-01 05:30:00 -0.23   0.00  0.138\n",
       "2000-01-01 06:00:00 -0.23   0.00  0.122\n",
       "2000-01-01 06:30:00 -0.22   0.00  0.098\n",
       "2000-01-01 07:00:00 -0.24   0.00  0.066\n",
       "2000-01-01 07:30:00 -0.23   0.00  0.044\n",
       "2000-01-01 08:00:00 -0.22   0.00  0.026\n",
       "2000-01-01 08:30:00 -0.19   0.45  0.016\n",
       "2000-01-01 09:00:00 -0.14   3.70  0.010\n",
       "2000-01-01 09:30:00 -0.03   7.26  0.006\n",
       "2000-01-01 10:00:00  0.04  12.24  0.006"
      ]
     },
     "execution_count": null,
     "metadata": {},
     "output_type": "execute_result"
    }
   ],
   "source": [
    "m(1)"
   ]
  },
  {
   "cell_type": "code",
   "execution_count": null,
   "id": "57479bbb-1a76-44d1-af82-0d3666d2ae7d",
   "metadata": {},
   "outputs": [
    {
     "data": {
      "text/html": [
       "<div>\n",
       "<style scoped>\n",
       "    .dataframe tbody tr th:only-of-type {\n",
       "        vertical-align: middle;\n",
       "    }\n",
       "\n",
       "    .dataframe tbody tr th {\n",
       "        vertical-align: top;\n",
       "    }\n",
       "\n",
       "    .dataframe thead th {\n",
       "        text-align: right;\n",
       "    }\n",
       "</style>\n",
       "<table border=\"1\" class=\"dataframe\">\n",
       "  <thead>\n",
       "    <tr style=\"text-align: right;\">\n",
       "      <th></th>\n",
       "      <th>TA</th>\n",
       "      <th>SW_IN</th>\n",
       "      <th>VPD</th>\n",
       "    </tr>\n",
       "    <tr>\n",
       "      <th>time</th>\n",
       "      <th></th>\n",
       "      <th></th>\n",
       "      <th></th>\n",
       "    </tr>\n",
       "  </thead>\n",
       "  <tbody>\n",
       "    <tr>\n",
       "      <th>2000-01-02 21:30:00</th>\n",
       "      <td>0.97</td>\n",
       "      <td>0.0</td>\n",
       "      <td>0.192</td>\n",
       "    </tr>\n",
       "    <tr>\n",
       "      <th>2000-01-02 22:00:00</th>\n",
       "      <td>0.85</td>\n",
       "      <td>0.0</td>\n",
       "      <td>0.149</td>\n",
       "    </tr>\n",
       "    <tr>\n",
       "      <th>2000-01-02 22:30:00</th>\n",
       "      <td>0.77</td>\n",
       "      <td>0.0</td>\n",
       "      <td>0.112</td>\n",
       "    </tr>\n",
       "    <tr>\n",
       "      <th>2000-01-02 23:00:00</th>\n",
       "      <td>0.63</td>\n",
       "      <td>0.0</td>\n",
       "      <td>0.075</td>\n",
       "    </tr>\n",
       "    <tr>\n",
       "      <th>2000-01-02 23:30:00</th>\n",
       "      <td>0.52</td>\n",
       "      <td>0.0</td>\n",
       "      <td>0.038</td>\n",
       "    </tr>\n",
       "    <tr>\n",
       "      <th>2000-01-03 00:00:00</th>\n",
       "      <td>0.48</td>\n",
       "      <td>0.0</td>\n",
       "      <td>0.021</td>\n",
       "    </tr>\n",
       "    <tr>\n",
       "      <th>2000-01-03 00:30:00</th>\n",
       "      <td>0.41</td>\n",
       "      <td>0.0</td>\n",
       "      <td>0.013</td>\n",
       "    </tr>\n",
       "    <tr>\n",
       "      <th>2000-01-03 01:00:00</th>\n",
       "      <td>0.29</td>\n",
       "      <td>0.0</td>\n",
       "      <td>0.004</td>\n",
       "    </tr>\n",
       "    <tr>\n",
       "      <th>2000-01-03 01:30:00</th>\n",
       "      <td>0.31</td>\n",
       "      <td>0.0</td>\n",
       "      <td>0.000</td>\n",
       "    </tr>\n",
       "    <tr>\n",
       "      <th>2000-01-03 02:00:00</th>\n",
       "      <td>0.42</td>\n",
       "      <td>0.0</td>\n",
       "      <td>0.000</td>\n",
       "    </tr>\n",
       "  </tbody>\n",
       "</table>\n",
       "</div>"
      ],
      "text/plain": [
       "                       TA  SW_IN    VPD\n",
       "time                                   \n",
       "2000-01-02 21:30:00  0.97    0.0  0.192\n",
       "2000-01-02 22:00:00  0.85    0.0  0.149\n",
       "2000-01-02 22:30:00  0.77    0.0  0.112\n",
       "2000-01-02 23:00:00  0.63    0.0  0.075\n",
       "2000-01-02 23:30:00  0.52    0.0  0.038\n",
       "2000-01-03 00:00:00  0.48    0.0  0.021\n",
       "2000-01-03 00:30:00  0.41    0.0  0.013\n",
       "2000-01-03 01:00:00  0.29    0.0  0.004\n",
       "2000-01-03 01:30:00  0.31    0.0  0.000\n",
       "2000-01-03 02:00:00  0.42    0.0  0.000"
      ]
     },
     "execution_count": null,
     "metadata": {},
     "output_type": "execute_result"
    }
   ],
   "source": [
    "m(9)"
   ]
  },
  {
   "cell_type": "markdown",
   "id": "cc7af1e4-516c-4536-ab92-a5d19eec00fc",
   "metadata": {},
   "source": [
    "### Gaps"
   ]
  },
  {
   "cell_type": "markdown",
   "id": "f2fe95d9-43bb-4174-8b9d-d5e87fdc3930",
   "metadata": {},
   "source": [
    "adds a mask which includes a random gap"
   ]
  },
  {
   "cell_type": "code",
   "execution_count": null,
   "id": "0c90ac7a-c0e8-4994-9268-8ae6c0739a84",
   "metadata": {},
   "outputs": [],
   "source": [
    "#| exports\n",
    "def _make_random_gap(\n",
    "    gap_length: int, # The length of the gap\n",
    "    total_length: int, # The total number of observations\n",
    "    gap_start: int = None # Optional start of gap\n",
    "): # (total_length) array of bools to indicicate if the data is missing or not\n",
    "    \"Add a continous gap of ginve length at random position\"\n",
    "    if(gap_length >= total_length):\n",
    "        return np.repeat(True, total_length)\n",
    "    gap_start = np.random.randint(total_length - gap_length) if gap_start is None else gap_start\n",
    "    return np.hstack([\n",
    "        np.repeat(False, gap_start),\n",
    "        np.repeat(True, gap_length),\n",
    "        np.repeat(False, total_length - (gap_length + gap_start))\n",
    "    ])"
   ]
  },
  {
   "cell_type": "code",
   "execution_count": null,
   "id": "0302d047-5adc-426e-94c2-1ced768a3a49",
   "metadata": {},
   "outputs": [],
   "source": [
    "#| export\n",
    "from fastcore.basics import *"
   ]
  },
  {
   "cell_type": "code",
   "execution_count": null,
   "id": "54d55ad4-b9aa-41dd-bc26-d2bafa512311",
   "metadata": {},
   "outputs": [],
   "source": [
    "#| export\n",
    "MaskedDf = namedtuple('MaskedDf', 'data mask')"
   ]
  },
  {
   "cell_type": "code",
   "execution_count": null,
   "id": "c71f35e5-ace8-41a6-806c-d5b14c520e7a",
   "metadata": {},
   "outputs": [],
   "source": [
    "#| export\n",
    "class AddGapTransform(ItemTransform):\n",
    "    \"\"\"Adds a random gap to a `TimeSTensor`\"\"\"\n",
    "    def __init__(self,\n",
    "                variables,\n",
    "                gap_length,\n",
    "                ):\n",
    "        store_attr()\n",
    "    def encodes(self, df: pd.DataFrame):\n",
    "        gap = _make_random_gap(self.gap_length, df.shape[0])\n",
    "        mask = np.ones_like(df, dtype=bool)\n",
    "        col_sel = L(*df.columns).argwhere(lambda x: x in self.variables)\n",
    "        mask[np.argwhere(gap), col_sel] = False\n",
    "        return MaskedDf(df, pd.DataFrame(mask, index=df.index, columns=df.columns))"
   ]
  },
  {
   "cell_type": "code",
   "execution_count": null,
   "id": "47a56595-0fc1-4a7a-a9c6-38497079acb3",
   "metadata": {},
   "outputs": [
    {
     "data": {
      "text/plain": [
       "AddGapTransform:\n",
       "encodes: (DataFrame,object) -> encodes\n",
       "decodes: "
      ]
     },
     "execution_count": null,
     "metadata": {},
     "output_type": "execute_result"
    }
   ],
   "source": [
    "a_gap = AddGapTransform(['TA', 'VPD'], 5)\n",
    "a_gap"
   ]
  },
  {
   "cell_type": "code",
   "execution_count": null,
   "id": "27f2cc9f-4d0a-42a5-90bf-f4ca999918f7",
   "metadata": {},
   "outputs": [
    {
     "data": {
      "text/plain": [
       "MaskedDf(data=                       TA  SW_IN    VPD\n",
       "time                                   \n",
       "2000-01-01 05:30:00 -0.23   0.00  0.138\n",
       "2000-01-01 06:00:00 -0.23   0.00  0.122\n",
       "2000-01-01 06:30:00 -0.22   0.00  0.098\n",
       "2000-01-01 07:00:00 -0.24   0.00  0.066\n",
       "2000-01-01 07:30:00 -0.23   0.00  0.044\n",
       "2000-01-01 08:00:00 -0.22   0.00  0.026\n",
       "2000-01-01 08:30:00 -0.19   0.45  0.016\n",
       "2000-01-01 09:00:00 -0.14   3.70  0.010\n",
       "2000-01-01 09:30:00 -0.03   7.26  0.006\n",
       "2000-01-01 10:00:00  0.04  12.24  0.006, mask=                        TA  SW_IN    VPD\n",
       "time                                    \n",
       "2000-01-01 05:30:00   True   True   True\n",
       "2000-01-01 06:00:00   True   True   True\n",
       "2000-01-01 06:30:00   True   True   True\n",
       "2000-01-01 07:00:00  False   True  False\n",
       "2000-01-01 07:30:00  False   True  False\n",
       "2000-01-01 08:00:00  False   True  False\n",
       "2000-01-01 08:30:00  False   True  False\n",
       "2000-01-01 09:00:00  False   True  False\n",
       "2000-01-01 09:30:00   True   True   True\n",
       "2000-01-01 10:00:00   True   True   True)"
      ]
     },
     "execution_count": null,
     "metadata": {},
     "output_type": "execute_result"
    }
   ],
   "source": [
    "a_gap(m(1))"
   ]
  },
  {
   "cell_type": "code",
   "execution_count": null,
   "id": "2841762f-ad13-4165-975f-934f9a38d5b6",
   "metadata": {},
   "outputs": [],
   "source": [
    "m_df = a_gap(m(3))"
   ]
  },
  {
   "cell_type": "code",
   "execution_count": null,
   "id": "219da54b-55ed-4543-bbbb-5d144d089bed",
   "metadata": {},
   "outputs": [
    {
     "data": {
      "text/html": [
       "<div>\n",
       "<style scoped>\n",
       "    .dataframe tbody tr th:only-of-type {\n",
       "        vertical-align: middle;\n",
       "    }\n",
       "\n",
       "    .dataframe tbody tr th {\n",
       "        vertical-align: top;\n",
       "    }\n",
       "\n",
       "    .dataframe thead th {\n",
       "        text-align: right;\n",
       "    }\n",
       "</style>\n",
       "<table border=\"1\" class=\"dataframe\">\n",
       "  <thead>\n",
       "    <tr style=\"text-align: right;\">\n",
       "      <th></th>\n",
       "      <th>TA</th>\n",
       "      <th>SW_IN</th>\n",
       "      <th>VPD</th>\n",
       "    </tr>\n",
       "    <tr>\n",
       "      <th>time</th>\n",
       "      <th></th>\n",
       "      <th></th>\n",
       "      <th></th>\n",
       "    </tr>\n",
       "  </thead>\n",
       "  <tbody>\n",
       "    <tr>\n",
       "      <th>2000-01-01 15:30:00</th>\n",
       "      <td>0.52</td>\n",
       "      <td>8.09</td>\n",
       "      <td>0.000</td>\n",
       "    </tr>\n",
       "    <tr>\n",
       "      <th>2000-01-01 16:00:00</th>\n",
       "      <td>0.57</td>\n",
       "      <td>6.37</td>\n",
       "      <td>0.000</td>\n",
       "    </tr>\n",
       "    <tr>\n",
       "      <th>2000-01-01 16:30:00</th>\n",
       "      <td>0.73</td>\n",
       "      <td>1.72</td>\n",
       "      <td>0.000</td>\n",
       "    </tr>\n",
       "    <tr>\n",
       "      <th>2000-01-01 17:00:00</th>\n",
       "      <td>0.77</td>\n",
       "      <td>0.06</td>\n",
       "      <td>0.000</td>\n",
       "    </tr>\n",
       "    <tr>\n",
       "      <th>2000-01-01 17:30:00</th>\n",
       "      <td>0.84</td>\n",
       "      <td>0.00</td>\n",
       "      <td>0.000</td>\n",
       "    </tr>\n",
       "    <tr>\n",
       "      <th>2000-01-01 18:00:00</th>\n",
       "      <td>0.99</td>\n",
       "      <td>0.00</td>\n",
       "      <td>0.000</td>\n",
       "    </tr>\n",
       "    <tr>\n",
       "      <th>2000-01-01 18:30:00</th>\n",
       "      <td>1.35</td>\n",
       "      <td>0.00</td>\n",
       "      <td>0.000</td>\n",
       "    </tr>\n",
       "    <tr>\n",
       "      <th>2000-01-01 19:00:00</th>\n",
       "      <td>1.86</td>\n",
       "      <td>0.00</td>\n",
       "      <td>0.002</td>\n",
       "    </tr>\n",
       "    <tr>\n",
       "      <th>2000-01-01 19:30:00</th>\n",
       "      <td>2.01</td>\n",
       "      <td>0.00</td>\n",
       "      <td>0.009</td>\n",
       "    </tr>\n",
       "    <tr>\n",
       "      <th>2000-01-01 20:00:00</th>\n",
       "      <td>2.07</td>\n",
       "      <td>0.00</td>\n",
       "      <td>0.014</td>\n",
       "    </tr>\n",
       "  </tbody>\n",
       "</table>\n",
       "</div>"
      ],
      "text/plain": [
       "                       TA  SW_IN    VPD\n",
       "time                                   \n",
       "2000-01-01 15:30:00  0.52   8.09  0.000\n",
       "2000-01-01 16:00:00  0.57   6.37  0.000\n",
       "2000-01-01 16:30:00  0.73   1.72  0.000\n",
       "2000-01-01 17:00:00  0.77   0.06  0.000\n",
       "2000-01-01 17:30:00  0.84   0.00  0.000\n",
       "2000-01-01 18:00:00  0.99   0.00  0.000\n",
       "2000-01-01 18:30:00  1.35   0.00  0.000\n",
       "2000-01-01 19:00:00  1.86   0.00  0.002\n",
       "2000-01-01 19:30:00  2.01   0.00  0.009\n",
       "2000-01-01 20:00:00  2.07   0.00  0.014"
      ]
     },
     "execution_count": null,
     "metadata": {},
     "output_type": "execute_result"
    }
   ],
   "source": [
    "m_df.data"
   ]
  },
  {
   "cell_type": "code",
   "execution_count": null,
   "id": "68150c31-c394-42c5-8b1c-d4b3f3d48f93",
   "metadata": {},
   "outputs": [
    {
     "data": {
      "text/html": [
       "<div>\n",
       "<style scoped>\n",
       "    .dataframe tbody tr th:only-of-type {\n",
       "        vertical-align: middle;\n",
       "    }\n",
       "\n",
       "    .dataframe tbody tr th {\n",
       "        vertical-align: top;\n",
       "    }\n",
       "\n",
       "    .dataframe thead th {\n",
       "        text-align: right;\n",
       "    }\n",
       "</style>\n",
       "<table border=\"1\" class=\"dataframe\">\n",
       "  <thead>\n",
       "    <tr style=\"text-align: right;\">\n",
       "      <th></th>\n",
       "      <th>TA</th>\n",
       "      <th>SW_IN</th>\n",
       "      <th>VPD</th>\n",
       "    </tr>\n",
       "    <tr>\n",
       "      <th>time</th>\n",
       "      <th></th>\n",
       "      <th></th>\n",
       "      <th></th>\n",
       "    </tr>\n",
       "  </thead>\n",
       "  <tbody>\n",
       "    <tr>\n",
       "      <th>2000-01-01 15:30:00</th>\n",
       "      <td>False</td>\n",
       "      <td>True</td>\n",
       "      <td>False</td>\n",
       "    </tr>\n",
       "    <tr>\n",
       "      <th>2000-01-01 16:00:00</th>\n",
       "      <td>False</td>\n",
       "      <td>True</td>\n",
       "      <td>False</td>\n",
       "    </tr>\n",
       "    <tr>\n",
       "      <th>2000-01-01 16:30:00</th>\n",
       "      <td>False</td>\n",
       "      <td>True</td>\n",
       "      <td>False</td>\n",
       "    </tr>\n",
       "    <tr>\n",
       "      <th>2000-01-01 17:00:00</th>\n",
       "      <td>False</td>\n",
       "      <td>True</td>\n",
       "      <td>False</td>\n",
       "    </tr>\n",
       "    <tr>\n",
       "      <th>2000-01-01 17:30:00</th>\n",
       "      <td>False</td>\n",
       "      <td>True</td>\n",
       "      <td>False</td>\n",
       "    </tr>\n",
       "    <tr>\n",
       "      <th>2000-01-01 18:00:00</th>\n",
       "      <td>True</td>\n",
       "      <td>True</td>\n",
       "      <td>True</td>\n",
       "    </tr>\n",
       "    <tr>\n",
       "      <th>2000-01-01 18:30:00</th>\n",
       "      <td>True</td>\n",
       "      <td>True</td>\n",
       "      <td>True</td>\n",
       "    </tr>\n",
       "    <tr>\n",
       "      <th>2000-01-01 19:00:00</th>\n",
       "      <td>True</td>\n",
       "      <td>True</td>\n",
       "      <td>True</td>\n",
       "    </tr>\n",
       "    <tr>\n",
       "      <th>2000-01-01 19:30:00</th>\n",
       "      <td>True</td>\n",
       "      <td>True</td>\n",
       "      <td>True</td>\n",
       "    </tr>\n",
       "    <tr>\n",
       "      <th>2000-01-01 20:00:00</th>\n",
       "      <td>True</td>\n",
       "      <td>True</td>\n",
       "      <td>True</td>\n",
       "    </tr>\n",
       "  </tbody>\n",
       "</table>\n",
       "</div>"
      ],
      "text/plain": [
       "                        TA  SW_IN    VPD\n",
       "time                                    \n",
       "2000-01-01 15:30:00  False   True  False\n",
       "2000-01-01 16:00:00  False   True  False\n",
       "2000-01-01 16:30:00  False   True  False\n",
       "2000-01-01 17:00:00  False   True  False\n",
       "2000-01-01 17:30:00  False   True  False\n",
       "2000-01-01 18:00:00   True   True   True\n",
       "2000-01-01 18:30:00   True   True   True\n",
       "2000-01-01 19:00:00   True   True   True\n",
       "2000-01-01 19:30:00   True   True   True\n",
       "2000-01-01 20:00:00   True   True   True"
      ]
     },
     "execution_count": null,
     "metadata": {},
     "output_type": "execute_result"
    }
   ],
   "source": [
    "m_df.mask"
   ]
  },
  {
   "cell_type": "code",
   "execution_count": null,
   "id": "5952ccff-6433-48ca-8940-6ea872927cdc",
   "metadata": {},
   "outputs": [],
   "source": [
    "#| export\n",
    "@patch\n",
    "def tidy(self: MaskedDf):\n",
    "    data = self.data.reset_index().melt(\"time\")\n",
    "    mask = self.mask.reset_index().melt(\"time\", value_name=\"is_present\")\n",
    "    \n",
    "    return pd.merge(data, mask, on=[\"time\", \"variable\"])"
   ]
  },
  {
   "cell_type": "code",
   "execution_count": null,
   "id": "c601c37c-a032-4edb-a522-50ce0af7b87d",
   "metadata": {},
   "outputs": [
    {
     "data": {
      "text/html": [
       "<div>\n",
       "<style scoped>\n",
       "    .dataframe tbody tr th:only-of-type {\n",
       "        vertical-align: middle;\n",
       "    }\n",
       "\n",
       "    .dataframe tbody tr th {\n",
       "        vertical-align: top;\n",
       "    }\n",
       "\n",
       "    .dataframe thead th {\n",
       "        text-align: right;\n",
       "    }\n",
       "</style>\n",
       "<table border=\"1\" class=\"dataframe\">\n",
       "  <thead>\n",
       "    <tr style=\"text-align: right;\">\n",
       "      <th></th>\n",
       "      <th>time</th>\n",
       "      <th>variable</th>\n",
       "      <th>value</th>\n",
       "      <th>is_present</th>\n",
       "    </tr>\n",
       "  </thead>\n",
       "  <tbody>\n",
       "    <tr>\n",
       "      <th>0</th>\n",
       "      <td>2000-01-01 15:30:00</td>\n",
       "      <td>TA</td>\n",
       "      <td>0.520</td>\n",
       "      <td>False</td>\n",
       "    </tr>\n",
       "    <tr>\n",
       "      <th>1</th>\n",
       "      <td>2000-01-01 16:00:00</td>\n",
       "      <td>TA</td>\n",
       "      <td>0.570</td>\n",
       "      <td>False</td>\n",
       "    </tr>\n",
       "    <tr>\n",
       "      <th>2</th>\n",
       "      <td>2000-01-01 16:30:00</td>\n",
       "      <td>TA</td>\n",
       "      <td>0.730</td>\n",
       "      <td>False</td>\n",
       "    </tr>\n",
       "    <tr>\n",
       "      <th>3</th>\n",
       "      <td>2000-01-01 17:00:00</td>\n",
       "      <td>TA</td>\n",
       "      <td>0.770</td>\n",
       "      <td>False</td>\n",
       "    </tr>\n",
       "    <tr>\n",
       "      <th>4</th>\n",
       "      <td>2000-01-01 17:30:00</td>\n",
       "      <td>TA</td>\n",
       "      <td>0.840</td>\n",
       "      <td>False</td>\n",
       "    </tr>\n",
       "    <tr>\n",
       "      <th>5</th>\n",
       "      <td>2000-01-01 18:00:00</td>\n",
       "      <td>TA</td>\n",
       "      <td>0.990</td>\n",
       "      <td>True</td>\n",
       "    </tr>\n",
       "    <tr>\n",
       "      <th>6</th>\n",
       "      <td>2000-01-01 18:30:00</td>\n",
       "      <td>TA</td>\n",
       "      <td>1.350</td>\n",
       "      <td>True</td>\n",
       "    </tr>\n",
       "    <tr>\n",
       "      <th>7</th>\n",
       "      <td>2000-01-01 19:00:00</td>\n",
       "      <td>TA</td>\n",
       "      <td>1.860</td>\n",
       "      <td>True</td>\n",
       "    </tr>\n",
       "    <tr>\n",
       "      <th>8</th>\n",
       "      <td>2000-01-01 19:30:00</td>\n",
       "      <td>TA</td>\n",
       "      <td>2.010</td>\n",
       "      <td>True</td>\n",
       "    </tr>\n",
       "    <tr>\n",
       "      <th>9</th>\n",
       "      <td>2000-01-01 20:00:00</td>\n",
       "      <td>TA</td>\n",
       "      <td>2.070</td>\n",
       "      <td>True</td>\n",
       "    </tr>\n",
       "    <tr>\n",
       "      <th>10</th>\n",
       "      <td>2000-01-01 15:30:00</td>\n",
       "      <td>SW_IN</td>\n",
       "      <td>8.090</td>\n",
       "      <td>True</td>\n",
       "    </tr>\n",
       "    <tr>\n",
       "      <th>11</th>\n",
       "      <td>2000-01-01 16:00:00</td>\n",
       "      <td>SW_IN</td>\n",
       "      <td>6.370</td>\n",
       "      <td>True</td>\n",
       "    </tr>\n",
       "    <tr>\n",
       "      <th>12</th>\n",
       "      <td>2000-01-01 16:30:00</td>\n",
       "      <td>SW_IN</td>\n",
       "      <td>1.720</td>\n",
       "      <td>True</td>\n",
       "    </tr>\n",
       "    <tr>\n",
       "      <th>13</th>\n",
       "      <td>2000-01-01 17:00:00</td>\n",
       "      <td>SW_IN</td>\n",
       "      <td>0.060</td>\n",
       "      <td>True</td>\n",
       "    </tr>\n",
       "    <tr>\n",
       "      <th>14</th>\n",
       "      <td>2000-01-01 17:30:00</td>\n",
       "      <td>SW_IN</td>\n",
       "      <td>0.000</td>\n",
       "      <td>True</td>\n",
       "    </tr>\n",
       "    <tr>\n",
       "      <th>15</th>\n",
       "      <td>2000-01-01 18:00:00</td>\n",
       "      <td>SW_IN</td>\n",
       "      <td>0.000</td>\n",
       "      <td>True</td>\n",
       "    </tr>\n",
       "    <tr>\n",
       "      <th>16</th>\n",
       "      <td>2000-01-01 18:30:00</td>\n",
       "      <td>SW_IN</td>\n",
       "      <td>0.000</td>\n",
       "      <td>True</td>\n",
       "    </tr>\n",
       "    <tr>\n",
       "      <th>17</th>\n",
       "      <td>2000-01-01 19:00:00</td>\n",
       "      <td>SW_IN</td>\n",
       "      <td>0.000</td>\n",
       "      <td>True</td>\n",
       "    </tr>\n",
       "    <tr>\n",
       "      <th>18</th>\n",
       "      <td>2000-01-01 19:30:00</td>\n",
       "      <td>SW_IN</td>\n",
       "      <td>0.000</td>\n",
       "      <td>True</td>\n",
       "    </tr>\n",
       "    <tr>\n",
       "      <th>19</th>\n",
       "      <td>2000-01-01 20:00:00</td>\n",
       "      <td>SW_IN</td>\n",
       "      <td>0.000</td>\n",
       "      <td>True</td>\n",
       "    </tr>\n",
       "    <tr>\n",
       "      <th>20</th>\n",
       "      <td>2000-01-01 15:30:00</td>\n",
       "      <td>VPD</td>\n",
       "      <td>0.000</td>\n",
       "      <td>False</td>\n",
       "    </tr>\n",
       "    <tr>\n",
       "      <th>21</th>\n",
       "      <td>2000-01-01 16:00:00</td>\n",
       "      <td>VPD</td>\n",
       "      <td>0.000</td>\n",
       "      <td>False</td>\n",
       "    </tr>\n",
       "    <tr>\n",
       "      <th>22</th>\n",
       "      <td>2000-01-01 16:30:00</td>\n",
       "      <td>VPD</td>\n",
       "      <td>0.000</td>\n",
       "      <td>False</td>\n",
       "    </tr>\n",
       "    <tr>\n",
       "      <th>23</th>\n",
       "      <td>2000-01-01 17:00:00</td>\n",
       "      <td>VPD</td>\n",
       "      <td>0.000</td>\n",
       "      <td>False</td>\n",
       "    </tr>\n",
       "    <tr>\n",
       "      <th>24</th>\n",
       "      <td>2000-01-01 17:30:00</td>\n",
       "      <td>VPD</td>\n",
       "      <td>0.000</td>\n",
       "      <td>False</td>\n",
       "    </tr>\n",
       "    <tr>\n",
       "      <th>25</th>\n",
       "      <td>2000-01-01 18:00:00</td>\n",
       "      <td>VPD</td>\n",
       "      <td>0.000</td>\n",
       "      <td>True</td>\n",
       "    </tr>\n",
       "    <tr>\n",
       "      <th>26</th>\n",
       "      <td>2000-01-01 18:30:00</td>\n",
       "      <td>VPD</td>\n",
       "      <td>0.000</td>\n",
       "      <td>True</td>\n",
       "    </tr>\n",
       "    <tr>\n",
       "      <th>27</th>\n",
       "      <td>2000-01-01 19:00:00</td>\n",
       "      <td>VPD</td>\n",
       "      <td>0.002</td>\n",
       "      <td>True</td>\n",
       "    </tr>\n",
       "    <tr>\n",
       "      <th>28</th>\n",
       "      <td>2000-01-01 19:30:00</td>\n",
       "      <td>VPD</td>\n",
       "      <td>0.009</td>\n",
       "      <td>True</td>\n",
       "    </tr>\n",
       "    <tr>\n",
       "      <th>29</th>\n",
       "      <td>2000-01-01 20:00:00</td>\n",
       "      <td>VPD</td>\n",
       "      <td>0.014</td>\n",
       "      <td>True</td>\n",
       "    </tr>\n",
       "  </tbody>\n",
       "</table>\n",
       "</div>"
      ],
      "text/plain": [
       "                  time variable  value  is_present\n",
       "0  2000-01-01 15:30:00       TA  0.520       False\n",
       "1  2000-01-01 16:00:00       TA  0.570       False\n",
       "2  2000-01-01 16:30:00       TA  0.730       False\n",
       "3  2000-01-01 17:00:00       TA  0.770       False\n",
       "4  2000-01-01 17:30:00       TA  0.840       False\n",
       "5  2000-01-01 18:00:00       TA  0.990        True\n",
       "6  2000-01-01 18:30:00       TA  1.350        True\n",
       "7  2000-01-01 19:00:00       TA  1.860        True\n",
       "8  2000-01-01 19:30:00       TA  2.010        True\n",
       "9  2000-01-01 20:00:00       TA  2.070        True\n",
       "10 2000-01-01 15:30:00    SW_IN  8.090        True\n",
       "11 2000-01-01 16:00:00    SW_IN  6.370        True\n",
       "12 2000-01-01 16:30:00    SW_IN  1.720        True\n",
       "13 2000-01-01 17:00:00    SW_IN  0.060        True\n",
       "14 2000-01-01 17:30:00    SW_IN  0.000        True\n",
       "15 2000-01-01 18:00:00    SW_IN  0.000        True\n",
       "16 2000-01-01 18:30:00    SW_IN  0.000        True\n",
       "17 2000-01-01 19:00:00    SW_IN  0.000        True\n",
       "18 2000-01-01 19:30:00    SW_IN  0.000        True\n",
       "19 2000-01-01 20:00:00    SW_IN  0.000        True\n",
       "20 2000-01-01 15:30:00      VPD  0.000       False\n",
       "21 2000-01-01 16:00:00      VPD  0.000       False\n",
       "22 2000-01-01 16:30:00      VPD  0.000       False\n",
       "23 2000-01-01 17:00:00      VPD  0.000       False\n",
       "24 2000-01-01 17:30:00      VPD  0.000       False\n",
       "25 2000-01-01 18:00:00      VPD  0.000        True\n",
       "26 2000-01-01 18:30:00      VPD  0.000        True\n",
       "27 2000-01-01 19:00:00      VPD  0.002        True\n",
       "28 2000-01-01 19:30:00      VPD  0.009        True\n",
       "29 2000-01-01 20:00:00      VPD  0.014        True"
      ]
     },
     "execution_count": null,
     "metadata": {},
     "output_type": "execute_result"
    }
   ],
   "source": [
    "m_df.tidy()"
   ]
  },
  {
   "cell_type": "code",
   "execution_count": null,
   "id": "f36f4825-52e4-49c7-92f1-14d64429e3ea",
   "metadata": {},
   "outputs": [],
   "source": [
    "#| export\n",
    "import altair as alt\n",
    "from altair import datum"
   ]
  },
  {
   "cell_type": "code",
   "execution_count": null,
   "id": "51544d62-63ca-4e6c-b63e-943cc739fa5b",
   "metadata": {},
   "outputs": [],
   "source": [
    "#| exporti\n",
    "def def_selection():\n",
    "    return alt.selection_interval(bind=\"scales\")"
   ]
  },
  {
   "cell_type": "code",
   "execution_count": null,
   "id": "7f1e483f-f250-4baf-82ee-3958f5cefba8",
   "metadata": {},
   "outputs": [],
   "source": [
    "#| exporti\n",
    "def plot_rug(df, sel = def_selection(), props = {}):\n",
    "    if 'height' in props:\n",
    "        props = props.copy() \n",
    "        props.pop('height') # rug should have default heigth\n",
    "    return alt.Chart(df).mark_tick(\n",
    "            color='black',\n",
    "        ).encode(\n",
    "            x = \"time\",\n",
    "            color = alt.condition(datum.is_present, alt.value('white'), alt.value('black'))\n",
    "        ).add_selection(\n",
    "            sel\n",
    "        ).properties(**props) "
   ]
  },
  {
   "cell_type": "code",
   "execution_count": null,
   "id": "f9668bee-f4dd-48e6-92cd-4b96f1f3626e",
   "metadata": {},
   "outputs": [
    {
     "name": "stderr",
     "output_type": "stream",
     "text": [
      "/home/simone/.local/lib/python3.10/site-packages/altair/utils/core.py:317: FutureWarning: iteritems is deprecated and will be removed in a future version. Use .items instead.\n",
      "  for col_name, dtype in df.dtypes.iteritems():\n"
     ]
    },
    {
     "data": {
      "text/html": [
       "\n",
       "<div id=\"altair-viz-3e5a4eb494ae4060add1ebeb6f0c1746\"></div>\n",
       "<script type=\"text/javascript\">\n",
       "  var VEGA_DEBUG = (typeof VEGA_DEBUG == \"undefined\") ? {} : VEGA_DEBUG;\n",
       "  (function(spec, embedOpt){\n",
       "    let outputDiv = document.currentScript.previousElementSibling;\n",
       "    if (outputDiv.id !== \"altair-viz-3e5a4eb494ae4060add1ebeb6f0c1746\") {\n",
       "      outputDiv = document.getElementById(\"altair-viz-3e5a4eb494ae4060add1ebeb6f0c1746\");\n",
       "    }\n",
       "    const paths = {\n",
       "      \"vega\": \"https://cdn.jsdelivr.net/npm//vega@5?noext\",\n",
       "      \"vega-lib\": \"https://cdn.jsdelivr.net/npm//vega-lib?noext\",\n",
       "      \"vega-lite\": \"https://cdn.jsdelivr.net/npm//vega-lite@4.17.0?noext\",\n",
       "      \"vega-embed\": \"https://cdn.jsdelivr.net/npm//vega-embed@6?noext\",\n",
       "    };\n",
       "\n",
       "    function maybeLoadScript(lib, version) {\n",
       "      var key = `${lib.replace(\"-\", \"\")}_version`;\n",
       "      return (VEGA_DEBUG[key] == version) ?\n",
       "        Promise.resolve(paths[lib]) :\n",
       "        new Promise(function(resolve, reject) {\n",
       "          var s = document.createElement('script');\n",
       "          document.getElementsByTagName(\"head\")[0].appendChild(s);\n",
       "          s.async = true;\n",
       "          s.onload = () => {\n",
       "            VEGA_DEBUG[key] = version;\n",
       "            return resolve(paths[lib]);\n",
       "          };\n",
       "          s.onerror = () => reject(`Error loading script: ${paths[lib]}`);\n",
       "          s.src = paths[lib];\n",
       "        });\n",
       "    }\n",
       "\n",
       "    function showError(err) {\n",
       "      outputDiv.innerHTML = `<div class=\"error\" style=\"color:red;\">${err}</div>`;\n",
       "      throw err;\n",
       "    }\n",
       "\n",
       "    function displayChart(vegaEmbed) {\n",
       "      vegaEmbed(outputDiv, spec, embedOpt)\n",
       "        .catch(err => showError(`Javascript Error: ${err.message}<br>This usually means there's a typo in your chart specification. See the javascript console for the full traceback.`));\n",
       "    }\n",
       "\n",
       "    if(typeof define === \"function\" && define.amd) {\n",
       "      requirejs.config({paths});\n",
       "      require([\"vega-embed\"], displayChart, err => showError(`Error loading script: ${err.message}`));\n",
       "    } else {\n",
       "      maybeLoadScript(\"vega\", \"5\")\n",
       "        .then(() => maybeLoadScript(\"vega-lite\", \"4.17.0\"))\n",
       "        .then(() => maybeLoadScript(\"vega-embed\", \"6\"))\n",
       "        .catch(showError)\n",
       "        .then(() => displayChart(vegaEmbed));\n",
       "    }\n",
       "  })({\"config\": {\"view\": {\"continuousWidth\": 400, \"continuousHeight\": 300}}, \"data\": {\"name\": \"data-8dbc285ff9e9a0880661cf5960fe4e06\"}, \"mark\": {\"type\": \"tick\", \"color\": \"black\"}, \"encoding\": {\"color\": {\"condition\": {\"value\": \"white\", \"test\": \"datum.is_present\"}, \"value\": \"black\"}, \"x\": {\"field\": \"time\", \"type\": \"temporal\"}}, \"selection\": {\"selector001\": {\"type\": \"interval\", \"bind\": \"scales\"}}, \"$schema\": \"https://vega.github.io/schema/vega-lite/v4.17.0.json\", \"datasets\": {\"data-8dbc285ff9e9a0880661cf5960fe4e06\": [{\"time\": \"2000-01-01T15:30:00\", \"variable\": \"TA\", \"value\": 0.5199999809265137, \"is_present\": false}, {\"time\": \"2000-01-01T16:00:00\", \"variable\": \"TA\", \"value\": 0.5699999928474426, \"is_present\": false}, {\"time\": \"2000-01-01T16:30:00\", \"variable\": \"TA\", \"value\": 0.7300000190734863, \"is_present\": false}, {\"time\": \"2000-01-01T17:00:00\", \"variable\": \"TA\", \"value\": 0.7699999809265137, \"is_present\": false}, {\"time\": \"2000-01-01T17:30:00\", \"variable\": \"TA\", \"value\": 0.8399999737739563, \"is_present\": false}, {\"time\": \"2000-01-01T18:00:00\", \"variable\": \"TA\", \"value\": 0.9900000095367432, \"is_present\": true}, {\"time\": \"2000-01-01T18:30:00\", \"variable\": \"TA\", \"value\": 1.350000023841858, \"is_present\": true}, {\"time\": \"2000-01-01T19:00:00\", \"variable\": \"TA\", \"value\": 1.8600000143051147, \"is_present\": true}, {\"time\": \"2000-01-01T19:30:00\", \"variable\": \"TA\", \"value\": 2.009999990463257, \"is_present\": true}, {\"time\": \"2000-01-01T20:00:00\", \"variable\": \"TA\", \"value\": 2.069999933242798, \"is_present\": true}, {\"time\": \"2000-01-01T15:30:00\", \"variable\": \"SW_IN\", \"value\": 8.09000015258789, \"is_present\": true}, {\"time\": \"2000-01-01T16:00:00\", \"variable\": \"SW_IN\", \"value\": 6.369999885559082, \"is_present\": true}, {\"time\": \"2000-01-01T16:30:00\", \"variable\": \"SW_IN\", \"value\": 1.7200000286102295, \"is_present\": true}, {\"time\": \"2000-01-01T17:00:00\", \"variable\": \"SW_IN\", \"value\": 0.05999999865889549, \"is_present\": true}, {\"time\": \"2000-01-01T17:30:00\", \"variable\": \"SW_IN\", \"value\": 0.0, \"is_present\": true}, {\"time\": \"2000-01-01T18:00:00\", \"variable\": \"SW_IN\", \"value\": 0.0, \"is_present\": true}, {\"time\": \"2000-01-01T18:30:00\", \"variable\": \"SW_IN\", \"value\": 0.0, \"is_present\": true}, {\"time\": \"2000-01-01T19:00:00\", \"variable\": \"SW_IN\", \"value\": 0.0, \"is_present\": true}, {\"time\": \"2000-01-01T19:30:00\", \"variable\": \"SW_IN\", \"value\": 0.0, \"is_present\": true}, {\"time\": \"2000-01-01T20:00:00\", \"variable\": \"SW_IN\", \"value\": 0.0, \"is_present\": true}, {\"time\": \"2000-01-01T15:30:00\", \"variable\": \"VPD\", \"value\": 0.0, \"is_present\": false}, {\"time\": \"2000-01-01T16:00:00\", \"variable\": \"VPD\", \"value\": 0.0, \"is_present\": false}, {\"time\": \"2000-01-01T16:30:00\", \"variable\": \"VPD\", \"value\": 0.0, \"is_present\": false}, {\"time\": \"2000-01-01T17:00:00\", \"variable\": \"VPD\", \"value\": 0.0, \"is_present\": false}, {\"time\": \"2000-01-01T17:30:00\", \"variable\": \"VPD\", \"value\": 0.0, \"is_present\": false}, {\"time\": \"2000-01-01T18:00:00\", \"variable\": \"VPD\", \"value\": 0.0, \"is_present\": true}, {\"time\": \"2000-01-01T18:30:00\", \"variable\": \"VPD\", \"value\": 0.0, \"is_present\": true}, {\"time\": \"2000-01-01T19:00:00\", \"variable\": \"VPD\", \"value\": 0.0020000000949949026, \"is_present\": true}, {\"time\": \"2000-01-01T19:30:00\", \"variable\": \"VPD\", \"value\": 0.008999999612569809, \"is_present\": true}, {\"time\": \"2000-01-01T20:00:00\", \"variable\": \"VPD\", \"value\": 0.014000000432133675, \"is_present\": true}]}}, {\"mode\": \"vega-lite\"});\n",
       "</script>"
      ],
      "text/plain": [
       "alt.Chart(...)"
      ]
     },
     "execution_count": null,
     "metadata": {},
     "output_type": "execute_result"
    }
   ],
   "source": [
    "plot_rug(m_df.tidy())"
   ]
  },
  {
   "cell_type": "code",
   "execution_count": null,
   "id": "52f438da-c85f-40e7-bdac-c08bce559cc3",
   "metadata": {},
   "outputs": [],
   "source": [
    "def plot_points(df, y_label = \"\", sel = def_selection(), props = {}):\n",
    "    return alt.Chart(df).mark_point(\n",
    "            color='black',\n",
    "            strokeWidth = 1,\n",
    "            fillOpacity = 1\n",
    "        ).encode(\n",
    "            x = alt.X(\"time\", axis=alt.Axis(domain=False, labels = False, ticks=False, title=None)),\n",
    "            y = alt.Y(\"value\", title = y_label, scale=alt.Scale(zero=False)),\n",
    "            fill= alt.Fill(\"is_present\", scale = alt.Scale(range=[\"black\", \"#ffffff00\"]),\n",
    "                           legend = alt.Legend(title =[\"Observed data\"])),\n",
    "            shape = \"is_present\",\n",
    "        )"
   ]
  },
  {
   "cell_type": "code",
   "execution_count": null,
   "id": "530d054b-120d-4883-9692-ff2518adabbf",
   "metadata": {},
   "outputs": [
    {
     "name": "stderr",
     "output_type": "stream",
     "text": [
      "/home/simone/.local/lib/python3.10/site-packages/altair/utils/core.py:317: FutureWarning: iteritems is deprecated and will be removed in a future version. Use .items instead.\n",
      "  for col_name, dtype in df.dtypes.iteritems():\n"
     ]
    },
    {
     "data": {
      "text/html": [
       "\n",
       "<div id=\"altair-viz-eb30af1872644f5db4d1aec9efa4c43e\"></div>\n",
       "<script type=\"text/javascript\">\n",
       "  var VEGA_DEBUG = (typeof VEGA_DEBUG == \"undefined\") ? {} : VEGA_DEBUG;\n",
       "  (function(spec, embedOpt){\n",
       "    let outputDiv = document.currentScript.previousElementSibling;\n",
       "    if (outputDiv.id !== \"altair-viz-eb30af1872644f5db4d1aec9efa4c43e\") {\n",
       "      outputDiv = document.getElementById(\"altair-viz-eb30af1872644f5db4d1aec9efa4c43e\");\n",
       "    }\n",
       "    const paths = {\n",
       "      \"vega\": \"https://cdn.jsdelivr.net/npm//vega@5?noext\",\n",
       "      \"vega-lib\": \"https://cdn.jsdelivr.net/npm//vega-lib?noext\",\n",
       "      \"vega-lite\": \"https://cdn.jsdelivr.net/npm//vega-lite@4.17.0?noext\",\n",
       "      \"vega-embed\": \"https://cdn.jsdelivr.net/npm//vega-embed@6?noext\",\n",
       "    };\n",
       "\n",
       "    function maybeLoadScript(lib, version) {\n",
       "      var key = `${lib.replace(\"-\", \"\")}_version`;\n",
       "      return (VEGA_DEBUG[key] == version) ?\n",
       "        Promise.resolve(paths[lib]) :\n",
       "        new Promise(function(resolve, reject) {\n",
       "          var s = document.createElement('script');\n",
       "          document.getElementsByTagName(\"head\")[0].appendChild(s);\n",
       "          s.async = true;\n",
       "          s.onload = () => {\n",
       "            VEGA_DEBUG[key] = version;\n",
       "            return resolve(paths[lib]);\n",
       "          };\n",
       "          s.onerror = () => reject(`Error loading script: ${paths[lib]}`);\n",
       "          s.src = paths[lib];\n",
       "        });\n",
       "    }\n",
       "\n",
       "    function showError(err) {\n",
       "      outputDiv.innerHTML = `<div class=\"error\" style=\"color:red;\">${err}</div>`;\n",
       "      throw err;\n",
       "    }\n",
       "\n",
       "    function displayChart(vegaEmbed) {\n",
       "      vegaEmbed(outputDiv, spec, embedOpt)\n",
       "        .catch(err => showError(`Javascript Error: ${err.message}<br>This usually means there's a typo in your chart specification. See the javascript console for the full traceback.`));\n",
       "    }\n",
       "\n",
       "    if(typeof define === \"function\" && define.amd) {\n",
       "      requirejs.config({paths});\n",
       "      require([\"vega-embed\"], displayChart, err => showError(`Error loading script: ${err.message}`));\n",
       "    } else {\n",
       "      maybeLoadScript(\"vega\", \"5\")\n",
       "        .then(() => maybeLoadScript(\"vega-lite\", \"4.17.0\"))\n",
       "        .then(() => maybeLoadScript(\"vega-embed\", \"6\"))\n",
       "        .catch(showError)\n",
       "        .then(() => displayChart(vegaEmbed));\n",
       "    }\n",
       "  })({\"config\": {\"view\": {\"continuousWidth\": 400, \"continuousHeight\": 300}}, \"data\": {\"name\": \"data-8dbc285ff9e9a0880661cf5960fe4e06\"}, \"mark\": {\"type\": \"point\", \"color\": \"black\", \"fillOpacity\": 1, \"strokeWidth\": 1}, \"encoding\": {\"fill\": {\"field\": \"is_present\", \"legend\": {\"title\": [\"Observed data\"]}, \"scale\": {\"range\": [\"black\", \"#ffffff00\"]}, \"type\": \"nominal\"}, \"shape\": {\"field\": \"is_present\", \"type\": \"nominal\"}, \"x\": {\"axis\": {\"domain\": false, \"labels\": false, \"ticks\": false, \"title\": null}, \"field\": \"time\", \"type\": \"temporal\"}, \"y\": {\"field\": \"value\", \"scale\": {\"zero\": false}, \"title\": \"\", \"type\": \"quantitative\"}}, \"$schema\": \"https://vega.github.io/schema/vega-lite/v4.17.0.json\", \"datasets\": {\"data-8dbc285ff9e9a0880661cf5960fe4e06\": [{\"time\": \"2000-01-01T15:30:00\", \"variable\": \"TA\", \"value\": 0.5199999809265137, \"is_present\": false}, {\"time\": \"2000-01-01T16:00:00\", \"variable\": \"TA\", \"value\": 0.5699999928474426, \"is_present\": false}, {\"time\": \"2000-01-01T16:30:00\", \"variable\": \"TA\", \"value\": 0.7300000190734863, \"is_present\": false}, {\"time\": \"2000-01-01T17:00:00\", \"variable\": \"TA\", \"value\": 0.7699999809265137, \"is_present\": false}, {\"time\": \"2000-01-01T17:30:00\", \"variable\": \"TA\", \"value\": 0.8399999737739563, \"is_present\": false}, {\"time\": \"2000-01-01T18:00:00\", \"variable\": \"TA\", \"value\": 0.9900000095367432, \"is_present\": true}, {\"time\": \"2000-01-01T18:30:00\", \"variable\": \"TA\", \"value\": 1.350000023841858, \"is_present\": true}, {\"time\": \"2000-01-01T19:00:00\", \"variable\": \"TA\", \"value\": 1.8600000143051147, \"is_present\": true}, {\"time\": \"2000-01-01T19:30:00\", \"variable\": \"TA\", \"value\": 2.009999990463257, \"is_present\": true}, {\"time\": \"2000-01-01T20:00:00\", \"variable\": \"TA\", \"value\": 2.069999933242798, \"is_present\": true}, {\"time\": \"2000-01-01T15:30:00\", \"variable\": \"SW_IN\", \"value\": 8.09000015258789, \"is_present\": true}, {\"time\": \"2000-01-01T16:00:00\", \"variable\": \"SW_IN\", \"value\": 6.369999885559082, \"is_present\": true}, {\"time\": \"2000-01-01T16:30:00\", \"variable\": \"SW_IN\", \"value\": 1.7200000286102295, \"is_present\": true}, {\"time\": \"2000-01-01T17:00:00\", \"variable\": \"SW_IN\", \"value\": 0.05999999865889549, \"is_present\": true}, {\"time\": \"2000-01-01T17:30:00\", \"variable\": \"SW_IN\", \"value\": 0.0, \"is_present\": true}, {\"time\": \"2000-01-01T18:00:00\", \"variable\": \"SW_IN\", \"value\": 0.0, \"is_present\": true}, {\"time\": \"2000-01-01T18:30:00\", \"variable\": \"SW_IN\", \"value\": 0.0, \"is_present\": true}, {\"time\": \"2000-01-01T19:00:00\", \"variable\": \"SW_IN\", \"value\": 0.0, \"is_present\": true}, {\"time\": \"2000-01-01T19:30:00\", \"variable\": \"SW_IN\", \"value\": 0.0, \"is_present\": true}, {\"time\": \"2000-01-01T20:00:00\", \"variable\": \"SW_IN\", \"value\": 0.0, \"is_present\": true}, {\"time\": \"2000-01-01T15:30:00\", \"variable\": \"VPD\", \"value\": 0.0, \"is_present\": false}, {\"time\": \"2000-01-01T16:00:00\", \"variable\": \"VPD\", \"value\": 0.0, \"is_present\": false}, {\"time\": \"2000-01-01T16:30:00\", \"variable\": \"VPD\", \"value\": 0.0, \"is_present\": false}, {\"time\": \"2000-01-01T17:00:00\", \"variable\": \"VPD\", \"value\": 0.0, \"is_present\": false}, {\"time\": \"2000-01-01T17:30:00\", \"variable\": \"VPD\", \"value\": 0.0, \"is_present\": false}, {\"time\": \"2000-01-01T18:00:00\", \"variable\": \"VPD\", \"value\": 0.0, \"is_present\": true}, {\"time\": \"2000-01-01T18:30:00\", \"variable\": \"VPD\", \"value\": 0.0, \"is_present\": true}, {\"time\": \"2000-01-01T19:00:00\", \"variable\": \"VPD\", \"value\": 0.0020000000949949026, \"is_present\": true}, {\"time\": \"2000-01-01T19:30:00\", \"variable\": \"VPD\", \"value\": 0.008999999612569809, \"is_present\": true}, {\"time\": \"2000-01-01T20:00:00\", \"variable\": \"VPD\", \"value\": 0.014000000432133675, \"is_present\": true}]}}, {\"mode\": \"vega-lite\"});\n",
       "</script>"
      ],
      "text/plain": [
       "alt.Chart(...)"
      ]
     },
     "execution_count": null,
     "metadata": {},
     "output_type": "execute_result"
    }
   ],
   "source": [
    "plot_points(m_df.tidy())"
   ]
  },
  {
   "cell_type": "code",
   "execution_count": null,
   "id": "e7f9912e-eee1-40a6-9eb3-4b010a5278c5",
   "metadata": {},
   "outputs": [],
   "source": [
    "#| exporti\n",
    "def plot_line(df, only_present=True, y_label = \"\", sel = def_selection(), props = {}):\n",
    "    # df = df[df.is_present] if only_present else df\n",
    "    # TODO remove onle_present\n",
    "    return alt.Chart(df).mark_line().encode(\n",
    "        x = \"time\",    \n",
    "        y = alt.Y(\"value\", title = y_label, scale=alt.Scale(zero=False)),\n",
    "        color='variable'\n",
    "    ).add_selection(\n",
    "        sel\n",
    "    ).properties(\n",
    "        **props\n",
    "    )#.transform_filter(\n",
    "    #     datum.is_present\n",
    "    # )\n",
    "\n",
    "    "
   ]
  },
  {
   "cell_type": "code",
   "execution_count": null,
   "id": "c4723d86-f673-4cfa-ae8a-58fcc542930a",
   "metadata": {},
   "outputs": [
    {
     "name": "stderr",
     "output_type": "stream",
     "text": [
      "/home/simone/.local/lib/python3.10/site-packages/altair/utils/core.py:317: FutureWarning: iteritems is deprecated and will be removed in a future version. Use .items instead.\n",
      "  for col_name, dtype in df.dtypes.iteritems():\n"
     ]
    },
    {
     "data": {
      "text/html": [
       "\n",
       "<div id=\"altair-viz-93ef0eff78dd46aebda33c45e0783728\"></div>\n",
       "<script type=\"text/javascript\">\n",
       "  var VEGA_DEBUG = (typeof VEGA_DEBUG == \"undefined\") ? {} : VEGA_DEBUG;\n",
       "  (function(spec, embedOpt){\n",
       "    let outputDiv = document.currentScript.previousElementSibling;\n",
       "    if (outputDiv.id !== \"altair-viz-93ef0eff78dd46aebda33c45e0783728\") {\n",
       "      outputDiv = document.getElementById(\"altair-viz-93ef0eff78dd46aebda33c45e0783728\");\n",
       "    }\n",
       "    const paths = {\n",
       "      \"vega\": \"https://cdn.jsdelivr.net/npm//vega@5?noext\",\n",
       "      \"vega-lib\": \"https://cdn.jsdelivr.net/npm//vega-lib?noext\",\n",
       "      \"vega-lite\": \"https://cdn.jsdelivr.net/npm//vega-lite@4.17.0?noext\",\n",
       "      \"vega-embed\": \"https://cdn.jsdelivr.net/npm//vega-embed@6?noext\",\n",
       "    };\n",
       "\n",
       "    function maybeLoadScript(lib, version) {\n",
       "      var key = `${lib.replace(\"-\", \"\")}_version`;\n",
       "      return (VEGA_DEBUG[key] == version) ?\n",
       "        Promise.resolve(paths[lib]) :\n",
       "        new Promise(function(resolve, reject) {\n",
       "          var s = document.createElement('script');\n",
       "          document.getElementsByTagName(\"head\")[0].appendChild(s);\n",
       "          s.async = true;\n",
       "          s.onload = () => {\n",
       "            VEGA_DEBUG[key] = version;\n",
       "            return resolve(paths[lib]);\n",
       "          };\n",
       "          s.onerror = () => reject(`Error loading script: ${paths[lib]}`);\n",
       "          s.src = paths[lib];\n",
       "        });\n",
       "    }\n",
       "\n",
       "    function showError(err) {\n",
       "      outputDiv.innerHTML = `<div class=\"error\" style=\"color:red;\">${err}</div>`;\n",
       "      throw err;\n",
       "    }\n",
       "\n",
       "    function displayChart(vegaEmbed) {\n",
       "      vegaEmbed(outputDiv, spec, embedOpt)\n",
       "        .catch(err => showError(`Javascript Error: ${err.message}<br>This usually means there's a typo in your chart specification. See the javascript console for the full traceback.`));\n",
       "    }\n",
       "\n",
       "    if(typeof define === \"function\" && define.amd) {\n",
       "      requirejs.config({paths});\n",
       "      require([\"vega-embed\"], displayChart, err => showError(`Error loading script: ${err.message}`));\n",
       "    } else {\n",
       "      maybeLoadScript(\"vega\", \"5\")\n",
       "        .then(() => maybeLoadScript(\"vega-lite\", \"4.17.0\"))\n",
       "        .then(() => maybeLoadScript(\"vega-embed\", \"6\"))\n",
       "        .catch(showError)\n",
       "        .then(() => displayChart(vegaEmbed));\n",
       "    }\n",
       "  })({\"config\": {\"view\": {\"continuousWidth\": 400, \"continuousHeight\": 300}}, \"data\": {\"name\": \"data-8dbc285ff9e9a0880661cf5960fe4e06\"}, \"mark\": \"line\", \"encoding\": {\"color\": {\"field\": \"variable\", \"type\": \"nominal\"}, \"x\": {\"field\": \"time\", \"type\": \"temporal\"}, \"y\": {\"field\": \"value\", \"scale\": {\"zero\": false}, \"title\": \"\", \"type\": \"quantitative\"}}, \"selection\": {\"selector003\": {\"type\": \"interval\", \"bind\": \"scales\"}}, \"$schema\": \"https://vega.github.io/schema/vega-lite/v4.17.0.json\", \"datasets\": {\"data-8dbc285ff9e9a0880661cf5960fe4e06\": [{\"time\": \"2000-01-01T15:30:00\", \"variable\": \"TA\", \"value\": 0.5199999809265137, \"is_present\": false}, {\"time\": \"2000-01-01T16:00:00\", \"variable\": \"TA\", \"value\": 0.5699999928474426, \"is_present\": false}, {\"time\": \"2000-01-01T16:30:00\", \"variable\": \"TA\", \"value\": 0.7300000190734863, \"is_present\": false}, {\"time\": \"2000-01-01T17:00:00\", \"variable\": \"TA\", \"value\": 0.7699999809265137, \"is_present\": false}, {\"time\": \"2000-01-01T17:30:00\", \"variable\": \"TA\", \"value\": 0.8399999737739563, \"is_present\": false}, {\"time\": \"2000-01-01T18:00:00\", \"variable\": \"TA\", \"value\": 0.9900000095367432, \"is_present\": true}, {\"time\": \"2000-01-01T18:30:00\", \"variable\": \"TA\", \"value\": 1.350000023841858, \"is_present\": true}, {\"time\": \"2000-01-01T19:00:00\", \"variable\": \"TA\", \"value\": 1.8600000143051147, \"is_present\": true}, {\"time\": \"2000-01-01T19:30:00\", \"variable\": \"TA\", \"value\": 2.009999990463257, \"is_present\": true}, {\"time\": \"2000-01-01T20:00:00\", \"variable\": \"TA\", \"value\": 2.069999933242798, \"is_present\": true}, {\"time\": \"2000-01-01T15:30:00\", \"variable\": \"SW_IN\", \"value\": 8.09000015258789, \"is_present\": true}, {\"time\": \"2000-01-01T16:00:00\", \"variable\": \"SW_IN\", \"value\": 6.369999885559082, \"is_present\": true}, {\"time\": \"2000-01-01T16:30:00\", \"variable\": \"SW_IN\", \"value\": 1.7200000286102295, \"is_present\": true}, {\"time\": \"2000-01-01T17:00:00\", \"variable\": \"SW_IN\", \"value\": 0.05999999865889549, \"is_present\": true}, {\"time\": \"2000-01-01T17:30:00\", \"variable\": \"SW_IN\", \"value\": 0.0, \"is_present\": true}, {\"time\": \"2000-01-01T18:00:00\", \"variable\": \"SW_IN\", \"value\": 0.0, \"is_present\": true}, {\"time\": \"2000-01-01T18:30:00\", \"variable\": \"SW_IN\", \"value\": 0.0, \"is_present\": true}, {\"time\": \"2000-01-01T19:00:00\", \"variable\": \"SW_IN\", \"value\": 0.0, \"is_present\": true}, {\"time\": \"2000-01-01T19:30:00\", \"variable\": \"SW_IN\", \"value\": 0.0, \"is_present\": true}, {\"time\": \"2000-01-01T20:00:00\", \"variable\": \"SW_IN\", \"value\": 0.0, \"is_present\": true}, {\"time\": \"2000-01-01T15:30:00\", \"variable\": \"VPD\", \"value\": 0.0, \"is_present\": false}, {\"time\": \"2000-01-01T16:00:00\", \"variable\": \"VPD\", \"value\": 0.0, \"is_present\": false}, {\"time\": \"2000-01-01T16:30:00\", \"variable\": \"VPD\", \"value\": 0.0, \"is_present\": false}, {\"time\": \"2000-01-01T17:00:00\", \"variable\": \"VPD\", \"value\": 0.0, \"is_present\": false}, {\"time\": \"2000-01-01T17:30:00\", \"variable\": \"VPD\", \"value\": 0.0, \"is_present\": false}, {\"time\": \"2000-01-01T18:00:00\", \"variable\": \"VPD\", \"value\": 0.0, \"is_present\": true}, {\"time\": \"2000-01-01T18:30:00\", \"variable\": \"VPD\", \"value\": 0.0, \"is_present\": true}, {\"time\": \"2000-01-01T19:00:00\", \"variable\": \"VPD\", \"value\": 0.0020000000949949026, \"is_present\": true}, {\"time\": \"2000-01-01T19:30:00\", \"variable\": \"VPD\", \"value\": 0.008999999612569809, \"is_present\": true}, {\"time\": \"2000-01-01T20:00:00\", \"variable\": \"VPD\", \"value\": 0.014000000432133675, \"is_present\": true}]}}, {\"mode\": \"vega-lite\"});\n",
       "</script>"
      ],
      "text/plain": [
       "alt.Chart(...)"
      ]
     },
     "execution_count": null,
     "metadata": {},
     "output_type": "execute_result"
    }
   ],
   "source": [
    "plot_line(m_df.tidy())"
   ]
  },
  {
   "cell_type": "code",
   "execution_count": null,
   "id": "a26f136e-c919-4083-bad9-e40f2b4996bd",
   "metadata": {},
   "outputs": [],
   "source": [
    "#| exporti\n",
    "def plot_variable(df, variable, title=\"\", y_label=\"\", sel = None, props = {}):\n",
    "    df = df[df.variable == variable]\n",
    "    sel = ifnone(sel, def_selection())\n",
    "    # rug = plot_rug(df, sel, props)\n",
    "    points = plot_points(df, y_label, sel, props)\n",
    "    line = plot_line(df, True, y_label, sel, props)\n",
    "    \n",
    "    return (points + line).properties(title=title)\n",
    "    \n",
    "    # return alt.VConcatChart(vconcat=[(points + line), rug], spacing=-10).properties(title=title)"
   ]
  },
  {
   "cell_type": "code",
   "execution_count": null,
   "id": "fa1c1f39-0db0-4842-bada-da41eacd9ac6",
   "metadata": {},
   "outputs": [
    {
     "name": "stderr",
     "output_type": "stream",
     "text": [
      "/home/simone/.local/lib/python3.10/site-packages/altair/utils/core.py:317: FutureWarning: iteritems is deprecated and will be removed in a future version. Use .items instead.\n",
      "  for col_name, dtype in df.dtypes.iteritems():\n"
     ]
    },
    {
     "data": {
      "text/html": [
       "\n",
       "<div id=\"altair-viz-868117bcb25246558352584f8f47195b\"></div>\n",
       "<script type=\"text/javascript\">\n",
       "  var VEGA_DEBUG = (typeof VEGA_DEBUG == \"undefined\") ? {} : VEGA_DEBUG;\n",
       "  (function(spec, embedOpt){\n",
       "    let outputDiv = document.currentScript.previousElementSibling;\n",
       "    if (outputDiv.id !== \"altair-viz-868117bcb25246558352584f8f47195b\") {\n",
       "      outputDiv = document.getElementById(\"altair-viz-868117bcb25246558352584f8f47195b\");\n",
       "    }\n",
       "    const paths = {\n",
       "      \"vega\": \"https://cdn.jsdelivr.net/npm//vega@5?noext\",\n",
       "      \"vega-lib\": \"https://cdn.jsdelivr.net/npm//vega-lib?noext\",\n",
       "      \"vega-lite\": \"https://cdn.jsdelivr.net/npm//vega-lite@4.17.0?noext\",\n",
       "      \"vega-embed\": \"https://cdn.jsdelivr.net/npm//vega-embed@6?noext\",\n",
       "    };\n",
       "\n",
       "    function maybeLoadScript(lib, version) {\n",
       "      var key = `${lib.replace(\"-\", \"\")}_version`;\n",
       "      return (VEGA_DEBUG[key] == version) ?\n",
       "        Promise.resolve(paths[lib]) :\n",
       "        new Promise(function(resolve, reject) {\n",
       "          var s = document.createElement('script');\n",
       "          document.getElementsByTagName(\"head\")[0].appendChild(s);\n",
       "          s.async = true;\n",
       "          s.onload = () => {\n",
       "            VEGA_DEBUG[key] = version;\n",
       "            return resolve(paths[lib]);\n",
       "          };\n",
       "          s.onerror = () => reject(`Error loading script: ${paths[lib]}`);\n",
       "          s.src = paths[lib];\n",
       "        });\n",
       "    }\n",
       "\n",
       "    function showError(err) {\n",
       "      outputDiv.innerHTML = `<div class=\"error\" style=\"color:red;\">${err}</div>`;\n",
       "      throw err;\n",
       "    }\n",
       "\n",
       "    function displayChart(vegaEmbed) {\n",
       "      vegaEmbed(outputDiv, spec, embedOpt)\n",
       "        .catch(err => showError(`Javascript Error: ${err.message}<br>This usually means there's a typo in your chart specification. See the javascript console for the full traceback.`));\n",
       "    }\n",
       "\n",
       "    if(typeof define === \"function\" && define.amd) {\n",
       "      requirejs.config({paths});\n",
       "      require([\"vega-embed\"], displayChart, err => showError(`Error loading script: ${err.message}`));\n",
       "    } else {\n",
       "      maybeLoadScript(\"vega\", \"5\")\n",
       "        .then(() => maybeLoadScript(\"vega-lite\", \"4.17.0\"))\n",
       "        .then(() => maybeLoadScript(\"vega-embed\", \"6\"))\n",
       "        .catch(showError)\n",
       "        .then(() => displayChart(vegaEmbed));\n",
       "    }\n",
       "  })({\"config\": {\"view\": {\"continuousWidth\": 400, \"continuousHeight\": 300}}, \"layer\": [{\"mark\": {\"type\": \"point\", \"color\": \"black\", \"fillOpacity\": 1, \"strokeWidth\": 1}, \"encoding\": {\"fill\": {\"field\": \"is_present\", \"legend\": {\"title\": [\"Observed data\"]}, \"scale\": {\"range\": [\"black\", \"#ffffff00\"]}, \"type\": \"nominal\"}, \"shape\": {\"field\": \"is_present\", \"type\": \"nominal\"}, \"x\": {\"axis\": {\"domain\": false, \"labels\": false, \"ticks\": false, \"title\": null}, \"field\": \"time\", \"type\": \"temporal\"}, \"y\": {\"field\": \"value\", \"scale\": {\"zero\": false}, \"title\": \"\", \"type\": \"quantitative\"}}}, {\"mark\": \"line\", \"encoding\": {\"color\": {\"field\": \"variable\", \"type\": \"nominal\"}, \"x\": {\"field\": \"time\", \"type\": \"temporal\"}, \"y\": {\"field\": \"value\", \"scale\": {\"zero\": false}, \"title\": \"\", \"type\": \"quantitative\"}}, \"selection\": {\"selector004\": {\"type\": \"interval\", \"bind\": \"scales\"}}}], \"data\": {\"name\": \"data-c216e5a4167f549263b7fefd6be27b9a\"}, \"title\": \"title TA\", \"$schema\": \"https://vega.github.io/schema/vega-lite/v4.17.0.json\", \"datasets\": {\"data-c216e5a4167f549263b7fefd6be27b9a\": [{\"time\": \"2000-01-01T15:30:00\", \"variable\": \"TA\", \"value\": 0.5199999809265137, \"is_present\": false}, {\"time\": \"2000-01-01T16:00:00\", \"variable\": \"TA\", \"value\": 0.5699999928474426, \"is_present\": false}, {\"time\": \"2000-01-01T16:30:00\", \"variable\": \"TA\", \"value\": 0.7300000190734863, \"is_present\": false}, {\"time\": \"2000-01-01T17:00:00\", \"variable\": \"TA\", \"value\": 0.7699999809265137, \"is_present\": false}, {\"time\": \"2000-01-01T17:30:00\", \"variable\": \"TA\", \"value\": 0.8399999737739563, \"is_present\": false}, {\"time\": \"2000-01-01T18:00:00\", \"variable\": \"TA\", \"value\": 0.9900000095367432, \"is_present\": true}, {\"time\": \"2000-01-01T18:30:00\", \"variable\": \"TA\", \"value\": 1.350000023841858, \"is_present\": true}, {\"time\": \"2000-01-01T19:00:00\", \"variable\": \"TA\", \"value\": 1.8600000143051147, \"is_present\": true}, {\"time\": \"2000-01-01T19:30:00\", \"variable\": \"TA\", \"value\": 2.009999990463257, \"is_present\": true}, {\"time\": \"2000-01-01T20:00:00\", \"variable\": \"TA\", \"value\": 2.069999933242798, \"is_present\": true}]}}, {\"mode\": \"vega-lite\"});\n",
       "</script>"
      ],
      "text/plain": [
       "alt.LayerChart(...)"
      ]
     },
     "execution_count": null,
     "metadata": {},
     "output_type": "execute_result"
    }
   ],
   "source": [
    "plot_variable(m_df.tidy(), \"TA\", title=\"title TA\")"
   ]
  },
  {
   "cell_type": "code",
   "execution_count": null,
   "id": "1787dc1e-cf5f-479b-9173-eaaf2643fd77",
   "metadata": {},
   "outputs": [],
   "source": [
    "#| export\n",
    "@patch\n",
    "def show(self: MaskedDf, ax=None, ctx=None, \n",
    "        n_cols: int = 3,\n",
    "        bind_interaction: bool =True, # Whether the sub-plots for each variable should be connected for zooming/panning\n",
    "        props:dict = None # additional properties (eg. size) for altair plot\n",
    "       ) -> alt.Chart:\n",
    "    \n",
    "    df = self.tidy()\n",
    "    \n",
    "    props = ifnone(props, {'width': 180, 'height': 100})\n",
    "   \n",
    "    plot_list = [alt.hconcat() for _ in range(0, self.data.shape[0], n_cols)]\n",
    "    selection_scale = alt.selection_interval(bind=\"scales\", encodings=['x']) if bind_interaction else None\n",
    "    for idx, variable in enumerate(self.data.columns):\n",
    "        plot = plot_variable(df,\n",
    "                            variable,\n",
    "                            title = variable,\n",
    "                            y_label = variable,\n",
    "                            sel = selection_scale,\n",
    "                            props=props)\n",
    "        \n",
    "        plot_list[idx // n_cols] |= plot\n",
    "    \n",
    "    plot = alt.vconcat(*plot_list)\n",
    "    \n",
    "    return plot"
   ]
  },
  {
   "cell_type": "code",
   "execution_count": null,
   "id": "4b3200e8-9bdb-4882-a2c7-a241ef1c57c1",
   "metadata": {},
   "outputs": [
    {
     "name": "stderr",
     "output_type": "stream",
     "text": [
      "/home/simone/.local/lib/python3.10/site-packages/altair/utils/core.py:317: FutureWarning: iteritems is deprecated and will be removed in a future version. Use .items instead.\n",
      "  for col_name, dtype in df.dtypes.iteritems():\n"
     ]
    },
    {
     "data": {
      "text/html": [
       "\n",
       "<div id=\"altair-viz-5fc75f22d6de46da912277c6c72fc071\"></div>\n",
       "<script type=\"text/javascript\">\n",
       "  var VEGA_DEBUG = (typeof VEGA_DEBUG == \"undefined\") ? {} : VEGA_DEBUG;\n",
       "  (function(spec, embedOpt){\n",
       "    let outputDiv = document.currentScript.previousElementSibling;\n",
       "    if (outputDiv.id !== \"altair-viz-5fc75f22d6de46da912277c6c72fc071\") {\n",
       "      outputDiv = document.getElementById(\"altair-viz-5fc75f22d6de46da912277c6c72fc071\");\n",
       "    }\n",
       "    const paths = {\n",
       "      \"vega\": \"https://cdn.jsdelivr.net/npm//vega@5?noext\",\n",
       "      \"vega-lib\": \"https://cdn.jsdelivr.net/npm//vega-lib?noext\",\n",
       "      \"vega-lite\": \"https://cdn.jsdelivr.net/npm//vega-lite@4.17.0?noext\",\n",
       "      \"vega-embed\": \"https://cdn.jsdelivr.net/npm//vega-embed@6?noext\",\n",
       "    };\n",
       "\n",
       "    function maybeLoadScript(lib, version) {\n",
       "      var key = `${lib.replace(\"-\", \"\")}_version`;\n",
       "      return (VEGA_DEBUG[key] == version) ?\n",
       "        Promise.resolve(paths[lib]) :\n",
       "        new Promise(function(resolve, reject) {\n",
       "          var s = document.createElement('script');\n",
       "          document.getElementsByTagName(\"head\")[0].appendChild(s);\n",
       "          s.async = true;\n",
       "          s.onload = () => {\n",
       "            VEGA_DEBUG[key] = version;\n",
       "            return resolve(paths[lib]);\n",
       "          };\n",
       "          s.onerror = () => reject(`Error loading script: ${paths[lib]}`);\n",
       "          s.src = paths[lib];\n",
       "        });\n",
       "    }\n",
       "\n",
       "    function showError(err) {\n",
       "      outputDiv.innerHTML = `<div class=\"error\" style=\"color:red;\">${err}</div>`;\n",
       "      throw err;\n",
       "    }\n",
       "\n",
       "    function displayChart(vegaEmbed) {\n",
       "      vegaEmbed(outputDiv, spec, embedOpt)\n",
       "        .catch(err => showError(`Javascript Error: ${err.message}<br>This usually means there's a typo in your chart specification. See the javascript console for the full traceback.`));\n",
       "    }\n",
       "\n",
       "    if(typeof define === \"function\" && define.amd) {\n",
       "      requirejs.config({paths});\n",
       "      require([\"vega-embed\"], displayChart, err => showError(`Error loading script: ${err.message}`));\n",
       "    } else {\n",
       "      maybeLoadScript(\"vega\", \"5\")\n",
       "        .then(() => maybeLoadScript(\"vega-lite\", \"4.17.0\"))\n",
       "        .then(() => maybeLoadScript(\"vega-embed\", \"6\"))\n",
       "        .catch(showError)\n",
       "        .then(() => displayChart(vegaEmbed));\n",
       "    }\n",
       "  })({\"config\": {\"view\": {\"continuousWidth\": 400, \"continuousHeight\": 300}}, \"vconcat\": [{\"hconcat\": [{\"layer\": [{\"mark\": {\"type\": \"point\", \"color\": \"black\", \"fillOpacity\": 1, \"strokeWidth\": 1}, \"encoding\": {\"fill\": {\"field\": \"is_present\", \"legend\": {\"title\": [\"Observed data\"]}, \"scale\": {\"range\": [\"black\", \"#ffffff00\"]}, \"type\": \"nominal\"}, \"shape\": {\"field\": \"is_present\", \"type\": \"nominal\"}, \"x\": {\"axis\": {\"domain\": false, \"labels\": false, \"ticks\": false, \"title\": null}, \"field\": \"time\", \"type\": \"temporal\"}, \"y\": {\"field\": \"value\", \"scale\": {\"zero\": false}, \"title\": \"TA\", \"type\": \"quantitative\"}}}, {\"mark\": \"line\", \"encoding\": {\"color\": {\"field\": \"variable\", \"type\": \"nominal\"}, \"x\": {\"field\": \"time\", \"type\": \"temporal\"}, \"y\": {\"field\": \"value\", \"scale\": {\"zero\": false}, \"title\": \"TA\", \"type\": \"quantitative\"}}, \"height\": 100, \"selection\": {\"selector005\": {\"type\": \"interval\", \"bind\": \"scales\", \"encodings\": [\"x\"]}}, \"width\": 180}], \"title\": \"TA\"}, {\"layer\": [{\"mark\": {\"type\": \"point\", \"color\": \"black\", \"fillOpacity\": 1, \"strokeWidth\": 1}, \"encoding\": {\"fill\": {\"field\": \"is_present\", \"legend\": {\"title\": [\"Observed data\"]}, \"scale\": {\"range\": [\"black\", \"#ffffff00\"]}, \"type\": \"nominal\"}, \"shape\": {\"field\": \"is_present\", \"type\": \"nominal\"}, \"x\": {\"axis\": {\"domain\": false, \"labels\": false, \"ticks\": false, \"title\": null}, \"field\": \"time\", \"type\": \"temporal\"}, \"y\": {\"field\": \"value\", \"scale\": {\"zero\": false}, \"title\": \"SW_IN\", \"type\": \"quantitative\"}}}, {\"mark\": \"line\", \"encoding\": {\"color\": {\"field\": \"variable\", \"type\": \"nominal\"}, \"x\": {\"field\": \"time\", \"type\": \"temporal\"}, \"y\": {\"field\": \"value\", \"scale\": {\"zero\": false}, \"title\": \"SW_IN\", \"type\": \"quantitative\"}}, \"height\": 100, \"selection\": {\"selector005\": {\"type\": \"interval\", \"bind\": \"scales\", \"encodings\": [\"x\"]}}, \"width\": 180}], \"data\": {\"name\": \"data-c3a60f1c986b6caa7e65dff6e5822e40\"}, \"title\": \"SW_IN\"}, {\"layer\": [{\"mark\": {\"type\": \"point\", \"color\": \"black\", \"fillOpacity\": 1, \"strokeWidth\": 1}, \"encoding\": {\"fill\": {\"field\": \"is_present\", \"legend\": {\"title\": [\"Observed data\"]}, \"scale\": {\"range\": [\"black\", \"#ffffff00\"]}, \"type\": \"nominal\"}, \"shape\": {\"field\": \"is_present\", \"type\": \"nominal\"}, \"x\": {\"axis\": {\"domain\": false, \"labels\": false, \"ticks\": false, \"title\": null}, \"field\": \"time\", \"type\": \"temporal\"}, \"y\": {\"field\": \"value\", \"scale\": {\"zero\": false}, \"title\": \"VPD\", \"type\": \"quantitative\"}}}, {\"mark\": \"line\", \"encoding\": {\"color\": {\"field\": \"variable\", \"type\": \"nominal\"}, \"x\": {\"field\": \"time\", \"type\": \"temporal\"}, \"y\": {\"field\": \"value\", \"scale\": {\"zero\": false}, \"title\": \"VPD\", \"type\": \"quantitative\"}}, \"height\": 100, \"selection\": {\"selector005\": {\"type\": \"interval\", \"bind\": \"scales\", \"encodings\": [\"x\"]}}, \"width\": 180}], \"data\": {\"name\": \"data-b515775ddfb81c914376c617816a3fce\"}, \"title\": \"VPD\"}], \"data\": {\"name\": \"data-c216e5a4167f549263b7fefd6be27b9a\"}}, {\"hconcat\": []}, {\"hconcat\": []}, {\"hconcat\": []}], \"$schema\": \"https://vega.github.io/schema/vega-lite/v4.17.0.json\", \"datasets\": {\"data-c216e5a4167f549263b7fefd6be27b9a\": [{\"time\": \"2000-01-01T15:30:00\", \"variable\": \"TA\", \"value\": 0.5199999809265137, \"is_present\": false}, {\"time\": \"2000-01-01T16:00:00\", \"variable\": \"TA\", \"value\": 0.5699999928474426, \"is_present\": false}, {\"time\": \"2000-01-01T16:30:00\", \"variable\": \"TA\", \"value\": 0.7300000190734863, \"is_present\": false}, {\"time\": \"2000-01-01T17:00:00\", \"variable\": \"TA\", \"value\": 0.7699999809265137, \"is_present\": false}, {\"time\": \"2000-01-01T17:30:00\", \"variable\": \"TA\", \"value\": 0.8399999737739563, \"is_present\": false}, {\"time\": \"2000-01-01T18:00:00\", \"variable\": \"TA\", \"value\": 0.9900000095367432, \"is_present\": true}, {\"time\": \"2000-01-01T18:30:00\", \"variable\": \"TA\", \"value\": 1.350000023841858, \"is_present\": true}, {\"time\": \"2000-01-01T19:00:00\", \"variable\": \"TA\", \"value\": 1.8600000143051147, \"is_present\": true}, {\"time\": \"2000-01-01T19:30:00\", \"variable\": \"TA\", \"value\": 2.009999990463257, \"is_present\": true}, {\"time\": \"2000-01-01T20:00:00\", \"variable\": \"TA\", \"value\": 2.069999933242798, \"is_present\": true}], \"data-c3a60f1c986b6caa7e65dff6e5822e40\": [{\"time\": \"2000-01-01T15:30:00\", \"variable\": \"SW_IN\", \"value\": 8.09000015258789, \"is_present\": true}, {\"time\": \"2000-01-01T16:00:00\", \"variable\": \"SW_IN\", \"value\": 6.369999885559082, \"is_present\": true}, {\"time\": \"2000-01-01T16:30:00\", \"variable\": \"SW_IN\", \"value\": 1.7200000286102295, \"is_present\": true}, {\"time\": \"2000-01-01T17:00:00\", \"variable\": \"SW_IN\", \"value\": 0.05999999865889549, \"is_present\": true}, {\"time\": \"2000-01-01T17:30:00\", \"variable\": \"SW_IN\", \"value\": 0.0, \"is_present\": true}, {\"time\": \"2000-01-01T18:00:00\", \"variable\": \"SW_IN\", \"value\": 0.0, \"is_present\": true}, {\"time\": \"2000-01-01T18:30:00\", \"variable\": \"SW_IN\", \"value\": 0.0, \"is_present\": true}, {\"time\": \"2000-01-01T19:00:00\", \"variable\": \"SW_IN\", \"value\": 0.0, \"is_present\": true}, {\"time\": \"2000-01-01T19:30:00\", \"variable\": \"SW_IN\", \"value\": 0.0, \"is_present\": true}, {\"time\": \"2000-01-01T20:00:00\", \"variable\": \"SW_IN\", \"value\": 0.0, \"is_present\": true}], \"data-b515775ddfb81c914376c617816a3fce\": [{\"time\": \"2000-01-01T15:30:00\", \"variable\": \"VPD\", \"value\": 0.0, \"is_present\": false}, {\"time\": \"2000-01-01T16:00:00\", \"variable\": \"VPD\", \"value\": 0.0, \"is_present\": false}, {\"time\": \"2000-01-01T16:30:00\", \"variable\": \"VPD\", \"value\": 0.0, \"is_present\": false}, {\"time\": \"2000-01-01T17:00:00\", \"variable\": \"VPD\", \"value\": 0.0, \"is_present\": false}, {\"time\": \"2000-01-01T17:30:00\", \"variable\": \"VPD\", \"value\": 0.0, \"is_present\": false}, {\"time\": \"2000-01-01T18:00:00\", \"variable\": \"VPD\", \"value\": 0.0, \"is_present\": true}, {\"time\": \"2000-01-01T18:30:00\", \"variable\": \"VPD\", \"value\": 0.0, \"is_present\": true}, {\"time\": \"2000-01-01T19:00:00\", \"variable\": \"VPD\", \"value\": 0.0020000000949949026, \"is_present\": true}, {\"time\": \"2000-01-01T19:30:00\", \"variable\": \"VPD\", \"value\": 0.008999999612569809, \"is_present\": true}, {\"time\": \"2000-01-01T20:00:00\", \"variable\": \"VPD\", \"value\": 0.014000000432133675, \"is_present\": true}]}}, {\"mode\": \"vega-lite\"});\n",
       "</script>"
      ],
      "text/plain": [
       "alt.VConcatChart(...)"
      ]
     },
     "execution_count": null,
     "metadata": {},
     "output_type": "execute_result"
    }
   ],
   "source": [
    "m_df.show()"
   ]
  },
  {
   "cell_type": "code",
   "execution_count": null,
   "id": "c9284e47-6433-405f-8b0d-a2cd6595bf94",
   "metadata": {},
   "outputs": [
    {
     "name": "stderr",
     "output_type": "stream",
     "text": [
      "/home/simone/.local/lib/python3.10/site-packages/altair/utils/core.py:317: FutureWarning: iteritems is deprecated and will be removed in a future version. Use .items instead.\n",
      "  for col_name, dtype in df.dtypes.iteritems():\n"
     ]
    },
    {
     "data": {
      "text/html": [
       "\n",
       "<div id=\"altair-viz-fae563ef763044768d62cfc6d7db3409\"></div>\n",
       "<script type=\"text/javascript\">\n",
       "  var VEGA_DEBUG = (typeof VEGA_DEBUG == \"undefined\") ? {} : VEGA_DEBUG;\n",
       "  (function(spec, embedOpt){\n",
       "    let outputDiv = document.currentScript.previousElementSibling;\n",
       "    if (outputDiv.id !== \"altair-viz-fae563ef763044768d62cfc6d7db3409\") {\n",
       "      outputDiv = document.getElementById(\"altair-viz-fae563ef763044768d62cfc6d7db3409\");\n",
       "    }\n",
       "    const paths = {\n",
       "      \"vega\": \"https://cdn.jsdelivr.net/npm//vega@5?noext\",\n",
       "      \"vega-lib\": \"https://cdn.jsdelivr.net/npm//vega-lib?noext\",\n",
       "      \"vega-lite\": \"https://cdn.jsdelivr.net/npm//vega-lite@4.17.0?noext\",\n",
       "      \"vega-embed\": \"https://cdn.jsdelivr.net/npm//vega-embed@6?noext\",\n",
       "    };\n",
       "\n",
       "    function maybeLoadScript(lib, version) {\n",
       "      var key = `${lib.replace(\"-\", \"\")}_version`;\n",
       "      return (VEGA_DEBUG[key] == version) ?\n",
       "        Promise.resolve(paths[lib]) :\n",
       "        new Promise(function(resolve, reject) {\n",
       "          var s = document.createElement('script');\n",
       "          document.getElementsByTagName(\"head\")[0].appendChild(s);\n",
       "          s.async = true;\n",
       "          s.onload = () => {\n",
       "            VEGA_DEBUG[key] = version;\n",
       "            return resolve(paths[lib]);\n",
       "          };\n",
       "          s.onerror = () => reject(`Error loading script: ${paths[lib]}`);\n",
       "          s.src = paths[lib];\n",
       "        });\n",
       "    }\n",
       "\n",
       "    function showError(err) {\n",
       "      outputDiv.innerHTML = `<div class=\"error\" style=\"color:red;\">${err}</div>`;\n",
       "      throw err;\n",
       "    }\n",
       "\n",
       "    function displayChart(vegaEmbed) {\n",
       "      vegaEmbed(outputDiv, spec, embedOpt)\n",
       "        .catch(err => showError(`Javascript Error: ${err.message}<br>This usually means there's a typo in your chart specification. See the javascript console for the full traceback.`));\n",
       "    }\n",
       "\n",
       "    if(typeof define === \"function\" && define.amd) {\n",
       "      requirejs.config({paths});\n",
       "      require([\"vega-embed\"], displayChart, err => showError(`Error loading script: ${err.message}`));\n",
       "    } else {\n",
       "      maybeLoadScript(\"vega\", \"5\")\n",
       "        .then(() => maybeLoadScript(\"vega-lite\", \"4.17.0\"))\n",
       "        .then(() => maybeLoadScript(\"vega-embed\", \"6\"))\n",
       "        .catch(showError)\n",
       "        .then(() => displayChart(vegaEmbed));\n",
       "    }\n",
       "  })({\"config\": {\"view\": {\"continuousWidth\": 400, \"continuousHeight\": 300}}, \"vconcat\": [{\"hconcat\": [{\"layer\": [{\"mark\": {\"type\": \"point\", \"color\": \"black\", \"fillOpacity\": 1, \"strokeWidth\": 1}, \"encoding\": {\"fill\": {\"field\": \"is_present\", \"legend\": {\"title\": [\"Observed data\"]}, \"scale\": {\"range\": [\"black\", \"#ffffff00\"]}, \"type\": \"nominal\"}, \"shape\": {\"field\": \"is_present\", \"type\": \"nominal\"}, \"x\": {\"axis\": {\"domain\": false, \"labels\": false, \"ticks\": false, \"title\": null}, \"field\": \"time\", \"type\": \"temporal\"}, \"y\": {\"field\": \"value\", \"scale\": {\"zero\": false}, \"title\": \"TA\", \"type\": \"quantitative\"}}}, {\"mark\": \"line\", \"encoding\": {\"color\": {\"field\": \"variable\", \"type\": \"nominal\"}, \"x\": {\"field\": \"time\", \"type\": \"temporal\"}, \"y\": {\"field\": \"value\", \"scale\": {\"zero\": false}, \"title\": \"TA\", \"type\": \"quantitative\"}}, \"height\": 100, \"selection\": {\"selector009\": {\"type\": \"interval\", \"bind\": \"scales\", \"encodings\": [\"x\"]}}, \"width\": 180}], \"title\": \"TA\"}, {\"layer\": [{\"mark\": {\"type\": \"point\", \"color\": \"black\", \"fillOpacity\": 1, \"strokeWidth\": 1}, \"encoding\": {\"fill\": {\"field\": \"is_present\", \"legend\": {\"title\": [\"Observed data\"]}, \"scale\": {\"range\": [\"black\", \"#ffffff00\"]}, \"type\": \"nominal\"}, \"shape\": {\"field\": \"is_present\", \"type\": \"nominal\"}, \"x\": {\"axis\": {\"domain\": false, \"labels\": false, \"ticks\": false, \"title\": null}, \"field\": \"time\", \"type\": \"temporal\"}, \"y\": {\"field\": \"value\", \"scale\": {\"zero\": false}, \"title\": \"SW_IN\", \"type\": \"quantitative\"}}}, {\"mark\": \"line\", \"encoding\": {\"color\": {\"field\": \"variable\", \"type\": \"nominal\"}, \"x\": {\"field\": \"time\", \"type\": \"temporal\"}, \"y\": {\"field\": \"value\", \"scale\": {\"zero\": false}, \"title\": \"SW_IN\", \"type\": \"quantitative\"}}, \"height\": 100, \"selection\": {\"selector009\": {\"type\": \"interval\", \"bind\": \"scales\", \"encodings\": [\"x\"]}}, \"width\": 180}], \"data\": {\"name\": \"data-c3a60f1c986b6caa7e65dff6e5822e40\"}, \"title\": \"SW_IN\"}, {\"layer\": [{\"mark\": {\"type\": \"point\", \"color\": \"black\", \"fillOpacity\": 1, \"strokeWidth\": 1}, \"encoding\": {\"fill\": {\"field\": \"is_present\", \"legend\": {\"title\": [\"Observed data\"]}, \"scale\": {\"range\": [\"black\", \"#ffffff00\"]}, \"type\": \"nominal\"}, \"shape\": {\"field\": \"is_present\", \"type\": \"nominal\"}, \"x\": {\"axis\": {\"domain\": false, \"labels\": false, \"ticks\": false, \"title\": null}, \"field\": \"time\", \"type\": \"temporal\"}, \"y\": {\"field\": \"value\", \"scale\": {\"zero\": false}, \"title\": \"VPD\", \"type\": \"quantitative\"}}}, {\"mark\": \"line\", \"encoding\": {\"color\": {\"field\": \"variable\", \"type\": \"nominal\"}, \"x\": {\"field\": \"time\", \"type\": \"temporal\"}, \"y\": {\"field\": \"value\", \"scale\": {\"zero\": false}, \"title\": \"VPD\", \"type\": \"quantitative\"}}, \"height\": 100, \"selection\": {\"selector009\": {\"type\": \"interval\", \"bind\": \"scales\", \"encodings\": [\"x\"]}}, \"width\": 180}], \"data\": {\"name\": \"data-b515775ddfb81c914376c617816a3fce\"}, \"title\": \"VPD\"}], \"data\": {\"name\": \"data-c216e5a4167f549263b7fefd6be27b9a\"}}, {\"hconcat\": []}, {\"hconcat\": []}, {\"hconcat\": []}], \"$schema\": \"https://vega.github.io/schema/vega-lite/v4.17.0.json\", \"datasets\": {\"data-c216e5a4167f549263b7fefd6be27b9a\": [{\"time\": \"2000-01-01T15:30:00\", \"variable\": \"TA\", \"value\": 0.5199999809265137, \"is_present\": false}, {\"time\": \"2000-01-01T16:00:00\", \"variable\": \"TA\", \"value\": 0.5699999928474426, \"is_present\": false}, {\"time\": \"2000-01-01T16:30:00\", \"variable\": \"TA\", \"value\": 0.7300000190734863, \"is_present\": false}, {\"time\": \"2000-01-01T17:00:00\", \"variable\": \"TA\", \"value\": 0.7699999809265137, \"is_present\": false}, {\"time\": \"2000-01-01T17:30:00\", \"variable\": \"TA\", \"value\": 0.8399999737739563, \"is_present\": false}, {\"time\": \"2000-01-01T18:00:00\", \"variable\": \"TA\", \"value\": 0.9900000095367432, \"is_present\": true}, {\"time\": \"2000-01-01T18:30:00\", \"variable\": \"TA\", \"value\": 1.350000023841858, \"is_present\": true}, {\"time\": \"2000-01-01T19:00:00\", \"variable\": \"TA\", \"value\": 1.8600000143051147, \"is_present\": true}, {\"time\": \"2000-01-01T19:30:00\", \"variable\": \"TA\", \"value\": 2.009999990463257, \"is_present\": true}, {\"time\": \"2000-01-01T20:00:00\", \"variable\": \"TA\", \"value\": 2.069999933242798, \"is_present\": true}], \"data-c3a60f1c986b6caa7e65dff6e5822e40\": [{\"time\": \"2000-01-01T15:30:00\", \"variable\": \"SW_IN\", \"value\": 8.09000015258789, \"is_present\": true}, {\"time\": \"2000-01-01T16:00:00\", \"variable\": \"SW_IN\", \"value\": 6.369999885559082, \"is_present\": true}, {\"time\": \"2000-01-01T16:30:00\", \"variable\": \"SW_IN\", \"value\": 1.7200000286102295, \"is_present\": true}, {\"time\": \"2000-01-01T17:00:00\", \"variable\": \"SW_IN\", \"value\": 0.05999999865889549, \"is_present\": true}, {\"time\": \"2000-01-01T17:30:00\", \"variable\": \"SW_IN\", \"value\": 0.0, \"is_present\": true}, {\"time\": \"2000-01-01T18:00:00\", \"variable\": \"SW_IN\", \"value\": 0.0, \"is_present\": true}, {\"time\": \"2000-01-01T18:30:00\", \"variable\": \"SW_IN\", \"value\": 0.0, \"is_present\": true}, {\"time\": \"2000-01-01T19:00:00\", \"variable\": \"SW_IN\", \"value\": 0.0, \"is_present\": true}, {\"time\": \"2000-01-01T19:30:00\", \"variable\": \"SW_IN\", \"value\": 0.0, \"is_present\": true}, {\"time\": \"2000-01-01T20:00:00\", \"variable\": \"SW_IN\", \"value\": 0.0, \"is_present\": true}], \"data-b515775ddfb81c914376c617816a3fce\": [{\"time\": \"2000-01-01T15:30:00\", \"variable\": \"VPD\", \"value\": 0.0, \"is_present\": false}, {\"time\": \"2000-01-01T16:00:00\", \"variable\": \"VPD\", \"value\": 0.0, \"is_present\": false}, {\"time\": \"2000-01-01T16:30:00\", \"variable\": \"VPD\", \"value\": 0.0, \"is_present\": false}, {\"time\": \"2000-01-01T17:00:00\", \"variable\": \"VPD\", \"value\": 0.0, \"is_present\": false}, {\"time\": \"2000-01-01T17:30:00\", \"variable\": \"VPD\", \"value\": 0.0, \"is_present\": false}, {\"time\": \"2000-01-01T18:00:00\", \"variable\": \"VPD\", \"value\": 0.0, \"is_present\": true}, {\"time\": \"2000-01-01T18:30:00\", \"variable\": \"VPD\", \"value\": 0.0, \"is_present\": true}, {\"time\": \"2000-01-01T19:00:00\", \"variable\": \"VPD\", \"value\": 0.0020000000949949026, \"is_present\": true}, {\"time\": \"2000-01-01T19:30:00\", \"variable\": \"VPD\", \"value\": 0.008999999612569809, \"is_present\": true}, {\"time\": \"2000-01-01T20:00:00\", \"variable\": \"VPD\", \"value\": 0.014000000432133675, \"is_present\": true}]}}, {\"mode\": \"vega-lite\"});\n",
       "</script>"
      ],
      "text/plain": [
       "alt.VConcatChart(...)"
      ]
     },
     "execution_count": null,
     "metadata": {},
     "output_type": "execute_result"
    }
   ],
   "source": [
    "a_gap(m(3)).show()"
   ]
  },
  {
   "cell_type": "code",
   "execution_count": null,
   "id": "d1852e7e-4805-4884-9eac-37a327cec896",
   "metadata": {},
   "outputs": [
    {
     "name": "stderr",
     "output_type": "stream",
     "text": [
      "/home/simone/.local/lib/python3.10/site-packages/altair/utils/core.py:317: FutureWarning: iteritems is deprecated and will be removed in a future version. Use .items instead.\n",
      "  for col_name, dtype in df.dtypes.iteritems():\n"
     ]
    },
    {
     "data": {
      "text/html": [
       "\n",
       "<div id=\"altair-viz-d5b0c5fe70674cc79f2f3a92f38f99e1\"></div>\n",
       "<script type=\"text/javascript\">\n",
       "  var VEGA_DEBUG = (typeof VEGA_DEBUG == \"undefined\") ? {} : VEGA_DEBUG;\n",
       "  (function(spec, embedOpt){\n",
       "    let outputDiv = document.currentScript.previousElementSibling;\n",
       "    if (outputDiv.id !== \"altair-viz-d5b0c5fe70674cc79f2f3a92f38f99e1\") {\n",
       "      outputDiv = document.getElementById(\"altair-viz-d5b0c5fe70674cc79f2f3a92f38f99e1\");\n",
       "    }\n",
       "    const paths = {\n",
       "      \"vega\": \"https://cdn.jsdelivr.net/npm//vega@5?noext\",\n",
       "      \"vega-lib\": \"https://cdn.jsdelivr.net/npm//vega-lib?noext\",\n",
       "      \"vega-lite\": \"https://cdn.jsdelivr.net/npm//vega-lite@4.17.0?noext\",\n",
       "      \"vega-embed\": \"https://cdn.jsdelivr.net/npm//vega-embed@6?noext\",\n",
       "    };\n",
       "\n",
       "    function maybeLoadScript(lib, version) {\n",
       "      var key = `${lib.replace(\"-\", \"\")}_version`;\n",
       "      return (VEGA_DEBUG[key] == version) ?\n",
       "        Promise.resolve(paths[lib]) :\n",
       "        new Promise(function(resolve, reject) {\n",
       "          var s = document.createElement('script');\n",
       "          document.getElementsByTagName(\"head\")[0].appendChild(s);\n",
       "          s.async = true;\n",
       "          s.onload = () => {\n",
       "            VEGA_DEBUG[key] = version;\n",
       "            return resolve(paths[lib]);\n",
       "          };\n",
       "          s.onerror = () => reject(`Error loading script: ${paths[lib]}`);\n",
       "          s.src = paths[lib];\n",
       "        });\n",
       "    }\n",
       "\n",
       "    function showError(err) {\n",
       "      outputDiv.innerHTML = `<div class=\"error\" style=\"color:red;\">${err}</div>`;\n",
       "      throw err;\n",
       "    }\n",
       "\n",
       "    function displayChart(vegaEmbed) {\n",
       "      vegaEmbed(outputDiv, spec, embedOpt)\n",
       "        .catch(err => showError(`Javascript Error: ${err.message}<br>This usually means there's a typo in your chart specification. See the javascript console for the full traceback.`));\n",
       "    }\n",
       "\n",
       "    if(typeof define === \"function\" && define.amd) {\n",
       "      requirejs.config({paths});\n",
       "      require([\"vega-embed\"], displayChart, err => showError(`Error loading script: ${err.message}`));\n",
       "    } else {\n",
       "      maybeLoadScript(\"vega\", \"5\")\n",
       "        .then(() => maybeLoadScript(\"vega-lite\", \"4.17.0\"))\n",
       "        .then(() => maybeLoadScript(\"vega-embed\", \"6\"))\n",
       "        .catch(showError)\n",
       "        .then(() => displayChart(vegaEmbed));\n",
       "    }\n",
       "  })({\"config\": {\"view\": {\"continuousWidth\": 400, \"continuousHeight\": 300}}, \"vconcat\": [{\"hconcat\": [{\"layer\": [{\"mark\": {\"type\": \"point\", \"color\": \"black\", \"fillOpacity\": 1, \"strokeWidth\": 1}, \"encoding\": {\"fill\": {\"field\": \"is_present\", \"legend\": {\"title\": [\"Observed data\"]}, \"scale\": {\"range\": [\"black\", \"#ffffff00\"]}, \"type\": \"nominal\"}, \"shape\": {\"field\": \"is_present\", \"type\": \"nominal\"}, \"x\": {\"axis\": {\"domain\": false, \"labels\": false, \"ticks\": false, \"title\": null}, \"field\": \"time\", \"type\": \"temporal\"}, \"y\": {\"field\": \"value\", \"scale\": {\"zero\": false}, \"title\": \"TA\", \"type\": \"quantitative\"}}}, {\"mark\": \"line\", \"encoding\": {\"color\": {\"field\": \"variable\", \"type\": \"nominal\"}, \"x\": {\"field\": \"time\", \"type\": \"temporal\"}, \"y\": {\"field\": \"value\", \"scale\": {\"zero\": false}, \"title\": \"TA\", \"type\": \"quantitative\"}}, \"height\": 100, \"selection\": {\"selector013\": {\"type\": \"interval\", \"bind\": \"scales\", \"encodings\": [\"x\"]}}, \"width\": 180}], \"title\": \"TA\"}, {\"layer\": [{\"mark\": {\"type\": \"point\", \"color\": \"black\", \"fillOpacity\": 1, \"strokeWidth\": 1}, \"encoding\": {\"fill\": {\"field\": \"is_present\", \"legend\": {\"title\": [\"Observed data\"]}, \"scale\": {\"range\": [\"black\", \"#ffffff00\"]}, \"type\": \"nominal\"}, \"shape\": {\"field\": \"is_present\", \"type\": \"nominal\"}, \"x\": {\"axis\": {\"domain\": false, \"labels\": false, \"ticks\": false, \"title\": null}, \"field\": \"time\", \"type\": \"temporal\"}, \"y\": {\"field\": \"value\", \"scale\": {\"zero\": false}, \"title\": \"SW_IN\", \"type\": \"quantitative\"}}}, {\"mark\": \"line\", \"encoding\": {\"color\": {\"field\": \"variable\", \"type\": \"nominal\"}, \"x\": {\"field\": \"time\", \"type\": \"temporal\"}, \"y\": {\"field\": \"value\", \"scale\": {\"zero\": false}, \"title\": \"SW_IN\", \"type\": \"quantitative\"}}, \"height\": 100, \"selection\": {\"selector013\": {\"type\": \"interval\", \"bind\": \"scales\", \"encodings\": [\"x\"]}}, \"width\": 180}], \"data\": {\"name\": \"data-7d75205178a55067427e2ccf76a0ab5a\"}, \"title\": \"SW_IN\"}, {\"layer\": [{\"mark\": {\"type\": \"point\", \"color\": \"black\", \"fillOpacity\": 1, \"strokeWidth\": 1}, \"encoding\": {\"fill\": {\"field\": \"is_present\", \"legend\": {\"title\": [\"Observed data\"]}, \"scale\": {\"range\": [\"black\", \"#ffffff00\"]}, \"type\": \"nominal\"}, \"shape\": {\"field\": \"is_present\", \"type\": \"nominal\"}, \"x\": {\"axis\": {\"domain\": false, \"labels\": false, \"ticks\": false, \"title\": null}, \"field\": \"time\", \"type\": \"temporal\"}, \"y\": {\"field\": \"value\", \"scale\": {\"zero\": false}, \"title\": \"VPD\", \"type\": \"quantitative\"}}}, {\"mark\": \"line\", \"encoding\": {\"color\": {\"field\": \"variable\", \"type\": \"nominal\"}, \"x\": {\"field\": \"time\", \"type\": \"temporal\"}, \"y\": {\"field\": \"value\", \"scale\": {\"zero\": false}, \"title\": \"VPD\", \"type\": \"quantitative\"}}, \"height\": 100, \"selection\": {\"selector013\": {\"type\": \"interval\", \"bind\": \"scales\", \"encodings\": [\"x\"]}}, \"width\": 180}], \"data\": {\"name\": \"data-c244b9024159e7863ea3c635f61b339c\"}, \"title\": \"VPD\"}], \"data\": {\"name\": \"data-72246db1d6a0fccd7bbc5eb0b4231bbf\"}}, {\"hconcat\": []}, {\"hconcat\": []}, {\"hconcat\": []}], \"$schema\": \"https://vega.github.io/schema/vega-lite/v4.17.0.json\", \"datasets\": {\"data-72246db1d6a0fccd7bbc5eb0b4231bbf\": [{\"time\": \"2000-01-01T20:30:00\", \"variable\": \"TA\", \"value\": 2.0, \"is_present\": false}, {\"time\": \"2000-01-01T21:00:00\", \"variable\": \"TA\", \"value\": 2.190000057220459, \"is_present\": false}, {\"time\": \"2000-01-01T21:30:00\", \"variable\": \"TA\", \"value\": 2.259999990463257, \"is_present\": false}, {\"time\": \"2000-01-01T22:00:00\", \"variable\": \"TA\", \"value\": 2.5299999713897705, \"is_present\": false}, {\"time\": \"2000-01-01T22:30:00\", \"variable\": \"TA\", \"value\": 2.5899999141693115, \"is_present\": false}, {\"time\": \"2000-01-01T23:00:00\", \"variable\": \"TA\", \"value\": 2.5999999046325684, \"is_present\": true}, {\"time\": \"2000-01-01T23:30:00\", \"variable\": \"TA\", \"value\": 2.5299999713897705, \"is_present\": true}, {\"time\": \"2000-01-02T00:00:00\", \"variable\": \"TA\", \"value\": 2.299999952316284, \"is_present\": true}, {\"time\": \"2000-01-02T00:30:00\", \"variable\": \"TA\", \"value\": 2.0799999237060547, \"is_present\": true}, {\"time\": \"2000-01-02T01:00:00\", \"variable\": \"TA\", \"value\": 1.9299999475479126, \"is_present\": true}], \"data-7d75205178a55067427e2ccf76a0ab5a\": [{\"time\": \"2000-01-01T20:30:00\", \"variable\": \"SW_IN\", \"value\": 0.0, \"is_present\": true}, {\"time\": \"2000-01-01T21:00:00\", \"variable\": \"SW_IN\", \"value\": 0.0, \"is_present\": true}, {\"time\": \"2000-01-01T21:30:00\", \"variable\": \"SW_IN\", \"value\": 0.0, \"is_present\": true}, {\"time\": \"2000-01-01T22:00:00\", \"variable\": \"SW_IN\", \"value\": 0.0, \"is_present\": true}, {\"time\": \"2000-01-01T22:30:00\", \"variable\": \"SW_IN\", \"value\": 0.0, \"is_present\": true}, {\"time\": \"2000-01-01T23:00:00\", \"variable\": \"SW_IN\", \"value\": 0.0, \"is_present\": true}, {\"time\": \"2000-01-01T23:30:00\", \"variable\": \"SW_IN\", \"value\": 0.0, \"is_present\": true}, {\"time\": \"2000-01-02T00:00:00\", \"variable\": \"SW_IN\", \"value\": 0.0, \"is_present\": true}, {\"time\": \"2000-01-02T00:30:00\", \"variable\": \"SW_IN\", \"value\": 0.0, \"is_present\": true}, {\"time\": \"2000-01-02T01:00:00\", \"variable\": \"SW_IN\", \"value\": 0.0, \"is_present\": true}], \"data-c244b9024159e7863ea3c635f61b339c\": [{\"time\": \"2000-01-01T20:30:00\", \"variable\": \"VPD\", \"value\": 0.014000000432133675, \"is_present\": false}, {\"time\": \"2000-01-01T21:00:00\", \"variable\": \"VPD\", \"value\": 0.03799999877810478, \"is_present\": false}, {\"time\": \"2000-01-01T21:30:00\", \"variable\": \"VPD\", \"value\": 0.07900000363588333, \"is_present\": false}, {\"time\": \"2000-01-01T22:00:00\", \"variable\": \"VPD\", \"value\": 0.25699999928474426, \"is_present\": false}, {\"time\": \"2000-01-01T22:30:00\", \"variable\": \"VPD\", \"value\": 0.3880000114440918, \"is_present\": false}, {\"time\": \"2000-01-01T23:00:00\", \"variable\": \"VPD\", \"value\": 0.5550000071525574, \"is_present\": true}, {\"time\": \"2000-01-01T23:30:00\", \"variable\": \"VPD\", \"value\": 0.4519999921321869, \"is_present\": true}, {\"time\": \"2000-01-02T00:00:00\", \"variable\": \"VPD\", \"value\": 0.4350000023841858, \"is_present\": true}, {\"time\": \"2000-01-02T00:30:00\", \"variable\": \"VPD\", \"value\": 0.24799999594688416, \"is_present\": true}, {\"time\": \"2000-01-02T01:00:00\", \"variable\": \"VPD\", \"value\": 0.23399999737739563, \"is_present\": true}]}}, {\"mode\": \"vega-lite\"});\n",
       "</script>"
      ],
      "text/plain": [
       "alt.VConcatChart(...)"
      ]
     },
     "execution_count": null,
     "metadata": {},
     "output_type": "execute_result"
    }
   ],
   "source": [
    "a_gap(m(4)).show()"
   ]
  },
  {
   "cell_type": "code",
   "execution_count": null,
   "id": "37358f56-f705-4d3c-b39f-ac810447a635",
   "metadata": {},
   "outputs": [],
   "source": [
    "idx = L(*m(1).columns).argwhere(lambda x: x in ['TA','SW_IN'])"
   ]
  },
  {
   "cell_type": "code",
   "execution_count": null,
   "id": "9126e8d1-3f99-40ba-b4ac-e5ac0f5cfd6c",
   "metadata": {},
   "outputs": [],
   "source": [
    "mask = np.ones_like(m(1), dtype=bool)"
   ]
  },
  {
   "cell_type": "code",
   "execution_count": null,
   "id": "a9bf7480-1580-490d-8ce9-a0c47ef6c2a3",
   "metadata": {},
   "outputs": [
    {
     "data": {
      "text/plain": [
       "array([[ True,  True,  True],\n",
       "       [ True,  True,  True],\n",
       "       [ True,  True,  True],\n",
       "       [ True,  True,  True],\n",
       "       [ True,  True,  True],\n",
       "       [ True,  True,  True],\n",
       "       [ True,  True,  True],\n",
       "       [ True,  True,  True],\n",
       "       [ True,  True,  True],\n",
       "       [ True,  True,  True]])"
      ]
     },
     "execution_count": null,
     "metadata": {},
     "output_type": "execute_result"
    }
   ],
   "source": [
    "mask"
   ]
  },
  {
   "cell_type": "code",
   "execution_count": null,
   "id": "7ba57b44-2632-4ada-af4d-20b2678e6798",
   "metadata": {},
   "outputs": [],
   "source": [
    "gap = _make_random_gap(2, 10, 2)"
   ]
  },
  {
   "cell_type": "code",
   "execution_count": null,
   "id": "614d77ee-5fa7-49bd-b0e2-2bd9539b3c67",
   "metadata": {},
   "outputs": [
    {
     "data": {
      "text/plain": [
       "array([False, False,  True,  True, False, False, False, False, False,\n",
       "       False])"
      ]
     },
     "execution_count": null,
     "metadata": {},
     "output_type": "execute_result"
    }
   ],
   "source": [
    "gap"
   ]
  },
  {
   "cell_type": "code",
   "execution_count": null,
   "id": "2cfdf0a8-6761-43fb-a716-af7d391bd36c",
   "metadata": {},
   "outputs": [
    {
     "data": {
      "text/plain": [
       "array([[2],\n",
       "       [3]])"
      ]
     },
     "execution_count": null,
     "metadata": {},
     "output_type": "execute_result"
    }
   ],
   "source": [
    "np.argwhere(gap)"
   ]
  },
  {
   "cell_type": "code",
   "execution_count": null,
   "id": "c4892a92-5850-4529-991d-24c9a1cebf14",
   "metadata": {},
   "outputs": [],
   "source": [
    "mask[np.argwhere(gap), idx] = False"
   ]
  },
  {
   "cell_type": "code",
   "execution_count": null,
   "id": "5cf78fa7-3c14-43e6-a370-085f74f48ffa",
   "metadata": {},
   "outputs": [
    {
     "data": {
      "text/plain": [
       "array([[ True,  True,  True],\n",
       "       [ True,  True,  True],\n",
       "       [False, False,  True],\n",
       "       [False, False,  True],\n",
       "       [ True,  True,  True],\n",
       "       [ True,  True,  True],\n",
       "       [ True,  True,  True],\n",
       "       [ True,  True,  True],\n",
       "       [ True,  True,  True],\n",
       "       [ True,  True,  True]])"
      ]
     },
     "execution_count": null,
     "metadata": {},
     "output_type": "execute_result"
    }
   ],
   "source": [
    "mask"
   ]
  },
  {
   "cell_type": "code",
   "execution_count": null,
   "id": "39d845e1-4869-4d99-ad55-d851e44bc5cc",
   "metadata": {},
   "outputs": [
    {
     "data": {
      "text/plain": [
       "array([[False, False,  True],\n",
       "       [False, False,  True]])"
      ]
     },
     "execution_count": null,
     "metadata": {},
     "output_type": "execute_result"
    }
   ],
   "source": [
    "mask[gap]"
   ]
  },
  {
   "cell_type": "markdown",
   "id": "9e70cf47-7a11-4806-93ba-f9bdf56dc671",
   "metadata": {},
   "source": [
    "### To Tensor"
   ]
  },
  {
   "cell_type": "code",
   "execution_count": null,
   "id": "752a8c17-d878-4140-9e5a-132abf543d98",
   "metadata": {},
   "outputs": [],
   "source": [
    "#| export\n",
    "class MaskedTensor(fastuple):\n",
    "    pass"
   ]
  },
  {
   "cell_type": "code",
   "execution_count": null,
   "id": "49a73687-9272-44ad-84d5-0b845a63cd98",
   "metadata": {},
   "outputs": [],
   "source": [
    "#| export\n",
    "class MaskedDf2Tensor(ItemTransform):\n",
    "    def setups(self, items):\n",
    "        self.columns = list(items[0].data.columns)\n",
    "    def encodes(self, df: MaskedDf) -> MaskedTensor:\n",
    "        data = torch.tensor(df[0].to_numpy())\n",
    "        mask = torch.tensor(df[1].to_numpy())\n",
    "        return MaskedTensor(data, mask)\n",
    "        \n",
    "    def decodes(self, x: MaskedTensor) -> MaskedDf:\n",
    "        data = pd.DataFrame(x[0].detach().cpu().numpy(), columns = self.columns)\n",
    "        mask = x[1].numpy()\n",
    "        return MaskedDf(mask, data)"
   ]
  },
  {
   "cell_type": "code",
   "execution_count": null,
   "id": "f2990cbe-babc-4f62-9b6f-2807edfa05b2",
   "metadata": {},
   "outputs": [],
   "source": [
    "tfms = TfmdLists([1,2,3], [BlockDfTransform(hai, 10), AddGapTransform(['TA','SW_IN'], 2), MaskedDf2Tensor ])"
   ]
  },
  {
   "cell_type": "code",
   "execution_count": null,
   "id": "755add1e-55d4-4408-8db2-ab28d804edd2",
   "metadata": {},
   "outputs": [
    {
     "data": {
      "text/plain": [
       "(tensor([[1.0000e-01, 1.6510e+01, 6.0000e-03],\n",
       "         [1.8000e-01, 2.4730e+01, 1.1000e-02],\n",
       "         [2.1000e-01, 4.7420e+01, 1.9000e-02],\n",
       "         [2.3000e-01, 2.2050e+01, 1.4000e-02],\n",
       "         [3.3000e-01, 1.8860e+01, 8.0000e-03],\n",
       "         [4.1000e-01, 2.1100e+01, 6.0000e-03],\n",
       "         [4.4000e-01, 2.8870e+01, 0.0000e+00],\n",
       "         [4.8000e-01, 2.4220e+01, 0.0000e+00],\n",
       "         [4.9000e-01, 2.4350e+01, 0.0000e+00],\n",
       "         [5.1000e-01, 1.5680e+01, 0.0000e+00]]),\n",
       " tensor([[False, False,  True],\n",
       "         [False, False,  True],\n",
       "         [ True,  True,  True],\n",
       "         [ True,  True,  True],\n",
       "         [ True,  True,  True],\n",
       "         [ True,  True,  True],\n",
       "         [ True,  True,  True],\n",
       "         [ True,  True,  True],\n",
       "         [ True,  True,  True],\n",
       "         [ True,  True,  True]]))"
      ]
     },
     "execution_count": null,
     "metadata": {},
     "output_type": "execute_result"
    }
   ],
   "source": [
    "tfms[1]"
   ]
  },
  {
   "cell_type": "code",
   "execution_count": null,
   "id": "324520e5-5979-4b7e-b52f-97e86788c187",
   "metadata": {},
   "outputs": [
    {
     "data": {
      "text/plain": [
       "__main__.MaskedTensor"
      ]
     },
     "execution_count": null,
     "metadata": {},
     "output_type": "execute_result"
    }
   ],
   "source": [
    "type(tfms[0])"
   ]
  },
  {
   "cell_type": "markdown",
   "id": "87e120fa-cf84-4e32-8c99-9af24a2755b1",
   "metadata": {},
   "source": [
    "### Normalize"
   ]
  },
  {
   "cell_type": "code",
   "execution_count": null,
   "id": "3ba23250-9b69-43c2-b2f6-db4ef5658e6a",
   "metadata": {},
   "outputs": [],
   "source": [
    "#| export\n",
    "from meteo_imp.utils import *\n",
    "\n",
    "from torch import Tensor"
   ]
  },
  {
   "cell_type": "code",
   "execution_count": null,
   "id": "e75c7ecf-2785-49fc-b1ff-fe98c4e03843",
   "metadata": {},
   "outputs": [],
   "source": [
    "#| export\n",
    "def get_stats(df):\n",
    "    return torch.tensor(df.mean(axis=0).to_numpy()), torch.tensor(df.std(axis=0).to_numpy())"
   ]
  },
  {
   "cell_type": "code",
   "execution_count": null,
   "id": "975601aa-1325-4ece-989c-0eb60a9d8d85",
   "metadata": {},
   "outputs": [],
   "source": [
    "#| export\n",
    "class NormalizeMasked(ItemTransform):\n",
    "    \"Normalize/denorm MaskedTensor column-wise \"\n",
    "    parameters,order = L('mean', 'std'),99\n",
    "    def __init__(self, mean=None, std=None, axes=(0,)): store_attr()\n",
    "\n",
    "    def encodes(self, x:MaskedTensor):\n",
    "        return MaskedTensor((x[0]-self.mean) / self.std, x[1])\n",
    "\n",
    "    def encodes(self, x):\n",
    "        return MaskedTensor((x[0]-self.mean) / self.std, x[1])\n",
    "    \n",
    "    def decodes(self, x:ListNormal):\n",
    "        mean = (x.std-self.mean) / self.std\n",
    "        std = x.cov * self.std\n",
    "        \n",
    "        return ListNormal(mean, std)"
   ]
  },
  {
   "cell_type": "code",
   "execution_count": null,
   "id": "e05f9797-3d0b-49b9-9cbc-5e35346d2e32",
   "metadata": {},
   "outputs": [],
   "source": [
    "b = TfmdLists([0,1], [BlockDfTransform(hai, 10), AddGapTransform(['TA','SW_IN'], 2), MaskedDf2Tensor, NormalizeMasked(*get_stats(hai))]).dataloaders(bs=2).one_batch()[0]"
   ]
  },
  {
   "cell_type": "code",
   "execution_count": null,
   "id": "80d3ece7-dd4f-4995-ace4-b1471f5c5027",
   "metadata": {},
   "outputs": [
    {
     "data": {
      "text/plain": [
       "tensor([-1.1083, -0.5929, -0.7457], device='cuda:0')"
      ]
     },
     "execution_count": null,
     "metadata": {},
     "output_type": "execute_result"
    }
   ],
   "source": [
    "b[0].mean(0)"
   ]
  },
  {
   "cell_type": "code",
   "execution_count": null,
   "id": "26a02da1-dff7-4d2e-b8c0-f75196aff66b",
   "metadata": {},
   "outputs": [
    {
     "data": {
      "text/plain": [
       "tensor([-1.0730, -0.5813, -0.7617], device='cuda:0')"
      ]
     },
     "execution_count": null,
     "metadata": {},
     "output_type": "execute_result"
    }
   ],
   "source": [
    "b[1].mean(0)"
   ]
  },
  {
   "cell_type": "code",
   "execution_count": null,
   "id": "a5da1208-a1a9-41fa-958f-f4936c199b35",
   "metadata": {},
   "outputs": [
    {
     "data": {
      "text/plain": [
       "tensor([0.0232, 0.0154, 0.0128], device='cuda:0')"
      ]
     },
     "execution_count": null,
     "metadata": {},
     "output_type": "execute_result"
    }
   ],
   "source": [
    "b.std(axis=(0,1))"
   ]
  },
  {
   "cell_type": "markdown",
   "id": "81077302-18db-4010-9c88-ae8d48216353",
   "metadata": {},
   "source": [
    "### Pipeline"
   ]
  },
  {
   "cell_type": "code",
   "execution_count": null,
   "id": "0ad384f0-7912-4d40-9631-1e6e5294fb9f",
   "metadata": {},
   "outputs": [],
   "source": [
    "#| export\n",
    "from fastai.data.transforms import *"
   ]
  },
  {
   "cell_type": "code",
   "execution_count": null,
   "id": "5c19d0b5-b78c-4a5f-a606-8a1cfe832e8d",
   "metadata": {},
   "outputs": [],
   "source": [
    "block_len = 10\n",
    "block_ids = list(range(0, (len(hai) // block_len) - 1))[:10]\n",
    "gap_len = 2"
   ]
  },
  {
   "cell_type": "code",
   "execution_count": null,
   "id": "9a7a2fc4-fa0d-4b22-b7ca-65feed7ffcdc",
   "metadata": {},
   "outputs": [],
   "source": [
    "#| export\n",
    "def imp_pipeline(df,\n",
    "                 block_len,\n",
    "                 gap_len\n",
    "                ):\n",
    "    block_ids = list(range(0, (len(df) // block_len) - 1))\n",
    "    return [BlockDfTransform(df, block_len),\n",
    "            AddGapTransform(['TA','SW_IN'], gap_len),\n",
    "            MaskedDf2Tensor,\n",
    "            NormalizeMasked(*get_stats(df))], block_ids"
   ]
  },
  {
   "cell_type": "code",
   "execution_count": null,
   "id": "ae7c4bad-445a-4e2a-9d30-e0160106b678",
   "metadata": {},
   "outputs": [],
   "source": [
    "pipeline, block_ids = imp_pipeline(hai, block_len, gap_len)"
   ]
  },
  {
   "cell_type": "code",
   "execution_count": null,
   "id": "569ade0e-fb29-4929-9106-3ac010ce5db0",
   "metadata": {},
   "outputs": [
    {
     "data": {
      "text/plain": [
       "[BlockDfTransform:\n",
       " encodes: (int,object) -> encodes\n",
       " decodes: ,\n",
       " AddGapTransform:\n",
       " encodes: (DataFrame,object) -> encodes\n",
       " decodes: ,\n",
       " __main__.MaskedDf2Tensor,\n",
       " NormalizeMasked:\n",
       " encodes: (MaskedTensor,object) -> encodes\n",
       " (object,object) -> encodes\n",
       " decodes: (ListNormal,object) -> decodes]"
      ]
     },
     "execution_count": null,
     "metadata": {},
     "output_type": "execute_result"
    }
   ],
   "source": [
    "pipeline"
   ]
  },
  {
   "cell_type": "markdown",
   "id": "df9f46c5-7664-492e-8baa-62ed741033e1",
   "metadata": {},
   "source": [
    "### Dataloader"
   ]
  },
  {
   "cell_type": "markdown",
   "id": "b71760f8-6b1f-45be-a804-756a3946a585",
   "metadata": {},
   "source": [
    "random splitter for validation/training set"
   ]
  },
  {
   "cell_type": "code",
   "execution_count": null,
   "id": "322140fc-b896-4e38-b244-dc8525438cfa",
   "metadata": {},
   "outputs": [],
   "source": [
    "reset_seed()"
   ]
  },
  {
   "cell_type": "code",
   "execution_count": null,
   "id": "4aefcbc5-7675-4da8-9fa8-53efd933a5ce",
   "metadata": {},
   "outputs": [],
   "source": [
    "splits = RandomSplitter()(block_ids)"
   ]
  },
  {
   "cell_type": "markdown",
   "id": "ea416657-bd6b-4bd0-9970-1aee94d0b5ea",
   "metadata": {},
   "source": [
    "Repeat twice the pipeline since is the same pipeline both for training data and for labels"
   ]
  },
  {
   "cell_type": "code",
   "execution_count": null,
   "id": "a367a12b-df12-422d-9eb4-877eaafafc94",
   "metadata": {},
   "outputs": [],
   "source": [
    "ds = Datasets(block_ids, [pipeline, pipeline], splits=splits)"
   ]
  },
  {
   "cell_type": "code",
   "execution_count": null,
   "id": "f6d45118-0145-44ea-a796-a659ed93baa9",
   "metadata": {},
   "outputs": [],
   "source": [
    "dls = ds.dataloaders(bs=1)"
   ]
  },
  {
   "cell_type": "code",
   "execution_count": null,
   "id": "f1ee5a56-067d-4383-9f20-e0c4bc78d4ca",
   "metadata": {},
   "outputs": [
    {
     "data": {
      "text/plain": [
       "device(type='cuda', index=0)"
      ]
     },
     "execution_count": null,
     "metadata": {},
     "output_type": "execute_result"
    }
   ],
   "source": [
    "dls.device"
   ]
  },
  {
   "cell_type": "code",
   "execution_count": null,
   "id": "a7205642-c9ef-4e44-b273-262177d54e2f",
   "metadata": {},
   "outputs": [
    {
     "data": {
      "text/plain": [
       "((tensor([[[ 0.1989,  0.0843,  0.1587],\n",
       "           [ 0.1837, -0.2318,  0.0536],\n",
       "           [ 0.1497, -0.4158, -0.0613],\n",
       "           [ 0.1017, -0.5118, -0.1707],\n",
       "           [ 0.0487, -0.5848, -0.2554],\n",
       "           [-0.0106, -0.5929, -0.3399],\n",
       "           [-0.0510, -0.5929, -0.3753],\n",
       "           [-0.0838, -0.5929, -0.4113],\n",
       "           [-0.1166, -0.5929, -0.4420],\n",
       "           [-0.1746, -0.5929, -0.4591]]], device='cuda:0'),\n",
       "  tensor([[[ True,  True,  True],\n",
       "           [ True,  True,  True],\n",
       "           [ True,  True,  True],\n",
       "           [ True,  True,  True],\n",
       "           [ True,  True,  True],\n",
       "           [False, False,  True],\n",
       "           [False, False,  True],\n",
       "           [ True,  True,  True],\n",
       "           [ True,  True,  True],\n",
       "           [ True,  True,  True]]], device='cuda:0')),\n",
       " (tensor([[[ 0.1989,  0.0843,  0.1587],\n",
       "           [ 0.1837, -0.2318,  0.0536],\n",
       "           [ 0.1497, -0.4158, -0.0613],\n",
       "           [ 0.1017, -0.5118, -0.1707],\n",
       "           [ 0.0487, -0.5848, -0.2554],\n",
       "           [-0.0106, -0.5929, -0.3399],\n",
       "           [-0.0510, -0.5929, -0.3753],\n",
       "           [-0.0838, -0.5929, -0.4113],\n",
       "           [-0.1166, -0.5929, -0.4420],\n",
       "           [-0.1746, -0.5929, -0.4591]]], device='cuda:0'),\n",
       "  tensor([[[False, False,  True],\n",
       "           [False, False,  True],\n",
       "           [ True,  True,  True],\n",
       "           [ True,  True,  True],\n",
       "           [ True,  True,  True],\n",
       "           [ True,  True,  True],\n",
       "           [ True,  True,  True],\n",
       "           [ True,  True,  True],\n",
       "           [ True,  True,  True],\n",
       "           [ True,  True,  True]]], device='cuda:0')))"
      ]
     },
     "execution_count": null,
     "metadata": {},
     "output_type": "execute_result"
    }
   ],
   "source": [
    "dls.one_batch()"
   ]
  },
  {
   "cell_type": "code",
   "execution_count": null,
   "id": "2223f2ba-79e9-4a58-87ae-a848e8a779a7",
   "metadata": {},
   "outputs": [],
   "source": [
    "@typedispatch\n",
    "def show_batch(x: MaskedTensor, y, samples, ctxs=None, max_n=6):\n",
    "    print(x)"
   ]
  },
  {
   "cell_type": "code",
   "execution_count": null,
   "id": "f81d21cf-c3c3-4926-bb64-067b9928a0b2",
   "metadata": {},
   "outputs": [
    {
     "name": "stdout",
     "output_type": "stream",
     "text": [
      "(tensor([[[-0.8939, -0.5929, -0.5592],\n",
      "         [-0.9482, -0.5929, -0.6807],\n",
      "         [-0.9242, -0.5929, -0.7212],\n",
      "         [-0.9065, -0.5929, -0.7434],\n",
      "         [-0.8523, -0.5929, -0.7389],\n",
      "         [-0.8195, -0.5929, -0.7302],\n",
      "         [-0.8056, -0.5929, -0.7476],\n",
      "         [-0.7904, -0.5929, -0.7560],\n",
      "         [-0.7576, -0.5929, -0.7590],\n",
      "         [-0.7387, -0.5929, -0.7606]]]), tensor([[[ True,  True,  True],\n",
      "         [False, False,  True],\n",
      "         [False, False,  True],\n",
      "         [ True,  True,  True],\n",
      "         [ True,  True,  True],\n",
      "         [ True,  True,  True],\n",
      "         [ True,  True,  True],\n",
      "         [ True,  True,  True],\n",
      "         [ True,  True,  True],\n",
      "         [ True,  True,  True]]]))\n"
     ]
    }
   ],
   "source": [
    "dls.show_batch()"
   ]
  },
  {
   "cell_type": "code",
   "execution_count": null,
   "id": "6bbdab5e-2970-4326-99de-1d1cbdd1b9fa",
   "metadata": {},
   "outputs": [
    {
     "data": {
      "text/plain": [
       "{tuple: [{__main__.MaskedTensor: [torch.Tensor, torch.Tensor]},\n",
       "  {__main__.MaskedTensor: [torch.Tensor, torch.Tensor]}]}"
      ]
     },
     "execution_count": null,
     "metadata": {},
     "output_type": "execute_result"
    }
   ],
   "source": [
    "dls._types"
   ]
  },
  {
   "cell_type": "code",
   "execution_count": null,
   "id": "b445cfe5-3ad1-4667-8e4d-dea2e48c0001",
   "metadata": {},
   "outputs": [
    {
     "name": "stdout",
     "output_type": "stream",
     "text": [
      "(tensor([[[-0.0913,  0.0613, -0.4278],\n",
      "         [-0.0447,  0.4846, -0.4010],\n",
      "         [ 0.0109,  0.6791, -0.3737],\n",
      "         [ 0.1080,  0.7323, -0.2334],\n",
      "         [ 0.1850,  0.7927, -0.1441],\n",
      "         [ 0.2342,  0.4668, -0.0913],\n",
      "         [ 0.2304,  0.5042, -0.1041],\n",
      "         [ 0.2128,  0.2841, -0.1384],\n",
      "         [ 0.1749, -0.0679, -0.2201],\n",
      "         [ 0.1598, -0.1345, -0.2510]]]), tensor([[[ True,  True,  True],\n",
      "         [False, False,  True],\n",
      "         [False, False,  True],\n",
      "         [ True,  True,  True],\n",
      "         [ True,  True,  True],\n",
      "         [ True,  True,  True],\n",
      "         [ True,  True,  True],\n",
      "         [ True,  True,  True],\n",
      "         [ True,  True,  True],\n",
      "         [ True,  True,  True]]]))\n"
     ]
    }
   ],
   "source": [
    "dls.show_batch()"
   ]
  },
  {
   "cell_type": "code",
   "execution_count": null,
   "id": "b42bde9b-5c83-42b5-8f35-8de14472c41e",
   "metadata": {},
   "outputs": [
    {
     "data": {
      "text/plain": [
       "fastai.data.core.Datasets"
      ]
     },
     "execution_count": null,
     "metadata": {},
     "output_type": "execute_result"
    }
   ],
   "source": [
    "Datasets"
   ]
  },
  {
   "cell_type": "code",
   "execution_count": null,
   "id": "9ec4f71f-607e-476e-a89e-8d6f2b8bcc19",
   "metadata": {},
   "outputs": [],
   "source": [
    "#| export\n",
    "def make_dataloader(df, block_len, gap_len, bs=10):\n",
    "    pipeline, block_ids = imp_pipeline(df, block_len, gap_len)\n",
    "    \n",
    "    splits = RandomSplitter()(block_ids)\n",
    "    ds = Datasets(block_ids, [pipeline, pipeline], splits=splits)\n",
    "    \n",
    "    return ds.dataloaders(bs=bs)\n",
    "    "
   ]
  },
  {
   "cell_type": "code",
   "execution_count": null,
   "id": "cb1df190-83ba-4056-be7f-82d364e2dc87",
   "metadata": {},
   "outputs": [],
   "source": [
    "dls = make_dataloader(hai, 200, 10)"
   ]
  },
  {
   "cell_type": "code",
   "execution_count": null,
   "id": "3024300b-3f82-436d-ac6d-13ff7861dbf7",
   "metadata": {},
   "outputs": [
    {
     "data": {
      "text/plain": [
       "torch.Size([10, 200, 3])"
      ]
     },
     "execution_count": null,
     "metadata": {},
     "output_type": "execute_result"
    }
   ],
   "source": [
    "dls.one_batch()[0][0].shape"
   ]
  },
  {
   "cell_type": "code",
   "execution_count": null,
   "id": "1a7c86d2-e054-4dd4-89c9-26165e558390",
   "metadata": {},
   "outputs": [],
   "source": [
    "dls = dls.cpu()"
   ]
  },
  {
   "cell_type": "markdown",
   "id": "64bb7e8b-178d-4ab6-a359-5bcc010a8767",
   "metadata": {},
   "source": [
    "## Model"
   ]
  },
  {
   "cell_type": "markdown",
   "id": "e4e0999c-d959-49fa-8e8a-0ed8e53f2f5d",
   "metadata": {},
   "source": [
    "### Forward Function"
   ]
  },
  {
   "cell_type": "markdown",
   "id": "dc64e0a2-b14b-4159-af4f-c6a9fb2a3f05",
   "metadata": {},
   "source": [
    "in order to the a pytorch module we need a forward method to the kalman filter"
   ]
  },
  {
   "cell_type": "code",
   "execution_count": null,
   "id": "42d40fc6-7b8d-4e9c-9f14-70ea54629826",
   "metadata": {},
   "outputs": [],
   "source": [
    "#| export\n",
    "from meteo_imp.kalman.filter import *\n",
    "from torch.distributions import MultivariateNormal"
   ]
  },
  {
   "cell_type": "code",
   "execution_count": null,
   "id": "8a7fecca-9a5a-4f54-b16d-d15b8adab21a",
   "metadata": {},
   "outputs": [],
   "source": [
    "#| export\n",
    "class ListNormal(fastuple):\n",
    "    pass"
   ]
  },
  {
   "cell_type": "code",
   "execution_count": null,
   "id": "0ebded29-5194-4ca4-808a-fe115d705495",
   "metadata": {},
   "outputs": [],
   "source": [
    "#| export\n",
    "@patch\n",
    "def _predict_filter(self: KalmanFilter, data, mask, check_args=None):\n",
    "    \"\"\"Predict every obsevation using only the filter step\"\"\"\n",
    "    # use the predicted state not the filtered state!\n",
    "    pred_state_mean, pred_state_cov, _, _ = self._filter_all(data, mask, check_args)\n",
    "    \n",
    "    means = torch.empty_like(data)\n",
    "    covs = torch.empty((data.shape[0], data.shape[1], data.shape[1]), dtype=data.dtype, device=data.device) \n",
    "    for t in range(data.shape[0]):\n",
    "        means[t], covs[t] = self._obs_from_state(pred_state_mean[t], pred_state_cov[t], check_args)\n",
    "    return ListNormal(means, torch.diagonal(covs, dim1=-2, dim2=-1))"
   ]
  },
  {
   "cell_type": "code",
   "execution_count": null,
   "id": "737a9f2a-ce54-42a3-8490-acb988138ed4",
   "metadata": {},
   "outputs": [],
   "source": [
    "#| export\n",
    "@patch\n",
    "def forward(self: KalmanFilter, masked_data: MaskedTensor):\n",
    "    data, mask = masked_data\n",
    "    use_smooth = self.use_smooth if hasattr(self, 'use_smooth') else True\n",
    "    means = torch.empty_like(data)\n",
    "    covs = torch.empty(data.shape[0], data.shape[1], data.shape[2], dtype=data.dtype, device=data.device)\n",
    "    for i in range(data.shape[0]):\n",
    "        times = torch.arange(data[i].shape[0])\n",
    "        mean, cov = (self.predict(obs=data[i], mask=mask[i], smooth=True, check_args=self.check_args) if use_smooth\n",
    "                        else self._predict_filter(data[i], mask[i], self.check_args))\n",
    "        \n",
    "        means[i], covs[i] = mean, cov\n",
    "    return ListNormal(means, covs)"
   ]
  },
  {
   "cell_type": "code",
   "execution_count": null,
   "id": "f7ebde2f-19aa-4860-b665-b13865111506",
   "metadata": {},
   "outputs": [],
   "source": [
    "input = dls.one_batch()[0]\n",
    "target = dls.one_batch()[1]"
   ]
  },
  {
   "cell_type": "code",
   "execution_count": null,
   "id": "634980aa-b323-45cc-b2a3-bdd0ee95a4a9",
   "metadata": {},
   "outputs": [],
   "source": [
    "model = KalmanFilter(n_dim_state = hai.shape[1], n_dim_obs=hai.shape[1])"
   ]
  },
  {
   "cell_type": "code",
   "execution_count": null,
   "id": "2d34397d-7720-4127-83d1-f5137c94af46",
   "metadata": {},
   "outputs": [
    {
     "data": {
      "text/plain": [
       "OrderedDict([('transition_matrices',\n",
       "              tensor([[1., 0., 0.],\n",
       "                      [0., 1., 0.],\n",
       "                      [0., 0., 1.]])),\n",
       "             ('transition_offsets', tensor([0., 0., 0.])),\n",
       "             ('transition_cov_raw',\n",
       "              tensor([[1., 0., 0.],\n",
       "                      [0., 1., 0.],\n",
       "                      [0., 0., 1.]])),\n",
       "             ('obs_matrices',\n",
       "              tensor([[1., 0., 0.],\n",
       "                      [0., 1., 0.],\n",
       "                      [0., 0., 1.]])),\n",
       "             ('obs_offsets', tensor([0., 0., 0.])),\n",
       "             ('obs_cov_raw',\n",
       "              tensor([[1., 0., 0.],\n",
       "                      [0., 1., 0.],\n",
       "                      [0., 0., 1.]])),\n",
       "             ('initial_state_mean', tensor([0., 0., 0.])),\n",
       "             ('initial_state_cov_raw',\n",
       "              tensor([[1., 0., 0.],\n",
       "                      [0., 1., 0.],\n",
       "                      [0., 0., 1.]]))])"
      ]
     },
     "execution_count": null,
     "metadata": {},
     "output_type": "execute_result"
    }
   ],
   "source": [
    "model.state_dict()"
   ]
  },
  {
   "cell_type": "code",
   "execution_count": null,
   "id": "5696c62a-e455-4d86-9f10-e00ea93671ac",
   "metadata": {},
   "outputs": [
    {
     "data": {
      "text/plain": [
       "torch.Size([200, 3])"
      ]
     },
     "execution_count": null,
     "metadata": {},
     "output_type": "execute_result"
    }
   ],
   "source": [
    "data = input[0][0]\n",
    "data.shape"
   ]
  },
  {
   "cell_type": "code",
   "execution_count": null,
   "id": "9d1bdfc9-2fa3-4627-94d8-0a9dda444203",
   "metadata": {},
   "outputs": [],
   "source": [
    "mask = input[1][0]"
   ]
  },
  {
   "cell_type": "code",
   "execution_count": null,
   "id": "ec17c709-bfaa-4a0e-a45d-c067671a809c",
   "metadata": {},
   "outputs": [
    {
     "data": {
      "text/plain": [
       "torch.Size([200, 3])"
      ]
     },
     "execution_count": null,
     "metadata": {},
     "output_type": "execute_result"
    }
   ],
   "source": [
    "mask.shape"
   ]
  },
  {
   "cell_type": "code",
   "execution_count": null,
   "id": "26934279-9c81-447b-8506-01b5abd7b72a",
   "metadata": {},
   "outputs": [
    {
     "data": {
      "text/plain": [
       "device(type='cpu')"
      ]
     },
     "execution_count": null,
     "metadata": {},
     "output_type": "execute_result"
    }
   ],
   "source": [
    "data.device"
   ]
  },
  {
   "cell_type": "code",
   "execution_count": null,
   "id": "83e3bbd9-8e03-440a-b13b-8b6aba7ba341",
   "metadata": {},
   "outputs": [
    {
     "data": {
      "text/plain": [
       "torch.device"
      ]
     },
     "execution_count": null,
     "metadata": {},
     "output_type": "execute_result"
    }
   ],
   "source": [
    "torch.device"
   ]
  },
  {
   "cell_type": "code",
   "execution_count": null,
   "id": "3b6b1ed8-048a-4755-8201-57eec8654cdb",
   "metadata": {},
   "outputs": [
    {
     "data": {
      "text/plain": [
       "(torch.Size([200, 3]), torch.Size([200, 3]))"
      ]
     },
     "execution_count": null,
     "metadata": {},
     "output_type": "execute_result"
    }
   ],
   "source": [
    "data.shape, mask.shape"
   ]
  },
  {
   "cell_type": "code",
   "execution_count": null,
   "id": "d3ba1aa7-ef52-4a85-b0c4-3763d621eb70",
   "metadata": {},
   "outputs": [],
   "source": [
    "model.predict(data, mask);"
   ]
  },
  {
   "cell_type": "code",
   "execution_count": null,
   "id": "9ef72fbc-cdef-4146-b294-8fd261c0e2c4",
   "metadata": {},
   "outputs": [],
   "source": [
    "model.use_smooth = True"
   ]
  },
  {
   "cell_type": "code",
   "execution_count": null,
   "id": "5d690cd5-44a1-45d6-9abb-ef4fb0a62314",
   "metadata": {},
   "outputs": [],
   "source": [
    "pred = model(input)"
   ]
  },
  {
   "cell_type": "code",
   "execution_count": null,
   "id": "a7bc7df7-effd-41b0-bb90-6beaa874d1e1",
   "metadata": {},
   "outputs": [
    {
     "data": {
      "text/plain": [
       "torch.Size([10, 200, 3])"
      ]
     },
     "execution_count": null,
     "metadata": {},
     "output_type": "execute_result"
    }
   ],
   "source": [
    "pred[0].shape"
   ]
  },
  {
   "cell_type": "code",
   "execution_count": null,
   "id": "ed03f415-567f-47ab-b019-b7291cee03f0",
   "metadata": {},
   "outputs": [
    {
     "data": {
      "text/plain": [
       "torch.Size([10, 200, 3])"
      ]
     },
     "execution_count": null,
     "metadata": {},
     "output_type": "execute_result"
    }
   ],
   "source": [
    "pred[1].shape"
   ]
  },
  {
   "cell_type": "code",
   "execution_count": null,
   "id": "856e7d79-e0ab-4562-aa6b-bbb68e3928d0",
   "metadata": {},
   "outputs": [],
   "source": [
    "model.use_smooth = False"
   ]
  },
  {
   "cell_type": "code",
   "execution_count": null,
   "id": "f804c6a9-34d6-48de-a5fe-c99142f5c7d5",
   "metadata": {},
   "outputs": [],
   "source": [
    "pred_filt = model(input)"
   ]
  },
  {
   "cell_type": "code",
   "execution_count": null,
   "id": "3c14ed28-0591-4947-b054-167e024e91a3",
   "metadata": {},
   "outputs": [
    {
     "data": {
      "text/plain": [
       "torch.Size([10, 200, 3])"
      ]
     },
     "execution_count": null,
     "metadata": {},
     "output_type": "execute_result"
    }
   ],
   "source": [
    "pred_filt[0].shape"
   ]
  },
  {
   "cell_type": "code",
   "execution_count": null,
   "id": "716753c4-4d3a-4952-bd1f-cf7a031d1fb5",
   "metadata": {},
   "outputs": [
    {
     "data": {
      "text/plain": [
       "torch.Size([10, 200, 3])"
      ]
     },
     "execution_count": null,
     "metadata": {},
     "output_type": "execute_result"
    }
   ],
   "source": [
    "pred_filt[1].shape"
   ]
  },
  {
   "cell_type": "code",
   "execution_count": null,
   "id": "65bab279-dc65-4259-bd1f-39b5c6028cb8",
   "metadata": {},
   "outputs": [],
   "source": [
    "test_ne(pred, pred_filt)"
   ]
  },
  {
   "cell_type": "markdown",
   "id": "2051bf57-a2e3-4232-861b-fafe814b1825",
   "metadata": {},
   "source": [
    "### Loss Function"
   ]
  },
  {
   "cell_type": "markdown",
   "id": "9b68c540-4df1-4a2e-92da-3cd55782d73c",
   "metadata": {},
   "source": [
    "log the limit at which the covatiances matrices are not symmetric anymore"
   ]
  },
  {
   "cell_type": "code",
   "execution_count": null,
   "id": "cfde84bc-cfcd-4d7f-b6f6-8c63a3279387",
   "metadata": {},
   "outputs": [
    {
     "data": {
      "text/plain": [
       "torch.Size([600])"
      ]
     },
     "execution_count": null,
     "metadata": {},
     "output_type": "execute_result"
    }
   ],
   "source": [
    "pred[0][0].flatten().shapea"
   ]
  },
  {
   "cell_type": "code",
   "execution_count": null,
   "id": "e143af81-a899-41b7-978e-95612da59088",
   "metadata": {},
   "outputs": [
    {
     "data": {
      "text/plain": [
       "torch.Size([600, 600])"
      ]
     },
     "execution_count": null,
     "metadata": {},
     "output_type": "execute_result"
    }
   ],
   "source": [
    "torch.diag(pred[1][0].flatten()).shape"
   ]
  },
  {
   "cell_type": "code",
   "execution_count": null,
   "id": "5b19537d-d697-4732-bfd8-1b624f19b006",
   "metadata": {},
   "outputs": [
    {
     "data": {
      "text/plain": [
       "tensor(-821.3179, grad_fn=<SumBackward0>)"
      ]
     },
     "execution_count": null,
     "metadata": {},
     "output_type": "execute_result"
    }
   ],
   "source": [
    "MultivariateNormal(pred[0][0].flatten(), torch.diag(pred[1][0].flatten())).log_prob(target[0][0].flatten()).sum()"
   ]
  },
  {
   "cell_type": "code",
   "execution_count": null,
   "id": "e53bdccb-7ff4-47e6-a2be-536d599f720b",
   "metadata": {},
   "outputs": [],
   "source": [
    "imp_ll_loss(pred, target).backward()"
   ]
  },
  {
   "cell_type": "markdown",
   "id": "6e75817f-2abb-4e9f-b54a-edb7ea33dc1b",
   "metadata": {},
   "source": [
    "add support for complete loss (also outside gap) and for filter loss (don't run the smooher)"
   ]
  },
  {
   "cell_type": "markdown",
   "id": "c793e684-8ce9-4393-af4d-0268f3710b7a",
   "metadata": {},
   "source": [
    "TODO document:\n",
    "- only_gap\n",
    "- only_std"
   ]
  },
  {
   "cell_type": "markdown",
   "id": "2b04cee3-9086-41cb-ac08-6b908626c587",
   "metadata": {},
   "source": [
    "Play around with flatting + diagonal"
   ]
  },
  {
   "cell_type": "code",
   "execution_count": null,
   "id": "559fc5e0-3554-4efa-89a7-08a6dd44f310",
   "metadata": {},
   "outputs": [
    {
     "data": {
      "text/plain": [
       "tensor([[[ 1,  0,  0],\n",
       "         [ 0,  2,  0],\n",
       "         [ 0,  0,  3]],\n",
       "\n",
       "        [[10,  0,  0],\n",
       "         [ 0, 20,  0],\n",
       "         [ 0,  0, 30]]])"
      ]
     },
     "execution_count": null,
     "metadata": {},
     "output_type": "execute_result"
    }
   ],
   "source": [
    "a = torch.diag(torch.tensor([1,2,3]))\n",
    "d = torch.stack([a, a*10])\n",
    "m = torch.stack([a.diag(), a.diag()*10])\n",
    "d"
   ]
  },
  {
   "cell_type": "code",
   "execution_count": null,
   "id": "773c90fa-3672-43a5-b7bf-2de9b068ebe3",
   "metadata": {},
   "outputs": [
    {
     "data": {
      "text/plain": [
       "tensor([ 1,  2,  3, 10, 20, 30])"
      ]
     },
     "execution_count": null,
     "metadata": {},
     "output_type": "execute_result"
    }
   ],
   "source": [
    "m.flatten()"
   ]
  },
  {
   "cell_type": "code",
   "execution_count": null,
   "id": "c5851886-313c-4eac-87a4-4684ff9c438f",
   "metadata": {},
   "outputs": [
    {
     "data": {
      "text/plain": [
       "tensor([[[ 1,  0,  0],\n",
       "         [ 0,  2,  0],\n",
       "         [ 0,  0,  3]],\n",
       "\n",
       "        [[10,  0,  0],\n",
       "         [ 0, 20,  0],\n",
       "         [ 0,  0, 30]]])"
      ]
     },
     "execution_count": null,
     "metadata": {},
     "output_type": "execute_result"
    }
   ],
   "source": [
    "d"
   ]
  },
  {
   "cell_type": "code",
   "execution_count": null,
   "id": "72af60ed-b471-47f3-90be-2be51eb18bb0",
   "metadata": {},
   "outputs": [
    {
     "data": {
      "text/plain": [
       "tensor([ 1,  2,  3, 10, 20, 30])"
      ]
     },
     "execution_count": null,
     "metadata": {},
     "output_type": "execute_result"
    }
   ],
   "source": [
    "torch.diagonal(d, dim1=1, dim2=2).flatten()"
   ]
  },
  {
   "cell_type": "code",
   "execution_count": null,
   "id": "09c58fef-a8d8-48b1-a837-335a67158ed4",
   "metadata": {},
   "outputs": [],
   "source": [
    "means, stds = pred\n",
    "data, mask = target"
   ]
  },
  {
   "cell_type": "code",
   "execution_count": null,
   "id": "5a6bd159-499d-42b3-a8b2-9e54c98a8659",
   "metadata": {},
   "outputs": [
    {
     "data": {
      "text/plain": [
       "tensor(-6531.1284, grad_fn=<SubBackward0>)"
      ]
     },
     "execution_count": null,
     "metadata": {},
     "output_type": "execute_result"
    }
   ],
   "source": [
    "# make a big matrix with all variables and observations and compute ll\n",
    "mask = mask.flatten() \n",
    "obs = data.flatten()[mask]\n",
    "means = data.flatten()[mask]\n",
    "stds = stds.flatten()[mask] # need to support batches\n",
    "\n",
    "MultivariateNormal(means, torch.diag(stds)).log_prob(obs)"
   ]
  },
  {
   "cell_type": "code",
   "execution_count": null,
   "id": "f4cc7eea-b8cc-4e55-88d6-6295468ce58e",
   "metadata": {},
   "outputs": [
    {
     "data": {
      "text/plain": [
       "torch.Size([10, 200, 3])"
      ]
     },
     "execution_count": null,
     "metadata": {},
     "output_type": "execute_result"
    }
   ],
   "source": [
    "covs.shape"
   ]
  },
  {
   "cell_type": "code",
   "execution_count": null,
   "id": "28c38f87-5a72-42bd-847f-fb1e76ec7490",
   "metadata": {},
   "outputs": [],
   "source": [
    "#| export\n",
    "class KalmanLoss():\n",
    "    def __init__(self,\n",
    "                 only_gap:bool=True, # loss for all predictions or only gap?\n",
    "                ):\n",
    "        store_attr()\n",
    "    \n",
    "    def __call__(self, pred: ListNormal, target: MaskedTensor):\n",
    "        data, mask = target\n",
    "        means, stds = pred\n",
    "        \n",
    "        # make a big vector with all variables and observations and compute ll\n",
    "        mask = mask.flatten() if self.only_gap else torch.fill(mask, True).flatten()\n",
    "        obs = data.flatten()[mask]\n",
    "        means = data.flatten()[mask]\n",
    "        stds = stds.flatten()[mask] \n",
    "        \n",
    "        return MultivariateNormal(means, torch.diag(stds)).log_prob(obs)\n",
    "        "
   ]
  },
  {
   "cell_type": "code",
   "execution_count": null,
   "id": "72fa95ce-9fc1-4b61-855d-a27eb5ba4994",
   "metadata": {},
   "outputs": [
    {
     "data": {
      "text/plain": [
       "tensor(-6531.1284, grad_fn=<SubBackward0>)"
      ]
     },
     "execution_count": null,
     "metadata": {},
     "output_type": "execute_result"
    }
   ],
   "source": [
    "KalmanLoss()(pred, target)"
   ]
  },
  {
   "cell_type": "code",
   "execution_count": null,
   "id": "83f8aae6-eb06-4772-a611-d62af0395ef3",
   "metadata": {},
   "outputs": [
    {
     "data": {
      "text/plain": [
       "tensor(-6751.8809, grad_fn=<SubBackward0>)"
      ]
     },
     "execution_count": null,
     "metadata": {},
     "output_type": "execute_result"
    }
   ],
   "source": [
    "KalmanLoss(only_gap=False)(pred, target)"
   ]
  },
  {
   "cell_type": "markdown",
   "id": "dbc02d69-7930-47b8-9543-d07998f3baa6",
   "metadata": {},
   "source": [
    "### Metrics"
   ]
  },
  {
   "cell_type": "markdown",
   "id": "6b485cfe-5fce-449b-810c-1884990f103b",
   "metadata": {},
   "source": [
    "Wrapper around fastai metrics to support masked tensors and normal distributions"
   ]
  },
  {
   "cell_type": "code",
   "execution_count": null,
   "id": "dad52498-03b4-4aac-a8d6-bf7dc6f1cab1",
   "metadata": {},
   "outputs": [],
   "source": [
    "#| export\n",
    "def to_meteo_imp_metric(metric):\n",
    "    def meteo_imp_metric(inp, targ):\n",
    "        return metric(imp[0], targ[0]) # first element are the means, first element "
   ]
  },
  {
   "cell_type": "markdown",
   "id": "73470c88-47dc-4187-a208-789f24c23a3e",
   "metadata": {},
   "source": [
    "### Callback"
   ]
  },
  {
   "cell_type": "markdown",
   "id": "96c199ec-b21c-401d-bd3c-16670de8e372",
   "metadata": {},
   "source": [
    "save the model state "
   ]
  },
  {
   "cell_type": "code",
   "execution_count": null,
   "id": "c9f34e5c-1cf5-4c04-b7e0-89e2e33b9aa1",
   "metadata": {},
   "outputs": [],
   "source": [
    "#| export\n",
    "from fastai.callback.all import *"
   ]
  },
  {
   "cell_type": "code",
   "execution_count": null,
   "id": "c6bbe197-91eb-4fb2-ae15-f2d463914902",
   "metadata": {},
   "outputs": [],
   "source": [
    "#| export\n",
    "class SaveParams(Callback):\n",
    "    def __init__(self, param_name):\n",
    "        super().__init__()\n",
    "        self.params = []\n",
    "        self.param_name = param_name\n",
    "    def after_batch(self):\n",
    "        param = getattr(self.model, self.param_name).detach()\n",
    "        self.params.append(param)"
   ]
  },
  {
   "cell_type": "code",
   "execution_count": null,
   "id": "ff5bb53e-22d9-42dc-b30c-cca67be4b61c",
   "metadata": {},
   "outputs": [
    {
     "data": {
      "text/plain": [
       "'progress'"
      ]
     },
     "execution_count": null,
     "metadata": {},
     "output_type": "execute_result"
    }
   ],
   "source": [
    "ProgressCallback().name"
   ]
  },
  {
   "cell_type": "code",
   "execution_count": null,
   "id": "8c5f79c1-452e-4148-9c9e-06ed8bf0fb7e",
   "metadata": {},
   "outputs": [
    {
     "data": {
      "text/plain": [
       "\u001b[0;31mSignature:\u001b[0m \u001b[0mrange_of\u001b[0m\u001b[0;34m(\u001b[0m\u001b[0ma\u001b[0m\u001b[0;34m,\u001b[0m \u001b[0mb\u001b[0m\u001b[0;34m=\u001b[0m\u001b[0;32mNone\u001b[0m\u001b[0;34m,\u001b[0m \u001b[0mstep\u001b[0m\u001b[0;34m=\u001b[0m\u001b[0;32mNone\u001b[0m\u001b[0;34m)\u001b[0m\u001b[0;34m\u001b[0m\u001b[0;34m\u001b[0m\u001b[0m\n",
       "\u001b[0;31mDocstring:\u001b[0m All indices of collection `a`, if `a` is a collection, otherwise `range`\n",
       "\u001b[0;31mFile:\u001b[0m      ~/.local/lib/python3.10/site-packages/fastcore/basics.py\n",
       "\u001b[0;31mType:\u001b[0m      function\n"
      ]
     },
     "metadata": {},
     "output_type": "display_data"
    }
   ],
   "source": [
    "range_of?"
   ]
  },
  {
   "cell_type": "code",
   "execution_count": null,
   "id": "206b2efc-a26e-4ed7-b9a8-df1ce7a605b4",
   "metadata": {},
   "outputs": [],
   "source": [
    "#| export\n",
    "class SaveParams(Callback):\n",
    "    def __init__(self, param_name):\n",
    "        super().__init__()\n",
    "        self.params = []\n",
    "        self.param_name = param_name\n",
    "    def after_batch(self):\n",
    "        param = getattr(self.model, self.param_name).detach()\n",
    "        self.params.append(param)"
   ]
  },
  {
   "cell_type": "markdown",
   "id": "99617495-ab91-4a00-8371-91011ba551ba",
   "metadata": {},
   "source": [
    "### Learner"
   ]
  },
  {
   "cell_type": "code",
   "execution_count": null,
   "id": "87ad92d0-4b9a-4f10-817d-c213366fe83a",
   "metadata": {},
   "outputs": [],
   "source": [
    "#| export\n",
    "from fastai.learner import * \n",
    "\n",
    "from fastai.tabular.all import *\n",
    "\n",
    "from fastai.tabular.learner import *\n",
    "\n",
    "from fastai.callback.progress import ShowGraphCallback"
   ]
  },
  {
   "cell_type": "code",
   "execution_count": null,
   "id": "8bb68031-bc19-4c2f-b82b-201939013bbc",
   "metadata": {},
   "outputs": [],
   "source": [
    "obs_cov_history = SaveParams('obs_cov')"
   ]
  },
  {
   "cell_type": "code",
   "execution_count": null,
   "id": "fdb75dd6-f0af-4c50-bc80-2436b28b4db3",
   "metadata": {},
   "outputs": [],
   "source": [
    "all_data = CollectDataCallback()"
   ]
  },
  {
   "cell_type": "code",
   "execution_count": null,
   "id": "25efc678-791b-4599-87d3-820ace3f7263",
   "metadata": {},
   "outputs": [],
   "source": [
    "model = KalmanFilter(n_dim_state = hai.shape[1], n_dim_obs=hai.shape[1])"
   ]
  },
  {
   "cell_type": "code",
   "execution_count": null,
   "id": "cb235adb-78de-430e-8eb4-c279347e4045",
   "metadata": {},
   "outputs": [],
   "source": [
    "# model._set_constraint('obs_cov', model.obs_cov, train=False)"
   ]
  },
  {
   "cell_type": "code",
   "execution_count": null,
   "id": "81bc94fc-729b-4c61-815f-a36000396f27",
   "metadata": {},
   "outputs": [],
   "source": [
    "dls = make_dataloader(hai[:2000], 200, 10, bs=1).cpu()"
   ]
  },
  {
   "cell_type": "code",
   "execution_count": null,
   "id": "c508264f-ca12-4f8f-93cc-9245fa84e7d9",
   "metadata": {},
   "outputs": [],
   "source": [
    "learn = Learner(dls, model, loss_func=KalmanLoss(), cbs = [obs_cov_history, all_data] )"
   ]
  },
  {
   "cell_type": "code",
   "execution_count": null,
   "id": "eef1826f-78e6-4654-a92f-dca07b2ddb7e",
   "metadata": {},
   "outputs": [
    {
     "data": {
      "text/html": [
       "\n",
       "<style>\n",
       "    /* Turns off some styling */\n",
       "    progress {\n",
       "        /* gets rid of default border in Firefox and Opera. */\n",
       "        border: none;\n",
       "        /* Needs to be in here for Safari polyfill so background images work as expected. */\n",
       "        background-size: auto;\n",
       "    }\n",
       "    progress:not([value]), progress:not([value])::-webkit-progress-bar {\n",
       "        background: repeating-linear-gradient(45deg, #7e7e7e, #7e7e7e 10px, #5c5c5c 10px, #5c5c5c 20px);\n",
       "    }\n",
       "    .progress-bar-interrupted, .progress-bar-interrupted::-webkit-progress-bar {\n",
       "        background: #F44336;\n",
       "    }\n",
       "</style>\n"
      ],
      "text/plain": [
       "<IPython.core.display.HTML object>"
      ]
     },
     "metadata": {},
     "output_type": "display_data"
    },
    {
     "data": {
      "text/html": [
       "<table border=\"1\" class=\"dataframe\">\n",
       "  <thead>\n",
       "    <tr style=\"text-align: left;\">\n",
       "      <th>epoch</th>\n",
       "      <th>train_loss</th>\n",
       "      <th>valid_loss</th>\n",
       "      <th>time</th>\n",
       "    </tr>\n",
       "  </thead>\n",
       "  <tbody>\n",
       "    <tr>\n",
       "      <td>0</td>\n",
       "      <td>-676.813843</td>\n",
       "      <td>-706.480713</td>\n",
       "      <td>00:10</td>\n",
       "    </tr>\n",
       "  </tbody>\n",
       "</table>"
      ],
      "text/plain": [
       "<IPython.core.display.HTML object>"
      ]
     },
     "metadata": {},
     "output_type": "display_data"
    },
    {
     "data": {
      "image/png": "[encoded data removed]",
      "text/plain": [
       "<Figure size 432x288 with 1 Axes>"
      ]
     },
     "metadata": {},
     "output_type": "display_data"
    }
   ],
   "source": [
    "learn.fit(1, 1e-2)"
   ]
  },
  {
   "cell_type": "code",
   "execution_count": null,
   "id": "1a175ca5-0ec2-46a3-b55f-634f819a275f",
   "metadata": {},
   "outputs": [],
   "source": [
    "learn.model.state_dict()"
   ]
  },
  {
   "cell_type": "code",
   "execution_count": null,
   "id": "b7bfe104-a42a-47a7-bf12-270e508baa3c",
   "metadata": {},
   "outputs": [],
   "source": [
    "from pyprojroot import here"
   ]
  },
  {
   "cell_type": "code",
   "execution_count": null,
   "id": "cf00ceea-f858-48a3-9a64-f96bab1a355d",
   "metadata": {},
   "outputs": [],
   "source": [
    "# torch.save(learn.model, here('trained_models'))"
   ]
  },
  {
   "cell_type": "code",
   "execution_count": null,
   "id": "b6cc1918-94f8-4759-af69-aa6635505e7d",
   "metadata": {},
   "outputs": [],
   "source": [
    "learn.model.obs_cov"
   ]
  },
  {
   "cell_type": "code",
   "execution_count": null,
   "id": "ff13d53e-5ded-48e0-a04e-65da28c2a797",
   "metadata": {},
   "outputs": [],
   "source": [
    "learn.model.transition_cov_raw"
   ]
  },
  {
   "cell_type": "code",
   "execution_count": null,
   "id": "b1eabebf-6af6-465a-9878-691b23fc5e15",
   "metadata": {},
   "outputs": [],
   "source": [
    "import meteo_imp"
   ]
  },
  {
   "cell_type": "code",
   "execution_count": null,
   "id": "b8e4a188-2aa2-4da4-b56a-f8a1fe82d46e",
   "metadata": {},
   "outputs": [],
   "source": [
    "meteo_imp.kalman.filter.posdef_log"
   ]
  },
  {
   "cell_type": "code",
   "execution_count": null,
   "id": "79b3d5da-7a8f-4fe1-a845-9245d7c32b1c",
   "metadata": {},
   "outputs": [],
   "source": [
    "len(obs_cov_history.params)"
   ]
  },
  {
   "cell_type": "code",
   "execution_count": null,
   "id": "fc41814b-ea5f-4b75-bc29-138c1a4c7e22",
   "metadata": {},
   "outputs": [],
   "source": [
    "obs_cov_history.params[-1]"
   ]
  },
  {
   "cell_type": "code",
   "execution_count": null,
   "id": "5c1f1269-34ed-4c40-a8e8-0b42298069d3",
   "metadata": {},
   "outputs": [],
   "source": [
    "torch.tensor(list(map(symmetric_upto, obs_cov_history.params)))"
   ]
  },
  {
   "cell_type": "code",
   "execution_count": null,
   "id": "92ea4785-e062-4f5f-a12f-964ea7e2fbff",
   "metadata": {},
   "outputs": [],
   "source": [
    "torch.linalg.eigvalsh(obs_cov_history.params[-1])"
   ]
  },
  {
   "cell_type": "code",
   "execution_count": null,
   "id": "94507f28-2e38-4ee1-9aee-080e6159cf48",
   "metadata": {},
   "outputs": [],
   "source": [
    "torch.linalg.cholesky_ex(obs_cov_history.params[-1])"
   ]
  },
  {
   "cell_type": "code",
   "execution_count": null,
   "id": "1f926f8b-81f6-4e7a-ae49-00d1dfce7f76",
   "metadata": {},
   "outputs": [],
   "source": [
    "tt = torch.tensor([[ 1.0696,  0.5199, -0.5249],\n",
    "        [ 0.5484,  1.1091,  0.5322],\n",
    "        [-0.5279,  0.5506,  1.0742]])"
   ]
  },
  {
   "cell_type": "code",
   "execution_count": null,
   "id": "0222db75-55c4-42e0-a238-9a6b500f503e",
   "metadata": {},
   "outputs": [],
   "source": [
    "torch.linalg.eigvalsh(tt)"
   ]
  },
  {
   "cell_type": "code",
   "execution_count": null,
   "id": "9ec6f82f-d981-4661-8dff-30060f2ab3a7",
   "metadata": {},
   "outputs": [],
   "source": [
    "symmetric_upto(tt)"
   ]
  },
  {
   "cell_type": "code",
   "execution_count": null,
   "id": "1078ee43-afa4-4045-9e44-7e12964135ea",
   "metadata": {},
   "outputs": [],
   "source": []
  },
  {
   "cell_type": "code",
   "execution_count": null,
   "id": "dc733f81-025e-4ab1-8010-09e0be83751c",
   "metadata": {},
   "outputs": [],
   "source": [
    "# torch.save(learn.model.state_dict(), \"partial_traning_15_dec_not_pos_def_error\")"
   ]
  },
  {
   "cell_type": "code",
   "execution_count": null,
   "id": "f33352c0-27c1-43ff-a201-3e5263630ef1",
   "metadata": {},
   "outputs": [],
   "source": [
    "learn.recorder.plot_loss()"
   ]
  },
  {
   "cell_type": "code",
   "execution_count": null,
   "id": "9d05ed56-987e-4583-9b88-360d60f9a900",
   "metadata": {},
   "outputs": [],
   "source": [
    "# learn.lr_find()"
   ]
  },
  {
   "cell_type": "code",
   "execution_count": null,
   "id": "ad2ae8e8",
   "metadata": {},
   "outputs": [],
   "source": [
    "display_as_row(learn.model.get_info())"
   ]
  },
  {
   "cell_type": "code",
   "execution_count": null,
   "id": "7e96647f-f8aa-4a37-a8ae-79c6dd10cae3",
   "metadata": {},
   "outputs": [],
   "source": [
    "learn.show_results()"
   ]
  },
  {
   "cell_type": "markdown",
   "id": "84002608-9491-4335-86fb-d40d3946f2ae",
   "metadata": {},
   "source": [
    "## Double Precisions"
   ]
  },
  {
   "cell_type": "code",
   "execution_count": null,
   "id": "86fb2617-c826-4ea4-bf9d-ecd31b8d5afb",
   "metadata": {},
   "outputs": [],
   "source": [
    "hai = read_fluxnet_csv(hai_path, 2000, num_dtype=np.float64)"
   ]
  },
  {
   "cell_type": "code",
   "execution_count": null,
   "id": "69191be7-ac68-4616-8e4b-460fb786769f",
   "metadata": {},
   "outputs": [],
   "source": [
    "model = KalmanFilter(**KalmanFilterTester(dtype=torch.float64).params)"
   ]
  },
  {
   "cell_type": "code",
   "execution_count": null,
   "id": "69e1f814-b1f8-48e1-a098-e37234d4b451",
   "metadata": {},
   "outputs": [],
   "source": [
    "dls = make_dataloader(hai[:2000], 200, 10, bs=1) "
   ]
  },
  {
   "cell_type": "code",
   "execution_count": null,
   "id": "a0142fdc-5c85-45d1-a13f-b2f0839b0636",
   "metadata": {},
   "outputs": [],
   "source": [
    "input = dls.one_batch()[0]\n",
    "target = dls.one_batch()[1]"
   ]
  },
  {
   "cell_type": "code",
   "execution_count": null,
   "id": "06e93c8b-f74d-4382-8fb2-54d83aec5fcb",
   "metadata": {},
   "outputs": [],
   "source": [
    "data, mask = input"
   ]
  },
  {
   "cell_type": "code",
   "execution_count": null,
   "id": "1cc98d35-4a67-496d-acc7-a9bd5d884a52",
   "metadata": {},
   "outputs": [],
   "source": [
    "data.dtype"
   ]
  },
  {
   "cell_type": "code",
   "execution_count": null,
   "id": "59d35c5d-ce51-476d-85ce-8502ae6d17e6",
   "metadata": {},
   "outputs": [],
   "source": [
    "model.predict(data.squeeze(), torch.tensor([0]))"
   ]
  },
  {
   "cell_type": "code",
   "execution_count": null,
   "id": "30e0a335-4e18-42a1-a847-baacdab94ee5",
   "metadata": {},
   "outputs": [],
   "source": [
    "pred = model(input)"
   ]
  },
  {
   "cell_type": "code",
   "execution_count": null,
   "id": "4931c465-98fa-4a47-bd1d-4abc91cd739f",
   "metadata": {},
   "outputs": [],
   "source": [
    "imp_ll_loss(pred, target)"
   ]
  },
  {
   "cell_type": "code",
   "execution_count": null,
   "id": "5bfcc6cf-a46d-4e69-a570-47adb86251d9",
   "metadata": {},
   "outputs": [],
   "source": [
    "#| export\n",
    "class Float64Callback(Callback):\n",
    "    order = Recorder.order + 10 # run \n",
    "    def before_fit(self):\n",
    "        self.recorder.smooth_loss.val = torch.tensor(0, dtype=torch.float64) # default is a float 32"
   ]
  },
  {
   "cell_type": "code",
   "execution_count": null,
   "id": "59fc2923-1419-4036-b05e-c73c34465bb6",
   "metadata": {},
   "outputs": [],
   "source": [
    "learn = Learner(dls, model, loss_func=imp_ll_loss, cbs = [ShowGraphCallback, Float64Callback] )"
   ]
  },
  {
   "cell_type": "code",
   "execution_count": null,
   "id": "8f8f50e9-133a-4dfe-966d-2c5650fa416a",
   "metadata": {},
   "outputs": [],
   "source": [
    "learn.fit(10, 1e-3)"
   ]
  },
  {
   "cell_type": "code",
   "execution_count": null,
   "id": "45a508f4-7735-4d2b-9edf-62634d0159e9",
   "metadata": {},
   "outputs": [],
   "source": []
  }
 ],
 "metadata": {
  "kernelspec": {
   "display_name": "data_science",
   "language": "python",
   "name": "data_science"
  },
  "widgets": {
   "application/vnd.jupyter.widget-state+json": {
    "state": {},
    "version_major": 2,
    "version_minor": 0
   }
  }
 },
 "nbformat": 4,
 "nbformat_minor": 5
}
