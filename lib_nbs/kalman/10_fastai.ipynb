{
 "cells": [
  {
   "cell_type": "markdown",
   "id": "e8af5772-d828-4017-ae3b-5d530ac57586",
   "metadata": {},
   "source": [
    "# Implement Kalman model using FastAI\n",
    "\n",
    "> need to implement custom data preparation pipeline and loss function "
   ]
  },
  {
   "cell_type": "code",
   "execution_count": null,
   "id": "b87acfa4-b43e-4cbe-9bc2-103a084ec5a2",
   "metadata": {},
   "outputs": [
    {
     "name": "stdout",
     "output_type": "stream",
     "text": [
      "The autoreload extension is already loaded. To reload it, use:\n",
      "  %reload_ext autoreload\n"
     ]
    }
   ],
   "source": [
    "#| hide\n",
    "%load_ext autoreload\n",
    "%autoreload 2"
   ]
  },
  {
   "cell_type": "code",
   "execution_count": null,
   "id": "cca16380-45e6-479a-b8c3-e6f26ed9fdf3",
   "metadata": {},
   "outputs": [],
   "source": [
    "#| hide\n",
    "#| default_exp kalman.fastai"
   ]
  },
  {
   "cell_type": "code",
   "execution_count": null,
   "id": "131e1d0e-56f7-4c46-aadd-a9a9097bfe28",
   "metadata": {},
   "outputs": [],
   "source": [
    "from fastai.tabular.core import *\n",
    "from fastai.data.core import *"
   ]
  },
  {
   "cell_type": "code",
   "execution_count": null,
   "id": "22f63809-036e-42ad-93e9-afcb78c82568",
   "metadata": {},
   "outputs": [],
   "source": [
    "#| export\n",
    "from meteo_imp.utils import *\n",
    "from meteo_imp.gaussian import *\n",
    "from meteo_imp.data import *\n",
    "\n",
    "from fastcore.transform import *\n",
    "from fastcore.basics import *\n",
    "from fastcore.foundation import *\n",
    "from fastcore.all import *\n",
    "from fastai.tabular import *\n",
    "from fastai.torch_core import default_device, to_device\n",
    "\n",
    "import torch\n",
    "\n",
    "import collections\n",
    "\n",
    "import pandas as pd\n",
    "import numpy as np\n",
    "import matplotlib.pyplot as plt"
   ]
  },
  {
   "cell_type": "code",
   "execution_count": null,
   "id": "c946534f",
   "metadata": {},
   "outputs": [],
   "source": [
    "reset_seed()"
   ]
  },
  {
   "cell_type": "code",
   "execution_count": null,
   "id": "1c3c3090-de05-4a9b-943d-10b285bf8d94",
   "metadata": {},
   "outputs": [
    {
     "data": {
      "text/plain": [
       "Path('/home/simone/Documents/uni/Thesis/GPFA_imputation/data/FLX_DE-Hai_FLUXNET2015_FULLSET_HH_2000-2012_1-4_float32.parquet')"
      ]
     },
     "execution_count": null,
     "metadata": {},
     "output_type": "execute_result"
    }
   ],
   "source": [
    "hai_path"
   ]
  },
  {
   "cell_type": "code",
   "execution_count": null,
   "id": "d7f48bb9-58ab-4d1a-97d9-b242f6542148",
   "metadata": {},
   "outputs": [],
   "source": [
    "hai = pd.read_parquet(hai_path)\n",
    "hai64 = pd.read_parquet(hai_path64)\n",
    "hai_era = pd.read_parquet(hai_era_path)\n",
    "hai_era64 = pd.read_parquet(hai_era_path64)"
   ]
  },
  {
   "cell_type": "markdown",
   "id": "b0f3603c-74ec-41ba-a9dc-8fb08c2630cc",
   "metadata": {},
   "source": [
    "## Data Preparation"
   ]
  },
  {
   "cell_type": "markdown",
   "id": "df4ecbb3-f6ef-4344-95e7-5b566611d3f2",
   "metadata": {},
   "source": [
    "The aim of the data preparation pipeline is to:\n",
    "- take the original time series and split it into time blocks\n",
    "- for each block generate a random gap (need to figure out the properties of the gap)\n",
    "- split some time blocks for testing\n",
    "\n",
    "the input of the pipeline is:\n",
    "- a dataframe containing all observations\n",
    "\n",
    "the input of the model is:\n",
    "- observed data (potentially containing NaN where data is missing)\n",
    "- missing data mask (which is telling where the data is missing)\n",
    "- the data needs to be standardized"
   ]
  },
  {
   "cell_type": "markdown",
   "id": "d17c4e2b-6175-4674-9437-9e8a75cadb35",
   "metadata": {},
   "source": [
    "### 1) Block Index"
   ]
  },
  {
   "cell_type": "markdown",
   "id": "09346517-48ae-4872-b572-a095b7adcd19",
   "metadata": {},
   "source": [
    "the first step is to transfrom the original dataframe into blocks of a specified `block_len`\n",
    "\n",
    "two different strategies are possible:\n",
    "\n",
    "- contigous blocks\n",
    "- random block in the dataframe\n",
    "\n",
    "for now contigous blocks are used"
   ]
  },
  {
   "cell_type": "code",
   "execution_count": null,
   "id": "d6661e15-6e46-49c5-891c-8278a6c0825f",
   "metadata": {},
   "outputs": [],
   "source": [
    "from dataclasses import dataclass"
   ]
  },
  {
   "cell_type": "code",
   "execution_count": null,
   "id": "e4d73d6c-a82f-43c3-a8ff-cd6cfe644fac",
   "metadata": {},
   "outputs": [],
   "source": [
    "#| export\n",
    "class BlockIndexTransform(Transform):\n",
    "    \"\"\"divide timeseries DataFrame index into blocks\"\"\"\n",
    "    def __init__(self, idx: pd.DatetimeIndex, block_len:int =200, offset=1):\n",
    "        store_attr()\n",
    "        self.n = len(idx)\n",
    "        \n",
    "    def encodes(self, i:int) -> pd.DatetimeIndex:       \n",
    "        start = i * self.block_len + self.offset\n",
    "        end = (i+1) * self.block_len + self.offset\n",
    "        assert end <= self.n \n",
    "        \n",
    "        return self.idx[start:end] "
   ]
  },
  {
   "cell_type": "code",
   "execution_count": null,
   "id": "4e51eaf9-d972-4960-b5b3-03ddf4b139fa",
   "metadata": {},
   "outputs": [],
   "source": [
    "blk = BlockIndexTransform(hai.index, 10)"
   ]
  },
  {
   "cell_type": "code",
   "execution_count": null,
   "id": "71c4f834-fb0f-4fb3-a13a-da01198a970a",
   "metadata": {},
   "outputs": [
    {
     "data": {
      "text/plain": [
       "BlockIndexTransform:\n",
       "encodes: (int,object) -> encodes\n",
       "decodes: "
      ]
     },
     "execution_count": null,
     "metadata": {},
     "output_type": "execute_result"
    }
   ],
   "source": [
    "blk"
   ]
  },
  {
   "cell_type": "code",
   "execution_count": null,
   "id": "316f91e8-3861-46e5-b6d5-d9c17bccf80e",
   "metadata": {},
   "outputs": [
    {
     "data": {
      "text/plain": [
       "DatetimeIndex(['2000-01-01 00:30:00', '2000-01-01 01:00:00',\n",
       "               '2000-01-01 01:30:00', '2000-01-01 02:00:00',\n",
       "               '2000-01-01 02:30:00', '2000-01-01 03:00:00',\n",
       "               '2000-01-01 03:30:00', '2000-01-01 04:00:00',\n",
       "               '2000-01-01 04:30:00', '2000-01-01 05:00:00',\n",
       "               ...\n",
       "               '2012-12-31 19:30:00', '2012-12-31 20:00:00',\n",
       "               '2012-12-31 20:30:00', '2012-12-31 21:00:00',\n",
       "               '2012-12-31 21:30:00', '2012-12-31 22:00:00',\n",
       "               '2012-12-31 22:30:00', '2012-12-31 23:00:00',\n",
       "               '2012-12-31 23:30:00', '2013-01-01 00:00:00'],\n",
       "              dtype='datetime64[ns]', name='time', length=227952, freq=None)"
      ]
     },
     "execution_count": null,
     "metadata": {},
     "output_type": "execute_result"
    }
   ],
   "source": [
    "hai.index"
   ]
  },
  {
   "cell_type": "code",
   "execution_count": null,
   "id": "db372f33-785c-4e99-8fe0-e439c24b004b",
   "metadata": {},
   "outputs": [
    {
     "data": {
      "text/plain": [
       "DatetimeIndex(['2000-01-01 11:00:00', '2000-01-01 11:30:00',\n",
       "               '2000-01-01 12:00:00', '2000-01-01 12:30:00',\n",
       "               '2000-01-01 13:00:00', '2000-01-01 13:30:00',\n",
       "               '2000-01-01 14:00:00', '2000-01-01 14:30:00',\n",
       "               '2000-01-01 15:00:00', '2000-01-01 15:30:00'],\n",
       "              dtype='datetime64[ns]', name='time', freq=None)"
      ]
     },
     "execution_count": null,
     "metadata": {},
     "output_type": "execute_result"
    }
   ],
   "source": [
    "blk(2)"
   ]
  },
  {
   "cell_type": "markdown",
   "id": "21c89d9e-4acc-4ffb-858c-7fccfd5e30d5",
   "metadata": {},
   "source": [
    "### 2) Meteo Imp Block DataFrames"
   ]
  },
  {
   "cell_type": "markdown",
   "id": "5d544b17-a5e4-4934-83fe-bbc22afc6ec3",
   "metadata": {},
   "source": [
    "Get a chunck out of dataframes given an index"
   ]
  },
  {
   "cell_type": "code",
   "execution_count": null,
   "id": "71f15928-f42a-4dd2-9159-cd683a067cdd",
   "metadata": {},
   "outputs": [],
   "source": [
    "#| export\n",
    "@dataclass\n",
    "class DataControl:\n",
    "    data: pd.DataFrame\n",
    "    control: pd.DataFrame\n",
    "    def _repr_html_(self):\n",
    "            return row_dfs({'data': self.data, 'control': self.control}, title=\"Data Control\", hide_idx=False)\n",
    "    def __iter__(self): return iter((self.data, self.control,))"
   ]
  },
  {
   "cell_type": "code",
   "execution_count": null,
   "id": "acb617f2-28cb-4aa8-8b08-5e15f2289153",
   "metadata": {},
   "outputs": [],
   "source": [
    "df = hai.loc[blk(1)]"
   ]
  },
  {
   "cell_type": "code",
   "execution_count": null,
   "id": "6ddc660c-de6c-4050-9ec6-4a87b6f53204",
   "metadata": {},
   "outputs": [],
   "source": [
    "#| export\n",
    "def _rename_lag(lag):\n",
    "    def _inner(col_name):\n",
    "        return f\"{col_name}_lag_{lag}\"\n",
    "    return _inner"
   ]
  },
  {
   "cell_type": "code",
   "execution_count": null,
   "id": "8598cd54-2460-4e04-a605-c0788a6c9715",
   "metadata": {},
   "outputs": [
    {
     "data": {
      "text/html": [
       "<div>\n",
       "<style scoped>\n",
       "    .dataframe tbody tr th:only-of-type {\n",
       "        vertical-align: middle;\n",
       "    }\n",
       "\n",
       "    .dataframe tbody tr th {\n",
       "        vertical-align: top;\n",
       "    }\n",
       "\n",
       "    .dataframe thead th {\n",
       "        text-align: right;\n",
       "    }\n",
       "</style>\n",
       "<table border=\"1\" class=\"dataframe\">\n",
       "  <thead>\n",
       "    <tr style=\"text-align: right;\">\n",
       "      <th></th>\n",
       "      <th>TA_lag_1</th>\n",
       "      <th>SW_IN_lag_1</th>\n",
       "      <th>VPD_lag_1</th>\n",
       "    </tr>\n",
       "    <tr>\n",
       "      <th>time</th>\n",
       "      <th></th>\n",
       "      <th></th>\n",
       "      <th></th>\n",
       "    </tr>\n",
       "  </thead>\n",
       "  <tbody>\n",
       "    <tr>\n",
       "      <th>2000-01-01 06:00:00</th>\n",
       "      <td>-0.23</td>\n",
       "      <td>0.00</td>\n",
       "      <td>0.122</td>\n",
       "    </tr>\n",
       "    <tr>\n",
       "      <th>2000-01-01 06:30:00</th>\n",
       "      <td>-0.22</td>\n",
       "      <td>0.00</td>\n",
       "      <td>0.098</td>\n",
       "    </tr>\n",
       "    <tr>\n",
       "      <th>2000-01-01 07:00:00</th>\n",
       "      <td>-0.24</td>\n",
       "      <td>0.00</td>\n",
       "      <td>0.066</td>\n",
       "    </tr>\n",
       "    <tr>\n",
       "      <th>2000-01-01 07:30:00</th>\n",
       "      <td>-0.23</td>\n",
       "      <td>0.00</td>\n",
       "      <td>0.044</td>\n",
       "    </tr>\n",
       "    <tr>\n",
       "      <th>2000-01-01 08:00:00</th>\n",
       "      <td>-0.22</td>\n",
       "      <td>0.00</td>\n",
       "      <td>0.026</td>\n",
       "    </tr>\n",
       "    <tr>\n",
       "      <th>2000-01-01 08:30:00</th>\n",
       "      <td>-0.19</td>\n",
       "      <td>0.45</td>\n",
       "      <td>0.016</td>\n",
       "    </tr>\n",
       "    <tr>\n",
       "      <th>2000-01-01 09:00:00</th>\n",
       "      <td>-0.14</td>\n",
       "      <td>3.70</td>\n",
       "      <td>0.010</td>\n",
       "    </tr>\n",
       "    <tr>\n",
       "      <th>2000-01-01 09:30:00</th>\n",
       "      <td>-0.03</td>\n",
       "      <td>7.26</td>\n",
       "      <td>0.006</td>\n",
       "    </tr>\n",
       "    <tr>\n",
       "      <th>2000-01-01 10:00:00</th>\n",
       "      <td>0.04</td>\n",
       "      <td>12.24</td>\n",
       "      <td>0.006</td>\n",
       "    </tr>\n",
       "    <tr>\n",
       "      <th>2000-01-01 10:30:00</th>\n",
       "      <td>0.10</td>\n",
       "      <td>16.51</td>\n",
       "      <td>0.006</td>\n",
       "    </tr>\n",
       "  </tbody>\n",
       "</table>\n",
       "</div>"
      ],
      "text/plain": [
       "                     TA_lag_1  SW_IN_lag_1  VPD_lag_1\n",
       "time                                                 \n",
       "2000-01-01 06:00:00     -0.23         0.00      0.122\n",
       "2000-01-01 06:30:00     -0.22         0.00      0.098\n",
       "2000-01-01 07:00:00     -0.24         0.00      0.066\n",
       "2000-01-01 07:30:00     -0.23         0.00      0.044\n",
       "2000-01-01 08:00:00     -0.22         0.00      0.026\n",
       "2000-01-01 08:30:00     -0.19         0.45      0.016\n",
       "2000-01-01 09:00:00     -0.14         3.70      0.010\n",
       "2000-01-01 09:30:00     -0.03         7.26      0.006\n",
       "2000-01-01 10:00:00      0.04        12.24      0.006\n",
       "2000-01-01 10:30:00      0.10        16.51      0.006"
      ]
     },
     "execution_count": null,
     "metadata": {},
     "output_type": "execute_result"
    }
   ],
   "source": [
    "df.rename(columns=_rename_lag(1))"
   ]
  },
  {
   "cell_type": "code",
   "execution_count": null,
   "id": "bb691e61-e8dc-4f30-9b62-a5bf1411f52c",
   "metadata": {},
   "outputs": [],
   "source": [
    "#| export\n",
    "def _lag_df(df, lag):\n",
    "    \"add lagged columns\"\n",
    "    df_lag = df.shift(lag).rename(columns = _rename_lag(lag))\n",
    "    return df_lag\n",
    "    "
   ]
  },
  {
   "cell_type": "code",
   "execution_count": null,
   "id": "887b0a9c-4602-4734-8816-044104f6eb74",
   "metadata": {},
   "outputs": [
    {
     "data": {
      "text/html": [
       "<div>\n",
       "<style scoped>\n",
       "    .dataframe tbody tr th:only-of-type {\n",
       "        vertical-align: middle;\n",
       "    }\n",
       "\n",
       "    .dataframe tbody tr th {\n",
       "        vertical-align: top;\n",
       "    }\n",
       "\n",
       "    .dataframe thead th {\n",
       "        text-align: right;\n",
       "    }\n",
       "</style>\n",
       "<table border=\"1\" class=\"dataframe\">\n",
       "  <thead>\n",
       "    <tr style=\"text-align: right;\">\n",
       "      <th></th>\n",
       "      <th>TA_lag_1</th>\n",
       "      <th>SW_IN_lag_1</th>\n",
       "      <th>VPD_lag_1</th>\n",
       "    </tr>\n",
       "    <tr>\n",
       "      <th>time</th>\n",
       "      <th></th>\n",
       "      <th></th>\n",
       "      <th></th>\n",
       "    </tr>\n",
       "  </thead>\n",
       "  <tbody>\n",
       "    <tr>\n",
       "      <th>2000-01-01 06:00:00</th>\n",
       "      <td>NaN</td>\n",
       "      <td>NaN</td>\n",
       "      <td>NaN</td>\n",
       "    </tr>\n",
       "    <tr>\n",
       "      <th>2000-01-01 06:30:00</th>\n",
       "      <td>-0.23</td>\n",
       "      <td>0.00</td>\n",
       "      <td>0.122</td>\n",
       "    </tr>\n",
       "    <tr>\n",
       "      <th>2000-01-01 07:00:00</th>\n",
       "      <td>-0.22</td>\n",
       "      <td>0.00</td>\n",
       "      <td>0.098</td>\n",
       "    </tr>\n",
       "    <tr>\n",
       "      <th>2000-01-01 07:30:00</th>\n",
       "      <td>-0.24</td>\n",
       "      <td>0.00</td>\n",
       "      <td>0.066</td>\n",
       "    </tr>\n",
       "    <tr>\n",
       "      <th>2000-01-01 08:00:00</th>\n",
       "      <td>-0.23</td>\n",
       "      <td>0.00</td>\n",
       "      <td>0.044</td>\n",
       "    </tr>\n",
       "    <tr>\n",
       "      <th>2000-01-01 08:30:00</th>\n",
       "      <td>-0.22</td>\n",
       "      <td>0.00</td>\n",
       "      <td>0.026</td>\n",
       "    </tr>\n",
       "    <tr>\n",
       "      <th>2000-01-01 09:00:00</th>\n",
       "      <td>-0.19</td>\n",
       "      <td>0.45</td>\n",
       "      <td>0.016</td>\n",
       "    </tr>\n",
       "    <tr>\n",
       "      <th>2000-01-01 09:30:00</th>\n",
       "      <td>-0.14</td>\n",
       "      <td>3.70</td>\n",
       "      <td>0.010</td>\n",
       "    </tr>\n",
       "    <tr>\n",
       "      <th>2000-01-01 10:00:00</th>\n",
       "      <td>-0.03</td>\n",
       "      <td>7.26</td>\n",
       "      <td>0.006</td>\n",
       "    </tr>\n",
       "    <tr>\n",
       "      <th>2000-01-01 10:30:00</th>\n",
       "      <td>0.04</td>\n",
       "      <td>12.24</td>\n",
       "      <td>0.006</td>\n",
       "    </tr>\n",
       "  </tbody>\n",
       "</table>\n",
       "</div>"
      ],
      "text/plain": [
       "                     TA_lag_1  SW_IN_lag_1  VPD_lag_1\n",
       "time                                                 \n",
       "2000-01-01 06:00:00       NaN          NaN        NaN\n",
       "2000-01-01 06:30:00     -0.23         0.00      0.122\n",
       "2000-01-01 07:00:00     -0.22         0.00      0.098\n",
       "2000-01-01 07:30:00     -0.24         0.00      0.066\n",
       "2000-01-01 08:00:00     -0.23         0.00      0.044\n",
       "2000-01-01 08:30:00     -0.22         0.00      0.026\n",
       "2000-01-01 09:00:00     -0.19         0.45      0.016\n",
       "2000-01-01 09:30:00     -0.14         3.70      0.010\n",
       "2000-01-01 10:00:00     -0.03         7.26      0.006\n",
       "2000-01-01 10:30:00      0.04        12.24      0.006"
      ]
     },
     "execution_count": null,
     "metadata": {},
     "output_type": "execute_result"
    }
   ],
   "source": [
    "_lag_df(df, 1)"
   ]
  },
  {
   "cell_type": "code",
   "execution_count": null,
   "id": "df948694-5ac9-4614-9fd3-3b865f2c68a9",
   "metadata": {},
   "outputs": [],
   "source": [
    "#| export\n",
    "def _add_lags_df(df, lags):\n",
    "    df_lagged = df\n",
    "    for lag in listify(lags):\n",
    "        df_lagged = pd.merge(df_lagged, _lag_df(df, lag), left_index=True, right_index=True)\n",
    "    return df_lagged"
   ]
  },
  {
   "cell_type": "code",
   "execution_count": null,
   "id": "07b4261a-defb-4d91-a59a-a94633efd040",
   "metadata": {},
   "outputs": [
    {
     "data": {
      "text/html": [
       "<div>\n",
       "<style scoped>\n",
       "    .dataframe tbody tr th:only-of-type {\n",
       "        vertical-align: middle;\n",
       "    }\n",
       "\n",
       "    .dataframe tbody tr th {\n",
       "        vertical-align: top;\n",
       "    }\n",
       "\n",
       "    .dataframe thead th {\n",
       "        text-align: right;\n",
       "    }\n",
       "</style>\n",
       "<table border=\"1\" class=\"dataframe\">\n",
       "  <thead>\n",
       "    <tr style=\"text-align: right;\">\n",
       "      <th></th>\n",
       "      <th>TA</th>\n",
       "      <th>SW_IN</th>\n",
       "      <th>VPD</th>\n",
       "      <th>TA_lag_1</th>\n",
       "      <th>SW_IN_lag_1</th>\n",
       "      <th>VPD_lag_1</th>\n",
       "      <th>TA_lag_2</th>\n",
       "      <th>SW_IN_lag_2</th>\n",
       "      <th>VPD_lag_2</th>\n",
       "    </tr>\n",
       "    <tr>\n",
       "      <th>time</th>\n",
       "      <th></th>\n",
       "      <th></th>\n",
       "      <th></th>\n",
       "      <th></th>\n",
       "      <th></th>\n",
       "      <th></th>\n",
       "      <th></th>\n",
       "      <th></th>\n",
       "      <th></th>\n",
       "    </tr>\n",
       "  </thead>\n",
       "  <tbody>\n",
       "    <tr>\n",
       "      <th>2000-01-01 06:00:00</th>\n",
       "      <td>-0.23</td>\n",
       "      <td>0.00</td>\n",
       "      <td>0.122</td>\n",
       "      <td>NaN</td>\n",
       "      <td>NaN</td>\n",
       "      <td>NaN</td>\n",
       "      <td>NaN</td>\n",
       "      <td>NaN</td>\n",
       "      <td>NaN</td>\n",
       "    </tr>\n",
       "    <tr>\n",
       "      <th>2000-01-01 06:30:00</th>\n",
       "      <td>-0.22</td>\n",
       "      <td>0.00</td>\n",
       "      <td>0.098</td>\n",
       "      <td>-0.23</td>\n",
       "      <td>0.00</td>\n",
       "      <td>0.122</td>\n",
       "      <td>NaN</td>\n",
       "      <td>NaN</td>\n",
       "      <td>NaN</td>\n",
       "    </tr>\n",
       "    <tr>\n",
       "      <th>2000-01-01 07:00:00</th>\n",
       "      <td>-0.24</td>\n",
       "      <td>0.00</td>\n",
       "      <td>0.066</td>\n",
       "      <td>-0.22</td>\n",
       "      <td>0.00</td>\n",
       "      <td>0.098</td>\n",
       "      <td>-0.23</td>\n",
       "      <td>0.00</td>\n",
       "      <td>0.122</td>\n",
       "    </tr>\n",
       "    <tr>\n",
       "      <th>2000-01-01 07:30:00</th>\n",
       "      <td>-0.23</td>\n",
       "      <td>0.00</td>\n",
       "      <td>0.044</td>\n",
       "      <td>-0.24</td>\n",
       "      <td>0.00</td>\n",
       "      <td>0.066</td>\n",
       "      <td>-0.22</td>\n",
       "      <td>0.00</td>\n",
       "      <td>0.098</td>\n",
       "    </tr>\n",
       "    <tr>\n",
       "      <th>2000-01-01 08:00:00</th>\n",
       "      <td>-0.22</td>\n",
       "      <td>0.00</td>\n",
       "      <td>0.026</td>\n",
       "      <td>-0.23</td>\n",
       "      <td>0.00</td>\n",
       "      <td>0.044</td>\n",
       "      <td>-0.24</td>\n",
       "      <td>0.00</td>\n",
       "      <td>0.066</td>\n",
       "    </tr>\n",
       "    <tr>\n",
       "      <th>2000-01-01 08:30:00</th>\n",
       "      <td>-0.19</td>\n",
       "      <td>0.45</td>\n",
       "      <td>0.016</td>\n",
       "      <td>-0.22</td>\n",
       "      <td>0.00</td>\n",
       "      <td>0.026</td>\n",
       "      <td>-0.23</td>\n",
       "      <td>0.00</td>\n",
       "      <td>0.044</td>\n",
       "    </tr>\n",
       "    <tr>\n",
       "      <th>2000-01-01 09:00:00</th>\n",
       "      <td>-0.14</td>\n",
       "      <td>3.70</td>\n",
       "      <td>0.010</td>\n",
       "      <td>-0.19</td>\n",
       "      <td>0.45</td>\n",
       "      <td>0.016</td>\n",
       "      <td>-0.22</td>\n",
       "      <td>0.00</td>\n",
       "      <td>0.026</td>\n",
       "    </tr>\n",
       "    <tr>\n",
       "      <th>2000-01-01 09:30:00</th>\n",
       "      <td>-0.03</td>\n",
       "      <td>7.26</td>\n",
       "      <td>0.006</td>\n",
       "      <td>-0.14</td>\n",
       "      <td>3.70</td>\n",
       "      <td>0.010</td>\n",
       "      <td>-0.19</td>\n",
       "      <td>0.45</td>\n",
       "      <td>0.016</td>\n",
       "    </tr>\n",
       "    <tr>\n",
       "      <th>2000-01-01 10:00:00</th>\n",
       "      <td>0.04</td>\n",
       "      <td>12.24</td>\n",
       "      <td>0.006</td>\n",
       "      <td>-0.03</td>\n",
       "      <td>7.26</td>\n",
       "      <td>0.006</td>\n",
       "      <td>-0.14</td>\n",
       "      <td>3.70</td>\n",
       "      <td>0.010</td>\n",
       "    </tr>\n",
       "    <tr>\n",
       "      <th>2000-01-01 10:30:00</th>\n",
       "      <td>0.10</td>\n",
       "      <td>16.51</td>\n",
       "      <td>0.006</td>\n",
       "      <td>0.04</td>\n",
       "      <td>12.24</td>\n",
       "      <td>0.006</td>\n",
       "      <td>-0.03</td>\n",
       "      <td>7.26</td>\n",
       "      <td>0.006</td>\n",
       "    </tr>\n",
       "  </tbody>\n",
       "</table>\n",
       "</div>"
      ],
      "text/plain": [
       "                       TA  SW_IN    VPD  TA_lag_1  SW_IN_lag_1  VPD_lag_1  \\\n",
       "time                                                                        \n",
       "2000-01-01 06:00:00 -0.23   0.00  0.122       NaN          NaN        NaN   \n",
       "2000-01-01 06:30:00 -0.22   0.00  0.098     -0.23         0.00      0.122   \n",
       "2000-01-01 07:00:00 -0.24   0.00  0.066     -0.22         0.00      0.098   \n",
       "2000-01-01 07:30:00 -0.23   0.00  0.044     -0.24         0.00      0.066   \n",
       "2000-01-01 08:00:00 -0.22   0.00  0.026     -0.23         0.00      0.044   \n",
       "2000-01-01 08:30:00 -0.19   0.45  0.016     -0.22         0.00      0.026   \n",
       "2000-01-01 09:00:00 -0.14   3.70  0.010     -0.19         0.45      0.016   \n",
       "2000-01-01 09:30:00 -0.03   7.26  0.006     -0.14         3.70      0.010   \n",
       "2000-01-01 10:00:00  0.04  12.24  0.006     -0.03         7.26      0.006   \n",
       "2000-01-01 10:30:00  0.10  16.51  0.006      0.04        12.24      0.006   \n",
       "\n",
       "                     TA_lag_2  SW_IN_lag_2  VPD_lag_2  \n",
       "time                                                   \n",
       "2000-01-01 06:00:00       NaN          NaN        NaN  \n",
       "2000-01-01 06:30:00       NaN          NaN        NaN  \n",
       "2000-01-01 07:00:00     -0.23         0.00      0.122  \n",
       "2000-01-01 07:30:00     -0.22         0.00      0.098  \n",
       "2000-01-01 08:00:00     -0.24         0.00      0.066  \n",
       "2000-01-01 08:30:00     -0.23         0.00      0.044  \n",
       "2000-01-01 09:00:00     -0.22         0.00      0.026  \n",
       "2000-01-01 09:30:00     -0.19         0.45      0.016  \n",
       "2000-01-01 10:00:00     -0.14         3.70      0.010  \n",
       "2000-01-01 10:30:00     -0.03         7.26      0.006  "
      ]
     },
     "execution_count": null,
     "metadata": {},
     "output_type": "execute_result"
    }
   ],
   "source": [
    "_add_lags_df(df, [1,2])"
   ]
  },
  {
   "cell_type": "code",
   "execution_count": null,
   "id": "6f4ad592-bf8d-4bb0-9dbe-e960124c6e18",
   "metadata": {},
   "outputs": [],
   "source": [
    "#| export\n",
    "class BlockDfTransform(Transform):\n",
    "    \"\"\"divide timeseries DataFrame index into blocks\"\"\"\n",
    "    def __init__(self, data: pd.DataFrame, control: pd.DataFrame, control_lags: int|Iterable[int]):\n",
    "        store_attr()\n",
    "        self.control = _add_lags_df(control, control_lags)\n",
    "    def encodes(self, idx: pd.DatetimeIndex) -> DataControl:\n",
    "        return DataControl(self.data.loc[idx], self.control.loc[idx])"
   ]
  },
  {
   "cell_type": "code",
   "execution_count": null,
   "id": "87df7d02-07ed-4e4a-8d41-c4346d00934e",
   "metadata": {},
   "outputs": [],
   "source": [
    "blkdf = BlockDfTransform(hai, hai_era, 1)"
   ]
  },
  {
   "cell_type": "code",
   "execution_count": null,
   "id": "d509607c-4d3c-470f-b235-80286dbabf19",
   "metadata": {},
   "outputs": [
    {
     "data": {
      "text/html": [
       "<p style='font-size: 1.5rem; font-decoration: bold'>Data Control<p><div style=\"display: flex; column-gap: 20px; flex-wrap: wrap;\" class='table table-striped table-sm'> <div> <p style='font-size: 1.3rem;'>data</p> <style type=\"text/css\">\n",
       "</style>\n",
       "<table id=\"T_acbc2\">\n",
       "  <thead>\n",
       "    <tr>\n",
       "      <th class=\"blank level0\" >&nbsp;</th>\n",
       "      <th id=\"T_acbc2_level0_col0\" class=\"col_heading level0 col0\" >TA</th>\n",
       "      <th id=\"T_acbc2_level0_col1\" class=\"col_heading level0 col1\" >SW_IN</th>\n",
       "      <th id=\"T_acbc2_level0_col2\" class=\"col_heading level0 col2\" >VPD</th>\n",
       "    </tr>\n",
       "    <tr>\n",
       "      <th class=\"index_name level0\" >time</th>\n",
       "      <th class=\"blank col0\" >&nbsp;</th>\n",
       "      <th class=\"blank col1\" >&nbsp;</th>\n",
       "      <th class=\"blank col2\" >&nbsp;</th>\n",
       "    </tr>\n",
       "  </thead>\n",
       "  <tbody>\n",
       "    <tr>\n",
       "      <th id=\"T_acbc2_level0_row0\" class=\"row_heading level0 row0\" >2000-01-01 06:00:00</th>\n",
       "      <td id=\"T_acbc2_row0_col0\" class=\"data row0 col0\" >-0.2300</td>\n",
       "      <td id=\"T_acbc2_row0_col1\" class=\"data row0 col1\" >0.0000</td>\n",
       "      <td id=\"T_acbc2_row0_col2\" class=\"data row0 col2\" >0.1220</td>\n",
       "    </tr>\n",
       "    <tr>\n",
       "      <th id=\"T_acbc2_level0_row1\" class=\"row_heading level0 row1\" >2000-01-01 06:30:00</th>\n",
       "      <td id=\"T_acbc2_row1_col0\" class=\"data row1 col0\" >-0.2200</td>\n",
       "      <td id=\"T_acbc2_row1_col1\" class=\"data row1 col1\" >0.0000</td>\n",
       "      <td id=\"T_acbc2_row1_col2\" class=\"data row1 col2\" >0.0980</td>\n",
       "    </tr>\n",
       "    <tr>\n",
       "      <th id=\"T_acbc2_level0_row2\" class=\"row_heading level0 row2\" >2000-01-01 07:00:00</th>\n",
       "      <td id=\"T_acbc2_row2_col0\" class=\"data row2 col0\" >-0.2400</td>\n",
       "      <td id=\"T_acbc2_row2_col1\" class=\"data row2 col1\" >0.0000</td>\n",
       "      <td id=\"T_acbc2_row2_col2\" class=\"data row2 col2\" >0.0660</td>\n",
       "    </tr>\n",
       "    <tr>\n",
       "      <th id=\"T_acbc2_level0_row3\" class=\"row_heading level0 row3\" >2000-01-01 07:30:00</th>\n",
       "      <td id=\"T_acbc2_row3_col0\" class=\"data row3 col0\" >-0.2300</td>\n",
       "      <td id=\"T_acbc2_row3_col1\" class=\"data row3 col1\" >0.0000</td>\n",
       "      <td id=\"T_acbc2_row3_col2\" class=\"data row3 col2\" >0.0440</td>\n",
       "    </tr>\n",
       "    <tr>\n",
       "      <th id=\"T_acbc2_level0_row4\" class=\"row_heading level0 row4\" >2000-01-01 08:00:00</th>\n",
       "      <td id=\"T_acbc2_row4_col0\" class=\"data row4 col0\" >-0.2200</td>\n",
       "      <td id=\"T_acbc2_row4_col1\" class=\"data row4 col1\" >0.0000</td>\n",
       "      <td id=\"T_acbc2_row4_col2\" class=\"data row4 col2\" >0.0260</td>\n",
       "    </tr>\n",
       "    <tr>\n",
       "      <th id=\"T_acbc2_level0_row5\" class=\"row_heading level0 row5\" >2000-01-01 08:30:00</th>\n",
       "      <td id=\"T_acbc2_row5_col0\" class=\"data row5 col0\" >-0.1900</td>\n",
       "      <td id=\"T_acbc2_row5_col1\" class=\"data row5 col1\" >0.4500</td>\n",
       "      <td id=\"T_acbc2_row5_col2\" class=\"data row5 col2\" >0.0160</td>\n",
       "    </tr>\n",
       "    <tr>\n",
       "      <th id=\"T_acbc2_level0_row6\" class=\"row_heading level0 row6\" >2000-01-01 09:00:00</th>\n",
       "      <td id=\"T_acbc2_row6_col0\" class=\"data row6 col0\" >-0.1400</td>\n",
       "      <td id=\"T_acbc2_row6_col1\" class=\"data row6 col1\" >3.7000</td>\n",
       "      <td id=\"T_acbc2_row6_col2\" class=\"data row6 col2\" >0.0100</td>\n",
       "    </tr>\n",
       "    <tr>\n",
       "      <th id=\"T_acbc2_level0_row7\" class=\"row_heading level0 row7\" >2000-01-01 09:30:00</th>\n",
       "      <td id=\"T_acbc2_row7_col0\" class=\"data row7 col0\" >-0.0300</td>\n",
       "      <td id=\"T_acbc2_row7_col1\" class=\"data row7 col1\" >7.2600</td>\n",
       "      <td id=\"T_acbc2_row7_col2\" class=\"data row7 col2\" >0.0060</td>\n",
       "    </tr>\n",
       "    <tr>\n",
       "      <th id=\"T_acbc2_level0_row8\" class=\"row_heading level0 row8\" >2000-01-01 10:00:00</th>\n",
       "      <td id=\"T_acbc2_row8_col0\" class=\"data row8 col0\" >0.0400</td>\n",
       "      <td id=\"T_acbc2_row8_col1\" class=\"data row8 col1\" >12.2400</td>\n",
       "      <td id=\"T_acbc2_row8_col2\" class=\"data row8 col2\" >0.0060</td>\n",
       "    </tr>\n",
       "    <tr>\n",
       "      <th id=\"T_acbc2_level0_row9\" class=\"row_heading level0 row9\" >2000-01-01 10:30:00</th>\n",
       "      <td id=\"T_acbc2_row9_col0\" class=\"data row9 col0\" >0.1000</td>\n",
       "      <td id=\"T_acbc2_row9_col1\" class=\"data row9 col1\" >16.5100</td>\n",
       "      <td id=\"T_acbc2_row9_col2\" class=\"data row9 col2\" >0.0060</td>\n",
       "    </tr>\n",
       "  </tbody>\n",
       "</table>\n",
       " </div><div> <p style='font-size: 1.3rem;'>control</p> <style type=\"text/css\">\n",
       "</style>\n",
       "<table id=\"T_f7e9c\">\n",
       "  <thead>\n",
       "    <tr>\n",
       "      <th class=\"blank level0\" >&nbsp;</th>\n",
       "      <th id=\"T_f7e9c_level0_col0\" class=\"col_heading level0 col0\" >TA_ERA</th>\n",
       "      <th id=\"T_f7e9c_level0_col1\" class=\"col_heading level0 col1\" >SW_IN_ERA</th>\n",
       "      <th id=\"T_f7e9c_level0_col2\" class=\"col_heading level0 col2\" >VPD_ERA</th>\n",
       "      <th id=\"T_f7e9c_level0_col3\" class=\"col_heading level0 col3\" >TA_ERA_lag_1</th>\n",
       "      <th id=\"T_f7e9c_level0_col4\" class=\"col_heading level0 col4\" >SW_IN_ERA_lag_1</th>\n",
       "      <th id=\"T_f7e9c_level0_col5\" class=\"col_heading level0 col5\" >VPD_ERA_lag_1</th>\n",
       "    </tr>\n",
       "    <tr>\n",
       "      <th class=\"index_name level0\" >time</th>\n",
       "      <th class=\"blank col0\" >&nbsp;</th>\n",
       "      <th class=\"blank col1\" >&nbsp;</th>\n",
       "      <th class=\"blank col2\" >&nbsp;</th>\n",
       "      <th class=\"blank col3\" >&nbsp;</th>\n",
       "      <th class=\"blank col4\" >&nbsp;</th>\n",
       "      <th class=\"blank col5\" >&nbsp;</th>\n",
       "    </tr>\n",
       "  </thead>\n",
       "  <tbody>\n",
       "    <tr>\n",
       "      <th id=\"T_f7e9c_level0_row0\" class=\"row_heading level0 row0\" >2000-01-01 06:00:00</th>\n",
       "      <td id=\"T_f7e9c_row0_col0\" class=\"data row0 col0\" >-0.2800</td>\n",
       "      <td id=\"T_f7e9c_row0_col1\" class=\"data row0 col1\" >0.0000</td>\n",
       "      <td id=\"T_f7e9c_row0_col2\" class=\"data row0 col2\" >0.5010</td>\n",
       "      <td id=\"T_f7e9c_row0_col3\" class=\"data row0 col3\" >-0.3490</td>\n",
       "      <td id=\"T_f7e9c_row0_col4\" class=\"data row0 col4\" >0.0000</td>\n",
       "      <td id=\"T_f7e9c_row0_col5\" class=\"data row0 col5\" >0.4970</td>\n",
       "    </tr>\n",
       "    <tr>\n",
       "      <th id=\"T_f7e9c_level0_row1\" class=\"row_heading level0 row1\" >2000-01-01 06:30:00</th>\n",
       "      <td id=\"T_f7e9c_row1_col0\" class=\"data row1 col0\" >-0.2110</td>\n",
       "      <td id=\"T_f7e9c_row1_col1\" class=\"data row1 col1\" >0.0000</td>\n",
       "      <td id=\"T_f7e9c_row1_col2\" class=\"data row1 col2\" >0.5060</td>\n",
       "      <td id=\"T_f7e9c_row1_col3\" class=\"data row1 col3\" >-0.2800</td>\n",
       "      <td id=\"T_f7e9c_row1_col4\" class=\"data row1 col4\" >0.0000</td>\n",
       "      <td id=\"T_f7e9c_row1_col5\" class=\"data row1 col5\" >0.5010</td>\n",
       "    </tr>\n",
       "    <tr>\n",
       "      <th id=\"T_f7e9c_level0_row2\" class=\"row_heading level0 row2\" >2000-01-01 07:00:00</th>\n",
       "      <td id=\"T_f7e9c_row2_col0\" class=\"data row2 col0\" >-0.1420</td>\n",
       "      <td id=\"T_f7e9c_row2_col1\" class=\"data row2 col1\" >0.0000</td>\n",
       "      <td id=\"T_f7e9c_row2_col2\" class=\"data row2 col2\" >0.5100</td>\n",
       "      <td id=\"T_f7e9c_row2_col3\" class=\"data row2 col3\" >-0.2110</td>\n",
       "      <td id=\"T_f7e9c_row2_col4\" class=\"data row2 col4\" >0.0000</td>\n",
       "      <td id=\"T_f7e9c_row2_col5\" class=\"data row2 col5\" >0.5060</td>\n",
       "    </tr>\n",
       "    <tr>\n",
       "      <th id=\"T_f7e9c_level0_row3\" class=\"row_heading level0 row3\" >2000-01-01 07:30:00</th>\n",
       "      <td id=\"T_f7e9c_row3_col0\" class=\"data row3 col0\" >-0.0740</td>\n",
       "      <td id=\"T_f7e9c_row3_col1\" class=\"data row3 col1\" >0.0000</td>\n",
       "      <td id=\"T_f7e9c_row3_col2\" class=\"data row3 col2\" >0.5150</td>\n",
       "      <td id=\"T_f7e9c_row3_col3\" class=\"data row3 col3\" >-0.1420</td>\n",
       "      <td id=\"T_f7e9c_row3_col4\" class=\"data row3 col4\" >0.0000</td>\n",
       "      <td id=\"T_f7e9c_row3_col5\" class=\"data row3 col5\" >0.5100</td>\n",
       "    </tr>\n",
       "    <tr>\n",
       "      <th id=\"T_f7e9c_level0_row4\" class=\"row_heading level0 row4\" >2000-01-01 08:00:00</th>\n",
       "      <td id=\"T_f7e9c_row4_col0\" class=\"data row4 col0\" >0.0440</td>\n",
       "      <td id=\"T_f7e9c_row4_col1\" class=\"data row4 col1\" >0.0000</td>\n",
       "      <td id=\"T_f7e9c_row4_col2\" class=\"data row4 col2\" >0.5270</td>\n",
       "      <td id=\"T_f7e9c_row4_col3\" class=\"data row4 col3\" >-0.0740</td>\n",
       "      <td id=\"T_f7e9c_row4_col4\" class=\"data row4 col4\" >0.0000</td>\n",
       "      <td id=\"T_f7e9c_row4_col5\" class=\"data row4 col5\" >0.5150</td>\n",
       "    </tr>\n",
       "    <tr>\n",
       "      <th id=\"T_f7e9c_level0_row5\" class=\"row_heading level0 row5\" >2000-01-01 08:30:00</th>\n",
       "      <td id=\"T_f7e9c_row5_col0\" class=\"data row5 col0\" >0.1610</td>\n",
       "      <td id=\"T_f7e9c_row5_col1\" class=\"data row5 col1\" >0.0000</td>\n",
       "      <td id=\"T_f7e9c_row5_col2\" class=\"data row5 col2\" >0.5390</td>\n",
       "      <td id=\"T_f7e9c_row5_col3\" class=\"data row5 col3\" >0.0440</td>\n",
       "      <td id=\"T_f7e9c_row5_col4\" class=\"data row5 col4\" >0.0000</td>\n",
       "      <td id=\"T_f7e9c_row5_col5\" class=\"data row5 col5\" >0.5270</td>\n",
       "    </tr>\n",
       "    <tr>\n",
       "      <th id=\"T_f7e9c_level0_row6\" class=\"row_heading level0 row6\" >2000-01-01 09:00:00</th>\n",
       "      <td id=\"T_f7e9c_row6_col0\" class=\"data row6 col0\" >0.2790</td>\n",
       "      <td id=\"T_f7e9c_row6_col1\" class=\"data row6 col1\" >2.6550</td>\n",
       "      <td id=\"T_f7e9c_row6_col2\" class=\"data row6 col2\" >0.5510</td>\n",
       "      <td id=\"T_f7e9c_row6_col3\" class=\"data row6 col3\" >0.1610</td>\n",
       "      <td id=\"T_f7e9c_row6_col4\" class=\"data row6 col4\" >0.0000</td>\n",
       "      <td id=\"T_f7e9c_row6_col5\" class=\"data row6 col5\" >0.5390</td>\n",
       "    </tr>\n",
       "    <tr>\n",
       "      <th id=\"T_f7e9c_level0_row7\" class=\"row_heading level0 row7\" >2000-01-01 09:30:00</th>\n",
       "      <td id=\"T_f7e9c_row7_col0\" class=\"data row7 col0\" >0.3960</td>\n",
       "      <td id=\"T_f7e9c_row7_col1\" class=\"data row7 col1\" >7.0800</td>\n",
       "      <td id=\"T_f7e9c_row7_col2\" class=\"data row7 col2\" >0.5630</td>\n",
       "      <td id=\"T_f7e9c_row7_col3\" class=\"data row7 col3\" >0.2790</td>\n",
       "      <td id=\"T_f7e9c_row7_col4\" class=\"data row7 col4\" >2.6550</td>\n",
       "      <td id=\"T_f7e9c_row7_col5\" class=\"data row7 col5\" >0.5510</td>\n",
       "    </tr>\n",
       "    <tr>\n",
       "      <th id=\"T_f7e9c_level0_row8\" class=\"row_heading level0 row8\" >2000-01-01 10:00:00</th>\n",
       "      <td id=\"T_f7e9c_row8_col0\" class=\"data row8 col0\" >0.5140</td>\n",
       "      <td id=\"T_f7e9c_row8_col1\" class=\"data row8 col1\" >10.9880</td>\n",
       "      <td id=\"T_f7e9c_row8_col2\" class=\"data row8 col2\" >0.5750</td>\n",
       "      <td id=\"T_f7e9c_row8_col3\" class=\"data row8 col3\" >0.3960</td>\n",
       "      <td id=\"T_f7e9c_row8_col4\" class=\"data row8 col4\" >7.0800</td>\n",
       "      <td id=\"T_f7e9c_row8_col5\" class=\"data row8 col5\" >0.5630</td>\n",
       "    </tr>\n",
       "    <tr>\n",
       "      <th id=\"T_f7e9c_level0_row9\" class=\"row_heading level0 row9\" >2000-01-01 10:30:00</th>\n",
       "      <td id=\"T_f7e9c_row9_col0\" class=\"data row9 col0\" >0.6310</td>\n",
       "      <td id=\"T_f7e9c_row9_col1\" class=\"data row9 col1\" >18.0120</td>\n",
       "      <td id=\"T_f7e9c_row9_col2\" class=\"data row9 col2\" >0.5860</td>\n",
       "      <td id=\"T_f7e9c_row9_col3\" class=\"data row9 col3\" >0.5140</td>\n",
       "      <td id=\"T_f7e9c_row9_col4\" class=\"data row9 col4\" >10.9880</td>\n",
       "      <td id=\"T_f7e9c_row9_col5\" class=\"data row9 col5\" >0.5750</td>\n",
       "    </tr>\n",
       "  </tbody>\n",
       "</table>\n",
       " </div></div>"
      ],
      "text/plain": [
       "DataControl(data=                       TA  SW_IN    VPD\n",
       "time                                   \n",
       "2000-01-01 06:00:00 -0.23   0.00  0.122\n",
       "2000-01-01 06:30:00 -0.22   0.00  0.098\n",
       "2000-01-01 07:00:00 -0.24   0.00  0.066\n",
       "2000-01-01 07:30:00 -0.23   0.00  0.044\n",
       "2000-01-01 08:00:00 -0.22   0.00  0.026\n",
       "2000-01-01 08:30:00 -0.19   0.45  0.016\n",
       "2000-01-01 09:00:00 -0.14   3.70  0.010\n",
       "2000-01-01 09:30:00 -0.03   7.26  0.006\n",
       "2000-01-01 10:00:00  0.04  12.24  0.006\n",
       "2000-01-01 10:30:00  0.10  16.51  0.006, control=                     TA_ERA  SW_IN_ERA  VPD_ERA  TA_ERA_lag_1  \\\n",
       "time                                                            \n",
       "2000-01-01 06:00:00  -0.280   0.000000    0.501        -0.349   \n",
       "2000-01-01 06:30:00  -0.211   0.000000    0.506        -0.280   \n",
       "2000-01-01 07:00:00  -0.142   0.000000    0.510        -0.211   \n",
       "2000-01-01 07:30:00  -0.074   0.000000    0.515        -0.142   \n",
       "2000-01-01 08:00:00   0.044   0.000000    0.527        -0.074   \n",
       "2000-01-01 08:30:00   0.161   0.000000    0.539         0.044   \n",
       "2000-01-01 09:00:00   0.279   2.655000    0.551         0.161   \n",
       "2000-01-01 09:30:00   0.396   7.080000    0.563         0.279   \n",
       "2000-01-01 10:00:00   0.514  10.988000    0.575         0.396   \n",
       "2000-01-01 10:30:00   0.631  18.011999    0.586         0.514   \n",
       "\n",
       "                     SW_IN_ERA_lag_1  VPD_ERA_lag_1  \n",
       "time                                                 \n",
       "2000-01-01 06:00:00            0.000          0.497  \n",
       "2000-01-01 06:30:00            0.000          0.501  \n",
       "2000-01-01 07:00:00            0.000          0.506  \n",
       "2000-01-01 07:30:00            0.000          0.510  \n",
       "2000-01-01 08:00:00            0.000          0.515  \n",
       "2000-01-01 08:30:00            0.000          0.527  \n",
       "2000-01-01 09:00:00            0.000          0.539  \n",
       "2000-01-01 09:30:00            2.655          0.551  \n",
       "2000-01-01 10:00:00            7.080          0.563  \n",
       "2000-01-01 10:30:00           10.988          0.575  )"
      ]
     },
     "execution_count": null,
     "metadata": {},
     "output_type": "execute_result"
    }
   ],
   "source": [
    "blkdf(blk(1))"
   ]
  },
  {
   "cell_type": "markdown",
   "id": "7b7c57e7-4ebb-46b9-a89d-ec980277ae67",
   "metadata": {},
   "source": [
    "taking a day in the summer so there is an higher values for the variables"
   ]
  },
  {
   "cell_type": "code",
   "execution_count": null,
   "id": "57479bbb-1a76-44d1-af82-0d3666d2ae7d",
   "metadata": {},
   "outputs": [
    {
     "data": {
      "text/html": [
       "<div>\n",
       "<style scoped>\n",
       "    .dataframe tbody tr th:only-of-type {\n",
       "        vertical-align: middle;\n",
       "    }\n",
       "\n",
       "    .dataframe tbody tr th {\n",
       "        vertical-align: top;\n",
       "    }\n",
       "\n",
       "    .dataframe thead th {\n",
       "        text-align: right;\n",
       "    }\n",
       "</style>\n",
       "<table border=\"1\" class=\"dataframe\">\n",
       "  <thead>\n",
       "    <tr style=\"text-align: right;\">\n",
       "      <th></th>\n",
       "      <th>TA</th>\n",
       "      <th>SW_IN</th>\n",
       "      <th>VPD</th>\n",
       "    </tr>\n",
       "    <tr>\n",
       "      <th>time</th>\n",
       "      <th></th>\n",
       "      <th></th>\n",
       "      <th></th>\n",
       "    </tr>\n",
       "  </thead>\n",
       "  <tbody>\n",
       "    <tr>\n",
       "      <th>2000-06-15 17:00:00</th>\n",
       "      <td>14.22</td>\n",
       "      <td>224.800003</td>\n",
       "      <td>5.799</td>\n",
       "    </tr>\n",
       "    <tr>\n",
       "      <th>2000-06-15 17:30:00</th>\n",
       "      <td>14.11</td>\n",
       "      <td>195.279999</td>\n",
       "      <td>6.577</td>\n",
       "    </tr>\n",
       "    <tr>\n",
       "      <th>2000-06-15 18:00:00</th>\n",
       "      <td>14.23</td>\n",
       "      <td>244.169998</td>\n",
       "      <td>6.931</td>\n",
       "    </tr>\n",
       "    <tr>\n",
       "      <th>2000-06-15 18:30:00</th>\n",
       "      <td>14.40</td>\n",
       "      <td>253.919998</td>\n",
       "      <td>7.286</td>\n",
       "    </tr>\n",
       "    <tr>\n",
       "      <th>2000-06-15 19:00:00</th>\n",
       "      <td>14.09</td>\n",
       "      <td>177.309998</td>\n",
       "      <td>7.251</td>\n",
       "    </tr>\n",
       "    <tr>\n",
       "      <th>2000-06-15 19:30:00</th>\n",
       "      <td>13.71</td>\n",
       "      <td>97.070000</td>\n",
       "      <td>6.683</td>\n",
       "    </tr>\n",
       "    <tr>\n",
       "      <th>2000-06-15 20:00:00</th>\n",
       "      <td>13.08</td>\n",
       "      <td>39.709999</td>\n",
       "      <td>5.851</td>\n",
       "    </tr>\n",
       "    <tr>\n",
       "      <th>2000-06-15 20:30:00</th>\n",
       "      <td>12.41</td>\n",
       "      <td>10.650000</td>\n",
       "      <td>5.254</td>\n",
       "    </tr>\n",
       "    <tr>\n",
       "      <th>2000-06-15 21:00:00</th>\n",
       "      <td>12.27</td>\n",
       "      <td>0.320000</td>\n",
       "      <td>5.164</td>\n",
       "    </tr>\n",
       "    <tr>\n",
       "      <th>2000-06-15 21:30:00</th>\n",
       "      <td>12.20</td>\n",
       "      <td>0.000000</td>\n",
       "      <td>5.037</td>\n",
       "    </tr>\n",
       "  </tbody>\n",
       "</table>\n",
       "</div>"
      ],
      "text/plain": [
       "                        TA       SW_IN    VPD\n",
       "time                                         \n",
       "2000-06-15 17:00:00  14.22  224.800003  5.799\n",
       "2000-06-15 17:30:00  14.11  195.279999  6.577\n",
       "2000-06-15 18:00:00  14.23  244.169998  6.931\n",
       "2000-06-15 18:30:00  14.40  253.919998  7.286\n",
       "2000-06-15 19:00:00  14.09  177.309998  7.251\n",
       "2000-06-15 19:30:00  13.71   97.070000  6.683\n",
       "2000-06-15 20:00:00  13.08   39.709999  5.851\n",
       "2000-06-15 20:30:00  12.41   10.650000  5.254\n",
       "2000-06-15 21:00:00  12.27    0.320000  5.164\n",
       "2000-06-15 21:30:00  12.20    0.000000  5.037"
      ]
     },
     "execution_count": null,
     "metadata": {},
     "output_type": "execute_result"
    }
   ],
   "source": [
    "blkdf(blk(800)).data"
   ]
  },
  {
   "cell_type": "code",
   "execution_count": null,
   "id": "0cf65769-4e52-4e14-be29-624cf4d82167",
   "metadata": {},
   "outputs": [],
   "source": [
    "tfms1 = TfmdLists([800,801,802,803], [BlockIndexTransform(hai.index, 10), BlockDfTransform(hai, hai_era, control_lags=1)])"
   ]
  },
  {
   "cell_type": "code",
   "execution_count": null,
   "id": "c8c1ec1e-810f-477f-8bb9-4eaebc2102e3",
   "metadata": {},
   "outputs": [
    {
     "data": {
      "text/html": [
       "<p style='font-size: 1.5rem; font-decoration: bold'>Data Control<p><div style=\"display: flex; column-gap: 20px; flex-wrap: wrap;\" class='table table-striped table-sm'> <div> <p style='font-size: 1.3rem;'>data</p> <style type=\"text/css\">\n",
       "</style>\n",
       "<table id=\"T_c5157\">\n",
       "  <thead>\n",
       "    <tr>\n",
       "      <th class=\"blank level0\" >&nbsp;</th>\n",
       "      <th id=\"T_c5157_level0_col0\" class=\"col_heading level0 col0\" >TA</th>\n",
       "      <th id=\"T_c5157_level0_col1\" class=\"col_heading level0 col1\" >SW_IN</th>\n",
       "      <th id=\"T_c5157_level0_col2\" class=\"col_heading level0 col2\" >VPD</th>\n",
       "    </tr>\n",
       "    <tr>\n",
       "      <th class=\"index_name level0\" >time</th>\n",
       "      <th class=\"blank col0\" >&nbsp;</th>\n",
       "      <th class=\"blank col1\" >&nbsp;</th>\n",
       "      <th class=\"blank col2\" >&nbsp;</th>\n",
       "    </tr>\n",
       "  </thead>\n",
       "  <tbody>\n",
       "    <tr>\n",
       "      <th id=\"T_c5157_level0_row0\" class=\"row_heading level0 row0\" >2000-06-15 17:00:00</th>\n",
       "      <td id=\"T_c5157_row0_col0\" class=\"data row0 col0\" >14.2200</td>\n",
       "      <td id=\"T_c5157_row0_col1\" class=\"data row0 col1\" >224.8000</td>\n",
       "      <td id=\"T_c5157_row0_col2\" class=\"data row0 col2\" >5.7990</td>\n",
       "    </tr>\n",
       "    <tr>\n",
       "      <th id=\"T_c5157_level0_row1\" class=\"row_heading level0 row1\" >2000-06-15 17:30:00</th>\n",
       "      <td id=\"T_c5157_row1_col0\" class=\"data row1 col0\" >14.1100</td>\n",
       "      <td id=\"T_c5157_row1_col1\" class=\"data row1 col1\" >195.2800</td>\n",
       "      <td id=\"T_c5157_row1_col2\" class=\"data row1 col2\" >6.5770</td>\n",
       "    </tr>\n",
       "    <tr>\n",
       "      <th id=\"T_c5157_level0_row2\" class=\"row_heading level0 row2\" >2000-06-15 18:00:00</th>\n",
       "      <td id=\"T_c5157_row2_col0\" class=\"data row2 col0\" >14.2300</td>\n",
       "      <td id=\"T_c5157_row2_col1\" class=\"data row2 col1\" >244.1700</td>\n",
       "      <td id=\"T_c5157_row2_col2\" class=\"data row2 col2\" >6.9310</td>\n",
       "    </tr>\n",
       "    <tr>\n",
       "      <th id=\"T_c5157_level0_row3\" class=\"row_heading level0 row3\" >2000-06-15 18:30:00</th>\n",
       "      <td id=\"T_c5157_row3_col0\" class=\"data row3 col0\" >14.4000</td>\n",
       "      <td id=\"T_c5157_row3_col1\" class=\"data row3 col1\" >253.9200</td>\n",
       "      <td id=\"T_c5157_row3_col2\" class=\"data row3 col2\" >7.2860</td>\n",
       "    </tr>\n",
       "    <tr>\n",
       "      <th id=\"T_c5157_level0_row4\" class=\"row_heading level0 row4\" >2000-06-15 19:00:00</th>\n",
       "      <td id=\"T_c5157_row4_col0\" class=\"data row4 col0\" >14.0900</td>\n",
       "      <td id=\"T_c5157_row4_col1\" class=\"data row4 col1\" >177.3100</td>\n",
       "      <td id=\"T_c5157_row4_col2\" class=\"data row4 col2\" >7.2510</td>\n",
       "    </tr>\n",
       "    <tr>\n",
       "      <th id=\"T_c5157_level0_row5\" class=\"row_heading level0 row5\" >2000-06-15 19:30:00</th>\n",
       "      <td id=\"T_c5157_row5_col0\" class=\"data row5 col0\" >13.7100</td>\n",
       "      <td id=\"T_c5157_row5_col1\" class=\"data row5 col1\" >97.0700</td>\n",
       "      <td id=\"T_c5157_row5_col2\" class=\"data row5 col2\" >6.6830</td>\n",
       "    </tr>\n",
       "    <tr>\n",
       "      <th id=\"T_c5157_level0_row6\" class=\"row_heading level0 row6\" >2000-06-15 20:00:00</th>\n",
       "      <td id=\"T_c5157_row6_col0\" class=\"data row6 col0\" >13.0800</td>\n",
       "      <td id=\"T_c5157_row6_col1\" class=\"data row6 col1\" >39.7100</td>\n",
       "      <td id=\"T_c5157_row6_col2\" class=\"data row6 col2\" >5.8510</td>\n",
       "    </tr>\n",
       "    <tr>\n",
       "      <th id=\"T_c5157_level0_row7\" class=\"row_heading level0 row7\" >2000-06-15 20:30:00</th>\n",
       "      <td id=\"T_c5157_row7_col0\" class=\"data row7 col0\" >12.4100</td>\n",
       "      <td id=\"T_c5157_row7_col1\" class=\"data row7 col1\" >10.6500</td>\n",
       "      <td id=\"T_c5157_row7_col2\" class=\"data row7 col2\" >5.2540</td>\n",
       "    </tr>\n",
       "    <tr>\n",
       "      <th id=\"T_c5157_level0_row8\" class=\"row_heading level0 row8\" >2000-06-15 21:00:00</th>\n",
       "      <td id=\"T_c5157_row8_col0\" class=\"data row8 col0\" >12.2700</td>\n",
       "      <td id=\"T_c5157_row8_col1\" class=\"data row8 col1\" >0.3200</td>\n",
       "      <td id=\"T_c5157_row8_col2\" class=\"data row8 col2\" >5.1640</td>\n",
       "    </tr>\n",
       "    <tr>\n",
       "      <th id=\"T_c5157_level0_row9\" class=\"row_heading level0 row9\" >2000-06-15 21:30:00</th>\n",
       "      <td id=\"T_c5157_row9_col0\" class=\"data row9 col0\" >12.2000</td>\n",
       "      <td id=\"T_c5157_row9_col1\" class=\"data row9 col1\" >0.0000</td>\n",
       "      <td id=\"T_c5157_row9_col2\" class=\"data row9 col2\" >5.0370</td>\n",
       "    </tr>\n",
       "  </tbody>\n",
       "</table>\n",
       " </div><div> <p style='font-size: 1.3rem;'>control</p> <style type=\"text/css\">\n",
       "</style>\n",
       "<table id=\"T_73945\">\n",
       "  <thead>\n",
       "    <tr>\n",
       "      <th class=\"blank level0\" >&nbsp;</th>\n",
       "      <th id=\"T_73945_level0_col0\" class=\"col_heading level0 col0\" >TA_ERA</th>\n",
       "      <th id=\"T_73945_level0_col1\" class=\"col_heading level0 col1\" >SW_IN_ERA</th>\n",
       "      <th id=\"T_73945_level0_col2\" class=\"col_heading level0 col2\" >VPD_ERA</th>\n",
       "      <th id=\"T_73945_level0_col3\" class=\"col_heading level0 col3\" >TA_ERA_lag_1</th>\n",
       "      <th id=\"T_73945_level0_col4\" class=\"col_heading level0 col4\" >SW_IN_ERA_lag_1</th>\n",
       "      <th id=\"T_73945_level0_col5\" class=\"col_heading level0 col5\" >VPD_ERA_lag_1</th>\n",
       "    </tr>\n",
       "    <tr>\n",
       "      <th class=\"index_name level0\" >time</th>\n",
       "      <th class=\"blank col0\" >&nbsp;</th>\n",
       "      <th class=\"blank col1\" >&nbsp;</th>\n",
       "      <th class=\"blank col2\" >&nbsp;</th>\n",
       "      <th class=\"blank col3\" >&nbsp;</th>\n",
       "      <th class=\"blank col4\" >&nbsp;</th>\n",
       "      <th class=\"blank col5\" >&nbsp;</th>\n",
       "    </tr>\n",
       "  </thead>\n",
       "  <tbody>\n",
       "    <tr>\n",
       "      <th id=\"T_73945_level0_row0\" class=\"row_heading level0 row0\" >2000-06-15 17:00:00</th>\n",
       "      <td id=\"T_73945_row0_col0\" class=\"data row0 col0\" >15.0500</td>\n",
       "      <td id=\"T_73945_row0_col1\" class=\"data row0 col1\" >255.1930</td>\n",
       "      <td id=\"T_73945_row0_col2\" class=\"data row0 col2\" >5.1020</td>\n",
       "      <td id=\"T_73945_row0_col3\" class=\"data row0 col3\" >15.1390</td>\n",
       "      <td id=\"T_73945_row0_col4\" class=\"data row0 col4\" >287.1000</td>\n",
       "      <td id=\"T_73945_row0_col5\" class=\"data row0 col5\" >4.9000</td>\n",
       "    </tr>\n",
       "    <tr>\n",
       "      <th id=\"T_73945_level0_row1\" class=\"row_heading level0 row1\" >2000-06-15 17:30:00</th>\n",
       "      <td id=\"T_73945_row1_col0\" class=\"data row1 col0\" >14.9610</td>\n",
       "      <td id=\"T_73945_row1_col1\" class=\"data row1 col1\" >221.4270</td>\n",
       "      <td id=\"T_73945_row1_col2\" class=\"data row1 col2\" >5.3050</td>\n",
       "      <td id=\"T_73945_row1_col3\" class=\"data row1 col3\" >15.0500</td>\n",
       "      <td id=\"T_73945_row1_col4\" class=\"data row1 col4\" >255.1930</td>\n",
       "      <td id=\"T_73945_row1_col5\" class=\"data row1 col5\" >5.1020</td>\n",
       "    </tr>\n",
       "    <tr>\n",
       "      <th id=\"T_73945_level0_row2\" class=\"row_heading level0 row2\" >2000-06-15 18:00:00</th>\n",
       "      <td id=\"T_73945_row2_col0\" class=\"data row2 col0\" >14.8720</td>\n",
       "      <td id=\"T_73945_row2_col1\" class=\"data row2 col1\" >186.3800</td>\n",
       "      <td id=\"T_73945_row2_col2\" class=\"data row2 col2\" >5.5070</td>\n",
       "      <td id=\"T_73945_row2_col3\" class=\"data row2 col3\" >14.9610</td>\n",
       "      <td id=\"T_73945_row2_col4\" class=\"data row2 col4\" >221.4270</td>\n",
       "      <td id=\"T_73945_row2_col5\" class=\"data row2 col5\" >5.3050</td>\n",
       "    </tr>\n",
       "    <tr>\n",
       "      <th id=\"T_73945_level0_row3\" class=\"row_heading level0 row3\" >2000-06-15 18:30:00</th>\n",
       "      <td id=\"T_73945_row3_col0\" class=\"data row3 col0\" >14.7830</td>\n",
       "      <td id=\"T_73945_row3_col1\" class=\"data row3 col1\" >150.6500</td>\n",
       "      <td id=\"T_73945_row3_col2\" class=\"data row3 col2\" >5.7100</td>\n",
       "      <td id=\"T_73945_row3_col3\" class=\"data row3 col3\" >14.8720</td>\n",
       "      <td id=\"T_73945_row3_col4\" class=\"data row3 col4\" >186.3800</td>\n",
       "      <td id=\"T_73945_row3_col5\" class=\"data row3 col5\" >5.5070</td>\n",
       "    </tr>\n",
       "    <tr>\n",
       "      <th id=\"T_73945_level0_row4\" class=\"row_heading level0 row4\" >2000-06-15 19:00:00</th>\n",
       "      <td id=\"T_73945_row4_col0\" class=\"data row4 col0\" >14.6940</td>\n",
       "      <td id=\"T_73945_row4_col1\" class=\"data row4 col1\" >114.8490</td>\n",
       "      <td id=\"T_73945_row4_col2\" class=\"data row4 col2\" >5.9120</td>\n",
       "      <td id=\"T_73945_row4_col3\" class=\"data row4 col3\" >14.7830</td>\n",
       "      <td id=\"T_73945_row4_col4\" class=\"data row4 col4\" >150.6500</td>\n",
       "      <td id=\"T_73945_row4_col5\" class=\"data row4 col5\" >5.7100</td>\n",
       "    </tr>\n",
       "    <tr>\n",
       "      <th id=\"T_73945_level0_row5\" class=\"row_heading level0 row5\" >2000-06-15 19:30:00</th>\n",
       "      <td id=\"T_73945_row5_col0\" class=\"data row5 col0\" >14.6060</td>\n",
       "      <td id=\"T_73945_row5_col1\" class=\"data row5 col1\" >34.7280</td>\n",
       "      <td id=\"T_73945_row5_col2\" class=\"data row5 col2\" >6.1140</td>\n",
       "      <td id=\"T_73945_row5_col3\" class=\"data row5 col3\" >14.6940</td>\n",
       "      <td id=\"T_73945_row5_col4\" class=\"data row5 col4\" >114.8490</td>\n",
       "      <td id=\"T_73945_row5_col5\" class=\"data row5 col5\" >5.9120</td>\n",
       "    </tr>\n",
       "    <tr>\n",
       "      <th id=\"T_73945_level0_row6\" class=\"row_heading level0 row6\" >2000-06-15 20:00:00</th>\n",
       "      <td id=\"T_73945_row6_col0\" class=\"data row6 col0\" >14.3800</td>\n",
       "      <td id=\"T_73945_row6_col1\" class=\"data row6 col1\" >19.8430</td>\n",
       "      <td id=\"T_73945_row6_col2\" class=\"data row6 col2\" >6.0740</td>\n",
       "      <td id=\"T_73945_row6_col3\" class=\"data row6 col3\" >14.6060</td>\n",
       "      <td id=\"T_73945_row6_col4\" class=\"data row6 col4\" >34.7280</td>\n",
       "      <td id=\"T_73945_row6_col5\" class=\"data row6 col5\" >6.1140</td>\n",
       "    </tr>\n",
       "    <tr>\n",
       "      <th id=\"T_73945_level0_row7\" class=\"row_heading level0 row7\" >2000-06-15 20:30:00</th>\n",
       "      <td id=\"T_73945_row7_col0\" class=\"data row7 col0\" >14.1550</td>\n",
       "      <td id=\"T_73945_row7_col1\" class=\"data row7 col1\" >5.7120</td>\n",
       "      <td id=\"T_73945_row7_col2\" class=\"data row7 col2\" >6.0340</td>\n",
       "      <td id=\"T_73945_row7_col3\" class=\"data row7 col3\" >14.3800</td>\n",
       "      <td id=\"T_73945_row7_col4\" class=\"data row7 col4\" >19.8430</td>\n",
       "      <td id=\"T_73945_row7_col5\" class=\"data row7 col5\" >6.0740</td>\n",
       "    </tr>\n",
       "    <tr>\n",
       "      <th id=\"T_73945_level0_row8\" class=\"row_heading level0 row8\" >2000-06-15 21:00:00</th>\n",
       "      <td id=\"T_73945_row8_col0\" class=\"data row8 col0\" >13.9290</td>\n",
       "      <td id=\"T_73945_row8_col1\" class=\"data row8 col1\" >0.0000</td>\n",
       "      <td id=\"T_73945_row8_col2\" class=\"data row8 col2\" >5.9940</td>\n",
       "      <td id=\"T_73945_row8_col3\" class=\"data row8 col3\" >14.1550</td>\n",
       "      <td id=\"T_73945_row8_col4\" class=\"data row8 col4\" >5.7120</td>\n",
       "      <td id=\"T_73945_row8_col5\" class=\"data row8 col5\" >6.0340</td>\n",
       "    </tr>\n",
       "    <tr>\n",
       "      <th id=\"T_73945_level0_row9\" class=\"row_heading level0 row9\" >2000-06-15 21:30:00</th>\n",
       "      <td id=\"T_73945_row9_col0\" class=\"data row9 col0\" >13.7040</td>\n",
       "      <td id=\"T_73945_row9_col1\" class=\"data row9 col1\" >0.0000</td>\n",
       "      <td id=\"T_73945_row9_col2\" class=\"data row9 col2\" >5.9540</td>\n",
       "      <td id=\"T_73945_row9_col3\" class=\"data row9 col3\" >13.9290</td>\n",
       "      <td id=\"T_73945_row9_col4\" class=\"data row9 col4\" >0.0000</td>\n",
       "      <td id=\"T_73945_row9_col5\" class=\"data row9 col5\" >5.9940</td>\n",
       "    </tr>\n",
       "  </tbody>\n",
       "</table>\n",
       " </div></div>"
      ],
      "text/plain": [
       "DataControl(data=                        TA       SW_IN    VPD\n",
       "time                                         \n",
       "2000-06-15 17:00:00  14.22  224.800003  5.799\n",
       "2000-06-15 17:30:00  14.11  195.279999  6.577\n",
       "2000-06-15 18:00:00  14.23  244.169998  6.931\n",
       "2000-06-15 18:30:00  14.40  253.919998  7.286\n",
       "2000-06-15 19:00:00  14.09  177.309998  7.251\n",
       "2000-06-15 19:30:00  13.71   97.070000  6.683\n",
       "2000-06-15 20:00:00  13.08   39.709999  5.851\n",
       "2000-06-15 20:30:00  12.41   10.650000  5.254\n",
       "2000-06-15 21:00:00  12.27    0.320000  5.164\n",
       "2000-06-15 21:30:00  12.20    0.000000  5.037, control=                     TA_ERA   SW_IN_ERA  VPD_ERA  TA_ERA_lag_1  \\\n",
       "time                                                             \n",
       "2000-06-15 17:00:00  15.050  255.192993    5.102        15.139   \n",
       "2000-06-15 17:30:00  14.961  221.427002    5.305        15.050   \n",
       "2000-06-15 18:00:00  14.872  186.380005    5.507        14.961   \n",
       "2000-06-15 18:30:00  14.783  150.649994    5.710        14.872   \n",
       "2000-06-15 19:00:00  14.694  114.848999    5.912        14.783   \n",
       "2000-06-15 19:30:00  14.606   34.728001    6.114        14.694   \n",
       "2000-06-15 20:00:00  14.380   19.843000    6.074        14.606   \n",
       "2000-06-15 20:30:00  14.155    5.712000    6.034        14.380   \n",
       "2000-06-15 21:00:00  13.929    0.000000    5.994        14.155   \n",
       "2000-06-15 21:30:00  13.704    0.000000    5.954        13.929   \n",
       "\n",
       "                     SW_IN_ERA_lag_1  VPD_ERA_lag_1  \n",
       "time                                                 \n",
       "2000-06-15 17:00:00       287.100006          4.900  \n",
       "2000-06-15 17:30:00       255.192993          5.102  \n",
       "2000-06-15 18:00:00       221.427002          5.305  \n",
       "2000-06-15 18:30:00       186.380005          5.507  \n",
       "2000-06-15 19:00:00       150.649994          5.710  \n",
       "2000-06-15 19:30:00       114.848999          5.912  \n",
       "2000-06-15 20:00:00        34.728001          6.114  \n",
       "2000-06-15 20:30:00        19.843000          6.074  \n",
       "2000-06-15 21:00:00         5.712000          6.034  \n",
       "2000-06-15 21:30:00         0.000000          5.994  )"
      ]
     },
     "execution_count": null,
     "metadata": {},
     "output_type": "execute_result"
    }
   ],
   "source": [
    "tfms1[0]"
   ]
  },
  {
   "cell_type": "markdown",
   "id": "cc7af1e4-516c-4536-ab92-a5d19eec00fc",
   "metadata": {},
   "source": [
    "### 3) Gaps"
   ]
  },
  {
   "cell_type": "markdown",
   "id": "f2fe95d9-43bb-4174-8b9d-d5e87fdc3930",
   "metadata": {},
   "source": [
    "adds a mask which includes a random gap"
   ]
  },
  {
   "cell_type": "markdown",
   "id": "94bc9530-dd11-4606-a80b-77b9a2a353dc",
   "metadata": {},
   "source": [
    "#### Make random Gap"
   ]
  },
  {
   "cell_type": "code",
   "execution_count": null,
   "id": "37358f56-f705-4d3c-b39f-ac810447a635",
   "metadata": {},
   "outputs": [],
   "source": [
    "idx = L(*tfms1[0].data.columns).argwhere(lambda x: x in ['TA','SW_IN'])"
   ]
  },
  {
   "cell_type": "code",
   "execution_count": null,
   "id": "9126e8d1-3f99-40ba-b4ac-e5ac0f5cfd6c",
   "metadata": {},
   "outputs": [],
   "source": [
    "mask = np.ones_like(tfms1[0].data, dtype=bool)"
   ]
  },
  {
   "cell_type": "code",
   "execution_count": null,
   "id": "a9bf7480-1580-490d-8ce9-a0c47ef6c2a3",
   "metadata": {},
   "outputs": [
    {
     "data": {
      "text/plain": [
       "array([[ True,  True,  True],\n",
       "       [ True,  True,  True],\n",
       "       [ True,  True,  True],\n",
       "       [ True,  True,  True],\n",
       "       [ True,  True,  True],\n",
       "       [ True,  True,  True],\n",
       "       [ True,  True,  True],\n",
       "       [ True,  True,  True],\n",
       "       [ True,  True,  True],\n",
       "       [ True,  True,  True]])"
      ]
     },
     "execution_count": null,
     "metadata": {},
     "output_type": "execute_result"
    }
   ],
   "source": [
    "mask"
   ]
  },
  {
   "cell_type": "code",
   "execution_count": null,
   "id": "0c90ac7a-c0e8-4994-9268-8ae6c0739a84",
   "metadata": {},
   "outputs": [],
   "source": [
    "#| exports\n",
    "def _make_random_gap(\n",
    "    gap_length: int, # The length of the gap\n",
    "    total_length: int, # The total number of observations\n",
    "    gap_start: Optional[int] = None # Optional start of gap\n",
    ")-> np.ndarray: # [total_length] array of bools to indicicate if the data is missing or not\n",
    "    \"Add a continous gap of given length at random position\"\n",
    "    if(gap_length >= total_length):\n",
    "        return np.repeat(True, total_length)\n",
    "    gap_start = np.random.randint(total_length - gap_length) if gap_start is None else gap_start\n",
    "    return np.hstack([\n",
    "        np.repeat(False, gap_start),\n",
    "        np.repeat(True, gap_length),\n",
    "        np.repeat(False, total_length - (gap_length + gap_start))\n",
    "    ])"
   ]
  },
  {
   "cell_type": "code",
   "execution_count": null,
   "id": "7ba57b44-2632-4ada-af4d-20b2678e6798",
   "metadata": {},
   "outputs": [],
   "source": [
    "gap = _make_random_gap(2, 10, 2)"
   ]
  },
  {
   "cell_type": "code",
   "execution_count": null,
   "id": "614d77ee-5fa7-49bd-b0e2-2bd9539b3c67",
   "metadata": {},
   "outputs": [
    {
     "data": {
      "text/plain": [
       "array([False, False,  True,  True, False, False, False, False, False,\n",
       "       False])"
      ]
     },
     "execution_count": null,
     "metadata": {},
     "output_type": "execute_result"
    }
   ],
   "source": [
    "gap"
   ]
  },
  {
   "cell_type": "code",
   "execution_count": null,
   "id": "2cfdf0a8-6761-43fb-a716-af7d391bd36c",
   "metadata": {},
   "outputs": [
    {
     "data": {
      "text/plain": [
       "array([[2],\n",
       "       [3]])"
      ]
     },
     "execution_count": null,
     "metadata": {},
     "output_type": "execute_result"
    }
   ],
   "source": [
    "np.argwhere(gap)"
   ]
  },
  {
   "cell_type": "code",
   "execution_count": null,
   "id": "c4892a92-5850-4529-991d-24c9a1cebf14",
   "metadata": {},
   "outputs": [],
   "source": [
    "mask[np.argwhere(gap), idx] = False"
   ]
  },
  {
   "cell_type": "code",
   "execution_count": null,
   "id": "5cf78fa7-3c14-43e6-a370-085f74f48ffa",
   "metadata": {},
   "outputs": [
    {
     "data": {
      "text/plain": [
       "array([[ True,  True,  True],\n",
       "       [ True,  True,  True],\n",
       "       [False, False,  True],\n",
       "       [False, False,  True],\n",
       "       [ True,  True,  True],\n",
       "       [ True,  True,  True],\n",
       "       [ True,  True,  True],\n",
       "       [ True,  True,  True],\n",
       "       [ True,  True,  True],\n",
       "       [ True,  True,  True]])"
      ]
     },
     "execution_count": null,
     "metadata": {},
     "output_type": "execute_result"
    }
   ],
   "source": [
    "mask"
   ]
  },
  {
   "cell_type": "code",
   "execution_count": null,
   "id": "39d845e1-4869-4d99-ad55-d851e44bc5cc",
   "metadata": {},
   "outputs": [
    {
     "data": {
      "text/plain": [
       "array([[False, False,  True],\n",
       "       [False, False,  True]])"
      ]
     },
     "execution_count": null,
     "metadata": {},
     "output_type": "execute_result"
    }
   ],
   "source": [
    "mask[gap]"
   ]
  },
  {
   "cell_type": "markdown",
   "id": "437bd01a-3335-4946-a655-5a1ed3ee9a52",
   "metadata": {},
   "source": [
    "#### Add Gap Transform"
   ]
  },
  {
   "cell_type": "code",
   "execution_count": null,
   "id": "94dcd2e0-9d32-471b-bebd-088d3e487a1f",
   "metadata": {},
   "outputs": [],
   "source": [
    "#| export\n",
    "class MeteoImpDf:\n",
    "    def __init__(self,*args):\n",
    "        self.data = args[0]\n",
    "        self.mask = args[1]\n",
    "        self.control = args[2]\n",
    "    def __iter__(self): return iter((self.data, self.mask, self.control,))\n",
    "    __repr__ = basic_repr(\"data, mask, control\")\n",
    "    def _repr_html_(self):\n",
    "        return row_dfs({'data': self.data, 'mask': self.mask, 'control': self.control}, title=\"Meteo Imp Df\", hide_idx=False)"
   ]
  },
  {
   "cell_type": "code",
   "execution_count": null,
   "id": "c71f35e5-ace8-41a6-806c-d5b14c520e7a",
   "metadata": {},
   "outputs": [],
   "source": [
    "#| export\n",
    "class AddGapTransform(DisplayedTransform):\n",
    "    \"\"\"Adds a random gap to a dataframe\"\"\"\n",
    "    def __init__(self,\n",
    "                variables,\n",
    "                gap_length,\n",
    "                ):\n",
    "        store_attr()\n",
    "    def encodes(self, dc: DataControl) -> MeteoImpDf:\n",
    "        df, control = dc\n",
    "        gap = _make_random_gap(self.gap_length, df.shape[0])\n",
    "        mask = np.ones_like(df, dtype=bool)\n",
    "        col_sel = L(*df.columns).argwhere(lambda x: x in self.variables)\n",
    "        mask[np.argwhere(gap), col_sel] = False\n",
    "        mask = pd.DataFrame(mask, index=df.index, columns=df.columns)\n",
    "        return MeteoImpDf(df, mask, control)"
   ]
  },
  {
   "cell_type": "code",
   "execution_count": null,
   "id": "47a56595-0fc1-4a7a-a9c6-38497079acb3",
   "metadata": {},
   "outputs": [
    {
     "data": {
      "text/plain": [
       "AddGapTransform -- {'variables': ['TA', 'VPD'], 'gap_length': 5}:\n",
       "encodes: (DataControl,object) -> encodes\n",
       "decodes: "
      ]
     },
     "execution_count": null,
     "metadata": {},
     "output_type": "execute_result"
    }
   ],
   "source": [
    "a_gap = AddGapTransform(['TA', 'VPD'], 5)\n",
    "a_gap"
   ]
  },
  {
   "cell_type": "code",
   "execution_count": null,
   "id": "27f2cc9f-4d0a-42a5-90bf-f4ca999918f7",
   "metadata": {},
   "outputs": [
    {
     "data": {
      "text/html": [
       "<p style='font-size: 1.5rem; font-decoration: bold'>Meteo Imp Df<p><div style=\"display: flex; column-gap: 20px; flex-wrap: wrap;\" class='table table-striped table-sm'> <div> <p style='font-size: 1.3rem;'>data</p> <style type=\"text/css\">\n",
       "</style>\n",
       "<table id=\"T_6ee0f\">\n",
       "  <thead>\n",
       "    <tr>\n",
       "      <th class=\"blank level0\" >&nbsp;</th>\n",
       "      <th id=\"T_6ee0f_level0_col0\" class=\"col_heading level0 col0\" >TA</th>\n",
       "      <th id=\"T_6ee0f_level0_col1\" class=\"col_heading level0 col1\" >SW_IN</th>\n",
       "      <th id=\"T_6ee0f_level0_col2\" class=\"col_heading level0 col2\" >VPD</th>\n",
       "    </tr>\n",
       "    <tr>\n",
       "      <th class=\"index_name level0\" >time</th>\n",
       "      <th class=\"blank col0\" >&nbsp;</th>\n",
       "      <th class=\"blank col1\" >&nbsp;</th>\n",
       "      <th class=\"blank col2\" >&nbsp;</th>\n",
       "    </tr>\n",
       "  </thead>\n",
       "  <tbody>\n",
       "    <tr>\n",
       "      <th id=\"T_6ee0f_level0_row0\" class=\"row_heading level0 row0\" >2000-06-15 17:00:00</th>\n",
       "      <td id=\"T_6ee0f_row0_col0\" class=\"data row0 col0\" >14.2200</td>\n",
       "      <td id=\"T_6ee0f_row0_col1\" class=\"data row0 col1\" >224.8000</td>\n",
       "      <td id=\"T_6ee0f_row0_col2\" class=\"data row0 col2\" >5.7990</td>\n",
       "    </tr>\n",
       "    <tr>\n",
       "      <th id=\"T_6ee0f_level0_row1\" class=\"row_heading level0 row1\" >2000-06-15 17:30:00</th>\n",
       "      <td id=\"T_6ee0f_row1_col0\" class=\"data row1 col0\" >14.1100</td>\n",
       "      <td id=\"T_6ee0f_row1_col1\" class=\"data row1 col1\" >195.2800</td>\n",
       "      <td id=\"T_6ee0f_row1_col2\" class=\"data row1 col2\" >6.5770</td>\n",
       "    </tr>\n",
       "    <tr>\n",
       "      <th id=\"T_6ee0f_level0_row2\" class=\"row_heading level0 row2\" >2000-06-15 18:00:00</th>\n",
       "      <td id=\"T_6ee0f_row2_col0\" class=\"data row2 col0\" >14.2300</td>\n",
       "      <td id=\"T_6ee0f_row2_col1\" class=\"data row2 col1\" >244.1700</td>\n",
       "      <td id=\"T_6ee0f_row2_col2\" class=\"data row2 col2\" >6.9310</td>\n",
       "    </tr>\n",
       "    <tr>\n",
       "      <th id=\"T_6ee0f_level0_row3\" class=\"row_heading level0 row3\" >2000-06-15 18:30:00</th>\n",
       "      <td id=\"T_6ee0f_row3_col0\" class=\"data row3 col0\" >14.4000</td>\n",
       "      <td id=\"T_6ee0f_row3_col1\" class=\"data row3 col1\" >253.9200</td>\n",
       "      <td id=\"T_6ee0f_row3_col2\" class=\"data row3 col2\" >7.2860</td>\n",
       "    </tr>\n",
       "    <tr>\n",
       "      <th id=\"T_6ee0f_level0_row4\" class=\"row_heading level0 row4\" >2000-06-15 19:00:00</th>\n",
       "      <td id=\"T_6ee0f_row4_col0\" class=\"data row4 col0\" >14.0900</td>\n",
       "      <td id=\"T_6ee0f_row4_col1\" class=\"data row4 col1\" >177.3100</td>\n",
       "      <td id=\"T_6ee0f_row4_col2\" class=\"data row4 col2\" >7.2510</td>\n",
       "    </tr>\n",
       "    <tr>\n",
       "      <th id=\"T_6ee0f_level0_row5\" class=\"row_heading level0 row5\" >2000-06-15 19:30:00</th>\n",
       "      <td id=\"T_6ee0f_row5_col0\" class=\"data row5 col0\" >13.7100</td>\n",
       "      <td id=\"T_6ee0f_row5_col1\" class=\"data row5 col1\" >97.0700</td>\n",
       "      <td id=\"T_6ee0f_row5_col2\" class=\"data row5 col2\" >6.6830</td>\n",
       "    </tr>\n",
       "    <tr>\n",
       "      <th id=\"T_6ee0f_level0_row6\" class=\"row_heading level0 row6\" >2000-06-15 20:00:00</th>\n",
       "      <td id=\"T_6ee0f_row6_col0\" class=\"data row6 col0\" >13.0800</td>\n",
       "      <td id=\"T_6ee0f_row6_col1\" class=\"data row6 col1\" >39.7100</td>\n",
       "      <td id=\"T_6ee0f_row6_col2\" class=\"data row6 col2\" >5.8510</td>\n",
       "    </tr>\n",
       "    <tr>\n",
       "      <th id=\"T_6ee0f_level0_row7\" class=\"row_heading level0 row7\" >2000-06-15 20:30:00</th>\n",
       "      <td id=\"T_6ee0f_row7_col0\" class=\"data row7 col0\" >12.4100</td>\n",
       "      <td id=\"T_6ee0f_row7_col1\" class=\"data row7 col1\" >10.6500</td>\n",
       "      <td id=\"T_6ee0f_row7_col2\" class=\"data row7 col2\" >5.2540</td>\n",
       "    </tr>\n",
       "    <tr>\n",
       "      <th id=\"T_6ee0f_level0_row8\" class=\"row_heading level0 row8\" >2000-06-15 21:00:00</th>\n",
       "      <td id=\"T_6ee0f_row8_col0\" class=\"data row8 col0\" >12.2700</td>\n",
       "      <td id=\"T_6ee0f_row8_col1\" class=\"data row8 col1\" >0.3200</td>\n",
       "      <td id=\"T_6ee0f_row8_col2\" class=\"data row8 col2\" >5.1640</td>\n",
       "    </tr>\n",
       "    <tr>\n",
       "      <th id=\"T_6ee0f_level0_row9\" class=\"row_heading level0 row9\" >2000-06-15 21:30:00</th>\n",
       "      <td id=\"T_6ee0f_row9_col0\" class=\"data row9 col0\" >12.2000</td>\n",
       "      <td id=\"T_6ee0f_row9_col1\" class=\"data row9 col1\" >0.0000</td>\n",
       "      <td id=\"T_6ee0f_row9_col2\" class=\"data row9 col2\" >5.0370</td>\n",
       "    </tr>\n",
       "  </tbody>\n",
       "</table>\n",
       " </div><div> <p style='font-size: 1.3rem;'>mask</p> <style type=\"text/css\">\n",
       "</style>\n",
       "<table id=\"T_88054\">\n",
       "  <thead>\n",
       "    <tr>\n",
       "      <th class=\"blank level0\" >&nbsp;</th>\n",
       "      <th id=\"T_88054_level0_col0\" class=\"col_heading level0 col0\" >TA</th>\n",
       "      <th id=\"T_88054_level0_col1\" class=\"col_heading level0 col1\" >SW_IN</th>\n",
       "      <th id=\"T_88054_level0_col2\" class=\"col_heading level0 col2\" >VPD</th>\n",
       "    </tr>\n",
       "    <tr>\n",
       "      <th class=\"index_name level0\" >time</th>\n",
       "      <th class=\"blank col0\" >&nbsp;</th>\n",
       "      <th class=\"blank col1\" >&nbsp;</th>\n",
       "      <th class=\"blank col2\" >&nbsp;</th>\n",
       "    </tr>\n",
       "  </thead>\n",
       "  <tbody>\n",
       "    <tr>\n",
       "      <th id=\"T_88054_level0_row0\" class=\"row_heading level0 row0\" >2000-06-15 17:00:00</th>\n",
       "      <td id=\"T_88054_row0_col0\" class=\"data row0 col0\" >True</td>\n",
       "      <td id=\"T_88054_row0_col1\" class=\"data row0 col1\" >True</td>\n",
       "      <td id=\"T_88054_row0_col2\" class=\"data row0 col2\" >True</td>\n",
       "    </tr>\n",
       "    <tr>\n",
       "      <th id=\"T_88054_level0_row1\" class=\"row_heading level0 row1\" >2000-06-15 17:30:00</th>\n",
       "      <td id=\"T_88054_row1_col0\" class=\"data row1 col0\" >True</td>\n",
       "      <td id=\"T_88054_row1_col1\" class=\"data row1 col1\" >True</td>\n",
       "      <td id=\"T_88054_row1_col2\" class=\"data row1 col2\" >True</td>\n",
       "    </tr>\n",
       "    <tr>\n",
       "      <th id=\"T_88054_level0_row2\" class=\"row_heading level0 row2\" >2000-06-15 18:00:00</th>\n",
       "      <td id=\"T_88054_row2_col0\" class=\"data row2 col0\" >True</td>\n",
       "      <td id=\"T_88054_row2_col1\" class=\"data row2 col1\" >True</td>\n",
       "      <td id=\"T_88054_row2_col2\" class=\"data row2 col2\" >True</td>\n",
       "    </tr>\n",
       "    <tr>\n",
       "      <th id=\"T_88054_level0_row3\" class=\"row_heading level0 row3\" >2000-06-15 18:30:00</th>\n",
       "      <td id=\"T_88054_row3_col0\" class=\"data row3 col0\" >True</td>\n",
       "      <td id=\"T_88054_row3_col1\" class=\"data row3 col1\" >True</td>\n",
       "      <td id=\"T_88054_row3_col2\" class=\"data row3 col2\" >True</td>\n",
       "    </tr>\n",
       "    <tr>\n",
       "      <th id=\"T_88054_level0_row4\" class=\"row_heading level0 row4\" >2000-06-15 19:00:00</th>\n",
       "      <td id=\"T_88054_row4_col0\" class=\"data row4 col0\" >False</td>\n",
       "      <td id=\"T_88054_row4_col1\" class=\"data row4 col1\" >True</td>\n",
       "      <td id=\"T_88054_row4_col2\" class=\"data row4 col2\" >False</td>\n",
       "    </tr>\n",
       "    <tr>\n",
       "      <th id=\"T_88054_level0_row5\" class=\"row_heading level0 row5\" >2000-06-15 19:30:00</th>\n",
       "      <td id=\"T_88054_row5_col0\" class=\"data row5 col0\" >False</td>\n",
       "      <td id=\"T_88054_row5_col1\" class=\"data row5 col1\" >True</td>\n",
       "      <td id=\"T_88054_row5_col2\" class=\"data row5 col2\" >False</td>\n",
       "    </tr>\n",
       "    <tr>\n",
       "      <th id=\"T_88054_level0_row6\" class=\"row_heading level0 row6\" >2000-06-15 20:00:00</th>\n",
       "      <td id=\"T_88054_row6_col0\" class=\"data row6 col0\" >False</td>\n",
       "      <td id=\"T_88054_row6_col1\" class=\"data row6 col1\" >True</td>\n",
       "      <td id=\"T_88054_row6_col2\" class=\"data row6 col2\" >False</td>\n",
       "    </tr>\n",
       "    <tr>\n",
       "      <th id=\"T_88054_level0_row7\" class=\"row_heading level0 row7\" >2000-06-15 20:30:00</th>\n",
       "      <td id=\"T_88054_row7_col0\" class=\"data row7 col0\" >False</td>\n",
       "      <td id=\"T_88054_row7_col1\" class=\"data row7 col1\" >True</td>\n",
       "      <td id=\"T_88054_row7_col2\" class=\"data row7 col2\" >False</td>\n",
       "    </tr>\n",
       "    <tr>\n",
       "      <th id=\"T_88054_level0_row8\" class=\"row_heading level0 row8\" >2000-06-15 21:00:00</th>\n",
       "      <td id=\"T_88054_row8_col0\" class=\"data row8 col0\" >False</td>\n",
       "      <td id=\"T_88054_row8_col1\" class=\"data row8 col1\" >True</td>\n",
       "      <td id=\"T_88054_row8_col2\" class=\"data row8 col2\" >False</td>\n",
       "    </tr>\n",
       "    <tr>\n",
       "      <th id=\"T_88054_level0_row9\" class=\"row_heading level0 row9\" >2000-06-15 21:30:00</th>\n",
       "      <td id=\"T_88054_row9_col0\" class=\"data row9 col0\" >True</td>\n",
       "      <td id=\"T_88054_row9_col1\" class=\"data row9 col1\" >True</td>\n",
       "      <td id=\"T_88054_row9_col2\" class=\"data row9 col2\" >True</td>\n",
       "    </tr>\n",
       "  </tbody>\n",
       "</table>\n",
       " </div><div> <p style='font-size: 1.3rem;'>control</p> <style type=\"text/css\">\n",
       "</style>\n",
       "<table id=\"T_26dc0\">\n",
       "  <thead>\n",
       "    <tr>\n",
       "      <th class=\"blank level0\" >&nbsp;</th>\n",
       "      <th id=\"T_26dc0_level0_col0\" class=\"col_heading level0 col0\" >TA_ERA</th>\n",
       "      <th id=\"T_26dc0_level0_col1\" class=\"col_heading level0 col1\" >SW_IN_ERA</th>\n",
       "      <th id=\"T_26dc0_level0_col2\" class=\"col_heading level0 col2\" >VPD_ERA</th>\n",
       "      <th id=\"T_26dc0_level0_col3\" class=\"col_heading level0 col3\" >TA_ERA_lag_1</th>\n",
       "      <th id=\"T_26dc0_level0_col4\" class=\"col_heading level0 col4\" >SW_IN_ERA_lag_1</th>\n",
       "      <th id=\"T_26dc0_level0_col5\" class=\"col_heading level0 col5\" >VPD_ERA_lag_1</th>\n",
       "    </tr>\n",
       "    <tr>\n",
       "      <th class=\"index_name level0\" >time</th>\n",
       "      <th class=\"blank col0\" >&nbsp;</th>\n",
       "      <th class=\"blank col1\" >&nbsp;</th>\n",
       "      <th class=\"blank col2\" >&nbsp;</th>\n",
       "      <th class=\"blank col3\" >&nbsp;</th>\n",
       "      <th class=\"blank col4\" >&nbsp;</th>\n",
       "      <th class=\"blank col5\" >&nbsp;</th>\n",
       "    </tr>\n",
       "  </thead>\n",
       "  <tbody>\n",
       "    <tr>\n",
       "      <th id=\"T_26dc0_level0_row0\" class=\"row_heading level0 row0\" >2000-06-15 17:00:00</th>\n",
       "      <td id=\"T_26dc0_row0_col0\" class=\"data row0 col0\" >15.0500</td>\n",
       "      <td id=\"T_26dc0_row0_col1\" class=\"data row0 col1\" >255.1930</td>\n",
       "      <td id=\"T_26dc0_row0_col2\" class=\"data row0 col2\" >5.1020</td>\n",
       "      <td id=\"T_26dc0_row0_col3\" class=\"data row0 col3\" >15.1390</td>\n",
       "      <td id=\"T_26dc0_row0_col4\" class=\"data row0 col4\" >287.1000</td>\n",
       "      <td id=\"T_26dc0_row0_col5\" class=\"data row0 col5\" >4.9000</td>\n",
       "    </tr>\n",
       "    <tr>\n",
       "      <th id=\"T_26dc0_level0_row1\" class=\"row_heading level0 row1\" >2000-06-15 17:30:00</th>\n",
       "      <td id=\"T_26dc0_row1_col0\" class=\"data row1 col0\" >14.9610</td>\n",
       "      <td id=\"T_26dc0_row1_col1\" class=\"data row1 col1\" >221.4270</td>\n",
       "      <td id=\"T_26dc0_row1_col2\" class=\"data row1 col2\" >5.3050</td>\n",
       "      <td id=\"T_26dc0_row1_col3\" class=\"data row1 col3\" >15.0500</td>\n",
       "      <td id=\"T_26dc0_row1_col4\" class=\"data row1 col4\" >255.1930</td>\n",
       "      <td id=\"T_26dc0_row1_col5\" class=\"data row1 col5\" >5.1020</td>\n",
       "    </tr>\n",
       "    <tr>\n",
       "      <th id=\"T_26dc0_level0_row2\" class=\"row_heading level0 row2\" >2000-06-15 18:00:00</th>\n",
       "      <td id=\"T_26dc0_row2_col0\" class=\"data row2 col0\" >14.8720</td>\n",
       "      <td id=\"T_26dc0_row2_col1\" class=\"data row2 col1\" >186.3800</td>\n",
       "      <td id=\"T_26dc0_row2_col2\" class=\"data row2 col2\" >5.5070</td>\n",
       "      <td id=\"T_26dc0_row2_col3\" class=\"data row2 col3\" >14.9610</td>\n",
       "      <td id=\"T_26dc0_row2_col4\" class=\"data row2 col4\" >221.4270</td>\n",
       "      <td id=\"T_26dc0_row2_col5\" class=\"data row2 col5\" >5.3050</td>\n",
       "    </tr>\n",
       "    <tr>\n",
       "      <th id=\"T_26dc0_level0_row3\" class=\"row_heading level0 row3\" >2000-06-15 18:30:00</th>\n",
       "      <td id=\"T_26dc0_row3_col0\" class=\"data row3 col0\" >14.7830</td>\n",
       "      <td id=\"T_26dc0_row3_col1\" class=\"data row3 col1\" >150.6500</td>\n",
       "      <td id=\"T_26dc0_row3_col2\" class=\"data row3 col2\" >5.7100</td>\n",
       "      <td id=\"T_26dc0_row3_col3\" class=\"data row3 col3\" >14.8720</td>\n",
       "      <td id=\"T_26dc0_row3_col4\" class=\"data row3 col4\" >186.3800</td>\n",
       "      <td id=\"T_26dc0_row3_col5\" class=\"data row3 col5\" >5.5070</td>\n",
       "    </tr>\n",
       "    <tr>\n",
       "      <th id=\"T_26dc0_level0_row4\" class=\"row_heading level0 row4\" >2000-06-15 19:00:00</th>\n",
       "      <td id=\"T_26dc0_row4_col0\" class=\"data row4 col0\" >14.6940</td>\n",
       "      <td id=\"T_26dc0_row4_col1\" class=\"data row4 col1\" >114.8490</td>\n",
       "      <td id=\"T_26dc0_row4_col2\" class=\"data row4 col2\" >5.9120</td>\n",
       "      <td id=\"T_26dc0_row4_col3\" class=\"data row4 col3\" >14.7830</td>\n",
       "      <td id=\"T_26dc0_row4_col4\" class=\"data row4 col4\" >150.6500</td>\n",
       "      <td id=\"T_26dc0_row4_col5\" class=\"data row4 col5\" >5.7100</td>\n",
       "    </tr>\n",
       "    <tr>\n",
       "      <th id=\"T_26dc0_level0_row5\" class=\"row_heading level0 row5\" >2000-06-15 19:30:00</th>\n",
       "      <td id=\"T_26dc0_row5_col0\" class=\"data row5 col0\" >14.6060</td>\n",
       "      <td id=\"T_26dc0_row5_col1\" class=\"data row5 col1\" >34.7280</td>\n",
       "      <td id=\"T_26dc0_row5_col2\" class=\"data row5 col2\" >6.1140</td>\n",
       "      <td id=\"T_26dc0_row5_col3\" class=\"data row5 col3\" >14.6940</td>\n",
       "      <td id=\"T_26dc0_row5_col4\" class=\"data row5 col4\" >114.8490</td>\n",
       "      <td id=\"T_26dc0_row5_col5\" class=\"data row5 col5\" >5.9120</td>\n",
       "    </tr>\n",
       "    <tr>\n",
       "      <th id=\"T_26dc0_level0_row6\" class=\"row_heading level0 row6\" >2000-06-15 20:00:00</th>\n",
       "      <td id=\"T_26dc0_row6_col0\" class=\"data row6 col0\" >14.3800</td>\n",
       "      <td id=\"T_26dc0_row6_col1\" class=\"data row6 col1\" >19.8430</td>\n",
       "      <td id=\"T_26dc0_row6_col2\" class=\"data row6 col2\" >6.0740</td>\n",
       "      <td id=\"T_26dc0_row6_col3\" class=\"data row6 col3\" >14.6060</td>\n",
       "      <td id=\"T_26dc0_row6_col4\" class=\"data row6 col4\" >34.7280</td>\n",
       "      <td id=\"T_26dc0_row6_col5\" class=\"data row6 col5\" >6.1140</td>\n",
       "    </tr>\n",
       "    <tr>\n",
       "      <th id=\"T_26dc0_level0_row7\" class=\"row_heading level0 row7\" >2000-06-15 20:30:00</th>\n",
       "      <td id=\"T_26dc0_row7_col0\" class=\"data row7 col0\" >14.1550</td>\n",
       "      <td id=\"T_26dc0_row7_col1\" class=\"data row7 col1\" >5.7120</td>\n",
       "      <td id=\"T_26dc0_row7_col2\" class=\"data row7 col2\" >6.0340</td>\n",
       "      <td id=\"T_26dc0_row7_col3\" class=\"data row7 col3\" >14.3800</td>\n",
       "      <td id=\"T_26dc0_row7_col4\" class=\"data row7 col4\" >19.8430</td>\n",
       "      <td id=\"T_26dc0_row7_col5\" class=\"data row7 col5\" >6.0740</td>\n",
       "    </tr>\n",
       "    <tr>\n",
       "      <th id=\"T_26dc0_level0_row8\" class=\"row_heading level0 row8\" >2000-06-15 21:00:00</th>\n",
       "      <td id=\"T_26dc0_row8_col0\" class=\"data row8 col0\" >13.9290</td>\n",
       "      <td id=\"T_26dc0_row8_col1\" class=\"data row8 col1\" >0.0000</td>\n",
       "      <td id=\"T_26dc0_row8_col2\" class=\"data row8 col2\" >5.9940</td>\n",
       "      <td id=\"T_26dc0_row8_col3\" class=\"data row8 col3\" >14.1550</td>\n",
       "      <td id=\"T_26dc0_row8_col4\" class=\"data row8 col4\" >5.7120</td>\n",
       "      <td id=\"T_26dc0_row8_col5\" class=\"data row8 col5\" >6.0340</td>\n",
       "    </tr>\n",
       "    <tr>\n",
       "      <th id=\"T_26dc0_level0_row9\" class=\"row_heading level0 row9\" >2000-06-15 21:30:00</th>\n",
       "      <td id=\"T_26dc0_row9_col0\" class=\"data row9 col0\" >13.7040</td>\n",
       "      <td id=\"T_26dc0_row9_col1\" class=\"data row9 col1\" >0.0000</td>\n",
       "      <td id=\"T_26dc0_row9_col2\" class=\"data row9 col2\" >5.9540</td>\n",
       "      <td id=\"T_26dc0_row9_col3\" class=\"data row9 col3\" >13.9290</td>\n",
       "      <td id=\"T_26dc0_row9_col4\" class=\"data row9 col4\" >0.0000</td>\n",
       "      <td id=\"T_26dc0_row9_col5\" class=\"data row9 col5\" >5.9940</td>\n",
       "    </tr>\n",
       "  </tbody>\n",
       "</table>\n",
       " </div></div>"
      ],
      "text/plain": [
       "__main__.MeteoImpDf(data=                        TA       SW_IN    VPD\n",
       "time                                         \n",
       "2000-06-15 17:00:00  14.22  224.800003  5.799\n",
       "2000-06-15 17:30:00  14.11  195.279999  6.577\n",
       "2000-06-15 18:00:00  14.23  244.169998  6.931\n",
       "2000-06-15 18:30:00  14.40  253.919998  7.286\n",
       "2000-06-15 19:00:00  14.09  177.309998  7.251\n",
       "2000-06-15 19:30:00  13.71   97.070000  6.683\n",
       "2000-06-15 20:00:00  13.08   39.709999  5.851\n",
       "2000-06-15 20:30:00  12.41   10.650000  5.254\n",
       "2000-06-15 21:00:00  12.27    0.320000  5.164\n",
       "2000-06-15 21:30:00  12.20    0.000000  5.037, mask=                        TA  SW_IN    VPD\n",
       "time                                    \n",
       "2000-06-15 17:00:00   True   True   True\n",
       "2000-06-15 17:30:00   True   True   True\n",
       "2000-06-15 18:00:00   True   True   True\n",
       "2000-06-15 18:30:00   True   True   True\n",
       "2000-06-15 19:00:00  False   True  False\n",
       "2000-06-15 19:30:00  False   True  False\n",
       "2000-06-15 20:00:00  False   True  False\n",
       "2000-06-15 20:30:00  False   True  False\n",
       "2000-06-15 21:00:00  False   True  False\n",
       "2000-06-15 21:30:00   True   True   True, control=                     TA_ERA   SW_IN_ERA  VPD_ERA  TA_ERA_lag_1  \\\n",
       "time                                                             \n",
       "2000-06-15 17:00:00  15.050  255.192993    5.102        15.139   \n",
       "2000-06-15 17:30:00  14.961  221.427002    5.305        15.050   \n",
       "2000-06-15 18:00:00  14.872  186.380005    5.507        14.961   \n",
       "2000-06-15 18:30:00  14.783  150.649994    5.710        14.872   \n",
       "2000-06-15 19:00:00  14.694  114.848999    5.912        14.783   \n",
       "2000-06-15 19:30:00  14.606   34.728001    6.114        14.694   \n",
       "2000-06-15 20:00:00  14.380   19.843000    6.074        14.606   \n",
       "2000-06-15 20:30:00  14.155    5.712000    6.034        14.380   \n",
       "2000-06-15 21:00:00  13.929    0.000000    5.994        14.155   \n",
       "2000-06-15 21:30:00  13.704    0.000000    5.954        13.929   \n",
       "\n",
       "                     SW_IN_ERA_lag_1  VPD_ERA_lag_1  \n",
       "time                                                 \n",
       "2000-06-15 17:00:00       287.100006          4.900  \n",
       "2000-06-15 17:30:00       255.192993          5.102  \n",
       "2000-06-15 18:00:00       221.427002          5.305  \n",
       "2000-06-15 18:30:00       186.380005          5.507  \n",
       "2000-06-15 19:00:00       150.649994          5.710  \n",
       "2000-06-15 19:30:00       114.848999          5.912  \n",
       "2000-06-15 20:00:00        34.728001          6.114  \n",
       "2000-06-15 20:30:00        19.843000          6.074  \n",
       "2000-06-15 21:00:00         5.712000          6.034  \n",
       "2000-06-15 21:30:00         0.000000          5.994  )"
      ]
     },
     "execution_count": null,
     "metadata": {},
     "output_type": "execute_result"
    }
   ],
   "source": [
    "a_gap(tfms1[0])"
   ]
  },
  {
   "cell_type": "code",
   "execution_count": null,
   "id": "465aab96-5f68-49c4-94bd-8c4fe4d5e8de",
   "metadata": {},
   "outputs": [],
   "source": [
    "tfms2 = TfmdLists([800,801,802,803], [*tfms1.fs, AddGapTransform(['TA','SW_IN'], 2)])"
   ]
  },
  {
   "cell_type": "code",
   "execution_count": null,
   "id": "3292befc-b05d-441b-9404-7d1aa24d657d",
   "metadata": {},
   "outputs": [
    {
     "data": {
      "text/html": [
       "<p style='font-size: 1.5rem; font-decoration: bold'>Meteo Imp Df<p><div style=\"display: flex; column-gap: 20px; flex-wrap: wrap;\" class='table table-striped table-sm'> <div> <p style='font-size: 1.3rem;'>data</p> <style type=\"text/css\">\n",
       "</style>\n",
       "<table id=\"T_31c78\">\n",
       "  <thead>\n",
       "    <tr>\n",
       "      <th class=\"blank level0\" >&nbsp;</th>\n",
       "      <th id=\"T_31c78_level0_col0\" class=\"col_heading level0 col0\" >TA</th>\n",
       "      <th id=\"T_31c78_level0_col1\" class=\"col_heading level0 col1\" >SW_IN</th>\n",
       "      <th id=\"T_31c78_level0_col2\" class=\"col_heading level0 col2\" >VPD</th>\n",
       "    </tr>\n",
       "    <tr>\n",
       "      <th class=\"index_name level0\" >time</th>\n",
       "      <th class=\"blank col0\" >&nbsp;</th>\n",
       "      <th class=\"blank col1\" >&nbsp;</th>\n",
       "      <th class=\"blank col2\" >&nbsp;</th>\n",
       "    </tr>\n",
       "  </thead>\n",
       "  <tbody>\n",
       "    <tr>\n",
       "      <th id=\"T_31c78_level0_row0\" class=\"row_heading level0 row0\" >2000-06-15 17:00:00</th>\n",
       "      <td id=\"T_31c78_row0_col0\" class=\"data row0 col0\" >14.2200</td>\n",
       "      <td id=\"T_31c78_row0_col1\" class=\"data row0 col1\" >224.8000</td>\n",
       "      <td id=\"T_31c78_row0_col2\" class=\"data row0 col2\" >5.7990</td>\n",
       "    </tr>\n",
       "    <tr>\n",
       "      <th id=\"T_31c78_level0_row1\" class=\"row_heading level0 row1\" >2000-06-15 17:30:00</th>\n",
       "      <td id=\"T_31c78_row1_col0\" class=\"data row1 col0\" >14.1100</td>\n",
       "      <td id=\"T_31c78_row1_col1\" class=\"data row1 col1\" >195.2800</td>\n",
       "      <td id=\"T_31c78_row1_col2\" class=\"data row1 col2\" >6.5770</td>\n",
       "    </tr>\n",
       "    <tr>\n",
       "      <th id=\"T_31c78_level0_row2\" class=\"row_heading level0 row2\" >2000-06-15 18:00:00</th>\n",
       "      <td id=\"T_31c78_row2_col0\" class=\"data row2 col0\" >14.2300</td>\n",
       "      <td id=\"T_31c78_row2_col1\" class=\"data row2 col1\" >244.1700</td>\n",
       "      <td id=\"T_31c78_row2_col2\" class=\"data row2 col2\" >6.9310</td>\n",
       "    </tr>\n",
       "    <tr>\n",
       "      <th id=\"T_31c78_level0_row3\" class=\"row_heading level0 row3\" >2000-06-15 18:30:00</th>\n",
       "      <td id=\"T_31c78_row3_col0\" class=\"data row3 col0\" >14.4000</td>\n",
       "      <td id=\"T_31c78_row3_col1\" class=\"data row3 col1\" >253.9200</td>\n",
       "      <td id=\"T_31c78_row3_col2\" class=\"data row3 col2\" >7.2860</td>\n",
       "    </tr>\n",
       "    <tr>\n",
       "      <th id=\"T_31c78_level0_row4\" class=\"row_heading level0 row4\" >2000-06-15 19:00:00</th>\n",
       "      <td id=\"T_31c78_row4_col0\" class=\"data row4 col0\" >14.0900</td>\n",
       "      <td id=\"T_31c78_row4_col1\" class=\"data row4 col1\" >177.3100</td>\n",
       "      <td id=\"T_31c78_row4_col2\" class=\"data row4 col2\" >7.2510</td>\n",
       "    </tr>\n",
       "    <tr>\n",
       "      <th id=\"T_31c78_level0_row5\" class=\"row_heading level0 row5\" >2000-06-15 19:30:00</th>\n",
       "      <td id=\"T_31c78_row5_col0\" class=\"data row5 col0\" >13.7100</td>\n",
       "      <td id=\"T_31c78_row5_col1\" class=\"data row5 col1\" >97.0700</td>\n",
       "      <td id=\"T_31c78_row5_col2\" class=\"data row5 col2\" >6.6830</td>\n",
       "    </tr>\n",
       "    <tr>\n",
       "      <th id=\"T_31c78_level0_row6\" class=\"row_heading level0 row6\" >2000-06-15 20:00:00</th>\n",
       "      <td id=\"T_31c78_row6_col0\" class=\"data row6 col0\" >13.0800</td>\n",
       "      <td id=\"T_31c78_row6_col1\" class=\"data row6 col1\" >39.7100</td>\n",
       "      <td id=\"T_31c78_row6_col2\" class=\"data row6 col2\" >5.8510</td>\n",
       "    </tr>\n",
       "    <tr>\n",
       "      <th id=\"T_31c78_level0_row7\" class=\"row_heading level0 row7\" >2000-06-15 20:30:00</th>\n",
       "      <td id=\"T_31c78_row7_col0\" class=\"data row7 col0\" >12.4100</td>\n",
       "      <td id=\"T_31c78_row7_col1\" class=\"data row7 col1\" >10.6500</td>\n",
       "      <td id=\"T_31c78_row7_col2\" class=\"data row7 col2\" >5.2540</td>\n",
       "    </tr>\n",
       "    <tr>\n",
       "      <th id=\"T_31c78_level0_row8\" class=\"row_heading level0 row8\" >2000-06-15 21:00:00</th>\n",
       "      <td id=\"T_31c78_row8_col0\" class=\"data row8 col0\" >12.2700</td>\n",
       "      <td id=\"T_31c78_row8_col1\" class=\"data row8 col1\" >0.3200</td>\n",
       "      <td id=\"T_31c78_row8_col2\" class=\"data row8 col2\" >5.1640</td>\n",
       "    </tr>\n",
       "    <tr>\n",
       "      <th id=\"T_31c78_level0_row9\" class=\"row_heading level0 row9\" >2000-06-15 21:30:00</th>\n",
       "      <td id=\"T_31c78_row9_col0\" class=\"data row9 col0\" >12.2000</td>\n",
       "      <td id=\"T_31c78_row9_col1\" class=\"data row9 col1\" >0.0000</td>\n",
       "      <td id=\"T_31c78_row9_col2\" class=\"data row9 col2\" >5.0370</td>\n",
       "    </tr>\n",
       "  </tbody>\n",
       "</table>\n",
       " </div><div> <p style='font-size: 1.3rem;'>mask</p> <style type=\"text/css\">\n",
       "</style>\n",
       "<table id=\"T_f3ed3\">\n",
       "  <thead>\n",
       "    <tr>\n",
       "      <th class=\"blank level0\" >&nbsp;</th>\n",
       "      <th id=\"T_f3ed3_level0_col0\" class=\"col_heading level0 col0\" >TA</th>\n",
       "      <th id=\"T_f3ed3_level0_col1\" class=\"col_heading level0 col1\" >SW_IN</th>\n",
       "      <th id=\"T_f3ed3_level0_col2\" class=\"col_heading level0 col2\" >VPD</th>\n",
       "    </tr>\n",
       "    <tr>\n",
       "      <th class=\"index_name level0\" >time</th>\n",
       "      <th class=\"blank col0\" >&nbsp;</th>\n",
       "      <th class=\"blank col1\" >&nbsp;</th>\n",
       "      <th class=\"blank col2\" >&nbsp;</th>\n",
       "    </tr>\n",
       "  </thead>\n",
       "  <tbody>\n",
       "    <tr>\n",
       "      <th id=\"T_f3ed3_level0_row0\" class=\"row_heading level0 row0\" >2000-06-15 17:00:00</th>\n",
       "      <td id=\"T_f3ed3_row0_col0\" class=\"data row0 col0\" >True</td>\n",
       "      <td id=\"T_f3ed3_row0_col1\" class=\"data row0 col1\" >True</td>\n",
       "      <td id=\"T_f3ed3_row0_col2\" class=\"data row0 col2\" >True</td>\n",
       "    </tr>\n",
       "    <tr>\n",
       "      <th id=\"T_f3ed3_level0_row1\" class=\"row_heading level0 row1\" >2000-06-15 17:30:00</th>\n",
       "      <td id=\"T_f3ed3_row1_col0\" class=\"data row1 col0\" >True</td>\n",
       "      <td id=\"T_f3ed3_row1_col1\" class=\"data row1 col1\" >True</td>\n",
       "      <td id=\"T_f3ed3_row1_col2\" class=\"data row1 col2\" >True</td>\n",
       "    </tr>\n",
       "    <tr>\n",
       "      <th id=\"T_f3ed3_level0_row2\" class=\"row_heading level0 row2\" >2000-06-15 18:00:00</th>\n",
       "      <td id=\"T_f3ed3_row2_col0\" class=\"data row2 col0\" >True</td>\n",
       "      <td id=\"T_f3ed3_row2_col1\" class=\"data row2 col1\" >True</td>\n",
       "      <td id=\"T_f3ed3_row2_col2\" class=\"data row2 col2\" >True</td>\n",
       "    </tr>\n",
       "    <tr>\n",
       "      <th id=\"T_f3ed3_level0_row3\" class=\"row_heading level0 row3\" >2000-06-15 18:30:00</th>\n",
       "      <td id=\"T_f3ed3_row3_col0\" class=\"data row3 col0\" >True</td>\n",
       "      <td id=\"T_f3ed3_row3_col1\" class=\"data row3 col1\" >True</td>\n",
       "      <td id=\"T_f3ed3_row3_col2\" class=\"data row3 col2\" >True</td>\n",
       "    </tr>\n",
       "    <tr>\n",
       "      <th id=\"T_f3ed3_level0_row4\" class=\"row_heading level0 row4\" >2000-06-15 19:00:00</th>\n",
       "      <td id=\"T_f3ed3_row4_col0\" class=\"data row4 col0\" >True</td>\n",
       "      <td id=\"T_f3ed3_row4_col1\" class=\"data row4 col1\" >True</td>\n",
       "      <td id=\"T_f3ed3_row4_col2\" class=\"data row4 col2\" >True</td>\n",
       "    </tr>\n",
       "    <tr>\n",
       "      <th id=\"T_f3ed3_level0_row5\" class=\"row_heading level0 row5\" >2000-06-15 19:30:00</th>\n",
       "      <td id=\"T_f3ed3_row5_col0\" class=\"data row5 col0\" >True</td>\n",
       "      <td id=\"T_f3ed3_row5_col1\" class=\"data row5 col1\" >True</td>\n",
       "      <td id=\"T_f3ed3_row5_col2\" class=\"data row5 col2\" >True</td>\n",
       "    </tr>\n",
       "    <tr>\n",
       "      <th id=\"T_f3ed3_level0_row6\" class=\"row_heading level0 row6\" >2000-06-15 20:00:00</th>\n",
       "      <td id=\"T_f3ed3_row6_col0\" class=\"data row6 col0\" >False</td>\n",
       "      <td id=\"T_f3ed3_row6_col1\" class=\"data row6 col1\" >False</td>\n",
       "      <td id=\"T_f3ed3_row6_col2\" class=\"data row6 col2\" >True</td>\n",
       "    </tr>\n",
       "    <tr>\n",
       "      <th id=\"T_f3ed3_level0_row7\" class=\"row_heading level0 row7\" >2000-06-15 20:30:00</th>\n",
       "      <td id=\"T_f3ed3_row7_col0\" class=\"data row7 col0\" >False</td>\n",
       "      <td id=\"T_f3ed3_row7_col1\" class=\"data row7 col1\" >False</td>\n",
       "      <td id=\"T_f3ed3_row7_col2\" class=\"data row7 col2\" >True</td>\n",
       "    </tr>\n",
       "    <tr>\n",
       "      <th id=\"T_f3ed3_level0_row8\" class=\"row_heading level0 row8\" >2000-06-15 21:00:00</th>\n",
       "      <td id=\"T_f3ed3_row8_col0\" class=\"data row8 col0\" >True</td>\n",
       "      <td id=\"T_f3ed3_row8_col1\" class=\"data row8 col1\" >True</td>\n",
       "      <td id=\"T_f3ed3_row8_col2\" class=\"data row8 col2\" >True</td>\n",
       "    </tr>\n",
       "    <tr>\n",
       "      <th id=\"T_f3ed3_level0_row9\" class=\"row_heading level0 row9\" >2000-06-15 21:30:00</th>\n",
       "      <td id=\"T_f3ed3_row9_col0\" class=\"data row9 col0\" >True</td>\n",
       "      <td id=\"T_f3ed3_row9_col1\" class=\"data row9 col1\" >True</td>\n",
       "      <td id=\"T_f3ed3_row9_col2\" class=\"data row9 col2\" >True</td>\n",
       "    </tr>\n",
       "  </tbody>\n",
       "</table>\n",
       " </div><div> <p style='font-size: 1.3rem;'>control</p> <style type=\"text/css\">\n",
       "</style>\n",
       "<table id=\"T_afa59\">\n",
       "  <thead>\n",
       "    <tr>\n",
       "      <th class=\"blank level0\" >&nbsp;</th>\n",
       "      <th id=\"T_afa59_level0_col0\" class=\"col_heading level0 col0\" >TA_ERA</th>\n",
       "      <th id=\"T_afa59_level0_col1\" class=\"col_heading level0 col1\" >SW_IN_ERA</th>\n",
       "      <th id=\"T_afa59_level0_col2\" class=\"col_heading level0 col2\" >VPD_ERA</th>\n",
       "      <th id=\"T_afa59_level0_col3\" class=\"col_heading level0 col3\" >TA_ERA_lag_1</th>\n",
       "      <th id=\"T_afa59_level0_col4\" class=\"col_heading level0 col4\" >SW_IN_ERA_lag_1</th>\n",
       "      <th id=\"T_afa59_level0_col5\" class=\"col_heading level0 col5\" >VPD_ERA_lag_1</th>\n",
       "    </tr>\n",
       "    <tr>\n",
       "      <th class=\"index_name level0\" >time</th>\n",
       "      <th class=\"blank col0\" >&nbsp;</th>\n",
       "      <th class=\"blank col1\" >&nbsp;</th>\n",
       "      <th class=\"blank col2\" >&nbsp;</th>\n",
       "      <th class=\"blank col3\" >&nbsp;</th>\n",
       "      <th class=\"blank col4\" >&nbsp;</th>\n",
       "      <th class=\"blank col5\" >&nbsp;</th>\n",
       "    </tr>\n",
       "  </thead>\n",
       "  <tbody>\n",
       "    <tr>\n",
       "      <th id=\"T_afa59_level0_row0\" class=\"row_heading level0 row0\" >2000-06-15 17:00:00</th>\n",
       "      <td id=\"T_afa59_row0_col0\" class=\"data row0 col0\" >15.0500</td>\n",
       "      <td id=\"T_afa59_row0_col1\" class=\"data row0 col1\" >255.1930</td>\n",
       "      <td id=\"T_afa59_row0_col2\" class=\"data row0 col2\" >5.1020</td>\n",
       "      <td id=\"T_afa59_row0_col3\" class=\"data row0 col3\" >15.1390</td>\n",
       "      <td id=\"T_afa59_row0_col4\" class=\"data row0 col4\" >287.1000</td>\n",
       "      <td id=\"T_afa59_row0_col5\" class=\"data row0 col5\" >4.9000</td>\n",
       "    </tr>\n",
       "    <tr>\n",
       "      <th id=\"T_afa59_level0_row1\" class=\"row_heading level0 row1\" >2000-06-15 17:30:00</th>\n",
       "      <td id=\"T_afa59_row1_col0\" class=\"data row1 col0\" >14.9610</td>\n",
       "      <td id=\"T_afa59_row1_col1\" class=\"data row1 col1\" >221.4270</td>\n",
       "      <td id=\"T_afa59_row1_col2\" class=\"data row1 col2\" >5.3050</td>\n",
       "      <td id=\"T_afa59_row1_col3\" class=\"data row1 col3\" >15.0500</td>\n",
       "      <td id=\"T_afa59_row1_col4\" class=\"data row1 col4\" >255.1930</td>\n",
       "      <td id=\"T_afa59_row1_col5\" class=\"data row1 col5\" >5.1020</td>\n",
       "    </tr>\n",
       "    <tr>\n",
       "      <th id=\"T_afa59_level0_row2\" class=\"row_heading level0 row2\" >2000-06-15 18:00:00</th>\n",
       "      <td id=\"T_afa59_row2_col0\" class=\"data row2 col0\" >14.8720</td>\n",
       "      <td id=\"T_afa59_row2_col1\" class=\"data row2 col1\" >186.3800</td>\n",
       "      <td id=\"T_afa59_row2_col2\" class=\"data row2 col2\" >5.5070</td>\n",
       "      <td id=\"T_afa59_row2_col3\" class=\"data row2 col3\" >14.9610</td>\n",
       "      <td id=\"T_afa59_row2_col4\" class=\"data row2 col4\" >221.4270</td>\n",
       "      <td id=\"T_afa59_row2_col5\" class=\"data row2 col5\" >5.3050</td>\n",
       "    </tr>\n",
       "    <tr>\n",
       "      <th id=\"T_afa59_level0_row3\" class=\"row_heading level0 row3\" >2000-06-15 18:30:00</th>\n",
       "      <td id=\"T_afa59_row3_col0\" class=\"data row3 col0\" >14.7830</td>\n",
       "      <td id=\"T_afa59_row3_col1\" class=\"data row3 col1\" >150.6500</td>\n",
       "      <td id=\"T_afa59_row3_col2\" class=\"data row3 col2\" >5.7100</td>\n",
       "      <td id=\"T_afa59_row3_col3\" class=\"data row3 col3\" >14.8720</td>\n",
       "      <td id=\"T_afa59_row3_col4\" class=\"data row3 col4\" >186.3800</td>\n",
       "      <td id=\"T_afa59_row3_col5\" class=\"data row3 col5\" >5.5070</td>\n",
       "    </tr>\n",
       "    <tr>\n",
       "      <th id=\"T_afa59_level0_row4\" class=\"row_heading level0 row4\" >2000-06-15 19:00:00</th>\n",
       "      <td id=\"T_afa59_row4_col0\" class=\"data row4 col0\" >14.6940</td>\n",
       "      <td id=\"T_afa59_row4_col1\" class=\"data row4 col1\" >114.8490</td>\n",
       "      <td id=\"T_afa59_row4_col2\" class=\"data row4 col2\" >5.9120</td>\n",
       "      <td id=\"T_afa59_row4_col3\" class=\"data row4 col3\" >14.7830</td>\n",
       "      <td id=\"T_afa59_row4_col4\" class=\"data row4 col4\" >150.6500</td>\n",
       "      <td id=\"T_afa59_row4_col5\" class=\"data row4 col5\" >5.7100</td>\n",
       "    </tr>\n",
       "    <tr>\n",
       "      <th id=\"T_afa59_level0_row5\" class=\"row_heading level0 row5\" >2000-06-15 19:30:00</th>\n",
       "      <td id=\"T_afa59_row5_col0\" class=\"data row5 col0\" >14.6060</td>\n",
       "      <td id=\"T_afa59_row5_col1\" class=\"data row5 col1\" >34.7280</td>\n",
       "      <td id=\"T_afa59_row5_col2\" class=\"data row5 col2\" >6.1140</td>\n",
       "      <td id=\"T_afa59_row5_col3\" class=\"data row5 col3\" >14.6940</td>\n",
       "      <td id=\"T_afa59_row5_col4\" class=\"data row5 col4\" >114.8490</td>\n",
       "      <td id=\"T_afa59_row5_col5\" class=\"data row5 col5\" >5.9120</td>\n",
       "    </tr>\n",
       "    <tr>\n",
       "      <th id=\"T_afa59_level0_row6\" class=\"row_heading level0 row6\" >2000-06-15 20:00:00</th>\n",
       "      <td id=\"T_afa59_row6_col0\" class=\"data row6 col0\" >14.3800</td>\n",
       "      <td id=\"T_afa59_row6_col1\" class=\"data row6 col1\" >19.8430</td>\n",
       "      <td id=\"T_afa59_row6_col2\" class=\"data row6 col2\" >6.0740</td>\n",
       "      <td id=\"T_afa59_row6_col3\" class=\"data row6 col3\" >14.6060</td>\n",
       "      <td id=\"T_afa59_row6_col4\" class=\"data row6 col4\" >34.7280</td>\n",
       "      <td id=\"T_afa59_row6_col5\" class=\"data row6 col5\" >6.1140</td>\n",
       "    </tr>\n",
       "    <tr>\n",
       "      <th id=\"T_afa59_level0_row7\" class=\"row_heading level0 row7\" >2000-06-15 20:30:00</th>\n",
       "      <td id=\"T_afa59_row7_col0\" class=\"data row7 col0\" >14.1550</td>\n",
       "      <td id=\"T_afa59_row7_col1\" class=\"data row7 col1\" >5.7120</td>\n",
       "      <td id=\"T_afa59_row7_col2\" class=\"data row7 col2\" >6.0340</td>\n",
       "      <td id=\"T_afa59_row7_col3\" class=\"data row7 col3\" >14.3800</td>\n",
       "      <td id=\"T_afa59_row7_col4\" class=\"data row7 col4\" >19.8430</td>\n",
       "      <td id=\"T_afa59_row7_col5\" class=\"data row7 col5\" >6.0740</td>\n",
       "    </tr>\n",
       "    <tr>\n",
       "      <th id=\"T_afa59_level0_row8\" class=\"row_heading level0 row8\" >2000-06-15 21:00:00</th>\n",
       "      <td id=\"T_afa59_row8_col0\" class=\"data row8 col0\" >13.9290</td>\n",
       "      <td id=\"T_afa59_row8_col1\" class=\"data row8 col1\" >0.0000</td>\n",
       "      <td id=\"T_afa59_row8_col2\" class=\"data row8 col2\" >5.9940</td>\n",
       "      <td id=\"T_afa59_row8_col3\" class=\"data row8 col3\" >14.1550</td>\n",
       "      <td id=\"T_afa59_row8_col4\" class=\"data row8 col4\" >5.7120</td>\n",
       "      <td id=\"T_afa59_row8_col5\" class=\"data row8 col5\" >6.0340</td>\n",
       "    </tr>\n",
       "    <tr>\n",
       "      <th id=\"T_afa59_level0_row9\" class=\"row_heading level0 row9\" >2000-06-15 21:30:00</th>\n",
       "      <td id=\"T_afa59_row9_col0\" class=\"data row9 col0\" >13.7040</td>\n",
       "      <td id=\"T_afa59_row9_col1\" class=\"data row9 col1\" >0.0000</td>\n",
       "      <td id=\"T_afa59_row9_col2\" class=\"data row9 col2\" >5.9540</td>\n",
       "      <td id=\"T_afa59_row9_col3\" class=\"data row9 col3\" >13.9290</td>\n",
       "      <td id=\"T_afa59_row9_col4\" class=\"data row9 col4\" >0.0000</td>\n",
       "      <td id=\"T_afa59_row9_col5\" class=\"data row9 col5\" >5.9940</td>\n",
       "    </tr>\n",
       "  </tbody>\n",
       "</table>\n",
       " </div></div>"
      ],
      "text/plain": [
       "__main__.MeteoImpDf(data=                        TA       SW_IN    VPD\n",
       "time                                         \n",
       "2000-06-15 17:00:00  14.22  224.800003  5.799\n",
       "2000-06-15 17:30:00  14.11  195.279999  6.577\n",
       "2000-06-15 18:00:00  14.23  244.169998  6.931\n",
       "2000-06-15 18:30:00  14.40  253.919998  7.286\n",
       "2000-06-15 19:00:00  14.09  177.309998  7.251\n",
       "2000-06-15 19:30:00  13.71   97.070000  6.683\n",
       "2000-06-15 20:00:00  13.08   39.709999  5.851\n",
       "2000-06-15 20:30:00  12.41   10.650000  5.254\n",
       "2000-06-15 21:00:00  12.27    0.320000  5.164\n",
       "2000-06-15 21:30:00  12.20    0.000000  5.037, mask=                        TA  SW_IN   VPD\n",
       "time                                   \n",
       "2000-06-15 17:00:00   True   True  True\n",
       "2000-06-15 17:30:00   True   True  True\n",
       "2000-06-15 18:00:00   True   True  True\n",
       "2000-06-15 18:30:00   True   True  True\n",
       "2000-06-15 19:00:00   True   True  True\n",
       "2000-06-15 19:30:00   True   True  True\n",
       "2000-06-15 20:00:00  False  False  True\n",
       "2000-06-15 20:30:00  False  False  True\n",
       "2000-06-15 21:00:00   True   True  True\n",
       "2000-06-15 21:30:00   True   True  True, control=                     TA_ERA   SW_IN_ERA  VPD_ERA  TA_ERA_lag_1  \\\n",
       "time                                                             \n",
       "2000-06-15 17:00:00  15.050  255.192993    5.102        15.139   \n",
       "2000-06-15 17:30:00  14.961  221.427002    5.305        15.050   \n",
       "2000-06-15 18:00:00  14.872  186.380005    5.507        14.961   \n",
       "2000-06-15 18:30:00  14.783  150.649994    5.710        14.872   \n",
       "2000-06-15 19:00:00  14.694  114.848999    5.912        14.783   \n",
       "2000-06-15 19:30:00  14.606   34.728001    6.114        14.694   \n",
       "2000-06-15 20:00:00  14.380   19.843000    6.074        14.606   \n",
       "2000-06-15 20:30:00  14.155    5.712000    6.034        14.380   \n",
       "2000-06-15 21:00:00  13.929    0.000000    5.994        14.155   \n",
       "2000-06-15 21:30:00  13.704    0.000000    5.954        13.929   \n",
       "\n",
       "                     SW_IN_ERA_lag_1  VPD_ERA_lag_1  \n",
       "time                                                 \n",
       "2000-06-15 17:00:00       287.100006          4.900  \n",
       "2000-06-15 17:30:00       255.192993          5.102  \n",
       "2000-06-15 18:00:00       221.427002          5.305  \n",
       "2000-06-15 18:30:00       186.380005          5.507  \n",
       "2000-06-15 19:00:00       150.649994          5.710  \n",
       "2000-06-15 19:30:00       114.848999          5.912  \n",
       "2000-06-15 20:00:00        34.728001          6.114  \n",
       "2000-06-15 20:30:00        19.843000          6.074  \n",
       "2000-06-15 21:00:00         5.712000          6.034  \n",
       "2000-06-15 21:30:00         0.000000          5.994  )"
      ]
     },
     "execution_count": null,
     "metadata": {},
     "output_type": "execute_result"
    }
   ],
   "source": [
    "tfms2[0]"
   ]
  },
  {
   "cell_type": "code",
   "execution_count": null,
   "id": "2f3cccff-2b4f-4817-9807-4d833f9f8b52",
   "metadata": {},
   "outputs": [],
   "source": [
    "m_df = tfms2[0]"
   ]
  },
  {
   "cell_type": "code",
   "execution_count": null,
   "id": "5952ccff-6433-48ca-8940-6ea872927cdc",
   "metadata": {},
   "outputs": [],
   "source": [
    "#| export\n",
    "@patch\n",
    "def tidy(self: MeteoImpDf):\n",
    "    data = self.data.reset_index().melt(\"time\")\n",
    "    mask = self.mask.reset_index().melt(\"time\", value_name=\"is_present\")\n",
    "    \n",
    "    return pd.merge(data, mask, on=[\"time\", \"variable\"])"
   ]
  },
  {
   "cell_type": "code",
   "execution_count": null,
   "id": "c601c37c-a032-4edb-a522-50ce0af7b87d",
   "metadata": {},
   "outputs": [
    {
     "data": {
      "text/html": [
       "<div>\n",
       "<style scoped>\n",
       "    .dataframe tbody tr th:only-of-type {\n",
       "        vertical-align: middle;\n",
       "    }\n",
       "\n",
       "    .dataframe tbody tr th {\n",
       "        vertical-align: top;\n",
       "    }\n",
       "\n",
       "    .dataframe thead th {\n",
       "        text-align: right;\n",
       "    }\n",
       "</style>\n",
       "<table border=\"1\" class=\"dataframe\">\n",
       "  <thead>\n",
       "    <tr style=\"text-align: right;\">\n",
       "      <th></th>\n",
       "      <th>time</th>\n",
       "      <th>variable</th>\n",
       "      <th>value</th>\n",
       "      <th>is_present</th>\n",
       "    </tr>\n",
       "  </thead>\n",
       "  <tbody>\n",
       "    <tr>\n",
       "      <th>0</th>\n",
       "      <td>2000-06-15 17:00:00</td>\n",
       "      <td>TA</td>\n",
       "      <td>14.220000</td>\n",
       "      <td>True</td>\n",
       "    </tr>\n",
       "    <tr>\n",
       "      <th>1</th>\n",
       "      <td>2000-06-15 17:30:00</td>\n",
       "      <td>TA</td>\n",
       "      <td>14.110000</td>\n",
       "      <td>True</td>\n",
       "    </tr>\n",
       "    <tr>\n",
       "      <th>2</th>\n",
       "      <td>2000-06-15 18:00:00</td>\n",
       "      <td>TA</td>\n",
       "      <td>14.230000</td>\n",
       "      <td>True</td>\n",
       "    </tr>\n",
       "    <tr>\n",
       "      <th>3</th>\n",
       "      <td>2000-06-15 18:30:00</td>\n",
       "      <td>TA</td>\n",
       "      <td>14.400000</td>\n",
       "      <td>True</td>\n",
       "    </tr>\n",
       "    <tr>\n",
       "      <th>4</th>\n",
       "      <td>2000-06-15 19:00:00</td>\n",
       "      <td>TA</td>\n",
       "      <td>14.090000</td>\n",
       "      <td>True</td>\n",
       "    </tr>\n",
       "    <tr>\n",
       "      <th>5</th>\n",
       "      <td>2000-06-15 19:30:00</td>\n",
       "      <td>TA</td>\n",
       "      <td>13.710000</td>\n",
       "      <td>True</td>\n",
       "    </tr>\n",
       "    <tr>\n",
       "      <th>6</th>\n",
       "      <td>2000-06-15 20:00:00</td>\n",
       "      <td>TA</td>\n",
       "      <td>13.080000</td>\n",
       "      <td>True</td>\n",
       "    </tr>\n",
       "    <tr>\n",
       "      <th>7</th>\n",
       "      <td>2000-06-15 20:30:00</td>\n",
       "      <td>TA</td>\n",
       "      <td>12.410000</td>\n",
       "      <td>False</td>\n",
       "    </tr>\n",
       "    <tr>\n",
       "      <th>8</th>\n",
       "      <td>2000-06-15 21:00:00</td>\n",
       "      <td>TA</td>\n",
       "      <td>12.270000</td>\n",
       "      <td>False</td>\n",
       "    </tr>\n",
       "    <tr>\n",
       "      <th>9</th>\n",
       "      <td>2000-06-15 21:30:00</td>\n",
       "      <td>TA</td>\n",
       "      <td>12.200000</td>\n",
       "      <td>True</td>\n",
       "    </tr>\n",
       "    <tr>\n",
       "      <th>10</th>\n",
       "      <td>2000-06-15 17:00:00</td>\n",
       "      <td>SW_IN</td>\n",
       "      <td>224.800003</td>\n",
       "      <td>True</td>\n",
       "    </tr>\n",
       "    <tr>\n",
       "      <th>11</th>\n",
       "      <td>2000-06-15 17:30:00</td>\n",
       "      <td>SW_IN</td>\n",
       "      <td>195.279999</td>\n",
       "      <td>True</td>\n",
       "    </tr>\n",
       "    <tr>\n",
       "      <th>12</th>\n",
       "      <td>2000-06-15 18:00:00</td>\n",
       "      <td>SW_IN</td>\n",
       "      <td>244.169998</td>\n",
       "      <td>True</td>\n",
       "    </tr>\n",
       "    <tr>\n",
       "      <th>13</th>\n",
       "      <td>2000-06-15 18:30:00</td>\n",
       "      <td>SW_IN</td>\n",
       "      <td>253.919998</td>\n",
       "      <td>True</td>\n",
       "    </tr>\n",
       "    <tr>\n",
       "      <th>14</th>\n",
       "      <td>2000-06-15 19:00:00</td>\n",
       "      <td>SW_IN</td>\n",
       "      <td>177.309998</td>\n",
       "      <td>True</td>\n",
       "    </tr>\n",
       "    <tr>\n",
       "      <th>15</th>\n",
       "      <td>2000-06-15 19:30:00</td>\n",
       "      <td>SW_IN</td>\n",
       "      <td>97.070000</td>\n",
       "      <td>True</td>\n",
       "    </tr>\n",
       "    <tr>\n",
       "      <th>16</th>\n",
       "      <td>2000-06-15 20:00:00</td>\n",
       "      <td>SW_IN</td>\n",
       "      <td>39.709999</td>\n",
       "      <td>True</td>\n",
       "    </tr>\n",
       "    <tr>\n",
       "      <th>17</th>\n",
       "      <td>2000-06-15 20:30:00</td>\n",
       "      <td>SW_IN</td>\n",
       "      <td>10.650000</td>\n",
       "      <td>False</td>\n",
       "    </tr>\n",
       "    <tr>\n",
       "      <th>18</th>\n",
       "      <td>2000-06-15 21:00:00</td>\n",
       "      <td>SW_IN</td>\n",
       "      <td>0.320000</td>\n",
       "      <td>False</td>\n",
       "    </tr>\n",
       "    <tr>\n",
       "      <th>19</th>\n",
       "      <td>2000-06-15 21:30:00</td>\n",
       "      <td>SW_IN</td>\n",
       "      <td>0.000000</td>\n",
       "      <td>True</td>\n",
       "    </tr>\n",
       "    <tr>\n",
       "      <th>20</th>\n",
       "      <td>2000-06-15 17:00:00</td>\n",
       "      <td>VPD</td>\n",
       "      <td>5.799000</td>\n",
       "      <td>True</td>\n",
       "    </tr>\n",
       "    <tr>\n",
       "      <th>21</th>\n",
       "      <td>2000-06-15 17:30:00</td>\n",
       "      <td>VPD</td>\n",
       "      <td>6.577000</td>\n",
       "      <td>True</td>\n",
       "    </tr>\n",
       "    <tr>\n",
       "      <th>22</th>\n",
       "      <td>2000-06-15 18:00:00</td>\n",
       "      <td>VPD</td>\n",
       "      <td>6.931000</td>\n",
       "      <td>True</td>\n",
       "    </tr>\n",
       "    <tr>\n",
       "      <th>23</th>\n",
       "      <td>2000-06-15 18:30:00</td>\n",
       "      <td>VPD</td>\n",
       "      <td>7.286000</td>\n",
       "      <td>True</td>\n",
       "    </tr>\n",
       "    <tr>\n",
       "      <th>24</th>\n",
       "      <td>2000-06-15 19:00:00</td>\n",
       "      <td>VPD</td>\n",
       "      <td>7.251000</td>\n",
       "      <td>True</td>\n",
       "    </tr>\n",
       "    <tr>\n",
       "      <th>25</th>\n",
       "      <td>2000-06-15 19:30:00</td>\n",
       "      <td>VPD</td>\n",
       "      <td>6.683000</td>\n",
       "      <td>True</td>\n",
       "    </tr>\n",
       "    <tr>\n",
       "      <th>26</th>\n",
       "      <td>2000-06-15 20:00:00</td>\n",
       "      <td>VPD</td>\n",
       "      <td>5.851000</td>\n",
       "      <td>True</td>\n",
       "    </tr>\n",
       "    <tr>\n",
       "      <th>27</th>\n",
       "      <td>2000-06-15 20:30:00</td>\n",
       "      <td>VPD</td>\n",
       "      <td>5.254000</td>\n",
       "      <td>True</td>\n",
       "    </tr>\n",
       "    <tr>\n",
       "      <th>28</th>\n",
       "      <td>2000-06-15 21:00:00</td>\n",
       "      <td>VPD</td>\n",
       "      <td>5.164000</td>\n",
       "      <td>True</td>\n",
       "    </tr>\n",
       "    <tr>\n",
       "      <th>29</th>\n",
       "      <td>2000-06-15 21:30:00</td>\n",
       "      <td>VPD</td>\n",
       "      <td>5.037000</td>\n",
       "      <td>True</td>\n",
       "    </tr>\n",
       "  </tbody>\n",
       "</table>\n",
       "</div>"
      ],
      "text/plain": [
       "                  time variable       value  is_present\n",
       "0  2000-06-15 17:00:00       TA   14.220000        True\n",
       "1  2000-06-15 17:30:00       TA   14.110000        True\n",
       "2  2000-06-15 18:00:00       TA   14.230000        True\n",
       "3  2000-06-15 18:30:00       TA   14.400000        True\n",
       "4  2000-06-15 19:00:00       TA   14.090000        True\n",
       "5  2000-06-15 19:30:00       TA   13.710000        True\n",
       "6  2000-06-15 20:00:00       TA   13.080000        True\n",
       "7  2000-06-15 20:30:00       TA   12.410000       False\n",
       "8  2000-06-15 21:00:00       TA   12.270000       False\n",
       "9  2000-06-15 21:30:00       TA   12.200000        True\n",
       "10 2000-06-15 17:00:00    SW_IN  224.800003        True\n",
       "11 2000-06-15 17:30:00    SW_IN  195.279999        True\n",
       "12 2000-06-15 18:00:00    SW_IN  244.169998        True\n",
       "13 2000-06-15 18:30:00    SW_IN  253.919998        True\n",
       "14 2000-06-15 19:00:00    SW_IN  177.309998        True\n",
       "15 2000-06-15 19:30:00    SW_IN   97.070000        True\n",
       "16 2000-06-15 20:00:00    SW_IN   39.709999        True\n",
       "17 2000-06-15 20:30:00    SW_IN   10.650000       False\n",
       "18 2000-06-15 21:00:00    SW_IN    0.320000       False\n",
       "19 2000-06-15 21:30:00    SW_IN    0.000000        True\n",
       "20 2000-06-15 17:00:00      VPD    5.799000        True\n",
       "21 2000-06-15 17:30:00      VPD    6.577000        True\n",
       "22 2000-06-15 18:00:00      VPD    6.931000        True\n",
       "23 2000-06-15 18:30:00      VPD    7.286000        True\n",
       "24 2000-06-15 19:00:00      VPD    7.251000        True\n",
       "25 2000-06-15 19:30:00      VPD    6.683000        True\n",
       "26 2000-06-15 20:00:00      VPD    5.851000        True\n",
       "27 2000-06-15 20:30:00      VPD    5.254000        True\n",
       "28 2000-06-15 21:00:00      VPD    5.164000        True\n",
       "29 2000-06-15 21:30:00      VPD    5.037000        True"
      ]
     },
     "execution_count": null,
     "metadata": {},
     "output_type": "execute_result"
    }
   ],
   "source": [
    "m_df.tidy()"
   ]
  },
  {
   "cell_type": "markdown",
   "id": "9d2c8fbc-f1e1-4938-b4a6-d29d8bd8e6bd",
   "metadata": {},
   "source": [
    "#### Plotting"
   ]
  },
  {
   "cell_type": "code",
   "execution_count": null,
   "id": "f36f4825-52e4-49c7-92f1-14d64429e3ea",
   "metadata": {},
   "outputs": [],
   "source": [
    "#| export\n",
    "import altair as alt\n",
    "from altair import datum"
   ]
  },
  {
   "cell_type": "code",
   "execution_count": null,
   "id": "51544d62-63ca-4e6c-b63e-943cc739fa5b",
   "metadata": {},
   "outputs": [],
   "source": [
    "#| exporti\n",
    "def def_selection():\n",
    "    return alt.selection_interval(bind=\"scales\")"
   ]
  },
  {
   "cell_type": "markdown",
   "id": "fb225f9b-770d-4d41-941d-08c32cd65927",
   "metadata": {},
   "source": [
    "##### Rug"
   ]
  },
  {
   "cell_type": "code",
   "execution_count": null,
   "id": "7f1e483f-f250-4baf-82ee-3958f5cefba8",
   "metadata": {},
   "outputs": [],
   "source": [
    "#| exporti\n",
    "def plot_rug(df, sel = def_selection(), props = {}):\n",
    "    if 'height' in props:\n",
    "        props = props.copy() \n",
    "        props.pop('height') # rug should have default heigth\n",
    "    return alt.Chart(df).mark_tick(\n",
    "            color='black',\n",
    "        ).encode(\n",
    "            x = \"time\",\n",
    "            color = alt.condition(datum.is_present, alt.value('white'), alt.value('black'))\n",
    "        ).add_params(\n",
    "            sel\n",
    "        ).properties(**props) "
   ]
  },
  {
   "cell_type": "code",
   "execution_count": null,
   "id": "f9668bee-f4dd-48e6-92cd-4b96f1f3626e",
   "metadata": {},
   "outputs": [
    {
     "data": {
      "text/html": [
       "\n",
       "<div id=\"altair-viz-5ce29b2da4cb4a52be50af54d93606c3\"></div>\n",
       "<script type=\"text/javascript\">\n",
       "  var VEGA_DEBUG = (typeof VEGA_DEBUG == \"undefined\") ? {} : VEGA_DEBUG;\n",
       "  (function(spec, embedOpt){\n",
       "    let outputDiv = document.currentScript.previousElementSibling;\n",
       "    if (outputDiv.id !== \"altair-viz-5ce29b2da4cb4a52be50af54d93606c3\") {\n",
       "      outputDiv = document.getElementById(\"altair-viz-5ce29b2da4cb4a52be50af54d93606c3\");\n",
       "    }\n",
       "    const paths = {\n",
       "      \"vega\": \"https://cdn.jsdelivr.net/npm//vega@5?noext\",\n",
       "      \"vega-lib\": \"https://cdn.jsdelivr.net/npm//vega-lib?noext\",\n",
       "      \"vega-lite\": \"https://cdn.jsdelivr.net/npm//vega-lite@5.2.0?noext\",\n",
       "      \"vega-embed\": \"https://cdn.jsdelivr.net/npm//vega-embed@6?noext\",\n",
       "    };\n",
       "\n",
       "    function maybeLoadScript(lib, version) {\n",
       "      var key = `${lib.replace(\"-\", \"\")}_version`;\n",
       "      return (VEGA_DEBUG[key] == version) ?\n",
       "        Promise.resolve(paths[lib]) :\n",
       "        new Promise(function(resolve, reject) {\n",
       "          var s = document.createElement('script');\n",
       "          document.getElementsByTagName(\"head\")[0].appendChild(s);\n",
       "          s.async = true;\n",
       "          s.onload = () => {\n",
       "            VEGA_DEBUG[key] = version;\n",
       "            return resolve(paths[lib]);\n",
       "          };\n",
       "          s.onerror = () => reject(`Error loading script: ${paths[lib]}`);\n",
       "          s.src = paths[lib];\n",
       "        });\n",
       "    }\n",
       "\n",
       "    function showError(err) {\n",
       "      outputDiv.innerHTML = `<div class=\"error\" style=\"color:red;\">${err}</div>`;\n",
       "      throw err;\n",
       "    }\n",
       "\n",
       "    function displayChart(vegaEmbed) {\n",
       "      vegaEmbed(outputDiv, spec, embedOpt)\n",
       "        .catch(err => showError(`Javascript Error: ${err.message}<br>This usually means there's a typo in your chart specification. See the javascript console for the full traceback.`));\n",
       "    }\n",
       "\n",
       "    if(typeof define === \"function\" && define.amd) {\n",
       "      requirejs.config({paths});\n",
       "      require([\"vega-embed\"], displayChart, err => showError(`Error loading script: ${err.message}`));\n",
       "    } else {\n",
       "      maybeLoadScript(\"vega\", \"5\")\n",
       "        .then(() => maybeLoadScript(\"vega-lite\", \"5.2.0\"))\n",
       "        .then(() => maybeLoadScript(\"vega-embed\", \"6\"))\n",
       "        .catch(showError)\n",
       "        .then(() => displayChart(vegaEmbed));\n",
       "    }\n",
       "  })({\"config\": {\"view\": {\"continuousWidth\": 400, \"continuousHeight\": 300}}, \"data\": {\"name\": \"data-e50c02d862731cf9f9a0daad851eec81\"}, \"mark\": {\"type\": \"tick\", \"color\": \"black\"}, \"encoding\": {\"color\": {\"condition\": {\"value\": \"white\", \"test\": \"datum.is_present\"}, \"value\": \"black\"}, \"x\": {\"field\": \"time\", \"type\": \"temporal\"}}, \"params\": [{\"name\": \"param_73\", \"select\": {\"type\": \"interval\"}, \"bind\": \"scales\"}], \"$schema\": \"https://vega.github.io/schema/vega-lite/v5.2.0.json\", \"datasets\": {\"data-e50c02d862731cf9f9a0daad851eec81\": [{\"time\": \"2000-06-15T17:00:00\", \"variable\": \"TA\", \"value\": 14.220000267028809, \"is_present\": true}, {\"time\": \"2000-06-15T17:30:00\", \"variable\": \"TA\", \"value\": 14.109999656677246, \"is_present\": true}, {\"time\": \"2000-06-15T18:00:00\", \"variable\": \"TA\", \"value\": 14.229999542236328, \"is_present\": true}, {\"time\": \"2000-06-15T18:30:00\", \"variable\": \"TA\", \"value\": 14.399999618530273, \"is_present\": true}, {\"time\": \"2000-06-15T19:00:00\", \"variable\": \"TA\", \"value\": 14.09000015258789, \"is_present\": true}, {\"time\": \"2000-06-15T19:30:00\", \"variable\": \"TA\", \"value\": 13.710000038146973, \"is_present\": true}, {\"time\": \"2000-06-15T20:00:00\", \"variable\": \"TA\", \"value\": 13.079999923706055, \"is_present\": true}, {\"time\": \"2000-06-15T20:30:00\", \"variable\": \"TA\", \"value\": 12.40999984741211, \"is_present\": false}, {\"time\": \"2000-06-15T21:00:00\", \"variable\": \"TA\", \"value\": 12.270000457763672, \"is_present\": false}, {\"time\": \"2000-06-15T21:30:00\", \"variable\": \"TA\", \"value\": 12.199999809265137, \"is_present\": true}, {\"time\": \"2000-06-15T17:00:00\", \"variable\": \"SW_IN\", \"value\": 224.8000030517578, \"is_present\": true}, {\"time\": \"2000-06-15T17:30:00\", \"variable\": \"SW_IN\", \"value\": 195.27999877929688, \"is_present\": true}, {\"time\": \"2000-06-15T18:00:00\", \"variable\": \"SW_IN\", \"value\": 244.1699981689453, \"is_present\": true}, {\"time\": \"2000-06-15T18:30:00\", \"variable\": \"SW_IN\", \"value\": 253.9199981689453, \"is_present\": true}, {\"time\": \"2000-06-15T19:00:00\", \"variable\": \"SW_IN\", \"value\": 177.30999755859375, \"is_present\": true}, {\"time\": \"2000-06-15T19:30:00\", \"variable\": \"SW_IN\", \"value\": 97.06999969482422, \"is_present\": true}, {\"time\": \"2000-06-15T20:00:00\", \"variable\": \"SW_IN\", \"value\": 39.709999084472656, \"is_present\": true}, {\"time\": \"2000-06-15T20:30:00\", \"variable\": \"SW_IN\", \"value\": 10.649999618530273, \"is_present\": false}, {\"time\": \"2000-06-15T21:00:00\", \"variable\": \"SW_IN\", \"value\": 0.3199999928474426, \"is_present\": false}, {\"time\": \"2000-06-15T21:30:00\", \"variable\": \"SW_IN\", \"value\": 0.0, \"is_present\": true}, {\"time\": \"2000-06-15T17:00:00\", \"variable\": \"VPD\", \"value\": 5.798999786376953, \"is_present\": true}, {\"time\": \"2000-06-15T17:30:00\", \"variable\": \"VPD\", \"value\": 6.577000141143799, \"is_present\": true}, {\"time\": \"2000-06-15T18:00:00\", \"variable\": \"VPD\", \"value\": 6.931000232696533, \"is_present\": true}, {\"time\": \"2000-06-15T18:30:00\", \"variable\": \"VPD\", \"value\": 7.285999774932861, \"is_present\": true}, {\"time\": \"2000-06-15T19:00:00\", \"variable\": \"VPD\", \"value\": 7.250999927520752, \"is_present\": true}, {\"time\": \"2000-06-15T19:30:00\", \"variable\": \"VPD\", \"value\": 6.683000087738037, \"is_present\": true}, {\"time\": \"2000-06-15T20:00:00\", \"variable\": \"VPD\", \"value\": 5.85099983215332, \"is_present\": true}, {\"time\": \"2000-06-15T20:30:00\", \"variable\": \"VPD\", \"value\": 5.254000186920166, \"is_present\": true}, {\"time\": \"2000-06-15T21:00:00\", \"variable\": \"VPD\", \"value\": 5.164000034332275, \"is_present\": true}, {\"time\": \"2000-06-15T21:30:00\", \"variable\": \"VPD\", \"value\": 5.0370001792907715, \"is_present\": true}]}}, {\"mode\": \"vega-lite\"});\n",
       "</script>"
      ],
      "text/plain": [
       "alt.Chart(...)"
      ]
     },
     "execution_count": null,
     "metadata": {},
     "output_type": "execute_result"
    }
   ],
   "source": [
    "plot_rug(m_df.tidy())"
   ]
  },
  {
   "cell_type": "code",
   "execution_count": null,
   "id": "bdefec0f-d6f6-4567-a187-a005d585fde6",
   "metadata": {},
   "outputs": [],
   "source": [
    "df = m_df.tidy()"
   ]
  },
  {
   "cell_type": "code",
   "execution_count": null,
   "id": "d6b0071d-6545-475d-8230-f0855dfe541f",
   "metadata": {},
   "outputs": [],
   "source": [
    "df = df[df.variable==\"TA\"].copy()"
   ]
  },
  {
   "cell_type": "code",
   "execution_count": null,
   "id": "6ed27295-faac-42e7-9f06-449e7b247531",
   "metadata": {},
   "outputs": [],
   "source": [
    "df['row_number'] = df.reset_index().index"
   ]
  },
  {
   "cell_type": "code",
   "execution_count": null,
   "id": "21b363a1-fb47-4569-87e9-46b0c6b0c3d0",
   "metadata": {},
   "outputs": [
    {
     "data": {
      "text/html": [
       "<div>\n",
       "<style scoped>\n",
       "    .dataframe tbody tr th:only-of-type {\n",
       "        vertical-align: middle;\n",
       "    }\n",
       "\n",
       "    .dataframe tbody tr th {\n",
       "        vertical-align: top;\n",
       "    }\n",
       "\n",
       "    .dataframe thead th {\n",
       "        text-align: right;\n",
       "    }\n",
       "</style>\n",
       "<table border=\"1\" class=\"dataframe\">\n",
       "  <thead>\n",
       "    <tr style=\"text-align: right;\">\n",
       "      <th></th>\n",
       "      <th>time</th>\n",
       "      <th>variable</th>\n",
       "      <th>value</th>\n",
       "      <th>is_present</th>\n",
       "      <th>row_number</th>\n",
       "    </tr>\n",
       "  </thead>\n",
       "  <tbody>\n",
       "    <tr>\n",
       "      <th>0</th>\n",
       "      <td>2000-06-15 17:00:00</td>\n",
       "      <td>TA</td>\n",
       "      <td>14.22</td>\n",
       "      <td>True</td>\n",
       "      <td>0</td>\n",
       "    </tr>\n",
       "    <tr>\n",
       "      <th>1</th>\n",
       "      <td>2000-06-15 17:30:00</td>\n",
       "      <td>TA</td>\n",
       "      <td>14.11</td>\n",
       "      <td>True</td>\n",
       "      <td>1</td>\n",
       "    </tr>\n",
       "    <tr>\n",
       "      <th>2</th>\n",
       "      <td>2000-06-15 18:00:00</td>\n",
       "      <td>TA</td>\n",
       "      <td>14.23</td>\n",
       "      <td>True</td>\n",
       "      <td>2</td>\n",
       "    </tr>\n",
       "    <tr>\n",
       "      <th>3</th>\n",
       "      <td>2000-06-15 18:30:00</td>\n",
       "      <td>TA</td>\n",
       "      <td>14.40</td>\n",
       "      <td>True</td>\n",
       "      <td>3</td>\n",
       "    </tr>\n",
       "    <tr>\n",
       "      <th>4</th>\n",
       "      <td>2000-06-15 19:00:00</td>\n",
       "      <td>TA</td>\n",
       "      <td>14.09</td>\n",
       "      <td>True</td>\n",
       "      <td>4</td>\n",
       "    </tr>\n",
       "    <tr>\n",
       "      <th>5</th>\n",
       "      <td>2000-06-15 19:30:00</td>\n",
       "      <td>TA</td>\n",
       "      <td>13.71</td>\n",
       "      <td>True</td>\n",
       "      <td>5</td>\n",
       "    </tr>\n",
       "    <tr>\n",
       "      <th>6</th>\n",
       "      <td>2000-06-15 20:00:00</td>\n",
       "      <td>TA</td>\n",
       "      <td>13.08</td>\n",
       "      <td>True</td>\n",
       "      <td>6</td>\n",
       "    </tr>\n",
       "    <tr>\n",
       "      <th>7</th>\n",
       "      <td>2000-06-15 20:30:00</td>\n",
       "      <td>TA</td>\n",
       "      <td>12.41</td>\n",
       "      <td>False</td>\n",
       "      <td>7</td>\n",
       "    </tr>\n",
       "    <tr>\n",
       "      <th>8</th>\n",
       "      <td>2000-06-15 21:00:00</td>\n",
       "      <td>TA</td>\n",
       "      <td>12.27</td>\n",
       "      <td>False</td>\n",
       "      <td>8</td>\n",
       "    </tr>\n",
       "    <tr>\n",
       "      <th>9</th>\n",
       "      <td>2000-06-15 21:30:00</td>\n",
       "      <td>TA</td>\n",
       "      <td>12.20</td>\n",
       "      <td>True</td>\n",
       "      <td>9</td>\n",
       "    </tr>\n",
       "  </tbody>\n",
       "</table>\n",
       "</div>"
      ],
      "text/plain": [
       "                 time variable  value  is_present  row_number\n",
       "0 2000-06-15 17:00:00       TA  14.22        True           0\n",
       "1 2000-06-15 17:30:00       TA  14.11        True           1\n",
       "2 2000-06-15 18:00:00       TA  14.23        True           2\n",
       "3 2000-06-15 18:30:00       TA  14.40        True           3\n",
       "4 2000-06-15 19:00:00       TA  14.09        True           4\n",
       "5 2000-06-15 19:30:00       TA  13.71        True           5\n",
       "6 2000-06-15 20:00:00       TA  13.08        True           6\n",
       "7 2000-06-15 20:30:00       TA  12.41       False           7\n",
       "8 2000-06-15 21:00:00       TA  12.27       False           8\n",
       "9 2000-06-15 21:30:00       TA  12.20        True           9"
      ]
     },
     "execution_count": null,
     "metadata": {},
     "output_type": "execute_result"
    }
   ],
   "source": [
    "df"
   ]
  },
  {
   "cell_type": "code",
   "execution_count": null,
   "id": "f6c46a29-3900-4a8c-b80a-dfdf374591f8",
   "metadata": {},
   "outputs": [
    {
     "data": {
      "text/plain": [
       "time          2000-06-15 17:30:00\n",
       "variable                       TA\n",
       "value                       14.11\n",
       "is_present                   True\n",
       "row_number                      1\n",
       "Name: 1, dtype: object"
      ]
     },
     "execution_count": null,
     "metadata": {},
     "output_type": "execute_result"
    }
   ],
   "source": [
    "df.iloc[1]"
   ]
  },
  {
   "cell_type": "code",
   "execution_count": null,
   "id": "6571fccf-df94-4339-bd7d-6b7d8a485c84",
   "metadata": {},
   "outputs": [],
   "source": [
    "df.loc[2, \"is_present\"] = True"
   ]
  },
  {
   "cell_type": "code",
   "execution_count": null,
   "id": "02874424-e189-4097-bcce-e9a3018e5603",
   "metadata": {},
   "outputs": [
    {
     "data": {
      "text/html": [
       "<div>\n",
       "<style scoped>\n",
       "    .dataframe tbody tr th:only-of-type {\n",
       "        vertical-align: middle;\n",
       "    }\n",
       "\n",
       "    .dataframe tbody tr th {\n",
       "        vertical-align: top;\n",
       "    }\n",
       "\n",
       "    .dataframe thead th {\n",
       "        text-align: right;\n",
       "    }\n",
       "</style>\n",
       "<table border=\"1\" class=\"dataframe\">\n",
       "  <thead>\n",
       "    <tr style=\"text-align: right;\">\n",
       "      <th></th>\n",
       "      <th>time</th>\n",
       "      <th>variable</th>\n",
       "      <th>value</th>\n",
       "      <th>is_present</th>\n",
       "      <th>row_number</th>\n",
       "    </tr>\n",
       "  </thead>\n",
       "  <tbody>\n",
       "    <tr>\n",
       "      <th>0</th>\n",
       "      <td>2000-06-15 17:00:00</td>\n",
       "      <td>TA</td>\n",
       "      <td>14.22</td>\n",
       "      <td>True</td>\n",
       "      <td>0</td>\n",
       "    </tr>\n",
       "    <tr>\n",
       "      <th>1</th>\n",
       "      <td>2000-06-15 17:30:00</td>\n",
       "      <td>TA</td>\n",
       "      <td>14.11</td>\n",
       "      <td>True</td>\n",
       "      <td>1</td>\n",
       "    </tr>\n",
       "    <tr>\n",
       "      <th>2</th>\n",
       "      <td>2000-06-15 18:00:00</td>\n",
       "      <td>TA</td>\n",
       "      <td>14.23</td>\n",
       "      <td>True</td>\n",
       "      <td>2</td>\n",
       "    </tr>\n",
       "    <tr>\n",
       "      <th>3</th>\n",
       "      <td>2000-06-15 18:30:00</td>\n",
       "      <td>TA</td>\n",
       "      <td>14.40</td>\n",
       "      <td>True</td>\n",
       "      <td>3</td>\n",
       "    </tr>\n",
       "    <tr>\n",
       "      <th>4</th>\n",
       "      <td>2000-06-15 19:00:00</td>\n",
       "      <td>TA</td>\n",
       "      <td>14.09</td>\n",
       "      <td>True</td>\n",
       "      <td>4</td>\n",
       "    </tr>\n",
       "    <tr>\n",
       "      <th>5</th>\n",
       "      <td>2000-06-15 19:30:00</td>\n",
       "      <td>TA</td>\n",
       "      <td>13.71</td>\n",
       "      <td>True</td>\n",
       "      <td>5</td>\n",
       "    </tr>\n",
       "    <tr>\n",
       "      <th>6</th>\n",
       "      <td>2000-06-15 20:00:00</td>\n",
       "      <td>TA</td>\n",
       "      <td>13.08</td>\n",
       "      <td>True</td>\n",
       "      <td>6</td>\n",
       "    </tr>\n",
       "    <tr>\n",
       "      <th>7</th>\n",
       "      <td>2000-06-15 20:30:00</td>\n",
       "      <td>TA</td>\n",
       "      <td>12.41</td>\n",
       "      <td>False</td>\n",
       "      <td>7</td>\n",
       "    </tr>\n",
       "    <tr>\n",
       "      <th>8</th>\n",
       "      <td>2000-06-15 21:00:00</td>\n",
       "      <td>TA</td>\n",
       "      <td>12.27</td>\n",
       "      <td>False</td>\n",
       "      <td>8</td>\n",
       "    </tr>\n",
       "    <tr>\n",
       "      <th>9</th>\n",
       "      <td>2000-06-15 21:30:00</td>\n",
       "      <td>TA</td>\n",
       "      <td>12.20</td>\n",
       "      <td>True</td>\n",
       "      <td>9</td>\n",
       "    </tr>\n",
       "  </tbody>\n",
       "</table>\n",
       "</div>"
      ],
      "text/plain": [
       "                 time variable  value  is_present  row_number\n",
       "0 2000-06-15 17:00:00       TA  14.22        True           0\n",
       "1 2000-06-15 17:30:00       TA  14.11        True           1\n",
       "2 2000-06-15 18:00:00       TA  14.23        True           2\n",
       "3 2000-06-15 18:30:00       TA  14.40        True           3\n",
       "4 2000-06-15 19:00:00       TA  14.09        True           4\n",
       "5 2000-06-15 19:30:00       TA  13.71        True           5\n",
       "6 2000-06-15 20:00:00       TA  13.08        True           6\n",
       "7 2000-06-15 20:30:00       TA  12.41       False           7\n",
       "8 2000-06-15 21:00:00       TA  12.27       False           8\n",
       "9 2000-06-15 21:30:00       TA  12.20        True           9"
      ]
     },
     "execution_count": null,
     "metadata": {},
     "output_type": "execute_result"
    }
   ],
   "source": [
    "df"
   ]
  },
  {
   "cell_type": "code",
   "execution_count": null,
   "id": "6bc69f42-fbae-4393-a474-7dd845a2c469",
   "metadata": {},
   "outputs": [],
   "source": [
    "i = 1\n",
    "prev, curr, next = df.iloc[i-1], df.iloc[i], df.iloc[i+1]"
   ]
  },
  {
   "cell_type": "code",
   "execution_count": null,
   "id": "091cedd6-11d6-4086-a0e3-69d2a2b0c3e6",
   "metadata": {},
   "outputs": [
    {
     "data": {
      "text/plain": [
       "(time          2000-06-15 17:00:00\n",
       " variable                       TA\n",
       " value                       14.22\n",
       " is_present                   True\n",
       " row_number                      0\n",
       " Name: 0, dtype: object,\n",
       " time          2000-06-15 17:30:00\n",
       " variable                       TA\n",
       " value                       14.11\n",
       " is_present                   True\n",
       " row_number                      1\n",
       " Name: 1, dtype: object,\n",
       " time          2000-06-15 18:00:00\n",
       " variable                       TA\n",
       " value                       14.23\n",
       " is_present                   True\n",
       " row_number                      2\n",
       " Name: 2, dtype: object)"
      ]
     },
     "execution_count": null,
     "metadata": {},
     "output_type": "execute_result"
    }
   ],
   "source": [
    "prev, curr, next"
   ]
  },
  {
   "cell_type": "code",
   "execution_count": null,
   "id": "8ef120c9-d2f4-4b89-bfa5-e6a8758f16bd",
   "metadata": {},
   "outputs": [
    {
     "data": {
      "text/html": [
       "<div>\n",
       "<style scoped>\n",
       "    .dataframe tbody tr th:only-of-type {\n",
       "        vertical-align: middle;\n",
       "    }\n",
       "\n",
       "    .dataframe tbody tr th {\n",
       "        vertical-align: top;\n",
       "    }\n",
       "\n",
       "    .dataframe thead th {\n",
       "        text-align: right;\n",
       "    }\n",
       "</style>\n",
       "<table border=\"1\" class=\"dataframe\">\n",
       "  <thead>\n",
       "    <tr style=\"text-align: right;\">\n",
       "      <th></th>\n",
       "      <th>time</th>\n",
       "      <th>variable</th>\n",
       "      <th>value</th>\n",
       "      <th>is_present</th>\n",
       "      <th>row_number</th>\n",
       "    </tr>\n",
       "  </thead>\n",
       "  <tbody>\n",
       "    <tr>\n",
       "      <th>0</th>\n",
       "      <td>2000-06-15 17:00:00</td>\n",
       "      <td>TA</td>\n",
       "      <td>14.22</td>\n",
       "      <td>True</td>\n",
       "      <td>0</td>\n",
       "    </tr>\n",
       "    <tr>\n",
       "      <th>1</th>\n",
       "      <td>2000-06-15 17:30:00</td>\n",
       "      <td>TA</td>\n",
       "      <td>14.11</td>\n",
       "      <td>True</td>\n",
       "      <td>1</td>\n",
       "    </tr>\n",
       "    <tr>\n",
       "      <th>2</th>\n",
       "      <td>2000-06-15 18:00:00</td>\n",
       "      <td>TA</td>\n",
       "      <td>14.23</td>\n",
       "      <td>True</td>\n",
       "      <td>2</td>\n",
       "    </tr>\n",
       "    <tr>\n",
       "      <th>3</th>\n",
       "      <td>2000-06-15 18:30:00</td>\n",
       "      <td>TA</td>\n",
       "      <td>14.40</td>\n",
       "      <td>True</td>\n",
       "      <td>3</td>\n",
       "    </tr>\n",
       "    <tr>\n",
       "      <th>4</th>\n",
       "      <td>2000-06-15 19:00:00</td>\n",
       "      <td>TA</td>\n",
       "      <td>14.09</td>\n",
       "      <td>True</td>\n",
       "      <td>4</td>\n",
       "    </tr>\n",
       "    <tr>\n",
       "      <th>5</th>\n",
       "      <td>2000-06-15 19:30:00</td>\n",
       "      <td>TA</td>\n",
       "      <td>13.71</td>\n",
       "      <td>True</td>\n",
       "      <td>5</td>\n",
       "    </tr>\n",
       "    <tr>\n",
       "      <th>6</th>\n",
       "      <td>2000-06-15 20:00:00</td>\n",
       "      <td>TA</td>\n",
       "      <td>13.08</td>\n",
       "      <td>True</td>\n",
       "      <td>6</td>\n",
       "    </tr>\n",
       "    <tr>\n",
       "      <th>7</th>\n",
       "      <td>2000-06-15 20:30:00</td>\n",
       "      <td>TA</td>\n",
       "      <td>12.41</td>\n",
       "      <td>False</td>\n",
       "      <td>7</td>\n",
       "    </tr>\n",
       "    <tr>\n",
       "      <th>8</th>\n",
       "      <td>2000-06-15 21:00:00</td>\n",
       "      <td>TA</td>\n",
       "      <td>12.27</td>\n",
       "      <td>False</td>\n",
       "      <td>8</td>\n",
       "    </tr>\n",
       "    <tr>\n",
       "      <th>9</th>\n",
       "      <td>2000-06-15 21:30:00</td>\n",
       "      <td>TA</td>\n",
       "      <td>12.20</td>\n",
       "      <td>True</td>\n",
       "      <td>9</td>\n",
       "    </tr>\n",
       "  </tbody>\n",
       "</table>\n",
       "</div>"
      ],
      "text/plain": [
       "                 time variable  value  is_present  row_number\n",
       "0 2000-06-15 17:00:00       TA  14.22        True           0\n",
       "1 2000-06-15 17:30:00       TA  14.11        True           1\n",
       "2 2000-06-15 18:00:00       TA  14.23        True           2\n",
       "3 2000-06-15 18:30:00       TA  14.40        True           3\n",
       "4 2000-06-15 19:00:00       TA  14.09        True           4\n",
       "5 2000-06-15 19:30:00       TA  13.71        True           5\n",
       "6 2000-06-15 20:00:00       TA  13.08        True           6\n",
       "7 2000-06-15 20:30:00       TA  12.41       False           7\n",
       "8 2000-06-15 21:00:00       TA  12.27       False           8\n",
       "9 2000-06-15 21:30:00       TA  12.20        True           9"
      ]
     },
     "execution_count": null,
     "metadata": {},
     "output_type": "execute_result"
    }
   ],
   "source": [
    "df"
   ]
  },
  {
   "cell_type": "code",
   "execution_count": null,
   "id": "d9b58d08-3aab-4c42-8466-985aeb5abc54",
   "metadata": {},
   "outputs": [
    {
     "name": "stdout",
     "output_type": "stream",
     "text": [
      "gap start 2000-06-15 20:30:00\n",
      "gap end 2000-06-15 21:00:00\n"
     ]
    }
   ],
   "source": [
    "for i in range(len(df)):\n",
    "    # handle boundaries\n",
    "    prev = df.iloc[i-1].is_present if i>0 else True \n",
    "    next = df.iloc[i+1].is_present if i<(len(df)-1) else True \n",
    "    curr = df.iloc[i]\n",
    "    if not curr.is_present and prev:\n",
    "        print(\"gap start\", curr.time)\n",
    "    if not curr.is_present and next:\n",
    "        print(\"gap end\", curr.time)"
   ]
  },
  {
   "cell_type": "code",
   "execution_count": null,
   "id": "34b96982-b6f3-4405-8583-0e207978eac3",
   "metadata": {},
   "outputs": [],
   "source": [
    "#| export\n",
    "def find_gap_limits(df):\n",
    "    gap_starts, gap_ends = [], []\n",
    "    for i in range(len(df)):\n",
    "        prev = df.iloc[i-1].is_present if i>0 else True \n",
    "        next = df.iloc[i+1].is_present if i<(len(df)-1) else True \n",
    "        curr = df.iloc[i]\n",
    "        if not curr.is_present and prev: gap_starts.append(curr.time)\n",
    "        if not curr.is_present and next: gap_ends.append(curr.time)\n",
    "    return pd.DataFrame({'gap_start': gap_starts, 'gap_end': gap_ends})\n",
    "    "
   ]
  },
  {
   "cell_type": "code",
   "execution_count": null,
   "id": "1e634f1e-0d8e-4e9f-a843-a3c9ded54bae",
   "metadata": {},
   "outputs": [
    {
     "data": {
      "text/html": [
       "<div>\n",
       "<style scoped>\n",
       "    .dataframe tbody tr th:only-of-type {\n",
       "        vertical-align: middle;\n",
       "    }\n",
       "\n",
       "    .dataframe tbody tr th {\n",
       "        vertical-align: top;\n",
       "    }\n",
       "\n",
       "    .dataframe thead th {\n",
       "        text-align: right;\n",
       "    }\n",
       "</style>\n",
       "<table border=\"1\" class=\"dataframe\">\n",
       "  <thead>\n",
       "    <tr style=\"text-align: right;\">\n",
       "      <th></th>\n",
       "      <th>gap_start</th>\n",
       "      <th>gap_end</th>\n",
       "    </tr>\n",
       "  </thead>\n",
       "  <tbody>\n",
       "    <tr>\n",
       "      <th>0</th>\n",
       "      <td>2000-06-15 20:30:00</td>\n",
       "      <td>2000-06-15 21:00:00</td>\n",
       "    </tr>\n",
       "  </tbody>\n",
       "</table>\n",
       "</div>"
      ],
      "text/plain": [
       "            gap_start             gap_end\n",
       "0 2000-06-15 20:30:00 2000-06-15 21:00:00"
      ]
     },
     "execution_count": null,
     "metadata": {},
     "output_type": "execute_result"
    }
   ],
   "source": [
    "find_gap_limits(df)"
   ]
  },
  {
   "cell_type": "code",
   "execution_count": null,
   "id": "c8bf87ef-4401-4e69-97a4-67781c752b40",
   "metadata": {},
   "outputs": [],
   "source": [
    "#| export\n",
    "def plot_missing_area(df, sel = def_selection(), props={}):\n",
    "    gap_limits = find_gap_limits(df)\n",
    "    start = alt.Chart(gap_limits).mark_rule().encode(\n",
    "        x = alt.X('gap_start', axis=alt.Axis(domain=False, labels = False, ticks=False, title=None)),\n",
    "    )\n",
    "    end = alt.Chart(gap_limits).mark_rule().encode(\n",
    "        x = alt.X('gap_end', axis=alt.Axis(domain=False, labels = False, ticks=False, title=None))\n",
    "    )\n",
    "    area = alt.Chart(gap_limits).mark_rect(color='black', opacity=.2).encode(\n",
    "        x = alt.X('gap_start', axis=alt.Axis(domain=False, labels = False, ticks=False, title=None)),\n",
    "        x2 = 'gap_end'\n",
    "    )\n",
    "    return (start + end + area)#.add_params(sel).properties(**props)"
   ]
  },
  {
   "cell_type": "code",
   "execution_count": null,
   "id": "6df1e7d6-674e-465c-af15-ecfca892ef51",
   "metadata": {},
   "outputs": [
    {
     "data": {
      "text/html": [
       "\n",
       "<div id=\"altair-viz-c20525a3c2134236b27bbdcd723b783b\"></div>\n",
       "<script type=\"text/javascript\">\n",
       "  var VEGA_DEBUG = (typeof VEGA_DEBUG == \"undefined\") ? {} : VEGA_DEBUG;\n",
       "  (function(spec, embedOpt){\n",
       "    let outputDiv = document.currentScript.previousElementSibling;\n",
       "    if (outputDiv.id !== \"altair-viz-c20525a3c2134236b27bbdcd723b783b\") {\n",
       "      outputDiv = document.getElementById(\"altair-viz-c20525a3c2134236b27bbdcd723b783b\");\n",
       "    }\n",
       "    const paths = {\n",
       "      \"vega\": \"https://cdn.jsdelivr.net/npm//vega@5?noext\",\n",
       "      \"vega-lib\": \"https://cdn.jsdelivr.net/npm//vega-lib?noext\",\n",
       "      \"vega-lite\": \"https://cdn.jsdelivr.net/npm//vega-lite@5.2.0?noext\",\n",
       "      \"vega-embed\": \"https://cdn.jsdelivr.net/npm//vega-embed@6?noext\",\n",
       "    };\n",
       "\n",
       "    function maybeLoadScript(lib, version) {\n",
       "      var key = `${lib.replace(\"-\", \"\")}_version`;\n",
       "      return (VEGA_DEBUG[key] == version) ?\n",
       "        Promise.resolve(paths[lib]) :\n",
       "        new Promise(function(resolve, reject) {\n",
       "          var s = document.createElement('script');\n",
       "          document.getElementsByTagName(\"head\")[0].appendChild(s);\n",
       "          s.async = true;\n",
       "          s.onload = () => {\n",
       "            VEGA_DEBUG[key] = version;\n",
       "            return resolve(paths[lib]);\n",
       "          };\n",
       "          s.onerror = () => reject(`Error loading script: ${paths[lib]}`);\n",
       "          s.src = paths[lib];\n",
       "        });\n",
       "    }\n",
       "\n",
       "    function showError(err) {\n",
       "      outputDiv.innerHTML = `<div class=\"error\" style=\"color:red;\">${err}</div>`;\n",
       "      throw err;\n",
       "    }\n",
       "\n",
       "    function displayChart(vegaEmbed) {\n",
       "      vegaEmbed(outputDiv, spec, embedOpt)\n",
       "        .catch(err => showError(`Javascript Error: ${err.message}<br>This usually means there's a typo in your chart specification. See the javascript console for the full traceback.`));\n",
       "    }\n",
       "\n",
       "    if(typeof define === \"function\" && define.amd) {\n",
       "      requirejs.config({paths});\n",
       "      require([\"vega-embed\"], displayChart, err => showError(`Error loading script: ${err.message}`));\n",
       "    } else {\n",
       "      maybeLoadScript(\"vega\", \"5\")\n",
       "        .then(() => maybeLoadScript(\"vega-lite\", \"5.2.0\"))\n",
       "        .then(() => maybeLoadScript(\"vega-embed\", \"6\"))\n",
       "        .catch(showError)\n",
       "        .then(() => displayChart(vegaEmbed));\n",
       "    }\n",
       "  })({\"config\": {\"view\": {\"continuousWidth\": 400, \"continuousHeight\": 300}}, \"layer\": [{\"mark\": \"rule\", \"encoding\": {\"x\": {\"axis\": {\"domain\": false, \"labels\": false, \"ticks\": false, \"title\": null}, \"field\": \"gap_start\", \"type\": \"temporal\"}}}, {\"mark\": \"rule\", \"encoding\": {\"x\": {\"axis\": {\"domain\": false, \"labels\": false, \"ticks\": false, \"title\": null}, \"field\": \"gap_end\", \"type\": \"temporal\"}}}, {\"mark\": {\"type\": \"rect\", \"color\": \"black\", \"opacity\": 0.2}, \"encoding\": {\"x\": {\"axis\": {\"domain\": false, \"labels\": false, \"ticks\": false, \"title\": null}, \"field\": \"gap_start\", \"type\": \"temporal\"}, \"x2\": {\"field\": \"gap_end\"}}}], \"data\": {\"name\": \"data-0649de2b0733019f4936adba08c7cae5\"}, \"$schema\": \"https://vega.github.io/schema/vega-lite/v5.2.0.json\", \"datasets\": {\"data-0649de2b0733019f4936adba08c7cae5\": [{\"gap_start\": \"2000-06-15T20:30:00\", \"gap_end\": \"2000-06-15T21:00:00\"}]}}, {\"mode\": \"vega-lite\"});\n",
       "</script>"
      ],
      "text/plain": [
       "alt.LayerChart(...)"
      ]
     },
     "execution_count": null,
     "metadata": {},
     "output_type": "execute_result"
    }
   ],
   "source": [
    "plot_missing_area(df)"
   ]
  },
  {
   "cell_type": "markdown",
   "id": "9ab60349-4e58-4fd7-bc85-ad85146af0a5",
   "metadata": {},
   "source": [
    "##### Points"
   ]
  },
  {
   "cell_type": "code",
   "execution_count": null,
   "id": "52f438da-c85f-40e7-bdac-c08bce559cc3",
   "metadata": {},
   "outputs": [],
   "source": [
    "#| export\n",
    "def plot_points(df, y = \"value\", y_label = \"\", sel = def_selection(), props = {}):\n",
    "    return alt.Chart(df).mark_point(\n",
    "            color='black',\n",
    "            strokeWidth = 1,\n",
    "            fillOpacity = 1\n",
    "        ).encode(\n",
    "            x = alt.X(\"time\", axis=alt.Axis(domain=True, labels = True, ticks=True, title=\"time\")),\n",
    "            y = alt.Y(y, title = y_label, scale=alt.Scale(zero=False)),\n",
    "            fill= alt.Fill(\"is_present\", scale = alt.Scale(range=[\"black\", \"#ffffff00\"]),\n",
    "                           legend = alt.Legend(title =[\"Observed data\"])),\n",
    "            shape = \"is_present\",\n",
    "        )"
   ]
  },
  {
   "cell_type": "code",
   "execution_count": null,
   "id": "530d054b-120d-4883-9692-ff2518adabbf",
   "metadata": {},
   "outputs": [
    {
     "data": {
      "text/html": [
       "\n",
       "<div id=\"altair-viz-0846cbfcbf1b4100a669e645c56f2420\"></div>\n",
       "<script type=\"text/javascript\">\n",
       "  var VEGA_DEBUG = (typeof VEGA_DEBUG == \"undefined\") ? {} : VEGA_DEBUG;\n",
       "  (function(spec, embedOpt){\n",
       "    let outputDiv = document.currentScript.previousElementSibling;\n",
       "    if (outputDiv.id !== \"altair-viz-0846cbfcbf1b4100a669e645c56f2420\") {\n",
       "      outputDiv = document.getElementById(\"altair-viz-0846cbfcbf1b4100a669e645c56f2420\");\n",
       "    }\n",
       "    const paths = {\n",
       "      \"vega\": \"https://cdn.jsdelivr.net/npm//vega@5?noext\",\n",
       "      \"vega-lib\": \"https://cdn.jsdelivr.net/npm//vega-lib?noext\",\n",
       "      \"vega-lite\": \"https://cdn.jsdelivr.net/npm//vega-lite@5.2.0?noext\",\n",
       "      \"vega-embed\": \"https://cdn.jsdelivr.net/npm//vega-embed@6?noext\",\n",
       "    };\n",
       "\n",
       "    function maybeLoadScript(lib, version) {\n",
       "      var key = `${lib.replace(\"-\", \"\")}_version`;\n",
       "      return (VEGA_DEBUG[key] == version) ?\n",
       "        Promise.resolve(paths[lib]) :\n",
       "        new Promise(function(resolve, reject) {\n",
       "          var s = document.createElement('script');\n",
       "          document.getElementsByTagName(\"head\")[0].appendChild(s);\n",
       "          s.async = true;\n",
       "          s.onload = () => {\n",
       "            VEGA_DEBUG[key] = version;\n",
       "            return resolve(paths[lib]);\n",
       "          };\n",
       "          s.onerror = () => reject(`Error loading script: ${paths[lib]}`);\n",
       "          s.src = paths[lib];\n",
       "        });\n",
       "    }\n",
       "\n",
       "    function showError(err) {\n",
       "      outputDiv.innerHTML = `<div class=\"error\" style=\"color:red;\">${err}</div>`;\n",
       "      throw err;\n",
       "    }\n",
       "\n",
       "    function displayChart(vegaEmbed) {\n",
       "      vegaEmbed(outputDiv, spec, embedOpt)\n",
       "        .catch(err => showError(`Javascript Error: ${err.message}<br>This usually means there's a typo in your chart specification. See the javascript console for the full traceback.`));\n",
       "    }\n",
       "\n",
       "    if(typeof define === \"function\" && define.amd) {\n",
       "      requirejs.config({paths});\n",
       "      require([\"vega-embed\"], displayChart, err => showError(`Error loading script: ${err.message}`));\n",
       "    } else {\n",
       "      maybeLoadScript(\"vega\", \"5\")\n",
       "        .then(() => maybeLoadScript(\"vega-lite\", \"5.2.0\"))\n",
       "        .then(() => maybeLoadScript(\"vega-embed\", \"6\"))\n",
       "        .catch(showError)\n",
       "        .then(() => displayChart(vegaEmbed));\n",
       "    }\n",
       "  })({\"config\": {\"view\": {\"continuousWidth\": 400, \"continuousHeight\": 300}}, \"data\": {\"name\": \"data-e50c02d862731cf9f9a0daad851eec81\"}, \"mark\": {\"type\": \"point\", \"color\": \"black\", \"fillOpacity\": 1, \"strokeWidth\": 1}, \"encoding\": {\"fill\": {\"field\": \"is_present\", \"legend\": {\"title\": [\"Observed data\"]}, \"scale\": {\"range\": [\"black\", \"#ffffff00\"]}, \"type\": \"nominal\"}, \"shape\": {\"field\": \"is_present\", \"type\": \"nominal\"}, \"x\": {\"axis\": {\"domain\": true, \"labels\": true, \"ticks\": true, \"title\": \"time\"}, \"field\": \"time\", \"type\": \"temporal\"}, \"y\": {\"field\": \"value\", \"scale\": {\"zero\": false}, \"title\": \"\", \"type\": \"quantitative\"}}, \"$schema\": \"https://vega.github.io/schema/vega-lite/v5.2.0.json\", \"datasets\": {\"data-e50c02d862731cf9f9a0daad851eec81\": [{\"time\": \"2000-06-15T17:00:00\", \"variable\": \"TA\", \"value\": 14.220000267028809, \"is_present\": true}, {\"time\": \"2000-06-15T17:30:00\", \"variable\": \"TA\", \"value\": 14.109999656677246, \"is_present\": true}, {\"time\": \"2000-06-15T18:00:00\", \"variable\": \"TA\", \"value\": 14.229999542236328, \"is_present\": true}, {\"time\": \"2000-06-15T18:30:00\", \"variable\": \"TA\", \"value\": 14.399999618530273, \"is_present\": true}, {\"time\": \"2000-06-15T19:00:00\", \"variable\": \"TA\", \"value\": 14.09000015258789, \"is_present\": true}, {\"time\": \"2000-06-15T19:30:00\", \"variable\": \"TA\", \"value\": 13.710000038146973, \"is_present\": true}, {\"time\": \"2000-06-15T20:00:00\", \"variable\": \"TA\", \"value\": 13.079999923706055, \"is_present\": true}, {\"time\": \"2000-06-15T20:30:00\", \"variable\": \"TA\", \"value\": 12.40999984741211, \"is_present\": false}, {\"time\": \"2000-06-15T21:00:00\", \"variable\": \"TA\", \"value\": 12.270000457763672, \"is_present\": false}, {\"time\": \"2000-06-15T21:30:00\", \"variable\": \"TA\", \"value\": 12.199999809265137, \"is_present\": true}, {\"time\": \"2000-06-15T17:00:00\", \"variable\": \"SW_IN\", \"value\": 224.8000030517578, \"is_present\": true}, {\"time\": \"2000-06-15T17:30:00\", \"variable\": \"SW_IN\", \"value\": 195.27999877929688, \"is_present\": true}, {\"time\": \"2000-06-15T18:00:00\", \"variable\": \"SW_IN\", \"value\": 244.1699981689453, \"is_present\": true}, {\"time\": \"2000-06-15T18:30:00\", \"variable\": \"SW_IN\", \"value\": 253.9199981689453, \"is_present\": true}, {\"time\": \"2000-06-15T19:00:00\", \"variable\": \"SW_IN\", \"value\": 177.30999755859375, \"is_present\": true}, {\"time\": \"2000-06-15T19:30:00\", \"variable\": \"SW_IN\", \"value\": 97.06999969482422, \"is_present\": true}, {\"time\": \"2000-06-15T20:00:00\", \"variable\": \"SW_IN\", \"value\": 39.709999084472656, \"is_present\": true}, {\"time\": \"2000-06-15T20:30:00\", \"variable\": \"SW_IN\", \"value\": 10.649999618530273, \"is_present\": false}, {\"time\": \"2000-06-15T21:00:00\", \"variable\": \"SW_IN\", \"value\": 0.3199999928474426, \"is_present\": false}, {\"time\": \"2000-06-15T21:30:00\", \"variable\": \"SW_IN\", \"value\": 0.0, \"is_present\": true}, {\"time\": \"2000-06-15T17:00:00\", \"variable\": \"VPD\", \"value\": 5.798999786376953, \"is_present\": true}, {\"time\": \"2000-06-15T17:30:00\", \"variable\": \"VPD\", \"value\": 6.577000141143799, \"is_present\": true}, {\"time\": \"2000-06-15T18:00:00\", \"variable\": \"VPD\", \"value\": 6.931000232696533, \"is_present\": true}, {\"time\": \"2000-06-15T18:30:00\", \"variable\": \"VPD\", \"value\": 7.285999774932861, \"is_present\": true}, {\"time\": \"2000-06-15T19:00:00\", \"variable\": \"VPD\", \"value\": 7.250999927520752, \"is_present\": true}, {\"time\": \"2000-06-15T19:30:00\", \"variable\": \"VPD\", \"value\": 6.683000087738037, \"is_present\": true}, {\"time\": \"2000-06-15T20:00:00\", \"variable\": \"VPD\", \"value\": 5.85099983215332, \"is_present\": true}, {\"time\": \"2000-06-15T20:30:00\", \"variable\": \"VPD\", \"value\": 5.254000186920166, \"is_present\": true}, {\"time\": \"2000-06-15T21:00:00\", \"variable\": \"VPD\", \"value\": 5.164000034332275, \"is_present\": true}, {\"time\": \"2000-06-15T21:30:00\", \"variable\": \"VPD\", \"value\": 5.0370001792907715, \"is_present\": true}]}}, {\"mode\": \"vega-lite\"});\n",
       "</script>"
      ],
      "text/plain": [
       "alt.Chart(...)"
      ]
     },
     "execution_count": null,
     "metadata": {},
     "output_type": "execute_result"
    }
   ],
   "source": [
    "plot_points(m_df.tidy())"
   ]
  },
  {
   "cell_type": "markdown",
   "id": "ffc03c27-03d9-4a0f-9438-a6aaab415f8b",
   "metadata": {},
   "source": [
    "##### Line"
   ]
  },
  {
   "cell_type": "code",
   "execution_count": null,
   "id": "e7f9912e-eee1-40a6-9eb3-4b010a5278c5",
   "metadata": {},
   "outputs": [],
   "source": [
    "#| exporti\n",
    "def plot_line(df, only_present=True, y=\"value\", y_label = \"\", sel = def_selection(), props = {}):\n",
    "    # df = df[df.is_present] if only_present else df\n",
    "    # TODO remove onle_present\n",
    "    return alt.Chart(df).mark_line().encode(\n",
    "        x = \"time\",    \n",
    "        y = alt.Y(y, title = y_label, scale=alt.Scale(zero=False)),\n",
    "        color='variable'\n",
    "    ).add_params(\n",
    "        sel\n",
    "    ).properties(\n",
    "        **props\n",
    "    )#.transform_filter(\n",
    "    #     datum.is_present\n",
    "    # )\n",
    "\n",
    "    "
   ]
  },
  {
   "cell_type": "code",
   "execution_count": null,
   "id": "c4723d86-f673-4cfa-ae8a-58fcc542930a",
   "metadata": {},
   "outputs": [
    {
     "data": {
      "text/html": [
       "\n",
       "<div id=\"altair-viz-1edb11277d2047e9a1541af63e58b2c3\"></div>\n",
       "<script type=\"text/javascript\">\n",
       "  var VEGA_DEBUG = (typeof VEGA_DEBUG == \"undefined\") ? {} : VEGA_DEBUG;\n",
       "  (function(spec, embedOpt){\n",
       "    let outputDiv = document.currentScript.previousElementSibling;\n",
       "    if (outputDiv.id !== \"altair-viz-1edb11277d2047e9a1541af63e58b2c3\") {\n",
       "      outputDiv = document.getElementById(\"altair-viz-1edb11277d2047e9a1541af63e58b2c3\");\n",
       "    }\n",
       "    const paths = {\n",
       "      \"vega\": \"https://cdn.jsdelivr.net/npm//vega@5?noext\",\n",
       "      \"vega-lib\": \"https://cdn.jsdelivr.net/npm//vega-lib?noext\",\n",
       "      \"vega-lite\": \"https://cdn.jsdelivr.net/npm//vega-lite@5.2.0?noext\",\n",
       "      \"vega-embed\": \"https://cdn.jsdelivr.net/npm//vega-embed@6?noext\",\n",
       "    };\n",
       "\n",
       "    function maybeLoadScript(lib, version) {\n",
       "      var key = `${lib.replace(\"-\", \"\")}_version`;\n",
       "      return (VEGA_DEBUG[key] == version) ?\n",
       "        Promise.resolve(paths[lib]) :\n",
       "        new Promise(function(resolve, reject) {\n",
       "          var s = document.createElement('script');\n",
       "          document.getElementsByTagName(\"head\")[0].appendChild(s);\n",
       "          s.async = true;\n",
       "          s.onload = () => {\n",
       "            VEGA_DEBUG[key] = version;\n",
       "            return resolve(paths[lib]);\n",
       "          };\n",
       "          s.onerror = () => reject(`Error loading script: ${paths[lib]}`);\n",
       "          s.src = paths[lib];\n",
       "        });\n",
       "    }\n",
       "\n",
       "    function showError(err) {\n",
       "      outputDiv.innerHTML = `<div class=\"error\" style=\"color:red;\">${err}</div>`;\n",
       "      throw err;\n",
       "    }\n",
       "\n",
       "    function displayChart(vegaEmbed) {\n",
       "      vegaEmbed(outputDiv, spec, embedOpt)\n",
       "        .catch(err => showError(`Javascript Error: ${err.message}<br>This usually means there's a typo in your chart specification. See the javascript console for the full traceback.`));\n",
       "    }\n",
       "\n",
       "    if(typeof define === \"function\" && define.amd) {\n",
       "      requirejs.config({paths});\n",
       "      require([\"vega-embed\"], displayChart, err => showError(`Error loading script: ${err.message}`));\n",
       "    } else {\n",
       "      maybeLoadScript(\"vega\", \"5\")\n",
       "        .then(() => maybeLoadScript(\"vega-lite\", \"5.2.0\"))\n",
       "        .then(() => maybeLoadScript(\"vega-embed\", \"6\"))\n",
       "        .catch(showError)\n",
       "        .then(() => displayChart(vegaEmbed));\n",
       "    }\n",
       "  })({\"config\": {\"view\": {\"continuousWidth\": 400, \"continuousHeight\": 300}}, \"data\": {\"name\": \"data-e50c02d862731cf9f9a0daad851eec81\"}, \"mark\": \"line\", \"encoding\": {\"color\": {\"field\": \"variable\", \"type\": \"nominal\"}, \"x\": {\"field\": \"time\", \"type\": \"temporal\"}, \"y\": {\"field\": \"value\", \"scale\": {\"zero\": false}, \"title\": \"\", \"type\": \"quantitative\"}}, \"params\": [{\"name\": \"param_76\", \"select\": {\"type\": \"interval\"}, \"bind\": \"scales\"}], \"$schema\": \"https://vega.github.io/schema/vega-lite/v5.2.0.json\", \"datasets\": {\"data-e50c02d862731cf9f9a0daad851eec81\": [{\"time\": \"2000-06-15T17:00:00\", \"variable\": \"TA\", \"value\": 14.220000267028809, \"is_present\": true}, {\"time\": \"2000-06-15T17:30:00\", \"variable\": \"TA\", \"value\": 14.109999656677246, \"is_present\": true}, {\"time\": \"2000-06-15T18:00:00\", \"variable\": \"TA\", \"value\": 14.229999542236328, \"is_present\": true}, {\"time\": \"2000-06-15T18:30:00\", \"variable\": \"TA\", \"value\": 14.399999618530273, \"is_present\": true}, {\"time\": \"2000-06-15T19:00:00\", \"variable\": \"TA\", \"value\": 14.09000015258789, \"is_present\": true}, {\"time\": \"2000-06-15T19:30:00\", \"variable\": \"TA\", \"value\": 13.710000038146973, \"is_present\": true}, {\"time\": \"2000-06-15T20:00:00\", \"variable\": \"TA\", \"value\": 13.079999923706055, \"is_present\": true}, {\"time\": \"2000-06-15T20:30:00\", \"variable\": \"TA\", \"value\": 12.40999984741211, \"is_present\": false}, {\"time\": \"2000-06-15T21:00:00\", \"variable\": \"TA\", \"value\": 12.270000457763672, \"is_present\": false}, {\"time\": \"2000-06-15T21:30:00\", \"variable\": \"TA\", \"value\": 12.199999809265137, \"is_present\": true}, {\"time\": \"2000-06-15T17:00:00\", \"variable\": \"SW_IN\", \"value\": 224.8000030517578, \"is_present\": true}, {\"time\": \"2000-06-15T17:30:00\", \"variable\": \"SW_IN\", \"value\": 195.27999877929688, \"is_present\": true}, {\"time\": \"2000-06-15T18:00:00\", \"variable\": \"SW_IN\", \"value\": 244.1699981689453, \"is_present\": true}, {\"time\": \"2000-06-15T18:30:00\", \"variable\": \"SW_IN\", \"value\": 253.9199981689453, \"is_present\": true}, {\"time\": \"2000-06-15T19:00:00\", \"variable\": \"SW_IN\", \"value\": 177.30999755859375, \"is_present\": true}, {\"time\": \"2000-06-15T19:30:00\", \"variable\": \"SW_IN\", \"value\": 97.06999969482422, \"is_present\": true}, {\"time\": \"2000-06-15T20:00:00\", \"variable\": \"SW_IN\", \"value\": 39.709999084472656, \"is_present\": true}, {\"time\": \"2000-06-15T20:30:00\", \"variable\": \"SW_IN\", \"value\": 10.649999618530273, \"is_present\": false}, {\"time\": \"2000-06-15T21:00:00\", \"variable\": \"SW_IN\", \"value\": 0.3199999928474426, \"is_present\": false}, {\"time\": \"2000-06-15T21:30:00\", \"variable\": \"SW_IN\", \"value\": 0.0, \"is_present\": true}, {\"time\": \"2000-06-15T17:00:00\", \"variable\": \"VPD\", \"value\": 5.798999786376953, \"is_present\": true}, {\"time\": \"2000-06-15T17:30:00\", \"variable\": \"VPD\", \"value\": 6.577000141143799, \"is_present\": true}, {\"time\": \"2000-06-15T18:00:00\", \"variable\": \"VPD\", \"value\": 6.931000232696533, \"is_present\": true}, {\"time\": \"2000-06-15T18:30:00\", \"variable\": \"VPD\", \"value\": 7.285999774932861, \"is_present\": true}, {\"time\": \"2000-06-15T19:00:00\", \"variable\": \"VPD\", \"value\": 7.250999927520752, \"is_present\": true}, {\"time\": \"2000-06-15T19:30:00\", \"variable\": \"VPD\", \"value\": 6.683000087738037, \"is_present\": true}, {\"time\": \"2000-06-15T20:00:00\", \"variable\": \"VPD\", \"value\": 5.85099983215332, \"is_present\": true}, {\"time\": \"2000-06-15T20:30:00\", \"variable\": \"VPD\", \"value\": 5.254000186920166, \"is_present\": true}, {\"time\": \"2000-06-15T21:00:00\", \"variable\": \"VPD\", \"value\": 5.164000034332275, \"is_present\": true}, {\"time\": \"2000-06-15T21:30:00\", \"variable\": \"VPD\", \"value\": 5.0370001792907715, \"is_present\": true}]}}, {\"mode\": \"vega-lite\"});\n",
       "</script>"
      ],
      "text/plain": [
       "alt.Chart(...)"
      ]
     },
     "execution_count": null,
     "metadata": {},
     "output_type": "execute_result"
    }
   ],
   "source": [
    "plot_line(m_df.tidy())"
   ]
  },
  {
   "cell_type": "markdown",
   "id": "78d98d63-401b-4a09-a0f1-665342fef64e",
   "metadata": {},
   "source": [
    "##### Errorband"
   ]
  },
  {
   "cell_type": "code",
   "execution_count": null,
   "id": "b31874c2-bc64-4c07-b67b-c67ecb0f3598",
   "metadata": {},
   "outputs": [],
   "source": [
    "#| exporti\n",
    "def plot_error(df, y = \"value\", y_label = \"\", sel = def_selection(), props = {}):\n",
    "    df.loc[:,'err_low'] = df[y] - 2 * df['std']\n",
    "    df.loc[:,'err_high'] = df[y] + 2 * df['std']\n",
    "    return alt.Chart(df).mark_errorband().encode(\n",
    "        x = \"time\",    \n",
    "        y = alt.Y(\"err_low:Q\", title = y_label, scale=alt.Scale(zero=False)),\n",
    "        y2 = \"err_high:Q\",\n",
    "        color=alt.Color(\"variable\",\n",
    "                        legend = alt.Legend(title=[\"Line: pred. mean\", \"area: +/- 2 std\"])\n",
    "                       )\n",
    "    ).add_params(\n",
    "        sel\n",
    "    ).properties(\n",
    "        **props\n",
    "    )\n",
    "    "
   ]
  },
  {
   "cell_type": "code",
   "execution_count": null,
   "id": "bbe34b69-dc5c-4b9e-bb24-dffcd7638686",
   "metadata": {},
   "outputs": [
    {
     "data": {
      "text/html": [
       "\n",
       "<div id=\"altair-viz-fbbb5378d5054e3d88053d34811a460d\"></div>\n",
       "<script type=\"text/javascript\">\n",
       "  var VEGA_DEBUG = (typeof VEGA_DEBUG == \"undefined\") ? {} : VEGA_DEBUG;\n",
       "  (function(spec, embedOpt){\n",
       "    let outputDiv = document.currentScript.previousElementSibling;\n",
       "    if (outputDiv.id !== \"altair-viz-fbbb5378d5054e3d88053d34811a460d\") {\n",
       "      outputDiv = document.getElementById(\"altair-viz-fbbb5378d5054e3d88053d34811a460d\");\n",
       "    }\n",
       "    const paths = {\n",
       "      \"vega\": \"https://cdn.jsdelivr.net/npm//vega@5?noext\",\n",
       "      \"vega-lib\": \"https://cdn.jsdelivr.net/npm//vega-lib?noext\",\n",
       "      \"vega-lite\": \"https://cdn.jsdelivr.net/npm//vega-lite@5.2.0?noext\",\n",
       "      \"vega-embed\": \"https://cdn.jsdelivr.net/npm//vega-embed@6?noext\",\n",
       "    };\n",
       "\n",
       "    function maybeLoadScript(lib, version) {\n",
       "      var key = `${lib.replace(\"-\", \"\")}_version`;\n",
       "      return (VEGA_DEBUG[key] == version) ?\n",
       "        Promise.resolve(paths[lib]) :\n",
       "        new Promise(function(resolve, reject) {\n",
       "          var s = document.createElement('script');\n",
       "          document.getElementsByTagName(\"head\")[0].appendChild(s);\n",
       "          s.async = true;\n",
       "          s.onload = () => {\n",
       "            VEGA_DEBUG[key] = version;\n",
       "            return resolve(paths[lib]);\n",
       "          };\n",
       "          s.onerror = () => reject(`Error loading script: ${paths[lib]}`);\n",
       "          s.src = paths[lib];\n",
       "        });\n",
       "    }\n",
       "\n",
       "    function showError(err) {\n",
       "      outputDiv.innerHTML = `<div class=\"error\" style=\"color:red;\">${err}</div>`;\n",
       "      throw err;\n",
       "    }\n",
       "\n",
       "    function displayChart(vegaEmbed) {\n",
       "      vegaEmbed(outputDiv, spec, embedOpt)\n",
       "        .catch(err => showError(`Javascript Error: ${err.message}<br>This usually means there's a typo in your chart specification. See the javascript console for the full traceback.`));\n",
       "    }\n",
       "\n",
       "    if(typeof define === \"function\" && define.amd) {\n",
       "      requirejs.config({paths});\n",
       "      require([\"vega-embed\"], displayChart, err => showError(`Error loading script: ${err.message}`));\n",
       "    } else {\n",
       "      maybeLoadScript(\"vega\", \"5\")\n",
       "        .then(() => maybeLoadScript(\"vega-lite\", \"5.2.0\"))\n",
       "        .then(() => maybeLoadScript(\"vega-embed\", \"6\"))\n",
       "        .catch(showError)\n",
       "        .then(() => displayChart(vegaEmbed));\n",
       "    }\n",
       "  })({\"config\": {\"view\": {\"continuousWidth\": 400, \"continuousHeight\": 300}}, \"data\": {\"name\": \"data-041b471eb9e6b09a94988b21e16196c4\"}, \"mark\": \"errorband\", \"encoding\": {\"color\": {\"field\": \"variable\", \"legend\": {\"title\": [\"Line: pred. mean\", \"area: +/- 2 std\"]}, \"type\": \"nominal\"}, \"x\": {\"field\": \"time\", \"type\": \"temporal\"}, \"y\": {\"field\": \"err_low\", \"scale\": {\"zero\": false}, \"title\": \"\", \"type\": \"quantitative\"}, \"y2\": {\"field\": \"err_high\"}}, \"params\": [{\"name\": \"param_77\", \"select\": {\"type\": \"interval\"}, \"bind\": \"scales\"}], \"$schema\": \"https://vega.github.io/schema/vega-lite/v5.2.0.json\", \"datasets\": {\"data-041b471eb9e6b09a94988b21e16196c4\": [{\"time\": \"2000-06-15T17:00:00\", \"variable\": \"TA\", \"value\": 14.220000267028809, \"is_present\": true, \"std\": 5, \"err_low\": 4.220000267028809, \"err_high\": 24.22000026702881}, {\"time\": \"2000-06-15T17:30:00\", \"variable\": \"TA\", \"value\": 14.109999656677246, \"is_present\": true, \"std\": 5, \"err_low\": 4.109999656677246, \"err_high\": 24.109999656677246}, {\"time\": \"2000-06-15T18:00:00\", \"variable\": \"TA\", \"value\": 14.229999542236328, \"is_present\": true, \"std\": 5, \"err_low\": 4.229999542236328, \"err_high\": 24.229999542236328}, {\"time\": \"2000-06-15T18:30:00\", \"variable\": \"TA\", \"value\": 14.399999618530273, \"is_present\": true, \"std\": 5, \"err_low\": 4.399999618530273, \"err_high\": 24.399999618530273}, {\"time\": \"2000-06-15T19:00:00\", \"variable\": \"TA\", \"value\": 14.09000015258789, \"is_present\": true, \"std\": 5, \"err_low\": 4.090000152587891, \"err_high\": 24.09000015258789}, {\"time\": \"2000-06-15T19:30:00\", \"variable\": \"TA\", \"value\": 13.710000038146973, \"is_present\": true, \"std\": 5, \"err_low\": 3.7100000381469727, \"err_high\": 23.710000038146973}, {\"time\": \"2000-06-15T20:00:00\", \"variable\": \"TA\", \"value\": 13.079999923706055, \"is_present\": true, \"std\": 5, \"err_low\": 3.0799999237060547, \"err_high\": 23.079999923706055}, {\"time\": \"2000-06-15T20:30:00\", \"variable\": \"TA\", \"value\": 12.40999984741211, \"is_present\": false, \"std\": 5, \"err_low\": 2.4099998474121094, \"err_high\": 22.40999984741211}, {\"time\": \"2000-06-15T21:00:00\", \"variable\": \"TA\", \"value\": 12.270000457763672, \"is_present\": false, \"std\": 5, \"err_low\": 2.270000457763672, \"err_high\": 22.270000457763672}, {\"time\": \"2000-06-15T21:30:00\", \"variable\": \"TA\", \"value\": 12.199999809265137, \"is_present\": true, \"std\": 5, \"err_low\": 2.1999998092651367, \"err_high\": 22.199999809265137}, {\"time\": \"2000-06-15T17:00:00\", \"variable\": \"SW_IN\", \"value\": 224.8000030517578, \"is_present\": true, \"std\": 5, \"err_low\": 214.8000030517578, \"err_high\": 234.8000030517578}, {\"time\": \"2000-06-15T17:30:00\", \"variable\": \"SW_IN\", \"value\": 195.27999877929688, \"is_present\": true, \"std\": 5, \"err_low\": 185.27999877929688, \"err_high\": 205.27999877929688}, {\"time\": \"2000-06-15T18:00:00\", \"variable\": \"SW_IN\", \"value\": 244.1699981689453, \"is_present\": true, \"std\": 5, \"err_low\": 234.1699981689453, \"err_high\": 254.1699981689453}, {\"time\": \"2000-06-15T18:30:00\", \"variable\": \"SW_IN\", \"value\": 253.9199981689453, \"is_present\": true, \"std\": 5, \"err_low\": 243.9199981689453, \"err_high\": 263.9199981689453}, {\"time\": \"2000-06-15T19:00:00\", \"variable\": \"SW_IN\", \"value\": 177.30999755859375, \"is_present\": true, \"std\": 5, \"err_low\": 167.30999755859375, \"err_high\": 187.30999755859375}, {\"time\": \"2000-06-15T19:30:00\", \"variable\": \"SW_IN\", \"value\": 97.06999969482422, \"is_present\": true, \"std\": 5, \"err_low\": 87.06999969482422, \"err_high\": 107.06999969482422}, {\"time\": \"2000-06-15T20:00:00\", \"variable\": \"SW_IN\", \"value\": 39.709999084472656, \"is_present\": true, \"std\": 5, \"err_low\": 29.709999084472656, \"err_high\": 49.709999084472656}, {\"time\": \"2000-06-15T20:30:00\", \"variable\": \"SW_IN\", \"value\": 10.649999618530273, \"is_present\": false, \"std\": 5, \"err_low\": 0.6499996185302734, \"err_high\": 20.649999618530273}, {\"time\": \"2000-06-15T21:00:00\", \"variable\": \"SW_IN\", \"value\": 0.3199999928474426, \"is_present\": false, \"std\": 5, \"err_low\": -9.680000007152557, \"err_high\": 10.319999992847443}, {\"time\": \"2000-06-15T21:30:00\", \"variable\": \"SW_IN\", \"value\": 0.0, \"is_present\": true, \"std\": 5, \"err_low\": -10.0, \"err_high\": 10.0}, {\"time\": \"2000-06-15T17:00:00\", \"variable\": \"VPD\", \"value\": 5.798999786376953, \"is_present\": true, \"std\": 5, \"err_low\": -4.201000213623047, \"err_high\": 15.798999786376953}, {\"time\": \"2000-06-15T17:30:00\", \"variable\": \"VPD\", \"value\": 6.577000141143799, \"is_present\": true, \"std\": 5, \"err_low\": -3.422999858856201, \"err_high\": 16.5770001411438}, {\"time\": \"2000-06-15T18:00:00\", \"variable\": \"VPD\", \"value\": 6.931000232696533, \"is_present\": true, \"std\": 5, \"err_low\": -3.068999767303467, \"err_high\": 16.931000232696533}, {\"time\": \"2000-06-15T18:30:00\", \"variable\": \"VPD\", \"value\": 7.285999774932861, \"is_present\": true, \"std\": 5, \"err_low\": -2.7140002250671387, \"err_high\": 17.28599977493286}, {\"time\": \"2000-06-15T19:00:00\", \"variable\": \"VPD\", \"value\": 7.250999927520752, \"is_present\": true, \"std\": 5, \"err_low\": -2.749000072479248, \"err_high\": 17.250999927520752}, {\"time\": \"2000-06-15T19:30:00\", \"variable\": \"VPD\", \"value\": 6.683000087738037, \"is_present\": true, \"std\": 5, \"err_low\": -3.316999912261963, \"err_high\": 16.683000087738037}, {\"time\": \"2000-06-15T20:00:00\", \"variable\": \"VPD\", \"value\": 5.85099983215332, \"is_present\": true, \"std\": 5, \"err_low\": -4.14900016784668, \"err_high\": 15.85099983215332}, {\"time\": \"2000-06-15T20:30:00\", \"variable\": \"VPD\", \"value\": 5.254000186920166, \"is_present\": true, \"std\": 5, \"err_low\": -4.745999813079834, \"err_high\": 15.254000186920166}, {\"time\": \"2000-06-15T21:00:00\", \"variable\": \"VPD\", \"value\": 5.164000034332275, \"is_present\": true, \"std\": 5, \"err_low\": -4.835999965667725, \"err_high\": 15.164000034332275}, {\"time\": \"2000-06-15T21:30:00\", \"variable\": \"VPD\", \"value\": 5.0370001792907715, \"is_present\": true, \"std\": 5, \"err_low\": -4.9629998207092285, \"err_high\": 15.037000179290771}]}}, {\"mode\": \"vega-lite\"});\n",
       "</script>"
      ],
      "text/plain": [
       "alt.Chart(...)"
      ]
     },
     "execution_count": null,
     "metadata": {},
     "output_type": "execute_result"
    }
   ],
   "source": [
    "plot_error(m_df.tidy().assign(std=5))"
   ]
  },
  {
   "cell_type": "markdown",
   "id": "1fe0fa10-e1d7-44c1-8979-8f06bf243fc0",
   "metadata": {},
   "source": [
    "##### Variable"
   ]
  },
  {
   "cell_type": "code",
   "execution_count": null,
   "id": "a26f136e-c919-4083-bad9-e40f2b4996bd",
   "metadata": {},
   "outputs": [],
   "source": [
    "#| exporti\n",
    "def plot_variable(df, variable, ys=[\"value\", \"value\"], title=\"\", y_label=\"\", sel = None, error=False, props = {}):\n",
    "    df = df[df.variable == variable].copy()\n",
    "    sel = ifnone(sel, def_selection())\n",
    "    # rug = plot_rug(df, sel, props)\n",
    "    points = plot_points(df, ys[0], y_label, sel, props)\n",
    "    if not df.is_present.all(): points += plot_missing_area(df, sel, props) # there is a gap\n",
    "    line = plot_line(df, True, ys[1], y_label, sel, props)\n",
    "    if error: line = plot_error(df, y=ys[1], y_label=y_label, sel=sel, props=props) + line\n",
    "    \n",
    "    return (points + line).properties(title=title)\n",
    "    \n",
    "    # return alt.VConcatChart(vconcat=[(points + line), rug], spacing=-10).properties(title=title)"
   ]
  },
  {
   "cell_type": "code",
   "execution_count": null,
   "id": "fa1c1f39-0db0-4842-bada-da41eacd9ac6",
   "metadata": {},
   "outputs": [
    {
     "data": {
      "text/html": [
       "\n",
       "<div id=\"altair-viz-1ddc6c1152034c7c98a1f18b07ccb2f8\"></div>\n",
       "<script type=\"text/javascript\">\n",
       "  var VEGA_DEBUG = (typeof VEGA_DEBUG == \"undefined\") ? {} : VEGA_DEBUG;\n",
       "  (function(spec, embedOpt){\n",
       "    let outputDiv = document.currentScript.previousElementSibling;\n",
       "    if (outputDiv.id !== \"altair-viz-1ddc6c1152034c7c98a1f18b07ccb2f8\") {\n",
       "      outputDiv = document.getElementById(\"altair-viz-1ddc6c1152034c7c98a1f18b07ccb2f8\");\n",
       "    }\n",
       "    const paths = {\n",
       "      \"vega\": \"https://cdn.jsdelivr.net/npm//vega@5?noext\",\n",
       "      \"vega-lib\": \"https://cdn.jsdelivr.net/npm//vega-lib?noext\",\n",
       "      \"vega-lite\": \"https://cdn.jsdelivr.net/npm//vega-lite@5.2.0?noext\",\n",
       "      \"vega-embed\": \"https://cdn.jsdelivr.net/npm//vega-embed@6?noext\",\n",
       "    };\n",
       "\n",
       "    function maybeLoadScript(lib, version) {\n",
       "      var key = `${lib.replace(\"-\", \"\")}_version`;\n",
       "      return (VEGA_DEBUG[key] == version) ?\n",
       "        Promise.resolve(paths[lib]) :\n",
       "        new Promise(function(resolve, reject) {\n",
       "          var s = document.createElement('script');\n",
       "          document.getElementsByTagName(\"head\")[0].appendChild(s);\n",
       "          s.async = true;\n",
       "          s.onload = () => {\n",
       "            VEGA_DEBUG[key] = version;\n",
       "            return resolve(paths[lib]);\n",
       "          };\n",
       "          s.onerror = () => reject(`Error loading script: ${paths[lib]}`);\n",
       "          s.src = paths[lib];\n",
       "        });\n",
       "    }\n",
       "\n",
       "    function showError(err) {\n",
       "      outputDiv.innerHTML = `<div class=\"error\" style=\"color:red;\">${err}</div>`;\n",
       "      throw err;\n",
       "    }\n",
       "\n",
       "    function displayChart(vegaEmbed) {\n",
       "      vegaEmbed(outputDiv, spec, embedOpt)\n",
       "        .catch(err => showError(`Javascript Error: ${err.message}<br>This usually means there's a typo in your chart specification. See the javascript console for the full traceback.`));\n",
       "    }\n",
       "\n",
       "    if(typeof define === \"function\" && define.amd) {\n",
       "      requirejs.config({paths});\n",
       "      require([\"vega-embed\"], displayChart, err => showError(`Error loading script: ${err.message}`));\n",
       "    } else {\n",
       "      maybeLoadScript(\"vega\", \"5\")\n",
       "        .then(() => maybeLoadScript(\"vega-lite\", \"5.2.0\"))\n",
       "        .then(() => maybeLoadScript(\"vega-embed\", \"6\"))\n",
       "        .catch(showError)\n",
       "        .then(() => displayChart(vegaEmbed));\n",
       "    }\n",
       "  })({\"config\": {\"view\": {\"continuousWidth\": 400, \"continuousHeight\": 300}}, \"layer\": [{\"data\": {\"name\": \"data-396b6fee5d84b8c67c003177bd0f1779\"}, \"mark\": {\"type\": \"point\", \"color\": \"black\", \"fillOpacity\": 1, \"strokeWidth\": 1}, \"encoding\": {\"fill\": {\"field\": \"is_present\", \"legend\": {\"title\": [\"Observed data\"]}, \"scale\": {\"range\": [\"black\", \"#ffffff00\"]}, \"type\": \"nominal\"}, \"shape\": {\"field\": \"is_present\", \"type\": \"nominal\"}, \"x\": {\"axis\": {\"domain\": true, \"labels\": true, \"ticks\": true, \"title\": \"time\"}, \"field\": \"time\", \"type\": \"temporal\"}, \"y\": {\"field\": \"value\", \"scale\": {\"zero\": false}, \"title\": \"\", \"type\": \"quantitative\"}}}, {\"layer\": [{\"mark\": \"rule\", \"encoding\": {\"x\": {\"axis\": {\"domain\": false, \"labels\": false, \"ticks\": false, \"title\": null}, \"field\": \"gap_start\", \"type\": \"temporal\"}}}, {\"mark\": \"rule\", \"encoding\": {\"x\": {\"axis\": {\"domain\": false, \"labels\": false, \"ticks\": false, \"title\": null}, \"field\": \"gap_end\", \"type\": \"temporal\"}}}, {\"mark\": {\"type\": \"rect\", \"color\": \"black\", \"opacity\": 0.2}, \"encoding\": {\"x\": {\"axis\": {\"domain\": false, \"labels\": false, \"ticks\": false, \"title\": null}, \"field\": \"gap_start\", \"type\": \"temporal\"}, \"x2\": {\"field\": \"gap_end\"}}}], \"data\": {\"name\": \"data-0649de2b0733019f4936adba08c7cae5\"}}, {\"data\": {\"name\": \"data-396b6fee5d84b8c67c003177bd0f1779\"}, \"mark\": \"line\", \"encoding\": {\"color\": {\"field\": \"variable\", \"type\": \"nominal\"}, \"x\": {\"field\": \"time\", \"type\": \"temporal\"}, \"y\": {\"field\": \"value\", \"scale\": {\"zero\": false}, \"title\": \"\", \"type\": \"quantitative\"}}, \"name\": \"view_45\"}], \"params\": [{\"name\": \"param_78\", \"select\": {\"type\": \"interval\"}, \"bind\": \"scales\", \"views\": [\"view_45\"]}], \"title\": \"title TA\", \"$schema\": \"https://vega.github.io/schema/vega-lite/v5.2.0.json\", \"datasets\": {\"data-396b6fee5d84b8c67c003177bd0f1779\": [{\"time\": \"2000-06-15T17:00:00\", \"variable\": \"TA\", \"value\": 14.220000267028809, \"is_present\": true}, {\"time\": \"2000-06-15T17:30:00\", \"variable\": \"TA\", \"value\": 14.109999656677246, \"is_present\": true}, {\"time\": \"2000-06-15T18:00:00\", \"variable\": \"TA\", \"value\": 14.229999542236328, \"is_present\": true}, {\"time\": \"2000-06-15T18:30:00\", \"variable\": \"TA\", \"value\": 14.399999618530273, \"is_present\": true}, {\"time\": \"2000-06-15T19:00:00\", \"variable\": \"TA\", \"value\": 14.09000015258789, \"is_present\": true}, {\"time\": \"2000-06-15T19:30:00\", \"variable\": \"TA\", \"value\": 13.710000038146973, \"is_present\": true}, {\"time\": \"2000-06-15T20:00:00\", \"variable\": \"TA\", \"value\": 13.079999923706055, \"is_present\": true}, {\"time\": \"2000-06-15T20:30:00\", \"variable\": \"TA\", \"value\": 12.40999984741211, \"is_present\": false}, {\"time\": \"2000-06-15T21:00:00\", \"variable\": \"TA\", \"value\": 12.270000457763672, \"is_present\": false}, {\"time\": \"2000-06-15T21:30:00\", \"variable\": \"TA\", \"value\": 12.199999809265137, \"is_present\": true}], \"data-0649de2b0733019f4936adba08c7cae5\": [{\"gap_start\": \"2000-06-15T20:30:00\", \"gap_end\": \"2000-06-15T21:00:00\"}]}}, {\"mode\": \"vega-lite\"});\n",
       "</script>"
      ],
      "text/plain": [
       "alt.LayerChart(...)"
      ]
     },
     "execution_count": null,
     "metadata": {},
     "output_type": "execute_result"
    }
   ],
   "source": [
    "plot_variable(m_df.tidy(), \"TA\", title=\"title TA\")"
   ]
  },
  {
   "cell_type": "code",
   "execution_count": null,
   "id": "a41576fd-91dc-44d9-bd01-f0877273a835",
   "metadata": {},
   "outputs": [
    {
     "data": {
      "text/html": [
       "\n",
       "<div id=\"altair-viz-5987075a9b9d401493b96d107fce8d70\"></div>\n",
       "<script type=\"text/javascript\">\n",
       "  var VEGA_DEBUG = (typeof VEGA_DEBUG == \"undefined\") ? {} : VEGA_DEBUG;\n",
       "  (function(spec, embedOpt){\n",
       "    let outputDiv = document.currentScript.previousElementSibling;\n",
       "    if (outputDiv.id !== \"altair-viz-5987075a9b9d401493b96d107fce8d70\") {\n",
       "      outputDiv = document.getElementById(\"altair-viz-5987075a9b9d401493b96d107fce8d70\");\n",
       "    }\n",
       "    const paths = {\n",
       "      \"vega\": \"https://cdn.jsdelivr.net/npm//vega@5?noext\",\n",
       "      \"vega-lib\": \"https://cdn.jsdelivr.net/npm//vega-lib?noext\",\n",
       "      \"vega-lite\": \"https://cdn.jsdelivr.net/npm//vega-lite@5.2.0?noext\",\n",
       "      \"vega-embed\": \"https://cdn.jsdelivr.net/npm//vega-embed@6?noext\",\n",
       "    };\n",
       "\n",
       "    function maybeLoadScript(lib, version) {\n",
       "      var key = `${lib.replace(\"-\", \"\")}_version`;\n",
       "      return (VEGA_DEBUG[key] == version) ?\n",
       "        Promise.resolve(paths[lib]) :\n",
       "        new Promise(function(resolve, reject) {\n",
       "          var s = document.createElement('script');\n",
       "          document.getElementsByTagName(\"head\")[0].appendChild(s);\n",
       "          s.async = true;\n",
       "          s.onload = () => {\n",
       "            VEGA_DEBUG[key] = version;\n",
       "            return resolve(paths[lib]);\n",
       "          };\n",
       "          s.onerror = () => reject(`Error loading script: ${paths[lib]}`);\n",
       "          s.src = paths[lib];\n",
       "        });\n",
       "    }\n",
       "\n",
       "    function showError(err) {\n",
       "      outputDiv.innerHTML = `<div class=\"error\" style=\"color:red;\">${err}</div>`;\n",
       "      throw err;\n",
       "    }\n",
       "\n",
       "    function displayChart(vegaEmbed) {\n",
       "      vegaEmbed(outputDiv, spec, embedOpt)\n",
       "        .catch(err => showError(`Javascript Error: ${err.message}<br>This usually means there's a typo in your chart specification. See the javascript console for the full traceback.`));\n",
       "    }\n",
       "\n",
       "    if(typeof define === \"function\" && define.amd) {\n",
       "      requirejs.config({paths});\n",
       "      require([\"vega-embed\"], displayChart, err => showError(`Error loading script: ${err.message}`));\n",
       "    } else {\n",
       "      maybeLoadScript(\"vega\", \"5\")\n",
       "        .then(() => maybeLoadScript(\"vega-lite\", \"5.2.0\"))\n",
       "        .then(() => maybeLoadScript(\"vega-embed\", \"6\"))\n",
       "        .catch(showError)\n",
       "        .then(() => displayChart(vegaEmbed));\n",
       "    }\n",
       "  })({\"config\": {\"view\": {\"continuousWidth\": 400, \"continuousHeight\": 300}}, \"layer\": [{\"data\": {\"name\": \"data-b9cc5e6444a3428a17e078a59aff7d41\"}, \"mark\": {\"type\": \"point\", \"color\": \"black\", \"fillOpacity\": 1, \"strokeWidth\": 1}, \"encoding\": {\"fill\": {\"field\": \"is_present\", \"legend\": {\"title\": [\"Observed data\"]}, \"scale\": {\"range\": [\"black\", \"#ffffff00\"]}, \"type\": \"nominal\"}, \"shape\": {\"field\": \"is_present\", \"type\": \"nominal\"}, \"x\": {\"axis\": {\"domain\": true, \"labels\": true, \"ticks\": true, \"title\": \"time\"}, \"field\": \"time\", \"type\": \"temporal\"}, \"y\": {\"field\": \"value\", \"scale\": {\"zero\": false}, \"title\": \"\", \"type\": \"quantitative\"}}}, {\"layer\": [{\"mark\": \"rule\", \"encoding\": {\"x\": {\"axis\": {\"domain\": false, \"labels\": false, \"ticks\": false, \"title\": null}, \"field\": \"gap_start\", \"type\": \"temporal\"}}}, {\"mark\": \"rule\", \"encoding\": {\"x\": {\"axis\": {\"domain\": false, \"labels\": false, \"ticks\": false, \"title\": null}, \"field\": \"gap_end\", \"type\": \"temporal\"}}}, {\"mark\": {\"type\": \"rect\", \"color\": \"black\", \"opacity\": 0.2}, \"encoding\": {\"x\": {\"axis\": {\"domain\": false, \"labels\": false, \"ticks\": false, \"title\": null}, \"field\": \"gap_start\", \"type\": \"temporal\"}, \"x2\": {\"field\": \"gap_end\"}}}], \"data\": {\"name\": \"data-0649de2b0733019f4936adba08c7cae5\"}}, {\"layer\": [{\"mark\": \"errorband\", \"encoding\": {\"color\": {\"field\": \"variable\", \"legend\": {\"title\": [\"Line: pred. mean\", \"area: +/- 2 std\"]}, \"type\": \"nominal\"}, \"x\": {\"field\": \"time\", \"type\": \"temporal\"}, \"y\": {\"field\": \"err_low\", \"scale\": {\"zero\": false}, \"title\": \"\", \"type\": \"quantitative\"}, \"y2\": {\"field\": \"err_high\"}}, \"name\": \"view_46\"}, {\"mark\": \"line\", \"encoding\": {\"color\": {\"field\": \"variable\", \"type\": \"nominal\"}, \"x\": {\"field\": \"time\", \"type\": \"temporal\"}, \"y\": {\"field\": \"value\", \"scale\": {\"zero\": false}, \"title\": \"\", \"type\": \"quantitative\"}}}], \"data\": {\"name\": \"data-b9cc5e6444a3428a17e078a59aff7d41\"}}], \"params\": [{\"name\": \"param_79\", \"select\": {\"type\": \"interval\"}, \"bind\": \"scales\", \"views\": [\"view_46\"]}], \"title\": \"title TA\", \"$schema\": \"https://vega.github.io/schema/vega-lite/v5.2.0.json\", \"datasets\": {\"data-b9cc5e6444a3428a17e078a59aff7d41\": [{\"time\": \"2000-06-15T17:00:00\", \"variable\": \"TA\", \"value\": 14.220000267028809, \"is_present\": true, \"std\": 0.5, \"err_low\": 13.220000267028809, \"err_high\": 15.220000267028809}, {\"time\": \"2000-06-15T17:30:00\", \"variable\": \"TA\", \"value\": 14.109999656677246, \"is_present\": true, \"std\": 0.5, \"err_low\": 13.109999656677246, \"err_high\": 15.109999656677246}, {\"time\": \"2000-06-15T18:00:00\", \"variable\": \"TA\", \"value\": 14.229999542236328, \"is_present\": true, \"std\": 0.5, \"err_low\": 13.229999542236328, \"err_high\": 15.229999542236328}, {\"time\": \"2000-06-15T18:30:00\", \"variable\": \"TA\", \"value\": 14.399999618530273, \"is_present\": true, \"std\": 0.5, \"err_low\": 13.399999618530273, \"err_high\": 15.399999618530273}, {\"time\": \"2000-06-15T19:00:00\", \"variable\": \"TA\", \"value\": 14.09000015258789, \"is_present\": true, \"std\": 0.5, \"err_low\": 13.09000015258789, \"err_high\": 15.09000015258789}, {\"time\": \"2000-06-15T19:30:00\", \"variable\": \"TA\", \"value\": 13.710000038146973, \"is_present\": true, \"std\": 0.5, \"err_low\": 12.710000038146973, \"err_high\": 14.710000038146973}, {\"time\": \"2000-06-15T20:00:00\", \"variable\": \"TA\", \"value\": 13.079999923706055, \"is_present\": true, \"std\": 0.5, \"err_low\": 12.079999923706055, \"err_high\": 14.079999923706055}, {\"time\": \"2000-06-15T20:30:00\", \"variable\": \"TA\", \"value\": 12.40999984741211, \"is_present\": false, \"std\": 0.5, \"err_low\": 11.40999984741211, \"err_high\": 13.40999984741211}, {\"time\": \"2000-06-15T21:00:00\", \"variable\": \"TA\", \"value\": 12.270000457763672, \"is_present\": false, \"std\": 0.5, \"err_low\": 11.270000457763672, \"err_high\": 13.270000457763672}, {\"time\": \"2000-06-15T21:30:00\", \"variable\": \"TA\", \"value\": 12.199999809265137, \"is_present\": true, \"std\": 0.5, \"err_low\": 11.199999809265137, \"err_high\": 13.199999809265137}], \"data-0649de2b0733019f4936adba08c7cae5\": [{\"gap_start\": \"2000-06-15T20:30:00\", \"gap_end\": \"2000-06-15T21:00:00\"}]}}, {\"mode\": \"vega-lite\"});\n",
       "</script>"
      ],
      "text/plain": [
       "alt.LayerChart(...)"
      ]
     },
     "execution_count": null,
     "metadata": {},
     "output_type": "execute_result"
    }
   ],
   "source": [
    "plot_variable(m_df.tidy().assign(std=.5), \"TA\", title=\"title TA\", error=True)"
   ]
  },
  {
   "cell_type": "markdown",
   "id": "1533116a-d9a2-4a23-9329-9f9357397e34",
   "metadata": {},
   "source": [
    "##### Facet"
   ]
  },
  {
   "cell_type": "code",
   "execution_count": null,
   "id": "df1cf2d7-d9de-48ff-9017-c20e31b7dd21",
   "metadata": {},
   "outputs": [],
   "source": [
    "#| export\n",
    "def facet_variable(df, # tidy dataframe\n",
    "                   n_cols: int = 3,\n",
    "                   bind_interaction: bool =True, # Whether the sub-plots for each variable should be connected for zooming/panning\n",
    "                   error:bool=False, # plot error bar\n",
    "                   ys:list=[\"value\", \"value\"],\n",
    "                   props:dict|None = None, # additional properties for altair plot (eg. size)\n",
    "                   ) -> alt.Chart:\n",
    "    \"\"\"Plot all values of the column `variable` in different subplots\"\"\"\n",
    "    props = ifnone(props, {'width': 200, 'height': 150})\n",
    "    vars = df.variable.unique()\n",
    "    plot_list = [alt.hconcat() for _ in range(0, len(vars), n_cols)]\n",
    "    selection_scale = alt.selection_interval(bind=\"scales\", encodings=['x']) if bind_interaction else None\n",
    "    for idx, variable in enumerate(vars):\n",
    "        plot = plot_variable(df,\n",
    "                            variable,\n",
    "                            ys = ys,\n",
    "                            title = variable,\n",
    "                            y_label = variable,\n",
    "                            sel = selection_scale,\n",
    "                            props=props,\n",
    "                            error=error)\n",
    "        \n",
    "        plot_list[idx // n_cols] |= plot\n",
    "    \n",
    "    plot = alt.vconcat(*plot_list)\n",
    "    \n",
    "    return plot"
   ]
  },
  {
   "cell_type": "markdown",
   "id": "14d74f32-66a2-4002-a3a0-41bd6b5e2957",
   "metadata": {},
   "source": [
    "##### Show"
   ]
  },
  {
   "cell_type": "code",
   "execution_count": null,
   "id": "1787dc1e-cf5f-479b-9173-eaaf2643fd77",
   "metadata": {},
   "outputs": [],
   "source": [
    "#| export\n",
    "@patch\n",
    "def show(self: MeteoImpDf, ax=None, ctx=None, \n",
    "        n_cols: int = 3,\n",
    "        bind_interaction: bool =True, # Whether the sub-plots for each variable should be connected for zooming/panning\n",
    "        props:dict = None # additional properties (eg. size) for altair plot\n",
    "       ) -> alt.Chart:\n",
    "    \n",
    "    df = self.tidy()\n",
    "    return facet_variable(df, n_cols, bind_interaction, props)"
   ]
  },
  {
   "cell_type": "code",
   "execution_count": null,
   "id": "6c56115a-5127-473f-be9e-57df2f958496",
   "metadata": {},
   "outputs": [
    {
     "data": {
      "text/html": [
       "\n",
       "<div id=\"altair-viz-92fbcd55422840db86856d9ec3ecf5dc\"></div>\n",
       "<script type=\"text/javascript\">\n",
       "  var VEGA_DEBUG = (typeof VEGA_DEBUG == \"undefined\") ? {} : VEGA_DEBUG;\n",
       "  (function(spec, embedOpt){\n",
       "    let outputDiv = document.currentScript.previousElementSibling;\n",
       "    if (outputDiv.id !== \"altair-viz-92fbcd55422840db86856d9ec3ecf5dc\") {\n",
       "      outputDiv = document.getElementById(\"altair-viz-92fbcd55422840db86856d9ec3ecf5dc\");\n",
       "    }\n",
       "    const paths = {\n",
       "      \"vega\": \"https://cdn.jsdelivr.net/npm//vega@5?noext\",\n",
       "      \"vega-lib\": \"https://cdn.jsdelivr.net/npm//vega-lib?noext\",\n",
       "      \"vega-lite\": \"https://cdn.jsdelivr.net/npm//vega-lite@5.2.0?noext\",\n",
       "      \"vega-embed\": \"https://cdn.jsdelivr.net/npm//vega-embed@6?noext\",\n",
       "    };\n",
       "\n",
       "    function maybeLoadScript(lib, version) {\n",
       "      var key = `${lib.replace(\"-\", \"\")}_version`;\n",
       "      return (VEGA_DEBUG[key] == version) ?\n",
       "        Promise.resolve(paths[lib]) :\n",
       "        new Promise(function(resolve, reject) {\n",
       "          var s = document.createElement('script');\n",
       "          document.getElementsByTagName(\"head\")[0].appendChild(s);\n",
       "          s.async = true;\n",
       "          s.onload = () => {\n",
       "            VEGA_DEBUG[key] = version;\n",
       "            return resolve(paths[lib]);\n",
       "          };\n",
       "          s.onerror = () => reject(`Error loading script: ${paths[lib]}`);\n",
       "          s.src = paths[lib];\n",
       "        });\n",
       "    }\n",
       "\n",
       "    function showError(err) {\n",
       "      outputDiv.innerHTML = `<div class=\"error\" style=\"color:red;\">${err}</div>`;\n",
       "      throw err;\n",
       "    }\n",
       "\n",
       "    function displayChart(vegaEmbed) {\n",
       "      vegaEmbed(outputDiv, spec, embedOpt)\n",
       "        .catch(err => showError(`Javascript Error: ${err.message}<br>This usually means there's a typo in your chart specification. See the javascript console for the full traceback.`));\n",
       "    }\n",
       "\n",
       "    if(typeof define === \"function\" && define.amd) {\n",
       "      requirejs.config({paths});\n",
       "      require([\"vega-embed\"], displayChart, err => showError(`Error loading script: ${err.message}`));\n",
       "    } else {\n",
       "      maybeLoadScript(\"vega\", \"5\")\n",
       "        .then(() => maybeLoadScript(\"vega-lite\", \"5.2.0\"))\n",
       "        .then(() => maybeLoadScript(\"vega-embed\", \"6\"))\n",
       "        .catch(showError)\n",
       "        .then(() => displayChart(vegaEmbed));\n",
       "    }\n",
       "  })({\"config\": {\"view\": {\"continuousWidth\": 400, \"continuousHeight\": 300}}, \"vconcat\": [{\"hconcat\": [{\"layer\": [{\"data\": {\"name\": \"data-396b6fee5d84b8c67c003177bd0f1779\"}, \"mark\": {\"type\": \"point\", \"color\": \"black\", \"fillOpacity\": 1, \"strokeWidth\": 1}, \"encoding\": {\"fill\": {\"field\": \"is_present\", \"legend\": {\"title\": [\"Observed data\"]}, \"scale\": {\"range\": [\"black\", \"#ffffff00\"]}, \"type\": \"nominal\"}, \"shape\": {\"field\": \"is_present\", \"type\": \"nominal\"}, \"x\": {\"axis\": {\"domain\": true, \"labels\": true, \"ticks\": true, \"title\": \"time\"}, \"field\": \"time\", \"type\": \"temporal\"}, \"y\": {\"field\": \"value\", \"scale\": {\"zero\": false}, \"title\": \"TA\", \"type\": \"quantitative\"}}}, {\"layer\": [{\"mark\": \"rule\", \"encoding\": {\"x\": {\"axis\": {\"domain\": false, \"labels\": false, \"ticks\": false, \"title\": null}, \"field\": \"gap_start\", \"type\": \"temporal\"}}}, {\"mark\": \"rule\", \"encoding\": {\"x\": {\"axis\": {\"domain\": false, \"labels\": false, \"ticks\": false, \"title\": null}, \"field\": \"gap_end\", \"type\": \"temporal\"}}}, {\"mark\": {\"type\": \"rect\", \"color\": \"black\", \"opacity\": 0.2}, \"encoding\": {\"x\": {\"axis\": {\"domain\": false, \"labels\": false, \"ticks\": false, \"title\": null}, \"field\": \"gap_start\", \"type\": \"temporal\"}, \"x2\": {\"field\": \"gap_end\"}}}], \"data\": {\"name\": \"data-0649de2b0733019f4936adba08c7cae5\"}}, {\"data\": {\"name\": \"data-396b6fee5d84b8c67c003177bd0f1779\"}, \"mark\": \"line\", \"encoding\": {\"color\": {\"field\": \"variable\", \"type\": \"nominal\"}, \"x\": {\"field\": \"time\", \"type\": \"temporal\"}, \"y\": {\"field\": \"value\", \"scale\": {\"zero\": false}, \"title\": \"TA\", \"type\": \"quantitative\"}}, \"name\": \"view_47\"}], \"height\": 150, \"title\": \"TA\", \"width\": 200}, {\"layer\": [{\"data\": {\"name\": \"data-1ac661e4b4c8cb0734f94ebe2ff271e1\"}, \"mark\": {\"type\": \"point\", \"color\": \"black\", \"fillOpacity\": 1, \"strokeWidth\": 1}, \"encoding\": {\"fill\": {\"field\": \"is_present\", \"legend\": {\"title\": [\"Observed data\"]}, \"scale\": {\"range\": [\"black\", \"#ffffff00\"]}, \"type\": \"nominal\"}, \"shape\": {\"field\": \"is_present\", \"type\": \"nominal\"}, \"x\": {\"axis\": {\"domain\": true, \"labels\": true, \"ticks\": true, \"title\": \"time\"}, \"field\": \"time\", \"type\": \"temporal\"}, \"y\": {\"field\": \"value\", \"scale\": {\"zero\": false}, \"title\": \"SW_IN\", \"type\": \"quantitative\"}}}, {\"layer\": [{\"mark\": \"rule\", \"encoding\": {\"x\": {\"axis\": {\"domain\": false, \"labels\": false, \"ticks\": false, \"title\": null}, \"field\": \"gap_start\", \"type\": \"temporal\"}}}, {\"mark\": \"rule\", \"encoding\": {\"x\": {\"axis\": {\"domain\": false, \"labels\": false, \"ticks\": false, \"title\": null}, \"field\": \"gap_end\", \"type\": \"temporal\"}}}, {\"mark\": {\"type\": \"rect\", \"color\": \"black\", \"opacity\": 0.2}, \"encoding\": {\"x\": {\"axis\": {\"domain\": false, \"labels\": false, \"ticks\": false, \"title\": null}, \"field\": \"gap_start\", \"type\": \"temporal\"}, \"x2\": {\"field\": \"gap_end\"}}}], \"data\": {\"name\": \"data-0649de2b0733019f4936adba08c7cae5\"}}, {\"data\": {\"name\": \"data-1ac661e4b4c8cb0734f94ebe2ff271e1\"}, \"mark\": \"line\", \"encoding\": {\"color\": {\"field\": \"variable\", \"type\": \"nominal\"}, \"x\": {\"field\": \"time\", \"type\": \"temporal\"}, \"y\": {\"field\": \"value\", \"scale\": {\"zero\": false}, \"title\": \"SW_IN\", \"type\": \"quantitative\"}}, \"name\": \"view_48\"}], \"height\": 150, \"title\": \"SW_IN\", \"width\": 200}, {\"layer\": [{\"mark\": {\"type\": \"point\", \"color\": \"black\", \"fillOpacity\": 1, \"strokeWidth\": 1}, \"encoding\": {\"fill\": {\"field\": \"is_present\", \"legend\": {\"title\": [\"Observed data\"]}, \"scale\": {\"range\": [\"black\", \"#ffffff00\"]}, \"type\": \"nominal\"}, \"shape\": {\"field\": \"is_present\", \"type\": \"nominal\"}, \"x\": {\"axis\": {\"domain\": true, \"labels\": true, \"ticks\": true, \"title\": \"time\"}, \"field\": \"time\", \"type\": \"temporal\"}, \"y\": {\"field\": \"value\", \"scale\": {\"zero\": false}, \"title\": \"VPD\", \"type\": \"quantitative\"}}}, {\"mark\": \"line\", \"encoding\": {\"color\": {\"field\": \"variable\", \"type\": \"nominal\"}, \"x\": {\"field\": \"time\", \"type\": \"temporal\"}, \"y\": {\"field\": \"value\", \"scale\": {\"zero\": false}, \"title\": \"VPD\", \"type\": \"quantitative\"}}, \"name\": \"view_49\"}], \"data\": {\"name\": \"data-87566384334aba3c379fa0e38b728291\"}, \"height\": 150, \"title\": \"VPD\", \"width\": 200}]}], \"params\": [{\"name\": \"param_80\", \"select\": {\"type\": \"interval\"}, \"bind\": \"scales\", \"views\": [\"view_47\"]}, {\"name\": \"param_81\", \"select\": {\"type\": \"interval\"}, \"bind\": \"scales\", \"views\": [\"view_48\"]}, {\"name\": \"param_82\", \"select\": {\"type\": \"interval\"}, \"bind\": \"scales\", \"views\": [\"view_49\"]}], \"$schema\": \"https://vega.github.io/schema/vega-lite/v5.2.0.json\", \"datasets\": {\"data-396b6fee5d84b8c67c003177bd0f1779\": [{\"time\": \"2000-06-15T17:00:00\", \"variable\": \"TA\", \"value\": 14.220000267028809, \"is_present\": true}, {\"time\": \"2000-06-15T17:30:00\", \"variable\": \"TA\", \"value\": 14.109999656677246, \"is_present\": true}, {\"time\": \"2000-06-15T18:00:00\", \"variable\": \"TA\", \"value\": 14.229999542236328, \"is_present\": true}, {\"time\": \"2000-06-15T18:30:00\", \"variable\": \"TA\", \"value\": 14.399999618530273, \"is_present\": true}, {\"time\": \"2000-06-15T19:00:00\", \"variable\": \"TA\", \"value\": 14.09000015258789, \"is_present\": true}, {\"time\": \"2000-06-15T19:30:00\", \"variable\": \"TA\", \"value\": 13.710000038146973, \"is_present\": true}, {\"time\": \"2000-06-15T20:00:00\", \"variable\": \"TA\", \"value\": 13.079999923706055, \"is_present\": true}, {\"time\": \"2000-06-15T20:30:00\", \"variable\": \"TA\", \"value\": 12.40999984741211, \"is_present\": false}, {\"time\": \"2000-06-15T21:00:00\", \"variable\": \"TA\", \"value\": 12.270000457763672, \"is_present\": false}, {\"time\": \"2000-06-15T21:30:00\", \"variable\": \"TA\", \"value\": 12.199999809265137, \"is_present\": true}], \"data-0649de2b0733019f4936adba08c7cae5\": [{\"gap_start\": \"2000-06-15T20:30:00\", \"gap_end\": \"2000-06-15T21:00:00\"}], \"data-1ac661e4b4c8cb0734f94ebe2ff271e1\": [{\"time\": \"2000-06-15T17:00:00\", \"variable\": \"SW_IN\", \"value\": 224.8000030517578, \"is_present\": true}, {\"time\": \"2000-06-15T17:30:00\", \"variable\": \"SW_IN\", \"value\": 195.27999877929688, \"is_present\": true}, {\"time\": \"2000-06-15T18:00:00\", \"variable\": \"SW_IN\", \"value\": 244.1699981689453, \"is_present\": true}, {\"time\": \"2000-06-15T18:30:00\", \"variable\": \"SW_IN\", \"value\": 253.9199981689453, \"is_present\": true}, {\"time\": \"2000-06-15T19:00:00\", \"variable\": \"SW_IN\", \"value\": 177.30999755859375, \"is_present\": true}, {\"time\": \"2000-06-15T19:30:00\", \"variable\": \"SW_IN\", \"value\": 97.06999969482422, \"is_present\": true}, {\"time\": \"2000-06-15T20:00:00\", \"variable\": \"SW_IN\", \"value\": 39.709999084472656, \"is_present\": true}, {\"time\": \"2000-06-15T20:30:00\", \"variable\": \"SW_IN\", \"value\": 10.649999618530273, \"is_present\": false}, {\"time\": \"2000-06-15T21:00:00\", \"variable\": \"SW_IN\", \"value\": 0.3199999928474426, \"is_present\": false}, {\"time\": \"2000-06-15T21:30:00\", \"variable\": \"SW_IN\", \"value\": 0.0, \"is_present\": true}], \"data-87566384334aba3c379fa0e38b728291\": [{\"time\": \"2000-06-15T17:00:00\", \"variable\": \"VPD\", \"value\": 5.798999786376953, \"is_present\": true}, {\"time\": \"2000-06-15T17:30:00\", \"variable\": \"VPD\", \"value\": 6.577000141143799, \"is_present\": true}, {\"time\": \"2000-06-15T18:00:00\", \"variable\": \"VPD\", \"value\": 6.931000232696533, \"is_present\": true}, {\"time\": \"2000-06-15T18:30:00\", \"variable\": \"VPD\", \"value\": 7.285999774932861, \"is_present\": true}, {\"time\": \"2000-06-15T19:00:00\", \"variable\": \"VPD\", \"value\": 7.250999927520752, \"is_present\": true}, {\"time\": \"2000-06-15T19:30:00\", \"variable\": \"VPD\", \"value\": 6.683000087738037, \"is_present\": true}, {\"time\": \"2000-06-15T20:00:00\", \"variable\": \"VPD\", \"value\": 5.85099983215332, \"is_present\": true}, {\"time\": \"2000-06-15T20:30:00\", \"variable\": \"VPD\", \"value\": 5.254000186920166, \"is_present\": true}, {\"time\": \"2000-06-15T21:00:00\", \"variable\": \"VPD\", \"value\": 5.164000034332275, \"is_present\": true}, {\"time\": \"2000-06-15T21:30:00\", \"variable\": \"VPD\", \"value\": 5.0370001792907715, \"is_present\": true}]}}, {\"mode\": \"vega-lite\"});\n",
       "</script>"
      ],
      "text/plain": [
       "alt.VConcatChart(...)"
      ]
     },
     "execution_count": null,
     "metadata": {},
     "output_type": "execute_result"
    }
   ],
   "source": [
    "m_df.show(bind_interaction = False)"
   ]
  },
  {
   "cell_type": "code",
   "execution_count": null,
   "id": "c9284e47-6433-405f-8b0d-a2cd6595bf94",
   "metadata": {},
   "outputs": [
    {
     "data": {
      "text/html": [
       "\n",
       "<div id=\"altair-viz-45b080d273c744dd87fc77dae742103a\"></div>\n",
       "<script type=\"text/javascript\">\n",
       "  var VEGA_DEBUG = (typeof VEGA_DEBUG == \"undefined\") ? {} : VEGA_DEBUG;\n",
       "  (function(spec, embedOpt){\n",
       "    let outputDiv = document.currentScript.previousElementSibling;\n",
       "    if (outputDiv.id !== \"altair-viz-45b080d273c744dd87fc77dae742103a\") {\n",
       "      outputDiv = document.getElementById(\"altair-viz-45b080d273c744dd87fc77dae742103a\");\n",
       "    }\n",
       "    const paths = {\n",
       "      \"vega\": \"https://cdn.jsdelivr.net/npm//vega@5?noext\",\n",
       "      \"vega-lib\": \"https://cdn.jsdelivr.net/npm//vega-lib?noext\",\n",
       "      \"vega-lite\": \"https://cdn.jsdelivr.net/npm//vega-lite@5.2.0?noext\",\n",
       "      \"vega-embed\": \"https://cdn.jsdelivr.net/npm//vega-embed@6?noext\",\n",
       "    };\n",
       "\n",
       "    function maybeLoadScript(lib, version) {\n",
       "      var key = `${lib.replace(\"-\", \"\")}_version`;\n",
       "      return (VEGA_DEBUG[key] == version) ?\n",
       "        Promise.resolve(paths[lib]) :\n",
       "        new Promise(function(resolve, reject) {\n",
       "          var s = document.createElement('script');\n",
       "          document.getElementsByTagName(\"head\")[0].appendChild(s);\n",
       "          s.async = true;\n",
       "          s.onload = () => {\n",
       "            VEGA_DEBUG[key] = version;\n",
       "            return resolve(paths[lib]);\n",
       "          };\n",
       "          s.onerror = () => reject(`Error loading script: ${paths[lib]}`);\n",
       "          s.src = paths[lib];\n",
       "        });\n",
       "    }\n",
       "\n",
       "    function showError(err) {\n",
       "      outputDiv.innerHTML = `<div class=\"error\" style=\"color:red;\">${err}</div>`;\n",
       "      throw err;\n",
       "    }\n",
       "\n",
       "    function displayChart(vegaEmbed) {\n",
       "      vegaEmbed(outputDiv, spec, embedOpt)\n",
       "        .catch(err => showError(`Javascript Error: ${err.message}<br>This usually means there's a typo in your chart specification. See the javascript console for the full traceback.`));\n",
       "    }\n",
       "\n",
       "    if(typeof define === \"function\" && define.amd) {\n",
       "      requirejs.config({paths});\n",
       "      require([\"vega-embed\"], displayChart, err => showError(`Error loading script: ${err.message}`));\n",
       "    } else {\n",
       "      maybeLoadScript(\"vega\", \"5\")\n",
       "        .then(() => maybeLoadScript(\"vega-lite\", \"5.2.0\"))\n",
       "        .then(() => maybeLoadScript(\"vega-embed\", \"6\"))\n",
       "        .catch(showError)\n",
       "        .then(() => displayChart(vegaEmbed));\n",
       "    }\n",
       "  })({\"config\": {\"view\": {\"continuousWidth\": 400, \"continuousHeight\": 300}}, \"vconcat\": [{\"hconcat\": [{\"layer\": [{\"data\": {\"name\": \"data-292fcf1663235fccd185df2139181813\"}, \"mark\": {\"type\": \"point\", \"color\": \"black\", \"fillOpacity\": 1, \"strokeWidth\": 1}, \"encoding\": {\"fill\": {\"field\": \"is_present\", \"legend\": {\"title\": [\"Observed data\"]}, \"scale\": {\"range\": [\"black\", \"#ffffff00\"]}, \"type\": \"nominal\"}, \"shape\": {\"field\": \"is_present\", \"type\": \"nominal\"}, \"x\": {\"axis\": {\"domain\": true, \"labels\": true, \"ticks\": true, \"title\": \"time\"}, \"field\": \"time\", \"type\": \"temporal\"}, \"y\": {\"field\": \"value\", \"scale\": {\"zero\": false}, \"title\": \"TA\", \"type\": \"quantitative\"}}}, {\"layer\": [{\"mark\": \"rule\", \"encoding\": {\"x\": {\"axis\": {\"domain\": false, \"labels\": false, \"ticks\": false, \"title\": null}, \"field\": \"gap_start\", \"type\": \"temporal\"}}}, {\"mark\": \"rule\", \"encoding\": {\"x\": {\"axis\": {\"domain\": false, \"labels\": false, \"ticks\": false, \"title\": null}, \"field\": \"gap_end\", \"type\": \"temporal\"}}}, {\"mark\": {\"type\": \"rect\", \"color\": \"black\", \"opacity\": 0.2}, \"encoding\": {\"x\": {\"axis\": {\"domain\": false, \"labels\": false, \"ticks\": false, \"title\": null}, \"field\": \"gap_start\", \"type\": \"temporal\"}, \"x2\": {\"field\": \"gap_end\"}}}], \"data\": {\"name\": \"data-483ea7b9c23fceedc681a888db04c57d\"}}, {\"data\": {\"name\": \"data-292fcf1663235fccd185df2139181813\"}, \"mark\": \"line\", \"encoding\": {\"color\": {\"field\": \"variable\", \"type\": \"nominal\"}, \"x\": {\"field\": \"time\", \"type\": \"temporal\"}, \"y\": {\"field\": \"value\", \"scale\": {\"zero\": false}, \"title\": \"TA\", \"type\": \"quantitative\"}}, \"name\": \"view_50\"}], \"height\": 150, \"title\": \"TA\", \"width\": 200}, {\"layer\": [{\"data\": {\"name\": \"data-c762ae38b1473a6150307280994db5dc\"}, \"mark\": {\"type\": \"point\", \"color\": \"black\", \"fillOpacity\": 1, \"strokeWidth\": 1}, \"encoding\": {\"fill\": {\"field\": \"is_present\", \"legend\": {\"title\": [\"Observed data\"]}, \"scale\": {\"range\": [\"black\", \"#ffffff00\"]}, \"type\": \"nominal\"}, \"shape\": {\"field\": \"is_present\", \"type\": \"nominal\"}, \"x\": {\"axis\": {\"domain\": true, \"labels\": true, \"ticks\": true, \"title\": \"time\"}, \"field\": \"time\", \"type\": \"temporal\"}, \"y\": {\"field\": \"value\", \"scale\": {\"zero\": false}, \"title\": \"SW_IN\", \"type\": \"quantitative\"}}}, {\"layer\": [{\"mark\": \"rule\", \"encoding\": {\"x\": {\"axis\": {\"domain\": false, \"labels\": false, \"ticks\": false, \"title\": null}, \"field\": \"gap_start\", \"type\": \"temporal\"}}}, {\"mark\": \"rule\", \"encoding\": {\"x\": {\"axis\": {\"domain\": false, \"labels\": false, \"ticks\": false, \"title\": null}, \"field\": \"gap_end\", \"type\": \"temporal\"}}}, {\"mark\": {\"type\": \"rect\", \"color\": \"black\", \"opacity\": 0.2}, \"encoding\": {\"x\": {\"axis\": {\"domain\": false, \"labels\": false, \"ticks\": false, \"title\": null}, \"field\": \"gap_start\", \"type\": \"temporal\"}, \"x2\": {\"field\": \"gap_end\"}}}], \"data\": {\"name\": \"data-483ea7b9c23fceedc681a888db04c57d\"}}, {\"data\": {\"name\": \"data-c762ae38b1473a6150307280994db5dc\"}, \"mark\": \"line\", \"encoding\": {\"color\": {\"field\": \"variable\", \"type\": \"nominal\"}, \"x\": {\"field\": \"time\", \"type\": \"temporal\"}, \"y\": {\"field\": \"value\", \"scale\": {\"zero\": false}, \"title\": \"SW_IN\", \"type\": \"quantitative\"}}, \"name\": \"view_51\"}], \"height\": 150, \"title\": \"SW_IN\", \"width\": 200}, {\"layer\": [{\"mark\": {\"type\": \"point\", \"color\": \"black\", \"fillOpacity\": 1, \"strokeWidth\": 1}, \"encoding\": {\"fill\": {\"field\": \"is_present\", \"legend\": {\"title\": [\"Observed data\"]}, \"scale\": {\"range\": [\"black\", \"#ffffff00\"]}, \"type\": \"nominal\"}, \"shape\": {\"field\": \"is_present\", \"type\": \"nominal\"}, \"x\": {\"axis\": {\"domain\": true, \"labels\": true, \"ticks\": true, \"title\": \"time\"}, \"field\": \"time\", \"type\": \"temporal\"}, \"y\": {\"field\": \"value\", \"scale\": {\"zero\": false}, \"title\": \"VPD\", \"type\": \"quantitative\"}}}, {\"mark\": \"line\", \"encoding\": {\"color\": {\"field\": \"variable\", \"type\": \"nominal\"}, \"x\": {\"field\": \"time\", \"type\": \"temporal\"}, \"y\": {\"field\": \"value\", \"scale\": {\"zero\": false}, \"title\": \"VPD\", \"type\": \"quantitative\"}}, \"name\": \"view_52\"}], \"data\": {\"name\": \"data-87566384334aba3c379fa0e38b728291\"}, \"height\": 150, \"title\": \"VPD\", \"width\": 200}]}], \"params\": [{\"name\": \"param_83\", \"select\": {\"type\": \"interval\", \"encodings\": [\"x\"]}, \"bind\": \"scales\", \"views\": [\"view_50\", \"view_51\", \"view_52\"]}], \"$schema\": \"https://vega.github.io/schema/vega-lite/v5.2.0.json\", \"datasets\": {\"data-292fcf1663235fccd185df2139181813\": [{\"time\": \"2000-06-15T17:00:00\", \"variable\": \"TA\", \"value\": 14.220000267028809, \"is_present\": true}, {\"time\": \"2000-06-15T17:30:00\", \"variable\": \"TA\", \"value\": 14.109999656677246, \"is_present\": true}, {\"time\": \"2000-06-15T18:00:00\", \"variable\": \"TA\", \"value\": 14.229999542236328, \"is_present\": true}, {\"time\": \"2000-06-15T18:30:00\", \"variable\": \"TA\", \"value\": 14.399999618530273, \"is_present\": false}, {\"time\": \"2000-06-15T19:00:00\", \"variable\": \"TA\", \"value\": 14.09000015258789, \"is_present\": false}, {\"time\": \"2000-06-15T19:30:00\", \"variable\": \"TA\", \"value\": 13.710000038146973, \"is_present\": true}, {\"time\": \"2000-06-15T20:00:00\", \"variable\": \"TA\", \"value\": 13.079999923706055, \"is_present\": true}, {\"time\": \"2000-06-15T20:30:00\", \"variable\": \"TA\", \"value\": 12.40999984741211, \"is_present\": true}, {\"time\": \"2000-06-15T21:00:00\", \"variable\": \"TA\", \"value\": 12.270000457763672, \"is_present\": true}, {\"time\": \"2000-06-15T21:30:00\", \"variable\": \"TA\", \"value\": 12.199999809265137, \"is_present\": true}], \"data-483ea7b9c23fceedc681a888db04c57d\": [{\"gap_start\": \"2000-06-15T18:30:00\", \"gap_end\": \"2000-06-15T19:00:00\"}], \"data-c762ae38b1473a6150307280994db5dc\": [{\"time\": \"2000-06-15T17:00:00\", \"variable\": \"SW_IN\", \"value\": 224.8000030517578, \"is_present\": true}, {\"time\": \"2000-06-15T17:30:00\", \"variable\": \"SW_IN\", \"value\": 195.27999877929688, \"is_present\": true}, {\"time\": \"2000-06-15T18:00:00\", \"variable\": \"SW_IN\", \"value\": 244.1699981689453, \"is_present\": true}, {\"time\": \"2000-06-15T18:30:00\", \"variable\": \"SW_IN\", \"value\": 253.9199981689453, \"is_present\": false}, {\"time\": \"2000-06-15T19:00:00\", \"variable\": \"SW_IN\", \"value\": 177.30999755859375, \"is_present\": false}, {\"time\": \"2000-06-15T19:30:00\", \"variable\": \"SW_IN\", \"value\": 97.06999969482422, \"is_present\": true}, {\"time\": \"2000-06-15T20:00:00\", \"variable\": \"SW_IN\", \"value\": 39.709999084472656, \"is_present\": true}, {\"time\": \"2000-06-15T20:30:00\", \"variable\": \"SW_IN\", \"value\": 10.649999618530273, \"is_present\": true}, {\"time\": \"2000-06-15T21:00:00\", \"variable\": \"SW_IN\", \"value\": 0.3199999928474426, \"is_present\": true}, {\"time\": \"2000-06-15T21:30:00\", \"variable\": \"SW_IN\", \"value\": 0.0, \"is_present\": true}], \"data-87566384334aba3c379fa0e38b728291\": [{\"time\": \"2000-06-15T17:00:00\", \"variable\": \"VPD\", \"value\": 5.798999786376953, \"is_present\": true}, {\"time\": \"2000-06-15T17:30:00\", \"variable\": \"VPD\", \"value\": 6.577000141143799, \"is_present\": true}, {\"time\": \"2000-06-15T18:00:00\", \"variable\": \"VPD\", \"value\": 6.931000232696533, \"is_present\": true}, {\"time\": \"2000-06-15T18:30:00\", \"variable\": \"VPD\", \"value\": 7.285999774932861, \"is_present\": true}, {\"time\": \"2000-06-15T19:00:00\", \"variable\": \"VPD\", \"value\": 7.250999927520752, \"is_present\": true}, {\"time\": \"2000-06-15T19:30:00\", \"variable\": \"VPD\", \"value\": 6.683000087738037, \"is_present\": true}, {\"time\": \"2000-06-15T20:00:00\", \"variable\": \"VPD\", \"value\": 5.85099983215332, \"is_present\": true}, {\"time\": \"2000-06-15T20:30:00\", \"variable\": \"VPD\", \"value\": 5.254000186920166, \"is_present\": true}, {\"time\": \"2000-06-15T21:00:00\", \"variable\": \"VPD\", \"value\": 5.164000034332275, \"is_present\": true}, {\"time\": \"2000-06-15T21:30:00\", \"variable\": \"VPD\", \"value\": 5.0370001792907715, \"is_present\": true}]}}, {\"mode\": \"vega-lite\"});\n",
       "</script>"
      ],
      "text/plain": [
       "alt.VConcatChart(...)"
      ]
     },
     "execution_count": null,
     "metadata": {},
     "output_type": "execute_result"
    }
   ],
   "source": [
    "tfms2[0].show()"
   ]
  },
  {
   "cell_type": "code",
   "execution_count": null,
   "id": "416677b9-11ee-4700-b495-0a625209d43b",
   "metadata": {},
   "outputs": [
    {
     "data": {
      "text/html": [
       "\n",
       "<div id=\"altair-viz-8ac85e240551424f8f167ad6abcabd18\"></div>\n",
       "<script type=\"text/javascript\">\n",
       "  var VEGA_DEBUG = (typeof VEGA_DEBUG == \"undefined\") ? {} : VEGA_DEBUG;\n",
       "  (function(spec, embedOpt){\n",
       "    let outputDiv = document.currentScript.previousElementSibling;\n",
       "    if (outputDiv.id !== \"altair-viz-8ac85e240551424f8f167ad6abcabd18\") {\n",
       "      outputDiv = document.getElementById(\"altair-viz-8ac85e240551424f8f167ad6abcabd18\");\n",
       "    }\n",
       "    const paths = {\n",
       "      \"vega\": \"https://cdn.jsdelivr.net/npm//vega@5?noext\",\n",
       "      \"vega-lib\": \"https://cdn.jsdelivr.net/npm//vega-lib?noext\",\n",
       "      \"vega-lite\": \"https://cdn.jsdelivr.net/npm//vega-lite@5.2.0?noext\",\n",
       "      \"vega-embed\": \"https://cdn.jsdelivr.net/npm//vega-embed@6?noext\",\n",
       "    };\n",
       "\n",
       "    function maybeLoadScript(lib, version) {\n",
       "      var key = `${lib.replace(\"-\", \"\")}_version`;\n",
       "      return (VEGA_DEBUG[key] == version) ?\n",
       "        Promise.resolve(paths[lib]) :\n",
       "        new Promise(function(resolve, reject) {\n",
       "          var s = document.createElement('script');\n",
       "          document.getElementsByTagName(\"head\")[0].appendChild(s);\n",
       "          s.async = true;\n",
       "          s.onload = () => {\n",
       "            VEGA_DEBUG[key] = version;\n",
       "            return resolve(paths[lib]);\n",
       "          };\n",
       "          s.onerror = () => reject(`Error loading script: ${paths[lib]}`);\n",
       "          s.src = paths[lib];\n",
       "        });\n",
       "    }\n",
       "\n",
       "    function showError(err) {\n",
       "      outputDiv.innerHTML = `<div class=\"error\" style=\"color:red;\">${err}</div>`;\n",
       "      throw err;\n",
       "    }\n",
       "\n",
       "    function displayChart(vegaEmbed) {\n",
       "      vegaEmbed(outputDiv, spec, embedOpt)\n",
       "        .catch(err => showError(`Javascript Error: ${err.message}<br>This usually means there's a typo in your chart specification. See the javascript console for the full traceback.`));\n",
       "    }\n",
       "\n",
       "    if(typeof define === \"function\" && define.amd) {\n",
       "      requirejs.config({paths});\n",
       "      require([\"vega-embed\"], displayChart, err => showError(`Error loading script: ${err.message}`));\n",
       "    } else {\n",
       "      maybeLoadScript(\"vega\", \"5\")\n",
       "        .then(() => maybeLoadScript(\"vega-lite\", \"5.2.0\"))\n",
       "        .then(() => maybeLoadScript(\"vega-embed\", \"6\"))\n",
       "        .catch(showError)\n",
       "        .then(() => displayChart(vegaEmbed));\n",
       "    }\n",
       "  })({\"config\": {\"view\": {\"continuousWidth\": 400, \"continuousHeight\": 300}}, \"vconcat\": [{\"hconcat\": [{\"layer\": [{\"data\": {\"name\": \"data-45256bfe27b9f2644de4a9867124a9e7\"}, \"mark\": {\"type\": \"point\", \"color\": \"black\", \"fillOpacity\": 1, \"strokeWidth\": 1}, \"encoding\": {\"fill\": {\"field\": \"is_present\", \"legend\": {\"title\": [\"Observed data\"]}, \"scale\": {\"range\": [\"black\", \"#ffffff00\"]}, \"type\": \"nominal\"}, \"shape\": {\"field\": \"is_present\", \"type\": \"nominal\"}, \"x\": {\"axis\": {\"domain\": true, \"labels\": true, \"ticks\": true, \"title\": \"time\"}, \"field\": \"time\", \"type\": \"temporal\"}, \"y\": {\"field\": \"value\", \"scale\": {\"zero\": false}, \"title\": \"TA\", \"type\": \"quantitative\"}}}, {\"layer\": [{\"mark\": \"rule\", \"encoding\": {\"x\": {\"axis\": {\"domain\": false, \"labels\": false, \"ticks\": false, \"title\": null}, \"field\": \"gap_start\", \"type\": \"temporal\"}}}, {\"mark\": \"rule\", \"encoding\": {\"x\": {\"axis\": {\"domain\": false, \"labels\": false, \"ticks\": false, \"title\": null}, \"field\": \"gap_end\", \"type\": \"temporal\"}}}, {\"mark\": {\"type\": \"rect\", \"color\": \"black\", \"opacity\": 0.2}, \"encoding\": {\"x\": {\"axis\": {\"domain\": false, \"labels\": false, \"ticks\": false, \"title\": null}, \"field\": \"gap_start\", \"type\": \"temporal\"}, \"x2\": {\"field\": \"gap_end\"}}}], \"data\": {\"name\": \"data-157b39944611c9781be5ec85dd0a5246\"}}, {\"data\": {\"name\": \"data-45256bfe27b9f2644de4a9867124a9e7\"}, \"mark\": \"line\", \"encoding\": {\"color\": {\"field\": \"variable\", \"type\": \"nominal\"}, \"x\": {\"field\": \"time\", \"type\": \"temporal\"}, \"y\": {\"field\": \"value\", \"scale\": {\"zero\": false}, \"title\": \"TA\", \"type\": \"quantitative\"}}, \"name\": \"view_53\"}], \"height\": 150, \"title\": \"TA\", \"width\": 200}, {\"layer\": [{\"data\": {\"name\": \"data-159516afed9f2883a19e83fce4124af0\"}, \"mark\": {\"type\": \"point\", \"color\": \"black\", \"fillOpacity\": 1, \"strokeWidth\": 1}, \"encoding\": {\"fill\": {\"field\": \"is_present\", \"legend\": {\"title\": [\"Observed data\"]}, \"scale\": {\"range\": [\"black\", \"#ffffff00\"]}, \"type\": \"nominal\"}, \"shape\": {\"field\": \"is_present\", \"type\": \"nominal\"}, \"x\": {\"axis\": {\"domain\": true, \"labels\": true, \"ticks\": true, \"title\": \"time\"}, \"field\": \"time\", \"type\": \"temporal\"}, \"y\": {\"field\": \"value\", \"scale\": {\"zero\": false}, \"title\": \"SW_IN\", \"type\": \"quantitative\"}}}, {\"layer\": [{\"mark\": \"rule\", \"encoding\": {\"x\": {\"axis\": {\"domain\": false, \"labels\": false, \"ticks\": false, \"title\": null}, \"field\": \"gap_start\", \"type\": \"temporal\"}}}, {\"mark\": \"rule\", \"encoding\": {\"x\": {\"axis\": {\"domain\": false, \"labels\": false, \"ticks\": false, \"title\": null}, \"field\": \"gap_end\", \"type\": \"temporal\"}}}, {\"mark\": {\"type\": \"rect\", \"color\": \"black\", \"opacity\": 0.2}, \"encoding\": {\"x\": {\"axis\": {\"domain\": false, \"labels\": false, \"ticks\": false, \"title\": null}, \"field\": \"gap_start\", \"type\": \"temporal\"}, \"x2\": {\"field\": \"gap_end\"}}}], \"data\": {\"name\": \"data-157b39944611c9781be5ec85dd0a5246\"}}, {\"data\": {\"name\": \"data-159516afed9f2883a19e83fce4124af0\"}, \"mark\": \"line\", \"encoding\": {\"color\": {\"field\": \"variable\", \"type\": \"nominal\"}, \"x\": {\"field\": \"time\", \"type\": \"temporal\"}, \"y\": {\"field\": \"value\", \"scale\": {\"zero\": false}, \"title\": \"SW_IN\", \"type\": \"quantitative\"}}, \"name\": \"view_54\"}], \"height\": 150, \"title\": \"SW_IN\", \"width\": 200}, {\"layer\": [{\"mark\": {\"type\": \"point\", \"color\": \"black\", \"fillOpacity\": 1, \"strokeWidth\": 1}, \"encoding\": {\"fill\": {\"field\": \"is_present\", \"legend\": {\"title\": [\"Observed data\"]}, \"scale\": {\"range\": [\"black\", \"#ffffff00\"]}, \"type\": \"nominal\"}, \"shape\": {\"field\": \"is_present\", \"type\": \"nominal\"}, \"x\": {\"axis\": {\"domain\": true, \"labels\": true, \"ticks\": true, \"title\": \"time\"}, \"field\": \"time\", \"type\": \"temporal\"}, \"y\": {\"field\": \"value\", \"scale\": {\"zero\": false}, \"title\": \"VPD\", \"type\": \"quantitative\"}}}, {\"mark\": \"line\", \"encoding\": {\"color\": {\"field\": \"variable\", \"type\": \"nominal\"}, \"x\": {\"field\": \"time\", \"type\": \"temporal\"}, \"y\": {\"field\": \"value\", \"scale\": {\"zero\": false}, \"title\": \"VPD\", \"type\": \"quantitative\"}}, \"name\": \"view_55\"}], \"data\": {\"name\": \"data-0758420d5d1e1a0a6b4da55e8a5b3610\"}, \"height\": 150, \"title\": \"VPD\", \"width\": 200}]}], \"params\": [{\"name\": \"param_87\", \"select\": {\"type\": \"interval\", \"encodings\": [\"x\"]}, \"bind\": \"scales\", \"views\": [\"view_53\", \"view_54\", \"view_55\"]}], \"$schema\": \"https://vega.github.io/schema/vega-lite/v5.2.0.json\", \"datasets\": {\"data-45256bfe27b9f2644de4a9867124a9e7\": [{\"time\": \"2000-06-16T08:00:00\", \"variable\": \"TA\", \"value\": 8.899999618530273, \"is_present\": true}, {\"time\": \"2000-06-16T08:30:00\", \"variable\": \"TA\", \"value\": 9.569999694824219, \"is_present\": true}, {\"time\": \"2000-06-16T09:00:00\", \"variable\": \"TA\", \"value\": 9.739999771118164, \"is_present\": true}, {\"time\": \"2000-06-16T09:30:00\", \"variable\": \"TA\", \"value\": 10.020000457763672, \"is_present\": true}, {\"time\": \"2000-06-16T10:00:00\", \"variable\": \"TA\", \"value\": 10.5, \"is_present\": true}, {\"time\": \"2000-06-16T10:30:00\", \"variable\": \"TA\", \"value\": 10.529999732971191, \"is_present\": true}, {\"time\": \"2000-06-16T11:00:00\", \"variable\": \"TA\", \"value\": 10.729999542236328, \"is_present\": true}, {\"time\": \"2000-06-16T11:30:00\", \"variable\": \"TA\", \"value\": 10.770000457763672, \"is_present\": false}, {\"time\": \"2000-06-16T12:00:00\", \"variable\": \"TA\", \"value\": 10.850000381469727, \"is_present\": false}, {\"time\": \"2000-06-16T12:30:00\", \"variable\": \"TA\", \"value\": 11.399999618530273, \"is_present\": true}], \"data-157b39944611c9781be5ec85dd0a5246\": [{\"gap_start\": \"2000-06-16T11:30:00\", \"gap_end\": \"2000-06-16T12:00:00\"}], \"data-159516afed9f2883a19e83fce4124af0\": [{\"time\": \"2000-06-16T08:00:00\", \"variable\": \"SW_IN\", \"value\": 467.94000244140625, \"is_present\": true}, {\"time\": \"2000-06-16T08:30:00\", \"variable\": \"SW_IN\", \"value\": 526.6400146484375, \"is_present\": true}, {\"time\": \"2000-06-16T09:00:00\", \"variable\": \"SW_IN\", \"value\": 463.1000061035156, \"is_present\": true}, {\"time\": \"2000-06-16T09:30:00\", \"variable\": \"SW_IN\", \"value\": 676.3599853515625, \"is_present\": true}, {\"time\": \"2000-06-16T10:00:00\", \"variable\": \"SW_IN\", \"value\": 689.47998046875, \"is_present\": true}, {\"time\": \"2000-06-16T10:30:00\", \"variable\": \"SW_IN\", \"value\": 503.30999755859375, \"is_present\": true}, {\"time\": \"2000-06-16T11:00:00\", \"variable\": \"SW_IN\", \"value\": 583.1699829101562, \"is_present\": true}, {\"time\": \"2000-06-16T11:30:00\", \"variable\": \"SW_IN\", \"value\": 329.6400146484375, \"is_present\": false}, {\"time\": \"2000-06-16T12:00:00\", \"variable\": \"SW_IN\", \"value\": 503.57000732421875, \"is_present\": false}, {\"time\": \"2000-06-16T12:30:00\", \"variable\": \"SW_IN\", \"value\": 567.5599975585938, \"is_present\": true}], \"data-0758420d5d1e1a0a6b4da55e8a5b3610\": [{\"time\": \"2000-06-16T08:00:00\", \"variable\": \"VPD\", \"value\": 3.5490000247955322, \"is_present\": true}, {\"time\": \"2000-06-16T08:30:00\", \"variable\": \"VPD\", \"value\": 4.1529998779296875, \"is_present\": true}, {\"time\": \"2000-06-16T09:00:00\", \"variable\": \"VPD\", \"value\": 4.705999851226807, \"is_present\": true}, {\"time\": \"2000-06-16T09:30:00\", \"variable\": \"VPD\", \"value\": 5.374000072479248, \"is_present\": true}, {\"time\": \"2000-06-16T10:00:00\", \"variable\": \"VPD\", \"value\": 5.7129998207092285, \"is_present\": true}, {\"time\": \"2000-06-16T10:30:00\", \"variable\": \"VPD\", \"value\": 5.677000045776367, \"is_present\": true}, {\"time\": \"2000-06-16T11:00:00\", \"variable\": \"VPD\", \"value\": 5.386000156402588, \"is_present\": true}, {\"time\": \"2000-06-16T11:30:00\", \"variable\": \"VPD\", \"value\": 5.355000019073486, \"is_present\": true}, {\"time\": \"2000-06-16T12:00:00\", \"variable\": \"VPD\", \"value\": 5.065999984741211, \"is_present\": true}, {\"time\": \"2000-06-16T12:30:00\", \"variable\": \"VPD\", \"value\": 5.794000148773193, \"is_present\": true}]}}, {\"mode\": \"vega-lite\"});\n",
       "</script>"
      ],
      "text/plain": [
       "alt.VConcatChart(...)"
      ]
     },
     "execution_count": null,
     "metadata": {},
     "output_type": "execute_result"
    }
   ],
   "source": [
    "tfms2[3].show()"
   ]
  },
  {
   "cell_type": "markdown",
   "id": "9e70cf47-7a11-4806-93ba-f9bdf56dc671",
   "metadata": {},
   "source": [
    "### 4) To Tensor"
   ]
  },
  {
   "cell_type": "markdown",
   "id": "a632c649-a391-4513-bcad-c5217ce001ef",
   "metadata": {},
   "source": [
    "this needs to handle both the init with a list of items and when the first item is a sequence of list of items"
   ]
  },
  {
   "cell_type": "code",
   "execution_count": null,
   "id": "1c157b15-d2e4-468b-9505-34478c196d34",
   "metadata": {},
   "outputs": [],
   "source": [
    "#| export\n",
    "class MeteoImpTensor(collections.abc.Sequence):\n",
    "    def __init__(self,*args):\n",
    "        if len(args)==3:\n",
    "            self.data = args[0]\n",
    "            self.mask = args[1]\n",
    "            self.control = args[2]\n",
    "        elif len(args)==1 and len(args[0])==2:\n",
    "            self.data = args[0][0]\n",
    "            self.mask = args[0][1]\n",
    "        else:\n",
    "            raise ValueError(f\"Incorrect number of arguments. got {len(args)} args\")\n",
    "\n",
    "    def __iter__(self): return iter((self.data, self.mask,self.control))\n",
    "    __len__ = 3\n",
    "    def __getitem__(self, key):\n",
    "        if key == 0: return self.data\n",
    "        elif key == 1: return self.mask\n",
    "        elif key == 2: return self.control\n",
    "        else: raise IndexError(\"index bigger than 2\")\n",
    "    __repr__ = basic_repr('data, mask, control')\n",
    "    def _repr_html_(self):\n",
    "        return row_items(data = self.data, mask = self.mask, control = self.control)"
   ]
  },
  {
   "cell_type": "code",
   "execution_count": null,
   "id": "49a73687-9272-44ad-84d5-0b845a63cd98",
   "metadata": {},
   "outputs": [],
   "source": [
    "#| export\n",
    "class MeteoImpDf2Tensor(Transform):\n",
    "    def setups(self, items):\n",
    "        self.columns = list(items[0].data.columns)\n",
    "    def encodes(self, df: MeteoImpDf) -> MeteoImpTensor:\n",
    "        data = torch.tensor(df.data.to_numpy())\n",
    "        mask = torch.tensor(df.mask.to_numpy())\n",
    "        control = torch.tensor(df.control.to_numpy())\n",
    "        return MeteoImpTensor(data, mask, control)\n",
    "        \n",
    "    # def decodes(self, x: MeteoImpTensor) -> MeteoImpDf:\n",
    "    #     data = pd.DataFrame(x.data.detach().cpu().numpy(), columns = self.columns)\n",
    "    #     mask = pd.DataFrame(x.mask.cpu().numpy(), columns = self.columns)\n",
    "    #     control = pd.DataFrame(x.control.cpu().numpy(), columns = self.columns)\n",
    "    #     return MeteoImpDf(data, mask, control)"
   ]
  },
  {
   "cell_type": "code",
   "execution_count": null,
   "id": "f144e2e3-93b2-4b53-86ac-eeed6b483e61",
   "metadata": {},
   "outputs": [],
   "source": [
    "to_t = MeteoImpDf2Tensor()"
   ]
  },
  {
   "cell_type": "code",
   "execution_count": null,
   "id": "70d0c5f6-741a-4687-896a-deeb0d58c201",
   "metadata": {},
   "outputs": [],
   "source": [
    "to_t.setup(tfms2)"
   ]
  },
  {
   "cell_type": "code",
   "execution_count": null,
   "id": "2a4f7ca8-df98-42a4-97a7-cd04a61d1304",
   "metadata": {},
   "outputs": [
    {
     "data": {
      "text/html": [
       "<div style=\"display: flex; column-gap: 20px; flex-wrap: wrap;\" class='table table-striped table-sm'> <div><p style='font-size: 1.2rem;'>data</p> <pre>tensor([[ 14.2200, 224.8000,   5.7990],\n",
       "        [ 14.1100, 195.2800,   6.5770],\n",
       "        [ 14.2300, 244.1700,   6.9310],\n",
       "        [ 14.4000, 253.9200,   7.2860],\n",
       "        [ 14.0900, 177.3100,   7.2510],\n",
       "        [ 13.7100,  97.0700,   6.6830],\n",
       "        [ 13.0800,  39.7100,   5.8510],\n",
       "        [ 12.4100,  10.6500,   5.2540],\n",
       "        [ 12.2700,   0.3200,   5.1640],\n",
       "        [ 12.2000,   0.0000,   5.0370]])</pre> </div><div><p style='font-size: 1.2rem;'>mask</p> <pre>tensor([[ True,  True,  True],\n",
       "        [ True,  True,  True],\n",
       "        [ True,  True,  True],\n",
       "        [False, False,  True],\n",
       "        [False, False,  True],\n",
       "        [ True,  True,  True],\n",
       "        [ True,  True,  True],\n",
       "        [ True,  True,  True],\n",
       "        [ True,  True,  True],\n",
       "        [ True,  True,  True]])</pre> </div><div><p style='font-size: 1.2rem;'>control</p> <pre>tensor([[ 15.0500, 255.1930,   5.1020,  15.1390, 287.1000,   4.9000],\n",
       "        [ 14.9610, 221.4270,   5.3050,  15.0500, 255.1930,   5.1020],\n",
       "        [ 14.8720, 186.3800,   5.5070,  14.9610, 221.4270,   5.3050],\n",
       "        [ 14.7830, 150.6500,   5.7100,  14.8720, 186.3800,   5.5070],\n",
       "        [ 14.6940, 114.8490,   5.9120,  14.7830, 150.6500,   5.7100],\n",
       "        [ 14.6060,  34.7280,   6.1140,  14.6940, 114.8490,   5.9120],\n",
       "        [ 14.3800,  19.8430,   6.0740,  14.6060,  34.7280,   6.1140],\n",
       "        [ 14.1550,   5.7120,   6.0340,  14.3800,  19.8430,   6.0740],\n",
       "        [ 13.9290,   0.0000,   5.9940,  14.1550,   5.7120,   6.0340],\n",
       "        [ 13.7040,   0.0000,   5.9540,  13.9290,   0.0000,   5.9940]])</pre> </div></div>"
      ],
      "text/plain": [
       "__main__.MeteoImpTensor(data=tensor([[ 14.2200, 224.8000,   5.7990],\n",
       "        [ 14.1100, 195.2800,   6.5770],\n",
       "        [ 14.2300, 244.1700,   6.9310],\n",
       "        [ 14.4000, 253.9200,   7.2860],\n",
       "        [ 14.0900, 177.3100,   7.2510],\n",
       "        [ 13.7100,  97.0700,   6.6830],\n",
       "        [ 13.0800,  39.7100,   5.8510],\n",
       "        [ 12.4100,  10.6500,   5.2540],\n",
       "        [ 12.2700,   0.3200,   5.1640],\n",
       "        [ 12.2000,   0.0000,   5.0370]]), mask=tensor([[ True,  True,  True],\n",
       "        [ True,  True,  True],\n",
       "        [ True,  True,  True],\n",
       "        [False, False,  True],\n",
       "        [False, False,  True],\n",
       "        [ True,  True,  True],\n",
       "        [ True,  True,  True],\n",
       "        [ True,  True,  True],\n",
       "        [ True,  True,  True],\n",
       "        [ True,  True,  True]]), control=tensor([[ 15.0500, 255.1930,   5.1020,  15.1390, 287.1000,   4.9000],\n",
       "        [ 14.9610, 221.4270,   5.3050,  15.0500, 255.1930,   5.1020],\n",
       "        [ 14.8720, 186.3800,   5.5070,  14.9610, 221.4270,   5.3050],\n",
       "        [ 14.7830, 150.6500,   5.7100,  14.8720, 186.3800,   5.5070],\n",
       "        [ 14.6940, 114.8490,   5.9120,  14.7830, 150.6500,   5.7100],\n",
       "        [ 14.6060,  34.7280,   6.1140,  14.6940, 114.8490,   5.9120],\n",
       "        [ 14.3800,  19.8430,   6.0740,  14.6060,  34.7280,   6.1140],\n",
       "        [ 14.1550,   5.7120,   6.0340,  14.3800,  19.8430,   6.0740],\n",
       "        [ 13.9290,   0.0000,   5.9940,  14.1550,   5.7120,   6.0340],\n",
       "        [ 13.7040,   0.0000,   5.9540,  13.9290,   0.0000,   5.9940]]))"
      ]
     },
     "execution_count": null,
     "metadata": {},
     "output_type": "execute_result"
    }
   ],
   "source": [
    "to_t(tfms2[0])"
   ]
  },
  {
   "cell_type": "code",
   "execution_count": null,
   "id": "786af7c1-edb5-40ef-bbd3-b9f1b1220f11",
   "metadata": {},
   "outputs": [],
   "source": [
    "to_t.decode(to_t(tfms2[0]));"
   ]
  },
  {
   "cell_type": "code",
   "execution_count": null,
   "id": "d2e84c50-5ecd-43a7-881e-80e53bc55aa0",
   "metadata": {},
   "outputs": [
    {
     "data": {
      "text/html": [
       "<p style='font-size: 1.5rem; font-decoration: bold'>Meteo Imp Df<p><div style=\"display: flex; column-gap: 20px; flex-wrap: wrap;\" class='table table-striped table-sm'> <div> <p style='font-size: 1.3rem;'>data</p> <style type=\"text/css\">\n",
       "</style>\n",
       "<table id=\"T_eccc2\">\n",
       "  <thead>\n",
       "    <tr>\n",
       "      <th class=\"blank level0\" >&nbsp;</th>\n",
       "      <th id=\"T_eccc2_level0_col0\" class=\"col_heading level0 col0\" >TA</th>\n",
       "      <th id=\"T_eccc2_level0_col1\" class=\"col_heading level0 col1\" >SW_IN</th>\n",
       "      <th id=\"T_eccc2_level0_col2\" class=\"col_heading level0 col2\" >VPD</th>\n",
       "    </tr>\n",
       "    <tr>\n",
       "      <th class=\"index_name level0\" >time</th>\n",
       "      <th class=\"blank col0\" >&nbsp;</th>\n",
       "      <th class=\"blank col1\" >&nbsp;</th>\n",
       "      <th class=\"blank col2\" >&nbsp;</th>\n",
       "    </tr>\n",
       "  </thead>\n",
       "  <tbody>\n",
       "    <tr>\n",
       "      <th id=\"T_eccc2_level0_row0\" class=\"row_heading level0 row0\" >2000-06-15 17:00:00</th>\n",
       "      <td id=\"T_eccc2_row0_col0\" class=\"data row0 col0\" >14.2200</td>\n",
       "      <td id=\"T_eccc2_row0_col1\" class=\"data row0 col1\" >224.8000</td>\n",
       "      <td id=\"T_eccc2_row0_col2\" class=\"data row0 col2\" >5.7990</td>\n",
       "    </tr>\n",
       "    <tr>\n",
       "      <th id=\"T_eccc2_level0_row1\" class=\"row_heading level0 row1\" >2000-06-15 17:30:00</th>\n",
       "      <td id=\"T_eccc2_row1_col0\" class=\"data row1 col0\" >14.1100</td>\n",
       "      <td id=\"T_eccc2_row1_col1\" class=\"data row1 col1\" >195.2800</td>\n",
       "      <td id=\"T_eccc2_row1_col2\" class=\"data row1 col2\" >6.5770</td>\n",
       "    </tr>\n",
       "    <tr>\n",
       "      <th id=\"T_eccc2_level0_row2\" class=\"row_heading level0 row2\" >2000-06-15 18:00:00</th>\n",
       "      <td id=\"T_eccc2_row2_col0\" class=\"data row2 col0\" >14.2300</td>\n",
       "      <td id=\"T_eccc2_row2_col1\" class=\"data row2 col1\" >244.1700</td>\n",
       "      <td id=\"T_eccc2_row2_col2\" class=\"data row2 col2\" >6.9310</td>\n",
       "    </tr>\n",
       "    <tr>\n",
       "      <th id=\"T_eccc2_level0_row3\" class=\"row_heading level0 row3\" >2000-06-15 18:30:00</th>\n",
       "      <td id=\"T_eccc2_row3_col0\" class=\"data row3 col0\" >14.4000</td>\n",
       "      <td id=\"T_eccc2_row3_col1\" class=\"data row3 col1\" >253.9200</td>\n",
       "      <td id=\"T_eccc2_row3_col2\" class=\"data row3 col2\" >7.2860</td>\n",
       "    </tr>\n",
       "    <tr>\n",
       "      <th id=\"T_eccc2_level0_row4\" class=\"row_heading level0 row4\" >2000-06-15 19:00:00</th>\n",
       "      <td id=\"T_eccc2_row4_col0\" class=\"data row4 col0\" >14.0900</td>\n",
       "      <td id=\"T_eccc2_row4_col1\" class=\"data row4 col1\" >177.3100</td>\n",
       "      <td id=\"T_eccc2_row4_col2\" class=\"data row4 col2\" >7.2510</td>\n",
       "    </tr>\n",
       "    <tr>\n",
       "      <th id=\"T_eccc2_level0_row5\" class=\"row_heading level0 row5\" >2000-06-15 19:30:00</th>\n",
       "      <td id=\"T_eccc2_row5_col0\" class=\"data row5 col0\" >13.7100</td>\n",
       "      <td id=\"T_eccc2_row5_col1\" class=\"data row5 col1\" >97.0700</td>\n",
       "      <td id=\"T_eccc2_row5_col2\" class=\"data row5 col2\" >6.6830</td>\n",
       "    </tr>\n",
       "    <tr>\n",
       "      <th id=\"T_eccc2_level0_row6\" class=\"row_heading level0 row6\" >2000-06-15 20:00:00</th>\n",
       "      <td id=\"T_eccc2_row6_col0\" class=\"data row6 col0\" >13.0800</td>\n",
       "      <td id=\"T_eccc2_row6_col1\" class=\"data row6 col1\" >39.7100</td>\n",
       "      <td id=\"T_eccc2_row6_col2\" class=\"data row6 col2\" >5.8510</td>\n",
       "    </tr>\n",
       "    <tr>\n",
       "      <th id=\"T_eccc2_level0_row7\" class=\"row_heading level0 row7\" >2000-06-15 20:30:00</th>\n",
       "      <td id=\"T_eccc2_row7_col0\" class=\"data row7 col0\" >12.4100</td>\n",
       "      <td id=\"T_eccc2_row7_col1\" class=\"data row7 col1\" >10.6500</td>\n",
       "      <td id=\"T_eccc2_row7_col2\" class=\"data row7 col2\" >5.2540</td>\n",
       "    </tr>\n",
       "    <tr>\n",
       "      <th id=\"T_eccc2_level0_row8\" class=\"row_heading level0 row8\" >2000-06-15 21:00:00</th>\n",
       "      <td id=\"T_eccc2_row8_col0\" class=\"data row8 col0\" >12.2700</td>\n",
       "      <td id=\"T_eccc2_row8_col1\" class=\"data row8 col1\" >0.3200</td>\n",
       "      <td id=\"T_eccc2_row8_col2\" class=\"data row8 col2\" >5.1640</td>\n",
       "    </tr>\n",
       "    <tr>\n",
       "      <th id=\"T_eccc2_level0_row9\" class=\"row_heading level0 row9\" >2000-06-15 21:30:00</th>\n",
       "      <td id=\"T_eccc2_row9_col0\" class=\"data row9 col0\" >12.2000</td>\n",
       "      <td id=\"T_eccc2_row9_col1\" class=\"data row9 col1\" >0.0000</td>\n",
       "      <td id=\"T_eccc2_row9_col2\" class=\"data row9 col2\" >5.0370</td>\n",
       "    </tr>\n",
       "  </tbody>\n",
       "</table>\n",
       " </div><div> <p style='font-size: 1.3rem;'>mask</p> <style type=\"text/css\">\n",
       "</style>\n",
       "<table id=\"T_3ada0\">\n",
       "  <thead>\n",
       "    <tr>\n",
       "      <th class=\"blank level0\" >&nbsp;</th>\n",
       "      <th id=\"T_3ada0_level0_col0\" class=\"col_heading level0 col0\" >TA</th>\n",
       "      <th id=\"T_3ada0_level0_col1\" class=\"col_heading level0 col1\" >SW_IN</th>\n",
       "      <th id=\"T_3ada0_level0_col2\" class=\"col_heading level0 col2\" >VPD</th>\n",
       "    </tr>\n",
       "    <tr>\n",
       "      <th class=\"index_name level0\" >time</th>\n",
       "      <th class=\"blank col0\" >&nbsp;</th>\n",
       "      <th class=\"blank col1\" >&nbsp;</th>\n",
       "      <th class=\"blank col2\" >&nbsp;</th>\n",
       "    </tr>\n",
       "  </thead>\n",
       "  <tbody>\n",
       "    <tr>\n",
       "      <th id=\"T_3ada0_level0_row0\" class=\"row_heading level0 row0\" >2000-06-15 17:00:00</th>\n",
       "      <td id=\"T_3ada0_row0_col0\" class=\"data row0 col0\" >False</td>\n",
       "      <td id=\"T_3ada0_row0_col1\" class=\"data row0 col1\" >False</td>\n",
       "      <td id=\"T_3ada0_row0_col2\" class=\"data row0 col2\" >True</td>\n",
       "    </tr>\n",
       "    <tr>\n",
       "      <th id=\"T_3ada0_level0_row1\" class=\"row_heading level0 row1\" >2000-06-15 17:30:00</th>\n",
       "      <td id=\"T_3ada0_row1_col0\" class=\"data row1 col0\" >False</td>\n",
       "      <td id=\"T_3ada0_row1_col1\" class=\"data row1 col1\" >False</td>\n",
       "      <td id=\"T_3ada0_row1_col2\" class=\"data row1 col2\" >True</td>\n",
       "    </tr>\n",
       "    <tr>\n",
       "      <th id=\"T_3ada0_level0_row2\" class=\"row_heading level0 row2\" >2000-06-15 18:00:00</th>\n",
       "      <td id=\"T_3ada0_row2_col0\" class=\"data row2 col0\" >True</td>\n",
       "      <td id=\"T_3ada0_row2_col1\" class=\"data row2 col1\" >True</td>\n",
       "      <td id=\"T_3ada0_row2_col2\" class=\"data row2 col2\" >True</td>\n",
       "    </tr>\n",
       "    <tr>\n",
       "      <th id=\"T_3ada0_level0_row3\" class=\"row_heading level0 row3\" >2000-06-15 18:30:00</th>\n",
       "      <td id=\"T_3ada0_row3_col0\" class=\"data row3 col0\" >True</td>\n",
       "      <td id=\"T_3ada0_row3_col1\" class=\"data row3 col1\" >True</td>\n",
       "      <td id=\"T_3ada0_row3_col2\" class=\"data row3 col2\" >True</td>\n",
       "    </tr>\n",
       "    <tr>\n",
       "      <th id=\"T_3ada0_level0_row4\" class=\"row_heading level0 row4\" >2000-06-15 19:00:00</th>\n",
       "      <td id=\"T_3ada0_row4_col0\" class=\"data row4 col0\" >True</td>\n",
       "      <td id=\"T_3ada0_row4_col1\" class=\"data row4 col1\" >True</td>\n",
       "      <td id=\"T_3ada0_row4_col2\" class=\"data row4 col2\" >True</td>\n",
       "    </tr>\n",
       "    <tr>\n",
       "      <th id=\"T_3ada0_level0_row5\" class=\"row_heading level0 row5\" >2000-06-15 19:30:00</th>\n",
       "      <td id=\"T_3ada0_row5_col0\" class=\"data row5 col0\" >True</td>\n",
       "      <td id=\"T_3ada0_row5_col1\" class=\"data row5 col1\" >True</td>\n",
       "      <td id=\"T_3ada0_row5_col2\" class=\"data row5 col2\" >True</td>\n",
       "    </tr>\n",
       "    <tr>\n",
       "      <th id=\"T_3ada0_level0_row6\" class=\"row_heading level0 row6\" >2000-06-15 20:00:00</th>\n",
       "      <td id=\"T_3ada0_row6_col0\" class=\"data row6 col0\" >True</td>\n",
       "      <td id=\"T_3ada0_row6_col1\" class=\"data row6 col1\" >True</td>\n",
       "      <td id=\"T_3ada0_row6_col2\" class=\"data row6 col2\" >True</td>\n",
       "    </tr>\n",
       "    <tr>\n",
       "      <th id=\"T_3ada0_level0_row7\" class=\"row_heading level0 row7\" >2000-06-15 20:30:00</th>\n",
       "      <td id=\"T_3ada0_row7_col0\" class=\"data row7 col0\" >True</td>\n",
       "      <td id=\"T_3ada0_row7_col1\" class=\"data row7 col1\" >True</td>\n",
       "      <td id=\"T_3ada0_row7_col2\" class=\"data row7 col2\" >True</td>\n",
       "    </tr>\n",
       "    <tr>\n",
       "      <th id=\"T_3ada0_level0_row8\" class=\"row_heading level0 row8\" >2000-06-15 21:00:00</th>\n",
       "      <td id=\"T_3ada0_row8_col0\" class=\"data row8 col0\" >True</td>\n",
       "      <td id=\"T_3ada0_row8_col1\" class=\"data row8 col1\" >True</td>\n",
       "      <td id=\"T_3ada0_row8_col2\" class=\"data row8 col2\" >True</td>\n",
       "    </tr>\n",
       "    <tr>\n",
       "      <th id=\"T_3ada0_level0_row9\" class=\"row_heading level0 row9\" >2000-06-15 21:30:00</th>\n",
       "      <td id=\"T_3ada0_row9_col0\" class=\"data row9 col0\" >True</td>\n",
       "      <td id=\"T_3ada0_row9_col1\" class=\"data row9 col1\" >True</td>\n",
       "      <td id=\"T_3ada0_row9_col2\" class=\"data row9 col2\" >True</td>\n",
       "    </tr>\n",
       "  </tbody>\n",
       "</table>\n",
       " </div><div> <p style='font-size: 1.3rem;'>control</p> <style type=\"text/css\">\n",
       "</style>\n",
       "<table id=\"T_bed4b\">\n",
       "  <thead>\n",
       "    <tr>\n",
       "      <th class=\"blank level0\" >&nbsp;</th>\n",
       "      <th id=\"T_bed4b_level0_col0\" class=\"col_heading level0 col0\" >TA_ERA</th>\n",
       "      <th id=\"T_bed4b_level0_col1\" class=\"col_heading level0 col1\" >SW_IN_ERA</th>\n",
       "      <th id=\"T_bed4b_level0_col2\" class=\"col_heading level0 col2\" >VPD_ERA</th>\n",
       "      <th id=\"T_bed4b_level0_col3\" class=\"col_heading level0 col3\" >TA_ERA_lag_1</th>\n",
       "      <th id=\"T_bed4b_level0_col4\" class=\"col_heading level0 col4\" >SW_IN_ERA_lag_1</th>\n",
       "      <th id=\"T_bed4b_level0_col5\" class=\"col_heading level0 col5\" >VPD_ERA_lag_1</th>\n",
       "    </tr>\n",
       "    <tr>\n",
       "      <th class=\"index_name level0\" >time</th>\n",
       "      <th class=\"blank col0\" >&nbsp;</th>\n",
       "      <th class=\"blank col1\" >&nbsp;</th>\n",
       "      <th class=\"blank col2\" >&nbsp;</th>\n",
       "      <th class=\"blank col3\" >&nbsp;</th>\n",
       "      <th class=\"blank col4\" >&nbsp;</th>\n",
       "      <th class=\"blank col5\" >&nbsp;</th>\n",
       "    </tr>\n",
       "  </thead>\n",
       "  <tbody>\n",
       "    <tr>\n",
       "      <th id=\"T_bed4b_level0_row0\" class=\"row_heading level0 row0\" >2000-06-15 17:00:00</th>\n",
       "      <td id=\"T_bed4b_row0_col0\" class=\"data row0 col0\" >15.0500</td>\n",
       "      <td id=\"T_bed4b_row0_col1\" class=\"data row0 col1\" >255.1930</td>\n",
       "      <td id=\"T_bed4b_row0_col2\" class=\"data row0 col2\" >5.1020</td>\n",
       "      <td id=\"T_bed4b_row0_col3\" class=\"data row0 col3\" >15.1390</td>\n",
       "      <td id=\"T_bed4b_row0_col4\" class=\"data row0 col4\" >287.1000</td>\n",
       "      <td id=\"T_bed4b_row0_col5\" class=\"data row0 col5\" >4.9000</td>\n",
       "    </tr>\n",
       "    <tr>\n",
       "      <th id=\"T_bed4b_level0_row1\" class=\"row_heading level0 row1\" >2000-06-15 17:30:00</th>\n",
       "      <td id=\"T_bed4b_row1_col0\" class=\"data row1 col0\" >14.9610</td>\n",
       "      <td id=\"T_bed4b_row1_col1\" class=\"data row1 col1\" >221.4270</td>\n",
       "      <td id=\"T_bed4b_row1_col2\" class=\"data row1 col2\" >5.3050</td>\n",
       "      <td id=\"T_bed4b_row1_col3\" class=\"data row1 col3\" >15.0500</td>\n",
       "      <td id=\"T_bed4b_row1_col4\" class=\"data row1 col4\" >255.1930</td>\n",
       "      <td id=\"T_bed4b_row1_col5\" class=\"data row1 col5\" >5.1020</td>\n",
       "    </tr>\n",
       "    <tr>\n",
       "      <th id=\"T_bed4b_level0_row2\" class=\"row_heading level0 row2\" >2000-06-15 18:00:00</th>\n",
       "      <td id=\"T_bed4b_row2_col0\" class=\"data row2 col0\" >14.8720</td>\n",
       "      <td id=\"T_bed4b_row2_col1\" class=\"data row2 col1\" >186.3800</td>\n",
       "      <td id=\"T_bed4b_row2_col2\" class=\"data row2 col2\" >5.5070</td>\n",
       "      <td id=\"T_bed4b_row2_col3\" class=\"data row2 col3\" >14.9610</td>\n",
       "      <td id=\"T_bed4b_row2_col4\" class=\"data row2 col4\" >221.4270</td>\n",
       "      <td id=\"T_bed4b_row2_col5\" class=\"data row2 col5\" >5.3050</td>\n",
       "    </tr>\n",
       "    <tr>\n",
       "      <th id=\"T_bed4b_level0_row3\" class=\"row_heading level0 row3\" >2000-06-15 18:30:00</th>\n",
       "      <td id=\"T_bed4b_row3_col0\" class=\"data row3 col0\" >14.7830</td>\n",
       "      <td id=\"T_bed4b_row3_col1\" class=\"data row3 col1\" >150.6500</td>\n",
       "      <td id=\"T_bed4b_row3_col2\" class=\"data row3 col2\" >5.7100</td>\n",
       "      <td id=\"T_bed4b_row3_col3\" class=\"data row3 col3\" >14.8720</td>\n",
       "      <td id=\"T_bed4b_row3_col4\" class=\"data row3 col4\" >186.3800</td>\n",
       "      <td id=\"T_bed4b_row3_col5\" class=\"data row3 col5\" >5.5070</td>\n",
       "    </tr>\n",
       "    <tr>\n",
       "      <th id=\"T_bed4b_level0_row4\" class=\"row_heading level0 row4\" >2000-06-15 19:00:00</th>\n",
       "      <td id=\"T_bed4b_row4_col0\" class=\"data row4 col0\" >14.6940</td>\n",
       "      <td id=\"T_bed4b_row4_col1\" class=\"data row4 col1\" >114.8490</td>\n",
       "      <td id=\"T_bed4b_row4_col2\" class=\"data row4 col2\" >5.9120</td>\n",
       "      <td id=\"T_bed4b_row4_col3\" class=\"data row4 col3\" >14.7830</td>\n",
       "      <td id=\"T_bed4b_row4_col4\" class=\"data row4 col4\" >150.6500</td>\n",
       "      <td id=\"T_bed4b_row4_col5\" class=\"data row4 col5\" >5.7100</td>\n",
       "    </tr>\n",
       "    <tr>\n",
       "      <th id=\"T_bed4b_level0_row5\" class=\"row_heading level0 row5\" >2000-06-15 19:30:00</th>\n",
       "      <td id=\"T_bed4b_row5_col0\" class=\"data row5 col0\" >14.6060</td>\n",
       "      <td id=\"T_bed4b_row5_col1\" class=\"data row5 col1\" >34.7280</td>\n",
       "      <td id=\"T_bed4b_row5_col2\" class=\"data row5 col2\" >6.1140</td>\n",
       "      <td id=\"T_bed4b_row5_col3\" class=\"data row5 col3\" >14.6940</td>\n",
       "      <td id=\"T_bed4b_row5_col4\" class=\"data row5 col4\" >114.8490</td>\n",
       "      <td id=\"T_bed4b_row5_col5\" class=\"data row5 col5\" >5.9120</td>\n",
       "    </tr>\n",
       "    <tr>\n",
       "      <th id=\"T_bed4b_level0_row6\" class=\"row_heading level0 row6\" >2000-06-15 20:00:00</th>\n",
       "      <td id=\"T_bed4b_row6_col0\" class=\"data row6 col0\" >14.3800</td>\n",
       "      <td id=\"T_bed4b_row6_col1\" class=\"data row6 col1\" >19.8430</td>\n",
       "      <td id=\"T_bed4b_row6_col2\" class=\"data row6 col2\" >6.0740</td>\n",
       "      <td id=\"T_bed4b_row6_col3\" class=\"data row6 col3\" >14.6060</td>\n",
       "      <td id=\"T_bed4b_row6_col4\" class=\"data row6 col4\" >34.7280</td>\n",
       "      <td id=\"T_bed4b_row6_col5\" class=\"data row6 col5\" >6.1140</td>\n",
       "    </tr>\n",
       "    <tr>\n",
       "      <th id=\"T_bed4b_level0_row7\" class=\"row_heading level0 row7\" >2000-06-15 20:30:00</th>\n",
       "      <td id=\"T_bed4b_row7_col0\" class=\"data row7 col0\" >14.1550</td>\n",
       "      <td id=\"T_bed4b_row7_col1\" class=\"data row7 col1\" >5.7120</td>\n",
       "      <td id=\"T_bed4b_row7_col2\" class=\"data row7 col2\" >6.0340</td>\n",
       "      <td id=\"T_bed4b_row7_col3\" class=\"data row7 col3\" >14.3800</td>\n",
       "      <td id=\"T_bed4b_row7_col4\" class=\"data row7 col4\" >19.8430</td>\n",
       "      <td id=\"T_bed4b_row7_col5\" class=\"data row7 col5\" >6.0740</td>\n",
       "    </tr>\n",
       "    <tr>\n",
       "      <th id=\"T_bed4b_level0_row8\" class=\"row_heading level0 row8\" >2000-06-15 21:00:00</th>\n",
       "      <td id=\"T_bed4b_row8_col0\" class=\"data row8 col0\" >13.9290</td>\n",
       "      <td id=\"T_bed4b_row8_col1\" class=\"data row8 col1\" >0.0000</td>\n",
       "      <td id=\"T_bed4b_row8_col2\" class=\"data row8 col2\" >5.9940</td>\n",
       "      <td id=\"T_bed4b_row8_col3\" class=\"data row8 col3\" >14.1550</td>\n",
       "      <td id=\"T_bed4b_row8_col4\" class=\"data row8 col4\" >5.7120</td>\n",
       "      <td id=\"T_bed4b_row8_col5\" class=\"data row8 col5\" >6.0340</td>\n",
       "    </tr>\n",
       "    <tr>\n",
       "      <th id=\"T_bed4b_level0_row9\" class=\"row_heading level0 row9\" >2000-06-15 21:30:00</th>\n",
       "      <td id=\"T_bed4b_row9_col0\" class=\"data row9 col0\" >13.7040</td>\n",
       "      <td id=\"T_bed4b_row9_col1\" class=\"data row9 col1\" >0.0000</td>\n",
       "      <td id=\"T_bed4b_row9_col2\" class=\"data row9 col2\" >5.9540</td>\n",
       "      <td id=\"T_bed4b_row9_col3\" class=\"data row9 col3\" >13.9290</td>\n",
       "      <td id=\"T_bed4b_row9_col4\" class=\"data row9 col4\" >0.0000</td>\n",
       "      <td id=\"T_bed4b_row9_col5\" class=\"data row9 col5\" >5.9940</td>\n",
       "    </tr>\n",
       "  </tbody>\n",
       "</table>\n",
       " </div></div>"
      ],
      "text/plain": [
       "__main__.MeteoImpDf(data=                        TA       SW_IN    VPD\n",
       "time                                         \n",
       "2000-06-15 17:00:00  14.22  224.800003  5.799\n",
       "2000-06-15 17:30:00  14.11  195.279999  6.577\n",
       "2000-06-15 18:00:00  14.23  244.169998  6.931\n",
       "2000-06-15 18:30:00  14.40  253.919998  7.286\n",
       "2000-06-15 19:00:00  14.09  177.309998  7.251\n",
       "2000-06-15 19:30:00  13.71   97.070000  6.683\n",
       "2000-06-15 20:00:00  13.08   39.709999  5.851\n",
       "2000-06-15 20:30:00  12.41   10.650000  5.254\n",
       "2000-06-15 21:00:00  12.27    0.320000  5.164\n",
       "2000-06-15 21:30:00  12.20    0.000000  5.037, mask=                        TA  SW_IN   VPD\n",
       "time                                   \n",
       "2000-06-15 17:00:00  False  False  True\n",
       "2000-06-15 17:30:00  False  False  True\n",
       "2000-06-15 18:00:00   True   True  True\n",
       "2000-06-15 18:30:00   True   True  True\n",
       "2000-06-15 19:00:00   True   True  True\n",
       "2000-06-15 19:30:00   True   True  True\n",
       "2000-06-15 20:00:00   True   True  True\n",
       "2000-06-15 20:30:00   True   True  True\n",
       "2000-06-15 21:00:00   True   True  True\n",
       "2000-06-15 21:30:00   True   True  True, control=                     TA_ERA   SW_IN_ERA  VPD_ERA  TA_ERA_lag_1  \\\n",
       "time                                                             \n",
       "2000-06-15 17:00:00  15.050  255.192993    5.102        15.139   \n",
       "2000-06-15 17:30:00  14.961  221.427002    5.305        15.050   \n",
       "2000-06-15 18:00:00  14.872  186.380005    5.507        14.961   \n",
       "2000-06-15 18:30:00  14.783  150.649994    5.710        14.872   \n",
       "2000-06-15 19:00:00  14.694  114.848999    5.912        14.783   \n",
       "2000-06-15 19:30:00  14.606   34.728001    6.114        14.694   \n",
       "2000-06-15 20:00:00  14.380   19.843000    6.074        14.606   \n",
       "2000-06-15 20:30:00  14.155    5.712000    6.034        14.380   \n",
       "2000-06-15 21:00:00  13.929    0.000000    5.994        14.155   \n",
       "2000-06-15 21:30:00  13.704    0.000000    5.954        13.929   \n",
       "\n",
       "                     SW_IN_ERA_lag_1  VPD_ERA_lag_1  \n",
       "time                                                 \n",
       "2000-06-15 17:00:00       287.100006          4.900  \n",
       "2000-06-15 17:30:00       255.192993          5.102  \n",
       "2000-06-15 18:00:00       221.427002          5.305  \n",
       "2000-06-15 18:30:00       186.380005          5.507  \n",
       "2000-06-15 19:00:00       150.649994          5.710  \n",
       "2000-06-15 19:30:00       114.848999          5.912  \n",
       "2000-06-15 20:00:00        34.728001          6.114  \n",
       "2000-06-15 20:30:00        19.843000          6.074  \n",
       "2000-06-15 21:00:00         5.712000          6.034  \n",
       "2000-06-15 21:30:00         0.000000          5.994  )"
      ]
     },
     "execution_count": null,
     "metadata": {},
     "output_type": "execute_result"
    }
   ],
   "source": [
    "tfms2[0]"
   ]
  },
  {
   "cell_type": "code",
   "execution_count": null,
   "id": "f2990cbe-babc-4f62-9b6f-2807edfa05b2",
   "metadata": {},
   "outputs": [],
   "source": [
    "tfms3 = TfmdLists([800, 801, 802], [*tfms2.fs, MeteoImpDf2Tensor()])"
   ]
  },
  {
   "cell_type": "code",
   "execution_count": null,
   "id": "755add1e-55d4-4408-8db2-ab28d804edd2",
   "metadata": {},
   "outputs": [
    {
     "data": {
      "text/html": [
       "<div style=\"display: flex; column-gap: 20px; flex-wrap: wrap;\" class='table table-striped table-sm'> <div><p style='font-size: 1.2rem;'>data</p> <pre>tensor([[ 14.2200, 224.8000,   5.7990],\n",
       "        [ 14.1100, 195.2800,   6.5770],\n",
       "        [ 14.2300, 244.1700,   6.9310],\n",
       "        [ 14.4000, 253.9200,   7.2860],\n",
       "        [ 14.0900, 177.3100,   7.2510],\n",
       "        [ 13.7100,  97.0700,   6.6830],\n",
       "        [ 13.0800,  39.7100,   5.8510],\n",
       "        [ 12.4100,  10.6500,   5.2540],\n",
       "        [ 12.2700,   0.3200,   5.1640],\n",
       "        [ 12.2000,   0.0000,   5.0370]])</pre> </div><div><p style='font-size: 1.2rem;'>mask</p> <pre>tensor([[ True,  True,  True],\n",
       "        [ True,  True,  True],\n",
       "        [ True,  True,  True],\n",
       "        [ True,  True,  True],\n",
       "        [False, False,  True],\n",
       "        [False, False,  True],\n",
       "        [ True,  True,  True],\n",
       "        [ True,  True,  True],\n",
       "        [ True,  True,  True],\n",
       "        [ True,  True,  True]])</pre> </div><div><p style='font-size: 1.2rem;'>control</p> <pre>tensor([[ 15.0500, 255.1930,   5.1020,  15.1390, 287.1000,   4.9000],\n",
       "        [ 14.9610, 221.4270,   5.3050,  15.0500, 255.1930,   5.1020],\n",
       "        [ 14.8720, 186.3800,   5.5070,  14.9610, 221.4270,   5.3050],\n",
       "        [ 14.7830, 150.6500,   5.7100,  14.8720, 186.3800,   5.5070],\n",
       "        [ 14.6940, 114.8490,   5.9120,  14.7830, 150.6500,   5.7100],\n",
       "        [ 14.6060,  34.7280,   6.1140,  14.6940, 114.8490,   5.9120],\n",
       "        [ 14.3800,  19.8430,   6.0740,  14.6060,  34.7280,   6.1140],\n",
       "        [ 14.1550,   5.7120,   6.0340,  14.3800,  19.8430,   6.0740],\n",
       "        [ 13.9290,   0.0000,   5.9940,  14.1550,   5.7120,   6.0340],\n",
       "        [ 13.7040,   0.0000,   5.9540,  13.9290,   0.0000,   5.9940]])</pre> </div></div>"
      ],
      "text/plain": [
       "__main__.MeteoImpTensor(data=tensor([[ 14.2200, 224.8000,   5.7990],\n",
       "        [ 14.1100, 195.2800,   6.5770],\n",
       "        [ 14.2300, 244.1700,   6.9310],\n",
       "        [ 14.4000, 253.9200,   7.2860],\n",
       "        [ 14.0900, 177.3100,   7.2510],\n",
       "        [ 13.7100,  97.0700,   6.6830],\n",
       "        [ 13.0800,  39.7100,   5.8510],\n",
       "        [ 12.4100,  10.6500,   5.2540],\n",
       "        [ 12.2700,   0.3200,   5.1640],\n",
       "        [ 12.2000,   0.0000,   5.0370]]), mask=tensor([[ True,  True,  True],\n",
       "        [ True,  True,  True],\n",
       "        [ True,  True,  True],\n",
       "        [ True,  True,  True],\n",
       "        [False, False,  True],\n",
       "        [False, False,  True],\n",
       "        [ True,  True,  True],\n",
       "        [ True,  True,  True],\n",
       "        [ True,  True,  True],\n",
       "        [ True,  True,  True]]), control=tensor([[ 15.0500, 255.1930,   5.1020,  15.1390, 287.1000,   4.9000],\n",
       "        [ 14.9610, 221.4270,   5.3050,  15.0500, 255.1930,   5.1020],\n",
       "        [ 14.8720, 186.3800,   5.5070,  14.9610, 221.4270,   5.3050],\n",
       "        [ 14.7830, 150.6500,   5.7100,  14.8720, 186.3800,   5.5070],\n",
       "        [ 14.6940, 114.8490,   5.9120,  14.7830, 150.6500,   5.7100],\n",
       "        [ 14.6060,  34.7280,   6.1140,  14.6940, 114.8490,   5.9120],\n",
       "        [ 14.3800,  19.8430,   6.0740,  14.6060,  34.7280,   6.1140],\n",
       "        [ 14.1550,   5.7120,   6.0340,  14.3800,  19.8430,   6.0740],\n",
       "        [ 13.9290,   0.0000,   5.9940,  14.1550,   5.7120,   6.0340],\n",
       "        [ 13.7040,   0.0000,   5.9540,  13.9290,   0.0000,   5.9940]]))"
      ]
     },
     "execution_count": null,
     "metadata": {},
     "output_type": "execute_result"
    }
   ],
   "source": [
    "tfms3[0]"
   ]
  },
  {
   "cell_type": "code",
   "execution_count": null,
   "id": "324520e5-5979-4b7e-b52f-97e86788c187",
   "metadata": {},
   "outputs": [
    {
     "data": {
      "text/plain": [
       "__main__.MeteoImpTensor"
      ]
     },
     "execution_count": null,
     "metadata": {},
     "output_type": "execute_result"
    }
   ],
   "source": [
    "type(tfms3[0])"
   ]
  },
  {
   "cell_type": "code",
   "execution_count": null,
   "id": "56477320-5c88-48c8-90a8-ceda644dffb9",
   "metadata": {},
   "outputs": [],
   "source": [
    "# tfms3.decode(tfms3[0])"
   ]
  },
  {
   "cell_type": "markdown",
   "id": "87e120fa-cf84-4e32-8c99-9af24a2755b1",
   "metadata": {},
   "source": [
    "### 5) Normalize"
   ]
  },
  {
   "cell_type": "code",
   "execution_count": null,
   "id": "3ba23250-9b69-43c2-b2f6-db4ef5658e6a",
   "metadata": {},
   "outputs": [],
   "source": [
    "#| export\n",
    "from meteo_imp.utils import *\n",
    "from fastai.torch_core import to_cpu\n",
    "\n",
    "from torch import Tensor"
   ]
  },
  {
   "cell_type": "code",
   "execution_count": null,
   "id": "da858473-9de5-4abf-8a32-eb24bfb6b054",
   "metadata": {},
   "outputs": [
    {
     "data": {
      "text/plain": [
       "<function collections.namedtuple(typename, field_names, *, rename=False, defaults=None, module=None)>"
      ]
     },
     "execution_count": null,
     "metadata": {},
     "output_type": "execute_result"
    }
   ],
   "source": [
    "collections.namedtuple"
   ]
  },
  {
   "cell_type": "code",
   "execution_count": null,
   "id": "0505fab1-5a53-4879-9d0d-7cc918bd5bdf",
   "metadata": {},
   "outputs": [],
   "source": [
    "nt = collections.namedtuple(\"nt\", \"a\")"
   ]
  },
  {
   "cell_type": "code",
   "execution_count": null,
   "id": "6ad97a8b-4da1-4c88-9b49-8ca0f3ce4a13",
   "metadata": {},
   "outputs": [
    {
     "data": {
      "text/plain": [
       "True"
      ]
     },
     "execution_count": null,
     "metadata": {},
     "output_type": "execute_result"
    }
   ],
   "source": [
    "isinstance(nt(1), tuple)"
   ]
  },
  {
   "cell_type": "code",
   "execution_count": null,
   "id": "f1ac4c68-5abf-41c0-b754-889ad3af0999",
   "metadata": {},
   "outputs": [],
   "source": [
    "#| export\n",
    "class NormalsParams(list):\n",
    "    def __init__(self,*args):\n",
    "        if len(args)==2:\n",
    "            self.mean = args[0]\n",
    "            self.std = args[1]\n",
    "        elif isinstance(args[0], Generator):\n",
    "            args = list(args[0])\n",
    "            self.mean = args[0]\n",
    "            self.std = args[1]\n",
    "        elif len(args)==1 and len(args[0])==2:\n",
    "            self.mean = tuple(args[0])[0]\n",
    "            self.std = tuple(args[0])[1]                     \n",
    "        else:\n",
    "            raise ValueError(f\"Incorrect number of arguments. got {len(args)} args\")\n",
    "    def __iter__(self): return iter((self.mean, self.std,))\n",
    "    def __next__(self): return next(self.__iter__())\n",
    "    def __len__(self): return 2\n",
    "    def __getitem__(self, key):\n",
    "        if key == 0: return self.mean\n",
    "        elif key == 1: return self.std\n",
    "        else: raise IndexError(\"index bigger than 2\")\n",
    "    __repr__ = basic_repr('mean, std')"
   ]
  },
  {
   "cell_type": "code",
   "execution_count": null,
   "id": "bd093319-c16b-494c-9431-1c7d5d8869a8",
   "metadata": {},
   "outputs": [
    {
     "data": {
      "text/plain": [
       "__main__.NormalsParams(mean=0, std=1)"
      ]
     },
     "execution_count": null,
     "metadata": {},
     "output_type": "execute_result"
    }
   ],
   "source": [
    "NormalsParams(0,1)"
   ]
  },
  {
   "cell_type": "code",
   "execution_count": null,
   "id": "e75c7ecf-2785-49fc-b1ff-fe98c4e03843",
   "metadata": {},
   "outputs": [],
   "source": [
    "#| export\n",
    "def get_stats(df, repeat=1, device='cpu'):\n",
    "    return torch.tensor(df.mean(axis=0).to_numpy(), device=device).repeat(repeat), torch.tensor(df.std(axis=0).to_numpy(), device=device).repeat(repeat)"
   ]
  },
  {
   "cell_type": "code",
   "execution_count": null,
   "id": "975601aa-1325-4ece-989c-0eb60a9d8d85",
   "metadata": {},
   "outputs": [],
   "source": [
    "#| export\n",
    "class MeteoImpNormalize(Transform):\n",
    "    \"Normalize/denorm MeteoImpTensor column-wise \"\n",
    "    @property\n",
    "    def name(self): return f\"{super().name} -- {getattr(self,'__stored_args__',{})}\"\n",
    "\n",
    "    def __init__(self, mean_data, std_data, mean_control, std_control): store_attr()\n",
    "\n",
    "    def encodes(self, x:MeteoImpTensor)-> MeteoImpTensor:\n",
    "        return MeteoImpTensor((x.data -self.mean_data) / self.std_data, x.mask, (x.control - self.mean_control)/self.std_control)\n",
    "\n",
    "    def decodes(self, x:MeteoImpTensor)->MeteoImpTensor:\n",
    "        f = partial(to_device, device=(x[0].device))\n",
    "        return MeteoImpTensor(x.data * f(self.std_data) + f(self.mean_data), x.mask, x.control * f(self.std_control) + f(self.mean_control))\n",
    "    \n",
    "    def decodes(self, x:NormalsParams):\n",
    "        f = partial(to_device, device=(x[0].device))\n",
    "        mean = x.mean * f(self.std_data) + f(self.mean_data)\n",
    "        std = x.std * f(self.std_data)\n",
    "        \n",
    "        return NormalsParams(mean, std)"
   ]
  },
  {
   "cell_type": "code",
   "execution_count": null,
   "id": "81c896b6-86c0-407b-8f4b-da4bdc366c27",
   "metadata": {},
   "outputs": [],
   "source": [
    "norm = MeteoImpNormalize(*get_stats(hai), *get_stats(hai_era,2))"
   ]
  },
  {
   "cell_type": "code",
   "execution_count": null,
   "id": "7e8c0fab-da94-400f-8486-0253b05a6a96",
   "metadata": {},
   "outputs": [
    {
     "data": {
      "text/html": [
       "<div style=\"display: flex; column-gap: 20px; flex-wrap: wrap;\" class='table table-striped table-sm'> <div><p style='font-size: 1.2rem;'>data</p> <pre>tensor([[ 14.2200, 224.8000,   5.7990],\n",
       "        [ 14.1100, 195.2800,   6.5770],\n",
       "        [ 14.2300, 244.1700,   6.9310],\n",
       "        [ 14.4000, 253.9200,   7.2860],\n",
       "        [ 14.0900, 177.3100,   7.2510],\n",
       "        [ 13.7100,  97.0700,   6.6830],\n",
       "        [ 13.0800,  39.7100,   5.8510],\n",
       "        [ 12.4100,  10.6500,   5.2540],\n",
       "        [ 12.2700,   0.3200,   5.1640],\n",
       "        [ 12.2000,   0.0000,   5.0370]])</pre> </div><div><p style='font-size: 1.2rem;'>mask</p> <pre>tensor([[ True,  True,  True],\n",
       "        [ True,  True,  True],\n",
       "        [ True,  True,  True],\n",
       "        [False, False,  True],\n",
       "        [False, False,  True],\n",
       "        [ True,  True,  True],\n",
       "        [ True,  True,  True],\n",
       "        [ True,  True,  True],\n",
       "        [ True,  True,  True],\n",
       "        [ True,  True,  True]])</pre> </div><div><p style='font-size: 1.2rem;'>control</p> <pre>tensor([[ 15.0500, 255.1930,   5.1020,  15.1390, 287.1000,   4.9000],\n",
       "        [ 14.9610, 221.4270,   5.3050,  15.0500, 255.1930,   5.1020],\n",
       "        [ 14.8720, 186.3800,   5.5070,  14.9610, 221.4270,   5.3050],\n",
       "        [ 14.7830, 150.6500,   5.7100,  14.8720, 186.3800,   5.5070],\n",
       "        [ 14.6940, 114.8490,   5.9120,  14.7830, 150.6500,   5.7100],\n",
       "        [ 14.6060,  34.7280,   6.1140,  14.6940, 114.8490,   5.9120],\n",
       "        [ 14.3800,  19.8430,   6.0740,  14.6060,  34.7280,   6.1140],\n",
       "        [ 14.1550,   5.7120,   6.0340,  14.3800,  19.8430,   6.0740],\n",
       "        [ 13.9290,   0.0000,   5.9940,  14.1550,   5.7120,   6.0340],\n",
       "        [ 13.7040,   0.0000,   5.9540,  13.9290,   0.0000,   5.9940]])</pre> </div></div>"
      ],
      "text/plain": [
       "__main__.MeteoImpTensor(data=tensor([[ 14.2200, 224.8000,   5.7990],\n",
       "        [ 14.1100, 195.2800,   6.5770],\n",
       "        [ 14.2300, 244.1700,   6.9310],\n",
       "        [ 14.4000, 253.9200,   7.2860],\n",
       "        [ 14.0900, 177.3100,   7.2510],\n",
       "        [ 13.7100,  97.0700,   6.6830],\n",
       "        [ 13.0800,  39.7100,   5.8510],\n",
       "        [ 12.4100,  10.6500,   5.2540],\n",
       "        [ 12.2700,   0.3200,   5.1640],\n",
       "        [ 12.2000,   0.0000,   5.0370]]), mask=tensor([[ True,  True,  True],\n",
       "        [ True,  True,  True],\n",
       "        [ True,  True,  True],\n",
       "        [False, False,  True],\n",
       "        [False, False,  True],\n",
       "        [ True,  True,  True],\n",
       "        [ True,  True,  True],\n",
       "        [ True,  True,  True],\n",
       "        [ True,  True,  True],\n",
       "        [ True,  True,  True]]), control=tensor([[ 15.0500, 255.1930,   5.1020,  15.1390, 287.1000,   4.9000],\n",
       "        [ 14.9610, 221.4270,   5.3050,  15.0500, 255.1930,   5.1020],\n",
       "        [ 14.8720, 186.3800,   5.5070,  14.9610, 221.4270,   5.3050],\n",
       "        [ 14.7830, 150.6500,   5.7100,  14.8720, 186.3800,   5.5070],\n",
       "        [ 14.6940, 114.8490,   5.9120,  14.7830, 150.6500,   5.7100],\n",
       "        [ 14.6060,  34.7280,   6.1140,  14.6940, 114.8490,   5.9120],\n",
       "        [ 14.3800,  19.8430,   6.0740,  14.6060,  34.7280,   6.1140],\n",
       "        [ 14.1550,   5.7120,   6.0340,  14.3800,  19.8430,   6.0740],\n",
       "        [ 13.9290,   0.0000,   5.9940,  14.1550,   5.7120,   6.0340],\n",
       "        [ 13.7040,   0.0000,   5.9540,  13.9290,   0.0000,   5.9940]]))"
      ]
     },
     "execution_count": null,
     "metadata": {},
     "output_type": "execute_result"
    }
   ],
   "source": [
    "tfms3[0]"
   ]
  },
  {
   "cell_type": "code",
   "execution_count": null,
   "id": "ac2ff9bb-9a90-468e-a079-27e383eb5e0a",
   "metadata": {},
   "outputs": [
    {
     "data": {
      "text/plain": [
       "MeteoImpNormalize -- {'mean_data': tensor([  8.3339, 120.9578,   3.3807]), 'std_data': tensor([  7.9246, 204.0026,   4.3684]), 'mean_control': tensor([  8.1948, 120.6864,   3.3253,   8.1948, 120.6864,   3.3253]), 'std_control': tensor([  7.5459, 187.1730,   3.6871,   7.5459, 187.1730,   3.6871])}:\n",
       "encodes: (MeteoImpTensor,object) -> encodes\n",
       "decodes: (MeteoImpTensor,object) -> decodes\n",
       "(NormalsParams,object) -> decodes"
      ]
     },
     "execution_count": null,
     "metadata": {},
     "output_type": "execute_result"
    }
   ],
   "source": [
    "norm"
   ]
  },
  {
   "cell_type": "code",
   "execution_count": null,
   "id": "fb5acd9c-2c5c-4ff0-beaf-3cdf0bc15bcd",
   "metadata": {},
   "outputs": [
    {
     "data": {
      "text/html": [
       "<div style=\"display: flex; column-gap: 20px; flex-wrap: wrap;\" class='table table-striped table-sm'> <div><p style='font-size: 1.2rem;'>data</p> <pre>tensor([[ 0.7428,  0.5090,  0.5536],\n",
       "        [ 0.7289,  0.3643,  0.7317],\n",
       "        [ 0.7440,  0.6040,  0.8127],\n",
       "        [ 0.7655,  0.6518,  0.8940],\n",
       "        [ 0.7264,  0.2762,  0.8860],\n",
       "        [ 0.6784, -0.1171,  0.7560],\n",
       "        [ 0.5989, -0.3983,  0.5655],\n",
       "        [ 0.5144, -0.5407,  0.4288],\n",
       "        [ 0.4967, -0.5914,  0.4082],\n",
       "        [ 0.4879, -0.5929,  0.3792]])</pre> </div><div><p style='font-size: 1.2rem;'>mask</p> <pre>tensor([[ True,  True,  True],\n",
       "        [ True,  True,  True],\n",
       "        [False, False,  True],\n",
       "        [False, False,  True],\n",
       "        [ True,  True,  True],\n",
       "        [ True,  True,  True],\n",
       "        [ True,  True,  True],\n",
       "        [ True,  True,  True],\n",
       "        [ True,  True,  True],\n",
       "        [ True,  True,  True]])</pre> </div><div><p style='font-size: 1.2rem;'>control</p> <pre>tensor([[ 0.9085,  0.7186,  0.4819,  0.9203,  0.8891,  0.4271],\n",
       "        [ 0.8967,  0.5382,  0.5369,  0.9085,  0.7186,  0.4819],\n",
       "        [ 0.8849,  0.3510,  0.5917,  0.8967,  0.5382,  0.5369],\n",
       "        [ 0.8731,  0.1601,  0.6468,  0.8849,  0.3510,  0.5917],\n",
       "        [ 0.8613, -0.0312,  0.7015,  0.8731,  0.1601,  0.6468],\n",
       "        [ 0.8496, -0.4592,  0.7563,  0.8613, -0.0312,  0.7015],\n",
       "        [ 0.8197, -0.5388,  0.7455,  0.8496, -0.4592,  0.7563],\n",
       "        [ 0.7899, -0.6143,  0.7346,  0.8197, -0.5388,  0.7455],\n",
       "        [ 0.7599, -0.6448,  0.7238,  0.7899, -0.6143,  0.7346],\n",
       "        [ 0.7301, -0.6448,  0.7129,  0.7599, -0.6448,  0.7238]])</pre> </div></div>"
      ],
      "text/plain": [
       "__main__.MeteoImpTensor(data=tensor([[ 0.7428,  0.5090,  0.5536],\n",
       "        [ 0.7289,  0.3643,  0.7317],\n",
       "        [ 0.7440,  0.6040,  0.8127],\n",
       "        [ 0.7655,  0.6518,  0.8940],\n",
       "        [ 0.7264,  0.2762,  0.8860],\n",
       "        [ 0.6784, -0.1171,  0.7560],\n",
       "        [ 0.5989, -0.3983,  0.5655],\n",
       "        [ 0.5144, -0.5407,  0.4288],\n",
       "        [ 0.4967, -0.5914,  0.4082],\n",
       "        [ 0.4879, -0.5929,  0.3792]]), mask=tensor([[ True,  True,  True],\n",
       "        [ True,  True,  True],\n",
       "        [False, False,  True],\n",
       "        [False, False,  True],\n",
       "        [ True,  True,  True],\n",
       "        [ True,  True,  True],\n",
       "        [ True,  True,  True],\n",
       "        [ True,  True,  True],\n",
       "        [ True,  True,  True],\n",
       "        [ True,  True,  True]]), control=tensor([[ 0.9085,  0.7186,  0.4819,  0.9203,  0.8891,  0.4271],\n",
       "        [ 0.8967,  0.5382,  0.5369,  0.9085,  0.7186,  0.4819],\n",
       "        [ 0.8849,  0.3510,  0.5917,  0.8967,  0.5382,  0.5369],\n",
       "        [ 0.8731,  0.1601,  0.6468,  0.8849,  0.3510,  0.5917],\n",
       "        [ 0.8613, -0.0312,  0.7015,  0.8731,  0.1601,  0.6468],\n",
       "        [ 0.8496, -0.4592,  0.7563,  0.8613, -0.0312,  0.7015],\n",
       "        [ 0.8197, -0.5388,  0.7455,  0.8496, -0.4592,  0.7563],\n",
       "        [ 0.7899, -0.6143,  0.7346,  0.8197, -0.5388,  0.7455],\n",
       "        [ 0.7599, -0.6448,  0.7238,  0.7899, -0.6143,  0.7346],\n",
       "        [ 0.7301, -0.6448,  0.7129,  0.7599, -0.6448,  0.7238]]))"
      ]
     },
     "execution_count": null,
     "metadata": {},
     "output_type": "execute_result"
    }
   ],
   "source": [
    "norm(tfms3[0])"
   ]
  },
  {
   "cell_type": "code",
   "execution_count": null,
   "id": "bd4747c3-be04-483d-b9e4-730ec7912543",
   "metadata": {},
   "outputs": [],
   "source": [
    "test_close(norm.decode(norm(tfms3[0]))[0], tfms3[0][0], eps=2e-5)"
   ]
  },
  {
   "cell_type": "markdown",
   "id": "9c6f8385-7a2d-46b7-9f8b-a25f8833febf",
   "metadata": {},
   "source": [
    "Test that NormalsParams decode actually works"
   ]
  },
  {
   "cell_type": "code",
   "execution_count": null,
   "id": "cb935fb9-c3bb-456e-bcf4-12ad6f8f5933",
   "metadata": {},
   "outputs": [],
   "source": [
    "Npars = NormalsParams(torch.tensor(1), torch.tensor(.1))"
   ]
  },
  {
   "cell_type": "code",
   "execution_count": null,
   "id": "1b6737ba-596e-47cf-9f79-0c5a83ce6fe8",
   "metadata": {},
   "outputs": [
    {
     "data": {
      "text/plain": [
       "__main__.NormalsParams(mean=tensor([ 16.2585, 324.9604,   7.7491]), std=tensor([ 0.7925, 20.4003,  0.4368]))"
      ]
     },
     "execution_count": null,
     "metadata": {},
     "output_type": "execute_result"
    }
   ],
   "source": [
    "norm.decode(Npars)"
   ]
  },
  {
   "cell_type": "code",
   "execution_count": null,
   "id": "3ba86749-5fe4-49b6-8ca2-48c225d4cfcd",
   "metadata": {},
   "outputs": [],
   "source": [
    "tfms4 = TfmdLists([800,801,803], [*tfms3.fs,MeteoImpNormalize(*get_stats(hai),*get_stats(hai_era, 2) ) ])"
   ]
  },
  {
   "cell_type": "code",
   "execution_count": null,
   "id": "7ecb095d-5e4b-48c6-ad85-93396b8f42af",
   "metadata": {},
   "outputs": [
    {
     "data": {
      "text/html": [
       "<div style=\"display: flex; column-gap: 20px; flex-wrap: wrap;\" class='table table-striped table-sm'> <div><p style='font-size: 1.2rem;'>data</p> <pre>tensor([[ 0.7428,  0.5090,  0.5536],\n",
       "        [ 0.7289,  0.3643,  0.7317],\n",
       "        [ 0.7440,  0.6040,  0.8127],\n",
       "        [ 0.7655,  0.6518,  0.8940],\n",
       "        [ 0.7264,  0.2762,  0.8860],\n",
       "        [ 0.6784, -0.1171,  0.7560],\n",
       "        [ 0.5989, -0.3983,  0.5655],\n",
       "        [ 0.5144, -0.5407,  0.4288],\n",
       "        [ 0.4967, -0.5914,  0.4082],\n",
       "        [ 0.4879, -0.5929,  0.3792]])</pre> </div><div><p style='font-size: 1.2rem;'>mask</p> <pre>tensor([[ True,  True,  True],\n",
       "        [ True,  True,  True],\n",
       "        [ True,  True,  True],\n",
       "        [ True,  True,  True],\n",
       "        [ True,  True,  True],\n",
       "        [False, False,  True],\n",
       "        [False, False,  True],\n",
       "        [ True,  True,  True],\n",
       "        [ True,  True,  True],\n",
       "        [ True,  True,  True]])</pre> </div><div><p style='font-size: 1.2rem;'>control</p> <pre>tensor([[ 0.9085,  0.7186,  0.4819,  0.9203,  0.8891,  0.4271],\n",
       "        [ 0.8967,  0.5382,  0.5369,  0.9085,  0.7186,  0.4819],\n",
       "        [ 0.8849,  0.3510,  0.5917,  0.8967,  0.5382,  0.5369],\n",
       "        [ 0.8731,  0.1601,  0.6468,  0.8849,  0.3510,  0.5917],\n",
       "        [ 0.8613, -0.0312,  0.7015,  0.8731,  0.1601,  0.6468],\n",
       "        [ 0.8496, -0.4592,  0.7563,  0.8613, -0.0312,  0.7015],\n",
       "        [ 0.8197, -0.5388,  0.7455,  0.8496, -0.4592,  0.7563],\n",
       "        [ 0.7899, -0.6143,  0.7346,  0.8197, -0.5388,  0.7455],\n",
       "        [ 0.7599, -0.6448,  0.7238,  0.7899, -0.6143,  0.7346],\n",
       "        [ 0.7301, -0.6448,  0.7129,  0.7599, -0.6448,  0.7238]])</pre> </div></div>"
      ],
      "text/plain": [
       "__main__.MeteoImpTensor(data=tensor([[ 0.7428,  0.5090,  0.5536],\n",
       "        [ 0.7289,  0.3643,  0.7317],\n",
       "        [ 0.7440,  0.6040,  0.8127],\n",
       "        [ 0.7655,  0.6518,  0.8940],\n",
       "        [ 0.7264,  0.2762,  0.8860],\n",
       "        [ 0.6784, -0.1171,  0.7560],\n",
       "        [ 0.5989, -0.3983,  0.5655],\n",
       "        [ 0.5144, -0.5407,  0.4288],\n",
       "        [ 0.4967, -0.5914,  0.4082],\n",
       "        [ 0.4879, -0.5929,  0.3792]]), mask=tensor([[ True,  True,  True],\n",
       "        [ True,  True,  True],\n",
       "        [ True,  True,  True],\n",
       "        [ True,  True,  True],\n",
       "        [ True,  True,  True],\n",
       "        [False, False,  True],\n",
       "        [False, False,  True],\n",
       "        [ True,  True,  True],\n",
       "        [ True,  True,  True],\n",
       "        [ True,  True,  True]]), control=tensor([[ 0.9085,  0.7186,  0.4819,  0.9203,  0.8891,  0.4271],\n",
       "        [ 0.8967,  0.5382,  0.5369,  0.9085,  0.7186,  0.4819],\n",
       "        [ 0.8849,  0.3510,  0.5917,  0.8967,  0.5382,  0.5369],\n",
       "        [ 0.8731,  0.1601,  0.6468,  0.8849,  0.3510,  0.5917],\n",
       "        [ 0.8613, -0.0312,  0.7015,  0.8731,  0.1601,  0.6468],\n",
       "        [ 0.8496, -0.4592,  0.7563,  0.8613, -0.0312,  0.7015],\n",
       "        [ 0.8197, -0.5388,  0.7455,  0.8496, -0.4592,  0.7563],\n",
       "        [ 0.7899, -0.6143,  0.7346,  0.8197, -0.5388,  0.7455],\n",
       "        [ 0.7599, -0.6448,  0.7238,  0.7899, -0.6143,  0.7346],\n",
       "        [ 0.7301, -0.6448,  0.7129,  0.7599, -0.6448,  0.7238]]))"
      ]
     },
     "execution_count": null,
     "metadata": {},
     "output_type": "execute_result"
    }
   ],
   "source": [
    "tfms4[0]"
   ]
  },
  {
   "cell_type": "code",
   "execution_count": null,
   "id": "7f1d4c1d-65b1-4804-aa7e-7193cfadf4e1",
   "metadata": {},
   "outputs": [
    {
     "data": {
      "text/html": [
       "<div style=\"display: flex; column-gap: 20px; flex-wrap: wrap;\" class='table table-striped table-sm'> <div><p style='font-size: 1.2rem;'>data</p> <pre>tensor([[ 14.2200, 224.8000,   5.7990],\n",
       "        [ 14.1100, 195.2800,   6.5770],\n",
       "        [ 14.2300, 244.1700,   6.9310],\n",
       "        [ 14.4000, 253.9200,   7.2860],\n",
       "        [ 14.0900, 177.3100,   7.2510],\n",
       "        [ 13.7100,  97.0700,   6.6830],\n",
       "        [ 13.0800,  39.7100,   5.8510],\n",
       "        [ 12.4100,  10.6500,   5.2540],\n",
       "        [ 12.2700,   0.3200,   5.1640],\n",
       "        [ 12.2000,   0.0000,   5.0370]])</pre> </div><div><p style='font-size: 1.2rem;'>mask</p> <pre>tensor([[ True,  True,  True],\n",
       "        [ True,  True,  True],\n",
       "        [False, False,  True],\n",
       "        [False, False,  True],\n",
       "        [ True,  True,  True],\n",
       "        [ True,  True,  True],\n",
       "        [ True,  True,  True],\n",
       "        [ True,  True,  True],\n",
       "        [ True,  True,  True],\n",
       "        [ True,  True,  True]])</pre> </div><div><p style='font-size: 1.2rem;'>control</p> <pre>tensor([[ 1.5050e+01,  2.5519e+02,  5.1020e+00,  1.5139e+01,  2.8710e+02,\n",
       "          4.9000e+00],\n",
       "        [ 1.4961e+01,  2.2143e+02,  5.3050e+00,  1.5050e+01,  2.5519e+02,\n",
       "          5.1020e+00],\n",
       "        [ 1.4872e+01,  1.8638e+02,  5.5070e+00,  1.4961e+01,  2.2143e+02,\n",
       "          5.3050e+00],\n",
       "        [ 1.4783e+01,  1.5065e+02,  5.7100e+00,  1.4872e+01,  1.8638e+02,\n",
       "          5.5070e+00],\n",
       "        [ 1.4694e+01,  1.1485e+02,  5.9120e+00,  1.4783e+01,  1.5065e+02,\n",
       "          5.7100e+00],\n",
       "        [ 1.4606e+01,  3.4728e+01,  6.1140e+00,  1.4694e+01,  1.1485e+02,\n",
       "          5.9120e+00],\n",
       "        [ 1.4380e+01,  1.9843e+01,  6.0740e+00,  1.4606e+01,  3.4728e+01,\n",
       "          6.1140e+00],\n",
       "        [ 1.4155e+01,  5.7120e+00,  6.0340e+00,  1.4380e+01,  1.9843e+01,\n",
       "          6.0740e+00],\n",
       "        [ 1.3929e+01, -7.6294e-06,  5.9940e+00,  1.4155e+01,  5.7120e+00,\n",
       "          6.0340e+00],\n",
       "        [ 1.3704e+01, -7.6294e-06,  5.9540e+00,  1.3929e+01, -7.6294e-06,\n",
       "          5.9940e+00]])</pre> </div></div>"
      ],
      "text/plain": [
       "__main__.MeteoImpTensor(data=tensor([[ 14.2200, 224.8000,   5.7990],\n",
       "        [ 14.1100, 195.2800,   6.5770],\n",
       "        [ 14.2300, 244.1700,   6.9310],\n",
       "        [ 14.4000, 253.9200,   7.2860],\n",
       "        [ 14.0900, 177.3100,   7.2510],\n",
       "        [ 13.7100,  97.0700,   6.6830],\n",
       "        [ 13.0800,  39.7100,   5.8510],\n",
       "        [ 12.4100,  10.6500,   5.2540],\n",
       "        [ 12.2700,   0.3200,   5.1640],\n",
       "        [ 12.2000,   0.0000,   5.0370]]), mask=tensor([[ True,  True,  True],\n",
       "        [ True,  True,  True],\n",
       "        [False, False,  True],\n",
       "        [False, False,  True],\n",
       "        [ True,  True,  True],\n",
       "        [ True,  True,  True],\n",
       "        [ True,  True,  True],\n",
       "        [ True,  True,  True],\n",
       "        [ True,  True,  True],\n",
       "        [ True,  True,  True]]), control=tensor([[ 1.5050e+01,  2.5519e+02,  5.1020e+00,  1.5139e+01,  2.8710e+02,\n",
       "          4.9000e+00],\n",
       "        [ 1.4961e+01,  2.2143e+02,  5.3050e+00,  1.5050e+01,  2.5519e+02,\n",
       "          5.1020e+00],\n",
       "        [ 1.4872e+01,  1.8638e+02,  5.5070e+00,  1.4961e+01,  2.2143e+02,\n",
       "          5.3050e+00],\n",
       "        [ 1.4783e+01,  1.5065e+02,  5.7100e+00,  1.4872e+01,  1.8638e+02,\n",
       "          5.5070e+00],\n",
       "        [ 1.4694e+01,  1.1485e+02,  5.9120e+00,  1.4783e+01,  1.5065e+02,\n",
       "          5.7100e+00],\n",
       "        [ 1.4606e+01,  3.4728e+01,  6.1140e+00,  1.4694e+01,  1.1485e+02,\n",
       "          5.9120e+00],\n",
       "        [ 1.4380e+01,  1.9843e+01,  6.0740e+00,  1.4606e+01,  3.4728e+01,\n",
       "          6.1140e+00],\n",
       "        [ 1.4155e+01,  5.7120e+00,  6.0340e+00,  1.4380e+01,  1.9843e+01,\n",
       "          6.0740e+00],\n",
       "        [ 1.3929e+01, -7.6294e-06,  5.9940e+00,  1.4155e+01,  5.7120e+00,\n",
       "          6.0340e+00],\n",
       "        [ 1.3704e+01, -7.6294e-06,  5.9540e+00,  1.3929e+01, -7.6294e-06,\n",
       "          5.9940e+00]]))"
      ]
     },
     "execution_count": null,
     "metadata": {},
     "output_type": "execute_result"
    }
   ],
   "source": [
    "tfms4.decode(tfms4[0])"
   ]
  },
  {
   "cell_type": "markdown",
   "id": "996ccbf6-0e81-4fd5-97ff-9ee2ab8eb42d",
   "metadata": {},
   "source": [
    "is workinggggggggggggggggg "
   ]
  },
  {
   "cell_type": "markdown",
   "id": "b0054d0c-1aba-4d7e-8bca-be55853b4388",
   "metadata": {},
   "source": [
    "### 6) To Tuple"
   ]
  },
  {
   "cell_type": "markdown",
   "id": "9e74011f-f689-4f39-8e9d-ec88e0487928",
   "metadata": {},
   "source": [
    "Fastai likes to work with tuples (in particular for collating)... for now convert to a tuple. Maybe find a way to mimic a tuple in `MeteoImpTensor`"
   ]
  },
  {
   "cell_type": "code",
   "execution_count": null,
   "id": "d1c3ff30-1e9e-4d83-a6ea-66df2924e04a",
   "metadata": {},
   "outputs": [],
   "source": [
    "#| export\n",
    "class ToTuple(Transform):\n",
    "    def encodes(self, x): return tuple(x)\n",
    "    def decodes(self, x): return MeteoImpTensor(x)"
   ]
  },
  {
   "cell_type": "code",
   "execution_count": null,
   "id": "d80ba90d-eecf-46e5-b0dc-4f141879b9ac",
   "metadata": {},
   "outputs": [
    {
     "data": {
      "text/plain": [
       "ToTuple:\n",
       "encodes: (object,object) -> encodes\n",
       "decodes: (object,object) -> decodes"
      ]
     },
     "execution_count": null,
     "metadata": {},
     "output_type": "execute_result"
    }
   ],
   "source": [
    "ToTuple()"
   ]
  },
  {
   "cell_type": "code",
   "execution_count": null,
   "id": "b34cf6b9-3dec-42ba-802b-12fad01f1684",
   "metadata": {},
   "outputs": [],
   "source": [
    "tfms5 = TfmdLists([800,801,803], [*tfms4.fs,ToTuple])"
   ]
  },
  {
   "cell_type": "code",
   "execution_count": null,
   "id": "8ceb861e-16d5-444a-bbbd-1ec5cf5c40f9",
   "metadata": {},
   "outputs": [],
   "source": [
    "tfms5[0];"
   ]
  },
  {
   "cell_type": "markdown",
   "id": "81077302-18db-4010-9c88-ae8d48216353",
   "metadata": {},
   "source": [
    "### Pipeline"
   ]
  },
  {
   "cell_type": "code",
   "execution_count": null,
   "id": "0ad384f0-7912-4d40-9631-1e6e5294fb9f",
   "metadata": {},
   "outputs": [],
   "source": [
    "#| export\n",
    "from fastai.data.transforms import *"
   ]
  },
  {
   "cell_type": "code",
   "execution_count": null,
   "id": "5c19d0b5-b78c-4a5f-a606-8a1cfe832e8d",
   "metadata": {},
   "outputs": [],
   "source": [
    "block_len = 10\n",
    "control_lags = [1]\n",
    "control_repeat = len(control_lags)\n",
    "block_ids = list(range(control_lag, (len(hai) // block_len) - 1))[:10]\n",
    "gap_len = 2"
   ]
  },
  {
   "cell_type": "code",
   "execution_count": null,
   "id": "9a7a2fc4-fa0d-4b22-b7ca-65feed7ffcdc",
   "metadata": {},
   "outputs": [],
   "source": [
    "#| export\n",
    "def imp_pipeline(df,\n",
    "                 control,\n",
    "                 block_len,\n",
    "                 gap_len,\n",
    "                 control_lags\n",
    "                ):\n",
    "    offset = max(control_lags)\n",
    "    block_ids = list(range(offset, (len(df) // block_len) - 1))\n",
    "    return [BlockIndexTransform(df.index, block_len=block_len, offset=offset),\n",
    "            BlockDfTransform(data = df, control = control,  control_lags = control_lags),\n",
    "            AddGapTransform(['TA','SW_IN'], gap_len),\n",
    "            MeteoImpDf2Tensor,\n",
    "            MeteoImpNormalize(*get_stats(df), *get_stats(control, 1+len(control_lags))),\n",
    "            ToTuple\n",
    "           ], block_ids"
   ]
  },
  {
   "cell_type": "code",
   "execution_count": null,
   "id": "ae7c4bad-445a-4e2a-9d30-e0160106b678",
   "metadata": {},
   "outputs": [],
   "source": [
    "pipeline, block_ids = imp_pipeline(hai, hai_era, block_len, gap_len, control_lags)"
   ]
  },
  {
   "cell_type": "code",
   "execution_count": null,
   "id": "569ade0e-fb29-4929-9106-3ac010ce5db0",
   "metadata": {},
   "outputs": [
    {
     "data": {
      "text/plain": [
       "[BlockIndexTransform:\n",
       " encodes: (int,object) -> encodes\n",
       " decodes: ,\n",
       " BlockDfTransform:\n",
       " encodes: (DatetimeIndex,object) -> encodes\n",
       " decodes: ,\n",
       " AddGapTransform -- {'variables': ['TA', 'SW_IN'], 'gap_length': 2}:\n",
       " encodes: (DataControl,object) -> encodes\n",
       " decodes: ,\n",
       " __main__.MeteoImpDf2Tensor,\n",
       " MeteoImpNormalize -- {'mean_data': tensor([  8.3339, 120.9578,   3.3807]), 'std_data': tensor([  7.9246, 204.0026,   4.3684]), 'mean_control': tensor([  8.1948, 120.6864,   3.3253,   8.1948, 120.6864,   3.3253]), 'std_control': tensor([  7.5459, 187.1730,   3.6871,   7.5459, 187.1730,   3.6871])}:\n",
       " encodes: (MeteoImpTensor,object) -> encodes\n",
       " decodes: (MeteoImpTensor,object) -> decodes\n",
       " (NormalsParams,object) -> decodes,\n",
       " __main__.ToTuple]"
      ]
     },
     "execution_count": null,
     "metadata": {},
     "output_type": "execute_result"
    }
   ],
   "source": [
    "pipeline"
   ]
  },
  {
   "cell_type": "code",
   "execution_count": null,
   "id": "5cc0fa4f-801d-4d04-a3a7-7012d11e3709",
   "metadata": {},
   "outputs": [],
   "source": [
    "pp = Pipeline(pipeline)"
   ]
  },
  {
   "cell_type": "code",
   "execution_count": null,
   "id": "7b7be91d-d0d2-4b85-9ab5-ece0cbaf6616",
   "metadata": {},
   "outputs": [
    {
     "data": {
      "text/plain": [
       "Pipeline: BlockIndexTransform -> BlockDfTransform -> AddGapTransform -- {'variables': ['TA', 'SW_IN'], 'gap_length': 2} -> MeteoImpDf2Tensor -> MeteoImpNormalize -- {'mean_data': tensor([  8.3339, 120.9578,   3.3807]), 'std_data': tensor([  7.9246, 204.0026,   4.3684]), 'mean_control': tensor([  8.1948, 120.6864,   3.3253,   8.1948, 120.6864,   3.3253]), 'std_control': tensor([  7.5459, 187.1730,   3.6871,   7.5459, 187.1730,   3.6871])} -> ToTuple"
      ]
     },
     "execution_count": null,
     "metadata": {},
     "output_type": "execute_result"
    }
   ],
   "source": [
    "pp"
   ]
  },
  {
   "cell_type": "markdown",
   "id": "df9f46c5-7664-492e-8baa-62ed741033e1",
   "metadata": {},
   "source": [
    "### Dataloader"
   ]
  },
  {
   "cell_type": "markdown",
   "id": "b71760f8-6b1f-45be-a804-756a3946a585",
   "metadata": {},
   "source": [
    "random splitter for validation/training set"
   ]
  },
  {
   "cell_type": "code",
   "execution_count": null,
   "id": "322140fc-b896-4e38-b244-dc8525438cfa",
   "metadata": {},
   "outputs": [],
   "source": [
    "reset_seed()"
   ]
  },
  {
   "cell_type": "code",
   "execution_count": null,
   "id": "4aefcbc5-7675-4da8-9fa8-53efd933a5ce",
   "metadata": {},
   "outputs": [],
   "source": [
    "splits = RandomSplitter()(block_ids)"
   ]
  },
  {
   "cell_type": "markdown",
   "id": "ea416657-bd6b-4bd0-9970-1aee94d0b5ea",
   "metadata": {},
   "source": [
    "Repeat twice the pipeline since is the same pipeline both for training data and for labels.\n",
    "\n",
    "In theory could optimize the label creation and get the data only from the gap and not the control, but for now it works and the overhead is minimal"
   ]
  },
  {
   "cell_type": "code",
   "execution_count": null,
   "id": "a367a12b-df12-422d-9eb4-877eaafafc94",
   "metadata": {},
   "outputs": [],
   "source": [
    "ds = Datasets(block_ids, [pipeline, pipeline], splits=splits)"
   ]
  },
  {
   "cell_type": "code",
   "execution_count": null,
   "id": "f6d45118-0145-44ea-a796-a659ed93baa9",
   "metadata": {},
   "outputs": [],
   "source": [
    "dls = ds.dataloaders(bs=1)"
   ]
  },
  {
   "cell_type": "code",
   "execution_count": null,
   "id": "f1ee5a56-067d-4383-9f20-e0c4bc78d4ca",
   "metadata": {},
   "outputs": [
    {
     "data": {
      "text/plain": [
       "device(type='cuda', index=0)"
      ]
     },
     "execution_count": null,
     "metadata": {},
     "output_type": "execute_result"
    }
   ],
   "source": [
    "dls.device"
   ]
  },
  {
   "cell_type": "code",
   "execution_count": null,
   "id": "a7205642-c9ef-4e44-b273-262177d54e2f",
   "metadata": {},
   "outputs": [
    {
     "data": {
      "text/plain": [
       "((tensor([[[ 0.4752, -0.5929, -0.1684],\n",
       "           [ 0.5030, -0.5929, -0.1091],\n",
       "           [ 0.4992, -0.5929, -0.1313],\n",
       "           [ 0.5106, -0.5929, -0.0899],\n",
       "           [ 0.5207, -0.5929, -0.0613],\n",
       "           [ 0.5181, -0.5929, -0.0707],\n",
       "           [ 0.4841, -0.5929, -0.1480],\n",
       "           [ 0.4651, -0.5929, -0.2121],\n",
       "           [ 0.4828, -0.5929, -0.2050],\n",
       "           [ 0.4853, -0.5929, -0.2108]]], device='cuda:0'),\n",
       "  tensor([[[ True,  True,  True],\n",
       "           [ True,  True,  True],\n",
       "           [ True,  True,  True],\n",
       "           [ True,  True,  True],\n",
       "           [ True,  True,  True],\n",
       "           [False, False,  True],\n",
       "           [False, False,  True],\n",
       "           [ True,  True,  True],\n",
       "           [ True,  True,  True],\n",
       "           [ True,  True,  True]]], device='cuda:0'),\n",
       "  tensor([[[ 0.3370, -0.6448, -0.5119,  0.3316, -0.6448, -0.5287],\n",
       "           [ 0.3423, -0.6448, -0.4951,  0.3370, -0.6448, -0.5119],\n",
       "           [ 0.3622, -0.6448, -0.4880,  0.3423, -0.6448, -0.4951],\n",
       "           [ 0.3820, -0.6448, -0.4807,  0.3622, -0.6448, -0.4880],\n",
       "           [ 0.4017, -0.6448, -0.4734,  0.3820, -0.6448, -0.4807],\n",
       "           [ 0.4214, -0.6448, -0.4660,  0.4017, -0.6448, -0.4734],\n",
       "           [ 0.4412, -0.6448, -0.4590,  0.4214, -0.6448, -0.4660],\n",
       "           [ 0.4609, -0.6448, -0.4517,  0.4412, -0.6448, -0.4590],\n",
       "           [ 0.4563, -0.6448, -0.4034,  0.4609, -0.6448, -0.4517],\n",
       "           [ 0.4517, -0.6448, -0.3551,  0.4563, -0.6448, -0.4034]]],\n",
       "         device='cuda:0')),\n",
       " (tensor([[[ 0.4752, -0.5929, -0.1684],\n",
       "           [ 0.5030, -0.5929, -0.1091],\n",
       "           [ 0.4992, -0.5929, -0.1313],\n",
       "           [ 0.5106, -0.5929, -0.0899],\n",
       "           [ 0.5207, -0.5929, -0.0613],\n",
       "           [ 0.5181, -0.5929, -0.0707],\n",
       "           [ 0.4841, -0.5929, -0.1480],\n",
       "           [ 0.4651, -0.5929, -0.2121],\n",
       "           [ 0.4828, -0.5929, -0.2050],\n",
       "           [ 0.4853, -0.5929, -0.2108]]], device='cuda:0'),\n",
       "  tensor([[[False, False,  True],\n",
       "           [False, False,  True],\n",
       "           [ True,  True,  True],\n",
       "           [ True,  True,  True],\n",
       "           [ True,  True,  True],\n",
       "           [ True,  True,  True],\n",
       "           [ True,  True,  True],\n",
       "           [ True,  True,  True],\n",
       "           [ True,  True,  True],\n",
       "           [ True,  True,  True]]], device='cuda:0'),\n",
       "  tensor([[[ 0.3370, -0.6448, -0.5119,  0.3316, -0.6448, -0.5287],\n",
       "           [ 0.3423, -0.6448, -0.4951,  0.3370, -0.6448, -0.5119],\n",
       "           [ 0.3622, -0.6448, -0.4880,  0.3423, -0.6448, -0.4951],\n",
       "           [ 0.3820, -0.6448, -0.4807,  0.3622, -0.6448, -0.4880],\n",
       "           [ 0.4017, -0.6448, -0.4734,  0.3820, -0.6448, -0.4807],\n",
       "           [ 0.4214, -0.6448, -0.4660,  0.4017, -0.6448, -0.4734],\n",
       "           [ 0.4412, -0.6448, -0.4590,  0.4214, -0.6448, -0.4660],\n",
       "           [ 0.4609, -0.6448, -0.4517,  0.4412, -0.6448, -0.4590],\n",
       "           [ 0.4563, -0.6448, -0.4034,  0.4609, -0.6448, -0.4517],\n",
       "           [ 0.4517, -0.6448, -0.3551,  0.4563, -0.6448, -0.4034]]],\n",
       "         device='cuda:0')))"
      ]
     },
     "execution_count": null,
     "metadata": {},
     "output_type": "execute_result"
    }
   ],
   "source": [
    "dls.one_batch()"
   ]
  },
  {
   "cell_type": "code",
   "execution_count": null,
   "id": "2223f2ba-79e9-4a58-87ae-a848e8a779a7",
   "metadata": {},
   "outputs": [],
   "source": [
    "@typedispatch\n",
    "def show_batch(x: tuple, y, samples, ctxs=None, max_n=6):\n",
    "    return x"
   ]
  },
  {
   "cell_type": "code",
   "execution_count": null,
   "id": "f81d21cf-c3c3-4926-bb64-067b9928a0b2",
   "metadata": {},
   "outputs": [],
   "source": [
    "# dls.show_batch()"
   ]
  },
  {
   "cell_type": "code",
   "execution_count": null,
   "id": "6bbdab5e-2970-4326-99de-1d1cbdd1b9fa",
   "metadata": {},
   "outputs": [
    {
     "data": {
      "text/plain": [
       "{tuple: [{tuple: [torch.Tensor, torch.Tensor, torch.Tensor]},\n",
       "  {tuple: [torch.Tensor, torch.Tensor, torch.Tensor]}]}"
      ]
     },
     "execution_count": null,
     "metadata": {},
     "output_type": "execute_result"
    }
   ],
   "source": [
    "dls._types"
   ]
  },
  {
   "cell_type": "code",
   "execution_count": null,
   "id": "9ec4f71f-607e-476e-a89e-8d6f2b8bcc19",
   "metadata": {},
   "outputs": [],
   "source": [
    "#| export\n",
    "def make_dataloader(df, control, block_len, gap_len, control_lags, bs):\n",
    "    pipeline, block_ids = imp_pipeline(df, control, block_len, gap_len, control_lags)\n",
    "    \n",
    "    splits = RandomSplitter()(block_ids)\n",
    "    ds = Datasets(block_ids, [pipeline, pipeline], splits=splits)\n",
    "    \n",
    "    return ds.dataloaders(bs=bs)\n",
    "    "
   ]
  },
  {
   "cell_type": "code",
   "execution_count": null,
   "id": "cb1df190-83ba-4056-be7f-82d364e2dc87",
   "metadata": {},
   "outputs": [],
   "source": [
    "dls = make_dataloader(hai, hai_era, 200, 10, [1], 10)"
   ]
  },
  {
   "cell_type": "code",
   "execution_count": null,
   "id": "3024300b-3f82-436d-ac6d-13ff7861dbf7",
   "metadata": {},
   "outputs": [
    {
     "data": {
      "text/plain": [
       "torch.Size([10, 200, 3])"
      ]
     },
     "execution_count": null,
     "metadata": {},
     "output_type": "execute_result"
    }
   ],
   "source": [
    "dls.one_batch()[0][0].shape"
   ]
  },
  {
   "cell_type": "code",
   "execution_count": null,
   "id": "1a7c86d2-e054-4dd4-89c9-26165e558390",
   "metadata": {},
   "outputs": [],
   "source": [
    "dls = dls.cpu()"
   ]
  },
  {
   "cell_type": "markdown",
   "id": "64bb7e8b-178d-4ab6-a359-5bcc010a8767",
   "metadata": {},
   "source": [
    "## Model"
   ]
  },
  {
   "cell_type": "markdown",
   "id": "e4e0999c-d959-49fa-8e8a-0ed8e53f2f5d",
   "metadata": {},
   "source": [
    "### Forward Function"
   ]
  },
  {
   "cell_type": "markdown",
   "id": "dc64e0a2-b14b-4159-af4f-c6a9fb2a3f05",
   "metadata": {},
   "source": [
    "in order to the a pytorch module we need a forward method to the kalman filter"
   ]
  },
  {
   "cell_type": "code",
   "execution_count": null,
   "id": "42d40fc6-7b8d-4e9c-9f14-70ea54629826",
   "metadata": {},
   "outputs": [],
   "source": [
    "#| export\n",
    "from meteo_imp.kalman.filter import *\n",
    "from torch.distributions import MultivariateNormal"
   ]
  },
  {
   "cell_type": "code",
   "execution_count": null,
   "id": "0ebded29-5194-4ca4-808a-fe115d705495",
   "metadata": {},
   "outputs": [],
   "source": [
    "#| export\n",
    "@patch\n",
    "def _predict_filter(self: KalmanFilter, data, mask, control):\n",
    "    \"\"\"Predict every obsevation using only the filter step\"\"\"\n",
    "    # use the predicted state not the filtered state!\n",
    "    pred_state_mean, pred_state_cov, _, _ = self._filter_all(data, mask, control)\n",
    "    mean, cov = self._obs_from_state(ListMNormal(pred_state_mean.squeeze(-1), pred_state_cov))\n",
    "    \n",
    "    return ListNormal(mean, cov2std(cov))"
   ]
  },
  {
   "cell_type": "code",
   "execution_count": null,
   "id": "634980aa-b323-45cc-b2a3-bdd0ee95a4a9",
   "metadata": {},
   "outputs": [],
   "source": [
    "model = KalmanFilter.init_random(n_dim_obs = hai.shape[-1], n_dim_state = hai.shape[-1], n_dim_contr = hai_era.shape[-1]*control_repeat)"
   ]
  },
  {
   "cell_type": "code",
   "execution_count": null,
   "id": "cbbc44e6-3b50-4972-80b0-b3ff7b8e44b4",
   "metadata": {},
   "outputs": [
    {
     "ename": "NameError",
     "evalue": "name 'contr_matrix' is not defined",
     "output_type": "error",
     "traceback": [
      "\u001b[0;31m---------------------------------------------------------------------------\u001b[0m",
      "\u001b[0;31mNameError\u001b[0m                                 Traceback (most recent call last)",
      "Input \u001b[0;32mIn [945]\u001b[0m, in \u001b[0;36m<cell line: 1>\u001b[0;34m()\u001b[0m\n\u001b[0;32m----> 1\u001b[0m \u001b[43mmodel\u001b[49m\u001b[38;5;241;43m.\u001b[39;49m\u001b[43m_predict_filter\u001b[49m\u001b[43m(\u001b[49m\u001b[38;5;241;43m*\u001b[39;49m\u001b[43mdls\u001b[49m\u001b[38;5;241;43m.\u001b[39;49m\u001b[43mone_batch\u001b[49m\u001b[43m(\u001b[49m\u001b[43m)\u001b[49m\u001b[43m[\u001b[49m\u001b[38;5;241;43m0\u001b[39;49m\u001b[43m]\u001b[49m\u001b[43m)\u001b[49m\n",
      "Input \u001b[0;32mIn [943]\u001b[0m, in \u001b[0;36m_predict_filter\u001b[0;34m(self, data, mask, control)\u001b[0m\n\u001b[1;32m      4\u001b[0m \u001b[38;5;124;03m\"\"\"Predict every obsevation using only the filter step\"\"\"\u001b[39;00m\n\u001b[1;32m      5\u001b[0m \u001b[38;5;66;03m# use the predicted state not the filtered state!\u001b[39;00m\n\u001b[0;32m----> 6\u001b[0m pred_state_mean, pred_state_cov, _, _ \u001b[38;5;241m=\u001b[39m \u001b[38;5;28;43mself\u001b[39;49m\u001b[38;5;241;43m.\u001b[39;49m\u001b[43m_filter_all\u001b[49m\u001b[43m(\u001b[49m\u001b[43mdata\u001b[49m\u001b[43m,\u001b[49m\u001b[43m \u001b[49m\u001b[43mmask\u001b[49m\u001b[43m,\u001b[49m\u001b[43m \u001b[49m\u001b[43mcontrol\u001b[49m\u001b[43m)\u001b[49m\n\u001b[1;32m      7\u001b[0m mean, cov \u001b[38;5;241m=\u001b[39m \u001b[38;5;28mself\u001b[39m\u001b[38;5;241m.\u001b[39m_obs_from_state(ListMNormal(pred_state_mean\u001b[38;5;241m.\u001b[39msqueeze(\u001b[38;5;241m-\u001b[39m\u001b[38;5;241m1\u001b[39m), pred_state_cov))\n\u001b[1;32m      9\u001b[0m \u001b[38;5;28;01mreturn\u001b[39;00m ListNormal(mean, cov2std(cov))\n",
      "File \u001b[0;32m~/Documents/uni/Thesis/GPFA_imputation/meteo_imp/kalman/filter.py:277\u001b[0m, in \u001b[0;36m_filter_all\u001b[0;34m(self, obs, mask, control)\u001b[0m\n\u001b[1;32m    275\u001b[0m \u001b[38;5;124;03m\"\"\" wrapper around `_filter`\"\"\"\u001b[39;00m\n\u001b[1;32m    276\u001b[0m obs, mask \u001b[38;5;241m=\u001b[39m \u001b[38;5;28mself\u001b[39m\u001b[38;5;241m.\u001b[39m_parse_obs(obs, mask)\n\u001b[0;32m--> 277\u001b[0m \u001b[38;5;28;01mreturn\u001b[39;00m \u001b[43m_filter\u001b[49m\u001b[43m(\u001b[49m\n\u001b[1;32m    278\u001b[0m \u001b[43m        \u001b[49m\u001b[38;5;28;43mself\u001b[39;49m\u001b[38;5;241;43m.\u001b[39;49m\u001b[43mtrans_matrix\u001b[49m\u001b[43m,\u001b[49m\u001b[43m \u001b[49m\u001b[38;5;28;43mself\u001b[39;49m\u001b[38;5;241;43m.\u001b[39;49m\u001b[43mobs_matrix\u001b[49m\u001b[43m,\u001b[49m\n\u001b[1;32m    279\u001b[0m \u001b[43m        \u001b[49m\u001b[38;5;28;43mself\u001b[39;49m\u001b[38;5;241;43m.\u001b[39;49m\u001b[43mtrans_cov\u001b[49m\u001b[43m,\u001b[49m\u001b[43m \u001b[49m\u001b[38;5;28;43mself\u001b[39;49m\u001b[38;5;241;43m.\u001b[39;49m\u001b[43mobs_cov\u001b[49m\u001b[43m,\u001b[49m\n\u001b[1;32m    280\u001b[0m \u001b[43m        \u001b[49m\u001b[38;5;28;43mself\u001b[39;49m\u001b[38;5;241;43m.\u001b[39;49m\u001b[43mtrans_off\u001b[49m\u001b[43m,\u001b[49m\u001b[43m \u001b[49m\u001b[38;5;28;43mself\u001b[39;49m\u001b[38;5;241;43m.\u001b[39;49m\u001b[43mobs_off\u001b[49m\u001b[43m,\u001b[49m\n\u001b[1;32m    281\u001b[0m \u001b[43m        \u001b[49m\u001b[38;5;28;43mself\u001b[39;49m\u001b[38;5;241;43m.\u001b[39;49m\u001b[43mcontr_matrix\u001b[49m\u001b[43m,\u001b[49m\n\u001b[1;32m    282\u001b[0m \u001b[43m        \u001b[49m\u001b[38;5;28;43mself\u001b[39;49m\u001b[38;5;241;43m.\u001b[39;49m\u001b[43minit_state_mean\u001b[49m\u001b[43m,\u001b[49m\u001b[43m \u001b[49m\u001b[38;5;28;43mself\u001b[39;49m\u001b[38;5;241;43m.\u001b[39;49m\u001b[43minit_state_cov\u001b[49m\u001b[43m,\u001b[49m\n\u001b[1;32m    283\u001b[0m \u001b[43m        \u001b[49m\u001b[43mobs\u001b[49m\u001b[43m,\u001b[49m\u001b[43m \u001b[49m\u001b[43mmask\u001b[49m\u001b[43m,\u001b[49m\u001b[43m \u001b[49m\u001b[43mcontrol\u001b[49m\u001b[43m,\u001b[49m\n\u001b[1;32m    284\u001b[0m \u001b[43m        \u001b[49m\u001b[38;5;28;43mself\u001b[39;49m\u001b[38;5;241;43m.\u001b[39;49m\u001b[43mcov_checker\u001b[49m\n\u001b[1;32m    285\u001b[0m \u001b[43m    \u001b[49m\u001b[43m)\u001b[49m\n",
      "File \u001b[0;32m~/Documents/uni/Thesis/GPFA_imputation/meteo_imp/kalman/filter.py:259\u001b[0m, in \u001b[0;36m_filter\u001b[0;34m(trans_matrix, obs_matrix, trans_cov, obs_cov, trans_off, obs_off, control_matrix, init_state_mean, init_state_cov, obs, mask, control, cov_checker)\u001b[0m\n\u001b[1;32m    257\u001b[0m         pred_state_means[t], pred_state_covs[t] \u001b[38;5;241m=\u001b[39m torch\u001b[38;5;241m.\u001b[39mstack([init_state_mean]\u001b[38;5;241m*\u001b[39mbs)\u001b[38;5;241m.\u001b[39munsqueeze(\u001b[38;5;241m-\u001b[39m\u001b[38;5;241m1\u001b[39m), torch\u001b[38;5;241m.\u001b[39mstack([init_state_cov]\u001b[38;5;241m*\u001b[39mbs)\n\u001b[1;32m    258\u001b[0m     \u001b[38;5;28;01melse\u001b[39;00m:\n\u001b[0;32m--> 259\u001b[0m         pred_state_means[t], pred_state_covs[t] \u001b[38;5;241m=\u001b[39m _filter_predict(trans_matrix, trans_cov, trans_off, \u001b[43mcontr_matrix\u001b[49m,\n\u001b[1;32m    260\u001b[0m                                                                   filt_state_means[t \u001b[38;5;241m-\u001b[39m \u001b[38;5;241m1\u001b[39m], filt_state_covs[t \u001b[38;5;241m-\u001b[39m \u001b[38;5;241m1\u001b[39m], control[:,t,:],\n\u001b[1;32m    261\u001b[0m                                                                   cov_checker\u001b[38;5;241m.\u001b[39madd_args(t\u001b[38;5;241m=\u001b[39mt))\n\u001b[1;32m    263\u001b[0m     filt_state_means[t], filt_state_covs[t] \u001b[38;5;241m=\u001b[39m _filter_correct(obs_matrix, obs_cov, obs_off,\n\u001b[1;32m    264\u001b[0m                                                                  pred_state_means[t], pred_state_covs[t],\n\u001b[1;32m    265\u001b[0m                                                                  obs[:,t,:], mask[:,t,:],\n\u001b[1;32m    266\u001b[0m                                                                  cov_checker\u001b[38;5;241m.\u001b[39madd_args(t\u001b[38;5;241m=\u001b[39mt))\n\u001b[1;32m    268\u001b[0m ret \u001b[38;5;241m=\u001b[39m \u001b[38;5;28mlist\u001b[39m(maps(torch\u001b[38;5;241m.\u001b[39mstack, _times2batch, (pred_state_means, pred_state_covs, filt_state_means, filt_state_covs,)))\n",
      "\u001b[0;31mNameError\u001b[0m: name 'contr_matrix' is not defined"
     ]
    }
   ],
   "source": [
    "model._predict_filter(*dls.one_batch()[0]);"
   ]
  },
  {
   "cell_type": "code",
   "execution_count": null,
   "id": "737a9f2a-ce54-42a3-8490-acb988138ed4",
   "metadata": {},
   "outputs": [],
   "source": [
    "#| export\n",
    "@patch\n",
    "def forward(self: KalmanFilter, masked_data: MaskedTensor):\n",
    "    data, mask = masked_data\n",
    "    assert not data.isnan().any()\n",
    "    use_smooth = self.use_smooth if hasattr(self, 'use_smooth') else True\n",
    "    \n",
    "    mean, std = (self.predict(obs=data, mask=mask, smooth=True) if use_smooth\n",
    "                        else self._predict_filter(data, mask))\n",
    "    return NormalsParams(mean, std) # to have fastai working this needs to be a tuple subclass"
   ]
  },
  {
   "cell_type": "code",
   "execution_count": null,
   "id": "f7ebde2f-19aa-4860-b665-b13865111506",
   "metadata": {},
   "outputs": [],
   "source": [
    "input = dls.one_batch()[0]\n",
    "target = dls.one_batch()[1]"
   ]
  },
  {
   "cell_type": "code",
   "execution_count": null,
   "id": "2d34397d-7720-4127-83d1-f5137c94af46",
   "metadata": {},
   "outputs": [
    {
     "data": {
      "text/plain": [
       "OrderedDict([('trans_matrix',\n",
       "              tensor([[1., 0., 0.],\n",
       "                      [0., 1., 0.],\n",
       "                      [0., 0., 1.]])),\n",
       "             ('trans_off', tensor([0., 0., 0.])),\n",
       "             ('trans_cov_raw',\n",
       "              tensor([[1., 0., 0.],\n",
       "                      [0., 1., 0.],\n",
       "                      [0., 0., 1.]])),\n",
       "             ('obs_matrix',\n",
       "              tensor([[1., 0., 0.],\n",
       "                      [0., 1., 0.],\n",
       "                      [0., 0., 1.]])),\n",
       "             ('obs_off', tensor([0., 0., 0.])),\n",
       "             ('obs_cov_raw',\n",
       "              tensor([[1., 0., 0.],\n",
       "                      [0., 1., 0.],\n",
       "                      [0., 0., 1.]])),\n",
       "             ('init_state_mean', tensor([0., 0., 0.])),\n",
       "             ('init_state_cov_raw',\n",
       "              tensor([[1., 0., 0.],\n",
       "                      [0., 1., 0.],\n",
       "                      [0., 0., 1.]]))])"
      ]
     },
     "execution_count": null,
     "metadata": {},
     "output_type": "execute_result"
    }
   ],
   "source": [
    "model.state_dict()"
   ]
  },
  {
   "cell_type": "code",
   "execution_count": null,
   "id": "5696c62a-e455-4d86-9f10-e00ea93671ac",
   "metadata": {},
   "outputs": [
    {
     "data": {
      "text/plain": [
       "torch.Size([200, 3])"
      ]
     },
     "execution_count": null,
     "metadata": {},
     "output_type": "execute_result"
    }
   ],
   "source": [
    "data = input[0][0]\n",
    "data.shape"
   ]
  },
  {
   "cell_type": "code",
   "execution_count": null,
   "id": "9d1bdfc9-2fa3-4627-94d8-0a9dda444203",
   "metadata": {},
   "outputs": [],
   "source": [
    "mask = input[1][0]"
   ]
  },
  {
   "cell_type": "code",
   "execution_count": null,
   "id": "ec17c709-bfaa-4a0e-a45d-c067671a809c",
   "metadata": {},
   "outputs": [
    {
     "data": {
      "text/plain": [
       "torch.Size([200, 3])"
      ]
     },
     "execution_count": null,
     "metadata": {},
     "output_type": "execute_result"
    }
   ],
   "source": [
    "mask.shape"
   ]
  },
  {
   "cell_type": "code",
   "execution_count": null,
   "id": "26934279-9c81-447b-8506-01b5abd7b72a",
   "metadata": {},
   "outputs": [
    {
     "data": {
      "text/plain": [
       "device(type='cpu')"
      ]
     },
     "execution_count": null,
     "metadata": {},
     "output_type": "execute_result"
    }
   ],
   "source": [
    "data.device"
   ]
  },
  {
   "cell_type": "code",
   "execution_count": null,
   "id": "83e3bbd9-8e03-440a-b13b-8b6aba7ba341",
   "metadata": {},
   "outputs": [
    {
     "data": {
      "text/plain": [
       "torch.device"
      ]
     },
     "execution_count": null,
     "metadata": {},
     "output_type": "execute_result"
    }
   ],
   "source": [
    "torch.device"
   ]
  },
  {
   "cell_type": "code",
   "execution_count": null,
   "id": "3b6b1ed8-048a-4755-8201-57eec8654cdb",
   "metadata": {},
   "outputs": [
    {
     "data": {
      "text/plain": [
       "(torch.Size([200, 3]), torch.Size([200, 3]))"
      ]
     },
     "execution_count": null,
     "metadata": {},
     "output_type": "execute_result"
    }
   ],
   "source": [
    "data.shape, mask.shape"
   ]
  },
  {
   "cell_type": "code",
   "execution_count": null,
   "id": "d3ba1aa7-ef52-4a85-b0c4-3763d621eb70",
   "metadata": {},
   "outputs": [],
   "source": [
    "model.predict(data.unsqueeze(0), mask.unsqueeze(0));"
   ]
  },
  {
   "cell_type": "code",
   "execution_count": null,
   "id": "9ef72fbc-cdef-4146-b294-8fd261c0e2c4",
   "metadata": {},
   "outputs": [],
   "source": [
    "model.use_smooth = True"
   ]
  },
  {
   "cell_type": "code",
   "execution_count": null,
   "id": "5d690cd5-44a1-45d6-9abb-ef4fb0a62314",
   "metadata": {},
   "outputs": [],
   "source": [
    "pred = model(input)"
   ]
  },
  {
   "cell_type": "code",
   "execution_count": null,
   "id": "a7bc7df7-effd-41b0-bb90-6beaa874d1e1",
   "metadata": {},
   "outputs": [
    {
     "data": {
      "text/plain": [
       "torch.Size([10, 200, 3])"
      ]
     },
     "execution_count": null,
     "metadata": {},
     "output_type": "execute_result"
    }
   ],
   "source": [
    "pred[0].shape"
   ]
  },
  {
   "cell_type": "code",
   "execution_count": null,
   "id": "ed03f415-567f-47ab-b019-b7291cee03f0",
   "metadata": {},
   "outputs": [
    {
     "data": {
      "text/plain": [
       "torch.Size([10, 200, 3])"
      ]
     },
     "execution_count": null,
     "metadata": {},
     "output_type": "execute_result"
    }
   ],
   "source": [
    "pred[1].shape"
   ]
  },
  {
   "cell_type": "code",
   "execution_count": null,
   "id": "856e7d79-e0ab-4562-aa6b-bbb68e3928d0",
   "metadata": {},
   "outputs": [],
   "source": [
    "model.use_smooth = False"
   ]
  },
  {
   "cell_type": "code",
   "execution_count": null,
   "id": "f804c6a9-34d6-48de-a5fe-c99142f5c7d5",
   "metadata": {},
   "outputs": [],
   "source": [
    "pred_filt = model(input)"
   ]
  },
  {
   "cell_type": "code",
   "execution_count": null,
   "id": "844f78fa-d55b-42c7-a46d-28831f712e94",
   "metadata": {},
   "outputs": [
    {
     "data": {
      "text/plain": [
       "torch.Size([10, 200, 3])"
      ]
     },
     "execution_count": null,
     "metadata": {},
     "output_type": "execute_result"
    }
   ],
   "source": [
    "pred_filt[1].shape"
   ]
  },
  {
   "cell_type": "code",
   "execution_count": null,
   "id": "5e89cd79-45ce-44dc-b5e1-f46e120e9a13",
   "metadata": {},
   "outputs": [
    {
     "data": {
      "text/plain": [
       "__main__.NormalsParams(mean=tensor([[[-3.0440e-02, -3.6128e-01, -2.0692e-01],\n",
       "         [-4.9185e-02, -4.9092e-01, -3.1615e-01],\n",
       "         [-5.6050e-02, -5.1855e-01, -3.5977e-01],\n",
       "         ...,\n",
       "         [ 6.0673e-02, -5.5834e-01, -6.3950e-01],\n",
       "         [ 5.4511e-02, -5.5101e-01, -6.6336e-01],\n",
       "         [ 5.1616e-02, -5.4834e-01, -6.8085e-01]],\n",
       "\n",
       "        [[-1.1211e+00, -3.5555e-01, -4.6935e-01],\n",
       "         [-1.5444e+00, -4.7373e-01, -6.4904e-01],\n",
       "         [-1.7021e+00, -4.8982e-01, -7.1740e-01],\n",
       "         ...,\n",
       "         [-1.5386e+00,  2.9052e-01, -5.1738e-01],\n",
       "         [-1.4834e+00,  4.1266e-01, -4.9085e-01],\n",
       "         [-1.4373e+00,  4.7991e-01, -4.6789e-01]],\n",
       "\n",
       "        [[-3.1530e-01, -1.8284e-01, -3.5549e-01],\n",
       "         [-4.0533e-01, -1.2309e-01, -4.5077e-01],\n",
       "         [-4.0048e-01,  8.7761e-02, -4.4589e-01],\n",
       "         ...,\n",
       "         [-7.5815e-01, -9.1102e-02, -3.1101e-01],\n",
       "         [-7.6516e-01, -1.7842e-01, -3.4100e-01],\n",
       "         [-7.8852e-01, -1.9300e-01, -3.8816e-01]],\n",
       "\n",
       "        ...,\n",
       "\n",
       "        [[ 2.8196e-01, -3.6645e-01,  1.8217e-01],\n",
       "         [ 3.7569e-01, -5.0642e-01,  2.4221e-01],\n",
       "         [ 3.9006e-01, -5.5988e-01,  2.2917e-01],\n",
       "         ...,\n",
       "         [ 7.2360e-01, -5.9261e-01, -3.2239e-01],\n",
       "         [ 7.0759e-01, -5.9280e-01, -3.9976e-01],\n",
       "         [ 6.7407e-01, -5.9286e-01, -5.0407e-01]],\n",
       "\n",
       "        [[ 7.6325e-01,  3.3868e-01, -1.6078e-01],\n",
       "         [ 1.0725e+00,  5.8232e-01, -2.1826e-01],\n",
       "         [ 1.2068e+00,  7.1966e-01, -2.3288e-01],\n",
       "         ...,\n",
       "         [ 4.7710e-01,  1.9958e-01, -7.4101e-01],\n",
       "         [ 5.3933e-01,  5.7907e-01, -7.0085e-01],\n",
       "         [ 6.1392e-01,  7.7993e-01, -6.1101e-01]],\n",
       "\n",
       "        [[ 2.1399e-01, -3.6645e-01, -1.2579e-01],\n",
       "         [ 2.9924e-01, -5.0642e-01, -2.0369e-01],\n",
       "         [ 3.4478e-01, -5.5988e-01, -2.4317e-01],\n",
       "         ...,\n",
       "         [ 3.1682e-01, -5.9292e-01, -1.2615e-02],\n",
       "         [ 3.6821e-01, -5.9292e-01,  1.0113e-01],\n",
       "         [ 3.1257e-01, -5.9292e-01, -1.5915e-03]]], grad_fn=<SqueezeBackward1>), std=tensor([[[1.1756, 1.1756, 1.1756],\n",
       "         [1.1990, 1.1990, 1.1990],\n",
       "         [1.2024, 1.2024, 1.2024],\n",
       "         ...,\n",
       "         [1.2045, 1.2045, 1.2045],\n",
       "         [1.2133, 1.2133, 1.2133],\n",
       "         [1.2720, 1.2720, 1.2720]],\n",
       "\n",
       "        [[1.1756, 1.1756, 1.1756],\n",
       "         [1.1990, 1.1990, 1.1990],\n",
       "         [1.2024, 1.2024, 1.2024],\n",
       "         ...,\n",
       "         [1.2045, 1.2045, 1.2045],\n",
       "         [1.2133, 1.2133, 1.2133],\n",
       "         [1.2720, 1.2720, 1.2720]],\n",
       "\n",
       "        [[1.1756, 1.1756, 1.1756],\n",
       "         [1.1990, 1.1990, 1.1990],\n",
       "         [1.2024, 1.2024, 1.2024],\n",
       "         ...,\n",
       "         [1.2045, 1.2045, 1.2045],\n",
       "         [1.2133, 1.2133, 1.2133],\n",
       "         [1.2720, 1.2720, 1.2720]],\n",
       "\n",
       "        ...,\n",
       "\n",
       "        [[1.1756, 1.1756, 1.1756],\n",
       "         [1.1990, 1.1990, 1.1990],\n",
       "         [1.2024, 1.2024, 1.2024],\n",
       "         ...,\n",
       "         [1.2045, 1.2045, 1.2045],\n",
       "         [1.2133, 1.2133, 1.2133],\n",
       "         [1.2720, 1.2720, 1.2720]],\n",
       "\n",
       "        [[1.1756, 1.1756, 1.1756],\n",
       "         [1.1990, 1.1990, 1.1990],\n",
       "         [1.2024, 1.2024, 1.2024],\n",
       "         ...,\n",
       "         [1.2045, 1.2045, 1.2045],\n",
       "         [1.2133, 1.2133, 1.2133],\n",
       "         [1.2720, 1.2720, 1.2720]],\n",
       "\n",
       "        [[1.1756, 1.1756, 1.1756],\n",
       "         [1.1990, 1.1990, 1.1990],\n",
       "         [1.2024, 1.2024, 1.2024],\n",
       "         ...,\n",
       "         [1.2045, 1.2045, 1.2045],\n",
       "         [1.2133, 1.2133, 1.2133],\n",
       "         [1.2720, 1.2720, 1.2720]]], grad_fn=<SqrtBackward0>))"
      ]
     },
     "execution_count": null,
     "metadata": {},
     "output_type": "execute_result"
    }
   ],
   "source": [
    "pred"
   ]
  },
  {
   "cell_type": "code",
   "execution_count": null,
   "id": "85d82759-dae4-4d48-a213-150c8fa3d8f2",
   "metadata": {},
   "outputs": [
    {
     "data": {
      "text/plain": [
       "(__main__.NormalsParams, __main__.NormalsParams)"
      ]
     },
     "execution_count": null,
     "metadata": {},
     "output_type": "execute_result"
    }
   ],
   "source": [
    "type(pred), type(pred_filt)"
   ]
  },
  {
   "cell_type": "code",
   "execution_count": null,
   "id": "65bab279-dc65-4259-bd1f-39b5c6028cb8",
   "metadata": {},
   "outputs": [],
   "source": [
    "test_ne(pred, pred_filt)"
   ]
  },
  {
   "cell_type": "markdown",
   "id": "2051bf57-a2e3-4232-861b-fafe814b1825",
   "metadata": {},
   "source": [
    "### Loss Function"
   ]
  },
  {
   "cell_type": "markdown",
   "id": "6e75817f-2abb-4e9f-b54a-edb7ea33dc1b",
   "metadata": {},
   "source": [
    "add support for complete loss (also outside gap) and for filter loss (don't run the smooher)"
   ]
  },
  {
   "cell_type": "markdown",
   "id": "c793e684-8ce9-4393-af4d-0268f3710b7a",
   "metadata": {},
   "source": [
    "There are two ways to compute the loss, one is to do it for all predictions the other is for doing it for only the gap\n",
    "- only_gap"
   ]
  },
  {
   "cell_type": "markdown",
   "id": "2b04cee3-9086-41cb-ac08-6b908626c587",
   "metadata": {},
   "source": [
    "Play around with flatting + diagonal"
   ]
  },
  {
   "cell_type": "code",
   "execution_count": null,
   "id": "559fc5e0-3554-4efa-89a7-08a6dd44f310",
   "metadata": {},
   "outputs": [
    {
     "data": {
      "text/plain": [
       "tensor([[[ 1,  0,  0],\n",
       "         [ 0,  2,  0],\n",
       "         [ 0,  0,  3]],\n",
       "\n",
       "        [[10,  0,  0],\n",
       "         [ 0, 20,  0],\n",
       "         [ 0,  0, 30]]])"
      ]
     },
     "execution_count": null,
     "metadata": {},
     "output_type": "execute_result"
    }
   ],
   "source": [
    "a = torch.diag(torch.tensor([1,2,3]))\n",
    "d = torch.stack([a, a*10])\n",
    "m = torch.stack([a.diag(), a.diag()*10])\n",
    "d"
   ]
  },
  {
   "cell_type": "code",
   "execution_count": null,
   "id": "773c90fa-3672-43a5-b7bf-2de9b068ebe3",
   "metadata": {},
   "outputs": [
    {
     "data": {
      "text/plain": [
       "tensor([ 1,  2,  3, 10, 20, 30])"
      ]
     },
     "execution_count": null,
     "metadata": {},
     "output_type": "execute_result"
    }
   ],
   "source": [
    "m.flatten()"
   ]
  },
  {
   "cell_type": "code",
   "execution_count": null,
   "id": "c5851886-313c-4eac-87a4-4684ff9c438f",
   "metadata": {},
   "outputs": [
    {
     "data": {
      "text/plain": [
       "tensor([[[ 1,  0,  0],\n",
       "         [ 0,  2,  0],\n",
       "         [ 0,  0,  3]],\n",
       "\n",
       "        [[10,  0,  0],\n",
       "         [ 0, 20,  0],\n",
       "         [ 0,  0, 30]]])"
      ]
     },
     "execution_count": null,
     "metadata": {},
     "output_type": "execute_result"
    }
   ],
   "source": [
    "d"
   ]
  },
  {
   "cell_type": "code",
   "execution_count": null,
   "id": "72af60ed-b471-47f3-90be-2be51eb18bb0",
   "metadata": {},
   "outputs": [
    {
     "data": {
      "text/plain": [
       "tensor([ 1,  2,  3, 10, 20, 30])"
      ]
     },
     "execution_count": null,
     "metadata": {},
     "output_type": "execute_result"
    }
   ],
   "source": [
    "torch.diagonal(d, dim1=1, dim2=2).flatten()"
   ]
  },
  {
   "cell_type": "code",
   "execution_count": null,
   "id": "09c58fef-a8d8-48b1-a837-335a67158ed4",
   "metadata": {},
   "outputs": [],
   "source": [
    "means, stds = pred\n",
    "data, mask = target"
   ]
  },
  {
   "cell_type": "code",
   "execution_count": null,
   "id": "5a6bd159-499d-42b3-a8b2-9e54c98a8659",
   "metadata": {},
   "outputs": [
    {
     "data": {
      "text/plain": [
       "tensor(-5930.4453, grad_fn=<SubBackward0>)"
      ]
     },
     "execution_count": null,
     "metadata": {},
     "output_type": "execute_result"
    }
   ],
   "source": [
    "# make a big matrix with all variables and observations and compute ll\n",
    "mask = mask.flatten() \n",
    "obs = data.flatten()[mask]\n",
    "means = data.flatten()[mask]\n",
    "stds = stds.flatten()[mask] # need to support batches\n",
    "\n",
    "MultivariateNormal(means, torch.diag(stds)).log_prob(obs)"
   ]
  },
  {
   "cell_type": "code",
   "execution_count": null,
   "id": "28c38f87-5a72-42bd-847f-fb1e76ec7490",
   "metadata": {},
   "outputs": [],
   "source": [
    "#| export\n",
    "class KalmanLoss():\n",
    "    def __init__(self,\n",
    "                 only_gap:bool=True, # loss for all predictions or only gap\n",
    "                 reduction:str='sum' # one of ['sum', 'mean', 'none']\n",
    "                ):\n",
    "        store_attr()\n",
    "    \n",
    "    def __call__(self, pred: NormalsParams, target: MaskedTensor):\n",
    "        data, mask = target\n",
    "        means, stds = pred        \n",
    "        assert not stds.isnan().any()\n",
    "        losses = torch.empty(data.shape[0], device=data.device, dtype=data.dtype)\n",
    "        for i, (d, m, mean, std) in enumerate(zip(data, mask, means, stds)):\n",
    "            losses[i] = self._loss_batch(d,m,mean, std)\n",
    "        if self.reduction == 'none': return losses\n",
    "        elif self.reduction == 'mean': return losses.mean()\n",
    "        elif self.reduction == 'sum': return losses.sum()\n",
    "    \n",
    "    def _loss_batch(self, data, mask, mean, std):\n",
    "        # make a big vector with all variables and observations and compute ll\n",
    "        mask = mask.flatten() if self.only_gap else torch.fill(mask, True).flatten()\n",
    "        obs = data.flatten()[mask]\n",
    "        mean = mean.flatten()[mask]\n",
    "        std = std.flatten()[mask] \n",
    "        \n",
    "        return - MultivariateNormal(mean, torch.diag(std)).log_prob(obs)\n",
    "        "
   ]
  },
  {
   "cell_type": "code",
   "execution_count": null,
   "id": "c8654b5f-bb61-416d-966c-3f798249eee6",
   "metadata": {},
   "outputs": [],
   "source": [
    "pred = model(input)"
   ]
  },
  {
   "cell_type": "code",
   "execution_count": null,
   "id": "42ef4ee6-3337-415e-9497-2c1acce5be35",
   "metadata": {},
   "outputs": [],
   "source": [
    "data, mask = input"
   ]
  },
  {
   "cell_type": "code",
   "execution_count": null,
   "id": "7c8039ba-8807-47cb-9d7c-0ea119d01527",
   "metadata": {},
   "outputs": [
    {
     "data": {
      "text/plain": [
       "(torch.Size([10, 200, 3]), torch.Size([10, 200, 3]))"
      ]
     },
     "execution_count": null,
     "metadata": {},
     "output_type": "execute_result"
    }
   ],
   "source": [
    "data.shape, mask.shape"
   ]
  },
  {
   "cell_type": "code",
   "execution_count": null,
   "id": "17310899-b8a2-4cc5-bec8-4f7695eb2fd8",
   "metadata": {},
   "outputs": [
    {
     "data": {
      "text/plain": [
       "torch.Size([10, 200, 3])"
      ]
     },
     "execution_count": null,
     "metadata": {},
     "output_type": "execute_result"
    }
   ],
   "source": [
    "pred.mean.shape"
   ]
  },
  {
   "cell_type": "code",
   "execution_count": null,
   "id": "62e1cfdd-e80b-4ddc-9313-fd357c7ba7e2",
   "metadata": {},
   "outputs": [],
   "source": [
    "means, stds = pred"
   ]
  },
  {
   "cell_type": "code",
   "execution_count": null,
   "id": "3dcc340f-387f-4767-9ad5-10c40425e0b0",
   "metadata": {},
   "outputs": [
    {
     "data": {
      "text/plain": [
       "torch.Size([10, 200, 3])"
      ]
     },
     "execution_count": null,
     "metadata": {},
     "output_type": "execute_result"
    }
   ],
   "source": [
    "stds.shape"
   ]
  },
  {
   "cell_type": "code",
   "execution_count": null,
   "id": "43d3532f-a95e-437a-b90e-11ebb4bb2406",
   "metadata": {},
   "outputs": [
    {
     "data": {
      "text/plain": [
       "torch.Size([10, 200, 3])"
      ]
     },
     "execution_count": null,
     "metadata": {},
     "output_type": "execute_result"
    }
   ],
   "source": [
    "means.shape"
   ]
  },
  {
   "cell_type": "code",
   "execution_count": null,
   "id": "b41d785a-ba19-461e-b64d-cc7e12153cb6",
   "metadata": {},
   "outputs": [
    {
     "data": {
      "text/plain": [
       "tensor(False)"
      ]
     },
     "execution_count": null,
     "metadata": {},
     "output_type": "execute_result"
    }
   ],
   "source": [
    "data.isnan().any()"
   ]
  },
  {
   "cell_type": "code",
   "execution_count": null,
   "id": "08aa8d54-0c7a-47c0-8970-ecd4999ffd1e",
   "metadata": {},
   "outputs": [
    {
     "data": {
      "text/plain": [
       "tensor(False)"
      ]
     },
     "execution_count": null,
     "metadata": {},
     "output_type": "execute_result"
    }
   ],
   "source": [
    "mask.isnan().any()"
   ]
  },
  {
   "cell_type": "code",
   "execution_count": null,
   "id": "38b07b67-9543-4800-b566-949c542422bf",
   "metadata": {},
   "outputs": [
    {
     "data": {
      "text/plain": [
       "tensor(False)"
      ]
     },
     "execution_count": null,
     "metadata": {},
     "output_type": "execute_result"
    }
   ],
   "source": [
    "means.isnan().any()"
   ]
  },
  {
   "cell_type": "code",
   "execution_count": null,
   "id": "b473b2be-4392-4cb2-9575-1a7a057cdc1e",
   "metadata": {},
   "outputs": [
    {
     "data": {
      "text/plain": [
       "tensor(0)"
      ]
     },
     "execution_count": null,
     "metadata": {},
     "output_type": "execute_result"
    }
   ],
   "source": [
    "stds.isnan().sum()"
   ]
  },
  {
   "cell_type": "code",
   "execution_count": null,
   "id": "cb6d9dfc-1bb4-4c23-a291-d73cf9aefdfd",
   "metadata": {},
   "outputs": [
    {
     "data": {
      "text/plain": [
       "torch.Size([10, 200, 3])"
      ]
     },
     "execution_count": null,
     "metadata": {},
     "output_type": "execute_result"
    }
   ],
   "source": [
    "stds.shape"
   ]
  },
  {
   "cell_type": "code",
   "execution_count": null,
   "id": "51ea7a4b-b7b5-4182-abed-b5542cdaff48",
   "metadata": {},
   "outputs": [
    {
     "data": {
      "text/plain": [
       "(tensor(True),\n",
       " tensor([1.4142, 1.4142, 1.4142,  ..., 3.5522, 3.5522, 3.5522],\n",
       "        grad_fn=<LinalgEighBackward0>))"
      ]
     },
     "execution_count": null,
     "metadata": {},
     "output_type": "execute_result"
    }
   ],
   "source": [
    "is_posdef_eigv(torch.diag(stds.flatten()))"
   ]
  },
  {
   "cell_type": "code",
   "execution_count": null,
   "id": "72fa95ce-9fc1-4b61-855d-a27eb5ba4994",
   "metadata": {},
   "outputs": [
    {
     "data": {
      "text/plain": [
       "tensor(10409.3438, grad_fn=<SumBackward0>)"
      ]
     },
     "execution_count": null,
     "metadata": {},
     "output_type": "execute_result"
    }
   ],
   "source": [
    "KalmanLoss(only_gap=True)(pred, target)"
   ]
  },
  {
   "cell_type": "code",
   "execution_count": null,
   "id": "83f8aae6-eb06-4772-a611-d62af0395ef3",
   "metadata": {},
   "outputs": [
    {
     "data": {
      "text/plain": [
       "tensor(10763.8877, grad_fn=<SumBackward0>)"
      ]
     },
     "execution_count": null,
     "metadata": {},
     "output_type": "execute_result"
    }
   ],
   "source": [
    "KalmanLoss(only_gap=False)(pred, target)"
   ]
  },
  {
   "cell_type": "code",
   "execution_count": null,
   "id": "c6fa6718-c26b-48a0-bb7d-efedb0f40086",
   "metadata": {},
   "outputs": [
    {
     "data": {
      "text/plain": [
       "(device(type='cpu'), device(type='cpu'))"
      ]
     },
     "execution_count": null,
     "metadata": {},
     "output_type": "execute_result"
    }
   ],
   "source": [
    "pred.mean.device, target[0].device"
   ]
  },
  {
   "cell_type": "code",
   "execution_count": null,
   "id": "0004c085-0e0c-4914-b3fc-ed66a319d1a8",
   "metadata": {},
   "outputs": [
    {
     "data": {
      "text/plain": [
       "(torch.Size([10, 200, 3]), torch.Size([10, 200, 3]))"
      ]
     },
     "execution_count": null,
     "metadata": {},
     "output_type": "execute_result"
    }
   ],
   "source": [
    "pred.mean.shape, target[0].shape"
   ]
  },
  {
   "cell_type": "code",
   "execution_count": null,
   "id": "7a5c8b20-50f2-4a5a-b291-69e91f466480",
   "metadata": {},
   "outputs": [
    {
     "data": {
      "text/plain": [
       "torch.Size([10, 200, 3])"
      ]
     },
     "execution_count": null,
     "metadata": {},
     "output_type": "execute_result"
    }
   ],
   "source": [
    "target[0].shape"
   ]
  },
  {
   "cell_type": "code",
   "execution_count": null,
   "id": "b4ae234a-f1de-401b-9197-ffe5952d6ff0",
   "metadata": {},
   "outputs": [
    {
     "data": {
      "text/plain": [
       "tensor(1076.3888, grad_fn=<MeanBackward0>)"
      ]
     },
     "execution_count": null,
     "metadata": {},
     "output_type": "execute_result"
    }
   ],
   "source": [
    "KalmanLoss(only_gap=False, reduction='mean')(pred, target)"
   ]
  },
  {
   "cell_type": "markdown",
   "id": "dbc02d69-7930-47b8-9543-d07998f3baa6",
   "metadata": {},
   "source": [
    "### Metrics"
   ]
  },
  {
   "cell_type": "markdown",
   "id": "6b485cfe-5fce-449b-810c-1884990f103b",
   "metadata": {},
   "source": [
    "Wrapper around fastai metrics to support masked tensors and normal distributions"
   ]
  },
  {
   "cell_type": "code",
   "execution_count": null,
   "id": "dad52498-03b4-4aac-a8d6-bf7dc6f1cab1",
   "metadata": {},
   "outputs": [],
   "source": [
    "#| export\n",
    "def to_msk_metric(metric, name):\n",
    "    def msk_metric(imp, targ):\n",
    "        return metric(imp[0], targ[0]) # first element are the means\n",
    "    msk_metric.__name__ = name\n",
    "    return msk_metric"
   ]
  },
  {
   "cell_type": "code",
   "execution_count": null,
   "id": "6e28f7a2-436a-4e7a-9e76-0ae778015e95",
   "metadata": {},
   "outputs": [],
   "source": [
    "#| export\n",
    "from fastai.metrics import *"
   ]
  },
  {
   "cell_type": "code",
   "execution_count": null,
   "id": "2cf5ca04-9708-44ba-b030-b6a00618717b",
   "metadata": {},
   "outputs": [],
   "source": [
    "#| export\n",
    "msk_rmse = to_msk_metric(rmse, 'rmse')"
   ]
  },
  {
   "cell_type": "code",
   "execution_count": null,
   "id": "5f5aab4a-cde7-4bcb-b883-9c44c6b6e8ff",
   "metadata": {},
   "outputs": [
    {
     "data": {
      "text/plain": [
       "'rmse'"
      ]
     },
     "execution_count": null,
     "metadata": {},
     "output_type": "execute_result"
    }
   ],
   "source": [
    "msk_rmse.__name__"
   ]
  },
  {
   "cell_type": "code",
   "execution_count": null,
   "id": "974d85e7-c02c-4ebe-9d50-7fea96ab5815",
   "metadata": {},
   "outputs": [
    {
     "data": {
      "text/plain": [
       "TensorBase(1.4308)"
      ]
     },
     "execution_count": null,
     "metadata": {},
     "output_type": "execute_result"
    }
   ],
   "source": [
    "msk_rmse(pred, target)"
   ]
  },
  {
   "cell_type": "code",
   "execution_count": null,
   "id": "5a00fcc0-9561-4000-8ea5-71423671d4e4",
   "metadata": {},
   "outputs": [],
   "source": [
    "#| export\n",
    "msk_r2 = to_msk_metric(R2Score(), 'r2')"
   ]
  },
  {
   "cell_type": "code",
   "execution_count": null,
   "id": "a8003a5d-4c63-4174-acb9-75c00d063bac",
   "metadata": {},
   "outputs": [
    {
     "data": {
      "text/plain": [
       "-1.222838662188531"
      ]
     },
     "execution_count": null,
     "metadata": {},
     "output_type": "execute_result"
    }
   ],
   "source": [
    "msk_r2(pred, target)"
   ]
  },
  {
   "cell_type": "markdown",
   "id": "73470c88-47dc-4187-a208-789f24c23a3e",
   "metadata": {},
   "source": [
    "### Callback"
   ]
  },
  {
   "cell_type": "markdown",
   "id": "96c199ec-b21c-401d-bd3c-16670de8e372",
   "metadata": {},
   "source": [
    "save the model state "
   ]
  },
  {
   "cell_type": "code",
   "execution_count": null,
   "id": "c9f34e5c-1cf5-4c04-b7e0-89e2e33b9aa1",
   "metadata": {},
   "outputs": [],
   "source": [
    "#| export\n",
    "from fastai.callback.all import *"
   ]
  },
  {
   "cell_type": "code",
   "execution_count": null,
   "id": "c6bbe197-91eb-4fb2-ae15-f2d463914902",
   "metadata": {},
   "outputs": [],
   "source": [
    "#| export\n",
    "class SaveParams(Callback):\n",
    "    def __init__(self, param_name):\n",
    "        super().__init__()\n",
    "        self.params = []\n",
    "        self.param_name = param_name\n",
    "    def after_batch(self):\n",
    "        param = getattr(self.model, self.param_name).detach()\n",
    "        self.params.append(param)"
   ]
  },
  {
   "cell_type": "code",
   "execution_count": null,
   "id": "206b2efc-a26e-4ed7-b9a8-df1ce7a605b4",
   "metadata": {},
   "outputs": [],
   "source": [
    "#| export\n",
    "class SaveParams(Callback):\n",
    "    def __init__(self, param_name):\n",
    "        super().__init__()\n",
    "        self.params = []\n",
    "        self.param_name = param_name\n",
    "    def after_batch(self):\n",
    "        param = getattr(self.model, self.param_name).detach()\n",
    "        self.params.append(param)"
   ]
  },
  {
   "cell_type": "code",
   "execution_count": null,
   "id": "c2d2eb9e-eea2-40eb-918a-e8575cb20323",
   "metadata": {},
   "outputs": [],
   "source": [
    "debug_preds = []"
   ]
  },
  {
   "cell_type": "code",
   "execution_count": null,
   "id": "26d2f05f-fd23-4393-b5e8-f9800cc36f78",
   "metadata": {},
   "outputs": [],
   "source": [
    "class DebugPredCallback(Callback):\n",
    "    order = 0\n",
    "    def after_validate(self):\n",
    "        if hasattr(self, 'gather_preds'):\n",
    "            debug_preds.append(self.gather_preds.preds)"
   ]
  },
  {
   "cell_type": "markdown",
   "id": "99617495-ab91-4a00-8371-91011ba551ba",
   "metadata": {},
   "source": [
    "### Learner"
   ]
  },
  {
   "cell_type": "code",
   "execution_count": null,
   "id": "87ad92d0-4b9a-4f10-817d-c213366fe83a",
   "metadata": {},
   "outputs": [],
   "source": [
    "#| export\n",
    "from fastai.learner import * \n",
    "\n",
    "from fastai.tabular.all import *\n",
    "\n",
    "from fastai.tabular.learner import *\n",
    "\n",
    "from fastai.callback.progress import ShowGraphCallback"
   ]
  },
  {
   "cell_type": "code",
   "execution_count": null,
   "id": "8bb68031-bc19-4c2f-b82b-201939013bbc",
   "metadata": {},
   "outputs": [],
   "source": [
    "obs_cov_history = SaveParams('obs_cov')"
   ]
  },
  {
   "cell_type": "code",
   "execution_count": null,
   "id": "fdb75dd6-f0af-4c50-bc80-2436b28b4db3",
   "metadata": {},
   "outputs": [],
   "source": [
    "all_data = CollectDataCallback()"
   ]
  },
  {
   "cell_type": "code",
   "execution_count": null,
   "id": "25efc678-791b-4599-87d3-820ace3f7263",
   "metadata": {},
   "outputs": [],
   "source": [
    "model = KalmanFilter.init_random(n_dim_obs = hai.shape[1], n_dim_state = hai.shape[1]).cuda()"
   ]
  },
  {
   "cell_type": "code",
   "execution_count": null,
   "id": "be28a411-098a-4788-9e98-6b455a43f296",
   "metadata": {},
   "outputs": [],
   "source": [
    "model.use_smooth = False"
   ]
  },
  {
   "cell_type": "code",
   "execution_count": null,
   "id": "cb235adb-78de-430e-8eb4-c279347e4045",
   "metadata": {},
   "outputs": [],
   "source": [
    "# model._set_constraint('obs_cov', model.obs_cov, train=False)"
   ]
  },
  {
   "cell_type": "code",
   "execution_count": null,
   "id": "2cfc46b8-3ffd-4080-92ad-ad52e3d4a9e9",
   "metadata": {},
   "outputs": [],
   "source": [
    "pipeline, block_ids = imp_pipeline(hai[:20000], block_len, gap_len)\n",
    "    \n",
    "splits = RandomSplitter()(block_ids)\n",
    "ds = Datasets(block_ids, [pipeline, pipeline], splits=splits)"
   ]
  },
  {
   "cell_type": "code",
   "execution_count": null,
   "id": "84eb6fff-dbce-4d24-a796-558e03f9e306",
   "metadata": {},
   "outputs": [],
   "source": [
    "dls = ds.dataloaders(bs=10, device='cuda')"
   ]
  },
  {
   "cell_type": "code",
   "execution_count": null,
   "id": "db0f5e59-de01-4c9c-acc0-becfe69866a2",
   "metadata": {},
   "outputs": [
    {
     "data": {
      "text/plain": [
       "device(type='cuda', index=0)"
      ]
     },
     "execution_count": null,
     "metadata": {},
     "output_type": "execute_result"
    }
   ],
   "source": [
    "dls.one_batch()[0][0].device"
   ]
  },
  {
   "cell_type": "code",
   "execution_count": null,
   "id": "5b218c03-1a48-43a2-8822-7f6ee03cf7be",
   "metadata": {},
   "outputs": [],
   "source": [
    "input, target = dls.one_batch()"
   ]
  },
  {
   "cell_type": "code",
   "execution_count": null,
   "id": "e780d5ce-a904-4fc6-a60b-6ab6e28dc05e",
   "metadata": {},
   "outputs": [
    {
     "data": {
      "text/plain": [
       "tensor(2345.7764, device='cuda:0', grad_fn=<SumBackward0>)"
      ]
     },
     "execution_count": null,
     "metadata": {},
     "output_type": "execute_result"
    }
   ],
   "source": [
    "pred = model(input)\n",
    "KalmanLoss()(pred, target)"
   ]
  },
  {
   "cell_type": "code",
   "execution_count": null,
   "id": "c508264f-ca12-4f8f-93cc-9245fa84e7d9",
   "metadata": {},
   "outputs": [],
   "source": [
    "learn = Learner(dls, model, loss_func=KalmanLoss(only_gap=False), cbs = [DebugPredCallback] , metrics = [msk_rmse, msk_r2])"
   ]
  },
  {
   "cell_type": "code",
   "execution_count": null,
   "id": "eef1826f-78e6-4654-a92f-dca07b2ddb7e",
   "metadata": {},
   "outputs": [
    {
     "data": {
      "text/html": [
       "\n",
       "<style>\n",
       "    /* Turns off some styling */\n",
       "    progress {\n",
       "        /* gets rid of default border in Firefox and Opera. */\n",
       "        border: none;\n",
       "        /* Needs to be in here for Safari polyfill so background images work as expected. */\n",
       "        background-size: auto;\n",
       "    }\n",
       "    progress:not([value]), progress:not([value])::-webkit-progress-bar {\n",
       "        background: repeating-linear-gradient(45deg, #7e7e7e, #7e7e7e 10px, #5c5c5c 10px, #5c5c5c 20px);\n",
       "    }\n",
       "    .progress-bar-interrupted, .progress-bar-interrupted::-webkit-progress-bar {\n",
       "        background: #F44336;\n",
       "    }\n",
       "</style>\n"
      ],
      "text/plain": [
       "<IPython.core.display.HTML object>"
      ]
     },
     "metadata": {},
     "output_type": "display_data"
    },
    {
     "data": {
      "text/html": [
       "<table border=\"1\" class=\"dataframe\">\n",
       "  <thead>\n",
       "    <tr style=\"text-align: left;\">\n",
       "      <th>epoch</th>\n",
       "      <th>train_loss</th>\n",
       "      <th>valid_loss</th>\n",
       "      <th>rmse</th>\n",
       "      <th>r2</th>\n",
       "      <th>time</th>\n",
       "    </tr>\n",
       "  </thead>\n",
       "  <tbody>\n",
       "    <tr>\n",
       "      <td>0</td>\n",
       "      <td>771.520874</td>\n",
       "      <td>618.335266</td>\n",
       "      <td>1.989478</td>\n",
       "      <td>-4.994122</td>\n",
       "      <td>00:08</td>\n",
       "    </tr>\n",
       "  </tbody>\n",
       "</table>"
      ],
      "text/plain": [
       "<IPython.core.display.HTML object>"
      ]
     },
     "metadata": {},
     "output_type": "display_data"
    }
   ],
   "source": [
    "learn.fit(1, 1e-3)"
   ]
  },
  {
   "cell_type": "markdown",
   "id": "84002608-9491-4335-86fb-d40d3946f2ae",
   "metadata": {},
   "source": [
    "#### Float64"
   ]
  },
  {
   "cell_type": "code",
   "execution_count": null,
   "id": "69191be7-ac68-4616-8e4b-460fb786769f",
   "metadata": {},
   "outputs": [],
   "source": [
    "model64 = KalmanFilter.init_random(hai.shape[1], hai.shape[1], dtype=torch.float64).cuda()"
   ]
  },
  {
   "cell_type": "code",
   "execution_count": null,
   "id": "5bfcc6cf-a46d-4e69-a570-47adb86251d9",
   "metadata": {},
   "outputs": [],
   "source": [
    "#| export\n",
    "class Float64Callback(Callback):\n",
    "    order = Recorder.order + 10 # run after Recorder \n",
    "    def before_fit(self):\n",
    "        self.recorder.smooth_loss.val = torch.tensor(0, dtype=torch.float64) # default is a float 32"
   ]
  },
  {
   "cell_type": "code",
   "execution_count": null,
   "id": "69e1f814-b1f8-48e1-a098-e37234d4b451",
   "metadata": {},
   "outputs": [],
   "source": [
    "dls64 = make_dataloader(hai64, 10, 2, bs=10)"
   ]
  },
  {
   "cell_type": "code",
   "execution_count": null,
   "id": "a0142fdc-5c85-45d1-a13f-b2f0839b0636",
   "metadata": {},
   "outputs": [],
   "source": [
    "input64 = dls64.one_batch()[0]\n",
    "target64 = dls64.one_batch()[1]"
   ]
  },
  {
   "cell_type": "code",
   "execution_count": null,
   "id": "06e93c8b-f74d-4382-8fb2-54d83aec5fcb",
   "metadata": {},
   "outputs": [],
   "source": [
    "data64, mask64 = input64"
   ]
  },
  {
   "cell_type": "code",
   "execution_count": null,
   "id": "1cc98d35-4a67-496d-acc7-a9bd5d884a52",
   "metadata": {},
   "outputs": [
    {
     "data": {
      "text/plain": [
       "(device(type='cuda', index=0), torch.float64)"
      ]
     },
     "execution_count": null,
     "metadata": {},
     "output_type": "execute_result"
    }
   ],
   "source": [
    "data64.device, data64.dtype"
   ]
  },
  {
   "cell_type": "code",
   "execution_count": null,
   "id": "59d35c5d-ce51-476d-85ce-8502ae6d17e6",
   "metadata": {},
   "outputs": [],
   "source": [
    "model64.predict(data64);"
   ]
  },
  {
   "cell_type": "code",
   "execution_count": null,
   "id": "30e0a335-4e18-42a1-a847-baacdab94ee5",
   "metadata": {},
   "outputs": [],
   "source": [
    "pred = model64(input)"
   ]
  },
  {
   "cell_type": "code",
   "execution_count": null,
   "id": "4931c465-98fa-4a47-bd1d-4abc91cd739f",
   "metadata": {},
   "outputs": [
    {
     "data": {
      "text/plain": [
       "tensor(424.9265, device='cuda:0', grad_fn=<SumBackward0>)"
      ]
     },
     "execution_count": null,
     "metadata": {},
     "output_type": "execute_result"
    }
   ],
   "source": [
    "KalmanLoss()(pred, target)"
   ]
  },
  {
   "cell_type": "code",
   "execution_count": null,
   "id": "ed760e90-eda7-40cb-99c6-9754b39076a7",
   "metadata": {},
   "outputs": [],
   "source": [
    "model64.use_smooth = False"
   ]
  },
  {
   "cell_type": "code",
   "execution_count": null,
   "id": "59fc2923-1419-4036-b05e-c73c34465bb6",
   "metadata": {},
   "outputs": [],
   "source": [
    "learn64 = Learner(dls64, model64, loss_func=KalmanLoss(), cbs = [Float64Callback] )"
   ]
  },
  {
   "cell_type": "code",
   "execution_count": null,
   "id": "8f8f50e9-133a-4dfe-966d-2c5650fa416a",
   "metadata": {},
   "outputs": [
    {
     "data": {
      "text/html": [
       "\n",
       "<style>\n",
       "    /* Turns off some styling */\n",
       "    progress {\n",
       "        /* gets rid of default border in Firefox and Opera. */\n",
       "        border: none;\n",
       "        /* Needs to be in here for Safari polyfill so background images work as expected. */\n",
       "        background-size: auto;\n",
       "    }\n",
       "    progress:not([value]), progress:not([value])::-webkit-progress-bar {\n",
       "        background: repeating-linear-gradient(45deg, #7e7e7e, #7e7e7e 10px, #5c5c5c 10px, #5c5c5c 20px);\n",
       "    }\n",
       "    .progress-bar-interrupted, .progress-bar-interrupted::-webkit-progress-bar {\n",
       "        background: #F44336;\n",
       "    }\n",
       "</style>\n"
      ],
      "text/plain": [
       "<IPython.core.display.HTML object>"
      ]
     },
     "metadata": {},
     "output_type": "display_data"
    },
    {
     "data": {
      "text/html": [
       "<table border=\"1\" class=\"dataframe\">\n",
       "  <thead>\n",
       "    <tr style=\"text-align: left;\">\n",
       "      <th>epoch</th>\n",
       "      <th>train_loss</th>\n",
       "      <th>valid_loss</th>\n",
       "      <th>time</th>\n",
       "    </tr>\n",
       "  </thead>\n",
       "  <tbody>\n",
       "    <tr>\n",
       "      <td>0</td>\n",
       "      <td>88.283538</td>\n",
       "      <td>91.264939</td>\n",
       "      <td>01:29</td>\n",
       "    </tr>\n",
       "  </tbody>\n",
       "</table>"
      ],
      "text/plain": [
       "<IPython.core.display.HTML object>"
      ]
     },
     "metadata": {},
     "output_type": "display_data"
    }
   ],
   "source": [
    "learn64.fit(1, 1e-3)"
   ]
  },
  {
   "cell_type": "markdown",
   "id": "748bb675-4e1a-4f1d-bf5b-b31bcf8d76e3",
   "metadata": {},
   "source": [
    "### Predictions"
   ]
  },
  {
   "cell_type": "markdown",
   "id": "6fd471c0-9266-4a63-bf13-e28742c3419c",
   "metadata": {},
   "source": [
    "The transformation pipeline is not working properly (there is a problem in `decode_batch` as the `_types` are more nested than the predictions, which results in an error) + the pipeline is anyway not reproducible + the test dataloaders seems that they are actually not deterministic .....\n",
    "soo reimplement everything almost from scratch\n",
    "\n",
    "see https://github.com/mone27/meteo_imp/blob/0335003405ec9bd3e3bd2641bc6d7924f34a0788/lib_nbs/kalman/10_fastai.ipynb for all details"
   ]
  },
  {
   "cell_type": "code",
   "execution_count": null,
   "id": "06b53296-e81d-463a-ab60-2150f99fc724",
   "metadata": {},
   "outputs": [],
   "source": [
    "#| export\n",
    "class NormalsDf:\n",
    "    \"\"\"DataFrames of Normal parameters (mean and std)\"\"\"\n",
    "    def __init__(self, mean, std): store_attr()\n",
    "    def tidy(self, prefix=\"\"):\n",
    "        \"\"\"Tidy version\"\"\"\n",
    "        mean = self.mean.reset_index().melt(\"time\", value_name=prefix + \"mean\")\n",
    "        std = self.std.reset_index().melt(\"time\", value_name=prefix + \"std\")\n",
    "        return pd.merge(mean, std, on=[\"time\", \"variable\"])\n",
    "    __repr__ = basic_repr(\"mean, std\")"
   ]
  },
  {
   "cell_type": "code",
   "execution_count": null,
   "id": "036aa755-553a-439a-9c11-350f4573969d",
   "metadata": {},
   "outputs": [],
   "source": [
    "pipe0, pipe1 = tfms4.fs[0,1], tfms4.fs[2,3] "
   ]
  },
  {
   "cell_type": "code",
   "execution_count": null,
   "id": "5cf9d9b7-ac34-4696-b25f-278d531c0cfa",
   "metadata": {},
   "outputs": [
    {
     "data": {
      "text/plain": [
       "((#2) [BlockDfTransform:\n",
       "encodes: (int,object) -> encodes\n",
       "decodes: ,AddGapTransform -- {'variables': ['TA', 'SW_IN'], 'gap_length': 2}:\n",
       "encodes: (DataFrame,object) -> encodes\n",
       "decodes: ],\n",
       " (#2) [MaskedDf2Tensor:\n",
       "encodes: (MaskedDf,object) -> encodes\n",
       "decodes: (MaskedTensor,object) -> decodes\n",
       ",NormalizeMasked -- {'mean': tensor([  8.3339, 120.9578,   3.3807]), 'std': tensor([  7.9246, 204.0026,   4.3684])}:\n",
       "encodes: (MaskedTensor,object) -> encodes\n",
       "decodes: (MaskedTensor,object) -> decodes\n",
       "(NormalsParams,object) -> decodes\n",
       "])"
      ]
     },
     "execution_count": null,
     "metadata": {},
     "output_type": "execute_result"
    }
   ],
   "source": [
    "pipe0, pipe1"
   ]
  },
  {
   "cell_type": "code",
   "execution_count": null,
   "id": "43fc7416-d6a1-4376-8d2b-1948b525fee1",
   "metadata": {},
   "outputs": [],
   "source": [
    "#| export\n",
    "def preds2df(preds, targs):\n",
    "    \"\"\"Final step to decode preds by getting a dataframe\"\"\"\n",
    "    # preds this is a tuple (data, mask)\n",
    "    out = []\n",
    "    for pred, targ in zip(preds, targs):\n",
    "        # convert to dataframe using structure for\n",
    "        mean = pd.DataFrame(pred[0].squeeze(0).detach().cpu().numpy(), columns = targ.data.columns, index=targ.data.index)\n",
    "        std = pd.DataFrame(pred[1].squeeze(0).detach().cpu().numpy(), columns = targ.data.columns, index=targ.data.index)\n",
    "        out.append(NormalsDf(mean, std))\n",
    "    return out"
   ]
  },
  {
   "cell_type": "code",
   "execution_count": null,
   "id": "b45a64ab-60b0-4f48-8df8-6ee40055ba14",
   "metadata": {},
   "outputs": [],
   "source": [
    "#| export\n",
    "def predict_items(items, learn, pipe0, pipe1):\n",
    "    pipe0, pipe1 = Pipeline(pipe0), Pipeline(pipe1)\n",
    "    preds, targs, losses = [], [], []\n",
    "    for item in items:\n",
    "        targ = pipe0(item)\n",
    "        data, mask = pipe1(targ)\n",
    "        input = MaskedTensor(data.cuda().unsqueeze(0), mask.cuda().unsqueeze(0))\n",
    "        pred = learn.model(input)\n",
    "        loss = learn.loss_func(pred, input)\n",
    "        # denormalize\n",
    "        pred = pipe1.decode(pred)\n",
    "        preds.append(pred), targs.append(targ), losses.append(loss)\n",
    "        \n",
    "    return preds2df(preds, targs), targs, losses\n",
    "        "
   ]
  },
  {
   "cell_type": "code",
   "execution_count": null,
   "id": "b69146c1-1df0-407f-8746-5997f297b687",
   "metadata": {},
   "outputs": [],
   "source": [
    "preds, targs, losses = predict_items([0,1,3], learn, pipe0, pipe1)"
   ]
  },
  {
   "cell_type": "markdown",
   "id": "cccfc6c6-b667-4448-83b1-ac5826e5b76c",
   "metadata": {},
   "source": [
    "this is the same data!!"
   ]
  },
  {
   "cell_type": "code",
   "execution_count": null,
   "id": "0b1c488f-cec4-41c0-985b-08ef798eb689",
   "metadata": {},
   "outputs": [
    {
     "data": {
      "text/html": [
       "<div>\n",
       "<style scoped>\n",
       "    .dataframe tbody tr th:only-of-type {\n",
       "        vertical-align: middle;\n",
       "    }\n",
       "\n",
       "    .dataframe tbody tr th {\n",
       "        vertical-align: top;\n",
       "    }\n",
       "\n",
       "    .dataframe thead th {\n",
       "        text-align: right;\n",
       "    }\n",
       "</style>\n",
       "<table border=\"1\" class=\"dataframe\">\n",
       "  <thead>\n",
       "    <tr style=\"text-align: right;\">\n",
       "      <th></th>\n",
       "      <th>TA</th>\n",
       "      <th>SW_IN</th>\n",
       "      <th>VPD</th>\n",
       "    </tr>\n",
       "    <tr>\n",
       "      <th>time</th>\n",
       "      <th></th>\n",
       "      <th></th>\n",
       "      <th></th>\n",
       "    </tr>\n",
       "  </thead>\n",
       "  <tbody>\n",
       "    <tr>\n",
       "      <th>2000-01-01 00:30:00</th>\n",
       "      <td>True</td>\n",
       "      <td>True</td>\n",
       "      <td>True</td>\n",
       "    </tr>\n",
       "    <tr>\n",
       "      <th>2000-01-01 01:00:00</th>\n",
       "      <td>True</td>\n",
       "      <td>True</td>\n",
       "      <td>True</td>\n",
       "    </tr>\n",
       "    <tr>\n",
       "      <th>2000-01-01 01:30:00</th>\n",
       "      <td>True</td>\n",
       "      <td>True</td>\n",
       "      <td>True</td>\n",
       "    </tr>\n",
       "    <tr>\n",
       "      <th>2000-01-01 02:00:00</th>\n",
       "      <td>True</td>\n",
       "      <td>True</td>\n",
       "      <td>True</td>\n",
       "    </tr>\n",
       "    <tr>\n",
       "      <th>2000-01-01 02:30:00</th>\n",
       "      <td>True</td>\n",
       "      <td>True</td>\n",
       "      <td>True</td>\n",
       "    </tr>\n",
       "    <tr>\n",
       "      <th>2000-01-01 03:00:00</th>\n",
       "      <td>True</td>\n",
       "      <td>True</td>\n",
       "      <td>True</td>\n",
       "    </tr>\n",
       "    <tr>\n",
       "      <th>2000-01-01 03:30:00</th>\n",
       "      <td>True</td>\n",
       "      <td>True</td>\n",
       "      <td>True</td>\n",
       "    </tr>\n",
       "    <tr>\n",
       "      <th>2000-01-01 04:00:00</th>\n",
       "      <td>True</td>\n",
       "      <td>True</td>\n",
       "      <td>True</td>\n",
       "    </tr>\n",
       "    <tr>\n",
       "      <th>2000-01-01 04:30:00</th>\n",
       "      <td>True</td>\n",
       "      <td>True</td>\n",
       "      <td>True</td>\n",
       "    </tr>\n",
       "    <tr>\n",
       "      <th>2000-01-01 05:00:00</th>\n",
       "      <td>True</td>\n",
       "      <td>True</td>\n",
       "      <td>True</td>\n",
       "    </tr>\n",
       "  </tbody>\n",
       "</table>\n",
       "</div>"
      ],
      "text/plain": [
       "                       TA  SW_IN   VPD\n",
       "time                                  \n",
       "2000-01-01 00:30:00  True   True  True\n",
       "2000-01-01 01:00:00  True   True  True\n",
       "2000-01-01 01:30:00  True   True  True\n",
       "2000-01-01 02:00:00  True   True  True\n",
       "2000-01-01 02:30:00  True   True  True\n",
       "2000-01-01 03:00:00  True   True  True\n",
       "2000-01-01 03:30:00  True   True  True\n",
       "2000-01-01 04:00:00  True   True  True\n",
       "2000-01-01 04:30:00  True   True  True\n",
       "2000-01-01 05:00:00  True   True  True"
      ]
     },
     "execution_count": null,
     "metadata": {},
     "output_type": "execute_result"
    }
   ],
   "source": [
    "predict_items([0], learn, pipe0, pipe1)[1][0].data == predict_items([0], learn, pipe0, pipe1)[1][0].data"
   ]
  },
  {
   "cell_type": "markdown",
   "id": "9a1606c2-ee54-46be-8f57-dd5173134605",
   "metadata": {},
   "source": [
    "#### Plot results"
   ]
  },
  {
   "cell_type": "code",
   "execution_count": null,
   "id": "7799bf37-003f-419a-a410-6e7b1c25719c",
   "metadata": {},
   "outputs": [],
   "source": [
    "#| export\n",
    "def plot_result(pred, targ, loss, **kwargs):\n",
    "    df = pd.merge(targ.tidy(), pred.tidy(), on=[\"time\", \"variable\"])\n",
    "    # return df\n",
    "    return facet_variable(df, ys=[\"value\", \"mean\"], error=True, **kwargs).properties(title=f\"loss: {loss.item():.6f}\")"
   ]
  },
  {
   "cell_type": "code",
   "execution_count": null,
   "id": "7881fd41-e876-42a1-ba94-bfc1efd18700",
   "metadata": {},
   "outputs": [],
   "source": [
    "y = \"mean\""
   ]
  },
  {
   "cell_type": "code",
   "execution_count": null,
   "id": "f4bd8f4e-a59e-4b1a-8e30-1cb2f0fab6f6",
   "metadata": {},
   "outputs": [
    {
     "data": {
      "text/html": [
       "\n",
       "<div id=\"altair-viz-c74cdf120a474ca3a41399d4fb5e15a1\"></div>\n",
       "<script type=\"text/javascript\">\n",
       "  var VEGA_DEBUG = (typeof VEGA_DEBUG == \"undefined\") ? {} : VEGA_DEBUG;\n",
       "  (function(spec, embedOpt){\n",
       "    let outputDiv = document.currentScript.previousElementSibling;\n",
       "    if (outputDiv.id !== \"altair-viz-c74cdf120a474ca3a41399d4fb5e15a1\") {\n",
       "      outputDiv = document.getElementById(\"altair-viz-c74cdf120a474ca3a41399d4fb5e15a1\");\n",
       "    }\n",
       "    const paths = {\n",
       "      \"vega\": \"https://cdn.jsdelivr.net/npm//vega@5?noext\",\n",
       "      \"vega-lib\": \"https://cdn.jsdelivr.net/npm//vega-lib?noext\",\n",
       "      \"vega-lite\": \"https://cdn.jsdelivr.net/npm//vega-lite@5.2.0?noext\",\n",
       "      \"vega-embed\": \"https://cdn.jsdelivr.net/npm//vega-embed@6?noext\",\n",
       "    };\n",
       "\n",
       "    function maybeLoadScript(lib, version) {\n",
       "      var key = `${lib.replace(\"-\", \"\")}_version`;\n",
       "      return (VEGA_DEBUG[key] == version) ?\n",
       "        Promise.resolve(paths[lib]) :\n",
       "        new Promise(function(resolve, reject) {\n",
       "          var s = document.createElement('script');\n",
       "          document.getElementsByTagName(\"head\")[0].appendChild(s);\n",
       "          s.async = true;\n",
       "          s.onload = () => {\n",
       "            VEGA_DEBUG[key] = version;\n",
       "            return resolve(paths[lib]);\n",
       "          };\n",
       "          s.onerror = () => reject(`Error loading script: ${paths[lib]}`);\n",
       "          s.src = paths[lib];\n",
       "        });\n",
       "    }\n",
       "\n",
       "    function showError(err) {\n",
       "      outputDiv.innerHTML = `<div class=\"error\" style=\"color:red;\">${err}</div>`;\n",
       "      throw err;\n",
       "    }\n",
       "\n",
       "    function displayChart(vegaEmbed) {\n",
       "      vegaEmbed(outputDiv, spec, embedOpt)\n",
       "        .catch(err => showError(`Javascript Error: ${err.message}<br>This usually means there's a typo in your chart specification. See the javascript console for the full traceback.`));\n",
       "    }\n",
       "\n",
       "    if(typeof define === \"function\" && define.amd) {\n",
       "      requirejs.config({paths});\n",
       "      require([\"vega-embed\"], displayChart, err => showError(`Error loading script: ${err.message}`));\n",
       "    } else {\n",
       "      maybeLoadScript(\"vega\", \"5\")\n",
       "        .then(() => maybeLoadScript(\"vega-lite\", \"5.2.0\"))\n",
       "        .then(() => maybeLoadScript(\"vega-embed\", \"6\"))\n",
       "        .catch(showError)\n",
       "        .then(() => displayChart(vegaEmbed));\n",
       "    }\n",
       "  })({\"config\": {\"view\": {\"continuousWidth\": 400, \"continuousHeight\": 300}}, \"vconcat\": [{\"hconcat\": [{\"layer\": [{\"data\": {\"name\": \"data-dd34b678b3b118f8c61225b568af5be4\"}, \"mark\": {\"type\": \"point\", \"color\": \"black\", \"fillOpacity\": 1, \"strokeWidth\": 1}, \"encoding\": {\"fill\": {\"field\": \"is_present\", \"legend\": {\"title\": [\"Observed data\"]}, \"scale\": {\"range\": [\"black\", \"#ffffff00\"]}, \"type\": \"nominal\"}, \"shape\": {\"field\": \"is_present\", \"type\": \"nominal\"}, \"x\": {\"axis\": {\"domain\": true, \"labels\": true, \"ticks\": true, \"title\": \"time\"}, \"field\": \"time\", \"type\": \"temporal\"}, \"y\": {\"field\": \"value\", \"scale\": {\"zero\": false}, \"title\": \"TA\", \"type\": \"quantitative\"}}}, {\"layer\": [{\"mark\": \"rule\", \"encoding\": {\"x\": {\"axis\": {\"domain\": false, \"labels\": false, \"ticks\": false, \"title\": null}, \"field\": \"gap_start\", \"type\": \"temporal\"}}}, {\"mark\": \"rule\", \"encoding\": {\"x\": {\"axis\": {\"domain\": false, \"labels\": false, \"ticks\": false, \"title\": null}, \"field\": \"gap_end\", \"type\": \"temporal\"}}}, {\"mark\": {\"type\": \"rect\", \"color\": \"black\", \"opacity\": 0.2}, \"encoding\": {\"x\": {\"axis\": {\"domain\": false, \"labels\": false, \"ticks\": false, \"title\": null}, \"field\": \"gap_start\", \"type\": \"temporal\"}, \"x2\": {\"field\": \"gap_end\"}}}], \"data\": {\"name\": \"data-3ce76f63baa8e4cc6a12391698201040\"}}, {\"layer\": [{\"mark\": \"errorband\", \"encoding\": {\"color\": {\"field\": \"variable\", \"legend\": {\"title\": [\"Line: pred. mean\", \"area: +/- 2 std\"]}, \"type\": \"nominal\"}, \"x\": {\"field\": \"time\", \"type\": \"temporal\"}, \"y\": {\"field\": \"err_low\", \"scale\": {\"zero\": false}, \"title\": \"TA\", \"type\": \"quantitative\"}, \"y2\": {\"field\": \"err_high\"}}, \"name\": \"view_9\"}, {\"mark\": \"line\", \"encoding\": {\"color\": {\"field\": \"variable\", \"type\": \"nominal\"}, \"x\": {\"field\": \"time\", \"type\": \"temporal\"}, \"y\": {\"field\": \"mean\", \"scale\": {\"zero\": false}, \"title\": \"TA\", \"type\": \"quantitative\"}}}], \"data\": {\"name\": \"data-dd34b678b3b118f8c61225b568af5be4\"}}], \"height\": 150, \"title\": \"TA\", \"width\": 200}, {\"layer\": [{\"data\": {\"name\": \"data-67defb88083d7ddf7f2d94b5be87068a\"}, \"mark\": {\"type\": \"point\", \"color\": \"black\", \"fillOpacity\": 1, \"strokeWidth\": 1}, \"encoding\": {\"fill\": {\"field\": \"is_present\", \"legend\": {\"title\": [\"Observed data\"]}, \"scale\": {\"range\": [\"black\", \"#ffffff00\"]}, \"type\": \"nominal\"}, \"shape\": {\"field\": \"is_present\", \"type\": \"nominal\"}, \"x\": {\"axis\": {\"domain\": true, \"labels\": true, \"ticks\": true, \"title\": \"time\"}, \"field\": \"time\", \"type\": \"temporal\"}, \"y\": {\"field\": \"value\", \"scale\": {\"zero\": false}, \"title\": \"SW_IN\", \"type\": \"quantitative\"}}}, {\"layer\": [{\"mark\": \"rule\", \"encoding\": {\"x\": {\"axis\": {\"domain\": false, \"labels\": false, \"ticks\": false, \"title\": null}, \"field\": \"gap_start\", \"type\": \"temporal\"}}}, {\"mark\": \"rule\", \"encoding\": {\"x\": {\"axis\": {\"domain\": false, \"labels\": false, \"ticks\": false, \"title\": null}, \"field\": \"gap_end\", \"type\": \"temporal\"}}}, {\"mark\": {\"type\": \"rect\", \"color\": \"black\", \"opacity\": 0.2}, \"encoding\": {\"x\": {\"axis\": {\"domain\": false, \"labels\": false, \"ticks\": false, \"title\": null}, \"field\": \"gap_start\", \"type\": \"temporal\"}, \"x2\": {\"field\": \"gap_end\"}}}], \"data\": {\"name\": \"data-3ce76f63baa8e4cc6a12391698201040\"}}, {\"layer\": [{\"mark\": \"errorband\", \"encoding\": {\"color\": {\"field\": \"variable\", \"legend\": {\"title\": [\"Line: pred. mean\", \"area: +/- 2 std\"]}, \"type\": \"nominal\"}, \"x\": {\"field\": \"time\", \"type\": \"temporal\"}, \"y\": {\"field\": \"err_low\", \"scale\": {\"zero\": false}, \"title\": \"SW_IN\", \"type\": \"quantitative\"}, \"y2\": {\"field\": \"err_high\"}}, \"name\": \"view_10\"}, {\"mark\": \"line\", \"encoding\": {\"color\": {\"field\": \"variable\", \"type\": \"nominal\"}, \"x\": {\"field\": \"time\", \"type\": \"temporal\"}, \"y\": {\"field\": \"mean\", \"scale\": {\"zero\": false}, \"title\": \"SW_IN\", \"type\": \"quantitative\"}}}], \"data\": {\"name\": \"data-67defb88083d7ddf7f2d94b5be87068a\"}}], \"height\": 150, \"title\": \"SW_IN\", \"width\": 200}, {\"layer\": [{\"mark\": {\"type\": \"point\", \"color\": \"black\", \"fillOpacity\": 1, \"strokeWidth\": 1}, \"encoding\": {\"fill\": {\"field\": \"is_present\", \"legend\": {\"title\": [\"Observed data\"]}, \"scale\": {\"range\": [\"black\", \"#ffffff00\"]}, \"type\": \"nominal\"}, \"shape\": {\"field\": \"is_present\", \"type\": \"nominal\"}, \"x\": {\"axis\": {\"domain\": true, \"labels\": true, \"ticks\": true, \"title\": \"time\"}, \"field\": \"time\", \"type\": \"temporal\"}, \"y\": {\"field\": \"value\", \"scale\": {\"zero\": false}, \"title\": \"VPD\", \"type\": \"quantitative\"}}}, {\"layer\": [{\"mark\": \"errorband\", \"encoding\": {\"color\": {\"field\": \"variable\", \"legend\": {\"title\": [\"Line: pred. mean\", \"area: +/- 2 std\"]}, \"type\": \"nominal\"}, \"x\": {\"field\": \"time\", \"type\": \"temporal\"}, \"y\": {\"field\": \"err_low\", \"scale\": {\"zero\": false}, \"title\": \"VPD\", \"type\": \"quantitative\"}, \"y2\": {\"field\": \"err_high\"}}, \"name\": \"view_11\"}, {\"mark\": \"line\", \"encoding\": {\"color\": {\"field\": \"variable\", \"type\": \"nominal\"}, \"x\": {\"field\": \"time\", \"type\": \"temporal\"}, \"y\": {\"field\": \"mean\", \"scale\": {\"zero\": false}, \"title\": \"VPD\", \"type\": \"quantitative\"}}}]}], \"data\": {\"name\": \"data-42795cbf3f57bf0bb19a83b2dcb6191e\"}, \"height\": 150, \"title\": \"VPD\", \"width\": 200}]}], \"params\": [{\"name\": \"param_15\", \"select\": {\"type\": \"interval\", \"encodings\": [\"x\"]}, \"bind\": \"scales\", \"views\": [\"view_9\", \"view_10\", \"view_11\"]}], \"title\": \"loss: 1.000000\", \"$schema\": \"https://vega.github.io/schema/vega-lite/v5.2.0.json\", \"datasets\": {\"data-dd34b678b3b118f8c61225b568af5be4\": [{\"time\": \"2000-01-01T00:30:00\", \"variable\": \"TA\", \"value\": -0.6000000238418579, \"is_present\": true, \"mean\": 16.24081802368164, \"std\": 9.878959655761719, \"err_low\": -3.517101287841797, \"err_high\": 35.99873733520508}, {\"time\": \"2000-01-01T01:00:00\", \"variable\": \"TA\", \"value\": -0.6499999761581421, \"is_present\": true, \"mean\": 13.230020523071289, \"std\": 10.46875286102295, \"err_low\": -7.707485198974609, \"err_high\": 34.16752624511719}, {\"time\": \"2000-01-01T01:30:00\", \"variable\": \"TA\", \"value\": -0.5799999833106995, \"is_present\": true, \"mean\": 14.240379333496094, \"std\": 10.385880470275879, \"err_low\": -6.531381607055664, \"err_high\": 35.01213836669922}, {\"time\": \"2000-01-01T02:00:00\", \"variable\": \"TA\", \"value\": -0.5099999904632568, \"is_present\": true, \"mean\": 14.780405044555664, \"std\": 10.350440979003906, \"err_low\": -5.920476913452148, \"err_high\": 35.481285095214844}, {\"time\": \"2000-01-01T02:30:00\", \"variable\": \"TA\", \"value\": -0.49000000953674316, \"is_present\": true, \"mean\": 15.225776672363281, \"std\": 10.337325096130371, \"err_low\": -5.448873519897461, \"err_high\": 35.900428771972656}, {\"time\": \"2000-01-01T03:00:00\", \"variable\": \"TA\", \"value\": -0.4000000059604645, \"is_present\": true, \"mean\": 15.507502555847168, \"std\": 10.331633567810059, \"err_low\": -5.155764579772949, \"err_high\": 36.17076873779297}, {\"time\": \"2000-01-01T03:30:00\", \"variable\": \"TA\", \"value\": -0.36000001430511475, \"is_present\": false, \"mean\": 15.67999267578125, \"std\": 10.32935619354248, \"err_low\": -4.978719711303711, \"err_high\": 36.338706970214844}, {\"time\": \"2000-01-01T04:00:00\", \"variable\": \"TA\", \"value\": -0.3499999940395355, \"is_present\": false, \"mean\": 18.125816345214844, \"std\": 12.365944862365723, \"err_low\": -6.606073379516602, \"err_high\": 42.857704162597656}, {\"time\": \"2000-01-01T04:30:00\", \"variable\": \"TA\", \"value\": -0.2800000011920929, \"is_present\": true, \"mean\": 22.654766082763672, \"std\": 16.69077491760254, \"err_low\": -10.726783752441406, \"err_high\": 56.03631591796875}, {\"time\": \"2000-01-01T05:00:00\", \"variable\": \"TA\", \"value\": -0.27000001072883606, \"is_present\": true, \"mean\": 14.81768798828125, \"std\": 10.92581844329834, \"err_low\": -7.03394889831543, \"err_high\": 36.66932678222656}], \"data-3ce76f63baa8e4cc6a12391698201040\": [{\"gap_start\": \"2000-01-01T03:30:00\", \"gap_end\": \"2000-01-01T04:00:00\"}], \"data-67defb88083d7ddf7f2d94b5be87068a\": [{\"time\": \"2000-01-01T00:30:00\", \"variable\": \"SW_IN\", \"value\": 0.0, \"is_present\": true, \"mean\": 500.2903747558594, \"std\": 410.277587890625, \"err_low\": -320.2648010253906, \"err_high\": 1320.8455810546875}, {\"time\": \"2000-01-01T01:00:00\", \"variable\": \"SW_IN\", \"value\": 0.0, \"is_present\": true, \"mean\": 326.10260009765625, \"std\": 520.4334716796875, \"err_low\": -714.7643432617188, \"err_high\": 1366.969482421875}, {\"time\": \"2000-01-01T01:30:00\", \"variable\": \"SW_IN\", \"value\": 0.0, \"is_present\": true, \"mean\": 327.63531494140625, \"std\": 508.1804504394531, \"err_low\": -688.7255859375, \"err_high\": 1343.9962158203125}, {\"time\": \"2000-01-01T02:00:00\", \"variable\": \"SW_IN\", \"value\": 0.0, \"is_present\": true, \"mean\": 379.2554931640625, \"std\": 507.8409423828125, \"err_low\": -636.4263916015625, \"err_high\": 1394.9373779296875}, {\"time\": \"2000-01-01T02:30:00\", \"variable\": \"SW_IN\", \"value\": 0.0, \"is_present\": true, \"mean\": 397.298828125, \"std\": 506.4073791503906, \"err_low\": -615.5159301757812, \"err_high\": 1410.113525390625}, {\"time\": \"2000-01-01T03:00:00\", \"variable\": \"SW_IN\", \"value\": 0.0, \"is_present\": true, \"mean\": 416.46533203125, \"std\": 506.1667175292969, \"err_low\": -595.8681030273438, \"err_high\": 1428.798828125}, {\"time\": \"2000-01-01T03:30:00\", \"variable\": \"SW_IN\", \"value\": 0.0, \"is_present\": false, \"mean\": 425.30426025390625, \"std\": 505.9678039550781, \"err_low\": -586.63134765625, \"err_high\": 1437.2398681640625}, {\"time\": \"2000-01-01T04:00:00\", \"variable\": \"SW_IN\", \"value\": 0.0, \"is_present\": false, \"mean\": 642.7853393554688, \"std\": 744.2378540039062, \"err_low\": -845.6903686523438, \"err_high\": 2131.260986328125}, {\"time\": \"2000-01-01T04:30:00\", \"variable\": \"SW_IN\", \"value\": 0.0, \"is_present\": true, \"mean\": 931.3495483398438, \"std\": 1063.081298828125, \"err_low\": -1194.81298828125, \"err_high\": 3057.51220703125}, {\"time\": \"2000-01-01T05:00:00\", \"variable\": \"SW_IN\", \"value\": 0.0, \"is_present\": true, \"mean\": 364.21771240234375, \"std\": 542.11181640625, \"err_low\": -720.0059204101562, \"err_high\": 1448.44140625}], \"data-42795cbf3f57bf0bb19a83b2dcb6191e\": [{\"time\": \"2000-01-01T00:30:00\", \"variable\": \"VPD\", \"value\": 0.22200000286102295, \"is_present\": true, \"mean\": 12.381424903869629, \"std\": 9.835904121398926, \"err_low\": -7.290383338928223, \"err_high\": 32.0532341003418}, {\"time\": \"2000-01-01T01:00:00\", \"variable\": \"VPD\", \"value\": 0.12200000137090683, \"is_present\": true, \"mean\": 7.0539069175720215, \"std\": 12.913439750671387, \"err_low\": -18.772972106933594, \"err_high\": 32.88078689575195}, {\"time\": \"2000-01-01T01:30:00\", \"variable\": \"VPD\", \"value\": 0.09000000357627869, \"is_present\": true, \"mean\": 7.653613090515137, \"std\": 12.63874626159668, \"err_low\": -17.623878479003906, \"err_high\": 32.93110656738281}, {\"time\": \"2000-01-01T02:00:00\", \"variable\": \"VPD\", \"value\": 0.10999999940395355, \"is_present\": true, \"mean\": 8.806116104125977, \"std\": 12.60654067993164, \"err_low\": -16.406965255737305, \"err_high\": 34.019195556640625}, {\"time\": \"2000-01-01T02:30:00\", \"variable\": \"VPD\", \"value\": 0.10199999809265137, \"is_present\": true, \"mean\": 9.355056762695312, \"std\": 12.572209358215332, \"err_low\": -15.789361953735352, \"err_high\": 34.499473571777344}, {\"time\": \"2000-01-01T03:00:00\", \"variable\": \"VPD\", \"value\": 0.11100000143051147, \"is_present\": true, \"mean\": 9.829706192016602, \"std\": 12.56392765045166, \"err_low\": -15.298149108886719, \"err_high\": 34.95756149291992}, {\"time\": \"2000-01-01T03:30:00\", \"variable\": \"VPD\", \"value\": 0.10899999737739563, \"is_present\": true, \"mean\": 10.071173667907715, \"std\": 12.55884838104248, \"err_low\": -15.046523094177246, \"err_high\": 35.18886947631836}, {\"time\": \"2000-01-01T04:00:00\", \"variable\": \"VPD\", \"value\": 0.10700000077486038, \"is_present\": true, \"mean\": 15.058051109313965, \"std\": 18.153413772583008, \"err_low\": -21.248775482177734, \"err_high\": 51.3648796081543}, {\"time\": \"2000-01-01T04:30:00\", \"variable\": \"VPD\", \"value\": 0.12200000137090683, \"is_present\": true, \"mean\": 22.51692008972168, \"std\": 26.409236907958984, \"err_low\": -30.30155372619629, \"err_high\": 75.33539581298828}, {\"time\": \"2000-01-01T05:00:00\", \"variable\": \"VPD\", \"value\": 0.1379999965429306, \"is_present\": true, \"mean\": 8.574299812316895, \"std\": 13.596874237060547, \"err_low\": -18.619449615478516, \"err_high\": 35.76804733276367}]}}, {\"mode\": \"vega-lite\"});\n",
       "</script>"
      ],
      "text/plain": [
       "alt.VConcatChart(...)"
      ]
     },
     "execution_count": null,
     "metadata": {},
     "output_type": "execute_result"
    }
   ],
   "source": [
    "plot_result(preds[0], targs[0], torch.tensor(1))"
   ]
  },
  {
   "cell_type": "code",
   "execution_count": null,
   "id": "15082351-51f0-4139-9426-4ae2c64a94cb",
   "metadata": {},
   "outputs": [],
   "source": [
    "#| export\n",
    "def plot_results(preds, targs, losses, **kwargs):\n",
    "    plots = [plot_result(targ, pred, loss, n_cols=1, **kwargs) for targ, pred, loss in zip(preds, targs, losses)]\n",
    "    return alt.hconcat(*plots)"
   ]
  },
  {
   "cell_type": "code",
   "execution_count": null,
   "id": "6eb4485c-8e03-437e-8ed5-bc61a5c170af",
   "metadata": {},
   "outputs": [
    {
     "data": {
      "text/html": [
       "\n",
       "<div id=\"altair-viz-f4b551571d22437cada55eca396a0b82\"></div>\n",
       "<script type=\"text/javascript\">\n",
       "  var VEGA_DEBUG = (typeof VEGA_DEBUG == \"undefined\") ? {} : VEGA_DEBUG;\n",
       "  (function(spec, embedOpt){\n",
       "    let outputDiv = document.currentScript.previousElementSibling;\n",
       "    if (outputDiv.id !== \"altair-viz-f4b551571d22437cada55eca396a0b82\") {\n",
       "      outputDiv = document.getElementById(\"altair-viz-f4b551571d22437cada55eca396a0b82\");\n",
       "    }\n",
       "    const paths = {\n",
       "      \"vega\": \"https://cdn.jsdelivr.net/npm//vega@5?noext\",\n",
       "      \"vega-lib\": \"https://cdn.jsdelivr.net/npm//vega-lib?noext\",\n",
       "      \"vega-lite\": \"https://cdn.jsdelivr.net/npm//vega-lite@5.2.0?noext\",\n",
       "      \"vega-embed\": \"https://cdn.jsdelivr.net/npm//vega-embed@6?noext\",\n",
       "    };\n",
       "\n",
       "    function maybeLoadScript(lib, version) {\n",
       "      var key = `${lib.replace(\"-\", \"\")}_version`;\n",
       "      return (VEGA_DEBUG[key] == version) ?\n",
       "        Promise.resolve(paths[lib]) :\n",
       "        new Promise(function(resolve, reject) {\n",
       "          var s = document.createElement('script');\n",
       "          document.getElementsByTagName(\"head\")[0].appendChild(s);\n",
       "          s.async = true;\n",
       "          s.onload = () => {\n",
       "            VEGA_DEBUG[key] = version;\n",
       "            return resolve(paths[lib]);\n",
       "          };\n",
       "          s.onerror = () => reject(`Error loading script: ${paths[lib]}`);\n",
       "          s.src = paths[lib];\n",
       "        });\n",
       "    }\n",
       "\n",
       "    function showError(err) {\n",
       "      outputDiv.innerHTML = `<div class=\"error\" style=\"color:red;\">${err}</div>`;\n",
       "      throw err;\n",
       "    }\n",
       "\n",
       "    function displayChart(vegaEmbed) {\n",
       "      vegaEmbed(outputDiv, spec, embedOpt)\n",
       "        .catch(err => showError(`Javascript Error: ${err.message}<br>This usually means there's a typo in your chart specification. See the javascript console for the full traceback.`));\n",
       "    }\n",
       "\n",
       "    if(typeof define === \"function\" && define.amd) {\n",
       "      requirejs.config({paths});\n",
       "      require([\"vega-embed\"], displayChart, err => showError(`Error loading script: ${err.message}`));\n",
       "    } else {\n",
       "      maybeLoadScript(\"vega\", \"5\")\n",
       "        .then(() => maybeLoadScript(\"vega-lite\", \"5.2.0\"))\n",
       "        .then(() => maybeLoadScript(\"vega-embed\", \"6\"))\n",
       "        .catch(showError)\n",
       "        .then(() => displayChart(vegaEmbed));\n",
       "    }\n",
       "  })({\"config\": {\"view\": {\"continuousWidth\": 400, \"continuousHeight\": 300}}, \"hconcat\": [{\"vconcat\": [{\"hconcat\": [{\"layer\": [{\"data\": {\"name\": \"data-dd34b678b3b118f8c61225b568af5be4\"}, \"mark\": {\"type\": \"point\", \"color\": \"black\", \"fillOpacity\": 1, \"strokeWidth\": 1}, \"encoding\": {\"fill\": {\"field\": \"is_present\", \"legend\": {\"title\": [\"Observed data\"]}, \"scale\": {\"range\": [\"black\", \"#ffffff00\"]}, \"type\": \"nominal\"}, \"shape\": {\"field\": \"is_present\", \"type\": \"nominal\"}, \"x\": {\"axis\": {\"domain\": true, \"labels\": true, \"ticks\": true, \"title\": \"time\"}, \"field\": \"time\", \"type\": \"temporal\"}, \"y\": {\"field\": \"value\", \"scale\": {\"zero\": false}, \"title\": \"TA\", \"type\": \"quantitative\"}}}, {\"layer\": [{\"mark\": \"rule\", \"encoding\": {\"x\": {\"axis\": {\"domain\": false, \"labels\": false, \"ticks\": false, \"title\": null}, \"field\": \"gap_start\", \"type\": \"temporal\"}}}, {\"mark\": \"rule\", \"encoding\": {\"x\": {\"axis\": {\"domain\": false, \"labels\": false, \"ticks\": false, \"title\": null}, \"field\": \"gap_end\", \"type\": \"temporal\"}}}, {\"mark\": {\"type\": \"rect\", \"color\": \"black\", \"opacity\": 0.2}, \"encoding\": {\"x\": {\"axis\": {\"domain\": false, \"labels\": false, \"ticks\": false, \"title\": null}, \"field\": \"gap_start\", \"type\": \"temporal\"}, \"x2\": {\"field\": \"gap_end\"}}}], \"data\": {\"name\": \"data-3ce76f63baa8e4cc6a12391698201040\"}}, {\"layer\": [{\"mark\": \"errorband\", \"encoding\": {\"color\": {\"field\": \"variable\", \"legend\": {\"title\": [\"Line: pred. mean\", \"area: +/- 2 std\"]}, \"type\": \"nominal\"}, \"x\": {\"field\": \"time\", \"type\": \"temporal\"}, \"y\": {\"field\": \"err_low\", \"scale\": {\"zero\": false}, \"title\": \"TA\", \"type\": \"quantitative\"}, \"y2\": {\"field\": \"err_high\"}}, \"name\": \"view_12\"}, {\"mark\": \"line\", \"encoding\": {\"color\": {\"field\": \"variable\", \"type\": \"nominal\"}, \"x\": {\"field\": \"time\", \"type\": \"temporal\"}, \"y\": {\"field\": \"mean\", \"scale\": {\"zero\": false}, \"title\": \"TA\", \"type\": \"quantitative\"}}}], \"data\": {\"name\": \"data-dd34b678b3b118f8c61225b568af5be4\"}}], \"height\": 150, \"title\": \"TA\", \"width\": 200}]}, {\"hconcat\": [{\"layer\": [{\"data\": {\"name\": \"data-67defb88083d7ddf7f2d94b5be87068a\"}, \"mark\": {\"type\": \"point\", \"color\": \"black\", \"fillOpacity\": 1, \"strokeWidth\": 1}, \"encoding\": {\"fill\": {\"field\": \"is_present\", \"legend\": {\"title\": [\"Observed data\"]}, \"scale\": {\"range\": [\"black\", \"#ffffff00\"]}, \"type\": \"nominal\"}, \"shape\": {\"field\": \"is_present\", \"type\": \"nominal\"}, \"x\": {\"axis\": {\"domain\": true, \"labels\": true, \"ticks\": true, \"title\": \"time\"}, \"field\": \"time\", \"type\": \"temporal\"}, \"y\": {\"field\": \"value\", \"scale\": {\"zero\": false}, \"title\": \"SW_IN\", \"type\": \"quantitative\"}}}, {\"layer\": [{\"mark\": \"rule\", \"encoding\": {\"x\": {\"axis\": {\"domain\": false, \"labels\": false, \"ticks\": false, \"title\": null}, \"field\": \"gap_start\", \"type\": \"temporal\"}}}, {\"mark\": \"rule\", \"encoding\": {\"x\": {\"axis\": {\"domain\": false, \"labels\": false, \"ticks\": false, \"title\": null}, \"field\": \"gap_end\", \"type\": \"temporal\"}}}, {\"mark\": {\"type\": \"rect\", \"color\": \"black\", \"opacity\": 0.2}, \"encoding\": {\"x\": {\"axis\": {\"domain\": false, \"labels\": false, \"ticks\": false, \"title\": null}, \"field\": \"gap_start\", \"type\": \"temporal\"}, \"x2\": {\"field\": \"gap_end\"}}}], \"data\": {\"name\": \"data-3ce76f63baa8e4cc6a12391698201040\"}}, {\"layer\": [{\"mark\": \"errorband\", \"encoding\": {\"color\": {\"field\": \"variable\", \"legend\": {\"title\": [\"Line: pred. mean\", \"area: +/- 2 std\"]}, \"type\": \"nominal\"}, \"x\": {\"field\": \"time\", \"type\": \"temporal\"}, \"y\": {\"field\": \"err_low\", \"scale\": {\"zero\": false}, \"title\": \"SW_IN\", \"type\": \"quantitative\"}, \"y2\": {\"field\": \"err_high\"}}, \"name\": \"view_13\"}, {\"mark\": \"line\", \"encoding\": {\"color\": {\"field\": \"variable\", \"type\": \"nominal\"}, \"x\": {\"field\": \"time\", \"type\": \"temporal\"}, \"y\": {\"field\": \"mean\", \"scale\": {\"zero\": false}, \"title\": \"SW_IN\", \"type\": \"quantitative\"}}}], \"data\": {\"name\": \"data-67defb88083d7ddf7f2d94b5be87068a\"}}], \"height\": 150, \"title\": \"SW_IN\", \"width\": 200}]}, {\"hconcat\": [{\"layer\": [{\"mark\": {\"type\": \"point\", \"color\": \"black\", \"fillOpacity\": 1, \"strokeWidth\": 1}, \"encoding\": {\"fill\": {\"field\": \"is_present\", \"legend\": {\"title\": [\"Observed data\"]}, \"scale\": {\"range\": [\"black\", \"#ffffff00\"]}, \"type\": \"nominal\"}, \"shape\": {\"field\": \"is_present\", \"type\": \"nominal\"}, \"x\": {\"axis\": {\"domain\": true, \"labels\": true, \"ticks\": true, \"title\": \"time\"}, \"field\": \"time\", \"type\": \"temporal\"}, \"y\": {\"field\": \"value\", \"scale\": {\"zero\": false}, \"title\": \"VPD\", \"type\": \"quantitative\"}}}, {\"layer\": [{\"mark\": \"errorband\", \"encoding\": {\"color\": {\"field\": \"variable\", \"legend\": {\"title\": [\"Line: pred. mean\", \"area: +/- 2 std\"]}, \"type\": \"nominal\"}, \"x\": {\"field\": \"time\", \"type\": \"temporal\"}, \"y\": {\"field\": \"err_low\", \"scale\": {\"zero\": false}, \"title\": \"VPD\", \"type\": \"quantitative\"}, \"y2\": {\"field\": \"err_high\"}}, \"name\": \"view_14\"}, {\"mark\": \"line\", \"encoding\": {\"color\": {\"field\": \"variable\", \"type\": \"nominal\"}, \"x\": {\"field\": \"time\", \"type\": \"temporal\"}, \"y\": {\"field\": \"mean\", \"scale\": {\"zero\": false}, \"title\": \"VPD\", \"type\": \"quantitative\"}}}]}], \"height\": 150, \"title\": \"VPD\", \"width\": 200}], \"data\": {\"name\": \"data-42795cbf3f57bf0bb19a83b2dcb6191e\"}}], \"title\": \"loss: 75.194366\"}, {\"vconcat\": [{\"hconcat\": [{\"layer\": [{\"data\": {\"name\": \"data-e742fd6e81f4fa98580915c8295e7773\"}, \"mark\": {\"type\": \"point\", \"color\": \"black\", \"fillOpacity\": 1, \"strokeWidth\": 1}, \"encoding\": {\"fill\": {\"field\": \"is_present\", \"legend\": {\"title\": [\"Observed data\"]}, \"scale\": {\"range\": [\"black\", \"#ffffff00\"]}, \"type\": \"nominal\"}, \"shape\": {\"field\": \"is_present\", \"type\": \"nominal\"}, \"x\": {\"axis\": {\"domain\": true, \"labels\": true, \"ticks\": true, \"title\": \"time\"}, \"field\": \"time\", \"type\": \"temporal\"}, \"y\": {\"field\": \"value\", \"scale\": {\"zero\": false}, \"title\": \"TA\", \"type\": \"quantitative\"}}}, {\"layer\": [{\"mark\": \"rule\", \"encoding\": {\"x\": {\"axis\": {\"domain\": false, \"labels\": false, \"ticks\": false, \"title\": null}, \"field\": \"gap_start\", \"type\": \"temporal\"}}}, {\"mark\": \"rule\", \"encoding\": {\"x\": {\"axis\": {\"domain\": false, \"labels\": false, \"ticks\": false, \"title\": null}, \"field\": \"gap_end\", \"type\": \"temporal\"}}}, {\"mark\": {\"type\": \"rect\", \"color\": \"black\", \"opacity\": 0.2}, \"encoding\": {\"x\": {\"axis\": {\"domain\": false, \"labels\": false, \"ticks\": false, \"title\": null}, \"field\": \"gap_start\", \"type\": \"temporal\"}, \"x2\": {\"field\": \"gap_end\"}}}], \"data\": {\"name\": \"data-22b514a72148b05dd7be146caaa527e7\"}}, {\"layer\": [{\"mark\": \"errorband\", \"encoding\": {\"color\": {\"field\": \"variable\", \"legend\": {\"title\": [\"Line: pred. mean\", \"area: +/- 2 std\"]}, \"type\": \"nominal\"}, \"x\": {\"field\": \"time\", \"type\": \"temporal\"}, \"y\": {\"field\": \"err_low\", \"scale\": {\"zero\": false}, \"title\": \"TA\", \"type\": \"quantitative\"}, \"y2\": {\"field\": \"err_high\"}}, \"name\": \"view_15\"}, {\"mark\": \"line\", \"encoding\": {\"color\": {\"field\": \"variable\", \"type\": \"nominal\"}, \"x\": {\"field\": \"time\", \"type\": \"temporal\"}, \"y\": {\"field\": \"mean\", \"scale\": {\"zero\": false}, \"title\": \"TA\", \"type\": \"quantitative\"}}}], \"data\": {\"name\": \"data-e742fd6e81f4fa98580915c8295e7773\"}}], \"height\": 150, \"title\": \"TA\", \"width\": 200}]}, {\"hconcat\": [{\"layer\": [{\"data\": {\"name\": \"data-80ac665ce7a9de2101c84ce9d483e780\"}, \"mark\": {\"type\": \"point\", \"color\": \"black\", \"fillOpacity\": 1, \"strokeWidth\": 1}, \"encoding\": {\"fill\": {\"field\": \"is_present\", \"legend\": {\"title\": [\"Observed data\"]}, \"scale\": {\"range\": [\"black\", \"#ffffff00\"]}, \"type\": \"nominal\"}, \"shape\": {\"field\": \"is_present\", \"type\": \"nominal\"}, \"x\": {\"axis\": {\"domain\": true, \"labels\": true, \"ticks\": true, \"title\": \"time\"}, \"field\": \"time\", \"type\": \"temporal\"}, \"y\": {\"field\": \"value\", \"scale\": {\"zero\": false}, \"title\": \"SW_IN\", \"type\": \"quantitative\"}}}, {\"layer\": [{\"mark\": \"rule\", \"encoding\": {\"x\": {\"axis\": {\"domain\": false, \"labels\": false, \"ticks\": false, \"title\": null}, \"field\": \"gap_start\", \"type\": \"temporal\"}}}, {\"mark\": \"rule\", \"encoding\": {\"x\": {\"axis\": {\"domain\": false, \"labels\": false, \"ticks\": false, \"title\": null}, \"field\": \"gap_end\", \"type\": \"temporal\"}}}, {\"mark\": {\"type\": \"rect\", \"color\": \"black\", \"opacity\": 0.2}, \"encoding\": {\"x\": {\"axis\": {\"domain\": false, \"labels\": false, \"ticks\": false, \"title\": null}, \"field\": \"gap_start\", \"type\": \"temporal\"}, \"x2\": {\"field\": \"gap_end\"}}}], \"data\": {\"name\": \"data-22b514a72148b05dd7be146caaa527e7\"}}, {\"layer\": [{\"mark\": \"errorband\", \"encoding\": {\"color\": {\"field\": \"variable\", \"legend\": {\"title\": [\"Line: pred. mean\", \"area: +/- 2 std\"]}, \"type\": \"nominal\"}, \"x\": {\"field\": \"time\", \"type\": \"temporal\"}, \"y\": {\"field\": \"err_low\", \"scale\": {\"zero\": false}, \"title\": \"SW_IN\", \"type\": \"quantitative\"}, \"y2\": {\"field\": \"err_high\"}}, \"name\": \"view_16\"}, {\"mark\": \"line\", \"encoding\": {\"color\": {\"field\": \"variable\", \"type\": \"nominal\"}, \"x\": {\"field\": \"time\", \"type\": \"temporal\"}, \"y\": {\"field\": \"mean\", \"scale\": {\"zero\": false}, \"title\": \"SW_IN\", \"type\": \"quantitative\"}}}], \"data\": {\"name\": \"data-80ac665ce7a9de2101c84ce9d483e780\"}}], \"height\": 150, \"title\": \"SW_IN\", \"width\": 200}]}, {\"hconcat\": [{\"layer\": [{\"mark\": {\"type\": \"point\", \"color\": \"black\", \"fillOpacity\": 1, \"strokeWidth\": 1}, \"encoding\": {\"fill\": {\"field\": \"is_present\", \"legend\": {\"title\": [\"Observed data\"]}, \"scale\": {\"range\": [\"black\", \"#ffffff00\"]}, \"type\": \"nominal\"}, \"shape\": {\"field\": \"is_present\", \"type\": \"nominal\"}, \"x\": {\"axis\": {\"domain\": true, \"labels\": true, \"ticks\": true, \"title\": \"time\"}, \"field\": \"time\", \"type\": \"temporal\"}, \"y\": {\"field\": \"value\", \"scale\": {\"zero\": false}, \"title\": \"VPD\", \"type\": \"quantitative\"}}}, {\"layer\": [{\"mark\": \"errorband\", \"encoding\": {\"color\": {\"field\": \"variable\", \"legend\": {\"title\": [\"Line: pred. mean\", \"area: +/- 2 std\"]}, \"type\": \"nominal\"}, \"x\": {\"field\": \"time\", \"type\": \"temporal\"}, \"y\": {\"field\": \"err_low\", \"scale\": {\"zero\": false}, \"title\": \"VPD\", \"type\": \"quantitative\"}, \"y2\": {\"field\": \"err_high\"}}, \"name\": \"view_17\"}, {\"mark\": \"line\", \"encoding\": {\"color\": {\"field\": \"variable\", \"type\": \"nominal\"}, \"x\": {\"field\": \"time\", \"type\": \"temporal\"}, \"y\": {\"field\": \"mean\", \"scale\": {\"zero\": false}, \"title\": \"VPD\", \"type\": \"quantitative\"}}}]}], \"height\": 150, \"title\": \"VPD\", \"width\": 200}], \"data\": {\"name\": \"data-de98d949caeb810ac7d2f5dd53cd707e\"}}], \"title\": \"loss: 69.069412\"}, {\"vconcat\": [{\"hconcat\": [{\"layer\": [{\"data\": {\"name\": \"data-2aeac4a6ee813b6984a0825dc253554d\"}, \"mark\": {\"type\": \"point\", \"color\": \"black\", \"fillOpacity\": 1, \"strokeWidth\": 1}, \"encoding\": {\"fill\": {\"field\": \"is_present\", \"legend\": {\"title\": [\"Observed data\"]}, \"scale\": {\"range\": [\"black\", \"#ffffff00\"]}, \"type\": \"nominal\"}, \"shape\": {\"field\": \"is_present\", \"type\": \"nominal\"}, \"x\": {\"axis\": {\"domain\": true, \"labels\": true, \"ticks\": true, \"title\": \"time\"}, \"field\": \"time\", \"type\": \"temporal\"}, \"y\": {\"field\": \"value\", \"scale\": {\"zero\": false}, \"title\": \"TA\", \"type\": \"quantitative\"}}}, {\"layer\": [{\"mark\": \"rule\", \"encoding\": {\"x\": {\"axis\": {\"domain\": false, \"labels\": false, \"ticks\": false, \"title\": null}, \"field\": \"gap_start\", \"type\": \"temporal\"}}}, {\"mark\": \"rule\", \"encoding\": {\"x\": {\"axis\": {\"domain\": false, \"labels\": false, \"ticks\": false, \"title\": null}, \"field\": \"gap_end\", \"type\": \"temporal\"}}}, {\"mark\": {\"type\": \"rect\", \"color\": \"black\", \"opacity\": 0.2}, \"encoding\": {\"x\": {\"axis\": {\"domain\": false, \"labels\": false, \"ticks\": false, \"title\": null}, \"field\": \"gap_start\", \"type\": \"temporal\"}, \"x2\": {\"field\": \"gap_end\"}}}], \"data\": {\"name\": \"data-9858c4a8e9267c822345738dde3ff2f4\"}}, {\"layer\": [{\"mark\": \"errorband\", \"encoding\": {\"color\": {\"field\": \"variable\", \"legend\": {\"title\": [\"Line: pred. mean\", \"area: +/- 2 std\"]}, \"type\": \"nominal\"}, \"x\": {\"field\": \"time\", \"type\": \"temporal\"}, \"y\": {\"field\": \"err_low\", \"scale\": {\"zero\": false}, \"title\": \"TA\", \"type\": \"quantitative\"}, \"y2\": {\"field\": \"err_high\"}}, \"name\": \"view_18\"}, {\"mark\": \"line\", \"encoding\": {\"color\": {\"field\": \"variable\", \"type\": \"nominal\"}, \"x\": {\"field\": \"time\", \"type\": \"temporal\"}, \"y\": {\"field\": \"mean\", \"scale\": {\"zero\": false}, \"title\": \"TA\", \"type\": \"quantitative\"}}}], \"data\": {\"name\": \"data-2aeac4a6ee813b6984a0825dc253554d\"}}], \"height\": 150, \"title\": \"TA\", \"width\": 200}]}, {\"hconcat\": [{\"layer\": [{\"data\": {\"name\": \"data-cd105315dafa3555ae53950c5da49d64\"}, \"mark\": {\"type\": \"point\", \"color\": \"black\", \"fillOpacity\": 1, \"strokeWidth\": 1}, \"encoding\": {\"fill\": {\"field\": \"is_present\", \"legend\": {\"title\": [\"Observed data\"]}, \"scale\": {\"range\": [\"black\", \"#ffffff00\"]}, \"type\": \"nominal\"}, \"shape\": {\"field\": \"is_present\", \"type\": \"nominal\"}, \"x\": {\"axis\": {\"domain\": true, \"labels\": true, \"ticks\": true, \"title\": \"time\"}, \"field\": \"time\", \"type\": \"temporal\"}, \"y\": {\"field\": \"value\", \"scale\": {\"zero\": false}, \"title\": \"SW_IN\", \"type\": \"quantitative\"}}}, {\"layer\": [{\"mark\": \"rule\", \"encoding\": {\"x\": {\"axis\": {\"domain\": false, \"labels\": false, \"ticks\": false, \"title\": null}, \"field\": \"gap_start\", \"type\": \"temporal\"}}}, {\"mark\": \"rule\", \"encoding\": {\"x\": {\"axis\": {\"domain\": false, \"labels\": false, \"ticks\": false, \"title\": null}, \"field\": \"gap_end\", \"type\": \"temporal\"}}}, {\"mark\": {\"type\": \"rect\", \"color\": \"black\", \"opacity\": 0.2}, \"encoding\": {\"x\": {\"axis\": {\"domain\": false, \"labels\": false, \"ticks\": false, \"title\": null}, \"field\": \"gap_start\", \"type\": \"temporal\"}, \"x2\": {\"field\": \"gap_end\"}}}], \"data\": {\"name\": \"data-9858c4a8e9267c822345738dde3ff2f4\"}}, {\"layer\": [{\"mark\": \"errorband\", \"encoding\": {\"color\": {\"field\": \"variable\", \"legend\": {\"title\": [\"Line: pred. mean\", \"area: +/- 2 std\"]}, \"type\": \"nominal\"}, \"x\": {\"field\": \"time\", \"type\": \"temporal\"}, \"y\": {\"field\": \"err_low\", \"scale\": {\"zero\": false}, \"title\": \"SW_IN\", \"type\": \"quantitative\"}, \"y2\": {\"field\": \"err_high\"}}, \"name\": \"view_19\"}, {\"mark\": \"line\", \"encoding\": {\"color\": {\"field\": \"variable\", \"type\": \"nominal\"}, \"x\": {\"field\": \"time\", \"type\": \"temporal\"}, \"y\": {\"field\": \"mean\", \"scale\": {\"zero\": false}, \"title\": \"SW_IN\", \"type\": \"quantitative\"}}}], \"data\": {\"name\": \"data-cd105315dafa3555ae53950c5da49d64\"}}], \"height\": 150, \"title\": \"SW_IN\", \"width\": 200}]}, {\"hconcat\": [{\"layer\": [{\"mark\": {\"type\": \"point\", \"color\": \"black\", \"fillOpacity\": 1, \"strokeWidth\": 1}, \"encoding\": {\"fill\": {\"field\": \"is_present\", \"legend\": {\"title\": [\"Observed data\"]}, \"scale\": {\"range\": [\"black\", \"#ffffff00\"]}, \"type\": \"nominal\"}, \"shape\": {\"field\": \"is_present\", \"type\": \"nominal\"}, \"x\": {\"axis\": {\"domain\": true, \"labels\": true, \"ticks\": true, \"title\": \"time\"}, \"field\": \"time\", \"type\": \"temporal\"}, \"y\": {\"field\": \"value\", \"scale\": {\"zero\": false}, \"title\": \"VPD\", \"type\": \"quantitative\"}}}, {\"layer\": [{\"mark\": \"errorband\", \"encoding\": {\"color\": {\"field\": \"variable\", \"legend\": {\"title\": [\"Line: pred. mean\", \"area: +/- 2 std\"]}, \"type\": \"nominal\"}, \"x\": {\"field\": \"time\", \"type\": \"temporal\"}, \"y\": {\"field\": \"err_low\", \"scale\": {\"zero\": false}, \"title\": \"VPD\", \"type\": \"quantitative\"}, \"y2\": {\"field\": \"err_high\"}}, \"name\": \"view_20\"}, {\"mark\": \"line\", \"encoding\": {\"color\": {\"field\": \"variable\", \"type\": \"nominal\"}, \"x\": {\"field\": \"time\", \"type\": \"temporal\"}, \"y\": {\"field\": \"mean\", \"scale\": {\"zero\": false}, \"title\": \"VPD\", \"type\": \"quantitative\"}}}]}], \"height\": 150, \"title\": \"VPD\", \"width\": 200}], \"data\": {\"name\": \"data-68d529d0fa8fe3b240af312bc12b3af8\"}}], \"title\": \"loss: 61.207607\"}], \"params\": [{\"name\": \"param_19\", \"select\": {\"type\": \"interval\", \"encodings\": [\"x\"]}, \"bind\": \"scales\", \"views\": [\"view_12\", \"view_13\", \"view_14\"]}, {\"name\": \"param_23\", \"select\": {\"type\": \"interval\", \"encodings\": [\"x\"]}, \"bind\": \"scales\", \"views\": [\"view_15\", \"view_16\", \"view_17\"]}, {\"name\": \"param_27\", \"select\": {\"type\": \"interval\", \"encodings\": [\"x\"]}, \"bind\": \"scales\", \"views\": [\"view_18\", \"view_19\", \"view_20\"]}], \"$schema\": \"https://vega.github.io/schema/vega-lite/v5.2.0.json\", \"datasets\": {\"data-dd34b678b3b118f8c61225b568af5be4\": [{\"time\": \"2000-01-01T00:30:00\", \"variable\": \"TA\", \"value\": -0.6000000238418579, \"is_present\": true, \"mean\": 16.24081802368164, \"std\": 9.878959655761719, \"err_low\": -3.517101287841797, \"err_high\": 35.99873733520508}, {\"time\": \"2000-01-01T01:00:00\", \"variable\": \"TA\", \"value\": -0.6499999761581421, \"is_present\": true, \"mean\": 13.230020523071289, \"std\": 10.46875286102295, \"err_low\": -7.707485198974609, \"err_high\": 34.16752624511719}, {\"time\": \"2000-01-01T01:30:00\", \"variable\": \"TA\", \"value\": -0.5799999833106995, \"is_present\": true, \"mean\": 14.240379333496094, \"std\": 10.385880470275879, \"err_low\": -6.531381607055664, \"err_high\": 35.01213836669922}, {\"time\": \"2000-01-01T02:00:00\", \"variable\": \"TA\", \"value\": -0.5099999904632568, \"is_present\": true, \"mean\": 14.780405044555664, \"std\": 10.350440979003906, \"err_low\": -5.920476913452148, \"err_high\": 35.481285095214844}, {\"time\": \"2000-01-01T02:30:00\", \"variable\": \"TA\", \"value\": -0.49000000953674316, \"is_present\": true, \"mean\": 15.225776672363281, \"std\": 10.337325096130371, \"err_low\": -5.448873519897461, \"err_high\": 35.900428771972656}, {\"time\": \"2000-01-01T03:00:00\", \"variable\": \"TA\", \"value\": -0.4000000059604645, \"is_present\": true, \"mean\": 15.507502555847168, \"std\": 10.331633567810059, \"err_low\": -5.155764579772949, \"err_high\": 36.17076873779297}, {\"time\": \"2000-01-01T03:30:00\", \"variable\": \"TA\", \"value\": -0.36000001430511475, \"is_present\": false, \"mean\": 15.67999267578125, \"std\": 10.32935619354248, \"err_low\": -4.978719711303711, \"err_high\": 36.338706970214844}, {\"time\": \"2000-01-01T04:00:00\", \"variable\": \"TA\", \"value\": -0.3499999940395355, \"is_present\": false, \"mean\": 18.125816345214844, \"std\": 12.365944862365723, \"err_low\": -6.606073379516602, \"err_high\": 42.857704162597656}, {\"time\": \"2000-01-01T04:30:00\", \"variable\": \"TA\", \"value\": -0.2800000011920929, \"is_present\": true, \"mean\": 22.654766082763672, \"std\": 16.69077491760254, \"err_low\": -10.726783752441406, \"err_high\": 56.03631591796875}, {\"time\": \"2000-01-01T05:00:00\", \"variable\": \"TA\", \"value\": -0.27000001072883606, \"is_present\": true, \"mean\": 14.81768798828125, \"std\": 10.92581844329834, \"err_low\": -7.03394889831543, \"err_high\": 36.66932678222656}], \"data-3ce76f63baa8e4cc6a12391698201040\": [{\"gap_start\": \"2000-01-01T03:30:00\", \"gap_end\": \"2000-01-01T04:00:00\"}], \"data-67defb88083d7ddf7f2d94b5be87068a\": [{\"time\": \"2000-01-01T00:30:00\", \"variable\": \"SW_IN\", \"value\": 0.0, \"is_present\": true, \"mean\": 500.2903747558594, \"std\": 410.277587890625, \"err_low\": -320.2648010253906, \"err_high\": 1320.8455810546875}, {\"time\": \"2000-01-01T01:00:00\", \"variable\": \"SW_IN\", \"value\": 0.0, \"is_present\": true, \"mean\": 326.10260009765625, \"std\": 520.4334716796875, \"err_low\": -714.7643432617188, \"err_high\": 1366.969482421875}, {\"time\": \"2000-01-01T01:30:00\", \"variable\": \"SW_IN\", \"value\": 0.0, \"is_present\": true, \"mean\": 327.63531494140625, \"std\": 508.1804504394531, \"err_low\": -688.7255859375, \"err_high\": 1343.9962158203125}, {\"time\": \"2000-01-01T02:00:00\", \"variable\": \"SW_IN\", \"value\": 0.0, \"is_present\": true, \"mean\": 379.2554931640625, \"std\": 507.8409423828125, \"err_low\": -636.4263916015625, \"err_high\": 1394.9373779296875}, {\"time\": \"2000-01-01T02:30:00\", \"variable\": \"SW_IN\", \"value\": 0.0, \"is_present\": true, \"mean\": 397.298828125, \"std\": 506.4073791503906, \"err_low\": -615.5159301757812, \"err_high\": 1410.113525390625}, {\"time\": \"2000-01-01T03:00:00\", \"variable\": \"SW_IN\", \"value\": 0.0, \"is_present\": true, \"mean\": 416.46533203125, \"std\": 506.1667175292969, \"err_low\": -595.8681030273438, \"err_high\": 1428.798828125}, {\"time\": \"2000-01-01T03:30:00\", \"variable\": \"SW_IN\", \"value\": 0.0, \"is_present\": false, \"mean\": 425.30426025390625, \"std\": 505.9678039550781, \"err_low\": -586.63134765625, \"err_high\": 1437.2398681640625}, {\"time\": \"2000-01-01T04:00:00\", \"variable\": \"SW_IN\", \"value\": 0.0, \"is_present\": false, \"mean\": 642.7853393554688, \"std\": 744.2378540039062, \"err_low\": -845.6903686523438, \"err_high\": 2131.260986328125}, {\"time\": \"2000-01-01T04:30:00\", \"variable\": \"SW_IN\", \"value\": 0.0, \"is_present\": true, \"mean\": 931.3495483398438, \"std\": 1063.081298828125, \"err_low\": -1194.81298828125, \"err_high\": 3057.51220703125}, {\"time\": \"2000-01-01T05:00:00\", \"variable\": \"SW_IN\", \"value\": 0.0, \"is_present\": true, \"mean\": 364.21771240234375, \"std\": 542.11181640625, \"err_low\": -720.0059204101562, \"err_high\": 1448.44140625}], \"data-42795cbf3f57bf0bb19a83b2dcb6191e\": [{\"time\": \"2000-01-01T00:30:00\", \"variable\": \"VPD\", \"value\": 0.22200000286102295, \"is_present\": true, \"mean\": 12.381424903869629, \"std\": 9.835904121398926, \"err_low\": -7.290383338928223, \"err_high\": 32.0532341003418}, {\"time\": \"2000-01-01T01:00:00\", \"variable\": \"VPD\", \"value\": 0.12200000137090683, \"is_present\": true, \"mean\": 7.0539069175720215, \"std\": 12.913439750671387, \"err_low\": -18.772972106933594, \"err_high\": 32.88078689575195}, {\"time\": \"2000-01-01T01:30:00\", \"variable\": \"VPD\", \"value\": 0.09000000357627869, \"is_present\": true, \"mean\": 7.653613090515137, \"std\": 12.63874626159668, \"err_low\": -17.623878479003906, \"err_high\": 32.93110656738281}, {\"time\": \"2000-01-01T02:00:00\", \"variable\": \"VPD\", \"value\": 0.10999999940395355, \"is_present\": true, \"mean\": 8.806116104125977, \"std\": 12.60654067993164, \"err_low\": -16.406965255737305, \"err_high\": 34.019195556640625}, {\"time\": \"2000-01-01T02:30:00\", \"variable\": \"VPD\", \"value\": 0.10199999809265137, \"is_present\": true, \"mean\": 9.355056762695312, \"std\": 12.572209358215332, \"err_low\": -15.789361953735352, \"err_high\": 34.499473571777344}, {\"time\": \"2000-01-01T03:00:00\", \"variable\": \"VPD\", \"value\": 0.11100000143051147, \"is_present\": true, \"mean\": 9.829706192016602, \"std\": 12.56392765045166, \"err_low\": -15.298149108886719, \"err_high\": 34.95756149291992}, {\"time\": \"2000-01-01T03:30:00\", \"variable\": \"VPD\", \"value\": 0.10899999737739563, \"is_present\": true, \"mean\": 10.071173667907715, \"std\": 12.55884838104248, \"err_low\": -15.046523094177246, \"err_high\": 35.18886947631836}, {\"time\": \"2000-01-01T04:00:00\", \"variable\": \"VPD\", \"value\": 0.10700000077486038, \"is_present\": true, \"mean\": 15.058051109313965, \"std\": 18.153413772583008, \"err_low\": -21.248775482177734, \"err_high\": 51.3648796081543}, {\"time\": \"2000-01-01T04:30:00\", \"variable\": \"VPD\", \"value\": 0.12200000137090683, \"is_present\": true, \"mean\": 22.51692008972168, \"std\": 26.409236907958984, \"err_low\": -30.30155372619629, \"err_high\": 75.33539581298828}, {\"time\": \"2000-01-01T05:00:00\", \"variable\": \"VPD\", \"value\": 0.1379999965429306, \"is_present\": true, \"mean\": 8.574299812316895, \"std\": 13.596874237060547, \"err_low\": -18.619449615478516, \"err_high\": 35.76804733276367}], \"data-e742fd6e81f4fa98580915c8295e7773\": [{\"time\": \"2000-01-01T05:30:00\", \"variable\": \"TA\", \"value\": -0.23000000417232513, \"is_present\": true, \"mean\": 16.24081802368164, \"std\": 9.878959655761719, \"err_low\": -3.517101287841797, \"err_high\": 35.99873733520508}, {\"time\": \"2000-01-01T06:00:00\", \"variable\": \"TA\", \"value\": -0.23000000417232513, \"is_present\": true, \"mean\": 13.09183120727539, \"std\": 10.46875286102295, \"err_low\": -7.845674514770508, \"err_high\": 34.029335021972656}, {\"time\": \"2000-01-01T06:30:00\", \"variable\": \"TA\", \"value\": -0.2199999988079071, \"is_present\": true, \"mean\": 14.03756046295166, \"std\": 10.385880470275879, \"err_low\": -6.734200477600098, \"err_high\": 34.809322357177734}, {\"time\": \"2000-01-01T07:00:00\", \"variable\": \"TA\", \"value\": -0.23999999463558197, \"is_present\": false, \"mean\": 14.569694519042969, \"std\": 10.350440979003906, \"err_low\": -6.131187438964844, \"err_high\": 35.27057647705078}, {\"time\": \"2000-01-01T07:30:00\", \"variable\": \"TA\", \"value\": -0.23000000417232513, \"is_present\": false, \"mean\": 16.65583038330078, \"std\": 12.40708065032959, \"err_low\": -8.158330917358398, \"err_high\": 41.469993591308594}, {\"time\": \"2000-01-01T08:00:00\", \"variable\": \"TA\", \"value\": -0.2199999988079071, \"is_present\": true, \"mean\": 20.30819320678711, \"std\": 16.760549545288086, \"err_low\": -13.212905883789062, \"err_high\": 53.82929229736328}, {\"time\": \"2000-01-01T08:30:00\", \"variable\": \"TA\", \"value\": -0.1899999976158142, \"is_present\": true, \"mean\": 14.346622467041016, \"std\": 10.928398132324219, \"err_low\": -7.510173797607422, \"err_high\": 36.20341873168945}, {\"time\": \"2000-01-01T09:00:00\", \"variable\": \"TA\", \"value\": -0.14000000059604645, \"is_present\": true, \"mean\": 14.030484199523926, \"std\": 10.534123420715332, \"err_low\": -7.037762641906738, \"err_high\": 35.098731994628906}, {\"time\": \"2000-01-01T09:30:00\", \"variable\": \"TA\", \"value\": -0.029999999329447746, \"is_present\": true, \"mean\": 14.419857025146484, \"std\": 10.4091157913208, \"err_low\": -6.398374557495117, \"err_high\": 35.23809051513672}, {\"time\": \"2000-01-01T10:00:00\", \"variable\": \"TA\", \"value\": 0.03999999910593033, \"is_present\": true, \"mean\": 14.76512622833252, \"std\": 10.360505104064941, \"err_low\": -5.955883979797363, \"err_high\": 35.48613739013672}], \"data-22b514a72148b05dd7be146caaa527e7\": [{\"gap_start\": \"2000-01-01T07:00:00\", \"gap_end\": \"2000-01-01T07:30:00\"}], \"data-80ac665ce7a9de2101c84ce9d483e780\": [{\"time\": \"2000-01-01T05:30:00\", \"variable\": \"SW_IN\", \"value\": 0.0, \"is_present\": true, \"mean\": 500.2903747558594, \"std\": 410.277587890625, \"err_low\": -320.2648010253906, \"err_high\": 1320.8455810546875}, {\"time\": \"2000-01-01T06:00:00\", \"variable\": \"SW_IN\", \"value\": 0.0, \"is_present\": true, \"mean\": 315.6986999511719, \"std\": 520.4334716796875, \"err_low\": -725.168212890625, \"err_high\": 1356.565673828125}, {\"time\": \"2000-01-01T06:30:00\", \"variable\": \"SW_IN\", \"value\": 0.0, \"is_present\": true, \"mean\": 314.73956298828125, \"std\": 508.1804504394531, \"err_low\": -701.621337890625, \"err_high\": 1331.1004638671875}, {\"time\": \"2000-01-01T07:00:00\", \"variable\": \"SW_IN\", \"value\": 0.0, \"is_present\": false, \"mean\": 365.8113098144531, \"std\": 507.8409423828125, \"err_low\": -649.87060546875, \"err_high\": 1381.4931640625}, {\"time\": \"2000-01-01T07:30:00\", \"variable\": \"SW_IN\", \"value\": 0.0, \"is_present\": false, \"mean\": 534.8733520507812, \"std\": 747.4682006835938, \"err_low\": -960.0630493164062, \"err_high\": 2029.809814453125}, {\"time\": \"2000-01-01T08:00:00\", \"variable\": \"SW_IN\", \"value\": 0.0, \"is_present\": true, \"mean\": 771.8904418945312, \"std\": 1068.408447265625, \"err_low\": -1364.926513671875, \"err_high\": 2908.707275390625}, {\"time\": \"2000-01-01T08:30:00\", \"variable\": \"SW_IN\", \"value\": 0.44999998807907104, \"is_present\": true, \"mean\": 333.8312072753906, \"std\": 542.2618408203125, \"err_low\": -750.6925048828125, \"err_high\": 1418.3548583984375}, {\"time\": \"2000-01-01T09:00:00\", \"variable\": \"SW_IN\", \"value\": 3.700000047683716, \"is_present\": true, \"mean\": 328.03387451171875, \"std\": 521.6343383789062, \"err_low\": -715.2348022460938, \"err_high\": 1371.302490234375}, {\"time\": \"2000-01-01T09:30:00\", \"variable\": \"SW_IN\", \"value\": 7.260000228881836, \"is_present\": true, \"mean\": 348.14984130859375, \"std\": 511.1844787597656, \"err_low\": -674.2191162109375, \"err_high\": 1370.518798828125}, {\"time\": \"2000-01-01T10:00:00\", \"variable\": \"SW_IN\", \"value\": 12.239999771118164, \"is_present\": true, \"mean\": 367.7276916503906, \"std\": 508.23614501953125, \"err_low\": -648.74462890625, \"err_high\": 1384.199951171875}], \"data-de98d949caeb810ac7d2f5dd53cd707e\": [{\"time\": \"2000-01-01T05:30:00\", \"variable\": \"VPD\", \"value\": 0.1379999965429306, \"is_present\": true, \"mean\": 12.381424903869629, \"std\": 9.835904121398926, \"err_low\": -7.290383338928223, \"err_high\": 32.0532341003418}, {\"time\": \"2000-01-01T06:00:00\", \"variable\": \"VPD\", \"value\": 0.12200000137090683, \"is_present\": true, \"mean\": 6.797070503234863, \"std\": 12.913439750671387, \"err_low\": -19.029808044433594, \"err_high\": 32.62395095825195}, {\"time\": \"2000-01-01T06:30:00\", \"variable\": \"VPD\", \"value\": 0.09799999743700027, \"is_present\": true, \"mean\": 7.317120552062988, \"std\": 12.63874626159668, \"err_low\": -17.960372924804688, \"err_high\": 32.59461212158203}, {\"time\": \"2000-01-01T07:00:00\", \"variable\": \"VPD\", \"value\": 0.06599999964237213, \"is_present\": true, \"mean\": 8.457383155822754, \"std\": 12.60654067993164, \"err_low\": -16.755699157714844, \"err_high\": 33.67046356201172}, {\"time\": \"2000-01-01T07:30:00\", \"variable\": \"VPD\", \"value\": 0.04399999976158142, \"is_present\": true, \"mean\": 12.422768592834473, \"std\": 18.23651123046875, \"err_low\": -24.050254821777344, \"err_high\": 48.895790100097656}, {\"time\": \"2000-01-01T08:00:00\", \"variable\": \"VPD\", \"value\": 0.026000000536441803, \"is_present\": true, \"mean\": 18.49946403503418, \"std\": 26.54269790649414, \"err_low\": -34.58592987060547, \"err_high\": 71.5848617553711}, {\"time\": \"2000-01-01T08:30:00\", \"variable\": \"VPD\", \"value\": 0.01600000075995922, \"is_present\": true, \"mean\": 7.806454658508301, \"std\": 13.60123348236084, \"err_low\": -19.396011352539062, \"err_high\": 35.0089225769043}, {\"time\": \"2000-01-01T09:00:00\", \"variable\": \"VPD\", \"value\": 0.009999999776482582, \"is_present\": true, \"mean\": 7.530672073364258, \"std\": 12.974207878112793, \"err_low\": -18.417743682861328, \"err_high\": 33.479087829589844}, {\"time\": \"2000-01-01T09:30:00\", \"variable\": \"VPD\", \"value\": 0.006000000052154064, \"is_present\": true, \"mean\": 8.085407257080078, \"std\": 12.7059326171875, \"err_low\": -17.326457977294922, \"err_high\": 33.49727249145508}, {\"time\": \"2000-01-01T10:00:00\", \"variable\": \"VPD\", \"value\": 0.006000000052154064, \"is_present\": true, \"mean\": 8.605030059814453, \"std\": 12.620363235473633, \"err_low\": -16.635696411132812, \"err_high\": 33.84575653076172}], \"data-2aeac4a6ee813b6984a0825dc253554d\": [{\"time\": \"2000-01-01T15:30:00\", \"variable\": \"TA\", \"value\": 0.5199999809265137, \"is_present\": true, \"mean\": 16.24081802368164, \"std\": 9.878959655761719, \"err_low\": -3.517101287841797, \"err_high\": 35.99873733520508}, {\"time\": \"2000-01-01T16:00:00\", \"variable\": \"TA\", \"value\": 0.5699999928474426, \"is_present\": false, \"mean\": 12.81485366821289, \"std\": 10.46875286102295, \"err_low\": -8.122652053833008, \"err_high\": 33.752357482910156}, {\"time\": \"2000-01-01T16:30:00\", \"variable\": \"TA\", \"value\": 0.7300000190734863, \"is_present\": false, \"mean\": 14.639619827270508, \"std\": 12.674156188964844, \"err_low\": -10.70869255065918, \"err_high\": 39.98793029785156}, {\"time\": \"2000-01-01T17:00:00\", \"variable\": \"TA\", \"value\": 0.7699999809265137, \"is_present\": true, \"mean\": 16.89936637878418, \"std\": 17.193017959594727, \"err_low\": -17.486669540405273, \"err_high\": 51.285400390625}, {\"time\": \"2000-01-01T17:30:00\", \"variable\": \"TA\", \"value\": 0.8399999737739563, \"is_present\": true, \"mean\": 13.34763240814209, \"std\": 10.94300651550293, \"err_low\": -8.53838062286377, \"err_high\": 35.233646392822266}, {\"time\": \"2000-01-01T18:00:00\", \"variable\": \"TA\", \"value\": 0.9900000095367432, \"is_present\": true, \"mean\": 13.244417190551758, \"std\": 10.538254737854004, \"err_low\": -7.83209228515625, \"err_high\": 34.320926666259766}, {\"time\": \"2000-01-01T18:30:00\", \"variable\": \"TA\", \"value\": 1.350000023841858, \"is_present\": true, \"mean\": 13.624391555786133, \"std\": 10.410654067993164, \"err_low\": -7.196916580200195, \"err_high\": 34.445701599121094}, {\"time\": \"2000-01-01T19:00:00\", \"variable\": \"TA\", \"value\": 1.8600000143051147, \"is_present\": true, \"mean\": 13.858840942382812, \"std\": 10.361116409301758, \"err_low\": -6.863391876220703, \"err_high\": 34.58107376098633}, {\"time\": \"2000-01-01T19:30:00\", \"variable\": \"TA\", \"value\": 2.009999990463257, \"is_present\": true, \"mean\": 13.932357788085938, \"std\": 10.341504096984863, \"err_low\": -6.750650405883789, \"err_high\": 34.61536407470703}, {\"time\": \"2000-01-01T20:00:00\", \"variable\": \"TA\", \"value\": 2.069999933242798, \"is_present\": true, \"mean\": 13.984180450439453, \"std\": 10.33339786529541, \"err_low\": -6.682615280151367, \"err_high\": 34.650978088378906}], \"data-9858c4a8e9267c822345738dde3ff2f4\": [{\"gap_start\": \"2000-01-01T16:00:00\", \"gap_end\": \"2000-01-01T16:30:00\"}], \"data-cd105315dafa3555ae53950c5da49d64\": [{\"time\": \"2000-01-01T15:30:00\", \"variable\": \"SW_IN\", \"value\": 8.09000015258789, \"is_present\": true, \"mean\": 500.2903747558594, \"std\": 410.277587890625, \"err_low\": -320.2648010253906, \"err_high\": 1320.8455810546875}, {\"time\": \"2000-01-01T16:00:00\", \"variable\": \"SW_IN\", \"value\": 6.369999885559082, \"is_present\": false, \"mean\": 292.65838623046875, \"std\": 520.4334716796875, \"err_low\": -748.2085571289062, \"err_high\": 1333.525390625}, {\"time\": \"2000-01-01T16:30:00\", \"variable\": \"SW_IN\", \"value\": 1.7200000286102295, \"is_present\": false, \"mean\": 376.5249328613281, \"std\": 767.2605590820312, \"err_low\": -1157.9962158203125, \"err_high\": 1911.0460205078125}, {\"time\": \"2000-01-01T17:00:00\", \"variable\": \"SW_IN\", \"value\": 0.05999999865889549, \"is_present\": true, \"mean\": 546.5206298828125, \"std\": 1102.0838623046875, \"err_low\": -1657.6470947265625, \"err_high\": 2750.6884765625}, {\"time\": \"2000-01-01T17:30:00\", \"variable\": \"SW_IN\", \"value\": 0.0, \"is_present\": true, \"mean\": 271.2089538574219, \"std\": 543.0382080078125, \"err_low\": -814.867431640625, \"err_high\": 1357.285400390625}, {\"time\": \"2000-01-01T18:00:00\", \"variable\": \"SW_IN\", \"value\": 0.0, \"is_present\": true, \"mean\": 279.54388427734375, \"std\": 521.9638671875, \"err_low\": -764.3838500976562, \"err_high\": 1323.4716796875}, {\"time\": \"2000-01-01T18:30:00\", \"variable\": \"SW_IN\", \"value\": 0.0, \"is_present\": true, \"mean\": 298.3889465332031, \"std\": 511.2787170410156, \"err_low\": -724.16845703125, \"err_high\": 1320.9464111328125}, {\"time\": \"2000-01-01T19:00:00\", \"variable\": \"SW_IN\", \"value\": 0.0, \"is_present\": true, \"mean\": 311.7428283691406, \"std\": 508.2821044921875, \"err_low\": -704.8214111328125, \"err_high\": 1328.3070068359375}, {\"time\": \"2000-01-01T19:30:00\", \"variable\": \"SW_IN\", \"value\": 0.0, \"is_present\": true, \"mean\": 314.15478515625, \"std\": 506.7944030761719, \"err_low\": -699.4340209960938, \"err_high\": 1327.74365234375}, {\"time\": \"2000-01-01T20:00:00\", \"variable\": \"SW_IN\", \"value\": 0.0, \"is_present\": true, \"mean\": 316.84832763671875, \"std\": 506.2646484375, \"err_low\": -695.6809692382812, \"err_high\": 1329.377685546875}], \"data-68d529d0fa8fe3b240af312bc12b3af8\": [{\"time\": \"2000-01-01T15:30:00\", \"variable\": \"VPD\", \"value\": 0.0, \"is_present\": true, \"mean\": 12.381424903869629, \"std\": 9.835904121398926, \"err_low\": -7.290383338928223, \"err_high\": 32.0532341003418}, {\"time\": \"2000-01-01T16:00:00\", \"variable\": \"VPD\", \"value\": 0.0, \"is_present\": true, \"mean\": 6.254757881164551, \"std\": 12.913439750671387, \"err_low\": -19.572120666503906, \"err_high\": 32.08163833618164}, {\"time\": \"2000-01-01T16:30:00\", \"variable\": \"VPD\", \"value\": 0.0, \"is_present\": true, \"mean\": 8.653221130371094, \"std\": 18.75720977783203, \"err_low\": -28.86119842529297, \"err_high\": 46.167640686035156}, {\"time\": \"2000-01-01T17:00:00\", \"variable\": \"VPD\", \"value\": 0.0, \"is_present\": true, \"mean\": 12.761313438415527, \"std\": 27.379383087158203, \"err_low\": -41.99745178222656, \"err_high\": 67.52008056640625}, {\"time\": \"2000-01-01T17:30:00\", \"variable\": \"VPD\", \"value\": 0.0, \"is_present\": true, \"mean\": 6.187718391418457, \"std\": 13.62479305267334, \"err_low\": -21.061866760253906, \"err_high\": 33.43730545043945}, {\"time\": \"2000-01-01T18:00:00\", \"variable\": \"VPD\", \"value\": 0.0, \"is_present\": true, \"mean\": 6.263680934906006, \"std\": 12.98282527923584, \"err_low\": -19.701969146728516, \"err_high\": 32.229331970214844}, {\"time\": \"2000-01-01T18:30:00\", \"variable\": \"VPD\", \"value\": 0.0, \"is_present\": true, \"mean\": 6.7865705490112305, \"std\": 12.708662033081055, \"err_low\": -18.630752563476562, \"err_high\": 32.203895568847656}, {\"time\": \"2000-01-01T19:00:00\", \"variable\": \"VPD\", \"value\": 0.0020000000949949026, \"is_present\": true, \"mean\": 7.131533622741699, \"std\": 12.621596336364746, \"err_low\": -18.11166000366211, \"err_high\": 32.374725341796875}, {\"time\": \"2000-01-01T19:30:00\", \"variable\": \"VPD\", \"value\": 0.008999999612569809, \"is_present\": true, \"mean\": 7.201915740966797, \"std\": 12.581851959228516, \"err_low\": -17.961788177490234, \"err_high\": 32.36561965942383}, {\"time\": \"2000-01-01T20:00:00\", \"variable\": \"VPD\", \"value\": 0.014000000432133675, \"is_present\": true, \"mean\": 7.272302627563477, \"std\": 12.566880226135254, \"err_low\": -17.86145782470703, \"err_high\": 32.406063079833984}]}}, {\"mode\": \"vega-lite\"});\n",
       "</script>"
      ],
      "text/plain": [
       "alt.HConcatChart(...)"
      ]
     },
     "execution_count": null,
     "metadata": {},
     "output_type": "execute_result"
    }
   ],
   "source": [
    "plot_results(preds, targs, losses)"
   ]
  },
  {
   "cell_type": "markdown",
   "id": "32cb6c99-004e-4235-82d5-1617e79b7097",
   "metadata": {},
   "source": [
    "#### Show Results"
   ]
  },
  {
   "cell_type": "code",
   "execution_count": null,
   "id": "5f6a1a9f-2a79-4b27-960b-4a8a446de9ac",
   "metadata": {},
   "outputs": [
    {
     "data": {
      "text/plain": [
       "[402, 269, 1864]"
      ]
     },
     "execution_count": null,
     "metadata": {},
     "output_type": "execute_result"
    }
   ],
   "source": [
    "random.choices(learn.dls.items, k=3)"
   ]
  },
  {
   "cell_type": "code",
   "execution_count": null,
   "id": "5b86232f-ada2-443c-b00c-8f7379608085",
   "metadata": {},
   "outputs": [],
   "source": [
    "#|export\n",
    "def get_results(learn, n=3, items=None, dls=None):\n",
    "    dls = ifnone(dls, learn.dls)\n",
    "    items = ifnone(items, random.choices(dls.items, k=3))\n",
    "    pipe0, pipe1 = dls.fs[0][0,1], dls.fs[0][2,3]\n",
    "    return predict_items(items, learn, pipe0, pipe1)"
   ]
  },
  {
   "cell_type": "code",
   "execution_count": null,
   "id": "ec86db59-0ee4-46c1-af35-290ba45284c0",
   "metadata": {},
   "outputs": [],
   "source": [
    "#| export\n",
    "def show_results(learn, n=3, items=None, **kwargs):\n",
    "    return plot_results(*get_results(learn,n,items), **kwargs)\n",
    "    "
   ]
  },
  {
   "cell_type": "code",
   "execution_count": null,
   "id": "25bc78ec-1348-4af5-ad48-89575654ff01",
   "metadata": {},
   "outputs": [],
   "source": [
    "learn.model.use_smooth = False"
   ]
  },
  {
   "cell_type": "code",
   "execution_count": null,
   "id": "38bb0979-c84d-45ff-8b25-6e737816204b",
   "metadata": {},
   "outputs": [
    {
     "data": {
      "text/html": [
       "\n",
       "<div id=\"altair-viz-c6f7af8ae9fc42e6b8996754e7f7ee2e\"></div>\n",
       "<script type=\"text/javascript\">\n",
       "  var VEGA_DEBUG = (typeof VEGA_DEBUG == \"undefined\") ? {} : VEGA_DEBUG;\n",
       "  (function(spec, embedOpt){\n",
       "    let outputDiv = document.currentScript.previousElementSibling;\n",
       "    if (outputDiv.id !== \"altair-viz-c6f7af8ae9fc42e6b8996754e7f7ee2e\") {\n",
       "      outputDiv = document.getElementById(\"altair-viz-c6f7af8ae9fc42e6b8996754e7f7ee2e\");\n",
       "    }\n",
       "    const paths = {\n",
       "      \"vega\": \"https://cdn.jsdelivr.net/npm//vega@5?noext\",\n",
       "      \"vega-lib\": \"https://cdn.jsdelivr.net/npm//vega-lib?noext\",\n",
       "      \"vega-lite\": \"https://cdn.jsdelivr.net/npm//vega-lite@5.2.0?noext\",\n",
       "      \"vega-embed\": \"https://cdn.jsdelivr.net/npm//vega-embed@6?noext\",\n",
       "    };\n",
       "\n",
       "    function maybeLoadScript(lib, version) {\n",
       "      var key = `${lib.replace(\"-\", \"\")}_version`;\n",
       "      return (VEGA_DEBUG[key] == version) ?\n",
       "        Promise.resolve(paths[lib]) :\n",
       "        new Promise(function(resolve, reject) {\n",
       "          var s = document.createElement('script');\n",
       "          document.getElementsByTagName(\"head\")[0].appendChild(s);\n",
       "          s.async = true;\n",
       "          s.onload = () => {\n",
       "            VEGA_DEBUG[key] = version;\n",
       "            return resolve(paths[lib]);\n",
       "          };\n",
       "          s.onerror = () => reject(`Error loading script: ${paths[lib]}`);\n",
       "          s.src = paths[lib];\n",
       "        });\n",
       "    }\n",
       "\n",
       "    function showError(err) {\n",
       "      outputDiv.innerHTML = `<div class=\"error\" style=\"color:red;\">${err}</div>`;\n",
       "      throw err;\n",
       "    }\n",
       "\n",
       "    function displayChart(vegaEmbed) {\n",
       "      vegaEmbed(outputDiv, spec, embedOpt)\n",
       "        .catch(err => showError(`Javascript Error: ${err.message}<br>This usually means there's a typo in your chart specification. See the javascript console for the full traceback.`));\n",
       "    }\n",
       "\n",
       "    if(typeof define === \"function\" && define.amd) {\n",
       "      requirejs.config({paths});\n",
       "      require([\"vega-embed\"], displayChart, err => showError(`Error loading script: ${err.message}`));\n",
       "    } else {\n",
       "      maybeLoadScript(\"vega\", \"5\")\n",
       "        .then(() => maybeLoadScript(\"vega-lite\", \"5.2.0\"))\n",
       "        .then(() => maybeLoadScript(\"vega-embed\", \"6\"))\n",
       "        .catch(showError)\n",
       "        .then(() => displayChart(vegaEmbed));\n",
       "    }\n",
       "  })({\"config\": {\"view\": {\"continuousWidth\": 400, \"continuousHeight\": 300}}, \"hconcat\": [{\"vconcat\": [{\"hconcat\": [{\"layer\": [{\"data\": {\"name\": \"data-81445866f46e4732f00195c84a569fa8\"}, \"mark\": {\"type\": \"point\", \"color\": \"black\", \"fillOpacity\": 1, \"strokeWidth\": 1}, \"encoding\": {\"fill\": {\"field\": \"is_present\", \"legend\": {\"title\": [\"Observed data\"]}, \"scale\": {\"range\": [\"black\", \"#ffffff00\"]}, \"type\": \"nominal\"}, \"shape\": {\"field\": \"is_present\", \"type\": \"nominal\"}, \"x\": {\"axis\": {\"domain\": true, \"labels\": true, \"ticks\": true, \"title\": \"time\"}, \"field\": \"time\", \"type\": \"temporal\"}, \"y\": {\"field\": \"value\", \"scale\": {\"zero\": false}, \"title\": \"TA\", \"type\": \"quantitative\"}}}, {\"layer\": [{\"mark\": \"rule\", \"encoding\": {\"x\": {\"axis\": {\"domain\": false, \"labels\": false, \"ticks\": false, \"title\": null}, \"field\": \"gap_start\", \"type\": \"temporal\"}}}, {\"mark\": \"rule\", \"encoding\": {\"x\": {\"axis\": {\"domain\": false, \"labels\": false, \"ticks\": false, \"title\": null}, \"field\": \"gap_end\", \"type\": \"temporal\"}}}, {\"mark\": {\"type\": \"rect\", \"color\": \"black\", \"opacity\": 0.2}, \"encoding\": {\"x\": {\"axis\": {\"domain\": false, \"labels\": false, \"ticks\": false, \"title\": null}, \"field\": \"gap_start\", \"type\": \"temporal\"}, \"x2\": {\"field\": \"gap_end\"}}}], \"data\": {\"name\": \"data-601848a094946404bd0a065aa2041846\"}}, {\"layer\": [{\"mark\": \"errorband\", \"encoding\": {\"color\": {\"field\": \"variable\", \"legend\": {\"title\": [\"Line: pred. mean\", \"area: +/- 2 std\"]}, \"type\": \"nominal\"}, \"x\": {\"field\": \"time\", \"type\": \"temporal\"}, \"y\": {\"field\": \"err_low\", \"scale\": {\"zero\": false}, \"title\": \"TA\", \"type\": \"quantitative\"}, \"y2\": {\"field\": \"err_high\"}}, \"name\": \"view_21\"}, {\"mark\": \"line\", \"encoding\": {\"color\": {\"field\": \"variable\", \"type\": \"nominal\"}, \"x\": {\"field\": \"time\", \"type\": \"temporal\"}, \"y\": {\"field\": \"mean\", \"scale\": {\"zero\": false}, \"title\": \"TA\", \"type\": \"quantitative\"}}}], \"data\": {\"name\": \"data-81445866f46e4732f00195c84a569fa8\"}}], \"height\": 150, \"title\": \"TA\", \"width\": 200}]}, {\"hconcat\": [{\"layer\": [{\"data\": {\"name\": \"data-0d9216cb39fd08ca528c41c7f2778bf1\"}, \"mark\": {\"type\": \"point\", \"color\": \"black\", \"fillOpacity\": 1, \"strokeWidth\": 1}, \"encoding\": {\"fill\": {\"field\": \"is_present\", \"legend\": {\"title\": [\"Observed data\"]}, \"scale\": {\"range\": [\"black\", \"#ffffff00\"]}, \"type\": \"nominal\"}, \"shape\": {\"field\": \"is_present\", \"type\": \"nominal\"}, \"x\": {\"axis\": {\"domain\": true, \"labels\": true, \"ticks\": true, \"title\": \"time\"}, \"field\": \"time\", \"type\": \"temporal\"}, \"y\": {\"field\": \"value\", \"scale\": {\"zero\": false}, \"title\": \"SW_IN\", \"type\": \"quantitative\"}}}, {\"layer\": [{\"mark\": \"rule\", \"encoding\": {\"x\": {\"axis\": {\"domain\": false, \"labels\": false, \"ticks\": false, \"title\": null}, \"field\": \"gap_start\", \"type\": \"temporal\"}}}, {\"mark\": \"rule\", \"encoding\": {\"x\": {\"axis\": {\"domain\": false, \"labels\": false, \"ticks\": false, \"title\": null}, \"field\": \"gap_end\", \"type\": \"temporal\"}}}, {\"mark\": {\"type\": \"rect\", \"color\": \"black\", \"opacity\": 0.2}, \"encoding\": {\"x\": {\"axis\": {\"domain\": false, \"labels\": false, \"ticks\": false, \"title\": null}, \"field\": \"gap_start\", \"type\": \"temporal\"}, \"x2\": {\"field\": \"gap_end\"}}}], \"data\": {\"name\": \"data-601848a094946404bd0a065aa2041846\"}}, {\"layer\": [{\"mark\": \"errorband\", \"encoding\": {\"color\": {\"field\": \"variable\", \"legend\": {\"title\": [\"Line: pred. mean\", \"area: +/- 2 std\"]}, \"type\": \"nominal\"}, \"x\": {\"field\": \"time\", \"type\": \"temporal\"}, \"y\": {\"field\": \"err_low\", \"scale\": {\"zero\": false}, \"title\": \"SW_IN\", \"type\": \"quantitative\"}, \"y2\": {\"field\": \"err_high\"}}, \"name\": \"view_22\"}, {\"mark\": \"line\", \"encoding\": {\"color\": {\"field\": \"variable\", \"type\": \"nominal\"}, \"x\": {\"field\": \"time\", \"type\": \"temporal\"}, \"y\": {\"field\": \"mean\", \"scale\": {\"zero\": false}, \"title\": \"SW_IN\", \"type\": \"quantitative\"}}}], \"data\": {\"name\": \"data-0d9216cb39fd08ca528c41c7f2778bf1\"}}], \"height\": 150, \"title\": \"SW_IN\", \"width\": 200}]}, {\"hconcat\": [{\"layer\": [{\"mark\": {\"type\": \"point\", \"color\": \"black\", \"fillOpacity\": 1, \"strokeWidth\": 1}, \"encoding\": {\"fill\": {\"field\": \"is_present\", \"legend\": {\"title\": [\"Observed data\"]}, \"scale\": {\"range\": [\"black\", \"#ffffff00\"]}, \"type\": \"nominal\"}, \"shape\": {\"field\": \"is_present\", \"type\": \"nominal\"}, \"x\": {\"axis\": {\"domain\": true, \"labels\": true, \"ticks\": true, \"title\": \"time\"}, \"field\": \"time\", \"type\": \"temporal\"}, \"y\": {\"field\": \"value\", \"scale\": {\"zero\": false}, \"title\": \"VPD\", \"type\": \"quantitative\"}}}, {\"layer\": [{\"mark\": \"errorband\", \"encoding\": {\"color\": {\"field\": \"variable\", \"legend\": {\"title\": [\"Line: pred. mean\", \"area: +/- 2 std\"]}, \"type\": \"nominal\"}, \"x\": {\"field\": \"time\", \"type\": \"temporal\"}, \"y\": {\"field\": \"err_low\", \"scale\": {\"zero\": false}, \"title\": \"VPD\", \"type\": \"quantitative\"}, \"y2\": {\"field\": \"err_high\"}}, \"name\": \"view_23\"}, {\"mark\": \"line\", \"encoding\": {\"color\": {\"field\": \"variable\", \"type\": \"nominal\"}, \"x\": {\"field\": \"time\", \"type\": \"temporal\"}, \"y\": {\"field\": \"mean\", \"scale\": {\"zero\": false}, \"title\": \"VPD\", \"type\": \"quantitative\"}}}]}], \"height\": 150, \"title\": \"VPD\", \"width\": 200}], \"data\": {\"name\": \"data-3070e6bd03f59f3f6c8e8a448a79186c\"}}], \"title\": \"loss: 71.395416\"}, {\"vconcat\": [{\"hconcat\": [{\"layer\": [{\"data\": {\"name\": \"data-7aa804825df24aa737b9b31b2811880c\"}, \"mark\": {\"type\": \"point\", \"color\": \"black\", \"fillOpacity\": 1, \"strokeWidth\": 1}, \"encoding\": {\"fill\": {\"field\": \"is_present\", \"legend\": {\"title\": [\"Observed data\"]}, \"scale\": {\"range\": [\"black\", \"#ffffff00\"]}, \"type\": \"nominal\"}, \"shape\": {\"field\": \"is_present\", \"type\": \"nominal\"}, \"x\": {\"axis\": {\"domain\": true, \"labels\": true, \"ticks\": true, \"title\": \"time\"}, \"field\": \"time\", \"type\": \"temporal\"}, \"y\": {\"field\": \"value\", \"scale\": {\"zero\": false}, \"title\": \"TA\", \"type\": \"quantitative\"}}}, {\"layer\": [{\"mark\": \"rule\", \"encoding\": {\"x\": {\"axis\": {\"domain\": false, \"labels\": false, \"ticks\": false, \"title\": null}, \"field\": \"gap_start\", \"type\": \"temporal\"}}}, {\"mark\": \"rule\", \"encoding\": {\"x\": {\"axis\": {\"domain\": false, \"labels\": false, \"ticks\": false, \"title\": null}, \"field\": \"gap_end\", \"type\": \"temporal\"}}}, {\"mark\": {\"type\": \"rect\", \"color\": \"black\", \"opacity\": 0.2}, \"encoding\": {\"x\": {\"axis\": {\"domain\": false, \"labels\": false, \"ticks\": false, \"title\": null}, \"field\": \"gap_start\", \"type\": \"temporal\"}, \"x2\": {\"field\": \"gap_end\"}}}], \"data\": {\"name\": \"data-9bf70b45394a45bb8f7df4df76ee4834\"}}, {\"layer\": [{\"mark\": \"errorband\", \"encoding\": {\"color\": {\"field\": \"variable\", \"legend\": {\"title\": [\"Line: pred. mean\", \"area: +/- 2 std\"]}, \"type\": \"nominal\"}, \"x\": {\"field\": \"time\", \"type\": \"temporal\"}, \"y\": {\"field\": \"err_low\", \"scale\": {\"zero\": false}, \"title\": \"TA\", \"type\": \"quantitative\"}, \"y2\": {\"field\": \"err_high\"}}, \"name\": \"view_24\"}, {\"mark\": \"line\", \"encoding\": {\"color\": {\"field\": \"variable\", \"type\": \"nominal\"}, \"x\": {\"field\": \"time\", \"type\": \"temporal\"}, \"y\": {\"field\": \"mean\", \"scale\": {\"zero\": false}, \"title\": \"TA\", \"type\": \"quantitative\"}}}], \"data\": {\"name\": \"data-7aa804825df24aa737b9b31b2811880c\"}}], \"height\": 150, \"title\": \"TA\", \"width\": 200}]}, {\"hconcat\": [{\"layer\": [{\"data\": {\"name\": \"data-4ba4a2ed73757487a2864a5fafe0117d\"}, \"mark\": {\"type\": \"point\", \"color\": \"black\", \"fillOpacity\": 1, \"strokeWidth\": 1}, \"encoding\": {\"fill\": {\"field\": \"is_present\", \"legend\": {\"title\": [\"Observed data\"]}, \"scale\": {\"range\": [\"black\", \"#ffffff00\"]}, \"type\": \"nominal\"}, \"shape\": {\"field\": \"is_present\", \"type\": \"nominal\"}, \"x\": {\"axis\": {\"domain\": true, \"labels\": true, \"ticks\": true, \"title\": \"time\"}, \"field\": \"time\", \"type\": \"temporal\"}, \"y\": {\"field\": \"value\", \"scale\": {\"zero\": false}, \"title\": \"SW_IN\", \"type\": \"quantitative\"}}}, {\"layer\": [{\"mark\": \"rule\", \"encoding\": {\"x\": {\"axis\": {\"domain\": false, \"labels\": false, \"ticks\": false, \"title\": null}, \"field\": \"gap_start\", \"type\": \"temporal\"}}}, {\"mark\": \"rule\", \"encoding\": {\"x\": {\"axis\": {\"domain\": false, \"labels\": false, \"ticks\": false, \"title\": null}, \"field\": \"gap_end\", \"type\": \"temporal\"}}}, {\"mark\": {\"type\": \"rect\", \"color\": \"black\", \"opacity\": 0.2}, \"encoding\": {\"x\": {\"axis\": {\"domain\": false, \"labels\": false, \"ticks\": false, \"title\": null}, \"field\": \"gap_start\", \"type\": \"temporal\"}, \"x2\": {\"field\": \"gap_end\"}}}], \"data\": {\"name\": \"data-9bf70b45394a45bb8f7df4df76ee4834\"}}, {\"layer\": [{\"mark\": \"errorband\", \"encoding\": {\"color\": {\"field\": \"variable\", \"legend\": {\"title\": [\"Line: pred. mean\", \"area: +/- 2 std\"]}, \"type\": \"nominal\"}, \"x\": {\"field\": \"time\", \"type\": \"temporal\"}, \"y\": {\"field\": \"err_low\", \"scale\": {\"zero\": false}, \"title\": \"SW_IN\", \"type\": \"quantitative\"}, \"y2\": {\"field\": \"err_high\"}}, \"name\": \"view_25\"}, {\"mark\": \"line\", \"encoding\": {\"color\": {\"field\": \"variable\", \"type\": \"nominal\"}, \"x\": {\"field\": \"time\", \"type\": \"temporal\"}, \"y\": {\"field\": \"mean\", \"scale\": {\"zero\": false}, \"title\": \"SW_IN\", \"type\": \"quantitative\"}}}], \"data\": {\"name\": \"data-4ba4a2ed73757487a2864a5fafe0117d\"}}], \"height\": 150, \"title\": \"SW_IN\", \"width\": 200}]}, {\"hconcat\": [{\"layer\": [{\"mark\": {\"type\": \"point\", \"color\": \"black\", \"fillOpacity\": 1, \"strokeWidth\": 1}, \"encoding\": {\"fill\": {\"field\": \"is_present\", \"legend\": {\"title\": [\"Observed data\"]}, \"scale\": {\"range\": [\"black\", \"#ffffff00\"]}, \"type\": \"nominal\"}, \"shape\": {\"field\": \"is_present\", \"type\": \"nominal\"}, \"x\": {\"axis\": {\"domain\": true, \"labels\": true, \"ticks\": true, \"title\": \"time\"}, \"field\": \"time\", \"type\": \"temporal\"}, \"y\": {\"field\": \"value\", \"scale\": {\"zero\": false}, \"title\": \"VPD\", \"type\": \"quantitative\"}}}, {\"layer\": [{\"mark\": \"errorband\", \"encoding\": {\"color\": {\"field\": \"variable\", \"legend\": {\"title\": [\"Line: pred. mean\", \"area: +/- 2 std\"]}, \"type\": \"nominal\"}, \"x\": {\"field\": \"time\", \"type\": \"temporal\"}, \"y\": {\"field\": \"err_low\", \"scale\": {\"zero\": false}, \"title\": \"VPD\", \"type\": \"quantitative\"}, \"y2\": {\"field\": \"err_high\"}}, \"name\": \"view_26\"}, {\"mark\": \"line\", \"encoding\": {\"color\": {\"field\": \"variable\", \"type\": \"nominal\"}, \"x\": {\"field\": \"time\", \"type\": \"temporal\"}, \"y\": {\"field\": \"mean\", \"scale\": {\"zero\": false}, \"title\": \"VPD\", \"type\": \"quantitative\"}}}]}], \"height\": 150, \"title\": \"VPD\", \"width\": 200}], \"data\": {\"name\": \"data-65b47afb9e253ac6cf2b57f1fe084d2e\"}}], \"title\": \"loss: 44.269501\"}, {\"vconcat\": [{\"hconcat\": [{\"layer\": [{\"data\": {\"name\": \"data-4fe06bd0289333223f0e83546f9a50c3\"}, \"mark\": {\"type\": \"point\", \"color\": \"black\", \"fillOpacity\": 1, \"strokeWidth\": 1}, \"encoding\": {\"fill\": {\"field\": \"is_present\", \"legend\": {\"title\": [\"Observed data\"]}, \"scale\": {\"range\": [\"black\", \"#ffffff00\"]}, \"type\": \"nominal\"}, \"shape\": {\"field\": \"is_present\", \"type\": \"nominal\"}, \"x\": {\"axis\": {\"domain\": true, \"labels\": true, \"ticks\": true, \"title\": \"time\"}, \"field\": \"time\", \"type\": \"temporal\"}, \"y\": {\"field\": \"value\", \"scale\": {\"zero\": false}, \"title\": \"TA\", \"type\": \"quantitative\"}}}, {\"layer\": [{\"mark\": \"rule\", \"encoding\": {\"x\": {\"axis\": {\"domain\": false, \"labels\": false, \"ticks\": false, \"title\": null}, \"field\": \"gap_start\", \"type\": \"temporal\"}}}, {\"mark\": \"rule\", \"encoding\": {\"x\": {\"axis\": {\"domain\": false, \"labels\": false, \"ticks\": false, \"title\": null}, \"field\": \"gap_end\", \"type\": \"temporal\"}}}, {\"mark\": {\"type\": \"rect\", \"color\": \"black\", \"opacity\": 0.2}, \"encoding\": {\"x\": {\"axis\": {\"domain\": false, \"labels\": false, \"ticks\": false, \"title\": null}, \"field\": \"gap_start\", \"type\": \"temporal\"}, \"x2\": {\"field\": \"gap_end\"}}}], \"data\": {\"name\": \"data-21777bc0d48eb265d1110021b6c964d2\"}}, {\"layer\": [{\"mark\": \"errorband\", \"encoding\": {\"color\": {\"field\": \"variable\", \"legend\": {\"title\": [\"Line: pred. mean\", \"area: +/- 2 std\"]}, \"type\": \"nominal\"}, \"x\": {\"field\": \"time\", \"type\": \"temporal\"}, \"y\": {\"field\": \"err_low\", \"scale\": {\"zero\": false}, \"title\": \"TA\", \"type\": \"quantitative\"}, \"y2\": {\"field\": \"err_high\"}}, \"name\": \"view_27\"}, {\"mark\": \"line\", \"encoding\": {\"color\": {\"field\": \"variable\", \"type\": \"nominal\"}, \"x\": {\"field\": \"time\", \"type\": \"temporal\"}, \"y\": {\"field\": \"mean\", \"scale\": {\"zero\": false}, \"title\": \"TA\", \"type\": \"quantitative\"}}}], \"data\": {\"name\": \"data-4fe06bd0289333223f0e83546f9a50c3\"}}], \"height\": 150, \"title\": \"TA\", \"width\": 200}]}, {\"hconcat\": [{\"layer\": [{\"data\": {\"name\": \"data-84317400c42b29a04f4100da35f4f42f\"}, \"mark\": {\"type\": \"point\", \"color\": \"black\", \"fillOpacity\": 1, \"strokeWidth\": 1}, \"encoding\": {\"fill\": {\"field\": \"is_present\", \"legend\": {\"title\": [\"Observed data\"]}, \"scale\": {\"range\": [\"black\", \"#ffffff00\"]}, \"type\": \"nominal\"}, \"shape\": {\"field\": \"is_present\", \"type\": \"nominal\"}, \"x\": {\"axis\": {\"domain\": true, \"labels\": true, \"ticks\": true, \"title\": \"time\"}, \"field\": \"time\", \"type\": \"temporal\"}, \"y\": {\"field\": \"value\", \"scale\": {\"zero\": false}, \"title\": \"SW_IN\", \"type\": \"quantitative\"}}}, {\"layer\": [{\"mark\": \"rule\", \"encoding\": {\"x\": {\"axis\": {\"domain\": false, \"labels\": false, \"ticks\": false, \"title\": null}, \"field\": \"gap_start\", \"type\": \"temporal\"}}}, {\"mark\": \"rule\", \"encoding\": {\"x\": {\"axis\": {\"domain\": false, \"labels\": false, \"ticks\": false, \"title\": null}, \"field\": \"gap_end\", \"type\": \"temporal\"}}}, {\"mark\": {\"type\": \"rect\", \"color\": \"black\", \"opacity\": 0.2}, \"encoding\": {\"x\": {\"axis\": {\"domain\": false, \"labels\": false, \"ticks\": false, \"title\": null}, \"field\": \"gap_start\", \"type\": \"temporal\"}, \"x2\": {\"field\": \"gap_end\"}}}], \"data\": {\"name\": \"data-21777bc0d48eb265d1110021b6c964d2\"}}, {\"layer\": [{\"mark\": \"errorband\", \"encoding\": {\"color\": {\"field\": \"variable\", \"legend\": {\"title\": [\"Line: pred. mean\", \"area: +/- 2 std\"]}, \"type\": \"nominal\"}, \"x\": {\"field\": \"time\", \"type\": \"temporal\"}, \"y\": {\"field\": \"err_low\", \"scale\": {\"zero\": false}, \"title\": \"SW_IN\", \"type\": \"quantitative\"}, \"y2\": {\"field\": \"err_high\"}}, \"name\": \"view_28\"}, {\"mark\": \"line\", \"encoding\": {\"color\": {\"field\": \"variable\", \"type\": \"nominal\"}, \"x\": {\"field\": \"time\", \"type\": \"temporal\"}, \"y\": {\"field\": \"mean\", \"scale\": {\"zero\": false}, \"title\": \"SW_IN\", \"type\": \"quantitative\"}}}], \"data\": {\"name\": \"data-84317400c42b29a04f4100da35f4f42f\"}}], \"height\": 150, \"title\": \"SW_IN\", \"width\": 200}]}, {\"hconcat\": [{\"layer\": [{\"mark\": {\"type\": \"point\", \"color\": \"black\", \"fillOpacity\": 1, \"strokeWidth\": 1}, \"encoding\": {\"fill\": {\"field\": \"is_present\", \"legend\": {\"title\": [\"Observed data\"]}, \"scale\": {\"range\": [\"black\", \"#ffffff00\"]}, \"type\": \"nominal\"}, \"shape\": {\"field\": \"is_present\", \"type\": \"nominal\"}, \"x\": {\"axis\": {\"domain\": true, \"labels\": true, \"ticks\": true, \"title\": \"time\"}, \"field\": \"time\", \"type\": \"temporal\"}, \"y\": {\"field\": \"value\", \"scale\": {\"zero\": false}, \"title\": \"VPD\", \"type\": \"quantitative\"}}}, {\"layer\": [{\"mark\": \"errorband\", \"encoding\": {\"color\": {\"field\": \"variable\", \"legend\": {\"title\": [\"Line: pred. mean\", \"area: +/- 2 std\"]}, \"type\": \"nominal\"}, \"x\": {\"field\": \"time\", \"type\": \"temporal\"}, \"y\": {\"field\": \"err_low\", \"scale\": {\"zero\": false}, \"title\": \"VPD\", \"type\": \"quantitative\"}, \"y2\": {\"field\": \"err_high\"}}, \"name\": \"view_29\"}, {\"mark\": \"line\", \"encoding\": {\"color\": {\"field\": \"variable\", \"type\": \"nominal\"}, \"x\": {\"field\": \"time\", \"type\": \"temporal\"}, \"y\": {\"field\": \"mean\", \"scale\": {\"zero\": false}, \"title\": \"VPD\", \"type\": \"quantitative\"}}}]}], \"height\": 150, \"title\": \"VPD\", \"width\": 200}], \"data\": {\"name\": \"data-b8ce84f35aff468a6c8d1dc186e092ec\"}}], \"title\": \"loss: 49.768578\"}], \"params\": [{\"name\": \"param_31\", \"select\": {\"type\": \"interval\", \"encodings\": [\"x\"]}, \"bind\": \"scales\", \"views\": [\"view_21\", \"view_22\", \"view_23\"]}, {\"name\": \"param_35\", \"select\": {\"type\": \"interval\", \"encodings\": [\"x\"]}, \"bind\": \"scales\", \"views\": [\"view_24\", \"view_25\", \"view_26\"]}, {\"name\": \"param_39\", \"select\": {\"type\": \"interval\", \"encodings\": [\"x\"]}, \"bind\": \"scales\", \"views\": [\"view_27\", \"view_28\", \"view_29\"]}], \"$schema\": \"https://vega.github.io/schema/vega-lite/v5.2.0.json\", \"datasets\": {\"data-81445866f46e4732f00195c84a569fa8\": [{\"time\": \"2000-01-22T21:30:00\", \"variable\": \"TA\", \"value\": -0.800000011920929, \"is_present\": true, \"mean\": 14.995841979980469, \"std\": 8.876554489135742, \"err_low\": -2.7572669982910156, \"err_high\": 32.74895095825195}, {\"time\": \"2000-01-22T22:00:00\", \"variable\": \"TA\", \"value\": -0.7699999809265137, \"is_present\": false, \"mean\": 12.233757972717285, \"std\": 9.406501770019531, \"err_low\": -6.579245567321777, \"err_high\": 31.04676055908203}, {\"time\": \"2000-01-22T22:30:00\", \"variable\": \"TA\", \"value\": -0.7300000190734863, \"is_present\": false, \"mean\": 13.954387664794922, \"std\": 11.388126373291016, \"err_low\": -8.82186508178711, \"err_high\": 36.73064041137695}, {\"time\": \"2000-01-22T23:00:00\", \"variable\": \"TA\", \"value\": -0.7200000286102295, \"is_present\": true, \"mean\": 16.250696182250977, \"std\": 15.448464393615723, \"err_low\": -14.646232604980469, \"err_high\": 47.14762496948242}, {\"time\": \"2000-01-22T23:30:00\", \"variable\": \"TA\", \"value\": -0.7300000190734863, \"is_present\": true, \"mean\": 13.193929672241211, \"std\": 9.832633972167969, \"err_low\": -6.471338272094727, \"err_high\": 32.85919952392578}, {\"time\": \"2000-01-23T00:00:00\", \"variable\": \"TA\", \"value\": -0.75, \"is_present\": true, \"mean\": 13.104066848754883, \"std\": 9.468951225280762, \"err_low\": -5.833835601806641, \"err_high\": 32.041969299316406}, {\"time\": \"2000-01-23T00:30:00\", \"variable\": \"TA\", \"value\": -0.8299999833106995, \"is_present\": true, \"mean\": 13.652142524719238, \"std\": 9.35429859161377, \"err_low\": -5.056454658508301, \"err_high\": 32.360740661621094}, {\"time\": \"2000-01-23T01:00:00\", \"variable\": \"TA\", \"value\": -0.8799999952316284, \"is_present\": true, \"mean\": 14.129216194152832, \"std\": 9.30978775024414, \"err_low\": -4.490359306335449, \"err_high\": 32.7487907409668}, {\"time\": \"2000-01-23T01:30:00\", \"variable\": \"TA\", \"value\": -0.9200000166893005, \"is_present\": true, \"mean\": 14.525407791137695, \"std\": 9.29216480255127, \"err_low\": -4.058921813964844, \"err_high\": 33.109737396240234}, {\"time\": \"2000-01-23T02:00:00\", \"variable\": \"TA\", \"value\": -0.9700000286102295, \"is_present\": true, \"mean\": 14.816478729248047, \"std\": 9.284881591796875, \"err_low\": -3.753284454345703, \"err_high\": 33.3862419128418}], \"data-601848a094946404bd0a065aa2041846\": [{\"gap_start\": \"2000-01-22T22:00:00\", \"gap_end\": \"2000-01-22T22:30:00\"}], \"data-0d9216cb39fd08ca528c41c7f2778bf1\": [{\"time\": \"2000-01-22T21:30:00\", \"variable\": \"SW_IN\", \"value\": 0.0, \"is_present\": true, \"mean\": 460.6117248535156, \"std\": 381.2783203125, \"err_low\": -301.9449157714844, \"err_high\": 1223.1683349609375}, {\"time\": \"2000-01-22T22:00:00\", \"variable\": \"SW_IN\", \"value\": 0.0, \"is_present\": false, \"mean\": 288.54217529296875, \"std\": 483.6481628417969, \"err_low\": -678.754150390625, \"err_high\": 1255.8385009765625}, {\"time\": \"2000-01-22T22:30:00\", \"variable\": \"SW_IN\", \"value\": 0.0, \"is_present\": false, \"mean\": 378.2016296386719, \"std\": 713.0289916992188, \"err_low\": -1047.8563232421875, \"err_high\": 1804.2596435546875}, {\"time\": \"2000-01-22T23:00:00\", \"variable\": \"SW_IN\", \"value\": 0.0, \"is_present\": true, \"mean\": 549.4786987304688, \"std\": 1024.186279296875, \"err_low\": -1498.893798828125, \"err_high\": 2597.851318359375}, {\"time\": \"2000-01-22T23:30:00\", \"variable\": \"SW_IN\", \"value\": 0.0, \"is_present\": true, \"mean\": 296.46697998046875, \"std\": 504.6551513671875, \"err_low\": -712.8433227539062, \"err_high\": 1305.77734375}, {\"time\": \"2000-01-23T00:00:00\", \"variable\": \"SW_IN\", \"value\": 0.0, \"is_present\": true, \"mean\": 309.86865234375, \"std\": 485.07037353515625, \"err_low\": -660.2720947265625, \"err_high\": 1280.0093994140625}, {\"time\": \"2000-01-23T00:30:00\", \"variable\": \"SW_IN\", \"value\": 0.0, \"is_present\": true, \"mean\": 339.4279479980469, \"std\": 475.1404724121094, \"err_low\": -610.85302734375, \"err_high\": 1289.7088623046875}, {\"time\": \"2000-01-23T01:00:00\", \"variable\": \"SW_IN\", \"value\": 0.0, \"is_present\": true, \"mean\": 369.6585998535156, \"std\": 472.35565185546875, \"err_low\": -575.052734375, \"err_high\": 1314.369873046875}, {\"time\": \"2000-01-23T01:30:00\", \"variable\": \"SW_IN\", \"value\": 0.0, \"is_present\": true, \"mean\": 393.5708923339844, \"std\": 470.9731140136719, \"err_low\": -548.3753662109375, \"err_high\": 1335.51708984375}, {\"time\": \"2000-01-23T02:00:00\", \"variable\": \"SW_IN\", \"value\": 0.0, \"is_present\": true, \"mean\": 411.3349304199219, \"std\": 470.4808044433594, \"err_low\": -529.626708984375, \"err_high\": 1352.2965087890625}], \"data-3070e6bd03f59f3f6c8e8a448a79186c\": [{\"time\": \"2000-01-22T21:30:00\", \"variable\": \"VPD\", \"value\": 0.013000000268220901, \"is_present\": true, \"mean\": 10.345367431640625, \"std\": 8.184657096862793, \"err_low\": -6.023946762084961, \"err_high\": 26.71468162536621}, {\"time\": \"2000-01-22T22:00:00\", \"variable\": \"VPD\", \"value\": 0.017000000923871994, \"is_present\": true, \"mean\": 5.752096176147461, \"std\": 10.745536804199219, \"err_low\": -15.738977432250977, \"err_high\": 27.2431697845459}, {\"time\": \"2000-01-22T22:30:00\", \"variable\": \"VPD\", \"value\": 0.017000000923871994, \"is_present\": true, \"mean\": 7.941534042358398, \"std\": 15.608257293701172, \"err_low\": -23.274980545043945, \"err_high\": 39.158050537109375}, {\"time\": \"2000-01-22T23:00:00\", \"variable\": \"VPD\", \"value\": 0.017000000923871994, \"is_present\": true, \"mean\": 11.703934669494629, \"std\": 22.782943725585938, \"err_low\": -33.86195373535156, \"err_high\": 57.26982116699219}, {\"time\": \"2000-01-22T23:30:00\", \"variable\": \"VPD\", \"value\": 0.017000000923871994, \"is_present\": true, \"mean\": 6.370186805725098, \"std\": 11.337469100952148, \"err_low\": -16.304752349853516, \"err_high\": 29.045124053955078}, {\"time\": \"2000-01-23T00:00:00\", \"variable\": \"VPD\", \"value\": 0.017000000923871994, \"is_present\": true, \"mean\": 6.519386291503906, \"std\": 10.803274154663086, \"err_low\": -15.087162017822266, \"err_high\": 28.125934600830078}, {\"time\": \"2000-01-23T00:30:00\", \"variable\": \"VPD\", \"value\": 0.017000000923871994, \"is_present\": true, \"mean\": 7.243836402893066, \"std\": 10.5751371383667, \"err_low\": -13.906437873840332, \"err_high\": 28.39411163330078}, {\"time\": \"2000-01-23T01:00:00\", \"variable\": \"VPD\", \"value\": 0.020999999716877937, \"is_present\": true, \"mean\": 7.941583633422852, \"std\": 10.502687454223633, \"err_low\": -13.063791275024414, \"err_high\": 28.946958541870117}, {\"time\": \"2000-01-23T01:30:00\", \"variable\": \"VPD\", \"value\": 0.023000000044703484, \"is_present\": true, \"mean\": 8.503215789794922, \"std\": 10.469615936279297, \"err_low\": -12.436016082763672, \"err_high\": 29.442447662353516}, {\"time\": \"2000-01-23T02:00:00\", \"variable\": \"VPD\", \"value\": 0.027000000700354576, \"is_present\": true, \"mean\": 8.918776512145996, \"std\": 10.457157135009766, \"err_low\": -11.995537757873535, \"err_high\": 29.833091735839844}], \"data-7aa804825df24aa737b9b31b2811880c\": [{\"time\": \"2000-10-25T18:30:00\", \"variable\": \"TA\", \"value\": 12.449999809265137, \"is_present\": true, \"mean\": 14.995841979980469, \"std\": 8.876554489135742, \"err_low\": -2.7572669982910156, \"err_high\": 32.74895095825195}, {\"time\": \"2000-10-25T19:00:00\", \"variable\": \"TA\", \"value\": 12.3100004196167, \"is_present\": true, \"mean\": 12.143156051635742, \"std\": 9.406501770019531, \"err_low\": -6.66984748840332, \"err_high\": 30.956159591674805}, {\"time\": \"2000-10-25T19:30:00\", \"variable\": \"TA\", \"value\": 12.170000076293945, \"is_present\": true, \"mean\": 11.035629272460938, \"std\": 9.332038879394531, \"err_low\": -7.628448486328125, \"err_high\": 29.69970703125}, {\"time\": \"2000-10-25T20:00:00\", \"variable\": \"TA\", \"value\": 12.0600004196167, \"is_present\": true, \"mean\": 10.659905433654785, \"std\": 9.300195693969727, \"err_low\": -7.940485954284668, \"err_high\": 29.260295867919922}, {\"time\": \"2000-10-25T20:30:00\", \"variable\": \"TA\", \"value\": 11.989999771118164, \"is_present\": true, \"mean\": 10.324897766113281, \"std\": 9.288410186767578, \"err_low\": -8.251922607421875, \"err_high\": 28.901718139648438}, {\"time\": \"2000-10-25T21:00:00\", \"variable\": \"TA\", \"value\": 11.979999542236328, \"is_present\": true, \"mean\": 10.089665412902832, \"std\": 9.283295631408691, \"err_low\": -8.47692584991455, \"err_high\": 28.65625762939453}, {\"time\": \"2000-10-25T21:30:00\", \"variable\": \"TA\", \"value\": 11.890000343322754, \"is_present\": true, \"mean\": 9.969107627868652, \"std\": 9.28125, \"err_low\": -8.593392372131348, \"err_high\": 28.53160858154297}, {\"time\": \"2000-10-25T22:00:00\", \"variable\": \"TA\", \"value\": 11.770000457763672, \"is_present\": false, \"mean\": 9.929975509643555, \"std\": 9.28038501739502, \"err_low\": -8.630794525146484, \"err_high\": 28.490745544433594}, {\"time\": \"2000-10-25T22:30:00\", \"variable\": \"TA\", \"value\": 11.699999809265137, \"is_present\": false, \"mean\": 11.034366607666016, \"std\": 11.109922409057617, \"err_low\": -11.185478210449219, \"err_high\": 33.25421142578125}, {\"time\": \"2000-10-25T23:00:00\", \"variable\": \"TA\", \"value\": 11.699999809265137, \"is_present\": true, \"mean\": 11.36473274230957, \"std\": 14.994793891906738, \"err_low\": -18.624855041503906, \"err_high\": 41.35432052612305}], \"data-9bf70b45394a45bb8f7df4df76ee4834\": [{\"gap_start\": \"2000-10-25T22:00:00\", \"gap_end\": \"2000-10-25T22:30:00\"}], \"data-4ba4a2ed73757487a2864a5fafe0117d\": [{\"time\": \"2000-10-25T18:30:00\", \"variable\": \"SW_IN\", \"value\": 0.0, \"is_present\": true, \"mean\": 460.6117248535156, \"std\": 381.2783203125, \"err_low\": -301.9449157714844, \"err_high\": 1223.1683349609375}, {\"time\": \"2000-10-25T19:00:00\", \"variable\": \"SW_IN\", \"value\": 0.0, \"is_present\": true, \"mean\": 354.5099792480469, \"std\": 483.6481628417969, \"err_low\": -612.786376953125, \"err_high\": 1321.8062744140625}, {\"time\": \"2000-10-25T19:30:00\", \"variable\": \"SW_IN\", \"value\": 0.0, \"is_present\": true, \"mean\": 147.14468383789062, \"std\": 472.2611999511719, \"err_low\": -797.377685546875, \"err_high\": 1091.6671142578125}, {\"time\": \"2000-10-25T20:00:00\", \"variable\": \"SW_IN\", \"value\": 0.0, \"is_present\": true, \"mean\": 186.63565063476562, \"std\": 471.9456787109375, \"err_low\": -757.2557373046875, \"err_high\": 1130.5269775390625}, {\"time\": \"2000-10-25T20:30:00\", \"variable\": \"SW_IN\", \"value\": 0.0, \"is_present\": true, \"mean\": 138.41241455078125, \"std\": 470.61346435546875, \"err_low\": -802.8145141601562, \"err_high\": 1079.639404296875}, {\"time\": \"2000-10-25T21:00:00\", \"variable\": \"SW_IN\", \"value\": 0.0, \"is_present\": true, \"mean\": 135.15330505371094, \"std\": 470.3898010253906, \"err_low\": -805.6262817382812, \"err_high\": 1075.932861328125}, {\"time\": \"2000-10-25T21:30:00\", \"variable\": \"SW_IN\", \"value\": 0.0, \"is_present\": true, \"mean\": 125.66055297851562, \"std\": 470.2049560546875, \"err_low\": -814.7493896484375, \"err_high\": 1066.0704345703125}, {\"time\": \"2000-10-25T22:00:00\", \"variable\": \"SW_IN\", \"value\": 0.0, \"is_present\": false, \"mean\": 125.2754898071289, \"std\": 470.15380859375, \"err_low\": -815.0321044921875, \"err_high\": 1065.5831298828125}, {\"time\": \"2000-10-25T22:30:00\", \"variable\": \"SW_IN\", \"value\": 0.0, \"is_present\": false, \"mean\": 136.359619140625, \"std\": 691.5166625976562, \"err_low\": -1246.6737060546875, \"err_high\": 1519.3929443359375}, {\"time\": \"2000-10-25T23:00:00\", \"variable\": \"SW_IN\", \"value\": 0.0, \"is_present\": true, \"mean\": 211.11993408203125, \"std\": 987.7612915039062, \"err_low\": -1764.402587890625, \"err_high\": 2186.642578125}], \"data-65b47afb9e253ac6cf2b57f1fe084d2e\": [{\"time\": \"2000-10-25T18:30:00\", \"variable\": \"VPD\", \"value\": 3.0829999446868896, \"is_present\": true, \"mean\": 10.345367431640625, \"std\": 8.184657096862793, \"err_low\": -6.023946762084961, \"err_high\": 26.71468162536621}, {\"time\": \"2000-10-25T19:00:00\", \"variable\": \"VPD\", \"value\": 3.003000020980835, \"is_present\": true, \"mean\": 6.377024173736572, \"std\": 10.745536804199219, \"err_low\": -15.114049911499023, \"err_high\": 27.86809730529785}, {\"time\": \"2000-10-25T19:30:00\", \"variable\": \"VPD\", \"value\": 2.822999954223633, \"is_present\": true, \"mean\": 2.7510273456573486, \"std\": 10.516959190368652, \"err_low\": -18.28289031982422, \"err_high\": 23.78494644165039}, {\"time\": \"2000-10-25T20:00:00\", \"variable\": \"VPD\", \"value\": 2.742000102996826, \"is_present\": true, \"mean\": 3.1333887577056885, \"std\": 10.49015998840332, \"err_low\": -17.84693145751953, \"err_high\": 24.11370849609375}, {\"time\": \"2000-10-25T20:30:00\", \"variable\": \"VPD\", \"value\": 2.677999973297119, \"is_present\": true, \"mean\": 2.252239465713501, \"std\": 10.461592674255371, \"err_low\": -18.67094612121582, \"err_high\": 23.175424575805664}, {\"time\": \"2000-10-25T21:00:00\", \"variable\": \"VPD\", \"value\": 2.759999990463257, \"is_present\": true, \"mean\": 2.081355571746826, \"std\": 10.454700469970703, \"err_low\": -18.828044891357422, \"err_high\": 22.99075698852539}, {\"time\": \"2000-10-25T21:30:00\", \"variable\": \"VPD\", \"value\": 2.7860000133514404, \"is_present\": true, \"mean\": 1.8779664039611816, \"std\": 10.45047378540039, \"err_low\": -19.022981643676758, \"err_high\": 22.778913497924805}, {\"time\": \"2000-10-25T22:00:00\", \"variable\": \"VPD\", \"value\": 2.5429999828338623, \"is_present\": true, \"mean\": 1.8531769514083862, \"std\": 10.449105262756348, \"err_low\": -19.045034408569336, \"err_high\": 22.751386642456055}, {\"time\": \"2000-10-25T22:30:00\", \"variable\": \"VPD\", \"value\": 2.319999933242798, \"is_present\": true, \"mean\": 2.767181634902954, \"std\": 15.103264808654785, \"err_low\": -27.439348220825195, \"err_high\": 32.97371292114258}, {\"time\": \"2000-10-25T23:00:00\", \"variable\": \"VPD\", \"value\": 2.3289999961853027, \"is_present\": true, \"mean\": 4.019625663757324, \"std\": 21.97156524658203, \"err_low\": -39.92350387573242, \"err_high\": 47.9627571105957}], \"data-4fe06bd0289333223f0e83546f9a50c3\": [{\"time\": \"2000-08-08T10:30:00\", \"variable\": \"TA\", \"value\": 13.65999984741211, \"is_present\": false, \"mean\": 14.995841979980469, \"std\": 8.876554489135742, \"err_low\": -2.7572669982910156, \"err_high\": 32.74895095825195}, {\"time\": \"2000-08-08T11:00:00\", \"variable\": \"TA\", \"value\": 14.40999984741211, \"is_present\": false, \"mean\": 16.469104766845703, \"std\": 10.529221534729004, \"err_low\": -4.589338302612305, \"err_high\": 37.527549743652344}, {\"time\": \"2000-08-08T11:30:00\", \"variable\": \"TA\", \"value\": 14.859999656677246, \"is_present\": true, \"mean\": 21.292449951171875, \"std\": 13.646957397460938, \"err_low\": -6.00146484375, \"err_high\": 48.58636474609375}, {\"time\": \"2000-08-08T12:00:00\", \"variable\": \"TA\", \"value\": 14.890000343322754, \"is_present\": true, \"mean\": 14.569676399230957, \"std\": 9.759437561035156, \"err_low\": -4.9491987228393555, \"err_high\": 34.08855056762695}, {\"time\": \"2000-08-08T12:30:00\", \"variable\": \"TA\", \"value\": 15.4399995803833, \"is_present\": true, \"mean\": 11.991499900817871, \"std\": 9.446166038513184, \"err_low\": -6.900832176208496, \"err_high\": 30.883831024169922}, {\"time\": \"2000-08-08T13:00:00\", \"variable\": \"TA\", \"value\": 15.9399995803833, \"is_present\": true, \"mean\": 13.440279960632324, \"std\": 9.345949172973633, \"err_low\": -5.251618385314941, \"err_high\": 32.132179260253906}, {\"time\": \"2000-08-08T13:30:00\", \"variable\": \"TA\", \"value\": 16.270000457763672, \"is_present\": true, \"mean\": 14.258269309997559, \"std\": 9.306438446044922, \"err_low\": -4.354607582092285, \"err_high\": 32.87114715576172}, {\"time\": \"2000-08-08T14:00:00\", \"variable\": \"TA\", \"value\": 16.610000610351562, \"is_present\": true, \"mean\": 14.053135871887207, \"std\": 9.29080581665039, \"err_low\": -4.528475761413574, \"err_high\": 32.63474655151367}, {\"time\": \"2000-08-08T14:30:00\", \"variable\": \"TA\", \"value\": 17.399999618530273, \"is_present\": true, \"mean\": 14.703896522521973, \"std\": 9.28432559967041, \"err_low\": -3.8647546768188477, \"err_high\": 33.27254867553711}, {\"time\": \"2000-08-08T15:00:00\", \"variable\": \"TA\", \"value\": 17.540000915527344, \"is_present\": true, \"mean\": 15.572029113769531, \"std\": 9.281668663024902, \"err_low\": -2.9913082122802734, \"err_high\": 34.13536834716797}], \"data-21777bc0d48eb265d1110021b6c964d2\": [{\"gap_start\": \"2000-08-08T10:30:00\", \"gap_end\": \"2000-08-08T11:00:00\"}], \"data-84317400c42b29a04f4100da35f4f42f\": [{\"time\": \"2000-08-08T10:30:00\", \"variable\": \"SW_IN\", \"value\": 281.20001220703125, \"is_present\": false, \"mean\": 460.6117248535156, \"std\": 381.2783203125, \"err_low\": -301.9449157714844, \"err_high\": 1223.1683349609375}, {\"time\": \"2000-08-08T11:00:00\", \"variable\": \"SW_IN\", \"value\": 532.8200073242188, \"is_present\": false, \"mean\": 643.5393676757812, \"std\": 609.6812744140625, \"err_low\": -575.8231811523438, \"err_high\": 1862.90185546875}, {\"time\": \"2000-08-08T11:30:00\", \"variable\": \"SW_IN\", \"value\": 392.79998779296875, \"is_present\": true, \"mean\": 874.6113891601562, \"std\": 890.8424072265625, \"err_low\": -907.0734252929688, \"err_high\": 2656.296142578125}, {\"time\": \"2000-08-08T12:00:00\", \"variable\": \"SW_IN\", \"value\": 372.7799987792969, \"is_present\": true, \"mean\": 261.8618469238281, \"std\": 498.7618713378906, \"err_low\": -735.661865234375, \"err_high\": 1259.3856201171875}, {\"time\": \"2000-08-08T12:30:00\", \"variable\": \"SW_IN\", \"value\": 597.8300170898438, \"is_present\": true, \"mean\": 191.3131561279297, \"std\": 483.6282043457031, \"err_low\": -775.9432373046875, \"err_high\": 1158.569580078125}, {\"time\": \"2000-08-08T13:00:00\", \"variable\": \"SW_IN\", \"value\": 644.2999877929688, \"is_present\": true, \"mean\": 197.9295654296875, \"std\": 474.489501953125, \"err_low\": -751.0494384765625, \"err_high\": 1146.9085693359375}, {\"time\": \"2000-08-08T13:30:00\", \"variable\": \"SW_IN\", \"value\": 495.1600036621094, \"is_present\": true, \"mean\": 308.0509033203125, \"std\": 472.1291198730469, \"err_low\": -636.2073364257812, \"err_high\": 1252.30908203125}, {\"time\": \"2000-08-08T14:00:00\", \"variable\": \"SW_IN\", \"value\": 523.1400146484375, \"is_present\": true, \"mean\": 331.7298583984375, \"std\": 470.871337890625, \"err_low\": -610.0128173828125, \"err_high\": 1273.4725341796875}, {\"time\": \"2000-08-08T14:30:00\", \"variable\": \"SW_IN\", \"value\": 567.8800048828125, \"is_present\": true, \"mean\": 347.09881591796875, \"std\": 470.4422912597656, \"err_low\": -593.7857666015625, \"err_high\": 1287.9833984375}, {\"time\": \"2000-08-08T15:00:00\", \"variable\": \"SW_IN\", \"value\": 411.8500061035156, \"is_present\": true, \"mean\": 421.7300720214844, \"std\": 470.2410888671875, \"err_low\": -518.7520751953125, \"err_high\": 1362.2122802734375}], \"data-b8ce84f35aff468a6c8d1dc186e092ec\": [{\"time\": \"2000-08-08T10:30:00\", \"variable\": \"VPD\", \"value\": 0.8960000276565552, \"is_present\": true, \"mean\": 10.345367431640625, \"std\": 8.184657096862793, \"err_low\": -6.023946762084961, \"err_high\": 26.71468162536621}, {\"time\": \"2000-08-08T11:00:00\", \"variable\": \"VPD\", \"value\": 1.6629999876022339, \"is_present\": true, \"mean\": 13.240057945251465, \"std\": 13.465545654296875, \"err_low\": -13.691033363342285, \"err_high\": 40.17115020751953}, {\"time\": \"2000-08-08T11:30:00\", \"variable\": \"VPD\", \"value\": 2.01200008392334, \"is_present\": true, \"mean\": 19.307048797607422, \"std\": 19.695104598999023, \"err_low\": -20.083160400390625, \"err_high\": 58.69725799560547}, {\"time\": \"2000-08-08T12:00:00\", \"variable\": \"VPD\", \"value\": 2.2190001010894775, \"is_present\": true, \"mean\": 6.6364946365356445, \"std\": 11.1998291015625, \"err_low\": -15.763163566589355, \"err_high\": 29.036151885986328}, {\"time\": \"2000-08-08T12:30:00\", \"variable\": \"VPD\", \"value\": 2.680000066757202, \"is_present\": true, \"mean\": 4.21240234375, \"std\": 10.766083717346191, \"err_low\": -17.319765090942383, \"err_high\": 25.744569778442383}, {\"time\": \"2000-08-08T13:00:00\", \"variable\": \"VPD\", \"value\": 3.5999999046325684, \"is_present\": true, \"mean\": 5.277714729309082, \"std\": 10.559554100036621, \"err_low\": -15.84139347076416, \"err_high\": 26.39682388305664}, {\"time\": \"2000-08-08T13:30:00\", \"variable\": \"VPD\", \"value\": 4.243000030517578, \"is_present\": true, \"mean\": 7.352827072143555, \"std\": 10.496960639953613, \"err_low\": -13.641094207763672, \"err_high\": 28.34674835205078}, {\"time\": \"2000-08-08T14:00:00\", \"variable\": \"VPD\", \"value\": 4.684000015258789, \"is_present\": true, \"mean\": 7.438434600830078, \"std\": 10.467137336730957, \"err_low\": -13.495840072631836, \"err_high\": 28.372709274291992}, {\"time\": \"2000-08-08T14:30:00\", \"variable\": \"VPD\", \"value\": 5.625999927520752, \"is_present\": true, \"mean\": 8.025167465209961, \"std\": 10.456191062927246, \"err_low\": -12.887214660644531, \"err_high\": 28.937549591064453}, {\"time\": \"2000-08-08T15:00:00\", \"variable\": \"VPD\", \"value\": 5.991000175476074, \"is_present\": true, \"mean\": 9.5989351272583, \"std\": 10.451312065124512, \"err_low\": -11.303689002990723, \"err_high\": 30.50156021118164}]}}, {\"mode\": \"vega-lite\"});\n",
       "</script>"
      ],
      "text/plain": [
       "alt.HConcatChart(...)"
      ]
     },
     "execution_count": null,
     "metadata": {},
     "output_type": "execute_result"
    }
   ],
   "source": [
    "show_results(learn)"
   ]
  },
  {
   "cell_type": "code",
   "execution_count": null,
   "id": "4b36ddaf-759c-4b42-be6e-4ad2843088c0",
   "metadata": {},
   "outputs": [
    {
     "data": {
      "text/html": [
       "\n",
       "<div id=\"altair-viz-bf5d91fa795d49e38c30000ad7f41167\"></div>\n",
       "<script type=\"text/javascript\">\n",
       "  var VEGA_DEBUG = (typeof VEGA_DEBUG == \"undefined\") ? {} : VEGA_DEBUG;\n",
       "  (function(spec, embedOpt){\n",
       "    let outputDiv = document.currentScript.previousElementSibling;\n",
       "    if (outputDiv.id !== \"altair-viz-bf5d91fa795d49e38c30000ad7f41167\") {\n",
       "      outputDiv = document.getElementById(\"altair-viz-bf5d91fa795d49e38c30000ad7f41167\");\n",
       "    }\n",
       "    const paths = {\n",
       "      \"vega\": \"https://cdn.jsdelivr.net/npm//vega@5?noext\",\n",
       "      \"vega-lib\": \"https://cdn.jsdelivr.net/npm//vega-lib?noext\",\n",
       "      \"vega-lite\": \"https://cdn.jsdelivr.net/npm//vega-lite@5.2.0?noext\",\n",
       "      \"vega-embed\": \"https://cdn.jsdelivr.net/npm//vega-embed@6?noext\",\n",
       "    };\n",
       "\n",
       "    function maybeLoadScript(lib, version) {\n",
       "      var key = `${lib.replace(\"-\", \"\")}_version`;\n",
       "      return (VEGA_DEBUG[key] == version) ?\n",
       "        Promise.resolve(paths[lib]) :\n",
       "        new Promise(function(resolve, reject) {\n",
       "          var s = document.createElement('script');\n",
       "          document.getElementsByTagName(\"head\")[0].appendChild(s);\n",
       "          s.async = true;\n",
       "          s.onload = () => {\n",
       "            VEGA_DEBUG[key] = version;\n",
       "            return resolve(paths[lib]);\n",
       "          };\n",
       "          s.onerror = () => reject(`Error loading script: ${paths[lib]}`);\n",
       "          s.src = paths[lib];\n",
       "        });\n",
       "    }\n",
       "\n",
       "    function showError(err) {\n",
       "      outputDiv.innerHTML = `<div class=\"error\" style=\"color:red;\">${err}</div>`;\n",
       "      throw err;\n",
       "    }\n",
       "\n",
       "    function displayChart(vegaEmbed) {\n",
       "      vegaEmbed(outputDiv, spec, embedOpt)\n",
       "        .catch(err => showError(`Javascript Error: ${err.message}<br>This usually means there's a typo in your chart specification. See the javascript console for the full traceback.`));\n",
       "    }\n",
       "\n",
       "    if(typeof define === \"function\" && define.amd) {\n",
       "      requirejs.config({paths});\n",
       "      require([\"vega-embed\"], displayChart, err => showError(`Error loading script: ${err.message}`));\n",
       "    } else {\n",
       "      maybeLoadScript(\"vega\", \"5\")\n",
       "        .then(() => maybeLoadScript(\"vega-lite\", \"5.2.0\"))\n",
       "        .then(() => maybeLoadScript(\"vega-embed\", \"6\"))\n",
       "        .catch(showError)\n",
       "        .then(() => displayChart(vegaEmbed));\n",
       "    }\n",
       "  })({\"config\": {\"view\": {\"continuousWidth\": 400, \"continuousHeight\": 300}}, \"hconcat\": [{\"vconcat\": [{\"hconcat\": [{\"layer\": [{\"data\": {\"name\": \"data-68b5c016b915493a3b939a63f9cdf903\"}, \"mark\": {\"type\": \"point\", \"color\": \"black\", \"fillOpacity\": 1, \"strokeWidth\": 1}, \"encoding\": {\"fill\": {\"field\": \"is_present\", \"legend\": {\"title\": [\"Observed data\"]}, \"scale\": {\"range\": [\"black\", \"#ffffff00\"]}, \"type\": \"nominal\"}, \"shape\": {\"field\": \"is_present\", \"type\": \"nominal\"}, \"x\": {\"axis\": {\"domain\": true, \"labels\": true, \"ticks\": true, \"title\": \"time\"}, \"field\": \"time\", \"type\": \"temporal\"}, \"y\": {\"field\": \"value\", \"scale\": {\"zero\": false}, \"title\": \"TA\", \"type\": \"quantitative\"}}}, {\"layer\": [{\"mark\": \"rule\", \"encoding\": {\"x\": {\"axis\": {\"domain\": false, \"labels\": false, \"ticks\": false, \"title\": null}, \"field\": \"gap_start\", \"type\": \"temporal\"}}}, {\"mark\": \"rule\", \"encoding\": {\"x\": {\"axis\": {\"domain\": false, \"labels\": false, \"ticks\": false, \"title\": null}, \"field\": \"gap_end\", \"type\": \"temporal\"}}}, {\"mark\": {\"type\": \"rect\", \"color\": \"black\", \"opacity\": 0.2}, \"encoding\": {\"x\": {\"axis\": {\"domain\": false, \"labels\": false, \"ticks\": false, \"title\": null}, \"field\": \"gap_start\", \"type\": \"temporal\"}, \"x2\": {\"field\": \"gap_end\"}}}], \"data\": {\"name\": \"data-19684960febe60f28d0d10646d6ec6aa\"}}, {\"layer\": [{\"mark\": \"errorband\", \"encoding\": {\"color\": {\"field\": \"variable\", \"legend\": {\"title\": [\"Line: pred. mean\", \"area: +/- 2 std\"]}, \"type\": \"nominal\"}, \"x\": {\"field\": \"time\", \"type\": \"temporal\"}, \"y\": {\"field\": \"err_low\", \"scale\": {\"zero\": false}, \"title\": \"TA\", \"type\": \"quantitative\"}, \"y2\": {\"field\": \"err_high\"}}, \"name\": \"view_30\"}, {\"mark\": \"line\", \"encoding\": {\"color\": {\"field\": \"variable\", \"type\": \"nominal\"}, \"x\": {\"field\": \"time\", \"type\": \"temporal\"}, \"y\": {\"field\": \"mean\", \"scale\": {\"zero\": false}, \"title\": \"TA\", \"type\": \"quantitative\"}}}], \"data\": {\"name\": \"data-68b5c016b915493a3b939a63f9cdf903\"}}], \"height\": 150, \"title\": \"TA\", \"width\": 200}]}, {\"hconcat\": [{\"layer\": [{\"data\": {\"name\": \"data-7ee9411a5d814801dda697ef5a594c6e\"}, \"mark\": {\"type\": \"point\", \"color\": \"black\", \"fillOpacity\": 1, \"strokeWidth\": 1}, \"encoding\": {\"fill\": {\"field\": \"is_present\", \"legend\": {\"title\": [\"Observed data\"]}, \"scale\": {\"range\": [\"black\", \"#ffffff00\"]}, \"type\": \"nominal\"}, \"shape\": {\"field\": \"is_present\", \"type\": \"nominal\"}, \"x\": {\"axis\": {\"domain\": true, \"labels\": true, \"ticks\": true, \"title\": \"time\"}, \"field\": \"time\", \"type\": \"temporal\"}, \"y\": {\"field\": \"value\", \"scale\": {\"zero\": false}, \"title\": \"SW_IN\", \"type\": \"quantitative\"}}}, {\"layer\": [{\"mark\": \"rule\", \"encoding\": {\"x\": {\"axis\": {\"domain\": false, \"labels\": false, \"ticks\": false, \"title\": null}, \"field\": \"gap_start\", \"type\": \"temporal\"}}}, {\"mark\": \"rule\", \"encoding\": {\"x\": {\"axis\": {\"domain\": false, \"labels\": false, \"ticks\": false, \"title\": null}, \"field\": \"gap_end\", \"type\": \"temporal\"}}}, {\"mark\": {\"type\": \"rect\", \"color\": \"black\", \"opacity\": 0.2}, \"encoding\": {\"x\": {\"axis\": {\"domain\": false, \"labels\": false, \"ticks\": false, \"title\": null}, \"field\": \"gap_start\", \"type\": \"temporal\"}, \"x2\": {\"field\": \"gap_end\"}}}], \"data\": {\"name\": \"data-19684960febe60f28d0d10646d6ec6aa\"}}, {\"layer\": [{\"mark\": \"errorband\", \"encoding\": {\"color\": {\"field\": \"variable\", \"legend\": {\"title\": [\"Line: pred. mean\", \"area: +/- 2 std\"]}, \"type\": \"nominal\"}, \"x\": {\"field\": \"time\", \"type\": \"temporal\"}, \"y\": {\"field\": \"err_low\", \"scale\": {\"zero\": false}, \"title\": \"SW_IN\", \"type\": \"quantitative\"}, \"y2\": {\"field\": \"err_high\"}}, \"name\": \"view_31\"}, {\"mark\": \"line\", \"encoding\": {\"color\": {\"field\": \"variable\", \"type\": \"nominal\"}, \"x\": {\"field\": \"time\", \"type\": \"temporal\"}, \"y\": {\"field\": \"mean\", \"scale\": {\"zero\": false}, \"title\": \"SW_IN\", \"type\": \"quantitative\"}}}], \"data\": {\"name\": \"data-7ee9411a5d814801dda697ef5a594c6e\"}}], \"height\": 150, \"title\": \"SW_IN\", \"width\": 200}]}, {\"hconcat\": [{\"layer\": [{\"mark\": {\"type\": \"point\", \"color\": \"black\", \"fillOpacity\": 1, \"strokeWidth\": 1}, \"encoding\": {\"fill\": {\"field\": \"is_present\", \"legend\": {\"title\": [\"Observed data\"]}, \"scale\": {\"range\": [\"black\", \"#ffffff00\"]}, \"type\": \"nominal\"}, \"shape\": {\"field\": \"is_present\", \"type\": \"nominal\"}, \"x\": {\"axis\": {\"domain\": true, \"labels\": true, \"ticks\": true, \"title\": \"time\"}, \"field\": \"time\", \"type\": \"temporal\"}, \"y\": {\"field\": \"value\", \"scale\": {\"zero\": false}, \"title\": \"VPD\", \"type\": \"quantitative\"}}}, {\"layer\": [{\"mark\": \"errorband\", \"encoding\": {\"color\": {\"field\": \"variable\", \"legend\": {\"title\": [\"Line: pred. mean\", \"area: +/- 2 std\"]}, \"type\": \"nominal\"}, \"x\": {\"field\": \"time\", \"type\": \"temporal\"}, \"y\": {\"field\": \"err_low\", \"scale\": {\"zero\": false}, \"title\": \"VPD\", \"type\": \"quantitative\"}, \"y2\": {\"field\": \"err_high\"}}, \"name\": \"view_32\"}, {\"mark\": \"line\", \"encoding\": {\"color\": {\"field\": \"variable\", \"type\": \"nominal\"}, \"x\": {\"field\": \"time\", \"type\": \"temporal\"}, \"y\": {\"field\": \"mean\", \"scale\": {\"zero\": false}, \"title\": \"VPD\", \"type\": \"quantitative\"}}}]}], \"height\": 150, \"title\": \"VPD\", \"width\": 200}], \"data\": {\"name\": \"data-c4b4e4f6888eacfde2a624e7ce84b080\"}}], \"title\": \"loss: 74.268173\"}, {\"vconcat\": [{\"hconcat\": [{\"layer\": [{\"data\": {\"name\": \"data-8a93b1e1e5c4be8a72526f4e4f0192b4\"}, \"mark\": {\"type\": \"point\", \"color\": \"black\", \"fillOpacity\": 1, \"strokeWidth\": 1}, \"encoding\": {\"fill\": {\"field\": \"is_present\", \"legend\": {\"title\": [\"Observed data\"]}, \"scale\": {\"range\": [\"black\", \"#ffffff00\"]}, \"type\": \"nominal\"}, \"shape\": {\"field\": \"is_present\", \"type\": \"nominal\"}, \"x\": {\"axis\": {\"domain\": true, \"labels\": true, \"ticks\": true, \"title\": \"time\"}, \"field\": \"time\", \"type\": \"temporal\"}, \"y\": {\"field\": \"value\", \"scale\": {\"zero\": false}, \"title\": \"TA\", \"type\": \"quantitative\"}}}, {\"layer\": [{\"mark\": \"rule\", \"encoding\": {\"x\": {\"axis\": {\"domain\": false, \"labels\": false, \"ticks\": false, \"title\": null}, \"field\": \"gap_start\", \"type\": \"temporal\"}}}, {\"mark\": \"rule\", \"encoding\": {\"x\": {\"axis\": {\"domain\": false, \"labels\": false, \"ticks\": false, \"title\": null}, \"field\": \"gap_end\", \"type\": \"temporal\"}}}, {\"mark\": {\"type\": \"rect\", \"color\": \"black\", \"opacity\": 0.2}, \"encoding\": {\"x\": {\"axis\": {\"domain\": false, \"labels\": false, \"ticks\": false, \"title\": null}, \"field\": \"gap_start\", \"type\": \"temporal\"}, \"x2\": {\"field\": \"gap_end\"}}}], \"data\": {\"name\": \"data-23592f764abe330463debe9c7f312b6b\"}}, {\"layer\": [{\"mark\": \"errorband\", \"encoding\": {\"color\": {\"field\": \"variable\", \"legend\": {\"title\": [\"Line: pred. mean\", \"area: +/- 2 std\"]}, \"type\": \"nominal\"}, \"x\": {\"field\": \"time\", \"type\": \"temporal\"}, \"y\": {\"field\": \"err_low\", \"scale\": {\"zero\": false}, \"title\": \"TA\", \"type\": \"quantitative\"}, \"y2\": {\"field\": \"err_high\"}}, \"name\": \"view_33\"}, {\"mark\": \"line\", \"encoding\": {\"color\": {\"field\": \"variable\", \"type\": \"nominal\"}, \"x\": {\"field\": \"time\", \"type\": \"temporal\"}, \"y\": {\"field\": \"mean\", \"scale\": {\"zero\": false}, \"title\": \"TA\", \"type\": \"quantitative\"}}}], \"data\": {\"name\": \"data-8a93b1e1e5c4be8a72526f4e4f0192b4\"}}], \"height\": 150, \"title\": \"TA\", \"width\": 200}]}, {\"hconcat\": [{\"layer\": [{\"data\": {\"name\": \"data-a5fecfaa08fbdadd9db3db147fbcae64\"}, \"mark\": {\"type\": \"point\", \"color\": \"black\", \"fillOpacity\": 1, \"strokeWidth\": 1}, \"encoding\": {\"fill\": {\"field\": \"is_present\", \"legend\": {\"title\": [\"Observed data\"]}, \"scale\": {\"range\": [\"black\", \"#ffffff00\"]}, \"type\": \"nominal\"}, \"shape\": {\"field\": \"is_present\", \"type\": \"nominal\"}, \"x\": {\"axis\": {\"domain\": true, \"labels\": true, \"ticks\": true, \"title\": \"time\"}, \"field\": \"time\", \"type\": \"temporal\"}, \"y\": {\"field\": \"value\", \"scale\": {\"zero\": false}, \"title\": \"SW_IN\", \"type\": \"quantitative\"}}}, {\"layer\": [{\"mark\": \"rule\", \"encoding\": {\"x\": {\"axis\": {\"domain\": false, \"labels\": false, \"ticks\": false, \"title\": null}, \"field\": \"gap_start\", \"type\": \"temporal\"}}}, {\"mark\": \"rule\", \"encoding\": {\"x\": {\"axis\": {\"domain\": false, \"labels\": false, \"ticks\": false, \"title\": null}, \"field\": \"gap_end\", \"type\": \"temporal\"}}}, {\"mark\": {\"type\": \"rect\", \"color\": \"black\", \"opacity\": 0.2}, \"encoding\": {\"x\": {\"axis\": {\"domain\": false, \"labels\": false, \"ticks\": false, \"title\": null}, \"field\": \"gap_start\", \"type\": \"temporal\"}, \"x2\": {\"field\": \"gap_end\"}}}], \"data\": {\"name\": \"data-23592f764abe330463debe9c7f312b6b\"}}, {\"layer\": [{\"mark\": \"errorband\", \"encoding\": {\"color\": {\"field\": \"variable\", \"legend\": {\"title\": [\"Line: pred. mean\", \"area: +/- 2 std\"]}, \"type\": \"nominal\"}, \"x\": {\"field\": \"time\", \"type\": \"temporal\"}, \"y\": {\"field\": \"err_low\", \"scale\": {\"zero\": false}, \"title\": \"SW_IN\", \"type\": \"quantitative\"}, \"y2\": {\"field\": \"err_high\"}}, \"name\": \"view_34\"}, {\"mark\": \"line\", \"encoding\": {\"color\": {\"field\": \"variable\", \"type\": \"nominal\"}, \"x\": {\"field\": \"time\", \"type\": \"temporal\"}, \"y\": {\"field\": \"mean\", \"scale\": {\"zero\": false}, \"title\": \"SW_IN\", \"type\": \"quantitative\"}}}], \"data\": {\"name\": \"data-a5fecfaa08fbdadd9db3db147fbcae64\"}}], \"height\": 150, \"title\": \"SW_IN\", \"width\": 200}]}, {\"hconcat\": [{\"layer\": [{\"mark\": {\"type\": \"point\", \"color\": \"black\", \"fillOpacity\": 1, \"strokeWidth\": 1}, \"encoding\": {\"fill\": {\"field\": \"is_present\", \"legend\": {\"title\": [\"Observed data\"]}, \"scale\": {\"range\": [\"black\", \"#ffffff00\"]}, \"type\": \"nominal\"}, \"shape\": {\"field\": \"is_present\", \"type\": \"nominal\"}, \"x\": {\"axis\": {\"domain\": true, \"labels\": true, \"ticks\": true, \"title\": \"time\"}, \"field\": \"time\", \"type\": \"temporal\"}, \"y\": {\"field\": \"value\", \"scale\": {\"zero\": false}, \"title\": \"VPD\", \"type\": \"quantitative\"}}}, {\"layer\": [{\"mark\": \"errorband\", \"encoding\": {\"color\": {\"field\": \"variable\", \"legend\": {\"title\": [\"Line: pred. mean\", \"area: +/- 2 std\"]}, \"type\": \"nominal\"}, \"x\": {\"field\": \"time\", \"type\": \"temporal\"}, \"y\": {\"field\": \"err_low\", \"scale\": {\"zero\": false}, \"title\": \"VPD\", \"type\": \"quantitative\"}, \"y2\": {\"field\": \"err_high\"}}, \"name\": \"view_35\"}, {\"mark\": \"line\", \"encoding\": {\"color\": {\"field\": \"variable\", \"type\": \"nominal\"}, \"x\": {\"field\": \"time\", \"type\": \"temporal\"}, \"y\": {\"field\": \"mean\", \"scale\": {\"zero\": false}, \"title\": \"VPD\", \"type\": \"quantitative\"}}}]}], \"height\": 150, \"title\": \"VPD\", \"width\": 200}], \"data\": {\"name\": \"data-8e225cf7120b45263cb457af93721b04\"}}], \"title\": \"loss: 73.505173\"}, {\"vconcat\": [{\"hconcat\": [{\"layer\": [{\"data\": {\"name\": \"data-a07cb25f1a29e17b89fc458ee50a8ce9\"}, \"mark\": {\"type\": \"point\", \"color\": \"black\", \"fillOpacity\": 1, \"strokeWidth\": 1}, \"encoding\": {\"fill\": {\"field\": \"is_present\", \"legend\": {\"title\": [\"Observed data\"]}, \"scale\": {\"range\": [\"black\", \"#ffffff00\"]}, \"type\": \"nominal\"}, \"shape\": {\"field\": \"is_present\", \"type\": \"nominal\"}, \"x\": {\"axis\": {\"domain\": true, \"labels\": true, \"ticks\": true, \"title\": \"time\"}, \"field\": \"time\", \"type\": \"temporal\"}, \"y\": {\"field\": \"value\", \"scale\": {\"zero\": false}, \"title\": \"TA\", \"type\": \"quantitative\"}}}, {\"layer\": [{\"mark\": \"rule\", \"encoding\": {\"x\": {\"axis\": {\"domain\": false, \"labels\": false, \"ticks\": false, \"title\": null}, \"field\": \"gap_start\", \"type\": \"temporal\"}}}, {\"mark\": \"rule\", \"encoding\": {\"x\": {\"axis\": {\"domain\": false, \"labels\": false, \"ticks\": false, \"title\": null}, \"field\": \"gap_end\", \"type\": \"temporal\"}}}, {\"mark\": {\"type\": \"rect\", \"color\": \"black\", \"opacity\": 0.2}, \"encoding\": {\"x\": {\"axis\": {\"domain\": false, \"labels\": false, \"ticks\": false, \"title\": null}, \"field\": \"gap_start\", \"type\": \"temporal\"}, \"x2\": {\"field\": \"gap_end\"}}}], \"data\": {\"name\": \"data-b98889c6f04a6c5d586f16080dc0b040\"}}, {\"layer\": [{\"mark\": \"errorband\", \"encoding\": {\"color\": {\"field\": \"variable\", \"legend\": {\"title\": [\"Line: pred. mean\", \"area: +/- 2 std\"]}, \"type\": \"nominal\"}, \"x\": {\"field\": \"time\", \"type\": \"temporal\"}, \"y\": {\"field\": \"err_low\", \"scale\": {\"zero\": false}, \"title\": \"TA\", \"type\": \"quantitative\"}, \"y2\": {\"field\": \"err_high\"}}, \"name\": \"view_36\"}, {\"mark\": \"line\", \"encoding\": {\"color\": {\"field\": \"variable\", \"type\": \"nominal\"}, \"x\": {\"field\": \"time\", \"type\": \"temporal\"}, \"y\": {\"field\": \"mean\", \"scale\": {\"zero\": false}, \"title\": \"TA\", \"type\": \"quantitative\"}}}], \"data\": {\"name\": \"data-a07cb25f1a29e17b89fc458ee50a8ce9\"}}], \"height\": 150, \"title\": \"TA\", \"width\": 200}]}, {\"hconcat\": [{\"layer\": [{\"data\": {\"name\": \"data-f30673217491f2085eb30c53f8e1e5f4\"}, \"mark\": {\"type\": \"point\", \"color\": \"black\", \"fillOpacity\": 1, \"strokeWidth\": 1}, \"encoding\": {\"fill\": {\"field\": \"is_present\", \"legend\": {\"title\": [\"Observed data\"]}, \"scale\": {\"range\": [\"black\", \"#ffffff00\"]}, \"type\": \"nominal\"}, \"shape\": {\"field\": \"is_present\", \"type\": \"nominal\"}, \"x\": {\"axis\": {\"domain\": true, \"labels\": true, \"ticks\": true, \"title\": \"time\"}, \"field\": \"time\", \"type\": \"temporal\"}, \"y\": {\"field\": \"value\", \"scale\": {\"zero\": false}, \"title\": \"SW_IN\", \"type\": \"quantitative\"}}}, {\"layer\": [{\"mark\": \"rule\", \"encoding\": {\"x\": {\"axis\": {\"domain\": false, \"labels\": false, \"ticks\": false, \"title\": null}, \"field\": \"gap_start\", \"type\": \"temporal\"}}}, {\"mark\": \"rule\", \"encoding\": {\"x\": {\"axis\": {\"domain\": false, \"labels\": false, \"ticks\": false, \"title\": null}, \"field\": \"gap_end\", \"type\": \"temporal\"}}}, {\"mark\": {\"type\": \"rect\", \"color\": \"black\", \"opacity\": 0.2}, \"encoding\": {\"x\": {\"axis\": {\"domain\": false, \"labels\": false, \"ticks\": false, \"title\": null}, \"field\": \"gap_start\", \"type\": \"temporal\"}, \"x2\": {\"field\": \"gap_end\"}}}], \"data\": {\"name\": \"data-b98889c6f04a6c5d586f16080dc0b040\"}}, {\"layer\": [{\"mark\": \"errorband\", \"encoding\": {\"color\": {\"field\": \"variable\", \"legend\": {\"title\": [\"Line: pred. mean\", \"area: +/- 2 std\"]}, \"type\": \"nominal\"}, \"x\": {\"field\": \"time\", \"type\": \"temporal\"}, \"y\": {\"field\": \"err_low\", \"scale\": {\"zero\": false}, \"title\": \"SW_IN\", \"type\": \"quantitative\"}, \"y2\": {\"field\": \"err_high\"}}, \"name\": \"view_37\"}, {\"mark\": \"line\", \"encoding\": {\"color\": {\"field\": \"variable\", \"type\": \"nominal\"}, \"x\": {\"field\": \"time\", \"type\": \"temporal\"}, \"y\": {\"field\": \"mean\", \"scale\": {\"zero\": false}, \"title\": \"SW_IN\", \"type\": \"quantitative\"}}}], \"data\": {\"name\": \"data-f30673217491f2085eb30c53f8e1e5f4\"}}], \"height\": 150, \"title\": \"SW_IN\", \"width\": 200}]}, {\"hconcat\": [{\"layer\": [{\"mark\": {\"type\": \"point\", \"color\": \"black\", \"fillOpacity\": 1, \"strokeWidth\": 1}, \"encoding\": {\"fill\": {\"field\": \"is_present\", \"legend\": {\"title\": [\"Observed data\"]}, \"scale\": {\"range\": [\"black\", \"#ffffff00\"]}, \"type\": \"nominal\"}, \"shape\": {\"field\": \"is_present\", \"type\": \"nominal\"}, \"x\": {\"axis\": {\"domain\": true, \"labels\": true, \"ticks\": true, \"title\": \"time\"}, \"field\": \"time\", \"type\": \"temporal\"}, \"y\": {\"field\": \"value\", \"scale\": {\"zero\": false}, \"title\": \"VPD\", \"type\": \"quantitative\"}}}, {\"layer\": [{\"mark\": \"errorband\", \"encoding\": {\"color\": {\"field\": \"variable\", \"legend\": {\"title\": [\"Line: pred. mean\", \"area: +/- 2 std\"]}, \"type\": \"nominal\"}, \"x\": {\"field\": \"time\", \"type\": \"temporal\"}, \"y\": {\"field\": \"err_low\", \"scale\": {\"zero\": false}, \"title\": \"VPD\", \"type\": \"quantitative\"}, \"y2\": {\"field\": \"err_high\"}}, \"name\": \"view_38\"}, {\"mark\": \"line\", \"encoding\": {\"color\": {\"field\": \"variable\", \"type\": \"nominal\"}, \"x\": {\"field\": \"time\", \"type\": \"temporal\"}, \"y\": {\"field\": \"mean\", \"scale\": {\"zero\": false}, \"title\": \"VPD\", \"type\": \"quantitative\"}}}]}], \"height\": 150, \"title\": \"VPD\", \"width\": 200}], \"data\": {\"name\": \"data-dd23822e28614ebac51a4a45eadb1b1f\"}}], \"title\": \"loss: 67.593445\"}], \"params\": [{\"name\": \"param_43\", \"select\": {\"type\": \"interval\", \"encodings\": [\"x\"]}, \"bind\": \"scales\", \"views\": [\"view_30\", \"view_31\", \"view_32\"]}, {\"name\": \"param_47\", \"select\": {\"type\": \"interval\", \"encodings\": [\"x\"]}, \"bind\": \"scales\", \"views\": [\"view_33\", \"view_34\", \"view_35\"]}, {\"name\": \"param_51\", \"select\": {\"type\": \"interval\", \"encodings\": [\"x\"]}, \"bind\": \"scales\", \"views\": [\"view_36\", \"view_37\", \"view_38\"]}], \"$schema\": \"https://vega.github.io/schema/vega-lite/v5.2.0.json\", \"datasets\": {\"data-68b5c016b915493a3b939a63f9cdf903\": [{\"time\": \"2000-01-01T05:30:00\", \"variable\": \"TA\", \"value\": -0.23000000417232513, \"is_present\": true, \"mean\": 14.995841979980469, \"std\": 8.876554489135742, \"err_low\": -2.7572669982910156, \"err_high\": 32.74895095825195}, {\"time\": \"2000-01-01T06:00:00\", \"variable\": \"TA\", \"value\": -0.23000000417232513, \"is_present\": true, \"mean\": 12.223997116088867, \"std\": 9.406501770019531, \"err_low\": -6.589006423950195, \"err_high\": 31.03700065612793}, {\"time\": \"2000-01-01T06:30:00\", \"variable\": \"TA\", \"value\": -0.2199999988079071, \"is_present\": true, \"mean\": 13.182697296142578, \"std\": 9.332038879394531, \"err_low\": -5.481380462646484, \"err_high\": 31.84677505493164}, {\"time\": \"2000-01-01T07:00:00\", \"variable\": \"TA\", \"value\": -0.23999999463558197, \"is_present\": true, \"mean\": 13.70973014831543, \"std\": 9.300195693969727, \"err_low\": -4.890661239624023, \"err_high\": 32.31011962890625}, {\"time\": \"2000-01-01T07:30:00\", \"variable\": \"TA\", \"value\": -0.23000000417232513, \"is_present\": true, \"mean\": 14.14128303527832, \"std\": 9.288410186767578, \"err_low\": -4.435537338256836, \"err_high\": 32.718101501464844}, {\"time\": \"2000-01-01T08:00:00\", \"variable\": \"TA\", \"value\": -0.2199999988079071, \"is_present\": false, \"mean\": 14.403399467468262, \"std\": 9.283295631408691, \"err_low\": -4.163191795349121, \"err_high\": 32.96998977661133}, {\"time\": \"2000-01-01T08:30:00\", \"variable\": \"TA\", \"value\": -0.1899999976158142, \"is_present\": false, \"mean\": 16.53304672241211, \"std\": 11.115120887756348, \"err_low\": -5.697195053100586, \"err_high\": 38.76329040527344}, {\"time\": \"2000-01-01T09:00:00\", \"variable\": \"TA\", \"value\": -0.14000000059604645, \"is_present\": true, \"mean\": 20.539344787597656, \"std\": 15.003883361816406, \"err_low\": -9.468421936035156, \"err_high\": 50.54711151123047}, {\"time\": \"2000-01-01T09:30:00\", \"variable\": \"TA\", \"value\": -0.029999999329447746, \"is_present\": true, \"mean\": 13.789782524108887, \"std\": 9.817106246948242, \"err_low\": -5.844429969787598, \"err_high\": 33.42399597167969}, {\"time\": \"2000-01-01T10:00:00\", \"variable\": \"TA\", \"value\": 0.03999999910593033, \"is_present\": true, \"mean\": 13.296802520751953, \"std\": 9.464556694030762, \"err_low\": -5.63231086730957, \"err_high\": 32.225914001464844}], \"data-19684960febe60f28d0d10646d6ec6aa\": [{\"gap_start\": \"2000-01-01T08:00:00\", \"gap_end\": \"2000-01-01T08:30:00\"}], \"data-7ee9411a5d814801dda697ef5a594c6e\": [{\"time\": \"2000-01-01T05:30:00\", \"variable\": \"SW_IN\", \"value\": 0.0, \"is_present\": true, \"mean\": 460.6117248535156, \"std\": 381.2783203125, \"err_low\": -301.9449157714844, \"err_high\": 1223.1683349609375}, {\"time\": \"2000-01-01T06:00:00\", \"variable\": \"SW_IN\", \"value\": 0.0, \"is_present\": true, \"mean\": 290.8353271484375, \"std\": 483.6481628417969, \"err_low\": -676.4609985351562, \"err_high\": 1258.131591796875}, {\"time\": \"2000-01-01T06:30:00\", \"variable\": \"SW_IN\", \"value\": 0.0, \"is_present\": true, \"mean\": 299.9490966796875, \"std\": 472.2611999511719, \"err_low\": -644.5733032226562, \"err_high\": 1244.471435546875}, {\"time\": \"2000-01-01T07:00:00\", \"variable\": \"SW_IN\", \"value\": 0.0, \"is_present\": true, \"mean\": 348.39190673828125, \"std\": 471.9456787109375, \"err_low\": -595.4994506835938, \"err_high\": 1292.283203125}, {\"time\": \"2000-01-01T07:30:00\", \"variable\": \"SW_IN\", \"value\": 0.0, \"is_present\": true, \"mean\": 366.9394226074219, \"std\": 470.61346435546875, \"err_low\": -574.2874755859375, \"err_high\": 1308.1663818359375}, {\"time\": \"2000-01-01T08:00:00\", \"variable\": \"SW_IN\", \"value\": 0.0, \"is_present\": false, \"mean\": 385.07806396484375, \"std\": 470.3898010253906, \"err_low\": -555.7015380859375, \"err_high\": 1325.857666015625}, {\"time\": \"2000-01-01T08:30:00\", \"variable\": \"SW_IN\", \"value\": 0.44999998807907104, \"is_present\": false, \"mean\": 583.1556396484375, \"std\": 691.954833984375, \"err_low\": -800.7540283203125, \"err_high\": 1967.0653076171875}, {\"time\": \"2000-01-01T09:00:00\", \"variable\": \"SW_IN\", \"value\": 3.700000047683716, \"is_present\": true, \"mean\": 844.8425903320312, \"std\": 988.468505859375, \"err_low\": -1132.094482421875, \"err_high\": 2821.779541015625}, {\"time\": \"2000-01-01T09:30:00\", \"variable\": \"SW_IN\", \"value\": 7.260000228881836, \"is_present\": true, \"mean\": 331.453125, \"std\": 503.7785339355469, \"err_low\": -676.1039428710938, \"err_high\": 1339.01025390625}, {\"time\": \"2000-01-01T10:00:00\", \"variable\": \"SW_IN\", \"value\": 12.239999771118164, \"is_present\": true, \"mean\": 316.3358154296875, \"std\": 484.7142028808594, \"err_low\": -653.0925903320312, \"err_high\": 1285.76416015625}], \"data-c4b4e4f6888eacfde2a624e7ce84b080\": [{\"time\": \"2000-01-01T05:30:00\", \"variable\": \"VPD\", \"value\": 0.1379999965429306, \"is_present\": true, \"mean\": 10.345367431640625, \"std\": 8.184657096862793, \"err_low\": -6.023946762084961, \"err_high\": 26.71468162536621}, {\"time\": \"2000-01-01T06:00:00\", \"variable\": \"VPD\", \"value\": 0.12200000137090683, \"is_present\": true, \"mean\": 5.767945289611816, \"std\": 10.745536804199219, \"err_low\": -15.723128318786621, \"err_high\": 27.259017944335938}, {\"time\": \"2000-01-01T06:30:00\", \"variable\": \"VPD\", \"value\": 0.09799999743700027, \"is_present\": true, \"mean\": 6.405083656311035, \"std\": 10.516959190368652, \"err_low\": -14.62883472442627, \"err_high\": 27.439002990722656}, {\"time\": \"2000-01-01T07:00:00\", \"variable\": \"VPD\", \"value\": 0.06599999964237213, \"is_present\": true, \"mean\": 7.394277572631836, \"std\": 10.49015998840332, \"err_low\": -13.586042404174805, \"err_high\": 28.374597549438477}, {\"time\": \"2000-01-01T07:30:00\", \"variable\": \"VPD\", \"value\": 0.04399999976158142, \"is_present\": true, \"mean\": 7.895811080932617, \"std\": 10.461592674255371, \"err_low\": -13.027374267578125, \"err_high\": 28.81899642944336}, {\"time\": \"2000-01-01T08:00:00\", \"variable\": \"VPD\", \"value\": 0.026000000536441803, \"is_present\": true, \"mean\": 8.300610542297363, \"std\": 10.454700469970703, \"err_low\": -12.608790397644043, \"err_high\": 29.210010528564453}, {\"time\": \"2000-01-01T08:30:00\", \"variable\": \"VPD\", \"value\": 0.01600000075995922, \"is_present\": true, \"mean\": 12.341981887817383, \"std\": 15.113208770751953, \"err_low\": -17.884435653686523, \"err_high\": 42.568397521972656}, {\"time\": \"2000-01-01T09:00:00\", \"variable\": \"VPD\", \"value\": 0.009999999776482582, \"is_present\": true, \"mean\": 18.418502807617188, \"std\": 21.98752212524414, \"err_low\": -25.556541442871094, \"err_high\": 62.39354705810547}, {\"time\": \"2000-01-01T09:30:00\", \"variable\": \"VPD\", \"value\": 0.006000000052154064, \"is_present\": true, \"mean\": 7.190861701965332, \"std\": 11.313920021057129, \"err_low\": -15.436978340148926, \"err_high\": 29.818702697753906}, {\"time\": \"2000-01-01T10:00:00\", \"variable\": \"VPD\", \"value\": 0.006000000052154064, \"is_present\": true, \"mean\": 6.709175109863281, \"std\": 10.794882774353027, \"err_low\": -14.880590438842773, \"err_high\": 28.298940658569336}], \"data-8a93b1e1e5c4be8a72526f4e4f0192b4\": [{\"time\": \"2000-01-01T10:30:00\", \"variable\": \"TA\", \"value\": 0.10000000149011612, \"is_present\": true, \"mean\": 14.995841979980469, \"std\": 8.876554489135742, \"err_low\": -2.7572669982910156, \"err_high\": 32.74895095825195}, {\"time\": \"2000-01-01T11:00:00\", \"variable\": \"TA\", \"value\": 0.18000000715255737, \"is_present\": true, \"mean\": 12.006061553955078, \"std\": 9.406501770019531, \"err_low\": -6.806941986083984, \"err_high\": 30.81906509399414}, {\"time\": \"2000-01-01T11:30:00\", \"variable\": \"TA\", \"value\": 0.20999999344348907, \"is_present\": true, \"mean\": 13.055949211120605, \"std\": 9.332038879394531, \"err_low\": -5.608128547668457, \"err_high\": 31.720027923583984}, {\"time\": \"2000-01-01T12:00:00\", \"variable\": \"TA\", \"value\": 0.23000000417232513, \"is_present\": true, \"mean\": 13.722639083862305, \"std\": 9.300195693969727, \"err_low\": -4.877752304077148, \"err_high\": 32.323028564453125}, {\"time\": \"2000-01-01T12:30:00\", \"variable\": \"TA\", \"value\": 0.33000001311302185, \"is_present\": true, \"mean\": 14.028440475463867, \"std\": 9.288410186767578, \"err_low\": -4.548379898071289, \"err_high\": 32.605262756347656}, {\"time\": \"2000-01-01T13:00:00\", \"variable\": \"TA\", \"value\": 0.4099999964237213, \"is_present\": true, \"mean\": 14.245538711547852, \"std\": 9.283295631408691, \"err_low\": -4.321052551269531, \"err_high\": 32.812129974365234}, {\"time\": \"2000-01-01T13:30:00\", \"variable\": \"TA\", \"value\": 0.4399999976158142, \"is_present\": true, \"mean\": 14.399137496948242, \"std\": 9.28125, \"err_low\": -4.163362503051758, \"err_high\": 32.961639404296875}, {\"time\": \"2000-01-01T14:00:00\", \"variable\": \"TA\", \"value\": 0.47999998927116394, \"is_present\": false, \"mean\": 14.545427322387695, \"std\": 9.28038501739502, \"err_low\": -4.015342712402344, \"err_high\": 33.106197357177734}, {\"time\": \"2000-01-01T14:30:00\", \"variable\": \"TA\", \"value\": 0.49000000953674316, \"is_present\": false, \"mean\": 16.56065559387207, \"std\": 11.109922409057617, \"err_low\": -5.659189224243164, \"err_high\": 38.78050231933594}, {\"time\": \"2000-01-01T15:00:00\", \"variable\": \"TA\", \"value\": 0.5099999904632568, \"is_present\": true, \"mean\": 20.69147491455078, \"std\": 14.994793891906738, \"err_low\": -9.298112869262695, \"err_high\": 50.681060791015625}], \"data-23592f764abe330463debe9c7f312b6b\": [{\"gap_start\": \"2000-01-01T14:00:00\", \"gap_end\": \"2000-01-01T14:30:00\"}], \"data-a5fecfaa08fbdadd9db3db147fbcae64\": [{\"time\": \"2000-01-01T10:30:00\", \"variable\": \"SW_IN\", \"value\": 16.510000228881836, \"is_present\": true, \"mean\": 460.6117248535156, \"std\": 381.2783203125, \"err_low\": -301.9449157714844, \"err_high\": 1223.1683349609375}, {\"time\": \"2000-01-01T11:00:00\", \"variable\": \"SW_IN\", \"value\": 24.729999542236328, \"is_present\": true, \"mean\": 267.8851013183594, \"std\": 483.6481628417969, \"err_low\": -699.4112548828125, \"err_high\": 1235.181396484375}, {\"time\": \"2000-01-01T11:30:00\", \"variable\": \"SW_IN\", \"value\": 47.41999816894531, \"is_present\": true, \"mean\": 286.66473388671875, \"std\": 472.2611999511719, \"err_low\": -657.857666015625, \"err_high\": 1231.1871337890625}, {\"time\": \"2000-01-01T12:00:00\", \"variable\": \"SW_IN\", \"value\": 22.049999237060547, \"is_present\": true, \"mean\": 335.7912902832031, \"std\": 471.9456787109375, \"err_low\": -608.10009765625, \"err_high\": 1279.6826171875}, {\"time\": \"2000-01-01T12:30:00\", \"variable\": \"SW_IN\", \"value\": 18.860000610351562, \"is_present\": true, \"mean\": 359.37841796875, \"std\": 470.61346435546875, \"err_low\": -581.8485107421875, \"err_high\": 1300.6053466796875}, {\"time\": \"2000-01-01T13:00:00\", \"variable\": \"SW_IN\", \"value\": 21.100000381469727, \"is_present\": true, \"mean\": 368.5102233886719, \"std\": 470.3898010253906, \"err_low\": -572.2694091796875, \"err_high\": 1309.289794921875}, {\"time\": \"2000-01-01T13:30:00\", \"variable\": \"SW_IN\", \"value\": 28.8700008392334, \"is_present\": true, \"mean\": 378.1612854003906, \"std\": 470.2049560546875, \"err_low\": -562.2486572265625, \"err_high\": 1318.5711669921875}, {\"time\": \"2000-01-01T14:00:00\", \"variable\": \"SW_IN\", \"value\": 24.219999313354492, \"is_present\": false, \"mean\": 384.3568420410156, \"std\": 470.15380859375, \"err_low\": -555.9508056640625, \"err_high\": 1324.6644287109375}, {\"time\": \"2000-01-01T14:30:00\", \"variable\": \"SW_IN\", \"value\": 24.350000381469727, \"is_present\": false, \"mean\": 591.7742919921875, \"std\": 691.5166625976562, \"err_low\": -791.259033203125, \"err_high\": 1974.8076171875}, {\"time\": \"2000-01-01T15:00:00\", \"variable\": \"SW_IN\", \"value\": 15.680000305175781, \"is_present\": true, \"mean\": 852.0076904296875, \"std\": 987.7612915039062, \"err_low\": -1123.514892578125, \"err_high\": 2827.5302734375}], \"data-8e225cf7120b45263cb457af93721b04\": [{\"time\": \"2000-01-01T10:30:00\", \"variable\": \"VPD\", \"value\": 0.006000000052154064, \"is_present\": true, \"mean\": 10.345367431640625, \"std\": 8.184657096862793, \"err_low\": -6.023946762084961, \"err_high\": 26.71468162536621}, {\"time\": \"2000-01-01T11:00:00\", \"variable\": \"VPD\", \"value\": 0.010999999940395355, \"is_present\": true, \"mean\": 5.326317310333252, \"std\": 10.745536804199219, \"err_low\": -16.164756774902344, \"err_high\": 26.81739044189453}, {\"time\": \"2000-01-01T11:30:00\", \"variable\": \"VPD\", \"value\": 0.01899999938905239, \"is_present\": true, \"mean\": 6.15909481048584, \"std\": 10.516959190368652, \"err_low\": -14.874823570251465, \"err_high\": 27.193012237548828}, {\"time\": \"2000-01-01T12:00:00\", \"variable\": \"VPD\", \"value\": 0.014000000432133675, \"is_present\": true, \"mean\": 7.253387451171875, \"std\": 10.49015998840332, \"err_low\": -13.726932525634766, \"err_high\": 28.233707427978516}, {\"time\": \"2000-01-01T12:30:00\", \"variable\": \"VPD\", \"value\": 0.00800000037997961, \"is_present\": true, \"mean\": 7.736956596374512, \"std\": 10.461592674255371, \"err_low\": -13.18622875213623, \"err_high\": 28.660140991210938}, {\"time\": \"2000-01-01T13:00:00\", \"variable\": \"VPD\", \"value\": 0.006000000052154064, \"is_present\": true, \"mean\": 7.980917930603027, \"std\": 10.454700469970703, \"err_low\": -12.928483009338379, \"err_high\": 28.89031982421875}, {\"time\": \"2000-01-01T13:30:00\", \"variable\": \"VPD\", \"value\": 0.0, \"is_present\": true, \"mean\": 8.20431900024414, \"std\": 10.45047378540039, \"err_low\": -12.69662857055664, \"err_high\": 29.105266571044922}, {\"time\": \"2000-01-01T14:00:00\", \"variable\": \"VPD\", \"value\": 0.0, \"is_present\": true, \"mean\": 8.379552841186523, \"std\": 10.449105262756348, \"err_low\": -12.518657684326172, \"err_high\": 29.27776336669922}, {\"time\": \"2000-01-01T14:30:00\", \"variable\": \"VPD\", \"value\": 0.0, \"is_present\": true, \"mean\": 12.478769302368164, \"std\": 15.103264808654785, \"err_low\": -17.727760314941406, \"err_high\": 42.685298919677734}, {\"time\": \"2000-01-01T15:00:00\", \"variable\": \"VPD\", \"value\": 0.0, \"is_present\": true, \"mean\": 18.610885620117188, \"std\": 21.97156524658203, \"err_low\": -25.332244873046875, \"err_high\": 62.55401611328125}], \"data-a07cb25f1a29e17b89fc458ee50a8ce9\": [{\"time\": \"2000-01-01T15:30:00\", \"variable\": \"TA\", \"value\": 0.5199999809265137, \"is_present\": true, \"mean\": 14.995841979980469, \"std\": 8.876554489135742, \"err_low\": -2.7572669982910156, \"err_high\": 32.74895095825195}, {\"time\": \"2000-01-01T16:00:00\", \"variable\": \"TA\", \"value\": 0.5699999928474426, \"is_present\": true, \"mean\": 11.939273834228516, \"std\": 9.406501770019531, \"err_low\": -6.873729705810547, \"err_high\": 30.752277374267578}, {\"time\": \"2000-01-01T16:30:00\", \"variable\": \"TA\", \"value\": 0.7300000190734863, \"is_present\": true, \"mean\": 12.769144058227539, \"std\": 9.332038879394531, \"err_low\": -5.894933700561523, \"err_high\": 31.4332218170166}, {\"time\": \"2000-01-01T17:00:00\", \"variable\": \"TA\", \"value\": 0.7699999809265137, \"is_present\": true, \"mean\": 13.145084381103516, \"std\": 9.300195693969727, \"err_low\": -5.4553070068359375, \"err_high\": 31.74547576904297}, {\"time\": \"2000-01-01T17:30:00\", \"variable\": \"TA\", \"value\": 0.8399999737739563, \"is_present\": true, \"mean\": 13.479700088500977, \"std\": 9.288410186767578, \"err_low\": -5.09712028503418, \"err_high\": 32.0565185546875}, {\"time\": \"2000-01-01T18:00:00\", \"variable\": \"TA\", \"value\": 0.9900000095367432, \"is_present\": true, \"mean\": 13.678455352783203, \"std\": 9.283295631408691, \"err_low\": -4.88813591003418, \"err_high\": 32.24504852294922}, {\"time\": \"2000-01-01T18:30:00\", \"variable\": \"TA\", \"value\": 1.350000023841858, \"is_present\": false, \"mean\": 13.776205062866211, \"std\": 9.28125, \"err_low\": -4.786294937133789, \"err_high\": 32.338706970214844}, {\"time\": \"2000-01-01T19:00:00\", \"variable\": \"TA\", \"value\": 1.8600000143051147, \"is_present\": false, \"mean\": 15.620043754577637, \"std\": 11.111188888549805, \"err_low\": -6.602334022521973, \"err_high\": 37.84242248535156}, {\"time\": \"2000-01-01T19:30:00\", \"variable\": \"TA\", \"value\": 2.009999990463257, \"is_present\": true, \"mean\": 19.122325897216797, \"std\": 14.997182846069336, \"err_low\": -10.872039794921875, \"err_high\": 49.11669158935547}, {\"time\": \"2000-01-01T20:00:00\", \"variable\": \"TA\", \"value\": 2.069999933242798, \"is_present\": true, \"mean\": 12.74001693725586, \"std\": 9.81718921661377, \"err_low\": -6.89436149597168, \"err_high\": 32.37439727783203}], \"data-b98889c6f04a6c5d586f16080dc0b040\": [{\"gap_start\": \"2000-01-01T18:30:00\", \"gap_end\": \"2000-01-01T19:00:00\"}], \"data-f30673217491f2085eb30c53f8e1e5f4\": [{\"time\": \"2000-01-01T15:30:00\", \"variable\": \"SW_IN\", \"value\": 8.09000015258789, \"is_present\": true, \"mean\": 460.6117248535156, \"std\": 381.2783203125, \"err_low\": -301.9449157714844, \"err_high\": 1223.1683349609375}, {\"time\": \"2000-01-01T16:00:00\", \"variable\": \"SW_IN\", \"value\": 6.369999885559082, \"is_present\": true, \"mean\": 266.3626403808594, \"std\": 483.6481628417969, \"err_low\": -700.9337158203125, \"err_high\": 1233.658935546875}, {\"time\": \"2000-01-01T16:30:00\", \"variable\": \"SW_IN\", \"value\": 1.7200000286102295, \"is_present\": true, \"mean\": 269.78094482421875, \"std\": 472.2611999511719, \"err_low\": -674.741455078125, \"err_high\": 1214.3033447265625}, {\"time\": \"2000-01-01T17:00:00\", \"variable\": \"SW_IN\", \"value\": 0.05999999865889549, \"is_present\": true, \"mean\": 309.4082946777344, \"std\": 471.9456787109375, \"err_low\": -634.4830322265625, \"err_high\": 1253.2996826171875}, {\"time\": \"2000-01-01T17:30:00\", \"variable\": \"SW_IN\", \"value\": 0.0, \"is_present\": true, \"mean\": 322.5036926269531, \"std\": 470.61346435546875, \"err_low\": -618.7232666015625, \"err_high\": 1263.7305908203125}, {\"time\": \"2000-01-01T18:00:00\", \"variable\": \"SW_IN\", \"value\": 0.0, \"is_present\": true, \"mean\": 336.8753967285156, \"std\": 470.3898010253906, \"err_low\": -603.9041748046875, \"err_high\": 1277.655029296875}, {\"time\": \"2000-01-01T18:30:00\", \"variable\": \"SW_IN\", \"value\": 0.0, \"is_present\": false, \"mean\": 341.1667175292969, \"std\": 470.2049560546875, \"err_low\": -599.2431640625, \"err_high\": 1281.57666015625}, {\"time\": \"2000-01-01T19:00:00\", \"variable\": \"SW_IN\", \"value\": 0.0, \"is_present\": false, \"mean\": 515.545166015625, \"std\": 691.6336059570312, \"err_low\": -867.7220458984375, \"err_high\": 1898.8123779296875}, {\"time\": \"2000-01-01T19:30:00\", \"variable\": \"SW_IN\", \"value\": 0.0, \"is_present\": true, \"mean\": 743.6766967773438, \"std\": 987.9404907226562, \"err_low\": -1232.204345703125, \"err_high\": 2719.5576171875}, {\"time\": \"2000-01-01T20:00:00\", \"variable\": \"SW_IN\", \"value\": 0.0, \"is_present\": true, \"mean\": 266.7889099121094, \"std\": 503.7942199707031, \"err_low\": -740.799560546875, \"err_high\": 1274.3773193359375}], \"data-dd23822e28614ebac51a4a45eadb1b1f\": [{\"time\": \"2000-01-01T15:30:00\", \"variable\": \"VPD\", \"value\": 0.0, \"is_present\": true, \"mean\": 10.345367431640625, \"std\": 8.184657096862793, \"err_low\": -6.023946762084961, \"err_high\": 26.71468162536621}, {\"time\": \"2000-01-01T16:00:00\", \"variable\": \"VPD\", \"value\": 0.0, \"is_present\": true, \"mean\": 5.25200080871582, \"std\": 10.745536804199219, \"err_low\": -16.239072799682617, \"err_high\": 26.743074417114258}, {\"time\": \"2000-01-01T16:30:00\", \"variable\": \"VPD\", \"value\": 0.0, \"is_present\": true, \"mean\": 5.7342071533203125, \"std\": 10.516959190368652, \"err_low\": -15.299711227416992, \"err_high\": 26.768125534057617}, {\"time\": \"2000-01-01T17:00:00\", \"variable\": \"VPD\", \"value\": 0.0, \"is_present\": true, \"mean\": 6.506418704986572, \"std\": 10.49015998840332, \"err_low\": -14.473901748657227, \"err_high\": 27.486738204956055}, {\"time\": \"2000-01-01T17:30:00\", \"variable\": \"VPD\", \"value\": 0.0, \"is_present\": true, \"mean\": 6.87357234954834, \"std\": 10.461592674255371, \"err_low\": -14.049612998962402, \"err_high\": 27.796756744384766}, {\"time\": \"2000-01-01T18:00:00\", \"variable\": \"VPD\", \"value\": 0.0, \"is_present\": true, \"mean\": 7.188107490539551, \"std\": 10.454700469970703, \"err_low\": -13.721293449401855, \"err_high\": 28.09750747680664}, {\"time\": \"2000-01-01T18:30:00\", \"variable\": \"VPD\", \"value\": 0.0, \"is_present\": true, \"mean\": 7.29982852935791, \"std\": 10.45047378540039, \"err_low\": -13.601119041442871, \"err_high\": 28.200775146484375}, {\"time\": \"2000-01-01T19:00:00\", \"variable\": \"VPD\", \"value\": 0.0020000000949949026, \"is_present\": true, \"mean\": 10.844962120056152, \"std\": 15.105826377868652, \"err_low\": -19.36669158935547, \"err_high\": 41.05661392211914}, {\"time\": \"2000-01-01T19:30:00\", \"variable\": \"VPD\", \"value\": 0.008999999612569809, \"is_present\": true, \"mean\": 16.14919662475586, \"std\": 21.975666046142578, \"err_low\": -27.802135467529297, \"err_high\": 60.100528717041016}, {\"time\": \"2000-01-01T20:00:00\", \"variable\": \"VPD\", \"value\": 0.014000000432133675, \"is_present\": true, \"mean\": 5.639016628265381, \"std\": 11.314236640930176, \"err_low\": -16.989456176757812, \"err_high\": 28.26749038696289}]}}, {\"mode\": \"vega-lite\"});\n",
       "</script>"
      ],
      "text/plain": [
       "alt.HConcatChart(...)"
      ]
     },
     "execution_count": null,
     "metadata": {},
     "output_type": "execute_result"
    }
   ],
   "source": [
    "show_results(learn, items=[1,2,3])"
   ]
  },
  {
   "cell_type": "code",
   "execution_count": null,
   "id": "6127a4ef-4559-4d5d-9aea-ce3fb210bf93",
   "metadata": {},
   "outputs": [
    {
     "data": {
      "text/html": [
       "<p style='font-size: 1.5rem; font-decoration: bold'><p><div style=\"display: flex; column-gap: 20px; flex-wrap: wrap;\" class='table table-striped table-sm'> <div> <p style='font-size: 1.3rem;'>trans_matrix (A)</p> <style type=\"text/css\">\n",
       "</style>\n",
       "<table id=\"T_55a4e\">\n",
       "  <thead>\n",
       "    <tr>\n",
       "      <th id=\"T_55a4e_level0_col0\" class=\"col_heading level0 col0\" >latent</th>\n",
       "      <th id=\"T_55a4e_level0_col1\" class=\"col_heading level0 col1\" >z_0</th>\n",
       "      <th id=\"T_55a4e_level0_col2\" class=\"col_heading level0 col2\" >z_1</th>\n",
       "      <th id=\"T_55a4e_level0_col3\" class=\"col_heading level0 col3\" >z_2</th>\n",
       "    </tr>\n",
       "  </thead>\n",
       "  <tbody>\n",
       "    <tr>\n",
       "      <td id=\"T_55a4e_row0_col0\" class=\"data row0 col0\" >z_0</td>\n",
       "      <td id=\"T_55a4e_row0_col1\" class=\"data row0 col1\" >0.7620</td>\n",
       "      <td id=\"T_55a4e_row0_col2\" class=\"data row0 col2\" >0.8830</td>\n",
       "      <td id=\"T_55a4e_row0_col3\" class=\"data row0 col3\" >0.2147</td>\n",
       "    </tr>\n",
       "    <tr>\n",
       "      <td id=\"T_55a4e_row1_col0\" class=\"data row1 col0\" >z_1</td>\n",
       "      <td id=\"T_55a4e_row1_col1\" class=\"data row1 col1\" >0.7923</td>\n",
       "      <td id=\"T_55a4e_row1_col2\" class=\"data row1 col2\" >0.1411</td>\n",
       "      <td id=\"T_55a4e_row1_col3\" class=\"data row1 col3\" >0.3346</td>\n",
       "    </tr>\n",
       "    <tr>\n",
       "      <td id=\"T_55a4e_row2_col0\" class=\"data row2 col0\" >z_2</td>\n",
       "      <td id=\"T_55a4e_row2_col1\" class=\"data row2 col1\" >0.1847</td>\n",
       "      <td id=\"T_55a4e_row2_col2\" class=\"data row2 col2\" >0.8327</td>\n",
       "      <td id=\"T_55a4e_row2_col3\" class=\"data row2 col3\" >0.1961</td>\n",
       "    </tr>\n",
       "  </tbody>\n",
       "</table>\n",
       " </div><div> <p style='font-size: 1.3rem;'>trans_cov (Q)</p> <style type=\"text/css\">\n",
       "</style>\n",
       "<table id=\"T_cfcfc\">\n",
       "  <thead>\n",
       "    <tr>\n",
       "      <th id=\"T_cfcfc_level0_col0\" class=\"col_heading level0 col0\" >latent</th>\n",
       "      <th id=\"T_cfcfc_level0_col1\" class=\"col_heading level0 col1\" >z_0</th>\n",
       "      <th id=\"T_cfcfc_level0_col2\" class=\"col_heading level0 col2\" >z_1</th>\n",
       "      <th id=\"T_cfcfc_level0_col3\" class=\"col_heading level0 col3\" >z_2</th>\n",
       "    </tr>\n",
       "  </thead>\n",
       "  <tbody>\n",
       "    <tr>\n",
       "      <td id=\"T_cfcfc_row0_col0\" class=\"data row0 col0\" >z_0</td>\n",
       "      <td id=\"T_cfcfc_row0_col1\" class=\"data row0 col1\" >0.4607</td>\n",
       "      <td id=\"T_cfcfc_row0_col2\" class=\"data row0 col2\" >0.8907</td>\n",
       "      <td id=\"T_cfcfc_row0_col3\" class=\"data row0 col3\" >0.7270</td>\n",
       "    </tr>\n",
       "    <tr>\n",
       "      <td id=\"T_cfcfc_row1_col0\" class=\"data row1 col0\" >z_1</td>\n",
       "      <td id=\"T_cfcfc_row1_col1\" class=\"data row1 col1\" >0.8907</td>\n",
       "      <td id=\"T_cfcfc_row1_col2\" class=\"data row1 col2\" >1.8019</td>\n",
       "      <td id=\"T_cfcfc_row1_col3\" class=\"data row1 col3\" >1.3905</td>\n",
       "    </tr>\n",
       "    <tr>\n",
       "      <td id=\"T_cfcfc_row2_col0\" class=\"data row2 col0\" >z_2</td>\n",
       "      <td id=\"T_cfcfc_row2_col1\" class=\"data row2 col1\" >0.7270</td>\n",
       "      <td id=\"T_cfcfc_row2_col2\" class=\"data row2 col2\" >1.3905</td>\n",
       "      <td id=\"T_cfcfc_row2_col3\" class=\"data row2 col3\" >1.6383</td>\n",
       "    </tr>\n",
       "  </tbody>\n",
       "</table>\n",
       " </div><div> <p style='font-size: 1.3rem;'>trans_off</p> <style type=\"text/css\">\n",
       "</style>\n",
       "<table id=\"T_51ed7\">\n",
       "  <thead>\n",
       "    <tr>\n",
       "      <th id=\"T_51ed7_level0_col0\" class=\"col_heading level0 col0\" >latent</th>\n",
       "      <th id=\"T_51ed7_level0_col1\" class=\"col_heading level0 col1\" >offset</th>\n",
       "    </tr>\n",
       "  </thead>\n",
       "  <tbody>\n",
       "    <tr>\n",
       "      <td id=\"T_51ed7_row0_col0\" class=\"data row0 col0\" >z_0</td>\n",
       "      <td id=\"T_51ed7_row0_col1\" class=\"data row0 col1\" >0.5652</td>\n",
       "    </tr>\n",
       "    <tr>\n",
       "      <td id=\"T_51ed7_row1_col0\" class=\"data row1 col0\" >z_1</td>\n",
       "      <td id=\"T_51ed7_row1_col1\" class=\"data row1 col1\" >0.1393</td>\n",
       "    </tr>\n",
       "    <tr>\n",
       "      <td id=\"T_51ed7_row2_col0\" class=\"data row2 col0\" >z_2</td>\n",
       "      <td id=\"T_51ed7_row2_col1\" class=\"data row2 col1\" >0.8201</td>\n",
       "    </tr>\n",
       "  </tbody>\n",
       "</table>\n",
       " </div><div> <p style='font-size: 1.3rem;'>obs_matrix (H)</p> <style type=\"text/css\">\n",
       "</style>\n",
       "<table id=\"T_acf7b\">\n",
       "  <thead>\n",
       "    <tr>\n",
       "      <th id=\"T_acf7b_level0_col0\" class=\"col_heading level0 col0\" >variable</th>\n",
       "      <th id=\"T_acf7b_level0_col1\" class=\"col_heading level0 col1\" >z_0</th>\n",
       "      <th id=\"T_acf7b_level0_col2\" class=\"col_heading level0 col2\" >z_1</th>\n",
       "      <th id=\"T_acf7b_level0_col3\" class=\"col_heading level0 col3\" >z_2</th>\n",
       "    </tr>\n",
       "  </thead>\n",
       "  <tbody>\n",
       "    <tr>\n",
       "      <td id=\"T_acf7b_row0_col0\" class=\"data row0 col0\" >x_0</td>\n",
       "      <td id=\"T_acf7b_row0_col1\" class=\"data row0 col1\" >0.1849</td>\n",
       "      <td id=\"T_acf7b_row0_col2\" class=\"data row0 col2\" >0.3723</td>\n",
       "      <td id=\"T_acf7b_row0_col3\" class=\"data row0 col3\" >-0.0151</td>\n",
       "    </tr>\n",
       "    <tr>\n",
       "      <td id=\"T_acf7b_row1_col0\" class=\"data row1 col0\" >x_1</td>\n",
       "      <td id=\"T_acf7b_row1_col1\" class=\"data row1 col1\" >0.2541</td>\n",
       "      <td id=\"T_acf7b_row1_col2\" class=\"data row1 col2\" >0.4939</td>\n",
       "      <td id=\"T_acf7b_row1_col3\" class=\"data row1 col3\" >1.0004</td>\n",
       "    </tr>\n",
       "    <tr>\n",
       "      <td id=\"T_acf7b_row2_col0\" class=\"data row2 col0\" >x_2</td>\n",
       "      <td id=\"T_acf7b_row2_col1\" class=\"data row2 col1\" >0.1905</td>\n",
       "      <td id=\"T_acf7b_row2_col2\" class=\"data row2 col2\" >0.9132</td>\n",
       "      <td id=\"T_acf7b_row2_col3\" class=\"data row2 col3\" >0.9354</td>\n",
       "    </tr>\n",
       "  </tbody>\n",
       "</table>\n",
       " </div><div> <p style='font-size: 1.3rem;'>obs_cov (R)</p> <style type=\"text/css\">\n",
       "</style>\n",
       "<table id=\"T_4159e\">\n",
       "  <thead>\n",
       "    <tr>\n",
       "      <th id=\"T_4159e_level0_col0\" class=\"col_heading level0 col0\" >variable</th>\n",
       "      <th id=\"T_4159e_level0_col1\" class=\"col_heading level0 col1\" >x_0</th>\n",
       "      <th id=\"T_4159e_level0_col2\" class=\"col_heading level0 col2\" >x_1</th>\n",
       "      <th id=\"T_4159e_level0_col3\" class=\"col_heading level0 col3\" >x_2</th>\n",
       "    </tr>\n",
       "  </thead>\n",
       "  <tbody>\n",
       "    <tr>\n",
       "      <td id=\"T_4159e_row0_col0\" class=\"data row0 col0\" >x_0</td>\n",
       "      <td id=\"T_4159e_row0_col1\" class=\"data row0 col1\" >1.2213</td>\n",
       "      <td id=\"T_4159e_row0_col2\" class=\"data row0 col2\" >1.1493</td>\n",
       "      <td id=\"T_4159e_row0_col3\" class=\"data row0 col3\" >1.0629</td>\n",
       "    </tr>\n",
       "    <tr>\n",
       "      <td id=\"T_4159e_row1_col0\" class=\"data row1 col0\" >x_1</td>\n",
       "      <td id=\"T_4159e_row1_col1\" class=\"data row1 col1\" >1.1493</td>\n",
       "      <td id=\"T_4159e_row1_col2\" class=\"data row1 col2\" >1.1359</td>\n",
       "      <td id=\"T_4159e_row1_col3\" class=\"data row1 col3\" >1.0939</td>\n",
       "    </tr>\n",
       "    <tr>\n",
       "      <td id=\"T_4159e_row2_col0\" class=\"data row2 col0\" >x_2</td>\n",
       "      <td id=\"T_4159e_row2_col1\" class=\"data row2 col1\" >1.0629</td>\n",
       "      <td id=\"T_4159e_row2_col2\" class=\"data row2 col2\" >1.0939</td>\n",
       "      <td id=\"T_4159e_row2_col3\" class=\"data row2 col3\" >1.2183</td>\n",
       "    </tr>\n",
       "  </tbody>\n",
       "</table>\n",
       " </div><div> <p style='font-size: 1.3rem;'>obs_off</p> <style type=\"text/css\">\n",
       "</style>\n",
       "<table id=\"T_25265\">\n",
       "  <thead>\n",
       "    <tr>\n",
       "      <th id=\"T_25265_level0_col0\" class=\"col_heading level0 col0\" >variable</th>\n",
       "      <th id=\"T_25265_level0_col1\" class=\"col_heading level0 col1\" >offset</th>\n",
       "    </tr>\n",
       "  </thead>\n",
       "  <tbody>\n",
       "    <tr>\n",
       "      <td id=\"T_25265_row0_col0\" class=\"data row0 col0\" >x_0</td>\n",
       "      <td id=\"T_25265_row0_col1\" class=\"data row0 col1\" >0.7413</td>\n",
       "    </tr>\n",
       "    <tr>\n",
       "      <td id=\"T_25265_row1_col0\" class=\"data row1 col0\" >x_1</td>\n",
       "      <td id=\"T_25265_row1_col1\" class=\"data row1 col1\" >0.5732</td>\n",
       "    </tr>\n",
       "    <tr>\n",
       "      <td id=\"T_25265_row2_col0\" class=\"data row2 col0\" >x_2</td>\n",
       "      <td id=\"T_25265_row2_col1\" class=\"data row2 col1\" >0.5480</td>\n",
       "    </tr>\n",
       "  </tbody>\n",
       "</table>\n",
       " </div><div> <p style='font-size: 1.3rem;'>init_state_mean</p> <style type=\"text/css\">\n",
       "</style>\n",
       "<table id=\"T_dd3e2\">\n",
       "  <thead>\n",
       "    <tr>\n",
       "      <th id=\"T_dd3e2_level0_col0\" class=\"col_heading level0 col0\" >latent</th>\n",
       "      <th id=\"T_dd3e2_level0_col1\" class=\"col_heading level0 col1\" >mean</th>\n",
       "    </tr>\n",
       "  </thead>\n",
       "  <tbody>\n",
       "    <tr>\n",
       "      <td id=\"T_dd3e2_row0_col0\" class=\"data row0 col0\" >z_0</td>\n",
       "      <td id=\"T_dd3e2_row0_col1\" class=\"data row0 col1\" >0.0672</td>\n",
       "    </tr>\n",
       "    <tr>\n",
       "      <td id=\"T_dd3e2_row1_col0\" class=\"data row1 col0\" >z_1</td>\n",
       "      <td id=\"T_dd3e2_row1_col1\" class=\"data row1 col1\" >0.6931</td>\n",
       "    </tr>\n",
       "    <tr>\n",
       "      <td id=\"T_dd3e2_row2_col0\" class=\"data row2 col0\" >z_2</td>\n",
       "      <td id=\"T_dd3e2_row2_col1\" class=\"data row2 col1\" >0.9265</td>\n",
       "    </tr>\n",
       "  </tbody>\n",
       "</table>\n",
       " </div><div> <p style='font-size: 1.3rem;'>init_state_cov</p> <style type=\"text/css\">\n",
       "</style>\n",
       "<table id=\"T_0070e\">\n",
       "  <thead>\n",
       "    <tr>\n",
       "      <th id=\"T_0070e_level0_col0\" class=\"col_heading level0 col0\" >latent</th>\n",
       "      <th id=\"T_0070e_level0_col1\" class=\"col_heading level0 col1\" >z_0</th>\n",
       "      <th id=\"T_0070e_level0_col2\" class=\"col_heading level0 col2\" >z_1</th>\n",
       "      <th id=\"T_0070e_level0_col3\" class=\"col_heading level0 col3\" >z_2</th>\n",
       "    </tr>\n",
       "  </thead>\n",
       "  <tbody>\n",
       "    <tr>\n",
       "      <td id=\"T_0070e_row0_col0\" class=\"data row0 col0\" >z_0</td>\n",
       "      <td id=\"T_0070e_row0_col1\" class=\"data row0 col1\" >1.1024</td>\n",
       "      <td id=\"T_0070e_row0_col2\" class=\"data row0 col2\" >0.9936</td>\n",
       "      <td id=\"T_0070e_row0_col3\" class=\"data row0 col3\" >0.6432</td>\n",
       "    </tr>\n",
       "    <tr>\n",
       "      <td id=\"T_0070e_row1_col0\" class=\"data row1 col0\" >z_1</td>\n",
       "      <td id=\"T_0070e_row1_col1\" class=\"data row1 col1\" >0.9936</td>\n",
       "      <td id=\"T_0070e_row1_col2\" class=\"data row1 col2\" >1.2147</td>\n",
       "      <td id=\"T_0070e_row1_col3\" class=\"data row1 col3\" >0.5984</td>\n",
       "    </tr>\n",
       "    <tr>\n",
       "      <td id=\"T_0070e_row2_col0\" class=\"data row2 col0\" >z_2</td>\n",
       "      <td id=\"T_0070e_row2_col1\" class=\"data row2 col1\" >0.6432</td>\n",
       "      <td id=\"T_0070e_row2_col2\" class=\"data row2 col2\" >0.5984</td>\n",
       "      <td id=\"T_0070e_row2_col3\" class=\"data row2 col3\" >1.3727</td>\n",
       "    </tr>\n",
       "  </tbody>\n",
       "</table>\n",
       " </div></div>"
      ],
      "text/plain": [
       "<IPython.core.display.HTML object>"
      ]
     },
     "metadata": {},
     "output_type": "display_data"
    }
   ],
   "source": [
    "display_as_row(learn.model.get_info())"
   ]
  },
  {
   "cell_type": "markdown",
   "id": "d09f23d4-5d1b-40cb-adf7-0985b452f42b",
   "metadata": {},
   "source": [
    "#### Interactive"
   ]
  },
  {
   "cell_type": "code",
   "execution_count": null,
   "id": "c9bea97c-c708-45af-8b06-a058f0e6c1f8",
   "metadata": {},
   "outputs": [],
   "source": [
    "#| export\n",
    "from ipywidgets import IntSlider, interact_manual, Text"
   ]
  },
  {
   "cell_type": "code",
   "execution_count": null,
   "id": "f701cf43-72a7-47bd-bf6e-4d2c051fd3ef",
   "metadata": {},
   "outputs": [],
   "source": [
    "#| export\n",
    "def results_custom_gap(learn, df, var_sel, gap_len, items_idx, block_len):\n",
    "    pipeline = [BlockDfTransform(df, block_len),\n",
    "                AddGapTransform(var_sel, gap_len),\n",
    "                MaskedDf2Tensor,\n",
    "                NormalizeMasked(*get_stats(df))]\n",
    "    \n",
    "    dls = Datasets(items_idx, [pipeline, pipeline]).dataloaders(bs=len(items_idx))\n",
    "    return get_results(learn, items=items_idx, dls=dls)"
   ]
  },
  {
   "cell_type": "code",
   "execution_count": null,
   "id": "eba864dd-5b28-4a18-a88b-a70ab4a36aa7",
   "metadata": {},
   "outputs": [
    {
     "data": {
      "text/html": [
       "\n",
       "<div id=\"altair-viz-340a08f7c49c4aa1a32202f18fb7bf6f\"></div>\n",
       "<script type=\"text/javascript\">\n",
       "  var VEGA_DEBUG = (typeof VEGA_DEBUG == \"undefined\") ? {} : VEGA_DEBUG;\n",
       "  (function(spec, embedOpt){\n",
       "    let outputDiv = document.currentScript.previousElementSibling;\n",
       "    if (outputDiv.id !== \"altair-viz-340a08f7c49c4aa1a32202f18fb7bf6f\") {\n",
       "      outputDiv = document.getElementById(\"altair-viz-340a08f7c49c4aa1a32202f18fb7bf6f\");\n",
       "    }\n",
       "    const paths = {\n",
       "      \"vega\": \"https://cdn.jsdelivr.net/npm//vega@5?noext\",\n",
       "      \"vega-lib\": \"https://cdn.jsdelivr.net/npm//vega-lib?noext\",\n",
       "      \"vega-lite\": \"https://cdn.jsdelivr.net/npm//vega-lite@5.2.0?noext\",\n",
       "      \"vega-embed\": \"https://cdn.jsdelivr.net/npm//vega-embed@6?noext\",\n",
       "    };\n",
       "\n",
       "    function maybeLoadScript(lib, version) {\n",
       "      var key = `${lib.replace(\"-\", \"\")}_version`;\n",
       "      return (VEGA_DEBUG[key] == version) ?\n",
       "        Promise.resolve(paths[lib]) :\n",
       "        new Promise(function(resolve, reject) {\n",
       "          var s = document.createElement('script');\n",
       "          document.getElementsByTagName(\"head\")[0].appendChild(s);\n",
       "          s.async = true;\n",
       "          s.onload = () => {\n",
       "            VEGA_DEBUG[key] = version;\n",
       "            return resolve(paths[lib]);\n",
       "          };\n",
       "          s.onerror = () => reject(`Error loading script: ${paths[lib]}`);\n",
       "          s.src = paths[lib];\n",
       "        });\n",
       "    }\n",
       "\n",
       "    function showError(err) {\n",
       "      outputDiv.innerHTML = `<div class=\"error\" style=\"color:red;\">${err}</div>`;\n",
       "      throw err;\n",
       "    }\n",
       "\n",
       "    function displayChart(vegaEmbed) {\n",
       "      vegaEmbed(outputDiv, spec, embedOpt)\n",
       "        .catch(err => showError(`Javascript Error: ${err.message}<br>This usually means there's a typo in your chart specification. See the javascript console for the full traceback.`));\n",
       "    }\n",
       "\n",
       "    if(typeof define === \"function\" && define.amd) {\n",
       "      requirejs.config({paths});\n",
       "      require([\"vega-embed\"], displayChart, err => showError(`Error loading script: ${err.message}`));\n",
       "    } else {\n",
       "      maybeLoadScript(\"vega\", \"5\")\n",
       "        .then(() => maybeLoadScript(\"vega-lite\", \"5.2.0\"))\n",
       "        .then(() => maybeLoadScript(\"vega-embed\", \"6\"))\n",
       "        .catch(showError)\n",
       "        .then(() => displayChart(vegaEmbed));\n",
       "    }\n",
       "  })({\"config\": {\"view\": {\"continuousWidth\": 400, \"continuousHeight\": 300}}, \"hconcat\": [{\"vconcat\": [{\"hconcat\": [{\"layer\": [{\"data\": {\"name\": \"data-98d76d652aeb7aeeef541f0cbc1729c2\"}, \"mark\": {\"type\": \"point\", \"color\": \"black\", \"fillOpacity\": 1, \"strokeWidth\": 1}, \"encoding\": {\"fill\": {\"field\": \"is_present\", \"legend\": {\"title\": [\"Observed data\"]}, \"scale\": {\"range\": [\"black\", \"#ffffff00\"]}, \"type\": \"nominal\"}, \"shape\": {\"field\": \"is_present\", \"type\": \"nominal\"}, \"x\": {\"axis\": {\"domain\": true, \"labels\": true, \"ticks\": true, \"title\": \"time\"}, \"field\": \"time\", \"type\": \"temporal\"}, \"y\": {\"field\": \"value\", \"scale\": {\"zero\": false}, \"title\": \"TA\", \"type\": \"quantitative\"}}}, {\"layer\": [{\"mark\": \"rule\", \"encoding\": {\"x\": {\"axis\": {\"domain\": false, \"labels\": false, \"ticks\": false, \"title\": null}, \"field\": \"gap_start\", \"type\": \"temporal\"}}}, {\"mark\": \"rule\", \"encoding\": {\"x\": {\"axis\": {\"domain\": false, \"labels\": false, \"ticks\": false, \"title\": null}, \"field\": \"gap_end\", \"type\": \"temporal\"}}}, {\"mark\": {\"type\": \"rect\", \"color\": \"black\", \"opacity\": 0.2}, \"encoding\": {\"x\": {\"axis\": {\"domain\": false, \"labels\": false, \"ticks\": false, \"title\": null}, \"field\": \"gap_start\", \"type\": \"temporal\"}, \"x2\": {\"field\": \"gap_end\"}}}], \"data\": {\"name\": \"data-74c51f3c946cbb2ea84390426f08a66b\"}}, {\"layer\": [{\"mark\": \"errorband\", \"encoding\": {\"color\": {\"field\": \"variable\", \"legend\": {\"title\": [\"Line: pred. mean\", \"area: +/- 2 std\"]}, \"type\": \"nominal\"}, \"x\": {\"field\": \"time\", \"type\": \"temporal\"}, \"y\": {\"field\": \"err_low\", \"scale\": {\"zero\": false}, \"title\": \"TA\", \"type\": \"quantitative\"}, \"y2\": {\"field\": \"err_high\"}}, \"name\": \"view_39\"}, {\"mark\": \"line\", \"encoding\": {\"color\": {\"field\": \"variable\", \"type\": \"nominal\"}, \"x\": {\"field\": \"time\", \"type\": \"temporal\"}, \"y\": {\"field\": \"mean\", \"scale\": {\"zero\": false}, \"title\": \"TA\", \"type\": \"quantitative\"}}}], \"data\": {\"name\": \"data-98d76d652aeb7aeeef541f0cbc1729c2\"}}], \"height\": 150, \"title\": \"TA\", \"width\": 200}]}, {\"hconcat\": [{\"layer\": [{\"mark\": {\"type\": \"point\", \"color\": \"black\", \"fillOpacity\": 1, \"strokeWidth\": 1}, \"encoding\": {\"fill\": {\"field\": \"is_present\", \"legend\": {\"title\": [\"Observed data\"]}, \"scale\": {\"range\": [\"black\", \"#ffffff00\"]}, \"type\": \"nominal\"}, \"shape\": {\"field\": \"is_present\", \"type\": \"nominal\"}, \"x\": {\"axis\": {\"domain\": true, \"labels\": true, \"ticks\": true, \"title\": \"time\"}, \"field\": \"time\", \"type\": \"temporal\"}, \"y\": {\"field\": \"value\", \"scale\": {\"zero\": false}, \"title\": \"SW_IN\", \"type\": \"quantitative\"}}}, {\"layer\": [{\"mark\": \"errorband\", \"encoding\": {\"color\": {\"field\": \"variable\", \"legend\": {\"title\": [\"Line: pred. mean\", \"area: +/- 2 std\"]}, \"type\": \"nominal\"}, \"x\": {\"field\": \"time\", \"type\": \"temporal\"}, \"y\": {\"field\": \"err_low\", \"scale\": {\"zero\": false}, \"title\": \"SW_IN\", \"type\": \"quantitative\"}, \"y2\": {\"field\": \"err_high\"}}, \"name\": \"view_40\"}, {\"mark\": \"line\", \"encoding\": {\"color\": {\"field\": \"variable\", \"type\": \"nominal\"}, \"x\": {\"field\": \"time\", \"type\": \"temporal\"}, \"y\": {\"field\": \"mean\", \"scale\": {\"zero\": false}, \"title\": \"SW_IN\", \"type\": \"quantitative\"}}}]}], \"height\": 150, \"title\": \"SW_IN\", \"width\": 200}], \"data\": {\"name\": \"data-9697b9c54420e0c035aa7808dde5f1d1\"}}, {\"hconcat\": [{\"layer\": [{\"mark\": {\"type\": \"point\", \"color\": \"black\", \"fillOpacity\": 1, \"strokeWidth\": 1}, \"encoding\": {\"fill\": {\"field\": \"is_present\", \"legend\": {\"title\": [\"Observed data\"]}, \"scale\": {\"range\": [\"black\", \"#ffffff00\"]}, \"type\": \"nominal\"}, \"shape\": {\"field\": \"is_present\", \"type\": \"nominal\"}, \"x\": {\"axis\": {\"domain\": true, \"labels\": true, \"ticks\": true, \"title\": \"time\"}, \"field\": \"time\", \"type\": \"temporal\"}, \"y\": {\"field\": \"value\", \"scale\": {\"zero\": false}, \"title\": \"VPD\", \"type\": \"quantitative\"}}}, {\"layer\": [{\"mark\": \"errorband\", \"encoding\": {\"color\": {\"field\": \"variable\", \"legend\": {\"title\": [\"Line: pred. mean\", \"area: +/- 2 std\"]}, \"type\": \"nominal\"}, \"x\": {\"field\": \"time\", \"type\": \"temporal\"}, \"y\": {\"field\": \"err_low\", \"scale\": {\"zero\": false}, \"title\": \"VPD\", \"type\": \"quantitative\"}, \"y2\": {\"field\": \"err_high\"}}, \"name\": \"view_41\"}, {\"mark\": \"line\", \"encoding\": {\"color\": {\"field\": \"variable\", \"type\": \"nominal\"}, \"x\": {\"field\": \"time\", \"type\": \"temporal\"}, \"y\": {\"field\": \"mean\", \"scale\": {\"zero\": false}, \"title\": \"VPD\", \"type\": \"quantitative\"}}}]}], \"height\": 150, \"title\": \"VPD\", \"width\": 200}], \"data\": {\"name\": \"data-c81d18f3ff9009d1f4cbaa074274bb01\"}}], \"title\": \"loss: 175.433561\"}, {\"vconcat\": [{\"hconcat\": [{\"layer\": [{\"data\": {\"name\": \"data-8be68799a8ae9e8b5e48763821b9764a\"}, \"mark\": {\"type\": \"point\", \"color\": \"black\", \"fillOpacity\": 1, \"strokeWidth\": 1}, \"encoding\": {\"fill\": {\"field\": \"is_present\", \"legend\": {\"title\": [\"Observed data\"]}, \"scale\": {\"range\": [\"black\", \"#ffffff00\"]}, \"type\": \"nominal\"}, \"shape\": {\"field\": \"is_present\", \"type\": \"nominal\"}, \"x\": {\"axis\": {\"domain\": true, \"labels\": true, \"ticks\": true, \"title\": \"time\"}, \"field\": \"time\", \"type\": \"temporal\"}, \"y\": {\"field\": \"value\", \"scale\": {\"zero\": false}, \"title\": \"TA\", \"type\": \"quantitative\"}}}, {\"layer\": [{\"mark\": \"rule\", \"encoding\": {\"x\": {\"axis\": {\"domain\": false, \"labels\": false, \"ticks\": false, \"title\": null}, \"field\": \"gap_start\", \"type\": \"temporal\"}}}, {\"mark\": \"rule\", \"encoding\": {\"x\": {\"axis\": {\"domain\": false, \"labels\": false, \"ticks\": false, \"title\": null}, \"field\": \"gap_end\", \"type\": \"temporal\"}}}, {\"mark\": {\"type\": \"rect\", \"color\": \"black\", \"opacity\": 0.2}, \"encoding\": {\"x\": {\"axis\": {\"domain\": false, \"labels\": false, \"ticks\": false, \"title\": null}, \"field\": \"gap_start\", \"type\": \"temporal\"}, \"x2\": {\"field\": \"gap_end\"}}}], \"data\": {\"name\": \"data-f5a4704b4041dcda6d5df81946122e11\"}}, {\"layer\": [{\"mark\": \"errorband\", \"encoding\": {\"color\": {\"field\": \"variable\", \"legend\": {\"title\": [\"Line: pred. mean\", \"area: +/- 2 std\"]}, \"type\": \"nominal\"}, \"x\": {\"field\": \"time\", \"type\": \"temporal\"}, \"y\": {\"field\": \"err_low\", \"scale\": {\"zero\": false}, \"title\": \"TA\", \"type\": \"quantitative\"}, \"y2\": {\"field\": \"err_high\"}}, \"name\": \"view_42\"}, {\"mark\": \"line\", \"encoding\": {\"color\": {\"field\": \"variable\", \"type\": \"nominal\"}, \"x\": {\"field\": \"time\", \"type\": \"temporal\"}, \"y\": {\"field\": \"mean\", \"scale\": {\"zero\": false}, \"title\": \"TA\", \"type\": \"quantitative\"}}}], \"data\": {\"name\": \"data-8be68799a8ae9e8b5e48763821b9764a\"}}], \"height\": 150, \"title\": \"TA\", \"width\": 200}]}, {\"hconcat\": [{\"layer\": [{\"mark\": {\"type\": \"point\", \"color\": \"black\", \"fillOpacity\": 1, \"strokeWidth\": 1}, \"encoding\": {\"fill\": {\"field\": \"is_present\", \"legend\": {\"title\": [\"Observed data\"]}, \"scale\": {\"range\": [\"black\", \"#ffffff00\"]}, \"type\": \"nominal\"}, \"shape\": {\"field\": \"is_present\", \"type\": \"nominal\"}, \"x\": {\"axis\": {\"domain\": true, \"labels\": true, \"ticks\": true, \"title\": \"time\"}, \"field\": \"time\", \"type\": \"temporal\"}, \"y\": {\"field\": \"value\", \"scale\": {\"zero\": false}, \"title\": \"SW_IN\", \"type\": \"quantitative\"}}}, {\"layer\": [{\"mark\": \"errorband\", \"encoding\": {\"color\": {\"field\": \"variable\", \"legend\": {\"title\": [\"Line: pred. mean\", \"area: +/- 2 std\"]}, \"type\": \"nominal\"}, \"x\": {\"field\": \"time\", \"type\": \"temporal\"}, \"y\": {\"field\": \"err_low\", \"scale\": {\"zero\": false}, \"title\": \"SW_IN\", \"type\": \"quantitative\"}, \"y2\": {\"field\": \"err_high\"}}, \"name\": \"view_43\"}, {\"mark\": \"line\", \"encoding\": {\"color\": {\"field\": \"variable\", \"type\": \"nominal\"}, \"x\": {\"field\": \"time\", \"type\": \"temporal\"}, \"y\": {\"field\": \"mean\", \"scale\": {\"zero\": false}, \"title\": \"SW_IN\", \"type\": \"quantitative\"}}}]}], \"height\": 150, \"title\": \"SW_IN\", \"width\": 200}], \"data\": {\"name\": \"data-f71324926258147b07b7d72637317e94\"}}, {\"hconcat\": [{\"layer\": [{\"mark\": {\"type\": \"point\", \"color\": \"black\", \"fillOpacity\": 1, \"strokeWidth\": 1}, \"encoding\": {\"fill\": {\"field\": \"is_present\", \"legend\": {\"title\": [\"Observed data\"]}, \"scale\": {\"range\": [\"black\", \"#ffffff00\"]}, \"type\": \"nominal\"}, \"shape\": {\"field\": \"is_present\", \"type\": \"nominal\"}, \"x\": {\"axis\": {\"domain\": true, \"labels\": true, \"ticks\": true, \"title\": \"time\"}, \"field\": \"time\", \"type\": \"temporal\"}, \"y\": {\"field\": \"value\", \"scale\": {\"zero\": false}, \"title\": \"VPD\", \"type\": \"quantitative\"}}}, {\"layer\": [{\"mark\": \"errorband\", \"encoding\": {\"color\": {\"field\": \"variable\", \"legend\": {\"title\": [\"Line: pred. mean\", \"area: +/- 2 std\"]}, \"type\": \"nominal\"}, \"x\": {\"field\": \"time\", \"type\": \"temporal\"}, \"y\": {\"field\": \"err_low\", \"scale\": {\"zero\": false}, \"title\": \"VPD\", \"type\": \"quantitative\"}, \"y2\": {\"field\": \"err_high\"}}, \"name\": \"view_44\"}, {\"mark\": \"line\", \"encoding\": {\"color\": {\"field\": \"variable\", \"type\": \"nominal\"}, \"x\": {\"field\": \"time\", \"type\": \"temporal\"}, \"y\": {\"field\": \"mean\", \"scale\": {\"zero\": false}, \"title\": \"VPD\", \"type\": \"quantitative\"}}}]}], \"height\": 150, \"title\": \"VPD\", \"width\": 200}], \"data\": {\"name\": \"data-aae7030621cc336ab5cb6b436cafe3b7\"}}], \"title\": \"loss: -25.732251\"}], \"params\": [{\"name\": \"param_55\", \"select\": {\"type\": \"interval\", \"encodings\": [\"x\"]}, \"bind\": \"scales\", \"views\": [\"view_39\", \"view_40\", \"view_41\"]}, {\"name\": \"param_59\", \"select\": {\"type\": \"interval\", \"encodings\": [\"x\"]}, \"bind\": \"scales\", \"views\": [\"view_42\", \"view_43\", \"view_44\"]}], \"$schema\": \"https://vega.github.io/schema/vega-lite/v5.2.0.json\", \"datasets\": {\"data-98d76d652aeb7aeeef541f0cbc1729c2\": [{\"time\": \"2009-02-15T08:30:00\", \"variable\": \"TA\", \"value\": -6.27, \"is_present\": true, \"mean\": 8.190219599593169, \"std\": 7.694693138313179, \"err_low\": -7.199166677033189, \"err_high\": 23.579605876219524}, {\"time\": \"2009-02-15T09:00:00\", \"variable\": \"TA\", \"value\": -5.97, \"is_present\": true, \"mean\": 3.9386297707868136, \"std\": 3.553469751092354, \"err_low\": -3.168309731397894, \"err_high\": 11.045569272971521}, {\"time\": \"2009-02-15T09:30:00\", \"variable\": \"TA\", \"value\": -6.05, \"is_present\": true, \"mean\": 4.284075437577278, \"std\": 3.5529080084362965, \"err_low\": -2.821740579295315, \"err_high\": 11.38989145444987}, {\"time\": \"2009-02-15T10:00:00\", \"variable\": \"TA\", \"value\": -5.75, \"is_present\": true, \"mean\": 4.411704579609407, \"std\": 3.5528960604330293, \"err_low\": -2.6940875412566516, \"err_high\": 11.517496700475466}, {\"time\": \"2009-02-15T10:30:00\", \"variable\": \"TA\", \"value\": -5.28, \"is_present\": true, \"mean\": 4.576239669844673, \"std\": 3.5528958274319473, \"err_low\": -2.5295519850192214, \"err_high\": 11.682031324708568}, {\"time\": \"2009-02-15T11:00:00\", \"variable\": \"TA\", \"value\": -4.52, \"is_present\": true, \"mean\": 4.886105306386229, \"std\": 3.5528958229377636, \"err_low\": -2.2196863394892983, \"err_high\": 11.991896952261756}, {\"time\": \"2009-02-15T11:30:00\", \"variable\": \"TA\", \"value\": -3.78, \"is_present\": true, \"mean\": 5.639230235560625, \"std\": 3.5528958228512373, \"err_low\": -1.4665614101418498, \"err_high\": 12.7450218812631}, {\"time\": \"2009-02-15T12:00:00\", \"variable\": \"TA\", \"value\": -3.45, \"is_present\": true, \"mean\": 6.239020910509826, \"std\": 3.552895822849572, \"err_low\": -0.8667707351893181, \"err_high\": 13.34481255620897}, {\"time\": \"2009-02-15T12:30:00\", \"variable\": \"TA\", \"value\": -3.44, \"is_present\": true, \"mean\": 6.335542047247261, \"std\": 3.5528958228495395, \"err_low\": -0.7702495984518176, \"err_high\": 13.44133369294634}, {\"time\": \"2009-02-15T13:00:00\", \"variable\": \"TA\", \"value\": -3.55, \"is_present\": true, \"mean\": 6.225240724636446, \"std\": 3.552895822849539, \"err_low\": -0.8805509210626319, \"err_high\": 13.331032370335524}, {\"time\": \"2009-02-15T13:30:00\", \"variable\": \"TA\", \"value\": -3.25, \"is_present\": true, \"mean\": 6.469169859939222, \"std\": 3.552895822849539, \"err_low\": -0.6366217857598562, \"err_high\": 13.5749615056383}, {\"time\": \"2009-02-15T14:00:00\", \"variable\": \"TA\", \"value\": -3.43, \"is_present\": true, \"mean\": 6.474819154209265, \"std\": 3.552895822849539, \"err_low\": -0.6309724914898132, \"err_high\": 13.580610799908342}, {\"time\": \"2009-02-15T14:30:00\", \"variable\": \"TA\", \"value\": -3.41, \"is_present\": true, \"mean\": 5.686872779599925, \"std\": 3.552895822849539, \"err_low\": -1.418918866099153, \"err_high\": 12.792664425299003}, {\"time\": \"2009-02-15T15:00:00\", \"variable\": \"TA\", \"value\": -3.31, \"is_present\": true, \"mean\": 5.316752900498949, \"std\": 3.5528958228495386, \"err_low\": -1.789038745200128, \"err_high\": 12.422544546198026}, {\"time\": \"2009-02-15T15:30:00\", \"variable\": \"TA\", \"value\": -3.36, \"is_present\": true, \"mean\": 5.6866687253868236, \"std\": 3.552895822849539, \"err_low\": -1.4191229203122546, \"err_high\": 12.792460371085902}, {\"time\": \"2009-02-15T16:00:00\", \"variable\": \"TA\", \"value\": -3.5, \"is_present\": true, \"mean\": 5.257645004813488, \"std\": 3.5528958228495386, \"err_low\": -1.8481466408855889, \"err_high\": 12.363436650512565}, {\"time\": \"2009-02-15T16:30:00\", \"variable\": \"TA\", \"value\": -3.57, \"is_present\": true, \"mean\": 5.187011801839301, \"std\": 3.552895822849539, \"err_low\": -1.9187798438597774, \"err_high\": 12.292803447538379}, {\"time\": \"2009-02-15T17:00:00\", \"variable\": \"TA\", \"value\": -3.68, \"is_present\": true, \"mean\": 4.891112720937182, \"std\": 3.552895822849539, \"err_low\": -2.2146789247618965, \"err_high\": 11.99690436663626}, {\"time\": \"2009-02-15T17:30:00\", \"variable\": \"TA\", \"value\": -3.63, \"is_present\": true, \"mean\": 4.679112321987818, \"std\": 3.552895822849539, \"err_low\": -2.4266793237112605, \"err_high\": 11.784903967686896}, {\"time\": \"2009-02-15T18:00:00\", \"variable\": \"TA\", \"value\": -3.57, \"is_present\": true, \"mean\": 4.476374986901073, \"std\": 3.552895822849539, \"err_low\": -2.6294166587980055, \"err_high\": 11.582166632600151}, {\"time\": \"2009-02-15T18:30:00\", \"variable\": \"TA\", \"value\": -3.55, \"is_present\": true, \"mean\": 4.362301463962639, \"std\": 3.552895822849539, \"err_low\": -2.7434901817364388, \"err_high\": 11.468093109661718}, {\"time\": \"2009-02-15T19:00:00\", \"variable\": \"TA\", \"value\": -3.66, \"is_present\": true, \"mean\": 4.2733778776360625, \"std\": 3.552895822849539, \"err_low\": -2.8324137680630157, \"err_high\": 11.37916952333514}, {\"time\": \"2009-02-15T19:30:00\", \"variable\": \"TA\", \"value\": -3.79, \"is_present\": true, \"mean\": 4.094146405809336, \"std\": 3.552895822849539, \"err_low\": -3.0116452398897424, \"err_high\": 11.199938051508415}, {\"time\": \"2009-02-15T20:00:00\", \"variable\": \"TA\", \"value\": -3.86, \"is_present\": true, \"mean\": 3.885797884463437, \"std\": 3.552895822849539, \"err_low\": -3.2199937612356413, \"err_high\": 10.991589530162514}, {\"time\": \"2009-02-15T20:30:00\", \"variable\": \"TA\", \"value\": -3.8, \"is_present\": true, \"mean\": 3.7678532072616875, \"std\": 3.5528958228495386, \"err_low\": -3.33793843843739, \"err_high\": 10.873644852960766}, {\"time\": \"2009-02-15T21:00:00\", \"variable\": \"TA\", \"value\": -3.67, \"is_present\": true, \"mean\": 3.701499506912806, \"std\": 3.552895822849539, \"err_low\": -3.404292138786272, \"err_high\": 10.807291152611885}, {\"time\": \"2009-02-15T21:30:00\", \"variable\": \"TA\", \"value\": -3.56, \"is_present\": true, \"mean\": 3.688281122820171, \"std\": 3.552895822849539, \"err_low\": -3.4175105228789073, \"err_high\": 10.79407276851925}, {\"time\": \"2009-02-15T22:00:00\", \"variable\": \"TA\", \"value\": -3.52, \"is_present\": true, \"mean\": 3.705787118160008, \"std\": 3.552895822849539, \"err_low\": -3.4000045275390702, \"err_high\": 10.811578763859085}, {\"time\": \"2009-02-15T22:30:00\", \"variable\": \"TA\", \"value\": -3.48, \"is_present\": true, \"mean\": 3.721017745461662, \"std\": 3.552895822849539, \"err_low\": -3.384773900237416, \"err_high\": 10.82680939116074}, {\"time\": \"2009-02-15T23:00:00\", \"variable\": \"TA\", \"value\": -3.45, \"is_present\": true, \"mean\": 3.7087739508606186, \"std\": 3.552895822849539, \"err_low\": -3.3970176948384596, \"err_high\": 10.814565596559696}, {\"time\": \"2009-02-15T23:30:00\", \"variable\": \"TA\", \"value\": -3.43, \"is_present\": true, \"mean\": 3.702493955957494, \"std\": 3.552895822849539, \"err_low\": -3.403297689741584, \"err_high\": 10.808285601656571}, {\"time\": \"2009-02-16T00:00:00\", \"variable\": \"TA\", \"value\": -3.39, \"is_present\": true, \"mean\": 3.7013935605767365, \"std\": 3.552895822849539, \"err_low\": -3.4043980851223417, \"err_high\": 10.807185206275815}, {\"time\": \"2009-02-16T00:30:00\", \"variable\": \"TA\", \"value\": -3.33, \"is_present\": true, \"mean\": 3.6854635046360658, \"std\": 3.5528958228495386, \"err_low\": -3.4203281410630115, \"err_high\": 10.791255150335143}, {\"time\": \"2009-02-16T01:00:00\", \"variable\": \"TA\", \"value\": -3.29, \"is_present\": true, \"mean\": 3.686145862641304, \"std\": 3.552895822849539, \"err_low\": -3.4196457830577742, \"err_high\": 10.791937508340382}, {\"time\": \"2009-02-16T01:30:00\", \"variable\": \"TA\", \"value\": -3.23, \"is_present\": true, \"mean\": 3.6941474822876064, \"std\": 3.552895822849539, \"err_low\": -3.411644163411472, \"err_high\": 10.799939127986685}, {\"time\": \"2009-02-16T02:00:00\", \"variable\": \"TA\", \"value\": -3.2, \"is_present\": true, \"mean\": 3.695503793761075, \"std\": 3.5528958228495386, \"err_low\": -3.410287851938002, \"err_high\": 10.801295439460151}, {\"time\": \"2009-02-16T02:30:00\", \"variable\": \"TA\", \"value\": -3.18, \"is_present\": true, \"mean\": 3.694512559487948, \"std\": 3.552895822849539, \"err_low\": -3.41127908621113, \"err_high\": 10.800304205187025}, {\"time\": \"2009-02-16T03:00:00\", \"variable\": \"TA\", \"value\": -3.11, \"is_present\": true, \"mean\": 3.6854802350684848, \"std\": 3.552895822849539, \"err_low\": -3.4203114106305934, \"err_high\": 10.791271880767564}, {\"time\": \"2009-02-16T03:30:00\", \"variable\": \"TA\", \"value\": -3.04, \"is_present\": true, \"mean\": 3.6673064395938386, \"std\": 3.552895822849539, \"err_low\": -3.4384852061052396, \"err_high\": 10.773098085292917}, {\"time\": \"2009-02-16T04:00:00\", \"variable\": \"TA\", \"value\": -3.0, \"is_present\": true, \"mean\": 3.655726224146057, \"std\": 3.552895822849539, \"err_low\": -3.4500654215530213, \"err_high\": 10.761517869845136}, {\"time\": \"2009-02-16T04:30:00\", \"variable\": \"TA\", \"value\": -2.94, \"is_present\": true, \"mean\": 3.6453888027823744, \"std\": 3.552895822849539, \"err_low\": -3.4604028429167037, \"err_high\": 10.751180448481453}, {\"time\": \"2009-02-16T05:00:00\", \"variable\": \"TA\", \"value\": -2.89, \"is_present\": true, \"mean\": 3.633586484516009, \"std\": 3.552895822849539, \"err_low\": -3.4722051611830693, \"err_high\": 10.739378130215087}, {\"time\": \"2009-02-16T05:30:00\", \"variable\": \"TA\", \"value\": -2.83, \"is_present\": true, \"mean\": 3.63159129985684, \"std\": 3.552895822849539, \"err_low\": -3.474200345842238, \"err_high\": 10.737382945555918}, {\"time\": \"2009-02-16T06:00:00\", \"variable\": \"TA\", \"value\": -2.78, \"is_present\": true, \"mean\": 3.632782954396496, \"std\": 3.552895822849539, \"err_low\": -3.4730086913025824, \"err_high\": 10.738574600095575}, {\"time\": \"2009-02-16T06:30:00\", \"variable\": \"TA\", \"value\": -2.71, \"is_present\": true, \"mean\": 3.6333312436771408, \"std\": 3.552895822849539, \"err_low\": -3.4724604020219374, \"err_high\": 10.739122889376219}, {\"time\": \"2009-02-16T07:00:00\", \"variable\": \"TA\", \"value\": -2.61, \"is_present\": true, \"mean\": 3.634168727885151, \"std\": 3.552895822849539, \"err_low\": -3.471622917813927, \"err_high\": 10.739960373584228}, {\"time\": \"2009-02-16T07:30:00\", \"variable\": \"TA\", \"value\": -2.55, \"is_present\": true, \"mean\": 3.635352366044059, \"std\": 3.552895822849539, \"err_low\": -3.470439279655019, \"err_high\": 10.741144011743138}, {\"time\": \"2009-02-16T08:00:00\", \"variable\": \"TA\", \"value\": -2.45, \"is_present\": true, \"mean\": 3.6361219309047197, \"std\": 3.552895822849539, \"err_low\": -3.4696697147943585, \"err_high\": 10.741913576603798}, {\"time\": \"2009-02-16T08:30:00\", \"variable\": \"TA\", \"value\": -2.38, \"is_present\": true, \"mean\": 3.659437334784144, \"std\": 3.552895822849539, \"err_low\": -3.446354310914934, \"err_high\": 10.765228980483222}, {\"time\": \"2009-02-16T09:00:00\", \"variable\": \"TA\", \"value\": -2.24, \"is_present\": true, \"mean\": 3.714816595082241, \"std\": 3.552895822849539, \"err_low\": -3.390975050616837, \"err_high\": 10.820608240781318}, {\"time\": \"2009-02-16T09:30:00\", \"variable\": \"TA\", \"value\": -2.11, \"is_present\": true, \"mean\": 3.8357250995716807, \"std\": 3.552895822849539, \"err_low\": -3.2700665461273974, \"err_high\": 10.941516745270759}, {\"time\": \"2009-02-16T10:00:00\", \"variable\": \"TA\", \"value\": -1.94, \"is_present\": true, \"mean\": 3.9204627194193638, \"std\": 3.552895822849539, \"err_low\": -3.1853289262797144, \"err_high\": 11.026254365118442}, {\"time\": \"2009-02-16T10:30:00\", \"variable\": \"TA\", \"value\": -1.73, \"is_present\": true, \"mean\": 4.1407798303536065, \"std\": 3.552895822849539, \"err_low\": -2.9650118153454716, \"err_high\": 11.246571476052685}, {\"time\": \"2009-02-16T11:00:00\", \"variable\": \"TA\", \"value\": -1.45, \"is_present\": true, \"mean\": 4.241027700765843, \"std\": 3.552895822849539, \"err_low\": -2.8647639449332356, \"err_high\": 11.34681934646492}, {\"time\": \"2009-02-16T11:30:00\", \"variable\": \"TA\", \"value\": -1.13, \"is_present\": true, \"mean\": 4.777155617403627, \"std\": 3.552895822849539, \"err_low\": -2.328636028295451, \"err_high\": 11.882947263102706}, {\"time\": \"2009-02-16T12:00:00\", \"variable\": \"TA\", \"value\": -0.93, \"is_present\": true, \"mean\": 4.813390665635216, \"std\": 3.552895822849539, \"err_low\": -2.292400980063862, \"err_high\": 11.919182311334295}, {\"time\": \"2009-02-16T12:30:00\", \"variable\": \"TA\", \"value\": -0.92, \"is_present\": true, \"mean\": 4.697053481200927, \"std\": 3.552895822849539, \"err_low\": -2.4087381644981516, \"err_high\": 11.802845126900005}, {\"time\": \"2009-02-16T13:00:00\", \"variable\": \"TA\", \"value\": -0.65, \"is_present\": true, \"mean\": 4.316345465785488, \"std\": 3.552895822849539, \"err_low\": -2.7894461799135906, \"err_high\": 11.422137111484567}, {\"time\": \"2009-02-16T13:30:00\", \"variable\": \"TA\", \"value\": -0.46, \"is_present\": true, \"mean\": 4.295848737780177, \"std\": 3.552895822849539, \"err_low\": -2.8099429079189013, \"err_high\": 11.401640383479254}, {\"time\": \"2009-02-16T14:00:00\", \"variable\": \"TA\", \"value\": -0.37, \"is_present\": true, \"mean\": 4.437422351149969, \"std\": 3.552895822849539, \"err_low\": -2.668369294549109, \"err_high\": 11.543213996849047}, {\"time\": \"2009-02-16T14:30:00\", \"variable\": \"TA\", \"value\": -0.32, \"is_present\": true, \"mean\": 4.488039634182748, \"std\": 3.552895822849539, \"err_low\": -2.6177520115163304, \"err_high\": 11.593831279881826}, {\"time\": \"2009-02-16T15:00:00\", \"variable\": \"TA\", \"value\": -0.27, \"is_present\": true, \"mean\": 4.329530025745092, \"std\": 3.552895822849539, \"err_low\": -2.776261619953986, \"err_high\": 11.435321671444171}, {\"time\": \"2009-02-16T15:30:00\", \"variable\": \"TA\", \"value\": -0.2, \"is_present\": true, \"mean\": 4.062765774526273, \"std\": 3.552895822849539, \"err_low\": -3.043025871172805, \"err_high\": 11.168557420225351}, {\"time\": \"2009-02-16T16:00:00\", \"variable\": \"TA\", \"value\": -0.23, \"is_present\": true, \"mean\": 3.9940558702387756, \"std\": 3.552895822849539, \"err_low\": -3.1117357754603026, \"err_high\": 11.099847515937853}, {\"time\": \"2009-02-16T16:30:00\", \"variable\": \"TA\", \"value\": -0.12, \"is_present\": true, \"mean\": 3.9639918027417425, \"std\": 3.552895822849539, \"err_low\": -3.1417998429573357, \"err_high\": 11.06978344844082}, {\"time\": \"2009-02-16T17:00:00\", \"variable\": \"TA\", \"value\": -0.05, \"is_present\": true, \"mean\": 3.9013826420494446, \"std\": 3.552895822849539, \"err_low\": -3.2044090036496335, \"err_high\": 11.007174287748523}, {\"time\": \"2009-02-16T17:30:00\", \"variable\": \"TA\", \"value\": -0.06, \"is_present\": true, \"mean\": 3.782118087988402, \"std\": 3.552895822849539, \"err_low\": -3.323673557710676, \"err_high\": 10.88790973368748}, {\"time\": \"2009-02-16T18:00:00\", \"variable\": \"TA\", \"value\": -0.09, \"is_present\": true, \"mean\": 3.693343421184225, \"std\": 3.552895822849539, \"err_low\": -3.4124482245148533, \"err_high\": 10.799135066883302}, {\"time\": \"2009-02-16T18:30:00\", \"variable\": \"TA\", \"value\": -0.06, \"is_present\": true, \"mean\": 3.66702714860004, \"std\": 3.552895822849539, \"err_low\": -3.4387644970990383, \"err_high\": 10.772818794299118}, {\"time\": \"2009-02-16T19:00:00\", \"variable\": \"TA\", \"value\": -0.01, \"is_present\": true, \"mean\": 3.666313434353582, \"std\": 3.552895822849539, \"err_low\": -3.439478211345496, \"err_high\": 10.772105080052661}, {\"time\": \"2009-02-16T19:30:00\", \"variable\": \"TA\", \"value\": 0.03, \"is_present\": true, \"mean\": 3.666918415025533, \"std\": 3.552895822849539, \"err_low\": -3.4388732306735452, \"err_high\": 10.772710060724611}, {\"time\": \"2009-02-16T20:00:00\", \"variable\": \"TA\", \"value\": 0.03, \"is_present\": true, \"mean\": 3.6674157303804265, \"std\": 3.5528958228495386, \"err_low\": -3.438375915318651, \"err_high\": 10.773207376079505}, {\"time\": \"2009-02-16T20:30:00\", \"variable\": \"TA\", \"value\": 0.03, \"is_present\": true, \"mean\": 3.6674536352207125, \"std\": 3.552895822849539, \"err_low\": -3.4383380104783656, \"err_high\": 10.773245280919792}, {\"time\": \"2009-02-16T21:00:00\", \"variable\": \"TA\", \"value\": 0.03, \"is_present\": true, \"mean\": 3.6674498966753717, \"std\": 3.552895822849539, \"err_low\": -3.4383417490237065, \"err_high\": 10.77324154237445}, {\"time\": \"2009-02-16T21:30:00\", \"variable\": \"TA\", \"value\": -0.04, \"is_present\": true, \"mean\": 3.6674503799842233, \"std\": 3.552895822849539, \"err_low\": -3.438341265714855, \"err_high\": 10.773242025683302}, {\"time\": \"2009-02-16T22:00:00\", \"variable\": \"TA\", \"value\": -0.08, \"is_present\": true, \"mean\": 3.6666704557472185, \"std\": 3.552895822849539, \"err_low\": -3.4391211899518597, \"err_high\": 10.772462101446298}, {\"time\": \"2009-02-16T22:30:00\", \"variable\": \"TA\", \"value\": -0.09, \"is_present\": true, \"mean\": 3.666149180074112, \"std\": 3.552895822849539, \"err_low\": -3.4396424656249662, \"err_high\": 10.77194082577319}, {\"time\": \"2009-02-16T23:00:00\", \"variable\": \"TA\", \"value\": -0.09, \"is_present\": true, \"mean\": 3.666002301331483, \"std\": 3.552895822849539, \"err_low\": -3.439789344367595, \"err_high\": 10.771793947030561}, {\"time\": \"2009-02-16T23:30:00\", \"variable\": \"TA\", \"value\": -0.02, \"is_present\": true, \"mean\": 3.6659949158023446, \"std\": 3.552895822849539, \"err_low\": -3.4397967298967336, \"err_high\": 10.771786561501422}, {\"time\": \"2009-02-17T00:00:00\", \"variable\": \"TA\", \"value\": 0.01, \"is_present\": true, \"mean\": 3.66677544260662, \"std\": 3.552895822849539, \"err_low\": -3.439016203092458, \"err_high\": 10.7725670883057}, {\"time\": \"2009-02-17T00:30:00\", \"variable\": \"TA\", \"value\": 0.05, \"is_present\": true, \"mean\": 3.667185234570196, \"std\": 3.552895822849539, \"err_low\": -3.438606411128882, \"err_high\": 10.772976880269274}, {\"time\": \"2009-02-17T01:00:00\", \"variable\": \"TA\", \"value\": 0.07, \"is_present\": true, \"mean\": 3.667655541089566, \"std\": 3.552895822849539, \"err_low\": -3.4381361046095122, \"err_high\": 10.773447186788644}, {\"time\": \"2009-02-17T01:30:00\", \"variable\": \"TA\", \"value\": 0.11, \"is_present\": true, \"mean\": 3.6679192725448404, \"std\": 3.552895822849539, \"err_low\": -3.4378723731542378, \"err_high\": 10.773710918243918}, {\"time\": \"2009-02-17T02:00:00\", \"variable\": \"TA\", \"value\": 0.14, \"is_present\": true, \"mean\": 3.6683823814543794, \"std\": 3.552895822849539, \"err_low\": -3.4374092642446987, \"err_high\": 10.774174027153457}, {\"time\": \"2009-02-17T02:30:00\", \"variable\": \"TA\", \"value\": 0.27, \"is_present\": true, \"mean\": 3.6687581570444285, \"std\": 3.5528958228495386, \"err_low\": -3.4370334886546487, \"err_high\": 10.774549802743506}, {\"time\": \"2009-02-17T03:00:00\", \"variable\": \"TA\", \"value\": 0.46, \"is_present\": true, \"mean\": 3.6702346682112488, \"std\": 3.552895822849539, \"err_low\": -3.4355569774878294, \"err_high\": 10.776026313910327}, {\"time\": \"2009-02-17T03:30:00\", \"variable\": \"TA\", \"value\": 0.74, \"is_present\": true, \"mean\": 3.6724891452210606, \"std\": 3.552895822849539, \"err_low\": -3.4333025004780175, \"err_high\": 10.778280790920139}, {\"time\": \"2009-02-17T04:00:00\", \"variable\": \"TA\", \"value\": 0.95, \"is_present\": true, \"mean\": 3.675799864514688, \"std\": 3.552895822849539, \"err_low\": -3.4299917811843903, \"err_high\": 10.781591510213765}, {\"time\": \"2009-02-17T04:30:00\", \"variable\": \"TA\", \"value\": 1.06, \"is_present\": true, \"mean\": 3.6784228134035484, \"std\": 3.552895822849539, \"err_low\": -3.42736883229553, \"err_high\": 10.784214459102627}, {\"time\": \"2009-02-17T05:00:00\", \"variable\": \"TA\", \"value\": 1.08, \"is_present\": true, \"mean\": 3.6798467162381954, \"std\": 3.552895822849539, \"err_low\": -3.425944929460883, \"err_high\": 10.785638361937274}, {\"time\": \"2009-02-17T05:30:00\", \"variable\": \"TA\", \"value\": 1.15, \"is_present\": true, \"mean\": 3.680168842065834, \"std\": 3.552895822849539, \"err_low\": -3.425622803633244, \"err_high\": 10.785960487764912}, {\"time\": \"2009-02-17T06:00:00\", \"variable\": \"TA\", \"value\": 1.18, \"is_present\": true, \"mean\": 3.6809606504791725, \"std\": 3.552895822849539, \"err_low\": -3.4248309952199056, \"err_high\": 10.78675229617825}, {\"time\": \"2009-02-17T06:30:00\", \"variable\": \"TA\", \"value\": 1.05, \"is_present\": true, \"mean\": 3.6813695550758245, \"std\": 3.552895822849539, \"err_low\": -3.4244220906232536, \"err_high\": 10.787161200774904}, {\"time\": \"2009-02-17T07:00:00\", \"variable\": \"TA\", \"value\": 0.22, \"is_present\": true, \"mean\": 3.6799460280532044, \"std\": 3.552895822849539, \"err_low\": -3.425845617645874, \"err_high\": 10.785737673752283}, {\"time\": \"2009-02-17T07:30:00\", \"variable\": \"TA\", \"value\": -0.26, \"is_present\": true, \"mean\": 3.6705563140616553, \"std\": 3.552895822849539, \"err_low\": -3.435235331637423, \"err_high\": 10.776347959760734}, {\"time\": \"2009-02-17T08:00:00\", \"variable\": \"TA\", \"value\": -0.76, \"is_present\": true, \"mean\": 3.6643264130153854, \"std\": 3.552895822849539, \"err_low\": -3.4414652326836928, \"err_high\": 10.770118058714463}, {\"time\": \"2009-02-17T08:30:00\", \"variable\": \"TA\", \"value\": -1.68, \"is_present\": true, \"mean\": 3.667934336429651, \"std\": 3.552895822849539, \"err_low\": -3.437857309269427, \"err_high\": 10.77372598212873}, {\"time\": \"2009-02-17T09:00:00\", \"variable\": \"TA\", \"value\": -2.0, \"is_present\": true, \"mean\": 3.691822651768839, \"std\": 3.5528958228495386, \"err_low\": -3.4139689939302382, \"err_high\": 10.797614297467916}, {\"time\": \"2009-02-17T09:30:00\", \"variable\": \"TA\", \"value\": -2.59, \"is_present\": true, \"mean\": 3.7230644802184836, \"std\": 3.552895822849539, \"err_low\": -3.3827271654805946, \"err_high\": 10.82885612591756}, {\"time\": \"2009-02-17T10:00:00\", \"variable\": \"TA\", \"value\": -2.89, \"is_present\": true, \"mean\": 3.793142354434659, \"std\": 3.552895822849539, \"err_low\": -3.312649291264419, \"err_high\": 10.898934000133737}, {\"time\": \"2009-02-17T10:30:00\", \"variable\": \"TA\", \"value\": -3.35, \"is_present\": true, \"mean\": 3.852868913883408, \"std\": 3.5528958228495386, \"err_low\": -3.2529227318156693, \"err_high\": 10.958660559582485}, {\"time\": \"2009-02-17T11:00:00\", \"variable\": \"TA\", \"value\": -3.72, \"is_present\": true, \"mean\": 3.9171634750990627, \"std\": 3.552895822849539, \"err_low\": -3.1886281706000155, \"err_high\": 11.02295512079814}, {\"time\": \"2009-02-17T11:30:00\", \"variable\": \"TA\", \"value\": -4.0, \"is_present\": true, \"mean\": 3.902323363683011, \"std\": 3.552895822849539, \"err_low\": -3.2034682820160674, \"err_high\": 11.008115009382088}, {\"time\": \"2009-02-17T12:00:00\", \"variable\": \"TA\", \"value\": -4.1, \"is_present\": true, \"mean\": 4.149510495542507, \"std\": 3.552895822849539, \"err_low\": -2.9562811501565713, \"err_high\": 11.255302141241586}, {\"time\": \"2009-02-17T12:30:00\", \"variable\": \"TA\", \"value\": -4.09, \"is_present\": true, \"mean\": 4.347984978116308, \"std\": 3.552895822849539, \"err_low\": -2.75780666758277, \"err_high\": 11.453776623815386}, {\"time\": \"2009-02-17T13:00:00\", \"variable\": \"TA\", \"value\": -4.25, \"is_present\": true, \"mean\": 4.860180565067868, \"std\": 3.5528958228495386, \"err_low\": -2.2456110806312095, \"err_high\": 11.965972210766946}, {\"time\": \"2009-02-17T13:30:00\", \"variable\": \"TA\", \"value\": -4.13, \"is_present\": true, \"mean\": 5.169528705178703, \"std\": 3.552895822849539, \"err_low\": -1.9362629405203755, \"err_high\": 12.27532035087778}, {\"time\": \"2009-02-17T14:00:00\", \"variable\": \"TA\", \"value\": -4.16, \"is_present\": true, \"mean\": 5.326355889221176, \"std\": 3.552895822849539, \"err_low\": -1.779435756477902, \"err_high\": 12.432147534920254}, {\"time\": \"2009-02-17T14:30:00\", \"variable\": \"TA\", \"value\": -3.99, \"is_present\": true, \"mean\": 5.596619344763363, \"std\": 3.552895822849539, \"err_low\": -1.509172300935715, \"err_high\": 12.702410990462441}, {\"time\": \"2009-02-17T15:00:00\", \"variable\": \"TA\", \"value\": -3.91, \"is_present\": true, \"mean\": 5.92639201897544, \"std\": 3.552895822849539, \"err_low\": -1.1793996267236384, \"err_high\": 13.032183664674518}, {\"time\": \"2009-02-17T15:30:00\", \"variable\": \"TA\", \"value\": -3.77, \"is_present\": true, \"mean\": 5.76576598612206, \"std\": 3.552895822849539, \"err_low\": -1.3400256595770186, \"err_high\": 12.871557631821137}, {\"time\": \"2009-02-17T16:00:00\", \"variable\": \"TA\", \"value\": -3.83, \"is_present\": true, \"mean\": 5.359746367692532, \"std\": 3.552895822849539, \"err_low\": -1.7460452780065463, \"err_high\": 12.46553801339161}, {\"time\": \"2009-02-17T16:30:00\", \"variable\": \"TA\", \"value\": -3.93, \"is_present\": true, \"mean\": 5.177311609203645, \"std\": 3.552895822849539, \"err_low\": -1.9284800364954329, \"err_high\": 12.283103254902723}, {\"time\": \"2009-02-17T17:00:00\", \"variable\": \"TA\", \"value\": -4.07, \"is_present\": false, \"mean\": 4.845452209765103, \"std\": 3.552895822849539, \"err_low\": -2.2603394359339752, \"err_high\": 11.951243855464181}, {\"time\": \"2009-02-17T17:30:00\", \"variable\": \"TA\", \"value\": -4.27, \"is_present\": false, \"mean\": 4.997572362875438, \"std\": 3.5547469221991848, \"err_low\": -2.1119214815229315, \"err_high\": 12.107066207273807}, {\"time\": \"2009-02-17T18:00:00\", \"variable\": \"TA\", \"value\": -4.66, \"is_present\": false, \"mean\": 5.155463927290542, \"std\": 3.5591068621614856, \"err_low\": -1.962749797032429, \"err_high\": 12.273677651613514}, {\"time\": \"2009-02-17T18:30:00\", \"variable\": \"TA\", \"value\": -4.9, \"is_present\": false, \"mean\": 5.309285037602871, \"std\": 3.5643598384299757, \"err_low\": -1.8194346392570804, \"err_high\": 12.438004714462823}, {\"time\": \"2009-02-17T19:00:00\", \"variable\": \"TA\", \"value\": -5.11, \"is_present\": false, \"mean\": 5.458022127616095, \"std\": 3.5702360838618477, \"err_low\": -1.6824500401076001, \"err_high\": 12.59849429533979}, {\"time\": \"2009-02-17T19:30:00\", \"variable\": \"TA\", \"value\": -5.3, \"is_present\": false, \"mean\": 5.601623594194332, \"std\": 3.576734095028519, \"err_low\": -1.5518445958627058, \"err_high\": 12.75509178425137}, {\"time\": \"2009-02-17T20:00:00\", \"variable\": \"TA\", \"value\": -5.48, \"is_present\": false, \"mean\": 5.740150699320232, \"std\": 3.5838437416270517, \"err_low\": -1.4275367839338715, \"err_high\": 12.907838182574334}, {\"time\": \"2009-02-17T20:30:00\", \"variable\": \"TA\", \"value\": -5.62, \"is_present\": false, \"mean\": 5.873684843894061, \"std\": 3.5915281800104726, \"err_low\": -1.309371516126884, \"err_high\": 13.056741203915006}, {\"time\": \"2009-02-17T21:00:00\", \"variable\": \"TA\", \"value\": -5.64, \"is_present\": false, \"mean\": 6.002316461635468, \"std\": 3.5997302675644405, \"err_low\": -1.197144073493413, \"err_high\": 13.201776996764348}, {\"time\": \"2009-02-17T21:30:00\", \"variable\": \"TA\", \"value\": -5.69, \"is_present\": false, \"mean\": 6.126142806458616, \"std\": 3.6083796272376594, \"err_low\": -1.0906164480167027, \"err_high\": 13.342902060933934}, {\"time\": \"2009-02-17T22:00:00\", \"variable\": \"TA\", \"value\": -5.8, \"is_present\": true, \"mean\": 6.245266788376146, \"std\": 3.617398377608835, \"err_low\": -0.9895299668415243, \"err_high\": 13.480063543593815}, {\"time\": \"2009-02-17T22:30:00\", \"variable\": \"TA\", \"value\": -5.88, \"is_present\": true, \"mean\": 4.04182721400942, \"std\": 3.5536468705819493, \"err_low\": -3.065466527154479, \"err_high\": 11.149120955173318}, {\"time\": \"2009-02-17T23:00:00\", \"variable\": \"TA\", \"value\": -5.96, \"is_present\": true, \"mean\": 4.061052414737987, \"std\": 3.55291672491508, \"err_low\": -3.044781035092173, \"err_high\": 11.166885864568147}, {\"time\": \"2009-02-17T23:30:00\", \"variable\": \"TA\", \"value\": -6.02, \"is_present\": true, \"mean\": 4.038738729059241, \"std\": 3.5528962546486564, \"err_low\": -3.067053780238072, \"err_high\": 11.144531238356553}, {\"time\": \"2009-02-18T00:00:00\", \"variable\": \"TA\", \"value\": -6.07, \"is_present\": true, \"mean\": 4.013998935141859, \"std\": 3.552895831269915, \"err_low\": -3.091792727397971, \"err_high\": 11.119790597681689}, {\"time\": \"2009-02-18T00:30:00\", \"variable\": \"TA\", \"value\": -6.07, \"is_present\": true, \"mean\": 3.9833450203767926, \"std\": 3.552895823011989, \"err_low\": -3.1224466256471857, \"err_high\": 11.089136666400771}, {\"time\": \"2009-02-18T01:00:00\", \"variable\": \"TA\", \"value\": -6.05, \"is_present\": true, \"mean\": 3.92576159498389, \"std\": 3.552895822852667, \"err_low\": -3.1800300507214434, \"err_high\": 11.031553240689224}, {\"time\": \"2009-02-18T01:30:00\", \"variable\": \"TA\", \"value\": -6.11, \"is_present\": true, \"mean\": 3.894439589419748, \"std\": 3.552895822849599, \"err_low\": -3.21135205627945, \"err_high\": 11.000231235118946}, {\"time\": \"2009-02-18T02:00:00\", \"variable\": \"TA\", \"value\": -6.34, \"is_present\": true, \"mean\": 3.8858932000307655, \"std\": 3.55289582284954, \"err_low\": -3.2198984456683144, \"err_high\": 10.991684845729846}, {\"time\": \"2009-02-18T02:30:00\", \"variable\": \"TA\", \"value\": -6.37, \"is_present\": true, \"mean\": 3.882805238432592, \"std\": 3.552895822849539, \"err_low\": -3.222986407266486, \"err_high\": 10.98859688413167}, {\"time\": \"2009-02-18T03:00:00\", \"variable\": \"TA\", \"value\": -6.46, \"is_present\": true, \"mean\": 3.901407464654616, \"std\": 3.552895822849539, \"err_low\": -3.204384181044462, \"err_high\": 11.007199110353694}, {\"time\": \"2009-02-18T03:30:00\", \"variable\": \"TA\", \"value\": -6.41, \"is_present\": true, \"mean\": 3.9727993161439787, \"std\": 3.552895822849539, \"err_low\": -3.1329923295550994, \"err_high\": 11.078590961843057}, {\"time\": \"2009-02-18T04:00:00\", \"variable\": \"TA\", \"value\": -6.56, \"is_present\": true, \"mean\": 4.013553371452544, \"std\": 3.552895822849539, \"err_low\": -3.092238274246534, \"err_high\": 11.119345017151623}, {\"time\": \"2009-02-18T04:30:00\", \"variable\": \"TA\", \"value\": -6.55, \"is_present\": true, \"mean\": 4.042472603535383, \"std\": 3.552895822849539, \"err_low\": -3.0633190421636955, \"err_high\": 11.148264249234462}, {\"time\": \"2009-02-18T05:00:00\", \"variable\": \"TA\", \"value\": -6.47, \"is_present\": true, \"mean\": 4.001456513688842, \"std\": 3.552895822849539, \"err_low\": -3.1043351320102364, \"err_high\": 11.10724815938792}, {\"time\": \"2009-02-18T05:30:00\", \"variable\": \"TA\", \"value\": -6.49, \"is_present\": true, \"mean\": 4.00248495644943, \"std\": 3.552895822849539, \"err_low\": -3.1033066892496484, \"err_high\": 11.108276602148507}, {\"time\": \"2009-02-18T06:00:00\", \"variable\": \"TA\", \"value\": -6.61, \"is_present\": true, \"mean\": 4.0335498109797445, \"std\": 3.552895822849539, \"err_low\": -3.0722418347193337, \"err_high\": 11.139341456678823}, {\"time\": \"2009-02-18T06:30:00\", \"variable\": \"TA\", \"value\": -6.51, \"is_present\": true, \"mean\": 4.017704416931586, \"std\": 3.552895822849539, \"err_low\": -3.088087228767492, \"err_high\": 11.123496062630664}, {\"time\": \"2009-02-18T07:00:00\", \"variable\": \"TA\", \"value\": -6.56, \"is_present\": true, \"mean\": 3.960340262414409, \"std\": 3.552895822849539, \"err_low\": -3.1454513832846693, \"err_high\": 11.066131908113487}, {\"time\": \"2009-02-18T07:30:00\", \"variable\": \"TA\", \"value\": -6.64, \"is_present\": true, \"mean\": 4.0022255273636755, \"std\": 3.552895822849539, \"err_low\": -3.1035661183354026, \"err_high\": 11.108017173062754}, {\"time\": \"2009-02-18T08:00:00\", \"variable\": \"TA\", \"value\": -6.54, \"is_present\": true, \"mean\": 4.093400693743962, \"std\": 3.552895822849539, \"err_low\": -3.0123909519551164, \"err_high\": 11.19919233944304}, {\"time\": \"2009-02-18T08:30:00\", \"variable\": \"TA\", \"value\": -6.19, \"is_present\": true, \"mean\": 4.221745828902271, \"std\": 3.552895822849539, \"err_low\": -2.8840458167968075, \"err_high\": 11.32753747460135}, {\"time\": \"2009-02-18T09:00:00\", \"variable\": \"TA\", \"value\": -4.97, \"is_present\": true, \"mean\": 4.534413870170525, \"std\": 3.552895822849539, \"err_low\": -2.5713777755285534, \"err_high\": 11.640205515869603}, {\"time\": \"2009-02-18T09:30:00\", \"variable\": \"TA\", \"value\": -4.18, \"is_present\": true, \"mean\": 5.279028243888183, \"std\": 3.552895822849539, \"err_low\": -1.8267634018108954, \"err_high\": 12.384819889587261}, {\"time\": \"2009-02-18T10:00:00\", \"variable\": \"TA\", \"value\": -3.86, \"is_present\": true, \"mean\": 6.044224696143157, \"std\": 3.552895822849539, \"err_low\": -1.061566949555921, \"err_high\": 13.150016341842235}, {\"time\": \"2009-02-18T10:30:00\", \"variable\": \"TA\", \"value\": -3.33, \"is_present\": true, \"mean\": 6.60999094302614, \"std\": 3.552895822849539, \"err_low\": -0.4958007026729385, \"err_high\": 13.715782588725219}, {\"time\": \"2009-02-18T11:00:00\", \"variable\": \"TA\", \"value\": -3.26, \"is_present\": true, \"mean\": 6.9864181090760535, \"std\": 3.552895822849539, \"err_low\": -0.11937353662302463, \"err_high\": 14.092209754775132}, {\"time\": \"2009-02-18T11:30:00\", \"variable\": \"TA\", \"value\": -3.47, \"is_present\": true, \"mean\": 7.305970100814474, \"std\": 3.552895822849539, \"err_low\": 0.20017845511539623, \"err_high\": 14.411761746513552}, {\"time\": \"2009-02-18T12:00:00\", \"variable\": \"TA\", \"value\": -3.17, \"is_present\": true, \"mean\": 7.64051817945238, \"std\": 3.552895822849539, \"err_low\": 0.534726533753302, \"err_high\": 14.746309825151458}, {\"time\": \"2009-02-18T12:30:00\", \"variable\": \"TA\", \"value\": -2.49, \"is_present\": true, \"mean\": 7.657670675294624, \"std\": 3.552895822849539, \"err_low\": 0.551879029595546, \"err_high\": 14.763462320993703}, {\"time\": \"2009-02-18T13:00:00\", \"variable\": \"TA\", \"value\": -2.88, \"is_present\": true, \"mean\": 7.444967169010335, \"std\": 3.5528958228495386, \"err_low\": 0.33917552331125744, \"err_high\": 14.550758814709411}, {\"time\": \"2009-02-18T13:30:00\", \"variable\": \"TA\", \"value\": -2.33, \"is_present\": true, \"mean\": 7.547652695411302, \"std\": 3.5528958228495386, \"err_low\": 0.44186104971222484, \"err_high\": 14.65344434111038}, {\"time\": \"2009-02-18T14:00:00\", \"variable\": \"TA\", \"value\": -2.72, \"is_present\": true, \"mean\": 8.596216156477983, \"std\": 3.552895822849539, \"err_low\": 1.4904245107789045, \"err_high\": 15.70200780217706}, {\"time\": \"2009-02-18T14:30:00\", \"variable\": \"TA\", \"value\": -2.59, \"is_present\": true, \"mean\": 8.487429375675529, \"std\": 3.552895822849539, \"err_low\": 1.3816377299764504, \"err_high\": 15.593221021374607}, {\"time\": \"2009-02-18T15:00:00\", \"variable\": \"TA\", \"value\": -2.24, \"is_present\": true, \"mean\": 8.087811036481352, \"std\": 3.552895822849539, \"err_low\": 0.9820193907822734, \"err_high\": 15.19360268218043}, {\"time\": \"2009-02-18T15:30:00\", \"variable\": \"TA\", \"value\": -2.58, \"is_present\": true, \"mean\": 7.967937481352432, \"std\": 3.552895822849539, \"err_low\": 0.8621458356533536, \"err_high\": 15.07372912705151}, {\"time\": \"2009-02-18T16:00:00\", \"variable\": \"TA\", \"value\": -3.23, \"is_present\": true, \"mean\": 7.352433856839642, \"std\": 3.552895822849539, \"err_low\": 0.24664221114056417, \"err_high\": 14.45822550253872}, {\"time\": \"2009-02-18T16:30:00\", \"variable\": \"TA\", \"value\": -3.26, \"is_present\": true, \"mean\": 7.000223149323439, \"std\": 3.552895822849539, \"err_low\": -0.10556849637563914, \"err_high\": 14.106014795022517}, {\"time\": \"2009-02-18T17:00:00\", \"variable\": \"TA\", \"value\": -3.77, \"is_present\": true, \"mean\": 6.491409155069378, \"std\": 3.552895822849539, \"err_low\": -0.6143824906297004, \"err_high\": 13.597200800768455}, {\"time\": \"2009-02-18T17:30:00\", \"variable\": \"TA\", \"value\": -4.07, \"is_present\": true, \"mean\": 6.1417685099742005, \"std\": 3.552895822849539, \"err_low\": -0.9640231357248776, \"err_high\": 13.247560155673279}, {\"time\": \"2009-02-18T18:00:00\", \"variable\": \"TA\", \"value\": -4.61, \"is_present\": true, \"mean\": 5.713749776615203, \"std\": 3.552895822849539, \"err_low\": -1.392041869083875, \"err_high\": 12.81954142231428}, {\"time\": \"2009-02-18T18:30:00\", \"variable\": \"TA\", \"value\": -4.82, \"is_present\": true, \"mean\": 5.411627820522895, \"std\": 3.552895822849539, \"err_low\": -1.694163825176183, \"err_high\": 12.517419466221973}, {\"time\": \"2009-02-18T19:00:00\", \"variable\": \"TA\", \"value\": -4.87, \"is_present\": true, \"mean\": 5.210053317889423, \"std\": 3.552895822849539, \"err_low\": -1.8957383278096556, \"err_high\": 12.3158449635885}, {\"time\": \"2009-02-18T19:30:00\", \"variable\": \"TA\", \"value\": -4.91, \"is_present\": true, \"mean\": 5.05203735271229, \"std\": 3.552895822849539, \"err_low\": -2.0537542929867882, \"err_high\": 12.157828998411368}, {\"time\": \"2009-02-18T20:00:00\", \"variable\": \"TA\", \"value\": -5.08, \"is_present\": true, \"mean\": 4.962967516007065, \"std\": 3.552895822849539, \"err_low\": -2.1428241296920127, \"err_high\": 12.068759161706144}, {\"time\": \"2009-02-18T20:30:00\", \"variable\": \"TA\", \"value\": -5.21, \"is_present\": true, \"mean\": 4.892695248575431, \"std\": 3.552895822849539, \"err_low\": -2.213096397123647, \"err_high\": 11.99848689427451}, {\"time\": \"2009-02-18T21:00:00\", \"variable\": \"TA\", \"value\": -5.4, \"is_present\": true, \"mean\": 4.8600040037891, \"std\": 3.552895822849539, \"err_low\": -2.2457876419099785, \"err_high\": 11.965795649488179}, {\"time\": \"2009-02-18T21:30:00\", \"variable\": \"TA\", \"value\": -5.34, \"is_present\": true, \"mean\": 4.876212067536217, \"std\": 3.552895822849539, \"err_low\": -2.229579578162861, \"err_high\": 11.982003713235295}, {\"time\": \"2009-02-18T22:00:00\", \"variable\": \"TA\", \"value\": -5.41, \"is_present\": true, \"mean\": 4.87606392428, \"std\": 3.552895822849539, \"err_low\": -2.229727721419078, \"err_high\": 11.981855569979079}, {\"time\": \"2009-02-18T22:30:00\", \"variable\": \"TA\", \"value\": -5.51, \"is_present\": true, \"mean\": 4.856306538654323, \"std\": 3.552895822849539, \"err_low\": -2.2494851070447552, \"err_high\": 11.962098184353401}, {\"time\": \"2009-02-18T23:00:00\", \"variable\": \"TA\", \"value\": -5.75, \"is_present\": true, \"mean\": 4.80090568459452, \"std\": 3.552895822849539, \"err_low\": -2.3048859611045582, \"err_high\": 11.906697330293598}, {\"time\": \"2009-02-18T23:30:00\", \"variable\": \"TA\", \"value\": -5.68, \"is_present\": true, \"mean\": 4.744725743015733, \"std\": 3.552895822849539, \"err_low\": -2.361065902683345, \"err_high\": 11.850517388714811}, {\"time\": \"2009-02-19T00:00:00\", \"variable\": \"TA\", \"value\": -5.73, \"is_present\": true, \"mean\": 4.665481048115286, \"std\": 3.552895822849539, \"err_low\": -2.4403105975837924, \"err_high\": 11.771272693814364}, {\"time\": \"2009-02-19T00:30:00\", \"variable\": \"TA\", \"value\": -5.69, \"is_present\": true, \"mean\": 4.630374493350187, \"std\": 3.552895822849539, \"err_low\": -2.475417152348891, \"err_high\": 11.736166139049265}, {\"time\": \"2009-02-19T01:00:00\", \"variable\": \"TA\", \"value\": -5.61, \"is_present\": true, \"mean\": 4.587814460144401, \"std\": 3.552895822849539, \"err_low\": -2.5179771855546775, \"err_high\": 11.693606105843479}, {\"time\": \"2009-02-19T01:30:00\", \"variable\": \"TA\", \"value\": -5.71, \"is_present\": true, \"mean\": 4.631201406525287, \"std\": 3.552895822849539, \"err_low\": -2.474590239173791, \"err_high\": 11.736993052224365}, {\"time\": \"2009-02-19T02:00:00\", \"variable\": \"TA\", \"value\": -6.35, \"is_present\": true, \"mean\": 4.648886153580787, \"std\": 3.552895822849539, \"err_low\": -2.456905492118291, \"err_high\": 11.754677799279865}, {\"time\": \"2009-02-19T02:30:00\", \"variable\": \"TA\", \"value\": -6.57, \"is_present\": true, \"mean\": 4.57598116257038, \"std\": 3.552895822849539, \"err_low\": -2.5298104831286983, \"err_high\": 11.681772808269457}, {\"time\": \"2009-02-19T03:00:00\", \"variable\": \"TA\", \"value\": -6.86, \"is_present\": true, \"mean\": 4.420226238325027, \"std\": 3.552895822849539, \"err_low\": -2.6855654073740514, \"err_high\": 11.526017884024105}, {\"time\": \"2009-02-19T03:30:00\", \"variable\": \"TA\", \"value\": -7.21, \"is_present\": true, \"mean\": 4.352654908726996, \"std\": 3.552895822849539, \"err_low\": -2.753136736972082, \"err_high\": 11.458446554426075}, {\"time\": \"2009-02-19T04:00:00\", \"variable\": \"TA\", \"value\": -7.01, \"is_present\": true, \"mean\": 4.248096964025742, \"std\": 3.552895822849539, \"err_low\": -2.857694681673336, \"err_high\": 11.35388860972482}, {\"time\": \"2009-02-19T04:30:00\", \"variable\": \"TA\", \"value\": -6.99, \"is_present\": true, \"mean\": 4.202422979314266, \"std\": 3.552895822849539, \"err_low\": -2.9033686663848126, \"err_high\": 11.308214625013344}, {\"time\": \"2009-02-19T05:00:00\", \"variable\": \"TA\", \"value\": -7.05, \"is_present\": true, \"mean\": 4.301128797105796, \"std\": 3.552895822849539, \"err_low\": -2.8046628485932823, \"err_high\": 11.406920442804875}, {\"time\": \"2009-02-19T05:30:00\", \"variable\": \"TA\", \"value\": -6.74, \"is_present\": true, \"mean\": 4.2894860073090335, \"std\": 3.552895822849539, \"err_low\": -2.8163056383900447, \"err_high\": 11.395277653008112}, {\"time\": \"2009-02-19T06:00:00\", \"variable\": \"TA\", \"value\": -6.54, \"is_present\": true, \"mean\": 4.3149774756008865, \"std\": 3.552895822849539, \"err_low\": -2.7908141700981917, \"err_high\": 11.420769121299966}, {\"time\": \"2009-02-19T06:30:00\", \"variable\": \"TA\", \"value\": -6.79, \"is_present\": true, \"mean\": 4.396699011810778, \"std\": 3.552895822849539, \"err_low\": -2.7090926338883, \"err_high\": 11.502490657509856}, {\"time\": \"2009-02-19T07:00:00\", \"variable\": \"TA\", \"value\": -6.76, \"is_present\": true, \"mean\": 4.4041132204795534, \"std\": 3.552895822849539, \"err_low\": -2.7016784252195247, \"err_high\": 11.509904866178632}, {\"time\": \"2009-02-19T07:30:00\", \"variable\": \"TA\", \"value\": -6.86, \"is_present\": true, \"mean\": 4.333644942447582, \"std\": 3.552895822849539, \"err_low\": -2.7721467032514964, \"err_high\": 11.439436588146659}, {\"time\": \"2009-02-19T08:00:00\", \"variable\": \"TA\", \"value\": -7.25, \"is_present\": true, \"mean\": 4.343962302415298, \"std\": 3.552895822849539, \"err_low\": -2.7618293432837806, \"err_high\": 11.449753948114376}, {\"time\": \"2009-02-19T08:30:00\", \"variable\": \"TA\", \"value\": -7.38, \"is_present\": true, \"mean\": 4.400986784539194, \"std\": 3.552895822849539, \"err_low\": -2.704804861159884, \"err_high\": 11.506778430238272}, {\"time\": \"2009-02-19T09:00:00\", \"variable\": \"TA\", \"value\": -7.33, \"is_present\": true, \"mean\": 4.431466960724119, \"std\": 3.552895822849539, \"err_low\": -2.674324684974959, \"err_high\": 11.537258606423197}, {\"time\": \"2009-02-19T09:30:00\", \"variable\": \"TA\", \"value\": -6.66, \"is_present\": true, \"mean\": 4.715052931072119, \"std\": 3.552895822849539, \"err_low\": -2.390738714626959, \"err_high\": 11.820844576771197}, {\"time\": \"2009-02-19T10:00:00\", \"variable\": \"TA\", \"value\": -5.8, \"is_present\": true, \"mean\": 5.340331403489802, \"std\": 3.552895822849539, \"err_low\": -1.7654602422092758, \"err_high\": 12.44612304918888}, {\"time\": \"2009-02-19T10:30:00\", \"variable\": \"TA\", \"value\": -5.17, \"is_present\": true, \"mean\": 6.007529077559493, \"std\": 3.552895822849539, \"err_low\": -1.0982625681395852, \"err_high\": 13.113320723258571}, {\"time\": \"2009-02-19T11:00:00\", \"variable\": \"TA\", \"value\": -4.36, \"is_present\": true, \"mean\": 6.601333630386943, \"std\": 3.552895822849539, \"err_low\": -0.5044580153121352, \"err_high\": 13.707125276086021}, {\"time\": \"2009-02-19T11:30:00\", \"variable\": \"TA\", \"value\": -3.54, \"is_present\": true, \"mean\": 7.095797254014524, \"std\": 3.552895822849539, \"err_low\": -0.00999439168455396, \"err_high\": 14.201588899713602}, {\"time\": \"2009-02-19T12:00:00\", \"variable\": \"TA\", \"value\": -3.01, \"is_present\": true, \"mean\": 7.598493876330666, \"std\": 3.552895822849539, \"err_low\": 0.492702230631588, \"err_high\": 14.704285522029744}], \"data-74c51f3c946cbb2ea84390426f08a66b\": [{\"gap_start\": \"2009-02-17T17:00:00\", \"gap_end\": \"2009-02-17T21:30:00\"}], \"data-9697b9c54420e0c035aa7808dde5f1d1\": [{\"time\": \"2009-02-15T08:30:00\", \"variable\": \"SW_IN\", \"value\": 70.45, \"is_present\": true, \"mean\": 135.10335328830513, \"std\": 164.6531555088537, \"err_low\": -194.20295772940227, \"err_high\": 464.40966430601253}, {\"time\": \"2009-02-15T09:00:00\", \"variable\": \"SW_IN\", \"value\": 99.68, \"is_present\": true, \"mean\": 58.05816746156323, \"std\": 22.309887749656895, \"err_low\": 13.43839196224944, \"err_high\": 102.67794296087702}, {\"time\": \"2009-02-15T09:30:00\", \"variable\": \"SW_IN\", \"value\": 119.34, \"is_present\": true, \"mean\": 84.43526820569443, \"std\": 22.302365822198873, \"err_low\": 39.83053656129668, \"err_high\": 129.03999985009216}, {\"time\": \"2009-02-15T10:00:00\", \"variable\": \"SW_IN\", \"value\": 149.78, \"is_present\": true, \"mean\": 102.34955509850604, \"std\": 22.302214453344348, \"err_low\": 57.74512619181735, \"err_high\": 146.95398400519474}, {\"time\": \"2009-02-15T10:30:00\", \"variable\": \"SW_IN\", \"value\": 198.38, \"is_present\": true, \"mean\": 131.2268939970109, \"std\": 22.302211507429462, \"err_low\": 86.62247098215198, \"err_high\": 175.83131701186983}, {\"time\": \"2009-02-15T11:00:00\", \"variable\": \"SW_IN\", \"value\": 312.32, \"is_present\": true, \"mean\": 177.55519598307552, \"std\": 22.30221145062611, \"err_low\": 132.9507730818233, \"err_high\": 222.15961888432776}, {\"time\": \"2009-02-15T11:30:00\", \"variable\": \"SW_IN\", \"value\": 376.19, \"is_present\": true, \"mean\": 284.8160532322498, \"std\": 22.30221144953254, \"err_low\": 240.21163033318476, \"err_high\": 329.4204761313149}, {\"time\": \"2009-02-15T12:00:00\", \"variable\": \"SW_IN\", \"value\": 344.522, \"is_present\": true, \"mean\": 345.22851942292965, \"std\": 22.302211449511475, \"err_low\": 300.6240965239067, \"err_high\": 389.8329423219526}, {\"time\": \"2009-02-15T12:30:00\", \"variable\": \"SW_IN\", \"value\": 311.83, \"is_present\": true, \"mean\": 315.15800900052625, \"std\": 22.302211449511077, \"err_low\": 270.5535861015041, \"err_high\": 359.7624318995484}, {\"time\": \"2009-02-15T13:00:00\", \"variable\": \"SW_IN\", \"value\": 377.75, \"is_present\": true, \"mean\": 284.01123026158444, \"std\": 22.302211449511077, \"err_low\": 239.4068073625623, \"err_high\": 328.6156531606066}, {\"time\": \"2009-02-15T13:30:00\", \"variable\": \"SW_IN\", \"value\": 382.8, \"is_present\": true, \"mean\": 344.9288068201792, \"std\": 22.302211449511066, \"err_low\": 300.32438392115705, \"err_high\": 389.53322971920136}, {\"time\": \"2009-02-15T14:00:00\", \"variable\": \"SW_IN\", \"value\": 210.62, \"is_present\": true, \"mean\": 351.4594070318688, \"std\": 22.302211449511066, \"err_low\": 306.85498413284665, \"err_high\": 396.06382993089096}, {\"time\": \"2009-02-15T14:30:00\", \"variable\": \"SW_IN\", \"value\": 165.86, \"is_present\": true, \"mean\": 189.64595251221007, \"std\": 22.30221144951107, \"err_low\": 145.04152961318795, \"err_high\": 234.2503754112322}, {\"time\": \"2009-02-15T15:00:00\", \"variable\": \"SW_IN\", \"value\": 240.06, \"is_present\": true, \"mean\": 148.91563716876064, \"std\": 22.302211449511077, \"err_low\": 104.31121426973849, \"err_high\": 193.5200600677828}, {\"time\": \"2009-02-15T15:30:00\", \"variable\": \"SW_IN\", \"value\": 141.59, \"is_present\": true, \"mean\": 218.3881558545301, \"std\": 22.30221144951107, \"err_low\": 173.78373295550796, \"err_high\": 262.99257875355227}, {\"time\": \"2009-02-15T16:00:00\", \"variable\": \"SW_IN\", \"value\": 128.46, \"is_present\": true, \"mean\": 126.56665069948772, \"std\": 22.302211449511077, \"err_low\": 81.96222780046557, \"err_high\": 171.17107359850988}, {\"time\": \"2009-02-15T16:30:00\", \"variable\": \"SW_IN\", \"value\": 75.99, \"is_present\": true, \"mean\": 113.88253540937879, \"std\": 22.30221144951108, \"err_low\": 69.27811251035664, \"err_high\": 158.48695830840094}, {\"time\": \"2009-02-15T17:00:00\", \"variable\": \"SW_IN\", \"value\": 42.91, \"is_present\": true, \"mean\": 65.06797059351976, \"std\": 22.302211449511063, \"err_low\": 20.463547694497635, \"err_high\": 109.67239349254189}, {\"time\": \"2009-02-15T17:30:00\", \"variable\": \"SW_IN\", \"value\": 13.13, \"is_present\": true, \"mean\": 34.143023401222266, \"std\": 22.302211449511066, \"err_low\": -10.461399497799867, \"err_high\": 78.7474463002444}, {\"time\": \"2009-02-15T18:00:00\", \"variable\": \"SW_IN\", \"value\": 0.69, \"is_present\": true, \"mean\": 6.683724002243665, \"std\": 22.302211449511063, \"err_low\": -37.92069889677846, \"err_high\": 51.28814690126579}, {\"time\": \"2009-02-15T18:30:00\", \"variable\": \"SW_IN\", \"value\": 0.0, \"is_present\": true, \"mean\": -4.713752394162782, \"std\": 22.302211449511063, \"err_low\": -49.31817529318491, \"err_high\": 39.890670504859344}, {\"time\": \"2009-02-15T19:00:00\", \"variable\": \"SW_IN\", \"value\": 0.0, \"is_present\": true, \"mean\": -5.557171458842959, \"std\": 22.30221144951106, \"err_low\": -50.16159435786508, \"err_high\": 39.04725144017916}, {\"time\": \"2009-02-15T19:30:00\", \"variable\": \"SW_IN\", \"value\": 0.0, \"is_present\": true, \"mean\": -5.794681030768629, \"std\": 22.30221144951107, \"err_low\": -50.39910392979077, \"err_high\": 38.80974186825351}, {\"time\": \"2009-02-15T20:00:00\", \"variable\": \"SW_IN\", \"value\": 0.0, \"is_present\": true, \"mean\": -5.20168476658003, \"std\": 22.30221144951106, \"err_low\": -49.80610766560215, \"err_high\": 39.40273813244209}, {\"time\": \"2009-02-15T20:30:00\", \"variable\": \"SW_IN\", \"value\": 0.0, \"is_present\": true, \"mean\": -4.921581716827433, \"std\": 22.302211449511066, \"err_low\": -49.526004615849565, \"err_high\": 39.6828411821947}, {\"time\": \"2009-02-15T21:00:00\", \"variable\": \"SW_IN\", \"value\": 0.0, \"is_present\": true, \"mean\": -4.4554034363521, \"std\": 22.302211449511066, \"err_low\": -49.05982633537423, \"err_high\": 40.14901946267003}, {\"time\": \"2009-02-15T21:30:00\", \"variable\": \"SW_IN\", \"value\": 0.0, \"is_present\": true, \"mean\": -4.047489972964058, \"std\": 22.302211449511077, \"err_low\": -48.65191287198621, \"err_high\": 40.556932926058096}, {\"time\": \"2009-02-15T22:00:00\", \"variable\": \"SW_IN\", \"value\": 0.0, \"is_present\": true, \"mean\": -3.8226663189109047, \"std\": 22.30221144951108, \"err_low\": -48.427089217933066, \"err_high\": 40.78175658011126}, {\"time\": \"2009-02-15T22:30:00\", \"variable\": \"SW_IN\", \"value\": 0.0, \"is_present\": true, \"mean\": -3.9408009469274816, \"std\": 22.302211449511066, \"err_low\": -48.545223845949614, \"err_high\": 40.66362195209465}, {\"time\": \"2009-02-15T23:00:00\", \"variable\": \"SW_IN\", \"value\": 0.0, \"is_present\": true, \"mean\": -3.849739762643594, \"std\": 22.302211449511066, \"err_low\": -48.45416266166573, \"err_high\": 40.75468313637854}, {\"time\": \"2009-02-15T23:30:00\", \"variable\": \"SW_IN\", \"value\": 0.0, \"is_present\": true, \"mean\": -3.7014022794249115, \"std\": 22.30221144951107, \"err_low\": -48.30582517844705, \"err_high\": 40.90302061959723}, {\"time\": \"2009-02-16T00:00:00\", \"variable\": \"SW_IN\", \"value\": 0.0, \"is_present\": true, \"mean\": -3.7834601122382168, \"std\": 22.302211449511066, \"err_low\": -48.38788301126035, \"err_high\": 40.820962786783916}, {\"time\": \"2009-02-16T00:30:00\", \"variable\": \"SW_IN\", \"value\": 0.0, \"is_present\": true, \"mean\": -3.6147729551690304, \"std\": 22.30221144951107, \"err_low\": -48.21919585419117, \"err_high\": 40.98964994385311}, {\"time\": \"2009-02-16T01:00:00\", \"variable\": \"SW_IN\", \"value\": 0.0, \"is_present\": true, \"mean\": -3.448869455267058, \"std\": 22.30221144951108, \"err_low\": -48.05329235428922, \"err_high\": 41.1555534437551}, {\"time\": \"2009-02-16T01:30:00\", \"variable\": \"SW_IN\", \"value\": 0.0, \"is_present\": true, \"mean\": -3.4309880914801028, \"std\": 22.302211449511077, \"err_low\": -48.03541099050226, \"err_high\": 41.17343480754205}, {\"time\": \"2009-02-16T02:00:00\", \"variable\": \"SW_IN\", \"value\": 0.0, \"is_present\": true, \"mean\": -3.332651194511726, \"std\": 22.302211449511066, \"err_low\": -47.93707409353386, \"err_high\": 41.27177170451041}, {\"time\": \"2009-02-16T02:30:00\", \"variable\": \"SW_IN\", \"value\": 0.0, \"is_present\": true, \"mean\": -3.2938253083245, \"std\": 22.302211449511077, \"err_low\": -47.898248207346654, \"err_high\": 41.310597590697654}, {\"time\": \"2009-02-16T03:00:00\", \"variable\": \"SW_IN\", \"value\": 0.0, \"is_present\": true, \"mean\": -3.3118348108410487, \"std\": 22.30221144951106, \"err_low\": -47.91625770986317, \"err_high\": 41.29258808818107}, {\"time\": \"2009-02-16T03:30:00\", \"variable\": \"SW_IN\", \"value\": 0.0, \"is_present\": true, \"mean\": -3.1271515501385494, \"std\": 22.302211449511063, \"err_low\": -47.731574449160675, \"err_high\": 41.477271348883576}, {\"time\": \"2009-02-16T04:00:00\", \"variable\": \"SW_IN\", \"value\": 0.0, \"is_present\": true, \"mean\": -2.959391227432448, \"std\": 22.302211449511073, \"err_low\": -47.563814126454595, \"err_high\": 41.6450316715897}, {\"time\": \"2009-02-16T04:30:00\", \"variable\": \"SW_IN\", \"value\": 0.0, \"is_present\": true, \"mean\": -2.9019777529329076, \"std\": 22.302211449511066, \"err_low\": -47.50640065195504, \"err_high\": 41.702445146089225}, {\"time\": \"2009-02-16T05:00:00\", \"variable\": \"SW_IN\", \"value\": 0.0, \"is_present\": true, \"mean\": -2.7251686979330856, \"std\": 22.302211449511077, \"err_low\": -47.32959159695524, \"err_high\": 41.87925420108907}, {\"time\": \"2009-02-16T05:30:00\", \"variable\": \"SW_IN\", \"value\": 0.0, \"is_present\": true, \"mean\": -2.61369979405184, \"std\": 22.302211449511063, \"err_low\": -47.218122693073965, \"err_high\": 41.990723104970286}, {\"time\": \"2009-02-16T06:00:00\", \"variable\": \"SW_IN\", \"value\": 0.0, \"is_present\": true, \"mean\": -2.513428968237733, \"std\": 22.302211449511073, \"err_low\": -47.11785186725988, \"err_high\": 42.090993930784414}, {\"time\": \"2009-02-16T06:30:00\", \"variable\": \"SW_IN\", \"value\": 0.0, \"is_present\": true, \"mean\": -2.425843033442291, \"std\": 22.302211449511077, \"err_low\": -47.030265932464445, \"err_high\": 42.17857986557986}, {\"time\": \"2009-02-16T07:00:00\", \"variable\": \"SW_IN\", \"value\": 0.0, \"is_present\": true, \"mean\": -2.303917391404866, \"std\": 22.302211449511077, \"err_low\": -46.90834029042702, \"err_high\": 42.30050550761729}, {\"time\": \"2009-02-16T07:30:00\", \"variable\": \"SW_IN\", \"value\": 0.0, \"is_present\": true, \"mean\": -2.1296268447356397, \"std\": 22.302211449511077, \"err_low\": -46.734049743757794, \"err_high\": 42.474796054286514}, {\"time\": \"2009-02-16T08:00:00\", \"variable\": \"SW_IN\", \"value\": 4.38, \"is_present\": true, \"mean\": -2.025460355893827, \"std\": 22.30221144951108, \"err_low\": -46.62988325491599, \"err_high\": 42.578962543128334}, {\"time\": \"2009-02-16T08:30:00\", \"variable\": \"SW_IN\", \"value\": 14.95, \"is_present\": true, \"mean\": 2.2198626399092802, \"std\": 22.302211449511066, \"err_low\": -42.38456025911285, \"err_high\": 46.82428553893141}, {\"time\": \"2009-02-16T09:00:00\", \"variable\": \"SW_IN\", \"value\": 38.04, \"is_present\": true, \"mean\": 12.161658743920455, \"std\": 22.302211449511073, \"err_low\": -32.44276415510169, \"err_high\": 56.7660816429426}, {\"time\": \"2009-02-16T09:30:00\", \"variable\": \"SW_IN\", \"value\": 53.39, \"is_present\": true, \"mean\": 33.85699473205911, \"std\": 22.302211449511077, \"err_low\": -10.747428166963047, \"err_high\": 78.46141763108126}, {\"time\": \"2009-02-16T10:00:00\", \"variable\": \"SW_IN\", \"value\": 95.84, \"is_present\": true, \"mean\": 48.32921091897336, \"std\": 22.302211449511077, \"err_low\": 3.7247880199512053, \"err_high\": 92.93363381799551}, {\"time\": \"2009-02-16T10:30:00\", \"variable\": \"SW_IN\", \"value\": 113.16, \"is_present\": true, \"mean\": 88.06616528454676, \"std\": 22.302211449511077, \"err_low\": 43.4617423855246, \"err_high\": 132.6705881835689}, {\"time\": \"2009-02-16T11:00:00\", \"variable\": \"SW_IN\", \"value\": 217.72, \"is_present\": true, \"mean\": 104.49165133512442, \"std\": 22.302211449511073, \"err_low\": 59.88722843610227, \"err_high\": 149.09607423414656}, {\"time\": \"2009-02-16T11:30:00\", \"variable\": \"SW_IN\", \"value\": 219.17, \"is_present\": true, \"mean\": 202.14566135591963, \"std\": 22.302211449511077, \"err_low\": 157.54123845689747, \"err_high\": 246.75008425494178}, {\"time\": \"2009-02-16T12:00:00\", \"variable\": \"SW_IN\", \"value\": 195.61, \"is_present\": true, \"mean\": 203.9566163823696, \"std\": 22.30221144951107, \"err_low\": 159.35219348334743, \"err_high\": 248.56103928139174}, {\"time\": \"2009-02-16T12:30:00\", \"variable\": \"SW_IN\", \"value\": 121.39, \"is_present\": true, \"mean\": 182.40533799710593, \"std\": 22.302211449511077, \"err_low\": 137.80091509808378, \"err_high\": 227.00976089612809}, {\"time\": \"2009-02-16T13:00:00\", \"variable\": \"SW_IN\", \"value\": 120.26, \"is_present\": true, \"mean\": 113.46086420494751, \"std\": 22.302211449511077, \"err_low\": 68.85644130592536, \"err_high\": 158.06528710396967}, {\"time\": \"2009-02-16T13:30:00\", \"variable\": \"SW_IN\", \"value\": 147.82, \"is_present\": true, \"mean\": 112.94937987967876, \"std\": 22.302211449511063, \"err_low\": 68.34495698065663, \"err_high\": 157.55380277870088}, {\"time\": \"2009-02-16T14:00:00\", \"variable\": \"SW_IN\", \"value\": 156.28, \"is_present\": true, \"mean\": 138.89543326061178, \"std\": 22.30221144951107, \"err_low\": 94.29101036158964, \"err_high\": 183.4998561596339}, {\"time\": \"2009-02-16T14:30:00\", \"variable\": \"SW_IN\", \"value\": 124.41, \"is_present\": true, \"mean\": 146.8892832055247, \"std\": 22.30221144951107, \"err_low\": 102.28486030650255, \"err_high\": 191.49370610454685}, {\"time\": \"2009-02-16T15:00:00\", \"variable\": \"SW_IN\", \"value\": 73.05, \"is_present\": true, \"mean\": 117.34752607997636, \"std\": 22.302211449511073, \"err_low\": 72.74310318095422, \"err_high\": 161.9519489789985}, {\"time\": \"2009-02-16T15:30:00\", \"variable\": \"SW_IN\", \"value\": 61.73, \"is_present\": true, \"mean\": 69.72777321211237, \"std\": 22.302211449511077, \"err_low\": 25.123350313090214, \"err_high\": 114.33219611113452}, {\"time\": \"2009-02-16T16:00:00\", \"variable\": \"SW_IN\", \"value\": 56.36, \"is_present\": true, \"mean\": 59.374904223384824, \"std\": 22.302211449511077, \"err_low\": 14.77048132436267, \"err_high\": 103.97932712240697}, {\"time\": \"2009-02-16T16:30:00\", \"variable\": \"SW_IN\", \"value\": 43.99, \"is_present\": true, \"mean\": 54.340910909496344, \"std\": 22.302211449511066, \"err_low\": 9.736488010474211, \"err_high\": 98.94533380851848}, {\"time\": \"2009-02-16T17:00:00\", \"variable\": \"SW_IN\", \"value\": 20.81, \"is_present\": true, \"mean\": 43.04089853893957, \"std\": 22.30221144951107, \"err_low\": -1.5635243600825675, \"err_high\": 87.64532143796171}, {\"time\": \"2009-02-16T17:30:00\", \"variable\": \"SW_IN\", \"value\": 4.36, \"is_present\": true, \"mean\": 21.62921684088731, \"std\": 22.302211449511063, \"err_low\": -22.975206058134816, \"err_high\": 66.23363973990944}, {\"time\": \"2009-02-16T18:00:00\", \"variable\": \"SW_IN\", \"value\": 0.0, \"is_present\": true, \"mean\": 6.343005920245503, \"std\": 22.302211449511066, \"err_low\": -38.26141697877663, \"err_high\": 50.947428819267635}, {\"time\": \"2009-02-16T18:30:00\", \"variable\": \"SW_IN\", \"value\": 0.0, \"is_present\": true, \"mean\": 2.253124891250309, \"std\": 22.302211449511063, \"err_low\": -42.35129800777182, \"err_high\": 46.857547790272434}, {\"time\": \"2009-02-16T19:00:00\", \"variable\": \"SW_IN\", \"value\": 0.0, \"is_present\": true, \"mean\": 2.3095567674596538, \"std\": 22.302211449511073, \"err_low\": -42.29486613156249, \"err_high\": 46.9139796664818}, {\"time\": \"2009-02-16T19:30:00\", \"variable\": \"SW_IN\", \"value\": 0.0, \"is_present\": true, \"mean\": 2.396604779105374, \"std\": 22.302211449511077, \"err_low\": -42.20781811991678, \"err_high\": 47.00102767812753}, {\"time\": \"2009-02-16T20:00:00\", \"variable\": \"SW_IN\", \"value\": 0.0, \"is_present\": true, \"mean\": 2.466153557375492, \"std\": 22.302211449511066, \"err_low\": -42.13826934164664, \"err_high\": 47.070576456397625}, {\"time\": \"2009-02-16T20:30:00\", \"variable\": \"SW_IN\", \"value\": 0.0, \"is_present\": true, \"mean\": 2.4658992809665676, \"std\": 22.302211449511077, \"err_low\": -42.138523618055586, \"err_high\": 47.07032217998872}, {\"time\": \"2009-02-16T21:00:00\", \"variable\": \"SW_IN\", \"value\": 0.0, \"is_present\": true, \"mean\": 2.4659322587507404, \"std\": 22.302211449511066, \"err_low\": -42.13849064027139, \"err_high\": 47.07035515777287}, {\"time\": \"2009-02-16T21:30:00\", \"variable\": \"SW_IN\", \"value\": 0.0, \"is_present\": true, \"mean\": 2.465927963920521, \"std\": 22.30221144951106, \"err_low\": -42.1384949351016, \"err_high\": 47.07035086294264}, {\"time\": \"2009-02-16T22:00:00\", \"variable\": \"SW_IN\", \"value\": 0.0, \"is_present\": true, \"mean\": 2.3435937872157098, \"std\": 22.302211449511073, \"err_low\": -42.26082911180644, \"err_high\": 46.94801668623786}, {\"time\": \"2009-02-16T22:30:00\", \"variable\": \"SW_IN\", \"value\": 0.0, \"is_present\": true, \"mean\": 2.2742154294132177, \"std\": 22.302211449511063, \"err_low\": -42.33020746960891, \"err_high\": 46.87863832843534}, {\"time\": \"2009-02-16T23:00:00\", \"variable\": \"SW_IN\", \"value\": 0.0, \"is_present\": true, \"mean\": 2.2569718247022053, \"std\": 22.30221144951107, \"err_low\": -42.347451074319935, \"err_high\": 46.861394723724345}, {\"time\": \"2009-02-16T23:30:00\", \"variable\": \"SW_IN\", \"value\": 0.0, \"is_present\": true, \"mean\": 2.2570169909623132, \"std\": 22.302211449511084, \"err_low\": -42.347405908059855, \"err_high\": 46.86143988998448}, {\"time\": \"2009-02-17T00:00:00\", \"variable\": \"SW_IN\", \"value\": 0.0, \"is_present\": true, \"mean\": 2.37934587388132, \"std\": 22.302211449511066, \"err_low\": -42.22507702514081, \"err_high\": 46.98376877290345}, {\"time\": \"2009-02-17T00:30:00\", \"variable\": \"SW_IN\", \"value\": 0.0, \"is_present\": true, \"mean\": 2.4312485059639926, \"std\": 22.302211449511077, \"err_low\": -42.17317439305816, \"err_high\": 47.03567140498615}, {\"time\": \"2009-02-17T01:00:00\", \"variable\": \"SW_IN\", \"value\": 0.0, \"is_present\": true, \"mean\": 2.5009965337928577, \"std\": 22.30221144951107, \"err_low\": -42.10342636522928, \"err_high\": 47.105419432815}, {\"time\": \"2009-02-17T01:30:00\", \"variable\": \"SW_IN\", \"value\": 0.0, \"is_present\": true, \"mean\": 2.53566839179706, \"std\": 22.302211449511077, \"err_low\": -42.068754507225094, \"err_high\": 47.140091290819214}, {\"time\": \"2009-02-17T02:00:00\", \"variable\": \"SW_IN\", \"value\": 0.0, \"is_present\": true, \"mean\": 2.6054598539626426, \"std\": 22.30221144951107, \"err_low\": -41.9989630450595, \"err_high\": 47.20988275298478}, {\"time\": \"2009-02-17T02:30:00\", \"variable\": \"SW_IN\", \"value\": 0.0, \"is_present\": true, \"mean\": 2.6576025191260584, \"std\": 22.302211449511077, \"err_low\": -41.946820379896096, \"err_high\": 47.26202541814821}, {\"time\": \"2009-02-17T03:00:00\", \"variable\": \"SW_IN\", \"value\": 0.0, \"is_present\": true, \"mean\": 2.8846069163896573, \"std\": 22.302211449511063, \"err_low\": -41.71981598263247, \"err_high\": 47.48902981541178}, {\"time\": \"2009-02-17T03:30:00\", \"variable\": \"SW_IN\", \"value\": 0.0, \"is_present\": true, \"mean\": 3.2157036348435213, \"std\": 22.302211449511063, \"err_low\": -41.388719264178604, \"err_high\": 47.82012653386565}, {\"time\": \"2009-02-17T04:00:00\", \"variable\": \"SW_IN\", \"value\": 0.0, \"is_present\": true, \"mean\": 3.7037355387861766, \"std\": 22.302211449511063, \"err_low\": -40.90068736023595, \"err_high\": 48.3081584378083}, {\"time\": \"2009-02-17T04:30:00\", \"variable\": \"SW_IN\", \"value\": 0.0, \"is_present\": true, \"mean\": 4.068800366940806, \"std\": 22.302211449511077, \"err_low\": -40.53562253208135, \"err_high\": 48.67322326596296}, {\"time\": \"2009-02-17T05:00:00\", \"variable\": \"SW_IN\", \"value\": 0.0, \"is_present\": true, \"mean\": 4.259710749564405, \"std\": 22.302211449511077, \"err_low\": -40.34471214945775, \"err_high\": 48.86413364858656}, {\"time\": \"2009-02-17T05:30:00\", \"variable\": \"SW_IN\", \"value\": 0.0, \"is_present\": true, \"mean\": 4.29400756584684, \"std\": 22.302211449511066, \"err_low\": -40.31041533317529, \"err_high\": 48.89843046486897}, {\"time\": \"2009-02-17T06:00:00\", \"variable\": \"SW_IN\", \"value\": 0.0, \"is_present\": true, \"mean\": 4.416276889280482, \"std\": 22.302211449511077, \"err_low\": -40.18814600974167, \"err_high\": 49.020699788302636}, {\"time\": \"2009-02-17T06:30:00\", \"variable\": \"SW_IN\", \"value\": 0.0, \"is_present\": true, \"mean\": 4.468187287703074, \"std\": 22.302211449511077, \"err_low\": -40.13623561131908, \"err_high\": 49.07261018672523}, {\"time\": \"2009-02-17T07:00:00\", \"variable\": \"SW_IN\", \"value\": 0.0, \"is_present\": true, \"mean\": 4.240835645628877, \"std\": 22.30221144951108, \"err_low\": -40.363587253393284, \"err_high\": 48.84525854465104}, {\"time\": \"2009-02-17T07:30:00\", \"variable\": \"SW_IN\", \"value\": 0.0, \"is_present\": true, \"mean\": 2.7912946473474847, \"std\": 22.30221144951107, \"err_low\": -41.813128251674655, \"err_high\": 47.395717546369625}, {\"time\": \"2009-02-17T08:00:00\", \"variable\": \"SW_IN\", \"value\": 1.9, \"is_present\": true, \"mean\": 1.9585500766621209, \"std\": 22.302211449511077, \"err_low\": -42.64587282236003, \"err_high\": 46.562972975684275}, {\"time\": \"2009-02-17T08:30:00\", \"variable\": \"SW_IN\", \"value\": 8.66, \"is_present\": true, \"mean\": 2.8534752362182303, \"std\": 22.30221144951107, \"err_low\": -41.75094766280391, \"err_high\": 47.45789813524037}, {\"time\": \"2009-02-17T09:00:00\", \"variable\": \"SW_IN\", \"value\": 15.41, \"is_present\": true, \"mean\": 7.5303083687215775, \"std\": 22.302211449511066, \"err_low\": -37.074114530300555, \"err_high\": 52.13473126774371}, {\"time\": \"2009-02-17T09:30:00\", \"variable\": \"SW_IN\", \"value\": 30.3, \"is_present\": true, \"mean\": 13.245136114277344, \"std\": 22.302211449511073, \"err_low\": -31.359286784744803, \"err_high\": 57.84955901329949}, {\"time\": \"2009-02-17T10:00:00\", \"variable\": \"SW_IN\", \"value\": 42.19, \"is_present\": true, \"mean\": 26.048797281709952, \"std\": 22.30221144951106, \"err_low\": -18.555625617312167, \"err_high\": 70.65322018073206}, {\"time\": \"2009-02-17T10:30:00\", \"variable\": \"SW_IN\", \"value\": 55.41, \"is_present\": true, \"mean\": 36.56633188847242, \"std\": 22.30221144951106, \"err_low\": -8.0380910105497, \"err_high\": 81.17075478749453}, {\"time\": \"2009-02-17T11:00:00\", \"variable\": \"SW_IN\", \"value\": 52.76, \"is_present\": true, \"mean\": 48.04056416547695, \"std\": 22.302211449511066, \"err_low\": 3.4361412664548183, \"err_high\": 92.64498706449908}, {\"time\": \"2009-02-17T11:30:00\", \"variable\": \"SW_IN\", \"value\": 102.05, \"is_present\": true, \"mean\": 44.92234978481747, \"std\": 22.302211449511073, \"err_low\": 0.31792688579532324, \"err_high\": 89.52677268383962}, {\"time\": \"2009-02-17T12:00:00\", \"variable\": \"SW_IN\", \"value\": 137.63, \"is_present\": true, \"mean\": 90.27362047574411, \"std\": 22.30221144951107, \"err_low\": 45.66919757672197, \"err_high\": 134.87804337476626}, {\"time\": \"2009-02-17T12:30:00\", \"variable\": \"SW_IN\", \"value\": 235.5, \"is_present\": true, \"mean\": 123.12848468663763, \"std\": 22.302211449511066, \"err_low\": 78.5240617876155, \"err_high\": 167.73290758565977}, {\"time\": \"2009-02-17T13:00:00\", \"variable\": \"SW_IN\", \"value\": 291.2, \"is_present\": true, \"mean\": 214.03139610233748, \"std\": 22.302211449511073, \"err_low\": 169.42697320331533, \"err_high\": 258.6358190013596}, {\"time\": \"2009-02-17T13:30:00\", \"variable\": \"SW_IN\", \"value\": 316.403, \"is_present\": true, \"mean\": 265.45494343729285, \"std\": 22.30221144951107, \"err_low\": 220.8505205382707, \"err_high\": 310.059366336315}, {\"time\": \"2009-02-17T14:00:00\", \"variable\": \"SW_IN\", \"value\": 364.367, \"is_present\": true, \"mean\": 289.0580080083302, \"std\": 22.30221144951107, \"err_low\": 244.45358510930805, \"err_high\": 333.66243090735236}, {\"time\": \"2009-02-17T14:30:00\", \"variable\": \"SW_IN\", \"value\": 422.51, \"is_present\": true, \"mean\": 333.5144827427827, \"std\": 22.302211449511066, \"err_low\": 288.91005984376056, \"err_high\": 378.1189056418049}, {\"time\": \"2009-02-17T15:00:00\", \"variable\": \"SW_IN\", \"value\": 379.39, \"is_present\": true, \"mean\": 387.7915876305972, \"std\": 22.302211449511073, \"err_low\": 343.187164731575, \"err_high\": 432.39601052961933}, {\"time\": \"2009-02-17T15:30:00\", \"variable\": \"SW_IN\", \"value\": 281.53, \"is_present\": true, \"mean\": 347.9365096623314, \"std\": 22.30221144951107, \"err_low\": 303.33208676330923, \"err_high\": 392.54093256135354}, {\"time\": \"2009-02-17T16:00:00\", \"variable\": \"SW_IN\", \"value\": 220.95, \"is_present\": true, \"mean\": 257.3425716638212, \"std\": 22.302211449511077, \"err_low\": 212.73814876479906, \"err_high\": 301.9469945628434}, {\"time\": \"2009-02-17T16:30:00\", \"variable\": \"SW_IN\", \"value\": 126.67, \"is_present\": true, \"mean\": 200.84876218444663, \"std\": 22.302211449511077, \"err_low\": 156.24433928542447, \"err_high\": 245.45318508346878}, {\"time\": \"2009-02-17T17:00:00\", \"variable\": \"SW_IN\", \"value\": 98.24, \"is_present\": true, \"mean\": 112.76108125927395, \"std\": 22.302211449511073, \"err_low\": 68.15665836025181, \"err_high\": 157.3655041582961}, {\"time\": \"2009-02-17T17:30:00\", \"variable\": \"SW_IN\", \"value\": 22.8, \"is_present\": true, \"mean\": 114.92616664174913, \"std\": 30.23652046507981, \"err_low\": 54.453125711589514, \"err_high\": 175.39920757190876}, {\"time\": \"2009-02-17T18:00:00\", \"variable\": \"SW_IN\", \"value\": 0.0, \"is_present\": true, \"mean\": 116.92774312517416, \"std\": 35.85527449818158, \"err_low\": 45.217194128811, \"err_high\": 188.63829212153732}, {\"time\": \"2009-02-17T18:30:00\", \"variable\": \"SW_IN\", \"value\": 0.0, \"is_present\": true, \"mean\": 118.78771719182896, \"std\": 40.18796705863758, \"err_low\": 38.411783074553796, \"err_high\": 199.16365130910413}, {\"time\": \"2009-02-17T19:00:00\", \"variable\": \"SW_IN\", \"value\": 0.0, \"is_present\": true, \"mean\": 120.51631600837902, \"std\": 43.670286084614936, \"err_low\": 33.17574383914915, \"err_high\": 207.85688817760888}, {\"time\": \"2009-02-17T19:30:00\", \"variable\": \"SW_IN\", \"value\": 0.0, \"is_present\": true, \"mean\": 122.12204857177365, \"std\": 46.537660366176446, \"err_low\": 29.046727839420754, \"err_high\": 215.19736930412654}, {\"time\": \"2009-02-17T20:00:00\", \"variable\": \"SW_IN\", \"value\": 0.0, \"is_present\": true, \"mean\": 123.61280397684827, \"std\": 48.935918073657696, \"err_low\": 25.740967829532877, \"err_high\": 221.48464012416366}, {\"time\": \"2009-02-17T20:30:00\", \"variable\": \"SW_IN\", \"value\": 0.0, \"is_present\": true, \"mean\": 124.99599330617234, \"std\": 50.96360377593134, \"err_low\": 23.06878575430966, \"err_high\": 226.92320085803502}, {\"time\": \"2009-02-17T21:00:00\", \"variable\": \"SW_IN\", \"value\": 0.0, \"is_present\": true, \"mean\": 126.27858729005767, \"std\": 52.69139790993051, \"err_low\": 20.895791470196656, \"err_high\": 231.6613831099187}, {\"time\": \"2009-02-17T21:30:00\", \"variable\": \"SW_IN\", \"value\": 0.0, \"is_present\": true, \"mean\": 127.46714162413662, \"std\": 54.172215327155854, \"err_low\": 19.122710969824908, \"err_high\": 235.81157227844832}, {\"time\": \"2009-02-17T22:00:00\", \"variable\": \"SW_IN\", \"value\": 0.0, \"is_present\": true, \"mean\": 128.56781989575416, \"std\": 55.44695744918996, \"err_low\": 17.673904997374237, \"err_high\": 239.4617347941341}, {\"time\": \"2009-02-17T22:30:00\", \"variable\": \"SW_IN\", \"value\": 0.0, \"is_present\": true, \"mean\": -8.313299390902287, \"std\": 22.312600289324624, \"err_low\": -52.938499969551536, \"err_high\": 36.31190118774696}, {\"time\": \"2009-02-17T23:00:00\", \"variable\": \"SW_IN\", \"value\": 0.0, \"is_present\": true, \"mean\": -8.740654386899351, \"std\": 22.302478891081616, \"err_low\": -53.34561216906258, \"err_high\": 35.86430339526388}, {\"time\": \"2009-02-17T23:30:00\", \"variable\": \"SW_IN\", \"value\": 0.0, \"is_present\": true, \"mean\": -8.882705145875363, \"std\": 22.30221691899042, \"err_low\": -53.487138983856205, \"err_high\": 35.72172869210548}, {\"time\": \"2009-02-18T00:00:00\", \"variable\": \"SW_IN\", \"value\": 0.0, \"is_present\": true, \"mean\": -8.886570902913618, \"std\": 22.302211555975486, \"err_low\": -53.49099401486459, \"err_high\": 35.71785220903735}, {\"time\": \"2009-02-18T00:30:00\", \"variable\": \"SW_IN\", \"value\": 0.0, \"is_present\": true, \"mean\": -9.128253470956494, \"std\": 22.302211451564343, \"err_low\": -53.73267637408518, \"err_high\": 35.47616943217219}, {\"time\": \"2009-02-18T01:00:00\", \"variable\": \"SW_IN\", \"value\": 0.0, \"is_present\": true, \"mean\": -8.917474601258121, \"std\": 22.3022114495506, \"err_low\": -53.52189750035932, \"err_high\": 35.68694829784308}, {\"time\": \"2009-02-18T01:30:00\", \"variable\": \"SW_IN\", \"value\": 0.0, \"is_present\": true, \"mean\": -8.719886422865741, \"std\": 22.302211449511834, \"err_low\": -53.32430932188941, \"err_high\": 35.884536476157926}, {\"time\": \"2009-02-18T02:00:00\", \"variable\": \"SW_IN\", \"value\": 0.0, \"is_present\": true, \"mean\": -8.733797955884867, \"std\": 22.302211449511077, \"err_low\": -53.33822085490702, \"err_high\": 35.87062494313729}, {\"time\": \"2009-02-18T02:30:00\", \"variable\": \"SW_IN\", \"value\": 0.0, \"is_present\": true, \"mean\": -9.20846085742393, \"std\": 22.30221144951107, \"err_low\": -53.81288375644607, \"err_high\": 35.39596204159821}, {\"time\": \"2009-02-18T03:00:00\", \"variable\": \"SW_IN\", \"value\": 0.0, \"is_present\": true, \"mean\": -8.86562688548453, \"std\": 22.302211449511066, \"err_low\": -53.470049784506664, \"err_high\": 35.7387960135376}, {\"time\": \"2009-02-18T03:30:00\", \"variable\": \"SW_IN\", \"value\": 0.0, \"is_present\": true, \"mean\": -9.412719710713347, \"std\": 22.30221144951108, \"err_low\": -54.01714260973551, \"err_high\": 35.191703188308814}, {\"time\": \"2009-02-18T04:00:00\", \"variable\": \"SW_IN\", \"value\": 0.0, \"is_present\": true, \"mean\": -9.24020714235904, \"std\": 22.30221144951107, \"err_low\": -53.84463004138118, \"err_high\": 35.3642157566631}, {\"time\": \"2009-02-18T04:30:00\", \"variable\": \"SW_IN\", \"value\": 0.0, \"is_present\": true, \"mean\": -10.04392168860015, \"std\": 22.302211449511063, \"err_low\": -54.648344587622276, \"err_high\": 34.560501210421975}, {\"time\": \"2009-02-18T05:00:00\", \"variable\": \"SW_IN\", \"value\": 0.0, \"is_present\": true, \"mean\": -9.805472351576029, \"std\": 22.302211449511066, \"err_low\": -54.40989525059816, \"err_high\": 34.798950547446104}, {\"time\": \"2009-02-18T05:30:00\", \"variable\": \"SW_IN\", \"value\": 0.0, \"is_present\": true, \"mean\": -9.449447817931215, \"std\": 22.302211449511066, \"err_low\": -54.05387071695335, \"err_high\": 35.15497508109092}, {\"time\": \"2009-02-18T06:00:00\", \"variable\": \"SW_IN\", \"value\": 0.0, \"is_present\": true, \"mean\": -9.616325443273595, \"std\": 22.302211449511077, \"err_low\": -54.22074834229575, \"err_high\": 34.98809745574856}, {\"time\": \"2009-02-18T06:30:00\", \"variable\": \"SW_IN\", \"value\": 0.0, \"is_present\": true, \"mean\": -10.237901922727517, \"std\": 22.302211449511066, \"err_low\": -54.84232482174965, \"err_high\": 34.366520976294616}, {\"time\": \"2009-02-18T07:00:00\", \"variable\": \"SW_IN\", \"value\": 0.0, \"is_present\": true, \"mean\": -9.551378859634198, \"std\": 22.302211449511077, \"err_low\": -54.15580175865635, \"err_high\": 35.053044039387956}, {\"time\": \"2009-02-18T07:30:00\", \"variable\": \"SW_IN\", \"value\": 0.0, \"is_present\": true, \"mean\": -9.292400070553995, \"std\": 22.302211449511077, \"err_low\": -53.89682296957615, \"err_high\": 35.31202282846816}, {\"time\": \"2009-02-18T08:00:00\", \"variable\": \"SW_IN\", \"value\": 12.06, \"is_present\": true, \"mean\": -9.891523028213427, \"std\": 22.302211449511063, \"err_low\": -54.49594592723555, \"err_high\": 34.7128998708087}, {\"time\": \"2009-02-18T08:30:00\", \"variable\": \"SW_IN\", \"value\": 44.19, \"is_present\": true, \"mean\": 1.6911416433508464, \"std\": 22.302211449511066, \"err_low\": -42.913281255671286, \"err_high\": 46.29556454237298}, {\"time\": \"2009-02-18T09:00:00\", \"variable\": \"SW_IN\", \"value\": 135.27, \"is_present\": true, \"mean\": 32.19849183490918, \"std\": 22.302211449511077, \"err_low\": -12.405931064112977, \"err_high\": 76.80291473393133}, {\"time\": \"2009-02-18T09:30:00\", \"variable\": \"SW_IN\", \"value\": 209.87, \"is_present\": true, \"mean\": 119.37522125017585, \"std\": 22.302211449511063, \"err_low\": 74.77079835115373, \"err_high\": 163.97964414919798}, {\"time\": \"2009-02-18T10:00:00\", \"variable\": \"SW_IN\", \"value\": 286.38, \"is_present\": true, \"mean\": 188.5743999793636, \"std\": 22.30221144951107, \"err_low\": 143.96997708034144, \"err_high\": 233.17882287838574}, {\"time\": \"2009-02-18T10:30:00\", \"variable\": \"SW_IN\", \"value\": 344.39, \"is_present\": true, \"mean\": 259.002686182856, \"std\": 22.30221144951107, \"err_low\": 214.39826328383384, \"err_high\": 303.60710908187815}, {\"time\": \"2009-02-18T11:00:00\", \"variable\": \"SW_IN\", \"value\": 372.21, \"is_present\": true, \"mean\": 314.36067921582134, \"std\": 22.30221144951107, \"err_low\": 269.7562563167992, \"err_high\": 358.9651021148435}, {\"time\": \"2009-02-18T11:30:00\", \"variable\": \"SW_IN\", \"value\": 427.62, \"is_present\": true, \"mean\": 339.8218390784933, \"std\": 22.30221144951106, \"err_low\": 295.21741617947123, \"err_high\": 384.4262619775154}, {\"time\": \"2009-02-18T12:00:00\", \"variable\": \"SW_IN\", \"value\": 440.89, \"is_present\": true, \"mean\": 389.7033766597628, \"std\": 22.30221144951107, \"err_low\": 345.09895376074064, \"err_high\": 434.30779955878495}, {\"time\": \"2009-02-18T12:30:00\", \"variable\": \"SW_IN\", \"value\": 361.76, \"is_present\": true, \"mean\": 403.6471384257399, \"std\": 22.302211449511063, \"err_low\": 359.04271552671776, \"err_high\": 448.25156132476206}, {\"time\": \"2009-02-18T13:00:00\", \"variable\": \"SW_IN\", \"value\": 322.51, \"is_present\": true, \"mean\": 331.8931823506283, \"std\": 22.30221144951107, \"err_low\": 287.28875945160615, \"err_high\": 376.49760524965046}, {\"time\": \"2009-02-18T13:30:00\", \"variable\": \"SW_IN\", \"value\": 479.54, \"is_present\": true, \"mean\": 294.0601561184604, \"std\": 22.302211449511077, \"err_low\": 249.45573321943823, \"err_high\": 338.66457901748254}, {\"time\": \"2009-02-18T14:00:00\", \"variable\": \"SW_IN\", \"value\": 446.35, \"is_present\": true, \"mean\": 440.01311580647206, \"std\": 22.30221144951108, \"err_low\": 395.4086929074499, \"err_high\": 484.6175387054942}, {\"time\": \"2009-02-18T14:30:00\", \"variable\": \"SW_IN\", \"value\": 402.19, \"is_present\": true, \"mean\": 406.37943788422876, \"std\": 22.302211449511077, \"err_low\": 361.7750149852066, \"err_high\": 450.9838607832509}, {\"time\": \"2009-02-18T15:00:00\", \"variable\": \"SW_IN\", \"value\": 366.58, \"is_present\": true, \"mean\": 367.6335100725906, \"std\": 22.302211449511077, \"err_low\": 323.0290871735684, \"err_high\": 412.23793297161274}, {\"time\": \"2009-02-18T15:30:00\", \"variable\": \"SW_IN\", \"value\": 252.27, \"is_present\": true, \"mean\": 334.2955863859822, \"std\": 22.302211449511077, \"err_low\": 289.69116348696, \"err_high\": 378.90000928500433}, {\"time\": \"2009-02-18T16:00:00\", \"variable\": \"SW_IN\", \"value\": 197.69, \"is_present\": true, \"mean\": 228.04792859746993, \"std\": 22.302211449511066, \"err_low\": 183.4435056984478, \"err_high\": 272.6523514964921}, {\"time\": \"2009-02-18T16:30:00\", \"variable\": \"SW_IN\", \"value\": 136.19, \"is_present\": true, \"mean\": 174.99398249111113, \"std\": 22.30221144951107, \"err_low\": 130.38955959208897, \"err_high\": 219.59840539013328}, {\"time\": \"2009-02-18T17:00:00\", \"variable\": \"SW_IN\", \"value\": 77.66, \"is_present\": true, \"mean\": 119.36218210794499, \"std\": 22.302211449511077, \"err_low\": 74.75775920892283, \"err_high\": 163.96660500696714}, {\"time\": \"2009-02-18T17:30:00\", \"variable\": \"SW_IN\", \"value\": 25.57, \"is_present\": true, \"mean\": 63.49003937299819, \"std\": 22.302211449511063, \"err_low\": 18.885616473976064, \"err_high\": 108.09446227202031}, {\"time\": \"2009-02-18T18:00:00\", \"variable\": \"SW_IN\", \"value\": 0.0, \"is_present\": true, \"mean\": 14.939210262710546, \"std\": 22.302211449511077, \"err_low\": -29.665212636311608, \"err_high\": 59.5436331617327}, {\"time\": \"2009-02-18T18:30:00\", \"variable\": \"SW_IN\", \"value\": 0.0, \"is_present\": true, \"mean\": -9.689599083551812, \"std\": 22.302211449511063, \"err_low\": -54.29402198257394, \"err_high\": 34.914823815470314}, {\"time\": \"2009-02-18T19:00:00\", \"variable\": \"SW_IN\", \"value\": 0.0, \"is_present\": true, \"mean\": -9.635280701065668, \"std\": 22.302211449511077, \"err_low\": -54.23970360008782, \"err_high\": 34.96914219795649}, {\"time\": \"2009-02-18T19:30:00\", \"variable\": \"SW_IN\", \"value\": 0.0, \"is_present\": true, \"mean\": -9.071347709219069, \"std\": 22.30221144951108, \"err_low\": -53.67577060824123, \"err_high\": 35.53307518980309}, {\"time\": \"2009-02-18T20:00:00\", \"variable\": \"SW_IN\", \"value\": 0.0, \"is_present\": true, \"mean\": -8.890599530877338, \"std\": 22.302211449511063, \"err_low\": -53.495022429899464, \"err_high\": 35.71382336814479}, {\"time\": \"2009-02-18T20:30:00\", \"variable\": \"SW_IN\", \"value\": 0.0, \"is_present\": true, \"mean\": -8.996267057202076, \"std\": 22.302211449511063, \"err_low\": -53.6006899562242, \"err_high\": 35.60815584182005}, {\"time\": \"2009-02-18T21:00:00\", \"variable\": \"SW_IN\", \"value\": 0.0, \"is_present\": true, \"mean\": -8.821845521013827, \"std\": 22.30221144951107, \"err_low\": -53.42626842003597, \"err_high\": 35.78257737800831}, {\"time\": \"2009-02-18T21:30:00\", \"variable\": \"SW_IN\", \"value\": 0.0, \"is_present\": true, \"mean\": -9.304109055929743, \"std\": 22.302211449511063, \"err_low\": -53.90853195495187, \"err_high\": 35.30031384309238}, {\"time\": \"2009-02-18T22:00:00\", \"variable\": \"SW_IN\", \"value\": 0.0, \"is_present\": true, \"mean\": -9.184288215279068, \"std\": 22.30221144951108, \"err_low\": -53.78871111430123, \"err_high\": 35.42013468374309}, {\"time\": \"2009-02-18T22:30:00\", \"variable\": \"SW_IN\", \"value\": 0.0, \"is_present\": true, \"mean\": -9.546462244458993, \"std\": 22.302211449511077, \"err_low\": -54.15088514348115, \"err_high\": 35.05796065456316}, {\"time\": \"2009-02-18T23:00:00\", \"variable\": \"SW_IN\", \"value\": 0.0, \"is_present\": true, \"mean\": -9.472158113953569, \"std\": 22.30221144951107, \"err_low\": -54.07658101297571, \"err_high\": 35.13226478506857}, {\"time\": \"2009-02-18T23:30:00\", \"variable\": \"SW_IN\", \"value\": 0.0, \"is_present\": true, \"mean\": -10.123223578390892, \"std\": 22.302211449511077, \"err_low\": -54.727646477413046, \"err_high\": 34.48119932063126}, {\"time\": \"2009-02-19T00:00:00\", \"variable\": \"SW_IN\", \"value\": 0.0, \"is_present\": true, \"mean\": -9.462558405453578, \"std\": 22.302211449511073, \"err_low\": -54.066981304475725, \"err_high\": 35.14186449356857}, {\"time\": \"2009-02-19T00:30:00\", \"variable\": \"SW_IN\", \"value\": 0.0, \"is_present\": true, \"mean\": -9.773051461086553, \"std\": 22.302211449511077, \"err_low\": -54.37747436010871, \"err_high\": 34.8313714379356}, {\"time\": \"2009-02-19T01:00:00\", \"variable\": \"SW_IN\", \"value\": 0.0, \"is_present\": true, \"mean\": -9.090877304999125, \"std\": 22.302211449511063, \"err_low\": -53.69530020402125, \"err_high\": 35.513545594023}, {\"time\": \"2009-02-19T01:30:00\", \"variable\": \"SW_IN\", \"value\": 0.0, \"is_present\": true, \"mean\": -9.098053820554853, \"std\": 22.302211449511066, \"err_low\": -53.702476719576985, \"err_high\": 35.50636907846728}, {\"time\": \"2009-02-19T02:00:00\", \"variable\": \"SW_IN\", \"value\": 0.0, \"is_present\": true, \"mean\": -9.46430959514531, \"std\": 22.302211449511063, \"err_low\": -54.068732494167435, \"err_high\": 35.14011330387682}, {\"time\": \"2009-02-19T02:30:00\", \"variable\": \"SW_IN\", \"value\": 0.0, \"is_present\": true, \"mean\": -11.231198756332489, \"std\": 22.302211449511077, \"err_low\": -55.83562165535464, \"err_high\": 33.373224142689665}, {\"time\": \"2009-02-19T03:00:00\", \"variable\": \"SW_IN\", \"value\": 0.0, \"is_present\": true, \"mean\": -10.758407924191246, \"std\": 22.302211449511077, \"err_low\": -55.3628308232134, \"err_high\": 33.84601497483091}, {\"time\": \"2009-02-19T03:30:00\", \"variable\": \"SW_IN\", \"value\": 0.0, \"is_present\": true, \"mean\": -11.272828782256354, \"std\": 22.302211449511077, \"err_low\": -55.87725168127851, \"err_high\": 33.3315941167658}, {\"time\": \"2009-02-19T04:00:00\", \"variable\": \"SW_IN\", \"value\": 0.0, \"is_present\": true, \"mean\": -11.89872936022006, \"std\": 22.30221144951107, \"err_low\": -56.5031522592422, \"err_high\": 32.70569353880208}, {\"time\": \"2009-02-19T04:30:00\", \"variable\": \"SW_IN\", \"value\": 0.0, \"is_present\": true, \"mean\": -10.311621486758085, \"std\": 22.302211449511077, \"err_low\": -54.91604438578024, \"err_high\": 34.29280141226407}, {\"time\": \"2009-02-19T05:00:00\", \"variable\": \"SW_IN\", \"value\": 0.0, \"is_present\": true, \"mean\": -11.110238100277527, \"std\": 22.30221144951107, \"err_low\": -55.71466099929967, \"err_high\": 33.49418479874461}, {\"time\": \"2009-02-19T05:30:00\", \"variable\": \"SW_IN\", \"value\": 0.0, \"is_present\": true, \"mean\": -11.169866240849544, \"std\": 22.302211449511077, \"err_low\": -55.7742891398717, \"err_high\": 33.43455665817261}, {\"time\": \"2009-02-19T06:00:00\", \"variable\": \"SW_IN\", \"value\": 0.0, \"is_present\": true, \"mean\": -10.286417754718698, \"std\": 22.302211449511088, \"err_low\": -54.890840653740874, \"err_high\": 34.31800514430348}, {\"time\": \"2009-02-19T06:30:00\", \"variable\": \"SW_IN\", \"value\": 0.0, \"is_present\": true, \"mean\": -10.184031707975876, \"std\": 22.30221144951107, \"err_low\": -54.788454606998016, \"err_high\": 34.420391191046264}, {\"time\": \"2009-02-19T07:00:00\", \"variable\": \"SW_IN\", \"value\": 0.0, \"is_present\": true, \"mean\": -11.330283078916025, \"std\": 22.302211449511066, \"err_low\": -55.93470597793816, \"err_high\": 33.27413982010611}, {\"time\": \"2009-02-19T07:30:00\", \"variable\": \"SW_IN\", \"value\": 0.87, \"is_present\": true, \"mean\": -10.66275738418527, \"std\": 22.30221144951107, \"err_low\": -55.26718028320741, \"err_high\": 33.94166551483687}, {\"time\": \"2009-02-19T08:00:00\", \"variable\": \"SW_IN\", \"value\": 21.3, \"is_present\": true, \"mean\": -10.107954380934913, \"std\": 22.302211449511066, \"err_low\": -54.712377279957046, \"err_high\": 34.49646851808722}, {\"time\": \"2009-02-19T08:30:00\", \"variable\": \"SW_IN\", \"value\": 46.35, \"is_present\": true, \"mean\": 7.773198577376419, \"std\": 22.302211449511063, \"err_low\": -36.831224321645706, \"err_high\": 52.377621476398545}, {\"time\": \"2009-02-19T09:00:00\", \"variable\": \"SW_IN\", \"value\": 104.24, \"is_present\": true, \"mean\": 31.363604474582417, \"std\": 22.302211449511088, \"err_low\": -13.240818424439759, \"err_high\": 75.9680273736046}, {\"time\": \"2009-02-19T09:30:00\", \"variable\": \"SW_IN\", \"value\": 207.85, \"is_present\": true, \"mean\": 85.5363904659411, \"std\": 22.30221144951106, \"err_low\": 40.93196756691898, \"err_high\": 130.1408133649632}, {\"time\": \"2009-02-19T10:00:00\", \"variable\": \"SW_IN\", \"value\": 289.46, \"is_present\": true, \"mean\": 183.46206358736964, \"std\": 22.302211449511066, \"err_low\": 138.85764068834752, \"err_high\": 228.06648648639177}, {\"time\": \"2009-02-19T10:30:00\", \"variable\": \"SW_IN\", \"value\": 350.51, \"is_present\": true, \"mean\": 260.70109586279483, \"std\": 22.302211449511077, \"err_low\": 216.09667296377268, \"err_high\": 305.305518761817}, {\"time\": \"2009-02-19T11:00:00\", \"variable\": \"SW_IN\", \"value\": 399.6, \"is_present\": true, \"mean\": 317.65019123728666, \"std\": 22.302211449511077, \"err_low\": 273.0457683382645, \"err_high\": 362.2546141363088}, {\"time\": \"2009-02-19T11:30:00\", \"variable\": \"SW_IN\", \"value\": 438.38, \"is_present\": true, \"mean\": 364.54186907841773, \"std\": 22.302211449511063, \"err_low\": 319.9374461793956, \"err_high\": 409.1462919774399}, {\"time\": \"2009-02-19T12:00:00\", \"variable\": \"SW_IN\", \"value\": 468.46, \"is_present\": true, \"mean\": 401.5861913006055, \"std\": 22.302211449511077, \"err_low\": 356.98176840158334, \"err_high\": 446.19061419962765}], \"data-c81d18f3ff9009d1f4cbaa074274bb01\": [{\"time\": \"2009-02-15T08:30:00\", \"variable\": \"VPD\", \"value\": 0.104, \"is_present\": true, \"mean\": 3.353521526096904, \"std\": 4.309151323072243, \"err_low\": -5.264781120047582, \"err_high\": 11.971824172241389}, {\"time\": \"2009-02-15T09:00:00\", \"variable\": \"VPD\", \"value\": 0.16, \"is_present\": true, \"mean\": 0.20819881392743733, \"std\": 0.1046631972531022, \"err_low\": -0.001127580578767079, \"err_high\": 0.4175252084336417}, {\"time\": \"2009-02-15T09:30:00\", \"variable\": \"VPD\", \"value\": 0.162, \"is_present\": true, \"mean\": 0.24515344416558005, \"std\": 0.10264205409574943, \"err_low\": 0.03986933597408118, \"err_high\": 0.45043755235707894}, {\"time\": \"2009-02-15T10:00:00\", \"variable\": \"VPD\", \"value\": 0.174, \"is_present\": true, \"mean\": 0.25794569939482237, \"std\": 0.10260272515798573, \"err_low\": 0.052740249078850915, \"err_high\": 0.46315114971079385}, {\"time\": \"2009-02-15T10:30:00\", \"variable\": \"VPD\", \"value\": 0.271, \"is_present\": true, \"mean\": 0.30382753823343567, \"std\": 0.10260196425459012, \"err_low\": 0.09862360972425543, \"err_high\": 0.5090314667426159}, {\"time\": \"2009-02-15T11:00:00\", \"variable\": \"VPD\", \"value\": 0.447, \"is_present\": true, \"mean\": 0.4670817002972534, \"std\": 0.10260194959592964, \"err_low\": 0.2618778011053941, \"err_high\": 0.6722855994891126}, {\"time\": \"2009-02-15T11:30:00\", \"variable\": \"VPD\", \"value\": 0.688, \"is_present\": true, \"mean\": 0.7668056233739318, \"std\": 0.10260194931376564, \"err_low\": 0.5616017247464005, \"err_high\": 0.9720095220014631}, {\"time\": \"2009-02-15T12:00:00\", \"variable\": \"VPD\", \"value\": 0.808, \"is_present\": true, \"mean\": 1.0740018904412785, \"std\": 0.10260194930833583, \"err_low\": 0.8687979918246068, \"err_high\": 1.2792057890579502}, {\"time\": \"2009-02-15T12:30:00\", \"variable\": \"VPD\", \"value\": 0.782, \"is_present\": true, \"mean\": 1.122147162797559, \"std\": 0.10260194930823113, \"err_low\": 0.9169432641810967, \"err_high\": 1.3273510614140211}, {\"time\": \"2009-02-15T13:00:00\", \"variable\": \"VPD\", \"value\": 0.675, \"is_present\": true, \"mean\": 1.032216876983619, \"std\": 0.10260194930823024, \"err_low\": 0.8270129783671586, \"err_high\": 1.2374207756000795}, {\"time\": \"2009-02-15T13:30:00\", \"variable\": \"VPD\", \"value\": 0.792, \"is_present\": true, \"mean\": 0.979846472929677, \"std\": 0.10260194930823015, \"err_low\": 0.7746425743132167, \"err_high\": 1.1850503715461373}, {\"time\": \"2009-02-15T14:00:00\", \"variable\": \"VPD\", \"value\": 0.711, \"is_present\": true, \"mean\": 1.1573598717918525, \"std\": 0.1026019493082289, \"err_low\": 0.9521559731753947, \"err_high\": 1.3625637704083102}, {\"time\": \"2009-02-15T14:30:00\", \"variable\": \"VPD\", \"value\": 0.681, \"is_present\": true, \"mean\": 0.8464764361734747, \"std\": 0.102601949308229, \"err_low\": 0.6412725375570167, \"err_high\": 1.0516803347899326}, {\"time\": \"2009-02-15T15:00:00\", \"variable\": \"VPD\", \"value\": 0.719, \"is_present\": true, \"mean\": 0.8004396276561208, \"std\": 0.10260194930822872, \"err_low\": 0.5952357290396633, \"err_high\": 1.0056435262725782}, {\"time\": \"2009-02-15T15:30:00\", \"variable\": \"VPD\", \"value\": 0.757, \"is_present\": true, \"mean\": 0.9266990918532256, \"std\": 0.10260194930822988, \"err_low\": 0.7214951932367659, \"err_high\": 1.1319029904696853}, {\"time\": \"2009-02-15T16:00:00\", \"variable\": \"VPD\", \"value\": 0.742, \"is_present\": true, \"mean\": 0.8607753468747239, \"std\": 0.10260194930822875, \"err_low\": 0.6555714482582664, \"err_high\": 1.0659792454911814}, {\"time\": \"2009-02-15T16:30:00\", \"variable\": \"VPD\", \"value\": 0.721, \"is_present\": true, \"mean\": 0.8218504117439145, \"std\": 0.10260194930823055, \"err_low\": 0.6166465131274534, \"err_high\": 1.0270543103603755}, {\"time\": \"2009-02-15T17:00:00\", \"variable\": \"VPD\", \"value\": 0.684, \"is_present\": true, \"mean\": 0.7503573935530636, \"std\": 0.1026019493082304, \"err_low\": 0.5451534949366028, \"err_high\": 0.9555612921695245}, {\"time\": \"2009-02-15T17:30:00\", \"variable\": \"VPD\", \"value\": 0.648, \"is_present\": true, \"mean\": 0.6788667059653939, \"std\": 0.10260194930823026, \"err_low\": 0.4736628073489334, \"err_high\": 0.8840706045818544}, {\"time\": \"2009-02-15T18:00:00\", \"variable\": \"VPD\", \"value\": 0.604, \"is_present\": true, \"mean\": 0.6167804600221407, \"std\": 0.1026019493082295, \"err_low\": 0.4115765614056817, \"err_high\": 0.8219843586385998}, {\"time\": \"2009-02-15T18:30:00\", \"variable\": \"VPD\", \"value\": 0.487, \"is_present\": true, \"mean\": 0.5610149530205324, \"std\": 0.10260194930823016, \"err_low\": 0.35581105440407207, \"err_high\": 0.7662188516369928}, {\"time\": \"2009-02-15T19:00:00\", \"variable\": \"VPD\", \"value\": 0.292, \"is_present\": true, \"mean\": 0.4299472588269264, \"std\": 0.10260194930822973, \"err_low\": 0.22474336021046695, \"err_high\": 0.6351511574433859}, {\"time\": \"2009-02-15T19:30:00\", \"variable\": \"VPD\", \"value\": 0.166, \"is_present\": true, \"mean\": 0.22554269401257798, \"std\": 0.1026019493082307, \"err_low\": 0.020338795396116577, \"err_high\": 0.43074659262903936}, {\"time\": \"2009-02-15T20:00:00\", \"variable\": \"VPD\", \"value\": 0.087, \"is_present\": true, \"mean\": 0.1256120417227975, \"std\": 0.10260194930822986, \"err_low\": -0.07959185689366222, \"err_high\": 0.3308159403392572}, {\"time\": \"2009-02-15T20:30:00\", \"variable\": \"VPD\", \"value\": 0.057, \"is_present\": true, \"mean\": 0.05915271359182839, \"std\": 0.1026019493082285, \"err_low\": -0.1460511850246286, \"err_high\": 0.2643566122082854}, {\"time\": \"2009-02-15T21:00:00\", \"variable\": \"VPD\", \"value\": 0.062, \"is_present\": true, \"mean\": 0.042100529281910326, \"std\": 0.10260194930822926, \"err_low\": -0.1631033693345482, \"err_high\": 0.24730442789836884}, {\"time\": \"2009-02-15T21:30:00\", \"variable\": \"VPD\", \"value\": 0.083, \"is_present\": true, \"mean\": 0.05466409395715166, \"std\": 0.10260194930822943, \"err_low\": -0.1505398046593072, \"err_high\": 0.2598679925736105}, {\"time\": \"2009-02-15T22:00:00\", \"variable\": \"VPD\", \"value\": 0.077, \"is_present\": true, \"mean\": 0.0780622386385823, \"std\": 0.1026019493082304, \"err_low\": -0.1271416599778785, \"err_high\": 0.2832661372550431}, {\"time\": \"2009-02-15T22:30:00\", \"variable\": \"VPD\", \"value\": 0.066, \"is_present\": true, \"mean\": 0.06482090394438345, \"std\": 0.10260194930822951, \"err_low\": -0.14038299467207557, \"err_high\": 0.2700248025608425}, {\"time\": \"2009-02-15T23:00:00\", \"variable\": \"VPD\", \"value\": 0.07, \"is_present\": true, \"mean\": 0.054227160448346634, \"std\": 0.10260194930822995, \"err_low\": -0.15097673816811327, \"err_high\": 0.25943105906480657}, {\"time\": \"2009-02-15T23:30:00\", \"variable\": \"VPD\", \"value\": 0.055, \"is_present\": true, \"mean\": 0.062106974537195825, \"std\": 0.10260194930822965, \"err_low\": -0.14309692407926347, \"err_high\": 0.2673108731536551}, {\"time\": \"2009-02-16T00:00:00\", \"variable\": \"VPD\", \"value\": 0.049, \"is_present\": true, \"mean\": 0.04220359099499671, \"std\": 0.10260194930822887, \"err_low\": -0.16300030762146103, \"err_high\": 0.24740748961145445}, {\"time\": \"2009-02-16T00:30:00\", \"variable\": \"VPD\", \"value\": 0.056, \"is_present\": true, \"mean\": 0.0397778483065796, \"std\": 0.1026019493082292, \"err_low\": -0.1654260503098788, \"err_high\": 0.244981746923038}, {\"time\": \"2009-02-16T01:00:00\", \"variable\": \"VPD\", \"value\": 0.058, \"is_present\": true, \"mean\": 0.04956221041616171, \"std\": 0.1026019493082306, \"err_low\": -0.1556416882002995, \"err_high\": 0.2547661090326229}, {\"time\": \"2009-02-16T01:30:00\", \"variable\": \"VPD\", \"value\": 0.058, \"is_present\": true, \"mean\": 0.04979673524570538, \"std\": 0.10260194930823029, \"err_low\": -0.1554071633707552, \"err_high\": 0.255000633862166}, {\"time\": \"2009-02-16T02:00:00\", \"variable\": \"VPD\", \"value\": 0.055, \"is_present\": true, \"mean\": 0.049681327139600384, \"std\": 0.10260194930822841, \"err_low\": -0.15552257147685644, \"err_high\": 0.2548852257560572}, {\"time\": \"2009-02-16T02:30:00\", \"variable\": \"VPD\", \"value\": 0.039, \"is_present\": true, \"mean\": 0.04612890936448988, \"std\": 0.10260194930823016, \"err_low\": -0.15907498925197044, \"err_high\": 0.2513328079809502}, {\"time\": \"2009-02-16T03:00:00\", \"variable\": \"VPD\", \"value\": 0.026, \"is_present\": true, \"mean\": 0.027566688006337436, \"std\": 0.10260194930823058, \"err_low\": -0.17763721061012372, \"err_high\": 0.2327705866227986}, {\"time\": \"2009-02-16T03:30:00\", \"variable\": \"VPD\", \"value\": 0.018, \"is_present\": true, \"mean\": 0.016605874540704946, \"std\": 0.10260194930822945, \"err_low\": -0.18859802407575396, \"err_high\": 0.22180977315716385}, {\"time\": \"2009-02-16T04:00:00\", \"variable\": \"VPD\", \"value\": 0.005, \"is_present\": true, \"mean\": 0.010245877169093198, \"std\": 0.1026019493082295, \"err_low\": -0.1949580214473658, \"err_high\": 0.2154497757855522}, {\"time\": \"2009-02-16T04:30:00\", \"variable\": \"VPD\", \"value\": 0.0, \"is_present\": true, \"mean\": -0.0035864521896193935, \"std\": 0.1026019493082291, \"err_low\": -0.2087903508060776, \"err_high\": 0.20161744642683882}, {\"time\": \"2009-02-16T05:00:00\", \"variable\": \"VPD\", \"value\": 0.0, \"is_present\": true, \"mean\": -0.0058902704908101455, \"std\": 0.10260194930823009, \"err_low\": -0.21109416910727033, \"err_high\": 0.19931362812565004}, {\"time\": \"2009-02-16T05:30:00\", \"variable\": \"VPD\", \"value\": 0.0, \"is_present\": true, \"mean\": -0.00480941553083758, \"std\": 0.10260194930822962, \"err_low\": -0.21001331414729682, \"err_high\": 0.20039448308562166}, {\"time\": \"2009-02-16T06:00:00\", \"variable\": \"VPD\", \"value\": 0.0, \"is_present\": true, \"mean\": -0.004814395703929719, \"std\": 0.10260194930823029, \"err_low\": -0.2100182943203903, \"err_high\": 0.20038950291253085}, {\"time\": \"2009-02-16T06:30:00\", \"variable\": \"VPD\", \"value\": 0.0, \"is_present\": true, \"mean\": -0.004677362862529844, \"std\": 0.10260194930822929, \"err_low\": -0.20988126147898842, \"err_high\": 0.20052653575392873}, {\"time\": \"2009-02-16T07:00:00\", \"variable\": \"VPD\", \"value\": 0.0, \"is_present\": true, \"mean\": -0.004509097730369227, \"std\": 0.10260194930822969, \"err_low\": -0.2097129963468286, \"err_high\": 0.20069480088609015}, {\"time\": \"2009-02-16T07:30:00\", \"variable\": \"VPD\", \"value\": 0.0, \"is_present\": true, \"mean\": -0.0042648339073654284, \"std\": 0.10260194930822938, \"err_low\": -0.2094687325238242, \"err_high\": 0.20093906470909334}, {\"time\": \"2009-02-16T08:00:00\", \"variable\": \"VPD\", \"value\": 0.0, \"is_present\": true, \"mean\": -0.004133149150912008, \"std\": 0.10260194930822913, \"err_low\": -0.20933704776737028, \"err_high\": 0.20107074946554626}, {\"time\": \"2009-02-16T08:30:00\", \"variable\": \"VPD\", \"value\": 0.0, \"is_present\": true, \"mean\": 0.000471999220042818, \"std\": 0.10260194930822955, \"err_low\": -0.20473189939641628, \"err_high\": 0.20567589783650192}, {\"time\": \"2009-02-16T09:00:00\", \"variable\": \"VPD\", \"value\": 0.0, \"is_present\": true, \"mean\": 0.011031272852989549, \"std\": 0.1026019493082302, \"err_low\": -0.19417262576347086, \"err_high\": 0.21623517146944995}, {\"time\": \"2009-02-16T09:30:00\", \"variable\": \"VPD\", \"value\": 0.0, \"is_present\": true, \"mean\": 0.03407479058583185, \"std\": 0.1026019493082305, \"err_low\": -0.17112910803062914, \"err_high\": 0.23927868920229284}, {\"time\": \"2009-02-16T10:00:00\", \"variable\": \"VPD\", \"value\": 0.0, \"is_present\": true, \"mean\": 0.04904675056040242, \"std\": 0.1026019493082305, \"err_low\": -0.15615714805605857, \"err_high\": 0.2542506491768634}, {\"time\": \"2009-02-16T10:30:00\", \"variable\": \"VPD\", \"value\": 0.0, \"is_present\": true, \"mean\": 0.09127543550055872, \"std\": 0.10260194930822965, \"err_low\": -0.11392846311590057, \"err_high\": 0.296479334117018}, {\"time\": \"2009-02-16T11:00:00\", \"variable\": \"VPD\", \"value\": 0.0, \"is_present\": true, \"mean\": 0.10791255351855744, \"std\": 0.10260194930822927, \"err_low\": -0.0972913450979011, \"err_high\": 0.313116452135016}, {\"time\": \"2009-02-16T11:30:00\", \"variable\": \"VPD\", \"value\": 0.0, \"is_present\": true, \"mean\": 0.21212469101967457, \"std\": 0.10260194930823031, \"err_low\": 0.006920792403213943, \"err_high\": 0.41732858963613517}, {\"time\": \"2009-02-16T12:00:00\", \"variable\": \"VPD\", \"value\": 0.0, \"is_present\": true, \"mean\": 0.21164295316115522, \"std\": 0.10260194930822993, \"err_low\": 0.006439054544695372, \"err_high\": 0.41684685177761505}, {\"time\": \"2009-02-16T12:30:00\", \"variable\": \"VPD\", \"value\": 0.0, \"is_present\": true, \"mean\": 0.18852748687929433, \"std\": 0.10260194930823127, \"err_low\": -0.016676411737168217, \"err_high\": 0.39373138549575687}, {\"time\": \"2009-02-16T13:00:00\", \"variable\": \"VPD\", \"value\": 0.0, \"is_present\": true, \"mean\": 0.11530627432128648, \"std\": 0.10260194930822998, \"err_low\": -0.08989762429517348, \"err_high\": 0.3205101729377464}, {\"time\": \"2009-02-16T13:30:00\", \"variable\": \"VPD\", \"value\": 0.0, \"is_present\": true, \"mean\": 0.1168140193908278, \"std\": 0.10260194930822977, \"err_low\": -0.08838987922563174, \"err_high\": 0.32201791800728735}, {\"time\": \"2009-02-16T14:00:00\", \"variable\": \"VPD\", \"value\": 0.0, \"is_present\": true, \"mean\": 0.14473904792177494, \"std\": 0.10260194930823098, \"err_low\": -0.06046485069468702, \"err_high\": 0.3499429465382369}, {\"time\": \"2009-02-16T14:30:00\", \"variable\": \"VPD\", \"value\": 0.0, \"is_present\": true, \"mean\": 0.1526237481585544, \"std\": 0.10260194930823024, \"err_low\": -0.052580150457906094, \"err_high\": 0.3578276467750149}, {\"time\": \"2009-02-16T15:00:00\", \"variable\": \"VPD\", \"value\": 0.0, \"is_present\": true, \"mean\": 0.12079410943995672, \"std\": 0.10260194930822984, \"err_low\": -0.08440978917650296, \"err_high\": 0.32599800805641643}, {\"time\": \"2009-02-16T15:30:00\", \"variable\": \"VPD\", \"value\": 0.0, \"is_present\": true, \"mean\": 0.07064101472599704, \"std\": 0.10260194930822937, \"err_low\": -0.1345628838904617, \"err_high\": 0.27584491334245576}, {\"time\": \"2009-02-16T16:00:00\", \"variable\": \"VPD\", \"value\": 0.0, \"is_present\": true, \"mean\": 0.06089854777802861, \"std\": 0.10260194930823009, \"err_low\": -0.14430535083843157, \"err_high\": 0.26610244639448877}, {\"time\": \"2009-02-16T16:30:00\", \"variable\": \"VPD\", \"value\": 0.0, \"is_present\": true, \"mean\": 0.05578751424975126, \"std\": 0.10260194930823012, \"err_low\": -0.14941638436670898, \"err_high\": 0.2609914128662115}, {\"time\": \"2009-02-16T17:00:00\", \"variable\": \"VPD\", \"value\": 0.0, \"is_present\": true, \"mean\": 0.043917411884012214, \"std\": 0.10260194930823027, \"err_low\": -0.16128648673244833, \"err_high\": 0.24912131050047276}, {\"time\": \"2009-02-16T17:30:00\", \"variable\": \"VPD\", \"value\": 0.0, \"is_present\": true, \"mean\": 0.021332411553378172, \"std\": 0.10260194930822979, \"err_low\": -0.1838714870630814, \"err_high\": 0.22653631016983775}, {\"time\": \"2009-02-16T18:00:00\", \"variable\": \"VPD\", \"value\": 0.0, \"is_present\": true, \"mean\": 0.005532208518208126, \"std\": 0.10260194930822962, \"err_low\": -0.19967169009825111, \"err_high\": 0.21073610713466737}, {\"time\": \"2009-02-16T18:30:00\", \"variable\": \"VPD\", \"value\": 0.0, \"is_present\": true, \"mean\": 0.0015606778764980511, \"std\": 0.10260194930822862, \"err_low\": -0.2036432207399592, \"err_high\": 0.2067645764929553}, {\"time\": \"2009-02-16T19:00:00\", \"variable\": \"VPD\", \"value\": 0.0, \"is_present\": true, \"mean\": 0.0017677920797933844, \"std\": 0.10260194930823024, \"err_low\": -0.2034361065366671, \"err_high\": 0.20697169069625387}, {\"time\": \"2009-02-16T19:30:00\", \"variable\": \"VPD\", \"value\": 0.0, \"is_present\": true, \"mean\": 0.0018901446309156356, \"std\": 0.10260194930822955, \"err_low\": -0.20331375398554347, \"err_high\": 0.20709404324737474}, {\"time\": \"2009-02-16T20:00:00\", \"variable\": \"VPD\", \"value\": 0.0, \"is_present\": true, \"mean\": 0.0019816871542177594, \"std\": 0.10260194930822886, \"err_low\": -0.20322221146223995, \"err_high\": 0.20718558577067547}, {\"time\": \"2009-02-16T20:30:00\", \"variable\": \"VPD\", \"value\": 0.0, \"is_present\": true, \"mean\": 0.001972339183803573, \"std\": 0.10260194930823041, \"err_low\": -0.20323155943265725, \"err_high\": 0.2071762378002644}, {\"time\": \"2009-02-16T21:00:00\", \"variable\": \"VPD\", \"value\": 0.0, \"is_present\": true, \"mean\": 0.0019734353166875884, \"std\": 0.10260194930823081, \"err_low\": -0.20323046329977404, \"err_high\": 0.20717733393314922}, {\"time\": \"2009-02-16T21:30:00\", \"variable\": \"VPD\", \"value\": 0.0, \"is_present\": true, \"mean\": 0.0019732883323810846, \"std\": 0.10260194930822872, \"err_low\": -0.20323061028407635, \"err_high\": 0.20717718694883852}, {\"time\": \"2009-02-16T22:00:00\", \"variable\": \"VPD\", \"value\": 0.0, \"is_present\": true, \"mean\": 0.0017902116956669545, \"std\": 0.10260194930823002, \"err_low\": -0.2034136869207931, \"err_high\": 0.206994110312127}, {\"time\": \"2009-02-16T22:30:00\", \"variable\": \"VPD\", \"value\": 0.0, \"is_present\": true, \"mean\": 0.0017046922638663808, \"std\": 0.1026019493082291, \"err_low\": -0.20349920635259183, \"err_high\": 0.2069085908803246}, {\"time\": \"2009-02-16T23:00:00\", \"variable\": \"VPD\", \"value\": 0.0, \"is_present\": true, \"mean\": 0.0016871669067626271, \"std\": 0.10260194930822916, \"err_low\": -0.2035167317096957, \"err_high\": 0.20689106552322095}, {\"time\": \"2009-02-16T23:30:00\", \"variable\": \"VPD\", \"value\": 0.0, \"is_present\": true, \"mean\": 0.001688897194366934, \"std\": 0.10260194930822975, \"err_low\": -0.20351500142209256, \"err_high\": 0.20689279581082642}, {\"time\": \"2009-02-17T00:00:00\", \"variable\": \"VPD\", \"value\": 0.0, \"is_present\": true, \"mean\": 0.00187180075931348, \"std\": 0.10260194930822981, \"err_low\": -0.20333209785714615, \"err_high\": 0.2070756993757731}, {\"time\": \"2009-02-17T00:30:00\", \"variable\": \"VPD\", \"value\": 0.0, \"is_present\": true, \"mean\": 0.001931186324584111, \"std\": 0.10260194930823019, \"err_low\": -0.20327271229187627, \"err_high\": 0.2071350849410445}, {\"time\": \"2009-02-17T01:00:00\", \"variable\": \"VPD\", \"value\": 0.0, \"is_present\": true, \"mean\": 0.0020299086676476286, \"std\": 0.10260194930823034, \"err_low\": -0.20317398994881306, \"err_high\": 0.2072338072841083}, {\"time\": \"2009-02-17T01:30:00\", \"variable\": \"VPD\", \"value\": 0.0, \"is_present\": true, \"mean\": 0.002071975118309144, \"std\": 0.10260194930822998, \"err_low\": -0.20313192349815082, \"err_high\": 0.2072758737347691}, {\"time\": \"2009-02-17T02:00:00\", \"variable\": \"VPD\", \"value\": 0.0, \"is_present\": true, \"mean\": 0.0021723602573149314, \"std\": 0.10260194930823008, \"err_low\": -0.20303153835914522, \"err_high\": 0.2073762588737751}, {\"time\": \"2009-02-17T02:30:00\", \"variable\": \"VPD\", \"value\": 0.0, \"is_present\": true, \"mean\": 0.002240400417087063, \"std\": 0.10260194930822895, \"err_low\": -0.20296349819937085, \"err_high\": 0.20744429903354497}, {\"time\": \"2009-02-17T03:00:00\", \"variable\": \"VPD\", \"value\": 0.0, \"is_present\": true, \"mean\": 0.0025734900066227695, \"std\": 0.1026019493082293, \"err_low\": -0.20263040860983583, \"err_high\": 0.20777738862308137}, {\"time\": \"2009-02-17T03:30:00\", \"variable\": \"VPD\", \"value\": 0.0, \"is_present\": true, \"mean\": 0.0030357908325284733, \"std\": 0.1026019493082295, \"err_low\": -0.20216810778393052, \"err_high\": 0.20823968944898746}, {\"time\": \"2009-02-17T04:00:00\", \"variable\": \"VPD\", \"value\": 0.0, \"is_present\": true, \"mean\": 0.0037204501087257924, \"std\": 0.1026019493082295, \"err_low\": -0.2014834485077332, \"err_high\": 0.20892434872518478}, {\"time\": \"2009-02-17T04:30:00\", \"variable\": \"VPD\", \"value\": 0.0, \"is_present\": true, \"mean\": 0.004198955795699177, \"std\": 0.10260194930822986, \"err_low\": -0.20100494282076053, \"err_high\": 0.2094028544121589}, {\"time\": \"2009-02-17T05:00:00\", \"variable\": \"VPD\", \"value\": 0.0, \"is_present\": true, \"mean\": 0.0044377453988651006, \"std\": 0.1026019493082295, \"err_low\": -0.2007661532175939, \"err_high\": 0.2096416440153241}, {\"time\": \"2009-02-17T05:30:00\", \"variable\": \"VPD\", \"value\": 0.0, \"is_present\": true, \"mean\": 0.00446576718477143, \"std\": 0.10260194930822979, \"err_low\": -0.20073813143168814, \"err_high\": 0.209669665801231}, {\"time\": \"2009-02-17T06:00:00\", \"variable\": \"VPD\", \"value\": 0.0, \"is_present\": true, \"mean\": 0.004646231720842664, \"std\": 0.10260194930822927, \"err_low\": -0.20055766689561588, \"err_high\": 0.2098501303373012}, {\"time\": \"2009-02-17T06:30:00\", \"variable\": \"VPD\", \"value\": 0.0, \"is_present\": true, \"mean\": 0.0047058671281083875, \"std\": 0.10260194930823004, \"err_low\": -0.20049803148835169, \"err_high\": 0.20990976574456846}, {\"time\": \"2009-02-17T07:00:00\", \"variable\": \"VPD\", \"value\": 0.0, \"is_present\": true, \"mean\": 0.004359893154558314, \"std\": 0.10260194930823024, \"err_low\": -0.20084400546190218, \"err_high\": 0.2095637917710188}, {\"time\": \"2009-02-17T07:30:00\", \"variable\": \"VPD\", \"value\": 0.0, \"is_present\": true, \"mean\": 0.0022250550131235336, \"std\": 0.10260194930822945, \"err_low\": -0.20297884360333537, \"err_high\": 0.20742895362958244}, {\"time\": \"2009-02-17T08:00:00\", \"variable\": \"VPD\", \"value\": 0.0, \"is_present\": true, \"mean\": 0.0011917839142525644, \"std\": 0.10260194930822952, \"err_low\": -0.20401211470220648, \"err_high\": 0.2063956825307116}, {\"time\": \"2009-02-17T08:30:00\", \"variable\": \"VPD\", \"value\": 0.0, \"is_present\": true, \"mean\": 0.0018784406499614548, \"std\": 0.10260194930822991, \"err_low\": -0.20332545796649837, \"err_high\": 0.20708233926642128}, {\"time\": \"2009-02-17T09:00:00\", \"variable\": \"VPD\", \"value\": 0.0, \"is_present\": true, \"mean\": 0.006272054787432868, \"std\": 0.10260194930822836, \"err_low\": -0.19893184382902385, \"err_high\": 0.21147595340388958}, {\"time\": \"2009-02-17T09:30:00\", \"variable\": \"VPD\", \"value\": 0.0, \"is_present\": true, \"mean\": 0.012210738328257253, \"std\": 0.1026019493082301, \"err_low\": -0.19299316028820296, \"err_high\": 0.21741463694471747}, {\"time\": \"2009-02-17T10:00:00\", \"variable\": \"VPD\", \"value\": 0.0, \"is_present\": true, \"mean\": 0.02535977255690458, \"std\": 0.10260194930822886, \"err_low\": -0.17984412605955313, \"err_high\": 0.2305636711733623}, {\"time\": \"2009-02-17T10:30:00\", \"variable\": \"VPD\", \"value\": 0.0, \"is_present\": true, \"mean\": 0.036170255001026774, \"std\": 0.10260194930822884, \"err_low\": -0.1690336436154309, \"err_high\": 0.24137415361748446}, {\"time\": \"2009-02-17T11:00:00\", \"variable\": \"VPD\", \"value\": 0.0, \"is_present\": true, \"mean\": 0.04786432066293811, \"std\": 0.10260194930822926, \"err_low\": -0.1573395779535204, \"err_high\": 0.2530682192793966}, {\"time\": \"2009-02-17T11:30:00\", \"variable\": \"VPD\", \"value\": 0.005, \"is_present\": true, \"mean\": 0.044032294455038645, \"std\": 0.10260194930822959, \"err_low\": -0.16117160416142054, \"err_high\": 0.24923619307149783}, {\"time\": \"2009-02-17T12:00:00\", \"variable\": \"VPD\", \"value\": 0.014, \"is_present\": true, \"mean\": 0.09857402050644692, \"std\": 0.10260194930823054, \"err_low\": -0.10662987811001415, \"err_high\": 0.30377791912290797}, {\"time\": \"2009-02-17T12:30:00\", \"variable\": \"VPD\", \"value\": 0.018, \"is_present\": true, \"mean\": 0.1419702354815171, \"std\": 0.1026019493082293, \"err_low\": -0.0632336631349415, \"err_high\": 0.3471741340979757}, {\"time\": \"2009-02-17T13:00:00\", \"variable\": \"VPD\", \"value\": 0.027, \"is_present\": true, \"mean\": 0.2407920620265771, \"std\": 0.10260194930822847, \"err_low\": 0.035588163410120166, \"err_high\": 0.44599596064303404}, {\"time\": \"2009-02-17T13:30:00\", \"variable\": \"VPD\", \"value\": 0.045, \"is_present\": true, \"mean\": 0.3033836088928683, \"std\": 0.10260194930822918, \"err_low\": 0.09817971027640995, \"err_high\": 0.5085875075093267}, {\"time\": \"2009-02-17T14:00:00\", \"variable\": \"VPD\", \"value\": 0.063, \"is_present\": true, \"mean\": 0.3466563015357873, \"std\": 0.10260194930823004, \"err_low\": 0.14145240291932723, \"err_high\": 0.5518602001522473}, {\"time\": \"2009-02-17T14:30:00\", \"variable\": \"VPD\", \"value\": 0.085, \"is_present\": true, \"mean\": 0.4104644414342111, \"std\": 0.10260194930822929, \"err_low\": 0.20526054281775255, \"err_high\": 0.6156683400506697}, {\"time\": \"2009-02-17T15:00:00\", \"variable\": \"VPD\", \"value\": 0.146, \"is_present\": true, \"mean\": 0.48965194391332467, \"std\": 0.10260194930822894, \"err_low\": 0.2844480452968668, \"err_high\": 0.6948558425297826}, {\"time\": \"2009-02-17T15:30:00\", \"variable\": \"VPD\", \"value\": 0.259, \"is_present\": true, \"mean\": 0.5138207385881159, \"std\": 0.10260194930823052, \"err_low\": 0.3086168399716549, \"err_high\": 0.719024637204577}, {\"time\": \"2009-02-17T16:00:00\", \"variable\": \"VPD\", \"value\": 0.397, \"is_present\": true, \"mean\": 0.5381051969981638, \"std\": 0.10260194930823001, \"err_low\": 0.3329012983817038, \"err_high\": 0.7433090956146239}, {\"time\": \"2009-02-17T16:30:00\", \"variable\": \"VPD\", \"value\": 0.529, \"is_present\": true, \"mean\": 0.6168974863104113, \"std\": 0.10260194930822969, \"err_low\": 0.4116935876939519, \"err_high\": 0.8221013849268707}, {\"time\": \"2009-02-17T17:00:00\", \"variable\": \"VPD\", \"value\": 0.603, \"is_present\": true, \"mean\": 0.6484113352459366, \"std\": 0.10260194930823031, \"err_low\": 0.44320743662947604, \"err_high\": 0.8536152338623972}, {\"time\": \"2009-02-17T17:30:00\", \"variable\": \"VPD\", \"value\": 0.625, \"is_present\": true, \"mean\": 0.7712239222423021, \"std\": 0.16074716786788143, \"err_low\": 0.4497295865065392, \"err_high\": 1.092718257978065}, {\"time\": \"2009-02-17T18:00:00\", \"variable\": \"VPD\", \"value\": 0.579, \"is_present\": true, \"mean\": 0.8905927862604615, \"std\": 0.2036300928399657, \"err_low\": 0.48333260058053007, \"err_high\": 1.2978529719403928}, {\"time\": \"2009-02-17T18:30:00\", \"variable\": \"VPD\", \"value\": 0.642, \"is_present\": true, \"mean\": 1.00621987551866, \"std\": 0.24046037882575685, \"err_low\": 0.5252991178671462, \"err_high\": 1.4871406331701738}, {\"time\": \"2009-02-17T19:00:00\", \"variable\": \"VPD\", \"value\": 0.599, \"is_present\": true, \"mean\": 1.1180918031806915, \"std\": 0.2750104719489563, \"err_low\": 0.5680708592827789, \"err_high\": 1.6681127470786041}, {\"time\": \"2009-02-17T19:30:00\", \"variable\": \"VPD\", \"value\": 0.542, \"is_present\": true, \"mean\": 1.2262351022971654, \"std\": 0.3088369528388325, \"err_low\": 0.6085611966195004, \"err_high\": 1.8439090079748304}, {\"time\": \"2009-02-17T20:00:00\", \"variable\": \"VPD\", \"value\": 0.544, \"is_present\": true, \"mean\": 1.3306887570186818, \"std\": 0.34253078547187343, \"err_low\": 0.645627186074935, \"err_high\": 2.0157503279624285}, {\"time\": \"2009-02-17T20:30:00\", \"variable\": \"VPD\", \"value\": 0.509, \"is_present\": true, \"mean\": 1.4315002406123205, \"std\": 0.3762335750178023, \"err_low\": 0.6790330905767159, \"err_high\": 2.183967390647925}, {\"time\": \"2009-02-17T21:00:00\", \"variable\": \"VPD\", \"value\": 0.484, \"is_present\": true, \"mean\": 1.5287241710178028, \"std\": 0.40987881315517055, \"err_low\": 0.7089665447074617, \"err_high\": 2.348481797328144}, {\"time\": \"2009-02-17T21:30:00\", \"variable\": \"VPD\", \"value\": 0.448, \"is_present\": true, \"mean\": 1.6224213266651375, \"std\": 0.4433126761350529, \"err_low\": 0.7357959743950317, \"err_high\": 2.5090466789352432}, {\"time\": \"2009-02-17T22:00:00\", \"variable\": \"VPD\", \"value\": 0.402, \"is_present\": true, \"mean\": 1.7126577736606563, \"std\": 0.4763555286582483, \"err_low\": 0.7599467163441597, \"err_high\": 2.665368830977153}, {\"time\": \"2009-02-17T22:30:00\", \"variable\": \"VPD\", \"value\": 0.391, \"is_present\": true, \"mean\": 0.3806574189165679, \"std\": 0.10584453329008692, \"err_low\": 0.16896835233639407, \"err_high\": 0.5923464854967417}, {\"time\": \"2009-02-17T23:00:00\", \"variable\": \"VPD\", \"value\": 0.368, \"is_present\": true, \"mean\": 0.35836962174628617, \"std\": 0.10267341057832863, \"err_low\": 0.15302280058962892, \"err_high\": 0.5637164429029434}, {\"time\": \"2009-02-17T23:30:00\", \"variable\": \"VPD\", \"value\": 0.354, \"is_present\": true, \"mean\": 0.3341319316691518, \"std\": 0.10260336957285725, \"err_low\": 0.1289251925234373, \"err_high\": 0.5393386708148663}, {\"time\": \"2009-02-18T00:00:00\", \"variable\": \"VPD\", \"value\": 0.304, \"is_present\": true, \"mean\": 0.32328560826776265, \"std\": 0.10260197680975372, \"err_low\": 0.11808165464825521, \"err_high\": 0.52848956188727}, {\"time\": \"2009-02-18T00:30:00\", \"variable\": \"VPD\", \"value\": 0.267, \"is_present\": true, \"mean\": 0.2654776329921833, \"std\": 0.10260194983810934, \"err_low\": 0.06027373331596461, \"err_high\": 0.47068153266840196}, {\"time\": \"2009-02-18T01:00:00\", \"variable\": \"VPD\", \"value\": 0.252, \"is_present\": true, \"mean\": 0.2350224982073046, \"std\": 0.10260194931842907, \"err_low\": 0.02981859957044644, \"err_high\": 0.44022639684416276}, {\"time\": \"2009-02-18T01:30:00\", \"variable\": \"VPD\", \"value\": 0.254, \"is_present\": true, \"mean\": 0.22579123496197928, \"std\": 0.1026019493084264, \"err_low\": 0.020587336345126495, \"err_high\": 0.43099513357883207}, {\"time\": \"2009-02-18T02:00:00\", \"variable\": \"VPD\", \"value\": 0.245, \"is_present\": true, \"mean\": 0.23124076093048984, \"std\": 0.10260194930823306, \"err_low\": 0.026036862314023718, \"err_high\": 0.436444659546956}, {\"time\": \"2009-02-18T02:30:00\", \"variable\": \"VPD\", \"value\": 0.311, \"is_present\": true, \"mean\": 0.21858596797507923, \"std\": 0.10260194930822966, \"err_low\": 0.013382069358619908, \"err_high\": 0.42378986659153856}, {\"time\": \"2009-02-18T03:00:00\", \"variable\": \"VPD\", \"value\": 0.343, \"is_present\": true, \"mean\": 0.30194041475863465, \"std\": 0.10260194930822938, \"err_low\": 0.09673651614217588, \"err_high\": 0.5071443133750935}, {\"time\": \"2009-02-18T03:30:00\", \"variable\": \"VPD\", \"value\": 0.396, \"is_present\": true, \"mean\": 0.3202926427202759, \"std\": 0.10260194930823065, \"err_low\": 0.11508874410381462, \"err_high\": 0.5254965413367372}, {\"time\": \"2009-02-18T04:00:00\", \"variable\": \"VPD\", \"value\": 0.366, \"is_present\": true, \"mean\": 0.3784447069128798, \"std\": 0.1026019493082308, \"err_low\": 0.1732408082964182, \"err_high\": 0.5836486055293414}, {\"time\": \"2009-02-18T04:30:00\", \"variable\": \"VPD\", \"value\": 0.348, \"is_present\": true, \"mean\": 0.3264134582994429, \"std\": 0.10260194930822975, \"err_low\": 0.12120955968298341, \"err_high\": 0.5316173569159024}, {\"time\": \"2009-02-18T05:00:00\", \"variable\": \"VPD\", \"value\": 0.373, \"is_present\": true, \"mean\": 0.31589208491278553, \"std\": 0.10260194930822893, \"err_low\": 0.11068818629632768, \"err_high\": 0.5210959835292434}, {\"time\": \"2009-02-18T05:30:00\", \"variable\": \"VPD\", \"value\": 0.391, \"is_present\": true, \"mean\": 0.35035109159245614, \"std\": 0.10260194930823054, \"err_low\": 0.14514719297599507, \"err_high\": 0.5555549902089172}, {\"time\": \"2009-02-18T06:00:00\", \"variable\": \"VPD\", \"value\": 0.328, \"is_present\": true, \"mean\": 0.3640682746984676, \"std\": 0.10260194930823031, \"err_low\": 0.15886437608200696, \"err_high\": 0.5692721733149282}, {\"time\": \"2009-02-18T06:30:00\", \"variable\": \"VPD\", \"value\": 0.325, \"is_present\": true, \"mean\": 0.2827009041683035, \"std\": 0.10260194930822927, \"err_low\": 0.07749700555184497, \"err_high\": 0.48790480278476206}, {\"time\": \"2009-02-18T07:00:00\", \"variable\": \"VPD\", \"value\": 0.41, \"is_present\": true, \"mean\": 0.2990781970409411, \"std\": 0.10260194930822952, \"err_low\": 0.09387429842448203, \"err_high\": 0.5042820956574001}, {\"time\": \"2009-02-18T07:30:00\", \"variable\": \"VPD\", \"value\": 0.455, \"is_present\": true, \"mean\": 0.4005211224613645, \"std\": 0.10260194930822983, \"err_low\": 0.19531722384490485, \"err_high\": 0.6057250210778242}, {\"time\": \"2009-02-18T08:00:00\", \"variable\": \"VPD\", \"value\": 0.549, \"is_present\": true, \"mean\": 0.4297217962513602, \"std\": 0.10260194930822944, \"err_low\": 0.22451789763490132, \"err_high\": 0.634925694867819}, {\"time\": \"2009-02-18T08:30:00\", \"variable\": \"VPD\", \"value\": 0.707, \"is_present\": true, \"mean\": 0.5468192349554073, \"std\": 0.10260194930823066, \"err_low\": 0.341615336338946, \"err_high\": 0.7520231335718686}, {\"time\": \"2009-02-18T09:00:00\", \"variable\": \"VPD\", \"value\": 1.036, \"is_present\": true, \"mean\": 0.7450493227250918, \"std\": 0.10260194930823022, \"err_low\": 0.5398454241086315, \"err_high\": 0.9502532213415522}, {\"time\": \"2009-02-18T09:30:00\", \"variable\": \"VPD\", \"value\": 1.251, \"is_present\": true, \"mean\": 1.1952921996652006, \"std\": 0.10260194930823027, \"err_low\": 0.99008830104874, \"err_high\": 1.4004960982816612}, {\"time\": \"2009-02-18T10:00:00\", \"variable\": \"VPD\", \"value\": 1.284, \"is_present\": true, \"mean\": 1.4379653272759383, \"std\": 0.10260194930822984, \"err_low\": 1.2327614286594786, \"err_high\": 1.643169225892398}, {\"time\": \"2009-02-18T10:30:00\", \"variable\": \"VPD\", \"value\": 1.415, \"is_present\": true, \"mean\": 1.5018643295766887, \"std\": 0.1026019493082292, \"err_low\": 1.2966604309602303, \"err_high\": 1.707068228193147}, {\"time\": \"2009-02-18T11:00:00\", \"variable\": \"VPD\", \"value\": 1.536, \"is_present\": true, \"mean\": 1.7164349673836983, \"std\": 0.10260194930823024, \"err_low\": 1.5112310687672377, \"err_high\": 1.9216388660001589}, {\"time\": \"2009-02-18T11:30:00\", \"variable\": \"VPD\", \"value\": 1.448, \"is_present\": true, \"mean\": 1.8508638333911576, \"std\": 0.1026019493082297, \"err_low\": 1.645659934774698, \"err_high\": 2.056067732007617}, {\"time\": \"2009-02-18T12:00:00\", \"variable\": \"VPD\", \"value\": 1.509, \"is_present\": true, \"mean\": 1.7665993472576467, \"std\": 0.10260194930823009, \"err_low\": 1.5613954486411865, \"err_high\": 1.9718032458741068}, {\"time\": \"2009-02-18T12:30:00\", \"variable\": \"VPD\", \"value\": 1.768, \"is_present\": true, \"mean\": 1.8849407633673485, \"std\": 0.1026019493082291, \"err_low\": 1.6797368647508903, \"err_high\": 2.090144661983807}, {\"time\": \"2009-02-18T13:00:00\", \"variable\": \"VPD\", \"value\": 2.028, \"is_present\": true, \"mean\": 2.1002208792282335, \"std\": 0.10260194930822884, \"err_low\": 1.8950169806117758, \"err_high\": 2.3054247778446912}, {\"time\": \"2009-02-18T13:30:00\", \"variable\": \"VPD\", \"value\": 2.189, \"is_present\": true, \"mean\": 2.3040053492738677, \"std\": 0.10260194930822869, \"err_low\": 2.0988014506574104, \"err_high\": 2.509209247890325}, {\"time\": \"2009-02-18T14:00:00\", \"variable\": \"VPD\", \"value\": 1.99, \"is_present\": true, \"mean\": 2.5916863007743487, \"std\": 0.10260194930823031, \"err_low\": 2.386482402157888, \"err_high\": 2.7968901993908095}, {\"time\": \"2009-02-18T14:30:00\", \"variable\": \"VPD\", \"value\": 2.046, \"is_present\": true, \"mean\": 2.272237882336933, \"std\": 0.1026019493082308, \"err_low\": 2.067033983720471, \"err_high\": 2.4774417809533946}, {\"time\": \"2009-02-18T15:00:00\", \"variable\": \"VPD\", \"value\": 2.013, \"is_present\": true, \"mean\": 2.3639778086185044, \"std\": 0.10260194930822965, \"err_low\": 2.158773910002045, \"err_high\": 2.569181707234964}, {\"time\": \"2009-02-18T15:30:00\", \"variable\": \"VPD\", \"value\": 2.051, \"is_present\": true, \"mean\": 2.263517693433055, \"std\": 0.10260194930822955, \"err_low\": 2.058313794816596, \"err_high\": 2.4687215920495142}, {\"time\": \"2009-02-18T16:00:00\", \"variable\": \"VPD\", \"value\": 1.857, \"is_present\": true, \"mean\": 2.2100486943636333, \"std\": 0.10260194930823, \"err_low\": 2.0048447957471733, \"err_high\": 2.415252592980093}, {\"time\": \"2009-02-18T16:30:00\", \"variable\": \"VPD\", \"value\": 1.838, \"is_present\": true, \"mean\": 1.9069709177903247, \"std\": 0.1026019493082296, \"err_low\": 1.7017670191738654, \"err_high\": 2.112174816406784}, {\"time\": \"2009-02-18T17:00:00\", \"variable\": \"VPD\", \"value\": 1.728, \"is_present\": true, \"mean\": 1.8850199196117157, \"std\": 0.1026019493082297, \"err_low\": 1.6798160209952562, \"err_high\": 2.090223818228175}, {\"time\": \"2009-02-18T17:30:00\", \"variable\": \"VPD\", \"value\": 1.61, \"is_present\": true, \"mean\": 1.6895592641913924, \"std\": 0.10260194930823058, \"err_low\": 1.484355365574931, \"err_high\": 1.8947631628078536}, {\"time\": \"2009-02-18T18:00:00\", \"variable\": \"VPD\", \"value\": 1.449, \"is_present\": true, \"mean\": 1.5285068713171264, \"std\": 0.10260194930822934, \"err_low\": 1.3233029727006678, \"err_high\": 1.733710769933585}, {\"time\": \"2009-02-18T18:30:00\", \"variable\": \"VPD\", \"value\": 1.289, \"is_present\": true, \"mean\": 1.3374679811694619, \"std\": 0.10260194930822926, \"err_low\": 1.1322640825530033, \"err_high\": 1.5426718797859205}, {\"time\": \"2009-02-18T19:00:00\", \"variable\": \"VPD\", \"value\": 1.196, \"is_present\": true, \"mean\": 1.1867743355801665, \"std\": 0.10260194930823006, \"err_low\": 0.9815704369637064, \"err_high\": 1.3919782341966267}, {\"time\": \"2009-02-18T19:30:00\", \"variable\": \"VPD\", \"value\": 1.13, \"is_present\": true, \"mean\": 1.1151101377909756, \"std\": 0.10260194930823124, \"err_low\": 0.9099062391745131, \"err_high\": 1.3203140364074382}, {\"time\": \"2009-02-18T20:00:00\", \"variable\": \"VPD\", \"value\": 1.079, \"is_present\": true, \"mean\": 1.0563714802994117, \"std\": 0.10260194930822958, \"err_low\": 0.8511675816829526, \"err_high\": 1.2615753789158708}, {\"time\": \"2009-02-18T20:30:00\", \"variable\": \"VPD\", \"value\": 1.092, \"is_present\": true, \"mean\": 1.0104104091664117, \"std\": 0.10260194930823045, \"err_low\": 0.8052065105499507, \"err_high\": 1.2156143077828725}, {\"time\": \"2009-02-18T21:00:00\", \"variable\": \"VPD\", \"value\": 1.094, \"is_present\": true, \"mean\": 1.0388936265444637, \"std\": 0.10260194930823022, \"err_low\": 0.8336897279280033, \"err_high\": 1.244097525160924}, {\"time\": \"2009-02-18T21:30:00\", \"variable\": \"VPD\", \"value\": 1.095, \"is_present\": true, \"mean\": 1.0349615647691688, \"std\": 0.10260194930822955, \"err_low\": 0.8297576661527097, \"err_high\": 1.2401654633856278}, {\"time\": \"2009-02-18T22:00:00\", \"variable\": \"VPD\", \"value\": 1.047, \"is_present\": true, \"mean\": 1.0366486035621825, \"std\": 0.10260194930823034, \"err_low\": 0.8314447049457218, \"err_high\": 1.241852502178643}, {\"time\": \"2009-02-18T22:30:00\", \"variable\": \"VPD\", \"value\": 1.018, \"is_present\": true, \"mean\": 0.9775755480624286, \"std\": 0.10260194930823006, \"err_low\": 0.7723716494459685, \"err_high\": 1.1827794466788888}, {\"time\": \"2009-02-18T23:00:00\", \"variable\": \"VPD\", \"value\": 0.934, \"is_present\": true, \"mean\": 0.9565695043552545, \"std\": 0.10260194930823024, \"err_low\": 0.751365605738794, \"err_high\": 1.1617734029717148}, {\"time\": \"2009-02-18T23:30:00\", \"variable\": \"VPD\", \"value\": 0.911, \"is_present\": true, \"mean\": 0.8601301100938876, \"std\": 0.10260194930822988, \"err_low\": 0.6549262114774279, \"err_high\": 1.0653340087103473}, {\"time\": \"2009-02-19T00:00:00\", \"variable\": \"VPD\", \"value\": 0.848, \"is_present\": true, \"mean\": 0.8567764271397249, \"std\": 0.1026019493082309, \"err_low\": 0.6515725285232631, \"err_high\": 1.0619803257561866}, {\"time\": \"2009-02-19T00:30:00\", \"variable\": \"VPD\", \"value\": 0.873, \"is_present\": true, \"mean\": 0.7830843416602149, \"std\": 0.10260194930823108, \"err_low\": 0.5778804430437527, \"err_high\": 0.988288240276677}, {\"time\": \"2009-02-19T01:00:00\", \"variable\": \"VPD\", \"value\": 0.901, \"is_present\": true, \"mean\": 0.8322583329625184, \"std\": 0.10260194930822958, \"err_low\": 0.6270544343460592, \"err_high\": 1.0374622315789774}, {\"time\": \"2009-02-19T01:30:00\", \"variable\": \"VPD\", \"value\": 0.899, \"is_present\": true, \"mean\": 0.8562303244035525, \"std\": 0.10260194930822912, \"err_low\": 0.6510264257870942, \"err_high\": 1.0614342230200107}, {\"time\": \"2009-02-19T02:00:00\", \"variable\": \"VPD\", \"value\": 0.754, \"is_present\": true, \"mean\": 0.846553660957404, \"std\": 0.102601949308229, \"err_low\": 0.6413497623409461, \"err_high\": 1.051757559573862}, {\"time\": \"2009-02-19T02:30:00\", \"variable\": \"VPD\", \"value\": 0.69, \"is_present\": true, \"mean\": 0.6697535632192348, \"std\": 0.10260194930823012, \"err_low\": 0.4645496646027746, \"err_high\": 0.8749574618356951}, {\"time\": \"2009-02-19T03:00:00\", \"variable\": \"VPD\", \"value\": 0.62, \"is_present\": true, \"mean\": 0.6350115898573474, \"std\": 0.1026019493082293, \"err_low\": 0.4298076912408888, \"err_high\": 0.840215488473806}, {\"time\": \"2009-02-19T03:30:00\", \"variable\": \"VPD\", \"value\": 0.511, \"is_present\": true, \"mean\": 0.5617632000502297, \"std\": 0.10260194930822965, \"err_low\": 0.35655930143377046, \"err_high\": 0.766967098666689}, {\"time\": \"2009-02-19T04:00:00\", \"variable\": \"VPD\", \"value\": 0.603, \"is_present\": true, \"mean\": 0.44722898047250714, \"std\": 0.1026019493082291, \"err_low\": 0.24202508185604893, \"err_high\": 0.6524328790889653}, {\"time\": \"2009-02-19T04:30:00\", \"variable\": \"VPD\", \"value\": 0.611, \"is_present\": true, \"mean\": 0.5901615062929877, \"std\": 0.10260194930822926, \"err_low\": 0.3849576076765292, \"err_high\": 0.7953654049094462}, {\"time\": \"2009-02-19T05:00:00\", \"variable\": \"VPD\", \"value\": 0.605, \"is_present\": true, \"mean\": 0.5674688837731359, \"std\": 0.1026019493082295, \"err_low\": 0.3622649851566769, \"err_high\": 0.7726727823895949}, {\"time\": \"2009-02-19T05:30:00\", \"variable\": \"VPD\", \"value\": 0.668, \"is_present\": true, \"mean\": 0.5624007221922183, \"std\": 0.1026019493082314, \"err_low\": 0.35719682357575544, \"err_high\": 0.7676046208086811}, {\"time\": \"2009-02-19T06:00:00\", \"variable\": \"VPD\", \"value\": 0.724, \"is_present\": true, \"mean\": 0.6415578185441282, \"std\": 0.10260194930822937, \"err_low\": 0.4363539199276695, \"err_high\": 0.8467617171605869}, {\"time\": \"2009-02-19T06:30:00\", \"variable\": \"VPD\", \"value\": 0.653, \"is_present\": true, \"mean\": 0.6909594206275402, \"std\": 0.10260194930823001, \"err_low\": 0.4857555220110802, \"err_high\": 0.8961633192440003}, {\"time\": \"2009-02-19T07:00:00\", \"variable\": \"VPD\", \"value\": 0.649, \"is_present\": true, \"mean\": 0.5896061737393548, \"std\": 0.10260194930822972, \"err_low\": 0.3844022751228953, \"err_high\": 0.7948100723558142}, {\"time\": \"2009-02-19T07:30:00\", \"variable\": \"VPD\", \"value\": 0.647, \"is_present\": true, \"mean\": 0.6085402307948793, \"std\": 0.10260194930822943, \"err_low\": 0.40333633217842046, \"err_high\": 0.8137441294113381}, {\"time\": \"2009-02-19T08:00:00\", \"variable\": \"VPD\", \"value\": 0.553, \"is_present\": true, \"mean\": 0.6043675404932318, \"std\": 0.10260194930822994, \"err_low\": 0.39916364187677195, \"err_high\": 0.8095714391096918}, {\"time\": \"2009-02-19T08:30:00\", \"variable\": \"VPD\", \"value\": 0.511, \"is_present\": true, \"mean\": 0.5099687615583068, \"std\": 0.10260194930823024, \"err_low\": 0.30476486294184635, \"err_high\": 0.7151726601747673}, {\"time\": \"2009-02-19T09:00:00\", \"variable\": \"VPD\", \"value\": 0.529, \"is_present\": true, \"mean\": 0.5112632234841694, \"std\": 0.10260194930823024, \"err_low\": 0.3060593248677089, \"err_high\": 0.7164671221006299}, {\"time\": \"2009-02-19T09:30:00\", \"variable\": \"VPD\", \"value\": 0.673, \"is_present\": true, \"mean\": 0.5987633198550077, \"std\": 0.10260194930822987, \"err_low\": 0.39355942123854804, \"err_high\": 0.8039672184714675}, {\"time\": \"2009-02-19T10:00:00\", \"variable\": \"VPD\", \"value\": 0.905, \"is_present\": true, \"mean\": 0.8708955158164979, \"std\": 0.10260194930822955, \"err_low\": 0.6656916172000389, \"err_high\": 1.076099414432957}, {\"time\": \"2009-02-19T10:30:00\", \"variable\": \"VPD\", \"value\": 1.086, \"is_present\": true, \"mean\": 1.1917137140959064, \"std\": 0.10260194930823055, \"err_low\": 0.9865098154794454, \"err_high\": 1.3969176127123675}, {\"time\": \"2009-02-19T11:00:00\", \"variable\": \"VPD\", \"value\": 1.313, \"is_present\": true, \"mean\": 1.4085230411636442, \"std\": 0.10260194930823101, \"err_low\": 1.2033191425471823, \"err_high\": 1.6137269397801062}, {\"time\": \"2009-02-19T11:30:00\", \"variable\": \"VPD\", \"value\": 1.573, \"is_present\": true, \"mean\": 1.6893247687049875, \"std\": 0.10260194930822968, \"err_low\": 1.4841208700885282, \"err_high\": 1.8945286673214468}, {\"time\": \"2009-02-19T12:00:00\", \"variable\": \"VPD\", \"value\": 1.74, \"is_present\": true, \"mean\": 1.9836793545641067, \"std\": 0.10260194930822968, \"err_low\": 1.7784754559476474, \"err_high\": 2.188883253180566}], \"data-8be68799a8ae9e8b5e48763821b9764a\": [{\"time\": \"2009-02-19T12:30:00\", \"variable\": \"TA\", \"value\": -2.6, \"is_present\": true, \"mean\": 8.190219599593169, \"std\": 7.694693138313179, \"err_low\": -7.199166677033189, \"err_high\": 23.579605876219524}, {\"time\": \"2009-02-19T13:00:00\", \"variable\": \"TA\", \"value\": -2.02, \"is_present\": true, \"mean\": 8.000784326215197, \"std\": 3.553469751092354, \"err_low\": 0.8938448240304888, \"err_high\": 15.107723828399905}, {\"time\": \"2009-02-19T13:30:00\", \"variable\": \"TA\", \"value\": -1.71, \"is_present\": true, \"mean\": 8.412642607970811, \"std\": 3.5529080084362965, \"err_low\": 1.3068265910982184, \"err_high\": 15.518458624843404}, {\"time\": \"2009-02-19T14:00:00\", \"variable\": \"TA\", \"value\": -1.37, \"is_present\": true, \"mean\": 8.467946675534177, \"std\": 3.5528960604330293, \"err_low\": 1.3621545546681189, \"err_high\": 15.573738796400235}, {\"time\": \"2009-02-19T14:30:00\", \"variable\": \"TA\", \"value\": -1.02, \"is_present\": true, \"mean\": 8.56997469698821, \"std\": 3.5528958274319473, \"err_low\": 1.464183042124315, \"err_high\": 15.675766351852104}, {\"time\": \"2009-02-19T15:00:00\", \"variable\": \"TA\", \"value\": -0.83, \"is_present\": true, \"mean\": 8.582936281860846, \"std\": 3.5528958229377636, \"err_low\": 1.4771446359853186, \"err_high\": 15.688727927736373}, {\"time\": \"2009-02-19T15:30:00\", \"variable\": \"TA\", \"value\": -1.02, \"is_present\": true, \"mean\": 8.357766965779874, \"std\": 3.5528958228512373, \"err_low\": 1.251975320077399, \"err_high\": 15.463558611482348}, {\"time\": \"2009-02-19T16:00:00\", \"variable\": \"TA\", \"value\": -0.91, \"is_present\": true, \"mean\": 7.8365285401909315, \"std\": 3.552895822849572, \"err_low\": 0.7307368944917876, \"err_high\": 14.942320185890075}, {\"time\": \"2009-02-19T16:30:00\", \"variable\": \"TA\", \"value\": -0.39, \"is_present\": true, \"mean\": 7.467296430022721, \"std\": 3.5528958228495395, \"err_low\": 0.36150478432364164, \"err_high\": 14.573088075721799}, {\"time\": \"2009-02-19T17:00:00\", \"variable\": \"TA\", \"value\": -0.55, \"is_present\": true, \"mean\": 7.745467927609748, \"std\": 3.552895822849539, \"err_low\": 0.6396762819106696, \"err_high\": 14.851259573308827}, {\"time\": \"2009-02-19T17:30:00\", \"variable\": \"TA\", \"value\": -0.79, \"is_present\": true, \"mean\": 7.522820748090663, \"std\": 3.552895822849539, \"err_low\": 0.4170291023915844, \"err_high\": 14.62861239378974}, {\"time\": \"2009-02-19T18:00:00\", \"variable\": \"TA\", \"value\": -1.27, \"is_present\": true, \"mean\": 7.137035377570373, \"std\": 3.552895822849539, \"err_low\": 0.031243731871295033, \"err_high\": 14.242827023269452}, {\"time\": \"2009-02-19T18:30:00\", \"variable\": \"TA\", \"value\": -1.48, \"is_present\": true, \"mean\": 6.973435786981556, \"std\": 3.552895822849539, \"err_low\": -0.13235585871752242, \"err_high\": 14.079227432680634}, {\"time\": \"2009-02-19T19:00:00\", \"variable\": \"TA\", \"value\": -1.49, \"is_present\": true, \"mean\": 6.772679294592314, \"std\": 3.5528958228495386, \"err_low\": -0.33311235110676307, \"err_high\": 13.878470940291391}, {\"time\": \"2009-02-19T19:30:00\", \"variable\": \"TA\", \"value\": -1.55, \"is_present\": true, \"mean\": 6.657931943923642, \"std\": 3.552895822849539, \"err_low\": -0.4478597017754362, \"err_high\": 13.763723589622721}, {\"time\": \"2009-02-19T20:00:00\", \"variable\": \"TA\", \"value\": -1.65, \"is_present\": true, \"mean\": 6.675772657058724, \"std\": 3.5528958228495386, \"err_low\": -0.43001898864035315, \"err_high\": 13.7815643027578}, {\"time\": \"2009-02-19T20:30:00\", \"variable\": \"TA\", \"value\": -1.75, \"is_present\": true, \"mean\": 6.441203853514882, \"std\": 3.552895822849539, \"err_low\": -0.6645877921841965, \"err_high\": 13.54699549921396}, {\"time\": \"2009-02-19T21:00:00\", \"variable\": \"TA\", \"value\": -1.82, \"is_present\": true, \"mean\": 6.100046672168458, \"std\": 3.552895822849539, \"err_low\": -1.0057449735306205, \"err_high\": 13.205838317867535}, {\"time\": \"2009-02-19T21:30:00\", \"variable\": \"TA\", \"value\": -2.09, \"is_present\": true, \"mean\": 5.73770380539833, \"std\": 3.552895822849539, \"err_low\": -1.3680878403007481, \"err_high\": 12.843495451097407}, {\"time\": \"2009-02-19T22:00:00\", \"variable\": \"TA\", \"value\": -2.67, \"is_present\": true, \"mean\": 5.367669492944778, \"std\": 3.552895822849539, \"err_low\": -1.7381221527543005, \"err_high\": 12.473461138643856}, {\"time\": \"2009-02-19T22:30:00\", \"variable\": \"TA\", \"value\": -3.05, \"is_present\": true, \"mean\": 4.761708663148658, \"std\": 3.552895822849539, \"err_low\": -2.34408298255042, \"err_high\": 11.867500308847736}, {\"time\": \"2009-02-19T23:00:00\", \"variable\": \"TA\", \"value\": -3.06, \"is_present\": true, \"mean\": 4.107851538926343, \"std\": 3.552895822849539, \"err_low\": -2.9979401067727354, \"err_high\": 11.213643184625422}, {\"time\": \"2009-02-19T23:30:00\", \"variable\": \"TA\", \"value\": -3.11, \"is_present\": true, \"mean\": 3.8348151816676523, \"std\": 3.552895822849539, \"err_low\": -3.270976464031426, \"err_high\": 10.94060682736673}, {\"time\": \"2009-02-20T00:00:00\", \"variable\": \"TA\", \"value\": -3.15, \"is_present\": true, \"mean\": 3.8072295232973232, \"std\": 3.552895822849539, \"err_low\": -3.298562122401755, \"err_high\": 10.913021168996401}, {\"time\": \"2009-02-20T00:30:00\", \"variable\": \"TA\", \"value\": -3.09, \"is_present\": true, \"mean\": 3.741017637470649, \"std\": 3.5528958228495386, \"err_low\": -3.3647740082284283, \"err_high\": 10.846809283169726}, {\"time\": \"2009-02-20T01:00:00\", \"variable\": \"TA\", \"value\": -3.0, \"is_present\": true, \"mean\": 3.700662564735211, \"std\": 3.552895822849539, \"err_low\": -3.4051290809638672, \"err_high\": 10.806454210434289}, {\"time\": \"2009-02-20T01:30:00\", \"variable\": \"TA\", \"value\": -2.92, \"is_present\": true, \"mean\": 3.6768088366769227, \"std\": 3.552895822849539, \"err_low\": -3.4289828090221555, \"err_high\": 10.782600482376}, {\"time\": \"2009-02-20T02:00:00\", \"variable\": \"TA\", \"value\": -2.83, \"is_present\": true, \"mean\": 3.657766304616393, \"std\": 3.552895822849539, \"err_low\": -3.448025341082685, \"err_high\": 10.763557950315471}, {\"time\": \"2009-02-20T02:30:00\", \"variable\": \"TA\", \"value\": -2.73, \"is_present\": true, \"mean\": 3.6458069551241596, \"std\": 3.552895822849539, \"err_low\": -3.4599846905749185, \"err_high\": 10.751598600823238}, {\"time\": \"2009-02-20T03:00:00\", \"variable\": \"TA\", \"value\": -2.67, \"is_present\": true, \"mean\": 3.637718218250087, \"std\": 3.552895822849539, \"err_low\": -3.4680734274489913, \"err_high\": 10.743509863949164}, {\"time\": \"2009-02-20T03:30:00\", \"variable\": \"TA\", \"value\": -2.57, \"is_present\": true, \"mean\": 3.634933272232928, \"std\": 3.552895822849539, \"err_low\": -3.4708583734661502, \"err_high\": 10.740724917932006}, {\"time\": \"2009-02-20T04:00:00\", \"variable\": \"TA\", \"value\": -2.44, \"is_present\": true, \"mean\": 3.6357782804195304, \"std\": 3.552895822849539, \"err_low\": -3.4700133652795477, \"err_high\": 10.741569926118608}, {\"time\": \"2009-02-20T04:30:00\", \"variable\": \"TA\", \"value\": -2.27, \"is_present\": true, \"mean\": 3.6373954379332893, \"std\": 3.5528958228495386, \"err_low\": -3.468396207765788, \"err_high\": 10.743187083632368}, {\"time\": \"2009-02-20T05:00:00\", \"variable\": \"TA\", \"value\": -2.19, \"is_present\": true, \"mean\": 3.6394097577575977, \"std\": 3.552895822849539, \"err_low\": -3.4663818879414805, \"err_high\": 10.745201403456676}, {\"time\": \"2009-02-20T05:30:00\", \"variable\": \"TA\", \"value\": -2.16, \"is_present\": true, \"mean\": 3.640473052696577, \"std\": 3.552895822849539, \"err_low\": -3.4653185930025012, \"err_high\": 10.746264698395656}, {\"time\": \"2009-02-20T06:00:00\", \"variable\": \"TA\", \"value\": -1.99, \"is_present\": true, \"mean\": 3.6408763962989825, \"std\": 3.5528958228495386, \"err_low\": -3.4649152494000948, \"err_high\": 10.74666804199806}, {\"time\": \"2009-02-20T06:30:00\", \"variable\": \"TA\", \"value\": -1.89, \"is_present\": true, \"mean\": 3.6427961443221255, \"std\": 3.552895822849539, \"err_low\": -3.4629955013769527, \"err_high\": 10.748587790021205}, {\"time\": \"2009-02-20T07:00:00\", \"variable\": \"TA\", \"value\": -1.84, \"is_present\": true, \"mean\": 3.6440914756126466, \"std\": 3.552895822849539, \"err_low\": -3.4617001700864316, \"err_high\": 10.749883121311726}, {\"time\": \"2009-02-20T07:30:00\", \"variable\": \"TA\", \"value\": -1.79, \"is_present\": true, \"mean\": 3.644738062456054, \"std\": 3.552895822849539, \"err_low\": -3.4610535832430243, \"err_high\": 10.750529708155131}, {\"time\": \"2009-02-20T08:00:00\", \"variable\": \"TA\", \"value\": -1.69, \"is_present\": true, \"mean\": 3.6453404708491544, \"std\": 3.552895822849539, \"err_low\": -3.460451174849924, \"err_high\": 10.751132116548233}, {\"time\": \"2009-02-20T08:30:00\", \"variable\": \"TA\", \"value\": -1.59, \"is_present\": true, \"mean\": 3.689988473025675, \"std\": 3.552895822849539, \"err_low\": -3.415803172673403, \"err_high\": 10.795780118724753}, {\"time\": \"2009-02-20T09:00:00\", \"variable\": \"TA\", \"value\": -1.5, \"is_present\": true, \"mean\": 3.807542783895653, \"std\": 3.552895822849539, \"err_low\": -3.298248861803425, \"err_high\": 10.91333442959473}, {\"time\": \"2009-02-20T09:30:00\", \"variable\": \"TA\", \"value\": -1.44, \"is_present\": true, \"mean\": 3.8832305410170873, \"std\": 3.552895822849539, \"err_low\": -3.222561104681991, \"err_high\": 10.989022186716166}, {\"time\": \"2009-02-20T10:00:00\", \"variable\": \"TA\", \"value\": -1.27, \"is_present\": true, \"mean\": 3.943419362754283, \"std\": 3.552895822849539, \"err_low\": -3.162372282944795, \"err_high\": 11.049211008453362}, {\"time\": \"2009-02-20T10:30:00\", \"variable\": \"TA\", \"value\": -1.03, \"is_present\": true, \"mean\": 3.9507907468068, \"std\": 3.552895822849539, \"err_low\": -3.155000898892278, \"err_high\": 11.056582392505877}, {\"time\": \"2009-02-20T11:00:00\", \"variable\": \"TA\", \"value\": -0.89, \"is_present\": true, \"mean\": 4.172190659232843, \"std\": 3.552895822849539, \"err_low\": -2.933600986466235, \"err_high\": 11.277982304931921}, {\"time\": \"2009-02-20T11:30:00\", \"variable\": \"TA\", \"value\": -0.68, \"is_present\": true, \"mean\": 4.325881305896079, \"std\": 3.552895822849539, \"err_low\": -2.779910339802999, \"err_high\": 11.431672951595157}, {\"time\": \"2009-02-20T12:00:00\", \"variable\": \"TA\", \"value\": -0.51, \"is_present\": true, \"mean\": 4.393124405520165, \"std\": 3.552895822849539, \"err_low\": -2.712667240178913, \"err_high\": 11.498916051219243}, {\"time\": \"2009-02-20T12:30:00\", \"variable\": \"TA\", \"value\": -0.4, \"is_present\": true, \"mean\": 4.377357425083864, \"std\": 3.552895822849539, \"err_low\": -2.728434220615214, \"err_high\": 11.483149070782943}, {\"time\": \"2009-02-20T13:00:00\", \"variable\": \"TA\", \"value\": -0.3, \"is_present\": true, \"mean\": 4.401407303823268, \"std\": 3.552895822849539, \"err_low\": -2.7043843418758104, \"err_high\": 11.507198949522346}, {\"time\": \"2009-02-20T13:30:00\", \"variable\": \"TA\", \"value\": -0.14, \"is_present\": true, \"mean\": 4.218533525292002, \"std\": 3.552895822849539, \"err_low\": -2.8872581204070764, \"err_high\": 11.32432517099108}, {\"time\": \"2009-02-20T14:00:00\", \"variable\": \"TA\", \"value\": -0.02, \"is_present\": true, \"mean\": 4.437688167147535, \"std\": 3.552895822849539, \"err_low\": -2.6681034785515436, \"err_high\": 11.543479812846613}, {\"time\": \"2009-02-20T14:30:00\", \"variable\": \"TA\", \"value\": 0.02, \"is_present\": true, \"mean\": 4.268277761924428, \"std\": 3.552895822849539, \"err_low\": -2.8375138837746503, \"err_high\": 11.374069407623505}, {\"time\": \"2009-02-20T15:00:00\", \"variable\": \"TA\", \"value\": 0.06, \"is_present\": true, \"mean\": 4.161090916393701, \"std\": 3.552895822849539, \"err_low\": -2.944700729305377, \"err_high\": 11.266882562092778}, {\"time\": \"2009-02-20T15:30:00\", \"variable\": \"TA\", \"value\": 0.16, \"is_present\": true, \"mean\": 4.103317324182046, \"std\": 3.552895822849539, \"err_low\": -3.002474321517032, \"err_high\": 11.209108969881125}, {\"time\": \"2009-02-20T16:00:00\", \"variable\": \"TA\", \"value\": 0.43, \"is_present\": true, \"mean\": 4.012075609266427, \"std\": 3.552895822849539, \"err_low\": -3.0937160364326513, \"err_high\": 11.117867254965505}, {\"time\": \"2009-02-20T16:30:00\", \"variable\": \"TA\", \"value\": 0.72, \"is_present\": false, \"mean\": 4.049921710886373, \"std\": 3.552895822849539, \"err_low\": -3.055869934812705, \"err_high\": 11.155713356585451}, {\"time\": \"2009-02-20T17:00:00\", \"variable\": \"TA\", \"value\": 0.77, \"is_present\": false, \"mean\": 4.112848588268565, \"std\": 3.5547469221991848, \"err_low\": -2.9966452561298045, \"err_high\": 11.222342432666935}, {\"time\": \"2009-02-20T17:30:00\", \"variable\": \"TA\", \"value\": 0.53, \"is_present\": false, \"mean\": 4.244958484597611, \"std\": 3.5591068621614856, \"err_low\": -2.87325523972536, \"err_high\": 11.363172208920583}, {\"time\": \"2009-02-20T18:00:00\", \"variable\": \"TA\", \"value\": 0.33, \"is_present\": false, \"mean\": 4.384317963172073, \"std\": 3.5643598384299757, \"err_low\": -2.7444017136878784, \"err_high\": 11.513037640032024}, {\"time\": \"2009-02-20T18:30:00\", \"variable\": \"TA\", \"value\": 0.39, \"is_present\": false, \"mean\": 4.523854154038389, \"std\": 3.5702360838618477, \"err_low\": -2.616618013685306, \"err_high\": 11.664326321762085}, {\"time\": \"2009-02-20T19:00:00\", \"variable\": \"TA\", \"value\": 0.63, \"is_present\": false, \"mean\": 4.6624516429595655, \"std\": 3.576734095028519, \"err_low\": -2.4910165470974723, \"err_high\": 11.815919833016604}, {\"time\": \"2009-02-20T19:30:00\", \"variable\": \"TA\", \"value\": 0.79, \"is_present\": false, \"mean\": 4.799678426486111, \"std\": 3.583843741627052, \"err_low\": -2.368009056767993, \"err_high\": 11.967365909740217}, {\"time\": \"2009-02-20T20:00:00\", \"variable\": \"TA\", \"value\": 1.01, \"is_present\": false, \"mean\": 4.935214099283161, \"std\": 3.5915281800104726, \"err_low\": -2.2478422607377846, \"err_high\": 12.118270459304107}, {\"time\": \"2009-02-20T20:30:00\", \"variable\": \"TA\", \"value\": 1.05, \"is_present\": false, \"mean\": 5.068785050458139, \"std\": 3.5997302675644405, \"err_low\": -2.130675484670742, \"err_high\": 12.268245585587021}, {\"time\": \"2009-02-20T21:00:00\", \"variable\": \"TA\", \"value\": 1.08, \"is_present\": false, \"mean\": 5.200154527548721, \"std\": 3.6083796272376594, \"err_low\": -2.016604726926598, \"err_high\": 12.41691378202404}, {\"time\": \"2009-02-20T21:30:00\", \"variable\": \"TA\", \"value\": 1.13, \"is_present\": true, \"mean\": 5.329118825634691, \"std\": 3.617398377608835, \"err_low\": -1.9056779295829793, \"err_high\": 12.56391558085236}, {\"time\": \"2009-02-20T22:00:00\", \"variable\": \"TA\", \"value\": 1.15, \"is_present\": true, \"mean\": 3.6820158154463973, \"std\": 3.553646870581949, \"err_low\": -3.4252779257175003, \"err_high\": 10.789309556610295}, {\"time\": \"2009-02-20T22:30:00\", \"variable\": \"TA\", \"value\": 1.15, \"is_present\": true, \"mean\": 3.679796590523126, \"std\": 3.55291672491508, \"err_low\": -3.4260368593070343, \"err_high\": 10.785630040353286}, {\"time\": \"2009-02-20T23:00:00\", \"variable\": \"TA\", \"value\": 1.18, \"is_present\": true, \"mean\": 3.6811861182775507, \"std\": 3.5528962546486564, \"err_low\": -3.424606391019762, \"err_high\": 10.786978627574864}, {\"time\": \"2009-02-20T23:30:00\", \"variable\": \"TA\", \"value\": 1.18, \"is_present\": true, \"mean\": 3.681340373262281, \"std\": 3.552895831269915, \"err_low\": -3.424451289277549, \"err_high\": 10.787132035802111}, {\"time\": \"2009-02-21T00:00:00\", \"variable\": \"TA\", \"value\": 1.1, \"is_present\": true, \"mean\": 3.6813983192652087, \"std\": 3.552895823011989, \"err_low\": -3.4243933267587696, \"err_high\": 10.787189965289187}, {\"time\": \"2009-02-21T00:30:00\", \"variable\": \"TA\", \"value\": 1.06, \"is_present\": true, \"mean\": 3.6805001891385487, \"std\": 3.552895822852667, \"err_low\": -3.425291456566785, \"err_high\": 10.786291834843883}, {\"time\": \"2009-02-21T01:00:00\", \"variable\": \"TA\", \"value\": 0.98, \"is_present\": true, \"mean\": 3.6799690220605736, \"std\": 3.552895822849599, \"err_low\": -3.4258226236386244, \"err_high\": 10.78576066775977}, {\"time\": \"2009-02-21T01:30:00\", \"variable\": \"TA\", \"value\": 0.94, \"is_present\": true, \"mean\": 3.6790432674685443, \"std\": 3.55289582284954, \"err_low\": -3.4267483782305357, \"err_high\": 10.784834913167625}, {\"time\": \"2009-02-21T02:00:00\", \"variable\": \"TA\", \"value\": 0.8, \"is_present\": true, \"mean\": 3.6785144699413923, \"std\": 3.552895822849539, \"err_low\": -3.427277175757686, \"err_high\": 10.78430611564047}, {\"time\": \"2009-02-21T02:30:00\", \"variable\": \"TA\", \"value\": 0.64, \"is_present\": true, \"mean\": 3.6769199706640663, \"std\": 3.552895822849539, \"err_low\": -3.428871675035012, \"err_high\": 10.782711616363144}, {\"time\": \"2009-02-21T03:00:00\", \"variable\": \"TA\", \"value\": 0.4, \"is_present\": true, \"mean\": 3.6749894693118685, \"std\": 3.552895822849539, \"err_low\": -3.4308021763872096, \"err_high\": 10.780781115010946}, {\"time\": \"2009-02-21T03:30:00\", \"variable\": \"TA\", \"value\": 0.12, \"is_present\": true, \"mean\": 3.672157844710565, \"std\": 3.552895822849539, \"err_low\": -3.4336338009885132, \"err_high\": 10.777949490409643}, {\"time\": \"2009-02-21T04:00:00\", \"variable\": \"TA\", \"value\": -0.04, \"is_present\": true, \"mean\": 3.668794806069821, \"std\": 3.552895822849539, \"err_low\": -3.4369968396292574, \"err_high\": 10.774586451768899}, {\"time\": \"2009-02-21T04:30:00\", \"variable\": \"TA\", \"value\": -0.24, \"is_present\": true, \"mean\": 3.6667342282353177, \"std\": 3.552895822849539, \"err_low\": -3.4390574174637605, \"err_high\": 10.772525873934395}, {\"time\": \"2009-02-21T05:00:00\", \"variable\": \"TA\", \"value\": -0.66, \"is_present\": true, \"mean\": 3.664360993118242, \"std\": 3.552895822849539, \"err_low\": -3.441430652580836, \"err_high\": 10.77015263881732}, {\"time\": \"2009-02-21T05:30:00\", \"variable\": \"TA\", \"value\": -0.86, \"is_present\": true, \"mean\": 3.6594798209771815, \"std\": 3.552895822849539, \"err_low\": -3.4463118247218967, \"err_high\": 10.76527146667626}, {\"time\": \"2009-02-21T06:00:00\", \"variable\": \"TA\", \"value\": -0.99, \"is_present\": true, \"mean\": 3.6568180974951128, \"std\": 3.552895822849539, \"err_low\": -3.4489735482039654, \"err_high\": 10.76260974319419}, {\"time\": \"2009-02-21T06:30:00\", \"variable\": \"TA\", \"value\": -0.86, \"is_present\": true, \"mean\": 3.655197559210027, \"std\": 3.552895822849539, \"err_low\": -3.450594086489051, \"err_high\": 10.760989204909105}, {\"time\": \"2009-02-21T07:00:00\", \"variable\": \"TA\", \"value\": -0.73, \"is_present\": true, \"mean\": 3.6565218290763646, \"std\": 3.552895822849539, \"err_low\": -3.4492698166227136, \"err_high\": 10.762313474775443}, {\"time\": \"2009-02-21T07:30:00\", \"variable\": \"TA\", \"value\": -0.66, \"is_present\": true, \"mean\": 3.6581229341246075, \"std\": 3.5528958228495386, \"err_low\": -3.4476687115744697, \"err_high\": 10.763914579823684}, {\"time\": \"2009-02-21T08:00:00\", \"variable\": \"TA\", \"value\": -0.52, \"is_present\": true, \"mean\": 3.6632745881669413, \"std\": 3.552895822849539, \"err_low\": -3.442517057532137, \"err_high\": 10.76906623386602}, {\"time\": \"2009-02-21T08:30:00\", \"variable\": \"TA\", \"value\": -0.46, \"is_present\": true, \"mean\": 3.7089880973858254, \"std\": 3.552895822849539, \"err_low\": -3.396803548313253, \"err_high\": 10.814779743084904}, {\"time\": \"2009-02-21T09:00:00\", \"variable\": \"TA\", \"value\": -0.49, \"is_present\": true, \"mean\": 3.82661229941799, \"std\": 3.552895822849539, \"err_low\": -3.2791793462810883, \"err_high\": 10.932403945117068}, {\"time\": \"2009-02-21T09:30:00\", \"variable\": \"TA\", \"value\": -0.46, \"is_present\": true, \"mean\": 3.958123545623077, \"std\": 3.5528958228495386, \"err_low\": -3.1476681000760003, \"err_high\": 11.063915191322154}, {\"time\": \"2009-02-21T10:00:00\", \"variable\": \"TA\", \"value\": -0.38, \"is_present\": true, \"mean\": 3.931678318041196, \"std\": 3.552895822849539, \"err_low\": -3.1741133276578823, \"err_high\": 11.037469963740275}, {\"time\": \"2009-02-21T10:30:00\", \"variable\": \"TA\", \"value\": -0.28, \"is_present\": true, \"mean\": 4.028956482025825, \"std\": 3.552895822849539, \"err_low\": -3.0768351636732536, \"err_high\": 11.134748127724903}, {\"time\": \"2009-02-21T11:00:00\", \"variable\": \"TA\", \"value\": -0.09, \"is_present\": true, \"mean\": 4.128791833574649, \"std\": 3.552895822849539, \"err_low\": -2.976999812124429, \"err_high\": 11.234583479273727}, {\"time\": \"2009-02-21T11:30:00\", \"variable\": \"TA\", \"value\": 0.17, \"is_present\": true, \"mean\": 4.460984982721959, \"std\": 3.552895822849539, \"err_low\": -2.6448066629771194, \"err_high\": 11.566776628421037}, {\"time\": \"2009-02-21T12:00:00\", \"variable\": \"TA\", \"value\": 0.58, \"is_present\": true, \"mean\": 4.696213777146108, \"std\": 3.552895822849539, \"err_low\": -2.4095778685529705, \"err_high\": 11.802005422845186}, {\"time\": \"2009-02-21T12:30:00\", \"variable\": \"TA\", \"value\": 1.1, \"is_present\": true, \"mean\": 4.876451172334235, \"std\": 3.5528958228495386, \"err_low\": -2.229340473364842, \"err_high\": 11.982242818033313}, {\"time\": \"2009-02-21T13:00:00\", \"variable\": \"TA\", \"value\": 1.54, \"is_present\": true, \"mean\": 5.184768745539613, \"std\": 3.5528958228495386, \"err_low\": -1.921022900159464, \"err_high\": 12.29056039123869}, {\"time\": \"2009-02-21T13:30:00\", \"variable\": \"TA\", \"value\": 1.68, \"is_present\": true, \"mean\": 5.503228920229015, \"std\": 3.5528958228495386, \"err_low\": -1.6025627254700625, \"err_high\": 12.609020565928091}, {\"time\": \"2009-02-21T14:00:00\", \"variable\": \"TA\", \"value\": 1.58, \"is_present\": true, \"mean\": 5.656858387786209, \"std\": 3.5528958228495386, \"err_low\": -1.4489332579128682, \"err_high\": 12.762650033485286}, {\"time\": \"2009-02-21T14:30:00\", \"variable\": \"TA\", \"value\": 1.71, \"is_present\": true, \"mean\": 5.368503618745789, \"std\": 3.552895822849539, \"err_low\": -1.7372880269532889, \"err_high\": 12.474295264444867}, {\"time\": \"2009-02-21T15:00:00\", \"variable\": \"TA\", \"value\": 1.76, \"is_present\": true, \"mean\": 5.360425564180305, \"std\": 3.552895822849539, \"err_low\": -1.7453660815187728, \"err_high\": 12.466217209879384}, {\"time\": \"2009-02-21T15:30:00\", \"variable\": \"TA\", \"value\": 1.55, \"is_present\": true, \"mean\": 5.206446775788429, \"std\": 3.552895822849539, \"err_low\": -1.8993448699106494, \"err_high\": 12.312238421487507}, {\"time\": \"2009-02-21T16:00:00\", \"variable\": \"TA\", \"value\": 1.37, \"is_present\": true, \"mean\": 5.00178989217873, \"std\": 3.552895822849539, \"err_low\": -2.1040017535203486, \"err_high\": 12.107581537877808}, {\"time\": \"2009-02-21T16:30:00\", \"variable\": \"TA\", \"value\": 1.25, \"is_present\": true, \"mean\": 4.707317624289441, \"std\": 3.5528958228495386, \"err_low\": -2.398474021409636, \"err_high\": 11.81310926998852}, {\"time\": \"2009-02-21T17:00:00\", \"variable\": \"TA\", \"value\": 1.06, \"is_present\": true, \"mean\": 4.491857315272363, \"std\": 3.552895822849539, \"err_low\": -2.613934330426715, \"err_high\": 11.59764896097144}, {\"time\": \"2009-02-21T17:30:00\", \"variable\": \"TA\", \"value\": 0.91, \"is_present\": true, \"mean\": 4.244566036805446, \"std\": 3.552895822849539, \"err_low\": -2.8612256088936325, \"err_high\": 11.350357682504523}, {\"time\": \"2009-02-21T18:00:00\", \"variable\": \"TA\", \"value\": 0.87, \"is_present\": true, \"mean\": 4.099283822420824, \"std\": 3.552895822849539, \"err_low\": -3.0065078232782545, \"err_high\": 11.205075468119901}, {\"time\": \"2009-02-21T18:30:00\", \"variable\": \"TA\", \"value\": 0.88, \"is_present\": true, \"mean\": 3.996318831387349, \"std\": 3.552895822849539, \"err_low\": -3.1094728143117294, \"err_high\": 11.102110477086427}, {\"time\": \"2009-02-21T19:00:00\", \"variable\": \"TA\", \"value\": 0.9, \"is_present\": true, \"mean\": 3.9779413503498526, \"std\": 3.552895822849539, \"err_low\": -3.1278502953492255, \"err_high\": 11.08373299604893}, {\"time\": \"2009-02-21T19:30:00\", \"variable\": \"TA\", \"value\": 0.94, \"is_present\": true, \"mean\": 3.984724174189303, \"std\": 3.552895822849539, \"err_low\": -3.1210674715097753, \"err_high\": 11.090515819888381}, {\"time\": \"2009-02-21T20:00:00\", \"variable\": \"TA\", \"value\": 0.87, \"is_present\": true, \"mean\": 4.0299614949550895, \"std\": 3.552895822849539, \"err_low\": -3.0758301507439887, \"err_high\": 11.135753140654167}, {\"time\": \"2009-02-21T20:30:00\", \"variable\": \"TA\", \"value\": 0.93, \"is_present\": true, \"mean\": 4.070438422218226, \"std\": 3.5528958228495386, \"err_low\": -3.0353532234808513, \"err_high\": 11.176230067917302}, {\"time\": \"2009-02-21T21:00:00\", \"variable\": \"TA\", \"value\": 0.94, \"is_present\": true, \"mean\": 4.057446696140854, \"std\": 3.552895822849539, \"err_low\": -3.048344949558224, \"err_high\": 11.163238341839932}, {\"time\": \"2009-02-21T21:30:00\", \"variable\": \"TA\", \"value\": 0.85, \"is_present\": true, \"mean\": 4.088086248147265, \"std\": 3.552895822849539, \"err_low\": -3.017705397551813, \"err_high\": 11.193877893846343}, {\"time\": \"2009-02-21T22:00:00\", \"variable\": \"TA\", \"value\": 0.68, \"is_present\": true, \"mean\": 4.059909424421435, \"std\": 3.552895822849539, \"err_low\": -3.045882221277643, \"err_high\": 11.165701070120512}, {\"time\": \"2009-02-21T22:30:00\", \"variable\": \"TA\", \"value\": 0.28, \"is_present\": true, \"mean\": 3.993082953284093, \"std\": 3.552895822849539, \"err_low\": -3.1127086924149854, \"err_high\": 11.098874598983171}, {\"time\": \"2009-02-21T23:00:00\", \"variable\": \"TA\", \"value\": 0.15, \"is_present\": true, \"mean\": 3.9317683219555963, \"std\": 3.552895822849539, \"err_low\": -3.174023323743482, \"err_high\": 11.037559967654675}, {\"time\": \"2009-02-21T23:30:00\", \"variable\": \"TA\", \"value\": 0.0, \"is_present\": true, \"mean\": 3.788021041809551, \"std\": 3.552895822849539, \"err_low\": -3.317770603889527, \"err_high\": 10.893812687508628}, {\"time\": \"2009-02-22T00:00:00\", \"variable\": \"TA\", \"value\": -0.23, \"is_present\": true, \"mean\": 3.75153256046649, \"std\": 3.552895822849539, \"err_low\": -3.354259085232588, \"err_high\": 10.857324206165568}, {\"time\": \"2009-02-22T00:30:00\", \"variable\": \"TA\", \"value\": -0.4, \"is_present\": true, \"mean\": 3.7089270097037694, \"std\": 3.552895822849539, \"err_low\": -3.3968646359953087, \"err_high\": 10.814718655402848}, {\"time\": \"2009-02-22T01:00:00\", \"variable\": \"TA\", \"value\": -0.52, \"is_present\": true, \"mean\": 3.6660752276238666, \"std\": 3.552895822849539, \"err_low\": -3.4397164180752116, \"err_high\": 10.771866873322946}, {\"time\": \"2009-02-22T01:30:00\", \"variable\": \"TA\", \"value\": -0.53, \"is_present\": true, \"mean\": 3.6601185555801896, \"std\": 3.552895822849539, \"err_low\": -3.4456730901188886, \"err_high\": 10.765910201279269}, {\"time\": \"2009-02-22T02:00:00\", \"variable\": \"TA\", \"value\": -0.63, \"is_present\": true, \"mean\": 3.660774162507141, \"std\": 3.552895822849539, \"err_low\": -3.445017483191937, \"err_high\": 10.76656580820622}, {\"time\": \"2009-02-22T02:30:00\", \"variable\": \"TA\", \"value\": -0.61, \"is_present\": true, \"mean\": 3.6595315544937934, \"std\": 3.552895822849539, \"err_low\": -3.4462600912052848, \"err_high\": 10.76532320019287}, {\"time\": \"2009-02-22T03:00:00\", \"variable\": \"TA\", \"value\": -0.49, \"is_present\": true, \"mean\": 3.659664017017124, \"std\": 3.552895822849539, \"err_low\": -3.446127628681954, \"err_high\": 10.765455662716203}, {\"time\": \"2009-02-22T03:30:00\", \"variable\": \"TA\", \"value\": -0.43, \"is_present\": true, \"mean\": 3.6610311612072115, \"std\": 3.552895822849539, \"err_low\": -3.4447604844918667, \"err_high\": 10.76682280690629}, {\"time\": \"2009-02-22T04:00:00\", \"variable\": \"TA\", \"value\": -0.35, \"is_present\": true, \"mean\": 3.6618259761222136, \"std\": 3.552895822849539, \"err_low\": -3.4439656695768646, \"err_high\": 10.767617621821291}, {\"time\": \"2009-02-22T04:30:00\", \"variable\": \"TA\", \"value\": -0.24, \"is_present\": true, \"mean\": 3.662769223824758, \"std\": 3.552895822849539, \"err_low\": -3.4430224218743204, \"err_high\": 10.768560869523835}, {\"time\": \"2009-02-22T05:00:00\", \"variable\": \"TA\", \"value\": -0.21, \"is_present\": true, \"mean\": 3.664076198082175, \"std\": 3.552895822849539, \"err_low\": -3.441715447616903, \"err_high\": 10.769867843781253}, {\"time\": \"2009-02-22T05:30:00\", \"variable\": \"TA\", \"value\": -0.13, \"is_present\": true, \"mean\": 3.6645210736373164, \"std\": 3.5528958228495386, \"err_low\": -3.441270572061761, \"err_high\": 10.770312719336394}, {\"time\": \"2009-02-22T06:00:00\", \"variable\": \"TA\", \"value\": -0.1, \"is_present\": true, \"mean\": 3.665433637628836, \"std\": 3.552895822849539, \"err_low\": -3.440358008070242, \"err_high\": 10.771225283327915}, {\"time\": \"2009-02-22T06:30:00\", \"variable\": \"TA\", \"value\": -0.07, \"is_present\": true, \"mean\": 3.6658524405997284, \"std\": 3.552895822849539, \"err_low\": -3.43993920509935, \"err_high\": 10.771644086298807}, {\"time\": \"2009-02-22T07:00:00\", \"variable\": \"TA\", \"value\": -0.08, \"is_present\": true, \"mean\": 3.6662104548404493, \"std\": 3.552895822849539, \"err_low\": -3.439581190858629, \"err_high\": 10.772002100539527}, {\"time\": \"2009-02-22T07:30:00\", \"variable\": \"TA\", \"value\": -0.08, \"is_present\": true, \"mean\": 3.6661292681787137, \"std\": 3.552895822849539, \"err_low\": -3.4396623775203645, \"err_high\": 10.771920913877793}, {\"time\": \"2009-02-22T08:00:00\", \"variable\": \"TA\", \"value\": -0.05, \"is_present\": true, \"mean\": 3.666115414762624, \"std\": 3.552895822849539, \"err_low\": -3.4396762309364544, \"err_high\": 10.771907060461702}, {\"time\": \"2009-02-22T08:30:00\", \"variable\": \"TA\", \"value\": -0.01, \"is_present\": true, \"mean\": 3.683086420808741, \"std\": 3.552895822849539, \"err_low\": -3.422705224890337, \"err_high\": 10.78887806650782}, {\"time\": \"2009-02-22T09:00:00\", \"variable\": \"TA\", \"value\": 0.03, \"is_present\": true, \"mean\": 3.73001255751333, \"std\": 3.552895822849539, \"err_low\": -3.375779088185748, \"err_high\": 10.835804203212408}, {\"time\": \"2009-02-22T09:30:00\", \"variable\": \"TA\", \"value\": 0.07, \"is_present\": true, \"mean\": 3.8094681106558053, \"std\": 3.552895822849539, \"err_low\": -3.296323535043273, \"err_high\": 10.915259756354883}, {\"time\": \"2009-02-22T10:00:00\", \"variable\": \"TA\", \"value\": 0.1, \"is_present\": true, \"mean\": 3.799228789045225, \"std\": 3.552895822849539, \"err_low\": -3.306562856653853, \"err_high\": 10.905020434744303}, {\"time\": \"2009-02-22T10:30:00\", \"variable\": \"TA\", \"value\": 0.18, \"is_present\": true, \"mean\": 3.9780967116952057, \"std\": 3.5528958228495386, \"err_low\": -3.1276949340038716, \"err_high\": 11.083888357394283}, {\"time\": \"2009-02-22T11:00:00\", \"variable\": \"TA\", \"value\": 0.39, \"is_present\": true, \"mean\": 3.970882113755227, \"std\": 3.552895822849539, \"err_low\": -3.134909531943851, \"err_high\": 11.076673759454305}, {\"time\": \"2009-02-22T11:30:00\", \"variable\": \"TA\", \"value\": 0.51, \"is_present\": true, \"mean\": 3.9900314076968764, \"std\": 3.552895822849539, \"err_low\": -3.115760238002202, \"err_high\": 11.095823053395954}, {\"time\": \"2009-02-22T12:00:00\", \"variable\": \"TA\", \"value\": 0.73, \"is_present\": true, \"mean\": 4.100401923606175, \"std\": 3.552895822849539, \"err_low\": -3.005389722092903, \"err_high\": 11.206193569305253}, {\"time\": \"2009-02-22T12:30:00\", \"variable\": \"TA\", \"value\": 0.89, \"is_present\": true, \"mean\": 3.9676768988615514, \"std\": 3.552895822849539, \"err_low\": -3.138114746837527, \"err_high\": 11.07346854456063}, {\"time\": \"2009-02-22T13:00:00\", \"variable\": \"TA\", \"value\": 1.12, \"is_present\": true, \"mean\": 4.003751468258157, \"std\": 3.552895822849539, \"err_low\": -3.102040177440921, \"err_high\": 11.109543113957235}, {\"time\": \"2009-02-22T13:30:00\", \"variable\": \"TA\", \"value\": 1.4, \"is_present\": true, \"mean\": 4.113026048524362, \"std\": 3.552895822849539, \"err_low\": -2.9927655971747162, \"err_high\": 11.21881769422344}, {\"time\": \"2009-02-22T14:00:00\", \"variable\": \"TA\", \"value\": 1.62, \"is_present\": true, \"mean\": 4.2375024305974245, \"std\": 3.552895822849539, \"err_low\": -2.8682892151016537, \"err_high\": 11.343294076296502}, {\"time\": \"2009-02-22T14:30:00\", \"variable\": \"TA\", \"value\": 1.72, \"is_present\": true, \"mean\": 4.243392445588737, \"std\": 3.552895822849539, \"err_low\": -2.8623992001103415, \"err_high\": 11.349184091287814}, {\"time\": \"2009-02-22T15:00:00\", \"variable\": \"TA\", \"value\": 1.75, \"is_present\": true, \"mean\": 4.057185307954206, \"std\": 3.552895822849539, \"err_low\": -3.0486063377448724, \"err_high\": 11.162976953653285}, {\"time\": \"2009-02-22T15:30:00\", \"variable\": \"TA\", \"value\": 1.91, \"is_present\": true, \"mean\": 4.012950040485761, \"std\": 3.552895822849539, \"err_low\": -3.0928416052133167, \"err_high\": 11.11874168618484}, {\"time\": \"2009-02-22T16:00:00\", \"variable\": \"TA\", \"value\": 2.22, \"is_present\": true, \"mean\": 4.063710229131677, \"std\": 3.552895822849539, \"err_low\": -3.0420814165674015, \"err_high\": 11.169501874830754}, {\"time\": \"2009-02-22T16:30:00\", \"variable\": \"TA\", \"value\": 2.33, \"is_present\": true, \"mean\": 3.94518030550719, \"std\": 3.552895822849539, \"err_low\": -3.1606113401918883, \"err_high\": 11.050971951206268}, {\"time\": \"2009-02-22T17:00:00\", \"variable\": \"TA\", \"value\": 2.47, \"is_present\": true, \"mean\": 3.8813881549443225, \"std\": 3.552895822849539, \"err_low\": -3.2244034907547556, \"err_high\": 10.9871798006434}, {\"time\": \"2009-02-22T17:30:00\", \"variable\": \"TA\", \"value\": 2.47, \"is_present\": true, \"mean\": 3.782491716821249, \"std\": 3.552895822849539, \"err_low\": -3.3232999288778293, \"err_high\": 10.888283362520326}, {\"time\": \"2009-02-22T18:00:00\", \"variable\": \"TA\", \"value\": 2.47, \"is_present\": true, \"mean\": 3.708701028446437, \"std\": 3.552895822849539, \"err_low\": -3.3970906172526414, \"err_high\": 10.814492674145516}, {\"time\": \"2009-02-22T18:30:00\", \"variable\": \"TA\", \"value\": 2.52, \"is_present\": true, \"mean\": 3.697378728348549, \"std\": 3.552895822849539, \"err_low\": -3.408412917350529, \"err_high\": 10.803170374047628}, {\"time\": \"2009-02-22T19:00:00\", \"variable\": \"TA\", \"value\": 2.53, \"is_present\": true, \"mean\": 3.6975805147847085, \"std\": 3.552895822849539, \"err_low\": -3.4082111309143697, \"err_high\": 10.803372160483786}, {\"time\": \"2009-02-22T19:30:00\", \"variable\": \"TA\", \"value\": 2.57, \"is_present\": true, \"mean\": 3.697754141740454, \"std\": 3.552895822849539, \"err_low\": -3.4080375039586244, \"err_high\": 10.803545787439532}, {\"time\": \"2009-02-22T20:00:00\", \"variable\": \"TA\", \"value\": 2.62, \"is_present\": true, \"mean\": 3.698204882477407, \"std\": 3.552895822849539, \"err_low\": -3.407586763221671, \"err_high\": 10.803996528176485}, {\"time\": \"2009-02-22T20:30:00\", \"variable\": \"TA\", \"value\": 2.71, \"is_present\": true, \"mean\": 3.698804764689287, \"std\": 3.552895822849539, \"err_low\": -3.406986881009791, \"err_high\": 10.804596410388365}, {\"time\": \"2009-02-22T21:00:00\", \"variable\": \"TA\", \"value\": 2.75, \"is_present\": true, \"mean\": 3.6998570884586215, \"std\": 3.552895822849539, \"err_low\": -3.4059345572404567, \"err_high\": 10.8056487341577}, {\"time\": \"2009-02-22T21:30:00\", \"variable\": \"TA\", \"value\": 2.69, \"is_present\": true, \"mean\": 3.7003950174016724, \"std\": 3.552895822849539, \"err_low\": -3.4053966282974057, \"err_high\": 10.80618666310075}, {\"time\": \"2009-02-22T22:00:00\", \"variable\": \"TA\", \"value\": 2.06, \"is_present\": true, \"mean\": 3.699760464488958, \"std\": 3.552895822849539, \"err_low\": -3.4060311812101203, \"err_high\": 10.805552110188035}, {\"time\": \"2009-02-22T22:30:00\", \"variable\": \"TA\", \"value\": 1.95, \"is_present\": true, \"mean\": 3.692673676683337, \"std\": 3.552895822849539, \"err_low\": -3.413117969015741, \"err_high\": 10.798465322382416}, {\"time\": \"2009-02-22T23:00:00\", \"variable\": \"TA\", \"value\": 1.92, \"is_present\": true, \"mean\": 3.6907743849395063, \"std\": 3.552895822849539, \"err_low\": -3.415017260759572, \"err_high\": 10.796566030638584}, {\"time\": \"2009-02-22T23:30:00\", \"variable\": \"TA\", \"value\": 1.71, \"is_present\": true, \"mean\": 3.6903901973972175, \"std\": 3.552895822849539, \"err_low\": -3.4154014483018607, \"err_high\": 10.796181843096296}, {\"time\": \"2009-02-23T00:00:00\", \"variable\": \"TA\", \"value\": 1.42, \"is_present\": true, \"mean\": 3.688021407342287, \"std\": 3.552895822849539, \"err_low\": -3.417770238356791, \"err_high\": 10.793813053041365}, {\"time\": \"2009-02-23T00:30:00\", \"variable\": \"TA\", \"value\": 1.32, \"is_present\": true, \"mean\": 3.684566578159721, \"std\": 3.552895822849539, \"err_low\": -3.421225067539357, \"err_high\": 10.7903582238588}, {\"time\": \"2009-02-23T01:00:00\", \"variable\": \"TA\", \"value\": 1.12, \"is_present\": true, \"mean\": 3.6935997421310622, \"std\": 3.552895822849539, \"err_low\": -3.412191903568016, \"err_high\": 10.799391387830141}, {\"time\": \"2009-02-23T01:30:00\", \"variable\": \"TA\", \"value\": 0.73, \"is_present\": true, \"mean\": 3.7386020775002953, \"std\": 3.552895822849539, \"err_low\": -3.367189568198783, \"err_high\": 10.844393723199374}, {\"time\": \"2009-02-23T02:00:00\", \"variable\": \"TA\", \"value\": 0.29, \"is_present\": true, \"mean\": 3.7736868356274726, \"std\": 3.552895822849539, \"err_low\": -3.3321048100716055, \"err_high\": 10.87947848132655}, {\"time\": \"2009-02-23T02:30:00\", \"variable\": \"TA\", \"value\": 0.43, \"is_present\": true, \"mean\": 3.7177769960777853, \"std\": 3.552895822849539, \"err_low\": -3.388014649621293, \"err_high\": 10.823568641776863}, {\"time\": \"2009-02-23T03:00:00\", \"variable\": \"TA\", \"value\": 0.69, \"is_present\": true, \"mean\": 3.6744370120975436, \"std\": 3.552895822849539, \"err_low\": -3.4313546336015346, \"err_high\": 10.780228657796622}, {\"time\": \"2009-02-23T03:30:00\", \"variable\": \"TA\", \"value\": 0.82, \"is_present\": true, \"mean\": 3.6746656649328626, \"std\": 3.552895822849539, \"err_low\": -3.4311259807662156, \"err_high\": 10.780457310631942}, {\"time\": \"2009-02-23T04:00:00\", \"variable\": \"TA\", \"value\": 0.87, \"is_present\": true, \"mean\": 3.692453152762763, \"std\": 3.552895822849539, \"err_low\": -3.4133384929363153, \"err_high\": 10.798244798461841}, {\"time\": \"2009-02-23T04:30:00\", \"variable\": \"TA\", \"value\": 0.86, \"is_present\": true, \"mean\": 3.739133929903095, \"std\": 3.552895822849539, \"err_low\": -3.3666577157959834, \"err_high\": 10.844925575602172}, {\"time\": \"2009-02-23T05:00:00\", \"variable\": \"TA\", \"value\": 0.85, \"is_present\": true, \"mean\": 3.7637835093910894, \"std\": 3.552895822849539, \"err_low\": -3.3420081363079888, \"err_high\": 10.869575155090168}, {\"time\": \"2009-02-23T05:30:00\", \"variable\": \"TA\", \"value\": 0.94, \"is_present\": true, \"mean\": 3.7651713125229254, \"std\": 3.552895822849539, \"err_low\": -3.340620333176153, \"err_high\": 10.870962958222004}, {\"time\": \"2009-02-23T06:00:00\", \"variable\": \"TA\", \"value\": 0.91, \"is_present\": true, \"mean\": 3.779103452751249, \"std\": 3.552895822849539, \"err_low\": -3.326688192947829, \"err_high\": 10.884895098450327}, {\"time\": \"2009-02-23T06:30:00\", \"variable\": \"TA\", \"value\": 0.62, \"is_present\": true, \"mean\": 3.7918098328531338, \"std\": 3.552895822849539, \"err_low\": -3.3139818128459444, \"err_high\": 10.897601478552211}, {\"time\": \"2009-02-23T07:00:00\", \"variable\": \"TA\", \"value\": 0.52, \"is_present\": true, \"mean\": 3.7738335159416296, \"std\": 3.552895822849539, \"err_low\": -3.3319581297574485, \"err_high\": 10.879625161640707}, {\"time\": \"2009-02-23T07:30:00\", \"variable\": \"TA\", \"value\": 0.56, \"is_present\": true, \"mean\": 3.7235500329210254, \"std\": 3.552895822849539, \"err_low\": -3.382241612778053, \"err_high\": 10.829341678620104}, {\"time\": \"2009-02-23T08:00:00\", \"variable\": \"TA\", \"value\": 0.58, \"is_present\": true, \"mean\": 3.6793851085374314, \"std\": 3.5528958228495386, \"err_low\": -3.426406537161646, \"err_high\": 10.78517675423651}, {\"time\": \"2009-02-23T08:30:00\", \"variable\": \"TA\", \"value\": 0.49, \"is_present\": true, \"mean\": 3.7041506096817898, \"std\": 3.552895822849539, \"err_low\": -3.4016410360172884, \"err_high\": 10.809942255380868}, {\"time\": \"2009-02-23T09:00:00\", \"variable\": \"TA\", \"value\": 0.51, \"is_present\": true, \"mean\": 3.77079870027681, \"std\": 3.552895822849539, \"err_low\": -3.334992945422268, \"err_high\": 10.876590345975888}, {\"time\": \"2009-02-23T09:30:00\", \"variable\": \"TA\", \"value\": 0.36, \"is_present\": true, \"mean\": 3.955028273325552, \"std\": 3.552895822849539, \"err_low\": -3.150763372373526, \"err_high\": 11.060819919024631}, {\"time\": \"2009-02-23T10:00:00\", \"variable\": \"TA\", \"value\": 0.45, \"is_present\": true, \"mean\": 4.070287226154017, \"std\": 3.552895822849539, \"err_low\": -3.0355044195450613, \"err_high\": 11.176078871853095}, {\"time\": \"2009-02-23T10:30:00\", \"variable\": \"TA\", \"value\": 0.75, \"is_present\": true, \"mean\": 3.9446072922299154, \"std\": 3.552895822849539, \"err_low\": -3.161184353469163, \"err_high\": 11.050398937928993}, {\"time\": \"2009-02-23T11:00:00\", \"variable\": \"TA\", \"value\": 0.97, \"is_present\": true, \"mean\": 4.007859710010949, \"std\": 3.552895822849539, \"err_low\": -3.0979319356881287, \"err_high\": 11.113651355710028}, {\"time\": \"2009-02-23T11:30:00\", \"variable\": \"TA\", \"value\": 1.16, \"is_present\": true, \"mean\": 4.128754679790193, \"std\": 3.552895822849539, \"err_low\": -2.9770369659088853, \"err_high\": 11.234546325489271}, {\"time\": \"2009-02-23T12:00:00\", \"variable\": \"TA\", \"value\": 1.42, \"is_present\": true, \"mean\": 4.1936287418683, \"std\": 3.552895822849539, \"err_low\": -2.9121629038307786, \"err_high\": 11.299420387567377}, {\"time\": \"2009-02-23T12:30:00\", \"variable\": \"TA\", \"value\": 1.44, \"is_present\": true, \"mean\": 4.247068721270837, \"std\": 3.552895822849539, \"err_low\": -2.858722924428241, \"err_high\": 11.352860366969916}, {\"time\": \"2009-02-23T13:00:00\", \"variable\": \"TA\", \"value\": 1.64, \"is_present\": true, \"mean\": 4.431214815183801, \"std\": 3.552895822849539, \"err_low\": -2.674576830515277, \"err_high\": 11.537006460882878}, {\"time\": \"2009-02-23T13:30:00\", \"variable\": \"TA\", \"value\": 1.65, \"is_present\": true, \"mean\": 4.771223547512253, \"std\": 3.552895822849539, \"err_low\": -2.334568098186825, \"err_high\": 11.877015193211331}, {\"time\": \"2009-02-23T14:00:00\", \"variable\": \"TA\", \"value\": 1.79, \"is_present\": true, \"mean\": 4.75475169516783, \"std\": 3.552895822849539, \"err_low\": -2.3510399505312485, \"err_high\": 11.860543340866908}, {\"time\": \"2009-02-23T14:30:00\", \"variable\": \"TA\", \"value\": 1.82, \"is_present\": true, \"mean\": 4.3008416640984795, \"std\": 3.552895822849539, \"err_low\": -2.8049499816005987, \"err_high\": 11.406633309797558}, {\"time\": \"2009-02-23T15:00:00\", \"variable\": \"TA\", \"value\": 1.91, \"is_present\": true, \"mean\": 4.184788988627278, \"std\": 3.552895822849539, \"err_low\": -2.9210026570718, \"err_high\": 11.290580634326357}, {\"time\": \"2009-02-23T15:30:00\", \"variable\": \"TA\", \"value\": 1.9, \"is_present\": true, \"mean\": 4.242501303320297, \"std\": 3.552895822849539, \"err_low\": -2.8632903423787814, \"err_high\": 11.348292949019374}, {\"time\": \"2009-02-23T16:00:00\", \"variable\": \"TA\", \"value\": 1.86, \"is_present\": true, \"mean\": 4.116384492081265, \"std\": 3.552895822849539, \"err_low\": -2.9894071536178135, \"err_high\": 11.222176137780343}], \"data-f5a4704b4041dcda6d5df81946122e11\": [{\"gap_start\": \"2009-02-20T16:30:00\", \"gap_end\": \"2009-02-20T21:00:00\"}], \"data-f71324926258147b07b7d72637317e94\": [{\"time\": \"2009-02-19T12:30:00\", \"variable\": \"SW_IN\", \"value\": 476.37, \"is_present\": true, \"mean\": 135.10335328830513, \"std\": 164.6531555088537, \"err_low\": -194.20295772940227, \"err_high\": 464.40966430601253}, {\"time\": \"2009-02-19T13:00:00\", \"variable\": \"SW_IN\", \"value\": 482.88, \"is_present\": true, \"mean\": 438.9601833113513, \"std\": 22.309887749656895, \"err_low\": 394.3404078120375, \"err_high\": 483.57995881066506}, {\"time\": \"2009-02-19T13:30:00\", \"variable\": \"SW_IN\", \"value\": 468.57, \"is_present\": true, \"mean\": 443.69057293070944, \"std\": 22.302365822198873, \"err_low\": 399.0858412863117, \"err_high\": 488.2953045751072}, {\"time\": \"2009-02-19T14:00:00\", \"variable\": \"SW_IN\", \"value\": 452.47, \"is_present\": true, \"mean\": 430.94492724507006, \"std\": 22.302214453344348, \"err_low\": 386.3404983383814, \"err_high\": 475.54935615175873}, {\"time\": \"2009-02-19T14:30:00\", \"variable\": \"SW_IN\", \"value\": 412.21, \"is_present\": true, \"mean\": 416.507470376083, \"std\": 22.302211507429462, \"err_low\": 371.9030473612241, \"err_high\": 461.11189339094193}, {\"time\": \"2009-02-19T15:00:00\", \"variable\": \"SW_IN\", \"value\": 335.56, \"is_present\": true, \"mean\": 379.1952685452768, \"std\": 22.30221145062611, \"err_low\": 334.59084564402457, \"err_high\": 423.79969144652904}, {\"time\": \"2009-02-19T15:30:00\", \"variable\": \"SW_IN\", \"value\": 229.24, \"is_present\": true, \"mean\": 307.6770740892792, \"std\": 22.30221144953254, \"err_low\": 263.0726511902141, \"err_high\": 352.28149698834426}, {\"time\": \"2009-02-19T16:00:00\", \"variable\": \"SW_IN\", \"value\": 181.01, \"is_present\": true, \"mean\": 207.51821464391594, \"std\": 22.302211449511475, \"err_low\": 162.913791744893, \"err_high\": 252.1226375429389}, {\"time\": \"2009-02-19T16:30:00\", \"variable\": \"SW_IN\", \"value\": 208.48, \"is_present\": true, \"mean\": 163.61367367779934, \"std\": 22.302211449511077, \"err_low\": 119.00925077877719, \"err_high\": 208.2180965768215}, {\"time\": \"2009-02-19T17:00:00\", \"variable\": \"SW_IN\", \"value\": 92.64, \"is_present\": true, \"mean\": 192.08482130613703, \"std\": 22.302211449511077, \"err_low\": 147.48039840711488, \"err_high\": 236.68924420515918}, {\"time\": \"2009-02-19T17:30:00\", \"variable\": \"SW_IN\", \"value\": 23.61, \"is_present\": true, \"mean\": 81.2156333952139, \"std\": 22.302211449511066, \"err_low\": 36.61121049619177, \"err_high\": 125.82005629423602}, {\"time\": \"2009-02-19T18:00:00\", \"variable\": \"SW_IN\", \"value\": 1.36, \"is_present\": true, \"mean\": 16.991972093954402, \"std\": 22.302211449511066, \"err_low\": -27.61245080506773, \"err_high\": 61.596394992976535}, {\"time\": \"2009-02-19T18:30:00\", \"variable\": \"SW_IN\", \"value\": 0.0, \"is_present\": true, \"mean\": -5.257742103055492, \"std\": 22.30221144951107, \"err_low\": -49.86216500207763, \"err_high\": 39.34668079596665}, {\"time\": \"2009-02-19T19:00:00\", \"variable\": \"SW_IN\", \"value\": 0.0, \"is_present\": true, \"mean\": -6.70250296719108, \"std\": 22.302211449511077, \"err_low\": -51.306925866213234, \"err_high\": 37.901919931831074}, {\"time\": \"2009-02-19T19:30:00\", \"variable\": \"SW_IN\", \"value\": 0.0, \"is_present\": true, \"mean\": -5.169233316470908, \"std\": 22.30221144951107, \"err_low\": -49.77365621549305, \"err_high\": 39.43518958255123}, {\"time\": \"2009-02-19T20:00:00\", \"variable\": \"SW_IN\", \"value\": 0.0, \"is_present\": true, \"mean\": -6.570687922999298, \"std\": 22.302211449511077, \"err_low\": -51.17511082202145, \"err_high\": 38.033734976022856}, {\"time\": \"2009-02-19T20:30:00\", \"variable\": \"SW_IN\", \"value\": 0.0, \"is_present\": true, \"mean\": -6.8198181608126305, \"std\": 22.30221144951108, \"err_low\": -51.42424105983479, \"err_high\": 37.78460473820953}, {\"time\": \"2009-02-19T21:00:00\", \"variable\": \"SW_IN\", \"value\": 0.0, \"is_present\": true, \"mean\": -6.67538517342102, \"std\": 22.302211449511063, \"err_low\": -51.279808072443146, \"err_high\": 37.929037725601106}, {\"time\": \"2009-02-19T21:30:00\", \"variable\": \"SW_IN\", \"value\": 0.0, \"is_present\": true, \"mean\": -5.758575241268218, \"std\": 22.302211449511066, \"err_low\": -50.36299814029035, \"err_high\": 38.845847657753914}, {\"time\": \"2009-02-19T22:00:00\", \"variable\": \"SW_IN\", \"value\": 0.0, \"is_present\": true, \"mean\": -6.504258085691532, \"std\": 22.302211449511063, \"err_low\": -51.10868098471366, \"err_high\": 38.10016481333059}, {\"time\": \"2009-02-19T22:30:00\", \"variable\": \"SW_IN\", \"value\": 0.0, \"is_present\": true, \"mean\": -7.3996535682615985, \"std\": 22.302211449511063, \"err_low\": -52.004076467283724, \"err_high\": 37.20476933076053}, {\"time\": \"2009-02-19T23:00:00\", \"variable\": \"SW_IN\", \"value\": 0.0, \"is_present\": true, \"mean\": -5.361331167239456, \"std\": 22.30221144951106, \"err_low\": -49.965754066261574, \"err_high\": 39.24309173178266}, {\"time\": \"2009-02-19T23:30:00\", \"variable\": \"SW_IN\", \"value\": 0.0, \"is_present\": true, \"mean\": -3.312416297919981, \"std\": 22.30221144951107, \"err_low\": -47.91683919694212, \"err_high\": 41.29200660110216}, {\"time\": \"2009-02-20T00:00:00\", \"variable\": \"SW_IN\", \"value\": 0.0, \"is_present\": true, \"mean\": -3.6242028843823135, \"std\": 22.30221144951106, \"err_low\": -48.22862578340443, \"err_high\": 40.980220014639805}, {\"time\": \"2009-02-20T00:30:00\", \"variable\": \"SW_IN\", \"value\": 0.0, \"is_present\": true, \"mean\": -3.4686866351659518, \"std\": 22.302211449511066, \"err_low\": -48.073109534188085, \"err_high\": 41.13573626385618}, {\"time\": \"2009-02-20T01:00:00\", \"variable\": \"SW_IN\", \"value\": 0.0, \"is_present\": true, \"mean\": -3.200198976993917, \"std\": 22.302211449511066, \"err_low\": -47.80462187601605, \"err_high\": 41.404223922028216}, {\"time\": \"2009-02-20T01:30:00\", \"variable\": \"SW_IN\", \"value\": 0.0, \"is_present\": true, \"mean\": -2.9854113667564945, \"std\": 22.302211449511077, \"err_low\": -47.58983426577865, \"err_high\": 41.61901153226566}, {\"time\": \"2009-02-20T02:00:00\", \"variable\": \"SW_IN\", \"value\": 0.0, \"is_present\": true, \"mean\": -2.7734641161463003, \"std\": 22.30221144951108, \"err_low\": -47.37788701516846, \"err_high\": 41.83095878287586}, {\"time\": \"2009-02-20T02:30:00\", \"variable\": \"SW_IN\", \"value\": 0.0, \"is_present\": true, \"mean\": -2.5824235747277697, \"std\": 22.302211449511066, \"err_low\": -47.1868464737499, \"err_high\": 42.02199932429436}, {\"time\": \"2009-02-20T03:00:00\", \"variable\": \"SW_IN\", \"value\": 0.0, \"is_present\": true, \"mean\": -2.365533786368104, \"std\": 22.302211449511066, \"err_low\": -46.96995668539024, \"err_high\": 42.23888911265403}, {\"time\": \"2009-02-20T03:30:00\", \"variable\": \"SW_IN\", \"value\": 0.0, \"is_present\": true, \"mean\": -2.2369729303205474, \"std\": 22.30221144951107, \"err_low\": -46.84139582934269, \"err_high\": 42.36744996870159}, {\"time\": \"2009-02-20T04:00:00\", \"variable\": \"SW_IN\", \"value\": 0.0, \"is_present\": true, \"mean\": -2.0594565409699754, \"std\": 22.302211449511066, \"err_low\": -46.66387943999211, \"err_high\": 42.54496635805216}, {\"time\": \"2009-02-20T04:30:00\", \"variable\": \"SW_IN\", \"value\": 0.0, \"is_present\": true, \"mean\": -1.8335644271804767, \"std\": 22.30221144951107, \"err_low\": -46.43798732620262, \"err_high\": 42.77085847184166}, {\"time\": \"2009-02-20T05:00:00\", \"variable\": \"SW_IN\", \"value\": 0.0, \"is_present\": true, \"mean\": -1.53726647261621, \"std\": 22.30221144951108, \"err_low\": -46.14168937163837, \"err_high\": 43.06715642640595}, {\"time\": \"2009-02-20T05:30:00\", \"variable\": \"SW_IN\", \"value\": 0.0, \"is_present\": true, \"mean\": -1.3986327862724721, \"std\": 22.302211449511077, \"err_low\": -46.003055685294626, \"err_high\": 43.20579011274968}, {\"time\": \"2009-02-20T06:00:00\", \"variable\": \"SW_IN\", \"value\": 0.0, \"is_present\": true, \"mean\": -1.3466531687932957, \"std\": 22.302211449511066, \"err_low\": -45.95107606781543, \"err_high\": 43.25776973022884}, {\"time\": \"2009-02-20T06:30:00\", \"variable\": \"SW_IN\", \"value\": 0.0, \"is_present\": true, \"mean\": -1.049722142450861, \"std\": 22.302211449511077, \"err_low\": -45.654145041473015, \"err_high\": 43.55470075657129}, {\"time\": \"2009-02-20T07:00:00\", \"variable\": \"SW_IN\", \"value\": 0.0, \"is_present\": true, \"mean\": -0.876216954398501, \"std\": 22.30221144951106, \"err_low\": -45.48063985342062, \"err_high\": 43.72820594462362}, {\"time\": \"2009-02-20T07:30:00\", \"variable\": \"SW_IN\", \"value\": 0.0, \"is_present\": true, \"mean\": -0.7894246482999421, \"std\": 22.302211449511063, \"err_low\": -45.39384754732207, \"err_high\": 43.814998250722184}, {\"time\": \"2009-02-20T08:00:00\", \"variable\": \"SW_IN\", \"value\": 8.6, \"is_present\": true, \"mean\": -0.7023428853335503, \"std\": 22.302211449511073, \"err_low\": -45.3067657843557, \"err_high\": 43.9020800136886}, {\"time\": \"2009-02-20T08:30:00\", \"variable\": \"SW_IN\", \"value\": 31.2, \"is_present\": true, \"mean\": 7.465216279053891, \"std\": 22.302211449511066, \"err_low\": -37.13920661996824, \"err_high\": 52.069639178076024}, {\"time\": \"2009-02-20T09:00:00\", \"variable\": \"SW_IN\", \"value\": 44.88, \"is_present\": true, \"mean\": 28.6367241215237, \"std\": 22.302211449511077, \"err_low\": -15.967698777498455, \"err_high\": 73.24114702054585}, {\"time\": \"2009-02-20T09:30:00\", \"variable\": \"SW_IN\", \"value\": 55.99, \"is_present\": true, \"mean\": 41.487631046439404, \"std\": 22.302211449511063, \"err_low\": -3.116791852582722, \"err_high\": 86.09205394546153}, {\"time\": \"2009-02-20T10:00:00\", \"variable\": \"SW_IN\", \"value\": 56.54, \"is_present\": true, \"mean\": 51.90563769791066, \"std\": 22.302211449511073, \"err_low\": 7.301214798888516, \"err_high\": 96.51006059693282}, {\"time\": \"2009-02-20T10:30:00\", \"variable\": \"SW_IN\", \"value\": 99.74, \"is_present\": true, \"mean\": 52.70366679148249, \"std\": 22.302211449511077, \"err_low\": 8.099243892460336, \"err_high\": 97.30808969050464}, {\"time\": \"2009-02-20T11:00:00\", \"variable\": \"SW_IN\", \"value\": 127.73, \"is_present\": true, \"mean\": 93.27299157833808, \"std\": 22.302211449511077, \"err_low\": 48.668568679315925, \"err_high\": 137.87741447736022}, {\"time\": \"2009-02-20T11:30:00\", \"variable\": \"SW_IN\", \"value\": 139.22, \"is_present\": true, \"mean\": 119.49196800704263, \"std\": 22.302211449511077, \"err_low\": 74.88754510802048, \"err_high\": 164.09639090606478}, {\"time\": \"2009-02-20T12:00:00\", \"variable\": \"SW_IN\", \"value\": 135.15, \"is_present\": true, \"mean\": 130.51210540317092, \"std\": 22.30221144951108, \"err_low\": 85.90768250414877, \"err_high\": 175.11652830219307}, {\"time\": \"2009-02-20T12:30:00\", \"variable\": \"SW_IN\", \"value\": 139.83, \"is_present\": true, \"mean\": 127.01485156931793, \"std\": 22.302211449511066, \"err_low\": 82.4104286702958, \"err_high\": 171.61927446834005}, {\"time\": \"2009-02-20T13:00:00\", \"variable\": \"SW_IN\", \"value\": 103.2, \"is_present\": true, \"mean\": 131.55955813347813, \"std\": 22.302211449511073, \"err_low\": 86.95513523445598, \"err_high\": 176.1639810325003}, {\"time\": \"2009-02-20T13:30:00\", \"variable\": \"SW_IN\", \"value\": 147.91, \"is_present\": true, \"mean\": 97.68429019720224, \"std\": 22.302211449511077, \"err_low\": 53.07986729818009, \"err_high\": 142.2887130962244}, {\"time\": \"2009-02-20T14:00:00\", \"variable\": \"SW_IN\", \"value\": 111.98, \"is_present\": true, \"mean\": 139.55125068602877, \"std\": 22.302211449511077, \"err_low\": 94.94682778700661, \"err_high\": 184.15567358505092}, {\"time\": \"2009-02-20T14:30:00\", \"variable\": \"SW_IN\", \"value\": 92.38, \"is_present\": true, \"mean\": 106.32497108201065, \"std\": 22.302211449511077, \"err_low\": 61.720548182988495, \"err_high\": 150.9293939810328}, {\"time\": \"2009-02-20T15:00:00\", \"variable\": \"SW_IN\", \"value\": 81.79, \"is_present\": true, \"mean\": 88.20941557550438, \"std\": 22.302211449511073, \"err_low\": 43.60499267648223, \"err_high\": 132.81383847452653}, {\"time\": \"2009-02-20T15:30:00\", \"variable\": \"SW_IN\", \"value\": 64.01, \"is_present\": true, \"mean\": 78.4543745960267, \"std\": 22.302211449511077, \"err_low\": 33.84995169700454, \"err_high\": 123.05879749504885}, {\"time\": \"2009-02-20T16:00:00\", \"variable\": \"SW_IN\", \"value\": 71.72, \"is_present\": true, \"mean\": 62.11279777546457, \"std\": 22.30221144951107, \"err_low\": 17.50837487644243, \"err_high\": 106.71722067448671}, {\"time\": \"2009-02-20T16:30:00\", \"variable\": \"SW_IN\", \"value\": 37.98, \"is_present\": true, \"mean\": 69.76583265753516, \"std\": 22.302211449511077, \"err_low\": 25.161409758513003, \"err_high\": 114.37025555655731}, {\"time\": \"2009-02-20T17:00:00\", \"variable\": \"SW_IN\", \"value\": 20.95, \"is_present\": true, \"mean\": 74.61532885846086, \"std\": 30.23652046507981, \"err_low\": 14.142287928301236, \"err_high\": 135.08836978862047}, {\"time\": \"2009-02-20T17:30:00\", \"variable\": \"SW_IN\", \"value\": 5.89, \"is_present\": true, \"mean\": 79.08266763043267, \"std\": 35.85527449818158, \"err_low\": 7.372118634069508, \"err_high\": 150.7932166267958}, {\"time\": \"2009-02-20T18:00:00\", \"variable\": \"SW_IN\", \"value\": 0.0, \"is_present\": true, \"mean\": 83.26232936903446, \"std\": 40.18796705863758, \"err_low\": 2.8863952517592963, \"err_high\": 163.63826348630963}, {\"time\": \"2009-02-20T18:30:00\", \"variable\": \"SW_IN\", \"value\": 0.0, \"is_present\": true, \"mean\": 87.17869325955135, \"std\": 43.670286084614936, \"err_low\": -0.1618789096785207, \"err_high\": 174.51926542878124}, {\"time\": \"2009-02-20T19:00:00\", \"variable\": \"SW_IN\", \"value\": 0.0, \"is_present\": true, \"mean\": 90.84783072398407, \"std\": 46.537660366176446, \"err_low\": -2.227490008368818, \"err_high\": 183.92315145633697}, {\"time\": \"2009-02-20T19:30:00\", \"variable\": \"SW_IN\", \"value\": 0.0, \"is_present\": true, \"mean\": 94.28420113839076, \"std\": 48.935918073657696, \"err_low\": -3.587635008924636, \"err_high\": 192.15603728570613}, {\"time\": \"2009-02-20T20:00:00\", \"variable\": \"SW_IN\", \"value\": 0.0, \"is_present\": true, \"mean\": 97.50140808515738, \"std\": 50.96360377593134, \"err_low\": -4.4257994667053, \"err_high\": 199.42861563702007}, {\"time\": \"2009-02-20T20:30:00\", \"variable\": \"SW_IN\", \"value\": 0.0, \"is_present\": true, \"mean\": 100.51231404968088, \"std\": 52.69139790993051, \"err_low\": -4.870481770180135, \"err_high\": 205.8951098695419}, {\"time\": \"2009-02-20T21:00:00\", \"variable\": \"SW_IN\", \"value\": 0.0, \"is_present\": true, \"mean\": 103.32908457067099, \"std\": 54.172215327155854, \"err_low\": -5.015346083640722, \"err_high\": 211.67351522498268}, {\"time\": \"2009-02-20T21:30:00\", \"variable\": \"SW_IN\", \"value\": 0.0, \"is_present\": true, \"mean\": 105.96322342756338, \"std\": 55.44695744918996, \"err_low\": -4.930691470816541, \"err_high\": 216.8571383259433}, {\"time\": \"2009-02-20T22:00:00\", \"variable\": \"SW_IN\", \"value\": 0.0, \"is_present\": true, \"mean\": 4.369892800119047, \"std\": 22.312600289324624, \"err_low\": -40.2553077785302, \"err_high\": 48.995093378768296}, {\"time\": \"2009-02-20T22:30:00\", \"variable\": \"SW_IN\", \"value\": 0.0, \"is_present\": true, \"mean\": 4.426835571998325, \"std\": 22.30247889108163, \"err_low\": -40.178122210164936, \"err_high\": 49.031793354161586}, {\"time\": \"2009-02-20T23:00:00\", \"variable\": \"SW_IN\", \"value\": 0.0, \"is_present\": true, \"mean\": 4.4144126352289135, \"std\": 22.30221691899044, \"err_low\": -40.190021202751964, \"err_high\": 49.01884647320979}, {\"time\": \"2009-02-20T23:30:00\", \"variable\": \"SW_IN\", \"value\": 0.0, \"is_present\": true, \"mean\": 4.468446694893743, \"std\": 22.30221155597549, \"err_low\": -40.135976417057236, \"err_high\": 49.07286980684472}, {\"time\": \"2009-02-21T00:00:00\", \"variable\": \"SW_IN\", \"value\": 0.0, \"is_present\": true, \"mean\": 4.467993318641504, \"std\": 22.302211451564336, \"err_low\": -40.13642958448717, \"err_high\": 49.072416221770176}, {\"time\": \"2009-02-21T00:30:00\", \"variable\": \"SW_IN\", \"value\": 0.0, \"is_present\": true, \"mean\": 4.328243044194991, \"std\": 22.302211449550594, \"err_low\": -40.2761798549062, \"err_high\": 48.93266594329618}, {\"time\": \"2009-02-21T01:00:00\", \"variable\": \"SW_IN\", \"value\": 0.0, \"is_present\": true, \"mean\": 4.258931864708927, \"std\": 22.302211449511837, \"err_low\": -40.34549103431475, \"err_high\": 48.8633547637326}, {\"time\": \"2009-02-21T01:30:00\", \"variable\": \"SW_IN\", \"value\": 0.0, \"is_present\": true, \"mean\": 4.11934482874878, \"std\": 22.30221144951109, \"err_low\": -40.4850780702734, \"err_high\": 48.72376772777096}, {\"time\": \"2009-02-21T02:00:00\", \"variable\": \"SW_IN\", \"value\": 0.0, \"is_present\": true, \"mean\": 4.0500128488721, \"std\": 22.302211449511077, \"err_low\": -40.554410050150054, \"err_high\": 48.654435747894254}, {\"time\": \"2009-02-21T02:30:00\", \"variable\": \"SW_IN\", \"value\": 0.0, \"is_present\": true, \"mean\": 3.805570059424653, \"std\": 22.30221144951107, \"err_low\": -40.79885283959749, \"err_high\": 48.40999295844679}, {\"time\": \"2009-02-21T03:00:00\", \"variable\": \"SW_IN\", \"value\": 0.0, \"is_present\": true, \"mean\": 3.526972957251843, \"std\": 22.302211449511063, \"err_low\": -41.07744994177028, \"err_high\": 48.13139585627397}, {\"time\": \"2009-02-21T03:30:00\", \"variable\": \"SW_IN\", \"value\": 0.0, \"is_present\": true, \"mean\": 3.1086114696069984, \"std\": 22.30221144951107, \"err_low\": -41.49581142941514, \"err_high\": 47.71303436862914}, {\"time\": \"2009-02-21T04:00:00\", \"variable\": \"SW_IN\", \"value\": 0.0, \"is_present\": true, \"mean\": 2.6209411351462393, \"std\": 22.302211449511077, \"err_low\": -41.983481763875915, \"err_high\": 47.22536403416839}, {\"time\": \"2009-02-21T04:30:00\", \"variable\": \"SW_IN\", \"value\": 0.0, \"is_present\": true, \"mean\": 2.3432112219651486, \"std\": 22.302211449511073, \"err_low\": -42.261211677057, \"err_high\": 46.947634120987296}, {\"time\": \"2009-02-21T05:00:00\", \"variable\": \"SW_IN\", \"value\": 0.0, \"is_present\": true, \"mean\": 1.9946428107606664, \"std\": 22.30221144951106, \"err_low\": -42.60978008826145, \"err_high\": 46.599065709782785}, {\"time\": \"2009-02-21T05:30:00\", \"variable\": \"SW_IN\", \"value\": 0.0, \"is_present\": true, \"mean\": 1.2620162619367932, \"std\": 22.302211449511066, \"err_low\": -43.34240663708534, \"err_high\": 45.866439160958926}, {\"time\": \"2009-02-21T06:00:00\", \"variable\": \"SW_IN\", \"value\": 0.0, \"is_present\": true, \"mean\": 0.9154725351436213, \"std\": 22.302211449511066, \"err_low\": -43.68895036387851, \"err_high\": 45.519895434165754}, {\"time\": \"2009-02-21T06:30:00\", \"variable\": \"SW_IN\", \"value\": 0.0, \"is_present\": true, \"mean\": 0.6893982640177541, \"std\": 22.302211449511063, \"err_low\": -43.91502463500437, \"err_high\": 45.29382116303988}, {\"time\": \"2009-02-21T07:00:00\", \"variable\": \"SW_IN\", \"value\": 0.0, \"is_present\": true, \"mean\": 0.9174256496212365, \"std\": 22.302211449511066, \"err_low\": -43.686997249400896, \"err_high\": 45.52184854864337}, {\"time\": \"2009-02-21T07:30:00\", \"variable\": \"SW_IN\", \"value\": 0.84, \"is_present\": true, \"mean\": 1.143530974521795, \"std\": 22.302211449511063, \"err_low\": -43.46089192450033, \"err_high\": 45.74795387354392}, {\"time\": \"2009-02-21T08:00:00\", \"variable\": \"SW_IN\", \"value\": 9.52, \"is_present\": true, \"mean\": 2.0457524985675803, \"std\": 22.30221144951107, \"err_low\": -42.55867040045456, \"err_high\": 46.65017539758972}, {\"time\": \"2009-02-21T08:30:00\", \"variable\": \"SW_IN\", \"value\": 32.21, \"is_present\": true, \"mean\": 10.356733307729897, \"std\": 22.30221144951106, \"err_low\": -34.24768959129222, \"err_high\": 54.961156206752015}, {\"time\": \"2009-02-21T09:00:00\", \"variable\": \"SW_IN\", \"value\": 57.2, \"is_present\": true, \"mean\": 31.54162218058903, \"std\": 22.302211449511063, \"err_low\": -13.062800718433095, \"err_high\": 76.14604507961116}, {\"time\": \"2009-02-21T09:30:00\", \"variable\": \"SW_IN\", \"value\": 50.73, \"is_present\": true, \"mean\": 54.69497457189, \"std\": 22.302211449511073, \"err_low\": 10.090551672867853, \"err_high\": 99.29939747091214}, {\"time\": \"2009-02-21T10:00:00\", \"variable\": \"SW_IN\", \"value\": 70.1, \"is_present\": true, \"mean\": 48.71176069386473, \"std\": 22.302211449511066, \"err_low\": 4.1073377948426, \"err_high\": 93.31618359288686}, {\"time\": \"2009-02-21T10:30:00\", \"variable\": \"SW_IN\", \"value\": 88.69, \"is_present\": true, \"mean\": 66.86042794941825, \"std\": 22.302211449511077, \"err_low\": 22.256005050396098, \"err_high\": 111.4648508484404}, {\"time\": \"2009-02-21T11:00:00\", \"variable\": \"SW_IN\", \"value\": 153.07, \"is_present\": true, \"mean\": 84.29545868466698, \"std\": 22.30221144951107, \"err_low\": 39.69103578564484, \"err_high\": 128.89988158368914}, {\"time\": \"2009-02-21T11:30:00\", \"variable\": \"SW_IN\", \"value\": 195.93, \"is_present\": true, \"mean\": 144.44697961666992, \"std\": 22.302211449511066, \"err_low\": 99.8425567176478, \"err_high\": 189.05140251569205}, {\"time\": \"2009-02-21T12:00:00\", \"variable\": \"SW_IN\", \"value\": 228.6, \"is_present\": true, \"mean\": 184.67764117138984, \"std\": 22.302211449511066, \"err_low\": 140.0732182723677, \"err_high\": 229.28206407041196}, {\"time\": \"2009-02-21T12:30:00\", \"variable\": \"SW_IN\", \"value\": 285.74, \"is_present\": true, \"mean\": 215.71847624195692, \"std\": 22.302211449511066, \"err_low\": 171.1140533429348, \"err_high\": 260.3228991409791}, {\"time\": \"2009-02-21T13:00:00\", \"variable\": \"SW_IN\", \"value\": 315.04, \"is_present\": true, \"mean\": 269.7655478243776, \"std\": 22.30221144951106, \"err_low\": 225.1611249253555, \"err_high\": 314.3699707233997}, {\"time\": \"2009-02-21T13:30:00\", \"variable\": \"SW_IN\", \"value\": 271.2, \"is_present\": true, \"mean\": 299.21441165108604, \"std\": 22.302211449511063, \"err_low\": 254.6099887520639, \"err_high\": 343.81883455010814}, {\"time\": \"2009-02-21T14:00:00\", \"variable\": \"SW_IN\", \"value\": 195.84, \"is_present\": true, \"mean\": 256.8737822398532, \"std\": 22.30221144951107, \"err_low\": 212.26935934083104, \"err_high\": 301.47820513887535}, {\"time\": \"2009-02-21T14:30:00\", \"variable\": \"SW_IN\", \"value\": 202.31, \"is_present\": true, \"mean\": 185.61118370800565, \"std\": 22.30221144951107, \"err_low\": 141.00676080898353, \"err_high\": 230.21560660702778}, {\"time\": \"2009-02-21T15:00:00\", \"variable\": \"SW_IN\", \"value\": 163.9, \"is_present\": true, \"mean\": 192.27585730504296, \"std\": 22.302211449511077, \"err_low\": 147.6714344060208, \"err_high\": 236.88028020406512}, {\"time\": \"2009-02-21T15:30:00\", \"variable\": \"SW_IN\", \"value\": 120.32, \"is_present\": true, \"mean\": 156.7065016883829, \"std\": 22.302211449511066, \"err_low\": 112.10207878936077, \"err_high\": 201.31092458740503}, {\"time\": \"2009-02-21T16:00:00\", \"variable\": \"SW_IN\", \"value\": 75.01, \"is_present\": true, \"mean\": 115.41029701765252, \"std\": 22.30221144951107, \"err_low\": 70.80587411863038, \"err_high\": 160.01471991667466}, {\"time\": \"2009-02-21T16:30:00\", \"variable\": \"SW_IN\", \"value\": 48.8, \"is_present\": true, \"mean\": 72.98061436011699, \"std\": 22.30221144951107, \"err_low\": 28.376191461094848, \"err_high\": 117.58503725913913}, {\"time\": \"2009-02-21T17:00:00\", \"variable\": \"SW_IN\", \"value\": 15.36, \"is_present\": true, \"mean\": 48.654225854212314, \"std\": 22.30221144951107, \"err_low\": 4.049802955190174, \"err_high\": 93.25864875323445}, {\"time\": \"2009-02-21T17:30:00\", \"variable\": \"SW_IN\", \"value\": 6.9, \"is_present\": true, \"mean\": 17.236391538408967, \"std\": 22.30221144951107, \"err_low\": -27.368031360613173, \"err_high\": 61.840814437431106}, {\"time\": \"2009-02-21T18:00:00\", \"variable\": \"SW_IN\", \"value\": 0.0, \"is_present\": true, \"mean\": 9.357851389764193, \"std\": 22.302211449511066, \"err_low\": -35.24657150925794, \"err_high\": 53.962274288786325}, {\"time\": \"2009-02-21T18:30:00\", \"variable\": \"SW_IN\", \"value\": 0.0, \"is_present\": true, \"mean\": 3.255748578898917, \"std\": 22.302211449511073, \"err_low\": -41.34867432012323, \"err_high\": 47.860171477921064}, {\"time\": \"2009-02-21T19:00:00\", \"variable\": \"SW_IN\", \"value\": 0.0, \"is_present\": true, \"mean\": 3.3848743543902486, \"std\": 22.302211449511077, \"err_low\": -41.219548544631905, \"err_high\": 47.9892972534124}, {\"time\": \"2009-02-21T19:30:00\", \"variable\": \"SW_IN\", \"value\": 0.0, \"is_present\": true, \"mean\": 3.5502208891440574, \"std\": 22.30221144951107, \"err_low\": -41.05420200987808, \"err_high\": 48.1546437881662}, {\"time\": \"2009-02-21T20:00:00\", \"variable\": \"SW_IN\", \"value\": 0.0, \"is_present\": true, \"mean\": 3.7263172950262344, \"std\": 22.302211449511077, \"err_low\": -40.87810560399592, \"err_high\": 48.33074019404839}, {\"time\": \"2009-02-21T20:30:00\", \"variable\": \"SW_IN\", \"value\": 0.0, \"is_present\": true, \"mean\": 3.059160822015457, \"std\": 22.302211449511063, \"err_low\": -41.54526207700667, \"err_high\": 47.66358372103758}, {\"time\": \"2009-02-21T21:00:00\", \"variable\": \"SW_IN\", \"value\": 0.0, \"is_present\": true, \"mean\": 3.520863553013669, \"std\": 22.30221144951107, \"err_low\": -41.08355934600847, \"err_high\": 48.12528645203581}, {\"time\": \"2009-02-21T21:30:00\", \"variable\": \"SW_IN\", \"value\": 0.0, \"is_present\": true, \"mean\": 3.318919167816887, \"std\": 22.302211449511077, \"err_low\": -41.28550373120527, \"err_high\": 47.92334206683904}, {\"time\": \"2009-02-21T22:00:00\", \"variable\": \"SW_IN\", \"value\": 0.0, \"is_present\": true, \"mean\": 2.81446235633625, \"std\": 22.302211449511077, \"err_low\": -41.789960542685904, \"err_high\": 47.418885255358404}, {\"time\": \"2009-02-21T22:30:00\", \"variable\": \"SW_IN\", \"value\": 0.0, \"is_present\": true, \"mean\": 3.0285685722705296, \"std\": 22.30221144951107, \"err_low\": -41.57585432675161, \"err_high\": 47.63299147129267}, {\"time\": \"2009-02-21T23:00:00\", \"variable\": \"SW_IN\", \"value\": 0.0, \"is_present\": true, \"mean\": 1.654094696125469, \"std\": 22.302211449511077, \"err_low\": -42.950328202896685, \"err_high\": 46.25851759514762}, {\"time\": \"2009-02-21T23:30:00\", \"variable\": \"SW_IN\", \"value\": 0.0, \"is_present\": true, \"mean\": 2.3127725032404243, \"std\": 22.30221144951106, \"err_low\": -42.291650395781694, \"err_high\": 46.91719540226254}, {\"time\": \"2009-02-22T00:00:00\", \"variable\": \"SW_IN\", \"value\": 0.0, \"is_present\": true, \"mean\": 2.1254785058759182, \"std\": 22.302211449511066, \"err_low\": -42.478944393146215, \"err_high\": 46.72990140489805}, {\"time\": \"2009-02-22T00:30:00\", \"variable\": \"SW_IN\", \"value\": 0.0, \"is_present\": true, \"mean\": 1.7039949882891534, \"std\": 22.302211449511077, \"err_low\": -42.900427910733, \"err_high\": 46.30841788731131}, {\"time\": \"2009-02-22T01:00:00\", \"variable\": \"SW_IN\", \"value\": 0.0, \"is_present\": true, \"mean\": 1.6806914778732107, \"std\": 22.302211449511084, \"err_low\": -42.92373142114896, \"err_high\": 46.28511437689538}, {\"time\": \"2009-02-22T01:30:00\", \"variable\": \"SW_IN\", \"value\": 0.0, \"is_present\": true, \"mean\": 1.51462709095739, \"std\": 22.302211449511077, \"err_low\": -43.089795808064764, \"err_high\": 46.119049989979544}, {\"time\": \"2009-02-22T02:00:00\", \"variable\": \"SW_IN\", \"value\": 0.0, \"is_present\": true, \"mean\": 1.4899957478346977, \"std\": 22.30221144951107, \"err_low\": -43.11442715118744, \"err_high\": 46.09441864685684}, {\"time\": \"2009-02-22T02:30:00\", \"variable\": \"SW_IN\", \"value\": 0.0, \"is_present\": true, \"mean\": 1.3163584853526373, \"std\": 22.30221144951107, \"err_low\": -43.2880644136695, \"err_high\": 45.92078138437478}, {\"time\": \"2009-02-22T03:00:00\", \"variable\": \"SW_IN\", \"value\": 0.0, \"is_present\": true, \"mean\": 1.3519067431606686, \"std\": 22.302211449511063, \"err_low\": -43.25251615586146, \"err_high\": 45.956329642182794}, {\"time\": \"2009-02-22T03:30:00\", \"variable\": \"SW_IN\", \"value\": 0.0, \"is_present\": true, \"mean\": 1.5613967930195116, \"std\": 22.30221144951107, \"err_low\": -43.04302610600263, \"err_high\": 46.16581969204165}, {\"time\": \"2009-02-22T04:00:00\", \"variable\": \"SW_IN\", \"value\": 0.0, \"is_present\": true, \"mean\": 1.6653806225973256, \"std\": 22.302211449511066, \"err_low\": -42.93904227642481, \"err_high\": 46.26980352161946}, {\"time\": \"2009-02-22T04:30:00\", \"variable\": \"SW_IN\", \"value\": 0.0, \"is_present\": true, \"mean\": 1.80485338378422, \"std\": 22.302211449511073, \"err_low\": -42.79956951523793, \"err_high\": 46.40927628280637}, {\"time\": \"2009-02-22T05:00:00\", \"variable\": \"SW_IN\", \"value\": 0.0, \"is_present\": true, \"mean\": 1.9965349485441806, \"std\": 22.302211449511066, \"err_low\": -42.60788795047795, \"err_high\": 46.60095784756631}, {\"time\": \"2009-02-22T05:30:00\", \"variable\": \"SW_IN\", \"value\": 0.0, \"is_present\": true, \"mean\": 2.0482081695563323, \"std\": 22.302211449511073, \"err_low\": -42.556214729465815, \"err_high\": 46.65263106857848}, {\"time\": \"2009-02-22T06:00:00\", \"variable\": \"SW_IN\", \"value\": 0.0, \"is_present\": true, \"mean\": 2.1878915319368843, \"std\": 22.30221144951107, \"err_low\": -42.416531367085256, \"err_high\": 46.792314430959024}, {\"time\": \"2009-02-22T06:30:00\", \"variable\": \"SW_IN\", \"value\": 0.0, \"is_present\": true, \"mean\": 2.23973461512783, \"std\": 22.302211449511077, \"err_low\": -42.364688283894324, \"err_high\": 46.844157514149984}, {\"time\": \"2009-02-22T07:00:00\", \"variable\": \"SW_IN\", \"value\": 0.0, \"is_present\": true, \"mean\": 2.2920140450466278, \"std\": 22.302211449511077, \"err_low\": -42.312408853975526, \"err_high\": 46.89643694406878}, {\"time\": \"2009-02-22T07:30:00\", \"variable\": \"SW_IN\", \"value\": 0.0, \"is_present\": true, \"mean\": 2.274331032562813, \"std\": 22.302211449511077, \"err_low\": -42.33009186645934, \"err_high\": 46.87875393158497}, {\"time\": \"2009-02-22T08:00:00\", \"variable\": \"SW_IN\", \"value\": 3.29, \"is_present\": true, \"mean\": 2.2744332498386797, \"std\": 22.30221144951107, \"err_low\": -42.32998964918346, \"err_high\": 46.87885614886082}, {\"time\": \"2009-02-22T08:30:00\", \"variable\": \"SW_IN\", \"value\": 12.32, \"is_present\": true, \"mean\": 5.3846871446177715, \"std\": 22.302211449511066, \"err_low\": -39.21973575440436, \"err_high\": 49.989110043639904}, {\"time\": \"2009-02-22T09:00:00\", \"variable\": \"SW_IN\", \"value\": 27.51, \"is_present\": true, \"mean\": 13.84419076870401, \"std\": 22.30221144951107, \"err_low\": -30.76023213031813, \"err_high\": 58.44861366772615}, {\"time\": \"2009-02-22T09:30:00\", \"variable\": \"SW_IN\", \"value\": 24.67, \"is_present\": true, \"mean\": 28.023785366270744, \"std\": 22.302211449511073, \"err_low\": -16.580637532751403, \"err_high\": 72.6282082652929}, {\"time\": \"2009-02-22T10:00:00\", \"variable\": \"SW_IN\", \"value\": 60.11, \"is_present\": true, \"mean\": 25.440158109937542, \"std\": 22.302211449511073, \"err_low\": -19.164264789084605, \"err_high\": 70.04458100895968}, {\"time\": \"2009-02-22T10:30:00\", \"variable\": \"SW_IN\", \"value\": 56.82, \"is_present\": true, \"mean\": 58.43408523250374, \"std\": 22.30221144951107, \"err_low\": 13.8296623334816, \"err_high\": 103.03850813152587}, {\"time\": \"2009-02-22T11:00:00\", \"variable\": \"SW_IN\", \"value\": 60.29, \"is_present\": true, \"mean\": 55.48398600922657, \"std\": 22.302211449511063, \"err_low\": 10.879563110204444, \"err_high\": 100.0884089082487}, {\"time\": \"2009-02-22T11:30:00\", \"variable\": \"SW_IN\", \"value\": 81.65, \"is_present\": true, \"mean\": 59.07850643523003, \"std\": 22.30221144951107, \"err_low\": 14.474083536207893, \"err_high\": 103.68292933425218}, {\"time\": \"2009-02-22T12:00:00\", \"variable\": \"SW_IN\", \"value\": 53.88, \"is_present\": true, \"mean\": 79.13651546763955, \"std\": 22.302211449511066, \"err_low\": 34.53209256861742, \"err_high\": 123.74093836666168}, {\"time\": \"2009-02-22T12:30:00\", \"variable\": \"SW_IN\", \"value\": 61.94, \"is_present\": true, \"mean\": 53.69058646044442, \"std\": 22.30221144951107, \"err_low\": 9.086163561422282, \"err_high\": 98.29500935946656}, {\"time\": \"2009-02-22T13:00:00\", \"variable\": \"SW_IN\", \"value\": 82.63, \"is_present\": true, \"mean\": 61.48496957976264, \"std\": 22.30221144951107, \"err_low\": 16.8805466807405, \"err_high\": 106.08939247878479}, {\"time\": \"2009-02-22T13:30:00\", \"variable\": \"SW_IN\", \"value\": 105.6, \"is_present\": true, \"mean\": 81.10875387536412, \"std\": 22.302211449511077, \"err_low\": 36.50433097634196, \"err_high\": 125.71317677438627}, {\"time\": \"2009-02-22T14:00:00\", \"variable\": \"SW_IN\", \"value\": 105.14, \"is_present\": true, \"mean\": 102.92674668108083, \"std\": 22.302211449511073, \"err_low\": 58.32232378205868, \"err_high\": 147.53116958010298}, {\"time\": \"2009-02-22T14:30:00\", \"variable\": \"SW_IN\", \"value\": 68.08, \"is_present\": true, \"mean\": 102.86116256716011, \"std\": 22.302211449511066, \"err_low\": 58.256739668137975, \"err_high\": 147.46558546618223}, {\"time\": \"2009-02-22T15:00:00\", \"variable\": \"SW_IN\", \"value\": 61.01, \"is_present\": true, \"mean\": 68.59023212268855, \"std\": 22.302211449511084, \"err_low\": 23.98580922366638, \"err_high\": 113.19465502171072}, {\"time\": \"2009-02-22T15:30:00\", \"variable\": \"SW_IN\", \"value\": 71.02, \"is_present\": true, \"mean\": 62.10453614968041, \"std\": 22.302211449511077, \"err_low\": 17.50011325065826, \"err_high\": 106.70895904870257}, {\"time\": \"2009-02-22T16:00:00\", \"variable\": \"SW_IN\", \"value\": 46.38, \"is_present\": true, \"mean\": 71.69397203818889, \"std\": 22.302211449511073, \"err_low\": 27.089549139166742, \"err_high\": 116.29839493721104}, {\"time\": \"2009-02-22T16:30:00\", \"variable\": \"SW_IN\", \"value\": 34.63, \"is_present\": true, \"mean\": 49.324046649957396, \"std\": 22.30221144951107, \"err_low\": 4.719623750935256, \"err_high\": 93.92846954897954}, {\"time\": \"2009-02-22T17:00:00\", \"variable\": \"SW_IN\", \"value\": 15.3, \"is_present\": true, \"mean\": 38.61547798655887, \"std\": 22.30221144951107, \"err_low\": -5.988944912463268, \"err_high\": 83.21990088558101}, {\"time\": \"2009-02-22T17:30:00\", \"variable\": \"SW_IN\", \"value\": 1.59, \"is_present\": true, \"mean\": 20.904286530819277, \"std\": 22.30221144951108, \"err_low\": -23.700136368202884, \"err_high\": 65.50870942984145}, {\"time\": \"2009-02-22T18:00:00\", \"variable\": \"SW_IN\", \"value\": 0.0, \"is_present\": true, \"mean\": 8.178028514312487, \"std\": 22.302211449511077, \"err_low\": -36.42639438470967, \"err_high\": 52.78245141333464}, {\"time\": \"2009-02-22T18:30:00\", \"variable\": \"SW_IN\", \"value\": 0.0, \"is_present\": true, \"mean\": 6.712664250420417, \"std\": 22.302211449511077, \"err_low\": -37.89175864860174, \"err_high\": 51.31708714944257}, {\"time\": \"2009-02-22T19:00:00\", \"variable\": \"SW_IN\", \"value\": 0.0, \"is_present\": true, \"mean\": 6.801346030117571, \"std\": 22.302211449511066, \"err_low\": -37.80307686890456, \"err_high\": 51.405768929139704}, {\"time\": \"2009-02-22T19:30:00\", \"variable\": \"SW_IN\", \"value\": 0.0, \"is_present\": true, \"mean\": 6.818382198403583, \"std\": 22.302211449511077, \"err_low\": -37.78604070061857, \"err_high\": 51.42280509742574}, {\"time\": \"2009-02-22T20:00:00\", \"variable\": \"SW_IN\", \"value\": 0.0, \"is_present\": true, \"mean\": 6.888262525308932, \"std\": 22.302211449511066, \"err_low\": -37.7161603737132, \"err_high\": 51.492685424331064}, {\"time\": \"2009-02-22T20:30:00\", \"variable\": \"SW_IN\", \"value\": 0.0, \"is_present\": true, \"mean\": 6.975346583643784, \"std\": 22.302211449511066, \"err_low\": -37.62907631537835, \"err_high\": 51.57976948266592}, {\"time\": \"2009-02-22T21:00:00\", \"variable\": \"SW_IN\", \"value\": 0.0, \"is_present\": true, \"mean\": 7.132296244298814, \"std\": 22.30221144951107, \"err_low\": -37.472126654723326, \"err_high\": 51.736719143320954}, {\"time\": \"2009-02-22T21:30:00\", \"variable\": \"SW_IN\", \"value\": 0.0, \"is_present\": true, \"mean\": 7.201567729048506, \"std\": 22.30221144951107, \"err_low\": -37.402855169973634, \"err_high\": 51.805990628070646}, {\"time\": \"2009-02-22T22:00:00\", \"variable\": \"SW_IN\", \"value\": 0.0, \"is_present\": true, \"mean\": 7.096490429742346, \"std\": 22.30221144951108, \"err_low\": -37.507932469279815, \"err_high\": 51.70091332876451}, {\"time\": \"2009-02-22T22:30:00\", \"variable\": \"SW_IN\", \"value\": 0.0, \"is_present\": true, \"mean\": 5.99595789056734, \"std\": 22.302211449511077, \"err_low\": -38.608465008454814, \"err_high\": 50.600380789589494}, {\"time\": \"2009-02-22T23:00:00\", \"variable\": \"SW_IN\", \"value\": 0.0, \"is_present\": true, \"mean\": 5.808400870196479, \"std\": 22.30221144951107, \"err_low\": -38.79602202882566, \"err_high\": 50.41282376921862}, {\"time\": \"2009-02-22T23:30:00\", \"variable\": \"SW_IN\", \"value\": 0.0, \"is_present\": true, \"mean\": 5.756191686317123, \"std\": 22.302211449511066, \"err_low\": -38.84823121270501, \"err_high\": 50.360614585339256}, {\"time\": \"2009-02-23T00:00:00\", \"variable\": \"SW_IN\", \"value\": 0.0, \"is_present\": true, \"mean\": 5.389385573221318, \"std\": 22.302211449511073, \"err_low\": -39.21503732580083, \"err_high\": 49.993808472243465}, {\"time\": \"2009-02-23T00:30:00\", \"variable\": \"SW_IN\", \"value\": 0.0, \"is_present\": true, \"mean\": 4.884125832399022, \"std\": 22.30221144951107, \"err_low\": -39.72029706662312, \"err_high\": 49.48854873142116}, {\"time\": \"2009-02-23T01:00:00\", \"variable\": \"SW_IN\", \"value\": 0.0, \"is_present\": true, \"mean\": 4.831264227448955, \"std\": 22.302211449511073, \"err_low\": -39.77315867157319, \"err_high\": 49.4356871264711}, {\"time\": \"2009-02-23T01:30:00\", \"variable\": \"SW_IN\", \"value\": 0.0, \"is_present\": true, \"mean\": 4.57371984593145, \"std\": 22.302211449511077, \"err_low\": -40.030703053090704, \"err_high\": 49.178142744953604}, {\"time\": \"2009-02-23T02:00:00\", \"variable\": \"SW_IN\", \"value\": 0.0, \"is_present\": true, \"mean\": 3.3202696655670962, \"std\": 22.302211449511073, \"err_low\": -41.28415323345505, \"err_high\": 47.92469256458924}, {\"time\": \"2009-02-23T02:30:00\", \"variable\": \"SW_IN\", \"value\": 0.0, \"is_present\": true, \"mean\": 2.577248204297206, \"std\": 22.302211449511077, \"err_low\": -42.02717469472495, \"err_high\": 47.18167110331936}, {\"time\": \"2009-02-23T03:00:00\", \"variable\": \"SW_IN\", \"value\": 0.0, \"is_present\": true, \"mean\": 3.140494901041066, \"std\": 22.302211449511066, \"err_low\": -41.46392799798107, \"err_high\": 47.7449178000632}, {\"time\": \"2009-02-23T03:30:00\", \"variable\": \"SW_IN\", \"value\": 0.0, \"is_present\": true, \"mean\": 3.6214953583368583, \"std\": 22.302211449511077, \"err_low\": -40.982927540685296, \"err_high\": 48.22591825735901}, {\"time\": \"2009-02-23T04:00:00\", \"variable\": \"SW_IN\", \"value\": 0.0, \"is_present\": true, \"mean\": 4.0187088242831805, \"std\": 22.30221144951107, \"err_low\": -40.58571407473896, \"err_high\": 48.62313172330532}, {\"time\": \"2009-02-23T04:30:00\", \"variable\": \"SW_IN\", \"value\": 0.0, \"is_present\": true, \"mean\": 3.9668180930358687, \"std\": 22.30221144951108, \"err_low\": -40.63760480598629, \"err_high\": 48.57124099205803}, {\"time\": \"2009-02-23T05:00:00\", \"variable\": \"SW_IN\", \"value\": 0.0, \"is_present\": true, \"mean\": 3.7460140167685836, \"std\": 22.30221144951107, \"err_low\": -40.858408882253556, \"err_high\": 48.35043691579072}, {\"time\": \"2009-02-23T05:30:00\", \"variable\": \"SW_IN\", \"value\": 0.0, \"is_present\": true, \"mean\": 3.7741989074759204, \"std\": 22.302211449511077, \"err_low\": -40.830223991546234, \"err_high\": 48.378621806498074}, {\"time\": \"2009-02-23T06:00:00\", \"variable\": \"SW_IN\", \"value\": 0.0, \"is_present\": true, \"mean\": 3.950725062963272, \"std\": 22.302211449511077, \"err_low\": -40.65369783605888, \"err_high\": 48.555147961985426}, {\"time\": \"2009-02-23T06:30:00\", \"variable\": \"SW_IN\", \"value\": 0.0, \"is_present\": true, \"mean\": 3.7781692723876716, \"std\": 22.302211449511077, \"err_low\": -40.82625362663448, \"err_high\": 48.382592171409826}, {\"time\": \"2009-02-23T07:00:00\", \"variable\": \"SW_IN\", \"value\": 0.0, \"is_present\": true, \"mean\": 3.1472680356227016, \"std\": 22.302211449511063, \"err_low\": -41.457154863399424, \"err_high\": 47.75169093464483}, {\"time\": \"2009-02-23T07:30:00\", \"variable\": \"SW_IN\", \"value\": 0.75, \"is_present\": true, \"mean\": 2.9493826704022155, \"std\": 22.30221144951107, \"err_low\": -41.655040228619924, \"err_high\": 47.553805569424355}, {\"time\": \"2009-02-23T08:00:00\", \"variable\": \"SW_IN\", \"value\": 6.0, \"is_present\": true, \"mean\": 4.067876280747271, \"std\": 22.302211449511073, \"err_low\": -40.536546618274876, \"err_high\": 48.67229917976942}, {\"time\": \"2009-02-23T08:30:00\", \"variable\": \"SW_IN\", \"value\": 19.02, \"is_present\": true, \"mean\": 9.00373771764042, \"std\": 22.302211449511077, \"err_low\": -35.600685181381735, \"err_high\": 53.60816061666257}, {\"time\": \"2009-02-23T09:00:00\", \"variable\": \"SW_IN\", \"value\": 54.83, \"is_present\": true, \"mean\": 20.937953664773104, \"std\": 22.302211449511066, \"err_low\": -23.66646923424903, \"err_high\": 65.54237656379524}, {\"time\": \"2009-02-23T09:30:00\", \"variable\": \"SW_IN\", \"value\": 76.25, \"is_present\": true, \"mean\": 54.2456206541614, \"std\": 22.302211449511077, \"err_low\": 9.641197755139245, \"err_high\": 98.85004355318355}, {\"time\": \"2009-02-23T10:00:00\", \"variable\": \"SW_IN\", \"value\": 50.22, \"is_present\": true, \"mean\": 73.85935244224578, \"std\": 22.30221144951107, \"err_low\": 29.25492954322364, \"err_high\": 118.46377534126792}, {\"time\": \"2009-02-23T10:30:00\", \"variable\": \"SW_IN\", \"value\": 63.29, \"is_present\": true, \"mean\": 49.805424454303804, \"std\": 22.302211449511066, \"err_low\": 5.201001555281671, \"err_high\": 94.40984735332594}, {\"time\": \"2009-02-23T11:00:00\", \"variable\": \"SW_IN\", \"value\": 86.03, \"is_present\": true, \"mean\": 62.500282022971696, \"std\": 22.302211449511073, \"err_low\": 17.89585912394955, \"err_high\": 107.10470492199384}, {\"time\": \"2009-02-23T11:30:00\", \"variable\": \"SW_IN\", \"value\": 97.32, \"is_present\": true, \"mean\": 84.00623360676755, \"std\": 22.302211449511077, \"err_low\": 39.4018107077454, \"err_high\": 128.6106565057897}, {\"time\": \"2009-02-23T12:00:00\", \"variable\": \"SW_IN\", \"value\": 106.75, \"is_present\": true, \"mean\": 94.80954276416152, \"std\": 22.302211449511066, \"err_low\": 50.20511986513939, \"err_high\": 139.41396566318366}, {\"time\": \"2009-02-23T12:30:00\", \"variable\": \"SW_IN\", \"value\": 142.63, \"is_present\": true, \"mean\": 104.01717871916595, \"std\": 22.302211449511084, \"err_low\": 59.412755820143786, \"err_high\": 148.62160161818812}, {\"time\": \"2009-02-23T13:00:00\", \"variable\": \"SW_IN\", \"value\": 206.0, \"is_present\": true, \"mean\": 137.39005214699074, \"std\": 22.30221144951108, \"err_low\": 92.78562924796859, \"err_high\": 181.9944750460129}, {\"time\": \"2009-02-23T13:30:00\", \"variable\": \"SW_IN\", \"value\": 195.47, \"is_present\": true, \"mean\": 196.7063254759167, \"std\": 22.302211449511066, \"err_low\": 152.1019025768946, \"err_high\": 241.31074837493884}, {\"time\": \"2009-02-23T14:00:00\", \"variable\": \"SW_IN\", \"value\": 104.56, \"is_present\": true, \"mean\": 186.74290139226358, \"std\": 22.30221144951107, \"err_low\": 142.13847849324145, \"err_high\": 231.3473242912857}, {\"time\": \"2009-02-23T14:30:00\", \"variable\": \"SW_IN\", \"value\": 83.98, \"is_present\": true, \"mean\": 102.51677681963767, \"std\": 22.302211449511063, \"err_low\": 57.912353920615544, \"err_high\": 147.1211997186598}, {\"time\": \"2009-02-23T15:00:00\", \"variable\": \"SW_IN\", \"value\": 92.06, \"is_present\": true, \"mean\": 83.47951513367522, \"std\": 22.302211449511077, \"err_low\": 38.87509223465307, \"err_high\": 128.08393803269738}, {\"time\": \"2009-02-23T15:30:00\", \"variable\": \"SW_IN\", \"value\": 57.84, \"is_present\": true, \"mean\": 91.33712661821002, \"std\": 22.302211449511077, \"err_low\": 46.73270371918787, \"err_high\": 135.94154951723218}, {\"time\": \"2009-02-23T16:00:00\", \"variable\": \"SW_IN\", \"value\": 40.63, \"is_present\": true, \"mean\": 59.27371944075319, \"std\": 22.302211449511063, \"err_low\": 14.669296541731065, \"err_high\": 103.87814233977531}], \"data-aae7030621cc336ab5cb6b436cafe3b7\": [{\"time\": \"2009-02-19T12:30:00\", \"variable\": \"VPD\", \"value\": 1.827, \"is_present\": true, \"mean\": 3.353521526096904, \"std\": 4.309151323072243, \"err_low\": -5.264781120047582, \"err_high\": 11.971824172241389}, {\"time\": \"2009-02-19T13:00:00\", \"variable\": \"VPD\", \"value\": 1.951, \"is_present\": true, \"mean\": 2.298844664172539, \"std\": 0.1046631972531022, \"err_low\": 2.0895182696663346, \"err_high\": 2.5081710586787436}, {\"time\": \"2009-02-19T13:30:00\", \"variable\": \"VPD\", \"value\": 2.085, \"is_present\": true, \"mean\": 2.3518413400288543, \"std\": 0.10264205409574943, \"err_low\": 2.1465572318373556, \"err_high\": 2.557125448220353}, {\"time\": \"2009-02-19T14:00:00\", \"variable\": \"VPD\", \"value\": 2.271, \"is_present\": true, \"mean\": 2.4770689322232626, \"std\": 0.10260272515798573, \"err_low\": 2.271863481907291, \"err_high\": 2.682274382539234}, {\"time\": \"2009-02-19T14:30:00\", \"variable\": \"VPD\", \"value\": 2.442, \"is_present\": true, \"mean\": 2.6522061638599994, \"std\": 0.10260196425459012, \"err_low\": 2.447002235350819, \"err_high\": 2.8574100923691796}, {\"time\": \"2009-02-19T15:00:00\", \"variable\": \"VPD\", \"value\": 2.549, \"is_present\": true, \"mean\": 2.771132942950561, \"std\": 0.10260194959592964, \"err_low\": 2.5659290437587017, \"err_high\": 2.97633684214242}, {\"time\": \"2009-02-19T15:30:00\", \"variable\": \"VPD\", \"value\": 2.464, \"is_present\": true, \"mean\": 2.7826761937855675, \"std\": 0.10260194931376564, \"err_low\": 2.5774722951580364, \"err_high\": 2.9878800924130986}, {\"time\": \"2009-02-19T16:00:00\", \"variable\": \"VPD\", \"value\": 2.43, \"is_present\": true, \"mean\": 2.548991700016429, \"std\": 0.10260194930833583, \"err_low\": 2.343787801399757, \"err_high\": 2.7541955986331006}, {\"time\": \"2009-02-19T16:30:00\", \"variable\": \"VPD\", \"value\": 2.814, \"is_present\": true, \"mean\": 2.4923729977371325, \"std\": 0.10260194930823113, \"err_low\": 2.2871690991206703, \"err_high\": 2.6975768963535947}, {\"time\": \"2009-02-19T17:00:00\", \"variable\": \"VPD\", \"value\": 2.86, \"is_present\": true, \"mean\": 2.996489685077681, \"std\": 0.10260194930823024, \"err_low\": 2.791285786461221, \"err_high\": 3.2016935836941416}, {\"time\": \"2009-02-19T17:30:00\", \"variable\": \"VPD\", \"value\": 2.884, \"is_present\": true, \"mean\": 2.818798636089735, \"std\": 0.10260194930823015, \"err_low\": 2.6135947374732744, \"err_high\": 3.024002534706195}, {\"time\": \"2009-02-19T18:00:00\", \"variable\": \"VPD\", \"value\": 2.761, \"is_present\": true, \"mean\": 2.7854396032736704, \"std\": 0.1026019493082289, \"err_low\": 2.5802357046572126, \"err_high\": 2.990643501890128}, {\"time\": \"2009-02-19T18:30:00\", \"variable\": \"VPD\", \"value\": 2.582, \"is_present\": true, \"mean\": 2.606336950551342, \"std\": 0.102601949308229, \"err_low\": 2.4011330519348837, \"err_high\": 2.8115408491678}, {\"time\": \"2009-02-19T19:00:00\", \"variable\": \"VPD\", \"value\": 2.639, \"is_present\": true, \"mean\": 2.4253005496603754, \"std\": 0.10260194930822872, \"err_low\": 2.220096651043918, \"err_high\": 2.6305044482768327}, {\"time\": \"2009-02-19T19:30:00\", \"variable\": \"VPD\", \"value\": 2.508, \"is_present\": true, \"mean\": 2.543363321209971, \"std\": 0.10260194930822988, \"err_low\": 2.338159422593511, \"err_high\": 2.748567219826431}, {\"time\": \"2009-02-19T20:00:00\", \"variable\": \"VPD\", \"value\": 2.251, \"is_present\": true, \"mean\": 2.358840650017739, \"std\": 0.10260194930822875, \"err_low\": 2.1536367514012813, \"err_high\": 2.5640445486341967}, {\"time\": \"2009-02-19T20:30:00\", \"variable\": \"VPD\", \"value\": 1.925, \"is_present\": true, \"mean\": 2.0885274789436234, \"std\": 0.10260194930823055, \"err_low\": 1.8833235803271624, \"err_high\": 2.2937313775600847}, {\"time\": \"2009-02-19T21:00:00\", \"variable\": \"VPD\", \"value\": 1.659, \"is_present\": true, \"mean\": 1.7621716220984824, \"std\": 0.1026019493082304, \"err_low\": 1.5569677234820216, \"err_high\": 1.9673755207149433}, {\"time\": \"2009-02-19T21:30:00\", \"variable\": \"VPD\", \"value\": 1.235, \"is_present\": true, \"mean\": 1.5256581354742293, \"std\": 0.10260194930823026, \"err_low\": 1.3204542368577687, \"err_high\": 1.73086203409069}, {\"time\": \"2009-02-19T22:00:00\", \"variable\": \"VPD\", \"value\": 0.609, \"is_present\": true, \"mean\": 1.075223030028205, \"std\": 0.1026019493082295, \"err_low\": 0.870019131411746, \"err_high\": 1.2804269286446641}, {\"time\": \"2009-02-19T22:30:00\", \"variable\": \"VPD\", \"value\": 0.228, \"is_present\": true, \"mean\": 0.42867779900729674, \"std\": 0.10260194930823016, \"err_low\": 0.22347390039083642, \"err_high\": 0.6338816976237571}, {\"time\": \"2009-02-19T23:00:00\", \"variable\": \"VPD\", \"value\": 0.174, \"is_present\": true, \"mean\": 0.13510107355136425, \"std\": 0.10260194930822973, \"err_low\": -0.07010282506509521, \"err_high\": 0.34030497216782374}, {\"time\": \"2009-02-19T23:30:00\", \"variable\": \"VPD\", \"value\": 0.118, \"is_present\": true, \"mean\": 0.15881323468611663, \"std\": 0.1026019493082307, \"err_low\": -0.04639066393034477, \"err_high\": 0.364017133302578}, {\"time\": \"2009-02-20T00:00:00\", \"variable\": \"VPD\", \"value\": 0.074, \"is_present\": true, \"mean\": 0.09307191263557169, \"std\": 0.10260194930822986, \"err_low\": -0.11213198598088803, \"err_high\": 0.2982758112520314}, {\"time\": \"2009-02-20T00:30:00\", \"variable\": \"VPD\", \"value\": 0.049, \"is_present\": true, \"mean\": 0.0557718816196604, \"std\": 0.1026019493082285, \"err_low\": -0.1494320169967966, \"err_high\": 0.2609757802361174}, {\"time\": \"2009-02-20T01:00:00\", \"variable\": \"VPD\", \"value\": 0.029, \"is_present\": true, \"mean\": 0.03631609153976001, \"std\": 0.10260194930822926, \"err_low\": -0.1688878070766985, \"err_high\": 0.24151999015621853}, {\"time\": \"2009-02-20T01:30:00\", \"variable\": \"VPD\", \"value\": 0.016, \"is_present\": true, \"mean\": 0.01806751972857601, \"std\": 0.10260194930822943, \"err_low\": -0.18713637888788284, \"err_high\": 0.22327141834503486}, {\"time\": \"2009-02-20T02:00:00\", \"variable\": \"VPD\", \"value\": 0.006, \"is_present\": true, \"mean\": 0.007558791706047785, \"std\": 0.1026019493082304, \"err_low\": -0.197645106910413, \"err_high\": 0.21276269032250858}, {\"time\": \"2009-02-20T02:30:00\", \"variable\": \"VPD\", \"value\": 0.001, \"is_present\": true, \"mean\": -0.0012619630034897966, \"std\": 0.10260194930822951, \"err_low\": -0.20646586161994882, \"err_high\": 0.20394193561296922}, {\"time\": \"2009-02-20T03:00:00\", \"variable\": \"VPD\", \"value\": 0.0, \"is_present\": true, \"mean\": -0.004570409379961227, \"std\": 0.10260194930822995, \"err_low\": -0.20977430799642113, \"err_high\": 0.20063348923649868}, {\"time\": \"2009-02-20T03:30:00\", \"variable\": \"VPD\", \"value\": 0.0, \"is_present\": true, \"mean\": -0.004529332918506324, \"std\": 0.10260194930822965, \"err_low\": -0.20973323153496562, \"err_high\": 0.20067456569795297}, {\"time\": \"2009-02-20T04:00:00\", \"variable\": \"VPD\", \"value\": 0.0, \"is_present\": true, \"mean\": -0.004151103336086592, \"std\": 0.10260194930822887, \"err_low\": -0.20935500195254433, \"err_high\": 0.20105279528037115}, {\"time\": \"2009-02-20T04:30:00\", \"variable\": \"VPD\", \"value\": 0.0, \"is_present\": true, \"mean\": -0.003857885257853244, \"std\": 0.1026019493082292, \"err_low\": -0.20906178387431165, \"err_high\": 0.20134601335860516}, {\"time\": \"2009-02-20T05:00:00\", \"variable\": \"VPD\", \"value\": 0.0, \"is_present\": true, \"mean\": -0.0034426477197033734, \"std\": 0.1026019493082306, \"err_low\": -0.20864654633616458, \"err_high\": 0.20176125089675784}, {\"time\": \"2009-02-20T05:30:00\", \"variable\": \"VPD\", \"value\": 0.0, \"is_present\": true, \"mean\": -0.0032763836371865196, \"std\": 0.10260194930823029, \"err_low\": -0.2084802822536471, \"err_high\": 0.20192751497927405}, {\"time\": \"2009-02-20T06:00:00\", \"variable\": \"VPD\", \"value\": 0.0, \"is_present\": true, \"mean\": -0.0032146522127272092, \"std\": 0.10260194930822841, \"err_low\": -0.20841855082918403, \"err_high\": 0.20198924640372962}, {\"time\": \"2009-02-20T06:30:00\", \"variable\": \"VPD\", \"value\": 0.0, \"is_present\": true, \"mean\": -0.0027762481208335466, \"std\": 0.10260194930823016, \"err_low\": -0.20798014673729387, \"err_high\": 0.20242765049562678}, {\"time\": \"2009-02-20T07:00:00\", \"variable\": \"VPD\", \"value\": 0.0, \"is_present\": true, \"mean\": -0.002560368354195486, \"std\": 0.10260194930823058, \"err_low\": -0.20776426697065664, \"err_high\": 0.20264353026226567}, {\"time\": \"2009-02-20T07:30:00\", \"variable\": \"VPD\", \"value\": 0.0, \"is_present\": true, \"mean\": -0.0024514224040728116, \"std\": 0.10260194930822945, \"err_low\": -0.20765532102053172, \"err_high\": 0.2027524762123861}, {\"time\": \"2009-02-20T08:00:00\", \"variable\": \"VPD\", \"value\": 0.0, \"is_present\": true, \"mean\": -0.0023317544804695167, \"std\": 0.1026019493082295, \"err_low\": -0.2075356530969285, \"err_high\": 0.20287214413598947}, {\"time\": \"2009-02-20T08:30:00\", \"variable\": \"VPD\", \"value\": 0.0, \"is_present\": true, \"mean\": 0.006472231799155459, \"std\": 0.1026019493082291, \"err_low\": -0.19873166681730275, \"err_high\": 0.21167613041561367}, {\"time\": \"2009-02-20T09:00:00\", \"variable\": \"VPD\", \"value\": 0.0, \"is_present\": true, \"mean\": 0.02896822663099652, \"std\": 0.10260194930823009, \"err_low\": -0.17623567198546367, \"err_high\": 0.2341721252474567}, {\"time\": \"2009-02-20T09:30:00\", \"variable\": \"VPD\", \"value\": 0.0, \"is_present\": true, \"mean\": 0.042199707729613234, \"std\": 0.10260194930822962, \"err_low\": -0.163004190886846, \"err_high\": 0.24740360634607247}, {\"time\": \"2009-02-20T10:00:00\", \"variable\": \"VPD\", \"value\": 0.0, \"is_present\": true, \"mean\": 0.05301794047008501, \"std\": 0.10260194930823029, \"err_low\": -0.15218595814637556, \"err_high\": 0.2582218390865456}, {\"time\": \"2009-02-20T10:30:00\", \"variable\": \"VPD\", \"value\": 0.0, \"is_present\": true, \"mean\": 0.05370383241048193, \"std\": 0.10260194930822929, \"err_low\": -0.15150006620597664, \"err_high\": 0.25890773102694054}, {\"time\": \"2009-02-20T11:00:00\", \"variable\": \"VPD\", \"value\": 0.0, \"is_present\": true, \"mean\": 0.09723846149649917, \"std\": 0.10260194930822969, \"err_low\": -0.1079654371199602, \"err_high\": 0.30244236011295855}, {\"time\": \"2009-02-20T11:30:00\", \"variable\": \"VPD\", \"value\": 0.0, \"is_present\": true, \"mean\": 0.12427945352935499, \"std\": 0.10260194930822938, \"err_low\": -0.08092444508710378, \"err_high\": 0.32948335214581376}, {\"time\": \"2009-02-20T12:00:00\", \"variable\": \"VPD\", \"value\": 0.0, \"is_present\": true, \"mean\": 0.13547144005175094, \"std\": 0.10260194930822913, \"err_low\": -0.06973245856470733, \"err_high\": 0.3406753386682092}, {\"time\": \"2009-02-20T12:30:00\", \"variable\": \"VPD\", \"value\": 0.0, \"is_present\": true, \"mean\": 0.13150490025985118, \"std\": 0.10260194930822955, \"err_low\": -0.07369899835660793, \"err_high\": 0.3367087988763103}, {\"time\": \"2009-02-20T13:00:00\", \"variable\": \"VPD\", \"value\": 0.0, \"is_present\": true, \"mean\": 0.1365076993884009, \"std\": 0.1026019493082302, \"err_low\": -0.0686961992280595, \"err_high\": 0.3417115980048613}, {\"time\": \"2009-02-20T13:30:00\", \"variable\": \"VPD\", \"value\": 0.0, \"is_present\": true, \"mean\": 0.10019171012450068, \"std\": 0.1026019493082305, \"err_low\": -0.10501218849196031, \"err_high\": 0.30539560874096167}, {\"time\": \"2009-02-20T14:00:00\", \"variable\": \"VPD\", \"value\": 0.0, \"is_present\": true, \"mean\": 0.14599635694476243, \"std\": 0.1026019493082305, \"err_low\": -0.05920754167169856, \"err_high\": 0.3512002555612234}, {\"time\": \"2009-02-20T14:30:00\", \"variable\": \"VPD\", \"value\": 0.0, \"is_present\": true, \"mean\": 0.1094124199887947, \"std\": 0.10260194930822965, \"err_low\": -0.0957914786276646, \"err_high\": 0.31461631860525396}, {\"time\": \"2009-02-20T15:00:00\", \"variable\": \"VPD\", \"value\": 0.0, \"is_present\": true, \"mean\": 0.09086843598681149, \"std\": 0.10260194930822927, \"err_low\": -0.11433546262964706, \"err_high\": 0.29607233460327004}, {\"time\": \"2009-02-20T15:30:00\", \"variable\": \"VPD\", \"value\": 0.0, \"is_present\": true, \"mean\": 0.08097663002194366, \"std\": 0.10260194930823031, \"err_low\": -0.12422726859451697, \"err_high\": 0.28618052863840426}, {\"time\": \"2009-02-20T16:00:00\", \"variable\": \"VPD\", \"value\": 0.0, \"is_present\": true, \"mean\": 0.06382026642251981, \"std\": 0.10260194930822993, \"err_low\": -0.14138363219394004, \"err_high\": 0.26902416503897963}, {\"time\": \"2009-02-20T16:30:00\", \"variable\": \"VPD\", \"value\": 0.0, \"is_present\": true, \"mean\": 0.07263247971956321, \"std\": 0.10260194930823127, \"err_low\": -0.13257141889689933, \"err_high\": 0.27783637833602576}, {\"time\": \"2009-02-20T17:00:00\", \"variable\": \"VPD\", \"value\": 0.0, \"is_present\": true, \"mean\": 0.1684739102225703, \"std\": 0.1607471678678819, \"err_low\": -0.1530204255131935, \"err_high\": 0.4899682459583341}, {\"time\": \"2009-02-20T17:30:00\", \"variable\": \"VPD\", \"value\": 0.0, \"is_present\": true, \"mean\": 0.26738293680627745, \"std\": 0.203630092839966, \"err_low\": -0.13987724887365455, \"err_high\": 0.6746431224862095}, {\"time\": \"2009-02-20T18:00:00\", \"variable\": \"VPD\", \"value\": 0.0, \"is_present\": true, \"mean\": 0.3670240923701047, \"std\": 0.24046037882575708, \"err_low\": -0.11389666528140946, \"err_high\": 0.8479448500216189}, {\"time\": \"2009-02-20T18:30:00\", \"variable\": \"VPD\", \"value\": 0.0, \"is_present\": true, \"mean\": 0.4668032664151771, \"std\": 0.27501047194895656, \"err_low\": -0.08321767748273601, \"err_high\": 1.0168242103130902}, {\"time\": \"2009-02-20T19:00:00\", \"variable\": \"VPD\", \"value\": 0.0, \"is_present\": true, \"mean\": 0.5663508053476001, \"std\": 0.3088369528388326, \"err_low\": -0.05132310033006515, \"err_high\": 1.1840247110252653}, {\"time\": \"2009-02-20T19:30:00\", \"variable\": \"VPD\", \"value\": 0.0, \"is_present\": true, \"mean\": 0.6653550871228235, \"std\": 0.34253078547187343, \"err_low\": -0.019706483820923326, \"err_high\": 1.3504166580665704}, {\"time\": \"2009-02-20T20:00:00\", \"variable\": \"VPD\", \"value\": 0.0, \"is_present\": true, \"mean\": 0.7635418432202421, \"std\": 0.3762335750178023, \"err_low\": 0.011074693184637496, \"err_high\": 1.5160089932558467}, {\"time\": \"2009-02-20T20:30:00\", \"variable\": \"VPD\", \"value\": 0.0, \"is_present\": true, \"mean\": 0.8606693797196479, \"std\": 0.4098788131551706, \"err_low\": 0.04091175340930664, \"err_high\": 1.680427006029989}, {\"time\": \"2009-02-20T21:00:00\", \"variable\": \"VPD\", \"value\": 0.0, \"is_present\": true, \"mean\": 0.9565256913956142, \"std\": 0.4433126761350529, \"err_low\": 0.06990033912550841, \"err_high\": 1.84315104366572}, {\"time\": \"2009-02-20T21:30:00\", \"variable\": \"VPD\", \"value\": 0.0, \"is_present\": true, \"mean\": 1.0509259479454314, \"std\": 0.47635552865824826, \"err_low\": 0.09821489062893485, \"err_high\": 2.003637005261928}, {\"time\": \"2009-02-20T22:00:00\", \"variable\": \"VPD\", \"value\": 0.0, \"is_present\": true, \"mean\": 0.004029710842738066, \"std\": 0.10584453329008653, \"err_low\": -0.207659355737435, \"err_high\": 0.21571877742291112}, {\"time\": \"2009-02-20T22:30:00\", \"variable\": \"VPD\", \"value\": 0.0, \"is_present\": true, \"mean\": 0.005017728776030239, \"std\": 0.10267341057833004, \"err_low\": -0.20032909238062985, \"err_high\": 0.21036454993269033}, {\"time\": \"2009-02-20T23:00:00\", \"variable\": \"VPD\", \"value\": 0.0, \"is_present\": true, \"mean\": 0.004580793322744636, \"std\": 0.10260336957285748, \"err_low\": -0.20062594582297033, \"err_high\": 0.2097875324684596}, {\"time\": \"2009-02-20T23:30:00\", \"variable\": \"VPD\", \"value\": 0.0, \"is_present\": true, \"mean\": 0.004714739095361686, \"std\": 0.10260197680975425, \"err_low\": -0.2004892145241468, \"err_high\": 0.20991869271487018}, {\"time\": \"2009-02-21T00:00:00\", \"variable\": \"VPD\", \"value\": 0.0, \"is_present\": true, \"mean\": 0.004698710058770761, \"std\": 0.10260194983811032, \"err_low\": -0.20050518961744987, \"err_high\": 0.2099026097349914}, {\"time\": \"2009-02-21T00:30:00\", \"variable\": \"VPD\", \"value\": 0.0, \"is_present\": true, \"mean\": 0.004491523349396509, \"std\": 0.10260194931842885, \"err_low\": -0.2007123752874612, \"err_high\": 0.2096954219862542}, {\"time\": \"2009-02-21T01:00:00\", \"variable\": \"VPD\", \"value\": 0.0, \"is_present\": true, \"mean\": 0.004408453882688956, \"std\": 0.10260194930842598, \"err_low\": -0.200795444734163, \"err_high\": 0.2096123524995409}, {\"time\": \"2009-02-21T01:30:00\", \"variable\": \"VPD\", \"value\": 0.0, \"is_present\": true, \"mean\": 0.004207543358593302, \"std\": 0.10260194930823353, \"err_low\": -0.20099635525787377, \"err_high\": 0.20941144197506037}, {\"time\": \"2009-02-21T02:00:00\", \"variable\": \"VPD\", \"value\": 0.0, \"is_present\": true, \"mean\": 0.00412379570563548, \"std\": 0.10260194930822926, \"err_low\": -0.20108010291082304, \"err_high\": 0.209327694322094}, {\"time\": \"2009-02-21T02:30:00\", \"variable\": \"VPD\", \"value\": 0.0, \"is_present\": true, \"mean\": 0.003766034202393076, \"std\": 0.10260194930822983, \"err_low\": -0.20143786441406658, \"err_high\": 0.20896993281885273}, {\"time\": \"2009-02-21T03:00:00\", \"variable\": \"VPD\", \"value\": 0.0, \"is_present\": true, \"mean\": 0.0033847740533587967, \"std\": 0.1026019493082306, \"err_low\": -0.20181912456310241, \"err_high\": 0.20858867266982}, {\"time\": \"2009-02-21T03:30:00\", \"variable\": \"VPD\", \"value\": 0.0, \"is_present\": true, \"mean\": 0.002796245423665411, \"std\": 0.10260194930822943, \"err_low\": -0.20240765319279344, \"err_high\": 0.20800014404012426}, {\"time\": \"2009-02-21T04:00:00\", \"variable\": \"VPD\", \"value\": 0.0, \"is_present\": true, \"mean\": 0.0021247449862595857, \"std\": 0.10260194930822968, \"err_low\": -0.20307915363019977, \"err_high\": 0.20732864360271894}, {\"time\": \"2009-02-21T04:30:00\", \"variable\": \"VPD\", \"value\": 0.0, \"is_present\": true, \"mean\": 0.0017754522908215442, \"std\": 0.10260194930823088, \"err_low\": -0.20342844632564022, \"err_high\": 0.2069793509072833}, {\"time\": \"2009-02-21T05:00:00\", \"variable\": \"VPD\", \"value\": 0.0, \"is_present\": true, \"mean\": 0.001287813685198369, \"std\": 0.1026019493082293, \"err_low\": -0.20391608493126023, \"err_high\": 0.20649171230165697}, {\"time\": \"2009-02-21T05:30:00\", \"variable\": \"VPD\", \"value\": 0.0, \"is_present\": true, \"mean\": 0.00023970008584806024, \"std\": 0.10260194930823027, \"err_low\": -0.20496419853061248, \"err_high\": 0.2054435987023086}, {\"time\": \"2009-02-21T06:00:00\", \"variable\": \"VPD\", \"value\": 0.0, \"is_present\": true, \"mean\": -0.00017475998592031416, \"std\": 0.1026019493082299, \"err_low\": -0.2053786586023801, \"err_high\": 0.20502913863053948}, {\"time\": \"2009-02-21T06:30:00\", \"variable\": \"VPD\", \"value\": 0.0, \"is_present\": true, \"mean\": -0.000473126555523784, \"std\": 0.10260194930822994, \"err_low\": -0.20567702517198366, \"err_high\": 0.2047307720609361}, {\"time\": \"2009-02-21T07:00:00\", \"variable\": \"VPD\", \"value\": 0.0, \"is_present\": true, \"mean\": -0.00010240015497142707, \"std\": 0.10260194930822922, \"err_low\": -0.20530629877142986, \"err_high\": 0.205101498461487}, {\"time\": \"2009-02-21T07:30:00\", \"variable\": \"VPD\", \"value\": 0.0, \"is_present\": true, \"mean\": 0.0001985365908909742, \"std\": 0.10260194930822862, \"err_low\": -0.20500536202556627, \"err_high\": 0.20540243520734822}, {\"time\": \"2009-02-21T08:00:00\", \"variable\": \"VPD\", \"value\": 0.0, \"is_present\": true, \"mean\": 0.0011864613798611146, \"std\": 0.1026019493082296, \"err_low\": -0.2040174372365981, \"err_high\": 0.20639035999632033}, {\"time\": \"2009-02-21T08:30:00\", \"variable\": \"VPD\", \"value\": 0.0, \"is_present\": true, \"mean\": 0.010149934893780355, \"std\": 0.1026019493082294, \"err_low\": -0.19505396372267844, \"err_high\": 0.21535383351023915}, {\"time\": \"2009-02-21T09:00:00\", \"variable\": \"VPD\", \"value\": 0.0, \"is_present\": true, \"mean\": 0.03261748460669578, \"std\": 0.10260194930822954, \"err_low\": -0.1725864140097633, \"err_high\": 0.23782138322315485}, {\"time\": \"2009-02-21T09:30:00\", \"variable\": \"VPD\", \"value\": 0.0, \"is_present\": true, \"mean\": 0.05679560403644768, \"std\": 0.10260194930822851, \"err_low\": -0.14840829458000934, \"err_high\": 0.2619995026529047}, {\"time\": \"2009-02-21T10:00:00\", \"variable\": \"VPD\", \"value\": 0.0, \"is_present\": true, \"mean\": 0.04978852749520968, \"std\": 0.10260194930822938, \"err_low\": -0.1554153711212491, \"err_high\": 0.25499242611166845}, {\"time\": \"2009-02-21T10:30:00\", \"variable\": \"VPD\", \"value\": 0.0, \"is_present\": true, \"mean\": 0.06940644366411419, \"std\": 0.10260194930822869, \"err_low\": -0.1357974549523432, \"err_high\": 0.2746103422805716}, {\"time\": \"2009-02-21T11:00:00\", \"variable\": \"VPD\", \"value\": 0.0, \"is_present\": true, \"mean\": 0.08765255028131724, \"std\": 0.10260194930822966, \"err_low\": -0.11755134833514208, \"err_high\": 0.29285644889777657}, {\"time\": \"2009-02-21T11:30:00\", \"variable\": \"VPD\", \"value\": 0.0, \"is_present\": true, \"mean\": 0.15166995036732756, \"std\": 0.10260194930823031, \"err_low\": -0.05353394824913307, \"err_high\": 0.35687384898378816}, {\"time\": \"2009-02-21T12:00:00\", \"variable\": \"VPD\", \"value\": 0.0, \"is_present\": true, \"mean\": 0.1932711719857534, \"std\": 0.10260194930822887, \"err_low\": -0.011932726630704354, \"err_high\": 0.3984750706022111}, {\"time\": \"2009-02-21T12:30:00\", \"variable\": \"VPD\", \"value\": 0.013, \"is_present\": true, \"mean\": 0.2256246995851252, \"std\": 0.10260194930822854, \"err_low\": 0.020420800968668135, \"err_high\": 0.43082859820158226}, {\"time\": \"2009-02-21T13:00:00\", \"variable\": \"VPD\", \"value\": 0.348, \"is_present\": true, \"mean\": 0.2987118968681637, \"std\": 0.10260194930822851, \"err_low\": 0.09350799825170666, \"err_high\": 0.5039157954846207}, {\"time\": \"2009-02-21T13:30:00\", \"variable\": \"VPD\", \"value\": 0.529, \"is_present\": true, \"mean\": 0.7319699070326151, \"std\": 0.10260194930822877, \"err_low\": 0.5267660084161576, \"err_high\": 0.9371738056490726}, {\"time\": \"2009-02-21T14:00:00\", \"variable\": \"VPD\", \"value\": 0.516, \"is_present\": true, \"mean\": 0.8076054015290919, \"std\": 0.10260194930822895, \"err_low\": 0.602401502912634, \"err_high\": 1.0128093001455498}, {\"time\": \"2009-02-21T14:30:00\", \"variable\": \"VPD\", \"value\": 0.532, \"is_present\": true, \"mean\": 0.6779173798643332, \"std\": 0.10260194930822929, \"err_low\": 0.4727134812478746, \"err_high\": 0.8831212784807918}, {\"time\": \"2009-02-21T15:00:00\", \"variable\": \"VPD\", \"value\": 0.578, \"is_present\": true, \"mean\": 0.7162565404515089, \"std\": 0.10260194930822998, \"err_low\": 0.511052641835049, \"err_high\": 0.9214604390679688}, {\"time\": \"2009-02-21T15:30:00\", \"variable\": \"VPD\", \"value\": 0.554, \"is_present\": true, \"mean\": 0.7278189895896938, \"std\": 0.10260194930823031, \"err_low\": 0.5226150909732332, \"err_high\": 0.9330228882061544}, {\"time\": \"2009-02-21T16:00:00\", \"variable\": \"VPD\", \"value\": 0.493, \"is_present\": true, \"mean\": 0.6425974872277767, \"std\": 0.10260194930822905, \"err_low\": 0.43739358861131855, \"err_high\": 0.8478013858442348}, {\"time\": \"2009-02-21T16:30:00\", \"variable\": \"VPD\", \"value\": 0.441, \"is_present\": true, \"mean\": 0.533119015233503, \"std\": 0.10260194930822887, \"err_low\": 0.3279151166170453, \"err_high\": 0.7383229138499607}, {\"time\": \"2009-02-21T17:00:00\", \"variable\": \"VPD\", \"value\": 0.363, \"is_present\": true, \"mean\": 0.4616745645969744, \"std\": 0.1026019493082293, \"err_low\": 0.2564706659805158, \"err_high\": 0.666878463213433}, {\"time\": \"2009-02-21T17:30:00\", \"variable\": \"VPD\", \"value\": 0.289, \"is_present\": true, \"mean\": 0.3467033209104824, \"std\": 0.10260194930823088, \"err_low\": 0.14149942229402063, \"err_high\": 0.5519072195269441}, {\"time\": \"2009-02-21T18:00:00\", \"variable\": \"VPD\", \"value\": 0.262, \"is_present\": true, \"mean\": 0.2702146218662187, \"std\": 0.10260194930822998, \"err_low\": 0.06501072324975873, \"err_high\": 0.47541852048267863}, {\"time\": \"2009-02-21T18:30:00\", \"variable\": \"VPD\", \"value\": 0.256, \"is_present\": true, \"mean\": 0.24975846386886857, \"std\": 0.1026019493082296, \"err_low\": 0.04455456525240936, \"err_high\": 0.4549623624853278}, {\"time\": \"2009-02-21T19:00:00\", \"variable\": \"VPD\", \"value\": 0.278, \"is_present\": true, \"mean\": 0.2479280080088757, \"std\": 0.10260194930823142, \"err_low\": 0.04272410939241286, \"err_high\": 0.45313190662533853}, {\"time\": \"2009-02-21T19:30:00\", \"variable\": \"VPD\", \"value\": 0.338, \"is_present\": true, \"mean\": 0.275809498382912, \"std\": 0.10260194930823031, \"err_low\": 0.0706055997664514, \"err_high\": 0.4810133969993726}, {\"time\": \"2009-02-21T20:00:00\", \"variable\": \"VPD\", \"value\": 0.319, \"is_present\": true, \"mean\": 0.34224996855311174, \"std\": 0.10260194930823052, \"err_low\": 0.1370460699366507, \"err_high\": 0.5474538671695728}, {\"time\": \"2009-02-21T20:30:00\", \"variable\": \"VPD\", \"value\": 0.346, \"is_present\": true, \"mean\": 0.3017250998174843, \"std\": 0.1026019493082283, \"err_low\": 0.0965212012010277, \"err_high\": 0.5069289984339409}, {\"time\": \"2009-02-21T21:00:00\", \"variable\": \"VPD\", \"value\": 0.353, \"is_present\": true, \"mean\": 0.34317300571082043, \"std\": 0.1026019493082297, \"err_low\": 0.13796910709436103, \"err_high\": 0.5483769043272798}, {\"time\": \"2009-02-21T21:30:00\", \"variable\": \"VPD\", \"value\": 0.284, \"is_present\": true, \"mean\": 0.34230429022157827, \"std\": 0.10260194930822944, \"err_low\": 0.1371003916051194, \"err_high\": 0.5475081888380371}, {\"time\": \"2009-02-21T22:00:00\", \"variable\": \"VPD\", \"value\": 0.274, \"is_present\": true, \"mean\": 0.25720521436483557, \"std\": 0.10260194930822986, \"err_low\": 0.052001315748375854, \"err_high\": 0.4624091129812953}, {\"time\": \"2009-02-21T22:30:00\", \"variable\": \"VPD\", \"value\": 0.135, \"is_present\": true, \"mean\": 0.26562553908684805, \"std\": 0.10260194930823006, \"err_low\": 0.06042164047038792, \"err_high\": 0.4708294377033082}, {\"time\": \"2009-02-21T23:00:00\", \"variable\": \"VPD\", \"value\": 0.086, \"is_present\": true, \"mean\": 0.09499136320847379, \"std\": 0.10260194930822943, \"err_low\": -0.11021253540798506, \"err_high\": 0.3001952618249326}, {\"time\": \"2009-02-21T23:30:00\", \"variable\": \"VPD\", \"value\": 0.057, \"is_present\": true, \"mean\": 0.07712062452950041, \"std\": 0.1026019493082293, \"err_low\": -0.1280832740869582, \"err_high\": 0.282324523145959}, {\"time\": \"2009-02-22T00:00:00\", \"variable\": \"VPD\", \"value\": 0.012, \"is_present\": true, \"mean\": 0.049915050463157584, \"std\": 0.10260194930822938, \"err_low\": -0.15528884815330118, \"err_high\": 0.25511894907961635}, {\"time\": \"2009-02-22T00:30:00\", \"variable\": \"VPD\", \"value\": 0.0, \"is_present\": true, \"mean\": 0.001925528522799258, \"std\": 0.10260194930823076, \"err_low\": -0.20327837009366226, \"err_high\": 0.20712942713926077}, {\"time\": \"2009-02-22T01:00:00\", \"variable\": \"VPD\", \"value\": 0.0, \"is_present\": true, \"mean\": -0.0005850916496359382, \"std\": 0.10260194930822973, \"err_low\": -0.2057889902660954, \"err_high\": 0.20461880696682352}, {\"time\": \"2009-02-22T01:30:00\", \"variable\": \"VPD\", \"value\": 0.0, \"is_present\": true, \"mean\": 0.0008889419538298249, \"std\": 0.10260194930823027, \"err_low\": -0.20431495666263072, \"err_high\": 0.20609284057029037}, {\"time\": \"2009-02-22T02:00:00\", \"variable\": \"VPD\", \"value\": 0.0, \"is_present\": true, \"mean\": 0.0006107807735027393, \"std\": 0.10260194930823019, \"err_low\": -0.20459311784295764, \"err_high\": 0.20581467938996312}, {\"time\": \"2009-02-22T02:30:00\", \"variable\": \"VPD\", \"value\": 0.0, \"is_present\": true, \"mean\": 0.00038847346440551433, \"std\": 0.1026019493082308, \"err_low\": -0.20481542515205609, \"err_high\": 0.20559237208086711}, {\"time\": \"2009-02-22T03:00:00\", \"variable\": \"VPD\", \"value\": 0.0, \"is_present\": true, \"mean\": 0.00046265219465535523, \"std\": 0.1026019493082296, \"err_low\": -0.20474124642180386, \"err_high\": 0.20566655081111457}, {\"time\": \"2009-02-22T03:30:00\", \"variable\": \"VPD\", \"value\": 0.0, \"is_present\": true, \"mean\": 0.0007685560312538087, \"std\": 0.1026019493082301, \"err_low\": -0.2044353425852064, \"err_high\": 0.20597245464771402}, {\"time\": \"2009-02-22T04:00:00\", \"variable\": \"VPD\", \"value\": 0.0, \"is_present\": true, \"mean\": 0.0008937259927379593, \"std\": 0.10260194930822998, \"err_low\": -0.204310172623722, \"err_high\": 0.20609762460919792}, {\"time\": \"2009-02-22T04:30:00\", \"variable\": \"VPD\", \"value\": 0.0, \"is_present\": true, \"mean\": 0.001090389298940675, \"std\": 0.10260194930822922, \"err_low\": -0.20411350931751776, \"err_high\": 0.2062942879153991}, {\"time\": \"2009-02-22T05:00:00\", \"variable\": \"VPD\", \"value\": 0.0, \"is_present\": true, \"mean\": 0.0013577248011928944, \"std\": 0.10260194930822954, \"err_low\": -0.20384617381526618, \"err_high\": 0.20656162341765197}, {\"time\": \"2009-02-22T05:30:00\", \"variable\": \"VPD\", \"value\": 0.0, \"is_present\": true, \"mean\": 0.001408586814315882, \"std\": 0.10260194930822858, \"err_low\": -0.20379531180214128, \"err_high\": 0.20661248543077304}, {\"time\": \"2009-02-22T06:00:00\", \"variable\": \"VPD\", \"value\": 0.0, \"is_present\": true, \"mean\": 0.0016129218252198818, \"std\": 0.10260194930822986, \"err_low\": -0.20359097679123983, \"err_high\": 0.2068168204416796}, {\"time\": \"2009-02-22T06:30:00\", \"variable\": \"VPD\", \"value\": 0.0, \"is_present\": true, \"mean\": 0.0016700930824007365, \"std\": 0.10260194930822923, \"err_low\": -0.20353380553405773, \"err_high\": 0.2068739916988592}, {\"time\": \"2009-02-22T07:00:00\", \"variable\": \"VPD\", \"value\": 0.0, \"is_present\": true, \"mean\": 0.0017429177354766345, \"std\": 0.10260194930823037, \"err_low\": -0.2034609808809841, \"err_high\": 0.20694681635193737}, {\"time\": \"2009-02-22T07:30:00\", \"variable\": \"VPD\", \"value\": 0.0, \"is_present\": true, \"mean\": 0.0017092093990518364, \"std\": 0.10260194930823023, \"err_low\": -0.20349468921740863, \"err_high\": 0.2069131080155123}, {\"time\": \"2009-02-22T08:00:00\", \"variable\": \"VPD\", \"value\": 0.0, \"is_present\": true, \"mean\": 0.0017128355778308624, \"std\": 0.10260194930823019, \"err_low\": -0.20349106303862952, \"err_high\": 0.20691673419429124}, {\"time\": \"2009-02-22T08:30:00\", \"variable\": \"VPD\", \"value\": 0.0, \"is_present\": true, \"mean\": 0.005063556361856847, \"std\": 0.10260194930822926, \"err_low\": -0.20014034225460167, \"err_high\": 0.21026745497831537}, {\"time\": \"2009-02-22T09:00:00\", \"variable\": \"VPD\", \"value\": 0.0, \"is_present\": true, \"mean\": 0.01405806556250866, \"std\": 0.10260194930822943, \"err_low\": -0.1911458330539502, \"err_high\": 0.2192619641789675}, {\"time\": \"2009-02-22T09:30:00\", \"variable\": \"VPD\", \"value\": 0.0, \"is_present\": true, \"mean\": 0.029028141983740152, \"std\": 0.10260194930822958, \"err_low\": -0.176175756632719, \"err_high\": 0.2342320406001993}, {\"time\": \"2009-02-22T10:00:00\", \"variable\": \"VPD\", \"value\": 0.0, \"is_present\": true, \"mean\": 0.02590091118011184, \"std\": 0.10260194930823027, \"err_low\": -0.1793029874363487, \"err_high\": 0.23110480979657239}, {\"time\": \"2009-02-22T10:30:00\", \"variable\": \"VPD\", \"value\": 0.0, \"is_present\": true, \"mean\": 0.06128524411314329, \"std\": 0.10260194930822863, \"err_low\": -0.14391865450331398, \"err_high\": 0.26648914272960056}, {\"time\": \"2009-02-22T11:00:00\", \"variable\": \"VPD\", \"value\": 0.0, \"is_present\": true, \"mean\": 0.057310135994919076, \"std\": 0.10260194930822929, \"err_low\": -0.1478937626215395, \"err_high\": 0.2625140346113777}, {\"time\": \"2009-02-22T11:30:00\", \"variable\": \"VPD\", \"value\": 0.0, \"is_present\": true, \"mean\": 0.06134342645874824, \"std\": 0.10260194930822994, \"err_low\": -0.14386047215771164, \"err_high\": 0.2665473250752081}, {\"time\": \"2009-02-22T12:00:00\", \"variable\": \"VPD\", \"value\": 0.0, \"is_present\": true, \"mean\": 0.08277215503117352, \"std\": 0.10260194930823005, \"err_low\": -0.12243174358528658, \"err_high\": 0.2879760536476336}, {\"time\": \"2009-02-22T12:30:00\", \"variable\": \"VPD\", \"value\": 0.0, \"is_present\": true, \"mean\": 0.05514383850357696, \"std\": 0.10260194930823008, \"err_low\": -0.1500600601128832, \"err_high\": 0.2603477371200371}, {\"time\": \"2009-02-22T13:00:00\", \"variable\": \"VPD\", \"value\": 0.0, \"is_present\": true, \"mean\": 0.06421914015355545, \"std\": 0.1026019493082301, \"err_low\": -0.14098475846290476, \"err_high\": 0.26942303877001567}, {\"time\": \"2009-02-22T13:30:00\", \"variable\": \"VPD\", \"value\": 0.0, \"is_present\": true, \"mean\": 0.08518637327882717, \"std\": 0.10260194930822981, \"err_low\": -0.12001752533763246, \"err_high\": 0.29039027189528677}, {\"time\": \"2009-02-22T14:00:00\", \"variable\": \"VPD\", \"value\": 0.0, \"is_present\": true, \"mean\": 0.10816412615524129, \"std\": 0.10260194930822934, \"err_low\": -0.0970397724612174, \"err_high\": 0.3133680247717}, {\"time\": \"2009-02-22T14:30:00\", \"variable\": \"VPD\", \"value\": 0.0, \"is_present\": true, \"mean\": 0.1076078906499407, \"std\": 0.10260194930822998, \"err_low\": -0.09759600796651927, \"err_high\": 0.31281178926640063}, {\"time\": \"2009-02-22T15:00:00\", \"variable\": \"VPD\", \"value\": 0.0, \"is_present\": true, \"mean\": 0.07094915876413355, \"std\": 0.1026019493082316, \"err_low\": -0.13425473985232966, \"err_high\": 0.27615305738059676}, {\"time\": \"2009-02-22T15:30:00\", \"variable\": \"VPD\", \"value\": 0.0, \"is_present\": true, \"mean\": 0.06493046849384454, \"std\": 0.10260194930822991, \"err_low\": -0.14027343012261528, \"err_high\": 0.27013436711030436}, {\"time\": \"2009-02-22T16:00:00\", \"variable\": \"VPD\", \"value\": 0.0, \"is_present\": true, \"mean\": 0.07551284094918564, \"std\": 0.10260194930823029, \"err_low\": -0.12969105766727493, \"err_high\": 0.28071673956564624}, {\"time\": \"2009-02-22T16:30:00\", \"variable\": \"VPD\", \"value\": 0.0, \"is_present\": true, \"mean\": 0.05151073561842656, \"std\": 0.10260194930823038, \"err_low\": -0.1536931629980342, \"err_high\": 0.25671463423488733}, {\"time\": \"2009-02-22T17:00:00\", \"variable\": \"VPD\", \"value\": 0.0, \"is_present\": true, \"mean\": 0.04065476572903837, \"std\": 0.10260194930822979, \"err_low\": -0.1645491328874212, \"err_high\": 0.24585866434549794}, {\"time\": \"2009-02-22T17:30:00\", \"variable\": \"VPD\", \"value\": 0.0, \"is_present\": true, \"mean\": 0.02209711286423932, \"std\": 0.10260194930823041, \"err_low\": -0.1831067857522215, \"err_high\": 0.22730101148070014}, {\"time\": \"2009-02-22T18:00:00\", \"variable\": \"VPD\", \"value\": 0.0, \"is_present\": true, \"mean\": 0.008923732793146844, \"std\": 0.10260194930823067, \"err_low\": -0.1962801658233145, \"err_high\": 0.2141276314096082}, {\"time\": \"2009-02-22T18:30:00\", \"variable\": \"VPD\", \"value\": 0.0, \"is_present\": true, \"mean\": 0.007713108401159463, \"std\": 0.1026019493082312, \"err_low\": -0.19749079021530294, \"err_high\": 0.21291700701762187}, {\"time\": \"2009-02-22T19:00:00\", \"variable\": \"VPD\", \"value\": 0.0, \"is_present\": true, \"mean\": 0.007891625979803418, \"std\": 0.102601949308229, \"err_low\": -0.19731227263665457, \"err_high\": 0.2130955245962614}, {\"time\": \"2009-02-22T19:30:00\", \"variable\": \"VPD\", \"value\": 0.0, \"is_present\": true, \"mean\": 0.00790303741941667, \"std\": 0.10260194930823038, \"err_low\": -0.1973008611970441, \"err_high\": 0.21310693603587744}, {\"time\": \"2009-02-22T20:00:00\", \"variable\": \"VPD\", \"value\": 0.0, \"is_present\": true, \"mean\": 0.008006580678114883, \"std\": 0.1026019493082306, \"err_low\": -0.19719731793834633, \"err_high\": 0.2132104792945761}, {\"time\": \"2009-02-22T20:30:00\", \"variable\": \"VPD\", \"value\": 0.0, \"is_present\": true, \"mean\": 0.008126552864957226, \"std\": 0.1026019493082293, \"err_low\": -0.19707734575150138, \"err_high\": 0.21333045148141583}, {\"time\": \"2009-02-22T21:00:00\", \"variable\": \"VPD\", \"value\": 0.0, \"is_present\": true, \"mean\": 0.008349607074225052, \"std\": 0.10260194930822872, \"err_low\": -0.19685429154223238, \"err_high\": 0.2135535056906825}, {\"time\": \"2009-02-22T21:30:00\", \"variable\": \"VPD\", \"value\": 0.0, \"is_present\": true, \"mean\": 0.008431124446361515, \"std\": 0.10260194930822991, \"err_low\": -0.1967727741700983, \"err_high\": 0.21363502306282134}, {\"time\": \"2009-02-22T22:00:00\", \"variable\": \"VPD\", \"value\": 0.0, \"is_present\": true, \"mean\": 0.008266011098916781, \"std\": 0.10260194930822925, \"err_low\": -0.1969378875175417, \"err_high\": 0.21346990971537527}, {\"time\": \"2009-02-22T22:30:00\", \"variable\": \"VPD\", \"value\": 0.0, \"is_present\": true, \"mean\": 0.0066354578087568505, \"std\": 0.10260194930823104, \"err_low\": -0.19856844080770522, \"err_high\": 0.21183935642521892}, {\"time\": \"2009-02-22T23:00:00\", \"variable\": \"VPD\", \"value\": 0.0, \"is_present\": true, \"mean\": 0.006517638272617088, \"std\": 0.10260194930822984, \"err_low\": -0.1986862603438426, \"err_high\": 0.21172153688907677}, {\"time\": \"2009-02-22T23:30:00\", \"variable\": \"VPD\", \"value\": 0.0, \"is_present\": true, \"mean\": 0.006448877727499358, \"std\": 0.10260194930823002, \"err_low\": -0.1987550208889607, \"err_high\": 0.2116527763439594}, {\"time\": \"2009-02-23T00:00:00\", \"variable\": \"VPD\", \"value\": 0.0, \"is_present\": true, \"mean\": 0.005906916627935299, \"std\": 0.10260194930822975, \"err_low\": -0.1992969819885242, \"err_high\": 0.2111108152443948}, {\"time\": \"2009-02-23T00:30:00\", \"variable\": \"VPD\", \"value\": 0.025, \"is_present\": true, \"mean\": 0.005204828896050007, \"std\": 0.10260194930822991, \"err_low\": -0.19999906972040982, \"err_high\": 0.21040872751250983}, {\"time\": \"2009-02-23T01:00:00\", \"variable\": \"VPD\", \"value\": 0.086, \"is_present\": true, \"mean\": 0.03550214464926649, \"std\": 0.10260194930823108, \"err_low\": -0.16970175396719567, \"err_high\": 0.24070604326572864}, {\"time\": \"2009-02-23T01:30:00\", \"variable\": \"VPD\", \"value\": 0.062, \"is_present\": true, \"mean\": 0.10180743888883503, \"std\": 0.10260194930822948, \"err_low\": -0.10339645972762393, \"err_high\": 0.30701133750529397}, {\"time\": \"2009-02-23T02:00:00\", \"variable\": \"VPD\", \"value\": 0.011, \"is_present\": true, \"mean\": 0.05422199981256437, \"std\": 0.10260194930822934, \"err_low\": -0.15098189880389432, \"err_high\": 0.2594258984290231}, {\"time\": \"2009-02-23T02:30:00\", \"variable\": \"VPD\", \"value\": 0.0, \"is_present\": true, \"mean\": 0.0008690723179318738, \"std\": 0.10260194930822934, \"err_low\": -0.2043348262985268, \"err_high\": 0.20607297093439056}, {\"time\": \"2009-02-23T03:00:00\", \"variable\": \"VPD\", \"value\": 0.0, \"is_present\": true, \"mean\": 0.0019265401472625676, \"std\": 0.10260194930823001, \"err_low\": -0.20327735846919745, \"err_high\": 0.20713043876372259}, {\"time\": \"2009-02-23T03:30:00\", \"variable\": \"VPD\", \"value\": 0.037, \"is_present\": true, \"mean\": 0.0037735573002248834, \"std\": 0.10260194930822968, \"err_low\": -0.20143034131623447, \"err_high\": 0.20897745591668423}, {\"time\": \"2009-02-23T04:00:00\", \"variable\": \"VPD\", \"value\": 0.07, \"is_present\": true, \"mean\": 0.04896633201198286, \"std\": 0.10260194930822919, \"err_low\": -0.15623756660447552, \"err_high\": 0.25417023062844124}, {\"time\": \"2009-02-23T04:30:00\", \"variable\": \"VPD\", \"value\": 0.073, \"is_present\": true, \"mean\": 0.07812601794291618, \"std\": 0.1026019493082295, \"err_low\": -0.1270778806735428, \"err_high\": 0.2833299165593752}, {\"time\": \"2009-02-23T05:00:00\", \"variable\": \"VPD\", \"value\": 0.08, \"is_present\": true, \"mean\": 0.07342560310050539, \"std\": 0.10260194930822943, \"err_low\": -0.13177829551595346, \"err_high\": 0.2786295017169642}, {\"time\": \"2009-02-23T05:30:00\", \"variable\": \"VPD\", \"value\": 0.096, \"is_present\": true, \"mean\": 0.08229576608607703, \"std\": 0.10260194930823052, \"err_low\": -0.12290813253038402, \"err_high\": 0.28749966470253807}, {\"time\": \"2009-02-23T06:00:00\", \"variable\": \"VPD\", \"value\": 0.096, \"is_present\": true, \"mean\": 0.09988122861224236, \"std\": 0.10260194930822993, \"err_low\": -0.1053226700042175, \"err_high\": 0.3050851272287022}, {\"time\": \"2009-02-23T06:30:00\", \"variable\": \"VPD\", \"value\": 0.066, \"is_present\": true, \"mean\": 0.09525265659290438, \"std\": 0.10260194930823133, \"err_low\": -0.10995124202355827, \"err_high\": 0.30045655520936704}, {\"time\": \"2009-02-23T07:00:00\", \"variable\": \"VPD\", \"value\": 0.011, \"is_present\": true, \"mean\": 0.05860407239717791, \"std\": 0.10260194930822973, \"err_low\": -0.14659982621928155, \"err_high\": 0.2638079710136374}, {\"time\": \"2009-02-23T07:30:00\", \"variable\": \"VPD\", \"value\": 0.0, \"is_present\": true, \"mean\": 0.0003466923619446227, \"std\": 0.10260194930822969, \"err_low\": -0.20485720625451476, \"err_high\": 0.205550590978404}, {\"time\": \"2009-02-23T08:00:00\", \"variable\": \"VPD\", \"value\": 0.0, \"is_present\": true, \"mean\": 0.003119424526587977, \"std\": 0.10260194930822843, \"err_low\": -0.20208447408986888, \"err_high\": 0.20832332314304483}, {\"time\": \"2009-02-23T08:30:00\", \"variable\": \"VPD\", \"value\": 0.0, \"is_present\": true, \"mean\": 0.009383170261186624, \"std\": 0.10260194930823043, \"err_low\": -0.19582072835527423, \"err_high\": 0.21458706887764747}, {\"time\": \"2009-02-23T09:00:00\", \"variable\": \"VPD\", \"value\": 0.0, \"is_present\": true, \"mean\": 0.02178502213507061, \"std\": 0.10260194930822976, \"err_low\": -0.1834188764813889, \"err_high\": 0.22698892075153013}, {\"time\": \"2009-02-23T09:30:00\", \"variable\": \"VPD\", \"value\": 0.0, \"is_present\": true, \"mean\": 0.05717045685965649, \"std\": 0.10260194930823002, \"err_low\": -0.14803344175680355, \"err_high\": 0.26237435547611654}, {\"time\": \"2009-02-23T10:00:00\", \"variable\": \"VPD\", \"value\": 0.0, \"is_present\": true, \"mean\": 0.07714387503023401, \"std\": 0.10260194930822991, \"err_low\": -0.1280600235862258, \"err_high\": 0.28234777364669383}, {\"time\": \"2009-02-23T10:30:00\", \"variable\": \"VPD\", \"value\": 0.0, \"is_present\": true, \"mean\": 0.05095093030101916, \"std\": 0.10260194930822945, \"err_low\": -0.15425296831543975, \"err_high\": 0.2561548289174781}, {\"time\": \"2009-02-23T11:00:00\", \"variable\": \"VPD\", \"value\": 0.0, \"is_present\": true, \"mean\": 0.06536539565643373, \"std\": 0.10260194930822937, \"err_low\": -0.139838502960025, \"err_high\": 0.27056929427289245}, {\"time\": \"2009-02-23T11:30:00\", \"variable\": \"VPD\", \"value\": 0.0, \"is_present\": true, \"mean\": 0.08817315036020545, \"std\": 0.10260194930823029, \"err_low\": -0.11703074825625512, \"err_high\": 0.29337704897666605}, {\"time\": \"2009-02-23T12:00:00\", \"variable\": \"VPD\", \"value\": 0.0, \"is_present\": true, \"mean\": 0.09924828357706517, \"std\": 0.10260194930823077, \"err_low\": -0.10595561503939638, \"err_high\": 0.3044521821935267}, {\"time\": \"2009-02-23T12:30:00\", \"variable\": \"VPD\", \"value\": 0.0, \"is_present\": true, \"mean\": 0.1089575542686978, \"std\": 0.1026019493082296, \"err_low\": -0.09624634434776141, \"err_high\": 0.314161452885157}, {\"time\": \"2009-02-23T13:00:00\", \"variable\": \"VPD\", \"value\": 0.021, \"is_present\": true, \"mean\": 0.14438847121410037, \"std\": 0.10260194930823106, \"err_low\": -0.06081542740236176, \"err_high\": 0.3495923698305625}, {\"time\": \"2009-02-23T13:30:00\", \"variable\": \"VPD\", \"value\": 0.028, \"is_present\": true, \"mean\": 0.23263163421210598, \"std\": 0.10260194930822918, \"err_low\": 0.027427735595647623, \"err_high\": 0.43783553282856436}, {\"time\": \"2009-02-23T14:00:00\", \"variable\": \"VPD\", \"value\": 0.037, \"is_present\": true, \"mean\": 0.22264329903936142, \"std\": 0.1026019493082306, \"err_low\": 0.01743940042290021, \"err_high\": 0.42784719765582263}, {\"time\": \"2009-02-23T14:30:00\", \"variable\": \"VPD\", \"value\": 0.042, \"is_present\": true, \"mean\": 0.14261523874861748, \"std\": 0.10260194930822991, \"err_low\": -0.06258865986784234, \"err_high\": 0.3478191373650773}, {\"time\": \"2009-02-23T15:00:00\", \"variable\": \"VPD\", \"value\": 0.084, \"is_present\": true, \"mean\": 0.12809399743228544, \"std\": 0.10260194930823033, \"err_low\": -0.07710990118417521, \"err_high\": 0.3332978960487461}, {\"time\": \"2009-02-23T15:30:00\", \"variable\": \"VPD\", \"value\": 0.105, \"is_present\": true, \"mean\": 0.18704995903189525, \"std\": 0.10260194930822973, \"err_low\": -0.01815393958456421, \"err_high\": 0.39225385764835474}, {\"time\": \"2009-02-23T16:00:00\", \"variable\": \"VPD\", \"value\": 0.124, \"is_present\": true, \"mean\": 0.16580158618015162, \"std\": 0.10260194930823091, \"err_low\": -0.039402312436310205, \"err_high\": 0.37100548479661344}]}}, {\"mode\": \"vega-lite\"});\n",
       "</script>"
      ],
      "text/plain": [
       "alt.HConcatChart(...)"
      ]
     },
     "execution_count": null,
     "metadata": {},
     "output_type": "execute_result"
    }
   ],
   "source": [
    "plot_results(*results_custom_gap(learn64, hai64, ['TA'], 10, [800, 801], 200))"
   ]
  },
  {
   "cell_type": "code",
   "execution_count": null,
   "id": "f9c1abdc-91bd-4adf-81a7-c552924024a7",
   "metadata": {},
   "outputs": [],
   "source": [
    "#| export\n",
    "def interact_results(learn, df):\n",
    "    interact_args = {\n",
    "        'gap_len': IntSlider(10, 1, 100),\n",
    "        'items_idx': Text(value='10, 100', placeholder=\"space separated indices\"),\n",
    "        'block_len': IntSlider(200, 10, 1000, 10),\n",
    "        **{var_name: True for var_name in df.columns}\n",
    "    }\n",
    "    \n",
    "    def _inner(gap_len, items_idx, block_len, **var_names):\n",
    "        var_sel = [var_name for var_name, var_use in var_names.items() if var_use]\n",
    "        items_idx = list(map(int, items_idx.split(\",\")))\n",
    "        return plot_results(*results_custom_gap(learn=learn, df=df, var_sel=var_sel, gap_len=gap_len, items_idx=items_idx, block_len=block_len))\n",
    "    return interact_manual(_inner, **interact_args)"
   ]
  },
  {
   "cell_type": "code",
   "execution_count": null,
   "id": "ee2143d8-021a-40f2-ba6d-d86d5e99ae63",
   "metadata": {},
   "outputs": [
    {
     "data": {
      "application/vnd.jupyter.widget-view+json": {
       "model_id": "a9c04247df1c4efea9b1d07250cf77e9",
       "version_major": 2,
       "version_minor": 0
      },
      "text/plain": [
       "interactive(children=(IntSlider(value=10, description='gap_len', min=1), Text(value='10, 100', description='it…"
      ]
     },
     "metadata": {},
     "output_type": "display_data"
    },
    {
     "data": {
      "text/plain": [
       "<function __main__.interact_results.<locals>._inner(gap_len, items_idx, block_len, **var_names)>"
      ]
     },
     "execution_count": null,
     "metadata": {},
     "output_type": "execute_result"
    }
   ],
   "source": [
    "interact_results(learn64, hai64)"
   ]
  },
  {
   "cell_type": "markdown",
   "id": "25ee98b3-1618-49fc-86b1-4f4c922a28a4",
   "metadata": {},
   "source": [
    "## Export "
   ]
  },
  {
   "cell_type": "code",
   "execution_count": null,
   "id": "be47bac6-1bac-4b5d-a880-7ddfe17cca68",
   "metadata": {},
   "outputs": [],
   "source": [
    "#| hide\n",
    "from nbdev import nbdev_export\n",
    "nbdev_export()"
   ]
  }
 ],
 "metadata": {
  "kernelspec": {
   "display_name": "data_science",
   "language": "python",
   "name": "data_science"
  },
  "widgets": {
   "application/vnd.jupyter.widget-state+json": {
    "state": {},
    "version_major": 2,
    "version_minor": 0
   }
  }
 },
 "nbformat": 4,
 "nbformat_minor": 5
}
