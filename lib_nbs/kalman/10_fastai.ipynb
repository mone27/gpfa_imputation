{
 "cells": [
  {
   "cell_type": "markdown",
   "id": "e8af5772-d828-4017-ae3b-5d530ac57586",
   "metadata": {},
   "source": [
    "# Implement Kalman model using FastAI\n",
    "\n",
    "> need to implement custom data preparation pipeline and loss function "
   ]
  },
  {
   "cell_type": "code",
   "execution_count": null,
   "id": "b87acfa4-b43e-4cbe-9bc2-103a084ec5a2",
   "metadata": {},
   "outputs": [],
   "source": [
    "#| hide\n",
    "%load_ext autoreload\n",
    "%autoreload 2"
   ]
  },
  {
   "cell_type": "code",
   "execution_count": null,
   "id": "cca16380-45e6-479a-b8c3-e6f26ed9fdf3",
   "metadata": {},
   "outputs": [],
   "source": [
    "#| hide\n",
    "#| default_exp kalman.fastai"
   ]
  },
  {
   "cell_type": "code",
   "execution_count": null,
   "id": "131e1d0e-56f7-4c46-aadd-a9a9097bfe28",
   "metadata": {},
   "outputs": [],
   "source": [
    "from fastai.tabular.core import *\n",
    "from fastai.data.core import *"
   ]
  },
  {
   "cell_type": "code",
   "execution_count": null,
   "id": "22f63809-036e-42ad-93e9-afcb78c82568",
   "metadata": {},
   "outputs": [],
   "source": [
    "#| export\n",
    "from meteo_imp.utils import *\n",
    "from meteo_imp.gaussian import *\n",
    "from meteo_imp.data import *\n",
    "\n",
    "from fastcore.transform import *\n",
    "from fastcore.basics import *\n",
    "from fastcore.foundation import *\n",
    "from fastcore.all import *\n",
    "from fastai.tabular import *\n",
    "from fastai.torch_core import default_device, to_device\n",
    "from dataclasses import dataclass\n",
    "\n",
    "import torch\n",
    "\n",
    "import collections\n",
    "\n",
    "import pandas as pd\n",
    "import numpy as np\n",
    "import matplotlib.pyplot as plt"
   ]
  },
  {
   "cell_type": "code",
   "execution_count": null,
   "id": "c946534f",
   "metadata": {},
   "outputs": [],
   "source": [
    "reset_seed()"
   ]
  },
  {
   "cell_type": "code",
   "execution_count": null,
   "id": "1c3c3090-de05-4a9b-943d-10b285bf8d94",
   "metadata": {},
   "outputs": [
    {
     "data": {
      "text/plain": [
       "Path('/home/simone/Documents/uni/Thesis/GPFA_imputation/data/FLX_DE-Hai_FLUXNET2015_FULLSET_HH_2000-2012_1-4_float32.parquet')"
      ]
     },
     "execution_count": null,
     "metadata": {},
     "output_type": "execute_result"
    }
   ],
   "source": [
    "hai_path"
   ]
  },
  {
   "cell_type": "code",
   "execution_count": null,
   "id": "d7f48bb9-58ab-4d1a-97d9-b242f6542148",
   "metadata": {},
   "outputs": [],
   "source": [
    "hai = pd.read_parquet(hai_path)\n",
    "hai64 = pd.read_parquet(hai_path64)\n",
    "hai_era = pd.read_parquet(hai_era_path)\n",
    "hai_era64 = pd.read_parquet(hai_era_path64)"
   ]
  },
  {
   "cell_type": "markdown",
   "id": "b0f3603c-74ec-41ba-a9dc-8fb08c2630cc",
   "metadata": {},
   "source": [
    "## Data Preparation"
   ]
  },
  {
   "cell_type": "markdown",
   "id": "df4ecbb3-f6ef-4344-95e7-5b566611d3f2",
   "metadata": {},
   "source": [
    "The aim of the data preparation pipeline is to:\n",
    "- take the original time series and split it into time blocks\n",
    "- for each block generate a random gap (need to figure out the properties of the gap)\n",
    "- split some time blocks for testing\n",
    "\n",
    "the input of the pipeline is:\n",
    "- a dataframe containing all observations\n",
    "\n",
    "the input of the model is:\n",
    "- observed data (potentially containing NaN where data is missing)\n",
    "- missing data mask (which is telling where the data is missing)\n",
    "- the data needs to be standardized"
   ]
  },
  {
   "cell_type": "markdown",
   "id": "d17c4e2b-6175-4674-9437-9e8a75cadb35",
   "metadata": {},
   "source": [
    "### 1) Block Index"
   ]
  },
  {
   "cell_type": "markdown",
   "id": "09346517-48ae-4872-b572-a095b7adcd19",
   "metadata": {},
   "source": [
    "the first step is to transfrom the original dataframe into blocks of a specified `block_len`\n",
    "\n",
    "two different strategies are possible:\n",
    "\n",
    "- contigous blocks\n",
    "- random block in the dataframe\n",
    "\n",
    "for now contigous blocks are used"
   ]
  },
  {
   "cell_type": "code",
   "execution_count": null,
   "id": "e4d73d6c-a82f-43c3-a8ff-cd6cfe644fac",
   "metadata": {},
   "outputs": [],
   "source": [
    "#| export\n",
    "class BlockIndexTransform(Transform):\n",
    "    \"\"\"divide timeseries DataFrame index into blocks\"\"\"\n",
    "    def __init__(self, idx: pd.DatetimeIndex, block_len:int =200, offset=1):\n",
    "        store_attr()\n",
    "        self.n = len(idx)\n",
    "        \n",
    "    def encodes(self, i:int) -> pd.DatetimeIndex:       \n",
    "        start = i * self.block_len + self.offset\n",
    "        end = (i+1) * self.block_len + self.offset\n",
    "        assert end <= self.n \n",
    "        \n",
    "        return self.idx[start:end] "
   ]
  },
  {
   "cell_type": "code",
   "execution_count": null,
   "id": "4e51eaf9-d972-4960-b5b3-03ddf4b139fa",
   "metadata": {},
   "outputs": [],
   "source": [
    "blk = BlockIndexTransform(hai.index, 10)"
   ]
  },
  {
   "cell_type": "code",
   "execution_count": null,
   "id": "71c4f834-fb0f-4fb3-a13a-da01198a970a",
   "metadata": {},
   "outputs": [
    {
     "data": {
      "text/plain": [
       "BlockIndexTransform:\n",
       "encodes: (int,object) -> encodes\n",
       "decodes: "
      ]
     },
     "execution_count": null,
     "metadata": {},
     "output_type": "execute_result"
    }
   ],
   "source": [
    "blk"
   ]
  },
  {
   "cell_type": "code",
   "execution_count": null,
   "id": "316f91e8-3861-46e5-b6d5-d9c17bccf80e",
   "metadata": {},
   "outputs": [
    {
     "data": {
      "text/plain": [
       "DatetimeIndex(['2000-01-01 00:30:00', '2000-01-01 01:00:00',\n",
       "               '2000-01-01 01:30:00', '2000-01-01 02:00:00',\n",
       "               '2000-01-01 02:30:00', '2000-01-01 03:00:00',\n",
       "               '2000-01-01 03:30:00', '2000-01-01 04:00:00',\n",
       "               '2000-01-01 04:30:00', '2000-01-01 05:00:00',\n",
       "               ...\n",
       "               '2012-12-31 19:30:00', '2012-12-31 20:00:00',\n",
       "               '2012-12-31 20:30:00', '2012-12-31 21:00:00',\n",
       "               '2012-12-31 21:30:00', '2012-12-31 22:00:00',\n",
       "               '2012-12-31 22:30:00', '2012-12-31 23:00:00',\n",
       "               '2012-12-31 23:30:00', '2013-01-01 00:00:00'],\n",
       "              dtype='datetime64[ns]', name='time', length=227952, freq=None)"
      ]
     },
     "execution_count": null,
     "metadata": {},
     "output_type": "execute_result"
    }
   ],
   "source": [
    "hai.index"
   ]
  },
  {
   "cell_type": "code",
   "execution_count": null,
   "id": "db372f33-785c-4e99-8fe0-e439c24b004b",
   "metadata": {},
   "outputs": [
    {
     "data": {
      "text/plain": [
       "DatetimeIndex(['2000-01-01 11:00:00', '2000-01-01 11:30:00',\n",
       "               '2000-01-01 12:00:00', '2000-01-01 12:30:00',\n",
       "               '2000-01-01 13:00:00', '2000-01-01 13:30:00',\n",
       "               '2000-01-01 14:00:00', '2000-01-01 14:30:00',\n",
       "               '2000-01-01 15:00:00', '2000-01-01 15:30:00'],\n",
       "              dtype='datetime64[ns]', name='time', freq=None)"
      ]
     },
     "execution_count": null,
     "metadata": {},
     "output_type": "execute_result"
    }
   ],
   "source": [
    "blk(2)"
   ]
  },
  {
   "cell_type": "markdown",
   "id": "21c89d9e-4acc-4ffb-858c-7fccfd5e30d5",
   "metadata": {},
   "source": [
    "### 2) Meteo Imp Block DataFrames"
   ]
  },
  {
   "cell_type": "markdown",
   "id": "5d544b17-a5e4-4934-83fe-bbc22afc6ec3",
   "metadata": {},
   "source": [
    "Get a chunck out of dataframes given an index"
   ]
  },
  {
   "cell_type": "code",
   "execution_count": null,
   "id": "71f15928-f42a-4dd2-9159-cd683a067cdd",
   "metadata": {},
   "outputs": [],
   "source": [
    "#| export\n",
    "@dataclass\n",
    "class DataControl:\n",
    "    data: pd.DataFrame\n",
    "    control: pd.DataFrame\n",
    "    def _repr_html_(self):\n",
    "            return row_dfs({'data': self.data, 'control': self.control}, title=\"Data Control\", hide_idx=False)\n",
    "    def __iter__(self): return iter((self.data, self.control,))"
   ]
  },
  {
   "cell_type": "code",
   "execution_count": null,
   "id": "acb617f2-28cb-4aa8-8b08-5e15f2289153",
   "metadata": {},
   "outputs": [],
   "source": [
    "df = hai.loc[blk(1)]"
   ]
  },
  {
   "cell_type": "code",
   "execution_count": null,
   "id": "6ddc660c-de6c-4050-9ec6-4a87b6f53204",
   "metadata": {},
   "outputs": [],
   "source": [
    "#| export\n",
    "def _rename_lag(lag):\n",
    "    def _inner(col_name):\n",
    "        return f\"{col_name}_lag_{lag}\"\n",
    "    return _inner"
   ]
  },
  {
   "cell_type": "code",
   "execution_count": null,
   "id": "8598cd54-2460-4e04-a605-c0788a6c9715",
   "metadata": {},
   "outputs": [
    {
     "data": {
      "text/html": [
       "<div>\n",
       "<style scoped>\n",
       "    .dataframe tbody tr th:only-of-type {\n",
       "        vertical-align: middle;\n",
       "    }\n",
       "\n",
       "    .dataframe tbody tr th {\n",
       "        vertical-align: top;\n",
       "    }\n",
       "\n",
       "    .dataframe thead th {\n",
       "        text-align: right;\n",
       "    }\n",
       "</style>\n",
       "<table border=\"1\" class=\"dataframe\">\n",
       "  <thead>\n",
       "    <tr style=\"text-align: right;\">\n",
       "      <th></th>\n",
       "      <th>TA_lag_1</th>\n",
       "      <th>SW_IN_lag_1</th>\n",
       "      <th>VPD_lag_1</th>\n",
       "    </tr>\n",
       "    <tr>\n",
       "      <th>time</th>\n",
       "      <th></th>\n",
       "      <th></th>\n",
       "      <th></th>\n",
       "    </tr>\n",
       "  </thead>\n",
       "  <tbody>\n",
       "    <tr>\n",
       "      <th>2000-01-01 06:00:00</th>\n",
       "      <td>-0.23</td>\n",
       "      <td>0.00</td>\n",
       "      <td>0.122</td>\n",
       "    </tr>\n",
       "    <tr>\n",
       "      <th>2000-01-01 06:30:00</th>\n",
       "      <td>-0.22</td>\n",
       "      <td>0.00</td>\n",
       "      <td>0.098</td>\n",
       "    </tr>\n",
       "    <tr>\n",
       "      <th>2000-01-01 07:00:00</th>\n",
       "      <td>-0.24</td>\n",
       "      <td>0.00</td>\n",
       "      <td>0.066</td>\n",
       "    </tr>\n",
       "    <tr>\n",
       "      <th>2000-01-01 07:30:00</th>\n",
       "      <td>-0.23</td>\n",
       "      <td>0.00</td>\n",
       "      <td>0.044</td>\n",
       "    </tr>\n",
       "    <tr>\n",
       "      <th>2000-01-01 08:00:00</th>\n",
       "      <td>-0.22</td>\n",
       "      <td>0.00</td>\n",
       "      <td>0.026</td>\n",
       "    </tr>\n",
       "    <tr>\n",
       "      <th>2000-01-01 08:30:00</th>\n",
       "      <td>-0.19</td>\n",
       "      <td>0.45</td>\n",
       "      <td>0.016</td>\n",
       "    </tr>\n",
       "    <tr>\n",
       "      <th>2000-01-01 09:00:00</th>\n",
       "      <td>-0.14</td>\n",
       "      <td>3.70</td>\n",
       "      <td>0.010</td>\n",
       "    </tr>\n",
       "    <tr>\n",
       "      <th>2000-01-01 09:30:00</th>\n",
       "      <td>-0.03</td>\n",
       "      <td>7.26</td>\n",
       "      <td>0.006</td>\n",
       "    </tr>\n",
       "    <tr>\n",
       "      <th>2000-01-01 10:00:00</th>\n",
       "      <td>0.04</td>\n",
       "      <td>12.24</td>\n",
       "      <td>0.006</td>\n",
       "    </tr>\n",
       "    <tr>\n",
       "      <th>2000-01-01 10:30:00</th>\n",
       "      <td>0.10</td>\n",
       "      <td>16.51</td>\n",
       "      <td>0.006</td>\n",
       "    </tr>\n",
       "  </tbody>\n",
       "</table>\n",
       "</div>"
      ],
      "text/plain": [
       "                     TA_lag_1  SW_IN_lag_1  VPD_lag_1\n",
       "time                                                 \n",
       "2000-01-01 06:00:00     -0.23         0.00      0.122\n",
       "2000-01-01 06:30:00     -0.22         0.00      0.098\n",
       "2000-01-01 07:00:00     -0.24         0.00      0.066\n",
       "2000-01-01 07:30:00     -0.23         0.00      0.044\n",
       "2000-01-01 08:00:00     -0.22         0.00      0.026\n",
       "2000-01-01 08:30:00     -0.19         0.45      0.016\n",
       "2000-01-01 09:00:00     -0.14         3.70      0.010\n",
       "2000-01-01 09:30:00     -0.03         7.26      0.006\n",
       "2000-01-01 10:00:00      0.04        12.24      0.006\n",
       "2000-01-01 10:30:00      0.10        16.51      0.006"
      ]
     },
     "execution_count": null,
     "metadata": {},
     "output_type": "execute_result"
    }
   ],
   "source": [
    "df.rename(columns=_rename_lag(1))"
   ]
  },
  {
   "cell_type": "code",
   "execution_count": null,
   "id": "bb691e61-e8dc-4f30-9b62-a5bf1411f52c",
   "metadata": {},
   "outputs": [],
   "source": [
    "#| export\n",
    "def _lag_df(df, lag):\n",
    "    \"add lagged columns\"\n",
    "    df_lag = df.shift(lag).rename(columns = _rename_lag(lag))\n",
    "    return df_lag\n",
    "    "
   ]
  },
  {
   "cell_type": "code",
   "execution_count": null,
   "id": "887b0a9c-4602-4734-8816-044104f6eb74",
   "metadata": {},
   "outputs": [
    {
     "data": {
      "text/html": [
       "<div>\n",
       "<style scoped>\n",
       "    .dataframe tbody tr th:only-of-type {\n",
       "        vertical-align: middle;\n",
       "    }\n",
       "\n",
       "    .dataframe tbody tr th {\n",
       "        vertical-align: top;\n",
       "    }\n",
       "\n",
       "    .dataframe thead th {\n",
       "        text-align: right;\n",
       "    }\n",
       "</style>\n",
       "<table border=\"1\" class=\"dataframe\">\n",
       "  <thead>\n",
       "    <tr style=\"text-align: right;\">\n",
       "      <th></th>\n",
       "      <th>TA_lag_1</th>\n",
       "      <th>SW_IN_lag_1</th>\n",
       "      <th>VPD_lag_1</th>\n",
       "    </tr>\n",
       "    <tr>\n",
       "      <th>time</th>\n",
       "      <th></th>\n",
       "      <th></th>\n",
       "      <th></th>\n",
       "    </tr>\n",
       "  </thead>\n",
       "  <tbody>\n",
       "    <tr>\n",
       "      <th>2000-01-01 06:00:00</th>\n",
       "      <td>NaN</td>\n",
       "      <td>NaN</td>\n",
       "      <td>NaN</td>\n",
       "    </tr>\n",
       "    <tr>\n",
       "      <th>2000-01-01 06:30:00</th>\n",
       "      <td>-0.23</td>\n",
       "      <td>0.00</td>\n",
       "      <td>0.122</td>\n",
       "    </tr>\n",
       "    <tr>\n",
       "      <th>2000-01-01 07:00:00</th>\n",
       "      <td>-0.22</td>\n",
       "      <td>0.00</td>\n",
       "      <td>0.098</td>\n",
       "    </tr>\n",
       "    <tr>\n",
       "      <th>2000-01-01 07:30:00</th>\n",
       "      <td>-0.24</td>\n",
       "      <td>0.00</td>\n",
       "      <td>0.066</td>\n",
       "    </tr>\n",
       "    <tr>\n",
       "      <th>2000-01-01 08:00:00</th>\n",
       "      <td>-0.23</td>\n",
       "      <td>0.00</td>\n",
       "      <td>0.044</td>\n",
       "    </tr>\n",
       "    <tr>\n",
       "      <th>2000-01-01 08:30:00</th>\n",
       "      <td>-0.22</td>\n",
       "      <td>0.00</td>\n",
       "      <td>0.026</td>\n",
       "    </tr>\n",
       "    <tr>\n",
       "      <th>2000-01-01 09:00:00</th>\n",
       "      <td>-0.19</td>\n",
       "      <td>0.45</td>\n",
       "      <td>0.016</td>\n",
       "    </tr>\n",
       "    <tr>\n",
       "      <th>2000-01-01 09:30:00</th>\n",
       "      <td>-0.14</td>\n",
       "      <td>3.70</td>\n",
       "      <td>0.010</td>\n",
       "    </tr>\n",
       "    <tr>\n",
       "      <th>2000-01-01 10:00:00</th>\n",
       "      <td>-0.03</td>\n",
       "      <td>7.26</td>\n",
       "      <td>0.006</td>\n",
       "    </tr>\n",
       "    <tr>\n",
       "      <th>2000-01-01 10:30:00</th>\n",
       "      <td>0.04</td>\n",
       "      <td>12.24</td>\n",
       "      <td>0.006</td>\n",
       "    </tr>\n",
       "  </tbody>\n",
       "</table>\n",
       "</div>"
      ],
      "text/plain": [
       "                     TA_lag_1  SW_IN_lag_1  VPD_lag_1\n",
       "time                                                 \n",
       "2000-01-01 06:00:00       NaN          NaN        NaN\n",
       "2000-01-01 06:30:00     -0.23         0.00      0.122\n",
       "2000-01-01 07:00:00     -0.22         0.00      0.098\n",
       "2000-01-01 07:30:00     -0.24         0.00      0.066\n",
       "2000-01-01 08:00:00     -0.23         0.00      0.044\n",
       "2000-01-01 08:30:00     -0.22         0.00      0.026\n",
       "2000-01-01 09:00:00     -0.19         0.45      0.016\n",
       "2000-01-01 09:30:00     -0.14         3.70      0.010\n",
       "2000-01-01 10:00:00     -0.03         7.26      0.006\n",
       "2000-01-01 10:30:00      0.04        12.24      0.006"
      ]
     },
     "execution_count": null,
     "metadata": {},
     "output_type": "execute_result"
    }
   ],
   "source": [
    "_lag_df(df, 1)"
   ]
  },
  {
   "cell_type": "code",
   "execution_count": null,
   "id": "df948694-5ac9-4614-9fd3-3b865f2c68a9",
   "metadata": {},
   "outputs": [],
   "source": [
    "#| export\n",
    "def _add_lags_df(df, lags):\n",
    "    df_lagged = df\n",
    "    for lag in listify(lags):\n",
    "        df_lagged = pd.merge(df_lagged, _lag_df(df, lag), left_index=True, right_index=True)\n",
    "    return df_lagged"
   ]
  },
  {
   "cell_type": "code",
   "execution_count": null,
   "id": "07b4261a-defb-4d91-a59a-a94633efd040",
   "metadata": {},
   "outputs": [
    {
     "data": {
      "text/html": [
       "<div>\n",
       "<style scoped>\n",
       "    .dataframe tbody tr th:only-of-type {\n",
       "        vertical-align: middle;\n",
       "    }\n",
       "\n",
       "    .dataframe tbody tr th {\n",
       "        vertical-align: top;\n",
       "    }\n",
       "\n",
       "    .dataframe thead th {\n",
       "        text-align: right;\n",
       "    }\n",
       "</style>\n",
       "<table border=\"1\" class=\"dataframe\">\n",
       "  <thead>\n",
       "    <tr style=\"text-align: right;\">\n",
       "      <th></th>\n",
       "      <th>TA</th>\n",
       "      <th>SW_IN</th>\n",
       "      <th>VPD</th>\n",
       "      <th>TA_lag_1</th>\n",
       "      <th>SW_IN_lag_1</th>\n",
       "      <th>VPD_lag_1</th>\n",
       "      <th>TA_lag_2</th>\n",
       "      <th>SW_IN_lag_2</th>\n",
       "      <th>VPD_lag_2</th>\n",
       "    </tr>\n",
       "    <tr>\n",
       "      <th>time</th>\n",
       "      <th></th>\n",
       "      <th></th>\n",
       "      <th></th>\n",
       "      <th></th>\n",
       "      <th></th>\n",
       "      <th></th>\n",
       "      <th></th>\n",
       "      <th></th>\n",
       "      <th></th>\n",
       "    </tr>\n",
       "  </thead>\n",
       "  <tbody>\n",
       "    <tr>\n",
       "      <th>2000-01-01 06:00:00</th>\n",
       "      <td>-0.23</td>\n",
       "      <td>0.00</td>\n",
       "      <td>0.122</td>\n",
       "      <td>NaN</td>\n",
       "      <td>NaN</td>\n",
       "      <td>NaN</td>\n",
       "      <td>NaN</td>\n",
       "      <td>NaN</td>\n",
       "      <td>NaN</td>\n",
       "    </tr>\n",
       "    <tr>\n",
       "      <th>2000-01-01 06:30:00</th>\n",
       "      <td>-0.22</td>\n",
       "      <td>0.00</td>\n",
       "      <td>0.098</td>\n",
       "      <td>-0.23</td>\n",
       "      <td>0.00</td>\n",
       "      <td>0.122</td>\n",
       "      <td>NaN</td>\n",
       "      <td>NaN</td>\n",
       "      <td>NaN</td>\n",
       "    </tr>\n",
       "    <tr>\n",
       "      <th>2000-01-01 07:00:00</th>\n",
       "      <td>-0.24</td>\n",
       "      <td>0.00</td>\n",
       "      <td>0.066</td>\n",
       "      <td>-0.22</td>\n",
       "      <td>0.00</td>\n",
       "      <td>0.098</td>\n",
       "      <td>-0.23</td>\n",
       "      <td>0.00</td>\n",
       "      <td>0.122</td>\n",
       "    </tr>\n",
       "    <tr>\n",
       "      <th>2000-01-01 07:30:00</th>\n",
       "      <td>-0.23</td>\n",
       "      <td>0.00</td>\n",
       "      <td>0.044</td>\n",
       "      <td>-0.24</td>\n",
       "      <td>0.00</td>\n",
       "      <td>0.066</td>\n",
       "      <td>-0.22</td>\n",
       "      <td>0.00</td>\n",
       "      <td>0.098</td>\n",
       "    </tr>\n",
       "    <tr>\n",
       "      <th>2000-01-01 08:00:00</th>\n",
       "      <td>-0.22</td>\n",
       "      <td>0.00</td>\n",
       "      <td>0.026</td>\n",
       "      <td>-0.23</td>\n",
       "      <td>0.00</td>\n",
       "      <td>0.044</td>\n",
       "      <td>-0.24</td>\n",
       "      <td>0.00</td>\n",
       "      <td>0.066</td>\n",
       "    </tr>\n",
       "    <tr>\n",
       "      <th>2000-01-01 08:30:00</th>\n",
       "      <td>-0.19</td>\n",
       "      <td>0.45</td>\n",
       "      <td>0.016</td>\n",
       "      <td>-0.22</td>\n",
       "      <td>0.00</td>\n",
       "      <td>0.026</td>\n",
       "      <td>-0.23</td>\n",
       "      <td>0.00</td>\n",
       "      <td>0.044</td>\n",
       "    </tr>\n",
       "    <tr>\n",
       "      <th>2000-01-01 09:00:00</th>\n",
       "      <td>-0.14</td>\n",
       "      <td>3.70</td>\n",
       "      <td>0.010</td>\n",
       "      <td>-0.19</td>\n",
       "      <td>0.45</td>\n",
       "      <td>0.016</td>\n",
       "      <td>-0.22</td>\n",
       "      <td>0.00</td>\n",
       "      <td>0.026</td>\n",
       "    </tr>\n",
       "    <tr>\n",
       "      <th>2000-01-01 09:30:00</th>\n",
       "      <td>-0.03</td>\n",
       "      <td>7.26</td>\n",
       "      <td>0.006</td>\n",
       "      <td>-0.14</td>\n",
       "      <td>3.70</td>\n",
       "      <td>0.010</td>\n",
       "      <td>-0.19</td>\n",
       "      <td>0.45</td>\n",
       "      <td>0.016</td>\n",
       "    </tr>\n",
       "    <tr>\n",
       "      <th>2000-01-01 10:00:00</th>\n",
       "      <td>0.04</td>\n",
       "      <td>12.24</td>\n",
       "      <td>0.006</td>\n",
       "      <td>-0.03</td>\n",
       "      <td>7.26</td>\n",
       "      <td>0.006</td>\n",
       "      <td>-0.14</td>\n",
       "      <td>3.70</td>\n",
       "      <td>0.010</td>\n",
       "    </tr>\n",
       "    <tr>\n",
       "      <th>2000-01-01 10:30:00</th>\n",
       "      <td>0.10</td>\n",
       "      <td>16.51</td>\n",
       "      <td>0.006</td>\n",
       "      <td>0.04</td>\n",
       "      <td>12.24</td>\n",
       "      <td>0.006</td>\n",
       "      <td>-0.03</td>\n",
       "      <td>7.26</td>\n",
       "      <td>0.006</td>\n",
       "    </tr>\n",
       "  </tbody>\n",
       "</table>\n",
       "</div>"
      ],
      "text/plain": [
       "                       TA  SW_IN    VPD  TA_lag_1  SW_IN_lag_1  VPD_lag_1  \\\n",
       "time                                                                        \n",
       "2000-01-01 06:00:00 -0.23   0.00  0.122       NaN          NaN        NaN   \n",
       "2000-01-01 06:30:00 -0.22   0.00  0.098     -0.23         0.00      0.122   \n",
       "2000-01-01 07:00:00 -0.24   0.00  0.066     -0.22         0.00      0.098   \n",
       "2000-01-01 07:30:00 -0.23   0.00  0.044     -0.24         0.00      0.066   \n",
       "2000-01-01 08:00:00 -0.22   0.00  0.026     -0.23         0.00      0.044   \n",
       "2000-01-01 08:30:00 -0.19   0.45  0.016     -0.22         0.00      0.026   \n",
       "2000-01-01 09:00:00 -0.14   3.70  0.010     -0.19         0.45      0.016   \n",
       "2000-01-01 09:30:00 -0.03   7.26  0.006     -0.14         3.70      0.010   \n",
       "2000-01-01 10:00:00  0.04  12.24  0.006     -0.03         7.26      0.006   \n",
       "2000-01-01 10:30:00  0.10  16.51  0.006      0.04        12.24      0.006   \n",
       "\n",
       "                     TA_lag_2  SW_IN_lag_2  VPD_lag_2  \n",
       "time                                                   \n",
       "2000-01-01 06:00:00       NaN          NaN        NaN  \n",
       "2000-01-01 06:30:00       NaN          NaN        NaN  \n",
       "2000-01-01 07:00:00     -0.23         0.00      0.122  \n",
       "2000-01-01 07:30:00     -0.22         0.00      0.098  \n",
       "2000-01-01 08:00:00     -0.24         0.00      0.066  \n",
       "2000-01-01 08:30:00     -0.23         0.00      0.044  \n",
       "2000-01-01 09:00:00     -0.22         0.00      0.026  \n",
       "2000-01-01 09:30:00     -0.19         0.45      0.016  \n",
       "2000-01-01 10:00:00     -0.14         3.70      0.010  \n",
       "2000-01-01 10:30:00     -0.03         7.26      0.006  "
      ]
     },
     "execution_count": null,
     "metadata": {},
     "output_type": "execute_result"
    }
   ],
   "source": [
    "_add_lags_df(df, [1,2])"
   ]
  },
  {
   "cell_type": "code",
   "execution_count": null,
   "id": "6f4ad592-bf8d-4bb0-9dbe-e960124c6e18",
   "metadata": {},
   "outputs": [],
   "source": [
    "#| export\n",
    "class BlockDfTransform(Transform):\n",
    "    \"\"\"divide timeseries DataFrame index into blocks\"\"\"\n",
    "    def __init__(self, data: pd.DataFrame, control: pd.DataFrame, control_lags: int|Iterable[int]):\n",
    "        store_attr()\n",
    "        self.control = _add_lags_df(control, control_lags)\n",
    "    def encodes(self, idx: pd.DatetimeIndex) -> DataControl:\n",
    "        return DataControl(self.data.loc[idx], self.control.loc[idx])"
   ]
  },
  {
   "cell_type": "code",
   "execution_count": null,
   "id": "87df7d02-07ed-4e4a-8d41-c4346d00934e",
   "metadata": {},
   "outputs": [],
   "source": [
    "blkdf = BlockDfTransform(hai, hai_era, 1)"
   ]
  },
  {
   "cell_type": "code",
   "execution_count": null,
   "id": "d509607c-4d3c-470f-b235-80286dbabf19",
   "metadata": {},
   "outputs": [
    {
     "data": {
      "text/html": [
       "<p style='font-size: 1.5rem; font-decoration: bold'>Data Control<p><div style=\"display: flex; column-gap: 20px; flex-wrap: wrap;\" class='table table-striped table-sm'> <div> <p style='font-size: 1.3rem;'>data</p> <style type=\"text/css\">\n",
       "</style>\n",
       "<table id=\"T_f7629\">\n",
       "  <thead>\n",
       "    <tr>\n",
       "      <th class=\"blank level0\" >&nbsp;</th>\n",
       "      <th id=\"T_f7629_level0_col0\" class=\"col_heading level0 col0\" >TA</th>\n",
       "      <th id=\"T_f7629_level0_col1\" class=\"col_heading level0 col1\" >SW_IN</th>\n",
       "      <th id=\"T_f7629_level0_col2\" class=\"col_heading level0 col2\" >VPD</th>\n",
       "    </tr>\n",
       "    <tr>\n",
       "      <th class=\"index_name level0\" >time</th>\n",
       "      <th class=\"blank col0\" >&nbsp;</th>\n",
       "      <th class=\"blank col1\" >&nbsp;</th>\n",
       "      <th class=\"blank col2\" >&nbsp;</th>\n",
       "    </tr>\n",
       "  </thead>\n",
       "  <tbody>\n",
       "    <tr>\n",
       "      <th id=\"T_f7629_level0_row0\" class=\"row_heading level0 row0\" >2000-01-01 06:00:00</th>\n",
       "      <td id=\"T_f7629_row0_col0\" class=\"data row0 col0\" >-0.2300</td>\n",
       "      <td id=\"T_f7629_row0_col1\" class=\"data row0 col1\" >0.0000</td>\n",
       "      <td id=\"T_f7629_row0_col2\" class=\"data row0 col2\" >0.1220</td>\n",
       "    </tr>\n",
       "    <tr>\n",
       "      <th id=\"T_f7629_level0_row1\" class=\"row_heading level0 row1\" >2000-01-01 06:30:00</th>\n",
       "      <td id=\"T_f7629_row1_col0\" class=\"data row1 col0\" >-0.2200</td>\n",
       "      <td id=\"T_f7629_row1_col1\" class=\"data row1 col1\" >0.0000</td>\n",
       "      <td id=\"T_f7629_row1_col2\" class=\"data row1 col2\" >0.0980</td>\n",
       "    </tr>\n",
       "    <tr>\n",
       "      <th id=\"T_f7629_level0_row2\" class=\"row_heading level0 row2\" >2000-01-01 07:00:00</th>\n",
       "      <td id=\"T_f7629_row2_col0\" class=\"data row2 col0\" >-0.2400</td>\n",
       "      <td id=\"T_f7629_row2_col1\" class=\"data row2 col1\" >0.0000</td>\n",
       "      <td id=\"T_f7629_row2_col2\" class=\"data row2 col2\" >0.0660</td>\n",
       "    </tr>\n",
       "    <tr>\n",
       "      <th id=\"T_f7629_level0_row3\" class=\"row_heading level0 row3\" >2000-01-01 07:30:00</th>\n",
       "      <td id=\"T_f7629_row3_col0\" class=\"data row3 col0\" >-0.2300</td>\n",
       "      <td id=\"T_f7629_row3_col1\" class=\"data row3 col1\" >0.0000</td>\n",
       "      <td id=\"T_f7629_row3_col2\" class=\"data row3 col2\" >0.0440</td>\n",
       "    </tr>\n",
       "    <tr>\n",
       "      <th id=\"T_f7629_level0_row4\" class=\"row_heading level0 row4\" >2000-01-01 08:00:00</th>\n",
       "      <td id=\"T_f7629_row4_col0\" class=\"data row4 col0\" >-0.2200</td>\n",
       "      <td id=\"T_f7629_row4_col1\" class=\"data row4 col1\" >0.0000</td>\n",
       "      <td id=\"T_f7629_row4_col2\" class=\"data row4 col2\" >0.0260</td>\n",
       "    </tr>\n",
       "    <tr>\n",
       "      <th id=\"T_f7629_level0_row5\" class=\"row_heading level0 row5\" >2000-01-01 08:30:00</th>\n",
       "      <td id=\"T_f7629_row5_col0\" class=\"data row5 col0\" >-0.1900</td>\n",
       "      <td id=\"T_f7629_row5_col1\" class=\"data row5 col1\" >0.4500</td>\n",
       "      <td id=\"T_f7629_row5_col2\" class=\"data row5 col2\" >0.0160</td>\n",
       "    </tr>\n",
       "    <tr>\n",
       "      <th id=\"T_f7629_level0_row6\" class=\"row_heading level0 row6\" >2000-01-01 09:00:00</th>\n",
       "      <td id=\"T_f7629_row6_col0\" class=\"data row6 col0\" >-0.1400</td>\n",
       "      <td id=\"T_f7629_row6_col1\" class=\"data row6 col1\" >3.7000</td>\n",
       "      <td id=\"T_f7629_row6_col2\" class=\"data row6 col2\" >0.0100</td>\n",
       "    </tr>\n",
       "    <tr>\n",
       "      <th id=\"T_f7629_level0_row7\" class=\"row_heading level0 row7\" >2000-01-01 09:30:00</th>\n",
       "      <td id=\"T_f7629_row7_col0\" class=\"data row7 col0\" >-0.0300</td>\n",
       "      <td id=\"T_f7629_row7_col1\" class=\"data row7 col1\" >7.2600</td>\n",
       "      <td id=\"T_f7629_row7_col2\" class=\"data row7 col2\" >0.0060</td>\n",
       "    </tr>\n",
       "    <tr>\n",
       "      <th id=\"T_f7629_level0_row8\" class=\"row_heading level0 row8\" >2000-01-01 10:00:00</th>\n",
       "      <td id=\"T_f7629_row8_col0\" class=\"data row8 col0\" >0.0400</td>\n",
       "      <td id=\"T_f7629_row8_col1\" class=\"data row8 col1\" >12.2400</td>\n",
       "      <td id=\"T_f7629_row8_col2\" class=\"data row8 col2\" >0.0060</td>\n",
       "    </tr>\n",
       "    <tr>\n",
       "      <th id=\"T_f7629_level0_row9\" class=\"row_heading level0 row9\" >2000-01-01 10:30:00</th>\n",
       "      <td id=\"T_f7629_row9_col0\" class=\"data row9 col0\" >0.1000</td>\n",
       "      <td id=\"T_f7629_row9_col1\" class=\"data row9 col1\" >16.5100</td>\n",
       "      <td id=\"T_f7629_row9_col2\" class=\"data row9 col2\" >0.0060</td>\n",
       "    </tr>\n",
       "  </tbody>\n",
       "</table>\n",
       " </div><div> <p style='font-size: 1.3rem;'>control</p> <style type=\"text/css\">\n",
       "</style>\n",
       "<table id=\"T_281dc\">\n",
       "  <thead>\n",
       "    <tr>\n",
       "      <th class=\"blank level0\" >&nbsp;</th>\n",
       "      <th id=\"T_281dc_level0_col0\" class=\"col_heading level0 col0\" >TA_ERA</th>\n",
       "      <th id=\"T_281dc_level0_col1\" class=\"col_heading level0 col1\" >SW_IN_ERA</th>\n",
       "      <th id=\"T_281dc_level0_col2\" class=\"col_heading level0 col2\" >VPD_ERA</th>\n",
       "      <th id=\"T_281dc_level0_col3\" class=\"col_heading level0 col3\" >TA_ERA_lag_1</th>\n",
       "      <th id=\"T_281dc_level0_col4\" class=\"col_heading level0 col4\" >SW_IN_ERA_lag_1</th>\n",
       "      <th id=\"T_281dc_level0_col5\" class=\"col_heading level0 col5\" >VPD_ERA_lag_1</th>\n",
       "    </tr>\n",
       "    <tr>\n",
       "      <th class=\"index_name level0\" >time</th>\n",
       "      <th class=\"blank col0\" >&nbsp;</th>\n",
       "      <th class=\"blank col1\" >&nbsp;</th>\n",
       "      <th class=\"blank col2\" >&nbsp;</th>\n",
       "      <th class=\"blank col3\" >&nbsp;</th>\n",
       "      <th class=\"blank col4\" >&nbsp;</th>\n",
       "      <th class=\"blank col5\" >&nbsp;</th>\n",
       "    </tr>\n",
       "  </thead>\n",
       "  <tbody>\n",
       "    <tr>\n",
       "      <th id=\"T_281dc_level0_row0\" class=\"row_heading level0 row0\" >2000-01-01 06:00:00</th>\n",
       "      <td id=\"T_281dc_row0_col0\" class=\"data row0 col0\" >-0.2800</td>\n",
       "      <td id=\"T_281dc_row0_col1\" class=\"data row0 col1\" >0.0000</td>\n",
       "      <td id=\"T_281dc_row0_col2\" class=\"data row0 col2\" >0.5010</td>\n",
       "      <td id=\"T_281dc_row0_col3\" class=\"data row0 col3\" >-0.3490</td>\n",
       "      <td id=\"T_281dc_row0_col4\" class=\"data row0 col4\" >0.0000</td>\n",
       "      <td id=\"T_281dc_row0_col5\" class=\"data row0 col5\" >0.4970</td>\n",
       "    </tr>\n",
       "    <tr>\n",
       "      <th id=\"T_281dc_level0_row1\" class=\"row_heading level0 row1\" >2000-01-01 06:30:00</th>\n",
       "      <td id=\"T_281dc_row1_col0\" class=\"data row1 col0\" >-0.2110</td>\n",
       "      <td id=\"T_281dc_row1_col1\" class=\"data row1 col1\" >0.0000</td>\n",
       "      <td id=\"T_281dc_row1_col2\" class=\"data row1 col2\" >0.5060</td>\n",
       "      <td id=\"T_281dc_row1_col3\" class=\"data row1 col3\" >-0.2800</td>\n",
       "      <td id=\"T_281dc_row1_col4\" class=\"data row1 col4\" >0.0000</td>\n",
       "      <td id=\"T_281dc_row1_col5\" class=\"data row1 col5\" >0.5010</td>\n",
       "    </tr>\n",
       "    <tr>\n",
       "      <th id=\"T_281dc_level0_row2\" class=\"row_heading level0 row2\" >2000-01-01 07:00:00</th>\n",
       "      <td id=\"T_281dc_row2_col0\" class=\"data row2 col0\" >-0.1420</td>\n",
       "      <td id=\"T_281dc_row2_col1\" class=\"data row2 col1\" >0.0000</td>\n",
       "      <td id=\"T_281dc_row2_col2\" class=\"data row2 col2\" >0.5100</td>\n",
       "      <td id=\"T_281dc_row2_col3\" class=\"data row2 col3\" >-0.2110</td>\n",
       "      <td id=\"T_281dc_row2_col4\" class=\"data row2 col4\" >0.0000</td>\n",
       "      <td id=\"T_281dc_row2_col5\" class=\"data row2 col5\" >0.5060</td>\n",
       "    </tr>\n",
       "    <tr>\n",
       "      <th id=\"T_281dc_level0_row3\" class=\"row_heading level0 row3\" >2000-01-01 07:30:00</th>\n",
       "      <td id=\"T_281dc_row3_col0\" class=\"data row3 col0\" >-0.0740</td>\n",
       "      <td id=\"T_281dc_row3_col1\" class=\"data row3 col1\" >0.0000</td>\n",
       "      <td id=\"T_281dc_row3_col2\" class=\"data row3 col2\" >0.5150</td>\n",
       "      <td id=\"T_281dc_row3_col3\" class=\"data row3 col3\" >-0.1420</td>\n",
       "      <td id=\"T_281dc_row3_col4\" class=\"data row3 col4\" >0.0000</td>\n",
       "      <td id=\"T_281dc_row3_col5\" class=\"data row3 col5\" >0.5100</td>\n",
       "    </tr>\n",
       "    <tr>\n",
       "      <th id=\"T_281dc_level0_row4\" class=\"row_heading level0 row4\" >2000-01-01 08:00:00</th>\n",
       "      <td id=\"T_281dc_row4_col0\" class=\"data row4 col0\" >0.0440</td>\n",
       "      <td id=\"T_281dc_row4_col1\" class=\"data row4 col1\" >0.0000</td>\n",
       "      <td id=\"T_281dc_row4_col2\" class=\"data row4 col2\" >0.5270</td>\n",
       "      <td id=\"T_281dc_row4_col3\" class=\"data row4 col3\" >-0.0740</td>\n",
       "      <td id=\"T_281dc_row4_col4\" class=\"data row4 col4\" >0.0000</td>\n",
       "      <td id=\"T_281dc_row4_col5\" class=\"data row4 col5\" >0.5150</td>\n",
       "    </tr>\n",
       "    <tr>\n",
       "      <th id=\"T_281dc_level0_row5\" class=\"row_heading level0 row5\" >2000-01-01 08:30:00</th>\n",
       "      <td id=\"T_281dc_row5_col0\" class=\"data row5 col0\" >0.1610</td>\n",
       "      <td id=\"T_281dc_row5_col1\" class=\"data row5 col1\" >0.0000</td>\n",
       "      <td id=\"T_281dc_row5_col2\" class=\"data row5 col2\" >0.5390</td>\n",
       "      <td id=\"T_281dc_row5_col3\" class=\"data row5 col3\" >0.0440</td>\n",
       "      <td id=\"T_281dc_row5_col4\" class=\"data row5 col4\" >0.0000</td>\n",
       "      <td id=\"T_281dc_row5_col5\" class=\"data row5 col5\" >0.5270</td>\n",
       "    </tr>\n",
       "    <tr>\n",
       "      <th id=\"T_281dc_level0_row6\" class=\"row_heading level0 row6\" >2000-01-01 09:00:00</th>\n",
       "      <td id=\"T_281dc_row6_col0\" class=\"data row6 col0\" >0.2790</td>\n",
       "      <td id=\"T_281dc_row6_col1\" class=\"data row6 col1\" >2.6550</td>\n",
       "      <td id=\"T_281dc_row6_col2\" class=\"data row6 col2\" >0.5510</td>\n",
       "      <td id=\"T_281dc_row6_col3\" class=\"data row6 col3\" >0.1610</td>\n",
       "      <td id=\"T_281dc_row6_col4\" class=\"data row6 col4\" >0.0000</td>\n",
       "      <td id=\"T_281dc_row6_col5\" class=\"data row6 col5\" >0.5390</td>\n",
       "    </tr>\n",
       "    <tr>\n",
       "      <th id=\"T_281dc_level0_row7\" class=\"row_heading level0 row7\" >2000-01-01 09:30:00</th>\n",
       "      <td id=\"T_281dc_row7_col0\" class=\"data row7 col0\" >0.3960</td>\n",
       "      <td id=\"T_281dc_row7_col1\" class=\"data row7 col1\" >7.0800</td>\n",
       "      <td id=\"T_281dc_row7_col2\" class=\"data row7 col2\" >0.5630</td>\n",
       "      <td id=\"T_281dc_row7_col3\" class=\"data row7 col3\" >0.2790</td>\n",
       "      <td id=\"T_281dc_row7_col4\" class=\"data row7 col4\" >2.6550</td>\n",
       "      <td id=\"T_281dc_row7_col5\" class=\"data row7 col5\" >0.5510</td>\n",
       "    </tr>\n",
       "    <tr>\n",
       "      <th id=\"T_281dc_level0_row8\" class=\"row_heading level0 row8\" >2000-01-01 10:00:00</th>\n",
       "      <td id=\"T_281dc_row8_col0\" class=\"data row8 col0\" >0.5140</td>\n",
       "      <td id=\"T_281dc_row8_col1\" class=\"data row8 col1\" >10.9880</td>\n",
       "      <td id=\"T_281dc_row8_col2\" class=\"data row8 col2\" >0.5750</td>\n",
       "      <td id=\"T_281dc_row8_col3\" class=\"data row8 col3\" >0.3960</td>\n",
       "      <td id=\"T_281dc_row8_col4\" class=\"data row8 col4\" >7.0800</td>\n",
       "      <td id=\"T_281dc_row8_col5\" class=\"data row8 col5\" >0.5630</td>\n",
       "    </tr>\n",
       "    <tr>\n",
       "      <th id=\"T_281dc_level0_row9\" class=\"row_heading level0 row9\" >2000-01-01 10:30:00</th>\n",
       "      <td id=\"T_281dc_row9_col0\" class=\"data row9 col0\" >0.6310</td>\n",
       "      <td id=\"T_281dc_row9_col1\" class=\"data row9 col1\" >18.0120</td>\n",
       "      <td id=\"T_281dc_row9_col2\" class=\"data row9 col2\" >0.5860</td>\n",
       "      <td id=\"T_281dc_row9_col3\" class=\"data row9 col3\" >0.5140</td>\n",
       "      <td id=\"T_281dc_row9_col4\" class=\"data row9 col4\" >10.9880</td>\n",
       "      <td id=\"T_281dc_row9_col5\" class=\"data row9 col5\" >0.5750</td>\n",
       "    </tr>\n",
       "  </tbody>\n",
       "</table>\n",
       " </div></div>"
      ],
      "text/plain": [
       "DataControl(data=                       TA  SW_IN    VPD\n",
       "time                                   \n",
       "2000-01-01 06:00:00 -0.23   0.00  0.122\n",
       "2000-01-01 06:30:00 -0.22   0.00  0.098\n",
       "2000-01-01 07:00:00 -0.24   0.00  0.066\n",
       "2000-01-01 07:30:00 -0.23   0.00  0.044\n",
       "2000-01-01 08:00:00 -0.22   0.00  0.026\n",
       "2000-01-01 08:30:00 -0.19   0.45  0.016\n",
       "2000-01-01 09:00:00 -0.14   3.70  0.010\n",
       "2000-01-01 09:30:00 -0.03   7.26  0.006\n",
       "2000-01-01 10:00:00  0.04  12.24  0.006\n",
       "2000-01-01 10:30:00  0.10  16.51  0.006, control=                     TA_ERA  SW_IN_ERA  VPD_ERA  TA_ERA_lag_1  \\\n",
       "time                                                            \n",
       "2000-01-01 06:00:00  -0.280   0.000000    0.501        -0.349   \n",
       "2000-01-01 06:30:00  -0.211   0.000000    0.506        -0.280   \n",
       "2000-01-01 07:00:00  -0.142   0.000000    0.510        -0.211   \n",
       "2000-01-01 07:30:00  -0.074   0.000000    0.515        -0.142   \n",
       "2000-01-01 08:00:00   0.044   0.000000    0.527        -0.074   \n",
       "2000-01-01 08:30:00   0.161   0.000000    0.539         0.044   \n",
       "2000-01-01 09:00:00   0.279   2.655000    0.551         0.161   \n",
       "2000-01-01 09:30:00   0.396   7.080000    0.563         0.279   \n",
       "2000-01-01 10:00:00   0.514  10.988000    0.575         0.396   \n",
       "2000-01-01 10:30:00   0.631  18.011999    0.586         0.514   \n",
       "\n",
       "                     SW_IN_ERA_lag_1  VPD_ERA_lag_1  \n",
       "time                                                 \n",
       "2000-01-01 06:00:00            0.000          0.497  \n",
       "2000-01-01 06:30:00            0.000          0.501  \n",
       "2000-01-01 07:00:00            0.000          0.506  \n",
       "2000-01-01 07:30:00            0.000          0.510  \n",
       "2000-01-01 08:00:00            0.000          0.515  \n",
       "2000-01-01 08:30:00            0.000          0.527  \n",
       "2000-01-01 09:00:00            0.000          0.539  \n",
       "2000-01-01 09:30:00            2.655          0.551  \n",
       "2000-01-01 10:00:00            7.080          0.563  \n",
       "2000-01-01 10:30:00           10.988          0.575  )"
      ]
     },
     "execution_count": null,
     "metadata": {},
     "output_type": "execute_result"
    }
   ],
   "source": [
    "blkdf(blk(1))"
   ]
  },
  {
   "cell_type": "markdown",
   "id": "7b7c57e7-4ebb-46b9-a89d-ec980277ae67",
   "metadata": {},
   "source": [
    "taking a day in the summer so there is an higher values for the variables"
   ]
  },
  {
   "cell_type": "code",
   "execution_count": null,
   "id": "57479bbb-1a76-44d1-af82-0d3666d2ae7d",
   "metadata": {},
   "outputs": [
    {
     "data": {
      "text/html": [
       "<div>\n",
       "<style scoped>\n",
       "    .dataframe tbody tr th:only-of-type {\n",
       "        vertical-align: middle;\n",
       "    }\n",
       "\n",
       "    .dataframe tbody tr th {\n",
       "        vertical-align: top;\n",
       "    }\n",
       "\n",
       "    .dataframe thead th {\n",
       "        text-align: right;\n",
       "    }\n",
       "</style>\n",
       "<table border=\"1\" class=\"dataframe\">\n",
       "  <thead>\n",
       "    <tr style=\"text-align: right;\">\n",
       "      <th></th>\n",
       "      <th>TA</th>\n",
       "      <th>SW_IN</th>\n",
       "      <th>VPD</th>\n",
       "    </tr>\n",
       "    <tr>\n",
       "      <th>time</th>\n",
       "      <th></th>\n",
       "      <th></th>\n",
       "      <th></th>\n",
       "    </tr>\n",
       "  </thead>\n",
       "  <tbody>\n",
       "    <tr>\n",
       "      <th>2000-06-15 17:00:00</th>\n",
       "      <td>14.22</td>\n",
       "      <td>224.800003</td>\n",
       "      <td>5.799</td>\n",
       "    </tr>\n",
       "    <tr>\n",
       "      <th>2000-06-15 17:30:00</th>\n",
       "      <td>14.11</td>\n",
       "      <td>195.279999</td>\n",
       "      <td>6.577</td>\n",
       "    </tr>\n",
       "    <tr>\n",
       "      <th>2000-06-15 18:00:00</th>\n",
       "      <td>14.23</td>\n",
       "      <td>244.169998</td>\n",
       "      <td>6.931</td>\n",
       "    </tr>\n",
       "    <tr>\n",
       "      <th>2000-06-15 18:30:00</th>\n",
       "      <td>14.40</td>\n",
       "      <td>253.919998</td>\n",
       "      <td>7.286</td>\n",
       "    </tr>\n",
       "    <tr>\n",
       "      <th>2000-06-15 19:00:00</th>\n",
       "      <td>14.09</td>\n",
       "      <td>177.309998</td>\n",
       "      <td>7.251</td>\n",
       "    </tr>\n",
       "    <tr>\n",
       "      <th>2000-06-15 19:30:00</th>\n",
       "      <td>13.71</td>\n",
       "      <td>97.070000</td>\n",
       "      <td>6.683</td>\n",
       "    </tr>\n",
       "    <tr>\n",
       "      <th>2000-06-15 20:00:00</th>\n",
       "      <td>13.08</td>\n",
       "      <td>39.709999</td>\n",
       "      <td>5.851</td>\n",
       "    </tr>\n",
       "    <tr>\n",
       "      <th>2000-06-15 20:30:00</th>\n",
       "      <td>12.41</td>\n",
       "      <td>10.650000</td>\n",
       "      <td>5.254</td>\n",
       "    </tr>\n",
       "    <tr>\n",
       "      <th>2000-06-15 21:00:00</th>\n",
       "      <td>12.27</td>\n",
       "      <td>0.320000</td>\n",
       "      <td>5.164</td>\n",
       "    </tr>\n",
       "    <tr>\n",
       "      <th>2000-06-15 21:30:00</th>\n",
       "      <td>12.20</td>\n",
       "      <td>0.000000</td>\n",
       "      <td>5.037</td>\n",
       "    </tr>\n",
       "  </tbody>\n",
       "</table>\n",
       "</div>"
      ],
      "text/plain": [
       "                        TA       SW_IN    VPD\n",
       "time                                         \n",
       "2000-06-15 17:00:00  14.22  224.800003  5.799\n",
       "2000-06-15 17:30:00  14.11  195.279999  6.577\n",
       "2000-06-15 18:00:00  14.23  244.169998  6.931\n",
       "2000-06-15 18:30:00  14.40  253.919998  7.286\n",
       "2000-06-15 19:00:00  14.09  177.309998  7.251\n",
       "2000-06-15 19:30:00  13.71   97.070000  6.683\n",
       "2000-06-15 20:00:00  13.08   39.709999  5.851\n",
       "2000-06-15 20:30:00  12.41   10.650000  5.254\n",
       "2000-06-15 21:00:00  12.27    0.320000  5.164\n",
       "2000-06-15 21:30:00  12.20    0.000000  5.037"
      ]
     },
     "execution_count": null,
     "metadata": {},
     "output_type": "execute_result"
    }
   ],
   "source": [
    "blkdf(blk(800)).data"
   ]
  },
  {
   "cell_type": "code",
   "execution_count": null,
   "id": "0cf65769-4e52-4e14-be29-624cf4d82167",
   "metadata": {},
   "outputs": [],
   "source": [
    "tfms1 = TfmdLists([800,801,802,803], [BlockIndexTransform(hai.index, 10), BlockDfTransform(hai, hai_era, control_lags=1)])"
   ]
  },
  {
   "cell_type": "code",
   "execution_count": null,
   "id": "c8c1ec1e-810f-477f-8bb9-4eaebc2102e3",
   "metadata": {},
   "outputs": [
    {
     "data": {
      "text/html": [
       "<p style='font-size: 1.5rem; font-decoration: bold'>Data Control<p><div style=\"display: flex; column-gap: 20px; flex-wrap: wrap;\" class='table table-striped table-sm'> <div> <p style='font-size: 1.3rem;'>data</p> <style type=\"text/css\">\n",
       "</style>\n",
       "<table id=\"T_178b7\">\n",
       "  <thead>\n",
       "    <tr>\n",
       "      <th class=\"blank level0\" >&nbsp;</th>\n",
       "      <th id=\"T_178b7_level0_col0\" class=\"col_heading level0 col0\" >TA</th>\n",
       "      <th id=\"T_178b7_level0_col1\" class=\"col_heading level0 col1\" >SW_IN</th>\n",
       "      <th id=\"T_178b7_level0_col2\" class=\"col_heading level0 col2\" >VPD</th>\n",
       "    </tr>\n",
       "    <tr>\n",
       "      <th class=\"index_name level0\" >time</th>\n",
       "      <th class=\"blank col0\" >&nbsp;</th>\n",
       "      <th class=\"blank col1\" >&nbsp;</th>\n",
       "      <th class=\"blank col2\" >&nbsp;</th>\n",
       "    </tr>\n",
       "  </thead>\n",
       "  <tbody>\n",
       "    <tr>\n",
       "      <th id=\"T_178b7_level0_row0\" class=\"row_heading level0 row0\" >2000-06-15 17:00:00</th>\n",
       "      <td id=\"T_178b7_row0_col0\" class=\"data row0 col0\" >14.2200</td>\n",
       "      <td id=\"T_178b7_row0_col1\" class=\"data row0 col1\" >224.8000</td>\n",
       "      <td id=\"T_178b7_row0_col2\" class=\"data row0 col2\" >5.7990</td>\n",
       "    </tr>\n",
       "    <tr>\n",
       "      <th id=\"T_178b7_level0_row1\" class=\"row_heading level0 row1\" >2000-06-15 17:30:00</th>\n",
       "      <td id=\"T_178b7_row1_col0\" class=\"data row1 col0\" >14.1100</td>\n",
       "      <td id=\"T_178b7_row1_col1\" class=\"data row1 col1\" >195.2800</td>\n",
       "      <td id=\"T_178b7_row1_col2\" class=\"data row1 col2\" >6.5770</td>\n",
       "    </tr>\n",
       "    <tr>\n",
       "      <th id=\"T_178b7_level0_row2\" class=\"row_heading level0 row2\" >2000-06-15 18:00:00</th>\n",
       "      <td id=\"T_178b7_row2_col0\" class=\"data row2 col0\" >14.2300</td>\n",
       "      <td id=\"T_178b7_row2_col1\" class=\"data row2 col1\" >244.1700</td>\n",
       "      <td id=\"T_178b7_row2_col2\" class=\"data row2 col2\" >6.9310</td>\n",
       "    </tr>\n",
       "    <tr>\n",
       "      <th id=\"T_178b7_level0_row3\" class=\"row_heading level0 row3\" >2000-06-15 18:30:00</th>\n",
       "      <td id=\"T_178b7_row3_col0\" class=\"data row3 col0\" >14.4000</td>\n",
       "      <td id=\"T_178b7_row3_col1\" class=\"data row3 col1\" >253.9200</td>\n",
       "      <td id=\"T_178b7_row3_col2\" class=\"data row3 col2\" >7.2860</td>\n",
       "    </tr>\n",
       "    <tr>\n",
       "      <th id=\"T_178b7_level0_row4\" class=\"row_heading level0 row4\" >2000-06-15 19:00:00</th>\n",
       "      <td id=\"T_178b7_row4_col0\" class=\"data row4 col0\" >14.0900</td>\n",
       "      <td id=\"T_178b7_row4_col1\" class=\"data row4 col1\" >177.3100</td>\n",
       "      <td id=\"T_178b7_row4_col2\" class=\"data row4 col2\" >7.2510</td>\n",
       "    </tr>\n",
       "    <tr>\n",
       "      <th id=\"T_178b7_level0_row5\" class=\"row_heading level0 row5\" >2000-06-15 19:30:00</th>\n",
       "      <td id=\"T_178b7_row5_col0\" class=\"data row5 col0\" >13.7100</td>\n",
       "      <td id=\"T_178b7_row5_col1\" class=\"data row5 col1\" >97.0700</td>\n",
       "      <td id=\"T_178b7_row5_col2\" class=\"data row5 col2\" >6.6830</td>\n",
       "    </tr>\n",
       "    <tr>\n",
       "      <th id=\"T_178b7_level0_row6\" class=\"row_heading level0 row6\" >2000-06-15 20:00:00</th>\n",
       "      <td id=\"T_178b7_row6_col0\" class=\"data row6 col0\" >13.0800</td>\n",
       "      <td id=\"T_178b7_row6_col1\" class=\"data row6 col1\" >39.7100</td>\n",
       "      <td id=\"T_178b7_row6_col2\" class=\"data row6 col2\" >5.8510</td>\n",
       "    </tr>\n",
       "    <tr>\n",
       "      <th id=\"T_178b7_level0_row7\" class=\"row_heading level0 row7\" >2000-06-15 20:30:00</th>\n",
       "      <td id=\"T_178b7_row7_col0\" class=\"data row7 col0\" >12.4100</td>\n",
       "      <td id=\"T_178b7_row7_col1\" class=\"data row7 col1\" >10.6500</td>\n",
       "      <td id=\"T_178b7_row7_col2\" class=\"data row7 col2\" >5.2540</td>\n",
       "    </tr>\n",
       "    <tr>\n",
       "      <th id=\"T_178b7_level0_row8\" class=\"row_heading level0 row8\" >2000-06-15 21:00:00</th>\n",
       "      <td id=\"T_178b7_row8_col0\" class=\"data row8 col0\" >12.2700</td>\n",
       "      <td id=\"T_178b7_row8_col1\" class=\"data row8 col1\" >0.3200</td>\n",
       "      <td id=\"T_178b7_row8_col2\" class=\"data row8 col2\" >5.1640</td>\n",
       "    </tr>\n",
       "    <tr>\n",
       "      <th id=\"T_178b7_level0_row9\" class=\"row_heading level0 row9\" >2000-06-15 21:30:00</th>\n",
       "      <td id=\"T_178b7_row9_col0\" class=\"data row9 col0\" >12.2000</td>\n",
       "      <td id=\"T_178b7_row9_col1\" class=\"data row9 col1\" >0.0000</td>\n",
       "      <td id=\"T_178b7_row9_col2\" class=\"data row9 col2\" >5.0370</td>\n",
       "    </tr>\n",
       "  </tbody>\n",
       "</table>\n",
       " </div><div> <p style='font-size: 1.3rem;'>control</p> <style type=\"text/css\">\n",
       "</style>\n",
       "<table id=\"T_3ff35\">\n",
       "  <thead>\n",
       "    <tr>\n",
       "      <th class=\"blank level0\" >&nbsp;</th>\n",
       "      <th id=\"T_3ff35_level0_col0\" class=\"col_heading level0 col0\" >TA_ERA</th>\n",
       "      <th id=\"T_3ff35_level0_col1\" class=\"col_heading level0 col1\" >SW_IN_ERA</th>\n",
       "      <th id=\"T_3ff35_level0_col2\" class=\"col_heading level0 col2\" >VPD_ERA</th>\n",
       "      <th id=\"T_3ff35_level0_col3\" class=\"col_heading level0 col3\" >TA_ERA_lag_1</th>\n",
       "      <th id=\"T_3ff35_level0_col4\" class=\"col_heading level0 col4\" >SW_IN_ERA_lag_1</th>\n",
       "      <th id=\"T_3ff35_level0_col5\" class=\"col_heading level0 col5\" >VPD_ERA_lag_1</th>\n",
       "    </tr>\n",
       "    <tr>\n",
       "      <th class=\"index_name level0\" >time</th>\n",
       "      <th class=\"blank col0\" >&nbsp;</th>\n",
       "      <th class=\"blank col1\" >&nbsp;</th>\n",
       "      <th class=\"blank col2\" >&nbsp;</th>\n",
       "      <th class=\"blank col3\" >&nbsp;</th>\n",
       "      <th class=\"blank col4\" >&nbsp;</th>\n",
       "      <th class=\"blank col5\" >&nbsp;</th>\n",
       "    </tr>\n",
       "  </thead>\n",
       "  <tbody>\n",
       "    <tr>\n",
       "      <th id=\"T_3ff35_level0_row0\" class=\"row_heading level0 row0\" >2000-06-15 17:00:00</th>\n",
       "      <td id=\"T_3ff35_row0_col0\" class=\"data row0 col0\" >15.0500</td>\n",
       "      <td id=\"T_3ff35_row0_col1\" class=\"data row0 col1\" >255.1930</td>\n",
       "      <td id=\"T_3ff35_row0_col2\" class=\"data row0 col2\" >5.1020</td>\n",
       "      <td id=\"T_3ff35_row0_col3\" class=\"data row0 col3\" >15.1390</td>\n",
       "      <td id=\"T_3ff35_row0_col4\" class=\"data row0 col4\" >287.1000</td>\n",
       "      <td id=\"T_3ff35_row0_col5\" class=\"data row0 col5\" >4.9000</td>\n",
       "    </tr>\n",
       "    <tr>\n",
       "      <th id=\"T_3ff35_level0_row1\" class=\"row_heading level0 row1\" >2000-06-15 17:30:00</th>\n",
       "      <td id=\"T_3ff35_row1_col0\" class=\"data row1 col0\" >14.9610</td>\n",
       "      <td id=\"T_3ff35_row1_col1\" class=\"data row1 col1\" >221.4270</td>\n",
       "      <td id=\"T_3ff35_row1_col2\" class=\"data row1 col2\" >5.3050</td>\n",
       "      <td id=\"T_3ff35_row1_col3\" class=\"data row1 col3\" >15.0500</td>\n",
       "      <td id=\"T_3ff35_row1_col4\" class=\"data row1 col4\" >255.1930</td>\n",
       "      <td id=\"T_3ff35_row1_col5\" class=\"data row1 col5\" >5.1020</td>\n",
       "    </tr>\n",
       "    <tr>\n",
       "      <th id=\"T_3ff35_level0_row2\" class=\"row_heading level0 row2\" >2000-06-15 18:00:00</th>\n",
       "      <td id=\"T_3ff35_row2_col0\" class=\"data row2 col0\" >14.8720</td>\n",
       "      <td id=\"T_3ff35_row2_col1\" class=\"data row2 col1\" >186.3800</td>\n",
       "      <td id=\"T_3ff35_row2_col2\" class=\"data row2 col2\" >5.5070</td>\n",
       "      <td id=\"T_3ff35_row2_col3\" class=\"data row2 col3\" >14.9610</td>\n",
       "      <td id=\"T_3ff35_row2_col4\" class=\"data row2 col4\" >221.4270</td>\n",
       "      <td id=\"T_3ff35_row2_col5\" class=\"data row2 col5\" >5.3050</td>\n",
       "    </tr>\n",
       "    <tr>\n",
       "      <th id=\"T_3ff35_level0_row3\" class=\"row_heading level0 row3\" >2000-06-15 18:30:00</th>\n",
       "      <td id=\"T_3ff35_row3_col0\" class=\"data row3 col0\" >14.7830</td>\n",
       "      <td id=\"T_3ff35_row3_col1\" class=\"data row3 col1\" >150.6500</td>\n",
       "      <td id=\"T_3ff35_row3_col2\" class=\"data row3 col2\" >5.7100</td>\n",
       "      <td id=\"T_3ff35_row3_col3\" class=\"data row3 col3\" >14.8720</td>\n",
       "      <td id=\"T_3ff35_row3_col4\" class=\"data row3 col4\" >186.3800</td>\n",
       "      <td id=\"T_3ff35_row3_col5\" class=\"data row3 col5\" >5.5070</td>\n",
       "    </tr>\n",
       "    <tr>\n",
       "      <th id=\"T_3ff35_level0_row4\" class=\"row_heading level0 row4\" >2000-06-15 19:00:00</th>\n",
       "      <td id=\"T_3ff35_row4_col0\" class=\"data row4 col0\" >14.6940</td>\n",
       "      <td id=\"T_3ff35_row4_col1\" class=\"data row4 col1\" >114.8490</td>\n",
       "      <td id=\"T_3ff35_row4_col2\" class=\"data row4 col2\" >5.9120</td>\n",
       "      <td id=\"T_3ff35_row4_col3\" class=\"data row4 col3\" >14.7830</td>\n",
       "      <td id=\"T_3ff35_row4_col4\" class=\"data row4 col4\" >150.6500</td>\n",
       "      <td id=\"T_3ff35_row4_col5\" class=\"data row4 col5\" >5.7100</td>\n",
       "    </tr>\n",
       "    <tr>\n",
       "      <th id=\"T_3ff35_level0_row5\" class=\"row_heading level0 row5\" >2000-06-15 19:30:00</th>\n",
       "      <td id=\"T_3ff35_row5_col0\" class=\"data row5 col0\" >14.6060</td>\n",
       "      <td id=\"T_3ff35_row5_col1\" class=\"data row5 col1\" >34.7280</td>\n",
       "      <td id=\"T_3ff35_row5_col2\" class=\"data row5 col2\" >6.1140</td>\n",
       "      <td id=\"T_3ff35_row5_col3\" class=\"data row5 col3\" >14.6940</td>\n",
       "      <td id=\"T_3ff35_row5_col4\" class=\"data row5 col4\" >114.8490</td>\n",
       "      <td id=\"T_3ff35_row5_col5\" class=\"data row5 col5\" >5.9120</td>\n",
       "    </tr>\n",
       "    <tr>\n",
       "      <th id=\"T_3ff35_level0_row6\" class=\"row_heading level0 row6\" >2000-06-15 20:00:00</th>\n",
       "      <td id=\"T_3ff35_row6_col0\" class=\"data row6 col0\" >14.3800</td>\n",
       "      <td id=\"T_3ff35_row6_col1\" class=\"data row6 col1\" >19.8430</td>\n",
       "      <td id=\"T_3ff35_row6_col2\" class=\"data row6 col2\" >6.0740</td>\n",
       "      <td id=\"T_3ff35_row6_col3\" class=\"data row6 col3\" >14.6060</td>\n",
       "      <td id=\"T_3ff35_row6_col4\" class=\"data row6 col4\" >34.7280</td>\n",
       "      <td id=\"T_3ff35_row6_col5\" class=\"data row6 col5\" >6.1140</td>\n",
       "    </tr>\n",
       "    <tr>\n",
       "      <th id=\"T_3ff35_level0_row7\" class=\"row_heading level0 row7\" >2000-06-15 20:30:00</th>\n",
       "      <td id=\"T_3ff35_row7_col0\" class=\"data row7 col0\" >14.1550</td>\n",
       "      <td id=\"T_3ff35_row7_col1\" class=\"data row7 col1\" >5.7120</td>\n",
       "      <td id=\"T_3ff35_row7_col2\" class=\"data row7 col2\" >6.0340</td>\n",
       "      <td id=\"T_3ff35_row7_col3\" class=\"data row7 col3\" >14.3800</td>\n",
       "      <td id=\"T_3ff35_row7_col4\" class=\"data row7 col4\" >19.8430</td>\n",
       "      <td id=\"T_3ff35_row7_col5\" class=\"data row7 col5\" >6.0740</td>\n",
       "    </tr>\n",
       "    <tr>\n",
       "      <th id=\"T_3ff35_level0_row8\" class=\"row_heading level0 row8\" >2000-06-15 21:00:00</th>\n",
       "      <td id=\"T_3ff35_row8_col0\" class=\"data row8 col0\" >13.9290</td>\n",
       "      <td id=\"T_3ff35_row8_col1\" class=\"data row8 col1\" >0.0000</td>\n",
       "      <td id=\"T_3ff35_row8_col2\" class=\"data row8 col2\" >5.9940</td>\n",
       "      <td id=\"T_3ff35_row8_col3\" class=\"data row8 col3\" >14.1550</td>\n",
       "      <td id=\"T_3ff35_row8_col4\" class=\"data row8 col4\" >5.7120</td>\n",
       "      <td id=\"T_3ff35_row8_col5\" class=\"data row8 col5\" >6.0340</td>\n",
       "    </tr>\n",
       "    <tr>\n",
       "      <th id=\"T_3ff35_level0_row9\" class=\"row_heading level0 row9\" >2000-06-15 21:30:00</th>\n",
       "      <td id=\"T_3ff35_row9_col0\" class=\"data row9 col0\" >13.7040</td>\n",
       "      <td id=\"T_3ff35_row9_col1\" class=\"data row9 col1\" >0.0000</td>\n",
       "      <td id=\"T_3ff35_row9_col2\" class=\"data row9 col2\" >5.9540</td>\n",
       "      <td id=\"T_3ff35_row9_col3\" class=\"data row9 col3\" >13.9290</td>\n",
       "      <td id=\"T_3ff35_row9_col4\" class=\"data row9 col4\" >0.0000</td>\n",
       "      <td id=\"T_3ff35_row9_col5\" class=\"data row9 col5\" >5.9940</td>\n",
       "    </tr>\n",
       "  </tbody>\n",
       "</table>\n",
       " </div></div>"
      ],
      "text/plain": [
       "DataControl(data=                        TA       SW_IN    VPD\n",
       "time                                         \n",
       "2000-06-15 17:00:00  14.22  224.800003  5.799\n",
       "2000-06-15 17:30:00  14.11  195.279999  6.577\n",
       "2000-06-15 18:00:00  14.23  244.169998  6.931\n",
       "2000-06-15 18:30:00  14.40  253.919998  7.286\n",
       "2000-06-15 19:00:00  14.09  177.309998  7.251\n",
       "2000-06-15 19:30:00  13.71   97.070000  6.683\n",
       "2000-06-15 20:00:00  13.08   39.709999  5.851\n",
       "2000-06-15 20:30:00  12.41   10.650000  5.254\n",
       "2000-06-15 21:00:00  12.27    0.320000  5.164\n",
       "2000-06-15 21:30:00  12.20    0.000000  5.037, control=                     TA_ERA   SW_IN_ERA  VPD_ERA  TA_ERA_lag_1  \\\n",
       "time                                                             \n",
       "2000-06-15 17:00:00  15.050  255.192993    5.102        15.139   \n",
       "2000-06-15 17:30:00  14.961  221.427002    5.305        15.050   \n",
       "2000-06-15 18:00:00  14.872  186.380005    5.507        14.961   \n",
       "2000-06-15 18:30:00  14.783  150.649994    5.710        14.872   \n",
       "2000-06-15 19:00:00  14.694  114.848999    5.912        14.783   \n",
       "2000-06-15 19:30:00  14.606   34.728001    6.114        14.694   \n",
       "2000-06-15 20:00:00  14.380   19.843000    6.074        14.606   \n",
       "2000-06-15 20:30:00  14.155    5.712000    6.034        14.380   \n",
       "2000-06-15 21:00:00  13.929    0.000000    5.994        14.155   \n",
       "2000-06-15 21:30:00  13.704    0.000000    5.954        13.929   \n",
       "\n",
       "                     SW_IN_ERA_lag_1  VPD_ERA_lag_1  \n",
       "time                                                 \n",
       "2000-06-15 17:00:00       287.100006          4.900  \n",
       "2000-06-15 17:30:00       255.192993          5.102  \n",
       "2000-06-15 18:00:00       221.427002          5.305  \n",
       "2000-06-15 18:30:00       186.380005          5.507  \n",
       "2000-06-15 19:00:00       150.649994          5.710  \n",
       "2000-06-15 19:30:00       114.848999          5.912  \n",
       "2000-06-15 20:00:00        34.728001          6.114  \n",
       "2000-06-15 20:30:00        19.843000          6.074  \n",
       "2000-06-15 21:00:00         5.712000          6.034  \n",
       "2000-06-15 21:30:00         0.000000          5.994  )"
      ]
     },
     "execution_count": null,
     "metadata": {},
     "output_type": "execute_result"
    }
   ],
   "source": [
    "tfms1[0]"
   ]
  },
  {
   "cell_type": "markdown",
   "id": "cc7af1e4-516c-4536-ab92-a5d19eec00fc",
   "metadata": {},
   "source": [
    "### 3) Gaps"
   ]
  },
  {
   "cell_type": "markdown",
   "id": "f2fe95d9-43bb-4174-8b9d-d5e87fdc3930",
   "metadata": {},
   "source": [
    "adds a mask which includes a random gap"
   ]
  },
  {
   "cell_type": "markdown",
   "id": "94bc9530-dd11-4606-a80b-77b9a2a353dc",
   "metadata": {},
   "source": [
    "#### Make random Gap"
   ]
  },
  {
   "cell_type": "code",
   "execution_count": null,
   "id": "37358f56-f705-4d3c-b39f-ac810447a635",
   "metadata": {},
   "outputs": [],
   "source": [
    "idx = L(*tfms1[0].data.columns).argwhere(lambda x: x in ['TA','SW_IN'])"
   ]
  },
  {
   "cell_type": "code",
   "execution_count": null,
   "id": "9126e8d1-3f99-40ba-b4ac-e5ac0f5cfd6c",
   "metadata": {},
   "outputs": [],
   "source": [
    "mask = np.ones_like(tfms1[0].data, dtype=bool)"
   ]
  },
  {
   "cell_type": "code",
   "execution_count": null,
   "id": "a9bf7480-1580-490d-8ce9-a0c47ef6c2a3",
   "metadata": {},
   "outputs": [
    {
     "data": {
      "text/plain": [
       "array([[ True,  True,  True],\n",
       "       [ True,  True,  True],\n",
       "       [ True,  True,  True],\n",
       "       [ True,  True,  True],\n",
       "       [ True,  True,  True],\n",
       "       [ True,  True,  True],\n",
       "       [ True,  True,  True],\n",
       "       [ True,  True,  True],\n",
       "       [ True,  True,  True],\n",
       "       [ True,  True,  True]])"
      ]
     },
     "execution_count": null,
     "metadata": {},
     "output_type": "execute_result"
    }
   ],
   "source": [
    "mask"
   ]
  },
  {
   "cell_type": "code",
   "execution_count": null,
   "id": "0c90ac7a-c0e8-4994-9268-8ae6c0739a84",
   "metadata": {},
   "outputs": [],
   "source": [
    "#| exports\n",
    "def _make_random_gap(\n",
    "    gap_length: int, # The length of the gap\n",
    "    total_length: int, # The total number of observations\n",
    "    gap_start: Optional[int] = None # Optional start of gap\n",
    ")-> np.ndarray: # [total_length] array of bools to indicicate if the data is missing or not\n",
    "    \"Add a continous gap of given length at random position\"\n",
    "    if(gap_length >= total_length):\n",
    "        return np.repeat(True, total_length)\n",
    "    gap_start = np.random.randint(total_length - gap_length) if gap_start is None else gap_start\n",
    "    return np.hstack([\n",
    "        np.repeat(False, gap_start),\n",
    "        np.repeat(True, gap_length),\n",
    "        np.repeat(False, total_length - (gap_length + gap_start))\n",
    "    ])"
   ]
  },
  {
   "cell_type": "code",
   "execution_count": null,
   "id": "7ba57b44-2632-4ada-af4d-20b2678e6798",
   "metadata": {},
   "outputs": [],
   "source": [
    "gap = _make_random_gap(2, 10, 2)"
   ]
  },
  {
   "cell_type": "code",
   "execution_count": null,
   "id": "614d77ee-5fa7-49bd-b0e2-2bd9539b3c67",
   "metadata": {},
   "outputs": [
    {
     "data": {
      "text/plain": [
       "array([False, False,  True,  True, False, False, False, False, False,\n",
       "       False])"
      ]
     },
     "execution_count": null,
     "metadata": {},
     "output_type": "execute_result"
    }
   ],
   "source": [
    "gap"
   ]
  },
  {
   "cell_type": "code",
   "execution_count": null,
   "id": "2cfdf0a8-6761-43fb-a716-af7d391bd36c",
   "metadata": {},
   "outputs": [
    {
     "data": {
      "text/plain": [
       "array([[2],\n",
       "       [3]])"
      ]
     },
     "execution_count": null,
     "metadata": {},
     "output_type": "execute_result"
    }
   ],
   "source": [
    "np.argwhere(gap)"
   ]
  },
  {
   "cell_type": "code",
   "execution_count": null,
   "id": "c4892a92-5850-4529-991d-24c9a1cebf14",
   "metadata": {},
   "outputs": [],
   "source": [
    "mask[np.argwhere(gap), idx] = False"
   ]
  },
  {
   "cell_type": "code",
   "execution_count": null,
   "id": "5cf78fa7-3c14-43e6-a370-085f74f48ffa",
   "metadata": {},
   "outputs": [
    {
     "data": {
      "text/plain": [
       "array([[ True,  True,  True],\n",
       "       [ True,  True,  True],\n",
       "       [False, False,  True],\n",
       "       [False, False,  True],\n",
       "       [ True,  True,  True],\n",
       "       [ True,  True,  True],\n",
       "       [ True,  True,  True],\n",
       "       [ True,  True,  True],\n",
       "       [ True,  True,  True],\n",
       "       [ True,  True,  True]])"
      ]
     },
     "execution_count": null,
     "metadata": {},
     "output_type": "execute_result"
    }
   ],
   "source": [
    "mask"
   ]
  },
  {
   "cell_type": "code",
   "execution_count": null,
   "id": "39d845e1-4869-4d99-ad55-d851e44bc5cc",
   "metadata": {},
   "outputs": [
    {
     "data": {
      "text/plain": [
       "array([[False, False,  True],\n",
       "       [False, False,  True]])"
      ]
     },
     "execution_count": null,
     "metadata": {},
     "output_type": "execute_result"
    }
   ],
   "source": [
    "mask[gap]"
   ]
  },
  {
   "cell_type": "markdown",
   "id": "0c22883e-b015-46e6-85a3-981c7629301c",
   "metadata": {},
   "source": [
    "#### Gap Len Generator"
   ]
  },
  {
   "cell_type": "markdown",
   "id": "f1830bad-10d4-4e9d-b5a3-58b60f9506e1",
   "metadata": {},
   "source": [
    "The gap lengths are drawn from a gamma distribution, so we have a long tail and a min value of 0, but compared to an exponentail distributions we don't have many gaps of len 0\n",
    "\n",
    "\n",
    "$$ p(x)=\\frac{1}{\\Gamma(k) \\theta^k} x^{k - 1} e^{-\\frac{x}{\\theta}}$$"
   ]
  },
  {
   "cell_type": "markdown",
   "id": "5a2bc417-8be6-446e-8769-cfaa84db0013",
   "metadata": {},
   "source": [
    "$$\\begin{align}\\mu &= k\\theta\\\\\n",
    "m &= (k-1)\\theta \\end{align}$$\n",
    "where $m$ is the mode and $\\mu$ is the mean (for $k>1$), which is what we want"
   ]
  },
  {
   "cell_type": "code",
   "execution_count": null,
   "id": "5f47ee76-b055-450a-b198-55a414102c35",
   "metadata": {},
   "outputs": [
    {
     "data": {
      "image/png": "[encoded data removed]",
      "text/plain": [
       "<Figure size 432x288 with 1 Axes>"
      ]
     },
     "metadata": {
      "needs_background": "light"
     },
     "output_type": "display_data"
    }
   ],
   "source": [
    "import matplotlib.pyplot as plt\n",
    "\n",
    "import scipy.special as sps  \n",
    "\n",
    "mean = 10\n",
    "\n",
    "scale = mean * .6\n",
    "shape = mean/scale\n",
    "\n",
    "mode = (shape-1)*scale\n",
    "\n",
    "x = np.arange(0,100)\n",
    "\n",
    "y = x**(shape-1)*(np.exp(-x/scale) / (sps.gamma(shape)*scale**shape))\n",
    "\n",
    "plt.plot(x, y)  \n",
    "\n",
    "plt.show()"
   ]
  },
  {
   "cell_type": "markdown",
   "id": "c798886c-ab52-4c96-bcb6-453032fb4769",
   "metadata": {},
   "source": [
    "This is a very guessestimate of a good probability density distribution of the gap len. The actual measure should come from the fluxnet data"
   ]
  },
  {
   "cell_type": "code",
   "execution_count": null,
   "id": "0789a04b-cc08-41e6-96ee-bf8529f1bb40",
   "metadata": {},
   "outputs": [],
   "source": [
    "#| export\n",
    "def gen_gap_len(mean: float): \n",
    "    scale = mean*.6\n",
    "    shape = mean/scale\n",
    "    yield int(np.random.gamma(scale=scale, shape=shape))"
   ]
  },
  {
   "cell_type": "code",
   "execution_count": null,
   "id": "d640b016-b69e-4fdf-83c2-0ca816b0f6d2",
   "metadata": {},
   "outputs": [
    {
     "data": {
      "text/plain": [
       "1"
      ]
     },
     "execution_count": null,
     "metadata": {},
     "output_type": "execute_result"
    }
   ],
   "source": [
    "next(gen_gap_len(1))"
   ]
  },
  {
   "cell_type": "code",
   "execution_count": null,
   "id": "8a660df4-a5f9-42d2-98da-e78d0f185799",
   "metadata": {},
   "outputs": [
    {
     "data": {
      "text/plain": [
       "38"
      ]
     },
     "execution_count": null,
     "metadata": {},
     "output_type": "execute_result"
    }
   ],
   "source": [
    "gap_lens_sample.max()[0]"
   ]
  },
  {
   "cell_type": "code",
   "execution_count": null,
   "id": "5df51631-3e2d-4a51-8335-3d02d30b8a42",
   "metadata": {},
   "outputs": [
    {
     "data": {
      "text/plain": [
       "array([[<AxesSubplot: title={'center': '0'}>]], dtype=object)"
      ]
     },
     "execution_count": null,
     "metadata": {},
     "output_type": "execute_result"
    },
    {
     "data": {
      "image/png": "[encoded data removed]",
      "text/plain": [
       "<Figure size 432x288 with 1 Axes>"
      ]
     },
     "metadata": {
      "needs_background": "light"
     },
     "output_type": "display_data"
    }
   ],
   "source": [
    "gap_lens_sample = pd.DataFrame([next(gen_gap_len(10)) for _ in range(1000)])\n",
    "gap_lens_sample.hist(bins=gap_lens_sample[0].max()//2)"
   ]
  },
  {
   "cell_type": "markdown",
   "id": "8091cdec-15d2-4217-8b43-9249ea371271",
   "metadata": {},
   "source": [
    "#### Var Sel Generator "
   ]
  },
  {
   "cell_type": "code",
   "execution_count": null,
   "id": "d742c583-f0fc-4923-91ec-f04b624dbb4b",
   "metadata": {},
   "outputs": [
    {
     "data": {
      "text/plain": [
       "array([2, 4, 1])"
      ]
     },
     "execution_count": null,
     "metadata": {},
     "output_type": "execute_result"
    }
   ],
   "source": [
    "np.random.choice(5, size=3, replace=False)"
   ]
  },
  {
   "cell_type": "code",
   "execution_count": null,
   "id": "2d0c6ad2-2f42-41d5-90dc-7888b5c7b85f",
   "metadata": {},
   "outputs": [],
   "source": [
    "np.random.randint"
   ]
  },
  {
   "cell_type": "code",
   "execution_count": null,
   "id": "72965b56-7aeb-4764-994c-8f581bdc4921",
   "metadata": {},
   "outputs": [],
   "source": [
    "#| export\n",
    "def gen_var_sel(vars):\n",
    "    n_var = np.random.randint(1,len(vars))\n",
    "    yield np.random.choice(np.array(vars), size=n_var, replace=False)"
   ]
  },
  {
   "cell_type": "code",
   "execution_count": null,
   "id": "4996ff01-146f-4cb9-b0f3-3a3a8bd96aa7",
   "metadata": {},
   "outputs": [
    {
     "ename": "TypeError",
     "evalue": "unbound method str.split() needs an argument",
     "output_type": "error",
     "traceback": [
      "\u001b[0;31m---------------------------------------------------------------------------\u001b[0m",
      "\u001b[0;31mTypeError\u001b[0m                                 Traceback (most recent call last)",
      "Input \u001b[0;32mIn [377]\u001b[0m, in \u001b[0;36m<cell line: 1>\u001b[0;34m()\u001b[0m\n\u001b[0;32m----> 1\u001b[0m \u001b[38;5;28;43mstr\u001b[39;49m\u001b[38;5;241;43m.\u001b[39;49m\u001b[43msplit\u001b[49m\u001b[43m(\u001b[49m\u001b[43m)\u001b[49m\n",
      "\u001b[0;31mTypeError\u001b[0m: unbound method str.split() needs an argument"
     ]
    }
   ],
   "source": [
    "str.split()"
   ]
  },
  {
   "cell_type": "code",
   "execution_count": null,
   "id": "3df80e70-2ecf-47a9-a506-d432f760468a",
   "metadata": {},
   "outputs": [
    {
     "data": {
      "text/plain": [
       "array(['g'], dtype='<U1')"
      ]
     },
     "execution_count": null,
     "metadata": {},
     "output_type": "execute_result"
    }
   ],
   "source": [
    "next(gen_var_sel(list(\"abcdefg\")))"
   ]
  },
  {
   "cell_type": "markdown",
   "id": "437bd01a-3335-4946-a655-5a1ed3ee9a52",
   "metadata": {},
   "source": [
    "#### Add Gap Transform"
   ]
  },
  {
   "cell_type": "code",
   "execution_count": null,
   "id": "94dcd2e0-9d32-471b-bebd-088d3e487a1f",
   "metadata": {},
   "outputs": [],
   "source": [
    "#| export\n",
    "class MeteoImpDf:\n",
    "    def __init__(self,*args):\n",
    "        self.data = args[0]\n",
    "        self.mask = args[1]\n",
    "        self.control = args[2]\n",
    "    def __iter__(self): return iter((self.data, self.mask, self.control,))\n",
    "    __repr__ = basic_repr(\"data, mask, control\")\n",
    "    def _repr_html_(self):\n",
    "        return row_dfs({'data': self.data, 'mask': self.mask, 'control': self.control}, title=\"Meteo Imp Df\", hide_idx=False)"
   ]
  },
  {
   "cell_type": "code",
   "execution_count": null,
   "id": "c71f35e5-ace8-41a6-806c-d5b14c520e7a",
   "metadata": {},
   "outputs": [],
   "source": [
    "#| export\n",
    "class AddGapTransform(DisplayedTransform):\n",
    "    \"\"\"Adds a random gap to a dataframe\"\"\"\n",
    "    def __init__(self,\n",
    "                variables,\n",
    "                gap_length,\n",
    "                ):\n",
    "        store_attr()\n",
    "    def encodes(self, dc: DataControl) -> MeteoImpDf:\n",
    "        df, control = dc\n",
    "        gap = _make_random_gap(self.gap_length, df.shape[0])\n",
    "        mask = np.ones_like(df, dtype=bool)\n",
    "        col_sel = L(*df.columns).argwhere(lambda x: x in self.variables)\n",
    "        mask[np.argwhere(gap), col_sel] = False\n",
    "        mask = pd.DataFrame(mask, index=df.index, columns=df.columns)\n",
    "        return MeteoImpDf(df, mask, control)"
   ]
  },
  {
   "cell_type": "code",
   "execution_count": null,
   "id": "47a56595-0fc1-4a7a-a9c6-38497079acb3",
   "metadata": {},
   "outputs": [
    {
     "data": {
      "text/plain": [
       "AddGapTransform -- {'variables': ['TA', 'VPD'], 'gap_length': 5}:\n",
       "encodes: (DataControl,object) -> encodes\n",
       "decodes: "
      ]
     },
     "execution_count": null,
     "metadata": {},
     "output_type": "execute_result"
    }
   ],
   "source": [
    "a_gap = AddGapTransform(['TA', 'VPD'], 5)\n",
    "a_gap"
   ]
  },
  {
   "cell_type": "code",
   "execution_count": null,
   "id": "27f2cc9f-4d0a-42a5-90bf-f4ca999918f7",
   "metadata": {},
   "outputs": [
    {
     "data": {
      "text/html": [
       "<p style='font-size: 1.5rem; font-decoration: bold'>Meteo Imp Df<p><div style=\"display: flex; column-gap: 20px; flex-wrap: wrap;\" class='table table-striped table-sm'> <div> <p style='font-size: 1.3rem;'>data</p> <style type=\"text/css\">\n",
       "</style>\n",
       "<table id=\"T_4994a\">\n",
       "  <thead>\n",
       "    <tr>\n",
       "      <th class=\"blank level0\" >&nbsp;</th>\n",
       "      <th id=\"T_4994a_level0_col0\" class=\"col_heading level0 col0\" >TA</th>\n",
       "      <th id=\"T_4994a_level0_col1\" class=\"col_heading level0 col1\" >SW_IN</th>\n",
       "      <th id=\"T_4994a_level0_col2\" class=\"col_heading level0 col2\" >VPD</th>\n",
       "    </tr>\n",
       "    <tr>\n",
       "      <th class=\"index_name level0\" >time</th>\n",
       "      <th class=\"blank col0\" >&nbsp;</th>\n",
       "      <th class=\"blank col1\" >&nbsp;</th>\n",
       "      <th class=\"blank col2\" >&nbsp;</th>\n",
       "    </tr>\n",
       "  </thead>\n",
       "  <tbody>\n",
       "    <tr>\n",
       "      <th id=\"T_4994a_level0_row0\" class=\"row_heading level0 row0\" >2000-06-15 17:00:00</th>\n",
       "      <td id=\"T_4994a_row0_col0\" class=\"data row0 col0\" >14.2200</td>\n",
       "      <td id=\"T_4994a_row0_col1\" class=\"data row0 col1\" >224.8000</td>\n",
       "      <td id=\"T_4994a_row0_col2\" class=\"data row0 col2\" >5.7990</td>\n",
       "    </tr>\n",
       "    <tr>\n",
       "      <th id=\"T_4994a_level0_row1\" class=\"row_heading level0 row1\" >2000-06-15 17:30:00</th>\n",
       "      <td id=\"T_4994a_row1_col0\" class=\"data row1 col0\" >14.1100</td>\n",
       "      <td id=\"T_4994a_row1_col1\" class=\"data row1 col1\" >195.2800</td>\n",
       "      <td id=\"T_4994a_row1_col2\" class=\"data row1 col2\" >6.5770</td>\n",
       "    </tr>\n",
       "    <tr>\n",
       "      <th id=\"T_4994a_level0_row2\" class=\"row_heading level0 row2\" >2000-06-15 18:00:00</th>\n",
       "      <td id=\"T_4994a_row2_col0\" class=\"data row2 col0\" >14.2300</td>\n",
       "      <td id=\"T_4994a_row2_col1\" class=\"data row2 col1\" >244.1700</td>\n",
       "      <td id=\"T_4994a_row2_col2\" class=\"data row2 col2\" >6.9310</td>\n",
       "    </tr>\n",
       "    <tr>\n",
       "      <th id=\"T_4994a_level0_row3\" class=\"row_heading level0 row3\" >2000-06-15 18:30:00</th>\n",
       "      <td id=\"T_4994a_row3_col0\" class=\"data row3 col0\" >14.4000</td>\n",
       "      <td id=\"T_4994a_row3_col1\" class=\"data row3 col1\" >253.9200</td>\n",
       "      <td id=\"T_4994a_row3_col2\" class=\"data row3 col2\" >7.2860</td>\n",
       "    </tr>\n",
       "    <tr>\n",
       "      <th id=\"T_4994a_level0_row4\" class=\"row_heading level0 row4\" >2000-06-15 19:00:00</th>\n",
       "      <td id=\"T_4994a_row4_col0\" class=\"data row4 col0\" >14.0900</td>\n",
       "      <td id=\"T_4994a_row4_col1\" class=\"data row4 col1\" >177.3100</td>\n",
       "      <td id=\"T_4994a_row4_col2\" class=\"data row4 col2\" >7.2510</td>\n",
       "    </tr>\n",
       "    <tr>\n",
       "      <th id=\"T_4994a_level0_row5\" class=\"row_heading level0 row5\" >2000-06-15 19:30:00</th>\n",
       "      <td id=\"T_4994a_row5_col0\" class=\"data row5 col0\" >13.7100</td>\n",
       "      <td id=\"T_4994a_row5_col1\" class=\"data row5 col1\" >97.0700</td>\n",
       "      <td id=\"T_4994a_row5_col2\" class=\"data row5 col2\" >6.6830</td>\n",
       "    </tr>\n",
       "    <tr>\n",
       "      <th id=\"T_4994a_level0_row6\" class=\"row_heading level0 row6\" >2000-06-15 20:00:00</th>\n",
       "      <td id=\"T_4994a_row6_col0\" class=\"data row6 col0\" >13.0800</td>\n",
       "      <td id=\"T_4994a_row6_col1\" class=\"data row6 col1\" >39.7100</td>\n",
       "      <td id=\"T_4994a_row6_col2\" class=\"data row6 col2\" >5.8510</td>\n",
       "    </tr>\n",
       "    <tr>\n",
       "      <th id=\"T_4994a_level0_row7\" class=\"row_heading level0 row7\" >2000-06-15 20:30:00</th>\n",
       "      <td id=\"T_4994a_row7_col0\" class=\"data row7 col0\" >12.4100</td>\n",
       "      <td id=\"T_4994a_row7_col1\" class=\"data row7 col1\" >10.6500</td>\n",
       "      <td id=\"T_4994a_row7_col2\" class=\"data row7 col2\" >5.2540</td>\n",
       "    </tr>\n",
       "    <tr>\n",
       "      <th id=\"T_4994a_level0_row8\" class=\"row_heading level0 row8\" >2000-06-15 21:00:00</th>\n",
       "      <td id=\"T_4994a_row8_col0\" class=\"data row8 col0\" >12.2700</td>\n",
       "      <td id=\"T_4994a_row8_col1\" class=\"data row8 col1\" >0.3200</td>\n",
       "      <td id=\"T_4994a_row8_col2\" class=\"data row8 col2\" >5.1640</td>\n",
       "    </tr>\n",
       "    <tr>\n",
       "      <th id=\"T_4994a_level0_row9\" class=\"row_heading level0 row9\" >2000-06-15 21:30:00</th>\n",
       "      <td id=\"T_4994a_row9_col0\" class=\"data row9 col0\" >12.2000</td>\n",
       "      <td id=\"T_4994a_row9_col1\" class=\"data row9 col1\" >0.0000</td>\n",
       "      <td id=\"T_4994a_row9_col2\" class=\"data row9 col2\" >5.0370</td>\n",
       "    </tr>\n",
       "  </tbody>\n",
       "</table>\n",
       " </div><div> <p style='font-size: 1.3rem;'>mask</p> <style type=\"text/css\">\n",
       "</style>\n",
       "<table id=\"T_bf1d2\">\n",
       "  <thead>\n",
       "    <tr>\n",
       "      <th class=\"blank level0\" >&nbsp;</th>\n",
       "      <th id=\"T_bf1d2_level0_col0\" class=\"col_heading level0 col0\" >TA</th>\n",
       "      <th id=\"T_bf1d2_level0_col1\" class=\"col_heading level0 col1\" >SW_IN</th>\n",
       "      <th id=\"T_bf1d2_level0_col2\" class=\"col_heading level0 col2\" >VPD</th>\n",
       "    </tr>\n",
       "    <tr>\n",
       "      <th class=\"index_name level0\" >time</th>\n",
       "      <th class=\"blank col0\" >&nbsp;</th>\n",
       "      <th class=\"blank col1\" >&nbsp;</th>\n",
       "      <th class=\"blank col2\" >&nbsp;</th>\n",
       "    </tr>\n",
       "  </thead>\n",
       "  <tbody>\n",
       "    <tr>\n",
       "      <th id=\"T_bf1d2_level0_row0\" class=\"row_heading level0 row0\" >2000-06-15 17:00:00</th>\n",
       "      <td id=\"T_bf1d2_row0_col0\" class=\"data row0 col0\" >False</td>\n",
       "      <td id=\"T_bf1d2_row0_col1\" class=\"data row0 col1\" >True</td>\n",
       "      <td id=\"T_bf1d2_row0_col2\" class=\"data row0 col2\" >False</td>\n",
       "    </tr>\n",
       "    <tr>\n",
       "      <th id=\"T_bf1d2_level0_row1\" class=\"row_heading level0 row1\" >2000-06-15 17:30:00</th>\n",
       "      <td id=\"T_bf1d2_row1_col0\" class=\"data row1 col0\" >False</td>\n",
       "      <td id=\"T_bf1d2_row1_col1\" class=\"data row1 col1\" >True</td>\n",
       "      <td id=\"T_bf1d2_row1_col2\" class=\"data row1 col2\" >False</td>\n",
       "    </tr>\n",
       "    <tr>\n",
       "      <th id=\"T_bf1d2_level0_row2\" class=\"row_heading level0 row2\" >2000-06-15 18:00:00</th>\n",
       "      <td id=\"T_bf1d2_row2_col0\" class=\"data row2 col0\" >False</td>\n",
       "      <td id=\"T_bf1d2_row2_col1\" class=\"data row2 col1\" >True</td>\n",
       "      <td id=\"T_bf1d2_row2_col2\" class=\"data row2 col2\" >False</td>\n",
       "    </tr>\n",
       "    <tr>\n",
       "      <th id=\"T_bf1d2_level0_row3\" class=\"row_heading level0 row3\" >2000-06-15 18:30:00</th>\n",
       "      <td id=\"T_bf1d2_row3_col0\" class=\"data row3 col0\" >False</td>\n",
       "      <td id=\"T_bf1d2_row3_col1\" class=\"data row3 col1\" >True</td>\n",
       "      <td id=\"T_bf1d2_row3_col2\" class=\"data row3 col2\" >False</td>\n",
       "    </tr>\n",
       "    <tr>\n",
       "      <th id=\"T_bf1d2_level0_row4\" class=\"row_heading level0 row4\" >2000-06-15 19:00:00</th>\n",
       "      <td id=\"T_bf1d2_row4_col0\" class=\"data row4 col0\" >False</td>\n",
       "      <td id=\"T_bf1d2_row4_col1\" class=\"data row4 col1\" >True</td>\n",
       "      <td id=\"T_bf1d2_row4_col2\" class=\"data row4 col2\" >False</td>\n",
       "    </tr>\n",
       "    <tr>\n",
       "      <th id=\"T_bf1d2_level0_row5\" class=\"row_heading level0 row5\" >2000-06-15 19:30:00</th>\n",
       "      <td id=\"T_bf1d2_row5_col0\" class=\"data row5 col0\" >True</td>\n",
       "      <td id=\"T_bf1d2_row5_col1\" class=\"data row5 col1\" >True</td>\n",
       "      <td id=\"T_bf1d2_row5_col2\" class=\"data row5 col2\" >True</td>\n",
       "    </tr>\n",
       "    <tr>\n",
       "      <th id=\"T_bf1d2_level0_row6\" class=\"row_heading level0 row6\" >2000-06-15 20:00:00</th>\n",
       "      <td id=\"T_bf1d2_row6_col0\" class=\"data row6 col0\" >True</td>\n",
       "      <td id=\"T_bf1d2_row6_col1\" class=\"data row6 col1\" >True</td>\n",
       "      <td id=\"T_bf1d2_row6_col2\" class=\"data row6 col2\" >True</td>\n",
       "    </tr>\n",
       "    <tr>\n",
       "      <th id=\"T_bf1d2_level0_row7\" class=\"row_heading level0 row7\" >2000-06-15 20:30:00</th>\n",
       "      <td id=\"T_bf1d2_row7_col0\" class=\"data row7 col0\" >True</td>\n",
       "      <td id=\"T_bf1d2_row7_col1\" class=\"data row7 col1\" >True</td>\n",
       "      <td id=\"T_bf1d2_row7_col2\" class=\"data row7 col2\" >True</td>\n",
       "    </tr>\n",
       "    <tr>\n",
       "      <th id=\"T_bf1d2_level0_row8\" class=\"row_heading level0 row8\" >2000-06-15 21:00:00</th>\n",
       "      <td id=\"T_bf1d2_row8_col0\" class=\"data row8 col0\" >True</td>\n",
       "      <td id=\"T_bf1d2_row8_col1\" class=\"data row8 col1\" >True</td>\n",
       "      <td id=\"T_bf1d2_row8_col2\" class=\"data row8 col2\" >True</td>\n",
       "    </tr>\n",
       "    <tr>\n",
       "      <th id=\"T_bf1d2_level0_row9\" class=\"row_heading level0 row9\" >2000-06-15 21:30:00</th>\n",
       "      <td id=\"T_bf1d2_row9_col0\" class=\"data row9 col0\" >True</td>\n",
       "      <td id=\"T_bf1d2_row9_col1\" class=\"data row9 col1\" >True</td>\n",
       "      <td id=\"T_bf1d2_row9_col2\" class=\"data row9 col2\" >True</td>\n",
       "    </tr>\n",
       "  </tbody>\n",
       "</table>\n",
       " </div><div> <p style='font-size: 1.3rem;'>control</p> <style type=\"text/css\">\n",
       "</style>\n",
       "<table id=\"T_5be37\">\n",
       "  <thead>\n",
       "    <tr>\n",
       "      <th class=\"blank level0\" >&nbsp;</th>\n",
       "      <th id=\"T_5be37_level0_col0\" class=\"col_heading level0 col0\" >TA_ERA</th>\n",
       "      <th id=\"T_5be37_level0_col1\" class=\"col_heading level0 col1\" >SW_IN_ERA</th>\n",
       "      <th id=\"T_5be37_level0_col2\" class=\"col_heading level0 col2\" >VPD_ERA</th>\n",
       "      <th id=\"T_5be37_level0_col3\" class=\"col_heading level0 col3\" >TA_ERA_lag_1</th>\n",
       "      <th id=\"T_5be37_level0_col4\" class=\"col_heading level0 col4\" >SW_IN_ERA_lag_1</th>\n",
       "      <th id=\"T_5be37_level0_col5\" class=\"col_heading level0 col5\" >VPD_ERA_lag_1</th>\n",
       "    </tr>\n",
       "    <tr>\n",
       "      <th class=\"index_name level0\" >time</th>\n",
       "      <th class=\"blank col0\" >&nbsp;</th>\n",
       "      <th class=\"blank col1\" >&nbsp;</th>\n",
       "      <th class=\"blank col2\" >&nbsp;</th>\n",
       "      <th class=\"blank col3\" >&nbsp;</th>\n",
       "      <th class=\"blank col4\" >&nbsp;</th>\n",
       "      <th class=\"blank col5\" >&nbsp;</th>\n",
       "    </tr>\n",
       "  </thead>\n",
       "  <tbody>\n",
       "    <tr>\n",
       "      <th id=\"T_5be37_level0_row0\" class=\"row_heading level0 row0\" >2000-06-15 17:00:00</th>\n",
       "      <td id=\"T_5be37_row0_col0\" class=\"data row0 col0\" >15.0500</td>\n",
       "      <td id=\"T_5be37_row0_col1\" class=\"data row0 col1\" >255.1930</td>\n",
       "      <td id=\"T_5be37_row0_col2\" class=\"data row0 col2\" >5.1020</td>\n",
       "      <td id=\"T_5be37_row0_col3\" class=\"data row0 col3\" >15.1390</td>\n",
       "      <td id=\"T_5be37_row0_col4\" class=\"data row0 col4\" >287.1000</td>\n",
       "      <td id=\"T_5be37_row0_col5\" class=\"data row0 col5\" >4.9000</td>\n",
       "    </tr>\n",
       "    <tr>\n",
       "      <th id=\"T_5be37_level0_row1\" class=\"row_heading level0 row1\" >2000-06-15 17:30:00</th>\n",
       "      <td id=\"T_5be37_row1_col0\" class=\"data row1 col0\" >14.9610</td>\n",
       "      <td id=\"T_5be37_row1_col1\" class=\"data row1 col1\" >221.4270</td>\n",
       "      <td id=\"T_5be37_row1_col2\" class=\"data row1 col2\" >5.3050</td>\n",
       "      <td id=\"T_5be37_row1_col3\" class=\"data row1 col3\" >15.0500</td>\n",
       "      <td id=\"T_5be37_row1_col4\" class=\"data row1 col4\" >255.1930</td>\n",
       "      <td id=\"T_5be37_row1_col5\" class=\"data row1 col5\" >5.1020</td>\n",
       "    </tr>\n",
       "    <tr>\n",
       "      <th id=\"T_5be37_level0_row2\" class=\"row_heading level0 row2\" >2000-06-15 18:00:00</th>\n",
       "      <td id=\"T_5be37_row2_col0\" class=\"data row2 col0\" >14.8720</td>\n",
       "      <td id=\"T_5be37_row2_col1\" class=\"data row2 col1\" >186.3800</td>\n",
       "      <td id=\"T_5be37_row2_col2\" class=\"data row2 col2\" >5.5070</td>\n",
       "      <td id=\"T_5be37_row2_col3\" class=\"data row2 col3\" >14.9610</td>\n",
       "      <td id=\"T_5be37_row2_col4\" class=\"data row2 col4\" >221.4270</td>\n",
       "      <td id=\"T_5be37_row2_col5\" class=\"data row2 col5\" >5.3050</td>\n",
       "    </tr>\n",
       "    <tr>\n",
       "      <th id=\"T_5be37_level0_row3\" class=\"row_heading level0 row3\" >2000-06-15 18:30:00</th>\n",
       "      <td id=\"T_5be37_row3_col0\" class=\"data row3 col0\" >14.7830</td>\n",
       "      <td id=\"T_5be37_row3_col1\" class=\"data row3 col1\" >150.6500</td>\n",
       "      <td id=\"T_5be37_row3_col2\" class=\"data row3 col2\" >5.7100</td>\n",
       "      <td id=\"T_5be37_row3_col3\" class=\"data row3 col3\" >14.8720</td>\n",
       "      <td id=\"T_5be37_row3_col4\" class=\"data row3 col4\" >186.3800</td>\n",
       "      <td id=\"T_5be37_row3_col5\" class=\"data row3 col5\" >5.5070</td>\n",
       "    </tr>\n",
       "    <tr>\n",
       "      <th id=\"T_5be37_level0_row4\" class=\"row_heading level0 row4\" >2000-06-15 19:00:00</th>\n",
       "      <td id=\"T_5be37_row4_col0\" class=\"data row4 col0\" >14.6940</td>\n",
       "      <td id=\"T_5be37_row4_col1\" class=\"data row4 col1\" >114.8490</td>\n",
       "      <td id=\"T_5be37_row4_col2\" class=\"data row4 col2\" >5.9120</td>\n",
       "      <td id=\"T_5be37_row4_col3\" class=\"data row4 col3\" >14.7830</td>\n",
       "      <td id=\"T_5be37_row4_col4\" class=\"data row4 col4\" >150.6500</td>\n",
       "      <td id=\"T_5be37_row4_col5\" class=\"data row4 col5\" >5.7100</td>\n",
       "    </tr>\n",
       "    <tr>\n",
       "      <th id=\"T_5be37_level0_row5\" class=\"row_heading level0 row5\" >2000-06-15 19:30:00</th>\n",
       "      <td id=\"T_5be37_row5_col0\" class=\"data row5 col0\" >14.6060</td>\n",
       "      <td id=\"T_5be37_row5_col1\" class=\"data row5 col1\" >34.7280</td>\n",
       "      <td id=\"T_5be37_row5_col2\" class=\"data row5 col2\" >6.1140</td>\n",
       "      <td id=\"T_5be37_row5_col3\" class=\"data row5 col3\" >14.6940</td>\n",
       "      <td id=\"T_5be37_row5_col4\" class=\"data row5 col4\" >114.8490</td>\n",
       "      <td id=\"T_5be37_row5_col5\" class=\"data row5 col5\" >5.9120</td>\n",
       "    </tr>\n",
       "    <tr>\n",
       "      <th id=\"T_5be37_level0_row6\" class=\"row_heading level0 row6\" >2000-06-15 20:00:00</th>\n",
       "      <td id=\"T_5be37_row6_col0\" class=\"data row6 col0\" >14.3800</td>\n",
       "      <td id=\"T_5be37_row6_col1\" class=\"data row6 col1\" >19.8430</td>\n",
       "      <td id=\"T_5be37_row6_col2\" class=\"data row6 col2\" >6.0740</td>\n",
       "      <td id=\"T_5be37_row6_col3\" class=\"data row6 col3\" >14.6060</td>\n",
       "      <td id=\"T_5be37_row6_col4\" class=\"data row6 col4\" >34.7280</td>\n",
       "      <td id=\"T_5be37_row6_col5\" class=\"data row6 col5\" >6.1140</td>\n",
       "    </tr>\n",
       "    <tr>\n",
       "      <th id=\"T_5be37_level0_row7\" class=\"row_heading level0 row7\" >2000-06-15 20:30:00</th>\n",
       "      <td id=\"T_5be37_row7_col0\" class=\"data row7 col0\" >14.1550</td>\n",
       "      <td id=\"T_5be37_row7_col1\" class=\"data row7 col1\" >5.7120</td>\n",
       "      <td id=\"T_5be37_row7_col2\" class=\"data row7 col2\" >6.0340</td>\n",
       "      <td id=\"T_5be37_row7_col3\" class=\"data row7 col3\" >14.3800</td>\n",
       "      <td id=\"T_5be37_row7_col4\" class=\"data row7 col4\" >19.8430</td>\n",
       "      <td id=\"T_5be37_row7_col5\" class=\"data row7 col5\" >6.0740</td>\n",
       "    </tr>\n",
       "    <tr>\n",
       "      <th id=\"T_5be37_level0_row8\" class=\"row_heading level0 row8\" >2000-06-15 21:00:00</th>\n",
       "      <td id=\"T_5be37_row8_col0\" class=\"data row8 col0\" >13.9290</td>\n",
       "      <td id=\"T_5be37_row8_col1\" class=\"data row8 col1\" >0.0000</td>\n",
       "      <td id=\"T_5be37_row8_col2\" class=\"data row8 col2\" >5.9940</td>\n",
       "      <td id=\"T_5be37_row8_col3\" class=\"data row8 col3\" >14.1550</td>\n",
       "      <td id=\"T_5be37_row8_col4\" class=\"data row8 col4\" >5.7120</td>\n",
       "      <td id=\"T_5be37_row8_col5\" class=\"data row8 col5\" >6.0340</td>\n",
       "    </tr>\n",
       "    <tr>\n",
       "      <th id=\"T_5be37_level0_row9\" class=\"row_heading level0 row9\" >2000-06-15 21:30:00</th>\n",
       "      <td id=\"T_5be37_row9_col0\" class=\"data row9 col0\" >13.7040</td>\n",
       "      <td id=\"T_5be37_row9_col1\" class=\"data row9 col1\" >0.0000</td>\n",
       "      <td id=\"T_5be37_row9_col2\" class=\"data row9 col2\" >5.9540</td>\n",
       "      <td id=\"T_5be37_row9_col3\" class=\"data row9 col3\" >13.9290</td>\n",
       "      <td id=\"T_5be37_row9_col4\" class=\"data row9 col4\" >0.0000</td>\n",
       "      <td id=\"T_5be37_row9_col5\" class=\"data row9 col5\" >5.9940</td>\n",
       "    </tr>\n",
       "  </tbody>\n",
       "</table>\n",
       " </div></div>"
      ],
      "text/plain": [
       "__main__.MeteoImpDf(data=                        TA       SW_IN    VPD\n",
       "time                                         \n",
       "2000-06-15 17:00:00  14.22  224.800003  5.799\n",
       "2000-06-15 17:30:00  14.11  195.279999  6.577\n",
       "2000-06-15 18:00:00  14.23  244.169998  6.931\n",
       "2000-06-15 18:30:00  14.40  253.919998  7.286\n",
       "2000-06-15 19:00:00  14.09  177.309998  7.251\n",
       "2000-06-15 19:30:00  13.71   97.070000  6.683\n",
       "2000-06-15 20:00:00  13.08   39.709999  5.851\n",
       "2000-06-15 20:30:00  12.41   10.650000  5.254\n",
       "2000-06-15 21:00:00  12.27    0.320000  5.164\n",
       "2000-06-15 21:30:00  12.20    0.000000  5.037, mask=                        TA  SW_IN    VPD\n",
       "time                                    \n",
       "2000-06-15 17:00:00  False   True  False\n",
       "2000-06-15 17:30:00  False   True  False\n",
       "2000-06-15 18:00:00  False   True  False\n",
       "2000-06-15 18:30:00  False   True  False\n",
       "2000-06-15 19:00:00  False   True  False\n",
       "2000-06-15 19:30:00   True   True   True\n",
       "2000-06-15 20:00:00   True   True   True\n",
       "2000-06-15 20:30:00   True   True   True\n",
       "2000-06-15 21:00:00   True   True   True\n",
       "2000-06-15 21:30:00   True   True   True, control=                     TA_ERA   SW_IN_ERA  VPD_ERA  TA_ERA_lag_1  \\\n",
       "time                                                             \n",
       "2000-06-15 17:00:00  15.050  255.192993    5.102        15.139   \n",
       "2000-06-15 17:30:00  14.961  221.427002    5.305        15.050   \n",
       "2000-06-15 18:00:00  14.872  186.380005    5.507        14.961   \n",
       "2000-06-15 18:30:00  14.783  150.649994    5.710        14.872   \n",
       "2000-06-15 19:00:00  14.694  114.848999    5.912        14.783   \n",
       "2000-06-15 19:30:00  14.606   34.728001    6.114        14.694   \n",
       "2000-06-15 20:00:00  14.380   19.843000    6.074        14.606   \n",
       "2000-06-15 20:30:00  14.155    5.712000    6.034        14.380   \n",
       "2000-06-15 21:00:00  13.929    0.000000    5.994        14.155   \n",
       "2000-06-15 21:30:00  13.704    0.000000    5.954        13.929   \n",
       "\n",
       "                     SW_IN_ERA_lag_1  VPD_ERA_lag_1  \n",
       "time                                                 \n",
       "2000-06-15 17:00:00       287.100006          4.900  \n",
       "2000-06-15 17:30:00       255.192993          5.102  \n",
       "2000-06-15 18:00:00       221.427002          5.305  \n",
       "2000-06-15 18:30:00       186.380005          5.507  \n",
       "2000-06-15 19:00:00       150.649994          5.710  \n",
       "2000-06-15 19:30:00       114.848999          5.912  \n",
       "2000-06-15 20:00:00        34.728001          6.114  \n",
       "2000-06-15 20:30:00        19.843000          6.074  \n",
       "2000-06-15 21:00:00         5.712000          6.034  \n",
       "2000-06-15 21:30:00         0.000000          5.994  )"
      ]
     },
     "execution_count": null,
     "metadata": {},
     "output_type": "execute_result"
    }
   ],
   "source": [
    "a_gap(tfms1[0])"
   ]
  },
  {
   "cell_type": "code",
   "execution_count": null,
   "id": "465aab96-5f68-49c4-94bd-8c4fe4d5e8de",
   "metadata": {},
   "outputs": [],
   "source": [
    "tfms2 = TfmdLists([800,801,802,803], [*tfms1.fs, AddGapTransform(['TA','SW_IN'], 2)])"
   ]
  },
  {
   "cell_type": "code",
   "execution_count": null,
   "id": "3292befc-b05d-441b-9404-7d1aa24d657d",
   "metadata": {},
   "outputs": [
    {
     "data": {
      "text/html": [
       "<p style='font-size: 1.5rem; font-decoration: bold'>Meteo Imp Df<p><div style=\"display: flex; column-gap: 20px; flex-wrap: wrap;\" class='table table-striped table-sm'> <div> <p style='font-size: 1.3rem;'>data</p> <style type=\"text/css\">\n",
       "</style>\n",
       "<table id=\"T_56316\">\n",
       "  <thead>\n",
       "    <tr>\n",
       "      <th class=\"blank level0\" >&nbsp;</th>\n",
       "      <th id=\"T_56316_level0_col0\" class=\"col_heading level0 col0\" >TA</th>\n",
       "      <th id=\"T_56316_level0_col1\" class=\"col_heading level0 col1\" >SW_IN</th>\n",
       "      <th id=\"T_56316_level0_col2\" class=\"col_heading level0 col2\" >VPD</th>\n",
       "    </tr>\n",
       "    <tr>\n",
       "      <th class=\"index_name level0\" >time</th>\n",
       "      <th class=\"blank col0\" >&nbsp;</th>\n",
       "      <th class=\"blank col1\" >&nbsp;</th>\n",
       "      <th class=\"blank col2\" >&nbsp;</th>\n",
       "    </tr>\n",
       "  </thead>\n",
       "  <tbody>\n",
       "    <tr>\n",
       "      <th id=\"T_56316_level0_row0\" class=\"row_heading level0 row0\" >2000-06-15 17:00:00</th>\n",
       "      <td id=\"T_56316_row0_col0\" class=\"data row0 col0\" >14.2200</td>\n",
       "      <td id=\"T_56316_row0_col1\" class=\"data row0 col1\" >224.8000</td>\n",
       "      <td id=\"T_56316_row0_col2\" class=\"data row0 col2\" >5.7990</td>\n",
       "    </tr>\n",
       "    <tr>\n",
       "      <th id=\"T_56316_level0_row1\" class=\"row_heading level0 row1\" >2000-06-15 17:30:00</th>\n",
       "      <td id=\"T_56316_row1_col0\" class=\"data row1 col0\" >14.1100</td>\n",
       "      <td id=\"T_56316_row1_col1\" class=\"data row1 col1\" >195.2800</td>\n",
       "      <td id=\"T_56316_row1_col2\" class=\"data row1 col2\" >6.5770</td>\n",
       "    </tr>\n",
       "    <tr>\n",
       "      <th id=\"T_56316_level0_row2\" class=\"row_heading level0 row2\" >2000-06-15 18:00:00</th>\n",
       "      <td id=\"T_56316_row2_col0\" class=\"data row2 col0\" >14.2300</td>\n",
       "      <td id=\"T_56316_row2_col1\" class=\"data row2 col1\" >244.1700</td>\n",
       "      <td id=\"T_56316_row2_col2\" class=\"data row2 col2\" >6.9310</td>\n",
       "    </tr>\n",
       "    <tr>\n",
       "      <th id=\"T_56316_level0_row3\" class=\"row_heading level0 row3\" >2000-06-15 18:30:00</th>\n",
       "      <td id=\"T_56316_row3_col0\" class=\"data row3 col0\" >14.4000</td>\n",
       "      <td id=\"T_56316_row3_col1\" class=\"data row3 col1\" >253.9200</td>\n",
       "      <td id=\"T_56316_row3_col2\" class=\"data row3 col2\" >7.2860</td>\n",
       "    </tr>\n",
       "    <tr>\n",
       "      <th id=\"T_56316_level0_row4\" class=\"row_heading level0 row4\" >2000-06-15 19:00:00</th>\n",
       "      <td id=\"T_56316_row4_col0\" class=\"data row4 col0\" >14.0900</td>\n",
       "      <td id=\"T_56316_row4_col1\" class=\"data row4 col1\" >177.3100</td>\n",
       "      <td id=\"T_56316_row4_col2\" class=\"data row4 col2\" >7.2510</td>\n",
       "    </tr>\n",
       "    <tr>\n",
       "      <th id=\"T_56316_level0_row5\" class=\"row_heading level0 row5\" >2000-06-15 19:30:00</th>\n",
       "      <td id=\"T_56316_row5_col0\" class=\"data row5 col0\" >13.7100</td>\n",
       "      <td id=\"T_56316_row5_col1\" class=\"data row5 col1\" >97.0700</td>\n",
       "      <td id=\"T_56316_row5_col2\" class=\"data row5 col2\" >6.6830</td>\n",
       "    </tr>\n",
       "    <tr>\n",
       "      <th id=\"T_56316_level0_row6\" class=\"row_heading level0 row6\" >2000-06-15 20:00:00</th>\n",
       "      <td id=\"T_56316_row6_col0\" class=\"data row6 col0\" >13.0800</td>\n",
       "      <td id=\"T_56316_row6_col1\" class=\"data row6 col1\" >39.7100</td>\n",
       "      <td id=\"T_56316_row6_col2\" class=\"data row6 col2\" >5.8510</td>\n",
       "    </tr>\n",
       "    <tr>\n",
       "      <th id=\"T_56316_level0_row7\" class=\"row_heading level0 row7\" >2000-06-15 20:30:00</th>\n",
       "      <td id=\"T_56316_row7_col0\" class=\"data row7 col0\" >12.4100</td>\n",
       "      <td id=\"T_56316_row7_col1\" class=\"data row7 col1\" >10.6500</td>\n",
       "      <td id=\"T_56316_row7_col2\" class=\"data row7 col2\" >5.2540</td>\n",
       "    </tr>\n",
       "    <tr>\n",
       "      <th id=\"T_56316_level0_row8\" class=\"row_heading level0 row8\" >2000-06-15 21:00:00</th>\n",
       "      <td id=\"T_56316_row8_col0\" class=\"data row8 col0\" >12.2700</td>\n",
       "      <td id=\"T_56316_row8_col1\" class=\"data row8 col1\" >0.3200</td>\n",
       "      <td id=\"T_56316_row8_col2\" class=\"data row8 col2\" >5.1640</td>\n",
       "    </tr>\n",
       "    <tr>\n",
       "      <th id=\"T_56316_level0_row9\" class=\"row_heading level0 row9\" >2000-06-15 21:30:00</th>\n",
       "      <td id=\"T_56316_row9_col0\" class=\"data row9 col0\" >12.2000</td>\n",
       "      <td id=\"T_56316_row9_col1\" class=\"data row9 col1\" >0.0000</td>\n",
       "      <td id=\"T_56316_row9_col2\" class=\"data row9 col2\" >5.0370</td>\n",
       "    </tr>\n",
       "  </tbody>\n",
       "</table>\n",
       " </div><div> <p style='font-size: 1.3rem;'>mask</p> <style type=\"text/css\">\n",
       "</style>\n",
       "<table id=\"T_8ac32\">\n",
       "  <thead>\n",
       "    <tr>\n",
       "      <th class=\"blank level0\" >&nbsp;</th>\n",
       "      <th id=\"T_8ac32_level0_col0\" class=\"col_heading level0 col0\" >TA</th>\n",
       "      <th id=\"T_8ac32_level0_col1\" class=\"col_heading level0 col1\" >SW_IN</th>\n",
       "      <th id=\"T_8ac32_level0_col2\" class=\"col_heading level0 col2\" >VPD</th>\n",
       "    </tr>\n",
       "    <tr>\n",
       "      <th class=\"index_name level0\" >time</th>\n",
       "      <th class=\"blank col0\" >&nbsp;</th>\n",
       "      <th class=\"blank col1\" >&nbsp;</th>\n",
       "      <th class=\"blank col2\" >&nbsp;</th>\n",
       "    </tr>\n",
       "  </thead>\n",
       "  <tbody>\n",
       "    <tr>\n",
       "      <th id=\"T_8ac32_level0_row0\" class=\"row_heading level0 row0\" >2000-06-15 17:00:00</th>\n",
       "      <td id=\"T_8ac32_row0_col0\" class=\"data row0 col0\" >False</td>\n",
       "      <td id=\"T_8ac32_row0_col1\" class=\"data row0 col1\" >False</td>\n",
       "      <td id=\"T_8ac32_row0_col2\" class=\"data row0 col2\" >True</td>\n",
       "    </tr>\n",
       "    <tr>\n",
       "      <th id=\"T_8ac32_level0_row1\" class=\"row_heading level0 row1\" >2000-06-15 17:30:00</th>\n",
       "      <td id=\"T_8ac32_row1_col0\" class=\"data row1 col0\" >False</td>\n",
       "      <td id=\"T_8ac32_row1_col1\" class=\"data row1 col1\" >False</td>\n",
       "      <td id=\"T_8ac32_row1_col2\" class=\"data row1 col2\" >True</td>\n",
       "    </tr>\n",
       "    <tr>\n",
       "      <th id=\"T_8ac32_level0_row2\" class=\"row_heading level0 row2\" >2000-06-15 18:00:00</th>\n",
       "      <td id=\"T_8ac32_row2_col0\" class=\"data row2 col0\" >True</td>\n",
       "      <td id=\"T_8ac32_row2_col1\" class=\"data row2 col1\" >True</td>\n",
       "      <td id=\"T_8ac32_row2_col2\" class=\"data row2 col2\" >True</td>\n",
       "    </tr>\n",
       "    <tr>\n",
       "      <th id=\"T_8ac32_level0_row3\" class=\"row_heading level0 row3\" >2000-06-15 18:30:00</th>\n",
       "      <td id=\"T_8ac32_row3_col0\" class=\"data row3 col0\" >True</td>\n",
       "      <td id=\"T_8ac32_row3_col1\" class=\"data row3 col1\" >True</td>\n",
       "      <td id=\"T_8ac32_row3_col2\" class=\"data row3 col2\" >True</td>\n",
       "    </tr>\n",
       "    <tr>\n",
       "      <th id=\"T_8ac32_level0_row4\" class=\"row_heading level0 row4\" >2000-06-15 19:00:00</th>\n",
       "      <td id=\"T_8ac32_row4_col0\" class=\"data row4 col0\" >True</td>\n",
       "      <td id=\"T_8ac32_row4_col1\" class=\"data row4 col1\" >True</td>\n",
       "      <td id=\"T_8ac32_row4_col2\" class=\"data row4 col2\" >True</td>\n",
       "    </tr>\n",
       "    <tr>\n",
       "      <th id=\"T_8ac32_level0_row5\" class=\"row_heading level0 row5\" >2000-06-15 19:30:00</th>\n",
       "      <td id=\"T_8ac32_row5_col0\" class=\"data row5 col0\" >True</td>\n",
       "      <td id=\"T_8ac32_row5_col1\" class=\"data row5 col1\" >True</td>\n",
       "      <td id=\"T_8ac32_row5_col2\" class=\"data row5 col2\" >True</td>\n",
       "    </tr>\n",
       "    <tr>\n",
       "      <th id=\"T_8ac32_level0_row6\" class=\"row_heading level0 row6\" >2000-06-15 20:00:00</th>\n",
       "      <td id=\"T_8ac32_row6_col0\" class=\"data row6 col0\" >True</td>\n",
       "      <td id=\"T_8ac32_row6_col1\" class=\"data row6 col1\" >True</td>\n",
       "      <td id=\"T_8ac32_row6_col2\" class=\"data row6 col2\" >True</td>\n",
       "    </tr>\n",
       "    <tr>\n",
       "      <th id=\"T_8ac32_level0_row7\" class=\"row_heading level0 row7\" >2000-06-15 20:30:00</th>\n",
       "      <td id=\"T_8ac32_row7_col0\" class=\"data row7 col0\" >True</td>\n",
       "      <td id=\"T_8ac32_row7_col1\" class=\"data row7 col1\" >True</td>\n",
       "      <td id=\"T_8ac32_row7_col2\" class=\"data row7 col2\" >True</td>\n",
       "    </tr>\n",
       "    <tr>\n",
       "      <th id=\"T_8ac32_level0_row8\" class=\"row_heading level0 row8\" >2000-06-15 21:00:00</th>\n",
       "      <td id=\"T_8ac32_row8_col0\" class=\"data row8 col0\" >True</td>\n",
       "      <td id=\"T_8ac32_row8_col1\" class=\"data row8 col1\" >True</td>\n",
       "      <td id=\"T_8ac32_row8_col2\" class=\"data row8 col2\" >True</td>\n",
       "    </tr>\n",
       "    <tr>\n",
       "      <th id=\"T_8ac32_level0_row9\" class=\"row_heading level0 row9\" >2000-06-15 21:30:00</th>\n",
       "      <td id=\"T_8ac32_row9_col0\" class=\"data row9 col0\" >True</td>\n",
       "      <td id=\"T_8ac32_row9_col1\" class=\"data row9 col1\" >True</td>\n",
       "      <td id=\"T_8ac32_row9_col2\" class=\"data row9 col2\" >True</td>\n",
       "    </tr>\n",
       "  </tbody>\n",
       "</table>\n",
       " </div><div> <p style='font-size: 1.3rem;'>control</p> <style type=\"text/css\">\n",
       "</style>\n",
       "<table id=\"T_1eb6d\">\n",
       "  <thead>\n",
       "    <tr>\n",
       "      <th class=\"blank level0\" >&nbsp;</th>\n",
       "      <th id=\"T_1eb6d_level0_col0\" class=\"col_heading level0 col0\" >TA_ERA</th>\n",
       "      <th id=\"T_1eb6d_level0_col1\" class=\"col_heading level0 col1\" >SW_IN_ERA</th>\n",
       "      <th id=\"T_1eb6d_level0_col2\" class=\"col_heading level0 col2\" >VPD_ERA</th>\n",
       "      <th id=\"T_1eb6d_level0_col3\" class=\"col_heading level0 col3\" >TA_ERA_lag_1</th>\n",
       "      <th id=\"T_1eb6d_level0_col4\" class=\"col_heading level0 col4\" >SW_IN_ERA_lag_1</th>\n",
       "      <th id=\"T_1eb6d_level0_col5\" class=\"col_heading level0 col5\" >VPD_ERA_lag_1</th>\n",
       "    </tr>\n",
       "    <tr>\n",
       "      <th class=\"index_name level0\" >time</th>\n",
       "      <th class=\"blank col0\" >&nbsp;</th>\n",
       "      <th class=\"blank col1\" >&nbsp;</th>\n",
       "      <th class=\"blank col2\" >&nbsp;</th>\n",
       "      <th class=\"blank col3\" >&nbsp;</th>\n",
       "      <th class=\"blank col4\" >&nbsp;</th>\n",
       "      <th class=\"blank col5\" >&nbsp;</th>\n",
       "    </tr>\n",
       "  </thead>\n",
       "  <tbody>\n",
       "    <tr>\n",
       "      <th id=\"T_1eb6d_level0_row0\" class=\"row_heading level0 row0\" >2000-06-15 17:00:00</th>\n",
       "      <td id=\"T_1eb6d_row0_col0\" class=\"data row0 col0\" >15.0500</td>\n",
       "      <td id=\"T_1eb6d_row0_col1\" class=\"data row0 col1\" >255.1930</td>\n",
       "      <td id=\"T_1eb6d_row0_col2\" class=\"data row0 col2\" >5.1020</td>\n",
       "      <td id=\"T_1eb6d_row0_col3\" class=\"data row0 col3\" >15.1390</td>\n",
       "      <td id=\"T_1eb6d_row0_col4\" class=\"data row0 col4\" >287.1000</td>\n",
       "      <td id=\"T_1eb6d_row0_col5\" class=\"data row0 col5\" >4.9000</td>\n",
       "    </tr>\n",
       "    <tr>\n",
       "      <th id=\"T_1eb6d_level0_row1\" class=\"row_heading level0 row1\" >2000-06-15 17:30:00</th>\n",
       "      <td id=\"T_1eb6d_row1_col0\" class=\"data row1 col0\" >14.9610</td>\n",
       "      <td id=\"T_1eb6d_row1_col1\" class=\"data row1 col1\" >221.4270</td>\n",
       "      <td id=\"T_1eb6d_row1_col2\" class=\"data row1 col2\" >5.3050</td>\n",
       "      <td id=\"T_1eb6d_row1_col3\" class=\"data row1 col3\" >15.0500</td>\n",
       "      <td id=\"T_1eb6d_row1_col4\" class=\"data row1 col4\" >255.1930</td>\n",
       "      <td id=\"T_1eb6d_row1_col5\" class=\"data row1 col5\" >5.1020</td>\n",
       "    </tr>\n",
       "    <tr>\n",
       "      <th id=\"T_1eb6d_level0_row2\" class=\"row_heading level0 row2\" >2000-06-15 18:00:00</th>\n",
       "      <td id=\"T_1eb6d_row2_col0\" class=\"data row2 col0\" >14.8720</td>\n",
       "      <td id=\"T_1eb6d_row2_col1\" class=\"data row2 col1\" >186.3800</td>\n",
       "      <td id=\"T_1eb6d_row2_col2\" class=\"data row2 col2\" >5.5070</td>\n",
       "      <td id=\"T_1eb6d_row2_col3\" class=\"data row2 col3\" >14.9610</td>\n",
       "      <td id=\"T_1eb6d_row2_col4\" class=\"data row2 col4\" >221.4270</td>\n",
       "      <td id=\"T_1eb6d_row2_col5\" class=\"data row2 col5\" >5.3050</td>\n",
       "    </tr>\n",
       "    <tr>\n",
       "      <th id=\"T_1eb6d_level0_row3\" class=\"row_heading level0 row3\" >2000-06-15 18:30:00</th>\n",
       "      <td id=\"T_1eb6d_row3_col0\" class=\"data row3 col0\" >14.7830</td>\n",
       "      <td id=\"T_1eb6d_row3_col1\" class=\"data row3 col1\" >150.6500</td>\n",
       "      <td id=\"T_1eb6d_row3_col2\" class=\"data row3 col2\" >5.7100</td>\n",
       "      <td id=\"T_1eb6d_row3_col3\" class=\"data row3 col3\" >14.8720</td>\n",
       "      <td id=\"T_1eb6d_row3_col4\" class=\"data row3 col4\" >186.3800</td>\n",
       "      <td id=\"T_1eb6d_row3_col5\" class=\"data row3 col5\" >5.5070</td>\n",
       "    </tr>\n",
       "    <tr>\n",
       "      <th id=\"T_1eb6d_level0_row4\" class=\"row_heading level0 row4\" >2000-06-15 19:00:00</th>\n",
       "      <td id=\"T_1eb6d_row4_col0\" class=\"data row4 col0\" >14.6940</td>\n",
       "      <td id=\"T_1eb6d_row4_col1\" class=\"data row4 col1\" >114.8490</td>\n",
       "      <td id=\"T_1eb6d_row4_col2\" class=\"data row4 col2\" >5.9120</td>\n",
       "      <td id=\"T_1eb6d_row4_col3\" class=\"data row4 col3\" >14.7830</td>\n",
       "      <td id=\"T_1eb6d_row4_col4\" class=\"data row4 col4\" >150.6500</td>\n",
       "      <td id=\"T_1eb6d_row4_col5\" class=\"data row4 col5\" >5.7100</td>\n",
       "    </tr>\n",
       "    <tr>\n",
       "      <th id=\"T_1eb6d_level0_row5\" class=\"row_heading level0 row5\" >2000-06-15 19:30:00</th>\n",
       "      <td id=\"T_1eb6d_row5_col0\" class=\"data row5 col0\" >14.6060</td>\n",
       "      <td id=\"T_1eb6d_row5_col1\" class=\"data row5 col1\" >34.7280</td>\n",
       "      <td id=\"T_1eb6d_row5_col2\" class=\"data row5 col2\" >6.1140</td>\n",
       "      <td id=\"T_1eb6d_row5_col3\" class=\"data row5 col3\" >14.6940</td>\n",
       "      <td id=\"T_1eb6d_row5_col4\" class=\"data row5 col4\" >114.8490</td>\n",
       "      <td id=\"T_1eb6d_row5_col5\" class=\"data row5 col5\" >5.9120</td>\n",
       "    </tr>\n",
       "    <tr>\n",
       "      <th id=\"T_1eb6d_level0_row6\" class=\"row_heading level0 row6\" >2000-06-15 20:00:00</th>\n",
       "      <td id=\"T_1eb6d_row6_col0\" class=\"data row6 col0\" >14.3800</td>\n",
       "      <td id=\"T_1eb6d_row6_col1\" class=\"data row6 col1\" >19.8430</td>\n",
       "      <td id=\"T_1eb6d_row6_col2\" class=\"data row6 col2\" >6.0740</td>\n",
       "      <td id=\"T_1eb6d_row6_col3\" class=\"data row6 col3\" >14.6060</td>\n",
       "      <td id=\"T_1eb6d_row6_col4\" class=\"data row6 col4\" >34.7280</td>\n",
       "      <td id=\"T_1eb6d_row6_col5\" class=\"data row6 col5\" >6.1140</td>\n",
       "    </tr>\n",
       "    <tr>\n",
       "      <th id=\"T_1eb6d_level0_row7\" class=\"row_heading level0 row7\" >2000-06-15 20:30:00</th>\n",
       "      <td id=\"T_1eb6d_row7_col0\" class=\"data row7 col0\" >14.1550</td>\n",
       "      <td id=\"T_1eb6d_row7_col1\" class=\"data row7 col1\" >5.7120</td>\n",
       "      <td id=\"T_1eb6d_row7_col2\" class=\"data row7 col2\" >6.0340</td>\n",
       "      <td id=\"T_1eb6d_row7_col3\" class=\"data row7 col3\" >14.3800</td>\n",
       "      <td id=\"T_1eb6d_row7_col4\" class=\"data row7 col4\" >19.8430</td>\n",
       "      <td id=\"T_1eb6d_row7_col5\" class=\"data row7 col5\" >6.0740</td>\n",
       "    </tr>\n",
       "    <tr>\n",
       "      <th id=\"T_1eb6d_level0_row8\" class=\"row_heading level0 row8\" >2000-06-15 21:00:00</th>\n",
       "      <td id=\"T_1eb6d_row8_col0\" class=\"data row8 col0\" >13.9290</td>\n",
       "      <td id=\"T_1eb6d_row8_col1\" class=\"data row8 col1\" >0.0000</td>\n",
       "      <td id=\"T_1eb6d_row8_col2\" class=\"data row8 col2\" >5.9940</td>\n",
       "      <td id=\"T_1eb6d_row8_col3\" class=\"data row8 col3\" >14.1550</td>\n",
       "      <td id=\"T_1eb6d_row8_col4\" class=\"data row8 col4\" >5.7120</td>\n",
       "      <td id=\"T_1eb6d_row8_col5\" class=\"data row8 col5\" >6.0340</td>\n",
       "    </tr>\n",
       "    <tr>\n",
       "      <th id=\"T_1eb6d_level0_row9\" class=\"row_heading level0 row9\" >2000-06-15 21:30:00</th>\n",
       "      <td id=\"T_1eb6d_row9_col0\" class=\"data row9 col0\" >13.7040</td>\n",
       "      <td id=\"T_1eb6d_row9_col1\" class=\"data row9 col1\" >0.0000</td>\n",
       "      <td id=\"T_1eb6d_row9_col2\" class=\"data row9 col2\" >5.9540</td>\n",
       "      <td id=\"T_1eb6d_row9_col3\" class=\"data row9 col3\" >13.9290</td>\n",
       "      <td id=\"T_1eb6d_row9_col4\" class=\"data row9 col4\" >0.0000</td>\n",
       "      <td id=\"T_1eb6d_row9_col5\" class=\"data row9 col5\" >5.9940</td>\n",
       "    </tr>\n",
       "  </tbody>\n",
       "</table>\n",
       " </div></div>"
      ],
      "text/plain": [
       "__main__.MeteoImpDf(data=                        TA       SW_IN    VPD\n",
       "time                                         \n",
       "2000-06-15 17:00:00  14.22  224.800003  5.799\n",
       "2000-06-15 17:30:00  14.11  195.279999  6.577\n",
       "2000-06-15 18:00:00  14.23  244.169998  6.931\n",
       "2000-06-15 18:30:00  14.40  253.919998  7.286\n",
       "2000-06-15 19:00:00  14.09  177.309998  7.251\n",
       "2000-06-15 19:30:00  13.71   97.070000  6.683\n",
       "2000-06-15 20:00:00  13.08   39.709999  5.851\n",
       "2000-06-15 20:30:00  12.41   10.650000  5.254\n",
       "2000-06-15 21:00:00  12.27    0.320000  5.164\n",
       "2000-06-15 21:30:00  12.20    0.000000  5.037, mask=                        TA  SW_IN   VPD\n",
       "time                                   \n",
       "2000-06-15 17:00:00  False  False  True\n",
       "2000-06-15 17:30:00  False  False  True\n",
       "2000-06-15 18:00:00   True   True  True\n",
       "2000-06-15 18:30:00   True   True  True\n",
       "2000-06-15 19:00:00   True   True  True\n",
       "2000-06-15 19:30:00   True   True  True\n",
       "2000-06-15 20:00:00   True   True  True\n",
       "2000-06-15 20:30:00   True   True  True\n",
       "2000-06-15 21:00:00   True   True  True\n",
       "2000-06-15 21:30:00   True   True  True, control=                     TA_ERA   SW_IN_ERA  VPD_ERA  TA_ERA_lag_1  \\\n",
       "time                                                             \n",
       "2000-06-15 17:00:00  15.050  255.192993    5.102        15.139   \n",
       "2000-06-15 17:30:00  14.961  221.427002    5.305        15.050   \n",
       "2000-06-15 18:00:00  14.872  186.380005    5.507        14.961   \n",
       "2000-06-15 18:30:00  14.783  150.649994    5.710        14.872   \n",
       "2000-06-15 19:00:00  14.694  114.848999    5.912        14.783   \n",
       "2000-06-15 19:30:00  14.606   34.728001    6.114        14.694   \n",
       "2000-06-15 20:00:00  14.380   19.843000    6.074        14.606   \n",
       "2000-06-15 20:30:00  14.155    5.712000    6.034        14.380   \n",
       "2000-06-15 21:00:00  13.929    0.000000    5.994        14.155   \n",
       "2000-06-15 21:30:00  13.704    0.000000    5.954        13.929   \n",
       "\n",
       "                     SW_IN_ERA_lag_1  VPD_ERA_lag_1  \n",
       "time                                                 \n",
       "2000-06-15 17:00:00       287.100006          4.900  \n",
       "2000-06-15 17:30:00       255.192993          5.102  \n",
       "2000-06-15 18:00:00       221.427002          5.305  \n",
       "2000-06-15 18:30:00       186.380005          5.507  \n",
       "2000-06-15 19:00:00       150.649994          5.710  \n",
       "2000-06-15 19:30:00       114.848999          5.912  \n",
       "2000-06-15 20:00:00        34.728001          6.114  \n",
       "2000-06-15 20:30:00        19.843000          6.074  \n",
       "2000-06-15 21:00:00         5.712000          6.034  \n",
       "2000-06-15 21:30:00         0.000000          5.994  )"
      ]
     },
     "execution_count": null,
     "metadata": {},
     "output_type": "execute_result"
    }
   ],
   "source": [
    "tfms2[0]"
   ]
  },
  {
   "cell_type": "code",
   "execution_count": null,
   "id": "2f3cccff-2b4f-4817-9807-4d833f9f8b52",
   "metadata": {},
   "outputs": [],
   "source": [
    "m_df = tfms2[0]"
   ]
  },
  {
   "cell_type": "code",
   "execution_count": null,
   "id": "5952ccff-6433-48ca-8940-6ea872927cdc",
   "metadata": {},
   "outputs": [],
   "source": [
    "#| export\n",
    "@patch\n",
    "def tidy(self: MeteoImpDf):\n",
    "    data = self.data.reset_index().melt(\"time\")\n",
    "    mask = self.mask.reset_index().melt(\"time\", value_name=\"is_present\")\n",
    "    \n",
    "    return pd.merge(data, mask, on=[\"time\", \"variable\"])"
   ]
  },
  {
   "cell_type": "code",
   "execution_count": null,
   "id": "c601c37c-a032-4edb-a522-50ce0af7b87d",
   "metadata": {},
   "outputs": [
    {
     "data": {
      "text/html": [
       "<div>\n",
       "<style scoped>\n",
       "    .dataframe tbody tr th:only-of-type {\n",
       "        vertical-align: middle;\n",
       "    }\n",
       "\n",
       "    .dataframe tbody tr th {\n",
       "        vertical-align: top;\n",
       "    }\n",
       "\n",
       "    .dataframe thead th {\n",
       "        text-align: right;\n",
       "    }\n",
       "</style>\n",
       "<table border=\"1\" class=\"dataframe\">\n",
       "  <thead>\n",
       "    <tr style=\"text-align: right;\">\n",
       "      <th></th>\n",
       "      <th>time</th>\n",
       "      <th>variable</th>\n",
       "      <th>value</th>\n",
       "      <th>is_present</th>\n",
       "    </tr>\n",
       "  </thead>\n",
       "  <tbody>\n",
       "    <tr>\n",
       "      <th>0</th>\n",
       "      <td>2000-06-15 17:00:00</td>\n",
       "      <td>TA</td>\n",
       "      <td>14.220000</td>\n",
       "      <td>False</td>\n",
       "    </tr>\n",
       "    <tr>\n",
       "      <th>1</th>\n",
       "      <td>2000-06-15 17:30:00</td>\n",
       "      <td>TA</td>\n",
       "      <td>14.110000</td>\n",
       "      <td>False</td>\n",
       "    </tr>\n",
       "    <tr>\n",
       "      <th>2</th>\n",
       "      <td>2000-06-15 18:00:00</td>\n",
       "      <td>TA</td>\n",
       "      <td>14.230000</td>\n",
       "      <td>True</td>\n",
       "    </tr>\n",
       "    <tr>\n",
       "      <th>3</th>\n",
       "      <td>2000-06-15 18:30:00</td>\n",
       "      <td>TA</td>\n",
       "      <td>14.400000</td>\n",
       "      <td>True</td>\n",
       "    </tr>\n",
       "    <tr>\n",
       "      <th>4</th>\n",
       "      <td>2000-06-15 19:00:00</td>\n",
       "      <td>TA</td>\n",
       "      <td>14.090000</td>\n",
       "      <td>True</td>\n",
       "    </tr>\n",
       "    <tr>\n",
       "      <th>5</th>\n",
       "      <td>2000-06-15 19:30:00</td>\n",
       "      <td>TA</td>\n",
       "      <td>13.710000</td>\n",
       "      <td>True</td>\n",
       "    </tr>\n",
       "    <tr>\n",
       "      <th>6</th>\n",
       "      <td>2000-06-15 20:00:00</td>\n",
       "      <td>TA</td>\n",
       "      <td>13.080000</td>\n",
       "      <td>True</td>\n",
       "    </tr>\n",
       "    <tr>\n",
       "      <th>7</th>\n",
       "      <td>2000-06-15 20:30:00</td>\n",
       "      <td>TA</td>\n",
       "      <td>12.410000</td>\n",
       "      <td>True</td>\n",
       "    </tr>\n",
       "    <tr>\n",
       "      <th>8</th>\n",
       "      <td>2000-06-15 21:00:00</td>\n",
       "      <td>TA</td>\n",
       "      <td>12.270000</td>\n",
       "      <td>True</td>\n",
       "    </tr>\n",
       "    <tr>\n",
       "      <th>9</th>\n",
       "      <td>2000-06-15 21:30:00</td>\n",
       "      <td>TA</td>\n",
       "      <td>12.200000</td>\n",
       "      <td>True</td>\n",
       "    </tr>\n",
       "    <tr>\n",
       "      <th>10</th>\n",
       "      <td>2000-06-15 17:00:00</td>\n",
       "      <td>SW_IN</td>\n",
       "      <td>224.800003</td>\n",
       "      <td>False</td>\n",
       "    </tr>\n",
       "    <tr>\n",
       "      <th>11</th>\n",
       "      <td>2000-06-15 17:30:00</td>\n",
       "      <td>SW_IN</td>\n",
       "      <td>195.279999</td>\n",
       "      <td>False</td>\n",
       "    </tr>\n",
       "    <tr>\n",
       "      <th>12</th>\n",
       "      <td>2000-06-15 18:00:00</td>\n",
       "      <td>SW_IN</td>\n",
       "      <td>244.169998</td>\n",
       "      <td>True</td>\n",
       "    </tr>\n",
       "    <tr>\n",
       "      <th>13</th>\n",
       "      <td>2000-06-15 18:30:00</td>\n",
       "      <td>SW_IN</td>\n",
       "      <td>253.919998</td>\n",
       "      <td>True</td>\n",
       "    </tr>\n",
       "    <tr>\n",
       "      <th>14</th>\n",
       "      <td>2000-06-15 19:00:00</td>\n",
       "      <td>SW_IN</td>\n",
       "      <td>177.309998</td>\n",
       "      <td>True</td>\n",
       "    </tr>\n",
       "    <tr>\n",
       "      <th>15</th>\n",
       "      <td>2000-06-15 19:30:00</td>\n",
       "      <td>SW_IN</td>\n",
       "      <td>97.070000</td>\n",
       "      <td>True</td>\n",
       "    </tr>\n",
       "    <tr>\n",
       "      <th>16</th>\n",
       "      <td>2000-06-15 20:00:00</td>\n",
       "      <td>SW_IN</td>\n",
       "      <td>39.709999</td>\n",
       "      <td>True</td>\n",
       "    </tr>\n",
       "    <tr>\n",
       "      <th>17</th>\n",
       "      <td>2000-06-15 20:30:00</td>\n",
       "      <td>SW_IN</td>\n",
       "      <td>10.650000</td>\n",
       "      <td>True</td>\n",
       "    </tr>\n",
       "    <tr>\n",
       "      <th>18</th>\n",
       "      <td>2000-06-15 21:00:00</td>\n",
       "      <td>SW_IN</td>\n",
       "      <td>0.320000</td>\n",
       "      <td>True</td>\n",
       "    </tr>\n",
       "    <tr>\n",
       "      <th>19</th>\n",
       "      <td>2000-06-15 21:30:00</td>\n",
       "      <td>SW_IN</td>\n",
       "      <td>0.000000</td>\n",
       "      <td>True</td>\n",
       "    </tr>\n",
       "    <tr>\n",
       "      <th>20</th>\n",
       "      <td>2000-06-15 17:00:00</td>\n",
       "      <td>VPD</td>\n",
       "      <td>5.799000</td>\n",
       "      <td>True</td>\n",
       "    </tr>\n",
       "    <tr>\n",
       "      <th>21</th>\n",
       "      <td>2000-06-15 17:30:00</td>\n",
       "      <td>VPD</td>\n",
       "      <td>6.577000</td>\n",
       "      <td>True</td>\n",
       "    </tr>\n",
       "    <tr>\n",
       "      <th>22</th>\n",
       "      <td>2000-06-15 18:00:00</td>\n",
       "      <td>VPD</td>\n",
       "      <td>6.931000</td>\n",
       "      <td>True</td>\n",
       "    </tr>\n",
       "    <tr>\n",
       "      <th>23</th>\n",
       "      <td>2000-06-15 18:30:00</td>\n",
       "      <td>VPD</td>\n",
       "      <td>7.286000</td>\n",
       "      <td>True</td>\n",
       "    </tr>\n",
       "    <tr>\n",
       "      <th>24</th>\n",
       "      <td>2000-06-15 19:00:00</td>\n",
       "      <td>VPD</td>\n",
       "      <td>7.251000</td>\n",
       "      <td>True</td>\n",
       "    </tr>\n",
       "    <tr>\n",
       "      <th>25</th>\n",
       "      <td>2000-06-15 19:30:00</td>\n",
       "      <td>VPD</td>\n",
       "      <td>6.683000</td>\n",
       "      <td>True</td>\n",
       "    </tr>\n",
       "    <tr>\n",
       "      <th>26</th>\n",
       "      <td>2000-06-15 20:00:00</td>\n",
       "      <td>VPD</td>\n",
       "      <td>5.851000</td>\n",
       "      <td>True</td>\n",
       "    </tr>\n",
       "    <tr>\n",
       "      <th>27</th>\n",
       "      <td>2000-06-15 20:30:00</td>\n",
       "      <td>VPD</td>\n",
       "      <td>5.254000</td>\n",
       "      <td>True</td>\n",
       "    </tr>\n",
       "    <tr>\n",
       "      <th>28</th>\n",
       "      <td>2000-06-15 21:00:00</td>\n",
       "      <td>VPD</td>\n",
       "      <td>5.164000</td>\n",
       "      <td>True</td>\n",
       "    </tr>\n",
       "    <tr>\n",
       "      <th>29</th>\n",
       "      <td>2000-06-15 21:30:00</td>\n",
       "      <td>VPD</td>\n",
       "      <td>5.037000</td>\n",
       "      <td>True</td>\n",
       "    </tr>\n",
       "  </tbody>\n",
       "</table>\n",
       "</div>"
      ],
      "text/plain": [
       "                  time variable       value  is_present\n",
       "0  2000-06-15 17:00:00       TA   14.220000       False\n",
       "1  2000-06-15 17:30:00       TA   14.110000       False\n",
       "2  2000-06-15 18:00:00       TA   14.230000        True\n",
       "3  2000-06-15 18:30:00       TA   14.400000        True\n",
       "4  2000-06-15 19:00:00       TA   14.090000        True\n",
       "5  2000-06-15 19:30:00       TA   13.710000        True\n",
       "6  2000-06-15 20:00:00       TA   13.080000        True\n",
       "7  2000-06-15 20:30:00       TA   12.410000        True\n",
       "8  2000-06-15 21:00:00       TA   12.270000        True\n",
       "9  2000-06-15 21:30:00       TA   12.200000        True\n",
       "10 2000-06-15 17:00:00    SW_IN  224.800003       False\n",
       "11 2000-06-15 17:30:00    SW_IN  195.279999       False\n",
       "12 2000-06-15 18:00:00    SW_IN  244.169998        True\n",
       "13 2000-06-15 18:30:00    SW_IN  253.919998        True\n",
       "14 2000-06-15 19:00:00    SW_IN  177.309998        True\n",
       "15 2000-06-15 19:30:00    SW_IN   97.070000        True\n",
       "16 2000-06-15 20:00:00    SW_IN   39.709999        True\n",
       "17 2000-06-15 20:30:00    SW_IN   10.650000        True\n",
       "18 2000-06-15 21:00:00    SW_IN    0.320000        True\n",
       "19 2000-06-15 21:30:00    SW_IN    0.000000        True\n",
       "20 2000-06-15 17:00:00      VPD    5.799000        True\n",
       "21 2000-06-15 17:30:00      VPD    6.577000        True\n",
       "22 2000-06-15 18:00:00      VPD    6.931000        True\n",
       "23 2000-06-15 18:30:00      VPD    7.286000        True\n",
       "24 2000-06-15 19:00:00      VPD    7.251000        True\n",
       "25 2000-06-15 19:30:00      VPD    6.683000        True\n",
       "26 2000-06-15 20:00:00      VPD    5.851000        True\n",
       "27 2000-06-15 20:30:00      VPD    5.254000        True\n",
       "28 2000-06-15 21:00:00      VPD    5.164000        True\n",
       "29 2000-06-15 21:30:00      VPD    5.037000        True"
      ]
     },
     "execution_count": null,
     "metadata": {},
     "output_type": "execute_result"
    }
   ],
   "source": [
    "m_df.tidy()"
   ]
  },
  {
   "cell_type": "markdown",
   "id": "9d2c8fbc-f1e1-4938-b4a6-d29d8bd8e6bd",
   "metadata": {},
   "source": [
    "#### Plotting"
   ]
  },
  {
   "cell_type": "code",
   "execution_count": null,
   "id": "f36f4825-52e4-49c7-92f1-14d64429e3ea",
   "metadata": {},
   "outputs": [],
   "source": [
    "#| export\n",
    "import altair as alt\n",
    "from altair import datum"
   ]
  },
  {
   "cell_type": "code",
   "execution_count": null,
   "id": "51544d62-63ca-4e6c-b63e-943cc739fa5b",
   "metadata": {},
   "outputs": [],
   "source": [
    "#| exporti\n",
    "def def_selection():\n",
    "    return alt.selection_interval(bind=\"scales\")"
   ]
  },
  {
   "cell_type": "markdown",
   "id": "fb225f9b-770d-4d41-941d-08c32cd65927",
   "metadata": {},
   "source": [
    "##### Rug"
   ]
  },
  {
   "cell_type": "code",
   "execution_count": null,
   "id": "7f1e483f-f250-4baf-82ee-3958f5cefba8",
   "metadata": {},
   "outputs": [],
   "source": [
    "#| exporti\n",
    "def plot_rug(df, sel = def_selection(), props = {}):\n",
    "    if 'height' in props:\n",
    "        props = props.copy() \n",
    "        props.pop('height') # rug should have default heigth\n",
    "    return alt.Chart(df).mark_tick(\n",
    "            color='black',\n",
    "        ).encode(\n",
    "            x = \"time\",\n",
    "            color = alt.condition(datum.is_present, alt.value('white'), alt.value('black'))\n",
    "        ).add_params(\n",
    "            sel\n",
    "        ).properties(**props) "
   ]
  },
  {
   "cell_type": "code",
   "execution_count": null,
   "id": "f9668bee-f4dd-48e6-92cd-4b96f1f3626e",
   "metadata": {},
   "outputs": [
    {
     "data": {
      "text/html": [
       "\n",
       "<div id=\"altair-viz-2d061b8cba934bf39d8d2e55de4f5659\"></div>\n",
       "<script type=\"text/javascript\">\n",
       "  var VEGA_DEBUG = (typeof VEGA_DEBUG == \"undefined\") ? {} : VEGA_DEBUG;\n",
       "  (function(spec, embedOpt){\n",
       "    let outputDiv = document.currentScript.previousElementSibling;\n",
       "    if (outputDiv.id !== \"altair-viz-2d061b8cba934bf39d8d2e55de4f5659\") {\n",
       "      outputDiv = document.getElementById(\"altair-viz-2d061b8cba934bf39d8d2e55de4f5659\");\n",
       "    }\n",
       "    const paths = {\n",
       "      \"vega\": \"https://cdn.jsdelivr.net/npm//vega@5?noext\",\n",
       "      \"vega-lib\": \"https://cdn.jsdelivr.net/npm//vega-lib?noext\",\n",
       "      \"vega-lite\": \"https://cdn.jsdelivr.net/npm//vega-lite@5.2.0?noext\",\n",
       "      \"vega-embed\": \"https://cdn.jsdelivr.net/npm//vega-embed@6?noext\",\n",
       "    };\n",
       "\n",
       "    function maybeLoadScript(lib, version) {\n",
       "      var key = `${lib.replace(\"-\", \"\")}_version`;\n",
       "      return (VEGA_DEBUG[key] == version) ?\n",
       "        Promise.resolve(paths[lib]) :\n",
       "        new Promise(function(resolve, reject) {\n",
       "          var s = document.createElement('script');\n",
       "          document.getElementsByTagName(\"head\")[0].appendChild(s);\n",
       "          s.async = true;\n",
       "          s.onload = () => {\n",
       "            VEGA_DEBUG[key] = version;\n",
       "            return resolve(paths[lib]);\n",
       "          };\n",
       "          s.onerror = () => reject(`Error loading script: ${paths[lib]}`);\n",
       "          s.src = paths[lib];\n",
       "        });\n",
       "    }\n",
       "\n",
       "    function showError(err) {\n",
       "      outputDiv.innerHTML = `<div class=\"error\" style=\"color:red;\">${err}</div>`;\n",
       "      throw err;\n",
       "    }\n",
       "\n",
       "    function displayChart(vegaEmbed) {\n",
       "      vegaEmbed(outputDiv, spec, embedOpt)\n",
       "        .catch(err => showError(`Javascript Error: ${err.message}<br>This usually means there's a typo in your chart specification. See the javascript console for the full traceback.`));\n",
       "    }\n",
       "\n",
       "    if(typeof define === \"function\" && define.amd) {\n",
       "      requirejs.config({paths});\n",
       "      require([\"vega-embed\"], displayChart, err => showError(`Error loading script: ${err.message}`));\n",
       "    } else {\n",
       "      maybeLoadScript(\"vega\", \"5\")\n",
       "        .then(() => maybeLoadScript(\"vega-lite\", \"5.2.0\"))\n",
       "        .then(() => maybeLoadScript(\"vega-embed\", \"6\"))\n",
       "        .catch(showError)\n",
       "        .then(() => displayChart(vegaEmbed));\n",
       "    }\n",
       "  })({\"config\": {\"view\": {\"continuousWidth\": 400, \"continuousHeight\": 300}}, \"data\": {\"name\": \"data-88d77f9326d7ae292990a2c5bab99d91\"}, \"mark\": {\"type\": \"tick\", \"color\": \"black\"}, \"encoding\": {\"color\": {\"condition\": {\"value\": \"white\", \"test\": \"datum.is_present\"}, \"value\": \"black\"}, \"x\": {\"field\": \"time\", \"type\": \"temporal\"}}, \"params\": [{\"name\": \"param_1\", \"select\": {\"type\": \"interval\"}, \"bind\": \"scales\"}], \"$schema\": \"https://vega.github.io/schema/vega-lite/v5.2.0.json\", \"datasets\": {\"data-88d77f9326d7ae292990a2c5bab99d91\": [{\"time\": \"2000-06-15T17:00:00\", \"variable\": \"TA\", \"value\": 14.220000267028809, \"is_present\": false}, {\"time\": \"2000-06-15T17:30:00\", \"variable\": \"TA\", \"value\": 14.109999656677246, \"is_present\": false}, {\"time\": \"2000-06-15T18:00:00\", \"variable\": \"TA\", \"value\": 14.229999542236328, \"is_present\": true}, {\"time\": \"2000-06-15T18:30:00\", \"variable\": \"TA\", \"value\": 14.399999618530273, \"is_present\": true}, {\"time\": \"2000-06-15T19:00:00\", \"variable\": \"TA\", \"value\": 14.09000015258789, \"is_present\": true}, {\"time\": \"2000-06-15T19:30:00\", \"variable\": \"TA\", \"value\": 13.710000038146973, \"is_present\": true}, {\"time\": \"2000-06-15T20:00:00\", \"variable\": \"TA\", \"value\": 13.079999923706055, \"is_present\": true}, {\"time\": \"2000-06-15T20:30:00\", \"variable\": \"TA\", \"value\": 12.40999984741211, \"is_present\": true}, {\"time\": \"2000-06-15T21:00:00\", \"variable\": \"TA\", \"value\": 12.270000457763672, \"is_present\": true}, {\"time\": \"2000-06-15T21:30:00\", \"variable\": \"TA\", \"value\": 12.199999809265137, \"is_present\": true}, {\"time\": \"2000-06-15T17:00:00\", \"variable\": \"SW_IN\", \"value\": 224.8000030517578, \"is_present\": false}, {\"time\": \"2000-06-15T17:30:00\", \"variable\": \"SW_IN\", \"value\": 195.27999877929688, \"is_present\": false}, {\"time\": \"2000-06-15T18:00:00\", \"variable\": \"SW_IN\", \"value\": 244.1699981689453, \"is_present\": true}, {\"time\": \"2000-06-15T18:30:00\", \"variable\": \"SW_IN\", \"value\": 253.9199981689453, \"is_present\": true}, {\"time\": \"2000-06-15T19:00:00\", \"variable\": \"SW_IN\", \"value\": 177.30999755859375, \"is_present\": true}, {\"time\": \"2000-06-15T19:30:00\", \"variable\": \"SW_IN\", \"value\": 97.06999969482422, \"is_present\": true}, {\"time\": \"2000-06-15T20:00:00\", \"variable\": \"SW_IN\", \"value\": 39.709999084472656, \"is_present\": true}, {\"time\": \"2000-06-15T20:30:00\", \"variable\": \"SW_IN\", \"value\": 10.649999618530273, \"is_present\": true}, {\"time\": \"2000-06-15T21:00:00\", \"variable\": \"SW_IN\", \"value\": 0.3199999928474426, \"is_present\": true}, {\"time\": \"2000-06-15T21:30:00\", \"variable\": \"SW_IN\", \"value\": 0.0, \"is_present\": true}, {\"time\": \"2000-06-15T17:00:00\", \"variable\": \"VPD\", \"value\": 5.798999786376953, \"is_present\": true}, {\"time\": \"2000-06-15T17:30:00\", \"variable\": \"VPD\", \"value\": 6.577000141143799, \"is_present\": true}, {\"time\": \"2000-06-15T18:00:00\", \"variable\": \"VPD\", \"value\": 6.931000232696533, \"is_present\": true}, {\"time\": \"2000-06-15T18:30:00\", \"variable\": \"VPD\", \"value\": 7.285999774932861, \"is_present\": true}, {\"time\": \"2000-06-15T19:00:00\", \"variable\": \"VPD\", \"value\": 7.250999927520752, \"is_present\": true}, {\"time\": \"2000-06-15T19:30:00\", \"variable\": \"VPD\", \"value\": 6.683000087738037, \"is_present\": true}, {\"time\": \"2000-06-15T20:00:00\", \"variable\": \"VPD\", \"value\": 5.85099983215332, \"is_present\": true}, {\"time\": \"2000-06-15T20:30:00\", \"variable\": \"VPD\", \"value\": 5.254000186920166, \"is_present\": true}, {\"time\": \"2000-06-15T21:00:00\", \"variable\": \"VPD\", \"value\": 5.164000034332275, \"is_present\": true}, {\"time\": \"2000-06-15T21:30:00\", \"variable\": \"VPD\", \"value\": 5.0370001792907715, \"is_present\": true}]}}, {\"mode\": \"vega-lite\"});\n",
       "</script>"
      ],
      "text/plain": [
       "alt.Chart(...)"
      ]
     },
     "execution_count": null,
     "metadata": {},
     "output_type": "execute_result"
    }
   ],
   "source": [
    "plot_rug(m_df.tidy())"
   ]
  },
  {
   "cell_type": "code",
   "execution_count": null,
   "id": "bdefec0f-d6f6-4567-a187-a005d585fde6",
   "metadata": {},
   "outputs": [],
   "source": [
    "df = m_df.tidy()"
   ]
  },
  {
   "cell_type": "code",
   "execution_count": null,
   "id": "d6b0071d-6545-475d-8230-f0855dfe541f",
   "metadata": {},
   "outputs": [],
   "source": [
    "df = df[df.variable==\"TA\"].copy()"
   ]
  },
  {
   "cell_type": "code",
   "execution_count": null,
   "id": "6ed27295-faac-42e7-9f06-449e7b247531",
   "metadata": {},
   "outputs": [],
   "source": [
    "df['row_number'] = df.reset_index().index"
   ]
  },
  {
   "cell_type": "code",
   "execution_count": null,
   "id": "21b363a1-fb47-4569-87e9-46b0c6b0c3d0",
   "metadata": {},
   "outputs": [
    {
     "data": {
      "text/html": [
       "<div>\n",
       "<style scoped>\n",
       "    .dataframe tbody tr th:only-of-type {\n",
       "        vertical-align: middle;\n",
       "    }\n",
       "\n",
       "    .dataframe tbody tr th {\n",
       "        vertical-align: top;\n",
       "    }\n",
       "\n",
       "    .dataframe thead th {\n",
       "        text-align: right;\n",
       "    }\n",
       "</style>\n",
       "<table border=\"1\" class=\"dataframe\">\n",
       "  <thead>\n",
       "    <tr style=\"text-align: right;\">\n",
       "      <th></th>\n",
       "      <th>time</th>\n",
       "      <th>variable</th>\n",
       "      <th>value</th>\n",
       "      <th>is_present</th>\n",
       "      <th>row_number</th>\n",
       "    </tr>\n",
       "  </thead>\n",
       "  <tbody>\n",
       "    <tr>\n",
       "      <th>0</th>\n",
       "      <td>2000-06-15 17:00:00</td>\n",
       "      <td>TA</td>\n",
       "      <td>14.22</td>\n",
       "      <td>False</td>\n",
       "      <td>0</td>\n",
       "    </tr>\n",
       "    <tr>\n",
       "      <th>1</th>\n",
       "      <td>2000-06-15 17:30:00</td>\n",
       "      <td>TA</td>\n",
       "      <td>14.11</td>\n",
       "      <td>False</td>\n",
       "      <td>1</td>\n",
       "    </tr>\n",
       "    <tr>\n",
       "      <th>2</th>\n",
       "      <td>2000-06-15 18:00:00</td>\n",
       "      <td>TA</td>\n",
       "      <td>14.23</td>\n",
       "      <td>True</td>\n",
       "      <td>2</td>\n",
       "    </tr>\n",
       "    <tr>\n",
       "      <th>3</th>\n",
       "      <td>2000-06-15 18:30:00</td>\n",
       "      <td>TA</td>\n",
       "      <td>14.40</td>\n",
       "      <td>True</td>\n",
       "      <td>3</td>\n",
       "    </tr>\n",
       "    <tr>\n",
       "      <th>4</th>\n",
       "      <td>2000-06-15 19:00:00</td>\n",
       "      <td>TA</td>\n",
       "      <td>14.09</td>\n",
       "      <td>True</td>\n",
       "      <td>4</td>\n",
       "    </tr>\n",
       "    <tr>\n",
       "      <th>5</th>\n",
       "      <td>2000-06-15 19:30:00</td>\n",
       "      <td>TA</td>\n",
       "      <td>13.71</td>\n",
       "      <td>True</td>\n",
       "      <td>5</td>\n",
       "    </tr>\n",
       "    <tr>\n",
       "      <th>6</th>\n",
       "      <td>2000-06-15 20:00:00</td>\n",
       "      <td>TA</td>\n",
       "      <td>13.08</td>\n",
       "      <td>True</td>\n",
       "      <td>6</td>\n",
       "    </tr>\n",
       "    <tr>\n",
       "      <th>7</th>\n",
       "      <td>2000-06-15 20:30:00</td>\n",
       "      <td>TA</td>\n",
       "      <td>12.41</td>\n",
       "      <td>True</td>\n",
       "      <td>7</td>\n",
       "    </tr>\n",
       "    <tr>\n",
       "      <th>8</th>\n",
       "      <td>2000-06-15 21:00:00</td>\n",
       "      <td>TA</td>\n",
       "      <td>12.27</td>\n",
       "      <td>True</td>\n",
       "      <td>8</td>\n",
       "    </tr>\n",
       "    <tr>\n",
       "      <th>9</th>\n",
       "      <td>2000-06-15 21:30:00</td>\n",
       "      <td>TA</td>\n",
       "      <td>12.20</td>\n",
       "      <td>True</td>\n",
       "      <td>9</td>\n",
       "    </tr>\n",
       "  </tbody>\n",
       "</table>\n",
       "</div>"
      ],
      "text/plain": [
       "                 time variable  value  is_present  row_number\n",
       "0 2000-06-15 17:00:00       TA  14.22       False           0\n",
       "1 2000-06-15 17:30:00       TA  14.11       False           1\n",
       "2 2000-06-15 18:00:00       TA  14.23        True           2\n",
       "3 2000-06-15 18:30:00       TA  14.40        True           3\n",
       "4 2000-06-15 19:00:00       TA  14.09        True           4\n",
       "5 2000-06-15 19:30:00       TA  13.71        True           5\n",
       "6 2000-06-15 20:00:00       TA  13.08        True           6\n",
       "7 2000-06-15 20:30:00       TA  12.41        True           7\n",
       "8 2000-06-15 21:00:00       TA  12.27        True           8\n",
       "9 2000-06-15 21:30:00       TA  12.20        True           9"
      ]
     },
     "execution_count": null,
     "metadata": {},
     "output_type": "execute_result"
    }
   ],
   "source": [
    "df"
   ]
  },
  {
   "cell_type": "code",
   "execution_count": null,
   "id": "f6c46a29-3900-4a8c-b80a-dfdf374591f8",
   "metadata": {},
   "outputs": [
    {
     "data": {
      "text/plain": [
       "time          2000-06-15 17:30:00\n",
       "variable                       TA\n",
       "value                       14.11\n",
       "is_present                  False\n",
       "row_number                      1\n",
       "Name: 1, dtype: object"
      ]
     },
     "execution_count": null,
     "metadata": {},
     "output_type": "execute_result"
    }
   ],
   "source": [
    "df.iloc[1]"
   ]
  },
  {
   "cell_type": "code",
   "execution_count": null,
   "id": "6571fccf-df94-4339-bd7d-6b7d8a485c84",
   "metadata": {},
   "outputs": [],
   "source": [
    "df.loc[2, \"is_present\"] = True"
   ]
  },
  {
   "cell_type": "code",
   "execution_count": null,
   "id": "02874424-e189-4097-bcce-e9a3018e5603",
   "metadata": {},
   "outputs": [
    {
     "data": {
      "text/html": [
       "<div>\n",
       "<style scoped>\n",
       "    .dataframe tbody tr th:only-of-type {\n",
       "        vertical-align: middle;\n",
       "    }\n",
       "\n",
       "    .dataframe tbody tr th {\n",
       "        vertical-align: top;\n",
       "    }\n",
       "\n",
       "    .dataframe thead th {\n",
       "        text-align: right;\n",
       "    }\n",
       "</style>\n",
       "<table border=\"1\" class=\"dataframe\">\n",
       "  <thead>\n",
       "    <tr style=\"text-align: right;\">\n",
       "      <th></th>\n",
       "      <th>time</th>\n",
       "      <th>variable</th>\n",
       "      <th>value</th>\n",
       "      <th>is_present</th>\n",
       "      <th>row_number</th>\n",
       "    </tr>\n",
       "  </thead>\n",
       "  <tbody>\n",
       "    <tr>\n",
       "      <th>0</th>\n",
       "      <td>2000-06-15 17:00:00</td>\n",
       "      <td>TA</td>\n",
       "      <td>14.22</td>\n",
       "      <td>False</td>\n",
       "      <td>0</td>\n",
       "    </tr>\n",
       "    <tr>\n",
       "      <th>1</th>\n",
       "      <td>2000-06-15 17:30:00</td>\n",
       "      <td>TA</td>\n",
       "      <td>14.11</td>\n",
       "      <td>False</td>\n",
       "      <td>1</td>\n",
       "    </tr>\n",
       "    <tr>\n",
       "      <th>2</th>\n",
       "      <td>2000-06-15 18:00:00</td>\n",
       "      <td>TA</td>\n",
       "      <td>14.23</td>\n",
       "      <td>True</td>\n",
       "      <td>2</td>\n",
       "    </tr>\n",
       "    <tr>\n",
       "      <th>3</th>\n",
       "      <td>2000-06-15 18:30:00</td>\n",
       "      <td>TA</td>\n",
       "      <td>14.40</td>\n",
       "      <td>True</td>\n",
       "      <td>3</td>\n",
       "    </tr>\n",
       "    <tr>\n",
       "      <th>4</th>\n",
       "      <td>2000-06-15 19:00:00</td>\n",
       "      <td>TA</td>\n",
       "      <td>14.09</td>\n",
       "      <td>True</td>\n",
       "      <td>4</td>\n",
       "    </tr>\n",
       "    <tr>\n",
       "      <th>5</th>\n",
       "      <td>2000-06-15 19:30:00</td>\n",
       "      <td>TA</td>\n",
       "      <td>13.71</td>\n",
       "      <td>True</td>\n",
       "      <td>5</td>\n",
       "    </tr>\n",
       "    <tr>\n",
       "      <th>6</th>\n",
       "      <td>2000-06-15 20:00:00</td>\n",
       "      <td>TA</td>\n",
       "      <td>13.08</td>\n",
       "      <td>True</td>\n",
       "      <td>6</td>\n",
       "    </tr>\n",
       "    <tr>\n",
       "      <th>7</th>\n",
       "      <td>2000-06-15 20:30:00</td>\n",
       "      <td>TA</td>\n",
       "      <td>12.41</td>\n",
       "      <td>True</td>\n",
       "      <td>7</td>\n",
       "    </tr>\n",
       "    <tr>\n",
       "      <th>8</th>\n",
       "      <td>2000-06-15 21:00:00</td>\n",
       "      <td>TA</td>\n",
       "      <td>12.27</td>\n",
       "      <td>True</td>\n",
       "      <td>8</td>\n",
       "    </tr>\n",
       "    <tr>\n",
       "      <th>9</th>\n",
       "      <td>2000-06-15 21:30:00</td>\n",
       "      <td>TA</td>\n",
       "      <td>12.20</td>\n",
       "      <td>True</td>\n",
       "      <td>9</td>\n",
       "    </tr>\n",
       "  </tbody>\n",
       "</table>\n",
       "</div>"
      ],
      "text/plain": [
       "                 time variable  value  is_present  row_number\n",
       "0 2000-06-15 17:00:00       TA  14.22       False           0\n",
       "1 2000-06-15 17:30:00       TA  14.11       False           1\n",
       "2 2000-06-15 18:00:00       TA  14.23        True           2\n",
       "3 2000-06-15 18:30:00       TA  14.40        True           3\n",
       "4 2000-06-15 19:00:00       TA  14.09        True           4\n",
       "5 2000-06-15 19:30:00       TA  13.71        True           5\n",
       "6 2000-06-15 20:00:00       TA  13.08        True           6\n",
       "7 2000-06-15 20:30:00       TA  12.41        True           7\n",
       "8 2000-06-15 21:00:00       TA  12.27        True           8\n",
       "9 2000-06-15 21:30:00       TA  12.20        True           9"
      ]
     },
     "execution_count": null,
     "metadata": {},
     "output_type": "execute_result"
    }
   ],
   "source": [
    "df"
   ]
  },
  {
   "cell_type": "code",
   "execution_count": null,
   "id": "6bc69f42-fbae-4393-a474-7dd845a2c469",
   "metadata": {},
   "outputs": [],
   "source": [
    "i = 1\n",
    "prev, curr, _next= df.iloc[i-1], df.iloc[i], df.iloc[i+1]"
   ]
  },
  {
   "cell_type": "code",
   "execution_count": null,
   "id": "091cedd6-11d6-4086-a0e3-69d2a2b0c3e6",
   "metadata": {},
   "outputs": [
    {
     "data": {
      "text/plain": [
       "(time          2000-06-15 17:00:00\n",
       " variable                       TA\n",
       " value                       14.22\n",
       " is_present                  False\n",
       " row_number                      0\n",
       " Name: 0, dtype: object,\n",
       " time          2000-06-15 17:30:00\n",
       " variable                       TA\n",
       " value                       14.11\n",
       " is_present                  False\n",
       " row_number                      1\n",
       " Name: 1, dtype: object,\n",
       " time          2000-06-15 18:00:00\n",
       " variable                       TA\n",
       " value                       14.23\n",
       " is_present                   True\n",
       " row_number                      2\n",
       " Name: 2, dtype: object)"
      ]
     },
     "execution_count": null,
     "metadata": {},
     "output_type": "execute_result"
    }
   ],
   "source": [
    "prev, curr, _next"
   ]
  },
  {
   "cell_type": "code",
   "execution_count": null,
   "id": "8ef120c9-d2f4-4b89-bfa5-e6a8758f16bd",
   "metadata": {},
   "outputs": [
    {
     "data": {
      "text/html": [
       "<div>\n",
       "<style scoped>\n",
       "    .dataframe tbody tr th:only-of-type {\n",
       "        vertical-align: middle;\n",
       "    }\n",
       "\n",
       "    .dataframe tbody tr th {\n",
       "        vertical-align: top;\n",
       "    }\n",
       "\n",
       "    .dataframe thead th {\n",
       "        text-align: right;\n",
       "    }\n",
       "</style>\n",
       "<table border=\"1\" class=\"dataframe\">\n",
       "  <thead>\n",
       "    <tr style=\"text-align: right;\">\n",
       "      <th></th>\n",
       "      <th>time</th>\n",
       "      <th>variable</th>\n",
       "      <th>value</th>\n",
       "      <th>is_present</th>\n",
       "      <th>row_number</th>\n",
       "    </tr>\n",
       "  </thead>\n",
       "  <tbody>\n",
       "    <tr>\n",
       "      <th>0</th>\n",
       "      <td>2000-06-15 17:00:00</td>\n",
       "      <td>TA</td>\n",
       "      <td>14.22</td>\n",
       "      <td>False</td>\n",
       "      <td>0</td>\n",
       "    </tr>\n",
       "    <tr>\n",
       "      <th>1</th>\n",
       "      <td>2000-06-15 17:30:00</td>\n",
       "      <td>TA</td>\n",
       "      <td>14.11</td>\n",
       "      <td>False</td>\n",
       "      <td>1</td>\n",
       "    </tr>\n",
       "    <tr>\n",
       "      <th>2</th>\n",
       "      <td>2000-06-15 18:00:00</td>\n",
       "      <td>TA</td>\n",
       "      <td>14.23</td>\n",
       "      <td>True</td>\n",
       "      <td>2</td>\n",
       "    </tr>\n",
       "    <tr>\n",
       "      <th>3</th>\n",
       "      <td>2000-06-15 18:30:00</td>\n",
       "      <td>TA</td>\n",
       "      <td>14.40</td>\n",
       "      <td>True</td>\n",
       "      <td>3</td>\n",
       "    </tr>\n",
       "    <tr>\n",
       "      <th>4</th>\n",
       "      <td>2000-06-15 19:00:00</td>\n",
       "      <td>TA</td>\n",
       "      <td>14.09</td>\n",
       "      <td>True</td>\n",
       "      <td>4</td>\n",
       "    </tr>\n",
       "    <tr>\n",
       "      <th>5</th>\n",
       "      <td>2000-06-15 19:30:00</td>\n",
       "      <td>TA</td>\n",
       "      <td>13.71</td>\n",
       "      <td>True</td>\n",
       "      <td>5</td>\n",
       "    </tr>\n",
       "    <tr>\n",
       "      <th>6</th>\n",
       "      <td>2000-06-15 20:00:00</td>\n",
       "      <td>TA</td>\n",
       "      <td>13.08</td>\n",
       "      <td>True</td>\n",
       "      <td>6</td>\n",
       "    </tr>\n",
       "    <tr>\n",
       "      <th>7</th>\n",
       "      <td>2000-06-15 20:30:00</td>\n",
       "      <td>TA</td>\n",
       "      <td>12.41</td>\n",
       "      <td>True</td>\n",
       "      <td>7</td>\n",
       "    </tr>\n",
       "    <tr>\n",
       "      <th>8</th>\n",
       "      <td>2000-06-15 21:00:00</td>\n",
       "      <td>TA</td>\n",
       "      <td>12.27</td>\n",
       "      <td>True</td>\n",
       "      <td>8</td>\n",
       "    </tr>\n",
       "    <tr>\n",
       "      <th>9</th>\n",
       "      <td>2000-06-15 21:30:00</td>\n",
       "      <td>TA</td>\n",
       "      <td>12.20</td>\n",
       "      <td>True</td>\n",
       "      <td>9</td>\n",
       "    </tr>\n",
       "  </tbody>\n",
       "</table>\n",
       "</div>"
      ],
      "text/plain": [
       "                 time variable  value  is_present  row_number\n",
       "0 2000-06-15 17:00:00       TA  14.22       False           0\n",
       "1 2000-06-15 17:30:00       TA  14.11       False           1\n",
       "2 2000-06-15 18:00:00       TA  14.23        True           2\n",
       "3 2000-06-15 18:30:00       TA  14.40        True           3\n",
       "4 2000-06-15 19:00:00       TA  14.09        True           4\n",
       "5 2000-06-15 19:30:00       TA  13.71        True           5\n",
       "6 2000-06-15 20:00:00       TA  13.08        True           6\n",
       "7 2000-06-15 20:30:00       TA  12.41        True           7\n",
       "8 2000-06-15 21:00:00       TA  12.27        True           8\n",
       "9 2000-06-15 21:30:00       TA  12.20        True           9"
      ]
     },
     "execution_count": null,
     "metadata": {},
     "output_type": "execute_result"
    }
   ],
   "source": [
    "df"
   ]
  },
  {
   "cell_type": "code",
   "execution_count": null,
   "id": "d9b58d08-3aab-4c42-8466-985aeb5abc54",
   "metadata": {},
   "outputs": [
    {
     "name": "stdout",
     "output_type": "stream",
     "text": [
      "gap start 2000-06-15 17:00:00\n",
      "gap end 2000-06-15 17:30:00\n"
     ]
    }
   ],
   "source": [
    "for i in range(len(df)):\n",
    "    # handle boundaries\n",
    "    prev = df.iloc[i-1].is_present if i>0 else True \n",
    "    _next = df.iloc[i+1].is_present if i<(len(df)-1) else True \n",
    "    curr = df.iloc[i]\n",
    "    if not curr.is_present and prev:\n",
    "        print(\"gap start\", curr.time)\n",
    "    if not curr.is_present and _next:\n",
    "        print(\"gap end\", curr.time)"
   ]
  },
  {
   "cell_type": "code",
   "execution_count": null,
   "id": "34b96982-b6f3-4405-8583-0e207978eac3",
   "metadata": {},
   "outputs": [],
   "source": [
    "#| export\n",
    "def find_gap_limits(df):\n",
    "    gap_starts, gap_ends = [], []\n",
    "    for i in range(len(df)):\n",
    "        prev = df.iloc[i-1].is_present if i>0 else True \n",
    "        _next = df.iloc[i+1].is_present if i<(len(df)-1) else True \n",
    "        curr = df.iloc[i]\n",
    "        if not curr.is_present and prev: gap_starts.append(curr.time)\n",
    "        if not curr.is_present and _next: gap_ends.append(curr.time)\n",
    "    return pd.DataFrame({'gap_start': gap_starts, 'gap_end': gap_ends})\n",
    "    "
   ]
  },
  {
   "cell_type": "code",
   "execution_count": null,
   "id": "1e634f1e-0d8e-4e9f-a843-a3c9ded54bae",
   "metadata": {},
   "outputs": [
    {
     "data": {
      "text/html": [
       "<div>\n",
       "<style scoped>\n",
       "    .dataframe tbody tr th:only-of-type {\n",
       "        vertical-align: middle;\n",
       "    }\n",
       "\n",
       "    .dataframe tbody tr th {\n",
       "        vertical-align: top;\n",
       "    }\n",
       "\n",
       "    .dataframe thead th {\n",
       "        text-align: right;\n",
       "    }\n",
       "</style>\n",
       "<table border=\"1\" class=\"dataframe\">\n",
       "  <thead>\n",
       "    <tr style=\"text-align: right;\">\n",
       "      <th></th>\n",
       "      <th>gap_start</th>\n",
       "      <th>gap_end</th>\n",
       "    </tr>\n",
       "  </thead>\n",
       "  <tbody>\n",
       "    <tr>\n",
       "      <th>0</th>\n",
       "      <td>2000-06-15 17:00:00</td>\n",
       "      <td>2000-06-15 17:30:00</td>\n",
       "    </tr>\n",
       "  </tbody>\n",
       "</table>\n",
       "</div>"
      ],
      "text/plain": [
       "            gap_start             gap_end\n",
       "0 2000-06-15 17:00:00 2000-06-15 17:30:00"
      ]
     },
     "execution_count": null,
     "metadata": {},
     "output_type": "execute_result"
    }
   ],
   "source": [
    "find_gap_limits(df)"
   ]
  },
  {
   "cell_type": "code",
   "execution_count": null,
   "id": "c8bf87ef-4401-4e69-97a4-67781c752b40",
   "metadata": {},
   "outputs": [],
   "source": [
    "#| export\n",
    "def plot_missing_area(df, sel = def_selection(), props={}):\n",
    "    gap_limits = find_gap_limits(df)\n",
    "    start = alt.Chart(gap_limits).mark_rule().encode(\n",
    "        x = alt.X('gap_start', axis=alt.Axis(domain=False, labels = False, ticks=False, title=None)),\n",
    "    )\n",
    "    end = alt.Chart(gap_limits).mark_rule().encode(\n",
    "        x = alt.X('gap_end', axis=alt.Axis(domain=False, labels = False, ticks=False, title=None))\n",
    "    )\n",
    "    area = alt.Chart(gap_limits).mark_rect(color='black', opacity=.2).encode(\n",
    "        x = alt.X('gap_start', axis=alt.Axis(domain=False, labels = False, ticks=False, title=None)),\n",
    "        x2 = 'gap_end'\n",
    "    )\n",
    "    return (start + end + area)#.add_params(sel).properties(**props)"
   ]
  },
  {
   "cell_type": "code",
   "execution_count": null,
   "id": "6df1e7d6-674e-465c-af15-ecfca892ef51",
   "metadata": {},
   "outputs": [
    {
     "data": {
      "text/html": [
       "\n",
       "<div id=\"altair-viz-9ed1aa2a1a434d8093ee5601cd4c9fbb\"></div>\n",
       "<script type=\"text/javascript\">\n",
       "  var VEGA_DEBUG = (typeof VEGA_DEBUG == \"undefined\") ? {} : VEGA_DEBUG;\n",
       "  (function(spec, embedOpt){\n",
       "    let outputDiv = document.currentScript.previousElementSibling;\n",
       "    if (outputDiv.id !== \"altair-viz-9ed1aa2a1a434d8093ee5601cd4c9fbb\") {\n",
       "      outputDiv = document.getElementById(\"altair-viz-9ed1aa2a1a434d8093ee5601cd4c9fbb\");\n",
       "    }\n",
       "    const paths = {\n",
       "      \"vega\": \"https://cdn.jsdelivr.net/npm//vega@5?noext\",\n",
       "      \"vega-lib\": \"https://cdn.jsdelivr.net/npm//vega-lib?noext\",\n",
       "      \"vega-lite\": \"https://cdn.jsdelivr.net/npm//vega-lite@5.2.0?noext\",\n",
       "      \"vega-embed\": \"https://cdn.jsdelivr.net/npm//vega-embed@6?noext\",\n",
       "    };\n",
       "\n",
       "    function maybeLoadScript(lib, version) {\n",
       "      var key = `${lib.replace(\"-\", \"\")}_version`;\n",
       "      return (VEGA_DEBUG[key] == version) ?\n",
       "        Promise.resolve(paths[lib]) :\n",
       "        new Promise(function(resolve, reject) {\n",
       "          var s = document.createElement('script');\n",
       "          document.getElementsByTagName(\"head\")[0].appendChild(s);\n",
       "          s.async = true;\n",
       "          s.onload = () => {\n",
       "            VEGA_DEBUG[key] = version;\n",
       "            return resolve(paths[lib]);\n",
       "          };\n",
       "          s.onerror = () => reject(`Error loading script: ${paths[lib]}`);\n",
       "          s.src = paths[lib];\n",
       "        });\n",
       "    }\n",
       "\n",
       "    function showError(err) {\n",
       "      outputDiv.innerHTML = `<div class=\"error\" style=\"color:red;\">${err}</div>`;\n",
       "      throw err;\n",
       "    }\n",
       "\n",
       "    function displayChart(vegaEmbed) {\n",
       "      vegaEmbed(outputDiv, spec, embedOpt)\n",
       "        .catch(err => showError(`Javascript Error: ${err.message}<br>This usually means there's a typo in your chart specification. See the javascript console for the full traceback.`));\n",
       "    }\n",
       "\n",
       "    if(typeof define === \"function\" && define.amd) {\n",
       "      requirejs.config({paths});\n",
       "      require([\"vega-embed\"], displayChart, err => showError(`Error loading script: ${err.message}`));\n",
       "    } else {\n",
       "      maybeLoadScript(\"vega\", \"5\")\n",
       "        .then(() => maybeLoadScript(\"vega-lite\", \"5.2.0\"))\n",
       "        .then(() => maybeLoadScript(\"vega-embed\", \"6\"))\n",
       "        .catch(showError)\n",
       "        .then(() => displayChart(vegaEmbed));\n",
       "    }\n",
       "  })({\"config\": {\"view\": {\"continuousWidth\": 400, \"continuousHeight\": 300}}, \"layer\": [{\"mark\": \"rule\", \"encoding\": {\"x\": {\"axis\": {\"domain\": false, \"labels\": false, \"ticks\": false, \"title\": null}, \"field\": \"gap_start\", \"type\": \"temporal\"}}}, {\"mark\": \"rule\", \"encoding\": {\"x\": {\"axis\": {\"domain\": false, \"labels\": false, \"ticks\": false, \"title\": null}, \"field\": \"gap_end\", \"type\": \"temporal\"}}}, {\"mark\": {\"type\": \"rect\", \"color\": \"black\", \"opacity\": 0.2}, \"encoding\": {\"x\": {\"axis\": {\"domain\": false, \"labels\": false, \"ticks\": false, \"title\": null}, \"field\": \"gap_start\", \"type\": \"temporal\"}, \"x2\": {\"field\": \"gap_end\"}}}], \"data\": {\"name\": \"data-6a3d66586038851ee63af4299d7783ff\"}, \"$schema\": \"https://vega.github.io/schema/vega-lite/v5.2.0.json\", \"datasets\": {\"data-6a3d66586038851ee63af4299d7783ff\": [{\"gap_start\": \"2000-06-15T17:00:00\", \"gap_end\": \"2000-06-15T17:30:00\"}]}}, {\"mode\": \"vega-lite\"});\n",
       "</script>"
      ],
      "text/plain": [
       "alt.LayerChart(...)"
      ]
     },
     "execution_count": null,
     "metadata": {},
     "output_type": "execute_result"
    }
   ],
   "source": [
    "plot_missing_area(df)"
   ]
  },
  {
   "cell_type": "markdown",
   "id": "9ab60349-4e58-4fd7-bc85-ad85146af0a5",
   "metadata": {},
   "source": [
    "##### Points"
   ]
  },
  {
   "cell_type": "code",
   "execution_count": null,
   "id": "52f438da-c85f-40e7-bdac-c08bce559cc3",
   "metadata": {},
   "outputs": [],
   "source": [
    "#| export\n",
    "def plot_points(df, y = \"value\", y_label = \"\", sel = def_selection(), props = {}):\n",
    "    return alt.Chart(df).mark_point(\n",
    "            color='black',\n",
    "            strokeWidth = 1,\n",
    "            fillOpacity = 1\n",
    "        ).encode(\n",
    "            x = alt.X(\"time\", axis=alt.Axis(domain=True, labels = True, ticks=True, title=\"time\")),\n",
    "            y = alt.Y(y, title = y_label, scale=alt.Scale(zero=False)),\n",
    "            fill= alt.Fill(\"is_present\", scale = alt.Scale(range=[\"black\", \"#ffffff00\"]),\n",
    "                           legend = alt.Legend(title =[\"Observed data\"])),\n",
    "            shape = \"is_present\",\n",
    "        )"
   ]
  },
  {
   "cell_type": "code",
   "execution_count": null,
   "id": "530d054b-120d-4883-9692-ff2518adabbf",
   "metadata": {},
   "outputs": [
    {
     "data": {
      "text/html": [
       "\n",
       "<div id=\"altair-viz-57d6dbf7f3994791a5441adbb3d166c7\"></div>\n",
       "<script type=\"text/javascript\">\n",
       "  var VEGA_DEBUG = (typeof VEGA_DEBUG == \"undefined\") ? {} : VEGA_DEBUG;\n",
       "  (function(spec, embedOpt){\n",
       "    let outputDiv = document.currentScript.previousElementSibling;\n",
       "    if (outputDiv.id !== \"altair-viz-57d6dbf7f3994791a5441adbb3d166c7\") {\n",
       "      outputDiv = document.getElementById(\"altair-viz-57d6dbf7f3994791a5441adbb3d166c7\");\n",
       "    }\n",
       "    const paths = {\n",
       "      \"vega\": \"https://cdn.jsdelivr.net/npm//vega@5?noext\",\n",
       "      \"vega-lib\": \"https://cdn.jsdelivr.net/npm//vega-lib?noext\",\n",
       "      \"vega-lite\": \"https://cdn.jsdelivr.net/npm//vega-lite@5.2.0?noext\",\n",
       "      \"vega-embed\": \"https://cdn.jsdelivr.net/npm//vega-embed@6?noext\",\n",
       "    };\n",
       "\n",
       "    function maybeLoadScript(lib, version) {\n",
       "      var key = `${lib.replace(\"-\", \"\")}_version`;\n",
       "      return (VEGA_DEBUG[key] == version) ?\n",
       "        Promise.resolve(paths[lib]) :\n",
       "        new Promise(function(resolve, reject) {\n",
       "          var s = document.createElement('script');\n",
       "          document.getElementsByTagName(\"head\")[0].appendChild(s);\n",
       "          s.async = true;\n",
       "          s.onload = () => {\n",
       "            VEGA_DEBUG[key] = version;\n",
       "            return resolve(paths[lib]);\n",
       "          };\n",
       "          s.onerror = () => reject(`Error loading script: ${paths[lib]}`);\n",
       "          s.src = paths[lib];\n",
       "        });\n",
       "    }\n",
       "\n",
       "    function showError(err) {\n",
       "      outputDiv.innerHTML = `<div class=\"error\" style=\"color:red;\">${err}</div>`;\n",
       "      throw err;\n",
       "    }\n",
       "\n",
       "    function displayChart(vegaEmbed) {\n",
       "      vegaEmbed(outputDiv, spec, embedOpt)\n",
       "        .catch(err => showError(`Javascript Error: ${err.message}<br>This usually means there's a typo in your chart specification. See the javascript console for the full traceback.`));\n",
       "    }\n",
       "\n",
       "    if(typeof define === \"function\" && define.amd) {\n",
       "      requirejs.config({paths});\n",
       "      require([\"vega-embed\"], displayChart, err => showError(`Error loading script: ${err.message}`));\n",
       "    } else {\n",
       "      maybeLoadScript(\"vega\", \"5\")\n",
       "        .then(() => maybeLoadScript(\"vega-lite\", \"5.2.0\"))\n",
       "        .then(() => maybeLoadScript(\"vega-embed\", \"6\"))\n",
       "        .catch(showError)\n",
       "        .then(() => displayChart(vegaEmbed));\n",
       "    }\n",
       "  })({\"config\": {\"view\": {\"continuousWidth\": 400, \"continuousHeight\": 300}}, \"data\": {\"name\": \"data-88d77f9326d7ae292990a2c5bab99d91\"}, \"mark\": {\"type\": \"point\", \"color\": \"black\", \"fillOpacity\": 1, \"strokeWidth\": 1}, \"encoding\": {\"fill\": {\"field\": \"is_present\", \"legend\": {\"title\": [\"Observed data\"]}, \"scale\": {\"range\": [\"black\", \"#ffffff00\"]}, \"type\": \"nominal\"}, \"shape\": {\"field\": \"is_present\", \"type\": \"nominal\"}, \"x\": {\"axis\": {\"domain\": true, \"labels\": true, \"ticks\": true, \"title\": \"time\"}, \"field\": \"time\", \"type\": \"temporal\"}, \"y\": {\"field\": \"value\", \"scale\": {\"zero\": false}, \"title\": \"\", \"type\": \"quantitative\"}}, \"$schema\": \"https://vega.github.io/schema/vega-lite/v5.2.0.json\", \"datasets\": {\"data-88d77f9326d7ae292990a2c5bab99d91\": [{\"time\": \"2000-06-15T17:00:00\", \"variable\": \"TA\", \"value\": 14.220000267028809, \"is_present\": false}, {\"time\": \"2000-06-15T17:30:00\", \"variable\": \"TA\", \"value\": 14.109999656677246, \"is_present\": false}, {\"time\": \"2000-06-15T18:00:00\", \"variable\": \"TA\", \"value\": 14.229999542236328, \"is_present\": true}, {\"time\": \"2000-06-15T18:30:00\", \"variable\": \"TA\", \"value\": 14.399999618530273, \"is_present\": true}, {\"time\": \"2000-06-15T19:00:00\", \"variable\": \"TA\", \"value\": 14.09000015258789, \"is_present\": true}, {\"time\": \"2000-06-15T19:30:00\", \"variable\": \"TA\", \"value\": 13.710000038146973, \"is_present\": true}, {\"time\": \"2000-06-15T20:00:00\", \"variable\": \"TA\", \"value\": 13.079999923706055, \"is_present\": true}, {\"time\": \"2000-06-15T20:30:00\", \"variable\": \"TA\", \"value\": 12.40999984741211, \"is_present\": true}, {\"time\": \"2000-06-15T21:00:00\", \"variable\": \"TA\", \"value\": 12.270000457763672, \"is_present\": true}, {\"time\": \"2000-06-15T21:30:00\", \"variable\": \"TA\", \"value\": 12.199999809265137, \"is_present\": true}, {\"time\": \"2000-06-15T17:00:00\", \"variable\": \"SW_IN\", \"value\": 224.8000030517578, \"is_present\": false}, {\"time\": \"2000-06-15T17:30:00\", \"variable\": \"SW_IN\", \"value\": 195.27999877929688, \"is_present\": false}, {\"time\": \"2000-06-15T18:00:00\", \"variable\": \"SW_IN\", \"value\": 244.1699981689453, \"is_present\": true}, {\"time\": \"2000-06-15T18:30:00\", \"variable\": \"SW_IN\", \"value\": 253.9199981689453, \"is_present\": true}, {\"time\": \"2000-06-15T19:00:00\", \"variable\": \"SW_IN\", \"value\": 177.30999755859375, \"is_present\": true}, {\"time\": \"2000-06-15T19:30:00\", \"variable\": \"SW_IN\", \"value\": 97.06999969482422, \"is_present\": true}, {\"time\": \"2000-06-15T20:00:00\", \"variable\": \"SW_IN\", \"value\": 39.709999084472656, \"is_present\": true}, {\"time\": \"2000-06-15T20:30:00\", \"variable\": \"SW_IN\", \"value\": 10.649999618530273, \"is_present\": true}, {\"time\": \"2000-06-15T21:00:00\", \"variable\": \"SW_IN\", \"value\": 0.3199999928474426, \"is_present\": true}, {\"time\": \"2000-06-15T21:30:00\", \"variable\": \"SW_IN\", \"value\": 0.0, \"is_present\": true}, {\"time\": \"2000-06-15T17:00:00\", \"variable\": \"VPD\", \"value\": 5.798999786376953, \"is_present\": true}, {\"time\": \"2000-06-15T17:30:00\", \"variable\": \"VPD\", \"value\": 6.577000141143799, \"is_present\": true}, {\"time\": \"2000-06-15T18:00:00\", \"variable\": \"VPD\", \"value\": 6.931000232696533, \"is_present\": true}, {\"time\": \"2000-06-15T18:30:00\", \"variable\": \"VPD\", \"value\": 7.285999774932861, \"is_present\": true}, {\"time\": \"2000-06-15T19:00:00\", \"variable\": \"VPD\", \"value\": 7.250999927520752, \"is_present\": true}, {\"time\": \"2000-06-15T19:30:00\", \"variable\": \"VPD\", \"value\": 6.683000087738037, \"is_present\": true}, {\"time\": \"2000-06-15T20:00:00\", \"variable\": \"VPD\", \"value\": 5.85099983215332, \"is_present\": true}, {\"time\": \"2000-06-15T20:30:00\", \"variable\": \"VPD\", \"value\": 5.254000186920166, \"is_present\": true}, {\"time\": \"2000-06-15T21:00:00\", \"variable\": \"VPD\", \"value\": 5.164000034332275, \"is_present\": true}, {\"time\": \"2000-06-15T21:30:00\", \"variable\": \"VPD\", \"value\": 5.0370001792907715, \"is_present\": true}]}}, {\"mode\": \"vega-lite\"});\n",
       "</script>"
      ],
      "text/plain": [
       "alt.Chart(...)"
      ]
     },
     "execution_count": null,
     "metadata": {},
     "output_type": "execute_result"
    }
   ],
   "source": [
    "plot_points(m_df.tidy())"
   ]
  },
  {
   "cell_type": "markdown",
   "id": "ffc03c27-03d9-4a0f-9438-a6aaab415f8b",
   "metadata": {},
   "source": [
    "##### Line"
   ]
  },
  {
   "cell_type": "code",
   "execution_count": null,
   "id": "e7f9912e-eee1-40a6-9eb3-4b010a5278c5",
   "metadata": {},
   "outputs": [],
   "source": [
    "#| exporti\n",
    "def plot_line(df, only_present=True, y=\"value\", y_label = \"\", sel = def_selection(), props = {}):\n",
    "    # df = df[df.is_present] if only_present else df\n",
    "    # TODO remove onle_present\n",
    "    return alt.Chart(df).mark_line().encode(\n",
    "        x = \"time\",    \n",
    "        y = alt.Y(y, title = y_label, scale=alt.Scale(zero=False)),\n",
    "        color='variable'\n",
    "    ).add_params(\n",
    "        sel\n",
    "    ).properties(\n",
    "        **props\n",
    "    )#.transform_filter(\n",
    "    #     datum.is_present\n",
    "    # )\n",
    "\n",
    "    "
   ]
  },
  {
   "cell_type": "code",
   "execution_count": null,
   "id": "c4723d86-f673-4cfa-ae8a-58fcc542930a",
   "metadata": {},
   "outputs": [
    {
     "data": {
      "text/html": [
       "\n",
       "<div id=\"altair-viz-8f0362bf415f48a5be2ca7dca12cd1c2\"></div>\n",
       "<script type=\"text/javascript\">\n",
       "  var VEGA_DEBUG = (typeof VEGA_DEBUG == \"undefined\") ? {} : VEGA_DEBUG;\n",
       "  (function(spec, embedOpt){\n",
       "    let outputDiv = document.currentScript.previousElementSibling;\n",
       "    if (outputDiv.id !== \"altair-viz-8f0362bf415f48a5be2ca7dca12cd1c2\") {\n",
       "      outputDiv = document.getElementById(\"altair-viz-8f0362bf415f48a5be2ca7dca12cd1c2\");\n",
       "    }\n",
       "    const paths = {\n",
       "      \"vega\": \"https://cdn.jsdelivr.net/npm//vega@5?noext\",\n",
       "      \"vega-lib\": \"https://cdn.jsdelivr.net/npm//vega-lib?noext\",\n",
       "      \"vega-lite\": \"https://cdn.jsdelivr.net/npm//vega-lite@5.2.0?noext\",\n",
       "      \"vega-embed\": \"https://cdn.jsdelivr.net/npm//vega-embed@6?noext\",\n",
       "    };\n",
       "\n",
       "    function maybeLoadScript(lib, version) {\n",
       "      var key = `${lib.replace(\"-\", \"\")}_version`;\n",
       "      return (VEGA_DEBUG[key] == version) ?\n",
       "        Promise.resolve(paths[lib]) :\n",
       "        new Promise(function(resolve, reject) {\n",
       "          var s = document.createElement('script');\n",
       "          document.getElementsByTagName(\"head\")[0].appendChild(s);\n",
       "          s.async = true;\n",
       "          s.onload = () => {\n",
       "            VEGA_DEBUG[key] = version;\n",
       "            return resolve(paths[lib]);\n",
       "          };\n",
       "          s.onerror = () => reject(`Error loading script: ${paths[lib]}`);\n",
       "          s.src = paths[lib];\n",
       "        });\n",
       "    }\n",
       "\n",
       "    function showError(err) {\n",
       "      outputDiv.innerHTML = `<div class=\"error\" style=\"color:red;\">${err}</div>`;\n",
       "      throw err;\n",
       "    }\n",
       "\n",
       "    function displayChart(vegaEmbed) {\n",
       "      vegaEmbed(outputDiv, spec, embedOpt)\n",
       "        .catch(err => showError(`Javascript Error: ${err.message}<br>This usually means there's a typo in your chart specification. See the javascript console for the full traceback.`));\n",
       "    }\n",
       "\n",
       "    if(typeof define === \"function\" && define.amd) {\n",
       "      requirejs.config({paths});\n",
       "      require([\"vega-embed\"], displayChart, err => showError(`Error loading script: ${err.message}`));\n",
       "    } else {\n",
       "      maybeLoadScript(\"vega\", \"5\")\n",
       "        .then(() => maybeLoadScript(\"vega-lite\", \"5.2.0\"))\n",
       "        .then(() => maybeLoadScript(\"vega-embed\", \"6\"))\n",
       "        .catch(showError)\n",
       "        .then(() => displayChart(vegaEmbed));\n",
       "    }\n",
       "  })({\"config\": {\"view\": {\"continuousWidth\": 400, \"continuousHeight\": 300}}, \"data\": {\"name\": \"data-88d77f9326d7ae292990a2c5bab99d91\"}, \"mark\": \"line\", \"encoding\": {\"color\": {\"field\": \"variable\", \"type\": \"nominal\"}, \"x\": {\"field\": \"time\", \"type\": \"temporal\"}, \"y\": {\"field\": \"value\", \"scale\": {\"zero\": false}, \"title\": \"\", \"type\": \"quantitative\"}}, \"params\": [{\"name\": \"param_4\", \"select\": {\"type\": \"interval\"}, \"bind\": \"scales\"}], \"$schema\": \"https://vega.github.io/schema/vega-lite/v5.2.0.json\", \"datasets\": {\"data-88d77f9326d7ae292990a2c5bab99d91\": [{\"time\": \"2000-06-15T17:00:00\", \"variable\": \"TA\", \"value\": 14.220000267028809, \"is_present\": false}, {\"time\": \"2000-06-15T17:30:00\", \"variable\": \"TA\", \"value\": 14.109999656677246, \"is_present\": false}, {\"time\": \"2000-06-15T18:00:00\", \"variable\": \"TA\", \"value\": 14.229999542236328, \"is_present\": true}, {\"time\": \"2000-06-15T18:30:00\", \"variable\": \"TA\", \"value\": 14.399999618530273, \"is_present\": true}, {\"time\": \"2000-06-15T19:00:00\", \"variable\": \"TA\", \"value\": 14.09000015258789, \"is_present\": true}, {\"time\": \"2000-06-15T19:30:00\", \"variable\": \"TA\", \"value\": 13.710000038146973, \"is_present\": true}, {\"time\": \"2000-06-15T20:00:00\", \"variable\": \"TA\", \"value\": 13.079999923706055, \"is_present\": true}, {\"time\": \"2000-06-15T20:30:00\", \"variable\": \"TA\", \"value\": 12.40999984741211, \"is_present\": true}, {\"time\": \"2000-06-15T21:00:00\", \"variable\": \"TA\", \"value\": 12.270000457763672, \"is_present\": true}, {\"time\": \"2000-06-15T21:30:00\", \"variable\": \"TA\", \"value\": 12.199999809265137, \"is_present\": true}, {\"time\": \"2000-06-15T17:00:00\", \"variable\": \"SW_IN\", \"value\": 224.8000030517578, \"is_present\": false}, {\"time\": \"2000-06-15T17:30:00\", \"variable\": \"SW_IN\", \"value\": 195.27999877929688, \"is_present\": false}, {\"time\": \"2000-06-15T18:00:00\", \"variable\": \"SW_IN\", \"value\": 244.1699981689453, \"is_present\": true}, {\"time\": \"2000-06-15T18:30:00\", \"variable\": \"SW_IN\", \"value\": 253.9199981689453, \"is_present\": true}, {\"time\": \"2000-06-15T19:00:00\", \"variable\": \"SW_IN\", \"value\": 177.30999755859375, \"is_present\": true}, {\"time\": \"2000-06-15T19:30:00\", \"variable\": \"SW_IN\", \"value\": 97.06999969482422, \"is_present\": true}, {\"time\": \"2000-06-15T20:00:00\", \"variable\": \"SW_IN\", \"value\": 39.709999084472656, \"is_present\": true}, {\"time\": \"2000-06-15T20:30:00\", \"variable\": \"SW_IN\", \"value\": 10.649999618530273, \"is_present\": true}, {\"time\": \"2000-06-15T21:00:00\", \"variable\": \"SW_IN\", \"value\": 0.3199999928474426, \"is_present\": true}, {\"time\": \"2000-06-15T21:30:00\", \"variable\": \"SW_IN\", \"value\": 0.0, \"is_present\": true}, {\"time\": \"2000-06-15T17:00:00\", \"variable\": \"VPD\", \"value\": 5.798999786376953, \"is_present\": true}, {\"time\": \"2000-06-15T17:30:00\", \"variable\": \"VPD\", \"value\": 6.577000141143799, \"is_present\": true}, {\"time\": \"2000-06-15T18:00:00\", \"variable\": \"VPD\", \"value\": 6.931000232696533, \"is_present\": true}, {\"time\": \"2000-06-15T18:30:00\", \"variable\": \"VPD\", \"value\": 7.285999774932861, \"is_present\": true}, {\"time\": \"2000-06-15T19:00:00\", \"variable\": \"VPD\", \"value\": 7.250999927520752, \"is_present\": true}, {\"time\": \"2000-06-15T19:30:00\", \"variable\": \"VPD\", \"value\": 6.683000087738037, \"is_present\": true}, {\"time\": \"2000-06-15T20:00:00\", \"variable\": \"VPD\", \"value\": 5.85099983215332, \"is_present\": true}, {\"time\": \"2000-06-15T20:30:00\", \"variable\": \"VPD\", \"value\": 5.254000186920166, \"is_present\": true}, {\"time\": \"2000-06-15T21:00:00\", \"variable\": \"VPD\", \"value\": 5.164000034332275, \"is_present\": true}, {\"time\": \"2000-06-15T21:30:00\", \"variable\": \"VPD\", \"value\": 5.0370001792907715, \"is_present\": true}]}}, {\"mode\": \"vega-lite\"});\n",
       "</script>"
      ],
      "text/plain": [
       "alt.Chart(...)"
      ]
     },
     "execution_count": null,
     "metadata": {},
     "output_type": "execute_result"
    }
   ],
   "source": [
    "plot_line(m_df.tidy())"
   ]
  },
  {
   "cell_type": "markdown",
   "id": "78d98d63-401b-4a09-a0f1-665342fef64e",
   "metadata": {},
   "source": [
    "##### Errorband"
   ]
  },
  {
   "cell_type": "code",
   "execution_count": null,
   "id": "b31874c2-bc64-4c07-b67b-c67ecb0f3598",
   "metadata": {},
   "outputs": [],
   "source": [
    "#| exporti\n",
    "def plot_error(df, y = \"value\", y_label = \"\", sel = def_selection(), props = {}):\n",
    "    df.loc[:,'err_low'] = df[y] - 2 * df['std']\n",
    "    df.loc[:,'err_high'] = df[y] + 2 * df['std']\n",
    "    return alt.Chart(df).mark_errorband().encode(\n",
    "        x = \"time\",    \n",
    "        y = alt.Y(\"err_low:Q\", title = y_label, scale=alt.Scale(zero=False)),\n",
    "        y2 = \"err_high:Q\",\n",
    "        color=alt.Color(\"variable\",\n",
    "                        legend = alt.Legend(title=[\"Line: pred. mean\", \"area: +/- 2 std\"])\n",
    "                       )\n",
    "    ).add_params(\n",
    "        sel\n",
    "    ).properties(\n",
    "        **props\n",
    "    )\n",
    "    "
   ]
  },
  {
   "cell_type": "code",
   "execution_count": null,
   "id": "bbe34b69-dc5c-4b9e-bb24-dffcd7638686",
   "metadata": {},
   "outputs": [
    {
     "data": {
      "text/html": [
       "\n",
       "<div id=\"altair-viz-b6a9492b3838476dbf4c02a40bc6a098\"></div>\n",
       "<script type=\"text/javascript\">\n",
       "  var VEGA_DEBUG = (typeof VEGA_DEBUG == \"undefined\") ? {} : VEGA_DEBUG;\n",
       "  (function(spec, embedOpt){\n",
       "    let outputDiv = document.currentScript.previousElementSibling;\n",
       "    if (outputDiv.id !== \"altair-viz-b6a9492b3838476dbf4c02a40bc6a098\") {\n",
       "      outputDiv = document.getElementById(\"altair-viz-b6a9492b3838476dbf4c02a40bc6a098\");\n",
       "    }\n",
       "    const paths = {\n",
       "      \"vega\": \"https://cdn.jsdelivr.net/npm//vega@5?noext\",\n",
       "      \"vega-lib\": \"https://cdn.jsdelivr.net/npm//vega-lib?noext\",\n",
       "      \"vega-lite\": \"https://cdn.jsdelivr.net/npm//vega-lite@5.2.0?noext\",\n",
       "      \"vega-embed\": \"https://cdn.jsdelivr.net/npm//vega-embed@6?noext\",\n",
       "    };\n",
       "\n",
       "    function maybeLoadScript(lib, version) {\n",
       "      var key = `${lib.replace(\"-\", \"\")}_version`;\n",
       "      return (VEGA_DEBUG[key] == version) ?\n",
       "        Promise.resolve(paths[lib]) :\n",
       "        new Promise(function(resolve, reject) {\n",
       "          var s = document.createElement('script');\n",
       "          document.getElementsByTagName(\"head\")[0].appendChild(s);\n",
       "          s.async = true;\n",
       "          s.onload = () => {\n",
       "            VEGA_DEBUG[key] = version;\n",
       "            return resolve(paths[lib]);\n",
       "          };\n",
       "          s.onerror = () => reject(`Error loading script: ${paths[lib]}`);\n",
       "          s.src = paths[lib];\n",
       "        });\n",
       "    }\n",
       "\n",
       "    function showError(err) {\n",
       "      outputDiv.innerHTML = `<div class=\"error\" style=\"color:red;\">${err}</div>`;\n",
       "      throw err;\n",
       "    }\n",
       "\n",
       "    function displayChart(vegaEmbed) {\n",
       "      vegaEmbed(outputDiv, spec, embedOpt)\n",
       "        .catch(err => showError(`Javascript Error: ${err.message}<br>This usually means there's a typo in your chart specification. See the javascript console for the full traceback.`));\n",
       "    }\n",
       "\n",
       "    if(typeof define === \"function\" && define.amd) {\n",
       "      requirejs.config({paths});\n",
       "      require([\"vega-embed\"], displayChart, err => showError(`Error loading script: ${err.message}`));\n",
       "    } else {\n",
       "      maybeLoadScript(\"vega\", \"5\")\n",
       "        .then(() => maybeLoadScript(\"vega-lite\", \"5.2.0\"))\n",
       "        .then(() => maybeLoadScript(\"vega-embed\", \"6\"))\n",
       "        .catch(showError)\n",
       "        .then(() => displayChart(vegaEmbed));\n",
       "    }\n",
       "  })({\"config\": {\"view\": {\"continuousWidth\": 400, \"continuousHeight\": 300}}, \"data\": {\"name\": \"data-949837ac0c9b163f3632fa9d82b0c211\"}, \"mark\": \"errorband\", \"encoding\": {\"color\": {\"field\": \"variable\", \"legend\": {\"title\": [\"Line: pred. mean\", \"area: +/- 2 std\"]}, \"type\": \"nominal\"}, \"x\": {\"field\": \"time\", \"type\": \"temporal\"}, \"y\": {\"field\": \"err_low\", \"scale\": {\"zero\": false}, \"title\": \"\", \"type\": \"quantitative\"}, \"y2\": {\"field\": \"err_high\"}}, \"params\": [{\"name\": \"param_5\", \"select\": {\"type\": \"interval\"}, \"bind\": \"scales\"}], \"$schema\": \"https://vega.github.io/schema/vega-lite/v5.2.0.json\", \"datasets\": {\"data-949837ac0c9b163f3632fa9d82b0c211\": [{\"time\": \"2000-06-15T17:00:00\", \"variable\": \"TA\", \"value\": 14.220000267028809, \"is_present\": false, \"std\": 5, \"err_low\": 4.220000267028809, \"err_high\": 24.22000026702881}, {\"time\": \"2000-06-15T17:30:00\", \"variable\": \"TA\", \"value\": 14.109999656677246, \"is_present\": false, \"std\": 5, \"err_low\": 4.109999656677246, \"err_high\": 24.109999656677246}, {\"time\": \"2000-06-15T18:00:00\", \"variable\": \"TA\", \"value\": 14.229999542236328, \"is_present\": true, \"std\": 5, \"err_low\": 4.229999542236328, \"err_high\": 24.229999542236328}, {\"time\": \"2000-06-15T18:30:00\", \"variable\": \"TA\", \"value\": 14.399999618530273, \"is_present\": true, \"std\": 5, \"err_low\": 4.399999618530273, \"err_high\": 24.399999618530273}, {\"time\": \"2000-06-15T19:00:00\", \"variable\": \"TA\", \"value\": 14.09000015258789, \"is_present\": true, \"std\": 5, \"err_low\": 4.090000152587891, \"err_high\": 24.09000015258789}, {\"time\": \"2000-06-15T19:30:00\", \"variable\": \"TA\", \"value\": 13.710000038146973, \"is_present\": true, \"std\": 5, \"err_low\": 3.7100000381469727, \"err_high\": 23.710000038146973}, {\"time\": \"2000-06-15T20:00:00\", \"variable\": \"TA\", \"value\": 13.079999923706055, \"is_present\": true, \"std\": 5, \"err_low\": 3.0799999237060547, \"err_high\": 23.079999923706055}, {\"time\": \"2000-06-15T20:30:00\", \"variable\": \"TA\", \"value\": 12.40999984741211, \"is_present\": true, \"std\": 5, \"err_low\": 2.4099998474121094, \"err_high\": 22.40999984741211}, {\"time\": \"2000-06-15T21:00:00\", \"variable\": \"TA\", \"value\": 12.270000457763672, \"is_present\": true, \"std\": 5, \"err_low\": 2.270000457763672, \"err_high\": 22.270000457763672}, {\"time\": \"2000-06-15T21:30:00\", \"variable\": \"TA\", \"value\": 12.199999809265137, \"is_present\": true, \"std\": 5, \"err_low\": 2.1999998092651367, \"err_high\": 22.199999809265137}, {\"time\": \"2000-06-15T17:00:00\", \"variable\": \"SW_IN\", \"value\": 224.8000030517578, \"is_present\": false, \"std\": 5, \"err_low\": 214.8000030517578, \"err_high\": 234.8000030517578}, {\"time\": \"2000-06-15T17:30:00\", \"variable\": \"SW_IN\", \"value\": 195.27999877929688, \"is_present\": false, \"std\": 5, \"err_low\": 185.27999877929688, \"err_high\": 205.27999877929688}, {\"time\": \"2000-06-15T18:00:00\", \"variable\": \"SW_IN\", \"value\": 244.1699981689453, \"is_present\": true, \"std\": 5, \"err_low\": 234.1699981689453, \"err_high\": 254.1699981689453}, {\"time\": \"2000-06-15T18:30:00\", \"variable\": \"SW_IN\", \"value\": 253.9199981689453, \"is_present\": true, \"std\": 5, \"err_low\": 243.9199981689453, \"err_high\": 263.9199981689453}, {\"time\": \"2000-06-15T19:00:00\", \"variable\": \"SW_IN\", \"value\": 177.30999755859375, \"is_present\": true, \"std\": 5, \"err_low\": 167.30999755859375, \"err_high\": 187.30999755859375}, {\"time\": \"2000-06-15T19:30:00\", \"variable\": \"SW_IN\", \"value\": 97.06999969482422, \"is_present\": true, \"std\": 5, \"err_low\": 87.06999969482422, \"err_high\": 107.06999969482422}, {\"time\": \"2000-06-15T20:00:00\", \"variable\": \"SW_IN\", \"value\": 39.709999084472656, \"is_present\": true, \"std\": 5, \"err_low\": 29.709999084472656, \"err_high\": 49.709999084472656}, {\"time\": \"2000-06-15T20:30:00\", \"variable\": \"SW_IN\", \"value\": 10.649999618530273, \"is_present\": true, \"std\": 5, \"err_low\": 0.6499996185302734, \"err_high\": 20.649999618530273}, {\"time\": \"2000-06-15T21:00:00\", \"variable\": \"SW_IN\", \"value\": 0.3199999928474426, \"is_present\": true, \"std\": 5, \"err_low\": -9.680000007152557, \"err_high\": 10.319999992847443}, {\"time\": \"2000-06-15T21:30:00\", \"variable\": \"SW_IN\", \"value\": 0.0, \"is_present\": true, \"std\": 5, \"err_low\": -10.0, \"err_high\": 10.0}, {\"time\": \"2000-06-15T17:00:00\", \"variable\": \"VPD\", \"value\": 5.798999786376953, \"is_present\": true, \"std\": 5, \"err_low\": -4.201000213623047, \"err_high\": 15.798999786376953}, {\"time\": \"2000-06-15T17:30:00\", \"variable\": \"VPD\", \"value\": 6.577000141143799, \"is_present\": true, \"std\": 5, \"err_low\": -3.422999858856201, \"err_high\": 16.5770001411438}, {\"time\": \"2000-06-15T18:00:00\", \"variable\": \"VPD\", \"value\": 6.931000232696533, \"is_present\": true, \"std\": 5, \"err_low\": -3.068999767303467, \"err_high\": 16.931000232696533}, {\"time\": \"2000-06-15T18:30:00\", \"variable\": \"VPD\", \"value\": 7.285999774932861, \"is_present\": true, \"std\": 5, \"err_low\": -2.7140002250671387, \"err_high\": 17.28599977493286}, {\"time\": \"2000-06-15T19:00:00\", \"variable\": \"VPD\", \"value\": 7.250999927520752, \"is_present\": true, \"std\": 5, \"err_low\": -2.749000072479248, \"err_high\": 17.250999927520752}, {\"time\": \"2000-06-15T19:30:00\", \"variable\": \"VPD\", \"value\": 6.683000087738037, \"is_present\": true, \"std\": 5, \"err_low\": -3.316999912261963, \"err_high\": 16.683000087738037}, {\"time\": \"2000-06-15T20:00:00\", \"variable\": \"VPD\", \"value\": 5.85099983215332, \"is_present\": true, \"std\": 5, \"err_low\": -4.14900016784668, \"err_high\": 15.85099983215332}, {\"time\": \"2000-06-15T20:30:00\", \"variable\": \"VPD\", \"value\": 5.254000186920166, \"is_present\": true, \"std\": 5, \"err_low\": -4.745999813079834, \"err_high\": 15.254000186920166}, {\"time\": \"2000-06-15T21:00:00\", \"variable\": \"VPD\", \"value\": 5.164000034332275, \"is_present\": true, \"std\": 5, \"err_low\": -4.835999965667725, \"err_high\": 15.164000034332275}, {\"time\": \"2000-06-15T21:30:00\", \"variable\": \"VPD\", \"value\": 5.0370001792907715, \"is_present\": true, \"std\": 5, \"err_low\": -4.9629998207092285, \"err_high\": 15.037000179290771}]}}, {\"mode\": \"vega-lite\"});\n",
       "</script>"
      ],
      "text/plain": [
       "alt.Chart(...)"
      ]
     },
     "execution_count": null,
     "metadata": {},
     "output_type": "execute_result"
    }
   ],
   "source": [
    "plot_error(m_df.tidy().assign(std=5))"
   ]
  },
  {
   "cell_type": "markdown",
   "id": "1fe0fa10-e1d7-44c1-8979-8f06bf243fc0",
   "metadata": {},
   "source": [
    "##### Variable"
   ]
  },
  {
   "cell_type": "code",
   "execution_count": null,
   "id": "a26f136e-c919-4083-bad9-e40f2b4996bd",
   "metadata": {},
   "outputs": [],
   "source": [
    "#| exporti\n",
    "def plot_variable(df, variable, ys=[\"value\", \"value\"], title=\"\", y_label=\"\", sel = None, error=False, props = {}):\n",
    "    df = df[df.variable == variable].copy()\n",
    "    sel = ifnone(sel, def_selection())\n",
    "    # rug = plot_rug(df, sel, props)\n",
    "    points = plot_points(df, ys[0], y_label, sel, props)\n",
    "    if not df.is_present.all(): points += plot_missing_area(df, sel, props) # there is a gap\n",
    "    line = plot_line(df, True, ys[1], y_label, sel, props)\n",
    "    if error: line = plot_error(df, y=ys[1], y_label=y_label, sel=sel, props=props) + line\n",
    "    \n",
    "    return (points + line).properties(title=title)\n",
    "    \n",
    "    # return alt.VConcatChart(vconcat=[(points + line), rug], spacing=-10).properties(title=title)"
   ]
  },
  {
   "cell_type": "code",
   "execution_count": null,
   "id": "fa1c1f39-0db0-4842-bada-da41eacd9ac6",
   "metadata": {},
   "outputs": [
    {
     "data": {
      "text/html": [
       "\n",
       "<div id=\"altair-viz-2fc79a68a0504086862fc05e68f59ed8\"></div>\n",
       "<script type=\"text/javascript\">\n",
       "  var VEGA_DEBUG = (typeof VEGA_DEBUG == \"undefined\") ? {} : VEGA_DEBUG;\n",
       "  (function(spec, embedOpt){\n",
       "    let outputDiv = document.currentScript.previousElementSibling;\n",
       "    if (outputDiv.id !== \"altair-viz-2fc79a68a0504086862fc05e68f59ed8\") {\n",
       "      outputDiv = document.getElementById(\"altair-viz-2fc79a68a0504086862fc05e68f59ed8\");\n",
       "    }\n",
       "    const paths = {\n",
       "      \"vega\": \"https://cdn.jsdelivr.net/npm//vega@5?noext\",\n",
       "      \"vega-lib\": \"https://cdn.jsdelivr.net/npm//vega-lib?noext\",\n",
       "      \"vega-lite\": \"https://cdn.jsdelivr.net/npm//vega-lite@5.2.0?noext\",\n",
       "      \"vega-embed\": \"https://cdn.jsdelivr.net/npm//vega-embed@6?noext\",\n",
       "    };\n",
       "\n",
       "    function maybeLoadScript(lib, version) {\n",
       "      var key = `${lib.replace(\"-\", \"\")}_version`;\n",
       "      return (VEGA_DEBUG[key] == version) ?\n",
       "        Promise.resolve(paths[lib]) :\n",
       "        new Promise(function(resolve, reject) {\n",
       "          var s = document.createElement('script');\n",
       "          document.getElementsByTagName(\"head\")[0].appendChild(s);\n",
       "          s.async = true;\n",
       "          s.onload = () => {\n",
       "            VEGA_DEBUG[key] = version;\n",
       "            return resolve(paths[lib]);\n",
       "          };\n",
       "          s.onerror = () => reject(`Error loading script: ${paths[lib]}`);\n",
       "          s.src = paths[lib];\n",
       "        });\n",
       "    }\n",
       "\n",
       "    function showError(err) {\n",
       "      outputDiv.innerHTML = `<div class=\"error\" style=\"color:red;\">${err}</div>`;\n",
       "      throw err;\n",
       "    }\n",
       "\n",
       "    function displayChart(vegaEmbed) {\n",
       "      vegaEmbed(outputDiv, spec, embedOpt)\n",
       "        .catch(err => showError(`Javascript Error: ${err.message}<br>This usually means there's a typo in your chart specification. See the javascript console for the full traceback.`));\n",
       "    }\n",
       "\n",
       "    if(typeof define === \"function\" && define.amd) {\n",
       "      requirejs.config({paths});\n",
       "      require([\"vega-embed\"], displayChart, err => showError(`Error loading script: ${err.message}`));\n",
       "    } else {\n",
       "      maybeLoadScript(\"vega\", \"5\")\n",
       "        .then(() => maybeLoadScript(\"vega-lite\", \"5.2.0\"))\n",
       "        .then(() => maybeLoadScript(\"vega-embed\", \"6\"))\n",
       "        .catch(showError)\n",
       "        .then(() => displayChart(vegaEmbed));\n",
       "    }\n",
       "  })({\"config\": {\"view\": {\"continuousWidth\": 400, \"continuousHeight\": 300}}, \"layer\": [{\"data\": {\"name\": \"data-f32fcef9aaeabb827290b71944d893e2\"}, \"mark\": {\"type\": \"point\", \"color\": \"black\", \"fillOpacity\": 1, \"strokeWidth\": 1}, \"encoding\": {\"fill\": {\"field\": \"is_present\", \"legend\": {\"title\": [\"Observed data\"]}, \"scale\": {\"range\": [\"black\", \"#ffffff00\"]}, \"type\": \"nominal\"}, \"shape\": {\"field\": \"is_present\", \"type\": \"nominal\"}, \"x\": {\"axis\": {\"domain\": true, \"labels\": true, \"ticks\": true, \"title\": \"time\"}, \"field\": \"time\", \"type\": \"temporal\"}, \"y\": {\"field\": \"value\", \"scale\": {\"zero\": false}, \"title\": \"\", \"type\": \"quantitative\"}}}, {\"layer\": [{\"mark\": \"rule\", \"encoding\": {\"x\": {\"axis\": {\"domain\": false, \"labels\": false, \"ticks\": false, \"title\": null}, \"field\": \"gap_start\", \"type\": \"temporal\"}}}, {\"mark\": \"rule\", \"encoding\": {\"x\": {\"axis\": {\"domain\": false, \"labels\": false, \"ticks\": false, \"title\": null}, \"field\": \"gap_end\", \"type\": \"temporal\"}}}, {\"mark\": {\"type\": \"rect\", \"color\": \"black\", \"opacity\": 0.2}, \"encoding\": {\"x\": {\"axis\": {\"domain\": false, \"labels\": false, \"ticks\": false, \"title\": null}, \"field\": \"gap_start\", \"type\": \"temporal\"}, \"x2\": {\"field\": \"gap_end\"}}}], \"data\": {\"name\": \"data-6a3d66586038851ee63af4299d7783ff\"}}, {\"data\": {\"name\": \"data-f32fcef9aaeabb827290b71944d893e2\"}, \"mark\": \"line\", \"encoding\": {\"color\": {\"field\": \"variable\", \"type\": \"nominal\"}, \"x\": {\"field\": \"time\", \"type\": \"temporal\"}, \"y\": {\"field\": \"value\", \"scale\": {\"zero\": false}, \"title\": \"\", \"type\": \"quantitative\"}}, \"name\": \"view_1\"}], \"params\": [{\"name\": \"param_6\", \"select\": {\"type\": \"interval\"}, \"bind\": \"scales\", \"views\": [\"view_1\"]}], \"title\": \"title TA\", \"$schema\": \"https://vega.github.io/schema/vega-lite/v5.2.0.json\", \"datasets\": {\"data-f32fcef9aaeabb827290b71944d893e2\": [{\"time\": \"2000-06-15T17:00:00\", \"variable\": \"TA\", \"value\": 14.220000267028809, \"is_present\": false}, {\"time\": \"2000-06-15T17:30:00\", \"variable\": \"TA\", \"value\": 14.109999656677246, \"is_present\": false}, {\"time\": \"2000-06-15T18:00:00\", \"variable\": \"TA\", \"value\": 14.229999542236328, \"is_present\": true}, {\"time\": \"2000-06-15T18:30:00\", \"variable\": \"TA\", \"value\": 14.399999618530273, \"is_present\": true}, {\"time\": \"2000-06-15T19:00:00\", \"variable\": \"TA\", \"value\": 14.09000015258789, \"is_present\": true}, {\"time\": \"2000-06-15T19:30:00\", \"variable\": \"TA\", \"value\": 13.710000038146973, \"is_present\": true}, {\"time\": \"2000-06-15T20:00:00\", \"variable\": \"TA\", \"value\": 13.079999923706055, \"is_present\": true}, {\"time\": \"2000-06-15T20:30:00\", \"variable\": \"TA\", \"value\": 12.40999984741211, \"is_present\": true}, {\"time\": \"2000-06-15T21:00:00\", \"variable\": \"TA\", \"value\": 12.270000457763672, \"is_present\": true}, {\"time\": \"2000-06-15T21:30:00\", \"variable\": \"TA\", \"value\": 12.199999809265137, \"is_present\": true}], \"data-6a3d66586038851ee63af4299d7783ff\": [{\"gap_start\": \"2000-06-15T17:00:00\", \"gap_end\": \"2000-06-15T17:30:00\"}]}}, {\"mode\": \"vega-lite\"});\n",
       "</script>"
      ],
      "text/plain": [
       "alt.LayerChart(...)"
      ]
     },
     "execution_count": null,
     "metadata": {},
     "output_type": "execute_result"
    }
   ],
   "source": [
    "plot_variable(m_df.tidy(), \"TA\", title=\"title TA\")"
   ]
  },
  {
   "cell_type": "code",
   "execution_count": null,
   "id": "a41576fd-91dc-44d9-bd01-f0877273a835",
   "metadata": {},
   "outputs": [
    {
     "data": {
      "text/html": [
       "\n",
       "<div id=\"altair-viz-2896e71fdcdc419c8379e2df35de8a84\"></div>\n",
       "<script type=\"text/javascript\">\n",
       "  var VEGA_DEBUG = (typeof VEGA_DEBUG == \"undefined\") ? {} : VEGA_DEBUG;\n",
       "  (function(spec, embedOpt){\n",
       "    let outputDiv = document.currentScript.previousElementSibling;\n",
       "    if (outputDiv.id !== \"altair-viz-2896e71fdcdc419c8379e2df35de8a84\") {\n",
       "      outputDiv = document.getElementById(\"altair-viz-2896e71fdcdc419c8379e2df35de8a84\");\n",
       "    }\n",
       "    const paths = {\n",
       "      \"vega\": \"https://cdn.jsdelivr.net/npm//vega@5?noext\",\n",
       "      \"vega-lib\": \"https://cdn.jsdelivr.net/npm//vega-lib?noext\",\n",
       "      \"vega-lite\": \"https://cdn.jsdelivr.net/npm//vega-lite@5.2.0?noext\",\n",
       "      \"vega-embed\": \"https://cdn.jsdelivr.net/npm//vega-embed@6?noext\",\n",
       "    };\n",
       "\n",
       "    function maybeLoadScript(lib, version) {\n",
       "      var key = `${lib.replace(\"-\", \"\")}_version`;\n",
       "      return (VEGA_DEBUG[key] == version) ?\n",
       "        Promise.resolve(paths[lib]) :\n",
       "        new Promise(function(resolve, reject) {\n",
       "          var s = document.createElement('script');\n",
       "          document.getElementsByTagName(\"head\")[0].appendChild(s);\n",
       "          s.async = true;\n",
       "          s.onload = () => {\n",
       "            VEGA_DEBUG[key] = version;\n",
       "            return resolve(paths[lib]);\n",
       "          };\n",
       "          s.onerror = () => reject(`Error loading script: ${paths[lib]}`);\n",
       "          s.src = paths[lib];\n",
       "        });\n",
       "    }\n",
       "\n",
       "    function showError(err) {\n",
       "      outputDiv.innerHTML = `<div class=\"error\" style=\"color:red;\">${err}</div>`;\n",
       "      throw err;\n",
       "    }\n",
       "\n",
       "    function displayChart(vegaEmbed) {\n",
       "      vegaEmbed(outputDiv, spec, embedOpt)\n",
       "        .catch(err => showError(`Javascript Error: ${err.message}<br>This usually means there's a typo in your chart specification. See the javascript console for the full traceback.`));\n",
       "    }\n",
       "\n",
       "    if(typeof define === \"function\" && define.amd) {\n",
       "      requirejs.config({paths});\n",
       "      require([\"vega-embed\"], displayChart, err => showError(`Error loading script: ${err.message}`));\n",
       "    } else {\n",
       "      maybeLoadScript(\"vega\", \"5\")\n",
       "        .then(() => maybeLoadScript(\"vega-lite\", \"5.2.0\"))\n",
       "        .then(() => maybeLoadScript(\"vega-embed\", \"6\"))\n",
       "        .catch(showError)\n",
       "        .then(() => displayChart(vegaEmbed));\n",
       "    }\n",
       "  })({\"config\": {\"view\": {\"continuousWidth\": 400, \"continuousHeight\": 300}}, \"layer\": [{\"data\": {\"name\": \"data-555a0fc7af46a7ec6c75fef770c37f75\"}, \"mark\": {\"type\": \"point\", \"color\": \"black\", \"fillOpacity\": 1, \"strokeWidth\": 1}, \"encoding\": {\"fill\": {\"field\": \"is_present\", \"legend\": {\"title\": [\"Observed data\"]}, \"scale\": {\"range\": [\"black\", \"#ffffff00\"]}, \"type\": \"nominal\"}, \"shape\": {\"field\": \"is_present\", \"type\": \"nominal\"}, \"x\": {\"axis\": {\"domain\": true, \"labels\": true, \"ticks\": true, \"title\": \"time\"}, \"field\": \"time\", \"type\": \"temporal\"}, \"y\": {\"field\": \"value\", \"scale\": {\"zero\": false}, \"title\": \"\", \"type\": \"quantitative\"}}}, {\"layer\": [{\"mark\": \"rule\", \"encoding\": {\"x\": {\"axis\": {\"domain\": false, \"labels\": false, \"ticks\": false, \"title\": null}, \"field\": \"gap_start\", \"type\": \"temporal\"}}}, {\"mark\": \"rule\", \"encoding\": {\"x\": {\"axis\": {\"domain\": false, \"labels\": false, \"ticks\": false, \"title\": null}, \"field\": \"gap_end\", \"type\": \"temporal\"}}}, {\"mark\": {\"type\": \"rect\", \"color\": \"black\", \"opacity\": 0.2}, \"encoding\": {\"x\": {\"axis\": {\"domain\": false, \"labels\": false, \"ticks\": false, \"title\": null}, \"field\": \"gap_start\", \"type\": \"temporal\"}, \"x2\": {\"field\": \"gap_end\"}}}], \"data\": {\"name\": \"data-6a3d66586038851ee63af4299d7783ff\"}}, {\"layer\": [{\"mark\": \"errorband\", \"encoding\": {\"color\": {\"field\": \"variable\", \"legend\": {\"title\": [\"Line: pred. mean\", \"area: +/- 2 std\"]}, \"type\": \"nominal\"}, \"x\": {\"field\": \"time\", \"type\": \"temporal\"}, \"y\": {\"field\": \"err_low\", \"scale\": {\"zero\": false}, \"title\": \"\", \"type\": \"quantitative\"}, \"y2\": {\"field\": \"err_high\"}}, \"name\": \"view_2\"}, {\"mark\": \"line\", \"encoding\": {\"color\": {\"field\": \"variable\", \"type\": \"nominal\"}, \"x\": {\"field\": \"time\", \"type\": \"temporal\"}, \"y\": {\"field\": \"value\", \"scale\": {\"zero\": false}, \"title\": \"\", \"type\": \"quantitative\"}}}], \"data\": {\"name\": \"data-555a0fc7af46a7ec6c75fef770c37f75\"}}], \"params\": [{\"name\": \"param_7\", \"select\": {\"type\": \"interval\"}, \"bind\": \"scales\", \"views\": [\"view_2\"]}], \"title\": \"title TA\", \"$schema\": \"https://vega.github.io/schema/vega-lite/v5.2.0.json\", \"datasets\": {\"data-555a0fc7af46a7ec6c75fef770c37f75\": [{\"time\": \"2000-06-15T17:00:00\", \"variable\": \"TA\", \"value\": 14.220000267028809, \"is_present\": false, \"std\": 0.5, \"err_low\": 13.220000267028809, \"err_high\": 15.220000267028809}, {\"time\": \"2000-06-15T17:30:00\", \"variable\": \"TA\", \"value\": 14.109999656677246, \"is_present\": false, \"std\": 0.5, \"err_low\": 13.109999656677246, \"err_high\": 15.109999656677246}, {\"time\": \"2000-06-15T18:00:00\", \"variable\": \"TA\", \"value\": 14.229999542236328, \"is_present\": true, \"std\": 0.5, \"err_low\": 13.229999542236328, \"err_high\": 15.229999542236328}, {\"time\": \"2000-06-15T18:30:00\", \"variable\": \"TA\", \"value\": 14.399999618530273, \"is_present\": true, \"std\": 0.5, \"err_low\": 13.399999618530273, \"err_high\": 15.399999618530273}, {\"time\": \"2000-06-15T19:00:00\", \"variable\": \"TA\", \"value\": 14.09000015258789, \"is_present\": true, \"std\": 0.5, \"err_low\": 13.09000015258789, \"err_high\": 15.09000015258789}, {\"time\": \"2000-06-15T19:30:00\", \"variable\": \"TA\", \"value\": 13.710000038146973, \"is_present\": true, \"std\": 0.5, \"err_low\": 12.710000038146973, \"err_high\": 14.710000038146973}, {\"time\": \"2000-06-15T20:00:00\", \"variable\": \"TA\", \"value\": 13.079999923706055, \"is_present\": true, \"std\": 0.5, \"err_low\": 12.079999923706055, \"err_high\": 14.079999923706055}, {\"time\": \"2000-06-15T20:30:00\", \"variable\": \"TA\", \"value\": 12.40999984741211, \"is_present\": true, \"std\": 0.5, \"err_low\": 11.40999984741211, \"err_high\": 13.40999984741211}, {\"time\": \"2000-06-15T21:00:00\", \"variable\": \"TA\", \"value\": 12.270000457763672, \"is_present\": true, \"std\": 0.5, \"err_low\": 11.270000457763672, \"err_high\": 13.270000457763672}, {\"time\": \"2000-06-15T21:30:00\", \"variable\": \"TA\", \"value\": 12.199999809265137, \"is_present\": true, \"std\": 0.5, \"err_low\": 11.199999809265137, \"err_high\": 13.199999809265137}], \"data-6a3d66586038851ee63af4299d7783ff\": [{\"gap_start\": \"2000-06-15T17:00:00\", \"gap_end\": \"2000-06-15T17:30:00\"}]}}, {\"mode\": \"vega-lite\"});\n",
       "</script>"
      ],
      "text/plain": [
       "alt.LayerChart(...)"
      ]
     },
     "execution_count": null,
     "metadata": {},
     "output_type": "execute_result"
    }
   ],
   "source": [
    "plot_variable(m_df.tidy().assign(std=.5), \"TA\", title=\"title TA\", error=True)"
   ]
  },
  {
   "cell_type": "markdown",
   "id": "1533116a-d9a2-4a23-9329-9f9357397e34",
   "metadata": {},
   "source": [
    "##### Facet"
   ]
  },
  {
   "cell_type": "code",
   "execution_count": null,
   "id": "df1cf2d7-d9de-48ff-9017-c20e31b7dd21",
   "metadata": {},
   "outputs": [],
   "source": [
    "#| export\n",
    "def facet_variable(df, # tidy dataframe\n",
    "                   n_cols: int = 3,\n",
    "                   bind_interaction: bool =True, # Whether the sub-plots for each variable should be connected for zooming/panning\n",
    "                   error:bool=False, # plot error bar\n",
    "                   ys:list=[\"value\", \"value\"],\n",
    "                   props:dict|None = None, # additional properties for altair plot (eg. size)\n",
    "                   ) -> alt.Chart:\n",
    "    \"\"\"Plot all values of the column `variable` in different subplots\"\"\"\n",
    "    props = ifnone(props, {'width': 200, 'height': 150})\n",
    "    vars = df.variable.unique()\n",
    "    plot_list = [alt.hconcat() for _ in range(0, len(vars), n_cols)]\n",
    "    selection_scale = alt.selection_interval(bind=\"scales\", encodings=['x']) if bind_interaction else None\n",
    "    for idx, variable in enumerate(vars):\n",
    "        plot = plot_variable(df,\n",
    "                            variable,\n",
    "                            ys = ys,\n",
    "                            title = variable,\n",
    "                            y_label = variable,\n",
    "                            sel = selection_scale,\n",
    "                            props=props,\n",
    "                            error=error)\n",
    "        \n",
    "        plot_list[idx // n_cols] |= plot\n",
    "    \n",
    "    plot = alt.vconcat(*plot_list)\n",
    "    \n",
    "    return plot"
   ]
  },
  {
   "cell_type": "markdown",
   "id": "14d74f32-66a2-4002-a3a0-41bd6b5e2957",
   "metadata": {},
   "source": [
    "##### Show"
   ]
  },
  {
   "cell_type": "code",
   "execution_count": null,
   "id": "1787dc1e-cf5f-479b-9173-eaaf2643fd77",
   "metadata": {},
   "outputs": [],
   "source": [
    "#| export\n",
    "@patch\n",
    "def show(self: MeteoImpDf, ax=None, ctx=None, \n",
    "        n_cols: int = 3,\n",
    "        bind_interaction: bool =True, # Whether the sub-plots for each variable should be connected for zooming/panning\n",
    "        props:dict = None # additional properties (eg. size) for altair plot\n",
    "       ) -> alt.Chart:\n",
    "    \n",
    "    df = self.tidy()\n",
    "    return facet_variable(df, n_cols, bind_interaction, props)"
   ]
  },
  {
   "cell_type": "code",
   "execution_count": null,
   "id": "6c56115a-5127-473f-be9e-57df2f958496",
   "metadata": {},
   "outputs": [
    {
     "data": {
      "text/html": [
       "\n",
       "<div id=\"altair-viz-84b23f5f69c34332aa2dbd9a331faccb\"></div>\n",
       "<script type=\"text/javascript\">\n",
       "  var VEGA_DEBUG = (typeof VEGA_DEBUG == \"undefined\") ? {} : VEGA_DEBUG;\n",
       "  (function(spec, embedOpt){\n",
       "    let outputDiv = document.currentScript.previousElementSibling;\n",
       "    if (outputDiv.id !== \"altair-viz-84b23f5f69c34332aa2dbd9a331faccb\") {\n",
       "      outputDiv = document.getElementById(\"altair-viz-84b23f5f69c34332aa2dbd9a331faccb\");\n",
       "    }\n",
       "    const paths = {\n",
       "      \"vega\": \"https://cdn.jsdelivr.net/npm//vega@5?noext\",\n",
       "      \"vega-lib\": \"https://cdn.jsdelivr.net/npm//vega-lib?noext\",\n",
       "      \"vega-lite\": \"https://cdn.jsdelivr.net/npm//vega-lite@5.2.0?noext\",\n",
       "      \"vega-embed\": \"https://cdn.jsdelivr.net/npm//vega-embed@6?noext\",\n",
       "    };\n",
       "\n",
       "    function maybeLoadScript(lib, version) {\n",
       "      var key = `${lib.replace(\"-\", \"\")}_version`;\n",
       "      return (VEGA_DEBUG[key] == version) ?\n",
       "        Promise.resolve(paths[lib]) :\n",
       "        new Promise(function(resolve, reject) {\n",
       "          var s = document.createElement('script');\n",
       "          document.getElementsByTagName(\"head\")[0].appendChild(s);\n",
       "          s.async = true;\n",
       "          s.onload = () => {\n",
       "            VEGA_DEBUG[key] = version;\n",
       "            return resolve(paths[lib]);\n",
       "          };\n",
       "          s.onerror = () => reject(`Error loading script: ${paths[lib]}`);\n",
       "          s.src = paths[lib];\n",
       "        });\n",
       "    }\n",
       "\n",
       "    function showError(err) {\n",
       "      outputDiv.innerHTML = `<div class=\"error\" style=\"color:red;\">${err}</div>`;\n",
       "      throw err;\n",
       "    }\n",
       "\n",
       "    function displayChart(vegaEmbed) {\n",
       "      vegaEmbed(outputDiv, spec, embedOpt)\n",
       "        .catch(err => showError(`Javascript Error: ${err.message}<br>This usually means there's a typo in your chart specification. See the javascript console for the full traceback.`));\n",
       "    }\n",
       "\n",
       "    if(typeof define === \"function\" && define.amd) {\n",
       "      requirejs.config({paths});\n",
       "      require([\"vega-embed\"], displayChart, err => showError(`Error loading script: ${err.message}`));\n",
       "    } else {\n",
       "      maybeLoadScript(\"vega\", \"5\")\n",
       "        .then(() => maybeLoadScript(\"vega-lite\", \"5.2.0\"))\n",
       "        .then(() => maybeLoadScript(\"vega-embed\", \"6\"))\n",
       "        .catch(showError)\n",
       "        .then(() => displayChart(vegaEmbed));\n",
       "    }\n",
       "  })({\"config\": {\"view\": {\"continuousWidth\": 400, \"continuousHeight\": 300}}, \"vconcat\": [{\"hconcat\": [{\"layer\": [{\"data\": {\"name\": \"data-f32fcef9aaeabb827290b71944d893e2\"}, \"mark\": {\"type\": \"point\", \"color\": \"black\", \"fillOpacity\": 1, \"strokeWidth\": 1}, \"encoding\": {\"fill\": {\"field\": \"is_present\", \"legend\": {\"title\": [\"Observed data\"]}, \"scale\": {\"range\": [\"black\", \"#ffffff00\"]}, \"type\": \"nominal\"}, \"shape\": {\"field\": \"is_present\", \"type\": \"nominal\"}, \"x\": {\"axis\": {\"domain\": true, \"labels\": true, \"ticks\": true, \"title\": \"time\"}, \"field\": \"time\", \"type\": \"temporal\"}, \"y\": {\"field\": \"value\", \"scale\": {\"zero\": false}, \"title\": \"TA\", \"type\": \"quantitative\"}}}, {\"layer\": [{\"mark\": \"rule\", \"encoding\": {\"x\": {\"axis\": {\"domain\": false, \"labels\": false, \"ticks\": false, \"title\": null}, \"field\": \"gap_start\", \"type\": \"temporal\"}}}, {\"mark\": \"rule\", \"encoding\": {\"x\": {\"axis\": {\"domain\": false, \"labels\": false, \"ticks\": false, \"title\": null}, \"field\": \"gap_end\", \"type\": \"temporal\"}}}, {\"mark\": {\"type\": \"rect\", \"color\": \"black\", \"opacity\": 0.2}, \"encoding\": {\"x\": {\"axis\": {\"domain\": false, \"labels\": false, \"ticks\": false, \"title\": null}, \"field\": \"gap_start\", \"type\": \"temporal\"}, \"x2\": {\"field\": \"gap_end\"}}}], \"data\": {\"name\": \"data-6a3d66586038851ee63af4299d7783ff\"}}, {\"data\": {\"name\": \"data-f32fcef9aaeabb827290b71944d893e2\"}, \"mark\": \"line\", \"encoding\": {\"color\": {\"field\": \"variable\", \"type\": \"nominal\"}, \"x\": {\"field\": \"time\", \"type\": \"temporal\"}, \"y\": {\"field\": \"value\", \"scale\": {\"zero\": false}, \"title\": \"TA\", \"type\": \"quantitative\"}}, \"name\": \"view_3\"}], \"height\": 150, \"title\": \"TA\", \"width\": 200}, {\"layer\": [{\"data\": {\"name\": \"data-ff2f4c1d49ab8c8890fd3518ec00de0b\"}, \"mark\": {\"type\": \"point\", \"color\": \"black\", \"fillOpacity\": 1, \"strokeWidth\": 1}, \"encoding\": {\"fill\": {\"field\": \"is_present\", \"legend\": {\"title\": [\"Observed data\"]}, \"scale\": {\"range\": [\"black\", \"#ffffff00\"]}, \"type\": \"nominal\"}, \"shape\": {\"field\": \"is_present\", \"type\": \"nominal\"}, \"x\": {\"axis\": {\"domain\": true, \"labels\": true, \"ticks\": true, \"title\": \"time\"}, \"field\": \"time\", \"type\": \"temporal\"}, \"y\": {\"field\": \"value\", \"scale\": {\"zero\": false}, \"title\": \"SW_IN\", \"type\": \"quantitative\"}}}, {\"layer\": [{\"mark\": \"rule\", \"encoding\": {\"x\": {\"axis\": {\"domain\": false, \"labels\": false, \"ticks\": false, \"title\": null}, \"field\": \"gap_start\", \"type\": \"temporal\"}}}, {\"mark\": \"rule\", \"encoding\": {\"x\": {\"axis\": {\"domain\": false, \"labels\": false, \"ticks\": false, \"title\": null}, \"field\": \"gap_end\", \"type\": \"temporal\"}}}, {\"mark\": {\"type\": \"rect\", \"color\": \"black\", \"opacity\": 0.2}, \"encoding\": {\"x\": {\"axis\": {\"domain\": false, \"labels\": false, \"ticks\": false, \"title\": null}, \"field\": \"gap_start\", \"type\": \"temporal\"}, \"x2\": {\"field\": \"gap_end\"}}}], \"data\": {\"name\": \"data-6a3d66586038851ee63af4299d7783ff\"}}, {\"data\": {\"name\": \"data-ff2f4c1d49ab8c8890fd3518ec00de0b\"}, \"mark\": \"line\", \"encoding\": {\"color\": {\"field\": \"variable\", \"type\": \"nominal\"}, \"x\": {\"field\": \"time\", \"type\": \"temporal\"}, \"y\": {\"field\": \"value\", \"scale\": {\"zero\": false}, \"title\": \"SW_IN\", \"type\": \"quantitative\"}}, \"name\": \"view_4\"}], \"height\": 150, \"title\": \"SW_IN\", \"width\": 200}, {\"layer\": [{\"mark\": {\"type\": \"point\", \"color\": \"black\", \"fillOpacity\": 1, \"strokeWidth\": 1}, \"encoding\": {\"fill\": {\"field\": \"is_present\", \"legend\": {\"title\": [\"Observed data\"]}, \"scale\": {\"range\": [\"black\", \"#ffffff00\"]}, \"type\": \"nominal\"}, \"shape\": {\"field\": \"is_present\", \"type\": \"nominal\"}, \"x\": {\"axis\": {\"domain\": true, \"labels\": true, \"ticks\": true, \"title\": \"time\"}, \"field\": \"time\", \"type\": \"temporal\"}, \"y\": {\"field\": \"value\", \"scale\": {\"zero\": false}, \"title\": \"VPD\", \"type\": \"quantitative\"}}}, {\"mark\": \"line\", \"encoding\": {\"color\": {\"field\": \"variable\", \"type\": \"nominal\"}, \"x\": {\"field\": \"time\", \"type\": \"temporal\"}, \"y\": {\"field\": \"value\", \"scale\": {\"zero\": false}, \"title\": \"VPD\", \"type\": \"quantitative\"}}, \"name\": \"view_5\"}], \"data\": {\"name\": \"data-87566384334aba3c379fa0e38b728291\"}, \"height\": 150, \"title\": \"VPD\", \"width\": 200}]}], \"params\": [{\"name\": \"param_8\", \"select\": {\"type\": \"interval\"}, \"bind\": \"scales\", \"views\": [\"view_3\"]}, {\"name\": \"param_9\", \"select\": {\"type\": \"interval\"}, \"bind\": \"scales\", \"views\": [\"view_4\"]}, {\"name\": \"param_10\", \"select\": {\"type\": \"interval\"}, \"bind\": \"scales\", \"views\": [\"view_5\"]}], \"$schema\": \"https://vega.github.io/schema/vega-lite/v5.2.0.json\", \"datasets\": {\"data-f32fcef9aaeabb827290b71944d893e2\": [{\"time\": \"2000-06-15T17:00:00\", \"variable\": \"TA\", \"value\": 14.220000267028809, \"is_present\": false}, {\"time\": \"2000-06-15T17:30:00\", \"variable\": \"TA\", \"value\": 14.109999656677246, \"is_present\": false}, {\"time\": \"2000-06-15T18:00:00\", \"variable\": \"TA\", \"value\": 14.229999542236328, \"is_present\": true}, {\"time\": \"2000-06-15T18:30:00\", \"variable\": \"TA\", \"value\": 14.399999618530273, \"is_present\": true}, {\"time\": \"2000-06-15T19:00:00\", \"variable\": \"TA\", \"value\": 14.09000015258789, \"is_present\": true}, {\"time\": \"2000-06-15T19:30:00\", \"variable\": \"TA\", \"value\": 13.710000038146973, \"is_present\": true}, {\"time\": \"2000-06-15T20:00:00\", \"variable\": \"TA\", \"value\": 13.079999923706055, \"is_present\": true}, {\"time\": \"2000-06-15T20:30:00\", \"variable\": \"TA\", \"value\": 12.40999984741211, \"is_present\": true}, {\"time\": \"2000-06-15T21:00:00\", \"variable\": \"TA\", \"value\": 12.270000457763672, \"is_present\": true}, {\"time\": \"2000-06-15T21:30:00\", \"variable\": \"TA\", \"value\": 12.199999809265137, \"is_present\": true}], \"data-6a3d66586038851ee63af4299d7783ff\": [{\"gap_start\": \"2000-06-15T17:00:00\", \"gap_end\": \"2000-06-15T17:30:00\"}], \"data-ff2f4c1d49ab8c8890fd3518ec00de0b\": [{\"time\": \"2000-06-15T17:00:00\", \"variable\": \"SW_IN\", \"value\": 224.8000030517578, \"is_present\": false}, {\"time\": \"2000-06-15T17:30:00\", \"variable\": \"SW_IN\", \"value\": 195.27999877929688, \"is_present\": false}, {\"time\": \"2000-06-15T18:00:00\", \"variable\": \"SW_IN\", \"value\": 244.1699981689453, \"is_present\": true}, {\"time\": \"2000-06-15T18:30:00\", \"variable\": \"SW_IN\", \"value\": 253.9199981689453, \"is_present\": true}, {\"time\": \"2000-06-15T19:00:00\", \"variable\": \"SW_IN\", \"value\": 177.30999755859375, \"is_present\": true}, {\"time\": \"2000-06-15T19:30:00\", \"variable\": \"SW_IN\", \"value\": 97.06999969482422, \"is_present\": true}, {\"time\": \"2000-06-15T20:00:00\", \"variable\": \"SW_IN\", \"value\": 39.709999084472656, \"is_present\": true}, {\"time\": \"2000-06-15T20:30:00\", \"variable\": \"SW_IN\", \"value\": 10.649999618530273, \"is_present\": true}, {\"time\": \"2000-06-15T21:00:00\", \"variable\": \"SW_IN\", \"value\": 0.3199999928474426, \"is_present\": true}, {\"time\": \"2000-06-15T21:30:00\", \"variable\": \"SW_IN\", \"value\": 0.0, \"is_present\": true}], \"data-87566384334aba3c379fa0e38b728291\": [{\"time\": \"2000-06-15T17:00:00\", \"variable\": \"VPD\", \"value\": 5.798999786376953, \"is_present\": true}, {\"time\": \"2000-06-15T17:30:00\", \"variable\": \"VPD\", \"value\": 6.577000141143799, \"is_present\": true}, {\"time\": \"2000-06-15T18:00:00\", \"variable\": \"VPD\", \"value\": 6.931000232696533, \"is_present\": true}, {\"time\": \"2000-06-15T18:30:00\", \"variable\": \"VPD\", \"value\": 7.285999774932861, \"is_present\": true}, {\"time\": \"2000-06-15T19:00:00\", \"variable\": \"VPD\", \"value\": 7.250999927520752, \"is_present\": true}, {\"time\": \"2000-06-15T19:30:00\", \"variable\": \"VPD\", \"value\": 6.683000087738037, \"is_present\": true}, {\"time\": \"2000-06-15T20:00:00\", \"variable\": \"VPD\", \"value\": 5.85099983215332, \"is_present\": true}, {\"time\": \"2000-06-15T20:30:00\", \"variable\": \"VPD\", \"value\": 5.254000186920166, \"is_present\": true}, {\"time\": \"2000-06-15T21:00:00\", \"variable\": \"VPD\", \"value\": 5.164000034332275, \"is_present\": true}, {\"time\": \"2000-06-15T21:30:00\", \"variable\": \"VPD\", \"value\": 5.0370001792907715, \"is_present\": true}]}}, {\"mode\": \"vega-lite\"});\n",
       "</script>"
      ],
      "text/plain": [
       "alt.VConcatChart(...)"
      ]
     },
     "execution_count": null,
     "metadata": {},
     "output_type": "execute_result"
    }
   ],
   "source": [
    "m_df.show(bind_interaction = False)"
   ]
  },
  {
   "cell_type": "code",
   "execution_count": null,
   "id": "c9284e47-6433-405f-8b0d-a2cd6595bf94",
   "metadata": {},
   "outputs": [
    {
     "data": {
      "text/html": [
       "\n",
       "<div id=\"altair-viz-7647ed7419be4064a58012b81c6de274\"></div>\n",
       "<script type=\"text/javascript\">\n",
       "  var VEGA_DEBUG = (typeof VEGA_DEBUG == \"undefined\") ? {} : VEGA_DEBUG;\n",
       "  (function(spec, embedOpt){\n",
       "    let outputDiv = document.currentScript.previousElementSibling;\n",
       "    if (outputDiv.id !== \"altair-viz-7647ed7419be4064a58012b81c6de274\") {\n",
       "      outputDiv = document.getElementById(\"altair-viz-7647ed7419be4064a58012b81c6de274\");\n",
       "    }\n",
       "    const paths = {\n",
       "      \"vega\": \"https://cdn.jsdelivr.net/npm//vega@5?noext\",\n",
       "      \"vega-lib\": \"https://cdn.jsdelivr.net/npm//vega-lib?noext\",\n",
       "      \"vega-lite\": \"https://cdn.jsdelivr.net/npm//vega-lite@5.2.0?noext\",\n",
       "      \"vega-embed\": \"https://cdn.jsdelivr.net/npm//vega-embed@6?noext\",\n",
       "    };\n",
       "\n",
       "    function maybeLoadScript(lib, version) {\n",
       "      var key = `${lib.replace(\"-\", \"\")}_version`;\n",
       "      return (VEGA_DEBUG[key] == version) ?\n",
       "        Promise.resolve(paths[lib]) :\n",
       "        new Promise(function(resolve, reject) {\n",
       "          var s = document.createElement('script');\n",
       "          document.getElementsByTagName(\"head\")[0].appendChild(s);\n",
       "          s.async = true;\n",
       "          s.onload = () => {\n",
       "            VEGA_DEBUG[key] = version;\n",
       "            return resolve(paths[lib]);\n",
       "          };\n",
       "          s.onerror = () => reject(`Error loading script: ${paths[lib]}`);\n",
       "          s.src = paths[lib];\n",
       "        });\n",
       "    }\n",
       "\n",
       "    function showError(err) {\n",
       "      outputDiv.innerHTML = `<div class=\"error\" style=\"color:red;\">${err}</div>`;\n",
       "      throw err;\n",
       "    }\n",
       "\n",
       "    function displayChart(vegaEmbed) {\n",
       "      vegaEmbed(outputDiv, spec, embedOpt)\n",
       "        .catch(err => showError(`Javascript Error: ${err.message}<br>This usually means there's a typo in your chart specification. See the javascript console for the full traceback.`));\n",
       "    }\n",
       "\n",
       "    if(typeof define === \"function\" && define.amd) {\n",
       "      requirejs.config({paths});\n",
       "      require([\"vega-embed\"], displayChart, err => showError(`Error loading script: ${err.message}`));\n",
       "    } else {\n",
       "      maybeLoadScript(\"vega\", \"5\")\n",
       "        .then(() => maybeLoadScript(\"vega-lite\", \"5.2.0\"))\n",
       "        .then(() => maybeLoadScript(\"vega-embed\", \"6\"))\n",
       "        .catch(showError)\n",
       "        .then(() => displayChart(vegaEmbed));\n",
       "    }\n",
       "  })({\"config\": {\"view\": {\"continuousWidth\": 400, \"continuousHeight\": 300}}, \"vconcat\": [{\"hconcat\": [{\"layer\": [{\"data\": {\"name\": \"data-901e3bc3e3498251173181bfdfd34208\"}, \"mark\": {\"type\": \"point\", \"color\": \"black\", \"fillOpacity\": 1, \"strokeWidth\": 1}, \"encoding\": {\"fill\": {\"field\": \"is_present\", \"legend\": {\"title\": [\"Observed data\"]}, \"scale\": {\"range\": [\"black\", \"#ffffff00\"]}, \"type\": \"nominal\"}, \"shape\": {\"field\": \"is_present\", \"type\": \"nominal\"}, \"x\": {\"axis\": {\"domain\": true, \"labels\": true, \"ticks\": true, \"title\": \"time\"}, \"field\": \"time\", \"type\": \"temporal\"}, \"y\": {\"field\": \"value\", \"scale\": {\"zero\": false}, \"title\": \"TA\", \"type\": \"quantitative\"}}}, {\"layer\": [{\"mark\": \"rule\", \"encoding\": {\"x\": {\"axis\": {\"domain\": false, \"labels\": false, \"ticks\": false, \"title\": null}, \"field\": \"gap_start\", \"type\": \"temporal\"}}}, {\"mark\": \"rule\", \"encoding\": {\"x\": {\"axis\": {\"domain\": false, \"labels\": false, \"ticks\": false, \"title\": null}, \"field\": \"gap_end\", \"type\": \"temporal\"}}}, {\"mark\": {\"type\": \"rect\", \"color\": \"black\", \"opacity\": 0.2}, \"encoding\": {\"x\": {\"axis\": {\"domain\": false, \"labels\": false, \"ticks\": false, \"title\": null}, \"field\": \"gap_start\", \"type\": \"temporal\"}, \"x2\": {\"field\": \"gap_end\"}}}], \"data\": {\"name\": \"data-a01b1af37e7cb606cb5346335af6e495\"}}, {\"data\": {\"name\": \"data-901e3bc3e3498251173181bfdfd34208\"}, \"mark\": \"line\", \"encoding\": {\"color\": {\"field\": \"variable\", \"type\": \"nominal\"}, \"x\": {\"field\": \"time\", \"type\": \"temporal\"}, \"y\": {\"field\": \"value\", \"scale\": {\"zero\": false}, \"title\": \"TA\", \"type\": \"quantitative\"}}, \"name\": \"view_6\"}], \"height\": 150, \"title\": \"TA\", \"width\": 200}, {\"layer\": [{\"data\": {\"name\": \"data-f18a816d60d069f109969cc19ac05d71\"}, \"mark\": {\"type\": \"point\", \"color\": \"black\", \"fillOpacity\": 1, \"strokeWidth\": 1}, \"encoding\": {\"fill\": {\"field\": \"is_present\", \"legend\": {\"title\": [\"Observed data\"]}, \"scale\": {\"range\": [\"black\", \"#ffffff00\"]}, \"type\": \"nominal\"}, \"shape\": {\"field\": \"is_present\", \"type\": \"nominal\"}, \"x\": {\"axis\": {\"domain\": true, \"labels\": true, \"ticks\": true, \"title\": \"time\"}, \"field\": \"time\", \"type\": \"temporal\"}, \"y\": {\"field\": \"value\", \"scale\": {\"zero\": false}, \"title\": \"SW_IN\", \"type\": \"quantitative\"}}}, {\"layer\": [{\"mark\": \"rule\", \"encoding\": {\"x\": {\"axis\": {\"domain\": false, \"labels\": false, \"ticks\": false, \"title\": null}, \"field\": \"gap_start\", \"type\": \"temporal\"}}}, {\"mark\": \"rule\", \"encoding\": {\"x\": {\"axis\": {\"domain\": false, \"labels\": false, \"ticks\": false, \"title\": null}, \"field\": \"gap_end\", \"type\": \"temporal\"}}}, {\"mark\": {\"type\": \"rect\", \"color\": \"black\", \"opacity\": 0.2}, \"encoding\": {\"x\": {\"axis\": {\"domain\": false, \"labels\": false, \"ticks\": false, \"title\": null}, \"field\": \"gap_start\", \"type\": \"temporal\"}, \"x2\": {\"field\": \"gap_end\"}}}], \"data\": {\"name\": \"data-a01b1af37e7cb606cb5346335af6e495\"}}, {\"data\": {\"name\": \"data-f18a816d60d069f109969cc19ac05d71\"}, \"mark\": \"line\", \"encoding\": {\"color\": {\"field\": \"variable\", \"type\": \"nominal\"}, \"x\": {\"field\": \"time\", \"type\": \"temporal\"}, \"y\": {\"field\": \"value\", \"scale\": {\"zero\": false}, \"title\": \"SW_IN\", \"type\": \"quantitative\"}}, \"name\": \"view_7\"}], \"height\": 150, \"title\": \"SW_IN\", \"width\": 200}, {\"layer\": [{\"mark\": {\"type\": \"point\", \"color\": \"black\", \"fillOpacity\": 1, \"strokeWidth\": 1}, \"encoding\": {\"fill\": {\"field\": \"is_present\", \"legend\": {\"title\": [\"Observed data\"]}, \"scale\": {\"range\": [\"black\", \"#ffffff00\"]}, \"type\": \"nominal\"}, \"shape\": {\"field\": \"is_present\", \"type\": \"nominal\"}, \"x\": {\"axis\": {\"domain\": true, \"labels\": true, \"ticks\": true, \"title\": \"time\"}, \"field\": \"time\", \"type\": \"temporal\"}, \"y\": {\"field\": \"value\", \"scale\": {\"zero\": false}, \"title\": \"VPD\", \"type\": \"quantitative\"}}}, {\"mark\": \"line\", \"encoding\": {\"color\": {\"field\": \"variable\", \"type\": \"nominal\"}, \"x\": {\"field\": \"time\", \"type\": \"temporal\"}, \"y\": {\"field\": \"value\", \"scale\": {\"zero\": false}, \"title\": \"VPD\", \"type\": \"quantitative\"}}, \"name\": \"view_8\"}], \"data\": {\"name\": \"data-87566384334aba3c379fa0e38b728291\"}, \"height\": 150, \"title\": \"VPD\", \"width\": 200}]}], \"params\": [{\"name\": \"param_11\", \"select\": {\"type\": \"interval\", \"encodings\": [\"x\"]}, \"bind\": \"scales\", \"views\": [\"view_6\", \"view_7\", \"view_8\"]}], \"$schema\": \"https://vega.github.io/schema/vega-lite/v5.2.0.json\", \"datasets\": {\"data-901e3bc3e3498251173181bfdfd34208\": [{\"time\": \"2000-06-15T17:00:00\", \"variable\": \"TA\", \"value\": 14.220000267028809, \"is_present\": true}, {\"time\": \"2000-06-15T17:30:00\", \"variable\": \"TA\", \"value\": 14.109999656677246, \"is_present\": true}, {\"time\": \"2000-06-15T18:00:00\", \"variable\": \"TA\", \"value\": 14.229999542236328, \"is_present\": true}, {\"time\": \"2000-06-15T18:30:00\", \"variable\": \"TA\", \"value\": 14.399999618530273, \"is_present\": true}, {\"time\": \"2000-06-15T19:00:00\", \"variable\": \"TA\", \"value\": 14.09000015258789, \"is_present\": true}, {\"time\": \"2000-06-15T19:30:00\", \"variable\": \"TA\", \"value\": 13.710000038146973, \"is_present\": false}, {\"time\": \"2000-06-15T20:00:00\", \"variable\": \"TA\", \"value\": 13.079999923706055, \"is_present\": false}, {\"time\": \"2000-06-15T20:30:00\", \"variable\": \"TA\", \"value\": 12.40999984741211, \"is_present\": true}, {\"time\": \"2000-06-15T21:00:00\", \"variable\": \"TA\", \"value\": 12.270000457763672, \"is_present\": true}, {\"time\": \"2000-06-15T21:30:00\", \"variable\": \"TA\", \"value\": 12.199999809265137, \"is_present\": true}], \"data-a01b1af37e7cb606cb5346335af6e495\": [{\"gap_start\": \"2000-06-15T19:30:00\", \"gap_end\": \"2000-06-15T20:00:00\"}], \"data-f18a816d60d069f109969cc19ac05d71\": [{\"time\": \"2000-06-15T17:00:00\", \"variable\": \"SW_IN\", \"value\": 224.8000030517578, \"is_present\": true}, {\"time\": \"2000-06-15T17:30:00\", \"variable\": \"SW_IN\", \"value\": 195.27999877929688, \"is_present\": true}, {\"time\": \"2000-06-15T18:00:00\", \"variable\": \"SW_IN\", \"value\": 244.1699981689453, \"is_present\": true}, {\"time\": \"2000-06-15T18:30:00\", \"variable\": \"SW_IN\", \"value\": 253.9199981689453, \"is_present\": true}, {\"time\": \"2000-06-15T19:00:00\", \"variable\": \"SW_IN\", \"value\": 177.30999755859375, \"is_present\": true}, {\"time\": \"2000-06-15T19:30:00\", \"variable\": \"SW_IN\", \"value\": 97.06999969482422, \"is_present\": false}, {\"time\": \"2000-06-15T20:00:00\", \"variable\": \"SW_IN\", \"value\": 39.709999084472656, \"is_present\": false}, {\"time\": \"2000-06-15T20:30:00\", \"variable\": \"SW_IN\", \"value\": 10.649999618530273, \"is_present\": true}, {\"time\": \"2000-06-15T21:00:00\", \"variable\": \"SW_IN\", \"value\": 0.3199999928474426, \"is_present\": true}, {\"time\": \"2000-06-15T21:30:00\", \"variable\": \"SW_IN\", \"value\": 0.0, \"is_present\": true}], \"data-87566384334aba3c379fa0e38b728291\": [{\"time\": \"2000-06-15T17:00:00\", \"variable\": \"VPD\", \"value\": 5.798999786376953, \"is_present\": true}, {\"time\": \"2000-06-15T17:30:00\", \"variable\": \"VPD\", \"value\": 6.577000141143799, \"is_present\": true}, {\"time\": \"2000-06-15T18:00:00\", \"variable\": \"VPD\", \"value\": 6.931000232696533, \"is_present\": true}, {\"time\": \"2000-06-15T18:30:00\", \"variable\": \"VPD\", \"value\": 7.285999774932861, \"is_present\": true}, {\"time\": \"2000-06-15T19:00:00\", \"variable\": \"VPD\", \"value\": 7.250999927520752, \"is_present\": true}, {\"time\": \"2000-06-15T19:30:00\", \"variable\": \"VPD\", \"value\": 6.683000087738037, \"is_present\": true}, {\"time\": \"2000-06-15T20:00:00\", \"variable\": \"VPD\", \"value\": 5.85099983215332, \"is_present\": true}, {\"time\": \"2000-06-15T20:30:00\", \"variable\": \"VPD\", \"value\": 5.254000186920166, \"is_present\": true}, {\"time\": \"2000-06-15T21:00:00\", \"variable\": \"VPD\", \"value\": 5.164000034332275, \"is_present\": true}, {\"time\": \"2000-06-15T21:30:00\", \"variable\": \"VPD\", \"value\": 5.0370001792907715, \"is_present\": true}]}}, {\"mode\": \"vega-lite\"});\n",
       "</script>"
      ],
      "text/plain": [
       "alt.VConcatChart(...)"
      ]
     },
     "execution_count": null,
     "metadata": {},
     "output_type": "execute_result"
    }
   ],
   "source": [
    "tfms2[0].show()"
   ]
  },
  {
   "cell_type": "code",
   "execution_count": null,
   "id": "416677b9-11ee-4700-b495-0a625209d43b",
   "metadata": {},
   "outputs": [
    {
     "data": {
      "text/html": [
       "\n",
       "<div id=\"altair-viz-247bc09956654ee5925a79f1e67f3b32\"></div>\n",
       "<script type=\"text/javascript\">\n",
       "  var VEGA_DEBUG = (typeof VEGA_DEBUG == \"undefined\") ? {} : VEGA_DEBUG;\n",
       "  (function(spec, embedOpt){\n",
       "    let outputDiv = document.currentScript.previousElementSibling;\n",
       "    if (outputDiv.id !== \"altair-viz-247bc09956654ee5925a79f1e67f3b32\") {\n",
       "      outputDiv = document.getElementById(\"altair-viz-247bc09956654ee5925a79f1e67f3b32\");\n",
       "    }\n",
       "    const paths = {\n",
       "      \"vega\": \"https://cdn.jsdelivr.net/npm//vega@5?noext\",\n",
       "      \"vega-lib\": \"https://cdn.jsdelivr.net/npm//vega-lib?noext\",\n",
       "      \"vega-lite\": \"https://cdn.jsdelivr.net/npm//vega-lite@5.2.0?noext\",\n",
       "      \"vega-embed\": \"https://cdn.jsdelivr.net/npm//vega-embed@6?noext\",\n",
       "    };\n",
       "\n",
       "    function maybeLoadScript(lib, version) {\n",
       "      var key = `${lib.replace(\"-\", \"\")}_version`;\n",
       "      return (VEGA_DEBUG[key] == version) ?\n",
       "        Promise.resolve(paths[lib]) :\n",
       "        new Promise(function(resolve, reject) {\n",
       "          var s = document.createElement('script');\n",
       "          document.getElementsByTagName(\"head\")[0].appendChild(s);\n",
       "          s.async = true;\n",
       "          s.onload = () => {\n",
       "            VEGA_DEBUG[key] = version;\n",
       "            return resolve(paths[lib]);\n",
       "          };\n",
       "          s.onerror = () => reject(`Error loading script: ${paths[lib]}`);\n",
       "          s.src = paths[lib];\n",
       "        });\n",
       "    }\n",
       "\n",
       "    function showError(err) {\n",
       "      outputDiv.innerHTML = `<div class=\"error\" style=\"color:red;\">${err}</div>`;\n",
       "      throw err;\n",
       "    }\n",
       "\n",
       "    function displayChart(vegaEmbed) {\n",
       "      vegaEmbed(outputDiv, spec, embedOpt)\n",
       "        .catch(err => showError(`Javascript Error: ${err.message}<br>This usually means there's a typo in your chart specification. See the javascript console for the full traceback.`));\n",
       "    }\n",
       "\n",
       "    if(typeof define === \"function\" && define.amd) {\n",
       "      requirejs.config({paths});\n",
       "      require([\"vega-embed\"], displayChart, err => showError(`Error loading script: ${err.message}`));\n",
       "    } else {\n",
       "      maybeLoadScript(\"vega\", \"5\")\n",
       "        .then(() => maybeLoadScript(\"vega-lite\", \"5.2.0\"))\n",
       "        .then(() => maybeLoadScript(\"vega-embed\", \"6\"))\n",
       "        .catch(showError)\n",
       "        .then(() => displayChart(vegaEmbed));\n",
       "    }\n",
       "  })({\"config\": {\"view\": {\"continuousWidth\": 400, \"continuousHeight\": 300}}, \"vconcat\": [{\"hconcat\": [{\"layer\": [{\"data\": {\"name\": \"data-51ab4deb9e20f409154ecdc6a82d5792\"}, \"mark\": {\"type\": \"point\", \"color\": \"black\", \"fillOpacity\": 1, \"strokeWidth\": 1}, \"encoding\": {\"fill\": {\"field\": \"is_present\", \"legend\": {\"title\": [\"Observed data\"]}, \"scale\": {\"range\": [\"black\", \"#ffffff00\"]}, \"type\": \"nominal\"}, \"shape\": {\"field\": \"is_present\", \"type\": \"nominal\"}, \"x\": {\"axis\": {\"domain\": true, \"labels\": true, \"ticks\": true, \"title\": \"time\"}, \"field\": \"time\", \"type\": \"temporal\"}, \"y\": {\"field\": \"value\", \"scale\": {\"zero\": false}, \"title\": \"TA\", \"type\": \"quantitative\"}}}, {\"layer\": [{\"mark\": \"rule\", \"encoding\": {\"x\": {\"axis\": {\"domain\": false, \"labels\": false, \"ticks\": false, \"title\": null}, \"field\": \"gap_start\", \"type\": \"temporal\"}}}, {\"mark\": \"rule\", \"encoding\": {\"x\": {\"axis\": {\"domain\": false, \"labels\": false, \"ticks\": false, \"title\": null}, \"field\": \"gap_end\", \"type\": \"temporal\"}}}, {\"mark\": {\"type\": \"rect\", \"color\": \"black\", \"opacity\": 0.2}, \"encoding\": {\"x\": {\"axis\": {\"domain\": false, \"labels\": false, \"ticks\": false, \"title\": null}, \"field\": \"gap_start\", \"type\": \"temporal\"}, \"x2\": {\"field\": \"gap_end\"}}}], \"data\": {\"name\": \"data-1bd453d94a6c560bbdf35162e0deb797\"}}, {\"data\": {\"name\": \"data-51ab4deb9e20f409154ecdc6a82d5792\"}, \"mark\": \"line\", \"encoding\": {\"color\": {\"field\": \"variable\", \"type\": \"nominal\"}, \"x\": {\"field\": \"time\", \"type\": \"temporal\"}, \"y\": {\"field\": \"value\", \"scale\": {\"zero\": false}, \"title\": \"TA\", \"type\": \"quantitative\"}}, \"name\": \"view_9\"}], \"height\": 150, \"title\": \"TA\", \"width\": 200}, {\"layer\": [{\"data\": {\"name\": \"data-2a98879bc4ad3b341f61308fb98621c4\"}, \"mark\": {\"type\": \"point\", \"color\": \"black\", \"fillOpacity\": 1, \"strokeWidth\": 1}, \"encoding\": {\"fill\": {\"field\": \"is_present\", \"legend\": {\"title\": [\"Observed data\"]}, \"scale\": {\"range\": [\"black\", \"#ffffff00\"]}, \"type\": \"nominal\"}, \"shape\": {\"field\": \"is_present\", \"type\": \"nominal\"}, \"x\": {\"axis\": {\"domain\": true, \"labels\": true, \"ticks\": true, \"title\": \"time\"}, \"field\": \"time\", \"type\": \"temporal\"}, \"y\": {\"field\": \"value\", \"scale\": {\"zero\": false}, \"title\": \"SW_IN\", \"type\": \"quantitative\"}}}, {\"layer\": [{\"mark\": \"rule\", \"encoding\": {\"x\": {\"axis\": {\"domain\": false, \"labels\": false, \"ticks\": false, \"title\": null}, \"field\": \"gap_start\", \"type\": \"temporal\"}}}, {\"mark\": \"rule\", \"encoding\": {\"x\": {\"axis\": {\"domain\": false, \"labels\": false, \"ticks\": false, \"title\": null}, \"field\": \"gap_end\", \"type\": \"temporal\"}}}, {\"mark\": {\"type\": \"rect\", \"color\": \"black\", \"opacity\": 0.2}, \"encoding\": {\"x\": {\"axis\": {\"domain\": false, \"labels\": false, \"ticks\": false, \"title\": null}, \"field\": \"gap_start\", \"type\": \"temporal\"}, \"x2\": {\"field\": \"gap_end\"}}}], \"data\": {\"name\": \"data-1bd453d94a6c560bbdf35162e0deb797\"}}, {\"data\": {\"name\": \"data-2a98879bc4ad3b341f61308fb98621c4\"}, \"mark\": \"line\", \"encoding\": {\"color\": {\"field\": \"variable\", \"type\": \"nominal\"}, \"x\": {\"field\": \"time\", \"type\": \"temporal\"}, \"y\": {\"field\": \"value\", \"scale\": {\"zero\": false}, \"title\": \"SW_IN\", \"type\": \"quantitative\"}}, \"name\": \"view_10\"}], \"height\": 150, \"title\": \"SW_IN\", \"width\": 200}, {\"layer\": [{\"mark\": {\"type\": \"point\", \"color\": \"black\", \"fillOpacity\": 1, \"strokeWidth\": 1}, \"encoding\": {\"fill\": {\"field\": \"is_present\", \"legend\": {\"title\": [\"Observed data\"]}, \"scale\": {\"range\": [\"black\", \"#ffffff00\"]}, \"type\": \"nominal\"}, \"shape\": {\"field\": \"is_present\", \"type\": \"nominal\"}, \"x\": {\"axis\": {\"domain\": true, \"labels\": true, \"ticks\": true, \"title\": \"time\"}, \"field\": \"time\", \"type\": \"temporal\"}, \"y\": {\"field\": \"value\", \"scale\": {\"zero\": false}, \"title\": \"VPD\", \"type\": \"quantitative\"}}}, {\"mark\": \"line\", \"encoding\": {\"color\": {\"field\": \"variable\", \"type\": \"nominal\"}, \"x\": {\"field\": \"time\", \"type\": \"temporal\"}, \"y\": {\"field\": \"value\", \"scale\": {\"zero\": false}, \"title\": \"VPD\", \"type\": \"quantitative\"}}, \"name\": \"view_11\"}], \"data\": {\"name\": \"data-0758420d5d1e1a0a6b4da55e8a5b3610\"}, \"height\": 150, \"title\": \"VPD\", \"width\": 200}]}], \"params\": [{\"name\": \"param_15\", \"select\": {\"type\": \"interval\", \"encodings\": [\"x\"]}, \"bind\": \"scales\", \"views\": [\"view_9\", \"view_10\", \"view_11\"]}], \"$schema\": \"https://vega.github.io/schema/vega-lite/v5.2.0.json\", \"datasets\": {\"data-51ab4deb9e20f409154ecdc6a82d5792\": [{\"time\": \"2000-06-16T08:00:00\", \"variable\": \"TA\", \"value\": 8.899999618530273, \"is_present\": false}, {\"time\": \"2000-06-16T08:30:00\", \"variable\": \"TA\", \"value\": 9.569999694824219, \"is_present\": false}, {\"time\": \"2000-06-16T09:00:00\", \"variable\": \"TA\", \"value\": 9.739999771118164, \"is_present\": true}, {\"time\": \"2000-06-16T09:30:00\", \"variable\": \"TA\", \"value\": 10.020000457763672, \"is_present\": true}, {\"time\": \"2000-06-16T10:00:00\", \"variable\": \"TA\", \"value\": 10.5, \"is_present\": true}, {\"time\": \"2000-06-16T10:30:00\", \"variable\": \"TA\", \"value\": 10.529999732971191, \"is_present\": true}, {\"time\": \"2000-06-16T11:00:00\", \"variable\": \"TA\", \"value\": 10.729999542236328, \"is_present\": true}, {\"time\": \"2000-06-16T11:30:00\", \"variable\": \"TA\", \"value\": 10.770000457763672, \"is_present\": true}, {\"time\": \"2000-06-16T12:00:00\", \"variable\": \"TA\", \"value\": 10.850000381469727, \"is_present\": true}, {\"time\": \"2000-06-16T12:30:00\", \"variable\": \"TA\", \"value\": 11.399999618530273, \"is_present\": true}], \"data-1bd453d94a6c560bbdf35162e0deb797\": [{\"gap_start\": \"2000-06-16T08:00:00\", \"gap_end\": \"2000-06-16T08:30:00\"}], \"data-2a98879bc4ad3b341f61308fb98621c4\": [{\"time\": \"2000-06-16T08:00:00\", \"variable\": \"SW_IN\", \"value\": 467.94000244140625, \"is_present\": false}, {\"time\": \"2000-06-16T08:30:00\", \"variable\": \"SW_IN\", \"value\": 526.6400146484375, \"is_present\": false}, {\"time\": \"2000-06-16T09:00:00\", \"variable\": \"SW_IN\", \"value\": 463.1000061035156, \"is_present\": true}, {\"time\": \"2000-06-16T09:30:00\", \"variable\": \"SW_IN\", \"value\": 676.3599853515625, \"is_present\": true}, {\"time\": \"2000-06-16T10:00:00\", \"variable\": \"SW_IN\", \"value\": 689.47998046875, \"is_present\": true}, {\"time\": \"2000-06-16T10:30:00\", \"variable\": \"SW_IN\", \"value\": 503.30999755859375, \"is_present\": true}, {\"time\": \"2000-06-16T11:00:00\", \"variable\": \"SW_IN\", \"value\": 583.1699829101562, \"is_present\": true}, {\"time\": \"2000-06-16T11:30:00\", \"variable\": \"SW_IN\", \"value\": 329.6400146484375, \"is_present\": true}, {\"time\": \"2000-06-16T12:00:00\", \"variable\": \"SW_IN\", \"value\": 503.57000732421875, \"is_present\": true}, {\"time\": \"2000-06-16T12:30:00\", \"variable\": \"SW_IN\", \"value\": 567.5599975585938, \"is_present\": true}], \"data-0758420d5d1e1a0a6b4da55e8a5b3610\": [{\"time\": \"2000-06-16T08:00:00\", \"variable\": \"VPD\", \"value\": 3.5490000247955322, \"is_present\": true}, {\"time\": \"2000-06-16T08:30:00\", \"variable\": \"VPD\", \"value\": 4.1529998779296875, \"is_present\": true}, {\"time\": \"2000-06-16T09:00:00\", \"variable\": \"VPD\", \"value\": 4.705999851226807, \"is_present\": true}, {\"time\": \"2000-06-16T09:30:00\", \"variable\": \"VPD\", \"value\": 5.374000072479248, \"is_present\": true}, {\"time\": \"2000-06-16T10:00:00\", \"variable\": \"VPD\", \"value\": 5.7129998207092285, \"is_present\": true}, {\"time\": \"2000-06-16T10:30:00\", \"variable\": \"VPD\", \"value\": 5.677000045776367, \"is_present\": true}, {\"time\": \"2000-06-16T11:00:00\", \"variable\": \"VPD\", \"value\": 5.386000156402588, \"is_present\": true}, {\"time\": \"2000-06-16T11:30:00\", \"variable\": \"VPD\", \"value\": 5.355000019073486, \"is_present\": true}, {\"time\": \"2000-06-16T12:00:00\", \"variable\": \"VPD\", \"value\": 5.065999984741211, \"is_present\": true}, {\"time\": \"2000-06-16T12:30:00\", \"variable\": \"VPD\", \"value\": 5.794000148773193, \"is_present\": true}]}}, {\"mode\": \"vega-lite\"});\n",
       "</script>"
      ],
      "text/plain": [
       "alt.VConcatChart(...)"
      ]
     },
     "execution_count": null,
     "metadata": {},
     "output_type": "execute_result"
    }
   ],
   "source": [
    "tfms2[3].show()"
   ]
  },
  {
   "cell_type": "markdown",
   "id": "9e70cf47-7a11-4806-93ba-f9bdf56dc671",
   "metadata": {},
   "source": [
    "### 4) To Tensor"
   ]
  },
  {
   "cell_type": "markdown",
   "id": "a632c649-a391-4513-bcad-c5217ce001ef",
   "metadata": {},
   "source": [
    "this needs to handle both the init with a list of items and when the first item is a sequence of list of items"
   ]
  },
  {
   "cell_type": "code",
   "execution_count": null,
   "id": "1c157b15-d2e4-468b-9505-34478c196d34",
   "metadata": {},
   "outputs": [],
   "source": [
    "#| export\n",
    "class MeteoImpTensor(collections.abc.Sequence):\n",
    "    def __init__(self,*args):\n",
    "        if len(args)==3:\n",
    "            self.data = args[0]\n",
    "            self.mask = args[1]\n",
    "            self.control = args[2]\n",
    "        elif len(args)==1 and len(args[0])==2:\n",
    "            self.data = args[0][0]\n",
    "            self.mask = args[0][1]\n",
    "        else:\n",
    "            raise ValueError(f\"Incorrect number of arguments. got {len(args)} args\")\n",
    "\n",
    "    def __iter__(self): return iter((self.data, self.mask,self.control))\n",
    "    __len__ = 3\n",
    "    def __getitem__(self, key):\n",
    "        if key == 0: return self.data\n",
    "        elif key == 1: return self.mask\n",
    "        elif key == 2: return self.control\n",
    "        else: raise IndexError(\"index bigger than 2\")\n",
    "    __repr__ = basic_repr('data, mask, control')\n",
    "    def _repr_html_(self):\n",
    "        return row_items(data = self.data, mask = self.mask, control = self.control)"
   ]
  },
  {
   "cell_type": "code",
   "execution_count": null,
   "id": "49a73687-9272-44ad-84d5-0b845a63cd98",
   "metadata": {},
   "outputs": [],
   "source": [
    "#| export\n",
    "class MeteoImpDf2Tensor(Transform):\n",
    "    def setups(self, items):\n",
    "        self.columns = list(items[0].data.columns)\n",
    "    def encodes(self, df: MeteoImpDf) -> MeteoImpTensor:\n",
    "        data = torch.tensor(df.data.to_numpy())\n",
    "        mask = torch.tensor(df.mask.to_numpy())\n",
    "        control = torch.tensor(df.control.to_numpy())\n",
    "        return MeteoImpTensor(data, mask, control)\n",
    "        \n",
    "    # def decodes(self, x: MeteoImpTensor) -> MeteoImpDf:\n",
    "    #     data = pd.DataFrame(x.data.detach().cpu().numpy(), columns = self.columns)\n",
    "    #     mask = pd.DataFrame(x.mask.cpu().numpy(), columns = self.columns)\n",
    "    #     control = pd.DataFrame(x.control.cpu().numpy(), columns = self.columns)\n",
    "    #     return MeteoImpDf(data, mask, control)"
   ]
  },
  {
   "cell_type": "code",
   "execution_count": null,
   "id": "f144e2e3-93b2-4b53-86ac-eeed6b483e61",
   "metadata": {},
   "outputs": [],
   "source": [
    "to_t = MeteoImpDf2Tensor()"
   ]
  },
  {
   "cell_type": "code",
   "execution_count": null,
   "id": "70d0c5f6-741a-4687-896a-deeb0d58c201",
   "metadata": {},
   "outputs": [],
   "source": [
    "to_t.setup(tfms2)"
   ]
  },
  {
   "cell_type": "code",
   "execution_count": null,
   "id": "2a4f7ca8-df98-42a4-97a7-cd04a61d1304",
   "metadata": {},
   "outputs": [
    {
     "data": {
      "text/html": [
       "<div style=\"display: flex; column-gap: 20px; flex-wrap: wrap;\" class='table table-striped table-sm'> <div><p style='font-size: 1.2rem;'>data</p> <pre>tensor([[ 14.2200, 224.8000,   5.7990],\n",
       "        [ 14.1100, 195.2800,   6.5770],\n",
       "        [ 14.2300, 244.1700,   6.9310],\n",
       "        [ 14.4000, 253.9200,   7.2860],\n",
       "        [ 14.0900, 177.3100,   7.2510],\n",
       "        [ 13.7100,  97.0700,   6.6830],\n",
       "        [ 13.0800,  39.7100,   5.8510],\n",
       "        [ 12.4100,  10.6500,   5.2540],\n",
       "        [ 12.2700,   0.3200,   5.1640],\n",
       "        [ 12.2000,   0.0000,   5.0370]])</pre> </div><div><p style='font-size: 1.2rem;'>mask</p> <pre>tensor([[ True,  True,  True],\n",
       "        [ True,  True,  True],\n",
       "        [ True,  True,  True],\n",
       "        [ True,  True,  True],\n",
       "        [ True,  True,  True],\n",
       "        [False, False,  True],\n",
       "        [False, False,  True],\n",
       "        [ True,  True,  True],\n",
       "        [ True,  True,  True],\n",
       "        [ True,  True,  True]])</pre> </div><div><p style='font-size: 1.2rem;'>control</p> <pre>tensor([[ 15.0500, 255.1930,   5.1020,  15.1390, 287.1000,   4.9000],\n",
       "        [ 14.9610, 221.4270,   5.3050,  15.0500, 255.1930,   5.1020],\n",
       "        [ 14.8720, 186.3800,   5.5070,  14.9610, 221.4270,   5.3050],\n",
       "        [ 14.7830, 150.6500,   5.7100,  14.8720, 186.3800,   5.5070],\n",
       "        [ 14.6940, 114.8490,   5.9120,  14.7830, 150.6500,   5.7100],\n",
       "        [ 14.6060,  34.7280,   6.1140,  14.6940, 114.8490,   5.9120],\n",
       "        [ 14.3800,  19.8430,   6.0740,  14.6060,  34.7280,   6.1140],\n",
       "        [ 14.1550,   5.7120,   6.0340,  14.3800,  19.8430,   6.0740],\n",
       "        [ 13.9290,   0.0000,   5.9940,  14.1550,   5.7120,   6.0340],\n",
       "        [ 13.7040,   0.0000,   5.9540,  13.9290,   0.0000,   5.9940]])</pre> </div></div>"
      ],
      "text/plain": [
       "__main__.MeteoImpTensor(data=tensor([[ 14.2200, 224.8000,   5.7990],\n",
       "        [ 14.1100, 195.2800,   6.5770],\n",
       "        [ 14.2300, 244.1700,   6.9310],\n",
       "        [ 14.4000, 253.9200,   7.2860],\n",
       "        [ 14.0900, 177.3100,   7.2510],\n",
       "        [ 13.7100,  97.0700,   6.6830],\n",
       "        [ 13.0800,  39.7100,   5.8510],\n",
       "        [ 12.4100,  10.6500,   5.2540],\n",
       "        [ 12.2700,   0.3200,   5.1640],\n",
       "        [ 12.2000,   0.0000,   5.0370]]), mask=tensor([[ True,  True,  True],\n",
       "        [ True,  True,  True],\n",
       "        [ True,  True,  True],\n",
       "        [ True,  True,  True],\n",
       "        [ True,  True,  True],\n",
       "        [False, False,  True],\n",
       "        [False, False,  True],\n",
       "        [ True,  True,  True],\n",
       "        [ True,  True,  True],\n",
       "        [ True,  True,  True]]), control=tensor([[ 15.0500, 255.1930,   5.1020,  15.1390, 287.1000,   4.9000],\n",
       "        [ 14.9610, 221.4270,   5.3050,  15.0500, 255.1930,   5.1020],\n",
       "        [ 14.8720, 186.3800,   5.5070,  14.9610, 221.4270,   5.3050],\n",
       "        [ 14.7830, 150.6500,   5.7100,  14.8720, 186.3800,   5.5070],\n",
       "        [ 14.6940, 114.8490,   5.9120,  14.7830, 150.6500,   5.7100],\n",
       "        [ 14.6060,  34.7280,   6.1140,  14.6940, 114.8490,   5.9120],\n",
       "        [ 14.3800,  19.8430,   6.0740,  14.6060,  34.7280,   6.1140],\n",
       "        [ 14.1550,   5.7120,   6.0340,  14.3800,  19.8430,   6.0740],\n",
       "        [ 13.9290,   0.0000,   5.9940,  14.1550,   5.7120,   6.0340],\n",
       "        [ 13.7040,   0.0000,   5.9540,  13.9290,   0.0000,   5.9940]]))"
      ]
     },
     "execution_count": null,
     "metadata": {},
     "output_type": "execute_result"
    }
   ],
   "source": [
    "to_t(tfms2[0])"
   ]
  },
  {
   "cell_type": "code",
   "execution_count": null,
   "id": "786af7c1-edb5-40ef-bbd3-b9f1b1220f11",
   "metadata": {},
   "outputs": [],
   "source": [
    "to_t.decode(to_t(tfms2[0]));"
   ]
  },
  {
   "cell_type": "code",
   "execution_count": null,
   "id": "d2e84c50-5ecd-43a7-881e-80e53bc55aa0",
   "metadata": {},
   "outputs": [
    {
     "data": {
      "text/html": [
       "<p style='font-size: 1.5rem; font-decoration: bold'>Meteo Imp Df<p><div style=\"display: flex; column-gap: 20px; flex-wrap: wrap;\" class='table table-striped table-sm'> <div> <p style='font-size: 1.3rem;'>data</p> <style type=\"text/css\">\n",
       "</style>\n",
       "<table id=\"T_046ff\">\n",
       "  <thead>\n",
       "    <tr>\n",
       "      <th class=\"blank level0\" >&nbsp;</th>\n",
       "      <th id=\"T_046ff_level0_col0\" class=\"col_heading level0 col0\" >TA</th>\n",
       "      <th id=\"T_046ff_level0_col1\" class=\"col_heading level0 col1\" >SW_IN</th>\n",
       "      <th id=\"T_046ff_level0_col2\" class=\"col_heading level0 col2\" >VPD</th>\n",
       "    </tr>\n",
       "    <tr>\n",
       "      <th class=\"index_name level0\" >time</th>\n",
       "      <th class=\"blank col0\" >&nbsp;</th>\n",
       "      <th class=\"blank col1\" >&nbsp;</th>\n",
       "      <th class=\"blank col2\" >&nbsp;</th>\n",
       "    </tr>\n",
       "  </thead>\n",
       "  <tbody>\n",
       "    <tr>\n",
       "      <th id=\"T_046ff_level0_row0\" class=\"row_heading level0 row0\" >2000-06-15 17:00:00</th>\n",
       "      <td id=\"T_046ff_row0_col0\" class=\"data row0 col0\" >14.2200</td>\n",
       "      <td id=\"T_046ff_row0_col1\" class=\"data row0 col1\" >224.8000</td>\n",
       "      <td id=\"T_046ff_row0_col2\" class=\"data row0 col2\" >5.7990</td>\n",
       "    </tr>\n",
       "    <tr>\n",
       "      <th id=\"T_046ff_level0_row1\" class=\"row_heading level0 row1\" >2000-06-15 17:30:00</th>\n",
       "      <td id=\"T_046ff_row1_col0\" class=\"data row1 col0\" >14.1100</td>\n",
       "      <td id=\"T_046ff_row1_col1\" class=\"data row1 col1\" >195.2800</td>\n",
       "      <td id=\"T_046ff_row1_col2\" class=\"data row1 col2\" >6.5770</td>\n",
       "    </tr>\n",
       "    <tr>\n",
       "      <th id=\"T_046ff_level0_row2\" class=\"row_heading level0 row2\" >2000-06-15 18:00:00</th>\n",
       "      <td id=\"T_046ff_row2_col0\" class=\"data row2 col0\" >14.2300</td>\n",
       "      <td id=\"T_046ff_row2_col1\" class=\"data row2 col1\" >244.1700</td>\n",
       "      <td id=\"T_046ff_row2_col2\" class=\"data row2 col2\" >6.9310</td>\n",
       "    </tr>\n",
       "    <tr>\n",
       "      <th id=\"T_046ff_level0_row3\" class=\"row_heading level0 row3\" >2000-06-15 18:30:00</th>\n",
       "      <td id=\"T_046ff_row3_col0\" class=\"data row3 col0\" >14.4000</td>\n",
       "      <td id=\"T_046ff_row3_col1\" class=\"data row3 col1\" >253.9200</td>\n",
       "      <td id=\"T_046ff_row3_col2\" class=\"data row3 col2\" >7.2860</td>\n",
       "    </tr>\n",
       "    <tr>\n",
       "      <th id=\"T_046ff_level0_row4\" class=\"row_heading level0 row4\" >2000-06-15 19:00:00</th>\n",
       "      <td id=\"T_046ff_row4_col0\" class=\"data row4 col0\" >14.0900</td>\n",
       "      <td id=\"T_046ff_row4_col1\" class=\"data row4 col1\" >177.3100</td>\n",
       "      <td id=\"T_046ff_row4_col2\" class=\"data row4 col2\" >7.2510</td>\n",
       "    </tr>\n",
       "    <tr>\n",
       "      <th id=\"T_046ff_level0_row5\" class=\"row_heading level0 row5\" >2000-06-15 19:30:00</th>\n",
       "      <td id=\"T_046ff_row5_col0\" class=\"data row5 col0\" >13.7100</td>\n",
       "      <td id=\"T_046ff_row5_col1\" class=\"data row5 col1\" >97.0700</td>\n",
       "      <td id=\"T_046ff_row5_col2\" class=\"data row5 col2\" >6.6830</td>\n",
       "    </tr>\n",
       "    <tr>\n",
       "      <th id=\"T_046ff_level0_row6\" class=\"row_heading level0 row6\" >2000-06-15 20:00:00</th>\n",
       "      <td id=\"T_046ff_row6_col0\" class=\"data row6 col0\" >13.0800</td>\n",
       "      <td id=\"T_046ff_row6_col1\" class=\"data row6 col1\" >39.7100</td>\n",
       "      <td id=\"T_046ff_row6_col2\" class=\"data row6 col2\" >5.8510</td>\n",
       "    </tr>\n",
       "    <tr>\n",
       "      <th id=\"T_046ff_level0_row7\" class=\"row_heading level0 row7\" >2000-06-15 20:30:00</th>\n",
       "      <td id=\"T_046ff_row7_col0\" class=\"data row7 col0\" >12.4100</td>\n",
       "      <td id=\"T_046ff_row7_col1\" class=\"data row7 col1\" >10.6500</td>\n",
       "      <td id=\"T_046ff_row7_col2\" class=\"data row7 col2\" >5.2540</td>\n",
       "    </tr>\n",
       "    <tr>\n",
       "      <th id=\"T_046ff_level0_row8\" class=\"row_heading level0 row8\" >2000-06-15 21:00:00</th>\n",
       "      <td id=\"T_046ff_row8_col0\" class=\"data row8 col0\" >12.2700</td>\n",
       "      <td id=\"T_046ff_row8_col1\" class=\"data row8 col1\" >0.3200</td>\n",
       "      <td id=\"T_046ff_row8_col2\" class=\"data row8 col2\" >5.1640</td>\n",
       "    </tr>\n",
       "    <tr>\n",
       "      <th id=\"T_046ff_level0_row9\" class=\"row_heading level0 row9\" >2000-06-15 21:30:00</th>\n",
       "      <td id=\"T_046ff_row9_col0\" class=\"data row9 col0\" >12.2000</td>\n",
       "      <td id=\"T_046ff_row9_col1\" class=\"data row9 col1\" >0.0000</td>\n",
       "      <td id=\"T_046ff_row9_col2\" class=\"data row9 col2\" >5.0370</td>\n",
       "    </tr>\n",
       "  </tbody>\n",
       "</table>\n",
       " </div><div> <p style='font-size: 1.3rem;'>mask</p> <style type=\"text/css\">\n",
       "</style>\n",
       "<table id=\"T_a5152\">\n",
       "  <thead>\n",
       "    <tr>\n",
       "      <th class=\"blank level0\" >&nbsp;</th>\n",
       "      <th id=\"T_a5152_level0_col0\" class=\"col_heading level0 col0\" >TA</th>\n",
       "      <th id=\"T_a5152_level0_col1\" class=\"col_heading level0 col1\" >SW_IN</th>\n",
       "      <th id=\"T_a5152_level0_col2\" class=\"col_heading level0 col2\" >VPD</th>\n",
       "    </tr>\n",
       "    <tr>\n",
       "      <th class=\"index_name level0\" >time</th>\n",
       "      <th class=\"blank col0\" >&nbsp;</th>\n",
       "      <th class=\"blank col1\" >&nbsp;</th>\n",
       "      <th class=\"blank col2\" >&nbsp;</th>\n",
       "    </tr>\n",
       "  </thead>\n",
       "  <tbody>\n",
       "    <tr>\n",
       "      <th id=\"T_a5152_level0_row0\" class=\"row_heading level0 row0\" >2000-06-15 17:00:00</th>\n",
       "      <td id=\"T_a5152_row0_col0\" class=\"data row0 col0\" >True</td>\n",
       "      <td id=\"T_a5152_row0_col1\" class=\"data row0 col1\" >True</td>\n",
       "      <td id=\"T_a5152_row0_col2\" class=\"data row0 col2\" >True</td>\n",
       "    </tr>\n",
       "    <tr>\n",
       "      <th id=\"T_a5152_level0_row1\" class=\"row_heading level0 row1\" >2000-06-15 17:30:00</th>\n",
       "      <td id=\"T_a5152_row1_col0\" class=\"data row1 col0\" >True</td>\n",
       "      <td id=\"T_a5152_row1_col1\" class=\"data row1 col1\" >True</td>\n",
       "      <td id=\"T_a5152_row1_col2\" class=\"data row1 col2\" >True</td>\n",
       "    </tr>\n",
       "    <tr>\n",
       "      <th id=\"T_a5152_level0_row2\" class=\"row_heading level0 row2\" >2000-06-15 18:00:00</th>\n",
       "      <td id=\"T_a5152_row2_col0\" class=\"data row2 col0\" >False</td>\n",
       "      <td id=\"T_a5152_row2_col1\" class=\"data row2 col1\" >False</td>\n",
       "      <td id=\"T_a5152_row2_col2\" class=\"data row2 col2\" >True</td>\n",
       "    </tr>\n",
       "    <tr>\n",
       "      <th id=\"T_a5152_level0_row3\" class=\"row_heading level0 row3\" >2000-06-15 18:30:00</th>\n",
       "      <td id=\"T_a5152_row3_col0\" class=\"data row3 col0\" >False</td>\n",
       "      <td id=\"T_a5152_row3_col1\" class=\"data row3 col1\" >False</td>\n",
       "      <td id=\"T_a5152_row3_col2\" class=\"data row3 col2\" >True</td>\n",
       "    </tr>\n",
       "    <tr>\n",
       "      <th id=\"T_a5152_level0_row4\" class=\"row_heading level0 row4\" >2000-06-15 19:00:00</th>\n",
       "      <td id=\"T_a5152_row4_col0\" class=\"data row4 col0\" >True</td>\n",
       "      <td id=\"T_a5152_row4_col1\" class=\"data row4 col1\" >True</td>\n",
       "      <td id=\"T_a5152_row4_col2\" class=\"data row4 col2\" >True</td>\n",
       "    </tr>\n",
       "    <tr>\n",
       "      <th id=\"T_a5152_level0_row5\" class=\"row_heading level0 row5\" >2000-06-15 19:30:00</th>\n",
       "      <td id=\"T_a5152_row5_col0\" class=\"data row5 col0\" >True</td>\n",
       "      <td id=\"T_a5152_row5_col1\" class=\"data row5 col1\" >True</td>\n",
       "      <td id=\"T_a5152_row5_col2\" class=\"data row5 col2\" >True</td>\n",
       "    </tr>\n",
       "    <tr>\n",
       "      <th id=\"T_a5152_level0_row6\" class=\"row_heading level0 row6\" >2000-06-15 20:00:00</th>\n",
       "      <td id=\"T_a5152_row6_col0\" class=\"data row6 col0\" >True</td>\n",
       "      <td id=\"T_a5152_row6_col1\" class=\"data row6 col1\" >True</td>\n",
       "      <td id=\"T_a5152_row6_col2\" class=\"data row6 col2\" >True</td>\n",
       "    </tr>\n",
       "    <tr>\n",
       "      <th id=\"T_a5152_level0_row7\" class=\"row_heading level0 row7\" >2000-06-15 20:30:00</th>\n",
       "      <td id=\"T_a5152_row7_col0\" class=\"data row7 col0\" >True</td>\n",
       "      <td id=\"T_a5152_row7_col1\" class=\"data row7 col1\" >True</td>\n",
       "      <td id=\"T_a5152_row7_col2\" class=\"data row7 col2\" >True</td>\n",
       "    </tr>\n",
       "    <tr>\n",
       "      <th id=\"T_a5152_level0_row8\" class=\"row_heading level0 row8\" >2000-06-15 21:00:00</th>\n",
       "      <td id=\"T_a5152_row8_col0\" class=\"data row8 col0\" >True</td>\n",
       "      <td id=\"T_a5152_row8_col1\" class=\"data row8 col1\" >True</td>\n",
       "      <td id=\"T_a5152_row8_col2\" class=\"data row8 col2\" >True</td>\n",
       "    </tr>\n",
       "    <tr>\n",
       "      <th id=\"T_a5152_level0_row9\" class=\"row_heading level0 row9\" >2000-06-15 21:30:00</th>\n",
       "      <td id=\"T_a5152_row9_col0\" class=\"data row9 col0\" >True</td>\n",
       "      <td id=\"T_a5152_row9_col1\" class=\"data row9 col1\" >True</td>\n",
       "      <td id=\"T_a5152_row9_col2\" class=\"data row9 col2\" >True</td>\n",
       "    </tr>\n",
       "  </tbody>\n",
       "</table>\n",
       " </div><div> <p style='font-size: 1.3rem;'>control</p> <style type=\"text/css\">\n",
       "</style>\n",
       "<table id=\"T_b48e8\">\n",
       "  <thead>\n",
       "    <tr>\n",
       "      <th class=\"blank level0\" >&nbsp;</th>\n",
       "      <th id=\"T_b48e8_level0_col0\" class=\"col_heading level0 col0\" >TA_ERA</th>\n",
       "      <th id=\"T_b48e8_level0_col1\" class=\"col_heading level0 col1\" >SW_IN_ERA</th>\n",
       "      <th id=\"T_b48e8_level0_col2\" class=\"col_heading level0 col2\" >VPD_ERA</th>\n",
       "      <th id=\"T_b48e8_level0_col3\" class=\"col_heading level0 col3\" >TA_ERA_lag_1</th>\n",
       "      <th id=\"T_b48e8_level0_col4\" class=\"col_heading level0 col4\" >SW_IN_ERA_lag_1</th>\n",
       "      <th id=\"T_b48e8_level0_col5\" class=\"col_heading level0 col5\" >VPD_ERA_lag_1</th>\n",
       "    </tr>\n",
       "    <tr>\n",
       "      <th class=\"index_name level0\" >time</th>\n",
       "      <th class=\"blank col0\" >&nbsp;</th>\n",
       "      <th class=\"blank col1\" >&nbsp;</th>\n",
       "      <th class=\"blank col2\" >&nbsp;</th>\n",
       "      <th class=\"blank col3\" >&nbsp;</th>\n",
       "      <th class=\"blank col4\" >&nbsp;</th>\n",
       "      <th class=\"blank col5\" >&nbsp;</th>\n",
       "    </tr>\n",
       "  </thead>\n",
       "  <tbody>\n",
       "    <tr>\n",
       "      <th id=\"T_b48e8_level0_row0\" class=\"row_heading level0 row0\" >2000-06-15 17:00:00</th>\n",
       "      <td id=\"T_b48e8_row0_col0\" class=\"data row0 col0\" >15.0500</td>\n",
       "      <td id=\"T_b48e8_row0_col1\" class=\"data row0 col1\" >255.1930</td>\n",
       "      <td id=\"T_b48e8_row0_col2\" class=\"data row0 col2\" >5.1020</td>\n",
       "      <td id=\"T_b48e8_row0_col3\" class=\"data row0 col3\" >15.1390</td>\n",
       "      <td id=\"T_b48e8_row0_col4\" class=\"data row0 col4\" >287.1000</td>\n",
       "      <td id=\"T_b48e8_row0_col5\" class=\"data row0 col5\" >4.9000</td>\n",
       "    </tr>\n",
       "    <tr>\n",
       "      <th id=\"T_b48e8_level0_row1\" class=\"row_heading level0 row1\" >2000-06-15 17:30:00</th>\n",
       "      <td id=\"T_b48e8_row1_col0\" class=\"data row1 col0\" >14.9610</td>\n",
       "      <td id=\"T_b48e8_row1_col1\" class=\"data row1 col1\" >221.4270</td>\n",
       "      <td id=\"T_b48e8_row1_col2\" class=\"data row1 col2\" >5.3050</td>\n",
       "      <td id=\"T_b48e8_row1_col3\" class=\"data row1 col3\" >15.0500</td>\n",
       "      <td id=\"T_b48e8_row1_col4\" class=\"data row1 col4\" >255.1930</td>\n",
       "      <td id=\"T_b48e8_row1_col5\" class=\"data row1 col5\" >5.1020</td>\n",
       "    </tr>\n",
       "    <tr>\n",
       "      <th id=\"T_b48e8_level0_row2\" class=\"row_heading level0 row2\" >2000-06-15 18:00:00</th>\n",
       "      <td id=\"T_b48e8_row2_col0\" class=\"data row2 col0\" >14.8720</td>\n",
       "      <td id=\"T_b48e8_row2_col1\" class=\"data row2 col1\" >186.3800</td>\n",
       "      <td id=\"T_b48e8_row2_col2\" class=\"data row2 col2\" >5.5070</td>\n",
       "      <td id=\"T_b48e8_row2_col3\" class=\"data row2 col3\" >14.9610</td>\n",
       "      <td id=\"T_b48e8_row2_col4\" class=\"data row2 col4\" >221.4270</td>\n",
       "      <td id=\"T_b48e8_row2_col5\" class=\"data row2 col5\" >5.3050</td>\n",
       "    </tr>\n",
       "    <tr>\n",
       "      <th id=\"T_b48e8_level0_row3\" class=\"row_heading level0 row3\" >2000-06-15 18:30:00</th>\n",
       "      <td id=\"T_b48e8_row3_col0\" class=\"data row3 col0\" >14.7830</td>\n",
       "      <td id=\"T_b48e8_row3_col1\" class=\"data row3 col1\" >150.6500</td>\n",
       "      <td id=\"T_b48e8_row3_col2\" class=\"data row3 col2\" >5.7100</td>\n",
       "      <td id=\"T_b48e8_row3_col3\" class=\"data row3 col3\" >14.8720</td>\n",
       "      <td id=\"T_b48e8_row3_col4\" class=\"data row3 col4\" >186.3800</td>\n",
       "      <td id=\"T_b48e8_row3_col5\" class=\"data row3 col5\" >5.5070</td>\n",
       "    </tr>\n",
       "    <tr>\n",
       "      <th id=\"T_b48e8_level0_row4\" class=\"row_heading level0 row4\" >2000-06-15 19:00:00</th>\n",
       "      <td id=\"T_b48e8_row4_col0\" class=\"data row4 col0\" >14.6940</td>\n",
       "      <td id=\"T_b48e8_row4_col1\" class=\"data row4 col1\" >114.8490</td>\n",
       "      <td id=\"T_b48e8_row4_col2\" class=\"data row4 col2\" >5.9120</td>\n",
       "      <td id=\"T_b48e8_row4_col3\" class=\"data row4 col3\" >14.7830</td>\n",
       "      <td id=\"T_b48e8_row4_col4\" class=\"data row4 col4\" >150.6500</td>\n",
       "      <td id=\"T_b48e8_row4_col5\" class=\"data row4 col5\" >5.7100</td>\n",
       "    </tr>\n",
       "    <tr>\n",
       "      <th id=\"T_b48e8_level0_row5\" class=\"row_heading level0 row5\" >2000-06-15 19:30:00</th>\n",
       "      <td id=\"T_b48e8_row5_col0\" class=\"data row5 col0\" >14.6060</td>\n",
       "      <td id=\"T_b48e8_row5_col1\" class=\"data row5 col1\" >34.7280</td>\n",
       "      <td id=\"T_b48e8_row5_col2\" class=\"data row5 col2\" >6.1140</td>\n",
       "      <td id=\"T_b48e8_row5_col3\" class=\"data row5 col3\" >14.6940</td>\n",
       "      <td id=\"T_b48e8_row5_col4\" class=\"data row5 col4\" >114.8490</td>\n",
       "      <td id=\"T_b48e8_row5_col5\" class=\"data row5 col5\" >5.9120</td>\n",
       "    </tr>\n",
       "    <tr>\n",
       "      <th id=\"T_b48e8_level0_row6\" class=\"row_heading level0 row6\" >2000-06-15 20:00:00</th>\n",
       "      <td id=\"T_b48e8_row6_col0\" class=\"data row6 col0\" >14.3800</td>\n",
       "      <td id=\"T_b48e8_row6_col1\" class=\"data row6 col1\" >19.8430</td>\n",
       "      <td id=\"T_b48e8_row6_col2\" class=\"data row6 col2\" >6.0740</td>\n",
       "      <td id=\"T_b48e8_row6_col3\" class=\"data row6 col3\" >14.6060</td>\n",
       "      <td id=\"T_b48e8_row6_col4\" class=\"data row6 col4\" >34.7280</td>\n",
       "      <td id=\"T_b48e8_row6_col5\" class=\"data row6 col5\" >6.1140</td>\n",
       "    </tr>\n",
       "    <tr>\n",
       "      <th id=\"T_b48e8_level0_row7\" class=\"row_heading level0 row7\" >2000-06-15 20:30:00</th>\n",
       "      <td id=\"T_b48e8_row7_col0\" class=\"data row7 col0\" >14.1550</td>\n",
       "      <td id=\"T_b48e8_row7_col1\" class=\"data row7 col1\" >5.7120</td>\n",
       "      <td id=\"T_b48e8_row7_col2\" class=\"data row7 col2\" >6.0340</td>\n",
       "      <td id=\"T_b48e8_row7_col3\" class=\"data row7 col3\" >14.3800</td>\n",
       "      <td id=\"T_b48e8_row7_col4\" class=\"data row7 col4\" >19.8430</td>\n",
       "      <td id=\"T_b48e8_row7_col5\" class=\"data row7 col5\" >6.0740</td>\n",
       "    </tr>\n",
       "    <tr>\n",
       "      <th id=\"T_b48e8_level0_row8\" class=\"row_heading level0 row8\" >2000-06-15 21:00:00</th>\n",
       "      <td id=\"T_b48e8_row8_col0\" class=\"data row8 col0\" >13.9290</td>\n",
       "      <td id=\"T_b48e8_row8_col1\" class=\"data row8 col1\" >0.0000</td>\n",
       "      <td id=\"T_b48e8_row8_col2\" class=\"data row8 col2\" >5.9940</td>\n",
       "      <td id=\"T_b48e8_row8_col3\" class=\"data row8 col3\" >14.1550</td>\n",
       "      <td id=\"T_b48e8_row8_col4\" class=\"data row8 col4\" >5.7120</td>\n",
       "      <td id=\"T_b48e8_row8_col5\" class=\"data row8 col5\" >6.0340</td>\n",
       "    </tr>\n",
       "    <tr>\n",
       "      <th id=\"T_b48e8_level0_row9\" class=\"row_heading level0 row9\" >2000-06-15 21:30:00</th>\n",
       "      <td id=\"T_b48e8_row9_col0\" class=\"data row9 col0\" >13.7040</td>\n",
       "      <td id=\"T_b48e8_row9_col1\" class=\"data row9 col1\" >0.0000</td>\n",
       "      <td id=\"T_b48e8_row9_col2\" class=\"data row9 col2\" >5.9540</td>\n",
       "      <td id=\"T_b48e8_row9_col3\" class=\"data row9 col3\" >13.9290</td>\n",
       "      <td id=\"T_b48e8_row9_col4\" class=\"data row9 col4\" >0.0000</td>\n",
       "      <td id=\"T_b48e8_row9_col5\" class=\"data row9 col5\" >5.9940</td>\n",
       "    </tr>\n",
       "  </tbody>\n",
       "</table>\n",
       " </div></div>"
      ],
      "text/plain": [
       "__main__.MeteoImpDf(data=                        TA       SW_IN    VPD\n",
       "time                                         \n",
       "2000-06-15 17:00:00  14.22  224.800003  5.799\n",
       "2000-06-15 17:30:00  14.11  195.279999  6.577\n",
       "2000-06-15 18:00:00  14.23  244.169998  6.931\n",
       "2000-06-15 18:30:00  14.40  253.919998  7.286\n",
       "2000-06-15 19:00:00  14.09  177.309998  7.251\n",
       "2000-06-15 19:30:00  13.71   97.070000  6.683\n",
       "2000-06-15 20:00:00  13.08   39.709999  5.851\n",
       "2000-06-15 20:30:00  12.41   10.650000  5.254\n",
       "2000-06-15 21:00:00  12.27    0.320000  5.164\n",
       "2000-06-15 21:30:00  12.20    0.000000  5.037, mask=                        TA  SW_IN   VPD\n",
       "time                                   \n",
       "2000-06-15 17:00:00   True   True  True\n",
       "2000-06-15 17:30:00   True   True  True\n",
       "2000-06-15 18:00:00  False  False  True\n",
       "2000-06-15 18:30:00  False  False  True\n",
       "2000-06-15 19:00:00   True   True  True\n",
       "2000-06-15 19:30:00   True   True  True\n",
       "2000-06-15 20:00:00   True   True  True\n",
       "2000-06-15 20:30:00   True   True  True\n",
       "2000-06-15 21:00:00   True   True  True\n",
       "2000-06-15 21:30:00   True   True  True, control=                     TA_ERA   SW_IN_ERA  VPD_ERA  TA_ERA_lag_1  \\\n",
       "time                                                             \n",
       "2000-06-15 17:00:00  15.050  255.192993    5.102        15.139   \n",
       "2000-06-15 17:30:00  14.961  221.427002    5.305        15.050   \n",
       "2000-06-15 18:00:00  14.872  186.380005    5.507        14.961   \n",
       "2000-06-15 18:30:00  14.783  150.649994    5.710        14.872   \n",
       "2000-06-15 19:00:00  14.694  114.848999    5.912        14.783   \n",
       "2000-06-15 19:30:00  14.606   34.728001    6.114        14.694   \n",
       "2000-06-15 20:00:00  14.380   19.843000    6.074        14.606   \n",
       "2000-06-15 20:30:00  14.155    5.712000    6.034        14.380   \n",
       "2000-06-15 21:00:00  13.929    0.000000    5.994        14.155   \n",
       "2000-06-15 21:30:00  13.704    0.000000    5.954        13.929   \n",
       "\n",
       "                     SW_IN_ERA_lag_1  VPD_ERA_lag_1  \n",
       "time                                                 \n",
       "2000-06-15 17:00:00       287.100006          4.900  \n",
       "2000-06-15 17:30:00       255.192993          5.102  \n",
       "2000-06-15 18:00:00       221.427002          5.305  \n",
       "2000-06-15 18:30:00       186.380005          5.507  \n",
       "2000-06-15 19:00:00       150.649994          5.710  \n",
       "2000-06-15 19:30:00       114.848999          5.912  \n",
       "2000-06-15 20:00:00        34.728001          6.114  \n",
       "2000-06-15 20:30:00        19.843000          6.074  \n",
       "2000-06-15 21:00:00         5.712000          6.034  \n",
       "2000-06-15 21:30:00         0.000000          5.994  )"
      ]
     },
     "execution_count": null,
     "metadata": {},
     "output_type": "execute_result"
    }
   ],
   "source": [
    "tfms2[0]"
   ]
  },
  {
   "cell_type": "code",
   "execution_count": null,
   "id": "f2990cbe-babc-4f62-9b6f-2807edfa05b2",
   "metadata": {},
   "outputs": [],
   "source": [
    "tfms3 = TfmdLists([800, 801, 802], [*tfms2.fs, MeteoImpDf2Tensor()])"
   ]
  },
  {
   "cell_type": "code",
   "execution_count": null,
   "id": "755add1e-55d4-4408-8db2-ab28d804edd2",
   "metadata": {},
   "outputs": [
    {
     "data": {
      "text/html": [
       "<div style=\"display: flex; column-gap: 20px; flex-wrap: wrap;\" class='table table-striped table-sm'> <div><p style='font-size: 1.2rem;'>data</p> <pre>tensor([[ 14.2200, 224.8000,   5.7990],\n",
       "        [ 14.1100, 195.2800,   6.5770],\n",
       "        [ 14.2300, 244.1700,   6.9310],\n",
       "        [ 14.4000, 253.9200,   7.2860],\n",
       "        [ 14.0900, 177.3100,   7.2510],\n",
       "        [ 13.7100,  97.0700,   6.6830],\n",
       "        [ 13.0800,  39.7100,   5.8510],\n",
       "        [ 12.4100,  10.6500,   5.2540],\n",
       "        [ 12.2700,   0.3200,   5.1640],\n",
       "        [ 12.2000,   0.0000,   5.0370]])</pre> </div><div><p style='font-size: 1.2rem;'>mask</p> <pre>tensor([[ True,  True,  True],\n",
       "        [ True,  True,  True],\n",
       "        [False, False,  True],\n",
       "        [False, False,  True],\n",
       "        [ True,  True,  True],\n",
       "        [ True,  True,  True],\n",
       "        [ True,  True,  True],\n",
       "        [ True,  True,  True],\n",
       "        [ True,  True,  True],\n",
       "        [ True,  True,  True]])</pre> </div><div><p style='font-size: 1.2rem;'>control</p> <pre>tensor([[ 15.0500, 255.1930,   5.1020,  15.1390, 287.1000,   4.9000],\n",
       "        [ 14.9610, 221.4270,   5.3050,  15.0500, 255.1930,   5.1020],\n",
       "        [ 14.8720, 186.3800,   5.5070,  14.9610, 221.4270,   5.3050],\n",
       "        [ 14.7830, 150.6500,   5.7100,  14.8720, 186.3800,   5.5070],\n",
       "        [ 14.6940, 114.8490,   5.9120,  14.7830, 150.6500,   5.7100],\n",
       "        [ 14.6060,  34.7280,   6.1140,  14.6940, 114.8490,   5.9120],\n",
       "        [ 14.3800,  19.8430,   6.0740,  14.6060,  34.7280,   6.1140],\n",
       "        [ 14.1550,   5.7120,   6.0340,  14.3800,  19.8430,   6.0740],\n",
       "        [ 13.9290,   0.0000,   5.9940,  14.1550,   5.7120,   6.0340],\n",
       "        [ 13.7040,   0.0000,   5.9540,  13.9290,   0.0000,   5.9940]])</pre> </div></div>"
      ],
      "text/plain": [
       "__main__.MeteoImpTensor(data=tensor([[ 14.2200, 224.8000,   5.7990],\n",
       "        [ 14.1100, 195.2800,   6.5770],\n",
       "        [ 14.2300, 244.1700,   6.9310],\n",
       "        [ 14.4000, 253.9200,   7.2860],\n",
       "        [ 14.0900, 177.3100,   7.2510],\n",
       "        [ 13.7100,  97.0700,   6.6830],\n",
       "        [ 13.0800,  39.7100,   5.8510],\n",
       "        [ 12.4100,  10.6500,   5.2540],\n",
       "        [ 12.2700,   0.3200,   5.1640],\n",
       "        [ 12.2000,   0.0000,   5.0370]]), mask=tensor([[ True,  True,  True],\n",
       "        [ True,  True,  True],\n",
       "        [False, False,  True],\n",
       "        [False, False,  True],\n",
       "        [ True,  True,  True],\n",
       "        [ True,  True,  True],\n",
       "        [ True,  True,  True],\n",
       "        [ True,  True,  True],\n",
       "        [ True,  True,  True],\n",
       "        [ True,  True,  True]]), control=tensor([[ 15.0500, 255.1930,   5.1020,  15.1390, 287.1000,   4.9000],\n",
       "        [ 14.9610, 221.4270,   5.3050,  15.0500, 255.1930,   5.1020],\n",
       "        [ 14.8720, 186.3800,   5.5070,  14.9610, 221.4270,   5.3050],\n",
       "        [ 14.7830, 150.6500,   5.7100,  14.8720, 186.3800,   5.5070],\n",
       "        [ 14.6940, 114.8490,   5.9120,  14.7830, 150.6500,   5.7100],\n",
       "        [ 14.6060,  34.7280,   6.1140,  14.6940, 114.8490,   5.9120],\n",
       "        [ 14.3800,  19.8430,   6.0740,  14.6060,  34.7280,   6.1140],\n",
       "        [ 14.1550,   5.7120,   6.0340,  14.3800,  19.8430,   6.0740],\n",
       "        [ 13.9290,   0.0000,   5.9940,  14.1550,   5.7120,   6.0340],\n",
       "        [ 13.7040,   0.0000,   5.9540,  13.9290,   0.0000,   5.9940]]))"
      ]
     },
     "execution_count": null,
     "metadata": {},
     "output_type": "execute_result"
    }
   ],
   "source": [
    "tfms3[0]"
   ]
  },
  {
   "cell_type": "code",
   "execution_count": null,
   "id": "324520e5-5979-4b7e-b52f-97e86788c187",
   "metadata": {},
   "outputs": [
    {
     "data": {
      "text/plain": [
       "__main__.MeteoImpTensor"
      ]
     },
     "execution_count": null,
     "metadata": {},
     "output_type": "execute_result"
    }
   ],
   "source": [
    "type(tfms3[0])"
   ]
  },
  {
   "cell_type": "code",
   "execution_count": null,
   "id": "56477320-5c88-48c8-90a8-ceda644dffb9",
   "metadata": {},
   "outputs": [],
   "source": [
    "# tfms3.decode(tfms3[0])"
   ]
  },
  {
   "cell_type": "markdown",
   "id": "87e120fa-cf84-4e32-8c99-9af24a2755b1",
   "metadata": {},
   "source": [
    "### 5) Normalize"
   ]
  },
  {
   "cell_type": "code",
   "execution_count": null,
   "id": "3ba23250-9b69-43c2-b2f6-db4ef5658e6a",
   "metadata": {},
   "outputs": [],
   "source": [
    "#| export\n",
    "from meteo_imp.utils import *\n",
    "from fastai.torch_core import to_cpu\n",
    "\n",
    "from torch import Tensor"
   ]
  },
  {
   "cell_type": "code",
   "execution_count": null,
   "id": "da858473-9de5-4abf-8a32-eb24bfb6b054",
   "metadata": {},
   "outputs": [
    {
     "data": {
      "text/plain": [
       "<function collections.namedtuple(typename, field_names, *, rename=False, defaults=None, module=None)>"
      ]
     },
     "execution_count": null,
     "metadata": {},
     "output_type": "execute_result"
    }
   ],
   "source": [
    "collections.namedtuple"
   ]
  },
  {
   "cell_type": "code",
   "execution_count": null,
   "id": "0505fab1-5a53-4879-9d0d-7cc918bd5bdf",
   "metadata": {},
   "outputs": [],
   "source": [
    "nt = collections.namedtuple(\"nt\", \"a\")"
   ]
  },
  {
   "cell_type": "code",
   "execution_count": null,
   "id": "6ad97a8b-4da1-4c88-9b49-8ca0f3ce4a13",
   "metadata": {},
   "outputs": [
    {
     "data": {
      "text/plain": [
       "True"
      ]
     },
     "execution_count": null,
     "metadata": {},
     "output_type": "execute_result"
    }
   ],
   "source": [
    "isinstance(nt(1), tuple)"
   ]
  },
  {
   "cell_type": "code",
   "execution_count": null,
   "id": "f1ac4c68-5abf-41c0-b754-889ad3af0999",
   "metadata": {},
   "outputs": [],
   "source": [
    "#| export\n",
    "class NormalsParams(list):\n",
    "    def __init__(self,*args):\n",
    "        if len(args)==2:\n",
    "            self.mean = args[0]\n",
    "            self.std = args[1]\n",
    "        elif isinstance(args[0], Generator):\n",
    "            args = list(args[0])\n",
    "            self.mean = args[0]\n",
    "            self.std = args[1]\n",
    "        elif len(args)==1 and len(args[0])==2:\n",
    "            self.mean = tuple(args[0])[0]\n",
    "            self.std = tuple(args[0])[1]                     \n",
    "        else:\n",
    "            raise ValueError(f\"Incorrect number of arguments. got {len(args)} args\")\n",
    "    def __iter__(self): return iter((self.mean, self.std,))\n",
    "    def __next__(self): return next(self.__iter__())\n",
    "    def __len__(self): return 2\n",
    "    def __getitem__(self, key):\n",
    "        if key == 0: return self.mean\n",
    "        elif key == 1: return self.std\n",
    "        else: raise IndexError(\"index bigger than 2\")\n",
    "    __repr__ = basic_repr('mean, std')"
   ]
  },
  {
   "cell_type": "code",
   "execution_count": null,
   "id": "bd093319-c16b-494c-9431-1c7d5d8869a8",
   "metadata": {},
   "outputs": [
    {
     "data": {
      "text/plain": [
       "__main__.NormalsParams(mean=0, std=1)"
      ]
     },
     "execution_count": null,
     "metadata": {},
     "output_type": "execute_result"
    }
   ],
   "source": [
    "NormalsParams(0,1)"
   ]
  },
  {
   "cell_type": "code",
   "execution_count": null,
   "id": "e75c7ecf-2785-49fc-b1ff-fe98c4e03843",
   "metadata": {},
   "outputs": [],
   "source": [
    "#| export\n",
    "def get_stats(df, repeat=1, device='cpu'):\n",
    "    return torch.tensor(df.mean(axis=0).to_numpy(), device=device).repeat(repeat), torch.tensor(df.std(axis=0).to_numpy(), device=device).repeat(repeat)"
   ]
  },
  {
   "cell_type": "code",
   "execution_count": null,
   "id": "975601aa-1325-4ece-989c-0eb60a9d8d85",
   "metadata": {},
   "outputs": [],
   "source": [
    "#| export\n",
    "class MeteoImpNormalize(Transform):\n",
    "    \"Normalize/denorm MeteoImpTensor column-wise \"\n",
    "    @property\n",
    "    def name(self): return f\"{super().name} -- {getattr(self,'__stored_args__',{})}\"\n",
    "\n",
    "    def __init__(self, mean_data, std_data, mean_control, std_control): store_attr()\n",
    "\n",
    "    def encodes(self, x:MeteoImpTensor)-> MeteoImpTensor:\n",
    "        return MeteoImpTensor((x.data -self.mean_data) / self.std_data, x.mask, (x.control - self.mean_control)/self.std_control)\n",
    "\n",
    "    def decodes(self, x:MeteoImpTensor)->MeteoImpTensor:\n",
    "        f = partial(to_device, device=(x[0].device))\n",
    "        return MeteoImpTensor(x.data * f(self.std_data) + f(self.mean_data), x.mask, x.control * f(self.std_control) + f(self.mean_control))\n",
    "    \n",
    "    def decodes(self, x:NormalsParams):\n",
    "        f = partial(to_device, device=(x[0].device))\n",
    "        mean = x.mean * f(self.std_data) + f(self.mean_data)\n",
    "        std = x.std * f(self.std_data)\n",
    "        \n",
    "        return NormalsParams(mean, std)"
   ]
  },
  {
   "cell_type": "code",
   "execution_count": null,
   "id": "81c896b6-86c0-407b-8f4b-da4bdc366c27",
   "metadata": {},
   "outputs": [],
   "source": [
    "norm = MeteoImpNormalize(*get_stats(hai), *get_stats(hai_era,2))"
   ]
  },
  {
   "cell_type": "code",
   "execution_count": null,
   "id": "7e8c0fab-da94-400f-8486-0253b05a6a96",
   "metadata": {},
   "outputs": [
    {
     "data": {
      "text/html": [
       "<div style=\"display: flex; column-gap: 20px; flex-wrap: wrap;\" class='table table-striped table-sm'> <div><p style='font-size: 1.2rem;'>data</p> <pre>tensor([[ 14.2200, 224.8000,   5.7990],\n",
       "        [ 14.1100, 195.2800,   6.5770],\n",
       "        [ 14.2300, 244.1700,   6.9310],\n",
       "        [ 14.4000, 253.9200,   7.2860],\n",
       "        [ 14.0900, 177.3100,   7.2510],\n",
       "        [ 13.7100,  97.0700,   6.6830],\n",
       "        [ 13.0800,  39.7100,   5.8510],\n",
       "        [ 12.4100,  10.6500,   5.2540],\n",
       "        [ 12.2700,   0.3200,   5.1640],\n",
       "        [ 12.2000,   0.0000,   5.0370]])</pre> </div><div><p style='font-size: 1.2rem;'>mask</p> <pre>tensor([[ True,  True,  True],\n",
       "        [ True,  True,  True],\n",
       "        [ True,  True,  True],\n",
       "        [ True,  True,  True],\n",
       "        [ True,  True,  True],\n",
       "        [ True,  True,  True],\n",
       "        [False, False,  True],\n",
       "        [False, False,  True],\n",
       "        [ True,  True,  True],\n",
       "        [ True,  True,  True]])</pre> </div><div><p style='font-size: 1.2rem;'>control</p> <pre>tensor([[ 15.0500, 255.1930,   5.1020,  15.1390, 287.1000,   4.9000],\n",
       "        [ 14.9610, 221.4270,   5.3050,  15.0500, 255.1930,   5.1020],\n",
       "        [ 14.8720, 186.3800,   5.5070,  14.9610, 221.4270,   5.3050],\n",
       "        [ 14.7830, 150.6500,   5.7100,  14.8720, 186.3800,   5.5070],\n",
       "        [ 14.6940, 114.8490,   5.9120,  14.7830, 150.6500,   5.7100],\n",
       "        [ 14.6060,  34.7280,   6.1140,  14.6940, 114.8490,   5.9120],\n",
       "        [ 14.3800,  19.8430,   6.0740,  14.6060,  34.7280,   6.1140],\n",
       "        [ 14.1550,   5.7120,   6.0340,  14.3800,  19.8430,   6.0740],\n",
       "        [ 13.9290,   0.0000,   5.9940,  14.1550,   5.7120,   6.0340],\n",
       "        [ 13.7040,   0.0000,   5.9540,  13.9290,   0.0000,   5.9940]])</pre> </div></div>"
      ],
      "text/plain": [
       "__main__.MeteoImpTensor(data=tensor([[ 14.2200, 224.8000,   5.7990],\n",
       "        [ 14.1100, 195.2800,   6.5770],\n",
       "        [ 14.2300, 244.1700,   6.9310],\n",
       "        [ 14.4000, 253.9200,   7.2860],\n",
       "        [ 14.0900, 177.3100,   7.2510],\n",
       "        [ 13.7100,  97.0700,   6.6830],\n",
       "        [ 13.0800,  39.7100,   5.8510],\n",
       "        [ 12.4100,  10.6500,   5.2540],\n",
       "        [ 12.2700,   0.3200,   5.1640],\n",
       "        [ 12.2000,   0.0000,   5.0370]]), mask=tensor([[ True,  True,  True],\n",
       "        [ True,  True,  True],\n",
       "        [ True,  True,  True],\n",
       "        [ True,  True,  True],\n",
       "        [ True,  True,  True],\n",
       "        [ True,  True,  True],\n",
       "        [False, False,  True],\n",
       "        [False, False,  True],\n",
       "        [ True,  True,  True],\n",
       "        [ True,  True,  True]]), control=tensor([[ 15.0500, 255.1930,   5.1020,  15.1390, 287.1000,   4.9000],\n",
       "        [ 14.9610, 221.4270,   5.3050,  15.0500, 255.1930,   5.1020],\n",
       "        [ 14.8720, 186.3800,   5.5070,  14.9610, 221.4270,   5.3050],\n",
       "        [ 14.7830, 150.6500,   5.7100,  14.8720, 186.3800,   5.5070],\n",
       "        [ 14.6940, 114.8490,   5.9120,  14.7830, 150.6500,   5.7100],\n",
       "        [ 14.6060,  34.7280,   6.1140,  14.6940, 114.8490,   5.9120],\n",
       "        [ 14.3800,  19.8430,   6.0740,  14.6060,  34.7280,   6.1140],\n",
       "        [ 14.1550,   5.7120,   6.0340,  14.3800,  19.8430,   6.0740],\n",
       "        [ 13.9290,   0.0000,   5.9940,  14.1550,   5.7120,   6.0340],\n",
       "        [ 13.7040,   0.0000,   5.9540,  13.9290,   0.0000,   5.9940]]))"
      ]
     },
     "execution_count": null,
     "metadata": {},
     "output_type": "execute_result"
    }
   ],
   "source": [
    "tfms3[0]"
   ]
  },
  {
   "cell_type": "code",
   "execution_count": null,
   "id": "ac2ff9bb-9a90-468e-a079-27e383eb5e0a",
   "metadata": {},
   "outputs": [
    {
     "data": {
      "text/plain": [
       "MeteoImpNormalize -- {'mean_data': tensor([  8.3339, 120.9578,   3.3807]), 'std_data': tensor([  7.9246, 204.0026,   4.3684]), 'mean_control': tensor([  8.1948, 120.6864,   3.3253,   8.1948, 120.6864,   3.3253]), 'std_control': tensor([  7.5459, 187.1730,   3.6871,   7.5459, 187.1730,   3.6871])}:\n",
       "encodes: (MeteoImpTensor,object) -> encodes\n",
       "decodes: (MeteoImpTensor,object) -> decodes\n",
       "(NormalsParams,object) -> decodes"
      ]
     },
     "execution_count": null,
     "metadata": {},
     "output_type": "execute_result"
    }
   ],
   "source": [
    "norm"
   ]
  },
  {
   "cell_type": "code",
   "execution_count": null,
   "id": "fb5acd9c-2c5c-4ff0-beaf-3cdf0bc15bcd",
   "metadata": {},
   "outputs": [
    {
     "data": {
      "text/html": [
       "<div style=\"display: flex; column-gap: 20px; flex-wrap: wrap;\" class='table table-striped table-sm'> <div><p style='font-size: 1.2rem;'>data</p> <pre>tensor([[ 0.7428,  0.5090,  0.5536],\n",
       "        [ 0.7289,  0.3643,  0.7317],\n",
       "        [ 0.7440,  0.6040,  0.8127],\n",
       "        [ 0.7655,  0.6518,  0.8940],\n",
       "        [ 0.7264,  0.2762,  0.8860],\n",
       "        [ 0.6784, -0.1171,  0.7560],\n",
       "        [ 0.5989, -0.3983,  0.5655],\n",
       "        [ 0.5144, -0.5407,  0.4288],\n",
       "        [ 0.4967, -0.5914,  0.4082],\n",
       "        [ 0.4879, -0.5929,  0.3792]])</pre> </div><div><p style='font-size: 1.2rem;'>mask</p> <pre>tensor([[ True,  True,  True],\n",
       "        [ True,  True,  True],\n",
       "        [False, False,  True],\n",
       "        [False, False,  True],\n",
       "        [ True,  True,  True],\n",
       "        [ True,  True,  True],\n",
       "        [ True,  True,  True],\n",
       "        [ True,  True,  True],\n",
       "        [ True,  True,  True],\n",
       "        [ True,  True,  True]])</pre> </div><div><p style='font-size: 1.2rem;'>control</p> <pre>tensor([[ 0.9085,  0.7186,  0.4819,  0.9203,  0.8891,  0.4271],\n",
       "        [ 0.8967,  0.5382,  0.5369,  0.9085,  0.7186,  0.4819],\n",
       "        [ 0.8849,  0.3510,  0.5917,  0.8967,  0.5382,  0.5369],\n",
       "        [ 0.8731,  0.1601,  0.6468,  0.8849,  0.3510,  0.5917],\n",
       "        [ 0.8613, -0.0312,  0.7015,  0.8731,  0.1601,  0.6468],\n",
       "        [ 0.8496, -0.4592,  0.7563,  0.8613, -0.0312,  0.7015],\n",
       "        [ 0.8197, -0.5388,  0.7455,  0.8496, -0.4592,  0.7563],\n",
       "        [ 0.7899, -0.6143,  0.7346,  0.8197, -0.5388,  0.7455],\n",
       "        [ 0.7599, -0.6448,  0.7238,  0.7899, -0.6143,  0.7346],\n",
       "        [ 0.7301, -0.6448,  0.7129,  0.7599, -0.6448,  0.7238]])</pre> </div></div>"
      ],
      "text/plain": [
       "__main__.MeteoImpTensor(data=tensor([[ 0.7428,  0.5090,  0.5536],\n",
       "        [ 0.7289,  0.3643,  0.7317],\n",
       "        [ 0.7440,  0.6040,  0.8127],\n",
       "        [ 0.7655,  0.6518,  0.8940],\n",
       "        [ 0.7264,  0.2762,  0.8860],\n",
       "        [ 0.6784, -0.1171,  0.7560],\n",
       "        [ 0.5989, -0.3983,  0.5655],\n",
       "        [ 0.5144, -0.5407,  0.4288],\n",
       "        [ 0.4967, -0.5914,  0.4082],\n",
       "        [ 0.4879, -0.5929,  0.3792]]), mask=tensor([[ True,  True,  True],\n",
       "        [ True,  True,  True],\n",
       "        [False, False,  True],\n",
       "        [False, False,  True],\n",
       "        [ True,  True,  True],\n",
       "        [ True,  True,  True],\n",
       "        [ True,  True,  True],\n",
       "        [ True,  True,  True],\n",
       "        [ True,  True,  True],\n",
       "        [ True,  True,  True]]), control=tensor([[ 0.9085,  0.7186,  0.4819,  0.9203,  0.8891,  0.4271],\n",
       "        [ 0.8967,  0.5382,  0.5369,  0.9085,  0.7186,  0.4819],\n",
       "        [ 0.8849,  0.3510,  0.5917,  0.8967,  0.5382,  0.5369],\n",
       "        [ 0.8731,  0.1601,  0.6468,  0.8849,  0.3510,  0.5917],\n",
       "        [ 0.8613, -0.0312,  0.7015,  0.8731,  0.1601,  0.6468],\n",
       "        [ 0.8496, -0.4592,  0.7563,  0.8613, -0.0312,  0.7015],\n",
       "        [ 0.8197, -0.5388,  0.7455,  0.8496, -0.4592,  0.7563],\n",
       "        [ 0.7899, -0.6143,  0.7346,  0.8197, -0.5388,  0.7455],\n",
       "        [ 0.7599, -0.6448,  0.7238,  0.7899, -0.6143,  0.7346],\n",
       "        [ 0.7301, -0.6448,  0.7129,  0.7599, -0.6448,  0.7238]]))"
      ]
     },
     "execution_count": null,
     "metadata": {},
     "output_type": "execute_result"
    }
   ],
   "source": [
    "norm(tfms3[0])"
   ]
  },
  {
   "cell_type": "code",
   "execution_count": null,
   "id": "bd4747c3-be04-483d-b9e4-730ec7912543",
   "metadata": {},
   "outputs": [],
   "source": [
    "test_close(norm.decode(norm(tfms3[0]))[0], tfms3[0][0], eps=2e-5)"
   ]
  },
  {
   "cell_type": "markdown",
   "id": "9c6f8385-7a2d-46b7-9f8b-a25f8833febf",
   "metadata": {},
   "source": [
    "Test that NormalsParams decode actually works"
   ]
  },
  {
   "cell_type": "code",
   "execution_count": null,
   "id": "cb935fb9-c3bb-456e-bcf4-12ad6f8f5933",
   "metadata": {},
   "outputs": [],
   "source": [
    "Npars = NormalsParams(torch.tensor(1), torch.tensor(.1))"
   ]
  },
  {
   "cell_type": "code",
   "execution_count": null,
   "id": "1b6737ba-596e-47cf-9f79-0c5a83ce6fe8",
   "metadata": {},
   "outputs": [
    {
     "data": {
      "text/plain": [
       "__main__.NormalsParams(mean=tensor([ 16.2585, 324.9604,   7.7491]), std=tensor([ 0.7925, 20.4003,  0.4368]))"
      ]
     },
     "execution_count": null,
     "metadata": {},
     "output_type": "execute_result"
    }
   ],
   "source": [
    "norm.decode(Npars)"
   ]
  },
  {
   "cell_type": "code",
   "execution_count": null,
   "id": "3ba86749-5fe4-49b6-8ca2-48c225d4cfcd",
   "metadata": {},
   "outputs": [],
   "source": [
    "tfms4 = TfmdLists([800,801,803], [*tfms3.fs,MeteoImpNormalize(*get_stats(hai),*get_stats(hai_era, 2) ) ])"
   ]
  },
  {
   "cell_type": "code",
   "execution_count": null,
   "id": "7ecb095d-5e4b-48c6-ad85-93396b8f42af",
   "metadata": {},
   "outputs": [
    {
     "data": {
      "text/html": [
       "<div style=\"display: flex; column-gap: 20px; flex-wrap: wrap;\" class='table table-striped table-sm'> <div><p style='font-size: 1.2rem;'>data</p> <pre>tensor([[ 0.7428,  0.5090,  0.5536],\n",
       "        [ 0.7289,  0.3643,  0.7317],\n",
       "        [ 0.7440,  0.6040,  0.8127],\n",
       "        [ 0.7655,  0.6518,  0.8940],\n",
       "        [ 0.7264,  0.2762,  0.8860],\n",
       "        [ 0.6784, -0.1171,  0.7560],\n",
       "        [ 0.5989, -0.3983,  0.5655],\n",
       "        [ 0.5144, -0.5407,  0.4288],\n",
       "        [ 0.4967, -0.5914,  0.4082],\n",
       "        [ 0.4879, -0.5929,  0.3792]])</pre> </div><div><p style='font-size: 1.2rem;'>mask</p> <pre>tensor([[ True,  True,  True],\n",
       "        [ True,  True,  True],\n",
       "        [ True,  True,  True],\n",
       "        [ True,  True,  True],\n",
       "        [ True,  True,  True],\n",
       "        [ True,  True,  True],\n",
       "        [ True,  True,  True],\n",
       "        [False, False,  True],\n",
       "        [False, False,  True],\n",
       "        [ True,  True,  True]])</pre> </div><div><p style='font-size: 1.2rem;'>control</p> <pre>tensor([[ 0.9085,  0.7186,  0.4819,  0.9203,  0.8891,  0.4271],\n",
       "        [ 0.8967,  0.5382,  0.5369,  0.9085,  0.7186,  0.4819],\n",
       "        [ 0.8849,  0.3510,  0.5917,  0.8967,  0.5382,  0.5369],\n",
       "        [ 0.8731,  0.1601,  0.6468,  0.8849,  0.3510,  0.5917],\n",
       "        [ 0.8613, -0.0312,  0.7015,  0.8731,  0.1601,  0.6468],\n",
       "        [ 0.8496, -0.4592,  0.7563,  0.8613, -0.0312,  0.7015],\n",
       "        [ 0.8197, -0.5388,  0.7455,  0.8496, -0.4592,  0.7563],\n",
       "        [ 0.7899, -0.6143,  0.7346,  0.8197, -0.5388,  0.7455],\n",
       "        [ 0.7599, -0.6448,  0.7238,  0.7899, -0.6143,  0.7346],\n",
       "        [ 0.7301, -0.6448,  0.7129,  0.7599, -0.6448,  0.7238]])</pre> </div></div>"
      ],
      "text/plain": [
       "__main__.MeteoImpTensor(data=tensor([[ 0.7428,  0.5090,  0.5536],\n",
       "        [ 0.7289,  0.3643,  0.7317],\n",
       "        [ 0.7440,  0.6040,  0.8127],\n",
       "        [ 0.7655,  0.6518,  0.8940],\n",
       "        [ 0.7264,  0.2762,  0.8860],\n",
       "        [ 0.6784, -0.1171,  0.7560],\n",
       "        [ 0.5989, -0.3983,  0.5655],\n",
       "        [ 0.5144, -0.5407,  0.4288],\n",
       "        [ 0.4967, -0.5914,  0.4082],\n",
       "        [ 0.4879, -0.5929,  0.3792]]), mask=tensor([[ True,  True,  True],\n",
       "        [ True,  True,  True],\n",
       "        [ True,  True,  True],\n",
       "        [ True,  True,  True],\n",
       "        [ True,  True,  True],\n",
       "        [ True,  True,  True],\n",
       "        [ True,  True,  True],\n",
       "        [False, False,  True],\n",
       "        [False, False,  True],\n",
       "        [ True,  True,  True]]), control=tensor([[ 0.9085,  0.7186,  0.4819,  0.9203,  0.8891,  0.4271],\n",
       "        [ 0.8967,  0.5382,  0.5369,  0.9085,  0.7186,  0.4819],\n",
       "        [ 0.8849,  0.3510,  0.5917,  0.8967,  0.5382,  0.5369],\n",
       "        [ 0.8731,  0.1601,  0.6468,  0.8849,  0.3510,  0.5917],\n",
       "        [ 0.8613, -0.0312,  0.7015,  0.8731,  0.1601,  0.6468],\n",
       "        [ 0.8496, -0.4592,  0.7563,  0.8613, -0.0312,  0.7015],\n",
       "        [ 0.8197, -0.5388,  0.7455,  0.8496, -0.4592,  0.7563],\n",
       "        [ 0.7899, -0.6143,  0.7346,  0.8197, -0.5388,  0.7455],\n",
       "        [ 0.7599, -0.6448,  0.7238,  0.7899, -0.6143,  0.7346],\n",
       "        [ 0.7301, -0.6448,  0.7129,  0.7599, -0.6448,  0.7238]]))"
      ]
     },
     "execution_count": null,
     "metadata": {},
     "output_type": "execute_result"
    }
   ],
   "source": [
    "tfms4[0]"
   ]
  },
  {
   "cell_type": "code",
   "execution_count": null,
   "id": "7f1d4c1d-65b1-4804-aa7e-7193cfadf4e1",
   "metadata": {},
   "outputs": [
    {
     "data": {
      "text/html": [
       "<div style=\"display: flex; column-gap: 20px; flex-wrap: wrap;\" class='table table-striped table-sm'> <div><p style='font-size: 1.2rem;'>data</p> <pre>tensor([[ 14.2200, 224.8000,   5.7990],\n",
       "        [ 14.1100, 195.2800,   6.5770],\n",
       "        [ 14.2300, 244.1700,   6.9310],\n",
       "        [ 14.4000, 253.9200,   7.2860],\n",
       "        [ 14.0900, 177.3100,   7.2510],\n",
       "        [ 13.7100,  97.0700,   6.6830],\n",
       "        [ 13.0800,  39.7100,   5.8510],\n",
       "        [ 12.4100,  10.6500,   5.2540],\n",
       "        [ 12.2700,   0.3200,   5.1640],\n",
       "        [ 12.2000,   0.0000,   5.0370]])</pre> </div><div><p style='font-size: 1.2rem;'>mask</p> <pre>tensor([[ True,  True,  True],\n",
       "        [ True,  True,  True],\n",
       "        [ True,  True,  True],\n",
       "        [False, False,  True],\n",
       "        [False, False,  True],\n",
       "        [ True,  True,  True],\n",
       "        [ True,  True,  True],\n",
       "        [ True,  True,  True],\n",
       "        [ True,  True,  True],\n",
       "        [ True,  True,  True]])</pre> </div><div><p style='font-size: 1.2rem;'>control</p> <pre>tensor([[ 1.5050e+01,  2.5519e+02,  5.1020e+00,  1.5139e+01,  2.8710e+02,\n",
       "          4.9000e+00],\n",
       "        [ 1.4961e+01,  2.2143e+02,  5.3050e+00,  1.5050e+01,  2.5519e+02,\n",
       "          5.1020e+00],\n",
       "        [ 1.4872e+01,  1.8638e+02,  5.5070e+00,  1.4961e+01,  2.2143e+02,\n",
       "          5.3050e+00],\n",
       "        [ 1.4783e+01,  1.5065e+02,  5.7100e+00,  1.4872e+01,  1.8638e+02,\n",
       "          5.5070e+00],\n",
       "        [ 1.4694e+01,  1.1485e+02,  5.9120e+00,  1.4783e+01,  1.5065e+02,\n",
       "          5.7100e+00],\n",
       "        [ 1.4606e+01,  3.4728e+01,  6.1140e+00,  1.4694e+01,  1.1485e+02,\n",
       "          5.9120e+00],\n",
       "        [ 1.4380e+01,  1.9843e+01,  6.0740e+00,  1.4606e+01,  3.4728e+01,\n",
       "          6.1140e+00],\n",
       "        [ 1.4155e+01,  5.7120e+00,  6.0340e+00,  1.4380e+01,  1.9843e+01,\n",
       "          6.0740e+00],\n",
       "        [ 1.3929e+01, -7.6294e-06,  5.9940e+00,  1.4155e+01,  5.7120e+00,\n",
       "          6.0340e+00],\n",
       "        [ 1.3704e+01, -7.6294e-06,  5.9540e+00,  1.3929e+01, -7.6294e-06,\n",
       "          5.9940e+00]])</pre> </div></div>"
      ],
      "text/plain": [
       "__main__.MeteoImpTensor(data=tensor([[ 14.2200, 224.8000,   5.7990],\n",
       "        [ 14.1100, 195.2800,   6.5770],\n",
       "        [ 14.2300, 244.1700,   6.9310],\n",
       "        [ 14.4000, 253.9200,   7.2860],\n",
       "        [ 14.0900, 177.3100,   7.2510],\n",
       "        [ 13.7100,  97.0700,   6.6830],\n",
       "        [ 13.0800,  39.7100,   5.8510],\n",
       "        [ 12.4100,  10.6500,   5.2540],\n",
       "        [ 12.2700,   0.3200,   5.1640],\n",
       "        [ 12.2000,   0.0000,   5.0370]]), mask=tensor([[ True,  True,  True],\n",
       "        [ True,  True,  True],\n",
       "        [ True,  True,  True],\n",
       "        [False, False,  True],\n",
       "        [False, False,  True],\n",
       "        [ True,  True,  True],\n",
       "        [ True,  True,  True],\n",
       "        [ True,  True,  True],\n",
       "        [ True,  True,  True],\n",
       "        [ True,  True,  True]]), control=tensor([[ 1.5050e+01,  2.5519e+02,  5.1020e+00,  1.5139e+01,  2.8710e+02,\n",
       "          4.9000e+00],\n",
       "        [ 1.4961e+01,  2.2143e+02,  5.3050e+00,  1.5050e+01,  2.5519e+02,\n",
       "          5.1020e+00],\n",
       "        [ 1.4872e+01,  1.8638e+02,  5.5070e+00,  1.4961e+01,  2.2143e+02,\n",
       "          5.3050e+00],\n",
       "        [ 1.4783e+01,  1.5065e+02,  5.7100e+00,  1.4872e+01,  1.8638e+02,\n",
       "          5.5070e+00],\n",
       "        [ 1.4694e+01,  1.1485e+02,  5.9120e+00,  1.4783e+01,  1.5065e+02,\n",
       "          5.7100e+00],\n",
       "        [ 1.4606e+01,  3.4728e+01,  6.1140e+00,  1.4694e+01,  1.1485e+02,\n",
       "          5.9120e+00],\n",
       "        [ 1.4380e+01,  1.9843e+01,  6.0740e+00,  1.4606e+01,  3.4728e+01,\n",
       "          6.1140e+00],\n",
       "        [ 1.4155e+01,  5.7120e+00,  6.0340e+00,  1.4380e+01,  1.9843e+01,\n",
       "          6.0740e+00],\n",
       "        [ 1.3929e+01, -7.6294e-06,  5.9940e+00,  1.4155e+01,  5.7120e+00,\n",
       "          6.0340e+00],\n",
       "        [ 1.3704e+01, -7.6294e-06,  5.9540e+00,  1.3929e+01, -7.6294e-06,\n",
       "          5.9940e+00]]))"
      ]
     },
     "execution_count": null,
     "metadata": {},
     "output_type": "execute_result"
    }
   ],
   "source": [
    "tfms4.decode(tfms4[0])"
   ]
  },
  {
   "cell_type": "markdown",
   "id": "996ccbf6-0e81-4fd5-97ff-9ee2ab8eb42d",
   "metadata": {},
   "source": [
    "is workinggggggggggggggggg "
   ]
  },
  {
   "cell_type": "markdown",
   "id": "b0054d0c-1aba-4d7e-8bca-be55853b4388",
   "metadata": {},
   "source": [
    "### 6) To Tuple"
   ]
  },
  {
   "cell_type": "markdown",
   "id": "9e74011f-f689-4f39-8e9d-ec88e0487928",
   "metadata": {},
   "source": [
    "Fastai likes to work with tuples (in particular for collating)... for now convert to a tuple. Maybe find a way to mimic a tuple in `MeteoImpTensor`"
   ]
  },
  {
   "cell_type": "code",
   "execution_count": null,
   "id": "d1c3ff30-1e9e-4d83-a6ea-66df2924e04a",
   "metadata": {},
   "outputs": [],
   "source": [
    "#| export\n",
    "class ToTuple(Transform):\n",
    "    def encodes(self, x): return tuple(x)\n",
    "    def decodes(self, x): return MeteoImpTensor(x)"
   ]
  },
  {
   "cell_type": "code",
   "execution_count": null,
   "id": "d80ba90d-eecf-46e5-b0dc-4f141879b9ac",
   "metadata": {},
   "outputs": [
    {
     "data": {
      "text/plain": [
       "ToTuple:\n",
       "encodes: (object,object) -> encodes\n",
       "decodes: (object,object) -> decodes"
      ]
     },
     "execution_count": null,
     "metadata": {},
     "output_type": "execute_result"
    }
   ],
   "source": [
    "ToTuple()"
   ]
  },
  {
   "cell_type": "code",
   "execution_count": null,
   "id": "b34cf6b9-3dec-42ba-802b-12fad01f1684",
   "metadata": {},
   "outputs": [],
   "source": [
    "tfms5 = TfmdLists([800,801,803], [*tfms4.fs,ToTuple])"
   ]
  },
  {
   "cell_type": "code",
   "execution_count": null,
   "id": "8ceb861e-16d5-444a-bbbd-1ec5cf5c40f9",
   "metadata": {},
   "outputs": [],
   "source": [
    "tfms5[0];"
   ]
  },
  {
   "cell_type": "markdown",
   "id": "81077302-18db-4010-9c88-ae8d48216353",
   "metadata": {},
   "source": [
    "### Pipeline"
   ]
  },
  {
   "cell_type": "code",
   "execution_count": null,
   "id": "0ad384f0-7912-4d40-9631-1e6e5294fb9f",
   "metadata": {},
   "outputs": [],
   "source": [
    "#| export\n",
    "from fastai.data.transforms import *"
   ]
  },
  {
   "cell_type": "code",
   "execution_count": null,
   "id": "5c19d0b5-b78c-4a5f-a606-8a1cfe832e8d",
   "metadata": {},
   "outputs": [],
   "source": [
    "block_len = 10\n",
    "control_lags = [1]\n",
    "control_repeat = 1 + len(control_lags)\n",
    "block_ids = list(range(max(control_lags), (len(hai) // block_len) - 1))[:10]\n",
    "gap_len = 2\n",
    "var_sel = ['TA','SW_IN']"
   ]
  },
  {
   "cell_type": "code",
   "execution_count": null,
   "id": "9a7a2fc4-fa0d-4b22-b7ca-65feed7ffcdc",
   "metadata": {},
   "outputs": [],
   "source": [
    "#| export\n",
    "def imp_pipeline(df,\n",
    "                 control,\n",
    "                 var_sel,\n",
    "                 gap_len,\n",
    "                 block_len,\n",
    "                 control_lags\n",
    "                ):\n",
    "    offset = max(control_lags)\n",
    "    block_ids = list(range(offset, (len(df) // block_len) - 1))\n",
    "    return [BlockIndexTransform(df.index, block_len=block_len, offset=offset),\n",
    "            BlockDfTransform(data = df, control = control,  control_lags = control_lags),\n",
    "            AddGapTransform(var_sel, gap_len),\n",
    "            MeteoImpDf2Tensor,\n",
    "            MeteoImpNormalize(*get_stats(df), *get_stats(control, 1+len(control_lags))),\n",
    "            ToTuple\n",
    "           ], block_ids"
   ]
  },
  {
   "cell_type": "code",
   "execution_count": null,
   "id": "ae7c4bad-445a-4e2a-9d30-e0160106b678",
   "metadata": {},
   "outputs": [],
   "source": [
    "pipeline, block_ids = imp_pipeline(hai, hai_era, var_sel, gap_len, block_len, control_lags)"
   ]
  },
  {
   "cell_type": "code",
   "execution_count": null,
   "id": "569ade0e-fb29-4929-9106-3ac010ce5db0",
   "metadata": {},
   "outputs": [
    {
     "data": {
      "text/plain": [
       "[BlockIndexTransform:\n",
       " encodes: (int,object) -> encodes\n",
       " decodes: ,\n",
       " BlockDfTransform:\n",
       " encodes: (DatetimeIndex,object) -> encodes\n",
       " decodes: ,\n",
       " AddGapTransform -- {'variables': ['TA', 'SW_IN'], 'gap_length': 2}:\n",
       " encodes: (DataControl,object) -> encodes\n",
       " decodes: ,\n",
       " __main__.MeteoImpDf2Tensor,\n",
       " MeteoImpNormalize -- {'mean_data': tensor([  8.3339, 120.9578,   3.3807]), 'std_data': tensor([  7.9246, 204.0026,   4.3684]), 'mean_control': tensor([  8.1948, 120.6864,   3.3253,   8.1948, 120.6864,   3.3253]), 'std_control': tensor([  7.5459, 187.1730,   3.6871,   7.5459, 187.1730,   3.6871])}:\n",
       " encodes: (MeteoImpTensor,object) -> encodes\n",
       " decodes: (MeteoImpTensor,object) -> decodes\n",
       " (NormalsParams,object) -> decodes,\n",
       " __main__.ToTuple]"
      ]
     },
     "execution_count": null,
     "metadata": {},
     "output_type": "execute_result"
    }
   ],
   "source": [
    "pipeline"
   ]
  },
  {
   "cell_type": "code",
   "execution_count": null,
   "id": "5cc0fa4f-801d-4d04-a3a7-7012d11e3709",
   "metadata": {},
   "outputs": [],
   "source": [
    "pp = Pipeline(pipeline)"
   ]
  },
  {
   "cell_type": "code",
   "execution_count": null,
   "id": "7b7be91d-d0d2-4b85-9ab5-ece0cbaf6616",
   "metadata": {},
   "outputs": [
    {
     "data": {
      "text/plain": [
       "Pipeline: BlockIndexTransform -> BlockDfTransform -> AddGapTransform -- {'variables': ['TA', 'SW_IN'], 'gap_length': 2} -> MeteoImpDf2Tensor -> MeteoImpNormalize -- {'mean_data': tensor([  8.3339, 120.9578,   3.3807]), 'std_data': tensor([  7.9246, 204.0026,   4.3684]), 'mean_control': tensor([  8.1948, 120.6864,   3.3253,   8.1948, 120.6864,   3.3253]), 'std_control': tensor([  7.5459, 187.1730,   3.6871,   7.5459, 187.1730,   3.6871])} -> ToTuple"
      ]
     },
     "execution_count": null,
     "metadata": {},
     "output_type": "execute_result"
    }
   ],
   "source": [
    "pp"
   ]
  },
  {
   "cell_type": "markdown",
   "id": "df9f46c5-7664-492e-8baa-62ed741033e1",
   "metadata": {},
   "source": [
    "### Dataloader"
   ]
  },
  {
   "cell_type": "markdown",
   "id": "b71760f8-6b1f-45be-a804-756a3946a585",
   "metadata": {},
   "source": [
    "random splitter for validation/training set"
   ]
  },
  {
   "cell_type": "code",
   "execution_count": null,
   "id": "322140fc-b896-4e38-b244-dc8525438cfa",
   "metadata": {},
   "outputs": [],
   "source": [
    "reset_seed()"
   ]
  },
  {
   "cell_type": "code",
   "execution_count": null,
   "id": "4aefcbc5-7675-4da8-9fa8-53efd933a5ce",
   "metadata": {},
   "outputs": [],
   "source": [
    "splits = RandomSplitter()(block_ids)"
   ]
  },
  {
   "cell_type": "markdown",
   "id": "ea416657-bd6b-4bd0-9970-1aee94d0b5ea",
   "metadata": {},
   "source": [
    "Repeat twice the pipeline since is the same pipeline both for training data and for labels.\n",
    "\n",
    "In theory could optimize the label creation and get the data only from the gap and not the control, but for now it works and the overhead is minimal"
   ]
  },
  {
   "cell_type": "code",
   "execution_count": null,
   "id": "a367a12b-df12-422d-9eb4-877eaafafc94",
   "metadata": {},
   "outputs": [],
   "source": [
    "ds = Datasets(block_ids, [pipeline, pipeline], splits=splits)"
   ]
  },
  {
   "cell_type": "code",
   "execution_count": null,
   "id": "f6d45118-0145-44ea-a796-a659ed93baa9",
   "metadata": {},
   "outputs": [],
   "source": [
    "dls = ds.dataloaders(bs=1)"
   ]
  },
  {
   "cell_type": "code",
   "execution_count": null,
   "id": "f1ee5a56-067d-4383-9f20-e0c4bc78d4ca",
   "metadata": {},
   "outputs": [
    {
     "data": {
      "text/plain": [
       "device(type='cuda', index=0)"
      ]
     },
     "execution_count": null,
     "metadata": {},
     "output_type": "execute_result"
    }
   ],
   "source": [
    "dls.device"
   ]
  },
  {
   "cell_type": "code",
   "execution_count": null,
   "id": "a7205642-c9ef-4e44-b273-262177d54e2f",
   "metadata": {},
   "outputs": [
    {
     "data": {
      "text/plain": [
       "((tensor([[[ 0.3894, -0.5929, -0.1364],\n",
       "           [ 0.4475, -0.5929, -0.0379],\n",
       "           [ 0.4361, -0.5929, -0.0604],\n",
       "           [ 0.4121, -0.5929, -0.1139],\n",
       "           [ 0.3907, -0.5929, -0.1698],\n",
       "           [ 0.3705, -0.5742, -0.2222],\n",
       "           [ 0.3743, -0.5264, -0.2373],\n",
       "           [ 0.3591, -0.4783, -0.2810],\n",
       "           [ 0.3390, -0.2052, -0.3142],\n",
       "           [ 0.4588,  0.6793, -0.1927]]], device='cuda:0'),\n",
       "  tensor([[[ True,  True,  True],\n",
       "           [ True,  True,  True],\n",
       "           [ True,  True,  True],\n",
       "           [ True,  True,  True],\n",
       "           [ True,  True,  True],\n",
       "           [False, False,  True],\n",
       "           [False, False,  True],\n",
       "           [ True,  True,  True],\n",
       "           [ True,  True,  True],\n",
       "           [ True,  True,  True]]], device='cuda:0'),\n",
       "  tensor([[[ 0.3884, -0.6448, -0.1145,  0.4351, -0.6448, -0.0104],\n",
       "           [ 0.3418, -0.6448, -0.2187,  0.3884, -0.6448, -0.1145],\n",
       "           [ 0.2951, -0.6448, -0.3228,  0.3418, -0.6448, -0.2187],\n",
       "           [ 0.2485, -0.6448, -0.4273,  0.2951, -0.6448, -0.3228],\n",
       "           [ 0.2019, -0.6448, -0.5314,  0.2485, -0.6448, -0.4273],\n",
       "           [ 0.1552, -0.6448, -0.6355,  0.2019, -0.6448, -0.5314],\n",
       "           [ 0.2261, -0.4508, -0.5873,  0.1552, -0.6448, -0.6355],\n",
       "           [ 0.2970, -0.2343, -0.5387,  0.2261, -0.4508, -0.5873],\n",
       "           [ 0.3678, -0.0090, -0.4904,  0.2970, -0.2343, -0.5387],\n",
       "           [ 0.4387,  0.2212, -0.4422,  0.3678, -0.0090, -0.4904]]],\n",
       "         device='cuda:0')),\n",
       " (tensor([[[ 0.3894, -0.5929, -0.1364],\n",
       "           [ 0.4475, -0.5929, -0.0379],\n",
       "           [ 0.4361, -0.5929, -0.0604],\n",
       "           [ 0.4121, -0.5929, -0.1139],\n",
       "           [ 0.3907, -0.5929, -0.1698],\n",
       "           [ 0.3705, -0.5742, -0.2222],\n",
       "           [ 0.3743, -0.5264, -0.2373],\n",
       "           [ 0.3591, -0.4783, -0.2810],\n",
       "           [ 0.3390, -0.2052, -0.3142],\n",
       "           [ 0.4588,  0.6793, -0.1927]]], device='cuda:0'),\n",
       "  tensor([[[False, False,  True],\n",
       "           [False, False,  True],\n",
       "           [ True,  True,  True],\n",
       "           [ True,  True,  True],\n",
       "           [ True,  True,  True],\n",
       "           [ True,  True,  True],\n",
       "           [ True,  True,  True],\n",
       "           [ True,  True,  True],\n",
       "           [ True,  True,  True],\n",
       "           [ True,  True,  True]]], device='cuda:0'),\n",
       "  tensor([[[ 0.3884, -0.6448, -0.1145,  0.4351, -0.6448, -0.0104],\n",
       "           [ 0.3418, -0.6448, -0.2187,  0.3884, -0.6448, -0.1145],\n",
       "           [ 0.2951, -0.6448, -0.3228,  0.3418, -0.6448, -0.2187],\n",
       "           [ 0.2485, -0.6448, -0.4273,  0.2951, -0.6448, -0.3228],\n",
       "           [ 0.2019, -0.6448, -0.5314,  0.2485, -0.6448, -0.4273],\n",
       "           [ 0.1552, -0.6448, -0.6355,  0.2019, -0.6448, -0.5314],\n",
       "           [ 0.2261, -0.4508, -0.5873,  0.1552, -0.6448, -0.6355],\n",
       "           [ 0.2970, -0.2343, -0.5387,  0.2261, -0.4508, -0.5873],\n",
       "           [ 0.3678, -0.0090, -0.4904,  0.2970, -0.2343, -0.5387],\n",
       "           [ 0.4387,  0.2212, -0.4422,  0.3678, -0.0090, -0.4904]]],\n",
       "         device='cuda:0')))"
      ]
     },
     "execution_count": null,
     "metadata": {},
     "output_type": "execute_result"
    }
   ],
   "source": [
    "dls.one_batch()"
   ]
  },
  {
   "cell_type": "code",
   "execution_count": null,
   "id": "2223f2ba-79e9-4a58-87ae-a848e8a779a7",
   "metadata": {},
   "outputs": [],
   "source": [
    "@typedispatch\n",
    "def show_batch(x: tuple, y, samples, ctxs=None, max_n=6):\n",
    "    return x"
   ]
  },
  {
   "cell_type": "code",
   "execution_count": null,
   "id": "f81d21cf-c3c3-4926-bb64-067b9928a0b2",
   "metadata": {},
   "outputs": [],
   "source": [
    "# dls.show_batch()"
   ]
  },
  {
   "cell_type": "code",
   "execution_count": null,
   "id": "6bbdab5e-2970-4326-99de-1d1cbdd1b9fa",
   "metadata": {},
   "outputs": [
    {
     "data": {
      "text/plain": [
       "{tuple: [{tuple: [torch.Tensor, torch.Tensor, torch.Tensor]},\n",
       "  {tuple: [torch.Tensor, torch.Tensor, torch.Tensor]}]}"
      ]
     },
     "execution_count": null,
     "metadata": {},
     "output_type": "execute_result"
    }
   ],
   "source": [
    "dls._types"
   ]
  },
  {
   "cell_type": "code",
   "execution_count": null,
   "id": "22219b39-71a5-4ea6-a0dc-059f7fea6ffe",
   "metadata": {},
   "outputs": [],
   "source": [
    "from fastcore.foundation import *"
   ]
  },
  {
   "cell_type": "code",
   "execution_count": null,
   "id": "0fd3c5db-d210-4eba-b61c-b9007f6905e5",
   "metadata": {},
   "outputs": [
    {
     "data": {
      "text/plain": [
       "<function fastcore.meta.delegates(to: function = None, keep=False, but: list = None)>"
      ]
     },
     "execution_count": null,
     "metadata": {},
     "output_type": "execute_result"
    }
   ],
   "source": [
    "delegates"
   ]
  },
  {
   "cell_type": "code",
   "execution_count": null,
   "id": "9ec4f71f-607e-476e-a89e-8d6f2b8bcc19",
   "metadata": {},
   "outputs": [],
   "source": [
    "#| export\n",
    "def imp_dataloader(df,\n",
    "                 control,\n",
    "                 var_sel,\n",
    "                 gap_len,\n",
    "                 block_len,\n",
    "                 control_lags,\n",
    "                 bs):\n",
    "    pipeline, block_ids = imp_pipeline(df, control, var_sel, gap_len, block_len, control_lags)\n",
    "    splits = RandomSplitter()(block_ids)\n",
    "    ds = Datasets(block_ids, [pipeline, pipeline], splits=splits)\n",
    "    \n",
    "    return ds.dataloaders(bs=bs)\n",
    "    "
   ]
  },
  {
   "cell_type": "code",
   "execution_count": null,
   "id": "c64c8c89-fd3e-4c36-893f-ff937ad8eba8",
   "metadata": {},
   "outputs": [
    {
     "data": {
      "text/plain": [
       "<function __main__.imp_dataloader(df, control, var_sel, gap_len, block_len, control_lags, bs)>"
      ]
     },
     "execution_count": null,
     "metadata": {},
     "output_type": "execute_result"
    }
   ],
   "source": [
    "imp_dataloader"
   ]
  },
  {
   "cell_type": "code",
   "execution_count": null,
   "id": "cb1df190-83ba-4056-be7f-82d364e2dc87",
   "metadata": {},
   "outputs": [],
   "source": [
    "dls = imp_dataloader(hai, hai_era, var_sel, gap_len=10, block_len=200, control_lags=[1], bs=10)"
   ]
  },
  {
   "cell_type": "code",
   "execution_count": null,
   "id": "3024300b-3f82-436d-ac6d-13ff7861dbf7",
   "metadata": {},
   "outputs": [
    {
     "data": {
      "text/plain": [
       "torch.Size([10, 200, 3])"
      ]
     },
     "execution_count": null,
     "metadata": {},
     "output_type": "execute_result"
    }
   ],
   "source": [
    "dls.one_batch()[0][0].shape"
   ]
  },
  {
   "cell_type": "code",
   "execution_count": null,
   "id": "1a7c86d2-e054-4dd4-89c9-26165e558390",
   "metadata": {},
   "outputs": [],
   "source": [
    "dls = dls.cpu()"
   ]
  },
  {
   "cell_type": "markdown",
   "id": "64bb7e8b-178d-4ab6-a359-5bcc010a8767",
   "metadata": {},
   "source": [
    "## Model"
   ]
  },
  {
   "cell_type": "markdown",
   "id": "e4e0999c-d959-49fa-8e8a-0ed8e53f2f5d",
   "metadata": {},
   "source": [
    "### Forward Function"
   ]
  },
  {
   "cell_type": "markdown",
   "id": "dc64e0a2-b14b-4159-af4f-c6a9fb2a3f05",
   "metadata": {},
   "source": [
    "in order to the a pytorch module we need a forward method to the kalman filter"
   ]
  },
  {
   "cell_type": "code",
   "execution_count": null,
   "id": "42d40fc6-7b8d-4e9c-9f14-70ea54629826",
   "metadata": {},
   "outputs": [],
   "source": [
    "#| export\n",
    "from meteo_imp.kalman.filter import *\n",
    "from torch.distributions import MultivariateNormal"
   ]
  },
  {
   "cell_type": "code",
   "execution_count": null,
   "id": "0ebded29-5194-4ca4-808a-fe115d705495",
   "metadata": {},
   "outputs": [],
   "source": [
    "#| export\n",
    "@patch\n",
    "def _predict_filter(self: KalmanFilter, data, mask, control):\n",
    "    \"\"\"Predict every obsevation using only the filter step\"\"\"\n",
    "    # use the predicted state not the filtered state!\n",
    "    pred_state_mean, pred_state_cov, _, _ = self._filter_all(data, mask, control)\n",
    "    mean, cov = self._obs_from_state(ListMNormal(pred_state_mean.squeeze(-1), pred_state_cov))\n",
    "    \n",
    "    return ListNormal(mean, cov2std(cov))"
   ]
  },
  {
   "cell_type": "code",
   "execution_count": null,
   "id": "634980aa-b323-45cc-b2a3-bdd0ee95a4a9",
   "metadata": {},
   "outputs": [],
   "source": [
    "model = KalmanFilter.init_random(n_dim_obs = hai.shape[-1], n_dim_state = hai.shape[-1], n_dim_contr = hai_era.shape[-1]*control_repeat)"
   ]
  },
  {
   "cell_type": "code",
   "execution_count": null,
   "id": "5d188012-ee7c-4e3f-8c99-883a56752d65",
   "metadata": {},
   "outputs": [
    {
     "data": {
      "text/plain": [
       "2"
      ]
     },
     "execution_count": null,
     "metadata": {},
     "output_type": "execute_result"
    }
   ],
   "source": [
    "control_repeat"
   ]
  },
  {
   "cell_type": "code",
   "execution_count": null,
   "id": "68a511ea-26aa-4eb3-90e1-2a0fba057d60",
   "metadata": {},
   "outputs": [
    {
     "data": {
      "text/html": [
       "<p style='font-size: 1.5rem; font-decoration: bold'>Kalman Filter (3 obs, 3 state, 6 contr)<p><div style=\"display: flex; column-gap: 20px; flex-wrap: wrap;\" class='table table-striped table-sm'> <div> <p style='font-size: 1.3rem;'>trans_matrix (A)</p> <style type=\"text/css\">\n",
       "</style>\n",
       "<table id=\"T_40c03\">\n",
       "  <thead>\n",
       "    <tr>\n",
       "      <th id=\"T_40c03_level0_col0\" class=\"col_heading level0 col0\" >state</th>\n",
       "      <th id=\"T_40c03_level0_col1\" class=\"col_heading level0 col1\" >x_0</th>\n",
       "      <th id=\"T_40c03_level0_col2\" class=\"col_heading level0 col2\" >x_1</th>\n",
       "      <th id=\"T_40c03_level0_col3\" class=\"col_heading level0 col3\" >x_2</th>\n",
       "    </tr>\n",
       "  </thead>\n",
       "  <tbody>\n",
       "    <tr>\n",
       "      <td id=\"T_40c03_row0_col0\" class=\"data row0 col0\" >x_0</td>\n",
       "      <td id=\"T_40c03_row0_col1\" class=\"data row0 col1\" >0.9391</td>\n",
       "      <td id=\"T_40c03_row0_col2\" class=\"data row0 col2\" >0.5536</td>\n",
       "      <td id=\"T_40c03_row0_col3\" class=\"data row0 col3\" >0.3457</td>\n",
       "    </tr>\n",
       "    <tr>\n",
       "      <td id=\"T_40c03_row1_col0\" class=\"data row1 col0\" >x_1</td>\n",
       "      <td id=\"T_40c03_row1_col1\" class=\"data row1 col1\" >0.0279</td>\n",
       "      <td id=\"T_40c03_row1_col2\" class=\"data row1 col2\" >0.0230</td>\n",
       "      <td id=\"T_40c03_row1_col3\" class=\"data row1 col3\" >0.3678</td>\n",
       "    </tr>\n",
       "    <tr>\n",
       "      <td id=\"T_40c03_row2_col0\" class=\"data row2 col0\" >x_2</td>\n",
       "      <td id=\"T_40c03_row2_col1\" class=\"data row2 col1\" >0.7279</td>\n",
       "      <td id=\"T_40c03_row2_col2\" class=\"data row2 col2\" >0.2933</td>\n",
       "      <td id=\"T_40c03_row2_col3\" class=\"data row2 col3\" >0.8148</td>\n",
       "    </tr>\n",
       "  </tbody>\n",
       "</table>\n",
       " </div><div> <p style='font-size: 1.3rem;'>trans_cov (Q)</p> <style type=\"text/css\">\n",
       "</style>\n",
       "<table id=\"T_2f8f2\">\n",
       "  <thead>\n",
       "    <tr>\n",
       "      <th id=\"T_2f8f2_level0_col0\" class=\"col_heading level0 col0\" >state</th>\n",
       "      <th id=\"T_2f8f2_level0_col1\" class=\"col_heading level0 col1\" >x_0</th>\n",
       "      <th id=\"T_2f8f2_level0_col2\" class=\"col_heading level0 col2\" >x_1</th>\n",
       "      <th id=\"T_2f8f2_level0_col3\" class=\"col_heading level0 col3\" >x_2</th>\n",
       "    </tr>\n",
       "  </thead>\n",
       "  <tbody>\n",
       "    <tr>\n",
       "      <td id=\"T_2f8f2_row0_col0\" class=\"data row0 col0\" >x_0</td>\n",
       "      <td id=\"T_2f8f2_row0_col1\" class=\"data row0 col1\" >0.2811</td>\n",
       "      <td id=\"T_2f8f2_row0_col2\" class=\"data row0 col2\" >0.3998</td>\n",
       "      <td id=\"T_2f8f2_row0_col3\" class=\"data row0 col3\" >0.4784</td>\n",
       "    </tr>\n",
       "    <tr>\n",
       "      <td id=\"T_2f8f2_row1_col0\" class=\"data row1 col0\" >x_1</td>\n",
       "      <td id=\"T_2f8f2_row1_col1\" class=\"data row1 col1\" >0.3998</td>\n",
       "      <td id=\"T_2f8f2_row1_col2\" class=\"data row1 col2\" >1.2545</td>\n",
       "      <td id=\"T_2f8f2_row1_col3\" class=\"data row1 col3\" >0.6403</td>\n",
       "    </tr>\n",
       "    <tr>\n",
       "      <td id=\"T_2f8f2_row2_col0\" class=\"data row2 col0\" >x_2</td>\n",
       "      <td id=\"T_2f8f2_row2_col1\" class=\"data row2 col1\" >0.4784</td>\n",
       "      <td id=\"T_2f8f2_row2_col2\" class=\"data row2 col2\" >0.6403</td>\n",
       "      <td id=\"T_2f8f2_row2_col3\" class=\"data row2 col3\" >0.8191</td>\n",
       "    </tr>\n",
       "  </tbody>\n",
       "</table>\n",
       " </div><div> <p style='font-size: 1.3rem;'>trans_off</p> <style type=\"text/css\">\n",
       "</style>\n",
       "<table id=\"T_28746\">\n",
       "  <thead>\n",
       "    <tr>\n",
       "      <th id=\"T_28746_level0_col0\" class=\"col_heading level0 col0\" >state</th>\n",
       "      <th id=\"T_28746_level0_col1\" class=\"col_heading level0 col1\" >offset</th>\n",
       "    </tr>\n",
       "  </thead>\n",
       "  <tbody>\n",
       "    <tr>\n",
       "      <td id=\"T_28746_row0_col0\" class=\"data row0 col0\" >x_0</td>\n",
       "      <td id=\"T_28746_row0_col1\" class=\"data row0 col1\" >0.9163</td>\n",
       "    </tr>\n",
       "    <tr>\n",
       "      <td id=\"T_28746_row1_col0\" class=\"data row1 col0\" >x_1</td>\n",
       "      <td id=\"T_28746_row1_col1\" class=\"data row1 col1\" >0.3011</td>\n",
       "    </tr>\n",
       "    <tr>\n",
       "      <td id=\"T_28746_row2_col0\" class=\"data row2 col0\" >x_2</td>\n",
       "      <td id=\"T_28746_row2_col1\" class=\"data row2 col1\" >0.8537</td>\n",
       "    </tr>\n",
       "  </tbody>\n",
       "</table>\n",
       " </div><div> <p style='font-size: 1.3rem;'>obs_matrix (H)</p> <style type=\"text/css\">\n",
       "</style>\n",
       "<table id=\"T_13d5d\">\n",
       "  <thead>\n",
       "    <tr>\n",
       "      <th id=\"T_13d5d_level0_col0\" class=\"col_heading level0 col0\" >variable</th>\n",
       "      <th id=\"T_13d5d_level0_col1\" class=\"col_heading level0 col1\" >x_0</th>\n",
       "      <th id=\"T_13d5d_level0_col2\" class=\"col_heading level0 col2\" >x_1</th>\n",
       "      <th id=\"T_13d5d_level0_col3\" class=\"col_heading level0 col3\" >x_2</th>\n",
       "    </tr>\n",
       "  </thead>\n",
       "  <tbody>\n",
       "    <tr>\n",
       "      <td id=\"T_13d5d_row0_col0\" class=\"data row0 col0\" >y_0</td>\n",
       "      <td id=\"T_13d5d_row0_col1\" class=\"data row0 col1\" >0.5088</td>\n",
       "      <td id=\"T_13d5d_row0_col2\" class=\"data row0 col2\" >0.5328</td>\n",
       "      <td id=\"T_13d5d_row0_col3\" class=\"data row0 col3\" >0.4943</td>\n",
       "    </tr>\n",
       "    <tr>\n",
       "      <td id=\"T_13d5d_row1_col0\" class=\"data row1 col0\" >y_1</td>\n",
       "      <td id=\"T_13d5d_row1_col1\" class=\"data row1 col1\" >0.8335</td>\n",
       "      <td id=\"T_13d5d_row1_col2\" class=\"data row1 col2\" >0.3526</td>\n",
       "      <td id=\"T_13d5d_row1_col3\" class=\"data row1 col3\" >0.5773</td>\n",
       "    </tr>\n",
       "    <tr>\n",
       "      <td id=\"T_13d5d_row2_col0\" class=\"data row2 col0\" >y_2</td>\n",
       "      <td id=\"T_13d5d_row2_col1\" class=\"data row2 col1\" >0.7732</td>\n",
       "      <td id=\"T_13d5d_row2_col2\" class=\"data row2 col2\" >0.5858</td>\n",
       "      <td id=\"T_13d5d_row2_col3\" class=\"data row2 col3\" >0.7828</td>\n",
       "    </tr>\n",
       "  </tbody>\n",
       "</table>\n",
       " </div><div> <p style='font-size: 1.3rem;'>obs_cov (R)</p> <style type=\"text/css\">\n",
       "</style>\n",
       "<table id=\"T_a46c9\">\n",
       "  <thead>\n",
       "    <tr>\n",
       "      <th id=\"T_a46c9_level0_col0\" class=\"col_heading level0 col0\" >variable</th>\n",
       "      <th id=\"T_a46c9_level0_col1\" class=\"col_heading level0 col1\" >y_0</th>\n",
       "      <th id=\"T_a46c9_level0_col2\" class=\"col_heading level0 col2\" >y_1</th>\n",
       "      <th id=\"T_a46c9_level0_col3\" class=\"col_heading level0 col3\" >y_2</th>\n",
       "    </tr>\n",
       "  </thead>\n",
       "  <tbody>\n",
       "    <tr>\n",
       "      <td id=\"T_a46c9_row0_col0\" class=\"data row0 col0\" >y_0</td>\n",
       "      <td id=\"T_a46c9_row0_col1\" class=\"data row0 col1\" >1.9850</td>\n",
       "      <td id=\"T_a46c9_row0_col2\" class=\"data row0 col2\" >0.0000</td>\n",
       "      <td id=\"T_a46c9_row0_col3\" class=\"data row0 col3\" >0.0000</td>\n",
       "    </tr>\n",
       "    <tr>\n",
       "      <td id=\"T_a46c9_row1_col0\" class=\"data row1 col0\" >y_1</td>\n",
       "      <td id=\"T_a46c9_row1_col1\" class=\"data row1 col1\" >0.0000</td>\n",
       "      <td id=\"T_a46c9_row1_col2\" class=\"data row1 col2\" >0.5512</td>\n",
       "      <td id=\"T_a46c9_row1_col3\" class=\"data row1 col3\" >0.0000</td>\n",
       "    </tr>\n",
       "    <tr>\n",
       "      <td id=\"T_a46c9_row2_col0\" class=\"data row2 col0\" >y_2</td>\n",
       "      <td id=\"T_a46c9_row2_col1\" class=\"data row2 col1\" >0.0000</td>\n",
       "      <td id=\"T_a46c9_row2_col2\" class=\"data row2 col2\" >0.0000</td>\n",
       "      <td id=\"T_a46c9_row2_col3\" class=\"data row2 col3\" >0.8488</td>\n",
       "    </tr>\n",
       "  </tbody>\n",
       "</table>\n",
       " </div><div> <p style='font-size: 1.3rem;'>obs_off</p> <style type=\"text/css\">\n",
       "</style>\n",
       "<table id=\"T_efc70\">\n",
       "  <thead>\n",
       "    <tr>\n",
       "      <th id=\"T_efc70_level0_col0\" class=\"col_heading level0 col0\" >variable</th>\n",
       "      <th id=\"T_efc70_level0_col1\" class=\"col_heading level0 col1\" >offset</th>\n",
       "    </tr>\n",
       "  </thead>\n",
       "  <tbody>\n",
       "    <tr>\n",
       "      <td id=\"T_efc70_row0_col0\" class=\"data row0 col0\" >y_0</td>\n",
       "      <td id=\"T_efc70_row0_col1\" class=\"data row0 col1\" >0.4884</td>\n",
       "    </tr>\n",
       "    <tr>\n",
       "      <td id=\"T_efc70_row1_col0\" class=\"data row1 col0\" >y_1</td>\n",
       "      <td id=\"T_efc70_row1_col1\" class=\"data row1 col1\" >0.7967</td>\n",
       "    </tr>\n",
       "    <tr>\n",
       "      <td id=\"T_efc70_row2_col0\" class=\"data row2 col0\" >y_2</td>\n",
       "      <td id=\"T_efc70_row2_col1\" class=\"data row2 col1\" >0.1926</td>\n",
       "    </tr>\n",
       "  </tbody>\n",
       "</table>\n",
       " </div><div> <p style='font-size: 1.3rem;'>contr_matrix (B)</p> <style type=\"text/css\">\n",
       "</style>\n",
       "<table id=\"T_c2894\">\n",
       "  <thead>\n",
       "    <tr>\n",
       "      <th id=\"T_c2894_level0_col0\" class=\"col_heading level0 col0\" >state</th>\n",
       "      <th id=\"T_c2894_level0_col1\" class=\"col_heading level0 col1\" >c_0</th>\n",
       "      <th id=\"T_c2894_level0_col2\" class=\"col_heading level0 col2\" >c_1</th>\n",
       "      <th id=\"T_c2894_level0_col3\" class=\"col_heading level0 col3\" >c_2</th>\n",
       "      <th id=\"T_c2894_level0_col4\" class=\"col_heading level0 col4\" >c_3</th>\n",
       "      <th id=\"T_c2894_level0_col5\" class=\"col_heading level0 col5\" >c_4</th>\n",
       "      <th id=\"T_c2894_level0_col6\" class=\"col_heading level0 col6\" >c_5</th>\n",
       "    </tr>\n",
       "  </thead>\n",
       "  <tbody>\n",
       "    <tr>\n",
       "      <td id=\"T_c2894_row0_col0\" class=\"data row0 col0\" >x_0</td>\n",
       "      <td id=\"T_c2894_row0_col1\" class=\"data row0 col1\" >0.3175</td>\n",
       "      <td id=\"T_c2894_row0_col2\" class=\"data row0 col2\" >0.1518</td>\n",
       "      <td id=\"T_c2894_row0_col3\" class=\"data row0 col3\" >0.9008</td>\n",
       "      <td id=\"T_c2894_row0_col4\" class=\"data row0 col4\" >0.5866</td>\n",
       "      <td id=\"T_c2894_row0_col5\" class=\"data row0 col5\" >0.6492</td>\n",
       "      <td id=\"T_c2894_row0_col6\" class=\"data row0 col6\" >0.8186</td>\n",
       "    </tr>\n",
       "    <tr>\n",
       "      <td id=\"T_c2894_row1_col0\" class=\"data row1 col0\" >x_1</td>\n",
       "      <td id=\"T_c2894_row1_col1\" class=\"data row1 col1\" >0.9876</td>\n",
       "      <td id=\"T_c2894_row1_col2\" class=\"data row1 col2\" >0.2021</td>\n",
       "      <td id=\"T_c2894_row1_col3\" class=\"data row1 col3\" >0.2210</td>\n",
       "      <td id=\"T_c2894_row1_col4\" class=\"data row1 col4\" >0.3510</td>\n",
       "      <td id=\"T_c2894_row1_col5\" class=\"data row1 col5\" >0.0602</td>\n",
       "      <td id=\"T_c2894_row1_col6\" class=\"data row1 col6\" >0.2807</td>\n",
       "    </tr>\n",
       "    <tr>\n",
       "      <td id=\"T_c2894_row2_col0\" class=\"data row2 col0\" >x_2</td>\n",
       "      <td id=\"T_c2894_row2_col1\" class=\"data row2 col1\" >0.5818</td>\n",
       "      <td id=\"T_c2894_row2_col2\" class=\"data row2 col2\" >0.9470</td>\n",
       "      <td id=\"T_c2894_row2_col3\" class=\"data row2 col3\" >0.1274</td>\n",
       "      <td id=\"T_c2894_row2_col4\" class=\"data row2 col4\" >0.8603</td>\n",
       "      <td id=\"T_c2894_row2_col5\" class=\"data row2 col5\" >0.9713</td>\n",
       "      <td id=\"T_c2894_row2_col6\" class=\"data row2 col6\" >0.8441</td>\n",
       "    </tr>\n",
       "  </tbody>\n",
       "</table>\n",
       " </div><div> <p style='font-size: 1.3rem;'>init_state_mean</p> <style type=\"text/css\">\n",
       "</style>\n",
       "<table id=\"T_80760\">\n",
       "  <thead>\n",
       "    <tr>\n",
       "      <th id=\"T_80760_level0_col0\" class=\"col_heading level0 col0\" >state</th>\n",
       "      <th id=\"T_80760_level0_col1\" class=\"col_heading level0 col1\" >mean</th>\n",
       "    </tr>\n",
       "  </thead>\n",
       "  <tbody>\n",
       "    <tr>\n",
       "      <td id=\"T_80760_row0_col0\" class=\"data row0 col0\" >x_0</td>\n",
       "      <td id=\"T_80760_row0_col1\" class=\"data row0 col1\" >0.6314</td>\n",
       "    </tr>\n",
       "    <tr>\n",
       "      <td id=\"T_80760_row1_col0\" class=\"data row1 col0\" >x_1</td>\n",
       "      <td id=\"T_80760_row1_col1\" class=\"data row1 col1\" >0.9924</td>\n",
       "    </tr>\n",
       "    <tr>\n",
       "      <td id=\"T_80760_row2_col0\" class=\"data row2 col0\" >x_2</td>\n",
       "      <td id=\"T_80760_row2_col1\" class=\"data row2 col1\" >0.3158</td>\n",
       "    </tr>\n",
       "  </tbody>\n",
       "</table>\n",
       " </div><div> <p style='font-size: 1.3rem;'>init_state_cov</p> <style type=\"text/css\">\n",
       "</style>\n",
       "<table id=\"T_d456d\">\n",
       "  <thead>\n",
       "    <tr>\n",
       "      <th id=\"T_d456d_level0_col0\" class=\"col_heading level0 col0\" >state</th>\n",
       "      <th id=\"T_d456d_level0_col1\" class=\"col_heading level0 col1\" >x_0</th>\n",
       "      <th id=\"T_d456d_level0_col2\" class=\"col_heading level0 col2\" >x_1</th>\n",
       "      <th id=\"T_d456d_level0_col3\" class=\"col_heading level0 col3\" >x_2</th>\n",
       "    </tr>\n",
       "  </thead>\n",
       "  <tbody>\n",
       "    <tr>\n",
       "      <td id=\"T_d456d_row0_col0\" class=\"data row0 col0\" >x_0</td>\n",
       "      <td id=\"T_d456d_row0_col1\" class=\"data row0 col1\" >0.5125</td>\n",
       "      <td id=\"T_d456d_row0_col2\" class=\"data row0 col2\" >0.2180</td>\n",
       "      <td id=\"T_d456d_row0_col3\" class=\"data row0 col3\" >0.3987</td>\n",
       "    </tr>\n",
       "    <tr>\n",
       "      <td id=\"T_d456d_row1_col0\" class=\"data row1 col0\" >x_1</td>\n",
       "      <td id=\"T_d456d_row1_col1\" class=\"data row1 col1\" >0.2180</td>\n",
       "      <td id=\"T_d456d_row1_col2\" class=\"data row1 col2\" >0.5781</td>\n",
       "      <td id=\"T_d456d_row1_col3\" class=\"data row1 col3\" >0.3081</td>\n",
       "    </tr>\n",
       "    <tr>\n",
       "      <td id=\"T_d456d_row2_col0\" class=\"data row2 col0\" >x_2</td>\n",
       "      <td id=\"T_d456d_row2_col1\" class=\"data row2 col1\" >0.3987</td>\n",
       "      <td id=\"T_d456d_row2_col2\" class=\"data row2 col2\" >0.3081</td>\n",
       "      <td id=\"T_d456d_row2_col3\" class=\"data row2 col3\" >0.3524</td>\n",
       "    </tr>\n",
       "  </tbody>\n",
       "</table>\n",
       " </div></div>"
      ],
      "text/plain": [
       "Kalman Filter\n",
       "        N dim obs: 3, N dim state: 3, N dim contr: 6"
      ]
     },
     "execution_count": null,
     "metadata": {},
     "output_type": "execute_result"
    }
   ],
   "source": [
    "model"
   ]
  },
  {
   "cell_type": "code",
   "execution_count": null,
   "id": "cbbc44e6-3b50-4972-80b0-b3ff7b8e44b4",
   "metadata": {},
   "outputs": [],
   "source": [
    "model._predict_filter(*dls.one_batch()[0]);"
   ]
  },
  {
   "cell_type": "code",
   "execution_count": null,
   "id": "737a9f2a-ce54-42a3-8490-acb988138ed4",
   "metadata": {},
   "outputs": [],
   "source": [
    "#| export\n",
    "@patch\n",
    "def forward(self: KalmanFilter, meteo_data: MeteoImpTensor):\n",
    "    data, mask, control = meteo_data\n",
    "    assert not data.isnan().any()\n",
    "    use_smooth = self.use_smooth if hasattr(self, 'use_smooth') else True\n",
    "    \n",
    "    mean, std = (self.predict(obs=data, mask=mask, control=control, smooth=True) if use_smooth\n",
    "                        else self._predict_filter(data, mask, control))\n",
    "    return NormalsParams(mean, std) # to have fastai working this needs to be a tuple subclass"
   ]
  },
  {
   "cell_type": "code",
   "execution_count": null,
   "id": "f7ebde2f-19aa-4860-b665-b13865111506",
   "metadata": {},
   "outputs": [],
   "source": [
    "input = dls.one_batch()[0]\n",
    "target = dls.one_batch()[1]"
   ]
  },
  {
   "cell_type": "code",
   "execution_count": null,
   "id": "2d34397d-7720-4127-83d1-f5137c94af46",
   "metadata": {},
   "outputs": [
    {
     "data": {
      "text/plain": [
       "OrderedDict([('trans_matrix',\n",
       "              tensor([[0.9391, 0.5536, 0.3457],\n",
       "                      [0.0279, 0.0230, 0.3678],\n",
       "                      [0.7279, 0.2933, 0.8148]])),\n",
       "             ('trans_off', tensor([0.9163, 0.3011, 0.8537])),\n",
       "             ('trans_cov_raw',\n",
       "              tensor([[ 0.5302,  0.0000,  0.0000],\n",
       "                      [ 0.7541,  0.8282,  0.0000],\n",
       "                      [ 0.9023, -0.0484,  0.0508]])),\n",
       "             ('contr_matrix',\n",
       "              tensor([[0.3175, 0.1518, 0.9008, 0.5866, 0.6492, 0.8186],\n",
       "                      [0.9876, 0.2021, 0.2210, 0.3510, 0.0602, 0.2807],\n",
       "                      [0.5818, 0.9470, 0.1274, 0.8603, 0.9713, 0.8441]])),\n",
       "             ('obs_matrix',\n",
       "              tensor([[0.5088, 0.5328, 0.4943],\n",
       "                      [0.8335, 0.3526, 0.5773],\n",
       "                      [0.7732, 0.5858, 0.7828]])),\n",
       "             ('obs_off', tensor([0.4884, 0.7967, 0.1926])),\n",
       "             ('obs_cov_raw', tensor([ 0.6856, -0.5957, -0.1639])),\n",
       "             ('init_state_mean', tensor([0.6314, 0.9924, 0.3158])),\n",
       "             ('init_state_cov_raw',\n",
       "              tensor([[0.7159, 0.0000, 0.0000],\n",
       "                      [0.3045, 0.6967, 0.0000],\n",
       "                      [0.5570, 0.1988, 0.0507]]))])"
      ]
     },
     "execution_count": null,
     "metadata": {},
     "output_type": "execute_result"
    }
   ],
   "source": [
    "model.state_dict()"
   ]
  },
  {
   "cell_type": "code",
   "execution_count": null,
   "id": "5696c62a-e455-4d86-9f10-e00ea93671ac",
   "metadata": {},
   "outputs": [
    {
     "data": {
      "text/plain": [
       "torch.Size([200, 3])"
      ]
     },
     "execution_count": null,
     "metadata": {},
     "output_type": "execute_result"
    }
   ],
   "source": [
    "data = input[0][0]\n",
    "data.shape"
   ]
  },
  {
   "cell_type": "code",
   "execution_count": null,
   "id": "9d1bdfc9-2fa3-4627-94d8-0a9dda444203",
   "metadata": {},
   "outputs": [],
   "source": [
    "mask = input[1][0]\n",
    "control = input[2][0]"
   ]
  },
  {
   "cell_type": "code",
   "execution_count": null,
   "id": "ec17c709-bfaa-4a0e-a45d-c067671a809c",
   "metadata": {},
   "outputs": [
    {
     "data": {
      "text/plain": [
       "torch.Size([200, 3])"
      ]
     },
     "execution_count": null,
     "metadata": {},
     "output_type": "execute_result"
    }
   ],
   "source": [
    "mask.shape"
   ]
  },
  {
   "cell_type": "code",
   "execution_count": null,
   "id": "26934279-9c81-447b-8506-01b5abd7b72a",
   "metadata": {},
   "outputs": [
    {
     "data": {
      "text/plain": [
       "device(type='cpu')"
      ]
     },
     "execution_count": null,
     "metadata": {},
     "output_type": "execute_result"
    }
   ],
   "source": [
    "data.device"
   ]
  },
  {
   "cell_type": "code",
   "execution_count": null,
   "id": "83e3bbd9-8e03-440a-b13b-8b6aba7ba341",
   "metadata": {},
   "outputs": [
    {
     "data": {
      "text/plain": [
       "torch.device"
      ]
     },
     "execution_count": null,
     "metadata": {},
     "output_type": "execute_result"
    }
   ],
   "source": [
    "torch.device"
   ]
  },
  {
   "cell_type": "code",
   "execution_count": null,
   "id": "3b6b1ed8-048a-4755-8201-57eec8654cdb",
   "metadata": {},
   "outputs": [
    {
     "data": {
      "text/plain": [
       "(torch.Size([200, 3]), torch.Size([200, 3]))"
      ]
     },
     "execution_count": null,
     "metadata": {},
     "output_type": "execute_result"
    }
   ],
   "source": [
    "data.shape, mask.shape"
   ]
  },
  {
   "cell_type": "code",
   "execution_count": null,
   "id": "d3ba1aa7-ef52-4a85-b0c4-3763d621eb70",
   "metadata": {},
   "outputs": [],
   "source": [
    "model.predict(data.unsqueeze(0), mask.unsqueeze(0), control.unsqueeze(0));"
   ]
  },
  {
   "cell_type": "code",
   "execution_count": null,
   "id": "9ef72fbc-cdef-4146-b294-8fd261c0e2c4",
   "metadata": {},
   "outputs": [],
   "source": [
    "model.use_smooth = True"
   ]
  },
  {
   "cell_type": "code",
   "execution_count": null,
   "id": "5d690cd5-44a1-45d6-9abb-ef4fb0a62314",
   "metadata": {},
   "outputs": [],
   "source": [
    "pred = model(input)"
   ]
  },
  {
   "cell_type": "code",
   "execution_count": null,
   "id": "a7bc7df7-effd-41b0-bb90-6beaa874d1e1",
   "metadata": {},
   "outputs": [
    {
     "data": {
      "text/plain": [
       "torch.Size([10, 200, 3])"
      ]
     },
     "execution_count": null,
     "metadata": {},
     "output_type": "execute_result"
    }
   ],
   "source": [
    "pred[0].shape"
   ]
  },
  {
   "cell_type": "code",
   "execution_count": null,
   "id": "ed03f415-567f-47ab-b019-b7291cee03f0",
   "metadata": {},
   "outputs": [
    {
     "data": {
      "text/plain": [
       "torch.Size([10, 200, 3])"
      ]
     },
     "execution_count": null,
     "metadata": {},
     "output_type": "execute_result"
    }
   ],
   "source": [
    "pred[1].shape"
   ]
  },
  {
   "cell_type": "code",
   "execution_count": null,
   "id": "856e7d79-e0ab-4562-aa6b-bbb68e3928d0",
   "metadata": {},
   "outputs": [],
   "source": [
    "model.use_smooth = False"
   ]
  },
  {
   "cell_type": "code",
   "execution_count": null,
   "id": "f804c6a9-34d6-48de-a5fe-c99142f5c7d5",
   "metadata": {},
   "outputs": [],
   "source": [
    "pred_filt = model(input)"
   ]
  },
  {
   "cell_type": "code",
   "execution_count": null,
   "id": "844f78fa-d55b-42c7-a46d-28831f712e94",
   "metadata": {},
   "outputs": [
    {
     "data": {
      "text/plain": [
       "torch.Size([10, 200, 3])"
      ]
     },
     "execution_count": null,
     "metadata": {},
     "output_type": "execute_result"
    }
   ],
   "source": [
    "pred_filt[1].shape"
   ]
  },
  {
   "cell_type": "code",
   "execution_count": null,
   "id": "5e89cd79-45ce-44dc-b5e1-f46e120e9a13",
   "metadata": {},
   "outputs": [
    {
     "data": {
      "text/plain": [
       "__main__.NormalsParams(mean=tensor([[[ 5.1596e-01,  7.1284e-01,  1.3855e-01],\n",
       "         [ 1.0773e-01,  1.1314e-01, -5.0712e-01],\n",
       "         [ 1.2484e-01, -2.9545e-02, -5.7262e-01],\n",
       "         ...,\n",
       "         [-1.0866e-01, -2.5050e-01, -8.7040e-01],\n",
       "         [-1.9679e-01, -3.4501e-01, -9.7578e-01],\n",
       "         [-4.3683e-01, -6.0905e-01, -1.2948e+00]],\n",
       "\n",
       "        [[ 4.9505e-01,  6.9899e-01,  1.1453e-01],\n",
       "         [ 5.4908e-02,  3.1870e-02, -5.8979e-01],\n",
       "         [ 7.4404e-02, -1.1893e-01, -6.5941e-01],\n",
       "         ...,\n",
       "         [ 1.7742e-01, -6.4703e-02, -5.5673e-01],\n",
       "         [-3.2493e-02, -3.0333e-01, -8.5173e-01],\n",
       "         [-1.0747e+00, -1.5001e+00, -2.3289e+00]],\n",
       "\n",
       "        [[-1.3757e-02,  2.7349e-02, -6.3701e-01],\n",
       "         [-2.7642e-02,  1.0275e+00, -8.7452e-02],\n",
       "         [ 3.0773e-01,  1.4058e+00,  4.2087e-01],\n",
       "         ...,\n",
       "         [-1.3929e-01,  1.9456e+00,  2.6885e-01],\n",
       "         [ 1.7096e-01,  2.2404e+00,  6.3631e-01],\n",
       "         [ 1.7931e+00,  4.0201e+00,  2.8185e+00]],\n",
       "\n",
       "        ...,\n",
       "\n",
       "        [[ 3.4630e-01,  5.1659e-01, -9.8224e-02],\n",
       "         [-5.4852e-02, -4.7430e-02, -7.3116e-01],\n",
       "         [-4.5610e-02, -1.7381e-01, -7.9768e-01],\n",
       "         ...,\n",
       "         [ 6.2625e-02, -1.2184e-01, -6.7991e-01],\n",
       "         [-5.3006e-02, -2.5381e-01, -8.4202e-01],\n",
       "         [-6.5917e-01, -9.5585e-01, -1.7040e+00]],\n",
       "\n",
       "        [[-3.6322e-02,  4.5967e-02, -6.4618e-01],\n",
       "         [-2.6716e-01,  4.1672e-01, -5.8695e-01],\n",
       "         [-6.5470e-02,  4.1479e-01, -4.0368e-01],\n",
       "         ...,\n",
       "         [ 4.2745e-02, -1.3007e-01, -6.8170e-01],\n",
       "         [-6.2374e-02, -2.4963e-01, -8.3039e-01],\n",
       "         [-5.5381e-01, -8.2827e-01, -1.5393e+00]],\n",
       "\n",
       "        [[ 1.4180e-01,  2.4103e-01, -4.0311e-01],\n",
       "         [ 6.3336e-04, -7.4083e-03, -6.5961e-01],\n",
       "         [-1.3080e-01, -1.7252e-01, -8.4987e-01],\n",
       "         ...,\n",
       "         [-3.3539e-01, -3.6992e-01, -1.0928e+00],\n",
       "         [-3.1061e-01, -3.1487e-01, -1.0221e+00],\n",
       "         [ 5.0187e-02,  1.0960e-01, -4.8853e-01]]], grad_fn=<SqueezeBackward1>), std=tensor([[[1.4564, 0.8509, 1.0457],\n",
       "         [1.4647, 0.8531, 1.0595],\n",
       "         [1.4649, 0.8532, 1.0601],\n",
       "         ...,\n",
       "         [1.4649, 0.8533, 1.0602],\n",
       "         [1.4654, 0.8542, 1.0614],\n",
       "         [1.4776, 0.8813, 1.0946]],\n",
       "\n",
       "        [[1.4564, 0.8509, 1.0457],\n",
       "         [1.4647, 0.8531, 1.0595],\n",
       "         [1.4649, 0.8532, 1.0601],\n",
       "         ...,\n",
       "         [1.4649, 0.8533, 1.0602],\n",
       "         [1.4654, 0.8542, 1.0614],\n",
       "         [1.4776, 0.8813, 1.0946]],\n",
       "\n",
       "        [[1.4564, 0.8509, 1.0457],\n",
       "         [1.4647, 0.8531, 1.0595],\n",
       "         [1.4649, 0.8532, 1.0601],\n",
       "         ...,\n",
       "         [1.4649, 0.8533, 1.0602],\n",
       "         [1.4654, 0.8542, 1.0614],\n",
       "         [1.4776, 0.8813, 1.0946]],\n",
       "\n",
       "        ...,\n",
       "\n",
       "        [[1.4564, 0.8509, 1.0457],\n",
       "         [1.4647, 0.8531, 1.0595],\n",
       "         [1.4649, 0.8532, 1.0601],\n",
       "         ...,\n",
       "         [1.4649, 0.8533, 1.0602],\n",
       "         [1.4654, 0.8542, 1.0614],\n",
       "         [1.4776, 0.8813, 1.0946]],\n",
       "\n",
       "        [[1.4564, 0.8509, 1.0457],\n",
       "         [1.4647, 0.8531, 1.0595],\n",
       "         [1.4649, 0.8532, 1.0601],\n",
       "         ...,\n",
       "         [1.4649, 0.8533, 1.0602],\n",
       "         [1.4654, 0.8542, 1.0614],\n",
       "         [1.4776, 0.8813, 1.0946]],\n",
       "\n",
       "        [[1.4577, 0.8541, 1.0494],\n",
       "         [1.4968, 0.9225, 1.1450],\n",
       "         [1.4973, 0.9318, 1.1492],\n",
       "         ...,\n",
       "         [1.4649, 0.8533, 1.0602],\n",
       "         [1.4654, 0.8542, 1.0614],\n",
       "         [1.4776, 0.8813, 1.0946]]], grad_fn=<SqrtBackward0>))"
      ]
     },
     "execution_count": null,
     "metadata": {},
     "output_type": "execute_result"
    }
   ],
   "source": [
    "pred"
   ]
  },
  {
   "cell_type": "code",
   "execution_count": null,
   "id": "85d82759-dae4-4d48-a213-150c8fa3d8f2",
   "metadata": {},
   "outputs": [
    {
     "data": {
      "text/plain": [
       "(__main__.NormalsParams, __main__.NormalsParams)"
      ]
     },
     "execution_count": null,
     "metadata": {},
     "output_type": "execute_result"
    }
   ],
   "source": [
    "type(pred), type(pred_filt)"
   ]
  },
  {
   "cell_type": "code",
   "execution_count": null,
   "id": "65bab279-dc65-4259-bd1f-39b5c6028cb8",
   "metadata": {},
   "outputs": [],
   "source": [
    "test_ne(pred, pred_filt)"
   ]
  },
  {
   "cell_type": "markdown",
   "id": "2051bf57-a2e3-4232-861b-fafe814b1825",
   "metadata": {},
   "source": [
    "### Loss Function"
   ]
  },
  {
   "cell_type": "markdown",
   "id": "6e75817f-2abb-4e9f-b54a-edb7ea33dc1b",
   "metadata": {},
   "source": [
    "add support for complete loss (also outside gap) and for filter loss (don't run the smooher)"
   ]
  },
  {
   "cell_type": "markdown",
   "id": "c793e684-8ce9-4393-af4d-0268f3710b7a",
   "metadata": {},
   "source": [
    "There are two ways to compute the loss, one is to do it for all predictions the other is for doing it for only the gap\n",
    "- only_gap"
   ]
  },
  {
   "cell_type": "markdown",
   "id": "2b04cee3-9086-41cb-ac08-6b908626c587",
   "metadata": {},
   "source": [
    "Play around with flatting + diagonal"
   ]
  },
  {
   "cell_type": "code",
   "execution_count": null,
   "id": "559fc5e0-3554-4efa-89a7-08a6dd44f310",
   "metadata": {},
   "outputs": [
    {
     "data": {
      "text/plain": [
       "tensor([[[ 1,  0,  0],\n",
       "         [ 0,  2,  0],\n",
       "         [ 0,  0,  3]],\n",
       "\n",
       "        [[10,  0,  0],\n",
       "         [ 0, 20,  0],\n",
       "         [ 0,  0, 30]]])"
      ]
     },
     "execution_count": null,
     "metadata": {},
     "output_type": "execute_result"
    }
   ],
   "source": [
    "a = torch.diag(torch.tensor([1,2,3]))\n",
    "d = torch.stack([a, a*10])\n",
    "m = torch.stack([a.diag(), a.diag()*10])\n",
    "d"
   ]
  },
  {
   "cell_type": "code",
   "execution_count": null,
   "id": "773c90fa-3672-43a5-b7bf-2de9b068ebe3",
   "metadata": {},
   "outputs": [
    {
     "data": {
      "text/plain": [
       "tensor([ 1,  2,  3, 10, 20, 30])"
      ]
     },
     "execution_count": null,
     "metadata": {},
     "output_type": "execute_result"
    }
   ],
   "source": [
    "m.flatten()"
   ]
  },
  {
   "cell_type": "code",
   "execution_count": null,
   "id": "c5851886-313c-4eac-87a4-4684ff9c438f",
   "metadata": {},
   "outputs": [
    {
     "data": {
      "text/plain": [
       "tensor([[[ 1,  0,  0],\n",
       "         [ 0,  2,  0],\n",
       "         [ 0,  0,  3]],\n",
       "\n",
       "        [[10,  0,  0],\n",
       "         [ 0, 20,  0],\n",
       "         [ 0,  0, 30]]])"
      ]
     },
     "execution_count": null,
     "metadata": {},
     "output_type": "execute_result"
    }
   ],
   "source": [
    "d"
   ]
  },
  {
   "cell_type": "code",
   "execution_count": null,
   "id": "72af60ed-b471-47f3-90be-2be51eb18bb0",
   "metadata": {},
   "outputs": [
    {
     "data": {
      "text/plain": [
       "tensor([ 1,  2,  3, 10, 20, 30])"
      ]
     },
     "execution_count": null,
     "metadata": {},
     "output_type": "execute_result"
    }
   ],
   "source": [
    "torch.diagonal(d, dim1=1, dim2=2).flatten()"
   ]
  },
  {
   "cell_type": "code",
   "execution_count": null,
   "id": "09c58fef-a8d8-48b1-a837-335a67158ed4",
   "metadata": {},
   "outputs": [],
   "source": [
    "means, stds = pred\n",
    "data, mask, contr = target"
   ]
  },
  {
   "cell_type": "code",
   "execution_count": null,
   "id": "5a6bd159-499d-42b3-a8b2-9e54c98a8659",
   "metadata": {},
   "outputs": [
    {
     "data": {
      "text/plain": [
       "tensor(-5609.0015, grad_fn=<SubBackward0>)"
      ]
     },
     "execution_count": null,
     "metadata": {},
     "output_type": "execute_result"
    }
   ],
   "source": [
    "# make a big matrix with all variables and observations and compute ll\n",
    "mask = mask.flatten() \n",
    "obs = data.flatten()[mask]\n",
    "means = data.flatten()[mask]\n",
    "stds = stds.flatten()[mask] # need to support batches\n",
    "\n",
    "MultivariateNormal(means, torch.diag(stds)).log_prob(obs)"
   ]
  },
  {
   "cell_type": "code",
   "execution_count": null,
   "id": "28c38f87-5a72-42bd-847f-fb1e76ec7490",
   "metadata": {},
   "outputs": [],
   "source": [
    "#| export\n",
    "class KalmanLoss():\n",
    "    def __init__(self,\n",
    "                 only_gap:bool=True, # loss for all predictions or only gap\n",
    "                 reduction:str='mean' # one of ['sum', 'mean', 'none']\n",
    "                ):\n",
    "        store_attr()\n",
    "    \n",
    "    def __call__(self, pred: NormalsParams, target: MeteoImpTensor):\n",
    "        data, mask, contr = target\n",
    "        means, stds = pred        \n",
    "        assert not stds.isnan().any()\n",
    "        losses = torch.empty(data.shape[0], device=data.device, dtype=data.dtype)\n",
    "        for i, (d, m, mean, std) in enumerate(zip(data, mask, means, stds)):\n",
    "            losses[i] = self._loss_batch(d,m,mean, std)\n",
    "        if self.reduction == 'none': return losses\n",
    "        elif self.reduction == 'mean': return losses.mean()\n",
    "        elif self.reduction == 'sum': return losses.sum()\n",
    "    \n",
    "    def _loss_batch(self, data, mask, mean, std):\n",
    "        # make a big vector with all variables and observations and compute ll\n",
    "        mask = mask.flatten() if self.only_gap else torch.fill(mask, True).flatten()\n",
    "        obs = data.flatten()[mask]\n",
    "        mean = mean.flatten()[mask]\n",
    "        std = std.flatten()[mask] \n",
    "        \n",
    "        return - MultivariateNormal(mean, torch.diag(std)).log_prob(obs)\n",
    "        "
   ]
  },
  {
   "cell_type": "code",
   "execution_count": null,
   "id": "c8654b5f-bb61-416d-966c-3f798249eee6",
   "metadata": {},
   "outputs": [],
   "source": [
    "pred = model(input)"
   ]
  },
  {
   "cell_type": "code",
   "execution_count": null,
   "id": "42ef4ee6-3337-415e-9497-2c1acce5be35",
   "metadata": {},
   "outputs": [],
   "source": [
    "data, mask, contr = input"
   ]
  },
  {
   "cell_type": "code",
   "execution_count": null,
   "id": "7c8039ba-8807-47cb-9d7c-0ea119d01527",
   "metadata": {},
   "outputs": [
    {
     "data": {
      "text/plain": [
       "(torch.Size([10, 200, 3]), torch.Size([10, 200, 3]))"
      ]
     },
     "execution_count": null,
     "metadata": {},
     "output_type": "execute_result"
    }
   ],
   "source": [
    "data.shape, mask.shape"
   ]
  },
  {
   "cell_type": "code",
   "execution_count": null,
   "id": "17310899-b8a2-4cc5-bec8-4f7695eb2fd8",
   "metadata": {},
   "outputs": [
    {
     "data": {
      "text/plain": [
       "torch.Size([10, 200, 3])"
      ]
     },
     "execution_count": null,
     "metadata": {},
     "output_type": "execute_result"
    }
   ],
   "source": [
    "pred.mean.shape"
   ]
  },
  {
   "cell_type": "code",
   "execution_count": null,
   "id": "62e1cfdd-e80b-4ddc-9313-fd357c7ba7e2",
   "metadata": {},
   "outputs": [],
   "source": [
    "means, stds = pred"
   ]
  },
  {
   "cell_type": "code",
   "execution_count": null,
   "id": "3dcc340f-387f-4767-9ad5-10c40425e0b0",
   "metadata": {},
   "outputs": [
    {
     "data": {
      "text/plain": [
       "torch.Size([10, 200, 3])"
      ]
     },
     "execution_count": null,
     "metadata": {},
     "output_type": "execute_result"
    }
   ],
   "source": [
    "stds.shape"
   ]
  },
  {
   "cell_type": "code",
   "execution_count": null,
   "id": "43d3532f-a95e-437a-b90e-11ebb4bb2406",
   "metadata": {},
   "outputs": [
    {
     "data": {
      "text/plain": [
       "torch.Size([10, 200, 3])"
      ]
     },
     "execution_count": null,
     "metadata": {},
     "output_type": "execute_result"
    }
   ],
   "source": [
    "means.shape"
   ]
  },
  {
   "cell_type": "code",
   "execution_count": null,
   "id": "b41d785a-ba19-461e-b64d-cc7e12153cb6",
   "metadata": {},
   "outputs": [
    {
     "data": {
      "text/plain": [
       "tensor(False)"
      ]
     },
     "execution_count": null,
     "metadata": {},
     "output_type": "execute_result"
    }
   ],
   "source": [
    "data.isnan().any()"
   ]
  },
  {
   "cell_type": "code",
   "execution_count": null,
   "id": "08aa8d54-0c7a-47c0-8970-ecd4999ffd1e",
   "metadata": {},
   "outputs": [
    {
     "data": {
      "text/plain": [
       "tensor(False)"
      ]
     },
     "execution_count": null,
     "metadata": {},
     "output_type": "execute_result"
    }
   ],
   "source": [
    "mask.isnan().any()"
   ]
  },
  {
   "cell_type": "code",
   "execution_count": null,
   "id": "38b07b67-9543-4800-b566-949c542422bf",
   "metadata": {},
   "outputs": [
    {
     "data": {
      "text/plain": [
       "tensor(False)"
      ]
     },
     "execution_count": null,
     "metadata": {},
     "output_type": "execute_result"
    }
   ],
   "source": [
    "means.isnan().any()"
   ]
  },
  {
   "cell_type": "code",
   "execution_count": null,
   "id": "b473b2be-4392-4cb2-9575-1a7a057cdc1e",
   "metadata": {},
   "outputs": [
    {
     "data": {
      "text/plain": [
       "tensor(0)"
      ]
     },
     "execution_count": null,
     "metadata": {},
     "output_type": "execute_result"
    }
   ],
   "source": [
    "stds.isnan().sum()"
   ]
  },
  {
   "cell_type": "code",
   "execution_count": null,
   "id": "cb6d9dfc-1bb4-4c23-a291-d73cf9aefdfd",
   "metadata": {},
   "outputs": [
    {
     "data": {
      "text/plain": [
       "torch.Size([10, 200, 3])"
      ]
     },
     "execution_count": null,
     "metadata": {},
     "output_type": "execute_result"
    }
   ],
   "source": [
    "stds.shape"
   ]
  },
  {
   "cell_type": "code",
   "execution_count": null,
   "id": "51ea7a4b-b7b5-4182-abed-b5542cdaff48",
   "metadata": {},
   "outputs": [
    {
     "data": {
      "text/plain": [
       "(tensor(True),\n",
       " tensor([1.3168, 1.3168, 1.3168,  ..., 2.2295, 2.2295, 2.2295],\n",
       "        grad_fn=<LinalgEighBackward0>))"
      ]
     },
     "execution_count": null,
     "metadata": {},
     "output_type": "execute_result"
    }
   ],
   "source": [
    "is_posdef_eigv(torch.diag(stds.flatten()))"
   ]
  },
  {
   "cell_type": "code",
   "execution_count": null,
   "id": "72fa95ce-9fc1-4b61-855d-a27eb5ba4994",
   "metadata": {},
   "outputs": [
    {
     "data": {
      "text/plain": [
       "tensor(9653.2588, grad_fn=<MeanBackward0>)"
      ]
     },
     "execution_count": null,
     "metadata": {},
     "output_type": "execute_result"
    }
   ],
   "source": [
    "KalmanLoss(only_gap=True)(pred, target)"
   ]
  },
  {
   "cell_type": "code",
   "execution_count": null,
   "id": "83f8aae6-eb06-4772-a611-d62af0395ef3",
   "metadata": {},
   "outputs": [
    {
     "data": {
      "text/plain": [
       "tensor(9775.0840, grad_fn=<MeanBackward0>)"
      ]
     },
     "execution_count": null,
     "metadata": {},
     "output_type": "execute_result"
    }
   ],
   "source": [
    "KalmanLoss(only_gap=False)(pred, target)"
   ]
  },
  {
   "cell_type": "code",
   "execution_count": null,
   "id": "c6fa6718-c26b-48a0-bb7d-efedb0f40086",
   "metadata": {},
   "outputs": [
    {
     "data": {
      "text/plain": [
       "(device(type='cpu'), device(type='cpu'))"
      ]
     },
     "execution_count": null,
     "metadata": {},
     "output_type": "execute_result"
    }
   ],
   "source": [
    "pred.mean.device, target[0].device"
   ]
  },
  {
   "cell_type": "code",
   "execution_count": null,
   "id": "0004c085-0e0c-4914-b3fc-ed66a319d1a8",
   "metadata": {},
   "outputs": [
    {
     "data": {
      "text/plain": [
       "(torch.Size([10, 200, 3]), torch.Size([10, 200, 3]))"
      ]
     },
     "execution_count": null,
     "metadata": {},
     "output_type": "execute_result"
    }
   ],
   "source": [
    "pred.mean.shape, target[0].shape"
   ]
  },
  {
   "cell_type": "code",
   "execution_count": null,
   "id": "7a5c8b20-50f2-4a5a-b291-69e91f466480",
   "metadata": {},
   "outputs": [
    {
     "data": {
      "text/plain": [
       "torch.Size([10, 200, 3])"
      ]
     },
     "execution_count": null,
     "metadata": {},
     "output_type": "execute_result"
    }
   ],
   "source": [
    "target[0].shape"
   ]
  },
  {
   "cell_type": "code",
   "execution_count": null,
   "id": "b4ae234a-f1de-401b-9197-ffe5952d6ff0",
   "metadata": {},
   "outputs": [
    {
     "data": {
      "text/plain": [
       "tensor(9775.0840, grad_fn=<MeanBackward0>)"
      ]
     },
     "execution_count": null,
     "metadata": {},
     "output_type": "execute_result"
    }
   ],
   "source": [
    "KalmanLoss(only_gap=False, reduction='mean')(pred, target)"
   ]
  },
  {
   "cell_type": "markdown",
   "id": "dbc02d69-7930-47b8-9543-d07998f3baa6",
   "metadata": {},
   "source": [
    "### Metrics"
   ]
  },
  {
   "cell_type": "markdown",
   "id": "6b485cfe-5fce-449b-810c-1884990f103b",
   "metadata": {},
   "source": [
    "Wrapper around fastai metrics to support masked tensors and normal distributions"
   ]
  },
  {
   "cell_type": "code",
   "execution_count": null,
   "id": "dad52498-03b4-4aac-a8d6-bf7dc6f1cab1",
   "metadata": {},
   "outputs": [],
   "source": [
    "#| export\n",
    "def to_msk_metric(metric, name):\n",
    "    def msk_metric(imp, targ):\n",
    "        return metric(imp[0], targ[0]) # first element are the means\n",
    "    msk_metric.__name__ = name\n",
    "    return msk_metric"
   ]
  },
  {
   "cell_type": "code",
   "execution_count": null,
   "id": "6e28f7a2-436a-4e7a-9e76-0ae778015e95",
   "metadata": {},
   "outputs": [],
   "source": [
    "#| export\n",
    "from fastai.metrics import *"
   ]
  },
  {
   "cell_type": "code",
   "execution_count": null,
   "id": "2cf5ca04-9708-44ba-b030-b6a00618717b",
   "metadata": {},
   "outputs": [],
   "source": [
    "#| export\n",
    "msk_rmse = to_msk_metric(rmse, 'rmse')"
   ]
  },
  {
   "cell_type": "code",
   "execution_count": null,
   "id": "5f5aab4a-cde7-4bcb-b883-9c44c6b6e8ff",
   "metadata": {},
   "outputs": [
    {
     "data": {
      "text/plain": [
       "'rmse'"
      ]
     },
     "execution_count": null,
     "metadata": {},
     "output_type": "execute_result"
    }
   ],
   "source": [
    "msk_rmse.__name__"
   ]
  },
  {
   "cell_type": "code",
   "execution_count": null,
   "id": "974d85e7-c02c-4ebe-9d50-7fea96ab5815",
   "metadata": {},
   "outputs": [
    {
     "data": {
      "text/plain": [
       "TensorBase(7.5226)"
      ]
     },
     "execution_count": null,
     "metadata": {},
     "output_type": "execute_result"
    }
   ],
   "source": [
    "msk_rmse(pred, target)"
   ]
  },
  {
   "cell_type": "code",
   "execution_count": null,
   "id": "5a00fcc0-9561-4000-8ea5-71423671d4e4",
   "metadata": {},
   "outputs": [],
   "source": [
    "#| export\n",
    "msk_r2 = to_msk_metric(R2Score(), 'r2')"
   ]
  },
  {
   "cell_type": "code",
   "execution_count": null,
   "id": "a8003a5d-4c63-4174-acb9-75c00d063bac",
   "metadata": {},
   "outputs": [
    {
     "data": {
      "text/plain": [
       "-53.400350043787675"
      ]
     },
     "execution_count": null,
     "metadata": {},
     "output_type": "execute_result"
    }
   ],
   "source": [
    "msk_r2(pred, target)"
   ]
  },
  {
   "cell_type": "markdown",
   "id": "73470c88-47dc-4187-a208-789f24c23a3e",
   "metadata": {},
   "source": [
    "### Callback"
   ]
  },
  {
   "cell_type": "markdown",
   "id": "96c199ec-b21c-401d-bd3c-16670de8e372",
   "metadata": {},
   "source": [
    "save the model state "
   ]
  },
  {
   "cell_type": "code",
   "execution_count": null,
   "id": "c9f34e5c-1cf5-4c04-b7e0-89e2e33b9aa1",
   "metadata": {},
   "outputs": [],
   "source": [
    "#| export\n",
    "from fastai.callback.all import *"
   ]
  },
  {
   "cell_type": "code",
   "execution_count": null,
   "id": "c6bbe197-91eb-4fb2-ae15-f2d463914902",
   "metadata": {},
   "outputs": [],
   "source": [
    "#| export\n",
    "class SaveParams(Callback):\n",
    "    def __init__(self, param_name):\n",
    "        super().__init__()\n",
    "        self.params = []\n",
    "        self.param_name = param_name\n",
    "    def after_batch(self):\n",
    "        param = getattr(self.model, self.param_name).detach()\n",
    "        self.params.append(param)"
   ]
  },
  {
   "cell_type": "code",
   "execution_count": null,
   "id": "206b2efc-a26e-4ed7-b9a8-df1ce7a605b4",
   "metadata": {},
   "outputs": [],
   "source": [
    "#| export\n",
    "class SaveParams(Callback):\n",
    "    def __init__(self, param_name):\n",
    "        super().__init__()\n",
    "        self.params = []\n",
    "        self.param_name = param_name\n",
    "    def after_batch(self):\n",
    "        param = getattr(self.model, self.param_name).detach()\n",
    "        self.params.append(param)"
   ]
  },
  {
   "cell_type": "code",
   "execution_count": null,
   "id": "c2d2eb9e-eea2-40eb-918a-e8575cb20323",
   "metadata": {},
   "outputs": [],
   "source": [
    "debug_preds = []"
   ]
  },
  {
   "cell_type": "code",
   "execution_count": null,
   "id": "26d2f05f-fd23-4393-b5e8-f9800cc36f78",
   "metadata": {},
   "outputs": [],
   "source": [
    "class DebugPredCallback(Callback):\n",
    "    order = 0\n",
    "    def after_validate(self):\n",
    "        if hasattr(self, 'gather_preds'):\n",
    "            debug_preds.append(self.gather_preds.preds)"
   ]
  },
  {
   "cell_type": "markdown",
   "id": "99617495-ab91-4a00-8371-91011ba551ba",
   "metadata": {},
   "source": [
    "### Learner"
   ]
  },
  {
   "cell_type": "code",
   "execution_count": null,
   "id": "87ad92d0-4b9a-4f10-817d-c213366fe83a",
   "metadata": {},
   "outputs": [],
   "source": [
    "#| export\n",
    "from fastai.learner import * \n",
    "\n",
    "from fastai.tabular.all import *\n",
    "\n",
    "from fastai.tabular.learner import *\n",
    "\n",
    "from fastai.callback.progress import ShowGraphCallback"
   ]
  },
  {
   "cell_type": "code",
   "execution_count": null,
   "id": "8bb68031-bc19-4c2f-b82b-201939013bbc",
   "metadata": {},
   "outputs": [],
   "source": [
    "obs_cov_history = SaveParams('obs_cov')"
   ]
  },
  {
   "cell_type": "code",
   "execution_count": null,
   "id": "fdb75dd6-f0af-4c50-bc80-2436b28b4db3",
   "metadata": {},
   "outputs": [],
   "source": [
    "all_data = CollectDataCallback()"
   ]
  },
  {
   "cell_type": "code",
   "execution_count": null,
   "id": "25efc678-791b-4599-87d3-820ace3f7263",
   "metadata": {},
   "outputs": [],
   "source": [
    "model = KalmanFilter.init_random(n_dim_obs = hai.shape[1], n_dim_state = hai.shape[1], n_dim_contr = hai_era.shape[-1]*control_repeat).cuda()"
   ]
  },
  {
   "cell_type": "code",
   "execution_count": null,
   "id": "be28a411-098a-4788-9e98-6b455a43f296",
   "metadata": {},
   "outputs": [],
   "source": [
    "model.use_smooth = False"
   ]
  },
  {
   "cell_type": "code",
   "execution_count": null,
   "id": "cb235adb-78de-430e-8eb4-c279347e4045",
   "metadata": {},
   "outputs": [],
   "source": [
    "# model._set_constraint('obs_cov', model.obs_cov, train=False)"
   ]
  },
  {
   "cell_type": "code",
   "execution_count": null,
   "id": "2cfc46b8-3ffd-4080-92ad-ad52e3d4a9e9",
   "metadata": {},
   "outputs": [],
   "source": [
    "pipeline, block_ids = imp_pipeline(hai[:20000], hai_era, var_sel, gap_len, block_len, control_lags)\n",
    "    \n",
    "splits = RandomSplitter()(block_ids)\n",
    "ds = Datasets(block_ids, [pipeline, pipeline], splits=splits)"
   ]
  },
  {
   "cell_type": "code",
   "execution_count": null,
   "id": "84eb6fff-dbce-4d24-a796-558e03f9e306",
   "metadata": {},
   "outputs": [],
   "source": [
    "dls = ds.dataloaders(bs=10, device='cuda')"
   ]
  },
  {
   "cell_type": "code",
   "execution_count": null,
   "id": "db0f5e59-de01-4c9c-acc0-becfe69866a2",
   "metadata": {},
   "outputs": [
    {
     "data": {
      "text/plain": [
       "device(type='cuda', index=0)"
      ]
     },
     "execution_count": null,
     "metadata": {},
     "output_type": "execute_result"
    }
   ],
   "source": [
    "dls.one_batch()[0][0].device"
   ]
  },
  {
   "cell_type": "code",
   "execution_count": null,
   "id": "5b218c03-1a48-43a2-8822-7f6ee03cf7be",
   "metadata": {},
   "outputs": [],
   "source": [
    "input, target = dls.one_batch()"
   ]
  },
  {
   "cell_type": "code",
   "execution_count": null,
   "id": "e780d5ce-a904-4fc6-a60b-6ab6e28dc05e",
   "metadata": {},
   "outputs": [
    {
     "data": {
      "text/plain": [
       "tensor(224.0352, device='cuda:0', grad_fn=<MeanBackward0>)"
      ]
     },
     "execution_count": null,
     "metadata": {},
     "output_type": "execute_result"
    }
   ],
   "source": [
    "pred = model(input)\n",
    "KalmanLoss()(pred, target)"
   ]
  },
  {
   "cell_type": "code",
   "execution_count": null,
   "id": "c508264f-ca12-4f8f-93cc-9245fa84e7d9",
   "metadata": {},
   "outputs": [],
   "source": [
    "learn = Learner(dls, model, loss_func=KalmanLoss(only_gap=False), cbs = [DebugPredCallback] , metrics = [msk_rmse, msk_r2])"
   ]
  },
  {
   "cell_type": "code",
   "execution_count": null,
   "id": "eef1826f-78e6-4654-a92f-dca07b2ddb7e",
   "metadata": {},
   "outputs": [
    {
     "data": {
      "text/html": [
       "\n",
       "<style>\n",
       "    /* Turns off some styling */\n",
       "    progress {\n",
       "        /* gets rid of default border in Firefox and Opera. */\n",
       "        border: none;\n",
       "        /* Needs to be in here for Safari polyfill so background images work as expected. */\n",
       "        background-size: auto;\n",
       "    }\n",
       "    progress:not([value]), progress:not([value])::-webkit-progress-bar {\n",
       "        background: repeating-linear-gradient(45deg, #7e7e7e, #7e7e7e 10px, #5c5c5c 10px, #5c5c5c 20px);\n",
       "    }\n",
       "    .progress-bar-interrupted, .progress-bar-interrupted::-webkit-progress-bar {\n",
       "        background: #F44336;\n",
       "    }\n",
       "</style>\n"
      ],
      "text/plain": [
       "<IPython.core.display.HTML object>"
      ]
     },
     "metadata": {},
     "output_type": "display_data"
    },
    {
     "data": {
      "text/html": [
       "<table border=\"1\" class=\"dataframe\">\n",
       "  <thead>\n",
       "    <tr style=\"text-align: left;\">\n",
       "      <th>epoch</th>\n",
       "      <th>train_loss</th>\n",
       "      <th>valid_loss</th>\n",
       "      <th>rmse</th>\n",
       "      <th>r2</th>\n",
       "      <th>time</th>\n",
       "    </tr>\n",
       "  </thead>\n",
       "  <tbody>\n",
       "    <tr>\n",
       "      <td>0</td>\n",
       "      <td>144.527527</td>\n",
       "      <td>105.897293</td>\n",
       "      <td>3.277835</td>\n",
       "      <td>-12.640152</td>\n",
       "      <td>00:32</td>\n",
       "    </tr>\n",
       "  </tbody>\n",
       "</table>"
      ],
      "text/plain": [
       "<IPython.core.display.HTML object>"
      ]
     },
     "metadata": {},
     "output_type": "display_data"
    }
   ],
   "source": [
    "learn.fit(1, 1e-3)"
   ]
  },
  {
   "cell_type": "markdown",
   "id": "84002608-9491-4335-86fb-d40d3946f2ae",
   "metadata": {},
   "source": [
    "#### Float64"
   ]
  },
  {
   "cell_type": "code",
   "execution_count": null,
   "id": "69191be7-ac68-4616-8e4b-460fb786769f",
   "metadata": {},
   "outputs": [],
   "source": [
    "model64 = KalmanFilter.init_random(hai.shape[1], hai.shape[1], n_dim_contr = hai_era.shape[-1]*control_repeat, dtype=torch.float64).cuda()"
   ]
  },
  {
   "cell_type": "code",
   "execution_count": null,
   "id": "5bfcc6cf-a46d-4e69-a570-47adb86251d9",
   "metadata": {},
   "outputs": [],
   "source": [
    "#| export\n",
    "class Float64Callback(Callback):\n",
    "    order = Recorder.order + 10 # run after Recorder \n",
    "    def before_fit(self):\n",
    "        self.recorder.smooth_loss.val = torch.tensor(0, dtype=torch.float64) # default is a float 32"
   ]
  },
  {
   "cell_type": "code",
   "execution_count": null,
   "id": "69e1f814-b1f8-48e1-a098-e37234d4b451",
   "metadata": {},
   "outputs": [],
   "source": [
    "dls64 = imp_dataloader(hai64[:20000], hai_era64, var_sel = var_sel, block_len = 10, gap_len = 2, control_lags = [1], bs=10)"
   ]
  },
  {
   "cell_type": "code",
   "execution_count": null,
   "id": "a0142fdc-5c85-45d1-a13f-b2f0839b0636",
   "metadata": {},
   "outputs": [],
   "source": [
    "input64 = dls64.one_batch()[0]\n",
    "target64 = dls64.one_batch()[1]"
   ]
  },
  {
   "cell_type": "code",
   "execution_count": null,
   "id": "06e93c8b-f74d-4382-8fb2-54d83aec5fcb",
   "metadata": {},
   "outputs": [],
   "source": [
    "data64, mask64, contr64 = input64"
   ]
  },
  {
   "cell_type": "code",
   "execution_count": null,
   "id": "1cc98d35-4a67-496d-acc7-a9bd5d884a52",
   "metadata": {},
   "outputs": [
    {
     "data": {
      "text/plain": [
       "(torch.float64, torch.float64, torch.float64, device(type='cuda', index=0))"
      ]
     },
     "execution_count": null,
     "metadata": {},
     "output_type": "execute_result"
    }
   ],
   "source": [
    "data64.dtype, data64.dtype, contr64.dtype, data64.device"
   ]
  },
  {
   "cell_type": "code",
   "execution_count": null,
   "id": "59d35c5d-ce51-476d-85ce-8502ae6d17e6",
   "metadata": {},
   "outputs": [],
   "source": [
    "model64.predict(data64, mask64, contr64);"
   ]
  },
  {
   "cell_type": "code",
   "execution_count": null,
   "id": "30e0a335-4e18-42a1-a847-baacdab94ee5",
   "metadata": {},
   "outputs": [],
   "source": [
    "pred = model64(input64)"
   ]
  },
  {
   "cell_type": "code",
   "execution_count": null,
   "id": "4931c465-98fa-4a47-bd1d-4abc91cd739f",
   "metadata": {},
   "outputs": [
    {
     "data": {
      "text/plain": [
       "tensor(42.1110, device='cuda:0', grad_fn=<MeanBackward0>)"
      ]
     },
     "execution_count": null,
     "metadata": {},
     "output_type": "execute_result"
    }
   ],
   "source": [
    "KalmanLoss()(pred, target)"
   ]
  },
  {
   "cell_type": "code",
   "execution_count": null,
   "id": "ed760e90-eda7-40cb-99c6-9754b39076a7",
   "metadata": {},
   "outputs": [],
   "source": [
    "model64.use_smooth = False"
   ]
  },
  {
   "cell_type": "code",
   "execution_count": null,
   "id": "59fc2923-1419-4036-b05e-c73c34465bb6",
   "metadata": {},
   "outputs": [],
   "source": [
    "learn64 = Learner(dls64, model64, loss_func=KalmanLoss(), cbs = [Float64Callback] , metrics = [msk_rmse, msk_r2])"
   ]
  },
  {
   "cell_type": "code",
   "execution_count": null,
   "id": "8f8f50e9-133a-4dfe-966d-2c5650fa416a",
   "metadata": {},
   "outputs": [
    {
     "data": {
      "text/html": [
       "\n",
       "<style>\n",
       "    /* Turns off some styling */\n",
       "    progress {\n",
       "        /* gets rid of default border in Firefox and Opera. */\n",
       "        border: none;\n",
       "        /* Needs to be in here for Safari polyfill so background images work as expected. */\n",
       "        background-size: auto;\n",
       "    }\n",
       "    progress:not([value]), progress:not([value])::-webkit-progress-bar {\n",
       "        background: repeating-linear-gradient(45deg, #7e7e7e, #7e7e7e 10px, #5c5c5c 10px, #5c5c5c 20px);\n",
       "    }\n",
       "    .progress-bar-interrupted, .progress-bar-interrupted::-webkit-progress-bar {\n",
       "        background: #F44336;\n",
       "    }\n",
       "</style>\n"
      ],
      "text/plain": [
       "<IPython.core.display.HTML object>"
      ]
     },
     "metadata": {},
     "output_type": "display_data"
    },
    {
     "data": {
      "text/html": [
       "<table border=\"1\" class=\"dataframe\">\n",
       "  <thead>\n",
       "    <tr style=\"text-align: left;\">\n",
       "      <th>epoch</th>\n",
       "      <th>train_loss</th>\n",
       "      <th>valid_loss</th>\n",
       "      <th>rmse</th>\n",
       "      <th>r2</th>\n",
       "      <th>time</th>\n",
       "    </tr>\n",
       "  </thead>\n",
       "  <tbody>\n",
       "    <tr>\n",
       "      <td>0</td>\n",
       "      <td>106.521419</td>\n",
       "      <td>93.065904</td>\n",
       "      <td>3.063272</td>\n",
       "      <td>-9.799117</td>\n",
       "      <td>00:32</td>\n",
       "    </tr>\n",
       "  </tbody>\n",
       "</table>"
      ],
      "text/plain": [
       "<IPython.core.display.HTML object>"
      ]
     },
     "metadata": {},
     "output_type": "display_data"
    }
   ],
   "source": [
    "learn64.fit(1, 1e-3)"
   ]
  },
  {
   "cell_type": "markdown",
   "id": "748bb675-4e1a-4f1d-bf5b-b31bcf8d76e3",
   "metadata": {},
   "source": [
    "### Predictions"
   ]
  },
  {
   "cell_type": "markdown",
   "id": "6fd471c0-9266-4a63-bf13-e28742c3419c",
   "metadata": {},
   "source": [
    "The transformation pipeline is not working properly (there is a problem in `decode_batch` as the `_types` are more nested than the predictions, which results in an error) + the pipeline is anyway not reproducible + the test dataloaders seems that they are actually not deterministic .....\n",
    "soo reimplement everything almost from scratch\n",
    "\n",
    "see https://github.com/mone27/meteo_imp/blob/0335003405ec9bd3e3bd2641bc6d7924f34a0788/lib_nbs/kalman/10_fastai.ipynb for all details"
   ]
  },
  {
   "cell_type": "code",
   "execution_count": null,
   "id": "06b53296-e81d-463a-ab60-2150f99fc724",
   "metadata": {},
   "outputs": [],
   "source": [
    "#| export\n",
    "class NormalsDf:\n",
    "    \"\"\"DataFrames of Normal parameters (mean and std)\"\"\"\n",
    "    def __init__(self, mean, std): store_attr()\n",
    "    def tidy(self, prefix=\"\"):\n",
    "        \"\"\"Tidy version\"\"\"\n",
    "        mean = self.mean.reset_index().melt(\"time\", value_name=prefix + \"mean\")\n",
    "        std = self.std.reset_index().melt(\"time\", value_name=prefix + \"std\")\n",
    "        return pd.merge(mean, std, on=[\"time\", \"variable\"])\n",
    "    __repr__ = basic_repr(\"mean, std\")"
   ]
  },
  {
   "cell_type": "code",
   "execution_count": null,
   "id": "a43656a3-7307-4c46-a1dd-768dcc875137",
   "metadata": {},
   "outputs": [],
   "source": [
    "#| export\n",
    "from dominate.tags import *"
   ]
  },
  {
   "cell_type": "code",
   "execution_count": null,
   "id": "47006ac2-8cca-4141-80d2-e552f52c6d37",
   "metadata": {},
   "outputs": [],
   "source": [
    "#| export\n",
    "@patch\n",
    "def _repr_html_(self: Transform, as_str=True):\n",
    "    with div() as out:\n",
    "        p(strong(self.name))\n",
    "        p(repr(self.encodes))\n",
    "        p(repr(self.decodes))\n",
    "    out = str(out) if as_str else out\n",
    "    return out"
   ]
  },
  {
   "cell_type": "code",
   "execution_count": null,
   "id": "58fa359e-7abc-4605-81d6-c00a698f3307",
   "metadata": {},
   "outputs": [
    {
     "data": {
      "text/html": [
       "<div>\n",
       "  <p>\n",
       "    <strong>MeteoImpNormalize -- {'mean_data': tensor([  8.3339, 120.9578,   3.3807]), 'std_data': tensor([  7.9246, 204.0026,   4.3684]), 'mean_control': tensor([  8.1948, 120.6864,   3.3253,   8.1948, 120.6864,   3.3253]), 'std_control': tensor([  7.5459, 187.1730,   3.6871,   7.5459, 187.1730,   3.6871])}</strong>\n",
       "  </p>\n",
       "  <p>(MeteoImpTensor,object) -&gt; encodes\n",
       "</p>\n",
       "  <p>(MeteoImpTensor,object) -&gt; decodes\n",
       "(NormalsParams,object) -&gt; decodes\n",
       "</p>\n",
       "</div>"
      ],
      "text/plain": [
       "MeteoImpNormalize -- {'mean_data': tensor([  8.3339, 120.9578,   3.3807]), 'std_data': tensor([  7.9246, 204.0026,   4.3684]), 'mean_control': tensor([  8.1948, 120.6864,   3.3253,   8.1948, 120.6864,   3.3253]), 'std_control': tensor([  7.5459, 187.1730,   3.6871,   7.5459, 187.1730,   3.6871])}:\n",
       "encodes: (MeteoImpTensor,object) -> encodes\n",
       "decodes: (MeteoImpTensor,object) -> decodes\n",
       "(NormalsParams,object) -> decodes"
      ]
     },
     "execution_count": null,
     "metadata": {},
     "output_type": "execute_result"
    }
   ],
   "source": [
    "tfms5.fs[4]"
   ]
  },
  {
   "cell_type": "code",
   "execution_count": null,
   "id": "40dbea16-754e-4c9b-8736-bbcf4044779e",
   "metadata": {},
   "outputs": [],
   "source": [
    "#| export\n",
    "@patch\n",
    "def _repr_html_(self: TfmdLists):\n",
    "    with div() as out:\n",
    "        span(\"TfmdLists. Items:\")\n",
    "        pre(repr(self.items))\n",
    "        ol([li(f._repr_html_(as_str=False)) for f in self.fs], start=\"0\")\n",
    "    return str(out)"
   ]
  },
  {
   "cell_type": "code",
   "execution_count": null,
   "id": "a51638b1-2820-4642-a8ac-921a443b3558",
   "metadata": {},
   "outputs": [
    {
     "data": {
      "text/html": [
       "<div>\n",
       "  <span>TfmdLists. Items:</span>\n",
       "  <pre>[800, 801, 803]</pre>\n",
       "  <ol start=\"0\">\n",
       "    <li>\n",
       "      <div>\n",
       "        <p>\n",
       "          <strong>BlockIndexTransform</strong>\n",
       "        </p>\n",
       "        <p>(int,object) -&gt; encodes\n",
       "</p>\n",
       "        <p></p>\n",
       "      </div>\n",
       "    </li>\n",
       "    <li>\n",
       "      <div>\n",
       "        <p>\n",
       "          <strong>BlockDfTransform</strong>\n",
       "        </p>\n",
       "        <p>(DatetimeIndex,object) -&gt; encodes\n",
       "</p>\n",
       "        <p></p>\n",
       "      </div>\n",
       "    </li>\n",
       "    <li>\n",
       "      <div>\n",
       "        <p>\n",
       "          <strong>AddGapTransform -- {'variables': ['TA', 'SW_IN'], 'gap_length': 2}</strong>\n",
       "        </p>\n",
       "        <p>(DataControl,object) -&gt; encodes\n",
       "</p>\n",
       "        <p></p>\n",
       "      </div>\n",
       "    </li>\n",
       "    <li>\n",
       "      <div>\n",
       "        <p>\n",
       "          <strong>MeteoImpDf2Tensor</strong>\n",
       "        </p>\n",
       "        <p>(MeteoImpDf,object) -&gt; encodes\n",
       "</p>\n",
       "        <p></p>\n",
       "      </div>\n",
       "    </li>\n",
       "    <li>\n",
       "      <div>\n",
       "        <p>\n",
       "          <strong>MeteoImpNormalize -- {'mean_data': tensor([  8.3339, 120.9578,   3.3807]), 'std_data': tensor([  7.9246, 204.0026,   4.3684]), 'mean_control': tensor([  8.1948, 120.6864,   3.3253,   8.1948, 120.6864,   3.3253]), 'std_control': tensor([  7.5459, 187.1730,   3.6871,   7.5459, 187.1730,   3.6871])}</strong>\n",
       "        </p>\n",
       "        <p>(MeteoImpTensor,object) -&gt; encodes\n",
       "</p>\n",
       "        <p>(MeteoImpTensor,object) -&gt; decodes\n",
       "(NormalsParams,object) -&gt; decodes\n",
       "</p>\n",
       "      </div>\n",
       "    </li>\n",
       "    <li>\n",
       "      <div>\n",
       "        <p>\n",
       "          <strong>ToTuple</strong>\n",
       "        </p>\n",
       "        <p>(object,object) -&gt; encodes\n",
       "</p>\n",
       "        <p>(object,object) -&gt; decodes\n",
       "</p>\n",
       "      </div>\n",
       "    </li>\n",
       "  </ol>\n",
       "</div>"
      ],
      "text/plain": [
       "TfmdLists: [800, 801, 803]\n",
       "tfms - [BlockIndexTransform:\n",
       "encodes: (int,object) -> encodes\n",
       "decodes: , BlockDfTransform:\n",
       "encodes: (DatetimeIndex,object) -> encodes\n",
       "decodes: , AddGapTransform -- {'variables': ['TA', 'SW_IN'], 'gap_length': 2}:\n",
       "encodes: (DataControl,object) -> encodes\n",
       "decodes: , MeteoImpDf2Tensor:\n",
       "encodes: (MeteoImpDf,object) -> encodes\n",
       "decodes: , MeteoImpNormalize -- {'mean_data': tensor([  8.3339, 120.9578,   3.3807]), 'std_data': tensor([  7.9246, 204.0026,   4.3684]), 'mean_control': tensor([  8.1948, 120.6864,   3.3253,   8.1948, 120.6864,   3.3253]), 'std_control': tensor([  7.5459, 187.1730,   3.6871,   7.5459, 187.1730,   3.6871])}:\n",
       "encodes: (MeteoImpTensor,object) -> encodes\n",
       "decodes: (MeteoImpTensor,object) -> decodes\n",
       "(NormalsParams,object) -> decodes\n",
       ", ToTuple:\n",
       "encodes: (object,object) -> encodes\n",
       "decodes: (object,object) -> decodes\n",
       "]"
      ]
     },
     "execution_count": null,
     "metadata": {},
     "output_type": "execute_result"
    }
   ],
   "source": [
    "tfms5"
   ]
  },
  {
   "cell_type": "code",
   "execution_count": null,
   "id": "b4e97479-86d5-4198-932a-69c48568e6df",
   "metadata": {},
   "outputs": [
    {
     "data": {
      "text/plain": [
       "((#3) [BlockIndexTransform:\n",
       "encodes: (int,object) -> encodes\n",
       "decodes: ,BlockDfTransform:\n",
       "encodes: (DatetimeIndex,object) -> encodes\n",
       "decodes: ,AddGapTransform -- {'variables': ['TA', 'SW_IN'], 'gap_length': 2}:\n",
       "encodes: (DataControl,object) -> encodes\n",
       "decodes: ],\n",
       " (#2) [MeteoImpDf2Tensor:\n",
       "encodes: (MeteoImpDf,object) -> encodes\n",
       "decodes: ,MeteoImpNormalize -- {'mean_data': tensor([  8.3339, 120.9578,   3.3807]), 'std_data': tensor([  7.9246, 204.0026,   4.3684]), 'mean_control': tensor([  8.1948, 120.6864,   3.3253,   8.1948, 120.6864,   3.3253]), 'std_control': tensor([  7.5459, 187.1730,   3.6871,   7.5459, 187.1730,   3.6871])}:\n",
       "encodes: (MeteoImpTensor,object) -> encodes\n",
       "decodes: (MeteoImpTensor,object) -> decodes\n",
       "(NormalsParams,object) -> decodes\n",
       "])"
      ]
     },
     "execution_count": null,
     "metadata": {},
     "output_type": "execute_result"
    }
   ],
   "source": [
    "pipe0, pipe1 = tfms5.fs[0,1,2], tfms5.fs[3,4] \n",
    "\n",
    "pipe0, pipe1"
   ]
  },
  {
   "cell_type": "code",
   "execution_count": null,
   "id": "43fc7416-d6a1-4376-8d2b-1948b525fee1",
   "metadata": {},
   "outputs": [],
   "source": [
    "#| export\n",
    "def preds2df(preds, targs):\n",
    "    \"\"\"Final step to decode preds by getting a dataframe\"\"\"\n",
    "    # preds this is a tuple (data, mask)\n",
    "    out = []\n",
    "    for pred, targ in zip(preds, targs):\n",
    "        # convert to dataframe using structure for\n",
    "        mean = pd.DataFrame(pred[0].squeeze(0).detach().cpu().numpy(), columns = targ.data.columns, index=targ.data.index)\n",
    "        std = pd.DataFrame(pred[1].squeeze(0).detach().cpu().numpy(), columns = targ.data.columns, index=targ.data.index)\n",
    "        out.append(NormalsDf(mean, std))\n",
    "    return out"
   ]
  },
  {
   "cell_type": "code",
   "execution_count": null,
   "id": "b45a64ab-60b0-4f48-8df8-6ee40055ba14",
   "metadata": {},
   "outputs": [],
   "source": [
    "#| export\n",
    "def predict_items(items, learn, pipe0, pipe1):\n",
    "    pipe0, pipe1 = Pipeline(pipe0), Pipeline(pipe1)\n",
    "    preds, targs, losses = [], [], []\n",
    "    for item in items:\n",
    "        targ = pipe0(item)\n",
    "        data, mask, control = pipe1(targ)\n",
    "        input = MeteoImpTensor(data.cuda().unsqueeze(0), mask.cuda().unsqueeze(0), control.cuda().unsqueeze(0))\n",
    "        pred = learn.model(input)\n",
    "        loss = learn.loss_func(pred, input)\n",
    "        # denormalize\n",
    "        pred = pipe1.decode(pred)\n",
    "        preds.append(pred), targs.append(targ), losses.append(loss)\n",
    "        \n",
    "    return preds2df(preds, targs), targs, losses\n",
    "        "
   ]
  },
  {
   "cell_type": "code",
   "execution_count": null,
   "id": "b69146c1-1df0-407f-8746-5997f297b687",
   "metadata": {},
   "outputs": [],
   "source": [
    "preds, targs, losses = predict_items([0,1,3], learn, pipe0, pipe1)"
   ]
  },
  {
   "cell_type": "code",
   "execution_count": null,
   "id": "0b1c488f-cec4-41c0-985b-08ef798eb689",
   "metadata": {},
   "outputs": [
    {
     "data": {
      "text/html": [
       "<div>\n",
       "<style scoped>\n",
       "    .dataframe tbody tr th:only-of-type {\n",
       "        vertical-align: middle;\n",
       "    }\n",
       "\n",
       "    .dataframe tbody tr th {\n",
       "        vertical-align: top;\n",
       "    }\n",
       "\n",
       "    .dataframe thead th {\n",
       "        text-align: right;\n",
       "    }\n",
       "</style>\n",
       "<table border=\"1\" class=\"dataframe\">\n",
       "  <thead>\n",
       "    <tr style=\"text-align: right;\">\n",
       "      <th></th>\n",
       "      <th>TA</th>\n",
       "      <th>SW_IN</th>\n",
       "      <th>VPD</th>\n",
       "    </tr>\n",
       "    <tr>\n",
       "      <th>time</th>\n",
       "      <th></th>\n",
       "      <th></th>\n",
       "      <th></th>\n",
       "    </tr>\n",
       "  </thead>\n",
       "  <tbody>\n",
       "    <tr>\n",
       "      <th>2000-01-01 01:00:00</th>\n",
       "      <td>True</td>\n",
       "      <td>True</td>\n",
       "      <td>True</td>\n",
       "    </tr>\n",
       "    <tr>\n",
       "      <th>2000-01-01 01:30:00</th>\n",
       "      <td>True</td>\n",
       "      <td>True</td>\n",
       "      <td>True</td>\n",
       "    </tr>\n",
       "    <tr>\n",
       "      <th>2000-01-01 02:00:00</th>\n",
       "      <td>True</td>\n",
       "      <td>True</td>\n",
       "      <td>True</td>\n",
       "    </tr>\n",
       "    <tr>\n",
       "      <th>2000-01-01 02:30:00</th>\n",
       "      <td>True</td>\n",
       "      <td>True</td>\n",
       "      <td>True</td>\n",
       "    </tr>\n",
       "    <tr>\n",
       "      <th>2000-01-01 03:00:00</th>\n",
       "      <td>True</td>\n",
       "      <td>True</td>\n",
       "      <td>True</td>\n",
       "    </tr>\n",
       "    <tr>\n",
       "      <th>2000-01-01 03:30:00</th>\n",
       "      <td>True</td>\n",
       "      <td>True</td>\n",
       "      <td>True</td>\n",
       "    </tr>\n",
       "    <tr>\n",
       "      <th>2000-01-01 04:00:00</th>\n",
       "      <td>True</td>\n",
       "      <td>True</td>\n",
       "      <td>True</td>\n",
       "    </tr>\n",
       "    <tr>\n",
       "      <th>2000-01-01 04:30:00</th>\n",
       "      <td>True</td>\n",
       "      <td>True</td>\n",
       "      <td>True</td>\n",
       "    </tr>\n",
       "    <tr>\n",
       "      <th>2000-01-01 05:00:00</th>\n",
       "      <td>True</td>\n",
       "      <td>True</td>\n",
       "      <td>True</td>\n",
       "    </tr>\n",
       "    <tr>\n",
       "      <th>2000-01-01 05:30:00</th>\n",
       "      <td>True</td>\n",
       "      <td>True</td>\n",
       "      <td>True</td>\n",
       "    </tr>\n",
       "  </tbody>\n",
       "</table>\n",
       "</div>"
      ],
      "text/plain": [
       "                       TA  SW_IN   VPD\n",
       "time                                  \n",
       "2000-01-01 01:00:00  True   True  True\n",
       "2000-01-01 01:30:00  True   True  True\n",
       "2000-01-01 02:00:00  True   True  True\n",
       "2000-01-01 02:30:00  True   True  True\n",
       "2000-01-01 03:00:00  True   True  True\n",
       "2000-01-01 03:30:00  True   True  True\n",
       "2000-01-01 04:00:00  True   True  True\n",
       "2000-01-01 04:30:00  True   True  True\n",
       "2000-01-01 05:00:00  True   True  True\n",
       "2000-01-01 05:30:00  True   True  True"
      ]
     },
     "execution_count": null,
     "metadata": {},
     "output_type": "execute_result"
    }
   ],
   "source": [
    "predict_items([0], learn, pipe0, pipe1)[1][0].data == predict_items([0], learn, pipe0, pipe1)[1][0].data"
   ]
  },
  {
   "cell_type": "markdown",
   "id": "9a1606c2-ee54-46be-8f57-dd5173134605",
   "metadata": {},
   "source": [
    "#### Plot results"
   ]
  },
  {
   "cell_type": "code",
   "execution_count": null,
   "id": "7799bf37-003f-419a-a410-6e7b1c25719c",
   "metadata": {},
   "outputs": [],
   "source": [
    "#| export\n",
    "def plot_result(pred, targ, loss, **kwargs):\n",
    "    df = pd.merge(targ.tidy(), pred.tidy(), on=[\"time\", \"variable\"])\n",
    "    # return df\n",
    "    return facet_variable(df, ys=[\"value\", \"mean\"], error=True, **kwargs).properties(title=f\"loss: {loss.item():.6f}\")"
   ]
  },
  {
   "cell_type": "code",
   "execution_count": null,
   "id": "7881fd41-e876-42a1-ba94-bfc1efd18700",
   "metadata": {},
   "outputs": [],
   "source": [
    "y = \"mean\""
   ]
  },
  {
   "cell_type": "code",
   "execution_count": null,
   "id": "f4bd8f4e-a59e-4b1a-8e30-1cb2f0fab6f6",
   "metadata": {},
   "outputs": [
    {
     "data": {
      "text/html": [
       "\n",
       "<div id=\"altair-viz-34156d11a0a74194bb9c9bdc3feb7ffa\"></div>\n",
       "<script type=\"text/javascript\">\n",
       "  var VEGA_DEBUG = (typeof VEGA_DEBUG == \"undefined\") ? {} : VEGA_DEBUG;\n",
       "  (function(spec, embedOpt){\n",
       "    let outputDiv = document.currentScript.previousElementSibling;\n",
       "    if (outputDiv.id !== \"altair-viz-34156d11a0a74194bb9c9bdc3feb7ffa\") {\n",
       "      outputDiv = document.getElementById(\"altair-viz-34156d11a0a74194bb9c9bdc3feb7ffa\");\n",
       "    }\n",
       "    const paths = {\n",
       "      \"vega\": \"https://cdn.jsdelivr.net/npm//vega@5?noext\",\n",
       "      \"vega-lib\": \"https://cdn.jsdelivr.net/npm//vega-lib?noext\",\n",
       "      \"vega-lite\": \"https://cdn.jsdelivr.net/npm//vega-lite@5.2.0?noext\",\n",
       "      \"vega-embed\": \"https://cdn.jsdelivr.net/npm//vega-embed@6?noext\",\n",
       "    };\n",
       "\n",
       "    function maybeLoadScript(lib, version) {\n",
       "      var key = `${lib.replace(\"-\", \"\")}_version`;\n",
       "      return (VEGA_DEBUG[key] == version) ?\n",
       "        Promise.resolve(paths[lib]) :\n",
       "        new Promise(function(resolve, reject) {\n",
       "          var s = document.createElement('script');\n",
       "          document.getElementsByTagName(\"head\")[0].appendChild(s);\n",
       "          s.async = true;\n",
       "          s.onload = () => {\n",
       "            VEGA_DEBUG[key] = version;\n",
       "            return resolve(paths[lib]);\n",
       "          };\n",
       "          s.onerror = () => reject(`Error loading script: ${paths[lib]}`);\n",
       "          s.src = paths[lib];\n",
       "        });\n",
       "    }\n",
       "\n",
       "    function showError(err) {\n",
       "      outputDiv.innerHTML = `<div class=\"error\" style=\"color:red;\">${err}</div>`;\n",
       "      throw err;\n",
       "    }\n",
       "\n",
       "    function displayChart(vegaEmbed) {\n",
       "      vegaEmbed(outputDiv, spec, embedOpt)\n",
       "        .catch(err => showError(`Javascript Error: ${err.message}<br>This usually means there's a typo in your chart specification. See the javascript console for the full traceback.`));\n",
       "    }\n",
       "\n",
       "    if(typeof define === \"function\" && define.amd) {\n",
       "      requirejs.config({paths});\n",
       "      require([\"vega-embed\"], displayChart, err => showError(`Error loading script: ${err.message}`));\n",
       "    } else {\n",
       "      maybeLoadScript(\"vega\", \"5\")\n",
       "        .then(() => maybeLoadScript(\"vega-lite\", \"5.2.0\"))\n",
       "        .then(() => maybeLoadScript(\"vega-embed\", \"6\"))\n",
       "        .catch(showError)\n",
       "        .then(() => displayChart(vegaEmbed));\n",
       "    }\n",
       "  })({\"config\": {\"view\": {\"continuousWidth\": 400, \"continuousHeight\": 300}}, \"vconcat\": [{\"hconcat\": [{\"layer\": [{\"data\": {\"name\": \"data-fcf60668c8ffa90397ac95a5a3d45e82\"}, \"mark\": {\"type\": \"point\", \"color\": \"black\", \"fillOpacity\": 1, \"strokeWidth\": 1}, \"encoding\": {\"fill\": {\"field\": \"is_present\", \"legend\": {\"title\": [\"Observed data\"]}, \"scale\": {\"range\": [\"black\", \"#ffffff00\"]}, \"type\": \"nominal\"}, \"shape\": {\"field\": \"is_present\", \"type\": \"nominal\"}, \"x\": {\"axis\": {\"domain\": true, \"labels\": true, \"ticks\": true, \"title\": \"time\"}, \"field\": \"time\", \"type\": \"temporal\"}, \"y\": {\"field\": \"value\", \"scale\": {\"zero\": false}, \"title\": \"TA\", \"type\": \"quantitative\"}}}, {\"layer\": [{\"mark\": \"rule\", \"encoding\": {\"x\": {\"axis\": {\"domain\": false, \"labels\": false, \"ticks\": false, \"title\": null}, \"field\": \"gap_start\", \"type\": \"temporal\"}}}, {\"mark\": \"rule\", \"encoding\": {\"x\": {\"axis\": {\"domain\": false, \"labels\": false, \"ticks\": false, \"title\": null}, \"field\": \"gap_end\", \"type\": \"temporal\"}}}, {\"mark\": {\"type\": \"rect\", \"color\": \"black\", \"opacity\": 0.2}, \"encoding\": {\"x\": {\"axis\": {\"domain\": false, \"labels\": false, \"ticks\": false, \"title\": null}, \"field\": \"gap_start\", \"type\": \"temporal\"}, \"x2\": {\"field\": \"gap_end\"}}}], \"data\": {\"name\": \"data-34eac91d2688565214968a36dc4c99e5\"}}, {\"layer\": [{\"mark\": \"errorband\", \"encoding\": {\"color\": {\"field\": \"variable\", \"legend\": {\"title\": [\"Line: pred. mean\", \"area: +/- 2 std\"]}, \"type\": \"nominal\"}, \"x\": {\"field\": \"time\", \"type\": \"temporal\"}, \"y\": {\"field\": \"err_low\", \"scale\": {\"zero\": false}, \"title\": \"TA\", \"type\": \"quantitative\"}, \"y2\": {\"field\": \"err_high\"}}, \"name\": \"view_12\"}, {\"mark\": \"line\", \"encoding\": {\"color\": {\"field\": \"variable\", \"type\": \"nominal\"}, \"x\": {\"field\": \"time\", \"type\": \"temporal\"}, \"y\": {\"field\": \"mean\", \"scale\": {\"zero\": false}, \"title\": \"TA\", \"type\": \"quantitative\"}}}], \"data\": {\"name\": \"data-fcf60668c8ffa90397ac95a5a3d45e82\"}}], \"height\": 150, \"title\": \"TA\", \"width\": 200}, {\"layer\": [{\"data\": {\"name\": \"data-1f7e19f1ca88163c232c1342cb272274\"}, \"mark\": {\"type\": \"point\", \"color\": \"black\", \"fillOpacity\": 1, \"strokeWidth\": 1}, \"encoding\": {\"fill\": {\"field\": \"is_present\", \"legend\": {\"title\": [\"Observed data\"]}, \"scale\": {\"range\": [\"black\", \"#ffffff00\"]}, \"type\": \"nominal\"}, \"shape\": {\"field\": \"is_present\", \"type\": \"nominal\"}, \"x\": {\"axis\": {\"domain\": true, \"labels\": true, \"ticks\": true, \"title\": \"time\"}, \"field\": \"time\", \"type\": \"temporal\"}, \"y\": {\"field\": \"value\", \"scale\": {\"zero\": false}, \"title\": \"SW_IN\", \"type\": \"quantitative\"}}}, {\"layer\": [{\"mark\": \"rule\", \"encoding\": {\"x\": {\"axis\": {\"domain\": false, \"labels\": false, \"ticks\": false, \"title\": null}, \"field\": \"gap_start\", \"type\": \"temporal\"}}}, {\"mark\": \"rule\", \"encoding\": {\"x\": {\"axis\": {\"domain\": false, \"labels\": false, \"ticks\": false, \"title\": null}, \"field\": \"gap_end\", \"type\": \"temporal\"}}}, {\"mark\": {\"type\": \"rect\", \"color\": \"black\", \"opacity\": 0.2}, \"encoding\": {\"x\": {\"axis\": {\"domain\": false, \"labels\": false, \"ticks\": false, \"title\": null}, \"field\": \"gap_start\", \"type\": \"temporal\"}, \"x2\": {\"field\": \"gap_end\"}}}], \"data\": {\"name\": \"data-34eac91d2688565214968a36dc4c99e5\"}}, {\"layer\": [{\"mark\": \"errorband\", \"encoding\": {\"color\": {\"field\": \"variable\", \"legend\": {\"title\": [\"Line: pred. mean\", \"area: +/- 2 std\"]}, \"type\": \"nominal\"}, \"x\": {\"field\": \"time\", \"type\": \"temporal\"}, \"y\": {\"field\": \"err_low\", \"scale\": {\"zero\": false}, \"title\": \"SW_IN\", \"type\": \"quantitative\"}, \"y2\": {\"field\": \"err_high\"}}, \"name\": \"view_13\"}, {\"mark\": \"line\", \"encoding\": {\"color\": {\"field\": \"variable\", \"type\": \"nominal\"}, \"x\": {\"field\": \"time\", \"type\": \"temporal\"}, \"y\": {\"field\": \"mean\", \"scale\": {\"zero\": false}, \"title\": \"SW_IN\", \"type\": \"quantitative\"}}}], \"data\": {\"name\": \"data-1f7e19f1ca88163c232c1342cb272274\"}}], \"height\": 150, \"title\": \"SW_IN\", \"width\": 200}, {\"layer\": [{\"mark\": {\"type\": \"point\", \"color\": \"black\", \"fillOpacity\": 1, \"strokeWidth\": 1}, \"encoding\": {\"fill\": {\"field\": \"is_present\", \"legend\": {\"title\": [\"Observed data\"]}, \"scale\": {\"range\": [\"black\", \"#ffffff00\"]}, \"type\": \"nominal\"}, \"shape\": {\"field\": \"is_present\", \"type\": \"nominal\"}, \"x\": {\"axis\": {\"domain\": true, \"labels\": true, \"ticks\": true, \"title\": \"time\"}, \"field\": \"time\", \"type\": \"temporal\"}, \"y\": {\"field\": \"value\", \"scale\": {\"zero\": false}, \"title\": \"VPD\", \"type\": \"quantitative\"}}}, {\"layer\": [{\"mark\": \"errorband\", \"encoding\": {\"color\": {\"field\": \"variable\", \"legend\": {\"title\": [\"Line: pred. mean\", \"area: +/- 2 std\"]}, \"type\": \"nominal\"}, \"x\": {\"field\": \"time\", \"type\": \"temporal\"}, \"y\": {\"field\": \"err_low\", \"scale\": {\"zero\": false}, \"title\": \"VPD\", \"type\": \"quantitative\"}, \"y2\": {\"field\": \"err_high\"}}, \"name\": \"view_14\"}, {\"mark\": \"line\", \"encoding\": {\"color\": {\"field\": \"variable\", \"type\": \"nominal\"}, \"x\": {\"field\": \"time\", \"type\": \"temporal\"}, \"y\": {\"field\": \"mean\", \"scale\": {\"zero\": false}, \"title\": \"VPD\", \"type\": \"quantitative\"}}}]}], \"data\": {\"name\": \"data-3c77f044ea8c9efed57c1e0b2fb37590\"}, \"height\": 150, \"title\": \"VPD\", \"width\": 200}]}], \"params\": [{\"name\": \"param_19\", \"select\": {\"type\": \"interval\", \"encodings\": [\"x\"]}, \"bind\": \"scales\", \"views\": [\"view_12\", \"view_13\", \"view_14\"]}], \"title\": \"loss: 1.000000\", \"$schema\": \"https://vega.github.io/schema/vega-lite/v5.2.0.json\", \"datasets\": {\"data-fcf60668c8ffa90397ac95a5a3d45e82\": [{\"time\": \"2000-01-01T01:00:00\", \"variable\": \"TA\", \"value\": -0.6499999761581421, \"is_present\": true, \"mean\": 10.728489875793457, \"std\": 10.931611061096191, \"err_low\": -11.134732246398926, \"err_high\": 32.591712951660156}, {\"time\": \"2000-01-01T01:30:00\", \"variable\": \"TA\", \"value\": -0.5799999833106995, \"is_present\": true, \"mean\": -14.516134262084961, \"std\": 13.604239463806152, \"err_low\": -41.724613189697266, \"err_high\": 12.692344665527344}, {\"time\": \"2000-01-01T02:00:00\", \"variable\": \"TA\", \"value\": -0.5099999904632568, \"is_present\": true, \"mean\": -19.929475784301758, \"std\": 13.93571662902832, \"err_low\": -47.80091094970703, \"err_high\": 7.941957473754883}, {\"time\": \"2000-01-01T02:30:00\", \"variable\": \"TA\", \"value\": -0.49000000953674316, \"is_present\": true, \"mean\": -20.435970306396484, \"std\": 13.935152053833008, \"err_low\": -48.3062744140625, \"err_high\": 7.434333801269531}, {\"time\": \"2000-01-01T03:00:00\", \"variable\": \"TA\", \"value\": -0.4000000059604645, \"is_present\": false, \"mean\": -20.63099479675293, \"std\": 13.935222625732422, \"err_low\": -48.501441955566406, \"err_high\": 7.239450454711914}, {\"time\": \"2000-01-01T03:30:00\", \"variable\": \"TA\", \"value\": -0.36000001430511475, \"is_present\": false, \"mean\": -21.162038803100586, \"std\": 14.129355430603027, \"err_low\": -49.42074966430664, \"err_high\": 7.096672058105469}, {\"time\": \"2000-01-01T04:00:00\", \"variable\": \"TA\", \"value\": -0.3499999940395355, \"is_present\": true, \"mean\": -21.243896484375, \"std\": 14.130232810974121, \"err_low\": -49.504364013671875, \"err_high\": 7.016569137573242}, {\"time\": \"2000-01-01T04:30:00\", \"variable\": \"TA\", \"value\": -0.2800000011920929, \"is_present\": true, \"mean\": -20.658748626708984, \"std\": 13.935447692871094, \"err_low\": -48.52964401245117, \"err_high\": 7.212146759033203}, {\"time\": \"2000-01-01T05:00:00\", \"variable\": \"TA\", \"value\": -0.27000001072883606, \"is_present\": true, \"mean\": -20.57819938659668, \"std\": 13.93517017364502, \"err_low\": -48.44853973388672, \"err_high\": 7.292140960693359}, {\"time\": \"2000-01-01T05:30:00\", \"variable\": \"TA\", \"value\": -0.23000000417232513, \"is_present\": true, \"mean\": -20.47052001953125, \"std\": 13.935162544250488, \"err_low\": -48.340843200683594, \"err_high\": 7.399805068969727}], \"data-34eac91d2688565214968a36dc4c99e5\": [{\"gap_start\": \"2000-01-01T03:00:00\", \"gap_end\": \"2000-01-01T03:30:00\"}], \"data-1f7e19f1ca88163c232c1342cb272274\": [{\"time\": \"2000-01-01T01:00:00\", \"variable\": \"SW_IN\", \"value\": 0.0, \"is_present\": true, \"mean\": 272.2605285644531, \"std\": 175.68890380859375, \"err_low\": -79.11727905273438, \"err_high\": 623.6383056640625}, {\"time\": \"2000-01-01T01:30:00\", \"variable\": \"SW_IN\", \"value\": 0.0, \"is_present\": true, \"mean\": 93.6265869140625, \"std\": 183.7314910888672, \"err_low\": -273.8363952636719, \"err_high\": 461.0895690917969}, {\"time\": \"2000-01-01T02:00:00\", \"variable\": \"SW_IN\", \"value\": 0.0, \"is_present\": true, \"mean\": 40.16035461425781, \"std\": 184.66268920898438, \"err_low\": -329.1650390625, \"err_high\": 409.4857177734375}, {\"time\": \"2000-01-01T02:30:00\", \"variable\": \"SW_IN\", \"value\": 0.0, \"is_present\": true, \"mean\": 24.933395385742188, \"std\": 184.61181640625, \"err_low\": -344.29022216796875, \"err_high\": 394.15704345703125}, {\"time\": \"2000-01-01T03:00:00\", \"variable\": \"SW_IN\", \"value\": 0.0, \"is_present\": false, \"mean\": 17.09869384765625, \"std\": 184.5958251953125, \"err_low\": -352.09295654296875, \"err_high\": 386.29034423828125}, {\"time\": \"2000-01-01T03:30:00\", \"variable\": \"SW_IN\", \"value\": 0.0, \"is_present\": false, \"mean\": 11.164566040039062, \"std\": 184.89866638183594, \"err_low\": -358.63275146484375, \"err_high\": 380.9619140625}, {\"time\": \"2000-01-01T04:00:00\", \"variable\": \"SW_IN\", \"value\": 0.0, \"is_present\": true, \"mean\": 8.794990539550781, \"std\": 184.89634704589844, \"err_low\": -360.9977111816406, \"err_high\": 378.5876770019531}, {\"time\": \"2000-01-01T04:30:00\", \"variable\": \"SW_IN\", \"value\": 0.0, \"is_present\": true, \"mean\": 10.114295959472656, \"std\": 184.58885192871094, \"err_low\": -359.06341552734375, \"err_high\": 379.2919921875}, {\"time\": \"2000-01-01T05:00:00\", \"variable\": \"SW_IN\", \"value\": 0.0, \"is_present\": true, \"mean\": 10.080131530761719, \"std\": 184.58831787109375, \"err_low\": -359.09649658203125, \"err_high\": 379.25677490234375}, {\"time\": \"2000-01-01T05:30:00\", \"variable\": \"SW_IN\", \"value\": 0.0, \"is_present\": true, \"mean\": 10.512908935546875, \"std\": 184.5875701904297, \"err_low\": -358.6622314453125, \"err_high\": 379.68804931640625}], \"data-3c77f044ea8c9efed57c1e0b2fb37590\": [{\"time\": \"2000-01-01T01:00:00\", \"variable\": \"VPD\", \"value\": 0.12200000137090683, \"is_present\": true, \"mean\": 4.495111465454102, \"std\": 9.134310722351074, \"err_low\": -13.773509979248047, \"err_high\": 22.76373291015625}, {\"time\": \"2000-01-01T01:30:00\", \"variable\": \"VPD\", \"value\": 0.09000000357627869, \"is_present\": true, \"mean\": -19.23055076599121, \"std\": 13.173904418945312, \"err_low\": -45.57836151123047, \"err_high\": 7.117258071899414}, {\"time\": \"2000-01-01T02:00:00\", \"variable\": \"VPD\", \"value\": 0.10999999940395355, \"is_present\": true, \"mean\": -22.652454376220703, \"std\": 13.420905113220215, \"err_low\": -49.4942626953125, \"err_high\": 4.189355850219727}, {\"time\": \"2000-01-01T02:30:00\", \"variable\": \"VPD\", \"value\": 0.10199999809265137, \"is_present\": true, \"mean\": -22.04205894470215, \"std\": 13.417320251464844, \"err_low\": -48.87670135498047, \"err_high\": 4.792581558227539}, {\"time\": \"2000-01-01T03:00:00\", \"variable\": \"VPD\", \"value\": 0.11100000143051147, \"is_present\": true, \"mean\": -21.59622573852539, \"std\": 13.416123390197754, \"err_low\": -48.42847442626953, \"err_high\": 5.236021041870117}, {\"time\": \"2000-01-01T03:30:00\", \"variable\": \"VPD\", \"value\": 0.10899999737739563, \"is_present\": true, \"mean\": -21.858312606811523, \"std\": 13.67049503326416, \"err_low\": -49.199302673339844, \"err_high\": 5.482677459716797}, {\"time\": \"2000-01-01T04:00:00\", \"variable\": \"VPD\", \"value\": 0.10700000077486038, \"is_present\": true, \"mean\": -21.750974655151367, \"std\": 13.67363452911377, \"err_low\": -49.098243713378906, \"err_high\": 5.596294403076172}, {\"time\": \"2000-01-01T04:30:00\", \"variable\": \"VPD\", \"value\": 0.12200000137090683, \"is_present\": true, \"mean\": -20.954498291015625, \"std\": 13.417547225952148, \"err_low\": -47.78959274291992, \"err_high\": 5.880596160888672}, {\"time\": \"2000-01-01T05:00:00\", \"variable\": \"VPD\", \"value\": 0.1379999965429306, \"is_present\": true, \"mean\": -20.811819076538086, \"std\": 13.415922164916992, \"err_low\": -47.64366149902344, \"err_high\": 6.020025253295898}, {\"time\": \"2000-01-01T05:30:00\", \"variable\": \"VPD\", \"value\": 0.1379999965429306, \"is_present\": true, \"mean\": -20.685779571533203, \"std\": 13.415740013122559, \"err_low\": -47.51725769042969, \"err_high\": 6.145700454711914}]}}, {\"mode\": \"vega-lite\"});\n",
       "</script>"
      ],
      "text/plain": [
       "alt.VConcatChart(...)"
      ]
     },
     "execution_count": null,
     "metadata": {},
     "output_type": "execute_result"
    }
   ],
   "source": [
    "plot_result(preds[0], targs[0], torch.tensor(1))"
   ]
  },
  {
   "cell_type": "code",
   "execution_count": null,
   "id": "15082351-51f0-4139-9426-4ae2c64a94cb",
   "metadata": {},
   "outputs": [],
   "source": [
    "#| export\n",
    "def plot_results(preds, targs, losses, **kwargs):\n",
    "    plots = [plot_result(targ, pred, loss, n_cols=1, **kwargs) for targ, pred, loss in zip(preds, targs, losses)]\n",
    "    return alt.hconcat(*plots)"
   ]
  },
  {
   "cell_type": "code",
   "execution_count": null,
   "id": "6eb4485c-8e03-437e-8ed5-bc61a5c170af",
   "metadata": {},
   "outputs": [
    {
     "data": {
      "text/html": [
       "\n",
       "<div id=\"altair-viz-3da12350fa58403ba1d37801d4d93640\"></div>\n",
       "<script type=\"text/javascript\">\n",
       "  var VEGA_DEBUG = (typeof VEGA_DEBUG == \"undefined\") ? {} : VEGA_DEBUG;\n",
       "  (function(spec, embedOpt){\n",
       "    let outputDiv = document.currentScript.previousElementSibling;\n",
       "    if (outputDiv.id !== \"altair-viz-3da12350fa58403ba1d37801d4d93640\") {\n",
       "      outputDiv = document.getElementById(\"altair-viz-3da12350fa58403ba1d37801d4d93640\");\n",
       "    }\n",
       "    const paths = {\n",
       "      \"vega\": \"https://cdn.jsdelivr.net/npm//vega@5?noext\",\n",
       "      \"vega-lib\": \"https://cdn.jsdelivr.net/npm//vega-lib?noext\",\n",
       "      \"vega-lite\": \"https://cdn.jsdelivr.net/npm//vega-lite@5.2.0?noext\",\n",
       "      \"vega-embed\": \"https://cdn.jsdelivr.net/npm//vega-embed@6?noext\",\n",
       "    };\n",
       "\n",
       "    function maybeLoadScript(lib, version) {\n",
       "      var key = `${lib.replace(\"-\", \"\")}_version`;\n",
       "      return (VEGA_DEBUG[key] == version) ?\n",
       "        Promise.resolve(paths[lib]) :\n",
       "        new Promise(function(resolve, reject) {\n",
       "          var s = document.createElement('script');\n",
       "          document.getElementsByTagName(\"head\")[0].appendChild(s);\n",
       "          s.async = true;\n",
       "          s.onload = () => {\n",
       "            VEGA_DEBUG[key] = version;\n",
       "            return resolve(paths[lib]);\n",
       "          };\n",
       "          s.onerror = () => reject(`Error loading script: ${paths[lib]}`);\n",
       "          s.src = paths[lib];\n",
       "        });\n",
       "    }\n",
       "\n",
       "    function showError(err) {\n",
       "      outputDiv.innerHTML = `<div class=\"error\" style=\"color:red;\">${err}</div>`;\n",
       "      throw err;\n",
       "    }\n",
       "\n",
       "    function displayChart(vegaEmbed) {\n",
       "      vegaEmbed(outputDiv, spec, embedOpt)\n",
       "        .catch(err => showError(`Javascript Error: ${err.message}<br>This usually means there's a typo in your chart specification. See the javascript console for the full traceback.`));\n",
       "    }\n",
       "\n",
       "    if(typeof define === \"function\" && define.amd) {\n",
       "      requirejs.config({paths});\n",
       "      require([\"vega-embed\"], displayChart, err => showError(`Error loading script: ${err.message}`));\n",
       "    } else {\n",
       "      maybeLoadScript(\"vega\", \"5\")\n",
       "        .then(() => maybeLoadScript(\"vega-lite\", \"5.2.0\"))\n",
       "        .then(() => maybeLoadScript(\"vega-embed\", \"6\"))\n",
       "        .catch(showError)\n",
       "        .then(() => displayChart(vegaEmbed));\n",
       "    }\n",
       "  })({\"config\": {\"view\": {\"continuousWidth\": 400, \"continuousHeight\": 300}}, \"hconcat\": [{\"vconcat\": [{\"hconcat\": [{\"layer\": [{\"data\": {\"name\": \"data-fcf60668c8ffa90397ac95a5a3d45e82\"}, \"mark\": {\"type\": \"point\", \"color\": \"black\", \"fillOpacity\": 1, \"strokeWidth\": 1}, \"encoding\": {\"fill\": {\"field\": \"is_present\", \"legend\": {\"title\": [\"Observed data\"]}, \"scale\": {\"range\": [\"black\", \"#ffffff00\"]}, \"type\": \"nominal\"}, \"shape\": {\"field\": \"is_present\", \"type\": \"nominal\"}, \"x\": {\"axis\": {\"domain\": true, \"labels\": true, \"ticks\": true, \"title\": \"time\"}, \"field\": \"time\", \"type\": \"temporal\"}, \"y\": {\"field\": \"value\", \"scale\": {\"zero\": false}, \"title\": \"TA\", \"type\": \"quantitative\"}}}, {\"layer\": [{\"mark\": \"rule\", \"encoding\": {\"x\": {\"axis\": {\"domain\": false, \"labels\": false, \"ticks\": false, \"title\": null}, \"field\": \"gap_start\", \"type\": \"temporal\"}}}, {\"mark\": \"rule\", \"encoding\": {\"x\": {\"axis\": {\"domain\": false, \"labels\": false, \"ticks\": false, \"title\": null}, \"field\": \"gap_end\", \"type\": \"temporal\"}}}, {\"mark\": {\"type\": \"rect\", \"color\": \"black\", \"opacity\": 0.2}, \"encoding\": {\"x\": {\"axis\": {\"domain\": false, \"labels\": false, \"ticks\": false, \"title\": null}, \"field\": \"gap_start\", \"type\": \"temporal\"}, \"x2\": {\"field\": \"gap_end\"}}}], \"data\": {\"name\": \"data-34eac91d2688565214968a36dc4c99e5\"}}, {\"layer\": [{\"mark\": \"errorband\", \"encoding\": {\"color\": {\"field\": \"variable\", \"legend\": {\"title\": [\"Line: pred. mean\", \"area: +/- 2 std\"]}, \"type\": \"nominal\"}, \"x\": {\"field\": \"time\", \"type\": \"temporal\"}, \"y\": {\"field\": \"err_low\", \"scale\": {\"zero\": false}, \"title\": \"TA\", \"type\": \"quantitative\"}, \"y2\": {\"field\": \"err_high\"}}, \"name\": \"view_15\"}, {\"mark\": \"line\", \"encoding\": {\"color\": {\"field\": \"variable\", \"type\": \"nominal\"}, \"x\": {\"field\": \"time\", \"type\": \"temporal\"}, \"y\": {\"field\": \"mean\", \"scale\": {\"zero\": false}, \"title\": \"TA\", \"type\": \"quantitative\"}}}], \"data\": {\"name\": \"data-fcf60668c8ffa90397ac95a5a3d45e82\"}}], \"height\": 150, \"title\": \"TA\", \"width\": 200}]}, {\"hconcat\": [{\"layer\": [{\"data\": {\"name\": \"data-1f7e19f1ca88163c232c1342cb272274\"}, \"mark\": {\"type\": \"point\", \"color\": \"black\", \"fillOpacity\": 1, \"strokeWidth\": 1}, \"encoding\": {\"fill\": {\"field\": \"is_present\", \"legend\": {\"title\": [\"Observed data\"]}, \"scale\": {\"range\": [\"black\", \"#ffffff00\"]}, \"type\": \"nominal\"}, \"shape\": {\"field\": \"is_present\", \"type\": \"nominal\"}, \"x\": {\"axis\": {\"domain\": true, \"labels\": true, \"ticks\": true, \"title\": \"time\"}, \"field\": \"time\", \"type\": \"temporal\"}, \"y\": {\"field\": \"value\", \"scale\": {\"zero\": false}, \"title\": \"SW_IN\", \"type\": \"quantitative\"}}}, {\"layer\": [{\"mark\": \"rule\", \"encoding\": {\"x\": {\"axis\": {\"domain\": false, \"labels\": false, \"ticks\": false, \"title\": null}, \"field\": \"gap_start\", \"type\": \"temporal\"}}}, {\"mark\": \"rule\", \"encoding\": {\"x\": {\"axis\": {\"domain\": false, \"labels\": false, \"ticks\": false, \"title\": null}, \"field\": \"gap_end\", \"type\": \"temporal\"}}}, {\"mark\": {\"type\": \"rect\", \"color\": \"black\", \"opacity\": 0.2}, \"encoding\": {\"x\": {\"axis\": {\"domain\": false, \"labels\": false, \"ticks\": false, \"title\": null}, \"field\": \"gap_start\", \"type\": \"temporal\"}, \"x2\": {\"field\": \"gap_end\"}}}], \"data\": {\"name\": \"data-34eac91d2688565214968a36dc4c99e5\"}}, {\"layer\": [{\"mark\": \"errorband\", \"encoding\": {\"color\": {\"field\": \"variable\", \"legend\": {\"title\": [\"Line: pred. mean\", \"area: +/- 2 std\"]}, \"type\": \"nominal\"}, \"x\": {\"field\": \"time\", \"type\": \"temporal\"}, \"y\": {\"field\": \"err_low\", \"scale\": {\"zero\": false}, \"title\": \"SW_IN\", \"type\": \"quantitative\"}, \"y2\": {\"field\": \"err_high\"}}, \"name\": \"view_16\"}, {\"mark\": \"line\", \"encoding\": {\"color\": {\"field\": \"variable\", \"type\": \"nominal\"}, \"x\": {\"field\": \"time\", \"type\": \"temporal\"}, \"y\": {\"field\": \"mean\", \"scale\": {\"zero\": false}, \"title\": \"SW_IN\", \"type\": \"quantitative\"}}}], \"data\": {\"name\": \"data-1f7e19f1ca88163c232c1342cb272274\"}}], \"height\": 150, \"title\": \"SW_IN\", \"width\": 200}]}, {\"hconcat\": [{\"layer\": [{\"mark\": {\"type\": \"point\", \"color\": \"black\", \"fillOpacity\": 1, \"strokeWidth\": 1}, \"encoding\": {\"fill\": {\"field\": \"is_present\", \"legend\": {\"title\": [\"Observed data\"]}, \"scale\": {\"range\": [\"black\", \"#ffffff00\"]}, \"type\": \"nominal\"}, \"shape\": {\"field\": \"is_present\", \"type\": \"nominal\"}, \"x\": {\"axis\": {\"domain\": true, \"labels\": true, \"ticks\": true, \"title\": \"time\"}, \"field\": \"time\", \"type\": \"temporal\"}, \"y\": {\"field\": \"value\", \"scale\": {\"zero\": false}, \"title\": \"VPD\", \"type\": \"quantitative\"}}}, {\"layer\": [{\"mark\": \"errorband\", \"encoding\": {\"color\": {\"field\": \"variable\", \"legend\": {\"title\": [\"Line: pred. mean\", \"area: +/- 2 std\"]}, \"type\": \"nominal\"}, \"x\": {\"field\": \"time\", \"type\": \"temporal\"}, \"y\": {\"field\": \"err_low\", \"scale\": {\"zero\": false}, \"title\": \"VPD\", \"type\": \"quantitative\"}, \"y2\": {\"field\": \"err_high\"}}, \"name\": \"view_17\"}, {\"mark\": \"line\", \"encoding\": {\"color\": {\"field\": \"variable\", \"type\": \"nominal\"}, \"x\": {\"field\": \"time\", \"type\": \"temporal\"}, \"y\": {\"field\": \"mean\", \"scale\": {\"zero\": false}, \"title\": \"VPD\", \"type\": \"quantitative\"}}}]}], \"height\": 150, \"title\": \"VPD\", \"width\": 200}], \"data\": {\"name\": \"data-3c77f044ea8c9efed57c1e0b2fb37590\"}}], \"title\": \"loss: 88.237061\"}, {\"vconcat\": [{\"hconcat\": [{\"layer\": [{\"data\": {\"name\": \"data-b1d23a28904a028e3482e993ab54edcb\"}, \"mark\": {\"type\": \"point\", \"color\": \"black\", \"fillOpacity\": 1, \"strokeWidth\": 1}, \"encoding\": {\"fill\": {\"field\": \"is_present\", \"legend\": {\"title\": [\"Observed data\"]}, \"scale\": {\"range\": [\"black\", \"#ffffff00\"]}, \"type\": \"nominal\"}, \"shape\": {\"field\": \"is_present\", \"type\": \"nominal\"}, \"x\": {\"axis\": {\"domain\": true, \"labels\": true, \"ticks\": true, \"title\": \"time\"}, \"field\": \"time\", \"type\": \"temporal\"}, \"y\": {\"field\": \"value\", \"scale\": {\"zero\": false}, \"title\": \"TA\", \"type\": \"quantitative\"}}}, {\"layer\": [{\"mark\": \"rule\", \"encoding\": {\"x\": {\"axis\": {\"domain\": false, \"labels\": false, \"ticks\": false, \"title\": null}, \"field\": \"gap_start\", \"type\": \"temporal\"}}}, {\"mark\": \"rule\", \"encoding\": {\"x\": {\"axis\": {\"domain\": false, \"labels\": false, \"ticks\": false, \"title\": null}, \"field\": \"gap_end\", \"type\": \"temporal\"}}}, {\"mark\": {\"type\": \"rect\", \"color\": \"black\", \"opacity\": 0.2}, \"encoding\": {\"x\": {\"axis\": {\"domain\": false, \"labels\": false, \"ticks\": false, \"title\": null}, \"field\": \"gap_start\", \"type\": \"temporal\"}, \"x2\": {\"field\": \"gap_end\"}}}], \"data\": {\"name\": \"data-e6e820f072592936810064d9fa1ac4f9\"}}, {\"layer\": [{\"mark\": \"errorband\", \"encoding\": {\"color\": {\"field\": \"variable\", \"legend\": {\"title\": [\"Line: pred. mean\", \"area: +/- 2 std\"]}, \"type\": \"nominal\"}, \"x\": {\"field\": \"time\", \"type\": \"temporal\"}, \"y\": {\"field\": \"err_low\", \"scale\": {\"zero\": false}, \"title\": \"TA\", \"type\": \"quantitative\"}, \"y2\": {\"field\": \"err_high\"}}, \"name\": \"view_18\"}, {\"mark\": \"line\", \"encoding\": {\"color\": {\"field\": \"variable\", \"type\": \"nominal\"}, \"x\": {\"field\": \"time\", \"type\": \"temporal\"}, \"y\": {\"field\": \"mean\", \"scale\": {\"zero\": false}, \"title\": \"TA\", \"type\": \"quantitative\"}}}], \"data\": {\"name\": \"data-b1d23a28904a028e3482e993ab54edcb\"}}], \"height\": 150, \"title\": \"TA\", \"width\": 200}]}, {\"hconcat\": [{\"layer\": [{\"data\": {\"name\": \"data-09cea60b940ab70a9280b47a41969702\"}, \"mark\": {\"type\": \"point\", \"color\": \"black\", \"fillOpacity\": 1, \"strokeWidth\": 1}, \"encoding\": {\"fill\": {\"field\": \"is_present\", \"legend\": {\"title\": [\"Observed data\"]}, \"scale\": {\"range\": [\"black\", \"#ffffff00\"]}, \"type\": \"nominal\"}, \"shape\": {\"field\": \"is_present\", \"type\": \"nominal\"}, \"x\": {\"axis\": {\"domain\": true, \"labels\": true, \"ticks\": true, \"title\": \"time\"}, \"field\": \"time\", \"type\": \"temporal\"}, \"y\": {\"field\": \"value\", \"scale\": {\"zero\": false}, \"title\": \"SW_IN\", \"type\": \"quantitative\"}}}, {\"layer\": [{\"mark\": \"rule\", \"encoding\": {\"x\": {\"axis\": {\"domain\": false, \"labels\": false, \"ticks\": false, \"title\": null}, \"field\": \"gap_start\", \"type\": \"temporal\"}}}, {\"mark\": \"rule\", \"encoding\": {\"x\": {\"axis\": {\"domain\": false, \"labels\": false, \"ticks\": false, \"title\": null}, \"field\": \"gap_end\", \"type\": \"temporal\"}}}, {\"mark\": {\"type\": \"rect\", \"color\": \"black\", \"opacity\": 0.2}, \"encoding\": {\"x\": {\"axis\": {\"domain\": false, \"labels\": false, \"ticks\": false, \"title\": null}, \"field\": \"gap_start\", \"type\": \"temporal\"}, \"x2\": {\"field\": \"gap_end\"}}}], \"data\": {\"name\": \"data-e6e820f072592936810064d9fa1ac4f9\"}}, {\"layer\": [{\"mark\": \"errorband\", \"encoding\": {\"color\": {\"field\": \"variable\", \"legend\": {\"title\": [\"Line: pred. mean\", \"area: +/- 2 std\"]}, \"type\": \"nominal\"}, \"x\": {\"field\": \"time\", \"type\": \"temporal\"}, \"y\": {\"field\": \"err_low\", \"scale\": {\"zero\": false}, \"title\": \"SW_IN\", \"type\": \"quantitative\"}, \"y2\": {\"field\": \"err_high\"}}, \"name\": \"view_19\"}, {\"mark\": \"line\", \"encoding\": {\"color\": {\"field\": \"variable\", \"type\": \"nominal\"}, \"x\": {\"field\": \"time\", \"type\": \"temporal\"}, \"y\": {\"field\": \"mean\", \"scale\": {\"zero\": false}, \"title\": \"SW_IN\", \"type\": \"quantitative\"}}}], \"data\": {\"name\": \"data-09cea60b940ab70a9280b47a41969702\"}}], \"height\": 150, \"title\": \"SW_IN\", \"width\": 200}]}, {\"hconcat\": [{\"layer\": [{\"mark\": {\"type\": \"point\", \"color\": \"black\", \"fillOpacity\": 1, \"strokeWidth\": 1}, \"encoding\": {\"fill\": {\"field\": \"is_present\", \"legend\": {\"title\": [\"Observed data\"]}, \"scale\": {\"range\": [\"black\", \"#ffffff00\"]}, \"type\": \"nominal\"}, \"shape\": {\"field\": \"is_present\", \"type\": \"nominal\"}, \"x\": {\"axis\": {\"domain\": true, \"labels\": true, \"ticks\": true, \"title\": \"time\"}, \"field\": \"time\", \"type\": \"temporal\"}, \"y\": {\"field\": \"value\", \"scale\": {\"zero\": false}, \"title\": \"VPD\", \"type\": \"quantitative\"}}}, {\"layer\": [{\"mark\": \"errorband\", \"encoding\": {\"color\": {\"field\": \"variable\", \"legend\": {\"title\": [\"Line: pred. mean\", \"area: +/- 2 std\"]}, \"type\": \"nominal\"}, \"x\": {\"field\": \"time\", \"type\": \"temporal\"}, \"y\": {\"field\": \"err_low\", \"scale\": {\"zero\": false}, \"title\": \"VPD\", \"type\": \"quantitative\"}, \"y2\": {\"field\": \"err_high\"}}, \"name\": \"view_20\"}, {\"mark\": \"line\", \"encoding\": {\"color\": {\"field\": \"variable\", \"type\": \"nominal\"}, \"x\": {\"field\": \"time\", \"type\": \"temporal\"}, \"y\": {\"field\": \"mean\", \"scale\": {\"zero\": false}, \"title\": \"VPD\", \"type\": \"quantitative\"}}}]}], \"height\": 150, \"title\": \"VPD\", \"width\": 200}], \"data\": {\"name\": \"data-bbda348ff58dfcfa0f54ccae1cb4125c\"}}], \"title\": \"loss: 83.763290\"}, {\"vconcat\": [{\"hconcat\": [{\"layer\": [{\"data\": {\"name\": \"data-2fe52a329ef0f0f3d658665db653f86d\"}, \"mark\": {\"type\": \"point\", \"color\": \"black\", \"fillOpacity\": 1, \"strokeWidth\": 1}, \"encoding\": {\"fill\": {\"field\": \"is_present\", \"legend\": {\"title\": [\"Observed data\"]}, \"scale\": {\"range\": [\"black\", \"#ffffff00\"]}, \"type\": \"nominal\"}, \"shape\": {\"field\": \"is_present\", \"type\": \"nominal\"}, \"x\": {\"axis\": {\"domain\": true, \"labels\": true, \"ticks\": true, \"title\": \"time\"}, \"field\": \"time\", \"type\": \"temporal\"}, \"y\": {\"field\": \"value\", \"scale\": {\"zero\": false}, \"title\": \"TA\", \"type\": \"quantitative\"}}}, {\"layer\": [{\"mark\": \"rule\", \"encoding\": {\"x\": {\"axis\": {\"domain\": false, \"labels\": false, \"ticks\": false, \"title\": null}, \"field\": \"gap_start\", \"type\": \"temporal\"}}}, {\"mark\": \"rule\", \"encoding\": {\"x\": {\"axis\": {\"domain\": false, \"labels\": false, \"ticks\": false, \"title\": null}, \"field\": \"gap_end\", \"type\": \"temporal\"}}}, {\"mark\": {\"type\": \"rect\", \"color\": \"black\", \"opacity\": 0.2}, \"encoding\": {\"x\": {\"axis\": {\"domain\": false, \"labels\": false, \"ticks\": false, \"title\": null}, \"field\": \"gap_start\", \"type\": \"temporal\"}, \"x2\": {\"field\": \"gap_end\"}}}], \"data\": {\"name\": \"data-43bacbe21c0bb29df168cd09ba85594c\"}}, {\"layer\": [{\"mark\": \"errorband\", \"encoding\": {\"color\": {\"field\": \"variable\", \"legend\": {\"title\": [\"Line: pred. mean\", \"area: +/- 2 std\"]}, \"type\": \"nominal\"}, \"x\": {\"field\": \"time\", \"type\": \"temporal\"}, \"y\": {\"field\": \"err_low\", \"scale\": {\"zero\": false}, \"title\": \"TA\", \"type\": \"quantitative\"}, \"y2\": {\"field\": \"err_high\"}}, \"name\": \"view_21\"}, {\"mark\": \"line\", \"encoding\": {\"color\": {\"field\": \"variable\", \"type\": \"nominal\"}, \"x\": {\"field\": \"time\", \"type\": \"temporal\"}, \"y\": {\"field\": \"mean\", \"scale\": {\"zero\": false}, \"title\": \"TA\", \"type\": \"quantitative\"}}}], \"data\": {\"name\": \"data-2fe52a329ef0f0f3d658665db653f86d\"}}], \"height\": 150, \"title\": \"TA\", \"width\": 200}]}, {\"hconcat\": [{\"layer\": [{\"data\": {\"name\": \"data-8747c41aec77daa3b274edda90615b19\"}, \"mark\": {\"type\": \"point\", \"color\": \"black\", \"fillOpacity\": 1, \"strokeWidth\": 1}, \"encoding\": {\"fill\": {\"field\": \"is_present\", \"legend\": {\"title\": [\"Observed data\"]}, \"scale\": {\"range\": [\"black\", \"#ffffff00\"]}, \"type\": \"nominal\"}, \"shape\": {\"field\": \"is_present\", \"type\": \"nominal\"}, \"x\": {\"axis\": {\"domain\": true, \"labels\": true, \"ticks\": true, \"title\": \"time\"}, \"field\": \"time\", \"type\": \"temporal\"}, \"y\": {\"field\": \"value\", \"scale\": {\"zero\": false}, \"title\": \"SW_IN\", \"type\": \"quantitative\"}}}, {\"layer\": [{\"mark\": \"rule\", \"encoding\": {\"x\": {\"axis\": {\"domain\": false, \"labels\": false, \"ticks\": false, \"title\": null}, \"field\": \"gap_start\", \"type\": \"temporal\"}}}, {\"mark\": \"rule\", \"encoding\": {\"x\": {\"axis\": {\"domain\": false, \"labels\": false, \"ticks\": false, \"title\": null}, \"field\": \"gap_end\", \"type\": \"temporal\"}}}, {\"mark\": {\"type\": \"rect\", \"color\": \"black\", \"opacity\": 0.2}, \"encoding\": {\"x\": {\"axis\": {\"domain\": false, \"labels\": false, \"ticks\": false, \"title\": null}, \"field\": \"gap_start\", \"type\": \"temporal\"}, \"x2\": {\"field\": \"gap_end\"}}}], \"data\": {\"name\": \"data-43bacbe21c0bb29df168cd09ba85594c\"}}, {\"layer\": [{\"mark\": \"errorband\", \"encoding\": {\"color\": {\"field\": \"variable\", \"legend\": {\"title\": [\"Line: pred. mean\", \"area: +/- 2 std\"]}, \"type\": \"nominal\"}, \"x\": {\"field\": \"time\", \"type\": \"temporal\"}, \"y\": {\"field\": \"err_low\", \"scale\": {\"zero\": false}, \"title\": \"SW_IN\", \"type\": \"quantitative\"}, \"y2\": {\"field\": \"err_high\"}}, \"name\": \"view_22\"}, {\"mark\": \"line\", \"encoding\": {\"color\": {\"field\": \"variable\", \"type\": \"nominal\"}, \"x\": {\"field\": \"time\", \"type\": \"temporal\"}, \"y\": {\"field\": \"mean\", \"scale\": {\"zero\": false}, \"title\": \"SW_IN\", \"type\": \"quantitative\"}}}], \"data\": {\"name\": \"data-8747c41aec77daa3b274edda90615b19\"}}], \"height\": 150, \"title\": \"SW_IN\", \"width\": 200}]}, {\"hconcat\": [{\"layer\": [{\"mark\": {\"type\": \"point\", \"color\": \"black\", \"fillOpacity\": 1, \"strokeWidth\": 1}, \"encoding\": {\"fill\": {\"field\": \"is_present\", \"legend\": {\"title\": [\"Observed data\"]}, \"scale\": {\"range\": [\"black\", \"#ffffff00\"]}, \"type\": \"nominal\"}, \"shape\": {\"field\": \"is_present\", \"type\": \"nominal\"}, \"x\": {\"axis\": {\"domain\": true, \"labels\": true, \"ticks\": true, \"title\": \"time\"}, \"field\": \"time\", \"type\": \"temporal\"}, \"y\": {\"field\": \"value\", \"scale\": {\"zero\": false}, \"title\": \"VPD\", \"type\": \"quantitative\"}}}, {\"layer\": [{\"mark\": \"errorband\", \"encoding\": {\"color\": {\"field\": \"variable\", \"legend\": {\"title\": [\"Line: pred. mean\", \"area: +/- 2 std\"]}, \"type\": \"nominal\"}, \"x\": {\"field\": \"time\", \"type\": \"temporal\"}, \"y\": {\"field\": \"err_low\", \"scale\": {\"zero\": false}, \"title\": \"VPD\", \"type\": \"quantitative\"}, \"y2\": {\"field\": \"err_high\"}}, \"name\": \"view_23\"}, {\"mark\": \"line\", \"encoding\": {\"color\": {\"field\": \"variable\", \"type\": \"nominal\"}, \"x\": {\"field\": \"time\", \"type\": \"temporal\"}, \"y\": {\"field\": \"mean\", \"scale\": {\"zero\": false}, \"title\": \"VPD\", \"type\": \"quantitative\"}}}]}], \"height\": 150, \"title\": \"VPD\", \"width\": 200}], \"data\": {\"name\": \"data-2d99cec37c32e9f626b4459c088b095d\"}}], \"title\": \"loss: 76.621552\"}], \"params\": [{\"name\": \"param_23\", \"select\": {\"type\": \"interval\", \"encodings\": [\"x\"]}, \"bind\": \"scales\", \"views\": [\"view_15\", \"view_16\", \"view_17\"]}, {\"name\": \"param_27\", \"select\": {\"type\": \"interval\", \"encodings\": [\"x\"]}, \"bind\": \"scales\", \"views\": [\"view_18\", \"view_19\", \"view_20\"]}, {\"name\": \"param_31\", \"select\": {\"type\": \"interval\", \"encodings\": [\"x\"]}, \"bind\": \"scales\", \"views\": [\"view_21\", \"view_22\", \"view_23\"]}], \"$schema\": \"https://vega.github.io/schema/vega-lite/v5.2.0.json\", \"datasets\": {\"data-fcf60668c8ffa90397ac95a5a3d45e82\": [{\"time\": \"2000-01-01T01:00:00\", \"variable\": \"TA\", \"value\": -0.6499999761581421, \"is_present\": true, \"mean\": 10.728489875793457, \"std\": 10.931611061096191, \"err_low\": -11.134732246398926, \"err_high\": 32.591712951660156}, {\"time\": \"2000-01-01T01:30:00\", \"variable\": \"TA\", \"value\": -0.5799999833106995, \"is_present\": true, \"mean\": -14.516134262084961, \"std\": 13.604239463806152, \"err_low\": -41.724613189697266, \"err_high\": 12.692344665527344}, {\"time\": \"2000-01-01T02:00:00\", \"variable\": \"TA\", \"value\": -0.5099999904632568, \"is_present\": true, \"mean\": -19.929475784301758, \"std\": 13.93571662902832, \"err_low\": -47.80091094970703, \"err_high\": 7.941957473754883}, {\"time\": \"2000-01-01T02:30:00\", \"variable\": \"TA\", \"value\": -0.49000000953674316, \"is_present\": true, \"mean\": -20.435970306396484, \"std\": 13.935152053833008, \"err_low\": -48.3062744140625, \"err_high\": 7.434333801269531}, {\"time\": \"2000-01-01T03:00:00\", \"variable\": \"TA\", \"value\": -0.4000000059604645, \"is_present\": false, \"mean\": -20.63099479675293, \"std\": 13.935222625732422, \"err_low\": -48.501441955566406, \"err_high\": 7.239450454711914}, {\"time\": \"2000-01-01T03:30:00\", \"variable\": \"TA\", \"value\": -0.36000001430511475, \"is_present\": false, \"mean\": -21.162038803100586, \"std\": 14.129355430603027, \"err_low\": -49.42074966430664, \"err_high\": 7.096672058105469}, {\"time\": \"2000-01-01T04:00:00\", \"variable\": \"TA\", \"value\": -0.3499999940395355, \"is_present\": true, \"mean\": -21.243896484375, \"std\": 14.130232810974121, \"err_low\": -49.504364013671875, \"err_high\": 7.016569137573242}, {\"time\": \"2000-01-01T04:30:00\", \"variable\": \"TA\", \"value\": -0.2800000011920929, \"is_present\": true, \"mean\": -20.658748626708984, \"std\": 13.935447692871094, \"err_low\": -48.52964401245117, \"err_high\": 7.212146759033203}, {\"time\": \"2000-01-01T05:00:00\", \"variable\": \"TA\", \"value\": -0.27000001072883606, \"is_present\": true, \"mean\": -20.57819938659668, \"std\": 13.93517017364502, \"err_low\": -48.44853973388672, \"err_high\": 7.292140960693359}, {\"time\": \"2000-01-01T05:30:00\", \"variable\": \"TA\", \"value\": -0.23000000417232513, \"is_present\": true, \"mean\": -20.47052001953125, \"std\": 13.935162544250488, \"err_low\": -48.340843200683594, \"err_high\": 7.399805068969727}], \"data-34eac91d2688565214968a36dc4c99e5\": [{\"gap_start\": \"2000-01-01T03:00:00\", \"gap_end\": \"2000-01-01T03:30:00\"}], \"data-1f7e19f1ca88163c232c1342cb272274\": [{\"time\": \"2000-01-01T01:00:00\", \"variable\": \"SW_IN\", \"value\": 0.0, \"is_present\": true, \"mean\": 272.2605285644531, \"std\": 175.68890380859375, \"err_low\": -79.11727905273438, \"err_high\": 623.6383056640625}, {\"time\": \"2000-01-01T01:30:00\", \"variable\": \"SW_IN\", \"value\": 0.0, \"is_present\": true, \"mean\": 93.6265869140625, \"std\": 183.7314910888672, \"err_low\": -273.8363952636719, \"err_high\": 461.0895690917969}, {\"time\": \"2000-01-01T02:00:00\", \"variable\": \"SW_IN\", \"value\": 0.0, \"is_present\": true, \"mean\": 40.16035461425781, \"std\": 184.66268920898438, \"err_low\": -329.1650390625, \"err_high\": 409.4857177734375}, {\"time\": \"2000-01-01T02:30:00\", \"variable\": \"SW_IN\", \"value\": 0.0, \"is_present\": true, \"mean\": 24.933395385742188, \"std\": 184.61181640625, \"err_low\": -344.29022216796875, \"err_high\": 394.15704345703125}, {\"time\": \"2000-01-01T03:00:00\", \"variable\": \"SW_IN\", \"value\": 0.0, \"is_present\": false, \"mean\": 17.09869384765625, \"std\": 184.5958251953125, \"err_low\": -352.09295654296875, \"err_high\": 386.29034423828125}, {\"time\": \"2000-01-01T03:30:00\", \"variable\": \"SW_IN\", \"value\": 0.0, \"is_present\": false, \"mean\": 11.164566040039062, \"std\": 184.89866638183594, \"err_low\": -358.63275146484375, \"err_high\": 380.9619140625}, {\"time\": \"2000-01-01T04:00:00\", \"variable\": \"SW_IN\", \"value\": 0.0, \"is_present\": true, \"mean\": 8.794990539550781, \"std\": 184.89634704589844, \"err_low\": -360.9977111816406, \"err_high\": 378.5876770019531}, {\"time\": \"2000-01-01T04:30:00\", \"variable\": \"SW_IN\", \"value\": 0.0, \"is_present\": true, \"mean\": 10.114295959472656, \"std\": 184.58885192871094, \"err_low\": -359.06341552734375, \"err_high\": 379.2919921875}, {\"time\": \"2000-01-01T05:00:00\", \"variable\": \"SW_IN\", \"value\": 0.0, \"is_present\": true, \"mean\": 10.080131530761719, \"std\": 184.58831787109375, \"err_low\": -359.09649658203125, \"err_high\": 379.25677490234375}, {\"time\": \"2000-01-01T05:30:00\", \"variable\": \"SW_IN\", \"value\": 0.0, \"is_present\": true, \"mean\": 10.512908935546875, \"std\": 184.5875701904297, \"err_low\": -358.6622314453125, \"err_high\": 379.68804931640625}], \"data-3c77f044ea8c9efed57c1e0b2fb37590\": [{\"time\": \"2000-01-01T01:00:00\", \"variable\": \"VPD\", \"value\": 0.12200000137090683, \"is_present\": true, \"mean\": 4.495111465454102, \"std\": 9.134310722351074, \"err_low\": -13.773509979248047, \"err_high\": 22.76373291015625}, {\"time\": \"2000-01-01T01:30:00\", \"variable\": \"VPD\", \"value\": 0.09000000357627869, \"is_present\": true, \"mean\": -19.23055076599121, \"std\": 13.173904418945312, \"err_low\": -45.57836151123047, \"err_high\": 7.117258071899414}, {\"time\": \"2000-01-01T02:00:00\", \"variable\": \"VPD\", \"value\": 0.10999999940395355, \"is_present\": true, \"mean\": -22.652454376220703, \"std\": 13.420905113220215, \"err_low\": -49.4942626953125, \"err_high\": 4.189355850219727}, {\"time\": \"2000-01-01T02:30:00\", \"variable\": \"VPD\", \"value\": 0.10199999809265137, \"is_present\": true, \"mean\": -22.04205894470215, \"std\": 13.417320251464844, \"err_low\": -48.87670135498047, \"err_high\": 4.792581558227539}, {\"time\": \"2000-01-01T03:00:00\", \"variable\": \"VPD\", \"value\": 0.11100000143051147, \"is_present\": true, \"mean\": -21.59622573852539, \"std\": 13.416123390197754, \"err_low\": -48.42847442626953, \"err_high\": 5.236021041870117}, {\"time\": \"2000-01-01T03:30:00\", \"variable\": \"VPD\", \"value\": 0.10899999737739563, \"is_present\": true, \"mean\": -21.858312606811523, \"std\": 13.67049503326416, \"err_low\": -49.199302673339844, \"err_high\": 5.482677459716797}, {\"time\": \"2000-01-01T04:00:00\", \"variable\": \"VPD\", \"value\": 0.10700000077486038, \"is_present\": true, \"mean\": -21.750974655151367, \"std\": 13.67363452911377, \"err_low\": -49.098243713378906, \"err_high\": 5.596294403076172}, {\"time\": \"2000-01-01T04:30:00\", \"variable\": \"VPD\", \"value\": 0.12200000137090683, \"is_present\": true, \"mean\": -20.954498291015625, \"std\": 13.417547225952148, \"err_low\": -47.78959274291992, \"err_high\": 5.880596160888672}, {\"time\": \"2000-01-01T05:00:00\", \"variable\": \"VPD\", \"value\": 0.1379999965429306, \"is_present\": true, \"mean\": -20.811819076538086, \"std\": 13.415922164916992, \"err_low\": -47.64366149902344, \"err_high\": 6.020025253295898}, {\"time\": \"2000-01-01T05:30:00\", \"variable\": \"VPD\", \"value\": 0.1379999965429306, \"is_present\": true, \"mean\": -20.685779571533203, \"std\": 13.415740013122559, \"err_low\": -47.51725769042969, \"err_high\": 6.145700454711914}], \"data-b1d23a28904a028e3482e993ab54edcb\": [{\"time\": \"2000-01-01T06:00:00\", \"variable\": \"TA\", \"value\": -0.23000000417232513, \"is_present\": true, \"mean\": 10.728489875793457, \"std\": 10.931611061096191, \"err_low\": -11.134732246398926, \"err_high\": 32.591712951660156}, {\"time\": \"2000-01-01T06:30:00\", \"variable\": \"TA\", \"value\": -0.2199999988079071, \"is_present\": true, \"mean\": -14.007558822631836, \"std\": 13.604239463806152, \"err_low\": -41.21603775024414, \"err_high\": 13.200920104980469}, {\"time\": \"2000-01-01T07:00:00\", \"variable\": \"TA\", \"value\": -0.23999999463558197, \"is_present\": true, \"mean\": -19.197052001953125, \"std\": 13.93571662902832, \"err_low\": -47.068485260009766, \"err_high\": 8.674381256103516}, {\"time\": \"2000-01-01T07:30:00\", \"variable\": \"TA\", \"value\": -0.23000000417232513, \"is_present\": true, \"mean\": -19.712326049804688, \"std\": 13.935152053833008, \"err_low\": -47.5826301574707, \"err_high\": 8.157978057861328}, {\"time\": \"2000-01-01T08:00:00\", \"variable\": \"TA\", \"value\": -0.2199999988079071, \"is_present\": true, \"mean\": -19.824254989624023, \"std\": 13.935222625732422, \"err_low\": -47.6947021484375, \"err_high\": 8.04619026184082}, {\"time\": \"2000-01-01T08:30:00\", \"variable\": \"TA\", \"value\": -0.1899999976158142, \"is_present\": true, \"mean\": -19.76291847229004, \"std\": 13.935179710388184, \"err_low\": -47.633277893066406, \"err_high\": 8.107440948486328}, {\"time\": \"2000-01-01T09:00:00\", \"variable\": \"TA\", \"value\": -0.14000000059604645, \"is_present\": false, \"mean\": -19.584569931030273, \"std\": 13.935169219970703, \"err_low\": -47.45491027832031, \"err_high\": 8.285768508911133}, {\"time\": \"2000-01-01T09:30:00\", \"variable\": \"TA\", \"value\": -0.029999999329447746, \"is_present\": false, \"mean\": -19.83732795715332, \"std\": 14.129242897033691, \"err_low\": -48.0958137512207, \"err_high\": 8.421157836914062}, {\"time\": \"2000-01-01T10:00:00\", \"variable\": \"TA\", \"value\": 0.03999999910593033, \"is_present\": true, \"mean\": -19.45672607421875, \"std\": 14.130188941955566, \"err_low\": -47.71710205078125, \"err_high\": 8.803651809692383}, {\"time\": \"2000-01-01T10:30:00\", \"variable\": \"TA\", \"value\": 0.10000000149011612, \"is_present\": true, \"mean\": -18.356643676757812, \"std\": 13.935446739196777, \"err_low\": -46.2275390625, \"err_high\": 9.514249801635742}], \"data-e6e820f072592936810064d9fa1ac4f9\": [{\"gap_start\": \"2000-01-01T09:00:00\", \"gap_end\": \"2000-01-01T09:30:00\"}], \"data-09cea60b940ab70a9280b47a41969702\": [{\"time\": \"2000-01-01T06:00:00\", \"variable\": \"SW_IN\", \"value\": 0.0, \"is_present\": true, \"mean\": 272.2605285644531, \"std\": 175.68890380859375, \"err_low\": -79.11727905273438, \"err_high\": 623.6383056640625}, {\"time\": \"2000-01-01T06:30:00\", \"variable\": \"SW_IN\", \"value\": 0.0, \"is_present\": true, \"mean\": 97.62890625, \"std\": 183.7314910888672, \"err_low\": -269.8340759277344, \"err_high\": 465.0918884277344}, {\"time\": \"2000-01-01T07:00:00\", \"variable\": \"SW_IN\", \"value\": 0.0, \"is_present\": true, \"mean\": 45.990806579589844, \"std\": 184.66268920898438, \"err_low\": -323.3345642089844, \"err_high\": 415.3161926269531}, {\"time\": \"2000-01-01T07:30:00\", \"variable\": \"SW_IN\", \"value\": 0.0, \"is_present\": true, \"mean\": 31.24500274658203, \"std\": 184.61181640625, \"err_low\": -337.9786376953125, \"err_high\": 400.4686279296875}, {\"time\": \"2000-01-01T08:00:00\", \"variable\": \"SW_IN\", \"value\": 0.0, \"is_present\": true, \"mean\": 24.42845916748047, \"std\": 184.5958251953125, \"err_low\": -344.76318359375, \"err_high\": 393.6201171875}, {\"time\": \"2000-01-01T08:30:00\", \"variable\": \"SW_IN\", \"value\": 0.44999998807907104, \"is_present\": true, \"mean\": 21.539268493652344, \"std\": 184.58982849121094, \"err_low\": -347.640380859375, \"err_high\": 390.71893310546875}, {\"time\": \"2000-01-01T09:00:00\", \"variable\": \"SW_IN\", \"value\": 3.700000047683716, \"is_present\": false, \"mean\": 21.13983154296875, \"std\": 184.58792114257812, \"err_low\": -348.0360107421875, \"err_high\": 390.315673828125}, {\"time\": \"2000-01-01T09:30:00\", \"variable\": \"SW_IN\", \"value\": 7.260000228881836, \"is_present\": false, \"mean\": 20.183822631835938, \"std\": 184.89520263671875, \"err_low\": -349.6065673828125, \"err_high\": 389.9742431640625}, {\"time\": \"2000-01-01T10:00:00\", \"variable\": \"SW_IN\", \"value\": 12.239999771118164, \"is_present\": true, \"mean\": 22.438072204589844, \"std\": 184.8952178955078, \"err_low\": -347.35235595703125, \"err_high\": 392.228515625}, {\"time\": \"2000-01-01T10:30:00\", \"variable\": \"SW_IN\", \"value\": 16.510000228881836, \"is_present\": true, \"mean\": 28.09503936767578, \"std\": 184.58859252929688, \"err_low\": -341.0821533203125, \"err_high\": 397.272216796875}], \"data-bbda348ff58dfcfa0f54ccae1cb4125c\": [{\"time\": \"2000-01-01T06:00:00\", \"variable\": \"VPD\", \"value\": 0.12200000137090683, \"is_present\": true, \"mean\": 4.495111465454102, \"std\": 9.134310722351074, \"err_low\": -13.773509979248047, \"err_high\": 22.76373291015625}, {\"time\": \"2000-01-01T06:30:00\", \"variable\": \"VPD\", \"value\": 0.09799999743700027, \"is_present\": true, \"mean\": -18.74024772644043, \"std\": 13.173904418945312, \"err_low\": -45.08805847167969, \"err_high\": 7.607561111450195}, {\"time\": \"2000-01-01T07:00:00\", \"variable\": \"VPD\", \"value\": 0.06599999964237213, \"is_present\": true, \"mean\": -22.005998611450195, \"std\": 13.420905113220215, \"err_low\": -48.847808837890625, \"err_high\": 4.835811614990234}, {\"time\": \"2000-01-01T07:30:00\", \"variable\": \"VPD\", \"value\": 0.04399999976158142, \"is_present\": true, \"mean\": -21.459033966064453, \"std\": 13.417320251464844, \"err_low\": -48.29367446899414, \"err_high\": 5.375606536865234}, {\"time\": \"2000-01-01T08:00:00\", \"variable\": \"VPD\", \"value\": 0.026000000536441803, \"is_present\": true, \"mean\": -20.976219177246094, \"std\": 13.416123390197754, \"err_low\": -47.80846405029297, \"err_high\": 5.856027603149414}, {\"time\": \"2000-01-01T08:30:00\", \"variable\": \"VPD\", \"value\": 0.01600000075995922, \"is_present\": true, \"mean\": -20.608074188232422, \"std\": 13.415849685668945, \"err_low\": -47.43977355957031, \"err_high\": 6.223625183105469}, {\"time\": \"2000-01-01T09:00:00\", \"variable\": \"VPD\", \"value\": 0.009999999776482582, \"is_present\": true, \"mean\": -20.26811981201172, \"std\": 13.415760040283203, \"err_low\": -47.099639892578125, \"err_high\": 6.5634002685546875}, {\"time\": \"2000-01-01T09:30:00\", \"variable\": \"VPD\", \"value\": 0.006000000052154064, \"is_present\": true, \"mean\": -20.52635955810547, \"std\": 13.670480728149414, \"err_low\": -47.8673210144043, \"err_high\": 6.814601898193359}, {\"time\": \"2000-01-01T10:00:00\", \"variable\": \"VPD\", \"value\": 0.006000000052154064, \"is_present\": true, \"mean\": -20.095870971679688, \"std\": 13.673630714416504, \"err_low\": -47.44313049316406, \"err_high\": 7.25139045715332}, {\"time\": \"2000-01-01T10:30:00\", \"variable\": \"VPD\", \"value\": 0.006000000052154064, \"is_present\": true, \"mean\": -18.84314727783203, \"std\": 13.417540550231934, \"err_low\": -45.67823028564453, \"err_high\": 7.991933822631836}], \"data-2fe52a329ef0f0f3d658665db653f86d\": [{\"time\": \"2000-01-01T16:00:00\", \"variable\": \"TA\", \"value\": 0.5699999928474426, \"is_present\": true, \"mean\": 10.728489875793457, \"std\": 10.931611061096191, \"err_low\": -11.134732246398926, \"err_high\": 32.591712951660156}, {\"time\": \"2000-01-01T16:30:00\", \"variable\": \"TA\", \"value\": 0.7300000190734863, \"is_present\": true, \"mean\": -11.877286911010742, \"std\": 13.604239463806152, \"err_low\": -39.08576583862305, \"err_high\": 15.331192016601562}, {\"time\": \"2000-01-01T17:00:00\", \"variable\": \"TA\", \"value\": 0.7699999809265137, \"is_present\": true, \"mean\": -16.8912353515625, \"std\": 13.93571662902832, \"err_low\": -44.76266860961914, \"err_high\": 10.98019790649414}, {\"time\": \"2000-01-01T17:30:00\", \"variable\": \"TA\", \"value\": 0.8399999737739563, \"is_present\": false, \"mean\": -17.19235610961914, \"std\": 13.935152053833008, \"err_low\": -45.062660217285156, \"err_high\": 10.677947998046875}, {\"time\": \"2000-01-01T18:00:00\", \"variable\": \"TA\", \"value\": 0.9900000095367432, \"is_present\": false, \"mean\": -17.455520629882812, \"std\": 14.12961483001709, \"err_low\": -45.714752197265625, \"err_high\": 10.803709030151367}, {\"time\": \"2000-01-01T18:30:00\", \"variable\": \"TA\", \"value\": 1.350000023841858, \"is_present\": true, \"mean\": -17.416683197021484, \"std\": 14.130330085754395, \"err_low\": -45.677345275878906, \"err_high\": 10.843976974487305}, {\"time\": \"2000-01-01T19:00:00\", \"variable\": \"TA\", \"value\": 1.8600000143051147, \"is_present\": true, \"mean\": -16.768070220947266, \"std\": 13.935452461242676, \"err_low\": -44.63897705078125, \"err_high\": 11.102834701538086}, {\"time\": \"2000-01-01T19:30:00\", \"variable\": \"TA\", \"value\": 2.009999990463257, \"is_present\": true, \"mean\": -16.477663040161133, \"std\": 13.935172080993652, \"err_low\": -44.34800720214844, \"err_high\": 11.392681121826172}, {\"time\": \"2000-01-01T20:00:00\", \"variable\": \"TA\", \"value\": 2.069999933242798, \"is_present\": true, \"mean\": -16.31090545654297, \"std\": 13.935165405273438, \"err_low\": -44.181236267089844, \"err_high\": 11.559425354003906}, {\"time\": \"2000-01-01T20:30:00\", \"variable\": \"TA\", \"value\": 2.0, \"is_present\": true, \"mean\": -16.219562530517578, \"std\": 13.935159683227539, \"err_low\": -44.089881896972656, \"err_high\": 11.6507568359375}], \"data-43bacbe21c0bb29df168cd09ba85594c\": [{\"gap_start\": \"2000-01-01T17:30:00\", \"gap_end\": \"2000-01-01T18:00:00\"}], \"data-8747c41aec77daa3b274edda90615b19\": [{\"time\": \"2000-01-01T16:00:00\", \"variable\": \"SW_IN\", \"value\": 6.369999885559082, \"is_present\": true, \"mean\": 272.2605285644531, \"std\": 175.68890380859375, \"err_low\": -79.11727905273438, \"err_high\": 623.6383056640625}, {\"time\": \"2000-01-01T16:30:00\", \"variable\": \"SW_IN\", \"value\": 1.7200000286102295, \"is_present\": true, \"mean\": 112.54071044921875, \"std\": 183.7314910888672, \"err_low\": -254.92227172851562, \"err_high\": 480.0036926269531}, {\"time\": \"2000-01-01T17:00:00\", \"variable\": \"SW_IN\", \"value\": 0.05999999865889549, \"is_present\": true, \"mean\": 64.47062683105469, \"std\": 184.66268920898438, \"err_low\": -304.854736328125, \"err_high\": 433.7960205078125}, {\"time\": \"2000-01-01T17:30:00\", \"variable\": \"SW_IN\", \"value\": 0.0, \"is_present\": false, \"mean\": 52.272552490234375, \"std\": 184.61181640625, \"err_low\": -316.9510803222656, \"err_high\": 421.4961853027344}, {\"time\": \"2000-01-01T18:00:00\", \"variable\": \"SW_IN\", \"value\": 0.0, \"is_present\": false, \"mean\": 46.00965118408203, \"std\": 184.90670776367188, \"err_low\": -323.80377197265625, \"err_high\": 415.82305908203125}, {\"time\": \"2000-01-01T18:30:00\", \"variable\": \"SW_IN\", \"value\": 0.0, \"is_present\": true, \"mean\": 43.63789367675781, \"std\": 184.89895629882812, \"err_low\": -326.1600341796875, \"err_high\": 413.435791015625}, {\"time\": \"2000-01-01T19:00:00\", \"variable\": \"SW_IN\", \"value\": 0.0, \"is_present\": true, \"mean\": 45.222496032714844, \"std\": 184.5894317626953, \"err_low\": -323.95635986328125, \"err_high\": 414.4013671875}, {\"time\": \"2000-01-01T19:30:00\", \"variable\": \"SW_IN\", \"value\": 0.0, \"is_present\": true, \"mean\": 46.24817657470703, \"std\": 184.5885009765625, \"err_low\": -322.9288330078125, \"err_high\": 415.4251708984375}, {\"time\": \"2000-01-01T20:00:00\", \"variable\": \"SW_IN\", \"value\": 0.0, \"is_present\": true, \"mean\": 46.86412811279297, \"std\": 184.58763122558594, \"err_low\": -322.3111267089844, \"err_high\": 416.0393981933594}, {\"time\": \"2000-01-01T20:30:00\", \"variable\": \"SW_IN\", \"value\": 0.0, \"is_present\": true, \"mean\": 47.410888671875, \"std\": 184.5872039794922, \"err_low\": -321.7635192871094, \"err_high\": 416.5852966308594}], \"data-2d99cec37c32e9f626b4459c088b095d\": [{\"time\": \"2000-01-01T16:00:00\", \"variable\": \"VPD\", \"value\": 0.0, \"is_present\": true, \"mean\": 4.495111465454102, \"std\": 9.134310722351074, \"err_low\": -13.773509979248047, \"err_high\": 22.76373291015625}, {\"time\": \"2000-01-01T16:30:00\", \"variable\": \"VPD\", \"value\": 0.0, \"is_present\": true, \"mean\": -16.89444351196289, \"std\": 13.173904418945312, \"err_low\": -43.242252349853516, \"err_high\": 9.453365325927734}, {\"time\": \"2000-01-01T17:00:00\", \"variable\": \"VPD\", \"value\": 0.0, \"is_present\": true, \"mean\": -20.185611724853516, \"std\": 13.420905113220215, \"err_low\": -47.02742004394531, \"err_high\": 6.656198501586914}, {\"time\": \"2000-01-01T17:30:00\", \"variable\": \"VPD\", \"value\": 0.0, \"is_present\": true, \"mean\": -19.55679702758789, \"std\": 13.417320251464844, \"err_low\": -46.39143753051758, \"err_high\": 7.277843475341797}, {\"time\": \"2000-01-01T18:00:00\", \"variable\": \"VPD\", \"value\": 0.0, \"is_present\": true, \"mean\": -19.38178825378418, \"std\": 13.670526504516602, \"err_low\": -46.72283935546875, \"err_high\": 7.959264755249023}, {\"time\": \"2000-01-01T18:30:00\", \"variable\": \"VPD\", \"value\": 0.0, \"is_present\": true, \"mean\": -19.098663330078125, \"std\": 13.673637390136719, \"err_low\": -46.44593811035156, \"err_high\": 8.248611450195312}, {\"time\": \"2000-01-01T19:00:00\", \"variable\": \"VPD\", \"value\": 0.0020000000949949026, \"is_present\": true, \"mean\": -18.242206573486328, \"std\": 13.41756820678711, \"err_low\": -45.07734298706055, \"err_high\": 8.59292984008789}, {\"time\": \"2000-01-01T19:30:00\", \"variable\": \"VPD\", \"value\": 0.008999999612569809, \"is_present\": true, \"mean\": -17.894540786743164, \"std\": 13.415929794311523, \"err_low\": -44.726402282714844, \"err_high\": 8.937318801879883}, {\"time\": \"2000-01-01T20:00:00\", \"variable\": \"VPD\", \"value\": 0.014000000432133675, \"is_present\": true, \"mean\": -17.714731216430664, \"std\": 13.415746688842773, \"err_low\": -44.546226501464844, \"err_high\": 9.116762161254883}, {\"time\": \"2000-01-01T20:30:00\", \"variable\": \"VPD\", \"value\": 0.014000000432133675, \"is_present\": true, \"mean\": -17.620441436767578, \"std\": 13.415721893310547, \"err_low\": -44.45188522338867, \"err_high\": 9.211002349853516}]}}, {\"mode\": \"vega-lite\"});\n",
       "</script>"
      ],
      "text/plain": [
       "alt.HConcatChart(...)"
      ]
     },
     "execution_count": null,
     "metadata": {},
     "output_type": "execute_result"
    }
   ],
   "source": [
    "plot_results(preds, targs, losses)"
   ]
  },
  {
   "cell_type": "markdown",
   "id": "32cb6c99-004e-4235-82d5-1617e79b7097",
   "metadata": {},
   "source": [
    "#### Show Results"
   ]
  },
  {
   "cell_type": "code",
   "execution_count": null,
   "id": "5f6a1a9f-2a79-4b27-960b-4a8a446de9ac",
   "metadata": {},
   "outputs": [
    {
     "data": {
      "text/plain": [
       "[1693, 592, 1998]"
      ]
     },
     "execution_count": null,
     "metadata": {},
     "output_type": "execute_result"
    }
   ],
   "source": [
    "random.choices(learn.dls.items, k=3)"
   ]
  },
  {
   "cell_type": "code",
   "execution_count": null,
   "id": "5b86232f-ada2-443c-b00c-8f7379608085",
   "metadata": {},
   "outputs": [],
   "source": [
    "#|export\n",
    "def get_results(learn, n=3, items=None, dls=None):\n",
    "    dls = ifnone(dls, learn.dls)\n",
    "    items = ifnone(items, random.choices(dls.items, k=3))\n",
    "    pipe0, pipe1 = dls.fs[0][0,1,2], dls.fs[0][3,4]\n",
    "    return predict_items(items, learn, pipe0, pipe1)"
   ]
  },
  {
   "cell_type": "code",
   "execution_count": null,
   "id": "ec86db59-0ee4-46c1-af35-290ba45284c0",
   "metadata": {},
   "outputs": [],
   "source": [
    "#| export\n",
    "def show_results(learn, n=3, items=None, **kwargs):\n",
    "    return plot_results(*get_results(learn,n,items), **kwargs)\n",
    "    "
   ]
  },
  {
   "cell_type": "code",
   "execution_count": null,
   "id": "25bc78ec-1348-4af5-ad48-89575654ff01",
   "metadata": {},
   "outputs": [],
   "source": [
    "learn.model.use_smooth = False"
   ]
  },
  {
   "cell_type": "code",
   "execution_count": null,
   "id": "38bb0979-c84d-45ff-8b25-6e737816204b",
   "metadata": {},
   "outputs": [
    {
     "data": {
      "text/html": [
       "\n",
       "<div id=\"altair-viz-66fef0a9d9014c7993ad0468a685c51f\"></div>\n",
       "<script type=\"text/javascript\">\n",
       "  var VEGA_DEBUG = (typeof VEGA_DEBUG == \"undefined\") ? {} : VEGA_DEBUG;\n",
       "  (function(spec, embedOpt){\n",
       "    let outputDiv = document.currentScript.previousElementSibling;\n",
       "    if (outputDiv.id !== \"altair-viz-66fef0a9d9014c7993ad0468a685c51f\") {\n",
       "      outputDiv = document.getElementById(\"altair-viz-66fef0a9d9014c7993ad0468a685c51f\");\n",
       "    }\n",
       "    const paths = {\n",
       "      \"vega\": \"https://cdn.jsdelivr.net/npm//vega@5?noext\",\n",
       "      \"vega-lib\": \"https://cdn.jsdelivr.net/npm//vega-lib?noext\",\n",
       "      \"vega-lite\": \"https://cdn.jsdelivr.net/npm//vega-lite@5.2.0?noext\",\n",
       "      \"vega-embed\": \"https://cdn.jsdelivr.net/npm//vega-embed@6?noext\",\n",
       "    };\n",
       "\n",
       "    function maybeLoadScript(lib, version) {\n",
       "      var key = `${lib.replace(\"-\", \"\")}_version`;\n",
       "      return (VEGA_DEBUG[key] == version) ?\n",
       "        Promise.resolve(paths[lib]) :\n",
       "        new Promise(function(resolve, reject) {\n",
       "          var s = document.createElement('script');\n",
       "          document.getElementsByTagName(\"head\")[0].appendChild(s);\n",
       "          s.async = true;\n",
       "          s.onload = () => {\n",
       "            VEGA_DEBUG[key] = version;\n",
       "            return resolve(paths[lib]);\n",
       "          };\n",
       "          s.onerror = () => reject(`Error loading script: ${paths[lib]}`);\n",
       "          s.src = paths[lib];\n",
       "        });\n",
       "    }\n",
       "\n",
       "    function showError(err) {\n",
       "      outputDiv.innerHTML = `<div class=\"error\" style=\"color:red;\">${err}</div>`;\n",
       "      throw err;\n",
       "    }\n",
       "\n",
       "    function displayChart(vegaEmbed) {\n",
       "      vegaEmbed(outputDiv, spec, embedOpt)\n",
       "        .catch(err => showError(`Javascript Error: ${err.message}<br>This usually means there's a typo in your chart specification. See the javascript console for the full traceback.`));\n",
       "    }\n",
       "\n",
       "    if(typeof define === \"function\" && define.amd) {\n",
       "      requirejs.config({paths});\n",
       "      require([\"vega-embed\"], displayChart, err => showError(`Error loading script: ${err.message}`));\n",
       "    } else {\n",
       "      maybeLoadScript(\"vega\", \"5\")\n",
       "        .then(() => maybeLoadScript(\"vega-lite\", \"5.2.0\"))\n",
       "        .then(() => maybeLoadScript(\"vega-embed\", \"6\"))\n",
       "        .catch(showError)\n",
       "        .then(() => displayChart(vegaEmbed));\n",
       "    }\n",
       "  })({\"config\": {\"view\": {\"continuousWidth\": 400, \"continuousHeight\": 300}}, \"hconcat\": [{\"vconcat\": [{\"hconcat\": [{\"layer\": [{\"data\": {\"name\": \"data-520c6e3b602f506d10218ae904a86226\"}, \"mark\": {\"type\": \"point\", \"color\": \"black\", \"fillOpacity\": 1, \"strokeWidth\": 1}, \"encoding\": {\"fill\": {\"field\": \"is_present\", \"legend\": {\"title\": [\"Observed data\"]}, \"scale\": {\"range\": [\"black\", \"#ffffff00\"]}, \"type\": \"nominal\"}, \"shape\": {\"field\": \"is_present\", \"type\": \"nominal\"}, \"x\": {\"axis\": {\"domain\": true, \"labels\": true, \"ticks\": true, \"title\": \"time\"}, \"field\": \"time\", \"type\": \"temporal\"}, \"y\": {\"field\": \"value\", \"scale\": {\"zero\": false}, \"title\": \"TA\", \"type\": \"quantitative\"}}}, {\"layer\": [{\"mark\": \"rule\", \"encoding\": {\"x\": {\"axis\": {\"domain\": false, \"labels\": false, \"ticks\": false, \"title\": null}, \"field\": \"gap_start\", \"type\": \"temporal\"}}}, {\"mark\": \"rule\", \"encoding\": {\"x\": {\"axis\": {\"domain\": false, \"labels\": false, \"ticks\": false, \"title\": null}, \"field\": \"gap_end\", \"type\": \"temporal\"}}}, {\"mark\": {\"type\": \"rect\", \"color\": \"black\", \"opacity\": 0.2}, \"encoding\": {\"x\": {\"axis\": {\"domain\": false, \"labels\": false, \"ticks\": false, \"title\": null}, \"field\": \"gap_start\", \"type\": \"temporal\"}, \"x2\": {\"field\": \"gap_end\"}}}], \"data\": {\"name\": \"data-474564c153eecda5bca1aa894a231ef9\"}}, {\"layer\": [{\"mark\": \"errorband\", \"encoding\": {\"color\": {\"field\": \"variable\", \"legend\": {\"title\": [\"Line: pred. mean\", \"area: +/- 2 std\"]}, \"type\": \"nominal\"}, \"x\": {\"field\": \"time\", \"type\": \"temporal\"}, \"y\": {\"field\": \"err_low\", \"scale\": {\"zero\": false}, \"title\": \"TA\", \"type\": \"quantitative\"}, \"y2\": {\"field\": \"err_high\"}}, \"name\": \"view_24\"}, {\"mark\": \"line\", \"encoding\": {\"color\": {\"field\": \"variable\", \"type\": \"nominal\"}, \"x\": {\"field\": \"time\", \"type\": \"temporal\"}, \"y\": {\"field\": \"mean\", \"scale\": {\"zero\": false}, \"title\": \"TA\", \"type\": \"quantitative\"}}}], \"data\": {\"name\": \"data-520c6e3b602f506d10218ae904a86226\"}}], \"height\": 150, \"title\": \"TA\", \"width\": 200}]}, {\"hconcat\": [{\"layer\": [{\"data\": {\"name\": \"data-ee35adaa1844a72521e8eeb0a369f041\"}, \"mark\": {\"type\": \"point\", \"color\": \"black\", \"fillOpacity\": 1, \"strokeWidth\": 1}, \"encoding\": {\"fill\": {\"field\": \"is_present\", \"legend\": {\"title\": [\"Observed data\"]}, \"scale\": {\"range\": [\"black\", \"#ffffff00\"]}, \"type\": \"nominal\"}, \"shape\": {\"field\": \"is_present\", \"type\": \"nominal\"}, \"x\": {\"axis\": {\"domain\": true, \"labels\": true, \"ticks\": true, \"title\": \"time\"}, \"field\": \"time\", \"type\": \"temporal\"}, \"y\": {\"field\": \"value\", \"scale\": {\"zero\": false}, \"title\": \"SW_IN\", \"type\": \"quantitative\"}}}, {\"layer\": [{\"mark\": \"rule\", \"encoding\": {\"x\": {\"axis\": {\"domain\": false, \"labels\": false, \"ticks\": false, \"title\": null}, \"field\": \"gap_start\", \"type\": \"temporal\"}}}, {\"mark\": \"rule\", \"encoding\": {\"x\": {\"axis\": {\"domain\": false, \"labels\": false, \"ticks\": false, \"title\": null}, \"field\": \"gap_end\", \"type\": \"temporal\"}}}, {\"mark\": {\"type\": \"rect\", \"color\": \"black\", \"opacity\": 0.2}, \"encoding\": {\"x\": {\"axis\": {\"domain\": false, \"labels\": false, \"ticks\": false, \"title\": null}, \"field\": \"gap_start\", \"type\": \"temporal\"}, \"x2\": {\"field\": \"gap_end\"}}}], \"data\": {\"name\": \"data-474564c153eecda5bca1aa894a231ef9\"}}, {\"layer\": [{\"mark\": \"errorband\", \"encoding\": {\"color\": {\"field\": \"variable\", \"legend\": {\"title\": [\"Line: pred. mean\", \"area: +/- 2 std\"]}, \"type\": \"nominal\"}, \"x\": {\"field\": \"time\", \"type\": \"temporal\"}, \"y\": {\"field\": \"err_low\", \"scale\": {\"zero\": false}, \"title\": \"SW_IN\", \"type\": \"quantitative\"}, \"y2\": {\"field\": \"err_high\"}}, \"name\": \"view_25\"}, {\"mark\": \"line\", \"encoding\": {\"color\": {\"field\": \"variable\", \"type\": \"nominal\"}, \"x\": {\"field\": \"time\", \"type\": \"temporal\"}, \"y\": {\"field\": \"mean\", \"scale\": {\"zero\": false}, \"title\": \"SW_IN\", \"type\": \"quantitative\"}}}], \"data\": {\"name\": \"data-ee35adaa1844a72521e8eeb0a369f041\"}}], \"height\": 150, \"title\": \"SW_IN\", \"width\": 200}]}, {\"hconcat\": [{\"layer\": [{\"mark\": {\"type\": \"point\", \"color\": \"black\", \"fillOpacity\": 1, \"strokeWidth\": 1}, \"encoding\": {\"fill\": {\"field\": \"is_present\", \"legend\": {\"title\": [\"Observed data\"]}, \"scale\": {\"range\": [\"black\", \"#ffffff00\"]}, \"type\": \"nominal\"}, \"shape\": {\"field\": \"is_present\", \"type\": \"nominal\"}, \"x\": {\"axis\": {\"domain\": true, \"labels\": true, \"ticks\": true, \"title\": \"time\"}, \"field\": \"time\", \"type\": \"temporal\"}, \"y\": {\"field\": \"value\", \"scale\": {\"zero\": false}, \"title\": \"VPD\", \"type\": \"quantitative\"}}}, {\"layer\": [{\"mark\": \"errorband\", \"encoding\": {\"color\": {\"field\": \"variable\", \"legend\": {\"title\": [\"Line: pred. mean\", \"area: +/- 2 std\"]}, \"type\": \"nominal\"}, \"x\": {\"field\": \"time\", \"type\": \"temporal\"}, \"y\": {\"field\": \"err_low\", \"scale\": {\"zero\": false}, \"title\": \"VPD\", \"type\": \"quantitative\"}, \"y2\": {\"field\": \"err_high\"}}, \"name\": \"view_26\"}, {\"mark\": \"line\", \"encoding\": {\"color\": {\"field\": \"variable\", \"type\": \"nominal\"}, \"x\": {\"field\": \"time\", \"type\": \"temporal\"}, \"y\": {\"field\": \"mean\", \"scale\": {\"zero\": false}, \"title\": \"VPD\", \"type\": \"quantitative\"}}}]}], \"height\": 150, \"title\": \"VPD\", \"width\": 200}], \"data\": {\"name\": \"data-7bbd789cb9c613f497ce6fa7d0a56565\"}}], \"title\": \"loss: 73.836617\"}, {\"vconcat\": [{\"hconcat\": [{\"layer\": [{\"data\": {\"name\": \"data-51b61c92949ffa6adce546f04af21a3b\"}, \"mark\": {\"type\": \"point\", \"color\": \"black\", \"fillOpacity\": 1, \"strokeWidth\": 1}, \"encoding\": {\"fill\": {\"field\": \"is_present\", \"legend\": {\"title\": [\"Observed data\"]}, \"scale\": {\"range\": [\"black\", \"#ffffff00\"]}, \"type\": \"nominal\"}, \"shape\": {\"field\": \"is_present\", \"type\": \"nominal\"}, \"x\": {\"axis\": {\"domain\": true, \"labels\": true, \"ticks\": true, \"title\": \"time\"}, \"field\": \"time\", \"type\": \"temporal\"}, \"y\": {\"field\": \"value\", \"scale\": {\"zero\": false}, \"title\": \"TA\", \"type\": \"quantitative\"}}}, {\"layer\": [{\"mark\": \"rule\", \"encoding\": {\"x\": {\"axis\": {\"domain\": false, \"labels\": false, \"ticks\": false, \"title\": null}, \"field\": \"gap_start\", \"type\": \"temporal\"}}}, {\"mark\": \"rule\", \"encoding\": {\"x\": {\"axis\": {\"domain\": false, \"labels\": false, \"ticks\": false, \"title\": null}, \"field\": \"gap_end\", \"type\": \"temporal\"}}}, {\"mark\": {\"type\": \"rect\", \"color\": \"black\", \"opacity\": 0.2}, \"encoding\": {\"x\": {\"axis\": {\"domain\": false, \"labels\": false, \"ticks\": false, \"title\": null}, \"field\": \"gap_start\", \"type\": \"temporal\"}, \"x2\": {\"field\": \"gap_end\"}}}], \"data\": {\"name\": \"data-f026606ad6646013b290deb37c577891\"}}, {\"layer\": [{\"mark\": \"errorband\", \"encoding\": {\"color\": {\"field\": \"variable\", \"legend\": {\"title\": [\"Line: pred. mean\", \"area: +/- 2 std\"]}, \"type\": \"nominal\"}, \"x\": {\"field\": \"time\", \"type\": \"temporal\"}, \"y\": {\"field\": \"err_low\", \"scale\": {\"zero\": false}, \"title\": \"TA\", \"type\": \"quantitative\"}, \"y2\": {\"field\": \"err_high\"}}, \"name\": \"view_27\"}, {\"mark\": \"line\", \"encoding\": {\"color\": {\"field\": \"variable\", \"type\": \"nominal\"}, \"x\": {\"field\": \"time\", \"type\": \"temporal\"}, \"y\": {\"field\": \"mean\", \"scale\": {\"zero\": false}, \"title\": \"TA\", \"type\": \"quantitative\"}}}], \"data\": {\"name\": \"data-51b61c92949ffa6adce546f04af21a3b\"}}], \"height\": 150, \"title\": \"TA\", \"width\": 200}]}, {\"hconcat\": [{\"layer\": [{\"data\": {\"name\": \"data-d6a6c40ed096483a08b07f65fda7038d\"}, \"mark\": {\"type\": \"point\", \"color\": \"black\", \"fillOpacity\": 1, \"strokeWidth\": 1}, \"encoding\": {\"fill\": {\"field\": \"is_present\", \"legend\": {\"title\": [\"Observed data\"]}, \"scale\": {\"range\": [\"black\", \"#ffffff00\"]}, \"type\": \"nominal\"}, \"shape\": {\"field\": \"is_present\", \"type\": \"nominal\"}, \"x\": {\"axis\": {\"domain\": true, \"labels\": true, \"ticks\": true, \"title\": \"time\"}, \"field\": \"time\", \"type\": \"temporal\"}, \"y\": {\"field\": \"value\", \"scale\": {\"zero\": false}, \"title\": \"SW_IN\", \"type\": \"quantitative\"}}}, {\"layer\": [{\"mark\": \"rule\", \"encoding\": {\"x\": {\"axis\": {\"domain\": false, \"labels\": false, \"ticks\": false, \"title\": null}, \"field\": \"gap_start\", \"type\": \"temporal\"}}}, {\"mark\": \"rule\", \"encoding\": {\"x\": {\"axis\": {\"domain\": false, \"labels\": false, \"ticks\": false, \"title\": null}, \"field\": \"gap_end\", \"type\": \"temporal\"}}}, {\"mark\": {\"type\": \"rect\", \"color\": \"black\", \"opacity\": 0.2}, \"encoding\": {\"x\": {\"axis\": {\"domain\": false, \"labels\": false, \"ticks\": false, \"title\": null}, \"field\": \"gap_start\", \"type\": \"temporal\"}, \"x2\": {\"field\": \"gap_end\"}}}], \"data\": {\"name\": \"data-f026606ad6646013b290deb37c577891\"}}, {\"layer\": [{\"mark\": \"errorband\", \"encoding\": {\"color\": {\"field\": \"variable\", \"legend\": {\"title\": [\"Line: pred. mean\", \"area: +/- 2 std\"]}, \"type\": \"nominal\"}, \"x\": {\"field\": \"time\", \"type\": \"temporal\"}, \"y\": {\"field\": \"err_low\", \"scale\": {\"zero\": false}, \"title\": \"SW_IN\", \"type\": \"quantitative\"}, \"y2\": {\"field\": \"err_high\"}}, \"name\": \"view_28\"}, {\"mark\": \"line\", \"encoding\": {\"color\": {\"field\": \"variable\", \"type\": \"nominal\"}, \"x\": {\"field\": \"time\", \"type\": \"temporal\"}, \"y\": {\"field\": \"mean\", \"scale\": {\"zero\": false}, \"title\": \"SW_IN\", \"type\": \"quantitative\"}}}], \"data\": {\"name\": \"data-d6a6c40ed096483a08b07f65fda7038d\"}}], \"height\": 150, \"title\": \"SW_IN\", \"width\": 200}]}, {\"hconcat\": [{\"layer\": [{\"mark\": {\"type\": \"point\", \"color\": \"black\", \"fillOpacity\": 1, \"strokeWidth\": 1}, \"encoding\": {\"fill\": {\"field\": \"is_present\", \"legend\": {\"title\": [\"Observed data\"]}, \"scale\": {\"range\": [\"black\", \"#ffffff00\"]}, \"type\": \"nominal\"}, \"shape\": {\"field\": \"is_present\", \"type\": \"nominal\"}, \"x\": {\"axis\": {\"domain\": true, \"labels\": true, \"ticks\": true, \"title\": \"time\"}, \"field\": \"time\", \"type\": \"temporal\"}, \"y\": {\"field\": \"value\", \"scale\": {\"zero\": false}, \"title\": \"VPD\", \"type\": \"quantitative\"}}}, {\"layer\": [{\"mark\": \"errorband\", \"encoding\": {\"color\": {\"field\": \"variable\", \"legend\": {\"title\": [\"Line: pred. mean\", \"area: +/- 2 std\"]}, \"type\": \"nominal\"}, \"x\": {\"field\": \"time\", \"type\": \"temporal\"}, \"y\": {\"field\": \"err_low\", \"scale\": {\"zero\": false}, \"title\": \"VPD\", \"type\": \"quantitative\"}, \"y2\": {\"field\": \"err_high\"}}, \"name\": \"view_29\"}, {\"mark\": \"line\", \"encoding\": {\"color\": {\"field\": \"variable\", \"type\": \"nominal\"}, \"x\": {\"field\": \"time\", \"type\": \"temporal\"}, \"y\": {\"field\": \"mean\", \"scale\": {\"zero\": false}, \"title\": \"VPD\", \"type\": \"quantitative\"}}}]}], \"height\": 150, \"title\": \"VPD\", \"width\": 200}], \"data\": {\"name\": \"data-a2791ed58ed1667e7aaf1f116cdd7250\"}}], \"title\": \"loss: 249.454910\"}, {\"vconcat\": [{\"hconcat\": [{\"layer\": [{\"data\": {\"name\": \"data-a111d3ee166f580a9d191477114affef\"}, \"mark\": {\"type\": \"point\", \"color\": \"black\", \"fillOpacity\": 1, \"strokeWidth\": 1}, \"encoding\": {\"fill\": {\"field\": \"is_present\", \"legend\": {\"title\": [\"Observed data\"]}, \"scale\": {\"range\": [\"black\", \"#ffffff00\"]}, \"type\": \"nominal\"}, \"shape\": {\"field\": \"is_present\", \"type\": \"nominal\"}, \"x\": {\"axis\": {\"domain\": true, \"labels\": true, \"ticks\": true, \"title\": \"time\"}, \"field\": \"time\", \"type\": \"temporal\"}, \"y\": {\"field\": \"value\", \"scale\": {\"zero\": false}, \"title\": \"TA\", \"type\": \"quantitative\"}}}, {\"layer\": [{\"mark\": \"rule\", \"encoding\": {\"x\": {\"axis\": {\"domain\": false, \"labels\": false, \"ticks\": false, \"title\": null}, \"field\": \"gap_start\", \"type\": \"temporal\"}}}, {\"mark\": \"rule\", \"encoding\": {\"x\": {\"axis\": {\"domain\": false, \"labels\": false, \"ticks\": false, \"title\": null}, \"field\": \"gap_end\", \"type\": \"temporal\"}}}, {\"mark\": {\"type\": \"rect\", \"color\": \"black\", \"opacity\": 0.2}, \"encoding\": {\"x\": {\"axis\": {\"domain\": false, \"labels\": false, \"ticks\": false, \"title\": null}, \"field\": \"gap_start\", \"type\": \"temporal\"}, \"x2\": {\"field\": \"gap_end\"}}}], \"data\": {\"name\": \"data-f5bec8e8f4d6bf146911d3a0351d9a82\"}}, {\"layer\": [{\"mark\": \"errorband\", \"encoding\": {\"color\": {\"field\": \"variable\", \"legend\": {\"title\": [\"Line: pred. mean\", \"area: +/- 2 std\"]}, \"type\": \"nominal\"}, \"x\": {\"field\": \"time\", \"type\": \"temporal\"}, \"y\": {\"field\": \"err_low\", \"scale\": {\"zero\": false}, \"title\": \"TA\", \"type\": \"quantitative\"}, \"y2\": {\"field\": \"err_high\"}}, \"name\": \"view_30\"}, {\"mark\": \"line\", \"encoding\": {\"color\": {\"field\": \"variable\", \"type\": \"nominal\"}, \"x\": {\"field\": \"time\", \"type\": \"temporal\"}, \"y\": {\"field\": \"mean\", \"scale\": {\"zero\": false}, \"title\": \"TA\", \"type\": \"quantitative\"}}}], \"data\": {\"name\": \"data-a111d3ee166f580a9d191477114affef\"}}], \"height\": 150, \"title\": \"TA\", \"width\": 200}]}, {\"hconcat\": [{\"layer\": [{\"data\": {\"name\": \"data-e45e38c8019115b30b03388ff318568b\"}, \"mark\": {\"type\": \"point\", \"color\": \"black\", \"fillOpacity\": 1, \"strokeWidth\": 1}, \"encoding\": {\"fill\": {\"field\": \"is_present\", \"legend\": {\"title\": [\"Observed data\"]}, \"scale\": {\"range\": [\"black\", \"#ffffff00\"]}, \"type\": \"nominal\"}, \"shape\": {\"field\": \"is_present\", \"type\": \"nominal\"}, \"x\": {\"axis\": {\"domain\": true, \"labels\": true, \"ticks\": true, \"title\": \"time\"}, \"field\": \"time\", \"type\": \"temporal\"}, \"y\": {\"field\": \"value\", \"scale\": {\"zero\": false}, \"title\": \"SW_IN\", \"type\": \"quantitative\"}}}, {\"layer\": [{\"mark\": \"rule\", \"encoding\": {\"x\": {\"axis\": {\"domain\": false, \"labels\": false, \"ticks\": false, \"title\": null}, \"field\": \"gap_start\", \"type\": \"temporal\"}}}, {\"mark\": \"rule\", \"encoding\": {\"x\": {\"axis\": {\"domain\": false, \"labels\": false, \"ticks\": false, \"title\": null}, \"field\": \"gap_end\", \"type\": \"temporal\"}}}, {\"mark\": {\"type\": \"rect\", \"color\": \"black\", \"opacity\": 0.2}, \"encoding\": {\"x\": {\"axis\": {\"domain\": false, \"labels\": false, \"ticks\": false, \"title\": null}, \"field\": \"gap_start\", \"type\": \"temporal\"}, \"x2\": {\"field\": \"gap_end\"}}}], \"data\": {\"name\": \"data-f5bec8e8f4d6bf146911d3a0351d9a82\"}}, {\"layer\": [{\"mark\": \"errorband\", \"encoding\": {\"color\": {\"field\": \"variable\", \"legend\": {\"title\": [\"Line: pred. mean\", \"area: +/- 2 std\"]}, \"type\": \"nominal\"}, \"x\": {\"field\": \"time\", \"type\": \"temporal\"}, \"y\": {\"field\": \"err_low\", \"scale\": {\"zero\": false}, \"title\": \"SW_IN\", \"type\": \"quantitative\"}, \"y2\": {\"field\": \"err_high\"}}, \"name\": \"view_31\"}, {\"mark\": \"line\", \"encoding\": {\"color\": {\"field\": \"variable\", \"type\": \"nominal\"}, \"x\": {\"field\": \"time\", \"type\": \"temporal\"}, \"y\": {\"field\": \"mean\", \"scale\": {\"zero\": false}, \"title\": \"SW_IN\", \"type\": \"quantitative\"}}}], \"data\": {\"name\": \"data-e45e38c8019115b30b03388ff318568b\"}}], \"height\": 150, \"title\": \"SW_IN\", \"width\": 200}]}, {\"hconcat\": [{\"layer\": [{\"mark\": {\"type\": \"point\", \"color\": \"black\", \"fillOpacity\": 1, \"strokeWidth\": 1}, \"encoding\": {\"fill\": {\"field\": \"is_present\", \"legend\": {\"title\": [\"Observed data\"]}, \"scale\": {\"range\": [\"black\", \"#ffffff00\"]}, \"type\": \"nominal\"}, \"shape\": {\"field\": \"is_present\", \"type\": \"nominal\"}, \"x\": {\"axis\": {\"domain\": true, \"labels\": true, \"ticks\": true, \"title\": \"time\"}, \"field\": \"time\", \"type\": \"temporal\"}, \"y\": {\"field\": \"value\", \"scale\": {\"zero\": false}, \"title\": \"VPD\", \"type\": \"quantitative\"}}}, {\"layer\": [{\"mark\": \"errorband\", \"encoding\": {\"color\": {\"field\": \"variable\", \"legend\": {\"title\": [\"Line: pred. mean\", \"area: +/- 2 std\"]}, \"type\": \"nominal\"}, \"x\": {\"field\": \"time\", \"type\": \"temporal\"}, \"y\": {\"field\": \"err_low\", \"scale\": {\"zero\": false}, \"title\": \"VPD\", \"type\": \"quantitative\"}, \"y2\": {\"field\": \"err_high\"}}, \"name\": \"view_32\"}, {\"mark\": \"line\", \"encoding\": {\"color\": {\"field\": \"variable\", \"type\": \"nominal\"}, \"x\": {\"field\": \"time\", \"type\": \"temporal\"}, \"y\": {\"field\": \"mean\", \"scale\": {\"zero\": false}, \"title\": \"VPD\", \"type\": \"quantitative\"}}}]}], \"height\": 150, \"title\": \"VPD\", \"width\": 200}], \"data\": {\"name\": \"data-2a2240b2342b4120ef9a2484119ba08c\"}}], \"title\": \"loss: 60.795776\"}], \"params\": [{\"name\": \"param_35\", \"select\": {\"type\": \"interval\", \"encodings\": [\"x\"]}, \"bind\": \"scales\", \"views\": [\"view_24\", \"view_25\", \"view_26\"]}, {\"name\": \"param_39\", \"select\": {\"type\": \"interval\", \"encodings\": [\"x\"]}, \"bind\": \"scales\", \"views\": [\"view_27\", \"view_28\", \"view_29\"]}, {\"name\": \"param_43\", \"select\": {\"type\": \"interval\", \"encodings\": [\"x\"]}, \"bind\": \"scales\", \"views\": [\"view_30\", \"view_31\", \"view_32\"]}], \"$schema\": \"https://vega.github.io/schema/vega-lite/v5.2.0.json\", \"datasets\": {\"data-520c6e3b602f506d10218ae904a86226\": [{\"time\": \"2000-11-26T01:00:00\", \"variable\": \"TA\", \"value\": 1.4800000190734863, \"is_present\": true, \"mean\": 10.042841911315918, \"std\": 9.822394371032715, \"err_low\": -9.601946830749512, \"err_high\": 29.68762969970703}, {\"time\": \"2000-11-26T01:30:00\", \"variable\": \"TA\", \"value\": 1.75, \"is_present\": true, \"mean\": -10.086692810058594, \"std\": 12.223834037780762, \"err_low\": -34.53436279296875, \"err_high\": 14.36097526550293}, {\"time\": \"2000-11-26T02:00:00\", \"variable\": \"TA\", \"value\": 1.3799999952316284, \"is_present\": true, \"mean\": -13.877485275268555, \"std\": 12.521677017211914, \"err_low\": -38.92083740234375, \"err_high\": 11.165868759155273}, {\"time\": \"2000-11-26T02:30:00\", \"variable\": \"TA\", \"value\": 1.7699999809265137, \"is_present\": true, \"mean\": -14.252782821655273, \"std\": 12.521169662475586, \"err_low\": -39.29512023925781, \"err_high\": 10.789556503295898}, {\"time\": \"2000-11-26T03:00:00\", \"variable\": \"TA\", \"value\": 1.4700000286102295, \"is_present\": false, \"mean\": -13.996931076049805, \"std\": 12.521233558654785, \"err_low\": -39.039398193359375, \"err_high\": 11.045536041259766}, {\"time\": \"2000-11-26T03:30:00\", \"variable\": \"TA\", \"value\": 1.309999942779541, \"is_present\": false, \"mean\": -14.407512664794922, \"std\": 12.69566822052002, \"err_low\": -39.798851013183594, \"err_high\": 10.983823776245117}, {\"time\": \"2000-11-26T04:00:00\", \"variable\": \"TA\", \"value\": 1.559999942779541, \"is_present\": true, \"mean\": -14.346527099609375, \"std\": 12.696455955505371, \"err_low\": -39.73944091796875, \"err_high\": 11.046384811401367}, {\"time\": \"2000-11-26T04:30:00\", \"variable\": \"TA\", \"value\": 1.7400000095367432, \"is_present\": true, \"mean\": -13.625577926635742, \"std\": 12.521435737609863, \"err_low\": -38.66844940185547, \"err_high\": 11.417293548583984}, {\"time\": \"2000-11-26T05:00:00\", \"variable\": \"TA\", \"value\": 1.7699999809265137, \"is_present\": true, \"mean\": -13.17910385131836, \"std\": 12.521186828613281, \"err_low\": -38.22147750854492, \"err_high\": 11.863269805908203}, {\"time\": \"2000-11-26T05:30:00\", \"variable\": \"TA\", \"value\": 2.069999933242798, \"is_present\": true, \"mean\": -12.906845092773438, \"std\": 12.521180152893066, \"err_low\": -37.94920349121094, \"err_high\": 12.135515213012695}], \"data-474564c153eecda5bca1aa894a231ef9\": [{\"gap_start\": \"2000-11-26T03:00:00\", \"gap_end\": \"2000-11-26T03:30:00\"}], \"data-ee35adaa1844a72521e8eeb0a369f041\": [{\"time\": \"2000-11-26T01:00:00\", \"variable\": \"SW_IN\", \"value\": 0.0, \"is_present\": true, \"mean\": 248.69952392578125, \"std\": 163.27084350585938, \"err_low\": -77.8421630859375, \"err_high\": 575.2412109375}, {\"time\": \"2000-11-26T01:30:00\", \"variable\": \"SW_IN\", \"value\": 0.0, \"is_present\": true, \"mean\": 100.7446517944336, \"std\": 170.74496459960938, \"err_low\": -240.74526977539062, \"err_high\": 442.2345886230469}, {\"time\": \"2000-11-26T02:00:00\", \"variable\": \"SW_IN\", \"value\": 0.0, \"is_present\": true, \"mean\": 59.30632400512695, \"std\": 171.61033630371094, \"err_low\": -283.9143371582031, \"err_high\": 402.5270080566406}, {\"time\": \"2000-11-26T02:30:00\", \"variable\": \"SW_IN\", \"value\": 0.0, \"is_present\": true, \"mean\": 47.42880630493164, \"std\": 171.5630645751953, \"err_low\": -295.69732666015625, \"err_high\": 390.554931640625}, {\"time\": \"2000-11-26T03:00:00\", \"variable\": \"SW_IN\", \"value\": 0.0, \"is_present\": false, \"mean\": 43.75669860839844, \"std\": 171.5482177734375, \"err_low\": -299.3397216796875, \"err_high\": 386.8531494140625}, {\"time\": \"2000-11-26T03:30:00\", \"variable\": \"SW_IN\", \"value\": 0.0, \"is_present\": false, \"mean\": 39.98121643066406, \"std\": 171.8296356201172, \"err_low\": -303.67803955078125, \"err_high\": 383.6405029296875}, {\"time\": \"2000-11-26T04:00:00\", \"variable\": \"SW_IN\", \"value\": 0.0, \"is_present\": true, \"mean\": 39.86326599121094, \"std\": 171.82748413085938, \"err_low\": -303.79168701171875, \"err_high\": 383.51824951171875}, {\"time\": \"2000-11-26T04:30:00\", \"variable\": \"SW_IN\", \"value\": 0.0, \"is_present\": true, \"mean\": 43.31793975830078, \"std\": 171.54173278808594, \"err_low\": -299.7655334472656, \"err_high\": 386.4013977050781}, {\"time\": \"2000-11-26T05:00:00\", \"variable\": \"SW_IN\", \"value\": 0.0, \"is_present\": true, \"mean\": 46.101661682128906, \"std\": 171.54122924804688, \"err_low\": -296.9808044433594, \"err_high\": 389.1841125488281}, {\"time\": \"2000-11-26T05:30:00\", \"variable\": \"SW_IN\", \"value\": 0.0, \"is_present\": true, \"mean\": 48.08269500732422, \"std\": 171.54054260253906, \"err_low\": -294.9983825683594, \"err_high\": 391.1637878417969}], \"data-7bbd789cb9c613f497ce6fa7d0a56565\": [{\"time\": \"2000-11-26T01:00:00\", \"variable\": \"VPD\", \"value\": 0.6869999766349792, \"is_present\": true, \"mean\": 3.7830052375793457, \"std\": 7.600846767425537, \"err_low\": -11.41868782043457, \"err_high\": 18.984699249267578}, {\"time\": \"2000-11-26T01:30:00\", \"variable\": \"VPD\", \"value\": 0.8759999871253967, \"is_present\": true, \"mean\": -13.573668479919434, \"std\": 10.962274551391602, \"err_low\": -35.49821853637695, \"err_high\": 8.35088062286377}, {\"time\": \"2000-11-26T02:00:00\", \"variable\": \"VPD\", \"value\": 0.7760000228881836, \"is_present\": true, \"mean\": -15.548089027404785, \"std\": 11.16780948638916, \"err_low\": -37.88370895385742, \"err_high\": 6.787529945373535}, {\"time\": \"2000-11-26T02:30:00\", \"variable\": \"VPD\", \"value\": 0.8799999952316284, \"is_present\": true, \"mean\": -15.102240562438965, \"std\": 11.164826393127441, \"err_low\": -37.43189239501953, \"err_high\": 7.227412223815918}, {\"time\": \"2000-11-26T03:00:00\", \"variable\": \"VPD\", \"value\": 0.6880000233650208, \"is_present\": true, \"mean\": -14.409504890441895, \"std\": 11.163829803466797, \"err_low\": -36.73716354370117, \"err_high\": 7.918154716491699}, {\"time\": \"2000-11-26T03:30:00\", \"variable\": \"VPD\", \"value\": 0.5889999866485596, \"is_present\": true, \"mean\": -14.667935371398926, \"std\": 11.375497817993164, \"err_low\": -37.41893005371094, \"err_high\": 8.083060264587402}, {\"time\": \"2000-11-26T04:00:00\", \"variable\": \"VPD\", \"value\": 0.6679999828338623, \"is_present\": true, \"mean\": -14.555926322937012, \"std\": 11.3781099319458, \"err_low\": -37.3121452331543, \"err_high\": 8.20029354095459}, {\"time\": \"2000-11-26T04:30:00\", \"variable\": \"VPD\", \"value\": 0.8199999928474426, \"is_present\": true, \"mean\": -13.79322338104248, \"std\": 11.16501522064209, \"err_low\": -36.123252868652344, \"err_high\": 8.5368070602417}, {\"time\": \"2000-11-26T05:00:00\", \"variable\": \"VPD\", \"value\": 0.8519999980926514, \"is_present\": true, \"mean\": -13.378888130187988, \"std\": 11.163662910461426, \"err_low\": -35.706214904785156, \"err_high\": 8.948437690734863}, {\"time\": \"2000-11-26T05:30:00\", \"variable\": \"VPD\", \"value\": 0.9440000057220459, \"is_present\": true, \"mean\": -13.1649808883667, \"std\": 11.163511276245117, \"err_low\": -35.49200439453125, \"err_high\": 9.162041664123535}], \"data-51b61c92949ffa6adce546f04af21a3b\": [{\"time\": \"2000-05-18T09:00:00\", \"variable\": \"TA\", \"value\": 11.619999885559082, \"is_present\": true, \"mean\": 10.042841911315918, \"std\": 9.822394371032715, \"err_low\": -9.601946830749512, \"err_high\": 29.68762969970703}, {\"time\": \"2000-05-18T09:30:00\", \"variable\": \"TA\", \"value\": 11.949999809265137, \"is_present\": false, \"mean\": 28.573280334472656, \"std\": 12.223834037780762, \"err_low\": 4.125612258911133, \"err_high\": 53.02095031738281}, {\"time\": \"2000-05-18T10:00:00\", \"variable\": \"TA\", \"value\": 12.569999694824219, \"is_present\": false, \"mean\": 36.76543426513672, \"std\": 12.694687843322754, \"err_low\": 11.376058578491211, \"err_high\": 62.154808044433594}, {\"time\": \"2000-05-18T10:30:00\", \"variable\": \"TA\", \"value\": 12.670000076293945, \"is_present\": true, \"mean\": 42.66776657104492, \"std\": 12.697186470031738, \"err_low\": 17.273393630981445, \"err_high\": 68.06214141845703}, {\"time\": \"2000-05-18T11:00:00\", \"variable\": \"TA\", \"value\": 12.729999542236328, \"is_present\": true, \"mean\": 46.438114166259766, \"std\": 12.521507263183594, \"err_low\": 21.395099639892578, \"err_high\": 71.48112487792969}, {\"time\": \"2000-05-18T11:30:00\", \"variable\": \"TA\", \"value\": 12.510000228881836, \"is_present\": true, \"mean\": 48.775978088378906, \"std\": 12.52120590209961, \"err_low\": 23.733566284179688, \"err_high\": 73.81838989257812}, {\"time\": \"2000-05-18T12:00:00\", \"variable\": \"TA\", \"value\": 13.020000457763672, \"is_present\": true, \"mean\": 50.306827545166016, \"std\": 12.521188735961914, \"err_low\": 25.264450073242188, \"err_high\": 75.34920501708984}, {\"time\": \"2000-05-18T12:30:00\", \"variable\": \"TA\", \"value\": 13.029999732971191, \"is_present\": true, \"mean\": 53.60746383666992, \"std\": 12.521180152893066, \"err_low\": 28.56510353088379, \"err_high\": 78.64982604980469}, {\"time\": \"2000-05-18T13:00:00\", \"variable\": \"TA\", \"value\": 13.050000190734863, \"is_present\": true, \"mean\": 54.61964416503906, \"std\": 12.52117919921875, \"err_low\": 29.577285766601562, \"err_high\": 79.66200256347656}, {\"time\": \"2000-05-18T13:30:00\", \"variable\": \"TA\", \"value\": 13.039999961853027, \"is_present\": true, \"mean\": 56.08794403076172, \"std\": 12.521178245544434, \"err_low\": 31.04558753967285, \"err_high\": 81.13030242919922}], \"data-f026606ad6646013b290deb37c577891\": [{\"gap_start\": \"2000-05-18T09:30:00\", \"gap_end\": \"2000-05-18T10:00:00\"}], \"data-d6a6c40ed096483a08b07f65fda7038d\": [{\"time\": \"2000-05-18T09:00:00\", \"variable\": \"SW_IN\", \"value\": 207.7100067138672, \"is_present\": true, \"mean\": 248.69952392578125, \"std\": 163.27084350585938, \"err_low\": -77.8421630859375, \"err_high\": 575.2412109375}, {\"time\": \"2000-05-18T09:30:00\", \"variable\": \"SW_IN\", \"value\": 355.3599853515625, \"is_present\": false, \"mean\": 371.9499206542969, \"std\": 170.74496459960938, \"err_low\": 30.459991455078125, \"err_high\": 713.4398193359375}, {\"time\": \"2000-05-18T10:00:00\", \"variable\": \"SW_IN\", \"value\": 542.010009765625, \"is_present\": false, \"mean\": 421.39959716796875, \"std\": 171.9038848876953, \"err_low\": 77.59182739257812, \"err_high\": 765.2073974609375}, {\"time\": \"2000-05-18T10:30:00\", \"variable\": \"SW_IN\", \"value\": 369.489990234375, \"is_present\": true, \"mean\": 459.0452880859375, \"std\": 171.8585662841797, \"err_low\": 115.32815551757812, \"err_high\": 802.762451171875}, {\"time\": \"2000-05-18T11:00:00\", \"variable\": \"SW_IN\", \"value\": 437.0199890136719, \"is_present\": true, \"mean\": 483.1668395996094, \"std\": 171.5494384765625, \"err_low\": 140.06796264648438, \"err_high\": 826.2657470703125}, {\"time\": \"2000-05-18T11:30:00\", \"variable\": \"SW_IN\", \"value\": 371.4599914550781, \"is_present\": true, \"mean\": 500.031982421875, \"std\": 171.54364013671875, \"err_low\": 156.9447021484375, \"err_high\": 843.1192626953125}, {\"time\": \"2000-05-18T12:00:00\", \"variable\": \"SW_IN\", \"value\": 492.8500061035156, \"is_present\": true, \"mean\": 513.4519653320312, \"std\": 171.54132080078125, \"err_low\": 170.36932373046875, \"err_high\": 856.5346069335938}, {\"time\": \"2000-05-18T12:30:00\", \"variable\": \"SW_IN\", \"value\": 380.7699890136719, \"is_present\": true, \"mean\": 535.6015625, \"std\": 171.54042053222656, \"err_low\": 192.52072143554688, \"err_high\": 878.682373046875}, {\"time\": \"2000-05-18T13:00:00\", \"variable\": \"SW_IN\", \"value\": 377.25, \"is_present\": true, \"mean\": 546.180419921875, \"std\": 171.54013061523438, \"err_low\": 203.10015869140625, \"err_high\": 889.2606811523438}, {\"time\": \"2000-05-18T13:30:00\", \"variable\": \"SW_IN\", \"value\": 205.8000030517578, \"is_present\": true, \"mean\": 561.1116333007812, \"std\": 171.5400390625, \"err_low\": 218.03155517578125, \"err_high\": 904.1917114257812}], \"data-a2791ed58ed1667e7aaf1f116cdd7250\": [{\"time\": \"2000-05-18T09:00:00\", \"variable\": \"VPD\", \"value\": 3.7899999618530273, \"is_present\": true, \"mean\": 3.7830052375793457, \"std\": 7.600846767425537, \"err_low\": -11.41868782043457, \"err_high\": 18.984699249267578}, {\"time\": \"2000-05-18T09:30:00\", \"variable\": \"VPD\", \"value\": 4.301000118255615, \"is_present\": true, \"mean\": 24.535202026367188, \"std\": 10.962274551391602, \"err_low\": 2.6106529235839844, \"err_high\": 46.45975112915039}, {\"time\": \"2000-05-18T10:00:00\", \"variable\": \"VPD\", \"value\": 5.873000144958496, \"is_present\": true, \"mean\": 32.40620803833008, \"std\": 11.374715805053711, \"err_low\": 9.656776428222656, \"err_high\": 55.1556396484375}, {\"time\": \"2000-05-18T10:30:00\", \"variable\": \"VPD\", \"value\": 6.288000106811523, \"is_present\": true, \"mean\": 38.507904052734375, \"std\": 11.378128051757812, \"err_low\": 15.75164794921875, \"err_high\": 61.26416015625}, {\"time\": \"2000-05-18T11:00:00\", \"variable\": \"VPD\", \"value\": 5.9039998054504395, \"is_present\": true, \"mean\": 42.4092903137207, \"std\": 11.165273666381836, \"err_low\": 20.07874298095703, \"err_high\": 64.73983764648438}, {\"time\": \"2000-05-18T11:30:00\", \"variable\": \"VPD\", \"value\": 5.683000087738037, \"is_present\": true, \"mean\": 44.69738006591797, \"std\": 11.163761138916016, \"err_low\": 22.369857788085938, \"err_high\": 67.02490234375}, {\"time\": \"2000-05-18T12:00:00\", \"variable\": \"VPD\", \"value\": 6.765999794006348, \"is_present\": true, \"mean\": 46.04351806640625, \"std\": 11.163548469543457, \"err_low\": 23.716421127319336, \"err_high\": 68.37061309814453}, {\"time\": \"2000-05-18T12:30:00\", \"variable\": \"VPD\", \"value\": 6.639999866485596, \"is_present\": true, \"mean\": 49.13808059692383, \"std\": 11.163506507873535, \"err_low\": 26.811067581176758, \"err_high\": 71.46509552001953}, {\"time\": \"2000-05-18T13:00:00\", \"variable\": \"VPD\", \"value\": 6.396999835968018, \"is_present\": true, \"mean\": 49.88283157348633, \"std\": 11.163496017456055, \"err_low\": 27.55583953857422, \"err_high\": 72.20982360839844}, {\"time\": \"2000-05-18T13:30:00\", \"variable\": \"VPD\", \"value\": 6.638000011444092, \"is_present\": true, \"mean\": 50.99808120727539, \"std\": 11.163490295410156, \"err_low\": 28.671100616455078, \"err_high\": 73.32505798339844}], \"data-a111d3ee166f580a9d191477114affef\": [{\"time\": \"2001-02-11T23:00:00\", \"variable\": \"TA\", \"value\": 6.019999980926514, \"is_present\": true, \"mean\": 10.042841911315918, \"std\": 9.822394371032715, \"err_low\": -9.601946830749512, \"err_high\": 29.68762969970703}, {\"time\": \"2001-02-11T23:30:00\", \"variable\": \"TA\", \"value\": 5.840000152587891, \"is_present\": true, \"mean\": -3.1786599159240723, \"std\": 12.223834037780762, \"err_low\": -27.626327514648438, \"err_high\": 21.26900863647461}, {\"time\": \"2001-02-12T00:00:00\", \"variable\": \"TA\", \"value\": 5.889999866485596, \"is_present\": true, \"mean\": -6.629618167877197, \"std\": 12.521677017211914, \"err_low\": -31.672971725463867, \"err_high\": 18.41373634338379}, {\"time\": \"2001-02-12T00:30:00\", \"variable\": \"TA\", \"value\": 6.0, \"is_present\": true, \"mean\": -7.264960765838623, \"std\": 12.521169662475586, \"err_low\": -32.30730056762695, \"err_high\": 17.77737808227539}, {\"time\": \"2001-02-12T01:00:00\", \"variable\": \"TA\", \"value\": 6.0, \"is_present\": true, \"mean\": -7.6369309425354, \"std\": 12.521233558654785, \"err_low\": -32.67939758300781, \"err_high\": 17.405536651611328}, {\"time\": \"2001-02-12T01:30:00\", \"variable\": \"TA\", \"value\": 5.949999809265137, \"is_present\": true, \"mean\": -7.959410190582275, \"std\": 12.521195411682129, \"err_low\": -33.001800537109375, \"err_high\": 17.08298110961914}, {\"time\": \"2001-02-12T02:00:00\", \"variable\": \"TA\", \"value\": 5.829999923706055, \"is_present\": true, \"mean\": -8.216890335083008, \"std\": 12.521185874938965, \"err_low\": -33.25926208496094, \"err_high\": 16.825481414794922}, {\"time\": \"2001-02-12T02:30:00\", \"variable\": \"TA\", \"value\": 5.78000020980835, \"is_present\": false, \"mean\": -8.543004989624023, \"std\": 12.521180152893066, \"err_low\": -33.585365295410156, \"err_high\": 16.49935531616211}, {\"time\": \"2001-02-12T03:00:00\", \"variable\": \"TA\", \"value\": 5.789999961853027, \"is_present\": false, \"mean\": -9.690319061279297, \"std\": 12.695558547973633, \"err_low\": -35.08143615722656, \"err_high\": 15.700798034667969}, {\"time\": \"2001-02-12T03:30:00\", \"variable\": \"TA\", \"value\": 5.610000133514404, \"is_present\": true, \"mean\": -9.769920349121094, \"std\": 12.69641399383545, \"err_low\": -35.162750244140625, \"err_high\": 15.622907638549805}], \"data-f5bec8e8f4d6bf146911d3a0351d9a82\": [{\"gap_start\": \"2001-02-12T02:30:00\", \"gap_end\": \"2001-02-12T03:00:00\"}], \"data-e45e38c8019115b30b03388ff318568b\": [{\"time\": \"2001-02-11T23:00:00\", \"variable\": \"SW_IN\", \"value\": 0.0, \"is_present\": true, \"mean\": 248.69952392578125, \"std\": 163.27084350585938, \"err_low\": -77.8421630859375, \"err_high\": 575.2412109375}, {\"time\": \"2001-02-11T23:30:00\", \"variable\": \"SW_IN\", \"value\": 0.0, \"is_present\": true, \"mean\": 144.665283203125, \"std\": 170.74496459960938, \"err_low\": -196.82464599609375, \"err_high\": 486.15521240234375}, {\"time\": \"2001-02-12T00:00:00\", \"variable\": \"SW_IN\", \"value\": 0.0, \"is_present\": true, \"mean\": 109.41148376464844, \"std\": 171.61033630371094, \"err_low\": -233.80918884277344, \"err_high\": 452.63214111328125}, {\"time\": \"2001-02-12T00:30:00\", \"variable\": \"SW_IN\", \"value\": 0.0, \"is_present\": true, \"mean\": 97.3458480834961, \"std\": 171.5630645751953, \"err_low\": -245.7802734375, \"err_high\": 440.47198486328125}, {\"time\": \"2001-02-12T01:00:00\", \"variable\": \"SW_IN\", \"value\": 0.0, \"is_present\": true, \"mean\": 90.35160827636719, \"std\": 171.5482177734375, \"err_low\": -252.7448272705078, \"err_high\": 433.44805908203125}, {\"time\": \"2001-02-12T01:30:00\", \"variable\": \"SW_IN\", \"value\": 0.0, \"is_present\": true, \"mean\": 85.57332611083984, \"std\": 171.5426483154297, \"err_low\": -257.511962890625, \"err_high\": 428.65863037109375}, {\"time\": \"2001-02-12T02:00:00\", \"variable\": \"SW_IN\", \"value\": 0.0, \"is_present\": true, \"mean\": 82.81317901611328, \"std\": 171.54086303710938, \"err_low\": -260.2685546875, \"err_high\": 425.8948974609375}, {\"time\": \"2001-02-12T02:30:00\", \"variable\": \"SW_IN\", \"value\": 0.0, \"is_present\": false, \"mean\": 80.8406753540039, \"std\": 171.540283203125, \"err_low\": -262.2398986816406, \"err_high\": 423.9212341308594}, {\"time\": \"2001-02-12T03:00:00\", \"variable\": \"SW_IN\", \"value\": 0.0, \"is_present\": false, \"mean\": 76.06956481933594, \"std\": 171.82618713378906, \"err_low\": -267.58282470703125, \"err_high\": 419.721923828125}, {\"time\": \"2001-02-12T03:30:00\", \"variable\": \"SW_IN\", \"value\": 0.0, \"is_present\": true, \"mean\": 76.66340637207031, \"std\": 171.8263702392578, \"err_low\": -266.98931884765625, \"err_high\": 420.316162109375}], \"data-2a2240b2342b4120ef9a2484119ba08c\": [{\"time\": \"2001-02-11T23:00:00\", \"variable\": \"VPD\", \"value\": 2.434999942779541, \"is_present\": true, \"mean\": 3.7830052375793457, \"std\": 7.600846767425537, \"err_low\": -11.41868782043457, \"err_high\": 18.984699249267578}, {\"time\": \"2001-02-11T23:30:00\", \"variable\": \"VPD\", \"value\": 2.2269999980926514, \"is_present\": true, \"mean\": -7.390995025634766, \"std\": 10.962274551391602, \"err_low\": -29.31554412841797, \"err_high\": 14.533554077148438}, {\"time\": \"2001-02-12T00:00:00\", \"variable\": \"VPD\", \"value\": 2.066999912261963, \"is_present\": true, \"mean\": -9.41191291809082, \"std\": 11.16780948638916, \"err_low\": -31.74753189086914, \"err_high\": 12.9237060546875}, {\"time\": \"2001-02-12T00:30:00\", \"variable\": \"VPD\", \"value\": 1.9759999513626099, \"is_present\": true, \"mean\": -9.359246253967285, \"std\": 11.164826393127441, \"err_low\": -31.688899993896484, \"err_high\": 12.970406532287598}, {\"time\": \"2001-02-12T01:00:00\", \"variable\": \"VPD\", \"value\": 1.8769999742507935, \"is_present\": true, \"mean\": -9.326719284057617, \"std\": 11.163829803466797, \"err_low\": -31.65437889099121, \"err_high\": 13.000940322875977}, {\"time\": \"2001-02-12T01:30:00\", \"variable\": \"VPD\", \"value\": 1.7269999980926514, \"is_present\": true, \"mean\": -9.410863876342773, \"std\": 11.163601875305176, \"err_low\": -31.738067626953125, \"err_high\": 12.916339874267578}, {\"time\": \"2001-02-12T02:00:00\", \"variable\": \"VPD\", \"value\": 1.347000002861023, \"is_present\": true, \"mean\": -9.531331062316895, \"std\": 11.163527488708496, \"err_low\": -31.858386993408203, \"err_high\": 12.795723915100098}, {\"time\": \"2001-02-12T02:30:00\", \"variable\": \"VPD\", \"value\": 0.9649999737739563, \"is_present\": true, \"mean\": -9.83480167388916, \"std\": 11.163501739501953, \"err_low\": -32.16180419921875, \"err_high\": 12.492201805114746}, {\"time\": \"2001-02-12T03:00:00\", \"variable\": \"VPD\", \"value\": 0.8510000109672546, \"is_present\": true, \"mean\": -11.087944984436035, \"std\": 11.37548542022705, \"err_low\": -33.83891677856445, \"err_high\": 11.663025856018066}, {\"time\": \"2001-02-12T03:30:00\", \"variable\": \"VPD\", \"value\": 0.8989999890327454, \"is_present\": true, \"mean\": -11.256874084472656, \"std\": 11.378108978271484, \"err_low\": -34.013092041015625, \"err_high\": 11.499343872070312}]}}, {\"mode\": \"vega-lite\"});\n",
       "</script>"
      ],
      "text/plain": [
       "alt.HConcatChart(...)"
      ]
     },
     "execution_count": null,
     "metadata": {},
     "output_type": "execute_result"
    }
   ],
   "source": [
    "show_results(learn)"
   ]
  },
  {
   "cell_type": "code",
   "execution_count": null,
   "id": "4b36ddaf-759c-4b42-be6e-4ad2843088c0",
   "metadata": {},
   "outputs": [
    {
     "data": {
      "text/html": [
       "\n",
       "<div id=\"altair-viz-42005a21724543dd815ebaaa590475c4\"></div>\n",
       "<script type=\"text/javascript\">\n",
       "  var VEGA_DEBUG = (typeof VEGA_DEBUG == \"undefined\") ? {} : VEGA_DEBUG;\n",
       "  (function(spec, embedOpt){\n",
       "    let outputDiv = document.currentScript.previousElementSibling;\n",
       "    if (outputDiv.id !== \"altair-viz-42005a21724543dd815ebaaa590475c4\") {\n",
       "      outputDiv = document.getElementById(\"altair-viz-42005a21724543dd815ebaaa590475c4\");\n",
       "    }\n",
       "    const paths = {\n",
       "      \"vega\": \"https://cdn.jsdelivr.net/npm//vega@5?noext\",\n",
       "      \"vega-lib\": \"https://cdn.jsdelivr.net/npm//vega-lib?noext\",\n",
       "      \"vega-lite\": \"https://cdn.jsdelivr.net/npm//vega-lite@5.2.0?noext\",\n",
       "      \"vega-embed\": \"https://cdn.jsdelivr.net/npm//vega-embed@6?noext\",\n",
       "    };\n",
       "\n",
       "    function maybeLoadScript(lib, version) {\n",
       "      var key = `${lib.replace(\"-\", \"\")}_version`;\n",
       "      return (VEGA_DEBUG[key] == version) ?\n",
       "        Promise.resolve(paths[lib]) :\n",
       "        new Promise(function(resolve, reject) {\n",
       "          var s = document.createElement('script');\n",
       "          document.getElementsByTagName(\"head\")[0].appendChild(s);\n",
       "          s.async = true;\n",
       "          s.onload = () => {\n",
       "            VEGA_DEBUG[key] = version;\n",
       "            return resolve(paths[lib]);\n",
       "          };\n",
       "          s.onerror = () => reject(`Error loading script: ${paths[lib]}`);\n",
       "          s.src = paths[lib];\n",
       "        });\n",
       "    }\n",
       "\n",
       "    function showError(err) {\n",
       "      outputDiv.innerHTML = `<div class=\"error\" style=\"color:red;\">${err}</div>`;\n",
       "      throw err;\n",
       "    }\n",
       "\n",
       "    function displayChart(vegaEmbed) {\n",
       "      vegaEmbed(outputDiv, spec, embedOpt)\n",
       "        .catch(err => showError(`Javascript Error: ${err.message}<br>This usually means there's a typo in your chart specification. See the javascript console for the full traceback.`));\n",
       "    }\n",
       "\n",
       "    if(typeof define === \"function\" && define.amd) {\n",
       "      requirejs.config({paths});\n",
       "      require([\"vega-embed\"], displayChart, err => showError(`Error loading script: ${err.message}`));\n",
       "    } else {\n",
       "      maybeLoadScript(\"vega\", \"5\")\n",
       "        .then(() => maybeLoadScript(\"vega-lite\", \"5.2.0\"))\n",
       "        .then(() => maybeLoadScript(\"vega-embed\", \"6\"))\n",
       "        .catch(showError)\n",
       "        .then(() => displayChart(vegaEmbed));\n",
       "    }\n",
       "  })({\"config\": {\"view\": {\"continuousWidth\": 400, \"continuousHeight\": 300}}, \"hconcat\": [{\"vconcat\": [{\"hconcat\": [{\"layer\": [{\"data\": {\"name\": \"data-fa32dba3508beb75dc19fcaf5571626e\"}, \"mark\": {\"type\": \"point\", \"color\": \"black\", \"fillOpacity\": 1, \"strokeWidth\": 1}, \"encoding\": {\"fill\": {\"field\": \"is_present\", \"legend\": {\"title\": [\"Observed data\"]}, \"scale\": {\"range\": [\"black\", \"#ffffff00\"]}, \"type\": \"nominal\"}, \"shape\": {\"field\": \"is_present\", \"type\": \"nominal\"}, \"x\": {\"axis\": {\"domain\": true, \"labels\": true, \"ticks\": true, \"title\": \"time\"}, \"field\": \"time\", \"type\": \"temporal\"}, \"y\": {\"field\": \"value\", \"scale\": {\"zero\": false}, \"title\": \"TA\", \"type\": \"quantitative\"}}}, {\"layer\": [{\"mark\": \"rule\", \"encoding\": {\"x\": {\"axis\": {\"domain\": false, \"labels\": false, \"ticks\": false, \"title\": null}, \"field\": \"gap_start\", \"type\": \"temporal\"}}}, {\"mark\": \"rule\", \"encoding\": {\"x\": {\"axis\": {\"domain\": false, \"labels\": false, \"ticks\": false, \"title\": null}, \"field\": \"gap_end\", \"type\": \"temporal\"}}}, {\"mark\": {\"type\": \"rect\", \"color\": \"black\", \"opacity\": 0.2}, \"encoding\": {\"x\": {\"axis\": {\"domain\": false, \"labels\": false, \"ticks\": false, \"title\": null}, \"field\": \"gap_start\", \"type\": \"temporal\"}, \"x2\": {\"field\": \"gap_end\"}}}], \"data\": {\"name\": \"data-98dec86aa208c87fa35b941f906be3f1\"}}, {\"layer\": [{\"mark\": \"errorband\", \"encoding\": {\"color\": {\"field\": \"variable\", \"legend\": {\"title\": [\"Line: pred. mean\", \"area: +/- 2 std\"]}, \"type\": \"nominal\"}, \"x\": {\"field\": \"time\", \"type\": \"temporal\"}, \"y\": {\"field\": \"err_low\", \"scale\": {\"zero\": false}, \"title\": \"TA\", \"type\": \"quantitative\"}, \"y2\": {\"field\": \"err_high\"}}, \"name\": \"view_33\"}, {\"mark\": \"line\", \"encoding\": {\"color\": {\"field\": \"variable\", \"type\": \"nominal\"}, \"x\": {\"field\": \"time\", \"type\": \"temporal\"}, \"y\": {\"field\": \"mean\", \"scale\": {\"zero\": false}, \"title\": \"TA\", \"type\": \"quantitative\"}}}], \"data\": {\"name\": \"data-fa32dba3508beb75dc19fcaf5571626e\"}}], \"height\": 150, \"title\": \"TA\", \"width\": 200}]}, {\"hconcat\": [{\"layer\": [{\"data\": {\"name\": \"data-3c70c346bdb18de3be0edd144f64cff7\"}, \"mark\": {\"type\": \"point\", \"color\": \"black\", \"fillOpacity\": 1, \"strokeWidth\": 1}, \"encoding\": {\"fill\": {\"field\": \"is_present\", \"legend\": {\"title\": [\"Observed data\"]}, \"scale\": {\"range\": [\"black\", \"#ffffff00\"]}, \"type\": \"nominal\"}, \"shape\": {\"field\": \"is_present\", \"type\": \"nominal\"}, \"x\": {\"axis\": {\"domain\": true, \"labels\": true, \"ticks\": true, \"title\": \"time\"}, \"field\": \"time\", \"type\": \"temporal\"}, \"y\": {\"field\": \"value\", \"scale\": {\"zero\": false}, \"title\": \"SW_IN\", \"type\": \"quantitative\"}}}, {\"layer\": [{\"mark\": \"rule\", \"encoding\": {\"x\": {\"axis\": {\"domain\": false, \"labels\": false, \"ticks\": false, \"title\": null}, \"field\": \"gap_start\", \"type\": \"temporal\"}}}, {\"mark\": \"rule\", \"encoding\": {\"x\": {\"axis\": {\"domain\": false, \"labels\": false, \"ticks\": false, \"title\": null}, \"field\": \"gap_end\", \"type\": \"temporal\"}}}, {\"mark\": {\"type\": \"rect\", \"color\": \"black\", \"opacity\": 0.2}, \"encoding\": {\"x\": {\"axis\": {\"domain\": false, \"labels\": false, \"ticks\": false, \"title\": null}, \"field\": \"gap_start\", \"type\": \"temporal\"}, \"x2\": {\"field\": \"gap_end\"}}}], \"data\": {\"name\": \"data-98dec86aa208c87fa35b941f906be3f1\"}}, {\"layer\": [{\"mark\": \"errorband\", \"encoding\": {\"color\": {\"field\": \"variable\", \"legend\": {\"title\": [\"Line: pred. mean\", \"area: +/- 2 std\"]}, \"type\": \"nominal\"}, \"x\": {\"field\": \"time\", \"type\": \"temporal\"}, \"y\": {\"field\": \"err_low\", \"scale\": {\"zero\": false}, \"title\": \"SW_IN\", \"type\": \"quantitative\"}, \"y2\": {\"field\": \"err_high\"}}, \"name\": \"view_34\"}, {\"mark\": \"line\", \"encoding\": {\"color\": {\"field\": \"variable\", \"type\": \"nominal\"}, \"x\": {\"field\": \"time\", \"type\": \"temporal\"}, \"y\": {\"field\": \"mean\", \"scale\": {\"zero\": false}, \"title\": \"SW_IN\", \"type\": \"quantitative\"}}}], \"data\": {\"name\": \"data-3c70c346bdb18de3be0edd144f64cff7\"}}], \"height\": 150, \"title\": \"SW_IN\", \"width\": 200}]}, {\"hconcat\": [{\"layer\": [{\"mark\": {\"type\": \"point\", \"color\": \"black\", \"fillOpacity\": 1, \"strokeWidth\": 1}, \"encoding\": {\"fill\": {\"field\": \"is_present\", \"legend\": {\"title\": [\"Observed data\"]}, \"scale\": {\"range\": [\"black\", \"#ffffff00\"]}, \"type\": \"nominal\"}, \"shape\": {\"field\": \"is_present\", \"type\": \"nominal\"}, \"x\": {\"axis\": {\"domain\": true, \"labels\": true, \"ticks\": true, \"title\": \"time\"}, \"field\": \"time\", \"type\": \"temporal\"}, \"y\": {\"field\": \"value\", \"scale\": {\"zero\": false}, \"title\": \"VPD\", \"type\": \"quantitative\"}}}, {\"layer\": [{\"mark\": \"errorband\", \"encoding\": {\"color\": {\"field\": \"variable\", \"legend\": {\"title\": [\"Line: pred. mean\", \"area: +/- 2 std\"]}, \"type\": \"nominal\"}, \"x\": {\"field\": \"time\", \"type\": \"temporal\"}, \"y\": {\"field\": \"err_low\", \"scale\": {\"zero\": false}, \"title\": \"VPD\", \"type\": \"quantitative\"}, \"y2\": {\"field\": \"err_high\"}}, \"name\": \"view_35\"}, {\"mark\": \"line\", \"encoding\": {\"color\": {\"field\": \"variable\", \"type\": \"nominal\"}, \"x\": {\"field\": \"time\", \"type\": \"temporal\"}, \"y\": {\"field\": \"mean\", \"scale\": {\"zero\": false}, \"title\": \"VPD\", \"type\": \"quantitative\"}}}]}], \"height\": 150, \"title\": \"VPD\", \"width\": 200}], \"data\": {\"name\": \"data-cc85d28f5056cba89db546f6a466a39f\"}}], \"title\": \"loss: 81.643791\"}, {\"vconcat\": [{\"hconcat\": [{\"layer\": [{\"data\": {\"name\": \"data-3047d2aac89d912aec7a88c61023cf0c\"}, \"mark\": {\"type\": \"point\", \"color\": \"black\", \"fillOpacity\": 1, \"strokeWidth\": 1}, \"encoding\": {\"fill\": {\"field\": \"is_present\", \"legend\": {\"title\": [\"Observed data\"]}, \"scale\": {\"range\": [\"black\", \"#ffffff00\"]}, \"type\": \"nominal\"}, \"shape\": {\"field\": \"is_present\", \"type\": \"nominal\"}, \"x\": {\"axis\": {\"domain\": true, \"labels\": true, \"ticks\": true, \"title\": \"time\"}, \"field\": \"time\", \"type\": \"temporal\"}, \"y\": {\"field\": \"value\", \"scale\": {\"zero\": false}, \"title\": \"TA\", \"type\": \"quantitative\"}}}, {\"layer\": [{\"mark\": \"rule\", \"encoding\": {\"x\": {\"axis\": {\"domain\": false, \"labels\": false, \"ticks\": false, \"title\": null}, \"field\": \"gap_start\", \"type\": \"temporal\"}}}, {\"mark\": \"rule\", \"encoding\": {\"x\": {\"axis\": {\"domain\": false, \"labels\": false, \"ticks\": false, \"title\": null}, \"field\": \"gap_end\", \"type\": \"temporal\"}}}, {\"mark\": {\"type\": \"rect\", \"color\": \"black\", \"opacity\": 0.2}, \"encoding\": {\"x\": {\"axis\": {\"domain\": false, \"labels\": false, \"ticks\": false, \"title\": null}, \"field\": \"gap_start\", \"type\": \"temporal\"}, \"x2\": {\"field\": \"gap_end\"}}}], \"data\": {\"name\": \"data-98babda14f8c3f8e59dd647b6bd0412e\"}}, {\"layer\": [{\"mark\": \"errorband\", \"encoding\": {\"color\": {\"field\": \"variable\", \"legend\": {\"title\": [\"Line: pred. mean\", \"area: +/- 2 std\"]}, \"type\": \"nominal\"}, \"x\": {\"field\": \"time\", \"type\": \"temporal\"}, \"y\": {\"field\": \"err_low\", \"scale\": {\"zero\": false}, \"title\": \"TA\", \"type\": \"quantitative\"}, \"y2\": {\"field\": \"err_high\"}}, \"name\": \"view_36\"}, {\"mark\": \"line\", \"encoding\": {\"color\": {\"field\": \"variable\", \"type\": \"nominal\"}, \"x\": {\"field\": \"time\", \"type\": \"temporal\"}, \"y\": {\"field\": \"mean\", \"scale\": {\"zero\": false}, \"title\": \"TA\", \"type\": \"quantitative\"}}}], \"data\": {\"name\": \"data-3047d2aac89d912aec7a88c61023cf0c\"}}], \"height\": 150, \"title\": \"TA\", \"width\": 200}]}, {\"hconcat\": [{\"layer\": [{\"data\": {\"name\": \"data-b530b3593a7f07dd84221f59ee257b61\"}, \"mark\": {\"type\": \"point\", \"color\": \"black\", \"fillOpacity\": 1, \"strokeWidth\": 1}, \"encoding\": {\"fill\": {\"field\": \"is_present\", \"legend\": {\"title\": [\"Observed data\"]}, \"scale\": {\"range\": [\"black\", \"#ffffff00\"]}, \"type\": \"nominal\"}, \"shape\": {\"field\": \"is_present\", \"type\": \"nominal\"}, \"x\": {\"axis\": {\"domain\": true, \"labels\": true, \"ticks\": true, \"title\": \"time\"}, \"field\": \"time\", \"type\": \"temporal\"}, \"y\": {\"field\": \"value\", \"scale\": {\"zero\": false}, \"title\": \"SW_IN\", \"type\": \"quantitative\"}}}, {\"layer\": [{\"mark\": \"rule\", \"encoding\": {\"x\": {\"axis\": {\"domain\": false, \"labels\": false, \"ticks\": false, \"title\": null}, \"field\": \"gap_start\", \"type\": \"temporal\"}}}, {\"mark\": \"rule\", \"encoding\": {\"x\": {\"axis\": {\"domain\": false, \"labels\": false, \"ticks\": false, \"title\": null}, \"field\": \"gap_end\", \"type\": \"temporal\"}}}, {\"mark\": {\"type\": \"rect\", \"color\": \"black\", \"opacity\": 0.2}, \"encoding\": {\"x\": {\"axis\": {\"domain\": false, \"labels\": false, \"ticks\": false, \"title\": null}, \"field\": \"gap_start\", \"type\": \"temporal\"}, \"x2\": {\"field\": \"gap_end\"}}}], \"data\": {\"name\": \"data-98babda14f8c3f8e59dd647b6bd0412e\"}}, {\"layer\": [{\"mark\": \"errorband\", \"encoding\": {\"color\": {\"field\": \"variable\", \"legend\": {\"title\": [\"Line: pred. mean\", \"area: +/- 2 std\"]}, \"type\": \"nominal\"}, \"x\": {\"field\": \"time\", \"type\": \"temporal\"}, \"y\": {\"field\": \"err_low\", \"scale\": {\"zero\": false}, \"title\": \"SW_IN\", \"type\": \"quantitative\"}, \"y2\": {\"field\": \"err_high\"}}, \"name\": \"view_37\"}, {\"mark\": \"line\", \"encoding\": {\"color\": {\"field\": \"variable\", \"type\": \"nominal\"}, \"x\": {\"field\": \"time\", \"type\": \"temporal\"}, \"y\": {\"field\": \"mean\", \"scale\": {\"zero\": false}, \"title\": \"SW_IN\", \"type\": \"quantitative\"}}}], \"data\": {\"name\": \"data-b530b3593a7f07dd84221f59ee257b61\"}}], \"height\": 150, \"title\": \"SW_IN\", \"width\": 200}]}, {\"hconcat\": [{\"layer\": [{\"mark\": {\"type\": \"point\", \"color\": \"black\", \"fillOpacity\": 1, \"strokeWidth\": 1}, \"encoding\": {\"fill\": {\"field\": \"is_present\", \"legend\": {\"title\": [\"Observed data\"]}, \"scale\": {\"range\": [\"black\", \"#ffffff00\"]}, \"type\": \"nominal\"}, \"shape\": {\"field\": \"is_present\", \"type\": \"nominal\"}, \"x\": {\"axis\": {\"domain\": true, \"labels\": true, \"ticks\": true, \"title\": \"time\"}, \"field\": \"time\", \"type\": \"temporal\"}, \"y\": {\"field\": \"value\", \"scale\": {\"zero\": false}, \"title\": \"VPD\", \"type\": \"quantitative\"}}}, {\"layer\": [{\"mark\": \"errorband\", \"encoding\": {\"color\": {\"field\": \"variable\", \"legend\": {\"title\": [\"Line: pred. mean\", \"area: +/- 2 std\"]}, \"type\": \"nominal\"}, \"x\": {\"field\": \"time\", \"type\": \"temporal\"}, \"y\": {\"field\": \"err_low\", \"scale\": {\"zero\": false}, \"title\": \"VPD\", \"type\": \"quantitative\"}, \"y2\": {\"field\": \"err_high\"}}, \"name\": \"view_38\"}, {\"mark\": \"line\", \"encoding\": {\"color\": {\"field\": \"variable\", \"type\": \"nominal\"}, \"x\": {\"field\": \"time\", \"type\": \"temporal\"}, \"y\": {\"field\": \"mean\", \"scale\": {\"zero\": false}, \"title\": \"VPD\", \"type\": \"quantitative\"}}}]}], \"height\": 150, \"title\": \"VPD\", \"width\": 200}], \"data\": {\"name\": \"data-5986184c0decdc4a10ef5b28a7624775\"}}], \"title\": \"loss: 73.977127\"}, {\"vconcat\": [{\"hconcat\": [{\"layer\": [{\"data\": {\"name\": \"data-4d779d6052a8315167b5b00396b5e055\"}, \"mark\": {\"type\": \"point\", \"color\": \"black\", \"fillOpacity\": 1, \"strokeWidth\": 1}, \"encoding\": {\"fill\": {\"field\": \"is_present\", \"legend\": {\"title\": [\"Observed data\"]}, \"scale\": {\"range\": [\"black\", \"#ffffff00\"]}, \"type\": \"nominal\"}, \"shape\": {\"field\": \"is_present\", \"type\": \"nominal\"}, \"x\": {\"axis\": {\"domain\": true, \"labels\": true, \"ticks\": true, \"title\": \"time\"}, \"field\": \"time\", \"type\": \"temporal\"}, \"y\": {\"field\": \"value\", \"scale\": {\"zero\": false}, \"title\": \"TA\", \"type\": \"quantitative\"}}}, {\"layer\": [{\"mark\": \"rule\", \"encoding\": {\"x\": {\"axis\": {\"domain\": false, \"labels\": false, \"ticks\": false, \"title\": null}, \"field\": \"gap_start\", \"type\": \"temporal\"}}}, {\"mark\": \"rule\", \"encoding\": {\"x\": {\"axis\": {\"domain\": false, \"labels\": false, \"ticks\": false, \"title\": null}, \"field\": \"gap_end\", \"type\": \"temporal\"}}}, {\"mark\": {\"type\": \"rect\", \"color\": \"black\", \"opacity\": 0.2}, \"encoding\": {\"x\": {\"axis\": {\"domain\": false, \"labels\": false, \"ticks\": false, \"title\": null}, \"field\": \"gap_start\", \"type\": \"temporal\"}, \"x2\": {\"field\": \"gap_end\"}}}], \"data\": {\"name\": \"data-92b2b14a497eb7a4a84b75868a097ce2\"}}, {\"layer\": [{\"mark\": \"errorband\", \"encoding\": {\"color\": {\"field\": \"variable\", \"legend\": {\"title\": [\"Line: pred. mean\", \"area: +/- 2 std\"]}, \"type\": \"nominal\"}, \"x\": {\"field\": \"time\", \"type\": \"temporal\"}, \"y\": {\"field\": \"err_low\", \"scale\": {\"zero\": false}, \"title\": \"TA\", \"type\": \"quantitative\"}, \"y2\": {\"field\": \"err_high\"}}, \"name\": \"view_39\"}, {\"mark\": \"line\", \"encoding\": {\"color\": {\"field\": \"variable\", \"type\": \"nominal\"}, \"x\": {\"field\": \"time\", \"type\": \"temporal\"}, \"y\": {\"field\": \"mean\", \"scale\": {\"zero\": false}, \"title\": \"TA\", \"type\": \"quantitative\"}}}], \"data\": {\"name\": \"data-4d779d6052a8315167b5b00396b5e055\"}}], \"height\": 150, \"title\": \"TA\", \"width\": 200}]}, {\"hconcat\": [{\"layer\": [{\"data\": {\"name\": \"data-4f487abce4b66bba2a5c5941b97df731\"}, \"mark\": {\"type\": \"point\", \"color\": \"black\", \"fillOpacity\": 1, \"strokeWidth\": 1}, \"encoding\": {\"fill\": {\"field\": \"is_present\", \"legend\": {\"title\": [\"Observed data\"]}, \"scale\": {\"range\": [\"black\", \"#ffffff00\"]}, \"type\": \"nominal\"}, \"shape\": {\"field\": \"is_present\", \"type\": \"nominal\"}, \"x\": {\"axis\": {\"domain\": true, \"labels\": true, \"ticks\": true, \"title\": \"time\"}, \"field\": \"time\", \"type\": \"temporal\"}, \"y\": {\"field\": \"value\", \"scale\": {\"zero\": false}, \"title\": \"SW_IN\", \"type\": \"quantitative\"}}}, {\"layer\": [{\"mark\": \"rule\", \"encoding\": {\"x\": {\"axis\": {\"domain\": false, \"labels\": false, \"ticks\": false, \"title\": null}, \"field\": \"gap_start\", \"type\": \"temporal\"}}}, {\"mark\": \"rule\", \"encoding\": {\"x\": {\"axis\": {\"domain\": false, \"labels\": false, \"ticks\": false, \"title\": null}, \"field\": \"gap_end\", \"type\": \"temporal\"}}}, {\"mark\": {\"type\": \"rect\", \"color\": \"black\", \"opacity\": 0.2}, \"encoding\": {\"x\": {\"axis\": {\"domain\": false, \"labels\": false, \"ticks\": false, \"title\": null}, \"field\": \"gap_start\", \"type\": \"temporal\"}, \"x2\": {\"field\": \"gap_end\"}}}], \"data\": {\"name\": \"data-92b2b14a497eb7a4a84b75868a097ce2\"}}, {\"layer\": [{\"mark\": \"errorband\", \"encoding\": {\"color\": {\"field\": \"variable\", \"legend\": {\"title\": [\"Line: pred. mean\", \"area: +/- 2 std\"]}, \"type\": \"nominal\"}, \"x\": {\"field\": \"time\", \"type\": \"temporal\"}, \"y\": {\"field\": \"err_low\", \"scale\": {\"zero\": false}, \"title\": \"SW_IN\", \"type\": \"quantitative\"}, \"y2\": {\"field\": \"err_high\"}}, \"name\": \"view_40\"}, {\"mark\": \"line\", \"encoding\": {\"color\": {\"field\": \"variable\", \"type\": \"nominal\"}, \"x\": {\"field\": \"time\", \"type\": \"temporal\"}, \"y\": {\"field\": \"mean\", \"scale\": {\"zero\": false}, \"title\": \"SW_IN\", \"type\": \"quantitative\"}}}], \"data\": {\"name\": \"data-4f487abce4b66bba2a5c5941b97df731\"}}], \"height\": 150, \"title\": \"SW_IN\", \"width\": 200}]}, {\"hconcat\": [{\"layer\": [{\"mark\": {\"type\": \"point\", \"color\": \"black\", \"fillOpacity\": 1, \"strokeWidth\": 1}, \"encoding\": {\"fill\": {\"field\": \"is_present\", \"legend\": {\"title\": [\"Observed data\"]}, \"scale\": {\"range\": [\"black\", \"#ffffff00\"]}, \"type\": \"nominal\"}, \"shape\": {\"field\": \"is_present\", \"type\": \"nominal\"}, \"x\": {\"axis\": {\"domain\": true, \"labels\": true, \"ticks\": true, \"title\": \"time\"}, \"field\": \"time\", \"type\": \"temporal\"}, \"y\": {\"field\": \"value\", \"scale\": {\"zero\": false}, \"title\": \"VPD\", \"type\": \"quantitative\"}}}, {\"layer\": [{\"mark\": \"errorband\", \"encoding\": {\"color\": {\"field\": \"variable\", \"legend\": {\"title\": [\"Line: pred. mean\", \"area: +/- 2 std\"]}, \"type\": \"nominal\"}, \"x\": {\"field\": \"time\", \"type\": \"temporal\"}, \"y\": {\"field\": \"err_low\", \"scale\": {\"zero\": false}, \"title\": \"VPD\", \"type\": \"quantitative\"}, \"y2\": {\"field\": \"err_high\"}}, \"name\": \"view_41\"}, {\"mark\": \"line\", \"encoding\": {\"color\": {\"field\": \"variable\", \"type\": \"nominal\"}, \"x\": {\"field\": \"time\", \"type\": \"temporal\"}, \"y\": {\"field\": \"mean\", \"scale\": {\"zero\": false}, \"title\": \"VPD\", \"type\": \"quantitative\"}}}]}], \"height\": 150, \"title\": \"VPD\", \"width\": 200}], \"data\": {\"name\": \"data-93f9a4066e3568008b20e39ee4aaff26\"}}], \"title\": \"loss: 76.908386\"}], \"params\": [{\"name\": \"param_47\", \"select\": {\"type\": \"interval\", \"encodings\": [\"x\"]}, \"bind\": \"scales\", \"views\": [\"view_33\", \"view_34\", \"view_35\"]}, {\"name\": \"param_51\", \"select\": {\"type\": \"interval\", \"encodings\": [\"x\"]}, \"bind\": \"scales\", \"views\": [\"view_36\", \"view_37\", \"view_38\"]}, {\"name\": \"param_55\", \"select\": {\"type\": \"interval\", \"encodings\": [\"x\"]}, \"bind\": \"scales\", \"views\": [\"view_39\", \"view_40\", \"view_41\"]}], \"$schema\": \"https://vega.github.io/schema/vega-lite/v5.2.0.json\", \"datasets\": {\"data-fa32dba3508beb75dc19fcaf5571626e\": [{\"time\": \"2000-01-01T06:00:00\", \"variable\": \"TA\", \"value\": -0.23000000417232513, \"is_present\": false, \"mean\": 10.042841911315918, \"std\": 9.822394371032715, \"err_low\": -9.601946830749512, \"err_high\": 29.68762969970703}, {\"time\": \"2000-01-01T06:30:00\", \"variable\": \"TA\", \"value\": -0.2199999988079071, \"is_present\": false, \"mean\": -10.824874877929688, \"std\": 12.296562194824219, \"err_low\": -35.417999267578125, \"err_high\": 13.76824951171875}, {\"time\": \"2000-01-01T07:00:00\", \"variable\": \"TA\", \"value\": -0.23999999463558197, \"is_present\": true, \"mean\": -16.101299285888672, \"std\": 12.695394515991211, \"err_low\": -41.492088317871094, \"err_high\": 9.28948974609375}, {\"time\": \"2000-01-01T07:30:00\", \"variable\": \"TA\", \"value\": -0.23000000417232513, \"is_present\": true, \"mean\": -17.359127044677734, \"std\": 12.521408081054688, \"err_low\": -42.40194320678711, \"err_high\": 7.683689117431641}, {\"time\": \"2000-01-01T08:00:00\", \"variable\": \"TA\", \"value\": -0.2199999988079071, \"is_present\": true, \"mean\": -17.520692825317383, \"std\": 12.521245956420898, \"err_low\": -42.56318664550781, \"err_high\": 7.521799087524414}, {\"time\": \"2000-01-01T08:30:00\", \"variable\": \"TA\", \"value\": -0.1899999976158142, \"is_present\": true, \"mean\": -17.484188079833984, \"std\": 12.521196365356445, \"err_low\": -42.526580810546875, \"err_high\": 7.558204650878906}, {\"time\": \"2000-01-01T09:00:00\", \"variable\": \"TA\", \"value\": -0.14000000059604645, \"is_present\": true, \"mean\": -17.32295036315918, \"std\": 12.521185874938965, \"err_low\": -42.36532211303711, \"err_high\": 7.71942138671875}, {\"time\": \"2000-01-01T09:30:00\", \"variable\": \"TA\", \"value\": -0.029999999329447746, \"is_present\": true, \"mean\": -17.0221004486084, \"std\": 12.52117919921875, \"err_low\": -42.06446075439453, \"err_high\": 8.020257949829102}, {\"time\": \"2000-01-01T10:00:00\", \"variable\": \"TA\", \"value\": 0.03999999910593033, \"is_present\": true, \"mean\": -16.65541648864746, \"std\": 12.521178245544434, \"err_low\": -41.69777297973633, \"err_high\": 8.386940002441406}, {\"time\": \"2000-01-01T10:30:00\", \"variable\": \"TA\", \"value\": 0.10000000149011612, \"is_present\": true, \"mean\": -16.219072341918945, \"std\": 12.5211763381958, \"err_low\": -41.26142501831055, \"err_high\": 8.823280334472656}], \"data-98dec86aa208c87fa35b941f906be3f1\": [{\"gap_start\": \"2000-01-01T06:00:00\", \"gap_end\": \"2000-01-01T06:30:00\"}], \"data-3c70c346bdb18de3be0edd144f64cff7\": [{\"time\": \"2000-01-01T06:00:00\", \"variable\": \"SW_IN\", \"value\": 0.0, \"is_present\": false, \"mean\": 248.69952392578125, \"std\": 163.27084350585938, \"err_low\": -77.8421630859375, \"err_high\": 575.2412109375}, {\"time\": \"2000-01-01T06:30:00\", \"variable\": \"SW_IN\", \"value\": 0.0, \"is_present\": false, \"mean\": 93.70269012451172, \"std\": 170.8601837158203, \"err_low\": -248.01766967773438, \"err_high\": 435.4230651855469}, {\"time\": \"2000-01-01T07:00:00\", \"variable\": \"SW_IN\", \"value\": 0.0, \"is_present\": true, \"mean\": 42.45587921142578, \"std\": 171.90463256835938, \"err_low\": -301.3533935546875, \"err_high\": 386.26513671875}, {\"time\": \"2000-01-01T07:30:00\", \"variable\": \"SW_IN\", \"value\": 0.0, \"is_present\": true, \"mean\": 24.282249450683594, \"std\": 171.5642852783203, \"err_low\": -318.8463134765625, \"err_high\": 367.41082763671875}, {\"time\": \"2000-01-01T08:00:00\", \"variable\": \"SW_IN\", \"value\": 0.0, \"is_present\": true, \"mean\": 17.73975372314453, \"std\": 171.54908752441406, \"err_low\": -325.3584289550781, \"err_high\": 360.8379211425781}, {\"time\": \"2000-01-01T08:30:00\", \"variable\": \"SW_IN\", \"value\": 0.44999998807907104, \"is_present\": true, \"mean\": 15.090751647949219, \"std\": 171.5430450439453, \"err_low\": -327.9953308105469, \"err_high\": 358.1768493652344}, {\"time\": \"2000-01-01T09:00:00\", \"variable\": \"SW_IN\", \"value\": 3.700000047683716, \"is_present\": true, \"mean\": 14.803802490234375, \"std\": 171.54098510742188, \"err_low\": -328.2781677246094, \"err_high\": 357.8857727050781}, {\"time\": \"2000-01-01T09:30:00\", \"variable\": \"SW_IN\", \"value\": 7.260000228881836, \"is_present\": true, \"mean\": 16.185775756835938, \"std\": 171.54031372070312, \"err_low\": -326.89483642578125, \"err_high\": 359.26641845703125}, {\"time\": \"2000-01-01T10:00:00\", \"variable\": \"SW_IN\", \"value\": 12.239999771118164, \"is_present\": true, \"mean\": 18.301681518554688, \"std\": 171.54010009765625, \"err_low\": -324.77850341796875, \"err_high\": 361.38189697265625}, {\"time\": \"2000-01-01T10:30:00\", \"variable\": \"SW_IN\", \"value\": 16.510000228881836, \"is_present\": true, \"mean\": 21.182106018066406, \"std\": 171.54002380371094, \"err_low\": -321.89794921875, \"err_high\": 364.26214599609375}], \"data-cc85d28f5056cba89db546f6a466a39f\": [{\"time\": \"2000-01-01T06:00:00\", \"variable\": \"VPD\", \"value\": 0.12200000137090683, \"is_present\": true, \"mean\": 3.7830052375793457, \"std\": 7.600846767425537, \"err_low\": -11.41868782043457, \"err_high\": 18.984699249267578}, {\"time\": \"2000-01-01T06:30:00\", \"variable\": \"VPD\", \"value\": 0.09799999743700027, \"is_present\": true, \"mean\": -14.153544425964355, \"std\": 11.056595802307129, \"err_low\": -36.2667350769043, \"err_high\": 7.959647178649902}, {\"time\": \"2000-01-01T07:00:00\", \"variable\": \"VPD\", \"value\": 0.06599999964237213, \"is_present\": true, \"mean\": -17.527877807617188, \"std\": 11.376362800598145, \"err_low\": -40.280601501464844, \"err_high\": 5.224847793579102}, {\"time\": \"2000-01-01T07:30:00\", \"variable\": \"VPD\", \"value\": 0.04399999976158142, \"is_present\": true, \"mean\": -17.833927154541016, \"std\": 11.166094779968262, \"err_low\": -40.166114807128906, \"err_high\": 4.498262405395508}, {\"time\": \"2000-01-01T08:00:00\", \"variable\": \"VPD\", \"value\": 0.026000000536441803, \"is_present\": true, \"mean\": -17.519763946533203, \"std\": 11.163980484008789, \"err_low\": -39.84772491455078, \"err_high\": 4.808197021484375}, {\"time\": \"2000-01-01T08:30:00\", \"variable\": \"VPD\", \"value\": 0.01600000075995922, \"is_present\": true, \"mean\": -17.242259979248047, \"std\": 11.163620948791504, \"err_low\": -39.56950378417969, \"err_high\": 5.084981918334961}, {\"time\": \"2000-01-01T09:00:00\", \"variable\": \"VPD\", \"value\": 0.009999999776482582, \"is_present\": true, \"mean\": -16.965423583984375, \"std\": 11.163535118103027, \"err_low\": -39.29249572753906, \"err_high\": 5.36164665222168}, {\"time\": \"2000-01-01T09:30:00\", \"variable\": \"VPD\", \"value\": 0.006000000052154064, \"is_present\": true, \"mean\": -16.609294891357422, \"std\": 11.163501739501953, \"err_low\": -38.93629837036133, \"err_high\": 5.717708587646484}, {\"time\": \"2000-01-01T10:00:00\", \"variable\": \"VPD\", \"value\": 0.006000000052154064, \"is_present\": true, \"mean\": -16.21833038330078, \"std\": 11.163492202758789, \"err_low\": -38.54531478881836, \"err_high\": 6.108654022216797}, {\"time\": \"2000-01-01T10:30:00\", \"variable\": \"VPD\", \"value\": 0.006000000052154064, \"is_present\": true, \"mean\": -15.772540092468262, \"std\": 11.163488388061523, \"err_low\": -38.099517822265625, \"err_high\": 6.554436683654785}], \"data-3047d2aac89d912aec7a88c61023cf0c\": [{\"time\": \"2000-01-01T11:00:00\", \"variable\": \"TA\", \"value\": 0.18000000715255737, \"is_present\": true, \"mean\": 10.042841911315918, \"std\": 9.822394371032715, \"err_low\": -9.601946830749512, \"err_high\": 29.68762969970703}, {\"time\": \"2000-01-01T11:30:00\", \"variable\": \"TA\", \"value\": 0.20999999344348907, \"is_present\": true, \"mean\": -10.21976089477539, \"std\": 12.223834037780762, \"err_low\": -34.66742706298828, \"err_high\": 14.227907180786133}, {\"time\": \"2000-01-01T12:00:00\", \"variable\": \"TA\", \"value\": 0.23000000417232513, \"is_present\": true, \"mean\": -14.269710540771484, \"std\": 12.521677017211914, \"err_low\": -39.31306457519531, \"err_high\": 10.773643493652344}, {\"time\": \"2000-01-01T12:30:00\", \"variable\": \"TA\", \"value\": 0.33000001311302185, \"is_present\": true, \"mean\": -14.652690887451172, \"std\": 12.521169662475586, \"err_low\": -39.695030212402344, \"err_high\": 10.3896484375}, {\"time\": \"2000-01-01T13:00:00\", \"variable\": \"TA\", \"value\": 0.4099999964237213, \"is_present\": true, \"mean\": -14.696842193603516, \"std\": 12.521233558654785, \"err_low\": -39.73931121826172, \"err_high\": 10.345624923706055}, {\"time\": \"2000-01-01T13:30:00\", \"variable\": \"TA\", \"value\": 0.4399999976158142, \"is_present\": false, \"mean\": -14.860954284667969, \"std\": 12.521195411682129, \"err_low\": -39.903343200683594, \"err_high\": 10.181436538696289}, {\"time\": \"2000-01-01T14:00:00\", \"variable\": \"TA\", \"value\": 0.47999998927116394, \"is_present\": false, \"mean\": -15.516237258911133, \"std\": 12.695592880249023, \"err_low\": -40.90742492675781, \"err_high\": 9.874948501586914}, {\"time\": \"2000-01-01T14:30:00\", \"variable\": \"TA\", \"value\": 0.49000000953674316, \"is_present\": true, \"mean\": -15.658266067504883, \"std\": 12.696426391601562, \"err_low\": -41.051116943359375, \"err_high\": 9.734586715698242}, {\"time\": \"2000-01-01T15:00:00\", \"variable\": \"TA\", \"value\": 0.5099999904632568, \"is_present\": true, \"mean\": -15.281227111816406, \"std\": 12.521434783935547, \"err_low\": -40.3240966796875, \"err_high\": 9.761642456054688}, {\"time\": \"2000-01-01T15:30:00\", \"variable\": \"TA\", \"value\": 0.5199999809265137, \"is_present\": true, \"mean\": -15.43143081665039, \"std\": 12.521185874938965, \"err_low\": -40.47380065917969, \"err_high\": 9.610940933227539}], \"data-98babda14f8c3f8e59dd647b6bd0412e\": [{\"gap_start\": \"2000-01-01T13:30:00\", \"gap_end\": \"2000-01-01T14:00:00\"}], \"data-b530b3593a7f07dd84221f59ee257b61\": [{\"time\": \"2000-01-01T11:00:00\", \"variable\": \"SW_IN\", \"value\": 24.729999542236328, \"is_present\": true, \"mean\": 248.69952392578125, \"std\": 163.27084350585938, \"err_low\": -77.8421630859375, \"err_high\": 575.2412109375}, {\"time\": \"2000-01-01T11:30:00\", \"variable\": \"SW_IN\", \"value\": 47.41999816894531, \"is_present\": true, \"mean\": 100.78305053710938, \"std\": 170.74496459960938, \"err_low\": -240.70687866210938, \"err_high\": 442.2729797363281}, {\"time\": \"2000-01-01T12:00:00\", \"variable\": \"SW_IN\", \"value\": 22.049999237060547, \"is_present\": true, \"mean\": 57.632606506347656, \"std\": 171.61033630371094, \"err_low\": -285.58807373046875, \"err_high\": 400.853271484375}, {\"time\": \"2000-01-01T12:30:00\", \"variable\": \"SW_IN\", \"value\": 18.860000610351562, \"is_present\": true, \"mean\": 45.01850509643555, \"std\": 171.5630645751953, \"err_low\": -298.1076354980469, \"err_high\": 388.1446228027344}, {\"time\": \"2000-01-01T13:00:00\", \"variable\": \"SW_IN\", \"value\": 21.100000381469727, \"is_present\": true, \"mean\": 39.15043640136719, \"std\": 171.5482177734375, \"err_low\": -303.94598388671875, \"err_high\": 382.24688720703125}, {\"time\": \"2000-01-01T13:30:00\", \"variable\": \"SW_IN\", \"value\": 28.8700008392334, \"is_present\": false, \"mean\": 34.75920104980469, \"std\": 171.5426483154297, \"err_low\": -308.32611083984375, \"err_high\": 377.844482421875}, {\"time\": \"2000-01-01T14:00:00\", \"variable\": \"SW_IN\", \"value\": 24.219999313354492, \"is_present\": false, \"mean\": 30.108444213867188, \"std\": 171.8272247314453, \"err_low\": -313.5460205078125, \"err_high\": 373.76287841796875}, {\"time\": \"2000-01-01T14:30:00\", \"variable\": \"SW_IN\", \"value\": 24.350000381469727, \"is_present\": true, \"mean\": 28.59900665283203, \"std\": 171.8267059326172, \"err_low\": -315.0544128417969, \"err_high\": 372.2524108886719}, {\"time\": \"2000-01-01T15:00:00\", \"variable\": \"SW_IN\", \"value\": 15.680000305175781, \"is_present\": true, \"mean\": 29.601272583007812, \"std\": 171.5415496826172, \"err_low\": -313.4818115234375, \"err_high\": 372.68438720703125}, {\"time\": \"2000-01-01T15:30:00\", \"variable\": \"SW_IN\", \"value\": 8.09000015258789, \"is_present\": true, \"mean\": 28.40496063232422, \"std\": 171.54116821289062, \"err_low\": -314.6773681640625, \"err_high\": 371.4873046875}], \"data-5986184c0decdc4a10ef5b28a7624775\": [{\"time\": \"2000-01-01T11:00:00\", \"variable\": \"VPD\", \"value\": 0.010999999940395355, \"is_present\": true, \"mean\": 3.7830052375793457, \"std\": 7.600846767425537, \"err_low\": -11.41868782043457, \"err_high\": 18.984699249267578}, {\"time\": \"2000-01-01T11:30:00\", \"variable\": \"VPD\", \"value\": 0.01899999938905239, \"is_present\": true, \"mean\": -13.697197914123535, \"std\": 10.962274551391602, \"err_low\": -35.62174606323242, \"err_high\": 8.227351188659668}, {\"time\": \"2000-01-01T12:00:00\", \"variable\": \"VPD\", \"value\": 0.014000000432133675, \"is_present\": true, \"mean\": -15.92691707611084, \"std\": 11.16780948638916, \"err_low\": -38.262535095214844, \"err_high\": 6.4087018966674805}, {\"time\": \"2000-01-01T12:30:00\", \"variable\": \"VPD\", \"value\": 0.00800000037997961, \"is_present\": true, \"mean\": -15.4371919631958, \"std\": 11.164826393127441, \"err_low\": -37.766845703125, \"err_high\": 6.892460823059082}, {\"time\": \"2000-01-01T13:00:00\", \"variable\": \"VPD\", \"value\": 0.006000000052154064, \"is_present\": true, \"mean\": -15.007546424865723, \"std\": 11.163829803466797, \"err_low\": -37.335205078125, \"err_high\": 7.320113182067871}, {\"time\": \"2000-01-01T13:30:00\", \"variable\": \"VPD\", \"value\": 0.0, \"is_present\": true, \"mean\": -14.945076942443848, \"std\": 11.163601875305176, \"err_low\": -37.272281646728516, \"err_high\": 7.382126808166504}, {\"time\": \"2000-01-01T14:00:00\", \"variable\": \"VPD\", \"value\": 0.0, \"is_present\": true, \"mean\": -15.554646492004395, \"std\": 11.37548828125, \"err_low\": -38.30562210083008, \"err_high\": 7.1963300704956055}, {\"time\": \"2000-01-01T14:30:00\", \"variable\": \"VPD\", \"value\": 0.0, \"is_present\": true, \"mean\": -15.652388572692871, \"std\": 11.378108024597168, \"err_low\": -38.40860366821289, \"err_high\": 7.103827476501465}, {\"time\": \"2000-01-01T15:00:00\", \"variable\": \"VPD\", \"value\": 0.0, \"is_present\": true, \"mean\": -15.221617698669434, \"std\": 11.165011405944824, \"err_low\": -37.551639556884766, \"err_high\": 7.108405113220215}, {\"time\": \"2000-01-01T15:30:00\", \"variable\": \"VPD\", \"value\": 0.0, \"is_present\": true, \"mean\": -15.372052192687988, \"std\": 11.163660049438477, \"err_low\": -37.699371337890625, \"err_high\": 6.955267906188965}], \"data-4d779d6052a8315167b5b00396b5e055\": [{\"time\": \"2000-01-01T16:00:00\", \"variable\": \"TA\", \"value\": 0.5699999928474426, \"is_present\": true, \"mean\": 10.042841911315918, \"std\": 9.822394371032715, \"err_low\": -9.601946830749512, \"err_high\": 29.68762969970703}, {\"time\": \"2000-01-01T16:30:00\", \"variable\": \"TA\", \"value\": 0.7300000190734863, \"is_present\": true, \"mean\": -10.350444793701172, \"std\": 12.223834037780762, \"err_low\": -34.79811096191406, \"err_high\": 14.097223281860352}, {\"time\": \"2000-01-01T17:00:00\", \"variable\": \"TA\", \"value\": 0.7699999809265137, \"is_present\": true, \"mean\": -14.880964279174805, \"std\": 12.521677017211914, \"err_low\": -39.92431640625, \"err_high\": 10.162389755249023}, {\"time\": \"2000-01-01T17:30:00\", \"variable\": \"TA\", \"value\": 0.8399999737739563, \"is_present\": true, \"mean\": -15.151016235351562, \"std\": 12.521169662475586, \"err_low\": -40.193355560302734, \"err_high\": 9.89132308959961}, {\"time\": \"2000-01-01T18:00:00\", \"variable\": \"TA\", \"value\": 0.9900000095367432, \"is_present\": true, \"mean\": -15.139350891113281, \"std\": 12.521233558654785, \"err_low\": -40.18181610107422, \"err_high\": 9.903116226196289}, {\"time\": \"2000-01-01T18:30:00\", \"variable\": \"TA\", \"value\": 1.350000023841858, \"is_present\": true, \"mean\": -14.999303817749023, \"std\": 12.521195411682129, \"err_low\": -40.04169464111328, \"err_high\": 10.043087005615234}, {\"time\": \"2000-01-01T19:00:00\", \"variable\": \"TA\", \"value\": 1.8600000143051147, \"is_present\": true, \"mean\": -14.772384643554688, \"std\": 12.521185874938965, \"err_low\": -39.81475830078125, \"err_high\": 10.269987106323242}, {\"time\": \"2000-01-01T19:30:00\", \"variable\": \"TA\", \"value\": 2.009999990463257, \"is_present\": false, \"mean\": -14.486297607421875, \"std\": 12.521180152893066, \"err_low\": -39.528656005859375, \"err_high\": 10.556062698364258}, {\"time\": \"2000-01-01T20:00:00\", \"variable\": \"TA\", \"value\": 2.069999933242798, \"is_present\": false, \"mean\": -14.948368072509766, \"std\": 12.695558547973633, \"err_low\": -40.33948516845703, \"err_high\": 10.4427490234375}, {\"time\": \"2000-01-01T20:30:00\", \"variable\": \"TA\", \"value\": 2.0, \"is_present\": true, \"mean\": -14.866182327270508, \"std\": 12.69641399383545, \"err_low\": -40.259010314941406, \"err_high\": 10.52664566040039}], \"data-92b2b14a497eb7a4a84b75868a097ce2\": [{\"gap_start\": \"2000-01-01T19:30:00\", \"gap_end\": \"2000-01-01T20:00:00\"}], \"data-4f487abce4b66bba2a5c5941b97df731\": [{\"time\": \"2000-01-01T16:00:00\", \"variable\": \"SW_IN\", \"value\": 6.369999885559082, \"is_present\": true, \"mean\": 248.69952392578125, \"std\": 163.27084350585938, \"err_low\": -77.8421630859375, \"err_high\": 575.2412109375}, {\"time\": \"2000-01-01T16:30:00\", \"variable\": \"SW_IN\", \"value\": 1.7200000286102295, \"is_present\": true, \"mean\": 99.95744323730469, \"std\": 170.74496459960938, \"err_low\": -241.53248596191406, \"err_high\": 441.4473876953125}, {\"time\": \"2000-01-01T17:00:00\", \"variable\": \"SW_IN\", \"value\": 0.05999999865889549, \"is_present\": true, \"mean\": 55.19950485229492, \"std\": 171.61033630371094, \"err_low\": -288.02117919921875, \"err_high\": 398.420166015625}, {\"time\": \"2000-01-01T17:30:00\", \"variable\": \"SW_IN\", \"value\": 0.0, \"is_present\": true, \"mean\": 43.891441345214844, \"std\": 171.5630645751953, \"err_low\": -299.23468017578125, \"err_high\": 387.017578125}, {\"time\": \"2000-01-01T18:00:00\", \"variable\": \"SW_IN\", \"value\": 0.0, \"is_present\": true, \"mean\": 38.91847229003906, \"std\": 171.5482177734375, \"err_low\": -304.177978515625, \"err_high\": 382.014892578125}, {\"time\": \"2000-01-01T18:30:00\", \"variable\": \"SW_IN\", \"value\": 0.0, \"is_present\": true, \"mean\": 37.15570831298828, \"std\": 171.5426483154297, \"err_low\": -305.9295959472656, \"err_high\": 380.2409973144531}, {\"time\": \"2000-01-01T19:00:00\", \"variable\": \"SW_IN\", \"value\": 0.0, \"is_present\": true, \"mean\": 37.23955535888672, \"std\": 171.54086303710938, \"err_low\": -305.8421630859375, \"err_high\": 380.3212890625}, {\"time\": \"2000-01-01T19:30:00\", \"variable\": \"SW_IN\", \"value\": 0.0, \"is_present\": false, \"mean\": 38.38599395751953, \"std\": 171.540283203125, \"err_low\": -304.694580078125, \"err_high\": 381.466552734375}, {\"time\": \"2000-01-01T20:00:00\", \"variable\": \"SW_IN\", \"value\": 0.0, \"is_present\": false, \"mean\": 36.391380310058594, \"std\": 171.82618713378906, \"err_low\": -307.260986328125, \"err_high\": 380.04376220703125}, {\"time\": \"2000-01-01T20:30:00\", \"variable\": \"SW_IN\", \"value\": 0.0, \"is_present\": true, \"mean\": 37.11370086669922, \"std\": 171.8263702392578, \"err_low\": -306.5390319824219, \"err_high\": 380.7664489746094}], \"data-93f9a4066e3568008b20e39ee4aaff26\": [{\"time\": \"2000-01-01T16:00:00\", \"variable\": \"VPD\", \"value\": 0.0, \"is_present\": true, \"mean\": 3.7830052375793457, \"std\": 7.600846767425537, \"err_low\": -11.41868782043457, \"err_high\": 18.984699249267578}, {\"time\": \"2000-01-01T16:30:00\", \"variable\": \"VPD\", \"value\": 0.0, \"is_present\": true, \"mean\": -14.108113288879395, \"std\": 10.962274551391602, \"err_low\": -36.03266143798828, \"err_high\": 7.816435813903809}, {\"time\": \"2000-01-01T17:00:00\", \"variable\": \"VPD\", \"value\": 0.0, \"is_present\": true, \"mean\": -16.875282287597656, \"std\": 11.16780948638916, \"err_low\": -39.210899353027344, \"err_high\": 5.460336685180664}, {\"time\": \"2000-01-01T17:30:00\", \"variable\": \"VPD\", \"value\": 0.0, \"is_present\": true, \"mean\": -16.354061126708984, \"std\": 11.164826393127441, \"err_low\": -38.6837158203125, \"err_high\": 5.975591659545898}, {\"time\": \"2000-01-01T18:00:00\", \"variable\": \"VPD\", \"value\": 0.0, \"is_present\": true, \"mean\": -15.920086860656738, \"std\": 11.163829803466797, \"err_low\": -38.247745513916016, \"err_high\": 6.4075727462768555}, {\"time\": \"2000-01-01T18:30:00\", \"variable\": \"VPD\", \"value\": 0.0, \"is_present\": true, \"mean\": -15.574198722839355, \"std\": 11.163601875305176, \"err_low\": -37.90140151977539, \"err_high\": 6.753005027770996}, {\"time\": \"2000-01-01T19:00:00\", \"variable\": \"VPD\", \"value\": 0.0020000000949949026, \"is_present\": true, \"mean\": -15.25801944732666, \"std\": 11.163527488708496, \"err_low\": -37.58507537841797, \"err_high\": 7.069035530090332}, {\"time\": \"2000-01-01T19:30:00\", \"variable\": \"VPD\", \"value\": 0.008999999612569809, \"is_present\": true, \"mean\": -14.945914268493652, \"std\": 11.163501739501953, \"err_low\": -37.272918701171875, \"err_high\": 7.381089210510254}, {\"time\": \"2000-01-01T20:00:00\", \"variable\": \"VPD\", \"value\": 0.014000000432133675, \"is_present\": true, \"mean\": -15.463526725769043, \"std\": 11.37548542022705, \"err_low\": -38.21449661254883, \"err_high\": 7.287444114685059}, {\"time\": \"2000-01-01T20:30:00\", \"variable\": \"VPD\", \"value\": 0.014000000432133675, \"is_present\": true, \"mean\": -15.403605461120605, \"std\": 11.378108978271484, \"err_low\": -38.15982437133789, \"err_high\": 7.352612495422363}]}}, {\"mode\": \"vega-lite\"});\n",
       "</script>"
      ],
      "text/plain": [
       "alt.HConcatChart(...)"
      ]
     },
     "execution_count": null,
     "metadata": {},
     "output_type": "execute_result"
    }
   ],
   "source": [
    "show_results(learn, items=[1,2,3])"
   ]
  },
  {
   "cell_type": "code",
   "execution_count": null,
   "id": "6127a4ef-4559-4d5d-9aea-ce3fb210bf93",
   "metadata": {},
   "outputs": [
    {
     "data": {
      "text/html": [
       "<p style='font-size: 1.5rem; font-decoration: bold'>Kalman Filter (3 obs, 3 state, 6 contr)<p><div style=\"display: flex; column-gap: 20px; flex-wrap: wrap;\" class='table table-striped table-sm'> <div> <p style='font-size: 1.3rem;'>trans_matrix (A)</p> <style type=\"text/css\">\n",
       "</style>\n",
       "<table id=\"T_6462e\">\n",
       "  <thead>\n",
       "    <tr>\n",
       "      <th id=\"T_6462e_level0_col0\" class=\"col_heading level0 col0\" >state</th>\n",
       "      <th id=\"T_6462e_level0_col1\" class=\"col_heading level0 col1\" >x_0</th>\n",
       "      <th id=\"T_6462e_level0_col2\" class=\"col_heading level0 col2\" >x_1</th>\n",
       "      <th id=\"T_6462e_level0_col3\" class=\"col_heading level0 col3\" >x_2</th>\n",
       "    </tr>\n",
       "  </thead>\n",
       "  <tbody>\n",
       "    <tr>\n",
       "      <td id=\"T_6462e_row0_col0\" class=\"data row0 col0\" >x_0</td>\n",
       "      <td id=\"T_6462e_row0_col1\" class=\"data row0 col1\" >0.4318</td>\n",
       "      <td id=\"T_6462e_row0_col2\" class=\"data row0 col2\" >0.7820</td>\n",
       "      <td id=\"T_6462e_row0_col3\" class=\"data row0 col3\" >0.7697</td>\n",
       "    </tr>\n",
       "    <tr>\n",
       "      <td id=\"T_6462e_row1_col0\" class=\"data row1 col0\" >x_1</td>\n",
       "      <td id=\"T_6462e_row1_col1\" class=\"data row1 col1\" >0.1259</td>\n",
       "      <td id=\"T_6462e_row1_col2\" class=\"data row1 col2\" >0.6432</td>\n",
       "      <td id=\"T_6462e_row1_col3\" class=\"data row1 col3\" >0.0969</td>\n",
       "    </tr>\n",
       "    <tr>\n",
       "      <td id=\"T_6462e_row2_col0\" class=\"data row2 col0\" >x_2</td>\n",
       "      <td id=\"T_6462e_row2_col1\" class=\"data row2 col1\" >0.5455</td>\n",
       "      <td id=\"T_6462e_row2_col2\" class=\"data row2 col2\" >0.1997</td>\n",
       "      <td id=\"T_6462e_row2_col3\" class=\"data row2 col3\" >0.7401</td>\n",
       "    </tr>\n",
       "  </tbody>\n",
       "</table>\n",
       " </div><div> <p style='font-size: 1.3rem;'>trans_cov (Q)</p> <style type=\"text/css\">\n",
       "</style>\n",
       "<table id=\"T_fe925\">\n",
       "  <thead>\n",
       "    <tr>\n",
       "      <th id=\"T_fe925_level0_col0\" class=\"col_heading level0 col0\" >state</th>\n",
       "      <th id=\"T_fe925_level0_col1\" class=\"col_heading level0 col1\" >x_0</th>\n",
       "      <th id=\"T_fe925_level0_col2\" class=\"col_heading level0 col2\" >x_1</th>\n",
       "      <th id=\"T_fe925_level0_col3\" class=\"col_heading level0 col3\" >x_2</th>\n",
       "    </tr>\n",
       "  </thead>\n",
       "  <tbody>\n",
       "    <tr>\n",
       "      <td id=\"T_fe925_row0_col0\" class=\"data row0 col0\" >x_0</td>\n",
       "      <td id=\"T_fe925_row0_col1\" class=\"data row0 col1\" >1.5461</td>\n",
       "      <td id=\"T_fe925_row0_col2\" class=\"data row0 col2\" >1.0634</td>\n",
       "      <td id=\"T_fe925_row0_col3\" class=\"data row0 col3\" >1.7913</td>\n",
       "    </tr>\n",
       "    <tr>\n",
       "      <td id=\"T_fe925_row1_col0\" class=\"data row1 col0\" >x_1</td>\n",
       "      <td id=\"T_fe925_row1_col1\" class=\"data row1 col1\" >1.0634</td>\n",
       "      <td id=\"T_fe925_row1_col2\" class=\"data row1 col2\" >0.7655</td>\n",
       "      <td id=\"T_fe925_row1_col3\" class=\"data row1 col3\" >1.2302</td>\n",
       "    </tr>\n",
       "    <tr>\n",
       "      <td id=\"T_fe925_row2_col0\" class=\"data row2 col0\" >x_2</td>\n",
       "      <td id=\"T_fe925_row2_col1\" class=\"data row2 col1\" >1.7913</td>\n",
       "      <td id=\"T_fe925_row2_col2\" class=\"data row2 col2\" >1.2302</td>\n",
       "      <td id=\"T_fe925_row2_col3\" class=\"data row2 col3\" >2.1298</td>\n",
       "    </tr>\n",
       "  </tbody>\n",
       "</table>\n",
       " </div><div> <p style='font-size: 1.3rem;'>trans_off</p> <style type=\"text/css\">\n",
       "</style>\n",
       "<table id=\"T_0b0f0\">\n",
       "  <thead>\n",
       "    <tr>\n",
       "      <th id=\"T_0b0f0_level0_col0\" class=\"col_heading level0 col0\" >state</th>\n",
       "      <th id=\"T_0b0f0_level0_col1\" class=\"col_heading level0 col1\" >offset</th>\n",
       "    </tr>\n",
       "  </thead>\n",
       "  <tbody>\n",
       "    <tr>\n",
       "      <td id=\"T_0b0f0_row0_col0\" class=\"data row0 col0\" >x_0</td>\n",
       "      <td id=\"T_0b0f0_row0_col1\" class=\"data row0 col1\" >0.1445</td>\n",
       "    </tr>\n",
       "    <tr>\n",
       "      <td id=\"T_0b0f0_row1_col0\" class=\"data row1 col0\" >x_1</td>\n",
       "      <td id=\"T_0b0f0_row1_col1\" class=\"data row1 col1\" >0.0086</td>\n",
       "    </tr>\n",
       "    <tr>\n",
       "      <td id=\"T_0b0f0_row2_col0\" class=\"data row2 col0\" >x_2</td>\n",
       "      <td id=\"T_0b0f0_row2_col1\" class=\"data row2 col1\" >0.9187</td>\n",
       "    </tr>\n",
       "  </tbody>\n",
       "</table>\n",
       " </div><div> <p style='font-size: 1.3rem;'>obs_matrix (H)</p> <style type=\"text/css\">\n",
       "</style>\n",
       "<table id=\"T_ca3e8\">\n",
       "  <thead>\n",
       "    <tr>\n",
       "      <th id=\"T_ca3e8_level0_col0\" class=\"col_heading level0 col0\" >variable</th>\n",
       "      <th id=\"T_ca3e8_level0_col1\" class=\"col_heading level0 col1\" >x_0</th>\n",
       "      <th id=\"T_ca3e8_level0_col2\" class=\"col_heading level0 col2\" >x_1</th>\n",
       "      <th id=\"T_ca3e8_level0_col3\" class=\"col_heading level0 col3\" >x_2</th>\n",
       "    </tr>\n",
       "  </thead>\n",
       "  <tbody>\n",
       "    <tr>\n",
       "      <td id=\"T_ca3e8_row0_col0\" class=\"data row0 col0\" >y_0</td>\n",
       "      <td id=\"T_ca3e8_row0_col1\" class=\"data row0 col1\" >0.5362</td>\n",
       "      <td id=\"T_ca3e8_row0_col2\" class=\"data row0 col2\" >0.6174</td>\n",
       "      <td id=\"T_ca3e8_row0_col3\" class=\"data row0 col3\" >0.0128</td>\n",
       "    </tr>\n",
       "    <tr>\n",
       "      <td id=\"T_ca3e8_row1_col0\" class=\"data row1 col0\" >y_1</td>\n",
       "      <td id=\"T_ca3e8_row1_col1\" class=\"data row1 col1\" >0.0461</td>\n",
       "      <td id=\"T_ca3e8_row1_col2\" class=\"data row1 col2\" >0.3321</td>\n",
       "      <td id=\"T_ca3e8_row1_col3\" class=\"data row1 col3\" >-0.0434</td>\n",
       "    </tr>\n",
       "    <tr>\n",
       "      <td id=\"T_ca3e8_row2_col0\" class=\"data row2 col0\" >y_2</td>\n",
       "      <td id=\"T_ca3e8_row2_col1\" class=\"data row2 col1\" >0.8002</td>\n",
       "      <td id=\"T_ca3e8_row2_col2\" class=\"data row2 col2\" >0.7195</td>\n",
       "      <td id=\"T_ca3e8_row2_col3\" class=\"data row2 col3\" >0.6456</td>\n",
       "    </tr>\n",
       "  </tbody>\n",
       "</table>\n",
       " </div><div> <p style='font-size: 1.3rem;'>obs_cov (R)</p> <style type=\"text/css\">\n",
       "</style>\n",
       "<table id=\"T_62528\">\n",
       "  <thead>\n",
       "    <tr>\n",
       "      <th id=\"T_62528_level0_col0\" class=\"col_heading level0 col0\" >variable</th>\n",
       "      <th id=\"T_62528_level0_col1\" class=\"col_heading level0 col1\" >y_0</th>\n",
       "      <th id=\"T_62528_level0_col2\" class=\"col_heading level0 col2\" >y_1</th>\n",
       "      <th id=\"T_62528_level0_col3\" class=\"col_heading level0 col3\" >y_2</th>\n",
       "    </tr>\n",
       "  </thead>\n",
       "  <tbody>\n",
       "    <tr>\n",
       "      <td id=\"T_62528_row0_col0\" class=\"data row0 col0\" >y_0</td>\n",
       "      <td id=\"T_62528_row0_col1\" class=\"data row0 col1\" >1.1961</td>\n",
       "      <td id=\"T_62528_row0_col2\" class=\"data row0 col2\" >0.0000</td>\n",
       "      <td id=\"T_62528_row0_col3\" class=\"data row0 col3\" >0.0000</td>\n",
       "    </tr>\n",
       "    <tr>\n",
       "      <td id=\"T_62528_row1_col0\" class=\"data row1 col0\" >y_1</td>\n",
       "      <td id=\"T_62528_row1_col1\" class=\"data row1 col1\" >0.0000</td>\n",
       "      <td id=\"T_62528_row1_col2\" class=\"data row1 col2\" >0.7240</td>\n",
       "      <td id=\"T_62528_row1_col3\" class=\"data row1 col3\" >0.0000</td>\n",
       "    </tr>\n",
       "    <tr>\n",
       "      <td id=\"T_62528_row2_col0\" class=\"data row2 col0\" >y_2</td>\n",
       "      <td id=\"T_62528_row2_col1\" class=\"data row2 col1\" >0.0000</td>\n",
       "      <td id=\"T_62528_row2_col2\" class=\"data row2 col2\" >0.0000</td>\n",
       "      <td id=\"T_62528_row2_col3\" class=\"data row2 col3\" >1.1672</td>\n",
       "    </tr>\n",
       "  </tbody>\n",
       "</table>\n",
       " </div><div> <p style='font-size: 1.3rem;'>obs_off</p> <style type=\"text/css\">\n",
       "</style>\n",
       "<table id=\"T_dbd25\">\n",
       "  <thead>\n",
       "    <tr>\n",
       "      <th id=\"T_dbd25_level0_col0\" class=\"col_heading level0 col0\" >variable</th>\n",
       "      <th id=\"T_dbd25_level0_col1\" class=\"col_heading level0 col1\" >offset</th>\n",
       "    </tr>\n",
       "  </thead>\n",
       "  <tbody>\n",
       "    <tr>\n",
       "      <td id=\"T_dbd25_row0_col0\" class=\"data row0 col0\" >y_0</td>\n",
       "      <td id=\"T_dbd25_row0_col1\" class=\"data row0 col1\" >0.2147</td>\n",
       "    </tr>\n",
       "    <tr>\n",
       "      <td id=\"T_dbd25_row1_col0\" class=\"data row1 col0\" >y_1</td>\n",
       "      <td id=\"T_dbd25_row1_col1\" class=\"data row1 col1\" >0.7381</td>\n",
       "    </tr>\n",
       "    <tr>\n",
       "      <td id=\"T_dbd25_row2_col0\" class=\"data row2 col0\" >y_2</td>\n",
       "      <td id=\"T_dbd25_row2_col1\" class=\"data row2 col1\" >0.0426</td>\n",
       "    </tr>\n",
       "  </tbody>\n",
       "</table>\n",
       " </div><div> <p style='font-size: 1.3rem;'>contr_matrix (B)</p> <style type=\"text/css\">\n",
       "</style>\n",
       "<table id=\"T_eaa05\">\n",
       "  <thead>\n",
       "    <tr>\n",
       "      <th id=\"T_eaa05_level0_col0\" class=\"col_heading level0 col0\" >state</th>\n",
       "      <th id=\"T_eaa05_level0_col1\" class=\"col_heading level0 col1\" >c_0</th>\n",
       "      <th id=\"T_eaa05_level0_col2\" class=\"col_heading level0 col2\" >c_1</th>\n",
       "      <th id=\"T_eaa05_level0_col3\" class=\"col_heading level0 col3\" >c_2</th>\n",
       "      <th id=\"T_eaa05_level0_col4\" class=\"col_heading level0 col4\" >c_3</th>\n",
       "      <th id=\"T_eaa05_level0_col5\" class=\"col_heading level0 col5\" >c_4</th>\n",
       "      <th id=\"T_eaa05_level0_col6\" class=\"col_heading level0 col6\" >c_5</th>\n",
       "    </tr>\n",
       "  </thead>\n",
       "  <tbody>\n",
       "    <tr>\n",
       "      <td id=\"T_eaa05_row0_col0\" class=\"data row0 col0\" >x_0</td>\n",
       "      <td id=\"T_eaa05_row0_col1\" class=\"data row0 col1\" >0.2880</td>\n",
       "      <td id=\"T_eaa05_row0_col2\" class=\"data row0 col2\" >0.4251</td>\n",
       "      <td id=\"T_eaa05_row0_col3\" class=\"data row0 col3\" >0.1345</td>\n",
       "      <td id=\"T_eaa05_row0_col4\" class=\"data row0 col4\" >0.7338</td>\n",
       "      <td id=\"T_eaa05_row0_col5\" class=\"data row0 col5\" >0.4766</td>\n",
       "      <td id=\"T_eaa05_row0_col6\" class=\"data row0 col6\" >0.6762</td>\n",
       "    </tr>\n",
       "    <tr>\n",
       "      <td id=\"T_eaa05_row1_col0\" class=\"data row1 col0\" >x_1</td>\n",
       "      <td id=\"T_eaa05_row1_col1\" class=\"data row1 col1\" >0.7294</td>\n",
       "      <td id=\"T_eaa05_row1_col2\" class=\"data row1 col2\" >0.5623</td>\n",
       "      <td id=\"T_eaa05_row1_col3\" class=\"data row1 col3\" >0.6039</td>\n",
       "      <td id=\"T_eaa05_row1_col4\" class=\"data row1 col4\" >0.0007</td>\n",
       "      <td id=\"T_eaa05_row1_col5\" class=\"data row1 col5\" >0.1944</td>\n",
       "      <td id=\"T_eaa05_row1_col6\" class=\"data row1 col6\" >0.5210</td>\n",
       "    </tr>\n",
       "    <tr>\n",
       "      <td id=\"T_eaa05_row2_col0\" class=\"data row2 col0\" >x_2</td>\n",
       "      <td id=\"T_eaa05_row2_col1\" class=\"data row2 col1\" >0.3459</td>\n",
       "      <td id=\"T_eaa05_row2_col2\" class=\"data row2 col2\" >0.7570</td>\n",
       "      <td id=\"T_eaa05_row2_col3\" class=\"data row2 col3\" >0.6031</td>\n",
       "      <td id=\"T_eaa05_row2_col4\" class=\"data row2 col4\" >-0.0433</td>\n",
       "      <td id=\"T_eaa05_row2_col5\" class=\"data row2 col5\" >0.7670</td>\n",
       "      <td id=\"T_eaa05_row2_col6\" class=\"data row2 col6\" >0.2841</td>\n",
       "    </tr>\n",
       "  </tbody>\n",
       "</table>\n",
       " </div><div> <p style='font-size: 1.3rem;'>init_state_mean</p> <style type=\"text/css\">\n",
       "</style>\n",
       "<table id=\"T_c7b99\">\n",
       "  <thead>\n",
       "    <tr>\n",
       "      <th id=\"T_c7b99_level0_col0\" class=\"col_heading level0 col0\" >state</th>\n",
       "      <th id=\"T_c7b99_level0_col1\" class=\"col_heading level0 col1\" >mean</th>\n",
       "    </tr>\n",
       "  </thead>\n",
       "  <tbody>\n",
       "    <tr>\n",
       "      <td id=\"T_c7b99_row0_col0\" class=\"data row0 col0\" >x_0</td>\n",
       "      <td id=\"T_c7b99_row0_col1\" class=\"data row0 col1\" >0.1519</td>\n",
       "    </tr>\n",
       "    <tr>\n",
       "      <td id=\"T_c7b99_row1_col0\" class=\"data row1 col0\" >x_1</td>\n",
       "      <td id=\"T_c7b99_row1_col1\" class=\"data row1 col1\" >0.0070</td>\n",
       "    </tr>\n",
       "    <tr>\n",
       "      <td id=\"T_c7b99_row2_col0\" class=\"data row2 col0\" >x_2</td>\n",
       "      <td id=\"T_c7b99_row2_col1\" class=\"data row2 col1\" >0.1331</td>\n",
       "    </tr>\n",
       "  </tbody>\n",
       "</table>\n",
       " </div><div> <p style='font-size: 1.3rem;'>init_state_cov</p> <style type=\"text/css\">\n",
       "</style>\n",
       "<table id=\"T_1e1a3\">\n",
       "  <thead>\n",
       "    <tr>\n",
       "      <th id=\"T_1e1a3_level0_col0\" class=\"col_heading level0 col0\" >state</th>\n",
       "      <th id=\"T_1e1a3_level0_col1\" class=\"col_heading level0 col1\" >x_0</th>\n",
       "      <th id=\"T_1e1a3_level0_col2\" class=\"col_heading level0 col2\" >x_1</th>\n",
       "      <th id=\"T_1e1a3_level0_col3\" class=\"col_heading level0 col3\" >x_2</th>\n",
       "    </tr>\n",
       "  </thead>\n",
       "  <tbody>\n",
       "    <tr>\n",
       "      <td id=\"T_1e1a3_row0_col0\" class=\"data row0 col0\" >x_0</td>\n",
       "      <td id=\"T_1e1a3_row0_col1\" class=\"data row0 col1\" >1.5410</td>\n",
       "      <td id=\"T_1e1a3_row0_col2\" class=\"data row0 col2\" >0.3185</td>\n",
       "      <td id=\"T_1e1a3_row0_col3\" class=\"data row0 col3\" >1.0989</td>\n",
       "    </tr>\n",
       "    <tr>\n",
       "      <td id=\"T_1e1a3_row1_col0\" class=\"data row1 col0\" >x_1</td>\n",
       "      <td id=\"T_1e1a3_row1_col1\" class=\"data row1 col1\" >0.3185</td>\n",
       "      <td id=\"T_1e1a3_row1_col2\" class=\"data row1 col2\" >0.0932</td>\n",
       "      <td id=\"T_1e1a3_row1_col3\" class=\"data row1 col3\" >0.1281</td>\n",
       "    </tr>\n",
       "    <tr>\n",
       "      <td id=\"T_1e1a3_row2_col0\" class=\"data row2 col0\" >x_2</td>\n",
       "      <td id=\"T_1e1a3_row2_col1\" class=\"data row2 col1\" >1.0989</td>\n",
       "      <td id=\"T_1e1a3_row2_col2\" class=\"data row2 col2\" >0.1281</td>\n",
       "      <td id=\"T_1e1a3_row2_col3\" class=\"data row2 col3\" >1.3163</td>\n",
       "    </tr>\n",
       "  </tbody>\n",
       "</table>\n",
       " </div></div>"
      ],
      "text/plain": [
       "<fastai.learner.Learner>"
      ]
     },
     "execution_count": null,
     "metadata": {},
     "output_type": "execute_result"
    }
   ],
   "source": [
    "learn"
   ]
  },
  {
   "cell_type": "markdown",
   "id": "d09f23d4-5d1b-40cb-adf7-0985b452f42b",
   "metadata": {},
   "source": [
    "#### Interactive"
   ]
  },
  {
   "cell_type": "code",
   "execution_count": null,
   "id": "c9bea97c-c708-45af-8b06-a058f0e6c1f8",
   "metadata": {},
   "outputs": [],
   "source": [
    "#| export\n",
    "from ipywidgets import IntSlider, interact_manual, Text"
   ]
  },
  {
   "cell_type": "code",
   "execution_count": null,
   "id": "f701cf43-72a7-47bd-bf6e-4d2c051fd3ef",
   "metadata": {},
   "outputs": [],
   "source": [
    "#| export\n",
    "def results_custom_gap(learn, df, control, items_idx, var_sel, gap_len, block_len, control_lags):\n",
    "    pipeline,_ = imp_pipeline(df, control, var_sel, gap_len, block_len, control_lags)\n",
    "    \n",
    "    dls = Datasets(items_idx, [pipeline, pipeline]).dataloaders(bs=len(items_idx))\n",
    "    return get_results(learn, items=items_idx, dls=dls)"
   ]
  },
  {
   "cell_type": "code",
   "execution_count": null,
   "id": "eba864dd-5b28-4a18-a88b-a70ab4a36aa7",
   "metadata": {},
   "outputs": [
    {
     "data": {
      "text/html": [
       "\n",
       "<div id=\"altair-viz-8498f89d771e47b0b48984149551195a\"></div>\n",
       "<script type=\"text/javascript\">\n",
       "  var VEGA_DEBUG = (typeof VEGA_DEBUG == \"undefined\") ? {} : VEGA_DEBUG;\n",
       "  (function(spec, embedOpt){\n",
       "    let outputDiv = document.currentScript.previousElementSibling;\n",
       "    if (outputDiv.id !== \"altair-viz-8498f89d771e47b0b48984149551195a\") {\n",
       "      outputDiv = document.getElementById(\"altair-viz-8498f89d771e47b0b48984149551195a\");\n",
       "    }\n",
       "    const paths = {\n",
       "      \"vega\": \"https://cdn.jsdelivr.net/npm//vega@5?noext\",\n",
       "      \"vega-lib\": \"https://cdn.jsdelivr.net/npm//vega-lib?noext\",\n",
       "      \"vega-lite\": \"https://cdn.jsdelivr.net/npm//vega-lite@5.2.0?noext\",\n",
       "      \"vega-embed\": \"https://cdn.jsdelivr.net/npm//vega-embed@6?noext\",\n",
       "    };\n",
       "\n",
       "    function maybeLoadScript(lib, version) {\n",
       "      var key = `${lib.replace(\"-\", \"\")}_version`;\n",
       "      return (VEGA_DEBUG[key] == version) ?\n",
       "        Promise.resolve(paths[lib]) :\n",
       "        new Promise(function(resolve, reject) {\n",
       "          var s = document.createElement('script');\n",
       "          document.getElementsByTagName(\"head\")[0].appendChild(s);\n",
       "          s.async = true;\n",
       "          s.onload = () => {\n",
       "            VEGA_DEBUG[key] = version;\n",
       "            return resolve(paths[lib]);\n",
       "          };\n",
       "          s.onerror = () => reject(`Error loading script: ${paths[lib]}`);\n",
       "          s.src = paths[lib];\n",
       "        });\n",
       "    }\n",
       "\n",
       "    function showError(err) {\n",
       "      outputDiv.innerHTML = `<div class=\"error\" style=\"color:red;\">${err}</div>`;\n",
       "      throw err;\n",
       "    }\n",
       "\n",
       "    function displayChart(vegaEmbed) {\n",
       "      vegaEmbed(outputDiv, spec, embedOpt)\n",
       "        .catch(err => showError(`Javascript Error: ${err.message}<br>This usually means there's a typo in your chart specification. See the javascript console for the full traceback.`));\n",
       "    }\n",
       "\n",
       "    if(typeof define === \"function\" && define.amd) {\n",
       "      requirejs.config({paths});\n",
       "      require([\"vega-embed\"], displayChart, err => showError(`Error loading script: ${err.message}`));\n",
       "    } else {\n",
       "      maybeLoadScript(\"vega\", \"5\")\n",
       "        .then(() => maybeLoadScript(\"vega-lite\", \"5.2.0\"))\n",
       "        .then(() => maybeLoadScript(\"vega-embed\", \"6\"))\n",
       "        .catch(showError)\n",
       "        .then(() => displayChart(vegaEmbed));\n",
       "    }\n",
       "  })({\"config\": {\"view\": {\"continuousWidth\": 400, \"continuousHeight\": 300}}, \"hconcat\": [{\"vconcat\": [{\"hconcat\": [{\"layer\": [{\"data\": {\"name\": \"data-2e5ccdc2ffa38cf0f712a4dba280498e\"}, \"mark\": {\"type\": \"point\", \"color\": \"black\", \"fillOpacity\": 1, \"strokeWidth\": 1}, \"encoding\": {\"fill\": {\"field\": \"is_present\", \"legend\": {\"title\": [\"Observed data\"]}, \"scale\": {\"range\": [\"black\", \"#ffffff00\"]}, \"type\": \"nominal\"}, \"shape\": {\"field\": \"is_present\", \"type\": \"nominal\"}, \"x\": {\"axis\": {\"domain\": true, \"labels\": true, \"ticks\": true, \"title\": \"time\"}, \"field\": \"time\", \"type\": \"temporal\"}, \"y\": {\"field\": \"value\", \"scale\": {\"zero\": false}, \"title\": \"TA\", \"type\": \"quantitative\"}}}, {\"layer\": [{\"mark\": \"rule\", \"encoding\": {\"x\": {\"axis\": {\"domain\": false, \"labels\": false, \"ticks\": false, \"title\": null}, \"field\": \"gap_start\", \"type\": \"temporal\"}}}, {\"mark\": \"rule\", \"encoding\": {\"x\": {\"axis\": {\"domain\": false, \"labels\": false, \"ticks\": false, \"title\": null}, \"field\": \"gap_end\", \"type\": \"temporal\"}}}, {\"mark\": {\"type\": \"rect\", \"color\": \"black\", \"opacity\": 0.2}, \"encoding\": {\"x\": {\"axis\": {\"domain\": false, \"labels\": false, \"ticks\": false, \"title\": null}, \"field\": \"gap_start\", \"type\": \"temporal\"}, \"x2\": {\"field\": \"gap_end\"}}}], \"data\": {\"name\": \"data-1d6c5a571a1f24050ebd001dbe5dfa4d\"}}, {\"layer\": [{\"mark\": \"errorband\", \"encoding\": {\"color\": {\"field\": \"variable\", \"legend\": {\"title\": [\"Line: pred. mean\", \"area: +/- 2 std\"]}, \"type\": \"nominal\"}, \"x\": {\"field\": \"time\", \"type\": \"temporal\"}, \"y\": {\"field\": \"err_low\", \"scale\": {\"zero\": false}, \"title\": \"TA\", \"type\": \"quantitative\"}, \"y2\": {\"field\": \"err_high\"}}, \"name\": \"view_42\"}, {\"mark\": \"line\", \"encoding\": {\"color\": {\"field\": \"variable\", \"type\": \"nominal\"}, \"x\": {\"field\": \"time\", \"type\": \"temporal\"}, \"y\": {\"field\": \"mean\", \"scale\": {\"zero\": false}, \"title\": \"TA\", \"type\": \"quantitative\"}}}], \"data\": {\"name\": \"data-2e5ccdc2ffa38cf0f712a4dba280498e\"}}], \"height\": 150, \"title\": \"TA\", \"width\": 200}]}, {\"hconcat\": [{\"layer\": [{\"mark\": {\"type\": \"point\", \"color\": \"black\", \"fillOpacity\": 1, \"strokeWidth\": 1}, \"encoding\": {\"fill\": {\"field\": \"is_present\", \"legend\": {\"title\": [\"Observed data\"]}, \"scale\": {\"range\": [\"black\", \"#ffffff00\"]}, \"type\": \"nominal\"}, \"shape\": {\"field\": \"is_present\", \"type\": \"nominal\"}, \"x\": {\"axis\": {\"domain\": true, \"labels\": true, \"ticks\": true, \"title\": \"time\"}, \"field\": \"time\", \"type\": \"temporal\"}, \"y\": {\"field\": \"value\", \"scale\": {\"zero\": false}, \"title\": \"SW_IN\", \"type\": \"quantitative\"}}}, {\"layer\": [{\"mark\": \"errorband\", \"encoding\": {\"color\": {\"field\": \"variable\", \"legend\": {\"title\": [\"Line: pred. mean\", \"area: +/- 2 std\"]}, \"type\": \"nominal\"}, \"x\": {\"field\": \"time\", \"type\": \"temporal\"}, \"y\": {\"field\": \"err_low\", \"scale\": {\"zero\": false}, \"title\": \"SW_IN\", \"type\": \"quantitative\"}, \"y2\": {\"field\": \"err_high\"}}, \"name\": \"view_43\"}, {\"mark\": \"line\", \"encoding\": {\"color\": {\"field\": \"variable\", \"type\": \"nominal\"}, \"x\": {\"field\": \"time\", \"type\": \"temporal\"}, \"y\": {\"field\": \"mean\", \"scale\": {\"zero\": false}, \"title\": \"SW_IN\", \"type\": \"quantitative\"}}}]}], \"height\": 150, \"title\": \"SW_IN\", \"width\": 200}], \"data\": {\"name\": \"data-5921d8b8a2efa06868692a55cdfdc4c4\"}}, {\"hconcat\": [{\"layer\": [{\"mark\": {\"type\": \"point\", \"color\": \"black\", \"fillOpacity\": 1, \"strokeWidth\": 1}, \"encoding\": {\"fill\": {\"field\": \"is_present\", \"legend\": {\"title\": [\"Observed data\"]}, \"scale\": {\"range\": [\"black\", \"#ffffff00\"]}, \"type\": \"nominal\"}, \"shape\": {\"field\": \"is_present\", \"type\": \"nominal\"}, \"x\": {\"axis\": {\"domain\": true, \"labels\": true, \"ticks\": true, \"title\": \"time\"}, \"field\": \"time\", \"type\": \"temporal\"}, \"y\": {\"field\": \"value\", \"scale\": {\"zero\": false}, \"title\": \"VPD\", \"type\": \"quantitative\"}}}, {\"layer\": [{\"mark\": \"errorband\", \"encoding\": {\"color\": {\"field\": \"variable\", \"legend\": {\"title\": [\"Line: pred. mean\", \"area: +/- 2 std\"]}, \"type\": \"nominal\"}, \"x\": {\"field\": \"time\", \"type\": \"temporal\"}, \"y\": {\"field\": \"err_low\", \"scale\": {\"zero\": false}, \"title\": \"VPD\", \"type\": \"quantitative\"}, \"y2\": {\"field\": \"err_high\"}}, \"name\": \"view_44\"}, {\"mark\": \"line\", \"encoding\": {\"color\": {\"field\": \"variable\", \"type\": \"nominal\"}, \"x\": {\"field\": \"time\", \"type\": \"temporal\"}, \"y\": {\"field\": \"mean\", \"scale\": {\"zero\": false}, \"title\": \"VPD\", \"type\": \"quantitative\"}}}]}], \"height\": 150, \"title\": \"VPD\", \"width\": 200}], \"data\": {\"name\": \"data-7503f97d524466db343e45a60823f5b3\"}}], \"title\": \"loss: 1055.589625\"}, {\"vconcat\": [{\"hconcat\": [{\"layer\": [{\"data\": {\"name\": \"data-ac66b0ca52a9973fcc96f717424e627c\"}, \"mark\": {\"type\": \"point\", \"color\": \"black\", \"fillOpacity\": 1, \"strokeWidth\": 1}, \"encoding\": {\"fill\": {\"field\": \"is_present\", \"legend\": {\"title\": [\"Observed data\"]}, \"scale\": {\"range\": [\"black\", \"#ffffff00\"]}, \"type\": \"nominal\"}, \"shape\": {\"field\": \"is_present\", \"type\": \"nominal\"}, \"x\": {\"axis\": {\"domain\": true, \"labels\": true, \"ticks\": true, \"title\": \"time\"}, \"field\": \"time\", \"type\": \"temporal\"}, \"y\": {\"field\": \"value\", \"scale\": {\"zero\": false}, \"title\": \"TA\", \"type\": \"quantitative\"}}}, {\"layer\": [{\"mark\": \"rule\", \"encoding\": {\"x\": {\"axis\": {\"domain\": false, \"labels\": false, \"ticks\": false, \"title\": null}, \"field\": \"gap_start\", \"type\": \"temporal\"}}}, {\"mark\": \"rule\", \"encoding\": {\"x\": {\"axis\": {\"domain\": false, \"labels\": false, \"ticks\": false, \"title\": null}, \"field\": \"gap_end\", \"type\": \"temporal\"}}}, {\"mark\": {\"type\": \"rect\", \"color\": \"black\", \"opacity\": 0.2}, \"encoding\": {\"x\": {\"axis\": {\"domain\": false, \"labels\": false, \"ticks\": false, \"title\": null}, \"field\": \"gap_start\", \"type\": \"temporal\"}, \"x2\": {\"field\": \"gap_end\"}}}], \"data\": {\"name\": \"data-a22b92627e11f383ec713a8f7793640a\"}}, {\"layer\": [{\"mark\": \"errorband\", \"encoding\": {\"color\": {\"field\": \"variable\", \"legend\": {\"title\": [\"Line: pred. mean\", \"area: +/- 2 std\"]}, \"type\": \"nominal\"}, \"x\": {\"field\": \"time\", \"type\": \"temporal\"}, \"y\": {\"field\": \"err_low\", \"scale\": {\"zero\": false}, \"title\": \"TA\", \"type\": \"quantitative\"}, \"y2\": {\"field\": \"err_high\"}}, \"name\": \"view_45\"}, {\"mark\": \"line\", \"encoding\": {\"color\": {\"field\": \"variable\", \"type\": \"nominal\"}, \"x\": {\"field\": \"time\", \"type\": \"temporal\"}, \"y\": {\"field\": \"mean\", \"scale\": {\"zero\": false}, \"title\": \"TA\", \"type\": \"quantitative\"}}}], \"data\": {\"name\": \"data-ac66b0ca52a9973fcc96f717424e627c\"}}], \"height\": 150, \"title\": \"TA\", \"width\": 200}]}, {\"hconcat\": [{\"layer\": [{\"mark\": {\"type\": \"point\", \"color\": \"black\", \"fillOpacity\": 1, \"strokeWidth\": 1}, \"encoding\": {\"fill\": {\"field\": \"is_present\", \"legend\": {\"title\": [\"Observed data\"]}, \"scale\": {\"range\": [\"black\", \"#ffffff00\"]}, \"type\": \"nominal\"}, \"shape\": {\"field\": \"is_present\", \"type\": \"nominal\"}, \"x\": {\"axis\": {\"domain\": true, \"labels\": true, \"ticks\": true, \"title\": \"time\"}, \"field\": \"time\", \"type\": \"temporal\"}, \"y\": {\"field\": \"value\", \"scale\": {\"zero\": false}, \"title\": \"SW_IN\", \"type\": \"quantitative\"}}}, {\"layer\": [{\"mark\": \"errorband\", \"encoding\": {\"color\": {\"field\": \"variable\", \"legend\": {\"title\": [\"Line: pred. mean\", \"area: +/- 2 std\"]}, \"type\": \"nominal\"}, \"x\": {\"field\": \"time\", \"type\": \"temporal\"}, \"y\": {\"field\": \"err_low\", \"scale\": {\"zero\": false}, \"title\": \"SW_IN\", \"type\": \"quantitative\"}, \"y2\": {\"field\": \"err_high\"}}, \"name\": \"view_46\"}, {\"mark\": \"line\", \"encoding\": {\"color\": {\"field\": \"variable\", \"type\": \"nominal\"}, \"x\": {\"field\": \"time\", \"type\": \"temporal\"}, \"y\": {\"field\": \"mean\", \"scale\": {\"zero\": false}, \"title\": \"SW_IN\", \"type\": \"quantitative\"}}}]}], \"height\": 150, \"title\": \"SW_IN\", \"width\": 200}], \"data\": {\"name\": \"data-4c08e66398e4b56d4df410b0b38c3502\"}}, {\"hconcat\": [{\"layer\": [{\"mark\": {\"type\": \"point\", \"color\": \"black\", \"fillOpacity\": 1, \"strokeWidth\": 1}, \"encoding\": {\"fill\": {\"field\": \"is_present\", \"legend\": {\"title\": [\"Observed data\"]}, \"scale\": {\"range\": [\"black\", \"#ffffff00\"]}, \"type\": \"nominal\"}, \"shape\": {\"field\": \"is_present\", \"type\": \"nominal\"}, \"x\": {\"axis\": {\"domain\": true, \"labels\": true, \"ticks\": true, \"title\": \"time\"}, \"field\": \"time\", \"type\": \"temporal\"}, \"y\": {\"field\": \"value\", \"scale\": {\"zero\": false}, \"title\": \"VPD\", \"type\": \"quantitative\"}}}, {\"layer\": [{\"mark\": \"errorband\", \"encoding\": {\"color\": {\"field\": \"variable\", \"legend\": {\"title\": [\"Line: pred. mean\", \"area: +/- 2 std\"]}, \"type\": \"nominal\"}, \"x\": {\"field\": \"time\", \"type\": \"temporal\"}, \"y\": {\"field\": \"err_low\", \"scale\": {\"zero\": false}, \"title\": \"VPD\", \"type\": \"quantitative\"}, \"y2\": {\"field\": \"err_high\"}}, \"name\": \"view_47\"}, {\"mark\": \"line\", \"encoding\": {\"color\": {\"field\": \"variable\", \"type\": \"nominal\"}, \"x\": {\"field\": \"time\", \"type\": \"temporal\"}, \"y\": {\"field\": \"mean\", \"scale\": {\"zero\": false}, \"title\": \"VPD\", \"type\": \"quantitative\"}}}]}], \"height\": 150, \"title\": \"VPD\", \"width\": 200}], \"data\": {\"name\": \"data-032f9311e2f32b888912fef675ce161b\"}}], \"title\": \"loss: 998.674953\"}], \"params\": [{\"name\": \"param_59\", \"select\": {\"type\": \"interval\", \"encodings\": [\"x\"]}, \"bind\": \"scales\", \"views\": [\"view_42\", \"view_43\", \"view_44\"]}, {\"name\": \"param_63\", \"select\": {\"type\": \"interval\", \"encodings\": [\"x\"]}, \"bind\": \"scales\", \"views\": [\"view_45\", \"view_46\", \"view_47\"]}], \"$schema\": \"https://vega.github.io/schema/vega-lite/v5.2.0.json\", \"datasets\": {\"data-2e5ccdc2ffa38cf0f712a4dba280498e\": [{\"time\": \"2009-02-15T09:00:00\", \"variable\": \"TA\", \"value\": -5.97, \"is_present\": true, \"mean\": 15.583695778011714, \"std\": 6.665957589266434, \"err_low\": 2.251780599478847, \"err_high\": 28.915610956544583}, {\"time\": \"2009-02-15T09:30:00\", \"variable\": \"TA\", \"value\": -6.05, \"is_present\": true, \"mean\": -7.592074240348728, \"std\": 9.241649738684542, \"err_low\": -26.07537371771781, \"err_high\": 10.891225237020356}, {\"time\": \"2009-02-15T10:00:00\", \"variable\": \"TA\", \"value\": -5.75, \"is_present\": true, \"mean\": -7.212547929935338, \"std\": 9.357229774875863, \"err_low\": -25.927007479687063, \"err_high\": 11.501911619816388}, {\"time\": \"2009-02-15T10:30:00\", \"variable\": \"TA\", \"value\": -5.28, \"is_present\": true, \"mean\": -3.922292446845116, \"std\": 9.343612495045862, \"err_low\": -22.60951743693684, \"err_high\": 14.764932543246609}, {\"time\": \"2009-02-15T11:00:00\", \"variable\": \"TA\", \"value\": -4.52, \"is_present\": true, \"mean\": -1.2276095637769426, \"std\": 9.340976410090251, \"err_low\": -19.909562383957443, \"err_high\": 17.45434325640356}, {\"time\": \"2009-02-15T11:30:00\", \"variable\": \"TA\", \"value\": -3.78, \"is_present\": true, \"mean\": 1.3964748580297117, \"std\": 9.34052766469437, \"err_low\": -17.28458047135903, \"err_high\": 20.077530187418454}, {\"time\": \"2009-02-15T12:00:00\", \"variable\": \"TA\", \"value\": -3.45, \"is_present\": true, \"mean\": 3.3584278936085203, \"std\": 9.34045753389071, \"err_low\": -15.322487174172899, \"err_high\": 22.03934296138994}, {\"time\": \"2009-02-15T12:30:00\", \"variable\": \"TA\", \"value\": -3.44, \"is_present\": true, \"mean\": 4.222263730357077, \"std\": 9.340446612290911, \"err_low\": -14.458629494224745, \"err_high\": 22.9031569549389}, {\"time\": \"2009-02-15T13:00:00\", \"variable\": \"TA\", \"value\": -3.55, \"is_present\": true, \"mean\": 4.747762854906686, \"std\": 9.34044492875195, \"err_low\": -13.933127002597214, \"err_high\": 23.428652712410585}, {\"time\": \"2009-02-15T13:30:00\", \"variable\": \"TA\", \"value\": -3.25, \"is_present\": true, \"mean\": 6.133565965414108, \"std\": 9.340444668679435, \"err_low\": -12.547323371944763, \"err_high\": 24.814455302772977}, {\"time\": \"2009-02-15T14:00:00\", \"variable\": \"TA\", \"value\": -3.43, \"is_present\": true, \"mean\": 4.685558305659637, \"std\": 9.340444628613927, \"err_low\": -13.995330951568217, \"err_high\": 23.36644756288749}, {\"time\": \"2009-02-15T14:30:00\", \"variable\": \"TA\", \"value\": -3.41, \"is_present\": true, \"mean\": 2.928792306314988, \"std\": 9.340444622432813, \"err_low\": -15.752096938550636, \"err_high\": 21.609681551180614}, {\"time\": \"2009-02-15T15:00:00\", \"variable\": \"TA\", \"value\": -3.31, \"is_present\": true, \"mean\": 2.3327453158124882, \"std\": 9.340444621480259, \"err_low\": -16.34814392714803, \"err_high\": 21.013634558773006}, {\"time\": \"2009-02-15T15:30:00\", \"variable\": \"TA\", \"value\": -3.36, \"is_present\": true, \"mean\": 2.7187477148729498, \"std\": 9.340444621333372, \"err_low\": -15.962141527793793, \"err_high\": 21.399636957539695}, {\"time\": \"2009-02-15T16:00:00\", \"variable\": \"TA\", \"value\": -3.5, \"is_present\": true, \"mean\": 1.7713513925211686, \"std\": 9.340444621310718, \"err_low\": -16.909537850100268, \"err_high\": 20.452240635142605}, {\"time\": \"2009-02-15T16:30:00\", \"variable\": \"TA\", \"value\": -3.57, \"is_present\": true, \"mean\": 1.4062479661434315, \"std\": 9.340444621307237, \"err_low\": -17.27464127647104, \"err_high\": 20.087137208757905}, {\"time\": \"2009-02-15T17:00:00\", \"variable\": \"TA\", \"value\": -3.68, \"is_present\": true, \"mean\": -0.30619129386937516, \"std\": 9.340444621306698, \"err_low\": -18.98708053648277, \"err_high\": 18.37469794874402}, {\"time\": \"2009-02-15T17:30:00\", \"variable\": \"TA\", \"value\": -3.63, \"is_present\": true, \"mean\": -1.07007341156892, \"std\": 9.340444621306617, \"err_low\": -19.750962654182153, \"err_high\": 17.610815831044313}, {\"time\": \"2009-02-15T18:00:00\", \"variable\": \"TA\", \"value\": -3.57, \"is_present\": true, \"mean\": -1.7048721842909824, \"std\": 9.340444621306613, \"err_low\": -20.38576142690421, \"err_high\": 16.976017058322242}, {\"time\": \"2009-02-15T18:30:00\", \"variable\": \"TA\", \"value\": -3.55, \"is_present\": true, \"mean\": -2.1399762418458597, \"std\": 9.340444621306602, \"err_low\": -20.820865484459063, \"err_high\": 16.540913000767347}, {\"time\": \"2009-02-15T19:00:00\", \"variable\": \"TA\", \"value\": -3.66, \"is_present\": true, \"mean\": -2.480612946296409, \"std\": 9.340444621306597, \"err_low\": -21.1615021889096, \"err_high\": 16.200276296316787}, {\"time\": \"2009-02-15T19:30:00\", \"variable\": \"TA\", \"value\": -3.79, \"is_present\": true, \"mean\": -2.921012706426003, \"std\": 9.340444621306606, \"err_low\": -21.601901949039217, \"err_high\": 15.759876536187209}, {\"time\": \"2009-02-15T20:00:00\", \"variable\": \"TA\", \"value\": -3.86, \"is_present\": true, \"mean\": -3.1683366025505126, \"std\": 9.340444621306597, \"err_low\": -21.84922584516371, \"err_high\": 15.512552640062681}, {\"time\": \"2009-02-15T20:30:00\", \"variable\": \"TA\", \"value\": -3.8, \"is_present\": true, \"mean\": -3.270184427831504, \"std\": 9.340444621306608, \"err_low\": -21.95107367044472, \"err_high\": 15.410704814781711}, {\"time\": \"2009-02-15T21:00:00\", \"variable\": \"TA\", \"value\": -3.67, \"is_present\": true, \"mean\": -3.3173164823284953, \"std\": 9.340444621306592, \"err_low\": -21.998205724941677, \"err_high\": 15.363572760284688}, {\"time\": \"2009-02-15T21:30:00\", \"variable\": \"TA\", \"value\": -3.56, \"is_present\": true, \"mean\": -3.3379329041752026, \"std\": 9.340444621306606, \"err_low\": -22.018822146788416, \"err_high\": 15.34295633843801}, {\"time\": \"2009-02-15T22:00:00\", \"variable\": \"TA\", \"value\": -3.52, \"is_present\": true, \"mean\": -3.3602031985217913, \"std\": 9.34044462130659, \"err_low\": -22.04109244113497, \"err_high\": 15.320686044091389}, {\"time\": \"2009-02-15T22:30:00\", \"variable\": \"TA\", \"value\": -3.48, \"is_present\": true, \"mean\": -3.4275357271185243, \"std\": 9.340444621306599, \"err_low\": -22.108424969731722, \"err_high\": 15.253353515494673}, {\"time\": \"2009-02-15T23:00:00\", \"variable\": \"TA\", \"value\": -3.45, \"is_present\": true, \"mean\": -3.476268935964338, \"std\": 9.340444621306602, \"err_low\": -22.157158178577543, \"err_high\": 15.204620306648867}, {\"time\": \"2009-02-15T23:30:00\", \"variable\": \"TA\", \"value\": -3.43, \"is_present\": true, \"mean\": -3.498355661383009, \"std\": 9.340444621306602, \"err_low\": -22.179244903996214, \"err_high\": 15.182533581230196}, {\"time\": \"2009-02-16T00:00:00\", \"variable\": \"TA\", \"value\": -3.39, \"is_present\": true, \"mean\": -3.5403954278746674, \"std\": 9.340444621306606, \"err_low\": -22.22128467048788, \"err_high\": 15.140493814738544}, {\"time\": \"2009-02-16T00:30:00\", \"variable\": \"TA\", \"value\": -3.33, \"is_present\": true, \"mean\": -3.573255518615669, \"std\": 9.3404446213066, \"err_low\": -22.254144761228872, \"err_high\": 15.107633723997532}, {\"time\": \"2009-02-16T01:00:00\", \"variable\": \"TA\", \"value\": -3.29, \"is_present\": true, \"mean\": -3.5908938366285934, \"std\": 9.340444621306608, \"err_low\": -22.271783079241807, \"err_high\": 15.089995405984622}, {\"time\": \"2009-02-16T01:30:00\", \"variable\": \"TA\", \"value\": -3.23, \"is_present\": true, \"mean\": -3.617754958994844, \"std\": 9.340444621306606, \"err_low\": -22.298644201608056, \"err_high\": 15.063134283618368}, {\"time\": \"2009-02-16T02:00:00\", \"variable\": \"TA\", \"value\": -3.2, \"is_present\": true, \"mean\": -3.666538862152633, \"std\": 9.340444621306606, \"err_low\": -22.347428104765847, \"err_high\": 15.014350380460579}, {\"time\": \"2009-02-16T02:30:00\", \"variable\": \"TA\", \"value\": -3.18, \"is_present\": true, \"mean\": -3.7278332942623784, \"std\": 9.3404446213066, \"err_low\": -22.40872253687558, \"err_high\": 14.953055948350823}, {\"time\": \"2009-02-16T03:00:00\", \"variable\": \"TA\", \"value\": -3.11, \"is_present\": true, \"mean\": -3.7963807880044946, \"std\": 9.340444621306604, \"err_low\": -22.477270030617703, \"err_high\": 14.884508454608714}, {\"time\": \"2009-02-16T03:30:00\", \"variable\": \"TA\", \"value\": -3.04, \"is_present\": true, \"mean\": -3.84739796025322, \"std\": 9.340444621306606, \"err_low\": -22.52828720286643, \"err_high\": 14.833491282359992}, {\"time\": \"2009-02-16T04:00:00\", \"variable\": \"TA\", \"value\": -3.0, \"is_present\": true, \"mean\": -3.8915845784884198, \"std\": 9.34044462130661, \"err_low\": -22.57247382110164, \"err_high\": 14.7893046641248}, {\"time\": \"2009-02-16T04:30:00\", \"variable\": \"TA\", \"value\": -2.94, \"is_present\": true, \"mean\": -3.946685959609386, \"std\": 9.340444621306599, \"err_low\": -22.627575202222584, \"err_high\": 14.734203283003811}, {\"time\": \"2009-02-16T05:00:00\", \"variable\": \"TA\", \"value\": -2.89, \"is_present\": true, \"mean\": -3.920470744951441, \"std\": 9.340444621306602, \"err_low\": -22.601359987564646, \"err_high\": 14.760418497661764}, {\"time\": \"2009-02-16T05:30:00\", \"variable\": \"TA\", \"value\": -2.83, \"is_present\": true, \"mean\": -3.856764982772683, \"std\": 9.3404446213066, \"err_low\": -22.537654225385886, \"err_high\": 14.824124259840518}, {\"time\": \"2009-02-16T06:00:00\", \"variable\": \"TA\", \"value\": -2.78, \"is_present\": true, \"mean\": -3.8008507296042726, \"std\": 9.34044462130659, \"err_low\": -22.481739972217454, \"err_high\": 14.880038513008907}, {\"time\": \"2009-02-16T06:30:00\", \"variable\": \"TA\", \"value\": -2.71, \"is_present\": true, \"mean\": -3.7552250341948863, \"std\": 9.340444621306606, \"err_low\": -22.436114276808098, \"err_high\": 14.925664208418326}, {\"time\": \"2009-02-16T07:00:00\", \"variable\": \"TA\", \"value\": -2.61, \"is_present\": true, \"mean\": -3.7088991221086527, \"std\": 9.340444621306602, \"err_low\": -22.38978836472186, \"err_high\": 14.971990120504552}, {\"time\": \"2009-02-16T07:30:00\", \"variable\": \"TA\", \"value\": -2.55, \"is_present\": true, \"mean\": -3.6589823290122148, \"std\": 9.340444621306602, \"err_low\": -22.33987157162542, \"err_high\": 15.02190691360099}, {\"time\": \"2009-02-16T08:00:00\", \"variable\": \"TA\", \"value\": -2.45, \"is_present\": true, \"mean\": -3.5612498903031344, \"std\": 9.3404446213066, \"err_low\": -22.242139132916336, \"err_high\": 15.119639352310067}, {\"time\": \"2009-02-16T08:30:00\", \"variable\": \"TA\", \"value\": -2.38, \"is_present\": true, \"mean\": -3.3554206370836575, \"std\": 9.340444621306599, \"err_low\": -22.036309879696855, \"err_high\": 15.32546860552954}, {\"time\": \"2009-02-16T09:00:00\", \"variable\": \"TA\", \"value\": -2.24, \"is_present\": true, \"mean\": -3.0039513578537314, \"std\": 9.340444621306593, \"err_low\": -21.68484060046692, \"err_high\": 15.676937884759456}, {\"time\": \"2009-02-16T09:30:00\", \"variable\": \"TA\", \"value\": -2.11, \"is_present\": true, \"mean\": -2.5567330722455033, \"std\": 9.3404446213066, \"err_low\": -21.237622314858704, \"err_high\": 16.124156170367698}, {\"time\": \"2009-02-16T10:00:00\", \"variable\": \"TA\", \"value\": -1.94, \"is_present\": true, \"mean\": -2.189262360299253, \"std\": 9.340444621306595, \"err_low\": -20.870151602912443, \"err_high\": 16.491626882313938}, {\"time\": \"2009-02-16T10:30:00\", \"variable\": \"TA\", \"value\": -1.73, \"is_present\": true, \"mean\": -1.7227628278343659, \"std\": 9.340444621306606, \"err_low\": -20.403652070447578, \"err_high\": 16.958126414778846}, {\"time\": \"2009-02-16T11:00:00\", \"variable\": \"TA\", \"value\": -1.45, \"is_present\": true, \"mean\": -0.7776571976696438, \"std\": 9.340444621306602, \"err_low\": -19.45854644028285, \"err_high\": 17.90323204494356}, {\"time\": \"2009-02-16T11:30:00\", \"variable\": \"TA\", \"value\": -1.13, \"is_present\": true, \"mean\": 0.4428567073578966, \"std\": 9.3404446213066, \"err_low\": -18.238032535255304, \"err_high\": 19.1237459499711}, {\"time\": \"2009-02-16T12:00:00\", \"variable\": \"TA\", \"value\": -0.93, \"is_present\": true, \"mean\": 0.8542134078046777, \"std\": 9.340444621306595, \"err_low\": -17.826675834808512, \"err_high\": 19.53510265041787}, {\"time\": \"2009-02-16T12:30:00\", \"variable\": \"TA\", \"value\": -0.92, \"is_present\": true, \"mean\": 0.9942771963202333, \"std\": 9.340444621306599, \"err_low\": -17.686612046292964, \"err_high\": 19.67516643893343}, {\"time\": \"2009-02-16T13:00:00\", \"variable\": \"TA\", \"value\": -0.65, \"is_present\": true, \"mean\": 0.7079760799430872, \"std\": 9.340444621306602, \"err_low\": -17.972913162670118, \"err_high\": 19.388865322556292}, {\"time\": \"2009-02-16T13:30:00\", \"variable\": \"TA\", \"value\": -0.46, \"is_present\": true, \"mean\": 0.9475014517409193, \"std\": 9.340444621306606, \"err_low\": -17.733387790872293, \"err_high\": 19.62839069435413}, {\"time\": \"2009-02-16T14:00:00\", \"variable\": \"TA\", \"value\": -0.37, \"is_present\": true, \"mean\": 1.540230001004133, \"std\": 9.3404446213066, \"err_low\": -17.140659241609068, \"err_high\": 20.221119243617334}, {\"time\": \"2009-02-16T14:30:00\", \"variable\": \"TA\", \"value\": -0.32, \"is_present\": true, \"mean\": 1.508091945769615, \"std\": 9.340444621306597, \"err_low\": -17.17279729684358, \"err_high\": 20.188981188382808}, {\"time\": \"2009-02-16T15:00:00\", \"variable\": \"TA\", \"value\": -0.27, \"is_present\": true, \"mean\": 1.1151372566421038, \"std\": 9.340444621306597, \"err_low\": -17.56575198597109, \"err_high\": 19.796026499255298}, {\"time\": \"2009-02-16T15:30:00\", \"variable\": \"TA\", \"value\": -0.2, \"is_present\": true, \"mean\": 0.5673180090244943, \"std\": 9.3404446213066, \"err_low\": -18.113571233588708, \"err_high\": 19.248207251637695}, {\"time\": \"2009-02-16T16:00:00\", \"variable\": \"TA\", \"value\": -0.23, \"is_present\": true, \"mean\": 0.30836386822368667, \"std\": 9.3404446213066, \"err_low\": -18.372525374389514, \"err_high\": 18.989253110836888}, {\"time\": \"2009-02-16T16:30:00\", \"variable\": \"TA\", \"value\": -0.12, \"is_present\": true, \"mean\": 0.1643259676316351, \"std\": 9.340444621306597, \"err_low\": -18.516563274981557, \"err_high\": 18.84521521024483}, {\"time\": \"2009-02-16T17:00:00\", \"variable\": \"TA\", \"value\": -0.05, \"is_present\": true, \"mean\": -0.8466776440409642, \"std\": 9.340444621306593, \"err_low\": -19.52756688665415, \"err_high\": 17.834211598572224}, {\"time\": \"2009-02-16T17:30:00\", \"variable\": \"TA\", \"value\": -0.06, \"is_present\": true, \"mean\": -1.2741647957786864, \"std\": 9.340444621306597, \"err_low\": -19.95505403839188, \"err_high\": 17.40672444683451}, {\"time\": \"2009-02-16T18:00:00\", \"variable\": \"TA\", \"value\": -0.09, \"is_present\": true, \"mean\": -1.615186504155032, \"std\": 9.340444621306595, \"err_low\": -20.296075746768224, \"err_high\": 17.065702738458157}, {\"time\": \"2009-02-16T18:30:00\", \"variable\": \"TA\", \"value\": -0.06, \"is_present\": true, \"mean\": -1.8442350588868397, \"std\": 9.340444621306604, \"err_low\": -20.52512430150005, \"err_high\": 16.836654183726367}, {\"time\": \"2009-02-16T19:00:00\", \"variable\": \"TA\", \"value\": -0.01, \"is_present\": true, \"mean\": -1.9894512438487055, \"std\": 9.3404446213066, \"err_low\": -20.670340486461907, \"err_high\": 16.691437998764496}, {\"time\": \"2009-02-16T19:30:00\", \"variable\": \"TA\", \"value\": 0.03, \"is_present\": true, \"mean\": -2.1374170229072895, \"std\": 9.340444621306613, \"err_low\": -20.818306265520516, \"err_high\": 16.543472219705937}, {\"time\": \"2009-02-16T20:00:00\", \"variable\": \"TA\", \"value\": 0.03, \"is_present\": true, \"mean\": -2.1977710913317914, \"std\": 9.3404446213066, \"err_low\": -20.878660333944993, \"err_high\": 16.48311815128141}, {\"time\": \"2009-02-16T20:30:00\", \"variable\": \"TA\", \"value\": 0.03, \"is_present\": true, \"mean\": -2.2107886127070966, \"std\": 9.340444621306602, \"err_low\": -20.891677855320303, \"err_high\": 16.470100629906106}, {\"time\": \"2009-02-16T21:00:00\", \"variable\": \"TA\", \"value\": 0.03, \"is_present\": true, \"mean\": -2.23390238043509, \"std\": 9.3404446213066, \"err_low\": -20.91479162304829, \"err_high\": 16.44698686217811}, {\"time\": \"2009-02-16T21:30:00\", \"variable\": \"TA\", \"value\": -0.04, \"is_present\": true, \"mean\": -2.2645479329745655, \"std\": 9.340444621306599, \"err_low\": -20.945437175587763, \"err_high\": 16.416341309638632}, {\"time\": \"2009-02-16T22:00:00\", \"variable\": \"TA\", \"value\": -0.08, \"is_present\": true, \"mean\": -2.315744711354437, \"std\": 9.340444621306611, \"err_low\": -20.99663395396766, \"err_high\": 16.365144531258785}, {\"time\": \"2009-02-16T22:30:00\", \"variable\": \"TA\", \"value\": -0.09, \"is_present\": true, \"mean\": -2.3611782469673965, \"std\": 9.340444621306606, \"err_low\": -21.04206748958061, \"err_high\": 16.319710995645814}, {\"time\": \"2009-02-16T23:00:00\", \"variable\": \"TA\", \"value\": -0.09, \"is_present\": true, \"mean\": -2.3975915005235997, \"std\": 9.340444621306606, \"err_low\": -21.07848074313681, \"err_high\": 16.283297742089612}, {\"time\": \"2009-02-16T23:30:00\", \"variable\": \"TA\", \"value\": -0.02, \"is_present\": true, \"mean\": -2.4284288722867604, \"std\": 9.340444621306599, \"err_low\": -21.109318114899956, \"err_high\": 16.25246037032644}, {\"time\": \"2009-02-17T00:00:00\", \"variable\": \"TA\", \"value\": 0.01, \"is_present\": true, \"mean\": -2.4439879874748645, \"std\": 9.340444621306602, \"err_low\": -21.124877230088067, \"err_high\": 16.236901255138342}, {\"time\": \"2009-02-17T00:30:00\", \"variable\": \"TA\", \"value\": 0.05, \"is_present\": true, \"mean\": -2.4696907838197593, \"std\": 9.340444621306608, \"err_low\": -21.150580026432976, \"err_high\": 16.211198458793454}, {\"time\": \"2009-02-17T01:00:00\", \"variable\": \"TA\", \"value\": 0.07, \"is_present\": true, \"mean\": -2.49210284529933, \"std\": 9.340444621306597, \"err_low\": -21.172992087912526, \"err_high\": 16.188786397313862}, {\"time\": \"2009-02-17T01:30:00\", \"variable\": \"TA\", \"value\": 0.11, \"is_present\": true, \"mean\": -2.51943444720575, \"std\": 9.340444621306595, \"err_low\": -21.20032368981894, \"err_high\": 16.16145479540744}, {\"time\": \"2009-02-17T02:00:00\", \"variable\": \"TA\", \"value\": 0.14, \"is_present\": true, \"mean\": -2.6084629245301354, \"std\": 9.340444621306604, \"err_low\": -21.289352167143342, \"err_high\": 16.072426318083075}, {\"time\": \"2009-02-17T02:30:00\", \"variable\": \"TA\", \"value\": 0.27, \"is_present\": true, \"mean\": -2.7248190131425716, \"std\": 9.340444621306597, \"err_low\": -21.405708255755766, \"err_high\": 15.956070229470622}, {\"time\": \"2009-02-17T03:00:00\", \"variable\": \"TA\", \"value\": 0.46, \"is_present\": true, \"mean\": -2.8063516501748342, \"std\": 9.3404446213066, \"err_low\": -21.487240892788037, \"err_high\": 15.874537592438367}, {\"time\": \"2009-02-17T03:30:00\", \"variable\": \"TA\", \"value\": 0.74, \"is_present\": true, \"mean\": -2.8661126470780367, \"std\": 9.3404446213066, \"err_low\": -21.547001889691238, \"err_high\": 15.814776595535164}, {\"time\": \"2009-02-17T04:00:00\", \"variable\": \"TA\", \"value\": 0.95, \"is_present\": true, \"mean\": -2.9046248131751913, \"std\": 9.340444621306604, \"err_low\": -21.5855140557884, \"err_high\": 15.776264429438017}, {\"time\": \"2009-02-17T04:30:00\", \"variable\": \"TA\", \"value\": 1.06, \"is_present\": true, \"mean\": -2.959314820265618, \"std\": 9.340444621306597, \"err_low\": -21.640204062878812, \"err_high\": 15.721574422347576}, {\"time\": \"2009-02-17T05:00:00\", \"variable\": \"TA\", \"value\": 1.08, \"is_present\": true, \"mean\": -3.045550245291796, \"std\": 9.340444621306606, \"err_low\": -21.726439487905008, \"err_high\": 15.635338997321416}, {\"time\": \"2009-02-17T05:30:00\", \"variable\": \"TA\", \"value\": 1.15, \"is_present\": true, \"mean\": -3.1478743320229796, \"std\": 9.340444621306602, \"err_low\": -21.828763574636184, \"err_high\": 15.533014910590225}, {\"time\": \"2009-02-17T06:00:00\", \"variable\": \"TA\", \"value\": 1.18, \"is_present\": true, \"mean\": -3.232775758994867, \"std\": 9.340444621306602, \"err_low\": -21.913665001608074, \"err_high\": 15.448113483618338}, {\"time\": \"2009-02-17T06:30:00\", \"variable\": \"TA\", \"value\": 1.05, \"is_present\": true, \"mean\": -3.322948813201167, \"std\": 9.340444621306608, \"err_low\": -22.003838055814384, \"err_high\": 15.357940429412048}, {\"time\": \"2009-02-17T07:00:00\", \"variable\": \"TA\", \"value\": 0.22, \"is_present\": true, \"mean\": -3.4469292905601883, \"std\": 9.340444621306595, \"err_low\": -22.12781853317338, \"err_high\": 15.233959952053002}, {\"time\": \"2009-02-17T07:30:00\", \"variable\": \"TA\", \"value\": -0.26, \"is_present\": true, \"mean\": -3.7230589922883777, \"std\": 9.340444621306602, \"err_low\": -22.403948234901584, \"err_high\": 14.957830250324827}, {\"time\": \"2009-02-17T08:00:00\", \"variable\": \"TA\", \"value\": -0.76, \"is_present\": true, \"mean\": -3.8931717009730953, \"std\": 9.340444621306595, \"err_low\": -22.574060943586286, \"err_high\": 14.787717541640095}, {\"time\": \"2009-02-17T08:30:00\", \"variable\": \"TA\", \"value\": -1.68, \"is_present\": true, \"mean\": -3.962278485955032, \"std\": 9.340444621306602, \"err_low\": -22.643167728568237, \"err_high\": 14.718610756658173}, {\"time\": \"2009-02-17T09:00:00\", \"variable\": \"TA\", \"value\": -2.0, \"is_present\": true, \"mean\": -3.9575925150447517, \"std\": 9.340444621306604, \"err_low\": -22.63848175765796, \"err_high\": 14.723296727568457}, {\"time\": \"2009-02-17T09:30:00\", \"variable\": \"TA\", \"value\": -2.59, \"is_present\": true, \"mean\": -3.820630133074312, \"std\": 9.3404446213066, \"err_low\": -22.501519375687515, \"err_high\": 14.86025910953889}, {\"time\": \"2009-02-17T10:00:00\", \"variable\": \"TA\", \"value\": -2.89, \"is_present\": true, \"mean\": -3.7067484021792776, \"std\": 9.340444621306617, \"err_low\": -22.387637644792513, \"err_high\": 14.974140840433956}, {\"time\": \"2009-02-17T10:30:00\", \"variable\": \"TA\", \"value\": -3.35, \"is_present\": true, \"mean\": -4.057495670199787, \"std\": 9.340444621306606, \"err_low\": -22.738384912812997, \"err_high\": 14.623393572413425}, {\"time\": \"2009-02-17T11:00:00\", \"variable\": \"TA\", \"value\": -3.72, \"is_present\": true, \"mean\": -0.8764159022900504, \"std\": 9.340444621306599, \"err_low\": -19.557305144903246, \"err_high\": 17.80447334032315}, {\"time\": \"2009-02-17T11:30:00\", \"variable\": \"TA\", \"value\": -4.0, \"is_present\": true, \"mean\": 0.06226113952781098, \"std\": 9.3404446213066, \"err_low\": -18.618628103085392, \"err_high\": 18.74315038214101}, {\"time\": \"2009-02-17T12:00:00\", \"variable\": \"TA\", \"value\": -4.1, \"is_present\": true, \"mean\": 1.0553824503297307, \"std\": 9.340444621306606, \"err_low\": -17.62550679228348, \"err_high\": 19.736271692942942}, {\"time\": \"2009-02-17T12:30:00\", \"variable\": \"TA\", \"value\": -4.09, \"is_present\": true, \"mean\": 1.9260948035879686, \"std\": 9.340444621306602, \"err_low\": -16.754794439025236, \"err_high\": 20.606984046201173}, {\"time\": \"2009-02-17T13:00:00\", \"variable\": \"TA\", \"value\": -4.25, \"is_present\": true, \"mean\": 3.1720926353676466, \"std\": 9.340444621306599, \"err_low\": -15.50879660724555, \"err_high\": 21.852981877980845}, {\"time\": \"2009-02-17T13:30:00\", \"variable\": \"TA\", \"value\": -4.13, \"is_present\": true, \"mean\": 3.890844085050416, \"std\": 9.340444621306611, \"err_low\": -14.790045157562806, \"err_high\": 22.571733327663637}, {\"time\": \"2009-02-17T14:00:00\", \"variable\": \"TA\", \"value\": -4.16, \"is_present\": true, \"mean\": 4.73018355358794, \"std\": 9.340444621306617, \"err_low\": -13.950705689025293, \"err_high\": 23.411072796201175}, {\"time\": \"2009-02-17T14:30:00\", \"variable\": \"TA\", \"value\": -3.99, \"is_present\": true, \"mean\": 4.852377406509063, \"std\": 9.340444621306595, \"err_low\": -13.828511836104127, \"err_high\": 23.533266649122254}, {\"time\": \"2009-02-17T15:00:00\", \"variable\": \"TA\", \"value\": -3.91, \"is_present\": true, \"mean\": 4.981290055422213, \"std\": 9.340444621306604, \"err_low\": -13.699599187190994, \"err_high\": 23.662179298035422}, {\"time\": \"2009-02-17T15:30:00\", \"variable\": \"TA\", \"value\": -3.77, \"is_present\": true, \"mean\": 4.324269642719903, \"std\": 9.34044462130659, \"err_low\": -14.356619599893277, \"err_high\": 23.00515888533308}, {\"time\": \"2009-02-17T16:00:00\", \"variable\": \"TA\", \"value\": -3.83, \"is_present\": true, \"mean\": 3.240264312020013, \"std\": 9.340444621306599, \"err_low\": -15.440624930593184, \"err_high\": 21.92115355463321}, {\"time\": \"2009-02-17T16:30:00\", \"variable\": \"TA\", \"value\": -3.93, \"is_present\": true, \"mean\": 2.4812495726119366, \"std\": 9.34044462130659, \"err_low\": -16.199639670001243, \"err_high\": 21.162138815225116}, {\"time\": \"2009-02-17T17:00:00\", \"variable\": \"TA\", \"value\": -4.07, \"is_present\": true, \"mean\": 0.032662153240464065, \"std\": 9.340444621306599, \"err_low\": -18.64822708937273, \"err_high\": 18.713551395853663}, {\"time\": \"2009-02-17T17:30:00\", \"variable\": \"TA\", \"value\": -4.27, \"is_present\": false, \"mean\": -1.4164023350193755, \"std\": 9.340444621306602, \"err_low\": -20.097291577632582, \"err_high\": 17.264486907593827}, {\"time\": \"2009-02-17T18:00:00\", \"variable\": \"TA\", \"value\": -4.66, \"is_present\": false, \"mean\": -1.5076527665052488, \"std\": 9.423661674270013, \"err_low\": -20.354976115045275, \"err_high\": 17.339670582034778}, {\"time\": \"2009-02-17T18:30:00\", \"variable\": \"TA\", \"value\": -4.9, \"is_present\": false, \"mean\": -2.907435268931108, \"std\": 9.423817536884089, \"err_low\": -21.755070342699284, \"err_high\": 15.94019980483707}, {\"time\": \"2009-02-17T19:00:00\", \"variable\": \"TA\", \"value\": -5.11, \"is_present\": false, \"mean\": -3.6757746483826814, \"std\": 9.423947647966026, \"err_low\": -22.523669944314733, \"err_high\": 15.17212064754937}, {\"time\": \"2009-02-17T19:30:00\", \"variable\": \"TA\", \"value\": -5.3, \"is_present\": false, \"mean\": -4.49248829485383, \"std\": 9.4240252636301, \"err_low\": -23.340538822114027, \"err_high\": 14.355562232406369}, {\"time\": \"2009-02-17T20:00:00\", \"variable\": \"TA\", \"value\": -5.48, \"is_present\": false, \"mean\": -5.066548934653145, \"std\": 9.424036556848424, \"err_low\": -23.914622048349994, \"err_high\": 13.781524179043704}, {\"time\": \"2009-02-17T20:30:00\", \"variable\": \"TA\", \"value\": -5.62, \"is_present\": false, \"mean\": -5.388911167689244, \"std\": 9.424039329785602, \"err_low\": -24.236989827260448, \"err_high\": 13.45916749188196}, {\"time\": \"2009-02-17T21:00:00\", \"variable\": \"TA\", \"value\": -5.64, \"is_present\": false, \"mean\": -5.743957128417284, \"std\": 9.424039775389344, \"err_low\": -24.59203667919597, \"err_high\": 13.104122422361405}, {\"time\": \"2009-02-17T21:30:00\", \"variable\": \"TA\", \"value\": -5.69, \"is_present\": false, \"mean\": -6.108020526573254, \"std\": 9.424039868298127, \"err_low\": -24.95610026316951, \"err_high\": 12.740059210023}, {\"time\": \"2009-02-17T22:00:00\", \"variable\": \"TA\", \"value\": -5.8, \"is_present\": false, \"mean\": -6.490277790997826, \"std\": 9.424039884448808, \"err_low\": -25.338357559895442, \"err_high\": 12.35780197789979}, {\"time\": \"2009-02-17T22:30:00\", \"variable\": \"TA\", \"value\": -5.88, \"is_present\": true, \"mean\": -6.885990889353696, \"std\": 9.424039887615871, \"err_low\": -25.73407066458544, \"err_high\": 11.962088885878046}, {\"time\": \"2009-02-17T23:00:00\", \"variable\": \"TA\", \"value\": -5.96, \"is_present\": true, \"mean\": -8.428961610358852, \"std\": 9.341146943076545, \"err_low\": -27.111255496511944, \"err_high\": 10.253332275794238}, {\"time\": \"2009-02-17T23:30:00\", \"variable\": \"TA\", \"value\": -6.02, \"is_present\": true, \"mean\": -8.423307157082489, \"std\": 9.340862875524538, \"err_low\": -27.105032908131562, \"err_high\": 10.258418593966587}, {\"time\": \"2009-02-18T00:00:00\", \"variable\": \"TA\", \"value\": -6.07, \"is_present\": true, \"mean\": -8.431118021363455, \"std\": 9.340550719610167, \"err_low\": -27.112219460583788, \"err_high\": 10.24998341785688}, {\"time\": \"2009-02-18T00:30:00\", \"variable\": \"TA\", \"value\": -6.07, \"is_present\": true, \"mean\": -8.532596948479702, \"std\": 9.340461106365401, \"err_low\": -27.213519161210506, \"err_high\": 10.1483252642511}, {\"time\": \"2009-02-18T01:00:00\", \"variable\": \"TA\", \"value\": -6.05, \"is_present\": true, \"mean\": -8.6512596095489, \"std\": 9.340447400296302, \"err_low\": -27.332154410141506, \"err_high\": 10.029635191043704}, {\"time\": \"2009-02-18T01:30:00\", \"variable\": \"TA\", \"value\": -6.11, \"is_present\": true, \"mean\": -8.760986600755418, \"std\": 9.34044503642484, \"err_low\": -27.4418766736051, \"err_high\": 9.919903472094264}, {\"time\": \"2009-02-18T02:00:00\", \"variable\": \"TA\", \"value\": -6.34, \"is_present\": true, \"mean\": -8.751899128454033, \"std\": 9.340444687273957, \"err_low\": -27.432788503001944, \"err_high\": 9.92899024609388}, {\"time\": \"2009-02-18T02:30:00\", \"variable\": \"TA\", \"value\": -6.37, \"is_present\": true, \"mean\": -8.72430738028425, \"std\": 9.340444631296066, \"err_low\": -27.405196642876383, \"err_high\": 9.956581882307882}, {\"time\": \"2009-02-18T03:00:00\", \"variable\": \"TA\", \"value\": -6.46, \"is_present\": true, \"mean\": -8.6043468690426, \"std\": 9.340444622866887, \"err_low\": -27.285236114776374, \"err_high\": 10.076542376691174}, {\"time\": \"2009-02-18T03:30:00\", \"variable\": \"TA\", \"value\": -6.41, \"is_present\": true, \"mean\": -8.540516558660604, \"std\": 9.340444621545075, \"err_low\": -27.221405801750755, \"err_high\": 10.140372684429545}, {\"time\": \"2009-02-18T04:00:00\", \"variable\": \"TA\", \"value\": -6.56, \"is_present\": true, \"mean\": -8.437098396136212, \"std\": 9.340444621343584, \"err_low\": -27.11798763882338, \"err_high\": 10.243790846550956}, {\"time\": \"2009-02-18T04:30:00\", \"variable\": \"TA\", \"value\": -6.55, \"is_present\": true, \"mean\": -8.453310545608195, \"std\": 9.340444621312294, \"err_low\": -27.134199788232785, \"err_high\": 10.227578697016392}, {\"time\": \"2009-02-18T05:00:00\", \"variable\": \"TA\", \"value\": -6.47, \"is_present\": true, \"mean\": -8.50611979762954, \"std\": 9.340444621307478, \"err_low\": -27.187009040244497, \"err_high\": 10.174769444985417}, {\"time\": \"2009-02-18T05:30:00\", \"variable\": \"TA\", \"value\": -6.49, \"is_present\": true, \"mean\": -8.545735963943082, \"std\": 9.340444621306737, \"err_low\": -27.226625206556555, \"err_high\": 10.135153278670392}, {\"time\": \"2009-02-18T06:00:00\", \"variable\": \"TA\", \"value\": -6.61, \"is_present\": true, \"mean\": -8.602466217494667, \"std\": 9.340444621306622, \"err_low\": -27.283355460107913, \"err_high\": 10.078423025118576}, {\"time\": \"2009-02-18T06:30:00\", \"variable\": \"TA\", \"value\": -6.51, \"is_present\": true, \"mean\": -8.742901975658688, \"std\": 9.340444621306606, \"err_low\": -27.4237912182719, \"err_high\": 9.937987266954524}, {\"time\": \"2009-02-18T07:00:00\", \"variable\": \"TA\", \"value\": -6.56, \"is_present\": true, \"mean\": -8.780397312925016, \"std\": 9.34044462130661, \"err_low\": -27.461286555538237, \"err_high\": 9.900491929688203}, {\"time\": \"2009-02-18T07:30:00\", \"variable\": \"TA\", \"value\": -6.64, \"is_present\": true, \"mean\": -8.771474557037843, \"std\": 9.340444621306608, \"err_low\": -27.45236379965106, \"err_high\": 9.909414685575372}, {\"time\": \"2009-02-18T08:00:00\", \"variable\": \"TA\", \"value\": -6.54, \"is_present\": true, \"mean\": -8.394337618733966, \"std\": 9.340444621306606, \"err_low\": -27.075226861347176, \"err_high\": 10.286551623879246}, {\"time\": \"2009-02-18T08:30:00\", \"variable\": \"TA\", \"value\": -6.19, \"is_present\": true, \"mean\": -7.32314541019959, \"std\": 9.340444621306593, \"err_low\": -26.004034652812777, \"err_high\": 11.357743832413597}, {\"time\": \"2009-02-18T09:00:00\", \"variable\": \"TA\", \"value\": -4.97, \"is_present\": true, \"mean\": -5.550058421645323, \"std\": 9.340444621306608, \"err_low\": -24.230947664258537, \"err_high\": 13.130830820967892}, {\"time\": \"2009-02-18T09:30:00\", \"variable\": \"TA\", \"value\": -4.18, \"is_present\": true, \"mean\": -3.1005018825588966, \"std\": 9.340444621306597, \"err_low\": -21.781391125172092, \"err_high\": 15.580387360054297}, {\"time\": \"2009-02-18T10:00:00\", \"variable\": \"TA\", \"value\": -3.86, \"is_present\": true, \"mean\": -1.0849177838514326, \"std\": 9.340444621306597, \"err_low\": -19.76580702646463, \"err_high\": 17.59597145876176}, {\"time\": \"2009-02-18T10:30:00\", \"variable\": \"TA\", \"value\": -3.33, \"is_present\": true, \"mean\": 0.36696505752692676, \"std\": 9.340444621306606, \"err_low\": -18.313924185086286, \"err_high\": 19.047854300140138}, {\"time\": \"2009-02-18T11:00:00\", \"variable\": \"TA\", \"value\": -3.26, \"is_present\": true, \"mean\": 3.16692390777345, \"std\": 9.3404446213066, \"err_low\": -15.513965334839751, \"err_high\": 21.84781315038665}, {\"time\": \"2009-02-18T11:30:00\", \"variable\": \"TA\", \"value\": -3.47, \"is_present\": true, \"mean\": 4.8067335386474195, \"std\": 9.340444621306597, \"err_low\": -13.874155703965775, \"err_high\": 23.48762278126061}, {\"time\": \"2009-02-18T12:00:00\", \"variable\": \"TA\", \"value\": -3.17, \"is_present\": true, \"mean\": 6.221878189231585, \"std\": 9.340444621306604, \"err_low\": -12.459011053381623, \"err_high\": 24.902767431844794}, {\"time\": \"2009-02-18T12:30:00\", \"variable\": \"TA\", \"value\": -2.49, \"is_present\": true, \"mean\": 7.487746001213947, \"std\": 9.340444621306599, \"err_low\": -11.193143241399252, \"err_high\": 26.168635243827143}, {\"time\": \"2009-02-18T13:00:00\", \"variable\": \"TA\", \"value\": -2.88, \"is_present\": true, \"mean\": 8.217181533010297, \"std\": 9.3404446213066, \"err_low\": -10.463707709602904, \"err_high\": 26.8980707756235}, {\"time\": \"2009-02-18T13:30:00\", \"variable\": \"TA\", \"value\": -2.33, \"is_present\": true, \"mean\": 8.947747727459817, \"std\": 9.340444621306595, \"err_low\": -9.733141515153374, \"err_high\": 27.628636970073007}, {\"time\": \"2009-02-18T14:00:00\", \"variable\": \"TA\", \"value\": -2.72, \"is_present\": true, \"mean\": 10.074248433390908, \"std\": 9.340444621306595, \"err_low\": -8.606640809222283, \"err_high\": 28.755137676004097}, {\"time\": \"2009-02-18T14:30:00\", \"variable\": \"TA\", \"value\": -2.59, \"is_present\": true, \"mean\": 9.213470848451312, \"std\": 9.3404446213066, \"err_low\": -9.46741839416189, \"err_high\": 27.894360091064513}, {\"time\": \"2009-02-18T15:00:00\", \"variable\": \"TA\", \"value\": -2.24, \"is_present\": true, \"mean\": 8.510957191617932, \"std\": 9.3404446213066, \"err_low\": -10.16993205099527, \"err_high\": 27.19184643423113}, {\"time\": \"2009-02-18T15:30:00\", \"variable\": \"TA\", \"value\": -2.58, \"is_present\": true, \"mean\": 7.8206847008338185, \"std\": 9.340444621306602, \"err_low\": -10.860204541779385, \"err_high\": 26.501573943447024}, {\"time\": \"2009-02-18T16:00:00\", \"variable\": \"TA\", \"value\": -3.23, \"is_present\": true, \"mean\": 6.3967235773543045, \"std\": 9.340444621306604, \"err_low\": -12.284165665258904, \"err_high\": 25.077612819967513}, {\"time\": \"2009-02-18T16:30:00\", \"variable\": \"TA\", \"value\": -3.26, \"is_present\": true, \"mean\": 5.253299836960396, \"std\": 9.340444621306606, \"err_low\": -13.427589405652816, \"err_high\": 23.934189079573606}, {\"time\": \"2009-02-18T17:00:00\", \"variable\": \"TA\", \"value\": -3.77, \"is_present\": true, \"mean\": 2.2679676257157375, \"std\": 9.34044462130662, \"err_low\": -16.412921616897503, \"err_high\": 20.948856868328978}, {\"time\": \"2009-02-18T17:30:00\", \"variable\": \"TA\", \"value\": -4.07, \"is_present\": true, \"mean\": 0.03561056819340358, \"std\": 9.340444621306597, \"err_low\": -18.645278674419792, \"err_high\": 18.716499810806596}, {\"time\": \"2009-02-18T18:00:00\", \"variable\": \"TA\", \"value\": -4.61, \"is_present\": true, \"mean\": -2.0009385965324853, \"std\": 9.3404446213066, \"err_low\": -20.681827839145686, \"err_high\": 16.679950646080716}, {\"time\": \"2009-02-18T18:30:00\", \"variable\": \"TA\", \"value\": -4.82, \"is_present\": true, \"mean\": -3.7425047865957843, \"std\": 9.3404446213066, \"err_low\": -22.423394029208986, \"err_high\": 14.938384456017417}, {\"time\": \"2009-02-18T19:00:00\", \"variable\": \"TA\", \"value\": -4.87, \"is_present\": true, \"mean\": -4.825291946208662, \"std\": 9.340444621306595, \"err_low\": -23.506181188821852, \"err_high\": 13.855597296404529}, {\"time\": \"2009-02-18T19:30:00\", \"variable\": \"TA\", \"value\": -4.91, \"is_present\": true, \"mean\": -5.807108655787355, \"std\": 9.34044462130661, \"err_low\": -24.48799789840057, \"err_high\": 12.873780586825864}, {\"time\": \"2009-02-18T20:00:00\", \"variable\": \"TA\", \"value\": -5.08, \"is_present\": true, \"mean\": -6.11885896966362, \"std\": 9.340444621306597, \"err_low\": -24.799748212276814, \"err_high\": 12.562030272949574}, {\"time\": \"2009-02-18T20:30:00\", \"variable\": \"TA\", \"value\": -5.21, \"is_present\": true, \"mean\": -6.046866069623581, \"std\": 9.340444621306604, \"err_low\": -24.727755312236788, \"err_high\": 12.634023172989627}, {\"time\": \"2009-02-18T21:00:00\", \"variable\": \"TA\", \"value\": -5.4, \"is_present\": true, \"mean\": -5.985370335990597, \"std\": 9.340444621306592, \"err_low\": -24.66625957860378, \"err_high\": 12.695518906622587}, {\"time\": \"2009-02-18T21:30:00\", \"variable\": \"TA\", \"value\": -5.34, \"is_present\": true, \"mean\": -6.013235549392103, \"std\": 9.340444621306597, \"err_low\": -24.694124792005297, \"err_high\": 12.66765369322109}, {\"time\": \"2009-02-18T22:00:00\", \"variable\": \"TA\", \"value\": -5.41, \"is_present\": true, \"mean\": -6.017463549202779, \"std\": 9.340444621306602, \"err_low\": -24.698352791815985, \"err_high\": 12.663425693410426}, {\"time\": \"2009-02-18T22:30:00\", \"variable\": \"TA\", \"value\": -5.51, \"is_present\": true, \"mean\": -6.107459466080325, \"std\": 9.3404446213066, \"err_low\": -24.788348708693526, \"err_high\": 12.573429776532876}, {\"time\": \"2009-02-18T23:00:00\", \"variable\": \"TA\", \"value\": -5.75, \"is_present\": true, \"mean\": -6.281427503122721, \"std\": 9.340444621306597, \"err_low\": -24.962316745735915, \"err_high\": 12.399461739490473}, {\"time\": \"2009-02-18T23:30:00\", \"variable\": \"TA\", \"value\": -5.68, \"is_present\": true, \"mean\": -6.581189123976062, \"std\": 9.340444621306606, \"err_low\": -25.26207836658927, \"err_high\": 12.09970011863715}, {\"time\": \"2009-02-19T00:00:00\", \"variable\": \"TA\", \"value\": -5.73, \"is_present\": true, \"mean\": -6.748067238595976, \"std\": 9.34044462130661, \"err_low\": -25.428956481209195, \"err_high\": 11.932822004017243}, {\"time\": \"2009-02-19T00:30:00\", \"variable\": \"TA\", \"value\": -5.69, \"is_present\": true, \"mean\": -6.966121642114441, \"std\": 9.340444621306597, \"err_low\": -25.647010884727635, \"err_high\": 11.714767600498753}, {\"time\": \"2009-02-19T01:00:00\", \"variable\": \"TA\", \"value\": -5.61, \"is_present\": true, \"mean\": -7.087574366261075, \"std\": 9.340444621306597, \"err_low\": -25.76846360887427, \"err_high\": 11.59331487635212}, {\"time\": \"2009-02-19T01:30:00\", \"variable\": \"TA\", \"value\": -5.71, \"is_present\": true, \"mean\": -7.196077655711489, \"std\": 9.340444621306608, \"err_low\": -25.876966898324703, \"err_high\": 11.484811586901726}, {\"time\": \"2009-02-19T02:00:00\", \"variable\": \"TA\", \"value\": -6.35, \"is_present\": true, \"mean\": -7.25934336093421, \"std\": 9.340444621306606, \"err_low\": -25.94023260354742, \"err_high\": 11.421545881679002}, {\"time\": \"2009-02-19T02:30:00\", \"variable\": \"TA\", \"value\": -6.57, \"is_present\": true, \"mean\": -7.503060229847186, \"std\": 9.3404446213066, \"err_low\": -26.183949472460387, \"err_high\": 11.177829012766015}, {\"time\": \"2009-02-19T03:00:00\", \"variable\": \"TA\", \"value\": -6.86, \"is_present\": true, \"mean\": -7.5920057235867535, \"std\": 9.340444621306602, \"err_low\": -26.272894966199956, \"err_high\": 11.088883519026451}, {\"time\": \"2009-02-19T03:30:00\", \"variable\": \"TA\", \"value\": -7.21, \"is_present\": true, \"mean\": -7.706785198233623, \"std\": 9.340444621306611, \"err_low\": -26.387674440846844, \"err_high\": 10.9741040443796}, {\"time\": \"2009-02-19T04:00:00\", \"variable\": \"TA\", \"value\": -7.01, \"is_present\": true, \"mean\": -7.87319183106707, \"std\": 9.3404446213066, \"err_low\": -26.554081073680273, \"err_high\": 10.807697411546132}, {\"time\": \"2009-02-19T04:30:00\", \"variable\": \"TA\", \"value\": -6.99, \"is_present\": true, \"mean\": -7.747794537182132, \"std\": 9.34044462130659, \"err_low\": -26.428683779795314, \"err_high\": 10.933094705431047}, {\"time\": \"2009-02-19T05:00:00\", \"variable\": \"TA\", \"value\": -7.05, \"is_present\": true, \"mean\": -7.708392481205136, \"std\": 9.340444621306602, \"err_low\": -26.389281723818343, \"err_high\": 10.972496761408069}, {\"time\": \"2009-02-19T05:30:00\", \"variable\": \"TA\", \"value\": -6.74, \"is_present\": true, \"mean\": -7.6943011450281364, \"std\": 9.340444621306599, \"err_low\": -26.375190387641332, \"err_high\": 10.986588097585061}, {\"time\": \"2009-02-19T06:00:00\", \"variable\": \"TA\", \"value\": -6.54, \"is_present\": true, \"mean\": -7.544580983367963, \"std\": 9.340444621306604, \"err_low\": -26.22547022598117, \"err_high\": 11.136308259245245}, {\"time\": \"2009-02-19T06:30:00\", \"variable\": \"TA\", \"value\": -6.79, \"is_present\": true, \"mean\": -7.430060329825883, \"std\": 9.340444621306602, \"err_low\": -26.11094957243909, \"err_high\": 11.250828912787322}, {\"time\": \"2009-02-19T07:00:00\", \"variable\": \"TA\", \"value\": -6.76, \"is_present\": true, \"mean\": -7.529753945327206, \"std\": 9.340444621306593, \"err_low\": -26.21064318794039, \"err_high\": 11.15113529728598}, {\"time\": \"2009-02-19T07:30:00\", \"variable\": \"TA\", \"value\": -6.86, \"is_present\": true, \"mean\": -7.509633149033721, \"std\": 9.340444621306611, \"err_low\": -26.190522391646944, \"err_high\": 11.171256093579501}, {\"time\": \"2009-02-19T08:00:00\", \"variable\": \"TA\", \"value\": -7.25, \"is_present\": true, \"mean\": -7.059461430959187, \"std\": 9.340444621306604, \"err_low\": -25.740350673572394, \"err_high\": 11.621427811654021}, {\"time\": \"2009-02-19T08:30:00\", \"variable\": \"TA\", \"value\": -7.38, \"is_present\": true, \"mean\": -5.958071953754777, \"std\": 9.3404446213066, \"err_low\": -24.63896119636798, \"err_high\": 12.722817288858424}, {\"time\": \"2009-02-19T09:00:00\", \"variable\": \"TA\", \"value\": -7.33, \"is_present\": true, \"mean\": -4.30740656920139, \"std\": 9.340444621306602, \"err_low\": -22.988295811814595, \"err_high\": 14.373482673411814}, {\"time\": \"2009-02-19T09:30:00\", \"variable\": \"TA\", \"value\": -6.66, \"is_present\": true, \"mean\": -2.4216619136554502, \"std\": 9.340444621306606, \"err_low\": -21.10255115626866, \"err_high\": 16.259227328957763}, {\"time\": \"2009-02-19T10:00:00\", \"variable\": \"TA\", \"value\": -5.8, \"is_present\": true, \"mean\": -0.0673527592530796, \"std\": 9.340444621306597, \"err_low\": -18.748242001866274, \"err_high\": 18.613536483360114}, {\"time\": \"2009-02-19T10:30:00\", \"variable\": \"TA\", \"value\": -5.17, \"is_present\": true, \"mean\": 1.9446150856521456, \"std\": 9.340444621306595, \"err_low\": -16.736274156961045, \"err_high\": 20.625504328265336}, {\"time\": \"2009-02-19T11:00:00\", \"variable\": \"TA\", \"value\": -4.36, \"is_present\": true, \"mean\": 4.89960177951958, \"std\": 9.340444621306606, \"err_low\": -13.781287463093632, \"err_high\": 23.58049102213279}, {\"time\": \"2009-02-19T11:30:00\", \"variable\": \"TA\", \"value\": -3.54, \"is_present\": true, \"mean\": 6.900753404239294, \"std\": 9.3404446213066, \"err_low\": -11.780135838373907, \"err_high\": 25.581642646852494}, {\"time\": \"2009-02-19T12:00:00\", \"variable\": \"TA\", \"value\": -3.01, \"is_present\": true, \"mean\": 8.665916994251658, \"std\": 9.340444621306602, \"err_low\": -10.014972248361547, \"err_high\": 27.346806236864865}, {\"time\": \"2009-02-19T12:30:00\", \"variable\": \"TA\", \"value\": -2.6, \"is_present\": true, \"mean\": 10.12619650109221, \"std\": 9.340444621306599, \"err_low\": -8.554692741520988, \"err_high\": 28.807085743705407}], \"data-1d6c5a571a1f24050ebd001dbe5dfa4d\": [{\"gap_start\": \"2009-02-17T17:30:00\", \"gap_end\": \"2009-02-17T22:00:00\"}], \"data-5921d8b8a2efa06868692a55cdfdc4c4\": [{\"time\": \"2009-02-15T09:00:00\", \"variable\": \"SW_IN\", \"value\": 99.68, \"is_present\": true, \"mean\": 415.1079749437935, \"std\": 387.1852736095606, \"err_low\": -359.2625722753277, \"err_high\": 1189.4785221629147}, {\"time\": \"2009-02-15T09:30:00\", \"variable\": \"SW_IN\", \"value\": 119.34, \"is_present\": true, \"mean\": -438.0041776936259, \"std\": 498.6938526893268, \"err_low\": -1435.3918830722794, \"err_high\": 559.3835276850277}, {\"time\": \"2009-02-15T10:00:00\", \"variable\": \"SW_IN\", \"value\": 149.78, \"is_present\": true, \"mean\": -379.4494317400138, \"std\": 510.5867191754559, \"err_low\": -1400.6228700909255, \"err_high\": 641.7240066108981}, {\"time\": \"2009-02-15T10:30:00\", \"variable\": \"SW_IN\", \"value\": 198.38, \"is_present\": true, \"mean\": -97.03451534945442, \"std\": 508.649224089705, \"err_low\": -1114.3329635288644, \"err_high\": 920.2639328299556}, {\"time\": \"2009-02-15T11:00:00\", \"variable\": \"SW_IN\", \"value\": 312.32, \"is_present\": true, \"mean\": 65.98389198944633, \"std\": 508.3389137560502, \"err_low\": -950.6939355226541, \"err_high\": 1082.6617195015467}, {\"time\": \"2009-02-15T11:30:00\", \"variable\": \"SW_IN\", \"value\": 376.19, \"is_present\": true, \"mean\": 217.01178332803622, \"std\": 508.28531215502466, \"err_low\": -799.5588409820131, \"err_high\": 1233.5824076380854}, {\"time\": \"2009-02-15T12:00:00\", \"variable\": \"SW_IN\", \"value\": 344.522, \"is_present\": true, \"mean\": 314.96128877895205, \"std\": 508.2770401265247, \"err_low\": -701.5927914740973, \"err_high\": 1331.5153690320014}, {\"time\": \"2009-02-15T12:30:00\", \"variable\": \"SW_IN\", \"value\": 311.83, \"is_present\": true, \"mean\": 343.93502404413744, \"std\": 508.27574544959793, \"err_low\": -672.6164668550584, \"err_high\": 1360.4865149433333}, {\"time\": \"2009-02-15T13:00:00\", \"variable\": \"SW_IN\", \"value\": 377.75, \"is_present\": true, \"mean\": 350.0709728013164, \"std\": 508.27554652013674, \"err_low\": -666.4801202389572, \"err_high\": 1366.6220658415898}, {\"time\": \"2009-02-15T13:30:00\", \"variable\": \"SW_IN\", \"value\": 382.8, \"is_present\": true, \"mean\": 302.23584905549774, \"std\": 508.27551571963096, \"err_low\": -714.3151823837642, \"err_high\": 1318.7868804947598}, {\"time\": \"2009-02-15T14:00:00\", \"variable\": \"SW_IN\", \"value\": 210.62, \"is_present\": true, \"mean\": 217.33783785110433, \"std\": 508.27551098129163, \"err_low\": -799.213184111479, \"err_high\": 1233.8888598136875}, {\"time\": \"2009-02-15T14:30:00\", \"variable\": \"SW_IN\", \"value\": 165.86, \"is_present\": true, \"mean\": 101.69695837508375, \"std\": 508.2755102495267, \"err_low\": -914.8540621239696, \"err_high\": 1118.247978874137}, {\"time\": \"2009-02-15T15:00:00\", \"variable\": \"SW_IN\", \"value\": 240.06, \"is_present\": true, \"mean\": 60.137382593654614, \"std\": 508.27551013683154, \"err_low\": -956.4136376800085, \"err_high\": 1076.6884028673178}, {\"time\": \"2009-02-15T15:30:00\", \"variable\": \"SW_IN\", \"value\": 141.59, \"is_present\": true, \"mean\": 69.40666701189807, \"std\": 508.27551011944485, \"err_low\": -947.1443532269916, \"err_high\": 1085.9576872507878}, {\"time\": \"2009-02-15T16:00:00\", \"variable\": \"SW_IN\", \"value\": 128.46, \"is_present\": true, \"mean\": -1.9465191681957776, \"std\": 508.275510116765, \"err_low\": -1018.4975394017258, \"err_high\": 1014.6045010653343}, {\"time\": \"2009-02-15T16:30:00\", \"variable\": \"SW_IN\", \"value\": 75.99, \"is_present\": true, \"mean\": -81.98200937735469, \"std\": 508.2755101163524, \"err_low\": -1098.5330296100594, \"err_high\": 934.5690108553501}, {\"time\": \"2009-02-15T17:00:00\", \"variable\": \"SW_IN\", \"value\": 42.91, \"is_present\": true, \"mean\": -172.45740369640964, \"std\": 508.2755101162887, \"err_low\": -1189.008423928987, \"err_high\": 844.0936165361677}, {\"time\": \"2009-02-15T17:30:00\", \"variable\": \"SW_IN\", \"value\": 13.13, \"is_present\": true, \"mean\": -217.87375674761432, \"std\": 508.275510116279, \"err_low\": -1234.4247769801723, \"err_high\": 798.6772634849438}, {\"time\": \"2009-02-15T18:00:00\", \"variable\": \"SW_IN\", \"value\": 0.69, \"is_present\": true, \"mean\": -247.26457930236518, \"std\": 508.2755101162779, \"err_low\": -1263.8155995349211, \"err_high\": 769.2864409301907}, {\"time\": \"2009-02-15T18:30:00\", \"variable\": \"SW_IN\", \"value\": 0.0, \"is_present\": true, \"mean\": -263.4115616892761, \"std\": 508.2755101162772, \"err_low\": -1279.9625819218304, \"err_high\": 753.1394585432784}, {\"time\": \"2009-02-15T19:00:00\", \"variable\": \"SW_IN\", \"value\": 0.0, \"is_present\": true, \"mean\": -275.54511165630186, \"std\": 508.2755101162769, \"err_low\": -1292.0961318888558, \"err_high\": 741.005908576252}, {\"time\": \"2009-02-15T19:30:00\", \"variable\": \"SW_IN\", \"value\": 0.0, \"is_present\": true, \"mean\": -294.0539959021139, \"std\": 508.27551011627753, \"err_low\": -1310.6050161346689, \"err_high\": 722.4970243304411}, {\"time\": \"2009-02-15T20:00:00\", \"variable\": \"SW_IN\", \"value\": 0.0, \"is_present\": true, \"mean\": -303.2602741183581, \"std\": 508.27551011627685, \"err_low\": -1319.8112943509118, \"err_high\": 713.2907461141956}, {\"time\": \"2009-02-15T20:30:00\", \"variable\": \"SW_IN\", \"value\": 0.0, \"is_present\": true, \"mean\": -306.90546671440694, \"std\": 508.27551011627753, \"err_low\": -1323.456486946962, \"err_high\": 709.6455535181481}, {\"time\": \"2009-02-15T21:00:00\", \"variable\": \"SW_IN\", \"value\": 0.0, \"is_present\": true, \"mean\": -308.0122828787969, \"std\": 508.2755101162766, \"err_low\": -1324.5633031113503, \"err_high\": 708.5387373537563}, {\"time\": \"2009-02-15T21:30:00\", \"variable\": \"SW_IN\", \"value\": 0.0, \"is_present\": true, \"mean\": -308.3723723709905, \"std\": 508.2755101162775, \"err_low\": -1324.9233926035454, \"err_high\": 708.1786478615645}, {\"time\": \"2009-02-15T22:00:00\", \"variable\": \"SW_IN\", \"value\": 0.0, \"is_present\": true, \"mean\": -309.27619425594423, \"std\": 508.27551011627656, \"err_low\": -1325.8272144884972, \"err_high\": 707.2748259766089}, {\"time\": \"2009-02-15T22:30:00\", \"variable\": \"SW_IN\", \"value\": 0.0, \"is_present\": true, \"mean\": -313.03146594220385, \"std\": 508.2755101162771, \"err_low\": -1329.582486174758, \"err_high\": 703.5195542903502}, {\"time\": \"2009-02-15T23:00:00\", \"variable\": \"SW_IN\", \"value\": 0.0, \"is_present\": true, \"mean\": -315.9593553249395, \"std\": 508.2755101162773, \"err_low\": -1332.5103755574942, \"err_high\": 700.591664907615}, {\"time\": \"2009-02-15T23:30:00\", \"variable\": \"SW_IN\", \"value\": 0.0, \"is_present\": true, \"mean\": -317.8381324928535, \"std\": 508.2755101162772, \"err_low\": -1334.389152725408, \"err_high\": 698.7128877397008}, {\"time\": \"2009-02-16T00:00:00\", \"variable\": \"SW_IN\", \"value\": 0.0, \"is_present\": true, \"mean\": -320.95859367096625, \"std\": 508.27551011627753, \"err_low\": -1337.5096139035213, \"err_high\": 695.5924265615888}, {\"time\": \"2009-02-16T00:30:00\", \"variable\": \"SW_IN\", \"value\": 0.0, \"is_present\": true, \"mean\": -323.56238113143814, \"std\": 508.2755101162771, \"err_low\": -1340.1134013639924, \"err_high\": 692.988639101116}, {\"time\": \"2009-02-16T01:00:00\", \"variable\": \"SW_IN\", \"value\": 0.0, \"is_present\": true, \"mean\": -325.32130516902856, \"std\": 508.27551011627753, \"err_low\": -1341.8723254015836, \"err_high\": 691.2297150635266}, {\"time\": \"2009-02-16T01:30:00\", \"variable\": \"SW_IN\", \"value\": 0.0, \"is_present\": true, \"mean\": -327.7197338463073, \"std\": 508.2755101162775, \"err_low\": -1344.2707540788622, \"err_high\": 688.8312863862477}, {\"time\": \"2009-02-16T02:00:00\", \"variable\": \"SW_IN\", \"value\": 0.0, \"is_present\": true, \"mean\": -330.99536530259786, \"std\": 508.27551011627736, \"err_low\": -1347.5463855351527, \"err_high\": 685.5556549299569}, {\"time\": \"2009-02-16T02:30:00\", \"variable\": \"SW_IN\", \"value\": 0.0, \"is_present\": true, \"mean\": -334.13978889042085, \"std\": 508.2755101162771, \"err_low\": -1350.690809122975, \"err_high\": 682.4112313421333}, {\"time\": \"2009-02-16T03:00:00\", \"variable\": \"SW_IN\", \"value\": 0.0, \"is_present\": true, \"mean\": -337.54581132181295, \"std\": 508.2755101162773, \"err_low\": -1354.0968315543676, \"err_high\": 679.0052089107417}, {\"time\": \"2009-02-16T03:30:00\", \"variable\": \"SW_IN\", \"value\": 0.0, \"is_present\": true, \"mean\": -339.71849013035506, \"std\": 508.2755101162775, \"err_low\": -1356.26951036291, \"err_high\": 676.8325301021998}, {\"time\": \"2009-02-16T04:00:00\", \"variable\": \"SW_IN\", \"value\": 0.0, \"is_present\": true, \"mean\": -341.5457773661985, \"std\": 508.27551011627764, \"err_low\": -1358.0967975987537, \"err_high\": 675.0052428663569}, {\"time\": \"2009-02-16T04:30:00\", \"variable\": \"SW_IN\", \"value\": 0.0, \"is_present\": true, \"mean\": -344.01028968952255, \"std\": 508.275510116277, \"err_low\": -1360.5613099220766, \"err_high\": 672.5407305430315}, {\"time\": \"2009-02-16T05:00:00\", \"variable\": \"SW_IN\", \"value\": 0.0, \"is_present\": true, \"mean\": -342.6644794645574, \"std\": 508.2755101162773, \"err_low\": -1359.2154996971121, \"err_high\": 673.8865407679972}, {\"time\": \"2009-02-16T05:30:00\", \"variable\": \"SW_IN\", \"value\": 0.0, \"is_present\": true, \"mean\": -340.91836761490896, \"std\": 508.2755101162771, \"err_low\": -1357.4693878474632, \"err_high\": 675.6326526176451}, {\"time\": \"2009-02-16T06:00:00\", \"variable\": \"SW_IN\", \"value\": 0.0, \"is_present\": true, \"mean\": -339.867167049315, \"std\": 508.27551011627656, \"err_low\": -1356.418187281868, \"err_high\": 676.6838531832382}, {\"time\": \"2009-02-16T06:30:00\", \"variable\": \"SW_IN\", \"value\": 0.0, \"is_present\": true, \"mean\": -339.70844288376134, \"std\": 508.2755101162775, \"err_low\": -1356.2594631163163, \"err_high\": 676.8425773487936}, {\"time\": \"2009-02-16T07:00:00\", \"variable\": \"SW_IN\", \"value\": 0.0, \"is_present\": true, \"mean\": -339.5552167540251, \"std\": 508.2755101162772, \"err_low\": -1356.1062369865795, \"err_high\": 676.9958034785293}, {\"time\": \"2009-02-16T07:30:00\", \"variable\": \"SW_IN\", \"value\": 0.0, \"is_present\": true, \"mean\": -339.21288877469163, \"std\": 508.2755101162771, \"err_low\": -1355.7639090072457, \"err_high\": 677.3381314578626}, {\"time\": \"2009-02-16T08:00:00\", \"variable\": \"SW_IN\", \"value\": 4.38, \"is_present\": true, \"mean\": -334.3532519673548, \"std\": 508.2755101162772, \"err_low\": -1350.9042721999092, \"err_high\": 682.1977682651996}, {\"time\": \"2009-02-16T08:30:00\", \"variable\": \"SW_IN\", \"value\": 14.95, \"is_present\": true, \"mean\": -318.7847847290244, \"std\": 508.275510116277, \"err_low\": -1335.3358049615786, \"err_high\": 697.7662355035296}, {\"time\": \"2009-02-16T09:00:00\", \"variable\": \"SW_IN\", \"value\": 38.04, \"is_present\": true, \"mean\": -297.06526965685015, \"std\": 508.27551011627673, \"err_low\": -1313.6162898894036, \"err_high\": 719.4857505757034}, {\"time\": \"2009-02-16T09:30:00\", \"variable\": \"SW_IN\", \"value\": 53.39, \"is_present\": true, \"mean\": -270.83266851767024, \"std\": 508.2755101162771, \"err_low\": -1287.3836887502243, \"err_high\": 745.718351714884}, {\"time\": \"2009-02-16T10:00:00\", \"variable\": \"SW_IN\", \"value\": 95.84, \"is_present\": true, \"mean\": -250.53767786381667, \"std\": 508.2755101162769, \"err_low\": -1267.0886980963705, \"err_high\": 766.0133423687371}, {\"time\": \"2009-02-16T10:30:00\", \"variable\": \"SW_IN\", \"value\": 113.16, \"is_present\": true, \"mean\": -196.5600178691144, \"std\": 508.2755101162775, \"err_low\": -1213.1110381016692, \"err_high\": 819.9910023634405}, {\"time\": \"2009-02-16T11:00:00\", \"variable\": \"SW_IN\", \"value\": 217.72, \"is_present\": true, \"mean\": -148.606855173167, \"std\": 508.2755101162773, \"err_low\": -1165.1578754057216, \"err_high\": 867.9441650593876}, {\"time\": \"2009-02-16T11:30:00\", \"variable\": \"SW_IN\", \"value\": 219.17, \"is_present\": true, \"mean\": -82.44937783054762, \"std\": 508.2755101162771, \"err_low\": -1099.0003980631018, \"err_high\": 934.1016424020065}, {\"time\": \"2009-02-16T12:00:00\", \"variable\": \"SW_IN\", \"value\": 195.61, \"is_present\": true, \"mean\": -66.87450163837421, \"std\": 508.27551011627673, \"err_low\": -1083.4255218709277, \"err_high\": 949.6765185941792}, {\"time\": \"2009-02-16T12:30:00\", \"variable\": \"SW_IN\", \"value\": 121.39, \"is_present\": true, \"mean\": -66.6285619444965, \"std\": 508.275510116277, \"err_low\": -1083.1795821770506, \"err_high\": 949.9224582880576}, {\"time\": \"2009-02-16T13:00:00\", \"variable\": \"SW_IN\", \"value\": 120.26, \"is_present\": true, \"mean\": -91.20079666662294, \"std\": 508.2755101162773, \"err_low\": -1107.7518168991776, \"err_high\": 925.3502235659316}, {\"time\": \"2009-02-16T13:30:00\", \"variable\": \"SW_IN\", \"value\": 147.82, \"is_present\": true, \"mean\": -68.06097658204932, \"std\": 508.27551011627736, \"err_low\": -1084.611996814604, \"err_high\": 948.4900436505054}, {\"time\": \"2009-02-16T14:00:00\", \"variable\": \"SW_IN\", \"value\": 156.28, \"is_present\": true, \"mean\": -46.946016748543414, \"std\": 508.2755101162771, \"err_low\": -1063.4970369810976, \"err_high\": 969.6050034840107}, {\"time\": \"2009-02-16T14:30:00\", \"variable\": \"SW_IN\", \"value\": 124.41, \"is_present\": true, \"mean\": -56.95400265855757, \"std\": 508.2755101162769, \"err_low\": -1073.5050228911114, \"err_high\": 959.5970175739963}, {\"time\": \"2009-02-16T15:00:00\", \"variable\": \"SW_IN\", \"value\": 73.05, \"is_present\": true, \"mean\": -89.19050505599434, \"std\": 508.2755101162769, \"err_low\": -1105.7415252885482, \"err_high\": 927.3605151765595}, {\"time\": \"2009-02-16T15:30:00\", \"variable\": \"SW_IN\", \"value\": 61.73, \"is_present\": true, \"mean\": -129.74211411893248, \"std\": 508.2755101162771, \"err_low\": -1146.2931343514865, \"err_high\": 886.8089061136217}, {\"time\": \"2009-02-16T16:00:00\", \"variable\": \"SW_IN\", \"value\": 56.36, \"is_present\": true, \"mean\": -154.40326018960883, \"std\": 508.2755101162773, \"err_low\": -1170.9542804221635, \"err_high\": 862.1477600429457}, {\"time\": \"2009-02-16T16:30:00\", \"variable\": \"SW_IN\", \"value\": 43.99, \"is_present\": true, \"mean\": -207.3377686326507, \"std\": 508.27551011627685, \"err_low\": -1223.8887888652043, \"err_high\": 809.2132515999031}, {\"time\": \"2009-02-16T17:00:00\", \"variable\": \"SW_IN\", \"value\": 20.81, \"is_present\": true, \"mean\": -257.34933210376164, \"std\": 508.2755101162766, \"err_low\": -1273.9003523363149, \"err_high\": 759.2016881287916}, {\"time\": \"2009-02-16T17:30:00\", \"variable\": \"SW_IN\", \"value\": 4.36, \"is_present\": true, \"mean\": -281.7042826983349, \"std\": 508.27551011627685, \"err_low\": -1298.2553029308885, \"err_high\": 734.8467375342188}, {\"time\": \"2009-02-16T18:00:00\", \"variable\": \"SW_IN\", \"value\": 0.0, \"is_present\": true, \"mean\": -296.8000161699413, \"std\": 508.27551011627685, \"err_low\": -1313.351036402495, \"err_high\": 719.7510040626124}, {\"time\": \"2009-02-16T18:30:00\", \"variable\": \"SW_IN\", \"value\": 0.0, \"is_present\": true, \"mean\": -304.732142916244, \"std\": 508.27551011627736, \"err_low\": -1321.2831631487988, \"err_high\": 711.8188773163107}, {\"time\": \"2009-02-16T19:00:00\", \"variable\": \"SW_IN\", \"value\": 0.0, \"is_present\": true, \"mean\": -308.458538114358, \"std\": 508.2755101162771, \"err_low\": -1325.0095583469122, \"err_high\": 708.0924821181961}, {\"time\": \"2009-02-16T19:30:00\", \"variable\": \"SW_IN\", \"value\": 0.0, \"is_present\": true, \"mean\": -312.7551169179453, \"std\": 508.2755101162778, \"err_low\": -1329.306137150501, \"err_high\": 703.7959033146103}, {\"time\": \"2009-02-16T20:00:00\", \"variable\": \"SW_IN\", \"value\": 0.0, \"is_present\": true, \"mean\": -313.4712966350189, \"std\": 508.2755101162771, \"err_low\": -1330.022316867573, \"err_high\": 703.0797235975352}, {\"time\": \"2009-02-16T20:30:00\", \"variable\": \"SW_IN\", \"value\": 0.0, \"is_present\": true, \"mean\": -313.31753185846367, \"std\": 508.2755101162772, \"err_low\": -1329.868552091018, \"err_high\": 703.2334883740907}, {\"time\": \"2009-02-16T21:00:00\", \"variable\": \"SW_IN\", \"value\": 0.0, \"is_present\": true, \"mean\": -314.01403694104835, \"std\": 508.2755101162771, \"err_low\": -1330.5650571736026, \"err_high\": 702.5369832915057}, {\"time\": \"2009-02-16T21:30:00\", \"variable\": \"SW_IN\", \"value\": 0.0, \"is_present\": true, \"mean\": -315.4487911973695, \"std\": 508.275510116277, \"err_low\": -1331.9998114299235, \"err_high\": 701.1022290351846}, {\"time\": \"2009-02-16T22:00:00\", \"variable\": \"SW_IN\", \"value\": 0.0, \"is_present\": true, \"mean\": -318.1899512211272, \"std\": 508.27551011627776, \"err_low\": -1334.7409714536827, \"err_high\": 698.3610690114283}, {\"time\": \"2009-02-16T22:30:00\", \"variable\": \"SW_IN\", \"value\": 0.0, \"is_present\": true, \"mean\": -320.50864539415244, \"std\": 508.27551011627736, \"err_low\": -1337.059665626707, \"err_high\": 696.0423748384023}, {\"time\": \"2009-02-16T23:00:00\", \"variable\": \"SW_IN\", \"value\": 0.0, \"is_present\": true, \"mean\": -322.333064304156, \"std\": 508.2755101162775, \"err_low\": -1338.8840845367108, \"err_high\": 694.217955928399}, {\"time\": \"2009-02-16T23:30:00\", \"variable\": \"SW_IN\", \"value\": 0.0, \"is_present\": true, \"mean\": -323.795120181527, \"std\": 508.275510116277, \"err_low\": -1340.346140414081, \"err_high\": 692.7559000510271}, {\"time\": \"2009-02-17T00:00:00\", \"variable\": \"SW_IN\", \"value\": 0.0, \"is_present\": true, \"mean\": -324.35192115158736, \"std\": 508.2755101162773, \"err_low\": -1340.902941384142, \"err_high\": 692.1990990809672}, {\"time\": \"2009-02-17T00:30:00\", \"variable\": \"SW_IN\", \"value\": 0.0, \"is_present\": true, \"mean\": -325.6174669858217, \"std\": 508.27551011627753, \"err_low\": -1342.1684872183769, \"err_high\": 690.9335532467334}, {\"time\": \"2009-02-17T01:00:00\", \"variable\": \"SW_IN\", \"value\": 0.0, \"is_present\": true, \"mean\": -326.66840676820067, \"std\": 508.2755101162769, \"err_low\": -1343.2194270007544, \"err_high\": 689.8826134643532}, {\"time\": \"2009-02-17T01:30:00\", \"variable\": \"SW_IN\", \"value\": 0.0, \"is_present\": true, \"mean\": -328.0376298242726, \"std\": 508.27551011627685, \"err_low\": -1344.5886500568263, \"err_high\": 688.5133904082811}, {\"time\": \"2009-02-17T02:00:00\", \"variable\": \"SW_IN\", \"value\": 0.0, \"is_present\": true, \"mean\": -331.9912574733559, \"std\": 508.2755101162773, \"err_low\": -1348.5422777059105, \"err_high\": 684.5597627591987}, {\"time\": \"2009-02-17T02:30:00\", \"variable\": \"SW_IN\", \"value\": 0.0, \"is_present\": true, \"mean\": -335.5988051401721, \"std\": 508.27551011627685, \"err_low\": -1352.149825372726, \"err_high\": 680.9522150923816}, {\"time\": \"2009-02-17T03:00:00\", \"variable\": \"SW_IN\", \"value\": 0.0, \"is_present\": true, \"mean\": -336.85692101084635, \"std\": 508.2755101162771, \"err_low\": -1353.4079412434005, \"err_high\": 679.6940992217078}, {\"time\": \"2009-02-17T03:30:00\", \"variable\": \"SW_IN\", \"value\": 0.0, \"is_present\": true, \"mean\": -336.6855640553038, \"std\": 508.2755101162771, \"err_low\": -1353.236584287858, \"err_high\": 679.8654561772503}, {\"time\": \"2009-02-17T04:00:00\", \"variable\": \"SW_IN\", \"value\": 0.0, \"is_present\": true, \"mean\": -335.25096645896986, \"std\": 508.2755101162773, \"err_low\": -1351.8019866915245, \"err_high\": 681.3000537735848}, {\"time\": \"2009-02-17T04:30:00\", \"variable\": \"SW_IN\", \"value\": 0.0, \"is_present\": true, \"mean\": -334.94157866144724, \"std\": 508.27551011627685, \"err_low\": -1351.4925988940008, \"err_high\": 681.6094415711065}, {\"time\": \"2009-02-17T05:00:00\", \"variable\": \"SW_IN\", \"value\": 0.0, \"is_present\": true, \"mean\": -336.315566404264, \"std\": 508.27551011627753, \"err_low\": -1352.8665866368192, \"err_high\": 680.235453828291}, {\"time\": \"2009-02-17T05:30:00\", \"variable\": \"SW_IN\", \"value\": 0.0, \"is_present\": true, \"mean\": -338.0179664132064, \"std\": 508.2755101162773, \"err_low\": -1354.568986645761, \"err_high\": 678.5330538193482}, {\"time\": \"2009-02-17T06:00:00\", \"variable\": \"SW_IN\", \"value\": 0.0, \"is_present\": true, \"mean\": -338.45572024476274, \"std\": 508.2755101162772, \"err_low\": -1355.0067404773172, \"err_high\": 678.0952999877916}, {\"time\": \"2009-02-17T06:30:00\", \"variable\": \"SW_IN\", \"value\": 0.0, \"is_present\": true, \"mean\": -339.18702854238643, \"std\": 508.27551011627753, \"err_low\": -1355.7380487749415, \"err_high\": 677.3639916901686}, {\"time\": \"2009-02-17T07:00:00\", \"variable\": \"SW_IN\", \"value\": 0.0, \"is_present\": true, \"mean\": -341.90916920620214, \"std\": 508.27551011627673, \"err_low\": -1358.4601894387556, \"err_high\": 674.6418510263513}, {\"time\": \"2009-02-17T07:30:00\", \"variable\": \"SW_IN\", \"value\": 0.0, \"is_present\": true, \"mean\": -353.708317552514, \"std\": 508.2755101162772, \"err_low\": -1370.2593377850685, \"err_high\": 662.8427026800404}, {\"time\": \"2009-02-17T08:00:00\", \"variable\": \"SW_IN\", \"value\": 1.9, \"is_present\": true, \"mean\": -354.31325873116856, \"std\": 508.27551011627673, \"err_low\": -1370.864278963722, \"err_high\": 662.237761501385}, {\"time\": \"2009-02-17T08:30:00\", \"variable\": \"SW_IN\", \"value\": 8.66, \"is_present\": true, \"mean\": -343.0042523529808, \"std\": 508.2755101162773, \"err_low\": -1359.5552725855355, \"err_high\": 673.5467678795737}, {\"time\": \"2009-02-17T09:00:00\", \"variable\": \"SW_IN\", \"value\": 15.41, \"is_present\": true, \"mean\": -329.83908532997, \"std\": 508.27551011627736, \"err_low\": -1346.3901055625247, \"err_high\": 686.7119349025847}, {\"time\": \"2009-02-17T09:30:00\", \"variable\": \"SW_IN\", \"value\": 30.3, \"is_present\": true, \"mean\": -308.8786385490078, \"std\": 508.2755101162772, \"err_low\": -1325.4296587815622, \"err_high\": 707.6723816835465}, {\"time\": \"2009-02-17T10:00:00\", \"variable\": \"SW_IN\", \"value\": 42.19, \"is_present\": true, \"mean\": -291.4168913305962, \"std\": 508.2755101162781, \"err_low\": -1307.9679115631525, \"err_high\": 725.13412890196}, {\"time\": \"2009-02-17T10:30:00\", \"variable\": \"SW_IN\", \"value\": 55.41, \"is_present\": true, \"mean\": -139.77718263229048, \"std\": 508.27551011627736, \"err_low\": -1156.3282028648453, \"err_high\": 876.7738376002642}, {\"time\": \"2009-02-17T11:00:00\", \"variable\": \"SW_IN\", \"value\": 52.76, \"is_present\": true, \"mean\": 34.58316440313541, \"std\": 508.2755101162771, \"err_low\": -981.9678558294188, \"err_high\": 1051.1341846356895}, {\"time\": \"2009-02-17T11:30:00\", \"variable\": \"SW_IN\", \"value\": 102.05, \"is_present\": true, \"mean\": 98.37151135760816, \"std\": 508.2755101162771, \"err_low\": -918.179508874946, \"err_high\": 1114.9225315901624}, {\"time\": \"2009-02-17T12:00:00\", \"variable\": \"SW_IN\", \"value\": 137.63, \"is_present\": true, \"mean\": 152.97912466071534, \"std\": 508.2755101162775, \"err_low\": -863.5718955718396, \"err_high\": 1169.5301448932703}, {\"time\": \"2009-02-17T12:30:00\", \"variable\": \"SW_IN\", \"value\": 235.5, \"is_present\": true, \"mean\": 197.5112140343942, \"std\": 508.2755101162773, \"err_low\": -819.0398061981605, \"err_high\": 1214.0622342669487}, {\"time\": \"2009-02-17T13:00:00\", \"variable\": \"SW_IN\", \"value\": 291.2, \"is_present\": true, \"mean\": 257.62412375564253, \"std\": 508.2755101162771, \"err_low\": -758.9268964769117, \"err_high\": 1274.1751439881966}, {\"time\": \"2009-02-17T13:30:00\", \"variable\": \"SW_IN\", \"value\": 316.403, \"is_present\": true, \"mean\": 313.918409855637, \"std\": 508.27551011627776, \"err_low\": -702.6326103769186, \"err_high\": 1330.4694300881924}, {\"time\": \"2009-02-17T14:00:00\", \"variable\": \"SW_IN\", \"value\": 364.367, \"is_present\": true, \"mean\": 336.16202005969456, \"std\": 508.275510116278, \"err_low\": -680.3890001728614, \"err_high\": 1352.7130402922505}, {\"time\": \"2009-02-17T14:30:00\", \"variable\": \"SW_IN\", \"value\": 422.51, \"is_present\": true, \"mean\": 323.52196078419786, \"std\": 508.27551011627673, \"err_low\": -693.0290594483556, \"err_high\": 1340.0729810167513}, {\"time\": \"2009-02-17T15:00:00\", \"variable\": \"SW_IN\", \"value\": 379.39, \"is_present\": true, \"mean\": 306.03349732321396, \"std\": 508.27551011627736, \"err_low\": -710.5175229093408, \"err_high\": 1322.5845175557688}, {\"time\": \"2009-02-17T15:30:00\", \"variable\": \"SW_IN\", \"value\": 281.53, \"is_present\": true, \"mean\": 240.64524084358837, \"std\": 508.27551011627656, \"err_low\": -775.9057793889648, \"err_high\": 1257.1962610761416}, {\"time\": \"2009-02-17T16:00:00\", \"variable\": \"SW_IN\", \"value\": 220.95, \"is_present\": true, \"mean\": 149.30985571257472, \"std\": 508.275510116277, \"err_low\": -867.2411645199793, \"err_high\": 1165.8608759451288}, {\"time\": \"2009-02-17T16:30:00\", \"variable\": \"SW_IN\", \"value\": 126.67, \"is_present\": true, \"mean\": 33.03366806514195, \"std\": 508.27551011627645, \"err_low\": -983.517352167411, \"err_high\": 1049.5846882976948}, {\"time\": \"2009-02-17T17:00:00\", \"variable\": \"SW_IN\", \"value\": 98.24, \"is_present\": true, \"mean\": -111.04897000807243, \"std\": 508.275510116277, \"err_low\": -1127.5999902406265, \"err_high\": 905.5020502244816}, {\"time\": \"2009-02-17T17:30:00\", \"variable\": \"SW_IN\", \"value\": 22.8, \"is_present\": true, \"mean\": -201.98360286443625, \"std\": 508.2755101162772, \"err_low\": -1218.5346230969906, \"err_high\": 814.5674173681182}, {\"time\": \"2009-02-17T18:00:00\", \"variable\": \"SW_IN\", \"value\": 0.0, \"is_present\": true, \"mean\": -190.10397952717204, \"std\": 514.004498960546, \"err_low\": -1218.112977448264, \"err_high\": 837.90501839392}, {\"time\": \"2009-02-17T18:30:00\", \"variable\": \"SW_IN\", \"value\": 0.0, \"is_present\": true, \"mean\": -255.3744208291002, \"std\": 514.1265509961471, \"err_low\": -1283.6275228213945, \"err_high\": 772.878681163194}, {\"time\": \"2009-02-17T19:00:00\", \"variable\": \"SW_IN\", \"value\": 0.0, \"is_present\": true, \"mean\": -278.5846414914767, \"std\": 514.1453173271284, \"err_low\": -1306.8752761457336, \"err_high\": 749.70599316278}, {\"time\": \"2009-02-17T19:30:00\", \"variable\": \"SW_IN\", \"value\": 0.0, \"is_present\": true, \"mean\": -305.3785841141478, \"std\": 514.1576236824703, \"err_low\": -1333.6938314790884, \"err_high\": 722.9366632507929}, {\"time\": \"2009-02-17T20:00:00\", \"variable\": \"SW_IN\", \"value\": 0.0, \"is_present\": true, \"mean\": -320.7197887167939, \"std\": 514.1591177826203, \"err_low\": -1349.0380242820347, \"err_high\": 707.5984468484468}, {\"time\": \"2009-02-17T20:30:00\", \"variable\": \"SW_IN\", \"value\": 0.0, \"is_present\": true, \"mean\": -324.9309384637169, \"std\": 514.159522163769, \"err_low\": -1353.249982791255, \"err_high\": 703.388105863821}, {\"time\": \"2009-02-17T21:00:00\", \"variable\": \"SW_IN\", \"value\": 0.0, \"is_present\": true, \"mean\": -331.8429291606172, \"std\": 514.1595827225893, \"err_low\": -1360.1620946057958, \"err_high\": 696.4762362845615}, {\"time\": \"2009-02-17T21:30:00\", \"variable\": \"SW_IN\", \"value\": 0.0, \"is_present\": true, \"mean\": -339.96969633192236, \"std\": 514.1595959514464, \"err_low\": -1368.2888882348152, \"err_high\": 688.3494955709704}, {\"time\": \"2009-02-17T22:00:00\", \"variable\": \"SW_IN\", \"value\": 0.0, \"is_present\": true, \"mean\": -349.3686238928982, \"std\": 514.1595981800281, \"err_low\": -1377.6878202529542, \"err_high\": 678.9505724671579}, {\"time\": \"2009-02-17T22:30:00\", \"variable\": \"SW_IN\", \"value\": 0.0, \"is_present\": true, \"mean\": -359.6410064198956, \"std\": 514.1595986264351, \"err_low\": -1387.9602036727658, \"err_high\": 668.6781908329747}, {\"time\": \"2009-02-17T23:00:00\", \"variable\": \"SW_IN\", \"value\": 0.0, \"is_present\": true, \"mean\": -442.9947030692222, \"std\": 508.4752133770503, \"err_low\": -1459.9451298233228, \"err_high\": 573.9557236848784}, {\"time\": \"2009-02-17T23:30:00\", \"variable\": \"SW_IN\", \"value\": 0.0, \"is_present\": true, \"mean\": -426.3682332920393, \"std\": 508.32415166670916, \"err_low\": -1443.0165366254575, \"err_high\": 590.2800700413791}, {\"time\": \"2009-02-18T00:00:00\", \"variable\": \"SW_IN\", \"value\": 0.0, \"is_present\": true, \"mean\": -419.5793940272824, \"std\": 508.28958813681425, \"err_low\": -1436.158570300911, \"err_high\": 596.9997822463461}, {\"time\": \"2009-02-18T00:30:00\", \"variable\": \"SW_IN\", \"value\": 0.0, \"is_present\": true, \"mean\": -419.3322894642777, \"std\": 508.27737060379263, \"err_low\": -1435.887030671863, \"err_high\": 597.2224517433076}, {\"time\": \"2009-02-18T01:00:00\", \"variable\": \"SW_IN\", \"value\": 0.0, \"is_present\": true, \"mean\": -421.15113670288366, \"std\": 508.2758525741016, \"err_low\": -1437.7028418510868, \"err_high\": 595.4005684453195}, {\"time\": \"2009-02-18T01:30:00\", \"variable\": \"SW_IN\", \"value\": 0.0, \"is_present\": true, \"mean\": -422.7834227396109, \"std\": 508.2755580245099, \"err_low\": -1439.3345387886307, \"err_high\": 593.767693309409}, {\"time\": \"2009-02-18T02:00:00\", \"variable\": \"SW_IN\", \"value\": 0.0, \"is_present\": true, \"mean\": -419.6097516455399, \"std\": 508.2755180631541, \"err_low\": -1436.1607877718482, \"err_high\": 596.9412844807682}, {\"time\": \"2009-02-18T02:30:00\", \"variable\": \"SW_IN\", \"value\": 0.0, \"is_present\": true, \"mean\": -418.48569611324234, \"std\": 508.27551128443764, \"err_low\": -1435.0367186821177, \"err_high\": 598.0653264556329}, {\"time\": \"2009-02-18T03:00:00\", \"variable\": \"SW_IN\", \"value\": 0.0, \"is_present\": true, \"mean\": -412.0775175545229, \"std\": 508.27551030244325, \"err_low\": -1428.6285381594093, \"err_high\": 604.4735030503637}, {\"time\": \"2009-02-18T03:30:00\", \"variable\": \"SW_IN\", \"value\": 0.0, \"is_present\": true, \"mean\": -409.8550907433358, \"std\": 508.2755101443426, \"err_low\": -1426.406111032021, \"err_high\": 606.6959295453494}, {\"time\": \"2009-02-18T04:00:00\", \"variable\": \"SW_IN\", \"value\": 0.0, \"is_present\": true, \"mean\": -405.26328520345754, \"std\": 508.2755101206707, \"err_low\": -1421.814305444799, \"err_high\": 611.2877350378837}, {\"time\": \"2009-02-18T04:30:00\", \"variable\": \"SW_IN\", \"value\": 0.0, \"is_present\": true, \"mean\": -408.07452513078084, \"std\": 508.2755101169484, \"err_low\": -1424.6255453646777, \"err_high\": 608.4764951031159}, {\"time\": \"2009-02-18T05:00:00\", \"variable\": \"SW_IN\", \"value\": 0.0, \"is_present\": true, \"mean\": -411.35385622288555, \"std\": 508.2755101163811, \"err_low\": -1427.9048764556478, \"err_high\": 605.1971640098766}, {\"time\": \"2009-02-18T05:30:00\", \"variable\": \"SW_IN\", \"value\": 0.0, \"is_present\": true, \"mean\": -412.11319350702587, \"std\": 508.27551011629305, \"err_low\": -1428.664213739612, \"err_high\": 604.4378267255602}, {\"time\": \"2009-02-18T06:00:00\", \"variable\": \"SW_IN\", \"value\": 0.0, \"is_present\": true, \"mean\": -413.8804065551993, \"std\": 508.2755101162795, \"err_low\": -1430.4314267877583, \"err_high\": 602.6706136773598}, {\"time\": \"2009-02-18T06:30:00\", \"variable\": \"SW_IN\", \"value\": 0.0, \"is_present\": true, \"mean\": -420.1690696533355, \"std\": 508.27551011627776, \"err_low\": -1436.720089885891, \"err_high\": 596.3819505792201}, {\"time\": \"2009-02-18T07:00:00\", \"variable\": \"SW_IN\", \"value\": 0.0, \"is_present\": true, \"mean\": -419.91774472255173, \"std\": 508.27551011627776, \"err_low\": -1436.4687649551072, \"err_high\": 596.6332755100038}, {\"time\": \"2009-02-18T07:30:00\", \"variable\": \"SW_IN\", \"value\": 0.0, \"is_present\": true, \"mean\": -417.430753830137, \"std\": 508.27551011627753, \"err_low\": -1433.981774062692, \"err_high\": 599.1202664024181}, {\"time\": \"2009-02-18T08:00:00\", \"variable\": \"SW_IN\", \"value\": 12.06, \"is_present\": true, \"mean\": -378.88000941042156, \"std\": 508.2755101162775, \"err_low\": -1395.4310296429765, \"err_high\": 637.6710108221334}, {\"time\": \"2009-02-18T08:30:00\", \"variable\": \"SW_IN\", \"value\": 44.19, \"is_present\": true, \"mean\": -288.0561084873745, \"std\": 508.27551011627656, \"err_low\": -1304.6071287199277, \"err_high\": 728.4949117451786}, {\"time\": \"2009-02-18T09:00:00\", \"variable\": \"SW_IN\", \"value\": 135.27, \"is_present\": true, \"mean\": -167.4473703976456, \"std\": 508.27551011627753, \"err_low\": -1183.9983906302007, \"err_high\": 849.1036498349094}, {\"time\": \"2009-02-18T09:30:00\", \"variable\": \"SW_IN\", \"value\": 209.87, \"is_present\": true, \"mean\": -14.157810719216187, \"std\": 508.2755101162769, \"err_low\": -1030.70883095177, \"err_high\": 1002.3932095133376}, {\"time\": \"2009-02-18T10:00:00\", \"variable\": \"SW_IN\", \"value\": 286.38, \"is_present\": true, \"mean\": 105.36011015822488, \"std\": 508.2755101162769, \"err_low\": -911.1909100743289, \"err_high\": 1121.9111303907787}, {\"time\": \"2009-02-18T10:30:00\", \"variable\": \"SW_IN\", \"value\": 344.39, \"is_present\": true, \"mean\": 251.35969565529905, \"std\": 508.27551011627753, \"err_low\": -765.191324577256, \"err_high\": 1267.9107158878542}, {\"time\": \"2009-02-18T11:00:00\", \"variable\": \"SW_IN\", \"value\": 372.21, \"is_present\": true, \"mean\": 400.7197208621029, \"std\": 508.2755101162771, \"err_low\": -615.8312993704512, \"err_high\": 1417.270741094657}, {\"time\": \"2009-02-18T11:30:00\", \"variable\": \"SW_IN\", \"value\": 427.62, \"is_present\": true, \"mean\": 488.8643862694631, \"std\": 508.2755101162769, \"err_low\": -527.6866339630907, \"err_high\": 1505.415406502017}, {\"time\": \"2009-02-18T12:00:00\", \"variable\": \"SW_IN\", \"value\": 440.89, \"is_present\": true, \"mean\": 555.8612973236873, \"std\": 508.27551011627736, \"err_low\": -460.68972290886745, \"err_high\": 1572.412317556242}, {\"time\": \"2009-02-18T12:30:00\", \"variable\": \"SW_IN\", \"value\": 361.76, \"is_present\": true, \"mean\": 610.5146360586787, \"std\": 508.2755101162769, \"err_low\": -406.03638417387515, \"err_high\": 1627.0656562912325}, {\"time\": \"2009-02-18T13:00:00\", \"variable\": \"SW_IN\", \"value\": 322.51, \"is_present\": true, \"mean\": 628.5006097100345, \"std\": 508.2755101162772, \"err_low\": -388.0504105225199, \"err_high\": 1645.051629942589}, {\"time\": \"2009-02-18T13:30:00\", \"variable\": \"SW_IN\", \"value\": 479.54, \"is_present\": true, \"mean\": 616.1974079707178, \"std\": 508.27551011627685, \"err_low\": -400.3536122618359, \"err_high\": 1632.7484282032715}, {\"time\": \"2009-02-18T14:00:00\", \"variable\": \"SW_IN\", \"value\": 446.35, \"is_present\": true, \"mean\": 657.6372014728039, \"std\": 508.27551011627673, \"err_low\": -358.9138187597496, \"err_high\": 1674.1882217053574}, {\"time\": \"2009-02-18T14:30:00\", \"variable\": \"SW_IN\", \"value\": 402.19, \"is_present\": true, \"mean\": 579.2902070353987, \"std\": 508.2755101162772, \"err_low\": -437.2608131971557, \"err_high\": 1595.841227267953}, {\"time\": \"2009-02-18T15:00:00\", \"variable\": \"SW_IN\", \"value\": 366.58, \"is_present\": true, \"mean\": 512.3791387626193, \"std\": 508.2755101162771, \"err_low\": -504.1718814699349, \"err_high\": 1528.9301589951733}, {\"time\": \"2009-02-18T15:30:00\", \"variable\": \"SW_IN\", \"value\": 252.27, \"is_present\": true, \"mean\": 442.35170160539883, \"std\": 508.2755101162772, \"err_low\": -574.1993186271555, \"err_high\": 1458.9027218379533}, {\"time\": \"2009-02-18T16:00:00\", \"variable\": \"SW_IN\", \"value\": 197.69, \"is_present\": true, \"mean\": 326.22212567206486, \"std\": 508.2755101162773, \"err_low\": -690.3288945604897, \"err_high\": 1342.7731459046195}, {\"time\": \"2009-02-18T16:30:00\", \"variable\": \"SW_IN\", \"value\": 136.19, \"is_present\": true, \"mean\": 162.51519681436162, \"std\": 508.2755101162775, \"err_low\": -854.0358234181933, \"err_high\": 1179.0662170469166}, {\"time\": \"2009-02-18T17:00:00\", \"variable\": \"SW_IN\", \"value\": 77.66, \"is_present\": true, \"mean\": -3.5112952693243784, \"std\": 508.2755101162784, \"err_low\": -1020.0623155018811, \"err_high\": 1013.0397249632324}, {\"time\": \"2009-02-18T17:30:00\", \"variable\": \"SW_IN\", \"value\": 25.57, \"is_present\": true, \"mean\": -132.78133732012913, \"std\": 508.27551011627673, \"err_low\": -1149.3323575526827, \"err_high\": 883.7696829124243}, {\"time\": \"2009-02-18T18:00:00\", \"variable\": \"SW_IN\", \"value\": 0.0, \"is_present\": true, \"mean\": -231.83467932387674, \"std\": 508.2755101162771, \"err_low\": -1248.3856995564308, \"err_high\": 784.7163409086775}, {\"time\": \"2009-02-18T18:30:00\", \"variable\": \"SW_IN\", \"value\": 0.0, \"is_present\": true, \"mean\": -296.18479722457516, \"std\": 508.2755101162772, \"err_low\": -1312.7358174571295, \"err_high\": 720.3662230079792}, {\"time\": \"2009-02-18T19:00:00\", \"variable\": \"SW_IN\", \"value\": 0.0, \"is_present\": true, \"mean\": -326.2634091427847, \"std\": 508.2755101162769, \"err_low\": -1342.8144293753385, \"err_high\": 690.2876110897691}, {\"time\": \"2009-02-18T19:30:00\", \"variable\": \"SW_IN\", \"value\": 0.0, \"is_present\": true, \"mean\": -351.8258070350049, \"std\": 508.27551011627776, \"err_low\": -1368.3768272675604, \"err_high\": 664.7252131975506}, {\"time\": \"2009-02-18T20:00:00\", \"variable\": \"SW_IN\", \"value\": 0.0, \"is_present\": true, \"mean\": -348.8900924284826, \"std\": 508.2755101162769, \"err_low\": -1365.4411126610364, \"err_high\": 667.6609278040712}, {\"time\": \"2009-02-18T20:30:00\", \"variable\": \"SW_IN\", \"value\": 0.0, \"is_present\": true, \"mean\": -337.1327194483639, \"std\": 508.27551011627736, \"err_low\": -1353.6837396809187, \"err_high\": 679.4183007841908}, {\"time\": \"2009-02-18T21:00:00\", \"variable\": \"SW_IN\", \"value\": 0.0, \"is_present\": true, \"mean\": -328.1918046710213, \"std\": 508.27551011627656, \"err_low\": -1344.7428249035745, \"err_high\": 688.3592155615318}, {\"time\": \"2009-02-18T21:30:00\", \"variable\": \"SW_IN\", \"value\": 0.0, \"is_present\": true, \"mean\": -326.82950547421046, \"std\": 508.2755101162769, \"err_low\": -1343.3805257067643, \"err_high\": 689.7215147583433}, {\"time\": \"2009-02-18T22:00:00\", \"variable\": \"SW_IN\", \"value\": 0.0, \"is_present\": true, \"mean\": -324.4018035391207, \"std\": 508.2755101162773, \"err_low\": -1340.9528237716754, \"err_high\": 692.1492166934339}, {\"time\": \"2009-02-18T22:30:00\", \"variable\": \"SW_IN\", \"value\": 0.0, \"is_present\": true, \"mean\": -327.7207871217718, \"std\": 508.2755101162771, \"err_low\": -1344.271807354326, \"err_high\": 688.8302331107823}, {\"time\": \"2009-02-18T23:00:00\", \"variable\": \"SW_IN\", \"value\": 0.0, \"is_present\": true, \"mean\": -334.5942654611137, \"std\": 508.2755101162769, \"err_low\": -1351.1452856936676, \"err_high\": 681.95675477144}, {\"time\": \"2009-02-18T23:30:00\", \"variable\": \"SW_IN\", \"value\": 0.0, \"is_present\": true, \"mean\": -346.9029762588659, \"std\": 508.27551011627736, \"err_low\": -1363.4539964914206, \"err_high\": 669.6480439736888}, {\"time\": \"2009-02-19T00:00:00\", \"variable\": \"SW_IN\", \"value\": 0.0, \"is_present\": true, \"mean\": -350.656654906206, \"std\": 508.27551011627764, \"err_low\": -1367.2076751387613, \"err_high\": 665.8943653263493}, {\"time\": \"2009-02-19T00:30:00\", \"variable\": \"SW_IN\", \"value\": 0.0, \"is_present\": true, \"mean\": -357.6598970791706, \"std\": 508.275510116277, \"err_low\": -1374.2109173117246, \"err_high\": 658.8911231533834}, {\"time\": \"2009-02-19T01:00:00\", \"variable\": \"SW_IN\", \"value\": 0.0, \"is_present\": true, \"mean\": -358.75679545517175, \"std\": 508.2755101162769, \"err_low\": -1375.3078156877255, \"err_high\": 657.794224777382}, {\"time\": \"2009-02-19T01:30:00\", \"variable\": \"SW_IN\", \"value\": 0.0, \"is_present\": true, \"mean\": -359.40029561699396, \"std\": 508.27551011627764, \"err_low\": -1375.9513158495492, \"err_high\": 657.1507246155613}, {\"time\": \"2009-02-19T02:00:00\", \"variable\": \"SW_IN\", \"value\": 0.0, \"is_present\": true, \"mean\": -359.2193512673884, \"std\": 508.27551011627753, \"err_low\": -1375.7703714999434, \"err_high\": 657.3316689651667}, {\"time\": \"2009-02-19T02:30:00\", \"variable\": \"SW_IN\", \"value\": 0.0, \"is_present\": true, \"mean\": -372.21525681054874, \"std\": 508.2755101162771, \"err_low\": -1388.766277043103, \"err_high\": 644.3357634220054}, {\"time\": \"2009-02-19T03:00:00\", \"variable\": \"SW_IN\", \"value\": 0.0, \"is_present\": true, \"mean\": -375.13299477453654, \"std\": 508.2755101162771, \"err_low\": -1391.6840150070907, \"err_high\": 641.4180254580176}, {\"time\": \"2009-02-19T03:30:00\", \"variable\": \"SW_IN\", \"value\": 0.0, \"is_present\": true, \"mean\": -380.4867087961616, \"std\": 508.27551011627776, \"err_low\": -1397.0377290287172, \"err_high\": 636.0643114363938}, {\"time\": \"2009-02-19T04:00:00\", \"variable\": \"SW_IN\", \"value\": 0.0, \"is_present\": true, \"mean\": -388.86050865982, \"std\": 508.2755101162771, \"err_low\": -1405.4115288923742, \"err_high\": 627.6905115727341}, {\"time\": \"2009-02-19T04:30:00\", \"variable\": \"SW_IN\", \"value\": 0.0, \"is_present\": true, \"mean\": -379.8803144463637, \"std\": 508.27551011627645, \"err_low\": -1396.4313346789165, \"err_high\": 636.6707057861893}, {\"time\": \"2009-02-19T05:00:00\", \"variable\": \"SW_IN\", \"value\": 0.0, \"is_present\": true, \"mean\": -377.670881354924, \"std\": 508.2755101162772, \"err_low\": -1394.2219015874784, \"err_high\": 638.8801388776303}, {\"time\": \"2009-02-19T05:30:00\", \"variable\": \"SW_IN\", \"value\": 0.0, \"is_present\": true, \"mean\": -377.482802568622, \"std\": 508.2755101162771, \"err_low\": -1394.033822801176, \"err_high\": 639.0682176639322}, {\"time\": \"2009-02-19T06:00:00\", \"variable\": \"SW_IN\", \"value\": 0.0, \"is_present\": true, \"mean\": -369.2041488764697, \"std\": 508.27551011627736, \"err_low\": -1385.7551691090243, \"err_high\": 647.3468713560851}, {\"time\": \"2009-02-19T06:30:00\", \"variable\": \"SW_IN\", \"value\": 0.0, \"is_present\": true, \"mean\": -363.8192055081465, \"std\": 508.2755101162773, \"err_low\": -1380.3702257407012, \"err_high\": 652.7318147244081}, {\"time\": \"2009-02-19T07:00:00\", \"variable\": \"SW_IN\", \"value\": 0.0, \"is_present\": true, \"mean\": -371.141603362232, \"std\": 508.27551011627673, \"err_low\": -1387.6926235947853, \"err_high\": 645.4094168703215}, {\"time\": \"2009-02-19T07:30:00\", \"variable\": \"SW_IN\", \"value\": 0.87, \"is_present\": true, \"mean\": -370.41910697517176, \"std\": 508.27551011627776, \"err_low\": -1386.9701272077273, \"err_high\": 646.1319132573838}, {\"time\": \"2009-02-19T08:00:00\", \"variable\": \"SW_IN\", \"value\": 21.3, \"is_present\": true, \"mean\": -326.7284230344567, \"std\": 508.27551011627736, \"err_low\": -1343.2794432670114, \"err_high\": 689.822597198098}, {\"time\": \"2009-02-19T08:30:00\", \"variable\": \"SW_IN\", \"value\": 46.35, \"is_present\": true, \"mean\": -237.19695324773357, \"std\": 508.2755101162771, \"err_low\": -1253.7479734802878, \"err_high\": 779.3540669848205}, {\"time\": \"2009-02-19T09:00:00\", \"variable\": \"SW_IN\", \"value\": 104.24, \"is_present\": true, \"mean\": -125.45849368936776, \"std\": 508.2755101162773, \"err_low\": -1142.0095139219225, \"err_high\": 891.0925265431869}, {\"time\": \"2009-02-19T09:30:00\", \"variable\": \"SW_IN\", \"value\": 207.85, \"is_present\": true, \"mean\": -6.679787258498237, \"std\": 508.2755101162775, \"err_low\": -1023.2308074910532, \"err_high\": 1009.8712329740567}, {\"time\": \"2009-02-19T10:00:00\", \"variable\": \"SW_IN\", \"value\": 289.46, \"is_present\": true, \"mean\": 132.70214221189127, \"std\": 508.2755101162769, \"err_low\": -883.8488780206626, \"err_high\": 1149.253162444445}, {\"time\": \"2009-02-19T10:30:00\", \"variable\": \"SW_IN\", \"value\": 350.51, \"is_present\": true, \"mean\": 308.4615266691259, \"std\": 508.27551011627673, \"err_low\": -708.0894935634276, \"err_high\": 1325.0125469016793}, {\"time\": \"2009-02-19T11:00:00\", \"variable\": \"SW_IN\", \"value\": 399.6, \"is_present\": true, \"mean\": 463.72137311893374, \"std\": 508.2755101162775, \"err_low\": -552.8296471136211, \"err_high\": 1480.2723933514887}, {\"time\": \"2009-02-19T11:30:00\", \"variable\": \"SW_IN\", \"value\": 438.38, \"is_present\": true, \"mean\": 571.3368908405225, \"std\": 508.2755101162771, \"err_low\": -445.2141293920316, \"err_high\": 1587.8879110730768}, {\"time\": \"2009-02-19T12:00:00\", \"variable\": \"SW_IN\", \"value\": 468.46, \"is_present\": true, \"mean\": 656.3185762666363, \"std\": 508.2755101162773, \"err_low\": -360.23244396591826, \"err_high\": 1672.869596499191}, {\"time\": \"2009-02-19T12:30:00\", \"variable\": \"SW_IN\", \"value\": 476.37, \"is_present\": true, \"mean\": 718.552931807576, \"std\": 508.275510116277, \"err_low\": -297.99808842497805, \"err_high\": 1735.10395204013}], \"data-7503f97d524466db343e45a60823f5b3\": [{\"time\": \"2009-02-15T09:00:00\", \"variable\": \"VPD\", \"value\": 0.16, \"is_present\": true, \"mean\": 7.23660337108244, \"std\": 8.3300876980742, \"err_low\": -9.42357202506596, \"err_high\": 23.896778767230842}, {\"time\": \"2009-02-15T09:30:00\", \"variable\": \"VPD\", \"value\": 0.162, \"is_present\": true, \"mean\": -14.48597732493317, \"std\": 11.839657092095774, \"err_low\": -38.165291509124714, \"err_high\": 9.193336859258377}, {\"time\": \"2009-02-15T10:00:00\", \"variable\": \"VPD\", \"value\": 0.174, \"is_present\": true, \"mean\": -12.531267037430283, \"std\": 12.125582425118541, \"err_low\": -36.782431887667364, \"err_high\": 11.7198978128068}, {\"time\": \"2009-02-15T10:30:00\", \"variable\": \"VPD\", \"value\": 0.271, \"is_present\": true, \"mean\": -5.497305972062255, \"std\": 12.07240110508741, \"err_low\": -29.642108182237074, \"err_high\": 18.647496238112566}, {\"time\": \"2009-02-15T11:00:00\", \"variable\": \"VPD\", \"value\": 0.447, \"is_present\": true, \"mean\": -1.3871796193413095, \"std\": 12.06372946628001, \"err_low\": -25.51463855190133, \"err_high\": 22.74027931321871}, {\"time\": \"2009-02-15T11:30:00\", \"variable\": \"VPD\", \"value\": 0.688, \"is_present\": true, \"mean\": 2.3614460104073576, \"std\": 12.062244641414978, \"err_low\": -21.7630432724226, \"err_high\": 26.48593529323731}, {\"time\": \"2009-02-15T12:00:00\", \"variable\": \"VPD\", \"value\": 0.808, \"is_present\": true, \"mean\": 4.786732452852858, \"std\": 12.062015204819165, \"err_low\": -19.33729795678547, \"err_high\": 28.91076286249119}, {\"time\": \"2009-02-15T12:30:00\", \"variable\": \"VPD\", \"value\": 0.782, \"is_present\": true, \"mean\": 5.492202558877263, \"std\": 12.061979344435377, \"err_low\": -18.63175612999349, \"err_high\": 29.616161247748018}, {\"time\": \"2009-02-15T13:00:00\", \"variable\": \"VPD\", \"value\": 0.675, \"is_present\": true, \"mean\": 5.641319928312924, \"std\": 12.0619738318277, \"err_low\": -18.482627735342476, \"err_high\": 29.765267591968325}, {\"time\": \"2009-02-15T13:30:00\", \"variable\": \"VPD\", \"value\": 0.792, \"is_present\": true, \"mean\": 4.6411909547726635, \"std\": 12.061972978702551, \"err_low\": -19.482755002632437, \"err_high\": 28.765136912177766}, {\"time\": \"2009-02-15T14:00:00\", \"variable\": \"VPD\", \"value\": 0.711, \"is_present\": true, \"mean\": 2.453242328236109, \"std\": 12.061972847426299, \"err_low\": -21.67070336661649, \"err_high\": 26.577188023088706}, {\"time\": \"2009-02-15T14:30:00\", \"variable\": \"VPD\", \"value\": 0.681, \"is_present\": true, \"mean\": -0.41281553627315803, \"std\": 12.061972827156659, \"err_low\": -24.536761190586475, \"err_high\": 23.71113011804016}, {\"time\": \"2009-02-15T15:00:00\", \"variable\": \"VPD\", \"value\": 0.719, \"is_present\": true, \"mean\": -1.4288568157893247, \"std\": 12.06197282403467, \"err_low\": -25.552802463858665, \"err_high\": 22.695088832280017}, {\"time\": \"2009-02-15T15:30:00\", \"variable\": \"VPD\", \"value\": 0.757, \"is_present\": true, \"mean\": -1.164277541151117, \"std\": 12.061972823553049, \"err_low\": -25.288223188257213, \"err_high\": 22.959668105954982}, {\"time\": \"2009-02-15T16:00:00\", \"variable\": \"VPD\", \"value\": 0.742, \"is_present\": true, \"mean\": -2.9160723201420886, \"std\": 12.061972823478811, \"err_low\": -27.04001796709971, \"err_high\": 21.207873326815534}, {\"time\": \"2009-02-15T16:30:00\", \"variable\": \"VPD\", \"value\": 0.721, \"is_present\": true, \"mean\": -4.7987571642435745, \"std\": 12.061972823467379, \"err_low\": -28.922702811178333, \"err_high\": 19.325188482691182}, {\"time\": \"2009-02-15T17:00:00\", \"variable\": \"VPD\", \"value\": 0.684, \"is_present\": true, \"mean\": -7.079568310262627, \"std\": 12.061972823465617, \"err_low\": -31.20351395719386, \"err_high\": 17.044377336668607}, {\"time\": \"2009-02-15T17:30:00\", \"variable\": \"VPD\", \"value\": 0.648, \"is_present\": true, \"mean\": -8.186828732437416, \"std\": 12.061972823465348, \"err_low\": -32.31077437936811, \"err_high\": 15.93711691449328}, {\"time\": \"2009-02-15T18:00:00\", \"variable\": \"VPD\", \"value\": 0.604, \"is_present\": true, \"mean\": -8.916623976976279, \"std\": 12.061972823465318, \"err_low\": -33.04056962390692, \"err_high\": 15.207321669954357}, {\"time\": \"2009-02-15T18:30:00\", \"variable\": \"VPD\", \"value\": 0.487, \"is_present\": true, \"mean\": -9.318615333704969, \"std\": 12.061972823465297, \"err_low\": -33.44256098063556, \"err_high\": 14.805330313225625}, {\"time\": \"2009-02-15T19:00:00\", \"variable\": \"VPD\", \"value\": 0.292, \"is_present\": true, \"mean\": -9.620082960106387, \"std\": 12.06197282346529, \"err_low\": -33.74402860703697, \"err_high\": 14.503862686824192}, {\"time\": \"2009-02-15T19:30:00\", \"variable\": \"VPD\", \"value\": 0.166, \"is_present\": true, \"mean\": -10.081450549963662, \"std\": 12.061972823465307, \"err_low\": -34.20539619689428, \"err_high\": 14.042495096966952}, {\"time\": \"2009-02-15T20:00:00\", \"variable\": \"VPD\", \"value\": 0.087, \"is_present\": true, \"mean\": -10.308919042857934, \"std\": 12.061972823465288, \"err_low\": -34.43286468978851, \"err_high\": 13.815026604072642}, {\"time\": \"2009-02-15T20:30:00\", \"variable\": \"VPD\", \"value\": 0.057, \"is_present\": true, \"mean\": -10.395846018585647, \"std\": 12.061972823465307, \"err_low\": -34.519791665516266, \"err_high\": 13.728099628344967}, {\"time\": \"2009-02-15T21:00:00\", \"variable\": \"VPD\", \"value\": 0.062, \"is_present\": true, \"mean\": -10.423480395470808, \"std\": 12.061972823465284, \"err_low\": -34.547426042401376, \"err_high\": 13.700465251459761}, {\"time\": \"2009-02-15T21:30:00\", \"variable\": \"VPD\", \"value\": 0.083, \"is_present\": true, \"mean\": -10.43394173299535, \"std\": 12.061972823465304, \"err_low\": -34.55788737992596, \"err_high\": 13.690003913935257}, {\"time\": \"2009-02-15T22:00:00\", \"variable\": \"VPD\", \"value\": 0.077, \"is_present\": true, \"mean\": -10.45878197238439, \"std\": 12.06197282346528, \"err_low\": -34.58272761931495, \"err_high\": 13.665163674546172}, {\"time\": \"2009-02-15T22:30:00\", \"variable\": \"VPD\", \"value\": 0.066, \"is_present\": true, \"mean\": -10.554779273181193, \"std\": 12.061972823465295, \"err_low\": -34.67872492011178, \"err_high\": 13.569166373749397}, {\"time\": \"2009-02-15T23:00:00\", \"variable\": \"VPD\", \"value\": 0.07, \"is_present\": true, \"mean\": -10.629937450398113, \"std\": 12.061972823465302, \"err_low\": -34.75388309732872, \"err_high\": 13.49400819653249}, {\"time\": \"2009-02-15T23:30:00\", \"variable\": \"VPD\", \"value\": 0.055, \"is_present\": true, \"mean\": -10.678313361768218, \"std\": 12.061972823465297, \"err_low\": -34.80225900869881, \"err_high\": 13.445632285162375}, {\"time\": \"2009-02-16T00:00:00\", \"variable\": \"VPD\", \"value\": 0.049, \"is_present\": true, \"mean\": -10.758164527696245, \"std\": 12.061972823465307, \"err_low\": -34.88211017462686, \"err_high\": 13.36578111923437}, {\"time\": \"2009-02-16T00:30:00\", \"variable\": \"VPD\", \"value\": 0.056, \"is_present\": true, \"mean\": -10.825284776828774, \"std\": 12.061972823465295, \"err_low\": -34.94923042375936, \"err_high\": 13.298660870101816}, {\"time\": \"2009-02-16T01:00:00\", \"variable\": \"VPD\", \"value\": 0.058, \"is_present\": true, \"mean\": -10.871525905369708, \"std\": 12.061972823465307, \"err_low\": -34.99547155230032, \"err_high\": 13.252419741560907}, {\"time\": \"2009-02-16T01:30:00\", \"variable\": \"VPD\", \"value\": 0.058, \"is_present\": true, \"mean\": -10.93366861490431, \"std\": 12.061972823465304, \"err_low\": -35.057614261834914, \"err_high\": 13.190277032026298}, {\"time\": \"2009-02-16T02:00:00\", \"variable\": \"VPD\", \"value\": 0.055, \"is_present\": true, \"mean\": -11.017393850098323, \"std\": 12.061972823465302, \"err_low\": -35.14133949702892, \"err_high\": 13.106551796832282}, {\"time\": \"2009-02-16T02:30:00\", \"variable\": \"VPD\", \"value\": 0.039, \"is_present\": true, \"mean\": -11.098102100263645, \"std\": 12.061972823465295, \"err_low\": -35.22204774719424, \"err_high\": 13.025843546666945}, {\"time\": \"2009-02-16T03:00:00\", \"variable\": \"VPD\", \"value\": 0.026, \"is_present\": true, \"mean\": -11.184407905189858, \"std\": 12.061972823465302, \"err_low\": -35.308353552120465, \"err_high\": 12.939537741740747}, {\"time\": \"2009-02-16T03:30:00\", \"variable\": \"VPD\", \"value\": 0.018, \"is_present\": true, \"mean\": -11.240074180603393, \"std\": 12.061972823465306, \"err_low\": -35.36401982753401, \"err_high\": 12.883871466327218}, {\"time\": \"2009-02-16T04:00:00\", \"variable\": \"VPD\", \"value\": 0.005, \"is_present\": true, \"mean\": -11.286911447182415, \"std\": 12.061972823465311, \"err_low\": -35.41085709411304, \"err_high\": 12.837034199748206}, {\"time\": \"2009-02-16T04:30:00\", \"variable\": \"VPD\", \"value\": 0.0, \"is_present\": true, \"mean\": -11.349537868372988, \"std\": 12.061972823465293, \"err_low\": -35.47348351530357, \"err_high\": 12.774407778557599}, {\"time\": \"2009-02-16T05:00:00\", \"variable\": \"VPD\", \"value\": 0.0, \"is_present\": true, \"mean\": -11.316973520792043, \"std\": 12.061972823465302, \"err_low\": -35.44091916772265, \"err_high\": 12.806972126138561}, {\"time\": \"2009-02-16T05:30:00\", \"variable\": \"VPD\", \"value\": 0.0, \"is_present\": true, \"mean\": -11.27310251656493, \"std\": 12.061972823465295, \"err_low\": -35.39704816349552, \"err_high\": 12.85084313036566}, {\"time\": \"2009-02-16T06:00:00\", \"variable\": \"VPD\", \"value\": 0.0, \"is_present\": true, \"mean\": -11.24844003579286, \"std\": 12.06197282346528, \"err_low\": -35.37238568272342, \"err_high\": 12.8755056111377}, {\"time\": \"2009-02-16T06:30:00\", \"variable\": \"VPD\", \"value\": 0.0, \"is_present\": true, \"mean\": -11.246290011313004, \"std\": 12.061972823465306, \"err_low\": -35.370235658243615, \"err_high\": 12.877655635617607}, {\"time\": \"2009-02-16T07:00:00\", \"variable\": \"VPD\", \"value\": 0.0, \"is_present\": true, \"mean\": -11.244663499420401, \"std\": 12.061972823465297, \"err_low\": -35.36860914635099, \"err_high\": 12.879282147510192}, {\"time\": \"2009-02-16T07:30:00\", \"variable\": \"VPD\", \"value\": 0.0, \"is_present\": true, \"mean\": -11.238636642146975, \"std\": 12.061972823465295, \"err_low\": -35.362582289077565, \"err_high\": 12.885309004783615}, {\"time\": \"2009-02-16T08:00:00\", \"variable\": \"VPD\", \"value\": 0.0, \"is_present\": true, \"mean\": -11.123921498774148, \"std\": 12.061972823465297, \"err_low\": -35.247867145704745, \"err_high\": 13.000024148156445}, {\"time\": \"2009-02-16T08:30:00\", \"variable\": \"VPD\", \"value\": 0.0, \"is_present\": true, \"mean\": -10.750858176843742, \"std\": 12.061972823465293, \"err_low\": -34.87480382377433, \"err_high\": 13.373087470086844}, {\"time\": \"2009-02-16T09:00:00\", \"variable\": \"VPD\", \"value\": 0.0, \"is_present\": true, \"mean\": -10.220727865056695, \"std\": 12.061972823465286, \"err_low\": -34.34467351198727, \"err_high\": 13.903217781873877}, {\"time\": \"2009-02-16T09:30:00\", \"variable\": \"VPD\", \"value\": 0.0, \"is_present\": true, \"mean\": -9.579329746675082, \"std\": 12.061972823465295, \"err_low\": -33.70327539360567, \"err_high\": 14.544615900255508}, {\"time\": \"2009-02-16T10:00:00\", \"variable\": \"VPD\", \"value\": 0.0, \"is_present\": true, \"mean\": -9.08592891343217, \"std\": 12.061972823465288, \"err_low\": -33.20987456036275, \"err_high\": 15.038016733498406}, {\"time\": \"2009-02-16T10:30:00\", \"variable\": \"VPD\", \"value\": 0.0, \"is_present\": true, \"mean\": -7.804086081813733, \"std\": 12.061972823465306, \"err_low\": -31.928031728744344, \"err_high\": 16.31985956511688}, {\"time\": \"2009-02-16T11:00:00\", \"variable\": \"VPD\", \"value\": 0.0, \"is_present\": true, \"mean\": -6.603875979105381, \"std\": 12.061972823465299, \"err_low\": -30.72782162603598, \"err_high\": 17.520069667825215}, {\"time\": \"2009-02-16T11:30:00\", \"variable\": \"VPD\", \"value\": 0.0, \"is_present\": true, \"mean\": -4.967805515835438, \"std\": 12.061972823465295, \"err_low\": -29.091751162766027, \"err_high\": 19.156140131095153}, {\"time\": \"2009-02-16T12:00:00\", \"variable\": \"VPD\", \"value\": 0.0, \"is_present\": true, \"mean\": -4.591747473939375, \"std\": 12.061972823465288, \"err_low\": -28.71569312086995, \"err_high\": 19.5321981729912}, {\"time\": \"2009-02-16T12:30:00\", \"variable\": \"VPD\", \"value\": 0.0, \"is_present\": true, \"mean\": -4.59462794461174, \"std\": 12.061972823465293, \"err_low\": -28.718573591542327, \"err_high\": 19.529317702318846}, {\"time\": \"2009-02-16T13:00:00\", \"variable\": \"VPD\", \"value\": 0.0, \"is_present\": true, \"mean\": -5.210777646882817, \"std\": 12.061972823465297, \"err_low\": -29.33472329381341, \"err_high\": 18.913168000047776}, {\"time\": \"2009-02-16T13:30:00\", \"variable\": \"VPD\", \"value\": 0.0, \"is_present\": true, \"mean\": -4.662777110489347, \"std\": 12.061972823465302, \"err_low\": -28.786722757419952, \"err_high\": 19.461168536441257}, {\"time\": \"2009-02-16T14:00:00\", \"variable\": \"VPD\", \"value\": 0.0, \"is_present\": true, \"mean\": -4.11831549292098, \"std\": 12.061972823465295, \"err_low\": -28.24226113985157, \"err_high\": 20.00563015400961}, {\"time\": \"2009-02-16T14:30:00\", \"variable\": \"VPD\", \"value\": 0.0, \"is_present\": true, \"mean\": -4.368388457106088, \"std\": 12.061972823465291, \"err_low\": -28.492334104036672, \"err_high\": 19.755557189824493}, {\"time\": \"2009-02-16T15:00:00\", \"variable\": \"VPD\", \"value\": 0.0, \"is_present\": true, \"mean\": -5.162796817034683, \"std\": 12.061972823465288, \"err_low\": -29.286742463965258, \"err_high\": 18.961148829895894}, {\"time\": \"2009-02-16T15:30:00\", \"variable\": \"VPD\", \"value\": 0.0, \"is_present\": true, \"mean\": -6.160325161605734, \"std\": 12.061972823465295, \"err_low\": -30.284270808536323, \"err_high\": 17.963620485324856}, {\"time\": \"2009-02-16T16:00:00\", \"variable\": \"VPD\", \"value\": 0.0, \"is_present\": true, \"mean\": -6.7552015641898615, \"std\": 12.061972823465299, \"err_low\": -30.879147211120458, \"err_high\": 17.368744082740736}, {\"time\": \"2009-02-16T16:30:00\", \"variable\": \"VPD\", \"value\": 0.0, \"is_present\": true, \"mean\": -7.99165938619092, \"std\": 12.061972823465288, \"err_low\": -32.1156050331215, \"err_high\": 16.132286260739654}, {\"time\": \"2009-02-16T17:00:00\", \"variable\": \"VPD\", \"value\": 0.0, \"is_present\": true, \"mean\": -9.263949912191162, \"std\": 12.061972823465284, \"err_low\": -33.38789555912173, \"err_high\": 14.859995734739407}, {\"time\": \"2009-02-16T17:30:00\", \"variable\": \"VPD\", \"value\": 0.0, \"is_present\": true, \"mean\": -9.858428376257589, \"std\": 12.061972823465288, \"err_low\": -33.982374023188164, \"err_high\": 14.265517270672987}, {\"time\": \"2009-02-16T18:00:00\", \"variable\": \"VPD\", \"value\": 0.0, \"is_present\": true, \"mean\": -10.233416020168857, \"std\": 12.061972823465288, \"err_low\": -34.35736166709943, \"err_high\": 13.890529626761719}, {\"time\": \"2009-02-16T18:30:00\", \"variable\": \"VPD\", \"value\": 0.0, \"is_present\": true, \"mean\": -10.43050815982999, \"std\": 12.061972823465302, \"err_low\": -34.55445380676059, \"err_high\": 13.693437487100613}, {\"time\": \"2009-02-16T19:00:00\", \"variable\": \"VPD\", \"value\": 0.0, \"is_present\": true, \"mean\": -10.523168415882981, \"std\": 12.061972823465295, \"err_low\": -34.64711406281357, \"err_high\": 13.600777231047608}, {\"time\": \"2009-02-16T19:30:00\", \"variable\": \"VPD\", \"value\": 0.0, \"is_present\": true, \"mean\": -10.631158556710226, \"std\": 12.061972823465315, \"err_low\": -34.755104203640855, \"err_high\": 13.492787090220403}, {\"time\": \"2009-02-16T20:00:00\", \"variable\": \"VPD\", \"value\": 0.0, \"is_present\": true, \"mean\": -10.648872150050376, \"std\": 12.061972823465295, \"err_low\": -34.772817796980966, \"err_high\": 13.475073496880213}, {\"time\": \"2009-02-16T20:30:00\", \"variable\": \"VPD\", \"value\": 0.0, \"is_present\": true, \"mean\": -10.643352276389965, \"std\": 12.061972823465297, \"err_low\": -34.767297923320555, \"err_high\": 13.480593370540628}, {\"time\": \"2009-02-16T21:00:00\", \"variable\": \"VPD\", \"value\": 0.0, \"is_present\": true, \"mean\": -10.660978722801143, \"std\": 12.061972823465295, \"err_low\": -34.78492436973173, \"err_high\": 13.462966924129447}, {\"time\": \"2009-02-16T21:30:00\", \"variable\": \"VPD\", \"value\": 0.0, \"is_present\": true, \"mean\": -10.697324049927285, \"std\": 12.061972823465293, \"err_low\": -34.82126969685787, \"err_high\": 13.426621597003301}, {\"time\": \"2009-02-16T22:00:00\", \"variable\": \"VPD\", \"value\": 0.0, \"is_present\": true, \"mean\": -10.766116277304722, \"std\": 12.061972823465313, \"err_low\": -34.89006192423535, \"err_high\": 13.357829369625904}, {\"time\": \"2009-02-16T22:30:00\", \"variable\": \"VPD\", \"value\": 0.0, \"is_present\": true, \"mean\": -10.82461546367518, \"std\": 12.061972823465302, \"err_low\": -34.94856111060578, \"err_high\": 13.299330183255424}, {\"time\": \"2009-02-16T23:00:00\", \"variable\": \"VPD\", \"value\": 0.0, \"is_present\": true, \"mean\": -10.870686882895203, \"std\": 12.061972823465306, \"err_low\": -34.994632529825815, \"err_high\": 13.253258764035408}, {\"time\": \"2009-02-16T23:30:00\", \"variable\": \"VPD\", \"value\": 0.0, \"is_present\": true, \"mean\": -10.907842521922152, \"std\": 12.061972823465293, \"err_low\": -35.03178816885274, \"err_high\": 13.216103125008434}, {\"time\": \"2009-02-17T00:00:00\", \"variable\": \"VPD\", \"value\": 0.0, \"is_present\": true, \"mean\": -10.922836161202323, \"std\": 12.061972823465299, \"err_low\": -35.04678180813292, \"err_high\": 13.201109485728274}, {\"time\": \"2009-02-17T00:30:00\", \"variable\": \"VPD\", \"value\": 0.0, \"is_present\": true, \"mean\": -10.955315894385208, \"std\": 12.06197282346531, \"err_low\": -35.07926154131583, \"err_high\": 13.16862975254541}, {\"time\": \"2009-02-17T01:00:00\", \"variable\": \"VPD\", \"value\": 0.0, \"is_present\": true, \"mean\": -10.98254920626374, \"std\": 12.061972823465288, \"err_low\": -35.10649485319432, \"err_high\": 13.141396440666835}, {\"time\": \"2009-02-17T01:30:00\", \"variable\": \"VPD\", \"value\": 0.0, \"is_present\": true, \"mean\": -11.017575683068937, \"std\": 12.061972823465288, \"err_low\": -35.14152132999951, \"err_high\": 13.106369963861638}, {\"time\": \"2009-02-17T02:00:00\", \"variable\": \"VPD\", \"value\": 0.0, \"is_present\": true, \"mean\": -11.116865042347747, \"std\": 12.061972823465302, \"err_low\": -35.24081068927835, \"err_high\": 13.007080604582857}, {\"time\": \"2009-02-17T02:30:00\", \"variable\": \"VPD\", \"value\": 0.0, \"is_present\": true, \"mean\": -11.208676803648068, \"std\": 12.061972823465288, \"err_low\": -35.33262245057864, \"err_high\": 12.915268843282508}, {\"time\": \"2009-02-17T03:00:00\", \"variable\": \"VPD\", \"value\": 0.0, \"is_present\": true, \"mean\": -11.240579098934237, \"std\": 12.061972823465295, \"err_low\": -35.36452474586483, \"err_high\": 12.883366547996353}, {\"time\": \"2009-02-17T03:30:00\", \"variable\": \"VPD\", \"value\": 0.0, \"is_present\": true, \"mean\": -11.236877053811394, \"std\": 12.061972823465295, \"err_low\": -35.360822700741984, \"err_high\": 12.887068593119196}, {\"time\": \"2009-02-17T04:00:00\", \"variable\": \"VPD\", \"value\": 0.0, \"is_present\": true, \"mean\": -11.202166357589743, \"std\": 12.061972823465302, \"err_low\": -35.32611200452035, \"err_high\": 12.921779289340861}, {\"time\": \"2009-02-17T04:30:00\", \"variable\": \"VPD\", \"value\": 0.0, \"is_present\": true, \"mean\": -11.195131920132116, \"std\": 12.061972823465288, \"err_low\": -35.31907756706269, \"err_high\": 12.92881372679846}, {\"time\": \"2009-02-17T05:00:00\", \"variable\": \"VPD\", \"value\": 0.0, \"is_present\": true, \"mean\": -11.229046821077148, \"std\": 12.061972823465307, \"err_low\": -35.35299246800776, \"err_high\": 12.894898825853467}, {\"time\": \"2009-02-17T05:30:00\", \"variable\": \"VPD\", \"value\": 0.0, \"is_present\": true, \"mean\": -11.270726308823118, \"std\": 12.061972823465302, \"err_low\": -35.39467195575372, \"err_high\": 12.853219338107486}, {\"time\": \"2009-02-17T06:00:00\", \"variable\": \"VPD\", \"value\": 0.0, \"is_present\": true, \"mean\": -11.280511652215644, \"std\": 12.061972823465297, \"err_low\": -35.40445729914624, \"err_high\": 12.84343399471495}, {\"time\": \"2009-02-17T06:30:00\", \"variable\": \"VPD\", \"value\": 0.0, \"is_present\": true, \"mean\": -11.297143649955494, \"std\": 12.061972823465307, \"err_low\": -35.42108929688611, \"err_high\": 12.82680199697512}, {\"time\": \"2009-02-17T07:00:00\", \"variable\": \"VPD\", \"value\": 0.0, \"is_present\": true, \"mean\": -11.362348510194234, \"std\": 12.061972823465288, \"err_low\": -35.48629415712481, \"err_high\": 12.761597136736341}, {\"time\": \"2009-02-17T07:30:00\", \"variable\": \"VPD\", \"value\": 0.0, \"is_present\": true, \"mean\": -11.649317952466987, \"std\": 12.061972823465295, \"err_low\": -35.77326359939758, \"err_high\": 12.474627694463603}, {\"time\": \"2009-02-17T08:00:00\", \"variable\": \"VPD\", \"value\": 0.0, \"is_present\": true, \"mean\": -11.664372738389282, \"std\": 12.061972823465288, \"err_low\": -35.788318385319855, \"err_high\": 12.459572908541293}, {\"time\": \"2009-02-17T08:30:00\", \"variable\": \"VPD\", \"value\": 0.0, \"is_present\": true, \"mean\": -11.39078818257854, \"std\": 12.061972823465302, \"err_low\": -35.51473382950914, \"err_high\": 12.733157464352065}, {\"time\": \"2009-02-17T09:00:00\", \"variable\": \"VPD\", \"value\": 0.0, \"is_present\": true, \"mean\": -11.063062948847662, \"std\": 12.061972823465302, \"err_low\": -35.187008595778266, \"err_high\": 13.060882698082942}, {\"time\": \"2009-02-17T09:30:00\", \"variable\": \"VPD\", \"value\": 0.0, \"is_present\": true, \"mean\": -10.545329802714281, \"std\": 12.061972823465297, \"err_low\": -34.66927544964487, \"err_high\": 13.578615844216312}, {\"time\": \"2009-02-17T10:00:00\", \"variable\": \"VPD\", \"value\": 0.0, \"is_present\": true, \"mean\": -10.11144036216934, \"std\": 12.061972823465323, \"err_low\": -34.23538600909998, \"err_high\": 14.012505284761307}, {\"time\": \"2009-02-17T10:30:00\", \"variable\": \"VPD\", \"value\": 0.0, \"is_present\": true, \"mean\": -6.6278903836059415, \"std\": 12.061972823465302, \"err_low\": -30.751836030536545, \"err_high\": 17.496055263324664}, {\"time\": \"2009-02-17T11:00:00\", \"variable\": \"VPD\", \"value\": 0.0, \"is_present\": true, \"mean\": -2.1973353716669264, \"std\": 12.061972823465295, \"err_low\": -26.321281018597517, \"err_high\": 21.926610275263663}, {\"time\": \"2009-02-17T11:30:00\", \"variable\": \"VPD\", \"value\": 0.005, \"is_present\": true, \"mean\": -0.6463582765561338, \"std\": 12.061972823465293, \"err_low\": -24.770303923486722, \"err_high\": 23.47758737037445}, {\"time\": \"2009-02-17T12:00:00\", \"variable\": \"VPD\", \"value\": 0.014, \"is_present\": true, \"mean\": 0.7087274942622508, \"std\": 12.061972823465306, \"err_low\": -23.41521815266836, \"err_high\": 24.832673141192863}, {\"time\": \"2009-02-17T12:30:00\", \"variable\": \"VPD\", \"value\": 0.018, \"is_present\": true, \"mean\": 1.8132073430265796, \"std\": 12.061972823465299, \"err_low\": -22.310738303904017, \"err_high\": 25.937152989957177}, {\"time\": \"2009-02-17T13:00:00\", \"variable\": \"VPD\", \"value\": 0.027, \"is_present\": true, \"mean\": 3.317840263627097, \"std\": 12.061972823465293, \"err_low\": -20.80610538330349, \"err_high\": 27.441785910557684}, {\"time\": \"2009-02-17T13:30:00\", \"variable\": \"VPD\", \"value\": 0.045, \"is_present\": true, \"mean\": 4.674061376685371, \"std\": 12.061972823465311, \"err_low\": -19.44988427024525, \"err_high\": 28.798007023615995}, {\"time\": \"2009-02-17T14:00:00\", \"variable\": \"VPD\", \"value\": 0.063, \"is_present\": true, \"mean\": 5.267319229648133, \"std\": 12.061972823465318, \"err_low\": -18.856626417282502, \"err_high\": 29.39126487657877}, {\"time\": \"2009-02-17T14:30:00\", \"variable\": \"VPD\", \"value\": 0.085, \"is_present\": true, \"mean\": 4.968020546009898, \"std\": 12.061972823465288, \"err_low\": -19.155925100920676, \"err_high\": 29.091966192940475}, {\"time\": \"2009-02-17T15:00:00\", \"variable\": \"VPD\", \"value\": 0.146, \"is_present\": true, \"mean\": 4.567922662084044, \"std\": 12.061972823465302, \"err_low\": -19.55602298484656, \"err_high\": 28.691868309014648}, {\"time\": \"2009-02-17T15:30:00\", \"variable\": \"VPD\", \"value\": 0.259, \"is_present\": true, \"mean\": 2.979383499281539, \"std\": 12.06197282346528, \"err_low\": -21.144562147649022, \"err_high\": 27.1033291462121}, {\"time\": \"2009-02-17T16:00:00\", \"variable\": \"VPD\", \"value\": 0.397, \"is_present\": true, \"mean\": 0.7537578840251049, \"std\": 12.061972823465293, \"err_low\": -23.37018776290548, \"err_high\": 24.877703530955692}, {\"time\": \"2009-02-17T16:30:00\", \"variable\": \"VPD\", \"value\": 0.529, \"is_present\": true, \"mean\": -2.0047833951266743, \"std\": 12.06197282346528, \"err_low\": -26.128729042057238, \"err_high\": 22.119162251803886}, {\"time\": \"2009-02-17T17:00:00\", \"variable\": \"VPD\", \"value\": 0.603, \"is_present\": true, \"mean\": -5.593115893737072, \"std\": 12.061972823465293, \"err_low\": -29.717061540667657, \"err_high\": 18.530829753193515}, {\"time\": \"2009-02-17T17:30:00\", \"variable\": \"VPD\", \"value\": 0.625, \"is_present\": true, \"mean\": -7.808388896705266, \"std\": 12.061972823465297, \"err_low\": -31.93233454363586, \"err_high\": 16.315556750225326}, {\"time\": \"2009-02-17T18:00:00\", \"variable\": \"VPD\", \"value\": 0.579, \"is_present\": true, \"mean\": -7.5421553600396, \"std\": 12.206448551994542, \"err_low\": -31.955052464028686, \"err_high\": 16.870741743949484}, {\"time\": \"2009-02-17T18:30:00\", \"variable\": \"VPD\", \"value\": 0.642, \"is_present\": true, \"mean\": -9.171347518668917, \"std\": 12.209694579620352, \"err_low\": -33.59073667790962, \"err_high\": 15.248041640571788}, {\"time\": \"2009-02-17T19:00:00\", \"variable\": \"VPD\", \"value\": 0.599, \"is_present\": true, \"mean\": -9.75053269569294, \"std\": 12.210267819887614, \"err_low\": -34.17106833546816, \"err_high\": 14.670002944082288}, {\"time\": \"2009-02-17T19:30:00\", \"variable\": \"VPD\", \"value\": 0.542, \"is_present\": true, \"mean\": -10.415215274631795, \"std\": 12.21060462063322, \"err_low\": -34.83642451589823, \"err_high\": 14.005993966634644}, {\"time\": \"2009-02-17T20:00:00\", \"variable\": \"VPD\", \"value\": 0.544, \"is_present\": true, \"mean\": -10.789422005781013, \"std\": 12.21064747513901, \"err_low\": -35.21071695605903, \"err_high\": 13.631872944497008}, {\"time\": \"2009-02-17T20:30:00\", \"variable\": \"VPD\", \"value\": 0.509, \"is_present\": true, \"mean\": -10.882414419910539, \"std\": 12.21065867727106, \"err_low\": -35.30373177445266, \"err_high\": 13.53890293463158}, {\"time\": \"2009-02-17T21:00:00\", \"variable\": \"VPD\", \"value\": 0.484, \"is_present\": true, \"mean\": -11.047245985028972, \"std\": 12.21066039128641, \"err_low\": -35.46856676760179, \"err_high\": 13.374074797543848}, {\"time\": \"2009-02-17T21:30:00\", \"variable\": \"VPD\", \"value\": 0.448, \"is_present\": true, \"mean\": -11.243355854788032, \"std\": 12.21066076010551, \"err_low\": -35.66467737499905, \"err_high\": 13.177965665422988}, {\"time\": \"2009-02-17T22:00:00\", \"variable\": \"VPD\", \"value\": 0.402, \"is_present\": true, \"mean\": -11.471953314961358, \"std\": 12.210660822854503, \"err_low\": -35.89327496067037, \"err_high\": 12.94936833074765}, {\"time\": \"2009-02-17T22:30:00\", \"variable\": \"VPD\", \"value\": 0.391, \"is_present\": true, \"mean\": -11.72253114913784, \"std\": 12.210660835338944, \"err_low\": -36.14385281981573, \"err_high\": 12.698790521540047}, {\"time\": \"2009-02-17T23:00:00\", \"variable\": \"VPD\", \"value\": 0.368, \"is_present\": true, \"mean\": -13.75583732281314, \"std\": 12.067371154724377, \"err_low\": -37.89057963226189, \"err_high\": 10.378904986635614}, {\"time\": \"2009-02-17T23:30:00\", \"variable\": \"VPD\", \"value\": 0.354, \"is_present\": true, \"mean\": -13.330917977694448, \"std\": 12.06336420329302, \"err_low\": -37.45764638428049, \"err_high\": 10.795810428891592}, {\"time\": \"2009-02-18T00:00:00\", \"variable\": \"VPD\", \"value\": 0.304, \"is_present\": true, \"mean\": -13.148593170104263, \"std\": 12.062357506877472, \"err_low\": -37.27330818385921, \"err_high\": 10.97612184365068}, {\"time\": \"2009-02-18T00:30:00\", \"variable\": \"VPD\", \"value\": 0.267, \"is_present\": true, \"mean\": -13.138013207697028, \"std\": 12.062024934410955, \"err_low\": -37.26206307651894, \"err_high\": 10.986036661124881}, {\"time\": \"2009-02-18T01:00:00\", \"variable\": \"VPD\", \"value\": 0.252, \"is_present\": true, \"mean\": -13.180493861183077, \"std\": 12.061982246014995, \"err_low\": -37.304458353213064, \"err_high\": 10.943470630846914}, {\"time\": \"2009-02-18T01:30:00\", \"variable\": \"VPD\", \"value\": 0.254, \"is_present\": true, \"mean\": -13.219548995975508, \"std\": 12.061974157043368, \"err_low\": -37.34349731006225, \"err_high\": 10.904399318111228}, {\"time\": \"2009-02-18T02:00:00\", \"variable\": \"VPD\", \"value\": 0.245, \"is_present\": true, \"mean\": -13.137847198474287, \"std\": 12.061973042899456, \"err_low\": -37.261793284273196, \"err_high\": 10.986098887324626}, {\"time\": \"2009-02-18T02:30:00\", \"variable\": \"VPD\", \"value\": 0.311, \"is_present\": true, \"mean\": -13.104261796709427, \"std\": 12.061972855897029, \"err_low\": -37.22820750850349, \"err_high\": 11.01968391508463}, {\"time\": \"2009-02-18T03:00:00\", \"variable\": \"VPD\", \"value\": 0.343, \"is_present\": true, \"mean\": -12.943144948451469, \"std\": 12.061972828614627, \"err_low\": -37.06709060568072, \"err_high\": 11.180800708777785}, {\"time\": \"2009-02-18T03:30:00\", \"variable\": \"VPD\", \"value\": 0.396, \"is_present\": true, \"mean\": -12.886633174462762, \"std\": 12.061972824243552, \"err_low\": -37.01057882294987, \"err_high\": 11.237312474024343}, {\"time\": \"2009-02-18T04:00:00\", \"variable\": \"VPD\", \"value\": 0.366, \"is_present\": true, \"mean\": -12.77268123593242, \"std\": 12.06197282358692, \"err_low\": -36.896626883106265, \"err_high\": 11.35126441124142}, {\"time\": \"2009-02-18T04:30:00\", \"variable\": \"VPD\", \"value\": 0.348, \"is_present\": true, \"mean\": -12.842256702690936, \"std\": 12.061972823483897, \"err_low\": -36.96620234965873, \"err_high\": 11.281688944276858}, {\"time\": \"2009-02-18T05:00:00\", \"variable\": \"VPD\", \"value\": 0.373, \"is_present\": true, \"mean\": -12.924980825617936, \"std\": 12.061972823468176, \"err_low\": -37.048926472554285, \"err_high\": 11.198964821318416}, {\"time\": \"2009-02-18T05:30:00\", \"variable\": \"VPD\", \"value\": 0.391, \"is_present\": true, \"mean\": -12.946301369664138, \"std\": 12.061972823465737, \"err_low\": -37.070247016595616, \"err_high\": 11.177644277267337}, {\"time\": \"2009-02-18T06:00:00\", \"variable\": \"VPD\", \"value\": 0.328, \"is_present\": true, \"mean\": -12.990432254738334, \"std\": 12.061972823465364, \"err_low\": -37.11437790166906, \"err_high\": 11.133513392192395}, {\"time\": \"2009-02-18T06:30:00\", \"variable\": \"VPD\", \"value\": 0.325, \"is_present\": true, \"mean\": -13.146596459168915, \"std\": 12.061972823465313, \"err_low\": -37.27054210609954, \"err_high\": 10.97734918776171}, {\"time\": \"2009-02-18T07:00:00\", \"variable\": \"VPD\", \"value\": 0.41, \"is_present\": true, \"mean\": -13.140416139991178, \"std\": 12.061972823465313, \"err_low\": -37.2643617869218, \"err_high\": 10.983529506939448}, {\"time\": \"2009-02-18T07:30:00\", \"variable\": \"VPD\", \"value\": 0.455, \"is_present\": true, \"mean\": -13.077239559094963, \"std\": 12.061972823465307, \"err_low\": -37.20118520602558, \"err_high\": 11.046706087835652}, {\"time\": \"2009-02-18T08:00:00\", \"variable\": \"VPD\", \"value\": 0.549, \"is_present\": true, \"mean\": -12.151469191363137, \"std\": 12.061972823465306, \"err_low\": -36.27541483829375, \"err_high\": 11.972476455567474}, {\"time\": \"2009-02-18T08:30:00\", \"variable\": \"VPD\", \"value\": 0.707, \"is_present\": true, \"mean\": -9.950376062804711, \"std\": 12.061972823465283, \"err_low\": -34.07432170973527, \"err_high\": 14.173569584125854}, {\"time\": \"2009-02-18T09:00:00\", \"variable\": \"VPD\", \"value\": 1.036, \"is_present\": true, \"mean\": -6.99960107182734, \"std\": 12.061972823465307, \"err_low\": -31.123546718757954, \"err_high\": 17.124344575103276}, {\"time\": \"2009-02-18T09:30:00\", \"variable\": \"VPD\", \"value\": 1.251, \"is_present\": true, \"mean\": -3.2428503648047933, \"std\": 12.06197282346529, \"err_low\": -27.366796011735374, \"err_high\": 20.881095282125784}, {\"time\": \"2009-02-18T10:00:00\", \"variable\": \"VPD\", \"value\": 1.284, \"is_present\": true, \"mean\": -0.3262258979572157, \"std\": 12.06197282346529, \"err_low\": -24.450171544887795, \"err_high\": 23.797719748973364}, {\"time\": \"2009-02-18T10:30:00\", \"variable\": \"VPD\", \"value\": 1.415, \"is_present\": true, \"mean\": 3.14039849305597, \"std\": 12.061972823465307, \"err_low\": -20.983547153874646, \"err_high\": 27.264344139986584}, {\"time\": \"2009-02-18T11:00:00\", \"variable\": \"VPD\", \"value\": 1.536, \"is_present\": true, \"mean\": 6.852631155975764, \"std\": 12.061972823465295, \"err_low\": -17.271314490954826, \"err_high\": 30.976576802906354}, {\"time\": \"2009-02-18T11:30:00\", \"variable\": \"VPD\", \"value\": 1.448, \"is_present\": true, \"mean\": 9.00096825079671, \"std\": 12.06197282346529, \"err_low\": -15.12297739613387, \"err_high\": 33.12491389772729}, {\"time\": \"2009-02-18T12:00:00\", \"variable\": \"VPD\", \"value\": 1.509, \"is_present\": true, \"mean\": 10.648764787947057, \"std\": 12.061972823465304, \"err_low\": -13.475180858983551, \"err_high\": 34.772710434877666}, {\"time\": \"2009-02-18T12:30:00\", \"variable\": \"VPD\", \"value\": 1.768, \"is_present\": true, \"mean\": 11.995959131674638, \"std\": 12.06197282346529, \"err_low\": -12.127986515255941, \"err_high\": 36.11990477860522}, {\"time\": \"2009-02-18T13:00:00\", \"variable\": \"VPD\", \"value\": 2.028, \"is_present\": true, \"mean\": 12.438900131220283, \"std\": 12.061972823465297, \"err_low\": -11.68504551571031, \"err_high\": 36.56284577815087}, {\"time\": \"2009-02-18T13:30:00\", \"variable\": \"VPD\", \"value\": 2.189, \"is_present\": true, \"mean\": 12.192236076917105, \"std\": 12.061972823465288, \"err_low\": -11.93170957001347, \"err_high\": 36.31618172384768}, {\"time\": \"2009-02-18T14:00:00\", \"variable\": \"VPD\", \"value\": 1.99, \"is_present\": true, \"mean\": 13.226168475509919, \"std\": 12.061972823465288, \"err_low\": -10.897777171420657, \"err_high\": 37.350114122440495}, {\"time\": \"2009-02-18T14:30:00\", \"variable\": \"VPD\", \"value\": 2.046, \"is_present\": true, \"mean\": 11.292606264701302, \"std\": 12.061972823465297, \"err_low\": -12.831339382229292, \"err_high\": 35.4165519116319}, {\"time\": \"2009-02-18T15:00:00\", \"variable\": \"VPD\", \"value\": 2.013, \"is_present\": true, \"mean\": 9.658669204566063, \"std\": 12.061972823465295, \"err_low\": -14.465276442364527, \"err_high\": 33.78261485149665}, {\"time\": \"2009-02-18T15:30:00\", \"variable\": \"VPD\", \"value\": 2.051, \"is_present\": true, \"mean\": 7.962477263091258, \"std\": 12.061972823465297, \"err_low\": -16.161468383839335, \"err_high\": 32.08642291002185}, {\"time\": \"2009-02-18T16:00:00\", \"variable\": \"VPD\", \"value\": 1.857, \"is_present\": true, \"mean\": 5.128774949681743, \"std\": 12.061972823465302, \"err_low\": -18.99517069724886, \"err_high\": 29.25272059661235}, {\"time\": \"2009-02-18T16:30:00\", \"variable\": \"VPD\", \"value\": 1.838, \"is_present\": true, \"mean\": 1.2355161932710863, \"std\": 12.061972823465306, \"err_low\": -22.888429453659526, \"err_high\": 25.359461840201696}, {\"time\": \"2009-02-18T17:00:00\", \"variable\": \"VPD\", \"value\": 1.728, \"is_present\": true, \"mean\": -2.918284279003638, \"std\": 12.06197282346533, \"err_low\": -27.0422299259343, \"err_high\": 21.20566136792702}, {\"time\": \"2009-02-18T17:30:00\", \"variable\": \"VPD\", \"value\": 1.61, \"is_present\": true, \"mean\": -6.088311447849674, \"std\": 12.061972823465286, \"err_low\": -30.212257094780245, \"err_high\": 18.0356341990809}, {\"time\": \"2009-02-18T18:00:00\", \"variable\": \"VPD\", \"value\": 1.449, \"is_present\": true, \"mean\": -8.534233648395187, \"std\": 12.061972823465295, \"err_low\": -32.65817929532578, \"err_high\": 15.589711998535403}, {\"time\": \"2009-02-18T18:30:00\", \"variable\": \"VPD\", \"value\": 1.289, \"is_present\": true, \"mean\": -10.137162832998335, \"std\": 12.061972823465297, \"err_low\": -34.26110847992893, \"err_high\": 13.986782813932258}, {\"time\": \"2009-02-18T19:00:00\", \"variable\": \"VPD\", \"value\": 1.196, \"is_present\": true, \"mean\": -10.875893579544684, \"std\": 12.061972823465288, \"err_low\": -34.99983922647526, \"err_high\": 13.248052067385892}, {\"time\": \"2009-02-18T19:30:00\", \"variable\": \"VPD\", \"value\": 1.13, \"is_present\": true, \"mean\": -11.508432069695544, \"std\": 12.061972823465313, \"err_low\": -35.632377716626166, \"err_high\": 12.615513577235081}, {\"time\": \"2009-02-18T20:00:00\", \"variable\": \"VPD\", \"value\": 1.079, \"is_present\": true, \"mean\": -11.423147781804676, \"std\": 12.061972823465291, \"err_low\": -35.54709342873526, \"err_high\": 12.700797865125907}, {\"time\": \"2009-02-18T20:30:00\", \"variable\": \"VPD\", \"value\": 1.092, \"is_present\": true, \"mean\": -11.107825637834324, \"std\": 12.061972823465302, \"err_low\": -35.23177128476493, \"err_high\": 13.01612000909628}, {\"time\": \"2009-02-18T21:00:00\", \"variable\": \"VPD\", \"value\": 1.094, \"is_present\": true, \"mean\": -10.876982374541061, \"std\": 12.061972823465283, \"err_low\": -35.00092802147162, \"err_high\": 13.246963272389504}, {\"time\": \"2009-02-18T21:30:00\", \"variable\": \"VPD\", \"value\": 1.095, \"is_present\": true, \"mean\": -10.837654458411887, \"std\": 12.06197282346529, \"err_low\": -34.96160010534247, \"err_high\": 13.286291188518693}, {\"time\": \"2009-02-18T22:00:00\", \"variable\": \"VPD\", \"value\": 1.047, \"is_present\": true, \"mean\": -10.775658598415468, \"std\": 12.061972823465302, \"err_low\": -34.89960424534607, \"err_high\": 13.348287048515136}, {\"time\": \"2009-02-18T22:30:00\", \"variable\": \"VPD\", \"value\": 1.018, \"is_present\": true, \"mean\": -10.856732327330672, \"std\": 12.061972823465293, \"err_low\": -34.980677974261255, \"err_high\": 13.267213319599914}, {\"time\": \"2009-02-18T23:00:00\", \"variable\": \"VPD\", \"value\": 0.934, \"is_present\": true, \"mean\": -11.027364675210183, \"std\": 12.061972823465288, \"err_low\": -35.15131032214076, \"err_high\": 13.096580971720392}, {\"time\": \"2009-02-18T23:30:00\", \"variable\": \"VPD\", \"value\": 0.911, \"is_present\": true, \"mean\": -11.334092538246448, \"std\": 12.061972823465302, \"err_low\": -35.45803818517705, \"err_high\": 12.789853108684156}, {\"time\": \"2009-02-19T00:00:00\", \"variable\": \"VPD\", \"value\": 0.848, \"is_present\": true, \"mean\": -11.42717409759453, \"std\": 12.06197282346531, \"err_low\": -35.55111974452515, \"err_high\": 12.696771549336088}, {\"time\": \"2009-02-19T00:30:00\", \"variable\": \"VPD\", \"value\": 0.873, \"is_present\": true, \"mean\": -11.600125553914811, \"std\": 12.061972823465293, \"err_low\": -35.7240712008454, \"err_high\": 12.523820093015775}, {\"time\": \"2009-02-19T01:00:00\", \"variable\": \"VPD\", \"value\": 0.901, \"is_present\": true, \"mean\": -11.626358729110155, \"std\": 12.06197282346529, \"err_low\": -35.75030437604073, \"err_high\": 12.497586917820424}, {\"time\": \"2009-02-19T01:30:00\", \"variable\": \"VPD\", \"value\": 0.899, \"is_present\": true, \"mean\": -11.641555265572947, \"std\": 12.06197282346531, \"err_low\": -35.76550091250357, \"err_high\": 12.482390381357671}, {\"time\": \"2009-02-19T02:00:00\", \"variable\": \"VPD\", \"value\": 0.754, \"is_present\": true, \"mean\": -11.63467763041406, \"std\": 12.061972823465307, \"err_low\": -35.758623277344675, \"err_high\": 12.489268016516554}, {\"time\": \"2009-02-19T02:30:00\", \"variable\": \"VPD\", \"value\": 0.69, \"is_present\": true, \"mean\": -11.951075648493006, \"std\": 12.061972823465295, \"err_low\": -36.075021295423596, \"err_high\": 12.172869998437584}, {\"time\": \"2009-02-19T03:00:00\", \"variable\": \"VPD\", \"value\": 0.62, \"is_present\": true, \"mean\": -12.020622349125357, \"std\": 12.061972823465295, \"err_low\": -36.14456799605595, \"err_high\": 12.103323297805233}, {\"time\": \"2009-02-19T03:30:00\", \"variable\": \"VPD\", \"value\": 0.511, \"is_present\": true, \"mean\": -12.150145743260822, \"std\": 12.061972823465313, \"err_low\": -36.274091390191444, \"err_high\": 11.973799903669804}, {\"time\": \"2009-02-19T04:00:00\", \"variable\": \"VPD\", \"value\": 0.603, \"is_present\": true, \"mean\": -12.355431377107735, \"std\": 12.061972823465295, \"err_low\": -36.47937702403833, \"err_high\": 11.768514269822855}, {\"time\": \"2009-02-19T04:30:00\", \"variable\": \"VPD\", \"value\": 0.611, \"is_present\": true, \"mean\": -12.131174447783764, \"std\": 12.061972823465277, \"err_low\": -36.255120094714314, \"err_high\": 11.992771199146791}, {\"time\": \"2009-02-19T05:00:00\", \"variable\": \"VPD\", \"value\": 0.605, \"is_present\": true, \"mean\": -12.075123756474301, \"std\": 12.061972823465297, \"err_low\": -36.19906940340489, \"err_high\": 12.048821890456292}, {\"time\": \"2009-02-19T05:30:00\", \"variable\": \"VPD\", \"value\": 0.668, \"is_present\": true, \"mean\": -12.069488874428675, \"std\": 12.061972823465295, \"err_low\": -36.193434521359265, \"err_high\": 12.054456772501915}, {\"time\": \"2009-02-19T06:00:00\", \"variable\": \"VPD\", \"value\": 0.724, \"is_present\": true, \"mean\": -11.864866796367107, \"std\": 12.061972823465304, \"err_low\": -35.98881244329772, \"err_high\": 12.259078850563501}, {\"time\": \"2009-02-19T06:30:00\", \"variable\": \"VPD\", \"value\": 0.653, \"is_present\": true, \"mean\": -11.732030172925786, \"std\": 12.061972823465299, \"err_low\": -35.85597581985638, \"err_high\": 12.391915474004811}, {\"time\": \"2009-02-19T07:00:00\", \"variable\": \"VPD\", \"value\": 0.649, \"is_present\": true, \"mean\": -11.914026940783437, \"std\": 12.061972823465284, \"err_low\": -36.03797258771401, \"err_high\": 12.209918706147132}, {\"time\": \"2009-02-19T07:30:00\", \"variable\": \"VPD\", \"value\": 0.647, \"is_present\": true, \"mean\": -11.896670094564655, \"std\": 12.061972823465311, \"err_low\": -36.02061574149528, \"err_high\": 12.227275552365967}, {\"time\": \"2009-02-19T08:00:00\", \"variable\": \"VPD\", \"value\": 0.553, \"is_present\": true, \"mean\": -10.849029454822002, \"std\": 12.061972823465302, \"err_low\": -34.97297510175261, \"err_high\": 13.274916192108602}, {\"time\": \"2009-02-19T08:30:00\", \"variable\": \"VPD\", \"value\": 0.511, \"is_present\": true, \"mean\": -8.675822210922952, \"std\": 12.061972823465295, \"err_low\": -32.79976785785354, \"err_high\": 15.448123436007638}, {\"time\": \"2009-02-19T09:00:00\", \"variable\": \"VPD\", \"value\": 0.529, \"is_present\": true, \"mean\": -5.944879076032573, \"std\": 12.061972823465299, \"err_low\": -30.06882472296317, \"err_high\": 18.179066570898023}, {\"time\": \"2009-02-19T09:30:00\", \"variable\": \"VPD\", \"value\": 0.673, \"is_present\": true, \"mean\": -3.0418931066705204, \"std\": 12.061972823465306, \"err_low\": -27.165838753601133, \"err_high\": 21.08205254026009}, {\"time\": \"2009-02-19T10:00:00\", \"variable\": \"VPD\", \"value\": 0.905, \"is_present\": true, \"mean\": 0.37409542469640344, \"std\": 12.061972823465291, \"err_low\": -23.74985022223418, \"err_high\": 24.498041071626986}, {\"time\": \"2009-02-19T10:30:00\", \"variable\": \"VPD\", \"value\": 1.086, \"is_present\": true, \"mean\": 4.582705175321374, \"std\": 12.061972823465286, \"err_low\": -19.5412404716092, \"err_high\": 28.706650822251945}, {\"time\": \"2009-02-19T11:00:00\", \"variable\": \"VPD\", \"value\": 1.313, \"is_present\": true, \"mean\": 8.437218740943909, \"std\": 12.061972823465306, \"err_low\": -15.686726905986703, \"err_high\": 32.56116438787452}, {\"time\": \"2009-02-19T11:30:00\", \"variable\": \"VPD\", \"value\": 1.573, \"is_present\": true, \"mean\": 11.060494489485041, \"std\": 12.061972823465295, \"err_low\": -13.063451157445549, \"err_high\": 35.18444013641563}, {\"time\": \"2009-02-19T12:00:00\", \"variable\": \"VPD\", \"value\": 1.74, \"is_present\": true, \"mean\": 13.144575575150302, \"std\": 12.061972823465302, \"err_low\": -10.979370071780302, \"err_high\": 37.268521222080906}, {\"time\": \"2009-02-19T12:30:00\", \"variable\": \"VPD\", \"value\": 1.827, \"is_present\": true, \"mean\": 14.674024194159038, \"std\": 12.061972823465293, \"err_low\": -9.449921452771548, \"err_high\": 38.797969841089625}], \"data-ac66b0ca52a9973fcc96f717424e627c\": [{\"time\": \"2009-02-19T13:00:00\", \"variable\": \"TA\", \"value\": -2.02, \"is_present\": true, \"mean\": 15.583695778011714, \"std\": 6.665957589266434, \"err_low\": 2.251780599478847, \"err_high\": 28.915610956544583}, {\"time\": \"2009-02-19T13:30:00\", \"variable\": \"TA\", \"value\": -1.71, \"is_present\": true, \"mean\": 10.556384966852471, \"std\": 9.241649738684542, \"err_low\": -7.926914510516612, \"err_high\": 29.039684444221557}, {\"time\": \"2009-02-19T14:00:00\", \"variable\": \"TA\", \"value\": -1.37, \"is_present\": true, \"mean\": 9.396936901691722, \"std\": 9.357229774875863, \"err_low\": -9.317522648060004, \"err_high\": 28.111396451443447}, {\"time\": \"2009-02-19T14:30:00\", \"variable\": \"TA\", \"value\": -1.02, \"is_present\": true, \"mean\": 10.535198053438647, \"std\": 9.343612495045862, \"err_low\": -8.152026936653078, \"err_high\": 29.22242304353037}, {\"time\": \"2009-02-19T15:00:00\", \"variable\": \"TA\", \"value\": -0.83, \"is_present\": true, \"mean\": 10.650614001163191, \"std\": 9.340976410090251, \"err_low\": -8.03133881901731, \"err_high\": 29.332566821343693}, {\"time\": \"2009-02-19T15:30:00\", \"variable\": \"TA\", \"value\": -1.02, \"is_present\": true, \"mean\": 10.070974900674276, \"std\": 9.34052766469437, \"err_low\": -8.610080428714465, \"err_high\": 28.752030230063017}, {\"time\": \"2009-02-19T16:00:00\", \"variable\": \"TA\", \"value\": -0.91, \"is_present\": true, \"mean\": 8.782917089188235, \"std\": 9.34045753389071, \"err_low\": -9.897997978593185, \"err_high\": 27.463832156969655}, {\"time\": \"2009-02-19T16:30:00\", \"variable\": \"TA\", \"value\": -0.39, \"is_present\": true, \"mean\": 8.117454383405807, \"std\": 9.340446612290911, \"err_low\": -10.563438841176016, \"err_high\": 26.79834760798763}, {\"time\": \"2009-02-19T17:00:00\", \"variable\": \"TA\", \"value\": -0.55, \"is_present\": true, \"mean\": 6.4080264042578605, \"std\": 9.34044492875195, \"err_low\": -12.272863453246039, \"err_high\": 25.08891626176176}, {\"time\": \"2009-02-19T17:30:00\", \"variable\": \"TA\", \"value\": -0.79, \"is_present\": true, \"mean\": 4.349794943910271, \"std\": 9.340444668679435, \"err_low\": -14.331094393448598, \"err_high\": 23.030684281269142}, {\"time\": \"2009-02-19T18:00:00\", \"variable\": \"TA\", \"value\": -1.27, \"is_present\": true, \"mean\": 2.652073557493779, \"std\": 9.340444628613927, \"err_low\": -16.028815699734075, \"err_high\": 21.332962814721633}, {\"time\": \"2009-02-19T18:30:00\", \"variable\": \"TA\", \"value\": -1.48, \"is_present\": true, \"mean\": 1.2677227884831366, \"std\": 9.340444622432813, \"err_low\": -17.413166456382488, \"err_high\": 19.948612033348763}, {\"time\": \"2009-02-19T19:00:00\", \"variable\": \"TA\", \"value\": -1.49, \"is_present\": true, \"mean\": 0.4361514266237867, \"std\": 9.340444621480259, \"err_low\": -18.24473781633673, \"err_high\": 19.117040669584306}, {\"time\": \"2009-02-19T19:30:00\", \"variable\": \"TA\", \"value\": -1.55, \"is_present\": true, \"mean\": -0.13258313635328456, \"std\": 9.340444621333372, \"err_low\": -18.813472379020027, \"err_high\": 18.54830610631346}, {\"time\": \"2009-02-19T20:00:00\", \"variable\": \"TA\", \"value\": -1.65, \"is_present\": true, \"mean\": -0.4264831300612091, \"std\": 9.340444621310718, \"err_low\": -19.107372372682647, \"err_high\": 18.254406112560225}, {\"time\": \"2009-02-19T20:30:00\", \"variable\": \"TA\", \"value\": -1.75, \"is_present\": true, \"mean\": -0.566519910619478, \"std\": 9.340444621307237, \"err_low\": -19.247409153233953, \"err_high\": 18.114369331994993}, {\"time\": \"2009-02-19T21:00:00\", \"variable\": \"TA\", \"value\": -1.82, \"is_present\": true, \"mean\": -0.8168918295403209, \"std\": 9.340444621306698, \"err_low\": -19.497781072153717, \"err_high\": 17.863997413073076}, {\"time\": \"2009-02-19T21:30:00\", \"variable\": \"TA\", \"value\": -2.09, \"is_present\": true, \"mean\": -1.050995235842107, \"std\": 9.340444621306617, \"err_low\": -19.731884478455342, \"err_high\": 17.629894006771124}, {\"time\": \"2009-02-19T22:00:00\", \"variable\": \"TA\", \"value\": -2.67, \"is_present\": true, \"mean\": -1.4787149421914751, \"std\": 9.340444621306613, \"err_low\": -20.1596041848047, \"err_high\": 17.202174300421753}, {\"time\": \"2009-02-19T22:30:00\", \"variable\": \"TA\", \"value\": -3.05, \"is_present\": true, \"mean\": -2.154843152704286, \"std\": 9.340444621306602, \"err_low\": -20.835732395317493, \"err_high\": 16.526046089908917}, {\"time\": \"2009-02-19T23:00:00\", \"variable\": \"TA\", \"value\": -3.06, \"is_present\": true, \"mean\": -2.6642280025144345, \"std\": 9.340444621306597, \"err_low\": -21.34511724512763, \"err_high\": 16.01666124009876}, {\"time\": \"2009-02-19T23:30:00\", \"variable\": \"TA\", \"value\": -3.11, \"is_present\": true, \"mean\": -2.8693333934892564, \"std\": 9.340444621306606, \"err_low\": -21.55022263610247, \"err_high\": 15.811555849123955}, {\"time\": \"2009-02-20T00:00:00\", \"variable\": \"TA\", \"value\": -3.15, \"is_present\": true, \"mean\": -3.0854036869980206, \"std\": 9.340444621306597, \"err_low\": -21.766292929611215, \"err_high\": 15.595485555615173}, {\"time\": \"2009-02-20T00:30:00\", \"variable\": \"TA\", \"value\": -3.09, \"is_present\": true, \"mean\": -3.3013321885812186, \"std\": 9.340444621306608, \"err_low\": -21.982221431194432, \"err_high\": 15.379557054031997}, {\"time\": \"2009-02-20T01:00:00\", \"variable\": \"TA\", \"value\": -3.0, \"is_present\": true, \"mean\": -3.485088237668087, \"std\": 9.340444621306592, \"err_low\": -22.16597748028127, \"err_high\": 15.195801004945096}, {\"time\": \"2009-02-20T01:30:00\", \"variable\": \"TA\", \"value\": -2.92, \"is_present\": true, \"mean\": -3.6607391030590506, \"std\": 9.340444621306606, \"err_low\": -22.341628345672262, \"err_high\": 15.020150139554161}, {\"time\": \"2009-02-20T02:00:00\", \"variable\": \"TA\", \"value\": -2.83, \"is_present\": true, \"mean\": -3.7174977139185934, \"std\": 9.34044462130659, \"err_low\": -22.398386956531773, \"err_high\": 14.963391528694586}, {\"time\": \"2009-02-20T02:30:00\", \"variable\": \"TA\", \"value\": -2.73, \"is_present\": true, \"mean\": -3.679139041206584, \"std\": 9.340444621306599, \"err_low\": -22.36002828381978, \"err_high\": 15.001750201406614}, {\"time\": \"2009-02-20T03:00:00\", \"variable\": \"TA\", \"value\": -2.67, \"is_present\": true, \"mean\": -3.640868723455286, \"std\": 9.340444621306602, \"err_low\": -22.32175796606849, \"err_high\": 15.040020519157919}, {\"time\": \"2009-02-20T03:30:00\", \"variable\": \"TA\", \"value\": -2.57, \"is_present\": true, \"mean\": -3.616266902494708, \"std\": 9.340444621306602, \"err_low\": -22.297156145107913, \"err_high\": 15.064622340118497}, {\"time\": \"2009-02-20T04:00:00\", \"variable\": \"TA\", \"value\": -2.44, \"is_present\": true, \"mean\": -3.5860050010557334, \"std\": 9.340444621306606, \"err_low\": -22.266894243668943, \"err_high\": 15.094884241557478}, {\"time\": \"2009-02-20T04:30:00\", \"variable\": \"TA\", \"value\": -2.27, \"is_present\": true, \"mean\": -3.5511178760615696, \"std\": 9.3404446213066, \"err_low\": -22.232007118674773, \"err_high\": 15.129771366551632}, {\"time\": \"2009-02-20T05:00:00\", \"variable\": \"TA\", \"value\": -2.19, \"is_present\": true, \"mean\": -3.4658117422297927, \"std\": 9.340444621306608, \"err_low\": -22.146700984843008, \"err_high\": 15.215077500383423}, {\"time\": \"2009-02-20T05:30:00\", \"variable\": \"TA\", \"value\": -2.16, \"is_present\": true, \"mean\": -3.38260992282801, \"std\": 9.340444621306606, \"err_low\": -22.063499165441222, \"err_high\": 15.298279319785202}, {\"time\": \"2009-02-20T06:00:00\", \"variable\": \"TA\", \"value\": -1.99, \"is_present\": true, \"mean\": -3.316367195148251, \"std\": 9.340444621306606, \"err_low\": -21.997256437761465, \"err_high\": 15.36452204746496}, {\"time\": \"2009-02-20T06:30:00\", \"variable\": \"TA\", \"value\": -1.89, \"is_present\": true, \"mean\": -3.222999486947211, \"std\": 9.3404446213066, \"err_low\": -21.903888729560414, \"err_high\": 15.45788975566599}, {\"time\": \"2009-02-20T07:00:00\", \"variable\": \"TA\", \"value\": -1.84, \"is_present\": true, \"mean\": -3.1480407453989283, \"std\": 9.340444621306604, \"err_low\": -21.828929988012135, \"err_high\": 15.53284849721428}, {\"time\": \"2009-02-20T07:30:00\", \"variable\": \"TA\", \"value\": -1.79, \"is_present\": true, \"mean\": -3.0849965016358816, \"std\": 9.340444621306606, \"err_low\": -21.765885744249093, \"err_high\": 15.59589274097733}, {\"time\": \"2009-02-20T08:00:00\", \"variable\": \"TA\", \"value\": -1.69, \"is_present\": true, \"mean\": -2.9959234364680754, \"std\": 9.34044462130661, \"err_low\": -21.676812679081294, \"err_high\": 15.684965806145144}, {\"time\": \"2009-02-20T08:30:00\", \"variable\": \"TA\", \"value\": -1.59, \"is_present\": true, \"mean\": -2.7218165856709096, \"std\": 9.340444621306599, \"err_low\": -21.402705828284105, \"err_high\": 15.959072656942288}, {\"time\": \"2009-02-20T09:00:00\", \"variable\": \"TA\", \"value\": -1.5, \"is_present\": true, \"mean\": -2.27513069104179, \"std\": 9.340444621306602, \"err_low\": -20.956019933654993, \"err_high\": 16.405758551571417}, {\"time\": \"2009-02-20T09:30:00\", \"variable\": \"TA\", \"value\": -1.44, \"is_present\": true, \"mean\": -1.9064713916975222, \"std\": 9.3404446213066, \"err_low\": -20.587360634310723, \"err_high\": 16.77441785091568}, {\"time\": \"2009-02-20T10:00:00\", \"variable\": \"TA\", \"value\": -1.27, \"is_present\": true, \"mean\": -1.5852854040727848, \"std\": 9.34044462130659, \"err_low\": -20.266174646685965, \"err_high\": 17.095603838540395}, {\"time\": \"2009-02-20T10:30:00\", \"variable\": \"TA\", \"value\": -1.03, \"is_present\": true, \"mean\": -1.3330970006300138, \"std\": 9.340444621306606, \"err_low\": -20.013986243243224, \"err_high\": 17.3477922419832}, {\"time\": \"2009-02-20T11:00:00\", \"variable\": \"TA\", \"value\": -0.89, \"is_present\": true, \"mean\": -0.7888768206272925, \"std\": 9.340444621306602, \"err_low\": -19.4697660632405, \"err_high\": 17.89201242198591}, {\"time\": \"2009-02-20T11:30:00\", \"variable\": \"TA\", \"value\": -0.68, \"is_present\": true, \"mean\": -0.43475493746477234, \"std\": 9.340444621306602, \"err_low\": -19.11564418007798, \"err_high\": 18.24613430514843}, {\"time\": \"2009-02-20T12:00:00\", \"variable\": \"TA\", \"value\": -0.51, \"is_present\": true, \"mean\": -0.21027599775438688, \"std\": 9.3404446213066, \"err_low\": -18.891165240367588, \"err_high\": 18.470613244858814}, {\"time\": \"2009-02-20T12:30:00\", \"variable\": \"TA\", \"value\": -0.4, \"is_present\": true, \"mean\": -0.12316818393356677, \"std\": 9.340444621306599, \"err_low\": -18.804057426546763, \"err_high\": 18.557721058679633}, {\"time\": \"2009-02-20T13:00:00\", \"variable\": \"TA\", \"value\": -0.3, \"is_present\": true, \"mean\": 0.003292224369838337, \"std\": 9.340444621306593, \"err_low\": -18.677597018243347, \"err_high\": 18.684181466983027}, {\"time\": \"2009-02-20T13:30:00\", \"variable\": \"TA\", \"value\": -0.14, \"is_present\": true, \"mean\": -0.3220968113947027, \"std\": 9.3404446213066, \"err_low\": -19.002986054007906, \"err_high\": 18.358792431218497}, {\"time\": \"2009-02-20T14:00:00\", \"variable\": \"TA\", \"value\": -0.02, \"is_present\": true, \"mean\": 0.9000490641829089, \"std\": 9.340444621306595, \"err_low\": -17.78084017843028, \"err_high\": 19.5809383067961}, {\"time\": \"2009-02-20T14:30:00\", \"variable\": \"TA\", \"value\": 0.02, \"is_present\": true, \"mean\": 0.7487155081502452, \"std\": 9.340444621306606, \"err_low\": -17.932173734462967, \"err_high\": 19.429604750763456}, {\"time\": \"2009-02-20T15:00:00\", \"variable\": \"TA\", \"value\": 0.06, \"is_present\": true, \"mean\": 0.5735109906871712, \"std\": 9.340444621306602, \"err_low\": -18.107378251926033, \"err_high\": 19.254400233300377}, {\"time\": \"2009-02-20T15:30:00\", \"variable\": \"TA\", \"value\": 0.16, \"is_present\": true, \"mean\": 0.47002276927317066, \"std\": 9.3404446213066, \"err_low\": -18.21086647334003, \"err_high\": 19.150912011886373}, {\"time\": \"2009-02-20T16:00:00\", \"variable\": \"TA\", \"value\": 0.43, \"is_present\": true, \"mean\": 0.3136558995572898, \"std\": 9.340444621306595, \"err_low\": -18.3672333430559, \"err_high\": 18.99454514217048}, {\"time\": \"2009-02-20T16:30:00\", \"variable\": \"TA\", \"value\": 0.72, \"is_present\": true, \"mean\": 0.4411414237161786, \"std\": 9.340444621306599, \"err_low\": -18.23974781889702, \"err_high\": 19.122030666329376}, {\"time\": \"2009-02-20T17:00:00\", \"variable\": \"TA\", \"value\": 0.77, \"is_present\": false, \"mean\": -0.5585829576510122, \"std\": 9.340444621306602, \"err_low\": -19.239472200264217, \"err_high\": 18.122306284962193}, {\"time\": \"2009-02-20T17:30:00\", \"variable\": \"TA\", \"value\": 0.53, \"is_present\": false, \"mean\": -0.20120473299560615, \"std\": 9.42366167427001, \"err_low\": -19.048528081535625, \"err_high\": 18.646118615544413}, {\"time\": \"2009-02-20T18:00:00\", \"variable\": \"TA\", \"value\": 0.33, \"is_present\": false, \"mean\": -0.6896766157556282, \"std\": 9.423817536884092, \"err_low\": -19.53731168952381, \"err_high\": 18.15795845801256}, {\"time\": \"2009-02-20T18:30:00\", \"variable\": \"TA\", \"value\": 0.39, \"is_present\": false, \"mean\": -1.0901237219578501, \"std\": 9.423947647966033, \"err_low\": -19.938019017889914, \"err_high\": 17.757771573974217}, {\"time\": \"2009-02-20T19:00:00\", \"variable\": \"TA\", \"value\": 0.63, \"is_present\": false, \"mean\": -1.3614840318738501, \"std\": 9.424025263630094, \"err_low\": -20.20953455913404, \"err_high\": 17.486566495386338}, {\"time\": \"2009-02-20T19:30:00\", \"variable\": \"TA\", \"value\": 0.79, \"is_present\": false, \"mean\": -1.605679528238948, \"std\": 9.424036556848417, \"err_low\": -20.453752641935782, \"err_high\": 17.242393585457886}, {\"time\": \"2009-02-20T20:00:00\", \"variable\": \"TA\", \"value\": 1.01, \"is_present\": false, \"mean\": -1.7358350005218064, \"std\": 9.424039329785607, \"err_low\": -20.58391366009302, \"err_high\": 17.11224365904941}, {\"time\": \"2009-02-20T20:30:00\", \"variable\": \"TA\", \"value\": 1.05, \"is_present\": false, \"mean\": -1.7847849476714739, \"std\": 9.424039775389335, \"err_low\": -20.632864498450147, \"err_high\": 17.063294603107195}, {\"time\": \"2009-02-20T21:00:00\", \"variable\": \"TA\", \"value\": 1.08, \"is_present\": false, \"mean\": -1.8348161052712548, \"std\": 9.424039868298115, \"err_low\": -20.682895841867484, \"err_high\": 17.013263631324975}, {\"time\": \"2009-02-20T21:30:00\", \"variable\": \"TA\", \"value\": 1.13, \"is_present\": false, \"mean\": -1.895119442414975, \"std\": 9.424039884448803, \"err_low\": -20.74319921131258, \"err_high\": 16.952960326482632}, {\"time\": \"2009-02-20T22:00:00\", \"variable\": \"TA\", \"value\": 1.15, \"is_present\": true, \"mean\": -1.959334984725146, \"std\": 9.424039887615876, \"err_low\": -20.8074147599569, \"err_high\": 16.888744790506607}, {\"time\": \"2009-02-20T22:30:00\", \"variable\": \"TA\", \"value\": 1.15, \"is_present\": true, \"mean\": -2.6511265833583177, \"std\": 9.341146943076538, \"err_low\": -21.333420469511395, \"err_high\": 16.031167302794756}, {\"time\": \"2009-02-20T23:00:00\", \"variable\": \"TA\", \"value\": 1.18, \"is_present\": true, \"mean\": -2.6740254923639135, \"std\": 9.340862875524545, \"err_low\": -21.355751243413003, \"err_high\": 16.007700258685176}, {\"time\": \"2009-02-20T23:30:00\", \"variable\": \"TA\", \"value\": 1.18, \"is_present\": true, \"mean\": -2.6855390837840414, \"std\": 9.340550719610171, \"err_low\": -21.366640523004385, \"err_high\": 15.9955623554363}, {\"time\": \"2009-02-21T00:00:00\", \"variable\": \"TA\", \"value\": 1.1, \"is_present\": true, \"mean\": -2.7228724113866694, \"std\": 9.340461106365407, \"err_low\": -21.40379462411748, \"err_high\": 15.958049801344144}, {\"time\": \"2009-02-21T00:30:00\", \"variable\": \"TA\", \"value\": 1.06, \"is_present\": true, \"mean\": -2.7905889562636848, \"std\": 9.3404474002963, \"err_low\": -21.471483756856287, \"err_high\": 15.890305844328916}, {\"time\": \"2009-02-21T01:00:00\", \"variable\": \"TA\", \"value\": 0.98, \"is_present\": true, \"mean\": -2.85323106474031, \"std\": 9.340445036424846, \"err_low\": -21.534121137590002, \"err_high\": 15.827659008109382}, {\"time\": \"2009-02-21T01:30:00\", \"variable\": \"TA\", \"value\": 0.94, \"is_present\": true, \"mean\": -2.9258499032993104, \"std\": 9.340444687273962, \"err_low\": -21.606739277847232, \"err_high\": 15.755039471248613}, {\"time\": \"2009-02-21T02:00:00\", \"variable\": \"TA\", \"value\": 0.8, \"is_present\": true, \"mean\": -2.9740407300617253, \"std\": 9.34044463129606, \"err_low\": -21.654929992653848, \"err_high\": 15.706848532530396}, {\"time\": \"2009-02-21T02:30:00\", \"variable\": \"TA\", \"value\": 0.64, \"is_present\": true, \"mean\": -3.0218824361531524, \"std\": 9.340444622866885, \"err_low\": -21.702771681886922, \"err_high\": 15.659006809580617}, {\"time\": \"2009-02-21T03:00:00\", \"variable\": \"TA\", \"value\": 0.4, \"is_present\": true, \"mean\": -3.0696537566680178, \"std\": 9.340444621545082, \"err_low\": -21.75054299975818, \"err_high\": 15.611235486422146}, {\"time\": \"2009-02-21T03:30:00\", \"variable\": \"TA\", \"value\": 0.12, \"is_present\": true, \"mean\": -3.133914965201221, \"std\": 9.340444621343593, \"err_low\": -21.814804207888407, \"err_high\": 15.546974277485965}, {\"time\": \"2009-02-21T04:00:00\", \"variable\": \"TA\", \"value\": -0.04, \"is_present\": true, \"mean\": -3.2052470614087465, \"std\": 9.34044462131228, \"err_low\": -21.886136304033307, \"err_high\": 15.475642181215813}, {\"time\": \"2009-02-21T04:30:00\", \"variable\": \"TA\", \"value\": -0.24, \"is_present\": true, \"mean\": -3.2483850504294374, \"std\": 9.340444621307473, \"err_low\": -21.929274293044383, \"err_high\": 15.432504192185508}, {\"time\": \"2009-02-21T05:00:00\", \"variable\": \"TA\", \"value\": -0.66, \"is_present\": true, \"mean\": -3.3019331434987986, \"std\": 9.340444621306728, \"err_low\": -21.982822386112254, \"err_high\": 15.378956099114658}, {\"time\": \"2009-02-21T05:30:00\", \"variable\": \"TA\", \"value\": -0.86, \"is_present\": true, \"mean\": -3.4103652403689697, \"std\": 9.34044462130663, \"err_low\": -22.09125448298223, \"err_high\": 15.270524002244292}, {\"time\": \"2009-02-21T06:00:00\", \"variable\": \"TA\", \"value\": -0.99, \"is_present\": true, \"mean\": -3.4686556359951446, \"std\": 9.340444621306597, \"err_low\": -22.14954487860834, \"err_high\": 15.21223360661805}, {\"time\": \"2009-02-21T06:30:00\", \"variable\": \"TA\", \"value\": -0.86, \"is_present\": true, \"mean\": -3.5113385236511654, \"std\": 9.340444621306593, \"err_low\": -22.192227766264352, \"err_high\": 15.169550718962022}, {\"time\": \"2009-02-21T07:00:00\", \"variable\": \"TA\", \"value\": -0.73, \"is_present\": true, \"mean\": -3.498913119573915, \"std\": 9.340444621306606, \"err_low\": -22.179802362187125, \"err_high\": 15.181976123039297}, {\"time\": \"2009-02-21T07:30:00\", \"variable\": \"TA\", \"value\": -0.66, \"is_present\": true, \"mean\": -3.492160449520542, \"std\": 9.340444621306597, \"err_low\": -22.173049692133738, \"err_high\": 15.188728793092652}, {\"time\": \"2009-02-21T08:00:00\", \"variable\": \"TA\", \"value\": -0.52, \"is_present\": true, \"mean\": -3.3850640020389715, \"std\": 9.34044462130661, \"err_low\": -22.065953244652192, \"err_high\": 15.295825240574247}, {\"time\": \"2009-02-21T08:30:00\", \"variable\": \"TA\", \"value\": -0.46, \"is_present\": true, \"mean\": -2.989136345430248, \"std\": 9.340444621306602, \"err_low\": -21.67002558804345, \"err_high\": 15.691752897182957}, {\"time\": \"2009-02-21T09:00:00\", \"variable\": \"TA\", \"value\": -0.49, \"is_present\": true, \"mean\": -2.4296976503389622, \"std\": 9.340444621306602, \"err_low\": -21.110586892952167, \"err_high\": 16.251191592274242}, {\"time\": \"2009-02-21T09:30:00\", \"variable\": \"TA\", \"value\": -0.46, \"is_present\": true, \"mean\": -1.9002225723991888, \"std\": 9.340444621306604, \"err_low\": -20.5811118150124, \"err_high\": 16.780666670214018}, {\"time\": \"2009-02-21T10:00:00\", \"variable\": \"TA\", \"value\": -0.38, \"is_present\": true, \"mean\": -1.6171334512329025, \"std\": 9.340444621306602, \"err_low\": -20.298022693846107, \"err_high\": 17.063755791380302}, {\"time\": \"2009-02-21T10:30:00\", \"variable\": \"TA\", \"value\": -0.28, \"is_present\": true, \"mean\": -1.4126782147437886, \"std\": 9.340444621306604, \"err_low\": -20.093567457356997, \"err_high\": 17.26821102786942}, {\"time\": \"2009-02-21T11:00:00\", \"variable\": \"TA\", \"value\": -0.09, \"is_present\": true, \"mean\": 0.5987801141172238, \"std\": 9.340444621306597, \"err_low\": -18.082109128495972, \"err_high\": 19.279669356730416}, {\"time\": \"2009-02-21T11:30:00\", \"variable\": \"TA\", \"value\": 0.17, \"is_present\": true, \"mean\": 1.8143945709278988, \"std\": 9.340444621306597, \"err_low\": -16.866494671685295, \"err_high\": 20.495283813541093}, {\"time\": \"2009-02-21T12:00:00\", \"variable\": \"TA\", \"value\": 0.58, \"is_present\": true, \"mean\": 2.7006449235807475, \"std\": 9.34044462130661, \"err_low\": -15.980244319032472, \"err_high\": 21.381534166193966}, {\"time\": \"2009-02-21T12:30:00\", \"variable\": \"TA\", \"value\": 1.1, \"is_present\": true, \"mean\": 3.4791938624961984, \"std\": 9.3404446213066, \"err_low\": -15.201695380117002, \"err_high\": 22.1600831051094}, {\"time\": \"2009-02-21T13:00:00\", \"variable\": \"TA\", \"value\": 1.54, \"is_present\": true, \"mean\": 4.411963334426121, \"std\": 9.340444621306602, \"err_low\": -14.268925908187084, \"err_high\": 23.092852577039324}, {\"time\": \"2009-02-21T13:30:00\", \"variable\": \"TA\", \"value\": 1.68, \"is_present\": true, \"mean\": 5.469237583913207, \"std\": 9.340444621306602, \"err_low\": -13.211651658699997, \"err_high\": 24.15012682652641}, {\"time\": \"2009-02-21T14:00:00\", \"variable\": \"TA\", \"value\": 1.58, \"is_present\": true, \"mean\": 4.5340542301218765, \"std\": 9.340444621306606, \"err_low\": -14.146835012491335, \"err_high\": 23.214943472735087}, {\"time\": \"2009-02-21T14:30:00\", \"variable\": \"TA\", \"value\": 1.71, \"is_present\": true, \"mean\": 3.5711171861517927, \"std\": 9.340444621306604, \"err_low\": -15.109772056461416, \"err_high\": 22.252006428765}, {\"time\": \"2009-02-21T15:00:00\", \"variable\": \"TA\", \"value\": 1.76, \"is_present\": true, \"mean\": 3.350984382315814, \"std\": 9.340444621306595, \"err_low\": -15.329904860297376, \"err_high\": 22.031873624929005}, {\"time\": \"2009-02-21T15:30:00\", \"variable\": \"TA\", \"value\": 1.55, \"is_present\": true, \"mean\": 2.816866462910717, \"std\": 9.340444621306604, \"err_low\": -15.864022779702491, \"err_high\": 21.497755705523925}, {\"time\": \"2009-02-21T16:00:00\", \"variable\": \"TA\", \"value\": 1.37, \"is_present\": true, \"mean\": 2.078483331538309, \"std\": 9.340444621306606, \"err_low\": -16.602405911074904, \"err_high\": 20.75937257415152}, {\"time\": \"2009-02-21T16:30:00\", \"variable\": \"TA\", \"value\": 1.25, \"is_present\": true, \"mean\": 1.3745212271117975, \"std\": 9.3404446213066, \"err_low\": -17.306368015501405, \"err_high\": 20.055410469724997}, {\"time\": \"2009-02-21T17:00:00\", \"variable\": \"TA\", \"value\": 1.06, \"is_present\": true, \"mean\": -0.04005866264978586, \"std\": 9.340444621306608, \"err_low\": -18.720947905263003, \"err_high\": 18.640830579963428}, {\"time\": \"2009-02-21T17:30:00\", \"variable\": \"TA\", \"value\": 0.91, \"is_present\": true, \"mean\": -0.8898736119782651, \"std\": 9.340444621306604, \"err_low\": -19.57076285459147, \"err_high\": 17.791015630634945}, {\"time\": \"2009-02-21T18:00:00\", \"variable\": \"TA\", \"value\": 0.87, \"is_present\": true, \"mean\": -1.4846164518020775, \"std\": 9.340444621306599, \"err_low\": -20.165505694415273, \"err_high\": 17.196272790811122}, {\"time\": \"2009-02-21T18:30:00\", \"variable\": \"TA\", \"value\": 0.88, \"is_present\": true, \"mean\": -1.9931244677803583, \"std\": 9.3404446213066, \"err_low\": -20.67401371039356, \"err_high\": 16.687764774832843}, {\"time\": \"2009-02-21T19:00:00\", \"variable\": \"TA\", \"value\": 0.9, \"is_present\": true, \"mean\": -2.2693647058929116, \"std\": 9.340444621306604, \"err_low\": -20.95025394850612, \"err_high\": 16.411524536720297}, {\"time\": \"2009-02-21T19:30:00\", \"variable\": \"TA\", \"value\": 0.94, \"is_present\": true, \"mean\": -2.5211179972406814, \"std\": 9.340444621306606, \"err_low\": -21.20200723985389, \"err_high\": 16.159771245372532}, {\"time\": \"2009-02-21T20:00:00\", \"variable\": \"TA\", \"value\": 0.87, \"is_present\": true, \"mean\": -2.571995768714533, \"std\": 9.3404446213066, \"err_low\": -21.252885011327734, \"err_high\": 16.108893473898668}, {\"time\": \"2009-02-21T20:30:00\", \"variable\": \"TA\", \"value\": 0.93, \"is_present\": true, \"mean\": -2.61173234989932, \"std\": 9.340444621306602, \"err_low\": -21.292621592512525, \"err_high\": 16.069156892713885}, {\"time\": \"2009-02-21T21:00:00\", \"variable\": \"TA\", \"value\": 0.94, \"is_present\": true, \"mean\": -2.6053909685395524, \"std\": 9.340444621306595, \"err_low\": -21.286280211152743, \"err_high\": 16.075498274073638}, {\"time\": \"2009-02-21T21:30:00\", \"variable\": \"TA\", \"value\": 0.85, \"is_present\": true, \"mean\": -2.6436509024823316, \"std\": 9.340444621306597, \"err_low\": -21.324540145095526, \"err_high\": 16.037238340130862}, {\"time\": \"2009-02-21T22:00:00\", \"variable\": \"TA\", \"value\": 0.68, \"is_present\": true, \"mean\": -2.7775394131792535, \"std\": 9.340444621306592, \"err_low\": -21.45842865579244, \"err_high\": 15.90334982943393}, {\"time\": \"2009-02-21T22:30:00\", \"variable\": \"TA\", \"value\": 0.28, \"is_present\": true, \"mean\": -2.882404258893274, \"std\": 9.340444621306606, \"err_low\": -21.563293501506486, \"err_high\": 15.798484983719938}, {\"time\": \"2009-02-21T23:00:00\", \"variable\": \"TA\", \"value\": 0.15, \"is_present\": true, \"mean\": -3.0775321814844414, \"std\": 9.340444621306604, \"err_low\": -21.758421424097648, \"err_high\": 15.603357061128767}, {\"time\": \"2009-02-21T23:30:00\", \"variable\": \"TA\", \"value\": 0.0, \"is_present\": true, \"mean\": -3.0915485069589383, \"std\": 9.340444621306599, \"err_low\": -21.772437749572134, \"err_high\": 15.58934073565426}, {\"time\": \"2009-02-22T00:00:00\", \"variable\": \"TA\", \"value\": -0.23, \"is_present\": true, \"mean\": -3.095434838159406, \"std\": 9.340444621306595, \"err_low\": -21.776324080772596, \"err_high\": 15.585454404453785}, {\"time\": \"2009-02-22T00:30:00\", \"variable\": \"TA\", \"value\": -0.4, \"is_present\": true, \"mean\": -3.1387735276213, \"std\": 9.340444621306604, \"err_low\": -21.81966277023451, \"err_high\": 15.542115714991908}, {\"time\": \"2009-02-22T01:00:00\", \"variable\": \"TA\", \"value\": -0.52, \"is_present\": true, \"mean\": -3.14366616644865, \"std\": 9.340444621306606, \"err_low\": -21.824555409061862, \"err_high\": 15.537223076164562}, {\"time\": \"2009-02-22T01:30:00\", \"variable\": \"TA\", \"value\": -0.53, \"is_present\": true, \"mean\": -3.128706175549757, \"std\": 9.340444621306604, \"err_low\": -21.809595418162964, \"err_high\": 15.552183067063451}, {\"time\": \"2009-02-22T02:00:00\", \"variable\": \"TA\", \"value\": -0.63, \"is_present\": true, \"mean\": -3.0680827740926766, \"std\": 9.340444621306608, \"err_low\": -21.748972016705892, \"err_high\": 15.612806468520539}, {\"time\": \"2009-02-22T02:30:00\", \"variable\": \"TA\", \"value\": -0.61, \"is_present\": true, \"mean\": -3.010134148592517, \"std\": 9.340444621306599, \"err_low\": -21.691023391205714, \"err_high\": 15.67075509402068}, {\"time\": \"2009-02-22T03:00:00\", \"variable\": \"TA\", \"value\": -0.49, \"is_present\": true, \"mean\": -2.927980663721266, \"std\": 9.340444621306597, \"err_low\": -21.608869906334462, \"err_high\": 15.752908578891928}, {\"time\": \"2009-02-22T03:30:00\", \"variable\": \"TA\", \"value\": -0.43, \"is_present\": true, \"mean\": -2.8265346143209413, \"std\": 9.340444621306602, \"err_low\": -21.507423856934146, \"err_high\": 15.854354628292263}, {\"time\": \"2009-02-22T04:00:00\", \"variable\": \"TA\", \"value\": -0.35, \"is_present\": true, \"mean\": -2.740581690306229, \"std\": 9.340444621306606, \"err_low\": -21.42147093291944, \"err_high\": 15.940307552306983}, {\"time\": \"2009-02-22T04:30:00\", \"variable\": \"TA\", \"value\": -0.24, \"is_present\": true, \"mean\": -2.6519761863242497, \"std\": 9.340444621306604, \"err_low\": -21.33286542893746, \"err_high\": 16.028913056288957}, {\"time\": \"2009-02-22T05:00:00\", \"variable\": \"TA\", \"value\": -0.21, \"is_present\": true, \"mean\": -2.5591700223038902, \"std\": 9.340444621306595, \"err_low\": -21.24005926491708, \"err_high\": 16.121719220309302}, {\"time\": \"2009-02-22T05:30:00\", \"variable\": \"TA\", \"value\": -0.13, \"is_present\": true, \"mean\": -2.5001085684876294, \"std\": 9.340444621306595, \"err_low\": -21.18099781110082, \"err_high\": 16.18078067412556}, {\"time\": \"2009-02-22T06:00:00\", \"variable\": \"TA\", \"value\": -0.1, \"is_present\": true, \"mean\": -2.4344969022801823, \"std\": 9.340444621306608, \"err_low\": -21.1153861448934, \"err_high\": 16.24639234033303}, {\"time\": \"2009-02-22T06:30:00\", \"variable\": \"TA\", \"value\": -0.07, \"is_present\": true, \"mean\": -2.3828069221258925, \"std\": 9.340444621306599, \"err_low\": -21.063696164739092, \"err_high\": 16.298082320487303}, {\"time\": \"2009-02-22T07:00:00\", \"variable\": \"TA\", \"value\": -0.08, \"is_present\": true, \"mean\": -2.331684846159572, \"std\": 9.340444621306606, \"err_low\": -21.012574088772784, \"err_high\": 16.34920439645364}, {\"time\": \"2009-02-22T07:30:00\", \"variable\": \"TA\", \"value\": -0.08, \"is_present\": true, \"mean\": -2.2885455501385596, \"std\": 9.340444621306599, \"err_low\": -20.969434792751755, \"err_high\": 16.39234369247464}, {\"time\": \"2009-02-22T08:00:00\", \"variable\": \"TA\", \"value\": -0.05, \"is_present\": true, \"mean\": -2.208755992269607, \"std\": 9.340444621306599, \"err_low\": -20.889645234882806, \"err_high\": 16.47213325034359}, {\"time\": \"2009-02-22T08:30:00\", \"variable\": \"TA\", \"value\": -0.01, \"is_present\": true, \"mean\": -1.9613522236976912, \"std\": 9.340444621306595, \"err_low\": -20.64224146631088, \"err_high\": 16.7195370189155}, {\"time\": \"2009-02-22T09:00:00\", \"variable\": \"TA\", \"value\": 0.03, \"is_present\": true, \"mean\": -1.6206160877573268, \"std\": 9.340444621306608, \"err_low\": -20.301505330370542, \"err_high\": 17.06027315485589}, {\"time\": \"2009-02-22T09:30:00\", \"variable\": \"TA\", \"value\": 0.07, \"is_present\": true, \"mean\": -1.2517768772533167, \"std\": 9.340444621306599, \"err_low\": -19.932666119866514, \"err_high\": 17.42911236535988}, {\"time\": \"2009-02-22T10:00:00\", \"variable\": \"TA\", \"value\": 0.1, \"is_present\": true, \"mean\": -1.0347082527224831, \"std\": 9.340444621306604, \"err_low\": -19.715597495335693, \"err_high\": 17.646180989890723}, {\"time\": \"2009-02-22T10:30:00\", \"variable\": \"TA\", \"value\": 0.18, \"is_present\": true, \"mean\": -0.5787110795065349, \"std\": 9.340444621306595, \"err_low\": -19.259600322119724, \"err_high\": 18.102178163106657}, {\"time\": \"2009-02-22T11:00:00\", \"variable\": \"TA\", \"value\": 0.39, \"is_present\": true, \"mean\": -0.30299991116862834, \"std\": 9.340444621306606, \"err_low\": -18.98388915378184, \"err_high\": 18.377889331444585}, {\"time\": \"2009-02-22T11:30:00\", \"variable\": \"TA\", \"value\": 0.51, \"is_present\": true, \"mean\": -0.0855208639050673, \"std\": 9.340444621306602, \"err_low\": -18.766410106518272, \"err_high\": 18.595368378708137}, {\"time\": \"2009-02-22T12:00:00\", \"variable\": \"TA\", \"value\": 0.73, \"is_present\": true, \"mean\": 0.22252466083384093, \"std\": 9.340444621306593, \"err_low\": -18.458364581779346, \"err_high\": 18.903413903447028}, {\"time\": \"2009-02-22T12:30:00\", \"variable\": \"TA\", \"value\": 0.89, \"is_present\": true, \"mean\": 0.18180840482906468, \"std\": 9.3404446213066, \"err_low\": -18.499080837784135, \"err_high\": 18.862697647442268}, {\"time\": \"2009-02-22T13:00:00\", \"variable\": \"TA\", \"value\": 1.12, \"is_present\": true, \"mean\": 0.36057120635716977, \"std\": 9.340444621306595, \"err_low\": -18.32031803625602, \"err_high\": 19.041460448970362}, {\"time\": \"2009-02-22T13:30:00\", \"variable\": \"TA\", \"value\": 1.4, \"is_present\": true, \"mean\": 0.6833078671958086, \"std\": 9.340444621306606, \"err_low\": -17.997581375417404, \"err_high\": 19.36419710980902}, {\"time\": \"2009-02-22T14:00:00\", \"variable\": \"TA\", \"value\": 1.62, \"is_present\": true, \"mean\": 0.6226755088049281, \"std\": 9.340444621306602, \"err_low\": -18.058213733808277, \"err_high\": 19.303564751418133}, {\"time\": \"2009-02-22T14:30:00\", \"variable\": \"TA\", \"value\": 1.72, \"is_present\": true, \"mean\": 0.5457936764293461, \"std\": 9.3404446213066, \"err_low\": -18.135095566183857, \"err_high\": 19.226682919042545}, {\"time\": \"2009-02-22T15:00:00\", \"variable\": \"TA\", \"value\": 1.75, \"is_present\": true, \"mean\": 0.1883442985780146, \"std\": 9.340444621306595, \"err_low\": -18.492544944035174, \"err_high\": 18.869233541191207}, {\"time\": \"2009-02-22T15:30:00\", \"variable\": \"TA\", \"value\": 1.91, \"is_present\": true, \"mean\": 0.0281161264573786, \"std\": 9.340444621306599, \"err_low\": -18.65277311615582, \"err_high\": 18.709005369070574}, {\"time\": \"2009-02-22T16:00:00\", \"variable\": \"TA\", \"value\": 2.22, \"is_present\": true, \"mean\": 0.02952430024987862, \"std\": 9.340444621306602, \"err_low\": -18.651364942363326, \"err_high\": 18.710413542863083}, {\"time\": \"2009-02-22T16:30:00\", \"variable\": \"TA\", \"value\": 2.33, \"is_present\": true, \"mean\": -0.15349254226955367, \"std\": 9.340444621306606, \"err_low\": -18.834381784882765, \"err_high\": 18.527396700343658}, {\"time\": \"2009-02-22T17:00:00\", \"variable\": \"TA\", \"value\": 2.47, \"is_present\": true, \"mean\": -0.6329801996009792, \"std\": 9.3404446213066, \"err_low\": -19.31386944221418, \"err_high\": 18.047909043012222}, {\"time\": \"2009-02-22T17:30:00\", \"variable\": \"TA\", \"value\": 2.47, \"is_present\": true, \"mean\": -0.803164772854883, \"std\": 9.340444621306597, \"err_low\": -19.484054015468075, \"err_high\": 17.877724469758313}, {\"time\": \"2009-02-22T18:00:00\", \"variable\": \"TA\", \"value\": 2.47, \"is_present\": true, \"mean\": -0.9397330697090531, \"std\": 9.340444621306597, \"err_low\": -19.620622312322247, \"err_high\": 17.74115617290414}, {\"time\": \"2009-02-22T18:30:00\", \"variable\": \"TA\", \"value\": 2.52, \"is_present\": true, \"mean\": -0.9953735895796942, \"std\": 9.3404446213066, \"err_low\": -19.676262832192897, \"err_high\": 17.685515653033505}, {\"time\": \"2009-02-22T19:00:00\", \"variable\": \"TA\", \"value\": 2.53, \"is_present\": true, \"mean\": -0.9876669506629732, \"std\": 9.3404446213066, \"err_low\": -19.668556193276174, \"err_high\": 17.693222291950228}, {\"time\": \"2009-02-22T19:30:00\", \"variable\": \"TA\", \"value\": 2.57, \"is_present\": true, \"mean\": -0.9940009576133431, \"std\": 9.340444621306597, \"err_low\": -19.674890200226535, \"err_high\": 17.686888284999853}, {\"time\": \"2009-02-22T20:00:00\", \"variable\": \"TA\", \"value\": 2.62, \"is_present\": true, \"mean\": -1.026128616877319, \"std\": 9.340444621306593, \"err_low\": -19.707017859490506, \"err_high\": 17.654760625735868}, {\"time\": \"2009-02-22T20:30:00\", \"variable\": \"TA\", \"value\": 2.71, \"is_present\": true, \"mean\": -1.0639041565819536, \"std\": 9.340444621306597, \"err_low\": -19.744793399195146, \"err_high\": 17.616985086031242}, {\"time\": \"2009-02-22T21:00:00\", \"variable\": \"TA\", \"value\": 2.75, \"is_present\": true, \"mean\": -1.0877279107150635, \"std\": 9.340444621306595, \"err_low\": -19.768617153328254, \"err_high\": 17.593161331898127}, {\"time\": \"2009-02-22T21:30:00\", \"variable\": \"TA\", \"value\": 2.69, \"is_present\": true, \"mean\": -1.1194431150426993, \"std\": 9.340444621306604, \"err_low\": -19.800332357655908, \"err_high\": 17.56144612757051}, {\"time\": \"2009-02-22T22:00:00\", \"variable\": \"TA\", \"value\": 2.06, \"is_present\": true, \"mean\": -1.1717859152558159, \"std\": 9.3404446213066, \"err_low\": -19.852675157869015, \"err_high\": 17.509103327357387}, {\"time\": \"2009-02-22T22:30:00\", \"variable\": \"TA\", \"value\": 1.95, \"is_present\": true, \"mean\": -1.3481498506649547, \"std\": 9.340444621306613, \"err_low\": -20.02903909327818, \"err_high\": 17.332739391948273}, {\"time\": \"2009-02-22T23:00:00\", \"variable\": \"TA\", \"value\": 1.92, \"is_present\": true, \"mean\": -1.4319905286936478, \"std\": 9.3404446213066, \"err_low\": -20.11287977130685, \"err_high\": 17.24889871391955}, {\"time\": \"2009-02-22T23:30:00\", \"variable\": \"TA\", \"value\": 1.71, \"is_present\": true, \"mean\": -1.509286405210931, \"std\": 9.340444621306602, \"err_low\": -20.190175647824134, \"err_high\": 17.171602837402276}, {\"time\": \"2009-02-23T00:00:00\", \"variable\": \"TA\", \"value\": 1.42, \"is_present\": true, \"mean\": -1.6258117831237922, \"std\": 9.3404446213066, \"err_low\": -20.30670102573699, \"err_high\": 17.05507745948941}, {\"time\": \"2009-02-23T00:30:00\", \"variable\": \"TA\", \"value\": 1.32, \"is_present\": true, \"mean\": -1.7564976248444193, \"std\": 9.340444621306599, \"err_low\": -20.43738686745762, \"err_high\": 16.924391617768777}, {\"time\": \"2009-02-23T01:00:00\", \"variable\": \"TA\", \"value\": 1.12, \"is_present\": true, \"mean\": -1.8188708207909965, \"std\": 9.340444621306611, \"err_low\": -20.499760063404217, \"err_high\": 16.862018421822228}, {\"time\": \"2009-02-23T01:30:00\", \"variable\": \"TA\", \"value\": 0.73, \"is_present\": true, \"mean\": -1.8728095594006078, \"std\": 9.340444621306606, \"err_low\": -20.55369880201382, \"err_high\": 16.808079683212604}, {\"time\": \"2009-02-23T02:00:00\", \"variable\": \"TA\", \"value\": 0.29, \"is_present\": true, \"mean\": -1.9999452214698685, \"std\": 9.340444621306606, \"err_low\": -20.68083446408308, \"err_high\": 16.680944021143343}, {\"time\": \"2009-02-23T02:30:00\", \"variable\": \"TA\", \"value\": 0.43, \"is_present\": true, \"mean\": -2.142679589981425, \"std\": 9.340444621306599, \"err_low\": -20.823568832594624, \"err_high\": 16.53820965263177}, {\"time\": \"2009-02-23T03:00:00\", \"variable\": \"TA\", \"value\": 0.69, \"is_present\": true, \"mean\": -2.124188730372989, \"std\": 9.340444621306602, \"err_low\": -20.805077972986194, \"err_high\": 16.556700512240216}, {\"time\": \"2009-02-23T03:30:00\", \"variable\": \"TA\", \"value\": 0.82, \"is_present\": true, \"mean\": -2.0781405762229284, \"std\": 9.340444621306608, \"err_low\": -20.759029818836144, \"err_high\": 16.602748666390287}, {\"time\": \"2009-02-23T04:00:00\", \"variable\": \"TA\", \"value\": 0.87, \"is_present\": true, \"mean\": -2.0403574015763546, \"std\": 9.340444621306597, \"err_low\": -20.72124664418955, \"err_high\": 16.64053184103684}, {\"time\": \"2009-02-23T04:30:00\", \"variable\": \"TA\", \"value\": 0.86, \"is_present\": true, \"mean\": -2.0282147146409244, \"std\": 9.340444621306595, \"err_low\": -20.709103957254115, \"err_high\": 16.652674527972266}, {\"time\": \"2009-02-23T05:00:00\", \"variable\": \"TA\", \"value\": 0.85, \"is_present\": true, \"mean\": -2.048889928027833, \"std\": 9.340444621306604, \"err_low\": -20.72977917064104, \"err_high\": 16.631999314585375}, {\"time\": \"2009-02-23T05:30:00\", \"variable\": \"TA\", \"value\": 0.94, \"is_present\": true, \"mean\": -2.0653632869517455, \"std\": 9.340444621306597, \"err_low\": -20.74625252956494, \"err_high\": 16.615525955661447}, {\"time\": \"2009-02-23T06:00:00\", \"variable\": \"TA\", \"value\": 0.91, \"is_present\": true, \"mean\": -2.051717109590239, \"std\": 9.3404446213066, \"err_low\": -20.73260635220344, \"err_high\": 16.629172133022962}, {\"time\": \"2009-02-23T06:30:00\", \"variable\": \"TA\", \"value\": 0.62, \"is_present\": true, \"mean\": -2.0799245981198933, \"std\": 9.3404446213066, \"err_low\": -20.760813840733093, \"err_high\": 16.60096464449331}, {\"time\": \"2009-02-23T07:00:00\", \"variable\": \"TA\", \"value\": 0.52, \"is_present\": true, \"mean\": -2.1927399880857976, \"std\": 9.340444621306604, \"err_low\": -20.873629230699006, \"err_high\": 16.48814925452741}, {\"time\": \"2009-02-23T07:30:00\", \"variable\": \"TA\", \"value\": 0.56, \"is_present\": true, \"mean\": -2.279579574243323, \"std\": 9.340444621306597, \"err_low\": -20.96046881685652, \"err_high\": 16.40130966836987}, {\"time\": \"2009-02-23T08:00:00\", \"variable\": \"TA\", \"value\": 0.58, \"is_present\": true, \"mean\": -2.2737227545523186, \"std\": 9.340444621306606, \"err_low\": -20.95461199716553, \"err_high\": 16.407166488060895}, {\"time\": \"2009-02-23T08:30:00\", \"variable\": \"TA\", \"value\": 0.49, \"is_present\": true, \"mean\": -2.073438279882863, \"std\": 9.340444621306602, \"err_low\": -20.75432752249607, \"err_high\": 16.60745096273034}, {\"time\": \"2009-02-23T09:00:00\", \"variable\": \"TA\", \"value\": 0.51, \"is_present\": true, \"mean\": -1.7994294758943603, \"std\": 9.340444621306602, \"err_low\": -20.480318718507565, \"err_high\": 16.881459766718844}, {\"time\": \"2009-02-23T09:30:00\", \"variable\": \"TA\", \"value\": 0.36, \"is_present\": true, \"mean\": -1.351570161335264, \"std\": 9.340444621306608, \"err_low\": -20.03245940394848, \"err_high\": 17.32931908127795}, {\"time\": \"2009-02-23T10:00:00\", \"variable\": \"TA\", \"value\": 0.45, \"is_present\": true, \"mean\": -1.064818011078172, \"std\": 9.340444621306595, \"err_low\": -19.745707253691364, \"err_high\": 17.616071231535017}, {\"time\": \"2009-02-23T10:30:00\", \"variable\": \"TA\", \"value\": 0.75, \"is_present\": true, \"mean\": -1.3164722034461231, \"std\": 9.340444621306602, \"err_low\": -19.99736144605933, \"err_high\": 17.36441703916708}, {\"time\": \"2009-02-23T11:00:00\", \"variable\": \"TA\", \"value\": 0.97, \"is_present\": true, \"mean\": 0.34040328801496056, \"std\": 9.340444621306595, \"err_low\": -18.34048595459823, \"err_high\": 19.021292530628152}, {\"time\": \"2009-02-23T11:30:00\", \"variable\": \"TA\", \"value\": 1.16, \"is_present\": true, \"mean\": 1.0716103969652, \"std\": 9.340444621306602, \"err_low\": -17.609278845648006, \"err_high\": 19.752499639578403}, {\"time\": \"2009-02-23T12:00:00\", \"variable\": \"TA\", \"value\": 1.42, \"is_present\": true, \"mean\": 1.5411215692188671, \"std\": 9.340444621306604, \"err_low\": -17.139767673394342, \"err_high\": 20.222010811832074}, {\"time\": \"2009-02-23T12:30:00\", \"variable\": \"TA\", \"value\": 1.44, \"is_present\": true, \"mean\": 1.9657810149908066, \"std\": 9.3404446213066, \"err_low\": -16.715108227622395, \"err_high\": 20.646670257604008}, {\"time\": \"2009-02-23T13:00:00\", \"variable\": \"TA\", \"value\": 1.64, \"is_present\": true, \"mean\": 2.4857975925685425, \"std\": 9.340444621306617, \"err_low\": -16.19509165004469, \"err_high\": 21.166686835181775}, {\"time\": \"2009-02-23T13:30:00\", \"variable\": \"TA\", \"value\": 1.65, \"is_present\": true, \"mean\": 3.3768232328589756, \"std\": 9.340444621306606, \"err_low\": -15.304066009754237, \"err_high\": 22.057712475472186}, {\"time\": \"2009-02-23T14:00:00\", \"variable\": \"TA\", \"value\": 1.79, \"is_present\": true, \"mean\": 2.3731518969266974, \"std\": 9.340444621306599, \"err_low\": -16.3077373456865, \"err_high\": 21.054041139539894}, {\"time\": \"2009-02-23T14:30:00\", \"variable\": \"TA\", \"value\": 1.82, \"is_present\": true, \"mean\": 1.470870470296374, \"std\": 9.3404446213066, \"err_low\": -17.21001877231683, \"err_high\": 20.151759712909573}, {\"time\": \"2009-02-23T15:00:00\", \"variable\": \"TA\", \"value\": 1.91, \"is_present\": true, \"mean\": 1.1255394877611788, \"std\": 9.340444621306606, \"err_low\": -17.55534975485203, \"err_high\": 19.806428730374392}, {\"time\": \"2009-02-23T15:30:00\", \"variable\": \"TA\", \"value\": 1.9, \"is_present\": true, \"mean\": 1.042041026636583, \"std\": 9.340444621306602, \"err_low\": -17.638848215976623, \"err_high\": 19.722930269249787}, {\"time\": \"2009-02-23T16:00:00\", \"variable\": \"TA\", \"value\": 1.86, \"is_present\": true, \"mean\": 0.5804486218308966, \"std\": 9.340444621306599, \"err_low\": -18.1004406207823, \"err_high\": 19.261337864444094}, {\"time\": \"2009-02-23T16:30:00\", \"variable\": \"TA\", \"value\": 1.85, \"is_present\": true, \"mean\": 0.277904619221756, \"std\": 9.340444621306611, \"err_low\": -18.40298462339147, \"err_high\": 18.958793861834977}], \"data-a22b92627e11f383ec713a8f7793640a\": [{\"gap_start\": \"2009-02-20T17:00:00\", \"gap_end\": \"2009-02-20T21:30:00\"}], \"data-4c08e66398e4b56d4df410b0b38c3502\": [{\"time\": \"2009-02-19T13:00:00\", \"variable\": \"SW_IN\", \"value\": 482.88, \"is_present\": true, \"mean\": 415.1079749437935, \"std\": 387.1852736095606, \"err_low\": -359.2625722753277, \"err_high\": 1189.4785221629147}, {\"time\": \"2009-02-19T13:30:00\", \"variable\": \"SW_IN\", \"value\": 468.57, \"is_present\": true, \"mean\": 591.1561098993675, \"std\": 498.6938526893268, \"err_low\": -406.23159547928606, \"err_high\": 1588.5438152780212}, {\"time\": \"2009-02-19T14:00:00\", \"variable\": \"SW_IN\", \"value\": 452.47, \"is_present\": true, \"mean\": 461.53286970357505, \"std\": 510.5867191754559, \"err_low\": -559.6405686473367, \"err_high\": 1482.706308054487}, {\"time\": \"2009-02-19T14:30:00\", \"variable\": \"SW_IN\", \"value\": 412.21, \"is_present\": true, \"mean\": 567.7391255726416, \"std\": 508.649224089705, \"err_low\": -449.55932260676843, \"err_high\": 1585.0375737520517}, {\"time\": \"2009-02-19T15:00:00\", \"variable\": \"SW_IN\", \"value\": 335.56, \"is_present\": true, \"mean\": 551.6566816332843, \"std\": 508.3389137560502, \"err_low\": -465.0211458788161, \"err_high\": 1568.3345091453848}, {\"time\": \"2009-02-19T15:30:00\", \"variable\": \"SW_IN\", \"value\": 229.24, \"is_present\": true, \"mean\": 494.0091104262571, \"std\": 508.28531215502466, \"err_low\": -522.5615138837923, \"err_high\": 1510.5797347363064}, {\"time\": \"2009-02-19T16:00:00\", \"variable\": \"SW_IN\", \"value\": 181.01, \"is_present\": true, \"mean\": 386.40371798229535, \"std\": 508.2770401265247, \"err_low\": -630.150362270754, \"err_high\": 1402.9577982353449}, {\"time\": \"2009-02-19T16:30:00\", \"variable\": \"SW_IN\", \"value\": 208.48, \"is_present\": true, \"mean\": 244.56986472209437, \"std\": 508.27574544959793, \"err_low\": -771.9816261771015, \"err_high\": 1261.1213556212901}, {\"time\": \"2009-02-19T17:00:00\", \"variable\": \"SW_IN\", \"value\": 92.64, \"is_present\": true, \"mean\": 149.7862286214387, \"std\": 508.27554652013674, \"err_low\": -866.7648644188348, \"err_high\": 1166.3373216617122}, {\"time\": \"2009-02-19T17:30:00\", \"variable\": \"SW_IN\", \"value\": 23.61, \"is_present\": true, \"mean\": 21.140214217601212, \"std\": 508.27551571963096, \"err_low\": -995.4108172216607, \"err_high\": 1037.6912456568632}, {\"time\": \"2009-02-19T18:00:00\", \"variable\": \"SW_IN\", \"value\": 1.36, \"is_present\": true, \"mean\": -69.42274860399182, \"std\": 508.27551098129163, \"err_low\": -1085.973770566575, \"err_high\": 947.1282733585914}, {\"time\": \"2009-02-19T18:30:00\", \"variable\": \"SW_IN\", \"value\": 0.0, \"is_present\": true, \"mean\": -124.52074813932195, \"std\": 508.2755102495267, \"err_low\": -1141.0717686383753, \"err_high\": 892.0302723597314}, {\"time\": \"2009-02-19T19:00:00\", \"variable\": \"SW_IN\", \"value\": 0.0, \"is_present\": true, \"mean\": -151.437506968602, \"std\": 508.27551013683154, \"err_low\": -1167.988527242265, \"err_high\": 865.1135133050611}, {\"time\": \"2009-02-19T19:30:00\", \"variable\": \"SW_IN\", \"value\": 0.0, \"is_present\": true, \"mean\": -164.13446326315142, \"std\": 508.27551011944485, \"err_low\": -1180.685483502041, \"err_high\": 852.4165569757383}, {\"time\": \"2009-02-19T20:00:00\", \"variable\": \"SW_IN\", \"value\": 0.0, \"is_present\": true, \"mean\": -168.9493521371224, \"std\": 508.275510116765, \"err_low\": -1185.5003723706525, \"err_high\": 847.6016680964076}, {\"time\": \"2009-02-19T20:30:00\", \"variable\": \"SW_IN\", \"value\": 0.0, \"is_present\": true, \"mean\": -173.67672858796817, \"std\": 508.2755101163524, \"err_low\": -1190.227748820673, \"err_high\": 842.8742916447366}, {\"time\": \"2009-02-19T21:00:00\", \"variable\": \"SW_IN\", \"value\": 0.0, \"is_present\": true, \"mean\": -185.97170138914453, \"std\": 508.2755101162887, \"err_low\": -1202.5227216217218, \"err_high\": 830.5793188434328}, {\"time\": \"2009-02-19T21:30:00\", \"variable\": \"SW_IN\", \"value\": 0.0, \"is_present\": true, \"mean\": -198.4320878733792, \"std\": 508.275510116279, \"err_low\": -1214.9831081059372, \"err_high\": 818.1189323591789}, {\"time\": \"2009-02-19T22:00:00\", \"variable\": \"SW_IN\", \"value\": 0.0, \"is_present\": true, \"mean\": -222.68738683802502, \"std\": 508.2755101162779, \"err_low\": -1239.238407070581, \"err_high\": 793.8636333945308}, {\"time\": \"2009-02-19T22:30:00\", \"variable\": \"SW_IN\", \"value\": 0.0, \"is_present\": true, \"mean\": -261.0211889678154, \"std\": 508.2755101162772, \"err_low\": -1277.5722092003698, \"err_high\": 755.529831264739}, {\"time\": \"2009-02-19T23:00:00\", \"variable\": \"SW_IN\", \"value\": 0.0, \"is_present\": true, \"mean\": -287.35682557013126, \"std\": 508.2755101162769, \"err_low\": -1303.9078458026852, \"err_high\": 729.1941946624225}, {\"time\": \"2009-02-19T23:30:00\", \"variable\": \"SW_IN\", \"value\": 0.0, \"is_present\": true, \"mean\": -295.3145945647281, \"std\": 508.27551011627753, \"err_low\": -1311.8656147972831, \"err_high\": 721.236425667827}, {\"time\": \"2009-02-20T00:00:00\", \"variable\": \"SW_IN\", \"value\": 0.0, \"is_present\": true, \"mean\": -305.18157109994416, \"std\": 508.27551011627685, \"err_low\": -1321.7325913324978, \"err_high\": 711.3694491326096}, {\"time\": \"2009-02-20T00:30:00\", \"variable\": \"SW_IN\", \"value\": 0.0, \"is_present\": true, \"mean\": -315.24077843090595, \"std\": 508.27551011627753, \"err_low\": -1331.7917986634611, \"err_high\": 701.3102418016491}, {\"time\": \"2009-02-20T01:00:00\", \"variable\": \"SW_IN\", \"value\": 0.0, \"is_present\": true, \"mean\": -323.588981955148, \"std\": 508.2755101162766, \"err_low\": -1340.1400021877012, \"err_high\": 692.9620382774053}, {\"time\": \"2009-02-20T01:30:00\", \"variable\": \"SW_IN\", \"value\": 0.0, \"is_present\": true, \"mean\": -331.71395795218746, \"std\": 508.2755101162775, \"err_low\": -1348.2649781847424, \"err_high\": 684.8370622803675}, {\"time\": \"2009-02-20T02:00:00\", \"variable\": \"SW_IN\", \"value\": 0.0, \"is_present\": true, \"mean\": -334.55437865344516, \"std\": 508.27551011627656, \"err_low\": -1351.1053988859983, \"err_high\": 681.996641579108}, {\"time\": \"2009-02-20T02:30:00\", \"variable\": \"SW_IN\", \"value\": 0.0, \"is_present\": true, \"mean\": -333.35628577997625, \"std\": 508.2755101162771, \"err_low\": -1349.9073060125304, \"err_high\": 683.1947344525779}, {\"time\": \"2009-02-20T03:00:00\", \"variable\": \"SW_IN\", \"value\": 0.0, \"is_present\": true, \"mean\": -332.4951646839014, \"std\": 508.2755101162773, \"err_low\": -1349.046184916456, \"err_high\": 684.0558555486532}, {\"time\": \"2009-02-20T03:30:00\", \"variable\": \"SW_IN\", \"value\": 0.0, \"is_present\": true, \"mean\": -332.776695191407, \"std\": 508.2755101162772, \"err_low\": -1349.3277154239613, \"err_high\": 683.7743250411474}, {\"time\": \"2009-02-20T04:00:00\", \"variable\": \"SW_IN\", \"value\": 0.0, \"is_present\": true, \"mean\": -332.74155184021805, \"std\": 508.27551011627753, \"err_low\": -1349.292572072773, \"err_high\": 683.8094683923371}, {\"time\": \"2009-02-20T04:30:00\", \"variable\": \"SW_IN\", \"value\": 0.0, \"is_present\": true, \"mean\": -332.5104486134206, \"std\": 508.2755101162771, \"err_low\": -1349.0614688459748, \"err_high\": 684.0405716191335}, {\"time\": \"2009-02-20T05:00:00\", \"variable\": \"SW_IN\", \"value\": 0.0, \"is_present\": true, \"mean\": -329.9795344659332, \"std\": 508.27551011627753, \"err_low\": -1346.5305546984882, \"err_high\": 686.5714857666219}, {\"time\": \"2009-02-20T05:30:00\", \"variable\": \"SW_IN\", \"value\": 0.0, \"is_present\": true, \"mean\": -328.78413086936484, \"std\": 508.2755101162775, \"err_low\": -1345.3351511019198, \"err_high\": 687.7668893631901}, {\"time\": \"2009-02-20T06:00:00\", \"variable\": \"SW_IN\", \"value\": 0.0, \"is_present\": true, \"mean\": -328.6432016603973, \"std\": 508.27551011627736, \"err_low\": -1345.194221892952, \"err_high\": 687.9078185721573}, {\"time\": \"2009-02-20T06:30:00\", \"variable\": \"SW_IN\", \"value\": 0.0, \"is_present\": true, \"mean\": -326.9090996567286, \"std\": 508.2755101162771, \"err_low\": -1343.4601198892829, \"err_high\": 689.6419205758256}, {\"time\": \"2009-02-20T07:00:00\", \"variable\": \"SW_IN\", \"value\": 0.0, \"is_present\": true, \"mean\": -326.4949668136893, \"std\": 508.2755101162773, \"err_low\": -1343.045987046244, \"err_high\": 690.0560534188653}, {\"time\": \"2009-02-20T07:30:00\", \"variable\": \"SW_IN\", \"value\": 0.0, \"is_present\": true, \"mean\": -326.75784388553194, \"std\": 508.2755101162775, \"err_low\": -1343.3088641180868, \"err_high\": 689.7931763470231}, {\"time\": \"2009-02-20T08:00:00\", \"variable\": \"SW_IN\", \"value\": 8.6, \"is_present\": true, \"mean\": -321.0931338112355, \"std\": 508.27551011627764, \"err_low\": -1337.6441540437909, \"err_high\": 695.4578864213198}, {\"time\": \"2009-02-20T08:30:00\", \"variable\": \"SW_IN\", \"value\": 31.2, \"is_present\": true, \"mean\": -302.28849969693636, \"std\": 508.275510116277, \"err_low\": -1318.8395199294905, \"err_high\": 714.2625205356177}, {\"time\": \"2009-02-20T09:00:00\", \"variable\": \"SW_IN\", \"value\": 44.88, \"is_present\": true, \"mean\": -275.20929887620366, \"std\": 508.2755101162773, \"err_low\": -1291.7603191087583, \"err_high\": 741.341721356351}, {\"time\": \"2009-02-20T09:30:00\", \"variable\": \"SW_IN\", \"value\": 55.99, \"is_present\": true, \"mean\": -253.6748713115358, \"std\": 508.2755101162771, \"err_low\": -1270.22589154409, \"err_high\": 762.8761489210183}, {\"time\": \"2009-02-20T10:00:00\", \"variable\": \"SW_IN\", \"value\": 56.54, \"is_present\": true, \"mean\": -235.65495217173157, \"std\": 508.27551011627656, \"err_low\": -1252.2059724042847, \"err_high\": 780.8960680608216}, {\"time\": \"2009-02-20T10:30:00\", \"variable\": \"SW_IN\", \"value\": 99.74, \"is_present\": true, \"mean\": -220.7747088951039, \"std\": 508.2755101162775, \"err_low\": -1237.3257291276589, \"err_high\": 795.776311337451}, {\"time\": \"2009-02-20T11:00:00\", \"variable\": \"SW_IN\", \"value\": 127.73, \"is_present\": true, \"mean\": -190.87657434938865, \"std\": 508.2755101162772, \"err_low\": -1207.4275945819431, \"err_high\": 825.6744458831657}, {\"time\": \"2009-02-20T11:30:00\", \"variable\": \"SW_IN\", \"value\": 139.22, \"is_present\": true, \"mean\": -172.44239341171271, \"std\": 508.2755101162771, \"err_low\": -1188.9934136442669, \"err_high\": 844.1086268208414}, {\"time\": \"2009-02-20T12:00:00\", \"variable\": \"SW_IN\", \"value\": 135.15, \"is_present\": true, \"mean\": -162.00032104686886, \"std\": 508.2755101162772, \"err_low\": -1178.5513412794232, \"err_high\": 854.5506991856855}, {\"time\": \"2009-02-20T12:30:00\", \"variable\": \"SW_IN\", \"value\": 139.83, \"is_present\": true, \"mean\": -159.9004474534646, \"std\": 508.275510116277, \"err_low\": -1176.4514676860185, \"err_high\": 856.6505727790894}, {\"time\": \"2009-02-20T13:00:00\", \"variable\": \"SW_IN\", \"value\": 103.2, \"is_present\": true, \"mean\": -156.0342707904428, \"std\": 508.27551011627673, \"err_low\": -1172.5852910229962, \"err_high\": 860.5167494421107}, {\"time\": \"2009-02-20T13:30:00\", \"variable\": \"SW_IN\", \"value\": 147.91, \"is_present\": true, \"mean\": -132.7098666928145, \"std\": 508.2755101162771, \"err_low\": -1149.2608869253686, \"err_high\": 883.8411535397397}, {\"time\": \"2009-02-20T14:00:00\", \"variable\": \"SW_IN\", \"value\": 111.98, \"is_present\": true, \"mean\": -78.16211087420182, \"std\": 508.2755101162769, \"err_low\": -1094.7131311067556, \"err_high\": 938.388909358352}, {\"time\": \"2009-02-20T14:30:00\", \"variable\": \"SW_IN\", \"value\": 92.38, \"is_present\": true, \"mean\": -95.13890408170163, \"std\": 508.2755101162775, \"err_low\": -1111.6899243142566, \"err_high\": 921.4121161508533}, {\"time\": \"2009-02-20T15:00:00\", \"variable\": \"SW_IN\", \"value\": 81.79, \"is_present\": true, \"mean\": -115.86842644511022, \"std\": 508.2755101162773, \"err_low\": -1132.4194466776648, \"err_high\": 900.6825937874444}, {\"time\": \"2009-02-20T15:30:00\", \"variable\": \"SW_IN\", \"value\": 64.01, \"is_present\": true, \"mean\": -132.3897319515824, \"std\": 508.2755101162771, \"err_low\": -1148.9407521841365, \"err_high\": 884.1612882809718}, {\"time\": \"2009-02-20T16:00:00\", \"variable\": \"SW_IN\", \"value\": 71.72, \"is_present\": true, \"mean\": -153.15701870458201, \"std\": 508.27551011627673, \"err_low\": -1169.7080389371354, \"err_high\": 863.3940015279715}, {\"time\": \"2009-02-20T16:30:00\", \"variable\": \"SW_IN\", \"value\": 37.98, \"is_present\": true, \"mean\": -185.95196569163932, \"std\": 508.275510116277, \"err_low\": -1202.5029859241934, \"err_high\": 830.5990545409147}, {\"time\": \"2009-02-20T17:00:00\", \"variable\": \"SW_IN\", \"value\": 20.95, \"is_present\": true, \"mean\": -239.79092625395543, \"std\": 508.2755101162773, \"err_low\": -1256.34194648651, \"err_high\": 776.7600939785991}, {\"time\": \"2009-02-20T17:30:00\", \"variable\": \"SW_IN\", \"value\": 5.89, \"is_present\": true, \"mean\": -216.2983635102877, \"std\": 514.0044989605458, \"err_low\": -1244.3073614313794, \"err_high\": 811.7106344108039}, {\"time\": \"2009-02-20T18:00:00\", \"variable\": \"SW_IN\", \"value\": 0.0, \"is_present\": true, \"mean\": -247.50760625385698, \"std\": 514.1265509961474, \"err_low\": -1275.7607082461518, \"err_high\": 780.745495738438}, {\"time\": \"2009-02-20T18:30:00\", \"variable\": \"SW_IN\", \"value\": 0.0, \"is_present\": true, \"mean\": -264.6526843041619, \"std\": 514.1453173271289, \"err_low\": -1292.9433189584197, \"err_high\": 763.6379503500958}, {\"time\": \"2009-02-20T19:00:00\", \"variable\": \"SW_IN\", \"value\": 0.0, \"is_present\": true, \"mean\": -275.15430231711383, \"std\": 514.1576236824699, \"err_low\": -1303.4695496820536, \"err_high\": 753.1609450478259}, {\"time\": \"2009-02-20T19:30:00\", \"variable\": \"SW_IN\", \"value\": 0.0, \"is_present\": true, \"mean\": -283.52302753586224, \"std\": 514.15911778262, \"err_low\": -1311.8412631011022, \"err_high\": 744.7952080293778}, {\"time\": \"2009-02-20T20:00:00\", \"variable\": \"SW_IN\", \"value\": 0.0, \"is_present\": true, \"mean\": -286.87224220442994, \"std\": 514.1595221637693, \"err_low\": -1315.1912865319687, \"err_high\": 741.4468021231087}, {\"time\": \"2009-02-20T20:30:00\", \"variable\": \"SW_IN\", \"value\": 0.0, \"is_present\": true, \"mean\": -287.52100241493264, \"std\": 514.1595827225888, \"err_low\": -1315.8401678601101, \"err_high\": 740.798163030245}, {\"time\": \"2009-02-20T21:00:00\", \"variable\": \"SW_IN\", \"value\": 0.0, \"is_present\": true, \"mean\": -288.6212626161712, \"std\": 514.1595959514457, \"err_low\": -1316.9404545190625, \"err_high\": 739.6979292867202}, {\"time\": \"2009-02-20T21:30:00\", \"variable\": \"SW_IN\", \"value\": 0.0, \"is_present\": true, \"mean\": -290.7052752135306, \"std\": 514.1595981800277, \"err_low\": -1319.0244715735862, \"err_high\": 737.6139211465248}, {\"time\": \"2009-02-20T22:00:00\", \"variable\": \"SW_IN\", \"value\": 0.0, \"is_present\": true, \"mean\": -293.1260624001798, \"std\": 514.1595986264355, \"err_low\": -1321.4452596530507, \"err_high\": 735.1931348526912}, {\"time\": \"2009-02-20T22:30:00\", \"variable\": \"SW_IN\", \"value\": 0.0, \"is_present\": true, \"mean\": -333.9677503753694, \"std\": 508.4752133770499, \"err_low\": -1350.9181771294693, \"err_high\": 682.9826763787304}, {\"time\": \"2009-02-20T23:00:00\", \"variable\": \"SW_IN\", \"value\": 0.0, \"is_present\": true, \"mean\": -328.89433629674227, \"std\": 508.3241516667095, \"err_low\": -1345.5426396301614, \"err_high\": 687.7539670366767}, {\"time\": \"2009-02-20T23:30:00\", \"variable\": \"SW_IN\", \"value\": 0.0, \"is_present\": true, \"mean\": -326.9263119035696, \"std\": 508.2895881368144, \"err_low\": -1343.5054881771985, \"err_high\": 689.6528643700592}, {\"time\": \"2009-02-21T00:00:00\", \"variable\": \"SW_IN\", \"value\": 0.0, \"is_present\": true, \"mean\": -326.715033312441, \"std\": 508.277370603793, \"err_low\": -1343.2697745200269, \"err_high\": 689.839707895145}, {\"time\": \"2009-02-21T00:30:00\", \"variable\": \"SW_IN\", \"value\": 0.0, \"is_present\": true, \"mean\": -328.7158354727869, \"std\": 508.27585257410146, \"err_low\": -1345.2675406209898, \"err_high\": 687.835869675416}, {\"time\": \"2009-02-21T01:00:00\", \"variable\": \"SW_IN\", \"value\": 0.0, \"is_present\": true, \"mean\": -330.35892370151277, \"std\": 508.2755580245102, \"err_low\": -1346.910039750533, \"err_high\": 686.1921923475077}, {\"time\": \"2009-02-21T01:30:00\", \"variable\": \"SW_IN\", \"value\": 0.0, \"is_present\": true, \"mean\": -332.69026029014435, \"std\": 508.2755180631544, \"err_low\": -1349.2412964164532, \"err_high\": 683.8607758361644}, {\"time\": \"2009-02-21T02:00:00\", \"variable\": \"SW_IN\", \"value\": 0.0, \"is_present\": true, \"mean\": -333.68728858243117, \"std\": 508.27551128443736, \"err_low\": -1350.2383111513059, \"err_high\": 682.8637339864435}, {\"time\": \"2009-02-21T02:30:00\", \"variable\": \"SW_IN\", \"value\": 0.0, \"is_present\": true, \"mean\": -334.57341775812796, \"std\": 508.2755103024431, \"err_low\": -1351.1244383630142, \"err_high\": 681.9776028467581}, {\"time\": \"2009-02-21T03:00:00\", \"variable\": \"SW_IN\", \"value\": 0.0, \"is_present\": true, \"mean\": -335.3483369621362, \"std\": 508.27551014434306, \"err_low\": -1351.8993572508223, \"err_high\": 681.20268332655}, {\"time\": \"2009-02-21T03:30:00\", \"variable\": \"SW_IN\", \"value\": 0.0, \"is_present\": true, \"mean\": -337.0709966724314, \"std\": 508.27551012067113, \"err_low\": -1353.6220169137737, \"err_high\": 679.4800235689108}, {\"time\": \"2009-02-21T04:00:00\", \"variable\": \"SW_IN\", \"value\": 0.0, \"is_present\": true, \"mean\": -339.1064278465469, \"std\": 508.2755101169475, \"err_low\": -1355.657448080442, \"err_high\": 677.444592387348}, {\"time\": \"2009-02-21T04:30:00\", \"variable\": \"SW_IN\", \"value\": 0.0, \"is_present\": true, \"mean\": -339.31208178214854, \"std\": 508.27551011638093, \"err_low\": -1355.8631020149105, \"err_high\": 677.2389384506133}, {\"time\": \"2009-02-21T05:00:00\", \"variable\": \"SW_IN\", \"value\": 0.0, \"is_present\": true, \"mean\": -340.3001636237778, \"std\": 508.2755101162927, \"err_low\": -1356.8511838563631, \"err_high\": 676.2508566088077}, {\"time\": \"2009-02-21T05:30:00\", \"variable\": \"SW_IN\", \"value\": 0.0, \"is_present\": true, \"mean\": -344.7246191982818, \"std\": 508.2755101162801, \"err_low\": -1361.275639430842, \"err_high\": 671.8264010342784}, {\"time\": \"2009-02-21T06:00:00\", \"variable\": \"SW_IN\", \"value\": 0.0, \"is_present\": true, \"mean\": -345.7727045676266, \"std\": 508.2755101162771, \"err_low\": -1362.3237248001808, \"err_high\": 670.7783156649275}, {\"time\": \"2009-02-21T06:30:00\", \"variable\": \"SW_IN\", \"value\": 0.0, \"is_present\": true, \"mean\": -346.1380871059298, \"std\": 508.27551011627673, \"err_low\": -1362.6891073384832, \"err_high\": 670.4129331266237}, {\"time\": \"2009-02-21T07:00:00\", \"variable\": \"SW_IN\", \"value\": 0.0, \"is_present\": true, \"mean\": -343.2498271204699, \"std\": 508.2755101162775, \"err_low\": -1359.800847353025, \"err_high\": 673.301193112085}, {\"time\": \"2009-02-21T07:30:00\", \"variable\": \"SW_IN\", \"value\": 0.84, \"is_present\": true, \"mean\": -341.10363301222066, \"std\": 508.27551011627685, \"err_low\": -1357.6546532447744, \"err_high\": 675.447387220333}, {\"time\": \"2009-02-21T08:00:00\", \"variable\": \"SW_IN\", \"value\": 9.52, \"is_present\": true, \"mean\": -326.7328038233015, \"std\": 508.27551011627764, \"err_low\": -1343.2838240558567, \"err_high\": 689.8182164092539}, {\"time\": \"2009-02-21T08:30:00\", \"variable\": \"SW_IN\", \"value\": 32.21, \"is_present\": true, \"mean\": -295.21138099159623, \"std\": 508.2755101162773, \"err_low\": -1311.7624012241508, \"err_high\": 721.3396392409584}, {\"time\": \"2009-02-21T09:00:00\", \"variable\": \"SW_IN\", \"value\": 57.2, \"is_present\": true, \"mean\": -256.8498022720854, \"std\": 508.2755101162773, \"err_low\": -1273.40082250464, \"err_high\": 759.7012179604692}, {\"time\": \"2009-02-21T09:30:00\", \"variable\": \"SW_IN\", \"value\": 50.73, \"is_present\": true, \"mean\": -222.07693868846144, \"std\": 508.2755101162773, \"err_low\": -1238.627958921016, \"err_high\": 794.4740815440932}, {\"time\": \"2009-02-21T10:00:00\", \"variable\": \"SW_IN\", \"value\": 70.1, \"is_present\": true, \"mean\": -202.57620830391227, \"std\": 508.2755101162772, \"err_low\": -1219.1272285364666, \"err_high\": 813.9748119286421}, {\"time\": \"2009-02-21T10:30:00\", \"variable\": \"SW_IN\", \"value\": 88.69, \"is_present\": true, \"mean\": -105.24022261113545, \"std\": 508.2755101162773, \"err_low\": -1121.79124284369, \"err_high\": 911.3107976214192}, {\"time\": \"2009-02-21T11:00:00\", \"variable\": \"SW_IN\", \"value\": 153.07, \"is_present\": true, \"mean\": 2.067564394256607, \"std\": 508.2755101162769, \"err_low\": -1014.4834558382972, \"err_high\": 1018.6185846268104}, {\"time\": \"2009-02-21T11:30:00\", \"variable\": \"SW_IN\", \"value\": 195.93, \"is_present\": true, \"mean\": 72.28849094795132, \"std\": 508.2755101162769, \"err_low\": -944.2625292846025, \"err_high\": 1088.839511180505}, {\"time\": \"2009-02-21T12:00:00\", \"variable\": \"SW_IN\", \"value\": 228.6, \"is_present\": true, \"mean\": 115.69561789037934, \"std\": 508.27551011627776, \"err_low\": -900.8554023421761, \"err_high\": 1132.2466381229349}, {\"time\": \"2009-02-21T12:30:00\", \"variable\": \"SW_IN\", \"value\": 285.74, \"is_present\": true, \"mean\": 151.28456905296386, \"std\": 508.2755101162771, \"err_low\": -865.2664511795903, \"err_high\": 1167.835589285518}, {\"time\": \"2009-02-21T13:00:00\", \"variable\": \"SW_IN\", \"value\": 315.04, \"is_present\": true, \"mean\": 192.2407115422744, \"std\": 508.2755101162773, \"err_low\": -824.3103086902802, \"err_high\": 1208.791731774829}, {\"time\": \"2009-02-21T13:30:00\", \"variable\": \"SW_IN\", \"value\": 271.2, \"is_present\": true, \"mean\": 194.81116946159622, \"std\": 508.2755101162773, \"err_low\": -821.7398507709584, \"err_high\": 1211.3621896941509}, {\"time\": \"2009-02-21T14:00:00\", \"variable\": \"SW_IN\", \"value\": 195.84, \"is_present\": true, \"mean\": 135.68575786886223, \"std\": 508.27551011627764, \"err_low\": -880.8652623636931, \"err_high\": 1152.2367781014175}, {\"time\": \"2009-02-21T14:30:00\", \"variable\": \"SW_IN\", \"value\": 202.31, \"is_present\": true, \"mean\": 70.7341414580666, \"std\": 508.27551011627736, \"err_low\": -945.8168787744881, \"err_high\": 1087.2851616906214}, {\"time\": \"2009-02-21T15:00:00\", \"variable\": \"SW_IN\", \"value\": 163.9, \"is_present\": true, \"mean\": 50.878300425844174, \"std\": 508.27551011627673, \"err_low\": -965.6727198067093, \"err_high\": 1067.4293206583977}, {\"time\": \"2009-02-21T15:30:00\", \"variable\": \"SW_IN\", \"value\": 120.32, \"is_present\": true, \"mean\": 9.607843238265005, \"std\": 508.27551011627736, \"err_low\": -1006.9431769942897, \"err_high\": 1026.1588634708198}, {\"time\": \"2009-02-21T16:00:00\", \"variable\": \"SW_IN\", \"value\": 75.01, \"is_present\": true, \"mean\": -44.617264160100106, \"std\": 508.2755101162775, \"err_low\": -1061.168284392655, \"err_high\": 971.9337560724548}, {\"time\": \"2009-02-21T16:30:00\", \"variable\": \"SW_IN\", \"value\": 48.8, \"is_present\": true, \"mean\": -130.51095783745131, \"std\": 508.2755101162771, \"err_low\": -1147.0619780700054, \"err_high\": 886.0400623951028}, {\"time\": \"2009-02-21T17:00:00\", \"variable\": \"SW_IN\", \"value\": 15.36, \"is_present\": true, \"mean\": -205.66985253166854, \"std\": 508.27551011627753, \"err_low\": -1222.2208727642237, \"err_high\": 810.8811677008865}, {\"time\": \"2009-02-21T17:30:00\", \"variable\": \"SW_IN\", \"value\": 6.9, \"is_present\": true, \"mean\": -254.42310519659077, \"std\": 508.2755101162773, \"err_low\": -1270.9741254291453, \"err_high\": 762.1279150359638}, {\"time\": \"2009-02-21T18:00:00\", \"variable\": \"SW_IN\", \"value\": 0.0, \"is_present\": true, \"mean\": -284.2809373171179, \"std\": 508.275510116277, \"err_low\": -1300.8319575496719, \"err_high\": 732.2700829154362}, {\"time\": \"2009-02-21T18:30:00\", \"variable\": \"SW_IN\", \"value\": 0.0, \"is_present\": true, \"mean\": -301.63221057695534, \"std\": 508.2755101162771, \"err_low\": -1318.1832308095095, \"err_high\": 714.9188096555988}, {\"time\": \"2009-02-21T19:00:00\", \"variable\": \"SW_IN\", \"value\": 0.0, \"is_present\": true, \"mean\": -307.8534237864164, \"std\": 508.2755101162773, \"err_low\": -1324.404444018971, \"err_high\": 708.6975964461383}, {\"time\": \"2009-02-21T19:30:00\", \"variable\": \"SW_IN\", \"value\": 0.0, \"is_present\": true, \"mean\": -313.1914831552478, \"std\": 508.27551011627753, \"err_low\": -1329.7425033878028, \"err_high\": 703.3595370773073}, {\"time\": \"2009-02-21T20:00:00\", \"variable\": \"SW_IN\", \"value\": 0.0, \"is_present\": true, \"mean\": -309.78097027559465, \"std\": 508.2755101162771, \"err_low\": -1326.331990508149, \"err_high\": 706.7700499569595}, {\"time\": \"2009-02-21T20:30:00\", \"variable\": \"SW_IN\", \"value\": 0.0, \"is_present\": true, \"mean\": -309.43558142245985, \"std\": 508.2755101162773, \"err_low\": -1325.9866016550145, \"err_high\": 707.1154388100947}, {\"time\": \"2009-02-21T21:00:00\", \"variable\": \"SW_IN\", \"value\": 0.0, \"is_present\": true, \"mean\": -306.65021601137875, \"std\": 508.2755101162769, \"err_low\": -1323.2012362439325, \"err_high\": 709.9008042211751}, {\"time\": \"2009-02-21T21:30:00\", \"variable\": \"SW_IN\", \"value\": 0.0, \"is_present\": true, \"mean\": -307.269493028734, \"std\": 508.2755101162769, \"err_low\": -1323.820513261288, \"err_high\": 709.2815272038198}, {\"time\": \"2009-02-21T22:00:00\", \"variable\": \"SW_IN\", \"value\": 0.0, \"is_present\": true, \"mean\": -313.5399684400579, \"std\": 508.2755101162766, \"err_low\": -1330.0909886726113, \"err_high\": 703.0110517924953}, {\"time\": \"2009-02-21T22:30:00\", \"variable\": \"SW_IN\", \"value\": 0.0, \"is_present\": true, \"mean\": -317.9197941412767, \"std\": 508.27551011627736, \"err_low\": -1334.4708143738314, \"err_high\": 698.631226091278}, {\"time\": \"2009-02-21T23:00:00\", \"variable\": \"SW_IN\", \"value\": 0.0, \"is_present\": true, \"mean\": -328.5004738928377, \"std\": 508.2755101162773, \"err_low\": -1345.0514941253923, \"err_high\": 688.0505463397169}, {\"time\": \"2009-02-21T23:30:00\", \"variable\": \"SW_IN\", \"value\": 0.0, \"is_present\": true, \"mean\": -328.94999885781124, \"std\": 508.275510116277, \"err_low\": -1345.5010190903654, \"err_high\": 687.6010213747428}, {\"time\": \"2009-02-22T00:00:00\", \"variable\": \"SW_IN\", \"value\": 0.0, \"is_present\": true, \"mean\": -329.4571660306772, \"std\": 508.27551011627685, \"err_low\": -1346.008186263231, \"err_high\": 687.0938542018765}, {\"time\": \"2009-02-22T00:30:00\", \"variable\": \"SW_IN\", \"value\": 0.0, \"is_present\": true, \"mean\": -332.5787294690754, \"std\": 508.2755101162773, \"err_low\": -1349.12974970163, \"err_high\": 683.9722907634791}, {\"time\": \"2009-02-22T01:00:00\", \"variable\": \"SW_IN\", \"value\": 0.0, \"is_present\": true, \"mean\": -333.40711674487477, \"std\": 508.2755101162775, \"err_low\": -1349.9581369774296, \"err_high\": 683.1439034876802}, {\"time\": \"2009-02-22T01:30:00\", \"variable\": \"SW_IN\", \"value\": 0.0, \"is_present\": true, \"mean\": -333.2299192534783, \"std\": 508.2755101162773, \"err_low\": -1349.7809394860328, \"err_high\": 683.3211009790764}, {\"time\": \"2009-02-22T02:00:00\", \"variable\": \"SW_IN\", \"value\": 0.0, \"is_present\": true, \"mean\": -330.77052275417765, \"std\": 508.27551011627764, \"err_low\": -1347.321542986733, \"err_high\": 685.7804974783776}, {\"time\": \"2009-02-22T02:30:00\", \"variable\": \"SW_IN\", \"value\": 0.0, \"is_present\": true, \"mean\": -328.9255457996975, \"std\": 508.2755101162771, \"err_low\": -1345.4765660322516, \"err_high\": 687.6254744328567}, {\"time\": \"2009-02-22T03:00:00\", \"variable\": \"SW_IN\", \"value\": 0.0, \"is_present\": true, \"mean\": -325.5743792626781, \"std\": 508.2755101162769, \"err_low\": -1342.125399495232, \"err_high\": 690.9766409698757}, {\"time\": \"2009-02-22T03:30:00\", \"variable\": \"SW_IN\", \"value\": 0.0, \"is_present\": true, \"mean\": -321.25650138361704, \"std\": 508.2755101162772, \"err_low\": -1337.8075216161715, \"err_high\": 695.2945188489373}, {\"time\": \"2009-02-22T04:00:00\", \"variable\": \"SW_IN\", \"value\": 0.0, \"is_present\": true, \"mean\": -318.0755064258236, \"std\": 508.2755101162775, \"err_low\": -1334.6265266583787, \"err_high\": 698.4755138067313}, {\"time\": \"2009-02-22T04:30:00\", \"variable\": \"SW_IN\", \"value\": 0.0, \"is_present\": true, \"mean\": -314.69017229762466, \"std\": 508.27551011627736, \"err_low\": -1331.2411925301794, \"err_high\": 701.86084793493}, {\"time\": \"2009-02-22T05:00:00\", \"variable\": \"SW_IN\", \"value\": 0.0, \"is_present\": true, \"mean\": -311.1331516836821, \"std\": 508.2755101162769, \"err_low\": -1327.684171916236, \"err_high\": 705.4178685488716}, {\"time\": \"2009-02-22T05:30:00\", \"variable\": \"SW_IN\", \"value\": 0.0, \"is_present\": true, \"mean\": -310.26431015063406, \"std\": 508.27551011627673, \"err_low\": -1326.8153303831875, \"err_high\": 706.2867100819194}, {\"time\": \"2009-02-22T06:00:00\", \"variable\": \"SW_IN\", \"value\": 0.0, \"is_present\": true, \"mean\": -308.91868302207365, \"std\": 508.27551011627764, \"err_low\": -1325.469703254629, \"err_high\": 707.6323372104816}, {\"time\": \"2009-02-22T06:30:00\", \"variable\": \"SW_IN\", \"value\": 0.0, \"is_present\": true, \"mean\": -308.54028792102116, \"std\": 508.2755101162771, \"err_low\": -1325.0913081535753, \"err_high\": 708.010732311533}, {\"time\": \"2009-02-22T07:00:00\", \"variable\": \"SW_IN\", \"value\": 0.0, \"is_present\": true, \"mean\": -308.14689665854803, \"std\": 508.2755101162775, \"err_low\": -1324.697916891103, \"err_high\": 708.4041235740069}, {\"time\": \"2009-02-22T07:30:00\", \"variable\": \"SW_IN\", \"value\": 0.0, \"is_present\": true, \"mean\": -308.2418619257099, \"std\": 508.275510116277, \"err_low\": -1324.7928821582639, \"err_high\": 708.3091583068442}, {\"time\": \"2009-02-22T08:00:00\", \"variable\": \"SW_IN\", \"value\": 3.29, \"is_present\": true, \"mean\": -300.2277713226162, \"std\": 508.275510116277, \"err_low\": -1316.7787915551703, \"err_high\": 716.3232489099378}, {\"time\": \"2009-02-22T08:30:00\", \"variable\": \"SW_IN\", \"value\": 12.32, \"is_present\": true, \"mean\": -282.39498951788687, \"std\": 508.27551011627685, \"err_low\": -1298.9460097504407, \"err_high\": 734.1560307146668}, {\"time\": \"2009-02-22T09:00:00\", \"variable\": \"SW_IN\", \"value\": 27.51, \"is_present\": true, \"mean\": -260.60200083034886, \"std\": 508.27551011627764, \"err_low\": -1277.1530210629041, \"err_high\": 755.9490194022064}, {\"time\": \"2009-02-22T09:30:00\", \"variable\": \"SW_IN\", \"value\": 24.67, \"is_present\": true, \"mean\": -238.40179916271046, \"std\": 508.2755101162771, \"err_low\": -1254.9528193952647, \"err_high\": 778.1492210698436}, {\"time\": \"2009-02-22T10:00:00\", \"variable\": \"SW_IN\", \"value\": 60.11, \"is_present\": true, \"mean\": -225.89196068534068, \"std\": 508.2755101162773, \"err_low\": -1242.4429809178953, \"err_high\": 790.6590595472139}, {\"time\": \"2009-02-22T10:30:00\", \"variable\": \"SW_IN\", \"value\": 56.82, \"is_present\": true, \"mean\": -194.18069848497782, \"std\": 508.27551011627673, \"err_low\": -1210.7317187175313, \"err_high\": 822.3703217475756}, {\"time\": \"2009-02-22T11:00:00\", \"variable\": \"SW_IN\", \"value\": 60.29, \"is_present\": true, \"mean\": -180.599867944695, \"std\": 508.2755101162775, \"err_low\": -1197.15088817725, \"err_high\": 835.9511522878599}, {\"time\": \"2009-02-22T11:30:00\", \"variable\": \"SW_IN\", \"value\": 81.65, \"is_present\": true, \"mean\": -169.16695731932492, \"std\": 508.2755101162772, \"err_low\": -1185.7179775518794, \"err_high\": 847.3840629132294}, {\"time\": \"2009-02-22T12:00:00\", \"variable\": \"SW_IN\", \"value\": 53.88, \"is_present\": true, \"mean\": -154.13784395018666, \"std\": 508.27551011627673, \"err_low\": -1170.6888641827402, \"err_high\": 862.4131762823667}, {\"time\": \"2009-02-22T12:30:00\", \"variable\": \"SW_IN\", \"value\": 61.94, \"is_present\": true, \"mean\": -159.8863235669969, \"std\": 508.2755101162771, \"err_low\": -1176.437343799551, \"err_high\": 856.6646966655572}, {\"time\": \"2009-02-22T13:00:00\", \"variable\": \"SW_IN\", \"value\": 82.63, \"is_present\": true, \"mean\": -153.70762084692365, \"std\": 508.2755101162769, \"err_low\": -1170.2586410794775, \"err_high\": 862.8433993856302}, {\"time\": \"2009-02-22T13:30:00\", \"variable\": \"SW_IN\", \"value\": 105.6, \"is_present\": true, \"mean\": -154.79872004003312, \"std\": 508.2755101162775, \"err_low\": -1171.349740272588, \"err_high\": 861.7523001925218}, {\"time\": \"2009-02-22T14:00:00\", \"variable\": \"SW_IN\", \"value\": 105.14, \"is_present\": true, \"mean\": -160.70971225092433, \"std\": 508.2755101162773, \"err_low\": -1177.260732483479, \"err_high\": 855.8413079816303}, {\"time\": \"2009-02-22T14:30:00\", \"variable\": \"SW_IN\", \"value\": 68.08, \"is_present\": true, \"mean\": -169.21968331283028, \"std\": 508.2755101162771, \"err_low\": -1185.7707035453845, \"err_high\": 847.3313369197239}, {\"time\": \"2009-02-22T15:00:00\", \"variable\": \"SW_IN\", \"value\": 61.01, \"is_present\": true, \"mean\": -193.13961663014265, \"std\": 508.27551011627673, \"err_low\": -1209.690636862696, \"err_high\": 823.4114036024108}, {\"time\": \"2009-02-22T15:30:00\", \"variable\": \"SW_IN\", \"value\": 71.02, \"is_present\": true, \"mean\": -205.63247703732804, \"std\": 508.275510116277, \"err_low\": -1222.183497269882, \"err_high\": 810.918543195226}, {\"time\": \"2009-02-22T16:00:00\", \"variable\": \"SW_IN\", \"value\": 46.38, \"is_present\": true, \"mean\": -209.5009864353945, \"std\": 508.2755101162773, \"err_low\": -1226.0520066679492, \"err_high\": 807.05003379716}, {\"time\": \"2009-02-22T16:30:00\", \"variable\": \"SW_IN\", \"value\": 34.63, \"is_present\": true, \"mean\": -240.46652047645472, \"std\": 508.27551011627736, \"err_low\": -1257.0175407090094, \"err_high\": 776.0844997561001}, {\"time\": \"2009-02-22T17:00:00\", \"variable\": \"SW_IN\", \"value\": 15.3, \"is_present\": true, \"mean\": -265.04040306434115, \"std\": 508.2755101162771, \"err_low\": -1281.5914232968953, \"err_high\": 751.510617168213}, {\"time\": \"2009-02-22T17:30:00\", \"variable\": \"SW_IN\", \"value\": 1.59, \"is_present\": true, \"mean\": -276.213020164801, \"std\": 508.2755101162769, \"err_low\": -1292.7640403973548, \"err_high\": 740.3380000677528}, {\"time\": \"2009-02-22T18:00:00\", \"variable\": \"SW_IN\", \"value\": 0.0, \"is_present\": true, \"mean\": -284.49924110624477, \"std\": 508.2755101162769, \"err_low\": -1301.0502613387985, \"err_high\": 732.051779126309}, {\"time\": \"2009-02-22T18:30:00\", \"variable\": \"SW_IN\", \"value\": 0.0, \"is_present\": true, \"mean\": -286.362727258862, \"std\": 508.2755101162771, \"err_low\": -1302.9137474914162, \"err_high\": 730.1882929736921}, {\"time\": \"2009-02-22T19:00:00\", \"variable\": \"SW_IN\", \"value\": 0.0, \"is_present\": true, \"mean\": -285.3090407021897, \"std\": 508.2755101162773, \"err_low\": -1301.8600609347443, \"err_high\": 731.2419795303649}, {\"time\": \"2009-02-22T19:30:00\", \"variable\": \"SW_IN\", \"value\": 0.0, \"is_present\": true, \"mean\": -285.3516636410633, \"std\": 508.27551011627685, \"err_low\": -1301.902683873617, \"err_high\": 731.1993565914904}, {\"time\": \"2009-02-22T20:00:00\", \"variable\": \"SW_IN\", \"value\": 0.0, \"is_present\": true, \"mean\": -286.55791947565996, \"std\": 508.2755101162766, \"err_low\": -1303.1089397082133, \"err_high\": 729.9931007568932}, {\"time\": \"2009-02-22T20:30:00\", \"variable\": \"SW_IN\", \"value\": 0.0, \"is_present\": true, \"mean\": -287.2020652939796, \"std\": 508.27551011627685, \"err_low\": -1303.7530855265334, \"err_high\": 729.348954938574}, {\"time\": \"2009-02-22T21:00:00\", \"variable\": \"SW_IN\", \"value\": 0.0, \"is_present\": true, \"mean\": -286.92820490536906, \"std\": 508.27551011627685, \"err_low\": -1303.4792251379226, \"err_high\": 729.6228153271846}, {\"time\": \"2009-02-22T21:30:00\", \"variable\": \"SW_IN\", \"value\": 0.0, \"is_present\": true, \"mean\": -287.08638647792884, \"std\": 508.27551011627736, \"err_low\": -1303.6374067104834, \"err_high\": 729.4646337546259}, {\"time\": \"2009-02-22T22:00:00\", \"variable\": \"SW_IN\", \"value\": 0.0, \"is_present\": true, \"mean\": -288.42520941428285, \"std\": 508.2755101162771, \"err_low\": -1304.976229646837, \"err_high\": 728.1258108182712}, {\"time\": \"2009-02-22T22:30:00\", \"variable\": \"SW_IN\", \"value\": 0.0, \"is_present\": true, \"mean\": -297.20016051354173, \"std\": 508.2755101162778, \"err_low\": -1313.7511807460974, \"err_high\": 719.3508597190139}, {\"time\": \"2009-02-22T23:00:00\", \"variable\": \"SW_IN\", \"value\": 0.0, \"is_present\": true, \"mean\": -298.91628140835144, \"std\": 508.2755101162771, \"err_low\": -1315.4673016409056, \"err_high\": 717.6347388242027}, {\"time\": \"2009-02-22T23:30:00\", \"variable\": \"SW_IN\", \"value\": 0.0, \"is_present\": true, \"mean\": -299.86673603035075, \"std\": 508.2755101162772, \"err_low\": -1316.4177562629052, \"err_high\": 716.6842842022036}, {\"time\": \"2009-02-23T00:00:00\", \"variable\": \"SW_IN\", \"value\": 0.0, \"is_present\": true, \"mean\": -303.2043067363403, \"std\": 508.2755101162771, \"err_low\": -1319.7553269688945, \"err_high\": 713.3467134962139}, {\"time\": \"2009-02-23T00:30:00\", \"variable\": \"SW_IN\", \"value\": 0.0, \"is_present\": true, \"mean\": -307.1231181434366, \"std\": 508.275510116277, \"err_low\": -1323.6741383759907, \"err_high\": 709.4279020891174}, {\"time\": \"2009-02-23T01:00:00\", \"variable\": \"SW_IN\", \"value\": 0.0, \"is_present\": true, \"mean\": -306.78465610213243, \"std\": 508.27551011627776, \"err_low\": -1323.3356763346878, \"err_high\": 709.7663641304231}, {\"time\": \"2009-02-23T01:30:00\", \"variable\": \"SW_IN\", \"value\": 0.0, \"is_present\": true, \"mean\": -306.3107856886918, \"std\": 508.27551011627736, \"err_low\": -1322.8618059212465, \"err_high\": 710.2402345438629}, {\"time\": \"2009-02-23T02:00:00\", \"variable\": \"SW_IN\", \"value\": 0.0, \"is_present\": true, \"mean\": -310.80116499588377, \"std\": 508.2755101162775, \"err_low\": -1327.3521852284387, \"err_high\": 705.7498552366712}, {\"time\": \"2009-02-23T02:30:00\", \"variable\": \"SW_IN\", \"value\": 0.0, \"is_present\": true, \"mean\": -316.94358737054785, \"std\": 508.275510116277, \"err_low\": -1333.494607603102, \"err_high\": 699.6074328620061}, {\"time\": \"2009-02-23T03:00:00\", \"variable\": \"SW_IN\", \"value\": 0.0, \"is_present\": true, \"mean\": -313.22944147534463, \"std\": 508.2755101162773, \"err_low\": -1329.7804617078991, \"err_high\": 703.32157875721}, {\"time\": \"2009-02-23T03:30:00\", \"variable\": \"SW_IN\", \"value\": 0.0, \"is_present\": true, \"mean\": -308.852402687012, \"std\": 508.27551011627753, \"err_low\": -1325.403422919567, \"err_high\": 707.6986175455431}, {\"time\": \"2009-02-23T04:00:00\", \"variable\": \"SW_IN\", \"value\": 0.0, \"is_present\": true, \"mean\": -305.43508309293543, \"std\": 508.2755101162769, \"err_low\": -1321.9861033254892, \"err_high\": 711.1159371396184}, {\"time\": \"2009-02-23T04:30:00\", \"variable\": \"SW_IN\", \"value\": 0.0, \"is_present\": true, \"mean\": -303.6610540248083, \"std\": 508.27551011627685, \"err_low\": -1320.212074257362, \"err_high\": 712.8899662077454}, {\"time\": \"2009-02-23T05:00:00\", \"variable\": \"SW_IN\", \"value\": 0.0, \"is_present\": true, \"mean\": -303.89108382794245, \"std\": 508.2755101162773, \"err_low\": -1320.442104060497, \"err_high\": 712.6599364046122}, {\"time\": \"2009-02-23T05:30:00\", \"variable\": \"SW_IN\", \"value\": 0.0, \"is_present\": true, \"mean\": -303.976928838244, \"std\": 508.27551011627685, \"err_low\": -1320.5279490707976, \"err_high\": 712.5740913943097}, {\"time\": \"2009-02-23T06:00:00\", \"variable\": \"SW_IN\", \"value\": 0.0, \"is_present\": true, \"mean\": -302.2455577539521, \"std\": 508.2755101162771, \"err_low\": -1318.7965779865062, \"err_high\": 714.3054624786021}, {\"time\": \"2009-02-23T06:30:00\", \"variable\": \"SW_IN\", \"value\": 0.0, \"is_present\": true, \"mean\": -303.20038444772337, \"std\": 508.2755101162771, \"err_low\": -1319.7514046802776, \"err_high\": 713.3506357848307}, {\"time\": \"2009-02-23T07:00:00\", \"variable\": \"SW_IN\", \"value\": 0.0, \"is_present\": true, \"mean\": -309.0543559127308, \"std\": 508.2755101162773, \"err_low\": -1325.6053761452854, \"err_high\": 707.4966643198238}, {\"time\": \"2009-02-23T07:30:00\", \"variable\": \"SW_IN\", \"value\": 0.75, \"is_present\": true, \"mean\": -312.79408770929564, \"std\": 508.27551011627685, \"err_low\": -1329.3451079418494, \"err_high\": 703.756932523258}, {\"time\": \"2009-02-23T08:00:00\", \"variable\": \"SW_IN\", \"value\": 6.0, \"is_present\": true, \"mean\": -303.5544755524831, \"std\": 508.27551011627753, \"err_low\": -1320.105495785038, \"err_high\": 712.996544680072}, {\"time\": \"2009-02-23T08:30:00\", \"variable\": \"SW_IN\", \"value\": 19.02, \"is_present\": true, \"mean\": -283.69276153892343, \"std\": 508.2755101162773, \"err_low\": -1300.243781771478, \"err_high\": 732.8582586936311}, {\"time\": \"2009-02-23T09:00:00\", \"variable\": \"SW_IN\", \"value\": 54.83, \"is_present\": true, \"mean\": -261.1021362120077, \"std\": 508.2755101162772, \"err_low\": -1277.653156444562, \"err_high\": 755.4488840205468}, {\"time\": \"2009-02-23T09:30:00\", \"variable\": \"SW_IN\", \"value\": 76.25, \"is_present\": true, \"mean\": -229.7511013228551, \"std\": 508.27551011627753, \"err_low\": -1246.3021215554102, \"err_high\": 786.7999189097}, {\"time\": \"2009-02-23T10:00:00\", \"variable\": \"SW_IN\", \"value\": 50.22, \"is_present\": true, \"mean\": -209.3915641058628, \"std\": 508.27551011627673, \"err_low\": -1225.9425843384163, \"err_high\": 807.1594561266907}, {\"time\": \"2009-02-23T10:30:00\", \"variable\": \"SW_IN\", \"value\": 63.29, \"is_present\": true, \"mean\": -147.76373818020818, \"std\": 508.2755101162772, \"err_low\": -1164.3147584127626, \"err_high\": 868.7872820523462}, {\"time\": \"2009-02-23T11:00:00\", \"variable\": \"SW_IN\", \"value\": 86.03, \"is_present\": true, \"mean\": -57.5045278905434, \"std\": 508.27551011627673, \"err_low\": -1074.055548123097, \"err_high\": 959.0464923420101}, {\"time\": \"2009-02-23T11:30:00\", \"variable\": \"SW_IN\", \"value\": 97.32, \"is_present\": true, \"mean\": -13.559447066742777, \"std\": 508.2755101162773, \"err_low\": -1030.1104672992974, \"err_high\": 1002.9915731658118}, {\"time\": \"2009-02-23T12:00:00\", \"variable\": \"SW_IN\", \"value\": 106.75, \"is_present\": true, \"mean\": 9.17365875420954, \"std\": 508.27551011627736, \"err_low\": -1007.3773614783452, \"err_high\": 1025.7246789867643}, {\"time\": \"2009-02-23T12:30:00\", \"variable\": \"SW_IN\", \"value\": 142.63, \"is_present\": true, \"mean\": 28.07761709573198, \"std\": 508.2755101162772, \"err_low\": -988.4734031368224, \"err_high\": 1044.6286373282865}, {\"time\": \"2009-02-23T13:00:00\", \"variable\": \"SW_IN\", \"value\": 206.0, \"is_present\": true, \"mean\": 49.24409776921061, \"std\": 508.2755101162781, \"err_low\": -967.3069224633456, \"err_high\": 1065.7951180017667}, {\"time\": \"2009-02-23T13:30:00\", \"variable\": \"SW_IN\", \"value\": 195.47, \"is_present\": true, \"mean\": 38.63176689686256, \"std\": 508.27551011627736, \"err_low\": -977.9192533356921, \"err_high\": 1055.1827871294172}, {\"time\": \"2009-02-23T14:00:00\", \"variable\": \"SW_IN\", \"value\": 104.56, \"is_present\": true, \"mean\": -19.089194665111634, \"std\": 508.2755101162771, \"err_low\": -1035.6402148976658, \"err_high\": 997.4618255674425}, {\"time\": \"2009-02-23T14:30:00\", \"variable\": \"SW_IN\", \"value\": 83.98, \"is_present\": true, \"mean\": -77.83866320124322, \"std\": 508.2755101162771, \"err_low\": -1094.3896834337975, \"err_high\": 938.712357031311}, {\"time\": \"2009-02-23T15:00:00\", \"variable\": \"SW_IN\", \"value\": 92.06, \"is_present\": true, \"mean\": -102.04128706321428, \"std\": 508.2755101162775, \"err_low\": -1118.5923072957692, \"err_high\": 914.5097331693406}, {\"time\": \"2009-02-23T15:30:00\", \"variable\": \"SW_IN\", \"value\": 57.84, \"is_present\": true, \"mean\": -114.0475090782145, \"std\": 508.2755101162773, \"err_low\": -1130.5985293107692, \"err_high\": 902.5035111543401}, {\"time\": \"2009-02-23T16:00:00\", \"variable\": \"SW_IN\", \"value\": 40.63, \"is_present\": true, \"mean\": -149.76047551842578, \"std\": 508.2755101162771, \"err_low\": -1166.31149575098, \"err_high\": 866.7905447141284}, {\"time\": \"2009-02-23T16:30:00\", \"variable\": \"SW_IN\", \"value\": 57.78, \"is_present\": true, \"mean\": -205.46593109784214, \"std\": 508.27551011627776, \"err_low\": -1222.0169513303977, \"err_high\": 811.0850891347134}], \"data-032f9311e2f32b888912fef675ce161b\": [{\"time\": \"2009-02-19T13:00:00\", \"variable\": \"VPD\", \"value\": 1.951, \"is_present\": true, \"mean\": 7.23660337108244, \"std\": 8.3300876980742, \"err_low\": -9.42357202506596, \"err_high\": 23.896778767230842}, {\"time\": \"2009-02-19T13:30:00\", \"variable\": \"VPD\", \"value\": 2.085, \"is_present\": true, \"mean\": 11.004704323027447, \"std\": 11.839657092095774, \"err_low\": -12.6746098611641, \"err_high\": 34.684018507218994}, {\"time\": \"2009-02-19T14:00:00\", \"variable\": \"VPD\", \"value\": 2.271, \"is_present\": true, \"mean\": 8.260046260568005, \"std\": 12.125582425118541, \"err_low\": -15.991118589669076, \"err_high\": 32.511211110805085}, {\"time\": \"2009-02-19T14:30:00\", \"variable\": \"VPD\", \"value\": 2.442, \"is_present\": true, \"mean\": 10.91645233958861, \"std\": 12.07240110508741, \"err_low\": -13.22834987058621, \"err_high\": 35.06125454976343}, {\"time\": \"2009-02-19T15:00:00\", \"variable\": \"VPD\", \"value\": 2.549, \"is_present\": true, \"mean\": 10.609411385519454, \"std\": 12.06372946628001, \"err_low\": -13.518047547040567, \"err_high\": 34.736870318079475}, {\"time\": \"2009-02-19T15:30:00\", \"variable\": \"VPD\", \"value\": 2.464, \"is_present\": true, \"mean\": 9.224385505163019, \"std\": 12.062244641414978, \"err_low\": -14.900103777666937, \"err_high\": 33.348874787992976}, {\"time\": \"2009-02-19T16:00:00\", \"variable\": \"VPD\", \"value\": 2.43, \"is_present\": true, \"mean\": 6.606075646648133, \"std\": 12.062015204819165, \"err_low\": -17.517954762990197, \"err_high\": 30.730106056286463}, {\"time\": \"2009-02-19T16:30:00\", \"variable\": \"VPD\", \"value\": 2.814, \"is_present\": true, \"mean\": 3.262619820919697, \"std\": 12.061979344435377, \"err_low\": -20.86133886795106, \"err_high\": 27.38657850979045}, {\"time\": \"2009-02-19T17:00:00\", \"variable\": \"VPD\", \"value\": 2.86, \"is_present\": true, \"mean\": 0.8747554605209218, \"std\": 12.0619738318277, \"err_low\": -23.249192203134477, \"err_high\": 24.998703124176323}, {\"time\": \"2009-02-19T17:30:00\", \"variable\": \"VPD\", \"value\": 2.884, \"is_present\": true, \"mean\": -2.2894594315030634, \"std\": 12.061972978702551, \"err_low\": -26.413405388908167, \"err_high\": 21.834486525902037}, {\"time\": \"2009-02-19T18:00:00\", \"variable\": \"VPD\", \"value\": 2.761, \"is_present\": true, \"mean\": -4.527580141821167, \"std\": 12.061972847426299, \"err_low\": -28.651525836673763, \"err_high\": 19.596365553031433}, {\"time\": \"2009-02-19T18:30:00\", \"variable\": \"VPD\", \"value\": 2.582, \"is_present\": true, \"mean\": -5.903266374712259, \"std\": 12.061972827156659, \"err_low\": -30.027212029025577, \"err_high\": 18.220679279601057}, {\"time\": \"2009-02-19T19:00:00\", \"variable\": \"VPD\", \"value\": 2.639, \"is_present\": true, \"mean\": -6.566636951857862, \"std\": 12.06197282403467, \"err_low\": -30.690582599927204, \"err_high\": 17.55730869621148}, {\"time\": \"2009-02-19T19:30:00\", \"variable\": \"VPD\", \"value\": 2.508, \"is_present\": true, \"mean\": -6.881548401853187, \"std\": 12.061972823553049, \"err_low\": -31.005494048959285, \"err_high\": 17.24239724525291}, {\"time\": \"2009-02-19T20:00:00\", \"variable\": \"VPD\", \"value\": 2.251, \"is_present\": true, \"mean\": -6.99527405086375, \"std\": 12.061972823478811, \"err_low\": -31.11921969782137, \"err_high\": 17.128671596093874}, {\"time\": \"2009-02-19T20:30:00\", \"variable\": \"VPD\", \"value\": 1.925, \"is_present\": true, \"mean\": -7.100493022830611, \"std\": 12.061972823467379, \"err_low\": -31.22443866976537, \"err_high\": 17.023452624104145}, {\"time\": \"2009-02-19T21:00:00\", \"variable\": \"VPD\", \"value\": 1.659, \"is_present\": true, \"mean\": -7.403409345996461, \"std\": 12.061972823465617, \"err_low\": -31.527354992927695, \"err_high\": 16.72053630093477}, {\"time\": \"2009-02-19T21:30:00\", \"variable\": \"VPD\", \"value\": 1.235, \"is_present\": true, \"mean\": -7.711926518037665, \"std\": 12.061972823465348, \"err_low\": -31.83587216496836, \"err_high\": 16.412019128893032}, {\"time\": \"2009-02-19T22:00:00\", \"variable\": \"VPD\", \"value\": 0.609, \"is_present\": true, \"mean\": -8.314620984578092, \"std\": 12.061972823465318, \"err_low\": -32.43856663150873, \"err_high\": 15.809324662352545}, {\"time\": \"2009-02-19T22:30:00\", \"variable\": \"VPD\", \"value\": 0.228, \"is_present\": true, \"mean\": -9.266536196051145, \"std\": 12.061972823465297, \"err_low\": -33.39048184298174, \"err_high\": 14.857409450879448}, {\"time\": \"2009-02-19T23:00:00\", \"variable\": \"VPD\", \"value\": 0.174, \"is_present\": true, \"mean\": -9.921485738381119, \"std\": 12.06197282346529, \"err_low\": -34.0454313853117, \"err_high\": 14.20245990854946}, {\"time\": \"2009-02-19T23:30:00\", \"variable\": \"VPD\", \"value\": 0.118, \"is_present\": true, \"mean\": -10.121207427685942, \"std\": 12.061972823465307, \"err_low\": -34.24515307461655, \"err_high\": 14.002738219244673}, {\"time\": \"2009-02-20T00:00:00\", \"variable\": \"VPD\", \"value\": 0.074, \"is_present\": true, \"mean\": -10.368669583073348, \"std\": 12.061972823465288, \"err_low\": -34.49261523000392, \"err_high\": 13.755276063857227}, {\"time\": \"2009-02-20T00:30:00\", \"variable\": \"VPD\", \"value\": 0.049, \"is_present\": true, \"mean\": -10.622254552214567, \"std\": 12.061972823465307, \"err_low\": -34.74620019914518, \"err_high\": 13.501691094716048}, {\"time\": \"2009-02-20T01:00:00\", \"variable\": \"VPD\", \"value\": 0.029, \"is_present\": true, \"mean\": -10.834068151016815, \"std\": 12.061972823465284, \"err_low\": -34.95801379794739, \"err_high\": 13.289877495913753}, {\"time\": \"2009-02-20T01:30:00\", \"variable\": \"VPD\", \"value\": 0.016, \"is_present\": true, \"mean\": -11.040766066614335, \"std\": 12.061972823465304, \"err_low\": -35.164711713544946, \"err_high\": 13.083179580316273}, {\"time\": \"2009-02-20T02:00:00\", \"variable\": \"VPD\", \"value\": 0.006, \"is_present\": true, \"mean\": -11.11286823843653, \"std\": 12.06197282346528, \"err_low\": -35.23681388536709, \"err_high\": 13.011077408494032}, {\"time\": \"2009-02-20T02:30:00\", \"variable\": \"VPD\", \"value\": 0.001, \"is_present\": true, \"mean\": -11.082769536870941, \"std\": 12.061972823465295, \"err_low\": -35.206715183801535, \"err_high\": 13.041176110059649}, {\"time\": \"2009-02-20T03:00:00\", \"variable\": \"VPD\", \"value\": 0.0, \"is_present\": true, \"mean\": -11.06284990374629, \"std\": 12.061972823465302, \"err_low\": -35.18679555067689, \"err_high\": 13.061095743184314}, {\"time\": \"2009-02-20T03:30:00\", \"variable\": \"VPD\", \"value\": 0.0, \"is_present\": true, \"mean\": -11.071585130102655, \"std\": 12.061972823465297, \"err_low\": -35.19553077703325, \"err_high\": 13.052360516827939}, {\"time\": \"2009-02-20T04:00:00\", \"variable\": \"VPD\", \"value\": 0.0, \"is_present\": true, \"mean\": -11.07298454086197, \"std\": 12.061972823465307, \"err_low\": -35.19693018779259, \"err_high\": 13.050961106068645}, {\"time\": \"2009-02-20T04:30:00\", \"variable\": \"VPD\", \"value\": 0.0, \"is_present\": true, \"mean\": -11.069754549474883, \"std\": 12.061972823465295, \"err_low\": -35.19370019640547, \"err_high\": 13.054191097455707}, {\"time\": \"2009-02-20T05:00:00\", \"variable\": \"VPD\", \"value\": 0.0, \"is_present\": true, \"mean\": -11.009417559574583, \"std\": 12.061972823465307, \"err_low\": -35.133363206505194, \"err_high\": 13.114528087356032}, {\"time\": \"2009-02-20T05:30:00\", \"variable\": \"VPD\", \"value\": 0.0, \"is_present\": true, \"mean\": -10.981153761697964, \"std\": 12.061972823465304, \"err_low\": -35.105099408628575, \"err_high\": 13.142791885232644}, {\"time\": \"2009-02-20T06:00:00\", \"variable\": \"VPD\", \"value\": 0.0, \"is_present\": true, \"mean\": -10.980024140288315, \"std\": 12.061972823465302, \"err_low\": -35.103969787218915, \"err_high\": 13.14392150664229}, {\"time\": \"2009-02-20T06:30:00\", \"variable\": \"VPD\", \"value\": 0.0, \"is_present\": true, \"mean\": -10.940102080347831, \"std\": 12.061972823465295, \"err_low\": -35.06404772727842, \"err_high\": 13.183843566582759}, {\"time\": \"2009-02-20T07:00:00\", \"variable\": \"VPD\", \"value\": 0.0, \"is_present\": true, \"mean\": -10.93278098268176, \"std\": 12.061972823465302, \"err_low\": -35.05672662961236, \"err_high\": 13.191164664248845}, {\"time\": \"2009-02-20T07:30:00\", \"variable\": \"VPD\", \"value\": 0.0, \"is_present\": true, \"mean\": -10.942203680946143, \"std\": 12.061972823465306, \"err_low\": -35.06614932787676, \"err_high\": 13.181741965984468}, {\"time\": \"2009-02-20T08:00:00\", \"variable\": \"VPD\", \"value\": 0.0, \"is_present\": true, \"mean\": -10.81102813583449, \"std\": 12.061972823465311, \"err_low\": -34.93497378276511, \"err_high\": 13.312917511096131}, {\"time\": \"2009-02-20T08:30:00\", \"variable\": \"VPD\", \"value\": 0.0, \"is_present\": true, \"mean\": -10.35501266434435, \"std\": 12.061972823465293, \"err_low\": -34.47895831127494, \"err_high\": 13.768932982586236}, {\"time\": \"2009-02-20T09:00:00\", \"variable\": \"VPD\", \"value\": 0.0, \"is_present\": true, \"mean\": -9.690381310560966, \"std\": 12.061972823465302, \"err_low\": -33.81432695749157, \"err_high\": 14.433564336369638}, {\"time\": \"2009-02-20T09:30:00\", \"variable\": \"VPD\", \"value\": 0.0, \"is_present\": true, \"mean\": -9.165073691976104, \"std\": 12.061972823465295, \"err_low\": -33.2890193389067, \"err_high\": 14.958871954954486}, {\"time\": \"2009-02-20T10:00:00\", \"variable\": \"VPD\", \"value\": 0.0, \"is_present\": true, \"mean\": -8.726577038784892, \"std\": 12.06197282346528, \"err_low\": -32.850522685715454, \"err_high\": 15.397368608145669}, {\"time\": \"2009-02-20T10:30:00\", \"variable\": \"VPD\", \"value\": 0.0, \"is_present\": true, \"mean\": -8.36856238939373, \"std\": 12.061972823465306, \"err_low\": -32.49250803632434, \"err_high\": 15.75538325753688}, {\"time\": \"2009-02-20T11:00:00\", \"variable\": \"VPD\", \"value\": 0.0, \"is_present\": true, \"mean\": -7.630967825129111, \"std\": 12.061972823465297, \"err_low\": -31.754913472059705, \"err_high\": 16.49297782180148}, {\"time\": \"2009-02-20T11:30:00\", \"variable\": \"VPD\", \"value\": 0.0, \"is_present\": true, \"mean\": -7.1807051207768895, \"std\": 12.061972823465295, \"err_low\": -31.30465076770748, \"err_high\": 16.9432405261537}, {\"time\": \"2009-02-20T12:00:00\", \"variable\": \"VPD\", \"value\": 0.0, \"is_present\": true, \"mean\": -6.928220257463885, \"std\": 12.061972823465297, \"err_low\": -31.052165904394478, \"err_high\": 17.19572538946671}, {\"time\": \"2009-02-20T12:30:00\", \"variable\": \"VPD\", \"value\": 0.0, \"is_present\": true, \"mean\": -6.881487296248372, \"std\": 12.061972823465293, \"err_low\": -31.00543294317896, \"err_high\": 17.242458350682213}, {\"time\": \"2009-02-20T13:00:00\", \"variable\": \"VPD\", \"value\": 0.0, \"is_present\": true, \"mean\": -6.787416301246604, \"std\": 12.061972823465286, \"err_low\": -30.911361948177177, \"err_high\": 17.336529345683967}, {\"time\": \"2009-02-20T13:30:00\", \"variable\": \"VPD\", \"value\": 0.0, \"is_present\": true, \"mean\": -6.291103879761811, \"std\": 12.061972823465295, \"err_low\": -30.4150495266924, \"err_high\": 17.83284176716878}, {\"time\": \"2009-02-20T14:00:00\", \"variable\": \"VPD\", \"value\": 0.0, \"is_present\": true, \"mean\": -4.8903105851200825, \"std\": 12.061972823465288, \"err_low\": -29.01425623205066, \"err_high\": 19.233635061810492}, {\"time\": \"2009-02-20T14:30:00\", \"variable\": \"VPD\", \"value\": 0.0, \"is_present\": true, \"mean\": -5.317113278258909, \"std\": 12.061972823465306, \"err_low\": -29.44105892518952, \"err_high\": 18.806832368671703}, {\"time\": \"2009-02-20T15:00:00\", \"variable\": \"VPD\", \"value\": 0.0, \"is_present\": true, \"mean\": -5.822300516245622, \"std\": 12.061972823465299, \"err_low\": -29.94624616317622, \"err_high\": 18.301645130684975}, {\"time\": \"2009-02-20T15:30:00\", \"variable\": \"VPD\", \"value\": 0.0, \"is_present\": true, \"mean\": -6.219824245577686, \"std\": 12.061972823465295, \"err_low\": -30.343769892508277, \"err_high\": 17.904121401352903}, {\"time\": \"2009-02-20T16:00:00\", \"variable\": \"VPD\", \"value\": 0.0, \"is_present\": true, \"mean\": -6.7202696287091195, \"std\": 12.061972823465288, \"err_low\": -30.844215275639694, \"err_high\": 17.403676018221457}, {\"time\": \"2009-02-20T16:30:00\", \"variable\": \"VPD\", \"value\": 0.0, \"is_present\": true, \"mean\": -7.468724625409997, \"std\": 12.061972823465293, \"err_low\": -31.592670272340584, \"err_high\": 16.65522102152059}, {\"time\": \"2009-02-20T17:00:00\", \"variable\": \"VPD\", \"value\": 0.0, \"is_present\": true, \"mean\": -8.832821525969802, \"std\": 12.061972823465297, \"err_low\": -32.9567671729004, \"err_high\": 15.291124120960792}, {\"time\": \"2009-02-20T17:30:00\", \"variable\": \"VPD\", \"value\": 0.0, \"is_present\": true, \"mean\": -8.261552075204037, \"std\": 12.206448551994537, \"err_low\": -32.67444917919311, \"err_high\": 16.151345028785038}, {\"time\": \"2009-02-20T18:00:00\", \"variable\": \"VPD\", \"value\": 0.0, \"is_present\": true, \"mean\": -9.03716265571244, \"std\": 12.20969457962036, \"err_low\": -33.45655181495316, \"err_high\": 15.38222650352828}, {\"time\": \"2009-02-20T18:30:00\", \"variable\": \"VPD\", \"value\": 0.0, \"is_present\": true, \"mean\": -9.472249927341466, \"std\": 12.210267819887623, \"err_low\": -33.89278556711671, \"err_high\": 14.94828571243378}, {\"time\": \"2009-02-20T19:00:00\", \"variable\": \"VPD\", \"value\": 0.0, \"is_present\": true, \"mean\": -9.733797867009887, \"std\": 12.21060462063321, \"err_low\": -34.15500710827631, \"err_high\": 14.687411374256534}, {\"time\": \"2009-02-20T19:30:00\", \"variable\": \"VPD\", \"value\": 0.0, \"is_present\": true, \"mean\": -9.943082148955895, \"std\": 12.210647475138998, \"err_low\": -34.36437709923389, \"err_high\": 14.478212801322101}, {\"time\": \"2009-02-20T20:00:00\", \"variable\": \"VPD\", \"value\": 0.0, \"is_present\": true, \"mean\": -10.025075586046434, \"std\": 12.210658677271068, \"err_low\": -34.44639294058857, \"err_high\": 14.396241768495702}, {\"time\": \"2009-02-20T20:30:00\", \"variable\": \"VPD\", \"value\": 0.0, \"is_present\": true, \"mean\": -10.038232822984316, \"std\": 12.210660391286394, \"err_low\": -34.459553605557105, \"err_high\": 14.383087959588472}, {\"time\": \"2009-02-20T21:00:00\", \"variable\": \"VPD\", \"value\": 0.0, \"is_present\": true, \"mean\": -10.065024004187734, \"std\": 12.210660760105489, \"err_low\": -34.486345524398715, \"err_high\": 14.356297516023243}, {\"time\": \"2009-02-20T21:30:00\", \"variable\": \"VPD\", \"value\": 0.0, \"is_present\": true, \"mean\": -10.116902549632805, \"std\": 12.210660822854495, \"err_low\": -34.5382241953418, \"err_high\": 14.304419096076185}, {\"time\": \"2009-02-20T22:00:00\", \"variable\": \"VPD\", \"value\": 0.0, \"is_present\": true, \"mean\": -10.17761671999271, \"std\": 12.210660835338954, \"err_low\": -34.59893839067062, \"err_high\": 14.2437049506852}, {\"time\": \"2009-02-20T22:30:00\", \"variable\": \"VPD\", \"value\": 0.0, \"is_present\": true, \"mean\": -11.178493299748535, \"std\": 12.067371154724368, \"err_low\": -35.31323560919727, \"err_high\": 12.956249009700201}, {\"time\": \"2009-02-20T23:00:00\", \"variable\": \"VPD\", \"value\": 0.0, \"is_present\": true, \"mean\": -11.051003132872786, \"std\": 12.063364203293032, \"err_low\": -35.17773153945885, \"err_high\": 13.075725273713278}, {\"time\": \"2009-02-20T23:30:00\", \"variable\": \"VPD\", \"value\": 0.0, \"is_present\": true, \"mean\": -10.997792502982925, \"std\": 12.062357506877477, \"err_low\": -35.12250751673788, \"err_high\": 13.12692251077203}, {\"time\": \"2009-02-21T00:00:00\", \"variable\": \"VPD\", \"value\": 0.0, \"is_present\": true, \"mean\": -10.991561649057068, \"std\": 12.062024934410966, \"err_low\": -35.115611517879, \"err_high\": 13.132488219764863}, {\"time\": \"2009-02-21T00:30:00\", \"variable\": \"VPD\", \"value\": 0.0, \"is_present\": true, \"mean\": -11.040336982172445, \"std\": 12.061982246014992, \"err_low\": -35.16430147420243, \"err_high\": 13.08362750985754}, {\"time\": \"2009-02-21T01:00:00\", \"variable\": \"VPD\", \"value\": 0.0, \"is_present\": true, \"mean\": -11.080767791494068, \"std\": 12.061974157043375, \"err_low\": -35.204716105580815, \"err_high\": 13.043180522592682}, {\"time\": \"2009-02-21T01:30:00\", \"variable\": \"VPD\", \"value\": 0.0, \"is_present\": true, \"mean\": -11.138107373098748, \"std\": 12.061973042899467, \"err_low\": -35.26205345889768, \"err_high\": 12.985838712700186}, {\"time\": \"2009-02-21T02:00:00\", \"variable\": \"VPD\", \"value\": 0.0, \"is_present\": true, \"mean\": -11.16134312003572, \"std\": 12.061972855897023, \"err_low\": -35.28528883182977, \"err_high\": 12.962602591758326}, {\"time\": \"2009-02-21T02:30:00\", \"variable\": \"VPD\", \"value\": 0.0, \"is_present\": true, \"mean\": -11.181000702215432, \"std\": 12.061972828614623, \"err_low\": -35.30494635944468, \"err_high\": 12.942944955013814}, {\"time\": \"2009-02-21T03:00:00\", \"variable\": \"VPD\", \"value\": 0.0, \"is_present\": true, \"mean\": -11.197595615407423, \"std\": 12.061972824243561, \"err_low\": -35.321541263894545, \"err_high\": 12.9263500330797}, {\"time\": \"2009-02-21T03:30:00\", \"variable\": \"VPD\", \"value\": 0.0, \"is_present\": true, \"mean\": -11.23723292657374, \"std\": 12.061972823586931, \"err_low\": -35.3611785737476, \"err_high\": 12.886712720600123}, {\"time\": \"2009-02-21T04:00:00\", \"variable\": \"VPD\", \"value\": 0.0, \"is_present\": true, \"mean\": -11.284296326241034, \"std\": 12.061972823483874, \"err_low\": -35.40824197320878, \"err_high\": 12.839649320726714}, {\"time\": \"2009-02-21T04:30:00\", \"variable\": \"VPD\", \"value\": 0.0, \"is_present\": true, \"mean\": -11.286381879653423, \"std\": 12.06197282346817, \"err_low\": -35.41032752658976, \"err_high\": 12.837563767282916}, {\"time\": \"2009-02-21T05:00:00\", \"variable\": \"VPD\", \"value\": 0.0, \"is_present\": true, \"mean\": -11.307975009514212, \"std\": 12.061972823465727, \"err_low\": -35.43192065644567, \"err_high\": 12.81597063741724}, {\"time\": \"2009-02-21T05:30:00\", \"variable\": \"VPD\", \"value\": 0.0, \"is_present\": true, \"mean\": -11.413980968679319, \"std\": 12.061972823465378, \"err_low\": -35.537926615610075, \"err_high\": 12.709964678251438}, {\"time\": \"2009-02-21T06:00:00\", \"variable\": \"VPD\", \"value\": 0.0, \"is_present\": true, \"mean\": -11.437213151181279, \"std\": 12.061972823465295, \"err_low\": -35.56115879811187, \"err_high\": 12.686732495749311}, {\"time\": \"2009-02-21T06:30:00\", \"variable\": \"VPD\", \"value\": 0.0, \"is_present\": true, \"mean\": -11.443640937644766, \"std\": 12.061972823465286, \"err_low\": -35.56758658457534, \"err_high\": 12.680304709285807}, {\"time\": \"2009-02-21T07:00:00\", \"variable\": \"VPD\", \"value\": 0.0, \"is_present\": true, \"mean\": -11.370842543714769, \"std\": 12.061972823465304, \"err_low\": -35.49478819064538, \"err_high\": 12.753103103215839}, {\"time\": \"2009-02-21T07:30:00\", \"variable\": \"VPD\", \"value\": 0.0, \"is_present\": true, \"mean\": -11.316790196998657, \"std\": 12.061972823465288, \"err_low\": -35.44073584392923, \"err_high\": 12.80715544993192}, {\"time\": \"2009-02-21T08:00:00\", \"variable\": \"VPD\", \"value\": 0.0, \"is_present\": true, \"mean\": -10.971164217878083, \"std\": 12.06197282346531, \"err_low\": -35.095109864808705, \"err_high\": 13.152781429052535}, {\"time\": \"2009-02-21T08:30:00\", \"variable\": \"VPD\", \"value\": 0.0, \"is_present\": true, \"mean\": -10.198764354520836, \"std\": 12.061972823465302, \"err_low\": -34.32271000145144, \"err_high\": 13.925181292409768}, {\"time\": \"2009-02-21T09:00:00\", \"variable\": \"VPD\", \"value\": 0.0, \"is_present\": true, \"mean\": -9.254965355736228, \"std\": 12.061972823465302, \"err_low\": -33.37891100266683, \"err_high\": 14.868980291194376}, {\"time\": \"2009-02-21T09:30:00\", \"variable\": \"VPD\", \"value\": 0.0, \"is_present\": true, \"mean\": -8.40110692185667, \"std\": 12.061972823465302, \"err_low\": -32.525052568787274, \"err_high\": 15.722838725073935}, {\"time\": \"2009-02-21T10:00:00\", \"variable\": \"VPD\", \"value\": 0.0, \"is_present\": true, \"mean\": -7.928736632843308, \"std\": 12.061972823465297, \"err_low\": -32.052682279773904, \"err_high\": 16.195209014087286}, {\"time\": \"2009-02-21T10:30:00\", \"variable\": \"VPD\", \"value\": 0.0, \"is_present\": true, \"mean\": -5.664363624186108, \"std\": 12.061972823465302, \"err_low\": -29.788309271116713, \"err_high\": 18.459582022744495}, {\"time\": \"2009-02-21T11:00:00\", \"variable\": \"VPD\", \"value\": 0.0, \"is_present\": true, \"mean\": -2.954862641549452, \"std\": 12.06197282346529, \"err_low\": -27.078808288480033, \"err_high\": 21.169083005381125}, {\"time\": \"2009-02-21T11:30:00\", \"variable\": \"VPD\", \"value\": 0.0, \"is_present\": true, \"mean\": -1.231810005440627, \"std\": 12.06197282346529, \"err_low\": -25.355755652371208, \"err_high\": 22.89213564148995}, {\"time\": \"2009-02-21T12:00:00\", \"variable\": \"VPD\", \"value\": 0.0, \"is_present\": true, \"mean\": -0.1620855397780132, \"std\": 12.061972823465311, \"err_low\": -24.286031186708634, \"err_high\": 23.96186010715261}, {\"time\": \"2009-02-21T12:30:00\", \"variable\": \"VPD\", \"value\": 0.013, \"is_present\": true, \"mean\": 0.7140015085450888, \"std\": 12.061972823465295, \"err_low\": -23.4099441383855, \"err_high\": 24.83794715547568}, {\"time\": \"2009-02-21T13:00:00\", \"variable\": \"VPD\", \"value\": 0.348, \"is_present\": true, \"mean\": 1.7313352358043235, \"std\": 12.061972823465302, \"err_low\": -22.39261041112628, \"err_high\": 25.855280882734927}, {\"time\": \"2009-02-21T13:30:00\", \"variable\": \"VPD\", \"value\": 0.529, \"is_present\": true, \"mean\": 1.8729818786909516, \"std\": 12.061972823465302, \"err_low\": -22.250963768239654, \"err_high\": 25.996927525621555}, {\"time\": \"2009-02-21T14:00:00\", \"variable\": \"VPD\", \"value\": 0.516, \"is_present\": true, \"mean\": 0.3648655894687036, \"std\": 12.061972823465307, \"err_low\": -23.75908005746191, \"err_high\": 24.488811236399318}, {\"time\": \"2009-02-21T14:30:00\", \"variable\": \"VPD\", \"value\": 0.532, \"is_present\": true, \"mean\": -1.2464241473105542, \"std\": 12.061972823465302, \"err_low\": -25.370369794241157, \"err_high\": 22.87752149962005}, {\"time\": \"2009-02-21T15:00:00\", \"variable\": \"VPD\", \"value\": 0.578, \"is_present\": true, \"mean\": -1.7281716662709652, \"std\": 12.061972823465286, \"err_low\": -25.85211731320154, \"err_high\": 22.395773980659605}, {\"time\": \"2009-02-21T15:30:00\", \"variable\": \"VPD\", \"value\": 0.554, \"is_present\": true, \"mean\": -2.7390122230962772, \"std\": 12.061972823465302, \"err_low\": -26.862957870026882, \"err_high\": 21.384933423834326}, {\"time\": \"2009-02-21T16:00:00\", \"variable\": \"VPD\", \"value\": 0.493, \"is_present\": true, \"mean\": -4.068296396633023, \"std\": 12.061972823465304, \"err_low\": -28.19224204356363, \"err_high\": 20.055649250297584}, {\"time\": \"2009-02-21T16:30:00\", \"variable\": \"VPD\", \"value\": 0.441, \"is_present\": true, \"mean\": -6.123183447716838, \"std\": 12.061972823465295, \"err_low\": -30.247129094647427, \"err_high\": 18.000762199213753}, {\"time\": \"2009-02-21T17:00:00\", \"variable\": \"VPD\", \"value\": 0.363, \"is_present\": true, \"mean\": -8.01058446085263, \"std\": 12.061972823465307, \"err_low\": -32.13453010778325, \"err_high\": 16.113361186077984}, {\"time\": \"2009-02-21T17:30:00\", \"variable\": \"VPD\", \"value\": 0.289, \"is_present\": true, \"mean\": -9.203053048263499, \"std\": 12.061972823465302, \"err_low\": -33.326998695194106, \"err_high\": 14.920892598667105}, {\"time\": \"2009-02-21T18:00:00\", \"variable\": \"VPD\", \"value\": 0.262, \"is_present\": true, \"mean\": -9.933571461328508, \"std\": 12.061972823465291, \"err_low\": -34.05751710825909, \"err_high\": 14.190374185602074}, {\"time\": \"2009-02-21T18:30:00\", \"variable\": \"VPD\", \"value\": 0.256, \"is_present\": true, \"mean\": -10.367056088895811, \"std\": 12.061972823465295, \"err_low\": -34.4910017358264, \"err_high\": 13.756889558034779}, {\"time\": \"2009-02-21T19:00:00\", \"variable\": \"VPD\", \"value\": 0.278, \"is_present\": true, \"mean\": -10.518584672292569, \"std\": 12.061972823465302, \"err_low\": -34.64253031922317, \"err_high\": 13.605360974638035}, {\"time\": \"2009-02-21T19:30:00\", \"variable\": \"VPD\", \"value\": 0.338, \"is_present\": true, \"mean\": -10.650944478830382, \"std\": 12.061972823465307, \"err_low\": -34.774890125761, \"err_high\": 13.473001168100232}, {\"time\": \"2009-02-21T20:00:00\", \"variable\": \"VPD\", \"value\": 0.319, \"is_present\": true, \"mean\": -10.563568851129656, \"std\": 12.061972823465293, \"err_low\": -34.68751449806024, \"err_high\": 13.56037679580093}, {\"time\": \"2009-02-21T20:30:00\", \"variable\": \"VPD\", \"value\": 0.346, \"is_present\": true, \"mean\": -10.549846769858835, \"std\": 12.061972823465299, \"err_low\": -34.67379241678943, \"err_high\": 13.574098877071762}, {\"time\": \"2009-02-21T21:00:00\", \"variable\": \"VPD\", \"value\": 0.353, \"is_present\": true, \"mean\": -10.479648908354193, \"std\": 12.061972823465288, \"err_low\": -34.60359455528477, \"err_high\": 13.644296738576383}, {\"time\": \"2009-02-21T21:30:00\", \"variable\": \"VPD\", \"value\": 0.284, \"is_present\": true, \"mean\": -10.494671979015287, \"std\": 12.06197282346529, \"err_low\": -34.618617625945866, \"err_high\": 13.629273667915292}, {\"time\": \"2009-02-21T22:00:00\", \"variable\": \"VPD\", \"value\": 0.274, \"is_present\": true, \"mean\": -10.650727526602381, \"std\": 12.061972823465284, \"err_low\": -34.774673173532946, \"err_high\": 13.473218120328188}, {\"time\": \"2009-02-21T22:30:00\", \"variable\": \"VPD\", \"value\": 0.135, \"is_present\": true, \"mean\": -10.758942056950666, \"std\": 12.061972823465304, \"err_low\": -34.88288770388127, \"err_high\": 13.365003589979942}, {\"time\": \"2009-02-21T23:00:00\", \"variable\": \"VPD\", \"value\": 0.086, \"is_present\": true, \"mean\": -11.019307164083472, \"std\": 12.061972823465302, \"err_low\": -35.14325281101408, \"err_high\": 13.104638482847133}, {\"time\": \"2009-02-21T23:30:00\", \"variable\": \"VPD\", \"value\": 0.057, \"is_present\": true, \"mean\": -11.027140134631008, \"std\": 12.061972823465293, \"err_low\": -35.15108578156159, \"err_high\": 13.096805512299579}, {\"time\": \"2009-02-22T00:00:00\", \"variable\": \"VPD\", \"value\": 0.012, \"is_present\": true, \"mean\": -11.037262979988558, \"std\": 12.061972823465288, \"err_low\": -35.161208626919134, \"err_high\": 13.086682666942018}, {\"time\": \"2009-02-22T00:30:00\", \"variable\": \"VPD\", \"value\": 0.0, \"is_present\": true, \"mean\": -11.11279342968048, \"std\": 12.061972823465302, \"err_low\": -35.23673907661109, \"err_high\": 13.011152217250125}, {\"time\": \"2009-02-22T01:00:00\", \"variable\": \"VPD\", \"value\": 0.0, \"is_present\": true, \"mean\": -11.131685414244732, \"std\": 12.061972823465304, \"err_low\": -35.255631061175336, \"err_high\": 12.992260232685876}, {\"time\": \"2009-02-22T01:30:00\", \"variable\": \"VPD\", \"value\": 0.0, \"is_present\": true, \"mean\": -11.125936511496715, \"std\": 12.061972823465299, \"err_low\": -35.24988215842731, \"err_high\": 12.998009135433882}, {\"time\": \"2009-02-22T02:00:00\", \"variable\": \"VPD\", \"value\": 0.0, \"is_present\": true, \"mean\": -11.06340896480835, \"std\": 12.06197282346531, \"err_low\": -35.18735461173897, \"err_high\": 13.060536682122269}, {\"time\": \"2009-02-22T02:30:00\", \"variable\": \"VPD\", \"value\": 0.0, \"is_present\": true, \"mean\": -11.015537026844413, \"std\": 12.061972823465293, \"err_low\": -35.139482673775, \"err_high\": 13.108408620086173}, {\"time\": \"2009-02-22T03:00:00\", \"variable\": \"VPD\", \"value\": 0.0, \"is_present\": true, \"mean\": -10.931296405357532, \"std\": 12.06197282346529, \"err_low\": -35.05524205228811, \"err_high\": 13.192649241573047}, {\"time\": \"2009-02-22T03:30:00\", \"variable\": \"VPD\", \"value\": 0.0, \"is_present\": true, \"mean\": -10.823621891280435, \"std\": 12.061972823465299, \"err_low\": -34.94756753821103, \"err_high\": 13.300323755650162}, {\"time\": \"2009-02-22T04:00:00\", \"variable\": \"VPD\", \"value\": 0.0, \"is_present\": true, \"mean\": -10.744124574415913, \"std\": 12.061972823465306, \"err_low\": -34.86807022134653, \"err_high\": 13.379821072514698}, {\"time\": \"2009-02-22T04:30:00\", \"variable\": \"VPD\", \"value\": 0.0, \"is_present\": true, \"mean\": -10.659849283024954, \"std\": 12.061972823465302, \"err_low\": -34.78379492995556, \"err_high\": 13.46409636390565}, {\"time\": \"2009-02-22T05:00:00\", \"variable\": \"VPD\", \"value\": 0.0, \"is_present\": true, \"mean\": -10.572623369737162, \"std\": 12.061972823465288, \"err_low\": -34.69656901666774, \"err_high\": 13.551322277193414}, {\"time\": \"2009-02-22T05:30:00\", \"variable\": \"VPD\", \"value\": 0.0, \"is_present\": true, \"mean\": -10.551816475385145, \"std\": 12.061972823465288, \"err_low\": -34.67576212231572, \"err_high\": 13.57212917154543}, {\"time\": \"2009-02-22T06:00:00\", \"variable\": \"VPD\", \"value\": 0.0, \"is_present\": true, \"mean\": -10.520030917017348, \"std\": 12.06197282346531, \"err_low\": -34.643976563947966, \"err_high\": 13.60391472991327}, {\"time\": \"2009-02-22T06:30:00\", \"variable\": \"VPD\", \"value\": 0.0, \"is_present\": true, \"mean\": -10.512059249763379, \"std\": 12.061972823465293, \"err_low\": -34.63600489669396, \"err_high\": 13.611886397167208}, {\"time\": \"2009-02-22T07:00:00\", \"variable\": \"VPD\", \"value\": 0.0, \"is_present\": true, \"mean\": -10.5037861485892, \"std\": 12.061972823465306, \"err_low\": -34.62773179551981, \"err_high\": 13.620159498341412}, {\"time\": \"2009-02-22T07:30:00\", \"variable\": \"VPD\", \"value\": 0.0, \"is_present\": true, \"mean\": -10.507378258648721, \"std\": 12.061972823465293, \"err_low\": -34.63132390557931, \"err_high\": 13.616567388281865}, {\"time\": \"2009-02-22T08:00:00\", \"variable\": \"VPD\", \"value\": 0.0, \"is_present\": true, \"mean\": -10.320524222684572, \"std\": 12.061972823465293, \"err_low\": -34.44446986961516, \"err_high\": 13.803421424246014}, {\"time\": \"2009-02-22T08:30:00\", \"variable\": \"VPD\", \"value\": 0.0, \"is_present\": true, \"mean\": -9.888260699002156, \"std\": 12.061972823465288, \"err_low\": -34.01220634593273, \"err_high\": 14.23568494792842}, {\"time\": \"2009-02-22T09:00:00\", \"variable\": \"VPD\", \"value\": 0.0, \"is_present\": true, \"mean\": -9.357028459113653, \"std\": 12.06197282346531, \"err_low\": -33.48097410604427, \"err_high\": 14.766917187816965}, {\"time\": \"2009-02-22T09:30:00\", \"variable\": \"VPD\", \"value\": 0.0, \"is_present\": true, \"mean\": -8.815767842745029, \"std\": 12.061972823465295, \"err_low\": -32.93971348967562, \"err_high\": 15.308177804185561}, {\"time\": \"2009-02-22T10:00:00\", \"variable\": \"VPD\", \"value\": 0.0, \"is_present\": true, \"mean\": -8.516280734614686, \"std\": 12.061972823465302, \"err_low\": -32.64022638154529, \"err_high\": 15.607664912315919}, {\"time\": \"2009-02-22T10:30:00\", \"variable\": \"VPD\", \"value\": 0.0, \"is_present\": true, \"mean\": -7.746790283390756, \"std\": 12.061972823465288, \"err_low\": -31.87073593032133, \"err_high\": 16.37715536353982}, {\"time\": \"2009-02-22T11:00:00\", \"variable\": \"VPD\", \"value\": 0.0, \"is_present\": true, \"mean\": -7.415812831848874, \"std\": 12.061972823465304, \"err_low\": -31.539758478779483, \"err_high\": 16.708132815081733}, {\"time\": \"2009-02-22T11:30:00\", \"variable\": \"VPD\", \"value\": 0.0, \"is_present\": true, \"mean\": -7.142509917544843, \"std\": 12.061972823465297, \"err_low\": -31.266455564475436, \"err_high\": 16.98143572938575}, {\"time\": \"2009-02-22T12:00:00\", \"variable\": \"VPD\", \"value\": 0.0, \"is_present\": true, \"mean\": -6.77438175523323, \"std\": 12.061972823465286, \"err_low\": -30.8983274021638, \"err_high\": 17.349563891697343}, {\"time\": \"2009-02-22T12:30:00\", \"variable\": \"VPD\", \"value\": 0.0, \"is_present\": true, \"mean\": -6.925062072036234, \"std\": 12.061972823465295, \"err_low\": -31.049007718966823, \"err_high\": 17.198883574894356}, {\"time\": \"2009-02-22T13:00:00\", \"variable\": \"VPD\", \"value\": 0.0, \"is_present\": true, \"mean\": -6.773393999757663, \"std\": 12.061972823465288, \"err_low\": -30.897339646688238, \"err_high\": 17.350551647172914}, {\"time\": \"2009-02-22T13:30:00\", \"variable\": \"VPD\", \"value\": 0.0, \"is_present\": true, \"mean\": -6.775566681486551, \"std\": 12.061972823465306, \"err_low\": -30.899512328417163, \"err_high\": 17.34837896544406}, {\"time\": \"2009-02-22T14:00:00\", \"variable\": \"VPD\", \"value\": 0.0, \"is_present\": true, \"mean\": -6.934022979100523, \"std\": 12.061972823465299, \"err_low\": -31.05796862603112, \"err_high\": 17.189922667830075}, {\"time\": \"2009-02-22T14:30:00\", \"variable\": \"VPD\", \"value\": 0.0, \"is_present\": true, \"mean\": -7.14496070589056, \"std\": 12.061972823465295, \"err_low\": -31.26890635282115, \"err_high\": 16.97898494104003}, {\"time\": \"2009-02-22T15:00:00\", \"variable\": \"VPD\", \"value\": 0.0, \"is_present\": true, \"mean\": -7.73919390238463, \"std\": 12.061972823465288, \"err_low\": -31.863139549315207, \"err_high\": 16.384751744545945}, {\"time\": \"2009-02-22T15:30:00\", \"variable\": \"VPD\", \"value\": 0.0, \"is_present\": true, \"mean\": -8.043397071529501, \"std\": 12.061972823465293, \"err_low\": -32.16734271846009, \"err_high\": 16.080548575401085}, {\"time\": \"2009-02-22T16:00:00\", \"variable\": \"VPD\", \"value\": 0.0, \"is_present\": true, \"mean\": -8.131406783504772, \"std\": 12.061972823465297, \"err_low\": -32.255352430435366, \"err_high\": 15.992538863425821}, {\"time\": \"2009-02-22T16:30:00\", \"variable\": \"VPD\", \"value\": 0.0, \"is_present\": true, \"mean\": -8.86795599322631, \"std\": 12.061972823465302, \"err_low\": -32.99190164015691, \"err_high\": 15.255989653704294}, {\"time\": \"2009-02-22T17:00:00\", \"variable\": \"VPD\", \"value\": 0.0, \"is_present\": true, \"mean\": -9.491226738731893, \"std\": 12.061972823465295, \"err_low\": -33.61517238566248, \"err_high\": 14.632718908198697}, {\"time\": \"2009-02-22T17:30:00\", \"variable\": \"VPD\", \"value\": 0.0, \"is_present\": true, \"mean\": -9.762165042128078, \"std\": 12.061972823465291, \"err_low\": -33.88611068905866, \"err_high\": 14.361780604802505}, {\"time\": \"2009-02-22T18:00:00\", \"variable\": \"VPD\", \"value\": 0.0, \"is_present\": true, \"mean\": -9.965120510807903, \"std\": 12.061972823465288, \"err_low\": -34.08906615773848, \"err_high\": 14.158825136122672}, {\"time\": \"2009-02-22T18:30:00\", \"variable\": \"VPD\", \"value\": 0.0, \"is_present\": true, \"mean\": -10.011390646798308, \"std\": 12.061972823465295, \"err_low\": -34.1353362937289, \"err_high\": 14.112555000132282}, {\"time\": \"2009-02-22T19:00:00\", \"variable\": \"VPD\", \"value\": 0.0, \"is_present\": true, \"mean\": -9.984404108924046, \"std\": 12.061972823465299, \"err_low\": -34.10834975585465, \"err_high\": 14.13954153800655}, {\"time\": \"2009-02-22T19:30:00\", \"variable\": \"VPD\", \"value\": 0.0, \"is_present\": true, \"mean\": -9.985445944310968, \"std\": 12.061972823465288, \"err_low\": -34.10939159124155, \"err_high\": 14.138499702619608}, {\"time\": \"2009-02-22T20:00:00\", \"variable\": \"VPD\", \"value\": 0.0, \"is_present\": true, \"mean\": -10.015557241805105, \"std\": 12.061972823465284, \"err_low\": -34.13950288873568, \"err_high\": 14.108388405125464}, {\"time\": \"2009-02-22T20:30:00\", \"variable\": \"VPD\", \"value\": 0.0, \"is_present\": true, \"mean\": -10.032345165841743, \"std\": 12.061972823465288, \"err_low\": -34.15629081277232, \"err_high\": 14.091600481088832}, {\"time\": \"2009-02-22T21:00:00\", \"variable\": \"VPD\", \"value\": 0.0, \"is_present\": true, \"mean\": -10.025627046674579, \"std\": 12.061972823465288, \"err_low\": -34.14957269360515, \"err_high\": 14.098318600255997}, {\"time\": \"2009-02-22T21:30:00\", \"variable\": \"VPD\", \"value\": 0.0, \"is_present\": true, \"mean\": -10.029266036688956, \"std\": 12.061972823465302, \"err_low\": -34.15321168361956, \"err_high\": 14.094679610241649}, {\"time\": \"2009-02-22T22:00:00\", \"variable\": \"VPD\", \"value\": 0.0, \"is_present\": true, \"mean\": -10.061637710193512, \"std\": 12.061972823465295, \"err_low\": -34.1855833571241, \"err_high\": 14.062307936737078}, {\"time\": \"2009-02-22T22:30:00\", \"variable\": \"VPD\", \"value\": 0.0, \"is_present\": true, \"mean\": -10.275697522654745, \"std\": 12.061972823465315, \"err_low\": -34.399643169585374, \"err_high\": 13.848248124275884}, {\"time\": \"2009-02-22T23:00:00\", \"variable\": \"VPD\", \"value\": 0.0, \"is_present\": true, \"mean\": -10.3166044899301, \"std\": 12.061972823465295, \"err_low\": -34.44055013686069, \"err_high\": 13.80734115700049}, {\"time\": \"2009-02-22T23:30:00\", \"variable\": \"VPD\", \"value\": 0.0, \"is_present\": true, \"mean\": -10.338810696573212, \"std\": 12.061972823465297, \"err_low\": -34.462756343503806, \"err_high\": 13.785134950357381}, {\"time\": \"2009-02-23T00:00:00\", \"variable\": \"VPD\", \"value\": 0.0, \"is_present\": true, \"mean\": -10.41910957136102, \"std\": 12.061972823465295, \"err_low\": -34.54305521829161, \"err_high\": 13.70483607556957}, {\"time\": \"2009-02-23T00:30:00\", \"variable\": \"VPD\", \"value\": 0.025, \"is_present\": true, \"mean\": -10.51329776519626, \"std\": 12.061972823465293, \"err_low\": -34.63724341212685, \"err_high\": 13.610647881734327}, {\"time\": \"2009-02-23T01:00:00\", \"variable\": \"VPD\", \"value\": 0.086, \"is_present\": true, \"mean\": -10.502170889399796, \"std\": 12.061972823465313, \"err_low\": -34.62611653633042, \"err_high\": 13.62177475753083}, {\"time\": \"2009-02-23T01:30:00\", \"variable\": \"VPD\", \"value\": 0.062, \"is_present\": true, \"mean\": -10.487008906947057, \"std\": 12.061972823465302, \"err_low\": -34.61095455387766, \"err_high\": 13.636936739983547}, {\"time\": \"2009-02-23T02:00:00\", \"variable\": \"VPD\", \"value\": 0.011, \"is_present\": true, \"mean\": -10.594889332016876, \"std\": 12.061972823465306, \"err_low\": -34.718834978947484, \"err_high\": 13.529056314913735}, {\"time\": \"2009-02-23T02:30:00\", \"variable\": \"VPD\", \"value\": 0.0, \"is_present\": true, \"mean\": -10.742606946286713, \"std\": 12.061972823465293, \"err_low\": -34.8665525932173, \"err_high\": 13.381338700643873}, {\"time\": \"2009-02-23T03:00:00\", \"variable\": \"VPD\", \"value\": 0.0, \"is_present\": true, \"mean\": -10.648824749631792, \"std\": 12.061972823465299, \"err_low\": -34.77277039656239, \"err_high\": 13.475120897298805}, {\"time\": \"2009-02-23T03:30:00\", \"variable\": \"VPD\", \"value\": 0.037, \"is_present\": true, \"mean\": -10.539473326876685, \"std\": 12.06197282346531, \"err_low\": -34.6634189738073, \"err_high\": 13.584472320053933}, {\"time\": \"2009-02-23T04:00:00\", \"variable\": \"VPD\", \"value\": 0.07, \"is_present\": true, \"mean\": -10.454289457224103, \"std\": 12.061972823465288, \"err_low\": -34.57823510415468, \"err_high\": 13.669656189706473}, {\"time\": \"2009-02-23T04:30:00\", \"variable\": \"VPD\", \"value\": 0.073, \"is_present\": true, \"mean\": -10.410045529205572, \"std\": 12.061972823465288, \"err_low\": -34.53399117613615, \"err_high\": 13.713900117725004}, {\"time\": \"2009-02-23T05:00:00\", \"variable\": \"VPD\", \"value\": 0.08, \"is_present\": true, \"mean\": -10.41562134256413, \"std\": 12.061972823465302, \"err_low\": -34.53956698949473, \"err_high\": 13.708324304366474}, {\"time\": \"2009-02-23T05:30:00\", \"variable\": \"VPD\", \"value\": 0.096, \"is_present\": true, \"mean\": -10.417332349246816, \"std\": 12.061972823465288, \"err_low\": -34.54127799617739, \"err_high\": 13.70661329768376}, {\"time\": \"2009-02-23T06:00:00\", \"variable\": \"VPD\", \"value\": 0.096, \"is_present\": true, \"mean\": -10.374446686298587, \"std\": 12.061972823465295, \"err_low\": -34.49839233322918, \"err_high\": 13.749498960632003}, {\"time\": \"2009-02-23T06:30:00\", \"variable\": \"VPD\", \"value\": 0.066, \"is_present\": true, \"mean\": -10.397863882300573, \"std\": 12.061972823465295, \"err_low\": -34.52180952923116, \"err_high\": 13.726081764630017}, {\"time\": \"2009-02-23T07:00:00\", \"variable\": \"VPD\", \"value\": 0.011, \"is_present\": true, \"mean\": -10.541936894397363, \"std\": 12.061972823465302, \"err_low\": -34.66588254132797, \"err_high\": 13.582008752533241}, {\"time\": \"2009-02-23T07:30:00\", \"variable\": \"VPD\", \"value\": 0.0, \"is_present\": true, \"mean\": -10.634124253944272, \"std\": 12.061972823465288, \"err_low\": -34.758069900874844, \"err_high\": 13.489821392986304}, {\"time\": \"2009-02-23T08:00:00\", \"variable\": \"VPD\", \"value\": 0.0, \"is_present\": true, \"mean\": -10.417541264965905, \"std\": 12.061972823465307, \"err_low\": -34.54148691189652, \"err_high\": 13.70640438196471}, {\"time\": \"2009-02-23T08:30:00\", \"variable\": \"VPD\", \"value\": 0.0, \"is_present\": true, \"mean\": -9.933894958363293, \"std\": 12.061972823465302, \"err_low\": -34.0578406052939, \"err_high\": 14.190050688567311}, {\"time\": \"2009-02-23T09:00:00\", \"variable\": \"VPD\", \"value\": 0.0, \"is_present\": true, \"mean\": -9.381735514513764, \"std\": 12.061972823465297, \"err_low\": -33.50568116144436, \"err_high\": 14.74221013241683}, {\"time\": \"2009-02-23T09:30:00\", \"variable\": \"VPD\", \"value\": 0.0, \"is_present\": true, \"mean\": -8.61132711796321, \"std\": 12.061972823465307, \"err_low\": -32.73527276489382, \"err_high\": 15.512618528967405}, {\"time\": \"2009-02-23T10:00:00\", \"variable\": \"VPD\", \"value\": 0.0, \"is_present\": true, \"mean\": -8.114221664911348, \"std\": 12.061972823465288, \"err_low\": -32.23816731184192, \"err_high\": 16.009723982019228}, {\"time\": \"2009-02-23T10:30:00\", \"variable\": \"VPD\", \"value\": 0.0, \"is_present\": true, \"mean\": -6.721865104292944, \"std\": 12.061972823465295, \"err_low\": -30.845810751223535, \"err_high\": 17.402080542637645}, {\"time\": \"2009-02-23T11:00:00\", \"variable\": \"VPD\", \"value\": 0.0, \"is_present\": true, \"mean\": -4.442362422242721, \"std\": 12.061972823465288, \"err_low\": -28.566308069173296, \"err_high\": 19.681583224687856}, {\"time\": \"2009-02-23T11:30:00\", \"variable\": \"VPD\", \"value\": 0.0, \"is_present\": true, \"mean\": -3.3715028785538266, \"std\": 12.061972823465302, \"err_low\": -27.49544852548443, \"err_high\": 20.752442768376778}, {\"time\": \"2009-02-23T12:00:00\", \"variable\": \"VPD\", \"value\": 0.0, \"is_present\": true, \"mean\": -2.815742876991197, \"std\": 12.061972823465302, \"err_low\": -26.939688523921802, \"err_high\": 21.308202769939406}, {\"time\": \"2009-02-23T12:30:00\", \"variable\": \"VPD\", \"value\": 0.0, \"is_present\": true, \"mean\": -2.353474814034918, \"std\": 12.061972823465297, \"err_low\": -26.47742046096551, \"err_high\": 21.770470832895676}, {\"time\": \"2009-02-23T13:00:00\", \"variable\": \"VPD\", \"value\": 0.021, \"is_present\": true, \"mean\": -1.8263524055247045, \"std\": 12.061972823465323, \"err_low\": -25.950298052455352, \"err_high\": 22.29759324140594}, {\"time\": \"2009-02-23T13:30:00\", \"variable\": \"VPD\", \"value\": 0.028, \"is_present\": true, \"mean\": -1.9961217600192116, \"std\": 12.061972823465302, \"err_low\": -26.120067406949815, \"err_high\": 22.127823886911393}, {\"time\": \"2009-02-23T14:00:00\", \"variable\": \"VPD\", \"value\": 0.037, \"is_present\": true, \"mean\": -3.472925384297972, \"std\": 12.061972823465295, \"err_low\": -27.596871031228563, \"err_high\": 20.651020262632617}, {\"time\": \"2009-02-23T14:30:00\", \"variable\": \"VPD\", \"value\": 0.042, \"is_present\": true, \"mean\": -4.9295231179392305, \"std\": 12.061972823465293, \"err_low\": -29.053468764869816, \"err_high\": 19.194422528991357}, {\"time\": \"2009-02-23T15:00:00\", \"variable\": \"VPD\", \"value\": 0.084, \"is_present\": true, \"mean\": -5.522399009795799, \"std\": 12.061972823465306, \"err_low\": -29.64634465672641, \"err_high\": 18.601546637134813}, {\"time\": \"2009-02-23T15:30:00\", \"variable\": \"VPD\", \"value\": 0.105, \"is_present\": true, \"mean\": -5.80594540329187, \"std\": 12.061972823465299, \"err_low\": -29.929891050222466, \"err_high\": 18.31800024363873}, {\"time\": \"2009-02-23T16:00:00\", \"variable\": \"VPD\", \"value\": 0.124, \"is_present\": true, \"mean\": -6.681014510494994, \"std\": 12.061972823465293, \"err_low\": -30.80496015742558, \"err_high\": 17.442931136435593}, {\"time\": \"2009-02-23T16:30:00\", \"variable\": \"VPD\", \"value\": 0.145, \"is_present\": true, \"mean\": -7.999371819262167, \"std\": 12.061972823465311, \"err_low\": -32.12331746619279, \"err_high\": 16.124573827668456}]}}, {\"mode\": \"vega-lite\"});\n",
       "</script>"
      ],
      "text/plain": [
       "alt.HConcatChart(...)"
      ]
     },
     "execution_count": null,
     "metadata": {},
     "output_type": "execute_result"
    }
   ],
   "source": [
    "plot_results(*results_custom_gap(learn64, df=hai64, control=hai_era64,\n",
    "                                 items_idx = [800, 801],\n",
    "                                 var_sel=['TA'], gap_len=10,\n",
    "                                 block_len=200, control_lags=[1]))"
   ]
  },
  {
   "cell_type": "code",
   "execution_count": null,
   "id": "f9c1abdc-91bd-4adf-81a7-c552924024a7",
   "metadata": {},
   "outputs": [],
   "source": [
    "#| export\n",
    "def interact_results(learn, df, control):\n",
    "    interact_args = {\n",
    "        'gap_len': IntSlider(10, 1, 100),\n",
    "        'items_idx': Text(value='10, 100', placeholder=\"comma separated indices\"),\n",
    "        'control_lags': Text(value='1', label=\"comma lag control\"),\n",
    "        'block_len': IntSlider(200, 10, 1000, 10),\n",
    "        **{var_name: True for var_name in df.columns}\n",
    "    }\n",
    "    \n",
    "    def _inner(gap_len, items_idx, control_lags, block_len, **var_names):\n",
    "        var_sel = [var_name for var_name, var_use in var_names.items() if var_use]\n",
    "        items_idx = list(map(int, items_idx.split(\",\")))\n",
    "        control_lags = list(map(int, control_lags.split(\",\")))\n",
    "        return plot_results(*results_custom_gap(learn=learn, df=df, control=control, var_sel=var_sel, gap_len=gap_len, items_idx=items_idx, block_len=block_len, control_lags=control_lags))\n",
    "    return interact_manual(_inner, **interact_args)"
   ]
  },
  {
   "cell_type": "code",
   "execution_count": null,
   "id": "a92467ac-d417-4205-9fb7-19afe2605fe8",
   "metadata": {},
   "outputs": [],
   "source": [
    "learn.model.use_smooth = True"
   ]
  },
  {
   "cell_type": "code",
   "execution_count": null,
   "id": "ee2143d8-021a-40f2-ba6d-d86d5e99ae63",
   "metadata": {},
   "outputs": [
    {
     "data": {
      "application/vnd.jupyter.widget-view+json": {
       "model_id": "d6f9f46e9aa74445ac6e175a62362f32",
       "version_major": 2,
       "version_minor": 0
      },
      "text/plain": [
       "interactive(children=(IntSlider(value=10, description='gap_len', min=1), Text(value='10, 100', description='it…"
      ]
     },
     "metadata": {},
     "output_type": "display_data"
    },
    {
     "data": {
      "text/plain": [
       "<function __main__.interact_results.<locals>._inner(gap_len, items_idx, control_lags, block_len, **var_names)>"
      ]
     },
     "execution_count": null,
     "metadata": {},
     "output_type": "execute_result"
    }
   ],
   "source": [
    "interact_results(learn64, hai64, hai_era64)"
   ]
  },
  {
   "cell_type": "markdown",
   "id": "25ee98b3-1618-49fc-86b1-4f4c922a28a4",
   "metadata": {},
   "source": [
    "## Export "
   ]
  },
  {
   "cell_type": "code",
   "execution_count": null,
   "id": "be47bac6-1bac-4b5d-a880-7ddfe17cca68",
   "metadata": {},
   "outputs": [],
   "source": [
    "#| hide\n",
    "from nbdev import nbdev_export\n",
    "nbdev_export()"
   ]
  }
 ],
 "metadata": {
  "kernelspec": {
   "display_name": "data_science",
   "language": "python",
   "name": "data_science"
  },
  "widgets": {
   "application/vnd.jupyter.widget-state+json": {
    "state": {
     "00bdb7de96444bdb805dc57c1f68cf66": {
      "model_module": "@jupyter-widgets/base",
      "model_module_version": "2.0.0",
      "model_name": "LayoutModel",
      "state": {}
     },
     "01e292f0434044c2bf685dfa47365c15": {
      "model_module": "@jupyter-widgets/controls",
      "model_module_version": "2.0.0",
      "model_name": "CheckboxStyleModel",
      "state": {
       "description_width": ""
      }
     },
     "0b09d8bb62c144b592ece74db7d793d1": {
      "model_module": "@jupyter-widgets/controls",
      "model_module_version": "2.0.0",
      "model_name": "TextStyleModel",
      "state": {
       "description_width": "",
       "font_size": null,
       "text_color": null
      }
     },
     "0f1fe717d5714b0a9133d942c099793b": {
      "model_module": "@jupyter-widgets/base",
      "model_module_version": "2.0.0",
      "model_name": "LayoutModel",
      "state": {}
     },
     "1b4d5911915448c7b99d44b628d58a48": {
      "model_module": "@jupyter-widgets/base",
      "model_module_version": "2.0.0",
      "model_name": "LayoutModel",
      "state": {}
     },
     "1f48ec680bed486f904699bde3df110b": {
      "model_module": "@jupyter-widgets/controls",
      "model_module_version": "2.0.0",
      "model_name": "CheckboxModel",
      "state": {
       "description": "SW_IN",
       "disabled": false,
       "layout": "IPY_MODEL_f8b80913f4534a9192cdb99b58da283b",
       "style": "IPY_MODEL_01e292f0434044c2bf685dfa47365c15",
       "value": true
      }
     },
     "29997678760346e49c6b3b7255043a5d": {
      "model_module": "@jupyter-widgets/controls",
      "model_module_version": "2.0.0",
      "model_name": "IntSliderModel",
      "state": {
       "behavior": "drag-tap",
       "description": "gap_len",
       "layout": "IPY_MODEL_4e965b0cbc3d48848023ac10fda75835",
       "min": 1,
       "style": "IPY_MODEL_fd514f9d52cf450aa2114cd4fe8ac615",
       "value": 10
      }
     },
     "32bdd7b0a7254a3d85307a7a81307773": {
      "model_module": "@jupyter-widgets/controls",
      "model_module_version": "2.0.0",
      "model_name": "CheckboxStyleModel",
      "state": {
       "description_width": ""
      }
     },
     "483f54df6c8e49e6872d2daad54b5686": {
      "model_module": "@jupyter-widgets/controls",
      "model_module_version": "2.0.0",
      "model_name": "TextModel",
      "state": {
       "description": "control_lags",
       "layout": "IPY_MODEL_502a8321dbd94ef888e56e235bae125f",
       "style": "IPY_MODEL_dc8806a42f5d4a7ab90681b285d1c1fe",
       "value": "1"
      }
     },
     "4e965b0cbc3d48848023ac10fda75835": {
      "model_module": "@jupyter-widgets/base",
      "model_module_version": "2.0.0",
      "model_name": "LayoutModel",
      "state": {}
     },
     "502a8321dbd94ef888e56e235bae125f": {
      "model_module": "@jupyter-widgets/base",
      "model_module_version": "2.0.0",
      "model_name": "LayoutModel",
      "state": {}
     },
     "55e783e5823844828a2fd81f72385d48": {
      "model_module": "@jupyter-widgets/controls",
      "model_module_version": "2.0.0",
      "model_name": "IntSliderModel",
      "state": {
       "behavior": "drag-tap",
       "description": "block_len",
       "layout": "IPY_MODEL_00bdb7de96444bdb805dc57c1f68cf66",
       "max": 1000,
       "min": 10,
       "step": 10,
       "style": "IPY_MODEL_d98dd3d0580044c69f82a3cdba5bd1fd",
       "value": 200
      }
     },
     "56bff7b4292b4194a45f3e39c02b573b": {
      "model_module": "@jupyter-widgets/controls",
      "model_module_version": "2.0.0",
      "model_name": "CheckboxModel",
      "state": {
       "description": "TA",
       "disabled": false,
       "layout": "IPY_MODEL_0f1fe717d5714b0a9133d942c099793b",
       "style": "IPY_MODEL_b43983d666634b6d9bc15ad00b4b8c1f",
       "value": true
      }
     },
     "7177d1d88f8c409ebf00544316c150ff": {
      "model_module": "@jupyter-widgets/base",
      "model_module_version": "2.0.0",
      "model_name": "LayoutModel",
      "state": {}
     },
     "7e48cbbfa3e94a8ba6380deca551d8fc": {
      "model_module": "@jupyter-widgets/base",
      "model_module_version": "2.0.0",
      "model_name": "LayoutModel",
      "state": {}
     },
     "8113bc772eea4c23b67abc66b6ad176e": {
      "model_module": "@jupyter-widgets/output",
      "model_module_version": "1.0.0",
      "model_name": "OutputModel",
      "state": {
       "layout": "IPY_MODEL_7177d1d88f8c409ebf00544316c150ff"
      }
     },
     "8de14a326aa847ec9239e8345ad5bca6": {
      "model_module": "@jupyter-widgets/controls",
      "model_module_version": "2.0.0",
      "model_name": "ButtonModel",
      "state": {
       "description": "Run Interact",
       "layout": "IPY_MODEL_7e48cbbfa3e94a8ba6380deca551d8fc",
       "style": "IPY_MODEL_a13473d1a3634b0692b6852f7d45972c",
       "tooltip": null
      }
     },
     "a13473d1a3634b0692b6852f7d45972c": {
      "model_module": "@jupyter-widgets/controls",
      "model_module_version": "2.0.0",
      "model_name": "ButtonStyleModel",
      "state": {
       "font_family": null,
       "font_size": null,
       "font_style": null,
       "font_variant": null,
       "font_weight": null,
       "text_color": null,
       "text_decoration": null
      }
     },
     "a739c70807cf425a870dbac026163244": {
      "model_module": "@jupyter-widgets/controls",
      "model_module_version": "2.0.0",
      "model_name": "TextModel",
      "state": {
       "description": "items_idx",
       "layout": "IPY_MODEL_a88d7ce90e3f46db9da4cf52f0ade562",
       "placeholder": "comma separated indices",
       "style": "IPY_MODEL_0b09d8bb62c144b592ece74db7d793d1",
       "value": "10, 100"
      }
     },
     "a88d7ce90e3f46db9da4cf52f0ade562": {
      "model_module": "@jupyter-widgets/base",
      "model_module_version": "2.0.0",
      "model_name": "LayoutModel",
      "state": {}
     },
     "aae001b4906340748d59172b8158c594": {
      "model_module": "@jupyter-widgets/base",
      "model_module_version": "2.0.0",
      "model_name": "LayoutModel",
      "state": {}
     },
     "af259ed80615411585fac0e155577a6a": {
      "model_module": "@jupyter-widgets/controls",
      "model_module_version": "2.0.0",
      "model_name": "CheckboxModel",
      "state": {
       "description": "VPD",
       "disabled": false,
       "layout": "IPY_MODEL_1b4d5911915448c7b99d44b628d58a48",
       "style": "IPY_MODEL_32bdd7b0a7254a3d85307a7a81307773",
       "value": true
      }
     },
     "b43983d666634b6d9bc15ad00b4b8c1f": {
      "model_module": "@jupyter-widgets/controls",
      "model_module_version": "2.0.0",
      "model_name": "CheckboxStyleModel",
      "state": {
       "description_width": ""
      }
     },
     "d6f9f46e9aa74445ac6e175a62362f32": {
      "model_module": "@jupyter-widgets/controls",
      "model_module_version": "2.0.0",
      "model_name": "VBoxModel",
      "state": {
       "_dom_classes": [
        "widget-interact"
       ],
       "children": [
        "IPY_MODEL_29997678760346e49c6b3b7255043a5d",
        "IPY_MODEL_a739c70807cf425a870dbac026163244",
        "IPY_MODEL_483f54df6c8e49e6872d2daad54b5686",
        "IPY_MODEL_55e783e5823844828a2fd81f72385d48",
        "IPY_MODEL_56bff7b4292b4194a45f3e39c02b573b",
        "IPY_MODEL_1f48ec680bed486f904699bde3df110b",
        "IPY_MODEL_af259ed80615411585fac0e155577a6a",
        "IPY_MODEL_8de14a326aa847ec9239e8345ad5bca6",
        "IPY_MODEL_8113bc772eea4c23b67abc66b6ad176e"
       ],
       "layout": "IPY_MODEL_aae001b4906340748d59172b8158c594"
      }
     },
     "d98dd3d0580044c69f82a3cdba5bd1fd": {
      "model_module": "@jupyter-widgets/controls",
      "model_module_version": "2.0.0",
      "model_name": "SliderStyleModel",
      "state": {
       "description_width": ""
      }
     },
     "dc8806a42f5d4a7ab90681b285d1c1fe": {
      "model_module": "@jupyter-widgets/controls",
      "model_module_version": "2.0.0",
      "model_name": "TextStyleModel",
      "state": {
       "description_width": "",
       "font_size": null,
       "text_color": null
      }
     },
     "f8b80913f4534a9192cdb99b58da283b": {
      "model_module": "@jupyter-widgets/base",
      "model_module_version": "2.0.0",
      "model_name": "LayoutModel",
      "state": {}
     },
     "fd514f9d52cf450aa2114cd4fe8ac615": {
      "model_module": "@jupyter-widgets/controls",
      "model_module_version": "2.0.0",
      "model_name": "SliderStyleModel",
      "state": {
       "description_width": ""
      }
     }
    },
    "version_major": 2,
    "version_minor": 0
   }
  }
 },
 "nbformat": 4,
 "nbformat_minor": 5
}
